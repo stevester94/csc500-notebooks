{
 "cells": [
  {
   "cell_type": "markdown",
   "id": "9fea5f46",
   "metadata": {
    "papermill": {
     "duration": 0.019474,
     "end_time": "2022-03-25T13:35:01.566391",
     "exception": false,
     "start_time": "2022-03-25T13:35:01.546917",
     "status": "completed"
    },
    "tags": []
   },
   "source": [
    "# Transfer Learning Template"
   ]
  },
  {
   "cell_type": "code",
   "execution_count": 1,
   "id": "0902182a",
   "metadata": {
    "execution": {
     "iopub.execute_input": "2022-03-25T13:35:01.604440Z",
     "iopub.status.busy": "2022-03-25T13:35:01.604166Z",
     "iopub.status.idle": "2022-03-25T13:35:02.527254Z",
     "shell.execute_reply": "2022-03-25T13:35:02.526735Z"
    },
    "papermill": {
     "duration": 0.947931,
     "end_time": "2022-03-25T13:35:02.527366",
     "exception": false,
     "start_time": "2022-03-25T13:35:01.579435",
     "status": "completed"
    },
    "tags": []
   },
   "outputs": [],
   "source": [
    "%load_ext autoreload\n",
    "%autoreload 2\n",
    "%matplotlib inline\n",
    "\n",
    "    \n",
    "import os, json, sys, time, random\n",
    "import numpy as np\n",
    "import torch\n",
    "from torch.optim import Adam\n",
    "from  easydict import EasyDict\n",
    "import matplotlib.pyplot as plt\n",
    "\n",
    "from steves_models.steves_ptn import Steves_Prototypical_Network\n",
    "\n",
    "from steves_utils.lazy_iterable_wrapper import Lazy_Iterable_Wrapper\n",
    "from steves_utils.iterable_aggregator import Iterable_Aggregator\n",
    "from steves_utils.ptn_train_eval_test_jig import  PTN_Train_Eval_Test_Jig\n",
    "from steves_utils.torch_sequential_builder import build_sequential\n",
    "from steves_utils.torch_utils import get_dataset_metrics, ptn_confusion_by_domain_over_dataloader\n",
    "from steves_utils.utils_v2 import (per_domain_accuracy_from_confusion, get_datasets_base_path)\n",
    "from steves_utils.PTN.utils import independent_accuracy_assesment\n",
    "\n",
    "from torch.utils.data import DataLoader\n",
    "\n",
    "from steves_utils.stratified_dataset.episodic_accessor import Episodic_Accessor_Factory\n",
    "\n",
    "from steves_utils.ptn_do_report import (\n",
    "    get_loss_curve,\n",
    "    get_results_table,\n",
    "    get_parameters_table,\n",
    "    get_domain_accuracies,\n",
    ")\n",
    "\n",
    "from steves_utils.transforms import get_chained_transform"
   ]
  },
  {
   "cell_type": "markdown",
   "id": "41c840b4",
   "metadata": {
    "papermill": {
     "duration": 0.012829,
     "end_time": "2022-03-25T13:35:02.555087",
     "exception": false,
     "start_time": "2022-03-25T13:35:02.542258",
     "status": "completed"
    },
    "tags": []
   },
   "source": [
    "# Allowed Parameters\n",
    "These are allowed parameters, not defaults\n",
    "Each of these values need to be present in the injected parameters (the notebook will raise an exception if they are not present)\n",
    "\n",
    "Papermill uses the cell tag \"parameters\" to inject the real parameters below this cell.\n",
    "Enable tags to see what I mean"
   ]
  },
  {
   "cell_type": "code",
   "execution_count": 2,
   "id": "fd44eb83",
   "metadata": {
    "execution": {
     "iopub.execute_input": "2022-03-25T13:35:02.582687Z",
     "iopub.status.busy": "2022-03-25T13:35:02.582427Z",
     "iopub.status.idle": "2022-03-25T13:35:02.593020Z",
     "shell.execute_reply": "2022-03-25T13:35:02.593391Z"
    },
    "papermill": {
     "duration": 0.025782,
     "end_time": "2022-03-25T13:35:02.593497",
     "exception": false,
     "start_time": "2022-03-25T13:35:02.567715",
     "status": "completed"
    },
    "tags": []
   },
   "outputs": [],
   "source": [
    "required_parameters = {\n",
    "    \"experiment_name\",\n",
    "    \"lr\",\n",
    "    \"device\",\n",
    "    \"seed\",\n",
    "    \"dataset_seed\",\n",
    "    \"n_shot\",\n",
    "    \"n_query\",\n",
    "    \"n_way\",\n",
    "    \"train_k_factor\",\n",
    "    \"val_k_factor\",\n",
    "    \"test_k_factor\",\n",
    "    \"n_epoch\",\n",
    "    \"patience\",\n",
    "    \"criteria_for_best\",\n",
    "    \"x_net\",\n",
    "    \"datasets\",\n",
    "    \"torch_default_dtype\",\n",
    "    \"NUM_LOGS_PER_EPOCH\",\n",
    "    \"BEST_MODEL_PATH\",\n",
    "    \"x_shape\",\n",
    "}"
   ]
  },
  {
   "cell_type": "code",
   "execution_count": 3,
   "id": "fa3f0049",
   "metadata": {
    "execution": {
     "iopub.execute_input": "2022-03-25T13:35:02.628831Z",
     "iopub.status.busy": "2022-03-25T13:35:02.628513Z",
     "iopub.status.idle": "2022-03-25T13:35:02.640622Z",
     "shell.execute_reply": "2022-03-25T13:35:02.640997Z"
    },
    "papermill": {
     "duration": 0.030745,
     "end_time": "2022-03-25T13:35:02.641099",
     "exception": false,
     "start_time": "2022-03-25T13:35:02.610354",
     "status": "completed"
    },
    "tags": [
     "parameters"
    ]
   },
   "outputs": [],
   "source": [
    "from steves_utils.CORES.utils import (\n",
    "    ALL_NODES,\n",
    "    ALL_NODES_MINIMUM_1000_EXAMPLES,\n",
    "    ALL_DAYS\n",
    ")\n",
    "\n",
    "from steves_utils.ORACLE.utils_v2 import (\n",
    "    ALL_DISTANCES_FEET_NARROWED,\n",
    "    ALL_RUNS,\n",
    "    ALL_SERIAL_NUMBERS,\n",
    ")\n",
    "\n",
    "standalone_parameters = {}\n",
    "standalone_parameters[\"experiment_name\"] = \"STANDALONE PTN\"\n",
    "standalone_parameters[\"lr\"] = 0.001\n",
    "standalone_parameters[\"device\"] = \"cuda\"\n",
    "\n",
    "standalone_parameters[\"seed\"] = 1337\n",
    "standalone_parameters[\"dataset_seed\"] = 1337\n",
    "\n",
    "standalone_parameters[\"n_way\"] = 8\n",
    "standalone_parameters[\"n_shot\"] = 3\n",
    "standalone_parameters[\"n_query\"]  = 2\n",
    "standalone_parameters[\"train_k_factor\"] = 1\n",
    "standalone_parameters[\"val_k_factor\"] = 2\n",
    "standalone_parameters[\"test_k_factor\"] = 2\n",
    "\n",
    "\n",
    "standalone_parameters[\"n_epoch\"] = 50\n",
    "\n",
    "standalone_parameters[\"patience\"] = 10\n",
    "standalone_parameters[\"criteria_for_best\"] = \"source_loss\"\n",
    "\n",
    "standalone_parameters[\"datasets\"] = [\n",
    "    {\n",
    "        \"labels\": ALL_SERIAL_NUMBERS,\n",
    "        \"domains\": ALL_DISTANCES_FEET_NARROWED,\n",
    "        \"num_examples_per_domain_per_label\": 100,\n",
    "        \"pickle_path\": os.path.join(get_datasets_base_path(), \"oracle.Run1_framed_2000Examples_stratified_ds.2022A.pkl\"),\n",
    "        \"source_or_target_dataset\": \"source\",\n",
    "        \"x_transforms\": [\"unit_mag\", \"minus_two\"],\n",
    "        \"episode_transforms\": [],\n",
    "        \"domain_prefix\": \"ORACLE_\"\n",
    "    },\n",
    "    {\n",
    "        \"labels\": ALL_NODES,\n",
    "        \"domains\": ALL_DAYS,\n",
    "        \"num_examples_per_domain_per_label\": 100,\n",
    "        \"pickle_path\": os.path.join(get_datasets_base_path(), \"cores.stratified_ds.2022A.pkl\"),\n",
    "        \"source_or_target_dataset\": \"target\",\n",
    "        \"x_transforms\": [\"unit_power\", \"times_zero\"],\n",
    "        \"episode_transforms\": [],\n",
    "        \"domain_prefix\": \"CORES_\"\n",
    "    }   \n",
    "]\n",
    "\n",
    "standalone_parameters[\"torch_default_dtype\"] = \"torch.float32\" \n",
    "\n",
    "\n",
    "\n",
    "standalone_parameters[\"x_net\"] =     [\n",
    "    {\"class\": \"nnReshape\", \"kargs\": {\"shape\":[-1, 1, 2, 256]}},\n",
    "    {\"class\": \"Conv2d\", \"kargs\": { \"in_channels\":1, \"out_channels\":256, \"kernel_size\":(1,7), \"bias\":False, \"padding\":(0,3), },},\n",
    "    {\"class\": \"ReLU\", \"kargs\": {\"inplace\": True}},\n",
    "    {\"class\": \"BatchNorm2d\", \"kargs\": {\"num_features\":256}},\n",
    "\n",
    "    {\"class\": \"Conv2d\", \"kargs\": { \"in_channels\":256, \"out_channels\":80, \"kernel_size\":(2,7), \"bias\":True, \"padding\":(0,3), },},\n",
    "    {\"class\": \"ReLU\", \"kargs\": {\"inplace\": True}},\n",
    "    {\"class\": \"BatchNorm2d\", \"kargs\": {\"num_features\":80}},\n",
    "    {\"class\": \"Flatten\", \"kargs\": {}},\n",
    "\n",
    "    {\"class\": \"Linear\", \"kargs\": {\"in_features\": 80*256, \"out_features\": 256}}, # 80 units per IQ pair\n",
    "    {\"class\": \"ReLU\", \"kargs\": {\"inplace\": True}},\n",
    "    {\"class\": \"BatchNorm1d\", \"kargs\": {\"num_features\":256}},\n",
    "\n",
    "    {\"class\": \"Linear\", \"kargs\": {\"in_features\": 256, \"out_features\": 256}},\n",
    "]\n",
    "\n",
    "# Parameters relevant to results\n",
    "# These parameters will basically never need to change\n",
    "standalone_parameters[\"NUM_LOGS_PER_EPOCH\"] = 10\n",
    "standalone_parameters[\"BEST_MODEL_PATH\"] = \"./best_model.pth\"\n",
    "\n",
    "\n",
    "\n",
    "\n"
   ]
  },
  {
   "cell_type": "code",
   "execution_count": 4,
   "id": "d6197431",
   "metadata": {
    "execution": {
     "iopub.execute_input": "2022-03-25T13:35:02.681542Z",
     "iopub.status.busy": "2022-03-25T13:35:02.672491Z",
     "iopub.status.idle": "2022-03-25T13:35:02.692989Z",
     "shell.execute_reply": "2022-03-25T13:35:02.693360Z"
    },
    "papermill": {
     "duration": 0.035105,
     "end_time": "2022-03-25T13:35:02.693462",
     "exception": false,
     "start_time": "2022-03-25T13:35:02.658357",
     "status": "completed"
    },
    "tags": [
     "injected-parameters"
    ]
   },
   "outputs": [],
   "source": [
    "# Parameters\n",
    "parameters = {\n",
    "    \"experiment_name\": \"tl_3Av2:oracle.run1.framed -> cores\",\n",
    "    \"device\": \"cuda\",\n",
    "    \"lr\": 0.0001,\n",
    "    \"x_shape\": [2, 200],\n",
    "    \"n_shot\": 3,\n",
    "    \"n_query\": 2,\n",
    "    \"train_k_factor\": 3,\n",
    "    \"val_k_factor\": 2,\n",
    "    \"test_k_factor\": 2,\n",
    "    \"torch_default_dtype\": \"torch.float32\",\n",
    "    \"n_epoch\": 50,\n",
    "    \"patience\": 3,\n",
    "    \"criteria_for_best\": \"target_accuracy\",\n",
    "    \"x_net\": [\n",
    "        {\"class\": \"nnReshape\", \"kargs\": {\"shape\": [-1, 1, 2, 200]}},\n",
    "        {\n",
    "            \"class\": \"Conv2d\",\n",
    "            \"kargs\": {\n",
    "                \"in_channels\": 1,\n",
    "                \"out_channels\": 256,\n",
    "                \"kernel_size\": [1, 7],\n",
    "                \"bias\": False,\n",
    "                \"padding\": [0, 3],\n",
    "            },\n",
    "        },\n",
    "        {\"class\": \"ReLU\", \"kargs\": {\"inplace\": True}},\n",
    "        {\"class\": \"BatchNorm2d\", \"kargs\": {\"num_features\": 256}},\n",
    "        {\n",
    "            \"class\": \"Conv2d\",\n",
    "            \"kargs\": {\n",
    "                \"in_channels\": 256,\n",
    "                \"out_channels\": 80,\n",
    "                \"kernel_size\": [2, 7],\n",
    "                \"bias\": True,\n",
    "                \"padding\": [0, 3],\n",
    "            },\n",
    "        },\n",
    "        {\"class\": \"ReLU\", \"kargs\": {\"inplace\": True}},\n",
    "        {\"class\": \"BatchNorm2d\", \"kargs\": {\"num_features\": 80}},\n",
    "        {\"class\": \"Flatten\", \"kargs\": {}},\n",
    "        {\"class\": \"Linear\", \"kargs\": {\"in_features\": 16000, \"out_features\": 256}},\n",
    "        {\"class\": \"ReLU\", \"kargs\": {\"inplace\": True}},\n",
    "        {\"class\": \"BatchNorm1d\", \"kargs\": {\"num_features\": 256}},\n",
    "        {\"class\": \"Linear\", \"kargs\": {\"in_features\": 256, \"out_features\": 256}},\n",
    "    ],\n",
    "    \"NUM_LOGS_PER_EPOCH\": 10,\n",
    "    \"BEST_MODEL_PATH\": \"./best_model.pth\",\n",
    "    \"n_way\": 16,\n",
    "    \"datasets\": [\n",
    "        {\n",
    "            \"labels\": [\n",
    "                \"1-10.\",\n",
    "                \"1-11.\",\n",
    "                \"1-15.\",\n",
    "                \"1-16.\",\n",
    "                \"1-17.\",\n",
    "                \"1-18.\",\n",
    "                \"1-19.\",\n",
    "                \"10-4.\",\n",
    "                \"10-7.\",\n",
    "                \"11-1.\",\n",
    "                \"11-14.\",\n",
    "                \"11-17.\",\n",
    "                \"11-20.\",\n",
    "                \"11-7.\",\n",
    "                \"13-20.\",\n",
    "                \"13-8.\",\n",
    "                \"14-10.\",\n",
    "                \"14-11.\",\n",
    "                \"14-14.\",\n",
    "                \"14-7.\",\n",
    "                \"15-1.\",\n",
    "                \"15-20.\",\n",
    "                \"16-1.\",\n",
    "                \"16-16.\",\n",
    "                \"17-10.\",\n",
    "                \"17-11.\",\n",
    "                \"17-2.\",\n",
    "                \"19-1.\",\n",
    "                \"19-16.\",\n",
    "                \"19-19.\",\n",
    "                \"19-20.\",\n",
    "                \"19-3.\",\n",
    "                \"2-10.\",\n",
    "                \"2-11.\",\n",
    "                \"2-17.\",\n",
    "                \"2-18.\",\n",
    "                \"2-20.\",\n",
    "                \"2-3.\",\n",
    "                \"2-4.\",\n",
    "                \"2-5.\",\n",
    "                \"2-6.\",\n",
    "                \"2-7.\",\n",
    "                \"2-8.\",\n",
    "                \"3-13.\",\n",
    "                \"3-18.\",\n",
    "                \"3-3.\",\n",
    "                \"4-1.\",\n",
    "                \"4-10.\",\n",
    "                \"4-11.\",\n",
    "                \"4-19.\",\n",
    "                \"5-5.\",\n",
    "                \"6-15.\",\n",
    "                \"7-10.\",\n",
    "                \"7-14.\",\n",
    "                \"8-18.\",\n",
    "                \"8-20.\",\n",
    "                \"8-3.\",\n",
    "                \"8-8.\",\n",
    "            ],\n",
    "            \"domains\": [1, 2, 3, 4, 5],\n",
    "            \"num_examples_per_domain_per_label\": -1,\n",
    "            \"pickle_path\": \"/mnt/wd500GB/CSC500/csc500-main/datasets/cores.stratified_ds.2022A.pkl\",\n",
    "            \"source_or_target_dataset\": \"target\",\n",
    "            \"x_transforms\": [\"unit_power\", \"take_200\"],\n",
    "            \"episode_transforms\": [],\n",
    "            \"domain_prefix\": \"C_\",\n",
    "        },\n",
    "        {\n",
    "            \"labels\": [\n",
    "                \"3123D52\",\n",
    "                \"3123D65\",\n",
    "                \"3123D79\",\n",
    "                \"3123D80\",\n",
    "                \"3123D54\",\n",
    "                \"3123D70\",\n",
    "                \"3123D7B\",\n",
    "                \"3123D89\",\n",
    "                \"3123D58\",\n",
    "                \"3123D76\",\n",
    "                \"3123D7D\",\n",
    "                \"3123EFE\",\n",
    "                \"3123D64\",\n",
    "                \"3123D78\",\n",
    "                \"3123D7E\",\n",
    "                \"3124E4A\",\n",
    "            ],\n",
    "            \"domains\": [32, 38, 8, 44, 14, 50, 20, 26],\n",
    "            \"num_examples_per_domain_per_label\": 2000,\n",
    "            \"pickle_path\": \"/mnt/wd500GB/CSC500/csc500-main/datasets/oracle.Run1_framed_2000Examples_stratified_ds.2022A.pkl\",\n",
    "            \"source_or_target_dataset\": \"source\",\n",
    "            \"x_transforms\": [\"unit_power\", \"take_200\", \"resample_20Msps_to_25Msps\"],\n",
    "            \"episode_transforms\": [],\n",
    "            \"domain_prefix\": \"O_\",\n",
    "        },\n",
    "    ],\n",
    "    \"seed\": 500,\n",
    "    \"dataset_seed\": 500,\n",
    "}\n"
   ]
  },
  {
   "cell_type": "code",
   "execution_count": 5,
   "id": "8fa1cc33",
   "metadata": {
    "execution": {
     "iopub.execute_input": "2022-03-25T13:35:02.725744Z",
     "iopub.status.busy": "2022-03-25T13:35:02.725451Z",
     "iopub.status.idle": "2022-03-25T13:35:02.736504Z",
     "shell.execute_reply": "2022-03-25T13:35:02.736157Z"
    },
    "papermill": {
     "duration": 0.026155,
     "end_time": "2022-03-25T13:35:02.736572",
     "exception": false,
     "start_time": "2022-03-25T13:35:02.710417",
     "status": "completed"
    },
    "tags": []
   },
   "outputs": [],
   "source": [
    "# Set this to True if you want to run this template directly\n",
    "STANDALONE = False\n",
    "if STANDALONE:\n",
    "    print(\"parameters not injected, running with standalone_parameters\")\n",
    "    parameters = standalone_parameters\n",
    "\n",
    "if not 'parameters' in locals() and not 'parameters' in globals():\n",
    "    raise Exception(\"Parameter injection failed\")\n",
    "\n",
    "#Use an easy dict for all the parameters\n",
    "p = EasyDict(parameters)\n",
    "\n",
    "if \"x_shape\" not in p:\n",
    "    p.x_shape = [2,256] # Default to this if we dont supply x_shape\n",
    "\n",
    "\n",
    "supplied_keys = set(p.keys())\n",
    "\n",
    "if  supplied_keys != required_parameters:\n",
    "    print(\"Parameters are incorrect\")\n",
    "    if len(supplied_keys - required_parameters)>0: print(\"Shouldn't have:\", str(supplied_keys - required_parameters))\n",
    "    if len(required_parameters - supplied_keys)>0: print(\"Need to have:\", str(required_parameters - supplied_keys))\n",
    "    raise RuntimeError(\"Parameters are incorrect\")"
   ]
  },
  {
   "cell_type": "code",
   "execution_count": 6,
   "id": "3a028d58",
   "metadata": {
    "execution": {
     "iopub.execute_input": "2022-03-25T13:35:02.769343Z",
     "iopub.status.busy": "2022-03-25T13:35:02.768777Z",
     "iopub.status.idle": "2022-03-25T13:35:02.779384Z",
     "shell.execute_reply": "2022-03-25T13:35:02.779118Z"
    },
    "papermill": {
     "duration": 0.025743,
     "end_time": "2022-03-25T13:35:02.779473",
     "exception": false,
     "start_time": "2022-03-25T13:35:02.753730",
     "status": "completed"
    },
    "tags": []
   },
   "outputs": [],
   "source": [
    "###################################\n",
    "# Set the RNGs and make it all deterministic\n",
    "###################################\n",
    "np.random.seed(p.seed)\n",
    "random.seed(p.seed)\n",
    "torch.manual_seed(p.seed)\n",
    "\n",
    "torch.use_deterministic_algorithms(True) "
   ]
  },
  {
   "cell_type": "code",
   "execution_count": 7,
   "id": "b691acf6",
   "metadata": {
    "execution": {
     "iopub.execute_input": "2022-03-25T13:35:02.812052Z",
     "iopub.status.busy": "2022-03-25T13:35:02.811806Z",
     "iopub.status.idle": "2022-03-25T13:35:02.828235Z",
     "shell.execute_reply": "2022-03-25T13:35:02.827728Z"
    },
    "papermill": {
     "duration": 0.030879,
     "end_time": "2022-03-25T13:35:02.828334",
     "exception": false,
     "start_time": "2022-03-25T13:35:02.797455",
     "status": "completed"
    },
    "tags": []
   },
   "outputs": [],
   "source": [
    "###########################################\n",
    "# The stratified datasets honor this\n",
    "###########################################\n",
    "torch.set_default_dtype(eval(p.torch_default_dtype))"
   ]
  },
  {
   "cell_type": "code",
   "execution_count": 8,
   "id": "b5fba671",
   "metadata": {
    "execution": {
     "iopub.execute_input": "2022-03-25T13:35:02.861035Z",
     "iopub.status.busy": "2022-03-25T13:35:02.860790Z",
     "iopub.status.idle": "2022-03-25T13:35:02.894942Z",
     "shell.execute_reply": "2022-03-25T13:35:02.894499Z"
    },
    "papermill": {
     "duration": 0.048651,
     "end_time": "2022-03-25T13:35:02.895029",
     "exception": false,
     "start_time": "2022-03-25T13:35:02.846378",
     "status": "completed"
    },
    "tags": []
   },
   "outputs": [],
   "source": [
    "###################################\n",
    "# Build the network(s)\n",
    "# Note: It's critical to do this AFTER setting the RNG\n",
    "###################################\n",
    "x_net = build_sequential(p.x_net)"
   ]
  },
  {
   "cell_type": "code",
   "execution_count": 9,
   "id": "5d7e61cc",
   "metadata": {
    "execution": {
     "iopub.execute_input": "2022-03-25T13:35:02.928496Z",
     "iopub.status.busy": "2022-03-25T13:35:02.928251Z",
     "iopub.status.idle": "2022-03-25T13:35:02.942744Z",
     "shell.execute_reply": "2022-03-25T13:35:02.942469Z"
    },
    "papermill": {
     "duration": 0.029702,
     "end_time": "2022-03-25T13:35:02.942834",
     "exception": false,
     "start_time": "2022-03-25T13:35:02.913132",
     "status": "completed"
    },
    "tags": []
   },
   "outputs": [],
   "source": [
    "start_time_secs = time.time()"
   ]
  },
  {
   "cell_type": "code",
   "execution_count": 10,
   "id": "c6b67dfd",
   "metadata": {
    "execution": {
     "iopub.execute_input": "2022-03-25T13:35:02.976820Z",
     "iopub.status.busy": "2022-03-25T13:35:02.976567Z",
     "iopub.status.idle": "2022-03-25T13:35:02.991191Z",
     "shell.execute_reply": "2022-03-25T13:35:02.990803Z"
    },
    "papermill": {
     "duration": 0.030168,
     "end_time": "2022-03-25T13:35:02.991277",
     "exception": false,
     "start_time": "2022-03-25T13:35:02.961109",
     "status": "completed"
    },
    "tags": []
   },
   "outputs": [],
   "source": [
    "p.domains_source = []\n",
    "p.domains_target = []\n",
    "\n",
    "\n",
    "train_original_source = []\n",
    "val_original_source   = []\n",
    "test_original_source  = []\n",
    "\n",
    "train_original_target = []\n",
    "val_original_target   = []\n",
    "test_original_target  = []"
   ]
  },
  {
   "cell_type": "code",
   "execution_count": 11,
   "id": "e3d9c3d3",
   "metadata": {
    "execution": {
     "iopub.execute_input": "2022-03-25T13:35:03.024253Z",
     "iopub.status.busy": "2022-03-25T13:35:03.024005Z",
     "iopub.status.idle": "2022-03-25T13:35:03.037901Z",
     "shell.execute_reply": "2022-03-25T13:35:03.037513Z"
    },
    "papermill": {
     "duration": 0.028578,
     "end_time": "2022-03-25T13:35:03.037988",
     "exception": false,
     "start_time": "2022-03-25T13:35:03.009410",
     "status": "completed"
    },
    "tags": []
   },
   "outputs": [],
   "source": [
    "# global_x_transform_func = lambda x: normalize(x.to(torch.get_default_dtype()), \"unit_power\") # unit_power, unit_mag\n",
    "# global_x_transform_func = lambda x: normalize(x, \"unit_power\") # unit_power, unit_mag"
   ]
  },
  {
   "cell_type": "code",
   "execution_count": 12,
   "id": "acb78fd2",
   "metadata": {
    "execution": {
     "iopub.execute_input": "2022-03-25T13:35:03.077926Z",
     "iopub.status.busy": "2022-03-25T13:35:03.077669Z",
     "iopub.status.idle": "2022-03-25T13:35:03.088924Z",
     "shell.execute_reply": "2022-03-25T13:35:03.089291Z"
    },
    "papermill": {
     "duration": 0.032483,
     "end_time": "2022-03-25T13:35:03.089392",
     "exception": false,
     "start_time": "2022-03-25T13:35:03.056909",
     "status": "completed"
    },
    "tags": []
   },
   "outputs": [],
   "source": [
    "def add_dataset(\n",
    "    labels,\n",
    "    domains,\n",
    "    pickle_path,\n",
    "    x_transforms,\n",
    "    episode_transforms,\n",
    "    domain_prefix,\n",
    "    num_examples_per_domain_per_label,\n",
    "    source_or_target_dataset:str,\n",
    "    iterator_seed=p.seed,\n",
    "    dataset_seed=p.dataset_seed,\n",
    "    n_shot=p.n_shot,\n",
    "    n_way=p.n_way,\n",
    "    n_query=p.n_query,\n",
    "    train_val_test_k_factors=(p.train_k_factor,p.val_k_factor,p.test_k_factor),\n",
    "):\n",
    "   \n",
    "    if x_transforms == []: x_transform = None\n",
    "    else: x_transform = get_chained_transform(x_transforms)\n",
    "    \n",
    "    if episode_transforms == []: episode_transform = None\n",
    "    else: raise Exception(\"episode_transforms not implemented\")\n",
    "    \n",
    "    episode_transform = lambda tup, _prefix=domain_prefix: (_prefix + str(tup[0]), tup[1])\n",
    "\n",
    "\n",
    "    eaf = Episodic_Accessor_Factory(\n",
    "        labels=labels,\n",
    "        domains=domains,\n",
    "        num_examples_per_domain_per_label=num_examples_per_domain_per_label,\n",
    "        iterator_seed=iterator_seed,\n",
    "        dataset_seed=dataset_seed,\n",
    "        n_shot=n_shot,\n",
    "        n_way=n_way,\n",
    "        n_query=n_query,\n",
    "        train_val_test_k_factors=train_val_test_k_factors,\n",
    "        pickle_path=pickle_path,\n",
    "        x_transform_func=x_transform,\n",
    "    )\n",
    "\n",
    "    train, val, test = eaf.get_train(), eaf.get_val(), eaf.get_test()\n",
    "    train = Lazy_Iterable_Wrapper(train, episode_transform)\n",
    "    val = Lazy_Iterable_Wrapper(val, episode_transform)\n",
    "    test = Lazy_Iterable_Wrapper(test, episode_transform)\n",
    "\n",
    "    if source_or_target_dataset==\"source\":\n",
    "        train_original_source.append(train)\n",
    "        val_original_source.append(val)\n",
    "        test_original_source.append(test)\n",
    "\n",
    "        p.domains_source.extend(\n",
    "            [domain_prefix + str(u) for u in domains]\n",
    "        )\n",
    "    elif source_or_target_dataset==\"target\":\n",
    "        train_original_target.append(train)\n",
    "        val_original_target.append(val)\n",
    "        test_original_target.append(test)\n",
    "        p.domains_target.extend(\n",
    "            [domain_prefix + str(u) for u in domains]\n",
    "        )\n",
    "    else:\n",
    "        raise Exception(f\"invalid source_or_target_dataset: {source_or_target_dataset}\")\n",
    "    "
   ]
  },
  {
   "cell_type": "code",
   "execution_count": 13,
   "id": "fe266617",
   "metadata": {
    "execution": {
     "iopub.execute_input": "2022-03-25T13:35:03.122349Z",
     "iopub.status.busy": "2022-03-25T13:35:03.122098Z",
     "iopub.status.idle": "2022-03-25T13:35:52.908615Z",
     "shell.execute_reply": "2022-03-25T13:35:52.908127Z"
    },
    "papermill": {
     "duration": 49.801938,
     "end_time": "2022-03-25T13:35:52.908719",
     "exception": false,
     "start_time": "2022-03-25T13:35:03.106781",
     "status": "completed"
    },
    "tags": []
   },
   "outputs": [],
   "source": [
    "for ds in p.datasets:\n",
    "    add_dataset(**ds)"
   ]
  },
  {
   "cell_type": "code",
   "execution_count": 14,
   "id": "b90d65ac",
   "metadata": {
    "execution": {
     "iopub.execute_input": "2022-03-25T13:35:52.944989Z",
     "iopub.status.busy": "2022-03-25T13:35:52.944480Z",
     "iopub.status.idle": "2022-03-25T13:35:52.958696Z",
     "shell.execute_reply": "2022-03-25T13:35:52.958285Z"
    },
    "papermill": {
     "duration": 0.029854,
     "end_time": "2022-03-25T13:35:52.958789",
     "exception": false,
     "start_time": "2022-03-25T13:35:52.928935",
     "status": "completed"
    },
    "tags": []
   },
   "outputs": [],
   "source": [
    "# from steves_utils.CORES.utils import (\n",
    "#     ALL_NODES,\n",
    "#     ALL_NODES_MINIMUM_1000_EXAMPLES,\n",
    "#     ALL_DAYS\n",
    "# )\n",
    "\n",
    "# add_dataset(\n",
    "#     labels=ALL_NODES,\n",
    "#     domains = ALL_DAYS,\n",
    "#     num_examples_per_domain_per_label=100,\n",
    "#     pickle_path=os.path.join(get_datasets_base_path(), \"cores.stratified_ds.2022A.pkl\"),\n",
    "#     source_or_target_dataset=\"target\",\n",
    "#     x_transform_func=global_x_transform_func,\n",
    "#     domain_modifier=lambda u: f\"cores_{u}\"\n",
    "# )"
   ]
  },
  {
   "cell_type": "code",
   "execution_count": 15,
   "id": "76db484d",
   "metadata": {
    "execution": {
     "iopub.execute_input": "2022-03-25T13:35:52.992003Z",
     "iopub.status.busy": "2022-03-25T13:35:52.991749Z",
     "iopub.status.idle": "2022-03-25T13:35:53.005314Z",
     "shell.execute_reply": "2022-03-25T13:35:53.004940Z"
    },
    "papermill": {
     "duration": 0.029136,
     "end_time": "2022-03-25T13:35:53.005402",
     "exception": false,
     "start_time": "2022-03-25T13:35:52.976266",
     "status": "completed"
    },
    "tags": []
   },
   "outputs": [],
   "source": [
    "# from steves_utils.ORACLE.utils_v2 import (\n",
    "#     ALL_DISTANCES_FEET,\n",
    "#     ALL_RUNS,\n",
    "#     ALL_SERIAL_NUMBERS,\n",
    "# )\n",
    "\n",
    "\n",
    "# add_dataset(\n",
    "#     labels=ALL_SERIAL_NUMBERS,\n",
    "#     domains = list(set(ALL_DISTANCES_FEET) - {2,62}),\n",
    "#     num_examples_per_domain_per_label=100,\n",
    "#     pickle_path=os.path.join(get_datasets_base_path(), \"oracle.Run2_framed_2000Examples_stratified_ds.2022A.pkl\"),\n",
    "#     source_or_target_dataset=\"source\",\n",
    "#     x_transform_func=global_x_transform_func,\n",
    "#     domain_modifier=lambda u: f\"oracle1_{u}\"\n",
    "# )\n"
   ]
  },
  {
   "cell_type": "code",
   "execution_count": 16,
   "id": "97dea9d2",
   "metadata": {
    "execution": {
     "iopub.execute_input": "2022-03-25T13:35:53.036068Z",
     "iopub.status.busy": "2022-03-25T13:35:53.035812Z",
     "iopub.status.idle": "2022-03-25T13:35:53.046018Z",
     "shell.execute_reply": "2022-03-25T13:35:53.045621Z"
    },
    "papermill": {
     "duration": 0.025227,
     "end_time": "2022-03-25T13:35:53.046106",
     "exception": false,
     "start_time": "2022-03-25T13:35:53.020879",
     "status": "completed"
    },
    "tags": []
   },
   "outputs": [],
   "source": [
    "# from steves_utils.ORACLE.utils_v2 import (\n",
    "#     ALL_DISTANCES_FEET,\n",
    "#     ALL_RUNS,\n",
    "#     ALL_SERIAL_NUMBERS,\n",
    "# )\n",
    "\n",
    "\n",
    "# add_dataset(\n",
    "#     labels=ALL_SERIAL_NUMBERS,\n",
    "#     domains = list(set(ALL_DISTANCES_FEET) - {2,62,56}),\n",
    "#     num_examples_per_domain_per_label=100,\n",
    "#     pickle_path=os.path.join(get_datasets_base_path(), \"oracle.Run2_framed_2000Examples_stratified_ds.2022A.pkl\"),\n",
    "#     source_or_target_dataset=\"source\",\n",
    "#     x_transform_func=global_x_transform_func,\n",
    "#     domain_modifier=lambda u: f\"oracle2_{u}\"\n",
    "# )"
   ]
  },
  {
   "cell_type": "code",
   "execution_count": 17,
   "id": "6f289866",
   "metadata": {
    "execution": {
     "iopub.execute_input": "2022-03-25T13:35:53.076997Z",
     "iopub.status.busy": "2022-03-25T13:35:53.076748Z",
     "iopub.status.idle": "2022-03-25T13:35:53.086521Z",
     "shell.execute_reply": "2022-03-25T13:35:53.086216Z"
    },
    "papermill": {
     "duration": 0.024959,
     "end_time": "2022-03-25T13:35:53.086589",
     "exception": false,
     "start_time": "2022-03-25T13:35:53.061630",
     "status": "completed"
    },
    "tags": []
   },
   "outputs": [],
   "source": [
    "# add_dataset(\n",
    "#     labels=list(range(19)),\n",
    "#     domains = [0,1,2],\n",
    "#     num_examples_per_domain_per_label=100,\n",
    "#     pickle_path=os.path.join(get_datasets_base_path(), \"metehan.stratified_ds.2022A.pkl\"),\n",
    "#     source_or_target_dataset=\"target\",\n",
    "#     x_transform_func=global_x_transform_func,\n",
    "#     domain_modifier=lambda u: f\"met_{u}\"\n",
    "# )"
   ]
  },
  {
   "cell_type": "code",
   "execution_count": 18,
   "id": "86a863c3",
   "metadata": {
    "execution": {
     "iopub.execute_input": "2022-03-25T13:35:53.118147Z",
     "iopub.status.busy": "2022-03-25T13:35:53.117879Z",
     "iopub.status.idle": "2022-03-25T13:35:53.127775Z",
     "shell.execute_reply": "2022-03-25T13:35:53.127471Z"
    },
    "papermill": {
     "duration": 0.02529,
     "end_time": "2022-03-25T13:35:53.127844",
     "exception": false,
     "start_time": "2022-03-25T13:35:53.102554",
     "status": "completed"
    },
    "tags": []
   },
   "outputs": [],
   "source": [
    "# # from steves_utils.wisig.utils import (\n",
    "# #     ALL_NODES_MINIMUM_100_EXAMPLES,\n",
    "# #     ALL_NODES_MINIMUM_500_EXAMPLES,\n",
    "# #     ALL_NODES_MINIMUM_1000_EXAMPLES,\n",
    "# #     ALL_DAYS\n",
    "# # )\n",
    "\n",
    "# import steves_utils.wisig.utils as wisig\n",
    "\n",
    "\n",
    "# add_dataset(\n",
    "#     labels=wisig.ALL_NODES_MINIMUM_100_EXAMPLES,\n",
    "#     domains = wisig.ALL_DAYS,\n",
    "#     num_examples_per_domain_per_label=100,\n",
    "#     pickle_path=os.path.join(get_datasets_base_path(), \"wisig.node3-19.stratified_ds.2022A.pkl\"),\n",
    "#     source_or_target_dataset=\"target\",\n",
    "#     x_transform_func=global_x_transform_func,\n",
    "#     domain_modifier=lambda u: f\"wisig_{u}\"\n",
    "# )"
   ]
  },
  {
   "cell_type": "code",
   "execution_count": 19,
   "id": "fd5442bc",
   "metadata": {
    "execution": {
     "iopub.execute_input": "2022-03-25T13:35:53.159923Z",
     "iopub.status.busy": "2022-03-25T13:35:53.159620Z",
     "iopub.status.idle": "2022-03-25T13:35:53.171052Z",
     "shell.execute_reply": "2022-03-25T13:35:53.170705Z"
    },
    "papermill": {
     "duration": 0.027728,
     "end_time": "2022-03-25T13:35:53.171120",
     "exception": false,
     "start_time": "2022-03-25T13:35:53.143392",
     "status": "completed"
    },
    "tags": []
   },
   "outputs": [],
   "source": [
    "###################################\n",
    "# Build the dataset\n",
    "###################################\n",
    "train_original_source = Iterable_Aggregator(train_original_source, p.seed)\n",
    "val_original_source = Iterable_Aggregator(val_original_source, p.seed)\n",
    "test_original_source = Iterable_Aggregator(test_original_source, p.seed)\n",
    "\n",
    "\n",
    "train_original_target = Iterable_Aggregator(train_original_target, p.seed)\n",
    "val_original_target = Iterable_Aggregator(val_original_target, p.seed)\n",
    "test_original_target = Iterable_Aggregator(test_original_target, p.seed)\n",
    "\n",
    "# For CNN We only use X and Y. And we only train on the source.\n",
    "# Properly form the data using a transform lambda and Lazy_Iterable_Wrapper. Finally wrap them in a dataloader\n",
    "\n",
    "transform_lambda = lambda ex: ex[1] # Original is (<domain>, <episode>) so we strip down to episode only\n",
    "\n",
    "train_processed_source = Lazy_Iterable_Wrapper(train_original_source, transform_lambda)\n",
    "val_processed_source   = Lazy_Iterable_Wrapper(val_original_source, transform_lambda)\n",
    "test_processed_source  = Lazy_Iterable_Wrapper(test_original_source, transform_lambda)\n",
    "\n",
    "train_processed_target = Lazy_Iterable_Wrapper(train_original_target, transform_lambda)\n",
    "val_processed_target   = Lazy_Iterable_Wrapper(val_original_target, transform_lambda)\n",
    "test_processed_target  = Lazy_Iterable_Wrapper(test_original_target, transform_lambda)\n",
    "\n",
    "datasets = EasyDict({\n",
    "    \"source\": {\n",
    "        \"original\": {\"train\":train_original_source, \"val\":val_original_source, \"test\":test_original_source},\n",
    "        \"processed\": {\"train\":train_processed_source, \"val\":val_processed_source, \"test\":test_processed_source}\n",
    "    },\n",
    "    \"target\": {\n",
    "        \"original\": {\"train\":train_original_target, \"val\":val_original_target, \"test\":test_original_target},\n",
    "        \"processed\": {\"train\":train_processed_target, \"val\":val_processed_target, \"test\":test_processed_target}\n",
    "    },\n",
    "})"
   ]
  },
  {
   "cell_type": "code",
   "execution_count": 20,
   "id": "5b3c01fc",
   "metadata": {
    "execution": {
     "iopub.execute_input": "2022-03-25T13:35:53.206673Z",
     "iopub.status.busy": "2022-03-25T13:35:53.206416Z",
     "iopub.status.idle": "2022-03-25T13:35:59.453883Z",
     "shell.execute_reply": "2022-03-25T13:35:59.453535Z"
    },
    "papermill": {
     "duration": 6.263803,
     "end_time": "2022-03-25T13:35:59.453968",
     "exception": false,
     "start_time": "2022-03-25T13:35:53.190165",
     "status": "completed"
    },
    "tags": []
   },
   "outputs": [
    {
     "name": "stdout",
     "output_type": "stream",
     "text": [
      "{'O_32', 'O_50', 'O_8', 'O_14', 'O_26', 'O_44', 'O_38', 'O_20'}\n"
     ]
    },
    {
     "name": "stdout",
     "output_type": "stream",
     "text": [
      "{'C_1', 'C_4', 'C_5', 'C_2', 'C_3'}\n"
     ]
    },
    {
     "name": "stdout",
     "output_type": "stream",
     "text": [
      "tensor([[[ 0.5198,  1.1449, -0.2691,  ...,  0.3874, -0.0754,  1.0247],\n",
      "         [-0.4024,  0.2823,  0.3043,  ...,  0.6146,  1.0491,  0.1623]],\n",
      "\n",
      "        [[ 0.1027,  1.2815,  0.2340,  ...,  0.3532,  0.0416,  1.0866],\n",
      "         [-0.6504, -0.1179,  0.5017,  ...,  0.4043,  1.2002,  0.1812]],\n",
      "\n",
      "        [[-0.9810, -0.0956,  1.4581,  ...,  0.2201, -0.9534, -1.2017],\n",
      "         [-0.2926, -0.3228,  0.0158,  ..., -0.9782, -0.7513, -0.7499]],\n",
      "\n",
      "        ...,\n",
      "\n",
      "        [[-0.3346,  0.1680,  0.4490,  ...,  0.6284,  1.2521,  0.6054],\n",
      "         [-0.2738, -1.2222, -0.0977,  ..., -0.8729,  0.1431, -0.5193]],\n",
      "\n",
      "        [[ 0.5496, -0.2679, -0.7192,  ..., -0.7918, -0.9739, -0.0442],\n",
      "         [ 0.8764,  1.2566, -0.4588,  ...,  0.1913, -0.0889,  1.0308]],\n",
      "\n",
      "        [[ 0.4343, -0.4974, -0.8497,  ..., -1.0668, -0.9120, -0.2790],\n",
      "         [ 1.0183,  1.2228, -0.6890,  ...,  0.1524,  0.2036,  1.3888]]])\n"
     ]
    }
   ],
   "source": [
    "from steves_utils.transforms import get_average_magnitude, get_average_power\n",
    "\n",
    "print(set([u for u,_ in val_original_source]))\n",
    "print(set([u for u,_ in val_original_target]))\n",
    "\n",
    "s_x, s_y, q_x, q_y, _ = next(iter(train_processed_source))\n",
    "print(s_x)\n",
    "\n",
    "# for ds in [\n",
    "#     train_processed_source,\n",
    "#     val_processed_source,\n",
    "#     test_processed_source,\n",
    "#     train_processed_target,\n",
    "#     val_processed_target,\n",
    "#     test_processed_target\n",
    "# ]:\n",
    "#     for s_x, s_y, q_x, q_y, _ in ds:\n",
    "#         for X in (s_x, q_x):\n",
    "#             for x in X:\n",
    "#                 assert np.isclose(get_average_magnitude(x.numpy()), 1.0)\n",
    "#                 assert np.isclose(get_average_power(x.numpy()), 1.0)\n",
    "                "
   ]
  },
  {
   "cell_type": "code",
   "execution_count": 21,
   "id": "bbdacba1",
   "metadata": {
    "execution": {
     "iopub.execute_input": "2022-03-25T13:35:59.493142Z",
     "iopub.status.busy": "2022-03-25T13:35:59.492416Z",
     "iopub.status.idle": "2022-03-25T13:35:59.542319Z",
     "shell.execute_reply": "2022-03-25T13:35:59.542693Z"
    },
    "papermill": {
     "duration": 0.067594,
     "end_time": "2022-03-25T13:35:59.542811",
     "exception": false,
     "start_time": "2022-03-25T13:35:59.475217",
     "status": "completed"
    },
    "tags": []
   },
   "outputs": [
    {
     "name": "stdout",
     "output_type": "stream",
     "text": [
      "(2, 200)\n"
     ]
    }
   ],
   "source": [
    "###################################\n",
    "# Build the model\n",
    "###################################\n",
    "# easfsl only wants a tuple for the shape\n",
    "model = Steves_Prototypical_Network(x_net, device=p.device, x_shape=tuple(p.x_shape))\n",
    "optimizer = Adam(params=model.parameters(), lr=p.lr)"
   ]
  },
  {
   "cell_type": "code",
   "execution_count": 22,
   "id": "22b39ac5",
   "metadata": {
    "execution": {
     "iopub.execute_input": "2022-03-25T13:35:59.578574Z",
     "iopub.status.busy": "2022-03-25T13:35:59.578292Z",
     "iopub.status.idle": "2022-03-25T13:52:21.177652Z",
     "shell.execute_reply": "2022-03-25T13:52:21.177426Z"
    },
    "papermill": {
     "duration": 981.616609,
     "end_time": "2022-03-25T13:52:21.177708",
     "exception": false,
     "start_time": "2022-03-25T13:35:59.561099",
     "status": "completed"
    },
    "tags": []
   },
   "outputs": [
    {
     "name": "stdout",
     "output_type": "stream",
     "text": [
      "epoch: 1, [batch: 1 / 6720], examples_per_second: 48.3652, train_label_loss: 2.9269, \n"
     ]
    },
    {
     "name": "stdout",
     "output_type": "stream",
     "text": [
      "epoch: 1, [batch: 672 / 6720], examples_per_second: 3605.2871, train_label_loss: 1.8152, \n"
     ]
    },
    {
     "name": "stdout",
     "output_type": "stream",
     "text": [
      "epoch: 1, [batch: 1344 / 6720], examples_per_second: 3655.9317, train_label_loss: 1.0276, \n"
     ]
    },
    {
     "name": "stdout",
     "output_type": "stream",
     "text": [
      "epoch: 1, [batch: 2016 / 6720], examples_per_second: 3643.8917, train_label_loss: 0.8808, \n"
     ]
    },
    {
     "name": "stdout",
     "output_type": "stream",
     "text": [
      "epoch: 1, [batch: 2688 / 6720], examples_per_second: 3614.4006, train_label_loss: 0.8898, \n"
     ]
    },
    {
     "name": "stdout",
     "output_type": "stream",
     "text": [
      "epoch: 1, [batch: 3360 / 6720], examples_per_second: 3652.0170, train_label_loss: 0.7469, \n"
     ]
    },
    {
     "name": "stdout",
     "output_type": "stream",
     "text": [
      "epoch: 1, [batch: 4032 / 6720], examples_per_second: 3640.1493, train_label_loss: 0.7946, \n"
     ]
    },
    {
     "name": "stdout",
     "output_type": "stream",
     "text": [
      "epoch: 1, [batch: 4704 / 6720], examples_per_second: 3613.5893, train_label_loss: 0.6843, \n"
     ]
    },
    {
     "name": "stdout",
     "output_type": "stream",
     "text": [
      "epoch: 1, [batch: 5376 / 6720], examples_per_second: 3631.0975, train_label_loss: 0.7285, \n"
     ]
    },
    {
     "name": "stdout",
     "output_type": "stream",
     "text": [
      "epoch: 1, [batch: 6048 / 6720], examples_per_second: 3628.4975, train_label_loss: 1.0557, \n"
     ]
    },
    {
     "name": "stdout",
     "output_type": "stream",
     "text": [
      "=============================================================\n",
      "epoch: 1, source_val_acc_label: 0.6522, target_val_acc_label: 0.7117, source_val_label_loss: 1.0937, target_val_label_loss: 5.8859, \n",
      "=============================================================\n"
     ]
    },
    {
     "name": "stdout",
     "output_type": "stream",
     "text": [
      "New best\n"
     ]
    },
    {
     "name": "stdout",
     "output_type": "stream",
     "text": [
      "epoch: 2, [batch: 1 / 6720], examples_per_second: 5.2701, train_label_loss: 1.0119, \n"
     ]
    },
    {
     "name": "stdout",
     "output_type": "stream",
     "text": [
      "epoch: 2, [batch: 672 / 6720], examples_per_second: 3604.9957, train_label_loss: 1.1481, \n"
     ]
    },
    {
     "name": "stdout",
     "output_type": "stream",
     "text": [
      "epoch: 2, [batch: 1344 / 6720], examples_per_second: 3627.2006, train_label_loss: 0.9445, \n"
     ]
    },
    {
     "name": "stdout",
     "output_type": "stream",
     "text": [
      "epoch: 2, [batch: 2016 / 6720], examples_per_second: 3646.9959, train_label_loss: 0.6539, \n"
     ]
    },
    {
     "name": "stdout",
     "output_type": "stream",
     "text": [
      "epoch: 2, [batch: 2688 / 6720], examples_per_second: 3630.1898, train_label_loss: 0.4627, \n"
     ]
    },
    {
     "name": "stdout",
     "output_type": "stream",
     "text": [
      "epoch: 2, [batch: 3360 / 6720], examples_per_second: 3635.8115, train_label_loss: 0.4920, \n"
     ]
    },
    {
     "name": "stdout",
     "output_type": "stream",
     "text": [
      "epoch: 2, [batch: 4032 / 6720], examples_per_second: 3633.8358, train_label_loss: 0.9524, \n"
     ]
    },
    {
     "name": "stdout",
     "output_type": "stream",
     "text": [
      "epoch: 2, [batch: 4704 / 6720], examples_per_second: 3626.1155, train_label_loss: 0.6682, \n"
     ]
    },
    {
     "name": "stdout",
     "output_type": "stream",
     "text": [
      "epoch: 2, [batch: 5376 / 6720], examples_per_second: 3642.3084, train_label_loss: 0.9916, \n"
     ]
    },
    {
     "name": "stdout",
     "output_type": "stream",
     "text": [
      "epoch: 2, [batch: 6048 / 6720], examples_per_second: 3632.8339, train_label_loss: 0.4607, \n"
     ]
    },
    {
     "name": "stdout",
     "output_type": "stream",
     "text": [
      "=============================================================\n",
      "epoch: 2, source_val_acc_label: 0.7706, target_val_acc_label: 0.8500, source_val_label_loss: 0.6320, target_val_label_loss: 1.2221, \n",
      "=============================================================\n"
     ]
    },
    {
     "name": "stdout",
     "output_type": "stream",
     "text": [
      "New best\n"
     ]
    },
    {
     "name": "stdout",
     "output_type": "stream",
     "text": [
      "epoch: 3, [batch: 1 / 6720], examples_per_second: 5.2656, train_label_loss: 1.2172, \n"
     ]
    },
    {
     "name": "stdout",
     "output_type": "stream",
     "text": [
      "epoch: 3, [batch: 672 / 6720], examples_per_second: 3606.2368, train_label_loss: 0.3961, \n"
     ]
    },
    {
     "name": "stdout",
     "output_type": "stream",
     "text": [
      "epoch: 3, [batch: 1344 / 6720], examples_per_second: 3630.6169, train_label_loss: 0.2936, \n"
     ]
    },
    {
     "name": "stdout",
     "output_type": "stream",
     "text": [
      "epoch: 3, [batch: 2016 / 6720], examples_per_second: 3638.3348, train_label_loss: 0.3774, \n"
     ]
    },
    {
     "name": "stdout",
     "output_type": "stream",
     "text": [
      "epoch: 3, [batch: 2688 / 6720], examples_per_second: 3613.0248, train_label_loss: 0.4200, \n"
     ]
    },
    {
     "name": "stdout",
     "output_type": "stream",
     "text": [
      "epoch: 3, [batch: 3360 / 6720], examples_per_second: 3648.3694, train_label_loss: 0.4003, \n"
     ]
    },
    {
     "name": "stdout",
     "output_type": "stream",
     "text": [
      "epoch: 3, [batch: 4032 / 6720], examples_per_second: 3611.0329, train_label_loss: 0.5504, \n"
     ]
    },
    {
     "name": "stdout",
     "output_type": "stream",
     "text": [
      "epoch: 3, [batch: 4704 / 6720], examples_per_second: 3629.7017, train_label_loss: 0.5429, \n"
     ]
    },
    {
     "name": "stdout",
     "output_type": "stream",
     "text": [
      "epoch: 3, [batch: 5376 / 6720], examples_per_second: 3640.6476, train_label_loss: 0.9171, \n"
     ]
    },
    {
     "name": "stdout",
     "output_type": "stream",
     "text": [
      "epoch: 3, [batch: 6048 / 6720], examples_per_second: 3650.5356, train_label_loss: 0.9001, \n"
     ]
    },
    {
     "name": "stdout",
     "output_type": "stream",
     "text": [
      "=============================================================\n",
      "epoch: 3, source_val_acc_label: 0.8023, target_val_acc_label: 0.8280, source_val_label_loss: 0.5441, target_val_label_loss: 1.6298, \n",
      "=============================================================\n"
     ]
    },
    {
     "name": "stdout",
     "output_type": "stream",
     "text": [
      "epoch: 4, [batch: 1 / 6720], examples_per_second: 5.2689, train_label_loss: 0.5104, \n"
     ]
    },
    {
     "name": "stdout",
     "output_type": "stream",
     "text": [
      "epoch: 4, [batch: 672 / 6720], examples_per_second: 3603.4430, train_label_loss: 0.4326, \n"
     ]
    },
    {
     "name": "stdout",
     "output_type": "stream",
     "text": [
      "epoch: 4, [batch: 1344 / 6720], examples_per_second: 3620.9992, train_label_loss: 0.5055, \n"
     ]
    },
    {
     "name": "stdout",
     "output_type": "stream",
     "text": [
      "epoch: 4, [batch: 2016 / 6720], examples_per_second: 3634.0954, train_label_loss: 0.3841, \n"
     ]
    },
    {
     "name": "stdout",
     "output_type": "stream",
     "text": [
      "epoch: 4, [batch: 2688 / 6720], examples_per_second: 3625.5218, train_label_loss: 0.6673, \n"
     ]
    },
    {
     "name": "stdout",
     "output_type": "stream",
     "text": [
      "epoch: 4, [batch: 3360 / 6720], examples_per_second: 3646.8655, train_label_loss: 0.7760, \n"
     ]
    },
    {
     "name": "stdout",
     "output_type": "stream",
     "text": [
      "epoch: 4, [batch: 4032 / 6720], examples_per_second: 3644.1663, train_label_loss: 0.7179, \n"
     ]
    },
    {
     "name": "stdout",
     "output_type": "stream",
     "text": [
      "epoch: 4, [batch: 4704 / 6720], examples_per_second: 3627.3873, train_label_loss: 1.2254, \n"
     ]
    },
    {
     "name": "stdout",
     "output_type": "stream",
     "text": [
      "epoch: 4, [batch: 5376 / 6720], examples_per_second: 3621.3175, train_label_loss: 0.4641, \n"
     ]
    },
    {
     "name": "stdout",
     "output_type": "stream",
     "text": [
      "epoch: 4, [batch: 6048 / 6720], examples_per_second: 3650.3474, train_label_loss: 0.5280, \n"
     ]
    },
    {
     "name": "stdout",
     "output_type": "stream",
     "text": [
      "=============================================================\n",
      "epoch: 4, source_val_acc_label: 0.8306, target_val_acc_label: 0.8388, source_val_label_loss: 0.4666, target_val_label_loss: 1.2046, \n",
      "=============================================================\n"
     ]
    },
    {
     "name": "stdout",
     "output_type": "stream",
     "text": [
      "epoch: 5, [batch: 1 / 6720], examples_per_second: 5.2645, train_label_loss: 0.4920, \n"
     ]
    },
    {
     "name": "stdout",
     "output_type": "stream",
     "text": [
      "epoch: 5, [batch: 672 / 6720], examples_per_second: 3610.0652, train_label_loss: 0.5631, \n"
     ]
    },
    {
     "name": "stdout",
     "output_type": "stream",
     "text": [
      "epoch: 5, [batch: 1344 / 6720], examples_per_second: 3628.8216, train_label_loss: 0.3177, \n"
     ]
    },
    {
     "name": "stdout",
     "output_type": "stream",
     "text": [
      "epoch: 5, [batch: 2016 / 6720], examples_per_second: 3637.3842, train_label_loss: 0.2625, \n"
     ]
    },
    {
     "name": "stdout",
     "output_type": "stream",
     "text": [
      "epoch: 5, [batch: 2688 / 6720], examples_per_second: 3630.2696, train_label_loss: 0.2986, \n"
     ]
    },
    {
     "name": "stdout",
     "output_type": "stream",
     "text": [
      "epoch: 5, [batch: 3360 / 6720], examples_per_second: 3635.6389, train_label_loss: 0.4229, \n"
     ]
    },
    {
     "name": "stdout",
     "output_type": "stream",
     "text": [
      "epoch: 5, [batch: 4032 / 6720], examples_per_second: 3637.6218, train_label_loss: 0.2222, \n"
     ]
    },
    {
     "name": "stdout",
     "output_type": "stream",
     "text": [
      "epoch: 5, [batch: 4704 / 6720], examples_per_second: 3639.5886, train_label_loss: 0.2990, \n"
     ]
    },
    {
     "name": "stdout",
     "output_type": "stream",
     "text": [
      "epoch: 5, [batch: 5376 / 6720], examples_per_second: 3641.7276, train_label_loss: 0.2211, \n"
     ]
    },
    {
     "name": "stdout",
     "output_type": "stream",
     "text": [
      "epoch: 5, [batch: 6048 / 6720], examples_per_second: 3637.4241, train_label_loss: 0.5814, \n"
     ]
    },
    {
     "name": "stdout",
     "output_type": "stream",
     "text": [
      "=============================================================\n",
      "epoch: 5, source_val_acc_label: 0.8403, target_val_acc_label: 0.8432, source_val_label_loss: 0.4358, target_val_label_loss: 1.3696, \n",
      "=============================================================\n"
     ]
    },
    {
     "name": "stdout",
     "output_type": "stream",
     "text": [
      "epoch: 6, [batch: 1 / 6720], examples_per_second: 5.2942, train_label_loss: 0.8340, \n"
     ]
    },
    {
     "name": "stdout",
     "output_type": "stream",
     "text": [
      "epoch: 6, [batch: 672 / 6720], examples_per_second: 3606.2439, train_label_loss: 0.3516, \n"
     ]
    },
    {
     "name": "stdout",
     "output_type": "stream",
     "text": [
      "epoch: 6, [batch: 1344 / 6720], examples_per_second: 3628.6081, train_label_loss: 0.4136, \n"
     ]
    },
    {
     "name": "stdout",
     "output_type": "stream",
     "text": [
      "epoch: 6, [batch: 2016 / 6720], examples_per_second: 3648.1794, train_label_loss: 0.5445, \n"
     ]
    },
    {
     "name": "stdout",
     "output_type": "stream",
     "text": [
      "epoch: 6, [batch: 2688 / 6720], examples_per_second: 3610.2835, train_label_loss: 0.3706, \n"
     ]
    },
    {
     "name": "stdout",
     "output_type": "stream",
     "text": [
      "epoch: 6, [batch: 3360 / 6720], examples_per_second: 3607.1171, train_label_loss: 0.4388, \n"
     ]
    },
    {
     "name": "stdout",
     "output_type": "stream",
     "text": [
      "epoch: 6, [batch: 4032 / 6720], examples_per_second: 3651.3929, train_label_loss: 0.2828, \n"
     ]
    },
    {
     "name": "stdout",
     "output_type": "stream",
     "text": [
      "epoch: 6, [batch: 4704 / 6720], examples_per_second: 3627.8645, train_label_loss: 0.4000, \n"
     ]
    },
    {
     "name": "stdout",
     "output_type": "stream",
     "text": [
      "epoch: 6, [batch: 5376 / 6720], examples_per_second: 3631.4270, train_label_loss: 0.1080, \n"
     ]
    },
    {
     "name": "stdout",
     "output_type": "stream",
     "text": [
      "epoch: 6, [batch: 6048 / 6720], examples_per_second: 3637.3014, train_label_loss: 0.6039, \n"
     ]
    },
    {
     "name": "stdout",
     "output_type": "stream",
     "text": [
      "=============================================================\n",
      "epoch: 6, source_val_acc_label: 0.8443, target_val_acc_label: 0.8232, source_val_label_loss: 0.4272, target_val_label_loss: 1.7209, \n",
      "=============================================================\n"
     ]
    },
    {
     "name": "stdout",
     "output_type": "stream",
     "text": [
      "Patience (3) exhausted\n"
     ]
    }
   ],
   "source": [
    "###################################\n",
    "# train\n",
    "###################################\n",
    "jig = PTN_Train_Eval_Test_Jig(model, p.BEST_MODEL_PATH, p.device)\n",
    "\n",
    "jig.train(\n",
    "    train_iterable=datasets.source.processed.train,\n",
    "    source_val_iterable=datasets.source.processed.val,\n",
    "    target_val_iterable=datasets.target.processed.val,\n",
    "    num_epochs=p.n_epoch,\n",
    "    num_logs_per_epoch=p.NUM_LOGS_PER_EPOCH,\n",
    "    patience=p.patience,\n",
    "    optimizer=optimizer,\n",
    "    criteria_for_best=p.criteria_for_best,\n",
    ")"
   ]
  },
  {
   "cell_type": "code",
   "execution_count": 23,
   "id": "31e8fabf",
   "metadata": {
    "execution": {
     "iopub.execute_input": "2022-03-25T13:52:21.233438Z",
     "iopub.status.busy": "2022-03-25T13:52:21.233192Z",
     "iopub.status.idle": "2022-03-25T13:52:21.251625Z",
     "shell.execute_reply": "2022-03-25T13:52:21.251973Z"
    },
    "papermill": {
     "duration": 0.048412,
     "end_time": "2022-03-25T13:52:21.252078",
     "exception": false,
     "start_time": "2022-03-25T13:52:21.203666",
     "status": "completed"
    },
    "tags": []
   },
   "outputs": [],
   "source": [
    "total_experiment_time_secs = time.time() - start_time_secs"
   ]
  },
  {
   "cell_type": "code",
   "execution_count": 24,
   "id": "87b9595b",
   "metadata": {
    "execution": {
     "iopub.execute_input": "2022-03-25T13:52:21.315402Z",
     "iopub.status.busy": "2022-03-25T13:52:21.315114Z",
     "iopub.status.idle": "2022-03-25T13:53:52.659187Z",
     "shell.execute_reply": "2022-03-25T13:53:52.659622Z"
    },
    "papermill": {
     "duration": 91.376707,
     "end_time": "2022-03-25T13:53:52.659756",
     "exception": false,
     "start_time": "2022-03-25T13:52:21.283049",
     "status": "completed"
    },
    "tags": []
   },
   "outputs": [],
   "source": [
    "###################################\n",
    "# Evaluate the model\n",
    "###################################\n",
    "source_test_label_accuracy, source_test_label_loss = jig.test(datasets.source.processed.test)\n",
    "target_test_label_accuracy, target_test_label_loss = jig.test(datasets.target.processed.test)\n",
    "\n",
    "source_val_label_accuracy, source_val_label_loss = jig.test(datasets.source.processed.val)\n",
    "target_val_label_accuracy, target_val_label_loss = jig.test(datasets.target.processed.val)\n",
    "\n",
    "history = jig.get_history()\n",
    "\n",
    "total_epochs_trained = len(history[\"epoch_indices\"])\n",
    "\n",
    "val_dl = Iterable_Aggregator((datasets.source.original.val,datasets.target.original.val))\n",
    "\n",
    "confusion = ptn_confusion_by_domain_over_dataloader(model, p.device, val_dl)\n",
    "per_domain_accuracy = per_domain_accuracy_from_confusion(confusion)\n",
    "\n",
    "# Add a key to per_domain_accuracy for if it was a source domain\n",
    "for domain, accuracy in per_domain_accuracy.items():\n",
    "    per_domain_accuracy[domain] = {\n",
    "        \"accuracy\": accuracy,\n",
    "        \"source?\": domain in p.domains_source\n",
    "    }\n",
    "\n",
    "# Do an independent accuracy assesment JUST TO BE SURE!\n",
    "# _source_test_label_accuracy = independent_accuracy_assesment(model, datasets.source.processed.test, p.device)\n",
    "# _target_test_label_accuracy = independent_accuracy_assesment(model, datasets.target.processed.test, p.device)\n",
    "# _source_val_label_accuracy = independent_accuracy_assesment(model, datasets.source.processed.val, p.device)\n",
    "# _target_val_label_accuracy = independent_accuracy_assesment(model, datasets.target.processed.val, p.device)\n",
    "\n",
    "# assert(_source_test_label_accuracy == source_test_label_accuracy)\n",
    "# assert(_target_test_label_accuracy == target_test_label_accuracy)\n",
    "# assert(_source_val_label_accuracy == source_val_label_accuracy)\n",
    "# assert(_target_val_label_accuracy == target_val_label_accuracy)\n",
    "\n",
    "experiment = {\n",
    "    \"experiment_name\": p.experiment_name,\n",
    "    \"parameters\": dict(p),\n",
    "    \"results\": {\n",
    "        \"source_test_label_accuracy\": source_test_label_accuracy,\n",
    "        \"source_test_label_loss\": source_test_label_loss,\n",
    "        \"target_test_label_accuracy\": target_test_label_accuracy,\n",
    "        \"target_test_label_loss\": target_test_label_loss,\n",
    "        \"source_val_label_accuracy\": source_val_label_accuracy,\n",
    "        \"source_val_label_loss\": source_val_label_loss,\n",
    "        \"target_val_label_accuracy\": target_val_label_accuracy,\n",
    "        \"target_val_label_loss\": target_val_label_loss,\n",
    "        \"total_epochs_trained\": total_epochs_trained,\n",
    "        \"total_experiment_time_secs\": total_experiment_time_secs,\n",
    "        \"confusion\": confusion,\n",
    "        \"per_domain_accuracy\": per_domain_accuracy,\n",
    "    },\n",
    "    \"history\": history,\n",
    "    \"dataset_metrics\": get_dataset_metrics(datasets, \"ptn\"),\n",
    "}"
   ]
  },
  {
   "cell_type": "code",
   "execution_count": 25,
   "id": "54a21829",
   "metadata": {
    "execution": {
     "iopub.execute_input": "2022-03-25T13:53:52.728386Z",
     "iopub.status.busy": "2022-03-25T13:53:52.721121Z",
     "iopub.status.idle": "2022-03-25T13:53:52.838973Z",
     "shell.execute_reply": "2022-03-25T13:53:52.838517Z"
    },
    "papermill": {
     "duration": 0.14708,
     "end_time": "2022-03-25T13:53:52.839063",
     "exception": false,
     "start_time": "2022-03-25T13:53:52.691983",
     "status": "completed"
    },
    "tags": []
   },
   "outputs": [
    {
     "data": {
      "image/png": "[encoded data removed]",
      "text/plain": [
       "<Figure size 1080x504 with 1 Axes>"
      ]
     },
     "metadata": {
      "needs_background": "light"
     },
     "output_type": "display_data"
    }
   ],
   "source": [
    "ax = get_loss_curve(experiment)\n",
    "plt.show()"
   ]
  },
  {
   "cell_type": "code",
   "execution_count": 26,
   "id": "fd8a0f60",
   "metadata": {
    "execution": {
     "iopub.execute_input": "2022-03-25T13:53:52.906305Z",
     "iopub.status.busy": "2022-03-25T13:53:52.899354Z",
     "iopub.status.idle": "2022-03-25T13:53:53.041039Z",
     "shell.execute_reply": "2022-03-25T13:53:53.041254Z"
    },
    "papermill": {
     "duration": 0.171644,
     "end_time": "2022-03-25T13:53:53.041319",
     "exception": false,
     "start_time": "2022-03-25T13:53:52.869675",
     "status": "completed"
    },
    "tags": []
   },
   "outputs": [
    {
     "data": {
      "text/plain": [
       "<AxesSubplot:title={'center':'Results'}>"
      ]
     },
     "execution_count": 26,
     "metadata": {},
     "output_type": "execute_result"
    },
    {
     "data": {
      "image/png": "[encoded data removed]",
      "text/plain": [
       "<Figure size 1080x504 with 1 Axes>"
      ]
     },
     "metadata": {
      "needs_background": "light"
     },
     "output_type": "display_data"
    }
   ],
   "source": [
    "get_results_table(experiment)"
   ]
  },
  {
   "cell_type": "code",
   "execution_count": 27,
   "id": "cf8dc689",
   "metadata": {
    "execution": {
     "iopub.execute_input": "2022-03-25T13:53:53.101817Z",
     "iopub.status.busy": "2022-03-25T13:53:53.101547Z",
     "iopub.status.idle": "2022-03-25T13:53:53.233133Z",
     "shell.execute_reply": "2022-03-25T13:53:53.233534Z"
    },
    "papermill": {
     "duration": 0.163155,
     "end_time": "2022-03-25T13:53:53.233646",
     "exception": false,
     "start_time": "2022-03-25T13:53:53.070491",
     "status": "completed"
    },
    "tags": []
   },
   "outputs": [
    {
     "data": {
      "text/plain": [
       "<AxesSubplot:title={'center':'Per Domain Validation Accuracy'}, xlabel='domain'>"
      ]
     },
     "execution_count": 27,
     "metadata": {},
     "output_type": "execute_result"
    },
    {
     "data": {
      "image/png": "[encoded data removed]",
      "text/plain": [
       "<Figure size 1080x504 with 1 Axes>"
      ]
     },
     "metadata": {
      "needs_background": "light"
     },
     "output_type": "display_data"
    }
   ],
   "source": [
    "get_domain_accuracies(experiment)"
   ]
  },
  {
   "cell_type": "code",
   "execution_count": 28,
   "id": "a74ae082",
   "metadata": {
    "execution": {
     "iopub.execute_input": "2022-03-25T13:53:53.300482Z",
     "iopub.status.busy": "2022-03-25T13:53:53.299975Z",
     "iopub.status.idle": "2022-03-25T13:53:53.314952Z",
     "shell.execute_reply": "2022-03-25T13:53:53.314470Z"
    },
    "papermill": {
     "duration": 0.047754,
     "end_time": "2022-03-25T13:53:53.315048",
     "exception": false,
     "start_time": "2022-03-25T13:53:53.267294",
     "status": "completed"
    },
    "tags": []
   },
   "outputs": [
    {
     "name": "stdout",
     "output_type": "stream",
     "text": [
      "Source Test Label Accuracy: 0.7731770833333333 Target Test Label Accuracy: 0.8466994382022472\n",
      "Source Val Label Accuracy: 0.77060546875 Target Val Label Accuracy: 0.8499642857142857\n"
     ]
    }
   ],
   "source": [
    "print(\"Source Test Label Accuracy:\", experiment[\"results\"][\"source_test_label_accuracy\"], \"Target Test Label Accuracy:\", experiment[\"results\"][\"target_test_label_accuracy\"])\n",
    "print(\"Source Val Label Accuracy:\", experiment[\"results\"][\"source_val_label_accuracy\"], \"Target Val Label Accuracy:\", experiment[\"results\"][\"target_val_label_accuracy\"])"
   ]
  },
  {
   "cell_type": "code",
   "execution_count": 29,
   "id": "dacca602",
   "metadata": {
    "execution": {
     "iopub.execute_input": "2022-03-25T13:53:53.380241Z",
     "iopub.status.busy": "2022-03-25T13:53:53.379993Z",
     "iopub.status.idle": "2022-03-25T13:53:53.397476Z",
     "shell.execute_reply": "2022-03-25T13:53:53.397871Z"
    },
    "papermill": {
     "duration": 0.049441,
     "end_time": "2022-03-25T13:53:53.397980",
     "exception": false,
     "start_time": "2022-03-25T13:53:53.348539",
     "status": "completed"
    },
    "tags": [
     "experiment_json"
    ]
   },
   "outputs": [
    {
     "data": {
      "text/plain": [
       "'{\"experiment_name\": \"tl_3Av2:oracle.run1.framed -> cores\", \"parameters\": {\"experiment_name\": \"tl_3Av2:oracle.run1.framed -> cores\", \"device\": \"cuda\", \"lr\": 0.0001, \"x_shape\": [2, 200], \"n_shot\": 3, \"n_query\": 2, \"train_k_factor\": 3, \"val_k_factor\": 2, \"test_k_factor\": 2, \"torch_default_dtype\": \"torch.float32\", \"n_epoch\": 50, \"patience\": 3, \"criteria_for_best\": \"target_accuracy\", \"x_net\": [{\"class\": \"nnReshape\", \"kargs\": {\"shape\": [-1, 1, 2, 200]}}, {\"class\": \"Conv2d\", \"kargs\": {\"in_channels\": 1, \"out_channels\": 256, \"kernel_size\": [1, 7], \"bias\": false, \"padding\": [0, 3]}}, {\"class\": \"ReLU\", \"kargs\": {\"inplace\": true}}, {\"class\": \"BatchNorm2d\", \"kargs\": {\"num_features\": 256}}, {\"class\": \"Conv2d\", \"kargs\": {\"in_channels\": 256, \"out_channels\": 80, \"kernel_size\": [2, 7], \"bias\": true, \"padding\": [0, 3]}}, {\"class\": \"ReLU\", \"kargs\": {\"inplace\": true}}, {\"class\": \"BatchNorm2d\", \"kargs\": {\"num_features\": 80}}, {\"class\": \"Flatten\", \"kargs\": {}}, {\"class\": \"Linear\", \"kargs\": {\"in_features\": 16000, \"out_features\": 256}}, {\"class\": \"ReLU\", \"kargs\": {\"inplace\": true}}, {\"class\": \"BatchNorm1d\", \"kargs\": {\"num_features\": 256}}, {\"class\": \"Linear\", \"kargs\": {\"in_features\": 256, \"out_features\": 256}}], \"NUM_LOGS_PER_EPOCH\": 10, \"BEST_MODEL_PATH\": \"./best_model.pth\", \"n_way\": 16, \"datasets\": [{\"labels\": [\"1-10.\", \"1-11.\", \"1-15.\", \"1-16.\", \"1-17.\", \"1-18.\", \"1-19.\", \"10-4.\", \"10-7.\", \"11-1.\", \"11-14.\", \"11-17.\", \"11-20.\", \"11-7.\", \"13-20.\", \"13-8.\", \"14-10.\", \"14-11.\", \"14-14.\", \"14-7.\", \"15-1.\", \"15-20.\", \"16-1.\", \"16-16.\", \"17-10.\", \"17-11.\", \"17-2.\", \"19-1.\", \"19-16.\", \"19-19.\", \"19-20.\", \"19-3.\", \"2-10.\", \"2-11.\", \"2-17.\", \"2-18.\", \"2-20.\", \"2-3.\", \"2-4.\", \"2-5.\", \"2-6.\", \"2-7.\", \"2-8.\", \"3-13.\", \"3-18.\", \"3-3.\", \"4-1.\", \"4-10.\", \"4-11.\", \"4-19.\", \"5-5.\", \"6-15.\", \"7-10.\", \"7-14.\", \"8-18.\", \"8-20.\", \"8-3.\", \"8-8.\"], \"domains\": [1, 2, 3, 4, 5], \"num_examples_per_domain_per_label\": -1, \"pickle_path\": \"/mnt/wd500GB/CSC500/csc500-main/datasets/cores.stratified_ds.2022A.pkl\", \"source_or_target_dataset\": \"target\", \"x_transforms\": [\"unit_power\", \"take_200\"], \"episode_transforms\": [], \"domain_prefix\": \"C_\"}, {\"labels\": [\"3123D52\", \"3123D65\", \"3123D79\", \"3123D80\", \"3123D54\", \"3123D70\", \"3123D7B\", \"3123D89\", \"3123D58\", \"3123D76\", \"3123D7D\", \"3123EFE\", \"3123D64\", \"3123D78\", \"3123D7E\", \"3124E4A\"], \"domains\": [32, 38, 8, 44, 14, 50, 20, 26], \"num_examples_per_domain_per_label\": 2000, \"pickle_path\": \"/mnt/wd500GB/CSC500/csc500-main/datasets/oracle.Run1_framed_2000Examples_stratified_ds.2022A.pkl\", \"source_or_target_dataset\": \"source\", \"x_transforms\": [\"unit_power\", \"take_200\", \"resample_20Msps_to_25Msps\"], \"episode_transforms\": [], \"domain_prefix\": \"O_\"}], \"seed\": 500, \"dataset_seed\": 500, \"domains_source\": [\"O_32\", \"O_38\", \"O_8\", \"O_44\", \"O_14\", \"O_50\", \"O_20\", \"O_26\"], \"domains_target\": [\"C_1\", \"C_2\", \"C_3\", \"C_4\", \"C_5\"]}, \"results\": {\"source_test_label_accuracy\": 0.7731770833333333, \"source_test_label_loss\": 0.6390262246131897, \"target_test_label_accuracy\": 0.8466994382022472, \"target_test_label_loss\": 1.2413952350616455, \"source_val_label_accuracy\": 0.77060546875, \"source_val_label_loss\": 0.6320277452468872, \"target_val_label_accuracy\": 0.8499642857142857, \"target_val_label_loss\": 1.2221075296401978, \"total_epochs_trained\": 6, \"total_experiment_time_secs\": 1038.308752298355, \"confusion\": {\"O_50\": {\"7\": {\"5\": 14, \"7\": 175, \"10\": 9, \"13\": 30, \"6\": 11, \"4\": 1}, \"10\": {\"10\": 223, \"7\": 2, \"8\": 6, \"0\": 3, \"13\": 6}, \"0\": {\"0\": 205, \"10\": 11, \"2\": 22, \"6\": 1, \"13\": 1}, \"11\": {\"11\": 211, \"14\": 3, \"15\": 16, \"9\": 9, \"4\": 1}, \"2\": {\"2\": 220, \"0\": 20}, \"14\": {\"14\": 235, \"11\": 4, \"12\": 1}, \"9\": {\"11\": 13, \"9\": 212, \"12\": 15}, \"13\": {\"7\": 24, \"13\": 169, \"10\": 9, \"5\": 23, \"6\": 13, \"0\": 2}, \"8\": {\"8\": 234, \"3\": 3, \"10\": 3}, \"15\": {\"15\": 187, \"1\": 21, \"6\": 7, \"4\": 21, \"11\": 3, \"14\": 1}, \"4\": {\"4\": 121, \"1\": 35, \"15\": 30, \"13\": 6, \"5\": 33, \"6\": 7, \"7\": 7, \"11\": 1}, \"5\": {\"5\": 107, \"4\": 22, \"7\": 37, \"13\": 39, \"1\": 18, \"15\": 2, \"6\": 11, \"0\": 1, \"10\": 3}, \"3\": {\"3\": 239, \"8\": 1}, \"1\": {\"1\": 162, \"4\": 18, \"15\": 43, \"6\": 9, \"5\": 6, \"13\": 1, \"11\": 1}, \"6\": {\"6\": 193, \"4\": 6, \"13\": 19, \"15\": 3, \"1\": 7, \"5\": 10, \"2\": 1, \"7\": 1}, \"12\": {\"12\": 220, \"11\": 8, \"9\": 10, \"14\": 2}}, \"O_14\": {\"14\": {\"6\": 8, \"14\": 186, \"2\": 30, \"13\": 14, \"3\": 2}, \"6\": {\"6\": 168, \"13\": 63, \"14\": 6, \"2\": 3}, \"5\": {\"4\": 48, \"1\": 29, \"5\": 154, \"2\": 8, \"3\": 1}, \"15\": {\"15\": 238, \"7\": 2}, \"11\": {\"11\": 215, \"9\": 22, \"0\": 3}, \"8\": {\"8\": 240}, \"12\": {\"12\": 240}, \"1\": {\"1\": 212, \"5\": 25, \"4\": 3}, \"2\": {\"2\": 125, \"6\": 19, \"5\": 27, \"14\": 46, \"3\": 7, \"4\": 7, \"13\": 9}, \"13\": {\"13\": 102, \"6\": 73, \"14\": 45, \"2\": 15, \"5\": 4, \"4\": 1}, \"3\": {\"3\": 223, \"4\": 12, \"2\": 2, \"14\": 3}, \"0\": {\"0\": 220, \"3\": 7, \"14\": 1, \"10\": 10, \"8\": 1, \"11\": 1}, \"9\": {\"9\": 240}, \"4\": {\"4\": 208, \"5\": 23, \"13\": 1, \"3\": 2, \"1\": 3, \"2\": 3}, \"7\": {\"7\": 240}, \"10\": {\"10\": 238, \"0\": 2}}, \"O_32\": {\"4\": {\"4\": 151, \"13\": 8, \"2\": 49, \"5\": 9, \"7\": 19, \"0\": 3, \"8\": 1}, \"14\": {\"14\": 122, \"11\": 69, \"0\": 8, \"7\": 22, \"8\": 6, \"3\": 4, \"13\": 3, \"4\": 1, \"5\": 5}, \"5\": {\"5\": 91, \"7\": 55, \"13\": 32, \"0\": 7, \"4\": 18, \"3\": 17, \"2\": 2, \"14\": 7, \"8\": 9, \"11\": 2}, \"10\": {\"10\": 239, \"1\": 1}, \"13\": {\"4\": 10, \"13\": 153, \"5\": 29, \"8\": 13, \"11\": 3, \"7\": 19, \"3\": 11, \"0\": 2}, \"9\": {\"9\": 240}, \"6\": {\"6\": 240}, \"3\": {\"3\": 231, \"13\": 4, \"11\": 1, \"5\": 2, \"8\": 1, \"14\": 1}, \"15\": {\"15\": 240}, \"7\": {\"7\": 154, \"5\": 29, \"14\": 20, \"4\": 16, \"2\": 4, \"11\": 10, \"13\": 7}, \"12\": {\"12\": 240}, \"8\": {\"8\": 174, \"0\": 24, \"13\": 21, \"5\": 11, \"7\": 1, \"3\": 7, \"14\": 2}, \"11\": {\"11\": 205, \"14\": 30, \"7\": 3, \"5\": 1, \"3\": 1}, \"2\": {\"2\": 184, \"4\": 48, \"0\": 2, \"7\": 6}, \"1\": {\"1\": 240}, \"0\": {\"0\": 181, \"5\": 7, \"14\": 10, \"7\": 8, \"13\": 2, \"8\": 27, \"4\": 5}}, \"O_44\": {\"8\": {\"0\": 86, \"8\": 137, \"5\": 6, \"15\": 11}, \"11\": {\"11\": 217, \"13\": 16, \"6\": 7}, \"14\": {\"14\": 153, \"4\": 69, \"5\": 2, \"15\": 16}, \"10\": {\"10\": 186, \"1\": 21, \"12\": 13, \"2\": 18, \"7\": 2}, \"3\": {\"3\": 224, \"1\": 8, \"12\": 6, \"2\": 2}, \"15\": {\"15\": 189, \"14\": 24, \"0\": 14, \"5\": 11, \"8\": 2}, \"2\": {\"7\": 29, \"2\": 185, \"6\": 1, \"1\": 9, \"10\": 14, \"3\": 1, \"9\": 1}, \"12\": {\"12\": 193, \"1\": 39, \"10\": 8}, \"4\": {\"4\": 150, \"14\": 82, \"15\": 6, \"13\": 2}, \"1\": {\"1\": 147, \"10\": 19, \"12\": 52, \"3\": 12, \"2\": 10}, \"0\": {\"0\": 144, \"15\": 17, \"8\": 66, \"5\": 13}, \"9\": {\"13\": 20, \"9\": 118, \"6\": 27, \"7\": 72, \"2\": 3}, \"5\": {\"5\": 178, \"0\": 24, \"14\": 12, \"4\": 5, \"15\": 13, \"8\": 8}, \"6\": {\"6\": 164, \"9\": 26, \"13\": 38, \"7\": 8, \"2\": 1, \"11\": 3}, \"7\": {\"7\": 143, \"9\": 58, \"2\": 31, \"10\": 1, \"6\": 5, \"3\": 1, \"1\": 1}, \"13\": {\"13\": 163, \"9\": 32, \"6\": 38, \"11\": 5, \"7\": 2}}, \"O_8\": {\"13\": {\"13\": 94, \"4\": 35, \"6\": 14, \"0\": 56, \"14\": 17, \"10\": 24}, \"3\": {\"3\": 233, \"2\": 4, \"12\": 3}, \"15\": {\"2\": 1, \"15\": 207, \"12\": 29, \"8\": 2, \"3\": 1}, \"4\": {\"4\": 185, \"13\": 34, \"14\": 11, \"6\": 9, \"0\": 1}, \"7\": {\"7\": 192, \"6\": 42, \"0\": 5, \"13\": 1}, \"2\": {\"2\": 216, \"3\": 20, \"7\": 4}, \"1\": {\"1\": 223, \"11\": 15, \"14\": 2}, \"0\": {\"0\": 199, \"13\": 27, \"10\": 1, \"7\": 3, \"4\": 5, \"6\": 4, \"14\": 1}, \"12\": {\"12\": 153, \"3\": 17, \"15\": 69, \"8\": 1}, \"6\": {\"4\": 21, \"6\": 180, \"7\": 32, \"13\": 4, \"0\": 3}, \"11\": {\"11\": 199, \"1\": 39, \"5\": 2}, \"9\": {\"9\": 240}, \"5\": {\"5\": 226, \"10\": 11, \"14\": 1, \"1\": 2}, \"10\": {\"10\": 194, \"14\": 33, \"13\": 11, \"4\": 2}, \"14\": {\"14\": 163, \"10\": 33, \"4\": 25, \"13\": 13, \"1\": 6}, \"8\": {\"8\": 234, \"15\": 6}}, \"O_20\": {\"6\": {\"6\": 222, \"14\": 16, \"7\": 2}, \"11\": {\"11\": 240}, \"5\": {\"5\": 170, \"15\": 7, \"1\": 18, \"0\": 24, \"3\": 4, \"2\": 2, \"12\": 13, \"4\": 1, \"8\": 1}, \"14\": {\"14\": 218, \"6\": 12, \"10\": 7, \"8\": 3}, \"2\": {\"2\": 115, \"13\": 14, \"9\": 59, \"12\": 15, \"3\": 11, \"7\": 25, \"1\": 1}, \"7\": {\"2\": 15, \"7\": 213, \"9\": 4, \"3\": 2, \"6\": 1, \"8\": 5}, \"3\": {\"12\": 49, \"3\": 141, \"2\": 7, \"9\": 24, \"7\": 6, \"4\": 7, \"5\": 3, \"8\": 2, \"1\": 1}, \"4\": {\"4\": 206, \"3\": 6, \"8\": 27, \"10\": 1}, \"9\": {\"9\": 120, \"3\": 36, \"2\": 57, \"12\": 17, \"7\": 5, \"13\": 2, \"1\": 3}, \"12\": {\"3\": 39, \"1\": 42, \"5\": 16, \"12\": 114, \"9\": 16, \"2\": 11, \"0\": 1, \"13\": 1}, \"0\": {\"5\": 44, \"15\": 57, \"0\": 132, \"2\": 1, \"1\": 3, \"13\": 2, \"4\": 1}, \"10\": {\"10\": 233, \"14\": 4, \"4\": 3}, \"8\": {\"8\": 206, \"4\": 19, \"7\": 8, \"6\": 2, \"14\": 5}, \"13\": {\"13\": 220, \"7\": 1, \"2\": 13, \"9\": 1, \"15\": 3, \"1\": 1, \"5\": 1}, \"1\": {\"1\": 150, \"12\": 42, \"5\": 19, \"0\": 5, \"15\": 20, \"13\": 2, \"3\": 1, \"9\": 1}, \"15\": {\"15\": 176, \"0\": 25, \"5\": 10, \"1\": 25, \"13\": 3, \"12\": 1}}, \"O_38\": {\"3\": {\"3\": 219, \"9\": 10, \"0\": 8, \"7\": 2, \"5\": 1}, \"8\": {\"5\": 44, \"8\": 156, \"7\": 9, \"0\": 13, \"10\": 9, \"15\": 6, \"13\": 3}, \"0\": {\"0\": 138, \"7\": 32, \"8\": 41, \"10\": 10, \"3\": 10, \"5\": 8, \"13\": 1}, \"2\": {\"14\": 18, \"2\": 221, \"13\": 1}, \"4\": {\"4\": 232, \"12\": 8}, \"7\": {\"7\": 196, \"5\": 23, \"8\": 11, \"0\": 10}, \"12\": {\"12\": 236, \"4\": 4}, \"6\": {\"6\": 229, \"9\": 9, \"5\": 2}, \"15\": {\"15\": 174, \"13\": 22, \"1\": 30, \"8\": 9, \"10\": 2, \"5\": 3}, \"11\": {\"11\": 217, \"14\": 15, \"4\": 3, \"2\": 2, \"0\": 1, \"10\": 1, \"12\": 1}, \"9\": {\"9\": 210, \"6\": 23, \"5\": 4, \"8\": 1, \"3\": 2}, \"14\": {\"11\": 5, \"14\": 223, \"2\": 9, \"12\": 2, \"10\": 1}, \"10\": {\"10\": 190, \"0\": 12, \"7\": 7, \"8\": 11, \"14\": 4, \"13\": 10, \"4\": 3, \"12\": 2, \"11\": 1}, \"5\": {\"5\": 118, \"8\": 57, \"7\": 36, \"6\": 9, \"15\": 10, \"0\": 3, \"9\": 4, \"10\": 1, \"13\": 1, \"1\": 1}, \"1\": {\"1\": 233, \"15\": 7}, \"13\": {\"10\": 19, \"13\": 176, \"8\": 7, \"15\": 25, \"1\": 2, \"2\": 7, \"5\": 1, \"0\": 3}}, \"O_26\": {\"5\": {\"5\": 164, \"2\": 26, \"13\": 30, \"15\": 14, \"9\": 5, \"3\": 1}, \"8\": {\"8\": 122, \"14\": 2, \"4\": 30, \"15\": 9, \"10\": 41, \"0\": 12, \"7\": 17, \"9\": 4, \"6\": 3}, \"4\": {\"4\": 105, \"10\": 16, \"7\": 11, \"14\": 58, \"0\": 18, \"8\": 19, \"1\": 13}, \"12\": {\"12\": 240}, \"6\": {\"6\": 188, \"10\": 15, \"0\": 5, \"8\": 2, \"15\": 6, \"9\": 23, \"13\": 1}, \"7\": {\"3\": 38, \"7\": 156, \"4\": 17, \"14\": 4, \"8\": 12, \"2\": 13}, \"10\": {\"10\": 100, \"0\": 60, \"15\": 2, \"6\": 9, \"8\": 42, \"4\": 8, \"14\": 16, \"1\": 2, \"7\": 1}, \"0\": {\"4\": 31, \"10\": 57, \"0\": 82, \"14\": 48, \"8\": 16, \"7\": 6}, \"15\": {\"15\": 110, \"13\": 13, \"9\": 79, \"5\": 7, \"6\": 11, \"8\": 8, \"2\": 7, \"3\": 1, \"7\": 2, \"0\": 1, \"10\": 1}, \"9\": {\"6\": 22, \"9\": 113, \"8\": 9, \"15\": 79, \"13\": 10, \"10\": 3, \"2\": 1, \"0\": 1, \"5\": 2}, \"11\": {\"11\": 239, \"12\": 1}, \"14\": {\"4\": 48, \"14\": 109, \"1\": 35, \"0\": 32, \"10\": 10, \"8\": 3, \"7\": 3}, \"2\": {\"2\": 109, \"7\": 17, \"8\": 4, \"5\": 13, \"3\": 82, \"15\": 12, \"13\": 1, \"9\": 1, \"4\": 1}, \"13\": {\"5\": 43, \"13\": 169, \"9\": 13, \"2\": 5, \"15\": 9, \"6\": 1}, \"3\": {\"3\": 172, \"7\": 20, \"2\": 47, \"5\": 1}, \"1\": {\"4\": 19, \"1\": 175, \"14\": 32, \"10\": 4, \"7\": 3, \"8\": 6, \"0\": 1}}, \"C_4\": {\"38\": {\"38\": 38, \"2\": 1, \"7\": 1}, \"3\": {\"3\": 75, \"34\": 2, \"26\": 4, \"36\": 10, \"54\": 6, \"39\": 1, \"48\": 8, \"50\": 1, \"6\": 11, \"20\": 3, \"29\": 1, \"23\": 1, \"53\": 1}, \"24\": {\"24\": 52, \"43\": 4}, \"49\": {\"49\": 20}, \"7\": {\"7\": 22, \"49\": 2}, \"17\": {\"17\": 60, \"50\": 3, \"21\": 2, \"30\": 1, \"9\": 5, \"27\": 5, \"4\": 4}, \"43\": {\"43\": 146, \"11\": 2}, \"30\": {\"30\": 40, \"8\": 1, \"50\": 2, \"21\": 1}, \"44\": {\"44\": 102, \"19\": 19, \"4\": 3, \"53\": 1, \"40\": 5, \"51\": 1, \"9\": 1}, \"23\": {\"23\": 125, \"52\": 6, \"18\": 10, \"47\": 1, \"39\": 1, \"41\": 1}, \"37\": {\"37\": 24}, \"4\": {\"4\": 128, \"50\": 1, \"53\": 1, \"9\": 2}, \"57\": {\"57\": 98, \"1\": 2}, \"16\": {\"49\": 1, \"16\": 78, \"11\": 6, \"46\": 5, \"52\": 1, \"47\": 1, \"39\": 1, \"36\": 1, \"48\": 1, \"15\": 1}, \"18\": {\"18\": 83, \"23\": 16, \"52\": 1, \"34\": 1, \"50\": 1, \"47\": 3, \"3\": 1, \"25\": 1, \"40\": 1}, \"20\": {\"20\": 121, \"54\": 1, \"6\": 1, \"8\": 1}, \"45\": {\"45\": 88, \"12\": 4, \"21\": 1, \"27\": 3}, \"15\": {\"15\": 106, \"52\": 3, \"47\": 2, \"11\": 8, \"16\": 6, \"0\": 1, \"43\": 4, \"46\": 1, \"31\": 1}, \"52\": {\"36\": 1, \"52\": 113, \"23\": 2}, \"19\": {\"40\": 11, \"19\": 111, \"9\": 4, \"44\": 10, \"33\": 2, \"50\": 1, \"4\": 1}, \"54\": {\"54\": 108}, \"56\": {\"56\": 117, \"7\": 5, \"22\": 1, \"55\": 5, \"10\": 1, \"6\": 1}, \"40\": {\"40\": 87, \"19\": 28, \"51\": 2, \"37\": 2, \"53\": 1, \"44\": 13, \"29\": 1}, \"28\": {\"28\": 17, \"31\": 1, \"26\": 10, \"48\": 2, \"37\": 1, \"55\": 1}, \"2\": {\"2\": 29, \"24\": 2, \"13\": 2, \"10\": 2, \"38\": 1}, \"9\": {\"17\": 8, \"9\": 96, \"44\": 1, \"4\": 8, \"51\": 1, \"53\": 1, \"25\": 1, \"50\": 4}, \"0\": {\"0\": 68, \"15\": 2, \"5\": 1, \"11\": 2, \"43\": 5, \"46\": 2}, \"36\": {\"36\": 88, \"6\": 1, \"48\": 2, \"4\": 1}, \"55\": {\"31\": 2, \"55\": 106, \"54\": 2, \"3\": 1, \"5\": 1, \"47\": 5, \"48\": 2, \"25\": 6, \"4\": 2, \"7\": 1, \"35\": 1, \"6\": 1}, \"35\": {\"35\": 39, \"29\": 1}, \"39\": {\"39\": 18, \"46\": 1, \"54\": 1}, \"31\": {\"31\": 28}, \"14\": {\"38\": 2, \"14\": 5, \"33\": 4, \"10\": 1, \"24\": 2, \"22\": 1, \"32\": 1}, \"12\": {\"12\": 91, \"27\": 1}, \"6\": {\"6\": 64, \"28\": 2, \"3\": 15, \"55\": 2, \"34\": 2, \"25\": 2, \"4\": 1, \"48\": 5, \"29\": 2, \"54\": 5, \"5\": 2, \"47\": 2, \"20\": 1, \"36\": 4, \"26\": 1, \"50\": 1, \"46\": 1}, \"26\": {\"26\": 24}, \"50\": {\"21\": 5, \"26\": 4, \"50\": 60, \"3\": 3, \"8\": 11, \"12\": 1, \"25\": 5, \"6\": 5, \"27\": 12, \"9\": 5, \"51\": 4, \"20\": 4, \"36\": 2, \"53\": 3, \"48\": 3, \"17\": 1, \"54\": 2, \"4\": 2}, \"21\": {\"21\": 111, \"27\": 2, \"50\": 4, \"17\": 1, \"51\": 1, \"8\": 1, \"25\": 2}, \"46\": {\"5\": 7, \"46\": 117, \"0\": 3, \"36\": 1, \"6\": 1, \"15\": 2, \"47\": 3, \"39\": 1, \"32\": 3, \"52\": 1, \"16\": 1}, \"51\": {\"50\": 2, \"51\": 135, \"53\": 2, \"4\": 1}, \"41\": {\"41\": 34, \"52\": 1, \"23\": 1}, \"34\": {\"34\": 22, \"54\": 1, \"23\": 1}, \"47\": {\"5\": 11, \"47\": 91, \"55\": 4, \"57\": 3, \"39\": 1, \"48\": 1, \"28\": 1, \"23\": 3, \"1\": 1, \"36\": 1, \"46\": 2, \"6\": 1}, \"5\": {\"5\": 79, \"46\": 3, \"36\": 2, \"23\": 1, \"3\": 2, \"54\": 3, \"47\": 12, \"20\": 1, \"49\": 2, \"1\": 1, \"6\": 1, \"48\": 1}, \"1\": {\"1\": 39, \"49\": 1}, \"48\": {\"48\": 127, \"3\": 3, \"6\": 2, \"54\": 1, \"51\": 1}, \"29\": {\"29\": 110, \"35\": 3, \"36\": 1, \"33\": 1, \"4\": 3}, \"22\": {\"22\": 119, \"10\": 4, \"38\": 4, \"24\": 1}, \"10\": {\"10\": 125, \"2\": 1, \"24\": 1, \"13\": 3, \"56\": 1, \"43\": 1}, \"32\": {\"32\": 19, \"49\": 2, \"39\": 1, \"14\": 1, \"16\": 1}, \"13\": {\"10\": 7, \"13\": 104, \"2\": 1}, \"42\": {\"42\": 32}, \"27\": {\"27\": 131, \"30\": 1, \"8\": 1, \"17\": 3, \"50\": 2}, \"8\": {\"8\": 133, \"27\": 6, \"30\": 3}, \"33\": {\"33\": 36}, \"25\": {\"25\": 119, \"21\": 6, \"53\": 2, \"8\": 3, \"20\": 2}, \"11\": {\"0\": 4, \"11\": 75, \"43\": 6, \"15\": 11, \"55\": 1, \"16\": 2, \"24\": 5}, \"53\": {\"53\": 101, \"50\": 4, \"9\": 1, \"51\": 5, \"20\": 1}}, \"C_2\": {\"32\": {\"32\": 28}, \"17\": {\"17\": 93, \"3\": 4, \"4\": 1, \"36\": 1, \"8\": 2, \"25\": 2, \"20\": 1}, \"38\": {\"38\": 18, \"10\": 2}, \"2\": {\"2\": 31, \"21\": 1}, \"43\": {\"43\": 143, \"46\": 1}, \"56\": {\"38\": 1, \"56\": 125, \"22\": 6, \"24\": 1, \"52\": 2, \"13\": 2, \"5\": 2, \"14\": 1, \"55\": 3, \"10\": 1}, \"37\": {\"37\": 36}, \"49\": {\"49\": 22, \"34\": 1, \"3\": 1}, \"0\": {\"0\": 44, \"5\": 2, \"39\": 1, \"28\": 1}, \"29\": {\"29\": 117, \"17\": 3, \"33\": 3, \"20\": 1, \"21\": 1, \"9\": 1, \"53\": 1, \"19\": 1}, \"35\": {\"35\": 32}, \"18\": {\"18\": 45, \"34\": 1, \"23\": 1, \"30\": 1}, \"25\": {\"25\": 110, \"49\": 1, \"27\": 1, \"20\": 2, \"50\": 3, \"17\": 4, \"6\": 1, \"53\": 4, \"12\": 3, \"8\": 4, \"3\": 2, \"54\": 1}, \"23\": {\"23\": 111, \"52\": 8, \"30\": 4, \"16\": 1}, \"15\": {\"15\": 140, \"11\": 1, \"23\": 1, \"16\": 3, \"52\": 1}, \"21\": {\"21\": 112, \"17\": 1, \"48\": 1, \"54\": 2, \"2\": 1, \"46\": 1, \"25\": 1, \"53\": 1}, \"51\": {\"51\": 120, \"53\": 4, \"20\": 3, \"12\": 1}, \"20\": {\"20\": 132, \"26\": 1, \"40\": 1, \"53\": 3, \"45\": 1}, \"7\": {\"7\": 34, \"42\": 1, \"46\": 1}, \"50\": {\"50\": 67, \"8\": 14, \"47\": 2, \"34\": 1, \"6\": 8, \"54\": 10, \"36\": 6, \"2\": 1, \"12\": 1, \"25\": 4, \"3\": 8, \"48\": 3, \"21\": 2, \"20\": 3, \"53\": 3, \"49\": 2, \"17\": 1}, \"31\": {\"31\": 27, \"5\": 1}, \"30\": {\"30\": 135, \"2\": 1, \"48\": 2, \"6\": 2}, \"19\": {\"19\": 127, \"44\": 9, \"33\": 1, \"4\": 3, \"29\": 2, \"40\": 8, \"9\": 2, \"51\": 2, \"26\": 1, \"45\": 1}, \"9\": {\"9\": 125, \"40\": 11, \"44\": 2, \"3\": 1, \"4\": 2, \"53\": 1, \"19\": 2}, \"52\": {\"23\": 3, \"52\": 115, \"48\": 2, \"57\": 1, \"6\": 2, \"1\": 1}, \"45\": {\"45\": 86, \"26\": 3, \"4\": 9, \"27\": 1, \"12\": 3, \"54\": 3, \"51\": 3, \"8\": 4, \"40\": 5, \"20\": 3, \"25\": 3, \"17\": 2, \"35\": 1, \"50\": 1, \"53\": 1}, \"8\": {\"20\": 1, \"8\": 134, \"12\": 6, \"27\": 3, \"54\": 6, \"25\": 2, \"50\": 1, \"36\": 1}, \"55\": {\"55\": 126, \"3\": 5, \"7\": 3, \"25\": 3, \"46\": 4, \"5\": 4, \"13\": 1, \"47\": 9, \"2\": 1, \"1\": 3, \"42\": 1}, \"12\": {\"12\": 90, \"27\": 1, \"8\": 1}, \"40\": {\"40\": 97, \"19\": 28, \"9\": 2, \"4\": 6, \"44\": 6, \"45\": 1}, \"28\": {\"28\": 28}, \"36\": {\"36\": 115, \"54\": 1}, \"39\": {\"39\": 27, \"46\": 1}, \"46\": {\"46\": 66, \"39\": 4, \"57\": 1, \"34\": 2, \"41\": 1, \"50\": 3, \"48\": 13, \"5\": 2, \"6\": 8, \"54\": 3, \"7\": 3, \"47\": 9, \"3\": 2, \"55\": 2, \"1\": 3}, \"14\": {\"28\": 1, \"40\": 2, \"14\": 6, \"9\": 4, \"10\": 4, \"33\": 2, \"43\": 1, \"29\": 3, \"4\": 1}, \"57\": {\"57\": 136, \"47\": 2, \"5\": 1, \"1\": 2, \"42\": 1}, \"34\": {\"34\": 25, \"53\": 1, \"48\": 2}, \"1\": {\"1\": 106, \"47\": 4, \"3\": 1, \"5\": 1}, \"53\": {\"53\": 126, \"20\": 3, \"51\": 4, \"21\": 2, \"25\": 1}, \"48\": {\"48\": 116, \"34\": 3, \"6\": 5, \"3\": 1, \"46\": 4, \"49\": 1}, \"3\": {\"32\": 1, \"34\": 1, \"49\": 2, \"19\": 3, \"6\": 14, \"51\": 1, \"47\": 5, \"48\": 8, \"46\": 3, \"54\": 1, \"2\": 2, \"52\": 3, \"3\": 20, \"17\": 5, \"29\": 6, \"21\": 2, \"20\": 5, \"50\": 2, \"4\": 2, \"39\": 2, \"53\": 1, \"25\": 1, \"9\": 2}, \"16\": {\"16\": 134, \"52\": 4, \"39\": 1, \"11\": 4, \"23\": 4, \"15\": 4, \"47\": 1}, \"6\": {\"34\": 3, \"6\": 94, \"27\": 2, \"39\": 1, \"8\": 2, \"17\": 2, \"48\": 7, \"54\": 1, \"36\": 4, \"25\": 2, \"50\": 3, \"3\": 3}, \"10\": {\"10\": 102, \"24\": 8, \"14\": 1, \"38\": 1}, \"13\": {\"13\": 115, \"55\": 1}, \"26\": {\"26\": 23, \"20\": 1}, \"24\": {\"24\": 82, \"10\": 10, \"13\": 2, \"43\": 2}, \"44\": {\"44\": 80, \"40\": 7, \"51\": 1, \"19\": 10, \"4\": 1, \"35\": 1}, \"27\": {\"27\": 150}, \"22\": {\"22\": 106, \"56\": 16, \"10\": 1, \"52\": 2, \"55\": 3}, \"33\": {\"33\": 28}, \"47\": {\"55\": 7, \"46\": 10, \"47\": 81, \"1\": 4, \"5\": 2, \"48\": 3, \"57\": 5, \"52\": 1, \"42\": 4, \"2\": 1}, \"5\": {\"5\": 98, \"7\": 1, \"52\": 2, \"1\": 4, \"17\": 1, \"47\": 8, \"46\": 1, \"31\": 2, \"55\": 1, \"34\": 1, \"2\": 1}, \"4\": {\"4\": 131, \"9\": 5, \"20\": 1, \"51\": 1}, \"41\": {\"41\": 18, \"52\": 1, \"34\": 1}, \"11\": {\"11\": 133, \"16\": 11, \"15\": 3, \"52\": 2, \"43\": 1}, \"54\": {\"54\": 104, \"50\": 3, \"3\": 1}, \"42\": {\"42\": 29, \"47\": 5, \"2\": 1, \"48\": 1}}, \"C_3\": {\"5\": {\"5\": 108, \"47\": 1, \"55\": 1, \"46\": 1, \"48\": 1, \"28\": 1, \"41\": 1, \"1\": 2}, \"32\": {\"32\": 26, \"9\": 1, \"27\": 1}, \"33\": {\"33\": 23, \"18\": 2, \"21\": 2, \"3\": 1}, \"49\": {\"49\": 19, \"15\": 1}, \"39\": {\"39\": 16}, \"11\": {\"52\": 3, \"11\": 119, \"15\": 12, \"16\": 5, \"7\": 3}, \"8\": {\"8\": 108, \"54\": 5, \"27\": 1, \"4\": 1, \"12\": 1}, \"26\": {\"26\": 23, \"3\": 1}, \"51\": {\"51\": 119, \"53\": 3}, \"4\": {\"4\": 145, \"53\": 1}, \"52\": {\"52\": 114, \"23\": 2, \"3\": 1, \"46\": 1}, \"47\": {\"47\": 70, \"9\": 2, \"46\": 1, \"48\": 2, \"21\": 2, \"5\": 3, \"3\": 4, \"51\": 1, \"42\": 1, \"34\": 1, \"57\": 1, \"55\": 2, \"1\": 2}, \"17\": {\"17\": 89, \"53\": 2, \"36\": 3, \"6\": 2, \"27\": 4, \"50\": 2, \"25\": 2, \"38\": 1, \"24\": 1, \"3\": 1, \"20\": 1}, \"53\": {\"53\": 127, \"38\": 2, \"21\": 4, \"51\": 2, \"25\": 1}, \"2\": {\"2\": 31, \"12\": 1}, \"12\": {\"8\": 3, \"12\": 87, \"54\": 1, \"17\": 1}, \"37\": {\"37\": 28}, \"9\": {\"9\": 135, \"17\": 2, \"8\": 1, \"53\": 3, \"44\": 1, \"29\": 4, \"4\": 1, \"50\": 1}, \"13\": {\"13\": 123, \"55\": 2, \"40\": 1, \"44\": 1, \"47\": 1}, \"54\": {\"54\": 96, \"50\": 3, \"21\": 1}, \"31\": {\"31\": 28}, \"34\": {\"34\": 31, \"41\": 1}, \"24\": {\"24\": 97, \"10\": 6, \"43\": 1}, \"7\": {\"7\": 35, \"10\": 1}, \"50\": {\"54\": 10, \"8\": 4, \"36\": 5, \"50\": 53, \"25\": 11, \"21\": 1, \"53\": 8, \"6\": 5, \"17\": 5, \"3\": 2, \"46\": 3, \"20\": 2, \"48\": 3, \"38\": 2, \"27\": 2, \"33\": 1, \"23\": 1}, \"46\": {\"46\": 59, \"9\": 2, \"6\": 5, \"42\": 1, \"3\": 18, \"52\": 2, \"21\": 1, \"57\": 3, \"20\": 5, \"50\": 3, \"48\": 10, \"47\": 3, \"1\": 4, \"23\": 1, \"5\": 4, \"7\": 1, \"41\": 1, \"34\": 2, \"36\": 1, \"55\": 2}, \"44\": {\"45\": 1, \"44\": 72, \"19\": 6, \"40\": 8, \"25\": 1}, \"40\": {\"44\": 14, \"40\": 83, \"19\": 14, \"53\": 1, \"29\": 1, \"51\": 2, \"4\": 1}, \"21\": {\"21\": 99, \"37\": 1, \"25\": 2, \"3\": 3, \"50\": 2, \"53\": 14, \"48\": 1, \"6\": 1, \"51\": 1, \"36\": 1, \"54\": 1, \"46\": 1, \"9\": 1}, \"45\": {\"45\": 39, \"12\": 4, \"27\": 2, \"8\": 2, \"17\": 2, \"40\": 1, \"54\": 2, \"2\": 1, \"4\": 2, \"25\": 1, \"51\": 2, \"53\": 1, \"19\": 1}, \"16\": {\"16\": 106, \"52\": 9, \"48\": 1, \"21\": 1, \"3\": 1, \"15\": 3, \"23\": 3, \"11\": 1, \"42\": 1}, \"14\": {\"9\": 1, \"10\": 7, \"14\": 9, \"35\": 3, \"4\": 2, \"11\": 2, \"56\": 1, \"24\": 5, \"29\": 5, \"43\": 1, \"57\": 1, \"7\": 1, \"19\": 1, \"32\": 1}, \"36\": {\"36\": 99, \"27\": 1}, \"56\": {\"56\": 94, \"22\": 15, \"10\": 1, \"24\": 1, \"13\": 3}, \"10\": {\"10\": 58, \"24\": 6}, \"18\": {\"18\": 73, \"48\": 2, \"30\": 4, \"41\": 2, \"52\": 1, \"3\": 2}, \"48\": {\"48\": 108, \"6\": 2, \"3\": 2, \"46\": 2, \"47\": 1, \"41\": 1}, \"38\": {\"38\": 27, \"4\": 1}, \"27\": {\"27\": 123, \"8\": 1, \"50\": 1, \"32\": 1, \"25\": 1, \"36\": 1, \"9\": 2}, \"42\": {\"42\": 24, \"41\": 3, \"6\": 1}, \"15\": {\"15\": 124, \"1\": 1, \"16\": 5, \"48\": 1, \"11\": 1, \"55\": 1, \"3\": 1}, \"1\": {\"1\": 92, \"5\": 3, \"46\": 3, \"48\": 2}, \"28\": {\"37\": 2, \"28\": 22, \"5\": 3, \"35\": 1}, \"43\": {\"43\": 136}, \"0\": {\"0\": 116, \"23\": 4, \"7\": 1, \"49\": 1, \"5\": 2}, \"57\": {\"57\": 120, \"28\": 1, \"1\": 3}, \"3\": {\"3\": 52, \"41\": 4, \"6\": 8, \"35\": 2, \"25\": 1, \"27\": 9, \"9\": 14, \"23\": 3, \"29\": 5, \"57\": 3, \"21\": 9, \"20\": 3, \"48\": 11, \"17\": 2, \"18\": 1, \"47\": 2, \"8\": 1, \"54\": 2, \"50\": 3, \"53\": 3, \"46\": 5, \"38\": 1, \"42\": 1, \"51\": 1, \"36\": 1, \"55\": 1}, \"29\": {\"29\": 114, \"40\": 1, \"57\": 1, \"9\": 5, \"53\": 2, \"35\": 1}, \"41\": {\"41\": 26, \"3\": 1, \"21\": 1}, \"25\": {\"27\": 3, \"25\": 110, \"38\": 3, \"53\": 7, \"50\": 8, \"54\": 3, \"12\": 2, \"17\": 4, \"3\": 1, \"8\": 2, \"6\": 1, \"21\": 1, \"20\": 1}, \"6\": {\"41\": 2, \"6\": 63, \"42\": 2, \"46\": 3, \"25\": 1, \"50\": 3, \"48\": 3, \"8\": 1, \"12\": 1, \"47\": 2, \"36\": 2, \"3\": 2, \"54\": 1, \"27\": 1, \"18\": 1}, \"35\": {\"35\": 28}, \"20\": {\"20\": 112, \"50\": 4, \"46\": 1, \"17\": 2, \"3\": 2, \"54\": 3, \"25\": 2}, \"23\": {\"23\": 127, \"52\": 4, \"46\": 1, \"39\": 1, \"16\": 1}, \"22\": {\"22\": 127, \"3\": 1, \"47\": 1, \"56\": 3, \"13\": 3, \"35\": 1, \"28\": 1, \"55\": 2, \"5\": 1}, \"19\": {\"40\": 9, \"19\": 99, \"51\": 2, \"4\": 4, \"29\": 1, \"44\": 1}, \"55\": {\"55\": 111, \"14\": 1, \"5\": 5, \"42\": 1, \"13\": 1, \"1\": 2, \"28\": 1, \"46\": 1, \"3\": 1}, \"30\": {\"30\": 115, \"16\": 1, \"3\": 1, \"18\": 1, \"54\": 1, \"23\": 1}}, \"C_1\": {\"24\": {\"24\": 75, \"22\": 11, \"10\": 13, \"11\": 6, \"15\": 1, \"52\": 1, \"36\": 1}, \"25\": {\"25\": 136, \"46\": 1, \"19\": 1, \"53\": 1, \"51\": 1}, \"45\": {\"45\": 140, \"42\": 3, \"19\": 1}, \"42\": {\"42\": 37, \"45\": 2, \"19\": 1}, \"2\": {\"2\": 36}, \"9\": {\"9\": 128, \"5\": 11, \"46\": 1, \"18\": 1, \"17\": 2, \"8\": 3, \"53\": 1, \"30\": 2, \"4\": 1}, \"21\": {\"21\": 118, \"52\": 1, \"15\": 4, \"23\": 1}, \"26\": {\"45\": 4, \"26\": 19, \"42\": 1}, \"49\": {\"49\": 29, \"22\": 1, \"32\": 1, \"28\": 1}, \"39\": {\"39\": 24, \"52\": 4}, \"46\": {\"46\": 74, \"48\": 13, \"17\": 7, \"50\": 9, \"4\": 9, \"6\": 7, \"13\": 2, \"40\": 1, \"29\": 2, \"5\": 2, \"8\": 4, \"25\": 2, \"2\": 3, \"9\": 1}, \"17\": {\"17\": 61, \"46\": 1, \"9\": 2}, \"19\": {\"19\": 112, \"57\": 16, \"35\": 1, \"1\": 8, \"56\": 14, \"44\": 2, \"47\": 1, \"20\": 1, \"29\": 1}, \"23\": {\"23\": 131, \"15\": 1}, \"1\": {\"1\": 68, \"19\": 13, \"56\": 7, \"20\": 1, \"57\": 9, \"51\": 1, \"13\": 1}, \"29\": {\"29\": 130, \"51\": 2, \"19\": 3, \"1\": 1, \"40\": 2, \"56\": 1, \"44\": 1}, \"56\": {\"56\": 85, \"57\": 26, \"19\": 19, \"1\": 4, \"44\": 5, \"45\": 4, \"51\": 2, \"20\": 2, \"41\": 1, \"42\": 1, \"13\": 1}, \"37\": {\"37\": 32}, \"33\": {\"33\": 32}, \"55\": {\"55\": 133, \"32\": 1, \"33\": 2, \"54\": 5, \"7\": 1}, \"30\": {\"30\": 115, \"53\": 1, \"18\": 1, \"25\": 1, \"9\": 2}, \"0\": {\"0\": 141, \"38\": 1, \"11\": 1, \"22\": 1, \"55\": 1, \"15\": 2, \"36\": 2, \"23\": 1, \"16\": 1, \"54\": 1}, \"36\": {\"36\": 60, \"0\": 1, \"38\": 1, \"34\": 1, \"16\": 1}, \"32\": {\"32\": 25, \"55\": 2, \"35\": 1, \"28\": 1, \"33\": 1, \"7\": 1, \"36\": 1}, \"31\": {\"31\": 27, \"38\": 1}, \"15\": {\"15\": 118, \"24\": 2, \"22\": 7, \"10\": 4, \"23\": 1, \"21\": 3, \"52\": 1, \"11\": 2}, \"12\": {\"12\": 92, \"20\": 14, \"14\": 1, \"3\": 1, \"13\": 4, \"51\": 2, \"1\": 1, \"19\": 1}, \"38\": {\"15\": 1, \"38\": 20, \"24\": 1, \"52\": 1, \"23\": 1}, \"40\": {\"40\": 134, \"29\": 5, \"3\": 1, \"50\": 1, \"4\": 5}, \"14\": {\"14\": 17, \"13\": 1, \"18\": 1, \"33\": 1, \"30\": 2, \"17\": 1, \"8\": 1}, \"13\": {\"14\": 2, \"13\": 129, \"51\": 13, \"53\": 2, \"12\": 2, \"20\": 2}, \"48\": {\"48\": 139, \"2\": 1, \"46\": 2, \"50\": 3, \"6\": 3}, \"34\": {\"34\": 24}, \"44\": {\"44\": 91, \"47\": 19, \"56\": 10, \"13\": 2, \"12\": 2, \"53\": 2, \"45\": 3, \"20\": 1}, \"5\": {\"5\": 143, \"25\": 4, \"14\": 1, \"26\": 1, \"9\": 2, \"53\": 1}, \"11\": {\"11\": 94, \"15\": 7, \"22\": 16, \"21\": 2, \"36\": 3, \"24\": 4, \"10\": 9, \"38\": 1, \"16\": 2, \"52\": 2}, \"7\": {\"7\": 26, \"55\": 1, \"34\": 1}, \"18\": {\"18\": 66, \"7\": 2, \"30\": 3, \"45\": 1}, \"52\": {\"52\": 119, \"11\": 5, \"38\": 1, \"24\": 3, \"27\": 2, \"43\": 1, \"15\": 1}, \"51\": {\"51\": 119, \"13\": 14, \"57\": 1, \"20\": 5, \"53\": 2, \"19\": 1}, \"41\": {\"41\": 24}, \"16\": {\"16\": 123, \"54\": 6, \"36\": 1, \"55\": 7, \"0\": 1, \"11\": 1, \"18\": 1}, \"22\": {\"22\": 99, \"27\": 3, \"24\": 14, \"11\": 4, \"10\": 4, \"15\": 8, \"39\": 1, \"21\": 1}, \"3\": {\"41\": 1, \"54\": 1, \"3\": 104, \"12\": 2, \"29\": 3, \"7\": 1, \"44\": 1, \"20\": 2, \"57\": 1, \"19\": 2, \"13\": 10, \"5\": 1, \"51\": 4, \"32\": 1, \"47\": 2, \"42\": 1, \"40\": 1, \"55\": 1, \"56\": 1}, \"54\": {\"54\": 104}, \"27\": {\"27\": 140, \"24\": 2, \"52\": 1, \"22\": 1}, \"20\": {\"20\": 112, \"12\": 15, \"13\": 7, \"3\": 1, \"51\": 3, \"45\": 1, \"42\": 1}, \"8\": {\"8\": 103, \"9\": 17, \"30\": 4, \"17\": 4, \"6\": 1, \"48\": 6, \"25\": 1, \"53\": 2}, \"50\": {\"50\": 144}, \"57\": {\"57\": 94, \"19\": 16, \"56\": 17, \"44\": 4, \"1\": 6, \"12\": 2, \"17\": 1}, \"4\": {\"4\": 131, \"40\": 1}, \"47\": {\"47\": 128, \"56\": 3, \"44\": 12, \"45\": 1, \"35\": 2}, \"10\": {\"22\": 12, \"10\": 63, \"15\": 3, \"11\": 7, \"24\": 7, \"52\": 3, \"21\": 1}, \"35\": {\"35\": 35, \"56\": 1}, \"53\": {\"53\": 118, \"17\": 1, \"5\": 1, \"9\": 1, \"51\": 3, \"14\": 1, \"45\": 1}, \"6\": {\"8\": 6, \"6\": 60, \"50\": 4, \"2\": 3, \"17\": 2, \"46\": 5, \"48\": 9, \"53\": 1, \"30\": 2, \"9\": 2, \"5\": 1, \"4\": 1}, \"43\": {\"43\": 139, \"22\": 1}, \"28\": {\"28\": 28}}, \"C_5\": {\"35\": {\"35\": 35, \"56\": 1}, \"57\": {\"57\": 125, \"18\": 1, \"47\": 2, \"36\": 1, \"54\": 1, \"23\": 1, \"3\": 1}, \"20\": {\"20\": 138, \"45\": 1, \"53\": 2, \"50\": 1, \"48\": 1, \"1\": 1}, \"12\": {\"12\": 83, \"38\": 2, \"17\": 1, \"30\": 3, \"6\": 1, \"45\": 3, \"55\": 1, \"9\": 2}, \"32\": {\"32\": 27, \"48\": 1, \"27\": 2, \"1\": 1, \"7\": 1}, \"25\": {\"45\": 1, \"25\": 126, \"27\": 1, \"51\": 1, \"55\": 5, \"20\": 1, \"50\": 2, \"1\": 1}, \"44\": {\"5\": 8, \"44\": 119, \"51\": 4, \"47\": 1, \"40\": 4, \"19\": 5, \"29\": 4, \"33\": 1, \"55\": 1, \"56\": 1}, \"31\": {\"31\": 35, \"49\": 1}, \"11\": {\"11\": 104, \"16\": 4, \"52\": 3, \"24\": 3, \"43\": 16, \"0\": 4, \"21\": 1, \"15\": 14, \"31\": 1}, \"47\": {\"47\": 74, \"54\": 3, \"34\": 2, \"41\": 3, \"36\": 11, \"57\": 1, \"3\": 2, \"46\": 1, \"53\": 2, \"50\": 1}, \"23\": {\"23\": 117, \"52\": 2, \"18\": 3, \"3\": 1, \"47\": 1}, \"43\": {\"43\": 142, \"11\": 2}, \"37\": {\"37\": 23, \"21\": 1}, \"5\": {\"5\": 95, \"19\": 12, \"40\": 7, \"51\": 4, \"44\": 5, \"53\": 1, \"50\": 2, \"27\": 1, \"21\": 1}, \"45\": {\"45\": 60, \"48\": 6, \"38\": 2, \"8\": 4, \"55\": 6, \"4\": 6, \"1\": 1, \"6\": 9, \"5\": 1, \"17\": 11, \"9\": 10, \"7\": 1, \"19\": 1, \"50\": 2, \"30\": 2, \"27\": 1, \"12\": 1}, \"7\": {\"7\": 28, \"4\": 1, \"17\": 1, \"27\": 1, \"55\": 1}, \"13\": {\"13\": 111, \"10\": 9, \"24\": 4, \"14\": 3, \"40\": 1, \"56\": 3, \"57\": 1, \"21\": 1, \"43\": 2, \"5\": 1}, \"49\": {\"49\": 36}, \"46\": {\"16\": 1, \"3\": 13, \"46\": 99, \"36\": 4, \"52\": 13, \"48\": 1, \"0\": 6, \"23\": 2, \"43\": 2, \"57\": 2, \"34\": 1, \"11\": 3, \"53\": 1}, \"16\": {\"16\": 112, \"25\": 1, \"52\": 4, \"3\": 3, \"15\": 2, \"43\": 4, \"46\": 3, \"11\": 4, \"36\": 1, \"49\": 1, \"13\": 1}, \"54\": {\"54\": 112}, \"19\": {\"19\": 138, \"4\": 1, \"5\": 8, \"40\": 2, \"9\": 2, \"33\": 1}, \"55\": {\"55\": 111, \"45\": 12, \"48\": 3, \"32\": 1, \"6\": 3, \"8\": 1, \"27\": 1, \"50\": 7, \"25\": 5, \"1\": 3, \"26\": 1, \"51\": 1, \"9\": 1}, \"30\": {\"30\": 109, \"45\": 1, \"17\": 8, \"8\": 3, \"6\": 3, \"48\": 2, \"1\": 2}, \"34\": {\"34\": 32, \"47\": 1, \"50\": 1, \"14\": 1, \"51\": 1}, \"50\": {\"30\": 1, \"5\": 2, \"50\": 36, \"54\": 2, \"51\": 14, \"7\": 2, \"27\": 7, \"33\": 2, \"53\": 7, \"8\": 3, \"55\": 2, \"9\": 9, \"1\": 11, \"47\": 4, \"48\": 10, \"45\": 4, \"6\": 6, \"23\": 1, \"19\": 1, \"29\": 1, \"20\": 2, \"32\": 2, \"25\": 3, \"21\": 2}, \"3\": {\"3\": 62, \"49\": 1, \"57\": 1, \"46\": 10, \"47\": 4, \"36\": 12, \"16\": 4, \"23\": 1, \"52\": 2, \"0\": 3}, \"10\": {\"10\": 56, \"24\": 5, \"13\": 6, \"21\": 1}, \"27\": {\"27\": 116, \"45\": 4, \"9\": 15, \"6\": 1, \"53\": 1, \"55\": 3, \"50\": 2}, \"33\": {\"33\": 32}, \"56\": {\"56\": 137, \"35\": 2, \"13\": 1, \"43\": 1, \"10\": 1}, \"9\": {\"9\": 120, \"7\": 1, \"27\": 14, \"55\": 4, \"53\": 3, \"51\": 3, \"19\": 1, \"45\": 3, \"4\": 1}, \"14\": {\"31\": 5, \"53\": 1, \"43\": 1, \"35\": 1, \"21\": 2, \"14\": 8, \"36\": 4, \"32\": 1, \"20\": 1, \"34\": 3, \"54\": 1, \"17\": 1, \"50\": 1, \"29\": 2, \"37\": 2, \"2\": 3, \"47\": 1, \"33\": 2, \"51\": 2, \"11\": 1, \"46\": 1}, \"4\": {\"4\": 91, \"7\": 1, \"12\": 1, \"51\": 2, \"45\": 2, \"5\": 1, \"19\": 2}, \"42\": {\"42\": 35, \"39\": 2, \"18\": 2, \"26\": 1}, \"24\": {\"10\": 3, \"24\": 76, \"15\": 1}, \"39\": {\"39\": 17, \"41\": 1, \"18\": 1, \"46\": 1}, \"52\": {\"52\": 118, \"2\": 1, \"46\": 7, \"36\": 2, \"3\": 2}, \"2\": {\"2\": 28}, \"28\": {\"28\": 31, \"29\": 1}, \"53\": {\"53\": 112, \"20\": 3, \"50\": 2, \"51\": 3, \"21\": 1, \"1\": 1}, \"17\": {\"26\": 2, \"17\": 89, \"30\": 11, \"6\": 6, \"45\": 3, \"25\": 1, \"48\": 2, \"9\": 1, \"8\": 1}, \"29\": {\"29\": 114, \"44\": 6, \"51\": 2, \"5\": 1, \"19\": 3, \"40\": 2, \"27\": 1, \"21\": 2, \"50\": 1}, \"38\": {\"38\": 32}, \"15\": {\"15\": 127, \"43\": 3, \"13\": 1, \"0\": 2, \"24\": 3, \"11\": 8}, \"26\": {\"26\": 22, \"38\": 1, \"6\": 1}, \"21\": {\"21\": 142, \"51\": 1, \"20\": 1}, \"41\": {\"41\": 24, \"34\": 1, \"1\": 1, \"48\": 1, \"7\": 1}, \"48\": {\"48\": 105, \"32\": 1, \"20\": 2, \"6\": 4, \"1\": 15, \"53\": 2, \"55\": 3, \"17\": 1, \"45\": 2, \"25\": 1}, \"22\": {\"22\": 25, \"29\": 1, \"44\": 1, \"34\": 1}, \"8\": {\"8\": 135, \"20\": 2, \"50\": 1, \"6\": 5, \"1\": 4, \"30\": 1}, \"18\": {\"18\": 55, \"42\": 5, \"23\": 2, \"41\": 1, \"8\": 1}, \"0\": {\"11\": 9, \"0\": 86, \"3\": 1, \"46\": 4, \"24\": 4, \"15\": 9, \"57\": 2, \"16\": 3, \"43\": 4}, \"1\": {\"1\": 108, \"48\": 24, \"45\": 2, \"8\": 2, \"55\": 1, \"30\": 1}, \"40\": {\"40\": 72, \"5\": 19, \"44\": 11, \"29\": 3, \"19\": 14, \"45\": 1, \"51\": 2, \"53\": 1, \"9\": 1}, \"6\": {\"6\": 70, \"30\": 5, \"1\": 10, \"48\": 11, \"50\": 6, \"17\": 4, \"8\": 11, \"53\": 1, \"45\": 8, \"55\": 1, \"25\": 1}, \"51\": {\"51\": 135, \"50\": 2, \"53\": 3, \"25\": 1, \"21\": 1}, \"36\": {\"36\": 92}}}, \"per_domain_accuracy\": {\"O_50\": {\"accuracy\": 0.8106770833333333, \"source?\": true}, \"O_14\": {\"accuracy\": 0.84609375, \"source?\": true}, \"O_32\": {\"accuracy\": 0.8033854166666666, \"source?\": true}, \"O_44\": {\"accuracy\": 0.70078125, \"source?\": true}, \"O_8\": {\"accuracy\": 0.8171875, \"source?\": true}, \"O_20\": {\"accuracy\": 0.7489583333333333, \"source?\": true}, \"O_38\": {\"accuracy\": 0.825, \"source?\": true}, \"O_26\": {\"accuracy\": 0.6127604166666667, \"source?\": true}, \"C_4\": {\"accuracy\": 0.8587121212121213, \"source?\": false}, \"C_2\": {\"accuracy\": 0.8604283707865169, \"source?\": false}, \"C_3\": {\"accuracy\": 0.8588169642857143, \"source?\": false}, \"C_1\": {\"accuracy\": 0.8527027027027027, \"source?\": false}, \"C_5\": {\"accuracy\": 0.8203561452513967, \"source?\": false}}}, \"history\": {\"epoch_indices\": [1, 2, 3, 4, 5, 6], \"train_label_loss\": [1.0020824125036598, 0.7334429691501316, 0.5814724891258048, 0.510680051437313, 0.46254590935727935, 0.4178503726221], \"source_val_label_loss\": [1.0937273502349854, 0.6320277452468872, 0.5441125631332397, 0.46660116314888, 0.43577027320861816, 0.42717406153678894], \"target_val_label_loss\": [5.885859966278076, 1.2221075296401978, 1.6298017501831055, 1.2046356201171875, 1.3695626258850098, 1.7208935022354126], \"source_val_acc_label\": [0.6522135416666667, 0.77060546875, 0.8022786458333333, 0.8306315104166667, 0.8402669270833333, 0.8443033854166667], \"target_val_acc_label\": [0.71175, 0.8499642857142857, 0.828, 0.8388214285714286, 0.8431785714285714, 0.8232142857142857]}, \"dataset_metrics\": {\"source\": {\"train\": {\"n_unique_x\": 179200, \"n_unique_y\": 16, \"n_batch/episode\": 6720}, \"val\": {\"n_unique_x\": 38400, \"n_unique_y\": 16, \"n_batch/episode\": 960}, \"test\": {\"n_unique_x\": 38400, \"n_unique_y\": 16, \"n_batch/episode\": 960}}, \"target\": {\"train\": {\"n_unique_x\": 175197, \"n_unique_y\": 58, \"n_batch/episode\": 6309}, \"val\": {\"n_unique_x\": 37166, \"n_unique_y\": 58, \"n_batch/episode\": 875}, \"test\": {\"n_unique_x\": 37642, \"n_unique_y\": 58, \"n_batch/episode\": 890}}}}'"
      ]
     },
     "execution_count": 29,
     "metadata": {},
     "output_type": "execute_result"
    }
   ],
   "source": [
    "json.dumps(experiment)"
   ]
  }
 ],
 "metadata": {
  "celltoolbar": "Tags",
  "kernelspec": {
   "display_name": "Python 3 (ipykernel)",
   "language": "python",
   "name": "python3"
  },
  "language_info": {
   "codemirror_mode": {
    "name": "ipython",
    "version": 3
   },
   "file_extension": ".py",
   "mimetype": "text/x-python",
   "name": "python",
   "nbconvert_exporter": "python",
   "pygments_lexer": "ipython3",
   "version": "3.8.10"
  },
  "papermill": {
   "default_parameters": {},
   "duration": 1133.735922,
   "end_time": "2022-03-25T13:53:54.741365",
   "environment_variables": {},
   "exception": null,
   "input_path": "/mnt/wd500GB/CSC500/csc500-main/csc500-notebooks/templates/tl_ptn_template.ipynb",
   "output_path": "trial.ipynb",
   "parameters": {
    "parameters": {
     "BEST_MODEL_PATH": "./best_model.pth",
     "NUM_LOGS_PER_EPOCH": 10,
     "criteria_for_best": "target_accuracy",
     "dataset_seed": 500,
     "datasets": [
      {
       "domain_prefix": "C_",
       "domains": [
        1,
        2,
        3,
        4,
        5
       ],
       "episode_transforms": [],
       "labels": [
        "1-10.",
        "1-11.",
        "1-15.",
        "1-16.",
        "1-17.",
        "1-18.",
        "1-19.",
        "10-4.",
        "10-7.",
        "11-1.",
        "11-14.",
        "11-17.",
        "11-20.",
        "11-7.",
        "13-20.",
        "13-8.",
        "14-10.",
        "14-11.",
        "14-14.",
        "14-7.",
        "15-1.",
        "15-20.",
        "16-1.",
        "16-16.",
        "17-10.",
        "17-11.",
        "17-2.",
        "19-1.",
        "19-16.",
        "19-19.",
        "19-20.",
        "19-3.",
        "2-10.",
        "2-11.",
        "2-17.",
        "2-18.",
        "2-20.",
        "2-3.",
        "2-4.",
        "2-5.",
        "2-6.",
        "2-7.",
        "2-8.",
        "3-13.",
        "3-18.",
        "3-3.",
        "4-1.",
        "4-10.",
        "4-11.",
        "4-19.",
        "5-5.",
        "6-15.",
        "7-10.",
        "7-14.",
        "8-18.",
        "8-20.",
        "8-3.",
        "8-8."
       ],
       "num_examples_per_domain_per_label": -1,
       "pickle_path": "/mnt/wd500GB/CSC500/csc500-main/datasets/cores.stratified_ds.2022A.pkl",
       "source_or_target_dataset": "target",
       "x_transforms": [
        "unit_power",
        "take_200"
       ]
      },
      {
       "domain_prefix": "O_",
       "domains": [
        32,
        38,
        8,
        44,
        14,
        50,
        20,
        26
       ],
       "episode_transforms": [],
       "labels": [
        "3123D52",
        "3123D65",
        "3123D79",
        "3123D80",
        "3123D54",
        "3123D70",
        "3123D7B",
        "3123D89",
        "3123D58",
        "3123D76",
        "3123D7D",
        "3123EFE",
        "3123D64",
        "3123D78",
        "3123D7E",
        "3124E4A"
       ],
       "num_examples_per_domain_per_label": 2000,
       "pickle_path": "/mnt/wd500GB/CSC500/csc500-main/datasets/oracle.Run1_framed_2000Examples_stratified_ds.2022A.pkl",
       "source_or_target_dataset": "source",
       "x_transforms": [
        "unit_power",
        "take_200",
        "resample_20Msps_to_25Msps"
       ]
      }
     ],
     "device": "cuda",
     "experiment_name": "tl_3Av2:oracle.run1.framed -> cores",
     "lr": 0.0001,
     "n_epoch": 50,
     "n_query": 2,
     "n_shot": 3,
     "n_way": 16,
     "patience": 3,
     "seed": 500,
     "test_k_factor": 2,
     "torch_default_dtype": "torch.float32",
     "train_k_factor": 3,
     "val_k_factor": 2,
     "x_net": [
      {
       "class": "nnReshape",
       "kargs": {
        "shape": [
         -1,
         1,
         2,
         200
        ]
       }
      },
      {
       "class": "Conv2d",
       "kargs": {
        "bias": false,
        "in_channels": 1,
        "kernel_size": [
         1,
         7
        ],
        "out_channels": 256,
        "padding": [
         0,
         3
        ]
       }
      },
      {
       "class": "ReLU",
       "kargs": {
        "inplace": true
       }
      },
      {
       "class": "BatchNorm2d",
       "kargs": {
        "num_features": 256
       }
      },
      {
       "class": "Conv2d",
       "kargs": {
        "bias": true,
        "in_channels": 256,
        "kernel_size": [
         2,
         7
        ],
        "out_channels": 80,
        "padding": [
         0,
         3
        ]
       }
      },
      {
       "class": "ReLU",
       "kargs": {
        "inplace": true
       }
      },
      {
       "class": "BatchNorm2d",
       "kargs": {
        "num_features": 80
       }
      },
      {
       "class": "Flatten",
       "kargs": {}
      },
      {
       "class": "Linear",
       "kargs": {
        "in_features": 16000,
        "out_features": 256
       }
      },
      {
       "class": "ReLU",
       "kargs": {
        "inplace": true
       }
      },
      {
       "class": "BatchNorm1d",
       "kargs": {
        "num_features": 256
       }
      },
      {
       "class": "Linear",
       "kargs": {
        "in_features": 256,
        "out_features": 256
       }
      }
     ],
     "x_shape": [
      2,
      200
     ]
    }
   },
   "start_time": "2022-03-25T13:35:01.005443",
   "version": "2.3.4"
  }
 },
 "nbformat": 4,
 "nbformat_minor": 5
}