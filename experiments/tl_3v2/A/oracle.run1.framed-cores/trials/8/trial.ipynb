{
 "cells": [
  {
   "cell_type": "markdown",
   "id": "9fea5f46",
   "metadata": {
    "papermill": {
     "duration": 0.018961,
     "end_time": "2022-03-25T11:29:00.578068",
     "exception": false,
     "start_time": "2022-03-25T11:29:00.559107",
     "status": "completed"
    },
    "tags": []
   },
   "source": [
    "# Transfer Learning Template"
   ]
  },
  {
   "cell_type": "code",
   "execution_count": 1,
   "id": "0902182a",
   "metadata": {
    "execution": {
     "iopub.execute_input": "2022-03-25T11:29:00.617989Z",
     "iopub.status.busy": "2022-03-25T11:29:00.617490Z",
     "iopub.status.idle": "2022-03-25T11:29:01.536785Z",
     "shell.execute_reply": "2022-03-25T11:29:01.536466Z"
    },
    "papermill": {
     "duration": 0.944837,
     "end_time": "2022-03-25T11:29:01.536850",
     "exception": false,
     "start_time": "2022-03-25T11:29:00.592013",
     "status": "completed"
    },
    "tags": []
   },
   "outputs": [],
   "source": [
    "%load_ext autoreload\n",
    "%autoreload 2\n",
    "%matplotlib inline\n",
    "\n",
    "    \n",
    "import os, json, sys, time, random\n",
    "import numpy as np\n",
    "import torch\n",
    "from torch.optim import Adam\n",
    "from  easydict import EasyDict\n",
    "import matplotlib.pyplot as plt\n",
    "\n",
    "from steves_models.steves_ptn import Steves_Prototypical_Network\n",
    "\n",
    "from steves_utils.lazy_iterable_wrapper import Lazy_Iterable_Wrapper\n",
    "from steves_utils.iterable_aggregator import Iterable_Aggregator\n",
    "from steves_utils.ptn_train_eval_test_jig import  PTN_Train_Eval_Test_Jig\n",
    "from steves_utils.torch_sequential_builder import build_sequential\n",
    "from steves_utils.torch_utils import get_dataset_metrics, ptn_confusion_by_domain_over_dataloader\n",
    "from steves_utils.utils_v2 import (per_domain_accuracy_from_confusion, get_datasets_base_path)\n",
    "from steves_utils.PTN.utils import independent_accuracy_assesment\n",
    "\n",
    "from torch.utils.data import DataLoader\n",
    "\n",
    "from steves_utils.stratified_dataset.episodic_accessor import Episodic_Accessor_Factory\n",
    "\n",
    "from steves_utils.ptn_do_report import (\n",
    "    get_loss_curve,\n",
    "    get_results_table,\n",
    "    get_parameters_table,\n",
    "    get_domain_accuracies,\n",
    ")\n",
    "\n",
    "from steves_utils.transforms import get_chained_transform"
   ]
  },
  {
   "cell_type": "markdown",
   "id": "41c840b4",
   "metadata": {
    "papermill": {
     "duration": 0.01226,
     "end_time": "2022-03-25T11:29:01.561859",
     "exception": false,
     "start_time": "2022-03-25T11:29:01.549599",
     "status": "completed"
    },
    "tags": []
   },
   "source": [
    "# Allowed Parameters\n",
    "These are allowed parameters, not defaults\n",
    "Each of these values need to be present in the injected parameters (the notebook will raise an exception if they are not present)\n",
    "\n",
    "Papermill uses the cell tag \"parameters\" to inject the real parameters below this cell.\n",
    "Enable tags to see what I mean"
   ]
  },
  {
   "cell_type": "code",
   "execution_count": 2,
   "id": "fd44eb83",
   "metadata": {
    "execution": {
     "iopub.execute_input": "2022-03-25T11:29:01.595791Z",
     "iopub.status.busy": "2022-03-25T11:29:01.589581Z",
     "iopub.status.idle": "2022-03-25T11:29:01.603319Z",
     "shell.execute_reply": "2022-03-25T11:29:01.603721Z"
    },
    "papermill": {
     "duration": 0.029659,
     "end_time": "2022-03-25T11:29:01.603840",
     "exception": false,
     "start_time": "2022-03-25T11:29:01.574181",
     "status": "completed"
    },
    "tags": []
   },
   "outputs": [],
   "source": [
    "required_parameters = {\n",
    "    \"experiment_name\",\n",
    "    \"lr\",\n",
    "    \"device\",\n",
    "    \"seed\",\n",
    "    \"dataset_seed\",\n",
    "    \"n_shot\",\n",
    "    \"n_query\",\n",
    "    \"n_way\",\n",
    "    \"train_k_factor\",\n",
    "    \"val_k_factor\",\n",
    "    \"test_k_factor\",\n",
    "    \"n_epoch\",\n",
    "    \"patience\",\n",
    "    \"criteria_for_best\",\n",
    "    \"x_net\",\n",
    "    \"datasets\",\n",
    "    \"torch_default_dtype\",\n",
    "    \"NUM_LOGS_PER_EPOCH\",\n",
    "    \"BEST_MODEL_PATH\",\n",
    "    \"x_shape\",\n",
    "}"
   ]
  },
  {
   "cell_type": "code",
   "execution_count": 3,
   "id": "fa3f0049",
   "metadata": {
    "execution": {
     "iopub.execute_input": "2022-03-25T11:29:01.644649Z",
     "iopub.status.busy": "2022-03-25T11:29:01.644149Z",
     "iopub.status.idle": "2022-03-25T11:29:01.656460Z",
     "shell.execute_reply": "2022-03-25T11:29:01.656068Z"
    },
    "papermill": {
     "duration": 0.034241,
     "end_time": "2022-03-25T11:29:01.656547",
     "exception": false,
     "start_time": "2022-03-25T11:29:01.622306",
     "status": "completed"
    },
    "tags": [
     "parameters"
    ]
   },
   "outputs": [],
   "source": [
    "from steves_utils.CORES.utils import (\n",
    "    ALL_NODES,\n",
    "    ALL_NODES_MINIMUM_1000_EXAMPLES,\n",
    "    ALL_DAYS\n",
    ")\n",
    "\n",
    "from steves_utils.ORACLE.utils_v2 import (\n",
    "    ALL_DISTANCES_FEET_NARROWED,\n",
    "    ALL_RUNS,\n",
    "    ALL_SERIAL_NUMBERS,\n",
    ")\n",
    "\n",
    "standalone_parameters = {}\n",
    "standalone_parameters[\"experiment_name\"] = \"STANDALONE PTN\"\n",
    "standalone_parameters[\"lr\"] = 0.001\n",
    "standalone_parameters[\"device\"] = \"cuda\"\n",
    "\n",
    "standalone_parameters[\"seed\"] = 1337\n",
    "standalone_parameters[\"dataset_seed\"] = 1337\n",
    "\n",
    "standalone_parameters[\"n_way\"] = 8\n",
    "standalone_parameters[\"n_shot\"] = 3\n",
    "standalone_parameters[\"n_query\"]  = 2\n",
    "standalone_parameters[\"train_k_factor\"] = 1\n",
    "standalone_parameters[\"val_k_factor\"] = 2\n",
    "standalone_parameters[\"test_k_factor\"] = 2\n",
    "\n",
    "\n",
    "standalone_parameters[\"n_epoch\"] = 50\n",
    "\n",
    "standalone_parameters[\"patience\"] = 10\n",
    "standalone_parameters[\"criteria_for_best\"] = \"source_loss\"\n",
    "\n",
    "standalone_parameters[\"datasets\"] = [\n",
    "    {\n",
    "        \"labels\": ALL_SERIAL_NUMBERS,\n",
    "        \"domains\": ALL_DISTANCES_FEET_NARROWED,\n",
    "        \"num_examples_per_domain_per_label\": 100,\n",
    "        \"pickle_path\": os.path.join(get_datasets_base_path(), \"oracle.Run1_framed_2000Examples_stratified_ds.2022A.pkl\"),\n",
    "        \"source_or_target_dataset\": \"source\",\n",
    "        \"x_transforms\": [\"unit_mag\", \"minus_two\"],\n",
    "        \"episode_transforms\": [],\n",
    "        \"domain_prefix\": \"ORACLE_\"\n",
    "    },\n",
    "    {\n",
    "        \"labels\": ALL_NODES,\n",
    "        \"domains\": ALL_DAYS,\n",
    "        \"num_examples_per_domain_per_label\": 100,\n",
    "        \"pickle_path\": os.path.join(get_datasets_base_path(), \"cores.stratified_ds.2022A.pkl\"),\n",
    "        \"source_or_target_dataset\": \"target\",\n",
    "        \"x_transforms\": [\"unit_power\", \"times_zero\"],\n",
    "        \"episode_transforms\": [],\n",
    "        \"domain_prefix\": \"CORES_\"\n",
    "    }   \n",
    "]\n",
    "\n",
    "standalone_parameters[\"torch_default_dtype\"] = \"torch.float32\" \n",
    "\n",
    "\n",
    "\n",
    "standalone_parameters[\"x_net\"] =     [\n",
    "    {\"class\": \"nnReshape\", \"kargs\": {\"shape\":[-1, 1, 2, 256]}},\n",
    "    {\"class\": \"Conv2d\", \"kargs\": { \"in_channels\":1, \"out_channels\":256, \"kernel_size\":(1,7), \"bias\":False, \"padding\":(0,3), },},\n",
    "    {\"class\": \"ReLU\", \"kargs\": {\"inplace\": True}},\n",
    "    {\"class\": \"BatchNorm2d\", \"kargs\": {\"num_features\":256}},\n",
    "\n",
    "    {\"class\": \"Conv2d\", \"kargs\": { \"in_channels\":256, \"out_channels\":80, \"kernel_size\":(2,7), \"bias\":True, \"padding\":(0,3), },},\n",
    "    {\"class\": \"ReLU\", \"kargs\": {\"inplace\": True}},\n",
    "    {\"class\": \"BatchNorm2d\", \"kargs\": {\"num_features\":80}},\n",
    "    {\"class\": \"Flatten\", \"kargs\": {}},\n",
    "\n",
    "    {\"class\": \"Linear\", \"kargs\": {\"in_features\": 80*256, \"out_features\": 256}}, # 80 units per IQ pair\n",
    "    {\"class\": \"ReLU\", \"kargs\": {\"inplace\": True}},\n",
    "    {\"class\": \"BatchNorm1d\", \"kargs\": {\"num_features\":256}},\n",
    "\n",
    "    {\"class\": \"Linear\", \"kargs\": {\"in_features\": 256, \"out_features\": 256}},\n",
    "]\n",
    "\n",
    "# Parameters relevant to results\n",
    "# These parameters will basically never need to change\n",
    "standalone_parameters[\"NUM_LOGS_PER_EPOCH\"] = 10\n",
    "standalone_parameters[\"BEST_MODEL_PATH\"] = \"./best_model.pth\"\n",
    "\n",
    "\n",
    "\n",
    "\n"
   ]
  },
  {
   "cell_type": "code",
   "execution_count": 4,
   "id": "63fb381c",
   "metadata": {
    "execution": {
     "iopub.execute_input": "2022-03-25T11:29:01.696524Z",
     "iopub.status.busy": "2022-03-25T11:29:01.696112Z",
     "iopub.status.idle": "2022-03-25T11:29:01.710435Z",
     "shell.execute_reply": "2022-03-25T11:29:01.710045Z"
    },
    "papermill": {
     "duration": 0.035754,
     "end_time": "2022-03-25T11:29:01.710522",
     "exception": false,
     "start_time": "2022-03-25T11:29:01.674768",
     "status": "completed"
    },
    "tags": [
     "injected-parameters"
    ]
   },
   "outputs": [],
   "source": [
    "# Parameters\n",
    "parameters = {\n",
    "    \"experiment_name\": \"tl_3Av2:oracle.run1.framed -> cores\",\n",
    "    \"device\": \"cuda\",\n",
    "    \"lr\": 0.0001,\n",
    "    \"x_shape\": [2, 200],\n",
    "    \"n_shot\": 3,\n",
    "    \"n_query\": 2,\n",
    "    \"train_k_factor\": 3,\n",
    "    \"val_k_factor\": 2,\n",
    "    \"test_k_factor\": 2,\n",
    "    \"torch_default_dtype\": \"torch.float32\",\n",
    "    \"n_epoch\": 50,\n",
    "    \"patience\": 3,\n",
    "    \"criteria_for_best\": \"target_accuracy\",\n",
    "    \"x_net\": [\n",
    "        {\"class\": \"nnReshape\", \"kargs\": {\"shape\": [-1, 1, 2, 200]}},\n",
    "        {\n",
    "            \"class\": \"Conv2d\",\n",
    "            \"kargs\": {\n",
    "                \"in_channels\": 1,\n",
    "                \"out_channels\": 256,\n",
    "                \"kernel_size\": [1, 7],\n",
    "                \"bias\": False,\n",
    "                \"padding\": [0, 3],\n",
    "            },\n",
    "        },\n",
    "        {\"class\": \"ReLU\", \"kargs\": {\"inplace\": True}},\n",
    "        {\"class\": \"BatchNorm2d\", \"kargs\": {\"num_features\": 256}},\n",
    "        {\n",
    "            \"class\": \"Conv2d\",\n",
    "            \"kargs\": {\n",
    "                \"in_channels\": 256,\n",
    "                \"out_channels\": 80,\n",
    "                \"kernel_size\": [2, 7],\n",
    "                \"bias\": True,\n",
    "                \"padding\": [0, 3],\n",
    "            },\n",
    "        },\n",
    "        {\"class\": \"ReLU\", \"kargs\": {\"inplace\": True}},\n",
    "        {\"class\": \"BatchNorm2d\", \"kargs\": {\"num_features\": 80}},\n",
    "        {\"class\": \"Flatten\", \"kargs\": {}},\n",
    "        {\"class\": \"Linear\", \"kargs\": {\"in_features\": 16000, \"out_features\": 256}},\n",
    "        {\"class\": \"ReLU\", \"kargs\": {\"inplace\": True}},\n",
    "        {\"class\": \"BatchNorm1d\", \"kargs\": {\"num_features\": 256}},\n",
    "        {\"class\": \"Linear\", \"kargs\": {\"in_features\": 256, \"out_features\": 256}},\n",
    "    ],\n",
    "    \"NUM_LOGS_PER_EPOCH\": 10,\n",
    "    \"BEST_MODEL_PATH\": \"./best_model.pth\",\n",
    "    \"n_way\": 16,\n",
    "    \"datasets\": [\n",
    "        {\n",
    "            \"labels\": [\n",
    "                \"1-10.\",\n",
    "                \"1-11.\",\n",
    "                \"1-15.\",\n",
    "                \"1-16.\",\n",
    "                \"1-17.\",\n",
    "                \"1-18.\",\n",
    "                \"1-19.\",\n",
    "                \"10-4.\",\n",
    "                \"10-7.\",\n",
    "                \"11-1.\",\n",
    "                \"11-14.\",\n",
    "                \"11-17.\",\n",
    "                \"11-20.\",\n",
    "                \"11-7.\",\n",
    "                \"13-20.\",\n",
    "                \"13-8.\",\n",
    "                \"14-10.\",\n",
    "                \"14-11.\",\n",
    "                \"14-14.\",\n",
    "                \"14-7.\",\n",
    "                \"15-1.\",\n",
    "                \"15-20.\",\n",
    "                \"16-1.\",\n",
    "                \"16-16.\",\n",
    "                \"17-10.\",\n",
    "                \"17-11.\",\n",
    "                \"17-2.\",\n",
    "                \"19-1.\",\n",
    "                \"19-16.\",\n",
    "                \"19-19.\",\n",
    "                \"19-20.\",\n",
    "                \"19-3.\",\n",
    "                \"2-10.\",\n",
    "                \"2-11.\",\n",
    "                \"2-17.\",\n",
    "                \"2-18.\",\n",
    "                \"2-20.\",\n",
    "                \"2-3.\",\n",
    "                \"2-4.\",\n",
    "                \"2-5.\",\n",
    "                \"2-6.\",\n",
    "                \"2-7.\",\n",
    "                \"2-8.\",\n",
    "                \"3-13.\",\n",
    "                \"3-18.\",\n",
    "                \"3-3.\",\n",
    "                \"4-1.\",\n",
    "                \"4-10.\",\n",
    "                \"4-11.\",\n",
    "                \"4-19.\",\n",
    "                \"5-5.\",\n",
    "                \"6-15.\",\n",
    "                \"7-10.\",\n",
    "                \"7-14.\",\n",
    "                \"8-18.\",\n",
    "                \"8-20.\",\n",
    "                \"8-3.\",\n",
    "                \"8-8.\",\n",
    "            ],\n",
    "            \"domains\": [1, 2, 3, 4, 5],\n",
    "            \"num_examples_per_domain_per_label\": -1,\n",
    "            \"pickle_path\": \"/mnt/wd500GB/CSC500/csc500-main/datasets/cores.stratified_ds.2022A.pkl\",\n",
    "            \"source_or_target_dataset\": \"target\",\n",
    "            \"x_transforms\": [\"take_200\"],\n",
    "            \"episode_transforms\": [],\n",
    "            \"domain_prefix\": \"C_\",\n",
    "        },\n",
    "        {\n",
    "            \"labels\": [\n",
    "                \"3123D52\",\n",
    "                \"3123D65\",\n",
    "                \"3123D79\",\n",
    "                \"3123D80\",\n",
    "                \"3123D54\",\n",
    "                \"3123D70\",\n",
    "                \"3123D7B\",\n",
    "                \"3123D89\",\n",
    "                \"3123D58\",\n",
    "                \"3123D76\",\n",
    "                \"3123D7D\",\n",
    "                \"3123EFE\",\n",
    "                \"3123D64\",\n",
    "                \"3123D78\",\n",
    "                \"3123D7E\",\n",
    "                \"3124E4A\",\n",
    "            ],\n",
    "            \"domains\": [32, 38, 8, 44, 14, 50, 20, 26],\n",
    "            \"num_examples_per_domain_per_label\": 2000,\n",
    "            \"pickle_path\": \"/mnt/wd500GB/CSC500/csc500-main/datasets/oracle.Run1_framed_2000Examples_stratified_ds.2022A.pkl\",\n",
    "            \"source_or_target_dataset\": \"source\",\n",
    "            \"x_transforms\": [\"take_200\", \"resample_20Msps_to_25Msps\"],\n",
    "            \"episode_transforms\": [],\n",
    "            \"domain_prefix\": \"O_\",\n",
    "        },\n",
    "    ],\n",
    "    \"seed\": 154325,\n",
    "    \"dataset_seed\": 154325,\n",
    "}\n"
   ]
  },
  {
   "cell_type": "code",
   "execution_count": 5,
   "id": "8fa1cc33",
   "metadata": {
    "execution": {
     "iopub.execute_input": "2022-03-25T11:29:01.750431Z",
     "iopub.status.busy": "2022-03-25T11:29:01.745072Z",
     "iopub.status.idle": "2022-03-25T11:29:01.758661Z",
     "shell.execute_reply": "2022-03-25T11:29:01.759065Z"
    },
    "papermill": {
     "duration": 0.03076,
     "end_time": "2022-03-25T11:29:01.759183",
     "exception": false,
     "start_time": "2022-03-25T11:29:01.728423",
     "status": "completed"
    },
    "tags": []
   },
   "outputs": [],
   "source": [
    "# Set this to True if you want to run this template directly\n",
    "STANDALONE = False\n",
    "if STANDALONE:\n",
    "    print(\"parameters not injected, running with standalone_parameters\")\n",
    "    parameters = standalone_parameters\n",
    "\n",
    "if not 'parameters' in locals() and not 'parameters' in globals():\n",
    "    raise Exception(\"Parameter injection failed\")\n",
    "\n",
    "#Use an easy dict for all the parameters\n",
    "p = EasyDict(parameters)\n",
    "\n",
    "if \"x_shape\" not in p:\n",
    "    p.x_shape = [2,256] # Default to this if we dont supply x_shape\n",
    "\n",
    "\n",
    "supplied_keys = set(p.keys())\n",
    "\n",
    "if  supplied_keys != required_parameters:\n",
    "    print(\"Parameters are incorrect\")\n",
    "    if len(supplied_keys - required_parameters)>0: print(\"Shouldn't have:\", str(supplied_keys - required_parameters))\n",
    "    if len(required_parameters - supplied_keys)>0: print(\"Need to have:\", str(required_parameters - supplied_keys))\n",
    "    raise RuntimeError(\"Parameters are incorrect\")"
   ]
  },
  {
   "cell_type": "code",
   "execution_count": 6,
   "id": "3a028d58",
   "metadata": {
    "execution": {
     "iopub.execute_input": "2022-03-25T11:29:01.796113Z",
     "iopub.status.busy": "2022-03-25T11:29:01.792036Z",
     "iopub.status.idle": "2022-03-25T11:29:01.807046Z",
     "shell.execute_reply": "2022-03-25T11:29:01.807446Z"
    },
    "papermill": {
     "duration": 0.030273,
     "end_time": "2022-03-25T11:29:01.807564",
     "exception": false,
     "start_time": "2022-03-25T11:29:01.777291",
     "status": "completed"
    },
    "tags": []
   },
   "outputs": [],
   "source": [
    "###################################\n",
    "# Set the RNGs and make it all deterministic\n",
    "###################################\n",
    "np.random.seed(p.seed)\n",
    "random.seed(p.seed)\n",
    "torch.manual_seed(p.seed)\n",
    "\n",
    "torch.use_deterministic_algorithms(True) "
   ]
  },
  {
   "cell_type": "code",
   "execution_count": 7,
   "id": "b691acf6",
   "metadata": {
    "execution": {
     "iopub.execute_input": "2022-03-25T11:29:01.840236Z",
     "iopub.status.busy": "2022-03-25T11:29:01.839946Z",
     "iopub.status.idle": "2022-03-25T11:29:01.855121Z",
     "shell.execute_reply": "2022-03-25T11:29:01.854690Z"
    },
    "papermill": {
     "duration": 0.029683,
     "end_time": "2022-03-25T11:29:01.855206",
     "exception": false,
     "start_time": "2022-03-25T11:29:01.825523",
     "status": "completed"
    },
    "tags": []
   },
   "outputs": [],
   "source": [
    "###########################################\n",
    "# The stratified datasets honor this\n",
    "###########################################\n",
    "torch.set_default_dtype(eval(p.torch_default_dtype))"
   ]
  },
  {
   "cell_type": "code",
   "execution_count": 8,
   "id": "b5fba671",
   "metadata": {
    "execution": {
     "iopub.execute_input": "2022-03-25T11:29:01.887717Z",
     "iopub.status.busy": "2022-03-25T11:29:01.887470Z",
     "iopub.status.idle": "2022-03-25T11:29:01.921780Z",
     "shell.execute_reply": "2022-03-25T11:29:01.921531Z"
    },
    "papermill": {
     "duration": 0.048593,
     "end_time": "2022-03-25T11:29:01.921844",
     "exception": false,
     "start_time": "2022-03-25T11:29:01.873251",
     "status": "completed"
    },
    "tags": []
   },
   "outputs": [],
   "source": [
    "###################################\n",
    "# Build the network(s)\n",
    "# Note: It's critical to do this AFTER setting the RNG\n",
    "###################################\n",
    "x_net = build_sequential(p.x_net)"
   ]
  },
  {
   "cell_type": "code",
   "execution_count": 9,
   "id": "5d7e61cc",
   "metadata": {
    "execution": {
     "iopub.execute_input": "2022-03-25T11:29:01.950980Z",
     "iopub.status.busy": "2022-03-25T11:29:01.950715Z",
     "iopub.status.idle": "2022-03-25T11:29:01.965512Z",
     "shell.execute_reply": "2022-03-25T11:29:01.965068Z"
    },
    "papermill": {
     "duration": 0.029719,
     "end_time": "2022-03-25T11:29:01.965600",
     "exception": false,
     "start_time": "2022-03-25T11:29:01.935881",
     "status": "completed"
    },
    "tags": []
   },
   "outputs": [],
   "source": [
    "start_time_secs = time.time()"
   ]
  },
  {
   "cell_type": "code",
   "execution_count": 10,
   "id": "c6b67dfd",
   "metadata": {
    "execution": {
     "iopub.execute_input": "2022-03-25T11:29:02.000706Z",
     "iopub.status.busy": "2022-03-25T11:29:01.998393Z",
     "iopub.status.idle": "2022-03-25T11:29:02.012645Z",
     "shell.execute_reply": "2022-03-25T11:29:02.012192Z"
    },
    "papermill": {
     "duration": 0.029951,
     "end_time": "2022-03-25T11:29:02.012732",
     "exception": false,
     "start_time": "2022-03-25T11:29:01.982781",
     "status": "completed"
    },
    "tags": []
   },
   "outputs": [],
   "source": [
    "p.domains_source = []\n",
    "p.domains_target = []\n",
    "\n",
    "\n",
    "train_original_source = []\n",
    "val_original_source   = []\n",
    "test_original_source  = []\n",
    "\n",
    "train_original_target = []\n",
    "val_original_target   = []\n",
    "test_original_target  = []"
   ]
  },
  {
   "cell_type": "code",
   "execution_count": 11,
   "id": "e3d9c3d3",
   "metadata": {
    "execution": {
     "iopub.execute_input": "2022-03-25T11:29:02.049452Z",
     "iopub.status.busy": "2022-03-25T11:29:02.046366Z",
     "iopub.status.idle": "2022-03-25T11:29:02.059037Z",
     "shell.execute_reply": "2022-03-25T11:29:02.058792Z"
    },
    "papermill": {
     "duration": 0.028833,
     "end_time": "2022-03-25T11:29:02.059084",
     "exception": false,
     "start_time": "2022-03-25T11:29:02.030251",
     "status": "completed"
    },
    "tags": []
   },
   "outputs": [],
   "source": [
    "# global_x_transform_func = lambda x: normalize(x.to(torch.get_default_dtype()), \"unit_power\") # unit_power, unit_mag\n",
    "# global_x_transform_func = lambda x: normalize(x, \"unit_power\") # unit_power, unit_mag"
   ]
  },
  {
   "cell_type": "code",
   "execution_count": 12,
   "id": "acb78fd2",
   "metadata": {
    "execution": {
     "iopub.execute_input": "2022-03-25T11:29:02.096709Z",
     "iopub.status.busy": "2022-03-25T11:29:02.096195Z",
     "iopub.status.idle": "2022-03-25T11:29:02.109106Z",
     "shell.execute_reply": "2022-03-25T11:29:02.108646Z"
    },
    "papermill": {
     "duration": 0.03275,
     "end_time": "2022-03-25T11:29:02.109199",
     "exception": false,
     "start_time": "2022-03-25T11:29:02.076449",
     "status": "completed"
    },
    "tags": []
   },
   "outputs": [],
   "source": [
    "def add_dataset(\n",
    "    labels,\n",
    "    domains,\n",
    "    pickle_path,\n",
    "    x_transforms,\n",
    "    episode_transforms,\n",
    "    domain_prefix,\n",
    "    num_examples_per_domain_per_label,\n",
    "    source_or_target_dataset:str,\n",
    "    iterator_seed=p.seed,\n",
    "    dataset_seed=p.dataset_seed,\n",
    "    n_shot=p.n_shot,\n",
    "    n_way=p.n_way,\n",
    "    n_query=p.n_query,\n",
    "    train_val_test_k_factors=(p.train_k_factor,p.val_k_factor,p.test_k_factor),\n",
    "):\n",
    "   \n",
    "    if x_transforms == []: x_transform = None\n",
    "    else: x_transform = get_chained_transform(x_transforms)\n",
    "    \n",
    "    if episode_transforms == []: episode_transform = None\n",
    "    else: raise Exception(\"episode_transforms not implemented\")\n",
    "    \n",
    "    episode_transform = lambda tup, _prefix=domain_prefix: (_prefix + str(tup[0]), tup[1])\n",
    "\n",
    "\n",
    "    eaf = Episodic_Accessor_Factory(\n",
    "        labels=labels,\n",
    "        domains=domains,\n",
    "        num_examples_per_domain_per_label=num_examples_per_domain_per_label,\n",
    "        iterator_seed=iterator_seed,\n",
    "        dataset_seed=dataset_seed,\n",
    "        n_shot=n_shot,\n",
    "        n_way=n_way,\n",
    "        n_query=n_query,\n",
    "        train_val_test_k_factors=train_val_test_k_factors,\n",
    "        pickle_path=pickle_path,\n",
    "        x_transform_func=x_transform,\n",
    "    )\n",
    "\n",
    "    train, val, test = eaf.get_train(), eaf.get_val(), eaf.get_test()\n",
    "    train = Lazy_Iterable_Wrapper(train, episode_transform)\n",
    "    val = Lazy_Iterable_Wrapper(val, episode_transform)\n",
    "    test = Lazy_Iterable_Wrapper(test, episode_transform)\n",
    "\n",
    "    if source_or_target_dataset==\"source\":\n",
    "        train_original_source.append(train)\n",
    "        val_original_source.append(val)\n",
    "        test_original_source.append(test)\n",
    "\n",
    "        p.domains_source.extend(\n",
    "            [domain_prefix + str(u) for u in domains]\n",
    "        )\n",
    "    elif source_or_target_dataset==\"target\":\n",
    "        train_original_target.append(train)\n",
    "        val_original_target.append(val)\n",
    "        test_original_target.append(test)\n",
    "        p.domains_target.extend(\n",
    "            [domain_prefix + str(u) for u in domains]\n",
    "        )\n",
    "    else:\n",
    "        raise Exception(f\"invalid source_or_target_dataset: {source_or_target_dataset}\")\n",
    "    "
   ]
  },
  {
   "cell_type": "code",
   "execution_count": 13,
   "id": "fe266617",
   "metadata": {
    "execution": {
     "iopub.execute_input": "2022-03-25T11:29:02.151177Z",
     "iopub.status.busy": "2022-03-25T11:29:02.150823Z",
     "iopub.status.idle": "2022-03-25T11:29:18.116981Z",
     "shell.execute_reply": "2022-03-25T11:29:18.116492Z"
    },
    "papermill": {
     "duration": 15.990453,
     "end_time": "2022-03-25T11:29:18.117081",
     "exception": false,
     "start_time": "2022-03-25T11:29:02.126628",
     "status": "completed"
    },
    "tags": []
   },
   "outputs": [],
   "source": [
    "for ds in p.datasets:\n",
    "    add_dataset(**ds)"
   ]
  },
  {
   "cell_type": "code",
   "execution_count": 14,
   "id": "b90d65ac",
   "metadata": {
    "execution": {
     "iopub.execute_input": "2022-03-25T11:29:18.158517Z",
     "iopub.status.busy": "2022-03-25T11:29:18.152696Z",
     "iopub.status.idle": "2022-03-25T11:29:18.167967Z",
     "shell.execute_reply": "2022-03-25T11:29:18.167524Z"
    },
    "papermill": {
     "duration": 0.031481,
     "end_time": "2022-03-25T11:29:18.168056",
     "exception": false,
     "start_time": "2022-03-25T11:29:18.136575",
     "status": "completed"
    },
    "tags": []
   },
   "outputs": [],
   "source": [
    "# from steves_utils.CORES.utils import (\n",
    "#     ALL_NODES,\n",
    "#     ALL_NODES_MINIMUM_1000_EXAMPLES,\n",
    "#     ALL_DAYS\n",
    "# )\n",
    "\n",
    "# add_dataset(\n",
    "#     labels=ALL_NODES,\n",
    "#     domains = ALL_DAYS,\n",
    "#     num_examples_per_domain_per_label=100,\n",
    "#     pickle_path=os.path.join(get_datasets_base_path(), \"cores.stratified_ds.2022A.pkl\"),\n",
    "#     source_or_target_dataset=\"target\",\n",
    "#     x_transform_func=global_x_transform_func,\n",
    "#     domain_modifier=lambda u: f\"cores_{u}\"\n",
    "# )"
   ]
  },
  {
   "cell_type": "code",
   "execution_count": 15,
   "id": "76db484d",
   "metadata": {
    "execution": {
     "iopub.execute_input": "2022-03-25T11:29:18.208237Z",
     "iopub.status.busy": "2022-03-25T11:29:18.200777Z",
     "iopub.status.idle": "2022-03-25T11:29:18.216333Z",
     "shell.execute_reply": "2022-03-25T11:29:18.215928Z"
    },
    "papermill": {
     "duration": 0.030587,
     "end_time": "2022-03-25T11:29:18.216422",
     "exception": false,
     "start_time": "2022-03-25T11:29:18.185835",
     "status": "completed"
    },
    "tags": []
   },
   "outputs": [],
   "source": [
    "# from steves_utils.ORACLE.utils_v2 import (\n",
    "#     ALL_DISTANCES_FEET,\n",
    "#     ALL_RUNS,\n",
    "#     ALL_SERIAL_NUMBERS,\n",
    "# )\n",
    "\n",
    "\n",
    "# add_dataset(\n",
    "#     labels=ALL_SERIAL_NUMBERS,\n",
    "#     domains = list(set(ALL_DISTANCES_FEET) - {2,62}),\n",
    "#     num_examples_per_domain_per_label=100,\n",
    "#     pickle_path=os.path.join(get_datasets_base_path(), \"oracle.Run2_framed_2000Examples_stratified_ds.2022A.pkl\"),\n",
    "#     source_or_target_dataset=\"source\",\n",
    "#     x_transform_func=global_x_transform_func,\n",
    "#     domain_modifier=lambda u: f\"oracle1_{u}\"\n",
    "# )\n"
   ]
  },
  {
   "cell_type": "code",
   "execution_count": 16,
   "id": "97dea9d2",
   "metadata": {
    "execution": {
     "iopub.execute_input": "2022-03-25T11:29:18.246792Z",
     "iopub.status.busy": "2022-03-25T11:29:18.246546Z",
     "iopub.status.idle": "2022-03-25T11:29:18.263171Z",
     "shell.execute_reply": "2022-03-25T11:29:18.262784Z"
    },
    "papermill": {
     "duration": 0.031692,
     "end_time": "2022-03-25T11:29:18.263257",
     "exception": false,
     "start_time": "2022-03-25T11:29:18.231565",
     "status": "completed"
    },
    "tags": []
   },
   "outputs": [],
   "source": [
    "# from steves_utils.ORACLE.utils_v2 import (\n",
    "#     ALL_DISTANCES_FEET,\n",
    "#     ALL_RUNS,\n",
    "#     ALL_SERIAL_NUMBERS,\n",
    "# )\n",
    "\n",
    "\n",
    "# add_dataset(\n",
    "#     labels=ALL_SERIAL_NUMBERS,\n",
    "#     domains = list(set(ALL_DISTANCES_FEET) - {2,62,56}),\n",
    "#     num_examples_per_domain_per_label=100,\n",
    "#     pickle_path=os.path.join(get_datasets_base_path(), \"oracle.Run2_framed_2000Examples_stratified_ds.2022A.pkl\"),\n",
    "#     source_or_target_dataset=\"source\",\n",
    "#     x_transform_func=global_x_transform_func,\n",
    "#     domain_modifier=lambda u: f\"oracle2_{u}\"\n",
    "# )"
   ]
  },
  {
   "cell_type": "code",
   "execution_count": 17,
   "id": "6f289866",
   "metadata": {
    "execution": {
     "iopub.execute_input": "2022-03-25T11:29:18.297073Z",
     "iopub.status.busy": "2022-03-25T11:29:18.296828Z",
     "iopub.status.idle": "2022-03-25T11:29:18.310675Z",
     "shell.execute_reply": "2022-03-25T11:29:18.311028Z"
    },
    "papermill": {
     "duration": 0.029146,
     "end_time": "2022-03-25T11:29:18.311128",
     "exception": false,
     "start_time": "2022-03-25T11:29:18.281982",
     "status": "completed"
    },
    "tags": []
   },
   "outputs": [],
   "source": [
    "# add_dataset(\n",
    "#     labels=list(range(19)),\n",
    "#     domains = [0,1,2],\n",
    "#     num_examples_per_domain_per_label=100,\n",
    "#     pickle_path=os.path.join(get_datasets_base_path(), \"metehan.stratified_ds.2022A.pkl\"),\n",
    "#     source_or_target_dataset=\"target\",\n",
    "#     x_transform_func=global_x_transform_func,\n",
    "#     domain_modifier=lambda u: f\"met_{u}\"\n",
    "# )"
   ]
  },
  {
   "cell_type": "code",
   "execution_count": 18,
   "id": "86a863c3",
   "metadata": {
    "execution": {
     "iopub.execute_input": "2022-03-25T11:29:18.344880Z",
     "iopub.status.busy": "2022-03-25T11:29:18.344631Z",
     "iopub.status.idle": "2022-03-25T11:29:18.357628Z",
     "shell.execute_reply": "2022-03-25T11:29:18.357279Z"
    },
    "papermill": {
     "duration": 0.027911,
     "end_time": "2022-03-25T11:29:18.357697",
     "exception": false,
     "start_time": "2022-03-25T11:29:18.329786",
     "status": "completed"
    },
    "tags": []
   },
   "outputs": [],
   "source": [
    "# # from steves_utils.wisig.utils import (\n",
    "# #     ALL_NODES_MINIMUM_100_EXAMPLES,\n",
    "# #     ALL_NODES_MINIMUM_500_EXAMPLES,\n",
    "# #     ALL_NODES_MINIMUM_1000_EXAMPLES,\n",
    "# #     ALL_DAYS\n",
    "# # )\n",
    "\n",
    "# import steves_utils.wisig.utils as wisig\n",
    "\n",
    "\n",
    "# add_dataset(\n",
    "#     labels=wisig.ALL_NODES_MINIMUM_100_EXAMPLES,\n",
    "#     domains = wisig.ALL_DAYS,\n",
    "#     num_examples_per_domain_per_label=100,\n",
    "#     pickle_path=os.path.join(get_datasets_base_path(), \"wisig.node3-19.stratified_ds.2022A.pkl\"),\n",
    "#     source_or_target_dataset=\"target\",\n",
    "#     x_transform_func=global_x_transform_func,\n",
    "#     domain_modifier=lambda u: f\"wisig_{u}\"\n",
    "# )"
   ]
  },
  {
   "cell_type": "code",
   "execution_count": 19,
   "id": "fd5442bc",
   "metadata": {
    "execution": {
     "iopub.execute_input": "2022-03-25T11:29:18.394605Z",
     "iopub.status.busy": "2022-03-25T11:29:18.394344Z",
     "iopub.status.idle": "2022-03-25T11:29:18.407352Z",
     "shell.execute_reply": "2022-03-25T11:29:18.407699Z"
    },
    "papermill": {
     "duration": 0.030684,
     "end_time": "2022-03-25T11:29:18.407801",
     "exception": false,
     "start_time": "2022-03-25T11:29:18.377117",
     "status": "completed"
    },
    "tags": []
   },
   "outputs": [],
   "source": [
    "###################################\n",
    "# Build the dataset\n",
    "###################################\n",
    "train_original_source = Iterable_Aggregator(train_original_source, p.seed)\n",
    "val_original_source = Iterable_Aggregator(val_original_source, p.seed)\n",
    "test_original_source = Iterable_Aggregator(test_original_source, p.seed)\n",
    "\n",
    "\n",
    "train_original_target = Iterable_Aggregator(train_original_target, p.seed)\n",
    "val_original_target = Iterable_Aggregator(val_original_target, p.seed)\n",
    "test_original_target = Iterable_Aggregator(test_original_target, p.seed)\n",
    "\n",
    "# For CNN We only use X and Y. And we only train on the source.\n",
    "# Properly form the data using a transform lambda and Lazy_Iterable_Wrapper. Finally wrap them in a dataloader\n",
    "\n",
    "transform_lambda = lambda ex: ex[1] # Original is (<domain>, <episode>) so we strip down to episode only\n",
    "\n",
    "train_processed_source = Lazy_Iterable_Wrapper(train_original_source, transform_lambda)\n",
    "val_processed_source   = Lazy_Iterable_Wrapper(val_original_source, transform_lambda)\n",
    "test_processed_source  = Lazy_Iterable_Wrapper(test_original_source, transform_lambda)\n",
    "\n",
    "train_processed_target = Lazy_Iterable_Wrapper(train_original_target, transform_lambda)\n",
    "val_processed_target   = Lazy_Iterable_Wrapper(val_original_target, transform_lambda)\n",
    "test_processed_target  = Lazy_Iterable_Wrapper(test_original_target, transform_lambda)\n",
    "\n",
    "datasets = EasyDict({\n",
    "    \"source\": {\n",
    "        \"original\": {\"train\":train_original_source, \"val\":val_original_source, \"test\":test_original_source},\n",
    "        \"processed\": {\"train\":train_processed_source, \"val\":val_processed_source, \"test\":test_processed_source}\n",
    "    },\n",
    "    \"target\": {\n",
    "        \"original\": {\"train\":train_original_target, \"val\":val_original_target, \"test\":test_original_target},\n",
    "        \"processed\": {\"train\":train_processed_target, \"val\":val_processed_target, \"test\":test_processed_target}\n",
    "    },\n",
    "})"
   ]
  },
  {
   "cell_type": "code",
   "execution_count": 20,
   "id": "5b3c01fc",
   "metadata": {
    "execution": {
     "iopub.execute_input": "2022-03-25T11:29:18.442970Z",
     "iopub.status.busy": "2022-03-25T11:29:18.442718Z",
     "iopub.status.idle": "2022-03-25T11:29:24.619439Z",
     "shell.execute_reply": "2022-03-25T11:29:24.619841Z"
    },
    "papermill": {
     "duration": 6.193519,
     "end_time": "2022-03-25T11:29:24.619980",
     "exception": false,
     "start_time": "2022-03-25T11:29:18.426461",
     "status": "completed"
    },
    "tags": []
   },
   "outputs": [
    {
     "name": "stdout",
     "output_type": "stream",
     "text": [
      "{'O_26', 'O_20', 'O_8', 'O_32', 'O_38', 'O_50', 'O_44', 'O_14'}\n"
     ]
    },
    {
     "name": "stdout",
     "output_type": "stream",
     "text": [
      "{'C_3', 'C_4', 'C_2', 'C_5', 'C_1'}\n"
     ]
    },
    {
     "name": "stdout",
     "output_type": "stream",
     "text": [
      "tensor([[[-0.0013,  0.0058,  0.0040,  ...,  0.0047, -0.0021, -0.0003],\n",
      "         [-0.0027,  0.0014,  0.0039,  ..., -0.0011,  0.0068,  0.0068]],\n",
      "\n",
      "        [[ 0.0003,  0.0076,  0.0027,  ...,  0.0032,  0.0024,  0.0063],\n",
      "         [-0.0026, -0.0026,  0.0017,  ..., -0.0014,  0.0073,  0.0026]],\n",
      "\n",
      "        [[-0.0045, -0.0030,  0.0045,  ...,  0.0028,  0.0058, -0.0025],\n",
      "         [-0.0027, -0.0075,  0.0008,  ..., -0.0040, -0.0046, -0.0077]],\n",
      "\n",
      "        ...,\n",
      "\n",
      "        [[ 0.0006,  0.0040,  0.0011,  ...,  0.0054,  0.0053,  0.0040],\n",
      "         [-0.0050, -0.0041,  0.0057,  ...,  0.0018,  0.0020, -0.0056]],\n",
      "\n",
      "        [[-0.0014,  0.0051,  0.0045,  ...,  0.0042, -0.0002,  0.0007],\n",
      "         [-0.0027, -0.0006,  0.0027,  ..., -0.0025,  0.0059,  0.0051]],\n",
      "\n",
      "        [[-0.0042, -0.0063,  0.0029,  ..., -0.0019, -0.0021, -0.0071],\n",
      "         [ 0.0029,  0.0005, -0.0040,  ..., -0.0049, -0.0052,  0.0006]]])\n"
     ]
    }
   ],
   "source": [
    "from steves_utils.transforms import get_average_magnitude, get_average_power\n",
    "\n",
    "print(set([u for u,_ in val_original_source]))\n",
    "print(set([u for u,_ in val_original_target]))\n",
    "\n",
    "s_x, s_y, q_x, q_y, _ = next(iter(train_processed_source))\n",
    "print(s_x)\n",
    "\n",
    "# for ds in [\n",
    "#     train_processed_source,\n",
    "#     val_processed_source,\n",
    "#     test_processed_source,\n",
    "#     train_processed_target,\n",
    "#     val_processed_target,\n",
    "#     test_processed_target\n",
    "# ]:\n",
    "#     for s_x, s_y, q_x, q_y, _ in ds:\n",
    "#         for X in (s_x, q_x):\n",
    "#             for x in X:\n",
    "#                 assert np.isclose(get_average_magnitude(x.numpy()), 1.0)\n",
    "#                 assert np.isclose(get_average_power(x.numpy()), 1.0)\n",
    "                "
   ]
  },
  {
   "cell_type": "code",
   "execution_count": 21,
   "id": "bbdacba1",
   "metadata": {
    "execution": {
     "iopub.execute_input": "2022-03-25T11:29:24.667691Z",
     "iopub.status.busy": "2022-03-25T11:29:24.667431Z",
     "iopub.status.idle": "2022-03-25T11:29:24.723084Z",
     "shell.execute_reply": "2022-03-25T11:29:24.723457Z"
    },
    "papermill": {
     "duration": 0.081096,
     "end_time": "2022-03-25T11:29:24.723569",
     "exception": false,
     "start_time": "2022-03-25T11:29:24.642473",
     "status": "completed"
    },
    "tags": []
   },
   "outputs": [
    {
     "name": "stdout",
     "output_type": "stream",
     "text": [
      "(2, 200)\n"
     ]
    }
   ],
   "source": [
    "###################################\n",
    "# Build the model\n",
    "###################################\n",
    "# easfsl only wants a tuple for the shape\n",
    "model = Steves_Prototypical_Network(x_net, device=p.device, x_shape=tuple(p.x_shape))\n",
    "optimizer = Adam(params=model.parameters(), lr=p.lr)"
   ]
  },
  {
   "cell_type": "code",
   "execution_count": 22,
   "id": "22b39ac5",
   "metadata": {
    "execution": {
     "iopub.execute_input": "2022-03-25T11:29:24.760085Z",
     "iopub.status.busy": "2022-03-25T11:29:24.759835Z",
     "iopub.status.idle": "2022-03-25T11:48:31.913407Z",
     "shell.execute_reply": "2022-03-25T11:48:31.913175Z"
    },
    "papermill": {
     "duration": 1147.171252,
     "end_time": "2022-03-25T11:48:31.913465",
     "exception": false,
     "start_time": "2022-03-25T11:29:24.742213",
     "status": "completed"
    },
    "tags": []
   },
   "outputs": [
    {
     "name": "stdout",
     "output_type": "stream",
     "text": [
      "epoch: 1, [batch: 1 / 6720], examples_per_second: 49.0608, train_label_loss: 2.8618, \n"
     ]
    },
    {
     "name": "stdout",
     "output_type": "stream",
     "text": [
      "epoch: 1, [batch: 672 / 6720], examples_per_second: 3594.3178, train_label_loss: 0.4875, \n"
     ]
    },
    {
     "name": "stdout",
     "output_type": "stream",
     "text": [
      "epoch: 1, [batch: 1344 / 6720], examples_per_second: 3573.2184, train_label_loss: 0.5408, \n"
     ]
    },
    {
     "name": "stdout",
     "output_type": "stream",
     "text": [
      "epoch: 1, [batch: 2016 / 6720], examples_per_second: 3598.0010, train_label_loss: 0.8129, \n"
     ]
    },
    {
     "name": "stdout",
     "output_type": "stream",
     "text": [
      "epoch: 1, [batch: 2688 / 6720], examples_per_second: 3586.5456, train_label_loss: 0.5367, \n"
     ]
    },
    {
     "name": "stdout",
     "output_type": "stream",
     "text": [
      "epoch: 1, [batch: 3360 / 6720], examples_per_second: 3643.1603, train_label_loss: 0.4894, \n"
     ]
    },
    {
     "name": "stdout",
     "output_type": "stream",
     "text": [
      "epoch: 1, [batch: 4032 / 6720], examples_per_second: 3608.7433, train_label_loss: 0.5111, \n"
     ]
    },
    {
     "name": "stdout",
     "output_type": "stream",
     "text": [
      "epoch: 1, [batch: 4704 / 6720], examples_per_second: 3603.9129, train_label_loss: 0.4081, \n"
     ]
    },
    {
     "name": "stdout",
     "output_type": "stream",
     "text": [
      "epoch: 1, [batch: 5376 / 6720], examples_per_second: 3619.8360, train_label_loss: 0.3771, \n"
     ]
    },
    {
     "name": "stdout",
     "output_type": "stream",
     "text": [
      "epoch: 1, [batch: 6048 / 6720], examples_per_second: 3625.4500, train_label_loss: 0.2293, \n"
     ]
    },
    {
     "name": "stdout",
     "output_type": "stream",
     "text": [
      "=============================================================\n",
      "epoch: 1, source_val_acc_label: 0.5819, target_val_acc_label: 0.6085, source_val_label_loss: 172.3830, target_val_label_loss: 8131.8647, \n",
      "=============================================================\n"
     ]
    },
    {
     "name": "stdout",
     "output_type": "stream",
     "text": [
      "New best\n"
     ]
    },
    {
     "name": "stdout",
     "output_type": "stream",
     "text": [
      "epoch: 2, [batch: 1 / 6720], examples_per_second: 5.2847, train_label_loss: 281.8470, \n"
     ]
    },
    {
     "name": "stdout",
     "output_type": "stream",
     "text": [
      "epoch: 2, [batch: 672 / 6720], examples_per_second: 3606.6003, train_label_loss: 0.4320, \n"
     ]
    },
    {
     "name": "stdout",
     "output_type": "stream",
     "text": [
      "epoch: 2, [batch: 1344 / 6720], examples_per_second: 3640.8364, train_label_loss: 0.7169, \n"
     ]
    },
    {
     "name": "stdout",
     "output_type": "stream",
     "text": [
      "epoch: 2, [batch: 2016 / 6720], examples_per_second: 3628.1614, train_label_loss: 0.2994, \n"
     ]
    },
    {
     "name": "stdout",
     "output_type": "stream",
     "text": [
      "epoch: 2, [batch: 2688 / 6720], examples_per_second: 3601.7260, train_label_loss: 0.4295, \n"
     ]
    },
    {
     "name": "stdout",
     "output_type": "stream",
     "text": [
      "epoch: 2, [batch: 3360 / 6720], examples_per_second: 3628.3588, train_label_loss: 0.3581, \n"
     ]
    },
    {
     "name": "stdout",
     "output_type": "stream",
     "text": [
      "epoch: 2, [batch: 4032 / 6720], examples_per_second: 3627.5936, train_label_loss: 0.9976, \n"
     ]
    },
    {
     "name": "stdout",
     "output_type": "stream",
     "text": [
      "epoch: 2, [batch: 4704 / 6720], examples_per_second: 3621.7590, train_label_loss: 0.4708, \n"
     ]
    },
    {
     "name": "stdout",
     "output_type": "stream",
     "text": [
      "epoch: 2, [batch: 5376 / 6720], examples_per_second: 3632.5202, train_label_loss: 0.4453, \n"
     ]
    },
    {
     "name": "stdout",
     "output_type": "stream",
     "text": [
      "epoch: 2, [batch: 6048 / 6720], examples_per_second: 3628.1489, train_label_loss: 0.2275, \n"
     ]
    },
    {
     "name": "stdout",
     "output_type": "stream",
     "text": [
      "=============================================================\n",
      "epoch: 2, source_val_acc_label: 0.8691, target_val_acc_label: 0.3253, source_val_label_loss: 0.4070, target_val_label_loss: 5504.5952, \n",
      "=============================================================\n"
     ]
    },
    {
     "name": "stdout",
     "output_type": "stream",
     "text": [
      "epoch: 3, [batch: 1 / 6720], examples_per_second: 5.2987, train_label_loss: 0.3661, \n"
     ]
    },
    {
     "name": "stdout",
     "output_type": "stream",
     "text": [
      "epoch: 3, [batch: 672 / 6720], examples_per_second: 3615.8576, train_label_loss: 0.0878, \n"
     ]
    },
    {
     "name": "stdout",
     "output_type": "stream",
     "text": [
      "epoch: 3, [batch: 1344 / 6720], examples_per_second: 3614.4117, train_label_loss: 0.2901, \n"
     ]
    },
    {
     "name": "stdout",
     "output_type": "stream",
     "text": [
      "epoch: 3, [batch: 2016 / 6720], examples_per_second: 3605.6982, train_label_loss: 0.6656, \n"
     ]
    },
    {
     "name": "stdout",
     "output_type": "stream",
     "text": [
      "epoch: 3, [batch: 2688 / 6720], examples_per_second: 3618.7885, train_label_loss: 0.2762, \n"
     ]
    },
    {
     "name": "stdout",
     "output_type": "stream",
     "text": [
      "epoch: 3, [batch: 3360 / 6720], examples_per_second: 3606.5781, train_label_loss: 0.1003, \n"
     ]
    },
    {
     "name": "stdout",
     "output_type": "stream",
     "text": [
      "epoch: 3, [batch: 4032 / 6720], examples_per_second: 3601.5893, train_label_loss: 0.4442, \n"
     ]
    },
    {
     "name": "stdout",
     "output_type": "stream",
     "text": [
      "epoch: 3, [batch: 4704 / 6720], examples_per_second: 3617.5279, train_label_loss: 0.3079, \n"
     ]
    },
    {
     "name": "stdout",
     "output_type": "stream",
     "text": [
      "epoch: 3, [batch: 5376 / 6720], examples_per_second: 3654.2768, train_label_loss: 0.2750, \n"
     ]
    },
    {
     "name": "stdout",
     "output_type": "stream",
     "text": [
      "epoch: 3, [batch: 6048 / 6720], examples_per_second: 3627.6705, train_label_loss: 0.3828, \n"
     ]
    },
    {
     "name": "stdout",
     "output_type": "stream",
     "text": [
      "=============================================================\n",
      "epoch: 3, source_val_acc_label: 0.8914, target_val_acc_label: 0.8207, source_val_label_loss: 0.3223, target_val_label_loss: 211.5968, \n",
      "=============================================================\n"
     ]
    },
    {
     "name": "stdout",
     "output_type": "stream",
     "text": [
      "New best\n"
     ]
    },
    {
     "name": "stdout",
     "output_type": "stream",
     "text": [
      "epoch: 4, [batch: 1 / 6720], examples_per_second: 5.2834, train_label_loss: 0.2227, \n"
     ]
    },
    {
     "name": "stdout",
     "output_type": "stream",
     "text": [
      "epoch: 4, [batch: 672 / 6720], examples_per_second: 3585.5936, train_label_loss: 0.2273, \n"
     ]
    },
    {
     "name": "stdout",
     "output_type": "stream",
     "text": [
      "epoch: 4, [batch: 1344 / 6720], examples_per_second: 3620.8860, train_label_loss: 0.8044, \n"
     ]
    },
    {
     "name": "stdout",
     "output_type": "stream",
     "text": [
      "epoch: 4, [batch: 2016 / 6720], examples_per_second: 3631.2975, train_label_loss: 0.1449, \n"
     ]
    },
    {
     "name": "stdout",
     "output_type": "stream",
     "text": [
      "epoch: 4, [batch: 2688 / 6720], examples_per_second: 3625.8953, train_label_loss: 0.3220, \n"
     ]
    },
    {
     "name": "stdout",
     "output_type": "stream",
     "text": [
      "epoch: 4, [batch: 3360 / 6720], examples_per_second: 3625.7263, train_label_loss: 0.1347, \n"
     ]
    },
    {
     "name": "stdout",
     "output_type": "stream",
     "text": [
      "epoch: 4, [batch: 4032 / 6720], examples_per_second: 3621.5199, train_label_loss: 0.3451, \n"
     ]
    },
    {
     "name": "stdout",
     "output_type": "stream",
     "text": [
      "epoch: 4, [batch: 4704 / 6720], examples_per_second: 3620.9781, train_label_loss: 0.3727, \n"
     ]
    },
    {
     "name": "stdout",
     "output_type": "stream",
     "text": [
      "epoch: 4, [batch: 5376 / 6720], examples_per_second: 3635.0648, train_label_loss: 0.1913, \n"
     ]
    },
    {
     "name": "stdout",
     "output_type": "stream",
     "text": [
      "epoch: 4, [batch: 6048 / 6720], examples_per_second: 3629.6268, train_label_loss: 0.3656, \n"
     ]
    },
    {
     "name": "stdout",
     "output_type": "stream",
     "text": [
      "=============================================================\n",
      "epoch: 4, source_val_acc_label: 0.9095, target_val_acc_label: 0.8189, source_val_label_loss: 0.2737, target_val_label_loss: 284.8418, \n",
      "=============================================================\n"
     ]
    },
    {
     "name": "stdout",
     "output_type": "stream",
     "text": [
      "epoch: 5, [batch: 1 / 6720], examples_per_second: 5.2912, train_label_loss: 0.4018, \n"
     ]
    },
    {
     "name": "stdout",
     "output_type": "stream",
     "text": [
      "epoch: 5, [batch: 672 / 6720], examples_per_second: 3618.2076, train_label_loss: 0.4009, \n"
     ]
    },
    {
     "name": "stdout",
     "output_type": "stream",
     "text": [
      "epoch: 5, [batch: 1344 / 6720], examples_per_second: 3626.4375, train_label_loss: 0.2897, \n"
     ]
    },
    {
     "name": "stdout",
     "output_type": "stream",
     "text": [
      "epoch: 5, [batch: 2016 / 6720], examples_per_second: 3630.9332, train_label_loss: 0.3780, \n"
     ]
    },
    {
     "name": "stdout",
     "output_type": "stream",
     "text": [
      "epoch: 5, [batch: 2688 / 6720], examples_per_second: 3619.4139, train_label_loss: 0.1130, \n"
     ]
    },
    {
     "name": "stdout",
     "output_type": "stream",
     "text": [
      "epoch: 5, [batch: 3360 / 6720], examples_per_second: 3642.3570, train_label_loss: 0.6268, \n"
     ]
    },
    {
     "name": "stdout",
     "output_type": "stream",
     "text": [
      "epoch: 5, [batch: 4032 / 6720], examples_per_second: 3629.5862, train_label_loss: 0.0981, \n"
     ]
    },
    {
     "name": "stdout",
     "output_type": "stream",
     "text": [
      "epoch: 5, [batch: 4704 / 6720], examples_per_second: 3609.4775, train_label_loss: 0.1677, \n"
     ]
    },
    {
     "name": "stdout",
     "output_type": "stream",
     "text": [
      "epoch: 5, [batch: 5376 / 6720], examples_per_second: 3631.1460, train_label_loss: 0.1620, \n"
     ]
    },
    {
     "name": "stdout",
     "output_type": "stream",
     "text": [
      "epoch: 5, [batch: 6048 / 6720], examples_per_second: 3623.1928, train_label_loss: 0.3086, \n"
     ]
    },
    {
     "name": "stdout",
     "output_type": "stream",
     "text": [
      "=============================================================\n",
      "epoch: 5, source_val_acc_label: 0.9187, target_val_acc_label: 0.7274, source_val_label_loss: 0.2360, target_val_label_loss: 111.3138, \n",
      "=============================================================\n"
     ]
    },
    {
     "name": "stdout",
     "output_type": "stream",
     "text": [
      "epoch: 6, [batch: 1 / 6720], examples_per_second: 5.2812, train_label_loss: 0.0684, \n"
     ]
    },
    {
     "name": "stdout",
     "output_type": "stream",
     "text": [
      "epoch: 6, [batch: 672 / 6720], examples_per_second: 3606.0775, train_label_loss: 0.2034, \n"
     ]
    },
    {
     "name": "stdout",
     "output_type": "stream",
     "text": [
      "epoch: 6, [batch: 1344 / 6720], examples_per_second: 3629.0378, train_label_loss: 0.2559, \n"
     ]
    },
    {
     "name": "stdout",
     "output_type": "stream",
     "text": [
      "epoch: 6, [batch: 2016 / 6720], examples_per_second: 3614.5467, train_label_loss: 0.3465, \n"
     ]
    },
    {
     "name": "stdout",
     "output_type": "stream",
     "text": [
      "epoch: 6, [batch: 2688 / 6720], examples_per_second: 3616.0409, train_label_loss: 0.2402, \n"
     ]
    },
    {
     "name": "stdout",
     "output_type": "stream",
     "text": [
      "epoch: 6, [batch: 3360 / 6720], examples_per_second: 3631.3044, train_label_loss: 0.3190, \n"
     ]
    },
    {
     "name": "stdout",
     "output_type": "stream",
     "text": [
      "epoch: 6, [batch: 4032 / 6720], examples_per_second: 3627.9635, train_label_loss: 0.3312, \n"
     ]
    },
    {
     "name": "stdout",
     "output_type": "stream",
     "text": [
      "epoch: 6, [batch: 4704 / 6720], examples_per_second: 3613.8147, train_label_loss: 0.1578, \n"
     ]
    },
    {
     "name": "stdout",
     "output_type": "stream",
     "text": [
      "epoch: 6, [batch: 5376 / 6720], examples_per_second: 3635.7363, train_label_loss: 0.2116, \n"
     ]
    },
    {
     "name": "stdout",
     "output_type": "stream",
     "text": [
      "epoch: 6, [batch: 6048 / 6720], examples_per_second: 3628.3083, train_label_loss: 0.2692, \n"
     ]
    },
    {
     "name": "stdout",
     "output_type": "stream",
     "text": [
      "=============================================================\n",
      "epoch: 6, source_val_acc_label: 0.9109, target_val_acc_label: 0.7505, source_val_label_loss: 0.2543, target_val_label_loss: 114.4130, \n",
      "=============================================================\n"
     ]
    },
    {
     "name": "stdout",
     "output_type": "stream",
     "text": [
      "epoch: 7, [batch: 1 / 6720], examples_per_second: 5.3031, train_label_loss: 0.2246, \n"
     ]
    },
    {
     "name": "stdout",
     "output_type": "stream",
     "text": [
      "epoch: 7, [batch: 672 / 6720], examples_per_second: 3607.9052, train_label_loss: 0.1996, \n"
     ]
    },
    {
     "name": "stdout",
     "output_type": "stream",
     "text": [
      "epoch: 7, [batch: 1344 / 6720], examples_per_second: 3619.8926, train_label_loss: 0.0938, \n"
     ]
    },
    {
     "name": "stdout",
     "output_type": "stream",
     "text": [
      "epoch: 7, [batch: 2016 / 6720], examples_per_second: 3635.7143, train_label_loss: 0.1786, \n"
     ]
    },
    {
     "name": "stdout",
     "output_type": "stream",
     "text": [
      "epoch: 7, [batch: 2688 / 6720], examples_per_second: 3618.2308, train_label_loss: 0.0506, \n"
     ]
    },
    {
     "name": "stdout",
     "output_type": "stream",
     "text": [
      "epoch: 7, [batch: 3360 / 6720], examples_per_second: 3627.0804, train_label_loss: 0.0075, \n"
     ]
    },
    {
     "name": "stdout",
     "output_type": "stream",
     "text": [
      "epoch: 7, [batch: 4032 / 6720], examples_per_second: 3639.0752, train_label_loss: 0.1208, \n"
     ]
    },
    {
     "name": "stdout",
     "output_type": "stream",
     "text": [
      "epoch: 7, [batch: 4704 / 6720], examples_per_second: 3618.4634, train_label_loss: 0.2214, \n"
     ]
    },
    {
     "name": "stdout",
     "output_type": "stream",
     "text": [
      "epoch: 7, [batch: 5376 / 6720], examples_per_second: 3621.4717, train_label_loss: 0.2035, \n"
     ]
    },
    {
     "name": "stdout",
     "output_type": "stream",
     "text": [
      "epoch: 7, [batch: 6048 / 6720], examples_per_second: 3621.8502, train_label_loss: 0.0991, \n"
     ]
    },
    {
     "name": "stdout",
     "output_type": "stream",
     "text": [
      "=============================================================\n",
      "epoch: 7, source_val_acc_label: 0.9179, target_val_acc_label: 0.7279, source_val_label_loss: 0.2304, target_val_label_loss: 136.0857, \n",
      "=============================================================\n"
     ]
    },
    {
     "name": "stdout",
     "output_type": "stream",
     "text": [
      "Patience (3) exhausted\n"
     ]
    }
   ],
   "source": [
    "###################################\n",
    "# train\n",
    "###################################\n",
    "jig = PTN_Train_Eval_Test_Jig(model, p.BEST_MODEL_PATH, p.device)\n",
    "\n",
    "jig.train(\n",
    "    train_iterable=datasets.source.processed.train,\n",
    "    source_val_iterable=datasets.source.processed.val,\n",
    "    target_val_iterable=datasets.target.processed.val,\n",
    "    num_epochs=p.n_epoch,\n",
    "    num_logs_per_epoch=p.NUM_LOGS_PER_EPOCH,\n",
    "    patience=p.patience,\n",
    "    optimizer=optimizer,\n",
    "    criteria_for_best=p.criteria_for_best,\n",
    ")"
   ]
  },
  {
   "cell_type": "code",
   "execution_count": 23,
   "id": "31e8fabf",
   "metadata": {
    "execution": {
     "iopub.execute_input": "2022-03-25T11:48:31.972739Z",
     "iopub.status.busy": "2022-03-25T11:48:31.972491Z",
     "iopub.status.idle": "2022-03-25T11:48:31.992288Z",
     "shell.execute_reply": "2022-03-25T11:48:31.992038Z"
    },
    "papermill": {
     "duration": 0.050525,
     "end_time": "2022-03-25T11:48:31.992338",
     "exception": false,
     "start_time": "2022-03-25T11:48:31.941813",
     "status": "completed"
    },
    "tags": []
   },
   "outputs": [],
   "source": [
    "total_experiment_time_secs = time.time() - start_time_secs"
   ]
  },
  {
   "cell_type": "code",
   "execution_count": 24,
   "id": "87b9595b",
   "metadata": {
    "execution": {
     "iopub.execute_input": "2022-03-25T11:48:32.057822Z",
     "iopub.status.busy": "2022-03-25T11:48:32.057556Z",
     "iopub.status.idle": "2022-03-25T11:50:02.699590Z",
     "shell.execute_reply": "2022-03-25T11:50:02.699127Z"
    },
    "papermill": {
     "duration": 90.675944,
     "end_time": "2022-03-25T11:50:02.699699",
     "exception": false,
     "start_time": "2022-03-25T11:48:32.023755",
     "status": "completed"
    },
    "tags": []
   },
   "outputs": [],
   "source": [
    "###################################\n",
    "# Evaluate the model\n",
    "###################################\n",
    "source_test_label_accuracy, source_test_label_loss = jig.test(datasets.source.processed.test)\n",
    "target_test_label_accuracy, target_test_label_loss = jig.test(datasets.target.processed.test)\n",
    "\n",
    "source_val_label_accuracy, source_val_label_loss = jig.test(datasets.source.processed.val)\n",
    "target_val_label_accuracy, target_val_label_loss = jig.test(datasets.target.processed.val)\n",
    "\n",
    "history = jig.get_history()\n",
    "\n",
    "total_epochs_trained = len(history[\"epoch_indices\"])\n",
    "\n",
    "val_dl = Iterable_Aggregator((datasets.source.original.val,datasets.target.original.val))\n",
    "\n",
    "confusion = ptn_confusion_by_domain_over_dataloader(model, p.device, val_dl)\n",
    "per_domain_accuracy = per_domain_accuracy_from_confusion(confusion)\n",
    "\n",
    "# Add a key to per_domain_accuracy for if it was a source domain\n",
    "for domain, accuracy in per_domain_accuracy.items():\n",
    "    per_domain_accuracy[domain] = {\n",
    "        \"accuracy\": accuracy,\n",
    "        \"source?\": domain in p.domains_source\n",
    "    }\n",
    "\n",
    "# Do an independent accuracy assesment JUST TO BE SURE!\n",
    "# _source_test_label_accuracy = independent_accuracy_assesment(model, datasets.source.processed.test, p.device)\n",
    "# _target_test_label_accuracy = independent_accuracy_assesment(model, datasets.target.processed.test, p.device)\n",
    "# _source_val_label_accuracy = independent_accuracy_assesment(model, datasets.source.processed.val, p.device)\n",
    "# _target_val_label_accuracy = independent_accuracy_assesment(model, datasets.target.processed.val, p.device)\n",
    "\n",
    "# assert(_source_test_label_accuracy == source_test_label_accuracy)\n",
    "# assert(_target_test_label_accuracy == target_test_label_accuracy)\n",
    "# assert(_source_val_label_accuracy == source_val_label_accuracy)\n",
    "# assert(_target_val_label_accuracy == target_val_label_accuracy)\n",
    "\n",
    "experiment = {\n",
    "    \"experiment_name\": p.experiment_name,\n",
    "    \"parameters\": dict(p),\n",
    "    \"results\": {\n",
    "        \"source_test_label_accuracy\": source_test_label_accuracy,\n",
    "        \"source_test_label_loss\": source_test_label_loss,\n",
    "        \"target_test_label_accuracy\": target_test_label_accuracy,\n",
    "        \"target_test_label_loss\": target_test_label_loss,\n",
    "        \"source_val_label_accuracy\": source_val_label_accuracy,\n",
    "        \"source_val_label_loss\": source_val_label_loss,\n",
    "        \"target_val_label_accuracy\": target_val_label_accuracy,\n",
    "        \"target_val_label_loss\": target_val_label_loss,\n",
    "        \"total_epochs_trained\": total_epochs_trained,\n",
    "        \"total_experiment_time_secs\": total_experiment_time_secs,\n",
    "        \"confusion\": confusion,\n",
    "        \"per_domain_accuracy\": per_domain_accuracy,\n",
    "    },\n",
    "    \"history\": history,\n",
    "    \"dataset_metrics\": get_dataset_metrics(datasets, \"ptn\"),\n",
    "}"
   ]
  },
  {
   "cell_type": "code",
   "execution_count": 25,
   "id": "54a21829",
   "metadata": {
    "execution": {
     "iopub.execute_input": "2022-03-25T11:50:02.766117Z",
     "iopub.status.busy": "2022-03-25T11:50:02.765830Z",
     "iopub.status.idle": "2022-03-25T11:50:02.894348Z",
     "shell.execute_reply": "2022-03-25T11:50:02.893864Z"
    },
    "papermill": {
     "duration": 0.159519,
     "end_time": "2022-03-25T11:50:02.894462",
     "exception": false,
     "start_time": "2022-03-25T11:50:02.734943",
     "status": "completed"
    },
    "tags": []
   },
   "outputs": [
    {
     "data": {
      "image/png": "[encoded data removed]",
      "text/plain": [
       "<Figure size 1080x504 with 1 Axes>"
      ]
     },
     "metadata": {
      "needs_background": "light"
     },
     "output_type": "display_data"
    }
   ],
   "source": [
    "ax = get_loss_curve(experiment)\n",
    "plt.show()"
   ]
  },
  {
   "cell_type": "code",
   "execution_count": 26,
   "id": "fd8a0f60",
   "metadata": {
    "execution": {
     "iopub.execute_input": "2022-03-25T11:50:02.961419Z",
     "iopub.status.busy": "2022-03-25T11:50:02.961154Z",
     "iopub.status.idle": "2022-03-25T11:50:03.099963Z",
     "shell.execute_reply": "2022-03-25T11:50:03.099722Z"
    },
    "papermill": {
     "duration": 0.170161,
     "end_time": "2022-03-25T11:50:03.100024",
     "exception": false,
     "start_time": "2022-03-25T11:50:02.929863",
     "status": "completed"
    },
    "tags": []
   },
   "outputs": [
    {
     "data": {
      "text/plain": [
       "<AxesSubplot:title={'center':'Results'}>"
      ]
     },
     "execution_count": 26,
     "metadata": {},
     "output_type": "execute_result"
    },
    {
     "data": {
      "image/png": "[encoded data removed]",
      "text/plain": [
       "<Figure size 1080x504 with 1 Axes>"
      ]
     },
     "metadata": {
      "needs_background": "light"
     },
     "output_type": "display_data"
    }
   ],
   "source": [
    "get_results_table(experiment)"
   ]
  },
  {
   "cell_type": "code",
   "execution_count": 27,
   "id": "cf8dc689",
   "metadata": {
    "execution": {
     "iopub.execute_input": "2022-03-25T11:50:03.165380Z",
     "iopub.status.busy": "2022-03-25T11:50:03.165000Z",
     "iopub.status.idle": "2022-03-25T11:50:03.301684Z",
     "shell.execute_reply": "2022-03-25T11:50:03.302177Z"
    },
    "papermill": {
     "duration": 0.170962,
     "end_time": "2022-03-25T11:50:03.302315",
     "exception": false,
     "start_time": "2022-03-25T11:50:03.131353",
     "status": "completed"
    },
    "tags": []
   },
   "outputs": [
    {
     "data": {
      "text/plain": [
       "<AxesSubplot:title={'center':'Per Domain Validation Accuracy'}, xlabel='domain'>"
      ]
     },
     "execution_count": 27,
     "metadata": {},
     "output_type": "execute_result"
    },
    {
     "data": {
      "image/png": "[encoded data removed]",
      "text/plain": [
       "<Figure size 1080x504 with 1 Axes>"
      ]
     },
     "metadata": {
      "needs_background": "light"
     },
     "output_type": "display_data"
    }
   ],
   "source": [
    "get_domain_accuracies(experiment)"
   ]
  },
  {
   "cell_type": "code",
   "execution_count": 28,
   "id": "a74ae082",
   "metadata": {
    "execution": {
     "iopub.execute_input": "2022-03-25T11:50:03.375673Z",
     "iopub.status.busy": "2022-03-25T11:50:03.375420Z",
     "iopub.status.idle": "2022-03-25T11:50:03.392770Z",
     "shell.execute_reply": "2022-03-25T11:50:03.393074Z"
    },
    "papermill": {
     "duration": 0.051552,
     "end_time": "2022-03-25T11:50:03.393170",
     "exception": false,
     "start_time": "2022-03-25T11:50:03.341618",
     "status": "completed"
    },
    "tags": []
   },
   "outputs": [
    {
     "name": "stdout",
     "output_type": "stream",
     "text": [
      "Source Test Label Accuracy: 0.8884114583333333 Target Test Label Accuracy: 0.8177841545352743\n",
      "Source Val Label Accuracy: 0.8914388020833334 Target Val Label Accuracy: 0.8206879290617849\n"
     ]
    }
   ],
   "source": [
    "print(\"Source Test Label Accuracy:\", experiment[\"results\"][\"source_test_label_accuracy\"], \"Target Test Label Accuracy:\", experiment[\"results\"][\"target_test_label_accuracy\"])\n",
    "print(\"Source Val Label Accuracy:\", experiment[\"results\"][\"source_val_label_accuracy\"], \"Target Val Label Accuracy:\", experiment[\"results\"][\"target_val_label_accuracy\"])"
   ]
  },
  {
   "cell_type": "code",
   "execution_count": 29,
   "id": "dacca602",
   "metadata": {
    "execution": {
     "iopub.execute_input": "2022-03-25T11:50:03.489033Z",
     "iopub.status.busy": "2022-03-25T11:50:03.488785Z",
     "iopub.status.idle": "2022-03-25T11:50:03.504992Z",
     "shell.execute_reply": "2022-03-25T11:50:03.505390Z"
    },
    "papermill": {
     "duration": 0.076591,
     "end_time": "2022-03-25T11:50:03.505514",
     "exception": false,
     "start_time": "2022-03-25T11:50:03.428923",
     "status": "completed"
    },
    "tags": [
     "experiment_json"
    ]
   },
   "outputs": [
    {
     "data": {
      "text/plain": [
       "'{\"experiment_name\": \"tl_3Av2:oracle.run1.framed -> cores\", \"parameters\": {\"experiment_name\": \"tl_3Av2:oracle.run1.framed -> cores\", \"device\": \"cuda\", \"lr\": 0.0001, \"x_shape\": [2, 200], \"n_shot\": 3, \"n_query\": 2, \"train_k_factor\": 3, \"val_k_factor\": 2, \"test_k_factor\": 2, \"torch_default_dtype\": \"torch.float32\", \"n_epoch\": 50, \"patience\": 3, \"criteria_for_best\": \"target_accuracy\", \"x_net\": [{\"class\": \"nnReshape\", \"kargs\": {\"shape\": [-1, 1, 2, 200]}}, {\"class\": \"Conv2d\", \"kargs\": {\"in_channels\": 1, \"out_channels\": 256, \"kernel_size\": [1, 7], \"bias\": false, \"padding\": [0, 3]}}, {\"class\": \"ReLU\", \"kargs\": {\"inplace\": true}}, {\"class\": \"BatchNorm2d\", \"kargs\": {\"num_features\": 256}}, {\"class\": \"Conv2d\", \"kargs\": {\"in_channels\": 256, \"out_channels\": 80, \"kernel_size\": [2, 7], \"bias\": true, \"padding\": [0, 3]}}, {\"class\": \"ReLU\", \"kargs\": {\"inplace\": true}}, {\"class\": \"BatchNorm2d\", \"kargs\": {\"num_features\": 80}}, {\"class\": \"Flatten\", \"kargs\": {}}, {\"class\": \"Linear\", \"kargs\": {\"in_features\": 16000, \"out_features\": 256}}, {\"class\": \"ReLU\", \"kargs\": {\"inplace\": true}}, {\"class\": \"BatchNorm1d\", \"kargs\": {\"num_features\": 256}}, {\"class\": \"Linear\", \"kargs\": {\"in_features\": 256, \"out_features\": 256}}], \"NUM_LOGS_PER_EPOCH\": 10, \"BEST_MODEL_PATH\": \"./best_model.pth\", \"n_way\": 16, \"datasets\": [{\"labels\": [\"1-10.\", \"1-11.\", \"1-15.\", \"1-16.\", \"1-17.\", \"1-18.\", \"1-19.\", \"10-4.\", \"10-7.\", \"11-1.\", \"11-14.\", \"11-17.\", \"11-20.\", \"11-7.\", \"13-20.\", \"13-8.\", \"14-10.\", \"14-11.\", \"14-14.\", \"14-7.\", \"15-1.\", \"15-20.\", \"16-1.\", \"16-16.\", \"17-10.\", \"17-11.\", \"17-2.\", \"19-1.\", \"19-16.\", \"19-19.\", \"19-20.\", \"19-3.\", \"2-10.\", \"2-11.\", \"2-17.\", \"2-18.\", \"2-20.\", \"2-3.\", \"2-4.\", \"2-5.\", \"2-6.\", \"2-7.\", \"2-8.\", \"3-13.\", \"3-18.\", \"3-3.\", \"4-1.\", \"4-10.\", \"4-11.\", \"4-19.\", \"5-5.\", \"6-15.\", \"7-10.\", \"7-14.\", \"8-18.\", \"8-20.\", \"8-3.\", \"8-8.\"], \"domains\": [1, 2, 3, 4, 5], \"num_examples_per_domain_per_label\": -1, \"pickle_path\": \"/mnt/wd500GB/CSC500/csc500-main/datasets/cores.stratified_ds.2022A.pkl\", \"source_or_target_dataset\": \"target\", \"x_transforms\": [\"take_200\"], \"episode_transforms\": [], \"domain_prefix\": \"C_\"}, {\"labels\": [\"3123D52\", \"3123D65\", \"3123D79\", \"3123D80\", \"3123D54\", \"3123D70\", \"3123D7B\", \"3123D89\", \"3123D58\", \"3123D76\", \"3123D7D\", \"3123EFE\", \"3123D64\", \"3123D78\", \"3123D7E\", \"3124E4A\"], \"domains\": [32, 38, 8, 44, 14, 50, 20, 26], \"num_examples_per_domain_per_label\": 2000, \"pickle_path\": \"/mnt/wd500GB/CSC500/csc500-main/datasets/oracle.Run1_framed_2000Examples_stratified_ds.2022A.pkl\", \"source_or_target_dataset\": \"source\", \"x_transforms\": [\"take_200\", \"resample_20Msps_to_25Msps\"], \"episode_transforms\": [], \"domain_prefix\": \"O_\"}], \"seed\": 154325, \"dataset_seed\": 154325, \"domains_source\": [\"O_32\", \"O_38\", \"O_8\", \"O_44\", \"O_14\", \"O_50\", \"O_20\", \"O_26\"], \"domains_target\": [\"C_1\", \"C_2\", \"C_3\", \"C_4\", \"C_5\"]}, \"results\": {\"source_test_label_accuracy\": 0.8884114583333333, \"source_test_label_loss\": 0.3311648666858673, \"target_test_label_accuracy\": 0.8177841545352743, \"target_test_label_loss\": 213.5499267578125, \"source_val_label_accuracy\": 0.8914388020833334, \"source_val_label_loss\": 0.32227495312690735, \"target_val_label_accuracy\": 0.8206879290617849, \"target_val_label_loss\": 211.59681701660156, \"total_epochs_trained\": 7, \"total_experiment_time_secs\": 1170.0269780158997, \"confusion\": {\"O_8\": {\"13\": {\"10\": 27, \"13\": 198, \"7\": 13, \"6\": 2}, \"9\": {\"9\": 240}, \"15\": {\"15\": 216, \"12\": 24}, \"2\": {\"2\": 196, \"15\": 2, \"3\": 35, \"12\": 7}, \"3\": {\"3\": 240}, \"8\": {\"8\": 240}, \"5\": {\"1\": 24, \"5\": 185, \"11\": 6, \"10\": 23, \"14\": 1, \"13\": 1}, \"14\": {\"14\": 230, \"4\": 9, \"11\": 1}, \"1\": {\"1\": 188, \"11\": 42, \"5\": 9, \"10\": 1}, \"0\": {\"0\": 240}, \"10\": {\"10\": 205, \"13\": 25, \"5\": 7, \"4\": 2, \"1\": 1}, \"6\": {\"6\": 216, \"7\": 24}, \"11\": {\"1\": 84, \"11\": 149, \"5\": 3, \"14\": 4}, \"7\": {\"7\": 228, \"6\": 12}, \"4\": {\"4\": 239, \"14\": 1}, \"12\": {\"15\": 61, \"12\": 179}}, \"O_38\": {\"13\": {\"13\": 230, \"10\": 7, \"0\": 3}, \"12\": {\"12\": 240}, \"2\": {\"2\": 228, \"14\": 12}, \"9\": {\"9\": 234, \"7\": 2, \"5\": 4}, \"15\": {\"15\": 228, \"1\": 2, \"8\": 5, \"5\": 5}, \"5\": {\"5\": 133, \"8\": 71, \"7\": 18, \"0\": 1, \"9\": 16, \"15\": 1}, \"14\": {\"14\": 233, \"2\": 7}, \"0\": {\"7\": 19, \"0\": 172, \"3\": 1, \"10\": 34, \"13\": 10, \"5\": 3, \"8\": 1}, \"3\": {\"3\": 240}, \"1\": {\"1\": 240}, \"11\": {\"11\": 240}, \"7\": {\"7\": 233, \"8\": 3, \"5\": 4}, \"8\": {\"8\": 149, \"5\": 69, \"7\": 12, \"15\": 9, \"0\": 1}, \"4\": {\"4\": 240}, \"10\": {\"10\": 226, \"0\": 4, \"13\": 10}, \"6\": {\"6\": 240}}, \"O_26\": {\"10\": {\"10\": 183, \"14\": 39, \"6\": 3, \"0\": 13, \"15\": 2}, \"12\": {\"12\": 240}, \"1\": {\"1\": 196, \"14\": 34, \"6\": 1, \"10\": 9}, \"0\": {\"0\": 166, \"10\": 46, \"15\": 1, \"14\": 20, \"8\": 7}, \"15\": {\"6\": 22, \"15\": 197, \"5\": 16, \"1\": 1, \"14\": 1, \"10\": 3}, \"13\": {\"13\": 207, \"9\": 15, \"3\": 5, \"2\": 12, \"8\": 1}, \"8\": {\"8\": 181, \"9\": 22, \"7\": 34, \"0\": 2, \"2\": 1}, \"3\": {\"3\": 225, \"7\": 11, \"2\": 3, \"13\": 1}, \"11\": {\"11\": 240}, \"4\": {\"4\": 240}, \"6\": {\"6\": 218, \"15\": 19, \"10\": 3}, \"7\": {\"2\": 12, \"7\": 191, \"8\": 22, \"3\": 10, \"9\": 5}, \"14\": {\"1\": 6, \"14\": 182, \"10\": 39, \"0\": 12, \"15\": 1}, \"2\": {\"2\": 154, \"9\": 13, \"8\": 13, \"7\": 35, \"3\": 21, \"0\": 4}, \"5\": {\"5\": 222, \"15\": 18}, \"9\": {\"9\": 183, \"8\": 26, \"13\": 14, \"2\": 16, \"7\": 1}}, \"O_20\": {\"5\": {\"1\": 40, \"5\": 192, \"3\": 8}, \"15\": {\"15\": 213, \"9\": 1, \"1\": 16, \"12\": 7, \"2\": 2, \"13\": 1}, \"9\": {\"9\": 199, \"1\": 13, \"3\": 9, \"7\": 15, \"5\": 3, \"2\": 1}, \"7\": {\"7\": 210, \"9\": 6, \"2\": 22, \"12\": 2}, \"3\": {\"3\": 184, \"9\": 27, \"8\": 9, \"5\": 14, \"0\": 1, \"1\": 3, \"7\": 2}, \"8\": {\"8\": 224, \"3\": 9, \"14\": 7}, \"4\": {\"4\": 237, \"12\": 2, \"10\": 1}, \"6\": {\"6\": 239, \"7\": 1}, \"2\": {\"2\": 183, \"7\": 26, \"12\": 22, \"13\": 5, \"9\": 4}, \"12\": {\"12\": 212, \"2\": 18, \"15\": 6, \"7\": 1, \"4\": 3}, \"0\": {\"0\": 239, \"5\": 1}, \"13\": {\"13\": 233, \"2\": 5, \"12\": 2}, \"10\": {\"10\": 240}, \"11\": {\"11\": 240}, \"14\": {\"14\": 237, \"8\": 3}, \"1\": {\"9\": 5, \"1\": 174, \"5\": 57, \"15\": 2, \"3\": 2}}, \"O_50\": {\"1\": {\"1\": 233, \"5\": 1, \"13\": 6}, \"2\": {\"2\": 237, \"0\": 3}, \"8\": {\"8\": 240}, \"7\": {\"7\": 232, \"4\": 2, \"5\": 6}, \"14\": {\"14\": 240}, \"6\": {\"6\": 220, \"5\": 5, \"15\": 15}, \"3\": {\"3\": 240}, \"4\": {\"4\": 206, \"7\": 16, \"15\": 7, \"5\": 10, \"6\": 1}, \"12\": {\"12\": 233, \"11\": 3, \"9\": 4}, \"15\": {\"15\": 231, \"11\": 5, \"6\": 4}, \"11\": {\"11\": 234, \"15\": 3, \"9\": 1, \"12\": 2}, \"0\": {\"0\": 230, \"2\": 10}, \"9\": {\"9\": 219, \"12\": 14, \"11\": 7}, \"10\": {\"10\": 240}, \"5\": {\"13\": 7, \"5\": 141, \"1\": 1, \"4\": 8, \"7\": 37, \"15\": 6, \"6\": 38, \"11\": 2}, \"13\": {\"13\": 240}}, \"O_32\": {\"2\": {\"2\": 217, \"4\": 23}, \"6\": {\"6\": 240}, \"5\": {\"5\": 153, \"0\": 13, \"8\": 24, \"7\": 45, \"14\": 5}, \"12\": {\"12\": 240}, \"13\": {\"13\": 189, \"4\": 21, \"3\": 27, \"11\": 3}, \"9\": {\"9\": 232, \"12\": 8}, \"11\": {\"11\": 240}, \"1\": {\"1\": 240}, \"3\": {\"3\": 234, \"13\": 6}, \"7\": {\"7\": 199, \"5\": 27, \"0\": 7, \"14\": 7}, \"14\": {\"14\": 181, \"7\": 29, \"3\": 1, \"0\": 11, \"5\": 7, \"8\": 5, \"4\": 3, \"2\": 2, \"13\": 1}, \"8\": {\"8\": 206, \"0\": 21, \"14\": 3, \"5\": 8, \"3\": 1, \"7\": 1}, \"4\": {\"4\": 225, \"13\": 3, \"2\": 12}, \"0\": {\"0\": 183, \"8\": 26, \"7\": 15, \"5\": 10, \"14\": 5, \"2\": 1}, \"10\": {\"10\": 240}, \"15\": {\"15\": 237, \"8\": 3}}, \"O_44\": {\"13\": {\"13\": 207, \"6\": 27, \"9\": 6}, \"4\": {\"4\": 171, \"14\": 66, \"15\": 3}, \"6\": {\"6\": 193, \"13\": 27, \"9\": 18, \"7\": 2}, \"0\": {\"0\": 220, \"8\": 20}, \"10\": {\"10\": 229, \"1\": 4, \"2\": 4, \"7\": 3}, \"7\": {\"7\": 221, \"9\": 17, \"6\": 1, \"10\": 1}, \"14\": {\"14\": 190, \"4\": 28, \"15\": 18, \"5\": 4}, \"15\": {\"14\": 17, \"5\": 16, \"15\": 198, \"8\": 6, \"0\": 3}, \"5\": {\"5\": 219, \"14\": 8, \"15\": 11, \"8\": 2}, \"2\": {\"2\": 231, \"1\": 9}, \"9\": {\"7\": 49, \"9\": 146, \"6\": 34, \"13\": 11}, \"12\": {\"12\": 239, \"3\": 1}, \"8\": {\"8\": 178, \"0\": 55, \"15\": 3, \"5\": 4}, \"3\": {\"3\": 235, \"12\": 5}, \"1\": {\"1\": 235, \"2\": 5}, \"11\": {\"11\": 240}}, \"O_14\": {\"1\": {\"1\": 240}, \"15\": {\"15\": 240}, \"10\": {\"10\": 240}, \"2\": {\"14\": 35, \"6\": 17, \"4\": 20, \"2\": 127, \"5\": 19, \"13\": 16, \"3\": 6}, \"9\": {\"9\": 240}, \"5\": {\"5\": 227, \"2\": 13}, \"7\": {\"7\": 240}, \"13\": {\"6\": 89, \"13\": 56, \"14\": 71, \"2\": 14, \"4\": 2, \"3\": 1, \"15\": 7}, \"8\": {\"8\": 240}, \"6\": {\"13\": 66, \"6\": 143, \"14\": 24, \"2\": 7}, \"3\": {\"3\": 238, \"14\": 1, \"13\": 1}, \"12\": {\"12\": 240}, \"0\": {\"0\": 223, \"3\": 13, \"10\": 4}, \"4\": {\"4\": 238, \"5\": 1, \"2\": 1}, \"14\": {\"14\": 213, \"2\": 6, \"13\": 18, \"3\": 3}, \"11\": {\"11\": 240}}, \"C_2\": {\"21\": {\"21\": 111, \"3\": 4, \"46\": 3, \"6\": 1, \"52\": 1}, \"4\": {\"4\": 98, \"44\": 4, \"57\": 2, \"9\": 16, \"56\": 1, \"40\": 4, \"29\": 2, \"22\": 1, \"48\": 2}, \"6\": {\"6\": 79, \"3\": 15, \"46\": 9, \"5\": 9, \"12\": 1, \"44\": 1, \"50\": 3, \"45\": 4, \"21\": 2, \"40\": 1}, \"10\": {\"10\": 105, \"11\": 5, \"24\": 2}, \"33\": {\"33\": 26, \"29\": 1, \"57\": 1}, \"56\": {\"6\": 2, \"0\": 8, \"56\": 54, \"47\": 16, \"1\": 13, \"22\": 18, \"50\": 1, \"51\": 1, \"4\": 2, \"57\": 2, \"44\": 1, \"55\": 1, \"5\": 3}, \"20\": {\"20\": 117, \"8\": 7, \"52\": 2, \"48\": 2, \"51\": 1, \"21\": 2, \"47\": 1}, \"24\": {\"24\": 63, \"37\": 2, \"43\": 17, \"11\": 3, \"13\": 4, \"54\": 1, \"40\": 1, \"22\": 1, \"10\": 3, \"52\": 1}, \"45\": {\"6\": 20, \"3\": 9, \"45\": 39, \"56\": 3, \"12\": 8, \"22\": 2, \"5\": 7, \"7\": 1, \"50\": 8, \"21\": 2, \"46\": 5, \"4\": 2, \"40\": 14, \"0\": 3, \"44\": 3, \"47\": 2}, \"32\": {\"32\": 28}, \"27\": {\"27\": 148}, \"53\": {\"53\": 135, \"26\": 1}, \"8\": {\"8\": 151, \"20\": 8, \"50\": 1}, \"54\": {\"24\": 8, \"54\": 79, \"2\": 1, \"36\": 4, \"55\": 1, \"8\": 5, \"51\": 4, \"42\": 1, \"23\": 2, \"53\": 2, \"13\": 1}, \"50\": {\"6\": 13, \"21\": 5, \"50\": 72, \"12\": 8, \"45\": 5, \"52\": 3, \"56\": 3, \"40\": 3, \"3\": 4, \"55\": 2, \"46\": 9, \"0\": 2, \"44\": 1, \"48\": 1, \"30\": 2, \"5\": 1}, \"44\": {\"6\": 3, \"44\": 58, \"5\": 6, \"40\": 7, \"21\": 2, \"56\": 1, \"45\": 6, \"46\": 2, \"3\": 4, \"52\": 1, \"22\": 2, \"1\": 2, \"2\": 1, \"48\": 3, \"47\": 2}, \"5\": {\"5\": 115, \"6\": 1, \"21\": 1, \"46\": 2, \"3\": 1}, \"38\": {\"38\": 20}, \"19\": {\"35\": 4, \"19\": 113, \"46\": 1, \"24\": 1, \"17\": 4, \"55\": 3, \"44\": 1, \"9\": 2, \"11\": 1, \"23\": 2}, \"1\": {\"22\": 7, \"1\": 89, \"56\": 3, \"29\": 1, \"48\": 1, \"30\": 1, \"40\": 1, \"47\": 5, \"57\": 1, \"46\": 1, \"44\": 1, \"6\": 1}, \"30\": {\"30\": 141, \"50\": 2, \"3\": 1}, \"15\": {\"15\": 139, \"24\": 1, \"28\": 1, \"11\": 2, \"16\": 1}, \"23\": {\"23\": 137, \"28\": 1, \"49\": 2, \"39\": 2, \"34\": 2, \"55\": 1, \"36\": 1}, \"35\": {\"35\": 32}, \"22\": {\"22\": 79, \"46\": 2, \"1\": 7, \"56\": 7, \"44\": 3, \"47\": 12, \"21\": 1, \"5\": 4, \"55\": 2, \"3\": 2, \"0\": 2, \"45\": 3, \"40\": 2, \"6\": 1, \"52\": 1}, \"40\": {\"40\": 95, \"46\": 2, \"48\": 8, \"9\": 6, \"29\": 3, \"55\": 2, \"1\": 3, \"45\": 5, \"44\": 4, \"3\": 2, \"5\": 3, \"4\": 2, \"22\": 1, \"57\": 3, \"54\": 1}, \"46\": {\"50\": 8, \"46\": 62, \"5\": 7, \"21\": 11, \"4\": 1, \"3\": 12, \"12\": 3, \"6\": 9, \"45\": 4, \"40\": 3, \"52\": 1, \"44\": 2, \"22\": 1, \"30\": 2}, \"3\": {\"3\": 73, \"7\": 1, \"21\": 2, \"12\": 1, \"46\": 3, \"6\": 5, \"5\": 2, \"55\": 1, \"52\": 1, \"1\": 1, \"44\": 1, \"45\": 1}, \"48\": {\"48\": 120, \"1\": 4, \"56\": 3, \"57\": 8, \"47\": 6, \"52\": 1, \"0\": 2, \"40\": 1, \"30\": 3}, \"52\": {\"52\": 118, \"57\": 2, \"6\": 2, \"46\": 2}, \"2\": {\"2\": 18, \"45\": 3, \"47\": 4, \"1\": 1, \"41\": 1, \"40\": 1, \"57\": 1, \"0\": 2, \"21\": 1}, \"26\": {\"26\": 22, \"36\": 1, \"17\": 1}, \"17\": {\"17\": 99, \"32\": 2, \"20\": 1, \"55\": 1, \"36\": 1}, \"55\": {\"42\": 3, \"55\": 98, \"0\": 1, \"7\": 4, \"31\": 3, \"22\": 3, \"46\": 2, \"57\": 5, \"54\": 1, \"23\": 5, \"29\": 1, \"56\": 7, \"40\": 1, \"43\": 4, \"47\": 3, \"2\": 1, \"19\": 2}, \"51\": {\"2\": 1, \"51\": 95, \"8\": 7, \"21\": 4, \"54\": 1, \"56\": 1, \"20\": 6, \"52\": 1, \"36\": 2, \"53\": 2, \"4\": 1, \"40\": 1}, \"42\": {\"17\": 3, \"42\": 20, \"7\": 2, \"31\": 5, \"39\": 3, \"55\": 1, \"14\": 1, \"29\": 1}, \"41\": {\"41\": 19, \"1\": 1}, \"31\": {\"31\": 28}, \"16\": {\"16\": 98, \"11\": 14, \"13\": 1, \"24\": 1, \"15\": 12, \"54\": 6, \"28\": 1, \"37\": 1, \"10\": 2, \"53\": 1, \"43\": 1}, \"36\": {\"36\": 116}, \"49\": {\"49\": 17, \"34\": 3, \"42\": 1, \"36\": 1, \"23\": 2}, \"0\": {\"3\": 1, \"47\": 1, \"0\": 42, \"6\": 1, \"5\": 2, \"56\": 1}, \"18\": {\"18\": 43, \"25\": 4, \"11\": 1}, \"25\": {\"25\": 144, \"18\": 2}, \"9\": {\"9\": 100, \"48\": 4, \"4\": 5, \"55\": 1, \"57\": 2, \"0\": 3, \"27\": 1, \"29\": 4, \"52\": 1, \"20\": 1}, \"47\": {\"47\": 124, \"57\": 2, \"48\": 2, \"1\": 2, \"56\": 2}, \"7\": {\"7\": 21, \"1\": 3, \"40\": 2, \"22\": 1, \"31\": 1, \"56\": 2, \"47\": 1, \"23\": 1, \"29\": 2, \"44\": 1, \"55\": 1}, \"37\": {\"37\": 35, \"50\": 1}, \"13\": {\"13\": 105, \"14\": 1, \"52\": 3, \"22\": 2, \"38\": 2, \"0\": 1, \"43\": 1, \"48\": 1}, \"14\": {\"41\": 4, \"47\": 2, \"14\": 7, \"29\": 1, \"24\": 1, \"9\": 2, \"1\": 1, \"33\": 1, \"39\": 1, \"13\": 1, \"56\": 1, \"0\": 2}, \"34\": {\"34\": 26, \"49\": 2}, \"57\": {\"57\": 140}, \"11\": {\"11\": 109, \"10\": 6, \"16\": 9, \"15\": 7, \"20\": 1, \"22\": 1, \"28\": 1, \"13\": 1, \"24\": 1, \"23\": 2}, \"39\": {\"39\": 25, \"47\": 1, \"2\": 1, \"14\": 1}, \"12\": {\"12\": 92}, \"28\": {\"28\": 28}, \"29\": {\"29\": 115, \"45\": 1, \"1\": 4, \"22\": 1, \"9\": 1, \"57\": 3, \"56\": 1, \"6\": 1, \"55\": 1}, \"43\": {\"43\": 138, \"11\": 1, \"15\": 1}}, \"C_5\": {\"12\": {\"12\": 71, \"1\": 1, \"6\": 4, \"20\": 1, \"30\": 5, \"9\": 2, \"50\": 3, \"45\": 2, \"4\": 1, \"40\": 1, \"21\": 3, \"44\": 2}, \"8\": {\"8\": 139, \"20\": 3}, \"29\": {\"29\": 103, \"28\": 1, \"40\": 6, \"22\": 1, \"56\": 4, \"19\": 2, \"47\": 2, \"57\": 5, \"5\": 3, \"15\": 1, \"36\": 1, \"44\": 3}, \"57\": {\"57\": 125, \"21\": 1}, \"38\": {\"8\": 1, \"38\": 31}, \"23\": {\"55\": 8, \"23\": 93, \"37\": 1, \"24\": 3, \"36\": 2, \"8\": 4, \"43\": 3, \"51\": 2, \"35\": 1, \"17\": 3, \"52\": 1, \"54\": 3}, \"56\": {\"56\": 109, \"14\": 1, \"0\": 4, \"46\": 4, \"22\": 2, \"47\": 6, \"44\": 4, \"9\": 1, \"52\": 1, \"40\": 3, \"57\": 2, \"13\": 1}, \"49\": {\"49\": 28, \"31\": 1, \"12\": 1, \"36\": 2, \"57\": 1, \"48\": 1, \"22\": 1, \"14\": 1}, \"4\": {\"4\": 45, \"5\": 8, \"36\": 1, \"48\": 3, \"1\": 8, \"6\": 3, \"9\": 17, \"44\": 5, \"49\": 2, \"12\": 2, \"46\": 1, \"55\": 1, \"3\": 1, \"45\": 1, \"40\": 2}, \"48\": {\"48\": 99, \"30\": 3, \"1\": 14, \"57\": 4, \"44\": 3, \"9\": 5, \"47\": 1, \"27\": 4, \"29\": 1, \"52\": 1, \"4\": 1}, \"21\": {\"12\": 2, \"21\": 139, \"44\": 1, \"20\": 2}, \"30\": {\"30\": 125, \"54\": 1, \"1\": 2}, \"1\": {\"48\": 1, \"1\": 137, \"47\": 4, \"57\": 2, \"9\": 3, \"4\": 1}, \"34\": {\"34\": 36}, \"35\": {\"35\": 36}, \"55\": {\"34\": 1, \"55\": 121, \"8\": 4, \"33\": 1, \"1\": 2, \"14\": 1, \"48\": 2, \"27\": 5, \"17\": 3, \"44\": 1, \"35\": 1, \"2\": 1, \"30\": 2, \"6\": 1, \"23\": 5, \"40\": 1}, \"5\": {\"5\": 88, \"4\": 3, \"29\": 3, \"22\": 1, \"9\": 4, \"50\": 4, \"40\": 5, \"45\": 2, \"6\": 4, \"36\": 1, \"56\": 2, \"44\": 3, \"49\": 1, \"13\": 1}, \"52\": {\"52\": 124, \"46\": 2}, \"6\": {\"4\": 2, \"3\": 5, \"50\": 12, \"6\": 61, \"52\": 3, \"45\": 21, \"49\": 1, \"5\": 2, \"29\": 2, \"36\": 1, \"30\": 3, \"44\": 4, \"40\": 1, \"13\": 1, \"12\": 3, \"1\": 2, \"46\": 4}, \"36\": {\"36\": 42, \"14\": 7, \"40\": 2, \"2\": 1, \"22\": 1, \"4\": 2, \"3\": 2, \"20\": 1, \"48\": 1, \"46\": 3, \"47\": 2, \"13\": 4, \"56\": 8, \"9\": 2, \"29\": 3, \"39\": 1, \"35\": 2, \"8\": 1, \"57\": 1, \"43\": 2, \"44\": 3, \"6\": 1}, \"41\": {\"41\": 26, \"27\": 1, \"14\": 1}, \"3\": {\"3\": 71, \"46\": 12, \"44\": 1, \"5\": 1, \"0\": 5, \"49\": 2, \"50\": 2, \"45\": 3, \"6\": 1, \"47\": 1, \"40\": 1}, \"28\": {\"41\": 2, \"28\": 26, \"10\": 1, \"16\": 1, \"34\": 2}, \"18\": {\"18\": 55, \"9\": 1, \"10\": 1, \"42\": 2, \"25\": 2, \"16\": 1, \"23\": 1, \"13\": 1}, \"25\": {\"25\": 131, \"18\": 2, \"53\": 3}, \"47\": {\"47\": 94, \"52\": 3, \"57\": 2, \"56\": 1}, \"13\": {\"13\": 130, \"47\": 3, \"37\": 2, \"43\": 9, \"22\": 1, \"54\": 1, \"5\": 1, \"0\": 2, \"56\": 2, \"52\": 1, \"44\": 1, \"21\": 2, \"4\": 1, \"36\": 1, \"3\": 2, \"29\": 1}, \"11\": {\"11\": 117, \"10\": 2, \"15\": 21, \"24\": 2, \"16\": 2}, \"53\": {\"53\": 140, \"55\": 2, \"27\": 1, \"17\": 1}, \"33\": {\"33\": 31, \"29\": 1}, \"46\": {\"46\": 129, \"0\": 7, \"48\": 1, \"3\": 3, \"52\": 4, \"14\": 1, \"56\": 1, \"13\": 1, \"29\": 1}, \"50\": {\"50\": 79, \"44\": 5, \"6\": 16, \"3\": 5, \"22\": 1, \"52\": 1, \"5\": 12, \"12\": 3, \"45\": 16, \"4\": 2, \"46\": 3, \"47\": 2, \"40\": 1, \"21\": 1, \"56\": 1}, \"10\": {\"10\": 65, \"24\": 2, \"15\": 1}, \"15\": {\"11\": 10, \"15\": 125, \"10\": 1, \"16\": 2}, \"44\": {\"5\": 24, \"44\": 61, \"9\": 4, \"56\": 11, \"3\": 3, \"40\": 10, \"50\": 5, \"6\": 5, \"0\": 2, \"45\": 5, \"46\": 2, \"23\": 1, \"13\": 1, \"4\": 3, \"29\": 2, \"47\": 1}, \"2\": {\"2\": 28}, \"7\": {\"7\": 29, \"51\": 1, \"30\": 2}, \"43\": {\"43\": 138}, \"32\": {\"32\": 31, \"39\": 1}, \"0\": {\"0\": 122, \"46\": 2}, \"39\": {\"44\": 2, \"14\": 6, \"4\": 1, \"35\": 1, \"47\": 1, \"22\": 1, \"2\": 1, \"6\": 1, \"29\": 1, \"49\": 1, \"39\": 2, \"30\": 1, \"23\": 1}, \"26\": {\"26\": 22, \"38\": 2}, \"27\": {\"27\": 95, \"55\": 2, \"1\": 2, \"57\": 4, \"9\": 4, \"40\": 1, \"32\": 1, \"30\": 2, \"48\": 1}, \"54\": {\"54\": 95, \"24\": 1, \"43\": 2, \"16\": 1, \"8\": 3, \"23\": 6, \"2\": 1, \"13\": 2, \"21\": 1}, \"17\": {\"17\": 104, \"27\": 6, \"55\": 3, \"30\": 2, \"8\": 1}, \"14\": {\"14\": 23, \"48\": 1, \"0\": 2, \"37\": 2, \"21\": 1, \"32\": 2, \"47\": 2, \"29\": 2, \"57\": 1, \"13\": 4, \"2\": 2, \"56\": 1, \"36\": 1}, \"16\": {\"16\": 104, \"10\": 5, \"15\": 10, \"11\": 18, \"24\": 4, \"23\": 2, \"54\": 4, \"53\": 1}, \"9\": {\"1\": 6, \"9\": 122, \"54\": 2, \"4\": 3, \"30\": 2, \"52\": 1, \"48\": 6, \"21\": 4, \"40\": 1, \"50\": 1}, \"19\": {\"19\": 137, \"28\": 1, \"42\": 1, \"49\": 1, \"27\": 2, \"54\": 2, \"55\": 4, \"41\": 2, \"29\": 2}, \"20\": {\"20\": 127, \"12\": 2, \"21\": 4, \"8\": 4, \"51\": 1}, \"37\": {\"37\": 24}, \"24\": {\"24\": 49, \"54\": 4, \"10\": 9, \"44\": 1, \"43\": 12, \"13\": 3, \"15\": 1, \"35\": 1}, \"40\": {\"40\": 55, \"3\": 4, \"4\": 4, \"22\": 3, \"44\": 14, \"50\": 5, \"5\": 11, \"56\": 5, \"46\": 2, \"9\": 9, \"27\": 1, \"20\": 1, \"36\": 1, \"57\": 1, \"47\": 4, \"45\": 1, \"6\": 1}, \"45\": {\"6\": 10, \"45\": 94, \"50\": 12, \"5\": 2, \"21\": 1, \"40\": 2, \"27\": 1, \"0\": 2}, \"22\": {\"22\": 17, \"47\": 1, \"40\": 1, \"56\": 1, \"5\": 4, \"6\": 1, \"3\": 3}, \"42\": {\"42\": 37, \"13\": 1, \"43\": 1, \"53\": 1}, \"51\": {\"51\": 98, \"46\": 1, \"8\": 8, \"20\": 4, \"44\": 2, \"21\": 2, \"54\": 2, \"50\": 1}, \"31\": {\"31\": 36}}, \"C_1\": {\"27\": {\"27\": 131, \"56\": 2, \"3\": 1, \"52\": 4, \"22\": 1, \"43\": 1, \"55\": 1, \"57\": 1}, \"2\": {\"2\": 36}, \"33\": {\"33\": 32}, \"45\": {\"45\": 147, \"56\": 5, \"5\": 2, \"52\": 1, \"44\": 1}, \"38\": {\"38\": 17, \"32\": 1, \"39\": 2, \"49\": 1, \"55\": 1, \"21\": 1, \"7\": 1}, \"4\": {\"4\": 66, \"14\": 1, \"50\": 3, \"57\": 14, \"6\": 3, \"40\": 8, \"45\": 8, \"44\": 5, \"3\": 4, \"56\": 9, \"1\": 3, \"46\": 2, \"20\": 1, \"29\": 4, \"47\": 1}, \"31\": {\"38\": 2, \"31\": 23, \"23\": 2, \"37\": 1}, \"55\": {\"55\": 120, \"27\": 3, \"22\": 1, \"1\": 4, \"33\": 1, \"43\": 3, \"54\": 4, \"38\": 1, \"36\": 1, \"47\": 1, \"52\": 1}, \"32\": {\"32\": 32}, \"57\": {\"57\": 127, \"30\": 2, \"1\": 4, \"40\": 5, \"56\": 1, \"29\": 1}, \"14\": {\"14\": 12, \"30\": 1, \"8\": 5, \"12\": 2, \"9\": 2, \"21\": 1, \"13\": 1}, \"16\": {\"16\": 105, \"15\": 11, \"11\": 5, \"54\": 1, \"24\": 2, \"10\": 4, \"53\": 7, \"26\": 2, \"23\": 1, \"25\": 1, \"55\": 1}, \"34\": {\"34\": 24}, \"56\": {\"45\": 5, \"56\": 112, \"27\": 3, \"47\": 1, \"52\": 2, \"13\": 1, \"44\": 2}, \"24\": {\"24\": 85, \"49\": 1, \"23\": 7, \"54\": 12, \"43\": 1, \"10\": 1, \"55\": 1}, \"30\": {\"56\": 3, \"30\": 107, \"52\": 1, \"46\": 1}, \"17\": {\"17\": 54, \"9\": 2, \"8\": 2, \"48\": 2, \"42\": 2, \"22\": 1, \"2\": 1}, \"13\": {\"13\": 127, \"22\": 3, \"12\": 4, \"20\": 3, \"45\": 1}, \"39\": {\"39\": 19, \"47\": 1, \"38\": 2, \"55\": 1, \"49\": 1, \"22\": 1, \"37\": 1, \"31\": 2}, \"50\": {\"50\": 135, \"6\": 6, \"5\": 3, \"45\": 1, \"30\": 1}, \"20\": {\"20\": 127, \"12\": 10, \"3\": 2, \"21\": 1}, \"41\": {\"41\": 23, \"13\": 1}, \"53\": {\"53\": 126}, \"48\": {\"48\": 132, \"30\": 6, \"8\": 3, \"2\": 1}, \"36\": {\"36\": 64}, \"8\": {\"13\": 1, \"8\": 123, \"2\": 2, \"30\": 4, \"48\": 6, \"9\": 1, \"3\": 2, \"12\": 1}, \"15\": {\"15\": 122, \"16\": 1, \"55\": 1, \"44\": 1, \"24\": 2, \"10\": 3, \"11\": 1, \"23\": 1}, \"40\": {\"57\": 18, \"40\": 100, \"29\": 10, \"47\": 2, \"45\": 4, \"4\": 6, \"13\": 2, \"56\": 6, \"3\": 1, \"44\": 4, \"12\": 1, \"1\": 2}, \"37\": {\"37\": 32}, \"21\": {\"21\": 120}, \"35\": {\"35\": 35, \"19\": 1}, \"49\": {\"49\": 32}, \"26\": {\"26\": 21, \"16\": 1, \"53\": 2}, \"28\": {\"10\": 5, \"28\": 17, \"6\": 1, \"24\": 1, \"18\": 1, \"54\": 1, \"11\": 1, \"31\": 1}, \"12\": {\"12\": 100, \"20\": 15, \"5\": 1}, \"5\": {\"5\": 152}, \"29\": {\"30\": 2, \"29\": 86, \"4\": 6, \"47\": 15, \"1\": 8, \"44\": 2, \"0\": 1, \"40\": 9, \"45\": 1, \"57\": 2, \"6\": 1, \"3\": 1, \"46\": 3, \"55\": 1, \"56\": 2}, \"47\": {\"5\": 2, \"47\": 93, \"1\": 5, \"27\": 9, \"29\": 8, \"57\": 9, \"44\": 3, \"46\": 3, \"3\": 1, \"56\": 2, \"43\": 2, \"40\": 1, \"4\": 2}, \"10\": {\"10\": 84, \"15\": 5, \"24\": 1, \"16\": 1, \"11\": 3, \"23\": 1, \"54\": 1}, \"18\": {\"34\": 2, \"11\": 1, \"18\": 61, \"54\": 1, \"25\": 5, \"46\": 1, \"29\": 1}, \"9\": {\"9\": 123, \"8\": 3}, \"3\": {\"12\": 12, \"3\": 56, \"40\": 5, \"22\": 11, \"20\": 13, \"45\": 9, \"13\": 5, \"0\": 7, \"44\": 4, \"47\": 2, \"46\": 1, \"29\": 3, \"21\": 2, \"6\": 1, \"52\": 1, \"56\": 3, \"1\": 1, \"5\": 2, \"57\": 2}, \"52\": {\"52\": 106, \"22\": 22, \"27\": 2, \"0\": 2}, \"25\": {\"25\": 136}, \"19\": {\"19\": 145, \"42\": 2, \"40\": 1, \"55\": 1, \"53\": 1, \"43\": 2, \"11\": 1, \"8\": 2, \"23\": 1}, \"11\": {\"11\": 122, \"15\": 6, \"10\": 4, \"16\": 2, \"23\": 1, \"55\": 1}, \"7\": {\"7\": 24, \"54\": 1, \"38\": 2, \"43\": 1}, \"23\": {\"23\": 130, \"28\": 1, \"10\": 1, \"34\": 2, \"54\": 1, \"24\": 1}, \"44\": {\"44\": 55, \"40\": 8, \"56\": 18, \"3\": 5, \"5\": 6, \"45\": 11, \"46\": 6, \"29\": 4, \"22\": 1, \"0\": 4, \"4\": 3, \"20\": 1, \"50\": 2, \"57\": 3, \"27\": 2, \"6\": 1, \"12\": 1, \"47\": 1}, \"42\": {\"42\": 40}, \"54\": {\"54\": 103, \"55\": 1}, \"1\": {\"1\": 91, \"40\": 2, \"57\": 2, \"29\": 1, \"4\": 1, \"32\": 2, \"44\": 1}, \"46\": {\"46\": 58, \"44\": 6, \"40\": 8, \"5\": 17, \"1\": 2, \"20\": 4, \"12\": 2, \"45\": 14, \"56\": 4, \"29\": 1, \"4\": 2, \"6\": 3, \"47\": 1, \"50\": 4, \"27\": 1, \"30\": 1}, \"6\": {\"6\": 47, \"1\": 2, \"50\": 12, \"45\": 8, \"47\": 1, \"5\": 8, \"46\": 2, \"3\": 2, \"29\": 1, \"57\": 1, \"40\": 5, \"56\": 3, \"30\": 2, \"44\": 2}, \"43\": {\"43\": 143, \"47\": 1}, \"51\": {\"51\": 138, \"55\": 3, \"29\": 1}, \"22\": {\"22\": 114, \"0\": 2, \"52\": 16, \"21\": 2, \"27\": 1, \"56\": 1}, \"0\": {\"0\": 128}}, \"C_4\": {\"32\": {\"32\": 24}, \"2\": {\"52\": 3, \"2\": 32, \"38\": 1}, \"41\": {\"41\": 31, \"55\": 1, \"36\": 2, \"49\": 2}, \"11\": {\"11\": 76, \"46\": 1, \"16\": 1, \"32\": 1, \"24\": 4, \"15\": 15, \"51\": 1, \"21\": 1, \"10\": 1, \"43\": 1}, \"57\": {\"57\": 100}, \"6\": {\"6\": 98, \"3\": 8, \"44\": 1, \"5\": 3, \"52\": 2}, \"23\": {\"23\": 117, \"2\": 3, \"41\": 4, \"28\": 1, \"32\": 1, \"36\": 1, \"24\": 2, \"13\": 3, \"43\": 1, \"8\": 1, \"55\": 2}, \"52\": {\"52\": 116}, \"38\": {\"38\": 38, \"14\": 1, \"47\": 1}, \"50\": {\"50\": 75, \"6\": 13, \"3\": 12, \"44\": 1, \"30\": 1, \"5\": 12, \"46\": 3, \"40\": 3, \"12\": 4, \"20\": 1, \"56\": 1, \"21\": 4, \"45\": 2}, \"55\": {\"49\": 7, \"32\": 1, \"55\": 84, \"43\": 10, \"40\": 1, \"29\": 6, \"41\": 2, \"23\": 3, \"13\": 3, \"19\": 4, \"2\": 2, \"35\": 7, \"36\": 6, \"57\": 3, \"46\": 4, \"56\": 1, \"39\": 1, \"7\": 1, \"33\": 1, \"30\": 1, \"47\": 4}, \"46\": {\"46\": 73, \"22\": 23, \"45\": 1, \"50\": 1, \"44\": 5, \"5\": 14, \"0\": 9, \"52\": 3, \"48\": 1, \"3\": 9, \"40\": 7, \"6\": 2, \"56\": 3, \"27\": 1, \"4\": 1, \"47\": 1}, \"37\": {\"37\": 20, \"52\": 1, \"2\": 2, \"13\": 1}, \"20\": {\"6\": 1, \"20\": 111, \"12\": 4, \"52\": 1, \"47\": 1}, \"49\": {\"49\": 18, \"38\": 1, \"14\": 1}, \"45\": {\"45\": 60, \"21\": 1, \"3\": 2, \"44\": 12, \"12\": 4, \"46\": 2, \"50\": 6, \"13\": 1, \"6\": 4, \"5\": 1, \"30\": 1, \"7\": 1, \"20\": 1}, \"54\": {\"54\": 84, \"24\": 6, \"37\": 1, \"13\": 4, \"2\": 1, \"36\": 2, \"43\": 2, \"23\": 1, \"31\": 1, \"41\": 2, \"51\": 1, \"10\": 1, \"46\": 1, \"16\": 1}, \"3\": {\"3\": 103, \"50\": 4, \"6\": 15, \"5\": 2}, \"13\": {\"13\": 135, \"39\": 2, \"52\": 4, \"2\": 1, \"56\": 3, \"29\": 1, \"0\": 3, \"40\": 2, \"22\": 1}, \"18\": {\"18\": 86, \"25\": 8, \"16\": 3, \"54\": 3, \"53\": 2, \"56\": 1, \"15\": 1, \"34\": 1, \"28\": 1, \"31\": 1, \"10\": 1}, \"21\": {\"21\": 115, \"51\": 1, \"45\": 1, \"20\": 2, \"50\": 2, \"54\": 1, \"12\": 1, \"4\": 1, \"8\": 2}, \"43\": {\"43\": 144}, \"47\": {\"47\": 118, \"1\": 2}, \"4\": {\"4\": 112, \"51\": 2, \"9\": 8, \"20\": 2, \"23\": 1, \"40\": 1, \"44\": 2, \"48\": 2, \"45\": 2}, \"12\": {\"12\": 87, \"30\": 4, \"50\": 1}, \"9\": {\"9\": 103, \"4\": 5, \"27\": 3, \"47\": 1, \"48\": 11, \"20\": 2, \"30\": 1, \"50\": 1, \"8\": 1}, \"7\": {\"7\": 11, \"49\": 1, \"45\": 1, \"48\": 1, \"14\": 1, \"33\": 1, \"26\": 3, \"53\": 1, \"55\": 3, \"32\": 1}, \"56\": {\"3\": 2, \"1\": 2, \"56\": 64, \"55\": 2, \"29\": 2, \"47\": 7, \"5\": 4, \"22\": 6, \"6\": 2, \"9\": 1, \"13\": 1, \"46\": 5, \"40\": 10, \"44\": 3, \"57\": 1}, \"28\": {\"28\": 20, \"23\": 3, \"33\": 1, \"19\": 1, \"34\": 1, \"31\": 2, \"42\": 2, \"54\": 1, \"24\": 1}, \"44\": {\"45\": 9, \"3\": 4, \"44\": 84, \"56\": 2, \"50\": 2, \"6\": 3, \"40\": 11, \"48\": 4, \"46\": 2, \"47\": 3, \"57\": 2, \"4\": 3, \"20\": 1, \"5\": 2}, \"24\": {\"11\": 1, \"38\": 1, \"43\": 11, \"24\": 34, \"13\": 3, \"10\": 1, \"37\": 3, \"15\": 1, \"2\": 1}, \"33\": {\"33\": 36}, \"35\": {\"55\": 1, \"35\": 39}, \"51\": {\"36\": 5, \"20\": 9, \"51\": 98, \"39\": 1, \"21\": 5, \"46\": 1, \"24\": 1, \"29\": 1, \"40\": 2, \"8\": 7, \"13\": 4, \"54\": 2, \"16\": 1, \"56\": 1}, \"39\": {\"39\": 8, \"13\": 1, \"14\": 1, \"48\": 1, \"0\": 1, \"1\": 2, \"52\": 2, \"36\": 2, \"57\": 2}, \"36\": {\"36\": 84, \"53\": 1, \"8\": 4, \"57\": 1, \"46\": 1, \"33\": 1}, \"19\": {\"19\": 118, \"29\": 3, \"4\": 5, \"55\": 5, \"35\": 1, \"27\": 3, \"7\": 1, \"56\": 1, \"17\": 2, \"9\": 1}, \"0\": {\"3\": 1, \"44\": 1, \"0\": 72, \"56\": 2, \"2\": 1, \"7\": 1, \"22\": 2}, \"15\": {\"15\": 128, \"41\": 1, \"37\": 1, \"10\": 1, \"16\": 2, \"11\": 2, \"36\": 1}, \"29\": {\"29\": 102, \"57\": 5, \"47\": 4, \"9\": 2, \"40\": 2, \"4\": 2, \"44\": 1, \"56\": 1, \"52\": 1, \"48\": 3, \"45\": 1}, \"30\": {\"30\": 41, \"44\": 1, \"21\": 2}, \"1\": {\"1\": 40}, \"22\": {\"22\": 93, \"3\": 3, \"0\": 7, \"46\": 8, \"56\": 1, \"5\": 7, \"6\": 4, \"50\": 2, \"52\": 2, \"48\": 1}, \"40\": {\"56\": 4, \"40\": 83, \"4\": 3, \"20\": 2, \"29\": 4, \"1\": 5, \"46\": 6, \"47\": 4, \"13\": 1, \"44\": 9, \"45\": 2, \"5\": 4, \"48\": 8, \"6\": 2, \"9\": 1, \"27\": 2, \"33\": 1, \"57\": 3, \"0\": 1, \"3\": 1}, \"8\": {\"8\": 124, \"30\": 1, \"52\": 1, \"20\": 2}, \"53\": {\"53\": 132, \"37\": 2, \"40\": 1, \"36\": 1, \"25\": 1, \"51\": 1}, \"34\": {\"34\": 22, \"42\": 2}, \"10\": {\"10\": 117, \"24\": 1, \"44\": 1, \"15\": 3}, \"31\": {\"31\": 17, \"37\": 1, \"2\": 1, \"23\": 2, \"16\": 2, \"43\": 2, \"54\": 2, \"10\": 1}, \"17\": {\"17\": 74, \"33\": 4, \"51\": 1, \"23\": 1}, \"16\": {\"16\": 78, \"43\": 2, \"11\": 7, \"54\": 2, \"10\": 2, \"15\": 5}, \"42\": {\"42\": 32}, \"27\": {\"27\": 114, \"7\": 1, \"36\": 2, \"9\": 10, \"46\": 2, \"4\": 2, \"48\": 5, \"55\": 1, \"18\": 1, \"45\": 1, \"5\": 1, \"8\": 1, \"19\": 1}, \"14\": {\"39\": 2, \"0\": 2, \"14\": 6, \"38\": 1, \"29\": 1, \"13\": 2, \"2\": 1, \"46\": 1}, \"25\": {\"25\": 120, \"18\": 2}, \"48\": {\"29\": 2, \"52\": 3, \"48\": 107, \"5\": 1, \"17\": 1, \"56\": 2, \"45\": 2, \"47\": 4, \"40\": 3, \"4\": 2, \"57\": 2, \"44\": 2, \"9\": 1}, \"26\": {\"41\": 1, \"40\": 1, \"26\": 8, \"49\": 1, \"33\": 2, \"7\": 1, \"45\": 1, \"42\": 4, \"28\": 2, \"29\": 1, \"19\": 2}, \"5\": {\"5\": 83, \"6\": 4, \"47\": 1, \"44\": 3, \"56\": 2, \"46\": 3, \"22\": 3, \"3\": 7, \"52\": 2}}, \"C_3\": {\"14\": {\"29\": 2, \"7\": 2, \"39\": 1, \"27\": 1, \"45\": 1, \"14\": 16, \"42\": 1, \"1\": 2, \"47\": 3, \"40\": 1, \"56\": 2, \"30\": 2, \"52\": 1, \"57\": 2, \"41\": 1, \"9\": 2}, \"18\": {\"18\": 67, \"25\": 8, \"16\": 5, \"53\": 2, \"54\": 1, \"13\": 1}, \"30\": {\"30\": 117, \"12\": 2, \"16\": 1}, \"16\": {\"16\": 87, \"2\": 1, \"13\": 1, \"10\": 9, \"43\": 1, \"11\": 13, \"15\": 26, \"54\": 4, \"50\": 1, \"24\": 4, \"23\": 1, \"53\": 3, \"18\": 2, \"25\": 3}, \"1\": {\"1\": 82, \"9\": 3, \"29\": 3, \"0\": 1, \"44\": 1, \"56\": 1, \"57\": 6, \"47\": 2, \"40\": 1}, \"20\": {\"20\": 125, \"52\": 4, \"30\": 2, \"8\": 1}, \"7\": {\"7\": 34, \"14\": 1, \"0\": 1}, \"52\": {\"52\": 126, \"0\": 1, \"30\": 1, \"57\": 1, \"48\": 1}, \"9\": {\"9\": 112, \"52\": 1, \"21\": 1, \"40\": 2, \"1\": 1, \"48\": 1, \"27\": 4, \"22\": 1, \"46\": 1, \"57\": 4, \"4\": 3, \"29\": 4, \"2\": 1, \"32\": 2, \"44\": 1, \"20\": 1}, \"23\": {\"23\": 127, \"26\": 1, \"24\": 2, \"17\": 1, \"49\": 1, \"43\": 3, \"57\": 2, \"42\": 2, \"54\": 1, \"55\": 2, \"36\": 1, \"16\": 1}, \"55\": {\"55\": 104, \"14\": 5, \"42\": 1, \"7\": 4, \"31\": 3, \"39\": 1, \"44\": 1, \"26\": 2, \"35\": 3, \"49\": 2, \"57\": 10, \"43\": 4, \"47\": 6, \"48\": 2, \"29\": 3, \"23\": 4, \"36\": 1, \"34\": 1, \"40\": 3, \"1\": 3, \"3\": 1}, \"29\": {\"29\": 117, \"4\": 1, \"40\": 1, \"48\": 1, \"57\": 4, \"9\": 1, \"56\": 1}, \"56\": {\"56\": 75, \"47\": 13, \"1\": 5, \"3\": 4, \"41\": 2, \"44\": 3, \"46\": 2, \"0\": 7, \"22\": 12, \"50\": 4, \"40\": 2, \"52\": 1, \"48\": 2, \"55\": 1, \"5\": 1}, \"3\": {\"6\": 11, \"3\": 72, \"45\": 1, \"46\": 10, \"5\": 12, \"21\": 6, \"50\": 6, \"52\": 1, \"1\": 1, \"22\": 1, \"12\": 2, \"56\": 1}, \"42\": {\"42\": 26, \"55\": 2}, \"6\": {\"6\": 52, \"40\": 3, \"46\": 2, \"4\": 1, \"44\": 1, \"12\": 2, \"5\": 10, \"55\": 1, \"50\": 4, \"3\": 5, \"21\": 1, \"45\": 3, \"56\": 1, \"0\": 2}, \"5\": {\"5\": 111, \"21\": 1, \"3\": 1, \"6\": 1, \"46\": 1, \"50\": 1}, \"27\": {\"4\": 2, \"27\": 125, \"9\": 5, \"55\": 1, \"56\": 2, \"48\": 1, \"29\": 4, \"45\": 1, \"57\": 3}, \"47\": {\"47\": 75, \"0\": 4, \"48\": 5, \"44\": 1, \"1\": 2, \"13\": 1, \"41\": 2, \"56\": 1, \"40\": 1}, \"39\": {\"39\": 7, \"27\": 1, \"14\": 2, \"5\": 1, \"41\": 2, \"50\": 1, \"0\": 2}, \"34\": {\"34\": 30, \"23\": 2}, \"4\": {\"4\": 84, \"40\": 5, \"9\": 15, \"5\": 1, \"32\": 1, \"29\": 5, \"1\": 2, \"50\": 1, \"22\": 3, \"57\": 2, \"55\": 1, \"56\": 1, \"3\": 2, \"27\": 1, \"47\": 2}, \"24\": {\"24\": 81, \"10\": 6, \"43\": 7, \"11\": 1, \"13\": 4, \"55\": 2, \"37\": 2, \"15\": 1}, \"46\": {\"46\": 63, \"50\": 10, \"5\": 6, \"21\": 12, \"3\": 16, \"56\": 2, \"6\": 3, \"22\": 2, \"39\": 2, \"30\": 2}, \"50\": {\"5\": 7, \"50\": 54, \"12\": 11, \"3\": 14, \"46\": 6, \"6\": 6, \"45\": 1, \"56\": 6, \"30\": 7, \"21\": 8, \"27\": 1, \"9\": 1, \"52\": 1, \"40\": 2, \"19\": 1}, \"38\": {\"38\": 25, \"17\": 1, \"51\": 1, \"5\": 1}, \"54\": {\"2\": 1, \"54\": 76, \"33\": 1, \"24\": 5, \"55\": 3, \"8\": 1, \"23\": 5, \"13\": 1, \"36\": 1, \"37\": 1, \"7\": 2, \"20\": 1, \"17\": 1, \"43\": 1}, \"35\": {\"35\": 28}, \"2\": {\"2\": 32}, \"41\": {\"41\": 28}, \"57\": {\"57\": 113, \"55\": 1, \"47\": 1, \"9\": 1, \"40\": 1, \"48\": 1}, \"25\": {\"25\": 147, \"18\": 3}, \"48\": {\"48\": 93, \"0\": 2, \"57\": 5, \"47\": 7, \"55\": 1, \"52\": 2, \"29\": 3, \"22\": 1, \"46\": 1, \"45\": 1}, \"33\": {\"52\": 2, \"33\": 16, \"2\": 1, \"47\": 2, \"27\": 2, \"48\": 3, \"30\": 1, \"41\": 1}, \"45\": {\"52\": 2, \"6\": 4, \"55\": 1, \"40\": 3, \"45\": 25, \"21\": 3, \"5\": 5, \"3\": 1, \"44\": 1, \"12\": 3, \"30\": 5, \"4\": 1, \"50\": 1, \"1\": 2, \"48\": 1, \"0\": 1, \"22\": 1}, \"13\": {\"13\": 107, \"45\": 1, \"52\": 1, \"56\": 3, \"46\": 2, \"24\": 1, \"22\": 1, \"14\": 1, \"43\": 5, \"20\": 2, \"4\": 1, \"55\": 1}, \"36\": {\"36\": 98, \"29\": 1, \"27\": 1}, \"43\": {\"43\": 132}, \"28\": {\"28\": 25, \"55\": 1, \"24\": 1, \"26\": 1}, \"0\": {\"0\": 124}, \"12\": {\"12\": 90, \"3\": 1, \"45\": 1}, \"31\": {\"31\": 28}, \"40\": {\"40\": 60, \"48\": 6, \"55\": 3, \"29\": 8, \"45\": 3, \"50\": 1, \"22\": 2, \"4\": 6, \"57\": 2, \"19\": 1, \"56\": 4, \"5\": 4, \"47\": 2, \"44\": 5, \"14\": 1, \"27\": 1, \"1\": 1, \"9\": 6}, \"44\": {\"44\": 52, \"45\": 3, \"50\": 2, \"3\": 4, \"22\": 8, \"56\": 1, \"1\": 1, \"55\": 1, \"6\": 1, \"48\": 1, \"5\": 4, \"0\": 2, \"40\": 5, \"47\": 2, \"12\": 1}, \"32\": {\"32\": 28}, \"26\": {\"26\": 21, \"31\": 1, \"34\": 2}, \"8\": {\"8\": 108, \"20\": 4, \"30\": 2, \"21\": 2}, \"10\": {\"10\": 63, \"11\": 1}, \"15\": {\"15\": 133, \"44\": 1, \"22\": 1, \"43\": 1, \"26\": 2, \"10\": 1, \"23\": 2, \"11\": 1}, \"21\": {\"5\": 4, \"21\": 106, \"44\": 1, \"45\": 1, \"50\": 6, \"48\": 1, \"3\": 4, \"56\": 1, \"6\": 1, \"52\": 1, \"46\": 2}, \"37\": {\"37\": 28}, \"17\": {\"17\": 99, \"27\": 6, \"42\": 1, \"23\": 2}, \"51\": {\"51\": 117, \"40\": 1, \"54\": 3, \"50\": 1, \"20\": 2}, \"53\": {\"53\": 144}, \"19\": {\"19\": 112, \"34\": 4, \"44\": 1, \"23\": 4, \"46\": 1, \"29\": 3, \"43\": 1, \"22\": 1, \"27\": 1, \"4\": 1, \"50\": 1, \"45\": 1, \"15\": 1, \"17\": 2, \"40\": 1, \"57\": 1}, \"49\": {\"49\": 18, \"42\": 1, \"55\": 1}, \"11\": {\"11\": 122, \"16\": 5, \"10\": 3, \"15\": 8}, \"22\": {\"22\": 76, \"0\": 8, \"45\": 1, \"5\": 5, \"56\": 22, \"47\": 3, \"1\": 2, \"46\": 1, \"27\": 1, \"3\": 4, \"55\": 2, \"40\": 1, \"52\": 2, \"50\": 2}}}, \"per_domain_accuracy\": {\"O_8\": {\"accuracy\": 0.8825520833333333, \"source?\": true}, \"O_38\": {\"accuracy\": 0.9130208333333333, \"source?\": true}, \"O_26\": {\"accuracy\": 0.83984375, \"source?\": true}, \"O_20\": {\"accuracy\": 0.9, \"source?\": true}, \"O_50\": {\"accuracy\": 0.9416666666666667, \"source?\": true}, \"O_32\": {\"accuracy\": 0.9, \"source?\": true}, \"O_44\": {\"accuracy\": 0.8729166666666667, \"source?\": true}, \"O_14\": {\"accuracy\": 0.8815104166666666, \"source?\": true}, \"C_2\": {\"accuracy\": 0.8203125, \"source?\": false}, \"C_5\": {\"accuracy\": 0.8112710674157303, \"source?\": false}, \"C_1\": {\"accuracy\": 0.8447802197802198, \"source?\": false}, \"C_4\": {\"accuracy\": 0.8138098802395209, \"source?\": false}, \"C_3\": {\"accuracy\": 0.8119517543859649, \"source?\": false}}}, \"history\": {\"epoch_indices\": [1, 2, 3, 4, 5, 6, 7], \"train_label_loss\": [0.46888056921584176, 1.4635265770171482, 0.350799651211682, 0.3035815810057102, 0.4642070317542502, 0.2307733109456465, 0.23412535839098772], \"source_val_label_loss\": [172.3830108642578, 0.40701353549957275, 0.32227495312690735, 0.2736915349960327, 0.23604081571102142, 0.25425800681114197, 0.23038090765476227], \"target_val_label_loss\": [8131.86474609375, 5504.59521484375, 211.59681701660156, 284.8417663574219, 111.31376647949219, 114.41300201416016, 136.08572387695312], \"source_val_acc_label\": [0.58193359375, 0.869140625, 0.8914388020833334, 0.9095052083333334, 0.91875, 0.9109049479166667, 0.9179361979166667], \"target_val_acc_label\": [0.6085168764302059, 0.3252645881006865, 0.8206879290617849, 0.8188644164759725, 0.7274385011441648, 0.7505363272311213, 0.7279390732265446]}, \"dataset_metrics\": {\"source\": {\"train\": {\"n_unique_x\": 179200, \"n_unique_y\": 16, \"n_batch/episode\": 6720}, \"val\": {\"n_unique_x\": 38400, \"n_unique_y\": 16, \"n_batch/episode\": 960}, \"test\": {\"n_unique_x\": 38400, \"n_unique_y\": 16, \"n_batch/episode\": 960}}, \"target\": {\"train\": {\"n_unique_x\": 175127, \"n_unique_y\": 58, \"n_batch/episode\": 6303}, \"val\": {\"n_unique_x\": 37135, \"n_unique_y\": 58, \"n_batch/episode\": 874}, \"test\": {\"n_unique_x\": 37673, \"n_unique_y\": 58, \"n_batch/episode\": 893}}}}'"
      ]
     },
     "execution_count": 29,
     "metadata": {},
     "output_type": "execute_result"
    }
   ],
   "source": [
    "json.dumps(experiment)"
   ]
  }
 ],
 "metadata": {
  "celltoolbar": "Tags",
  "kernelspec": {
   "display_name": "Python 3 (ipykernel)",
   "language": "python",
   "name": "python3"
  },
  "language_info": {
   "codemirror_mode": {
    "name": "ipython",
    "version": 3
   },
   "file_extension": ".py",
   "mimetype": "text/x-python",
   "name": "python",
   "nbconvert_exporter": "python",
   "pygments_lexer": "ipython3",
   "version": "3.8.10"
  },
  "papermill": {
   "default_parameters": {},
   "duration": 1265.154265,
   "end_time": "2022-03-25T11:50:04.950505",
   "environment_variables": {},
   "exception": null,
   "input_path": "/mnt/wd500GB/CSC500/csc500-main/csc500-notebooks/templates/tl_ptn_template.ipynb",
   "output_path": "trial.ipynb",
   "parameters": {
    "parameters": {
     "BEST_MODEL_PATH": "./best_model.pth",
     "NUM_LOGS_PER_EPOCH": 10,
     "criteria_for_best": "target_accuracy",
     "dataset_seed": 154325,
     "datasets": [
      {
       "domain_prefix": "C_",
       "domains": [
        1,
        2,
        3,
        4,
        5
       ],
       "episode_transforms": [],
       "labels": [
        "1-10.",
        "1-11.",
        "1-15.",
        "1-16.",
        "1-17.",
        "1-18.",
        "1-19.",
        "10-4.",
        "10-7.",
        "11-1.",
        "11-14.",
        "11-17.",
        "11-20.",
        "11-7.",
        "13-20.",
        "13-8.",
        "14-10.",
        "14-11.",
        "14-14.",
        "14-7.",
        "15-1.",
        "15-20.",
        "16-1.",
        "16-16.",
        "17-10.",
        "17-11.",
        "17-2.",
        "19-1.",
        "19-16.",
        "19-19.",
        "19-20.",
        "19-3.",
        "2-10.",
        "2-11.",
        "2-17.",
        "2-18.",
        "2-20.",
        "2-3.",
        "2-4.",
        "2-5.",
        "2-6.",
        "2-7.",
        "2-8.",
        "3-13.",
        "3-18.",
        "3-3.",
        "4-1.",
        "4-10.",
        "4-11.",
        "4-19.",
        "5-5.",
        "6-15.",
        "7-10.",
        "7-14.",
        "8-18.",
        "8-20.",
        "8-3.",
        "8-8."
       ],
       "num_examples_per_domain_per_label": -1,
       "pickle_path": "/mnt/wd500GB/CSC500/csc500-main/datasets/cores.stratified_ds.2022A.pkl",
       "source_or_target_dataset": "target",
       "x_transforms": [
        "take_200"
       ]
      },
      {
       "domain_prefix": "O_",
       "domains": [
        32,
        38,
        8,
        44,
        14,
        50,
        20,
        26
       ],
       "episode_transforms": [],
       "labels": [
        "3123D52",
        "3123D65",
        "3123D79",
        "3123D80",
        "3123D54",
        "3123D70",
        "3123D7B",
        "3123D89",
        "3123D58",
        "3123D76",
        "3123D7D",
        "3123EFE",
        "3123D64",
        "3123D78",
        "3123D7E",
        "3124E4A"
       ],
       "num_examples_per_domain_per_label": 2000,
       "pickle_path": "/mnt/wd500GB/CSC500/csc500-main/datasets/oracle.Run1_framed_2000Examples_stratified_ds.2022A.pkl",
       "source_or_target_dataset": "source",
       "x_transforms": [
        "take_200",
        "resample_20Msps_to_25Msps"
       ]
      }
     ],
     "device": "cuda",
     "experiment_name": "tl_3Av2:oracle.run1.framed -> cores",
     "lr": 0.0001,
     "n_epoch": 50,
     "n_query": 2,
     "n_shot": 3,
     "n_way": 16,
     "patience": 3,
     "seed": 154325,
     "test_k_factor": 2,
     "torch_default_dtype": "torch.float32",
     "train_k_factor": 3,
     "val_k_factor": 2,
     "x_net": [
      {
       "class": "nnReshape",
       "kargs": {
        "shape": [
         -1,
         1,
         2,
         200
        ]
       }
      },
      {
       "class": "Conv2d",
       "kargs": {
        "bias": false,
        "in_channels": 1,
        "kernel_size": [
         1,
         7
        ],
        "out_channels": 256,
        "padding": [
         0,
         3
        ]
       }
      },
      {
       "class": "ReLU",
       "kargs": {
        "inplace": true
       }
      },
      {
       "class": "BatchNorm2d",
       "kargs": {
        "num_features": 256
       }
      },
      {
       "class": "Conv2d",
       "kargs": {
        "bias": true,
        "in_channels": 256,
        "kernel_size": [
         2,
         7
        ],
        "out_channels": 80,
        "padding": [
         0,
         3
        ]
       }
      },
      {
       "class": "ReLU",
       "kargs": {
        "inplace": true
       }
      },
      {
       "class": "BatchNorm2d",
       "kargs": {
        "num_features": 80
       }
      },
      {
       "class": "Flatten",
       "kargs": {}
      },
      {
       "class": "Linear",
       "kargs": {
        "in_features": 16000,
        "out_features": 256
       }
      },
      {
       "class": "ReLU",
       "kargs": {
        "inplace": true
       }
      },
      {
       "class": "BatchNorm1d",
       "kargs": {
        "num_features": 256
       }
      },
      {
       "class": "Linear",
       "kargs": {
        "in_features": 256,
        "out_features": 256
       }
      }
     ],
     "x_shape": [
      2,
      200
     ]
    }
   },
   "start_time": "2022-03-25T11:28:59.796240",
   "version": "2.3.4"
  }
 },
 "nbformat": 4,
 "nbformat_minor": 5
}