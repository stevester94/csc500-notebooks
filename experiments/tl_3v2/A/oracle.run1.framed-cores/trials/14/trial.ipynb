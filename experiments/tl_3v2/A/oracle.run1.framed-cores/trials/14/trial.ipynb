{
 "cells": [
  {
   "cell_type": "markdown",
   "id": "9fea5f46",
   "metadata": {
    "papermill": {
     "duration": 0.018279,
     "end_time": "2022-03-25T14:12:45.978840",
     "exception": false,
     "start_time": "2022-03-25T14:12:45.960561",
     "status": "completed"
    },
    "tags": []
   },
   "source": [
    "# Transfer Learning Template"
   ]
  },
  {
   "cell_type": "code",
   "execution_count": 1,
   "id": "0902182a",
   "metadata": {
    "execution": {
     "iopub.execute_input": "2022-03-25T14:12:46.014501Z",
     "iopub.status.busy": "2022-03-25T14:12:46.014210Z",
     "iopub.status.idle": "2022-03-25T14:12:46.953454Z",
     "shell.execute_reply": "2022-03-25T14:12:46.953152Z"
    },
    "papermill": {
     "duration": 0.961774,
     "end_time": "2022-03-25T14:12:46.953525",
     "exception": false,
     "start_time": "2022-03-25T14:12:45.991751",
     "status": "completed"
    },
    "tags": []
   },
   "outputs": [],
   "source": [
    "%load_ext autoreload\n",
    "%autoreload 2\n",
    "%matplotlib inline\n",
    "\n",
    "    \n",
    "import os, json, sys, time, random\n",
    "import numpy as np\n",
    "import torch\n",
    "from torch.optim import Adam\n",
    "from  easydict import EasyDict\n",
    "import matplotlib.pyplot as plt\n",
    "\n",
    "from steves_models.steves_ptn import Steves_Prototypical_Network\n",
    "\n",
    "from steves_utils.lazy_iterable_wrapper import Lazy_Iterable_Wrapper\n",
    "from steves_utils.iterable_aggregator import Iterable_Aggregator\n",
    "from steves_utils.ptn_train_eval_test_jig import  PTN_Train_Eval_Test_Jig\n",
    "from steves_utils.torch_sequential_builder import build_sequential\n",
    "from steves_utils.torch_utils import get_dataset_metrics, ptn_confusion_by_domain_over_dataloader\n",
    "from steves_utils.utils_v2 import (per_domain_accuracy_from_confusion, get_datasets_base_path)\n",
    "from steves_utils.PTN.utils import independent_accuracy_assesment\n",
    "\n",
    "from torch.utils.data import DataLoader\n",
    "\n",
    "from steves_utils.stratified_dataset.episodic_accessor import Episodic_Accessor_Factory\n",
    "\n",
    "from steves_utils.ptn_do_report import (\n",
    "    get_loss_curve,\n",
    "    get_results_table,\n",
    "    get_parameters_table,\n",
    "    get_domain_accuracies,\n",
    ")\n",
    "\n",
    "from steves_utils.transforms import get_chained_transform"
   ]
  },
  {
   "cell_type": "markdown",
   "id": "41c840b4",
   "metadata": {
    "papermill": {
     "duration": 0.012463,
     "end_time": "2022-03-25T14:12:46.982974",
     "exception": false,
     "start_time": "2022-03-25T14:12:46.970511",
     "status": "completed"
    },
    "tags": []
   },
   "source": [
    "# Allowed Parameters\n",
    "These are allowed parameters, not defaults\n",
    "Each of these values need to be present in the injected parameters (the notebook will raise an exception if they are not present)\n",
    "\n",
    "Papermill uses the cell tag \"parameters\" to inject the real parameters below this cell.\n",
    "Enable tags to see what I mean"
   ]
  },
  {
   "cell_type": "code",
   "execution_count": 2,
   "id": "fd44eb83",
   "metadata": {
    "execution": {
     "iopub.execute_input": "2022-03-25T14:12:47.010936Z",
     "iopub.status.busy": "2022-03-25T14:12:47.009637Z",
     "iopub.status.idle": "2022-03-25T14:12:47.025173Z",
     "shell.execute_reply": "2022-03-25T14:12:47.025384Z"
    },
    "papermill": {
     "duration": 0.029907,
     "end_time": "2022-03-25T14:12:47.025456",
     "exception": false,
     "start_time": "2022-03-25T14:12:46.995549",
     "status": "completed"
    },
    "tags": []
   },
   "outputs": [],
   "source": [
    "required_parameters = {\n",
    "    \"experiment_name\",\n",
    "    \"lr\",\n",
    "    \"device\",\n",
    "    \"seed\",\n",
    "    \"dataset_seed\",\n",
    "    \"n_shot\",\n",
    "    \"n_query\",\n",
    "    \"n_way\",\n",
    "    \"train_k_factor\",\n",
    "    \"val_k_factor\",\n",
    "    \"test_k_factor\",\n",
    "    \"n_epoch\",\n",
    "    \"patience\",\n",
    "    \"criteria_for_best\",\n",
    "    \"x_net\",\n",
    "    \"datasets\",\n",
    "    \"torch_default_dtype\",\n",
    "    \"NUM_LOGS_PER_EPOCH\",\n",
    "    \"BEST_MODEL_PATH\",\n",
    "    \"x_shape\",\n",
    "}"
   ]
  },
  {
   "cell_type": "code",
   "execution_count": 3,
   "id": "fa3f0049",
   "metadata": {
    "execution": {
     "iopub.execute_input": "2022-03-25T14:12:47.059676Z",
     "iopub.status.busy": "2022-03-25T14:12:47.059116Z",
     "iopub.status.idle": "2022-03-25T14:12:47.072813Z",
     "shell.execute_reply": "2022-03-25T14:12:47.073205Z"
    },
    "papermill": {
     "duration": 0.035136,
     "end_time": "2022-03-25T14:12:47.073336",
     "exception": false,
     "start_time": "2022-03-25T14:12:47.038200",
     "status": "completed"
    },
    "tags": [
     "parameters"
    ]
   },
   "outputs": [],
   "source": [
    "from steves_utils.CORES.utils import (\n",
    "    ALL_NODES,\n",
    "    ALL_NODES_MINIMUM_1000_EXAMPLES,\n",
    "    ALL_DAYS\n",
    ")\n",
    "\n",
    "from steves_utils.ORACLE.utils_v2 import (\n",
    "    ALL_DISTANCES_FEET_NARROWED,\n",
    "    ALL_RUNS,\n",
    "    ALL_SERIAL_NUMBERS,\n",
    ")\n",
    "\n",
    "standalone_parameters = {}\n",
    "standalone_parameters[\"experiment_name\"] = \"STANDALONE PTN\"\n",
    "standalone_parameters[\"lr\"] = 0.001\n",
    "standalone_parameters[\"device\"] = \"cuda\"\n",
    "\n",
    "standalone_parameters[\"seed\"] = 1337\n",
    "standalone_parameters[\"dataset_seed\"] = 1337\n",
    "\n",
    "standalone_parameters[\"n_way\"] = 8\n",
    "standalone_parameters[\"n_shot\"] = 3\n",
    "standalone_parameters[\"n_query\"]  = 2\n",
    "standalone_parameters[\"train_k_factor\"] = 1\n",
    "standalone_parameters[\"val_k_factor\"] = 2\n",
    "standalone_parameters[\"test_k_factor\"] = 2\n",
    "\n",
    "\n",
    "standalone_parameters[\"n_epoch\"] = 50\n",
    "\n",
    "standalone_parameters[\"patience\"] = 10\n",
    "standalone_parameters[\"criteria_for_best\"] = \"source_loss\"\n",
    "\n",
    "standalone_parameters[\"datasets\"] = [\n",
    "    {\n",
    "        \"labels\": ALL_SERIAL_NUMBERS,\n",
    "        \"domains\": ALL_DISTANCES_FEET_NARROWED,\n",
    "        \"num_examples_per_domain_per_label\": 100,\n",
    "        \"pickle_path\": os.path.join(get_datasets_base_path(), \"oracle.Run1_framed_2000Examples_stratified_ds.2022A.pkl\"),\n",
    "        \"source_or_target_dataset\": \"source\",\n",
    "        \"x_transforms\": [\"unit_mag\", \"minus_two\"],\n",
    "        \"episode_transforms\": [],\n",
    "        \"domain_prefix\": \"ORACLE_\"\n",
    "    },\n",
    "    {\n",
    "        \"labels\": ALL_NODES,\n",
    "        \"domains\": ALL_DAYS,\n",
    "        \"num_examples_per_domain_per_label\": 100,\n",
    "        \"pickle_path\": os.path.join(get_datasets_base_path(), \"cores.stratified_ds.2022A.pkl\"),\n",
    "        \"source_or_target_dataset\": \"target\",\n",
    "        \"x_transforms\": [\"unit_power\", \"times_zero\"],\n",
    "        \"episode_transforms\": [],\n",
    "        \"domain_prefix\": \"CORES_\"\n",
    "    }   \n",
    "]\n",
    "\n",
    "standalone_parameters[\"torch_default_dtype\"] = \"torch.float32\" \n",
    "\n",
    "\n",
    "\n",
    "standalone_parameters[\"x_net\"] =     [\n",
    "    {\"class\": \"nnReshape\", \"kargs\": {\"shape\":[-1, 1, 2, 256]}},\n",
    "    {\"class\": \"Conv2d\", \"kargs\": { \"in_channels\":1, \"out_channels\":256, \"kernel_size\":(1,7), \"bias\":False, \"padding\":(0,3), },},\n",
    "    {\"class\": \"ReLU\", \"kargs\": {\"inplace\": True}},\n",
    "    {\"class\": \"BatchNorm2d\", \"kargs\": {\"num_features\":256}},\n",
    "\n",
    "    {\"class\": \"Conv2d\", \"kargs\": { \"in_channels\":256, \"out_channels\":80, \"kernel_size\":(2,7), \"bias\":True, \"padding\":(0,3), },},\n",
    "    {\"class\": \"ReLU\", \"kargs\": {\"inplace\": True}},\n",
    "    {\"class\": \"BatchNorm2d\", \"kargs\": {\"num_features\":80}},\n",
    "    {\"class\": \"Flatten\", \"kargs\": {}},\n",
    "\n",
    "    {\"class\": \"Linear\", \"kargs\": {\"in_features\": 80*256, \"out_features\": 256}}, # 80 units per IQ pair\n",
    "    {\"class\": \"ReLU\", \"kargs\": {\"inplace\": True}},\n",
    "    {\"class\": \"BatchNorm1d\", \"kargs\": {\"num_features\":256}},\n",
    "\n",
    "    {\"class\": \"Linear\", \"kargs\": {\"in_features\": 256, \"out_features\": 256}},\n",
    "]\n",
    "\n",
    "# Parameters relevant to results\n",
    "# These parameters will basically never need to change\n",
    "standalone_parameters[\"NUM_LOGS_PER_EPOCH\"] = 10\n",
    "standalone_parameters[\"BEST_MODEL_PATH\"] = \"./best_model.pth\"\n",
    "\n",
    "\n",
    "\n",
    "\n"
   ]
  },
  {
   "cell_type": "code",
   "execution_count": 4,
   "id": "b894c113",
   "metadata": {
    "execution": {
     "iopub.execute_input": "2022-03-25T14:12:47.111274Z",
     "iopub.status.busy": "2022-03-25T14:12:47.110708Z",
     "iopub.status.idle": "2022-03-25T14:12:47.123878Z",
     "shell.execute_reply": "2022-03-25T14:12:47.123420Z"
    },
    "papermill": {
     "duration": 0.035117,
     "end_time": "2022-03-25T14:12:47.123978",
     "exception": false,
     "start_time": "2022-03-25T14:12:47.088861",
     "status": "completed"
    },
    "tags": [
     "injected-parameters"
    ]
   },
   "outputs": [],
   "source": [
    "# Parameters\n",
    "parameters = {\n",
    "    \"experiment_name\": \"tl_3Av2:oracle.run1.framed -> cores\",\n",
    "    \"device\": \"cuda\",\n",
    "    \"lr\": 0.0001,\n",
    "    \"x_shape\": [2, 200],\n",
    "    \"n_shot\": 3,\n",
    "    \"n_query\": 2,\n",
    "    \"train_k_factor\": 3,\n",
    "    \"val_k_factor\": 2,\n",
    "    \"test_k_factor\": 2,\n",
    "    \"torch_default_dtype\": \"torch.float32\",\n",
    "    \"n_epoch\": 50,\n",
    "    \"patience\": 3,\n",
    "    \"criteria_for_best\": \"target_accuracy\",\n",
    "    \"x_net\": [\n",
    "        {\"class\": \"nnReshape\", \"kargs\": {\"shape\": [-1, 1, 2, 200]}},\n",
    "        {\n",
    "            \"class\": \"Conv2d\",\n",
    "            \"kargs\": {\n",
    "                \"in_channels\": 1,\n",
    "                \"out_channels\": 256,\n",
    "                \"kernel_size\": [1, 7],\n",
    "                \"bias\": False,\n",
    "                \"padding\": [0, 3],\n",
    "            },\n",
    "        },\n",
    "        {\"class\": \"ReLU\", \"kargs\": {\"inplace\": True}},\n",
    "        {\"class\": \"BatchNorm2d\", \"kargs\": {\"num_features\": 256}},\n",
    "        {\n",
    "            \"class\": \"Conv2d\",\n",
    "            \"kargs\": {\n",
    "                \"in_channels\": 256,\n",
    "                \"out_channels\": 80,\n",
    "                \"kernel_size\": [2, 7],\n",
    "                \"bias\": True,\n",
    "                \"padding\": [0, 3],\n",
    "            },\n",
    "        },\n",
    "        {\"class\": \"ReLU\", \"kargs\": {\"inplace\": True}},\n",
    "        {\"class\": \"BatchNorm2d\", \"kargs\": {\"num_features\": 80}},\n",
    "        {\"class\": \"Flatten\", \"kargs\": {}},\n",
    "        {\"class\": \"Linear\", \"kargs\": {\"in_features\": 16000, \"out_features\": 256}},\n",
    "        {\"class\": \"ReLU\", \"kargs\": {\"inplace\": True}},\n",
    "        {\"class\": \"BatchNorm1d\", \"kargs\": {\"num_features\": 256}},\n",
    "        {\"class\": \"Linear\", \"kargs\": {\"in_features\": 256, \"out_features\": 256}},\n",
    "    ],\n",
    "    \"NUM_LOGS_PER_EPOCH\": 10,\n",
    "    \"BEST_MODEL_PATH\": \"./best_model.pth\",\n",
    "    \"n_way\": 16,\n",
    "    \"datasets\": [\n",
    "        {\n",
    "            \"labels\": [\n",
    "                \"1-10.\",\n",
    "                \"1-11.\",\n",
    "                \"1-15.\",\n",
    "                \"1-16.\",\n",
    "                \"1-17.\",\n",
    "                \"1-18.\",\n",
    "                \"1-19.\",\n",
    "                \"10-4.\",\n",
    "                \"10-7.\",\n",
    "                \"11-1.\",\n",
    "                \"11-14.\",\n",
    "                \"11-17.\",\n",
    "                \"11-20.\",\n",
    "                \"11-7.\",\n",
    "                \"13-20.\",\n",
    "                \"13-8.\",\n",
    "                \"14-10.\",\n",
    "                \"14-11.\",\n",
    "                \"14-14.\",\n",
    "                \"14-7.\",\n",
    "                \"15-1.\",\n",
    "                \"15-20.\",\n",
    "                \"16-1.\",\n",
    "                \"16-16.\",\n",
    "                \"17-10.\",\n",
    "                \"17-11.\",\n",
    "                \"17-2.\",\n",
    "                \"19-1.\",\n",
    "                \"19-16.\",\n",
    "                \"19-19.\",\n",
    "                \"19-20.\",\n",
    "                \"19-3.\",\n",
    "                \"2-10.\",\n",
    "                \"2-11.\",\n",
    "                \"2-17.\",\n",
    "                \"2-18.\",\n",
    "                \"2-20.\",\n",
    "                \"2-3.\",\n",
    "                \"2-4.\",\n",
    "                \"2-5.\",\n",
    "                \"2-6.\",\n",
    "                \"2-7.\",\n",
    "                \"2-8.\",\n",
    "                \"3-13.\",\n",
    "                \"3-18.\",\n",
    "                \"3-3.\",\n",
    "                \"4-1.\",\n",
    "                \"4-10.\",\n",
    "                \"4-11.\",\n",
    "                \"4-19.\",\n",
    "                \"5-5.\",\n",
    "                \"6-15.\",\n",
    "                \"7-10.\",\n",
    "                \"7-14.\",\n",
    "                \"8-18.\",\n",
    "                \"8-20.\",\n",
    "                \"8-3.\",\n",
    "                \"8-8.\",\n",
    "            ],\n",
    "            \"domains\": [1, 2, 3, 4, 5],\n",
    "            \"num_examples_per_domain_per_label\": -1,\n",
    "            \"pickle_path\": \"/mnt/wd500GB/CSC500/csc500-main/datasets/cores.stratified_ds.2022A.pkl\",\n",
    "            \"source_or_target_dataset\": \"target\",\n",
    "            \"x_transforms\": [\"take_200\"],\n",
    "            \"episode_transforms\": [],\n",
    "            \"domain_prefix\": \"C_\",\n",
    "        },\n",
    "        {\n",
    "            \"labels\": [\n",
    "                \"3123D52\",\n",
    "                \"3123D65\",\n",
    "                \"3123D79\",\n",
    "                \"3123D80\",\n",
    "                \"3123D54\",\n",
    "                \"3123D70\",\n",
    "                \"3123D7B\",\n",
    "                \"3123D89\",\n",
    "                \"3123D58\",\n",
    "                \"3123D76\",\n",
    "                \"3123D7D\",\n",
    "                \"3123EFE\",\n",
    "                \"3123D64\",\n",
    "                \"3123D78\",\n",
    "                \"3123D7E\",\n",
    "                \"3124E4A\",\n",
    "            ],\n",
    "            \"domains\": [32, 38, 8, 44, 14, 50, 20, 26],\n",
    "            \"num_examples_per_domain_per_label\": 2000,\n",
    "            \"pickle_path\": \"/mnt/wd500GB/CSC500/csc500-main/datasets/oracle.Run1_framed_2000Examples_stratified_ds.2022A.pkl\",\n",
    "            \"source_or_target_dataset\": \"source\",\n",
    "            \"x_transforms\": [\"take_200\", \"resample_20Msps_to_25Msps\"],\n",
    "            \"episode_transforms\": [],\n",
    "            \"domain_prefix\": \"O_\",\n",
    "        },\n",
    "    ],\n",
    "    \"seed\": 500,\n",
    "    \"dataset_seed\": 500,\n",
    "}\n"
   ]
  },
  {
   "cell_type": "code",
   "execution_count": 5,
   "id": "8fa1cc33",
   "metadata": {
    "execution": {
     "iopub.execute_input": "2022-03-25T14:12:47.157703Z",
     "iopub.status.busy": "2022-03-25T14:12:47.157438Z",
     "iopub.status.idle": "2022-03-25T14:12:47.171834Z",
     "shell.execute_reply": "2022-03-25T14:12:47.172215Z"
    },
    "papermill": {
     "duration": 0.030572,
     "end_time": "2022-03-25T14:12:47.172340",
     "exception": false,
     "start_time": "2022-03-25T14:12:47.141768",
     "status": "completed"
    },
    "tags": []
   },
   "outputs": [],
   "source": [
    "# Set this to True if you want to run this template directly\n",
    "STANDALONE = False\n",
    "if STANDALONE:\n",
    "    print(\"parameters not injected, running with standalone_parameters\")\n",
    "    parameters = standalone_parameters\n",
    "\n",
    "if not 'parameters' in locals() and not 'parameters' in globals():\n",
    "    raise Exception(\"Parameter injection failed\")\n",
    "\n",
    "#Use an easy dict for all the parameters\n",
    "p = EasyDict(parameters)\n",
    "\n",
    "if \"x_shape\" not in p:\n",
    "    p.x_shape = [2,256] # Default to this if we dont supply x_shape\n",
    "\n",
    "\n",
    "supplied_keys = set(p.keys())\n",
    "\n",
    "if  supplied_keys != required_parameters:\n",
    "    print(\"Parameters are incorrect\")\n",
    "    if len(supplied_keys - required_parameters)>0: print(\"Shouldn't have:\", str(supplied_keys - required_parameters))\n",
    "    if len(required_parameters - supplied_keys)>0: print(\"Need to have:\", str(required_parameters - supplied_keys))\n",
    "    raise RuntimeError(\"Parameters are incorrect\")"
   ]
  },
  {
   "cell_type": "code",
   "execution_count": 6,
   "id": "3a028d58",
   "metadata": {
    "execution": {
     "iopub.execute_input": "2022-03-25T14:12:47.203674Z",
     "iopub.status.busy": "2022-03-25T14:12:47.203083Z",
     "iopub.status.idle": "2022-03-25T14:12:47.217709Z",
     "shell.execute_reply": "2022-03-25T14:12:47.217929Z"
    },
    "papermill": {
     "duration": 0.029933,
     "end_time": "2022-03-25T14:12:47.218019",
     "exception": false,
     "start_time": "2022-03-25T14:12:47.188086",
     "status": "completed"
    },
    "tags": []
   },
   "outputs": [],
   "source": [
    "###################################\n",
    "# Set the RNGs and make it all deterministic\n",
    "###################################\n",
    "np.random.seed(p.seed)\n",
    "random.seed(p.seed)\n",
    "torch.manual_seed(p.seed)\n",
    "\n",
    "torch.use_deterministic_algorithms(True) "
   ]
  },
  {
   "cell_type": "code",
   "execution_count": 7,
   "id": "b691acf6",
   "metadata": {
    "execution": {
     "iopub.execute_input": "2022-03-25T14:12:47.247436Z",
     "iopub.status.busy": "2022-03-25T14:12:47.247030Z",
     "iopub.status.idle": "2022-03-25T14:12:47.257736Z",
     "shell.execute_reply": "2022-03-25T14:12:47.257957Z"
    },
    "papermill": {
     "duration": 0.025599,
     "end_time": "2022-03-25T14:12:47.258050",
     "exception": false,
     "start_time": "2022-03-25T14:12:47.232451",
     "status": "completed"
    },
    "tags": []
   },
   "outputs": [],
   "source": [
    "###########################################\n",
    "# The stratified datasets honor this\n",
    "###########################################\n",
    "torch.set_default_dtype(eval(p.torch_default_dtype))"
   ]
  },
  {
   "cell_type": "code",
   "execution_count": 8,
   "id": "b5fba671",
   "metadata": {
    "execution": {
     "iopub.execute_input": "2022-03-25T14:12:47.287394Z",
     "iopub.status.busy": "2022-03-25T14:12:47.287001Z",
     "iopub.status.idle": "2022-03-25T14:12:47.320669Z",
     "shell.execute_reply": "2022-03-25T14:12:47.320893Z"
    },
    "papermill": {
     "duration": 0.048271,
     "end_time": "2022-03-25T14:12:47.320974",
     "exception": false,
     "start_time": "2022-03-25T14:12:47.272703",
     "status": "completed"
    },
    "tags": []
   },
   "outputs": [],
   "source": [
    "###################################\n",
    "# Build the network(s)\n",
    "# Note: It's critical to do this AFTER setting the RNG\n",
    "###################################\n",
    "x_net = build_sequential(p.x_net)"
   ]
  },
  {
   "cell_type": "code",
   "execution_count": 9,
   "id": "5d7e61cc",
   "metadata": {
    "execution": {
     "iopub.execute_input": "2022-03-25T14:12:47.349670Z",
     "iopub.status.busy": "2022-03-25T14:12:47.349279Z",
     "iopub.status.idle": "2022-03-25T14:12:47.360504Z",
     "shell.execute_reply": "2022-03-25T14:12:47.360723Z"
    },
    "papermill": {
     "duration": 0.026322,
     "end_time": "2022-03-25T14:12:47.360794",
     "exception": false,
     "start_time": "2022-03-25T14:12:47.334472",
     "status": "completed"
    },
    "tags": []
   },
   "outputs": [],
   "source": [
    "start_time_secs = time.time()"
   ]
  },
  {
   "cell_type": "code",
   "execution_count": 10,
   "id": "c6b67dfd",
   "metadata": {
    "execution": {
     "iopub.execute_input": "2022-03-25T14:12:47.389517Z",
     "iopub.status.busy": "2022-03-25T14:12:47.389116Z",
     "iopub.status.idle": "2022-03-25T14:12:47.400101Z",
     "shell.execute_reply": "2022-03-25T14:12:47.400325Z"
    },
    "papermill": {
     "duration": 0.026326,
     "end_time": "2022-03-25T14:12:47.400397",
     "exception": false,
     "start_time": "2022-03-25T14:12:47.374071",
     "status": "completed"
    },
    "tags": []
   },
   "outputs": [],
   "source": [
    "p.domains_source = []\n",
    "p.domains_target = []\n",
    "\n",
    "\n",
    "train_original_source = []\n",
    "val_original_source   = []\n",
    "test_original_source  = []\n",
    "\n",
    "train_original_target = []\n",
    "val_original_target   = []\n",
    "test_original_target  = []"
   ]
  },
  {
   "cell_type": "code",
   "execution_count": 11,
   "id": "e3d9c3d3",
   "metadata": {
    "execution": {
     "iopub.execute_input": "2022-03-25T14:12:47.428771Z",
     "iopub.status.busy": "2022-03-25T14:12:47.428371Z",
     "iopub.status.idle": "2022-03-25T14:12:47.439399Z",
     "shell.execute_reply": "2022-03-25T14:12:47.439126Z"
    },
    "papermill": {
     "duration": 0.02577,
     "end_time": "2022-03-25T14:12:47.439465",
     "exception": false,
     "start_time": "2022-03-25T14:12:47.413695",
     "status": "completed"
    },
    "tags": []
   },
   "outputs": [],
   "source": [
    "# global_x_transform_func = lambda x: normalize(x.to(torch.get_default_dtype()), \"unit_power\") # unit_power, unit_mag\n",
    "# global_x_transform_func = lambda x: normalize(x, \"unit_power\") # unit_power, unit_mag"
   ]
  },
  {
   "cell_type": "code",
   "execution_count": 12,
   "id": "acb78fd2",
   "metadata": {
    "execution": {
     "iopub.execute_input": "2022-03-25T14:12:47.473939Z",
     "iopub.status.busy": "2022-03-25T14:12:47.473520Z",
     "iopub.status.idle": "2022-03-25T14:12:47.485496Z",
     "shell.execute_reply": "2022-03-25T14:12:47.485223Z"
    },
    "papermill": {
     "duration": 0.030081,
     "end_time": "2022-03-25T14:12:47.485554",
     "exception": false,
     "start_time": "2022-03-25T14:12:47.455473",
     "status": "completed"
    },
    "tags": []
   },
   "outputs": [],
   "source": [
    "def add_dataset(\n",
    "    labels,\n",
    "    domains,\n",
    "    pickle_path,\n",
    "    x_transforms,\n",
    "    episode_transforms,\n",
    "    domain_prefix,\n",
    "    num_examples_per_domain_per_label,\n",
    "    source_or_target_dataset:str,\n",
    "    iterator_seed=p.seed,\n",
    "    dataset_seed=p.dataset_seed,\n",
    "    n_shot=p.n_shot,\n",
    "    n_way=p.n_way,\n",
    "    n_query=p.n_query,\n",
    "    train_val_test_k_factors=(p.train_k_factor,p.val_k_factor,p.test_k_factor),\n",
    "):\n",
    "   \n",
    "    if x_transforms == []: x_transform = None\n",
    "    else: x_transform = get_chained_transform(x_transforms)\n",
    "    \n",
    "    if episode_transforms == []: episode_transform = None\n",
    "    else: raise Exception(\"episode_transforms not implemented\")\n",
    "    \n",
    "    episode_transform = lambda tup, _prefix=domain_prefix: (_prefix + str(tup[0]), tup[1])\n",
    "\n",
    "\n",
    "    eaf = Episodic_Accessor_Factory(\n",
    "        labels=labels,\n",
    "        domains=domains,\n",
    "        num_examples_per_domain_per_label=num_examples_per_domain_per_label,\n",
    "        iterator_seed=iterator_seed,\n",
    "        dataset_seed=dataset_seed,\n",
    "        n_shot=n_shot,\n",
    "        n_way=n_way,\n",
    "        n_query=n_query,\n",
    "        train_val_test_k_factors=train_val_test_k_factors,\n",
    "        pickle_path=pickle_path,\n",
    "        x_transform_func=x_transform,\n",
    "    )\n",
    "\n",
    "    train, val, test = eaf.get_train(), eaf.get_val(), eaf.get_test()\n",
    "    train = Lazy_Iterable_Wrapper(train, episode_transform)\n",
    "    val = Lazy_Iterable_Wrapper(val, episode_transform)\n",
    "    test = Lazy_Iterable_Wrapper(test, episode_transform)\n",
    "\n",
    "    if source_or_target_dataset==\"source\":\n",
    "        train_original_source.append(train)\n",
    "        val_original_source.append(val)\n",
    "        test_original_source.append(test)\n",
    "\n",
    "        p.domains_source.extend(\n",
    "            [domain_prefix + str(u) for u in domains]\n",
    "        )\n",
    "    elif source_or_target_dataset==\"target\":\n",
    "        train_original_target.append(train)\n",
    "        val_original_target.append(val)\n",
    "        test_original_target.append(test)\n",
    "        p.domains_target.extend(\n",
    "            [domain_prefix + str(u) for u in domains]\n",
    "        )\n",
    "    else:\n",
    "        raise Exception(f\"invalid source_or_target_dataset: {source_or_target_dataset}\")\n",
    "    "
   ]
  },
  {
   "cell_type": "code",
   "execution_count": 13,
   "id": "fe266617",
   "metadata": {
    "execution": {
     "iopub.execute_input": "2022-03-25T14:12:47.514341Z",
     "iopub.status.busy": "2022-03-25T14:12:47.513909Z",
     "iopub.status.idle": "2022-03-25T14:13:03.898703Z",
     "shell.execute_reply": "2022-03-25T14:13:03.898220Z"
    },
    "papermill": {
     "duration": 16.399841,
     "end_time": "2022-03-25T14:13:03.898809",
     "exception": false,
     "start_time": "2022-03-25T14:12:47.498968",
     "status": "completed"
    },
    "tags": []
   },
   "outputs": [],
   "source": [
    "for ds in p.datasets:\n",
    "    add_dataset(**ds)"
   ]
  },
  {
   "cell_type": "code",
   "execution_count": 14,
   "id": "b90d65ac",
   "metadata": {
    "execution": {
     "iopub.execute_input": "2022-03-25T14:13:03.931554Z",
     "iopub.status.busy": "2022-03-25T14:13:03.931292Z",
     "iopub.status.idle": "2022-03-25T14:13:03.944055Z",
     "shell.execute_reply": "2022-03-25T14:13:03.944439Z"
    },
    "papermill": {
     "duration": 0.028475,
     "end_time": "2022-03-25T14:13:03.944563",
     "exception": false,
     "start_time": "2022-03-25T14:13:03.916088",
     "status": "completed"
    },
    "tags": []
   },
   "outputs": [],
   "source": [
    "# from steves_utils.CORES.utils import (\n",
    "#     ALL_NODES,\n",
    "#     ALL_NODES_MINIMUM_1000_EXAMPLES,\n",
    "#     ALL_DAYS\n",
    "# )\n",
    "\n",
    "# add_dataset(\n",
    "#     labels=ALL_NODES,\n",
    "#     domains = ALL_DAYS,\n",
    "#     num_examples_per_domain_per_label=100,\n",
    "#     pickle_path=os.path.join(get_datasets_base_path(), \"cores.stratified_ds.2022A.pkl\"),\n",
    "#     source_or_target_dataset=\"target\",\n",
    "#     x_transform_func=global_x_transform_func,\n",
    "#     domain_modifier=lambda u: f\"cores_{u}\"\n",
    "# )"
   ]
  },
  {
   "cell_type": "code",
   "execution_count": 15,
   "id": "76db484d",
   "metadata": {
    "execution": {
     "iopub.execute_input": "2022-03-25T14:13:03.978170Z",
     "iopub.status.busy": "2022-03-25T14:13:03.977883Z",
     "iopub.status.idle": "2022-03-25T14:13:03.989080Z",
     "shell.execute_reply": "2022-03-25T14:13:03.988652Z"
    },
    "papermill": {
     "duration": 0.025995,
     "end_time": "2022-03-25T14:13:03.989178",
     "exception": false,
     "start_time": "2022-03-25T14:13:03.963183",
     "status": "completed"
    },
    "tags": []
   },
   "outputs": [],
   "source": [
    "# from steves_utils.ORACLE.utils_v2 import (\n",
    "#     ALL_DISTANCES_FEET,\n",
    "#     ALL_RUNS,\n",
    "#     ALL_SERIAL_NUMBERS,\n",
    "# )\n",
    "\n",
    "\n",
    "# add_dataset(\n",
    "#     labels=ALL_SERIAL_NUMBERS,\n",
    "#     domains = list(set(ALL_DISTANCES_FEET) - {2,62}),\n",
    "#     num_examples_per_domain_per_label=100,\n",
    "#     pickle_path=os.path.join(get_datasets_base_path(), \"oracle.Run2_framed_2000Examples_stratified_ds.2022A.pkl\"),\n",
    "#     source_or_target_dataset=\"source\",\n",
    "#     x_transform_func=global_x_transform_func,\n",
    "#     domain_modifier=lambda u: f\"oracle1_{u}\"\n",
    "# )\n"
   ]
  },
  {
   "cell_type": "code",
   "execution_count": 16,
   "id": "97dea9d2",
   "metadata": {
    "execution": {
     "iopub.execute_input": "2022-03-25T14:13:04.022227Z",
     "iopub.status.busy": "2022-03-25T14:13:04.021958Z",
     "iopub.status.idle": "2022-03-25T14:13:04.037019Z",
     "shell.execute_reply": "2022-03-25T14:13:04.036531Z"
    },
    "papermill": {
     "duration": 0.0302,
     "end_time": "2022-03-25T14:13:04.037118",
     "exception": false,
     "start_time": "2022-03-25T14:13:04.006918",
     "status": "completed"
    },
    "tags": []
   },
   "outputs": [],
   "source": [
    "# from steves_utils.ORACLE.utils_v2 import (\n",
    "#     ALL_DISTANCES_FEET,\n",
    "#     ALL_RUNS,\n",
    "#     ALL_SERIAL_NUMBERS,\n",
    "# )\n",
    "\n",
    "\n",
    "# add_dataset(\n",
    "#     labels=ALL_SERIAL_NUMBERS,\n",
    "#     domains = list(set(ALL_DISTANCES_FEET) - {2,62,56}),\n",
    "#     num_examples_per_domain_per_label=100,\n",
    "#     pickle_path=os.path.join(get_datasets_base_path(), \"oracle.Run2_framed_2000Examples_stratified_ds.2022A.pkl\"),\n",
    "#     source_or_target_dataset=\"source\",\n",
    "#     x_transform_func=global_x_transform_func,\n",
    "#     domain_modifier=lambda u: f\"oracle2_{u}\"\n",
    "# )"
   ]
  },
  {
   "cell_type": "code",
   "execution_count": 17,
   "id": "6f289866",
   "metadata": {
    "execution": {
     "iopub.execute_input": "2022-03-25T14:13:04.070883Z",
     "iopub.status.busy": "2022-03-25T14:13:04.070178Z",
     "iopub.status.idle": "2022-03-25T14:13:04.085127Z",
     "shell.execute_reply": "2022-03-25T14:13:04.085508Z"
    },
    "papermill": {
     "duration": 0.029964,
     "end_time": "2022-03-25T14:13:04.085628",
     "exception": false,
     "start_time": "2022-03-25T14:13:04.055664",
     "status": "completed"
    },
    "tags": []
   },
   "outputs": [],
   "source": [
    "# add_dataset(\n",
    "#     labels=list(range(19)),\n",
    "#     domains = [0,1,2],\n",
    "#     num_examples_per_domain_per_label=100,\n",
    "#     pickle_path=os.path.join(get_datasets_base_path(), \"metehan.stratified_ds.2022A.pkl\"),\n",
    "#     source_or_target_dataset=\"target\",\n",
    "#     x_transform_func=global_x_transform_func,\n",
    "#     domain_modifier=lambda u: f\"met_{u}\"\n",
    "# )"
   ]
  },
  {
   "cell_type": "code",
   "execution_count": 18,
   "id": "86a863c3",
   "metadata": {
    "execution": {
     "iopub.execute_input": "2022-03-25T14:13:04.119141Z",
     "iopub.status.busy": "2022-03-25T14:13:04.118883Z",
     "iopub.status.idle": "2022-03-25T14:13:04.133375Z",
     "shell.execute_reply": "2022-03-25T14:13:04.133663Z"
    },
    "papermill": {
     "duration": 0.030127,
     "end_time": "2022-03-25T14:13:04.133759",
     "exception": false,
     "start_time": "2022-03-25T14:13:04.103632",
     "status": "completed"
    },
    "tags": []
   },
   "outputs": [],
   "source": [
    "# # from steves_utils.wisig.utils import (\n",
    "# #     ALL_NODES_MINIMUM_100_EXAMPLES,\n",
    "# #     ALL_NODES_MINIMUM_500_EXAMPLES,\n",
    "# #     ALL_NODES_MINIMUM_1000_EXAMPLES,\n",
    "# #     ALL_DAYS\n",
    "# # )\n",
    "\n",
    "# import steves_utils.wisig.utils as wisig\n",
    "\n",
    "\n",
    "# add_dataset(\n",
    "#     labels=wisig.ALL_NODES_MINIMUM_100_EXAMPLES,\n",
    "#     domains = wisig.ALL_DAYS,\n",
    "#     num_examples_per_domain_per_label=100,\n",
    "#     pickle_path=os.path.join(get_datasets_base_path(), \"wisig.node3-19.stratified_ds.2022A.pkl\"),\n",
    "#     source_or_target_dataset=\"target\",\n",
    "#     x_transform_func=global_x_transform_func,\n",
    "#     domain_modifier=lambda u: f\"wisig_{u}\"\n",
    "# )"
   ]
  },
  {
   "cell_type": "code",
   "execution_count": 19,
   "id": "fd5442bc",
   "metadata": {
    "execution": {
     "iopub.execute_input": "2022-03-25T14:13:04.172001Z",
     "iopub.status.busy": "2022-03-25T14:13:04.171734Z",
     "iopub.status.idle": "2022-03-25T14:13:04.186920Z",
     "shell.execute_reply": "2022-03-25T14:13:04.187300Z"
    },
    "papermill": {
     "duration": 0.033874,
     "end_time": "2022-03-25T14:13:04.187423",
     "exception": false,
     "start_time": "2022-03-25T14:13:04.153549",
     "status": "completed"
    },
    "tags": []
   },
   "outputs": [],
   "source": [
    "###################################\n",
    "# Build the dataset\n",
    "###################################\n",
    "train_original_source = Iterable_Aggregator(train_original_source, p.seed)\n",
    "val_original_source = Iterable_Aggregator(val_original_source, p.seed)\n",
    "test_original_source = Iterable_Aggregator(test_original_source, p.seed)\n",
    "\n",
    "\n",
    "train_original_target = Iterable_Aggregator(train_original_target, p.seed)\n",
    "val_original_target = Iterable_Aggregator(val_original_target, p.seed)\n",
    "test_original_target = Iterable_Aggregator(test_original_target, p.seed)\n",
    "\n",
    "# For CNN We only use X and Y. And we only train on the source.\n",
    "# Properly form the data using a transform lambda and Lazy_Iterable_Wrapper. Finally wrap them in a dataloader\n",
    "\n",
    "transform_lambda = lambda ex: ex[1] # Original is (<domain>, <episode>) so we strip down to episode only\n",
    "\n",
    "train_processed_source = Lazy_Iterable_Wrapper(train_original_source, transform_lambda)\n",
    "val_processed_source   = Lazy_Iterable_Wrapper(val_original_source, transform_lambda)\n",
    "test_processed_source  = Lazy_Iterable_Wrapper(test_original_source, transform_lambda)\n",
    "\n",
    "train_processed_target = Lazy_Iterable_Wrapper(train_original_target, transform_lambda)\n",
    "val_processed_target   = Lazy_Iterable_Wrapper(val_original_target, transform_lambda)\n",
    "test_processed_target  = Lazy_Iterable_Wrapper(test_original_target, transform_lambda)\n",
    "\n",
    "datasets = EasyDict({\n",
    "    \"source\": {\n",
    "        \"original\": {\"train\":train_original_source, \"val\":val_original_source, \"test\":test_original_source},\n",
    "        \"processed\": {\"train\":train_processed_source, \"val\":val_processed_source, \"test\":test_processed_source}\n",
    "    },\n",
    "    \"target\": {\n",
    "        \"original\": {\"train\":train_original_target, \"val\":val_original_target, \"test\":test_original_target},\n",
    "        \"processed\": {\"train\":train_processed_target, \"val\":val_processed_target, \"test\":test_processed_target}\n",
    "    },\n",
    "})"
   ]
  },
  {
   "cell_type": "code",
   "execution_count": 20,
   "id": "5b3c01fc",
   "metadata": {
    "execution": {
     "iopub.execute_input": "2022-03-25T14:13:04.223302Z",
     "iopub.status.busy": "2022-03-25T14:13:04.221800Z",
     "iopub.status.idle": "2022-03-25T14:13:10.485981Z",
     "shell.execute_reply": "2022-03-25T14:13:10.486217Z"
    },
    "papermill": {
     "duration": 6.279261,
     "end_time": "2022-03-25T14:13:10.486296",
     "exception": false,
     "start_time": "2022-03-25T14:13:04.207035",
     "status": "completed"
    },
    "tags": []
   },
   "outputs": [
    {
     "name": "stdout",
     "output_type": "stream",
     "text": [
      "{'O_26', 'O_50', 'O_44', 'O_20', 'O_32', 'O_14', 'O_8', 'O_38'}\n"
     ]
    },
    {
     "name": "stdout",
     "output_type": "stream",
     "text": [
      "{'C_2', 'C_5', 'C_1', 'C_4', 'C_3'}\n"
     ]
    },
    {
     "name": "stdout",
     "output_type": "stream",
     "text": [
      "tensor([[[ 9.4607e-04,  2.0838e-03, -4.8982e-04,  ...,  7.0501e-04,\n",
      "          -1.3730e-04,  1.8651e-03],\n",
      "         [-7.3244e-04,  5.1373e-04,  5.5381e-04,  ...,  1.1186e-03,\n",
      "           1.9094e-03,  2.9535e-04]],\n",
      "\n",
      "        [[ 1.8311e-04,  2.2850e-03,  4.1729e-04,  ...,  6.2979e-04,\n",
      "           7.4248e-05,  1.9375e-03],\n",
      "         [-1.1597e-03, -2.1021e-04,  8.9464e-04,  ...,  7.2088e-04,\n",
      "           2.1401e-03,  3.2306e-04]],\n",
      "\n",
      "        [[-1.7396e-03, -1.6951e-04,  2.5856e-03,  ...,  3.9022e-04,\n",
      "          -1.6906e-03, -2.1310e-03],\n",
      "         [-5.1881e-04, -5.7247e-04,  2.8093e-05,  ..., -1.7346e-03,\n",
      "          -1.3323e-03, -1.3298e-03]],\n",
      "\n",
      "        ...,\n",
      "\n",
      "        [[-6.7141e-04,  3.3706e-04,  9.0093e-04,  ...,  1.2609e-03,\n",
      "           2.5123e-03,  1.2147e-03],\n",
      "         [-5.4933e-04, -2.4524e-03, -1.9597e-04,  ..., -1.7514e-03,\n",
      "           2.8705e-04, -1.0419e-03]],\n",
      "\n",
      "        [[ 1.1292e-03, -5.5049e-04, -1.4775e-03,  ..., -1.6268e-03,\n",
      "          -2.0009e-03, -9.0898e-05],\n",
      "         [ 1.8006e-03,  2.5817e-03, -9.4251e-04,  ...,  3.9293e-04,\n",
      "          -1.8269e-04,  2.1178e-03]],\n",
      "\n",
      "        [[ 8.8504e-04, -1.0138e-03, -1.7318e-03,  ..., -2.1742e-03,\n",
      "          -1.8588e-03, -5.6852e-04],\n",
      "         [ 2.0753e-03,  2.4920e-03, -1.4041e-03,  ...,  3.1050e-04,\n",
      "           4.1499e-04,  2.8304e-03]]])\n"
     ]
    }
   ],
   "source": [
    "from steves_utils.transforms import get_average_magnitude, get_average_power\n",
    "\n",
    "print(set([u for u,_ in val_original_source]))\n",
    "print(set([u for u,_ in val_original_target]))\n",
    "\n",
    "s_x, s_y, q_x, q_y, _ = next(iter(train_processed_source))\n",
    "print(s_x)\n",
    "\n",
    "# for ds in [\n",
    "#     train_processed_source,\n",
    "#     val_processed_source,\n",
    "#     test_processed_source,\n",
    "#     train_processed_target,\n",
    "#     val_processed_target,\n",
    "#     test_processed_target\n",
    "# ]:\n",
    "#     for s_x, s_y, q_x, q_y, _ in ds:\n",
    "#         for X in (s_x, q_x):\n",
    "#             for x in X:\n",
    "#                 assert np.isclose(get_average_magnitude(x.numpy()), 1.0)\n",
    "#                 assert np.isclose(get_average_power(x.numpy()), 1.0)\n",
    "                "
   ]
  },
  {
   "cell_type": "code",
   "execution_count": 21,
   "id": "bbdacba1",
   "metadata": {
    "execution": {
     "iopub.execute_input": "2022-03-25T14:13:10.518449Z",
     "iopub.status.busy": "2022-03-25T14:13:10.518048Z",
     "iopub.status.idle": "2022-03-25T14:13:10.566418Z",
     "shell.execute_reply": "2022-03-25T14:13:10.566640Z"
    },
    "papermill": {
     "duration": 0.065553,
     "end_time": "2022-03-25T14:13:10.566721",
     "exception": false,
     "start_time": "2022-03-25T14:13:10.501168",
     "status": "completed"
    },
    "tags": []
   },
   "outputs": [
    {
     "name": "stdout",
     "output_type": "stream",
     "text": [
      "(2, 200)\n"
     ]
    }
   ],
   "source": [
    "###################################\n",
    "# Build the model\n",
    "###################################\n",
    "# easfsl only wants a tuple for the shape\n",
    "model = Steves_Prototypical_Network(x_net, device=p.device, x_shape=tuple(p.x_shape))\n",
    "optimizer = Adam(params=model.parameters(), lr=p.lr)"
   ]
  },
  {
   "cell_type": "code",
   "execution_count": 22,
   "id": "22b39ac5",
   "metadata": {
    "execution": {
     "iopub.execute_input": "2022-03-25T14:13:10.601223Z",
     "iopub.status.busy": "2022-03-25T14:13:10.600820Z",
     "iopub.status.idle": "2022-03-25T14:26:46.554799Z",
     "shell.execute_reply": "2022-03-25T14:26:46.554567Z"
    },
    "papermill": {
     "duration": 815.970894,
     "end_time": "2022-03-25T14:26:46.554853",
     "exception": false,
     "start_time": "2022-03-25T14:13:10.583959",
     "status": "completed"
    },
    "tags": []
   },
   "outputs": [
    {
     "name": "stdout",
     "output_type": "stream",
     "text": [
      "epoch: 1, [batch: 1 / 6720], examples_per_second: 50.2687, train_label_loss: 2.8628, \n"
     ]
    },
    {
     "name": "stdout",
     "output_type": "stream",
     "text": [
      "epoch: 1, [batch: 672 / 6720], examples_per_second: 3634.6734, train_label_loss: 1.1324, \n"
     ]
    },
    {
     "name": "stdout",
     "output_type": "stream",
     "text": [
      "epoch: 1, [batch: 1344 / 6720], examples_per_second: 3659.2065, train_label_loss: 0.5230, \n"
     ]
    },
    {
     "name": "stdout",
     "output_type": "stream",
     "text": [
      "epoch: 1, [batch: 2016 / 6720], examples_per_second: 3647.5075, train_label_loss: 0.5074, \n"
     ]
    },
    {
     "name": "stdout",
     "output_type": "stream",
     "text": [
      "epoch: 1, [batch: 2688 / 6720], examples_per_second: 3637.7737, train_label_loss: 0.6930, \n"
     ]
    },
    {
     "name": "stdout",
     "output_type": "stream",
     "text": [
      "epoch: 1, [batch: 3360 / 6720], examples_per_second: 3669.3998, train_label_loss: 0.5019, \n"
     ]
    },
    {
     "name": "stdout",
     "output_type": "stream",
     "text": [
      "epoch: 1, [batch: 4032 / 6720], examples_per_second: 3648.2949, train_label_loss: 0.2853, \n"
     ]
    },
    {
     "name": "stdout",
     "output_type": "stream",
     "text": [
      "epoch: 1, [batch: 4704 / 6720], examples_per_second: 3636.9966, train_label_loss: 0.5553, \n"
     ]
    },
    {
     "name": "stdout",
     "output_type": "stream",
     "text": [
      "epoch: 1, [batch: 5376 / 6720], examples_per_second: 3649.7160, train_label_loss: 0.3536, \n"
     ]
    },
    {
     "name": "stdout",
     "output_type": "stream",
     "text": [
      "epoch: 1, [batch: 6048 / 6720], examples_per_second: 3641.5084, train_label_loss: 0.3574, \n"
     ]
    },
    {
     "name": "stdout",
     "output_type": "stream",
     "text": [
      "=============================================================\n",
      "epoch: 1, source_val_acc_label: 0.5386, target_val_acc_label: 0.5683, source_val_label_loss: 512.8570, target_val_label_loss: 16205.7979, \n",
      "=============================================================\n"
     ]
    },
    {
     "name": "stdout",
     "output_type": "stream",
     "text": [
      "New best\n"
     ]
    },
    {
     "name": "stdout",
     "output_type": "stream",
     "text": [
      "epoch: 2, [batch: 1 / 6720], examples_per_second: 5.3310, train_label_loss: 0.6271, \n"
     ]
    },
    {
     "name": "stdout",
     "output_type": "stream",
     "text": [
      "epoch: 2, [batch: 672 / 6720], examples_per_second: 3624.2045, train_label_loss: 1.0442, \n"
     ]
    },
    {
     "name": "stdout",
     "output_type": "stream",
     "text": [
      "epoch: 2, [batch: 1344 / 6720], examples_per_second: 3647.2980, train_label_loss: 0.5899, \n"
     ]
    },
    {
     "name": "stdout",
     "output_type": "stream",
     "text": [
      "epoch: 2, [batch: 2016 / 6720], examples_per_second: 3645.4685, train_label_loss: 0.2230, \n"
     ]
    },
    {
     "name": "stdout",
     "output_type": "stream",
     "text": [
      "epoch: 2, [batch: 2688 / 6720], examples_per_second: 3627.4353, train_label_loss: 0.1019, \n"
     ]
    },
    {
     "name": "stdout",
     "output_type": "stream",
     "text": [
      "epoch: 2, [batch: 3360 / 6720], examples_per_second: 3646.6384, train_label_loss: 0.3025, \n"
     ]
    },
    {
     "name": "stdout",
     "output_type": "stream",
     "text": [
      "epoch: 2, [batch: 4032 / 6720], examples_per_second: 3656.2754, train_label_loss: 0.5567, \n"
     ]
    },
    {
     "name": "stdout",
     "output_type": "stream",
     "text": [
      "epoch: 2, [batch: 4704 / 6720], examples_per_second: 3641.7111, train_label_loss: 0.7550, \n"
     ]
    },
    {
     "name": "stdout",
     "output_type": "stream",
     "text": [
      "epoch: 2, [batch: 5376 / 6720], examples_per_second: 3656.7834, train_label_loss: 0.3469, \n"
     ]
    },
    {
     "name": "stdout",
     "output_type": "stream",
     "text": [
      "epoch: 2, [batch: 6048 / 6720], examples_per_second: 3654.2731, train_label_loss: 0.4077, \n"
     ]
    },
    {
     "name": "stdout",
     "output_type": "stream",
     "text": [
      "=============================================================\n",
      "epoch: 2, source_val_acc_label: 0.8656, target_val_acc_label: 0.3265, source_val_label_loss: 0.4058, target_val_label_loss: 5135.9033, \n",
      "=============================================================\n"
     ]
    },
    {
     "name": "stdout",
     "output_type": "stream",
     "text": [
      "epoch: 3, [batch: 1 / 6720], examples_per_second: 5.2823, train_label_loss: 0.6362, \n"
     ]
    },
    {
     "name": "stdout",
     "output_type": "stream",
     "text": [
      "epoch: 3, [batch: 672 / 6720], examples_per_second: 3599.1561, train_label_loss: 0.1531, \n"
     ]
    },
    {
     "name": "stdout",
     "output_type": "stream",
     "text": [
      "epoch: 3, [batch: 1344 / 6720], examples_per_second: 3595.1599, train_label_loss: 0.3808, \n"
     ]
    },
    {
     "name": "stdout",
     "output_type": "stream",
     "text": [
      "epoch: 3, [batch: 2016 / 6720], examples_per_second: 3647.1426, train_label_loss: 0.2367, \n"
     ]
    },
    {
     "name": "stdout",
     "output_type": "stream",
     "text": [
      "epoch: 3, [batch: 2688 / 6720], examples_per_second: 3619.7349, train_label_loss: 0.3326, \n"
     ]
    },
    {
     "name": "stdout",
     "output_type": "stream",
     "text": [
      "epoch: 3, [batch: 3360 / 6720], examples_per_second: 3651.3906, train_label_loss: 0.2967, \n"
     ]
    },
    {
     "name": "stdout",
     "output_type": "stream",
     "text": [
      "epoch: 3, [batch: 4032 / 6720], examples_per_second: 3638.9303, train_label_loss: 0.3130, \n"
     ]
    },
    {
     "name": "stdout",
     "output_type": "stream",
     "text": [
      "epoch: 3, [batch: 4704 / 6720], examples_per_second: 3610.2602, train_label_loss: 0.3241, \n"
     ]
    },
    {
     "name": "stdout",
     "output_type": "stream",
     "text": [
      "epoch: 3, [batch: 5376 / 6720], examples_per_second: 3614.7075, train_label_loss: 0.5514, \n"
     ]
    },
    {
     "name": "stdout",
     "output_type": "stream",
     "text": [
      "epoch: 3, [batch: 6048 / 6720], examples_per_second: 3614.2932, train_label_loss: 0.2996, \n"
     ]
    },
    {
     "name": "stdout",
     "output_type": "stream",
     "text": [
      "=============================================================\n",
      "epoch: 3, source_val_acc_label: 0.8826, target_val_acc_label: 0.5408, source_val_label_loss: 0.3789, target_val_label_loss: 751.7680, \n",
      "=============================================================\n"
     ]
    },
    {
     "name": "stdout",
     "output_type": "stream",
     "text": [
      "epoch: 4, [batch: 1 / 6720], examples_per_second: 5.2301, train_label_loss: 0.6382, \n"
     ]
    },
    {
     "name": "stdout",
     "output_type": "stream",
     "text": [
      "epoch: 4, [batch: 672 / 6720], examples_per_second: 3640.2045, train_label_loss: 0.1909, \n"
     ]
    },
    {
     "name": "stdout",
     "output_type": "stream",
     "text": [
      "epoch: 4, [batch: 1344 / 6720], examples_per_second: 3641.8992, train_label_loss: 0.3624, \n"
     ]
    },
    {
     "name": "stdout",
     "output_type": "stream",
     "text": [
      "epoch: 4, [batch: 2016 / 6720], examples_per_second: 3662.2735, train_label_loss: 0.2141, \n"
     ]
    },
    {
     "name": "stdout",
     "output_type": "stream",
     "text": [
      "epoch: 4, [batch: 2688 / 6720], examples_per_second: 3631.4143, train_label_loss: 0.4295, \n"
     ]
    },
    {
     "name": "stdout",
     "output_type": "stream",
     "text": [
      "epoch: 4, [batch: 3360 / 6720], examples_per_second: 3654.5107, train_label_loss: 0.4253, \n"
     ]
    },
    {
     "name": "stdout",
     "output_type": "stream",
     "text": [
      "epoch: 4, [batch: 4032 / 6720], examples_per_second: 3654.4093, train_label_loss: 0.4232, \n"
     ]
    },
    {
     "name": "stdout",
     "output_type": "stream",
     "text": [
      "epoch: 4, [batch: 4704 / 6720], examples_per_second: 3634.3592, train_label_loss: 0.6716, \n"
     ]
    },
    {
     "name": "stdout",
     "output_type": "stream",
     "text": [
      "epoch: 4, [batch: 5376 / 6720], examples_per_second: 3651.8016, train_label_loss: 0.3214, \n"
     ]
    },
    {
     "name": "stdout",
     "output_type": "stream",
     "text": [
      "epoch: 4, [batch: 6048 / 6720], examples_per_second: 3644.6434, train_label_loss: 0.5502, \n"
     ]
    },
    {
     "name": "stdout",
     "output_type": "stream",
     "text": [
      "=============================================================\n",
      "epoch: 4, source_val_acc_label: 0.8935, target_val_acc_label: 0.4763, source_val_label_loss: 0.3034, target_val_label_loss: 1018.5181, \n",
      "=============================================================\n"
     ]
    },
    {
     "name": "stdout",
     "output_type": "stream",
     "text": [
      "epoch: 5, [batch: 1 / 6720], examples_per_second: 5.2911, train_label_loss: 0.1905, \n"
     ]
    },
    {
     "name": "stdout",
     "output_type": "stream",
     "text": [
      "epoch: 5, [batch: 672 / 6720], examples_per_second: 3622.4427, train_label_loss: 0.7178, \n"
     ]
    },
    {
     "name": "stdout",
     "output_type": "stream",
     "text": [
      "epoch: 5, [batch: 1344 / 6720], examples_per_second: 3651.6145, train_label_loss: 0.1915, \n"
     ]
    },
    {
     "name": "stdout",
     "output_type": "stream",
     "text": [
      "epoch: 5, [batch: 2016 / 6720], examples_per_second: 3619.1125, train_label_loss: 0.2210, \n"
     ]
    },
    {
     "name": "stdout",
     "output_type": "stream",
     "text": [
      "epoch: 5, [batch: 2688 / 6720], examples_per_second: 3626.2151, train_label_loss: 0.1707, \n"
     ]
    },
    {
     "name": "stdout",
     "output_type": "stream",
     "text": [
      "epoch: 5, [batch: 3360 / 6720], examples_per_second: 3644.7578, train_label_loss: 0.3291, \n"
     ]
    },
    {
     "name": "stdout",
     "output_type": "stream",
     "text": [
      "epoch: 5, [batch: 4032 / 6720], examples_per_second: 3643.2026, train_label_loss: 0.0990, \n"
     ]
    },
    {
     "name": "stdout",
     "output_type": "stream",
     "text": [
      "epoch: 5, [batch: 4704 / 6720], examples_per_second: 3643.2759, train_label_loss: 0.1642, \n"
     ]
    },
    {
     "name": "stdout",
     "output_type": "stream",
     "text": [
      "epoch: 5, [batch: 5376 / 6720], examples_per_second: 3641.7721, train_label_loss: 0.2849, \n"
     ]
    },
    {
     "name": "stdout",
     "output_type": "stream",
     "text": [
      "epoch: 5, [batch: 6048 / 6720], examples_per_second: 3644.9189, train_label_loss: 0.5021, \n"
     ]
    },
    {
     "name": "stdout",
     "output_type": "stream",
     "text": [
      "=============================================================\n",
      "epoch: 5, source_val_acc_label: 0.9133, target_val_acc_label: 0.4791, source_val_label_loss: 0.2583, target_val_label_loss: 1122.8502, \n",
      "=============================================================\n"
     ]
    },
    {
     "name": "stdout",
     "output_type": "stream",
     "text": [
      "Patience (3) exhausted\n"
     ]
    }
   ],
   "source": [
    "###################################\n",
    "# train\n",
    "###################################\n",
    "jig = PTN_Train_Eval_Test_Jig(model, p.BEST_MODEL_PATH, p.device)\n",
    "\n",
    "jig.train(\n",
    "    train_iterable=datasets.source.processed.train,\n",
    "    source_val_iterable=datasets.source.processed.val,\n",
    "    target_val_iterable=datasets.target.processed.val,\n",
    "    num_epochs=p.n_epoch,\n",
    "    num_logs_per_epoch=p.NUM_LOGS_PER_EPOCH,\n",
    "    patience=p.patience,\n",
    "    optimizer=optimizer,\n",
    "    criteria_for_best=p.criteria_for_best,\n",
    ")"
   ]
  },
  {
   "cell_type": "code",
   "execution_count": 23,
   "id": "31e8fabf",
   "metadata": {
    "execution": {
     "iopub.execute_input": "2022-03-25T14:26:46.606308Z",
     "iopub.status.busy": "2022-03-25T14:26:46.606056Z",
     "iopub.status.idle": "2022-03-25T14:26:46.622404Z",
     "shell.execute_reply": "2022-03-25T14:26:46.621931Z"
    },
    "papermill": {
     "duration": 0.043495,
     "end_time": "2022-03-25T14:26:46.622493",
     "exception": false,
     "start_time": "2022-03-25T14:26:46.578998",
     "status": "completed"
    },
    "tags": []
   },
   "outputs": [],
   "source": [
    "total_experiment_time_secs = time.time() - start_time_secs"
   ]
  },
  {
   "cell_type": "code",
   "execution_count": 24,
   "id": "87b9595b",
   "metadata": {
    "execution": {
     "iopub.execute_input": "2022-03-25T14:26:46.680329Z",
     "iopub.status.busy": "2022-03-25T14:26:46.680054Z",
     "iopub.status.idle": "2022-03-25T14:28:17.265213Z",
     "shell.execute_reply": "2022-03-25T14:28:17.265624Z"
    },
    "papermill": {
     "duration": 90.61541,
     "end_time": "2022-03-25T14:28:17.265765",
     "exception": false,
     "start_time": "2022-03-25T14:26:46.650355",
     "status": "completed"
    },
    "tags": []
   },
   "outputs": [],
   "source": [
    "###################################\n",
    "# Evaluate the model\n",
    "###################################\n",
    "source_test_label_accuracy, source_test_label_loss = jig.test(datasets.source.processed.test)\n",
    "target_test_label_accuracy, target_test_label_loss = jig.test(datasets.target.processed.test)\n",
    "\n",
    "source_val_label_accuracy, source_val_label_loss = jig.test(datasets.source.processed.val)\n",
    "target_val_label_accuracy, target_val_label_loss = jig.test(datasets.target.processed.val)\n",
    "\n",
    "history = jig.get_history()\n",
    "\n",
    "total_epochs_trained = len(history[\"epoch_indices\"])\n",
    "\n",
    "val_dl = Iterable_Aggregator((datasets.source.original.val,datasets.target.original.val))\n",
    "\n",
    "confusion = ptn_confusion_by_domain_over_dataloader(model, p.device, val_dl)\n",
    "per_domain_accuracy = per_domain_accuracy_from_confusion(confusion)\n",
    "\n",
    "# Add a key to per_domain_accuracy for if it was a source domain\n",
    "for domain, accuracy in per_domain_accuracy.items():\n",
    "    per_domain_accuracy[domain] = {\n",
    "        \"accuracy\": accuracy,\n",
    "        \"source?\": domain in p.domains_source\n",
    "    }\n",
    "\n",
    "# Do an independent accuracy assesment JUST TO BE SURE!\n",
    "# _source_test_label_accuracy = independent_accuracy_assesment(model, datasets.source.processed.test, p.device)\n",
    "# _target_test_label_accuracy = independent_accuracy_assesment(model, datasets.target.processed.test, p.device)\n",
    "# _source_val_label_accuracy = independent_accuracy_assesment(model, datasets.source.processed.val, p.device)\n",
    "# _target_val_label_accuracy = independent_accuracy_assesment(model, datasets.target.processed.val, p.device)\n",
    "\n",
    "# assert(_source_test_label_accuracy == source_test_label_accuracy)\n",
    "# assert(_target_test_label_accuracy == target_test_label_accuracy)\n",
    "# assert(_source_val_label_accuracy == source_val_label_accuracy)\n",
    "# assert(_target_val_label_accuracy == target_val_label_accuracy)\n",
    "\n",
    "experiment = {\n",
    "    \"experiment_name\": p.experiment_name,\n",
    "    \"parameters\": dict(p),\n",
    "    \"results\": {\n",
    "        \"source_test_label_accuracy\": source_test_label_accuracy,\n",
    "        \"source_test_label_loss\": source_test_label_loss,\n",
    "        \"target_test_label_accuracy\": target_test_label_accuracy,\n",
    "        \"target_test_label_loss\": target_test_label_loss,\n",
    "        \"source_val_label_accuracy\": source_val_label_accuracy,\n",
    "        \"source_val_label_loss\": source_val_label_loss,\n",
    "        \"target_val_label_accuracy\": target_val_label_accuracy,\n",
    "        \"target_val_label_loss\": target_val_label_loss,\n",
    "        \"total_epochs_trained\": total_epochs_trained,\n",
    "        \"total_experiment_time_secs\": total_experiment_time_secs,\n",
    "        \"confusion\": confusion,\n",
    "        \"per_domain_accuracy\": per_domain_accuracy,\n",
    "    },\n",
    "    \"history\": history,\n",
    "    \"dataset_metrics\": get_dataset_metrics(datasets, \"ptn\"),\n",
    "}"
   ]
  },
  {
   "cell_type": "code",
   "execution_count": 25,
   "id": "54a21829",
   "metadata": {
    "execution": {
     "iopub.execute_input": "2022-03-25T14:28:17.322205Z",
     "iopub.status.busy": "2022-03-25T14:28:17.321926Z",
     "iopub.status.idle": "2022-03-25T14:28:17.446198Z",
     "shell.execute_reply": "2022-03-25T14:28:17.446578Z"
    },
    "papermill": {
     "duration": 0.151332,
     "end_time": "2022-03-25T14:28:17.446694",
     "exception": false,
     "start_time": "2022-03-25T14:28:17.295362",
     "status": "completed"
    },
    "tags": []
   },
   "outputs": [
    {
     "data": {
      "image/png": "[encoded data removed]",
      "text/plain": [
       "<Figure size 1080x504 with 1 Axes>"
      ]
     },
     "metadata": {
      "needs_background": "light"
     },
     "output_type": "display_data"
    }
   ],
   "source": [
    "ax = get_loss_curve(experiment)\n",
    "plt.show()"
   ]
  },
  {
   "cell_type": "code",
   "execution_count": 26,
   "id": "fd8a0f60",
   "metadata": {
    "execution": {
     "iopub.execute_input": "2022-03-25T14:28:17.503561Z",
     "iopub.status.busy": "2022-03-25T14:28:17.503305Z",
     "iopub.status.idle": "2022-03-25T14:28:17.646128Z",
     "shell.execute_reply": "2022-03-25T14:28:17.646418Z"
    },
    "papermill": {
     "duration": 0.170519,
     "end_time": "2022-03-25T14:28:17.646505",
     "exception": false,
     "start_time": "2022-03-25T14:28:17.475986",
     "status": "completed"
    },
    "tags": []
   },
   "outputs": [
    {
     "data": {
      "text/plain": [
       "<AxesSubplot:title={'center':'Results'}>"
      ]
     },
     "execution_count": 26,
     "metadata": {},
     "output_type": "execute_result"
    },
    {
     "data": {
      "image/png": "[encoded data removed]",
      "text/plain": [
       "<Figure size 1080x504 with 1 Axes>"
      ]
     },
     "metadata": {
      "needs_background": "light"
     },
     "output_type": "display_data"
    }
   ],
   "source": [
    "get_results_table(experiment)"
   ]
  },
  {
   "cell_type": "code",
   "execution_count": 27,
   "id": "cf8dc689",
   "metadata": {
    "execution": {
     "iopub.execute_input": "2022-03-25T14:28:17.716137Z",
     "iopub.status.busy": "2022-03-25T14:28:17.715882Z",
     "iopub.status.idle": "2022-03-25T14:28:17.850722Z",
     "shell.execute_reply": "2022-03-25T14:28:17.850242Z"
    },
    "papermill": {
     "duration": 0.167873,
     "end_time": "2022-03-25T14:28:17.850823",
     "exception": false,
     "start_time": "2022-03-25T14:28:17.682950",
     "status": "completed"
    },
    "tags": []
   },
   "outputs": [
    {
     "data": {
      "text/plain": [
       "<AxesSubplot:title={'center':'Per Domain Validation Accuracy'}, xlabel='domain'>"
      ]
     },
     "execution_count": 27,
     "metadata": {},
     "output_type": "execute_result"
    },
    {
     "data": {
      "image/png": "[encoded data removed]",
      "text/plain": [
       "<Figure size 1080x504 with 1 Axes>"
      ]
     },
     "metadata": {
      "needs_background": "light"
     },
     "output_type": "display_data"
    }
   ],
   "source": [
    "get_domain_accuracies(experiment)"
   ]
  },
  {
   "cell_type": "code",
   "execution_count": 28,
   "id": "a74ae082",
   "metadata": {
    "execution": {
     "iopub.execute_input": "2022-03-25T14:28:17.912200Z",
     "iopub.status.busy": "2022-03-25T14:28:17.911825Z",
     "iopub.status.idle": "2022-03-25T14:28:17.927105Z",
     "shell.execute_reply": "2022-03-25T14:28:17.926710Z"
    },
    "papermill": {
     "duration": 0.044993,
     "end_time": "2022-03-25T14:28:17.927194",
     "exception": false,
     "start_time": "2022-03-25T14:28:17.882201",
     "status": "completed"
    },
    "tags": []
   },
   "outputs": [
    {
     "name": "stdout",
     "output_type": "stream",
     "text": [
      "Source Test Label Accuracy: 0.539453125 Target Test Label Accuracy: 0.5700491573033708\n",
      "Source Val Label Accuracy: 0.53857421875 Target Val Label Accuracy: 0.5683214285714285\n"
     ]
    }
   ],
   "source": [
    "print(\"Source Test Label Accuracy:\", experiment[\"results\"][\"source_test_label_accuracy\"], \"Target Test Label Accuracy:\", experiment[\"results\"][\"target_test_label_accuracy\"])\n",
    "print(\"Source Val Label Accuracy:\", experiment[\"results\"][\"source_val_label_accuracy\"], \"Target Val Label Accuracy:\", experiment[\"results\"][\"target_val_label_accuracy\"])"
   ]
  },
  {
   "cell_type": "code",
   "execution_count": 29,
   "id": "dacca602",
   "metadata": {
    "execution": {
     "iopub.execute_input": "2022-03-25T14:28:17.988113Z",
     "iopub.status.busy": "2022-03-25T14:28:17.987781Z",
     "iopub.status.idle": "2022-03-25T14:28:18.011232Z",
     "shell.execute_reply": "2022-03-25T14:28:18.011605Z"
    },
    "papermill": {
     "duration": 0.053591,
     "end_time": "2022-03-25T14:28:18.011709",
     "exception": false,
     "start_time": "2022-03-25T14:28:17.958118",
     "status": "completed"
    },
    "tags": [
     "experiment_json"
    ]
   },
   "outputs": [
    {
     "data": {
      "text/plain": [
       "'{\"experiment_name\": \"tl_3Av2:oracle.run1.framed -> cores\", \"parameters\": {\"experiment_name\": \"tl_3Av2:oracle.run1.framed -> cores\", \"device\": \"cuda\", \"lr\": 0.0001, \"x_shape\": [2, 200], \"n_shot\": 3, \"n_query\": 2, \"train_k_factor\": 3, \"val_k_factor\": 2, \"test_k_factor\": 2, \"torch_default_dtype\": \"torch.float32\", \"n_epoch\": 50, \"patience\": 3, \"criteria_for_best\": \"target_accuracy\", \"x_net\": [{\"class\": \"nnReshape\", \"kargs\": {\"shape\": [-1, 1, 2, 200]}}, {\"class\": \"Conv2d\", \"kargs\": {\"in_channels\": 1, \"out_channels\": 256, \"kernel_size\": [1, 7], \"bias\": false, \"padding\": [0, 3]}}, {\"class\": \"ReLU\", \"kargs\": {\"inplace\": true}}, {\"class\": \"BatchNorm2d\", \"kargs\": {\"num_features\": 256}}, {\"class\": \"Conv2d\", \"kargs\": {\"in_channels\": 256, \"out_channels\": 80, \"kernel_size\": [2, 7], \"bias\": true, \"padding\": [0, 3]}}, {\"class\": \"ReLU\", \"kargs\": {\"inplace\": true}}, {\"class\": \"BatchNorm2d\", \"kargs\": {\"num_features\": 80}}, {\"class\": \"Flatten\", \"kargs\": {}}, {\"class\": \"Linear\", \"kargs\": {\"in_features\": 16000, \"out_features\": 256}}, {\"class\": \"ReLU\", \"kargs\": {\"inplace\": true}}, {\"class\": \"BatchNorm1d\", \"kargs\": {\"num_features\": 256}}, {\"class\": \"Linear\", \"kargs\": {\"in_features\": 256, \"out_features\": 256}}], \"NUM_LOGS_PER_EPOCH\": 10, \"BEST_MODEL_PATH\": \"./best_model.pth\", \"n_way\": 16, \"datasets\": [{\"labels\": [\"1-10.\", \"1-11.\", \"1-15.\", \"1-16.\", \"1-17.\", \"1-18.\", \"1-19.\", \"10-4.\", \"10-7.\", \"11-1.\", \"11-14.\", \"11-17.\", \"11-20.\", \"11-7.\", \"13-20.\", \"13-8.\", \"14-10.\", \"14-11.\", \"14-14.\", \"14-7.\", \"15-1.\", \"15-20.\", \"16-1.\", \"16-16.\", \"17-10.\", \"17-11.\", \"17-2.\", \"19-1.\", \"19-16.\", \"19-19.\", \"19-20.\", \"19-3.\", \"2-10.\", \"2-11.\", \"2-17.\", \"2-18.\", \"2-20.\", \"2-3.\", \"2-4.\", \"2-5.\", \"2-6.\", \"2-7.\", \"2-8.\", \"3-13.\", \"3-18.\", \"3-3.\", \"4-1.\", \"4-10.\", \"4-11.\", \"4-19.\", \"5-5.\", \"6-15.\", \"7-10.\", \"7-14.\", \"8-18.\", \"8-20.\", \"8-3.\", \"8-8.\"], \"domains\": [1, 2, 3, 4, 5], \"num_examples_per_domain_per_label\": -1, \"pickle_path\": \"/mnt/wd500GB/CSC500/csc500-main/datasets/cores.stratified_ds.2022A.pkl\", \"source_or_target_dataset\": \"target\", \"x_transforms\": [\"take_200\"], \"episode_transforms\": [], \"domain_prefix\": \"C_\"}, {\"labels\": [\"3123D52\", \"3123D65\", \"3123D79\", \"3123D80\", \"3123D54\", \"3123D70\", \"3123D7B\", \"3123D89\", \"3123D58\", \"3123D76\", \"3123D7D\", \"3123EFE\", \"3123D64\", \"3123D78\", \"3123D7E\", \"3124E4A\"], \"domains\": [32, 38, 8, 44, 14, 50, 20, 26], \"num_examples_per_domain_per_label\": 2000, \"pickle_path\": \"/mnt/wd500GB/CSC500/csc500-main/datasets/oracle.Run1_framed_2000Examples_stratified_ds.2022A.pkl\", \"source_or_target_dataset\": \"source\", \"x_transforms\": [\"take_200\", \"resample_20Msps_to_25Msps\"], \"episode_transforms\": [], \"domain_prefix\": \"O_\"}], \"seed\": 500, \"dataset_seed\": 500, \"domains_source\": [\"O_32\", \"O_38\", \"O_8\", \"O_44\", \"O_14\", \"O_50\", \"O_20\", \"O_26\"], \"domains_target\": [\"C_1\", \"C_2\", \"C_3\", \"C_4\", \"C_5\"]}, \"results\": {\"source_test_label_accuracy\": 0.539453125, \"source_test_label_loss\": 511.7668151855469, \"target_test_label_accuracy\": 0.5700491573033708, \"target_test_label_loss\": 16242.279296875, \"source_val_label_accuracy\": 0.53857421875, \"source_val_label_loss\": 512.8569946289062, \"target_val_label_accuracy\": 0.5683214285714285, \"target_val_label_loss\": 16205.7978515625, \"total_epochs_trained\": 5, \"total_experiment_time_secs\": 839.2610535621643, \"confusion\": {\"O_50\": {\"7\": {\"7\": 227, \"5\": 9, \"4\": 4}, \"10\": {\"10\": 232, \"8\": 4, \"0\": 4}, \"0\": {\"0\": 220, \"2\": 16, \"10\": 4}, \"11\": {\"11\": 217, \"12\": 5, \"15\": 10, \"9\": 8}, \"2\": {\"2\": 232, \"0\": 8}, \"14\": {\"14\": 240}, \"9\": {\"11\": 20, \"9\": 177, \"12\": 43}, \"13\": {\"13\": 236, \"1\": 4}, \"8\": {\"8\": 239, \"10\": 1}, \"15\": {\"15\": 222, \"6\": 15, \"11\": 3}, \"4\": {\"4\": 196, \"7\": 23, \"5\": 9, \"6\": 4, \"15\": 8}, \"5\": {\"4\": 11, \"7\": 70, \"5\": 112, \"15\": 2, \"1\": 7, \"13\": 6, \"6\": 32}, \"3\": {\"3\": 240}, \"1\": {\"1\": 238, \"13\": 2}, \"6\": {\"6\": 196, \"15\": 13, \"5\": 31}, \"12\": {\"12\": 221, \"11\": 5, \"9\": 14}}, \"O_14\": {\"14\": {\"3\": 29, \"14\": 28, \"0\": 17, \"2\": 35, \"8\": 26, \"10\": 11, \"5\": 15, \"6\": 25, \"13\": 28, \"15\": 5, \"4\": 10, \"7\": 9, \"1\": 2}, \"6\": {\"15\": 43, \"13\": 42, \"14\": 25, \"6\": 39, \"3\": 31, \"2\": 13, \"7\": 5, \"5\": 2, \"8\": 15, \"0\": 19, \"4\": 2, \"10\": 4}, \"5\": {\"10\": 23, \"5\": 38, \"8\": 7, \"13\": 16, \"2\": 25, \"14\": 18, \"4\": 55, \"0\": 8, \"6\": 13, \"7\": 21, \"3\": 8, \"1\": 8}, \"15\": {\"15\": 225, \"13\": 5, \"3\": 4, \"6\": 4, \"14\": 1, \"0\": 1}, \"11\": {\"1\": 33, \"11\": 200, \"9\": 5, \"10\": 2}, \"8\": {\"6\": 16, \"8\": 36, \"3\": 33, \"0\": 24, \"5\": 15, \"13\": 24, \"10\": 28, \"14\": 18, \"7\": 4, \"9\": 14, \"15\": 2, \"2\": 16, \"4\": 10}, \"12\": {\"12\": 148, \"8\": 8, \"3\": 10, \"9\": 27, \"0\": 18, \"15\": 14, \"10\": 3, \"6\": 6, \"13\": 5, \"5\": 1}, \"1\": {\"1\": 145, \"4\": 35, \"10\": 7, \"11\": 25, \"5\": 9, \"7\": 12, \"9\": 1, \"13\": 1, \"2\": 5}, \"2\": {\"13\": 15, \"10\": 21, \"0\": 5, \"14\": 24, \"5\": 28, \"4\": 42, \"6\": 20, \"8\": 12, \"2\": 28, \"15\": 7, \"7\": 15, \"3\": 17, \"1\": 6}, \"13\": {\"0\": 21, \"5\": 17, \"6\": 24, \"3\": 24, \"13\": 29, \"10\": 8, \"14\": 23, \"8\": 10, \"7\": 5, \"15\": 43, \"4\": 10, \"2\": 26}, \"3\": {\"15\": 46, \"3\": 37, \"8\": 24, \"6\": 29, \"13\": 26, \"2\": 6, \"0\": 30, \"10\": 1, \"14\": 28, \"7\": 4, \"5\": 7, \"4\": 2}, \"0\": {\"15\": 47, \"2\": 9, \"14\": 22, \"0\": 48, \"8\": 30, \"13\": 18, \"6\": 15, \"3\": 31, \"5\": 9, \"10\": 6, \"9\": 2, \"7\": 1, \"4\": 2}, \"9\": {\"9\": 117, \"0\": 14, \"8\": 20, \"4\": 9, \"2\": 3, \"6\": 1, \"10\": 34, \"1\": 16, \"12\": 14, \"14\": 5, \"5\": 3, \"3\": 2, \"11\": 2}, \"4\": {\"10\": 42, \"13\": 5, \"1\": 36, \"2\": 22, \"4\": 65, \"14\": 12, \"5\": 28, \"7\": 17, \"8\": 6, \"9\": 2, \"6\": 4, \"3\": 1}, \"7\": {\"4\": 60, \"7\": 50, \"5\": 33, \"14\": 13, \"2\": 31, \"6\": 17, \"8\": 3, \"0\": 1, \"13\": 11, \"10\": 9, \"3\": 10, \"1\": 2}, \"10\": {\"1\": 24, \"10\": 68, \"4\": 46, \"14\": 14, \"2\": 15, \"5\": 18, \"6\": 7, \"3\": 5, \"0\": 11, \"13\": 7, \"9\": 7, \"7\": 7, \"8\": 11}}, \"O_32\": {\"4\": {\"2\": 56, \"4\": 170, \"14\": 4, \"13\": 9, \"8\": 1}, \"14\": {\"14\": 125, \"7\": 49, \"0\": 5, \"4\": 23, \"2\": 5, \"8\": 10, \"5\": 16, \"13\": 7}, \"5\": {\"7\": 54, \"5\": 95, \"8\": 29, \"0\": 38, \"14\": 24}, \"10\": {\"6\": 50, \"10\": 59, \"12\": 93, \"1\": 37, \"9\": 1}, \"13\": {\"13\": 140, \"3\": 59, \"4\": 31, \"11\": 8, \"14\": 2}, \"9\": {\"9\": 229, \"12\": 6, \"2\": 4, \"4\": 1}, \"6\": {\"6\": 128, \"10\": 63, \"1\": 11, \"12\": 37, \"9\": 1}, \"3\": {\"13\": 51, \"3\": 184, \"11\": 5}, \"15\": {\"15\": 234, \"8\": 6}, \"7\": {\"7\": 137, \"0\": 47, \"5\": 29, \"8\": 5, \"14\": 22}, \"12\": {\"12\": 240}, \"8\": {\"5\": 31, \"8\": 141, \"4\": 13, \"0\": 27, \"7\": 16, \"14\": 11, \"2\": 1}, \"11\": {\"11\": 141, \"3\": 87, \"13\": 12}, \"2\": {\"2\": 176, \"14\": 3, \"0\": 19, \"4\": 38, \"7\": 3, \"8\": 1}, \"1\": {\"10\": 17, \"1\": 152, \"12\": 66, \"6\": 5}, \"0\": {\"0\": 176, \"7\": 39, \"5\": 12, \"14\": 3, \"8\": 10}}, \"O_44\": {\"8\": {\"0\": 67, \"8\": 154, \"15\": 8, \"5\": 11}, \"11\": {\"11\": 240}, \"14\": {\"14\": 181, \"4\": 42, \"5\": 6, \"15\": 11}, \"10\": {\"10\": 226, \"7\": 9, \"1\": 4, \"2\": 1}, \"3\": {\"3\": 208, \"1\": 12, \"12\": 20}, \"15\": {\"15\": 193, \"14\": 22, \"5\": 13, \"8\": 9, \"4\": 2, \"0\": 1}, \"2\": {\"2\": 231, \"1\": 8, \"10\": 1}, \"12\": {\"12\": 227, \"3\": 13}, \"4\": {\"14\": 84, \"4\": 144, \"15\": 10, \"9\": 1, \"5\": 1}, \"1\": {\"1\": 228, \"2\": 11, \"3\": 1}, \"0\": {\"0\": 196, \"8\": 41, \"15\": 3}, \"9\": {\"6\": 37, \"7\": 79, \"9\": 110, \"13\": 10, \"4\": 2, \"2\": 2}, \"5\": {\"5\": 200, \"14\": 18, \"15\": 17, \"8\": 4, \"4\": 1}, \"6\": {\"6\": 193, \"9\": 18, \"13\": 28, \"7\": 1}, \"7\": {\"9\": 36, \"7\": 202, \"10\": 2}, \"13\": {\"13\": 196, \"6\": 35, \"11\": 1, \"9\": 8}}, \"O_8\": {\"13\": {\"7\": 28, \"6\": 18, \"14\": 9, \"10\": 29, \"11\": 34, \"13\": 34, \"15\": 10, \"2\": 7, \"1\": 29, \"4\": 18, \"5\": 10, \"8\": 4, \"12\": 9, \"3\": 1}, \"3\": {\"3\": 119, \"2\": 59, \"15\": 37, \"9\": 10, \"12\": 15}, \"15\": {\"15\": 66, \"12\": 56, \"2\": 46, \"13\": 3, \"3\": 54, \"6\": 4, \"7\": 8, \"8\": 1, \"11\": 2}, \"4\": {\"10\": 13, \"13\": 19, \"14\": 65, \"4\": 49, \"7\": 16, \"6\": 21, \"11\": 20, \"1\": 16, \"8\": 12, \"0\": 5, \"5\": 3, \"15\": 1}, \"7\": {\"1\": 9, \"15\": 4, \"12\": 23, \"4\": 28, \"7\": 43, \"8\": 31, \"6\": 32, \"11\": 14, \"14\": 12, \"13\": 27, \"5\": 3, \"10\": 11, \"2\": 3}, \"2\": {\"12\": 47, \"3\": 67, \"2\": 53, \"15\": 59, \"13\": 5, \"7\": 7, \"9\": 1, \"6\": 1}, \"1\": {\"7\": 11, \"13\": 30, \"5\": 24, \"4\": 27, \"10\": 20, \"11\": 36, \"15\": 9, \"12\": 10, \"1\": 39, \"2\": 4, \"14\": 14, \"6\": 15, \"8\": 1}, \"0\": {\"14\": 33, \"0\": 186, \"1\": 1, \"4\": 13, \"8\": 4, \"11\": 3}, \"12\": {\"15\": 62, \"2\": 40, \"12\": 84, \"3\": 29, \"7\": 7, \"6\": 8, \"13\": 4, \"10\": 1, \"8\": 4, \"1\": 1}, \"6\": {\"1\": 17, \"11\": 16, \"7\": 32, \"12\": 15, \"6\": 42, \"10\": 13, \"15\": 5, \"13\": 25, \"14\": 22, \"8\": 20, \"2\": 3, \"4\": 29, \"5\": 1}, \"11\": {\"15\": 6, \"1\": 27, \"13\": 24, \"6\": 18, \"11\": 31, \"7\": 12, \"14\": 26, \"5\": 24, \"10\": 20, \"4\": 35, \"2\": 3, \"12\": 7, \"8\": 6, \"0\": 1}, \"9\": {\"9\": 235, \"3\": 4, \"2\": 1}, \"5\": {\"5\": 68, \"13\": 23, \"14\": 15, \"4\": 8, \"1\": 27, \"2\": 9, \"10\": 35, \"9\": 4, \"15\": 13, \"11\": 24, \"6\": 3, \"12\": 7, \"7\": 3, \"0\": 1}, \"10\": {\"1\": 34, \"11\": 30, \"10\": 36, \"7\": 10, \"14\": 22, \"13\": 35, \"5\": 29, \"15\": 12, \"4\": 12, \"6\": 11, \"2\": 1, \"12\": 8}, \"14\": {\"4\": 48, \"14\": 77, \"7\": 4, \"0\": 24, \"6\": 18, \"5\": 2, \"1\": 11, \"13\": 18, \"10\": 12, \"11\": 21, \"8\": 5}, \"8\": {\"6\": 33, \"7\": 42, \"0\": 4, \"11\": 10, \"4\": 42, \"8\": 64, \"15\": 4, \"13\": 12, \"12\": 11, \"14\": 13, \"10\": 4, \"1\": 1}}, \"O_20\": {\"6\": {\"7\": 25, \"11\": 17, \"8\": 17, \"10\": 54, \"6\": 40, \"2\": 16, \"14\": 19, \"12\": 9, \"5\": 1, \"4\": 19, \"9\": 11, \"3\": 3, \"13\": 8, \"1\": 1}, \"11\": {\"0\": 29, \"5\": 14, \"11\": 58, \"8\": 36, \"3\": 14, \"4\": 10, \"6\": 14, \"14\": 27, \"12\": 4, \"7\": 11, \"2\": 6, \"9\": 9, \"15\": 4, \"1\": 3, \"10\": 1}, \"5\": {\"0\": 44, \"15\": 25, \"8\": 15, \"13\": 17, \"11\": 27, \"5\": 18, \"12\": 18, \"3\": 15, \"14\": 6, \"2\": 11, \"1\": 23, \"4\": 10, \"7\": 5, \"9\": 6}, \"14\": {\"14\": 30, \"8\": 28, \"11\": 42, \"6\": 20, \"7\": 22, \"10\": 17, \"4\": 13, \"0\": 15, \"3\": 11, \"12\": 7, \"2\": 8, \"5\": 6, \"9\": 9, \"13\": 5, \"1\": 4, \"15\": 3}, \"2\": {\"10\": 22, \"1\": 10, \"14\": 11, \"9\": 12, \"11\": 14, \"7\": 24, \"2\": 26, \"13\": 30, \"3\": 8, \"5\": 6, \"12\": 24, \"4\": 19, \"6\": 10, \"15\": 6, \"8\": 16, \"0\": 2}, \"7\": {\"13\": 27, \"9\": 17, \"14\": 13, \"7\": 29, \"2\": 26, \"8\": 11, \"4\": 21, \"6\": 15, \"5\": 7, \"12\": 17, \"0\": 2, \"10\": 28, \"11\": 17, \"3\": 8, \"1\": 2}, \"3\": {\"11\": 28, \"8\": 18, \"12\": 23, \"14\": 7, \"15\": 14, \"5\": 26, \"13\": 3, \"9\": 16, \"0\": 33, \"2\": 11, \"3\": 26, \"7\": 12, \"4\": 11, \"1\": 8, \"10\": 4}, \"4\": {\"5\": 5, \"11\": 19, \"13\": 23, \"15\": 4, \"14\": 18, \"7\": 15, \"10\": 26, \"12\": 16, \"4\": 19, \"6\": 14, \"2\": 24, \"8\": 12, \"1\": 9, \"3\": 12, \"9\": 16, \"0\": 8}, \"9\": {\"8\": 13, \"0\": 8, \"9\": 18, \"1\": 10, \"4\": 15, \"13\": 16, \"2\": 21, \"5\": 14, \"11\": 21, \"3\": 22, \"12\": 27, \"14\": 11, \"6\": 5, \"15\": 12, \"7\": 18, \"10\": 9}, \"12\": {\"11\": 8, \"3\": 10, \"1\": 24, \"5\": 17, \"0\": 5, \"15\": 26, \"13\": 27, \"10\": 11, \"2\": 23, \"8\": 16, \"9\": 16, \"14\": 9, \"12\": 28, \"4\": 13, \"6\": 3, \"7\": 4}, \"0\": {\"1\": 22, \"0\": 105, \"15\": 16, \"5\": 25, \"8\": 16, \"11\": 22, \"3\": 15, \"14\": 1, \"2\": 5, \"7\": 1, \"12\": 6, \"9\": 3, \"13\": 2, \"4\": 1}, \"10\": {\"10\": 73, \"14\": 16, \"8\": 10, \"7\": 25, \"4\": 21, \"6\": 41, \"13\": 21, \"9\": 7, \"3\": 4, \"11\": 9, \"12\": 6, \"2\": 7}, \"8\": {\"9\": 12, \"0\": 28, \"6\": 10, \"11\": 36, \"8\": 23, \"14\": 19, \"4\": 14, \"3\": 29, \"15\": 3, \"7\": 16, \"2\": 11, \"13\": 3, \"12\": 13, \"10\": 8, \"1\": 5, \"5\": 10}, \"13\": {\"9\": 9, \"7\": 19, \"3\": 16, \"13\": 57, \"14\": 4, \"10\": 21, \"1\": 6, \"5\": 10, \"0\": 3, \"4\": 19, \"12\": 29, \"2\": 21, \"6\": 4, \"8\": 6, \"15\": 10, \"11\": 6}, \"1\": {\"0\": 28, \"3\": 17, \"7\": 13, \"14\": 3, \"15\": 17, \"12\": 28, \"9\": 17, \"5\": 34, \"13\": 13, \"11\": 10, \"1\": 25, \"8\": 13, \"2\": 12, \"4\": 7, \"6\": 1, \"10\": 2}, \"15\": {\"15\": 37, \"9\": 18, \"13\": 28, \"12\": 21, \"0\": 20, \"1\": 25, \"5\": 17, \"8\": 4, \"2\": 17, \"3\": 20, \"7\": 6, \"14\": 5, \"11\": 11, \"4\": 7, \"6\": 1, \"10\": 3}}, \"O_38\": {\"3\": {\"3\": 240}, \"8\": {\"8\": 131, \"5\": 73, \"7\": 21, \"15\": 13, \"0\": 1, \"13\": 1}, \"0\": {\"0\": 171, \"7\": 28, \"10\": 18, \"3\": 8, \"13\": 12, \"8\": 3}, \"2\": {\"14\": 22, \"2\": 218}, \"4\": {\"4\": 238, \"10\": 2}, \"7\": {\"7\": 233, \"0\": 2, \"8\": 5}, \"12\": {\"12\": 240}, \"6\": {\"6\": 239, \"1\": 1}, \"15\": {\"15\": 231, \"8\": 1, \"5\": 5, \"1\": 3}, \"11\": {\"11\": 231, \"3\": 7, \"10\": 2}, \"9\": {\"9\": 238, \"5\": 2}, \"14\": {\"14\": 221, \"2\": 19}, \"10\": {\"10\": 218, \"0\": 16, \"4\": 2, \"13\": 4}, \"5\": {\"5\": 135, \"8\": 67, \"7\": 14, \"9\": 16, \"15\": 6, \"10\": 1, \"0\": 1}, \"1\": {\"1\": 240}, \"13\": {\"10\": 11, \"13\": 225, \"2\": 1, \"0\": 3}}, \"O_26\": {\"5\": {\"5\": 52, \"0\": 15, \"6\": 44, \"15\": 35, \"14\": 28, \"1\": 41, \"9\": 1, \"7\": 1, \"10\": 16, \"8\": 4, \"2\": 1, \"11\": 1, \"12\": 1}, \"8\": {\"13\": 24, \"8\": 27, \"4\": 12, \"9\": 24, \"7\": 29, \"14\": 16, \"2\": 24, \"3\": 21, \"5\": 4, \"0\": 30, \"1\": 2, \"12\": 9, \"10\": 12, \"15\": 4, \"6\": 2}, \"4\": {\"3\": 41, \"4\": 97, \"7\": 23, \"13\": 39, \"2\": 8, \"9\": 13, \"8\": 11, \"10\": 1, \"0\": 4, \"12\": 2, \"14\": 1}, \"12\": {\"9\": 22, \"4\": 3, \"8\": 14, \"6\": 36, \"14\": 7, \"12\": 48, \"7\": 10, \"0\": 12, \"13\": 14, \"10\": 18, \"15\": 13, \"1\": 16, \"5\": 11, \"3\": 5, \"2\": 7, \"11\": 4}, \"6\": {\"6\": 75, \"5\": 36, \"15\": 20, \"1\": 66, \"8\": 1, \"0\": 6, \"11\": 9, \"12\": 3, \"10\": 12, \"14\": 11, \"2\": 1}, \"7\": {\"4\": 17, \"13\": 25, \"2\": 26, \"9\": 26, \"7\": 33, \"14\": 16, \"8\": 23, \"0\": 20, \"15\": 5, \"3\": 36, \"10\": 8, \"5\": 2, \"12\": 2, \"6\": 1}, \"10\": {\"15\": 31, \"5\": 29, \"1\": 41, \"6\": 36, \"12\": 2, \"0\": 22, \"14\": 31, \"10\": 31, \"9\": 5, \"2\": 3, \"8\": 7, \"7\": 1, \"13\": 1}, \"0\": {\"13\": 3, \"14\": 27, \"1\": 24, \"15\": 25, \"2\": 15, \"9\": 13, \"5\": 26, \"8\": 13, \"6\": 19, \"10\": 24, \"0\": 37, \"7\": 13, \"12\": 1}, \"15\": {\"15\": 41, \"5\": 30, \"1\": 47, \"0\": 22, \"10\": 23, \"6\": 34, \"14\": 28, \"8\": 4, \"7\": 2, \"2\": 5, \"12\": 1, \"11\": 1, \"9\": 2}, \"9\": {\"14\": 19, \"13\": 26, \"9\": 28, \"8\": 21, \"3\": 14, \"15\": 9, \"7\": 27, \"2\": 27, \"0\": 20, \"10\": 16, \"12\": 8, \"6\": 6, \"5\": 5, \"4\": 13, \"1\": 1}, \"11\": {\"5\": 6, \"11\": 165, \"6\": 28, \"15\": 9, \"1\": 24, \"0\": 2, \"10\": 3, \"12\": 3}, \"14\": {\"7\": 4, \"15\": 37, \"1\": 40, \"0\": 30, \"14\": 39, \"5\": 32, \"2\": 9, \"10\": 21, \"6\": 22, \"8\": 4, \"9\": 1, \"12\": 1}, \"2\": {\"4\": 6, \"15\": 7, \"9\": 45, \"3\": 24, \"8\": 20, \"1\": 2, \"7\": 21, \"2\": 27, \"14\": 14, \"0\": 29, \"13\": 20, \"10\": 15, \"5\": 5, \"12\": 5}, \"13\": {\"4\": 44, \"3\": 40, \"8\": 22, \"9\": 23, \"13\": 44, \"14\": 5, \"2\": 16, \"7\": 24, \"0\": 10, \"12\": 2, \"10\": 7, \"1\": 1, \"6\": 1, \"5\": 1}, \"3\": {\"9\": 24, \"2\": 21, \"4\": 66, \"7\": 22, \"8\": 17, \"13\": 37, \"14\": 4, \"3\": 32, \"0\": 9, \"10\": 6, \"15\": 1, \"5\": 1}, \"1\": {\"5\": 25, \"1\": 80, \"0\": 9, \"15\": 20, \"14\": 18, \"10\": 16, \"6\": 65, \"8\": 2, \"11\": 3, \"2\": 2}}, \"C_4\": {\"38\": {\"7\": 1, \"38\": 30, \"14\": 1, \"2\": 1, \"33\": 1, \"17\": 1, \"42\": 1, \"55\": 2, \"32\": 1, \"8\": 1}, \"3\": {\"3\": 66, \"52\": 3, \"45\": 8, \"12\": 2, \"44\": 4, \"30\": 4, \"50\": 12, \"5\": 6, \"46\": 6, \"0\": 2, \"6\": 8, \"22\": 3}, \"24\": {\"24\": 28, \"15\": 4, \"32\": 1, \"41\": 2, \"54\": 3, \"55\": 2, \"23\": 4, \"43\": 3, \"42\": 2, \"49\": 2, \"28\": 1, \"10\": 1, \"34\": 1, \"31\": 1, \"53\": 1}, \"49\": {\"49\": 8, \"38\": 1, \"55\": 1, \"42\": 1, \"43\": 3, \"34\": 1, \"17\": 3, \"24\": 1, \"36\": 1}, \"7\": {\"7\": 15, \"36\": 1, \"28\": 1, \"42\": 1, \"55\": 1, \"17\": 1, \"49\": 1, \"34\": 1, \"35\": 2}, \"17\": {\"38\": 4, \"36\": 7, \"17\": 23, \"9\": 1, \"48\": 1, \"23\": 3, \"29\": 3, \"33\": 4, \"54\": 1, \"16\": 1, \"13\": 7, \"51\": 1, \"19\": 1, \"20\": 1, \"24\": 2, \"43\": 3, \"47\": 1, \"55\": 3, \"57\": 1, \"7\": 2, \"14\": 1, \"2\": 2, \"8\": 1, \"56\": 2, \"27\": 2, \"32\": 1, \"35\": 1}, \"43\": {\"43\": 132, \"38\": 1, \"2\": 2, \"51\": 2, \"13\": 4, \"55\": 2, \"23\": 3, \"17\": 1, \"35\": 1}, \"30\": {\"30\": 31, \"46\": 1, \"47\": 2, \"3\": 3, \"5\": 2, \"52\": 1, \"6\": 3, \"0\": 1}, \"44\": {\"44\": 99, \"1\": 2, \"5\": 3, \"22\": 1, \"45\": 4, \"40\": 5, \"57\": 1, \"9\": 5, \"20\": 1, \"4\": 6, \"47\": 1, \"56\": 2, \"27\": 1, \"29\": 1}, \"23\": {\"17\": 8, \"49\": 2, \"23\": 50, \"54\": 7, \"35\": 3, \"16\": 8, \"11\": 6, \"10\": 8, \"53\": 4, \"42\": 2, \"43\": 11, \"51\": 6, \"27\": 1, \"25\": 3, \"55\": 3, \"24\": 2, \"36\": 2, \"15\": 8, \"19\": 1, \"13\": 2, \"34\": 1, \"18\": 2, \"31\": 1, \"41\": 3}, \"37\": {\"43\": 2, \"37\": 20, \"51\": 2}, \"4\": {\"44\": 24, \"57\": 6, \"4\": 61, \"5\": 1, \"40\": 5, \"9\": 7, \"3\": 2, \"50\": 2, \"22\": 2, \"48\": 4, \"29\": 2, \"56\": 7, \"13\": 1, \"47\": 2, \"30\": 1, \"27\": 2, \"45\": 2, \"6\": 1}, \"57\": {\"4\": 9, \"57\": 39, \"0\": 5, \"1\": 5, \"46\": 4, \"27\": 7, \"3\": 1, \"29\": 2, \"56\": 6, \"52\": 1, \"47\": 4, \"48\": 8, \"5\": 1, \"40\": 5, \"9\": 2, \"20\": 1}, \"16\": {\"18\": 7, \"16\": 46, \"10\": 15, \"15\": 7, \"23\": 3, \"54\": 2, \"32\": 1, \"11\": 8, \"53\": 2, \"25\": 3, \"31\": 1, \"43\": 1}, \"18\": {\"18\": 70, \"10\": 2, \"31\": 1, \"25\": 17, \"16\": 6, \"11\": 3, \"24\": 2, \"23\": 1, \"53\": 1, \"54\": 2, \"35\": 1, \"15\": 1, \"43\": 1}, \"20\": {\"20\": 71, \"12\": 4, \"13\": 3, \"21\": 18, \"8\": 12, \"52\": 6, \"47\": 2, \"46\": 4, \"30\": 1, \"9\": 2, \"50\": 1}, \"45\": {\"45\": 58, \"46\": 1, \"3\": 4, \"50\": 4, \"44\": 7, \"5\": 5, \"4\": 2, \"6\": 7, \"9\": 3, \"22\": 2, \"12\": 1, \"47\": 1, \"48\": 1}, \"15\": {\"15\": 79, \"28\": 1, \"7\": 1, \"32\": 1, \"11\": 5, \"10\": 7, \"17\": 2, \"23\": 7, \"54\": 5, \"24\": 5, \"16\": 3, \"51\": 2, \"25\": 8, \"53\": 4, \"18\": 2}, \"52\": {\"20\": 6, \"30\": 4, \"52\": 59, \"57\": 1, \"14\": 1, \"3\": 7, \"50\": 3, \"46\": 9, \"0\": 7, \"21\": 4, \"12\": 6, \"5\": 2, \"47\": 2, \"8\": 1, \"22\": 2, \"27\": 1, \"40\": 1}, \"19\": {\"19\": 101, \"2\": 1, \"26\": 2, \"29\": 2, \"55\": 7, \"35\": 7, \"17\": 2, \"36\": 2, \"23\": 6, \"10\": 1, \"33\": 2, \"7\": 1, \"53\": 1, \"38\": 2, \"54\": 3}, \"54\": {\"54\": 96, \"37\": 1, \"28\": 1, \"23\": 6, \"16\": 3, \"10\": 1}, \"56\": {\"56\": 65, \"1\": 5, \"4\": 9, \"27\": 4, \"8\": 2, \"40\": 19, \"48\": 8, \"57\": 6, \"0\": 1, \"47\": 3, \"46\": 2, \"29\": 4, \"22\": 1, \"9\": 1}, \"40\": {\"56\": 12, \"40\": 55, \"48\": 8, \"44\": 3, \"4\": 23, \"27\": 3, \"9\": 10, \"57\": 3, \"8\": 1, \"47\": 6, \"50\": 1, \"6\": 1, \"46\": 1, \"29\": 1, \"30\": 1, \"1\": 1, \"3\": 2, \"52\": 1, \"22\": 1}, \"28\": {\"54\": 4, \"16\": 3, \"28\": 10, \"7\": 1, \"11\": 1, \"26\": 6, \"34\": 4, \"25\": 1, \"18\": 1, \"24\": 1}, \"2\": {\"2\": 29, \"17\": 2, \"39\": 2, \"14\": 2, \"13\": 1}, \"9\": {\"0\": 5, \"9\": 38, \"44\": 10, \"48\": 9, \"22\": 10, \"29\": 2, \"6\": 2, \"27\": 7, \"40\": 4, \"4\": 9, \"20\": 1, \"47\": 5, \"56\": 2, \"46\": 3, \"57\": 3, \"1\": 2, \"45\": 4, \"3\": 3, \"8\": 1}, \"0\": {\"0\": 32, \"52\": 8, \"22\": 7, \"46\": 13, \"3\": 2, \"47\": 8, \"57\": 2, \"12\": 1, \"50\": 1, \"48\": 2, \"21\": 1, \"1\": 1, \"20\": 2}, \"36\": {\"36\": 86, \"27\": 1, \"54\": 1, \"43\": 1, \"29\": 1, \"38\": 1, \"10\": 1}, \"55\": {\"49\": 2, \"55\": 56, \"54\": 5, \"14\": 1, \"7\": 1, \"33\": 4, \"32\": 2, \"23\": 10, \"41\": 1, \"19\": 4, \"38\": 4, \"35\": 4, \"43\": 7, \"15\": 3, \"17\": 6, \"36\": 8, \"51\": 2, \"11\": 1, \"13\": 1, \"34\": 1, \"42\": 2, \"2\": 2, \"24\": 2, \"10\": 1}, \"35\": {\"55\": 4, \"35\": 21, \"36\": 3, \"33\": 1, \"49\": 1, \"19\": 3, \"16\": 1, \"2\": 1, \"13\": 1, \"38\": 2, \"23\": 1, \"17\": 1}, \"39\": {\"55\": 2, \"39\": 8, \"14\": 1, \"43\": 2, \"17\": 3, \"2\": 2, \"36\": 1, \"23\": 1}, \"31\": {\"31\": 20, \"34\": 1, \"16\": 2, \"49\": 1, \"10\": 2, \"11\": 2}, \"14\": {\"39\": 2, \"14\": 10, \"36\": 1, \"38\": 1, \"33\": 1, \"47\": 1}, \"12\": {\"12\": 66, \"8\": 4, \"21\": 5, \"52\": 6, \"1\": 1, \"3\": 3, \"50\": 2, \"57\": 1, \"20\": 1, \"48\": 1, \"5\": 1, \"46\": 1}, \"6\": {\"6\": 73, \"5\": 12, \"50\": 7, \"46\": 1, \"22\": 8, \"3\": 10, \"45\": 1}, \"26\": {\"34\": 2, \"26\": 15, \"11\": 1, \"7\": 2, \"32\": 1, \"54\": 1, \"55\": 1, \"42\": 1}, \"50\": {\"50\": 73, \"5\": 11, \"12\": 5, \"6\": 8, \"46\": 4, \"22\": 4, \"30\": 3, \"3\": 13, \"45\": 6, \"21\": 2, \"4\": 1, \"44\": 1, \"9\": 1}, \"21\": {\"21\": 72, \"30\": 3, \"6\": 4, \"12\": 8, \"50\": 9, \"46\": 2, \"52\": 3, \"8\": 5, \"20\": 5, \"27\": 1, \"3\": 6, \"22\": 1, \"47\": 1, \"1\": 1, \"45\": 1}, \"46\": {\"47\": 9, \"52\": 4, \"46\": 46, \"6\": 11, \"9\": 3, \"0\": 6, \"3\": 8, \"57\": 3, \"27\": 10, \"48\": 10, \"22\": 16, \"4\": 2, \"40\": 2, \"20\": 2, \"5\": 2, \"1\": 1, \"50\": 3, \"12\": 1, \"21\": 1}, \"51\": {\"41\": 2, \"51\": 84, \"36\": 5, \"27\": 3, \"43\": 8, \"47\": 2, \"17\": 4, \"13\": 13, \"8\": 8, \"55\": 4, \"23\": 2, \"2\": 2, \"37\": 1, \"20\": 1, \"35\": 1}, \"41\": {\"41\": 20, \"36\": 3, \"55\": 1, \"7\": 1, \"43\": 7, \"32\": 1, \"37\": 1, \"51\": 1, \"23\": 1}, \"34\": {\"34\": 19, \"54\": 2, \"23\": 1, \"42\": 1, \"24\": 1}, \"47\": {\"46\": 11, \"47\": 37, \"22\": 8, \"0\": 7, \"50\": 1, \"12\": 1, \"1\": 1, \"48\": 9, \"29\": 6, \"52\": 3, \"9\": 4, \"57\": 7, \"27\": 12, \"56\": 4, \"14\": 1, \"8\": 1, \"20\": 1, \"40\": 1, \"4\": 3, \"13\": 2}, \"5\": {\"45\": 5, \"3\": 12, \"44\": 2, \"5\": 55, \"46\": 4, \"6\": 10, \"30\": 2, \"52\": 2, \"50\": 9, \"22\": 5, \"0\": 2}, \"1\": {\"1\": 25, \"47\": 3, \"48\": 4, \"29\": 1, \"0\": 1, \"57\": 2, \"56\": 1, \"40\": 1, \"22\": 2}, \"48\": {\"48\": 60, \"27\": 10, \"1\": 2, \"40\": 11, \"47\": 10, \"9\": 9, \"57\": 8, \"4\": 4, \"17\": 2, \"22\": 1, \"56\": 5, \"0\": 2, \"13\": 4, \"46\": 2, \"29\": 2, \"8\": 1, \"44\": 1}, \"29\": {\"29\": 49, \"13\": 3, \"27\": 11, \"8\": 2, \"1\": 2, \"48\": 5, \"40\": 13, \"17\": 1, \"4\": 4, \"57\": 8, \"56\": 12, \"47\": 5, \"9\": 1, \"22\": 2}, \"22\": {\"22\": 64, \"47\": 3, \"6\": 17, \"46\": 9, \"5\": 8, \"12\": 1, \"9\": 7, \"3\": 8, \"57\": 1, \"0\": 2, \"48\": 3, \"30\": 2, \"50\": 2, \"45\": 1}, \"10\": {\"10\": 93, \"15\": 10, \"31\": 3, \"16\": 6, \"11\": 15, \"53\": 1, \"54\": 3, \"25\": 1}, \"32\": {\"7\": 2, \"32\": 12, \"33\": 1, \"17\": 2, \"34\": 2, \"55\": 1, \"37\": 1, \"42\": 2, \"2\": 1}, \"13\": {\"13\": 106, \"52\": 1, \"56\": 1, \"27\": 1, \"8\": 1, \"14\": 1, \"20\": 1}, \"42\": {\"7\": 5, \"13\": 1, \"49\": 1, \"28\": 1, \"42\": 15, \"38\": 1, \"24\": 2, \"36\": 3, \"54\": 1, \"17\": 2}, \"27\": {\"48\": 19, \"13\": 18, \"1\": 3, \"27\": 37, \"57\": 3, \"52\": 1, \"22\": 2, \"46\": 9, \"47\": 19, \"8\": 7, \"0\": 2, \"9\": 3, \"36\": 2, \"50\": 2, \"40\": 5, \"43\": 1, \"4\": 2, \"2\": 1, \"29\": 1, \"51\": 1}, \"8\": {\"8\": 71, \"48\": 2, \"12\": 3, \"13\": 9, \"21\": 8, \"46\": 4, \"27\": 12, \"0\": 3, \"20\": 16, \"52\": 5, \"9\": 3, \"51\": 2, \"47\": 3, \"50\": 1}, \"33\": {\"36\": 1, \"33\": 28, \"35\": 1, \"55\": 1, \"17\": 1, \"38\": 2, \"7\": 2}, \"25\": {\"25\": 91, \"18\": 14, \"31\": 2, \"53\": 2, \"10\": 8, \"24\": 1, \"16\": 8, \"15\": 3, \"11\": 2, \"23\": 1}, \"11\": {\"54\": 2, \"25\": 5, \"11\": 46, \"23\": 6, \"15\": 11, \"34\": 1, \"18\": 3, \"16\": 11, \"10\": 15, \"17\": 1, \"28\": 2, \"53\": 1}, \"53\": {\"53\": 80, \"11\": 5, \"10\": 7, \"23\": 3, \"19\": 1, \"15\": 6, \"16\": 3, \"55\": 1, \"51\": 3, \"37\": 1, \"43\": 2}}, \"C_2\": {\"32\": {\"32\": 21, \"29\": 3, \"33\": 1, \"14\": 1, \"41\": 1, \"27\": 1}, \"17\": {\"32\": 1, \"17\": 43, \"23\": 5, \"55\": 12, \"49\": 1, \"7\": 1, \"2\": 2, \"22\": 2, \"8\": 1, \"33\": 1, \"1\": 2, \"13\": 4, \"43\": 5, \"29\": 3, \"27\": 2, \"56\": 1, \"36\": 3, \"24\": 5, \"39\": 3, \"42\": 1, \"4\": 2, \"51\": 3, \"54\": 1}, \"38\": {\"38\": 17, \"32\": 1, \"13\": 1, \"41\": 1}, \"2\": {\"2\": 27, \"14\": 2, \"13\": 1, \"36\": 2}, \"43\": {\"43\": 95, \"20\": 1, \"34\": 2, \"13\": 10, \"55\": 19, \"7\": 2, \"17\": 5, \"2\": 1, \"51\": 2, \"23\": 3, \"36\": 2, \"24\": 1, \"15\": 1}, \"56\": {\"32\": 1, \"56\": 88, \"1\": 9, \"29\": 6, \"22\": 3, \"9\": 7, \"27\": 4, \"40\": 2, \"4\": 7, \"47\": 5, \"48\": 4, \"57\": 5, \"14\": 1, \"8\": 2}, \"37\": {\"37\": 34, \"53\": 1, \"36\": 1}, \"49\": {\"49\": 11, \"34\": 3, \"54\": 3, \"28\": 2, \"10\": 1, \"42\": 1, \"23\": 2, \"7\": 1}, \"0\": {\"0\": 19, \"47\": 1, \"57\": 4, \"27\": 1, \"8\": 1, \"6\": 5, \"48\": 4, \"40\": 1, \"3\": 3, \"12\": 2, \"5\": 5, \"46\": 1, \"45\": 1}, \"29\": {\"32\": 3, \"2\": 1, \"57\": 6, \"40\": 8, \"36\": 2, \"29\": 56, \"56\": 11, \"17\": 2, \"1\": 6, \"33\": 1, \"27\": 6, \"4\": 5, \"51\": 1, \"9\": 8, \"47\": 4, \"55\": 1, \"14\": 1, \"48\": 1, \"13\": 1, \"22\": 2, \"8\": 1, \"43\": 1}, \"35\": {\"35\": 29, \"19\": 2, \"55\": 1}, \"18\": {\"15\": 3, \"18\": 29, \"28\": 1, \"10\": 1, \"11\": 5, \"16\": 4, \"25\": 4, \"26\": 1}, \"25\": {\"25\": 88, \"15\": 2, \"26\": 2, \"10\": 2, \"16\": 18, \"11\": 18, \"18\": 2, \"54\": 3, \"53\": 1}, \"23\": {\"37\": 1, \"17\": 4, \"51\": 2, \"23\": 29, \"28\": 1, \"39\": 4, \"14\": 2, \"54\": 19, \"34\": 2, \"26\": 1, \"55\": 11, \"15\": 7, \"43\": 12, \"24\": 4, \"13\": 7, \"11\": 6, \"10\": 2, \"19\": 2, \"57\": 1, \"16\": 2, \"27\": 2, \"49\": 1, \"36\": 1, \"53\": 1}, \"15\": {\"37\": 6, \"15\": 84, \"24\": 10, \"10\": 9, \"11\": 4, \"23\": 9, \"43\": 6, \"25\": 4, \"55\": 3, \"53\": 4, \"16\": 5, \"28\": 1, \"54\": 1}, \"21\": {\"21\": 86, \"50\": 6, \"52\": 3, \"46\": 5, \"5\": 1, \"48\": 1, \"30\": 14, \"40\": 1, \"3\": 2, \"20\": 1}, \"51\": {\"51\": 79, \"55\": 8, \"20\": 6, \"38\": 1, \"41\": 3, \"42\": 1, \"17\": 2, \"13\": 3, \"43\": 8, \"8\": 9, \"30\": 1, \"27\": 3, \"48\": 1, \"23\": 1, \"36\": 2}, \"20\": {\"52\": 11, \"20\": 63, \"4\": 1, \"50\": 3, \"8\": 25, \"27\": 9, \"21\": 4, \"51\": 5, \"48\": 2, \"46\": 2, \"13\": 3, \"30\": 1, \"5\": 1, \"47\": 4, \"0\": 1, \"41\": 1, \"3\": 1, \"45\": 1}, \"7\": {\"7\": 23, \"23\": 1, \"55\": 2, \"42\": 1, \"19\": 3, \"34\": 4, \"31\": 2}, \"50\": {\"50\": 48, \"46\": 11, \"21\": 9, \"27\": 6, \"6\": 6, \"48\": 4, \"12\": 9, \"3\": 8, \"57\": 5, \"40\": 1, \"0\": 1, \"56\": 1, \"8\": 1, \"30\": 20, \"47\": 1, \"1\": 1, \"5\": 2, \"52\": 2}, \"31\": {\"31\": 23, \"7\": 3, \"42\": 2}, \"30\": {\"45\": 8, \"30\": 70, \"46\": 12, \"5\": 4, \"52\": 7, \"50\": 9, \"3\": 4, \"6\": 7, \"21\": 7, \"47\": 1, \"12\": 4, \"56\": 1, \"32\": 1, \"0\": 1, \"27\": 2, \"20\": 1, \"9\": 1}, \"19\": {\"19\": 111, \"39\": 2, \"33\": 1, \"10\": 3, \"55\": 9, \"17\": 4, \"29\": 2, \"54\": 3, \"36\": 7, \"11\": 3, \"16\": 2, \"35\": 1, \"7\": 1, \"42\": 1, \"43\": 2, \"24\": 1, \"23\": 2, \"15\": 1}, \"9\": {\"9\": 58, \"45\": 1, \"40\": 10, \"22\": 13, \"1\": 11, \"4\": 16, \"27\": 3, \"20\": 1, \"48\": 1, \"57\": 8, \"29\": 6, \"44\": 1, \"47\": 9, \"56\": 3, \"13\": 1, \"8\": 1, \"5\": 1}, \"52\": {\"52\": 74, \"21\": 15, \"3\": 4, \"30\": 7, \"27\": 2, \"46\": 6, \"20\": 3, \"48\": 2, \"12\": 3, \"50\": 3, \"6\": 2, \"8\": 2, \"4\": 1}, \"45\": {\"45\": 76, \"46\": 4, \"6\": 7, \"3\": 2, \"5\": 5, \"40\": 1, \"44\": 15, \"12\": 5, \"50\": 2, \"30\": 8, \"21\": 3}, \"8\": {\"55\": 1, \"52\": 11, \"50\": 4, \"8\": 74, \"32\": 1, \"27\": 8, \"43\": 3, \"51\": 5, \"17\": 2, \"13\": 8, \"20\": 19, \"21\": 3, \"46\": 2, \"48\": 7, \"36\": 3, \"47\": 1, \"41\": 1, \"9\": 1}, \"55\": {\"7\": 3, \"38\": 2, \"39\": 3, \"36\": 17, \"43\": 13, \"33\": 4, \"55\": 80, \"2\": 3, \"42\": 4, \"24\": 3, \"51\": 1, \"17\": 12, \"19\": 1, \"15\": 1, \"23\": 7, \"13\": 2, \"47\": 1, \"31\": 2, \"8\": 1}, \"12\": {\"12\": 72, \"50\": 4, \"46\": 3, \"30\": 4, \"21\": 1, \"6\": 2, \"3\": 5, \"45\": 1}, \"40\": {\"56\": 7, \"40\": 52, \"57\": 9, \"9\": 14, \"6\": 1, \"1\": 9, \"48\": 6, \"8\": 2, \"22\": 7, \"3\": 1, \"4\": 13, \"47\": 7, \"44\": 3, \"45\": 2, \"29\": 3, \"5\": 2, \"27\": 1, \"0\": 1}, \"28\": {\"28\": 28}, \"36\": {\"36\": 115, \"17\": 1}, \"39\": {\"39\": 20, \"36\": 1, \"34\": 1, \"14\": 1, \"43\": 1, \"38\": 1, \"7\": 1, \"23\": 2}, \"46\": {\"21\": 10, \"46\": 69, \"52\": 9, \"6\": 3, \"57\": 4, \"22\": 1, \"1\": 1, \"0\": 3, \"30\": 6, \"50\": 5, \"12\": 2, \"48\": 4, \"3\": 3, \"40\": 2}, \"14\": {\"8\": 1, \"14\": 7, \"9\": 1, \"48\": 1, \"56\": 2, \"33\": 3, \"2\": 1, \"13\": 1, \"43\": 1, \"29\": 2, \"55\": 1, \"57\": 1, \"32\": 1, \"1\": 1}, \"57\": {\"32\": 2, \"57\": 39, \"47\": 10, \"40\": 11, \"22\": 15, \"29\": 7, \"0\": 3, \"27\": 6, \"33\": 1, \"4\": 6, \"30\": 1, \"6\": 1, \"1\": 8, \"56\": 4, \"3\": 1, \"9\": 17, \"48\": 7, \"5\": 1, \"45\": 2}, \"34\": {\"34\": 17, \"39\": 3, \"49\": 3, \"11\": 1, \"7\": 3, \"42\": 1}, \"1\": {\"48\": 2, \"1\": 73, \"40\": 9, \"56\": 2, \"17\": 1, \"22\": 6, \"57\": 5, \"9\": 4, \"47\": 3, \"30\": 2, \"0\": 1, \"27\": 1, \"4\": 2, \"55\": 1}, \"53\": {\"37\": 3, \"53\": 98, \"15\": 6, \"26\": 1, \"54\": 8, \"23\": 3, \"10\": 1, \"43\": 5, \"11\": 7, \"16\": 1, \"51\": 2, \"24\": 1}, \"48\": {\"48\": 61, \"1\": 7, \"52\": 1, \"22\": 9, \"46\": 2, \"0\": 2, \"50\": 2, \"57\": 9, \"47\": 13, \"40\": 5, \"29\": 2, \"56\": 2, \"4\": 2, \"13\": 1, \"9\": 4, \"27\": 3, \"41\": 1, \"8\": 2, \"3\": 1, \"20\": 1}, \"3\": {\"3\": 41, \"46\": 4, \"0\": 4, \"6\": 9, \"50\": 8, \"45\": 6, \"12\": 4, \"30\": 4, \"4\": 1, \"5\": 6, \"40\": 2, \"21\": 1, \"57\": 2}, \"16\": {\"16\": 72, \"49\": 1, \"10\": 6, \"15\": 17, \"54\": 4, \"11\": 16, \"24\": 3, \"25\": 19, \"17\": 2, \"53\": 10, \"18\": 2}, \"6\": {\"6\": 70, \"30\": 5, \"46\": 4, \"12\": 7, \"45\": 7, \"0\": 1, \"5\": 17, \"50\": 4, \"3\": 6, \"21\": 1, \"52\": 1, \"47\": 1}, \"10\": {\"10\": 82, \"43\": 1, \"24\": 8, \"16\": 1, \"53\": 1, \"15\": 9, \"54\": 1, \"23\": 1, \"7\": 1, \"49\": 1, \"11\": 5, \"28\": 1}, \"13\": {\"13\": 104, \"55\": 2, \"17\": 2, \"51\": 2, \"20\": 1, \"36\": 1, \"41\": 1, \"38\": 1, \"8\": 1, \"43\": 1}, \"26\": {\"26\": 17, \"11\": 2, \"53\": 1, \"25\": 2, \"28\": 1, \"18\": 1}, \"24\": {\"24\": 55, \"41\": 1, \"28\": 5, \"15\": 6, \"42\": 2, \"23\": 7, \"55\": 1, \"10\": 7, \"54\": 5, \"17\": 2, \"43\": 1, \"39\": 1, \"53\": 2, \"36\": 1}, \"44\": {\"44\": 82, \"40\": 3, \"3\": 1, \"0\": 1, \"5\": 5, \"9\": 1, \"48\": 1, \"22\": 1, \"12\": 1, \"4\": 1, \"45\": 3}, \"27\": {\"27\": 69, \"52\": 4, \"41\": 1, \"22\": 2, \"8\": 7, \"13\": 8, \"21\": 1, \"20\": 3, \"57\": 9, \"48\": 16, \"50\": 4, \"2\": 4, \"30\": 3, \"51\": 3, \"29\": 3, \"43\": 1, \"55\": 2, \"40\": 2, \"9\": 2, \"56\": 1, \"17\": 1, \"36\": 1, \"47\": 3}, \"22\": {\"0\": 3, \"22\": 72, \"9\": 9, \"1\": 8, \"57\": 6, \"29\": 1, \"27\": 1, \"48\": 3, \"56\": 5, \"5\": 1, \"40\": 5, \"47\": 4, \"44\": 1, \"4\": 6, \"32\": 1, \"45\": 2}, \"33\": {\"43\": 1, \"14\": 4, \"33\": 15, \"36\": 1, \"2\": 2, \"29\": 2, \"56\": 1, \"23\": 1, \"47\": 1}, \"47\": {\"33\": 2, \"47\": 36, \"46\": 2, \"22\": 7, \"57\": 13, \"56\": 7, \"0\": 1, \"40\": 6, \"48\": 11, \"1\": 5, \"13\": 1, \"30\": 1, \"27\": 8, \"9\": 5, \"29\": 4, \"4\": 1, \"14\": 3, \"50\": 2, \"8\": 2, \"20\": 1}, \"5\": {\"0\": 3, \"5\": 90, \"50\": 2, \"3\": 5, \"21\": 1, \"52\": 1, \"6\": 8, \"47\": 1, \"46\": 1, \"12\": 1, \"45\": 4, \"27\": 1, \"40\": 1, \"44\": 1}, \"4\": {\"4\": 55, \"22\": 8, \"29\": 4, \"50\": 2, \"1\": 7, \"5\": 3, \"56\": 5, \"48\": 5, \"44\": 4, \"40\": 10, \"9\": 13, \"6\": 2, \"57\": 4, \"47\": 6, \"27\": 2, \"45\": 5, \"51\": 2, \"30\": 1}, \"41\": {\"41\": 18, \"38\": 2}, \"11\": {\"11\": 60, \"49\": 2, \"54\": 6, \"10\": 8, \"24\": 9, \"16\": 20, \"15\": 17, \"25\": 14, \"23\": 2, \"43\": 1, \"37\": 2, \"26\": 1, \"28\": 2, \"18\": 1, \"53\": 5}, \"54\": {\"54\": 100, \"53\": 3, \"16\": 1, \"24\": 1, \"15\": 1, \"55\": 1, \"23\": 1}, \"42\": {\"39\": 2, \"19\": 1, \"42\": 22, \"55\": 4, \"54\": 1, \"7\": 2, \"43\": 1, \"36\": 1, \"34\": 1, \"31\": 1}}, \"C_3\": {\"5\": {\"5\": 96, \"22\": 1, \"45\": 5, \"30\": 1, \"44\": 7, \"46\": 2, \"50\": 1, \"0\": 1, \"3\": 2}, \"32\": {\"32\": 21, \"33\": 1, \"9\": 1, \"27\": 3, \"8\": 1, \"29\": 1}, \"33\": {\"8\": 2, \"33\": 18, \"1\": 2, \"2\": 1, \"26\": 1, \"46\": 1, \"39\": 1, \"14\": 2}, \"49\": {\"49\": 9, \"43\": 1, \"39\": 1, \"23\": 1, \"55\": 3, \"14\": 2, \"37\": 1, \"24\": 2}, \"39\": {\"39\": 13, \"49\": 1, \"17\": 1, \"7\": 1}, \"11\": {\"11\": 57, \"25\": 16, \"53\": 6, \"15\": 30, \"16\": 14, \"24\": 6, \"18\": 5, \"54\": 3, \"10\": 3, \"23\": 2}, \"8\": {\"52\": 4, \"2\": 2, \"9\": 1, \"8\": 57, \"12\": 1, \"48\": 3, \"50\": 5, \"20\": 17, \"0\": 1, \"57\": 2, \"46\": 3, \"51\": 4, \"40\": 1, \"21\": 3, \"47\": 1, \"27\": 3, \"56\": 1, \"13\": 4, \"30\": 1, \"17\": 1, \"29\": 1}, \"26\": {\"26\": 19, \"43\": 2, \"2\": 1, \"23\": 1, \"13\": 1}, \"51\": {\"51\": 86, \"8\": 6, \"55\": 2, \"2\": 2, \"23\": 5, \"13\": 9, \"43\": 8, \"17\": 2, \"20\": 1, \"53\": 1}, \"4\": {\"5\": 4, \"32\": 1, \"4\": 63, \"1\": 9, \"27\": 7, \"29\": 5, \"22\": 14, \"56\": 3, \"57\": 9, \"40\": 11, \"47\": 2, \"9\": 8, \"48\": 1, \"3\": 2, \"45\": 2, \"44\": 2, \"6\": 1, \"33\": 1, \"8\": 1}, \"52\": {\"12\": 3, \"45\": 3, \"6\": 3, \"52\": 54, \"20\": 9, \"46\": 19, \"50\": 3, \"30\": 5, \"3\": 2, \"22\": 2, \"40\": 1, \"47\": 2, \"9\": 2, \"21\": 8, \"5\": 1, \"27\": 1}, \"47\": {\"47\": 20, \"32\": 1, \"48\": 8, \"30\": 2, \"22\": 5, \"57\": 6, \"1\": 4, \"40\": 4, \"0\": 8, \"29\": 4, \"56\": 5, \"9\": 15, \"3\": 3, \"27\": 3, \"52\": 1, \"33\": 1, \"5\": 1, \"13\": 1}, \"17\": {\"32\": 1, \"17\": 36, \"42\": 4, \"55\": 13, \"34\": 2, \"24\": 3, \"57\": 1, \"36\": 5, \"1\": 2, \"8\": 4, \"47\": 3, \"23\": 5, \"43\": 6, \"13\": 2, \"15\": 2, \"27\": 4, \"29\": 5, \"26\": 2, \"35\": 2, \"7\": 1, \"49\": 1, \"39\": 1, \"51\": 2, \"53\": 1}, \"53\": {\"53\": 102, \"24\": 5, \"54\": 5, \"11\": 7, \"16\": 8, \"43\": 2, \"15\": 4, \"49\": 1, \"23\": 1, \"42\": 1}, \"2\": {\"2\": 29, \"37\": 1, \"42\": 1, \"36\": 1}, \"12\": {\"12\": 57, \"3\": 7, \"45\": 2, \"30\": 8, \"50\": 8, \"6\": 2, \"46\": 4, \"5\": 1, \"21\": 3}, \"37\": {\"37\": 28}, \"9\": {\"32\": 1, \"9\": 61, \"36\": 1, \"1\": 10, \"48\": 4, \"56\": 3, \"8\": 2, \"27\": 2, \"0\": 2, \"4\": 10, \"22\": 16, \"33\": 1, \"57\": 10, \"51\": 2, \"40\": 9, \"47\": 6, \"29\": 4, \"6\": 1, \"35\": 1, \"5\": 1, \"55\": 1}, \"13\": {\"13\": 95, \"7\": 2, \"33\": 1, \"2\": 1, \"17\": 7, \"51\": 8, \"8\": 2, \"43\": 9, \"55\": 1, \"38\": 2}, \"54\": {\"54\": 95, \"11\": 1, \"53\": 1, \"16\": 1, \"17\": 1, \"15\": 1}, \"31\": {\"31\": 28}, \"34\": {\"34\": 19, \"42\": 1, \"14\": 2, \"27\": 1, \"35\": 1, \"54\": 1, \"40\": 1, \"17\": 2, \"36\": 1, \"33\": 1, \"43\": 1, \"23\": 1}, \"24\": {\"24\": 63, \"31\": 1, \"26\": 1, \"53\": 2, \"15\": 7, \"43\": 3, \"54\": 6, \"23\": 10, \"10\": 2, \"11\": 3, \"16\": 3, \"49\": 1, \"55\": 2}, \"7\": {\"8\": 1, \"13\": 2, \"33\": 4, \"7\": 19, \"48\": 1, \"2\": 1, \"26\": 1, \"32\": 1, \"43\": 2, \"14\": 2, \"38\": 1, \"34\": 1}, \"50\": {\"21\": 5, \"9\": 2, \"50\": 46, \"12\": 13, \"6\": 9, \"30\": 10, \"48\": 5, \"27\": 6, \"3\": 8, \"46\": 8, \"40\": 2, \"8\": 1, \"45\": 1, \"47\": 1, \"52\": 1}, \"46\": {\"46\": 62, \"48\": 3, \"52\": 5, \"3\": 9, \"0\": 8, \"12\": 6, \"6\": 2, \"57\": 4, \"47\": 4, \"21\": 12, \"50\": 5, \"30\": 2, \"27\": 1, \"20\": 3, \"5\": 1, \"9\": 1}, \"44\": {\"46\": 1, \"44\": 67, \"0\": 2, \"5\": 6, \"45\": 2, \"9\": 4, \"40\": 1, \"50\": 1, \"3\": 1, \"22\": 2, \"4\": 1}, \"40\": {\"45\": 1, \"40\": 31, \"27\": 7, \"22\": 18, \"29\": 2, \"9\": 17, \"44\": 1, \"8\": 2, \"48\": 3, \"47\": 2, \"4\": 9, \"0\": 4, \"1\": 7, \"57\": 6, \"6\": 1, \"46\": 1, \"5\": 1, \"56\": 1, \"3\": 2}, \"21\": {\"21\": 73, \"50\": 5, \"20\": 2, \"12\": 5, \"3\": 9, \"30\": 12, \"52\": 6, \"48\": 2, \"0\": 1, \"44\": 2, \"40\": 1, \"46\": 7, \"6\": 2, \"47\": 1}, \"45\": {\"50\": 4, \"45\": 27, \"44\": 5, \"5\": 8, \"12\": 2, \"3\": 3, \"6\": 5, \"30\": 3, \"21\": 3}, \"16\": {\"16\": 61, \"28\": 1, \"24\": 6, \"25\": 10, \"10\": 3, \"11\": 14, \"18\": 10, \"15\": 11, \"53\": 4, \"54\": 2, \"23\": 3, \"43\": 1}, \"14\": {\"32\": 1, \"7\": 3, \"14\": 21, \"1\": 1, \"55\": 1, \"26\": 3, \"2\": 1, \"34\": 2, \"27\": 1, \"41\": 2, \"17\": 1, \"33\": 1, \"36\": 1, \"29\": 1}, \"36\": {\"36\": 98, \"17\": 1, \"55\": 1}, \"56\": {\"9\": 7, \"56\": 55, \"22\": 12, \"4\": 2, \"27\": 7, \"40\": 6, \"47\": 7, \"1\": 5, \"57\": 6, \"29\": 4, \"0\": 2, \"20\": 1}, \"10\": {\"10\": 51, \"24\": 1, \"16\": 2, \"54\": 1, \"15\": 5, \"11\": 4}, \"18\": {\"18\": 54, \"25\": 8, \"54\": 3, \"11\": 6, \"53\": 1, \"15\": 3, \"43\": 1, \"10\": 1, \"16\": 6, \"28\": 1}, \"48\": {\"48\": 34, \"9\": 12, \"39\": 1, \"0\": 14, \"47\": 8, \"22\": 8, \"33\": 2, \"27\": 5, \"57\": 11, \"50\": 1, \"51\": 3, \"56\": 5, \"8\": 1, \"40\": 5, \"1\": 2, \"17\": 1, \"36\": 2, \"4\": 1}, \"38\": {\"38\": 27, \"2\": 1}, \"27\": {\"27\": 42, \"1\": 6, \"48\": 10, \"41\": 3, \"50\": 2, \"32\": 2, \"29\": 4, \"14\": 2, \"57\": 10, \"7\": 1, \"34\": 3, \"9\": 5, \"47\": 12, \"20\": 1, \"36\": 2, \"40\": 6, \"4\": 2, \"46\": 4, \"13\": 1, \"56\": 4, \"17\": 1, \"3\": 1, \"5\": 1, \"22\": 4, \"55\": 1}, \"42\": {\"42\": 14, \"31\": 3, \"49\": 2, \"39\": 2, \"55\": 4, \"17\": 2, \"43\": 1}, \"15\": {\"24\": 15, \"37\": 2, \"49\": 2, \"31\": 2, \"15\": 69, \"23\": 13, \"10\": 1, \"43\": 2, \"55\": 2, \"54\": 1, \"11\": 9, \"16\": 9, \"53\": 3, \"26\": 1, \"25\": 2, \"18\": 1}, \"1\": {\"1\": 48, \"0\": 3, \"57\": 8, \"9\": 5, \"22\": 11, \"56\": 4, \"4\": 6, \"47\": 4, \"29\": 1, \"17\": 1, \"40\": 3, \"27\": 1, \"48\": 1, \"13\": 2, \"8\": 1, \"51\": 1}, \"28\": {\"28\": 20, \"11\": 3, \"19\": 1, \"25\": 2, \"10\": 2}, \"43\": {\"43\": 79, \"33\": 1, \"49\": 1, \"42\": 3, \"38\": 1, \"23\": 9, \"24\": 4, \"34\": 1, \"13\": 14, \"55\": 9, \"17\": 6, \"2\": 2, \"31\": 1, \"7\": 2, \"53\": 1, \"36\": 1, \"51\": 1}, \"0\": {\"0\": 43, \"57\": 4, \"6\": 10, \"48\": 7, \"27\": 3, \"52\": 1, \"5\": 13, \"56\": 2, \"30\": 6, \"22\": 4, \"47\": 7, \"12\": 2, \"44\": 2, \"21\": 1, \"3\": 10, \"50\": 3, \"29\": 1, \"20\": 1, \"46\": 1, \"9\": 2, \"40\": 1}, \"57\": {\"57\": 40, \"9\": 20, \"4\": 4, \"41\": 2, \"29\": 13, \"27\": 6, \"1\": 2, \"56\": 1, \"40\": 9, \"22\": 11, \"48\": 4, \"47\": 6, \"32\": 2, \"0\": 3, \"33\": 1}, \"3\": {\"12\": 8, \"50\": 9, \"6\": 14, \"3\": 59, \"5\": 9, \"46\": 5, \"9\": 2, \"44\": 2, \"57\": 2, \"21\": 6, \"22\": 5, \"30\": 15, \"0\": 5, \"52\": 3, \"45\": 1, \"40\": 1, \"47\": 1, \"56\": 1}, \"29\": {\"9\": 3, \"32\": 3, \"29\": 56, \"14\": 1, \"41\": 1, \"27\": 6, \"22\": 4, \"56\": 10, \"1\": 8, \"4\": 17, \"36\": 4, \"40\": 2, \"57\": 5, \"48\": 1, \"47\": 1, \"17\": 1, \"13\": 1}, \"41\": {\"48\": 2, \"57\": 1, \"41\": 24, \"27\": 1}, \"25\": {\"11\": 15, \"25\": 108, \"15\": 3, \"16\": 15, \"18\": 3, \"10\": 2}, \"6\": {\"6\": 67, \"46\": 2, \"50\": 3, \"3\": 7, \"12\": 3, \"30\": 4, \"0\": 1, \"45\": 1}, \"35\": {\"35\": 26, \"31\": 1, \"55\": 1}, \"20\": {\"0\": 1, \"20\": 64, \"33\": 1, \"21\": 7, \"27\": 1, \"52\": 22, \"41\": 1, \"46\": 10, \"8\": 10, \"30\": 1, \"3\": 1, \"50\": 2, \"38\": 1, \"48\": 1, \"34\": 1, \"12\": 1, \"9\": 1}, \"23\": {\"49\": 1, \"23\": 55, \"15\": 12, \"11\": 7, \"8\": 1, \"24\": 7, \"13\": 3, \"33\": 1, \"31\": 1, \"53\": 2, \"43\": 14, \"17\": 5, \"54\": 6, \"51\": 3, \"26\": 1, \"10\": 3, \"35\": 1, \"7\": 1, \"36\": 2, \"16\": 1, \"42\": 1, \"19\": 1, \"55\": 4, \"27\": 1}, \"22\": {\"47\": 5, \"56\": 8, \"22\": 59, \"48\": 2, \"29\": 4, \"41\": 1, \"9\": 12, \"40\": 14, \"57\": 7, \"1\": 13, \"0\": 5, \"3\": 1, \"27\": 5, \"4\": 1, \"21\": 1, \"8\": 1, \"6\": 1}, \"19\": {\"42\": 1, \"19\": 85, \"31\": 1, \"28\": 1, \"55\": 7, \"23\": 7, \"36\": 2, \"43\": 3, \"17\": 3, \"25\": 1, \"11\": 2, \"35\": 2, \"8\": 1}, \"55\": {\"55\": 71, \"49\": 2, \"31\": 3, \"34\": 3, \"42\": 3, \"17\": 14, \"23\": 8, \"24\": 3, \"36\": 5, \"43\": 4, \"8\": 1, \"7\": 1, \"14\": 2, \"39\": 1, \"19\": 1, \"15\": 2}, \"30\": {\"6\": 8, \"30\": 52, \"50\": 8, \"3\": 13, \"52\": 6, \"21\": 6, \"45\": 5, \"0\": 1, \"46\": 8, \"40\": 1, \"29\": 1, \"5\": 8, \"32\": 1, \"12\": 1, \"9\": 1}}, \"C_1\": {\"24\": {\"26\": 2, \"23\": 14, \"24\": 71, \"54\": 3, \"49\": 1, \"37\": 3, \"15\": 3, \"55\": 8, \"39\": 1, \"38\": 1, \"19\": 1}, \"25\": {\"25\": 103, \"11\": 9, \"28\": 1, \"16\": 16, \"18\": 5, \"15\": 3, \"53\": 1, \"10\": 2}, \"45\": {\"46\": 9, \"45\": 69, \"56\": 16, \"5\": 26, \"30\": 4, \"50\": 4, \"44\": 11, \"6\": 4, \"3\": 1}, \"42\": {\"19\": 1, \"42\": 21, \"32\": 6, \"49\": 2, \"39\": 1, \"9\": 2, \"43\": 2, \"24\": 1, \"35\": 2, \"55\": 2}, \"2\": {\"2\": 28, \"14\": 1, \"36\": 2, \"48\": 2, \"8\": 1, \"9\": 2}, \"9\": {\"21\": 5, \"9\": 65, \"14\": 2, \"12\": 2, \"32\": 1, \"36\": 1, \"52\": 5, \"2\": 4, \"33\": 1, \"20\": 3, \"8\": 15, \"22\": 14, \"0\": 2, \"51\": 4, \"13\": 4, \"48\": 12, \"43\": 1, \"30\": 2, \"38\": 1, \"40\": 1, \"3\": 1, \"57\": 1, \"6\": 1, \"55\": 2}, \"21\": {\"21\": 69, \"52\": 8, \"20\": 4, \"9\": 2, \"13\": 2, \"22\": 13, \"1\": 1, \"36\": 1, \"3\": 4, \"40\": 3, \"0\": 9, \"30\": 2, \"29\": 1, \"8\": 2, \"50\": 1, \"6\": 1, \"56\": 1}, \"26\": {\"26\": 18, \"15\": 3, \"24\": 1, \"16\": 1, \"34\": 1}, \"49\": {\"49\": 17, \"32\": 6, \"55\": 2, \"37\": 1, \"9\": 1, \"42\": 1, \"13\": 1, \"43\": 2, \"24\": 1}, \"39\": {\"39\": 23, \"33\": 2, \"49\": 2, \"2\": 1}, \"46\": {\"46\": 71, \"44\": 11, \"50\": 11, \"3\": 4, \"56\": 6, \"12\": 1, \"6\": 6, \"45\": 6, \"4\": 6, \"30\": 8, \"5\": 5, \"0\": 1}, \"17\": {\"24\": 6, \"55\": 7, \"17\": 28, \"43\": 3, \"7\": 2, \"19\": 1, \"37\": 1, \"48\": 3, \"54\": 3, \"9\": 2, \"51\": 1, \"32\": 1, \"39\": 2, \"38\": 1, \"23\": 1, \"35\": 1, \"36\": 1}, \"19\": {\"39\": 1, \"19\": 77, \"11\": 1, \"33\": 1, \"35\": 5, \"17\": 3, \"43\": 19, \"38\": 1, \"10\": 4, \"55\": 11, \"42\": 5, \"9\": 2, \"47\": 1, \"54\": 3, \"15\": 7, \"23\": 7, \"29\": 1, \"31\": 1, \"24\": 3, \"1\": 3}, \"23\": {\"26\": 2, \"24\": 14, \"15\": 6, \"49\": 2, \"23\": 63, \"32\": 1, \"55\": 15, \"35\": 1, \"53\": 6, \"43\": 8, \"17\": 1, \"54\": 9, \"19\": 1, \"39\": 1, \"51\": 2}, \"1\": {\"1\": 65, \"29\": 5, \"47\": 5, \"40\": 2, \"9\": 3, \"27\": 8, \"21\": 3, \"22\": 1, \"52\": 1, \"57\": 4, \"48\": 2, \"36\": 1}, \"29\": {\"1\": 6, \"4\": 3, \"57\": 9, \"47\": 15, \"29\": 69, \"49\": 2, \"52\": 2, \"17\": 1, \"40\": 11, \"27\": 10, \"8\": 1, \"56\": 4, \"43\": 2, \"48\": 3, \"51\": 1, \"21\": 1}, \"56\": {\"56\": 87, \"45\": 16, \"50\": 2, \"44\": 14, \"5\": 3, \"40\": 7, \"57\": 6, \"27\": 1, \"12\": 1, \"0\": 2, \"46\": 3, \"22\": 2, \"21\": 2, \"30\": 1, \"6\": 1, \"4\": 2}, \"37\": {\"37\": 29, \"23\": 1, \"33\": 1, \"49\": 1}, \"33\": {\"55\": 2, \"33\": 22, \"32\": 1, \"38\": 4, \"39\": 2, \"49\": 1}, \"55\": {\"55\": 115, \"37\": 3, \"42\": 1, \"33\": 1, \"7\": 4, \"43\": 8, \"36\": 1, \"24\": 2, \"23\": 2, \"8\": 2, \"19\": 1, \"1\": 1, \"17\": 1}, \"30\": {\"0\": 14, \"30\": 51, \"22\": 6, \"6\": 7, \"51\": 1, \"40\": 1, \"50\": 11, \"3\": 7, \"27\": 1, \"20\": 2, \"12\": 2, \"8\": 4, \"57\": 1, \"46\": 6, \"13\": 1, \"9\": 1, \"52\": 2, \"56\": 2}, \"0\": {\"0\": 94, \"21\": 8, \"30\": 9, \"22\": 19, \"52\": 6, \"57\": 2, \"12\": 2, \"3\": 4, \"46\": 1, \"45\": 1, \"20\": 1, \"50\": 2, \"40\": 2, \"48\": 1}, \"36\": {\"32\": 3, \"12\": 3, \"49\": 2, \"36\": 31, \"2\": 2, \"51\": 2, \"9\": 7, \"13\": 6, \"48\": 2, \"22\": 1, \"8\": 2, \"38\": 1, \"21\": 1, \"3\": 1}, \"32\": {\"32\": 22, \"42\": 2, \"9\": 1, \"49\": 4, \"7\": 2, \"33\": 1}, \"31\": {\"31\": 25, \"38\": 2, \"39\": 1}, \"15\": {\"15\": 73, \"26\": 4, \"24\": 5, \"54\": 10, \"11\": 9, \"16\": 10, \"10\": 7, \"23\": 11, \"55\": 1, \"53\": 3, \"25\": 2, \"28\": 1, \"34\": 1, \"51\": 1}, \"12\": {\"12\": 88, \"21\": 1, \"20\": 20, \"3\": 4, \"13\": 1, \"8\": 1, \"46\": 1}, \"38\": {\"48\": 3, \"33\": 3, \"39\": 2, \"47\": 1, \"38\": 11, \"55\": 2, \"32\": 1, \"17\": 1}, \"40\": {\"40\": 51, \"44\": 16, \"30\": 1, \"56\": 17, \"57\": 19, \"52\": 3, \"21\": 1, \"9\": 3, \"8\": 4, \"1\": 1, \"27\": 7, \"4\": 9, \"5\": 1, \"0\": 4, \"22\": 3, \"45\": 3, \"48\": 2, \"13\": 1}, \"14\": {\"14\": 16, \"13\": 1, \"21\": 1, \"2\": 1, \"22\": 2, \"52\": 2, \"20\": 1}, \"13\": {\"14\": 2, \"13\": 126, \"12\": 3, \"48\": 7, \"9\": 7, \"8\": 3, \"36\": 2}, \"48\": {\"9\": 23, \"48\": 72, \"8\": 15, \"2\": 5, \"36\": 1, \"12\": 4, \"40\": 1, \"55\": 1, \"20\": 2, \"52\": 5, \"1\": 1, \"43\": 2, \"3\": 1, \"22\": 2, \"13\": 3, \"14\": 1, \"49\": 1, \"17\": 2, \"30\": 2, \"21\": 3, \"51\": 1}, \"34\": {\"34\": 20, \"23\": 2, \"33\": 2}, \"44\": {\"44\": 83, \"5\": 8, \"40\": 2, \"56\": 6, \"57\": 2, \"46\": 2, \"45\": 8, \"20\": 2, \"22\": 1, \"50\": 1, \"0\": 2, \"21\": 3, \"30\": 2, \"3\": 1, \"4\": 4, \"6\": 3}, \"5\": {\"5\": 125, \"56\": 1, \"6\": 5, \"46\": 4, \"45\": 11, \"50\": 6}, \"11\": {\"11\": 77, \"25\": 16, \"15\": 11, \"53\": 4, \"28\": 4, \"16\": 12, \"18\": 2, \"10\": 10, \"26\": 2, \"24\": 2}, \"7\": {\"7\": 22, \"42\": 1, \"32\": 1, \"55\": 1, \"33\": 1, \"43\": 1, \"17\": 1}, \"18\": {\"18\": 43, \"11\": 5, \"16\": 10, \"15\": 2, \"10\": 3, \"54\": 1, \"25\": 5, \"28\": 2, \"23\": 1}, \"52\": {\"52\": 113, \"21\": 6, \"8\": 2, \"48\": 1, \"30\": 1, \"27\": 2, \"9\": 1, \"22\": 3, \"1\": 1, \"0\": 2}, \"51\": {\"51\": 116, \"36\": 7, \"14\": 2, \"48\": 5, \"23\": 1, \"55\": 3, \"17\": 2, \"33\": 1, \"41\": 2, \"13\": 2, \"54\": 1}, \"41\": {\"41\": 20, \"51\": 2, \"36\": 1, \"13\": 1}, \"16\": {\"16\": 59, \"18\": 9, \"53\": 11, \"23\": 4, \"15\": 7, \"25\": 17, \"54\": 9, \"11\": 14, \"10\": 6, \"24\": 4}, \"22\": {\"0\": 16, \"22\": 68, \"9\": 8, \"2\": 2, \"52\": 11, \"3\": 4, \"21\": 15, \"40\": 2, \"27\": 1, \"8\": 2, \"12\": 1, \"30\": 2, \"48\": 1, \"20\": 1}, \"3\": {\"0\": 6, \"20\": 27, \"12\": 10, \"30\": 4, \"3\": 77, \"56\": 3, \"57\": 4, \"46\": 1, \"4\": 2, \"50\": 3, \"27\": 1, \"40\": 2}, \"54\": {\"54\": 104}, \"27\": {\"27\": 118, \"29\": 4, \"57\": 7, \"21\": 3, \"47\": 3, \"1\": 2, \"9\": 2, \"22\": 2, \"8\": 1, \"40\": 2}, \"20\": {\"3\": 16, \"20\": 98, \"6\": 2, \"13\": 1, \"12\": 10, \"30\": 1, \"8\": 7, \"9\": 1, \"0\": 2, \"22\": 1, \"48\": 1}, \"8\": {\"12\": 5, \"48\": 16, \"9\": 19, \"8\": 35, \"20\": 7, \"32\": 2, \"21\": 2, \"36\": 3, \"3\": 6, \"30\": 6, \"1\": 4, \"13\": 5, \"23\": 1, \"50\": 5, \"43\": 4, \"55\": 1, \"45\": 1, \"0\": 4, \"22\": 2, \"17\": 2, \"52\": 5, \"42\": 1, \"29\": 2}, \"50\": {\"50\": 106, \"12\": 1, \"46\": 8, \"6\": 10, \"30\": 10, \"0\": 2, \"56\": 4, \"3\": 1, \"20\": 1, \"45\": 1}, \"57\": {\"27\": 17, \"4\": 4, \"57\": 60, \"47\": 1, \"40\": 18, \"52\": 6, \"36\": 1, \"44\": 3, \"45\": 2, \"56\": 16, \"22\": 3, \"48\": 2, \"50\": 1, \"0\": 1, \"17\": 1, \"30\": 1, \"1\": 2, \"9\": 1}, \"4\": {\"44\": 3, \"4\": 82, \"50\": 1, \"29\": 3, \"57\": 8, \"40\": 6, \"52\": 2, \"46\": 5, \"6\": 1, \"8\": 3, \"5\": 2, \"56\": 10, \"45\": 3, \"27\": 1, \"48\": 2}, \"47\": {\"47\": 92, \"29\": 18, \"1\": 5, \"48\": 2, \"40\": 8, \"27\": 16, \"52\": 1, \"8\": 1, \"57\": 3}, \"10\": {\"11\": 4, \"10\": 57, \"54\": 12, \"15\": 9, \"16\": 5, \"24\": 1, \"53\": 1, \"34\": 1, \"19\": 1, \"23\": 2, \"28\": 2, \"25\": 1}, \"35\": {\"35\": 26, \"7\": 1, \"42\": 1, \"19\": 3, \"49\": 1, \"31\": 1, \"43\": 2, \"24\": 1}, \"53\": {\"41\": 1, \"53\": 80, \"55\": 8, \"54\": 8, \"37\": 2, \"23\": 8, \"16\": 5, \"17\": 2, \"51\": 2, \"10\": 3, \"24\": 3, \"15\": 2, \"28\": 1, \"11\": 1}, \"6\": {\"6\": 33, \"0\": 4, \"12\": 4, \"50\": 6, \"21\": 3, \"5\": 10, \"45\": 9, \"44\": 4, \"3\": 1, \"46\": 8, \"30\": 7, \"27\": 1, \"52\": 1, \"20\": 1, \"56\": 1, \"8\": 2, \"40\": 1}, \"43\": {\"43\": 138, \"42\": 1, \"55\": 1}, \"28\": {\"10\": 3, \"53\": 1, \"15\": 2, \"28\": 18, \"11\": 1, \"34\": 1, \"54\": 1, \"16\": 1}}, \"C_5\": {\"35\": {\"35\": 25, \"15\": 1, \"19\": 1, \"36\": 2, \"17\": 1, \"34\": 1, \"2\": 1, \"31\": 1, \"13\": 1, \"39\": 1, \"33\": 1}, \"57\": {\"47\": 6, \"57\": 40, \"3\": 9, \"56\": 5, \"12\": 1, \"30\": 11, \"40\": 1, \"44\": 4, \"6\": 3, \"9\": 12, \"0\": 5, \"46\": 6, \"45\": 3, \"48\": 10, \"50\": 3, \"1\": 6, \"52\": 2, \"14\": 1, \"13\": 1, \"5\": 2, \"4\": 1}, \"20\": {\"12\": 4, \"20\": 79, \"52\": 7, \"21\": 16, \"8\": 16, \"9\": 1, \"3\": 2, \"0\": 2, \"47\": 1, \"46\": 8, \"57\": 2, \"7\": 1, \"43\": 1, \"48\": 2, \"29\": 1, \"13\": 1}, \"12\": {\"12\": 58, \"46\": 1, \"21\": 5, \"52\": 5, \"30\": 3, \"3\": 4, \"44\": 2, \"50\": 6, \"6\": 2, \"1\": 1, \"48\": 3, \"27\": 1, \"20\": 2, \"47\": 1, \"9\": 2}, \"32\": {\"32\": 14, \"48\": 5, \"29\": 3, \"13\": 3, \"27\": 2, \"2\": 1, \"56\": 1, \"42\": 1, \"14\": 1, \"47\": 1}, \"25\": {\"25\": 99, \"11\": 12, \"26\": 2, \"54\": 2, \"18\": 7, \"16\": 11, \"15\": 4, \"23\": 1}, \"44\": {\"5\": 19, \"44\": 100, \"30\": 2, \"48\": 1, \"46\": 1, \"3\": 1, \"9\": 8, \"57\": 2, \"21\": 2, \"4\": 6, \"1\": 1, \"52\": 1, \"40\": 1, \"47\": 1, \"0\": 1, \"20\": 1}, \"31\": {\"31\": 28, \"49\": 5, \"28\": 1, \"10\": 1, \"54\": 1}, \"11\": {\"11\": 76, \"23\": 5, \"16\": 17, \"54\": 7, \"25\": 9, \"26\": 3, \"10\": 4, \"15\": 24, \"24\": 3, \"53\": 2}, \"47\": {\"47\": 35, \"57\": 12, \"46\": 2, \"3\": 5, \"29\": 2, \"48\": 8, \"13\": 3, \"1\": 3, \"52\": 3, \"41\": 1, \"40\": 2, \"0\": 5, \"27\": 6, \"9\": 2, \"56\": 6, \"17\": 2, \"30\": 2, \"8\": 1}, \"23\": {\"37\": 2, \"23\": 37, \"43\": 6, \"38\": 3, \"17\": 10, \"54\": 10, \"42\": 4, \"55\": 12, \"11\": 11, \"15\": 10, \"51\": 6, \"53\": 3, \"16\": 2, \"26\": 1, \"10\": 5, \"7\": 1, \"36\": 1}, \"43\": {\"43\": 124, \"14\": 1, \"27\": 1, \"37\": 2, \"13\": 4, \"2\": 1, \"51\": 4, \"55\": 1, \"38\": 1, \"7\": 2, \"17\": 2, \"29\": 1}, \"37\": {\"37\": 20, \"39\": 1, \"43\": 1, \"55\": 1, \"41\": 1}, \"5\": {\"57\": 4, \"44\": 30, \"5\": 60, \"30\": 3, \"21\": 2, \"4\": 6, \"50\": 3, \"9\": 10, \"45\": 1, \"20\": 2, \"46\": 1, \"52\": 5, \"40\": 1}, \"45\": {\"45\": 68, \"9\": 5, \"12\": 1, \"4\": 3, \"30\": 15, \"5\": 1, \"44\": 4, \"6\": 10, \"3\": 1, \"50\": 15, \"46\": 1}, \"7\": {\"7\": 30, \"51\": 1, \"41\": 1}, \"13\": {\"47\": 3, \"13\": 90, \"14\": 2, \"8\": 12, \"1\": 1, \"43\": 13, \"29\": 2, \"17\": 4, \"48\": 2, \"27\": 3, \"20\": 2, \"52\": 1, \"56\": 1}, \"49\": {\"49\": 35, \"33\": 1}, \"46\": {\"46\": 63, \"30\": 8, \"47\": 1, \"56\": 3, \"21\": 3, \"52\": 23, \"3\": 15, \"27\": 2, \"50\": 8, \"9\": 2, \"48\": 4, \"57\": 3, \"12\": 2, \"45\": 1, \"0\": 5, \"13\": 1, \"32\": 1, \"6\": 2, \"4\": 1}, \"16\": {\"54\": 5, \"16\": 59, \"11\": 17, \"24\": 2, \"25\": 18, \"18\": 1, \"55\": 1, \"23\": 6, \"10\": 1, \"15\": 17, \"53\": 7, \"42\": 1, \"49\": 1}, \"54\": {\"54\": 94, \"26\": 1, \"23\": 6, \"24\": 5, \"15\": 2, \"53\": 1, \"10\": 1, \"55\": 1, \"16\": 1}, \"19\": {\"19\": 112, \"34\": 4, \"10\": 2, \"35\": 2, \"23\": 2, \"14\": 1, \"29\": 2, \"55\": 6, \"24\": 1, \"17\": 4, \"13\": 2, \"54\": 2, \"15\": 1, \"36\": 2, \"41\": 1, \"33\": 2, \"39\": 1, \"49\": 2, \"31\": 1, \"27\": 1, \"16\": 1}, \"55\": {\"49\": 5, \"55\": 92, \"33\": 1, \"42\": 1, \"34\": 2, \"23\": 8, \"54\": 9, \"17\": 9, \"24\": 2, \"19\": 5, \"36\": 6, \"53\": 2, \"43\": 1, \"51\": 2, \"39\": 2, \"31\": 1, \"29\": 1, \"15\": 1}, \"30\": {\"46\": 6, \"50\": 9, \"57\": 4, \"30\": 51, \"45\": 16, \"47\": 2, \"52\": 3, \"1\": 11, \"5\": 2, \"44\": 2, \"6\": 5, \"56\": 1, \"3\": 5, \"48\": 1, \"0\": 1, \"9\": 7, \"12\": 2}, \"34\": {\"47\": 1, \"13\": 1, \"34\": 23, \"19\": 2, \"41\": 1, \"23\": 2, \"17\": 1, \"55\": 1, \"31\": 1, \"14\": 1, \"2\": 2}, \"50\": {\"30\": 11, \"5\": 3, \"50\": 72, \"6\": 12, \"3\": 5, \"12\": 3, \"44\": 8, \"4\": 3, \"45\": 8, \"1\": 3, \"46\": 2, \"9\": 4}, \"3\": {\"3\": 36, \"0\": 8, \"45\": 7, \"47\": 2, \"1\": 3, \"46\": 9, \"40\": 1, \"6\": 8, \"30\": 3, \"56\": 4, \"50\": 7, \"57\": 6, \"52\": 4, \"9\": 1, \"48\": 1}, \"10\": {\"10\": 53, \"11\": 2, \"24\": 8, \"15\": 4, \"23\": 1}, \"27\": {\"13\": 10, \"27\": 42, \"47\": 10, \"17\": 3, \"44\": 1, \"32\": 4, \"1\": 16, \"14\": 2, \"57\": 5, \"56\": 10, \"3\": 1, \"9\": 2, \"40\": 6, \"48\": 10, \"4\": 3, \"29\": 3, \"19\": 2, \"51\": 1, \"30\": 2, \"55\": 2, \"36\": 1, \"0\": 3, \"8\": 1, \"43\": 1, \"50\": 1}, \"33\": {\"33\": 25, \"39\": 1, \"49\": 1, \"34\": 1, \"35\": 3, \"40\": 1}, \"56\": {\"56\": 81, \"40\": 8, \"48\": 11, \"47\": 3, \"3\": 2, \"29\": 4, \"1\": 4, \"13\": 1, \"46\": 2, \"27\": 7, \"0\": 7, \"57\": 10, \"30\": 1, \"5\": 1}, \"9\": {\"46\": 3, \"9\": 63, \"47\": 5, \"1\": 7, \"44\": 13, \"22\": 3, \"40\": 3, \"12\": 1, \"50\": 3, \"20\": 2, \"4\": 4, \"57\": 4, \"5\": 8, \"3\": 4, \"45\": 10, \"0\": 3, \"56\": 3, \"8\": 2, \"48\": 3, \"30\": 5, \"6\": 1}, \"14\": {\"32\": 2, \"14\": 15, \"43\": 3, \"29\": 2, \"38\": 1, \"41\": 1, \"48\": 5, \"17\": 5, \"2\": 2, \"37\": 1, \"47\": 2, \"39\": 1, \"27\": 1, \"13\": 3}, \"4\": {\"5\": 7, \"4\": 46, \"57\": 2, \"44\": 20, \"22\": 1, \"47\": 2, \"9\": 8, \"45\": 1, \"0\": 1, \"48\": 2, \"6\": 2, \"20\": 2, \"21\": 1, \"1\": 3, \"50\": 1, \"8\": 1}, \"42\": {\"42\": 25, \"39\": 2, \"24\": 1, \"36\": 3, \"17\": 2, \"55\": 4, \"38\": 1, \"10\": 2}, \"24\": {\"24\": 41, \"42\": 3, \"2\": 1, \"31\": 2, \"54\": 6, \"23\": 3, \"55\": 4, \"11\": 1, \"10\": 10, \"17\": 2, \"15\": 4, \"26\": 1, \"53\": 2}, \"39\": {\"2\": 5, \"41\": 2, \"39\": 6, \"55\": 2, \"36\": 4, \"43\": 1}, \"52\": {\"3\": 6, \"52\": 72, \"30\": 3, \"46\": 19, \"12\": 5, \"0\": 3, \"21\": 2, \"48\": 3, \"20\": 2, \"57\": 6, \"50\": 2, \"8\": 2, \"1\": 1, \"9\": 2, \"6\": 1, \"27\": 1}, \"2\": {\"2\": 23, \"41\": 2, \"36\": 1, \"35\": 1, \"14\": 1}, \"28\": {\"11\": 1, \"28\": 22, \"31\": 2, \"19\": 4, \"15\": 2, \"10\": 1}, \"53\": {\"26\": 1, \"37\": 1, \"43\": 1, \"53\": 80, \"28\": 2, \"54\": 6, \"16\": 2, \"55\": 9, \"11\": 2, \"51\": 2, \"23\": 3, \"42\": 1, \"31\": 1, \"17\": 1, \"15\": 5, \"24\": 2, \"36\": 3}, \"17\": {\"54\": 9, \"8\": 4, \"13\": 8, \"17\": 38, \"10\": 1, \"41\": 3, \"36\": 7, \"38\": 1, \"43\": 4, \"29\": 2, \"55\": 8, \"14\": 4, \"53\": 2, \"48\": 3, \"23\": 5, \"24\": 1, \"27\": 2, \"56\": 1, \"51\": 2, \"32\": 1, \"42\": 2, \"2\": 2, \"47\": 1, \"34\": 1, \"19\": 3, \"20\": 1}, \"29\": {\"29\": 69, \"34\": 3, \"56\": 11, \"41\": 1, \"40\": 9, \"1\": 1, \"48\": 4, \"27\": 14, \"47\": 4, \"43\": 2, \"57\": 1, \"8\": 2, \"13\": 9, \"14\": 1, \"17\": 1}, \"38\": {\"41\": 4, \"38\": 18, \"8\": 2, \"14\": 1, \"51\": 3, \"2\": 1, \"13\": 1, \"7\": 2}, \"15\": {\"54\": 8, \"26\": 2, \"15\": 88, \"39\": 1, \"31\": 1, \"18\": 1, \"16\": 12, \"10\": 4, \"23\": 9, \"19\": 1, \"24\": 5, \"11\": 5, \"25\": 3, \"53\": 3, \"42\": 1}, \"26\": {\"26\": 15, \"53\": 1, \"11\": 1, \"24\": 1, \"54\": 2, \"15\": 1, \"23\": 1, \"42\": 1, \"25\": 1}, \"21\": {\"21\": 98, \"52\": 10, \"46\": 4, \"12\": 6, \"20\": 17, \"0\": 1, \"57\": 2, \"8\": 5, \"51\": 1}, \"41\": {\"41\": 21, \"57\": 1, \"34\": 1, \"47\": 1, \"37\": 1, \"27\": 1, \"56\": 1, \"17\": 1}, \"48\": {\"46\": 5, \"47\": 9, \"57\": 11, \"1\": 14, \"48\": 57, \"2\": 1, \"52\": 1, \"43\": 3, \"40\": 4, \"17\": 1, \"14\": 1, \"0\": 7, \"5\": 1, \"3\": 1, \"4\": 1, \"27\": 9, \"29\": 3, \"56\": 3, \"9\": 1, \"8\": 1, \"51\": 1, \"13\": 1}, \"22\": {\"5\": 2, \"44\": 1, \"22\": 15, \"1\": 1, \"45\": 1, \"47\": 1, \"0\": 1, \"56\": 1, \"9\": 2, \"3\": 2, \"57\": 1}, \"8\": {\"0\": 2, \"8\": 59, \"1\": 2, \"38\": 1, \"46\": 4, \"3\": 1, \"20\": 28, \"51\": 1, \"12\": 4, \"43\": 5, \"13\": 8, \"21\": 18, \"52\": 5, \"48\": 3, \"27\": 2, \"14\": 1, \"42\": 1, \"17\": 1, \"47\": 1, \"30\": 1}, \"18\": {\"26\": 3, \"11\": 6, \"18\": 40, \"10\": 2, \"16\": 7, \"25\": 5, \"53\": 1}, \"0\": {\"0\": 62, \"57\": 11, \"30\": 4, \"46\": 13, \"52\": 3, \"3\": 6, \"56\": 4, \"4\": 1, \"45\": 1, \"21\": 2, \"1\": 5, \"47\": 6, \"50\": 1, \"48\": 2, \"9\": 1}, \"1\": {\"9\": 9, \"1\": 55, \"3\": 4, \"47\": 7, \"48\": 15, \"30\": 5, \"0\": 6, \"57\": 8, \"40\": 7, \"56\": 5, \"27\": 9, \"29\": 2, \"6\": 1, \"52\": 1, \"46\": 1, \"5\": 1, \"8\": 1, \"22\": 1}, \"40\": {\"40\": 64, \"3\": 2, \"27\": 2, \"57\": 5, \"44\": 10, \"12\": 1, \"1\": 3, \"5\": 5, \"56\": 7, \"4\": 4, \"9\": 9, \"48\": 4, \"52\": 1, \"47\": 4, \"46\": 1, \"6\": 2}, \"6\": {\"6\": 59, \"30\": 5, \"50\": 22, \"3\": 6, \"45\": 17, \"4\": 1, \"5\": 5, \"12\": 3, \"52\": 1, \"9\": 6, \"46\": 1, \"57\": 1, \"1\": 1}, \"51\": {\"51\": 90, \"43\": 11, \"36\": 2, \"38\": 3, \"8\": 10, \"20\": 5, \"13\": 7, \"55\": 5, \"23\": 2, \"21\": 1, \"53\": 2, \"41\": 1, \"42\": 2, \"17\": 1}, \"36\": {\"36\": 83, \"35\": 1, \"43\": 1, \"39\": 3, \"34\": 2, \"17\": 2}}}, \"per_domain_accuracy\": {\"O_50\": {\"accuracy\": 0.8971354166666666, \"source?\": true}, \"O_14\": {\"accuracy\": 0.33880208333333334, \"source?\": true}, \"O_32\": {\"accuracy\": 0.6580729166666667, \"source?\": true}, \"O_44\": {\"accuracy\": 0.81484375, \"source?\": true}, \"O_8\": {\"accuracy\": 0.31927083333333334, \"source?\": true}, \"O_20\": {\"accuracy\": 0.159375, \"source?\": true}, \"O_38\": {\"accuracy\": 0.8981770833333333, \"source?\": true}, \"O_26\": {\"accuracy\": 0.22291666666666668, \"source?\": true}, \"C_4\": {\"accuracy\": 0.5585227272727272, \"source?\": false}, \"C_2\": {\"accuracy\": 0.569873595505618, \"source?\": false}, \"C_3\": {\"accuracy\": 0.5455729166666666, \"source?\": false}, \"C_1\": {\"accuracy\": 0.6148648648648649, \"source?\": false}, \"C_5\": {\"accuracy\": 0.5490572625698324, \"source?\": false}}}, \"history\": {\"epoch_indices\": [1, 2, 3, 4, 5], \"train_label_loss\": [0.4916685627629271, 2.369388301489276, 0.37062645014541756, 0.3145022081283276, 0.27195966686454737], \"source_val_label_loss\": [512.8569946289062, 0.40577036142349243, 0.37887898087501526, 0.3034323453903198, 0.2582590579986572], \"target_val_label_loss\": [16205.7978515625, 5135.9033203125, 751.7680053710938, 1018.51806640625, 1122.8502197265625], \"source_val_acc_label\": [0.53857421875, 0.8655924479166667, 0.8825846354166667, 0.89345703125, 0.9133463541666667], \"target_val_acc_label\": [0.5683214285714285, 0.3265, 0.5408214285714286, 0.47632142857142856, 0.47910714285714284]}, \"dataset_metrics\": {\"source\": {\"train\": {\"n_unique_x\": 179200, \"n_unique_y\": 16, \"n_batch/episode\": 6720}, \"val\": {\"n_unique_x\": 38400, \"n_unique_y\": 16, \"n_batch/episode\": 960}, \"test\": {\"n_unique_x\": 38400, \"n_unique_y\": 16, \"n_batch/episode\": 960}}, \"target\": {\"train\": {\"n_unique_x\": 175197, \"n_unique_y\": 58, \"n_batch/episode\": 6309}, \"val\": {\"n_unique_x\": 37166, \"n_unique_y\": 58, \"n_batch/episode\": 875}, \"test\": {\"n_unique_x\": 37642, \"n_unique_y\": 58, \"n_batch/episode\": 890}}}}'"
      ]
     },
     "execution_count": 29,
     "metadata": {},
     "output_type": "execute_result"
    }
   ],
   "source": [
    "json.dumps(experiment)"
   ]
  }
 ],
 "metadata": {
  "celltoolbar": "Tags",
  "kernelspec": {
   "display_name": "Python 3 (ipykernel)",
   "language": "python",
   "name": "python3"
  },
  "language_info": {
   "codemirror_mode": {
    "name": "ipython",
    "version": 3
   },
   "file_extension": ".py",
   "mimetype": "text/x-python",
   "name": "python",
   "nbconvert_exporter": "python",
   "pygments_lexer": "ipython3",
   "version": "3.8.10"
  },
  "papermill": {
   "default_parameters": {},
   "duration": 934.216079,
   "end_time": "2022-03-25T14:28:19.454736",
   "environment_variables": {},
   "exception": null,
   "input_path": "/mnt/wd500GB/CSC500/csc500-main/csc500-notebooks/templates/tl_ptn_template.ipynb",
   "output_path": "trial.ipynb",
   "parameters": {
    "parameters": {
     "BEST_MODEL_PATH": "./best_model.pth",
     "NUM_LOGS_PER_EPOCH": 10,
     "criteria_for_best": "target_accuracy",
     "dataset_seed": 500,
     "datasets": [
      {
       "domain_prefix": "C_",
       "domains": [
        1,
        2,
        3,
        4,
        5
       ],
       "episode_transforms": [],
       "labels": [
        "1-10.",
        "1-11.",
        "1-15.",
        "1-16.",
        "1-17.",
        "1-18.",
        "1-19.",
        "10-4.",
        "10-7.",
        "11-1.",
        "11-14.",
        "11-17.",
        "11-20.",
        "11-7.",
        "13-20.",
        "13-8.",
        "14-10.",
        "14-11.",
        "14-14.",
        "14-7.",
        "15-1.",
        "15-20.",
        "16-1.",
        "16-16.",
        "17-10.",
        "17-11.",
        "17-2.",
        "19-1.",
        "19-16.",
        "19-19.",
        "19-20.",
        "19-3.",
        "2-10.",
        "2-11.",
        "2-17.",
        "2-18.",
        "2-20.",
        "2-3.",
        "2-4.",
        "2-5.",
        "2-6.",
        "2-7.",
        "2-8.",
        "3-13.",
        "3-18.",
        "3-3.",
        "4-1.",
        "4-10.",
        "4-11.",
        "4-19.",
        "5-5.",
        "6-15.",
        "7-10.",
        "7-14.",
        "8-18.",
        "8-20.",
        "8-3.",
        "8-8."
       ],
       "num_examples_per_domain_per_label": -1,
       "pickle_path": "/mnt/wd500GB/CSC500/csc500-main/datasets/cores.stratified_ds.2022A.pkl",
       "source_or_target_dataset": "target",
       "x_transforms": [
        "take_200"
       ]
      },
      {
       "domain_prefix": "O_",
       "domains": [
        32,
        38,
        8,
        44,
        14,
        50,
        20,
        26
       ],
       "episode_transforms": [],
       "labels": [
        "3123D52",
        "3123D65",
        "3123D79",
        "3123D80",
        "3123D54",
        "3123D70",
        "3123D7B",
        "3123D89",
        "3123D58",
        "3123D76",
        "3123D7D",
        "3123EFE",
        "3123D64",
        "3123D78",
        "3123D7E",
        "3124E4A"
       ],
       "num_examples_per_domain_per_label": 2000,
       "pickle_path": "/mnt/wd500GB/CSC500/csc500-main/datasets/oracle.Run1_framed_2000Examples_stratified_ds.2022A.pkl",
       "source_or_target_dataset": "source",
       "x_transforms": [
        "take_200",
        "resample_20Msps_to_25Msps"
       ]
      }
     ],
     "device": "cuda",
     "experiment_name": "tl_3Av2:oracle.run1.framed -> cores",
     "lr": 0.0001,
     "n_epoch": 50,
     "n_query": 2,
     "n_shot": 3,
     "n_way": 16,
     "patience": 3,
     "seed": 500,
     "test_k_factor": 2,
     "torch_default_dtype": "torch.float32",
     "train_k_factor": 3,
     "val_k_factor": 2,
     "x_net": [
      {
       "class": "nnReshape",
       "kargs": {
        "shape": [
         -1,
         1,
         2,
         200
        ]
       }
      },
      {
       "class": "Conv2d",
       "kargs": {
        "bias": false,
        "in_channels": 1,
        "kernel_size": [
         1,
         7
        ],
        "out_channels": 256,
        "padding": [
         0,
         3
        ]
       }
      },
      {
       "class": "ReLU",
       "kargs": {
        "inplace": true
       }
      },
      {
       "class": "BatchNorm2d",
       "kargs": {
        "num_features": 256
       }
      },
      {
       "class": "Conv2d",
       "kargs": {
        "bias": true,
        "in_channels": 256,
        "kernel_size": [
         2,
         7
        ],
        "out_channels": 80,
        "padding": [
         0,
         3
        ]
       }
      },
      {
       "class": "ReLU",
       "kargs": {
        "inplace": true
       }
      },
      {
       "class": "BatchNorm2d",
       "kargs": {
        "num_features": 80
       }
      },
      {
       "class": "Flatten",
       "kargs": {}
      },
      {
       "class": "Linear",
       "kargs": {
        "in_features": 16000,
        "out_features": 256
       }
      },
      {
       "class": "ReLU",
       "kargs": {
        "inplace": true
       }
      },
      {
       "class": "BatchNorm1d",
       "kargs": {
        "num_features": 256
       }
      },
      {
       "class": "Linear",
       "kargs": {
        "in_features": 256,
        "out_features": 256
       }
      }
     ],
     "x_shape": [
      2,
      200
     ]
    }
   },
   "start_time": "2022-03-25T14:12:45.238657",
   "version": "2.3.4"
  }
 },
 "nbformat": 4,
 "nbformat_minor": 5
}