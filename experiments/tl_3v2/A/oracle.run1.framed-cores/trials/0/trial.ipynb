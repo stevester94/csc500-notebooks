{
 "cells": [
  {
   "cell_type": "markdown",
   "id": "9fea5f46",
   "metadata": {
    "papermill": {
     "duration": 0.017778,
     "end_time": "2022-03-25T07:26:16.169975",
     "exception": false,
     "start_time": "2022-03-25T07:26:16.152197",
     "status": "completed"
    },
    "tags": []
   },
   "source": [
    "# Transfer Learning Template"
   ]
  },
  {
   "cell_type": "code",
   "execution_count": 1,
   "id": "0902182a",
   "metadata": {
    "execution": {
     "iopub.execute_input": "2022-03-25T07:26:16.209746Z",
     "iopub.status.busy": "2022-03-25T07:26:16.209225Z",
     "iopub.status.idle": "2022-03-25T07:26:17.131020Z",
     "shell.execute_reply": "2022-03-25T07:26:17.130712Z"
    },
    "papermill": {
     "duration": 0.948817,
     "end_time": "2022-03-25T07:26:17.131096",
     "exception": false,
     "start_time": "2022-03-25T07:26:16.182279",
     "status": "completed"
    },
    "tags": []
   },
   "outputs": [],
   "source": [
    "%load_ext autoreload\n",
    "%autoreload 2\n",
    "%matplotlib inline\n",
    "\n",
    "    \n",
    "import os, json, sys, time, random\n",
    "import numpy as np\n",
    "import torch\n",
    "from torch.optim import Adam\n",
    "from  easydict import EasyDict\n",
    "import matplotlib.pyplot as plt\n",
    "\n",
    "from steves_models.steves_ptn import Steves_Prototypical_Network\n",
    "\n",
    "from steves_utils.lazy_iterable_wrapper import Lazy_Iterable_Wrapper\n",
    "from steves_utils.iterable_aggregator import Iterable_Aggregator\n",
    "from steves_utils.ptn_train_eval_test_jig import  PTN_Train_Eval_Test_Jig\n",
    "from steves_utils.torch_sequential_builder import build_sequential\n",
    "from steves_utils.torch_utils import get_dataset_metrics, ptn_confusion_by_domain_over_dataloader\n",
    "from steves_utils.utils_v2 import (per_domain_accuracy_from_confusion, get_datasets_base_path)\n",
    "from steves_utils.PTN.utils import independent_accuracy_assesment\n",
    "\n",
    "from torch.utils.data import DataLoader\n",
    "\n",
    "from steves_utils.stratified_dataset.episodic_accessor import Episodic_Accessor_Factory\n",
    "\n",
    "from steves_utils.ptn_do_report import (\n",
    "    get_loss_curve,\n",
    "    get_results_table,\n",
    "    get_parameters_table,\n",
    "    get_domain_accuracies,\n",
    ")\n",
    "\n",
    "from steves_utils.transforms import get_chained_transform"
   ]
  },
  {
   "cell_type": "markdown",
   "id": "41c840b4",
   "metadata": {
    "papermill": {
     "duration": 0.012239,
     "end_time": "2022-03-25T07:26:17.160329",
     "exception": false,
     "start_time": "2022-03-25T07:26:17.148090",
     "status": "completed"
    },
    "tags": []
   },
   "source": [
    "# Allowed Parameters\n",
    "These are allowed parameters, not defaults\n",
    "Each of these values need to be present in the injected parameters (the notebook will raise an exception if they are not present)\n",
    "\n",
    "Papermill uses the cell tag \"parameters\" to inject the real parameters below this cell.\n",
    "Enable tags to see what I mean"
   ]
  },
  {
   "cell_type": "code",
   "execution_count": 2,
   "id": "fd44eb83",
   "metadata": {
    "execution": {
     "iopub.execute_input": "2022-03-25T07:26:17.187866Z",
     "iopub.status.busy": "2022-03-25T07:26:17.186257Z",
     "iopub.status.idle": "2022-03-25T07:26:17.202305Z",
     "shell.execute_reply": "2022-03-25T07:26:17.201805Z"
    },
    "papermill": {
     "duration": 0.029797,
     "end_time": "2022-03-25T07:26:17.202401",
     "exception": false,
     "start_time": "2022-03-25T07:26:17.172604",
     "status": "completed"
    },
    "tags": []
   },
   "outputs": [],
   "source": [
    "required_parameters = {\n",
    "    \"experiment_name\",\n",
    "    \"lr\",\n",
    "    \"device\",\n",
    "    \"seed\",\n",
    "    \"dataset_seed\",\n",
    "    \"n_shot\",\n",
    "    \"n_query\",\n",
    "    \"n_way\",\n",
    "    \"train_k_factor\",\n",
    "    \"val_k_factor\",\n",
    "    \"test_k_factor\",\n",
    "    \"n_epoch\",\n",
    "    \"patience\",\n",
    "    \"criteria_for_best\",\n",
    "    \"x_net\",\n",
    "    \"datasets\",\n",
    "    \"torch_default_dtype\",\n",
    "    \"NUM_LOGS_PER_EPOCH\",\n",
    "    \"BEST_MODEL_PATH\",\n",
    "    \"x_shape\",\n",
    "}"
   ]
  },
  {
   "cell_type": "code",
   "execution_count": 3,
   "id": "fa3f0049",
   "metadata": {
    "execution": {
     "iopub.execute_input": "2022-03-25T07:26:17.239513Z",
     "iopub.status.busy": "2022-03-25T07:26:17.238970Z",
     "iopub.status.idle": "2022-03-25T07:26:17.252120Z",
     "shell.execute_reply": "2022-03-25T07:26:17.251653Z"
    },
    "papermill": {
     "duration": 0.031249,
     "end_time": "2022-03-25T07:26:17.252218",
     "exception": false,
     "start_time": "2022-03-25T07:26:17.220969",
     "status": "completed"
    },
    "tags": [
     "parameters"
    ]
   },
   "outputs": [],
   "source": [
    "from steves_utils.CORES.utils import (\n",
    "    ALL_NODES,\n",
    "    ALL_NODES_MINIMUM_1000_EXAMPLES,\n",
    "    ALL_DAYS\n",
    ")\n",
    "\n",
    "from steves_utils.ORACLE.utils_v2 import (\n",
    "    ALL_DISTANCES_FEET_NARROWED,\n",
    "    ALL_RUNS,\n",
    "    ALL_SERIAL_NUMBERS,\n",
    ")\n",
    "\n",
    "standalone_parameters = {}\n",
    "standalone_parameters[\"experiment_name\"] = \"STANDALONE PTN\"\n",
    "standalone_parameters[\"lr\"] = 0.001\n",
    "standalone_parameters[\"device\"] = \"cuda\"\n",
    "\n",
    "standalone_parameters[\"seed\"] = 1337\n",
    "standalone_parameters[\"dataset_seed\"] = 1337\n",
    "\n",
    "standalone_parameters[\"n_way\"] = 8\n",
    "standalone_parameters[\"n_shot\"] = 3\n",
    "standalone_parameters[\"n_query\"]  = 2\n",
    "standalone_parameters[\"train_k_factor\"] = 1\n",
    "standalone_parameters[\"val_k_factor\"] = 2\n",
    "standalone_parameters[\"test_k_factor\"] = 2\n",
    "\n",
    "\n",
    "standalone_parameters[\"n_epoch\"] = 50\n",
    "\n",
    "standalone_parameters[\"patience\"] = 10\n",
    "standalone_parameters[\"criteria_for_best\"] = \"source_loss\"\n",
    "\n",
    "standalone_parameters[\"datasets\"] = [\n",
    "    {\n",
    "        \"labels\": ALL_SERIAL_NUMBERS,\n",
    "        \"domains\": ALL_DISTANCES_FEET_NARROWED,\n",
    "        \"num_examples_per_domain_per_label\": 100,\n",
    "        \"pickle_path\": os.path.join(get_datasets_base_path(), \"oracle.Run1_framed_2000Examples_stratified_ds.2022A.pkl\"),\n",
    "        \"source_or_target_dataset\": \"source\",\n",
    "        \"x_transforms\": [\"unit_mag\", \"minus_two\"],\n",
    "        \"episode_transforms\": [],\n",
    "        \"domain_prefix\": \"ORACLE_\"\n",
    "    },\n",
    "    {\n",
    "        \"labels\": ALL_NODES,\n",
    "        \"domains\": ALL_DAYS,\n",
    "        \"num_examples_per_domain_per_label\": 100,\n",
    "        \"pickle_path\": os.path.join(get_datasets_base_path(), \"cores.stratified_ds.2022A.pkl\"),\n",
    "        \"source_or_target_dataset\": \"target\",\n",
    "        \"x_transforms\": [\"unit_power\", \"times_zero\"],\n",
    "        \"episode_transforms\": [],\n",
    "        \"domain_prefix\": \"CORES_\"\n",
    "    }   \n",
    "]\n",
    "\n",
    "standalone_parameters[\"torch_default_dtype\"] = \"torch.float32\" \n",
    "\n",
    "\n",
    "\n",
    "standalone_parameters[\"x_net\"] =     [\n",
    "    {\"class\": \"nnReshape\", \"kargs\": {\"shape\":[-1, 1, 2, 256]}},\n",
    "    {\"class\": \"Conv2d\", \"kargs\": { \"in_channels\":1, \"out_channels\":256, \"kernel_size\":(1,7), \"bias\":False, \"padding\":(0,3), },},\n",
    "    {\"class\": \"ReLU\", \"kargs\": {\"inplace\": True}},\n",
    "    {\"class\": \"BatchNorm2d\", \"kargs\": {\"num_features\":256}},\n",
    "\n",
    "    {\"class\": \"Conv2d\", \"kargs\": { \"in_channels\":256, \"out_channels\":80, \"kernel_size\":(2,7), \"bias\":True, \"padding\":(0,3), },},\n",
    "    {\"class\": \"ReLU\", \"kargs\": {\"inplace\": True}},\n",
    "    {\"class\": \"BatchNorm2d\", \"kargs\": {\"num_features\":80}},\n",
    "    {\"class\": \"Flatten\", \"kargs\": {}},\n",
    "\n",
    "    {\"class\": \"Linear\", \"kargs\": {\"in_features\": 80*256, \"out_features\": 256}}, # 80 units per IQ pair\n",
    "    {\"class\": \"ReLU\", \"kargs\": {\"inplace\": True}},\n",
    "    {\"class\": \"BatchNorm1d\", \"kargs\": {\"num_features\":256}},\n",
    "\n",
    "    {\"class\": \"Linear\", \"kargs\": {\"in_features\": 256, \"out_features\": 256}},\n",
    "]\n",
    "\n",
    "# Parameters relevant to results\n",
    "# These parameters will basically never need to change\n",
    "standalone_parameters[\"NUM_LOGS_PER_EPOCH\"] = 10\n",
    "standalone_parameters[\"BEST_MODEL_PATH\"] = \"./best_model.pth\"\n",
    "\n",
    "\n",
    "\n",
    "\n"
   ]
  },
  {
   "cell_type": "code",
   "execution_count": 4,
   "id": "5dfeae15",
   "metadata": {
    "execution": {
     "iopub.execute_input": "2022-03-25T07:26:17.293911Z",
     "iopub.status.busy": "2022-03-25T07:26:17.293545Z",
     "iopub.status.idle": "2022-03-25T07:26:17.306258Z",
     "shell.execute_reply": "2022-03-25T07:26:17.305772Z"
    },
    "papermill": {
     "duration": 0.035451,
     "end_time": "2022-03-25T07:26:17.306356",
     "exception": false,
     "start_time": "2022-03-25T07:26:17.270905",
     "status": "completed"
    },
    "tags": [
     "injected-parameters"
    ]
   },
   "outputs": [],
   "source": [
    "# Parameters\n",
    "parameters = {\n",
    "    \"experiment_name\": \"tl_3Av2:oracle.run1.framed -> cores\",\n",
    "    \"device\": \"cuda\",\n",
    "    \"lr\": 0.0001,\n",
    "    \"x_shape\": [2, 200],\n",
    "    \"n_shot\": 3,\n",
    "    \"n_query\": 2,\n",
    "    \"train_k_factor\": 3,\n",
    "    \"val_k_factor\": 2,\n",
    "    \"test_k_factor\": 2,\n",
    "    \"torch_default_dtype\": \"torch.float32\",\n",
    "    \"n_epoch\": 50,\n",
    "    \"patience\": 3,\n",
    "    \"criteria_for_best\": \"target_accuracy\",\n",
    "    \"x_net\": [\n",
    "        {\"class\": \"nnReshape\", \"kargs\": {\"shape\": [-1, 1, 2, 200]}},\n",
    "        {\n",
    "            \"class\": \"Conv2d\",\n",
    "            \"kargs\": {\n",
    "                \"in_channels\": 1,\n",
    "                \"out_channels\": 256,\n",
    "                \"kernel_size\": [1, 7],\n",
    "                \"bias\": False,\n",
    "                \"padding\": [0, 3],\n",
    "            },\n",
    "        },\n",
    "        {\"class\": \"ReLU\", \"kargs\": {\"inplace\": True}},\n",
    "        {\"class\": \"BatchNorm2d\", \"kargs\": {\"num_features\": 256}},\n",
    "        {\n",
    "            \"class\": \"Conv2d\",\n",
    "            \"kargs\": {\n",
    "                \"in_channels\": 256,\n",
    "                \"out_channels\": 80,\n",
    "                \"kernel_size\": [2, 7],\n",
    "                \"bias\": True,\n",
    "                \"padding\": [0, 3],\n",
    "            },\n",
    "        },\n",
    "        {\"class\": \"ReLU\", \"kargs\": {\"inplace\": True}},\n",
    "        {\"class\": \"BatchNorm2d\", \"kargs\": {\"num_features\": 80}},\n",
    "        {\"class\": \"Flatten\", \"kargs\": {}},\n",
    "        {\"class\": \"Linear\", \"kargs\": {\"in_features\": 16000, \"out_features\": 256}},\n",
    "        {\"class\": \"ReLU\", \"kargs\": {\"inplace\": True}},\n",
    "        {\"class\": \"BatchNorm1d\", \"kargs\": {\"num_features\": 256}},\n",
    "        {\"class\": \"Linear\", \"kargs\": {\"in_features\": 256, \"out_features\": 256}},\n",
    "    ],\n",
    "    \"NUM_LOGS_PER_EPOCH\": 10,\n",
    "    \"BEST_MODEL_PATH\": \"./best_model.pth\",\n",
    "    \"n_way\": 16,\n",
    "    \"datasets\": [\n",
    "        {\n",
    "            \"labels\": [\n",
    "                \"1-10.\",\n",
    "                \"1-11.\",\n",
    "                \"1-15.\",\n",
    "                \"1-16.\",\n",
    "                \"1-17.\",\n",
    "                \"1-18.\",\n",
    "                \"1-19.\",\n",
    "                \"10-4.\",\n",
    "                \"10-7.\",\n",
    "                \"11-1.\",\n",
    "                \"11-14.\",\n",
    "                \"11-17.\",\n",
    "                \"11-20.\",\n",
    "                \"11-7.\",\n",
    "                \"13-20.\",\n",
    "                \"13-8.\",\n",
    "                \"14-10.\",\n",
    "                \"14-11.\",\n",
    "                \"14-14.\",\n",
    "                \"14-7.\",\n",
    "                \"15-1.\",\n",
    "                \"15-20.\",\n",
    "                \"16-1.\",\n",
    "                \"16-16.\",\n",
    "                \"17-10.\",\n",
    "                \"17-11.\",\n",
    "                \"17-2.\",\n",
    "                \"19-1.\",\n",
    "                \"19-16.\",\n",
    "                \"19-19.\",\n",
    "                \"19-20.\",\n",
    "                \"19-3.\",\n",
    "                \"2-10.\",\n",
    "                \"2-11.\",\n",
    "                \"2-17.\",\n",
    "                \"2-18.\",\n",
    "                \"2-20.\",\n",
    "                \"2-3.\",\n",
    "                \"2-4.\",\n",
    "                \"2-5.\",\n",
    "                \"2-6.\",\n",
    "                \"2-7.\",\n",
    "                \"2-8.\",\n",
    "                \"3-13.\",\n",
    "                \"3-18.\",\n",
    "                \"3-3.\",\n",
    "                \"4-1.\",\n",
    "                \"4-10.\",\n",
    "                \"4-11.\",\n",
    "                \"4-19.\",\n",
    "                \"5-5.\",\n",
    "                \"6-15.\",\n",
    "                \"7-10.\",\n",
    "                \"7-14.\",\n",
    "                \"8-18.\",\n",
    "                \"8-20.\",\n",
    "                \"8-3.\",\n",
    "                \"8-8.\",\n",
    "            ],\n",
    "            \"domains\": [1, 2, 3, 4, 5],\n",
    "            \"num_examples_per_domain_per_label\": -1,\n",
    "            \"pickle_path\": \"/mnt/wd500GB/CSC500/csc500-main/datasets/cores.stratified_ds.2022A.pkl\",\n",
    "            \"source_or_target_dataset\": \"target\",\n",
    "            \"x_transforms\": [\"unit_power\", \"take_200\"],\n",
    "            \"episode_transforms\": [],\n",
    "            \"domain_prefix\": \"C_\",\n",
    "        },\n",
    "        {\n",
    "            \"labels\": [\n",
    "                \"3123D52\",\n",
    "                \"3123D65\",\n",
    "                \"3123D79\",\n",
    "                \"3123D80\",\n",
    "                \"3123D54\",\n",
    "                \"3123D70\",\n",
    "                \"3123D7B\",\n",
    "                \"3123D89\",\n",
    "                \"3123D58\",\n",
    "                \"3123D76\",\n",
    "                \"3123D7D\",\n",
    "                \"3123EFE\",\n",
    "                \"3123D64\",\n",
    "                \"3123D78\",\n",
    "                \"3123D7E\",\n",
    "                \"3124E4A\",\n",
    "            ],\n",
    "            \"domains\": [32, 38, 8, 44, 14, 50, 20, 26],\n",
    "            \"num_examples_per_domain_per_label\": 2000,\n",
    "            \"pickle_path\": \"/mnt/wd500GB/CSC500/csc500-main/datasets/oracle.Run1_framed_2000Examples_stratified_ds.2022A.pkl\",\n",
    "            \"source_or_target_dataset\": \"source\",\n",
    "            \"x_transforms\": [\"unit_power\", \"take_200\", \"resample_20Msps_to_25Msps\"],\n",
    "            \"episode_transforms\": [],\n",
    "            \"domain_prefix\": \"O_\",\n",
    "        },\n",
    "    ],\n",
    "    \"seed\": 1337,\n",
    "    \"dataset_seed\": 1337,\n",
    "}\n"
   ]
  },
  {
   "cell_type": "code",
   "execution_count": 5,
   "id": "8fa1cc33",
   "metadata": {
    "execution": {
     "iopub.execute_input": "2022-03-25T07:26:17.341183Z",
     "iopub.status.busy": "2022-03-25T07:26:17.340884Z",
     "iopub.status.idle": "2022-03-25T07:26:17.355112Z",
     "shell.execute_reply": "2022-03-25T07:26:17.354697Z"
    },
    "papermill": {
     "duration": 0.030158,
     "end_time": "2022-03-25T07:26:17.355212",
     "exception": false,
     "start_time": "2022-03-25T07:26:17.325054",
     "status": "completed"
    },
    "tags": []
   },
   "outputs": [],
   "source": [
    "# Set this to True if you want to run this template directly\n",
    "STANDALONE = False\n",
    "if STANDALONE:\n",
    "    print(\"parameters not injected, running with standalone_parameters\")\n",
    "    parameters = standalone_parameters\n",
    "\n",
    "if not 'parameters' in locals() and not 'parameters' in globals():\n",
    "    raise Exception(\"Parameter injection failed\")\n",
    "\n",
    "#Use an easy dict for all the parameters\n",
    "p = EasyDict(parameters)\n",
    "\n",
    "if \"x_shape\" not in p:\n",
    "    p.x_shape = [2,256] # Default to this if we dont supply x_shape\n",
    "\n",
    "\n",
    "supplied_keys = set(p.keys())\n",
    "\n",
    "if  supplied_keys != required_parameters:\n",
    "    print(\"Parameters are incorrect\")\n",
    "    if len(supplied_keys - required_parameters)>0: print(\"Shouldn't have:\", str(supplied_keys - required_parameters))\n",
    "    if len(required_parameters - supplied_keys)>0: print(\"Need to have:\", str(required_parameters - supplied_keys))\n",
    "    raise RuntimeError(\"Parameters are incorrect\")"
   ]
  },
  {
   "cell_type": "code",
   "execution_count": 6,
   "id": "3a028d58",
   "metadata": {
    "execution": {
     "iopub.execute_input": "2022-03-25T07:26:17.390494Z",
     "iopub.status.busy": "2022-03-25T07:26:17.389186Z",
     "iopub.status.idle": "2022-03-25T07:26:17.405487Z",
     "shell.execute_reply": "2022-03-25T07:26:17.405015Z"
    },
    "papermill": {
     "duration": 0.030139,
     "end_time": "2022-03-25T07:26:17.405577",
     "exception": false,
     "start_time": "2022-03-25T07:26:17.375438",
     "status": "completed"
    },
    "tags": []
   },
   "outputs": [],
   "source": [
    "###################################\n",
    "# Set the RNGs and make it all deterministic\n",
    "###################################\n",
    "np.random.seed(p.seed)\n",
    "random.seed(p.seed)\n",
    "torch.manual_seed(p.seed)\n",
    "\n",
    "torch.use_deterministic_algorithms(True) "
   ]
  },
  {
   "cell_type": "code",
   "execution_count": 7,
   "id": "b691acf6",
   "metadata": {
    "execution": {
     "iopub.execute_input": "2022-03-25T07:26:17.438496Z",
     "iopub.status.busy": "2022-03-25T07:26:17.437942Z",
     "iopub.status.idle": "2022-03-25T07:26:17.452574Z",
     "shell.execute_reply": "2022-03-25T07:26:17.452161Z"
    },
    "papermill": {
     "duration": 0.029822,
     "end_time": "2022-03-25T07:26:17.452665",
     "exception": false,
     "start_time": "2022-03-25T07:26:17.422843",
     "status": "completed"
    },
    "tags": []
   },
   "outputs": [],
   "source": [
    "###########################################\n",
    "# The stratified datasets honor this\n",
    "###########################################\n",
    "torch.set_default_dtype(eval(p.torch_default_dtype))"
   ]
  },
  {
   "cell_type": "code",
   "execution_count": 8,
   "id": "b5fba671",
   "metadata": {
    "execution": {
     "iopub.execute_input": "2022-03-25T07:26:17.484644Z",
     "iopub.status.busy": "2022-03-25T07:26:17.484382Z",
     "iopub.status.idle": "2022-03-25T07:26:17.515491Z",
     "shell.execute_reply": "2022-03-25T07:26:17.515077Z"
    },
    "papermill": {
     "duration": 0.045629,
     "end_time": "2022-03-25T07:26:17.515583",
     "exception": false,
     "start_time": "2022-03-25T07:26:17.469954",
     "status": "completed"
    },
    "tags": []
   },
   "outputs": [],
   "source": [
    "###################################\n",
    "# Build the network(s)\n",
    "# Note: It's critical to do this AFTER setting the RNG\n",
    "###################################\n",
    "x_net = build_sequential(p.x_net)"
   ]
  },
  {
   "cell_type": "code",
   "execution_count": 9,
   "id": "5d7e61cc",
   "metadata": {
    "execution": {
     "iopub.execute_input": "2022-03-25T07:26:17.548658Z",
     "iopub.status.busy": "2022-03-25T07:26:17.548361Z",
     "iopub.status.idle": "2022-03-25T07:26:17.564237Z",
     "shell.execute_reply": "2022-03-25T07:26:17.563770Z"
    },
    "papermill": {
     "duration": 0.030882,
     "end_time": "2022-03-25T07:26:17.564329",
     "exception": false,
     "start_time": "2022-03-25T07:26:17.533447",
     "status": "completed"
    },
    "tags": []
   },
   "outputs": [],
   "source": [
    "start_time_secs = time.time()"
   ]
  },
  {
   "cell_type": "code",
   "execution_count": 10,
   "id": "c6b67dfd",
   "metadata": {
    "execution": {
     "iopub.execute_input": "2022-03-25T07:26:17.598509Z",
     "iopub.status.busy": "2022-03-25T07:26:17.598153Z",
     "iopub.status.idle": "2022-03-25T07:26:17.606919Z",
     "shell.execute_reply": "2022-03-25T07:26:17.607199Z"
    },
    "papermill": {
     "duration": 0.025735,
     "end_time": "2022-03-25T07:26:17.607282",
     "exception": false,
     "start_time": "2022-03-25T07:26:17.581547",
     "status": "completed"
    },
    "tags": []
   },
   "outputs": [],
   "source": [
    "p.domains_source = []\n",
    "p.domains_target = []\n",
    "\n",
    "\n",
    "train_original_source = []\n",
    "val_original_source   = []\n",
    "test_original_source  = []\n",
    "\n",
    "train_original_target = []\n",
    "val_original_target   = []\n",
    "test_original_target  = []"
   ]
  },
  {
   "cell_type": "code",
   "execution_count": 11,
   "id": "e3d9c3d3",
   "metadata": {
    "execution": {
     "iopub.execute_input": "2022-03-25T07:26:17.639787Z",
     "iopub.status.busy": "2022-03-25T07:26:17.639467Z",
     "iopub.status.idle": "2022-03-25T07:26:17.652558Z",
     "shell.execute_reply": "2022-03-25T07:26:17.652763Z"
    },
    "papermill": {
     "duration": 0.028135,
     "end_time": "2022-03-25T07:26:17.652823",
     "exception": false,
     "start_time": "2022-03-25T07:26:17.624688",
     "status": "completed"
    },
    "tags": []
   },
   "outputs": [],
   "source": [
    "# global_x_transform_func = lambda x: normalize(x.to(torch.get_default_dtype()), \"unit_power\") # unit_power, unit_mag\n",
    "# global_x_transform_func = lambda x: normalize(x, \"unit_power\") # unit_power, unit_mag"
   ]
  },
  {
   "cell_type": "code",
   "execution_count": 12,
   "id": "acb78fd2",
   "metadata": {
    "execution": {
     "iopub.execute_input": "2022-03-25T07:26:17.689183Z",
     "iopub.status.busy": "2022-03-25T07:26:17.688909Z",
     "iopub.status.idle": "2022-03-25T07:26:17.700349Z",
     "shell.execute_reply": "2022-03-25T07:26:17.699879Z"
    },
    "papermill": {
     "duration": 0.031002,
     "end_time": "2022-03-25T07:26:17.700441",
     "exception": false,
     "start_time": "2022-03-25T07:26:17.669439",
     "status": "completed"
    },
    "tags": []
   },
   "outputs": [],
   "source": [
    "def add_dataset(\n",
    "    labels,\n",
    "    domains,\n",
    "    pickle_path,\n",
    "    x_transforms,\n",
    "    episode_transforms,\n",
    "    domain_prefix,\n",
    "    num_examples_per_domain_per_label,\n",
    "    source_or_target_dataset:str,\n",
    "    iterator_seed=p.seed,\n",
    "    dataset_seed=p.dataset_seed,\n",
    "    n_shot=p.n_shot,\n",
    "    n_way=p.n_way,\n",
    "    n_query=p.n_query,\n",
    "    train_val_test_k_factors=(p.train_k_factor,p.val_k_factor,p.test_k_factor),\n",
    "):\n",
    "   \n",
    "    if x_transforms == []: x_transform = None\n",
    "    else: x_transform = get_chained_transform(x_transforms)\n",
    "    \n",
    "    if episode_transforms == []: episode_transform = None\n",
    "    else: raise Exception(\"episode_transforms not implemented\")\n",
    "    \n",
    "    episode_transform = lambda tup, _prefix=domain_prefix: (_prefix + str(tup[0]), tup[1])\n",
    "\n",
    "\n",
    "    eaf = Episodic_Accessor_Factory(\n",
    "        labels=labels,\n",
    "        domains=domains,\n",
    "        num_examples_per_domain_per_label=num_examples_per_domain_per_label,\n",
    "        iterator_seed=iterator_seed,\n",
    "        dataset_seed=dataset_seed,\n",
    "        n_shot=n_shot,\n",
    "        n_way=n_way,\n",
    "        n_query=n_query,\n",
    "        train_val_test_k_factors=train_val_test_k_factors,\n",
    "        pickle_path=pickle_path,\n",
    "        x_transform_func=x_transform,\n",
    "    )\n",
    "\n",
    "    train, val, test = eaf.get_train(), eaf.get_val(), eaf.get_test()\n",
    "    train = Lazy_Iterable_Wrapper(train, episode_transform)\n",
    "    val = Lazy_Iterable_Wrapper(val, episode_transform)\n",
    "    test = Lazy_Iterable_Wrapper(test, episode_transform)\n",
    "\n",
    "    if source_or_target_dataset==\"source\":\n",
    "        train_original_source.append(train)\n",
    "        val_original_source.append(val)\n",
    "        test_original_source.append(test)\n",
    "\n",
    "        p.domains_source.extend(\n",
    "            [domain_prefix + str(u) for u in domains]\n",
    "        )\n",
    "    elif source_or_target_dataset==\"target\":\n",
    "        train_original_target.append(train)\n",
    "        val_original_target.append(val)\n",
    "        test_original_target.append(test)\n",
    "        p.domains_target.extend(\n",
    "            [domain_prefix + str(u) for u in domains]\n",
    "        )\n",
    "    else:\n",
    "        raise Exception(f\"invalid source_or_target_dataset: {source_or_target_dataset}\")\n",
    "    "
   ]
  },
  {
   "cell_type": "code",
   "execution_count": 13,
   "id": "fe266617",
   "metadata": {
    "execution": {
     "iopub.execute_input": "2022-03-25T07:26:17.732958Z",
     "iopub.status.busy": "2022-03-25T07:26:17.732696Z",
     "iopub.status.idle": "2022-03-25T07:27:07.042280Z",
     "shell.execute_reply": "2022-03-25T07:27:07.041761Z"
    },
    "papermill": {
     "duration": 49.324258,
     "end_time": "2022-03-25T07:27:07.042383",
     "exception": false,
     "start_time": "2022-03-25T07:26:17.718125",
     "status": "completed"
    },
    "tags": []
   },
   "outputs": [],
   "source": [
    "for ds in p.datasets:\n",
    "    add_dataset(**ds)"
   ]
  },
  {
   "cell_type": "code",
   "execution_count": 14,
   "id": "b90d65ac",
   "metadata": {
    "execution": {
     "iopub.execute_input": "2022-03-25T07:27:07.076925Z",
     "iopub.status.busy": "2022-03-25T07:27:07.076147Z",
     "iopub.status.idle": "2022-03-25T07:27:07.092104Z",
     "shell.execute_reply": "2022-03-25T07:27:07.091780Z"
    },
    "papermill": {
     "duration": 0.030553,
     "end_time": "2022-03-25T07:27:07.092177",
     "exception": false,
     "start_time": "2022-03-25T07:27:07.061624",
     "status": "completed"
    },
    "tags": []
   },
   "outputs": [],
   "source": [
    "# from steves_utils.CORES.utils import (\n",
    "#     ALL_NODES,\n",
    "#     ALL_NODES_MINIMUM_1000_EXAMPLES,\n",
    "#     ALL_DAYS\n",
    "# )\n",
    "\n",
    "# add_dataset(\n",
    "#     labels=ALL_NODES,\n",
    "#     domains = ALL_DAYS,\n",
    "#     num_examples_per_domain_per_label=100,\n",
    "#     pickle_path=os.path.join(get_datasets_base_path(), \"cores.stratified_ds.2022A.pkl\"),\n",
    "#     source_or_target_dataset=\"target\",\n",
    "#     x_transform_func=global_x_transform_func,\n",
    "#     domain_modifier=lambda u: f\"cores_{u}\"\n",
    "# )"
   ]
  },
  {
   "cell_type": "code",
   "execution_count": 15,
   "id": "76db484d",
   "metadata": {
    "execution": {
     "iopub.execute_input": "2022-03-25T07:27:07.125656Z",
     "iopub.status.busy": "2022-03-25T07:27:07.125390Z",
     "iopub.status.idle": "2022-03-25T07:27:07.139883Z",
     "shell.execute_reply": "2022-03-25T07:27:07.139421Z"
    },
    "papermill": {
     "duration": 0.030046,
     "end_time": "2022-03-25T07:27:07.139975",
     "exception": false,
     "start_time": "2022-03-25T07:27:07.109929",
     "status": "completed"
    },
    "tags": []
   },
   "outputs": [],
   "source": [
    "# from steves_utils.ORACLE.utils_v2 import (\n",
    "#     ALL_DISTANCES_FEET,\n",
    "#     ALL_RUNS,\n",
    "#     ALL_SERIAL_NUMBERS,\n",
    "# )\n",
    "\n",
    "\n",
    "# add_dataset(\n",
    "#     labels=ALL_SERIAL_NUMBERS,\n",
    "#     domains = list(set(ALL_DISTANCES_FEET) - {2,62}),\n",
    "#     num_examples_per_domain_per_label=100,\n",
    "#     pickle_path=os.path.join(get_datasets_base_path(), \"oracle.Run2_framed_2000Examples_stratified_ds.2022A.pkl\"),\n",
    "#     source_or_target_dataset=\"source\",\n",
    "#     x_transform_func=global_x_transform_func,\n",
    "#     domain_modifier=lambda u: f\"oracle1_{u}\"\n",
    "# )\n"
   ]
  },
  {
   "cell_type": "code",
   "execution_count": 16,
   "id": "97dea9d2",
   "metadata": {
    "execution": {
     "iopub.execute_input": "2022-03-25T07:27:07.173788Z",
     "iopub.status.busy": "2022-03-25T07:27:07.173285Z",
     "iopub.status.idle": "2022-03-25T07:27:07.186876Z",
     "shell.execute_reply": "2022-03-25T07:27:07.186474Z"
    },
    "papermill": {
     "duration": 0.028937,
     "end_time": "2022-03-25T07:27:07.186971",
     "exception": false,
     "start_time": "2022-03-25T07:27:07.158034",
     "status": "completed"
    },
    "tags": []
   },
   "outputs": [],
   "source": [
    "# from steves_utils.ORACLE.utils_v2 import (\n",
    "#     ALL_DISTANCES_FEET,\n",
    "#     ALL_RUNS,\n",
    "#     ALL_SERIAL_NUMBERS,\n",
    "# )\n",
    "\n",
    "\n",
    "# add_dataset(\n",
    "#     labels=ALL_SERIAL_NUMBERS,\n",
    "#     domains = list(set(ALL_DISTANCES_FEET) - {2,62,56}),\n",
    "#     num_examples_per_domain_per_label=100,\n",
    "#     pickle_path=os.path.join(get_datasets_base_path(), \"oracle.Run2_framed_2000Examples_stratified_ds.2022A.pkl\"),\n",
    "#     source_or_target_dataset=\"source\",\n",
    "#     x_transform_func=global_x_transform_func,\n",
    "#     domain_modifier=lambda u: f\"oracle2_{u}\"\n",
    "# )"
   ]
  },
  {
   "cell_type": "code",
   "execution_count": 17,
   "id": "6f289866",
   "metadata": {
    "execution": {
     "iopub.execute_input": "2022-03-25T07:27:07.230402Z",
     "iopub.status.busy": "2022-03-25T07:27:07.229897Z",
     "iopub.status.idle": "2022-03-25T07:27:07.235195Z",
     "shell.execute_reply": "2022-03-25T07:27:07.235574Z"
    },
    "papermill": {
     "duration": 0.029919,
     "end_time": "2022-03-25T07:27:07.235684",
     "exception": false,
     "start_time": "2022-03-25T07:27:07.205765",
     "status": "completed"
    },
    "tags": []
   },
   "outputs": [],
   "source": [
    "# add_dataset(\n",
    "#     labels=list(range(19)),\n",
    "#     domains = [0,1,2],\n",
    "#     num_examples_per_domain_per_label=100,\n",
    "#     pickle_path=os.path.join(get_datasets_base_path(), \"metehan.stratified_ds.2022A.pkl\"),\n",
    "#     source_or_target_dataset=\"target\",\n",
    "#     x_transform_func=global_x_transform_func,\n",
    "#     domain_modifier=lambda u: f\"met_{u}\"\n",
    "# )"
   ]
  },
  {
   "cell_type": "code",
   "execution_count": 18,
   "id": "86a863c3",
   "metadata": {
    "execution": {
     "iopub.execute_input": "2022-03-25T07:27:07.275423Z",
     "iopub.status.busy": "2022-03-25T07:27:07.274485Z",
     "iopub.status.idle": "2022-03-25T07:27:07.282300Z",
     "shell.execute_reply": "2022-03-25T07:27:07.282732Z"
    },
    "papermill": {
     "duration": 0.02855,
     "end_time": "2022-03-25T07:27:07.282849",
     "exception": false,
     "start_time": "2022-03-25T07:27:07.254299",
     "status": "completed"
    },
    "tags": []
   },
   "outputs": [],
   "source": [
    "# # from steves_utils.wisig.utils import (\n",
    "# #     ALL_NODES_MINIMUM_100_EXAMPLES,\n",
    "# #     ALL_NODES_MINIMUM_500_EXAMPLES,\n",
    "# #     ALL_NODES_MINIMUM_1000_EXAMPLES,\n",
    "# #     ALL_DAYS\n",
    "# # )\n",
    "\n",
    "# import steves_utils.wisig.utils as wisig\n",
    "\n",
    "\n",
    "# add_dataset(\n",
    "#     labels=wisig.ALL_NODES_MINIMUM_100_EXAMPLES,\n",
    "#     domains = wisig.ALL_DAYS,\n",
    "#     num_examples_per_domain_per_label=100,\n",
    "#     pickle_path=os.path.join(get_datasets_base_path(), \"wisig.node3-19.stratified_ds.2022A.pkl\"),\n",
    "#     source_or_target_dataset=\"target\",\n",
    "#     x_transform_func=global_x_transform_func,\n",
    "#     domain_modifier=lambda u: f\"wisig_{u}\"\n",
    "# )"
   ]
  },
  {
   "cell_type": "code",
   "execution_count": 19,
   "id": "fd5442bc",
   "metadata": {
    "execution": {
     "iopub.execute_input": "2022-03-25T07:27:07.319582Z",
     "iopub.status.busy": "2022-03-25T07:27:07.319324Z",
     "iopub.status.idle": "2022-03-25T07:27:07.333974Z",
     "shell.execute_reply": "2022-03-25T07:27:07.333667Z"
    },
    "papermill": {
     "duration": 0.033454,
     "end_time": "2022-03-25T07:27:07.334060",
     "exception": false,
     "start_time": "2022-03-25T07:27:07.300606",
     "status": "completed"
    },
    "tags": []
   },
   "outputs": [],
   "source": [
    "###################################\n",
    "# Build the dataset\n",
    "###################################\n",
    "train_original_source = Iterable_Aggregator(train_original_source, p.seed)\n",
    "val_original_source = Iterable_Aggregator(val_original_source, p.seed)\n",
    "test_original_source = Iterable_Aggregator(test_original_source, p.seed)\n",
    "\n",
    "\n",
    "train_original_target = Iterable_Aggregator(train_original_target, p.seed)\n",
    "val_original_target = Iterable_Aggregator(val_original_target, p.seed)\n",
    "test_original_target = Iterable_Aggregator(test_original_target, p.seed)\n",
    "\n",
    "# For CNN We only use X and Y. And we only train on the source.\n",
    "# Properly form the data using a transform lambda and Lazy_Iterable_Wrapper. Finally wrap them in a dataloader\n",
    "\n",
    "transform_lambda = lambda ex: ex[1] # Original is (<domain>, <episode>) so we strip down to episode only\n",
    "\n",
    "train_processed_source = Lazy_Iterable_Wrapper(train_original_source, transform_lambda)\n",
    "val_processed_source   = Lazy_Iterable_Wrapper(val_original_source, transform_lambda)\n",
    "test_processed_source  = Lazy_Iterable_Wrapper(test_original_source, transform_lambda)\n",
    "\n",
    "train_processed_target = Lazy_Iterable_Wrapper(train_original_target, transform_lambda)\n",
    "val_processed_target   = Lazy_Iterable_Wrapper(val_original_target, transform_lambda)\n",
    "test_processed_target  = Lazy_Iterable_Wrapper(test_original_target, transform_lambda)\n",
    "\n",
    "datasets = EasyDict({\n",
    "    \"source\": {\n",
    "        \"original\": {\"train\":train_original_source, \"val\":val_original_source, \"test\":test_original_source},\n",
    "        \"processed\": {\"train\":train_processed_source, \"val\":val_processed_source, \"test\":test_processed_source}\n",
    "    },\n",
    "    \"target\": {\n",
    "        \"original\": {\"train\":train_original_target, \"val\":val_original_target, \"test\":test_original_target},\n",
    "        \"processed\": {\"train\":train_processed_target, \"val\":val_processed_target, \"test\":test_processed_target}\n",
    "    },\n",
    "})"
   ]
  },
  {
   "cell_type": "code",
   "execution_count": 20,
   "id": "5b3c01fc",
   "metadata": {
    "execution": {
     "iopub.execute_input": "2022-03-25T07:27:07.368333Z",
     "iopub.status.busy": "2022-03-25T07:27:07.368077Z",
     "iopub.status.idle": "2022-03-25T07:27:13.663896Z",
     "shell.execute_reply": "2022-03-25T07:27:13.664239Z"
    },
    "papermill": {
     "duration": 6.312896,
     "end_time": "2022-03-25T07:27:13.664375",
     "exception": false,
     "start_time": "2022-03-25T07:27:07.351479",
     "status": "completed"
    },
    "tags": []
   },
   "outputs": [
    {
     "name": "stdout",
     "output_type": "stream",
     "text": [
      "{'O_50', 'O_14', 'O_8', 'O_32', 'O_44', 'O_38', 'O_26', 'O_20'}\n"
     ]
    },
    {
     "name": "stdout",
     "output_type": "stream",
     "text": [
      "{'C_5', 'C_4', 'C_3', 'C_2', 'C_1'}\n"
     ]
    },
    {
     "name": "stdout",
     "output_type": "stream",
     "text": [
      "tensor([[[-0.0923,  1.0752,  0.6110,  ...,  0.6559,  0.5223,  0.7143],\n",
      "         [-0.6368, -0.5725,  0.6937,  ..., -0.1130,  1.1143,  0.1163]],\n",
      "\n",
      "        [[-0.4471,  0.4547,  0.8059,  ...,  1.1441,  0.5111,  0.0187],\n",
      "         [-1.1271, -0.7907,  0.8745,  ..., -0.4535, -0.6299, -1.3768]],\n",
      "\n",
      "        [[ 0.6516, -0.0535, -0.8938,  ..., -0.8408, -0.9332, -0.1014],\n",
      "         [ 0.8284,  1.0704, -0.5317,  ...,  0.4742,  0.2587,  1.1794]],\n",
      "\n",
      "        ...,\n",
      "\n",
      "        [[ 0.9795,  0.2346, -1.1961,  ..., -0.6991, -0.1533,  0.9162],\n",
      "         [ 0.5525,  0.9115, -0.0492,  ...,  0.9787,  0.7343,  0.9973]],\n",
      "\n",
      "        [[ 0.0252, -1.0168, -0.2853,  ..., -0.8572, -0.8433, -0.9555],\n",
      "         [ 0.7878,  0.7791, -0.7462,  ..., -0.1243, -0.6905,  0.6571]],\n",
      "\n",
      "        [[ 0.4825,  0.4645, -0.3477,  ...,  0.4871, -1.1842, -0.6537],\n",
      "         [-0.4126,  0.9377,  0.7358,  ...,  0.6690,  0.2844,  0.4617]]])\n"
     ]
    }
   ],
   "source": [
    "from steves_utils.transforms import get_average_magnitude, get_average_power\n",
    "\n",
    "print(set([u for u,_ in val_original_source]))\n",
    "print(set([u for u,_ in val_original_target]))\n",
    "\n",
    "s_x, s_y, q_x, q_y, _ = next(iter(train_processed_source))\n",
    "print(s_x)\n",
    "\n",
    "# for ds in [\n",
    "#     train_processed_source,\n",
    "#     val_processed_source,\n",
    "#     test_processed_source,\n",
    "#     train_processed_target,\n",
    "#     val_processed_target,\n",
    "#     test_processed_target\n",
    "# ]:\n",
    "#     for s_x, s_y, q_x, q_y, _ in ds:\n",
    "#         for X in (s_x, q_x):\n",
    "#             for x in X:\n",
    "#                 assert np.isclose(get_average_magnitude(x.numpy()), 1.0)\n",
    "#                 assert np.isclose(get_average_power(x.numpy()), 1.0)\n",
    "                "
   ]
  },
  {
   "cell_type": "code",
   "execution_count": 21,
   "id": "bbdacba1",
   "metadata": {
    "execution": {
     "iopub.execute_input": "2022-03-25T07:27:13.701646Z",
     "iopub.status.busy": "2022-03-25T07:27:13.701371Z",
     "iopub.status.idle": "2022-03-25T07:27:13.749517Z",
     "shell.execute_reply": "2022-03-25T07:27:13.749126Z"
    },
    "papermill": {
     "duration": 0.065164,
     "end_time": "2022-03-25T07:27:13.749612",
     "exception": false,
     "start_time": "2022-03-25T07:27:13.684448",
     "status": "completed"
    },
    "tags": []
   },
   "outputs": [
    {
     "name": "stdout",
     "output_type": "stream",
     "text": [
      "(2, 200)\n"
     ]
    }
   ],
   "source": [
    "###################################\n",
    "# Build the model\n",
    "###################################\n",
    "# easfsl only wants a tuple for the shape\n",
    "model = Steves_Prototypical_Network(x_net, device=p.device, x_shape=tuple(p.x_shape))\n",
    "optimizer = Adam(params=model.parameters(), lr=p.lr)"
   ]
  },
  {
   "cell_type": "code",
   "execution_count": 22,
   "id": "22b39ac5",
   "metadata": {
    "execution": {
     "iopub.execute_input": "2022-03-25T07:27:13.786164Z",
     "iopub.status.busy": "2022-03-25T07:27:13.785885Z",
     "iopub.status.idle": "2022-03-25T07:48:55.918182Z",
     "shell.execute_reply": "2022-03-25T07:48:55.917940Z"
    },
    "papermill": {
     "duration": 1302.149842,
     "end_time": "2022-03-25T07:48:55.918240",
     "exception": false,
     "start_time": "2022-03-25T07:27:13.768398",
     "status": "completed"
    },
    "tags": []
   },
   "outputs": [
    {
     "name": "stdout",
     "output_type": "stream",
     "text": [
      "epoch: 1, [batch: 1 / 6720], examples_per_second: 50.0553, train_label_loss: 2.9602, \n"
     ]
    },
    {
     "name": "stdout",
     "output_type": "stream",
     "text": [
      "epoch: 1, [batch: 672 / 6720], examples_per_second: 3651.3002, train_label_loss: 1.0100, \n"
     ]
    },
    {
     "name": "stdout",
     "output_type": "stream",
     "text": [
      "epoch: 1, [batch: 1344 / 6720], examples_per_second: 3670.9352, train_label_loss: 0.8658, \n"
     ]
    },
    {
     "name": "stdout",
     "output_type": "stream",
     "text": [
      "epoch: 1, [batch: 2016 / 6720], examples_per_second: 3665.8730, train_label_loss: 0.8262, \n"
     ]
    },
    {
     "name": "stdout",
     "output_type": "stream",
     "text": [
      "epoch: 1, [batch: 2688 / 6720], examples_per_second: 3652.6304, train_label_loss: 1.1273, \n"
     ]
    },
    {
     "name": "stdout",
     "output_type": "stream",
     "text": [
      "epoch: 1, [batch: 3360 / 6720], examples_per_second: 3689.0652, train_label_loss: 1.0419, \n"
     ]
    },
    {
     "name": "stdout",
     "output_type": "stream",
     "text": [
      "epoch: 1, [batch: 4032 / 6720], examples_per_second: 3665.2642, train_label_loss: 0.8908, \n"
     ]
    },
    {
     "name": "stdout",
     "output_type": "stream",
     "text": [
      "epoch: 1, [batch: 4704 / 6720], examples_per_second: 3624.2108, train_label_loss: 0.6538, \n"
     ]
    },
    {
     "name": "stdout",
     "output_type": "stream",
     "text": [
      "epoch: 1, [batch: 5376 / 6720], examples_per_second: 3636.6547, train_label_loss: 0.8208, \n"
     ]
    },
    {
     "name": "stdout",
     "output_type": "stream",
     "text": [
      "epoch: 1, [batch: 6048 / 6720], examples_per_second: 3641.0313, train_label_loss: 0.5078, \n"
     ]
    },
    {
     "name": "stdout",
     "output_type": "stream",
     "text": [
      "=============================================================\n",
      "epoch: 1, source_val_acc_label: 0.5840, target_val_acc_label: 0.5657, source_val_label_loss: 58.6316, target_val_label_loss: 1503.2354, \n",
      "=============================================================\n"
     ]
    },
    {
     "name": "stdout",
     "output_type": "stream",
     "text": [
      "New best\n"
     ]
    },
    {
     "name": "stdout",
     "output_type": "stream",
     "text": [
      "epoch: 2, [batch: 1 / 6720], examples_per_second: 5.2674, train_label_loss: 111.2593, \n"
     ]
    },
    {
     "name": "stdout",
     "output_type": "stream",
     "text": [
      "epoch: 2, [batch: 672 / 6720], examples_per_second: 3642.6159, train_label_loss: 0.7355, \n"
     ]
    },
    {
     "name": "stdout",
     "output_type": "stream",
     "text": [
      "epoch: 2, [batch: 1344 / 6720], examples_per_second: 3656.6024, train_label_loss: 0.5927, \n"
     ]
    },
    {
     "name": "stdout",
     "output_type": "stream",
     "text": [
      "epoch: 2, [batch: 2016 / 6720], examples_per_second: 3667.1902, train_label_loss: 1.1279, \n"
     ]
    },
    {
     "name": "stdout",
     "output_type": "stream",
     "text": [
      "epoch: 2, [batch: 2688 / 6720], examples_per_second: 3633.0077, train_label_loss: 0.9667, \n"
     ]
    },
    {
     "name": "stdout",
     "output_type": "stream",
     "text": [
      "epoch: 2, [batch: 3360 / 6720], examples_per_second: 3655.0579, train_label_loss: 0.4999, \n"
     ]
    },
    {
     "name": "stdout",
     "output_type": "stream",
     "text": [
      "epoch: 2, [batch: 4032 / 6720], examples_per_second: 3666.0410, train_label_loss: 0.4985, \n"
     ]
    },
    {
     "name": "stdout",
     "output_type": "stream",
     "text": [
      "epoch: 2, [batch: 4704 / 6720], examples_per_second: 3636.9121, train_label_loss: 0.8476, \n"
     ]
    },
    {
     "name": "stdout",
     "output_type": "stream",
     "text": [
      "epoch: 2, [batch: 5376 / 6720], examples_per_second: 3670.7289, train_label_loss: 1.1934, \n"
     ]
    },
    {
     "name": "stdout",
     "output_type": "stream",
     "text": [
      "epoch: 2, [batch: 6048 / 6720], examples_per_second: 3669.2188, train_label_loss: 0.5430, \n"
     ]
    },
    {
     "name": "stdout",
     "output_type": "stream",
     "text": [
      "=============================================================\n",
      "epoch: 2, source_val_acc_label: 0.7424, target_val_acc_label: 0.6565, source_val_label_loss: 0.7085, target_val_label_loss: 119.9282, \n",
      "=============================================================\n"
     ]
    },
    {
     "name": "stdout",
     "output_type": "stream",
     "text": [
      "New best\n"
     ]
    },
    {
     "name": "stdout",
     "output_type": "stream",
     "text": [
      "epoch: 3, [batch: 1 / 6720], examples_per_second: 5.2998, train_label_loss: 0.9768, \n"
     ]
    },
    {
     "name": "stdout",
     "output_type": "stream",
     "text": [
      "epoch: 3, [batch: 672 / 6720], examples_per_second: 3649.5059, train_label_loss: 0.3287, \n"
     ]
    },
    {
     "name": "stdout",
     "output_type": "stream",
     "text": [
      "epoch: 3, [batch: 1344 / 6720], examples_per_second: 3663.0223, train_label_loss: 0.4908, \n"
     ]
    },
    {
     "name": "stdout",
     "output_type": "stream",
     "text": [
      "epoch: 3, [batch: 2016 / 6720], examples_per_second: 3639.6230, train_label_loss: 0.4555, \n"
     ]
    },
    {
     "name": "stdout",
     "output_type": "stream",
     "text": [
      "epoch: 3, [batch: 2688 / 6720], examples_per_second: 3629.2379, train_label_loss: 0.5355, \n"
     ]
    },
    {
     "name": "stdout",
     "output_type": "stream",
     "text": [
      "epoch: 3, [batch: 3360 / 6720], examples_per_second: 3626.1434, train_label_loss: 0.9341, \n"
     ]
    },
    {
     "name": "stdout",
     "output_type": "stream",
     "text": [
      "epoch: 3, [batch: 4032 / 6720], examples_per_second: 3647.9123, train_label_loss: 0.8234, \n"
     ]
    },
    {
     "name": "stdout",
     "output_type": "stream",
     "text": [
      "epoch: 3, [batch: 4704 / 6720], examples_per_second: 3640.7844, train_label_loss: 0.5079, \n"
     ]
    },
    {
     "name": "stdout",
     "output_type": "stream",
     "text": [
      "epoch: 3, [batch: 5376 / 6720], examples_per_second: 3653.1526, train_label_loss: 0.3923, \n"
     ]
    },
    {
     "name": "stdout",
     "output_type": "stream",
     "text": [
      "epoch: 3, [batch: 6048 / 6720], examples_per_second: 3648.1360, train_label_loss: 0.2902, \n"
     ]
    },
    {
     "name": "stdout",
     "output_type": "stream",
     "text": [
      "=============================================================\n",
      "epoch: 3, source_val_acc_label: 0.7439, target_val_acc_label: 0.6731, source_val_label_loss: 0.6868, target_val_label_loss: 99.9608, \n",
      "=============================================================\n"
     ]
    },
    {
     "name": "stdout",
     "output_type": "stream",
     "text": [
      "New best\n"
     ]
    },
    {
     "name": "stdout",
     "output_type": "stream",
     "text": [
      "epoch: 4, [batch: 1 / 6720], examples_per_second: 5.2987, train_label_loss: 0.4023, \n"
     ]
    },
    {
     "name": "stdout",
     "output_type": "stream",
     "text": [
      "epoch: 4, [batch: 672 / 6720], examples_per_second: 3635.8155, train_label_loss: 0.2497, \n"
     ]
    },
    {
     "name": "stdout",
     "output_type": "stream",
     "text": [
      "epoch: 4, [batch: 1344 / 6720], examples_per_second: 3633.9321, train_label_loss: 0.9536, \n"
     ]
    },
    {
     "name": "stdout",
     "output_type": "stream",
     "text": [
      "epoch: 4, [batch: 2016 / 6720], examples_per_second: 3658.7733, train_label_loss: 0.7584, \n"
     ]
    },
    {
     "name": "stdout",
     "output_type": "stream",
     "text": [
      "epoch: 4, [batch: 2688 / 6720], examples_per_second: 3647.8121, train_label_loss: 0.5474, \n"
     ]
    },
    {
     "name": "stdout",
     "output_type": "stream",
     "text": [
      "epoch: 4, [batch: 3360 / 6720], examples_per_second: 3652.2031, train_label_loss: 0.3483, \n"
     ]
    },
    {
     "name": "stdout",
     "output_type": "stream",
     "text": [
      "epoch: 4, [batch: 4032 / 6720], examples_per_second: 3671.4109, train_label_loss: 0.9603, \n"
     ]
    },
    {
     "name": "stdout",
     "output_type": "stream",
     "text": [
      "epoch: 4, [batch: 4704 / 6720], examples_per_second: 3633.1242, train_label_loss: 0.4254, \n"
     ]
    },
    {
     "name": "stdout",
     "output_type": "stream",
     "text": [
      "epoch: 4, [batch: 5376 / 6720], examples_per_second: 3664.2357, train_label_loss: 0.7358, \n"
     ]
    },
    {
     "name": "stdout",
     "output_type": "stream",
     "text": [
      "epoch: 4, [batch: 6048 / 6720], examples_per_second: 3668.8396, train_label_loss: 0.3558, \n"
     ]
    },
    {
     "name": "stdout",
     "output_type": "stream",
     "text": [
      "=============================================================\n",
      "epoch: 4, source_val_acc_label: 0.7917, target_val_acc_label: 0.6774, source_val_label_loss: 0.5611, target_val_label_loss: 92.5166, \n",
      "=============================================================\n"
     ]
    },
    {
     "name": "stdout",
     "output_type": "stream",
     "text": [
      "New best\n"
     ]
    },
    {
     "name": "stdout",
     "output_type": "stream",
     "text": [
      "epoch: 5, [batch: 1 / 6720], examples_per_second: 5.2623, train_label_loss: 0.4099, \n"
     ]
    },
    {
     "name": "stdout",
     "output_type": "stream",
     "text": [
      "epoch: 5, [batch: 672 / 6720], examples_per_second: 3625.0880, train_label_loss: 0.5014, \n"
     ]
    },
    {
     "name": "stdout",
     "output_type": "stream",
     "text": [
      "epoch: 5, [batch: 1344 / 6720], examples_per_second: 3660.1824, train_label_loss: 0.6878, \n"
     ]
    },
    {
     "name": "stdout",
     "output_type": "stream",
     "text": [
      "epoch: 5, [batch: 2016 / 6720], examples_per_second: 3654.2522, train_label_loss: 0.9355, \n"
     ]
    },
    {
     "name": "stdout",
     "output_type": "stream",
     "text": [
      "epoch: 5, [batch: 2688 / 6720], examples_per_second: 3632.1659, train_label_loss: 0.4992, \n"
     ]
    },
    {
     "name": "stdout",
     "output_type": "stream",
     "text": [
      "epoch: 5, [batch: 3360 / 6720], examples_per_second: 3663.6133, train_label_loss: 0.2289, \n"
     ]
    },
    {
     "name": "stdout",
     "output_type": "stream",
     "text": [
      "epoch: 5, [batch: 4032 / 6720], examples_per_second: 3637.1546, train_label_loss: 0.2757, \n"
     ]
    },
    {
     "name": "stdout",
     "output_type": "stream",
     "text": [
      "epoch: 5, [batch: 4704 / 6720], examples_per_second: 3620.9693, train_label_loss: 0.2244, \n"
     ]
    },
    {
     "name": "stdout",
     "output_type": "stream",
     "text": [
      "epoch: 5, [batch: 5376 / 6720], examples_per_second: 3641.8776, train_label_loss: 0.6424, \n"
     ]
    },
    {
     "name": "stdout",
     "output_type": "stream",
     "text": [
      "epoch: 5, [batch: 6048 / 6720], examples_per_second: 3650.3398, train_label_loss: 0.3863, \n"
     ]
    },
    {
     "name": "stdout",
     "output_type": "stream",
     "text": [
      "=============================================================\n",
      "epoch: 5, source_val_acc_label: 0.8255, target_val_acc_label: 0.6526, source_val_label_loss: 0.4781, target_val_label_loss: 99.8130, \n",
      "=============================================================\n"
     ]
    },
    {
     "name": "stdout",
     "output_type": "stream",
     "text": [
      "epoch: 6, [batch: 1 / 6720], examples_per_second: 5.3105, train_label_loss: 0.3940, \n"
     ]
    },
    {
     "name": "stdout",
     "output_type": "stream",
     "text": [
      "epoch: 6, [batch: 672 / 6720], examples_per_second: 3641.2580, train_label_loss: 0.8232, \n"
     ]
    },
    {
     "name": "stdout",
     "output_type": "stream",
     "text": [
      "epoch: 6, [batch: 1344 / 6720], examples_per_second: 3651.2516, train_label_loss: 0.7284, \n"
     ]
    },
    {
     "name": "stdout",
     "output_type": "stream",
     "text": [
      "epoch: 6, [batch: 2016 / 6720], examples_per_second: 3655.3532, train_label_loss: 0.3325, \n"
     ]
    },
    {
     "name": "stdout",
     "output_type": "stream",
     "text": [
      "epoch: 6, [batch: 2688 / 6720], examples_per_second: 3645.3486, train_label_loss: 0.1267, \n"
     ]
    },
    {
     "name": "stdout",
     "output_type": "stream",
     "text": [
      "epoch: 6, [batch: 3360 / 6720], examples_per_second: 3655.0838, train_label_loss: 0.1869, \n"
     ]
    },
    {
     "name": "stdout",
     "output_type": "stream",
     "text": [
      "epoch: 6, [batch: 4032 / 6720], examples_per_second: 3654.2424, train_label_loss: 0.4373, \n"
     ]
    },
    {
     "name": "stdout",
     "output_type": "stream",
     "text": [
      "epoch: 6, [batch: 4704 / 6720], examples_per_second: 3649.2304, train_label_loss: 0.5510, \n"
     ]
    },
    {
     "name": "stdout",
     "output_type": "stream",
     "text": [
      "epoch: 6, [batch: 5376 / 6720], examples_per_second: 3670.6939, train_label_loss: 0.4094, \n"
     ]
    },
    {
     "name": "stdout",
     "output_type": "stream",
     "text": [
      "epoch: 6, [batch: 6048 / 6720], examples_per_second: 3647.8072, train_label_loss: 0.1822, \n"
     ]
    },
    {
     "name": "stdout",
     "output_type": "stream",
     "text": [
      "=============================================================\n",
      "epoch: 6, source_val_acc_label: 0.8359, target_val_acc_label: 0.6687, source_val_label_loss: 0.4459, target_val_label_loss: 117.2760, \n",
      "=============================================================\n"
     ]
    },
    {
     "name": "stdout",
     "output_type": "stream",
     "text": [
      "epoch: 7, [batch: 1 / 6720], examples_per_second: 5.2920, train_label_loss: 0.1456, \n"
     ]
    },
    {
     "name": "stdout",
     "output_type": "stream",
     "text": [
      "epoch: 7, [batch: 672 / 6720], examples_per_second: 3627.5475, train_label_loss: 0.7487, \n"
     ]
    },
    {
     "name": "stdout",
     "output_type": "stream",
     "text": [
      "epoch: 7, [batch: 1344 / 6720], examples_per_second: 3652.5875, train_label_loss: 0.3675, \n"
     ]
    },
    {
     "name": "stdout",
     "output_type": "stream",
     "text": [
      "epoch: 7, [batch: 2016 / 6720], examples_per_second: 3663.6981, train_label_loss: 0.5771, \n"
     ]
    },
    {
     "name": "stdout",
     "output_type": "stream",
     "text": [
      "epoch: 7, [batch: 2688 / 6720], examples_per_second: 3644.2331, train_label_loss: 0.4988, \n"
     ]
    },
    {
     "name": "stdout",
     "output_type": "stream",
     "text": [
      "epoch: 7, [batch: 3360 / 6720], examples_per_second: 3649.7668, train_label_loss: 0.8036, \n"
     ]
    },
    {
     "name": "stdout",
     "output_type": "stream",
     "text": [
      "epoch: 7, [batch: 4032 / 6720], examples_per_second: 3649.4896, train_label_loss: 0.1927, \n"
     ]
    },
    {
     "name": "stdout",
     "output_type": "stream",
     "text": [
      "epoch: 7, [batch: 4704 / 6720], examples_per_second: 3633.0804, train_label_loss: 0.5675, \n"
     ]
    },
    {
     "name": "stdout",
     "output_type": "stream",
     "text": [
      "epoch: 7, [batch: 5376 / 6720], examples_per_second: 3653.8730, train_label_loss: 0.2176, \n"
     ]
    },
    {
     "name": "stdout",
     "output_type": "stream",
     "text": [
      "epoch: 7, [batch: 6048 / 6720], examples_per_second: 3644.7737, train_label_loss: 0.2470, \n"
     ]
    },
    {
     "name": "stdout",
     "output_type": "stream",
     "text": [
      "=============================================================\n",
      "epoch: 7, source_val_acc_label: 0.8363, target_val_acc_label: 0.6693, source_val_label_loss: 0.4416, target_val_label_loss: 124.8763, \n",
      "=============================================================\n"
     ]
    },
    {
     "name": "stdout",
     "output_type": "stream",
     "text": [
      "epoch: 8, [batch: 1 / 6720], examples_per_second: 5.3294, train_label_loss: 0.6098, \n"
     ]
    },
    {
     "name": "stdout",
     "output_type": "stream",
     "text": [
      "epoch: 8, [batch: 672 / 6720], examples_per_second: 3638.2039, train_label_loss: 0.5734, \n"
     ]
    },
    {
     "name": "stdout",
     "output_type": "stream",
     "text": [
      "epoch: 8, [batch: 1344 / 6720], examples_per_second: 3648.4308, train_label_loss: 0.5325, \n"
     ]
    },
    {
     "name": "stdout",
     "output_type": "stream",
     "text": [
      "epoch: 8, [batch: 2016 / 6720], examples_per_second: 3653.5125, train_label_loss: 0.1839, \n"
     ]
    },
    {
     "name": "stdout",
     "output_type": "stream",
     "text": [
      "epoch: 8, [batch: 2688 / 6720], examples_per_second: 3637.1559, train_label_loss: 0.2221, \n"
     ]
    },
    {
     "name": "stdout",
     "output_type": "stream",
     "text": [
      "epoch: 8, [batch: 3360 / 6720], examples_per_second: 3653.7513, train_label_loss: 0.3780, \n"
     ]
    },
    {
     "name": "stdout",
     "output_type": "stream",
     "text": [
      "epoch: 8, [batch: 4032 / 6720], examples_per_second: 3658.9355, train_label_loss: 0.5468, \n"
     ]
    },
    {
     "name": "stdout",
     "output_type": "stream",
     "text": [
      "epoch: 8, [batch: 4704 / 6720], examples_per_second: 3640.7534, train_label_loss: 0.2761, \n"
     ]
    },
    {
     "name": "stdout",
     "output_type": "stream",
     "text": [
      "epoch: 8, [batch: 5376 / 6720], examples_per_second: 3655.4733, train_label_loss: 0.4501, \n"
     ]
    },
    {
     "name": "stdout",
     "output_type": "stream",
     "text": [
      "epoch: 8, [batch: 6048 / 6720], examples_per_second: 3655.5041, train_label_loss: 0.4441, \n"
     ]
    },
    {
     "name": "stdout",
     "output_type": "stream",
     "text": [
      "=============================================================\n",
      "epoch: 8, source_val_acc_label: 0.8620, target_val_acc_label: 0.6560, source_val_label_loss: 0.3754, target_val_label_loss: 151.4163, \n",
      "=============================================================\n"
     ]
    },
    {
     "name": "stdout",
     "output_type": "stream",
     "text": [
      "Patience (3) exhausted\n"
     ]
    }
   ],
   "source": [
    "###################################\n",
    "# train\n",
    "###################################\n",
    "jig = PTN_Train_Eval_Test_Jig(model, p.BEST_MODEL_PATH, p.device)\n",
    "\n",
    "jig.train(\n",
    "    train_iterable=datasets.source.processed.train,\n",
    "    source_val_iterable=datasets.source.processed.val,\n",
    "    target_val_iterable=datasets.target.processed.val,\n",
    "    num_epochs=p.n_epoch,\n",
    "    num_logs_per_epoch=p.NUM_LOGS_PER_EPOCH,\n",
    "    patience=p.patience,\n",
    "    optimizer=optimizer,\n",
    "    criteria_for_best=p.criteria_for_best,\n",
    ")"
   ]
  },
  {
   "cell_type": "code",
   "execution_count": 23,
   "id": "31e8fabf",
   "metadata": {
    "execution": {
     "iopub.execute_input": "2022-03-25T07:48:55.982247Z",
     "iopub.status.busy": "2022-03-25T07:48:55.981967Z",
     "iopub.status.idle": "2022-03-25T07:48:55.999974Z",
     "shell.execute_reply": "2022-03-25T07:48:55.999588Z"
    },
    "papermill": {
     "duration": 0.051116,
     "end_time": "2022-03-25T07:48:56.000057",
     "exception": false,
     "start_time": "2022-03-25T07:48:55.948941",
     "status": "completed"
    },
    "tags": []
   },
   "outputs": [],
   "source": [
    "total_experiment_time_secs = time.time() - start_time_secs"
   ]
  },
  {
   "cell_type": "code",
   "execution_count": 24,
   "id": "87b9595b",
   "metadata": {
    "execution": {
     "iopub.execute_input": "2022-03-25T07:48:56.072107Z",
     "iopub.status.busy": "2022-03-25T07:48:56.071837Z",
     "iopub.status.idle": "2022-03-25T07:50:27.792643Z",
     "shell.execute_reply": "2022-03-25T07:50:27.792255Z"
    },
    "papermill": {
     "duration": 91.757155,
     "end_time": "2022-03-25T07:50:27.792735",
     "exception": false,
     "start_time": "2022-03-25T07:48:56.035580",
     "status": "completed"
    },
    "tags": []
   },
   "outputs": [],
   "source": [
    "###################################\n",
    "# Evaluate the model\n",
    "###################################\n",
    "source_test_label_accuracy, source_test_label_loss = jig.test(datasets.source.processed.test)\n",
    "target_test_label_accuracy, target_test_label_loss = jig.test(datasets.target.processed.test)\n",
    "\n",
    "source_val_label_accuracy, source_val_label_loss = jig.test(datasets.source.processed.val)\n",
    "target_val_label_accuracy, target_val_label_loss = jig.test(datasets.target.processed.val)\n",
    "\n",
    "history = jig.get_history()\n",
    "\n",
    "total_epochs_trained = len(history[\"epoch_indices\"])\n",
    "\n",
    "val_dl = Iterable_Aggregator((datasets.source.original.val,datasets.target.original.val))\n",
    "\n",
    "confusion = ptn_confusion_by_domain_over_dataloader(model, p.device, val_dl)\n",
    "per_domain_accuracy = per_domain_accuracy_from_confusion(confusion)\n",
    "\n",
    "# Add a key to per_domain_accuracy for if it was a source domain\n",
    "for domain, accuracy in per_domain_accuracy.items():\n",
    "    per_domain_accuracy[domain] = {\n",
    "        \"accuracy\": accuracy,\n",
    "        \"source?\": domain in p.domains_source\n",
    "    }\n",
    "\n",
    "# Do an independent accuracy assesment JUST TO BE SURE!\n",
    "# _source_test_label_accuracy = independent_accuracy_assesment(model, datasets.source.processed.test, p.device)\n",
    "# _target_test_label_accuracy = independent_accuracy_assesment(model, datasets.target.processed.test, p.device)\n",
    "# _source_val_label_accuracy = independent_accuracy_assesment(model, datasets.source.processed.val, p.device)\n",
    "# _target_val_label_accuracy = independent_accuracy_assesment(model, datasets.target.processed.val, p.device)\n",
    "\n",
    "# assert(_source_test_label_accuracy == source_test_label_accuracy)\n",
    "# assert(_target_test_label_accuracy == target_test_label_accuracy)\n",
    "# assert(_source_val_label_accuracy == source_val_label_accuracy)\n",
    "# assert(_target_val_label_accuracy == target_val_label_accuracy)\n",
    "\n",
    "experiment = {\n",
    "    \"experiment_name\": p.experiment_name,\n",
    "    \"parameters\": dict(p),\n",
    "    \"results\": {\n",
    "        \"source_test_label_accuracy\": source_test_label_accuracy,\n",
    "        \"source_test_label_loss\": source_test_label_loss,\n",
    "        \"target_test_label_accuracy\": target_test_label_accuracy,\n",
    "        \"target_test_label_loss\": target_test_label_loss,\n",
    "        \"source_val_label_accuracy\": source_val_label_accuracy,\n",
    "        \"source_val_label_loss\": source_val_label_loss,\n",
    "        \"target_val_label_accuracy\": target_val_label_accuracy,\n",
    "        \"target_val_label_loss\": target_val_label_loss,\n",
    "        \"total_epochs_trained\": total_epochs_trained,\n",
    "        \"total_experiment_time_secs\": total_experiment_time_secs,\n",
    "        \"confusion\": confusion,\n",
    "        \"per_domain_accuracy\": per_domain_accuracy,\n",
    "    },\n",
    "    \"history\": history,\n",
    "    \"dataset_metrics\": get_dataset_metrics(datasets, \"ptn\"),\n",
    "}"
   ]
  },
  {
   "cell_type": "code",
   "execution_count": 25,
   "id": "54a21829",
   "metadata": {
    "execution": {
     "iopub.execute_input": "2022-03-25T07:50:27.861152Z",
     "iopub.status.busy": "2022-03-25T07:50:27.860736Z",
     "iopub.status.idle": "2022-03-25T07:50:27.986678Z",
     "shell.execute_reply": "2022-03-25T07:50:27.986430Z"
    },
    "papermill": {
     "duration": 0.158593,
     "end_time": "2022-03-25T07:50:27.986740",
     "exception": false,
     "start_time": "2022-03-25T07:50:27.828147",
     "status": "completed"
    },
    "tags": []
   },
   "outputs": [
    {
     "data": {
      "image/png": "[encoded data removed]",
      "text/plain": [
       "<Figure size 1080x504 with 1 Axes>"
      ]
     },
     "metadata": {
      "needs_background": "light"
     },
     "output_type": "display_data"
    }
   ],
   "source": [
    "ax = get_loss_curve(experiment)\n",
    "plt.show()"
   ]
  },
  {
   "cell_type": "code",
   "execution_count": 26,
   "id": "fd8a0f60",
   "metadata": {
    "execution": {
     "iopub.execute_input": "2022-03-25T07:50:28.054952Z",
     "iopub.status.busy": "2022-03-25T07:50:28.054683Z",
     "iopub.status.idle": "2022-03-25T07:50:28.199438Z",
     "shell.execute_reply": "2022-03-25T07:50:28.199667Z"
    },
    "papermill": {
     "duration": 0.179213,
     "end_time": "2022-03-25T07:50:28.199743",
     "exception": false,
     "start_time": "2022-03-25T07:50:28.020530",
     "status": "completed"
    },
    "tags": []
   },
   "outputs": [
    {
     "data": {
      "text/plain": [
       "<AxesSubplot:title={'center':'Results'}>"
      ]
     },
     "execution_count": 26,
     "metadata": {},
     "output_type": "execute_result"
    },
    {
     "data": {
      "image/png": "[encoded data removed]",
      "text/plain": [
       "<Figure size 1080x504 with 1 Axes>"
      ]
     },
     "metadata": {
      "needs_background": "light"
     },
     "output_type": "display_data"
    }
   ],
   "source": [
    "get_results_table(experiment)"
   ]
  },
  {
   "cell_type": "code",
   "execution_count": 27,
   "id": "cf8dc689",
   "metadata": {
    "execution": {
     "iopub.execute_input": "2022-03-25T07:50:28.267941Z",
     "iopub.status.busy": "2022-03-25T07:50:28.267683Z",
     "iopub.status.idle": "2022-03-25T07:50:28.406814Z",
     "shell.execute_reply": "2022-03-25T07:50:28.406309Z"
    },
    "papermill": {
     "duration": 0.173946,
     "end_time": "2022-03-25T07:50:28.406920",
     "exception": false,
     "start_time": "2022-03-25T07:50:28.232974",
     "status": "completed"
    },
    "tags": []
   },
   "outputs": [
    {
     "data": {
      "text/plain": [
       "<AxesSubplot:title={'center':'Per Domain Validation Accuracy'}, xlabel='domain'>"
      ]
     },
     "execution_count": 27,
     "metadata": {},
     "output_type": "execute_result"
    },
    {
     "data": {
      "image/png": "[encoded data removed]",
      "text/plain": [
       "<Figure size 1080x504 with 1 Axes>"
      ]
     },
     "metadata": {
      "needs_background": "light"
     },
     "output_type": "display_data"
    }
   ],
   "source": [
    "get_domain_accuracies(experiment)"
   ]
  },
  {
   "cell_type": "code",
   "execution_count": 28,
   "id": "a74ae082",
   "metadata": {
    "execution": {
     "iopub.execute_input": "2022-03-25T07:50:28.482748Z",
     "iopub.status.busy": "2022-03-25T07:50:28.481374Z",
     "iopub.status.idle": "2022-03-25T07:50:28.498777Z",
     "shell.execute_reply": "2022-03-25T07:50:28.498330Z"
    },
    "papermill": {
     "duration": 0.054346,
     "end_time": "2022-03-25T07:50:28.498878",
     "exception": false,
     "start_time": "2022-03-25T07:50:28.444532",
     "status": "completed"
    },
    "tags": []
   },
   "outputs": [
    {
     "name": "stdout",
     "output_type": "stream",
     "text": [
      "Source Test Label Accuracy: 0.7981119791666667 Target Test Label Accuracy: 0.6771885521885522\n",
      "Source Val Label Accuracy: 0.79169921875 Target Val Label Accuracy: 0.6773687214611872\n"
     ]
    }
   ],
   "source": [
    "print(\"Source Test Label Accuracy:\", experiment[\"results\"][\"source_test_label_accuracy\"], \"Target Test Label Accuracy:\", experiment[\"results\"][\"target_test_label_accuracy\"])\n",
    "print(\"Source Val Label Accuracy:\", experiment[\"results\"][\"source_val_label_accuracy\"], \"Target Val Label Accuracy:\", experiment[\"results\"][\"target_val_label_accuracy\"])"
   ]
  },
  {
   "cell_type": "code",
   "execution_count": 29,
   "id": "dacca602",
   "metadata": {
    "execution": {
     "iopub.execute_input": "2022-03-25T07:50:28.573248Z",
     "iopub.status.busy": "2022-03-25T07:50:28.572985Z",
     "iopub.status.idle": "2022-03-25T07:50:28.591797Z",
     "shell.execute_reply": "2022-03-25T07:50:28.592209Z"
    },
    "papermill": {
     "duration": 0.055705,
     "end_time": "2022-03-25T07:50:28.592333",
     "exception": false,
     "start_time": "2022-03-25T07:50:28.536628",
     "status": "completed"
    },
    "tags": [
     "experiment_json"
    ]
   },
   "outputs": [
    {
     "data": {
      "text/plain": [
       "'{\"experiment_name\": \"tl_3Av2:oracle.run1.framed -> cores\", \"parameters\": {\"experiment_name\": \"tl_3Av2:oracle.run1.framed -> cores\", \"device\": \"cuda\", \"lr\": 0.0001, \"x_shape\": [2, 200], \"n_shot\": 3, \"n_query\": 2, \"train_k_factor\": 3, \"val_k_factor\": 2, \"test_k_factor\": 2, \"torch_default_dtype\": \"torch.float32\", \"n_epoch\": 50, \"patience\": 3, \"criteria_for_best\": \"target_accuracy\", \"x_net\": [{\"class\": \"nnReshape\", \"kargs\": {\"shape\": [-1, 1, 2, 200]}}, {\"class\": \"Conv2d\", \"kargs\": {\"in_channels\": 1, \"out_channels\": 256, \"kernel_size\": [1, 7], \"bias\": false, \"padding\": [0, 3]}}, {\"class\": \"ReLU\", \"kargs\": {\"inplace\": true}}, {\"class\": \"BatchNorm2d\", \"kargs\": {\"num_features\": 256}}, {\"class\": \"Conv2d\", \"kargs\": {\"in_channels\": 256, \"out_channels\": 80, \"kernel_size\": [2, 7], \"bias\": true, \"padding\": [0, 3]}}, {\"class\": \"ReLU\", \"kargs\": {\"inplace\": true}}, {\"class\": \"BatchNorm2d\", \"kargs\": {\"num_features\": 80}}, {\"class\": \"Flatten\", \"kargs\": {}}, {\"class\": \"Linear\", \"kargs\": {\"in_features\": 16000, \"out_features\": 256}}, {\"class\": \"ReLU\", \"kargs\": {\"inplace\": true}}, {\"class\": \"BatchNorm1d\", \"kargs\": {\"num_features\": 256}}, {\"class\": \"Linear\", \"kargs\": {\"in_features\": 256, \"out_features\": 256}}], \"NUM_LOGS_PER_EPOCH\": 10, \"BEST_MODEL_PATH\": \"./best_model.pth\", \"n_way\": 16, \"datasets\": [{\"labels\": [\"1-10.\", \"1-11.\", \"1-15.\", \"1-16.\", \"1-17.\", \"1-18.\", \"1-19.\", \"10-4.\", \"10-7.\", \"11-1.\", \"11-14.\", \"11-17.\", \"11-20.\", \"11-7.\", \"13-20.\", \"13-8.\", \"14-10.\", \"14-11.\", \"14-14.\", \"14-7.\", \"15-1.\", \"15-20.\", \"16-1.\", \"16-16.\", \"17-10.\", \"17-11.\", \"17-2.\", \"19-1.\", \"19-16.\", \"19-19.\", \"19-20.\", \"19-3.\", \"2-10.\", \"2-11.\", \"2-17.\", \"2-18.\", \"2-20.\", \"2-3.\", \"2-4.\", \"2-5.\", \"2-6.\", \"2-7.\", \"2-8.\", \"3-13.\", \"3-18.\", \"3-3.\", \"4-1.\", \"4-10.\", \"4-11.\", \"4-19.\", \"5-5.\", \"6-15.\", \"7-10.\", \"7-14.\", \"8-18.\", \"8-20.\", \"8-3.\", \"8-8.\"], \"domains\": [1, 2, 3, 4, 5], \"num_examples_per_domain_per_label\": -1, \"pickle_path\": \"/mnt/wd500GB/CSC500/csc500-main/datasets/cores.stratified_ds.2022A.pkl\", \"source_or_target_dataset\": \"target\", \"x_transforms\": [\"unit_power\", \"take_200\"], \"episode_transforms\": [], \"domain_prefix\": \"C_\"}, {\"labels\": [\"3123D52\", \"3123D65\", \"3123D79\", \"3123D80\", \"3123D54\", \"3123D70\", \"3123D7B\", \"3123D89\", \"3123D58\", \"3123D76\", \"3123D7D\", \"3123EFE\", \"3123D64\", \"3123D78\", \"3123D7E\", \"3124E4A\"], \"domains\": [32, 38, 8, 44, 14, 50, 20, 26], \"num_examples_per_domain_per_label\": 2000, \"pickle_path\": \"/mnt/wd500GB/CSC500/csc500-main/datasets/oracle.Run1_framed_2000Examples_stratified_ds.2022A.pkl\", \"source_or_target_dataset\": \"source\", \"x_transforms\": [\"unit_power\", \"take_200\", \"resample_20Msps_to_25Msps\"], \"episode_transforms\": [], \"domain_prefix\": \"O_\"}], \"seed\": 1337, \"dataset_seed\": 1337, \"domains_source\": [\"O_32\", \"O_38\", \"O_8\", \"O_44\", \"O_14\", \"O_50\", \"O_20\", \"O_26\"], \"domains_target\": [\"C_1\", \"C_2\", \"C_3\", \"C_4\", \"C_5\"]}, \"results\": {\"source_test_label_accuracy\": 0.7981119791666667, \"source_test_label_loss\": 0.5595757365226746, \"target_test_label_accuracy\": 0.6771885521885522, \"target_test_label_loss\": 91.96300506591797, \"source_val_label_accuracy\": 0.79169921875, \"source_val_label_loss\": 0.5610878467559814, \"target_val_label_accuracy\": 0.6773687214611872, \"target_val_label_loss\": 92.51656341552734, \"total_epochs_trained\": 8, \"total_experiment_time_secs\": 1358.4356498718262, \"confusion\": {\"O_14\": {\"15\": {\"15\": 240}, \"3\": {\"3\": 215, \"14\": 6, \"4\": 15, \"2\": 2, \"5\": 2}, \"6\": {\"6\": 178, \"13\": 55, \"14\": 4, \"2\": 3}, \"1\": {\"1\": 228, \"4\": 3, \"5\": 9}, \"8\": {\"8\": 240}, \"10\": {\"10\": 237, \"0\": 3}, \"9\": {\"9\": 239, \"11\": 1}, \"13\": {\"13\": 124, \"14\": 27, \"6\": 72, \"4\": 5, \"5\": 2, \"2\": 7, \"15\": 2, \"7\": 1}, \"12\": {\"12\": 240}, \"5\": {\"5\": 168, \"4\": 36, \"2\": 8, \"1\": 26, \"3\": 2}, \"0\": {\"0\": 234, \"11\": 1, \"3\": 2, \"10\": 3}, \"2\": {\"6\": 21, \"2\": 125, \"3\": 6, \"5\": 27, \"14\": 42, \"15\": 1, \"4\": 10, \"13\": 7, \"1\": 1}, \"11\": {\"11\": 227, \"9\": 12, \"0\": 1}, \"14\": {\"14\": 192, \"2\": 22, \"6\": 4, \"13\": 21, \"3\": 1}, \"7\": {\"7\": 240}, \"4\": {\"4\": 206, \"5\": 26, \"2\": 5, \"1\": 1, \"3\": 2}}, \"O_20\": {\"3\": {\"12\": 47, \"9\": 37, \"3\": 132, \"2\": 15, \"4\": 5, \"1\": 1, \"7\": 2, \"5\": 1}, \"15\": {\"15\": 183, \"5\": 14, \"0\": 19, \"1\": 19, \"12\": 3, \"13\": 2}, \"8\": {\"8\": 215, \"7\": 6, \"4\": 13, \"3\": 2, \"14\": 1, \"1\": 1, \"5\": 2}, \"4\": {\"4\": 210, \"8\": 20, \"3\": 8, \"2\": 1, \"12\": 1}, \"14\": {\"6\": 12, \"14\": 217, \"8\": 4, \"10\": 7}, \"0\": {\"1\": 8, \"0\": 175, \"5\": 32, \"15\": 23, \"8\": 2}, \"7\": {\"7\": 201, \"9\": 4, \"2\": 20, \"8\": 6, \"4\": 4, \"3\": 5}, \"6\": {\"6\": 225, \"14\": 13, \"10\": 1, \"8\": 1}, \"10\": {\"10\": 233, \"14\": 6, \"4\": 1}, \"5\": {\"5\": 164, \"1\": 27, \"12\": 8, \"0\": 25, \"15\": 14, \"4\": 1, \"3\": 1}, \"2\": {\"2\": 113, \"3\": 19, \"7\": 27, \"1\": 4, \"9\": 46, \"13\": 13, \"12\": 17, \"5\": 1}, \"12\": {\"3\": 42, \"12\": 118, \"1\": 38, \"5\": 15, \"9\": 15, \"2\": 11, \"15\": 1}, \"9\": {\"9\": 133, \"3\": 37, \"2\": 50, \"12\": 14, \"13\": 2, \"7\": 4}, \"1\": {\"1\": 153, \"12\": 51, \"5\": 23, \"9\": 1, \"3\": 4, \"15\": 8}, \"11\": {\"11\": 240}, \"13\": {\"13\": 224, \"5\": 2, \"2\": 6, \"12\": 1, \"15\": 3, \"1\": 2, \"9\": 2}}, \"O_38\": {\"5\": {\"7\": 30, \"8\": 55, \"5\": 131, \"13\": 3, \"15\": 8, \"0\": 4, \"6\": 5, \"9\": 4}, \"8\": {\"8\": 163, \"7\": 12, \"0\": 9, \"15\": 6, \"5\": 39, \"10\": 8, \"13\": 3}, \"11\": {\"11\": 231, \"10\": 2, \"14\": 3, \"3\": 2, \"4\": 2}, \"1\": {\"1\": 230, \"15\": 10}, \"10\": {\"10\": 200, \"13\": 24, \"8\": 5, \"7\": 6, \"0\": 2, \"14\": 1, \"4\": 2}, \"15\": {\"15\": 211, \"8\": 6, \"1\": 13, \"13\": 7, \"0\": 1, \"5\": 2}, \"3\": {\"3\": 238, \"0\": 2}, \"7\": {\"5\": 17, \"10\": 1, \"7\": 200, \"0\": 16, \"8\": 6}, \"4\": {\"4\": 239, \"12\": 1}, \"14\": {\"14\": 216, \"2\": 19, \"10\": 3, \"11\": 1, \"12\": 1}, \"9\": {\"9\": 221, \"6\": 14, \"5\": 5}, \"12\": {\"12\": 235, \"4\": 3, \"14\": 2}, \"6\": {\"6\": 233, \"5\": 1, \"9\": 6}, \"2\": {\"2\": 223, \"14\": 11, \"13\": 6}, \"0\": {\"8\": 27, \"0\": 175, \"13\": 9, \"10\": 8, \"3\": 10, \"7\": 4, \"5\": 5, \"11\": 2}, \"13\": {\"13\": 210, \"15\": 12, \"10\": 14, \"2\": 2, \"0\": 2}}, \"O_8\": {\"9\": {\"9\": 240}, \"10\": {\"10\": 192, \"13\": 14, \"14\": 26, \"4\": 7, \"5\": 1}, \"13\": {\"13\": 103, \"4\": 48, \"0\": 41, \"14\": 10, \"10\": 27, \"7\": 3, \"6\": 8}, \"0\": {\"13\": 25, \"0\": 198, \"7\": 10, \"6\": 3, \"4\": 3, \"10\": 1}, \"1\": {\"1\": 223, \"5\": 7, \"14\": 3, \"11\": 7}, \"15\": {\"15\": 209, \"12\": 25, \"8\": 4, \"3\": 2}, \"5\": {\"5\": 216, \"1\": 15, \"10\": 8, \"14\": 1}, \"3\": {\"3\": 228, \"12\": 5, \"2\": 6, \"15\": 1}, \"6\": {\"7\": 57, \"6\": 152, \"4\": 18, \"0\": 4, \"13\": 9}, \"11\": {\"11\": 228, \"1\": 10, \"5\": 2}, \"8\": {\"8\": 236, \"15\": 4}, \"4\": {\"10\": 6, \"0\": 3, \"6\": 14, \"4\": 160, \"14\": 28, \"13\": 29}, \"12\": {\"12\": 169, \"15\": 49, \"3\": 20, \"2\": 1, \"8\": 1}, \"14\": {\"14\": 159, \"10\": 41, \"4\": 30, \"1\": 8, \"5\": 1, \"13\": 1}, \"2\": {\"2\": 223, \"7\": 9, \"3\": 7, \"15\": 1}, \"7\": {\"7\": 198, \"0\": 10, \"6\": 31, \"13\": 1}}, \"O_50\": {\"7\": {\"5\": 13, \"13\": 19, \"7\": 197, \"6\": 8, \"10\": 3}, \"3\": {\"3\": 239, \"8\": 1}, \"8\": {\"8\": 229, \"10\": 10, \"3\": 1}, \"2\": {\"2\": 215, \"0\": 25}, \"14\": {\"14\": 240}, \"4\": {\"15\": 31, \"4\": 153, \"5\": 33, \"6\": 8, \"13\": 1, \"1\": 8, \"11\": 2, \"7\": 4}, \"6\": {\"6\": 199, \"13\": 23, \"4\": 3, \"5\": 7, \"7\": 3, \"15\": 4, \"1\": 1}, \"15\": {\"15\": 176, \"1\": 30, \"4\": 22, \"6\": 2, \"11\": 9, \"9\": 1}, \"10\": {\"10\": 220, \"13\": 9, \"8\": 3, \"0\": 7, \"7\": 1}, \"11\": {\"11\": 212, \"9\": 6, \"15\": 14, \"12\": 6, \"1\": 1, \"14\": 1}, \"13\": {\"13\": 201, \"7\": 11, \"5\": 12, \"10\": 8, \"6\": 7, \"0\": 1}, \"9\": {\"11\": 13, \"9\": 218, \"12\": 9}, \"0\": {\"0\": 202, \"10\": 13, \"2\": 24, \"13\": 1}, \"1\": {\"1\": 197, \"11\": 6, \"15\": 20, \"4\": 5, \"5\": 2, \"6\": 7, \"14\": 1, \"0\": 1, \"13\": 1}, \"12\": {\"12\": 234, \"9\": 3, \"11\": 2, \"14\": 1}, \"5\": {\"5\": 125, \"4\": 40, \"7\": 26, \"15\": 3, \"13\": 22, \"1\": 17, \"6\": 7}}, \"O_32\": {\"8\": {\"8\": 189, \"13\": 12, \"0\": 28, \"5\": 8, \"14\": 3}, \"14\": {\"11\": 43, \"14\": 138, \"0\": 16, \"7\": 24, \"13\": 4, \"5\": 5, \"8\": 6, \"3\": 4}, \"2\": {\"2\": 171, \"4\": 61, \"7\": 8}, \"0\": {\"0\": 174, \"5\": 7, \"14\": 15, \"4\": 2, \"8\": 34, \"13\": 2, \"7\": 6}, \"1\": {\"1\": 239, \"10\": 1}, \"10\": {\"10\": 240}, \"11\": {\"11\": 213, \"14\": 20, \"7\": 2, \"3\": 2, \"13\": 3}, \"5\": {\"5\": 101, \"11\": 3, \"3\": 17, \"13\": 24, \"8\": 13, \"14\": 6, \"4\": 19, \"7\": 49, \"0\": 7, \"2\": 1}, \"15\": {\"15\": 240}, \"3\": {\"3\": 228, \"14\": 3, \"11\": 4, \"13\": 3, \"8\": 1, \"5\": 1}, \"12\": {\"12\": 240}, \"7\": {\"4\": 24, \"7\": 142, \"13\": 8, \"5\": 34, \"11\": 5, \"14\": 16, \"0\": 3, \"2\": 7, \"3\": 1}, \"13\": {\"13\": 173, \"3\": 13, \"4\": 24, \"7\": 7, \"11\": 2, \"5\": 10, \"14\": 2, \"0\": 2, \"8\": 7}, \"6\": {\"6\": 240}, \"4\": {\"4\": 164, \"7\": 18, \"13\": 7, \"2\": 39, \"5\": 11, \"0\": 1}, \"9\": {\"9\": 239, \"12\": 1}}, \"O_26\": {\"4\": {\"14\": 27, \"4\": 137, \"7\": 10, \"0\": 15, \"1\": 17, \"10\": 6, \"8\": 28}, \"12\": {\"12\": 240}, \"10\": {\"14\": 18, \"10\": 107, \"0\": 67, \"6\": 6, \"8\": 35, \"5\": 1, \"4\": 2, \"15\": 3, \"1\": 1}, \"0\": {\"8\": 29, \"0\": 84, \"14\": 33, \"4\": 21, \"6\": 5, \"10\": 61, \"7\": 6, \"1\": 1}, \"13\": {\"5\": 32, \"2\": 4, \"13\": 177, \"9\": 14, \"15\": 12, \"6\": 1}, \"9\": {\"13\": 15, \"15\": 47, \"9\": 149, \"5\": 9, \"6\": 14, \"10\": 2, \"2\": 2, \"0\": 1, \"8\": 1}, \"3\": {\"3\": 149, \"2\": 59, \"7\": 30, \"1\": 1, \"4\": 1}, \"2\": {\"2\": 100, \"3\": 64, \"7\": 37, \"5\": 23, \"15\": 7, \"8\": 3, \"4\": 2, \"13\": 3, \"1\": 1}, \"5\": {\"5\": 183, \"2\": 17, \"13\": 23, \"9\": 3, \"8\": 2, \"15\": 9, \"3\": 2, \"7\": 1}, \"14\": {\"4\": 34, \"14\": 120, \"0\": 33, \"1\": 25, \"10\": 18, \"8\": 7, \"7\": 2, \"6\": 1}, \"8\": {\"8\": 107, \"7\": 30, \"14\": 8, \"0\": 23, \"4\": 18, \"10\": 44, \"15\": 2, \"2\": 3, \"6\": 2, \"5\": 1, \"9\": 2}, \"7\": {\"7\": 150, \"3\": 22, \"2\": 28, \"4\": 18, \"5\": 1, \"8\": 16, \"0\": 2, \"14\": 2, \"15\": 1}, \"6\": {\"6\": 188, \"9\": 23, \"10\": 13, \"8\": 2, \"15\": 13, \"0\": 1}, \"11\": {\"11\": 240}, \"15\": {\"8\": 11, \"6\": 10, \"15\": 136, \"9\": 47, \"0\": 4, \"13\": 10, \"5\": 10, \"2\": 5, \"10\": 6, \"7\": 1}, \"1\": {\"1\": 195, \"4\": 7, \"14\": 31, \"8\": 3, \"10\": 1, \"0\": 2, \"7\": 1}}, \"O_44\": {\"12\": {\"12\": 205, \"1\": 27, \"10\": 4, \"3\": 4}, \"7\": {\"7\": 157, \"2\": 33, \"10\": 1, \"9\": 40, \"13\": 3, \"6\": 4, \"1\": 2}, \"5\": {\"5\": 194, \"14\": 9, \"0\": 18, \"15\": 11, \"8\": 6, \"4\": 2}, \"15\": {\"15\": 179, \"14\": 22, \"8\": 10, \"4\": 2, \"5\": 13, \"0\": 14}, \"8\": {\"8\": 136, \"0\": 89, \"15\": 10, \"5\": 5}, \"2\": {\"2\": 179, \"1\": 9, \"7\": 40, \"10\": 10, \"3\": 2}, \"13\": {\"13\": 153, \"6\": 41, \"9\": 36, \"11\": 8, \"7\": 2}, \"4\": {\"14\": 67, \"4\": 169, \"15\": 3, \"5\": 1}, \"0\": {\"0\": 146, \"5\": 17, \"8\": 70, \"15\": 7}, \"6\": {\"9\": 31, \"6\": 155, \"13\": 43, \"7\": 10, \"11\": 1}, \"9\": {\"13\": 27, \"7\": 50, \"9\": 143, \"6\": 18, \"1\": 1, \"14\": 1}, \"11\": {\"11\": 228, \"6\": 6, \"13\": 6}, \"10\": {\"1\": 37, \"10\": 178, \"12\": 11, \"2\": 14}, \"14\": {\"4\": 89, \"14\": 127, \"15\": 18, \"5\": 6}, \"1\": {\"3\": 20, \"1\": 143, \"12\": 37, \"10\": 26, \"2\": 13, \"7\": 1}, \"3\": {\"3\": 220, \"1\": 16, \"12\": 2, \"2\": 2}}, \"C_3\": {\"43\": {\"43\": 119, \"7\": 2, \"24\": 1, \"15\": 1, \"11\": 3, \"5\": 1, \"56\": 1}, \"9\": {\"31\": 8, \"3\": 5, \"9\": 92, \"48\": 2, \"57\": 17, \"47\": 4, \"22\": 5, \"53\": 2, \"4\": 5, \"29\": 2, \"32\": 1, \"55\": 2, \"16\": 1, \"51\": 1, \"21\": 2, \"19\": 1}, \"6\": {\"6\": 33, \"18\": 7, \"41\": 4, \"48\": 12, \"26\": 1, \"42\": 1, \"22\": 1, \"34\": 2, \"17\": 2, \"52\": 3, \"47\": 5, \"55\": 1, \"3\": 2, \"23\": 1, \"46\": 2, \"16\": 6, \"5\": 2, \"1\": 2, \"30\": 1}, \"3\": {\"46\": 3, \"31\": 1, \"32\": 4, \"29\": 6, \"3\": 15, \"7\": 1, \"47\": 8, \"42\": 1, \"6\": 5, \"9\": 6, \"18\": 9, \"22\": 3, \"37\": 1, \"36\": 2, \"57\": 5, \"21\": 3, \"8\": 1, \"4\": 9, \"48\": 8, \"16\": 1, \"23\": 11, \"5\": 7, \"53\": 5, \"54\": 2, \"0\": 2, \"25\": 1, \"27\": 6, \"50\": 2, \"15\": 1, \"51\": 5, \"11\": 1, \"19\": 2, \"28\": 1, \"34\": 1, \"26\": 2, \"55\": 1, \"20\": 1, \"12\": 1}, \"16\": {\"16\": 107, \"23\": 7, \"18\": 1, \"11\": 13, \"46\": 1, \"5\": 1, \"0\": 3, \"15\": 1}, \"51\": {\"51\": 120, \"21\": 2, \"53\": 5, \"3\": 1}, \"31\": {\"31\": 26, \"5\": 1, \"55\": 1}, \"46\": {\"18\": 6, \"6\": 4, \"23\": 7, \"16\": 9, \"7\": 2, \"47\": 8, \"34\": 5, \"52\": 8, \"49\": 1, \"42\": 2, \"3\": 3, \"0\": 5, \"30\": 6, \"1\": 3, \"55\": 3, \"46\": 28, \"48\": 4, \"17\": 2, \"11\": 4, \"56\": 2, \"27\": 3, \"5\": 5, \"15\": 5, \"53\": 1, \"39\": 1, \"41\": 1, \"36\": 1, \"2\": 1, \"20\": 3, \"26\": 1}, \"19\": {\"19\": 82, \"35\": 2, \"40\": 3, \"29\": 13, \"9\": 6, \"4\": 12, \"25\": 2, \"53\": 2, \"45\": 1, \"22\": 1}, \"8\": {\"18\": 3, \"8\": 112, \"32\": 1, \"20\": 10, \"30\": 7, \"12\": 1, \"46\": 8, \"50\": 3, \"27\": 1, \"47\": 2, \"0\": 1, \"36\": 1, \"23\": 1, \"16\": 1}, \"18\": {\"18\": 75, \"30\": 7, \"6\": 1, \"47\": 1}, \"37\": {\"37\": 28}, \"24\": {\"10\": 12, \"43\": 10, \"24\": 72, \"11\": 1, \"6\": 1, \"55\": 2, \"5\": 2, \"56\": 1, \"16\": 1, \"15\": 1, \"47\": 1}, \"10\": {\"10\": 51, \"49\": 2, \"24\": 8, \"43\": 3}, \"44\": {\"44\": 72, \"40\": 5, \"29\": 4, \"19\": 3, \"35\": 3, \"54\": 1}, \"14\": {\"19\": 3, \"14\": 5, \"56\": 4, \"29\": 2, \"24\": 10, \"10\": 2, \"25\": 1, \"9\": 1, \"3\": 1, \"40\": 2, \"4\": 4, \"35\": 1, \"0\": 1, \"22\": 2, \"13\": 1}, \"38\": {\"38\": 28}, \"53\": {\"53\": 130, \"21\": 7, \"3\": 1, \"51\": 1, \"19\": 1}, \"20\": {\"20\": 93, \"48\": 5, \"52\": 3, \"30\": 13, \"1\": 1, \"18\": 2, \"54\": 3, \"16\": 7, \"34\": 1, \"41\": 1, \"46\": 2, \"11\": 1}, \"32\": {\"20\": 2, \"48\": 2, \"32\": 11, \"9\": 2, \"1\": 4, \"27\": 1, \"30\": 2, \"47\": 2, \"41\": 1, \"57\": 1}, \"36\": {\"36\": 79, \"20\": 4, \"30\": 1, \"27\": 4, \"18\": 2, \"12\": 1, \"16\": 2, \"50\": 2, \"5\": 2, \"34\": 1, \"47\": 1, \"3\": 1}, \"33\": {\"33\": 23, \"42\": 1, \"34\": 1, \"47\": 1, \"12\": 1, \"48\": 1}, \"56\": {\"56\": 122, \"24\": 3, \"10\": 1, \"22\": 8, \"43\": 1, \"46\": 1}, \"23\": {\"23\": 129, \"52\": 1}, \"54\": {\"54\": 77, \"52\": 4, \"6\": 1, \"48\": 3, \"23\": 1, \"30\": 1, \"12\": 6, \"5\": 1, \"20\": 2, \"41\": 1, \"3\": 1, \"16\": 1, \"50\": 1}, \"21\": {\"21\": 71, \"53\": 31, \"51\": 7, \"42\": 1, \"50\": 3, \"48\": 3, \"2\": 2, \"55\": 3, \"17\": 1, \"3\": 2, \"9\": 1, \"6\": 1}, \"28\": {\"28\": 11, \"57\": 3, \"22\": 1, \"31\": 4, \"2\": 1, \"5\": 1, \"3\": 1, \"29\": 2, \"9\": 2, \"27\": 1, \"4\": 1}, \"26\": {\"26\": 23, \"0\": 1}, \"48\": {\"48\": 101, \"6\": 4, \"16\": 2, \"18\": 1, \"1\": 3, \"23\": 2, \"5\": 1, \"9\": 1, \"47\": 1}, \"52\": {\"52\": 111, \"23\": 4, \"15\": 2, \"48\": 1}, \"39\": {\"39\": 16}, \"22\": {\"28\": 2, \"22\": 75, \"31\": 1, \"49\": 3, \"11\": 4, \"3\": 1, \"14\": 1, \"2\": 1, \"57\": 5, \"47\": 4, \"10\": 3, \"5\": 9, \"56\": 10, \"36\": 2, \"43\": 2, \"48\": 2, \"27\": 3, \"9\": 7, \"15\": 1, \"55\": 3, \"52\": 1}, \"13\": {\"13\": 126, \"56\": 1, \"9\": 1}, \"2\": {\"2\": 26, \"48\": 1, \"5\": 2, \"11\": 1, \"34\": 1, \"39\": 1}, \"34\": {\"34\": 29, \"23\": 1, \"0\": 1, \"6\": 1}, \"27\": {\"41\": 7, \"5\": 2, \"27\": 49, \"57\": 6, \"6\": 3, \"8\": 2, \"36\": 1, \"17\": 6, \"30\": 4, \"12\": 1, \"48\": 20, \"52\": 8, \"20\": 3, \"54\": 2, \"23\": 2, \"46\": 5, \"34\": 2, \"1\": 3, \"47\": 4, \"16\": 1, \"9\": 1}, \"45\": {\"29\": 4, \"25\": 2, \"19\": 4, \"45\": 26, \"28\": 1, \"44\": 1, \"21\": 1, \"3\": 2, \"57\": 1, \"12\": 2, \"46\": 1, \"9\": 4, \"55\": 2, \"22\": 1, \"4\": 4, \"54\": 2, \"51\": 1, \"30\": 1}, \"35\": {\"35\": 28}, \"29\": {\"29\": 73, \"31\": 4, \"4\": 17, \"22\": 3, \"50\": 1, \"57\": 4, \"40\": 2, \"9\": 5, \"19\": 7, \"5\": 2, \"35\": 2, \"28\": 2, \"27\": 2, \"6\": 1, \"45\": 2, \"3\": 1}, \"25\": {\"25\": 126, \"38\": 1, \"51\": 3, \"53\": 3, \"12\": 2, \"8\": 4, \"27\": 2, \"3\": 1, \"21\": 2}, \"0\": {\"0\": 109, \"26\": 1, \"23\": 9, \"18\": 3, \"5\": 2}, \"41\": {\"41\": 26, \"48\": 1, \"47\": 1}, \"11\": {\"11\": 120, \"7\": 1, \"47\": 1, \"5\": 1, \"15\": 8, \"16\": 9, \"34\": 1, \"23\": 1}, \"5\": {\"34\": 6, \"39\": 1, \"41\": 1, \"7\": 5, \"5\": 41, \"23\": 7, \"52\": 4, \"47\": 7, \"0\": 3, \"11\": 4, \"3\": 2, \"55\": 2, \"22\": 1, \"50\": 1, \"57\": 2, \"48\": 4, \"46\": 2, \"6\": 6, \"18\": 3, \"31\": 1, \"27\": 1, \"1\": 2, \"9\": 1, \"16\": 1}, \"1\": {\"1\": 84, \"0\": 2, \"5\": 2, \"48\": 4, \"16\": 3, \"6\": 2, \"17\": 2, \"20\": 1}, \"57\": {\"1\": 11, \"47\": 5, \"57\": 41, \"9\": 16, \"34\": 2, \"27\": 5, \"6\": 1, \"48\": 8, \"5\": 3, \"17\": 3, \"46\": 4, \"0\": 4, \"16\": 6, \"28\": 1, \"3\": 2, \"32\": 1, \"22\": 2, \"23\": 1}, \"17\": {\"27\": 5, \"17\": 47, \"20\": 2, \"10\": 1, \"48\": 13, \"1\": 16, \"30\": 1, \"6\": 3, \"52\": 4, \"18\": 1, \"23\": 1, \"47\": 3, \"0\": 1, \"46\": 1, \"34\": 1, \"16\": 2, \"54\": 2, \"36\": 1, \"56\": 1, \"3\": 1, \"12\": 1}, \"7\": {\"7\": 36}, \"12\": {\"12\": 43, \"54\": 7, \"48\": 6, \"41\": 1, \"6\": 2, \"20\": 6, \"17\": 4, \"30\": 4, \"8\": 2, \"46\": 3, \"5\": 1, \"36\": 2, \"52\": 4, \"42\": 1, \"47\": 2, \"18\": 1, \"27\": 1, \"50\": 1, \"1\": 1}, \"47\": {\"47\": 56, \"20\": 1, \"42\": 1, \"44\": 1, \"0\": 7, \"10\": 1, \"16\": 4, \"18\": 1, \"27\": 3, \"1\": 4, \"48\": 3, \"11\": 1, \"39\": 1, \"57\": 1, \"7\": 1, \"52\": 2, \"53\": 1, \"6\": 1, \"23\": 2}, \"40\": {\"40\": 97, \"29\": 13, \"45\": 1, \"44\": 6, \"51\": 1, \"4\": 3, \"22\": 1, \"19\": 6, \"9\": 4, \"13\": 2, \"21\": 1, \"50\": 1}, \"15\": {\"15\": 129, \"47\": 1, \"16\": 3, \"23\": 4, \"11\": 3, \"55\": 1, \"6\": 1}, \"42\": {\"42\": 14, \"26\": 1, \"6\": 1, \"18\": 1, \"27\": 1, \"47\": 5, \"41\": 1, \"48\": 4}, \"55\": {\"55\": 51, \"42\": 2, \"11\": 10, \"22\": 5, \"7\": 1, \"3\": 6, \"16\": 9, \"27\": 5, \"6\": 5, \"17\": 1, \"15\": 2, \"5\": 10, \"9\": 3, \"50\": 4, \"1\": 6, \"48\": 6, \"4\": 1, \"43\": 1, \"30\": 1, \"46\": 10, \"31\": 1, \"39\": 1, \"47\": 2, \"52\": 4, \"56\": 1, \"54\": 1, \"57\": 1}, \"49\": {\"49\": 13, \"10\": 1, \"11\": 3, \"7\": 2, \"24\": 1}, \"30\": {\"30\": 104, \"16\": 2, \"2\": 1, \"47\": 2, \"23\": 3, \"20\": 4, \"38\": 1, \"9\": 1, \"18\": 2}, \"50\": {\"48\": 7, \"50\": 48, \"8\": 8, \"11\": 6, \"17\": 2, \"45\": 1, \"32\": 1, \"36\": 1, \"6\": 1, \"54\": 5, \"1\": 6, \"12\": 5, \"18\": 2, \"47\": 4, \"57\": 3, \"20\": 1, \"0\": 2, \"23\": 4, \"30\": 3, \"46\": 10, \"52\": 5, \"16\": 1, \"55\": 3, \"5\": 2, \"3\": 1, \"27\": 2}, \"4\": {\"29\": 17, \"9\": 23, \"4\": 67, \"22\": 6, \"3\": 6, \"51\": 1, \"48\": 1, \"27\": 2, \"19\": 8, \"57\": 4, \"6\": 1}}, \"C_4\": {\"35\": {\"14\": 2, \"35\": 35, \"24\": 1, \"19\": 1, \"29\": 1}, \"25\": {\"25\": 114, \"9\": 4, \"51\": 1, \"53\": 1, \"50\": 1, \"21\": 12, \"12\": 1}, \"24\": {\"24\": 35, \"49\": 2, \"43\": 7, \"36\": 1, \"23\": 1, \"2\": 2, \"11\": 3, \"22\": 3, \"10\": 1, \"0\": 1}, \"48\": {\"48\": 136, \"46\": 2}, \"51\": {\"51\": 137, \"50\": 4, \"53\": 3}, \"13\": {\"13\": 108, \"24\": 4, \"10\": 4, \"29\": 1, \"4\": 1, \"22\": 1, \"56\": 1}, \"14\": {\"14\": 3, \"22\": 4, \"19\": 1, \"37\": 2, \"57\": 1, \"26\": 1, \"49\": 1, \"35\": 3}, \"32\": {\"32\": 18, \"46\": 2, \"47\": 2, \"11\": 1, \"18\": 1}, \"30\": {\"30\": 30, \"12\": 1, \"36\": 2, \"48\": 2, \"20\": 2, \"52\": 1, \"42\": 1, \"3\": 1, \"34\": 2, \"54\": 1, \"50\": 1}, \"34\": {\"34\": 23, \"5\": 1}, \"9\": {\"9\": 61, \"25\": 1, \"12\": 2, \"4\": 22, \"53\": 3, \"49\": 2, \"29\": 11, \"56\": 1, \"47\": 1, \"57\": 2, \"45\": 2, \"51\": 3, \"48\": 2, \"46\": 1, \"3\": 1, \"42\": 2, \"28\": 2, \"27\": 3, \"6\": 2, \"17\": 5, \"54\": 1, \"50\": 4, \"19\": 2}, \"1\": {\"1\": 40}, \"0\": {\"32\": 2, \"5\": 12, \"0\": 38, \"52\": 1, \"1\": 3, \"49\": 2, \"22\": 2, \"43\": 2, \"23\": 1, \"18\": 3, \"47\": 4, \"15\": 2, \"11\": 2, \"41\": 1, \"46\": 2, \"36\": 2, \"16\": 1}, \"38\": {\"38\": 36, \"24\": 1, \"2\": 2, \"10\": 1}, \"22\": {\"1\": 5, \"22\": 71, \"24\": 2, \"32\": 2, \"15\": 4, \"10\": 3, \"11\": 6, \"18\": 3, \"0\": 6, \"43\": 4, \"46\": 7, \"5\": 5, \"13\": 1, \"47\": 5, \"16\": 1, \"23\": 1, \"36\": 1, \"52\": 1}, \"40\": {\"40\": 70, \"50\": 3, \"19\": 14, \"44\": 7, \"33\": 7, \"35\": 3, \"56\": 2, \"45\": 1, \"17\": 1, \"8\": 1, \"9\": 3, \"25\": 6, \"37\": 1, \"51\": 1}, \"6\": {\"34\": 2, \"48\": 19, \"6\": 31, \"50\": 1, \"32\": 2, \"46\": 4, \"55\": 4, \"5\": 6, \"54\": 10, \"30\": 4, \"23\": 6, \"20\": 3, \"47\": 4, \"36\": 9, \"16\": 1, \"10\": 1, \"52\": 1, \"41\": 1, \"1\": 1, \"3\": 1, \"15\": 1}, \"16\": {\"16\": 79, \"54\": 1, \"11\": 5, \"15\": 4, \"6\": 1, \"5\": 2, \"23\": 1, \"52\": 2, \"46\": 1}, \"11\": {\"16\": 4, \"11\": 73, \"15\": 24, \"43\": 1, \"0\": 2}, \"20\": {\"20\": 59, \"18\": 13, \"8\": 3, \"54\": 5, \"16\": 3, \"30\": 4, \"11\": 3, \"23\": 7, \"47\": 4, \"15\": 1, \"36\": 9, \"6\": 2, \"5\": 3, \"48\": 2, \"34\": 1, \"46\": 3}, \"17\": {\"48\": 5, \"8\": 1, \"17\": 32, \"32\": 1, \"28\": 2, \"27\": 5, \"50\": 1, \"45\": 3, \"16\": 1, \"25\": 2, \"57\": 5, \"21\": 1, \"30\": 3, \"9\": 4, \"20\": 1, \"36\": 2, \"42\": 2, \"34\": 1, \"1\": 2, \"18\": 1, \"5\": 1, \"29\": 1, \"53\": 1, \"4\": 1, \"54\": 1}, \"26\": {\"26\": 17, \"27\": 1, \"29\": 1, \"57\": 1, \"54\": 1, \"7\": 1, \"4\": 2}, \"54\": {\"54\": 66, \"6\": 2, \"18\": 7, \"1\": 1, \"34\": 1, \"23\": 3, \"49\": 1, \"47\": 4, \"5\": 12, \"3\": 3, \"36\": 4, \"39\": 1, \"48\": 2, \"16\": 1}, \"55\": {\"48\": 21, \"32\": 1, \"46\": 6, \"55\": 54, \"50\": 2, \"5\": 3, \"1\": 5, \"54\": 7, \"16\": 4, \"30\": 4, \"28\": 1, \"49\": 1, \"52\": 3, \"4\": 1, \"47\": 4, \"56\": 1, \"3\": 8, \"15\": 8, \"20\": 2, \"36\": 9, \"11\": 1, \"41\": 2, \"6\": 2, \"27\": 2, \"0\": 1, \"8\": 1}, \"50\": {\"50\": 55, \"8\": 10, \"17\": 4, \"53\": 3, \"21\": 3, \"45\": 3, \"36\": 2, \"29\": 3, \"4\": 9, \"51\": 14, \"18\": 3, \"3\": 2, \"9\": 4, \"27\": 6, \"43\": 1, \"55\": 2, \"42\": 1, \"26\": 3, \"57\": 2, \"54\": 1, \"46\": 1}, \"19\": {\"19\": 111, \"50\": 2, \"29\": 4, \"44\": 13, \"51\": 1, \"40\": 3, \"56\": 2, \"20\": 1, \"33\": 1, \"5\": 1, \"45\": 2, \"9\": 1}, \"44\": {\"44\": 91, \"19\": 16, \"40\": 1, \"31\": 1, \"50\": 1, \"51\": 2, \"29\": 6, \"35\": 2, \"45\": 1, \"9\": 1}, \"47\": {\"47\": 99, \"5\": 9, \"36\": 1, \"18\": 2, \"46\": 4, \"32\": 1, \"48\": 1, \"3\": 2, \"54\": 1}, \"33\": {\"40\": 5, \"19\": 5, \"33\": 20, \"35\": 2, \"44\": 2, \"45\": 1, \"20\": 1}, \"5\": {\"5\": 71, \"39\": 3, \"17\": 1, \"47\": 11, \"36\": 1, \"29\": 1, \"23\": 7, \"55\": 1, \"46\": 3, \"54\": 2, \"32\": 2, \"48\": 1, \"18\": 2, \"15\": 2}, \"18\": {\"18\": 95, \"23\": 4, \"47\": 5, \"55\": 1, \"51\": 1, \"41\": 1, \"5\": 1}, \"21\": {\"21\": 119, \"12\": 1, \"3\": 1, \"36\": 1, \"51\": 1, \"27\": 1}, \"41\": {\"39\": 1, \"23\": 1, \"41\": 33, \"42\": 1}, \"23\": {\"23\": 101, \"18\": 11, \"5\": 5, \"39\": 3, \"47\": 6, \"46\": 2}, \"39\": {\"39\": 15, \"47\": 3, \"54\": 1, \"49\": 1}, \"37\": {\"37\": 23, \"51\": 1}, \"8\": {\"18\": 11, \"17\": 1, \"12\": 1, \"8\": 72, \"48\": 9, \"34\": 2, \"30\": 7, \"27\": 8, \"36\": 5, \"54\": 2, \"52\": 1, \"5\": 1, \"3\": 3, \"20\": 4, \"23\": 10, \"41\": 1, \"6\": 1, \"46\": 3, \"47\": 2}, \"49\": {\"49\": 19, \"39\": 1}, \"53\": {\"20\": 1, \"53\": 138, \"51\": 1}, \"31\": {\"31\": 28}, \"28\": {\"3\": 2, \"32\": 3, \"28\": 10, \"1\": 1, \"47\": 1, \"57\": 2, \"5\": 2, \"30\": 1, \"17\": 2, \"55\": 3, \"36\": 1, \"48\": 2, \"12\": 1, \"29\": 1}, \"3\": {\"54\": 4, \"49\": 1, \"34\": 2, \"3\": 27, \"32\": 2, \"21\": 1, \"5\": 7, \"47\": 18, \"6\": 3, \"36\": 25, \"20\": 1, \"23\": 6, \"18\": 10, \"46\": 4, \"48\": 1, \"53\": 1, \"30\": 1, \"42\": 1, \"1\": 4, \"8\": 1, \"27\": 3, \"51\": 1}, \"27\": {\"17\": 3, \"32\": 2, \"27\": 51, \"48\": 26, \"8\": 5, \"34\": 4, \"9\": 5, \"23\": 1, \"36\": 7, \"50\": 4, \"47\": 3, \"57\": 3, \"5\": 4, \"6\": 4, \"4\": 1, \"51\": 2, \"12\": 2, \"1\": 2, \"30\": 2, \"18\": 3, \"20\": 2, \"3\": 1, \"54\": 1}, \"46\": {\"46\": 63, \"52\": 4, \"32\": 2, \"49\": 3, \"47\": 13, \"55\": 1, \"23\": 11, \"5\": 13, \"22\": 2, \"15\": 4, \"11\": 1, \"18\": 4, \"43\": 2, \"39\": 1, \"1\": 3, \"0\": 1}, \"12\": {\"12\": 80, \"8\": 5, \"27\": 3, \"51\": 1, \"21\": 1, \"9\": 1, \"17\": 1}, \"7\": {\"5\": 3, \"3\": 2, \"7\": 6, \"1\": 3, \"47\": 2, \"22\": 1, \"53\": 1, \"34\": 1, \"32\": 1, \"57\": 2, \"46\": 2}, \"4\": {\"4\": 76, \"7\": 1, \"9\": 6, \"53\": 2, \"29\": 17, \"17\": 2, \"18\": 2, \"57\": 6, \"5\": 3, \"6\": 1, \"47\": 4, \"20\": 1, \"1\": 1, \"36\": 4, \"26\": 1, \"3\": 1, \"50\": 1, \"56\": 1, \"27\": 2}, \"42\": {\"42\": 23, \"23\": 1, \"54\": 1, \"17\": 1, \"47\": 3, \"57\": 1, \"1\": 2}, \"43\": {\"43\": 107, \"16\": 3, \"15\": 7, \"2\": 1, \"11\": 5, \"23\": 2, \"3\": 1, \"57\": 1, \"24\": 1, \"36\": 1, \"5\": 1}, \"29\": {\"4\": 15, \"29\": 78, \"19\": 6, \"14\": 1, \"7\": 1, \"57\": 4, \"56\": 5, \"45\": 1, \"53\": 1, \"9\": 7, \"27\": 1}, \"57\": {\"47\": 13, \"57\": 38, \"32\": 2, \"54\": 2, \"29\": 2, \"4\": 6, \"48\": 2, \"42\": 1, \"46\": 6, \"5\": 13, \"36\": 6, \"39\": 1, \"1\": 1, \"26\": 1, \"34\": 2, \"17\": 2, \"3\": 1, \"23\": 1}, \"52\": {\"52\": 101, \"23\": 2, \"46\": 1}, \"45\": {\"45\": 62, \"26\": 3, \"17\": 3, \"37\": 1, \"9\": 3, \"29\": 2, \"33\": 2, \"6\": 1, \"40\": 2, \"12\": 3, \"4\": 4, \"19\": 4, \"25\": 1, \"21\": 1, \"35\": 2, \"50\": 1, \"57\": 1}, \"36\": {\"36\": 87, \"5\": 1, \"46\": 2, \"3\": 2}, \"10\": {\"10\": 107, \"24\": 3, \"43\": 11, \"22\": 4, \"55\": 1}, \"15\": {\"15\": 120, \"11\": 6, \"16\": 7, \"46\": 1}, \"56\": {\"56\": 70, \"2\": 1, \"43\": 1, \"38\": 1, \"57\": 5, \"18\": 2, \"4\": 9, \"29\": 19, \"19\": 1, \"9\": 6, \"46\": 1, \"35\": 1, \"26\": 2, \"24\": 1, \"7\": 1, \"10\": 1, \"53\": 1, \"15\": 1}, \"2\": {\"2\": 33, \"10\": 1, \"22\": 1, \"43\": 1}}, \"C_5\": {\"47\": {\"39\": 5, \"34\": 4, \"47\": 69, \"32\": 1, \"57\": 6, \"46\": 3, \"42\": 1, \"1\": 2, \"3\": 4, \"23\": 1, \"48\": 1, \"30\": 3}, \"53\": {\"53\": 108, \"54\": 6, \"6\": 1, \"20\": 9, \"8\": 12, \"30\": 1, \"18\": 5, \"52\": 1, \"14\": 1, \"3\": 2, \"46\": 1, \"23\": 2, \"56\": 1}, \"29\": {\"29\": 92, \"33\": 1, \"50\": 1, \"9\": 6, \"44\": 7, \"40\": 3, \"19\": 12, \"5\": 2, \"55\": 1, \"27\": 1}, \"52\": {\"52\": 118, \"46\": 4, \"54\": 1, \"2\": 1, \"11\": 1, \"23\": 5}, \"55\": {\"1\": 18, \"55\": 55, \"34\": 1, \"53\": 5, \"30\": 6, \"6\": 7, \"12\": 2, \"54\": 1, \"9\": 4, \"27\": 3, \"50\": 1, \"8\": 3, \"16\": 3, \"45\": 2, \"3\": 2, \"48\": 19, \"23\": 2, \"46\": 2, \"19\": 2, \"57\": 1, \"20\": 1, \"17\": 2, \"47\": 2}, \"17\": {\"1\": 29, \"48\": 12, \"45\": 3, \"17\": 36, \"20\": 1, \"39\": 2, \"18\": 6, \"8\": 7, \"30\": 7, \"57\": 4, \"16\": 2, \"3\": 1, \"23\": 1, \"46\": 1, \"55\": 1, \"27\": 2, \"9\": 1}, \"42\": {\"42\": 35, \"57\": 2, \"8\": 1, \"23\": 2}, \"33\": {\"33\": 23, \"44\": 4, \"19\": 2, \"28\": 1, \"40\": 1, \"22\": 1}, \"11\": {\"11\": 126, \"23\": 4, \"15\": 12, \"46\": 1, \"16\": 4, \"52\": 1}, \"19\": {\"19\": 81, \"33\": 3, \"0\": 2, \"29\": 10, \"44\": 3, \"9\": 12, \"5\": 3, \"4\": 3, \"50\": 1}, \"1\": {\"1\": 128, \"48\": 8, \"34\": 1, \"17\": 2, \"32\": 2, \"30\": 2, \"53\": 1}, \"44\": {\"44\": 107, \"22\": 3, \"33\": 1, \"5\": 1, \"29\": 11, \"19\": 7, \"4\": 7, \"45\": 2, \"13\": 1, \"21\": 1, \"50\": 1}, \"49\": {\"49\": 26, \"11\": 1, \"2\": 1, \"0\": 1, \"3\": 1, \"43\": 2, \"15\": 1, \"16\": 2, \"34\": 1}, \"4\": {\"44\": 9, \"28\": 4, \"33\": 1, \"4\": 44, \"9\": 9, \"29\": 8, \"19\": 10, \"5\": 6, \"12\": 3, \"30\": 1, \"42\": 1, \"50\": 3, \"25\": 1}, \"6\": {\"39\": 1, \"17\": 3, \"30\": 14, \"1\": 12, \"49\": 2, \"6\": 22, \"53\": 8, \"23\": 1, \"8\": 9, \"46\": 2, \"16\": 2, \"57\": 6, \"20\": 5, \"48\": 9, \"56\": 1, \"55\": 3, \"32\": 2, \"47\": 4, \"31\": 1, \"34\": 2, \"42\": 1, \"27\": 3, \"3\": 1, \"45\": 2}, \"39\": {\"39\": 15, \"23\": 1, \"2\": 1, \"47\": 2, \"42\": 1}, \"50\": {\"50\": 47, \"17\": 1, \"27\": 12, \"28\": 3, \"6\": 5, \"26\": 1, \"42\": 2, \"4\": 3, \"9\": 20, \"29\": 4, \"52\": 1, \"8\": 2, \"45\": 4, \"53\": 5, \"51\": 4, \"19\": 3, \"47\": 1, \"54\": 4, \"20\": 3, \"44\": 1, \"25\": 2, \"30\": 1, \"55\": 4, \"48\": 3, \"46\": 2, \"21\": 8, \"41\": 2}, \"56\": {\"56\": 61, \"31\": 4, \"2\": 2, \"11\": 16, \"43\": 4, \"57\": 2, \"52\": 4, \"10\": 1, \"15\": 14, \"0\": 8, \"16\": 3, \"46\": 3, \"34\": 1, \"49\": 1, \"54\": 2, \"47\": 1, \"3\": 3}, \"25\": {\"25\": 133, \"21\": 3, \"12\": 4, \"4\": 2, \"50\": 2}, \"28\": {\"28\": 29, \"3\": 1, \"46\": 1, \"29\": 1}, \"35\": {\"35\": 35, \"13\": 1}, \"24\": {\"24\": 47, \"35\": 1, \"14\": 1, \"0\": 7, \"43\": 8, \"15\": 4, \"23\": 1, \"56\": 3, \"10\": 4, \"2\": 1, \"16\": 1, \"3\": 2}, \"21\": {\"21\": 118, \"9\": 2, \"51\": 7, \"50\": 2, \"55\": 1, \"3\": 1, \"53\": 1}, \"45\": {\"45\": 36, \"9\": 14, \"41\": 3, \"17\": 7, \"6\": 4, \"50\": 6, \"28\": 1, \"26\": 1, \"12\": 5, \"53\": 7, \"42\": 1, \"4\": 2, \"1\": 4, \"3\": 2, \"8\": 2, \"7\": 1, \"48\": 3, \"19\": 1, \"47\": 1, \"25\": 5, \"55\": 5, \"30\": 3, \"27\": 5, \"33\": 1, \"14\": 1, \"21\": 1, \"51\": 2}, \"16\": {\"16\": 113, \"54\": 4, \"46\": 5, \"3\": 1, \"14\": 2, \"11\": 14, \"56\": 1, \"23\": 2, \"27\": 1, \"52\": 1}, \"37\": {\"37\": 24}, \"57\": {\"57\": 118, \"23\": 1, \"3\": 2, \"47\": 1, \"18\": 2, \"46\": 2, \"54\": 2, \"42\": 1, \"34\": 1, \"16\": 2}, \"34\": {\"34\": 29, \"2\": 2, \"35\": 1, \"47\": 2, \"46\": 1, \"15\": 1}, \"38\": {\"38\": 32}, \"48\": {\"48\": 82, \"47\": 3, \"30\": 7, \"42\": 1, \"20\": 5, \"1\": 17, \"8\": 3, \"17\": 5, \"6\": 1, \"32\": 2, \"57\": 2, \"27\": 1, \"55\": 1}, \"26\": {\"26\": 24}, \"9\": {\"45\": 3, \"28\": 1, \"48\": 10, \"9\": 59, \"47\": 9, \"1\": 8, \"27\": 24, \"21\": 3, \"36\": 1, \"14\": 2, \"30\": 4, \"54\": 2, \"7\": 1, \"17\": 7, \"50\": 3, \"40\": 1, \"57\": 2, \"25\": 2, \"8\": 3, \"46\": 1, \"41\": 2, \"32\": 1, \"5\": 1, \"51\": 1, \"55\": 1}, \"18\": {\"23\": 6, \"18\": 51, \"1\": 1, \"54\": 1, \"20\": 1, \"2\": 1, \"42\": 2, \"47\": 1}, \"3\": {\"57\": 9, \"3\": 40, \"47\": 8, \"46\": 12, \"11\": 4, \"52\": 3, \"23\": 8, \"49\": 1, \"56\": 3, \"53\": 1, \"54\": 6, \"2\": 2, \"39\": 1, \"36\": 1, \"6\": 1}, \"23\": {\"23\": 103, \"54\": 6, \"47\": 1, \"46\": 7, \"18\": 2, \"57\": 2, \"3\": 1, \"52\": 2}, \"15\": {\"15\": 121, \"11\": 19, \"23\": 2, \"0\": 2, \"43\": 1, \"2\": 2, \"24\": 1, \"56\": 2, \"16\": 4}, \"10\": {\"10\": 64, \"43\": 1, \"24\": 3}, \"46\": {\"54\": 5, \"46\": 98, \"49\": 1, \"2\": 1, \"23\": 13, \"52\": 9, \"47\": 3, \"0\": 2, \"3\": 3, \"57\": 7, \"15\": 1, \"11\": 4, \"18\": 1}, \"22\": {\"22\": 23, \"50\": 1, \"35\": 2, \"44\": 1, \"15\": 1}, \"54\": {\"54\": 98, \"20\": 1, \"23\": 5, \"46\": 2, \"43\": 1, \"44\": 1, \"3\": 1, \"47\": 1, \"52\": 2}, \"27\": {\"34\": 3, \"27\": 56, \"1\": 25, \"57\": 9, \"17\": 5, \"30\": 14, \"41\": 2, \"48\": 7, \"8\": 4, \"14\": 1, \"9\": 11, \"32\": 4, \"54\": 3, \"20\": 3, \"47\": 2, \"55\": 1, \"25\": 1, \"38\": 1, \"42\": 2, \"50\": 2, \"45\": 1, \"16\": 1, \"51\": 1, \"53\": 1}, \"41\": {\"41\": 17, \"39\": 3, \"3\": 2, \"23\": 1, \"27\": 1, \"47\": 1, \"42\": 3}, \"31\": {\"31\": 32, \"9\": 1, \"43\": 1, \"47\": 1, \"14\": 1}, \"0\": {\"11\": 13, \"0\": 49, \"49\": 2, \"24\": 7, \"46\": 14, \"3\": 4, \"57\": 10, \"52\": 3, \"56\": 7, \"43\": 7, \"47\": 1, \"54\": 2, \"15\": 2, \"18\": 1, \"23\": 2}, \"7\": {\"39\": 1, \"7\": 25, \"25\": 1, \"45\": 1, \"51\": 2, \"20\": 2}, \"2\": {\"2\": 27, \"3\": 1}, \"14\": {\"47\": 2, \"3\": 5, \"49\": 1, \"56\": 1, \"23\": 2, \"28\": 2, \"41\": 1, \"14\": 10, \"54\": 3, \"52\": 1, \"27\": 1, \"46\": 5, \"12\": 1, \"45\": 2, \"57\": 1, \"26\": 1, \"34\": 1, \"18\": 1, \"0\": 2, \"19\": 1}, \"40\": {\"40\": 69, \"5\": 12, \"33\": 3, \"4\": 4, \"9\": 4, \"21\": 2, \"14\": 1, \"44\": 6, \"19\": 9, \"25\": 1, \"13\": 4, \"50\": 2, \"29\": 6, \"12\": 1}, \"5\": {\"5\": 65, \"44\": 19, \"28\": 1, \"21\": 1, \"33\": 4, \"40\": 4, \"4\": 9, \"29\": 12, \"50\": 1, \"19\": 6, \"51\": 1, \"9\": 3, \"45\": 1, \"25\": 1}, \"12\": {\"12\": 78, \"37\": 1, \"45\": 7, \"55\": 1, \"8\": 1, \"17\": 1, \"27\": 2, \"38\": 1, \"9\": 1, \"6\": 2, \"14\": 1}, \"43\": {\"0\": 12, \"43\": 104, \"3\": 1, \"11\": 11, \"56\": 3, \"15\": 7, \"52\": 1, \"24\": 1, \"46\": 1, \"44\": 1}, \"13\": {\"13\": 125, \"43\": 3, \"10\": 6, \"0\": 3, \"24\": 1, \"40\": 1, \"15\": 1, \"22\": 1, \"31\": 1, \"36\": 1, \"35\": 1, \"56\": 2, \"29\": 1, \"44\": 1}, \"36\": {\"49\": 2, \"36\": 53, \"2\": 2, \"20\": 3, \"3\": 2, \"56\": 5, \"11\": 2, \"46\": 2, \"23\": 2, \"43\": 2, \"15\": 6, \"13\": 1, \"24\": 1, \"34\": 2, \"16\": 3, \"21\": 1, \"47\": 1, \"30\": 1, \"52\": 1}, \"8\": {\"38\": 1, \"8\": 67, \"30\": 8, \"57\": 7, \"52\": 1, \"1\": 7, \"42\": 4, \"20\": 11, \"18\": 11, \"27\": 1, \"53\": 2, \"48\": 1, \"17\": 2, \"46\": 3, \"6\": 4, \"54\": 6, \"23\": 9, \"4\": 1, \"5\": 1, \"32\": 1, \"47\": 2}, \"32\": {\"32\": 15, \"20\": 2, \"47\": 6, \"48\": 4, \"50\": 2, \"27\": 1, \"30\": 2}, \"30\": {\"30\": 68, \"32\": 1, \"8\": 4, \"48\": 13, \"25\": 1, \"42\": 1, \"1\": 16, \"20\": 3, \"17\": 4, \"57\": 6, \"54\": 1, \"16\": 2, \"47\": 3, \"6\": 4, \"45\": 1}, \"51\": {\"51\": 126, \"7\": 1, \"53\": 5, \"20\": 2, \"50\": 1, \"4\": 1, \"8\": 1, \"15\": 1}, \"20\": {\"2\": 2, \"20\": 60, \"18\": 11, \"30\": 3, \"53\": 5, \"42\": 2, \"8\": 15, \"54\": 3, \"23\": 7, \"16\": 4, \"56\": 2, \"11\": 4, \"17\": 3, \"15\": 3, \"57\": 8, \"1\": 3, \"55\": 1, \"6\": 1, \"48\": 1}}, \"C_1\": {\"46\": {\"46\": 56, \"51\": 4, \"4\": 16, \"56\": 2, \"6\": 5, \"29\": 2, \"8\": 5, \"30\": 4, \"57\": 2, \"37\": 1, \"1\": 3, \"48\": 8, \"44\": 2, \"19\": 4, \"25\": 5, \"50\": 5, \"47\": 1, \"13\": 4, \"20\": 3, \"5\": 1, \"17\": 3, \"2\": 1, \"45\": 3}, \"16\": {\"16\": 127, \"36\": 3, \"54\": 1, \"0\": 2, \"23\": 1}, \"26\": {\"26\": 23, \"37\": 1}, \"10\": {\"22\": 2, \"10\": 77, \"39\": 1, \"52\": 5, \"11\": 7, \"15\": 2, \"55\": 2}, \"9\": {\"9\": 73, \"42\": 2, \"6\": 2, \"48\": 2, \"30\": 19, \"17\": 1, \"18\": 11, \"16\": 23, \"8\": 6, \"36\": 1, \"5\": 6, \"15\": 2, \"0\": 5, \"54\": 1, \"23\": 2}, \"28\": {\"28\": 28}, \"51\": {\"51\": 148, \"26\": 1, \"20\": 6, \"53\": 1}, \"1\": {\"1\": 42, \"33\": 2, \"19\": 8, \"57\": 12, \"45\": 7, \"44\": 2, \"5\": 1, \"42\": 1, \"32\": 1, \"47\": 7, \"30\": 1, \"23\": 1, \"54\": 2, \"56\": 11, \"0\": 1, \"20\": 1}, \"55\": {\"55\": 81, \"11\": 6, \"33\": 1, \"7\": 3, \"52\": 5, \"42\": 3, \"22\": 1, \"16\": 12, \"54\": 4, \"24\": 1, \"36\": 3, \"5\": 2, \"15\": 8, \"23\": 9, \"0\": 2, \"9\": 1, \"10\": 1, \"30\": 4, \"45\": 1}, \"27\": {\"10\": 7, \"27\": 97, \"43\": 10, \"11\": 1, \"21\": 2, \"22\": 2, \"55\": 1, \"23\": 1, \"49\": 1, \"52\": 1, \"15\": 1}, \"22\": {\"28\": 1, \"22\": 84, \"24\": 13, \"42\": 1, \"11\": 9, \"10\": 9, \"21\": 2, \"43\": 1, \"23\": 2, \"52\": 1, \"0\": 1}, \"52\": {\"52\": 48, \"42\": 5, \"18\": 2, \"0\": 4, \"54\": 7, \"16\": 3, \"10\": 6, \"11\": 11, \"24\": 1, \"15\": 15, \"23\": 15, \"21\": 5, \"39\": 1, \"36\": 2, \"22\": 1}, \"3\": {\"47\": 1, \"3\": 112, \"19\": 4, \"13\": 1, \"29\": 6, \"18\": 1, \"35\": 2, \"4\": 3, \"0\": 2, \"44\": 2, \"51\": 1, \"56\": 1, \"57\": 1, \"5\": 1, \"20\": 1, \"45\": 1}, \"33\": {\"33\": 21, \"42\": 1, \"18\": 2, \"16\": 1, \"34\": 4, \"54\": 2, \"45\": 1}, \"47\": {\"47\": 83, \"1\": 8, \"57\": 6, \"32\": 1, \"38\": 1, \"44\": 3, \"19\": 10, \"29\": 1, \"56\": 6, \"45\": 1}, \"42\": {\"42\": 32, \"7\": 4, \"18\": 1, \"55\": 1, \"36\": 1, \"16\": 1}, \"12\": {\"12\": 99, \"14\": 3, \"54\": 2, \"20\": 7, \"55\": 1, \"53\": 3, \"51\": 1}, \"23\": {\"23\": 110, \"7\": 1, \"15\": 8, \"36\": 2, \"21\": 2, \"0\": 4, \"16\": 4, \"54\": 1}, \"49\": {\"49\": 15, \"54\": 1, \"16\": 2, \"43\": 2, \"52\": 3, \"42\": 1, \"36\": 4, \"0\": 1, \"24\": 1, \"21\": 1, \"33\": 1}, \"7\": {\"7\": 28}, \"4\": {\"56\": 6, \"4\": 66, \"29\": 6, \"44\": 17, \"1\": 4, \"57\": 13, \"19\": 5, \"3\": 1, \"47\": 4, \"46\": 4, \"13\": 2, \"55\": 1, \"38\": 1, \"40\": 2}, \"50\": {\"50\": 121, \"8\": 2, \"48\": 1, \"2\": 2, \"6\": 5, \"40\": 1, \"9\": 1, \"46\": 1}, \"19\": {\"56\": 13, \"33\": 4, \"19\": 76, \"54\": 3, \"1\": 11, \"38\": 1, \"57\": 5, \"47\": 7, \"42\": 5, \"8\": 1, \"4\": 2, \"44\": 1, \"16\": 3, \"45\": 11, \"46\": 1, \"5\": 1, \"0\": 4, \"7\": 2, \"50\": 1, \"20\": 1, \"6\": 1}, \"11\": {\"11\": 93, \"21\": 7, \"10\": 15, \"52\": 10, \"24\": 3, \"15\": 6, \"22\": 2, \"55\": 2, \"39\": 1, \"30\": 1}, \"31\": {\"31\": 13, \"28\": 2, \"52\": 3, \"24\": 1, \"32\": 2, \"10\": 2, \"22\": 1, \"11\": 2, \"21\": 1, \"49\": 1}, \"41\": {\"41\": 24}, \"56\": {\"56\": 62, \"57\": 9, \"19\": 15, \"1\": 9, \"47\": 12, \"32\": 1, \"44\": 5, \"30\": 2, \"50\": 1, \"45\": 9, \"4\": 2, \"0\": 3, \"53\": 1, \"5\": 1, \"25\": 1, \"40\": 1, \"34\": 1, \"55\": 1, \"15\": 1, \"54\": 1}, \"0\": {\"42\": 2, \"0\": 84, \"54\": 11, \"23\": 12, \"15\": 8, \"8\": 2, \"52\": 2, \"18\": 2, \"5\": 3, \"16\": 10, \"21\": 2, \"36\": 5, \"7\": 2, \"22\": 2, \"11\": 1}, \"57\": {\"19\": 22, \"57\": 56, \"1\": 10, \"44\": 6, \"56\": 14, \"47\": 9, \"4\": 3, \"45\": 3, \"52\": 1, \"51\": 1, \"35\": 2, \"13\": 1}, \"53\": {\"53\": 135, \"2\": 1, \"9\": 1, \"5\": 2, \"30\": 1}, \"43\": {\"43\": 103, \"11\": 4, \"24\": 4, \"49\": 2, \"22\": 4, \"27\": 19, \"21\": 1, \"52\": 3, \"10\": 2, \"28\": 2}, \"37\": {\"37\": 30, \"8\": 1, \"12\": 1}, \"2\": {\"42\": 4, \"2\": 17, \"7\": 1, \"23\": 1, \"34\": 1, \"36\": 1, \"16\": 4, \"30\": 2, \"18\": 1, \"48\": 1, \"6\": 1, \"17\": 2}, \"6\": {\"2\": 1, \"6\": 29, \"7\": 1, \"50\": 12, \"45\": 1, \"36\": 1, \"9\": 12, \"30\": 19, \"34\": 2, \"5\": 5, \"18\": 5, \"46\": 2, \"8\": 2, \"16\": 3, \"23\": 1}, \"13\": {\"13\": 150}, \"18\": {\"18\": 70, \"16\": 1, \"30\": 1}, \"36\": {\"7\": 2, \"0\": 1, \"36\": 42, \"15\": 3, \"23\": 5, \"54\": 2, \"52\": 2, \"16\": 6, \"18\": 1}, \"29\": {\"29\": 92, \"35\": 4, \"3\": 2, \"4\": 8, \"57\": 2, \"44\": 14, \"13\": 1, \"25\": 1, \"40\": 8, \"56\": 3, \"47\": 1, \"46\": 2, \"19\": 1, \"51\": 1}, \"39\": {\"36\": 1, \"39\": 22, \"7\": 1, \"15\": 2, \"52\": 1, \"10\": 1}, \"17\": {\"7\": 4, \"36\": 2, \"48\": 2, \"30\": 3, \"5\": 7, \"17\": 22, \"16\": 4, \"18\": 9, \"42\": 3, \"2\": 1, \"8\": 1, \"19\": 1, \"15\": 1, \"23\": 1, \"6\": 3}, \"21\": {\"52\": 6, \"21\": 95, \"36\": 1, \"10\": 2, \"23\": 4, \"16\": 4, \"0\": 1, \"15\": 11}, \"25\": {\"25\": 130, \"19\": 1, \"46\": 1}, \"45\": {\"45\": 81, \"33\": 6, \"7\": 3, \"30\": 8, \"32\": 1, \"42\": 3, \"18\": 3, \"16\": 11, \"54\": 2, \"48\": 2, \"5\": 7, \"36\": 1, \"0\": 9, \"56\": 1, \"25\": 1, \"19\": 1, \"8\": 1, \"51\": 1}, \"38\": {\"31\": 2, \"52\": 2, \"38\": 9, \"54\": 3, \"22\": 1, \"42\": 1, \"34\": 1, \"32\": 1, \"15\": 2, \"36\": 1, \"0\": 1}, \"30\": {\"33\": 2, \"30\": 102, \"16\": 4, \"9\": 2, \"23\": 2, \"54\": 4, \"18\": 4}, \"24\": {\"11\": 10, \"24\": 57, \"10\": 5, \"22\": 9, \"55\": 2, \"49\": 3, \"52\": 5, \"21\": 8, \"15\": 1, \"36\": 2, \"43\": 4, \"39\": 2}, \"20\": {\"20\": 132, \"51\": 5, \"53\": 1, \"12\": 2}, \"8\": {\"50\": 4, \"9\": 11, \"8\": 54, \"30\": 17, \"7\": 3, \"16\": 18, \"17\": 5, \"6\": 3, \"18\": 5, \"48\": 7, \"5\": 5, \"23\": 1, \"15\": 1, \"0\": 2, \"42\": 1, \"2\": 1, \"52\": 2}, \"35\": {\"1\": 2, \"35\": 32, \"57\": 1, \"56\": 1}, \"54\": {\"0\": 4, \"54\": 76, \"36\": 4, \"15\": 2, \"16\": 7, \"23\": 5, \"18\": 2, \"7\": 2, \"5\": 2}, \"5\": {\"30\": 17, \"5\": 74, \"7\": 3, \"6\": 1, \"42\": 3, \"54\": 2, \"16\": 17, \"0\": 3, \"23\": 5, \"55\": 2, \"33\": 3, \"34\": 1, \"2\": 1, \"48\": 2, \"18\": 4, \"36\": 2, \"17\": 2, \"9\": 1, \"45\": 5}, \"48\": {\"7\": 2, \"8\": 14, \"34\": 1, \"48\": 69, \"30\": 11, \"17\": 2, \"9\": 9, \"50\": 7, \"5\": 4, \"16\": 12, \"54\": 1, \"6\": 6, \"18\": 2, \"0\": 1, \"23\": 2, \"33\": 1}, \"15\": {\"23\": 22, \"21\": 9, \"15\": 71, \"0\": 9, \"54\": 1, \"52\": 12, \"36\": 6, \"55\": 1, \"16\": 8, \"34\": 1, \"30\": 1, \"45\": 1}, \"34\": {\"34\": 24}, \"14\": {\"42\": 1, \"34\": 3, \"12\": 3, \"14\": 7, \"17\": 2, \"18\": 1, \"51\": 1, \"53\": 1, \"30\": 1, \"8\": 1, \"20\": 1, \"16\": 1, \"25\": 1}, \"32\": {\"32\": 12, \"18\": 1, \"34\": 2, \"5\": 1, \"16\": 2, \"0\": 2, \"49\": 2, \"36\": 3, \"23\": 2, \"7\": 1, \"31\": 1, \"38\": 1, \"54\": 1, \"42\": 1}, \"40\": {\"25\": 7, \"40\": 83, \"29\": 21, \"44\": 5, \"35\": 3, \"3\": 3, \"13\": 5, \"57\": 4, \"4\": 4, \"56\": 6, \"19\": 1, \"46\": 4, \"20\": 2}, \"44\": {\"44\": 82, \"29\": 6, \"4\": 5, \"46\": 1, \"47\": 11, \"51\": 1, \"57\": 6, \"19\": 7, \"56\": 6, \"13\": 5, \"35\": 2, \"1\": 2, \"20\": 2}}, \"C_2\": {\"36\": {\"36\": 105, \"50\": 2, \"48\": 2, \"27\": 1, \"34\": 1, \"6\": 1, \"47\": 2, \"30\": 1, \"17\": 1}, \"5\": {\"7\": 5, \"41\": 4, \"1\": 4, \"48\": 1, \"5\": 63, \"47\": 12, \"16\": 2, \"14\": 1, \"6\": 7, \"57\": 4, \"21\": 1, \"23\": 8, \"52\": 1, \"49\": 1, \"46\": 2, \"27\": 1, \"0\": 1, \"50\": 1, \"11\": 1}, \"45\": {\"5\": 2, \"33\": 4, \"57\": 1, \"45\": 53, \"25\": 6, \"4\": 6, \"29\": 5, \"12\": 3, \"17\": 3, \"3\": 2, \"50\": 2, \"19\": 11, \"6\": 1, \"20\": 2, \"55\": 3, \"44\": 1, \"22\": 1, \"36\": 2, \"9\": 5, \"21\": 1, \"54\": 1, \"26\": 1, \"51\": 6, \"8\": 2, \"7\": 1, \"53\": 1, \"40\": 1, \"46\": 1}, \"49\": {\"7\": 1, \"49\": 13, \"37\": 1, \"42\": 2, \"57\": 1, \"23\": 2, \"8\": 1, \"2\": 1, \"18\": 2}, \"50\": {\"5\": 7, \"12\": 4, \"32\": 2, \"20\": 2, \"2\": 1, \"50\": 48, \"46\": 10, \"55\": 2, \"17\": 2, \"21\": 12, \"48\": 6, \"9\": 1, \"11\": 5, \"23\": 8, \"8\": 2, \"47\": 2, \"52\": 3, \"6\": 1, \"1\": 2, \"27\": 3, \"30\": 3, \"42\": 1, \"28\": 1, \"4\": 1, \"54\": 1, \"53\": 1, \"25\": 1, \"36\": 3, \"51\": 1}, \"4\": {\"4\": 90, \"33\": 1, \"9\": 20, \"29\": 4, \"19\": 3, \"3\": 4, \"45\": 1, \"51\": 1, \"5\": 1, \"23\": 1, \"47\": 1, \"22\": 1, \"57\": 3, \"49\": 1, \"31\": 1, \"6\": 1, \"53\": 1, \"55\": 1, \"46\": 1, \"48\": 1}, \"43\": {\"43\": 137, \"11\": 2, \"16\": 2, \"15\": 2, \"30\": 1, \"41\": 2, \"24\": 1, \"5\": 1}, \"41\": {\"41\": 20}, \"37\": {\"37\": 35, \"13\": 1}, \"12\": {\"12\": 46, \"32\": 3, \"0\": 1, \"27\": 3, \"7\": 1, \"30\": 7, \"54\": 6, \"48\": 6, \"50\": 1, \"5\": 2, \"8\": 1, \"18\": 4, \"36\": 2, \"17\": 3, \"6\": 5, \"15\": 1}, \"33\": {\"33\": 16, \"9\": 2, \"19\": 4, \"22\": 1, \"44\": 1, \"4\": 1, \"29\": 1, \"25\": 2}, \"7\": {\"7\": 35, \"39\": 1}, \"56\": {\"56\": 118, \"14\": 1, \"24\": 2, \"2\": 1, \"1\": 2, \"22\": 9, \"57\": 2, \"43\": 4, \"47\": 1}, \"14\": {\"56\": 6, \"5\": 2, \"14\": 7, \"10\": 2, \"4\": 1, \"43\": 3, \"19\": 1, \"46\": 2}, \"52\": {\"52\": 116, \"23\": 8}, \"44\": {\"33\": 1, \"44\": 77, \"9\": 2, \"19\": 10, \"35\": 1, \"40\": 1, \"29\": 3, \"4\": 1}, \"48\": {\"48\": 141, \"6\": 2, \"18\": 1}, \"20\": {\"20\": 91, \"8\": 26, \"53\": 1, \"2\": 1, \"18\": 2, \"19\": 1, \"30\": 1, \"21\": 1, \"51\": 2, \"46\": 1, \"54\": 1}, \"55\": {\"55\": 58, \"2\": 6, \"46\": 16, \"56\": 4, \"21\": 3, \"48\": 3, \"47\": 7, \"42\": 1, \"1\": 4, \"52\": 4, \"27\": 2, \"22\": 5, \"5\": 5, \"3\": 1, \"6\": 4, \"29\": 2, \"11\": 5, \"57\": 6, \"50\": 3, \"16\": 3, \"12\": 1, \"17\": 1}, \"32\": {\"36\": 1, \"17\": 1, \"3\": 2, \"32\": 10, \"48\": 4, \"7\": 5, \"42\": 1, \"39\": 1, \"57\": 1, \"1\": 1, \"27\": 1}, \"40\": {\"44\": 4, \"40\": 86, \"45\": 3, \"33\": 5, \"35\": 1, \"19\": 18, \"22\": 1, \"9\": 9, \"4\": 2, \"29\": 5, \"25\": 1, \"51\": 1}, \"54\": {\"54\": 91, \"12\": 4, \"5\": 3, \"23\": 3, \"6\": 2, \"47\": 3, \"7\": 2}, \"17\": {\"32\": 3, \"48\": 12, \"17\": 48, \"3\": 2, \"12\": 4, \"7\": 2, \"1\": 6, \"16\": 5, \"6\": 4, \"23\": 2, \"27\": 5, \"5\": 2, \"57\": 1, \"42\": 1, \"39\": 2, \"52\": 2, \"47\": 1, \"46\": 1, \"54\": 1}, \"38\": {\"38\": 18, \"5\": 1, \"24\": 1}, \"24\": {\"38\": 2, \"24\": 65, \"5\": 2, \"43\": 14, \"6\": 2, \"10\": 6, \"0\": 1, \"11\": 2, \"22\": 2}, \"1\": {\"1\": 90, \"48\": 3, \"39\": 3, \"6\": 6, \"5\": 3, \"16\": 1, \"47\": 1, \"7\": 2, \"34\": 2, \"29\": 1}, \"6\": {\"6\": 85, \"48\": 10, \"34\": 3, \"7\": 5, \"54\": 4, \"23\": 7, \"52\": 4, \"30\": 3, \"36\": 1, \"41\": 1, \"3\": 1}, \"34\": {\"34\": 26, \"39\": 1, \"6\": 1}, \"11\": {\"11\": 118, \"15\": 6, \"16\": 8, \"23\": 2, \"5\": 1, \"47\": 1}, \"9\": {\"9\": 77, \"4\": 20, \"19\": 8, \"3\": 5, \"29\": 23, \"33\": 3, \"45\": 2, \"44\": 1, \"50\": 1, \"57\": 3, \"51\": 1, \"55\": 1, \"53\": 1, \"40\": 2, \"47\": 1, \"25\": 1}, \"8\": {\"8\": 96, \"12\": 2, \"20\": 26, \"27\": 5, \"30\": 9, \"50\": 6, \"46\": 2, \"23\": 2, \"18\": 2, \"3\": 1, \"16\": 1}, \"22\": {\"56\": 15, \"5\": 2, \"22\": 96, \"47\": 1, \"39\": 1, \"57\": 2, \"1\": 1, \"23\": 1, \"10\": 4, \"43\": 7, \"41\": 1, \"31\": 1, \"3\": 2, \"11\": 1, \"15\": 1}, \"26\": {\"26\": 24}, \"23\": {\"23\": 140, \"18\": 4, \"30\": 2}, \"10\": {\"10\": 94, \"24\": 7, \"43\": 9, \"11\": 1, \"38\": 1}, \"18\": {\"23\": 1, \"30\": 4, \"18\": 42, \"47\": 1}, \"13\": {\"13\": 115, \"19\": 1}, \"30\": {\"23\": 2, \"30\": 123, \"18\": 1, \"6\": 2}, \"42\": {\"34\": 1, \"42\": 12, \"47\": 3, \"5\": 2, \"1\": 1, \"49\": 2, \"39\": 4, \"55\": 1, \"57\": 4, \"28\": 1, \"17\": 1, \"6\": 2, \"7\": 2}, \"31\": {\"31\": 22, \"32\": 2, \"57\": 2, \"42\": 1, \"47\": 1}, \"46\": {\"48\": 10, \"46\": 47, \"47\": 9, \"52\": 5, \"6\": 7, \"50\": 2, \"18\": 2, \"7\": 4, \"57\": 2, \"11\": 9, \"27\": 1, \"21\": 2, \"16\": 8, \"23\": 5, \"5\": 9, \"36\": 1, \"39\": 1, \"2\": 1, \"54\": 2, \"1\": 1}, \"57\": {\"48\": 6, \"31\": 3, \"57\": 80, \"3\": 2, \"5\": 9, \"0\": 3, \"34\": 1, \"7\": 1, \"1\": 7, \"6\": 6, \"23\": 5, \"16\": 1, \"47\": 11, \"32\": 1, \"41\": 1, \"28\": 2, \"39\": 1, \"49\": 1, \"42\": 1}, \"47\": {\"34\": 1, \"47\": 94, \"7\": 6, \"39\": 2, \"48\": 7, \"23\": 8, \"5\": 4, \"1\": 3, \"16\": 2, \"28\": 1, \"0\": 1, \"2\": 2, \"6\": 3, \"57\": 3, \"30\": 1}, \"35\": {\"35\": 32}, \"15\": {\"15\": 123, \"11\": 1, \"23\": 3, \"16\": 4, \"50\": 1}, \"25\": {\"25\": 126, \"20\": 4, \"3\": 1, \"51\": 3, \"50\": 1, \"27\": 1}, \"19\": {\"9\": 15, \"19\": 90, \"29\": 14, \"45\": 1, \"4\": 5, \"56\": 3, \"40\": 3, \"22\": 2, \"3\": 1, \"13\": 1, \"53\": 1}, \"51\": {\"51\": 124, \"53\": 3, \"21\": 1}, \"53\": {\"53\": 124, \"50\": 1, \"20\": 1, \"21\": 3, \"8\": 1, \"45\": 1, \"51\": 2, \"19\": 1}, \"21\": {\"2\": 6, \"3\": 4, \"21\": 88, \"11\": 1, \"50\": 2, \"1\": 3, \"54\": 2, \"52\": 2, \"23\": 1, \"5\": 3, \"57\": 1, \"46\": 3, \"53\": 1, \"47\": 1, \"6\": 1, \"42\": 1}, \"39\": {\"39\": 25, \"15\": 2, \"24\": 1}, \"2\": {\"7\": 1, \"39\": 1, \"2\": 10, \"6\": 6, \"48\": 6, \"41\": 1, \"16\": 2, \"1\": 2, \"11\": 2, \"47\": 1}, \"16\": {\"16\": 128, \"28\": 2, \"5\": 2, \"15\": 6, \"23\": 5, \"46\": 1, \"11\": 6}, \"0\": {\"0\": 36, \"28\": 1, \"52\": 2, \"15\": 2, \"23\": 4, \"5\": 1, \"18\": 2}, \"3\": {\"34\": 2, \"3\": 15, \"49\": 1, \"0\": 2, \"9\": 6, \"39\": 4, \"26\": 2, \"57\": 4, \"8\": 1, \"50\": 3, \"7\": 5, \"5\": 7, \"6\": 1, \"18\": 1, \"51\": 5, \"54\": 2, \"47\": 4, \"4\": 3, \"17\": 1, \"53\": 1, \"23\": 4, \"36\": 1, \"25\": 4, \"29\": 3, \"21\": 3, \"48\": 3, \"12\": 1, \"11\": 1, \"22\": 1, \"16\": 1}, \"27\": {\"27\": 59, \"6\": 13, \"48\": 20, \"18\": 2, \"36\": 4, \"30\": 11, \"12\": 1, \"17\": 7, \"8\": 4, \"23\": 5, \"47\": 6, \"41\": 1, \"1\": 3, \"32\": 2, \"3\": 1, \"16\": 2, \"57\": 1}, \"28\": {\"28\": 24, \"52\": 3, \"5\": 1}, \"29\": {\"29\": 78, \"4\": 14, \"42\": 2, \"9\": 16, \"32\": 2, \"13\": 1, \"53\": 1, \"57\": 1, \"50\": 1, \"8\": 1, \"19\": 6, \"31\": 1, \"51\": 1, \"6\": 1, \"55\": 1, \"45\": 1}}}, \"per_domain_accuracy\": {\"O_14\": {\"accuracy\": 0.86796875, \"source?\": true}, \"O_20\": {\"accuracy\": 0.7645833333333333, \"source?\": true}, \"O_38\": {\"accuracy\": 0.8739583333333333, \"source?\": true}, \"O_8\": {\"accuracy\": 0.8161458333333333, \"source?\": true}, \"O_50\": {\"accuracy\": 0.8481770833333333, \"source?\": true}, \"O_32\": {\"accuracy\": 0.8153645833333333, \"source?\": true}, \"O_26\": {\"accuracy\": 0.6411458333333333, \"source?\": true}, \"O_44\": {\"accuracy\": 0.70625, \"source?\": true}, \"C_3\": {\"accuracy\": 0.6805959302325582, \"source?\": false}, \"C_4\": {\"accuracy\": 0.6808712121212122, \"source?\": false}, \"C_5\": {\"accuracy\": 0.6487430167597765, \"source?\": false}, \"C_1\": {\"accuracy\": 0.6627390710382514, \"source?\": false}, \"C_2\": {\"accuracy\": 0.715042372881356, \"source?\": false}}}, \"history\": {\"epoch_indices\": [1, 2, 3, 4, 5, 6, 7, 8], \"train_label_loss\": [0.9903533917807398, 1.069210214227704, 0.6409790663314717, 0.5392335242514188, 0.4781237056761581, 0.43533672905482707, 0.41261168305507107, 0.3729427399546174], \"source_val_label_loss\": [58.63156509399414, 0.7084887623786926, 0.686833918094635, 0.5610878467559814, 0.4780505299568176, 0.4459461271762848, 0.4415588974952698, 0.3753758370876312], \"target_val_label_loss\": [1503.2353515625, 119.92815399169922, 99.96084594726562, 92.51656341552734, 99.81295013427734, 117.27603149414062, 124.87633514404297, 151.41632080078125], \"source_val_acc_label\": [0.5839518229166667, 0.7423502604166666, 0.7438802083333333, 0.79169921875, 0.82548828125, 0.8359049479166667, 0.8362955729166667, 0.8620442708333333], \"target_val_acc_label\": [0.5657462899543378, 0.6565353881278538, 0.6730522260273972, 0.6773687214611872, 0.6525756278538812, 0.6686643835616438, 0.6693421803652968, 0.6559646118721462]}, \"dataset_metrics\": {\"source\": {\"train\": {\"n_unique_x\": 179200, \"n_unique_y\": 16, \"n_batch/episode\": 6720}, \"val\": {\"n_unique_x\": 38400, \"n_unique_y\": 16, \"n_batch/episode\": 960}, \"test\": {\"n_unique_x\": 38400, \"n_unique_y\": 16, \"n_batch/episode\": 960}}, \"target\": {\"train\": {\"n_unique_x\": 175212, \"n_unique_y\": 58, \"n_batch/episode\": 6322}, \"val\": {\"n_unique_x\": 37196, \"n_unique_y\": 58, \"n_batch/episode\": 876}, \"test\": {\"n_unique_x\": 37634, \"n_unique_y\": 58, \"n_batch/episode\": 891}}}}'"
      ]
     },
     "execution_count": 29,
     "metadata": {},
     "output_type": "execute_result"
    }
   ],
   "source": [
    "json.dumps(experiment)"
   ]
  }
 ],
 "metadata": {
  "celltoolbar": "Tags",
  "kernelspec": {
   "display_name": "Python 3 (ipykernel)",
   "language": "python",
   "name": "python3"
  },
  "language_info": {
   "codemirror_mode": {
    "name": "ipython",
    "version": 3
   },
   "file_extension": ".py",
   "mimetype": "text/x-python",
   "name": "python",
   "nbconvert_exporter": "python",
   "pygments_lexer": "ipython3",
   "version": "3.8.10"
  },
  "papermill": {
   "default_parameters": {},
   "duration": 1454.738973,
   "end_time": "2022-03-25T07:50:29.941343",
   "environment_variables": {},
   "exception": null,
   "input_path": "/mnt/wd500GB/CSC500/csc500-main/csc500-notebooks/templates/tl_ptn_template.ipynb",
   "output_path": "trial.ipynb",
   "parameters": {
    "parameters": {
     "BEST_MODEL_PATH": "./best_model.pth",
     "NUM_LOGS_PER_EPOCH": 10,
     "criteria_for_best": "target_accuracy",
     "dataset_seed": 1337,
     "datasets": [
      {
       "domain_prefix": "C_",
       "domains": [
        1,
        2,
        3,
        4,
        5
       ],
       "episode_transforms": [],
       "labels": [
        "1-10.",
        "1-11.",
        "1-15.",
        "1-16.",
        "1-17.",
        "1-18.",
        "1-19.",
        "10-4.",
        "10-7.",
        "11-1.",
        "11-14.",
        "11-17.",
        "11-20.",
        "11-7.",
        "13-20.",
        "13-8.",
        "14-10.",
        "14-11.",
        "14-14.",
        "14-7.",
        "15-1.",
        "15-20.",
        "16-1.",
        "16-16.",
        "17-10.",
        "17-11.",
        "17-2.",
        "19-1.",
        "19-16.",
        "19-19.",
        "19-20.",
        "19-3.",
        "2-10.",
        "2-11.",
        "2-17.",
        "2-18.",
        "2-20.",
        "2-3.",
        "2-4.",
        "2-5.",
        "2-6.",
        "2-7.",
        "2-8.",
        "3-13.",
        "3-18.",
        "3-3.",
        "4-1.",
        "4-10.",
        "4-11.",
        "4-19.",
        "5-5.",
        "6-15.",
        "7-10.",
        "7-14.",
        "8-18.",
        "8-20.",
        "8-3.",
        "8-8."
       ],
       "num_examples_per_domain_per_label": -1,
       "pickle_path": "/mnt/wd500GB/CSC500/csc500-main/datasets/cores.stratified_ds.2022A.pkl",
       "source_or_target_dataset": "target",
       "x_transforms": [
        "unit_power",
        "take_200"
       ]
      },
      {
       "domain_prefix": "O_",
       "domains": [
        32,
        38,
        8,
        44,
        14,
        50,
        20,
        26
       ],
       "episode_transforms": [],
       "labels": [
        "3123D52",
        "3123D65",
        "3123D79",
        "3123D80",
        "3123D54",
        "3123D70",
        "3123D7B",
        "3123D89",
        "3123D58",
        "3123D76",
        "3123D7D",
        "3123EFE",
        "3123D64",
        "3123D78",
        "3123D7E",
        "3124E4A"
       ],
       "num_examples_per_domain_per_label": 2000,
       "pickle_path": "/mnt/wd500GB/CSC500/csc500-main/datasets/oracle.Run1_framed_2000Examples_stratified_ds.2022A.pkl",
       "source_or_target_dataset": "source",
       "x_transforms": [
        "unit_power",
        "take_200",
        "resample_20Msps_to_25Msps"
       ]
      }
     ],
     "device": "cuda",
     "experiment_name": "tl_3Av2:oracle.run1.framed -> cores",
     "lr": 0.0001,
     "n_epoch": 50,
     "n_query": 2,
     "n_shot": 3,
     "n_way": 16,
     "patience": 3,
     "seed": 1337,
     "test_k_factor": 2,
     "torch_default_dtype": "torch.float32",
     "train_k_factor": 3,
     "val_k_factor": 2,
     "x_net": [
      {
       "class": "nnReshape",
       "kargs": {
        "shape": [
         -1,
         1,
         2,
         200
        ]
       }
      },
      {
       "class": "Conv2d",
       "kargs": {
        "bias": false,
        "in_channels": 1,
        "kernel_size": [
         1,
         7
        ],
        "out_channels": 256,
        "padding": [
         0,
         3
        ]
       }
      },
      {
       "class": "ReLU",
       "kargs": {
        "inplace": true
       }
      },
      {
       "class": "BatchNorm2d",
       "kargs": {
        "num_features": 256
       }
      },
      {
       "class": "Conv2d",
       "kargs": {
        "bias": true,
        "in_channels": 256,
        "kernel_size": [
         2,
         7
        ],
        "out_channels": 80,
        "padding": [
         0,
         3
        ]
       }
      },
      {
       "class": "ReLU",
       "kargs": {
        "inplace": true
       }
      },
      {
       "class": "BatchNorm2d",
       "kargs": {
        "num_features": 80
       }
      },
      {
       "class": "Flatten",
       "kargs": {}
      },
      {
       "class": "Linear",
       "kargs": {
        "in_features": 16000,
        "out_features": 256
       }
      },
      {
       "class": "ReLU",
       "kargs": {
        "inplace": true
       }
      },
      {
       "class": "BatchNorm1d",
       "kargs": {
        "num_features": 256
       }
      },
      {
       "class": "Linear",
       "kargs": {
        "in_features": 256,
        "out_features": 256
       }
      }
     ],
     "x_shape": [
      2,
      200
     ]
    }
   },
   "start_time": "2022-03-25T07:26:15.202370",
   "version": "2.3.4"
  }
 },
 "nbformat": 4,
 "nbformat_minor": 5
}