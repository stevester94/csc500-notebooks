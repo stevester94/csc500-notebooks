{
 "cells": [
  {
   "cell_type": "markdown",
   "id": "9fea5f46",
   "metadata": {
    "papermill": {
     "duration": 0.01766,
     "end_time": "2022-03-25T13:03:11.645504",
     "exception": false,
     "start_time": "2022-03-25T13:03:11.627844",
     "status": "completed"
    },
    "tags": []
   },
   "source": [
    "# Transfer Learning Template"
   ]
  },
  {
   "cell_type": "code",
   "execution_count": 1,
   "id": "0902182a",
   "metadata": {
    "execution": {
     "iopub.execute_input": "2022-03-25T13:03:11.686587Z",
     "iopub.status.busy": "2022-03-25T13:03:11.686182Z",
     "iopub.status.idle": "2022-03-25T13:03:12.635659Z",
     "shell.execute_reply": "2022-03-25T13:03:12.635351Z"
    },
    "papermill": {
     "duration": 0.97701,
     "end_time": "2022-03-25T13:03:12.635728",
     "exception": false,
     "start_time": "2022-03-25T13:03:11.658718",
     "status": "completed"
    },
    "tags": []
   },
   "outputs": [],
   "source": [
    "%load_ext autoreload\n",
    "%autoreload 2\n",
    "%matplotlib inline\n",
    "\n",
    "    \n",
    "import os, json, sys, time, random\n",
    "import numpy as np\n",
    "import torch\n",
    "from torch.optim import Adam\n",
    "from  easydict import EasyDict\n",
    "import matplotlib.pyplot as plt\n",
    "\n",
    "from steves_models.steves_ptn import Steves_Prototypical_Network\n",
    "\n",
    "from steves_utils.lazy_iterable_wrapper import Lazy_Iterable_Wrapper\n",
    "from steves_utils.iterable_aggregator import Iterable_Aggregator\n",
    "from steves_utils.ptn_train_eval_test_jig import  PTN_Train_Eval_Test_Jig\n",
    "from steves_utils.torch_sequential_builder import build_sequential\n",
    "from steves_utils.torch_utils import get_dataset_metrics, ptn_confusion_by_domain_over_dataloader\n",
    "from steves_utils.utils_v2 import (per_domain_accuracy_from_confusion, get_datasets_base_path)\n",
    "from steves_utils.PTN.utils import independent_accuracy_assesment\n",
    "\n",
    "from torch.utils.data import DataLoader\n",
    "\n",
    "from steves_utils.stratified_dataset.episodic_accessor import Episodic_Accessor_Factory\n",
    "\n",
    "from steves_utils.ptn_do_report import (\n",
    "    get_loss_curve,\n",
    "    get_results_table,\n",
    "    get_parameters_table,\n",
    "    get_domain_accuracies,\n",
    ")\n",
    "\n",
    "from steves_utils.transforms import get_chained_transform"
   ]
  },
  {
   "cell_type": "markdown",
   "id": "41c840b4",
   "metadata": {
    "papermill": {
     "duration": 0.012272,
     "end_time": "2022-03-25T13:03:12.660841",
     "exception": false,
     "start_time": "2022-03-25T13:03:12.648569",
     "status": "completed"
    },
    "tags": []
   },
   "source": [
    "# Allowed Parameters\n",
    "These are allowed parameters, not defaults\n",
    "Each of these values need to be present in the injected parameters (the notebook will raise an exception if they are not present)\n",
    "\n",
    "Papermill uses the cell tag \"parameters\" to inject the real parameters below this cell.\n",
    "Enable tags to see what I mean"
   ]
  },
  {
   "cell_type": "code",
   "execution_count": 2,
   "id": "fd44eb83",
   "metadata": {
    "execution": {
     "iopub.execute_input": "2022-03-25T13:03:12.688424Z",
     "iopub.status.busy": "2022-03-25T13:03:12.686754Z",
     "iopub.status.idle": "2022-03-25T13:03:12.703497Z",
     "shell.execute_reply": "2022-03-25T13:03:12.703926Z"
    },
    "papermill": {
     "duration": 0.03095,
     "end_time": "2022-03-25T13:03:12.704053",
     "exception": false,
     "start_time": "2022-03-25T13:03:12.673103",
     "status": "completed"
    },
    "tags": []
   },
   "outputs": [],
   "source": [
    "required_parameters = {\n",
    "    \"experiment_name\",\n",
    "    \"lr\",\n",
    "    \"device\",\n",
    "    \"seed\",\n",
    "    \"dataset_seed\",\n",
    "    \"n_shot\",\n",
    "    \"n_query\",\n",
    "    \"n_way\",\n",
    "    \"train_k_factor\",\n",
    "    \"val_k_factor\",\n",
    "    \"test_k_factor\",\n",
    "    \"n_epoch\",\n",
    "    \"patience\",\n",
    "    \"criteria_for_best\",\n",
    "    \"x_net\",\n",
    "    \"datasets\",\n",
    "    \"torch_default_dtype\",\n",
    "    \"NUM_LOGS_PER_EPOCH\",\n",
    "    \"BEST_MODEL_PATH\",\n",
    "    \"x_shape\",\n",
    "}"
   ]
  },
  {
   "cell_type": "code",
   "execution_count": 3,
   "id": "fa3f0049",
   "metadata": {
    "execution": {
     "iopub.execute_input": "2022-03-25T13:03:12.741830Z",
     "iopub.status.busy": "2022-03-25T13:03:12.741414Z",
     "iopub.status.idle": "2022-03-25T13:03:12.754260Z",
     "shell.execute_reply": "2022-03-25T13:03:12.753837Z"
    },
    "papermill": {
     "duration": 0.032928,
     "end_time": "2022-03-25T13:03:12.754351",
     "exception": false,
     "start_time": "2022-03-25T13:03:12.721423",
     "status": "completed"
    },
    "tags": [
     "parameters"
    ]
   },
   "outputs": [],
   "source": [
    "from steves_utils.CORES.utils import (\n",
    "    ALL_NODES,\n",
    "    ALL_NODES_MINIMUM_1000_EXAMPLES,\n",
    "    ALL_DAYS\n",
    ")\n",
    "\n",
    "from steves_utils.ORACLE.utils_v2 import (\n",
    "    ALL_DISTANCES_FEET_NARROWED,\n",
    "    ALL_RUNS,\n",
    "    ALL_SERIAL_NUMBERS,\n",
    ")\n",
    "\n",
    "standalone_parameters = {}\n",
    "standalone_parameters[\"experiment_name\"] = \"STANDALONE PTN\"\n",
    "standalone_parameters[\"lr\"] = 0.001\n",
    "standalone_parameters[\"device\"] = \"cuda\"\n",
    "\n",
    "standalone_parameters[\"seed\"] = 1337\n",
    "standalone_parameters[\"dataset_seed\"] = 1337\n",
    "\n",
    "standalone_parameters[\"n_way\"] = 8\n",
    "standalone_parameters[\"n_shot\"] = 3\n",
    "standalone_parameters[\"n_query\"]  = 2\n",
    "standalone_parameters[\"train_k_factor\"] = 1\n",
    "standalone_parameters[\"val_k_factor\"] = 2\n",
    "standalone_parameters[\"test_k_factor\"] = 2\n",
    "\n",
    "\n",
    "standalone_parameters[\"n_epoch\"] = 50\n",
    "\n",
    "standalone_parameters[\"patience\"] = 10\n",
    "standalone_parameters[\"criteria_for_best\"] = \"source_loss\"\n",
    "\n",
    "standalone_parameters[\"datasets\"] = [\n",
    "    {\n",
    "        \"labels\": ALL_SERIAL_NUMBERS,\n",
    "        \"domains\": ALL_DISTANCES_FEET_NARROWED,\n",
    "        \"num_examples_per_domain_per_label\": 100,\n",
    "        \"pickle_path\": os.path.join(get_datasets_base_path(), \"oracle.Run1_framed_2000Examples_stratified_ds.2022A.pkl\"),\n",
    "        \"source_or_target_dataset\": \"source\",\n",
    "        \"x_transforms\": [\"unit_mag\", \"minus_two\"],\n",
    "        \"episode_transforms\": [],\n",
    "        \"domain_prefix\": \"ORACLE_\"\n",
    "    },\n",
    "    {\n",
    "        \"labels\": ALL_NODES,\n",
    "        \"domains\": ALL_DAYS,\n",
    "        \"num_examples_per_domain_per_label\": 100,\n",
    "        \"pickle_path\": os.path.join(get_datasets_base_path(), \"cores.stratified_ds.2022A.pkl\"),\n",
    "        \"source_or_target_dataset\": \"target\",\n",
    "        \"x_transforms\": [\"unit_power\", \"times_zero\"],\n",
    "        \"episode_transforms\": [],\n",
    "        \"domain_prefix\": \"CORES_\"\n",
    "    }   \n",
    "]\n",
    "\n",
    "standalone_parameters[\"torch_default_dtype\"] = \"torch.float32\" \n",
    "\n",
    "\n",
    "\n",
    "standalone_parameters[\"x_net\"] =     [\n",
    "    {\"class\": \"nnReshape\", \"kargs\": {\"shape\":[-1, 1, 2, 256]}},\n",
    "    {\"class\": \"Conv2d\", \"kargs\": { \"in_channels\":1, \"out_channels\":256, \"kernel_size\":(1,7), \"bias\":False, \"padding\":(0,3), },},\n",
    "    {\"class\": \"ReLU\", \"kargs\": {\"inplace\": True}},\n",
    "    {\"class\": \"BatchNorm2d\", \"kargs\": {\"num_features\":256}},\n",
    "\n",
    "    {\"class\": \"Conv2d\", \"kargs\": { \"in_channels\":256, \"out_channels\":80, \"kernel_size\":(2,7), \"bias\":True, \"padding\":(0,3), },},\n",
    "    {\"class\": \"ReLU\", \"kargs\": {\"inplace\": True}},\n",
    "    {\"class\": \"BatchNorm2d\", \"kargs\": {\"num_features\":80}},\n",
    "    {\"class\": \"Flatten\", \"kargs\": {}},\n",
    "\n",
    "    {\"class\": \"Linear\", \"kargs\": {\"in_features\": 80*256, \"out_features\": 256}}, # 80 units per IQ pair\n",
    "    {\"class\": \"ReLU\", \"kargs\": {\"inplace\": True}},\n",
    "    {\"class\": \"BatchNorm1d\", \"kargs\": {\"num_features\":256}},\n",
    "\n",
    "    {\"class\": \"Linear\", \"kargs\": {\"in_features\": 256, \"out_features\": 256}},\n",
    "]\n",
    "\n",
    "# Parameters relevant to results\n",
    "# These parameters will basically never need to change\n",
    "standalone_parameters[\"NUM_LOGS_PER_EPOCH\"] = 10\n",
    "standalone_parameters[\"BEST_MODEL_PATH\"] = \"./best_model.pth\"\n",
    "\n",
    "\n",
    "\n",
    "\n"
   ]
  },
  {
   "cell_type": "code",
   "execution_count": 4,
   "id": "f0d864f1",
   "metadata": {
    "execution": {
     "iopub.execute_input": "2022-03-25T13:03:12.793706Z",
     "iopub.status.busy": "2022-03-25T13:03:12.793055Z",
     "iopub.status.idle": "2022-03-25T13:03:12.805538Z",
     "shell.execute_reply": "2022-03-25T13:03:12.805133Z"
    },
    "papermill": {
     "duration": 0.035011,
     "end_time": "2022-03-25T13:03:12.805628",
     "exception": false,
     "start_time": "2022-03-25T13:03:12.770617",
     "status": "completed"
    },
    "tags": [
     "injected-parameters"
    ]
   },
   "outputs": [],
   "source": [
    "# Parameters\n",
    "parameters = {\n",
    "    \"experiment_name\": \"tl_3Av2:oracle.run1.framed -> cores\",\n",
    "    \"device\": \"cuda\",\n",
    "    \"lr\": 0.0001,\n",
    "    \"x_shape\": [2, 200],\n",
    "    \"n_shot\": 3,\n",
    "    \"n_query\": 2,\n",
    "    \"train_k_factor\": 3,\n",
    "    \"val_k_factor\": 2,\n",
    "    \"test_k_factor\": 2,\n",
    "    \"torch_default_dtype\": \"torch.float32\",\n",
    "    \"n_epoch\": 50,\n",
    "    \"patience\": 3,\n",
    "    \"criteria_for_best\": \"target_accuracy\",\n",
    "    \"x_net\": [\n",
    "        {\"class\": \"nnReshape\", \"kargs\": {\"shape\": [-1, 1, 2, 200]}},\n",
    "        {\n",
    "            \"class\": \"Conv2d\",\n",
    "            \"kargs\": {\n",
    "                \"in_channels\": 1,\n",
    "                \"out_channels\": 256,\n",
    "                \"kernel_size\": [1, 7],\n",
    "                \"bias\": False,\n",
    "                \"padding\": [0, 3],\n",
    "            },\n",
    "        },\n",
    "        {\"class\": \"ReLU\", \"kargs\": {\"inplace\": True}},\n",
    "        {\"class\": \"BatchNorm2d\", \"kargs\": {\"num_features\": 256}},\n",
    "        {\n",
    "            \"class\": \"Conv2d\",\n",
    "            \"kargs\": {\n",
    "                \"in_channels\": 256,\n",
    "                \"out_channels\": 80,\n",
    "                \"kernel_size\": [2, 7],\n",
    "                \"bias\": True,\n",
    "                \"padding\": [0, 3],\n",
    "            },\n",
    "        },\n",
    "        {\"class\": \"ReLU\", \"kargs\": {\"inplace\": True}},\n",
    "        {\"class\": \"BatchNorm2d\", \"kargs\": {\"num_features\": 80}},\n",
    "        {\"class\": \"Flatten\", \"kargs\": {}},\n",
    "        {\"class\": \"Linear\", \"kargs\": {\"in_features\": 16000, \"out_features\": 256}},\n",
    "        {\"class\": \"ReLU\", \"kargs\": {\"inplace\": True}},\n",
    "        {\"class\": \"BatchNorm1d\", \"kargs\": {\"num_features\": 256}},\n",
    "        {\"class\": \"Linear\", \"kargs\": {\"in_features\": 256, \"out_features\": 256}},\n",
    "    ],\n",
    "    \"NUM_LOGS_PER_EPOCH\": 10,\n",
    "    \"BEST_MODEL_PATH\": \"./best_model.pth\",\n",
    "    \"n_way\": 16,\n",
    "    \"datasets\": [\n",
    "        {\n",
    "            \"labels\": [\n",
    "                \"1-10.\",\n",
    "                \"1-11.\",\n",
    "                \"1-15.\",\n",
    "                \"1-16.\",\n",
    "                \"1-17.\",\n",
    "                \"1-18.\",\n",
    "                \"1-19.\",\n",
    "                \"10-4.\",\n",
    "                \"10-7.\",\n",
    "                \"11-1.\",\n",
    "                \"11-14.\",\n",
    "                \"11-17.\",\n",
    "                \"11-20.\",\n",
    "                \"11-7.\",\n",
    "                \"13-20.\",\n",
    "                \"13-8.\",\n",
    "                \"14-10.\",\n",
    "                \"14-11.\",\n",
    "                \"14-14.\",\n",
    "                \"14-7.\",\n",
    "                \"15-1.\",\n",
    "                \"15-20.\",\n",
    "                \"16-1.\",\n",
    "                \"16-16.\",\n",
    "                \"17-10.\",\n",
    "                \"17-11.\",\n",
    "                \"17-2.\",\n",
    "                \"19-1.\",\n",
    "                \"19-16.\",\n",
    "                \"19-19.\",\n",
    "                \"19-20.\",\n",
    "                \"19-3.\",\n",
    "                \"2-10.\",\n",
    "                \"2-11.\",\n",
    "                \"2-17.\",\n",
    "                \"2-18.\",\n",
    "                \"2-20.\",\n",
    "                \"2-3.\",\n",
    "                \"2-4.\",\n",
    "                \"2-5.\",\n",
    "                \"2-6.\",\n",
    "                \"2-7.\",\n",
    "                \"2-8.\",\n",
    "                \"3-13.\",\n",
    "                \"3-18.\",\n",
    "                \"3-3.\",\n",
    "                \"4-1.\",\n",
    "                \"4-10.\",\n",
    "                \"4-11.\",\n",
    "                \"4-19.\",\n",
    "                \"5-5.\",\n",
    "                \"6-15.\",\n",
    "                \"7-10.\",\n",
    "                \"7-14.\",\n",
    "                \"8-18.\",\n",
    "                \"8-20.\",\n",
    "                \"8-3.\",\n",
    "                \"8-8.\",\n",
    "            ],\n",
    "            \"domains\": [1, 2, 3, 4, 5],\n",
    "            \"num_examples_per_domain_per_label\": -1,\n",
    "            \"pickle_path\": \"/mnt/wd500GB/CSC500/csc500-main/datasets/cores.stratified_ds.2022A.pkl\",\n",
    "            \"source_or_target_dataset\": \"target\",\n",
    "            \"x_transforms\": [\"take_200\"],\n",
    "            \"episode_transforms\": [],\n",
    "            \"domain_prefix\": \"C_\",\n",
    "        },\n",
    "        {\n",
    "            \"labels\": [\n",
    "                \"3123D52\",\n",
    "                \"3123D65\",\n",
    "                \"3123D79\",\n",
    "                \"3123D80\",\n",
    "                \"3123D54\",\n",
    "                \"3123D70\",\n",
    "                \"3123D7B\",\n",
    "                \"3123D89\",\n",
    "                \"3123D58\",\n",
    "                \"3123D76\",\n",
    "                \"3123D7D\",\n",
    "                \"3123EFE\",\n",
    "                \"3123D64\",\n",
    "                \"3123D78\",\n",
    "                \"3123D7E\",\n",
    "                \"3124E4A\",\n",
    "            ],\n",
    "            \"domains\": [32, 38, 8, 44, 14, 50, 20, 26],\n",
    "            \"num_examples_per_domain_per_label\": 2000,\n",
    "            \"pickle_path\": \"/mnt/wd500GB/CSC500/csc500-main/datasets/oracle.Run1_framed_2000Examples_stratified_ds.2022A.pkl\",\n",
    "            \"source_or_target_dataset\": \"source\",\n",
    "            \"x_transforms\": [\"take_200\", \"resample_20Msps_to_25Msps\"],\n",
    "            \"episode_transforms\": [],\n",
    "            \"domain_prefix\": \"O_\",\n",
    "        },\n",
    "    ],\n",
    "    \"seed\": 7,\n",
    "    \"dataset_seed\": 7,\n",
    "}\n"
   ]
  },
  {
   "cell_type": "code",
   "execution_count": 5,
   "id": "8fa1cc33",
   "metadata": {
    "execution": {
     "iopub.execute_input": "2022-03-25T13:03:12.839594Z",
     "iopub.status.busy": "2022-03-25T13:03:12.838868Z",
     "iopub.status.idle": "2022-03-25T13:03:12.853360Z",
     "shell.execute_reply": "2022-03-25T13:03:12.852898Z"
    },
    "papermill": {
     "duration": 0.031124,
     "end_time": "2022-03-25T13:03:12.853450",
     "exception": false,
     "start_time": "2022-03-25T13:03:12.822326",
     "status": "completed"
    },
    "tags": []
   },
   "outputs": [],
   "source": [
    "# Set this to True if you want to run this template directly\n",
    "STANDALONE = False\n",
    "if STANDALONE:\n",
    "    print(\"parameters not injected, running with standalone_parameters\")\n",
    "    parameters = standalone_parameters\n",
    "\n",
    "if not 'parameters' in locals() and not 'parameters' in globals():\n",
    "    raise Exception(\"Parameter injection failed\")\n",
    "\n",
    "#Use an easy dict for all the parameters\n",
    "p = EasyDict(parameters)\n",
    "\n",
    "if \"x_shape\" not in p:\n",
    "    p.x_shape = [2,256] # Default to this if we dont supply x_shape\n",
    "\n",
    "\n",
    "supplied_keys = set(p.keys())\n",
    "\n",
    "if  supplied_keys != required_parameters:\n",
    "    print(\"Parameters are incorrect\")\n",
    "    if len(supplied_keys - required_parameters)>0: print(\"Shouldn't have:\", str(supplied_keys - required_parameters))\n",
    "    if len(required_parameters - supplied_keys)>0: print(\"Need to have:\", str(required_parameters - supplied_keys))\n",
    "    raise RuntimeError(\"Parameters are incorrect\")"
   ]
  },
  {
   "cell_type": "code",
   "execution_count": 6,
   "id": "3a028d58",
   "metadata": {
    "execution": {
     "iopub.execute_input": "2022-03-25T13:03:12.884454Z",
     "iopub.status.busy": "2022-03-25T13:03:12.883797Z",
     "iopub.status.idle": "2022-03-25T13:03:12.899470Z",
     "shell.execute_reply": "2022-03-25T13:03:12.899007Z"
    },
    "papermill": {
     "duration": 0.031071,
     "end_time": "2022-03-25T13:03:12.899560",
     "exception": false,
     "start_time": "2022-03-25T13:03:12.868489",
     "status": "completed"
    },
    "tags": []
   },
   "outputs": [],
   "source": [
    "###################################\n",
    "# Set the RNGs and make it all deterministic\n",
    "###################################\n",
    "np.random.seed(p.seed)\n",
    "random.seed(p.seed)\n",
    "torch.manual_seed(p.seed)\n",
    "\n",
    "torch.use_deterministic_algorithms(True) "
   ]
  },
  {
   "cell_type": "code",
   "execution_count": 7,
   "id": "b691acf6",
   "metadata": {
    "execution": {
     "iopub.execute_input": "2022-03-25T13:03:12.932228Z",
     "iopub.status.busy": "2022-03-25T13:03:12.931971Z",
     "iopub.status.idle": "2022-03-25T13:03:12.945490Z",
     "shell.execute_reply": "2022-03-25T13:03:12.945028Z"
    },
    "papermill": {
     "duration": 0.028131,
     "end_time": "2022-03-25T13:03:12.945579",
     "exception": false,
     "start_time": "2022-03-25T13:03:12.917448",
     "status": "completed"
    },
    "tags": []
   },
   "outputs": [],
   "source": [
    "###########################################\n",
    "# The stratified datasets honor this\n",
    "###########################################\n",
    "torch.set_default_dtype(eval(p.torch_default_dtype))"
   ]
  },
  {
   "cell_type": "code",
   "execution_count": 8,
   "id": "b5fba671",
   "metadata": {
    "execution": {
     "iopub.execute_input": "2022-03-25T13:03:12.975810Z",
     "iopub.status.busy": "2022-03-25T13:03:12.975552Z",
     "iopub.status.idle": "2022-03-25T13:03:13.011770Z",
     "shell.execute_reply": "2022-03-25T13:03:13.011359Z"
    },
    "papermill": {
     "duration": 0.051064,
     "end_time": "2022-03-25T13:03:13.011856",
     "exception": false,
     "start_time": "2022-03-25T13:03:12.960792",
     "status": "completed"
    },
    "tags": []
   },
   "outputs": [],
   "source": [
    "###################################\n",
    "# Build the network(s)\n",
    "# Note: It's critical to do this AFTER setting the RNG\n",
    "###################################\n",
    "x_net = build_sequential(p.x_net)"
   ]
  },
  {
   "cell_type": "code",
   "execution_count": 9,
   "id": "5d7e61cc",
   "metadata": {
    "execution": {
     "iopub.execute_input": "2022-03-25T13:03:13.043721Z",
     "iopub.status.busy": "2022-03-25T13:03:13.043466Z",
     "iopub.status.idle": "2022-03-25T13:03:13.058165Z",
     "shell.execute_reply": "2022-03-25T13:03:13.057847Z"
    },
    "papermill": {
     "duration": 0.030165,
     "end_time": "2022-03-25T13:03:13.058249",
     "exception": false,
     "start_time": "2022-03-25T13:03:13.028084",
     "status": "completed"
    },
    "tags": []
   },
   "outputs": [],
   "source": [
    "start_time_secs = time.time()"
   ]
  },
  {
   "cell_type": "code",
   "execution_count": 10,
   "id": "c6b67dfd",
   "metadata": {
    "execution": {
     "iopub.execute_input": "2022-03-25T13:03:13.091652Z",
     "iopub.status.busy": "2022-03-25T13:03:13.091401Z",
     "iopub.status.idle": "2022-03-25T13:03:13.104812Z",
     "shell.execute_reply": "2022-03-25T13:03:13.104466Z"
    },
    "papermill": {
     "duration": 0.029792,
     "end_time": "2022-03-25T13:03:13.104879",
     "exception": false,
     "start_time": "2022-03-25T13:03:13.075087",
     "status": "completed"
    },
    "tags": []
   },
   "outputs": [],
   "source": [
    "p.domains_source = []\n",
    "p.domains_target = []\n",
    "\n",
    "\n",
    "train_original_source = []\n",
    "val_original_source   = []\n",
    "test_original_source  = []\n",
    "\n",
    "train_original_target = []\n",
    "val_original_target   = []\n",
    "test_original_target  = []"
   ]
  },
  {
   "cell_type": "code",
   "execution_count": 11,
   "id": "e3d9c3d3",
   "metadata": {
    "execution": {
     "iopub.execute_input": "2022-03-25T13:03:13.145082Z",
     "iopub.status.busy": "2022-03-25T13:03:13.137299Z",
     "iopub.status.idle": "2022-03-25T13:03:13.151178Z",
     "shell.execute_reply": "2022-03-25T13:03:13.151573Z"
    },
    "papermill": {
     "duration": 0.02962,
     "end_time": "2022-03-25T13:03:13.151679",
     "exception": false,
     "start_time": "2022-03-25T13:03:13.122059",
     "status": "completed"
    },
    "tags": []
   },
   "outputs": [],
   "source": [
    "# global_x_transform_func = lambda x: normalize(x.to(torch.get_default_dtype()), \"unit_power\") # unit_power, unit_mag\n",
    "# global_x_transform_func = lambda x: normalize(x, \"unit_power\") # unit_power, unit_mag"
   ]
  },
  {
   "cell_type": "code",
   "execution_count": 12,
   "id": "acb78fd2",
   "metadata": {
    "execution": {
     "iopub.execute_input": "2022-03-25T13:03:13.191880Z",
     "iopub.status.busy": "2022-03-25T13:03:13.191410Z",
     "iopub.status.idle": "2022-03-25T13:03:13.201159Z",
     "shell.execute_reply": "2022-03-25T13:03:13.200713Z"
    },
    "papermill": {
     "duration": 0.031603,
     "end_time": "2022-03-25T13:03:13.201246",
     "exception": false,
     "start_time": "2022-03-25T13:03:13.169643",
     "status": "completed"
    },
    "tags": []
   },
   "outputs": [],
   "source": [
    "def add_dataset(\n",
    "    labels,\n",
    "    domains,\n",
    "    pickle_path,\n",
    "    x_transforms,\n",
    "    episode_transforms,\n",
    "    domain_prefix,\n",
    "    num_examples_per_domain_per_label,\n",
    "    source_or_target_dataset:str,\n",
    "    iterator_seed=p.seed,\n",
    "    dataset_seed=p.dataset_seed,\n",
    "    n_shot=p.n_shot,\n",
    "    n_way=p.n_way,\n",
    "    n_query=p.n_query,\n",
    "    train_val_test_k_factors=(p.train_k_factor,p.val_k_factor,p.test_k_factor),\n",
    "):\n",
    "   \n",
    "    if x_transforms == []: x_transform = None\n",
    "    else: x_transform = get_chained_transform(x_transforms)\n",
    "    \n",
    "    if episode_transforms == []: episode_transform = None\n",
    "    else: raise Exception(\"episode_transforms not implemented\")\n",
    "    \n",
    "    episode_transform = lambda tup, _prefix=domain_prefix: (_prefix + str(tup[0]), tup[1])\n",
    "\n",
    "\n",
    "    eaf = Episodic_Accessor_Factory(\n",
    "        labels=labels,\n",
    "        domains=domains,\n",
    "        num_examples_per_domain_per_label=num_examples_per_domain_per_label,\n",
    "        iterator_seed=iterator_seed,\n",
    "        dataset_seed=dataset_seed,\n",
    "        n_shot=n_shot,\n",
    "        n_way=n_way,\n",
    "        n_query=n_query,\n",
    "        train_val_test_k_factors=train_val_test_k_factors,\n",
    "        pickle_path=pickle_path,\n",
    "        x_transform_func=x_transform,\n",
    "    )\n",
    "\n",
    "    train, val, test = eaf.get_train(), eaf.get_val(), eaf.get_test()\n",
    "    train = Lazy_Iterable_Wrapper(train, episode_transform)\n",
    "    val = Lazy_Iterable_Wrapper(val, episode_transform)\n",
    "    test = Lazy_Iterable_Wrapper(test, episode_transform)\n",
    "\n",
    "    if source_or_target_dataset==\"source\":\n",
    "        train_original_source.append(train)\n",
    "        val_original_source.append(val)\n",
    "        test_original_source.append(test)\n",
    "\n",
    "        p.domains_source.extend(\n",
    "            [domain_prefix + str(u) for u in domains]\n",
    "        )\n",
    "    elif source_or_target_dataset==\"target\":\n",
    "        train_original_target.append(train)\n",
    "        val_original_target.append(val)\n",
    "        test_original_target.append(test)\n",
    "        p.domains_target.extend(\n",
    "            [domain_prefix + str(u) for u in domains]\n",
    "        )\n",
    "    else:\n",
    "        raise Exception(f\"invalid source_or_target_dataset: {source_or_target_dataset}\")\n",
    "    "
   ]
  },
  {
   "cell_type": "code",
   "execution_count": 13,
   "id": "fe266617",
   "metadata": {
    "execution": {
     "iopub.execute_input": "2022-03-25T13:03:13.234315Z",
     "iopub.status.busy": "2022-03-25T13:03:13.233401Z",
     "iopub.status.idle": "2022-03-25T13:03:29.733261Z",
     "shell.execute_reply": "2022-03-25T13:03:29.732805Z"
    },
    "papermill": {
     "duration": 16.514973,
     "end_time": "2022-03-25T13:03:29.733366",
     "exception": false,
     "start_time": "2022-03-25T13:03:13.218393",
     "status": "completed"
    },
    "tags": []
   },
   "outputs": [],
   "source": [
    "for ds in p.datasets:\n",
    "    add_dataset(**ds)"
   ]
  },
  {
   "cell_type": "code",
   "execution_count": 14,
   "id": "b90d65ac",
   "metadata": {
    "execution": {
     "iopub.execute_input": "2022-03-25T13:03:29.766341Z",
     "iopub.status.busy": "2022-03-25T13:03:29.766087Z",
     "iopub.status.idle": "2022-03-25T13:03:29.780891Z",
     "shell.execute_reply": "2022-03-25T13:03:29.780541Z"
    },
    "papermill": {
     "duration": 0.029765,
     "end_time": "2022-03-25T13:03:29.780963",
     "exception": false,
     "start_time": "2022-03-25T13:03:29.751198",
     "status": "completed"
    },
    "tags": []
   },
   "outputs": [],
   "source": [
    "# from steves_utils.CORES.utils import (\n",
    "#     ALL_NODES,\n",
    "#     ALL_NODES_MINIMUM_1000_EXAMPLES,\n",
    "#     ALL_DAYS\n",
    "# )\n",
    "\n",
    "# add_dataset(\n",
    "#     labels=ALL_NODES,\n",
    "#     domains = ALL_DAYS,\n",
    "#     num_examples_per_domain_per_label=100,\n",
    "#     pickle_path=os.path.join(get_datasets_base_path(), \"cores.stratified_ds.2022A.pkl\"),\n",
    "#     source_or_target_dataset=\"target\",\n",
    "#     x_transform_func=global_x_transform_func,\n",
    "#     domain_modifier=lambda u: f\"cores_{u}\"\n",
    "# )"
   ]
  },
  {
   "cell_type": "code",
   "execution_count": 15,
   "id": "76db484d",
   "metadata": {
    "execution": {
     "iopub.execute_input": "2022-03-25T13:03:29.825330Z",
     "iopub.status.busy": "2022-03-25T13:03:29.814335Z",
     "iopub.status.idle": "2022-03-25T13:03:29.828579Z",
     "shell.execute_reply": "2022-03-25T13:03:29.828105Z"
    },
    "papermill": {
     "duration": 0.030815,
     "end_time": "2022-03-25T13:03:29.828672",
     "exception": false,
     "start_time": "2022-03-25T13:03:29.797857",
     "status": "completed"
    },
    "tags": []
   },
   "outputs": [],
   "source": [
    "# from steves_utils.ORACLE.utils_v2 import (\n",
    "#     ALL_DISTANCES_FEET,\n",
    "#     ALL_RUNS,\n",
    "#     ALL_SERIAL_NUMBERS,\n",
    "# )\n",
    "\n",
    "\n",
    "# add_dataset(\n",
    "#     labels=ALL_SERIAL_NUMBERS,\n",
    "#     domains = list(set(ALL_DISTANCES_FEET) - {2,62}),\n",
    "#     num_examples_per_domain_per_label=100,\n",
    "#     pickle_path=os.path.join(get_datasets_base_path(), \"oracle.Run2_framed_2000Examples_stratified_ds.2022A.pkl\"),\n",
    "#     source_or_target_dataset=\"source\",\n",
    "#     x_transform_func=global_x_transform_func,\n",
    "#     domain_modifier=lambda u: f\"oracle1_{u}\"\n",
    "# )\n"
   ]
  },
  {
   "cell_type": "code",
   "execution_count": 16,
   "id": "97dea9d2",
   "metadata": {
    "execution": {
     "iopub.execute_input": "2022-03-25T13:03:29.862832Z",
     "iopub.status.busy": "2022-03-25T13:03:29.862576Z",
     "iopub.status.idle": "2022-03-25T13:03:29.876448Z",
     "shell.execute_reply": "2022-03-25T13:03:29.876003Z"
    },
    "papermill": {
     "duration": 0.029392,
     "end_time": "2022-03-25T13:03:29.876536",
     "exception": false,
     "start_time": "2022-03-25T13:03:29.847144",
     "status": "completed"
    },
    "tags": []
   },
   "outputs": [],
   "source": [
    "# from steves_utils.ORACLE.utils_v2 import (\n",
    "#     ALL_DISTANCES_FEET,\n",
    "#     ALL_RUNS,\n",
    "#     ALL_SERIAL_NUMBERS,\n",
    "# )\n",
    "\n",
    "\n",
    "# add_dataset(\n",
    "#     labels=ALL_SERIAL_NUMBERS,\n",
    "#     domains = list(set(ALL_DISTANCES_FEET) - {2,62,56}),\n",
    "#     num_examples_per_domain_per_label=100,\n",
    "#     pickle_path=os.path.join(get_datasets_base_path(), \"oracle.Run2_framed_2000Examples_stratified_ds.2022A.pkl\"),\n",
    "#     source_or_target_dataset=\"source\",\n",
    "#     x_transform_func=global_x_transform_func,\n",
    "#     domain_modifier=lambda u: f\"oracle2_{u}\"\n",
    "# )"
   ]
  },
  {
   "cell_type": "code",
   "execution_count": 17,
   "id": "6f289866",
   "metadata": {
    "execution": {
     "iopub.execute_input": "2022-03-25T13:03:29.909836Z",
     "iopub.status.busy": "2022-03-25T13:03:29.909588Z",
     "iopub.status.idle": "2022-03-25T13:03:29.919740Z",
     "shell.execute_reply": "2022-03-25T13:03:29.919346Z"
    },
    "papermill": {
     "duration": 0.025116,
     "end_time": "2022-03-25T13:03:29.919827",
     "exception": false,
     "start_time": "2022-03-25T13:03:29.894711",
     "status": "completed"
    },
    "tags": []
   },
   "outputs": [],
   "source": [
    "# add_dataset(\n",
    "#     labels=list(range(19)),\n",
    "#     domains = [0,1,2],\n",
    "#     num_examples_per_domain_per_label=100,\n",
    "#     pickle_path=os.path.join(get_datasets_base_path(), \"metehan.stratified_ds.2022A.pkl\"),\n",
    "#     source_or_target_dataset=\"target\",\n",
    "#     x_transform_func=global_x_transform_func,\n",
    "#     domain_modifier=lambda u: f\"met_{u}\"\n",
    "# )"
   ]
  },
  {
   "cell_type": "code",
   "execution_count": 18,
   "id": "86a863c3",
   "metadata": {
    "execution": {
     "iopub.execute_input": "2022-03-25T13:03:29.955973Z",
     "iopub.status.busy": "2022-03-25T13:03:29.953812Z",
     "iopub.status.idle": "2022-03-25T13:03:29.967675Z",
     "shell.execute_reply": "2022-03-25T13:03:29.967328Z"
    },
    "papermill": {
     "duration": 0.029501,
     "end_time": "2022-03-25T13:03:29.967743",
     "exception": false,
     "start_time": "2022-03-25T13:03:29.938242",
     "status": "completed"
    },
    "tags": []
   },
   "outputs": [],
   "source": [
    "# # from steves_utils.wisig.utils import (\n",
    "# #     ALL_NODES_MINIMUM_100_EXAMPLES,\n",
    "# #     ALL_NODES_MINIMUM_500_EXAMPLES,\n",
    "# #     ALL_NODES_MINIMUM_1000_EXAMPLES,\n",
    "# #     ALL_DAYS\n",
    "# # )\n",
    "\n",
    "# import steves_utils.wisig.utils as wisig\n",
    "\n",
    "\n",
    "# add_dataset(\n",
    "#     labels=wisig.ALL_NODES_MINIMUM_100_EXAMPLES,\n",
    "#     domains = wisig.ALL_DAYS,\n",
    "#     num_examples_per_domain_per_label=100,\n",
    "#     pickle_path=os.path.join(get_datasets_base_path(), \"wisig.node3-19.stratified_ds.2022A.pkl\"),\n",
    "#     source_or_target_dataset=\"target\",\n",
    "#     x_transform_func=global_x_transform_func,\n",
    "#     domain_modifier=lambda u: f\"wisig_{u}\"\n",
    "# )"
   ]
  },
  {
   "cell_type": "code",
   "execution_count": 19,
   "id": "fd5442bc",
   "metadata": {
    "execution": {
     "iopub.execute_input": "2022-03-25T13:03:30.011901Z",
     "iopub.status.busy": "2022-03-25T13:03:30.010638Z",
     "iopub.status.idle": "2022-03-25T13:03:30.019492Z",
     "shell.execute_reply": "2022-03-25T13:03:30.018980Z"
    },
    "papermill": {
     "duration": 0.033263,
     "end_time": "2022-03-25T13:03:30.019589",
     "exception": false,
     "start_time": "2022-03-25T13:03:29.986326",
     "status": "completed"
    },
    "tags": []
   },
   "outputs": [],
   "source": [
    "###################################\n",
    "# Build the dataset\n",
    "###################################\n",
    "train_original_source = Iterable_Aggregator(train_original_source, p.seed)\n",
    "val_original_source = Iterable_Aggregator(val_original_source, p.seed)\n",
    "test_original_source = Iterable_Aggregator(test_original_source, p.seed)\n",
    "\n",
    "\n",
    "train_original_target = Iterable_Aggregator(train_original_target, p.seed)\n",
    "val_original_target = Iterable_Aggregator(val_original_target, p.seed)\n",
    "test_original_target = Iterable_Aggregator(test_original_target, p.seed)\n",
    "\n",
    "# For CNN We only use X and Y. And we only train on the source.\n",
    "# Properly form the data using a transform lambda and Lazy_Iterable_Wrapper. Finally wrap them in a dataloader\n",
    "\n",
    "transform_lambda = lambda ex: ex[1] # Original is (<domain>, <episode>) so we strip down to episode only\n",
    "\n",
    "train_processed_source = Lazy_Iterable_Wrapper(train_original_source, transform_lambda)\n",
    "val_processed_source   = Lazy_Iterable_Wrapper(val_original_source, transform_lambda)\n",
    "test_processed_source  = Lazy_Iterable_Wrapper(test_original_source, transform_lambda)\n",
    "\n",
    "train_processed_target = Lazy_Iterable_Wrapper(train_original_target, transform_lambda)\n",
    "val_processed_target   = Lazy_Iterable_Wrapper(val_original_target, transform_lambda)\n",
    "test_processed_target  = Lazy_Iterable_Wrapper(test_original_target, transform_lambda)\n",
    "\n",
    "datasets = EasyDict({\n",
    "    \"source\": {\n",
    "        \"original\": {\"train\":train_original_source, \"val\":val_original_source, \"test\":test_original_source},\n",
    "        \"processed\": {\"train\":train_processed_source, \"val\":val_processed_source, \"test\":test_processed_source}\n",
    "    },\n",
    "    \"target\": {\n",
    "        \"original\": {\"train\":train_original_target, \"val\":val_original_target, \"test\":test_original_target},\n",
    "        \"processed\": {\"train\":train_processed_target, \"val\":val_processed_target, \"test\":test_processed_target}\n",
    "    },\n",
    "})"
   ]
  },
  {
   "cell_type": "code",
   "execution_count": 20,
   "id": "5b3c01fc",
   "metadata": {
    "execution": {
     "iopub.execute_input": "2022-03-25T13:03:30.063402Z",
     "iopub.status.busy": "2022-03-25T13:03:30.063046Z",
     "iopub.status.idle": "2022-03-25T13:03:36.254097Z",
     "shell.execute_reply": "2022-03-25T13:03:36.254443Z"
    },
    "papermill": {
     "duration": 6.215757,
     "end_time": "2022-03-25T13:03:36.254551",
     "exception": false,
     "start_time": "2022-03-25T13:03:30.038794",
     "status": "completed"
    },
    "tags": []
   },
   "outputs": [
    {
     "name": "stdout",
     "output_type": "stream",
     "text": [
      "{'O_8', 'O_32', 'O_20', 'O_26', 'O_50', 'O_38', 'O_14', 'O_44'}\n"
     ]
    },
    {
     "name": "stdout",
     "output_type": "stream",
     "text": [
      "{'C_1', 'C_3', 'C_5', 'C_4', 'C_2'}\n"
     ]
    },
    {
     "name": "stdout",
     "output_type": "stream",
     "text": [
      "tensor([[[ 3.1434e-03,  3.7554e-03, -1.8905e-03,  ...,  2.2772e-03,\n",
      "           2.3300e-03,  4.2678e-03],\n",
      "         [-1.9837e-03,  4.6420e-04,  3.4934e-03,  ...,  3.3349e-03,\n",
      "           2.6754e-03, -1.3018e-03]],\n",
      "\n",
      "        [[ 1.5564e-03,  4.2065e-03,  1.5516e-04,  ...,  1.9070e-03,\n",
      "          -1.6537e-03,  2.0926e-03],\n",
      "         [-1.3123e-03,  1.8021e-03,  2.1467e-03,  ...,  1.4137e-03,\n",
      "           4.0193e-03,  2.1977e-03]],\n",
      "\n",
      "        [[-1.2207e-03, -2.8396e-03,  7.4901e-04,  ..., -1.8585e-03,\n",
      "           3.4975e-03,  1.2451e-04],\n",
      "         [ 9.1556e-04, -2.8302e-03, -2.4988e-03,  ..., -1.6700e-03,\n",
      "          -3.3653e-03, -2.7786e-03]],\n",
      "\n",
      "        ...,\n",
      "\n",
      "        [[-1.5564e-03, -4.1560e-03, -3.7407e-04,  ..., -3.3586e-03,\n",
      "          -3.3234e-03, -4.0958e-03],\n",
      "         [ 3.6927e-03,  1.8084e-03, -3.5948e-03,  ..., -1.8767e-03,\n",
      "          -1.9392e-03,  2.1053e-03]],\n",
      "\n",
      "        [[ 1.8921e-03,  7.7376e-04, -2.2046e-03,  ..., -1.7055e-04,\n",
      "          -4.4538e-03, -1.0563e-03],\n",
      "         [-1.7347e-18,  4.1088e-03,  1.2757e-03,  ...,  2.6277e-03,\n",
      "           6.4771e-04,  2.8180e-03]],\n",
      "\n",
      "        [[ 3.5707e-03,  3.4724e-03, -2.6740e-03,  ...,  1.6250e-03,\n",
      "           2.3603e-03,  5.3100e-03],\n",
      "         [-2.0142e-03,  8.2626e-04,  3.4413e-03,  ...,  3.5086e-03,\n",
      "           2.5881e-03, -9.8195e-04]]])\n"
     ]
    }
   ],
   "source": [
    "from steves_utils.transforms import get_average_magnitude, get_average_power\n",
    "\n",
    "print(set([u for u,_ in val_original_source]))\n",
    "print(set([u for u,_ in val_original_target]))\n",
    "\n",
    "s_x, s_y, q_x, q_y, _ = next(iter(train_processed_source))\n",
    "print(s_x)\n",
    "\n",
    "# for ds in [\n",
    "#     train_processed_source,\n",
    "#     val_processed_source,\n",
    "#     test_processed_source,\n",
    "#     train_processed_target,\n",
    "#     val_processed_target,\n",
    "#     test_processed_target\n",
    "# ]:\n",
    "#     for s_x, s_y, q_x, q_y, _ in ds:\n",
    "#         for X in (s_x, q_x):\n",
    "#             for x in X:\n",
    "#                 assert np.isclose(get_average_magnitude(x.numpy()), 1.0)\n",
    "#                 assert np.isclose(get_average_power(x.numpy()), 1.0)\n",
    "                "
   ]
  },
  {
   "cell_type": "code",
   "execution_count": 21,
   "id": "bbdacba1",
   "metadata": {
    "execution": {
     "iopub.execute_input": "2022-03-25T13:03:36.303950Z",
     "iopub.status.busy": "2022-03-25T13:03:36.303696Z",
     "iopub.status.idle": "2022-03-25T13:03:36.355761Z",
     "shell.execute_reply": "2022-03-25T13:03:36.356133Z"
    },
    "papermill": {
     "duration": 0.079013,
     "end_time": "2022-03-25T13:03:36.356243",
     "exception": false,
     "start_time": "2022-03-25T13:03:36.277230",
     "status": "completed"
    },
    "tags": []
   },
   "outputs": [
    {
     "name": "stdout",
     "output_type": "stream",
     "text": [
      "(2, 200)\n"
     ]
    }
   ],
   "source": [
    "###################################\n",
    "# Build the model\n",
    "###################################\n",
    "# easfsl only wants a tuple for the shape\n",
    "model = Steves_Prototypical_Network(x_net, device=p.device, x_shape=tuple(p.x_shape))\n",
    "optimizer = Adam(params=model.parameters(), lr=p.lr)"
   ]
  },
  {
   "cell_type": "code",
   "execution_count": 22,
   "id": "22b39ac5",
   "metadata": {
    "execution": {
     "iopub.execute_input": "2022-03-25T13:03:36.394950Z",
     "iopub.status.busy": "2022-03-25T13:03:36.394699Z",
     "iopub.status.idle": "2022-03-25T13:33:27.463620Z",
     "shell.execute_reply": "2022-03-25T13:33:27.463387Z"
    },
    "papermill": {
     "duration": 1791.086082,
     "end_time": "2022-03-25T13:33:27.463676",
     "exception": false,
     "start_time": "2022-03-25T13:03:36.377594",
     "status": "completed"
    },
    "tags": []
   },
   "outputs": [
    {
     "name": "stdout",
     "output_type": "stream",
     "text": [
      "epoch: 1, [batch: 1 / 6720], examples_per_second: 49.9532, train_label_loss: 2.8816, \n"
     ]
    },
    {
     "name": "stdout",
     "output_type": "stream",
     "text": [
      "epoch: 1, [batch: 672 / 6720], examples_per_second: 3663.8729, train_label_loss: 0.4878, \n"
     ]
    },
    {
     "name": "stdout",
     "output_type": "stream",
     "text": [
      "epoch: 1, [batch: 1344 / 6720], examples_per_second: 3652.7593, train_label_loss: 0.5842, \n"
     ]
    },
    {
     "name": "stdout",
     "output_type": "stream",
     "text": [
      "epoch: 1, [batch: 2016 / 6720], examples_per_second: 3639.3799, train_label_loss: 0.7384, \n"
     ]
    },
    {
     "name": "stdout",
     "output_type": "stream",
     "text": [
      "epoch: 1, [batch: 2688 / 6720], examples_per_second: 3637.9112, train_label_loss: 0.4045, \n"
     ]
    },
    {
     "name": "stdout",
     "output_type": "stream",
     "text": [
      "epoch: 1, [batch: 3360 / 6720], examples_per_second: 3644.8820, train_label_loss: 0.2153, \n"
     ]
    },
    {
     "name": "stdout",
     "output_type": "stream",
     "text": [
      "epoch: 1, [batch: 4032 / 6720], examples_per_second: 3659.3695, train_label_loss: 0.4718, \n"
     ]
    },
    {
     "name": "stdout",
     "output_type": "stream",
     "text": [
      "epoch: 1, [batch: 4704 / 6720], examples_per_second: 3624.7176, train_label_loss: 0.7307, \n"
     ]
    },
    {
     "name": "stdout",
     "output_type": "stream",
     "text": [
      "epoch: 1, [batch: 5376 / 6720], examples_per_second: 3644.2471, train_label_loss: 0.3856, \n"
     ]
    },
    {
     "name": "stdout",
     "output_type": "stream",
     "text": [
      "epoch: 1, [batch: 6048 / 6720], examples_per_second: 3638.1503, train_label_loss: 0.2401, \n"
     ]
    },
    {
     "name": "stdout",
     "output_type": "stream",
     "text": [
      "=============================================================\n",
      "epoch: 1, source_val_acc_label: 0.6312, target_val_acc_label: 0.5865, source_val_label_loss: 157.3761, target_val_label_loss: 16554.4766, \n",
      "=============================================================\n"
     ]
    },
    {
     "name": "stdout",
     "output_type": "stream",
     "text": [
      "New best\n"
     ]
    },
    {
     "name": "stdout",
     "output_type": "stream",
     "text": [
      "epoch: 2, [batch: 1 / 6720], examples_per_second: 5.3225, train_label_loss: 319.1660, \n"
     ]
    },
    {
     "name": "stdout",
     "output_type": "stream",
     "text": [
      "epoch: 2, [batch: 672 / 6720], examples_per_second: 3626.4145, train_label_loss: 1.4439, \n"
     ]
    },
    {
     "name": "stdout",
     "output_type": "stream",
     "text": [
      "epoch: 2, [batch: 1344 / 6720], examples_per_second: 3625.7532, train_label_loss: 2.3294, \n"
     ]
    },
    {
     "name": "stdout",
     "output_type": "stream",
     "text": [
      "epoch: 2, [batch: 2016 / 6720], examples_per_second: 3637.7993, train_label_loss: 0.2740, \n"
     ]
    },
    {
     "name": "stdout",
     "output_type": "stream",
     "text": [
      "epoch: 2, [batch: 2688 / 6720], examples_per_second: 3625.8724, train_label_loss: 0.3630, \n"
     ]
    },
    {
     "name": "stdout",
     "output_type": "stream",
     "text": [
      "epoch: 2, [batch: 3360 / 6720], examples_per_second: 3648.1190, train_label_loss: 0.1614, \n"
     ]
    },
    {
     "name": "stdout",
     "output_type": "stream",
     "text": [
      "epoch: 2, [batch: 4032 / 6720], examples_per_second: 3662.3300, train_label_loss: 0.7821, \n"
     ]
    },
    {
     "name": "stdout",
     "output_type": "stream",
     "text": [
      "epoch: 2, [batch: 4704 / 6720], examples_per_second: 3650.9977, train_label_loss: 0.3634, \n"
     ]
    },
    {
     "name": "stdout",
     "output_type": "stream",
     "text": [
      "epoch: 2, [batch: 5376 / 6720], examples_per_second: 3659.2926, train_label_loss: 0.2941, \n"
     ]
    },
    {
     "name": "stdout",
     "output_type": "stream",
     "text": [
      "epoch: 2, [batch: 6048 / 6720], examples_per_second: 3665.7330, train_label_loss: 0.3226, \n"
     ]
    },
    {
     "name": "stdout",
     "output_type": "stream",
     "text": [
      "=============================================================\n",
      "epoch: 2, source_val_acc_label: 0.8634, target_val_acc_label: 0.5778, source_val_label_loss: 0.3920, target_val_label_loss: 829.7618, \n",
      "=============================================================\n"
     ]
    },
    {
     "name": "stdout",
     "output_type": "stream",
     "text": [
      "epoch: 3, [batch: 1 / 6720], examples_per_second: 5.2719, train_label_loss: 0.1694, \n"
     ]
    },
    {
     "name": "stdout",
     "output_type": "stream",
     "text": [
      "epoch: 3, [batch: 672 / 6720], examples_per_second: 3630.9713, train_label_loss: 0.3058, \n"
     ]
    },
    {
     "name": "stdout",
     "output_type": "stream",
     "text": [
      "epoch: 3, [batch: 1344 / 6720], examples_per_second: 3643.6498, train_label_loss: 0.2546, \n"
     ]
    },
    {
     "name": "stdout",
     "output_type": "stream",
     "text": [
      "epoch: 3, [batch: 2016 / 6720], examples_per_second: 3622.4888, train_label_loss: 0.2884, \n"
     ]
    },
    {
     "name": "stdout",
     "output_type": "stream",
     "text": [
      "epoch: 3, [batch: 2688 / 6720], examples_per_second: 3632.6591, train_label_loss: 0.3605, \n"
     ]
    },
    {
     "name": "stdout",
     "output_type": "stream",
     "text": [
      "epoch: 3, [batch: 3360 / 6720], examples_per_second: 3656.8439, train_label_loss: 0.4261, \n"
     ]
    },
    {
     "name": "stdout",
     "output_type": "stream",
     "text": [
      "epoch: 3, [batch: 4032 / 6720], examples_per_second: 3663.4980, train_label_loss: 0.2991, \n"
     ]
    },
    {
     "name": "stdout",
     "output_type": "stream",
     "text": [
      "epoch: 3, [batch: 4704 / 6720], examples_per_second: 3647.3246, train_label_loss: 0.3371, \n"
     ]
    },
    {
     "name": "stdout",
     "output_type": "stream",
     "text": [
      "epoch: 3, [batch: 5376 / 6720], examples_per_second: 3647.8487, train_label_loss: 0.5422, \n"
     ]
    },
    {
     "name": "stdout",
     "output_type": "stream",
     "text": [
      "epoch: 3, [batch: 6048 / 6720], examples_per_second: 3666.4939, train_label_loss: 0.2210, \n"
     ]
    },
    {
     "name": "stdout",
     "output_type": "stream",
     "text": [
      "=============================================================\n",
      "epoch: 3, source_val_acc_label: 0.8917, target_val_acc_label: 0.6041, source_val_label_loss: 0.3446, target_val_label_loss: 790.8336, \n",
      "=============================================================\n"
     ]
    },
    {
     "name": "stdout",
     "output_type": "stream",
     "text": [
      "New best\n"
     ]
    },
    {
     "name": "stdout",
     "output_type": "stream",
     "text": [
      "epoch: 4, [batch: 1 / 6720], examples_per_second: 5.2955, train_label_loss: 0.5294, \n"
     ]
    },
    {
     "name": "stdout",
     "output_type": "stream",
     "text": [
      "epoch: 4, [batch: 672 / 6720], examples_per_second: 3632.5897, train_label_loss: 0.3079, \n"
     ]
    },
    {
     "name": "stdout",
     "output_type": "stream",
     "text": [
      "epoch: 4, [batch: 1344 / 6720], examples_per_second: 3659.2629, train_label_loss: 0.4591, \n"
     ]
    },
    {
     "name": "stdout",
     "output_type": "stream",
     "text": [
      "epoch: 4, [batch: 2016 / 6720], examples_per_second: 3647.0589, train_label_loss: 0.2311, \n"
     ]
    },
    {
     "name": "stdout",
     "output_type": "stream",
     "text": [
      "epoch: 4, [batch: 2688 / 6720], examples_per_second: 3647.9740, train_label_loss: 0.4302, \n"
     ]
    },
    {
     "name": "stdout",
     "output_type": "stream",
     "text": [
      "epoch: 4, [batch: 3360 / 6720], examples_per_second: 3666.5499, train_label_loss: 0.6248, \n"
     ]
    },
    {
     "name": "stdout",
     "output_type": "stream",
     "text": [
      "epoch: 4, [batch: 4032 / 6720], examples_per_second: 3671.3458, train_label_loss: 0.0832, \n"
     ]
    },
    {
     "name": "stdout",
     "output_type": "stream",
     "text": [
      "epoch: 4, [batch: 4704 / 6720], examples_per_second: 3651.6388, train_label_loss: 0.3422, \n"
     ]
    },
    {
     "name": "stdout",
     "output_type": "stream",
     "text": [
      "epoch: 4, [batch: 5376 / 6720], examples_per_second: 3675.9038, train_label_loss: 0.1931, \n"
     ]
    },
    {
     "name": "stdout",
     "output_type": "stream",
     "text": [
      "epoch: 4, [batch: 6048 / 6720], examples_per_second: 3650.9259, train_label_loss: 0.2345, \n"
     ]
    },
    {
     "name": "stdout",
     "output_type": "stream",
     "text": [
      "=============================================================\n",
      "epoch: 4, source_val_acc_label: 0.8879, target_val_acc_label: 0.7984, source_val_label_loss: 0.3206, target_val_label_loss: 231.1123, \n",
      "=============================================================\n"
     ]
    },
    {
     "name": "stdout",
     "output_type": "stream",
     "text": [
      "New best\n"
     ]
    },
    {
     "name": "stdout",
     "output_type": "stream",
     "text": [
      "epoch: 5, [batch: 1 / 6720], examples_per_second: 5.2950, train_label_loss: 0.3081, \n"
     ]
    },
    {
     "name": "stdout",
     "output_type": "stream",
     "text": [
      "epoch: 5, [batch: 672 / 6720], examples_per_second: 3611.9669, train_label_loss: 0.3657, \n"
     ]
    },
    {
     "name": "stdout",
     "output_type": "stream",
     "text": [
      "epoch: 5, [batch: 1344 / 6720], examples_per_second: 3649.5385, train_label_loss: 0.2701, \n"
     ]
    },
    {
     "name": "stdout",
     "output_type": "stream",
     "text": [
      "epoch: 5, [batch: 2016 / 6720], examples_per_second: 3666.4165, train_label_loss: 0.3524, \n"
     ]
    },
    {
     "name": "stdout",
     "output_type": "stream",
     "text": [
      "epoch: 5, [batch: 2688 / 6720], examples_per_second: 3637.5428, train_label_loss: 0.1553, \n"
     ]
    },
    {
     "name": "stdout",
     "output_type": "stream",
     "text": [
      "epoch: 5, [batch: 3360 / 6720], examples_per_second: 3659.6585, train_label_loss: 0.2343, \n"
     ]
    },
    {
     "name": "stdout",
     "output_type": "stream",
     "text": [
      "epoch: 5, [batch: 4032 / 6720], examples_per_second: 3661.0814, train_label_loss: 0.2609, \n"
     ]
    },
    {
     "name": "stdout",
     "output_type": "stream",
     "text": [
      "epoch: 5, [batch: 4704 / 6720], examples_per_second: 3642.1445, train_label_loss: 0.3175, \n"
     ]
    },
    {
     "name": "stdout",
     "output_type": "stream",
     "text": [
      "epoch: 5, [batch: 5376 / 6720], examples_per_second: 3658.2297, train_label_loss: 0.1618, \n"
     ]
    },
    {
     "name": "stdout",
     "output_type": "stream",
     "text": [
      "epoch: 5, [batch: 6048 / 6720], examples_per_second: 3645.0469, train_label_loss: 0.1149, \n"
     ]
    },
    {
     "name": "stdout",
     "output_type": "stream",
     "text": [
      "=============================================================\n",
      "epoch: 5, source_val_acc_label: 0.9020, target_val_acc_label: 0.8266, source_val_label_loss: 0.2871, target_val_label_loss: 180.5499, \n",
      "=============================================================\n"
     ]
    },
    {
     "name": "stdout",
     "output_type": "stream",
     "text": [
      "New best\n"
     ]
    },
    {
     "name": "stdout",
     "output_type": "stream",
     "text": [
      "epoch: 6, [batch: 1 / 6720], examples_per_second: 5.2415, train_label_loss: 0.2873, \n"
     ]
    },
    {
     "name": "stdout",
     "output_type": "stream",
     "text": [
      "epoch: 6, [batch: 672 / 6720], examples_per_second: 3632.8471, train_label_loss: 0.3402, \n"
     ]
    },
    {
     "name": "stdout",
     "output_type": "stream",
     "text": [
      "epoch: 6, [batch: 1344 / 6720], examples_per_second: 3647.6299, train_label_loss: 0.0973, \n"
     ]
    },
    {
     "name": "stdout",
     "output_type": "stream",
     "text": [
      "epoch: 6, [batch: 2016 / 6720], examples_per_second: 3656.1900, train_label_loss: 0.2732, \n"
     ]
    },
    {
     "name": "stdout",
     "output_type": "stream",
     "text": [
      "epoch: 6, [batch: 2688 / 6720], examples_per_second: 3622.2244, train_label_loss: 0.0861, \n"
     ]
    },
    {
     "name": "stdout",
     "output_type": "stream",
     "text": [
      "epoch: 6, [batch: 3360 / 6720], examples_per_second: 3607.9701, train_label_loss: 0.1513, \n"
     ]
    },
    {
     "name": "stdout",
     "output_type": "stream",
     "text": [
      "epoch: 6, [batch: 4032 / 6720], examples_per_second: 3649.0040, train_label_loss: 0.1153, \n"
     ]
    },
    {
     "name": "stdout",
     "output_type": "stream",
     "text": [
      "epoch: 6, [batch: 4704 / 6720], examples_per_second: 3641.7135, train_label_loss: 0.2309, \n"
     ]
    },
    {
     "name": "stdout",
     "output_type": "stream",
     "text": [
      "epoch: 6, [batch: 5376 / 6720], examples_per_second: 3660.5268, train_label_loss: 0.4669, \n"
     ]
    },
    {
     "name": "stdout",
     "output_type": "stream",
     "text": [
      "epoch: 6, [batch: 6048 / 6720], examples_per_second: 3667.1305, train_label_loss: 0.2333, \n"
     ]
    },
    {
     "name": "stdout",
     "output_type": "stream",
     "text": [
      "=============================================================\n",
      "epoch: 6, source_val_acc_label: 0.9186, target_val_acc_label: 0.8986, source_val_label_loss: 0.2486, target_val_label_loss: 18.4455, \n",
      "=============================================================\n"
     ]
    },
    {
     "name": "stdout",
     "output_type": "stream",
     "text": [
      "New best\n"
     ]
    },
    {
     "name": "stdout",
     "output_type": "stream",
     "text": [
      "epoch: 7, [batch: 1 / 6720], examples_per_second: 5.2584, train_label_loss: 0.2911, \n"
     ]
    },
    {
     "name": "stdout",
     "output_type": "stream",
     "text": [
      "epoch: 7, [batch: 672 / 6720], examples_per_second: 3642.0067, train_label_loss: 0.1403, \n"
     ]
    },
    {
     "name": "stdout",
     "output_type": "stream",
     "text": [
      "epoch: 7, [batch: 1344 / 6720], examples_per_second: 3647.8985, train_label_loss: 0.4027, \n"
     ]
    },
    {
     "name": "stdout",
     "output_type": "stream",
     "text": [
      "epoch: 7, [batch: 2016 / 6720], examples_per_second: 3666.6615, train_label_loss: 0.4116, \n"
     ]
    },
    {
     "name": "stdout",
     "output_type": "stream",
     "text": [
      "epoch: 7, [batch: 2688 / 6720], examples_per_second: 3640.7579, train_label_loss: 0.0905, \n"
     ]
    },
    {
     "name": "stdout",
     "output_type": "stream",
     "text": [
      "epoch: 7, [batch: 3360 / 6720], examples_per_second: 3640.1310, train_label_loss: 0.2527, \n"
     ]
    },
    {
     "name": "stdout",
     "output_type": "stream",
     "text": [
      "epoch: 7, [batch: 4032 / 6720], examples_per_second: 3633.3716, train_label_loss: 0.2009, \n"
     ]
    },
    {
     "name": "stdout",
     "output_type": "stream",
     "text": [
      "epoch: 7, [batch: 4704 / 6720], examples_per_second: 3663.7676, train_label_loss: 0.1697, \n"
     ]
    },
    {
     "name": "stdout",
     "output_type": "stream",
     "text": [
      "epoch: 7, [batch: 5376 / 6720], examples_per_second: 3658.8356, train_label_loss: 0.2415, \n"
     ]
    },
    {
     "name": "stdout",
     "output_type": "stream",
     "text": [
      "epoch: 7, [batch: 6048 / 6720], examples_per_second: 3657.9108, train_label_loss: 0.1779, \n"
     ]
    },
    {
     "name": "stdout",
     "output_type": "stream",
     "text": [
      "=============================================================\n",
      "epoch: 7, source_val_acc_label: 0.9150, target_val_acc_label: 0.9034, source_val_label_loss: 0.2455, target_val_label_loss: 15.5377, \n",
      "=============================================================\n"
     ]
    },
    {
     "name": "stdout",
     "output_type": "stream",
     "text": [
      "New best\n"
     ]
    },
    {
     "name": "stdout",
     "output_type": "stream",
     "text": [
      "epoch: 8, [batch: 1 / 6720], examples_per_second: 5.3147, train_label_loss: 0.1440, \n"
     ]
    },
    {
     "name": "stdout",
     "output_type": "stream",
     "text": [
      "epoch: 8, [batch: 672 / 6720], examples_per_second: 3630.6912, train_label_loss: 0.2773, \n"
     ]
    },
    {
     "name": "stdout",
     "output_type": "stream",
     "text": [
      "epoch: 8, [batch: 1344 / 6720], examples_per_second: 3658.2304, train_label_loss: 0.1219, \n"
     ]
    },
    {
     "name": "stdout",
     "output_type": "stream",
     "text": [
      "epoch: 8, [batch: 2016 / 6720], examples_per_second: 3656.4437, train_label_loss: 0.3195, \n"
     ]
    },
    {
     "name": "stdout",
     "output_type": "stream",
     "text": [
      "epoch: 8, [batch: 2688 / 6720], examples_per_second: 3648.9647, train_label_loss: 0.3790, \n"
     ]
    },
    {
     "name": "stdout",
     "output_type": "stream",
     "text": [
      "epoch: 8, [batch: 3360 / 6720], examples_per_second: 3605.8501, train_label_loss: 0.1012, \n"
     ]
    },
    {
     "name": "stdout",
     "output_type": "stream",
     "text": [
      "epoch: 8, [batch: 4032 / 6720], examples_per_second: 3642.4931, train_label_loss: 0.4354, \n"
     ]
    },
    {
     "name": "stdout",
     "output_type": "stream",
     "text": [
      "epoch: 8, [batch: 4704 / 6720], examples_per_second: 3654.4811, train_label_loss: 0.2544, \n"
     ]
    },
    {
     "name": "stdout",
     "output_type": "stream",
     "text": [
      "epoch: 8, [batch: 5376 / 6720], examples_per_second: 3652.5256, train_label_loss: 0.1916, \n"
     ]
    },
    {
     "name": "stdout",
     "output_type": "stream",
     "text": [
      "epoch: 8, [batch: 6048 / 6720], examples_per_second: 3630.5436, train_label_loss: 0.3092, \n"
     ]
    },
    {
     "name": "stdout",
     "output_type": "stream",
     "text": [
      "=============================================================\n",
      "epoch: 8, source_val_acc_label: 0.9240, target_val_acc_label: 0.8979, source_val_label_loss: 0.2220, target_val_label_loss: 16.3984, \n",
      "=============================================================\n"
     ]
    },
    {
     "name": "stdout",
     "output_type": "stream",
     "text": [
      "epoch: 9, [batch: 1 / 6720], examples_per_second: 5.3194, train_label_loss: 0.3625, \n"
     ]
    },
    {
     "name": "stdout",
     "output_type": "stream",
     "text": [
      "epoch: 9, [batch: 672 / 6720], examples_per_second: 3659.6446, train_label_loss: 0.3521, \n"
     ]
    },
    {
     "name": "stdout",
     "output_type": "stream",
     "text": [
      "epoch: 9, [batch: 1344 / 6720], examples_per_second: 3655.0893, train_label_loss: 0.1093, \n"
     ]
    },
    {
     "name": "stdout",
     "output_type": "stream",
     "text": [
      "epoch: 9, [batch: 2016 / 6720], examples_per_second: 3658.0633, train_label_loss: 0.3271, \n"
     ]
    },
    {
     "name": "stdout",
     "output_type": "stream",
     "text": [
      "epoch: 9, [batch: 2688 / 6720], examples_per_second: 3644.7718, train_label_loss: 0.1721, \n"
     ]
    },
    {
     "name": "stdout",
     "output_type": "stream",
     "text": [
      "epoch: 9, [batch: 3360 / 6720], examples_per_second: 3660.7019, train_label_loss: 0.2042, \n"
     ]
    },
    {
     "name": "stdout",
     "output_type": "stream",
     "text": [
      "epoch: 9, [batch: 4032 / 6720], examples_per_second: 3656.6112, train_label_loss: 0.1238, \n"
     ]
    },
    {
     "name": "stdout",
     "output_type": "stream",
     "text": [
      "epoch: 9, [batch: 4704 / 6720], examples_per_second: 3652.6710, train_label_loss: 0.0936, \n"
     ]
    },
    {
     "name": "stdout",
     "output_type": "stream",
     "text": [
      "epoch: 9, [batch: 5376 / 6720], examples_per_second: 3656.3733, train_label_loss: 0.1939, \n"
     ]
    },
    {
     "name": "stdout",
     "output_type": "stream",
     "text": [
      "epoch: 9, [batch: 6048 / 6720], examples_per_second: 3656.2349, train_label_loss: 0.3799, \n"
     ]
    },
    {
     "name": "stdout",
     "output_type": "stream",
     "text": [
      "=============================================================\n",
      "epoch: 9, source_val_acc_label: 0.9279, target_val_acc_label: 0.6426, source_val_label_loss: 0.2107, target_val_label_loss: 2109.1465, \n",
      "=============================================================\n"
     ]
    },
    {
     "name": "stdout",
     "output_type": "stream",
     "text": [
      "epoch: 10, [batch: 1 / 6720], examples_per_second: 5.3150, train_label_loss: 0.1513, \n"
     ]
    },
    {
     "name": "stdout",
     "output_type": "stream",
     "text": [
      "epoch: 10, [batch: 672 / 6720], examples_per_second: 3635.1085, train_label_loss: 0.8757, \n"
     ]
    },
    {
     "name": "stdout",
     "output_type": "stream",
     "text": [
      "epoch: 10, [batch: 1344 / 6720], examples_per_second: 3647.7956, train_label_loss: 0.1610, \n"
     ]
    },
    {
     "name": "stdout",
     "output_type": "stream",
     "text": [
      "epoch: 10, [batch: 2016 / 6720], examples_per_second: 3656.6923, train_label_loss: 0.1260, \n"
     ]
    },
    {
     "name": "stdout",
     "output_type": "stream",
     "text": [
      "epoch: 10, [batch: 2688 / 6720], examples_per_second: 3638.6495, train_label_loss: 0.0739, \n"
     ]
    },
    {
     "name": "stdout",
     "output_type": "stream",
     "text": [
      "epoch: 10, [batch: 3360 / 6720], examples_per_second: 3639.9039, train_label_loss: 0.1662, \n"
     ]
    },
    {
     "name": "stdout",
     "output_type": "stream",
     "text": [
      "epoch: 10, [batch: 4032 / 6720], examples_per_second: 3644.4799, train_label_loss: 0.3654, \n"
     ]
    },
    {
     "name": "stdout",
     "output_type": "stream",
     "text": [
      "epoch: 10, [batch: 4704 / 6720], examples_per_second: 3649.2290, train_label_loss: 0.1725, \n"
     ]
    },
    {
     "name": "stdout",
     "output_type": "stream",
     "text": [
      "epoch: 10, [batch: 5376 / 6720], examples_per_second: 3662.1424, train_label_loss: 0.1628, \n"
     ]
    },
    {
     "name": "stdout",
     "output_type": "stream",
     "text": [
      "epoch: 10, [batch: 6048 / 6720], examples_per_second: 3650.0307, train_label_loss: 0.1320, \n"
     ]
    },
    {
     "name": "stdout",
     "output_type": "stream",
     "text": [
      "=============================================================\n",
      "epoch: 10, source_val_acc_label: 0.9213, target_val_acc_label: 0.6898, source_val_label_loss: 0.2261, target_val_label_loss: 1365.1777, \n",
      "=============================================================\n"
     ]
    },
    {
     "name": "stdout",
     "output_type": "stream",
     "text": [
      "epoch: 11, [batch: 1 / 6720], examples_per_second: 5.2988, train_label_loss: 0.2198, \n"
     ]
    },
    {
     "name": "stdout",
     "output_type": "stream",
     "text": [
      "epoch: 11, [batch: 672 / 6720], examples_per_second: 3639.2202, train_label_loss: 0.0790, \n"
     ]
    },
    {
     "name": "stdout",
     "output_type": "stream",
     "text": [
      "epoch: 11, [batch: 1344 / 6720], examples_per_second: 3652.2977, train_label_loss: 0.2402, \n"
     ]
    },
    {
     "name": "stdout",
     "output_type": "stream",
     "text": [
      "epoch: 11, [batch: 2016 / 6720], examples_per_second: 3649.4449, train_label_loss: 0.2307, \n"
     ]
    },
    {
     "name": "stdout",
     "output_type": "stream",
     "text": [
      "epoch: 11, [batch: 2688 / 6720], examples_per_second: 3640.1211, train_label_loss: 0.2142, \n"
     ]
    },
    {
     "name": "stdout",
     "output_type": "stream",
     "text": [
      "epoch: 11, [batch: 3360 / 6720], examples_per_second: 3668.2492, train_label_loss: 0.0825, \n"
     ]
    },
    {
     "name": "stdout",
     "output_type": "stream",
     "text": [
      "epoch: 11, [batch: 4032 / 6720], examples_per_second: 3663.1916, train_label_loss: 0.4426, \n"
     ]
    },
    {
     "name": "stdout",
     "output_type": "stream",
     "text": [
      "epoch: 11, [batch: 4704 / 6720], examples_per_second: 3648.0269, train_label_loss: 0.2056, \n"
     ]
    },
    {
     "name": "stdout",
     "output_type": "stream",
     "text": [
      "epoch: 11, [batch: 5376 / 6720], examples_per_second: 3660.6066, train_label_loss: 0.2817, \n"
     ]
    },
    {
     "name": "stdout",
     "output_type": "stream",
     "text": [
      "epoch: 11, [batch: 6048 / 6720], examples_per_second: 3657.7231, train_label_loss: 0.0210, \n"
     ]
    },
    {
     "name": "stdout",
     "output_type": "stream",
     "text": [
      "=============================================================\n",
      "epoch: 11, source_val_acc_label: 0.9310, target_val_acc_label: 0.6846, source_val_label_loss: 0.2052, target_val_label_loss: 1429.6656, \n",
      "=============================================================\n"
     ]
    },
    {
     "name": "stdout",
     "output_type": "stream",
     "text": [
      "Patience (3) exhausted\n"
     ]
    }
   ],
   "source": [
    "###################################\n",
    "# train\n",
    "###################################\n",
    "jig = PTN_Train_Eval_Test_Jig(model, p.BEST_MODEL_PATH, p.device)\n",
    "\n",
    "jig.train(\n",
    "    train_iterable=datasets.source.processed.train,\n",
    "    source_val_iterable=datasets.source.processed.val,\n",
    "    target_val_iterable=datasets.target.processed.val,\n",
    "    num_epochs=p.n_epoch,\n",
    "    num_logs_per_epoch=p.NUM_LOGS_PER_EPOCH,\n",
    "    patience=p.patience,\n",
    "    optimizer=optimizer,\n",
    "    criteria_for_best=p.criteria_for_best,\n",
    ")"
   ]
  },
  {
   "cell_type": "code",
   "execution_count": 23,
   "id": "31e8fabf",
   "metadata": {
    "execution": {
     "iopub.execute_input": "2022-03-25T13:33:27.538589Z",
     "iopub.status.busy": "2022-03-25T13:33:27.538340Z",
     "iopub.status.idle": "2022-03-25T13:33:27.555406Z",
     "shell.execute_reply": "2022-03-25T13:33:27.555011Z"
    },
    "papermill": {
     "duration": 0.055439,
     "end_time": "2022-03-25T13:33:27.555494",
     "exception": false,
     "start_time": "2022-03-25T13:33:27.500055",
     "status": "completed"
    },
    "tags": []
   },
   "outputs": [],
   "source": [
    "total_experiment_time_secs = time.time() - start_time_secs"
   ]
  },
  {
   "cell_type": "code",
   "execution_count": 24,
   "id": "87b9595b",
   "metadata": {
    "execution": {
     "iopub.execute_input": "2022-03-25T13:33:27.636947Z",
     "iopub.status.busy": "2022-03-25T13:33:27.636651Z",
     "iopub.status.idle": "2022-03-25T13:34:58.568073Z",
     "shell.execute_reply": "2022-03-25T13:34:58.568473Z"
    },
    "papermill": {
     "duration": 90.973648,
     "end_time": "2022-03-25T13:34:58.568601",
     "exception": false,
     "start_time": "2022-03-25T13:33:27.594953",
     "status": "completed"
    },
    "tags": []
   },
   "outputs": [],
   "source": [
    "###################################\n",
    "# Evaluate the model\n",
    "###################################\n",
    "source_test_label_accuracy, source_test_label_loss = jig.test(datasets.source.processed.test)\n",
    "target_test_label_accuracy, target_test_label_loss = jig.test(datasets.target.processed.test)\n",
    "\n",
    "source_val_label_accuracy, source_val_label_loss = jig.test(datasets.source.processed.val)\n",
    "target_val_label_accuracy, target_val_label_loss = jig.test(datasets.target.processed.val)\n",
    "\n",
    "history = jig.get_history()\n",
    "\n",
    "total_epochs_trained = len(history[\"epoch_indices\"])\n",
    "\n",
    "val_dl = Iterable_Aggregator((datasets.source.original.val,datasets.target.original.val))\n",
    "\n",
    "confusion = ptn_confusion_by_domain_over_dataloader(model, p.device, val_dl)\n",
    "per_domain_accuracy = per_domain_accuracy_from_confusion(confusion)\n",
    "\n",
    "# Add a key to per_domain_accuracy for if it was a source domain\n",
    "for domain, accuracy in per_domain_accuracy.items():\n",
    "    per_domain_accuracy[domain] = {\n",
    "        \"accuracy\": accuracy,\n",
    "        \"source?\": domain in p.domains_source\n",
    "    }\n",
    "\n",
    "# Do an independent accuracy assesment JUST TO BE SURE!\n",
    "# _source_test_label_accuracy = independent_accuracy_assesment(model, datasets.source.processed.test, p.device)\n",
    "# _target_test_label_accuracy = independent_accuracy_assesment(model, datasets.target.processed.test, p.device)\n",
    "# _source_val_label_accuracy = independent_accuracy_assesment(model, datasets.source.processed.val, p.device)\n",
    "# _target_val_label_accuracy = independent_accuracy_assesment(model, datasets.target.processed.val, p.device)\n",
    "\n",
    "# assert(_source_test_label_accuracy == source_test_label_accuracy)\n",
    "# assert(_target_test_label_accuracy == target_test_label_accuracy)\n",
    "# assert(_source_val_label_accuracy == source_val_label_accuracy)\n",
    "# assert(_target_val_label_accuracy == target_val_label_accuracy)\n",
    "\n",
    "experiment = {\n",
    "    \"experiment_name\": p.experiment_name,\n",
    "    \"parameters\": dict(p),\n",
    "    \"results\": {\n",
    "        \"source_test_label_accuracy\": source_test_label_accuracy,\n",
    "        \"source_test_label_loss\": source_test_label_loss,\n",
    "        \"target_test_label_accuracy\": target_test_label_accuracy,\n",
    "        \"target_test_label_loss\": target_test_label_loss,\n",
    "        \"source_val_label_accuracy\": source_val_label_accuracy,\n",
    "        \"source_val_label_loss\": source_val_label_loss,\n",
    "        \"target_val_label_accuracy\": target_val_label_accuracy,\n",
    "        \"target_val_label_loss\": target_val_label_loss,\n",
    "        \"total_epochs_trained\": total_epochs_trained,\n",
    "        \"total_experiment_time_secs\": total_experiment_time_secs,\n",
    "        \"confusion\": confusion,\n",
    "        \"per_domain_accuracy\": per_domain_accuracy,\n",
    "    },\n",
    "    \"history\": history,\n",
    "    \"dataset_metrics\": get_dataset_metrics(datasets, \"ptn\"),\n",
    "}"
   ]
  },
  {
   "cell_type": "code",
   "execution_count": 25,
   "id": "54a21829",
   "metadata": {
    "execution": {
     "iopub.execute_input": "2022-03-25T13:34:58.647534Z",
     "iopub.status.busy": "2022-03-25T13:34:58.647275Z",
     "iopub.status.idle": "2022-03-25T13:34:58.769092Z",
     "shell.execute_reply": "2022-03-25T13:34:58.768629Z"
    },
    "papermill": {
     "duration": 0.159956,
     "end_time": "2022-03-25T13:34:58.769186",
     "exception": false,
     "start_time": "2022-03-25T13:34:58.609230",
     "status": "completed"
    },
    "tags": []
   },
   "outputs": [
    {
     "data": {
      "image/png": "[encoded data removed]",
      "text/plain": [
       "<Figure size 1080x504 with 1 Axes>"
      ]
     },
     "metadata": {
      "needs_background": "light"
     },
     "output_type": "display_data"
    }
   ],
   "source": [
    "ax = get_loss_curve(experiment)\n",
    "plt.show()"
   ]
  },
  {
   "cell_type": "code",
   "execution_count": 26,
   "id": "fd8a0f60",
   "metadata": {
    "execution": {
     "iopub.execute_input": "2022-03-25T13:34:58.849522Z",
     "iopub.status.busy": "2022-03-25T13:34:58.849274Z",
     "iopub.status.idle": "2022-03-25T13:34:58.991102Z",
     "shell.execute_reply": "2022-03-25T13:34:58.991315Z"
    },
    "papermill": {
     "duration": 0.181172,
     "end_time": "2022-03-25T13:34:58.991386",
     "exception": false,
     "start_time": "2022-03-25T13:34:58.810214",
     "status": "completed"
    },
    "tags": []
   },
   "outputs": [
    {
     "data": {
      "text/plain": [
       "<AxesSubplot:title={'center':'Results'}>"
      ]
     },
     "execution_count": 26,
     "metadata": {},
     "output_type": "execute_result"
    },
    {
     "data": {
      "image/png": "[encoded data removed]",
      "text/plain": [
       "<Figure size 1080x504 with 1 Axes>"
      ]
     },
     "metadata": {
      "needs_background": "light"
     },
     "output_type": "display_data"
    }
   ],
   "source": [
    "get_results_table(experiment)"
   ]
  },
  {
   "cell_type": "code",
   "execution_count": 27,
   "id": "cf8dc689",
   "metadata": {
    "execution": {
     "iopub.execute_input": "2022-03-25T13:34:59.074807Z",
     "iopub.status.busy": "2022-03-25T13:34:59.074558Z",
     "iopub.status.idle": "2022-03-25T13:34:59.210089Z",
     "shell.execute_reply": "2022-03-25T13:34:59.210445Z"
    },
    "papermill": {
     "duration": 0.177736,
     "end_time": "2022-03-25T13:34:59.210560",
     "exception": false,
     "start_time": "2022-03-25T13:34:59.032824",
     "status": "completed"
    },
    "tags": []
   },
   "outputs": [
    {
     "data": {
      "text/plain": [
       "<AxesSubplot:title={'center':'Per Domain Validation Accuracy'}, xlabel='domain'>"
      ]
     },
     "execution_count": 27,
     "metadata": {},
     "output_type": "execute_result"
    },
    {
     "data": {
      "image/png": "[encoded data removed]",
      "text/plain": [
       "<Figure size 1080x504 with 1 Axes>"
      ]
     },
     "metadata": {
      "needs_background": "light"
     },
     "output_type": "display_data"
    }
   ],
   "source": [
    "get_domain_accuracies(experiment)"
   ]
  },
  {
   "cell_type": "code",
   "execution_count": 28,
   "id": "a74ae082",
   "metadata": {
    "execution": {
     "iopub.execute_input": "2022-03-25T13:34:59.295280Z",
     "iopub.status.busy": "2022-03-25T13:34:59.295029Z",
     "iopub.status.idle": "2022-03-25T13:34:59.310740Z",
     "shell.execute_reply": "2022-03-25T13:34:59.310513Z"
    },
    "papermill": {
     "duration": 0.057263,
     "end_time": "2022-03-25T13:34:59.310794",
     "exception": false,
     "start_time": "2022-03-25T13:34:59.253531",
     "status": "completed"
    },
    "tags": []
   },
   "outputs": [
    {
     "name": "stdout",
     "output_type": "stream",
     "text": [
      "Source Test Label Accuracy: 0.9146158854166667 Target Test Label Accuracy: 0.9039194915254237\n",
      "Source Val Label Accuracy: 0.9150390625 Target Val Label Accuracy: 0.9034285714285715\n"
     ]
    }
   ],
   "source": [
    "print(\"Source Test Label Accuracy:\", experiment[\"results\"][\"source_test_label_accuracy\"], \"Target Test Label Accuracy:\", experiment[\"results\"][\"target_test_label_accuracy\"])\n",
    "print(\"Source Val Label Accuracy:\", experiment[\"results\"][\"source_val_label_accuracy\"], \"Target Val Label Accuracy:\", experiment[\"results\"][\"target_val_label_accuracy\"])"
   ]
  },
  {
   "cell_type": "code",
   "execution_count": 29,
   "id": "dacca602",
   "metadata": {
    "execution": {
     "iopub.execute_input": "2022-03-25T13:34:59.391804Z",
     "iopub.status.busy": "2022-03-25T13:34:59.391553Z",
     "iopub.status.idle": "2022-03-25T13:34:59.403217Z",
     "shell.execute_reply": "2022-03-25T13:34:59.402810Z"
    },
    "papermill": {
     "duration": 0.052788,
     "end_time": "2022-03-25T13:34:59.403308",
     "exception": false,
     "start_time": "2022-03-25T13:34:59.350520",
     "status": "completed"
    },
    "tags": [
     "experiment_json"
    ]
   },
   "outputs": [
    {
     "data": {
      "text/plain": [
       "'{\"experiment_name\": \"tl_3Av2:oracle.run1.framed -> cores\", \"parameters\": {\"experiment_name\": \"tl_3Av2:oracle.run1.framed -> cores\", \"device\": \"cuda\", \"lr\": 0.0001, \"x_shape\": [2, 200], \"n_shot\": 3, \"n_query\": 2, \"train_k_factor\": 3, \"val_k_factor\": 2, \"test_k_factor\": 2, \"torch_default_dtype\": \"torch.float32\", \"n_epoch\": 50, \"patience\": 3, \"criteria_for_best\": \"target_accuracy\", \"x_net\": [{\"class\": \"nnReshape\", \"kargs\": {\"shape\": [-1, 1, 2, 200]}}, {\"class\": \"Conv2d\", \"kargs\": {\"in_channels\": 1, \"out_channels\": 256, \"kernel_size\": [1, 7], \"bias\": false, \"padding\": [0, 3]}}, {\"class\": \"ReLU\", \"kargs\": {\"inplace\": true}}, {\"class\": \"BatchNorm2d\", \"kargs\": {\"num_features\": 256}}, {\"class\": \"Conv2d\", \"kargs\": {\"in_channels\": 256, \"out_channels\": 80, \"kernel_size\": [2, 7], \"bias\": true, \"padding\": [0, 3]}}, {\"class\": \"ReLU\", \"kargs\": {\"inplace\": true}}, {\"class\": \"BatchNorm2d\", \"kargs\": {\"num_features\": 80}}, {\"class\": \"Flatten\", \"kargs\": {}}, {\"class\": \"Linear\", \"kargs\": {\"in_features\": 16000, \"out_features\": 256}}, {\"class\": \"ReLU\", \"kargs\": {\"inplace\": true}}, {\"class\": \"BatchNorm1d\", \"kargs\": {\"num_features\": 256}}, {\"class\": \"Linear\", \"kargs\": {\"in_features\": 256, \"out_features\": 256}}], \"NUM_LOGS_PER_EPOCH\": 10, \"BEST_MODEL_PATH\": \"./best_model.pth\", \"n_way\": 16, \"datasets\": [{\"labels\": [\"1-10.\", \"1-11.\", \"1-15.\", \"1-16.\", \"1-17.\", \"1-18.\", \"1-19.\", \"10-4.\", \"10-7.\", \"11-1.\", \"11-14.\", \"11-17.\", \"11-20.\", \"11-7.\", \"13-20.\", \"13-8.\", \"14-10.\", \"14-11.\", \"14-14.\", \"14-7.\", \"15-1.\", \"15-20.\", \"16-1.\", \"16-16.\", \"17-10.\", \"17-11.\", \"17-2.\", \"19-1.\", \"19-16.\", \"19-19.\", \"19-20.\", \"19-3.\", \"2-10.\", \"2-11.\", \"2-17.\", \"2-18.\", \"2-20.\", \"2-3.\", \"2-4.\", \"2-5.\", \"2-6.\", \"2-7.\", \"2-8.\", \"3-13.\", \"3-18.\", \"3-3.\", \"4-1.\", \"4-10.\", \"4-11.\", \"4-19.\", \"5-5.\", \"6-15.\", \"7-10.\", \"7-14.\", \"8-18.\", \"8-20.\", \"8-3.\", \"8-8.\"], \"domains\": [1, 2, 3, 4, 5], \"num_examples_per_domain_per_label\": -1, \"pickle_path\": \"/mnt/wd500GB/CSC500/csc500-main/datasets/cores.stratified_ds.2022A.pkl\", \"source_or_target_dataset\": \"target\", \"x_transforms\": [\"take_200\"], \"episode_transforms\": [], \"domain_prefix\": \"C_\"}, {\"labels\": [\"3123D52\", \"3123D65\", \"3123D79\", \"3123D80\", \"3123D54\", \"3123D70\", \"3123D7B\", \"3123D89\", \"3123D58\", \"3123D76\", \"3123D7D\", \"3123EFE\", \"3123D64\", \"3123D78\", \"3123D7E\", \"3124E4A\"], \"domains\": [32, 38, 8, 44, 14, 50, 20, 26], \"num_examples_per_domain_per_label\": 2000, \"pickle_path\": \"/mnt/wd500GB/CSC500/csc500-main/datasets/oracle.Run1_framed_2000Examples_stratified_ds.2022A.pkl\", \"source_or_target_dataset\": \"source\", \"x_transforms\": [\"take_200\", \"resample_20Msps_to_25Msps\"], \"episode_transforms\": [], \"domain_prefix\": \"O_\"}], \"seed\": 7, \"dataset_seed\": 7, \"domains_source\": [\"O_32\", \"O_38\", \"O_8\", \"O_44\", \"O_14\", \"O_50\", \"O_20\", \"O_26\"], \"domains_target\": [\"C_1\", \"C_2\", \"C_3\", \"C_4\", \"C_5\"]}, \"results\": {\"source_test_label_accuracy\": 0.9146158854166667, \"source_test_label_loss\": 0.24218589067459106, \"target_test_label_accuracy\": 0.9039194915254237, \"target_test_label_loss\": 16.418996810913086, \"source_val_label_accuracy\": 0.9150390625, \"source_val_label_loss\": 0.24546512961387634, \"target_val_label_accuracy\": 0.9034285714285715, \"target_val_label_loss\": 15.53766918182373, \"total_epochs_trained\": 11, \"total_experiment_time_secs\": 1814.4973723888397, \"confusion\": {\"O_26\": {\"0\": {\"0\": 182, \"10\": 32, \"14\": 21, \"8\": 4, \"1\": 1}, \"4\": {\"4\": 240}, \"14\": {\"14\": 187, \"10\": 38, \"1\": 4, \"0\": 11}, \"12\": {\"12\": 240}, \"8\": {\"7\": 36, \"8\": 194, \"9\": 8, \"2\": 2}, \"7\": {\"7\": 211, \"3\": 5, \"8\": 18, \"2\": 6}, \"13\": {\"13\": 218, \"9\": 6, \"2\": 13, \"3\": 3}, \"5\": {\"5\": 229, \"15\": 11}, \"15\": {\"15\": 203, \"6\": 19, \"5\": 13, \"10\": 4, \"0\": 1}, \"10\": {\"10\": 188, \"14\": 35, \"0\": 12, \"6\": 4, \"15\": 1}, \"3\": {\"3\": 224, \"2\": 4, \"7\": 12}, \"9\": {\"9\": 212, \"13\": 7, \"2\": 8, \"8\": 12, \"7\": 1}, \"6\": {\"6\": 226, \"15\": 14}, \"1\": {\"1\": 213, \"14\": 26, \"10\": 1}, \"11\": {\"11\": 240}, \"2\": {\"2\": 180, \"13\": 2, \"7\": 24, \"3\": 23, \"8\": 4, \"0\": 5, \"9\": 2}}, \"O_44\": {\"1\": {\"1\": 232, \"2\": 8}, \"11\": {\"11\": 240}, \"3\": {\"3\": 237, \"12\": 3}, \"6\": {\"6\": 202, \"13\": 24, \"9\": 14}, \"7\": {\"7\": 227, \"9\": 12, \"10\": 1}, \"5\": {\"5\": 209, \"15\": 13, \"14\": 14, \"8\": 4}, \"2\": {\"2\": 230, \"1\": 10}, \"15\": {\"15\": 194, \"8\": 9, \"5\": 13, \"14\": 20, \"4\": 3, \"0\": 1}, \"10\": {\"10\": 229, \"7\": 6, \"1\": 5}, \"13\": {\"13\": 209, \"6\": 28, \"9\": 2, \"11\": 1}, \"8\": {\"15\": 7, \"8\": 185, \"0\": 47, \"5\": 1}, \"4\": {\"4\": 190, \"14\": 49, \"15\": 1}, \"9\": {\"9\": 144, \"7\": 50, \"6\": 21, \"13\": 25}, \"14\": {\"4\": 30, \"14\": 194, \"5\": 7, \"15\": 9}, \"0\": {\"0\": 213, \"8\": 27}, \"12\": {\"12\": 237, \"3\": 3}}, \"O_50\": {\"15\": {\"15\": 230, \"11\": 6, \"6\": 3, \"5\": 1}, \"4\": {\"4\": 208, \"5\": 9, \"7\": 14, \"15\": 8, \"6\": 1}, \"6\": {\"6\": 219, \"15\": 13, \"5\": 8}, \"2\": {\"2\": 234, \"0\": 6}, \"5\": {\"5\": 185, \"7\": 16, \"4\": 10, \"6\": 17, \"13\": 2, \"15\": 9, \"1\": 1}, \"9\": {\"9\": 233, \"12\": 6, \"11\": 1}, \"8\": {\"8\": 240}, \"12\": {\"12\": 227, \"9\": 10, \"11\": 3}, \"10\": {\"10\": 239, \"0\": 1}, \"1\": {\"1\": 235, \"13\": 4, \"11\": 1}, \"0\": {\"0\": 227, \"2\": 11, \"10\": 2}, \"3\": {\"3\": 240}, \"13\": {\"13\": 240}, \"11\": {\"11\": 233, \"12\": 4, \"9\": 1, \"15\": 2}, \"7\": {\"7\": 228, \"5\": 10, \"4\": 2}, \"14\": {\"14\": 240}}, \"O_38\": {\"15\": {\"5\": 6, \"15\": 224, \"8\": 9, \"2\": 1}, \"11\": {\"11\": 240}, \"10\": {\"10\": 231, \"0\": 5, \"13\": 4}, \"14\": {\"14\": 229, \"2\": 10, \"13\": 1}, \"6\": {\"6\": 240}, \"4\": {\"4\": 240}, \"13\": {\"13\": 227, \"0\": 4, \"10\": 8, \"2\": 1}, \"3\": {\"3\": 239, \"11\": 1}, \"7\": {\"7\": 234, \"8\": 1, \"5\": 3, \"0\": 2}, \"8\": {\"8\": 182, \"7\": 11, \"5\": 47}, \"1\": {\"1\": 240}, \"5\": {\"5\": 119, \"8\": 91, \"7\": 18, \"9\": 10, \"15\": 2}, \"0\": {\"0\": 204, \"7\": 10, \"10\": 16, \"8\": 2, \"13\": 6, \"3\": 2}, \"2\": {\"2\": 231, \"14\": 9}, \"12\": {\"12\": 239, \"8\": 1}, \"9\": {\"9\": 238, \"5\": 2}}, \"O_20\": {\"10\": {\"10\": 240}, \"7\": {\"7\": 211, \"2\": 17, \"3\": 1, \"9\": 10, \"6\": 1}, \"4\": {\"4\": 238, \"12\": 1, \"7\": 1}, \"13\": {\"13\": 235, \"2\": 3, \"12\": 1, \"15\": 1}, \"1\": {\"1\": 206, \"12\": 4, \"5\": 23, \"15\": 4, \"9\": 2, \"3\": 1}, \"0\": {\"0\": 236, \"3\": 1, \"5\": 1, \"8\": 2}, \"12\": {\"12\": 216, \"2\": 18, \"4\": 2, \"15\": 3, \"1\": 1}, \"5\": {\"5\": 219, \"1\": 19, \"3\": 2}, \"6\": {\"6\": 239, \"7\": 1}, \"2\": {\"12\": 22, \"2\": 190, \"7\": 21, \"13\": 2, \"15\": 1, \"9\": 4}, \"8\": {\"8\": 228, \"3\": 6, \"14\": 6}, \"11\": {\"11\": 240}, \"9\": {\"9\": 213, \"3\": 11, \"7\": 9, \"1\": 6, \"2\": 1}, \"14\": {\"14\": 236, \"8\": 4}, \"15\": {\"15\": 230, \"1\": 9, \"12\": 1}, \"3\": {\"3\": 200, \"9\": 25, \"8\": 3, \"1\": 6, \"5\": 4, \"7\": 2}}, \"O_14\": {\"14\": {\"14\": 217, \"2\": 9, \"13\": 9, \"3\": 2, \"6\": 3}, \"0\": {\"0\": 229, \"3\": 10, \"10\": 1}, \"4\": {\"4\": 235, \"2\": 2, \"5\": 3}, \"11\": {\"11\": 240}, \"13\": {\"6\": 111, \"13\": 70, \"2\": 20, \"14\": 36, \"5\": 1, \"3\": 2}, \"9\": {\"9\": 240}, \"3\": {\"3\": 237, \"14\": 2, \"0\": 1}, \"6\": {\"13\": 58, \"6\": 168, \"14\": 8, \"2\": 6}, \"1\": {\"1\": 240}, \"5\": {\"5\": 230, \"2\": 6, \"7\": 1, \"4\": 2, \"3\": 1}, \"12\": {\"12\": 240}, \"10\": {\"10\": 240}, \"8\": {\"8\": 240}, \"7\": {\"7\": 240}, \"15\": {\"15\": 240}, \"2\": {\"14\": 31, \"2\": 162, \"6\": 11, \"5\": 24, \"4\": 1, \"3\": 4, \"13\": 7}}, \"O_32\": {\"11\": {\"11\": 239, \"13\": 1}, \"1\": {\"1\": 240}, \"2\": {\"2\": 227, \"4\": 12, \"8\": 1}, \"0\": {\"0\": 196, \"5\": 7, \"7\": 13, \"8\": 15, \"14\": 9}, \"3\": {\"3\": 236, \"13\": 4}, \"8\": {\"5\": 9, \"8\": 201, \"0\": 22, \"7\": 3, \"14\": 4, \"4\": 1}, \"12\": {\"12\": 240}, \"5\": {\"5\": 175, \"7\": 52, \"0\": 5, \"8\": 7, \"14\": 1}, \"15\": {\"15\": 238, \"8\": 2}, \"7\": {\"7\": 187, \"5\": 42, \"14\": 7, \"0\": 2, \"8\": 2}, \"4\": {\"4\": 219, \"2\": 15, \"13\": 6}, \"14\": {\"14\": 199, \"0\": 17, \"8\": 6, \"7\": 16, \"5\": 2}, \"10\": {\"10\": 240}, \"6\": {\"6\": 240}, \"13\": {\"13\": 216, \"4\": 7, \"3\": 17}, \"9\": {\"9\": 237, \"2\": 2, \"12\": 1}}, \"O_8\": {\"9\": {\"9\": 240}, \"11\": {\"11\": 203, \"1\": 37}, \"8\": {\"8\": 240}, \"4\": {\"4\": 239, \"14\": 1}, \"13\": {\"13\": 211, \"10\": 12, \"6\": 3, \"7\": 14}, \"14\": {\"14\": 233, \"4\": 7}, \"2\": {\"2\": 216, \"3\": 16, \"12\": 8}, \"3\": {\"3\": 240}, \"1\": {\"1\": 227, \"11\": 9, \"5\": 4}, \"0\": {\"0\": 240}, \"5\": {\"5\": 196, \"10\": 16, \"1\": 22, \"11\": 1, \"14\": 4, \"4\": 1}, \"15\": {\"15\": 222, \"12\": 18}, \"10\": {\"10\": 217, \"4\": 1, \"13\": 20, \"5\": 1, \"6\": 1}, \"12\": {\"12\": 188, \"15\": 52}, \"6\": {\"7\": 15, \"6\": 225}, \"7\": {\"7\": 224, \"13\": 2, \"6\": 14}}, \"C_5\": {\"26\": {\"26\": 22, \"53\": 2}, \"7\": {\"7\": 32}, \"56\": {\"56\": 139, \"52\": 1, \"46\": 1, \"0\": 1}, \"36\": {\"36\": 90, \"43\": 1, \"17\": 1}, \"47\": {\"47\": 95, \"14\": 1, \"52\": 2, \"57\": 2}, \"2\": {\"2\": 25, \"14\": 1, \"36\": 2}, \"15\": {\"15\": 143, \"11\": 8, \"16\": 1}, \"14\": {\"2\": 1, \"56\": 3, \"14\": 27, \"57\": 4, \"13\": 1, \"29\": 1, \"52\": 1, \"36\": 4, \"47\": 1, \"0\": 1}, \"27\": {\"27\": 133, \"9\": 4, \"30\": 2, \"55\": 1, \"48\": 5, \"8\": 1}, \"40\": {\"40\": 64, \"3\": 1, \"5\": 16, \"22\": 3, \"44\": 22, \"4\": 3, \"45\": 1, \"47\": 3, \"57\": 1, \"56\": 5, \"46\": 1, \"21\": 1, \"0\": 1, \"6\": 1, \"27\": 1}, \"49\": {\"49\": 26, \"35\": 2, \"39\": 1, \"2\": 2, \"41\": 3, \"14\": 2}, \"45\": {\"45\": 93, \"50\": 12, \"6\": 18, \"12\": 1}, \"46\": {\"46\": 117, \"56\": 2, \"52\": 5, \"9\": 2, \"21\": 2, \"1\": 1, \"0\": 4, \"3\": 3}, \"11\": {\"15\": 13, \"11\": 113, \"16\": 4}, \"30\": {\"30\": 109, \"9\": 1, \"1\": 1, \"27\": 1}, \"0\": {\"0\": 114, \"3\": 7, \"46\": 3}, \"10\": {\"10\": 66, \"15\": 1, \"24\": 1}, \"1\": {\"1\": 130, \"30\": 4, \"48\": 6, \"9\": 6, \"52\": 1, \"46\": 1}, \"42\": {\"42\": 38, \"2\": 1, \"34\": 1}, \"54\": {\"54\": 112}, \"55\": {\"55\": 129, \"54\": 5, \"32\": 3, \"41\": 3, \"17\": 4, \"23\": 4, \"51\": 1, \"33\": 1, \"27\": 2}, \"23\": {\"23\": 124}, \"25\": {\"25\": 148, \"26\": 1, \"16\": 1, \"18\": 1, \"53\": 1}, \"28\": {\"28\": 32}, \"32\": {\"32\": 29, \"54\": 1, \"17\": 1, \"7\": 1}, \"9\": {\"9\": 96, \"5\": 4, \"12\": 4, \"1\": 17, \"21\": 3, \"48\": 6, \"30\": 3, \"52\": 3, \"6\": 4, \"4\": 1, \"50\": 1}, \"39\": {\"1\": 3, \"39\": 7, \"3\": 1, \"14\": 4, \"43\": 1, \"47\": 1, \"2\": 1, \"49\": 2}, \"3\": {\"3\": 77, \"50\": 6, \"0\": 7, \"45\": 2, \"40\": 1, \"5\": 1, \"6\": 2, \"44\": 1, \"46\": 3}, \"29\": {\"29\": 92, \"22\": 1, \"36\": 3, \"52\": 4, \"5\": 3, \"57\": 1, \"40\": 3, \"1\": 1, \"56\": 3, \"47\": 3, \"49\": 1, \"9\": 3}, \"17\": {\"17\": 116}, \"35\": {\"35\": 36}, \"44\": {\"44\": 118, \"50\": 4, \"5\": 22, \"46\": 1, \"52\": 3, \"0\": 1, \"40\": 3}, \"5\": {\"44\": 19, \"5\": 86, \"40\": 15, \"21\": 2, \"22\": 1, \"4\": 1, \"52\": 2, \"46\": 1, \"50\": 1}, \"33\": {\"33\": 29, \"34\": 2, \"29\": 1}, \"34\": {\"49\": 2, \"34\": 33, \"35\": 1}, \"13\": {\"44\": 2, \"13\": 127, \"56\": 4, \"29\": 2, \"52\": 1, \"0\": 1, \"35\": 1}, \"41\": {\"41\": 28}, \"6\": {\"6\": 92, \"45\": 15, \"50\": 18, \"3\": 2, \"39\": 1}, \"51\": {\"51\": 133, \"7\": 1, \"55\": 2, \"32\": 1, \"12\": 1}, \"50\": {\"6\": 16, \"50\": 112, \"44\": 1, \"5\": 3, \"45\": 11, \"3\": 1}, \"37\": {\"37\": 23, \"52\": 1}, \"19\": {\"19\": 140, \"17\": 1, \"54\": 2, \"53\": 1}, \"57\": {\"57\": 124, \"47\": 4, \"44\": 1, \"46\": 1, \"48\": 2}, \"21\": {\"21\": 144}, \"24\": {\"24\": 76, \"43\": 2, \"10\": 2}, \"8\": {\"8\": 130}, \"12\": {\"12\": 89, \"45\": 2, \"6\": 3, \"4\": 1, \"30\": 1}, \"48\": {\"48\": 104, \"8\": 3, \"30\": 2, \"20\": 5, \"1\": 11, \"9\": 6, \"52\": 1}, \"43\": {\"43\": 147, \"13\": 2, \"24\": 1}, \"53\": {\"53\": 147, \"25\": 1}, \"38\": {\"38\": 30, \"8\": 1, \"7\": 1}, \"16\": {\"16\": 139, \"11\": 2, \"15\": 1}, \"22\": {\"22\": 20, \"14\": 1, \"3\": 1, \"44\": 2, \"56\": 1, \"47\": 1, \"40\": 2}, \"4\": {\"4\": 76, \"5\": 6, \"45\": 1, \"9\": 10, \"40\": 1, \"1\": 2, \"48\": 2, \"21\": 1, \"50\": 1}, \"18\": {\"18\": 62, \"31\": 2}, \"20\": {\"20\": 144}, \"52\": {\"52\": 136, \"47\": 1, \"46\": 2, \"57\": 1}, \"31\": {\"31\": 35, \"23\": 1}}, \"C_1\": {\"41\": {\"41\": 21, \"51\": 2, \"13\": 1}, \"40\": {\"29\": 5, \"40\": 79, \"12\": 2, \"1\": 1, \"45\": 4, \"13\": 1, \"56\": 3, \"4\": 5, \"46\": 1, \"57\": 6, \"50\": 3}, \"45\": {\"45\": 127, \"56\": 6, \"50\": 2, \"5\": 3}, \"51\": {\"51\": 148}, \"5\": {\"5\": 154}, \"30\": {\"30\": 119, \"14\": 1}, \"42\": {\"42\": 39, \"34\": 1}, \"46\": {\"46\": 121, \"5\": 7, \"56\": 1, \"6\": 2, \"50\": 2, \"40\": 2, \"20\": 1}, \"48\": {\"48\": 123, \"8\": 8, \"9\": 3}, \"53\": {\"53\": 144}, \"47\": {\"47\": 143, \"57\": 1, \"27\": 3, \"1\": 2, \"29\": 3}, \"49\": {\"49\": 31, \"38\": 1}, \"36\": {\"36\": 64}, \"32\": {\"32\": 31, \"43\": 1}, \"34\": {\"34\": 22, \"37\": 2}, \"29\": {\"47\": 13, \"40\": 3, \"29\": 99, \"1\": 10, \"57\": 6, \"32\": 2, \"4\": 3, \"13\": 3, \"27\": 1}, \"35\": {\"35\": 36}, \"3\": {\"3\": 99, \"45\": 8, \"56\": 6, \"44\": 3, \"46\": 1, \"20\": 7, \"13\": 1, \"5\": 3, \"12\": 5, \"0\": 1}, \"16\": {\"16\": 140}, \"26\": {\"26\": 23, \"33\": 1}, \"57\": {\"57\": 131, \"1\": 6, \"40\": 4, \"4\": 1, \"44\": 1, \"0\": 1}, \"44\": {\"44\": 86, \"0\": 1, \"45\": 12, \"56\": 11, \"5\": 8, \"3\": 2, \"46\": 6, \"27\": 1, \"50\": 1}, \"0\": {\"0\": 147, \"20\": 2, \"56\": 2, \"22\": 1}, \"4\": {\"4\": 105, \"20\": 1, \"40\": 8, \"46\": 4, \"50\": 4, \"13\": 3, \"12\": 3, \"57\": 1, \"29\": 3}, \"31\": {\"31\": 22, \"38\": 1, \"24\": 2, \"44\": 2, \"23\": 1}, \"11\": {\"11\": 136, \"15\": 4}, \"6\": {\"6\": 73, \"50\": 11, \"46\": 10, \"44\": 1, \"5\": 1}, \"54\": {\"54\": 104}, \"17\": {\"17\": 64}, \"20\": {\"20\": 123, \"12\": 3, \"13\": 1, \"3\": 1}, \"13\": {\"13\": 147, \"12\": 3}, \"33\": {\"33\": 30, \"55\": 2}, \"24\": {\"24\": 106, \"54\": 1, \"23\": 1}, \"52\": {\"52\": 110, \"22\": 9, \"21\": 9, \"27\": 3, \"0\": 1}, \"2\": {\"2\": 35, \"48\": 1}, \"19\": {\"19\": 154, \"41\": 1, \"54\": 1}, \"39\": {\"39\": 24, \"52\": 1, \"49\": 2, \"43\": 1}, \"8\": {\"8\": 136, \"48\": 3, \"9\": 1}, \"21\": {\"21\": 123, \"27\": 1}, \"10\": {\"10\": 92, \"11\": 2, \"15\": 1, \"25\": 1}, \"37\": {\"37\": 31, \"7\": 1}, \"25\": {\"25\": 144}, \"27\": {\"27\": 121, \"47\": 2, \"43\": 1, \"21\": 4, \"52\": 1, \"9\": 1}, \"23\": {\"23\": 136}, \"1\": {\"1\": 91, \"2\": 1, \"48\": 1, \"29\": 5, \"8\": 1, \"30\": 1}, \"50\": {\"50\": 152}, \"12\": {\"12\": 98, \"13\": 6, \"20\": 9, \"3\": 2, \"0\": 1}, \"18\": {\"18\": 70, \"53\": 2}, \"38\": {\"49\": 1, \"38\": 20, \"22\": 2, \"7\": 1}, \"14\": {\"13\": 2, \"30\": 2, \"14\": 16, \"6\": 1, \"9\": 2, \"4\": 1}, \"56\": {\"56\": 110, \"46\": 3, \"44\": 10, \"6\": 1, \"57\": 4, \"20\": 1, \"3\": 2, \"45\": 5, \"40\": 2, \"0\": 2, \"50\": 2}, \"55\": {\"55\": 135, \"37\": 1, \"38\": 2, \"33\": 1, \"7\": 4, \"36\": 2, \"29\": 2, \"27\": 1, \"43\": 4, \"51\": 3, \"1\": 2, \"47\": 1, \"57\": 1, \"42\": 1}, \"9\": {\"9\": 134, \"8\": 3, \"48\": 1}, \"15\": {\"15\": 141, \"10\": 4, \"11\": 1}, \"28\": {\"28\": 28}, \"7\": {\"7\": 28}, \"43\": {\"43\": 133, \"39\": 1, \"27\": 1, \"47\": 1}, \"22\": {\"22\": 126, \"21\": 4, \"52\": 4, \"0\": 1, \"27\": 1}}, \"C_3\": {\"1\": {\"1\": 82, \"27\": 3, \"47\": 2, \"57\": 3, \"44\": 1, \"0\": 1, \"40\": 2, \"5\": 2, \"12\": 1, \"36\": 2, \"48\": 1}, \"9\": {\"22\": 2, \"9\": 83, \"40\": 3, \"57\": 6, \"48\": 3, \"12\": 1, \"4\": 7, \"52\": 5, \"27\": 6, \"29\": 6, \"21\": 1, \"8\": 1}, \"22\": {\"56\": 19, \"22\": 86, \"41\": 1, \"40\": 2, \"27\": 1, \"48\": 4, \"52\": 2, \"47\": 7, \"0\": 4, \"5\": 2, \"57\": 1, \"3\": 1, \"36\": 2, \"46\": 1, \"6\": 1, \"39\": 1, \"1\": 1}, \"43\": {\"43\": 136}, \"49\": {\"49\": 20}, \"50\": {\"50\": 97, \"46\": 10, \"12\": 9, \"6\": 8, \"21\": 5, \"44\": 1, \"30\": 3, \"3\": 5}, \"53\": {\"53\": 136}, \"10\": {\"10\": 64}, \"48\": {\"48\": 87, \"41\": 2, \"40\": 4, \"47\": 4, \"1\": 2, \"52\": 2, \"9\": 5, \"56\": 1, \"57\": 3, \"46\": 3, \"30\": 1, \"20\": 1, \"22\": 1}, \"8\": {\"8\": 137, \"52\": 1}, \"31\": {\"31\": 28}, \"56\": {\"56\": 96, \"22\": 14, \"39\": 1, \"0\": 9, \"48\": 3, \"46\": 2, \"9\": 1, \"5\": 2, \"1\": 1, \"47\": 5}, \"25\": {\"25\": 142}, \"28\": {\"28\": 25, \"31\": 1, \"49\": 1, \"11\": 1}, \"38\": {\"38\": 28}, \"5\": {\"5\": 105, \"6\": 4, \"3\": 1, \"46\": 6}, \"12\": {\"12\": 90, \"45\": 1, \"50\": 1}, \"6\": {\"6\": 85, \"3\": 1, \"50\": 2}, \"19\": {\"19\": 145, \"42\": 1, \"31\": 1, \"23\": 3, \"56\": 1, \"28\": 1}, \"26\": {\"26\": 22, \"42\": 2}, \"32\": {\"32\": 28}, \"33\": {\"33\": 27, \"9\": 1}, \"3\": {\"6\": 10, \"3\": 73, \"45\": 3, \"46\": 14, \"12\": 3, \"50\": 1, \"21\": 4, \"5\": 9, \"30\": 1}, \"51\": {\"51\": 128}, \"16\": {\"16\": 133, \"15\": 4, \"11\": 1}, \"46\": {\"46\": 102, \"6\": 3, \"30\": 1, \"3\": 18, \"21\": 4, \"50\": 3, \"5\": 9}, \"7\": {\"7\": 36}, \"47\": {\"47\": 83, \"41\": 2, \"0\": 2, \"1\": 3, \"48\": 1, \"57\": 1}, \"39\": {\"7\": 1, \"39\": 8, \"33\": 3, \"14\": 2, \"47\": 2}, \"40\": {\"40\": 98, \"4\": 4, \"9\": 8, \"48\": 8, \"12\": 3, \"29\": 2, \"46\": 1, \"47\": 3, \"44\": 1, \"1\": 1, \"27\": 1, \"30\": 1, \"21\": 1, \"50\": 1, \"57\": 2, \"5\": 1}, \"14\": {\"35\": 5, \"7\": 5, \"14\": 24, \"0\": 1, \"29\": 1, \"56\": 2, \"52\": 1, \"57\": 1}, \"37\": {\"37\": 27, \"7\": 1}, \"2\": {\"2\": 32}, \"21\": {\"21\": 108, \"46\": 5, \"3\": 1, \"50\": 1, \"6\": 2, \"5\": 2, \"56\": 1}, \"35\": {\"35\": 27, \"14\": 1}, \"54\": {\"54\": 100}, \"52\": {\"52\": 113, \"5\": 1, \"50\": 1, \"48\": 1}, \"29\": {\"29\": 91, \"4\": 3, \"50\": 2, \"57\": 8, \"9\": 6, \"33\": 1, \"5\": 1, \"8\": 1, \"1\": 2, \"47\": 1, \"27\": 2}, \"20\": {\"20\": 132}, \"18\": {\"18\": 80, \"16\": 2, \"25\": 2}, \"11\": {\"11\": 125, \"10\": 2, \"15\": 15}, \"0\": {\"0\": 117, \"22\": 1, \"46\": 1, \"20\": 1, \"48\": 2, \"47\": 1, \"5\": 1}, \"36\": {\"36\": 97, \"17\": 2, \"27\": 1}, \"17\": {\"17\": 108}, \"30\": {\"30\": 112, \"27\": 1, \"48\": 1}, \"42\": {\"42\": 26, \"55\": 2}, \"45\": {\"12\": 3, \"45\": 47, \"6\": 6, \"50\": 2, \"21\": 1, \"46\": 1}, \"4\": {\"29\": 2, \"4\": 131, \"9\": 5, \"27\": 4, \"40\": 4, \"48\": 1, \"8\": 1}, \"23\": {\"23\": 131, \"43\": 2, \"17\": 1}, \"13\": {\"13\": 123, \"7\": 1, \"48\": 1, \"55\": 1, \"43\": 2}, \"15\": {\"15\": 121, \"16\": 3, \"11\": 4}, \"57\": {\"57\": 118, \"47\": 1, \"9\": 2, \"40\": 1, \"29\": 2}, \"27\": {\"27\": 128, \"9\": 5, \"48\": 1}, \"44\": {\"44\": 74, \"20\": 1, \"48\": 1, \"45\": 3, \"40\": 6, \"50\": 1, \"22\": 2}, \"34\": {\"34\": 32}, \"41\": {\"41\": 28}, \"24\": {\"24\": 103, \"43\": 1}, \"55\": {\"55\": 108, \"34\": 1, \"43\": 6, \"14\": 2, \"9\": 1}}, \"C_4\": {\"52\": {\"52\": 115, \"47\": 1}, \"6\": {\"6\": 94, \"5\": 9, \"3\": 7, \"50\": 2}, \"14\": {\"40\": 2, \"14\": 8, \"36\": 1, \"33\": 1, \"5\": 1, \"13\": 1, \"29\": 2}, \"49\": {\"38\": 2, \"49\": 18}, \"0\": {\"0\": 73, \"46\": 3, \"22\": 2, \"6\": 1, \"56\": 1}, \"46\": {\"46\": 102, \"3\": 5, \"22\": 19, \"56\": 2, \"5\": 7, \"0\": 7, \"6\": 4, \"40\": 1, \"44\": 1, \"52\": 4, \"29\": 2, \"45\": 1, \"50\": 1}, \"41\": {\"41\": 35, \"39\": 1}, \"24\": {\"24\": 54, \"43\": 2}, \"25\": {\"25\": 149, \"18\": 3}, \"40\": {\"40\": 108, \"44\": 7, \"1\": 1, \"57\": 1, \"6\": 2, \"47\": 3, \"4\": 1, \"56\": 1, \"5\": 2, \"46\": 3, \"29\": 2, \"50\": 1, \"3\": 1, \"52\": 1, \"48\": 4}, \"38\": {\"38\": 38, \"56\": 1, \"14\": 1}, \"13\": {\"13\": 152}, \"9\": {\"9\": 95, \"4\": 3, \"21\": 2, \"8\": 4, \"48\": 4}, \"45\": {\"45\": 81, \"3\": 2, \"44\": 1, \"50\": 3, \"12\": 2, \"21\": 2, \"5\": 1, \"30\": 1, \"52\": 1, \"6\": 2}, \"43\": {\"43\": 144}, \"10\": {\"10\": 130}, \"15\": {\"11\": 13, \"15\": 107, \"16\": 6, \"42\": 1, \"55\": 1}, \"39\": {\"39\": 17, \"57\": 1, \"56\": 1, \"36\": 1}, \"4\": {\"4\": 122, \"56\": 1, \"48\": 3, \"9\": 6}, \"53\": {\"53\": 131, \"55\": 1}, \"1\": {\"1\": 39, \"56\": 1}, \"28\": {\"28\": 28, \"34\": 1, \"23\": 1, \"42\": 2}, \"54\": {\"54\": 108}, \"21\": {\"21\": 128, \"12\": 3, \"45\": 1}, \"7\": {\"7\": 18, \"39\": 1, \"1\": 1, \"35\": 1, \"38\": 1, \"54\": 1, \"13\": 1}, \"8\": {\"8\": 136}, \"42\": {\"42\": 31, \"34\": 1}, \"11\": {\"15\": 15, \"11\": 80, \"54\": 1, \"10\": 5, \"16\": 2, \"23\": 1}, \"33\": {\"33\": 35, \"35\": 1}, \"27\": {\"27\": 132, \"36\": 3, \"9\": 4, \"8\": 2, \"4\": 1}, \"19\": {\"19\": 136, \"33\": 1, \"29\": 2, \"55\": 1, \"26\": 1, \"54\": 1, \"36\": 1, \"23\": 1}, \"2\": {\"2\": 36}, \"3\": {\"3\": 112, \"6\": 5, \"5\": 1, \"50\": 2}, \"57\": {\"57\": 95, \"52\": 1, \"47\": 1, \"48\": 2, \"1\": 1}, \"20\": {\"20\": 109, \"50\": 2, \"52\": 1}, \"23\": {\"23\": 128}, \"22\": {\"3\": 2, \"22\": 103, \"5\": 5, \"56\": 3, \"0\": 3, \"46\": 8, \"6\": 2, \"47\": 1, \"52\": 1}, \"29\": {\"29\": 105, \"52\": 4, \"44\": 1, \"9\": 4, \"4\": 4, \"57\": 2, \"47\": 2, \"48\": 2}, \"36\": {\"36\": 90, \"8\": 2}, \"51\": {\"51\": 132}, \"31\": {\"31\": 25, \"43\": 1, \"37\": 2}, \"12\": {\"12\": 89, \"21\": 2, \"45\": 1}, \"56\": {\"56\": 108, \"1\": 4, \"0\": 3, \"22\": 4, \"48\": 1, \"46\": 2, \"47\": 3, \"40\": 5, \"52\": 5, \"44\": 3}, \"5\": {\"5\": 97, \"3\": 4, \"6\": 6, \"46\": 1}, \"35\": {\"35\": 37, \"52\": 1, \"0\": 1, \"42\": 1}, \"17\": {\"17\": 78, \"53\": 1, \"27\": 1}, \"32\": {\"32\": 23, \"57\": 1}, \"47\": {\"47\": 119, \"52\": 1}, \"18\": {\"18\": 104, \"23\": 1, \"13\": 1, \"25\": 2}, \"26\": {\"26\": 22, \"34\": 1, \"36\": 1}, \"50\": {\"50\": 98, \"6\": 6, \"3\": 15, \"5\": 2, \"30\": 1}, \"55\": {\"55\": 110, \"38\": 3, \"49\": 2, \"43\": 4, \"35\": 2, \"29\": 3}, \"34\": {\"34\": 23, \"23\": 1}, \"30\": {\"45\": 3, \"30\": 40, \"12\": 1}, \"37\": {\"37\": 23, \"13\": 1}, \"44\": {\"40\": 14, \"44\": 110, \"30\": 2, \"50\": 1, \"3\": 1, \"57\": 1, \"6\": 1, \"21\": 1, \"52\": 1}, \"48\": {\"48\": 106, \"30\": 1, \"4\": 4, \"47\": 1, \"52\": 1, \"8\": 1, \"20\": 3, \"9\": 1}, \"16\": {\"16\": 95, \"11\": 1}}, \"C_2\": {\"11\": {\"11\": 121, \"15\": 8, \"16\": 1}, \"21\": {\"21\": 115, \"50\": 2, \"12\": 1, \"6\": 2}, \"19\": {\"19\": 128, \"35\": 4, \"42\": 1, \"53\": 2, \"37\": 1, \"16\": 1, \"54\": 1, \"23\": 1, \"55\": 1}, \"20\": {\"20\": 126, \"21\": 1, \"12\": 1}, \"9\": {\"9\": 120, \"29\": 4, \"4\": 9, \"20\": 2, \"8\": 3, \"48\": 1, \"21\": 1}, \"10\": {\"10\": 112}, \"37\": {\"37\": 35, \"38\": 1}, \"32\": {\"32\": 28}, \"3\": {\"3\": 71, \"50\": 2, \"6\": 11, \"45\": 4, \"21\": 2, \"5\": 1, \"46\": 1}, \"39\": {\"39\": 25, \"41\": 1, \"2\": 1, \"47\": 1}, \"45\": {\"45\": 93, \"50\": 3, \"6\": 15, \"12\": 3, \"3\": 10, \"5\": 3, \"21\": 1}, \"50\": {\"50\": 95, \"3\": 5, \"12\": 17, \"6\": 4, \"45\": 2, \"46\": 8, \"21\": 3, \"0\": 1, \"5\": 1}, \"40\": {\"40\": 113, \"9\": 3, \"48\": 6, \"4\": 4, \"3\": 1, \"46\": 2, \"50\": 1, \"45\": 5, \"1\": 2, \"22\": 1, \"29\": 1, \"30\": 1}, \"46\": {\"46\": 95, \"21\": 7, \"3\": 11, \"5\": 5, \"6\": 10}, \"12\": {\"12\": 91, \"50\": 1}, \"13\": {\"13\": 115, \"38\": 1}, \"47\": {\"46\": 1, \"47\": 121, \"1\": 5, \"57\": 1, \"55\": 1, \"3\": 1, \"30\": 1, \"52\": 1}, \"15\": {\"15\": 132, \"34\": 1, \"16\": 7, \"11\": 2}, \"54\": {\"54\": 108}, \"48\": {\"48\": 136, \"21\": 2, \"52\": 3, \"30\": 2, \"40\": 3, \"57\": 1, \"46\": 1}, \"23\": {\"23\": 141, \"55\": 1}, \"29\": {\"29\": 111, \"22\": 2, \"40\": 2, \"9\": 4, \"57\": 2, \"4\": 2, \"1\": 3, \"56\": 2}, \"38\": {\"38\": 20}, \"53\": {\"53\": 136}, \"27\": {\"27\": 150}, \"43\": {\"43\": 143, \"24\": 1}, \"35\": {\"35\": 32}, \"0\": {\"0\": 46, \"46\": 1, \"5\": 1}, \"52\": {\"52\": 121, \"0\": 1, \"48\": 1, \"47\": 1}, \"8\": {\"8\": 127, \"20\": 1}, \"24\": {\"37\": 3, \"10\": 3, \"24\": 88, \"43\": 2}, \"18\": {\"18\": 47, \"25\": 1}, \"25\": {\"25\": 148}, \"57\": {\"57\": 128, \"1\": 2, \"48\": 6}, \"55\": {\"24\": 1, \"37\": 1, \"55\": 110, \"29\": 3, \"7\": 5, \"43\": 6, \"23\": 2, \"1\": 1, \"47\": 1, \"14\": 2, \"56\": 1, \"57\": 1}, \"36\": {\"36\": 114, \"32\": 1, \"54\": 1}, \"17\": {\"17\": 102, \"23\": 1, \"54\": 1}, \"2\": {\"2\": 27, \"41\": 3, \"52\": 1, \"20\": 1}, \"34\": {\"34\": 24, \"49\": 4}, \"1\": {\"57\": 7, \"52\": 3, \"1\": 88, \"56\": 3, \"7\": 2, \"55\": 1, \"48\": 1, \"8\": 2, \"50\": 3, \"22\": 1, \"47\": 1}, \"51\": {\"51\": 136}, \"31\": {\"31\": 28}, \"49\": {\"49\": 19, \"34\": 5}, \"14\": {\"14\": 13, \"29\": 4, \"22\": 2, \"9\": 1, \"47\": 1, \"33\": 1, \"38\": 1, \"48\": 1}, \"33\": {\"33\": 26, \"29\": 2}, \"41\": {\"41\": 19, \"52\": 1}, \"28\": {\"28\": 28}, \"5\": {\"5\": 115, \"46\": 1, \"3\": 1, \"6\": 2, \"50\": 1}, \"16\": {\"16\": 137, \"15\": 10, \"11\": 3}, \"4\": {\"4\": 105, \"9\": 11, \"36\": 1, \"40\": 4, \"29\": 6, \"56\": 1}, \"22\": {\"22\": 78, \"14\": 1, \"0\": 5, \"40\": 4, \"56\": 19, \"42\": 1, \"2\": 1, \"5\": 8, \"46\": 3, \"52\": 1, \"55\": 1, \"1\": 5, \"44\": 2, \"57\": 2, \"47\": 5}, \"6\": {\"6\": 94, \"3\": 13, \"50\": 4, \"46\": 3, \"45\": 2, \"12\": 1, \"5\": 1}, \"30\": {\"30\": 124}, \"26\": {\"26\": 23, \"54\": 1}, \"56\": {\"56\": 80, \"22\": 29, \"47\": 12, \"52\": 1, \"50\": 2, \"55\": 1, \"0\": 1, \"1\": 10, \"5\": 3, \"57\": 2, \"40\": 1}, \"42\": {\"42\": 29, \"57\": 2, \"55\": 1, \"17\": 1, \"23\": 1, \"34\": 1, \"7\": 1}, \"44\": {\"44\": 86, \"50\": 1, \"40\": 6, \"5\": 1, \"1\": 3, \"48\": 1, \"21\": 1, \"22\": 1}, \"7\": {\"23\": 1, \"7\": 16, \"56\": 2, \"22\": 3, \"55\": 8, \"29\": 1, \"2\": 1, \"36\": 2, \"39\": 2}}}, \"per_domain_accuracy\": {\"O_26\": {\"accuracy\": 0.88203125, \"source?\": true}, \"O_44\": {\"accuracy\": 0.878125, \"source?\": true}, \"O_50\": {\"accuracy\": 0.9526041666666667, \"source?\": true}, \"O_38\": {\"accuracy\": 0.9263020833333333, \"source?\": true}, \"O_20\": {\"accuracy\": 0.9315104166666667, \"source?\": true}, \"O_14\": {\"accuracy\": 0.903125, \"source?\": true}, \"O_32\": {\"accuracy\": 0.9192708333333334, \"source?\": true}, \"O_8\": {\"accuracy\": 0.92734375, \"source?\": true}, \"C_5\": {\"accuracy\": 0.890013966480447, \"source?\": false}, \"C_1\": {\"accuracy\": 0.9213654891304348, \"source?\": false}, \"C_3\": {\"accuracy\": 0.8957720588235294, \"source?\": false}, \"C_4\": {\"accuracy\": 0.9150978915662651, \"source?\": false}, \"C_2\": {\"accuracy\": 0.8947088068181818, \"source?\": false}}}, \"history\": {\"epoch_indices\": [1, 2, 3, 4, 5, 6, 7, 8, 9, 10, 11], \"train_label_loss\": [0.45596392240646916, 2.4839090340804044, 0.3544809932363153, 0.3759927547306732, 0.2802991053582879, 0.26314900495857557, 0.2347165752022106, 0.21730833771303185, 0.20706610279698257, 0.19657133735502916, 0.18848847846564326], \"source_val_label_loss\": [157.37611389160156, 0.39199575781822205, 0.3445873558521271, 0.32062453031539917, 0.28709596395492554, 0.24856051802635193, 0.24546512961387634, 0.22204500436782837, 0.21071064472198486, 0.22613826394081116, 0.20523415505886078], \"target_val_label_loss\": [16554.4765625, 829.7618408203125, 790.8336181640625, 231.1123046875, 180.5498504638672, 18.445497512817383, 15.53766918182373, 16.398378372192383, 2109.146484375, 1365.177734375, 1429.6656494140625], \"source_val_acc_label\": [0.6312174479166667, 0.8634114583333333, 0.8917317708333333, 0.8879231770833333, 0.9019856770833333, 0.9185872395833333, 0.9150390625, 0.9239908854166666, 0.9278645833333333, 0.9212890625, 0.93095703125], \"target_val_acc_label\": [0.5865357142857143, 0.5777857142857142, 0.6041071428571428, 0.7983928571428571, 0.8265714285714286, 0.8986071428571428, 0.9034285714285715, 0.8979285714285714, 0.6426071428571428, 0.6897857142857143, 0.6845714285714286]}, \"dataset_metrics\": {\"source\": {\"train\": {\"n_unique_x\": 179200, \"n_unique_y\": 16, \"n_batch/episode\": 6720}, \"val\": {\"n_unique_x\": 38400, \"n_unique_y\": 16, \"n_batch/episode\": 960}, \"test\": {\"n_unique_x\": 38400, \"n_unique_y\": 16, \"n_batch/episode\": 960}}, \"target\": {\"train\": {\"n_unique_x\": 175203, \"n_unique_y\": 58, \"n_batch/episode\": 6321}, \"val\": {\"n_unique_x\": 37151, \"n_unique_y\": 58, \"n_batch/episode\": 875}, \"test\": {\"n_unique_x\": 37548, \"n_unique_y\": 58, \"n_batch/episode\": 885}}}}'"
      ]
     },
     "execution_count": 29,
     "metadata": {},
     "output_type": "execute_result"
    }
   ],
   "source": [
    "json.dumps(experiment)"
   ]
  }
 ],
 "metadata": {
  "celltoolbar": "Tags",
  "kernelspec": {
   "display_name": "Python 3 (ipykernel)",
   "language": "python",
   "name": "python3"
  },
  "language_info": {
   "codemirror_mode": {
    "name": "ipython",
    "version": 3
   },
   "file_extension": ".py",
   "mimetype": "text/x-python",
   "name": "python",
   "nbconvert_exporter": "python",
   "pygments_lexer": "ipython3",
   "version": "3.8.10"
  },
  "papermill": {
   "default_parameters": {},
   "duration": 1909.834246,
   "end_time": "2022-03-25T13:35:00.859216",
   "environment_variables": {},
   "exception": null,
   "input_path": "/mnt/wd500GB/CSC500/csc500-main/csc500-notebooks/templates/tl_ptn_template.ipynb",
   "output_path": "trial.ipynb",
   "parameters": {
    "parameters": {
     "BEST_MODEL_PATH": "./best_model.pth",
     "NUM_LOGS_PER_EPOCH": 10,
     "criteria_for_best": "target_accuracy",
     "dataset_seed": 7,
     "datasets": [
      {
       "domain_prefix": "C_",
       "domains": [
        1,
        2,
        3,
        4,
        5
       ],
       "episode_transforms": [],
       "labels": [
        "1-10.",
        "1-11.",
        "1-15.",
        "1-16.",
        "1-17.",
        "1-18.",
        "1-19.",
        "10-4.",
        "10-7.",
        "11-1.",
        "11-14.",
        "11-17.",
        "11-20.",
        "11-7.",
        "13-20.",
        "13-8.",
        "14-10.",
        "14-11.",
        "14-14.",
        "14-7.",
        "15-1.",
        "15-20.",
        "16-1.",
        "16-16.",
        "17-10.",
        "17-11.",
        "17-2.",
        "19-1.",
        "19-16.",
        "19-19.",
        "19-20.",
        "19-3.",
        "2-10.",
        "2-11.",
        "2-17.",
        "2-18.",
        "2-20.",
        "2-3.",
        "2-4.",
        "2-5.",
        "2-6.",
        "2-7.",
        "2-8.",
        "3-13.",
        "3-18.",
        "3-3.",
        "4-1.",
        "4-10.",
        "4-11.",
        "4-19.",
        "5-5.",
        "6-15.",
        "7-10.",
        "7-14.",
        "8-18.",
        "8-20.",
        "8-3.",
        "8-8."
       ],
       "num_examples_per_domain_per_label": -1,
       "pickle_path": "/mnt/wd500GB/CSC500/csc500-main/datasets/cores.stratified_ds.2022A.pkl",
       "source_or_target_dataset": "target",
       "x_transforms": [
        "take_200"
       ]
      },
      {
       "domain_prefix": "O_",
       "domains": [
        32,
        38,
        8,
        44,
        14,
        50,
        20,
        26
       ],
       "episode_transforms": [],
       "labels": [
        "3123D52",
        "3123D65",
        "3123D79",
        "3123D80",
        "3123D54",
        "3123D70",
        "3123D7B",
        "3123D89",
        "3123D58",
        "3123D76",
        "3123D7D",
        "3123EFE",
        "3123D64",
        "3123D78",
        "3123D7E",
        "3124E4A"
       ],
       "num_examples_per_domain_per_label": 2000,
       "pickle_path": "/mnt/wd500GB/CSC500/csc500-main/datasets/oracle.Run1_framed_2000Examples_stratified_ds.2022A.pkl",
       "source_or_target_dataset": "source",
       "x_transforms": [
        "take_200",
        "resample_20Msps_to_25Msps"
       ]
      }
     ],
     "device": "cuda",
     "experiment_name": "tl_3Av2:oracle.run1.framed -> cores",
     "lr": 0.0001,
     "n_epoch": 50,
     "n_query": 2,
     "n_shot": 3,
     "n_way": 16,
     "patience": 3,
     "seed": 7,
     "test_k_factor": 2,
     "torch_default_dtype": "torch.float32",
     "train_k_factor": 3,
     "val_k_factor": 2,
     "x_net": [
      {
       "class": "nnReshape",
       "kargs": {
        "shape": [
         -1,
         1,
         2,
         200
        ]
       }
      },
      {
       "class": "Conv2d",
       "kargs": {
        "bias": false,
        "in_channels": 1,
        "kernel_size": [
         1,
         7
        ],
        "out_channels": 256,
        "padding": [
         0,
         3
        ]
       }
      },
      {
       "class": "ReLU",
       "kargs": {
        "inplace": true
       }
      },
      {
       "class": "BatchNorm2d",
       "kargs": {
        "num_features": 256
       }
      },
      {
       "class": "Conv2d",
       "kargs": {
        "bias": true,
        "in_channels": 256,
        "kernel_size": [
         2,
         7
        ],
        "out_channels": 80,
        "padding": [
         0,
         3
        ]
       }
      },
      {
       "class": "ReLU",
       "kargs": {
        "inplace": true
       }
      },
      {
       "class": "BatchNorm2d",
       "kargs": {
        "num_features": 80
       }
      },
      {
       "class": "Flatten",
       "kargs": {}
      },
      {
       "class": "Linear",
       "kargs": {
        "in_features": 16000,
        "out_features": 256
       }
      },
      {
       "class": "ReLU",
       "kargs": {
        "inplace": true
       }
      },
      {
       "class": "BatchNorm1d",
       "kargs": {
        "num_features": 256
       }
      },
      {
       "class": "Linear",
       "kargs": {
        "in_features": 256,
        "out_features": 256
       }
      }
     ],
     "x_shape": [
      2,
      200
     ]
    }
   },
   "start_time": "2022-03-25T13:03:11.024970",
   "version": "2.3.4"
  }
 },
 "nbformat": 4,
 "nbformat_minor": 5
}