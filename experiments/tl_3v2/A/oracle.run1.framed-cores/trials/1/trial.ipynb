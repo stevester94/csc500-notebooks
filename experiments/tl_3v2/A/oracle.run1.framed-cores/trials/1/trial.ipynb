{
 "cells": [
  {
   "cell_type": "markdown",
   "id": "9fea5f46",
   "metadata": {
    "papermill": {
     "duration": 0.017811,
     "end_time": "2022-03-25T07:50:30.816981",
     "exception": false,
     "start_time": "2022-03-25T07:50:30.799170",
     "status": "completed"
    },
    "tags": []
   },
   "source": [
    "# Transfer Learning Template"
   ]
  },
  {
   "cell_type": "code",
   "execution_count": 1,
   "id": "0902182a",
   "metadata": {
    "execution": {
     "iopub.execute_input": "2022-03-25T07:50:30.854996Z",
     "iopub.status.busy": "2022-03-25T07:50:30.854524Z",
     "iopub.status.idle": "2022-03-25T07:50:31.756315Z",
     "shell.execute_reply": "2022-03-25T07:50:31.756566Z"
    },
    "papermill": {
     "duration": 0.927332,
     "end_time": "2022-03-25T07:50:31.756693",
     "exception": false,
     "start_time": "2022-03-25T07:50:30.829361",
     "status": "completed"
    },
    "tags": []
   },
   "outputs": [],
   "source": [
    "%load_ext autoreload\n",
    "%autoreload 2\n",
    "%matplotlib inline\n",
    "\n",
    "    \n",
    "import os, json, sys, time, random\n",
    "import numpy as np\n",
    "import torch\n",
    "from torch.optim import Adam\n",
    "from  easydict import EasyDict\n",
    "import matplotlib.pyplot as plt\n",
    "\n",
    "from steves_models.steves_ptn import Steves_Prototypical_Network\n",
    "\n",
    "from steves_utils.lazy_iterable_wrapper import Lazy_Iterable_Wrapper\n",
    "from steves_utils.iterable_aggregator import Iterable_Aggregator\n",
    "from steves_utils.ptn_train_eval_test_jig import  PTN_Train_Eval_Test_Jig\n",
    "from steves_utils.torch_sequential_builder import build_sequential\n",
    "from steves_utils.torch_utils import get_dataset_metrics, ptn_confusion_by_domain_over_dataloader\n",
    "from steves_utils.utils_v2 import (per_domain_accuracy_from_confusion, get_datasets_base_path)\n",
    "from steves_utils.PTN.utils import independent_accuracy_assesment\n",
    "\n",
    "from torch.utils.data import DataLoader\n",
    "\n",
    "from steves_utils.stratified_dataset.episodic_accessor import Episodic_Accessor_Factory\n",
    "\n",
    "from steves_utils.ptn_do_report import (\n",
    "    get_loss_curve,\n",
    "    get_results_table,\n",
    "    get_parameters_table,\n",
    "    get_domain_accuracies,\n",
    ")\n",
    "\n",
    "from steves_utils.transforms import get_chained_transform"
   ]
  },
  {
   "cell_type": "markdown",
   "id": "41c840b4",
   "metadata": {
    "papermill": {
     "duration": 0.012668,
     "end_time": "2022-03-25T07:50:31.784587",
     "exception": false,
     "start_time": "2022-03-25T07:50:31.771919",
     "status": "completed"
    },
    "tags": []
   },
   "source": [
    "# Allowed Parameters\n",
    "These are allowed parameters, not defaults\n",
    "Each of these values need to be present in the injected parameters (the notebook will raise an exception if they are not present)\n",
    "\n",
    "Papermill uses the cell tag \"parameters\" to inject the real parameters below this cell.\n",
    "Enable tags to see what I mean"
   ]
  },
  {
   "cell_type": "code",
   "execution_count": 2,
   "id": "fd44eb83",
   "metadata": {
    "execution": {
     "iopub.execute_input": "2022-03-25T07:50:31.811979Z",
     "iopub.status.busy": "2022-03-25T07:50:31.811571Z",
     "iopub.status.idle": "2022-03-25T07:50:31.822068Z",
     "shell.execute_reply": "2022-03-25T07:50:31.822284Z"
    },
    "papermill": {
     "duration": 0.025327,
     "end_time": "2022-03-25T07:50:31.822353",
     "exception": false,
     "start_time": "2022-03-25T07:50:31.797026",
     "status": "completed"
    },
    "tags": []
   },
   "outputs": [],
   "source": [
    "required_parameters = {\n",
    "    \"experiment_name\",\n",
    "    \"lr\",\n",
    "    \"device\",\n",
    "    \"seed\",\n",
    "    \"dataset_seed\",\n",
    "    \"n_shot\",\n",
    "    \"n_query\",\n",
    "    \"n_way\",\n",
    "    \"train_k_factor\",\n",
    "    \"val_k_factor\",\n",
    "    \"test_k_factor\",\n",
    "    \"n_epoch\",\n",
    "    \"patience\",\n",
    "    \"criteria_for_best\",\n",
    "    \"x_net\",\n",
    "    \"datasets\",\n",
    "    \"torch_default_dtype\",\n",
    "    \"NUM_LOGS_PER_EPOCH\",\n",
    "    \"BEST_MODEL_PATH\",\n",
    "    \"x_shape\",\n",
    "}"
   ]
  },
  {
   "cell_type": "code",
   "execution_count": 3,
   "id": "fa3f0049",
   "metadata": {
    "execution": {
     "iopub.execute_input": "2022-03-25T07:50:31.853411Z",
     "iopub.status.busy": "2022-03-25T07:50:31.852964Z",
     "iopub.status.idle": "2022-03-25T07:50:31.865433Z",
     "shell.execute_reply": "2022-03-25T07:50:31.865136Z"
    },
    "papermill": {
     "duration": 0.030699,
     "end_time": "2022-03-25T07:50:31.865497",
     "exception": false,
     "start_time": "2022-03-25T07:50:31.834798",
     "status": "completed"
    },
    "tags": [
     "parameters"
    ]
   },
   "outputs": [],
   "source": [
    "from steves_utils.CORES.utils import (\n",
    "    ALL_NODES,\n",
    "    ALL_NODES_MINIMUM_1000_EXAMPLES,\n",
    "    ALL_DAYS\n",
    ")\n",
    "\n",
    "from steves_utils.ORACLE.utils_v2 import (\n",
    "    ALL_DISTANCES_FEET_NARROWED,\n",
    "    ALL_RUNS,\n",
    "    ALL_SERIAL_NUMBERS,\n",
    ")\n",
    "\n",
    "standalone_parameters = {}\n",
    "standalone_parameters[\"experiment_name\"] = \"STANDALONE PTN\"\n",
    "standalone_parameters[\"lr\"] = 0.001\n",
    "standalone_parameters[\"device\"] = \"cuda\"\n",
    "\n",
    "standalone_parameters[\"seed\"] = 1337\n",
    "standalone_parameters[\"dataset_seed\"] = 1337\n",
    "\n",
    "standalone_parameters[\"n_way\"] = 8\n",
    "standalone_parameters[\"n_shot\"] = 3\n",
    "standalone_parameters[\"n_query\"]  = 2\n",
    "standalone_parameters[\"train_k_factor\"] = 1\n",
    "standalone_parameters[\"val_k_factor\"] = 2\n",
    "standalone_parameters[\"test_k_factor\"] = 2\n",
    "\n",
    "\n",
    "standalone_parameters[\"n_epoch\"] = 50\n",
    "\n",
    "standalone_parameters[\"patience\"] = 10\n",
    "standalone_parameters[\"criteria_for_best\"] = \"source_loss\"\n",
    "\n",
    "standalone_parameters[\"datasets\"] = [\n",
    "    {\n",
    "        \"labels\": ALL_SERIAL_NUMBERS,\n",
    "        \"domains\": ALL_DISTANCES_FEET_NARROWED,\n",
    "        \"num_examples_per_domain_per_label\": 100,\n",
    "        \"pickle_path\": os.path.join(get_datasets_base_path(), \"oracle.Run1_framed_2000Examples_stratified_ds.2022A.pkl\"),\n",
    "        \"source_or_target_dataset\": \"source\",\n",
    "        \"x_transforms\": [\"unit_mag\", \"minus_two\"],\n",
    "        \"episode_transforms\": [],\n",
    "        \"domain_prefix\": \"ORACLE_\"\n",
    "    },\n",
    "    {\n",
    "        \"labels\": ALL_NODES,\n",
    "        \"domains\": ALL_DAYS,\n",
    "        \"num_examples_per_domain_per_label\": 100,\n",
    "        \"pickle_path\": os.path.join(get_datasets_base_path(), \"cores.stratified_ds.2022A.pkl\"),\n",
    "        \"source_or_target_dataset\": \"target\",\n",
    "        \"x_transforms\": [\"unit_power\", \"times_zero\"],\n",
    "        \"episode_transforms\": [],\n",
    "        \"domain_prefix\": \"CORES_\"\n",
    "    }   \n",
    "]\n",
    "\n",
    "standalone_parameters[\"torch_default_dtype\"] = \"torch.float32\" \n",
    "\n",
    "\n",
    "\n",
    "standalone_parameters[\"x_net\"] =     [\n",
    "    {\"class\": \"nnReshape\", \"kargs\": {\"shape\":[-1, 1, 2, 256]}},\n",
    "    {\"class\": \"Conv2d\", \"kargs\": { \"in_channels\":1, \"out_channels\":256, \"kernel_size\":(1,7), \"bias\":False, \"padding\":(0,3), },},\n",
    "    {\"class\": \"ReLU\", \"kargs\": {\"inplace\": True}},\n",
    "    {\"class\": \"BatchNorm2d\", \"kargs\": {\"num_features\":256}},\n",
    "\n",
    "    {\"class\": \"Conv2d\", \"kargs\": { \"in_channels\":256, \"out_channels\":80, \"kernel_size\":(2,7), \"bias\":True, \"padding\":(0,3), },},\n",
    "    {\"class\": \"ReLU\", \"kargs\": {\"inplace\": True}},\n",
    "    {\"class\": \"BatchNorm2d\", \"kargs\": {\"num_features\":80}},\n",
    "    {\"class\": \"Flatten\", \"kargs\": {}},\n",
    "\n",
    "    {\"class\": \"Linear\", \"kargs\": {\"in_features\": 80*256, \"out_features\": 256}}, # 80 units per IQ pair\n",
    "    {\"class\": \"ReLU\", \"kargs\": {\"inplace\": True}},\n",
    "    {\"class\": \"BatchNorm1d\", \"kargs\": {\"num_features\":256}},\n",
    "\n",
    "    {\"class\": \"Linear\", \"kargs\": {\"in_features\": 256, \"out_features\": 256}},\n",
    "]\n",
    "\n",
    "# Parameters relevant to results\n",
    "# These parameters will basically never need to change\n",
    "standalone_parameters[\"NUM_LOGS_PER_EPOCH\"] = 10\n",
    "standalone_parameters[\"BEST_MODEL_PATH\"] = \"./best_model.pth\"\n",
    "\n",
    "\n",
    "\n",
    "\n"
   ]
  },
  {
   "cell_type": "code",
   "execution_count": 4,
   "id": "611761f6",
   "metadata": {
    "execution": {
     "iopub.execute_input": "2022-03-25T07:50:31.897857Z",
     "iopub.status.busy": "2022-03-25T07:50:31.897391Z",
     "iopub.status.idle": "2022-03-25T07:50:31.909499Z",
     "shell.execute_reply": "2022-03-25T07:50:31.909706Z"
    },
    "papermill": {
     "duration": 0.031211,
     "end_time": "2022-03-25T07:50:31.909780",
     "exception": false,
     "start_time": "2022-03-25T07:50:31.878569",
     "status": "completed"
    },
    "tags": [
     "injected-parameters"
    ]
   },
   "outputs": [],
   "source": [
    "# Parameters\n",
    "parameters = {\n",
    "    \"experiment_name\": \"tl_3Av2:oracle.run1.framed -> cores\",\n",
    "    \"device\": \"cuda\",\n",
    "    \"lr\": 0.0001,\n",
    "    \"x_shape\": [2, 200],\n",
    "    \"n_shot\": 3,\n",
    "    \"n_query\": 2,\n",
    "    \"train_k_factor\": 3,\n",
    "    \"val_k_factor\": 2,\n",
    "    \"test_k_factor\": 2,\n",
    "    \"torch_default_dtype\": \"torch.float32\",\n",
    "    \"n_epoch\": 50,\n",
    "    \"patience\": 3,\n",
    "    \"criteria_for_best\": \"target_accuracy\",\n",
    "    \"x_net\": [\n",
    "        {\"class\": \"nnReshape\", \"kargs\": {\"shape\": [-1, 1, 2, 200]}},\n",
    "        {\n",
    "            \"class\": \"Conv2d\",\n",
    "            \"kargs\": {\n",
    "                \"in_channels\": 1,\n",
    "                \"out_channels\": 256,\n",
    "                \"kernel_size\": [1, 7],\n",
    "                \"bias\": False,\n",
    "                \"padding\": [0, 3],\n",
    "            },\n",
    "        },\n",
    "        {\"class\": \"ReLU\", \"kargs\": {\"inplace\": True}},\n",
    "        {\"class\": \"BatchNorm2d\", \"kargs\": {\"num_features\": 256}},\n",
    "        {\n",
    "            \"class\": \"Conv2d\",\n",
    "            \"kargs\": {\n",
    "                \"in_channels\": 256,\n",
    "                \"out_channels\": 80,\n",
    "                \"kernel_size\": [2, 7],\n",
    "                \"bias\": True,\n",
    "                \"padding\": [0, 3],\n",
    "            },\n",
    "        },\n",
    "        {\"class\": \"ReLU\", \"kargs\": {\"inplace\": True}},\n",
    "        {\"class\": \"BatchNorm2d\", \"kargs\": {\"num_features\": 80}},\n",
    "        {\"class\": \"Flatten\", \"kargs\": {}},\n",
    "        {\"class\": \"Linear\", \"kargs\": {\"in_features\": 16000, \"out_features\": 256}},\n",
    "        {\"class\": \"ReLU\", \"kargs\": {\"inplace\": True}},\n",
    "        {\"class\": \"BatchNorm1d\", \"kargs\": {\"num_features\": 256}},\n",
    "        {\"class\": \"Linear\", \"kargs\": {\"in_features\": 256, \"out_features\": 256}},\n",
    "    ],\n",
    "    \"NUM_LOGS_PER_EPOCH\": 10,\n",
    "    \"BEST_MODEL_PATH\": \"./best_model.pth\",\n",
    "    \"n_way\": 16,\n",
    "    \"datasets\": [\n",
    "        {\n",
    "            \"labels\": [\n",
    "                \"1-10.\",\n",
    "                \"1-11.\",\n",
    "                \"1-15.\",\n",
    "                \"1-16.\",\n",
    "                \"1-17.\",\n",
    "                \"1-18.\",\n",
    "                \"1-19.\",\n",
    "                \"10-4.\",\n",
    "                \"10-7.\",\n",
    "                \"11-1.\",\n",
    "                \"11-14.\",\n",
    "                \"11-17.\",\n",
    "                \"11-20.\",\n",
    "                \"11-7.\",\n",
    "                \"13-20.\",\n",
    "                \"13-8.\",\n",
    "                \"14-10.\",\n",
    "                \"14-11.\",\n",
    "                \"14-14.\",\n",
    "                \"14-7.\",\n",
    "                \"15-1.\",\n",
    "                \"15-20.\",\n",
    "                \"16-1.\",\n",
    "                \"16-16.\",\n",
    "                \"17-10.\",\n",
    "                \"17-11.\",\n",
    "                \"17-2.\",\n",
    "                \"19-1.\",\n",
    "                \"19-16.\",\n",
    "                \"19-19.\",\n",
    "                \"19-20.\",\n",
    "                \"19-3.\",\n",
    "                \"2-10.\",\n",
    "                \"2-11.\",\n",
    "                \"2-17.\",\n",
    "                \"2-18.\",\n",
    "                \"2-20.\",\n",
    "                \"2-3.\",\n",
    "                \"2-4.\",\n",
    "                \"2-5.\",\n",
    "                \"2-6.\",\n",
    "                \"2-7.\",\n",
    "                \"2-8.\",\n",
    "                \"3-13.\",\n",
    "                \"3-18.\",\n",
    "                \"3-3.\",\n",
    "                \"4-1.\",\n",
    "                \"4-10.\",\n",
    "                \"4-11.\",\n",
    "                \"4-19.\",\n",
    "                \"5-5.\",\n",
    "                \"6-15.\",\n",
    "                \"7-10.\",\n",
    "                \"7-14.\",\n",
    "                \"8-18.\",\n",
    "                \"8-20.\",\n",
    "                \"8-3.\",\n",
    "                \"8-8.\",\n",
    "            ],\n",
    "            \"domains\": [1, 2, 3, 4, 5],\n",
    "            \"num_examples_per_domain_per_label\": -1,\n",
    "            \"pickle_path\": \"/mnt/wd500GB/CSC500/csc500-main/datasets/cores.stratified_ds.2022A.pkl\",\n",
    "            \"source_or_target_dataset\": \"target\",\n",
    "            \"x_transforms\": [\"unit_mag\", \"take_200\"],\n",
    "            \"episode_transforms\": [],\n",
    "            \"domain_prefix\": \"C_\",\n",
    "        },\n",
    "        {\n",
    "            \"labels\": [\n",
    "                \"3123D52\",\n",
    "                \"3123D65\",\n",
    "                \"3123D79\",\n",
    "                \"3123D80\",\n",
    "                \"3123D54\",\n",
    "                \"3123D70\",\n",
    "                \"3123D7B\",\n",
    "                \"3123D89\",\n",
    "                \"3123D58\",\n",
    "                \"3123D76\",\n",
    "                \"3123D7D\",\n",
    "                \"3123EFE\",\n",
    "                \"3123D64\",\n",
    "                \"3123D78\",\n",
    "                \"3123D7E\",\n",
    "                \"3124E4A\",\n",
    "            ],\n",
    "            \"domains\": [32, 38, 8, 44, 14, 50, 20, 26],\n",
    "            \"num_examples_per_domain_per_label\": 2000,\n",
    "            \"pickle_path\": \"/mnt/wd500GB/CSC500/csc500-main/datasets/oracle.Run1_framed_2000Examples_stratified_ds.2022A.pkl\",\n",
    "            \"source_or_target_dataset\": \"source\",\n",
    "            \"x_transforms\": [\"unit_mag\", \"take_200\", \"resample_20Msps_to_25Msps\"],\n",
    "            \"episode_transforms\": [],\n",
    "            \"domain_prefix\": \"O_\",\n",
    "        },\n",
    "    ],\n",
    "    \"seed\": 1337,\n",
    "    \"dataset_seed\": 1337,\n",
    "}\n"
   ]
  },
  {
   "cell_type": "code",
   "execution_count": 5,
   "id": "8fa1cc33",
   "metadata": {
    "execution": {
     "iopub.execute_input": "2022-03-25T07:50:31.937795Z",
     "iopub.status.busy": "2022-03-25T07:50:31.937390Z",
     "iopub.status.idle": "2022-03-25T07:50:31.948557Z",
     "shell.execute_reply": "2022-03-25T07:50:31.948776Z"
    },
    "papermill": {
     "duration": 0.026439,
     "end_time": "2022-03-25T07:50:31.948847",
     "exception": false,
     "start_time": "2022-03-25T07:50:31.922408",
     "status": "completed"
    },
    "tags": []
   },
   "outputs": [],
   "source": [
    "# Set this to True if you want to run this template directly\n",
    "STANDALONE = False\n",
    "if STANDALONE:\n",
    "    print(\"parameters not injected, running with standalone_parameters\")\n",
    "    parameters = standalone_parameters\n",
    "\n",
    "if not 'parameters' in locals() and not 'parameters' in globals():\n",
    "    raise Exception(\"Parameter injection failed\")\n",
    "\n",
    "#Use an easy dict for all the parameters\n",
    "p = EasyDict(parameters)\n",
    "\n",
    "if \"x_shape\" not in p:\n",
    "    p.x_shape = [2,256] # Default to this if we dont supply x_shape\n",
    "\n",
    "\n",
    "supplied_keys = set(p.keys())\n",
    "\n",
    "if  supplied_keys != required_parameters:\n",
    "    print(\"Parameters are incorrect\")\n",
    "    if len(supplied_keys - required_parameters)>0: print(\"Shouldn't have:\", str(supplied_keys - required_parameters))\n",
    "    if len(required_parameters - supplied_keys)>0: print(\"Need to have:\", str(required_parameters - supplied_keys))\n",
    "    raise RuntimeError(\"Parameters are incorrect\")"
   ]
  },
  {
   "cell_type": "code",
   "execution_count": 6,
   "id": "3a028d58",
   "metadata": {
    "execution": {
     "iopub.execute_input": "2022-03-25T07:50:31.977404Z",
     "iopub.status.busy": "2022-03-25T07:50:31.977011Z",
     "iopub.status.idle": "2022-03-25T07:50:31.988388Z",
     "shell.execute_reply": "2022-03-25T07:50:31.988096Z"
    },
    "papermill": {
     "duration": 0.025535,
     "end_time": "2022-03-25T07:50:31.988450",
     "exception": false,
     "start_time": "2022-03-25T07:50:31.962915",
     "status": "completed"
    },
    "tags": []
   },
   "outputs": [],
   "source": [
    "###################################\n",
    "# Set the RNGs and make it all deterministic\n",
    "###################################\n",
    "np.random.seed(p.seed)\n",
    "random.seed(p.seed)\n",
    "torch.manual_seed(p.seed)\n",
    "\n",
    "torch.use_deterministic_algorithms(True) "
   ]
  },
  {
   "cell_type": "code",
   "execution_count": 7,
   "id": "b691acf6",
   "metadata": {
    "execution": {
     "iopub.execute_input": "2022-03-25T07:50:32.017411Z",
     "iopub.status.busy": "2022-03-25T07:50:32.017015Z",
     "iopub.status.idle": "2022-03-25T07:50:32.027736Z",
     "shell.execute_reply": "2022-03-25T07:50:32.027951Z"
    },
    "papermill": {
     "duration": 0.025218,
     "end_time": "2022-03-25T07:50:32.028020",
     "exception": false,
     "start_time": "2022-03-25T07:50:32.002802",
     "status": "completed"
    },
    "tags": []
   },
   "outputs": [],
   "source": [
    "###########################################\n",
    "# The stratified datasets honor this\n",
    "###########################################\n",
    "torch.set_default_dtype(eval(p.torch_default_dtype))"
   ]
  },
  {
   "cell_type": "code",
   "execution_count": 8,
   "id": "b5fba671",
   "metadata": {
    "execution": {
     "iopub.execute_input": "2022-03-25T07:50:32.055404Z",
     "iopub.status.busy": "2022-03-25T07:50:32.055011Z",
     "iopub.status.idle": "2022-03-25T07:50:32.087408Z",
     "shell.execute_reply": "2022-03-25T07:50:32.087124Z"
    },
    "papermill": {
     "duration": 0.046711,
     "end_time": "2022-03-25T07:50:32.087471",
     "exception": false,
     "start_time": "2022-03-25T07:50:32.040760",
     "status": "completed"
    },
    "tags": []
   },
   "outputs": [],
   "source": [
    "###################################\n",
    "# Build the network(s)\n",
    "# Note: It's critical to do this AFTER setting the RNG\n",
    "###################################\n",
    "x_net = build_sequential(p.x_net)"
   ]
  },
  {
   "cell_type": "code",
   "execution_count": 9,
   "id": "5d7e61cc",
   "metadata": {
    "execution": {
     "iopub.execute_input": "2022-03-25T07:50:32.119266Z",
     "iopub.status.busy": "2022-03-25T07:50:32.118874Z",
     "iopub.status.idle": "2022-03-25T07:50:32.130246Z",
     "shell.execute_reply": "2022-03-25T07:50:32.129959Z"
    },
    "papermill": {
     "duration": 0.025921,
     "end_time": "2022-03-25T07:50:32.130304",
     "exception": false,
     "start_time": "2022-03-25T07:50:32.104383",
     "status": "completed"
    },
    "tags": []
   },
   "outputs": [],
   "source": [
    "start_time_secs = time.time()"
   ]
  },
  {
   "cell_type": "code",
   "execution_count": 10,
   "id": "c6b67dfd",
   "metadata": {
    "execution": {
     "iopub.execute_input": "2022-03-25T07:50:32.158430Z",
     "iopub.status.busy": "2022-03-25T07:50:32.158033Z",
     "iopub.status.idle": "2022-03-25T07:50:32.169141Z",
     "shell.execute_reply": "2022-03-25T07:50:32.168876Z"
    },
    "papermill": {
     "duration": 0.025933,
     "end_time": "2022-03-25T07:50:32.169196",
     "exception": false,
     "start_time": "2022-03-25T07:50:32.143263",
     "status": "completed"
    },
    "tags": []
   },
   "outputs": [],
   "source": [
    "p.domains_source = []\n",
    "p.domains_target = []\n",
    "\n",
    "\n",
    "train_original_source = []\n",
    "val_original_source   = []\n",
    "test_original_source  = []\n",
    "\n",
    "train_original_target = []\n",
    "val_original_target   = []\n",
    "test_original_target  = []"
   ]
  },
  {
   "cell_type": "code",
   "execution_count": 11,
   "id": "e3d9c3d3",
   "metadata": {
    "execution": {
     "iopub.execute_input": "2022-03-25T07:50:32.198069Z",
     "iopub.status.busy": "2022-03-25T07:50:32.197642Z",
     "iopub.status.idle": "2022-03-25T07:50:32.208309Z",
     "shell.execute_reply": "2022-03-25T07:50:32.208525Z"
    },
    "papermill": {
     "duration": 0.025081,
     "end_time": "2022-03-25T07:50:32.208593",
     "exception": false,
     "start_time": "2022-03-25T07:50:32.183512",
     "status": "completed"
    },
    "tags": []
   },
   "outputs": [],
   "source": [
    "# global_x_transform_func = lambda x: normalize(x.to(torch.get_default_dtype()), \"unit_power\") # unit_power, unit_mag\n",
    "# global_x_transform_func = lambda x: normalize(x, \"unit_power\") # unit_power, unit_mag"
   ]
  },
  {
   "cell_type": "code",
   "execution_count": 12,
   "id": "acb78fd2",
   "metadata": {
    "execution": {
     "iopub.execute_input": "2022-03-25T07:50:32.241430Z",
     "iopub.status.busy": "2022-03-25T07:50:32.241020Z",
     "iopub.status.idle": "2022-03-25T07:50:32.252651Z",
     "shell.execute_reply": "2022-03-25T07:50:32.252417Z"
    },
    "papermill": {
     "duration": 0.029028,
     "end_time": "2022-03-25T07:50:32.252710",
     "exception": false,
     "start_time": "2022-03-25T07:50:32.223682",
     "status": "completed"
    },
    "tags": []
   },
   "outputs": [],
   "source": [
    "def add_dataset(\n",
    "    labels,\n",
    "    domains,\n",
    "    pickle_path,\n",
    "    x_transforms,\n",
    "    episode_transforms,\n",
    "    domain_prefix,\n",
    "    num_examples_per_domain_per_label,\n",
    "    source_or_target_dataset:str,\n",
    "    iterator_seed=p.seed,\n",
    "    dataset_seed=p.dataset_seed,\n",
    "    n_shot=p.n_shot,\n",
    "    n_way=p.n_way,\n",
    "    n_query=p.n_query,\n",
    "    train_val_test_k_factors=(p.train_k_factor,p.val_k_factor,p.test_k_factor),\n",
    "):\n",
    "   \n",
    "    if x_transforms == []: x_transform = None\n",
    "    else: x_transform = get_chained_transform(x_transforms)\n",
    "    \n",
    "    if episode_transforms == []: episode_transform = None\n",
    "    else: raise Exception(\"episode_transforms not implemented\")\n",
    "    \n",
    "    episode_transform = lambda tup, _prefix=domain_prefix: (_prefix + str(tup[0]), tup[1])\n",
    "\n",
    "\n",
    "    eaf = Episodic_Accessor_Factory(\n",
    "        labels=labels,\n",
    "        domains=domains,\n",
    "        num_examples_per_domain_per_label=num_examples_per_domain_per_label,\n",
    "        iterator_seed=iterator_seed,\n",
    "        dataset_seed=dataset_seed,\n",
    "        n_shot=n_shot,\n",
    "        n_way=n_way,\n",
    "        n_query=n_query,\n",
    "        train_val_test_k_factors=train_val_test_k_factors,\n",
    "        pickle_path=pickle_path,\n",
    "        x_transform_func=x_transform,\n",
    "    )\n",
    "\n",
    "    train, val, test = eaf.get_train(), eaf.get_val(), eaf.get_test()\n",
    "    train = Lazy_Iterable_Wrapper(train, episode_transform)\n",
    "    val = Lazy_Iterable_Wrapper(val, episode_transform)\n",
    "    test = Lazy_Iterable_Wrapper(test, episode_transform)\n",
    "\n",
    "    if source_or_target_dataset==\"source\":\n",
    "        train_original_source.append(train)\n",
    "        val_original_source.append(val)\n",
    "        test_original_source.append(test)\n",
    "\n",
    "        p.domains_source.extend(\n",
    "            [domain_prefix + str(u) for u in domains]\n",
    "        )\n",
    "    elif source_or_target_dataset==\"target\":\n",
    "        train_original_target.append(train)\n",
    "        val_original_target.append(val)\n",
    "        test_original_target.append(test)\n",
    "        p.domains_target.extend(\n",
    "            [domain_prefix + str(u) for u in domains]\n",
    "        )\n",
    "    else:\n",
    "        raise Exception(f\"invalid source_or_target_dataset: {source_or_target_dataset}\")\n",
    "    "
   ]
  },
  {
   "cell_type": "code",
   "execution_count": 13,
   "id": "fe266617",
   "metadata": {
    "execution": {
     "iopub.execute_input": "2022-03-25T07:50:32.280850Z",
     "iopub.status.busy": "2022-03-25T07:50:32.280457Z",
     "iopub.status.idle": "2022-03-25T07:51:20.234928Z",
     "shell.execute_reply": "2022-03-25T07:51:20.234475Z"
    },
    "papermill": {
     "duration": 47.969147,
     "end_time": "2022-03-25T07:51:20.235028",
     "exception": false,
     "start_time": "2022-03-25T07:50:32.265881",
     "status": "completed"
    },
    "tags": []
   },
   "outputs": [],
   "source": [
    "for ds in p.datasets:\n",
    "    add_dataset(**ds)"
   ]
  },
  {
   "cell_type": "code",
   "execution_count": 14,
   "id": "b90d65ac",
   "metadata": {
    "execution": {
     "iopub.execute_input": "2022-03-25T07:51:20.267262Z",
     "iopub.status.busy": "2022-03-25T07:51:20.266757Z",
     "iopub.status.idle": "2022-03-25T07:51:20.278069Z",
     "shell.execute_reply": "2022-03-25T07:51:20.277569Z"
    },
    "papermill": {
     "duration": 0.026258,
     "end_time": "2022-03-25T07:51:20.278174",
     "exception": false,
     "start_time": "2022-03-25T07:51:20.251916",
     "status": "completed"
    },
    "tags": []
   },
   "outputs": [],
   "source": [
    "# from steves_utils.CORES.utils import (\n",
    "#     ALL_NODES,\n",
    "#     ALL_NODES_MINIMUM_1000_EXAMPLES,\n",
    "#     ALL_DAYS\n",
    "# )\n",
    "\n",
    "# add_dataset(\n",
    "#     labels=ALL_NODES,\n",
    "#     domains = ALL_DAYS,\n",
    "#     num_examples_per_domain_per_label=100,\n",
    "#     pickle_path=os.path.join(get_datasets_base_path(), \"cores.stratified_ds.2022A.pkl\"),\n",
    "#     source_or_target_dataset=\"target\",\n",
    "#     x_transform_func=global_x_transform_func,\n",
    "#     domain_modifier=lambda u: f\"cores_{u}\"\n",
    "# )"
   ]
  },
  {
   "cell_type": "code",
   "execution_count": 15,
   "id": "76db484d",
   "metadata": {
    "execution": {
     "iopub.execute_input": "2022-03-25T07:51:20.318813Z",
     "iopub.status.busy": "2022-03-25T07:51:20.318559Z",
     "iopub.status.idle": "2022-03-25T07:51:20.323190Z",
     "shell.execute_reply": "2022-03-25T07:51:20.322945Z"
    },
    "papermill": {
     "duration": 0.028005,
     "end_time": "2022-03-25T07:51:20.323238",
     "exception": false,
     "start_time": "2022-03-25T07:51:20.295233",
     "status": "completed"
    },
    "tags": []
   },
   "outputs": [],
   "source": [
    "# from steves_utils.ORACLE.utils_v2 import (\n",
    "#     ALL_DISTANCES_FEET,\n",
    "#     ALL_RUNS,\n",
    "#     ALL_SERIAL_NUMBERS,\n",
    "# )\n",
    "\n",
    "\n",
    "# add_dataset(\n",
    "#     labels=ALL_SERIAL_NUMBERS,\n",
    "#     domains = list(set(ALL_DISTANCES_FEET) - {2,62}),\n",
    "#     num_examples_per_domain_per_label=100,\n",
    "#     pickle_path=os.path.join(get_datasets_base_path(), \"oracle.Run2_framed_2000Examples_stratified_ds.2022A.pkl\"),\n",
    "#     source_or_target_dataset=\"source\",\n",
    "#     x_transform_func=global_x_transform_func,\n",
    "#     domain_modifier=lambda u: f\"oracle1_{u}\"\n",
    "# )\n"
   ]
  },
  {
   "cell_type": "code",
   "execution_count": 16,
   "id": "97dea9d2",
   "metadata": {
    "execution": {
     "iopub.execute_input": "2022-03-25T07:51:20.359173Z",
     "iopub.status.busy": "2022-03-25T07:51:20.358922Z",
     "iopub.status.idle": "2022-03-25T07:51:20.364842Z",
     "shell.execute_reply": "2022-03-25T07:51:20.365046Z"
    },
    "papermill": {
     "duration": 0.02863,
     "end_time": "2022-03-25T07:51:20.365101",
     "exception": false,
     "start_time": "2022-03-25T07:51:20.336471",
     "status": "completed"
    },
    "tags": []
   },
   "outputs": [],
   "source": [
    "# from steves_utils.ORACLE.utils_v2 import (\n",
    "#     ALL_DISTANCES_FEET,\n",
    "#     ALL_RUNS,\n",
    "#     ALL_SERIAL_NUMBERS,\n",
    "# )\n",
    "\n",
    "\n",
    "# add_dataset(\n",
    "#     labels=ALL_SERIAL_NUMBERS,\n",
    "#     domains = list(set(ALL_DISTANCES_FEET) - {2,62,56}),\n",
    "#     num_examples_per_domain_per_label=100,\n",
    "#     pickle_path=os.path.join(get_datasets_base_path(), \"oracle.Run2_framed_2000Examples_stratified_ds.2022A.pkl\"),\n",
    "#     source_or_target_dataset=\"source\",\n",
    "#     x_transform_func=global_x_transform_func,\n",
    "#     domain_modifier=lambda u: f\"oracle2_{u}\"\n",
    "# )"
   ]
  },
  {
   "cell_type": "code",
   "execution_count": 17,
   "id": "6f289866",
   "metadata": {
    "execution": {
     "iopub.execute_input": "2022-03-25T07:51:20.401815Z",
     "iopub.status.busy": "2022-03-25T07:51:20.393535Z",
     "iopub.status.idle": "2022-03-25T07:51:20.407837Z",
     "shell.execute_reply": "2022-03-25T07:51:20.407615Z"
    },
    "papermill": {
     "duration": 0.029305,
     "end_time": "2022-03-25T07:51:20.407886",
     "exception": false,
     "start_time": "2022-03-25T07:51:20.378581",
     "status": "completed"
    },
    "tags": []
   },
   "outputs": [],
   "source": [
    "# add_dataset(\n",
    "#     labels=list(range(19)),\n",
    "#     domains = [0,1,2],\n",
    "#     num_examples_per_domain_per_label=100,\n",
    "#     pickle_path=os.path.join(get_datasets_base_path(), \"metehan.stratified_ds.2022A.pkl\"),\n",
    "#     source_or_target_dataset=\"target\",\n",
    "#     x_transform_func=global_x_transform_func,\n",
    "#     domain_modifier=lambda u: f\"met_{u}\"\n",
    "# )"
   ]
  },
  {
   "cell_type": "code",
   "execution_count": 18,
   "id": "86a863c3",
   "metadata": {
    "execution": {
     "iopub.execute_input": "2022-03-25T07:51:20.443633Z",
     "iopub.status.busy": "2022-03-25T07:51:20.443380Z",
     "iopub.status.idle": "2022-03-25T07:51:20.449635Z",
     "shell.execute_reply": "2022-03-25T07:51:20.449843Z"
    },
    "papermill": {
     "duration": 0.028426,
     "end_time": "2022-03-25T07:51:20.449899",
     "exception": false,
     "start_time": "2022-03-25T07:51:20.421473",
     "status": "completed"
    },
    "tags": []
   },
   "outputs": [],
   "source": [
    "# # from steves_utils.wisig.utils import (\n",
    "# #     ALL_NODES_MINIMUM_100_EXAMPLES,\n",
    "# #     ALL_NODES_MINIMUM_500_EXAMPLES,\n",
    "# #     ALL_NODES_MINIMUM_1000_EXAMPLES,\n",
    "# #     ALL_DAYS\n",
    "# # )\n",
    "\n",
    "# import steves_utils.wisig.utils as wisig\n",
    "\n",
    "\n",
    "# add_dataset(\n",
    "#     labels=wisig.ALL_NODES_MINIMUM_100_EXAMPLES,\n",
    "#     domains = wisig.ALL_DAYS,\n",
    "#     num_examples_per_domain_per_label=100,\n",
    "#     pickle_path=os.path.join(get_datasets_base_path(), \"wisig.node3-19.stratified_ds.2022A.pkl\"),\n",
    "#     source_or_target_dataset=\"target\",\n",
    "#     x_transform_func=global_x_transform_func,\n",
    "#     domain_modifier=lambda u: f\"wisig_{u}\"\n",
    "# )"
   ]
  },
  {
   "cell_type": "code",
   "execution_count": 19,
   "id": "fd5442bc",
   "metadata": {
    "execution": {
     "iopub.execute_input": "2022-03-25T07:51:20.480424Z",
     "iopub.status.busy": "2022-03-25T07:51:20.480165Z",
     "iopub.status.idle": "2022-03-25T07:51:20.490998Z",
     "shell.execute_reply": "2022-03-25T07:51:20.490747Z"
    },
    "papermill": {
     "duration": 0.027584,
     "end_time": "2022-03-25T07:51:20.491046",
     "exception": false,
     "start_time": "2022-03-25T07:51:20.463462",
     "status": "completed"
    },
    "tags": []
   },
   "outputs": [],
   "source": [
    "###################################\n",
    "# Build the dataset\n",
    "###################################\n",
    "train_original_source = Iterable_Aggregator(train_original_source, p.seed)\n",
    "val_original_source = Iterable_Aggregator(val_original_source, p.seed)\n",
    "test_original_source = Iterable_Aggregator(test_original_source, p.seed)\n",
    "\n",
    "\n",
    "train_original_target = Iterable_Aggregator(train_original_target, p.seed)\n",
    "val_original_target = Iterable_Aggregator(val_original_target, p.seed)\n",
    "test_original_target = Iterable_Aggregator(test_original_target, p.seed)\n",
    "\n",
    "# For CNN We only use X and Y. And we only train on the source.\n",
    "# Properly form the data using a transform lambda and Lazy_Iterable_Wrapper. Finally wrap them in a dataloader\n",
    "\n",
    "transform_lambda = lambda ex: ex[1] # Original is (<domain>, <episode>) so we strip down to episode only\n",
    "\n",
    "train_processed_source = Lazy_Iterable_Wrapper(train_original_source, transform_lambda)\n",
    "val_processed_source   = Lazy_Iterable_Wrapper(val_original_source, transform_lambda)\n",
    "test_processed_source  = Lazy_Iterable_Wrapper(test_original_source, transform_lambda)\n",
    "\n",
    "train_processed_target = Lazy_Iterable_Wrapper(train_original_target, transform_lambda)\n",
    "val_processed_target   = Lazy_Iterable_Wrapper(val_original_target, transform_lambda)\n",
    "test_processed_target  = Lazy_Iterable_Wrapper(test_original_target, transform_lambda)\n",
    "\n",
    "datasets = EasyDict({\n",
    "    \"source\": {\n",
    "        \"original\": {\"train\":train_original_source, \"val\":val_original_source, \"test\":test_original_source},\n",
    "        \"processed\": {\"train\":train_processed_source, \"val\":val_processed_source, \"test\":test_processed_source}\n",
    "    },\n",
    "    \"target\": {\n",
    "        \"original\": {\"train\":train_original_target, \"val\":val_original_target, \"test\":test_original_target},\n",
    "        \"processed\": {\"train\":train_processed_target, \"val\":val_processed_target, \"test\":test_processed_target}\n",
    "    },\n",
    "})"
   ]
  },
  {
   "cell_type": "code",
   "execution_count": 20,
   "id": "5b3c01fc",
   "metadata": {
    "execution": {
     "iopub.execute_input": "2022-03-25T07:51:20.527675Z",
     "iopub.status.busy": "2022-03-25T07:51:20.527425Z",
     "iopub.status.idle": "2022-03-25T07:51:26.729995Z",
     "shell.execute_reply": "2022-03-25T07:51:26.730336Z"
    },
    "papermill": {
     "duration": 6.225681,
     "end_time": "2022-03-25T07:51:26.730443",
     "exception": false,
     "start_time": "2022-03-25T07:51:20.504762",
     "status": "completed"
    },
    "tags": []
   },
   "outputs": [
    {
     "name": "stdout",
     "output_type": "stream",
     "text": [
      "{'O_14', 'O_32', 'O_8', 'O_26', 'O_20', 'O_44', 'O_38', 'O_50'}\n"
     ]
    },
    {
     "name": "stdout",
     "output_type": "stream",
     "text": [
      "{'C_1', 'C_3', 'C_4', 'C_5', 'C_2'}\n"
     ]
    },
    {
     "name": "stdout",
     "output_type": "stream",
     "text": [
      "tensor([[[-0.0971,  1.1311,  0.6428,  ...,  0.6900,  0.5495,  0.7515],\n",
      "         [-0.6699, -0.6023,  0.7298,  ..., -0.1188,  1.1722,  0.1223]],\n",
      "\n",
      "        [[-0.4650,  0.4729,  0.8381,  ...,  1.1898,  0.5315,  0.0195],\n",
      "         [-1.1721, -0.8223,  0.9095,  ..., -0.4716, -0.6551, -1.4318]],\n",
      "\n",
      "        [[ 0.6704, -0.0551, -0.9197,  ..., -0.8651, -0.9602, -0.1043],\n",
      "         [ 0.8524,  1.1014, -0.5470,  ...,  0.4879,  0.2662,  1.2135]],\n",
      "\n",
      "        ...,\n",
      "\n",
      "        [[ 1.0094,  0.2418, -1.2327,  ..., -0.7204, -0.1579,  0.9442],\n",
      "         [ 0.5694,  0.9394, -0.0507,  ...,  1.0085,  0.7567,  1.0278]],\n",
      "\n",
      "        [[ 0.0259, -1.0459, -0.2935,  ..., -0.8818, -0.8675, -0.9829],\n",
      "         [ 0.8104,  0.8015, -0.7676,  ..., -0.1278, -0.7103,  0.6759]],\n",
      "\n",
      "        [[ 0.4981,  0.4795, -0.3590,  ...,  0.5028, -1.2225, -0.6749],\n",
      "         [-0.4260,  0.9681,  0.7596,  ...,  0.6907,  0.2936,  0.4766]]])\n"
     ]
    }
   ],
   "source": [
    "from steves_utils.transforms import get_average_magnitude, get_average_power\n",
    "\n",
    "print(set([u for u,_ in val_original_source]))\n",
    "print(set([u for u,_ in val_original_target]))\n",
    "\n",
    "s_x, s_y, q_x, q_y, _ = next(iter(train_processed_source))\n",
    "print(s_x)\n",
    "\n",
    "# for ds in [\n",
    "#     train_processed_source,\n",
    "#     val_processed_source,\n",
    "#     test_processed_source,\n",
    "#     train_processed_target,\n",
    "#     val_processed_target,\n",
    "#     test_processed_target\n",
    "# ]:\n",
    "#     for s_x, s_y, q_x, q_y, _ in ds:\n",
    "#         for X in (s_x, q_x):\n",
    "#             for x in X:\n",
    "#                 assert np.isclose(get_average_magnitude(x.numpy()), 1.0)\n",
    "#                 assert np.isclose(get_average_power(x.numpy()), 1.0)\n",
    "                "
   ]
  },
  {
   "cell_type": "code",
   "execution_count": 21,
   "id": "bbdacba1",
   "metadata": {
    "execution": {
     "iopub.execute_input": "2022-03-25T07:51:26.767507Z",
     "iopub.status.busy": "2022-03-25T07:51:26.766996Z",
     "iopub.status.idle": "2022-03-25T07:51:26.816946Z",
     "shell.execute_reply": "2022-03-25T07:51:26.817373Z"
    },
    "papermill": {
     "duration": 0.06881,
     "end_time": "2022-03-25T07:51:26.817506",
     "exception": false,
     "start_time": "2022-03-25T07:51:26.748696",
     "status": "completed"
    },
    "tags": []
   },
   "outputs": [
    {
     "name": "stdout",
     "output_type": "stream",
     "text": [
      "(2, 200)\n"
     ]
    }
   ],
   "source": [
    "###################################\n",
    "# Build the model\n",
    "###################################\n",
    "# easfsl only wants a tuple for the shape\n",
    "model = Steves_Prototypical_Network(x_net, device=p.device, x_shape=tuple(p.x_shape))\n",
    "optimizer = Adam(params=model.parameters(), lr=p.lr)"
   ]
  },
  {
   "cell_type": "code",
   "execution_count": 22,
   "id": "22b39ac5",
   "metadata": {
    "execution": {
     "iopub.execute_input": "2022-03-25T07:51:26.855434Z",
     "iopub.status.busy": "2022-03-25T07:51:26.855171Z",
     "iopub.status.idle": "2022-03-25T08:40:31.924586Z",
     "shell.execute_reply": "2022-03-25T08:40:31.924352Z"
    },
    "papermill": {
     "duration": 2945.087173,
     "end_time": "2022-03-25T08:40:31.924642",
     "exception": false,
     "start_time": "2022-03-25T07:51:26.837469",
     "status": "completed"
    },
    "tags": []
   },
   "outputs": [
    {
     "name": "stdout",
     "output_type": "stream",
     "text": [
      "epoch: 1, [batch: 1 / 6720], examples_per_second: 47.4876, train_label_loss: 2.9630, \n"
     ]
    },
    {
     "name": "stdout",
     "output_type": "stream",
     "text": [
      "epoch: 1, [batch: 672 / 6720], examples_per_second: 3646.7154, train_label_loss: 1.0335, \n"
     ]
    },
    {
     "name": "stdout",
     "output_type": "stream",
     "text": [
      "epoch: 1, [batch: 1344 / 6720], examples_per_second: 3661.0735, train_label_loss: 0.7765, \n"
     ]
    },
    {
     "name": "stdout",
     "output_type": "stream",
     "text": [
      "epoch: 1, [batch: 2016 / 6720], examples_per_second: 3636.6749, train_label_loss: 0.7099, \n"
     ]
    },
    {
     "name": "stdout",
     "output_type": "stream",
     "text": [
      "epoch: 1, [batch: 2688 / 6720], examples_per_second: 3617.8499, train_label_loss: 1.1289, \n"
     ]
    },
    {
     "name": "stdout",
     "output_type": "stream",
     "text": [
      "epoch: 1, [batch: 3360 / 6720], examples_per_second: 3631.8179, train_label_loss: 1.0327, \n"
     ]
    },
    {
     "name": "stdout",
     "output_type": "stream",
     "text": [
      "epoch: 1, [batch: 4032 / 6720], examples_per_second: 3616.5844, train_label_loss: 0.9185, \n"
     ]
    },
    {
     "name": "stdout",
     "output_type": "stream",
     "text": [
      "epoch: 1, [batch: 4704 / 6720], examples_per_second: 3615.1265, train_label_loss: 0.6402, \n"
     ]
    },
    {
     "name": "stdout",
     "output_type": "stream",
     "text": [
      "epoch: 1, [batch: 5376 / 6720], examples_per_second: 3631.3634, train_label_loss: 0.8687, \n"
     ]
    },
    {
     "name": "stdout",
     "output_type": "stream",
     "text": [
      "epoch: 1, [batch: 6048 / 6720], examples_per_second: 3614.2494, train_label_loss: 0.5362, \n"
     ]
    },
    {
     "name": "stdout",
     "output_type": "stream",
     "text": [
      "=============================================================\n",
      "epoch: 1, source_val_acc_label: 0.5761, target_val_acc_label: 0.5962, source_val_label_loss: 51.1800, target_val_label_loss: 1475.1653, \n",
      "=============================================================\n"
     ]
    },
    {
     "name": "stdout",
     "output_type": "stream",
     "text": [
      "New best\n"
     ]
    },
    {
     "name": "stdout",
     "output_type": "stream",
     "text": [
      "epoch: 2, [batch: 1 / 6720], examples_per_second: 5.2398, train_label_loss: 91.5329, \n"
     ]
    },
    {
     "name": "stdout",
     "output_type": "stream",
     "text": [
      "epoch: 2, [batch: 672 / 6720], examples_per_second: 3642.3995, train_label_loss: 0.7966, \n"
     ]
    },
    {
     "name": "stdout",
     "output_type": "stream",
     "text": [
      "epoch: 2, [batch: 1344 / 6720], examples_per_second: 3640.1239, train_label_loss: 0.5969, \n"
     ]
    },
    {
     "name": "stdout",
     "output_type": "stream",
     "text": [
      "epoch: 2, [batch: 2016 / 6720], examples_per_second: 3640.3053, train_label_loss: 1.3707, \n"
     ]
    },
    {
     "name": "stdout",
     "output_type": "stream",
     "text": [
      "epoch: 2, [batch: 2688 / 6720], examples_per_second: 3633.3122, train_label_loss: 0.9669, \n"
     ]
    },
    {
     "name": "stdout",
     "output_type": "stream",
     "text": [
      "epoch: 2, [batch: 3360 / 6720], examples_per_second: 3640.1631, train_label_loss: 0.6532, \n"
     ]
    },
    {
     "name": "stdout",
     "output_type": "stream",
     "text": [
      "epoch: 2, [batch: 4032 / 6720], examples_per_second: 3650.0107, train_label_loss: 0.6084, \n"
     ]
    },
    {
     "name": "stdout",
     "output_type": "stream",
     "text": [
      "epoch: 2, [batch: 4704 / 6720], examples_per_second: 3622.9933, train_label_loss: 0.8858, \n"
     ]
    },
    {
     "name": "stdout",
     "output_type": "stream",
     "text": [
      "epoch: 2, [batch: 5376 / 6720], examples_per_second: 3636.8099, train_label_loss: 1.1341, \n"
     ]
    },
    {
     "name": "stdout",
     "output_type": "stream",
     "text": [
      "epoch: 2, [batch: 6048 / 6720], examples_per_second: 3643.3722, train_label_loss: 0.5739, \n"
     ]
    },
    {
     "name": "stdout",
     "output_type": "stream",
     "text": [
      "=============================================================\n",
      "epoch: 2, source_val_acc_label: 0.7479, target_val_acc_label: 0.6161, source_val_label_loss: 0.6986, target_val_label_loss: 86.8980, \n",
      "=============================================================\n"
     ]
    },
    {
     "name": "stdout",
     "output_type": "stream",
     "text": [
      "New best\n"
     ]
    },
    {
     "name": "stdout",
     "output_type": "stream",
     "text": [
      "epoch: 3, [batch: 1 / 6720], examples_per_second: 5.2339, train_label_loss: 0.8494, \n"
     ]
    },
    {
     "name": "stdout",
     "output_type": "stream",
     "text": [
      "epoch: 3, [batch: 672 / 6720], examples_per_second: 3626.9469, train_label_loss: 0.3557, \n"
     ]
    },
    {
     "name": "stdout",
     "output_type": "stream",
     "text": [
      "epoch: 3, [batch: 1344 / 6720], examples_per_second: 3640.2578, train_label_loss: 0.5819, \n"
     ]
    },
    {
     "name": "stdout",
     "output_type": "stream",
     "text": [
      "epoch: 3, [batch: 2016 / 6720], examples_per_second: 3639.1904, train_label_loss: 0.4883, \n"
     ]
    },
    {
     "name": "stdout",
     "output_type": "stream",
     "text": [
      "epoch: 3, [batch: 2688 / 6720], examples_per_second: 3632.2068, train_label_loss: 0.5764, \n"
     ]
    },
    {
     "name": "stdout",
     "output_type": "stream",
     "text": [
      "epoch: 3, [batch: 3360 / 6720], examples_per_second: 3652.4213, train_label_loss: 0.8772, \n"
     ]
    },
    {
     "name": "stdout",
     "output_type": "stream",
     "text": [
      "epoch: 3, [batch: 4032 / 6720], examples_per_second: 3643.4651, train_label_loss: 0.7952, \n"
     ]
    },
    {
     "name": "stdout",
     "output_type": "stream",
     "text": [
      "epoch: 3, [batch: 4704 / 6720], examples_per_second: 3626.7770, train_label_loss: 0.5392, \n"
     ]
    },
    {
     "name": "stdout",
     "output_type": "stream",
     "text": [
      "epoch: 3, [batch: 5376 / 6720], examples_per_second: 3646.5810, train_label_loss: 0.3936, \n"
     ]
    },
    {
     "name": "stdout",
     "output_type": "stream",
     "text": [
      "epoch: 3, [batch: 6048 / 6720], examples_per_second: 3638.6993, train_label_loss: 0.2572, \n"
     ]
    },
    {
     "name": "stdout",
     "output_type": "stream",
     "text": [
      "=============================================================\n",
      "epoch: 3, source_val_acc_label: 0.7391, target_val_acc_label: 0.6379, source_val_label_loss: 0.7039, target_val_label_loss: 84.8830, \n",
      "=============================================================\n"
     ]
    },
    {
     "name": "stdout",
     "output_type": "stream",
     "text": [
      "New best\n"
     ]
    },
    {
     "name": "stdout",
     "output_type": "stream",
     "text": [
      "epoch: 4, [batch: 1 / 6720], examples_per_second: 5.2531, train_label_loss: 0.3773, \n"
     ]
    },
    {
     "name": "stdout",
     "output_type": "stream",
     "text": [
      "epoch: 4, [batch: 672 / 6720], examples_per_second: 3620.7070, train_label_loss: 0.2579, \n"
     ]
    },
    {
     "name": "stdout",
     "output_type": "stream",
     "text": [
      "epoch: 4, [batch: 1344 / 6720], examples_per_second: 3640.3833, train_label_loss: 1.0227, \n"
     ]
    },
    {
     "name": "stdout",
     "output_type": "stream",
     "text": [
      "epoch: 4, [batch: 2016 / 6720], examples_per_second: 3638.9887, train_label_loss: 0.8492, \n"
     ]
    },
    {
     "name": "stdout",
     "output_type": "stream",
     "text": [
      "epoch: 4, [batch: 2688 / 6720], examples_per_second: 3622.6635, train_label_loss: 0.5666, \n"
     ]
    },
    {
     "name": "stdout",
     "output_type": "stream",
     "text": [
      "epoch: 4, [batch: 3360 / 6720], examples_per_second: 3630.3201, train_label_loss: 0.3513, \n"
     ]
    },
    {
     "name": "stdout",
     "output_type": "stream",
     "text": [
      "epoch: 4, [batch: 4032 / 6720], examples_per_second: 3640.7995, train_label_loss: 0.8774, \n"
     ]
    },
    {
     "name": "stdout",
     "output_type": "stream",
     "text": [
      "epoch: 4, [batch: 4704 / 6720], examples_per_second: 3626.3403, train_label_loss: 0.4481, \n"
     ]
    },
    {
     "name": "stdout",
     "output_type": "stream",
     "text": [
      "epoch: 4, [batch: 5376 / 6720], examples_per_second: 3647.6107, train_label_loss: 0.7383, \n"
     ]
    },
    {
     "name": "stdout",
     "output_type": "stream",
     "text": [
      "epoch: 4, [batch: 6048 / 6720], examples_per_second: 3640.1399, train_label_loss: 0.3040, \n"
     ]
    },
    {
     "name": "stdout",
     "output_type": "stream",
     "text": [
      "=============================================================\n",
      "epoch: 4, source_val_acc_label: 0.7783, target_val_acc_label: 0.6681, source_val_label_loss: 0.6043, target_val_label_loss: 82.5213, \n",
      "=============================================================\n"
     ]
    },
    {
     "name": "stdout",
     "output_type": "stream",
     "text": [
      "New best\n"
     ]
    },
    {
     "name": "stdout",
     "output_type": "stream",
     "text": [
      "epoch: 5, [batch: 1 / 6720], examples_per_second: 5.2127, train_label_loss: 0.2868, \n"
     ]
    },
    {
     "name": "stdout",
     "output_type": "stream",
     "text": [
      "epoch: 5, [batch: 672 / 6720], examples_per_second: 3607.0544, train_label_loss: 0.4429, \n"
     ]
    },
    {
     "name": "stdout",
     "output_type": "stream",
     "text": [
      "epoch: 5, [batch: 1344 / 6720], examples_per_second: 3627.7798, train_label_loss: 0.6909, \n"
     ]
    },
    {
     "name": "stdout",
     "output_type": "stream",
     "text": [
      "epoch: 5, [batch: 2016 / 6720], examples_per_second: 3640.0105, train_label_loss: 0.9389, \n"
     ]
    },
    {
     "name": "stdout",
     "output_type": "stream",
     "text": [
      "epoch: 5, [batch: 2688 / 6720], examples_per_second: 3626.7898, train_label_loss: 0.5884, \n"
     ]
    },
    {
     "name": "stdout",
     "output_type": "stream",
     "text": [
      "epoch: 5, [batch: 3360 / 6720], examples_per_second: 3641.7499, train_label_loss: 0.2432, \n"
     ]
    },
    {
     "name": "stdout",
     "output_type": "stream",
     "text": [
      "epoch: 5, [batch: 4032 / 6720], examples_per_second: 3604.7385, train_label_loss: 0.3182, \n"
     ]
    },
    {
     "name": "stdout",
     "output_type": "stream",
     "text": [
      "epoch: 5, [batch: 4704 / 6720], examples_per_second: 3621.1254, train_label_loss: 0.1790, \n"
     ]
    },
    {
     "name": "stdout",
     "output_type": "stream",
     "text": [
      "epoch: 5, [batch: 5376 / 6720], examples_per_second: 3652.9593, train_label_loss: 0.7279, \n"
     ]
    },
    {
     "name": "stdout",
     "output_type": "stream",
     "text": [
      "epoch: 5, [batch: 6048 / 6720], examples_per_second: 3654.5079, train_label_loss: 0.3287, \n"
     ]
    },
    {
     "name": "stdout",
     "output_type": "stream",
     "text": [
      "=============================================================\n",
      "epoch: 5, source_val_acc_label: 0.8249, target_val_acc_label: 0.6762, source_val_label_loss: 0.4799, target_val_label_loss: 82.9796, \n",
      "=============================================================\n"
     ]
    },
    {
     "name": "stdout",
     "output_type": "stream",
     "text": [
      "New best\n"
     ]
    },
    {
     "name": "stdout",
     "output_type": "stream",
     "text": [
      "epoch: 6, [batch: 1 / 6720], examples_per_second: 5.2428, train_label_loss: 0.5003, \n"
     ]
    },
    {
     "name": "stdout",
     "output_type": "stream",
     "text": [
      "epoch: 6, [batch: 672 / 6720], examples_per_second: 3614.6888, train_label_loss: 0.7401, \n"
     ]
    },
    {
     "name": "stdout",
     "output_type": "stream",
     "text": [
      "epoch: 6, [batch: 1344 / 6720], examples_per_second: 3657.0979, train_label_loss: 0.7145, \n"
     ]
    },
    {
     "name": "stdout",
     "output_type": "stream",
     "text": [
      "epoch: 6, [batch: 2016 / 6720], examples_per_second: 3620.8685, train_label_loss: 0.3588, \n"
     ]
    },
    {
     "name": "stdout",
     "output_type": "stream",
     "text": [
      "epoch: 6, [batch: 2688 / 6720], examples_per_second: 3628.7348, train_label_loss: 0.1134, \n"
     ]
    },
    {
     "name": "stdout",
     "output_type": "stream",
     "text": [
      "epoch: 6, [batch: 3360 / 6720], examples_per_second: 3644.3290, train_label_loss: 0.1774, \n"
     ]
    },
    {
     "name": "stdout",
     "output_type": "stream",
     "text": [
      "epoch: 6, [batch: 4032 / 6720], examples_per_second: 3644.5808, train_label_loss: 0.5201, \n"
     ]
    },
    {
     "name": "stdout",
     "output_type": "stream",
     "text": [
      "epoch: 6, [batch: 4704 / 6720], examples_per_second: 3627.1048, train_label_loss: 0.5260, \n"
     ]
    },
    {
     "name": "stdout",
     "output_type": "stream",
     "text": [
      "epoch: 6, [batch: 5376 / 6720], examples_per_second: 3643.9137, train_label_loss: 0.3104, \n"
     ]
    },
    {
     "name": "stdout",
     "output_type": "stream",
     "text": [
      "epoch: 6, [batch: 6048 / 6720], examples_per_second: 3647.6996, train_label_loss: 0.1983, \n"
     ]
    },
    {
     "name": "stdout",
     "output_type": "stream",
     "text": [
      "=============================================================\n",
      "epoch: 6, source_val_acc_label: 0.8306, target_val_acc_label: 0.6943, source_val_label_loss: 0.4611, target_val_label_loss: 85.0907, \n",
      "=============================================================\n"
     ]
    },
    {
     "name": "stdout",
     "output_type": "stream",
     "text": [
      "New best\n"
     ]
    },
    {
     "name": "stdout",
     "output_type": "stream",
     "text": [
      "epoch: 7, [batch: 1 / 6720], examples_per_second: 5.2431, train_label_loss: 0.1747, \n"
     ]
    },
    {
     "name": "stdout",
     "output_type": "stream",
     "text": [
      "epoch: 7, [batch: 672 / 6720], examples_per_second: 3620.6866, train_label_loss: 0.7750, \n"
     ]
    },
    {
     "name": "stdout",
     "output_type": "stream",
     "text": [
      "epoch: 7, [batch: 1344 / 6720], examples_per_second: 3648.7050, train_label_loss: 0.2693, \n"
     ]
    },
    {
     "name": "stdout",
     "output_type": "stream",
     "text": [
      "epoch: 7, [batch: 2016 / 6720], examples_per_second: 3636.2428, train_label_loss: 0.6339, \n"
     ]
    },
    {
     "name": "stdout",
     "output_type": "stream",
     "text": [
      "epoch: 7, [batch: 2688 / 6720], examples_per_second: 3624.1825, train_label_loss: 0.4033, \n"
     ]
    },
    {
     "name": "stdout",
     "output_type": "stream",
     "text": [
      "epoch: 7, [batch: 3360 / 6720], examples_per_second: 3635.7237, train_label_loss: 0.8388, \n"
     ]
    },
    {
     "name": "stdout",
     "output_type": "stream",
     "text": [
      "epoch: 7, [batch: 4032 / 6720], examples_per_second: 3629.6251, train_label_loss: 0.1781, \n"
     ]
    },
    {
     "name": "stdout",
     "output_type": "stream",
     "text": [
      "epoch: 7, [batch: 4704 / 6720], examples_per_second: 3614.1696, train_label_loss: 0.4863, \n"
     ]
    },
    {
     "name": "stdout",
     "output_type": "stream",
     "text": [
      "epoch: 7, [batch: 5376 / 6720], examples_per_second: 3649.3042, train_label_loss: 0.2351, \n"
     ]
    },
    {
     "name": "stdout",
     "output_type": "stream",
     "text": [
      "epoch: 7, [batch: 6048 / 6720], examples_per_second: 3639.3459, train_label_loss: 0.2345, \n"
     ]
    },
    {
     "name": "stdout",
     "output_type": "stream",
     "text": [
      "=============================================================\n",
      "epoch: 7, source_val_acc_label: 0.8389, target_val_acc_label: 0.7012, source_val_label_loss: 0.4420, target_val_label_loss: 86.1653, \n",
      "=============================================================\n"
     ]
    },
    {
     "name": "stdout",
     "output_type": "stream",
     "text": [
      "New best\n"
     ]
    },
    {
     "name": "stdout",
     "output_type": "stream",
     "text": [
      "epoch: 8, [batch: 1 / 6720], examples_per_second: 5.2454, train_label_loss: 0.6787, \n"
     ]
    },
    {
     "name": "stdout",
     "output_type": "stream",
     "text": [
      "epoch: 8, [batch: 672 / 6720], examples_per_second: 3629.2954, train_label_loss: 0.5983, \n"
     ]
    },
    {
     "name": "stdout",
     "output_type": "stream",
     "text": [
      "epoch: 8, [batch: 1344 / 6720], examples_per_second: 3643.1231, train_label_loss: 0.5048, \n"
     ]
    },
    {
     "name": "stdout",
     "output_type": "stream",
     "text": [
      "epoch: 8, [batch: 2016 / 6720], examples_per_second: 3646.7106, train_label_loss: 0.1736, \n"
     ]
    },
    {
     "name": "stdout",
     "output_type": "stream",
     "text": [
      "epoch: 8, [batch: 2688 / 6720], examples_per_second: 3617.0581, train_label_loss: 0.1932, \n"
     ]
    },
    {
     "name": "stdout",
     "output_type": "stream",
     "text": [
      "epoch: 8, [batch: 3360 / 6720], examples_per_second: 3636.9281, train_label_loss: 0.4775, \n"
     ]
    },
    {
     "name": "stdout",
     "output_type": "stream",
     "text": [
      "epoch: 8, [batch: 4032 / 6720], examples_per_second: 3643.8638, train_label_loss: 0.5126, \n"
     ]
    },
    {
     "name": "stdout",
     "output_type": "stream",
     "text": [
      "epoch: 8, [batch: 4704 / 6720], examples_per_second: 3621.2416, train_label_loss: 0.2383, \n"
     ]
    },
    {
     "name": "stdout",
     "output_type": "stream",
     "text": [
      "epoch: 8, [batch: 5376 / 6720], examples_per_second: 3645.7186, train_label_loss: 0.3878, \n"
     ]
    },
    {
     "name": "stdout",
     "output_type": "stream",
     "text": [
      "epoch: 8, [batch: 6048 / 6720], examples_per_second: 3636.2665, train_label_loss: 0.3869, \n"
     ]
    },
    {
     "name": "stdout",
     "output_type": "stream",
     "text": [
      "=============================================================\n",
      "epoch: 8, source_val_acc_label: 0.8562, target_val_acc_label: 0.6973, source_val_label_loss: 0.3899, target_val_label_loss: 93.5321, \n",
      "=============================================================\n"
     ]
    },
    {
     "name": "stdout",
     "output_type": "stream",
     "text": [
      "epoch: 9, [batch: 1 / 6720], examples_per_second: 5.2629, train_label_loss: 0.1662, \n"
     ]
    },
    {
     "name": "stdout",
     "output_type": "stream",
     "text": [
      "epoch: 9, [batch: 672 / 6720], examples_per_second: 3621.0097, train_label_loss: 0.6856, \n"
     ]
    },
    {
     "name": "stdout",
     "output_type": "stream",
     "text": [
      "epoch: 9, [batch: 1344 / 6720], examples_per_second: 3636.6001, train_label_loss: 0.4365, \n"
     ]
    },
    {
     "name": "stdout",
     "output_type": "stream",
     "text": [
      "epoch: 9, [batch: 2016 / 6720], examples_per_second: 3642.2737, train_label_loss: 0.2777, \n"
     ]
    },
    {
     "name": "stdout",
     "output_type": "stream",
     "text": [
      "epoch: 9, [batch: 2688 / 6720], examples_per_second: 3639.3527, train_label_loss: 0.1879, \n"
     ]
    },
    {
     "name": "stdout",
     "output_type": "stream",
     "text": [
      "epoch: 9, [batch: 3360 / 6720], examples_per_second: 3650.2315, train_label_loss: 0.6059, \n"
     ]
    },
    {
     "name": "stdout",
     "output_type": "stream",
     "text": [
      "epoch: 9, [batch: 4032 / 6720], examples_per_second: 3649.9556, train_label_loss: 0.8822, \n"
     ]
    },
    {
     "name": "stdout",
     "output_type": "stream",
     "text": [
      "epoch: 9, [batch: 4704 / 6720], examples_per_second: 3627.1980, train_label_loss: 0.2703, \n"
     ]
    },
    {
     "name": "stdout",
     "output_type": "stream",
     "text": [
      "epoch: 9, [batch: 5376 / 6720], examples_per_second: 3659.2987, train_label_loss: 0.1414, \n"
     ]
    },
    {
     "name": "stdout",
     "output_type": "stream",
     "text": [
      "epoch: 9, [batch: 6048 / 6720], examples_per_second: 3648.3740, train_label_loss: 0.2851, \n"
     ]
    },
    {
     "name": "stdout",
     "output_type": "stream",
     "text": [
      "=============================================================\n",
      "epoch: 9, source_val_acc_label: 0.8623, target_val_acc_label: 0.7008, source_val_label_loss: 0.3785, target_val_label_loss: 99.0343, \n",
      "=============================================================\n"
     ]
    },
    {
     "name": "stdout",
     "output_type": "stream",
     "text": [
      "epoch: 10, [batch: 1 / 6720], examples_per_second: 5.2509, train_label_loss: 0.4957, \n"
     ]
    },
    {
     "name": "stdout",
     "output_type": "stream",
     "text": [
      "epoch: 10, [batch: 672 / 6720], examples_per_second: 3629.8666, train_label_loss: 0.2075, \n"
     ]
    },
    {
     "name": "stdout",
     "output_type": "stream",
     "text": [
      "epoch: 10, [batch: 1344 / 6720], examples_per_second: 3645.1963, train_label_loss: 0.3816, \n"
     ]
    },
    {
     "name": "stdout",
     "output_type": "stream",
     "text": [
      "epoch: 10, [batch: 2016 / 6720], examples_per_second: 3645.0581, train_label_loss: 0.0303, \n"
     ]
    },
    {
     "name": "stdout",
     "output_type": "stream",
     "text": [
      "epoch: 10, [batch: 2688 / 6720], examples_per_second: 3622.0412, train_label_loss: 0.4594, \n"
     ]
    },
    {
     "name": "stdout",
     "output_type": "stream",
     "text": [
      "epoch: 10, [batch: 3360 / 6720], examples_per_second: 3631.8428, train_label_loss: 0.0982, \n"
     ]
    },
    {
     "name": "stdout",
     "output_type": "stream",
     "text": [
      "epoch: 10, [batch: 4032 / 6720], examples_per_second: 3655.4046, train_label_loss: 0.4594, \n"
     ]
    },
    {
     "name": "stdout",
     "output_type": "stream",
     "text": [
      "epoch: 10, [batch: 4704 / 6720], examples_per_second: 3618.2308, train_label_loss: 0.6751, \n"
     ]
    },
    {
     "name": "stdout",
     "output_type": "stream",
     "text": [
      "epoch: 10, [batch: 5376 / 6720], examples_per_second: 3638.5787, train_label_loss: 0.5027, \n"
     ]
    },
    {
     "name": "stdout",
     "output_type": "stream",
     "text": [
      "epoch: 10, [batch: 6048 / 6720], examples_per_second: 3643.4864, train_label_loss: 0.1561, \n"
     ]
    },
    {
     "name": "stdout",
     "output_type": "stream",
     "text": [
      "=============================================================\n",
      "epoch: 10, source_val_acc_label: 0.8752, target_val_acc_label: 0.7174, source_val_label_loss: 0.3447, target_val_label_loss: 89.2396, \n",
      "=============================================================\n"
     ]
    },
    {
     "name": "stdout",
     "output_type": "stream",
     "text": [
      "New best\n"
     ]
    },
    {
     "name": "stdout",
     "output_type": "stream",
     "text": [
      "epoch: 11, [batch: 1 / 6720], examples_per_second: 5.2461, train_label_loss: 0.3126, \n"
     ]
    },
    {
     "name": "stdout",
     "output_type": "stream",
     "text": [
      "epoch: 11, [batch: 672 / 6720], examples_per_second: 3620.0869, train_label_loss: 0.3832, \n"
     ]
    },
    {
     "name": "stdout",
     "output_type": "stream",
     "text": [
      "epoch: 11, [batch: 1344 / 6720], examples_per_second: 3637.5641, train_label_loss: 0.5324, \n"
     ]
    },
    {
     "name": "stdout",
     "output_type": "stream",
     "text": [
      "epoch: 11, [batch: 2016 / 6720], examples_per_second: 3667.8982, train_label_loss: 0.0461, \n"
     ]
    },
    {
     "name": "stdout",
     "output_type": "stream",
     "text": [
      "epoch: 11, [batch: 2688 / 6720], examples_per_second: 3632.1560, train_label_loss: 0.7126, \n"
     ]
    },
    {
     "name": "stdout",
     "output_type": "stream",
     "text": [
      "epoch: 11, [batch: 3360 / 6720], examples_per_second: 3645.6064, train_label_loss: 0.3107, \n"
     ]
    },
    {
     "name": "stdout",
     "output_type": "stream",
     "text": [
      "epoch: 11, [batch: 4032 / 6720], examples_per_second: 3638.4914, train_label_loss: 0.1090, \n"
     ]
    },
    {
     "name": "stdout",
     "output_type": "stream",
     "text": [
      "epoch: 11, [batch: 4704 / 6720], examples_per_second: 3639.5244, train_label_loss: 0.1618, \n"
     ]
    },
    {
     "name": "stdout",
     "output_type": "stream",
     "text": [
      "epoch: 11, [batch: 5376 / 6720], examples_per_second: 3634.8182, train_label_loss: 0.1654, \n"
     ]
    },
    {
     "name": "stdout",
     "output_type": "stream",
     "text": [
      "epoch: 11, [batch: 6048 / 6720], examples_per_second: 3646.2793, train_label_loss: 0.1721, \n"
     ]
    },
    {
     "name": "stdout",
     "output_type": "stream",
     "text": [
      "=============================================================\n",
      "epoch: 11, source_val_acc_label: 0.8725, target_val_acc_label: 0.7136, source_val_label_loss: 0.3453, target_val_label_loss: 101.3100, \n",
      "=============================================================\n"
     ]
    },
    {
     "name": "stdout",
     "output_type": "stream",
     "text": [
      "epoch: 12, [batch: 1 / 6720], examples_per_second: 5.2437, train_label_loss: 0.6991, \n"
     ]
    },
    {
     "name": "stdout",
     "output_type": "stream",
     "text": [
      "epoch: 12, [batch: 672 / 6720], examples_per_second: 3629.1161, train_label_loss: 0.4208, \n"
     ]
    },
    {
     "name": "stdout",
     "output_type": "stream",
     "text": [
      "epoch: 12, [batch: 1344 / 6720], examples_per_second: 3659.6634, train_label_loss: 0.0978, \n"
     ]
    },
    {
     "name": "stdout",
     "output_type": "stream",
     "text": [
      "epoch: 12, [batch: 2016 / 6720], examples_per_second: 3654.5975, train_label_loss: 0.6091, \n"
     ]
    },
    {
     "name": "stdout",
     "output_type": "stream",
     "text": [
      "epoch: 12, [batch: 2688 / 6720], examples_per_second: 3635.8048, train_label_loss: 0.2001, \n"
     ]
    },
    {
     "name": "stdout",
     "output_type": "stream",
     "text": [
      "epoch: 12, [batch: 3360 / 6720], examples_per_second: 3653.9738, train_label_loss: 0.3482, \n"
     ]
    },
    {
     "name": "stdout",
     "output_type": "stream",
     "text": [
      "epoch: 12, [batch: 4032 / 6720], examples_per_second: 3620.3399, train_label_loss: 0.2765, \n"
     ]
    },
    {
     "name": "stdout",
     "output_type": "stream",
     "text": [
      "epoch: 12, [batch: 4704 / 6720], examples_per_second: 3613.5136, train_label_loss: 0.0978, \n"
     ]
    },
    {
     "name": "stdout",
     "output_type": "stream",
     "text": [
      "epoch: 12, [batch: 5376 / 6720], examples_per_second: 3631.1354, train_label_loss: 0.1218, \n"
     ]
    },
    {
     "name": "stdout",
     "output_type": "stream",
     "text": [
      "epoch: 12, [batch: 6048 / 6720], examples_per_second: 3638.0774, train_label_loss: 0.0544, \n"
     ]
    },
    {
     "name": "stdout",
     "output_type": "stream",
     "text": [
      "=============================================================\n",
      "epoch: 12, source_val_acc_label: 0.8780, target_val_acc_label: 0.7138, source_val_label_loss: 0.3416, target_val_label_loss: 114.6288, \n",
      "=============================================================\n"
     ]
    },
    {
     "name": "stdout",
     "output_type": "stream",
     "text": [
      "epoch: 13, [batch: 1 / 6720], examples_per_second: 5.2405, train_label_loss: 0.3855, \n"
     ]
    },
    {
     "name": "stdout",
     "output_type": "stream",
     "text": [
      "epoch: 13, [batch: 672 / 6720], examples_per_second: 3625.8825, train_label_loss: 0.2182, \n"
     ]
    },
    {
     "name": "stdout",
     "output_type": "stream",
     "text": [
      "epoch: 13, [batch: 1344 / 6720], examples_per_second: 3656.6403, train_label_loss: 0.0995, \n"
     ]
    },
    {
     "name": "stdout",
     "output_type": "stream",
     "text": [
      "epoch: 13, [batch: 2016 / 6720], examples_per_second: 3638.1937, train_label_loss: 0.1516, \n"
     ]
    },
    {
     "name": "stdout",
     "output_type": "stream",
     "text": [
      "epoch: 13, [batch: 2688 / 6720], examples_per_second: 3620.7421, train_label_loss: 0.0891, \n"
     ]
    },
    {
     "name": "stdout",
     "output_type": "stream",
     "text": [
      "epoch: 13, [batch: 3360 / 6720], examples_per_second: 3642.4383, train_label_loss: 0.1202, \n"
     ]
    },
    {
     "name": "stdout",
     "output_type": "stream",
     "text": [
      "epoch: 13, [batch: 4032 / 6720], examples_per_second: 3631.8051, train_label_loss: 0.4312, \n"
     ]
    },
    {
     "name": "stdout",
     "output_type": "stream",
     "text": [
      "epoch: 13, [batch: 4704 / 6720], examples_per_second: 3620.0698, train_label_loss: 0.0437, \n"
     ]
    },
    {
     "name": "stdout",
     "output_type": "stream",
     "text": [
      "epoch: 13, [batch: 5376 / 6720], examples_per_second: 3638.9947, train_label_loss: 0.1116, \n"
     ]
    },
    {
     "name": "stdout",
     "output_type": "stream",
     "text": [
      "epoch: 13, [batch: 6048 / 6720], examples_per_second: 3642.3218, train_label_loss: 0.2553, \n"
     ]
    },
    {
     "name": "stdout",
     "output_type": "stream",
     "text": [
      "=============================================================\n",
      "epoch: 13, source_val_acc_label: 0.8646, target_val_acc_label: 0.7217, source_val_label_loss: 0.3816, target_val_label_loss: 127.4927, \n",
      "=============================================================\n"
     ]
    },
    {
     "name": "stdout",
     "output_type": "stream",
     "text": [
      "New best\n"
     ]
    },
    {
     "name": "stdout",
     "output_type": "stream",
     "text": [
      "epoch: 14, [batch: 1 / 6720], examples_per_second: 5.2418, train_label_loss: 0.3891, \n"
     ]
    },
    {
     "name": "stdout",
     "output_type": "stream",
     "text": [
      "epoch: 14, [batch: 672 / 6720], examples_per_second: 3627.7792, train_label_loss: 0.2020, \n"
     ]
    },
    {
     "name": "stdout",
     "output_type": "stream",
     "text": [
      "epoch: 14, [batch: 1344 / 6720], examples_per_second: 3638.8711, train_label_loss: 0.3771, \n"
     ]
    },
    {
     "name": "stdout",
     "output_type": "stream",
     "text": [
      "epoch: 14, [batch: 2016 / 6720], examples_per_second: 3632.5830, train_label_loss: 0.1893, \n"
     ]
    },
    {
     "name": "stdout",
     "output_type": "stream",
     "text": [
      "epoch: 14, [batch: 2688 / 6720], examples_per_second: 3610.5169, train_label_loss: 0.0804, \n"
     ]
    },
    {
     "name": "stdout",
     "output_type": "stream",
     "text": [
      "epoch: 14, [batch: 3360 / 6720], examples_per_second: 3626.0886, train_label_loss: 0.1403, \n"
     ]
    },
    {
     "name": "stdout",
     "output_type": "stream",
     "text": [
      "epoch: 14, [batch: 4032 / 6720], examples_per_second: 3623.5885, train_label_loss: 0.4648, \n"
     ]
    },
    {
     "name": "stdout",
     "output_type": "stream",
     "text": [
      "epoch: 14, [batch: 4704 / 6720], examples_per_second: 3607.2368, train_label_loss: 0.1286, \n"
     ]
    },
    {
     "name": "stdout",
     "output_type": "stream",
     "text": [
      "epoch: 14, [batch: 5376 / 6720], examples_per_second: 3643.7513, train_label_loss: 0.0812, \n"
     ]
    },
    {
     "name": "stdout",
     "output_type": "stream",
     "text": [
      "epoch: 14, [batch: 6048 / 6720], examples_per_second: 3648.6502, train_label_loss: 0.1174, \n"
     ]
    },
    {
     "name": "stdout",
     "output_type": "stream",
     "text": [
      "=============================================================\n",
      "epoch: 14, source_val_acc_label: 0.8742, target_val_acc_label: 0.7275, source_val_label_loss: 0.3506, target_val_label_loss: 119.6497, \n",
      "=============================================================\n"
     ]
    },
    {
     "name": "stdout",
     "output_type": "stream",
     "text": [
      "New best\n"
     ]
    },
    {
     "name": "stdout",
     "output_type": "stream",
     "text": [
      "epoch: 15, [batch: 1 / 6720], examples_per_second: 5.2405, train_label_loss: 0.0320, \n"
     ]
    },
    {
     "name": "stdout",
     "output_type": "stream",
     "text": [
      "epoch: 15, [batch: 672 / 6720], examples_per_second: 3617.1754, train_label_loss: 0.1187, \n"
     ]
    },
    {
     "name": "stdout",
     "output_type": "stream",
     "text": [
      "epoch: 15, [batch: 1344 / 6720], examples_per_second: 3635.8715, train_label_loss: 0.0389, \n"
     ]
    },
    {
     "name": "stdout",
     "output_type": "stream",
     "text": [
      "epoch: 15, [batch: 2016 / 6720], examples_per_second: 3637.0088, train_label_loss: 0.0842, \n"
     ]
    },
    {
     "name": "stdout",
     "output_type": "stream",
     "text": [
      "epoch: 15, [batch: 2688 / 6720], examples_per_second: 3618.3981, train_label_loss: 0.1771, \n"
     ]
    },
    {
     "name": "stdout",
     "output_type": "stream",
     "text": [
      "epoch: 15, [batch: 3360 / 6720], examples_per_second: 3641.5734, train_label_loss: 0.2240, \n"
     ]
    },
    {
     "name": "stdout",
     "output_type": "stream",
     "text": [
      "epoch: 15, [batch: 4032 / 6720], examples_per_second: 3642.5526, train_label_loss: 0.4017, \n"
     ]
    },
    {
     "name": "stdout",
     "output_type": "stream",
     "text": [
      "epoch: 15, [batch: 4704 / 6720], examples_per_second: 3614.9276, train_label_loss: 0.2590, \n"
     ]
    },
    {
     "name": "stdout",
     "output_type": "stream",
     "text": [
      "epoch: 15, [batch: 5376 / 6720], examples_per_second: 3615.7959, train_label_loss: 0.1929, \n"
     ]
    },
    {
     "name": "stdout",
     "output_type": "stream",
     "text": [
      "epoch: 15, [batch: 6048 / 6720], examples_per_second: 3640.1294, train_label_loss: 0.2167, \n"
     ]
    },
    {
     "name": "stdout",
     "output_type": "stream",
     "text": [
      "=============================================================\n",
      "epoch: 15, source_val_acc_label: 0.8802, target_val_acc_label: 0.7235, source_val_label_loss: 0.3403, target_val_label_loss: 148.0647, \n",
      "=============================================================\n"
     ]
    },
    {
     "name": "stdout",
     "output_type": "stream",
     "text": [
      "epoch: 16, [batch: 1 / 6720], examples_per_second: 5.2775, train_label_loss: 0.0213, \n"
     ]
    },
    {
     "name": "stdout",
     "output_type": "stream",
     "text": [
      "epoch: 16, [batch: 672 / 6720], examples_per_second: 3617.4087, train_label_loss: 0.2184, \n"
     ]
    },
    {
     "name": "stdout",
     "output_type": "stream",
     "text": [
      "epoch: 16, [batch: 1344 / 6720], examples_per_second: 3638.5261, train_label_loss: 0.1680, \n"
     ]
    },
    {
     "name": "stdout",
     "output_type": "stream",
     "text": [
      "epoch: 16, [batch: 2016 / 6720], examples_per_second: 3646.8954, train_label_loss: 0.2649, \n"
     ]
    },
    {
     "name": "stdout",
     "output_type": "stream",
     "text": [
      "epoch: 16, [batch: 2688 / 6720], examples_per_second: 3643.2331, train_label_loss: 0.0732, \n"
     ]
    },
    {
     "name": "stdout",
     "output_type": "stream",
     "text": [
      "epoch: 16, [batch: 3360 / 6720], examples_per_second: 3644.6804, train_label_loss: 0.1606, \n"
     ]
    },
    {
     "name": "stdout",
     "output_type": "stream",
     "text": [
      "epoch: 16, [batch: 4032 / 6720], examples_per_second: 3650.5488, train_label_loss: 0.2442, \n"
     ]
    },
    {
     "name": "stdout",
     "output_type": "stream",
     "text": [
      "epoch: 16, [batch: 4704 / 6720], examples_per_second: 3619.9874, train_label_loss: 0.2486, \n"
     ]
    },
    {
     "name": "stdout",
     "output_type": "stream",
     "text": [
      "epoch: 16, [batch: 5376 / 6720], examples_per_second: 3647.3544, train_label_loss: 0.3711, \n"
     ]
    },
    {
     "name": "stdout",
     "output_type": "stream",
     "text": [
      "epoch: 16, [batch: 6048 / 6720], examples_per_second: 3657.0043, train_label_loss: 0.1509, \n"
     ]
    },
    {
     "name": "stdout",
     "output_type": "stream",
     "text": [
      "=============================================================\n",
      "epoch: 16, source_val_acc_label: 0.8743, target_val_acc_label: 0.7191, source_val_label_loss: 0.3515, target_val_label_loss: 182.9961, \n",
      "=============================================================\n"
     ]
    },
    {
     "name": "stdout",
     "output_type": "stream",
     "text": [
      "epoch: 17, [batch: 1 / 6720], examples_per_second: 5.2593, train_label_loss: 0.0128, \n"
     ]
    },
    {
     "name": "stdout",
     "output_type": "stream",
     "text": [
      "epoch: 17, [batch: 672 / 6720], examples_per_second: 3624.6773, train_label_loss: 0.1141, \n"
     ]
    },
    {
     "name": "stdout",
     "output_type": "stream",
     "text": [
      "epoch: 17, [batch: 1344 / 6720], examples_per_second: 3621.9865, train_label_loss: 0.0843, \n"
     ]
    },
    {
     "name": "stdout",
     "output_type": "stream",
     "text": [
      "epoch: 17, [batch: 2016 / 6720], examples_per_second: 3600.5946, train_label_loss: 0.3017, \n"
     ]
    },
    {
     "name": "stdout",
     "output_type": "stream",
     "text": [
      "epoch: 17, [batch: 2688 / 6720], examples_per_second: 3635.2178, train_label_loss: 0.1345, \n"
     ]
    },
    {
     "name": "stdout",
     "output_type": "stream",
     "text": [
      "epoch: 17, [batch: 3360 / 6720], examples_per_second: 3612.3866, train_label_loss: 0.2361, \n"
     ]
    },
    {
     "name": "stdout",
     "output_type": "stream",
     "text": [
      "epoch: 17, [batch: 4032 / 6720], examples_per_second: 3640.5534, train_label_loss: 0.2242, \n"
     ]
    },
    {
     "name": "stdout",
     "output_type": "stream",
     "text": [
      "epoch: 17, [batch: 4704 / 6720], examples_per_second: 3615.8113, train_label_loss: 0.0916, \n"
     ]
    },
    {
     "name": "stdout",
     "output_type": "stream",
     "text": [
      "epoch: 17, [batch: 5376 / 6720], examples_per_second: 3639.3294, train_label_loss: 0.2096, \n"
     ]
    },
    {
     "name": "stdout",
     "output_type": "stream",
     "text": [
      "epoch: 17, [batch: 6048 / 6720], examples_per_second: 3639.1464, train_label_loss: 0.0498, \n"
     ]
    },
    {
     "name": "stdout",
     "output_type": "stream",
     "text": [
      "=============================================================\n",
      "epoch: 17, source_val_acc_label: 0.8805, target_val_acc_label: 0.7205, source_val_label_loss: 0.3418, target_val_label_loss: 188.3907, \n",
      "=============================================================\n"
     ]
    },
    {
     "name": "stdout",
     "output_type": "stream",
     "text": [
      "epoch: 18, [batch: 1 / 6720], examples_per_second: 5.2185, train_label_loss: 0.1809, \n"
     ]
    },
    {
     "name": "stdout",
     "output_type": "stream",
     "text": [
      "epoch: 18, [batch: 672 / 6720], examples_per_second: 3626.3453, train_label_loss: 0.0394, \n"
     ]
    },
    {
     "name": "stdout",
     "output_type": "stream",
     "text": [
      "epoch: 18, [batch: 1344 / 6720], examples_per_second: 3638.1419, train_label_loss: 0.1522, \n"
     ]
    },
    {
     "name": "stdout",
     "output_type": "stream",
     "text": [
      "epoch: 18, [batch: 2016 / 6720], examples_per_second: 3646.6186, train_label_loss: 0.2381, \n"
     ]
    },
    {
     "name": "stdout",
     "output_type": "stream",
     "text": [
      "epoch: 18, [batch: 2688 / 6720], examples_per_second: 3621.6141, train_label_loss: 0.3707, \n"
     ]
    },
    {
     "name": "stdout",
     "output_type": "stream",
     "text": [
      "epoch: 18, [batch: 3360 / 6720], examples_per_second: 3645.5718, train_label_loss: 0.1481, \n"
     ]
    },
    {
     "name": "stdout",
     "output_type": "stream",
     "text": [
      "epoch: 18, [batch: 4032 / 6720], examples_per_second: 3636.3351, train_label_loss: 0.1364, \n"
     ]
    },
    {
     "name": "stdout",
     "output_type": "stream",
     "text": [
      "epoch: 18, [batch: 4704 / 6720], examples_per_second: 3600.0378, train_label_loss: 0.0252, \n"
     ]
    },
    {
     "name": "stdout",
     "output_type": "stream",
     "text": [
      "epoch: 18, [batch: 5376 / 6720], examples_per_second: 3625.5584, train_label_loss: 0.1558, \n"
     ]
    },
    {
     "name": "stdout",
     "output_type": "stream",
     "text": [
      "epoch: 18, [batch: 6048 / 6720], examples_per_second: 3614.3921, train_label_loss: 0.2101, \n"
     ]
    },
    {
     "name": "stdout",
     "output_type": "stream",
     "text": [
      "=============================================================\n",
      "epoch: 18, source_val_acc_label: 0.8745, target_val_acc_label: 0.7220, source_val_label_loss: 0.3674, target_val_label_loss: 217.8790, \n",
      "=============================================================\n"
     ]
    },
    {
     "name": "stdout",
     "output_type": "stream",
     "text": [
      "Patience (3) exhausted\n"
     ]
    }
   ],
   "source": [
    "###################################\n",
    "# train\n",
    "###################################\n",
    "jig = PTN_Train_Eval_Test_Jig(model, p.BEST_MODEL_PATH, p.device)\n",
    "\n",
    "jig.train(\n",
    "    train_iterable=datasets.source.processed.train,\n",
    "    source_val_iterable=datasets.source.processed.val,\n",
    "    target_val_iterable=datasets.target.processed.val,\n",
    "    num_epochs=p.n_epoch,\n",
    "    num_logs_per_epoch=p.NUM_LOGS_PER_EPOCH,\n",
    "    patience=p.patience,\n",
    "    optimizer=optimizer,\n",
    "    criteria_for_best=p.criteria_for_best,\n",
    ")"
   ]
  },
  {
   "cell_type": "code",
   "execution_count": 23,
   "id": "31e8fabf",
   "metadata": {
    "execution": {
     "iopub.execute_input": "2022-03-25T08:40:32.028076Z",
     "iopub.status.busy": "2022-03-25T08:40:32.027820Z",
     "iopub.status.idle": "2022-03-25T08:40:32.047479Z",
     "shell.execute_reply": "2022-03-25T08:40:32.047105Z"
    },
    "papermill": {
     "duration": 0.072954,
     "end_time": "2022-03-25T08:40:32.047572",
     "exception": false,
     "start_time": "2022-03-25T08:40:31.974618",
     "status": "completed"
    },
    "tags": []
   },
   "outputs": [],
   "source": [
    "total_experiment_time_secs = time.time() - start_time_secs"
   ]
  },
  {
   "cell_type": "code",
   "execution_count": 24,
   "id": "87b9595b",
   "metadata": {
    "execution": {
     "iopub.execute_input": "2022-03-25T08:40:32.158612Z",
     "iopub.status.busy": "2022-03-25T08:40:32.158316Z",
     "iopub.status.idle": "2022-03-25T08:42:03.748211Z",
     "shell.execute_reply": "2022-03-25T08:42:03.747797Z"
    },
    "papermill": {
     "duration": 91.645776,
     "end_time": "2022-03-25T08:42:03.748319",
     "exception": false,
     "start_time": "2022-03-25T08:40:32.102543",
     "status": "completed"
    },
    "tags": []
   },
   "outputs": [],
   "source": [
    "###################################\n",
    "# Evaluate the model\n",
    "###################################\n",
    "source_test_label_accuracy, source_test_label_loss = jig.test(datasets.source.processed.test)\n",
    "target_test_label_accuracy, target_test_label_loss = jig.test(datasets.target.processed.test)\n",
    "\n",
    "source_val_label_accuracy, source_val_label_loss = jig.test(datasets.source.processed.val)\n",
    "target_val_label_accuracy, target_val_label_loss = jig.test(datasets.target.processed.val)\n",
    "\n",
    "history = jig.get_history()\n",
    "\n",
    "total_epochs_trained = len(history[\"epoch_indices\"])\n",
    "\n",
    "val_dl = Iterable_Aggregator((datasets.source.original.val,datasets.target.original.val))\n",
    "\n",
    "confusion = ptn_confusion_by_domain_over_dataloader(model, p.device, val_dl)\n",
    "per_domain_accuracy = per_domain_accuracy_from_confusion(confusion)\n",
    "\n",
    "# Add a key to per_domain_accuracy for if it was a source domain\n",
    "for domain, accuracy in per_domain_accuracy.items():\n",
    "    per_domain_accuracy[domain] = {\n",
    "        \"accuracy\": accuracy,\n",
    "        \"source?\": domain in p.domains_source\n",
    "    }\n",
    "\n",
    "# Do an independent accuracy assesment JUST TO BE SURE!\n",
    "# _source_test_label_accuracy = independent_accuracy_assesment(model, datasets.source.processed.test, p.device)\n",
    "# _target_test_label_accuracy = independent_accuracy_assesment(model, datasets.target.processed.test, p.device)\n",
    "# _source_val_label_accuracy = independent_accuracy_assesment(model, datasets.source.processed.val, p.device)\n",
    "# _target_val_label_accuracy = independent_accuracy_assesment(model, datasets.target.processed.val, p.device)\n",
    "\n",
    "# assert(_source_test_label_accuracy == source_test_label_accuracy)\n",
    "# assert(_target_test_label_accuracy == target_test_label_accuracy)\n",
    "# assert(_source_val_label_accuracy == source_val_label_accuracy)\n",
    "# assert(_target_val_label_accuracy == target_val_label_accuracy)\n",
    "\n",
    "experiment = {\n",
    "    \"experiment_name\": p.experiment_name,\n",
    "    \"parameters\": dict(p),\n",
    "    \"results\": {\n",
    "        \"source_test_label_accuracy\": source_test_label_accuracy,\n",
    "        \"source_test_label_loss\": source_test_label_loss,\n",
    "        \"target_test_label_accuracy\": target_test_label_accuracy,\n",
    "        \"target_test_label_loss\": target_test_label_loss,\n",
    "        \"source_val_label_accuracy\": source_val_label_accuracy,\n",
    "        \"source_val_label_loss\": source_val_label_loss,\n",
    "        \"target_val_label_accuracy\": target_val_label_accuracy,\n",
    "        \"target_val_label_loss\": target_val_label_loss,\n",
    "        \"total_epochs_trained\": total_epochs_trained,\n",
    "        \"total_experiment_time_secs\": total_experiment_time_secs,\n",
    "        \"confusion\": confusion,\n",
    "        \"per_domain_accuracy\": per_domain_accuracy,\n",
    "    },\n",
    "    \"history\": history,\n",
    "    \"dataset_metrics\": get_dataset_metrics(datasets, \"ptn\"),\n",
    "}"
   ]
  },
  {
   "cell_type": "code",
   "execution_count": 25,
   "id": "54a21829",
   "metadata": {
    "execution": {
     "iopub.execute_input": "2022-03-25T08:42:03.853428Z",
     "iopub.status.busy": "2022-03-25T08:42:03.853094Z",
     "iopub.status.idle": "2022-03-25T08:42:03.968103Z",
     "shell.execute_reply": "2022-03-25T08:42:03.967717Z"
    },
    "papermill": {
     "duration": 0.167016,
     "end_time": "2022-03-25T08:42:03.968201",
     "exception": false,
     "start_time": "2022-03-25T08:42:03.801185",
     "status": "completed"
    },
    "tags": []
   },
   "outputs": [
    {
     "data": {
      "image/png": "[encoded data removed]",
      "text/plain": [
       "<Figure size 1080x504 with 1 Axes>"
      ]
     },
     "metadata": {
      "needs_background": "light"
     },
     "output_type": "display_data"
    }
   ],
   "source": [
    "ax = get_loss_curve(experiment)\n",
    "plt.show()"
   ]
  },
  {
   "cell_type": "code",
   "execution_count": 26,
   "id": "fd8a0f60",
   "metadata": {
    "execution": {
     "iopub.execute_input": "2022-03-25T08:42:04.073940Z",
     "iopub.status.busy": "2022-03-25T08:42:04.073610Z",
     "iopub.status.idle": "2022-03-25T08:42:04.214378Z",
     "shell.execute_reply": "2022-03-25T08:42:04.214113Z"
    },
    "papermill": {
     "duration": 0.193075,
     "end_time": "2022-03-25T08:42:04.214433",
     "exception": false,
     "start_time": "2022-03-25T08:42:04.021358",
     "status": "completed"
    },
    "tags": []
   },
   "outputs": [
    {
     "data": {
      "text/plain": [
       "<AxesSubplot:title={'center':'Results'}>"
      ]
     },
     "execution_count": 26,
     "metadata": {},
     "output_type": "execute_result"
    },
    {
     "data": {
      "image/png": "[encoded data removed]",
      "text/plain": [
       "<Figure size 1080x504 with 1 Axes>"
      ]
     },
     "metadata": {
      "needs_background": "light"
     },
     "output_type": "display_data"
    }
   ],
   "source": [
    "get_results_table(experiment)"
   ]
  },
  {
   "cell_type": "code",
   "execution_count": 27,
   "id": "cf8dc689",
   "metadata": {
    "execution": {
     "iopub.execute_input": "2022-03-25T08:42:04.326071Z",
     "iopub.status.busy": "2022-03-25T08:42:04.324959Z",
     "iopub.status.idle": "2022-03-25T08:42:04.460300Z",
     "shell.execute_reply": "2022-03-25T08:42:04.459849Z"
    },
    "papermill": {
     "duration": 0.1894,
     "end_time": "2022-03-25T08:42:04.460395",
     "exception": false,
     "start_time": "2022-03-25T08:42:04.270995",
     "status": "completed"
    },
    "tags": []
   },
   "outputs": [
    {
     "data": {
      "text/plain": [
       "<AxesSubplot:title={'center':'Per Domain Validation Accuracy'}, xlabel='domain'>"
      ]
     },
     "execution_count": 27,
     "metadata": {},
     "output_type": "execute_result"
    },
    {
     "data": {
      "image/png": "[encoded data removed]",
      "text/plain": [
       "<Figure size 1080x504 with 1 Axes>"
      ]
     },
     "metadata": {
      "needs_background": "light"
     },
     "output_type": "display_data"
    }
   ],
   "source": [
    "get_domain_accuracies(experiment)"
   ]
  },
  {
   "cell_type": "code",
   "execution_count": 28,
   "id": "a74ae082",
   "metadata": {
    "execution": {
     "iopub.execute_input": "2022-03-25T08:42:04.578953Z",
     "iopub.status.busy": "2022-03-25T08:42:04.573639Z",
     "iopub.status.idle": "2022-03-25T08:42:04.588615Z",
     "shell.execute_reply": "2022-03-25T08:42:04.588980Z"
    },
    "papermill": {
     "duration": 0.071052,
     "end_time": "2022-03-25T08:42:04.589091",
     "exception": false,
     "start_time": "2022-03-25T08:42:04.518039",
     "status": "completed"
    },
    "tags": []
   },
   "outputs": [
    {
     "name": "stdout",
     "output_type": "stream",
     "text": [
      "Source Test Label Accuracy: 0.8747395833333333 Target Test Label Accuracy: 0.7269921436588104\n",
      "Source Val Label Accuracy: 0.8741536458333333 Target Val Label Accuracy: 0.7274543378995434\n"
     ]
    }
   ],
   "source": [
    "print(\"Source Test Label Accuracy:\", experiment[\"results\"][\"source_test_label_accuracy\"], \"Target Test Label Accuracy:\", experiment[\"results\"][\"target_test_label_accuracy\"])\n",
    "print(\"Source Val Label Accuracy:\", experiment[\"results\"][\"source_val_label_accuracy\"], \"Target Val Label Accuracy:\", experiment[\"results\"][\"target_val_label_accuracy\"])"
   ]
  },
  {
   "cell_type": "code",
   "execution_count": 29,
   "id": "dacca602",
   "metadata": {
    "execution": {
     "iopub.execute_input": "2022-03-25T08:42:04.702299Z",
     "iopub.status.busy": "2022-03-25T08:42:04.702028Z",
     "iopub.status.idle": "2022-03-25T08:42:04.719481Z",
     "shell.execute_reply": "2022-03-25T08:42:04.719915Z"
    },
    "papermill": {
     "duration": 0.07303,
     "end_time": "2022-03-25T08:42:04.720038",
     "exception": false,
     "start_time": "2022-03-25T08:42:04.647008",
     "status": "completed"
    },
    "tags": [
     "experiment_json"
    ]
   },
   "outputs": [
    {
     "data": {
      "text/plain": [
       "'{\"experiment_name\": \"tl_3Av2:oracle.run1.framed -> cores\", \"parameters\": {\"experiment_name\": \"tl_3Av2:oracle.run1.framed -> cores\", \"device\": \"cuda\", \"lr\": 0.0001, \"x_shape\": [2, 200], \"n_shot\": 3, \"n_query\": 2, \"train_k_factor\": 3, \"val_k_factor\": 2, \"test_k_factor\": 2, \"torch_default_dtype\": \"torch.float32\", \"n_epoch\": 50, \"patience\": 3, \"criteria_for_best\": \"target_accuracy\", \"x_net\": [{\"class\": \"nnReshape\", \"kargs\": {\"shape\": [-1, 1, 2, 200]}}, {\"class\": \"Conv2d\", \"kargs\": {\"in_channels\": 1, \"out_channels\": 256, \"kernel_size\": [1, 7], \"bias\": false, \"padding\": [0, 3]}}, {\"class\": \"ReLU\", \"kargs\": {\"inplace\": true}}, {\"class\": \"BatchNorm2d\", \"kargs\": {\"num_features\": 256}}, {\"class\": \"Conv2d\", \"kargs\": {\"in_channels\": 256, \"out_channels\": 80, \"kernel_size\": [2, 7], \"bias\": true, \"padding\": [0, 3]}}, {\"class\": \"ReLU\", \"kargs\": {\"inplace\": true}}, {\"class\": \"BatchNorm2d\", \"kargs\": {\"num_features\": 80}}, {\"class\": \"Flatten\", \"kargs\": {}}, {\"class\": \"Linear\", \"kargs\": {\"in_features\": 16000, \"out_features\": 256}}, {\"class\": \"ReLU\", \"kargs\": {\"inplace\": true}}, {\"class\": \"BatchNorm1d\", \"kargs\": {\"num_features\": 256}}, {\"class\": \"Linear\", \"kargs\": {\"in_features\": 256, \"out_features\": 256}}], \"NUM_LOGS_PER_EPOCH\": 10, \"BEST_MODEL_PATH\": \"./best_model.pth\", \"n_way\": 16, \"datasets\": [{\"labels\": [\"1-10.\", \"1-11.\", \"1-15.\", \"1-16.\", \"1-17.\", \"1-18.\", \"1-19.\", \"10-4.\", \"10-7.\", \"11-1.\", \"11-14.\", \"11-17.\", \"11-20.\", \"11-7.\", \"13-20.\", \"13-8.\", \"14-10.\", \"14-11.\", \"14-14.\", \"14-7.\", \"15-1.\", \"15-20.\", \"16-1.\", \"16-16.\", \"17-10.\", \"17-11.\", \"17-2.\", \"19-1.\", \"19-16.\", \"19-19.\", \"19-20.\", \"19-3.\", \"2-10.\", \"2-11.\", \"2-17.\", \"2-18.\", \"2-20.\", \"2-3.\", \"2-4.\", \"2-5.\", \"2-6.\", \"2-7.\", \"2-8.\", \"3-13.\", \"3-18.\", \"3-3.\", \"4-1.\", \"4-10.\", \"4-11.\", \"4-19.\", \"5-5.\", \"6-15.\", \"7-10.\", \"7-14.\", \"8-18.\", \"8-20.\", \"8-3.\", \"8-8.\"], \"domains\": [1, 2, 3, 4, 5], \"num_examples_per_domain_per_label\": -1, \"pickle_path\": \"/mnt/wd500GB/CSC500/csc500-main/datasets/cores.stratified_ds.2022A.pkl\", \"source_or_target_dataset\": \"target\", \"x_transforms\": [\"unit_mag\", \"take_200\"], \"episode_transforms\": [], \"domain_prefix\": \"C_\"}, {\"labels\": [\"3123D52\", \"3123D65\", \"3123D79\", \"3123D80\", \"3123D54\", \"3123D70\", \"3123D7B\", \"3123D89\", \"3123D58\", \"3123D76\", \"3123D7D\", \"3123EFE\", \"3123D64\", \"3123D78\", \"3123D7E\", \"3124E4A\"], \"domains\": [32, 38, 8, 44, 14, 50, 20, 26], \"num_examples_per_domain_per_label\": 2000, \"pickle_path\": \"/mnt/wd500GB/CSC500/csc500-main/datasets/oracle.Run1_framed_2000Examples_stratified_ds.2022A.pkl\", \"source_or_target_dataset\": \"source\", \"x_transforms\": [\"unit_mag\", \"take_200\", \"resample_20Msps_to_25Msps\"], \"episode_transforms\": [], \"domain_prefix\": \"O_\"}], \"seed\": 1337, \"dataset_seed\": 1337, \"domains_source\": [\"O_32\", \"O_38\", \"O_8\", \"O_44\", \"O_14\", \"O_50\", \"O_20\", \"O_26\"], \"domains_target\": [\"C_1\", \"C_2\", \"C_3\", \"C_4\", \"C_5\"]}, \"results\": {\"source_test_label_accuracy\": 0.8747395833333333, \"source_test_label_loss\": 0.3810642957687378, \"target_test_label_accuracy\": 0.7269921436588104, \"target_test_label_loss\": 122.81609344482422, \"source_val_label_accuracy\": 0.8741536458333333, \"source_val_label_loss\": 0.3506017327308655, \"target_val_label_accuracy\": 0.7274543378995434, \"target_val_label_loss\": 119.64965057373047, \"total_epochs_trained\": 18, \"total_experiment_time_secs\": 2999.916713476181, \"confusion\": {\"O_14\": {\"15\": {\"15\": 240}, \"3\": {\"3\": 229, \"4\": 2, \"2\": 7, \"0\": 1, \"5\": 1}, \"6\": {\"6\": 203, \"13\": 30, \"2\": 7}, \"1\": {\"1\": 238, \"5\": 1, \"4\": 1}, \"8\": {\"8\": 240}, \"10\": {\"10\": 236, \"0\": 4}, \"9\": {\"9\": 240}, \"13\": {\"13\": 174, \"6\": 54, \"2\": 6, \"14\": 3, \"4\": 2, \"7\": 1}, \"12\": {\"12\": 240}, \"5\": {\"5\": 236, \"4\": 2, \"2\": 1, \"1\": 1}, \"0\": {\"0\": 234, \"11\": 1, \"10\": 3, \"3\": 2}, \"2\": {\"2\": 180, \"3\": 4, \"14\": 27, \"6\": 9, \"4\": 3, \"13\": 11, \"5\": 6}, \"11\": {\"11\": 234, \"9\": 6}, \"14\": {\"14\": 218, \"2\": 16, \"13\": 4, \"6\": 1, \"3\": 1}, \"7\": {\"7\": 240}, \"4\": {\"4\": 238, \"1\": 2}}, \"O_20\": {\"3\": {\"12\": 38, \"9\": 36, \"3\": 144, \"4\": 5, \"2\": 10, \"7\": 3, \"1\": 4}, \"15\": {\"15\": 201, \"0\": 11, \"1\": 26, \"13\": 2}, \"8\": {\"8\": 231, \"4\": 5, \"14\": 1, \"7\": 2, \"6\": 1}, \"4\": {\"4\": 227, \"8\": 4, \"3\": 8, \"10\": 1}, \"14\": {\"6\": 11, \"14\": 227, \"10\": 1, \"8\": 1}, \"0\": {\"0\": 215, \"15\": 18, \"8\": 2, \"12\": 3, \"5\": 1, \"1\": 1}, \"7\": {\"7\": 213, \"2\": 16, \"8\": 2, \"9\": 5, \"3\": 4}, \"6\": {\"6\": 236, \"14\": 4}, \"10\": {\"10\": 239, \"4\": 1}, \"5\": {\"5\": 236, \"0\": 1, \"12\": 2, \"1\": 1}, \"2\": {\"2\": 146, \"3\": 16, \"7\": 12, \"12\": 10, \"9\": 46, \"1\": 2, \"13\": 8}, \"12\": {\"12\": 143, \"3\": 47, \"1\": 40, \"9\": 7, \"4\": 1, \"15\": 1, \"2\": 1}, \"9\": {\"9\": 174, \"3\": 23, \"2\": 34, \"12\": 5, \"1\": 1, \"7\": 3}, \"1\": {\"1\": 165, \"12\": 50, \"15\": 21, \"3\": 3, \"0\": 1}, \"11\": {\"11\": 240}, \"13\": {\"13\": 227, \"2\": 11, \"1\": 1, \"3\": 1}}, \"O_38\": {\"5\": {\"5\": 203, \"8\": 23, \"13\": 4, \"7\": 7, \"0\": 2, \"15\": 1}, \"8\": {\"8\": 182, \"7\": 19, \"0\": 10, \"5\": 20, \"15\": 3, \"13\": 2, \"10\": 4}, \"11\": {\"11\": 237, \"10\": 1, \"14\": 1, \"0\": 1}, \"1\": {\"1\": 232, \"15\": 8}, \"10\": {\"10\": 208, \"7\": 3, \"0\": 3, \"13\": 22, \"14\": 1, \"8\": 3}, \"15\": {\"15\": 214, \"8\": 10, \"1\": 13, \"2\": 1, \"13\": 2}, \"3\": {\"3\": 235, \"0\": 5}, \"7\": {\"7\": 202, \"0\": 18, \"8\": 16, \"5\": 3, \"9\": 1}, \"4\": {\"4\": 240}, \"14\": {\"14\": 225, \"2\": 11, \"0\": 2, \"10\": 2}, \"9\": {\"9\": 236, \"6\": 2, \"3\": 1, \"5\": 1}, \"12\": {\"12\": 237, \"4\": 3}, \"6\": {\"6\": 239, \"5\": 1}, \"2\": {\"2\": 228, \"13\": 5, \"14\": 5, \"15\": 1, \"10\": 1}, \"0\": {\"8\": 8, \"0\": 204, \"13\": 6, \"7\": 5, \"3\": 7, \"15\": 1, \"10\": 8, \"12\": 1}, \"13\": {\"13\": 212, \"14\": 1, \"2\": 5, \"15\": 2, \"8\": 3, \"10\": 16, \"0\": 1}}, \"O_8\": {\"9\": {\"9\": 240}, \"10\": {\"10\": 217, \"13\": 16, \"14\": 4, \"4\": 3}, \"13\": {\"13\": 141, \"10\": 37, \"4\": 45, \"0\": 11, \"6\": 6}, \"0\": {\"0\": 211, \"4\": 7, \"13\": 12, \"7\": 5, \"6\": 5}, \"1\": {\"1\": 235, \"11\": 5}, \"15\": {\"15\": 211, \"12\": 29}, \"5\": {\"5\": 236, \"14\": 4}, \"3\": {\"3\": 238, \"2\": 1, \"12\": 1}, \"6\": {\"6\": 189, \"13\": 8, \"4\": 14, \"7\": 29}, \"11\": {\"11\": 233, \"1\": 7}, \"8\": {\"8\": 240}, \"4\": {\"4\": 187, \"13\": 38, \"6\": 13, \"10\": 1, \"0\": 1}, \"12\": {\"12\": 193, \"8\": 2, \"15\": 34, \"3\": 9, \"2\": 2}, \"14\": {\"14\": 230, \"1\": 3, \"10\": 4, \"13\": 2, \"5\": 1}, \"2\": {\"2\": 226, \"3\": 12, \"7\": 2}, \"7\": {\"7\": 207, \"6\": 31, \"4\": 1, \"0\": 1}}, \"O_50\": {\"7\": {\"7\": 216, \"13\": 9, \"5\": 8, \"6\": 5, \"4\": 2}, \"3\": {\"3\": 236, \"8\": 4}, \"8\": {\"8\": 228, \"10\": 10, \"3\": 2}, \"2\": {\"2\": 207, \"0\": 33}, \"14\": {\"14\": 239, \"11\": 1}, \"4\": {\"4\": 188, \"5\": 6, \"6\": 10, \"15\": 30, \"1\": 4, \"7\": 2}, \"6\": {\"6\": 222, \"15\": 4, \"5\": 2, \"7\": 4, \"13\": 5, \"4\": 3}, \"15\": {\"15\": 207, \"11\": 6, \"4\": 16, \"1\": 7, \"6\": 3, \"5\": 1}, \"10\": {\"10\": 218, \"13\": 10, \"8\": 4, \"0\": 8}, \"11\": {\"11\": 213, \"9\": 5, \"15\": 13, \"12\": 8, \"1\": 1}, \"13\": {\"6\": 14, \"13\": 209, \"7\": 8, \"10\": 4, \"0\": 1, \"5\": 3, \"1\": 1}, \"9\": {\"9\": 228, \"11\": 6, \"12\": 6}, \"0\": {\"0\": 208, \"10\": 11, \"2\": 19, \"13\": 2}, \"1\": {\"1\": 220, \"15\": 10, \"4\": 2, \"6\": 5, \"13\": 1, \"11\": 2}, \"12\": {\"12\": 234, \"9\": 3, \"11\": 3}, \"5\": {\"5\": 203, \"4\": 18, \"7\": 13, \"13\": 2, \"15\": 1, \"6\": 1, \"1\": 2}}, \"O_32\": {\"8\": {\"8\": 205, \"14\": 7, \"13\": 6, \"0\": 13, \"5\": 6, \"3\": 2, \"7\": 1}, \"14\": {\"11\": 12, \"14\": 193, \"0\": 12, \"8\": 9, \"7\": 6, \"5\": 6, \"3\": 1, \"13\": 1}, \"2\": {\"2\": 197, \"4\": 39, \"7\": 4}, \"0\": {\"0\": 194, \"7\": 5, \"8\": 29, \"14\": 12}, \"1\": {\"1\": 240}, \"10\": {\"10\": 240}, \"11\": {\"11\": 232, \"7\": 1, \"3\": 2, \"13\": 2, \"14\": 3}, \"5\": {\"5\": 190, \"3\": 5, \"8\": 7, \"7\": 29, \"14\": 4, \"0\": 1, \"13\": 4}, \"15\": {\"15\": 239, \"8\": 1}, \"3\": {\"3\": 232, \"13\": 6, \"11\": 1, \"14\": 1}, \"12\": {\"12\": 239, \"6\": 1}, \"7\": {\"7\": 204, \"4\": 14, \"13\": 2, \"14\": 5, \"5\": 11, \"2\": 3, \"0\": 1}, \"13\": {\"13\": 206, \"4\": 17, \"11\": 3, \"3\": 9, \"8\": 4, \"7\": 1}, \"6\": {\"6\": 240}, \"4\": {\"4\": 180, \"7\": 8, \"2\": 42, \"13\": 10}, \"9\": {\"9\": 240}}, \"O_26\": {\"4\": {\"4\": 200, \"7\": 10, \"1\": 4, \"8\": 12, \"0\": 9, \"14\": 1, \"10\": 4}, \"12\": {\"12\": 240}, \"10\": {\"14\": 14, \"10\": 110, \"0\": 67, \"6\": 8, \"8\": 33, \"15\": 4, \"9\": 1, \"1\": 2, \"4\": 1}, \"0\": {\"15\": 3, \"0\": 126, \"14\": 10, \"8\": 21, \"10\": 57, \"6\": 2, \"4\": 16, \"7\": 4, \"9\": 1}, \"13\": {\"13\": 214, \"7\": 1, \"9\": 18, \"2\": 6, \"15\": 1}, \"9\": {\"9\": 204, \"7\": 1, \"15\": 23, \"6\": 6, \"13\": 3, \"2\": 3}, \"3\": {\"3\": 168, \"2\": 52, \"7\": 19, \"8\": 1}, \"2\": {\"2\": 141, \"3\": 59, \"7\": 25, \"5\": 2, \"15\": 2, \"8\": 3, \"13\": 7, \"1\": 1}, \"5\": {\"5\": 231, \"2\": 3, \"13\": 4, \"9\": 1, \"15\": 1}, \"14\": {\"4\": 2, \"14\": 191, \"0\": 17, \"8\": 10, \"10\": 10, \"1\": 7, \"7\": 2, \"15\": 1}, \"8\": {\"7\": 15, \"4\": 23, \"14\": 6, \"8\": 144, \"10\": 31, \"0\": 15, \"6\": 2, \"2\": 4}, \"7\": {\"7\": 173, \"8\": 9, \"2\": 18, \"3\": 14, \"4\": 22, \"1\": 2, \"0\": 1, \"9\": 1}, \"6\": {\"6\": 211, \"8\": 1, \"10\": 10, \"15\": 14, \"0\": 1, \"9\": 3}, \"11\": {\"11\": 240}, \"15\": {\"8\": 11, \"6\": 5, \"15\": 181, \"9\": 15, \"10\": 9, \"7\": 5, \"13\": 8, \"5\": 1, \"0\": 2, \"2\": 3}, \"1\": {\"1\": 219, \"14\": 8, \"4\": 4, \"8\": 4, \"7\": 2, \"0\": 2, \"10\": 1}}, \"O_44\": {\"12\": {\"12\": 217, \"3\": 6, \"1\": 16, \"10\": 1}, \"7\": {\"7\": 168, \"2\": 28, \"6\": 2, \"9\": 39, \"3\": 1, \"13\": 2}, \"5\": {\"5\": 226, \"15\": 3, \"8\": 6, \"14\": 5}, \"15\": {\"15\": 205, \"4\": 5, \"5\": 6, \"0\": 9, \"14\": 7, \"8\": 8}, \"8\": {\"0\": 67, \"8\": 163, \"15\": 7, \"5\": 3}, \"2\": {\"2\": 192, \"7\": 26, \"10\": 12, \"9\": 2, \"1\": 8}, \"13\": {\"13\": 174, \"6\": 40, \"9\": 24, \"7\": 1, \"11\": 1}, \"4\": {\"4\": 205, \"14\": 30, \"6\": 1, \"15\": 2, \"5\": 1, \"13\": 1}, \"0\": {\"8\": 58, \"0\": 175, \"15\": 4, \"5\": 3}, \"6\": {\"13\": 51, \"6\": 158, \"9\": 24, \"7\": 6, \"11\": 1}, \"9\": {\"13\": 32, \"7\": 48, \"9\": 142, \"6\": 18}, \"11\": {\"11\": 236, \"13\": 2, \"6\": 2}, \"10\": {\"10\": 213, \"1\": 17, \"12\": 2, \"2\": 8}, \"14\": {\"4\": 44, \"14\": 178, \"5\": 7, \"15\": 11}, \"1\": {\"2\": 14, \"1\": 180, \"3\": 13, \"12\": 20, \"10\": 13}, \"3\": {\"3\": 230, \"1\": 8, \"12\": 2}}, \"C_3\": {\"43\": {\"43\": 127, \"56\": 1}, \"9\": {\"18\": 3, \"23\": 6, \"9\": 68, \"27\": 12, \"48\": 15, \"17\": 19, \"1\": 2, \"0\": 4, \"30\": 2, \"57\": 3, \"29\": 1, \"50\": 3, \"34\": 3, \"12\": 1, \"52\": 2, \"5\": 1, \"16\": 1, \"36\": 1, \"3\": 2, \"20\": 1}, \"6\": {\"19\": 3, \"9\": 3, \"39\": 1, \"51\": 2, \"28\": 1, \"34\": 2, \"42\": 2, \"35\": 1, \"26\": 1, \"17\": 13, \"50\": 2, \"38\": 4, \"6\": 14, \"18\": 4, \"3\": 4, \"48\": 5, \"45\": 2, \"57\": 2, \"27\": 1, \"25\": 4, \"23\": 5, \"46\": 2, \"8\": 2, \"30\": 4, \"52\": 3, \"47\": 1}, \"3\": {\"46\": 5, \"8\": 3, \"32\": 6, \"3\": 53, \"47\": 3, \"25\": 5, \"42\": 1, \"50\": 12, \"36\": 5, \"57\": 5, \"21\": 5, \"30\": 1, \"6\": 1, \"9\": 7, \"12\": 1, \"29\": 3, \"1\": 3, \"48\": 1, \"4\": 11, \"5\": 9, \"7\": 1, \"11\": 1, \"53\": 2}, \"16\": {\"16\": 121, \"23\": 8, \"18\": 2, \"15\": 2, \"52\": 1}, \"51\": {\"6\": 1, \"51\": 86, \"38\": 1, \"52\": 4, \"53\": 12, \"20\": 11, \"30\": 4, \"17\": 1, \"16\": 3, \"46\": 1, \"23\": 2, \"50\": 1, \"8\": 1}, \"31\": {\"31\": 26, \"35\": 1, \"28\": 1}, \"46\": {\"31\": 1, \"51\": 18, \"46\": 28, \"23\": 1, \"47\": 2, \"20\": 8, \"44\": 1, \"48\": 2, \"50\": 7, \"36\": 2, \"40\": 1, \"1\": 1, \"27\": 7, \"45\": 3, \"12\": 1, \"3\": 9, \"25\": 5, \"16\": 3, \"54\": 2, \"29\": 1, \"5\": 3, \"9\": 6, \"11\": 6, \"4\": 1, \"8\": 1, \"38\": 2, \"34\": 2, \"28\": 1, \"35\": 1, \"52\": 3, \"53\": 1, \"30\": 1, \"19\": 2, \"21\": 1}, \"19\": {\"19\": 112, \"29\": 3, \"4\": 4, \"5\": 2, \"46\": 1, \"45\": 1, \"47\": 1}, \"8\": {\"18\": 4, \"8\": 80, \"12\": 3, \"48\": 3, \"47\": 4, \"30\": 26, \"20\": 10, \"17\": 7, \"50\": 1, \"16\": 2, \"36\": 1, \"23\": 4, \"34\": 2, \"52\": 4, \"38\": 1}, \"18\": {\"18\": 82, \"52\": 1, \"23\": 1}, \"37\": {\"37\": 28}, \"24\": {\"24\": 96, \"10\": 6, \"43\": 2}, \"10\": {\"10\": 57, \"24\": 6, \"56\": 1}, \"44\": {\"44\": 81, \"40\": 3, \"46\": 1, \"35\": 2, \"55\": 1}, \"14\": {\"14\": 8, \"13\": 2, \"56\": 5, \"24\": 7, \"10\": 3, \"55\": 6, \"40\": 3, \"31\": 2, \"35\": 2, \"46\": 1, \"22\": 1}, \"38\": {\"38\": 19, \"52\": 1, \"18\": 1, \"12\": 1, \"17\": 2, \"8\": 2, \"54\": 1, \"30\": 1}, \"53\": {\"53\": 79, \"26\": 1, \"36\": 3, \"48\": 4, \"55\": 2, \"8\": 8, \"47\": 2, \"21\": 2, \"30\": 3, \"54\": 1, \"12\": 2, \"51\": 10, \"20\": 5, \"17\": 6, \"50\": 5, \"19\": 1, \"27\": 1, \"41\": 1, \"32\": 1, \"5\": 1, \"38\": 1, \"52\": 1}, \"20\": {\"20\": 72, \"52\": 8, \"17\": 6, \"8\": 8, \"30\": 19, \"48\": 3, \"36\": 1, \"23\": 1, \"12\": 4, \"16\": 4, \"18\": 3, \"47\": 1, \"51\": 1, \"11\": 1}, \"32\": {\"20\": 2, \"48\": 4, \"32\": 8, \"1\": 1, \"3\": 1, \"27\": 3, \"30\": 2, \"52\": 2, \"17\": 1, \"16\": 2, \"9\": 1, \"57\": 1}, \"36\": {\"36\": 99, \"8\": 1}, \"33\": {\"33\": 21, \"6\": 1, \"21\": 3, \"9\": 1, \"32\": 1, \"27\": 1}, \"56\": {\"56\": 134, \"22\": 1, \"13\": 1}, \"23\": {\"23\": 130}, \"54\": {\"54\": 77, \"38\": 4, \"51\": 1, \"12\": 2, \"23\": 1, \"53\": 3, \"50\": 4, \"6\": 1, \"27\": 2, \"11\": 2, \"41\": 1, \"8\": 1, \"9\": 1}, \"21\": {\"21\": 98, \"46\": 4, \"2\": 1, \"41\": 1, \"7\": 1, \"53\": 4, \"1\": 1, \"51\": 4, \"5\": 2, \"54\": 3, \"50\": 3, \"32\": 1, \"3\": 2, \"25\": 1}, \"28\": {\"28\": 25, \"35\": 1, \"29\": 2}, \"26\": {\"26\": 14, \"48\": 2, \"12\": 1, \"8\": 3, \"18\": 1, \"30\": 1, \"0\": 2}, \"48\": {\"26\": 2, \"27\": 1, \"48\": 90, \"30\": 3, \"50\": 2, \"17\": 7, \"18\": 1, \"23\": 3, \"51\": 1, \"34\": 1, \"40\": 1, \"47\": 2, \"15\": 1, \"52\": 1}, \"52\": {\"52\": 112, \"23\": 3, \"15\": 2, \"30\": 1}, \"39\": {\"39\": 14, \"33\": 2}, \"22\": {\"22\": 118, \"56\": 11, \"49\": 1, \"14\": 1, \"10\": 2, \"43\": 2, \"24\": 3, \"13\": 2}, \"13\": {\"13\": 126, \"56\": 1, \"24\": 1}, \"2\": {\"2\": 31, \"5\": 1}, \"34\": {\"34\": 16, \"27\": 2, \"48\": 5, \"23\": 2, \"17\": 4, \"1\": 2, \"53\": 1}, \"27\": {\"5\": 2, \"27\": 88, \"17\": 7, \"34\": 6, \"9\": 9, \"50\": 2, \"48\": 4, \"47\": 1, \"30\": 5, \"20\": 2, \"38\": 1, \"32\": 1, \"8\": 1, \"12\": 1, \"57\": 1, \"23\": 1}, \"45\": {\"45\": 46, \"25\": 2, \"27\": 1, \"2\": 1, \"12\": 1, \"44\": 1, \"36\": 1, \"54\": 2, \"19\": 2, \"3\": 1, \"9\": 1, \"4\": 1}, \"35\": {\"31\": 3, \"35\": 25}, \"29\": {\"29\": 73, \"36\": 3, \"0\": 6, \"1\": 4, \"8\": 4, \"12\": 1, \"5\": 3, \"57\": 8, \"19\": 7, \"47\": 5, \"3\": 4, \"50\": 2, \"4\": 3, \"9\": 1, \"32\": 2, \"6\": 2}, \"25\": {\"25\": 52, \"27\": 8, \"51\": 9, \"26\": 1, \"33\": 1, \"6\": 2, \"42\": 2, \"48\": 2, \"21\": 6, \"3\": 12, \"12\": 2, \"17\": 1, \"20\": 2, \"45\": 1, \"52\": 1, \"50\": 6, \"40\": 4, \"55\": 6, \"8\": 1, \"46\": 13, \"9\": 1, \"47\": 1, \"35\": 2, \"54\": 2, \"32\": 1, \"53\": 1, \"44\": 2, \"5\": 2}, \"0\": {\"34\": 3, \"15\": 4, \"0\": 54, \"18\": 5, \"38\": 3, \"20\": 3, \"57\": 6, \"12\": 2, \"16\": 6, \"48\": 14, \"47\": 2, \"17\": 11, \"53\": 1, \"1\": 1, \"23\": 6, \"5\": 2, \"26\": 1}, \"41\": {\"41\": 25, \"27\": 2, \"38\": 1}, \"11\": {\"23\": 20, \"11\": 68, \"52\": 17, \"16\": 13, \"12\": 1, \"18\": 1, \"30\": 2, \"20\": 1, \"15\": 15, \"53\": 1, \"51\": 3}, \"5\": {\"5\": 37, \"29\": 5, \"27\": 13, \"38\": 1, \"48\": 5, \"1\": 6, \"30\": 2, \"47\": 2, \"16\": 2, \"23\": 5, \"57\": 5, \"11\": 1, \"50\": 1, \"53\": 1, \"9\": 9, \"0\": 3, \"17\": 2, \"18\": 1, \"34\": 1, \"12\": 2, \"3\": 1, \"36\": 1, \"54\": 1, \"4\": 1}, \"1\": {\"27\": 9, \"1\": 54, \"32\": 1, \"9\": 6, \"48\": 3, \"36\": 2, \"5\": 11, \"0\": 4, \"17\": 1, \"4\": 1, \"3\": 2, \"25\": 1, \"29\": 1, \"34\": 2, \"47\": 1, \"19\": 1}, \"57\": {\"17\": 12, \"20\": 6, \"57\": 43, \"0\": 12, \"27\": 3, \"30\": 5, \"29\": 5, \"48\": 9, \"1\": 5, \"9\": 3, \"16\": 6, \"34\": 1, \"8\": 1, \"47\": 1, \"5\": 2, \"12\": 1, \"23\": 1}, \"17\": {\"17\": 104, \"10\": 1, \"48\": 1, \"56\": 1, \"27\": 1}, \"7\": {\"7\": 33, \"41\": 2, \"54\": 1}, \"12\": {\"17\": 14, \"54\": 8, \"18\": 1, \"48\": 5, \"8\": 2, \"12\": 24, \"50\": 3, \"47\": 1, \"6\": 1, \"52\": 3, \"20\": 6, \"3\": 3, \"16\": 2, \"30\": 7, \"0\": 1, \"5\": 3, \"27\": 2, \"34\": 2, \"9\": 3, \"53\": 1}, \"47\": {\"29\": 4, \"17\": 14, \"47\": 26, \"12\": 2, \"48\": 13, \"23\": 3, \"38\": 1, \"20\": 1, \"8\": 10, \"13\": 1, \"5\": 1, \"50\": 5, \"55\": 2, \"0\": 2, \"27\": 3, \"16\": 2, \"52\": 1, \"32\": 1}, \"40\": {\"40\": 115, \"49\": 1, \"44\": 11, \"55\": 6, \"42\": 1, \"13\": 1, \"29\": 1}, \"15\": {\"15\": 127, \"1\": 1, \"16\": 4, \"23\": 5, \"18\": 3, \"55\": 1, \"47\": 1}, \"42\": {\"42\": 20, \"6\": 1, \"28\": 1, \"45\": 3, \"29\": 1, \"3\": 1, \"54\": 1}, \"55\": {\"55\": 147, \"25\": 2, \"35\": 1}, \"49\": {\"49\": 16, \"24\": 4}, \"30\": {\"30\": 110, \"16\": 2, \"44\": 1, \"17\": 2, \"40\": 1, \"55\": 1, \"18\": 2, \"23\": 1}, \"50\": {\"48\": 9, \"12\": 4, \"3\": 6, \"50\": 21, \"30\": 11, \"45\": 4, \"6\": 6, \"36\": 5, \"54\": 4, \"8\": 14, \"53\": 10, \"18\": 1, \"23\": 4, \"16\": 1, \"17\": 8, \"47\": 2, \"9\": 1, \"4\": 2, \"11\": 1, \"40\": 1, \"21\": 3, \"5\": 2, \"29\": 2, \"25\": 2, \"20\": 3, \"19\": 1, \"46\": 2, \"51\": 3, \"55\": 1}, \"4\": {\"4\": 130, \"3\": 3, \"5\": 2, \"29\": 1}}, \"C_4\": {\"35\": {\"35\": 36, \"44\": 2, \"33\": 1, \"40\": 1}, \"25\": {\"25\": 74, \"32\": 2, \"55\": 8, \"6\": 12, \"3\": 10, \"46\": 1, \"53\": 3, \"51\": 12, \"0\": 1, \"39\": 1, \"54\": 1, \"12\": 1, \"21\": 5, \"20\": 1, \"9\": 1, \"43\": 1}, \"24\": {\"24\": 54, \"43\": 2}, \"48\": {\"30\": 2, \"48\": 114, \"17\": 1, \"42\": 4, \"8\": 3, \"18\": 1, \"47\": 7, \"27\": 2, \"5\": 2, \"20\": 1, \"12\": 1}, \"51\": {\"48\": 3, \"51\": 99, \"21\": 9, \"1\": 1, \"5\": 2, \"42\": 2, \"20\": 5, \"53\": 7, \"46\": 1, \"8\": 2, \"11\": 1, \"54\": 1, \"16\": 1, \"17\": 1, \"52\": 6, \"15\": 2, \"23\": 1}, \"13\": {\"13\": 119, \"56\": 1}, \"14\": {\"14\": 4, \"0\": 2, \"37\": 2, \"38\": 1, \"40\": 2, \"56\": 2, \"35\": 3}, \"32\": {\"30\": 1, \"32\": 16, \"57\": 2, \"17\": 3, \"5\": 1, \"18\": 1}, \"30\": {\"30\": 43, \"8\": 1}, \"34\": {\"34\": 22, \"4\": 1, \"6\": 1}, \"9\": {\"9\": 89, \"26\": 2, \"54\": 2, \"12\": 2, \"50\": 2, \"29\": 8, \"4\": 17, \"45\": 1, \"55\": 1, \"20\": 1, \"25\": 2, \"40\": 1, \"3\": 2, \"34\": 1, \"6\": 1, \"19\": 2, \"57\": 1, \"53\": 1}, \"1\": {\"30\": 1, \"1\": 23, \"20\": 1, \"48\": 5, \"57\": 3, \"27\": 2, \"42\": 2, \"9\": 1, \"29\": 1, \"46\": 1}, \"0\": {\"1\": 3, \"0\": 53, \"14\": 1, \"27\": 1, \"29\": 4, \"43\": 5, \"53\": 1, \"33\": 1, \"46\": 2, \"22\": 4, \"18\": 1, \"56\": 2, \"10\": 1, \"40\": 1}, \"38\": {\"38\": 36, \"13\": 3, \"10\": 1}, \"22\": {\"1\": 2, \"22\": 82, \"24\": 4, \"30\": 1, \"43\": 7, \"56\": 2, \"50\": 1, \"10\": 3, \"57\": 1, \"5\": 3, \"41\": 2, \"19\": 1, \"3\": 2, \"0\": 3, \"13\": 1, \"46\": 2, \"11\": 2, \"6\": 1, \"32\": 1, \"17\": 1, \"45\": 1, \"21\": 1, \"54\": 2, \"51\": 1, \"29\": 1}, \"40\": {\"40\": 88, \"55\": 9, \"44\": 9, \"31\": 2, \"35\": 2, \"33\": 5, \"10\": 3, \"37\": 1, \"19\": 1}, \"6\": {\"50\": 10, \"48\": 7, \"6\": 29, \"27\": 6, \"55\": 2, \"28\": 1, \"34\": 1, \"18\": 1, \"40\": 1, \"54\": 3, \"12\": 3, \"4\": 2, \"5\": 8, \"20\": 4, \"30\": 1, \"21\": 4, \"44\": 3, \"47\": 2, \"9\": 4, \"3\": 5, \"25\": 1, \"53\": 4, \"23\": 3, \"45\": 1, \"46\": 3, \"8\": 1, \"36\": 1, \"17\": 1}, \"16\": {\"16\": 84, \"23\": 6, \"0\": 1, \"52\": 4, \"15\": 1}, \"11\": {\"16\": 6, \"11\": 57, \"15\": 16, \"52\": 7, \"42\": 1, \"47\": 4, \"23\": 7, \"5\": 1, \"18\": 5}, \"20\": {\"20\": 99, \"53\": 1, \"47\": 6, \"30\": 5, \"21\": 1, \"5\": 2, \"23\": 3, \"36\": 1, \"12\": 1, \"27\": 1, \"8\": 1, \"48\": 1}, \"17\": {\"17\": 56, \"27\": 10, \"48\": 5, \"36\": 1, \"30\": 2, \"42\": 2, \"47\": 1, \"55\": 1, \"23\": 1, \"8\": 1}, \"26\": {\"26\": 20, \"19\": 1, \"45\": 1, \"3\": 1, \"29\": 1}, \"54\": {\"54\": 60, \"5\": 1, \"47\": 2, \"50\": 1, \"6\": 1, \"23\": 3, \"53\": 12, \"8\": 5, \"12\": 2, \"18\": 4, \"21\": 2, \"41\": 2, \"3\": 3, \"9\": 2, \"36\": 2, \"51\": 1, \"17\": 1, \"30\": 1, \"46\": 1, \"11\": 1, \"20\": 1}, \"55\": {\"55\": 133, \"44\": 6, \"14\": 1, \"31\": 2, \"0\": 1, \"35\": 4, \"40\": 2, \"50\": 1, \"25\": 2, \"6\": 1, \"9\": 1}, \"50\": {\"54\": 5, \"6\": 10, \"19\": 3, \"50\": 44, \"28\": 1, \"45\": 3, \"39\": 2, \"21\": 3, \"12\": 1, \"25\": 4, \"9\": 9, \"55\": 4, \"5\": 3, \"3\": 9, \"36\": 7, \"44\": 3, \"4\": 3, \"29\": 7, \"13\": 1, \"46\": 2, \"48\": 1, \"26\": 2, \"7\": 1, \"53\": 1, \"18\": 1, \"27\": 1, \"57\": 1}, \"19\": {\"19\": 130, \"35\": 1, \"44\": 4, \"0\": 1, \"48\": 1, \"9\": 2, \"20\": 1, \"55\": 1, \"45\": 1}, \"44\": {\"44\": 109, \"33\": 2, \"19\": 7, \"50\": 1, \"55\": 2, \"38\": 1}, \"47\": {\"47\": 97, \"57\": 2, \"18\": 7, \"52\": 3, \"23\": 3, \"48\": 2, \"15\": 3, \"5\": 1, \"16\": 2}, \"33\": {\"40\": 3, \"14\": 2, \"33\": 30, \"35\": 1}, \"5\": {\"5\": 18, \"23\": 21, \"47\": 14, \"41\": 1, \"20\": 5, \"27\": 2, \"21\": 3, \"53\": 6, \"17\": 2, \"48\": 5, \"6\": 2, \"42\": 3, \"18\": 3, \"52\": 6, \"9\": 1, \"25\": 1, \"16\": 3, \"8\": 3, \"4\": 3, \"55\": 2, \"54\": 1, \"3\": 1, \"15\": 2}, \"18\": {\"18\": 99, \"23\": 3, \"16\": 2, \"3\": 2, \"46\": 1, \"52\": 1}, \"21\": {\"21\": 84, \"5\": 2, \"17\": 6, \"53\": 5, \"12\": 4, \"30\": 1, \"54\": 1, \"52\": 1, \"20\": 10, \"8\": 5, \"55\": 1, \"23\": 2, \"48\": 1, \"46\": 1}, \"41\": {\"21\": 4, \"5\": 1, \"41\": 16, \"42\": 2, \"53\": 2, \"36\": 1, \"8\": 1, \"54\": 1, \"23\": 5, \"12\": 1, \"30\": 1, \"17\": 1}, \"23\": {\"23\": 125, \"18\": 1, \"52\": 2}, \"39\": {\"39\": 9, \"1\": 1, \"57\": 2, \"8\": 1, \"17\": 2, \"47\": 1, \"36\": 1, \"3\": 1, \"21\": 2}, \"37\": {\"37\": 22, \"31\": 1, \"55\": 1}, \"8\": {\"20\": 20, \"8\": 79, \"27\": 4, \"12\": 7, \"30\": 6, \"18\": 2, \"36\": 8, \"47\": 2, \"23\": 8, \"48\": 6, \"52\": 1, \"15\": 1}, \"49\": {\"49\": 17, \"5\": 1, \"21\": 1, \"3\": 1}, \"53\": {\"17\": 4, \"20\": 14, \"3\": 1, \"53\": 63, \"48\": 2, \"21\": 12, \"52\": 5, \"42\": 3, \"54\": 3, \"8\": 8, \"30\": 2, \"23\": 8, \"47\": 1, \"51\": 2, \"36\": 2, \"12\": 4, \"15\": 1, \"41\": 1, \"5\": 1, \"57\": 2, \"27\": 1}, \"31\": {\"31\": 28}, \"28\": {\"3\": 4, \"28\": 15, \"4\": 3, \"29\": 1, \"25\": 1, \"49\": 1, \"17\": 2, \"41\": 1, \"5\": 1, \"32\": 1, \"12\": 1, \"48\": 1}, \"3\": {\"28\": 1, \"31\": 1, \"3\": 45, \"25\": 4, \"45\": 1, \"48\": 5, \"53\": 3, \"4\": 4, \"5\": 2, \"8\": 5, \"41\": 1, \"50\": 10, \"6\": 9, \"9\": 1, \"12\": 4, \"54\": 6, \"46\": 4, \"20\": 1, \"44\": 1, \"47\": 2, \"27\": 5, \"42\": 2, \"21\": 1, \"36\": 3, \"51\": 2, \"55\": 1}, \"27\": {\"17\": 8, \"27\": 94, \"48\": 20, \"30\": 1, \"8\": 5, \"47\": 1, \"5\": 1, \"4\": 1, \"55\": 1, \"36\": 3, \"53\": 1, \"20\": 2}, \"46\": {\"17\": 9, \"8\": 3, \"27\": 9, \"46\": 21, \"12\": 3, \"23\": 7, \"35\": 2, \"41\": 2, \"15\": 2, \"18\": 4, \"47\": 8, \"20\": 4, \"3\": 2, \"48\": 15, \"21\": 4, \"16\": 3, \"25\": 1, \"5\": 3, \"52\": 3, \"36\": 1, \"53\": 5, \"14\": 2, \"42\": 1, \"55\": 3, \"1\": 1, \"54\": 1, \"50\": 1, \"22\": 1, \"57\": 2, \"51\": 1, \"9\": 2, \"43\": 2}, \"12\": {\"17\": 2, \"12\": 28, \"27\": 5, \"48\": 5, \"8\": 11, \"30\": 8, \"36\": 4, \"20\": 16, \"25\": 1, \"23\": 1, \"6\": 2, \"4\": 2, \"42\": 2, \"50\": 1, \"53\": 1, \"18\": 1, \"3\": 1, \"47\": 1}, \"7\": {\"28\": 1, \"7\": 17, \"32\": 2, \"27\": 1, \"19\": 1, \"40\": 1, \"3\": 1}, \"4\": {\"4\": 106, \"48\": 2, \"5\": 3, \"30\": 1, \"20\": 2, \"27\": 5, \"55\": 1, \"47\": 1, \"17\": 3, \"42\": 1, \"44\": 1, \"9\": 2, \"57\": 1, \"6\": 1, \"50\": 1, \"53\": 1}, \"42\": {\"42\": 32}, \"43\": {\"43\": 122, \"24\": 1, \"2\": 1, \"22\": 3, \"38\": 1, \"21\": 1, \"51\": 1}, \"29\": {\"29\": 94, \"19\": 3, \"1\": 2, \"40\": 1, \"4\": 1, \"9\": 2, \"36\": 3, \"3\": 1, \"57\": 5, \"50\": 2, \"27\": 3, \"5\": 1, \"20\": 1, \"55\": 1}, \"57\": {\"48\": 14, \"57\": 48, \"20\": 5, \"47\": 10, \"42\": 1, \"29\": 2, \"18\": 5, \"5\": 2, \"27\": 1, \"17\": 4, \"1\": 1, \"15\": 2, \"23\": 2, \"36\": 2, \"9\": 1}, \"52\": {\"52\": 95, \"47\": 1, \"23\": 7, \"18\": 1}, \"45\": {\"45\": 77, \"34\": 2, \"51\": 1, \"29\": 4, \"6\": 3, \"3\": 3, \"9\": 2, \"25\": 1, \"26\": 1, \"17\": 1, \"19\": 1}, \"36\": {\"36\": 67, \"8\": 11, \"30\": 2, \"12\": 2, \"27\": 6, \"42\": 2, \"53\": 1, \"20\": 1}, \"10\": {\"10\": 116, \"22\": 4, \"24\": 1, \"43\": 5}, \"15\": {\"15\": 120, \"16\": 11, \"52\": 3}, \"56\": {\"56\": 119, \"2\": 3, \"10\": 1, \"22\": 1}, \"2\": {\"38\": 1, \"2\": 34, \"22\": 1}}, \"C_5\": {\"47\": {\"1\": 13, \"47\": 44, \"57\": 11, \"42\": 6, \"3\": 1, \"8\": 9, \"48\": 8, \"20\": 2, \"23\": 1, \"39\": 1, \"7\": 1, \"46\": 1, \"53\": 1, \"52\": 1}, \"53\": {\"53\": 102, \"1\": 6, \"42\": 2, \"8\": 12, \"20\": 7, \"52\": 4, \"51\": 14, \"17\": 1, \"54\": 1, \"57\": 1}, \"29\": {\"29\": 110, \"33\": 1, \"9\": 1, \"50\": 1, \"44\": 5, \"12\": 1, \"5\": 5, \"0\": 2}, \"52\": {\"42\": 3, \"52\": 88, \"20\": 2, \"23\": 24, \"46\": 2, \"9\": 1, \"53\": 4, \"18\": 2, \"57\": 2, \"51\": 2}, \"55\": {\"55\": 123, \"6\": 2, \"4\": 4, \"45\": 9, \"25\": 1, \"46\": 2, \"9\": 3}, \"17\": {\"17\": 105, \"1\": 7, \"30\": 1, \"57\": 1, \"48\": 1, \"27\": 1}, \"42\": {\"42\": 34, \"8\": 2, \"17\": 2, \"23\": 2}, \"33\": {\"33\": 29, \"28\": 2, \"5\": 1}, \"11\": {\"42\": 4, \"46\": 4, \"11\": 83, \"54\": 2, \"12\": 1, \"57\": 3, \"52\": 13, \"15\": 5, \"20\": 5, \"53\": 3, \"23\": 13, \"16\": 8, \"51\": 2, \"18\": 1, \"1\": 1}, \"19\": {\"19\": 104, \"9\": 11, \"27\": 1, \"43\": 2}, \"1\": {\"53\": 5, \"1\": 113, \"17\": 6, \"48\": 10, \"57\": 3, \"42\": 1, \"30\": 2, \"18\": 1, \"6\": 1, \"52\": 1, \"8\": 1}, \"44\": {\"44\": 127, \"33\": 1, \"29\": 3, \"4\": 2, \"43\": 1, \"5\": 3, \"14\": 1, \"36\": 4}, \"49\": {\"49\": 36}, \"4\": {\"4\": 70, \"28\": 2, \"5\": 7, \"36\": 4, \"50\": 2, \"43\": 1, \"45\": 3, \"29\": 3, \"14\": 2, \"19\": 3, \"46\": 1, \"55\": 2}, \"6\": {\"17\": 7, \"53\": 3, \"30\": 12, \"8\": 4, \"1\": 16, \"26\": 1, \"6\": 26, \"50\": 3, \"20\": 6, \"14\": 1, \"3\": 2, \"7\": 1, \"45\": 4, \"16\": 2, \"57\": 5, \"48\": 9, \"25\": 2, \"27\": 2, \"19\": 1, \"46\": 1, \"32\": 2, \"38\": 1, \"51\": 1, \"21\": 2, \"55\": 1, \"11\": 1}, \"39\": {\"47\": 4, \"17\": 2, \"1\": 1, \"39\": 9, \"30\": 2, \"8\": 1, \"38\": 1}, \"50\": {\"21\": 7, \"50\": 58, \"54\": 5, \"28\": 1, \"12\": 5, \"45\": 14, \"34\": 1, \"3\": 2, \"43\": 4, \"40\": 1, \"55\": 7, \"19\": 11, \"25\": 5, \"9\": 7, \"5\": 2, \"20\": 1, \"47\": 1, \"4\": 2, \"27\": 2, \"29\": 1, \"46\": 1, \"41\": 1, \"14\": 4, \"2\": 1, \"48\": 1, \"36\": 1, \"57\": 1, \"6\": 1}, \"56\": {\"56\": 128, \"49\": 1, \"24\": 1}, \"25\": {\"25\": 80, \"54\": 4, \"50\": 3, \"34\": 1, \"0\": 1, \"12\": 5, \"45\": 4, \"9\": 3, \"20\": 1, \"47\": 1, \"53\": 2, \"27\": 10, \"46\": 2, \"19\": 2, \"21\": 6, \"30\": 1, \"55\": 2, \"8\": 3, \"11\": 3, \"6\": 3, \"51\": 1, \"26\": 1, \"29\": 2, \"40\": 1, \"5\": 1, \"43\": 1}, \"28\": {\"28\": 32}, \"35\": {\"35\": 35, \"22\": 1}, \"24\": {\"24\": 76, \"35\": 1, \"0\": 1, \"56\": 1, \"43\": 1}, \"21\": {\"21\": 122, \"54\": 1, \"12\": 4, \"11\": 2, \"26\": 1, \"25\": 1, \"57\": 1}, \"45\": {\"25\": 7, \"50\": 7, \"45\": 50, \"41\": 2, \"17\": 2, \"32\": 2, \"55\": 6, \"6\": 2, \"34\": 3, \"5\": 1, \"12\": 7, \"9\": 12, \"4\": 4, \"47\": 3, \"19\": 4, \"36\": 1, \"27\": 4, \"30\": 1, \"39\": 1, \"26\": 1, \"57\": 1, \"46\": 1, \"54\": 1, \"11\": 1}, \"16\": {\"16\": 134, \"23\": 3, \"52\": 2, \"5\": 1, \"11\": 1, \"18\": 2, \"55\": 1}, \"37\": {\"37\": 24}, \"57\": {\"57\": 113, \"17\": 1, \"48\": 4, \"46\": 2, \"30\": 1, \"18\": 2, \"1\": 7, \"27\": 2}, \"34\": {\"9\": 2, \"34\": 21, \"41\": 2, \"1\": 2, \"52\": 1, \"19\": 1, \"48\": 4, \"27\": 2, \"42\": 1}, \"38\": {\"53\": 1, \"38\": 31}, \"48\": {\"48\": 107, \"53\": 1, \"30\": 5, \"1\": 13, \"20\": 1, \"38\": 1, \"23\": 1, \"27\": 1}, \"26\": {\"53\": 1, \"26\": 21, \"42\": 1, \"51\": 1}, \"9\": {\"45\": 2, \"34\": 4, \"3\": 1, \"48\": 3, \"9\": 88, \"27\": 15, \"21\": 2, \"36\": 1, \"1\": 2, \"55\": 1, \"30\": 4, \"50\": 2, \"19\": 10, \"29\": 2, \"4\": 1, \"25\": 1, \"6\": 4, \"41\": 2, \"32\": 1, \"35\": 1, \"12\": 2, \"5\": 1, \"52\": 1, \"43\": 1}, \"18\": {\"23\": 3, \"18\": 61}, \"3\": {\"3\": 18, \"10\": 1, \"26\": 1, \"46\": 6, \"49\": 2, \"17\": 1, \"57\": 5, \"2\": 1, \"9\": 1, \"27\": 10, \"53\": 5, \"48\": 3, \"16\": 1, \"6\": 5, \"5\": 2, \"23\": 3, \"21\": 3, \"30\": 4, \"40\": 1, \"1\": 3, \"14\": 2, \"44\": 1, \"29\": 1, \"12\": 3, \"18\": 1, \"42\": 1, \"51\": 2, \"38\": 1, \"36\": 2, \"47\": 2, \"35\": 2, \"20\": 1, \"19\": 2, \"54\": 1, \"52\": 1, \"11\": 1}, \"23\": {\"23\": 118, \"18\": 4, \"46\": 1, \"16\": 1}, \"15\": {\"15\": 94, \"1\": 2, \"52\": 8, \"18\": 4, \"16\": 17, \"46\": 5, \"23\": 11, \"57\": 5, \"53\": 3, \"43\": 1, \"42\": 1, \"36\": 1, \"11\": 1, \"51\": 1}, \"10\": {\"10\": 66, \"13\": 2}, \"46\": {\"46\": 60, \"23\": 21, \"49\": 1, \"41\": 1, \"42\": 8, \"20\": 6, \"18\": 4, \"16\": 5, \"48\": 3, \"12\": 1, \"57\": 14, \"1\": 4, \"52\": 11, \"36\": 1, \"55\": 1, \"51\": 3, \"15\": 1, \"17\": 1, \"8\": 1, \"53\": 1}, \"22\": {\"22\": 24, \"13\": 1, \"10\": 2, \"44\": 1}, \"54\": {\"54\": 50, \"46\": 7, \"53\": 10, \"42\": 1, \"8\": 2, \"57\": 4, \"23\": 9, \"47\": 2, \"6\": 1, \"11\": 1, \"7\": 1, \"52\": 7, \"18\": 3, \"17\": 1, \"16\": 1, \"21\": 1, \"43\": 1, \"5\": 1, \"51\": 1, \"20\": 7, \"1\": 1}, \"27\": {\"34\": 3, \"27\": 78, \"1\": 13, \"17\": 11, \"41\": 1, \"8\": 3, \"30\": 20, \"48\": 8, \"46\": 1, \"20\": 2, \"57\": 8, \"23\": 1, \"32\": 3, \"42\": 2, \"6\": 2, \"54\": 3, \"9\": 1}, \"41\": {\"41\": 20, \"17\": 2, \"27\": 2, \"34\": 1, \"8\": 1, \"32\": 2}, \"31\": {\"31\": 34, \"0\": 1, \"50\": 1}, \"0\": {\"0\": 103, \"31\": 1, \"21\": 2, \"29\": 3, \"27\": 1, \"3\": 1, \"47\": 3, \"19\": 4, \"46\": 3, \"8\": 1, \"14\": 1, \"9\": 1}, \"7\": {\"48\": 1, \"7\": 17, \"12\": 1, \"20\": 3, \"30\": 1, \"8\": 1, \"1\": 2, \"42\": 1, \"38\": 2, \"51\": 3}, \"2\": {\"41\": 1, \"2\": 21, \"50\": 2, \"4\": 1, \"3\": 1, \"14\": 1, \"46\": 1}, \"14\": {\"41\": 2, \"14\": 17, \"15\": 1, \"28\": 4, \"4\": 3, \"3\": 4, \"19\": 2, \"9\": 1, \"21\": 1, \"0\": 1, \"43\": 1, \"31\": 1, \"33\": 1, \"50\": 2, \"29\": 1, \"12\": 1, \"54\": 1}, \"40\": {\"35\": 2, \"40\": 114, \"5\": 4, \"36\": 1, \"55\": 1, \"13\": 2}, \"5\": {\"5\": 105, \"36\": 2, \"29\": 10, \"44\": 1, \"55\": 1, \"33\": 2, \"3\": 2, \"35\": 1, \"40\": 2, \"4\": 1, \"43\": 1}, \"12\": {\"12\": 44, \"3\": 1, \"52\": 5, \"6\": 3, \"54\": 3, \"9\": 5, \"53\": 7, \"25\": 1, \"7\": 2, \"45\": 5, \"11\": 2, \"51\": 4, \"50\": 1, \"20\": 1, \"47\": 1, \"21\": 3, \"32\": 2, \"46\": 1, \"27\": 2, \"19\": 3}, \"43\": {\"43\": 140, \"25\": 1, \"40\": 1}, \"13\": {\"13\": 141, \"10\": 3, \"22\": 1, \"56\": 3}, \"36\": {\"49\": 1, \"36\": 79, \"28\": 1, \"5\": 3, \"50\": 2, \"33\": 2, \"3\": 3, \"35\": 1}, \"8\": {\"8\": 93, \"30\": 4, \"20\": 21, \"1\": 4, \"47\": 7, \"17\": 3, \"53\": 6, \"51\": 7, \"55\": 1, \"5\": 1, \"23\": 2, \"3\": 1}, \"32\": {\"1\": 5, \"32\": 11, \"17\": 4, \"30\": 4, \"5\": 1, \"48\": 4, \"34\": 1, \"44\": 1, \"27\": 1}, \"30\": {\"30\": 111, \"8\": 1, \"47\": 1, \"17\": 7, \"1\": 2, \"48\": 2, \"6\": 3, \"53\": 1}, \"51\": {\"51\": 128, \"20\": 4, \"53\": 2, \"5\": 1, \"55\": 1, \"1\": 2}, \"20\": {\"20\": 95, \"53\": 11, \"8\": 8, \"52\": 2, \"47\": 1, \"51\": 15, \"38\": 1, \"57\": 2, \"27\": 1, \"54\": 1, \"17\": 1}}, \"C_1\": {\"46\": {\"42\": 3, \"46\": 71, \"4\": 7, \"56\": 5, \"1\": 3, \"57\": 7, \"29\": 1, \"25\": 4, \"40\": 2, \"5\": 9, \"50\": 3, \"45\": 10, \"13\": 2, \"53\": 2, \"33\": 1, \"19\": 2, \"54\": 2, \"0\": 1, \"8\": 1, \"20\": 1, \"51\": 2, \"16\": 1}, \"16\": {\"16\": 132, \"18\": 2}, \"26\": {\"26\": 19, \"9\": 1, \"2\": 1, \"14\": 2, \"48\": 1}, \"10\": {\"22\": 8, \"10\": 75, \"24\": 2, \"15\": 6, \"11\": 5}, \"9\": {\"9\": 149, \"30\": 5, \"16\": 2}, \"28\": {\"28\": 25, \"38\": 1, \"49\": 1, \"3\": 1}, \"51\": {\"51\": 141, \"16\": 5, \"30\": 1, \"36\": 1, \"53\": 4, \"9\": 2, \"19\": 2}, \"1\": {\"1\": 69, \"57\": 15, \"33\": 1, \"42\": 1, \"8\": 3, \"6\": 2, \"17\": 2, \"50\": 2, \"45\": 1, \"3\": 1, \"19\": 1, \"48\": 2}, \"55\": {\"55\": 123, \"7\": 1, \"13\": 5, \"38\": 3, \"29\": 6, \"3\": 2, \"0\": 1, \"4\": 3, \"40\": 1, \"52\": 1, \"32\": 1, \"25\": 1}, \"27\": {\"27\": 119, \"43\": 4, \"24\": 1}, \"22\": {\"22\": 98, \"31\": 1, \"24\": 10, \"11\": 5, \"10\": 6, \"21\": 1, \"0\": 1, \"15\": 2}, \"52\": {\"52\": 98, \"1\": 2, \"0\": 10, \"44\": 1, \"56\": 1, \"55\": 3, \"11\": 7, \"15\": 1, \"51\": 1, \"22\": 1, \"47\": 1}, \"3\": {\"28\": 2, \"3\": 116, \"38\": 1, \"29\": 6, \"55\": 6, \"40\": 4, \"5\": 2, \"35\": 1, \"47\": 1, \"44\": 1}, \"33\": {\"9\": 3, \"33\": 23, \"50\": 2, \"34\": 4}, \"47\": {\"47\": 108, \"44\": 11, \"52\": 1}, \"42\": {\"42\": 38, \"5\": 2}, \"12\": {\"41\": 2, \"12\": 89, \"14\": 1, \"37\": 1, \"13\": 3, \"54\": 6, \"25\": 1, \"20\": 7, \"32\": 1, \"55\": 2, \"51\": 2, \"52\": 1}, \"23\": {\"23\": 90, \"36\": 6, \"18\": 4, \"16\": 10, \"21\": 3, \"15\": 3, \"9\": 8, \"53\": 2, \"17\": 1, \"30\": 2, \"8\": 2, \"48\": 1}, \"49\": {\"49\": 32}, \"7\": {\"7\": 23, \"8\": 2, \"51\": 1, \"33\": 1, \"17\": 1}, \"4\": {\"4\": 118, \"46\": 2, \"56\": 5, \"1\": 1, \"54\": 1, \"13\": 2, \"5\": 1, \"20\": 1, \"44\": 1}, \"50\": {\"50\": 65, \"9\": 7, \"6\": 9, \"17\": 1, \"8\": 9, \"48\": 26, \"2\": 1, \"36\": 2, \"14\": 1, \"30\": 6, \"53\": 4, \"40\": 1, \"0\": 1, \"5\": 1}, \"19\": {\"9\": 7, \"19\": 125, \"30\": 8, \"16\": 6, \"48\": 2, \"53\": 2, \"18\": 2, \"8\": 1, \"51\": 1}, \"11\": {\"11\": 129, \"24\": 2, \"22\": 3, \"10\": 3, \"0\": 1, \"52\": 2}, \"31\": {\"31\": 24, \"24\": 2, \"35\": 1, \"29\": 1}, \"41\": {\"41\": 24}, \"56\": {\"56\": 96, \"1\": 10, \"32\": 1, \"57\": 14, \"5\": 2, \"50\": 1, \"45\": 5, \"29\": 2, \"30\": 1, \"25\": 1, \"12\": 1, \"46\": 2, \"34\": 1, \"0\": 1}, \"0\": {\"0\": 141, \"54\": 2, \"15\": 1, \"32\": 2, \"11\": 2}, \"57\": {\"42\": 2, \"57\": 66, \"17\": 3, \"48\": 10, \"45\": 9, \"1\": 9, \"40\": 1, \"56\": 6, \"8\": 6, \"46\": 1, \"47\": 1, \"9\": 1, \"19\": 5, \"50\": 4, \"0\": 1, \"6\": 1, \"13\": 1, \"5\": 1}, \"53\": {\"9\": 17, \"2\": 3, \"53\": 79, \"36\": 1, \"50\": 4, \"19\": 1, \"30\": 15, \"18\": 2, \"8\": 10, \"6\": 4, \"16\": 1, \"48\": 3}, \"43\": {\"43\": 133, \"27\": 11}, \"37\": {\"37\": 32}, \"2\": {\"6\": 4, \"2\": 22, \"48\": 4, \"8\": 4, \"17\": 2}, \"6\": {\"2\": 1, \"6\": 32, \"18\": 1, \"17\": 5, \"30\": 8, \"48\": 16, \"36\": 2, \"9\": 4, \"50\": 4, \"16\": 2, \"57\": 1, \"5\": 1, \"53\": 4, \"8\": 12, \"12\": 1, \"45\": 2}, \"13\": {\"13\": 138, \"20\": 7, \"12\": 4, \"51\": 1}, \"18\": {\"18\": 72}, \"36\": {\"36\": 61, \"16\": 3}, \"29\": {\"29\": 130, \"38\": 1, \"44\": 6, \"52\": 1, \"55\": 1, \"47\": 1}, \"39\": {\"39\": 28}, \"17\": {\"17\": 50, \"30\": 4, \"48\": 5, \"8\": 2, \"18\": 1, \"19\": 1, \"9\": 1}, \"21\": {\"21\": 100, \"15\": 15, \"23\": 8, \"22\": 1}, \"25\": {\"25\": 111, \"45\": 6, \"57\": 2, \"55\": 5, \"54\": 1, \"51\": 2, \"6\": 1, \"37\": 1, \"5\": 1, \"40\": 1, \"52\": 1}, \"45\": {\"45\": 64, \"19\": 5, \"8\": 8, \"57\": 11, \"48\": 7, \"17\": 8, \"1\": 2, \"56\": 2, \"5\": 12, \"6\": 3, \"46\": 7, \"16\": 2, \"50\": 3, \"42\": 3, \"9\": 4, \"30\": 1}, \"38\": {\"38\": 24}, \"30\": {\"30\": 112, \"9\": 6, \"6\": 2}, \"24\": {\"52\": 2, \"24\": 92, \"22\": 8, \"11\": 3, \"49\": 1, \"10\": 2}, \"20\": {\"20\": 124, \"13\": 6, \"54\": 3, \"0\": 2, \"12\": 4, \"55\": 1}, \"8\": {\"50\": 1, \"8\": 113, \"6\": 2, \"48\": 7, \"18\": 1, \"9\": 5, \"17\": 4, \"30\": 7}, \"35\": {\"35\": 36}, \"54\": {\"54\": 102, \"51\": 1, \"14\": 1}, \"5\": {\"5\": 56, \"1\": 2, \"57\": 4, \"55\": 2, \"8\": 6, \"17\": 5, \"53\": 7, \"6\": 3, \"48\": 14, \"50\": 12, \"30\": 2, \"45\": 21, \"19\": 2, \"46\": 6, \"9\": 2, \"16\": 1, \"42\": 1, \"32\": 1, \"25\": 1}, \"48\": {\"8\": 10, \"48\": 125, \"6\": 4, \"9\": 3, \"50\": 2}, \"15\": {\"23\": 8, \"15\": 110, \"21\": 14, \"19\": 1, \"18\": 2, \"30\": 2, \"9\": 2, \"16\": 1, \"8\": 1, \"47\": 1}, \"34\": {\"34\": 21, \"33\": 1, \"8\": 2}, \"14\": {\"19\": 2, \"26\": 2, \"36\": 1, \"14\": 11, \"17\": 2, \"8\": 2, \"50\": 1, \"51\": 1, \"30\": 1, \"48\": 1}, \"32\": {\"32\": 24, \"46\": 1, \"0\": 1, \"54\": 2, \"13\": 1, \"1\": 1, \"5\": 1, \"55\": 1}, \"40\": {\"40\": 119, \"29\": 22, \"35\": 1, \"3\": 3, \"55\": 3}, \"44\": {\"44\": 105, \"29\": 6, \"55\": 3, \"49\": 1, \"47\": 10, \"13\": 2, \"40\": 1, \"57\": 2, \"35\": 2, \"56\": 2, \"0\": 1, \"52\": 1}}, \"C_2\": {\"36\": {\"36\": 115, \"8\": 1}, \"5\": {\"5\": 46, \"49\": 2, \"1\": 10, \"32\": 2, \"48\": 6, \"43\": 1, \"6\": 6, \"16\": 1, \"17\": 4, \"8\": 2, \"52\": 1, \"0\": 1, \"3\": 1, \"29\": 3, \"12\": 2, \"30\": 3, \"20\": 1, \"57\": 7, \"55\": 1, \"27\": 5, \"50\": 4, \"23\": 4, \"47\": 3, \"46\": 1, \"9\": 2, \"54\": 1}, \"45\": {\"45\": 78, \"46\": 4, \"3\": 6, \"4\": 2, \"26\": 1, \"19\": 9, \"50\": 5, \"2\": 1, \"20\": 1, \"25\": 6, \"29\": 3, \"12\": 1, \"54\": 3, \"44\": 2, \"51\": 1, \"5\": 1, \"39\": 1, \"42\": 1, \"40\": 1, \"21\": 1}, \"49\": {\"12\": 1, \"49\": 14, \"52\": 1, \"37\": 1, \"8\": 3, \"17\": 2, \"6\": 1, \"23\": 1}, \"50\": {\"41\": 3, \"34\": 1, \"32\": 1, \"20\": 4, \"8\": 13, \"46\": 3, \"48\": 5, \"50\": 16, \"47\": 3, \"29\": 3, \"17\": 1, \"30\": 11, \"2\": 1, \"21\": 13, \"12\": 2, \"55\": 1, \"31\": 1, \"6\": 10, \"54\": 7, \"53\": 8, \"52\": 1, \"27\": 8, \"23\": 3, \"19\": 3, \"0\": 2, \"33\": 1, \"51\": 1, \"45\": 4, \"36\": 3, \"25\": 2, \"9\": 1}, \"4\": {\"4\": 121, \"9\": 15, \"3\": 1, \"46\": 1}, \"43\": {\"43\": 143, \"10\": 5}, \"41\": {\"12\": 1, \"41\": 9, \"48\": 2, \"52\": 4, \"18\": 2, \"28\": 1, \"51\": 1}, \"37\": {\"37\": 36}, \"12\": {\"50\": 3, \"12\": 38, \"54\": 1, \"6\": 7, \"8\": 8, \"48\": 3, \"27\": 14, \"17\": 4, \"3\": 1, \"47\": 1, \"21\": 2, \"0\": 2, \"20\": 3, \"45\": 1, \"52\": 1, \"23\": 1, \"30\": 1, \"57\": 1}, \"33\": {\"33\": 25, \"3\": 1, \"19\": 2}, \"7\": {\"7\": 28, \"8\": 1, \"29\": 4, \"47\": 1, \"12\": 1, \"1\": 1}, \"56\": {\"56\": 133, \"22\": 5, \"14\": 1, \"13\": 1}, \"14\": {\"56\": 6, \"14\": 9, \"22\": 1, \"10\": 2, \"45\": 1, \"13\": 1, \"35\": 3, \"55\": 1}, \"52\": {\"52\": 115, \"23\": 9}, \"44\": {\"14\": 1, \"44\": 88, \"40\": 4, \"35\": 1, \"45\": 1, \"19\": 1}, \"48\": {\"48\": 134, \"30\": 2, \"23\": 1, \"6\": 2, \"57\": 4, \"47\": 1}, \"20\": {\"20\": 59, \"8\": 7, \"47\": 2, \"48\": 6, \"52\": 10, \"12\": 9, \"51\": 8, \"30\": 13, \"50\": 1, \"6\": 2, \"27\": 8, \"55\": 1, \"18\": 1, \"11\": 1}, \"55\": {\"55\": 138, \"40\": 3, \"44\": 1, \"46\": 2}, \"32\": {\"1\": 3, \"32\": 11, \"52\": 1, \"48\": 2, \"0\": 1, \"17\": 6, \"27\": 2, \"12\": 2}, \"40\": {\"44\": 5, \"40\": 108, \"31\": 2, \"19\": 4, \"55\": 7, \"33\": 1, \"35\": 4, \"46\": 1, \"45\": 3, \"30\": 1}, \"54\": {\"54\": 89, \"53\": 5, \"50\": 2, \"21\": 5, \"57\": 1, \"51\": 1, \"17\": 1, \"49\": 1, \"6\": 3}, \"17\": {\"17\": 80, \"48\": 11, \"30\": 5, \"23\": 4, \"27\": 3, \"16\": 1}, \"38\": {\"38\": 20}, \"24\": {\"24\": 87, \"43\": 5, \"10\": 4}, \"1\": {\"32\": 1, \"1\": 62, \"57\": 5, \"15\": 1, \"9\": 5, \"17\": 5, \"0\": 3, \"30\": 2, \"5\": 7, \"29\": 1, \"6\": 2, \"48\": 4, \"36\": 2, \"23\": 2, \"47\": 1, \"27\": 2, \"39\": 2, \"31\": 1, \"55\": 1, \"4\": 1, \"50\": 1, \"12\": 1}, \"6\": {\"32\": 1, \"48\": 17, \"6\": 35, \"12\": 7, \"23\": 7, \"17\": 3, \"16\": 3, \"52\": 3, \"54\": 2, \"30\": 17, \"8\": 4, \"57\": 4, \"47\": 2, \"15\": 2, \"1\": 2, \"27\": 5, \"21\": 3, \"53\": 2, \"0\": 1, \"50\": 2, \"25\": 1, \"51\": 1}, \"34\": {\"34\": 21, \"57\": 1, \"9\": 2, \"4\": 3, \"17\": 1}, \"11\": {\"11\": 82, \"52\": 15, \"16\": 17, \"15\": 10, \"23\": 10, \"48\": 1, \"6\": 1}, \"9\": {\"9\": 114, \"34\": 2, \"29\": 9, \"1\": 3, \"3\": 3, \"5\": 4, \"57\": 1, \"19\": 2, \"4\": 5, \"7\": 1, \"46\": 2, \"8\": 2, \"47\": 1, \"25\": 1}, \"8\": {\"8\": 76, \"12\": 10, \"47\": 7, \"27\": 11, \"36\": 2, \"6\": 3, \"30\": 22, \"52\": 3, \"20\": 6, \"18\": 1, \"50\": 1, \"57\": 2, \"48\": 3, \"23\": 4, \"53\": 1}, \"22\": {\"22\": 112, \"56\": 15, \"10\": 4, \"24\": 1, \"43\": 2, \"13\": 2}, \"26\": {\"26\": 24}, \"23\": {\"23\": 145, \"18\": 1}, \"10\": {\"10\": 99, \"24\": 3, \"56\": 1, \"43\": 7, \"22\": 2}, \"18\": {\"23\": 1, \"18\": 46, \"30\": 1}, \"13\": {\"13\": 115, \"56\": 1}, \"30\": {\"23\": 4, \"30\": 120, \"46\": 1, \"40\": 1, \"16\": 2}, \"42\": {\"46\": 2, \"42\": 30, \"39\": 1, \"9\": 1, \"3\": 2}, \"31\": {\"31\": 28}, \"46\": {\"1\": 4, \"46\": 34, \"32\": 2, \"20\": 2, \"6\": 1, \"2\": 2, \"50\": 4, \"53\": 9, \"38\": 4, \"3\": 3, \"48\": 3, \"21\": 5, \"54\": 6, \"52\": 2, \"57\": 1, \"5\": 3, \"30\": 1, \"40\": 3, \"36\": 4, \"47\": 2, \"44\": 2, \"45\": 1, \"19\": 2, \"25\": 8, \"9\": 4, \"51\": 8, \"55\": 3, \"8\": 2, \"49\": 1, \"33\": 1, \"7\": 1}, \"57\": {\"48\": 25, \"57\": 70, \"0\": 8, \"17\": 4, \"30\": 10, \"16\": 2, \"27\": 3, \"47\": 4, \"23\": 6, \"6\": 4, \"52\": 1, \"29\": 2, \"18\": 1, \"15\": 2}, \"47\": {\"5\": 2, \"7\": 2, \"47\": 54, \"52\": 2, \"0\": 3, \"17\": 2, \"8\": 18, \"48\": 17, \"6\": 6, \"18\": 2, \"23\": 4, \"27\": 8, \"57\": 8, \"30\": 2, \"16\": 1, \"29\": 2, \"20\": 1, \"36\": 2, \"15\": 1, \"50\": 1}, \"35\": {\"35\": 32}, \"15\": {\"15\": 123, \"16\": 4, \"43\": 1, \"57\": 1, \"23\": 1, \"30\": 2}, \"25\": {\"51\": 7, \"3\": 6, \"25\": 64, \"5\": 3, \"12\": 1, \"50\": 8, \"8\": 3, \"55\": 3, \"31\": 2, \"6\": 2, \"54\": 7, \"53\": 3, \"21\": 5, \"20\": 8, \"45\": 2, \"46\": 4, \"48\": 1, \"9\": 1, \"57\": 1, \"32\": 1, \"49\": 1, \"40\": 2, \"30\": 1}, \"19\": {\"19\": 119, \"5\": 2, \"45\": 1, \"1\": 1, \"9\": 2, \"29\": 5, \"8\": 1, \"46\": 3, \"4\": 2}, \"51\": {\"51\": 84, \"20\": 9, \"30\": 8, \"11\": 1, \"52\": 7, \"6\": 4, \"12\": 1, \"47\": 1, \"53\": 5, \"16\": 4, \"28\": 1, \"17\": 1, \"27\": 1, \"23\": 1}, \"53\": {\"53\": 65, \"17\": 2, \"51\": 11, \"6\": 6, \"28\": 2, \"52\": 2, \"48\": 6, \"8\": 11, \"54\": 1, \"20\": 2, \"23\": 4, \"50\": 2, \"55\": 2, \"27\": 6, \"57\": 1, \"47\": 4, \"36\": 2, \"21\": 4, \"12\": 1}, \"21\": {\"21\": 96, \"49\": 1, \"41\": 4, \"17\": 1, \"51\": 5, \"50\": 1, \"45\": 1, \"53\": 7, \"26\": 1, \"1\": 1, \"23\": 2}, \"39\": {\"39\": 20, \"29\": 5, \"3\": 1, \"44\": 1, \"1\": 1}, \"2\": {\"2\": 29, \"41\": 1, \"1\": 1, \"29\": 1}, \"16\": {\"16\": 135, \"23\": 11, \"15\": 3, \"11\": 1}, \"0\": {\"0\": 20, \"57\": 5, \"48\": 3, \"52\": 1, \"18\": 2, \"17\": 2, \"23\": 5, \"30\": 3, \"16\": 3, \"20\": 2, \"15\": 2}, \"3\": {\"3\": 30, \"19\": 7, \"17\": 1, \"21\": 6, \"5\": 3, \"45\": 3, \"26\": 2, \"12\": 1, \"47\": 2, \"46\": 4, \"29\": 4, \"4\": 3, \"54\": 3, \"50\": 4, \"9\": 5, \"25\": 5, \"6\": 1, \"2\": 2, \"32\": 1, \"38\": 1, \"36\": 1, \"31\": 2, \"8\": 1}, \"27\": {\"27\": 142}, \"28\": {\"28\": 19, \"52\": 5, \"18\": 1, \"41\": 2, \"55\": 1}, \"29\": {\"29\": 92, \"5\": 4, \"3\": 5, \"7\": 1, \"47\": 5, \"46\": 2, \"4\": 1, \"9\": 5, \"50\": 2, \"1\": 2, \"57\": 2, \"8\": 3, \"34\": 1, \"19\": 1, \"45\": 1, \"27\": 1}}}, \"per_domain_accuracy\": {\"O_14\": {\"accuracy\": 0.9427083333333334, \"source?\": true}, \"O_20\": {\"accuracy\": 0.85, \"source?\": true}, \"O_38\": {\"accuracy\": 0.9203125, \"source?\": true}, \"O_8\": {\"accuracy\": 0.8942708333333333, \"source?\": true}, \"O_50\": {\"accuracy\": 0.9052083333333333, \"source?\": true}, \"O_32\": {\"accuracy\": 0.90390625, \"source?\": true}, \"O_26\": {\"accuracy\": 0.7794270833333333, \"source?\": true}, \"O_44\": {\"accuracy\": 0.7973958333333333, \"source?\": true}, \"C_3\": {\"accuracy\": 0.6882267441860465, \"source?\": false}, \"C_4\": {\"accuracy\": 0.7026515151515151, \"source?\": false}, \"C_5\": {\"accuracy\": 0.7271298882681564, \"source?\": false}, \"C_1\": {\"accuracy\": 0.7943989071038251, \"source?\": false}, \"C_2\": {\"accuracy\": 0.7198093220338984, \"source?\": false}}}, \"history\": {\"epoch_indices\": [1, 2, 3, 4, 5, 6, 7, 8, 9, 10, 11, 12, 13, 14, 15, 16, 17, 18], \"train_label_loss\": [0.9897286182712941, 1.335125094949312, 0.656593558451693, 0.5500220094413851, 0.4849505038485707, 0.4423838963427226, 0.41132537400006275, 0.37284937804714513, 0.32878182350569185, 0.30408337755042814, 0.2858129293700802, 0.2677196723020946, 0.2573149688277183, 0.2445632666279423, 0.23153325491640273, 0.21775581393085303, 0.21198510766116668, 0.19653654594533562], \"source_val_label_loss\": [51.17996597290039, 0.6986433863639832, 0.7039138078689575, 0.60428786277771, 0.47987887263298035, 0.4611269533634186, 0.44197219610214233, 0.3899171054363251, 0.37848758697509766, 0.3447332978248596, 0.34528496861457825, 0.34159234166145325, 0.3816084563732147, 0.3506017327308655, 0.3403030037879944, 0.35146573185920715, 0.3417714536190033, 0.36741170287132263], \"target_val_label_loss\": [1475.165283203125, 86.89799499511719, 84.88299560546875, 82.52134704589844, 82.9796371459961, 85.09066772460938, 86.165283203125, 93.5321044921875, 99.03429412841797, 89.2396011352539, 101.3099594116211, 114.6288070678711, 127.49274444580078, 119.64965057373047, 148.06466674804688, 182.99610900878906, 188.3907470703125, 217.87899780273438], \"source_val_acc_label\": [0.5761067708333333, 0.7478515625, 0.7390950520833334, 0.7783203125, 0.8249348958333333, 0.83056640625, 0.8388997395833333, 0.85625, 0.8622721354166667, 0.8751627604166666, 0.8725260416666667, 0.8779622395833333, 0.86455078125, 0.8741536458333333, 0.8802408854166667, 0.8742838541666667, 0.8805013020833333, 0.87451171875], \"target_val_acc_label\": [0.596175799086758, 0.616117294520548, 0.6378781392694064, 0.6681292808219178, 0.6762271689497716, 0.6943136415525114, 0.701234303652968, 0.6972745433789954, 0.7008062214611872, 0.7173587328767124, 0.7136130136986302, 0.7137913812785388, 0.721710901826484, 0.7274543378995434, 0.7234945776255708, 0.7191067351598174, 0.7204623287671232, 0.7219962899543378]}, \"dataset_metrics\": {\"source\": {\"train\": {\"n_unique_x\": 179200, \"n_unique_y\": 16, \"n_batch/episode\": 6720}, \"val\": {\"n_unique_x\": 38400, \"n_unique_y\": 16, \"n_batch/episode\": 960}, \"test\": {\"n_unique_x\": 38400, \"n_unique_y\": 16, \"n_batch/episode\": 960}}, \"target\": {\"train\": {\"n_unique_x\": 175212, \"n_unique_y\": 58, \"n_batch/episode\": 6322}, \"val\": {\"n_unique_x\": 37196, \"n_unique_y\": 58, \"n_batch/episode\": 876}, \"test\": {\"n_unique_x\": 37634, \"n_unique_y\": 58, \"n_batch/episode\": 891}}}}'"
      ]
     },
     "execution_count": 29,
     "metadata": {},
     "output_type": "execute_result"
    }
   ],
   "source": [
    "json.dumps(experiment)"
   ]
  }
 ],
 "metadata": {
  "celltoolbar": "Tags",
  "kernelspec": {
   "display_name": "Python 3 (ipykernel)",
   "language": "python",
   "name": "python3"
  },
  "language_info": {
   "codemirror_mode": {
    "name": "ipython",
    "version": 3
   },
   "file_extension": ".py",
   "mimetype": "text/x-python",
   "name": "python",
   "nbconvert_exporter": "python",
   "pygments_lexer": "ipython3",
   "version": "3.8.10"
  },
  "papermill": {
   "default_parameters": {},
   "duration": 3095.937435,
   "end_time": "2022-03-25T08:42:05.990012",
   "environment_variables": {},
   "exception": null,
   "input_path": "/mnt/wd500GB/CSC500/csc500-main/csc500-notebooks/templates/tl_ptn_template.ipynb",
   "output_path": "trial.ipynb",
   "parameters": {
    "parameters": {
     "BEST_MODEL_PATH": "./best_model.pth",
     "NUM_LOGS_PER_EPOCH": 10,
     "criteria_for_best": "target_accuracy",
     "dataset_seed": 1337,
     "datasets": [
      {
       "domain_prefix": "C_",
       "domains": [
        1,
        2,
        3,
        4,
        5
       ],
       "episode_transforms": [],
       "labels": [
        "1-10.",
        "1-11.",
        "1-15.",
        "1-16.",
        "1-17.",
        "1-18.",
        "1-19.",
        "10-4.",
        "10-7.",
        "11-1.",
        "11-14.",
        "11-17.",
        "11-20.",
        "11-7.",
        "13-20.",
        "13-8.",
        "14-10.",
        "14-11.",
        "14-14.",
        "14-7.",
        "15-1.",
        "15-20.",
        "16-1.",
        "16-16.",
        "17-10.",
        "17-11.",
        "17-2.",
        "19-1.",
        "19-16.",
        "19-19.",
        "19-20.",
        "19-3.",
        "2-10.",
        "2-11.",
        "2-17.",
        "2-18.",
        "2-20.",
        "2-3.",
        "2-4.",
        "2-5.",
        "2-6.",
        "2-7.",
        "2-8.",
        "3-13.",
        "3-18.",
        "3-3.",
        "4-1.",
        "4-10.",
        "4-11.",
        "4-19.",
        "5-5.",
        "6-15.",
        "7-10.",
        "7-14.",
        "8-18.",
        "8-20.",
        "8-3.",
        "8-8."
       ],
       "num_examples_per_domain_per_label": -1,
       "pickle_path": "/mnt/wd500GB/CSC500/csc500-main/datasets/cores.stratified_ds.2022A.pkl",
       "source_or_target_dataset": "target",
       "x_transforms": [
        "unit_mag",
        "take_200"
       ]
      },
      {
       "domain_prefix": "O_",
       "domains": [
        32,
        38,
        8,
        44,
        14,
        50,
        20,
        26
       ],
       "episode_transforms": [],
       "labels": [
        "3123D52",
        "3123D65",
        "3123D79",
        "3123D80",
        "3123D54",
        "3123D70",
        "3123D7B",
        "3123D89",
        "3123D58",
        "3123D76",
        "3123D7D",
        "3123EFE",
        "3123D64",
        "3123D78",
        "3123D7E",
        "3124E4A"
       ],
       "num_examples_per_domain_per_label": 2000,
       "pickle_path": "/mnt/wd500GB/CSC500/csc500-main/datasets/oracle.Run1_framed_2000Examples_stratified_ds.2022A.pkl",
       "source_or_target_dataset": "source",
       "x_transforms": [
        "unit_mag",
        "take_200",
        "resample_20Msps_to_25Msps"
       ]
      }
     ],
     "device": "cuda",
     "experiment_name": "tl_3Av2:oracle.run1.framed -> cores",
     "lr": 0.0001,
     "n_epoch": 50,
     "n_query": 2,
     "n_shot": 3,
     "n_way": 16,
     "patience": 3,
     "seed": 1337,
     "test_k_factor": 2,
     "torch_default_dtype": "torch.float32",
     "train_k_factor": 3,
     "val_k_factor": 2,
     "x_net": [
      {
       "class": "nnReshape",
       "kargs": {
        "shape": [
         -1,
         1,
         2,
         200
        ]
       }
      },
      {
       "class": "Conv2d",
       "kargs": {
        "bias": false,
        "in_channels": 1,
        "kernel_size": [
         1,
         7
        ],
        "out_channels": 256,
        "padding": [
         0,
         3
        ]
       }
      },
      {
       "class": "ReLU",
       "kargs": {
        "inplace": true
       }
      },
      {
       "class": "BatchNorm2d",
       "kargs": {
        "num_features": 256
       }
      },
      {
       "class": "Conv2d",
       "kargs": {
        "bias": true,
        "in_channels": 256,
        "kernel_size": [
         2,
         7
        ],
        "out_channels": 80,
        "padding": [
         0,
         3
        ]
       }
      },
      {
       "class": "ReLU",
       "kargs": {
        "inplace": true
       }
      },
      {
       "class": "BatchNorm2d",
       "kargs": {
        "num_features": 80
       }
      },
      {
       "class": "Flatten",
       "kargs": {}
      },
      {
       "class": "Linear",
       "kargs": {
        "in_features": 16000,
        "out_features": 256
       }
      },
      {
       "class": "ReLU",
       "kargs": {
        "inplace": true
       }
      },
      {
       "class": "BatchNorm1d",
       "kargs": {
        "num_features": 256
       }
      },
      {
       "class": "Linear",
       "kargs": {
        "in_features": 256,
        "out_features": 256
       }
      }
     ],
     "x_shape": [
      2,
      200
     ]
    }
   },
   "start_time": "2022-03-25T07:50:30.052577",
   "version": "2.3.4"
  }
 },
 "nbformat": 4,
 "nbformat_minor": 5
}