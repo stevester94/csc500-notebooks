{
 "cells": [
  {
   "cell_type": "markdown",
   "id": "9fea5f46",
   "metadata": {
    "papermill": {
     "duration": 0.017466,
     "end_time": "2022-03-25T11:50:05.850989",
     "exception": false,
     "start_time": "2022-03-25T11:50:05.833523",
     "status": "completed"
    },
    "tags": []
   },
   "source": [
    "# Transfer Learning Template"
   ]
  },
  {
   "cell_type": "code",
   "execution_count": 1,
   "id": "0902182a",
   "metadata": {
    "execution": {
     "iopub.execute_input": "2022-03-25T11:50:05.890871Z",
     "iopub.status.busy": "2022-03-25T11:50:05.890594Z",
     "iopub.status.idle": "2022-03-25T11:50:06.788878Z",
     "shell.execute_reply": "2022-03-25T11:50:06.789103Z"
    },
    "papermill": {
     "duration": 0.925675,
     "end_time": "2022-03-25T11:50:06.789224",
     "exception": false,
     "start_time": "2022-03-25T11:50:05.863549",
     "status": "completed"
    },
    "tags": []
   },
   "outputs": [],
   "source": [
    "%load_ext autoreload\n",
    "%autoreload 2\n",
    "%matplotlib inline\n",
    "\n",
    "    \n",
    "import os, json, sys, time, random\n",
    "import numpy as np\n",
    "import torch\n",
    "from torch.optim import Adam\n",
    "from  easydict import EasyDict\n",
    "import matplotlib.pyplot as plt\n",
    "\n",
    "from steves_models.steves_ptn import Steves_Prototypical_Network\n",
    "\n",
    "from steves_utils.lazy_iterable_wrapper import Lazy_Iterable_Wrapper\n",
    "from steves_utils.iterable_aggregator import Iterable_Aggregator\n",
    "from steves_utils.ptn_train_eval_test_jig import  PTN_Train_Eval_Test_Jig\n",
    "from steves_utils.torch_sequential_builder import build_sequential\n",
    "from steves_utils.torch_utils import get_dataset_metrics, ptn_confusion_by_domain_over_dataloader\n",
    "from steves_utils.utils_v2 import (per_domain_accuracy_from_confusion, get_datasets_base_path)\n",
    "from steves_utils.PTN.utils import independent_accuracy_assesment\n",
    "\n",
    "from torch.utils.data import DataLoader\n",
    "\n",
    "from steves_utils.stratified_dataset.episodic_accessor import Episodic_Accessor_Factory\n",
    "\n",
    "from steves_utils.ptn_do_report import (\n",
    "    get_loss_curve,\n",
    "    get_results_table,\n",
    "    get_parameters_table,\n",
    "    get_domain_accuracies,\n",
    ")\n",
    "\n",
    "from steves_utils.transforms import get_chained_transform"
   ]
  },
  {
   "cell_type": "markdown",
   "id": "41c840b4",
   "metadata": {
    "papermill": {
     "duration": 0.012454,
     "end_time": "2022-03-25T11:50:06.814670",
     "exception": false,
     "start_time": "2022-03-25T11:50:06.802216",
     "status": "completed"
    },
    "tags": []
   },
   "source": [
    "# Allowed Parameters\n",
    "These are allowed parameters, not defaults\n",
    "Each of these values need to be present in the injected parameters (the notebook will raise an exception if they are not present)\n",
    "\n",
    "Papermill uses the cell tag \"parameters\" to inject the real parameters below this cell.\n",
    "Enable tags to see what I mean"
   ]
  },
  {
   "cell_type": "code",
   "execution_count": 2,
   "id": "fd44eb83",
   "metadata": {
    "execution": {
     "iopub.execute_input": "2022-03-25T11:50:06.842060Z",
     "iopub.status.busy": "2022-03-25T11:50:06.841647Z",
     "iopub.status.idle": "2022-03-25T11:50:06.853298Z",
     "shell.execute_reply": "2022-03-25T11:50:06.853020Z"
    },
    "papermill": {
     "duration": 0.026165,
     "end_time": "2022-03-25T11:50:06.853358",
     "exception": false,
     "start_time": "2022-03-25T11:50:06.827193",
     "status": "completed"
    },
    "tags": []
   },
   "outputs": [],
   "source": [
    "required_parameters = {\n",
    "    \"experiment_name\",\n",
    "    \"lr\",\n",
    "    \"device\",\n",
    "    \"seed\",\n",
    "    \"dataset_seed\",\n",
    "    \"n_shot\",\n",
    "    \"n_query\",\n",
    "    \"n_way\",\n",
    "    \"train_k_factor\",\n",
    "    \"val_k_factor\",\n",
    "    \"test_k_factor\",\n",
    "    \"n_epoch\",\n",
    "    \"patience\",\n",
    "    \"criteria_for_best\",\n",
    "    \"x_net\",\n",
    "    \"datasets\",\n",
    "    \"torch_default_dtype\",\n",
    "    \"NUM_LOGS_PER_EPOCH\",\n",
    "    \"BEST_MODEL_PATH\",\n",
    "    \"x_shape\",\n",
    "}"
   ]
  },
  {
   "cell_type": "code",
   "execution_count": 3,
   "id": "fa3f0049",
   "metadata": {
    "execution": {
     "iopub.execute_input": "2022-03-25T11:50:06.885698Z",
     "iopub.status.busy": "2022-03-25T11:50:06.885231Z",
     "iopub.status.idle": "2022-03-25T11:50:06.900055Z",
     "shell.execute_reply": "2022-03-25T11:50:06.899805Z"
    },
    "papermill": {
     "duration": 0.034007,
     "end_time": "2022-03-25T11:50:06.900119",
     "exception": false,
     "start_time": "2022-03-25T11:50:06.866112",
     "status": "completed"
    },
    "tags": [
     "parameters"
    ]
   },
   "outputs": [],
   "source": [
    "from steves_utils.CORES.utils import (\n",
    "    ALL_NODES,\n",
    "    ALL_NODES_MINIMUM_1000_EXAMPLES,\n",
    "    ALL_DAYS\n",
    ")\n",
    "\n",
    "from steves_utils.ORACLE.utils_v2 import (\n",
    "    ALL_DISTANCES_FEET_NARROWED,\n",
    "    ALL_RUNS,\n",
    "    ALL_SERIAL_NUMBERS,\n",
    ")\n",
    "\n",
    "standalone_parameters = {}\n",
    "standalone_parameters[\"experiment_name\"] = \"STANDALONE PTN\"\n",
    "standalone_parameters[\"lr\"] = 0.001\n",
    "standalone_parameters[\"device\"] = \"cuda\"\n",
    "\n",
    "standalone_parameters[\"seed\"] = 1337\n",
    "standalone_parameters[\"dataset_seed\"] = 1337\n",
    "\n",
    "standalone_parameters[\"n_way\"] = 8\n",
    "standalone_parameters[\"n_shot\"] = 3\n",
    "standalone_parameters[\"n_query\"]  = 2\n",
    "standalone_parameters[\"train_k_factor\"] = 1\n",
    "standalone_parameters[\"val_k_factor\"] = 2\n",
    "standalone_parameters[\"test_k_factor\"] = 2\n",
    "\n",
    "\n",
    "standalone_parameters[\"n_epoch\"] = 50\n",
    "\n",
    "standalone_parameters[\"patience\"] = 10\n",
    "standalone_parameters[\"criteria_for_best\"] = \"source_loss\"\n",
    "\n",
    "standalone_parameters[\"datasets\"] = [\n",
    "    {\n",
    "        \"labels\": ALL_SERIAL_NUMBERS,\n",
    "        \"domains\": ALL_DISTANCES_FEET_NARROWED,\n",
    "        \"num_examples_per_domain_per_label\": 100,\n",
    "        \"pickle_path\": os.path.join(get_datasets_base_path(), \"oracle.Run1_framed_2000Examples_stratified_ds.2022A.pkl\"),\n",
    "        \"source_or_target_dataset\": \"source\",\n",
    "        \"x_transforms\": [\"unit_mag\", \"minus_two\"],\n",
    "        \"episode_transforms\": [],\n",
    "        \"domain_prefix\": \"ORACLE_\"\n",
    "    },\n",
    "    {\n",
    "        \"labels\": ALL_NODES,\n",
    "        \"domains\": ALL_DAYS,\n",
    "        \"num_examples_per_domain_per_label\": 100,\n",
    "        \"pickle_path\": os.path.join(get_datasets_base_path(), \"cores.stratified_ds.2022A.pkl\"),\n",
    "        \"source_or_target_dataset\": \"target\",\n",
    "        \"x_transforms\": [\"unit_power\", \"times_zero\"],\n",
    "        \"episode_transforms\": [],\n",
    "        \"domain_prefix\": \"CORES_\"\n",
    "    }   \n",
    "]\n",
    "\n",
    "standalone_parameters[\"torch_default_dtype\"] = \"torch.float32\" \n",
    "\n",
    "\n",
    "\n",
    "standalone_parameters[\"x_net\"] =     [\n",
    "    {\"class\": \"nnReshape\", \"kargs\": {\"shape\":[-1, 1, 2, 256]}},\n",
    "    {\"class\": \"Conv2d\", \"kargs\": { \"in_channels\":1, \"out_channels\":256, \"kernel_size\":(1,7), \"bias\":False, \"padding\":(0,3), },},\n",
    "    {\"class\": \"ReLU\", \"kargs\": {\"inplace\": True}},\n",
    "    {\"class\": \"BatchNorm2d\", \"kargs\": {\"num_features\":256}},\n",
    "\n",
    "    {\"class\": \"Conv2d\", \"kargs\": { \"in_channels\":256, \"out_channels\":80, \"kernel_size\":(2,7), \"bias\":True, \"padding\":(0,3), },},\n",
    "    {\"class\": \"ReLU\", \"kargs\": {\"inplace\": True}},\n",
    "    {\"class\": \"BatchNorm2d\", \"kargs\": {\"num_features\":80}},\n",
    "    {\"class\": \"Flatten\", \"kargs\": {}},\n",
    "\n",
    "    {\"class\": \"Linear\", \"kargs\": {\"in_features\": 80*256, \"out_features\": 256}}, # 80 units per IQ pair\n",
    "    {\"class\": \"ReLU\", \"kargs\": {\"inplace\": True}},\n",
    "    {\"class\": \"BatchNorm1d\", \"kargs\": {\"num_features\":256}},\n",
    "\n",
    "    {\"class\": \"Linear\", \"kargs\": {\"in_features\": 256, \"out_features\": 256}},\n",
    "]\n",
    "\n",
    "# Parameters relevant to results\n",
    "# These parameters will basically never need to change\n",
    "standalone_parameters[\"NUM_LOGS_PER_EPOCH\"] = 10\n",
    "standalone_parameters[\"BEST_MODEL_PATH\"] = \"./best_model.pth\"\n",
    "\n",
    "\n",
    "\n",
    "\n"
   ]
  },
  {
   "cell_type": "code",
   "execution_count": 4,
   "id": "3eb1f3c7",
   "metadata": {
    "execution": {
     "iopub.execute_input": "2022-03-25T11:50:06.936046Z",
     "iopub.status.busy": "2022-03-25T11:50:06.935568Z",
     "iopub.status.idle": "2022-03-25T11:50:06.947734Z",
     "shell.execute_reply": "2022-03-25T11:50:06.947494Z"
    },
    "papermill": {
     "duration": 0.032517,
     "end_time": "2022-03-25T11:50:06.947793",
     "exception": false,
     "start_time": "2022-03-25T11:50:06.915276",
     "status": "completed"
    },
    "tags": [
     "injected-parameters"
    ]
   },
   "outputs": [],
   "source": [
    "# Parameters\n",
    "parameters = {\n",
    "    \"experiment_name\": \"tl_3Av2:oracle.run1.framed -> cores\",\n",
    "    \"device\": \"cuda\",\n",
    "    \"lr\": 0.0001,\n",
    "    \"x_shape\": [2, 200],\n",
    "    \"n_shot\": 3,\n",
    "    \"n_query\": 2,\n",
    "    \"train_k_factor\": 3,\n",
    "    \"val_k_factor\": 2,\n",
    "    \"test_k_factor\": 2,\n",
    "    \"torch_default_dtype\": \"torch.float32\",\n",
    "    \"n_epoch\": 50,\n",
    "    \"patience\": 3,\n",
    "    \"criteria_for_best\": \"target_accuracy\",\n",
    "    \"x_net\": [\n",
    "        {\"class\": \"nnReshape\", \"kargs\": {\"shape\": [-1, 1, 2, 200]}},\n",
    "        {\n",
    "            \"class\": \"Conv2d\",\n",
    "            \"kargs\": {\n",
    "                \"in_channels\": 1,\n",
    "                \"out_channels\": 256,\n",
    "                \"kernel_size\": [1, 7],\n",
    "                \"bias\": False,\n",
    "                \"padding\": [0, 3],\n",
    "            },\n",
    "        },\n",
    "        {\"class\": \"ReLU\", \"kargs\": {\"inplace\": True}},\n",
    "        {\"class\": \"BatchNorm2d\", \"kargs\": {\"num_features\": 256}},\n",
    "        {\n",
    "            \"class\": \"Conv2d\",\n",
    "            \"kargs\": {\n",
    "                \"in_channels\": 256,\n",
    "                \"out_channels\": 80,\n",
    "                \"kernel_size\": [2, 7],\n",
    "                \"bias\": True,\n",
    "                \"padding\": [0, 3],\n",
    "            },\n",
    "        },\n",
    "        {\"class\": \"ReLU\", \"kargs\": {\"inplace\": True}},\n",
    "        {\"class\": \"BatchNorm2d\", \"kargs\": {\"num_features\": 80}},\n",
    "        {\"class\": \"Flatten\", \"kargs\": {}},\n",
    "        {\"class\": \"Linear\", \"kargs\": {\"in_features\": 16000, \"out_features\": 256}},\n",
    "        {\"class\": \"ReLU\", \"kargs\": {\"inplace\": True}},\n",
    "        {\"class\": \"BatchNorm1d\", \"kargs\": {\"num_features\": 256}},\n",
    "        {\"class\": \"Linear\", \"kargs\": {\"in_features\": 256, \"out_features\": 256}},\n",
    "    ],\n",
    "    \"NUM_LOGS_PER_EPOCH\": 10,\n",
    "    \"BEST_MODEL_PATH\": \"./best_model.pth\",\n",
    "    \"n_way\": 16,\n",
    "    \"datasets\": [\n",
    "        {\n",
    "            \"labels\": [\n",
    "                \"1-10.\",\n",
    "                \"1-11.\",\n",
    "                \"1-15.\",\n",
    "                \"1-16.\",\n",
    "                \"1-17.\",\n",
    "                \"1-18.\",\n",
    "                \"1-19.\",\n",
    "                \"10-4.\",\n",
    "                \"10-7.\",\n",
    "                \"11-1.\",\n",
    "                \"11-14.\",\n",
    "                \"11-17.\",\n",
    "                \"11-20.\",\n",
    "                \"11-7.\",\n",
    "                \"13-20.\",\n",
    "                \"13-8.\",\n",
    "                \"14-10.\",\n",
    "                \"14-11.\",\n",
    "                \"14-14.\",\n",
    "                \"14-7.\",\n",
    "                \"15-1.\",\n",
    "                \"15-20.\",\n",
    "                \"16-1.\",\n",
    "                \"16-16.\",\n",
    "                \"17-10.\",\n",
    "                \"17-11.\",\n",
    "                \"17-2.\",\n",
    "                \"19-1.\",\n",
    "                \"19-16.\",\n",
    "                \"19-19.\",\n",
    "                \"19-20.\",\n",
    "                \"19-3.\",\n",
    "                \"2-10.\",\n",
    "                \"2-11.\",\n",
    "                \"2-17.\",\n",
    "                \"2-18.\",\n",
    "                \"2-20.\",\n",
    "                \"2-3.\",\n",
    "                \"2-4.\",\n",
    "                \"2-5.\",\n",
    "                \"2-6.\",\n",
    "                \"2-7.\",\n",
    "                \"2-8.\",\n",
    "                \"3-13.\",\n",
    "                \"3-18.\",\n",
    "                \"3-3.\",\n",
    "                \"4-1.\",\n",
    "                \"4-10.\",\n",
    "                \"4-11.\",\n",
    "                \"4-19.\",\n",
    "                \"5-5.\",\n",
    "                \"6-15.\",\n",
    "                \"7-10.\",\n",
    "                \"7-14.\",\n",
    "                \"8-18.\",\n",
    "                \"8-20.\",\n",
    "                \"8-3.\",\n",
    "                \"8-8.\",\n",
    "            ],\n",
    "            \"domains\": [1, 2, 3, 4, 5],\n",
    "            \"num_examples_per_domain_per_label\": -1,\n",
    "            \"pickle_path\": \"/mnt/wd500GB/CSC500/csc500-main/datasets/cores.stratified_ds.2022A.pkl\",\n",
    "            \"source_or_target_dataset\": \"target\",\n",
    "            \"x_transforms\": [\"unit_power\", \"take_200\"],\n",
    "            \"episode_transforms\": [],\n",
    "            \"domain_prefix\": \"C_\",\n",
    "        },\n",
    "        {\n",
    "            \"labels\": [\n",
    "                \"3123D52\",\n",
    "                \"3123D65\",\n",
    "                \"3123D79\",\n",
    "                \"3123D80\",\n",
    "                \"3123D54\",\n",
    "                \"3123D70\",\n",
    "                \"3123D7B\",\n",
    "                \"3123D89\",\n",
    "                \"3123D58\",\n",
    "                \"3123D76\",\n",
    "                \"3123D7D\",\n",
    "                \"3123EFE\",\n",
    "                \"3123D64\",\n",
    "                \"3123D78\",\n",
    "                \"3123D7E\",\n",
    "                \"3124E4A\",\n",
    "            ],\n",
    "            \"domains\": [32, 38, 8, 44, 14, 50, 20, 26],\n",
    "            \"num_examples_per_domain_per_label\": 2000,\n",
    "            \"pickle_path\": \"/mnt/wd500GB/CSC500/csc500-main/datasets/oracle.Run1_framed_2000Examples_stratified_ds.2022A.pkl\",\n",
    "            \"source_or_target_dataset\": \"source\",\n",
    "            \"x_transforms\": [\"unit_power\", \"take_200\", \"resample_20Msps_to_25Msps\"],\n",
    "            \"episode_transforms\": [],\n",
    "            \"domain_prefix\": \"O_\",\n",
    "        },\n",
    "    ],\n",
    "    \"seed\": 7,\n",
    "    \"dataset_seed\": 7,\n",
    "}\n"
   ]
  },
  {
   "cell_type": "code",
   "execution_count": 5,
   "id": "8fa1cc33",
   "metadata": {
    "execution": {
     "iopub.execute_input": "2022-03-25T11:50:06.979229Z",
     "iopub.status.busy": "2022-03-25T11:50:06.978669Z",
     "iopub.status.idle": "2022-03-25T11:50:06.991464Z",
     "shell.execute_reply": "2022-03-25T11:50:06.991193Z"
    },
    "papermill": {
     "duration": 0.028414,
     "end_time": "2022-03-25T11:50:06.991520",
     "exception": false,
     "start_time": "2022-03-25T11:50:06.963106",
     "status": "completed"
    },
    "tags": []
   },
   "outputs": [],
   "source": [
    "# Set this to True if you want to run this template directly\n",
    "STANDALONE = False\n",
    "if STANDALONE:\n",
    "    print(\"parameters not injected, running with standalone_parameters\")\n",
    "    parameters = standalone_parameters\n",
    "\n",
    "if not 'parameters' in locals() and not 'parameters' in globals():\n",
    "    raise Exception(\"Parameter injection failed\")\n",
    "\n",
    "#Use an easy dict for all the parameters\n",
    "p = EasyDict(parameters)\n",
    "\n",
    "if \"x_shape\" not in p:\n",
    "    p.x_shape = [2,256] # Default to this if we dont supply x_shape\n",
    "\n",
    "\n",
    "supplied_keys = set(p.keys())\n",
    "\n",
    "if  supplied_keys != required_parameters:\n",
    "    print(\"Parameters are incorrect\")\n",
    "    if len(supplied_keys - required_parameters)>0: print(\"Shouldn't have:\", str(supplied_keys - required_parameters))\n",
    "    if len(required_parameters - supplied_keys)>0: print(\"Need to have:\", str(required_parameters - supplied_keys))\n",
    "    raise RuntimeError(\"Parameters are incorrect\")"
   ]
  },
  {
   "cell_type": "code",
   "execution_count": 6,
   "id": "3a028d58",
   "metadata": {
    "execution": {
     "iopub.execute_input": "2022-03-25T11:50:07.022480Z",
     "iopub.status.busy": "2022-03-25T11:50:07.022074Z",
     "iopub.status.idle": "2022-03-25T11:50:07.033397Z",
     "shell.execute_reply": "2022-03-25T11:50:07.033120Z"
    },
    "papermill": {
     "duration": 0.02657,
     "end_time": "2022-03-25T11:50:07.033454",
     "exception": false,
     "start_time": "2022-03-25T11:50:07.006884",
     "status": "completed"
    },
    "tags": []
   },
   "outputs": [],
   "source": [
    "###################################\n",
    "# Set the RNGs and make it all deterministic\n",
    "###################################\n",
    "np.random.seed(p.seed)\n",
    "random.seed(p.seed)\n",
    "torch.manual_seed(p.seed)\n",
    "\n",
    "torch.use_deterministic_algorithms(True) "
   ]
  },
  {
   "cell_type": "code",
   "execution_count": 7,
   "id": "b691acf6",
   "metadata": {
    "execution": {
     "iopub.execute_input": "2022-03-25T11:50:07.063147Z",
     "iopub.status.busy": "2022-03-25T11:50:07.062381Z",
     "iopub.status.idle": "2022-03-25T11:50:07.074036Z",
     "shell.execute_reply": "2022-03-25T11:50:07.073783Z"
    },
    "papermill": {
     "duration": 0.02619,
     "end_time": "2022-03-25T11:50:07.074101",
     "exception": false,
     "start_time": "2022-03-25T11:50:07.047911",
     "status": "completed"
    },
    "tags": []
   },
   "outputs": [],
   "source": [
    "###########################################\n",
    "# The stratified datasets honor this\n",
    "###########################################\n",
    "torch.set_default_dtype(eval(p.torch_default_dtype))"
   ]
  },
  {
   "cell_type": "code",
   "execution_count": 8,
   "id": "b5fba671",
   "metadata": {
    "execution": {
     "iopub.execute_input": "2022-03-25T11:50:07.104009Z",
     "iopub.status.busy": "2022-03-25T11:50:07.103613Z",
     "iopub.status.idle": "2022-03-25T11:50:07.136455Z",
     "shell.execute_reply": "2022-03-25T11:50:07.136160Z"
    },
    "papermill": {
     "duration": 0.048157,
     "end_time": "2022-03-25T11:50:07.136518",
     "exception": false,
     "start_time": "2022-03-25T11:50:07.088361",
     "status": "completed"
    },
    "tags": []
   },
   "outputs": [],
   "source": [
    "###################################\n",
    "# Build the network(s)\n",
    "# Note: It's critical to do this AFTER setting the RNG\n",
    "###################################\n",
    "x_net = build_sequential(p.x_net)"
   ]
  },
  {
   "cell_type": "code",
   "execution_count": 9,
   "id": "5d7e61cc",
   "metadata": {
    "execution": {
     "iopub.execute_input": "2022-03-25T11:50:07.167836Z",
     "iopub.status.busy": "2022-03-25T11:50:07.167572Z",
     "iopub.status.idle": "2022-03-25T11:50:07.182174Z",
     "shell.execute_reply": "2022-03-25T11:50:07.181779Z"
    },
    "papermill": {
     "duration": 0.031962,
     "end_time": "2022-03-25T11:50:07.182253",
     "exception": false,
     "start_time": "2022-03-25T11:50:07.150291",
     "status": "completed"
    },
    "tags": []
   },
   "outputs": [],
   "source": [
    "start_time_secs = time.time()"
   ]
  },
  {
   "cell_type": "code",
   "execution_count": 10,
   "id": "c6b67dfd",
   "metadata": {
    "execution": {
     "iopub.execute_input": "2022-03-25T11:50:07.222901Z",
     "iopub.status.busy": "2022-03-25T11:50:07.217665Z",
     "iopub.status.idle": "2022-03-25T11:50:07.232521Z",
     "shell.execute_reply": "2022-03-25T11:50:07.232100Z"
    },
    "papermill": {
     "duration": 0.031301,
     "end_time": "2022-03-25T11:50:07.232619",
     "exception": false,
     "start_time": "2022-03-25T11:50:07.201318",
     "status": "completed"
    },
    "tags": []
   },
   "outputs": [],
   "source": [
    "p.domains_source = []\n",
    "p.domains_target = []\n",
    "\n",
    "\n",
    "train_original_source = []\n",
    "val_original_source   = []\n",
    "test_original_source  = []\n",
    "\n",
    "train_original_target = []\n",
    "val_original_target   = []\n",
    "test_original_target  = []"
   ]
  },
  {
   "cell_type": "code",
   "execution_count": 11,
   "id": "e3d9c3d3",
   "metadata": {
    "execution": {
     "iopub.execute_input": "2022-03-25T11:50:07.270326Z",
     "iopub.status.busy": "2022-03-25T11:50:07.265940Z",
     "iopub.status.idle": "2022-03-25T11:50:07.282658Z",
     "shell.execute_reply": "2022-03-25T11:50:07.282218Z"
    },
    "papermill": {
     "duration": 0.031705,
     "end_time": "2022-03-25T11:50:07.282752",
     "exception": false,
     "start_time": "2022-03-25T11:50:07.251047",
     "status": "completed"
    },
    "tags": []
   },
   "outputs": [],
   "source": [
    "# global_x_transform_func = lambda x: normalize(x.to(torch.get_default_dtype()), \"unit_power\") # unit_power, unit_mag\n",
    "# global_x_transform_func = lambda x: normalize(x, \"unit_power\") # unit_power, unit_mag"
   ]
  },
  {
   "cell_type": "code",
   "execution_count": 12,
   "id": "acb78fd2",
   "metadata": {
    "execution": {
     "iopub.execute_input": "2022-03-25T11:50:07.321282Z",
     "iopub.status.busy": "2022-03-25T11:50:07.318562Z",
     "iopub.status.idle": "2022-03-25T11:50:07.330855Z",
     "shell.execute_reply": "2022-03-25T11:50:07.330432Z"
    },
    "papermill": {
     "duration": 0.032999,
     "end_time": "2022-03-25T11:50:07.330954",
     "exception": false,
     "start_time": "2022-03-25T11:50:07.297955",
     "status": "completed"
    },
    "tags": []
   },
   "outputs": [],
   "source": [
    "def add_dataset(\n",
    "    labels,\n",
    "    domains,\n",
    "    pickle_path,\n",
    "    x_transforms,\n",
    "    episode_transforms,\n",
    "    domain_prefix,\n",
    "    num_examples_per_domain_per_label,\n",
    "    source_or_target_dataset:str,\n",
    "    iterator_seed=p.seed,\n",
    "    dataset_seed=p.dataset_seed,\n",
    "    n_shot=p.n_shot,\n",
    "    n_way=p.n_way,\n",
    "    n_query=p.n_query,\n",
    "    train_val_test_k_factors=(p.train_k_factor,p.val_k_factor,p.test_k_factor),\n",
    "):\n",
    "   \n",
    "    if x_transforms == []: x_transform = None\n",
    "    else: x_transform = get_chained_transform(x_transforms)\n",
    "    \n",
    "    if episode_transforms == []: episode_transform = None\n",
    "    else: raise Exception(\"episode_transforms not implemented\")\n",
    "    \n",
    "    episode_transform = lambda tup, _prefix=domain_prefix: (_prefix + str(tup[0]), tup[1])\n",
    "\n",
    "\n",
    "    eaf = Episodic_Accessor_Factory(\n",
    "        labels=labels,\n",
    "        domains=domains,\n",
    "        num_examples_per_domain_per_label=num_examples_per_domain_per_label,\n",
    "        iterator_seed=iterator_seed,\n",
    "        dataset_seed=dataset_seed,\n",
    "        n_shot=n_shot,\n",
    "        n_way=n_way,\n",
    "        n_query=n_query,\n",
    "        train_val_test_k_factors=train_val_test_k_factors,\n",
    "        pickle_path=pickle_path,\n",
    "        x_transform_func=x_transform,\n",
    "    )\n",
    "\n",
    "    train, val, test = eaf.get_train(), eaf.get_val(), eaf.get_test()\n",
    "    train = Lazy_Iterable_Wrapper(train, episode_transform)\n",
    "    val = Lazy_Iterable_Wrapper(val, episode_transform)\n",
    "    test = Lazy_Iterable_Wrapper(test, episode_transform)\n",
    "\n",
    "    if source_or_target_dataset==\"source\":\n",
    "        train_original_source.append(train)\n",
    "        val_original_source.append(val)\n",
    "        test_original_source.append(test)\n",
    "\n",
    "        p.domains_source.extend(\n",
    "            [domain_prefix + str(u) for u in domains]\n",
    "        )\n",
    "    elif source_or_target_dataset==\"target\":\n",
    "        train_original_target.append(train)\n",
    "        val_original_target.append(val)\n",
    "        test_original_target.append(test)\n",
    "        p.domains_target.extend(\n",
    "            [domain_prefix + str(u) for u in domains]\n",
    "        )\n",
    "    else:\n",
    "        raise Exception(f\"invalid source_or_target_dataset: {source_or_target_dataset}\")\n",
    "    "
   ]
  },
  {
   "cell_type": "code",
   "execution_count": 13,
   "id": "fe266617",
   "metadata": {
    "execution": {
     "iopub.execute_input": "2022-03-25T11:50:07.368499Z",
     "iopub.status.busy": "2022-03-25T11:50:07.362807Z",
     "iopub.status.idle": "2022-03-25T11:50:56.180836Z",
     "shell.execute_reply": "2022-03-25T11:50:56.180410Z"
    },
    "papermill": {
     "duration": 48.832808,
     "end_time": "2022-03-25T11:50:56.180944",
     "exception": false,
     "start_time": "2022-03-25T11:50:07.348136",
     "status": "completed"
    },
    "tags": []
   },
   "outputs": [],
   "source": [
    "for ds in p.datasets:\n",
    "    add_dataset(**ds)"
   ]
  },
  {
   "cell_type": "code",
   "execution_count": 14,
   "id": "b90d65ac",
   "metadata": {
    "execution": {
     "iopub.execute_input": "2022-03-25T11:50:56.215362Z",
     "iopub.status.busy": "2022-03-25T11:50:56.215079Z",
     "iopub.status.idle": "2022-03-25T11:50:56.229802Z",
     "shell.execute_reply": "2022-03-25T11:50:56.229325Z"
    },
    "papermill": {
     "duration": 0.030755,
     "end_time": "2022-03-25T11:50:56.229898",
     "exception": false,
     "start_time": "2022-03-25T11:50:56.199143",
     "status": "completed"
    },
    "tags": []
   },
   "outputs": [],
   "source": [
    "# from steves_utils.CORES.utils import (\n",
    "#     ALL_NODES,\n",
    "#     ALL_NODES_MINIMUM_1000_EXAMPLES,\n",
    "#     ALL_DAYS\n",
    "# )\n",
    "\n",
    "# add_dataset(\n",
    "#     labels=ALL_NODES,\n",
    "#     domains = ALL_DAYS,\n",
    "#     num_examples_per_domain_per_label=100,\n",
    "#     pickle_path=os.path.join(get_datasets_base_path(), \"cores.stratified_ds.2022A.pkl\"),\n",
    "#     source_or_target_dataset=\"target\",\n",
    "#     x_transform_func=global_x_transform_func,\n",
    "#     domain_modifier=lambda u: f\"cores_{u}\"\n",
    "# )"
   ]
  },
  {
   "cell_type": "code",
   "execution_count": 15,
   "id": "76db484d",
   "metadata": {
    "execution": {
     "iopub.execute_input": "2022-03-25T11:50:56.264777Z",
     "iopub.status.busy": "2022-03-25T11:50:56.264523Z",
     "iopub.status.idle": "2022-03-25T11:50:56.275318Z",
     "shell.execute_reply": "2022-03-25T11:50:56.274957Z"
    },
    "papermill": {
     "duration": 0.025861,
     "end_time": "2022-03-25T11:50:56.275392",
     "exception": false,
     "start_time": "2022-03-25T11:50:56.249531",
     "status": "completed"
    },
    "tags": []
   },
   "outputs": [],
   "source": [
    "# from steves_utils.ORACLE.utils_v2 import (\n",
    "#     ALL_DISTANCES_FEET,\n",
    "#     ALL_RUNS,\n",
    "#     ALL_SERIAL_NUMBERS,\n",
    "# )\n",
    "\n",
    "\n",
    "# add_dataset(\n",
    "#     labels=ALL_SERIAL_NUMBERS,\n",
    "#     domains = list(set(ALL_DISTANCES_FEET) - {2,62}),\n",
    "#     num_examples_per_domain_per_label=100,\n",
    "#     pickle_path=os.path.join(get_datasets_base_path(), \"oracle.Run2_framed_2000Examples_stratified_ds.2022A.pkl\"),\n",
    "#     source_or_target_dataset=\"source\",\n",
    "#     x_transform_func=global_x_transform_func,\n",
    "#     domain_modifier=lambda u: f\"oracle1_{u}\"\n",
    "# )\n"
   ]
  },
  {
   "cell_type": "code",
   "execution_count": 16,
   "id": "97dea9d2",
   "metadata": {
    "execution": {
     "iopub.execute_input": "2022-03-25T11:50:56.309759Z",
     "iopub.status.busy": "2022-03-25T11:50:56.309500Z",
     "iopub.status.idle": "2022-03-25T11:50:56.320417Z",
     "shell.execute_reply": "2022-03-25T11:50:56.320162Z"
    },
    "papermill": {
     "duration": 0.025982,
     "end_time": "2022-03-25T11:50:56.320472",
     "exception": false,
     "start_time": "2022-03-25T11:50:56.294490",
     "status": "completed"
    },
    "tags": []
   },
   "outputs": [],
   "source": [
    "# from steves_utils.ORACLE.utils_v2 import (\n",
    "#     ALL_DISTANCES_FEET,\n",
    "#     ALL_RUNS,\n",
    "#     ALL_SERIAL_NUMBERS,\n",
    "# )\n",
    "\n",
    "\n",
    "# add_dataset(\n",
    "#     labels=ALL_SERIAL_NUMBERS,\n",
    "#     domains = list(set(ALL_DISTANCES_FEET) - {2,62,56}),\n",
    "#     num_examples_per_domain_per_label=100,\n",
    "#     pickle_path=os.path.join(get_datasets_base_path(), \"oracle.Run2_framed_2000Examples_stratified_ds.2022A.pkl\"),\n",
    "#     source_or_target_dataset=\"source\",\n",
    "#     x_transform_func=global_x_transform_func,\n",
    "#     domain_modifier=lambda u: f\"oracle2_{u}\"\n",
    "# )"
   ]
  },
  {
   "cell_type": "code",
   "execution_count": 17,
   "id": "6f289866",
   "metadata": {
    "execution": {
     "iopub.execute_input": "2022-03-25T11:50:56.359430Z",
     "iopub.status.busy": "2022-03-25T11:50:56.354628Z",
     "iopub.status.idle": "2022-03-25T11:50:56.367996Z",
     "shell.execute_reply": "2022-03-25T11:50:56.367520Z"
    },
    "papermill": {
     "duration": 0.029094,
     "end_time": "2022-03-25T11:50:56.368091",
     "exception": false,
     "start_time": "2022-03-25T11:50:56.338997",
     "status": "completed"
    },
    "tags": []
   },
   "outputs": [],
   "source": [
    "# add_dataset(\n",
    "#     labels=list(range(19)),\n",
    "#     domains = [0,1,2],\n",
    "#     num_examples_per_domain_per_label=100,\n",
    "#     pickle_path=os.path.join(get_datasets_base_path(), \"metehan.stratified_ds.2022A.pkl\"),\n",
    "#     source_or_target_dataset=\"target\",\n",
    "#     x_transform_func=global_x_transform_func,\n",
    "#     domain_modifier=lambda u: f\"met_{u}\"\n",
    "# )"
   ]
  },
  {
   "cell_type": "code",
   "execution_count": 18,
   "id": "86a863c3",
   "metadata": {
    "execution": {
     "iopub.execute_input": "2022-03-25T11:50:56.403077Z",
     "iopub.status.busy": "2022-03-25T11:50:56.402820Z",
     "iopub.status.idle": "2022-03-25T11:50:56.413685Z",
     "shell.execute_reply": "2022-03-25T11:50:56.413471Z"
    },
    "papermill": {
     "duration": 0.0262,
     "end_time": "2022-03-25T11:50:56.413741",
     "exception": false,
     "start_time": "2022-03-25T11:50:56.387541",
     "status": "completed"
    },
    "tags": []
   },
   "outputs": [],
   "source": [
    "# # from steves_utils.wisig.utils import (\n",
    "# #     ALL_NODES_MINIMUM_100_EXAMPLES,\n",
    "# #     ALL_NODES_MINIMUM_500_EXAMPLES,\n",
    "# #     ALL_NODES_MINIMUM_1000_EXAMPLES,\n",
    "# #     ALL_DAYS\n",
    "# # )\n",
    "\n",
    "# import steves_utils.wisig.utils as wisig\n",
    "\n",
    "\n",
    "# add_dataset(\n",
    "#     labels=wisig.ALL_NODES_MINIMUM_100_EXAMPLES,\n",
    "#     domains = wisig.ALL_DAYS,\n",
    "#     num_examples_per_domain_per_label=100,\n",
    "#     pickle_path=os.path.join(get_datasets_base_path(), \"wisig.node3-19.stratified_ds.2022A.pkl\"),\n",
    "#     source_or_target_dataset=\"target\",\n",
    "#     x_transform_func=global_x_transform_func,\n",
    "#     domain_modifier=lambda u: f\"wisig_{u}\"\n",
    "# )"
   ]
  },
  {
   "cell_type": "code",
   "execution_count": 19,
   "id": "fd5442bc",
   "metadata": {
    "execution": {
     "iopub.execute_input": "2022-03-25T11:50:56.448706Z",
     "iopub.status.busy": "2022-03-25T11:50:56.445667Z",
     "iopub.status.idle": "2022-03-25T11:50:56.462882Z",
     "shell.execute_reply": "2022-03-25T11:50:56.462516Z"
    },
    "papermill": {
     "duration": 0.032282,
     "end_time": "2022-03-25T11:50:56.462959",
     "exception": false,
     "start_time": "2022-03-25T11:50:56.430677",
     "status": "completed"
    },
    "tags": []
   },
   "outputs": [],
   "source": [
    "###################################\n",
    "# Build the dataset\n",
    "###################################\n",
    "train_original_source = Iterable_Aggregator(train_original_source, p.seed)\n",
    "val_original_source = Iterable_Aggregator(val_original_source, p.seed)\n",
    "test_original_source = Iterable_Aggregator(test_original_source, p.seed)\n",
    "\n",
    "\n",
    "train_original_target = Iterable_Aggregator(train_original_target, p.seed)\n",
    "val_original_target = Iterable_Aggregator(val_original_target, p.seed)\n",
    "test_original_target = Iterable_Aggregator(test_original_target, p.seed)\n",
    "\n",
    "# For CNN We only use X and Y. And we only train on the source.\n",
    "# Properly form the data using a transform lambda and Lazy_Iterable_Wrapper. Finally wrap them in a dataloader\n",
    "\n",
    "transform_lambda = lambda ex: ex[1] # Original is (<domain>, <episode>) so we strip down to episode only\n",
    "\n",
    "train_processed_source = Lazy_Iterable_Wrapper(train_original_source, transform_lambda)\n",
    "val_processed_source   = Lazy_Iterable_Wrapper(val_original_source, transform_lambda)\n",
    "test_processed_source  = Lazy_Iterable_Wrapper(test_original_source, transform_lambda)\n",
    "\n",
    "train_processed_target = Lazy_Iterable_Wrapper(train_original_target, transform_lambda)\n",
    "val_processed_target   = Lazy_Iterable_Wrapper(val_original_target, transform_lambda)\n",
    "test_processed_target  = Lazy_Iterable_Wrapper(test_original_target, transform_lambda)\n",
    "\n",
    "datasets = EasyDict({\n",
    "    \"source\": {\n",
    "        \"original\": {\"train\":train_original_source, \"val\":val_original_source, \"test\":test_original_source},\n",
    "        \"processed\": {\"train\":train_processed_source, \"val\":val_processed_source, \"test\":test_processed_source}\n",
    "    },\n",
    "    \"target\": {\n",
    "        \"original\": {\"train\":train_original_target, \"val\":val_original_target, \"test\":test_original_target},\n",
    "        \"processed\": {\"train\":train_processed_target, \"val\":val_processed_target, \"test\":test_processed_target}\n",
    "    },\n",
    "})"
   ]
  },
  {
   "cell_type": "code",
   "execution_count": 20,
   "id": "5b3c01fc",
   "metadata": {
    "execution": {
     "iopub.execute_input": "2022-03-25T11:50:56.499154Z",
     "iopub.status.busy": "2022-03-25T11:50:56.498902Z",
     "iopub.status.idle": "2022-03-25T11:51:02.609140Z",
     "shell.execute_reply": "2022-03-25T11:51:02.609606Z"
    },
    "papermill": {
     "duration": 6.127542,
     "end_time": "2022-03-25T11:51:02.609722",
     "exception": false,
     "start_time": "2022-03-25T11:50:56.482180",
     "status": "completed"
    },
    "tags": []
   },
   "outputs": [
    {
     "name": "stdout",
     "output_type": "stream",
     "text": [
      "{'O_44', 'O_14', 'O_50', 'O_38', 'O_8', 'O_20', 'O_26', 'O_32'}\n"
     ]
    },
    {
     "name": "stdout",
     "output_type": "stream",
     "text": [
      "{'C_4', 'C_5', 'C_2', 'C_3', 'C_1'}\n"
     ]
    },
    {
     "name": "stdout",
     "output_type": "stream",
     "text": [
      "tensor([[[ 8.5985e-01,  1.0273e+00, -5.1712e-01,  ...,  6.2292e-01,\n",
      "           6.3736e-01,  1.1674e+00],\n",
      "         [-5.4263e-01,  1.2698e-01,  9.5558e-01,  ...,  9.1222e-01,\n",
      "           7.3182e-01, -3.5609e-01]],\n",
      "\n",
      "        [[ 4.3494e-01,  1.1755e+00,  4.3359e-02,  ...,  5.3290e-01,\n",
      "          -4.6212e-01,  5.8476e-01],\n",
      "         [-3.6671e-01,  5.0357e-01,  5.9989e-01,  ...,  3.9506e-01,\n",
      "           1.1232e+00,  6.1414e-01]],\n",
      "\n",
      "        [[-3.3927e-01, -7.8919e-01,  2.0817e-01,  ..., -5.1654e-01,\n",
      "           9.7205e-01,  3.4605e-02],\n",
      "         [ 2.5446e-01, -7.8658e-01, -6.9448e-01,  ..., -4.6413e-01,\n",
      "          -9.3530e-01, -7.7223e-01]],\n",
      "\n",
      "        ...,\n",
      "\n",
      "        [[-4.2339e-01, -1.1305e+00, -1.0175e-01,  ..., -9.1360e-01,\n",
      "          -9.0403e-01, -1.1142e+00],\n",
      "         [ 1.0045e+00,  4.9193e-01, -9.7786e-01,  ..., -5.1049e-01,\n",
      "          -5.2751e-01,  5.7269e-01]],\n",
      "\n",
      "        [[ 5.1356e-01,  2.1001e-01, -5.9836e-01,  ..., -4.6290e-02,\n",
      "          -1.2088e+00, -2.8668e-01],\n",
      "         [-4.7083e-16,  1.1152e+00,  3.4624e-01,  ...,  7.1319e-01,\n",
      "           1.7580e-01,  7.6484e-01]],\n",
      "\n",
      "        [[ 9.1246e-01,  8.8735e-01, -6.8332e-01,  ...,  4.1526e-01,\n",
      "           6.0316e-01,  1.3569e+00],\n",
      "         [-5.1472e-01,  2.1114e-01,  8.7941e-01,  ...,  8.9658e-01,\n",
      "           6.6137e-01, -2.5093e-01]]])\n"
     ]
    }
   ],
   "source": [
    "from steves_utils.transforms import get_average_magnitude, get_average_power\n",
    "\n",
    "print(set([u for u,_ in val_original_source]))\n",
    "print(set([u for u,_ in val_original_target]))\n",
    "\n",
    "s_x, s_y, q_x, q_y, _ = next(iter(train_processed_source))\n",
    "print(s_x)\n",
    "\n",
    "# for ds in [\n",
    "#     train_processed_source,\n",
    "#     val_processed_source,\n",
    "#     test_processed_source,\n",
    "#     train_processed_target,\n",
    "#     val_processed_target,\n",
    "#     test_processed_target\n",
    "# ]:\n",
    "#     for s_x, s_y, q_x, q_y, _ in ds:\n",
    "#         for X in (s_x, q_x):\n",
    "#             for x in X:\n",
    "#                 assert np.isclose(get_average_magnitude(x.numpy()), 1.0)\n",
    "#                 assert np.isclose(get_average_power(x.numpy()), 1.0)\n",
    "                "
   ]
  },
  {
   "cell_type": "code",
   "execution_count": 21,
   "id": "bbdacba1",
   "metadata": {
    "execution": {
     "iopub.execute_input": "2022-03-25T11:51:02.646728Z",
     "iopub.status.busy": "2022-03-25T11:51:02.646470Z",
     "iopub.status.idle": "2022-03-25T11:51:02.699013Z",
     "shell.execute_reply": "2022-03-25T11:51:02.698493Z"
    },
    "papermill": {
     "duration": 0.070787,
     "end_time": "2022-03-25T11:51:02.699119",
     "exception": false,
     "start_time": "2022-03-25T11:51:02.628332",
     "status": "completed"
    },
    "tags": []
   },
   "outputs": [
    {
     "name": "stdout",
     "output_type": "stream",
     "text": [
      "(2, 200)\n"
     ]
    }
   ],
   "source": [
    "###################################\n",
    "# Build the model\n",
    "###################################\n",
    "# easfsl only wants a tuple for the shape\n",
    "model = Steves_Prototypical_Network(x_net, device=p.device, x_shape=tuple(p.x_shape))\n",
    "optimizer = Adam(params=model.parameters(), lr=p.lr)"
   ]
  },
  {
   "cell_type": "code",
   "execution_count": 22,
   "id": "22b39ac5",
   "metadata": {
    "execution": {
     "iopub.execute_input": "2022-03-25T11:51:02.734974Z",
     "iopub.status.busy": "2022-03-25T11:51:02.734673Z",
     "iopub.status.idle": "2022-03-25T12:18:09.026447Z",
     "shell.execute_reply": "2022-03-25T12:18:09.026217Z"
    },
    "papermill": {
     "duration": 1626.308721,
     "end_time": "2022-03-25T12:18:09.026504",
     "exception": false,
     "start_time": "2022-03-25T11:51:02.717783",
     "status": "completed"
    },
    "tags": []
   },
   "outputs": [
    {
     "name": "stdout",
     "output_type": "stream",
     "text": [
      "epoch: 1, [batch: 1 / 6720], examples_per_second: 49.5284, train_label_loss: 3.0492, \n"
     ]
    },
    {
     "name": "stdout",
     "output_type": "stream",
     "text": [
      "epoch: 1, [batch: 672 / 6720], examples_per_second: 3624.3278, train_label_loss: 1.4237, \n"
     ]
    },
    {
     "name": "stdout",
     "output_type": "stream",
     "text": [
      "epoch: 1, [batch: 1344 / 6720], examples_per_second: 3680.0641, train_label_loss: 0.7758, \n"
     ]
    },
    {
     "name": "stdout",
     "output_type": "stream",
     "text": [
      "epoch: 1, [batch: 2016 / 6720], examples_per_second: 3672.9800, train_label_loss: 1.0142, \n"
     ]
    },
    {
     "name": "stdout",
     "output_type": "stream",
     "text": [
      "epoch: 1, [batch: 2688 / 6720], examples_per_second: 3656.9965, train_label_loss: 0.8122, \n"
     ]
    },
    {
     "name": "stdout",
     "output_type": "stream",
     "text": [
      "epoch: 1, [batch: 3360 / 6720], examples_per_second: 3666.0033, train_label_loss: 0.7007, \n"
     ]
    },
    {
     "name": "stdout",
     "output_type": "stream",
     "text": [
      "epoch: 1, [batch: 4032 / 6720], examples_per_second: 3668.9679, train_label_loss: 1.0763, \n"
     ]
    },
    {
     "name": "stdout",
     "output_type": "stream",
     "text": [
      "epoch: 1, [batch: 4704 / 6720], examples_per_second: 3627.5257, train_label_loss: 1.6472, \n"
     ]
    },
    {
     "name": "stdout",
     "output_type": "stream",
     "text": [
      "epoch: 1, [batch: 5376 / 6720], examples_per_second: 3660.2474, train_label_loss: 1.1765, \n"
     ]
    },
    {
     "name": "stdout",
     "output_type": "stream",
     "text": [
      "epoch: 1, [batch: 6048 / 6720], examples_per_second: 3652.0370, train_label_loss: 0.7391, \n"
     ]
    },
    {
     "name": "stdout",
     "output_type": "stream",
     "text": [
      "=============================================================\n",
      "epoch: 1, source_val_acc_label: 0.6636, target_val_acc_label: 0.4074, source_val_label_loss: 8.8456, target_val_label_loss: 1961.0990, \n",
      "=============================================================\n"
     ]
    },
    {
     "name": "stdout",
     "output_type": "stream",
     "text": [
      "New best\n"
     ]
    },
    {
     "name": "stdout",
     "output_type": "stream",
     "text": [
      "epoch: 2, [batch: 1 / 6720], examples_per_second: 5.2901, train_label_loss: 1.3772, \n"
     ]
    },
    {
     "name": "stdout",
     "output_type": "stream",
     "text": [
      "epoch: 2, [batch: 672 / 6720], examples_per_second: 3635.7443, train_label_loss: 1.1904, \n"
     ]
    },
    {
     "name": "stdout",
     "output_type": "stream",
     "text": [
      "epoch: 2, [batch: 1344 / 6720], examples_per_second: 3652.2300, train_label_loss: 0.6211, \n"
     ]
    },
    {
     "name": "stdout",
     "output_type": "stream",
     "text": [
      "epoch: 2, [batch: 2016 / 6720], examples_per_second: 3661.5354, train_label_loss: 0.8518, \n"
     ]
    },
    {
     "name": "stdout",
     "output_type": "stream",
     "text": [
      "epoch: 2, [batch: 2688 / 6720], examples_per_second: 3644.0640, train_label_loss: 0.8371, \n"
     ]
    },
    {
     "name": "stdout",
     "output_type": "stream",
     "text": [
      "epoch: 2, [batch: 3360 / 6720], examples_per_second: 3653.3364, train_label_loss: 0.7475, \n"
     ]
    },
    {
     "name": "stdout",
     "output_type": "stream",
     "text": [
      "epoch: 2, [batch: 4032 / 6720], examples_per_second: 3663.5766, train_label_loss: 0.6002, \n"
     ]
    },
    {
     "name": "stdout",
     "output_type": "stream",
     "text": [
      "epoch: 2, [batch: 4704 / 6720], examples_per_second: 3652.8363, train_label_loss: 1.2105, \n"
     ]
    },
    {
     "name": "stdout",
     "output_type": "stream",
     "text": [
      "epoch: 2, [batch: 5376 / 6720], examples_per_second: 3663.1556, train_label_loss: 0.3151, \n"
     ]
    },
    {
     "name": "stdout",
     "output_type": "stream",
     "text": [
      "epoch: 2, [batch: 6048 / 6720], examples_per_second: 3662.8408, train_label_loss: 0.6779, \n"
     ]
    },
    {
     "name": "stdout",
     "output_type": "stream",
     "text": [
      "=============================================================\n",
      "epoch: 2, source_val_acc_label: 0.6716, target_val_acc_label: 0.6415, source_val_label_loss: 0.8909, target_val_label_loss: 86.8528, \n",
      "=============================================================\n"
     ]
    },
    {
     "name": "stdout",
     "output_type": "stream",
     "text": [
      "New best\n"
     ]
    },
    {
     "name": "stdout",
     "output_type": "stream",
     "text": [
      "epoch: 3, [batch: 1 / 6720], examples_per_second: 5.3258, train_label_loss: 0.5605, \n"
     ]
    },
    {
     "name": "stdout",
     "output_type": "stream",
     "text": [
      "epoch: 3, [batch: 672 / 6720], examples_per_second: 3637.9865, train_label_loss: 1.4446, \n"
     ]
    },
    {
     "name": "stdout",
     "output_type": "stream",
     "text": [
      "epoch: 3, [batch: 1344 / 6720], examples_per_second: 3651.8146, train_label_loss: 0.4142, \n"
     ]
    },
    {
     "name": "stdout",
     "output_type": "stream",
     "text": [
      "epoch: 3, [batch: 2016 / 6720], examples_per_second: 3654.2423, train_label_loss: 0.8214, \n"
     ]
    },
    {
     "name": "stdout",
     "output_type": "stream",
     "text": [
      "epoch: 3, [batch: 2688 / 6720], examples_per_second: 3646.0564, train_label_loss: 0.6165, \n"
     ]
    },
    {
     "name": "stdout",
     "output_type": "stream",
     "text": [
      "epoch: 3, [batch: 3360 / 6720], examples_per_second: 3661.2755, train_label_loss: 0.8712, \n"
     ]
    },
    {
     "name": "stdout",
     "output_type": "stream",
     "text": [
      "epoch: 3, [batch: 4032 / 6720], examples_per_second: 3654.0231, train_label_loss: 0.7341, \n"
     ]
    },
    {
     "name": "stdout",
     "output_type": "stream",
     "text": [
      "epoch: 3, [batch: 4704 / 6720], examples_per_second: 3631.2820, train_label_loss: 0.3585, \n"
     ]
    },
    {
     "name": "stdout",
     "output_type": "stream",
     "text": [
      "epoch: 3, [batch: 5376 / 6720], examples_per_second: 3657.3798, train_label_loss: 0.6329, \n"
     ]
    },
    {
     "name": "stdout",
     "output_type": "stream",
     "text": [
      "epoch: 3, [batch: 6048 / 6720], examples_per_second: 3662.5808, train_label_loss: 0.7371, \n"
     ]
    },
    {
     "name": "stdout",
     "output_type": "stream",
     "text": [
      "=============================================================\n",
      "epoch: 3, source_val_acc_label: 0.7439, target_val_acc_label: 0.6823, source_val_label_loss: 0.6904, target_val_label_loss: 83.9902, \n",
      "=============================================================\n"
     ]
    },
    {
     "name": "stdout",
     "output_type": "stream",
     "text": [
      "New best\n"
     ]
    },
    {
     "name": "stdout",
     "output_type": "stream",
     "text": [
      "epoch: 4, [batch: 1 / 6720], examples_per_second: 5.2638, train_label_loss: 0.6908, \n"
     ]
    },
    {
     "name": "stdout",
     "output_type": "stream",
     "text": [
      "epoch: 4, [batch: 672 / 6720], examples_per_second: 3629.6776, train_label_loss: 0.2228, \n"
     ]
    },
    {
     "name": "stdout",
     "output_type": "stream",
     "text": [
      "epoch: 4, [batch: 1344 / 6720], examples_per_second: 3672.7453, train_label_loss: 0.4758, \n"
     ]
    },
    {
     "name": "stdout",
     "output_type": "stream",
     "text": [
      "epoch: 4, [batch: 2016 / 6720], examples_per_second: 3659.5386, train_label_loss: 0.4624, \n"
     ]
    },
    {
     "name": "stdout",
     "output_type": "stream",
     "text": [
      "epoch: 4, [batch: 2688 / 6720], examples_per_second: 3653.1616, train_label_loss: 0.3108, \n"
     ]
    },
    {
     "name": "stdout",
     "output_type": "stream",
     "text": [
      "epoch: 4, [batch: 3360 / 6720], examples_per_second: 3652.6867, train_label_loss: 0.5937, \n"
     ]
    },
    {
     "name": "stdout",
     "output_type": "stream",
     "text": [
      "epoch: 4, [batch: 4032 / 6720], examples_per_second: 3669.1529, train_label_loss: 0.3558, \n"
     ]
    },
    {
     "name": "stdout",
     "output_type": "stream",
     "text": [
      "epoch: 4, [batch: 4704 / 6720], examples_per_second: 3640.5941, train_label_loss: 1.0876, \n"
     ]
    },
    {
     "name": "stdout",
     "output_type": "stream",
     "text": [
      "epoch: 4, [batch: 5376 / 6720], examples_per_second: 3659.2543, train_label_loss: 0.3227, \n"
     ]
    },
    {
     "name": "stdout",
     "output_type": "stream",
     "text": [
      "epoch: 4, [batch: 6048 / 6720], examples_per_second: 3657.1576, train_label_loss: 0.5207, \n"
     ]
    },
    {
     "name": "stdout",
     "output_type": "stream",
     "text": [
      "=============================================================\n",
      "epoch: 4, source_val_acc_label: 0.8081, target_val_acc_label: 0.6610, source_val_label_loss: 0.5257, target_val_label_loss: 90.9777, \n",
      "=============================================================\n"
     ]
    },
    {
     "name": "stdout",
     "output_type": "stream",
     "text": [
      "epoch: 5, [batch: 1 / 6720], examples_per_second: 5.3064, train_label_loss: 1.0063, \n"
     ]
    },
    {
     "name": "stdout",
     "output_type": "stream",
     "text": [
      "epoch: 5, [batch: 672 / 6720], examples_per_second: 3621.3586, train_label_loss: 0.6658, \n"
     ]
    },
    {
     "name": "stdout",
     "output_type": "stream",
     "text": [
      "epoch: 5, [batch: 1344 / 6720], examples_per_second: 3657.7550, train_label_loss: 0.2686, \n"
     ]
    },
    {
     "name": "stdout",
     "output_type": "stream",
     "text": [
      "epoch: 5, [batch: 2016 / 6720], examples_per_second: 3662.3351, train_label_loss: 0.2770, \n"
     ]
    },
    {
     "name": "stdout",
     "output_type": "stream",
     "text": [
      "epoch: 5, [batch: 2688 / 6720], examples_per_second: 3639.7386, train_label_loss: 0.2139, \n"
     ]
    },
    {
     "name": "stdout",
     "output_type": "stream",
     "text": [
      "epoch: 5, [batch: 3360 / 6720], examples_per_second: 3664.1545, train_label_loss: 0.5005, \n"
     ]
    },
    {
     "name": "stdout",
     "output_type": "stream",
     "text": [
      "epoch: 5, [batch: 4032 / 6720], examples_per_second: 3650.1022, train_label_loss: 0.5343, \n"
     ]
    },
    {
     "name": "stdout",
     "output_type": "stream",
     "text": [
      "epoch: 5, [batch: 4704 / 6720], examples_per_second: 3654.1266, train_label_loss: 0.4839, \n"
     ]
    },
    {
     "name": "stdout",
     "output_type": "stream",
     "text": [
      "epoch: 5, [batch: 5376 / 6720], examples_per_second: 3663.1856, train_label_loss: 0.4678, \n"
     ]
    },
    {
     "name": "stdout",
     "output_type": "stream",
     "text": [
      "epoch: 5, [batch: 6048 / 6720], examples_per_second: 3650.4829, train_label_loss: 0.1549, \n"
     ]
    },
    {
     "name": "stdout",
     "output_type": "stream",
     "text": [
      "=============================================================\n",
      "epoch: 5, source_val_acc_label: 0.8198, target_val_acc_label: 0.6877, source_val_label_loss: 0.4972, target_val_label_loss: 90.1303, \n",
      "=============================================================\n"
     ]
    },
    {
     "name": "stdout",
     "output_type": "stream",
     "text": [
      "New best\n"
     ]
    },
    {
     "name": "stdout",
     "output_type": "stream",
     "text": [
      "epoch: 6, [batch: 1 / 6720], examples_per_second: 5.2963, train_label_loss: 0.4330, \n"
     ]
    },
    {
     "name": "stdout",
     "output_type": "stream",
     "text": [
      "epoch: 6, [batch: 672 / 6720], examples_per_second: 3638.2199, train_label_loss: 0.5810, \n"
     ]
    },
    {
     "name": "stdout",
     "output_type": "stream",
     "text": [
      "epoch: 6, [batch: 1344 / 6720], examples_per_second: 3657.3739, train_label_loss: 0.3887, \n"
     ]
    },
    {
     "name": "stdout",
     "output_type": "stream",
     "text": [
      "epoch: 6, [batch: 2016 / 6720], examples_per_second: 3657.7836, train_label_loss: 0.4089, \n"
     ]
    },
    {
     "name": "stdout",
     "output_type": "stream",
     "text": [
      "epoch: 6, [batch: 2688 / 6720], examples_per_second: 3648.3035, train_label_loss: 0.2962, \n"
     ]
    },
    {
     "name": "stdout",
     "output_type": "stream",
     "text": [
      "epoch: 6, [batch: 3360 / 6720], examples_per_second: 3677.9359, train_label_loss: 0.5668, \n"
     ]
    },
    {
     "name": "stdout",
     "output_type": "stream",
     "text": [
      "epoch: 6, [batch: 4032 / 6720], examples_per_second: 3658.3517, train_label_loss: 0.1559, \n"
     ]
    },
    {
     "name": "stdout",
     "output_type": "stream",
     "text": [
      "epoch: 6, [batch: 4704 / 6720], examples_per_second: 3648.4962, train_label_loss: 0.3535, \n"
     ]
    },
    {
     "name": "stdout",
     "output_type": "stream",
     "text": [
      "epoch: 6, [batch: 5376 / 6720], examples_per_second: 3655.1249, train_label_loss: 0.4378, \n"
     ]
    },
    {
     "name": "stdout",
     "output_type": "stream",
     "text": [
      "epoch: 6, [batch: 6048 / 6720], examples_per_second: 3653.0130, train_label_loss: 0.4498, \n"
     ]
    },
    {
     "name": "stdout",
     "output_type": "stream",
     "text": [
      "=============================================================\n",
      "epoch: 6, source_val_acc_label: 0.8210, target_val_acc_label: 0.7082, source_val_label_loss: 0.4897, target_val_label_loss: 96.7296, \n",
      "=============================================================\n"
     ]
    },
    {
     "name": "stdout",
     "output_type": "stream",
     "text": [
      "New best\n"
     ]
    },
    {
     "name": "stdout",
     "output_type": "stream",
     "text": [
      "epoch: 7, [batch: 1 / 6720], examples_per_second: 5.3044, train_label_loss: 0.4467, \n"
     ]
    },
    {
     "name": "stdout",
     "output_type": "stream",
     "text": [
      "epoch: 7, [batch: 672 / 6720], examples_per_second: 3635.6474, train_label_loss: 0.1996, \n"
     ]
    },
    {
     "name": "stdout",
     "output_type": "stream",
     "text": [
      "epoch: 7, [batch: 1344 / 6720], examples_per_second: 3655.9288, train_label_loss: 0.6169, \n"
     ]
    },
    {
     "name": "stdout",
     "output_type": "stream",
     "text": [
      "epoch: 7, [batch: 2016 / 6720], examples_per_second: 3662.4999, train_label_loss: 0.2398, \n"
     ]
    },
    {
     "name": "stdout",
     "output_type": "stream",
     "text": [
      "epoch: 7, [batch: 2688 / 6720], examples_per_second: 3648.9262, train_label_loss: 0.0876, \n"
     ]
    },
    {
     "name": "stdout",
     "output_type": "stream",
     "text": [
      "epoch: 7, [batch: 3360 / 6720], examples_per_second: 3673.6981, train_label_loss: 0.1903, \n"
     ]
    },
    {
     "name": "stdout",
     "output_type": "stream",
     "text": [
      "epoch: 7, [batch: 4032 / 6720], examples_per_second: 3654.6804, train_label_loss: 0.1578, \n"
     ]
    },
    {
     "name": "stdout",
     "output_type": "stream",
     "text": [
      "epoch: 7, [batch: 4704 / 6720], examples_per_second: 3636.6439, train_label_loss: 0.3967, \n"
     ]
    },
    {
     "name": "stdout",
     "output_type": "stream",
     "text": [
      "epoch: 7, [batch: 5376 / 6720], examples_per_second: 3657.7368, train_label_loss: 0.4737, \n"
     ]
    },
    {
     "name": "stdout",
     "output_type": "stream",
     "text": [
      "epoch: 7, [batch: 6048 / 6720], examples_per_second: 3659.7826, train_label_loss: 0.4404, \n"
     ]
    },
    {
     "name": "stdout",
     "output_type": "stream",
     "text": [
      "=============================================================\n",
      "epoch: 7, source_val_acc_label: 0.8513, target_val_acc_label: 0.6926, source_val_label_loss: 0.4100, target_val_label_loss: 122.9908, \n",
      "=============================================================\n"
     ]
    },
    {
     "name": "stdout",
     "output_type": "stream",
     "text": [
      "epoch: 8, [batch: 1 / 6720], examples_per_second: 5.2693, train_label_loss: 0.2387, \n"
     ]
    },
    {
     "name": "stdout",
     "output_type": "stream",
     "text": [
      "epoch: 8, [batch: 672 / 6720], examples_per_second: 3634.3796, train_label_loss: 0.3056, \n"
     ]
    },
    {
     "name": "stdout",
     "output_type": "stream",
     "text": [
      "epoch: 8, [batch: 1344 / 6720], examples_per_second: 3649.1189, train_label_loss: 0.3575, \n"
     ]
    },
    {
     "name": "stdout",
     "output_type": "stream",
     "text": [
      "epoch: 8, [batch: 2016 / 6720], examples_per_second: 3662.7167, train_label_loss: 0.9380, \n"
     ]
    },
    {
     "name": "stdout",
     "output_type": "stream",
     "text": [
      "epoch: 8, [batch: 2688 / 6720], examples_per_second: 3645.5762, train_label_loss: 0.9043, \n"
     ]
    },
    {
     "name": "stdout",
     "output_type": "stream",
     "text": [
      "epoch: 8, [batch: 3360 / 6720], examples_per_second: 3660.4310, train_label_loss: 0.2101, \n"
     ]
    },
    {
     "name": "stdout",
     "output_type": "stream",
     "text": [
      "epoch: 8, [batch: 4032 / 6720], examples_per_second: 3666.8139, train_label_loss: 0.2347, \n"
     ]
    },
    {
     "name": "stdout",
     "output_type": "stream",
     "text": [
      "epoch: 8, [batch: 4704 / 6720], examples_per_second: 3642.2674, train_label_loss: 0.2258, \n"
     ]
    },
    {
     "name": "stdout",
     "output_type": "stream",
     "text": [
      "epoch: 8, [batch: 5376 / 6720], examples_per_second: 3640.7212, train_label_loss: 0.4448, \n"
     ]
    },
    {
     "name": "stdout",
     "output_type": "stream",
     "text": [
      "epoch: 8, [batch: 6048 / 6720], examples_per_second: 3658.6620, train_label_loss: 0.6361, \n"
     ]
    },
    {
     "name": "stdout",
     "output_type": "stream",
     "text": [
      "=============================================================\n",
      "epoch: 8, source_val_acc_label: 0.8447, target_val_acc_label: 0.7031, source_val_label_loss: 0.4268, target_val_label_loss: 117.2848, \n",
      "=============================================================\n"
     ]
    },
    {
     "name": "stdout",
     "output_type": "stream",
     "text": [
      "epoch: 9, [batch: 1 / 6720], examples_per_second: 5.3283, train_label_loss: 0.2135, \n"
     ]
    },
    {
     "name": "stdout",
     "output_type": "stream",
     "text": [
      "epoch: 9, [batch: 672 / 6720], examples_per_second: 3632.7314, train_label_loss: 0.2694, \n"
     ]
    },
    {
     "name": "stdout",
     "output_type": "stream",
     "text": [
      "epoch: 9, [batch: 1344 / 6720], examples_per_second: 3653.5165, train_label_loss: 0.1821, \n"
     ]
    },
    {
     "name": "stdout",
     "output_type": "stream",
     "text": [
      "epoch: 9, [batch: 2016 / 6720], examples_per_second: 3629.7236, train_label_loss: 0.3140, \n"
     ]
    },
    {
     "name": "stdout",
     "output_type": "stream",
     "text": [
      "epoch: 9, [batch: 2688 / 6720], examples_per_second: 3624.4006, train_label_loss: 0.1733, \n"
     ]
    },
    {
     "name": "stdout",
     "output_type": "stream",
     "text": [
      "epoch: 9, [batch: 3360 / 6720], examples_per_second: 3665.4284, train_label_loss: 0.5949, \n"
     ]
    },
    {
     "name": "stdout",
     "output_type": "stream",
     "text": [
      "epoch: 9, [batch: 4032 / 6720], examples_per_second: 3662.1753, train_label_loss: 0.1373, \n"
     ]
    },
    {
     "name": "stdout",
     "output_type": "stream",
     "text": [
      "epoch: 9, [batch: 4704 / 6720], examples_per_second: 3645.2159, train_label_loss: 0.0536, \n"
     ]
    },
    {
     "name": "stdout",
     "output_type": "stream",
     "text": [
      "epoch: 9, [batch: 5376 / 6720], examples_per_second: 3657.3189, train_label_loss: 0.2382, \n"
     ]
    },
    {
     "name": "stdout",
     "output_type": "stream",
     "text": [
      "epoch: 9, [batch: 6048 / 6720], examples_per_second: 3663.2779, train_label_loss: 0.2700, \n"
     ]
    },
    {
     "name": "stdout",
     "output_type": "stream",
     "text": [
      "=============================================================\n",
      "epoch: 9, source_val_acc_label: 0.8609, target_val_acc_label: 0.6923, source_val_label_loss: 0.3800, target_val_label_loss: 131.2167, \n",
      "=============================================================\n"
     ]
    },
    {
     "name": "stdout",
     "output_type": "stream",
     "text": [
      "epoch: 10, [batch: 1 / 6720], examples_per_second: 5.2957, train_label_loss: 0.2815, \n"
     ]
    },
    {
     "name": "stdout",
     "output_type": "stream",
     "text": [
      "epoch: 10, [batch: 672 / 6720], examples_per_second: 3640.5185, train_label_loss: 1.0030, \n"
     ]
    },
    {
     "name": "stdout",
     "output_type": "stream",
     "text": [
      "epoch: 10, [batch: 1344 / 6720], examples_per_second: 3652.2929, train_label_loss: 0.2892, \n"
     ]
    },
    {
     "name": "stdout",
     "output_type": "stream",
     "text": [
      "epoch: 10, [batch: 2016 / 6720], examples_per_second: 3652.1522, train_label_loss: 0.2445, \n"
     ]
    },
    {
     "name": "stdout",
     "output_type": "stream",
     "text": [
      "epoch: 10, [batch: 2688 / 6720], examples_per_second: 3647.4431, train_label_loss: 0.2449, \n"
     ]
    },
    {
     "name": "stdout",
     "output_type": "stream",
     "text": [
      "epoch: 10, [batch: 3360 / 6720], examples_per_second: 3664.4351, train_label_loss: 0.1807, \n"
     ]
    },
    {
     "name": "stdout",
     "output_type": "stream",
     "text": [
      "epoch: 10, [batch: 4032 / 6720], examples_per_second: 3666.8573, train_label_loss: 0.2618, \n"
     ]
    },
    {
     "name": "stdout",
     "output_type": "stream",
     "text": [
      "epoch: 10, [batch: 4704 / 6720], examples_per_second: 3648.5195, train_label_loss: 0.1818, \n"
     ]
    },
    {
     "name": "stdout",
     "output_type": "stream",
     "text": [
      "epoch: 10, [batch: 5376 / 6720], examples_per_second: 3655.2850, train_label_loss: 0.2915, \n"
     ]
    },
    {
     "name": "stdout",
     "output_type": "stream",
     "text": [
      "epoch: 10, [batch: 6048 / 6720], examples_per_second: 3665.1767, train_label_loss: 0.1079, \n"
     ]
    },
    {
     "name": "stdout",
     "output_type": "stream",
     "text": [
      "=============================================================\n",
      "epoch: 10, source_val_acc_label: 0.8564, target_val_acc_label: 0.6879, source_val_label_loss: 0.3968, target_val_label_loss: 127.4031, \n",
      "=============================================================\n"
     ]
    },
    {
     "name": "stdout",
     "output_type": "stream",
     "text": [
      "Patience (3) exhausted\n"
     ]
    }
   ],
   "source": [
    "###################################\n",
    "# train\n",
    "###################################\n",
    "jig = PTN_Train_Eval_Test_Jig(model, p.BEST_MODEL_PATH, p.device)\n",
    "\n",
    "jig.train(\n",
    "    train_iterable=datasets.source.processed.train,\n",
    "    source_val_iterable=datasets.source.processed.val,\n",
    "    target_val_iterable=datasets.target.processed.val,\n",
    "    num_epochs=p.n_epoch,\n",
    "    num_logs_per_epoch=p.NUM_LOGS_PER_EPOCH,\n",
    "    patience=p.patience,\n",
    "    optimizer=optimizer,\n",
    "    criteria_for_best=p.criteria_for_best,\n",
    ")"
   ]
  },
  {
   "cell_type": "code",
   "execution_count": 23,
   "id": "31e8fabf",
   "metadata": {
    "execution": {
     "iopub.execute_input": "2022-03-25T12:18:09.096983Z",
     "iopub.status.busy": "2022-03-25T12:18:09.096732Z",
     "iopub.status.idle": "2022-03-25T12:18:09.116059Z",
     "shell.execute_reply": "2022-03-25T12:18:09.115614Z"
    },
    "papermill": {
     "duration": 0.055817,
     "end_time": "2022-03-25T12:18:09.116147",
     "exception": false,
     "start_time": "2022-03-25T12:18:09.060330",
     "status": "completed"
    },
    "tags": []
   },
   "outputs": [],
   "source": [
    "total_experiment_time_secs = time.time() - start_time_secs"
   ]
  },
  {
   "cell_type": "code",
   "execution_count": 24,
   "id": "87b9595b",
   "metadata": {
    "execution": {
     "iopub.execute_input": "2022-03-25T12:18:09.190352Z",
     "iopub.status.busy": "2022-03-25T12:18:09.190086Z",
     "iopub.status.idle": "2022-03-25T12:19:41.096587Z",
     "shell.execute_reply": "2022-03-25T12:19:41.096989Z"
    },
    "papermill": {
     "duration": 91.944135,
     "end_time": "2022-03-25T12:19:41.097126",
     "exception": false,
     "start_time": "2022-03-25T12:18:09.152991",
     "status": "completed"
    },
    "tags": []
   },
   "outputs": [],
   "source": [
    "###################################\n",
    "# Evaluate the model\n",
    "###################################\n",
    "source_test_label_accuracy, source_test_label_loss = jig.test(datasets.source.processed.test)\n",
    "target_test_label_accuracy, target_test_label_loss = jig.test(datasets.target.processed.test)\n",
    "\n",
    "source_val_label_accuracy, source_val_label_loss = jig.test(datasets.source.processed.val)\n",
    "target_val_label_accuracy, target_val_label_loss = jig.test(datasets.target.processed.val)\n",
    "\n",
    "history = jig.get_history()\n",
    "\n",
    "total_epochs_trained = len(history[\"epoch_indices\"])\n",
    "\n",
    "val_dl = Iterable_Aggregator((datasets.source.original.val,datasets.target.original.val))\n",
    "\n",
    "confusion = ptn_confusion_by_domain_over_dataloader(model, p.device, val_dl)\n",
    "per_domain_accuracy = per_domain_accuracy_from_confusion(confusion)\n",
    "\n",
    "# Add a key to per_domain_accuracy for if it was a source domain\n",
    "for domain, accuracy in per_domain_accuracy.items():\n",
    "    per_domain_accuracy[domain] = {\n",
    "        \"accuracy\": accuracy,\n",
    "        \"source?\": domain in p.domains_source\n",
    "    }\n",
    "\n",
    "# Do an independent accuracy assesment JUST TO BE SURE!\n",
    "# _source_test_label_accuracy = independent_accuracy_assesment(model, datasets.source.processed.test, p.device)\n",
    "# _target_test_label_accuracy = independent_accuracy_assesment(model, datasets.target.processed.test, p.device)\n",
    "# _source_val_label_accuracy = independent_accuracy_assesment(model, datasets.source.processed.val, p.device)\n",
    "# _target_val_label_accuracy = independent_accuracy_assesment(model, datasets.target.processed.val, p.device)\n",
    "\n",
    "# assert(_source_test_label_accuracy == source_test_label_accuracy)\n",
    "# assert(_target_test_label_accuracy == target_test_label_accuracy)\n",
    "# assert(_source_val_label_accuracy == source_val_label_accuracy)\n",
    "# assert(_target_val_label_accuracy == target_val_label_accuracy)\n",
    "\n",
    "experiment = {\n",
    "    \"experiment_name\": p.experiment_name,\n",
    "    \"parameters\": dict(p),\n",
    "    \"results\": {\n",
    "        \"source_test_label_accuracy\": source_test_label_accuracy,\n",
    "        \"source_test_label_loss\": source_test_label_loss,\n",
    "        \"target_test_label_accuracy\": target_test_label_accuracy,\n",
    "        \"target_test_label_loss\": target_test_label_loss,\n",
    "        \"source_val_label_accuracy\": source_val_label_accuracy,\n",
    "        \"source_val_label_loss\": source_val_label_loss,\n",
    "        \"target_val_label_accuracy\": target_val_label_accuracy,\n",
    "        \"target_val_label_loss\": target_val_label_loss,\n",
    "        \"total_epochs_trained\": total_epochs_trained,\n",
    "        \"total_experiment_time_secs\": total_experiment_time_secs,\n",
    "        \"confusion\": confusion,\n",
    "        \"per_domain_accuracy\": per_domain_accuracy,\n",
    "    },\n",
    "    \"history\": history,\n",
    "    \"dataset_metrics\": get_dataset_metrics(datasets, \"ptn\"),\n",
    "}"
   ]
  },
  {
   "cell_type": "code",
   "execution_count": 25,
   "id": "54a21829",
   "metadata": {
    "execution": {
     "iopub.execute_input": "2022-03-25T12:19:41.173489Z",
     "iopub.status.busy": "2022-03-25T12:19:41.173235Z",
     "iopub.status.idle": "2022-03-25T12:19:41.299538Z",
     "shell.execute_reply": "2022-03-25T12:19:41.299082Z"
    },
    "papermill": {
     "duration": 0.163438,
     "end_time": "2022-03-25T12:19:41.299630",
     "exception": false,
     "start_time": "2022-03-25T12:19:41.136192",
     "status": "completed"
    },
    "tags": []
   },
   "outputs": [
    {
     "data": {
      "image/png": "[encoded data removed]",
      "text/plain": [
       "<Figure size 1080x504 with 1 Axes>"
      ]
     },
     "metadata": {
      "needs_background": "light"
     },
     "output_type": "display_data"
    }
   ],
   "source": [
    "ax = get_loss_curve(experiment)\n",
    "plt.show()"
   ]
  },
  {
   "cell_type": "code",
   "execution_count": 26,
   "id": "fd8a0f60",
   "metadata": {
    "execution": {
     "iopub.execute_input": "2022-03-25T12:19:41.377035Z",
     "iopub.status.busy": "2022-03-25T12:19:41.376785Z",
     "iopub.status.idle": "2022-03-25T12:19:41.521020Z",
     "shell.execute_reply": "2022-03-25T12:19:41.521426Z"
    },
    "papermill": {
     "duration": 0.18179,
     "end_time": "2022-03-25T12:19:41.521546",
     "exception": false,
     "start_time": "2022-03-25T12:19:41.339756",
     "status": "completed"
    },
    "tags": []
   },
   "outputs": [
    {
     "data": {
      "text/plain": [
       "<AxesSubplot:title={'center':'Results'}>"
      ]
     },
     "execution_count": 26,
     "metadata": {},
     "output_type": "execute_result"
    },
    {
     "data": {
      "image/png": "[encoded data removed]",
      "text/plain": [
       "<Figure size 1080x504 with 1 Axes>"
      ]
     },
     "metadata": {
      "needs_background": "light"
     },
     "output_type": "display_data"
    }
   ],
   "source": [
    "get_results_table(experiment)"
   ]
  },
  {
   "cell_type": "code",
   "execution_count": 27,
   "id": "cf8dc689",
   "metadata": {
    "execution": {
     "iopub.execute_input": "2022-03-25T12:19:41.601537Z",
     "iopub.status.busy": "2022-03-25T12:19:41.601288Z",
     "iopub.status.idle": "2022-03-25T12:19:41.737271Z",
     "shell.execute_reply": "2022-03-25T12:19:41.736821Z"
    },
    "papermill": {
     "duration": 0.174295,
     "end_time": "2022-03-25T12:19:41.737362",
     "exception": false,
     "start_time": "2022-03-25T12:19:41.563067",
     "status": "completed"
    },
    "tags": []
   },
   "outputs": [
    {
     "data": {
      "text/plain": [
       "<AxesSubplot:title={'center':'Per Domain Validation Accuracy'}, xlabel='domain'>"
      ]
     },
     "execution_count": 27,
     "metadata": {},
     "output_type": "execute_result"
    },
    {
     "data": {
      "image/png": "[encoded data removed]",
      "text/plain": [
       "<Figure size 1080x504 with 1 Axes>"
      ]
     },
     "metadata": {
      "needs_background": "light"
     },
     "output_type": "display_data"
    }
   ],
   "source": [
    "get_domain_accuracies(experiment)"
   ]
  },
  {
   "cell_type": "code",
   "execution_count": 28,
   "id": "a74ae082",
   "metadata": {
    "execution": {
     "iopub.execute_input": "2022-03-25T12:19:41.818669Z",
     "iopub.status.busy": "2022-03-25T12:19:41.818419Z",
     "iopub.status.idle": "2022-03-25T12:19:41.829749Z",
     "shell.execute_reply": "2022-03-25T12:19:41.830050Z"
    },
    "papermill": {
     "duration": 0.050949,
     "end_time": "2022-03-25T12:19:41.830133",
     "exception": false,
     "start_time": "2022-03-25T12:19:41.779184",
     "status": "completed"
    },
    "tags": []
   },
   "outputs": [
    {
     "name": "stdout",
     "output_type": "stream",
     "text": [
      "Source Test Label Accuracy: 0.8265950520833333 Target Test Label Accuracy: 0.7140536723163842\n",
      "Source Val Label Accuracy: 0.8210286458333333 Target Val Label Accuracy: 0.7081785714285714\n"
     ]
    }
   ],
   "source": [
    "print(\"Source Test Label Accuracy:\", experiment[\"results\"][\"source_test_label_accuracy\"], \"Target Test Label Accuracy:\", experiment[\"results\"][\"target_test_label_accuracy\"])\n",
    "print(\"Source Val Label Accuracy:\", experiment[\"results\"][\"source_val_label_accuracy\"], \"Target Val Label Accuracy:\", experiment[\"results\"][\"target_val_label_accuracy\"])"
   ]
  },
  {
   "cell_type": "code",
   "execution_count": 29,
   "id": "dacca602",
   "metadata": {
    "execution": {
     "iopub.execute_input": "2022-03-25T12:19:41.911671Z",
     "iopub.status.busy": "2022-03-25T12:19:41.911423Z",
     "iopub.status.idle": "2022-03-25T12:19:41.924637Z",
     "shell.execute_reply": "2022-03-25T12:19:41.925007Z"
    },
    "papermill": {
     "duration": 0.052534,
     "end_time": "2022-03-25T12:19:41.925113",
     "exception": false,
     "start_time": "2022-03-25T12:19:41.872579",
     "status": "completed"
    },
    "tags": [
     "experiment_json"
    ]
   },
   "outputs": [
    {
     "data": {
      "text/plain": [
       "'{\"experiment_name\": \"tl_3Av2:oracle.run1.framed -> cores\", \"parameters\": {\"experiment_name\": \"tl_3Av2:oracle.run1.framed -> cores\", \"device\": \"cuda\", \"lr\": 0.0001, \"x_shape\": [2, 200], \"n_shot\": 3, \"n_query\": 2, \"train_k_factor\": 3, \"val_k_factor\": 2, \"test_k_factor\": 2, \"torch_default_dtype\": \"torch.float32\", \"n_epoch\": 50, \"patience\": 3, \"criteria_for_best\": \"target_accuracy\", \"x_net\": [{\"class\": \"nnReshape\", \"kargs\": {\"shape\": [-1, 1, 2, 200]}}, {\"class\": \"Conv2d\", \"kargs\": {\"in_channels\": 1, \"out_channels\": 256, \"kernel_size\": [1, 7], \"bias\": false, \"padding\": [0, 3]}}, {\"class\": \"ReLU\", \"kargs\": {\"inplace\": true}}, {\"class\": \"BatchNorm2d\", \"kargs\": {\"num_features\": 256}}, {\"class\": \"Conv2d\", \"kargs\": {\"in_channels\": 256, \"out_channels\": 80, \"kernel_size\": [2, 7], \"bias\": true, \"padding\": [0, 3]}}, {\"class\": \"ReLU\", \"kargs\": {\"inplace\": true}}, {\"class\": \"BatchNorm2d\", \"kargs\": {\"num_features\": 80}}, {\"class\": \"Flatten\", \"kargs\": {}}, {\"class\": \"Linear\", \"kargs\": {\"in_features\": 16000, \"out_features\": 256}}, {\"class\": \"ReLU\", \"kargs\": {\"inplace\": true}}, {\"class\": \"BatchNorm1d\", \"kargs\": {\"num_features\": 256}}, {\"class\": \"Linear\", \"kargs\": {\"in_features\": 256, \"out_features\": 256}}], \"NUM_LOGS_PER_EPOCH\": 10, \"BEST_MODEL_PATH\": \"./best_model.pth\", \"n_way\": 16, \"datasets\": [{\"labels\": [\"1-10.\", \"1-11.\", \"1-15.\", \"1-16.\", \"1-17.\", \"1-18.\", \"1-19.\", \"10-4.\", \"10-7.\", \"11-1.\", \"11-14.\", \"11-17.\", \"11-20.\", \"11-7.\", \"13-20.\", \"13-8.\", \"14-10.\", \"14-11.\", \"14-14.\", \"14-7.\", \"15-1.\", \"15-20.\", \"16-1.\", \"16-16.\", \"17-10.\", \"17-11.\", \"17-2.\", \"19-1.\", \"19-16.\", \"19-19.\", \"19-20.\", \"19-3.\", \"2-10.\", \"2-11.\", \"2-17.\", \"2-18.\", \"2-20.\", \"2-3.\", \"2-4.\", \"2-5.\", \"2-6.\", \"2-7.\", \"2-8.\", \"3-13.\", \"3-18.\", \"3-3.\", \"4-1.\", \"4-10.\", \"4-11.\", \"4-19.\", \"5-5.\", \"6-15.\", \"7-10.\", \"7-14.\", \"8-18.\", \"8-20.\", \"8-3.\", \"8-8.\"], \"domains\": [1, 2, 3, 4, 5], \"num_examples_per_domain_per_label\": -1, \"pickle_path\": \"/mnt/wd500GB/CSC500/csc500-main/datasets/cores.stratified_ds.2022A.pkl\", \"source_or_target_dataset\": \"target\", \"x_transforms\": [\"unit_power\", \"take_200\"], \"episode_transforms\": [], \"domain_prefix\": \"C_\"}, {\"labels\": [\"3123D52\", \"3123D65\", \"3123D79\", \"3123D80\", \"3123D54\", \"3123D70\", \"3123D7B\", \"3123D89\", \"3123D58\", \"3123D76\", \"3123D7D\", \"3123EFE\", \"3123D64\", \"3123D78\", \"3123D7E\", \"3124E4A\"], \"domains\": [32, 38, 8, 44, 14, 50, 20, 26], \"num_examples_per_domain_per_label\": 2000, \"pickle_path\": \"/mnt/wd500GB/CSC500/csc500-main/datasets/oracle.Run1_framed_2000Examples_stratified_ds.2022A.pkl\", \"source_or_target_dataset\": \"source\", \"x_transforms\": [\"unit_power\", \"take_200\", \"resample_20Msps_to_25Msps\"], \"episode_transforms\": [], \"domain_prefix\": \"O_\"}], \"seed\": 7, \"dataset_seed\": 7, \"domains_source\": [\"O_32\", \"O_38\", \"O_8\", \"O_44\", \"O_14\", \"O_50\", \"O_20\", \"O_26\"], \"domains_target\": [\"C_1\", \"C_2\", \"C_3\", \"C_4\", \"C_5\"]}, \"results\": {\"source_test_label_accuracy\": 0.8265950520833333, \"source_test_label_loss\": 0.4768204689025879, \"target_test_label_accuracy\": 0.7140536723163842, \"target_test_label_loss\": 94.59854888916016, \"source_val_label_accuracy\": 0.8210286458333333, \"source_val_label_loss\": 0.4896501898765564, \"target_val_label_accuracy\": 0.7081785714285714, \"target_val_label_loss\": 96.72956848144531, \"total_epochs_trained\": 10, \"total_experiment_time_secs\": 1681.9338314533234, \"confusion\": {\"O_26\": {\"0\": {\"0\": 71, \"10\": 68, \"14\": 43, \"4\": 29, \"8\": 24, \"15\": 3, \"7\": 1, \"1\": 1}, \"4\": {\"4\": 160, \"14\": 20, \"7\": 16, \"0\": 14, \"8\": 20, \"1\": 7, \"10\": 3}, \"14\": {\"0\": 27, \"14\": 147, \"4\": 22, \"1\": 18, \"7\": 2, \"10\": 13, \"8\": 11}, \"12\": {\"12\": 240}, \"8\": {\"4\": 25, \"0\": 21, \"8\": 118, \"15\": 7, \"14\": 13, \"7\": 24, \"10\": 22, \"5\": 3, \"6\": 4, \"9\": 1, \"2\": 1, \"1\": 1}, \"7\": {\"7\": 170, \"2\": 12, \"3\": 14, \"4\": 29, \"8\": 10, \"0\": 1, \"5\": 1, \"1\": 1, \"14\": 2}, \"13\": {\"13\": 195, \"2\": 12, \"15\": 6, \"5\": 16, \"9\": 11}, \"5\": {\"5\": 201, \"13\": 9, \"2\": 20, \"15\": 2, \"7\": 2, \"8\": 1, \"9\": 3, \"3\": 2}, \"15\": {\"15\": 158, \"8\": 10, \"9\": 40, \"13\": 2, \"6\": 9, \"2\": 2, \"0\": 3, \"7\": 6, \"10\": 5, \"5\": 4, \"3\": 1}, \"10\": {\"10\": 110, \"14\": 20, \"0\": 70, \"4\": 4, \"8\": 30, \"15\": 3, \"6\": 3}, \"3\": {\"3\": 167, \"2\": 58, \"5\": 1, \"7\": 14}, \"9\": {\"9\": 186, \"15\": 32, \"13\": 7, \"6\": 5, \"2\": 2, \"5\": 5, \"7\": 1, \"8\": 1, \"10\": 1}, \"6\": {\"6\": 209, \"0\": 1, \"10\": 11, \"9\": 14, \"15\": 5}, \"1\": {\"1\": 214, \"4\": 10, \"14\": 10, \"7\": 4, \"3\": 1, \"10\": 1}, \"11\": {\"11\": 240}, \"2\": {\"5\": 24, \"2\": 102, \"3\": 67, \"7\": 26, \"15\": 13, \"8\": 5, \"4\": 1, \"13\": 2}}, \"O_44\": {\"1\": {\"1\": 178, \"3\": 7, \"12\": 30, \"2\": 16, \"10\": 9}, \"11\": {\"11\": 235, \"13\": 3, \"6\": 2}, \"3\": {\"3\": 236, \"1\": 4}, \"6\": {\"6\": 184, \"13\": 41, \"7\": 3, \"9\": 12}, \"7\": {\"7\": 167, \"9\": 33, \"6\": 9, \"2\": 31}, \"5\": {\"5\": 201, \"14\": 12, \"15\": 12, \"8\": 4, \"4\": 2, \"0\": 9}, \"2\": {\"2\": 190, \"9\": 1, \"7\": 25, \"1\": 13, \"10\": 11}, \"15\": {\"15\": 168, \"0\": 15, \"14\": 26, \"8\": 10, \"5\": 17, \"4\": 4}, \"10\": {\"10\": 208, \"2\": 9, \"1\": 21, \"12\": 2}, \"13\": {\"13\": 170, \"6\": 40, \"9\": 25, \"11\": 3, \"4\": 2}, \"8\": {\"0\": 90, \"8\": 132, \"15\": 10, \"5\": 8}, \"4\": {\"4\": 169, \"14\": 66, \"13\": 2, \"15\": 3}, \"9\": {\"13\": 37, \"9\": 115, \"7\": 55, \"2\": 2, \"6\": 31}, \"14\": {\"4\": 76, \"14\": 138, \"5\": 9, \"15\": 16, \"0\": 1}, \"0\": {\"0\": 149, \"8\": 66, \"5\": 16, \"15\": 9}, \"12\": {\"12\": 220, \"1\": 14, \"3\": 3, \"10\": 3}}, \"O_50\": {\"15\": {\"15\": 193, \"4\": 18, \"1\": 20, \"11\": 5, \"6\": 3, \"5\": 1}, \"4\": {\"4\": 152, \"5\": 29, \"15\": 41, \"1\": 6, \"6\": 4, \"7\": 6, \"11\": 1, \"13\": 1}, \"6\": {\"6\": 187, \"15\": 8, \"13\": 27, \"7\": 5, \"1\": 4, \"4\": 3, \"5\": 6}, \"2\": {\"2\": 219, \"0\": 21}, \"5\": {\"5\": 145, \"7\": 29, \"1\": 12, \"13\": 18, \"4\": 33, \"6\": 1, \"15\": 2}, \"9\": {\"9\": 227, \"11\": 10, \"12\": 3}, \"8\": {\"8\": 231, \"3\": 1, \"10\": 8}, \"12\": {\"12\": 223, \"11\": 10, \"9\": 6, \"14\": 1}, \"10\": {\"10\": 220, \"0\": 10, \"8\": 4, \"13\": 6}, \"1\": {\"1\": 192, \"5\": 7, \"15\": 27, \"13\": 5, \"4\": 5, \"11\": 2, \"6\": 1, \"14\": 1}, \"0\": {\"0\": 199, \"13\": 6, \"2\": 22, \"10\": 13}, \"3\": {\"3\": 240}, \"13\": {\"13\": 196, \"5\": 13, \"6\": 8, \"4\": 1, \"10\": 4, \"7\": 18}, \"11\": {\"11\": 221, \"15\": 11, \"12\": 4, \"9\": 3, \"14\": 1}, \"7\": {\"7\": 203, \"6\": 7, \"13\": 16, \"5\": 12, \"4\": 2}, \"14\": {\"14\": 240}}, \"O_38\": {\"15\": {\"8\": 17, \"15\": 205, \"13\": 3, \"5\": 4, \"1\": 11}, \"11\": {\"11\": 239, \"3\": 1}, \"10\": {\"10\": 213, \"8\": 3, \"13\": 16, \"0\": 4, \"4\": 2, \"7\": 1, \"5\": 1}, \"14\": {\"14\": 222, \"12\": 1, \"2\": 16, \"10\": 1}, \"6\": {\"6\": 236, \"9\": 3, \"5\": 1}, \"4\": {\"4\": 235, \"12\": 4, \"10\": 1}, \"13\": {\"13\": 198, \"15\": 11, \"5\": 3, \"2\": 10, \"10\": 10, \"0\": 5, \"8\": 3}, \"3\": {\"3\": 235, \"0\": 3, \"11\": 1, \"9\": 1}, \"7\": {\"7\": 195, \"5\": 26, \"0\": 12, \"8\": 7}, \"8\": {\"8\": 158, \"5\": 43, \"0\": 19, \"7\": 16, \"13\": 3, \"15\": 1}, \"1\": {\"1\": 229, \"15\": 11}, \"5\": {\"5\": 119, \"8\": 70, \"0\": 7, \"7\": 25, \"13\": 5, \"6\": 7, \"15\": 2, \"9\": 5}, \"0\": {\"0\": 198, \"7\": 12, \"5\": 3, \"3\": 5, \"8\": 14, \"4\": 2, \"10\": 4, \"13\": 2}, \"2\": {\"2\": 220, \"14\": 14, \"13\": 6}, \"12\": {\"12\": 239, \"4\": 1}, \"9\": {\"9\": 226, \"6\": 7, \"7\": 1, \"5\": 5, \"3\": 1}}, \"O_20\": {\"10\": {\"10\": 234, \"14\": 6}, \"7\": {\"7\": 197, \"2\": 24, \"3\": 4, \"8\": 5, \"12\": 2, \"6\": 3, \"9\": 3, \"13\": 2}, \"4\": {\"4\": 223, \"3\": 9, \"8\": 4, \"7\": 1, \"2\": 1, \"5\": 2}, \"13\": {\"13\": 231, \"2\": 7, \"1\": 1, \"12\": 1}, \"1\": {\"1\": 177, \"12\": 37, \"15\": 16, \"9\": 1, \"5\": 7, \"0\": 1, \"3\": 1}, \"0\": {\"0\": 182, \"15\": 22, \"5\": 29, \"1\": 2, \"7\": 2, \"8\": 3}, \"12\": {\"3\": 39, \"1\": 50, \"12\": 128, \"9\": 13, \"2\": 8, \"5\": 1, \"13\": 1}, \"5\": {\"5\": 191, \"12\": 6, \"0\": 26, \"1\": 9, \"15\": 6, \"4\": 2}, \"6\": {\"6\": 219, \"14\": 20, \"7\": 1}, \"2\": {\"2\": 142, \"3\": 7, \"9\": 40, \"12\": 20, \"13\": 10, \"1\": 1, \"7\": 20}, \"8\": {\"8\": 221, \"4\": 8, \"7\": 8, \"0\": 1, \"6\": 1, \"14\": 1}, \"11\": {\"11\": 240}, \"9\": {\"9\": 133, \"3\": 28, \"2\": 60, \"1\": 3, \"12\": 12, \"7\": 3, \"13\": 1}, \"14\": {\"14\": 225, \"6\": 11, \"8\": 1, \"10\": 3}, \"15\": {\"15\": 204, \"1\": 17, \"0\": 15, \"13\": 1, \"12\": 1, \"5\": 2}, \"3\": {\"3\": 154, \"9\": 21, \"2\": 16, \"12\": 36, \"1\": 3, \"7\": 3, \"4\": 7}}, \"O_14\": {\"14\": {\"14\": 223, \"2\": 11, \"13\": 4, \"3\": 1, \"6\": 1}, \"0\": {\"0\": 233, \"3\": 2, \"10\": 4, \"11\": 1}, \"4\": {\"4\": 223, \"5\": 13, \"13\": 1, \"1\": 1, \"3\": 1, \"2\": 1}, \"11\": {\"11\": 225, \"9\": 10, \"0\": 5}, \"13\": {\"13\": 108, \"14\": 14, \"6\": 97, \"2\": 10, \"7\": 1, \"4\": 1, \"5\": 9}, \"9\": {\"9\": 239, \"11\": 1}, \"3\": {\"3\": 223, \"2\": 10, \"14\": 4, \"4\": 3}, \"6\": {\"13\": 54, \"6\": 179, \"14\": 5, \"2\": 2}, \"1\": {\"1\": 235, \"5\": 5}, \"5\": {\"5\": 184, \"4\": 32, \"1\": 15, \"2\": 9}, \"12\": {\"12\": 240}, \"10\": {\"10\": 239, \"0\": 1}, \"8\": {\"8\": 240}, \"7\": {\"7\": 240}, \"15\": {\"15\": 240}, \"2\": {\"2\": 141, \"6\": 15, \"14\": 36, \"13\": 9, \"5\": 28, \"3\": 9, \"4\": 1, \"1\": 1}}, \"O_32\": {\"11\": {\"11\": 232, \"14\": 7, \"3\": 1}, \"1\": {\"1\": 239, \"10\": 1}, \"2\": {\"2\": 199, \"4\": 40, \"7\": 1}, \"0\": {\"0\": 195, \"8\": 27, \"7\": 5, \"14\": 10, \"5\": 3}, \"3\": {\"3\": 234, \"13\": 3, \"11\": 1, \"14\": 2}, \"8\": {\"8\": 198, \"0\": 28, \"3\": 2, \"13\": 7, \"5\": 3, \"14\": 2}, \"12\": {\"12\": 240}, \"5\": {\"13\": 14, \"8\": 10, \"7\": 72, \"3\": 5, \"5\": 129, \"0\": 3, \"11\": 1, \"4\": 2, \"14\": 4}, \"15\": {\"15\": 239, \"8\": 1}, \"7\": {\"7\": 141, \"13\": 8, \"5\": 51, \"4\": 22, \"2\": 3, \"14\": 10, \"8\": 2, \"0\": 1, \"11\": 2}, \"4\": {\"4\": 180, \"7\": 11, \"2\": 39, \"13\": 8, \"5\": 2}, \"14\": {\"14\": 169, \"0\": 18, \"11\": 25, \"8\": 6, \"7\": 4, \"3\": 11, \"5\": 3, \"13\": 4}, \"10\": {\"10\": 240}, \"6\": {\"6\": 240}, \"13\": {\"13\": 190, \"3\": 11, \"7\": 7, \"4\": 19, \"5\": 8, \"11\": 3, \"8\": 2}, \"9\": {\"9\": 240}}, \"O_8\": {\"9\": {\"9\": 240}, \"11\": {\"11\": 224, \"1\": 16}, \"8\": {\"8\": 237, \"15\": 1, \"12\": 2}, \"4\": {\"4\": 168, \"13\": 37, \"14\": 16, \"6\": 15, \"10\": 2, \"0\": 2}, \"13\": {\"10\": 20, \"13\": 118, \"4\": 39, \"14\": 8, \"0\": 48, \"6\": 4, \"7\": 3}, \"14\": {\"10\": 32, \"14\": 173, \"1\": 8, \"13\": 5, \"11\": 1, \"4\": 21}, \"2\": {\"12\": 5, \"2\": 223, \"7\": 6, \"3\": 6}, \"3\": {\"3\": 233, \"2\": 2, \"12\": 5}, \"1\": {\"1\": 227, \"14\": 3, \"11\": 7, \"5\": 3}, \"0\": {\"13\": 24, \"0\": 201, \"6\": 7, \"4\": 3, \"7\": 5}, \"5\": {\"5\": 211, \"10\": 11, \"1\": 12, \"14\": 6}, \"15\": {\"15\": 209, \"8\": 6, \"12\": 25}, \"10\": {\"10\": 190, \"14\": 34, \"4\": 5, \"13\": 11}, \"12\": {\"12\": 190, \"15\": 40, \"3\": 10}, \"6\": {\"0\": 2, \"6\": 172, \"4\": 16, \"7\": 44, \"13\": 6}, \"7\": {\"7\": 185, \"13\": 1, \"6\": 49, \"0\": 4, \"12\": 1}}, \"C_5\": {\"26\": {\"26\": 24}, \"7\": {\"45\": 1, \"7\": 29, \"12\": 2}, \"56\": {\"56\": 136, \"35\": 5, \"0\": 1}, \"36\": {\"2\": 1, \"36\": 43, \"57\": 3, \"42\": 2, \"54\": 10, \"28\": 3, \"52\": 4, \"18\": 1, \"16\": 1, \"3\": 3, \"43\": 6, \"23\": 2, \"46\": 2, \"47\": 2, \"14\": 1, \"21\": 2, \"11\": 3, \"25\": 1, \"20\": 2}, \"47\": {\"47\": 57, \"33\": 1, \"39\": 2, \"57\": 10, \"9\": 2, \"27\": 2, \"54\": 7, \"17\": 1, \"19\": 5, \"25\": 1, \"3\": 2, \"46\": 2, \"28\": 1, \"34\": 1, \"29\": 1, \"20\": 2, \"52\": 3}, \"2\": {\"2\": 13, \"14\": 1, \"47\": 3, \"43\": 3, \"11\": 2, \"52\": 2, \"16\": 1, \"42\": 2, \"46\": 1}, \"15\": {\"11\": 15, \"0\": 5, \"15\": 110, \"16\": 4, \"43\": 11, \"2\": 1, \"52\": 2, \"46\": 2, \"23\": 2}, \"14\": {\"27\": 2, \"2\": 1, \"50\": 1, \"3\": 1, \"43\": 2, \"34\": 2, \"55\": 3, \"32\": 1, \"52\": 3, \"14\": 6, \"46\": 7, \"23\": 3, \"20\": 1, \"5\": 1, \"28\": 2, \"33\": 2, \"11\": 1, \"39\": 2, \"0\": 1, \"24\": 1, \"9\": 1}, \"27\": {\"30\": 12, \"27\": 103, \"1\": 7, \"6\": 1, \"48\": 5, \"17\": 5, \"9\": 7, \"53\": 2, \"50\": 1, \"19\": 1, \"20\": 1, \"47\": 1}, \"40\": {\"40\": 91, \"55\": 2, \"5\": 9, \"44\": 12, \"14\": 1, \"29\": 6, \"36\": 1, \"4\": 2}, \"49\": {\"49\": 28, \"15\": 1, \"24\": 3, \"56\": 1, \"0\": 1, \"31\": 1, \"35\": 1}, \"45\": {\"30\": 8, \"45\": 18, \"32\": 3, \"50\": 6, \"7\": 3, \"33\": 2, \"25\": 7, \"17\": 8, \"9\": 7, \"27\": 8, \"1\": 8, \"38\": 1, \"57\": 1, \"8\": 6, \"53\": 8, \"12\": 7, \"51\": 2, \"4\": 3, \"20\": 1, \"55\": 4, \"29\": 1, \"6\": 2, \"28\": 1, \"52\": 1, \"16\": 1, \"47\": 1, \"48\": 4, \"19\": 2}, \"46\": {\"46\": 94, \"47\": 5, \"56\": 3, \"23\": 4, \"18\": 2, \"52\": 7, \"57\": 8, \"15\": 1, \"25\": 2, \"1\": 2, \"49\": 1, \"31\": 1, \"35\": 1, \"3\": 2, \"16\": 1, \"48\": 2}, \"11\": {\"11\": 67, \"23\": 9, \"15\": 9, \"54\": 2, \"18\": 4, \"25\": 1, \"16\": 8, \"46\": 7, \"52\": 10, \"43\": 5, \"47\": 3, \"39\": 1, \"31\": 1, \"57\": 1, \"53\": 1, \"36\": 1}, \"30\": {\"30\": 104, \"17\": 2, \"20\": 1, \"1\": 2, \"48\": 1, \"27\": 1, \"6\": 1}, \"0\": {\"15\": 13, \"0\": 89, \"31\": 3, \"11\": 4, \"14\": 1, \"43\": 5, \"16\": 2, \"3\": 1, \"49\": 1, \"46\": 1, \"23\": 3, \"24\": 1}, \"10\": {\"10\": 56, \"13\": 11, \"22\": 1}, \"1\": {\"1\": 115, \"17\": 5, \"34\": 2, \"8\": 8, \"48\": 7, \"6\": 5, \"30\": 2, \"25\": 2, \"32\": 1, \"23\": 1}, \"42\": {\"42\": 38, \"10\": 1, \"40\": 1}, \"54\": {\"54\": 112}, \"55\": {\"55\": 100, \"27\": 4, \"19\": 10, \"32\": 1, \"45\": 8, \"50\": 11, \"17\": 1, \"9\": 3, \"4\": 3, \"29\": 3, \"33\": 3, \"14\": 1, \"12\": 1, \"21\": 1, \"5\": 2}, \"23\": {\"23\": 104, \"18\": 5, \"47\": 3, \"57\": 3, \"54\": 2, \"52\": 3, \"25\": 1, \"3\": 3}, \"25\": {\"39\": 3, \"12\": 4, \"25\": 73, \"18\": 1, \"34\": 2, \"8\": 9, \"20\": 14, \"23\": 3, \"45\": 2, \"54\": 2, \"1\": 12, \"53\": 5, \"6\": 4, \"9\": 2, \"57\": 9, \"30\": 2, \"27\": 2, \"50\": 1, \"36\": 1, \"48\": 1}, \"28\": {\"54\": 5, \"34\": 3, \"28\": 11, \"18\": 2, \"23\": 1, \"20\": 1, \"53\": 2, \"32\": 1, \"39\": 2, \"27\": 1, \"25\": 1, \"41\": 2}, \"32\": {\"32\": 20, \"53\": 1, \"17\": 4, \"1\": 4, \"7\": 1, \"48\": 2}, \"9\": {\"32\": 3, \"9\": 43, \"27\": 34, \"30\": 6, \"45\": 2, \"33\": 2, \"17\": 15, \"55\": 3, \"48\": 8, \"6\": 3, \"54\": 1, \"51\": 2, \"25\": 1, \"1\": 6, \"50\": 4, \"20\": 5, \"34\": 1, \"47\": 1, \"29\": 1, \"19\": 1}, \"39\": {\"39\": 18, \"47\": 1, \"57\": 1}, \"3\": {\"54\": 10, \"39\": 1, \"3\": 25, \"47\": 8, \"2\": 1, \"57\": 9, \"52\": 11, \"29\": 1, \"44\": 2, \"11\": 1, \"46\": 9, \"53\": 1, \"23\": 7, \"36\": 3, \"0\": 3, \"10\": 1, \"42\": 3, \"24\": 1, \"56\": 1, \"20\": 1, \"13\": 1}, \"29\": {\"29\": 46, \"28\": 1, \"36\": 2, \"26\": 1, \"33\": 3, \"27\": 8, \"5\": 6, \"17\": 1, \"50\": 2, \"40\": 1, \"25\": 2, \"9\": 15, \"21\": 3, \"19\": 13, \"57\": 2, \"55\": 1, \"44\": 3, \"4\": 1, \"45\": 3, \"47\": 1, \"51\": 2, \"46\": 1}, \"17\": {\"1\": 5, \"17\": 96, \"48\": 9, \"30\": 5, \"32\": 1}, \"35\": {\"49\": 2, \"35\": 33, \"56\": 1}, \"44\": {\"33\": 2, \"44\": 93, \"50\": 3, \"45\": 2, \"29\": 13, \"7\": 1, \"36\": 3, \"27\": 1, \"22\": 2, \"40\": 6, \"3\": 2, \"52\": 4, \"55\": 2, \"13\": 1, \"46\": 3, \"5\": 6, \"21\": 1, \"25\": 1, \"4\": 1, \"47\": 1, \"11\": 1, \"19\": 3}, \"5\": {\"44\": 6, \"45\": 5, \"55\": 2, \"5\": 77, \"40\": 9, \"19\": 10, \"33\": 1, \"4\": 4, \"14\": 1, \"29\": 9, \"50\": 3, \"20\": 1}, \"33\": {\"33\": 19, \"4\": 1, \"17\": 1, \"45\": 3, \"27\": 1, \"32\": 1, \"6\": 1, \"29\": 1, \"19\": 3, \"12\": 1}, \"34\": {\"13\": 1, \"47\": 1, \"34\": 30, \"57\": 3, \"3\": 1}, \"13\": {\"13\": 126, \"10\": 10, \"44\": 1, \"40\": 1}, \"41\": {\"42\": 1, \"41\": 24, \"18\": 2, \"57\": 1}, \"6\": {\"6\": 43, \"51\": 3, \"34\": 1, \"1\": 17, \"8\": 7, \"25\": 3, \"17\": 13, \"20\": 9, \"48\": 14, \"4\": 1, \"30\": 3, \"19\": 1, \"26\": 2, \"32\": 1, \"27\": 2, \"9\": 1, \"47\": 1, \"18\": 2, \"12\": 2, \"50\": 1, \"55\": 1}, \"51\": {\"51\": 125, \"53\": 4, \"21\": 3, \"48\": 1, \"50\": 1, \"20\": 1, \"17\": 2, \"27\": 1}, \"50\": {\"6\": 5, \"47\": 2, \"9\": 11, \"8\": 8, \"39\": 1, \"12\": 4, \"41\": 1, \"50\": 25, \"7\": 1, \"1\": 8, \"20\": 3, \"14\": 1, \"34\": 1, \"19\": 6, \"27\": 8, \"53\": 3, \"55\": 14, \"57\": 3, \"4\": 2, \"17\": 3, \"25\": 10, \"5\": 1, \"30\": 3, \"45\": 4, \"29\": 1, \"51\": 7, \"42\": 1, \"32\": 1, \"3\": 1, \"48\": 2, \"21\": 3}, \"37\": {\"37\": 23, \"21\": 1}, \"19\": {\"27\": 16, \"19\": 99, \"7\": 1, \"20\": 2, \"54\": 1, \"45\": 6, \"50\": 3, \"6\": 1, \"9\": 7, \"29\": 1, \"4\": 1, \"48\": 1, \"33\": 1, \"34\": 1, \"5\": 1, \"55\": 1, \"51\": 1}, \"57\": {\"57\": 117, \"23\": 9, \"54\": 2, \"47\": 2, \"46\": 2}, \"21\": {\"21\": 130, \"53\": 4, \"51\": 9, \"16\": 1}, \"24\": {\"23\": 2, \"24\": 65, \"0\": 7, \"31\": 3, \"15\": 2, \"43\": 1}, \"8\": {\"8\": 127, \"20\": 1, \"1\": 2}, \"12\": {\"50\": 2, \"26\": 2, \"7\": 6, \"12\": 37, \"51\": 15, \"38\": 2, \"53\": 9, \"17\": 5, \"45\": 3, \"27\": 3, \"9\": 4, \"21\": 3, \"30\": 2, \"32\": 1, \"6\": 1, \"19\": 1}, \"48\": {\"48\": 103, \"27\": 1, \"51\": 1, \"1\": 13, \"17\": 7, \"6\": 2, \"53\": 4, \"20\": 1}, \"43\": {\"43\": 52, \"47\": 3, \"52\": 11, \"16\": 21, \"11\": 7, \"34\": 1, \"0\": 1, \"54\": 15, \"23\": 8, \"46\": 10, \"15\": 11, \"20\": 1, \"36\": 3, \"25\": 3, \"57\": 2, \"3\": 1}, \"53\": {\"53\": 137, \"20\": 5, \"51\": 2, \"27\": 4}, \"38\": {\"38\": 32}, \"16\": {\"16\": 132, \"46\": 5, \"47\": 1, \"54\": 3, \"57\": 1}, \"22\": {\"22\": 22, \"56\": 2, \"49\": 1, \"36\": 1, \"2\": 1, \"35\": 1}, \"4\": {\"4\": 46, \"33\": 3, \"5\": 3, \"27\": 2, \"45\": 6, \"40\": 2, \"12\": 3, \"9\": 11, \"19\": 14, \"29\": 4, \"55\": 2, \"50\": 2, \"47\": 2}, \"18\": {\"18\": 63, \"23\": 1}, \"20\": {\"20\": 129, \"8\": 5, \"25\": 3, \"54\": 1, \"53\": 4, \"48\": 1, \"30\": 1}, \"52\": {\"52\": 114, \"3\": 4, \"23\": 9, \"54\": 4, \"46\": 8, \"57\": 1}, \"31\": {\"31\": 33, \"28\": 1, \"52\": 1, \"34\": 1}}, \"C_1\": {\"41\": {\"41\": 20, \"17\": 1, \"51\": 1, \"53\": 2}, \"40\": {\"40\": 73, \"4\": 8, \"44\": 1, \"3\": 6, \"29\": 10, \"57\": 3, \"46\": 5, \"50\": 1, \"1\": 2, \"19\": 1}, \"45\": {\"42\": 7, \"45\": 91, \"25\": 18, \"57\": 1, \"14\": 1, \"5\": 3, \"18\": 1, \"9\": 4, \"54\": 3, \"19\": 3, \"8\": 1, \"51\": 2, \"33\": 2, \"1\": 1}, \"51\": {\"53\": 15, \"51\": 111, \"45\": 2, \"57\": 1, \"50\": 1, \"19\": 1, \"9\": 2, \"17\": 2, \"6\": 4, \"16\": 6, \"12\": 1, \"5\": 2}, \"5\": {\"5\": 139, \"9\": 5, \"17\": 2, \"48\": 5, \"8\": 1, \"6\": 2}, \"30\": {\"30\": 111, \"9\": 6, \"25\": 1, \"26\": 1, \"8\": 1}, \"42\": {\"45\": 6, \"42\": 26, \"25\": 5, \"54\": 3}, \"46\": {\"48\": 10, \"41\": 1, \"46\": 47, \"17\": 3, \"57\": 7, \"56\": 3, \"14\": 2, \"6\": 7, \"50\": 13, \"4\": 9, \"13\": 4, \"8\": 6, \"51\": 3, \"25\": 2, \"5\": 7, \"20\": 2, \"44\": 1, \"19\": 2, \"53\": 3, \"42\": 1, \"1\": 1, \"29\": 2}, \"48\": {\"48\": 115, \"6\": 8, \"2\": 1, \"50\": 8, \"5\": 2}, \"53\": {\"53\": 142, \"14\": 1, \"19\": 1}, \"47\": {\"47\": 137, \"39\": 1, \"23\": 1, \"31\": 2, \"11\": 1, \"0\": 1, \"44\": 3, \"52\": 2, \"42\": 1, \"21\": 1, \"15\": 1, \"16\": 1}, \"49\": {\"49\": 20, \"52\": 2, \"38\": 1, \"32\": 1, \"21\": 2, \"39\": 1, \"10\": 1, \"11\": 1, \"22\": 3}, \"36\": {\"36\": 60, \"54\": 3, \"18\": 1}, \"32\": {\"42\": 7, \"32\": 17, \"54\": 2, \"45\": 1, \"33\": 1, \"34\": 1, \"9\": 1, \"37\": 2}, \"34\": {\"34\": 24}, \"29\": {\"42\": 1, \"29\": 72, \"1\": 7, \"56\": 10, \"57\": 12, \"19\": 1, \"4\": 10, \"40\": 7, \"44\": 10, \"25\": 1, \"6\": 1, \"46\": 3, \"32\": 1, \"50\": 1, \"2\": 1, \"3\": 2}, \"35\": {\"35\": 30, \"32\": 1, \"1\": 1, \"44\": 2, \"37\": 1, \"51\": 1}, \"3\": {\"3\": 118, \"19\": 1, \"29\": 6, \"47\": 4, \"4\": 1, \"56\": 1, \"10\": 1, \"45\": 1, \"44\": 1}, \"16\": {\"26\": 2, \"16\": 129, \"18\": 1, \"54\": 5, \"33\": 1, \"45\": 2}, \"26\": {\"26\": 21, \"9\": 1, \"33\": 1, \"37\": 1}, \"57\": {\"57\": 54, \"26\": 2, \"19\": 14, \"45\": 8, \"1\": 9, \"42\": 2, \"17\": 3, \"54\": 11, \"53\": 16, \"5\": 4, \"56\": 6, \"30\": 2, \"6\": 4, \"46\": 2, \"8\": 1, \"16\": 1, \"4\": 2, \"25\": 2, \"9\": 1}, \"44\": {\"44\": 64, \"3\": 4, \"54\": 8, \"51\": 3, \"46\": 1, \"32\": 1, \"29\": 6, \"56\": 9, \"1\": 4, \"36\": 1, \"23\": 1, \"4\": 1, \"0\": 1, \"13\": 2, \"45\": 4, \"47\": 5, \"35\": 4, \"37\": 1, \"19\": 3, \"57\": 2, \"25\": 2, \"16\": 1}, \"0\": {\"0\": 113, \"54\": 4, \"23\": 23, \"16\": 4, \"36\": 2, \"25\": 1, \"9\": 2, \"45\": 1, \"15\": 1, \"30\": 1}, \"4\": {\"4\": 72, \"57\": 9, \"46\": 12, \"1\": 6, \"56\": 16, \"29\": 3, \"8\": 1, \"50\": 4, \"13\": 2, \"6\": 1, \"19\": 5, \"40\": 1}, \"31\": {\"31\": 22, \"38\": 1, \"52\": 1, \"10\": 2, \"11\": 1, \"49\": 1}, \"11\": {\"0\": 3, \"11\": 98, \"21\": 4, \"23\": 2, \"22\": 17, \"15\": 9, \"10\": 4, \"24\": 2, \"16\": 1}, \"6\": {\"48\": 9, \"8\": 14, \"6\": 51, \"5\": 8, \"17\": 2, \"18\": 1, \"9\": 2, \"57\": 1, \"50\": 2, \"25\": 2, \"2\": 1, \"41\": 1, \"53\": 2}, \"54\": {\"54\": 100, \"30\": 2, \"45\": 2}, \"17\": {\"17\": 60, \"2\": 2, \"5\": 2}, \"20\": {\"41\": 4, \"20\": 97, \"51\": 4, \"19\": 3, \"12\": 9, \"16\": 1, \"53\": 5, \"13\": 4, \"6\": 1}, \"13\": {\"13\": 118, \"46\": 4, \"20\": 15, \"12\": 3, \"6\": 1, \"50\": 1, \"4\": 3, \"57\": 3, \"7\": 1, \"41\": 1}, \"33\": {\"33\": 31, \"34\": 1}, \"24\": {\"11\": 6, \"24\": 65, \"52\": 14, \"22\": 12, \"10\": 7, \"44\": 1, \"27\": 1, \"49\": 1, \"23\": 1}, \"52\": {\"52\": 99, \"24\": 14, \"39\": 1, \"49\": 3, \"22\": 4, \"11\": 5, \"10\": 3, \"15\": 2, \"21\": 1}, \"2\": {\"2\": 34, \"48\": 2}, \"19\": {\"19\": 89, \"53\": 8, \"1\": 3, \"26\": 1, \"51\": 1, \"45\": 9, \"9\": 3, \"14\": 4, \"5\": 7, \"18\": 1, \"54\": 8, \"17\": 4, \"56\": 3, \"57\": 6, \"16\": 3, \"25\": 4, \"42\": 1, \"37\": 1}, \"39\": {\"39\": 28}, \"8\": {\"8\": 129, \"30\": 5, \"9\": 4, \"14\": 1, \"53\": 1}, \"21\": {\"21\": 107, \"23\": 3, \"0\": 2, \"15\": 10, \"34\": 1, \"42\": 1}, \"10\": {\"10\": 79, \"38\": 2, \"24\": 10, \"22\": 3, \"52\": 1, \"11\": 1}, \"37\": {\"37\": 32}, \"25\": {\"25\": 99, \"9\": 13, \"45\": 4, \"18\": 3, \"30\": 4, \"5\": 8, \"54\": 2, \"8\": 2, \"53\": 2, \"16\": 2, \"26\": 2, \"37\": 1, \"42\": 1, \"33\": 1}, \"27\": {\"27\": 126, \"10\": 1, \"24\": 1, \"52\": 1, \"43\": 1}, \"23\": {\"23\": 81, \"16\": 14, \"0\": 14, \"36\": 4, \"26\": 1, \"15\": 4, \"18\": 5, \"21\": 3, \"54\": 2, \"30\": 1, \"9\": 1, \"25\": 5, \"37\": 1}, \"1\": {\"42\": 2, \"1\": 36, \"57\": 7, \"5\": 4, \"19\": 10, \"55\": 2, \"53\": 4, \"56\": 12, \"25\": 2, \"30\": 2, \"9\": 5, \"45\": 5, \"41\": 1, \"17\": 6, \"54\": 1, \"6\": 1}, \"50\": {\"50\": 139, \"48\": 10, \"2\": 2, \"6\": 1}, \"12\": {\"51\": 8, \"12\": 69, \"36\": 2, \"41\": 2, \"53\": 13, \"20\": 11, \"2\": 1, \"50\": 2, \"13\": 1, \"5\": 1, \"6\": 5, \"16\": 1}, \"18\": {\"18\": 72}, \"38\": {\"49\": 1, \"38\": 18, \"22\": 3, \"24\": 1, \"35\": 1}, \"14\": {\"14\": 12, \"30\": 2, \"18\": 4, \"19\": 1, \"8\": 1, \"34\": 1, \"9\": 2, \"25\": 1}, \"56\": {\"1\": 18, \"57\": 22, \"42\": 1, \"56\": 52, \"46\": 1, \"4\": 1, \"19\": 18, \"45\": 8, \"17\": 4, \"54\": 3, \"29\": 1, \"13\": 1, \"16\": 1, \"9\": 2, \"53\": 2, \"5\": 4, \"51\": 2, \"3\": 1}, \"55\": {\"55\": 115, \"54\": 4, \"45\": 8, \"33\": 1, \"12\": 4, \"7\": 1, \"53\": 6, \"19\": 2, \"25\": 3, \"8\": 5, \"51\": 1, \"16\": 1, \"9\": 1, \"48\": 2, \"5\": 1, \"34\": 1, \"42\": 1, \"1\": 1, \"30\": 1, \"6\": 1}, \"9\": {\"9\": 125, \"14\": 1, \"30\": 3, \"5\": 5, \"8\": 3, \"25\": 1}, \"15\": {\"15\": 106, \"21\": 19, \"0\": 9, \"23\": 4, \"9\": 3, \"32\": 1, \"42\": 1, \"36\": 1, \"18\": 1, \"22\": 1}, \"28\": {\"28\": 28}, \"7\": {\"7\": 20, \"14\": 1, \"5\": 1, \"53\": 1, \"18\": 2, \"26\": 1, \"8\": 1, \"33\": 1}, \"43\": {\"43\": 135, \"22\": 1}, \"22\": {\"22\": 78, \"10\": 4, \"11\": 20, \"28\": 1, \"24\": 7, \"52\": 10, \"21\": 2, \"38\": 2, \"15\": 9, \"23\": 1, \"0\": 2}}, \"C_3\": {\"1\": {\"48\": 10, \"57\": 9, \"9\": 4, \"23\": 1, \"47\": 7, \"1\": 38, \"46\": 5, \"4\": 1, \"17\": 4, \"11\": 3, \"0\": 4, \"54\": 1, \"28\": 1, \"5\": 5, \"6\": 1, \"3\": 2, \"27\": 2, \"52\": 1, \"25\": 1}, \"9\": {\"9\": 41, \"50\": 1, \"54\": 6, \"1\": 4, \"4\": 7, \"35\": 1, \"32\": 4, \"21\": 2, \"12\": 1, \"29\": 8, \"27\": 20, \"57\": 10, \"17\": 10, \"46\": 2, \"3\": 1, \"6\": 1, \"45\": 1, \"20\": 2, \"48\": 1, \"19\": 1}, \"22\": {\"49\": 2, \"10\": 2, \"22\": 89, \"55\": 5, \"56\": 10, \"24\": 7, \"5\": 2, \"43\": 10, \"13\": 3, \"14\": 3, \"7\": 2, \"31\": 1}, \"43\": {\"43\": 133, \"7\": 1, \"15\": 1, \"16\": 1}, \"49\": {\"49\": 17, \"23\": 2, \"43\": 1}, \"50\": {\"50\": 33, \"25\": 8, \"53\": 8, \"36\": 3, \"54\": 11, \"6\": 4, \"46\": 4, \"2\": 2, \"8\": 9, \"51\": 3, \"57\": 4, \"17\": 5, \"48\": 2, \"20\": 19, \"52\": 2, \"21\": 1, \"27\": 8, \"9\": 1, \"32\": 1, \"41\": 1, \"42\": 1, \"47\": 3, \"4\": 3, \"3\": 2}, \"53\": {\"53\": 99, \"51\": 12, \"20\": 7, \"18\": 2, \"54\": 2, \"27\": 2, \"46\": 2, \"8\": 8, \"50\": 1, \"3\": 1}, \"10\": {\"10\": 63, \"24\": 1}, \"48\": {\"48\": 100, \"55\": 1, \"41\": 2, \"34\": 2, \"54\": 3, \"52\": 1, \"3\": 1, \"30\": 1, \"27\": 1, \"46\": 3, \"6\": 1}, \"8\": {\"8\": 122, \"17\": 2, \"36\": 10, \"20\": 1, \"50\": 2, \"45\": 1}, \"31\": {\"31\": 27, \"1\": 1}, \"56\": {\"56\": 129, \"22\": 2, \"13\": 2, \"10\": 1}, \"25\": {\"50\": 6, \"28\": 1, \"25\": 60, \"37\": 1, \"27\": 6, \"33\": 2, \"41\": 1, \"8\": 12, \"2\": 2, \"47\": 4, \"18\": 3, \"36\": 3, \"20\": 5, \"6\": 2, \"3\": 8, \"17\": 1, \"30\": 9, \"53\": 1, \"46\": 1, \"19\": 2, \"39\": 1, \"21\": 1, \"48\": 3, \"51\": 1, \"5\": 1, \"54\": 4, \"9\": 1}, \"28\": {\"9\": 2, \"5\": 2, \"28\": 8, \"39\": 1, \"31\": 1, \"41\": 2, \"36\": 1, \"16\": 1, \"24\": 1, \"8\": 1, \"3\": 1, \"25\": 1, \"20\": 1, \"29\": 1, \"53\": 1, \"23\": 1, \"57\": 1, \"1\": 1}, \"38\": {\"38\": 28}, \"5\": {\"5\": 63, \"46\": 3, \"28\": 1, \"53\": 1, \"47\": 8, \"18\": 1, \"26\": 1, \"52\": 5, \"34\": 4, \"57\": 6, \"23\": 4, \"25\": 5, \"3\": 4, \"41\": 1, \"2\": 1, \"39\": 2, \"1\": 3, \"0\": 1, \"48\": 1, \"15\": 1}, \"12\": {\"12\": 73, \"32\": 1, \"17\": 4, \"27\": 6, \"50\": 3, \"38\": 3, \"2\": 1, \"6\": 1}, \"6\": {\"6\": 24, \"25\": 4, \"4\": 3, \"3\": 3, \"48\": 12, \"30\": 1, \"28\": 1, \"18\": 4, \"54\": 5, \"0\": 1, \"2\": 2, \"53\": 2, \"51\": 2, \"47\": 1, \"17\": 8, \"46\": 1, \"57\": 2, \"29\": 1, \"27\": 2, \"15\": 1, \"5\": 1, \"31\": 1, \"34\": 1, \"8\": 1, \"21\": 2, \"52\": 1, \"19\": 1}, \"19\": {\"19\": 91, \"35\": 5, \"29\": 18, \"47\": 2, \"4\": 8, \"45\": 7, \"44\": 1, \"40\": 4, \"3\": 6, \"9\": 4, \"57\": 2, \"50\": 1, \"28\": 1, \"51\": 1, \"55\": 1}, \"26\": {\"26\": 21, \"34\": 1, \"39\": 1, \"5\": 1}, \"32\": {\"32\": 25, \"27\": 1, \"17\": 2}, \"33\": {\"6\": 2, \"25\": 1, \"39\": 3, \"33\": 15, \"3\": 1, \"41\": 3, \"46\": 1, \"34\": 1, \"54\": 1}, \"3\": {\"3\": 26, \"6\": 1, \"34\": 4, \"48\": 2, \"36\": 2, \"46\": 6, \"51\": 5, \"1\": 2, \"21\": 1, \"27\": 7, \"47\": 7, \"53\": 3, \"54\": 3, \"50\": 2, \"30\": 8, \"17\": 1, \"25\": 10, \"18\": 1, \"57\": 6, \"20\": 4, \"0\": 2, \"4\": 3, \"9\": 6, \"32\": 1, \"26\": 1, \"52\": 2, \"8\": 1, \"23\": 1}, \"51\": {\"51\": 100, \"21\": 7, \"20\": 4, \"53\": 14, \"3\": 1, \"52\": 2}, \"16\": {\"16\": 118, \"52\": 6, \"18\": 4, \"3\": 1, \"6\": 1, \"23\": 5, \"41\": 1, \"11\": 1, \"5\": 1}, \"46\": {\"16\": 4, \"3\": 8, \"54\": 12, \"46\": 45, \"18\": 2, \"6\": 2, \"48\": 6, \"53\": 8, \"20\": 11, \"21\": 3, \"34\": 1, \"50\": 1, \"52\": 7, \"57\": 3, \"0\": 1, \"25\": 7, \"30\": 2, \"5\": 1, \"27\": 2, \"41\": 2, \"17\": 2, \"11\": 1, \"31\": 1, \"1\": 3, \"9\": 1, \"51\": 1, \"44\": 1, \"47\": 2}, \"7\": {\"7\": 28, \"39\": 1, \"41\": 1, \"43\": 1, \"52\": 1, \"42\": 1, \"11\": 1, \"15\": 1, \"0\": 1}, \"47\": {\"39\": 2, \"23\": 3, \"47\": 41, \"33\": 1, \"35\": 1, \"18\": 2, \"5\": 5, \"0\": 11, \"27\": 1, \"30\": 4, \"4\": 4, \"34\": 1, \"6\": 1, \"57\": 5, \"48\": 3, \"53\": 1, \"46\": 1, \"55\": 1, \"51\": 1, \"29\": 2, \"1\": 1}, \"39\": {\"39\": 14, \"0\": 2}, \"40\": {\"40\": 107, \"29\": 5, \"45\": 4, \"31\": 1, \"55\": 4, \"44\": 5, \"19\": 8, \"9\": 1, \"4\": 1}, \"14\": {\"19\": 5, \"43\": 2, \"53\": 1, \"28\": 1, \"49\": 1, \"14\": 10, \"56\": 4, \"44\": 7, \"31\": 1, \"55\": 2, \"22\": 3, \"10\": 2, \"24\": 1}, \"37\": {\"39\": 1, \"2\": 1, \"37\": 23, \"5\": 1, \"25\": 1, \"54\": 1}, \"2\": {\"2\": 25, \"54\": 1, \"30\": 1, \"8\": 2, \"12\": 3}, \"21\": {\"21\": 51, \"51\": 22, \"38\": 3, \"53\": 17, \"25\": 1, \"52\": 7, \"4\": 1, \"17\": 1, \"54\": 3, \"20\": 5, \"9\": 1, \"35\": 1, \"46\": 3, \"48\": 1, \"8\": 1, \"27\": 1, \"29\": 1}, \"35\": {\"54\": 3, \"35\": 12, \"32\": 2, \"28\": 1, \"1\": 1, \"57\": 3, \"19\": 1, \"30\": 1, \"3\": 1, \"29\": 1, \"4\": 2}, \"54\": {\"54\": 99, \"50\": 1}, \"52\": {\"52\": 111, \"34\": 1, \"18\": 3, \"48\": 1}, \"29\": {\"29\": 39, \"17\": 5, \"54\": 3, \"27\": 11, \"34\": 1, \"45\": 2, \"4\": 11, \"44\": 2, \"19\": 11, \"21\": 1, \"57\": 5, \"40\": 1, \"9\": 15, \"20\": 2, \"32\": 1, \"55\": 1, \"35\": 1, \"46\": 1, \"3\": 1, \"47\": 2, \"1\": 1, \"50\": 1}, \"20\": {\"20\": 122, \"54\": 5, \"50\": 2, \"3\": 1, \"48\": 1, \"18\": 1}, \"18\": {\"18\": 80, \"30\": 3, \"23\": 1}, \"11\": {\"52\": 16, \"11\": 73, \"41\": 3, \"18\": 2, \"5\": 1, \"46\": 2, \"15\": 19, \"48\": 3, \"47\": 1, \"16\": 21, \"23\": 1}, \"0\": {\"0\": 110, \"23\": 7, \"33\": 1, \"46\": 1, \"34\": 2, \"47\": 3}, \"36\": {\"36\": 97, \"27\": 1, \"8\": 2}, \"17\": {\"17\": 108}, \"30\": {\"30\": 112, \"18\": 1, \"48\": 1}, \"42\": {\"42\": 9, \"16\": 1, \"39\": 3, \"33\": 3, \"41\": 1, \"0\": 2, \"26\": 3, \"30\": 2, \"5\": 1, \"6\": 1, \"46\": 2}, \"45\": {\"4\": 4, \"45\": 37, \"51\": 2, \"19\": 3, \"36\": 1, \"35\": 2, \"44\": 1, \"50\": 1, \"29\": 2, \"46\": 2, \"9\": 1, \"57\": 1, \"27\": 1, \"8\": 1, \"55\": 1}, \"4\": {\"54\": 2, \"12\": 3, \"21\": 1, \"4\": 63, \"19\": 4, \"53\": 8, \"9\": 9, \"32\": 2, \"3\": 4, \"27\": 20, \"55\": 2, \"50\": 5, \"17\": 2, \"8\": 1, \"57\": 6, \"20\": 1, \"51\": 3, \"29\": 5, \"1\": 3, \"45\": 1, \"44\": 1, \"40\": 1, \"25\": 1}, \"23\": {\"23\": 132, \"46\": 1, \"50\": 1}, \"13\": {\"13\": 127, \"55\": 1}, \"15\": {\"15\": 105, \"23\": 1, \"16\": 12, \"11\": 2, \"47\": 1, \"18\": 3, \"52\": 2, \"37\": 1, \"5\": 1}, \"57\": {\"57\": 81, \"5\": 2, \"47\": 7, \"20\": 3, \"54\": 1, \"29\": 1, \"0\": 7, \"9\": 5, \"48\": 2, \"27\": 2, \"46\": 1, \"50\": 3, \"3\": 2, \"4\": 1, \"34\": 1, \"1\": 4, \"25\": 1}, \"27\": {\"54\": 6, \"9\": 1, \"27\": 106, \"32\": 3, \"30\": 2, \"52\": 1, \"3\": 3, \"17\": 2, \"18\": 1, \"20\": 5, \"48\": 1, \"8\": 1, \"50\": 2}, \"44\": {\"14\": 1, \"44\": 50, \"45\": 4, \"4\": 8, \"40\": 8, \"19\": 7, \"21\": 1, \"1\": 1, \"29\": 4, \"5\": 1, \"55\": 2, \"46\": 1}, \"34\": {\"34\": 32}, \"41\": {\"41\": 24, \"18\": 1, \"50\": 1, \"3\": 1, \"5\": 1}, \"24\": {\"24\": 100, \"10\": 2, \"49\": 2}, \"55\": {\"55\": 107, \"44\": 3, \"13\": 5, \"46\": 1, \"14\": 1, \"19\": 1}}, \"C_4\": {\"52\": {\"52\": 109, \"18\": 2, \"47\": 2, \"23\": 2, \"54\": 1}, \"6\": {\"25\": 8, \"6\": 13, \"54\": 13, \"17\": 1, \"50\": 3, \"26\": 2, \"1\": 1, \"34\": 2, \"36\": 10, \"42\": 1, \"21\": 5, \"35\": 2, \"8\": 5, \"5\": 3, \"27\": 3, \"57\": 2, \"48\": 12, \"9\": 3, \"47\": 2, \"4\": 5, \"29\": 2, \"20\": 2, \"3\": 3, \"39\": 2, \"51\": 2, \"28\": 1, \"46\": 1, \"53\": 2, \"30\": 1}, \"14\": {\"14\": 5, \"45\": 2, \"31\": 1, \"24\": 1, \"19\": 2, \"22\": 3, \"10\": 1, \"55\": 1}, \"49\": {\"49\": 16, \"1\": 1, \"18\": 1, \"54\": 1, \"5\": 1}, \"0\": {\"52\": 2, \"2\": 2, \"0\": 60, \"23\": 1, \"11\": 6, \"6\": 1, \"43\": 7, \"15\": 1}, \"46\": {\"6\": 6, \"32\": 5, \"46\": 43, \"39\": 1, \"23\": 15, \"15\": 3, \"54\": 10, \"5\": 6, \"2\": 1, \"52\": 19, \"18\": 3, \"10\": 3, \"0\": 1, \"47\": 16, \"3\": 1, \"48\": 4, \"22\": 5, \"4\": 1, \"36\": 1, \"16\": 1, \"56\": 6, \"49\": 1, \"57\": 1, \"43\": 2, \"51\": 1}, \"41\": {\"41\": 36}, \"24\": {\"24\": 38, \"43\": 14, \"11\": 1, \"0\": 1, \"10\": 1, \"22\": 1}, \"25\": {\"25\": 60, \"6\": 3, \"53\": 6, \"4\": 2, \"20\": 14, \"8\": 13, \"3\": 19, \"42\": 2, \"36\": 6, \"18\": 5, \"50\": 2, \"51\": 1, \"23\": 3, \"54\": 8, \"48\": 4, \"52\": 1, \"5\": 1, \"47\": 1, \"12\": 1}, \"40\": {\"40\": 93, \"44\": 8, \"55\": 14, \"33\": 2, \"9\": 1, \"6\": 1, \"45\": 3, \"29\": 2, \"19\": 13, \"50\": 1}, \"38\": {\"10\": 1, \"38\": 35, \"22\": 1, \"13\": 2, \"2\": 1}, \"13\": {\"13\": 151, \"10\": 1}, \"9\": {\"6\": 2, \"9\": 26, \"29\": 11, \"4\": 18, \"17\": 17, \"50\": 5, \"12\": 1, \"48\": 2, \"27\": 10, \"21\": 2, \"19\": 2, \"53\": 2, \"35\": 1, \"28\": 1, \"20\": 5, \"57\": 2, \"3\": 1}, \"45\": {\"45\": 42, \"6\": 2, \"50\": 7, \"26\": 1, \"28\": 1, \"9\": 8, \"25\": 2, \"57\": 1, \"3\": 1, \"55\": 1, \"36\": 1, \"19\": 8, \"40\": 1, \"44\": 2, \"29\": 7, \"35\": 5, \"4\": 4, \"27\": 1, \"21\": 1}, \"43\": {\"43\": 138, \"0\": 5, \"24\": 1}, \"10\": {\"10\": 129, \"22\": 1}, \"15\": {\"15\": 104, \"16\": 13, \"46\": 2, \"52\": 4, \"23\": 2, \"18\": 2, \"43\": 1}, \"39\": {\"39\": 19, \"47\": 1}, \"4\": {\"4\": 80, \"53\": 8, \"17\": 5, \"26\": 1, \"21\": 9, \"20\": 6, \"54\": 3, \"19\": 1, \"50\": 2, \"25\": 2, \"9\": 1, \"27\": 9, \"8\": 3, \"29\": 1, \"48\": 1}, \"53\": {\"53\": 80, \"20\": 9, \"3\": 3, \"54\": 4, \"5\": 1, \"21\": 14, \"25\": 1, \"51\": 12, \"36\": 1, \"6\": 1, \"4\": 4, \"17\": 1, \"55\": 1}, \"1\": {\"1\": 11, \"32\": 3, \"41\": 3, \"34\": 3, \"47\": 2, \"48\": 1, \"54\": 5, \"5\": 2, \"57\": 3, \"42\": 2, \"55\": 1, \"11\": 1, \"16\": 2, \"39\": 1}, \"28\": {\"42\": 2, \"28\": 11, \"9\": 2, \"6\": 1, \"30\": 1, \"48\": 1, \"3\": 3, \"8\": 2, \"26\": 1, \"54\": 3, \"27\": 2, \"57\": 1, \"20\": 2}, \"54\": {\"54\": 108}, \"21\": {\"21\": 127, \"8\": 1, \"20\": 2, \"53\": 2}, \"7\": {\"7\": 16, \"29\": 1, \"46\": 1, \"35\": 1, \"30\": 1, \"47\": 1, \"42\": 1, \"57\": 1, \"1\": 1}, \"8\": {\"8\": 133, \"36\": 2, \"20\": 1}, \"42\": {\"42\": 32}, \"11\": {\"11\": 48, \"1\": 2, \"16\": 8, \"15\": 15, \"46\": 2, \"56\": 1, \"52\": 10, \"5\": 5, \"22\": 2, \"23\": 1, \"0\": 3, \"47\": 1, \"43\": 2, \"18\": 1, \"3\": 1, \"48\": 1, \"20\": 1}, \"33\": {\"33\": 24, \"45\": 4, \"29\": 1, \"19\": 3, \"35\": 2, \"28\": 2}, \"27\": {\"27\": 113, \"17\": 3, \"40\": 1, \"54\": 2, \"8\": 13, \"50\": 1, \"12\": 1, \"36\": 5, \"48\": 1, \"20\": 2}, \"19\": {\"9\": 7, \"19\": 85, \"45\": 10, \"33\": 6, \"35\": 5, \"28\": 1, \"29\": 10, \"46\": 1, \"6\": 1, \"44\": 4, \"36\": 1, \"4\": 3, \"55\": 1, \"50\": 2, \"37\": 1, \"26\": 1, \"14\": 1, \"42\": 1, \"47\": 2, \"27\": 1}, \"2\": {\"2\": 25, \"38\": 1, \"11\": 1, \"22\": 1, \"10\": 6, \"24\": 2}, \"3\": {\"3\": 35, \"30\": 1, \"34\": 2, \"47\": 4, \"54\": 10, \"36\": 8, \"5\": 2, \"42\": 4, \"50\": 1, \"12\": 4, \"23\": 4, \"25\": 6, \"48\": 10, \"8\": 12, \"6\": 1, \"21\": 2, \"27\": 1, \"20\": 9, \"53\": 1, \"35\": 1, \"9\": 1, \"4\": 1}, \"57\": {\"57\": 67, \"54\": 7, \"32\": 1, \"20\": 3, \"5\": 3, \"47\": 8, \"12\": 1, \"48\": 2, \"4\": 1, \"39\": 2, \"1\": 2, \"3\": 1, \"28\": 1, \"18\": 1}, \"20\": {\"20\": 99, \"8\": 3, \"48\": 1, \"21\": 2, \"55\": 1, \"30\": 2, \"3\": 4}, \"23\": {\"23\": 114, \"18\": 9, \"52\": 2, \"5\": 1, \"47\": 2}, \"22\": {\"22\": 95, \"38\": 2, \"11\": 4, \"24\": 5, \"43\": 5, \"10\": 9, \"0\": 3, \"56\": 2, \"41\": 1, \"13\": 1, \"46\": 1}, \"29\": {\"57\": 17, \"2\": 1, \"54\": 6, \"33\": 2, \"48\": 4, \"29\": 39, \"20\": 5, \"35\": 2, \"17\": 3, \"42\": 2, \"19\": 2, \"9\": 7, \"36\": 3, \"6\": 2, \"4\": 9, \"5\": 3, \"3\": 4, \"27\": 4, \"47\": 1, \"55\": 2, \"28\": 1, \"30\": 1, \"53\": 3, \"39\": 1}, \"36\": {\"36\": 81, \"3\": 2, \"50\": 1, \"8\": 2, \"18\": 1, \"45\": 1, \"34\": 1, \"20\": 1, \"6\": 2}, \"51\": {\"51\": 75, \"20\": 7, \"54\": 4, \"25\": 1, \"3\": 1, \"17\": 2, \"53\": 15, \"21\": 19, \"12\": 4, \"8\": 1, \"4\": 3}, \"31\": {\"31\": 28}, \"12\": {\"12\": 75, \"30\": 2, \"17\": 3, \"27\": 6, \"21\": 3, \"3\": 1, \"20\": 2}, \"56\": {\"38\": 3, \"56\": 114, \"14\": 1, \"10\": 6, \"22\": 5, \"13\": 3, \"43\": 3, \"2\": 1, \"55\": 1, \"31\": 1}, \"5\": {\"39\": 3, \"47\": 10, \"51\": 1, \"5\": 56, \"36\": 3, \"23\": 10, \"19\": 1, \"54\": 7, \"21\": 2, \"29\": 1, \"52\": 3, \"46\": 2, \"25\": 2, \"1\": 2, \"41\": 1, \"6\": 1, \"3\": 2, \"15\": 1}, \"35\": {\"35\": 16, \"42\": 4, \"20\": 1, \"36\": 2, \"29\": 2, \"34\": 1, \"17\": 1, \"57\": 6, \"55\": 1, \"54\": 2, \"44\": 1, \"4\": 1, \"28\": 1, \"27\": 1}, \"17\": {\"17\": 61, \"27\": 7, \"4\": 2, \"54\": 2, \"12\": 3, \"57\": 1, \"21\": 2, \"29\": 1, \"8\": 1}, \"32\": {\"32\": 12, \"47\": 3, \"5\": 1, \"1\": 3, \"46\": 1, \"54\": 1, \"52\": 1, \"39\": 2}, \"47\": {\"47\": 101, \"5\": 1, \"29\": 2, \"57\": 2, \"23\": 6, \"9\": 1, \"46\": 2, \"3\": 4, \"4\": 1}, \"18\": {\"18\": 96, \"6\": 1, \"23\": 3, \"13\": 1, \"3\": 1, \"16\": 1, \"54\": 4, \"36\": 1}, \"26\": {\"26\": 10, \"30\": 2, \"29\": 2, \"25\": 1, \"54\": 2, \"36\": 2, \"28\": 1, \"6\": 1, \"27\": 1, \"8\": 1, \"42\": 1}, \"50\": {\"50\": 38, \"17\": 4, \"26\": 1, \"54\": 1, \"42\": 1, \"18\": 1, \"9\": 8, \"21\": 5, \"25\": 16, \"36\": 1, \"6\": 3, \"51\": 5, \"45\": 3, \"53\": 7, \"4\": 3, \"48\": 2, \"29\": 1, \"27\": 5, \"8\": 7, \"3\": 3, \"20\": 3, \"12\": 2, \"28\": 1, \"19\": 1}, \"55\": {\"55\": 110, \"44\": 9, \"35\": 1, \"53\": 1, \"9\": 1, \"46\": 1, \"40\": 1}, \"34\": {\"34\": 24}, \"30\": {\"6\": 1, \"12\": 1, \"30\": 37, \"8\": 3, \"48\": 2}, \"37\": {\"37\": 24}, \"44\": {\"33\": 2, \"19\": 21, \"44\": 64, \"26\": 2, \"45\": 6, \"29\": 6, \"35\": 2, \"50\": 3, \"55\": 10, \"57\": 1, \"40\": 4, \"48\": 1, \"25\": 2, \"9\": 2, \"18\": 1, \"4\": 2, \"3\": 2, \"27\": 1}, \"48\": {\"48\": 99, \"47\": 1, \"54\": 2, \"28\": 2, \"3\": 5, \"8\": 1, \"6\": 1, \"29\": 1, \"20\": 3, \"27\": 3}, \"16\": {\"16\": 89, \"23\": 2, \"15\": 2, \"5\": 1, \"54\": 1, \"52\": 1}}, \"C_2\": {\"11\": {\"39\": 2, \"11\": 79, \"16\": 15, \"15\": 13, \"28\": 1, \"52\": 5, \"18\": 3, \"7\": 3, \"30\": 1, \"23\": 4, \"6\": 3, \"5\": 1}, \"21\": {\"20\": 8, \"21\": 89, \"26\": 1, \"52\": 3, \"53\": 4, \"51\": 10, \"47\": 1, \"54\": 1, \"36\": 1, \"8\": 2}, \"19\": {\"19\": 80, \"33\": 5, \"3\": 4, \"42\": 1, \"4\": 13, \"37\": 1, \"29\": 9, \"5\": 2, \"45\": 3, \"9\": 4, \"55\": 6, \"40\": 2, \"57\": 3, \"47\": 4, \"1\": 1, \"20\": 1, \"53\": 1}, \"20\": {\"20\": 117, \"54\": 3, \"27\": 1, \"8\": 3, \"55\": 1, \"12\": 1, \"44\": 1, \"50\": 1}, \"9\": {\"32\": 2, \"9\": 60, \"29\": 13, \"26\": 1, \"51\": 2, \"3\": 4, \"17\": 3, \"50\": 5, \"21\": 3, \"45\": 4, \"4\": 13, \"20\": 3, \"57\": 5, \"53\": 2, \"55\": 1, \"47\": 7, \"19\": 7, \"46\": 1, \"42\": 1, \"54\": 3}, \"10\": {\"10\": 105, \"24\": 5, \"56\": 1, \"22\": 1}, \"37\": {\"37\": 36}, \"32\": {\"32\": 28}, \"3\": {\"39\": 1, \"9\": 3, \"3\": 15, \"27\": 2, \"57\": 4, \"8\": 2, \"32\": 2, \"50\": 1, \"49\": 2, \"26\": 1, \"29\": 2, \"6\": 6, \"7\": 7, \"2\": 1, \"53\": 3, \"45\": 5, \"51\": 6, \"4\": 2, \"21\": 1, \"48\": 6, \"25\": 5, \"46\": 3, \"20\": 1, \"47\": 5, \"34\": 3, \"18\": 1, \"36\": 1, \"19\": 1}, \"39\": {\"39\": 28}, \"45\": {\"45\": 57, \"50\": 5, \"33\": 1, \"35\": 2, \"19\": 21, \"44\": 2, \"55\": 2, \"9\": 9, \"20\": 3, \"4\": 8, \"27\": 2, \"40\": 1, \"25\": 2, \"47\": 2, \"29\": 5, \"8\": 2, \"1\": 1, \"3\": 1, \"6\": 1, \"12\": 1}, \"50\": {\"20\": 11, \"3\": 3, \"50\": 37, \"49\": 1, \"26\": 1, \"54\": 15, \"8\": 16, \"6\": 4, \"51\": 5, \"30\": 1, \"4\": 2, \"36\": 10, \"2\": 1, \"27\": 3, \"7\": 1, \"53\": 6, \"21\": 2, \"52\": 1, \"25\": 8, \"57\": 1, \"48\": 3, \"34\": 2, \"17\": 2}, \"40\": {\"19\": 9, \"45\": 5, \"35\": 10, \"40\": 94, \"4\": 2, \"29\": 6, \"55\": 5, \"50\": 1, \"9\": 7, \"44\": 1}, \"46\": {\"46\": 32, \"21\": 6, \"54\": 11, \"50\": 2, \"51\": 7, \"34\": 1, \"52\": 8, \"6\": 9, \"7\": 2, \"13\": 1, \"47\": 2, \"53\": 12, \"3\": 5, \"57\": 7, \"27\": 2, \"48\": 3, \"16\": 2, \"1\": 3, \"8\": 1, \"25\": 5, \"55\": 1, \"17\": 2, \"4\": 2, \"20\": 1, \"29\": 1}, \"12\": {\"12\": 82, \"20\": 2, \"27\": 2, \"50\": 1, \"17\": 4, \"9\": 1}, \"13\": {\"13\": 116}, \"47\": {\"3\": 2, \"47\": 54, \"57\": 17, \"54\": 1, \"39\": 3, \"18\": 1, \"42\": 1, \"7\": 3, \"4\": 1, \"0\": 5, \"29\": 1, \"23\": 8, \"50\": 2, \"48\": 7, \"5\": 2, \"30\": 7, \"53\": 1, \"1\": 8, \"28\": 1, \"49\": 1, \"51\": 1, \"9\": 1, \"6\": 1, \"16\": 1, \"52\": 1, \"25\": 1}, \"15\": {\"15\": 130, \"34\": 1, \"16\": 9, \"23\": 1, \"52\": 1}, \"54\": {\"54\": 107, \"50\": 1}, \"48\": {\"48\": 134, \"54\": 6, \"17\": 1, \"25\": 1, \"6\": 5, \"1\": 1}, \"23\": {\"23\": 140, \"18\": 1, \"28\": 1}, \"29\": {\"54\": 4, \"29\": 44, \"32\": 5, \"33\": 3, \"35\": 1, \"42\": 3, \"9\": 8, \"12\": 2, \"47\": 3, \"40\": 1, \"1\": 2, \"57\": 12, \"45\": 5, \"44\": 1, \"50\": 3, \"48\": 5, \"19\": 6, \"5\": 1, \"17\": 8, \"4\": 6, \"51\": 1, \"3\": 1, \"55\": 1, \"21\": 1, \"46\": 1}, \"38\": {\"38\": 20}, \"53\": {\"53\": 83, \"54\": 3, \"21\": 4, \"51\": 19, \"6\": 1, \"52\": 1, \"26\": 1, \"3\": 1, \"8\": 9, \"20\": 12, \"50\": 2}, \"27\": {\"27\": 147, \"8\": 1, \"50\": 1, \"36\": 1}, \"43\": {\"43\": 143, \"56\": 1}, \"35\": {\"35\": 32}, \"0\": {\"0\": 44, \"23\": 2, \"5\": 1, \"47\": 1}, \"52\": {\"52\": 112, \"23\": 3, \"7\": 2, \"48\": 1, \"30\": 2, \"6\": 1, \"46\": 1, \"18\": 1, \"16\": 1}, \"8\": {\"8\": 109, \"6\": 4, \"27\": 4, \"50\": 3, \"36\": 2, \"30\": 1, \"57\": 1, \"20\": 4}, \"24\": {\"10\": 9, \"24\": 79, \"11\": 1, \"43\": 5, \"38\": 1, \"46\": 1}, \"18\": {\"18\": 46, \"30\": 1, \"7\": 1}, \"25\": {\"25\": 64, \"54\": 2, \"28\": 1, \"6\": 12, \"49\": 6, \"18\": 1, \"34\": 4, \"7\": 5, \"50\": 10, \"36\": 9, \"8\": 16, \"30\": 6, \"48\": 6, \"57\": 1, \"47\": 1, \"27\": 4}, \"57\": {\"57\": 133, \"1\": 2, \"7\": 1}, \"55\": {\"37\": 2, \"55\": 121, \"44\": 5, \"3\": 1, \"40\": 2, \"19\": 1, \"46\": 1, \"14\": 1}, \"36\": {\"36\": 115, \"8\": 1}, \"17\": {\"17\": 100, \"20\": 2, \"54\": 1, \"48\": 1}, \"2\": {\"2\": 17, \"50\": 1, \"49\": 1, \"54\": 1, \"7\": 4, \"53\": 2, \"52\": 1, \"8\": 3, \"41\": 1, \"23\": 1}, \"34\": {\"34\": 26, \"49\": 2}, \"1\": {\"57\": 17, \"52\": 2, \"1\": 43, \"53\": 3, \"15\": 2, \"48\": 12, \"47\": 7, \"7\": 2, \"54\": 3, \"4\": 1, \"30\": 2, \"50\": 3, \"46\": 4, \"34\": 1, \"32\": 1, \"49\": 1, \"3\": 3, \"17\": 1, \"6\": 2, \"23\": 1, \"5\": 1}, \"51\": {\"51\": 102, \"53\": 15, \"20\": 7, \"21\": 4, \"12\": 3, \"2\": 1, \"26\": 2, \"8\": 2}, \"31\": {\"31\": 16, \"29\": 1, \"42\": 2, \"11\": 1, \"54\": 1, \"5\": 3, \"47\": 1, \"4\": 1, \"1\": 2}, \"49\": {\"49\": 19, \"34\": 4, \"2\": 1}, \"14\": {\"13\": 2, \"35\": 4, \"33\": 1, \"22\": 2, \"14\": 9, \"55\": 2, \"10\": 1, \"56\": 1, \"19\": 1, \"24\": 1}, \"33\": {\"33\": 20, \"29\": 5, \"9\": 2, \"4\": 1}, \"41\": {\"28\": 2, \"41\": 18}, \"28\": {\"28\": 26, \"11\": 1, \"42\": 1}, \"5\": {\"5\": 46, \"47\": 6, \"28\": 3, \"0\": 2, \"57\": 16, \"7\": 10, \"23\": 11, \"52\": 4, \"46\": 1, \"21\": 1, \"11\": 2, \"30\": 2, \"27\": 1, \"3\": 1, \"48\": 1, \"1\": 3, \"39\": 1, \"31\": 1, \"16\": 1, \"54\": 1, \"6\": 2, \"25\": 1, \"15\": 2, \"50\": 1}, \"16\": {\"16\": 129, \"23\": 1, \"28\": 2, \"52\": 2, \"47\": 3, \"7\": 2, \"30\": 2, \"18\": 1, \"15\": 7, \"6\": 1}, \"4\": {\"17\": 7, \"51\": 7, \"32\": 1, \"4\": 53, \"9\": 7, \"42\": 1, \"40\": 2, \"29\": 6, \"27\": 2, \"12\": 1, \"8\": 1, \"50\": 5, \"20\": 13, \"5\": 1, \"47\": 10, \"31\": 2, \"3\": 2, \"53\": 3, \"54\": 2, \"45\": 1, \"57\": 1}, \"22\": {\"22\": 96, \"14\": 2, \"38\": 1, \"56\": 29, \"13\": 4, \"55\": 1, \"10\": 2, \"24\": 1}, \"6\": {\"50\": 1, \"6\": 65, \"54\": 4, \"27\": 5, \"1\": 1, \"30\": 2, \"48\": 19, \"53\": 2, \"51\": 5, \"25\": 5, \"8\": 2, \"18\": 2, \"36\": 1, \"57\": 1, \"17\": 1, \"16\": 2}, \"30\": {\"30\": 124}, \"26\": {\"26\": 24}, \"56\": {\"56\": 114, \"22\": 25, \"10\": 1, \"13\": 2}, \"42\": {\"18\": 2, \"42\": 13, \"49\": 2, \"57\": 5, \"47\": 2, \"54\": 1, \"5\": 1, \"30\": 1, \"50\": 1, \"48\": 1, \"28\": 1, \"46\": 1, \"31\": 1, \"7\": 1, \"1\": 1, \"9\": 1, \"25\": 1}, \"44\": {\"44\": 54, \"55\": 13, \"33\": 1, \"35\": 4, \"40\": 7, \"9\": 2, \"45\": 8, \"19\": 5, \"3\": 2, \"4\": 3, \"53\": 1}, \"7\": {\"7\": 30, \"48\": 1, \"0\": 3, \"47\": 1, \"18\": 1}}}, \"per_domain_accuracy\": {\"O_26\": {\"accuracy\": 0.7, \"source?\": true}, \"O_44\": {\"accuracy\": 0.7447916666666666, \"source?\": true}, \"O_50\": {\"accuracy\": 0.85625, \"source?\": true}, \"O_38\": {\"accuracy\": 0.8768229166666667, \"source?\": true}, \"O_20\": {\"accuracy\": 0.8075520833333333, \"source?\": true}, \"O_14\": {\"accuracy\": 0.8885416666666667, \"source?\": true}, \"O_32\": {\"accuracy\": 0.8606770833333334, \"source?\": true}, \"O_8\": {\"accuracy\": 0.83359375, \"source?\": true}, \"C_5\": {\"accuracy\": 0.6852304469273743, \"source?\": false}, \"C_1\": {\"accuracy\": 0.7398097826086957, \"source?\": false}, \"C_3\": {\"accuracy\": 0.7027573529411765, \"source?\": false}, \"C_4\": {\"accuracy\": 0.6907003012048193, \"source?\": false}, \"C_2\": {\"accuracy\": 0.7201704545454546, \"source?\": false}}}, \"history\": {\"epoch_indices\": [1, 2, 3, 4, 5, 6, 7, 8, 9, 10], \"train_label_loss\": [0.9798419921481538, 0.9633667451462575, 0.6384819918844317, 0.55273273867178, 0.4918052748594034, 0.4488302372745238, 0.41319265046567166, 0.3753328498585948, 0.33712468991316635, 0.3134136722252671], \"source_val_label_loss\": [8.84559154510498, 0.8909115791320801, 0.6904474496841431, 0.5257295966148376, 0.49722611904144287, 0.4896501898765564, 0.4099856913089752, 0.4268237352371216, 0.3800460696220398, 0.3967651128768921], \"target_val_label_loss\": [1961.0989990234375, 86.85277557373047, 83.99024963378906, 90.97766876220703, 90.13034057617188, 96.72956848144531, 122.99081420898438, 117.28477478027344, 131.21670532226562, 127.40311431884766], \"source_val_acc_label\": [0.6636067708333333, 0.6716471354166667, 0.7439127604166667, 0.8081380208333333, 0.8197916666666667, 0.8210286458333333, 0.8513346354166667, 0.8446940104166667, 0.8608723958333333, 0.8563802083333333], \"target_val_acc_label\": [0.40735714285714286, 0.6415, 0.6823214285714285, 0.6609642857142857, 0.6877142857142857, 0.7081785714285714, 0.6926071428571429, 0.7031071428571428, 0.69225, 0.6879285714285714]}, \"dataset_metrics\": {\"source\": {\"train\": {\"n_unique_x\": 179200, \"n_unique_y\": 16, \"n_batch/episode\": 6720}, \"val\": {\"n_unique_x\": 38400, \"n_unique_y\": 16, \"n_batch/episode\": 960}, \"test\": {\"n_unique_x\": 38400, \"n_unique_y\": 16, \"n_batch/episode\": 960}}, \"target\": {\"train\": {\"n_unique_x\": 175203, \"n_unique_y\": 58, \"n_batch/episode\": 6321}, \"val\": {\"n_unique_x\": 37151, \"n_unique_y\": 58, \"n_batch/episode\": 875}, \"test\": {\"n_unique_x\": 37548, \"n_unique_y\": 58, \"n_batch/episode\": 885}}}}'"
      ]
     },
     "execution_count": 29,
     "metadata": {},
     "output_type": "execute_result"
    }
   ],
   "source": [
    "json.dumps(experiment)"
   ]
  }
 ],
 "metadata": {
  "celltoolbar": "Tags",
  "kernelspec": {
   "display_name": "Python 3 (ipykernel)",
   "language": "python",
   "name": "python3"
  },
  "language_info": {
   "codemirror_mode": {
    "name": "ipython",
    "version": 3
   },
   "file_extension": ".py",
   "mimetype": "text/x-python",
   "name": "python",
   "nbconvert_exporter": "python",
   "pygments_lexer": "ipython3",
   "version": "3.8.10"
  },
  "papermill": {
   "default_parameters": {},
   "duration": 1778.221318,
   "end_time": "2022-03-25T12:19:43.276873",
   "environment_variables": {},
   "exception": null,
   "input_path": "/mnt/wd500GB/CSC500/csc500-main/csc500-notebooks/templates/tl_ptn_template.ipynb",
   "output_path": "trial.ipynb",
   "parameters": {
    "parameters": {
     "BEST_MODEL_PATH": "./best_model.pth",
     "NUM_LOGS_PER_EPOCH": 10,
     "criteria_for_best": "target_accuracy",
     "dataset_seed": 7,
     "datasets": [
      {
       "domain_prefix": "C_",
       "domains": [
        1,
        2,
        3,
        4,
        5
       ],
       "episode_transforms": [],
       "labels": [
        "1-10.",
        "1-11.",
        "1-15.",
        "1-16.",
        "1-17.",
        "1-18.",
        "1-19.",
        "10-4.",
        "10-7.",
        "11-1.",
        "11-14.",
        "11-17.",
        "11-20.",
        "11-7.",
        "13-20.",
        "13-8.",
        "14-10.",
        "14-11.",
        "14-14.",
        "14-7.",
        "15-1.",
        "15-20.",
        "16-1.",
        "16-16.",
        "17-10.",
        "17-11.",
        "17-2.",
        "19-1.",
        "19-16.",
        "19-19.",
        "19-20.",
        "19-3.",
        "2-10.",
        "2-11.",
        "2-17.",
        "2-18.",
        "2-20.",
        "2-3.",
        "2-4.",
        "2-5.",
        "2-6.",
        "2-7.",
        "2-8.",
        "3-13.",
        "3-18.",
        "3-3.",
        "4-1.",
        "4-10.",
        "4-11.",
        "4-19.",
        "5-5.",
        "6-15.",
        "7-10.",
        "7-14.",
        "8-18.",
        "8-20.",
        "8-3.",
        "8-8."
       ],
       "num_examples_per_domain_per_label": -1,
       "pickle_path": "/mnt/wd500GB/CSC500/csc500-main/datasets/cores.stratified_ds.2022A.pkl",
       "source_or_target_dataset": "target",
       "x_transforms": [
        "unit_power",
        "take_200"
       ]
      },
      {
       "domain_prefix": "O_",
       "domains": [
        32,
        38,
        8,
        44,
        14,
        50,
        20,
        26
       ],
       "episode_transforms": [],
       "labels": [
        "3123D52",
        "3123D65",
        "3123D79",
        "3123D80",
        "3123D54",
        "3123D70",
        "3123D7B",
        "3123D89",
        "3123D58",
        "3123D76",
        "3123D7D",
        "3123EFE",
        "3123D64",
        "3123D78",
        "3123D7E",
        "3124E4A"
       ],
       "num_examples_per_domain_per_label": 2000,
       "pickle_path": "/mnt/wd500GB/CSC500/csc500-main/datasets/oracle.Run1_framed_2000Examples_stratified_ds.2022A.pkl",
       "source_or_target_dataset": "source",
       "x_transforms": [
        "unit_power",
        "take_200",
        "resample_20Msps_to_25Msps"
       ]
      }
     ],
     "device": "cuda",
     "experiment_name": "tl_3Av2:oracle.run1.framed -> cores",
     "lr": 0.0001,
     "n_epoch": 50,
     "n_query": 2,
     "n_shot": 3,
     "n_way": 16,
     "patience": 3,
     "seed": 7,
     "test_k_factor": 2,
     "torch_default_dtype": "torch.float32",
     "train_k_factor": 3,
     "val_k_factor": 2,
     "x_net": [
      {
       "class": "nnReshape",
       "kargs": {
        "shape": [
         -1,
         1,
         2,
         200
        ]
       }
      },
      {
       "class": "Conv2d",
       "kargs": {
        "bias": false,
        "in_channels": 1,
        "kernel_size": [
         1,
         7
        ],
        "out_channels": 256,
        "padding": [
         0,
         3
        ]
       }
      },
      {
       "class": "ReLU",
       "kargs": {
        "inplace": true
       }
      },
      {
       "class": "BatchNorm2d",
       "kargs": {
        "num_features": 256
       }
      },
      {
       "class": "Conv2d",
       "kargs": {
        "bias": true,
        "in_channels": 256,
        "kernel_size": [
         2,
         7
        ],
        "out_channels": 80,
        "padding": [
         0,
         3
        ]
       }
      },
      {
       "class": "ReLU",
       "kargs": {
        "inplace": true
       }
      },
      {
       "class": "BatchNorm2d",
       "kargs": {
        "num_features": 80
       }
      },
      {
       "class": "Flatten",
       "kargs": {}
      },
      {
       "class": "Linear",
       "kargs": {
        "in_features": 16000,
        "out_features": 256
       }
      },
      {
       "class": "ReLU",
       "kargs": {
        "inplace": true
       }
      },
      {
       "class": "BatchNorm1d",
       "kargs": {
        "num_features": 256
       }
      },
      {
       "class": "Linear",
       "kargs": {
        "in_features": 256,
        "out_features": 256
       }
      }
     ],
     "x_shape": [
      2,
      200
     ]
    }
   },
   "start_time": "2022-03-25T11:50:05.055555",
   "version": "2.3.4"
  }
 },
 "nbformat": 4,
 "nbformat_minor": 5
}