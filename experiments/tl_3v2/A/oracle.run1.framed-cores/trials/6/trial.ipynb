{
 "cells": [
  {
   "cell_type": "markdown",
   "id": "9fea5f46",
   "metadata": {
    "papermill": {
     "duration": 0.01268,
     "end_time": "2022-03-25T10:32:03.033221",
     "exception": false,
     "start_time": "2022-03-25T10:32:03.020541",
     "status": "completed"
    },
    "tags": []
   },
   "source": [
    "# Transfer Learning Template"
   ]
  },
  {
   "cell_type": "code",
   "execution_count": 1,
   "id": "0902182a",
   "metadata": {
    "execution": {
     "iopub.execute_input": "2022-03-25T10:32:03.070608Z",
     "iopub.status.busy": "2022-03-25T10:32:03.070122Z",
     "iopub.status.idle": "2022-03-25T10:32:03.968350Z",
     "shell.execute_reply": "2022-03-25T10:32:03.968059Z"
    },
    "papermill": {
     "duration": 0.922892,
     "end_time": "2022-03-25T10:32:03.968417",
     "exception": false,
     "start_time": "2022-03-25T10:32:03.045525",
     "status": "completed"
    },
    "tags": []
   },
   "outputs": [],
   "source": [
    "%load_ext autoreload\n",
    "%autoreload 2\n",
    "%matplotlib inline\n",
    "\n",
    "    \n",
    "import os, json, sys, time, random\n",
    "import numpy as np\n",
    "import torch\n",
    "from torch.optim import Adam\n",
    "from  easydict import EasyDict\n",
    "import matplotlib.pyplot as plt\n",
    "\n",
    "from steves_models.steves_ptn import Steves_Prototypical_Network\n",
    "\n",
    "from steves_utils.lazy_iterable_wrapper import Lazy_Iterable_Wrapper\n",
    "from steves_utils.iterable_aggregator import Iterable_Aggregator\n",
    "from steves_utils.ptn_train_eval_test_jig import  PTN_Train_Eval_Test_Jig\n",
    "from steves_utils.torch_sequential_builder import build_sequential\n",
    "from steves_utils.torch_utils import get_dataset_metrics, ptn_confusion_by_domain_over_dataloader\n",
    "from steves_utils.utils_v2 import (per_domain_accuracy_from_confusion, get_datasets_base_path)\n",
    "from steves_utils.PTN.utils import independent_accuracy_assesment\n",
    "\n",
    "from torch.utils.data import DataLoader\n",
    "\n",
    "from steves_utils.stratified_dataset.episodic_accessor import Episodic_Accessor_Factory\n",
    "\n",
    "from steves_utils.ptn_do_report import (\n",
    "    get_loss_curve,\n",
    "    get_results_table,\n",
    "    get_parameters_table,\n",
    "    get_domain_accuracies,\n",
    ")\n",
    "\n",
    "from steves_utils.transforms import get_chained_transform"
   ]
  },
  {
   "cell_type": "markdown",
   "id": "41c840b4",
   "metadata": {
    "papermill": {
     "duration": 0.012324,
     "end_time": "2022-03-25T10:32:03.996540",
     "exception": false,
     "start_time": "2022-03-25T10:32:03.984216",
     "status": "completed"
    },
    "tags": []
   },
   "source": [
    "# Allowed Parameters\n",
    "These are allowed parameters, not defaults\n",
    "Each of these values need to be present in the injected parameters (the notebook will raise an exception if they are not present)\n",
    "\n",
    "Papermill uses the cell tag \"parameters\" to inject the real parameters below this cell.\n",
    "Enable tags to see what I mean"
   ]
  },
  {
   "cell_type": "code",
   "execution_count": 2,
   "id": "fd44eb83",
   "metadata": {
    "execution": {
     "iopub.execute_input": "2022-03-25T10:32:04.028051Z",
     "iopub.status.busy": "2022-03-25T10:32:04.025830Z",
     "iopub.status.idle": "2022-03-25T10:32:04.040048Z",
     "shell.execute_reply": "2022-03-25T10:32:04.039642Z"
    },
    "papermill": {
     "duration": 0.029814,
     "end_time": "2022-03-25T10:32:04.040148",
     "exception": false,
     "start_time": "2022-03-25T10:32:04.010334",
     "status": "completed"
    },
    "tags": []
   },
   "outputs": [],
   "source": [
    "required_parameters = {\n",
    "    \"experiment_name\",\n",
    "    \"lr\",\n",
    "    \"device\",\n",
    "    \"seed\",\n",
    "    \"dataset_seed\",\n",
    "    \"n_shot\",\n",
    "    \"n_query\",\n",
    "    \"n_way\",\n",
    "    \"train_k_factor\",\n",
    "    \"val_k_factor\",\n",
    "    \"test_k_factor\",\n",
    "    \"n_epoch\",\n",
    "    \"patience\",\n",
    "    \"criteria_for_best\",\n",
    "    \"x_net\",\n",
    "    \"datasets\",\n",
    "    \"torch_default_dtype\",\n",
    "    \"NUM_LOGS_PER_EPOCH\",\n",
    "    \"BEST_MODEL_PATH\",\n",
    "    \"x_shape\",\n",
    "}"
   ]
  },
  {
   "cell_type": "code",
   "execution_count": 3,
   "id": "fa3f0049",
   "metadata": {
    "execution": {
     "iopub.execute_input": "2022-03-25T10:32:04.076725Z",
     "iopub.status.busy": "2022-03-25T10:32:04.076442Z",
     "iopub.status.idle": "2022-03-25T10:32:04.089460Z",
     "shell.execute_reply": "2022-03-25T10:32:04.088973Z"
    },
    "papermill": {
     "duration": 0.031649,
     "end_time": "2022-03-25T10:32:04.089562",
     "exception": false,
     "start_time": "2022-03-25T10:32:04.057913",
     "status": "completed"
    },
    "tags": [
     "parameters"
    ]
   },
   "outputs": [],
   "source": [
    "from steves_utils.CORES.utils import (\n",
    "    ALL_NODES,\n",
    "    ALL_NODES_MINIMUM_1000_EXAMPLES,\n",
    "    ALL_DAYS\n",
    ")\n",
    "\n",
    "from steves_utils.ORACLE.utils_v2 import (\n",
    "    ALL_DISTANCES_FEET_NARROWED,\n",
    "    ALL_RUNS,\n",
    "    ALL_SERIAL_NUMBERS,\n",
    ")\n",
    "\n",
    "standalone_parameters = {}\n",
    "standalone_parameters[\"experiment_name\"] = \"STANDALONE PTN\"\n",
    "standalone_parameters[\"lr\"] = 0.001\n",
    "standalone_parameters[\"device\"] = \"cuda\"\n",
    "\n",
    "standalone_parameters[\"seed\"] = 1337\n",
    "standalone_parameters[\"dataset_seed\"] = 1337\n",
    "\n",
    "standalone_parameters[\"n_way\"] = 8\n",
    "standalone_parameters[\"n_shot\"] = 3\n",
    "standalone_parameters[\"n_query\"]  = 2\n",
    "standalone_parameters[\"train_k_factor\"] = 1\n",
    "standalone_parameters[\"val_k_factor\"] = 2\n",
    "standalone_parameters[\"test_k_factor\"] = 2\n",
    "\n",
    "\n",
    "standalone_parameters[\"n_epoch\"] = 50\n",
    "\n",
    "standalone_parameters[\"patience\"] = 10\n",
    "standalone_parameters[\"criteria_for_best\"] = \"source_loss\"\n",
    "\n",
    "standalone_parameters[\"datasets\"] = [\n",
    "    {\n",
    "        \"labels\": ALL_SERIAL_NUMBERS,\n",
    "        \"domains\": ALL_DISTANCES_FEET_NARROWED,\n",
    "        \"num_examples_per_domain_per_label\": 100,\n",
    "        \"pickle_path\": os.path.join(get_datasets_base_path(), \"oracle.Run1_framed_2000Examples_stratified_ds.2022A.pkl\"),\n",
    "        \"source_or_target_dataset\": \"source\",\n",
    "        \"x_transforms\": [\"unit_mag\", \"minus_two\"],\n",
    "        \"episode_transforms\": [],\n",
    "        \"domain_prefix\": \"ORACLE_\"\n",
    "    },\n",
    "    {\n",
    "        \"labels\": ALL_NODES,\n",
    "        \"domains\": ALL_DAYS,\n",
    "        \"num_examples_per_domain_per_label\": 100,\n",
    "        \"pickle_path\": os.path.join(get_datasets_base_path(), \"cores.stratified_ds.2022A.pkl\"),\n",
    "        \"source_or_target_dataset\": \"target\",\n",
    "        \"x_transforms\": [\"unit_power\", \"times_zero\"],\n",
    "        \"episode_transforms\": [],\n",
    "        \"domain_prefix\": \"CORES_\"\n",
    "    }   \n",
    "]\n",
    "\n",
    "standalone_parameters[\"torch_default_dtype\"] = \"torch.float32\" \n",
    "\n",
    "\n",
    "\n",
    "standalone_parameters[\"x_net\"] =     [\n",
    "    {\"class\": \"nnReshape\", \"kargs\": {\"shape\":[-1, 1, 2, 256]}},\n",
    "    {\"class\": \"Conv2d\", \"kargs\": { \"in_channels\":1, \"out_channels\":256, \"kernel_size\":(1,7), \"bias\":False, \"padding\":(0,3), },},\n",
    "    {\"class\": \"ReLU\", \"kargs\": {\"inplace\": True}},\n",
    "    {\"class\": \"BatchNorm2d\", \"kargs\": {\"num_features\":256}},\n",
    "\n",
    "    {\"class\": \"Conv2d\", \"kargs\": { \"in_channels\":256, \"out_channels\":80, \"kernel_size\":(2,7), \"bias\":True, \"padding\":(0,3), },},\n",
    "    {\"class\": \"ReLU\", \"kargs\": {\"inplace\": True}},\n",
    "    {\"class\": \"BatchNorm2d\", \"kargs\": {\"num_features\":80}},\n",
    "    {\"class\": \"Flatten\", \"kargs\": {}},\n",
    "\n",
    "    {\"class\": \"Linear\", \"kargs\": {\"in_features\": 80*256, \"out_features\": 256}}, # 80 units per IQ pair\n",
    "    {\"class\": \"ReLU\", \"kargs\": {\"inplace\": True}},\n",
    "    {\"class\": \"BatchNorm1d\", \"kargs\": {\"num_features\":256}},\n",
    "\n",
    "    {\"class\": \"Linear\", \"kargs\": {\"in_features\": 256, \"out_features\": 256}},\n",
    "]\n",
    "\n",
    "# Parameters relevant to results\n",
    "# These parameters will basically never need to change\n",
    "standalone_parameters[\"NUM_LOGS_PER_EPOCH\"] = 10\n",
    "standalone_parameters[\"BEST_MODEL_PATH\"] = \"./best_model.pth\"\n",
    "\n",
    "\n",
    "\n",
    "\n"
   ]
  },
  {
   "cell_type": "code",
   "execution_count": 4,
   "id": "549e5cdd",
   "metadata": {
    "execution": {
     "iopub.execute_input": "2022-03-25T10:32:04.130736Z",
     "iopub.status.busy": "2022-03-25T10:32:04.130412Z",
     "iopub.status.idle": "2022-03-25T10:32:04.143585Z",
     "shell.execute_reply": "2022-03-25T10:32:04.143105Z"
    },
    "papermill": {
     "duration": 0.036306,
     "end_time": "2022-03-25T10:32:04.143683",
     "exception": false,
     "start_time": "2022-03-25T10:32:04.107377",
     "status": "completed"
    },
    "tags": [
     "injected-parameters"
    ]
   },
   "outputs": [],
   "source": [
    "# Parameters\n",
    "parameters = {\n",
    "    \"experiment_name\": \"tl_3Av2:oracle.run1.framed -> cores\",\n",
    "    \"device\": \"cuda\",\n",
    "    \"lr\": 0.0001,\n",
    "    \"x_shape\": [2, 200],\n",
    "    \"n_shot\": 3,\n",
    "    \"n_query\": 2,\n",
    "    \"train_k_factor\": 3,\n",
    "    \"val_k_factor\": 2,\n",
    "    \"test_k_factor\": 2,\n",
    "    \"torch_default_dtype\": \"torch.float32\",\n",
    "    \"n_epoch\": 50,\n",
    "    \"patience\": 3,\n",
    "    \"criteria_for_best\": \"target_accuracy\",\n",
    "    \"x_net\": [\n",
    "        {\"class\": \"nnReshape\", \"kargs\": {\"shape\": [-1, 1, 2, 200]}},\n",
    "        {\n",
    "            \"class\": \"Conv2d\",\n",
    "            \"kargs\": {\n",
    "                \"in_channels\": 1,\n",
    "                \"out_channels\": 256,\n",
    "                \"kernel_size\": [1, 7],\n",
    "                \"bias\": False,\n",
    "                \"padding\": [0, 3],\n",
    "            },\n",
    "        },\n",
    "        {\"class\": \"ReLU\", \"kargs\": {\"inplace\": True}},\n",
    "        {\"class\": \"BatchNorm2d\", \"kargs\": {\"num_features\": 256}},\n",
    "        {\n",
    "            \"class\": \"Conv2d\",\n",
    "            \"kargs\": {\n",
    "                \"in_channels\": 256,\n",
    "                \"out_channels\": 80,\n",
    "                \"kernel_size\": [2, 7],\n",
    "                \"bias\": True,\n",
    "                \"padding\": [0, 3],\n",
    "            },\n",
    "        },\n",
    "        {\"class\": \"ReLU\", \"kargs\": {\"inplace\": True}},\n",
    "        {\"class\": \"BatchNorm2d\", \"kargs\": {\"num_features\": 80}},\n",
    "        {\"class\": \"Flatten\", \"kargs\": {}},\n",
    "        {\"class\": \"Linear\", \"kargs\": {\"in_features\": 16000, \"out_features\": 256}},\n",
    "        {\"class\": \"ReLU\", \"kargs\": {\"inplace\": True}},\n",
    "        {\"class\": \"BatchNorm1d\", \"kargs\": {\"num_features\": 256}},\n",
    "        {\"class\": \"Linear\", \"kargs\": {\"in_features\": 256, \"out_features\": 256}},\n",
    "    ],\n",
    "    \"NUM_LOGS_PER_EPOCH\": 10,\n",
    "    \"BEST_MODEL_PATH\": \"./best_model.pth\",\n",
    "    \"n_way\": 16,\n",
    "    \"datasets\": [\n",
    "        {\n",
    "            \"labels\": [\n",
    "                \"1-10.\",\n",
    "                \"1-11.\",\n",
    "                \"1-15.\",\n",
    "                \"1-16.\",\n",
    "                \"1-17.\",\n",
    "                \"1-18.\",\n",
    "                \"1-19.\",\n",
    "                \"10-4.\",\n",
    "                \"10-7.\",\n",
    "                \"11-1.\",\n",
    "                \"11-14.\",\n",
    "                \"11-17.\",\n",
    "                \"11-20.\",\n",
    "                \"11-7.\",\n",
    "                \"13-20.\",\n",
    "                \"13-8.\",\n",
    "                \"14-10.\",\n",
    "                \"14-11.\",\n",
    "                \"14-14.\",\n",
    "                \"14-7.\",\n",
    "                \"15-1.\",\n",
    "                \"15-20.\",\n",
    "                \"16-1.\",\n",
    "                \"16-16.\",\n",
    "                \"17-10.\",\n",
    "                \"17-11.\",\n",
    "                \"17-2.\",\n",
    "                \"19-1.\",\n",
    "                \"19-16.\",\n",
    "                \"19-19.\",\n",
    "                \"19-20.\",\n",
    "                \"19-3.\",\n",
    "                \"2-10.\",\n",
    "                \"2-11.\",\n",
    "                \"2-17.\",\n",
    "                \"2-18.\",\n",
    "                \"2-20.\",\n",
    "                \"2-3.\",\n",
    "                \"2-4.\",\n",
    "                \"2-5.\",\n",
    "                \"2-6.\",\n",
    "                \"2-7.\",\n",
    "                \"2-8.\",\n",
    "                \"3-13.\",\n",
    "                \"3-18.\",\n",
    "                \"3-3.\",\n",
    "                \"4-1.\",\n",
    "                \"4-10.\",\n",
    "                \"4-11.\",\n",
    "                \"4-19.\",\n",
    "                \"5-5.\",\n",
    "                \"6-15.\",\n",
    "                \"7-10.\",\n",
    "                \"7-14.\",\n",
    "                \"8-18.\",\n",
    "                \"8-20.\",\n",
    "                \"8-3.\",\n",
    "                \"8-8.\",\n",
    "            ],\n",
    "            \"domains\": [1, 2, 3, 4, 5],\n",
    "            \"num_examples_per_domain_per_label\": -1,\n",
    "            \"pickle_path\": \"/mnt/wd500GB/CSC500/csc500-main/datasets/cores.stratified_ds.2022A.pkl\",\n",
    "            \"source_or_target_dataset\": \"target\",\n",
    "            \"x_transforms\": [\"unit_power\", \"take_200\"],\n",
    "            \"episode_transforms\": [],\n",
    "            \"domain_prefix\": \"C_\",\n",
    "        },\n",
    "        {\n",
    "            \"labels\": [\n",
    "                \"3123D52\",\n",
    "                \"3123D65\",\n",
    "                \"3123D79\",\n",
    "                \"3123D80\",\n",
    "                \"3123D54\",\n",
    "                \"3123D70\",\n",
    "                \"3123D7B\",\n",
    "                \"3123D89\",\n",
    "                \"3123D58\",\n",
    "                \"3123D76\",\n",
    "                \"3123D7D\",\n",
    "                \"3123EFE\",\n",
    "                \"3123D64\",\n",
    "                \"3123D78\",\n",
    "                \"3123D7E\",\n",
    "                \"3124E4A\",\n",
    "            ],\n",
    "            \"domains\": [32, 38, 8, 44, 14, 50, 20, 26],\n",
    "            \"num_examples_per_domain_per_label\": 2000,\n",
    "            \"pickle_path\": \"/mnt/wd500GB/CSC500/csc500-main/datasets/oracle.Run1_framed_2000Examples_stratified_ds.2022A.pkl\",\n",
    "            \"source_or_target_dataset\": \"source\",\n",
    "            \"x_transforms\": [\"unit_power\", \"take_200\", \"resample_20Msps_to_25Msps\"],\n",
    "            \"episode_transforms\": [],\n",
    "            \"domain_prefix\": \"O_\",\n",
    "        },\n",
    "    ],\n",
    "    \"seed\": 154325,\n",
    "    \"dataset_seed\": 154325,\n",
    "}\n"
   ]
  },
  {
   "cell_type": "code",
   "execution_count": 5,
   "id": "8fa1cc33",
   "metadata": {
    "execution": {
     "iopub.execute_input": "2022-03-25T10:32:04.183586Z",
     "iopub.status.busy": "2022-03-25T10:32:04.178562Z",
     "iopub.status.idle": "2022-03-25T10:32:04.191916Z",
     "shell.execute_reply": "2022-03-25T10:32:04.192311Z"
    },
    "papermill": {
     "duration": 0.030629,
     "end_time": "2022-03-25T10:32:04.192427",
     "exception": false,
     "start_time": "2022-03-25T10:32:04.161798",
     "status": "completed"
    },
    "tags": []
   },
   "outputs": [],
   "source": [
    "# Set this to True if you want to run this template directly\n",
    "STANDALONE = False\n",
    "if STANDALONE:\n",
    "    print(\"parameters not injected, running with standalone_parameters\")\n",
    "    parameters = standalone_parameters\n",
    "\n",
    "if not 'parameters' in locals() and not 'parameters' in globals():\n",
    "    raise Exception(\"Parameter injection failed\")\n",
    "\n",
    "#Use an easy dict for all the parameters\n",
    "p = EasyDict(parameters)\n",
    "\n",
    "if \"x_shape\" not in p:\n",
    "    p.x_shape = [2,256] # Default to this if we dont supply x_shape\n",
    "\n",
    "\n",
    "supplied_keys = set(p.keys())\n",
    "\n",
    "if  supplied_keys != required_parameters:\n",
    "    print(\"Parameters are incorrect\")\n",
    "    if len(supplied_keys - required_parameters)>0: print(\"Shouldn't have:\", str(supplied_keys - required_parameters))\n",
    "    if len(required_parameters - supplied_keys)>0: print(\"Need to have:\", str(required_parameters - supplied_keys))\n",
    "    raise RuntimeError(\"Parameters are incorrect\")"
   ]
  },
  {
   "cell_type": "code",
   "execution_count": 6,
   "id": "3a028d58",
   "metadata": {
    "execution": {
     "iopub.execute_input": "2022-03-25T10:32:04.230339Z",
     "iopub.status.busy": "2022-03-25T10:32:04.225849Z",
     "iopub.status.idle": "2022-03-25T10:32:04.241624Z",
     "shell.execute_reply": "2022-03-25T10:32:04.241149Z"
    },
    "papermill": {
     "duration": 0.031253,
     "end_time": "2022-03-25T10:32:04.241721",
     "exception": false,
     "start_time": "2022-03-25T10:32:04.210468",
     "status": "completed"
    },
    "tags": []
   },
   "outputs": [],
   "source": [
    "###################################\n",
    "# Set the RNGs and make it all deterministic\n",
    "###################################\n",
    "np.random.seed(p.seed)\n",
    "random.seed(p.seed)\n",
    "torch.manual_seed(p.seed)\n",
    "\n",
    "torch.use_deterministic_algorithms(True) "
   ]
  },
  {
   "cell_type": "code",
   "execution_count": 7,
   "id": "b691acf6",
   "metadata": {
    "execution": {
     "iopub.execute_input": "2022-03-25T10:32:04.278331Z",
     "iopub.status.busy": "2022-03-25T10:32:04.274031Z",
     "iopub.status.idle": "2022-03-25T10:32:04.287498Z",
     "shell.execute_reply": "2022-03-25T10:32:04.287081Z"
    },
    "papermill": {
     "duration": 0.028269,
     "end_time": "2022-03-25T10:32:04.287597",
     "exception": false,
     "start_time": "2022-03-25T10:32:04.259328",
     "status": "completed"
    },
    "tags": []
   },
   "outputs": [],
   "source": [
    "###########################################\n",
    "# The stratified datasets honor this\n",
    "###########################################\n",
    "torch.set_default_dtype(eval(p.torch_default_dtype))"
   ]
  },
  {
   "cell_type": "code",
   "execution_count": 8,
   "id": "b5fba671",
   "metadata": {
    "execution": {
     "iopub.execute_input": "2022-03-25T10:32:04.319196Z",
     "iopub.status.busy": "2022-03-25T10:32:04.318855Z",
     "iopub.status.idle": "2022-03-25T10:32:04.355248Z",
     "shell.execute_reply": "2022-03-25T10:32:04.354809Z"
    },
    "papermill": {
     "duration": 0.051193,
     "end_time": "2022-03-25T10:32:04.355353",
     "exception": false,
     "start_time": "2022-03-25T10:32:04.304160",
     "status": "completed"
    },
    "tags": []
   },
   "outputs": [],
   "source": [
    "###################################\n",
    "# Build the network(s)\n",
    "# Note: It's critical to do this AFTER setting the RNG\n",
    "###################################\n",
    "x_net = build_sequential(p.x_net)"
   ]
  },
  {
   "cell_type": "code",
   "execution_count": 9,
   "id": "5d7e61cc",
   "metadata": {
    "execution": {
     "iopub.execute_input": "2022-03-25T10:32:04.397399Z",
     "iopub.status.busy": "2022-03-25T10:32:04.394954Z",
     "iopub.status.idle": "2022-03-25T10:32:04.406683Z",
     "shell.execute_reply": "2022-03-25T10:32:04.406456Z"
    },
    "papermill": {
     "duration": 0.032482,
     "end_time": "2022-03-25T10:32:04.406736",
     "exception": false,
     "start_time": "2022-03-25T10:32:04.374254",
     "status": "completed"
    },
    "tags": []
   },
   "outputs": [],
   "source": [
    "start_time_secs = time.time()"
   ]
  },
  {
   "cell_type": "code",
   "execution_count": 10,
   "id": "c6b67dfd",
   "metadata": {
    "execution": {
     "iopub.execute_input": "2022-03-25T10:32:04.434887Z",
     "iopub.status.busy": "2022-03-25T10:32:04.434494Z",
     "iopub.status.idle": "2022-03-25T10:32:04.446030Z",
     "shell.execute_reply": "2022-03-25T10:32:04.445793Z"
    },
    "papermill": {
     "duration": 0.026394,
     "end_time": "2022-03-25T10:32:04.446086",
     "exception": false,
     "start_time": "2022-03-25T10:32:04.419692",
     "status": "completed"
    },
    "tags": []
   },
   "outputs": [],
   "source": [
    "p.domains_source = []\n",
    "p.domains_target = []\n",
    "\n",
    "\n",
    "train_original_source = []\n",
    "val_original_source   = []\n",
    "test_original_source  = []\n",
    "\n",
    "train_original_target = []\n",
    "val_original_target   = []\n",
    "test_original_target  = []"
   ]
  },
  {
   "cell_type": "code",
   "execution_count": 11,
   "id": "e3d9c3d3",
   "metadata": {
    "execution": {
     "iopub.execute_input": "2022-03-25T10:32:04.475440Z",
     "iopub.status.busy": "2022-03-25T10:32:04.475048Z",
     "iopub.status.idle": "2022-03-25T10:32:04.486239Z",
     "shell.execute_reply": "2022-03-25T10:32:04.486011Z"
    },
    "papermill": {
     "duration": 0.025705,
     "end_time": "2022-03-25T10:32:04.486293",
     "exception": false,
     "start_time": "2022-03-25T10:32:04.460588",
     "status": "completed"
    },
    "tags": []
   },
   "outputs": [],
   "source": [
    "# global_x_transform_func = lambda x: normalize(x.to(torch.get_default_dtype()), \"unit_power\") # unit_power, unit_mag\n",
    "# global_x_transform_func = lambda x: normalize(x, \"unit_power\") # unit_power, unit_mag"
   ]
  },
  {
   "cell_type": "code",
   "execution_count": 12,
   "id": "acb78fd2",
   "metadata": {
    "execution": {
     "iopub.execute_input": "2022-03-25T10:32:04.517890Z",
     "iopub.status.busy": "2022-03-25T10:32:04.517483Z",
     "iopub.status.idle": "2022-03-25T10:32:04.531054Z",
     "shell.execute_reply": "2022-03-25T10:32:04.530814Z"
    },
    "papermill": {
     "duration": 0.031605,
     "end_time": "2022-03-25T10:32:04.531110",
     "exception": false,
     "start_time": "2022-03-25T10:32:04.499505",
     "status": "completed"
    },
    "tags": []
   },
   "outputs": [],
   "source": [
    "def add_dataset(\n",
    "    labels,\n",
    "    domains,\n",
    "    pickle_path,\n",
    "    x_transforms,\n",
    "    episode_transforms,\n",
    "    domain_prefix,\n",
    "    num_examples_per_domain_per_label,\n",
    "    source_or_target_dataset:str,\n",
    "    iterator_seed=p.seed,\n",
    "    dataset_seed=p.dataset_seed,\n",
    "    n_shot=p.n_shot,\n",
    "    n_way=p.n_way,\n",
    "    n_query=p.n_query,\n",
    "    train_val_test_k_factors=(p.train_k_factor,p.val_k_factor,p.test_k_factor),\n",
    "):\n",
    "   \n",
    "    if x_transforms == []: x_transform = None\n",
    "    else: x_transform = get_chained_transform(x_transforms)\n",
    "    \n",
    "    if episode_transforms == []: episode_transform = None\n",
    "    else: raise Exception(\"episode_transforms not implemented\")\n",
    "    \n",
    "    episode_transform = lambda tup, _prefix=domain_prefix: (_prefix + str(tup[0]), tup[1])\n",
    "\n",
    "\n",
    "    eaf = Episodic_Accessor_Factory(\n",
    "        labels=labels,\n",
    "        domains=domains,\n",
    "        num_examples_per_domain_per_label=num_examples_per_domain_per_label,\n",
    "        iterator_seed=iterator_seed,\n",
    "        dataset_seed=dataset_seed,\n",
    "        n_shot=n_shot,\n",
    "        n_way=n_way,\n",
    "        n_query=n_query,\n",
    "        train_val_test_k_factors=train_val_test_k_factors,\n",
    "        pickle_path=pickle_path,\n",
    "        x_transform_func=x_transform,\n",
    "    )\n",
    "\n",
    "    train, val, test = eaf.get_train(), eaf.get_val(), eaf.get_test()\n",
    "    train = Lazy_Iterable_Wrapper(train, episode_transform)\n",
    "    val = Lazy_Iterable_Wrapper(val, episode_transform)\n",
    "    test = Lazy_Iterable_Wrapper(test, episode_transform)\n",
    "\n",
    "    if source_or_target_dataset==\"source\":\n",
    "        train_original_source.append(train)\n",
    "        val_original_source.append(val)\n",
    "        test_original_source.append(test)\n",
    "\n",
    "        p.domains_source.extend(\n",
    "            [domain_prefix + str(u) for u in domains]\n",
    "        )\n",
    "    elif source_or_target_dataset==\"target\":\n",
    "        train_original_target.append(train)\n",
    "        val_original_target.append(val)\n",
    "        test_original_target.append(test)\n",
    "        p.domains_target.extend(\n",
    "            [domain_prefix + str(u) for u in domains]\n",
    "        )\n",
    "    else:\n",
    "        raise Exception(f\"invalid source_or_target_dataset: {source_or_target_dataset}\")\n",
    "    "
   ]
  },
  {
   "cell_type": "code",
   "execution_count": 13,
   "id": "fe266617",
   "metadata": {
    "execution": {
     "iopub.execute_input": "2022-03-25T10:32:04.561728Z",
     "iopub.status.busy": "2022-03-25T10:32:04.561347Z",
     "iopub.status.idle": "2022-03-25T10:32:55.539965Z",
     "shell.execute_reply": "2022-03-25T10:32:55.539513Z"
    },
    "papermill": {
     "duration": 50.993275,
     "end_time": "2022-03-25T10:32:55.540071",
     "exception": false,
     "start_time": "2022-03-25T10:32:04.546796",
     "status": "completed"
    },
    "tags": []
   },
   "outputs": [],
   "source": [
    "for ds in p.datasets:\n",
    "    add_dataset(**ds)"
   ]
  },
  {
   "cell_type": "code",
   "execution_count": 14,
   "id": "b90d65ac",
   "metadata": {
    "execution": {
     "iopub.execute_input": "2022-03-25T10:32:55.575027Z",
     "iopub.status.busy": "2022-03-25T10:32:55.574536Z",
     "iopub.status.idle": "2022-03-25T10:32:55.585445Z",
     "shell.execute_reply": "2022-03-25T10:32:55.585134Z"
    },
    "papermill": {
     "duration": 0.026754,
     "end_time": "2022-03-25T10:32:55.585527",
     "exception": false,
     "start_time": "2022-03-25T10:32:55.558773",
     "status": "completed"
    },
    "tags": []
   },
   "outputs": [],
   "source": [
    "# from steves_utils.CORES.utils import (\n",
    "#     ALL_NODES,\n",
    "#     ALL_NODES_MINIMUM_1000_EXAMPLES,\n",
    "#     ALL_DAYS\n",
    "# )\n",
    "\n",
    "# add_dataset(\n",
    "#     labels=ALL_NODES,\n",
    "#     domains = ALL_DAYS,\n",
    "#     num_examples_per_domain_per_label=100,\n",
    "#     pickle_path=os.path.join(get_datasets_base_path(), \"cores.stratified_ds.2022A.pkl\"),\n",
    "#     source_or_target_dataset=\"target\",\n",
    "#     x_transform_func=global_x_transform_func,\n",
    "#     domain_modifier=lambda u: f\"cores_{u}\"\n",
    "# )"
   ]
  },
  {
   "cell_type": "code",
   "execution_count": 15,
   "id": "76db484d",
   "metadata": {
    "execution": {
     "iopub.execute_input": "2022-03-25T10:32:55.618549Z",
     "iopub.status.busy": "2022-03-25T10:32:55.616784Z",
     "iopub.status.idle": "2022-03-25T10:32:55.631678Z",
     "shell.execute_reply": "2022-03-25T10:32:55.631346Z"
    },
    "papermill": {
     "duration": 0.029975,
     "end_time": "2022-03-25T10:32:55.631749",
     "exception": false,
     "start_time": "2022-03-25T10:32:55.601774",
     "status": "completed"
    },
    "tags": []
   },
   "outputs": [],
   "source": [
    "# from steves_utils.ORACLE.utils_v2 import (\n",
    "#     ALL_DISTANCES_FEET,\n",
    "#     ALL_RUNS,\n",
    "#     ALL_SERIAL_NUMBERS,\n",
    "# )\n",
    "\n",
    "\n",
    "# add_dataset(\n",
    "#     labels=ALL_SERIAL_NUMBERS,\n",
    "#     domains = list(set(ALL_DISTANCES_FEET) - {2,62}),\n",
    "#     num_examples_per_domain_per_label=100,\n",
    "#     pickle_path=os.path.join(get_datasets_base_path(), \"oracle.Run2_framed_2000Examples_stratified_ds.2022A.pkl\"),\n",
    "#     source_or_target_dataset=\"source\",\n",
    "#     x_transform_func=global_x_transform_func,\n",
    "#     domain_modifier=lambda u: f\"oracle1_{u}\"\n",
    "# )\n"
   ]
  },
  {
   "cell_type": "code",
   "execution_count": 16,
   "id": "97dea9d2",
   "metadata": {
    "execution": {
     "iopub.execute_input": "2022-03-25T10:32:55.667208Z",
     "iopub.status.busy": "2022-03-25T10:32:55.666944Z",
     "iopub.status.idle": "2022-03-25T10:32:55.674841Z",
     "shell.execute_reply": "2022-03-25T10:32:55.674622Z"
    },
    "papermill": {
     "duration": 0.025344,
     "end_time": "2022-03-25T10:32:55.674888",
     "exception": false,
     "start_time": "2022-03-25T10:32:55.649544",
     "status": "completed"
    },
    "tags": []
   },
   "outputs": [],
   "source": [
    "# from steves_utils.ORACLE.utils_v2 import (\n",
    "#     ALL_DISTANCES_FEET,\n",
    "#     ALL_RUNS,\n",
    "#     ALL_SERIAL_NUMBERS,\n",
    "# )\n",
    "\n",
    "\n",
    "# add_dataset(\n",
    "#     labels=ALL_SERIAL_NUMBERS,\n",
    "#     domains = list(set(ALL_DISTANCES_FEET) - {2,62,56}),\n",
    "#     num_examples_per_domain_per_label=100,\n",
    "#     pickle_path=os.path.join(get_datasets_base_path(), \"oracle.Run2_framed_2000Examples_stratified_ds.2022A.pkl\"),\n",
    "#     source_or_target_dataset=\"source\",\n",
    "#     x_transform_func=global_x_transform_func,\n",
    "#     domain_modifier=lambda u: f\"oracle2_{u}\"\n",
    "# )"
   ]
  },
  {
   "cell_type": "code",
   "execution_count": 17,
   "id": "6f289866",
   "metadata": {
    "execution": {
     "iopub.execute_input": "2022-03-25T10:32:55.706949Z",
     "iopub.status.busy": "2022-03-25T10:32:55.706696Z",
     "iopub.status.idle": "2022-03-25T10:32:55.719089Z",
     "shell.execute_reply": "2022-03-25T10:32:55.719459Z"
    },
    "papermill": {
     "duration": 0.028775,
     "end_time": "2022-03-25T10:32:55.719562",
     "exception": false,
     "start_time": "2022-03-25T10:32:55.690787",
     "status": "completed"
    },
    "tags": []
   },
   "outputs": [],
   "source": [
    "# add_dataset(\n",
    "#     labels=list(range(19)),\n",
    "#     domains = [0,1,2],\n",
    "#     num_examples_per_domain_per_label=100,\n",
    "#     pickle_path=os.path.join(get_datasets_base_path(), \"metehan.stratified_ds.2022A.pkl\"),\n",
    "#     source_or_target_dataset=\"target\",\n",
    "#     x_transform_func=global_x_transform_func,\n",
    "#     domain_modifier=lambda u: f\"met_{u}\"\n",
    "# )"
   ]
  },
  {
   "cell_type": "code",
   "execution_count": 18,
   "id": "86a863c3",
   "metadata": {
    "execution": {
     "iopub.execute_input": "2022-03-25T10:32:55.753445Z",
     "iopub.status.busy": "2022-03-25T10:32:55.752683Z",
     "iopub.status.idle": "2022-03-25T10:32:55.767940Z",
     "shell.execute_reply": "2022-03-25T10:32:55.767481Z"
    },
    "papermill": {
     "duration": 0.029944,
     "end_time": "2022-03-25T10:32:55.768029",
     "exception": false,
     "start_time": "2022-03-25T10:32:55.738085",
     "status": "completed"
    },
    "tags": []
   },
   "outputs": [],
   "source": [
    "# # from steves_utils.wisig.utils import (\n",
    "# #     ALL_NODES_MINIMUM_100_EXAMPLES,\n",
    "# #     ALL_NODES_MINIMUM_500_EXAMPLES,\n",
    "# #     ALL_NODES_MINIMUM_1000_EXAMPLES,\n",
    "# #     ALL_DAYS\n",
    "# # )\n",
    "\n",
    "# import steves_utils.wisig.utils as wisig\n",
    "\n",
    "\n",
    "# add_dataset(\n",
    "#     labels=wisig.ALL_NODES_MINIMUM_100_EXAMPLES,\n",
    "#     domains = wisig.ALL_DAYS,\n",
    "#     num_examples_per_domain_per_label=100,\n",
    "#     pickle_path=os.path.join(get_datasets_base_path(), \"wisig.node3-19.stratified_ds.2022A.pkl\"),\n",
    "#     source_or_target_dataset=\"target\",\n",
    "#     x_transform_func=global_x_transform_func,\n",
    "#     domain_modifier=lambda u: f\"wisig_{u}\"\n",
    "# )"
   ]
  },
  {
   "cell_type": "code",
   "execution_count": 19,
   "id": "fd5442bc",
   "metadata": {
    "execution": {
     "iopub.execute_input": "2022-03-25T10:32:55.806721Z",
     "iopub.status.busy": "2022-03-25T10:32:55.804714Z",
     "iopub.status.idle": "2022-03-25T10:32:55.815181Z",
     "shell.execute_reply": "2022-03-25T10:32:55.815596Z"
    },
    "papermill": {
     "duration": 0.029308,
     "end_time": "2022-03-25T10:32:55.815720",
     "exception": false,
     "start_time": "2022-03-25T10:32:55.786412",
     "status": "completed"
    },
    "tags": []
   },
   "outputs": [],
   "source": [
    "###################################\n",
    "# Build the dataset\n",
    "###################################\n",
    "train_original_source = Iterable_Aggregator(train_original_source, p.seed)\n",
    "val_original_source = Iterable_Aggregator(val_original_source, p.seed)\n",
    "test_original_source = Iterable_Aggregator(test_original_source, p.seed)\n",
    "\n",
    "\n",
    "train_original_target = Iterable_Aggregator(train_original_target, p.seed)\n",
    "val_original_target = Iterable_Aggregator(val_original_target, p.seed)\n",
    "test_original_target = Iterable_Aggregator(test_original_target, p.seed)\n",
    "\n",
    "# For CNN We only use X and Y. And we only train on the source.\n",
    "# Properly form the data using a transform lambda and Lazy_Iterable_Wrapper. Finally wrap them in a dataloader\n",
    "\n",
    "transform_lambda = lambda ex: ex[1] # Original is (<domain>, <episode>) so we strip down to episode only\n",
    "\n",
    "train_processed_source = Lazy_Iterable_Wrapper(train_original_source, transform_lambda)\n",
    "val_processed_source   = Lazy_Iterable_Wrapper(val_original_source, transform_lambda)\n",
    "test_processed_source  = Lazy_Iterable_Wrapper(test_original_source, transform_lambda)\n",
    "\n",
    "train_processed_target = Lazy_Iterable_Wrapper(train_original_target, transform_lambda)\n",
    "val_processed_target   = Lazy_Iterable_Wrapper(val_original_target, transform_lambda)\n",
    "test_processed_target  = Lazy_Iterable_Wrapper(test_original_target, transform_lambda)\n",
    "\n",
    "datasets = EasyDict({\n",
    "    \"source\": {\n",
    "        \"original\": {\"train\":train_original_source, \"val\":val_original_source, \"test\":test_original_source},\n",
    "        \"processed\": {\"train\":train_processed_source, \"val\":val_processed_source, \"test\":test_processed_source}\n",
    "    },\n",
    "    \"target\": {\n",
    "        \"original\": {\"train\":train_original_target, \"val\":val_original_target, \"test\":test_original_target},\n",
    "        \"processed\": {\"train\":train_processed_target, \"val\":val_processed_target, \"test\":test_processed_target}\n",
    "    },\n",
    "})"
   ]
  },
  {
   "cell_type": "code",
   "execution_count": 20,
   "id": "5b3c01fc",
   "metadata": {
    "execution": {
     "iopub.execute_input": "2022-03-25T10:32:55.859114Z",
     "iopub.status.busy": "2022-03-25T10:32:55.858753Z",
     "iopub.status.idle": "2022-03-25T10:33:02.204638Z",
     "shell.execute_reply": "2022-03-25T10:33:02.205083Z"
    },
    "papermill": {
     "duration": 6.370497,
     "end_time": "2022-03-25T10:33:02.205225",
     "exception": false,
     "start_time": "2022-03-25T10:32:55.834728",
     "status": "completed"
    },
    "tags": []
   },
   "outputs": [
    {
     "name": "stdout",
     "output_type": "stream",
     "text": [
      "{'O_14', 'O_44', 'O_20', 'O_32', 'O_38', 'O_50', 'O_26', 'O_8'}\n"
     ]
    },
    {
     "name": "stdout",
     "output_type": "stream",
     "text": [
      "{'C_2', 'C_3', 'C_5', 'C_4', 'C_1'}\n"
     ]
    },
    {
     "name": "stdout",
     "output_type": "stream",
     "text": [
      "tensor([[[-0.1931,  0.8758,  0.6037,  ...,  0.7041, -0.3185, -0.0391],\n",
      "         [-0.4046,  0.2170,  0.5919,  ..., -0.1595,  1.0219,  1.0211]],\n",
      "\n",
      "        [[ 0.0508,  1.1559,  0.4146,  ...,  0.4908,  0.3583,  0.9554],\n",
      "         [-0.3878, -0.3983,  0.2625,  ..., -0.2077,  1.1096,  0.3871]],\n",
      "\n",
      "        [[-0.6662, -0.4533,  0.6746,  ...,  0.4228,  0.8722, -0.3763],\n",
      "         [-0.4061, -1.1238,  0.1155,  ..., -0.6004, -0.6856, -1.1481]],\n",
      "\n",
      "        ...,\n",
      "\n",
      "        [[ 0.1025,  0.7138,  0.1906,  ...,  0.9573,  0.9426,  0.7095],\n",
      "         [-0.8851, -0.7284,  1.0025,  ...,  0.3112,  0.3567, -0.9834]],\n",
      "\n",
      "        [[-0.2577,  0.9077,  0.7996,  ...,  0.7522, -0.0283,  0.1294],\n",
      "         [-0.4825, -0.1084,  0.4870,  ..., -0.4464,  1.0524,  0.9217]],\n",
      "\n",
      "        [[-0.7522, -1.1439,  0.5260,  ..., -0.3526, -0.3789, -1.2930],\n",
      "         [ 0.5309,  0.0861, -0.7256,  ..., -0.8873, -0.9504,  0.1101]]])\n"
     ]
    }
   ],
   "source": [
    "from steves_utils.transforms import get_average_magnitude, get_average_power\n",
    "\n",
    "print(set([u for u,_ in val_original_source]))\n",
    "print(set([u for u,_ in val_original_target]))\n",
    "\n",
    "s_x, s_y, q_x, q_y, _ = next(iter(train_processed_source))\n",
    "print(s_x)\n",
    "\n",
    "# for ds in [\n",
    "#     train_processed_source,\n",
    "#     val_processed_source,\n",
    "#     test_processed_source,\n",
    "#     train_processed_target,\n",
    "#     val_processed_target,\n",
    "#     test_processed_target\n",
    "# ]:\n",
    "#     for s_x, s_y, q_x, q_y, _ in ds:\n",
    "#         for X in (s_x, q_x):\n",
    "#             for x in X:\n",
    "#                 assert np.isclose(get_average_magnitude(x.numpy()), 1.0)\n",
    "#                 assert np.isclose(get_average_power(x.numpy()), 1.0)\n",
    "                "
   ]
  },
  {
   "cell_type": "code",
   "execution_count": 21,
   "id": "bbdacba1",
   "metadata": {
    "execution": {
     "iopub.execute_input": "2022-03-25T10:33:02.255720Z",
     "iopub.status.busy": "2022-03-25T10:33:02.254577Z",
     "iopub.status.idle": "2022-03-25T10:33:02.298507Z",
     "shell.execute_reply": "2022-03-25T10:33:02.298056Z"
    },
    "papermill": {
     "duration": 0.070437,
     "end_time": "2022-03-25T10:33:02.298601",
     "exception": false,
     "start_time": "2022-03-25T10:33:02.228164",
     "status": "completed"
    },
    "tags": []
   },
   "outputs": [
    {
     "name": "stdout",
     "output_type": "stream",
     "text": [
      "(2, 200)\n"
     ]
    }
   ],
   "source": [
    "###################################\n",
    "# Build the model\n",
    "###################################\n",
    "# easfsl only wants a tuple for the shape\n",
    "model = Steves_Prototypical_Network(x_net, device=p.device, x_shape=tuple(p.x_shape))\n",
    "optimizer = Adam(params=model.parameters(), lr=p.lr)"
   ]
  },
  {
   "cell_type": "code",
   "execution_count": 22,
   "id": "22b39ac5",
   "metadata": {
    "execution": {
     "iopub.execute_input": "2022-03-25T10:33:02.338378Z",
     "iopub.status.busy": "2022-03-25T10:33:02.336633Z",
     "iopub.status.idle": "2022-03-25T11:03:02.800482Z",
     "shell.execute_reply": "2022-03-25T11:03:02.800253Z"
    },
    "papermill": {
     "duration": 1800.481616,
     "end_time": "2022-03-25T11:03:02.800540",
     "exception": false,
     "start_time": "2022-03-25T10:33:02.318924",
     "status": "completed"
    },
    "tags": []
   },
   "outputs": [
    {
     "name": "stdout",
     "output_type": "stream",
     "text": [
      "epoch: 1, [batch: 1 / 6720], examples_per_second: 47.8902, train_label_loss: 2.9699, \n"
     ]
    },
    {
     "name": "stdout",
     "output_type": "stream",
     "text": [
      "epoch: 1, [batch: 672 / 6720], examples_per_second: 3642.2278, train_label_loss: 0.9301, \n"
     ]
    },
    {
     "name": "stdout",
     "output_type": "stream",
     "text": [
      "epoch: 1, [batch: 1344 / 6720], examples_per_second: 3667.7641, train_label_loss: 0.8978, \n"
     ]
    },
    {
     "name": "stdout",
     "output_type": "stream",
     "text": [
      "epoch: 1, [batch: 2016 / 6720], examples_per_second: 3655.5076, train_label_loss: 0.8696, \n"
     ]
    },
    {
     "name": "stdout",
     "output_type": "stream",
     "text": [
      "epoch: 1, [batch: 2688 / 6720], examples_per_second: 3636.5708, train_label_loss: 1.0293, \n"
     ]
    },
    {
     "name": "stdout",
     "output_type": "stream",
     "text": [
      "epoch: 1, [batch: 3360 / 6720], examples_per_second: 3650.9037, train_label_loss: 0.9139, \n"
     ]
    },
    {
     "name": "stdout",
     "output_type": "stream",
     "text": [
      "epoch: 1, [batch: 4032 / 6720], examples_per_second: 3634.0376, train_label_loss: 1.0257, \n"
     ]
    },
    {
     "name": "stdout",
     "output_type": "stream",
     "text": [
      "epoch: 1, [batch: 4704 / 6720], examples_per_second: 3620.2417, train_label_loss: 0.6385, \n"
     ]
    },
    {
     "name": "stdout",
     "output_type": "stream",
     "text": [
      "epoch: 1, [batch: 5376 / 6720], examples_per_second: 3637.7118, train_label_loss: 0.6848, \n"
     ]
    },
    {
     "name": "stdout",
     "output_type": "stream",
     "text": [
      "epoch: 1, [batch: 6048 / 6720], examples_per_second: 3627.1923, train_label_loss: 0.8392, \n"
     ]
    },
    {
     "name": "stdout",
     "output_type": "stream",
     "text": [
      "=============================================================\n",
      "epoch: 1, source_val_acc_label: 0.6460, target_val_acc_label: 0.8385, source_val_label_loss: 1.0137, target_val_label_loss: 1.1361, \n",
      "=============================================================\n"
     ]
    },
    {
     "name": "stdout",
     "output_type": "stream",
     "text": [
      "New best\n"
     ]
    },
    {
     "name": "stdout",
     "output_type": "stream",
     "text": [
      "epoch: 2, [batch: 1 / 6720], examples_per_second: 5.2357, train_label_loss: 0.7411, \n"
     ]
    },
    {
     "name": "stdout",
     "output_type": "stream",
     "text": [
      "epoch: 2, [batch: 672 / 6720], examples_per_second: 3611.7242, train_label_loss: 0.8854, \n"
     ]
    },
    {
     "name": "stdout",
     "output_type": "stream",
     "text": [
      "epoch: 2, [batch: 1344 / 6720], examples_per_second: 3643.3818, train_label_loss: 1.2405, \n"
     ]
    },
    {
     "name": "stdout",
     "output_type": "stream",
     "text": [
      "epoch: 2, [batch: 2016 / 6720], examples_per_second: 3628.2744, train_label_loss: 0.4687, \n"
     ]
    },
    {
     "name": "stdout",
     "output_type": "stream",
     "text": [
      "epoch: 2, [batch: 2688 / 6720], examples_per_second: 3614.5936, train_label_loss: 0.7118, \n"
     ]
    },
    {
     "name": "stdout",
     "output_type": "stream",
     "text": [
      "epoch: 2, [batch: 3360 / 6720], examples_per_second: 3627.5244, train_label_loss: 0.6113, \n"
     ]
    },
    {
     "name": "stdout",
     "output_type": "stream",
     "text": [
      "epoch: 2, [batch: 4032 / 6720], examples_per_second: 3644.4287, train_label_loss: 0.5554, \n"
     ]
    },
    {
     "name": "stdout",
     "output_type": "stream",
     "text": [
      "epoch: 2, [batch: 4704 / 6720], examples_per_second: 3632.4355, train_label_loss: 0.4036, \n"
     ]
    },
    {
     "name": "stdout",
     "output_type": "stream",
     "text": [
      "epoch: 2, [batch: 5376 / 6720], examples_per_second: 3635.0900, train_label_loss: 1.3250, \n"
     ]
    },
    {
     "name": "stdout",
     "output_type": "stream",
     "text": [
      "epoch: 2, [batch: 6048 / 6720], examples_per_second: 3649.5715, train_label_loss: 0.4451, \n"
     ]
    },
    {
     "name": "stdout",
     "output_type": "stream",
     "text": [
      "=============================================================\n",
      "epoch: 2, source_val_acc_label: 0.7501, target_val_acc_label: 0.8427, source_val_label_loss: 0.6788, target_val_label_loss: 1.0389, \n",
      "=============================================================\n"
     ]
    },
    {
     "name": "stdout",
     "output_type": "stream",
     "text": [
      "New best\n"
     ]
    },
    {
     "name": "stdout",
     "output_type": "stream",
     "text": [
      "epoch: 3, [batch: 1 / 6720], examples_per_second: 5.2509, train_label_loss: 0.9989, \n"
     ]
    },
    {
     "name": "stdout",
     "output_type": "stream",
     "text": [
      "epoch: 3, [batch: 672 / 6720], examples_per_second: 3601.1095, train_label_loss: 0.6385, \n"
     ]
    },
    {
     "name": "stdout",
     "output_type": "stream",
     "text": [
      "epoch: 3, [batch: 1344 / 6720], examples_per_second: 3652.8387, train_label_loss: 1.0593, \n"
     ]
    },
    {
     "name": "stdout",
     "output_type": "stream",
     "text": [
      "epoch: 3, [batch: 2016 / 6720], examples_per_second: 3645.5212, train_label_loss: 0.6856, \n"
     ]
    },
    {
     "name": "stdout",
     "output_type": "stream",
     "text": [
      "epoch: 3, [batch: 2688 / 6720], examples_per_second: 3636.9205, train_label_loss: 0.4146, \n"
     ]
    },
    {
     "name": "stdout",
     "output_type": "stream",
     "text": [
      "epoch: 3, [batch: 3360 / 6720], examples_per_second: 3637.5770, train_label_loss: 0.2981, \n"
     ]
    },
    {
     "name": "stdout",
     "output_type": "stream",
     "text": [
      "epoch: 3, [batch: 4032 / 6720], examples_per_second: 3644.1838, train_label_loss: 0.8379, \n"
     ]
    },
    {
     "name": "stdout",
     "output_type": "stream",
     "text": [
      "epoch: 3, [batch: 4704 / 6720], examples_per_second: 3622.0170, train_label_loss: 0.4155, \n"
     ]
    },
    {
     "name": "stdout",
     "output_type": "stream",
     "text": [
      "epoch: 3, [batch: 5376 / 6720], examples_per_second: 3629.3220, train_label_loss: 0.2307, \n"
     ]
    },
    {
     "name": "stdout",
     "output_type": "stream",
     "text": [
      "epoch: 3, [batch: 6048 / 6720], examples_per_second: 3626.7005, train_label_loss: 0.7489, \n"
     ]
    },
    {
     "name": "stdout",
     "output_type": "stream",
     "text": [
      "=============================================================\n",
      "epoch: 3, source_val_acc_label: 0.7889, target_val_acc_label: 0.8343, source_val_label_loss: 0.5763, target_val_label_loss: 1.2592, \n",
      "=============================================================\n"
     ]
    },
    {
     "name": "stdout",
     "output_type": "stream",
     "text": [
      "epoch: 4, [batch: 1 / 6720], examples_per_second: 5.2567, train_label_loss: 0.3683, \n"
     ]
    },
    {
     "name": "stdout",
     "output_type": "stream",
     "text": [
      "epoch: 4, [batch: 672 / 6720], examples_per_second: 3599.3946, train_label_loss: 0.3392, \n"
     ]
    },
    {
     "name": "stdout",
     "output_type": "stream",
     "text": [
      "epoch: 4, [batch: 1344 / 6720], examples_per_second: 3645.1343, train_label_loss: 0.2828, \n"
     ]
    },
    {
     "name": "stdout",
     "output_type": "stream",
     "text": [
      "epoch: 4, [batch: 2016 / 6720], examples_per_second: 3635.4377, train_label_loss: 0.2297, \n"
     ]
    },
    {
     "name": "stdout",
     "output_type": "stream",
     "text": [
      "epoch: 4, [batch: 2688 / 6720], examples_per_second: 3618.5353, train_label_loss: 0.4920, \n"
     ]
    },
    {
     "name": "stdout",
     "output_type": "stream",
     "text": [
      "epoch: 4, [batch: 3360 / 6720], examples_per_second: 3652.5111, train_label_loss: 0.3836, \n"
     ]
    },
    {
     "name": "stdout",
     "output_type": "stream",
     "text": [
      "epoch: 4, [batch: 4032 / 6720], examples_per_second: 3637.5300, train_label_loss: 0.4837, \n"
     ]
    },
    {
     "name": "stdout",
     "output_type": "stream",
     "text": [
      "epoch: 4, [batch: 4704 / 6720], examples_per_second: 3627.9350, train_label_loss: 0.3847, \n"
     ]
    },
    {
     "name": "stdout",
     "output_type": "stream",
     "text": [
      "epoch: 4, [batch: 5376 / 6720], examples_per_second: 3636.6748, train_label_loss: 0.4360, \n"
     ]
    },
    {
     "name": "stdout",
     "output_type": "stream",
     "text": [
      "epoch: 4, [batch: 6048 / 6720], examples_per_second: 3599.7215, train_label_loss: 0.3084, \n"
     ]
    },
    {
     "name": "stdout",
     "output_type": "stream",
     "text": [
      "=============================================================\n",
      "epoch: 4, source_val_acc_label: 0.8218, target_val_acc_label: 0.8312, source_val_label_loss: 0.4798, target_val_label_loss: 1.3338, \n",
      "=============================================================\n"
     ]
    },
    {
     "name": "stdout",
     "output_type": "stream",
     "text": [
      "epoch: 5, [batch: 1 / 6720], examples_per_second: 5.2648, train_label_loss: 0.7055, \n"
     ]
    },
    {
     "name": "stdout",
     "output_type": "stream",
     "text": [
      "epoch: 5, [batch: 672 / 6720], examples_per_second: 3583.6655, train_label_loss: 0.8316, \n"
     ]
    },
    {
     "name": "stdout",
     "output_type": "stream",
     "text": [
      "epoch: 5, [batch: 1344 / 6720], examples_per_second: 3597.4018, train_label_loss: 0.2990, \n"
     ]
    },
    {
     "name": "stdout",
     "output_type": "stream",
     "text": [
      "epoch: 5, [batch: 2016 / 6720], examples_per_second: 3633.2312, train_label_loss: 1.0329, \n"
     ]
    },
    {
     "name": "stdout",
     "output_type": "stream",
     "text": [
      "epoch: 5, [batch: 2688 / 6720], examples_per_second: 3620.5365, train_label_loss: 0.4928, \n"
     ]
    },
    {
     "name": "stdout",
     "output_type": "stream",
     "text": [
      "epoch: 5, [batch: 3360 / 6720], examples_per_second: 3644.7765, train_label_loss: 0.9824, \n"
     ]
    },
    {
     "name": "stdout",
     "output_type": "stream",
     "text": [
      "epoch: 5, [batch: 4032 / 6720], examples_per_second: 3646.8123, train_label_loss: 0.1931, \n"
     ]
    },
    {
     "name": "stdout",
     "output_type": "stream",
     "text": [
      "epoch: 5, [batch: 4704 / 6720], examples_per_second: 3634.6173, train_label_loss: 0.4522, \n"
     ]
    },
    {
     "name": "stdout",
     "output_type": "stream",
     "text": [
      "epoch: 5, [batch: 5376 / 6720], examples_per_second: 3648.4752, train_label_loss: 0.3334, \n"
     ]
    },
    {
     "name": "stdout",
     "output_type": "stream",
     "text": [
      "epoch: 5, [batch: 6048 / 6720], examples_per_second: 3635.9099, train_label_loss: 0.5666, \n"
     ]
    },
    {
     "name": "stdout",
     "output_type": "stream",
     "text": [
      "=============================================================\n",
      "epoch: 5, source_val_acc_label: 0.8345, target_val_acc_label: 0.8428, source_val_label_loss: 0.4483, target_val_label_loss: 1.2679, \n",
      "=============================================================\n"
     ]
    },
    {
     "name": "stdout",
     "output_type": "stream",
     "text": [
      "New best\n"
     ]
    },
    {
     "name": "stdout",
     "output_type": "stream",
     "text": [
      "epoch: 6, [batch: 1 / 6720], examples_per_second: 5.2634, train_label_loss: 0.3039, \n"
     ]
    },
    {
     "name": "stdout",
     "output_type": "stream",
     "text": [
      "epoch: 6, [batch: 672 / 6720], examples_per_second: 3589.3777, train_label_loss: 0.0972, \n"
     ]
    },
    {
     "name": "stdout",
     "output_type": "stream",
     "text": [
      "epoch: 6, [batch: 1344 / 6720], examples_per_second: 3602.3468, train_label_loss: 0.3573, \n"
     ]
    },
    {
     "name": "stdout",
     "output_type": "stream",
     "text": [
      "epoch: 6, [batch: 2016 / 6720], examples_per_second: 3608.2099, train_label_loss: 0.4607, \n"
     ]
    },
    {
     "name": "stdout",
     "output_type": "stream",
     "text": [
      "epoch: 6, [batch: 2688 / 6720], examples_per_second: 3635.9542, train_label_loss: 0.3782, \n"
     ]
    },
    {
     "name": "stdout",
     "output_type": "stream",
     "text": [
      "epoch: 6, [batch: 3360 / 6720], examples_per_second: 3632.6185, train_label_loss: 0.3539, \n"
     ]
    },
    {
     "name": "stdout",
     "output_type": "stream",
     "text": [
      "epoch: 6, [batch: 4032 / 6720], examples_per_second: 3640.0926, train_label_loss: 0.4069, \n"
     ]
    },
    {
     "name": "stdout",
     "output_type": "stream",
     "text": [
      "epoch: 6, [batch: 4704 / 6720], examples_per_second: 3628.5776, train_label_loss: 0.4938, \n"
     ]
    },
    {
     "name": "stdout",
     "output_type": "stream",
     "text": [
      "epoch: 6, [batch: 5376 / 6720], examples_per_second: 3614.3776, train_label_loss: 0.4619, \n"
     ]
    },
    {
     "name": "stdout",
     "output_type": "stream",
     "text": [
      "epoch: 6, [batch: 6048 / 6720], examples_per_second: 3608.0072, train_label_loss: 0.2193, \n"
     ]
    },
    {
     "name": "stdout",
     "output_type": "stream",
     "text": [
      "=============================================================\n",
      "epoch: 6, source_val_acc_label: 0.8348, target_val_acc_label: 0.8365, source_val_label_loss: 0.4477, target_val_label_loss: 1.4836, \n",
      "=============================================================\n"
     ]
    },
    {
     "name": "stdout",
     "output_type": "stream",
     "text": [
      "epoch: 7, [batch: 1 / 6720], examples_per_second: 5.2807, train_label_loss: 0.1689, \n"
     ]
    },
    {
     "name": "stdout",
     "output_type": "stream",
     "text": [
      "epoch: 7, [batch: 672 / 6720], examples_per_second: 3601.4180, train_label_loss: 0.2256, \n"
     ]
    },
    {
     "name": "stdout",
     "output_type": "stream",
     "text": [
      "epoch: 7, [batch: 1344 / 6720], examples_per_second: 3637.1284, train_label_loss: 0.3393, \n"
     ]
    },
    {
     "name": "stdout",
     "output_type": "stream",
     "text": [
      "epoch: 7, [batch: 2016 / 6720], examples_per_second: 3640.1431, train_label_loss: 0.3606, \n"
     ]
    },
    {
     "name": "stdout",
     "output_type": "stream",
     "text": [
      "epoch: 7, [batch: 2688 / 6720], examples_per_second: 3614.2308, train_label_loss: 0.0588, \n"
     ]
    },
    {
     "name": "stdout",
     "output_type": "stream",
     "text": [
      "epoch: 7, [batch: 3360 / 6720], examples_per_second: 3645.6837, train_label_loss: 0.0908, \n"
     ]
    },
    {
     "name": "stdout",
     "output_type": "stream",
     "text": [
      "epoch: 7, [batch: 4032 / 6720], examples_per_second: 3648.1644, train_label_loss: 0.1538, \n"
     ]
    },
    {
     "name": "stdout",
     "output_type": "stream",
     "text": [
      "epoch: 7, [batch: 4704 / 6720], examples_per_second: 3616.9939, train_label_loss: 0.2568, \n"
     ]
    },
    {
     "name": "stdout",
     "output_type": "stream",
     "text": [
      "epoch: 7, [batch: 5376 / 6720], examples_per_second: 3645.1693, train_label_loss: 0.4318, \n"
     ]
    },
    {
     "name": "stdout",
     "output_type": "stream",
     "text": [
      "epoch: 7, [batch: 6048 / 6720], examples_per_second: 3637.2940, train_label_loss: 0.3604, \n"
     ]
    },
    {
     "name": "stdout",
     "output_type": "stream",
     "text": [
      "=============================================================\n",
      "epoch: 7, source_val_acc_label: 0.8431, target_val_acc_label: 0.8558, source_val_label_loss: 0.4260, target_val_label_loss: 1.2041, \n",
      "=============================================================\n"
     ]
    },
    {
     "name": "stdout",
     "output_type": "stream",
     "text": [
      "New best\n"
     ]
    },
    {
     "name": "stdout",
     "output_type": "stream",
     "text": [
      "epoch: 8, [batch: 1 / 6720], examples_per_second: 5.2671, train_label_loss: 0.5314, \n"
     ]
    },
    {
     "name": "stdout",
     "output_type": "stream",
     "text": [
      "epoch: 8, [batch: 672 / 6720], examples_per_second: 3578.0600, train_label_loss: 0.1958, \n"
     ]
    },
    {
     "name": "stdout",
     "output_type": "stream",
     "text": [
      "epoch: 8, [batch: 1344 / 6720], examples_per_second: 3629.7666, train_label_loss: 0.1649, \n"
     ]
    },
    {
     "name": "stdout",
     "output_type": "stream",
     "text": [
      "epoch: 8, [batch: 2016 / 6720], examples_per_second: 3637.9436, train_label_loss: 0.5360, \n"
     ]
    },
    {
     "name": "stdout",
     "output_type": "stream",
     "text": [
      "epoch: 8, [batch: 2688 / 6720], examples_per_second: 3631.2854, train_label_loss: 0.4360, \n"
     ]
    },
    {
     "name": "stdout",
     "output_type": "stream",
     "text": [
      "epoch: 8, [batch: 3360 / 6720], examples_per_second: 3628.8338, train_label_loss: 0.8584, \n"
     ]
    },
    {
     "name": "stdout",
     "output_type": "stream",
     "text": [
      "epoch: 8, [batch: 4032 / 6720], examples_per_second: 3631.5463, train_label_loss: 0.3807, \n"
     ]
    },
    {
     "name": "stdout",
     "output_type": "stream",
     "text": [
      "epoch: 8, [batch: 4704 / 6720], examples_per_second: 3619.4962, train_label_loss: 0.1234, \n"
     ]
    },
    {
     "name": "stdout",
     "output_type": "stream",
     "text": [
      "epoch: 8, [batch: 5376 / 6720], examples_per_second: 3635.7605, train_label_loss: 0.1163, \n"
     ]
    },
    {
     "name": "stdout",
     "output_type": "stream",
     "text": [
      "epoch: 8, [batch: 6048 / 6720], examples_per_second: 3642.3330, train_label_loss: 0.3706, \n"
     ]
    },
    {
     "name": "stdout",
     "output_type": "stream",
     "text": [
      "=============================================================\n",
      "epoch: 8, source_val_acc_label: 0.8561, target_val_acc_label: 0.8527, source_val_label_loss: 0.3951, target_val_label_loss: 1.3170, \n",
      "=============================================================\n"
     ]
    },
    {
     "name": "stdout",
     "output_type": "stream",
     "text": [
      "epoch: 9, [batch: 1 / 6720], examples_per_second: 5.2835, train_label_loss: 0.5127, \n"
     ]
    },
    {
     "name": "stdout",
     "output_type": "stream",
     "text": [
      "epoch: 9, [batch: 672 / 6720], examples_per_second: 3603.3539, train_label_loss: 0.4960, \n"
     ]
    },
    {
     "name": "stdout",
     "output_type": "stream",
     "text": [
      "epoch: 9, [batch: 1344 / 6720], examples_per_second: 3640.4821, train_label_loss: 0.1308, \n"
     ]
    },
    {
     "name": "stdout",
     "output_type": "stream",
     "text": [
      "epoch: 9, [batch: 2016 / 6720], examples_per_second: 3630.8798, train_label_loss: 0.2658, \n"
     ]
    },
    {
     "name": "stdout",
     "output_type": "stream",
     "text": [
      "epoch: 9, [batch: 2688 / 6720], examples_per_second: 3602.6869, train_label_loss: 0.3394, \n"
     ]
    },
    {
     "name": "stdout",
     "output_type": "stream",
     "text": [
      "epoch: 9, [batch: 3360 / 6720], examples_per_second: 3614.9752, train_label_loss: 0.4870, \n"
     ]
    },
    {
     "name": "stdout",
     "output_type": "stream",
     "text": [
      "epoch: 9, [batch: 4032 / 6720], examples_per_second: 3651.4272, train_label_loss: 0.1287, \n"
     ]
    },
    {
     "name": "stdout",
     "output_type": "stream",
     "text": [
      "epoch: 9, [batch: 4704 / 6720], examples_per_second: 3619.4324, train_label_loss: 0.0755, \n"
     ]
    },
    {
     "name": "stdout",
     "output_type": "stream",
     "text": [
      "epoch: 9, [batch: 5376 / 6720], examples_per_second: 3639.5183, train_label_loss: 0.0668, \n"
     ]
    },
    {
     "name": "stdout",
     "output_type": "stream",
     "text": [
      "epoch: 9, [batch: 6048 / 6720], examples_per_second: 3636.8357, train_label_loss: 0.3765, \n"
     ]
    },
    {
     "name": "stdout",
     "output_type": "stream",
     "text": [
      "=============================================================\n",
      "epoch: 9, source_val_acc_label: 0.8595, target_val_acc_label: 0.8424, source_val_label_loss: 0.3819, target_val_label_loss: 1.5313, \n",
      "=============================================================\n"
     ]
    },
    {
     "name": "stdout",
     "output_type": "stream",
     "text": [
      "epoch: 10, [batch: 1 / 6720], examples_per_second: 5.2535, train_label_loss: 0.2666, \n"
     ]
    },
    {
     "name": "stdout",
     "output_type": "stream",
     "text": [
      "epoch: 10, [batch: 672 / 6720], examples_per_second: 3624.4682, train_label_loss: 0.2604, \n"
     ]
    },
    {
     "name": "stdout",
     "output_type": "stream",
     "text": [
      "epoch: 10, [batch: 1344 / 6720], examples_per_second: 3628.4782, train_label_loss: 0.1585, \n"
     ]
    },
    {
     "name": "stdout",
     "output_type": "stream",
     "text": [
      "epoch: 10, [batch: 2016 / 6720], examples_per_second: 3639.6881, train_label_loss: 0.1269, \n"
     ]
    },
    {
     "name": "stdout",
     "output_type": "stream",
     "text": [
      "epoch: 10, [batch: 2688 / 6720], examples_per_second: 3630.0430, train_label_loss: 0.2842, \n"
     ]
    },
    {
     "name": "stdout",
     "output_type": "stream",
     "text": [
      "epoch: 10, [batch: 3360 / 6720], examples_per_second: 3632.4880, train_label_loss: 0.2140, \n"
     ]
    },
    {
     "name": "stdout",
     "output_type": "stream",
     "text": [
      "epoch: 10, [batch: 4032 / 6720], examples_per_second: 3631.5119, train_label_loss: 0.5941, \n"
     ]
    },
    {
     "name": "stdout",
     "output_type": "stream",
     "text": [
      "epoch: 10, [batch: 4704 / 6720], examples_per_second: 3629.3971, train_label_loss: 0.4997, \n"
     ]
    },
    {
     "name": "stdout",
     "output_type": "stream",
     "text": [
      "epoch: 10, [batch: 5376 / 6720], examples_per_second: 3637.1682, train_label_loss: 0.1113, \n"
     ]
    },
    {
     "name": "stdout",
     "output_type": "stream",
     "text": [
      "epoch: 10, [batch: 6048 / 6720], examples_per_second: 3652.1686, train_label_loss: 0.1245, \n"
     ]
    },
    {
     "name": "stdout",
     "output_type": "stream",
     "text": [
      "=============================================================\n",
      "epoch: 10, source_val_acc_label: 0.8663, target_val_acc_label: 0.8250, source_val_label_loss: 0.3643, target_val_label_loss: 1.7751, \n",
      "=============================================================\n"
     ]
    },
    {
     "name": "stdout",
     "output_type": "stream",
     "text": [
      "epoch: 11, [batch: 1 / 6720], examples_per_second: 5.2541, train_label_loss: 0.2546, \n"
     ]
    },
    {
     "name": "stdout",
     "output_type": "stream",
     "text": [
      "epoch: 11, [batch: 672 / 6720], examples_per_second: 3628.3458, train_label_loss: 0.7201, \n"
     ]
    },
    {
     "name": "stdout",
     "output_type": "stream",
     "text": [
      "epoch: 11, [batch: 1344 / 6720], examples_per_second: 3631.1115, train_label_loss: 0.2198, \n"
     ]
    },
    {
     "name": "stdout",
     "output_type": "stream",
     "text": [
      "epoch: 11, [batch: 2016 / 6720], examples_per_second: 3648.2324, train_label_loss: 0.3598, \n"
     ]
    },
    {
     "name": "stdout",
     "output_type": "stream",
     "text": [
      "epoch: 11, [batch: 2688 / 6720], examples_per_second: 3636.1673, train_label_loss: 0.1930, \n"
     ]
    },
    {
     "name": "stdout",
     "output_type": "stream",
     "text": [
      "epoch: 11, [batch: 3360 / 6720], examples_per_second: 3638.3558, train_label_loss: 0.4635, \n"
     ]
    },
    {
     "name": "stdout",
     "output_type": "stream",
     "text": [
      "epoch: 11, [batch: 4032 / 6720], examples_per_second: 3638.7116, train_label_loss: 0.3678, \n"
     ]
    },
    {
     "name": "stdout",
     "output_type": "stream",
     "text": [
      "epoch: 11, [batch: 4704 / 6720], examples_per_second: 3632.7452, train_label_loss: 0.2101, \n"
     ]
    },
    {
     "name": "stdout",
     "output_type": "stream",
     "text": [
      "epoch: 11, [batch: 5376 / 6720], examples_per_second: 3626.8704, train_label_loss: 0.2286, \n"
     ]
    },
    {
     "name": "stdout",
     "output_type": "stream",
     "text": [
      "epoch: 11, [batch: 6048 / 6720], examples_per_second: 3641.5956, train_label_loss: 0.5840, \n"
     ]
    },
    {
     "name": "stdout",
     "output_type": "stream",
     "text": [
      "=============================================================\n",
      "epoch: 11, source_val_acc_label: 0.8777, target_val_acc_label: 0.8339, source_val_label_loss: 0.3365, target_val_label_loss: 1.8328, \n",
      "=============================================================\n"
     ]
    },
    {
     "name": "stdout",
     "output_type": "stream",
     "text": [
      "Patience (3) exhausted\n"
     ]
    }
   ],
   "source": [
    "###################################\n",
    "# train\n",
    "###################################\n",
    "jig = PTN_Train_Eval_Test_Jig(model, p.BEST_MODEL_PATH, p.device)\n",
    "\n",
    "jig.train(\n",
    "    train_iterable=datasets.source.processed.train,\n",
    "    source_val_iterable=datasets.source.processed.val,\n",
    "    target_val_iterable=datasets.target.processed.val,\n",
    "    num_epochs=p.n_epoch,\n",
    "    num_logs_per_epoch=p.NUM_LOGS_PER_EPOCH,\n",
    "    patience=p.patience,\n",
    "    optimizer=optimizer,\n",
    "    criteria_for_best=p.criteria_for_best,\n",
    ")"
   ]
  },
  {
   "cell_type": "code",
   "execution_count": 23,
   "id": "31e8fabf",
   "metadata": {
    "execution": {
     "iopub.execute_input": "2022-03-25T11:03:02.875448Z",
     "iopub.status.busy": "2022-03-25T11:03:02.875193Z",
     "iopub.status.idle": "2022-03-25T11:03:02.895774Z",
     "shell.execute_reply": "2022-03-25T11:03:02.895299Z"
    },
    "papermill": {
     "duration": 0.059594,
     "end_time": "2022-03-25T11:03:02.895881",
     "exception": false,
     "start_time": "2022-03-25T11:03:02.836287",
     "status": "completed"
    },
    "tags": []
   },
   "outputs": [],
   "source": [
    "total_experiment_time_secs = time.time() - start_time_secs"
   ]
  },
  {
   "cell_type": "code",
   "execution_count": 24,
   "id": "87b9595b",
   "metadata": {
    "execution": {
     "iopub.execute_input": "2022-03-25T11:03:02.979869Z",
     "iopub.status.busy": "2022-03-25T11:03:02.979254Z",
     "iopub.status.idle": "2022-03-25T11:04:34.699862Z",
     "shell.execute_reply": "2022-03-25T11:04:34.700257Z"
    },
    "papermill": {
     "duration": 91.763232,
     "end_time": "2022-03-25T11:04:34.700385",
     "exception": false,
     "start_time": "2022-03-25T11:03:02.937153",
     "status": "completed"
    },
    "tags": []
   },
   "outputs": [],
   "source": [
    "###################################\n",
    "# Evaluate the model\n",
    "###################################\n",
    "source_test_label_accuracy, source_test_label_loss = jig.test(datasets.source.processed.test)\n",
    "target_test_label_accuracy, target_test_label_loss = jig.test(datasets.target.processed.test)\n",
    "\n",
    "source_val_label_accuracy, source_val_label_loss = jig.test(datasets.source.processed.val)\n",
    "target_val_label_accuracy, target_val_label_loss = jig.test(datasets.target.processed.val)\n",
    "\n",
    "history = jig.get_history()\n",
    "\n",
    "total_epochs_trained = len(history[\"epoch_indices\"])\n",
    "\n",
    "val_dl = Iterable_Aggregator((datasets.source.original.val,datasets.target.original.val))\n",
    "\n",
    "confusion = ptn_confusion_by_domain_over_dataloader(model, p.device, val_dl)\n",
    "per_domain_accuracy = per_domain_accuracy_from_confusion(confusion)\n",
    "\n",
    "# Add a key to per_domain_accuracy for if it was a source domain\n",
    "for domain, accuracy in per_domain_accuracy.items():\n",
    "    per_domain_accuracy[domain] = {\n",
    "        \"accuracy\": accuracy,\n",
    "        \"source?\": domain in p.domains_source\n",
    "    }\n",
    "\n",
    "# Do an independent accuracy assesment JUST TO BE SURE!\n",
    "# _source_test_label_accuracy = independent_accuracy_assesment(model, datasets.source.processed.test, p.device)\n",
    "# _target_test_label_accuracy = independent_accuracy_assesment(model, datasets.target.processed.test, p.device)\n",
    "# _source_val_label_accuracy = independent_accuracy_assesment(model, datasets.source.processed.val, p.device)\n",
    "# _target_val_label_accuracy = independent_accuracy_assesment(model, datasets.target.processed.val, p.device)\n",
    "\n",
    "# assert(_source_test_label_accuracy == source_test_label_accuracy)\n",
    "# assert(_target_test_label_accuracy == target_test_label_accuracy)\n",
    "# assert(_source_val_label_accuracy == source_val_label_accuracy)\n",
    "# assert(_target_val_label_accuracy == target_val_label_accuracy)\n",
    "\n",
    "experiment = {\n",
    "    \"experiment_name\": p.experiment_name,\n",
    "    \"parameters\": dict(p),\n",
    "    \"results\": {\n",
    "        \"source_test_label_accuracy\": source_test_label_accuracy,\n",
    "        \"source_test_label_loss\": source_test_label_loss,\n",
    "        \"target_test_label_accuracy\": target_test_label_accuracy,\n",
    "        \"target_test_label_loss\": target_test_label_loss,\n",
    "        \"source_val_label_accuracy\": source_val_label_accuracy,\n",
    "        \"source_val_label_loss\": source_val_label_loss,\n",
    "        \"target_val_label_accuracy\": target_val_label_accuracy,\n",
    "        \"target_val_label_loss\": target_val_label_loss,\n",
    "        \"total_epochs_trained\": total_epochs_trained,\n",
    "        \"total_experiment_time_secs\": total_experiment_time_secs,\n",
    "        \"confusion\": confusion,\n",
    "        \"per_domain_accuracy\": per_domain_accuracy,\n",
    "    },\n",
    "    \"history\": history,\n",
    "    \"dataset_metrics\": get_dataset_metrics(datasets, \"ptn\"),\n",
    "}"
   ]
  },
  {
   "cell_type": "code",
   "execution_count": 25,
   "id": "54a21829",
   "metadata": {
    "execution": {
     "iopub.execute_input": "2022-03-25T11:04:34.810751Z",
     "iopub.status.busy": "2022-03-25T11:04:34.810401Z",
     "iopub.status.idle": "2022-03-25T11:04:34.939377Z",
     "shell.execute_reply": "2022-03-25T11:04:34.939783Z"
    },
    "papermill": {
     "duration": 0.196018,
     "end_time": "2022-03-25T11:04:34.939912",
     "exception": false,
     "start_time": "2022-03-25T11:04:34.743894",
     "status": "completed"
    },
    "tags": []
   },
   "outputs": [
    {
     "data": {
      "image/png": "[encoded data removed]",
      "text/plain": [
       "<Figure size 1080x504 with 1 Axes>"
      ]
     },
     "metadata": {
      "needs_background": "light"
     },
     "output_type": "display_data"
    }
   ],
   "source": [
    "ax = get_loss_curve(experiment)\n",
    "plt.show()"
   ]
  },
  {
   "cell_type": "code",
   "execution_count": 26,
   "id": "fd8a0f60",
   "metadata": {
    "execution": {
     "iopub.execute_input": "2022-03-25T11:04:35.027549Z",
     "iopub.status.busy": "2022-03-25T11:04:35.020833Z",
     "iopub.status.idle": "2022-03-25T11:04:35.162934Z",
     "shell.execute_reply": "2022-03-25T11:04:35.162545Z"
    },
    "papermill": {
     "duration": 0.181942,
     "end_time": "2022-03-25T11:04:35.163047",
     "exception": false,
     "start_time": "2022-03-25T11:04:34.981105",
     "status": "completed"
    },
    "tags": []
   },
   "outputs": [
    {
     "data": {
      "text/plain": [
       "<AxesSubplot:title={'center':'Results'}>"
      ]
     },
     "execution_count": 26,
     "metadata": {},
     "output_type": "execute_result"
    },
    {
     "data": {
      "image/png": "[encoded data removed]",
      "text/plain": [
       "<Figure size 1080x504 with 1 Axes>"
      ]
     },
     "metadata": {
      "needs_background": "light"
     },
     "output_type": "display_data"
    }
   ],
   "source": [
    "get_results_table(experiment)"
   ]
  },
  {
   "cell_type": "code",
   "execution_count": 27,
   "id": "cf8dc689",
   "metadata": {
    "execution": {
     "iopub.execute_input": "2022-03-25T11:04:35.251891Z",
     "iopub.status.busy": "2022-03-25T11:04:35.251630Z",
     "iopub.status.idle": "2022-03-25T11:04:35.387840Z",
     "shell.execute_reply": "2022-03-25T11:04:35.387388Z"
    },
    "papermill": {
     "duration": 0.17937,
     "end_time": "2022-03-25T11:04:35.387931",
     "exception": false,
     "start_time": "2022-03-25T11:04:35.208561",
     "status": "completed"
    },
    "tags": []
   },
   "outputs": [
    {
     "data": {
      "text/plain": [
       "<AxesSubplot:title={'center':'Per Domain Validation Accuracy'}, xlabel='domain'>"
      ]
     },
     "execution_count": 27,
     "metadata": {},
     "output_type": "execute_result"
    },
    {
     "data": {
      "image/png": "[encoded data removed]",
      "text/plain": [
       "<Figure size 1080x504 with 1 Axes>"
      ]
     },
     "metadata": {
      "needs_background": "light"
     },
     "output_type": "display_data"
    }
   ],
   "source": [
    "get_domain_accuracies(experiment)"
   ]
  },
  {
   "cell_type": "code",
   "execution_count": 28,
   "id": "a74ae082",
   "metadata": {
    "execution": {
     "iopub.execute_input": "2022-03-25T11:04:35.473258Z",
     "iopub.status.busy": "2022-03-25T11:04:35.472842Z",
     "iopub.status.idle": "2022-03-25T11:04:35.489887Z",
     "shell.execute_reply": "2022-03-25T11:04:35.489498Z"
    },
    "papermill": {
     "duration": 0.059028,
     "end_time": "2022-03-25T11:04:35.489976",
     "exception": false,
     "start_time": "2022-03-25T11:04:35.430948",
     "status": "completed"
    },
    "tags": []
   },
   "outputs": [
    {
     "name": "stdout",
     "output_type": "stream",
     "text": [
      "Source Test Label Accuracy: 0.8438802083333333 Target Test Label Accuracy: 0.8534784434490481\n",
      "Source Val Label Accuracy: 0.8430989583333334 Target Val Label Accuracy: 0.8558352402745996\n"
     ]
    }
   ],
   "source": [
    "print(\"Source Test Label Accuracy:\", experiment[\"results\"][\"source_test_label_accuracy\"], \"Target Test Label Accuracy:\", experiment[\"results\"][\"target_test_label_accuracy\"])\n",
    "print(\"Source Val Label Accuracy:\", experiment[\"results\"][\"source_val_label_accuracy\"], \"Target Val Label Accuracy:\", experiment[\"results\"][\"target_val_label_accuracy\"])"
   ]
  },
  {
   "cell_type": "code",
   "execution_count": 29,
   "id": "dacca602",
   "metadata": {
    "execution": {
     "iopub.execute_input": "2022-03-25T11:04:35.585132Z",
     "iopub.status.busy": "2022-03-25T11:04:35.576611Z",
     "iopub.status.idle": "2022-03-25T11:04:35.597942Z",
     "shell.execute_reply": "2022-03-25T11:04:35.598328Z"
    },
    "papermill": {
     "duration": 0.06421,
     "end_time": "2022-03-25T11:04:35.598433",
     "exception": false,
     "start_time": "2022-03-25T11:04:35.534223",
     "status": "completed"
    },
    "tags": [
     "experiment_json"
    ]
   },
   "outputs": [
    {
     "data": {
      "text/plain": [
       "'{\"experiment_name\": \"tl_3Av2:oracle.run1.framed -> cores\", \"parameters\": {\"experiment_name\": \"tl_3Av2:oracle.run1.framed -> cores\", \"device\": \"cuda\", \"lr\": 0.0001, \"x_shape\": [2, 200], \"n_shot\": 3, \"n_query\": 2, \"train_k_factor\": 3, \"val_k_factor\": 2, \"test_k_factor\": 2, \"torch_default_dtype\": \"torch.float32\", \"n_epoch\": 50, \"patience\": 3, \"criteria_for_best\": \"target_accuracy\", \"x_net\": [{\"class\": \"nnReshape\", \"kargs\": {\"shape\": [-1, 1, 2, 200]}}, {\"class\": \"Conv2d\", \"kargs\": {\"in_channels\": 1, \"out_channels\": 256, \"kernel_size\": [1, 7], \"bias\": false, \"padding\": [0, 3]}}, {\"class\": \"ReLU\", \"kargs\": {\"inplace\": true}}, {\"class\": \"BatchNorm2d\", \"kargs\": {\"num_features\": 256}}, {\"class\": \"Conv2d\", \"kargs\": {\"in_channels\": 256, \"out_channels\": 80, \"kernel_size\": [2, 7], \"bias\": true, \"padding\": [0, 3]}}, {\"class\": \"ReLU\", \"kargs\": {\"inplace\": true}}, {\"class\": \"BatchNorm2d\", \"kargs\": {\"num_features\": 80}}, {\"class\": \"Flatten\", \"kargs\": {}}, {\"class\": \"Linear\", \"kargs\": {\"in_features\": 16000, \"out_features\": 256}}, {\"class\": \"ReLU\", \"kargs\": {\"inplace\": true}}, {\"class\": \"BatchNorm1d\", \"kargs\": {\"num_features\": 256}}, {\"class\": \"Linear\", \"kargs\": {\"in_features\": 256, \"out_features\": 256}}], \"NUM_LOGS_PER_EPOCH\": 10, \"BEST_MODEL_PATH\": \"./best_model.pth\", \"n_way\": 16, \"datasets\": [{\"labels\": [\"1-10.\", \"1-11.\", \"1-15.\", \"1-16.\", \"1-17.\", \"1-18.\", \"1-19.\", \"10-4.\", \"10-7.\", \"11-1.\", \"11-14.\", \"11-17.\", \"11-20.\", \"11-7.\", \"13-20.\", \"13-8.\", \"14-10.\", \"14-11.\", \"14-14.\", \"14-7.\", \"15-1.\", \"15-20.\", \"16-1.\", \"16-16.\", \"17-10.\", \"17-11.\", \"17-2.\", \"19-1.\", \"19-16.\", \"19-19.\", \"19-20.\", \"19-3.\", \"2-10.\", \"2-11.\", \"2-17.\", \"2-18.\", \"2-20.\", \"2-3.\", \"2-4.\", \"2-5.\", \"2-6.\", \"2-7.\", \"2-8.\", \"3-13.\", \"3-18.\", \"3-3.\", \"4-1.\", \"4-10.\", \"4-11.\", \"4-19.\", \"5-5.\", \"6-15.\", \"7-10.\", \"7-14.\", \"8-18.\", \"8-20.\", \"8-3.\", \"8-8.\"], \"domains\": [1, 2, 3, 4, 5], \"num_examples_per_domain_per_label\": -1, \"pickle_path\": \"/mnt/wd500GB/CSC500/csc500-main/datasets/cores.stratified_ds.2022A.pkl\", \"source_or_target_dataset\": \"target\", \"x_transforms\": [\"unit_power\", \"take_200\"], \"episode_transforms\": [], \"domain_prefix\": \"C_\"}, {\"labels\": [\"3123D52\", \"3123D65\", \"3123D79\", \"3123D80\", \"3123D54\", \"3123D70\", \"3123D7B\", \"3123D89\", \"3123D58\", \"3123D76\", \"3123D7D\", \"3123EFE\", \"3123D64\", \"3123D78\", \"3123D7E\", \"3124E4A\"], \"domains\": [32, 38, 8, 44, 14, 50, 20, 26], \"num_examples_per_domain_per_label\": 2000, \"pickle_path\": \"/mnt/wd500GB/CSC500/csc500-main/datasets/oracle.Run1_framed_2000Examples_stratified_ds.2022A.pkl\", \"source_or_target_dataset\": \"source\", \"x_transforms\": [\"unit_power\", \"take_200\", \"resample_20Msps_to_25Msps\"], \"episode_transforms\": [], \"domain_prefix\": \"O_\"}], \"seed\": 154325, \"dataset_seed\": 154325, \"domains_source\": [\"O_32\", \"O_38\", \"O_8\", \"O_44\", \"O_14\", \"O_50\", \"O_20\", \"O_26\"], \"domains_target\": [\"C_1\", \"C_2\", \"C_3\", \"C_4\", \"C_5\"]}, \"results\": {\"source_test_label_accuracy\": 0.8438802083333333, \"source_test_label_loss\": 0.428705096244812, \"target_test_label_accuracy\": 0.8534784434490481, \"target_test_label_loss\": 1.1797555685043335, \"source_val_label_accuracy\": 0.8430989583333334, \"source_val_label_loss\": 0.42600300908088684, \"target_val_label_accuracy\": 0.8558352402745996, \"target_val_label_loss\": 1.204118013381958, \"total_epochs_trained\": 11, \"total_experiment_time_secs\": 1858.488921880722, \"confusion\": {\"O_8\": {\"13\": {\"10\": 32, \"13\": 115, \"4\": 46, \"0\": 29, \"14\": 8, \"6\": 8, \"7\": 2}, \"9\": {\"9\": 240}, \"15\": {\"15\": 225, \"12\": 15}, \"2\": {\"2\": 231, \"7\": 5, \"3\": 4}, \"3\": {\"2\": 3, \"3\": 229, \"12\": 8}, \"8\": {\"8\": 240}, \"5\": {\"1\": 6, \"5\": 228, \"14\": 3, \"10\": 3}, \"14\": {\"10\": 22, \"4\": 10, \"14\": 195, \"13\": 5, \"5\": 2, \"1\": 6}, \"1\": {\"1\": 233, \"14\": 5, \"5\": 1, \"11\": 1}, \"0\": {\"0\": 210, \"13\": 21, \"4\": 3, \"10\": 1, \"7\": 3, \"6\": 1, \"14\": 1}, \"10\": {\"10\": 219, \"13\": 9, \"14\": 10, \"4\": 2}, \"6\": {\"6\": 179, \"7\": 43, \"4\": 13, \"13\": 2, \"0\": 2, \"8\": 1}, \"11\": {\"11\": 231, \"1\": 9}, \"7\": {\"7\": 188, \"6\": 51, \"0\": 1}, \"4\": {\"4\": 194, \"13\": 21, \"14\": 10, \"6\": 13, \"10\": 1, \"0\": 1}, \"12\": {\"12\": 183, \"15\": 40, \"3\": 13, \"8\": 4}}, \"O_38\": {\"13\": {\"13\": 219, \"10\": 15, \"8\": 1, \"0\": 2, \"15\": 1, \"2\": 2}, \"12\": {\"12\": 237, \"4\": 3}, \"2\": {\"2\": 222, \"14\": 12, \"13\": 5, \"15\": 1}, \"9\": {\"9\": 227, \"6\": 6, \"5\": 6, \"7\": 1}, \"15\": {\"15\": 200, \"1\": 22, \"8\": 17, \"5\": 1}, \"5\": {\"5\": 160, \"8\": 35, \"7\": 28, \"6\": 1, \"10\": 2, \"9\": 7, \"0\": 4, \"13\": 1, \"15\": 1, \"1\": 1}, \"14\": {\"14\": 231, \"2\": 8, \"10\": 1}, \"0\": {\"0\": 187, \"10\": 7, \"3\": 12, \"7\": 11, \"5\": 2, \"8\": 20, \"13\": 1}, \"3\": {\"3\": 236, \"0\": 2, \"9\": 1, \"13\": 1}, \"1\": {\"1\": 226, \"15\": 14}, \"11\": {\"11\": 236, \"10\": 3, \"3\": 1}, \"7\": {\"7\": 200, \"5\": 18, \"10\": 2, \"8\": 10, \"0\": 9, \"9\": 1}, \"8\": {\"15\": 12, \"8\": 160, \"7\": 13, \"1\": 1, \"5\": 32, \"0\": 14, \"10\": 6, \"13\": 2}, \"4\": {\"4\": 240}, \"10\": {\"10\": 211, \"7\": 5, \"13\": 16, \"8\": 2, \"0\": 3, \"4\": 2, \"5\": 1}, \"6\": {\"6\": 234, \"9\": 6}}, \"O_26\": {\"10\": {\"0\": 60, \"10\": 127, \"8\": 26, \"6\": 7, \"14\": 10, \"4\": 8, \"9\": 1, \"7\": 1}, \"12\": {\"12\": 240}, \"1\": {\"1\": 205, \"0\": 2, \"14\": 19, \"4\": 4, \"10\": 2, \"7\": 2, \"3\": 3, \"8\": 3}, \"0\": {\"0\": 112, \"10\": 54, \"8\": 26, \"7\": 4, \"4\": 18, \"14\": 24, \"6\": 2}, \"15\": {\"6\": 6, \"15\": 169, \"9\": 27, \"4\": 1, \"7\": 9, \"8\": 14, \"13\": 8, \"10\": 4, \"0\": 1, \"2\": 1}, \"13\": {\"13\": 204, \"5\": 16, \"15\": 2, \"9\": 10, \"2\": 7, \"3\": 1}, \"8\": {\"8\": 115, \"0\": 33, \"10\": 36, \"14\": 14, \"15\": 5, \"4\": 15, \"7\": 14, \"2\": 2, \"1\": 2, \"6\": 2, \"9\": 1, \"5\": 1}, \"3\": {\"2\": 53, \"3\": 171, \"5\": 1, \"7\": 15}, \"11\": {\"11\": 240}, \"4\": {\"4\": 159, \"0\": 20, \"8\": 16, \"14\": 25, \"7\": 12, \"10\": 7, \"1\": 1}, \"6\": {\"6\": 215, \"9\": 13, \"8\": 4, \"15\": 5, \"13\": 1, \"10\": 2}, \"7\": {\"7\": 173, \"4\": 23, \"2\": 17, \"3\": 12, \"0\": 4, \"15\": 1, \"8\": 9, \"1\": 1}, \"14\": {\"0\": 35, \"10\": 16, \"14\": 145, \"1\": 13, \"8\": 14, \"4\": 14, \"7\": 3}, \"2\": {\"2\": 122, \"3\": 57, \"5\": 19, \"15\": 9, \"7\": 22, \"8\": 6, \"9\": 3, \"13\": 2}, \"5\": {\"15\": 1, \"5\": 223, \"13\": 6, \"9\": 3, \"2\": 5, \"3\": 1, \"8\": 1}, \"9\": {\"9\": 197, \"15\": 25, \"13\": 11, \"6\": 6, \"2\": 1}}, \"O_20\": {\"5\": {\"5\": 215, \"12\": 4, \"0\": 12, \"1\": 5, \"15\": 4}, \"15\": {\"15\": 213, \"1\": 13, \"0\": 12, \"5\": 2}, \"9\": {\"9\": 159, \"3\": 29, \"2\": 35, \"12\": 14, \"1\": 2, \"7\": 1}, \"7\": {\"7\": 210, \"2\": 14, \"8\": 7, \"4\": 3, \"13\": 1, \"3\": 4, \"9\": 1}, \"3\": {\"3\": 142, \"9\": 29, \"12\": 34, \"2\": 20, \"4\": 8, \"5\": 4, \"1\": 2, \"7\": 1}, \"8\": {\"8\": 220, \"7\": 8, \"4\": 12}, \"4\": {\"4\": 224, \"14\": 2, \"3\": 7, \"8\": 6, \"5\": 1}, \"6\": {\"6\": 226, \"14\": 13, \"7\": 1}, \"2\": {\"3\": 18, \"9\": 40, \"12\": 11, \"2\": 146, \"13\": 11, \"7\": 12, \"1\": 2}, \"12\": {\"12\": 149, \"3\": 37, \"9\": 8, \"1\": 36, \"4\": 1, \"5\": 4, \"2\": 5}, \"0\": {\"0\": 205, \"5\": 15, \"15\": 16, \"8\": 1, \"12\": 2, \"1\": 1}, \"13\": {\"13\": 226, \"2\": 8, \"15\": 5, \"9\": 1}, \"10\": {\"10\": 236, \"14\": 4}, \"11\": {\"11\": 240}, \"14\": {\"14\": 229, \"6\": 10, \"10\": 1}, \"1\": {\"12\": 54, \"1\": 155, \"5\": 14, \"0\": 2, \"3\": 2, \"15\": 11, \"9\": 1, \"13\": 1}}, \"O_50\": {\"1\": {\"1\": 210, \"15\": 18, \"6\": 2, \"11\": 3, \"4\": 4, \"13\": 2, \"5\": 1}, \"2\": {\"2\": 219, \"0\": 21}, \"8\": {\"8\": 236, \"3\": 4}, \"7\": {\"7\": 208, \"13\": 10, \"5\": 18, \"6\": 3, \"4\": 1}, \"14\": {\"14\": 240}, \"6\": {\"6\": 211, \"13\": 11, \"4\": 5, \"15\": 4, \"1\": 4, \"7\": 4, \"5\": 1}, \"3\": {\"3\": 235, \"8\": 5}, \"4\": {\"4\": 172, \"6\": 7, \"5\": 35, \"15\": 19, \"1\": 3, \"7\": 4}, \"12\": {\"12\": 223, \"11\": 7, \"9\": 10}, \"15\": {\"15\": 198, \"1\": 13, \"4\": 13, \"11\": 12, \"6\": 4}, \"11\": {\"11\": 209, \"15\": 23, \"1\": 1, \"12\": 3, \"9\": 4}, \"0\": {\"0\": 203, \"2\": 26, \"10\": 10, \"13\": 1}, \"9\": {\"9\": 229, \"11\": 7, \"12\": 4}, \"10\": {\"10\": 213, \"7\": 1, \"8\": 6, \"0\": 10, \"13\": 10}, \"5\": {\"13\": 16, \"5\": 165, \"4\": 30, \"7\": 18, \"1\": 7, \"6\": 4}, \"13\": {\"13\": 203, \"6\": 12, \"5\": 11, \"1\": 2, \"0\": 2, \"10\": 5, \"7\": 5}}, \"O_32\": {\"2\": {\"4\": 51, \"2\": 183, \"7\": 2, \"0\": 2, \"5\": 2}, \"6\": {\"6\": 240}, \"5\": {\"5\": 154, \"13\": 6, \"7\": 51, \"14\": 2, \"8\": 7, \"3\": 11, \"4\": 6, \"0\": 3}, \"12\": {\"12\": 240}, \"13\": {\"5\": 6, \"3\": 22, \"13\": 181, \"4\": 15, \"14\": 1, \"7\": 10, \"8\": 4, \"11\": 1}, \"9\": {\"9\": 240}, \"11\": {\"11\": 235, \"14\": 3, \"13\": 1, \"3\": 1}, \"1\": {\"1\": 238, \"10\": 2}, \"3\": {\"3\": 235, \"13\": 5}, \"7\": {\"7\": 161, \"13\": 6, \"5\": 46, \"4\": 13, \"14\": 9, \"8\": 2, \"2\": 1, \"11\": 2}, \"14\": {\"14\": 194, \"0\": 17, \"7\": 12, \"5\": 2, \"8\": 4, \"11\": 10, \"3\": 1}, \"8\": {\"8\": 198, \"13\": 10, \"0\": 17, \"5\": 10, \"14\": 4, \"3\": 1}, \"4\": {\"4\": 186, \"13\": 8, \"7\": 15, \"2\": 28, \"5\": 3}, \"0\": {\"0\": 193, \"8\": 23, \"5\": 3, \"14\": 14, \"7\": 5, \"4\": 1, \"13\": 1}, \"10\": {\"10\": 237, \"1\": 3}, \"15\": {\"15\": 240}}, \"O_44\": {\"13\": {\"13\": 177, \"6\": 30, \"11\": 3, \"9\": 30}, \"4\": {\"4\": 184, \"14\": 49, \"15\": 5, \"13\": 2}, \"6\": {\"6\": 171, \"13\": 40, \"9\": 25, \"7\": 3, \"11\": 1}, \"0\": {\"8\": 61, \"0\": 158, \"15\": 17, \"5\": 4}, \"10\": {\"10\": 204, \"1\": 25, \"2\": 7, \"7\": 1, \"12\": 3}, \"7\": {\"7\": 162, \"2\": 28, \"9\": 42, \"6\": 7, \"13\": 1}, \"14\": {\"4\": 65, \"14\": 150, \"15\": 20, \"5\": 5}, \"15\": {\"15\": 198, \"8\": 3, \"14\": 18, \"4\": 2, \"0\": 17, \"5\": 2}, \"5\": {\"5\": 203, \"0\": 13, \"15\": 12, \"8\": 4, \"14\": 7, \"4\": 1}, \"2\": {\"2\": 182, \"7\": 35, \"1\": 10, \"10\": 12, \"3\": 1}, \"9\": {\"7\": 45, \"9\": 133, \"13\": 36, \"6\": 22, \"2\": 4}, \"12\": {\"12\": 210, \"1\": 26, \"3\": 3, \"10\": 1}, \"8\": {\"8\": 146, \"0\": 80, \"15\": 5, \"5\": 9}, \"3\": {\"3\": 231, \"1\": 7, \"12\": 2}, \"1\": {\"1\": 167, \"3\": 16, \"10\": 17, \"2\": 17, \"12\": 23}, \"11\": {\"11\": 237, \"13\": 3}}, \"O_14\": {\"1\": {\"1\": 226, \"5\": 14}, \"15\": {\"15\": 239, \"7\": 1}, \"10\": {\"10\": 238, \"0\": 2}, \"2\": {\"3\": 11, \"2\": 154, \"5\": 18, \"14\": 44, \"6\": 10, \"4\": 1, \"13\": 1, \"1\": 1}, \"9\": {\"9\": 240}, \"5\": {\"5\": 193, \"4\": 16, \"3\": 2, \"14\": 2, \"1\": 15, \"2\": 12}, \"7\": {\"7\": 240}, \"13\": {\"13\": 151, \"6\": 71, \"14\": 11, \"3\": 1, \"4\": 3, \"2\": 2, \"5\": 1}, \"8\": {\"8\": 240}, \"6\": {\"6\": 188, \"13\": 44, \"14\": 6, \"2\": 2}, \"3\": {\"3\": 229, \"14\": 3, \"2\": 4, \"4\": 2, \"5\": 2}, \"12\": {\"12\": 240}, \"0\": {\"0\": 233, \"11\": 1, \"10\": 2, \"3\": 4}, \"4\": {\"4\": 228, \"5\": 8, \"13\": 1, \"6\": 1, \"1\": 2}, \"14\": {\"14\": 207, \"2\": 25, \"13\": 6, \"6\": 2}, \"11\": {\"11\": 234, \"0\": 1, \"9\": 5}}, \"C_2\": {\"21\": {\"21\": 96, \"3\": 2, \"53\": 6, \"46\": 1, \"54\": 6, \"51\": 4, \"12\": 1, \"50\": 1, \"20\": 1, \"48\": 1, \"47\": 1}, \"4\": {\"4\": 109, \"19\": 3, \"9\": 12, \"33\": 1, \"55\": 1, \"29\": 1, \"32\": 1, \"40\": 1, \"45\": 1}, \"6\": {\"6\": 92, \"54\": 4, \"48\": 7, \"39\": 1, \"17\": 4, \"50\": 3, \"7\": 1, \"12\": 2, \"57\": 1, \"0\": 1, \"46\": 2, \"47\": 1, \"30\": 2, \"1\": 1, \"25\": 1, \"20\": 1}, \"10\": {\"10\": 100, \"38\": 1, \"24\": 7, \"43\": 3, \"11\": 1}, \"33\": {\"33\": 26, \"19\": 1, \"29\": 1}, \"56\": {\"56\": 94, \"31\": 1, \"55\": 3, \"43\": 6, \"22\": 17, \"10\": 1}, \"20\": {\"20\": 115, \"53\": 5, \"12\": 1, \"46\": 1, \"50\": 3, \"8\": 4, \"3\": 1, \"54\": 2}, \"24\": {\"24\": 87, \"43\": 4, \"10\": 5}, \"45\": {\"4\": 4, \"54\": 6, \"26\": 2, \"45\": 67, \"53\": 4, \"36\": 2, \"27\": 2, \"6\": 2, \"50\": 5, \"20\": 3, \"40\": 3, \"19\": 2, \"12\": 3, \"25\": 8, \"29\": 3, \"9\": 5, \"33\": 2, \"3\": 2, \"8\": 1, \"51\": 2}, \"32\": {\"32\": 28}, \"27\": {\"27\": 142, \"50\": 2, \"8\": 1, \"36\": 2, \"3\": 1}, \"53\": {\"53\": 120, \"50\": 2, \"20\": 3, \"51\": 10, \"46\": 1}, \"8\": {\"8\": 146, \"50\": 7, \"36\": 1, \"20\": 2, \"25\": 1, \"3\": 2, \"6\": 1}, \"54\": {\"54\": 104, \"50\": 4}, \"50\": {\"50\": 75, \"54\": 7, \"8\": 11, \"6\": 1, \"36\": 11, \"7\": 1, \"46\": 2, \"53\": 3, \"20\": 3, \"3\": 4, \"25\": 11, \"51\": 2, \"34\": 1, \"26\": 1, \"29\": 1}, \"44\": {\"44\": 85, \"40\": 7, \"35\": 1, \"3\": 1, \"19\": 4, \"53\": 1, \"4\": 1}, \"5\": {\"5\": 99, \"42\": 2, \"1\": 4, \"46\": 4, \"43\": 1, \"56\": 1, \"25\": 1, \"47\": 3, \"52\": 1, \"55\": 2, \"57\": 2}, \"38\": {\"38\": 20}, \"19\": {\"19\": 111, \"55\": 1, \"40\": 4, \"29\": 4, \"9\": 7, \"4\": 4, \"27\": 1}, \"1\": {\"1\": 91, \"5\": 1, \"57\": 12, \"46\": 2, \"50\": 1, \"48\": 1, \"47\": 1, \"3\": 1, \"55\": 1, \"6\": 1}, \"30\": {\"30\": 143, \"48\": 1}, \"15\": {\"15\": 135, \"16\": 6, \"23\": 2, \"18\": 1}, \"23\": {\"23\": 138, \"18\": 3, \"30\": 1, \"0\": 2, \"52\": 2}, \"35\": {\"35\": 31, \"44\": 1}, \"22\": {\"22\": 117, \"56\": 9, \"10\": 1, \"43\": 1}, \"40\": {\"40\": 114, \"44\": 8, \"35\": 1, \"19\": 14, \"45\": 1, \"29\": 2}, \"46\": {\"46\": 82, \"50\": 5, \"39\": 1, \"42\": 1, \"53\": 5, \"17\": 2, \"2\": 1, \"6\": 6, \"54\": 7, \"7\": 2, \"3\": 4, \"48\": 4, \"21\": 1, \"9\": 1, \"25\": 1, \"55\": 1, \"1\": 1, \"57\": 1}, \"3\": {\"3\": 44, \"25\": 6, \"49\": 1, \"1\": 1, \"51\": 2, \"17\": 2, \"4\": 6, \"48\": 1, \"36\": 3, \"46\": 4, \"6\": 2, \"50\": 4, \"53\": 1, \"57\": 3, \"27\": 2, \"39\": 2, \"20\": 3, \"9\": 2, \"55\": 1, \"8\": 1, \"29\": 1}, \"48\": {\"48\": 138, \"6\": 4, \"57\": 1, \"47\": 2, \"7\": 1, \"28\": 1, \"0\": 1}, \"52\": {\"52\": 121, \"23\": 2, \"28\": 1}, \"2\": {\"2\": 30, \"6\": 1, \"21\": 1}, \"26\": {\"26\": 23, \"12\": 1}, \"17\": {\"17\": 94, \"57\": 4, \"48\": 1, \"7\": 1, \"20\": 1, \"47\": 1, \"3\": 1, \"8\": 1}, \"55\": {\"55\": 122, \"3\": 1, \"31\": 3, \"49\": 1, \"42\": 1, \"7\": 2, \"57\": 3, \"46\": 5, \"17\": 1, \"2\": 2, \"5\": 3}, \"51\": {\"51\": 106, \"20\": 3, \"50\": 2, \"53\": 10, \"21\": 1}, \"42\": {\"42\": 29, \"49\": 1, \"39\": 1, \"53\": 1, \"57\": 2, \"1\": 1, \"54\": 1}, \"41\": {\"41\": 19, \"28\": 1}, \"31\": {\"31\": 25, \"5\": 1, \"55\": 2}, \"16\": {\"16\": 114, \"43\": 1, \"15\": 8, \"52\": 5, \"11\": 7, \"30\": 1, \"23\": 2}, \"36\": {\"36\": 114, \"27\": 2}, \"49\": {\"49\": 19, \"3\": 1, \"34\": 1, \"7\": 1, \"50\": 1, \"25\": 1}, \"0\": {\"18\": 3, \"0\": 38, \"47\": 3, \"23\": 2, \"30\": 1, \"39\": 1}, \"18\": {\"18\": 47, \"23\": 1}, \"25\": {\"25\": 143, \"50\": 3}, \"9\": {\"9\": 108, \"46\": 1, \"29\": 9, \"19\": 2, \"51\": 1, \"20\": 1}, \"47\": {\"47\": 111, \"5\": 5, \"7\": 2, \"17\": 4, \"57\": 6, \"48\": 2, \"25\": 1, \"46\": 1}, \"7\": {\"1\": 1, \"3\": 1, \"7\": 29, \"47\": 4, \"57\": 1}, \"37\": {\"37\": 36}, \"13\": {\"13\": 113, \"22\": 1, \"38\": 1, \"56\": 1}, \"14\": {\"1\": 3, \"5\": 2, \"14\": 8, \"29\": 1, \"24\": 1, \"40\": 2, \"28\": 2, \"10\": 2, \"55\": 1, \"43\": 1, \"0\": 1}, \"34\": {\"34\": 26, \"7\": 1, \"49\": 1}, \"57\": {\"7\": 1, \"57\": 131, \"48\": 1, \"5\": 1, \"47\": 4, \"17\": 1, \"1\": 1}, \"11\": {\"11\": 110, \"43\": 6, \"16\": 12, \"15\": 5, \"10\": 1, \"52\": 4}, \"39\": {\"39\": 28}, \"12\": {\"12\": 91, \"6\": 1}, \"28\": {\"28\": 28}, \"29\": {\"29\": 102, \"4\": 1, \"9\": 15, \"19\": 6, \"46\": 1, \"20\": 1, \"55\": 2}, \"43\": {\"43\": 131, \"24\": 5, \"10\": 2, \"11\": 2}}, \"C_5\": {\"12\": {\"12\": 79, \"9\": 1, \"38\": 3, \"48\": 1, \"7\": 3, \"45\": 1, \"30\": 1, \"6\": 2, \"17\": 1, \"25\": 1, \"55\": 1, \"4\": 1, \"20\": 1}, \"8\": {\"8\": 130, \"6\": 3, \"39\": 1, \"50\": 3, \"20\": 3, \"42\": 1, \"1\": 1}, \"29\": {\"29\": 113, \"28\": 3, \"35\": 1, \"19\": 3, \"44\": 5, \"5\": 2, \"50\": 1, \"40\": 1, \"22\": 2, \"33\": 1}, \"57\": {\"57\": 119, \"47\": 3, \"6\": 1, \"46\": 3}, \"38\": {\"38\": 32}, \"23\": {\"23\": 120, \"18\": 2, \"52\": 1, \"54\": 1}, \"56\": {\"56\": 126, \"10\": 3, \"22\": 2, \"24\": 1, \"36\": 2, \"14\": 1, \"11\": 2, \"13\": 1}, \"49\": {\"49\": 34, \"36\": 1, \"31\": 1}, \"4\": {\"4\": 87, \"26\": 2, \"12\": 3, \"55\": 1, \"19\": 3, \"45\": 2, \"50\": 2}, \"48\": {\"48\": 110, \"1\": 10, \"55\": 6, \"52\": 1, \"6\": 3, \"17\": 5, \"45\": 1}, \"21\": {\"21\": 136, \"53\": 5, \"50\": 2, \"48\": 1}, \"30\": {\"30\": 118, \"6\": 2, \"1\": 2, \"17\": 4, \"8\": 1, \"42\": 1}, \"1\": {\"48\": 19, \"1\": 108, \"47\": 1, \"18\": 4, \"54\": 2, \"52\": 1, \"23\": 3, \"17\": 6, \"30\": 3, \"57\": 1}, \"34\": {\"34\": 35, \"52\": 1}, \"35\": {\"35\": 36}, \"55\": {\"55\": 125, \"6\": 4, \"50\": 2, \"53\": 1, \"1\": 1, \"45\": 4, \"48\": 3, \"25\": 11, \"17\": 1}, \"5\": {\"5\": 101, \"44\": 7, \"27\": 2, \"40\": 5, \"29\": 4, \"19\": 1, \"4\": 2}, \"52\": {\"52\": 113, \"46\": 3, \"54\": 2, \"23\": 7, \"43\": 1}, \"6\": {\"6\": 100, \"50\": 1, \"1\": 11, \"9\": 1, \"20\": 1, \"25\": 2, \"17\": 5, \"48\": 3, \"27\": 1, \"55\": 2, \"8\": 1}, \"36\": {\"36\": 88, \"3\": 1, \"54\": 3}, \"41\": {\"41\": 28}, \"3\": {\"3\": 52, \"47\": 10, \"34\": 2, \"0\": 11, \"57\": 4, \"46\": 10, \"23\": 1, \"50\": 1, \"36\": 4, \"54\": 1, \"52\": 1, \"49\": 1, \"55\": 1, \"11\": 1}, \"28\": {\"28\": 27, \"14\": 1, \"19\": 1, \"36\": 1, \"34\": 1, \"41\": 1}, \"18\": {\"18\": 60, \"23\": 4}, \"25\": {\"25\": 132, \"8\": 1, \"50\": 2, \"6\": 1}, \"47\": {\"46\": 3, \"47\": 77, \"3\": 5, \"54\": 2, \"57\": 2, \"31\": 1, \"27\": 2, \"50\": 2, \"25\": 1, \"1\": 1, \"52\": 2, \"23\": 1, \"55\": 1}, \"13\": {\"13\": 142, \"10\": 10, \"22\": 1, \"29\": 1, \"5\": 1, \"36\": 1, \"56\": 2, \"44\": 1, \"40\": 1}, \"11\": {\"15\": 12, \"11\": 105, \"0\": 4, \"43\": 1, \"23\": 1, \"16\": 7, \"3\": 3, \"52\": 7, \"46\": 4}, \"53\": {\"53\": 124, \"6\": 1, \"20\": 7, \"48\": 2, \"34\": 1, \"25\": 1, \"8\": 1, \"51\": 3, \"50\": 2, \"1\": 1, \"17\": 1}, \"33\": {\"33\": 29, \"19\": 3}, \"46\": {\"46\": 109, \"2\": 2, \"47\": 6, \"23\": 7, \"0\": 5, \"48\": 1, \"3\": 5, \"11\": 1, \"57\": 2, \"1\": 2, \"52\": 2, \"39\": 1, \"42\": 1, \"36\": 2, \"18\": 2}, \"50\": {\"50\": 67, \"3\": 1, \"27\": 6, \"25\": 6, \"39\": 3, \"33\": 1, \"54\": 2, \"29\": 3, \"32\": 3, \"45\": 10, \"9\": 11, \"8\": 4, \"20\": 4, \"48\": 2, \"36\": 1, \"19\": 2, \"55\": 9, \"6\": 5, \"51\": 7, \"12\": 1}, \"10\": {\"10\": 60, \"13\": 7, \"24\": 1}, \"15\": {\"15\": 122, \"11\": 8, \"16\": 5, \"24\": 2, \"43\": 1}, \"44\": {\"44\": 107, \"19\": 3, \"34\": 1, \"29\": 7, \"5\": 8, \"27\": 1, \"40\": 12, \"43\": 1}, \"2\": {\"2\": 28}, \"7\": {\"7\": 27, \"12\": 2, \"55\": 1, \"6\": 1, \"17\": 1}, \"43\": {\"43\": 135, \"52\": 3}, \"32\": {\"32\": 28, \"53\": 1, \"1\": 1, \"48\": 2}, \"0\": {\"3\": 7, \"0\": 95, \"2\": 1, \"11\": 8, \"46\": 7, \"57\": 5, \"43\": 1}, \"39\": {\"34\": 1, \"39\": 18, \"41\": 1}, \"26\": {\"26\": 22, \"38\": 2}, \"27\": {\"27\": 91, \"50\": 4, \"9\": 16, \"20\": 1}, \"54\": {\"54\": 112}, \"17\": {\"17\": 96, \"48\": 9, \"30\": 7, \"53\": 1, \"1\": 3}, \"14\": {\"54\": 3, \"28\": 1, \"14\": 24, \"2\": 2, \"43\": 1, \"37\": 1, \"1\": 1, \"50\": 1, \"34\": 1, \"56\": 1, \"52\": 3, \"27\": 1, \"31\": 1, \"57\": 1, \"11\": 1, \"9\": 1}, \"16\": {\"43\": 5, \"16\": 120, \"24\": 3, \"15\": 5, \"11\": 11, \"23\": 2, \"52\": 2}, \"9\": {\"9\": 132, \"37\": 1, \"4\": 2, \"53\": 2, \"25\": 2, \"27\": 5, \"17\": 1, \"12\": 1, \"55\": 1, \"48\": 1}, \"19\": {\"19\": 139, \"29\": 6, \"33\": 2, \"4\": 1, \"50\": 1, \"5\": 3}, \"20\": {\"20\": 126, \"54\": 1, \"8\": 7, \"51\": 3, \"1\": 1}, \"37\": {\"37\": 23, \"14\": 1}, \"24\": {\"24\": 76, \"43\": 2, \"15\": 2}, \"40\": {\"40\": 86, \"9\": 3, \"36\": 1, \"29\": 6, \"33\": 1, \"5\": 7, \"44\": 11, \"4\": 4, \"27\": 1, \"22\": 1, \"45\": 1}, \"45\": {\"45\": 64, \"6\": 10, \"26\": 1, \"50\": 9, \"4\": 2, \"25\": 7, \"9\": 9, \"33\": 2, \"48\": 1, \"27\": 6, \"55\": 6, \"20\": 2, \"51\": 1, \"19\": 1, \"17\": 1, \"44\": 1, \"8\": 1}, \"22\": {\"22\": 27, \"56\": 1}, \"42\": {\"42\": 38, \"35\": 1, \"56\": 1}, \"51\": {\"51\": 106, \"50\": 3, \"9\": 1, \"25\": 3, \"53\": 4, \"21\": 1}, \"31\": {\"31\": 36}}, \"C_1\": {\"27\": {\"27\": 138, \"31\": 1, \"43\": 2, \"22\": 1}, \"2\": {\"2\": 36}, \"33\": {\"33\": 32}, \"45\": {\"45\": 145, \"42\": 6, \"1\": 2, \"56\": 1, \"32\": 1, \"19\": 1}, \"38\": {\"38\": 21, \"28\": 1, \"52\": 1, \"35\": 1}, \"4\": {\"4\": 124, \"14\": 1, \"40\": 2, \"51\": 1, \"29\": 1, \"6\": 1, \"46\": 2}, \"31\": {\"31\": 26, \"22\": 2}, \"55\": {\"55\": 103, \"45\": 7, \"54\": 5, \"9\": 3, \"42\": 2, \"13\": 4, \"12\": 2, \"0\": 4, \"20\": 2, \"38\": 1, \"34\": 2, \"56\": 1, \"25\": 2, \"52\": 1, \"3\": 1}, \"32\": {\"38\": 2, \"32\": 30}, \"57\": {\"57\": 96, \"35\": 1, \"19\": 11, \"45\": 1, \"1\": 12, \"56\": 16, \"20\": 1, \"44\": 1, \"29\": 1}, \"14\": {\"14\": 10, \"30\": 1, \"8\": 5, \"53\": 2, \"9\": 2, \"51\": 1, \"46\": 1, \"42\": 1, \"34\": 1}, \"16\": {\"16\": 128, \"54\": 3, \"0\": 3, \"36\": 1, \"15\": 3, \"22\": 1, \"11\": 1}, \"34\": {\"34\": 24}, \"56\": {\"45\": 5, \"56\": 71, \"35\": 1, \"57\": 20, \"19\": 7, \"29\": 1, \"1\": 5, \"47\": 6, \"44\": 7, \"33\": 1, \"42\": 1, \"52\": 1}, \"24\": {\"24\": 87, \"22\": 15, \"10\": 3, \"52\": 1, \"11\": 2}, \"30\": {\"30\": 105, \"17\": 1, \"46\": 2, \"9\": 2, \"8\": 2}, \"17\": {\"17\": 56, \"8\": 3, \"6\": 2, \"9\": 1, \"26\": 1, \"2\": 1}, \"13\": {\"13\": 122, \"20\": 5, \"51\": 5, \"3\": 4, \"12\": 1, \"40\": 1}, \"39\": {\"39\": 26, \"34\": 1, \"27\": 1}, \"50\": {\"50\": 146}, \"20\": {\"20\": 116, \"13\": 6, \"12\": 8, \"51\": 8, \"41\": 1, \"55\": 1}, \"41\": {\"41\": 24}, \"53\": {\"53\": 120, \"14\": 2, \"5\": 3, \"55\": 1}, \"48\": {\"48\": 121, \"8\": 2, \"46\": 1, \"6\": 6, \"50\": 8, \"9\": 1, \"5\": 2, \"2\": 1}, \"36\": {\"36\": 57, \"23\": 1, \"16\": 2, \"15\": 1, \"11\": 3}, \"8\": {\"17\": 4, \"8\": 121, \"30\": 6, \"14\": 1, \"9\": 2, \"5\": 2, \"26\": 1, \"25\": 2, \"45\": 1}, \"15\": {\"24\": 1, \"15\": 92, \"11\": 11, \"21\": 7, \"23\": 15, \"22\": 1, \"52\": 1, \"36\": 1, \"10\": 3}, \"40\": {\"40\": 135, \"29\": 14, \"4\": 3, \"57\": 2, \"44\": 1, \"13\": 1}, \"37\": {\"37\": 31, \"55\": 1}, \"21\": {\"21\": 117, \"15\": 2, \"23\": 1}, \"35\": {\"35\": 35, \"44\": 1}, \"49\": {\"49\": 29, \"28\": 1, \"43\": 1, \"39\": 1}, \"26\": {\"26\": 24}, \"28\": {\"28\": 27, \"52\": 1}, \"12\": {\"12\": 105, \"5\": 1, \"53\": 2, \"20\": 5, \"0\": 1, \"14\": 1, \"55\": 1}, \"5\": {\"5\": 147, \"6\": 1, \"48\": 3, \"9\": 1}, \"29\": {\"29\": 100, \"47\": 7, \"4\": 4, \"3\": 3, \"57\": 3, \"20\": 2, \"56\": 6, \"40\": 10, \"44\": 3, \"55\": 1, \"46\": 1}, \"47\": {\"47\": 121, \"57\": 1, \"44\": 7, \"29\": 4, \"3\": 1, \"56\": 3, \"22\": 1, \"55\": 2}, \"10\": {\"10\": 74, \"11\": 8, \"22\": 8, \"24\": 5, \"21\": 1}, \"18\": {\"18\": 68, \"30\": 1, \"46\": 1, \"15\": 2}, \"9\": {\"9\": 126}, \"3\": {\"3\": 95, \"29\": 10, \"13\": 8, \"57\": 2, \"45\": 5, \"7\": 1, \"44\": 8, \"56\": 1, \"43\": 1, \"25\": 3, \"20\": 1, \"55\": 1, \"40\": 2, \"42\": 1, \"4\": 1}, \"52\": {\"52\": 108, \"24\": 4, \"39\": 1, \"54\": 3, \"0\": 2, \"47\": 1, \"55\": 6, \"23\": 1, \"22\": 3, \"32\": 1, \"9\": 1, \"15\": 1}, \"25\": {\"25\": 136}, \"19\": {\"19\": 140, \"1\": 3, \"45\": 1, \"56\": 4, \"20\": 2, \"57\": 3, \"29\": 1, \"47\": 1, \"55\": 1}, \"11\": {\"11\": 89, \"10\": 6, \"21\": 3, \"15\": 17, \"36\": 4, \"24\": 4, \"16\": 2, \"22\": 7, \"52\": 3, \"0\": 1}, \"7\": {\"7\": 25, \"26\": 1, \"45\": 1, \"17\": 1}, \"23\": {\"23\": 129, \"15\": 6, \"36\": 1}, \"44\": {\"44\": 95, \"56\": 3, \"35\": 2, \"3\": 6, \"55\": 1, \"45\": 5, \"1\": 1, \"54\": 1, \"47\": 6, \"57\": 2, \"20\": 1, \"52\": 1, \"24\": 1, \"29\": 3, \"25\": 1, \"19\": 3}, \"42\": {\"42\": 39, \"45\": 1}, \"54\": {\"34\": 2, \"54\": 99, \"0\": 2, \"53\": 1}, \"1\": {\"1\": 83, \"56\": 3, \"57\": 6, \"19\": 6, \"45\": 1, \"0\": 1}, \"46\": {\"6\": 3, \"46\": 87, \"25\": 6, \"8\": 1, \"17\": 1, \"4\": 4, \"9\": 1, \"53\": 2, \"20\": 2, \"48\": 3, \"40\": 2, \"45\": 3, \"50\": 8, \"5\": 4, \"2\": 1}, \"6\": {\"2\": 2, \"46\": 7, \"6\": 57, \"8\": 10, \"17\": 5, \"5\": 3, \"48\": 3, \"25\": 4, \"50\": 2, \"53\": 1, \"30\": 2}, \"43\": {\"43\": 134, \"52\": 1, \"27\": 7, \"31\": 1, \"24\": 1}, \"51\": {\"51\": 129, \"20\": 7, \"13\": 1, \"46\": 1, \"53\": 4}, \"22\": {\"22\": 126, \"24\": 7, \"11\": 2, \"43\": 1}, \"0\": {\"0\": 126, \"52\": 2}}, \"C_4\": {\"32\": {\"46\": 2, \"32\": 22}, \"2\": {\"2\": 33, \"13\": 1, \"39\": 1, \"24\": 1}, \"41\": {\"41\": 36}, \"11\": {\"11\": 67, \"38\": 1, \"52\": 3, \"15\": 21, \"35\": 1, \"16\": 2, \"0\": 1, \"24\": 1, \"43\": 2, \"22\": 2, \"23\": 1}, \"57\": {\"57\": 96, \"28\": 1, \"29\": 3}, \"6\": {\"6\": 74, \"3\": 18, \"36\": 1, \"42\": 1, \"25\": 2, \"57\": 1, \"48\": 4, \"52\": 1, \"54\": 3, \"17\": 3, \"9\": 2, \"0\": 1, \"49\": 1}, \"23\": {\"23\": 133, \"18\": 3}, \"52\": {\"52\": 105, \"23\": 7, \"46\": 1, \"18\": 3}, \"38\": {\"38\": 39, \"22\": 1}, \"50\": {\"50\": 59, \"6\": 5, \"3\": 11, \"51\": 7, \"48\": 4, \"53\": 8, \"9\": 5, \"34\": 1, \"8\": 6, \"28\": 1, \"26\": 1, \"29\": 3, \"25\": 9, \"19\": 1, \"12\": 2, \"17\": 2, \"27\": 6, \"4\": 1}, \"55\": {\"55\": 141, \"20\": 1, \"26\": 2, \"57\": 1, \"50\": 2, \"48\": 2, \"27\": 1, \"28\": 1, \"53\": 1}, \"46\": {\"41\": 3, \"55\": 4, \"1\": 4, \"7\": 1, \"0\": 6, \"46\": 76, \"57\": 2, \"18\": 5, \"5\": 15, \"47\": 13, \"23\": 6, \"36\": 2, \"3\": 3, \"52\": 2, \"6\": 2, \"54\": 5, \"43\": 3, \"22\": 1, \"32\": 1}, \"37\": {\"37\": 24}, \"20\": {\"50\": 1, \"6\": 2, \"20\": 111, \"21\": 1, \"3\": 1, \"27\": 1, \"48\": 1}, \"49\": {\"49\": 20}, \"45\": {\"45\": 70, \"12\": 5, \"50\": 4, \"44\": 2, \"33\": 1, \"40\": 2, \"25\": 1, \"9\": 3, \"4\": 4, \"6\": 1, \"19\": 1, \"51\": 1, \"27\": 1}, \"54\": {\"54\": 106, \"36\": 2}, \"3\": {\"3\": 94, \"41\": 1, \"39\": 1, \"6\": 15, \"54\": 5, \"5\": 1, \"25\": 3, \"50\": 3, \"47\": 1}, \"13\": {\"13\": 147, \"2\": 1, \"56\": 3, \"10\": 1}, \"18\": {\"23\": 8, \"18\": 99, \"25\": 1}, \"21\": {\"21\": 119, \"51\": 1, \"45\": 1, \"25\": 3, \"12\": 1, \"53\": 1}, \"43\": {\"43\": 139, \"11\": 1, \"10\": 2, \"24\": 2}, \"47\": {\"55\": 3, \"47\": 105, \"1\": 1, \"46\": 4, \"5\": 2, \"17\": 1, \"57\": 1, \"7\": 1, \"54\": 1, \"48\": 1}, \"4\": {\"4\": 112, \"51\": 3, \"9\": 9, \"20\": 1, \"17\": 1, \"53\": 1, \"50\": 2, \"29\": 3}, \"12\": {\"12\": 89, \"21\": 3}, \"9\": {\"9\": 116, \"4\": 2, \"17\": 1, \"53\": 2, \"29\": 2, \"51\": 1, \"50\": 4}, \"7\": {\"7\": 21, \"49\": 1, \"1\": 1, \"57\": 1}, \"56\": {\"56\": 107, \"24\": 1, \"46\": 1, \"10\": 2, \"22\": 1}, \"28\": {\"28\": 25, \"31\": 2, \"57\": 1, \"55\": 1, \"7\": 1, \"29\": 2}, \"44\": {\"44\": 111, \"19\": 10, \"40\": 6, \"33\": 1, \"29\": 1, \"4\": 1, \"53\": 2}, \"24\": {\"24\": 54, \"43\": 1, \"13\": 1}, \"33\": {\"33\": 33, \"29\": 1, \"40\": 2}, \"35\": {\"35\": 40}, \"51\": {\"51\": 114, \"20\": 3, \"53\": 16, \"44\": 1, \"54\": 1, \"21\": 1, \"9\": 1, \"50\": 1}, \"39\": {\"39\": 13, \"3\": 1, \"0\": 2, \"5\": 2, \"54\": 2}, \"36\": {\"36\": 87, \"53\": 1, \"3\": 2, \"54\": 1, \"6\": 1}, \"19\": {\"19\": 117, \"55\": 4, \"44\": 6, \"40\": 8, \"4\": 3, \"9\": 1, \"51\": 1}, \"0\": {\"0\": 59, \"46\": 4, \"15\": 1, \"55\": 1, \"5\": 3, \"6\": 1, \"52\": 1, \"54\": 3, \"24\": 1, \"11\": 1, \"3\": 1, \"22\": 3, \"47\": 1}, \"15\": {\"15\": 122, \"11\": 6, \"16\": 7, \"5\": 1}, \"29\": {\"29\": 110, \"33\": 1, \"57\": 5, \"55\": 1, \"19\": 1, \"3\": 1, \"9\": 4, \"6\": 1}, \"30\": {\"30\": 40, \"8\": 3, \"3\": 1}, \"1\": {\"1\": 40}, \"22\": {\"46\": 6, \"22\": 110, \"1\": 1, \"0\": 4, \"47\": 1, \"11\": 1, \"5\": 2, \"56\": 2, \"43\": 1}, \"40\": {\"40\": 103, \"51\": 2, \"19\": 22, \"4\": 3, \"44\": 8, \"33\": 6, \"53\": 2}, \"8\": {\"8\": 116, \"30\": 1, \"25\": 2, \"50\": 3, \"54\": 1, \"3\": 4, \"48\": 1}, \"53\": {\"53\": 119, \"3\": 1, \"51\": 13, \"20\": 3, \"50\": 1, \"27\": 1}, \"34\": {\"34\": 22, \"36\": 1, \"41\": 1}, \"10\": {\"10\": 117, \"13\": 4, \"24\": 1}, \"31\": {\"31\": 28}, \"17\": {\"17\": 74, \"57\": 2, \"48\": 1, \"27\": 2, \"50\": 1}, \"16\": {\"16\": 77, \"43\": 2, \"15\": 7, \"11\": 6, \"0\": 1, \"52\": 2, \"23\": 1}, \"42\": {\"42\": 32}, \"27\": {\"27\": 136, \"3\": 1, \"53\": 1, \"50\": 2, \"20\": 1, \"25\": 1}, \"14\": {\"22\": 2, \"4\": 1, \"14\": 5, \"5\": 1, \"46\": 1, \"40\": 1, \"38\": 1, \"49\": 1, \"33\": 1, \"43\": 1, \"35\": 1}, \"25\": {\"25\": 121, \"50\": 1}, \"48\": {\"48\": 109, \"36\": 1, \"6\": 1, \"3\": 4, \"47\": 2, \"57\": 5, \"54\": 3, \"5\": 4, \"55\": 1, \"46\": 2}, \"26\": {\"3\": 1, \"26\": 22, \"27\": 1}, \"5\": {\"5\": 74, \"41\": 2, \"46\": 5, \"47\": 11, \"54\": 3, \"3\": 3, \"55\": 3, \"48\": 2, \"28\": 1, \"32\": 1, \"43\": 1, \"52\": 1, \"23\": 1}}, \"C_3\": {\"14\": {\"29\": 1, \"55\": 1, \"24\": 5, \"43\": 4, \"14\": 16, \"31\": 1, \"4\": 1, \"34\": 1, \"10\": 1, \"40\": 2, \"1\": 1, \"44\": 3, \"22\": 1, \"45\": 1, \"47\": 1}, \"18\": {\"18\": 79, \"30\": 1, \"23\": 4}, \"30\": {\"30\": 120}, \"16\": {\"23\": 8, \"16\": 132, \"43\": 1, \"11\": 4, \"15\": 8, \"18\": 2, \"30\": 1}, \"1\": {\"1\": 83, \"9\": 3, \"57\": 13, \"46\": 1}, \"20\": {\"20\": 121, \"54\": 4, \"50\": 5, \"3\": 1, \"8\": 1}, \"7\": {\"7\": 34, \"34\": 1, \"0\": 1}, \"52\": {\"52\": 126, \"23\": 2, \"0\": 1, \"46\": 1}, \"9\": {\"9\": 127, \"20\": 1, \"21\": 1, \"57\": 4, \"17\": 1, \"27\": 1, \"29\": 2, \"46\": 1, \"3\": 1, \"53\": 1}, \"23\": {\"18\": 1, \"23\": 136, \"9\": 1, \"52\": 2, \"15\": 1, \"0\": 2, \"16\": 1}, \"55\": {\"55\": 148, \"3\": 4, \"5\": 5, \"17\": 1, \"48\": 1, \"47\": 1, \"27\": 2, \"9\": 1, \"57\": 1}, \"29\": {\"29\": 104, \"9\": 12, \"4\": 2, \"32\": 2, \"27\": 1, \"19\": 3, \"57\": 1, \"40\": 1}, \"56\": {\"14\": 1, \"56\": 113, \"55\": 3, \"5\": 1, \"24\": 1, \"22\": 11, \"13\": 3, \"43\": 1}, \"3\": {\"6\": 8, \"3\": 48, \"55\": 1, \"46\": 3, \"50\": 9, \"26\": 1, \"1\": 2, \"57\": 4, \"54\": 3, \"51\": 3, \"9\": 7, \"8\": 2, \"27\": 4, \"21\": 4, \"36\": 6, \"53\": 4, \"4\": 2, \"25\": 8, \"20\": 2, \"33\": 1, \"5\": 1, \"29\": 1}, \"42\": {\"6\": 2, \"42\": 19, \"17\": 2, \"46\": 2, \"48\": 2, \"5\": 1}, \"6\": {\"6\": 68, \"33\": 1, \"26\": 1, \"0\": 1, \"50\": 2, \"57\": 1, \"3\": 5, \"46\": 3, \"47\": 1, \"54\": 3, \"25\": 2}, \"5\": {\"5\": 87, \"47\": 6, \"39\": 1, \"28\": 2, \"34\": 1, \"3\": 4, \"0\": 2, \"57\": 4, \"1\": 6, \"46\": 1, \"55\": 1, \"23\": 1}, \"27\": {\"27\": 122, \"4\": 5, \"3\": 2, \"9\": 7, \"5\": 3, \"29\": 1, \"32\": 1, \"57\": 1, \"55\": 1, \"50\": 1}, \"47\": {\"47\": 71, \"0\": 4, \"57\": 3, \"9\": 1, \"43\": 1, \"48\": 5, \"5\": 1, \"46\": 1, \"34\": 1, \"1\": 2, \"55\": 1, \"6\": 1}, \"39\": {\"39\": 14, \"46\": 1, \"50\": 1}, \"34\": {\"34\": 31, \"0\": 1}, \"4\": {\"4\": 103, \"27\": 2, \"45\": 1, \"19\": 4, \"9\": 2, \"53\": 2, \"29\": 8, \"3\": 2, \"55\": 1, \"51\": 1}, \"24\": {\"24\": 99, \"10\": 3, \"14\": 1, \"43\": 1}, \"46\": {\"50\": 8, \"46\": 69, \"5\": 1, \"21\": 2, \"53\": 6, \"7\": 3, \"34\": 1, \"6\": 7, \"37\": 1, \"3\": 9, \"54\": 3, \"36\": 2, \"20\": 2, \"48\": 1, \"33\": 1, \"41\": 1, \"25\": 1}, \"50\": {\"46\": 6, \"50\": 63, \"53\": 12, \"54\": 2, \"25\": 9, \"20\": 3, \"36\": 5, \"17\": 1, \"3\": 8, \"6\": 6, \"27\": 4, \"8\": 2, \"26\": 1, \"2\": 1, \"48\": 2, \"51\": 1}, \"38\": {\"38\": 27, \"25\": 1}, \"54\": {\"54\": 100}, \"35\": {\"35\": 27, \"31\": 1}, \"2\": {\"2\": 30, \"12\": 1, \"50\": 1}, \"41\": {\"41\": 27, \"48\": 1}, \"57\": {\"57\": 107, \"34\": 1, \"1\": 5, \"47\": 1, \"55\": 1, \"9\": 3}, \"25\": {\"25\": 147, \"3\": 1, \"50\": 2}, \"48\": {\"48\": 109, \"30\": 1, \"1\": 1, \"54\": 1, \"46\": 1, \"5\": 1, \"6\": 2}, \"33\": {\"33\": 24, \"46\": 2, \"6\": 2}, \"45\": {\"45\": 39, \"6\": 1, \"4\": 3, \"54\": 4, \"29\": 1, \"37\": 1, \"21\": 1, \"50\": 3, \"42\": 1, \"53\": 3, \"36\": 1, \"12\": 1, \"19\": 1}, \"13\": {\"13\": 126}, \"36\": {\"36\": 98, \"50\": 1, \"27\": 1}, \"43\": {\"43\": 128, \"11\": 3, \"24\": 1}, \"28\": {\"28\": 21, \"31\": 2, \"55\": 3, \"9\": 2}, \"0\": {\"0\": 113, \"23\": 6, \"48\": 3, \"41\": 1, \"47\": 1}, \"12\": {\"12\": 80, \"50\": 2, \"38\": 3, \"2\": 1, \"8\": 1, \"54\": 3, \"36\": 2}, \"31\": {\"31\": 25, \"55\": 1, \"35\": 1, \"28\": 1}, \"40\": {\"40\": 89, \"4\": 9, \"19\": 13, \"29\": 1, \"44\": 4}, \"44\": {\"44\": 78, \"3\": 1, \"40\": 6, \"19\": 2, \"25\": 1}, \"32\": {\"32\": 28}, \"26\": {\"26\": 21, \"3\": 1, \"34\": 2}, \"8\": {\"8\": 109, \"3\": 2, \"36\": 1, \"25\": 3, \"50\": 1}, \"10\": {\"10\": 61, \"24\": 3}, \"15\": {\"15\": 134, \"55\": 3, \"48\": 1, \"11\": 1, \"16\": 2, \"23\": 1}, \"21\": {\"2\": 1, \"5\": 1, \"21\": 94, \"54\": 1, \"51\": 8, \"36\": 1, \"27\": 1, \"53\": 4, \"17\": 2, \"57\": 3, \"25\": 1, \"50\": 3, \"9\": 1, \"46\": 2, \"20\": 3, \"33\": 1, \"3\": 1}, \"37\": {\"37\": 27, \"3\": 1}, \"17\": {\"17\": 99, \"27\": 2, \"48\": 3, \"6\": 1, \"3\": 1, \"57\": 2}, \"51\": {\"51\": 106, \"27\": 1, \"3\": 1, \"53\": 10, \"9\": 1, \"21\": 1, \"20\": 1, \"37\": 1, \"50\": 2}, \"53\": {\"53\": 134, \"21\": 4, \"50\": 2, \"51\": 2, \"20\": 1, \"54\": 1}, \"19\": {\"19\": 106, \"9\": 2, \"53\": 1, \"4\": 14, \"29\": 9, \"50\": 1, \"40\": 1, \"27\": 1, \"44\": 1}, \"49\": {\"49\": 20}, \"11\": {\"11\": 110, \"16\": 11, \"52\": 5, \"15\": 9, \"43\": 2, \"23\": 1}, \"22\": {\"22\": 111, \"56\": 11, \"55\": 2, \"7\": 1, \"43\": 1, \"24\": 1, \"13\": 3}}}, \"per_domain_accuracy\": {\"O_8\": {\"accuracy\": 0.8697916666666666, \"source?\": true}, \"O_38\": {\"accuracy\": 0.8921875, \"source?\": true}, \"O_26\": {\"accuracy\": 0.73359375, \"source?\": true}, \"O_20\": {\"accuracy\": 0.83203125, \"source?\": true}, \"O_50\": {\"accuracy\": 0.8786458333333333, \"source?\": true}, \"O_32\": {\"accuracy\": 0.8736979166666666, \"source?\": true}, \"O_44\": {\"accuracy\": 0.75859375, \"source?\": true}, \"O_14\": {\"accuracy\": 0.90625, \"source?\": true}, \"C_2\": {\"accuracy\": 0.8602627840909091, \"source?\": false}, \"C_5\": {\"accuracy\": 0.8426966292134831, \"source?\": false}, \"C_1\": {\"accuracy\": 0.8607486263736264, \"source?\": false}, \"C_4\": {\"accuracy\": 0.8589071856287425, \"source?\": false}, \"C_3\": {\"accuracy\": 0.8567251461988304, \"source?\": false}}}, \"history\": {\"epoch_indices\": [1, 2, 3, 4, 5, 6, 7, 8, 9, 10, 11], \"train_label_loss\": [1.0099540629734596, 0.7311283744694221, 0.5803683085644263, 0.5041099798327888, 0.4505557717461627, 0.41595180904703394, 0.38548820486120394, 0.354380265425425, 0.3202553919404246, 0.2879126523650484, 0.26866459818023336], \"source_val_label_loss\": [1.013681411743164, 0.678750216960907, 0.5762776136398315, 0.4798479974269867, 0.4483271837234497, 0.44773146510124207, 0.42600300908088684, 0.39508044719696045, 0.3819163739681244, 0.36433038115501404, 0.33651402592658997], \"target_val_label_loss\": [1.1360875368118286, 1.0389386415481567, 1.2592335939407349, 1.3337918519973755, 1.267890453338623, 1.4835537672042847, 1.204118013381958, 1.316986083984375, 1.5313345193862915, 1.775149941444397, 1.8327832221984863], \"source_val_acc_label\": [0.6459635416666667, 0.7500651041666667, 0.7889322916666667, 0.8218424479166667, 0.83447265625, 0.8348307291666667, 0.8430989583333334, 0.8560546875, 0.8595377604166666, 0.86630859375, 0.8776692708333333], \"target_val_acc_label\": [0.8384582379862701, 0.8426773455377574, 0.834274885583524, 0.8311641876430206, 0.8428203661327232, 0.8365274599542334, 0.8558352402745996, 0.8526887871853547, 0.8423555491990846, 0.8250143020594966, 0.8339173340961098]}, \"dataset_metrics\": {\"source\": {\"train\": {\"n_unique_x\": 179200, \"n_unique_y\": 16, \"n_batch/episode\": 6720}, \"val\": {\"n_unique_x\": 38400, \"n_unique_y\": 16, \"n_batch/episode\": 960}, \"test\": {\"n_unique_x\": 38400, \"n_unique_y\": 16, \"n_batch/episode\": 960}}, \"target\": {\"train\": {\"n_unique_x\": 175127, \"n_unique_y\": 58, \"n_batch/episode\": 6303}, \"val\": {\"n_unique_x\": 37135, \"n_unique_y\": 58, \"n_batch/episode\": 874}, \"test\": {\"n_unique_x\": 37673, \"n_unique_y\": 58, \"n_batch/episode\": 893}}}}'"
      ]
     },
     "execution_count": 29,
     "metadata": {},
     "output_type": "execute_result"
    }
   ],
   "source": [
    "json.dumps(experiment)"
   ]
  }
 ],
 "metadata": {
  "celltoolbar": "Tags",
  "kernelspec": {
   "display_name": "Python 3 (ipykernel)",
   "language": "python",
   "name": "python3"
  },
  "language_info": {
   "codemirror_mode": {
    "name": "ipython",
    "version": 3
   },
   "file_extension": ".py",
   "mimetype": "text/x-python",
   "name": "python",
   "nbconvert_exporter": "python",
   "pygments_lexer": "ipython3",
   "version": "3.8.10"
  },
  "papermill": {
   "default_parameters": {},
   "duration": 1954.687545,
   "end_time": "2022-03-25T11:04:36.952789",
   "environment_variables": {},
   "exception": null,
   "input_path": "/mnt/wd500GB/CSC500/csc500-main/csc500-notebooks/templates/tl_ptn_template.ipynb",
   "output_path": "trial.ipynb",
   "parameters": {
    "parameters": {
     "BEST_MODEL_PATH": "./best_model.pth",
     "NUM_LOGS_PER_EPOCH": 10,
     "criteria_for_best": "target_accuracy",
     "dataset_seed": 154325,
     "datasets": [
      {
       "domain_prefix": "C_",
       "domains": [
        1,
        2,
        3,
        4,
        5
       ],
       "episode_transforms": [],
       "labels": [
        "1-10.",
        "1-11.",
        "1-15.",
        "1-16.",
        "1-17.",
        "1-18.",
        "1-19.",
        "10-4.",
        "10-7.",
        "11-1.",
        "11-14.",
        "11-17.",
        "11-20.",
        "11-7.",
        "13-20.",
        "13-8.",
        "14-10.",
        "14-11.",
        "14-14.",
        "14-7.",
        "15-1.",
        "15-20.",
        "16-1.",
        "16-16.",
        "17-10.",
        "17-11.",
        "17-2.",
        "19-1.",
        "19-16.",
        "19-19.",
        "19-20.",
        "19-3.",
        "2-10.",
        "2-11.",
        "2-17.",
        "2-18.",
        "2-20.",
        "2-3.",
        "2-4.",
        "2-5.",
        "2-6.",
        "2-7.",
        "2-8.",
        "3-13.",
        "3-18.",
        "3-3.",
        "4-1.",
        "4-10.",
        "4-11.",
        "4-19.",
        "5-5.",
        "6-15.",
        "7-10.",
        "7-14.",
        "8-18.",
        "8-20.",
        "8-3.",
        "8-8."
       ],
       "num_examples_per_domain_per_label": -1,
       "pickle_path": "/mnt/wd500GB/CSC500/csc500-main/datasets/cores.stratified_ds.2022A.pkl",
       "source_or_target_dataset": "target",
       "x_transforms": [
        "unit_power",
        "take_200"
       ]
      },
      {
       "domain_prefix": "O_",
       "domains": [
        32,
        38,
        8,
        44,
        14,
        50,
        20,
        26
       ],
       "episode_transforms": [],
       "labels": [
        "3123D52",
        "3123D65",
        "3123D79",
        "3123D80",
        "3123D54",
        "3123D70",
        "3123D7B",
        "3123D89",
        "3123D58",
        "3123D76",
        "3123D7D",
        "3123EFE",
        "3123D64",
        "3123D78",
        "3123D7E",
        "3124E4A"
       ],
       "num_examples_per_domain_per_label": 2000,
       "pickle_path": "/mnt/wd500GB/CSC500/csc500-main/datasets/oracle.Run1_framed_2000Examples_stratified_ds.2022A.pkl",
       "source_or_target_dataset": "source",
       "x_transforms": [
        "unit_power",
        "take_200",
        "resample_20Msps_to_25Msps"
       ]
      }
     ],
     "device": "cuda",
     "experiment_name": "tl_3Av2:oracle.run1.framed -> cores",
     "lr": 0.0001,
     "n_epoch": 50,
     "n_query": 2,
     "n_shot": 3,
     "n_way": 16,
     "patience": 3,
     "seed": 154325,
     "test_k_factor": 2,
     "torch_default_dtype": "torch.float32",
     "train_k_factor": 3,
     "val_k_factor": 2,
     "x_net": [
      {
       "class": "nnReshape",
       "kargs": {
        "shape": [
         -1,
         1,
         2,
         200
        ]
       }
      },
      {
       "class": "Conv2d",
       "kargs": {
        "bias": false,
        "in_channels": 1,
        "kernel_size": [
         1,
         7
        ],
        "out_channels": 256,
        "padding": [
         0,
         3
        ]
       }
      },
      {
       "class": "ReLU",
       "kargs": {
        "inplace": true
       }
      },
      {
       "class": "BatchNorm2d",
       "kargs": {
        "num_features": 256
       }
      },
      {
       "class": "Conv2d",
       "kargs": {
        "bias": true,
        "in_channels": 256,
        "kernel_size": [
         2,
         7
        ],
        "out_channels": 80,
        "padding": [
         0,
         3
        ]
       }
      },
      {
       "class": "ReLU",
       "kargs": {
        "inplace": true
       }
      },
      {
       "class": "BatchNorm2d",
       "kargs": {
        "num_features": 80
       }
      },
      {
       "class": "Flatten",
       "kargs": {}
      },
      {
       "class": "Linear",
       "kargs": {
        "in_features": 16000,
        "out_features": 256
       }
      },
      {
       "class": "ReLU",
       "kargs": {
        "inplace": true
       }
      },
      {
       "class": "BatchNorm1d",
       "kargs": {
        "num_features": 256
       }
      },
      {
       "class": "Linear",
       "kargs": {
        "in_features": 256,
        "out_features": 256
       }
      }
     ],
     "x_shape": [
      2,
      200
     ]
    }
   },
   "start_time": "2022-03-25T10:32:02.265244",
   "version": "2.3.4"
  }
 },
 "nbformat": 4,
 "nbformat_minor": 5
}