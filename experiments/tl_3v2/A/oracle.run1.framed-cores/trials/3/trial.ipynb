{
 "cells": [
  {
   "cell_type": "markdown",
   "id": "9fea5f46",
   "metadata": {
    "papermill": {
     "duration": 0.016856,
     "end_time": "2022-03-25T08:57:39.328337",
     "exception": false,
     "start_time": "2022-03-25T08:57:39.311481",
     "status": "completed"
    },
    "tags": []
   },
   "source": [
    "# Transfer Learning Template"
   ]
  },
  {
   "cell_type": "code",
   "execution_count": 1,
   "id": "0902182a",
   "metadata": {
    "execution": {
     "iopub.execute_input": "2022-03-25T08:57:39.374679Z",
     "iopub.status.busy": "2022-03-25T08:57:39.374376Z",
     "iopub.status.idle": "2022-03-25T08:57:40.349823Z",
     "shell.execute_reply": "2022-03-25T08:57:40.349546Z"
    },
    "papermill": {
     "duration": 1.008834,
     "end_time": "2022-03-25T08:57:40.349900",
     "exception": false,
     "start_time": "2022-03-25T08:57:39.341066",
     "status": "completed"
    },
    "tags": []
   },
   "outputs": [],
   "source": [
    "%load_ext autoreload\n",
    "%autoreload 2\n",
    "%matplotlib inline\n",
    "\n",
    "    \n",
    "import os, json, sys, time, random\n",
    "import numpy as np\n",
    "import torch\n",
    "from torch.optim import Adam\n",
    "from  easydict import EasyDict\n",
    "import matplotlib.pyplot as plt\n",
    "\n",
    "from steves_models.steves_ptn import Steves_Prototypical_Network\n",
    "\n",
    "from steves_utils.lazy_iterable_wrapper import Lazy_Iterable_Wrapper\n",
    "from steves_utils.iterable_aggregator import Iterable_Aggregator\n",
    "from steves_utils.ptn_train_eval_test_jig import  PTN_Train_Eval_Test_Jig\n",
    "from steves_utils.torch_sequential_builder import build_sequential\n",
    "from steves_utils.torch_utils import get_dataset_metrics, ptn_confusion_by_domain_over_dataloader\n",
    "from steves_utils.utils_v2 import (per_domain_accuracy_from_confusion, get_datasets_base_path)\n",
    "from steves_utils.PTN.utils import independent_accuracy_assesment\n",
    "\n",
    "from torch.utils.data import DataLoader\n",
    "\n",
    "from steves_utils.stratified_dataset.episodic_accessor import Episodic_Accessor_Factory\n",
    "\n",
    "from steves_utils.ptn_do_report import (\n",
    "    get_loss_curve,\n",
    "    get_results_table,\n",
    "    get_parameters_table,\n",
    "    get_domain_accuracies,\n",
    ")\n",
    "\n",
    "from steves_utils.transforms import get_chained_transform"
   ]
  },
  {
   "cell_type": "markdown",
   "id": "41c840b4",
   "metadata": {
    "papermill": {
     "duration": 0.012457,
     "end_time": "2022-03-25T08:57:40.376003",
     "exception": false,
     "start_time": "2022-03-25T08:57:40.363546",
     "status": "completed"
    },
    "tags": []
   },
   "source": [
    "# Allowed Parameters\n",
    "These are allowed parameters, not defaults\n",
    "Each of these values need to be present in the injected parameters (the notebook will raise an exception if they are not present)\n",
    "\n",
    "Papermill uses the cell tag \"parameters\" to inject the real parameters below this cell.\n",
    "Enable tags to see what I mean"
   ]
  },
  {
   "cell_type": "code",
   "execution_count": 2,
   "id": "fd44eb83",
   "metadata": {
    "execution": {
     "iopub.execute_input": "2022-03-25T08:57:40.404623Z",
     "iopub.status.busy": "2022-03-25T08:57:40.402862Z",
     "iopub.status.idle": "2022-03-25T08:57:40.418701Z",
     "shell.execute_reply": "2022-03-25T08:57:40.419081Z"
    },
    "papermill": {
     "duration": 0.030544,
     "end_time": "2022-03-25T08:57:40.419206",
     "exception": false,
     "start_time": "2022-03-25T08:57:40.388662",
     "status": "completed"
    },
    "tags": []
   },
   "outputs": [],
   "source": [
    "required_parameters = {\n",
    "    \"experiment_name\",\n",
    "    \"lr\",\n",
    "    \"device\",\n",
    "    \"seed\",\n",
    "    \"dataset_seed\",\n",
    "    \"n_shot\",\n",
    "    \"n_query\",\n",
    "    \"n_way\",\n",
    "    \"train_k_factor\",\n",
    "    \"val_k_factor\",\n",
    "    \"test_k_factor\",\n",
    "    \"n_epoch\",\n",
    "    \"patience\",\n",
    "    \"criteria_for_best\",\n",
    "    \"x_net\",\n",
    "    \"datasets\",\n",
    "    \"torch_default_dtype\",\n",
    "    \"NUM_LOGS_PER_EPOCH\",\n",
    "    \"BEST_MODEL_PATH\",\n",
    "    \"x_shape\",\n",
    "}"
   ]
  },
  {
   "cell_type": "code",
   "execution_count": 3,
   "id": "fa3f0049",
   "metadata": {
    "execution": {
     "iopub.execute_input": "2022-03-25T08:57:40.461292Z",
     "iopub.status.busy": "2022-03-25T08:57:40.460996Z",
     "iopub.status.idle": "2022-03-25T08:57:40.474534Z",
     "shell.execute_reply": "2022-03-25T08:57:40.474128Z"
    },
    "papermill": {
     "duration": 0.036998,
     "end_time": "2022-03-25T08:57:40.474636",
     "exception": false,
     "start_time": "2022-03-25T08:57:40.437638",
     "status": "completed"
    },
    "tags": [
     "parameters"
    ]
   },
   "outputs": [],
   "source": [
    "from steves_utils.CORES.utils import (\n",
    "    ALL_NODES,\n",
    "    ALL_NODES_MINIMUM_1000_EXAMPLES,\n",
    "    ALL_DAYS\n",
    ")\n",
    "\n",
    "from steves_utils.ORACLE.utils_v2 import (\n",
    "    ALL_DISTANCES_FEET_NARROWED,\n",
    "    ALL_RUNS,\n",
    "    ALL_SERIAL_NUMBERS,\n",
    ")\n",
    "\n",
    "standalone_parameters = {}\n",
    "standalone_parameters[\"experiment_name\"] = \"STANDALONE PTN\"\n",
    "standalone_parameters[\"lr\"] = 0.001\n",
    "standalone_parameters[\"device\"] = \"cuda\"\n",
    "\n",
    "standalone_parameters[\"seed\"] = 1337\n",
    "standalone_parameters[\"dataset_seed\"] = 1337\n",
    "\n",
    "standalone_parameters[\"n_way\"] = 8\n",
    "standalone_parameters[\"n_shot\"] = 3\n",
    "standalone_parameters[\"n_query\"]  = 2\n",
    "standalone_parameters[\"train_k_factor\"] = 1\n",
    "standalone_parameters[\"val_k_factor\"] = 2\n",
    "standalone_parameters[\"test_k_factor\"] = 2\n",
    "\n",
    "\n",
    "standalone_parameters[\"n_epoch\"] = 50\n",
    "\n",
    "standalone_parameters[\"patience\"] = 10\n",
    "standalone_parameters[\"criteria_for_best\"] = \"source_loss\"\n",
    "\n",
    "standalone_parameters[\"datasets\"] = [\n",
    "    {\n",
    "        \"labels\": ALL_SERIAL_NUMBERS,\n",
    "        \"domains\": ALL_DISTANCES_FEET_NARROWED,\n",
    "        \"num_examples_per_domain_per_label\": 100,\n",
    "        \"pickle_path\": os.path.join(get_datasets_base_path(), \"oracle.Run1_framed_2000Examples_stratified_ds.2022A.pkl\"),\n",
    "        \"source_or_target_dataset\": \"source\",\n",
    "        \"x_transforms\": [\"unit_mag\", \"minus_two\"],\n",
    "        \"episode_transforms\": [],\n",
    "        \"domain_prefix\": \"ORACLE_\"\n",
    "    },\n",
    "    {\n",
    "        \"labels\": ALL_NODES,\n",
    "        \"domains\": ALL_DAYS,\n",
    "        \"num_examples_per_domain_per_label\": 100,\n",
    "        \"pickle_path\": os.path.join(get_datasets_base_path(), \"cores.stratified_ds.2022A.pkl\"),\n",
    "        \"source_or_target_dataset\": \"target\",\n",
    "        \"x_transforms\": [\"unit_power\", \"times_zero\"],\n",
    "        \"episode_transforms\": [],\n",
    "        \"domain_prefix\": \"CORES_\"\n",
    "    }   \n",
    "]\n",
    "\n",
    "standalone_parameters[\"torch_default_dtype\"] = \"torch.float32\" \n",
    "\n",
    "\n",
    "\n",
    "standalone_parameters[\"x_net\"] =     [\n",
    "    {\"class\": \"nnReshape\", \"kargs\": {\"shape\":[-1, 1, 2, 256]}},\n",
    "    {\"class\": \"Conv2d\", \"kargs\": { \"in_channels\":1, \"out_channels\":256, \"kernel_size\":(1,7), \"bias\":False, \"padding\":(0,3), },},\n",
    "    {\"class\": \"ReLU\", \"kargs\": {\"inplace\": True}},\n",
    "    {\"class\": \"BatchNorm2d\", \"kargs\": {\"num_features\":256}},\n",
    "\n",
    "    {\"class\": \"Conv2d\", \"kargs\": { \"in_channels\":256, \"out_channels\":80, \"kernel_size\":(2,7), \"bias\":True, \"padding\":(0,3), },},\n",
    "    {\"class\": \"ReLU\", \"kargs\": {\"inplace\": True}},\n",
    "    {\"class\": \"BatchNorm2d\", \"kargs\": {\"num_features\":80}},\n",
    "    {\"class\": \"Flatten\", \"kargs\": {}},\n",
    "\n",
    "    {\"class\": \"Linear\", \"kargs\": {\"in_features\": 80*256, \"out_features\": 256}}, # 80 units per IQ pair\n",
    "    {\"class\": \"ReLU\", \"kargs\": {\"inplace\": True}},\n",
    "    {\"class\": \"BatchNorm1d\", \"kargs\": {\"num_features\":256}},\n",
    "\n",
    "    {\"class\": \"Linear\", \"kargs\": {\"in_features\": 256, \"out_features\": 256}},\n",
    "]\n",
    "\n",
    "# Parameters relevant to results\n",
    "# These parameters will basically never need to change\n",
    "standalone_parameters[\"NUM_LOGS_PER_EPOCH\"] = 10\n",
    "standalone_parameters[\"BEST_MODEL_PATH\"] = \"./best_model.pth\"\n",
    "\n",
    "\n",
    "\n",
    "\n"
   ]
  },
  {
   "cell_type": "code",
   "execution_count": 4,
   "id": "afdc3a4c",
   "metadata": {
    "execution": {
     "iopub.execute_input": "2022-03-25T08:57:40.517717Z",
     "iopub.status.busy": "2022-03-25T08:57:40.517257Z",
     "iopub.status.idle": "2022-03-25T08:57:40.533501Z",
     "shell.execute_reply": "2022-03-25T08:57:40.533270Z"
    },
    "papermill": {
     "duration": 0.040282,
     "end_time": "2022-03-25T08:57:40.533558",
     "exception": false,
     "start_time": "2022-03-25T08:57:40.493276",
     "status": "completed"
    },
    "tags": [
     "injected-parameters"
    ]
   },
   "outputs": [],
   "source": [
    "# Parameters\n",
    "parameters = {\n",
    "    \"experiment_name\": \"tl_3Av2:oracle.run1.framed -> cores\",\n",
    "    \"device\": \"cuda\",\n",
    "    \"lr\": 0.0001,\n",
    "    \"x_shape\": [2, 200],\n",
    "    \"n_shot\": 3,\n",
    "    \"n_query\": 2,\n",
    "    \"train_k_factor\": 3,\n",
    "    \"val_k_factor\": 2,\n",
    "    \"test_k_factor\": 2,\n",
    "    \"torch_default_dtype\": \"torch.float32\",\n",
    "    \"n_epoch\": 50,\n",
    "    \"patience\": 3,\n",
    "    \"criteria_for_best\": \"target_accuracy\",\n",
    "    \"x_net\": [\n",
    "        {\"class\": \"nnReshape\", \"kargs\": {\"shape\": [-1, 1, 2, 200]}},\n",
    "        {\n",
    "            \"class\": \"Conv2d\",\n",
    "            \"kargs\": {\n",
    "                \"in_channels\": 1,\n",
    "                \"out_channels\": 256,\n",
    "                \"kernel_size\": [1, 7],\n",
    "                \"bias\": False,\n",
    "                \"padding\": [0, 3],\n",
    "            },\n",
    "        },\n",
    "        {\"class\": \"ReLU\", \"kargs\": {\"inplace\": True}},\n",
    "        {\"class\": \"BatchNorm2d\", \"kargs\": {\"num_features\": 256}},\n",
    "        {\n",
    "            \"class\": \"Conv2d\",\n",
    "            \"kargs\": {\n",
    "                \"in_channels\": 256,\n",
    "                \"out_channels\": 80,\n",
    "                \"kernel_size\": [2, 7],\n",
    "                \"bias\": True,\n",
    "                \"padding\": [0, 3],\n",
    "            },\n",
    "        },\n",
    "        {\"class\": \"ReLU\", \"kargs\": {\"inplace\": True}},\n",
    "        {\"class\": \"BatchNorm2d\", \"kargs\": {\"num_features\": 80}},\n",
    "        {\"class\": \"Flatten\", \"kargs\": {}},\n",
    "        {\"class\": \"Linear\", \"kargs\": {\"in_features\": 16000, \"out_features\": 256}},\n",
    "        {\"class\": \"ReLU\", \"kargs\": {\"inplace\": True}},\n",
    "        {\"class\": \"BatchNorm1d\", \"kargs\": {\"num_features\": 256}},\n",
    "        {\"class\": \"Linear\", \"kargs\": {\"in_features\": 256, \"out_features\": 256}},\n",
    "    ],\n",
    "    \"NUM_LOGS_PER_EPOCH\": 10,\n",
    "    \"BEST_MODEL_PATH\": \"./best_model.pth\",\n",
    "    \"n_way\": 16,\n",
    "    \"datasets\": [\n",
    "        {\n",
    "            \"labels\": [\n",
    "                \"1-10.\",\n",
    "                \"1-11.\",\n",
    "                \"1-15.\",\n",
    "                \"1-16.\",\n",
    "                \"1-17.\",\n",
    "                \"1-18.\",\n",
    "                \"1-19.\",\n",
    "                \"10-4.\",\n",
    "                \"10-7.\",\n",
    "                \"11-1.\",\n",
    "                \"11-14.\",\n",
    "                \"11-17.\",\n",
    "                \"11-20.\",\n",
    "                \"11-7.\",\n",
    "                \"13-20.\",\n",
    "                \"13-8.\",\n",
    "                \"14-10.\",\n",
    "                \"14-11.\",\n",
    "                \"14-14.\",\n",
    "                \"14-7.\",\n",
    "                \"15-1.\",\n",
    "                \"15-20.\",\n",
    "                \"16-1.\",\n",
    "                \"16-16.\",\n",
    "                \"17-10.\",\n",
    "                \"17-11.\",\n",
    "                \"17-2.\",\n",
    "                \"19-1.\",\n",
    "                \"19-16.\",\n",
    "                \"19-19.\",\n",
    "                \"19-20.\",\n",
    "                \"19-3.\",\n",
    "                \"2-10.\",\n",
    "                \"2-11.\",\n",
    "                \"2-17.\",\n",
    "                \"2-18.\",\n",
    "                \"2-20.\",\n",
    "                \"2-3.\",\n",
    "                \"2-4.\",\n",
    "                \"2-5.\",\n",
    "                \"2-6.\",\n",
    "                \"2-7.\",\n",
    "                \"2-8.\",\n",
    "                \"3-13.\",\n",
    "                \"3-18.\",\n",
    "                \"3-3.\",\n",
    "                \"4-1.\",\n",
    "                \"4-10.\",\n",
    "                \"4-11.\",\n",
    "                \"4-19.\",\n",
    "                \"5-5.\",\n",
    "                \"6-15.\",\n",
    "                \"7-10.\",\n",
    "                \"7-14.\",\n",
    "                \"8-18.\",\n",
    "                \"8-20.\",\n",
    "                \"8-3.\",\n",
    "                \"8-8.\",\n",
    "            ],\n",
    "            \"domains\": [1, 2, 3, 4, 5],\n",
    "            \"num_examples_per_domain_per_label\": -1,\n",
    "            \"pickle_path\": \"/mnt/wd500GB/CSC500/csc500-main/datasets/cores.stratified_ds.2022A.pkl\",\n",
    "            \"source_or_target_dataset\": \"target\",\n",
    "            \"x_transforms\": [\"unit_power\", \"take_200\"],\n",
    "            \"episode_transforms\": [],\n",
    "            \"domain_prefix\": \"C_\",\n",
    "        },\n",
    "        {\n",
    "            \"labels\": [\n",
    "                \"3123D52\",\n",
    "                \"3123D65\",\n",
    "                \"3123D79\",\n",
    "                \"3123D80\",\n",
    "                \"3123D54\",\n",
    "                \"3123D70\",\n",
    "                \"3123D7B\",\n",
    "                \"3123D89\",\n",
    "                \"3123D58\",\n",
    "                \"3123D76\",\n",
    "                \"3123D7D\",\n",
    "                \"3123EFE\",\n",
    "                \"3123D64\",\n",
    "                \"3123D78\",\n",
    "                \"3123D7E\",\n",
    "                \"3124E4A\",\n",
    "            ],\n",
    "            \"domains\": [32, 38, 8, 44, 14, 50, 20, 26],\n",
    "            \"num_examples_per_domain_per_label\": 2000,\n",
    "            \"pickle_path\": \"/mnt/wd500GB/CSC500/csc500-main/datasets/oracle.Run1_framed_2000Examples_stratified_ds.2022A.pkl\",\n",
    "            \"source_or_target_dataset\": \"source\",\n",
    "            \"x_transforms\": [\"unit_power\", \"take_200\", \"resample_20Msps_to_25Msps\"],\n",
    "            \"episode_transforms\": [],\n",
    "            \"domain_prefix\": \"O_\",\n",
    "        },\n",
    "    ],\n",
    "    \"seed\": 420,\n",
    "    \"dataset_seed\": 420,\n",
    "}\n"
   ]
  },
  {
   "cell_type": "code",
   "execution_count": 5,
   "id": "8fa1cc33",
   "metadata": {
    "execution": {
     "iopub.execute_input": "2022-03-25T08:57:40.562364Z",
     "iopub.status.busy": "2022-03-25T08:57:40.562100Z",
     "iopub.status.idle": "2022-03-25T08:57:40.577020Z",
     "shell.execute_reply": "2022-03-25T08:57:40.577214Z"
    },
    "papermill": {
     "duration": 0.030771,
     "end_time": "2022-03-25T08:57:40.577278",
     "exception": false,
     "start_time": "2022-03-25T08:57:40.546507",
     "status": "completed"
    },
    "tags": []
   },
   "outputs": [],
   "source": [
    "# Set this to True if you want to run this template directly\n",
    "STANDALONE = False\n",
    "if STANDALONE:\n",
    "    print(\"parameters not injected, running with standalone_parameters\")\n",
    "    parameters = standalone_parameters\n",
    "\n",
    "if not 'parameters' in locals() and not 'parameters' in globals():\n",
    "    raise Exception(\"Parameter injection failed\")\n",
    "\n",
    "#Use an easy dict for all the parameters\n",
    "p = EasyDict(parameters)\n",
    "\n",
    "if \"x_shape\" not in p:\n",
    "    p.x_shape = [2,256] # Default to this if we dont supply x_shape\n",
    "\n",
    "\n",
    "supplied_keys = set(p.keys())\n",
    "\n",
    "if  supplied_keys != required_parameters:\n",
    "    print(\"Parameters are incorrect\")\n",
    "    if len(supplied_keys - required_parameters)>0: print(\"Shouldn't have:\", str(supplied_keys - required_parameters))\n",
    "    if len(required_parameters - supplied_keys)>0: print(\"Need to have:\", str(required_parameters - supplied_keys))\n",
    "    raise RuntimeError(\"Parameters are incorrect\")"
   ]
  },
  {
   "cell_type": "code",
   "execution_count": 6,
   "id": "3a028d58",
   "metadata": {
    "execution": {
     "iopub.execute_input": "2022-03-25T08:57:40.605272Z",
     "iopub.status.busy": "2022-03-25T08:57:40.605014Z",
     "iopub.status.idle": "2022-03-25T08:57:40.620255Z",
     "shell.execute_reply": "2022-03-25T08:57:40.620009Z"
    },
    "papermill": {
     "duration": 0.030298,
     "end_time": "2022-03-25T08:57:40.620305",
     "exception": false,
     "start_time": "2022-03-25T08:57:40.590007",
     "status": "completed"
    },
    "tags": []
   },
   "outputs": [],
   "source": [
    "###################################\n",
    "# Set the RNGs and make it all deterministic\n",
    "###################################\n",
    "np.random.seed(p.seed)\n",
    "random.seed(p.seed)\n",
    "torch.manual_seed(p.seed)\n",
    "\n",
    "torch.use_deterministic_algorithms(True) "
   ]
  },
  {
   "cell_type": "code",
   "execution_count": 7,
   "id": "b691acf6",
   "metadata": {
    "execution": {
     "iopub.execute_input": "2022-03-25T08:57:40.648153Z",
     "iopub.status.busy": "2022-03-25T08:57:40.647832Z",
     "iopub.status.idle": "2022-03-25T08:57:40.662266Z",
     "shell.execute_reply": "2022-03-25T08:57:40.662017Z"
    },
    "papermill": {
     "duration": 0.029091,
     "end_time": "2022-03-25T08:57:40.662314",
     "exception": false,
     "start_time": "2022-03-25T08:57:40.633223",
     "status": "completed"
    },
    "tags": []
   },
   "outputs": [],
   "source": [
    "###########################################\n",
    "# The stratified datasets honor this\n",
    "###########################################\n",
    "torch.set_default_dtype(eval(p.torch_default_dtype))"
   ]
  },
  {
   "cell_type": "code",
   "execution_count": 8,
   "id": "b5fba671",
   "metadata": {
    "execution": {
     "iopub.execute_input": "2022-03-25T08:57:40.690145Z",
     "iopub.status.busy": "2022-03-25T08:57:40.689872Z",
     "iopub.status.idle": "2022-03-25T08:57:40.724484Z",
     "shell.execute_reply": "2022-03-25T08:57:40.724039Z"
    },
    "papermill": {
     "duration": 0.049361,
     "end_time": "2022-03-25T08:57:40.724571",
     "exception": false,
     "start_time": "2022-03-25T08:57:40.675210",
     "status": "completed"
    },
    "tags": []
   },
   "outputs": [],
   "source": [
    "###################################\n",
    "# Build the network(s)\n",
    "# Note: It's critical to do this AFTER setting the RNG\n",
    "###################################\n",
    "x_net = build_sequential(p.x_net)"
   ]
  },
  {
   "cell_type": "code",
   "execution_count": 9,
   "id": "5d7e61cc",
   "metadata": {
    "execution": {
     "iopub.execute_input": "2022-03-25T08:57:40.757385Z",
     "iopub.status.busy": "2022-03-25T08:57:40.757136Z",
     "iopub.status.idle": "2022-03-25T08:57:40.772203Z",
     "shell.execute_reply": "2022-03-25T08:57:40.771759Z"
    },
    "papermill": {
     "duration": 0.030053,
     "end_time": "2022-03-25T08:57:40.772290",
     "exception": false,
     "start_time": "2022-03-25T08:57:40.742237",
     "status": "completed"
    },
    "tags": []
   },
   "outputs": [],
   "source": [
    "start_time_secs = time.time()"
   ]
  },
  {
   "cell_type": "code",
   "execution_count": 10,
   "id": "c6b67dfd",
   "metadata": {
    "execution": {
     "iopub.execute_input": "2022-03-25T08:57:40.805632Z",
     "iopub.status.busy": "2022-03-25T08:57:40.805381Z",
     "iopub.status.idle": "2022-03-25T08:57:40.819961Z",
     "shell.execute_reply": "2022-03-25T08:57:40.819518Z"
    },
    "papermill": {
     "duration": 0.030016,
     "end_time": "2022-03-25T08:57:40.820047",
     "exception": false,
     "start_time": "2022-03-25T08:57:40.790031",
     "status": "completed"
    },
    "tags": []
   },
   "outputs": [],
   "source": [
    "p.domains_source = []\n",
    "p.domains_target = []\n",
    "\n",
    "\n",
    "train_original_source = []\n",
    "val_original_source   = []\n",
    "test_original_source  = []\n",
    "\n",
    "train_original_target = []\n",
    "val_original_target   = []\n",
    "test_original_target  = []"
   ]
  },
  {
   "cell_type": "code",
   "execution_count": 11,
   "id": "e3d9c3d3",
   "metadata": {
    "execution": {
     "iopub.execute_input": "2022-03-25T08:57:40.853967Z",
     "iopub.status.busy": "2022-03-25T08:57:40.853717Z",
     "iopub.status.idle": "2022-03-25T08:57:40.868612Z",
     "shell.execute_reply": "2022-03-25T08:57:40.868227Z"
    },
    "papermill": {
     "duration": 0.030678,
     "end_time": "2022-03-25T08:57:40.868697",
     "exception": false,
     "start_time": "2022-03-25T08:57:40.838019",
     "status": "completed"
    },
    "tags": []
   },
   "outputs": [],
   "source": [
    "# global_x_transform_func = lambda x: normalize(x.to(torch.get_default_dtype()), \"unit_power\") # unit_power, unit_mag\n",
    "# global_x_transform_func = lambda x: normalize(x, \"unit_power\") # unit_power, unit_mag"
   ]
  },
  {
   "cell_type": "code",
   "execution_count": 12,
   "id": "acb78fd2",
   "metadata": {
    "execution": {
     "iopub.execute_input": "2022-03-25T08:57:40.904185Z",
     "iopub.status.busy": "2022-03-25T08:57:40.903926Z",
     "iopub.status.idle": "2022-03-25T08:57:40.914811Z",
     "shell.execute_reply": "2022-03-25T08:57:40.914567Z"
    },
    "papermill": {
     "duration": 0.028252,
     "end_time": "2022-03-25T08:57:40.914892",
     "exception": false,
     "start_time": "2022-03-25T08:57:40.886640",
     "status": "completed"
    },
    "tags": []
   },
   "outputs": [],
   "source": [
    "def add_dataset(\n",
    "    labels,\n",
    "    domains,\n",
    "    pickle_path,\n",
    "    x_transforms,\n",
    "    episode_transforms,\n",
    "    domain_prefix,\n",
    "    num_examples_per_domain_per_label,\n",
    "    source_or_target_dataset:str,\n",
    "    iterator_seed=p.seed,\n",
    "    dataset_seed=p.dataset_seed,\n",
    "    n_shot=p.n_shot,\n",
    "    n_way=p.n_way,\n",
    "    n_query=p.n_query,\n",
    "    train_val_test_k_factors=(p.train_k_factor,p.val_k_factor,p.test_k_factor),\n",
    "):\n",
    "   \n",
    "    if x_transforms == []: x_transform = None\n",
    "    else: x_transform = get_chained_transform(x_transforms)\n",
    "    \n",
    "    if episode_transforms == []: episode_transform = None\n",
    "    else: raise Exception(\"episode_transforms not implemented\")\n",
    "    \n",
    "    episode_transform = lambda tup, _prefix=domain_prefix: (_prefix + str(tup[0]), tup[1])\n",
    "\n",
    "\n",
    "    eaf = Episodic_Accessor_Factory(\n",
    "        labels=labels,\n",
    "        domains=domains,\n",
    "        num_examples_per_domain_per_label=num_examples_per_domain_per_label,\n",
    "        iterator_seed=iterator_seed,\n",
    "        dataset_seed=dataset_seed,\n",
    "        n_shot=n_shot,\n",
    "        n_way=n_way,\n",
    "        n_query=n_query,\n",
    "        train_val_test_k_factors=train_val_test_k_factors,\n",
    "        pickle_path=pickle_path,\n",
    "        x_transform_func=x_transform,\n",
    "    )\n",
    "\n",
    "    train, val, test = eaf.get_train(), eaf.get_val(), eaf.get_test()\n",
    "    train = Lazy_Iterable_Wrapper(train, episode_transform)\n",
    "    val = Lazy_Iterable_Wrapper(val, episode_transform)\n",
    "    test = Lazy_Iterable_Wrapper(test, episode_transform)\n",
    "\n",
    "    if source_or_target_dataset==\"source\":\n",
    "        train_original_source.append(train)\n",
    "        val_original_source.append(val)\n",
    "        test_original_source.append(test)\n",
    "\n",
    "        p.domains_source.extend(\n",
    "            [domain_prefix + str(u) for u in domains]\n",
    "        )\n",
    "    elif source_or_target_dataset==\"target\":\n",
    "        train_original_target.append(train)\n",
    "        val_original_target.append(val)\n",
    "        test_original_target.append(test)\n",
    "        p.domains_target.extend(\n",
    "            [domain_prefix + str(u) for u in domains]\n",
    "        )\n",
    "    else:\n",
    "        raise Exception(f\"invalid source_or_target_dataset: {source_or_target_dataset}\")\n",
    "    "
   ]
  },
  {
   "cell_type": "code",
   "execution_count": 13,
   "id": "fe266617",
   "metadata": {
    "execution": {
     "iopub.execute_input": "2022-03-25T08:57:40.948845Z",
     "iopub.status.busy": "2022-03-25T08:57:40.948598Z",
     "iopub.status.idle": "2022-03-25T08:58:30.250031Z",
     "shell.execute_reply": "2022-03-25T08:58:30.249556Z"
    },
    "papermill": {
     "duration": 49.31655,
     "end_time": "2022-03-25T08:58:30.250137",
     "exception": false,
     "start_time": "2022-03-25T08:57:40.933587",
     "status": "completed"
    },
    "tags": []
   },
   "outputs": [],
   "source": [
    "for ds in p.datasets:\n",
    "    add_dataset(**ds)"
   ]
  },
  {
   "cell_type": "code",
   "execution_count": 14,
   "id": "b90d65ac",
   "metadata": {
    "execution": {
     "iopub.execute_input": "2022-03-25T08:58:30.285815Z",
     "iopub.status.busy": "2022-03-25T08:58:30.285554Z",
     "iopub.status.idle": "2022-03-25T08:58:30.301109Z",
     "shell.execute_reply": "2022-03-25T08:58:30.300797Z"
    },
    "papermill": {
     "duration": 0.031232,
     "end_time": "2022-03-25T08:58:30.301178",
     "exception": false,
     "start_time": "2022-03-25T08:58:30.269946",
     "status": "completed"
    },
    "tags": []
   },
   "outputs": [],
   "source": [
    "# from steves_utils.CORES.utils import (\n",
    "#     ALL_NODES,\n",
    "#     ALL_NODES_MINIMUM_1000_EXAMPLES,\n",
    "#     ALL_DAYS\n",
    "# )\n",
    "\n",
    "# add_dataset(\n",
    "#     labels=ALL_NODES,\n",
    "#     domains = ALL_DAYS,\n",
    "#     num_examples_per_domain_per_label=100,\n",
    "#     pickle_path=os.path.join(get_datasets_base_path(), \"cores.stratified_ds.2022A.pkl\"),\n",
    "#     source_or_target_dataset=\"target\",\n",
    "#     x_transform_func=global_x_transform_func,\n",
    "#     domain_modifier=lambda u: f\"cores_{u}\"\n",
    "# )"
   ]
  },
  {
   "cell_type": "code",
   "execution_count": 15,
   "id": "76db484d",
   "metadata": {
    "execution": {
     "iopub.execute_input": "2022-03-25T08:58:30.334652Z",
     "iopub.status.busy": "2022-03-25T08:58:30.334372Z",
     "iopub.status.idle": "2022-03-25T08:58:30.348693Z",
     "shell.execute_reply": "2022-03-25T08:58:30.348255Z"
    },
    "papermill": {
     "duration": 0.029801,
     "end_time": "2022-03-25T08:58:30.348789",
     "exception": false,
     "start_time": "2022-03-25T08:58:30.318988",
     "status": "completed"
    },
    "tags": []
   },
   "outputs": [],
   "source": [
    "# from steves_utils.ORACLE.utils_v2 import (\n",
    "#     ALL_DISTANCES_FEET,\n",
    "#     ALL_RUNS,\n",
    "#     ALL_SERIAL_NUMBERS,\n",
    "# )\n",
    "\n",
    "\n",
    "# add_dataset(\n",
    "#     labels=ALL_SERIAL_NUMBERS,\n",
    "#     domains = list(set(ALL_DISTANCES_FEET) - {2,62}),\n",
    "#     num_examples_per_domain_per_label=100,\n",
    "#     pickle_path=os.path.join(get_datasets_base_path(), \"oracle.Run2_framed_2000Examples_stratified_ds.2022A.pkl\"),\n",
    "#     source_or_target_dataset=\"source\",\n",
    "#     x_transform_func=global_x_transform_func,\n",
    "#     domain_modifier=lambda u: f\"oracle1_{u}\"\n",
    "# )\n"
   ]
  },
  {
   "cell_type": "code",
   "execution_count": 16,
   "id": "97dea9d2",
   "metadata": {
    "execution": {
     "iopub.execute_input": "2022-03-25T08:58:30.383965Z",
     "iopub.status.busy": "2022-03-25T08:58:30.383711Z",
     "iopub.status.idle": "2022-03-25T08:58:30.398388Z",
     "shell.execute_reply": "2022-03-25T08:58:30.397927Z"
    },
    "papermill": {
     "duration": 0.030886,
     "end_time": "2022-03-25T08:58:30.398474",
     "exception": false,
     "start_time": "2022-03-25T08:58:30.367588",
     "status": "completed"
    },
    "tags": []
   },
   "outputs": [],
   "source": [
    "# from steves_utils.ORACLE.utils_v2 import (\n",
    "#     ALL_DISTANCES_FEET,\n",
    "#     ALL_RUNS,\n",
    "#     ALL_SERIAL_NUMBERS,\n",
    "# )\n",
    "\n",
    "\n",
    "# add_dataset(\n",
    "#     labels=ALL_SERIAL_NUMBERS,\n",
    "#     domains = list(set(ALL_DISTANCES_FEET) - {2,62,56}),\n",
    "#     num_examples_per_domain_per_label=100,\n",
    "#     pickle_path=os.path.join(get_datasets_base_path(), \"oracle.Run2_framed_2000Examples_stratified_ds.2022A.pkl\"),\n",
    "#     source_or_target_dataset=\"source\",\n",
    "#     x_transform_func=global_x_transform_func,\n",
    "#     domain_modifier=lambda u: f\"oracle2_{u}\"\n",
    "# )"
   ]
  },
  {
   "cell_type": "code",
   "execution_count": 17,
   "id": "6f289866",
   "metadata": {
    "execution": {
     "iopub.execute_input": "2022-03-25T08:58:30.431982Z",
     "iopub.status.busy": "2022-03-25T08:58:30.431732Z",
     "iopub.status.idle": "2022-03-25T08:58:30.441468Z",
     "shell.execute_reply": "2022-03-25T08:58:30.441075Z"
    },
    "papermill": {
     "duration": 0.025633,
     "end_time": "2022-03-25T08:58:30.441556",
     "exception": false,
     "start_time": "2022-03-25T08:58:30.415923",
     "status": "completed"
    },
    "tags": []
   },
   "outputs": [],
   "source": [
    "# add_dataset(\n",
    "#     labels=list(range(19)),\n",
    "#     domains = [0,1,2],\n",
    "#     num_examples_per_domain_per_label=100,\n",
    "#     pickle_path=os.path.join(get_datasets_base_path(), \"metehan.stratified_ds.2022A.pkl\"),\n",
    "#     source_or_target_dataset=\"target\",\n",
    "#     x_transform_func=global_x_transform_func,\n",
    "#     domain_modifier=lambda u: f\"met_{u}\"\n",
    "# )"
   ]
  },
  {
   "cell_type": "code",
   "execution_count": 18,
   "id": "86a863c3",
   "metadata": {
    "execution": {
     "iopub.execute_input": "2022-03-25T08:58:30.474139Z",
     "iopub.status.busy": "2022-03-25T08:58:30.473869Z",
     "iopub.status.idle": "2022-03-25T08:58:30.487769Z",
     "shell.execute_reply": "2022-03-25T08:58:30.487321Z"
    },
    "papermill": {
     "duration": 0.03014,
     "end_time": "2022-03-25T08:58:30.487856",
     "exception": false,
     "start_time": "2022-03-25T08:58:30.457716",
     "status": "completed"
    },
    "tags": []
   },
   "outputs": [],
   "source": [
    "# # from steves_utils.wisig.utils import (\n",
    "# #     ALL_NODES_MINIMUM_100_EXAMPLES,\n",
    "# #     ALL_NODES_MINIMUM_500_EXAMPLES,\n",
    "# #     ALL_NODES_MINIMUM_1000_EXAMPLES,\n",
    "# #     ALL_DAYS\n",
    "# # )\n",
    "\n",
    "# import steves_utils.wisig.utils as wisig\n",
    "\n",
    "\n",
    "# add_dataset(\n",
    "#     labels=wisig.ALL_NODES_MINIMUM_100_EXAMPLES,\n",
    "#     domains = wisig.ALL_DAYS,\n",
    "#     num_examples_per_domain_per_label=100,\n",
    "#     pickle_path=os.path.join(get_datasets_base_path(), \"wisig.node3-19.stratified_ds.2022A.pkl\"),\n",
    "#     source_or_target_dataset=\"target\",\n",
    "#     x_transform_func=global_x_transform_func,\n",
    "#     domain_modifier=lambda u: f\"wisig_{u}\"\n",
    "# )"
   ]
  },
  {
   "cell_type": "code",
   "execution_count": 19,
   "id": "fd5442bc",
   "metadata": {
    "execution": {
     "iopub.execute_input": "2022-03-25T08:58:30.524300Z",
     "iopub.status.busy": "2022-03-25T08:58:30.524039Z",
     "iopub.status.idle": "2022-03-25T08:58:30.536788Z",
     "shell.execute_reply": "2022-03-25T08:58:30.536438Z"
    },
    "papermill": {
     "duration": 0.030282,
     "end_time": "2022-03-25T08:58:30.536856",
     "exception": false,
     "start_time": "2022-03-25T08:58:30.506574",
     "status": "completed"
    },
    "tags": []
   },
   "outputs": [],
   "source": [
    "###################################\n",
    "# Build the dataset\n",
    "###################################\n",
    "train_original_source = Iterable_Aggregator(train_original_source, p.seed)\n",
    "val_original_source = Iterable_Aggregator(val_original_source, p.seed)\n",
    "test_original_source = Iterable_Aggregator(test_original_source, p.seed)\n",
    "\n",
    "\n",
    "train_original_target = Iterable_Aggregator(train_original_target, p.seed)\n",
    "val_original_target = Iterable_Aggregator(val_original_target, p.seed)\n",
    "test_original_target = Iterable_Aggregator(test_original_target, p.seed)\n",
    "\n",
    "# For CNN We only use X and Y. And we only train on the source.\n",
    "# Properly form the data using a transform lambda and Lazy_Iterable_Wrapper. Finally wrap them in a dataloader\n",
    "\n",
    "transform_lambda = lambda ex: ex[1] # Original is (<domain>, <episode>) so we strip down to episode only\n",
    "\n",
    "train_processed_source = Lazy_Iterable_Wrapper(train_original_source, transform_lambda)\n",
    "val_processed_source   = Lazy_Iterable_Wrapper(val_original_source, transform_lambda)\n",
    "test_processed_source  = Lazy_Iterable_Wrapper(test_original_source, transform_lambda)\n",
    "\n",
    "train_processed_target = Lazy_Iterable_Wrapper(train_original_target, transform_lambda)\n",
    "val_processed_target   = Lazy_Iterable_Wrapper(val_original_target, transform_lambda)\n",
    "test_processed_target  = Lazy_Iterable_Wrapper(test_original_target, transform_lambda)\n",
    "\n",
    "datasets = EasyDict({\n",
    "    \"source\": {\n",
    "        \"original\": {\"train\":train_original_source, \"val\":val_original_source, \"test\":test_original_source},\n",
    "        \"processed\": {\"train\":train_processed_source, \"val\":val_processed_source, \"test\":test_processed_source}\n",
    "    },\n",
    "    \"target\": {\n",
    "        \"original\": {\"train\":train_original_target, \"val\":val_original_target, \"test\":test_original_target},\n",
    "        \"processed\": {\"train\":train_processed_target, \"val\":val_processed_target, \"test\":test_processed_target}\n",
    "    },\n",
    "})"
   ]
  },
  {
   "cell_type": "code",
   "execution_count": 20,
   "id": "5b3c01fc",
   "metadata": {
    "execution": {
     "iopub.execute_input": "2022-03-25T08:58:30.571144Z",
     "iopub.status.busy": "2022-03-25T08:58:30.570642Z",
     "iopub.status.idle": "2022-03-25T08:58:36.815766Z",
     "shell.execute_reply": "2022-03-25T08:58:36.816199Z"
    },
    "papermill": {
     "duration": 6.261687,
     "end_time": "2022-03-25T08:58:36.816336",
     "exception": false,
     "start_time": "2022-03-25T08:58:30.554649",
     "status": "completed"
    },
    "tags": []
   },
   "outputs": [
    {
     "name": "stdout",
     "output_type": "stream",
     "text": [
      "{'O_26', 'O_38', 'O_8', 'O_50', 'O_44', 'O_14', 'O_20', 'O_32'}\n"
     ]
    },
    {
     "name": "stdout",
     "output_type": "stream",
     "text": [
      "{'C_2', 'C_3', 'C_1', 'C_4', 'C_5'}\n"
     ]
    },
    {
     "name": "stdout",
     "output_type": "stream",
     "text": [
      "tensor([[[ 0.6470,  0.5780, -0.6104,  ...,  0.1196, -1.0641,  0.0498],\n",
      "         [ 0.1549,  1.2563,  0.3941,  ...,  0.8166,  0.6102,  0.8082]],\n",
      "\n",
      "        [[-0.6667,  0.2748,  0.8156,  ...,  0.4889,  1.1788,  0.6502],\n",
      "         [-0.5000, -1.2580,  0.2088,  ..., -0.5176,  0.3522, -0.6378]],\n",
      "\n",
      "        [[-0.0371,  1.1261,  0.4751,  ...,  0.7801,  0.4409,  0.7636],\n",
      "         [-0.5844, -0.4009,  0.6742,  ...,  0.0045,  1.1223,  0.0137]],\n",
      "\n",
      "        ...,\n",
      "\n",
      "        [[ 0.7062,  0.4473, -0.7024,  ..., -0.0110, -1.2104, -0.1140],\n",
      "         [ 0.1657,  1.1509,  0.2787,  ...,  0.8103,  0.5784,  0.9839]],\n",
      "\n",
      "        [[ 0.9780,  0.7687, -1.0005,  ..., -0.1678, -0.3604,  1.0122],\n",
      "         [ 0.0998,  0.8762,  0.2805,  ...,  0.9712,  0.7959,  0.6791]],\n",
      "\n",
      "        [[ 0.8678,  0.9529, -0.6981,  ...,  0.5441,  0.5057,  1.1785],\n",
      "         [-0.6983,  0.1518,  1.1143,  ...,  1.0081,  0.5522, -0.4006]]])\n"
     ]
    }
   ],
   "source": [
    "from steves_utils.transforms import get_average_magnitude, get_average_power\n",
    "\n",
    "print(set([u for u,_ in val_original_source]))\n",
    "print(set([u for u,_ in val_original_target]))\n",
    "\n",
    "s_x, s_y, q_x, q_y, _ = next(iter(train_processed_source))\n",
    "print(s_x)\n",
    "\n",
    "# for ds in [\n",
    "#     train_processed_source,\n",
    "#     val_processed_source,\n",
    "#     test_processed_source,\n",
    "#     train_processed_target,\n",
    "#     val_processed_target,\n",
    "#     test_processed_target\n",
    "# ]:\n",
    "#     for s_x, s_y, q_x, q_y, _ in ds:\n",
    "#         for X in (s_x, q_x):\n",
    "#             for x in X:\n",
    "#                 assert np.isclose(get_average_magnitude(x.numpy()), 1.0)\n",
    "#                 assert np.isclose(get_average_power(x.numpy()), 1.0)\n",
    "                "
   ]
  },
  {
   "cell_type": "code",
   "execution_count": 21,
   "id": "bbdacba1",
   "metadata": {
    "execution": {
     "iopub.execute_input": "2022-03-25T08:58:36.854779Z",
     "iopub.status.busy": "2022-03-25T08:58:36.854522Z",
     "iopub.status.idle": "2022-03-25T08:58:36.905565Z",
     "shell.execute_reply": "2022-03-25T08:58:36.905165Z"
    },
    "papermill": {
     "duration": 0.068792,
     "end_time": "2022-03-25T08:58:36.905656",
     "exception": false,
     "start_time": "2022-03-25T08:58:36.836864",
     "status": "completed"
    },
    "tags": []
   },
   "outputs": [
    {
     "name": "stdout",
     "output_type": "stream",
     "text": [
      "(2, 200)\n"
     ]
    }
   ],
   "source": [
    "###################################\n",
    "# Build the model\n",
    "###################################\n",
    "# easfsl only wants a tuple for the shape\n",
    "model = Steves_Prototypical_Network(x_net, device=p.device, x_shape=tuple(p.x_shape))\n",
    "optimizer = Adam(params=model.parameters(), lr=p.lr)"
   ]
  },
  {
   "cell_type": "code",
   "execution_count": 22,
   "id": "22b39ac5",
   "metadata": {
    "execution": {
     "iopub.execute_input": "2022-03-25T08:58:36.942093Z",
     "iopub.status.busy": "2022-03-25T08:58:36.941806Z",
     "iopub.status.idle": "2022-03-25T09:34:07.990630Z",
     "shell.execute_reply": "2022-03-25T09:34:07.990393Z"
    },
    "papermill": {
     "duration": 2131.066399,
     "end_time": "2022-03-25T09:34:07.990688",
     "exception": false,
     "start_time": "2022-03-25T08:58:36.924289",
     "status": "completed"
    },
    "tags": []
   },
   "outputs": [
    {
     "name": "stdout",
     "output_type": "stream",
     "text": [
      "epoch: 1, [batch: 1 / 6720], examples_per_second: 48.2944, train_label_loss: 3.0226, \n"
     ]
    },
    {
     "name": "stdout",
     "output_type": "stream",
     "text": [
      "epoch: 1, [batch: 672 / 6720], examples_per_second: 3631.2554, train_label_loss: 1.1682, \n"
     ]
    },
    {
     "name": "stdout",
     "output_type": "stream",
     "text": [
      "epoch: 1, [batch: 1344 / 6720], examples_per_second: 3644.4100, train_label_loss: 1.2294, \n"
     ]
    },
    {
     "name": "stdout",
     "output_type": "stream",
     "text": [
      "epoch: 1, [batch: 2016 / 6720], examples_per_second: 3646.2388, train_label_loss: 1.1633, \n"
     ]
    },
    {
     "name": "stdout",
     "output_type": "stream",
     "text": [
      "epoch: 1, [batch: 2688 / 6720], examples_per_second: 3601.9633, train_label_loss: 0.8607, \n"
     ]
    },
    {
     "name": "stdout",
     "output_type": "stream",
     "text": [
      "epoch: 1, [batch: 3360 / 6720], examples_per_second: 3589.9363, train_label_loss: 1.0718, \n"
     ]
    },
    {
     "name": "stdout",
     "output_type": "stream",
     "text": [
      "epoch: 1, [batch: 4032 / 6720], examples_per_second: 3636.8447, train_label_loss: 0.9841, \n"
     ]
    },
    {
     "name": "stdout",
     "output_type": "stream",
     "text": [
      "epoch: 1, [batch: 4704 / 6720], examples_per_second: 3616.9466, train_label_loss: 0.8677, \n"
     ]
    },
    {
     "name": "stdout",
     "output_type": "stream",
     "text": [
      "epoch: 1, [batch: 5376 / 6720], examples_per_second: 3623.1800, train_label_loss: 1.5866, \n"
     ]
    },
    {
     "name": "stdout",
     "output_type": "stream",
     "text": [
      "epoch: 1, [batch: 6048 / 6720], examples_per_second: 3629.4613, train_label_loss: 0.6613, \n"
     ]
    },
    {
     "name": "stdout",
     "output_type": "stream",
     "text": [
      "=============================================================\n",
      "epoch: 1, source_val_acc_label: 0.6702, target_val_acc_label: 0.4682, source_val_label_loss: 7.8537, target_val_label_loss: 1518.3960, \n",
      "=============================================================\n"
     ]
    },
    {
     "name": "stdout",
     "output_type": "stream",
     "text": [
      "New best\n"
     ]
    },
    {
     "name": "stdout",
     "output_type": "stream",
     "text": [
      "epoch: 2, [batch: 1 / 6720], examples_per_second: 5.2485, train_label_loss: 1.2325, \n"
     ]
    },
    {
     "name": "stdout",
     "output_type": "stream",
     "text": [
      "epoch: 2, [batch: 672 / 6720], examples_per_second: 3605.5927, train_label_loss: 1.1462, \n"
     ]
    },
    {
     "name": "stdout",
     "output_type": "stream",
     "text": [
      "epoch: 2, [batch: 1344 / 6720], examples_per_second: 3631.9501, train_label_loss: 0.7463, \n"
     ]
    },
    {
     "name": "stdout",
     "output_type": "stream",
     "text": [
      "epoch: 2, [batch: 2016 / 6720], examples_per_second: 3632.7888, train_label_loss: 0.8721, \n"
     ]
    },
    {
     "name": "stdout",
     "output_type": "stream",
     "text": [
      "epoch: 2, [batch: 2688 / 6720], examples_per_second: 3625.6565, train_label_loss: 0.9467, \n"
     ]
    },
    {
     "name": "stdout",
     "output_type": "stream",
     "text": [
      "epoch: 2, [batch: 3360 / 6720], examples_per_second: 3625.7425, train_label_loss: 0.6616, \n"
     ]
    },
    {
     "name": "stdout",
     "output_type": "stream",
     "text": [
      "epoch: 2, [batch: 4032 / 6720], examples_per_second: 3606.5960, train_label_loss: 0.5791, \n"
     ]
    },
    {
     "name": "stdout",
     "output_type": "stream",
     "text": [
      "epoch: 2, [batch: 4704 / 6720], examples_per_second: 3615.8353, train_label_loss: 0.7661, \n"
     ]
    },
    {
     "name": "stdout",
     "output_type": "stream",
     "text": [
      "epoch: 2, [batch: 5376 / 6720], examples_per_second: 3641.3563, train_label_loss: 1.2104, \n"
     ]
    },
    {
     "name": "stdout",
     "output_type": "stream",
     "text": [
      "epoch: 2, [batch: 6048 / 6720], examples_per_second: 3634.3278, train_label_loss: 0.5246, \n"
     ]
    },
    {
     "name": "stdout",
     "output_type": "stream",
     "text": [
      "=============================================================\n",
      "epoch: 2, source_val_acc_label: 0.7207, target_val_acc_label: 0.6514, source_val_label_loss: 0.7706, target_val_label_loss: 85.1192, \n",
      "=============================================================\n"
     ]
    },
    {
     "name": "stdout",
     "output_type": "stream",
     "text": [
      "New best\n"
     ]
    },
    {
     "name": "stdout",
     "output_type": "stream",
     "text": [
      "epoch: 3, [batch: 1 / 6720], examples_per_second: 5.2322, train_label_loss: 0.5946, \n"
     ]
    },
    {
     "name": "stdout",
     "output_type": "stream",
     "text": [
      "epoch: 3, [batch: 672 / 6720], examples_per_second: 3606.1933, train_label_loss: 0.7454, \n"
     ]
    },
    {
     "name": "stdout",
     "output_type": "stream",
     "text": [
      "epoch: 3, [batch: 1344 / 6720], examples_per_second: 3627.4594, train_label_loss: 0.9975, \n"
     ]
    },
    {
     "name": "stdout",
     "output_type": "stream",
     "text": [
      "epoch: 3, [batch: 2016 / 6720], examples_per_second: 3639.9454, train_label_loss: 0.5679, \n"
     ]
    },
    {
     "name": "stdout",
     "output_type": "stream",
     "text": [
      "epoch: 3, [batch: 2688 / 6720], examples_per_second: 3624.1584, train_label_loss: 0.6046, \n"
     ]
    },
    {
     "name": "stdout",
     "output_type": "stream",
     "text": [
      "epoch: 3, [batch: 3360 / 6720], examples_per_second: 3640.5047, train_label_loss: 0.7467, \n"
     ]
    },
    {
     "name": "stdout",
     "output_type": "stream",
     "text": [
      "epoch: 3, [batch: 4032 / 6720], examples_per_second: 3631.8380, train_label_loss: 0.3878, \n"
     ]
    },
    {
     "name": "stdout",
     "output_type": "stream",
     "text": [
      "epoch: 3, [batch: 4704 / 6720], examples_per_second: 3602.3401, train_label_loss: 0.6134, \n"
     ]
    },
    {
     "name": "stdout",
     "output_type": "stream",
     "text": [
      "epoch: 3, [batch: 5376 / 6720], examples_per_second: 3601.6434, train_label_loss: 0.5411, \n"
     ]
    },
    {
     "name": "stdout",
     "output_type": "stream",
     "text": [
      "epoch: 3, [batch: 6048 / 6720], examples_per_second: 3619.6090, train_label_loss: 0.4005, \n"
     ]
    },
    {
     "name": "stdout",
     "output_type": "stream",
     "text": [
      "=============================================================\n",
      "epoch: 3, source_val_acc_label: 0.7910, target_val_acc_label: 0.6895, source_val_label_loss: 0.5801, target_val_label_loss: 70.4349, \n",
      "=============================================================\n"
     ]
    },
    {
     "name": "stdout",
     "output_type": "stream",
     "text": [
      "New best\n"
     ]
    },
    {
     "name": "stdout",
     "output_type": "stream",
     "text": [
      "epoch: 4, [batch: 1 / 6720], examples_per_second: 5.2654, train_label_loss: 0.5018, \n"
     ]
    },
    {
     "name": "stdout",
     "output_type": "stream",
     "text": [
      "epoch: 4, [batch: 672 / 6720], examples_per_second: 3579.1416, train_label_loss: 0.6865, \n"
     ]
    },
    {
     "name": "stdout",
     "output_type": "stream",
     "text": [
      "epoch: 4, [batch: 1344 / 6720], examples_per_second: 3624.5052, train_label_loss: 0.2753, \n"
     ]
    },
    {
     "name": "stdout",
     "output_type": "stream",
     "text": [
      "epoch: 4, [batch: 2016 / 6720], examples_per_second: 3637.5524, train_label_loss: 0.3160, \n"
     ]
    },
    {
     "name": "stdout",
     "output_type": "stream",
     "text": [
      "epoch: 4, [batch: 2688 / 6720], examples_per_second: 3613.6077, train_label_loss: 0.7675, \n"
     ]
    },
    {
     "name": "stdout",
     "output_type": "stream",
     "text": [
      "epoch: 4, [batch: 3360 / 6720], examples_per_second: 3637.8834, train_label_loss: 0.9390, \n"
     ]
    },
    {
     "name": "stdout",
     "output_type": "stream",
     "text": [
      "epoch: 4, [batch: 4032 / 6720], examples_per_second: 3628.9966, train_label_loss: 0.4305, \n"
     ]
    },
    {
     "name": "stdout",
     "output_type": "stream",
     "text": [
      "epoch: 4, [batch: 4704 / 6720], examples_per_second: 3624.4935, train_label_loss: 0.4476, \n"
     ]
    },
    {
     "name": "stdout",
     "output_type": "stream",
     "text": [
      "epoch: 4, [batch: 5376 / 6720], examples_per_second: 3643.9311, train_label_loss: 0.4771, \n"
     ]
    },
    {
     "name": "stdout",
     "output_type": "stream",
     "text": [
      "epoch: 4, [batch: 6048 / 6720], examples_per_second: 3638.1597, train_label_loss: 0.4616, \n"
     ]
    },
    {
     "name": "stdout",
     "output_type": "stream",
     "text": [
      "=============================================================\n",
      "epoch: 4, source_val_acc_label: 0.7750, target_val_acc_label: 0.6827, source_val_label_loss: 0.6228, target_val_label_loss: 95.7082, \n",
      "=============================================================\n"
     ]
    },
    {
     "name": "stdout",
     "output_type": "stream",
     "text": [
      "epoch: 5, [batch: 1 / 6720], examples_per_second: 5.2596, train_label_loss: 0.3613, \n"
     ]
    },
    {
     "name": "stdout",
     "output_type": "stream",
     "text": [
      "epoch: 5, [batch: 672 / 6720], examples_per_second: 3594.8747, train_label_loss: 1.0340, \n"
     ]
    },
    {
     "name": "stdout",
     "output_type": "stream",
     "text": [
      "epoch: 5, [batch: 1344 / 6720], examples_per_second: 3599.5533, train_label_loss: 0.5606, \n"
     ]
    },
    {
     "name": "stdout",
     "output_type": "stream",
     "text": [
      "epoch: 5, [batch: 2016 / 6720], examples_per_second: 3619.2550, train_label_loss: 0.3109, \n"
     ]
    },
    {
     "name": "stdout",
     "output_type": "stream",
     "text": [
      "epoch: 5, [batch: 2688 / 6720], examples_per_second: 3620.2970, train_label_loss: 1.0482, \n"
     ]
    },
    {
     "name": "stdout",
     "output_type": "stream",
     "text": [
      "epoch: 5, [batch: 3360 / 6720], examples_per_second: 3636.4280, train_label_loss: 0.2488, \n"
     ]
    },
    {
     "name": "stdout",
     "output_type": "stream",
     "text": [
      "epoch: 5, [batch: 4032 / 6720], examples_per_second: 3626.5796, train_label_loss: 0.4186, \n"
     ]
    },
    {
     "name": "stdout",
     "output_type": "stream",
     "text": [
      "epoch: 5, [batch: 4704 / 6720], examples_per_second: 3622.6486, train_label_loss: 0.4941, \n"
     ]
    },
    {
     "name": "stdout",
     "output_type": "stream",
     "text": [
      "epoch: 5, [batch: 5376 / 6720], examples_per_second: 3629.9777, train_label_loss: 0.5445, \n"
     ]
    },
    {
     "name": "stdout",
     "output_type": "stream",
     "text": [
      "epoch: 5, [batch: 6048 / 6720], examples_per_second: 3632.7643, train_label_loss: 0.2052, \n"
     ]
    },
    {
     "name": "stdout",
     "output_type": "stream",
     "text": [
      "=============================================================\n",
      "epoch: 5, source_val_acc_label: 0.8257, target_val_acc_label: 0.7086, source_val_label_loss: 0.4794, target_val_label_loss: 84.4828, \n",
      "=============================================================\n"
     ]
    },
    {
     "name": "stdout",
     "output_type": "stream",
     "text": [
      "New best\n"
     ]
    },
    {
     "name": "stdout",
     "output_type": "stream",
     "text": [
      "epoch: 6, [batch: 1 / 6720], examples_per_second: 5.2544, train_label_loss: 0.1674, \n"
     ]
    },
    {
     "name": "stdout",
     "output_type": "stream",
     "text": [
      "epoch: 6, [batch: 672 / 6720], examples_per_second: 3616.4254, train_label_loss: 0.2766, \n"
     ]
    },
    {
     "name": "stdout",
     "output_type": "stream",
     "text": [
      "epoch: 6, [batch: 1344 / 6720], examples_per_second: 3637.1339, train_label_loss: 0.6615, \n"
     ]
    },
    {
     "name": "stdout",
     "output_type": "stream",
     "text": [
      "epoch: 6, [batch: 2016 / 6720], examples_per_second: 3642.7212, train_label_loss: 0.7243, \n"
     ]
    },
    {
     "name": "stdout",
     "output_type": "stream",
     "text": [
      "epoch: 6, [batch: 2688 / 6720], examples_per_second: 3615.0042, train_label_loss: 0.2156, \n"
     ]
    },
    {
     "name": "stdout",
     "output_type": "stream",
     "text": [
      "epoch: 6, [batch: 3360 / 6720], examples_per_second: 3618.9555, train_label_loss: 0.1568, \n"
     ]
    },
    {
     "name": "stdout",
     "output_type": "stream",
     "text": [
      "epoch: 6, [batch: 4032 / 6720], examples_per_second: 3631.4470, train_label_loss: 0.5770, \n"
     ]
    },
    {
     "name": "stdout",
     "output_type": "stream",
     "text": [
      "epoch: 6, [batch: 4704 / 6720], examples_per_second: 3613.9464, train_label_loss: 0.6162, \n"
     ]
    },
    {
     "name": "stdout",
     "output_type": "stream",
     "text": [
      "epoch: 6, [batch: 5376 / 6720], examples_per_second: 3634.6154, train_label_loss: 1.0134, \n"
     ]
    },
    {
     "name": "stdout",
     "output_type": "stream",
     "text": [
      "epoch: 6, [batch: 6048 / 6720], examples_per_second: 3632.5303, train_label_loss: 0.8573, \n"
     ]
    },
    {
     "name": "stdout",
     "output_type": "stream",
     "text": [
      "=============================================================\n",
      "epoch: 6, source_val_acc_label: 0.8436, target_val_acc_label: 0.7143, source_val_label_loss: 0.4354, target_val_label_loss: 99.3199, \n",
      "=============================================================\n"
     ]
    },
    {
     "name": "stdout",
     "output_type": "stream",
     "text": [
      "New best\n"
     ]
    },
    {
     "name": "stdout",
     "output_type": "stream",
     "text": [
      "epoch: 7, [batch: 1 / 6720], examples_per_second: 5.2596, train_label_loss: 0.2675, \n"
     ]
    },
    {
     "name": "stdout",
     "output_type": "stream",
     "text": [
      "epoch: 7, [batch: 672 / 6720], examples_per_second: 3574.3593, train_label_loss: 0.8828, \n"
     ]
    },
    {
     "name": "stdout",
     "output_type": "stream",
     "text": [
      "epoch: 7, [batch: 1344 / 6720], examples_per_second: 3624.3769, train_label_loss: 0.2228, \n"
     ]
    },
    {
     "name": "stdout",
     "output_type": "stream",
     "text": [
      "epoch: 7, [batch: 2016 / 6720], examples_per_second: 3632.5656, train_label_loss: 0.2437, \n"
     ]
    },
    {
     "name": "stdout",
     "output_type": "stream",
     "text": [
      "epoch: 7, [batch: 2688 / 6720], examples_per_second: 3611.7284, train_label_loss: 0.2658, \n"
     ]
    },
    {
     "name": "stdout",
     "output_type": "stream",
     "text": [
      "epoch: 7, [batch: 3360 / 6720], examples_per_second: 3631.4161, train_label_loss: 0.2511, \n"
     ]
    },
    {
     "name": "stdout",
     "output_type": "stream",
     "text": [
      "epoch: 7, [batch: 4032 / 6720], examples_per_second: 3640.3909, train_label_loss: 0.3020, \n"
     ]
    },
    {
     "name": "stdout",
     "output_type": "stream",
     "text": [
      "epoch: 7, [batch: 4704 / 6720], examples_per_second: 3626.4105, train_label_loss: 0.7902, \n"
     ]
    },
    {
     "name": "stdout",
     "output_type": "stream",
     "text": [
      "epoch: 7, [batch: 5376 / 6720], examples_per_second: 3631.9150, train_label_loss: 0.4610, \n"
     ]
    },
    {
     "name": "stdout",
     "output_type": "stream",
     "text": [
      "epoch: 7, [batch: 6048 / 6720], examples_per_second: 3635.1817, train_label_loss: 0.5588, \n"
     ]
    },
    {
     "name": "stdout",
     "output_type": "stream",
     "text": [
      "=============================================================\n",
      "epoch: 7, source_val_acc_label: 0.8443, target_val_acc_label: 0.7037, source_val_label_loss: 0.4318, target_val_label_loss: 125.9294, \n",
      "=============================================================\n"
     ]
    },
    {
     "name": "stdout",
     "output_type": "stream",
     "text": [
      "epoch: 8, [batch: 1 / 6720], examples_per_second: 5.2307, train_label_loss: 0.2508, \n"
     ]
    },
    {
     "name": "stdout",
     "output_type": "stream",
     "text": [
      "epoch: 8, [batch: 672 / 6720], examples_per_second: 3603.4807, train_label_loss: 0.2839, \n"
     ]
    },
    {
     "name": "stdout",
     "output_type": "stream",
     "text": [
      "epoch: 8, [batch: 1344 / 6720], examples_per_second: 3648.8355, train_label_loss: 0.2136, \n"
     ]
    },
    {
     "name": "stdout",
     "output_type": "stream",
     "text": [
      "epoch: 8, [batch: 2016 / 6720], examples_per_second: 3622.4454, train_label_loss: 0.3518, \n"
     ]
    },
    {
     "name": "stdout",
     "output_type": "stream",
     "text": [
      "epoch: 8, [batch: 2688 / 6720], examples_per_second: 3612.8839, train_label_loss: 0.1855, \n"
     ]
    },
    {
     "name": "stdout",
     "output_type": "stream",
     "text": [
      "epoch: 8, [batch: 3360 / 6720], examples_per_second: 3612.3145, train_label_loss: 0.3530, \n"
     ]
    },
    {
     "name": "stdout",
     "output_type": "stream",
     "text": [
      "epoch: 8, [batch: 4032 / 6720], examples_per_second: 3632.0967, train_label_loss: 0.1155, \n"
     ]
    },
    {
     "name": "stdout",
     "output_type": "stream",
     "text": [
      "epoch: 8, [batch: 4704 / 6720], examples_per_second: 3623.0886, train_label_loss: 0.5137, \n"
     ]
    },
    {
     "name": "stdout",
     "output_type": "stream",
     "text": [
      "epoch: 8, [batch: 5376 / 6720], examples_per_second: 3649.7984, train_label_loss: 0.0809, \n"
     ]
    },
    {
     "name": "stdout",
     "output_type": "stream",
     "text": [
      "epoch: 8, [batch: 6048 / 6720], examples_per_second: 3630.6134, train_label_loss: 0.1700, \n"
     ]
    },
    {
     "name": "stdout",
     "output_type": "stream",
     "text": [
      "=============================================================\n",
      "epoch: 8, source_val_acc_label: 0.8438, target_val_acc_label: 0.7028, source_val_label_loss: 0.4242, target_val_label_loss: 115.2886, \n",
      "=============================================================\n"
     ]
    },
    {
     "name": "stdout",
     "output_type": "stream",
     "text": [
      "epoch: 9, [batch: 1 / 6720], examples_per_second: 5.2348, train_label_loss: 0.7934, \n"
     ]
    },
    {
     "name": "stdout",
     "output_type": "stream",
     "text": [
      "epoch: 9, [batch: 672 / 6720], examples_per_second: 3595.2192, train_label_loss: 0.7477, \n"
     ]
    },
    {
     "name": "stdout",
     "output_type": "stream",
     "text": [
      "epoch: 9, [batch: 1344 / 6720], examples_per_second: 3627.4333, train_label_loss: 0.3890, \n"
     ]
    },
    {
     "name": "stdout",
     "output_type": "stream",
     "text": [
      "epoch: 9, [batch: 2016 / 6720], examples_per_second: 3641.5223, train_label_loss: 0.4096, \n"
     ]
    },
    {
     "name": "stdout",
     "output_type": "stream",
     "text": [
      "epoch: 9, [batch: 2688 / 6720], examples_per_second: 3619.5618, train_label_loss: 0.2807, \n"
     ]
    },
    {
     "name": "stdout",
     "output_type": "stream",
     "text": [
      "epoch: 9, [batch: 3360 / 6720], examples_per_second: 3625.5648, train_label_loss: 0.6402, \n"
     ]
    },
    {
     "name": "stdout",
     "output_type": "stream",
     "text": [
      "epoch: 9, [batch: 4032 / 6720], examples_per_second: 3640.9935, train_label_loss: 0.4032, \n"
     ]
    },
    {
     "name": "stdout",
     "output_type": "stream",
     "text": [
      "epoch: 9, [batch: 4704 / 6720], examples_per_second: 3612.8100, train_label_loss: 0.2488, \n"
     ]
    },
    {
     "name": "stdout",
     "output_type": "stream",
     "text": [
      "epoch: 9, [batch: 5376 / 6720], examples_per_second: 3624.1558, train_label_loss: 0.0720, \n"
     ]
    },
    {
     "name": "stdout",
     "output_type": "stream",
     "text": [
      "epoch: 9, [batch: 6048 / 6720], examples_per_second: 3629.5276, train_label_loss: 0.6317, \n"
     ]
    },
    {
     "name": "stdout",
     "output_type": "stream",
     "text": [
      "=============================================================\n",
      "epoch: 9, source_val_acc_label: 0.8752, target_val_acc_label: 0.7406, source_val_label_loss: 0.3486, target_val_label_loss: 126.4018, \n",
      "=============================================================\n"
     ]
    },
    {
     "name": "stdout",
     "output_type": "stream",
     "text": [
      "New best\n"
     ]
    },
    {
     "name": "stdout",
     "output_type": "stream",
     "text": [
      "epoch: 10, [batch: 1 / 6720], examples_per_second: 5.2210, train_label_loss: 0.0578, \n"
     ]
    },
    {
     "name": "stdout",
     "output_type": "stream",
     "text": [
      "epoch: 10, [batch: 672 / 6720], examples_per_second: 3607.0726, train_label_loss: 0.3093, \n"
     ]
    },
    {
     "name": "stdout",
     "output_type": "stream",
     "text": [
      "epoch: 10, [batch: 1344 / 6720], examples_per_second: 3630.3678, train_label_loss: 0.3551, \n"
     ]
    },
    {
     "name": "stdout",
     "output_type": "stream",
     "text": [
      "epoch: 10, [batch: 2016 / 6720], examples_per_second: 3636.1613, train_label_loss: 0.3380, \n"
     ]
    },
    {
     "name": "stdout",
     "output_type": "stream",
     "text": [
      "epoch: 10, [batch: 2688 / 6720], examples_per_second: 3615.9647, train_label_loss: 0.1476, \n"
     ]
    },
    {
     "name": "stdout",
     "output_type": "stream",
     "text": [
      "epoch: 10, [batch: 3360 / 6720], examples_per_second: 3643.9959, train_label_loss: 0.5781, \n"
     ]
    },
    {
     "name": "stdout",
     "output_type": "stream",
     "text": [
      "epoch: 10, [batch: 4032 / 6720], examples_per_second: 3628.2152, train_label_loss: 0.1676, \n"
     ]
    },
    {
     "name": "stdout",
     "output_type": "stream",
     "text": [
      "epoch: 10, [batch: 4704 / 6720], examples_per_second: 3620.3385, train_label_loss: 0.4448, \n"
     ]
    },
    {
     "name": "stdout",
     "output_type": "stream",
     "text": [
      "epoch: 10, [batch: 5376 / 6720], examples_per_second: 3632.1106, train_label_loss: 0.1495, \n"
     ]
    },
    {
     "name": "stdout",
     "output_type": "stream",
     "text": [
      "epoch: 10, [batch: 6048 / 6720], examples_per_second: 3624.2320, train_label_loss: 0.1189, \n"
     ]
    },
    {
     "name": "stdout",
     "output_type": "stream",
     "text": [
      "=============================================================\n",
      "epoch: 10, source_val_acc_label: 0.8447, target_val_acc_label: 0.6776, source_val_label_loss: 0.4257, target_val_label_loss: 164.3797, \n",
      "=============================================================\n"
     ]
    },
    {
     "name": "stdout",
     "output_type": "stream",
     "text": [
      "epoch: 11, [batch: 1 / 6720], examples_per_second: 5.2558, train_label_loss: 0.2188, \n"
     ]
    },
    {
     "name": "stdout",
     "output_type": "stream",
     "text": [
      "epoch: 11, [batch: 672 / 6720], examples_per_second: 3613.0450, train_label_loss: 0.2760, \n"
     ]
    },
    {
     "name": "stdout",
     "output_type": "stream",
     "text": [
      "epoch: 11, [batch: 1344 / 6720], examples_per_second: 3655.4701, train_label_loss: 0.3664, \n"
     ]
    },
    {
     "name": "stdout",
     "output_type": "stream",
     "text": [
      "epoch: 11, [batch: 2016 / 6720], examples_per_second: 3634.2599, train_label_loss: 0.4575, \n"
     ]
    },
    {
     "name": "stdout",
     "output_type": "stream",
     "text": [
      "epoch: 11, [batch: 2688 / 6720], examples_per_second: 3625.1369, train_label_loss: 0.1127, \n"
     ]
    },
    {
     "name": "stdout",
     "output_type": "stream",
     "text": [
      "epoch: 11, [batch: 3360 / 6720], examples_per_second: 3633.4061, train_label_loss: 0.8684, \n"
     ]
    },
    {
     "name": "stdout",
     "output_type": "stream",
     "text": [
      "epoch: 11, [batch: 4032 / 6720], examples_per_second: 3631.8514, train_label_loss: 0.2414, \n"
     ]
    },
    {
     "name": "stdout",
     "output_type": "stream",
     "text": [
      "epoch: 11, [batch: 4704 / 6720], examples_per_second: 3621.8126, train_label_loss: 0.5791, \n"
     ]
    },
    {
     "name": "stdout",
     "output_type": "stream",
     "text": [
      "epoch: 11, [batch: 5376 / 6720], examples_per_second: 3620.5994, train_label_loss: 0.1327, \n"
     ]
    },
    {
     "name": "stdout",
     "output_type": "stream",
     "text": [
      "epoch: 11, [batch: 6048 / 6720], examples_per_second: 3638.3843, train_label_loss: 0.0448, \n"
     ]
    },
    {
     "name": "stdout",
     "output_type": "stream",
     "text": [
      "=============================================================\n",
      "epoch: 11, source_val_acc_label: 0.8780, target_val_acc_label: 0.6961, source_val_label_loss: 0.3364, target_val_label_loss: 174.2192, \n",
      "=============================================================\n"
     ]
    },
    {
     "name": "stdout",
     "output_type": "stream",
     "text": [
      "epoch: 12, [batch: 1 / 6720], examples_per_second: 5.2788, train_label_loss: 0.2888, \n"
     ]
    },
    {
     "name": "stdout",
     "output_type": "stream",
     "text": [
      "epoch: 12, [batch: 672 / 6720], examples_per_second: 3607.4441, train_label_loss: 0.5616, \n"
     ]
    },
    {
     "name": "stdout",
     "output_type": "stream",
     "text": [
      "epoch: 12, [batch: 1344 / 6720], examples_per_second: 3633.3018, train_label_loss: 0.0242, \n"
     ]
    },
    {
     "name": "stdout",
     "output_type": "stream",
     "text": [
      "epoch: 12, [batch: 2016 / 6720], examples_per_second: 3639.3885, train_label_loss: 0.3689, \n"
     ]
    },
    {
     "name": "stdout",
     "output_type": "stream",
     "text": [
      "epoch: 12, [batch: 2688 / 6720], examples_per_second: 3619.1976, train_label_loss: 0.2025, \n"
     ]
    },
    {
     "name": "stdout",
     "output_type": "stream",
     "text": [
      "epoch: 12, [batch: 3360 / 6720], examples_per_second: 3630.0723, train_label_loss: 0.4527, \n"
     ]
    },
    {
     "name": "stdout",
     "output_type": "stream",
     "text": [
      "epoch: 12, [batch: 4032 / 6720], examples_per_second: 3625.6623, train_label_loss: 0.7170, \n"
     ]
    },
    {
     "name": "stdout",
     "output_type": "stream",
     "text": [
      "epoch: 12, [batch: 4704 / 6720], examples_per_second: 3608.3163, train_label_loss: 0.0436, \n"
     ]
    },
    {
     "name": "stdout",
     "output_type": "stream",
     "text": [
      "epoch: 12, [batch: 5376 / 6720], examples_per_second: 3634.1434, train_label_loss: 0.0700, \n"
     ]
    },
    {
     "name": "stdout",
     "output_type": "stream",
     "text": [
      "epoch: 12, [batch: 6048 / 6720], examples_per_second: 3634.7973, train_label_loss: 0.6337, \n"
     ]
    },
    {
     "name": "stdout",
     "output_type": "stream",
     "text": [
      "=============================================================\n",
      "epoch: 12, source_val_acc_label: 0.8759, target_val_acc_label: 0.7177, source_val_label_loss: 0.3453, target_val_label_loss: 160.5939, \n",
      "=============================================================\n"
     ]
    },
    {
     "name": "stdout",
     "output_type": "stream",
     "text": [
      "epoch: 13, [batch: 1 / 6720], examples_per_second: 5.2529, train_label_loss: 0.1125, \n"
     ]
    },
    {
     "name": "stdout",
     "output_type": "stream",
     "text": [
      "epoch: 13, [batch: 672 / 6720], examples_per_second: 3607.1044, train_label_loss: 0.2940, \n"
     ]
    },
    {
     "name": "stdout",
     "output_type": "stream",
     "text": [
      "epoch: 13, [batch: 1344 / 6720], examples_per_second: 3635.1301, train_label_loss: 0.0718, \n"
     ]
    },
    {
     "name": "stdout",
     "output_type": "stream",
     "text": [
      "epoch: 13, [batch: 2016 / 6720], examples_per_second: 3637.1455, train_label_loss: 0.3633, \n"
     ]
    },
    {
     "name": "stdout",
     "output_type": "stream",
     "text": [
      "epoch: 13, [batch: 2688 / 6720], examples_per_second: 3629.7179, train_label_loss: 0.1947, \n"
     ]
    },
    {
     "name": "stdout",
     "output_type": "stream",
     "text": [
      "epoch: 13, [batch: 3360 / 6720], examples_per_second: 3624.4899, train_label_loss: 0.3051, \n"
     ]
    },
    {
     "name": "stdout",
     "output_type": "stream",
     "text": [
      "epoch: 13, [batch: 4032 / 6720], examples_per_second: 3643.5707, train_label_loss: 0.1876, \n"
     ]
    },
    {
     "name": "stdout",
     "output_type": "stream",
     "text": [
      "epoch: 13, [batch: 4704 / 6720], examples_per_second: 3610.8616, train_label_loss: 0.0484, \n"
     ]
    },
    {
     "name": "stdout",
     "output_type": "stream",
     "text": [
      "epoch: 13, [batch: 5376 / 6720], examples_per_second: 3630.1683, train_label_loss: 0.3682, \n"
     ]
    },
    {
     "name": "stdout",
     "output_type": "stream",
     "text": [
      "epoch: 13, [batch: 6048 / 6720], examples_per_second: 3616.0533, train_label_loss: 0.1645, \n"
     ]
    },
    {
     "name": "stdout",
     "output_type": "stream",
     "text": [
      "=============================================================\n",
      "epoch: 13, source_val_acc_label: 0.8833, target_val_acc_label: 0.7230, source_val_label_loss: 0.3320, target_val_label_loss: 173.1362, \n",
      "=============================================================\n"
     ]
    },
    {
     "name": "stdout",
     "output_type": "stream",
     "text": [
      "Patience (3) exhausted\n"
     ]
    }
   ],
   "source": [
    "###################################\n",
    "# train\n",
    "###################################\n",
    "jig = PTN_Train_Eval_Test_Jig(model, p.BEST_MODEL_PATH, p.device)\n",
    "\n",
    "jig.train(\n",
    "    train_iterable=datasets.source.processed.train,\n",
    "    source_val_iterable=datasets.source.processed.val,\n",
    "    target_val_iterable=datasets.target.processed.val,\n",
    "    num_epochs=p.n_epoch,\n",
    "    num_logs_per_epoch=p.NUM_LOGS_PER_EPOCH,\n",
    "    patience=p.patience,\n",
    "    optimizer=optimizer,\n",
    "    criteria_for_best=p.criteria_for_best,\n",
    ")"
   ]
  },
  {
   "cell_type": "code",
   "execution_count": 23,
   "id": "31e8fabf",
   "metadata": {
    "execution": {
     "iopub.execute_input": "2022-03-25T09:34:08.074216Z",
     "iopub.status.busy": "2022-03-25T09:34:08.073815Z",
     "iopub.status.idle": "2022-03-25T09:34:08.088711Z",
     "shell.execute_reply": "2022-03-25T09:34:08.088927Z"
    },
    "papermill": {
     "duration": 0.05785,
     "end_time": "2022-03-25T09:34:08.089006",
     "exception": false,
     "start_time": "2022-03-25T09:34:08.031156",
     "status": "completed"
    },
    "tags": []
   },
   "outputs": [],
   "source": [
    "total_experiment_time_secs = time.time() - start_time_secs"
   ]
  },
  {
   "cell_type": "code",
   "execution_count": 24,
   "id": "87b9595b",
   "metadata": {
    "execution": {
     "iopub.execute_input": "2022-03-25T09:34:08.173420Z",
     "iopub.status.busy": "2022-03-25T09:34:08.172997Z",
     "iopub.status.idle": "2022-03-25T09:35:40.558513Z",
     "shell.execute_reply": "2022-03-25T09:35:40.558744Z"
    },
    "papermill": {
     "duration": 92.4297,
     "end_time": "2022-03-25T09:35:40.558827",
     "exception": false,
     "start_time": "2022-03-25T09:34:08.129127",
     "status": "completed"
    },
    "tags": []
   },
   "outputs": [],
   "source": [
    "###################################\n",
    "# Evaluate the model\n",
    "###################################\n",
    "source_test_label_accuracy, source_test_label_loss = jig.test(datasets.source.processed.test)\n",
    "target_test_label_accuracy, target_test_label_loss = jig.test(datasets.target.processed.test)\n",
    "\n",
    "source_val_label_accuracy, source_val_label_loss = jig.test(datasets.source.processed.val)\n",
    "target_val_label_accuracy, target_val_label_loss = jig.test(datasets.target.processed.val)\n",
    "\n",
    "history = jig.get_history()\n",
    "\n",
    "total_epochs_trained = len(history[\"epoch_indices\"])\n",
    "\n",
    "val_dl = Iterable_Aggregator((datasets.source.original.val,datasets.target.original.val))\n",
    "\n",
    "confusion = ptn_confusion_by_domain_over_dataloader(model, p.device, val_dl)\n",
    "per_domain_accuracy = per_domain_accuracy_from_confusion(confusion)\n",
    "\n",
    "# Add a key to per_domain_accuracy for if it was a source domain\n",
    "for domain, accuracy in per_domain_accuracy.items():\n",
    "    per_domain_accuracy[domain] = {\n",
    "        \"accuracy\": accuracy,\n",
    "        \"source?\": domain in p.domains_source\n",
    "    }\n",
    "\n",
    "# Do an independent accuracy assesment JUST TO BE SURE!\n",
    "# _source_test_label_accuracy = independent_accuracy_assesment(model, datasets.source.processed.test, p.device)\n",
    "# _target_test_label_accuracy = independent_accuracy_assesment(model, datasets.target.processed.test, p.device)\n",
    "# _source_val_label_accuracy = independent_accuracy_assesment(model, datasets.source.processed.val, p.device)\n",
    "# _target_val_label_accuracy = independent_accuracy_assesment(model, datasets.target.processed.val, p.device)\n",
    "\n",
    "# assert(_source_test_label_accuracy == source_test_label_accuracy)\n",
    "# assert(_target_test_label_accuracy == target_test_label_accuracy)\n",
    "# assert(_source_val_label_accuracy == source_val_label_accuracy)\n",
    "# assert(_target_val_label_accuracy == target_val_label_accuracy)\n",
    "\n",
    "experiment = {\n",
    "    \"experiment_name\": p.experiment_name,\n",
    "    \"parameters\": dict(p),\n",
    "    \"results\": {\n",
    "        \"source_test_label_accuracy\": source_test_label_accuracy,\n",
    "        \"source_test_label_loss\": source_test_label_loss,\n",
    "        \"target_test_label_accuracy\": target_test_label_accuracy,\n",
    "        \"target_test_label_loss\": target_test_label_loss,\n",
    "        \"source_val_label_accuracy\": source_val_label_accuracy,\n",
    "        \"source_val_label_loss\": source_val_label_loss,\n",
    "        \"target_val_label_accuracy\": target_val_label_accuracy,\n",
    "        \"target_val_label_loss\": target_val_label_loss,\n",
    "        \"total_epochs_trained\": total_epochs_trained,\n",
    "        \"total_experiment_time_secs\": total_experiment_time_secs,\n",
    "        \"confusion\": confusion,\n",
    "        \"per_domain_accuracy\": per_domain_accuracy,\n",
    "    },\n",
    "    \"history\": history,\n",
    "    \"dataset_metrics\": get_dataset_metrics(datasets, \"ptn\"),\n",
    "}"
   ]
  },
  {
   "cell_type": "code",
   "execution_count": 25,
   "id": "54a21829",
   "metadata": {
    "execution": {
     "iopub.execute_input": "2022-03-25T09:35:40.652362Z",
     "iopub.status.busy": "2022-03-25T09:35:40.646391Z",
     "iopub.status.idle": "2022-03-25T09:35:40.766161Z",
     "shell.execute_reply": "2022-03-25T09:35:40.766541Z"
    },
    "papermill": {
     "duration": 0.166672,
     "end_time": "2022-03-25T09:35:40.766658",
     "exception": false,
     "start_time": "2022-03-25T09:35:40.599986",
     "status": "completed"
    },
    "tags": []
   },
   "outputs": [
    {
     "data": {
      "image/png": "[encoded data removed]",
      "text/plain": [
       "<Figure size 1080x504 with 1 Axes>"
      ]
     },
     "metadata": {
      "needs_background": "light"
     },
     "output_type": "display_data"
    }
   ],
   "source": [
    "ax = get_loss_curve(experiment)\n",
    "plt.show()"
   ]
  },
  {
   "cell_type": "code",
   "execution_count": 26,
   "id": "fd8a0f60",
   "metadata": {
    "execution": {
     "iopub.execute_input": "2022-03-25T09:35:40.862144Z",
     "iopub.status.busy": "2022-03-25T09:35:40.856371Z",
     "iopub.status.idle": "2022-03-25T09:35:41.002655Z",
     "shell.execute_reply": "2022-03-25T09:35:41.002876Z"
    },
    "papermill": {
     "duration": 0.190979,
     "end_time": "2022-03-25T09:35:41.002948",
     "exception": false,
     "start_time": "2022-03-25T09:35:40.811969",
     "status": "completed"
    },
    "tags": []
   },
   "outputs": [
    {
     "data": {
      "text/plain": [
       "<AxesSubplot:title={'center':'Results'}>"
      ]
     },
     "execution_count": 26,
     "metadata": {},
     "output_type": "execute_result"
    },
    {
     "data": {
      "image/png": "[encoded data removed]",
      "text/plain": [
       "<Figure size 1080x504 with 1 Axes>"
      ]
     },
     "metadata": {
      "needs_background": "light"
     },
     "output_type": "display_data"
    }
   ],
   "source": [
    "get_results_table(experiment)"
   ]
  },
  {
   "cell_type": "code",
   "execution_count": 27,
   "id": "cf8dc689",
   "metadata": {
    "execution": {
     "iopub.execute_input": "2022-03-25T09:35:41.091462Z",
     "iopub.status.busy": "2022-03-25T09:35:41.090613Z",
     "iopub.status.idle": "2022-03-25T09:35:41.227079Z",
     "shell.execute_reply": "2022-03-25T09:35:41.226654Z"
    },
    "papermill": {
     "duration": 0.180899,
     "end_time": "2022-03-25T09:35:41.227173",
     "exception": false,
     "start_time": "2022-03-25T09:35:41.046274",
     "status": "completed"
    },
    "tags": []
   },
   "outputs": [
    {
     "data": {
      "text/plain": [
       "<AxesSubplot:title={'center':'Per Domain Validation Accuracy'}, xlabel='domain'>"
      ]
     },
     "execution_count": 27,
     "metadata": {},
     "output_type": "execute_result"
    },
    {
     "data": {
      "image/png": "[encoded data removed]",
      "text/plain": [
       "<Figure size 1080x504 with 1 Axes>"
      ]
     },
     "metadata": {
      "needs_background": "light"
     },
     "output_type": "display_data"
    }
   ],
   "source": [
    "get_domain_accuracies(experiment)"
   ]
  },
  {
   "cell_type": "code",
   "execution_count": 28,
   "id": "a74ae082",
   "metadata": {
    "execution": {
     "iopub.execute_input": "2022-03-25T09:35:41.322874Z",
     "iopub.status.busy": "2022-03-25T09:35:41.321870Z",
     "iopub.status.idle": "2022-03-25T09:35:41.333133Z",
     "shell.execute_reply": "2022-03-25T09:35:41.332908Z"
    },
    "papermill": {
     "duration": 0.058569,
     "end_time": "2022-03-25T09:35:41.333185",
     "exception": false,
     "start_time": "2022-03-25T09:35:41.274616",
     "status": "completed"
    },
    "tags": []
   },
   "outputs": [
    {
     "name": "stdout",
     "output_type": "stream",
     "text": [
      "Source Test Label Accuracy: 0.8733072916666667 Target Test Label Accuracy: 0.7413233634311512\n",
      "Source Val Label Accuracy: 0.8751953125 Target Val Label Accuracy: 0.7406071428571429\n"
     ]
    }
   ],
   "source": [
    "print(\"Source Test Label Accuracy:\", experiment[\"results\"][\"source_test_label_accuracy\"], \"Target Test Label Accuracy:\", experiment[\"results\"][\"target_test_label_accuracy\"])\n",
    "print(\"Source Val Label Accuracy:\", experiment[\"results\"][\"source_val_label_accuracy\"], \"Target Val Label Accuracy:\", experiment[\"results\"][\"target_val_label_accuracy\"])"
   ]
  },
  {
   "cell_type": "code",
   "execution_count": 29,
   "id": "dacca602",
   "metadata": {
    "execution": {
     "iopub.execute_input": "2022-03-25T09:35:41.430267Z",
     "iopub.status.busy": "2022-03-25T09:35:41.425404Z",
     "iopub.status.idle": "2022-03-25T09:35:41.438552Z",
     "shell.execute_reply": "2022-03-25T09:35:41.438849Z"
    },
    "papermill": {
     "duration": 0.059205,
     "end_time": "2022-03-25T09:35:41.438933",
     "exception": false,
     "start_time": "2022-03-25T09:35:41.379728",
     "status": "completed"
    },
    "tags": [
     "experiment_json"
    ]
   },
   "outputs": [
    {
     "data": {
      "text/plain": [
       "'{\"experiment_name\": \"tl_3Av2:oracle.run1.framed -> cores\", \"parameters\": {\"experiment_name\": \"tl_3Av2:oracle.run1.framed -> cores\", \"device\": \"cuda\", \"lr\": 0.0001, \"x_shape\": [2, 200], \"n_shot\": 3, \"n_query\": 2, \"train_k_factor\": 3, \"val_k_factor\": 2, \"test_k_factor\": 2, \"torch_default_dtype\": \"torch.float32\", \"n_epoch\": 50, \"patience\": 3, \"criteria_for_best\": \"target_accuracy\", \"x_net\": [{\"class\": \"nnReshape\", \"kargs\": {\"shape\": [-1, 1, 2, 200]}}, {\"class\": \"Conv2d\", \"kargs\": {\"in_channels\": 1, \"out_channels\": 256, \"kernel_size\": [1, 7], \"bias\": false, \"padding\": [0, 3]}}, {\"class\": \"ReLU\", \"kargs\": {\"inplace\": true}}, {\"class\": \"BatchNorm2d\", \"kargs\": {\"num_features\": 256}}, {\"class\": \"Conv2d\", \"kargs\": {\"in_channels\": 256, \"out_channels\": 80, \"kernel_size\": [2, 7], \"bias\": true, \"padding\": [0, 3]}}, {\"class\": \"ReLU\", \"kargs\": {\"inplace\": true}}, {\"class\": \"BatchNorm2d\", \"kargs\": {\"num_features\": 80}}, {\"class\": \"Flatten\", \"kargs\": {}}, {\"class\": \"Linear\", \"kargs\": {\"in_features\": 16000, \"out_features\": 256}}, {\"class\": \"ReLU\", \"kargs\": {\"inplace\": true}}, {\"class\": \"BatchNorm1d\", \"kargs\": {\"num_features\": 256}}, {\"class\": \"Linear\", \"kargs\": {\"in_features\": 256, \"out_features\": 256}}], \"NUM_LOGS_PER_EPOCH\": 10, \"BEST_MODEL_PATH\": \"./best_model.pth\", \"n_way\": 16, \"datasets\": [{\"labels\": [\"1-10.\", \"1-11.\", \"1-15.\", \"1-16.\", \"1-17.\", \"1-18.\", \"1-19.\", \"10-4.\", \"10-7.\", \"11-1.\", \"11-14.\", \"11-17.\", \"11-20.\", \"11-7.\", \"13-20.\", \"13-8.\", \"14-10.\", \"14-11.\", \"14-14.\", \"14-7.\", \"15-1.\", \"15-20.\", \"16-1.\", \"16-16.\", \"17-10.\", \"17-11.\", \"17-2.\", \"19-1.\", \"19-16.\", \"19-19.\", \"19-20.\", \"19-3.\", \"2-10.\", \"2-11.\", \"2-17.\", \"2-18.\", \"2-20.\", \"2-3.\", \"2-4.\", \"2-5.\", \"2-6.\", \"2-7.\", \"2-8.\", \"3-13.\", \"3-18.\", \"3-3.\", \"4-1.\", \"4-10.\", \"4-11.\", \"4-19.\", \"5-5.\", \"6-15.\", \"7-10.\", \"7-14.\", \"8-18.\", \"8-20.\", \"8-3.\", \"8-8.\"], \"domains\": [1, 2, 3, 4, 5], \"num_examples_per_domain_per_label\": -1, \"pickle_path\": \"/mnt/wd500GB/CSC500/csc500-main/datasets/cores.stratified_ds.2022A.pkl\", \"source_or_target_dataset\": \"target\", \"x_transforms\": [\"unit_power\", \"take_200\"], \"episode_transforms\": [], \"domain_prefix\": \"C_\"}, {\"labels\": [\"3123D52\", \"3123D65\", \"3123D79\", \"3123D80\", \"3123D54\", \"3123D70\", \"3123D7B\", \"3123D89\", \"3123D58\", \"3123D76\", \"3123D7D\", \"3123EFE\", \"3123D64\", \"3123D78\", \"3123D7E\", \"3124E4A\"], \"domains\": [32, 38, 8, 44, 14, 50, 20, 26], \"num_examples_per_domain_per_label\": 2000, \"pickle_path\": \"/mnt/wd500GB/CSC500/csc500-main/datasets/oracle.Run1_framed_2000Examples_stratified_ds.2022A.pkl\", \"source_or_target_dataset\": \"source\", \"x_transforms\": [\"unit_power\", \"take_200\", \"resample_20Msps_to_25Msps\"], \"episode_transforms\": [], \"domain_prefix\": \"O_\"}], \"seed\": 420, \"dataset_seed\": 420, \"domains_source\": [\"O_32\", \"O_38\", \"O_8\", \"O_44\", \"O_14\", \"O_50\", \"O_20\", \"O_26\"], \"domains_target\": [\"C_1\", \"C_2\", \"C_3\", \"C_4\", \"C_5\"]}, \"results\": {\"source_test_label_accuracy\": 0.8733072916666667, \"source_test_label_loss\": 0.34845107793807983, \"target_test_label_accuracy\": 0.7413233634311512, \"target_test_label_loss\": 125.63420867919922, \"source_val_label_accuracy\": 0.8751953125, \"source_val_label_loss\": 0.34857726097106934, \"target_val_label_accuracy\": 0.7406071428571429, \"target_val_label_loss\": 126.4018325805664, \"total_epochs_trained\": 13, \"total_experiment_time_secs\": 2187.3167486190796, \"confusion\": {\"O_14\": {\"15\": {\"15\": 238, \"7\": 1, \"6\": 1}, \"5\": {\"5\": 231, \"4\": 5, \"2\": 2, \"3\": 1, \"14\": 1}, \"7\": {\"7\": 239, \"1\": 1}, \"4\": {\"4\": 237, \"2\": 1, \"1\": 2}, \"10\": {\"10\": 240}, \"11\": {\"11\": 229, \"9\": 6, \"0\": 5}, \"12\": {\"12\": 240}, \"0\": {\"0\": 233, \"10\": 4, \"8\": 2, \"3\": 1}, \"14\": {\"14\": 224, \"2\": 10, \"13\": 5, \"3\": 1}, \"8\": {\"8\": 240}, \"13\": {\"6\": 66, \"13\": 155, \"14\": 4, \"2\": 9, \"4\": 5, \"7\": 1}, \"6\": {\"13\": 40, \"6\": 188, \"2\": 11, \"14\": 1}, \"1\": {\"1\": 237, \"4\": 3}, \"3\": {\"3\": 232, \"2\": 4, \"0\": 1, \"14\": 1, \"4\": 1, \"10\": 1}, \"9\": {\"9\": 239, \"11\": 1}, \"2\": {\"2\": 175, \"13\": 5, \"4\": 5, \"3\": 19, \"6\": 13, \"5\": 8, \"14\": 14, \"1\": 1}}, \"O_20\": {\"4\": {\"4\": 232, \"9\": 1, \"3\": 3, \"8\": 2, \"10\": 1, \"7\": 1}, \"10\": {\"10\": 240}, \"15\": {\"15\": 217, \"1\": 12, \"0\": 10, \"13\": 1}, \"0\": {\"8\": 2, \"0\": 211, \"15\": 24, \"5\": 2, \"1\": 1}, \"6\": {\"6\": 238, \"14\": 2}, \"3\": {\"3\": 154, \"12\": 38, \"9\": 29, \"2\": 10, \"4\": 6, \"7\": 2, \"1\": 1}, \"7\": {\"7\": 219, \"8\": 2, \"2\": 13, \"9\": 3, \"10\": 1, \"3\": 2}, \"2\": {\"2\": 158, \"7\": 19, \"9\": 41, \"3\": 9, \"12\": 7, \"13\": 5, \"1\": 1}, \"8\": {\"8\": 231, \"4\": 5, \"2\": 1, \"7\": 3}, \"11\": {\"11\": 240}, \"14\": {\"14\": 235, \"6\": 5}, \"12\": {\"12\": 167, \"3\": 23, \"1\": 36, \"2\": 7, \"9\": 7}, \"13\": {\"13\": 235, \"2\": 4, \"7\": 1}, \"9\": {\"9\": 170, \"2\": 42, \"3\": 20, \"12\": 5, \"7\": 2, \"1\": 1}, \"5\": {\"5\": 234, \"15\": 2, \"0\": 3, \"1\": 1}, \"1\": {\"1\": 188, \"15\": 14, \"12\": 32, \"0\": 1, \"3\": 2, \"2\": 2, \"5\": 1}}, \"O_50\": {\"5\": {\"5\": 207, \"7\": 11, \"13\": 8, \"1\": 1, \"4\": 10, \"15\": 1, \"6\": 2}, \"12\": {\"12\": 230, \"11\": 5, \"9\": 5}, \"14\": {\"14\": 240}, \"4\": {\"4\": 187, \"7\": 6, \"15\": 27, \"1\": 6, \"6\": 2, \"5\": 11, \"13\": 1}, \"13\": {\"10\": 7, \"13\": 225, \"5\": 1, \"7\": 2, \"6\": 5}, \"10\": {\"10\": 228, \"0\": 8, \"13\": 1, \"8\": 3}, \"9\": {\"9\": 224, \"12\": 9, \"11\": 7}, \"15\": {\"15\": 210, \"1\": 14, \"4\": 10, \"11\": 4, \"6\": 1, \"5\": 1}, \"6\": {\"6\": 209, \"7\": 10, \"1\": 1, \"4\": 6, \"15\": 6, \"5\": 2, \"13\": 6}, \"2\": {\"2\": 225, \"0\": 15}, \"0\": {\"0\": 213, \"2\": 17, \"10\": 10}, \"11\": {\"11\": 217, \"9\": 5, \"15\": 13, \"12\": 5}, \"3\": {\"3\": 240}, \"8\": {\"8\": 234, \"3\": 3, \"10\": 3}, \"7\": {\"7\": 204, \"13\": 11, \"5\": 9, \"6\": 8, \"4\": 8}, \"1\": {\"1\": 217, \"15\": 19, \"13\": 2, \"6\": 2}}, \"O_26\": {\"7\": {\"7\": 182, \"1\": 2, \"2\": 14, \"4\": 8, \"8\": 14, \"0\": 6, \"3\": 14}, \"6\": {\"6\": 209, \"9\": 3, \"15\": 18, \"10\": 9, \"0\": 1}, \"14\": {\"14\": 197, \"8\": 8, \"0\": 16, \"1\": 7, \"10\": 8, \"4\": 3, \"7\": 1}, \"15\": {\"15\": 195, \"9\": 27, \"6\": 3, \"8\": 3, \"2\": 2, \"10\": 5, \"13\": 3, \"7\": 1, \"0\": 1}, \"5\": {\"5\": 235, \"2\": 2, \"15\": 1, \"13\": 2}, \"10\": {\"10\": 123, \"0\": 66, \"8\": 29, \"14\": 10, \"4\": 3, \"1\": 2, \"6\": 4, \"7\": 1, \"15\": 2}, \"4\": {\"4\": 202, \"14\": 4, \"1\": 4, \"0\": 9, \"8\": 7, \"7\": 12, \"10\": 2}, \"11\": {\"11\": 240}, \"13\": {\"13\": 219, \"9\": 9, \"15\": 2, \"2\": 9, \"5\": 1}, \"2\": {\"13\": 4, \"2\": 130, \"3\": 72, \"4\": 1, \"7\": 22, \"8\": 3, \"9\": 4, \"5\": 3, \"15\": 1}, \"0\": {\"0\": 104, \"8\": 17, \"14\": 12, \"6\": 2, \"10\": 82, \"7\": 5, \"4\": 12, \"1\": 3, \"15\": 3}, \"12\": {\"12\": 240}, \"3\": {\"3\": 198, \"7\": 14, \"2\": 28}, \"9\": {\"9\": 211, \"15\": 25, \"6\": 1, \"8\": 1, \"13\": 1, \"5\": 1}, \"8\": {\"7\": 17, \"4\": 18, \"8\": 138, \"10\": 32, \"14\": 5, \"0\": 20, \"2\": 4, \"1\": 1, \"15\": 3, \"6\": 1, \"5\": 1}, \"1\": {\"1\": 216, \"14\": 16, \"3\": 1, \"10\": 2, \"8\": 2, \"4\": 3}}, \"O_32\": {\"7\": {\"7\": 195, \"14\": 7, \"2\": 4, \"5\": 14, \"4\": 16, \"13\": 4}, \"2\": {\"2\": 207, \"4\": 31, \"7\": 1, \"13\": 1}, \"5\": {\"5\": 197, \"8\": 7, \"7\": 23, \"4\": 2, \"2\": 1, \"13\": 6, \"3\": 2, \"0\": 1, \"14\": 1}, \"6\": {\"6\": 240}, \"13\": {\"13\": 186, \"3\": 21, \"8\": 8, \"11\": 3, \"4\": 11, \"7\": 9, \"5\": 1, \"14\": 1}, \"4\": {\"2\": 38, \"13\": 10, \"4\": 181, \"7\": 11}, \"3\": {\"3\": 229, \"13\": 7, \"11\": 2, \"8\": 2}, \"0\": {\"0\": 206, \"5\": 3, \"8\": 19, \"14\": 9, \"7\": 3}, \"9\": {\"9\": 239, \"12\": 1}, \"12\": {\"12\": 240}, \"8\": {\"8\": 196, \"0\": 26, \"5\": 4, \"13\": 6, \"14\": 4, \"7\": 3, \"3\": 1}, \"14\": {\"0\": 11, \"14\": 199, \"8\": 5, \"7\": 4, \"11\": 17, \"5\": 2, \"3\": 2}, \"15\": {\"15\": 240}, \"11\": {\"11\": 234, \"3\": 2, \"14\": 4}, \"10\": {\"10\": 240}, \"1\": {\"1\": 239, \"10\": 1}}, \"O_44\": {\"11\": {\"11\": 234, \"13\": 3, \"6\": 3}, \"7\": {\"7\": 172, \"9\": 43, \"2\": 22, \"6\": 2, \"13\": 1}, \"6\": {\"6\": 171, \"7\": 5, \"13\": 44, \"9\": 20}, \"12\": {\"12\": 215, \"1\": 22, \"3\": 3}, \"4\": {\"4\": 181, \"14\": 52, \"15\": 7}, \"13\": {\"13\": 164, \"6\": 49, \"9\": 21, \"11\": 6}, \"8\": {\"0\": 60, \"8\": 172, \"14\": 1, \"15\": 5, \"5\": 2}, \"5\": {\"5\": 223, \"0\": 6, \"14\": 9, \"15\": 1, \"8\": 1}, \"14\": {\"15\": 14, \"14\": 169, \"5\": 5, \"4\": 52}, \"3\": {\"3\": 225, \"1\": 11, \"12\": 4}, \"10\": {\"10\": 195, \"1\": 25, \"2\": 17, \"7\": 1, \"12\": 2}, \"1\": {\"1\": 171, \"10\": 10, \"2\": 15, \"12\": 24, \"3\": 20}, \"2\": {\"2\": 205, \"10\": 4, \"7\": 20, \"1\": 11}, \"15\": {\"15\": 203, \"14\": 7, \"0\": 16, \"8\": 5, \"4\": 6, \"5\": 3}, \"9\": {\"9\": 124, \"2\": 1, \"7\": 50, \"13\": 36, \"6\": 29}, \"0\": {\"8\": 55, \"0\": 174, \"15\": 10, \"5\": 1}}, \"O_8\": {\"10\": {\"10\": 219, \"13\": 10, \"14\": 9, \"4\": 2}, \"6\": {\"6\": 171, \"7\": 37, \"13\": 9, \"0\": 4, \"4\": 19}, \"13\": {\"6\": 15, \"13\": 121, \"10\": 39, \"4\": 46, \"0\": 13, \"14\": 4, \"7\": 1, \"1\": 1}, \"3\": {\"3\": 233, \"12\": 2, \"2\": 5}, \"9\": {\"9\": 240}, \"1\": {\"1\": 237, \"11\": 3}, \"5\": {\"5\": 235, \"14\": 4, \"1\": 1}, \"11\": {\"11\": 226, \"1\": 14}, \"4\": {\"4\": 193, \"13\": 31, \"6\": 7, \"14\": 3, \"0\": 3, \"10\": 3}, \"14\": {\"14\": 224, \"5\": 2, \"10\": 9, \"4\": 2, \"1\": 2, \"13\": 1}, \"12\": {\"12\": 195, \"8\": 3, \"15\": 33, \"3\": 9}, \"7\": {\"7\": 200, \"6\": 35, \"0\": 3, \"13\": 1, \"8\": 1}, \"0\": {\"0\": 201, \"13\": 22, \"7\": 8, \"4\": 6, \"6\": 2, \"10\": 1}, \"15\": {\"15\": 223, \"12\": 14, \"8\": 3}, \"2\": {\"2\": 230, \"3\": 4, \"7\": 4, \"12\": 1, \"15\": 1}, \"8\": {\"8\": 239, \"15\": 1}}, \"O_38\": {\"4\": {\"4\": 236, \"10\": 3, \"12\": 1}, \"7\": {\"7\": 216, \"5\": 13, \"8\": 6, \"0\": 5}, \"12\": {\"12\": 239, \"14\": 1}, \"10\": {\"10\": 210, \"8\": 1, \"0\": 6, \"13\": 18, \"4\": 2, \"5\": 1, \"7\": 1, \"14\": 1}, \"0\": {\"0\": 202, \"5\": 3, \"4\": 3, \"8\": 15, \"3\": 8, \"10\": 4, \"7\": 4, \"13\": 1}, \"1\": {\"1\": 235, \"15\": 5}, \"5\": {\"8\": 25, \"7\": 23, \"5\": 183, \"0\": 1, \"9\": 2, \"6\": 3, \"10\": 1, \"13\": 1, \"3\": 1}, \"15\": {\"15\": 206, \"1\": 16, \"13\": 3, \"8\": 13, \"5\": 2}, \"9\": {\"9\": 233, \"6\": 4, \"7\": 2, \"5\": 1}, \"11\": {\"11\": 240}, \"14\": {\"14\": 232, \"2\": 8}, \"6\": {\"6\": 240}, \"8\": {\"8\": 185, \"7\": 15, \"13\": 3, \"5\": 19, \"15\": 11, \"0\": 5, \"10\": 1, \"6\": 1}, \"3\": {\"3\": 233, \"9\": 1, \"0\": 5, \"10\": 1}, \"2\": {\"2\": 223, \"13\": 9, \"14\": 8}, \"13\": {\"13\": 225, \"10\": 7, \"2\": 5, \"0\": 3}}, \"C_4\": {\"42\": {\"42\": 32}, \"0\": {\"0\": 42, \"32\": 5, \"11\": 11, \"14\": 2, \"24\": 1, \"43\": 7, \"46\": 1, \"47\": 2, \"6\": 2, \"40\": 1, \"5\": 1, \"41\": 1, \"56\": 1, \"15\": 1, \"22\": 1, \"45\": 1}, \"1\": {\"42\": 3, \"1\": 19, \"57\": 6, \"47\": 6, \"15\": 2, \"49\": 1, \"36\": 1, \"48\": 2}, \"39\": {\"39\": 20}, \"28\": {\"42\": 3, \"46\": 1, \"28\": 12, \"27\": 5, \"6\": 3, \"48\": 2, \"50\": 1, \"9\": 1, \"19\": 1, \"17\": 1, \"7\": 1, \"57\": 1}, \"53\": {\"51\": 2, \"53\": 97, \"5\": 1, \"21\": 5, \"20\": 6, \"22\": 1, \"54\": 4, \"36\": 2, \"8\": 3, \"34\": 1, \"27\": 1, \"40\": 1}, \"19\": {\"19\": 118, \"46\": 3, \"49\": 5, \"44\": 4, \"29\": 6, \"51\": 1, \"22\": 1, \"48\": 1, \"35\": 1, \"55\": 3, \"25\": 1}, \"34\": {\"34\": 21, \"5\": 1, \"42\": 2}, \"33\": {\"19\": 1, \"40\": 1, \"33\": 23, \"6\": 1, \"35\": 4, \"51\": 1, \"29\": 1, \"13\": 1, \"44\": 3}, \"32\": {\"32\": 20, \"11\": 1, \"41\": 1, \"1\": 2}, \"10\": {\"10\": 135, \"22\": 1}, \"46\": {\"39\": 1, \"32\": 1, \"30\": 1, \"55\": 5, \"54\": 5, \"47\": 15, \"10\": 1, \"5\": 5, \"46\": 29, \"18\": 8, \"1\": 1, \"23\": 16, \"22\": 6, \"52\": 5, \"11\": 3, \"16\": 1, \"6\": 1, \"36\": 1, \"57\": 3, \"40\": 6, \"25\": 1, \"8\": 4, \"53\": 1, \"20\": 4, \"48\": 6, \"33\": 1, \"56\": 2, \"50\": 1}, \"20\": {\"20\": 105, \"19\": 1, \"35\": 1, \"53\": 3, \"36\": 2, \"40\": 2, \"46\": 4, \"8\": 2, \"44\": 1, \"48\": 1}, \"5\": {\"42\": 3, \"5\": 47, \"23\": 17, \"41\": 2, \"3\": 2, \"47\": 13, \"0\": 1, \"36\": 2, \"54\": 6, \"46\": 1, \"20\": 1, \"45\": 1, \"39\": 1, \"34\": 1, \"32\": 2, \"31\": 1, \"25\": 1, \"6\": 2, \"48\": 1, \"56\": 1, \"55\": 1, \"50\": 1}, \"40\": {\"33\": 10, \"40\": 74, \"35\": 1, \"31\": 2, \"55\": 9, \"20\": 3, \"19\": 14, \"50\": 4, \"25\": 3, \"46\": 1, \"44\": 2, \"14\": 1}, \"51\": {\"51\": 92, \"28\": 1, \"5\": 4, \"4\": 3, \"17\": 3, \"3\": 5, \"20\": 3, \"53\": 11, \"12\": 4, \"21\": 10, \"6\": 1, \"50\": 3, \"27\": 2, \"30\": 1, \"9\": 1}, \"37\": {\"37\": 22, \"35\": 1, \"22\": 1}, \"17\": {\"27\": 3, \"17\": 77}, \"45\": {\"27\": 5, \"51\": 1, \"45\": 23, \"3\": 5, \"50\": 5, \"9\": 13, \"26\": 1, \"44\": 1, \"36\": 2, \"29\": 6, \"17\": 2, \"55\": 1, \"4\": 7, \"25\": 3, \"12\": 3, \"21\": 5, \"46\": 1, \"48\": 4, \"42\": 1, \"30\": 2, \"20\": 3, \"47\": 1, \"57\": 1}, \"13\": {\"13\": 137, \"10\": 2, \"56\": 2, \"2\": 1}, \"27\": {\"27\": 113, \"17\": 6, \"30\": 2, \"54\": 1, \"9\": 6, \"4\": 1, \"8\": 8, \"48\": 6, \"21\": 1}, \"24\": {\"24\": 49, \"43\": 5, \"10\": 1, \"22\": 1}, \"30\": {\"30\": 33, \"51\": 1, \"8\": 3, \"48\": 2, \"54\": 3, \"20\": 1, \"17\": 1}, \"31\": {\"31\": 27, \"55\": 1}, \"41\": {\"41\": 33, \"38\": 1, \"13\": 1, \"5\": 1}, \"36\": {\"36\": 86, \"54\": 2, \"50\": 1, \"7\": 1, \"3\": 2}, \"16\": {\"16\": 83, \"23\": 2, \"15\": 4, \"52\": 3, \"6\": 2, \"18\": 2}, \"22\": {\"13\": 3, \"22\": 77, \"0\": 5, \"49\": 1, \"24\": 9, \"10\": 8, \"56\": 7, \"55\": 3, \"46\": 1, \"19\": 1, \"43\": 2, \"50\": 1, \"6\": 3, \"37\": 1, \"45\": 1, \"7\": 1, \"29\": 2, \"2\": 2}, \"44\": {\"44\": 85, \"45\": 2, \"25\": 1, \"40\": 3, \"26\": 1, \"35\": 1, \"29\": 4, \"49\": 1, \"19\": 17, \"5\": 2, \"55\": 8, \"51\": 1, \"56\": 1, \"46\": 2, \"33\": 1, \"22\": 2}, \"9\": {\"27\": 13, \"9\": 86, \"3\": 3, \"26\": 1, \"4\": 9, \"17\": 4, \"48\": 6, \"12\": 1, \"47\": 2, \"55\": 1, \"50\": 6, \"46\": 1, \"6\": 1, \"57\": 3, \"36\": 3}, \"57\": {\"57\": 96, \"1\": 1, \"35\": 1, \"47\": 2}, \"8\": {\"8\": 133, \"30\": 2, \"20\": 2, \"54\": 1}, \"23\": {\"23\": 128, \"18\": 4}, \"47\": {\"47\": 114, \"18\": 1, \"54\": 1, \"48\": 2, \"57\": 1, \"23\": 1}, \"43\": {\"0\": 7, \"43\": 127, \"30\": 1, \"15\": 1, \"47\": 1, \"11\": 1}, \"49\": {\"49\": 17, \"26\": 2, \"41\": 1}, \"3\": {\"3\": 36, \"36\": 12, \"34\": 1, \"32\": 1, \"8\": 6, \"51\": 10, \"5\": 6, \"42\": 1, \"54\": 5, \"9\": 4, \"47\": 1, \"27\": 6, \"6\": 6, \"50\": 4, \"25\": 1, \"21\": 4, \"53\": 6, \"20\": 6, \"48\": 1, \"17\": 2, \"45\": 2, \"29\": 1, \"55\": 1, \"46\": 1}, \"12\": {\"12\": 41, \"51\": 2, \"21\": 13, \"8\": 8, \"27\": 6, \"5\": 2, \"36\": 2, \"50\": 1, \"3\": 5, \"6\": 1, \"26\": 1, \"20\": 2, \"17\": 2, \"54\": 4, \"30\": 1, \"45\": 1}, \"38\": {\"38\": 38, \"22\": 2}, \"7\": {\"7\": 19, \"5\": 1, \"46\": 1, \"52\": 1, \"57\": 1, \"0\": 1}, \"14\": {\"14\": 5, \"44\": 1, \"10\": 1, \"33\": 1, \"13\": 1, \"35\": 3, \"19\": 2, \"49\": 1, \"22\": 1}, \"15\": {\"15\": 134, \"52\": 4, \"24\": 1, \"16\": 6, \"22\": 1}, \"25\": {\"25\": 84, \"28\": 1, \"51\": 9, \"12\": 2, \"36\": 3, \"27\": 3, \"5\": 2, \"21\": 1, \"54\": 2, \"50\": 4, \"46\": 2, \"9\": 4, \"55\": 2, \"8\": 1, \"29\": 1, \"3\": 3, \"53\": 2, \"57\": 1, \"20\": 1}, \"26\": {\"34\": 1, \"26\": 16, \"27\": 1, \"42\": 1, \"17\": 1, \"4\": 2, \"57\": 1, \"28\": 1}, \"21\": {\"21\": 73, \"8\": 11, \"51\": 4, \"30\": 2, \"53\": 8, \"20\": 12, \"12\": 11, \"36\": 3, \"48\": 1, \"42\": 1, \"27\": 2, \"6\": 2, \"54\": 2}, \"48\": {\"48\": 137, \"54\": 3, \"36\": 2, \"6\": 1, \"47\": 1}, \"56\": {\"56\": 126, \"22\": 3, \"13\": 2, \"2\": 2, \"38\": 1}, \"11\": {\"15\": 23, \"11\": 48, \"48\": 1, \"52\": 7, \"18\": 1, \"54\": 1, \"36\": 1, \"47\": 4, \"16\": 13, \"23\": 3, \"46\": 2}, \"2\": {\"2\": 31, \"10\": 4, \"22\": 1}, \"6\": {\"32\": 1, \"8\": 8, \"55\": 2, \"6\": 28, \"17\": 2, \"51\": 2, \"5\": 7, \"20\": 6, \"9\": 3, \"48\": 7, \"54\": 8, \"57\": 2, \"3\": 1, \"36\": 9, \"40\": 2, \"50\": 3, \"52\": 1, \"44\": 1, \"47\": 6, \"15\": 1, \"12\": 1, \"27\": 2, \"4\": 1, \"28\": 1, \"1\": 1, \"25\": 1, \"46\": 1, \"30\": 2, \"21\": 1, \"18\": 1}, \"55\": {\"26\": 1, \"44\": 9, \"55\": 69, \"35\": 6, \"5\": 1, \"21\": 1, \"0\": 1, \"29\": 5, \"40\": 17, \"19\": 11, \"46\": 4, \"25\": 2, \"22\": 3, \"45\": 2, \"3\": 1, \"56\": 1, \"6\": 2, \"9\": 2, \"4\": 2}, \"54\": {\"54\": 108}, \"29\": {\"42\": 2, \"50\": 3, \"4\": 4, \"29\": 72, \"55\": 4, \"57\": 6, \"47\": 2, \"22\": 1, \"9\": 13, \"17\": 4, \"27\": 2, \"6\": 1, \"39\": 1, \"53\": 1, \"45\": 1, \"26\": 1, \"28\": 1, \"51\": 1, \"5\": 1, \"48\": 1, \"25\": 1, \"19\": 1}, \"50\": {\"51\": 3, \"50\": 43, \"27\": 8, \"45\": 7, \"0\": 1, \"47\": 1, \"53\": 8, \"6\": 4, \"17\": 1, \"5\": 1, \"46\": 3, \"3\": 10, \"29\": 3, \"9\": 5, \"12\": 2, \"25\": 6, \"4\": 2, \"44\": 1, \"40\": 3, \"48\": 2, \"55\": 2, \"21\": 1, \"20\": 3, \"36\": 1, \"8\": 1}, \"52\": {\"52\": 99, \"23\": 10, \"18\": 7}, \"35\": {\"35\": 29, \"44\": 7, \"40\": 1, \"7\": 1, \"19\": 1, \"33\": 1}, \"4\": {\"17\": 6, \"33\": 1, \"4\": 82, \"5\": 1, \"9\": 12, \"27\": 5, \"48\": 5, \"8\": 1, \"3\": 1, \"46\": 1, \"28\": 2, \"20\": 1, \"55\": 1, \"51\": 1}, \"18\": {\"18\": 100, \"23\": 6, \"46\": 2}}, \"C_5\": {\"43\": {\"43\": 149, \"36\": 1, \"27\": 1, \"11\": 1}, \"35\": {\"35\": 34, \"56\": 1, \"36\": 1}, \"54\": {\"54\": 112}, \"22\": {\"22\": 27, \"35\": 1}, \"16\": {\"16\": 134, \"23\": 5, \"21\": 1, \"46\": 3, \"57\": 2, \"52\": 1}, \"5\": {\"28\": 2, \"5\": 94, \"40\": 4, \"4\": 4, \"50\": 1, \"29\": 14, \"19\": 1, \"44\": 3, \"25\": 3, \"33\": 1, \"55\": 1}, \"28\": {\"28\": 22, \"3\": 1, \"19\": 2, \"5\": 1, \"8\": 3, \"32\": 1, \"55\": 1, \"4\": 1}, \"14\": {\"51\": 1, \"14\": 8, \"46\": 2, \"13\": 1, \"55\": 3, \"33\": 1, \"30\": 3, \"19\": 4, \"15\": 2, \"16\": 1, \"40\": 3, \"44\": 1, \"6\": 1, \"3\": 1, \"4\": 2, \"2\": 1, \"41\": 1, \"11\": 1, \"26\": 2, \"12\": 1, \"28\": 1, \"50\": 1, \"25\": 1, \"47\": 1}, \"51\": {\"51\": 115, \"53\": 9, \"20\": 2, \"21\": 1, \"57\": 1}, \"19\": {\"19\": 93, \"34\": 3, \"32\": 2, \"9\": 5, \"42\": 1, \"17\": 3, \"48\": 4, \"27\": 15, \"30\": 1, \"1\": 3, \"55\": 5, \"28\": 1, \"47\": 2, \"25\": 1, \"57\": 1}, \"31\": {\"31\": 33, \"16\": 2, \"57\": 1}, \"10\": {\"10\": 65, \"13\": 3}, \"21\": {\"21\": 107, \"53\": 6, \"41\": 1, \"48\": 1, \"9\": 3, \"51\": 2, \"50\": 1, \"12\": 4, \"26\": 2, \"45\": 1, \"52\": 1, \"20\": 1, \"3\": 1, \"47\": 1, \"6\": 1, \"27\": 2, \"55\": 1}, \"3\": {\"28\": 1, \"14\": 2, \"45\": 1, \"39\": 3, \"22\": 2, \"33\": 1, \"3\": 20, \"18\": 3, \"40\": 8, \"46\": 6, \"52\": 4, \"23\": 6, \"30\": 2, \"47\": 6, \"57\": 6, \"34\": 1, \"54\": 1, \"6\": 3, \"20\": 1, \"48\": 2, \"4\": 1, \"8\": 2, \"41\": 2, \"25\": 2, \"24\": 1, \"51\": 1, \"10\": 3, \"16\": 2, \"5\": 1, \"53\": 1, \"1\": 1, \"11\": 1, \"19\": 1, \"29\": 1, \"13\": 1}, \"57\": {\"57\": 120, \"53\": 1, \"18\": 3, \"54\": 2, \"47\": 4, \"40\": 1, \"46\": 1}, \"9\": {\"9\": 53, \"21\": 1, \"32\": 4, \"27\": 33, \"5\": 2, \"30\": 2, \"48\": 17, \"3\": 1, \"12\": 1, \"35\": 1, \"40\": 2, \"1\": 14, \"50\": 5, \"29\": 2, \"45\": 1, \"4\": 2, \"19\": 2, \"6\": 1, \"8\": 1, \"25\": 1}, \"8\": {\"8\": 124, \"2\": 1, \"20\": 3, \"23\": 1, \"6\": 2, \"53\": 1}, \"46\": {\"23\": 9, \"46\": 92, \"16\": 1, \"57\": 8, \"22\": 1, \"31\": 1, \"18\": 2, \"39\": 1, \"5\": 1, \"3\": 2, \"47\": 3, \"6\": 1, \"54\": 7, \"52\": 6, \"45\": 1, \"50\": 2, \"40\": 1, \"20\": 1}, \"23\": {\"23\": 119, \"18\": 2, \"52\": 1, \"46\": 1, \"30\": 1}, \"37\": {\"37\": 24}, \"34\": {\"34\": 34, \"41\": 1, \"47\": 1}, \"4\": {\"5\": 4, \"4\": 29, \"33\": 2, \"9\": 7, \"44\": 1, \"55\": 5, \"36\": 1, \"41\": 1, \"45\": 1, \"1\": 2, \"7\": 3, \"17\": 1, \"19\": 9, \"30\": 4, \"3\": 1, \"51\": 1, \"40\": 2, \"6\": 1, \"27\": 4, \"29\": 2, \"34\": 1, \"28\": 4, \"25\": 1, \"31\": 1, \"12\": 1, \"57\": 1, \"50\": 5, \"21\": 1, \"8\": 2, \"47\": 2}, \"6\": {\"46\": 2, \"21\": 4, \"6\": 47, \"9\": 5, \"3\": 1, \"32\": 1, \"1\": 17, \"48\": 2, \"20\": 6, \"17\": 11, \"53\": 2, \"30\": 6, \"55\": 1, \"8\": 3, \"47\": 1, \"45\": 4, \"43\": 1, \"25\": 1, \"27\": 3, \"57\": 2, \"41\": 1, \"50\": 4, \"51\": 1, \"12\": 2}, \"48\": {\"6\": 1, \"48\": 115, \"30\": 1, \"45\": 1, \"1\": 6, \"17\": 8, \"38\": 1, \"53\": 2, \"50\": 1}, \"44\": {\"44\": 103, \"14\": 1, \"29\": 14, \"22\": 1, \"5\": 5, \"50\": 1, \"45\": 1, \"36\": 1, \"4\": 5, \"2\": 1, \"55\": 3, \"19\": 2}, \"40\": {\"40\": 101, \"5\": 8, \"44\": 3, \"33\": 1, \"42\": 2, \"13\": 1, \"29\": 3, \"35\": 1, \"3\": 2, \"4\": 1, \"9\": 1}, \"12\": {\"12\": 32, \"21\": 5, \"7\": 2, \"8\": 5, \"17\": 1, \"32\": 3, \"50\": 1, \"51\": 5, \"55\": 3, \"27\": 3, \"30\": 4, \"20\": 11, \"6\": 8, \"45\": 3, \"48\": 1, \"54\": 1, \"46\": 1, \"25\": 1, \"37\": 1, \"26\": 2, \"1\": 1, \"53\": 1, \"9\": 1}, \"30\": {\"30\": 116, \"1\": 7, \"26\": 1, \"27\": 2, \"45\": 1, \"50\": 1}, \"39\": {\"39\": 20}, \"45\": {\"27\": 9, \"7\": 2, \"25\": 4, \"45\": 35, \"54\": 6, \"9\": 12, \"1\": 2, \"32\": 2, \"34\": 2, \"19\": 3, \"6\": 8, \"51\": 3, \"42\": 2, \"12\": 3, \"40\": 1, \"4\": 3, \"5\": 3, \"30\": 3, \"8\": 4, \"50\": 8, \"55\": 1, \"28\": 1, \"41\": 1, \"26\": 1, \"23\": 1, \"48\": 2, \"47\": 1, \"53\": 1}, \"36\": {\"46\": 4, \"36\": 66, \"50\": 1, \"48\": 1, \"45\": 2, \"4\": 2, \"3\": 3, \"57\": 1, \"15\": 5, \"47\": 4, \"16\": 2, \"55\": 1}, \"27\": {\"27\": 109, \"9\": 6, \"32\": 3, \"55\": 2, \"48\": 13, \"1\": 5, \"54\": 2}, \"32\": {\"32\": 31, \"20\": 1}, \"52\": {\"52\": 110, \"46\": 10, \"23\": 9, \"54\": 1}, \"0\": {\"0\": 96, \"3\": 1, \"24\": 5, \"16\": 2, \"11\": 7, \"14\": 1, \"23\": 1, \"43\": 3, \"47\": 1, \"15\": 3, \"46\": 1, \"31\": 1, \"36\": 1, \"2\": 1}, \"26\": {\"26\": 22, \"7\": 2}, \"1\": {\"1\": 118, \"8\": 8, \"48\": 7, \"20\": 3, \"17\": 6, \"13\": 1, \"44\": 1, \"53\": 1, \"30\": 1, \"23\": 1, \"57\": 1}, \"53\": {\"53\": 133, \"32\": 2, \"51\": 4, \"40\": 2, \"20\": 3, \"50\": 1, \"46\": 1}, \"25\": {\"45\": 4, \"32\": 1, \"25\": 91, \"54\": 4, \"53\": 1, \"41\": 1, \"42\": 1, \"21\": 2, \"12\": 5, \"19\": 3, \"6\": 4, \"46\": 2, \"23\": 1, \"8\": 5, \"40\": 1, \"50\": 3, \"9\": 1, \"55\": 5, \"57\": 1, \"28\": 2, \"3\": 5, \"1\": 1}, \"24\": {\"24\": 73, \"11\": 1, \"0\": 6}, \"7\": {\"7\": 28, \"26\": 2, \"32\": 1, \"54\": 1}, \"18\": {\"18\": 59, \"23\": 3, \"46\": 2}, \"20\": {\"20\": 129, \"53\": 9, \"51\": 3, \"54\": 3}, \"33\": {\"33\": 23, \"25\": 1, \"31\": 2, \"28\": 2, \"50\": 2, \"5\": 2}, \"55\": {\"55\": 49, \"12\": 5, \"28\": 1, \"48\": 3, \"27\": 6, \"14\": 2, \"19\": 10, \"50\": 3, \"21\": 2, \"30\": 13, \"6\": 5, \"51\": 1, \"8\": 3, \"20\": 3, \"9\": 7, \"45\": 3, \"1\": 10, \"53\": 3, \"25\": 1, \"17\": 4, \"32\": 3, \"3\": 1, \"4\": 2}, \"41\": {\"42\": 6, \"8\": 1, \"41\": 18, \"5\": 1, \"32\": 1, \"54\": 1}, \"42\": {\"42\": 33, \"8\": 1, \"23\": 1, \"40\": 1, \"57\": 2, \"46\": 2}, \"49\": {\"49\": 35, \"0\": 1}, \"13\": {\"13\": 132, \"10\": 10, \"56\": 4, \"22\": 2}, \"38\": {\"38\": 32}, \"2\": {\"2\": 24, \"16\": 1, \"55\": 1, \"40\": 1, \"43\": 1}, \"47\": {\"47\": 73, \"57\": 10, \"52\": 3, \"17\": 1, \"39\": 1, \"21\": 1, \"1\": 2, \"54\": 2, \"34\": 1, \"46\": 1, \"18\": 1, \"43\": 1, \"20\": 1, \"6\": 2}, \"17\": {\"17\": 105, \"30\": 3, \"1\": 5, \"48\": 1, \"32\": 1, \"20\": 1}, \"11\": {\"3\": 1, \"11\": 74, \"15\": 26, \"54\": 1, \"16\": 17, \"17\": 3, \"52\": 9, \"57\": 2, \"30\": 4, \"9\": 1, \"23\": 6, \"53\": 1, \"35\": 1, \"18\": 2, \"38\": 1, \"39\": 1, \"48\": 1, \"42\": 1, \"46\": 1, \"1\": 1}, \"29\": {\"33\": 1, \"29\": 116, \"9\": 1, \"50\": 1, \"5\": 7, \"14\": 1, \"36\": 1, \"44\": 2, \"25\": 1, \"4\": 1}, \"50\": {\"28\": 2, \"50\": 39, \"3\": 1, \"25\": 9, \"32\": 1, \"27\": 7, \"4\": 7, \"19\": 7, \"6\": 9, \"51\": 1, \"55\": 11, \"9\": 9, \"5\": 4, \"30\": 3, \"45\": 5, \"40\": 2, \"53\": 3, \"43\": 1, \"1\": 1, \"12\": 2, \"8\": 4, \"41\": 1, \"44\": 2, \"21\": 2, \"20\": 1, \"46\": 1, \"57\": 1, \"48\": 1, \"0\": 1}, \"56\": {\"56\": 148}, \"15\": {\"15\": 99, \"11\": 6, \"18\": 2, \"16\": 12, \"47\": 4, \"57\": 8, \"8\": 1, \"46\": 4, \"52\": 3, \"1\": 2, \"30\": 1}}, \"C_2\": {\"49\": {\"49\": 14, \"0\": 2, \"5\": 2, \"39\": 2, \"34\": 4}, \"13\": {\"13\": 114, \"56\": 1, \"24\": 1}, \"37\": {\"37\": 35, \"33\": 1}, \"41\": {\"41\": 19, \"30\": 1}, \"15\": {\"15\": 139, \"16\": 3}, \"56\": {\"56\": 126, \"22\": 13, \"10\": 1, \"14\": 1, \"24\": 1}, \"14\": {\"56\": 5, \"14\": 10, \"55\": 2, \"24\": 1, \"22\": 1, \"40\": 1, \"35\": 3, \"43\": 1}, \"3\": {\"47\": 2, \"3\": 24, \"27\": 11, \"6\": 2, \"30\": 2, \"55\": 3, \"29\": 5, \"50\": 5, \"45\": 6, \"46\": 2, \"36\": 5, \"48\": 3, \"21\": 4, \"9\": 2, \"1\": 1, \"57\": 1, \"0\": 1, \"17\": 1, \"42\": 1, \"2\": 1, \"51\": 1, \"20\": 2, \"8\": 2, \"23\": 1, \"25\": 2, \"4\": 1, \"40\": 1}, \"38\": {\"38\": 19, \"10\": 1}, \"43\": {\"43\": 137, \"38\": 1}, \"33\": {\"3\": 2, \"33\": 11, \"45\": 3, \"19\": 6, \"46\": 1, \"42\": 3, \"40\": 1, \"35\": 1}, \"47\": {\"39\": 3, \"6\": 2, \"49\": 2, \"47\": 48, \"2\": 2, \"46\": 1, \"17\": 4, \"0\": 4, \"32\": 1, \"16\": 3, \"30\": 2, \"15\": 1, \"4\": 4, \"21\": 1, \"9\": 9, \"5\": 3, \"57\": 13, \"48\": 14, \"23\": 1, \"1\": 3, \"27\": 9, \"34\": 1, \"42\": 1, \"51\": 1, \"8\": 2, \"20\": 1, \"12\": 2}, \"30\": {\"30\": 140, \"5\": 1, \"23\": 2, \"57\": 1}, \"39\": {\"39\": 28}, \"12\": {\"12\": 79, \"20\": 5, \"54\": 5, \"50\": 1, \"36\": 1, \"8\": 1}, \"6\": {\"6\": 60, \"1\": 2, \"39\": 1, \"48\": 15, \"0\": 3, \"50\": 5, \"27\": 6, \"54\": 10, \"45\": 2, \"17\": 6, \"53\": 1, \"30\": 3, \"23\": 1, \"46\": 1, \"34\": 1, \"8\": 3, \"57\": 1, \"18\": 1, \"12\": 2}, \"51\": {\"51\": 105, \"53\": 19, \"54\": 2, \"20\": 2, \"50\": 3, \"32\": 2, \"8\": 1}, \"5\": {\"5\": 49, \"42\": 4, \"1\": 4, \"48\": 12, \"7\": 2, \"0\": 3, \"30\": 5, \"27\": 1, \"11\": 2, \"57\": 17, \"47\": 3, \"52\": 2, \"23\": 6, \"55\": 1, \"16\": 4, \"28\": 1, \"21\": 1, \"45\": 2, \"46\": 1}, \"34\": {\"34\": 28}, \"35\": {\"35\": 30, \"44\": 2}, \"0\": {\"0\": 44, \"23\": 2, \"18\": 2}, \"7\": {\"34\": 3, \"7\": 23, \"28\": 1, \"0\": 4, \"5\": 1, \"42\": 1, \"1\": 1, \"52\": 1, \"17\": 1}, \"24\": {\"24\": 78, \"38\": 1, \"10\": 12, \"43\": 3, \"22\": 2}, \"8\": {\"36\": 1, \"8\": 118, \"54\": 4, \"20\": 3, \"6\": 2, \"27\": 4, \"50\": 4}, \"20\": {\"20\": 101, \"4\": 1, \"50\": 2, \"54\": 2, \"8\": 8, \"53\": 3, \"36\": 1, \"6\": 1, \"51\": 1, \"57\": 2, \"3\": 1, \"12\": 1}, \"36\": {\"34\": 6, \"36\": 70, \"32\": 1, \"27\": 11, \"6\": 5, \"12\": 2, \"8\": 4, \"54\": 8, \"30\": 3, \"57\": 1, \"50\": 3, \"39\": 1, \"47\": 1}, \"42\": {\"42\": 16, \"34\": 1, \"39\": 3, \"7\": 6, \"1\": 1, \"25\": 1, \"57\": 1, \"41\": 1, \"17\": 1, \"49\": 1, \"33\": 1, \"5\": 3}, \"1\": {\"1\": 47, \"7\": 1, \"57\": 24, \"9\": 3, \"48\": 14, \"47\": 2, \"54\": 3, \"29\": 2, \"50\": 3, \"15\": 2, \"5\": 1, \"32\": 1, \"39\": 1, \"17\": 4, \"21\": 2, \"6\": 2}, \"4\": {\"1\": 1, \"51\": 5, \"4\": 89, \"32\": 4, \"53\": 6, \"9\": 9, \"3\": 3, \"20\": 2, \"48\": 2, \"2\": 1, \"26\": 1, \"17\": 8, \"57\": 3, \"21\": 1, \"45\": 3, \"47\": 3, \"27\": 5, \"6\": 1, \"8\": 1}, \"28\": {\"28\": 28}, \"50\": {\"50\": 32, \"8\": 25, \"27\": 10, \"54\": 6, \"9\": 2, \"6\": 6, \"20\": 5, \"26\": 2, \"30\": 10, \"21\": 2, \"44\": 1, \"19\": 1, \"52\": 1, \"57\": 1, \"53\": 8, \"12\": 1, \"40\": 1, \"36\": 2, \"29\": 1, \"45\": 3, \"51\": 1, \"49\": 2, \"23\": 2, \"39\": 3, \"3\": 1, \"33\": 1, \"0\": 1, \"25\": 2, \"5\": 1, \"46\": 1, \"4\": 1}, \"45\": {\"45\": 33, \"3\": 4, \"40\": 5, \"47\": 12, \"35\": 1, \"36\": 2, \"55\": 6, \"46\": 6, \"4\": 9, \"21\": 3, \"9\": 3, \"29\": 13, \"1\": 2, \"6\": 3, \"25\": 11, \"50\": 4, \"27\": 1, \"17\": 2, \"42\": 3, \"5\": 2, \"44\": 1, \"19\": 1, \"2\": 1}, \"18\": {\"18\": 42, \"23\": 3, \"30\": 3}, \"57\": {\"57\": 120}, \"46\": {\"38\": 1, \"33\": 1, \"57\": 8, \"46\": 23, \"53\": 5, \"6\": 6, \"34\": 2, \"48\": 7, \"2\": 2, \"21\": 4, \"41\": 1, \"39\": 2, \"55\": 2, \"52\": 1, \"3\": 5, \"23\": 4, \"28\": 1, \"45\": 3, \"27\": 7, \"47\": 1, \"5\": 6, \"17\": 3, \"1\": 4, \"54\": 2, \"50\": 3, \"9\": 1, \"51\": 1, \"40\": 3, \"36\": 1, \"22\": 1, \"49\": 1, \"24\": 1, \"20\": 6, \"15\": 2, \"0\": 1, \"25\": 3, \"8\": 1, \"30\": 2}, \"23\": {\"23\": 143, \"41\": 1, \"18\": 3, \"30\": 1}, \"27\": {\"27\": 137, \"6\": 1}, \"19\": {\"19\": 97, \"3\": 1, \"47\": 9, \"55\": 3, \"29\": 8, \"2\": 1, \"45\": 3, \"46\": 1, \"40\": 2, \"4\": 3, \"33\": 1, \"25\": 1, \"9\": 4}, \"22\": {\"22\": 113, \"56\": 19, \"10\": 2, \"13\": 1, \"55\": 1}, \"17\": {\"17\": 99, \"48\": 4, \"45\": 1}, \"55\": {\"31\": 1, \"55\": 103, \"40\": 8, \"19\": 6, \"46\": 2, \"44\": 4, \"13\": 2, \"24\": 1, \"29\": 5, \"45\": 1, \"50\": 1, \"10\": 2}, \"44\": {\"44\": 74, \"35\": 4, \"14\": 1, \"42\": 1, \"40\": 3, \"19\": 8, \"22\": 1, \"46\": 1, \"29\": 2, \"55\": 3, \"9\": 1, \"25\": 1}, \"26\": {\"26\": 20, \"54\": 4}, \"31\": {\"31\": 27, \"46\": 1}, \"16\": {\"16\": 119, \"23\": 7, \"15\": 3, \"11\": 1}, \"11\": {\"16\": 26, \"11\": 65, \"18\": 1, \"15\": 21, \"30\": 2, \"52\": 10, \"23\": 3}, \"25\": {\"25\": 50, \"4\": 1, \"0\": 1, \"36\": 10, \"30\": 5, \"21\": 5, \"46\": 7, \"5\": 3, \"27\": 2, \"9\": 6, \"6\": 3, \"8\": 3, \"45\": 5, \"47\": 4, \"50\": 10, \"57\": 1, \"39\": 2, \"35\": 1, \"28\": 1, \"40\": 4, \"3\": 2}, \"54\": {\"54\": 108}, \"32\": {\"32\": 28}, \"52\": {\"52\": 105, \"18\": 4, \"23\": 10, \"16\": 1, \"0\": 1, \"48\": 1, \"6\": 1, \"11\": 1}, \"40\": {\"40\": 87, \"46\": 2, \"31\": 1, \"45\": 3, \"35\": 3, \"19\": 11, \"55\": 7, \"44\": 3, \"29\": 2, \"9\": 1, \"33\": 5, \"3\": 2, \"25\": 3, \"56\": 1, \"47\": 1}, \"2\": {\"30\": 1, \"4\": 1, \"57\": 1, \"5\": 1, \"49\": 2, \"2\": 7, \"54\": 2, \"32\": 4, \"36\": 1, \"27\": 3, \"21\": 3, \"48\": 3, \"8\": 1, \"39\": 1, \"47\": 1}, \"10\": {\"38\": 1, \"10\": 97, \"24\": 12}, \"53\": {\"53\": 114, \"54\": 6, \"51\": 10, \"20\": 2, \"50\": 2, \"27\": 2}, \"9\": {\"1\": 7, \"32\": 3, \"9\": 60, \"4\": 20, \"27\": 4, \"6\": 3, \"17\": 13, \"57\": 13, \"29\": 4, \"48\": 4, \"24\": 1, \"47\": 5, \"45\": 3, \"25\": 4, \"50\": 1, \"39\": 1, \"51\": 1, \"46\": 2, \"3\": 1}, \"21\": {\"21\": 49, \"20\": 7, \"51\": 27, \"46\": 2, \"17\": 1, \"48\": 3, \"6\": 1, \"53\": 16, \"54\": 4, \"50\": 5, \"25\": 1, \"8\": 1, \"52\": 1, \"16\": 1, \"4\": 1}, \"48\": {\"48\": 129, \"17\": 2, \"6\": 1, \"30\": 1, \"18\": 1, \"54\": 1, \"46\": 1, \"8\": 1, \"57\": 1}, \"29\": {\"29\": 91, \"47\": 4, \"9\": 11, \"33\": 1, \"45\": 2, \"19\": 3, \"36\": 4, \"46\": 3, \"12\": 1, \"4\": 3, \"25\": 2, \"10\": 1, \"50\": 2}}, \"C_1\": {\"9\": {\"9\": 138, \"8\": 4}, \"25\": {\"25\": 86, \"6\": 2, \"38\": 1, \"19\": 4, \"46\": 6, \"33\": 1, \"8\": 2, \"45\": 6, \"57\": 3, \"54\": 2, \"40\": 1, \"30\": 2, \"41\": 1, \"14\": 1, \"29\": 1, \"34\": 1, \"37\": 1, \"50\": 4, \"20\": 1, \"13\": 1, \"9\": 1}, \"41\": {\"41\": 23, \"20\": 1}, \"29\": {\"29\": 116, \"40\": 5, \"52\": 3, \"44\": 6, \"56\": 3, \"35\": 2, \"4\": 1, \"55\": 2, \"0\": 2}, \"46\": {\"41\": 1, \"46\": 54, \"20\": 3, \"54\": 4, \"4\": 7, \"2\": 1, \"5\": 3, \"48\": 3, \"7\": 1, \"30\": 1, \"33\": 1, \"50\": 8, \"6\": 4, \"17\": 2, \"12\": 4, \"57\": 2, \"45\": 4, \"25\": 5, \"51\": 4, \"56\": 3, \"8\": 2, \"0\": 2, \"53\": 3, \"55\": 1, \"14\": 1, \"19\": 2, \"13\": 1, \"40\": 1}, \"4\": {\"50\": 12, \"41\": 1, \"46\": 5, \"4\": 74, \"34\": 1, \"28\": 1, \"5\": 2, \"1\": 4, \"30\": 2, \"57\": 7, \"45\": 2, \"56\": 2, \"55\": 1, \"6\": 4, \"48\": 3, \"8\": 2, \"20\": 2, \"17\": 2, \"2\": 2, \"12\": 2, \"9\": 1}, \"31\": {\"31\": 28}, \"36\": {\"36\": 64}, \"20\": {\"20\": 111, \"13\": 11, \"55\": 1, \"12\": 3, \"0\": 1, \"4\": 1}, \"7\": {\"7\": 17, \"42\": 2, \"17\": 2, \"53\": 2, \"16\": 1, \"14\": 3, \"54\": 1}, \"6\": {\"4\": 2, \"9\": 6, \"6\": 37, \"34\": 3, \"5\": 11, \"50\": 5, \"51\": 2, \"8\": 8, \"46\": 1, \"30\": 5, \"48\": 8, \"2\": 2, \"26\": 2, \"57\": 1, \"17\": 1, \"53\": 2}, \"16\": {\"16\": 131, \"36\": 4, \"30\": 1, \"18\": 1, \"9\": 1}, \"17\": {\"17\": 62, \"48\": 2}, \"50\": {\"6\": 4, \"50\": 115, \"48\": 16, \"26\": 1, \"53\": 1, \"5\": 5, \"51\": 2, \"8\": 4}, \"57\": {\"17\": 2, \"50\": 2, \"45\": 11, \"57\": 55, \"56\": 5, \"42\": 7, \"1\": 10, \"5\": 13, \"53\": 5, \"33\": 3, \"8\": 6, \"19\": 11, \"55\": 1, \"6\": 4, \"48\": 4, \"37\": 1, \"26\": 1, \"4\": 1, \"46\": 2}, \"23\": {\"23\": 114, \"36\": 4, \"16\": 9, \"15\": 2, \"9\": 3, \"21\": 1, \"45\": 1, \"18\": 2}, \"3\": {\"3\": 106, \"38\": 1, \"39\": 1, \"29\": 2, \"44\": 4, \"52\": 6, \"40\": 1, \"47\": 1, \"22\": 1, \"41\": 1, \"20\": 1, \"25\": 1}, \"53\": {\"53\": 139, \"26\": 1}, \"49\": {\"49\": 26, \"38\": 2, \"0\": 1, \"24\": 2, \"10\": 1}, \"56\": {\"56\": 80, \"57\": 17, \"2\": 1, \"45\": 5, \"25\": 3, \"46\": 4, \"8\": 3, \"14\": 1, \"1\": 5, \"50\": 6, \"42\": 1, \"12\": 1, \"4\": 10, \"55\": 1, \"40\": 1, \"29\": 1, \"54\": 2, \"48\": 3, \"6\": 1, \"52\": 1, \"5\": 3, \"53\": 1, \"30\": 1}, \"51\": {\"51\": 116, \"13\": 1, \"1\": 3, \"14\": 1, \"25\": 2, \"42\": 2, \"6\": 4, \"45\": 3, \"50\": 1, \"54\": 2, \"5\": 1, \"19\": 2, \"29\": 1, \"46\": 1, \"53\": 1, \"8\": 1}, \"26\": {\"26\": 19, \"53\": 2, \"54\": 1, \"34\": 1, \"14\": 1}, \"43\": {\"43\": 138, \"27\": 6}, \"22\": {\"22\": 84, \"28\": 2, \"10\": 9, \"43\": 1, \"52\": 9, \"11\": 8, \"21\": 2, \"0\": 5, \"24\": 12, \"31\": 1, \"15\": 3}, \"45\": {\"45\": 99, \"30\": 3, \"57\": 1, \"26\": 1, \"19\": 6, \"34\": 1, \"42\": 2, \"8\": 13, \"54\": 1, \"9\": 7, \"48\": 1, \"53\": 1, \"1\": 2, \"17\": 2, \"50\": 1, \"20\": 1, \"16\": 3, \"6\": 1}, \"13\": {\"13\": 143, \"20\": 8, \"12\": 1}, \"12\": {\"12\": 90, \"51\": 9, \"55\": 5, \"56\": 1, \"20\": 3, \"19\": 1, \"13\": 3, \"4\": 3, \"46\": 1}, \"54\": {\"54\": 77, \"7\": 1, \"14\": 2, \"18\": 2, \"30\": 5, \"9\": 6, \"16\": 3, \"53\": 2, \"34\": 1, \"26\": 2, \"45\": 2, \"51\": 1}, \"24\": {\"24\": 96, \"10\": 4, \"11\": 2, \"44\": 1, \"22\": 3, \"27\": 1, \"47\": 1}, \"44\": {\"44\": 91, \"38\": 1, \"57\": 5, \"35\": 4, \"47\": 19, \"56\": 6, \"29\": 2, \"15\": 2, \"45\": 2, \"49\": 1, \"24\": 1, \"40\": 1, \"13\": 1}, \"28\": {\"28\": 28}, \"33\": {\"33\": 32}, \"38\": {\"38\": 22, \"0\": 1, \"24\": 1}, \"0\": {\"0\": 118, \"5\": 2, \"51\": 9, \"32\": 1, \"11\": 3, \"48\": 1, \"19\": 1, \"23\": 1, \"14\": 1, \"38\": 1, \"42\": 1, \"50\": 2, \"54\": 2, \"21\": 1}, \"47\": {\"47\": 136, \"39\": 1, \"35\": 2, \"44\": 9, \"27\": 3, \"56\": 2, \"52\": 1}, \"42\": {\"33\": 3, \"42\": 25, \"12\": 1, \"18\": 1, \"48\": 1, \"17\": 4, \"9\": 2, \"30\": 1, \"31\": 1, \"8\": 1}, \"34\": {\"34\": 24}, \"48\": {\"48\": 129, \"50\": 6, \"17\": 5, \"8\": 2}, \"35\": {\"35\": 34, \"44\": 1, \"31\": 1}, \"2\": {\"2\": 32, \"5\": 2, \"53\": 2}, \"30\": {\"18\": 1, \"30\": 113, \"26\": 1, \"9\": 3, \"8\": 2}, \"18\": {\"18\": 71, \"54\": 1}, \"37\": {\"37\": 21, \"7\": 2, \"54\": 2, \"18\": 1, \"51\": 1, \"45\": 3, \"53\": 1, \"1\": 1}, \"1\": {\"1\": 75, \"53\": 3, \"19\": 13, \"5\": 3, \"45\": 4, \"46\": 1, \"51\": 1}, \"11\": {\"11\": 136, \"22\": 1, \"0\": 1}, \"55\": {\"34\": 1, \"55\": 91, \"13\": 2, \"19\": 3, \"2\": 1, \"33\": 1, \"14\": 1, \"37\": 1, \"30\": 1, \"45\": 4, \"56\": 2, \"12\": 5, \"4\": 1, \"53\": 3, \"57\": 3, \"54\": 1, \"20\": 1, \"51\": 7, \"1\": 1}, \"15\": {\"15\": 124, \"23\": 14, \"21\": 12}, \"10\": {\"10\": 77, \"11\": 11, \"22\": 7, \"24\": 1}, \"27\": {\"27\": 149, \"47\": 2, \"43\": 9}, \"19\": {\"19\": 114, \"17\": 4, \"42\": 2, \"1\": 12, \"54\": 2, \"9\": 2, \"45\": 5, \"16\": 3, \"53\": 2}, \"14\": {\"30\": 3, \"14\": 10, \"26\": 1, \"34\": 4, \"51\": 1, \"33\": 1, \"50\": 1, \"9\": 1, \"8\": 1, \"42\": 1}, \"8\": {\"30\": 10, \"8\": 122, \"9\": 7, \"17\": 1}, \"5\": {\"5\": 128, \"8\": 2, \"48\": 1, \"6\": 3, \"53\": 1, \"9\": 1}, \"39\": {\"39\": 27, \"49\": 1}, \"52\": {\"52\": 102, \"55\": 2, \"47\": 4, \"11\": 3, \"22\": 2, \"24\": 2, \"3\": 1, \"27\": 1, \"38\": 1, \"0\": 4}, \"21\": {\"21\": 119, \"23\": 4, \"15\": 1}, \"40\": {\"40\": 109, \"29\": 19, \"56\": 7, \"46\": 2, \"25\": 1, \"3\": 3, \"20\": 3, \"44\": 5, \"32\": 1, \"12\": 1, \"57\": 1}, \"32\": {\"45\": 1, \"32\": 22, \"25\": 3, \"42\": 2, \"19\": 2, \"54\": 1, \"51\": 1}}, \"C_3\": {\"56\": {\"56\": 119, \"22\": 1}, \"4\": {\"4\": 74, \"27\": 22, \"28\": 1, \"1\": 3, \"48\": 1, \"47\": 3, \"3\": 1, \"57\": 9, \"32\": 1, \"51\": 6, \"6\": 2, \"50\": 1, \"53\": 2, \"55\": 1, \"9\": 11, \"46\": 2, \"19\": 2, \"17\": 3, \"5\": 1}, \"34\": {\"34\": 32}, \"52\": {\"52\": 128, \"23\": 5, \"15\": 1, \"16\": 1, \"18\": 1}, \"32\": {\"32\": 24, \"36\": 2, \"27\": 1, \"6\": 1}, \"46\": {\"20\": 15, \"28\": 1, \"52\": 7, \"46\": 22, \"17\": 2, \"57\": 3, \"0\": 7, \"45\": 4, \"39\": 1, \"9\": 3, \"54\": 2, \"30\": 4, \"5\": 3, \"23\": 5, \"18\": 2, \"50\": 6, \"48\": 5, \"6\": 6, \"53\": 8, \"55\": 3, \"27\": 5, \"13\": 1, \"16\": 2, \"42\": 1, \"41\": 1, \"34\": 6, \"40\": 1, \"4\": 2, \"3\": 2, \"26\": 1, \"47\": 1, \"25\": 3, \"21\": 1}, \"12\": {\"12\": 63, \"54\": 8, \"6\": 1, \"2\": 1, \"27\": 2, \"51\": 4, \"30\": 1, \"41\": 1, \"17\": 3, \"8\": 4, \"32\": 2, \"20\": 2}, \"20\": {\"20\": 129, \"18\": 1, \"50\": 1, \"46\": 1}, \"54\": {\"54\": 94, \"12\": 4, \"30\": 2}, \"22\": {\"22\": 113, \"56\": 11, \"13\": 1, \"14\": 2, \"31\": 3, \"55\": 4, \"43\": 3, \"49\": 1, \"21\": 1, \"24\": 1}, \"26\": {\"26\": 23, \"0\": 1}, \"31\": {\"31\": 28}, \"10\": {\"10\": 59, \"24\": 5}, \"27\": {\"27\": 126, \"17\": 4, \"36\": 4, \"5\": 1, \"8\": 2, \"9\": 3, \"20\": 1, \"34\": 1, \"32\": 1, \"50\": 1}, \"40\": {\"40\": 99, \"28\": 2, \"37\": 3, \"44\": 6, \"19\": 9, \"14\": 1, \"55\": 4, \"13\": 2, \"3\": 2, \"47\": 1, \"25\": 2, \"31\": 1, \"29\": 1, \"46\": 1, \"45\": 1, \"4\": 1}, \"28\": {\"46\": 2, \"27\": 3, \"28\": 8, \"14\": 2, \"1\": 1, \"49\": 1, \"42\": 1, \"40\": 1, \"50\": 1, \"37\": 1, \"29\": 3, \"45\": 1, \"39\": 1, \"22\": 1, \"19\": 1}, \"5\": {\"5\": 62, \"34\": 1, \"48\": 9, \"50\": 1, \"40\": 1, \"23\": 5, \"35\": 1, \"46\": 2, \"6\": 5, \"57\": 3, \"47\": 5, \"8\": 2, \"0\": 5, \"4\": 1, \"39\": 1, \"41\": 2, \"37\": 1, \"55\": 2, \"20\": 1, \"3\": 1, \"36\": 1, \"1\": 2, \"52\": 2}, \"30\": {\"30\": 116, \"18\": 1, \"50\": 1, \"8\": 2}, \"7\": {\"7\": 27, \"11\": 2, \"46\": 1, \"50\": 1, \"3\": 1, \"0\": 1, \"43\": 1, \"48\": 1, \"20\": 1}, \"18\": {\"30\": 1, \"18\": 78, \"23\": 4, \"16\": 1}, \"39\": {\"39\": 15, \"26\": 1}, \"50\": {\"35\": 1, \"20\": 15, \"2\": 2, \"8\": 19, \"47\": 3, \"30\": 7, \"38\": 1, \"1\": 1, \"50\": 37, \"3\": 4, \"4\": 1, \"36\": 3, \"54\": 13, \"45\": 1, \"5\": 1, \"51\": 3, \"0\": 2, \"6\": 1, \"48\": 3, \"25\": 2, \"53\": 4, \"27\": 2, \"46\": 4, \"55\": 1, \"57\": 2, \"23\": 1, \"21\": 1, \"17\": 1}, \"49\": {\"49\": 19, \"12\": 1}, \"43\": {\"43\": 122}, \"29\": {\"12\": 2, \"29\": 78, \"4\": 3, \"9\": 3, \"3\": 3, \"55\": 1, \"36\": 8, \"19\": 2, \"47\": 3, \"6\": 2, \"8\": 1, \"27\": 4, \"32\": 2, \"45\": 1, \"46\": 1}, \"35\": {\"35\": 22, \"55\": 2, \"4\": 1, \"19\": 1, \"25\": 2}, \"13\": {\"13\": 117, \"24\": 3, \"22\": 3, \"56\": 1}, \"36\": {\"36\": 79, \"2\": 1, \"12\": 2, \"17\": 1, \"46\": 1, \"54\": 4, \"8\": 1, \"20\": 2, \"27\": 4, \"32\": 3, \"6\": 2}, \"11\": {\"52\": 18, \"11\": 74, \"18\": 6, \"48\": 2, \"5\": 1, \"15\": 10, \"34\": 2, \"16\": 23, \"23\": 8, \"33\": 1, \"20\": 1}, \"57\": {\"57\": 90, \"48\": 6, \"1\": 6, \"6\": 3, \"5\": 1, \"47\": 2, \"0\": 3, \"9\": 6, \"27\": 1, \"34\": 4, \"32\": 1, \"17\": 1}, \"9\": {\"9\": 67, \"17\": 14, \"32\": 4, \"34\": 3, \"41\": 2, \"36\": 2, \"57\": 7, \"48\": 4, \"4\": 3, \"27\": 13, \"21\": 1, \"52\": 4, \"25\": 1, \"55\": 1, \"1\": 2, \"46\": 2}, \"25\": {\"26\": 3, \"25\": 59, \"2\": 4, \"50\": 11, \"46\": 6, \"27\": 2, \"3\": 10, \"5\": 4, \"36\": 6, \"0\": 1, \"57\": 3, \"9\": 2, \"20\": 2, \"21\": 2, \"8\": 2, \"40\": 2, \"39\": 3, \"41\": 1, \"47\": 2, \"6\": 2, \"12\": 2, \"53\": 1}, \"16\": {\"16\": 108, \"15\": 6, \"55\": 1, \"52\": 3, \"23\": 8}, \"53\": {\"53\": 97, \"51\": 5, \"41\": 1, \"54\": 2, \"20\": 2, \"8\": 3, \"36\": 1, \"46\": 2, \"50\": 5}, \"33\": {\"53\": 1, \"26\": 2, \"39\": 2, \"41\": 6, \"33\": 7, \"9\": 1, \"51\": 1, \"48\": 3, \"30\": 2, \"5\": 2, \"47\": 1}, \"51\": {\"51\": 120, \"12\": 1, \"53\": 6, \"20\": 1}, \"44\": {\"44\": 69, \"3\": 2, \"14\": 1, \"35\": 3, \"31\": 1, \"40\": 4, \"55\": 2, \"29\": 1, \"47\": 1, \"6\": 1, \"5\": 1, \"13\": 2}, \"48\": {\"48\": 96, \"23\": 2, \"17\": 3, \"0\": 1, \"50\": 2, \"20\": 1, \"52\": 2, \"41\": 1, \"30\": 1, \"34\": 1, \"18\": 1, \"40\": 1, \"8\": 2}, \"6\": {\"20\": 6, \"4\": 2, \"41\": 4, \"6\": 13, \"8\": 2, \"50\": 2, \"51\": 1, \"5\": 3, \"21\": 3, \"30\": 13, \"45\": 1, \"48\": 8, \"27\": 2, \"3\": 5, \"54\": 4, \"9\": 1, \"36\": 2, \"17\": 5, \"34\": 2, \"7\": 1, \"46\": 1, \"26\": 1, \"2\": 1, \"25\": 3, \"40\": 1, \"52\": 1}, \"23\": {\"23\": 141, \"18\": 2, \"30\": 1}, \"1\": {\"57\": 12, \"48\": 13, \"1\": 37, \"50\": 2, \"32\": 2, \"17\": 2, \"47\": 3, \"46\": 2, \"34\": 1, \"0\": 6, \"6\": 1, \"4\": 1, \"8\": 2, \"27\": 4, \"26\": 2, \"15\": 2, \"11\": 2, \"20\": 1, \"9\": 2, \"5\": 1, \"29\": 1, \"3\": 1}, \"17\": {\"41\": 2, \"17\": 104, \"30\": 2}, \"21\": {\"3\": 6, \"21\": 78, \"25\": 3, \"32\": 1, \"30\": 1, \"17\": 2, \"36\": 1, \"53\": 4, \"27\": 4, \"5\": 3, \"57\": 1, \"8\": 1, \"51\": 2, \"50\": 3, \"6\": 2, \"9\": 5, \"46\": 3, \"4\": 2}, \"14\": {\"28\": 4, \"17\": 1, \"22\": 5, \"14\": 11, \"24\": 4, \"45\": 2, \"55\": 2, \"44\": 1, \"10\": 3, \"43\": 1, \"6\": 1, \"12\": 1, \"46\": 1, \"40\": 1, \"13\": 2}, \"55\": {\"14\": 1, \"55\": 121, \"40\": 7, \"19\": 6, \"29\": 1, \"46\": 2, \"35\": 2, \"37\": 1, \"7\": 1, \"45\": 1, \"50\": 1}, \"41\": {\"41\": 27, \"0\": 1}, \"3\": {\"57\": 5, \"30\": 4, \"3\": 40, \"1\": 3, \"32\": 3, \"2\": 1, \"27\": 10, \"21\": 8, \"8\": 5, \"19\": 3, \"48\": 5, \"46\": 3, \"36\": 5, \"47\": 4, \"5\": 9, \"6\": 5, \"4\": 5, \"54\": 1, \"25\": 5, \"20\": 4, \"55\": 1, \"9\": 2, \"50\": 1, \"45\": 1, \"17\": 2, \"0\": 1, \"12\": 1, \"40\": 1}, \"38\": {\"38\": 28}, \"2\": {\"20\": 4, \"2\": 11, \"27\": 3, \"50\": 1, \"12\": 2, \"45\": 1, \"32\": 1, \"6\": 2, \"36\": 4, \"8\": 1, \"21\": 2}, \"8\": {\"8\": 126, \"46\": 1, \"30\": 6, \"20\": 4, \"54\": 1, \"50\": 2, \"17\": 1, \"6\": 1}, \"37\": {\"37\": 27, \"25\": 1}, \"45\": {\"45\": 14, \"20\": 1, \"46\": 2, \"48\": 1, \"4\": 6, \"57\": 3, \"9\": 2, \"3\": 2, \"25\": 6, \"44\": 1, \"6\": 2, \"29\": 1, \"21\": 2, \"55\": 1, \"36\": 2, \"40\": 2, \"27\": 5, \"39\": 1, \"47\": 3, \"50\": 1, \"19\": 1, \"5\": 1}, \"42\": {\"42\": 16, \"5\": 2, \"1\": 1, \"39\": 1, \"48\": 3, \"6\": 2, \"27\": 1, \"47\": 1, \"0\": 1}, \"24\": {\"24\": 101, \"10\": 3}, \"15\": {\"15\": 127, \"16\": 7, \"52\": 2}, \"0\": {\"15\": 2, \"0\": 100, \"23\": 12, \"48\": 7, \"57\": 1, \"6\": 2}, \"47\": {\"47\": 29, \"40\": 1, \"1\": 2, \"14\": 1, \"5\": 8, \"34\": 3, \"41\": 1, \"30\": 1, \"46\": 1, \"48\": 7, \"27\": 4, \"18\": 1, \"0\": 9, \"36\": 1, \"57\": 8, \"23\": 4, \"3\": 3, \"15\": 1, \"20\": 2, \"55\": 1, \"29\": 2, \"6\": 1, \"9\": 1}, \"19\": {\"19\": 74, \"4\": 4, \"29\": 18, \"57\": 4, \"47\": 6, \"3\": 5, \"9\": 1, \"27\": 1, \"40\": 1, \"49\": 1, \"5\": 3, \"50\": 2}}}, \"per_domain_accuracy\": {\"O_14\": {\"accuracy\": 0.9315104166666667, \"source?\": true}, \"O_20\": {\"accuracy\": 0.87734375, \"source?\": true}, \"O_50\": {\"accuracy\": 0.9140625, \"source?\": true}, \"O_26\": {\"accuracy\": 0.79140625, \"source?\": true}, \"O_32\": {\"accuracy\": 0.903125, \"source?\": true}, \"O_44\": {\"accuracy\": 0.7807291666666667, \"source?\": true}, \"O_8\": {\"accuracy\": 0.88203125, \"source?\": true}, \"O_38\": {\"accuracy\": 0.9213541666666667, \"source?\": true}, \"C_4\": {\"accuracy\": 0.7204341317365269, \"source?\": false}, \"C_5\": {\"accuracy\": 0.740572625698324, \"source?\": false}, \"C_2\": {\"accuracy\": 0.7144642857142857, \"source?\": false}, \"C_1\": {\"accuracy\": 0.8014605978260869, \"source?\": false}, \"C_3\": {\"accuracy\": 0.7215073529411765, \"source?\": false}}}, \"history\": {\"epoch_indices\": [1, 2, 3, 4, 5, 6, 7, 8, 9, 10, 11, 12, 13], \"train_label_loss\": [1.0243259204595927, 0.968846525214169, 0.6403857334528029, 0.5448765140874977, 0.48937884621943034, 0.4380453086009116, 0.4045302160278273, 0.37009221360245387, 0.3350519151528022, 0.30427420784724835, 0.2820584614355799, 0.26733862657822016, 0.2513952703642038], \"source_val_label_loss\": [7.853669166564941, 0.7706260681152344, 0.5800778269767761, 0.6227618455886841, 0.47935545444488525, 0.4354266822338104, 0.43184447288513184, 0.4242451786994934, 0.34857726097106934, 0.42572450637817383, 0.33635684847831726, 0.3453451097011566, 0.3320351541042328], \"target_val_label_loss\": [1518.39599609375, 85.11917877197266, 70.4349365234375, 95.7082290649414, 84.48284912109375, 99.31988525390625, 125.92937469482422, 115.28858184814453, 126.4018325805664, 164.37966918945312, 174.21920776367188, 160.5938720703125, 173.13619995117188], \"source_val_acc_label\": [0.6701822916666667, 0.7207356770833333, 0.7910481770833333, 0.775, 0.8257486979166667, 0.8435546875, 0.8443359375, 0.84375, 0.8751953125, 0.8447265625, 0.8779622395833333, 0.87587890625, 0.88330078125], \"target_val_acc_label\": [0.46817857142857144, 0.6513571428571429, 0.6894642857142858, 0.68275, 0.7085714285714285, 0.7143214285714286, 0.70375, 0.7028214285714286, 0.7406071428571429, 0.6776071428571429, 0.6960714285714286, 0.7177142857142857, 0.7229642857142857]}, \"dataset_metrics\": {\"source\": {\"train\": {\"n_unique_x\": 179200, \"n_unique_y\": 16, \"n_batch/episode\": 6720}, \"val\": {\"n_unique_x\": 38400, \"n_unique_y\": 16, \"n_batch/episode\": 960}, \"test\": {\"n_unique_x\": 38400, \"n_unique_y\": 16, \"n_batch/episode\": 960}}, \"target\": {\"train\": {\"n_unique_x\": 175158, \"n_unique_y\": 58, \"n_batch/episode\": 6317}, \"val\": {\"n_unique_x\": 37216, \"n_unique_y\": 58, \"n_batch/episode\": 875}, \"test\": {\"n_unique_x\": 37596, \"n_unique_y\": 58, \"n_batch/episode\": 886}}}}'"
      ]
     },
     "execution_count": 29,
     "metadata": {},
     "output_type": "execute_result"
    }
   ],
   "source": [
    "json.dumps(experiment)"
   ]
  }
 ],
 "metadata": {
  "celltoolbar": "Tags",
  "kernelspec": {
   "display_name": "Python 3 (ipykernel)",
   "language": "python",
   "name": "python3"
  },
  "language_info": {
   "codemirror_mode": {
    "name": "ipython",
    "version": 3
   },
   "file_extension": ".py",
   "mimetype": "text/x-python",
   "name": "python",
   "nbconvert_exporter": "python",
   "pygments_lexer": "ipython3",
   "version": "3.8.10"
  },
  "papermill": {
   "default_parameters": {},
   "duration": 2284.016392,
   "end_time": "2022-03-25T09:35:42.797007",
   "environment_variables": {},
   "exception": null,
   "input_path": "/mnt/wd500GB/CSC500/csc500-main/csc500-notebooks/templates/tl_ptn_template.ipynb",
   "output_path": "trial.ipynb",
   "parameters": {
    "parameters": {
     "BEST_MODEL_PATH": "./best_model.pth",
     "NUM_LOGS_PER_EPOCH": 10,
     "criteria_for_best": "target_accuracy",
     "dataset_seed": 420,
     "datasets": [
      {
       "domain_prefix": "C_",
       "domains": [
        1,
        2,
        3,
        4,
        5
       ],
       "episode_transforms": [],
       "labels": [
        "1-10.",
        "1-11.",
        "1-15.",
        "1-16.",
        "1-17.",
        "1-18.",
        "1-19.",
        "10-4.",
        "10-7.",
        "11-1.",
        "11-14.",
        "11-17.",
        "11-20.",
        "11-7.",
        "13-20.",
        "13-8.",
        "14-10.",
        "14-11.",
        "14-14.",
        "14-7.",
        "15-1.",
        "15-20.",
        "16-1.",
        "16-16.",
        "17-10.",
        "17-11.",
        "17-2.",
        "19-1.",
        "19-16.",
        "19-19.",
        "19-20.",
        "19-3.",
        "2-10.",
        "2-11.",
        "2-17.",
        "2-18.",
        "2-20.",
        "2-3.",
        "2-4.",
        "2-5.",
        "2-6.",
        "2-7.",
        "2-8.",
        "3-13.",
        "3-18.",
        "3-3.",
        "4-1.",
        "4-10.",
        "4-11.",
        "4-19.",
        "5-5.",
        "6-15.",
        "7-10.",
        "7-14.",
        "8-18.",
        "8-20.",
        "8-3.",
        "8-8."
       ],
       "num_examples_per_domain_per_label": -1,
       "pickle_path": "/mnt/wd500GB/CSC500/csc500-main/datasets/cores.stratified_ds.2022A.pkl",
       "source_or_target_dataset": "target",
       "x_transforms": [
        "unit_power",
        "take_200"
       ]
      },
      {
       "domain_prefix": "O_",
       "domains": [
        32,
        38,
        8,
        44,
        14,
        50,
        20,
        26
       ],
       "episode_transforms": [],
       "labels": [
        "3123D52",
        "3123D65",
        "3123D79",
        "3123D80",
        "3123D54",
        "3123D70",
        "3123D7B",
        "3123D89",
        "3123D58",
        "3123D76",
        "3123D7D",
        "3123EFE",
        "3123D64",
        "3123D78",
        "3123D7E",
        "3124E4A"
       ],
       "num_examples_per_domain_per_label": 2000,
       "pickle_path": "/mnt/wd500GB/CSC500/csc500-main/datasets/oracle.Run1_framed_2000Examples_stratified_ds.2022A.pkl",
       "source_or_target_dataset": "source",
       "x_transforms": [
        "unit_power",
        "take_200",
        "resample_20Msps_to_25Msps"
       ]
      }
     ],
     "device": "cuda",
     "experiment_name": "tl_3Av2:oracle.run1.framed -> cores",
     "lr": 0.0001,
     "n_epoch": 50,
     "n_query": 2,
     "n_shot": 3,
     "n_way": 16,
     "patience": 3,
     "seed": 420,
     "test_k_factor": 2,
     "torch_default_dtype": "torch.float32",
     "train_k_factor": 3,
     "val_k_factor": 2,
     "x_net": [
      {
       "class": "nnReshape",
       "kargs": {
        "shape": [
         -1,
         1,
         2,
         200
        ]
       }
      },
      {
       "class": "Conv2d",
       "kargs": {
        "bias": false,
        "in_channels": 1,
        "kernel_size": [
         1,
         7
        ],
        "out_channels": 256,
        "padding": [
         0,
         3
        ]
       }
      },
      {
       "class": "ReLU",
       "kargs": {
        "inplace": true
       }
      },
      {
       "class": "BatchNorm2d",
       "kargs": {
        "num_features": 256
       }
      },
      {
       "class": "Conv2d",
       "kargs": {
        "bias": true,
        "in_channels": 256,
        "kernel_size": [
         2,
         7
        ],
        "out_channels": 80,
        "padding": [
         0,
         3
        ]
       }
      },
      {
       "class": "ReLU",
       "kargs": {
        "inplace": true
       }
      },
      {
       "class": "BatchNorm2d",
       "kargs": {
        "num_features": 80
       }
      },
      {
       "class": "Flatten",
       "kargs": {}
      },
      {
       "class": "Linear",
       "kargs": {
        "in_features": 16000,
        "out_features": 256
       }
      },
      {
       "class": "ReLU",
       "kargs": {
        "inplace": true
       }
      },
      {
       "class": "BatchNorm1d",
       "kargs": {
        "num_features": 256
       }
      },
      {
       "class": "Linear",
       "kargs": {
        "in_features": 256,
        "out_features": 256
       }
      }
     ],
     "x_shape": [
      2,
      200
     ]
    }
   },
   "start_time": "2022-03-25T08:57:38.780615",
   "version": "2.3.4"
  }
 },
 "nbformat": 4,
 "nbformat_minor": 5
}