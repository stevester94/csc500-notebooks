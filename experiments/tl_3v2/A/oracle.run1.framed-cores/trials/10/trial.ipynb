{
 "cells": [
  {
   "cell_type": "markdown",
   "id": "9fea5f46",
   "metadata": {
    "papermill": {
     "duration": 0.016924,
     "end_time": "2022-03-25T12:19:44.210045",
     "exception": false,
     "start_time": "2022-03-25T12:19:44.193121",
     "status": "completed"
    },
    "tags": []
   },
   "source": [
    "# Transfer Learning Template"
   ]
  },
  {
   "cell_type": "code",
   "execution_count": 1,
   "id": "0902182a",
   "metadata": {
    "execution": {
     "iopub.execute_input": "2022-03-25T12:19:44.245037Z",
     "iopub.status.busy": "2022-03-25T12:19:44.244569Z",
     "iopub.status.idle": "2022-03-25T12:19:45.163705Z",
     "shell.execute_reply": "2022-03-25T12:19:45.163234Z"
    },
    "papermill": {
     "duration": 0.941327,
     "end_time": "2022-03-25T12:19:45.163812",
     "exception": false,
     "start_time": "2022-03-25T12:19:44.222485",
     "status": "completed"
    },
    "tags": []
   },
   "outputs": [],
   "source": [
    "%load_ext autoreload\n",
    "%autoreload 2\n",
    "%matplotlib inline\n",
    "\n",
    "    \n",
    "import os, json, sys, time, random\n",
    "import numpy as np\n",
    "import torch\n",
    "from torch.optim import Adam\n",
    "from  easydict import EasyDict\n",
    "import matplotlib.pyplot as plt\n",
    "\n",
    "from steves_models.steves_ptn import Steves_Prototypical_Network\n",
    "\n",
    "from steves_utils.lazy_iterable_wrapper import Lazy_Iterable_Wrapper\n",
    "from steves_utils.iterable_aggregator import Iterable_Aggregator\n",
    "from steves_utils.ptn_train_eval_test_jig import  PTN_Train_Eval_Test_Jig\n",
    "from steves_utils.torch_sequential_builder import build_sequential\n",
    "from steves_utils.torch_utils import get_dataset_metrics, ptn_confusion_by_domain_over_dataloader\n",
    "from steves_utils.utils_v2 import (per_domain_accuracy_from_confusion, get_datasets_base_path)\n",
    "from steves_utils.PTN.utils import independent_accuracy_assesment\n",
    "\n",
    "from torch.utils.data import DataLoader\n",
    "\n",
    "from steves_utils.stratified_dataset.episodic_accessor import Episodic_Accessor_Factory\n",
    "\n",
    "from steves_utils.ptn_do_report import (\n",
    "    get_loss_curve,\n",
    "    get_results_table,\n",
    "    get_parameters_table,\n",
    "    get_domain_accuracies,\n",
    ")\n",
    "\n",
    "from steves_utils.transforms import get_chained_transform"
   ]
  },
  {
   "cell_type": "markdown",
   "id": "41c840b4",
   "metadata": {
    "papermill": {
     "duration": 0.012268,
     "end_time": "2022-03-25T12:19:45.193584",
     "exception": false,
     "start_time": "2022-03-25T12:19:45.181316",
     "status": "completed"
    },
    "tags": []
   },
   "source": [
    "# Allowed Parameters\n",
    "These are allowed parameters, not defaults\n",
    "Each of these values need to be present in the injected parameters (the notebook will raise an exception if they are not present)\n",
    "\n",
    "Papermill uses the cell tag \"parameters\" to inject the real parameters below this cell.\n",
    "Enable tags to see what I mean"
   ]
  },
  {
   "cell_type": "code",
   "execution_count": 2,
   "id": "fd44eb83",
   "metadata": {
    "execution": {
     "iopub.execute_input": "2022-03-25T12:19:45.221060Z",
     "iopub.status.busy": "2022-03-25T12:19:45.220595Z",
     "iopub.status.idle": "2022-03-25T12:19:45.234243Z",
     "shell.execute_reply": "2022-03-25T12:19:45.233777Z"
    },
    "papermill": {
     "duration": 0.028354,
     "end_time": "2022-03-25T12:19:45.234332",
     "exception": false,
     "start_time": "2022-03-25T12:19:45.205978",
     "status": "completed"
    },
    "tags": []
   },
   "outputs": [],
   "source": [
    "required_parameters = {\n",
    "    \"experiment_name\",\n",
    "    \"lr\",\n",
    "    \"device\",\n",
    "    \"seed\",\n",
    "    \"dataset_seed\",\n",
    "    \"n_shot\",\n",
    "    \"n_query\",\n",
    "    \"n_way\",\n",
    "    \"train_k_factor\",\n",
    "    \"val_k_factor\",\n",
    "    \"test_k_factor\",\n",
    "    \"n_epoch\",\n",
    "    \"patience\",\n",
    "    \"criteria_for_best\",\n",
    "    \"x_net\",\n",
    "    \"datasets\",\n",
    "    \"torch_default_dtype\",\n",
    "    \"NUM_LOGS_PER_EPOCH\",\n",
    "    \"BEST_MODEL_PATH\",\n",
    "    \"x_shape\",\n",
    "}"
   ]
  },
  {
   "cell_type": "code",
   "execution_count": 3,
   "id": "fa3f0049",
   "metadata": {
    "execution": {
     "iopub.execute_input": "2022-03-25T12:19:45.275377Z",
     "iopub.status.busy": "2022-03-25T12:19:45.275102Z",
     "iopub.status.idle": "2022-03-25T12:19:45.287134Z",
     "shell.execute_reply": "2022-03-25T12:19:45.286761Z"
    },
    "papermill": {
     "duration": 0.034911,
     "end_time": "2022-03-25T12:19:45.287224",
     "exception": false,
     "start_time": "2022-03-25T12:19:45.252313",
     "status": "completed"
    },
    "tags": [
     "parameters"
    ]
   },
   "outputs": [],
   "source": [
    "from steves_utils.CORES.utils import (\n",
    "    ALL_NODES,\n",
    "    ALL_NODES_MINIMUM_1000_EXAMPLES,\n",
    "    ALL_DAYS\n",
    ")\n",
    "\n",
    "from steves_utils.ORACLE.utils_v2 import (\n",
    "    ALL_DISTANCES_FEET_NARROWED,\n",
    "    ALL_RUNS,\n",
    "    ALL_SERIAL_NUMBERS,\n",
    ")\n",
    "\n",
    "standalone_parameters = {}\n",
    "standalone_parameters[\"experiment_name\"] = \"STANDALONE PTN\"\n",
    "standalone_parameters[\"lr\"] = 0.001\n",
    "standalone_parameters[\"device\"] = \"cuda\"\n",
    "\n",
    "standalone_parameters[\"seed\"] = 1337\n",
    "standalone_parameters[\"dataset_seed\"] = 1337\n",
    "\n",
    "standalone_parameters[\"n_way\"] = 8\n",
    "standalone_parameters[\"n_shot\"] = 3\n",
    "standalone_parameters[\"n_query\"]  = 2\n",
    "standalone_parameters[\"train_k_factor\"] = 1\n",
    "standalone_parameters[\"val_k_factor\"] = 2\n",
    "standalone_parameters[\"test_k_factor\"] = 2\n",
    "\n",
    "\n",
    "standalone_parameters[\"n_epoch\"] = 50\n",
    "\n",
    "standalone_parameters[\"patience\"] = 10\n",
    "standalone_parameters[\"criteria_for_best\"] = \"source_loss\"\n",
    "\n",
    "standalone_parameters[\"datasets\"] = [\n",
    "    {\n",
    "        \"labels\": ALL_SERIAL_NUMBERS,\n",
    "        \"domains\": ALL_DISTANCES_FEET_NARROWED,\n",
    "        \"num_examples_per_domain_per_label\": 100,\n",
    "        \"pickle_path\": os.path.join(get_datasets_base_path(), \"oracle.Run1_framed_2000Examples_stratified_ds.2022A.pkl\"),\n",
    "        \"source_or_target_dataset\": \"source\",\n",
    "        \"x_transforms\": [\"unit_mag\", \"minus_two\"],\n",
    "        \"episode_transforms\": [],\n",
    "        \"domain_prefix\": \"ORACLE_\"\n",
    "    },\n",
    "    {\n",
    "        \"labels\": ALL_NODES,\n",
    "        \"domains\": ALL_DAYS,\n",
    "        \"num_examples_per_domain_per_label\": 100,\n",
    "        \"pickle_path\": os.path.join(get_datasets_base_path(), \"cores.stratified_ds.2022A.pkl\"),\n",
    "        \"source_or_target_dataset\": \"target\",\n",
    "        \"x_transforms\": [\"unit_power\", \"times_zero\"],\n",
    "        \"episode_transforms\": [],\n",
    "        \"domain_prefix\": \"CORES_\"\n",
    "    }   \n",
    "]\n",
    "\n",
    "standalone_parameters[\"torch_default_dtype\"] = \"torch.float32\" \n",
    "\n",
    "\n",
    "\n",
    "standalone_parameters[\"x_net\"] =     [\n",
    "    {\"class\": \"nnReshape\", \"kargs\": {\"shape\":[-1, 1, 2, 256]}},\n",
    "    {\"class\": \"Conv2d\", \"kargs\": { \"in_channels\":1, \"out_channels\":256, \"kernel_size\":(1,7), \"bias\":False, \"padding\":(0,3), },},\n",
    "    {\"class\": \"ReLU\", \"kargs\": {\"inplace\": True}},\n",
    "    {\"class\": \"BatchNorm2d\", \"kargs\": {\"num_features\":256}},\n",
    "\n",
    "    {\"class\": \"Conv2d\", \"kargs\": { \"in_channels\":256, \"out_channels\":80, \"kernel_size\":(2,7), \"bias\":True, \"padding\":(0,3), },},\n",
    "    {\"class\": \"ReLU\", \"kargs\": {\"inplace\": True}},\n",
    "    {\"class\": \"BatchNorm2d\", \"kargs\": {\"num_features\":80}},\n",
    "    {\"class\": \"Flatten\", \"kargs\": {}},\n",
    "\n",
    "    {\"class\": \"Linear\", \"kargs\": {\"in_features\": 80*256, \"out_features\": 256}}, # 80 units per IQ pair\n",
    "    {\"class\": \"ReLU\", \"kargs\": {\"inplace\": True}},\n",
    "    {\"class\": \"BatchNorm1d\", \"kargs\": {\"num_features\":256}},\n",
    "\n",
    "    {\"class\": \"Linear\", \"kargs\": {\"in_features\": 256, \"out_features\": 256}},\n",
    "]\n",
    "\n",
    "# Parameters relevant to results\n",
    "# These parameters will basically never need to change\n",
    "standalone_parameters[\"NUM_LOGS_PER_EPOCH\"] = 10\n",
    "standalone_parameters[\"BEST_MODEL_PATH\"] = \"./best_model.pth\"\n",
    "\n",
    "\n",
    "\n",
    "\n"
   ]
  },
  {
   "cell_type": "code",
   "execution_count": 4,
   "id": "59eea981",
   "metadata": {
    "execution": {
     "iopub.execute_input": "2022-03-25T12:19:45.328145Z",
     "iopub.status.busy": "2022-03-25T12:19:45.327622Z",
     "iopub.status.idle": "2022-03-25T12:19:45.344961Z",
     "shell.execute_reply": "2022-03-25T12:19:45.344575Z"
    },
    "papermill": {
     "duration": 0.040049,
     "end_time": "2022-03-25T12:19:45.345047",
     "exception": false,
     "start_time": "2022-03-25T12:19:45.304998",
     "status": "completed"
    },
    "tags": [
     "injected-parameters"
    ]
   },
   "outputs": [],
   "source": [
    "# Parameters\n",
    "parameters = {\n",
    "    \"experiment_name\": \"tl_3Av2:oracle.run1.framed -> cores\",\n",
    "    \"device\": \"cuda\",\n",
    "    \"lr\": 0.0001,\n",
    "    \"x_shape\": [2, 200],\n",
    "    \"n_shot\": 3,\n",
    "    \"n_query\": 2,\n",
    "    \"train_k_factor\": 3,\n",
    "    \"val_k_factor\": 2,\n",
    "    \"test_k_factor\": 2,\n",
    "    \"torch_default_dtype\": \"torch.float32\",\n",
    "    \"n_epoch\": 50,\n",
    "    \"patience\": 3,\n",
    "    \"criteria_for_best\": \"target_accuracy\",\n",
    "    \"x_net\": [\n",
    "        {\"class\": \"nnReshape\", \"kargs\": {\"shape\": [-1, 1, 2, 200]}},\n",
    "        {\n",
    "            \"class\": \"Conv2d\",\n",
    "            \"kargs\": {\n",
    "                \"in_channels\": 1,\n",
    "                \"out_channels\": 256,\n",
    "                \"kernel_size\": [1, 7],\n",
    "                \"bias\": False,\n",
    "                \"padding\": [0, 3],\n",
    "            },\n",
    "        },\n",
    "        {\"class\": \"ReLU\", \"kargs\": {\"inplace\": True}},\n",
    "        {\"class\": \"BatchNorm2d\", \"kargs\": {\"num_features\": 256}},\n",
    "        {\n",
    "            \"class\": \"Conv2d\",\n",
    "            \"kargs\": {\n",
    "                \"in_channels\": 256,\n",
    "                \"out_channels\": 80,\n",
    "                \"kernel_size\": [2, 7],\n",
    "                \"bias\": True,\n",
    "                \"padding\": [0, 3],\n",
    "            },\n",
    "        },\n",
    "        {\"class\": \"ReLU\", \"kargs\": {\"inplace\": True}},\n",
    "        {\"class\": \"BatchNorm2d\", \"kargs\": {\"num_features\": 80}},\n",
    "        {\"class\": \"Flatten\", \"kargs\": {}},\n",
    "        {\"class\": \"Linear\", \"kargs\": {\"in_features\": 16000, \"out_features\": 256}},\n",
    "        {\"class\": \"ReLU\", \"kargs\": {\"inplace\": True}},\n",
    "        {\"class\": \"BatchNorm1d\", \"kargs\": {\"num_features\": 256}},\n",
    "        {\"class\": \"Linear\", \"kargs\": {\"in_features\": 256, \"out_features\": 256}},\n",
    "    ],\n",
    "    \"NUM_LOGS_PER_EPOCH\": 10,\n",
    "    \"BEST_MODEL_PATH\": \"./best_model.pth\",\n",
    "    \"n_way\": 16,\n",
    "    \"datasets\": [\n",
    "        {\n",
    "            \"labels\": [\n",
    "                \"1-10.\",\n",
    "                \"1-11.\",\n",
    "                \"1-15.\",\n",
    "                \"1-16.\",\n",
    "                \"1-17.\",\n",
    "                \"1-18.\",\n",
    "                \"1-19.\",\n",
    "                \"10-4.\",\n",
    "                \"10-7.\",\n",
    "                \"11-1.\",\n",
    "                \"11-14.\",\n",
    "                \"11-17.\",\n",
    "                \"11-20.\",\n",
    "                \"11-7.\",\n",
    "                \"13-20.\",\n",
    "                \"13-8.\",\n",
    "                \"14-10.\",\n",
    "                \"14-11.\",\n",
    "                \"14-14.\",\n",
    "                \"14-7.\",\n",
    "                \"15-1.\",\n",
    "                \"15-20.\",\n",
    "                \"16-1.\",\n",
    "                \"16-16.\",\n",
    "                \"17-10.\",\n",
    "                \"17-11.\",\n",
    "                \"17-2.\",\n",
    "                \"19-1.\",\n",
    "                \"19-16.\",\n",
    "                \"19-19.\",\n",
    "                \"19-20.\",\n",
    "                \"19-3.\",\n",
    "                \"2-10.\",\n",
    "                \"2-11.\",\n",
    "                \"2-17.\",\n",
    "                \"2-18.\",\n",
    "                \"2-20.\",\n",
    "                \"2-3.\",\n",
    "                \"2-4.\",\n",
    "                \"2-5.\",\n",
    "                \"2-6.\",\n",
    "                \"2-7.\",\n",
    "                \"2-8.\",\n",
    "                \"3-13.\",\n",
    "                \"3-18.\",\n",
    "                \"3-3.\",\n",
    "                \"4-1.\",\n",
    "                \"4-10.\",\n",
    "                \"4-11.\",\n",
    "                \"4-19.\",\n",
    "                \"5-5.\",\n",
    "                \"6-15.\",\n",
    "                \"7-10.\",\n",
    "                \"7-14.\",\n",
    "                \"8-18.\",\n",
    "                \"8-20.\",\n",
    "                \"8-3.\",\n",
    "                \"8-8.\",\n",
    "            ],\n",
    "            \"domains\": [1, 2, 3, 4, 5],\n",
    "            \"num_examples_per_domain_per_label\": -1,\n",
    "            \"pickle_path\": \"/mnt/wd500GB/CSC500/csc500-main/datasets/cores.stratified_ds.2022A.pkl\",\n",
    "            \"source_or_target_dataset\": \"target\",\n",
    "            \"x_transforms\": [\"unit_mag\", \"take_200\"],\n",
    "            \"episode_transforms\": [],\n",
    "            \"domain_prefix\": \"C_\",\n",
    "        },\n",
    "        {\n",
    "            \"labels\": [\n",
    "                \"3123D52\",\n",
    "                \"3123D65\",\n",
    "                \"3123D79\",\n",
    "                \"3123D80\",\n",
    "                \"3123D54\",\n",
    "                \"3123D70\",\n",
    "                \"3123D7B\",\n",
    "                \"3123D89\",\n",
    "                \"3123D58\",\n",
    "                \"3123D76\",\n",
    "                \"3123D7D\",\n",
    "                \"3123EFE\",\n",
    "                \"3123D64\",\n",
    "                \"3123D78\",\n",
    "                \"3123D7E\",\n",
    "                \"3124E4A\",\n",
    "            ],\n",
    "            \"domains\": [32, 38, 8, 44, 14, 50, 20, 26],\n",
    "            \"num_examples_per_domain_per_label\": 2000,\n",
    "            \"pickle_path\": \"/mnt/wd500GB/CSC500/csc500-main/datasets/oracle.Run1_framed_2000Examples_stratified_ds.2022A.pkl\",\n",
    "            \"source_or_target_dataset\": \"source\",\n",
    "            \"x_transforms\": [\"unit_mag\", \"take_200\", \"resample_20Msps_to_25Msps\"],\n",
    "            \"episode_transforms\": [],\n",
    "            \"domain_prefix\": \"O_\",\n",
    "        },\n",
    "    ],\n",
    "    \"seed\": 7,\n",
    "    \"dataset_seed\": 7,\n",
    "}\n"
   ]
  },
  {
   "cell_type": "code",
   "execution_count": 5,
   "id": "8fa1cc33",
   "metadata": {
    "execution": {
     "iopub.execute_input": "2022-03-25T12:19:45.379368Z",
     "iopub.status.busy": "2022-03-25T12:19:45.378900Z",
     "iopub.status.idle": "2022-03-25T12:19:45.393491Z",
     "shell.execute_reply": "2022-03-25T12:19:45.393106Z"
    },
    "papermill": {
     "duration": 0.031554,
     "end_time": "2022-03-25T12:19:45.393577",
     "exception": false,
     "start_time": "2022-03-25T12:19:45.362023",
     "status": "completed"
    },
    "tags": []
   },
   "outputs": [],
   "source": [
    "# Set this to True if you want to run this template directly\n",
    "STANDALONE = False\n",
    "if STANDALONE:\n",
    "    print(\"parameters not injected, running with standalone_parameters\")\n",
    "    parameters = standalone_parameters\n",
    "\n",
    "if not 'parameters' in locals() and not 'parameters' in globals():\n",
    "    raise Exception(\"Parameter injection failed\")\n",
    "\n",
    "#Use an easy dict for all the parameters\n",
    "p = EasyDict(parameters)\n",
    "\n",
    "if \"x_shape\" not in p:\n",
    "    p.x_shape = [2,256] # Default to this if we dont supply x_shape\n",
    "\n",
    "\n",
    "supplied_keys = set(p.keys())\n",
    "\n",
    "if  supplied_keys != required_parameters:\n",
    "    print(\"Parameters are incorrect\")\n",
    "    if len(supplied_keys - required_parameters)>0: print(\"Shouldn't have:\", str(supplied_keys - required_parameters))\n",
    "    if len(required_parameters - supplied_keys)>0: print(\"Need to have:\", str(required_parameters - supplied_keys))\n",
    "    raise RuntimeError(\"Parameters are incorrect\")"
   ]
  },
  {
   "cell_type": "code",
   "execution_count": 6,
   "id": "3a028d58",
   "metadata": {
    "execution": {
     "iopub.execute_input": "2022-03-25T12:19:45.427406Z",
     "iopub.status.busy": "2022-03-25T12:19:45.425485Z",
     "iopub.status.idle": "2022-03-25T12:19:45.440168Z",
     "shell.execute_reply": "2022-03-25T12:19:45.439781Z"
    },
    "papermill": {
     "duration": 0.029888,
     "end_time": "2022-03-25T12:19:45.440253",
     "exception": false,
     "start_time": "2022-03-25T12:19:45.410365",
     "status": "completed"
    },
    "tags": []
   },
   "outputs": [],
   "source": [
    "###################################\n",
    "# Set the RNGs and make it all deterministic\n",
    "###################################\n",
    "np.random.seed(p.seed)\n",
    "random.seed(p.seed)\n",
    "torch.manual_seed(p.seed)\n",
    "\n",
    "torch.use_deterministic_algorithms(True) "
   ]
  },
  {
   "cell_type": "code",
   "execution_count": 7,
   "id": "b691acf6",
   "metadata": {
    "execution": {
     "iopub.execute_input": "2022-03-25T12:19:45.479879Z",
     "iopub.status.busy": "2022-03-25T12:19:45.471709Z",
     "iopub.status.idle": "2022-03-25T12:19:45.487286Z",
     "shell.execute_reply": "2022-03-25T12:19:45.487672Z"
    },
    "papermill": {
     "duration": 0.030069,
     "end_time": "2022-03-25T12:19:45.487777",
     "exception": false,
     "start_time": "2022-03-25T12:19:45.457708",
     "status": "completed"
    },
    "tags": []
   },
   "outputs": [],
   "source": [
    "###########################################\n",
    "# The stratified datasets honor this\n",
    "###########################################\n",
    "torch.set_default_dtype(eval(p.torch_default_dtype))"
   ]
  },
  {
   "cell_type": "code",
   "execution_count": 8,
   "id": "b5fba671",
   "metadata": {
    "execution": {
     "iopub.execute_input": "2022-03-25T12:19:45.527467Z",
     "iopub.status.busy": "2022-03-25T12:19:45.526790Z",
     "iopub.status.idle": "2022-03-25T12:19:45.555424Z",
     "shell.execute_reply": "2022-03-25T12:19:45.555038Z"
    },
    "papermill": {
     "duration": 0.049776,
     "end_time": "2022-03-25T12:19:45.555509",
     "exception": false,
     "start_time": "2022-03-25T12:19:45.505733",
     "status": "completed"
    },
    "tags": []
   },
   "outputs": [],
   "source": [
    "###################################\n",
    "# Build the network(s)\n",
    "# Note: It's critical to do this AFTER setting the RNG\n",
    "###################################\n",
    "x_net = build_sequential(p.x_net)"
   ]
  },
  {
   "cell_type": "code",
   "execution_count": 9,
   "id": "5d7e61cc",
   "metadata": {
    "execution": {
     "iopub.execute_input": "2022-03-25T12:19:45.596816Z",
     "iopub.status.busy": "2022-03-25T12:19:45.588707Z",
     "iopub.status.idle": "2022-03-25T12:19:45.604244Z",
     "shell.execute_reply": "2022-03-25T12:19:45.603837Z"
    },
    "papermill": {
     "duration": 0.030524,
     "end_time": "2022-03-25T12:19:45.604335",
     "exception": false,
     "start_time": "2022-03-25T12:19:45.573811",
     "status": "completed"
    },
    "tags": []
   },
   "outputs": [],
   "source": [
    "start_time_secs = time.time()"
   ]
  },
  {
   "cell_type": "code",
   "execution_count": 10,
   "id": "c6b67dfd",
   "metadata": {
    "execution": {
     "iopub.execute_input": "2022-03-25T12:19:45.638024Z",
     "iopub.status.busy": "2022-03-25T12:19:45.637764Z",
     "iopub.status.idle": "2022-03-25T12:19:45.647817Z",
     "shell.execute_reply": "2022-03-25T12:19:45.647510Z"
    },
    "papermill": {
     "duration": 0.025634,
     "end_time": "2022-03-25T12:19:45.647884",
     "exception": false,
     "start_time": "2022-03-25T12:19:45.622250",
     "status": "completed"
    },
    "tags": []
   },
   "outputs": [],
   "source": [
    "p.domains_source = []\n",
    "p.domains_target = []\n",
    "\n",
    "\n",
    "train_original_source = []\n",
    "val_original_source   = []\n",
    "test_original_source  = []\n",
    "\n",
    "train_original_target = []\n",
    "val_original_target   = []\n",
    "test_original_target  = []"
   ]
  },
  {
   "cell_type": "code",
   "execution_count": 11,
   "id": "e3d9c3d3",
   "metadata": {
    "execution": {
     "iopub.execute_input": "2022-03-25T12:19:45.681347Z",
     "iopub.status.busy": "2022-03-25T12:19:45.681096Z",
     "iopub.status.idle": "2022-03-25T12:19:45.696716Z",
     "shell.execute_reply": "2022-03-25T12:19:45.696330Z"
    },
    "papermill": {
     "duration": 0.031561,
     "end_time": "2022-03-25T12:19:45.696800",
     "exception": false,
     "start_time": "2022-03-25T12:19:45.665239",
     "status": "completed"
    },
    "tags": []
   },
   "outputs": [],
   "source": [
    "# global_x_transform_func = lambda x: normalize(x.to(torch.get_default_dtype()), \"unit_power\") # unit_power, unit_mag\n",
    "# global_x_transform_func = lambda x: normalize(x, \"unit_power\") # unit_power, unit_mag"
   ]
  },
  {
   "cell_type": "code",
   "execution_count": 12,
   "id": "acb78fd2",
   "metadata": {
    "execution": {
     "iopub.execute_input": "2022-03-25T12:19:45.734730Z",
     "iopub.status.busy": "2022-03-25T12:19:45.734458Z",
     "iopub.status.idle": "2022-03-25T12:19:45.748079Z",
     "shell.execute_reply": "2022-03-25T12:19:45.747613Z"
    },
    "papermill": {
     "duration": 0.033841,
     "end_time": "2022-03-25T12:19:45.748177",
     "exception": false,
     "start_time": "2022-03-25T12:19:45.714336",
     "status": "completed"
    },
    "tags": []
   },
   "outputs": [],
   "source": [
    "def add_dataset(\n",
    "    labels,\n",
    "    domains,\n",
    "    pickle_path,\n",
    "    x_transforms,\n",
    "    episode_transforms,\n",
    "    domain_prefix,\n",
    "    num_examples_per_domain_per_label,\n",
    "    source_or_target_dataset:str,\n",
    "    iterator_seed=p.seed,\n",
    "    dataset_seed=p.dataset_seed,\n",
    "    n_shot=p.n_shot,\n",
    "    n_way=p.n_way,\n",
    "    n_query=p.n_query,\n",
    "    train_val_test_k_factors=(p.train_k_factor,p.val_k_factor,p.test_k_factor),\n",
    "):\n",
    "   \n",
    "    if x_transforms == []: x_transform = None\n",
    "    else: x_transform = get_chained_transform(x_transforms)\n",
    "    \n",
    "    if episode_transforms == []: episode_transform = None\n",
    "    else: raise Exception(\"episode_transforms not implemented\")\n",
    "    \n",
    "    episode_transform = lambda tup, _prefix=domain_prefix: (_prefix + str(tup[0]), tup[1])\n",
    "\n",
    "\n",
    "    eaf = Episodic_Accessor_Factory(\n",
    "        labels=labels,\n",
    "        domains=domains,\n",
    "        num_examples_per_domain_per_label=num_examples_per_domain_per_label,\n",
    "        iterator_seed=iterator_seed,\n",
    "        dataset_seed=dataset_seed,\n",
    "        n_shot=n_shot,\n",
    "        n_way=n_way,\n",
    "        n_query=n_query,\n",
    "        train_val_test_k_factors=train_val_test_k_factors,\n",
    "        pickle_path=pickle_path,\n",
    "        x_transform_func=x_transform,\n",
    "    )\n",
    "\n",
    "    train, val, test = eaf.get_train(), eaf.get_val(), eaf.get_test()\n",
    "    train = Lazy_Iterable_Wrapper(train, episode_transform)\n",
    "    val = Lazy_Iterable_Wrapper(val, episode_transform)\n",
    "    test = Lazy_Iterable_Wrapper(test, episode_transform)\n",
    "\n",
    "    if source_or_target_dataset==\"source\":\n",
    "        train_original_source.append(train)\n",
    "        val_original_source.append(val)\n",
    "        test_original_source.append(test)\n",
    "\n",
    "        p.domains_source.extend(\n",
    "            [domain_prefix + str(u) for u in domains]\n",
    "        )\n",
    "    elif source_or_target_dataset==\"target\":\n",
    "        train_original_target.append(train)\n",
    "        val_original_target.append(val)\n",
    "        test_original_target.append(test)\n",
    "        p.domains_target.extend(\n",
    "            [domain_prefix + str(u) for u in domains]\n",
    "        )\n",
    "    else:\n",
    "        raise Exception(f\"invalid source_or_target_dataset: {source_or_target_dataset}\")\n",
    "    "
   ]
  },
  {
   "cell_type": "code",
   "execution_count": 13,
   "id": "fe266617",
   "metadata": {
    "execution": {
     "iopub.execute_input": "2022-03-25T12:19:45.781646Z",
     "iopub.status.busy": "2022-03-25T12:19:45.780959Z",
     "iopub.status.idle": "2022-03-25T12:20:34.744421Z",
     "shell.execute_reply": "2022-03-25T12:20:34.743931Z"
    },
    "papermill": {
     "duration": 48.977921,
     "end_time": "2022-03-25T12:20:34.744522",
     "exception": false,
     "start_time": "2022-03-25T12:19:45.766601",
     "status": "completed"
    },
    "tags": []
   },
   "outputs": [],
   "source": [
    "for ds in p.datasets:\n",
    "    add_dataset(**ds)"
   ]
  },
  {
   "cell_type": "code",
   "execution_count": 14,
   "id": "b90d65ac",
   "metadata": {
    "execution": {
     "iopub.execute_input": "2022-03-25T12:20:34.783198Z",
     "iopub.status.busy": "2022-03-25T12:20:34.778760Z",
     "iopub.status.idle": "2022-03-25T12:20:34.793817Z",
     "shell.execute_reply": "2022-03-25T12:20:34.793307Z"
    },
    "papermill": {
     "duration": 0.030485,
     "end_time": "2022-03-25T12:20:34.793918",
     "exception": false,
     "start_time": "2022-03-25T12:20:34.763433",
     "status": "completed"
    },
    "tags": []
   },
   "outputs": [],
   "source": [
    "# from steves_utils.CORES.utils import (\n",
    "#     ALL_NODES,\n",
    "#     ALL_NODES_MINIMUM_1000_EXAMPLES,\n",
    "#     ALL_DAYS\n",
    "# )\n",
    "\n",
    "# add_dataset(\n",
    "#     labels=ALL_NODES,\n",
    "#     domains = ALL_DAYS,\n",
    "#     num_examples_per_domain_per_label=100,\n",
    "#     pickle_path=os.path.join(get_datasets_base_path(), \"cores.stratified_ds.2022A.pkl\"),\n",
    "#     source_or_target_dataset=\"target\",\n",
    "#     x_transform_func=global_x_transform_func,\n",
    "#     domain_modifier=lambda u: f\"cores_{u}\"\n",
    "# )"
   ]
  },
  {
   "cell_type": "code",
   "execution_count": 15,
   "id": "76db484d",
   "metadata": {
    "execution": {
     "iopub.execute_input": "2022-03-25T12:20:34.834583Z",
     "iopub.status.busy": "2022-03-25T12:20:34.827566Z",
     "iopub.status.idle": "2022-03-25T12:20:34.841399Z",
     "shell.execute_reply": "2022-03-25T12:20:34.840976Z"
    },
    "papermill": {
     "duration": 0.029905,
     "end_time": "2022-03-25T12:20:34.841501",
     "exception": false,
     "start_time": "2022-03-25T12:20:34.811596",
     "status": "completed"
    },
    "tags": []
   },
   "outputs": [],
   "source": [
    "# from steves_utils.ORACLE.utils_v2 import (\n",
    "#     ALL_DISTANCES_FEET,\n",
    "#     ALL_RUNS,\n",
    "#     ALL_SERIAL_NUMBERS,\n",
    "# )\n",
    "\n",
    "\n",
    "# add_dataset(\n",
    "#     labels=ALL_SERIAL_NUMBERS,\n",
    "#     domains = list(set(ALL_DISTANCES_FEET) - {2,62}),\n",
    "#     num_examples_per_domain_per_label=100,\n",
    "#     pickle_path=os.path.join(get_datasets_base_path(), \"oracle.Run2_framed_2000Examples_stratified_ds.2022A.pkl\"),\n",
    "#     source_or_target_dataset=\"source\",\n",
    "#     x_transform_func=global_x_transform_func,\n",
    "#     domain_modifier=lambda u: f\"oracle1_{u}\"\n",
    "# )\n"
   ]
  },
  {
   "cell_type": "code",
   "execution_count": 16,
   "id": "97dea9d2",
   "metadata": {
    "execution": {
     "iopub.execute_input": "2022-03-25T12:20:34.875118Z",
     "iopub.status.busy": "2022-03-25T12:20:34.874177Z",
     "iopub.status.idle": "2022-03-25T12:20:34.887202Z",
     "shell.execute_reply": "2022-03-25T12:20:34.886826Z"
    },
    "papermill": {
     "duration": 0.027611,
     "end_time": "2022-03-25T12:20:34.887303",
     "exception": false,
     "start_time": "2022-03-25T12:20:34.859692",
     "status": "completed"
    },
    "tags": []
   },
   "outputs": [],
   "source": [
    "# from steves_utils.ORACLE.utils_v2 import (\n",
    "#     ALL_DISTANCES_FEET,\n",
    "#     ALL_RUNS,\n",
    "#     ALL_SERIAL_NUMBERS,\n",
    "# )\n",
    "\n",
    "\n",
    "# add_dataset(\n",
    "#     labels=ALL_SERIAL_NUMBERS,\n",
    "#     domains = list(set(ALL_DISTANCES_FEET) - {2,62,56}),\n",
    "#     num_examples_per_domain_per_label=100,\n",
    "#     pickle_path=os.path.join(get_datasets_base_path(), \"oracle.Run2_framed_2000Examples_stratified_ds.2022A.pkl\"),\n",
    "#     source_or_target_dataset=\"source\",\n",
    "#     x_transform_func=global_x_transform_func,\n",
    "#     domain_modifier=lambda u: f\"oracle2_{u}\"\n",
    "# )"
   ]
  },
  {
   "cell_type": "code",
   "execution_count": 17,
   "id": "6f289866",
   "metadata": {
    "execution": {
     "iopub.execute_input": "2022-03-25T12:20:34.934876Z",
     "iopub.status.busy": "2022-03-25T12:20:34.931634Z",
     "iopub.status.idle": "2022-03-25T12:20:34.937492Z",
     "shell.execute_reply": "2022-03-25T12:20:34.937108Z"
    },
    "papermill": {
     "duration": 0.030721,
     "end_time": "2022-03-25T12:20:34.937584",
     "exception": false,
     "start_time": "2022-03-25T12:20:34.906863",
     "status": "completed"
    },
    "tags": []
   },
   "outputs": [],
   "source": [
    "# add_dataset(\n",
    "#     labels=list(range(19)),\n",
    "#     domains = [0,1,2],\n",
    "#     num_examples_per_domain_per_label=100,\n",
    "#     pickle_path=os.path.join(get_datasets_base_path(), \"metehan.stratified_ds.2022A.pkl\"),\n",
    "#     source_or_target_dataset=\"target\",\n",
    "#     x_transform_func=global_x_transform_func,\n",
    "#     domain_modifier=lambda u: f\"met_{u}\"\n",
    "# )"
   ]
  },
  {
   "cell_type": "code",
   "execution_count": 18,
   "id": "86a863c3",
   "metadata": {
    "execution": {
     "iopub.execute_input": "2022-03-25T12:20:34.971164Z",
     "iopub.status.busy": "2022-03-25T12:20:34.970826Z",
     "iopub.status.idle": "2022-03-25T12:20:34.983140Z",
     "shell.execute_reply": "2022-03-25T12:20:34.982836Z"
    },
    "papermill": {
     "duration": 0.02761,
     "end_time": "2022-03-25T12:20:34.983206",
     "exception": false,
     "start_time": "2022-03-25T12:20:34.955596",
     "status": "completed"
    },
    "tags": []
   },
   "outputs": [],
   "source": [
    "# # from steves_utils.wisig.utils import (\n",
    "# #     ALL_NODES_MINIMUM_100_EXAMPLES,\n",
    "# #     ALL_NODES_MINIMUM_500_EXAMPLES,\n",
    "# #     ALL_NODES_MINIMUM_1000_EXAMPLES,\n",
    "# #     ALL_DAYS\n",
    "# # )\n",
    "\n",
    "# import steves_utils.wisig.utils as wisig\n",
    "\n",
    "\n",
    "# add_dataset(\n",
    "#     labels=wisig.ALL_NODES_MINIMUM_100_EXAMPLES,\n",
    "#     domains = wisig.ALL_DAYS,\n",
    "#     num_examples_per_domain_per_label=100,\n",
    "#     pickle_path=os.path.join(get_datasets_base_path(), \"wisig.node3-19.stratified_ds.2022A.pkl\"),\n",
    "#     source_or_target_dataset=\"target\",\n",
    "#     x_transform_func=global_x_transform_func,\n",
    "#     domain_modifier=lambda u: f\"wisig_{u}\"\n",
    "# )"
   ]
  },
  {
   "cell_type": "code",
   "execution_count": 19,
   "id": "fd5442bc",
   "metadata": {
    "execution": {
     "iopub.execute_input": "2022-03-25T12:20:35.019667Z",
     "iopub.status.busy": "2022-03-25T12:20:35.016642Z",
     "iopub.status.idle": "2022-03-25T12:20:35.034173Z",
     "shell.execute_reply": "2022-03-25T12:20:35.033763Z"
    },
    "papermill": {
     "duration": 0.03258,
     "end_time": "2022-03-25T12:20:35.034259",
     "exception": false,
     "start_time": "2022-03-25T12:20:35.001679",
     "status": "completed"
    },
    "tags": []
   },
   "outputs": [],
   "source": [
    "###################################\n",
    "# Build the dataset\n",
    "###################################\n",
    "train_original_source = Iterable_Aggregator(train_original_source, p.seed)\n",
    "val_original_source = Iterable_Aggregator(val_original_source, p.seed)\n",
    "test_original_source = Iterable_Aggregator(test_original_source, p.seed)\n",
    "\n",
    "\n",
    "train_original_target = Iterable_Aggregator(train_original_target, p.seed)\n",
    "val_original_target = Iterable_Aggregator(val_original_target, p.seed)\n",
    "test_original_target = Iterable_Aggregator(test_original_target, p.seed)\n",
    "\n",
    "# For CNN We only use X and Y. And we only train on the source.\n",
    "# Properly form the data using a transform lambda and Lazy_Iterable_Wrapper. Finally wrap them in a dataloader\n",
    "\n",
    "transform_lambda = lambda ex: ex[1] # Original is (<domain>, <episode>) so we strip down to episode only\n",
    "\n",
    "train_processed_source = Lazy_Iterable_Wrapper(train_original_source, transform_lambda)\n",
    "val_processed_source   = Lazy_Iterable_Wrapper(val_original_source, transform_lambda)\n",
    "test_processed_source  = Lazy_Iterable_Wrapper(test_original_source, transform_lambda)\n",
    "\n",
    "train_processed_target = Lazy_Iterable_Wrapper(train_original_target, transform_lambda)\n",
    "val_processed_target   = Lazy_Iterable_Wrapper(val_original_target, transform_lambda)\n",
    "test_processed_target  = Lazy_Iterable_Wrapper(test_original_target, transform_lambda)\n",
    "\n",
    "datasets = EasyDict({\n",
    "    \"source\": {\n",
    "        \"original\": {\"train\":train_original_source, \"val\":val_original_source, \"test\":test_original_source},\n",
    "        \"processed\": {\"train\":train_processed_source, \"val\":val_processed_source, \"test\":test_processed_source}\n",
    "    },\n",
    "    \"target\": {\n",
    "        \"original\": {\"train\":train_original_target, \"val\":val_original_target, \"test\":test_original_target},\n",
    "        \"processed\": {\"train\":train_processed_target, \"val\":val_processed_target, \"test\":test_processed_target}\n",
    "    },\n",
    "})"
   ]
  },
  {
   "cell_type": "code",
   "execution_count": 20,
   "id": "5b3c01fc",
   "metadata": {
    "execution": {
     "iopub.execute_input": "2022-03-25T12:20:35.080196Z",
     "iopub.status.busy": "2022-03-25T12:20:35.077191Z",
     "iopub.status.idle": "2022-03-25T12:20:41.394017Z",
     "shell.execute_reply": "2022-03-25T12:20:41.394247Z"
    },
    "papermill": {
     "duration": 6.340576,
     "end_time": "2022-03-25T12:20:41.394328",
     "exception": false,
     "start_time": "2022-03-25T12:20:35.053752",
     "status": "completed"
    },
    "tags": []
   },
   "outputs": [
    {
     "name": "stdout",
     "output_type": "stream",
     "text": [
      "{'O_8', 'O_32', 'O_20', 'O_38', 'O_44', 'O_50', 'O_26', 'O_14'}\n"
     ]
    },
    {
     "name": "stdout",
     "output_type": "stream",
     "text": [
      "{'C_1', 'C_2', 'C_5', 'C_4', 'C_3'}\n"
     ]
    },
    {
     "name": "stdout",
     "output_type": "stream",
     "text": [
      "tensor([[[ 8.7811e-01,  1.0491e+00, -5.2810e-01,  ...,  6.3614e-01,\n",
      "           6.5089e-01,  1.1922e+00],\n",
      "         [-5.5415e-01,  1.2967e-01,  9.7587e-01,  ...,  9.3159e-01,\n",
      "           7.4736e-01, -3.6365e-01]],\n",
      "\n",
      "        [[ 4.5133e-01,  1.2198e+00,  4.4993e-02,  ...,  5.5299e-01,\n",
      "          -4.7954e-01,  6.0680e-01],\n",
      "         [-3.8053e-01,  5.2255e-01,  6.2250e-01,  ...,  4.0995e-01,\n",
      "           1.1655e+00,  6.3729e-01]],\n",
      "\n",
      "        [[-3.5217e-01, -8.1919e-01,  2.1608e-01,  ..., -5.3617e-01,\n",
      "           1.0090e+00,  3.5920e-02],\n",
      "         [ 2.6413e-01, -8.1648e-01, -7.2088e-01,  ..., -4.8177e-01,\n",
      "          -9.7086e-01, -8.0159e-01]],\n",
      "\n",
      "        ...,\n",
      "\n",
      "        [[-4.3317e-01, -1.1566e+00, -1.0410e-01,  ..., -9.3470e-01,\n",
      "          -9.2491e-01, -1.1399e+00],\n",
      "         [ 1.0277e+00,  5.0329e-01, -1.0004e+00,  ..., -5.2228e-01,\n",
      "          -5.3969e-01,  5.8592e-01]],\n",
      "\n",
      "        [[ 5.3353e-01,  2.1818e-01, -6.2163e-01,  ..., -4.8091e-02,\n",
      "          -1.2558e+00, -2.9783e-01],\n",
      "         [-4.8914e-16,  1.1586e+00,  3.5970e-01,  ...,  7.4092e-01,\n",
      "           1.8264e-01,  7.9458e-01]],\n",
      "\n",
      "        [[ 9.3520e-01,  9.0946e-01, -7.0035e-01,  ...,  4.2561e-01,\n",
      "           6.1819e-01,  1.3908e+00],\n",
      "         [-5.2755e-01,  2.1641e-01,  9.0133e-01,  ...,  9.1893e-01,\n",
      "           6.7785e-01, -2.5718e-01]]])\n"
     ]
    }
   ],
   "source": [
    "from steves_utils.transforms import get_average_magnitude, get_average_power\n",
    "\n",
    "print(set([u for u,_ in val_original_source]))\n",
    "print(set([u for u,_ in val_original_target]))\n",
    "\n",
    "s_x, s_y, q_x, q_y, _ = next(iter(train_processed_source))\n",
    "print(s_x)\n",
    "\n",
    "# for ds in [\n",
    "#     train_processed_source,\n",
    "#     val_processed_source,\n",
    "#     test_processed_source,\n",
    "#     train_processed_target,\n",
    "#     val_processed_target,\n",
    "#     test_processed_target\n",
    "# ]:\n",
    "#     for s_x, s_y, q_x, q_y, _ in ds:\n",
    "#         for X in (s_x, q_x):\n",
    "#             for x in X:\n",
    "#                 assert np.isclose(get_average_magnitude(x.numpy()), 1.0)\n",
    "#                 assert np.isclose(get_average_power(x.numpy()), 1.0)\n",
    "                "
   ]
  },
  {
   "cell_type": "code",
   "execution_count": 21,
   "id": "bbdacba1",
   "metadata": {
    "execution": {
     "iopub.execute_input": "2022-03-25T12:20:41.425924Z",
     "iopub.status.busy": "2022-03-25T12:20:41.425532Z",
     "iopub.status.idle": "2022-03-25T12:20:41.475393Z",
     "shell.execute_reply": "2022-03-25T12:20:41.474957Z"
    },
    "papermill": {
     "duration": 0.066445,
     "end_time": "2022-03-25T12:20:41.475504",
     "exception": false,
     "start_time": "2022-03-25T12:20:41.409059",
     "status": "completed"
    },
    "tags": []
   },
   "outputs": [
    {
     "name": "stdout",
     "output_type": "stream",
     "text": [
      "(2, 200)\n"
     ]
    }
   ],
   "source": [
    "###################################\n",
    "# Build the model\n",
    "###################################\n",
    "# easfsl only wants a tuple for the shape\n",
    "model = Steves_Prototypical_Network(x_net, device=p.device, x_shape=tuple(p.x_shape))\n",
    "optimizer = Adam(params=model.parameters(), lr=p.lr)"
   ]
  },
  {
   "cell_type": "code",
   "execution_count": 22,
   "id": "22b39ac5",
   "metadata": {
    "execution": {
     "iopub.execute_input": "2022-03-25T12:20:41.513285Z",
     "iopub.status.busy": "2022-03-25T12:20:41.513027Z",
     "iopub.status.idle": "2022-03-25T13:01:36.859354Z",
     "shell.execute_reply": "2022-03-25T13:01:36.859122Z"
    },
    "papermill": {
     "duration": 2455.364249,
     "end_time": "2022-03-25T13:01:36.859411",
     "exception": false,
     "start_time": "2022-03-25T12:20:41.495162",
     "status": "completed"
    },
    "tags": []
   },
   "outputs": [
    {
     "name": "stdout",
     "output_type": "stream",
     "text": [
      "epoch: 1, [batch: 1 / 6720], examples_per_second: 48.4969, train_label_loss: 3.0509, \n"
     ]
    },
    {
     "name": "stdout",
     "output_type": "stream",
     "text": [
      "epoch: 1, [batch: 672 / 6720], examples_per_second: 3649.5427, train_label_loss: 1.6593, \n"
     ]
    },
    {
     "name": "stdout",
     "output_type": "stream",
     "text": [
      "epoch: 1, [batch: 1344 / 6720], examples_per_second: 3664.4382, train_label_loss: 0.7659, \n"
     ]
    },
    {
     "name": "stdout",
     "output_type": "stream",
     "text": [
      "epoch: 1, [batch: 2016 / 6720], examples_per_second: 3609.7366, train_label_loss: 0.9190, \n"
     ]
    },
    {
     "name": "stdout",
     "output_type": "stream",
     "text": [
      "epoch: 1, [batch: 2688 / 6720], examples_per_second: 3630.9598, train_label_loss: 0.8042, \n"
     ]
    },
    {
     "name": "stdout",
     "output_type": "stream",
     "text": [
      "epoch: 1, [batch: 3360 / 6720], examples_per_second: 3647.9073, train_label_loss: 0.6731, \n"
     ]
    },
    {
     "name": "stdout",
     "output_type": "stream",
     "text": [
      "epoch: 1, [batch: 4032 / 6720], examples_per_second: 3636.0889, train_label_loss: 1.0924, \n"
     ]
    },
    {
     "name": "stdout",
     "output_type": "stream",
     "text": [
      "epoch: 1, [batch: 4704 / 6720], examples_per_second: 3609.5444, train_label_loss: 1.3880, \n"
     ]
    },
    {
     "name": "stdout",
     "output_type": "stream",
     "text": [
      "epoch: 1, [batch: 5376 / 6720], examples_per_second: 3624.3935, train_label_loss: 1.1954, \n"
     ]
    },
    {
     "name": "stdout",
     "output_type": "stream",
     "text": [
      "epoch: 1, [batch: 6048 / 6720], examples_per_second: 3635.5853, train_label_loss: 0.7746, \n"
     ]
    },
    {
     "name": "stdout",
     "output_type": "stream",
     "text": [
      "=============================================================\n",
      "epoch: 1, source_val_acc_label: 0.6647, target_val_acc_label: 0.4050, source_val_label_loss: 7.6592, target_val_label_loss: 1873.6001, \n",
      "=============================================================\n"
     ]
    },
    {
     "name": "stdout",
     "output_type": "stream",
     "text": [
      "New best\n"
     ]
    },
    {
     "name": "stdout",
     "output_type": "stream",
     "text": [
      "epoch: 2, [batch: 1 / 6720], examples_per_second: 5.2826, train_label_loss: 1.4052, \n"
     ]
    },
    {
     "name": "stdout",
     "output_type": "stream",
     "text": [
      "epoch: 2, [batch: 672 / 6720], examples_per_second: 3622.7299, train_label_loss: 1.3741, \n"
     ]
    },
    {
     "name": "stdout",
     "output_type": "stream",
     "text": [
      "epoch: 2, [batch: 1344 / 6720], examples_per_second: 3629.6320, train_label_loss: 0.7381, \n"
     ]
    },
    {
     "name": "stdout",
     "output_type": "stream",
     "text": [
      "epoch: 2, [batch: 2016 / 6720], examples_per_second: 3640.0187, train_label_loss: 0.8147, \n"
     ]
    },
    {
     "name": "stdout",
     "output_type": "stream",
     "text": [
      "epoch: 2, [batch: 2688 / 6720], examples_per_second: 3615.9973, train_label_loss: 0.8503, \n"
     ]
    },
    {
     "name": "stdout",
     "output_type": "stream",
     "text": [
      "epoch: 2, [batch: 3360 / 6720], examples_per_second: 3632.2880, train_label_loss: 0.7194, \n"
     ]
    },
    {
     "name": "stdout",
     "output_type": "stream",
     "text": [
      "epoch: 2, [batch: 4032 / 6720], examples_per_second: 3638.0942, train_label_loss: 0.6207, \n"
     ]
    },
    {
     "name": "stdout",
     "output_type": "stream",
     "text": [
      "epoch: 2, [batch: 4704 / 6720], examples_per_second: 3625.6850, train_label_loss: 1.1406, \n"
     ]
    },
    {
     "name": "stdout",
     "output_type": "stream",
     "text": [
      "epoch: 2, [batch: 5376 / 6720], examples_per_second: 3629.9265, train_label_loss: 0.2857, \n"
     ]
    },
    {
     "name": "stdout",
     "output_type": "stream",
     "text": [
      "epoch: 2, [batch: 6048 / 6720], examples_per_second: 3635.5293, train_label_loss: 0.6904, \n"
     ]
    },
    {
     "name": "stdout",
     "output_type": "stream",
     "text": [
      "=============================================================\n",
      "epoch: 2, source_val_acc_label: 0.7064, target_val_acc_label: 0.6569, source_val_label_loss: 0.7919, target_val_label_loss: 99.2763, \n",
      "=============================================================\n"
     ]
    },
    {
     "name": "stdout",
     "output_type": "stream",
     "text": [
      "New best\n"
     ]
    },
    {
     "name": "stdout",
     "output_type": "stream",
     "text": [
      "epoch: 3, [batch: 1 / 6720], examples_per_second: 5.2469, train_label_loss: 0.4240, \n"
     ]
    },
    {
     "name": "stdout",
     "output_type": "stream",
     "text": [
      "epoch: 3, [batch: 672 / 6720], examples_per_second: 3624.1671, train_label_loss: 1.0961, \n"
     ]
    },
    {
     "name": "stdout",
     "output_type": "stream",
     "text": [
      "epoch: 3, [batch: 1344 / 6720], examples_per_second: 3635.0355, train_label_loss: 0.3662, \n"
     ]
    },
    {
     "name": "stdout",
     "output_type": "stream",
     "text": [
      "epoch: 3, [batch: 2016 / 6720], examples_per_second: 3641.2294, train_label_loss: 0.8427, \n"
     ]
    },
    {
     "name": "stdout",
     "output_type": "stream",
     "text": [
      "epoch: 3, [batch: 2688 / 6720], examples_per_second: 3623.4409, train_label_loss: 0.6376, \n"
     ]
    },
    {
     "name": "stdout",
     "output_type": "stream",
     "text": [
      "epoch: 3, [batch: 3360 / 6720], examples_per_second: 3657.9539, train_label_loss: 0.8667, \n"
     ]
    },
    {
     "name": "stdout",
     "output_type": "stream",
     "text": [
      "epoch: 3, [batch: 4032 / 6720], examples_per_second: 3639.2894, train_label_loss: 0.7337, \n"
     ]
    },
    {
     "name": "stdout",
     "output_type": "stream",
     "text": [
      "epoch: 3, [batch: 4704 / 6720], examples_per_second: 3649.3079, train_label_loss: 0.4348, \n"
     ]
    },
    {
     "name": "stdout",
     "output_type": "stream",
     "text": [
      "epoch: 3, [batch: 5376 / 6720], examples_per_second: 3645.9678, train_label_loss: 0.6411, \n"
     ]
    },
    {
     "name": "stdout",
     "output_type": "stream",
     "text": [
      "epoch: 3, [batch: 6048 / 6720], examples_per_second: 3622.7930, train_label_loss: 0.6811, \n"
     ]
    },
    {
     "name": "stdout",
     "output_type": "stream",
     "text": [
      "=============================================================\n",
      "epoch: 3, source_val_acc_label: 0.7526, target_val_acc_label: 0.6710, source_val_label_loss: 0.6636, target_val_label_loss: 98.1496, \n",
      "=============================================================\n"
     ]
    },
    {
     "name": "stdout",
     "output_type": "stream",
     "text": [
      "New best\n"
     ]
    },
    {
     "name": "stdout",
     "output_type": "stream",
     "text": [
      "epoch: 4, [batch: 1 / 6720], examples_per_second: 5.2510, train_label_loss: 0.7087, \n"
     ]
    },
    {
     "name": "stdout",
     "output_type": "stream",
     "text": [
      "epoch: 4, [batch: 672 / 6720], examples_per_second: 3615.2197, train_label_loss: 0.2806, \n"
     ]
    },
    {
     "name": "stdout",
     "output_type": "stream",
     "text": [
      "epoch: 4, [batch: 1344 / 6720], examples_per_second: 3629.8601, train_label_loss: 0.4139, \n"
     ]
    },
    {
     "name": "stdout",
     "output_type": "stream",
     "text": [
      "epoch: 4, [batch: 2016 / 6720], examples_per_second: 3643.2537, train_label_loss: 0.3772, \n"
     ]
    },
    {
     "name": "stdout",
     "output_type": "stream",
     "text": [
      "epoch: 4, [batch: 2688 / 6720], examples_per_second: 3627.3706, train_label_loss: 0.3213, \n"
     ]
    },
    {
     "name": "stdout",
     "output_type": "stream",
     "text": [
      "epoch: 4, [batch: 3360 / 6720], examples_per_second: 3629.9487, train_label_loss: 0.5520, \n"
     ]
    },
    {
     "name": "stdout",
     "output_type": "stream",
     "text": [
      "epoch: 4, [batch: 4032 / 6720], examples_per_second: 3635.5520, train_label_loss: 0.2838, \n"
     ]
    },
    {
     "name": "stdout",
     "output_type": "stream",
     "text": [
      "epoch: 4, [batch: 4704 / 6720], examples_per_second: 3630.6244, train_label_loss: 1.1041, \n"
     ]
    },
    {
     "name": "stdout",
     "output_type": "stream",
     "text": [
      "epoch: 4, [batch: 5376 / 6720], examples_per_second: 3639.8637, train_label_loss: 0.3381, \n"
     ]
    },
    {
     "name": "stdout",
     "output_type": "stream",
     "text": [
      "epoch: 4, [batch: 6048 / 6720], examples_per_second: 3639.3566, train_label_loss: 0.5092, \n"
     ]
    },
    {
     "name": "stdout",
     "output_type": "stream",
     "text": [
      "=============================================================\n",
      "epoch: 4, source_val_acc_label: 0.8001, target_val_acc_label: 0.6780, source_val_label_loss: 0.5484, target_val_label_loss: 94.3838, \n",
      "=============================================================\n"
     ]
    },
    {
     "name": "stdout",
     "output_type": "stream",
     "text": [
      "New best\n"
     ]
    },
    {
     "name": "stdout",
     "output_type": "stream",
     "text": [
      "epoch: 5, [batch: 1 / 6720], examples_per_second: 5.2370, train_label_loss: 1.0836, \n"
     ]
    },
    {
     "name": "stdout",
     "output_type": "stream",
     "text": [
      "epoch: 5, [batch: 672 / 6720], examples_per_second: 3585.6180, train_label_loss: 0.6385, \n"
     ]
    },
    {
     "name": "stdout",
     "output_type": "stream",
     "text": [
      "epoch: 5, [batch: 1344 / 6720], examples_per_second: 3625.3022, train_label_loss: 0.1986, \n"
     ]
    },
    {
     "name": "stdout",
     "output_type": "stream",
     "text": [
      "epoch: 5, [batch: 2016 / 6720], examples_per_second: 3649.0701, train_label_loss: 0.3506, \n"
     ]
    },
    {
     "name": "stdout",
     "output_type": "stream",
     "text": [
      "epoch: 5, [batch: 2688 / 6720], examples_per_second: 3626.1188, train_label_loss: 0.2292, \n"
     ]
    },
    {
     "name": "stdout",
     "output_type": "stream",
     "text": [
      "epoch: 5, [batch: 3360 / 6720], examples_per_second: 3644.6828, train_label_loss: 0.4270, \n"
     ]
    },
    {
     "name": "stdout",
     "output_type": "stream",
     "text": [
      "epoch: 5, [batch: 4032 / 6720], examples_per_second: 3646.3723, train_label_loss: 0.5306, \n"
     ]
    },
    {
     "name": "stdout",
     "output_type": "stream",
     "text": [
      "epoch: 5, [batch: 4704 / 6720], examples_per_second: 3625.4907, train_label_loss: 0.4085, \n"
     ]
    },
    {
     "name": "stdout",
     "output_type": "stream",
     "text": [
      "epoch: 5, [batch: 5376 / 6720], examples_per_second: 3648.5963, train_label_loss: 0.3049, \n"
     ]
    },
    {
     "name": "stdout",
     "output_type": "stream",
     "text": [
      "epoch: 5, [batch: 6048 / 6720], examples_per_second: 3622.0263, train_label_loss: 0.1136, \n"
     ]
    },
    {
     "name": "stdout",
     "output_type": "stream",
     "text": [
      "=============================================================\n",
      "epoch: 5, source_val_acc_label: 0.8118, target_val_acc_label: 0.6593, source_val_label_loss: 0.5191, target_val_label_loss: 133.3876, \n",
      "=============================================================\n"
     ]
    },
    {
     "name": "stdout",
     "output_type": "stream",
     "text": [
      "epoch: 6, [batch: 1 / 6720], examples_per_second: 5.2610, train_label_loss: 0.3755, \n"
     ]
    },
    {
     "name": "stdout",
     "output_type": "stream",
     "text": [
      "epoch: 6, [batch: 672 / 6720], examples_per_second: 3594.3739, train_label_loss: 0.5358, \n"
     ]
    },
    {
     "name": "stdout",
     "output_type": "stream",
     "text": [
      "epoch: 6, [batch: 1344 / 6720], examples_per_second: 3638.3141, train_label_loss: 0.4442, \n"
     ]
    },
    {
     "name": "stdout",
     "output_type": "stream",
     "text": [
      "epoch: 6, [batch: 2016 / 6720], examples_per_second: 3624.7499, train_label_loss: 0.3740, \n"
     ]
    },
    {
     "name": "stdout",
     "output_type": "stream",
     "text": [
      "epoch: 6, [batch: 2688 / 6720], examples_per_second: 3609.5110, train_label_loss: 0.2734, \n"
     ]
    },
    {
     "name": "stdout",
     "output_type": "stream",
     "text": [
      "epoch: 6, [batch: 3360 / 6720], examples_per_second: 3632.2803, train_label_loss: 0.6120, \n"
     ]
    },
    {
     "name": "stdout",
     "output_type": "stream",
     "text": [
      "epoch: 6, [batch: 4032 / 6720], examples_per_second: 3640.8681, train_label_loss: 0.1736, \n"
     ]
    },
    {
     "name": "stdout",
     "output_type": "stream",
     "text": [
      "epoch: 6, [batch: 4704 / 6720], examples_per_second: 3633.8911, train_label_loss: 0.3941, \n"
     ]
    },
    {
     "name": "stdout",
     "output_type": "stream",
     "text": [
      "epoch: 6, [batch: 5376 / 6720], examples_per_second: 3628.1772, train_label_loss: 0.4787, \n"
     ]
    },
    {
     "name": "stdout",
     "output_type": "stream",
     "text": [
      "epoch: 6, [batch: 6048 / 6720], examples_per_second: 3640.8915, train_label_loss: 0.4420, \n"
     ]
    },
    {
     "name": "stdout",
     "output_type": "stream",
     "text": [
      "=============================================================\n",
      "epoch: 6, source_val_acc_label: 0.8271, target_val_acc_label: 0.6723, source_val_label_loss: 0.4773, target_val_label_loss: 117.4794, \n",
      "=============================================================\n"
     ]
    },
    {
     "name": "stdout",
     "output_type": "stream",
     "text": [
      "epoch: 7, [batch: 1 / 6720], examples_per_second: 5.2566, train_label_loss: 0.4254, \n"
     ]
    },
    {
     "name": "stdout",
     "output_type": "stream",
     "text": [
      "epoch: 7, [batch: 672 / 6720], examples_per_second: 3630.3841, train_label_loss: 0.2313, \n"
     ]
    },
    {
     "name": "stdout",
     "output_type": "stream",
     "text": [
      "epoch: 7, [batch: 1344 / 6720], examples_per_second: 3640.7346, train_label_loss: 0.4324, \n"
     ]
    },
    {
     "name": "stdout",
     "output_type": "stream",
     "text": [
      "epoch: 7, [batch: 2016 / 6720], examples_per_second: 3641.9613, train_label_loss: 0.3168, \n"
     ]
    },
    {
     "name": "stdout",
     "output_type": "stream",
     "text": [
      "epoch: 7, [batch: 2688 / 6720], examples_per_second: 3631.2703, train_label_loss: 0.1396, \n"
     ]
    },
    {
     "name": "stdout",
     "output_type": "stream",
     "text": [
      "epoch: 7, [batch: 3360 / 6720], examples_per_second: 3634.8474, train_label_loss: 0.1735, \n"
     ]
    },
    {
     "name": "stdout",
     "output_type": "stream",
     "text": [
      "epoch: 7, [batch: 4032 / 6720], examples_per_second: 3636.4451, train_label_loss: 0.1857, \n"
     ]
    },
    {
     "name": "stdout",
     "output_type": "stream",
     "text": [
      "epoch: 7, [batch: 4704 / 6720], examples_per_second: 3615.7173, train_label_loss: 0.3823, \n"
     ]
    },
    {
     "name": "stdout",
     "output_type": "stream",
     "text": [
      "epoch: 7, [batch: 5376 / 6720], examples_per_second: 3623.3299, train_label_loss: 0.4810, \n"
     ]
    },
    {
     "name": "stdout",
     "output_type": "stream",
     "text": [
      "epoch: 7, [batch: 6048 / 6720], examples_per_second: 3618.2300, train_label_loss: 0.4908, \n"
     ]
    },
    {
     "name": "stdout",
     "output_type": "stream",
     "text": [
      "=============================================================\n",
      "epoch: 7, source_val_acc_label: 0.8505, target_val_acc_label: 0.6801, source_val_label_loss: 0.4147, target_val_label_loss: 141.3196, \n",
      "=============================================================\n"
     ]
    },
    {
     "name": "stdout",
     "output_type": "stream",
     "text": [
      "New best\n"
     ]
    },
    {
     "name": "stdout",
     "output_type": "stream",
     "text": [
      "epoch: 8, [batch: 1 / 6720], examples_per_second: 5.2494, train_label_loss: 0.3092, \n"
     ]
    },
    {
     "name": "stdout",
     "output_type": "stream",
     "text": [
      "epoch: 8, [batch: 672 / 6720], examples_per_second: 3592.1385, train_label_loss: 0.3390, \n"
     ]
    },
    {
     "name": "stdout",
     "output_type": "stream",
     "text": [
      "epoch: 8, [batch: 1344 / 6720], examples_per_second: 3642.1905, train_label_loss: 0.3343, \n"
     ]
    },
    {
     "name": "stdout",
     "output_type": "stream",
     "text": [
      "epoch: 8, [batch: 2016 / 6720], examples_per_second: 3654.7752, train_label_loss: 0.8648, \n"
     ]
    },
    {
     "name": "stdout",
     "output_type": "stream",
     "text": [
      "epoch: 8, [batch: 2688 / 6720], examples_per_second: 3621.6756, train_label_loss: 0.7250, \n"
     ]
    },
    {
     "name": "stdout",
     "output_type": "stream",
     "text": [
      "epoch: 8, [batch: 3360 / 6720], examples_per_second: 3630.3529, train_label_loss: 0.2325, \n"
     ]
    },
    {
     "name": "stdout",
     "output_type": "stream",
     "text": [
      "epoch: 8, [batch: 4032 / 6720], examples_per_second: 3636.9959, train_label_loss: 0.2866, \n"
     ]
    },
    {
     "name": "stdout",
     "output_type": "stream",
     "text": [
      "epoch: 8, [batch: 4704 / 6720], examples_per_second: 3636.3770, train_label_loss: 0.2008, \n"
     ]
    },
    {
     "name": "stdout",
     "output_type": "stream",
     "text": [
      "epoch: 8, [batch: 5376 / 6720], examples_per_second: 3630.1001, train_label_loss: 0.4841, \n"
     ]
    },
    {
     "name": "stdout",
     "output_type": "stream",
     "text": [
      "epoch: 8, [batch: 6048 / 6720], examples_per_second: 3609.8169, train_label_loss: 0.6343, \n"
     ]
    },
    {
     "name": "stdout",
     "output_type": "stream",
     "text": [
      "=============================================================\n",
      "epoch: 8, source_val_acc_label: 0.8306, target_val_acc_label: 0.6748, source_val_label_loss: 0.4602, target_val_label_loss: 153.4072, \n",
      "=============================================================\n"
     ]
    },
    {
     "name": "stdout",
     "output_type": "stream",
     "text": [
      "epoch: 9, [batch: 1 / 6720], examples_per_second: 5.2344, train_label_loss: 0.3228, \n"
     ]
    },
    {
     "name": "stdout",
     "output_type": "stream",
     "text": [
      "epoch: 9, [batch: 672 / 6720], examples_per_second: 3630.1016, train_label_loss: 0.2257, \n"
     ]
    },
    {
     "name": "stdout",
     "output_type": "stream",
     "text": [
      "epoch: 9, [batch: 1344 / 6720], examples_per_second: 3649.3277, train_label_loss: 0.2178, \n"
     ]
    },
    {
     "name": "stdout",
     "output_type": "stream",
     "text": [
      "epoch: 9, [batch: 2016 / 6720], examples_per_second: 3626.5684, train_label_loss: 0.3188, \n"
     ]
    },
    {
     "name": "stdout",
     "output_type": "stream",
     "text": [
      "epoch: 9, [batch: 2688 / 6720], examples_per_second: 3617.7466, train_label_loss: 0.2390, \n"
     ]
    },
    {
     "name": "stdout",
     "output_type": "stream",
     "text": [
      "epoch: 9, [batch: 3360 / 6720], examples_per_second: 3645.2507, train_label_loss: 0.4917, \n"
     ]
    },
    {
     "name": "stdout",
     "output_type": "stream",
     "text": [
      "epoch: 9, [batch: 4032 / 6720], examples_per_second: 3610.5149, train_label_loss: 0.2052, \n"
     ]
    },
    {
     "name": "stdout",
     "output_type": "stream",
     "text": [
      "epoch: 9, [batch: 4704 / 6720], examples_per_second: 3600.6492, train_label_loss: 0.1502, \n"
     ]
    },
    {
     "name": "stdout",
     "output_type": "stream",
     "text": [
      "epoch: 9, [batch: 5376 / 6720], examples_per_second: 3606.5410, train_label_loss: 0.2949, \n"
     ]
    },
    {
     "name": "stdout",
     "output_type": "stream",
     "text": [
      "epoch: 9, [batch: 6048 / 6720], examples_per_second: 3649.6751, train_label_loss: 0.3901, \n"
     ]
    },
    {
     "name": "stdout",
     "output_type": "stream",
     "text": [
      "=============================================================\n",
      "epoch: 9, source_val_acc_label: 0.8665, target_val_acc_label: 0.6742, source_val_label_loss: 0.3683, target_val_label_loss: 175.7317, \n",
      "=============================================================\n"
     ]
    },
    {
     "name": "stdout",
     "output_type": "stream",
     "text": [
      "epoch: 10, [batch: 1 / 6720], examples_per_second: 5.2257, train_label_loss: 0.2776, \n"
     ]
    },
    {
     "name": "stdout",
     "output_type": "stream",
     "text": [
      "epoch: 10, [batch: 672 / 6720], examples_per_second: 3614.6647, train_label_loss: 0.9749, \n"
     ]
    },
    {
     "name": "stdout",
     "output_type": "stream",
     "text": [
      "epoch: 10, [batch: 1344 / 6720], examples_per_second: 3638.8104, train_label_loss: 0.2689, \n"
     ]
    },
    {
     "name": "stdout",
     "output_type": "stream",
     "text": [
      "epoch: 10, [batch: 2016 / 6720], examples_per_second: 3631.9287, train_label_loss: 0.2433, \n"
     ]
    },
    {
     "name": "stdout",
     "output_type": "stream",
     "text": [
      "epoch: 10, [batch: 2688 / 6720], examples_per_second: 3594.7300, train_label_loss: 0.3330, \n"
     ]
    },
    {
     "name": "stdout",
     "output_type": "stream",
     "text": [
      "epoch: 10, [batch: 3360 / 6720], examples_per_second: 3621.8613, train_label_loss: 0.2405, \n"
     ]
    },
    {
     "name": "stdout",
     "output_type": "stream",
     "text": [
      "epoch: 10, [batch: 4032 / 6720], examples_per_second: 3648.8567, train_label_loss: 0.3524, \n"
     ]
    },
    {
     "name": "stdout",
     "output_type": "stream",
     "text": [
      "epoch: 10, [batch: 4704 / 6720], examples_per_second: 3628.0765, train_label_loss: 0.2112, \n"
     ]
    },
    {
     "name": "stdout",
     "output_type": "stream",
     "text": [
      "epoch: 10, [batch: 5376 / 6720], examples_per_second: 3632.2613, train_label_loss: 0.2413, \n"
     ]
    },
    {
     "name": "stdout",
     "output_type": "stream",
     "text": [
      "epoch: 10, [batch: 6048 / 6720], examples_per_second: 3644.4774, train_label_loss: 0.0695, \n"
     ]
    },
    {
     "name": "stdout",
     "output_type": "stream",
     "text": [
      "=============================================================\n",
      "epoch: 10, source_val_acc_label: 0.8619, target_val_acc_label: 0.6818, source_val_label_loss: 0.3853, target_val_label_loss: 163.7158, \n",
      "=============================================================\n"
     ]
    },
    {
     "name": "stdout",
     "output_type": "stream",
     "text": [
      "New best\n"
     ]
    },
    {
     "name": "stdout",
     "output_type": "stream",
     "text": [
      "epoch: 11, [batch: 1 / 6720], examples_per_second: 5.2589, train_label_loss: 0.4762, \n"
     ]
    },
    {
     "name": "stdout",
     "output_type": "stream",
     "text": [
      "epoch: 11, [batch: 672 / 6720], examples_per_second: 3622.8714, train_label_loss: 0.1946, \n"
     ]
    },
    {
     "name": "stdout",
     "output_type": "stream",
     "text": [
      "epoch: 11, [batch: 1344 / 6720], examples_per_second: 3633.5933, train_label_loss: 0.7026, \n"
     ]
    },
    {
     "name": "stdout",
     "output_type": "stream",
     "text": [
      "epoch: 11, [batch: 2016 / 6720], examples_per_second: 3644.7728, train_label_loss: 0.1964, \n"
     ]
    },
    {
     "name": "stdout",
     "output_type": "stream",
     "text": [
      "epoch: 11, [batch: 2688 / 6720], examples_per_second: 3619.0654, train_label_loss: 0.3551, \n"
     ]
    },
    {
     "name": "stdout",
     "output_type": "stream",
     "text": [
      "epoch: 11, [batch: 3360 / 6720], examples_per_second: 3641.2973, train_label_loss: 0.0909, \n"
     ]
    },
    {
     "name": "stdout",
     "output_type": "stream",
     "text": [
      "epoch: 11, [batch: 4032 / 6720], examples_per_second: 3645.2964, train_label_loss: 0.7111, \n"
     ]
    },
    {
     "name": "stdout",
     "output_type": "stream",
     "text": [
      "epoch: 11, [batch: 4704 / 6720], examples_per_second: 3625.3503, train_label_loss: 0.4819, \n"
     ]
    },
    {
     "name": "stdout",
     "output_type": "stream",
     "text": [
      "epoch: 11, [batch: 5376 / 6720], examples_per_second: 3652.5564, train_label_loss: 0.1798, \n"
     ]
    },
    {
     "name": "stdout",
     "output_type": "stream",
     "text": [
      "epoch: 11, [batch: 6048 / 6720], examples_per_second: 3641.5344, train_label_loss: 0.1373, \n"
     ]
    },
    {
     "name": "stdout",
     "output_type": "stream",
     "text": [
      "=============================================================\n",
      "epoch: 11, source_val_acc_label: 0.8740, target_val_acc_label: 0.6887, source_val_label_loss: 0.3444, target_val_label_loss: 174.2110, \n",
      "=============================================================\n"
     ]
    },
    {
     "name": "stdout",
     "output_type": "stream",
     "text": [
      "New best\n"
     ]
    },
    {
     "name": "stdout",
     "output_type": "stream",
     "text": [
      "epoch: 12, [batch: 1 / 6720], examples_per_second: 5.2614, train_label_loss: 0.2124, \n"
     ]
    },
    {
     "name": "stdout",
     "output_type": "stream",
     "text": [
      "epoch: 12, [batch: 672 / 6720], examples_per_second: 3628.8442, train_label_loss: 0.0506, \n"
     ]
    },
    {
     "name": "stdout",
     "output_type": "stream",
     "text": [
      "epoch: 12, [batch: 1344 / 6720], examples_per_second: 3613.3374, train_label_loss: 0.6829, \n"
     ]
    },
    {
     "name": "stdout",
     "output_type": "stream",
     "text": [
      "epoch: 12, [batch: 2016 / 6720], examples_per_second: 3600.0042, train_label_loss: 0.1040, \n"
     ]
    },
    {
     "name": "stdout",
     "output_type": "stream",
     "text": [
      "epoch: 12, [batch: 2688 / 6720], examples_per_second: 3597.0122, train_label_loss: 0.1361, \n"
     ]
    },
    {
     "name": "stdout",
     "output_type": "stream",
     "text": [
      "epoch: 12, [batch: 3360 / 6720], examples_per_second: 3601.4812, train_label_loss: 0.1170, \n"
     ]
    },
    {
     "name": "stdout",
     "output_type": "stream",
     "text": [
      "epoch: 12, [batch: 4032 / 6720], examples_per_second: 3624.3885, train_label_loss: 0.4382, \n"
     ]
    },
    {
     "name": "stdout",
     "output_type": "stream",
     "text": [
      "epoch: 12, [batch: 4704 / 6720], examples_per_second: 3624.7428, train_label_loss: 0.2701, \n"
     ]
    },
    {
     "name": "stdout",
     "output_type": "stream",
     "text": [
      "epoch: 12, [batch: 5376 / 6720], examples_per_second: 3629.6704, train_label_loss: 0.3911, \n"
     ]
    },
    {
     "name": "stdout",
     "output_type": "stream",
     "text": [
      "epoch: 12, [batch: 6048 / 6720], examples_per_second: 3634.9705, train_label_loss: 0.2149, \n"
     ]
    },
    {
     "name": "stdout",
     "output_type": "stream",
     "text": [
      "=============================================================\n",
      "epoch: 12, source_val_acc_label: 0.8660, target_val_acc_label: 0.6726, source_val_label_loss: 0.3711, target_val_label_loss: 220.9381, \n",
      "=============================================================\n"
     ]
    },
    {
     "name": "stdout",
     "output_type": "stream",
     "text": [
      "epoch: 13, [batch: 1 / 6720], examples_per_second: 5.2521, train_label_loss: 0.4223, \n"
     ]
    },
    {
     "name": "stdout",
     "output_type": "stream",
     "text": [
      "epoch: 13, [batch: 672 / 6720], examples_per_second: 3610.1651, train_label_loss: 0.1240, \n"
     ]
    },
    {
     "name": "stdout",
     "output_type": "stream",
     "text": [
      "epoch: 13, [batch: 1344 / 6720], examples_per_second: 3652.2600, train_label_loss: 0.1960, \n"
     ]
    },
    {
     "name": "stdout",
     "output_type": "stream",
     "text": [
      "epoch: 13, [batch: 2016 / 6720], examples_per_second: 3632.6941, train_label_loss: 0.1641, \n"
     ]
    },
    {
     "name": "stdout",
     "output_type": "stream",
     "text": [
      "epoch: 13, [batch: 2688 / 6720], examples_per_second: 3642.6265, train_label_loss: 0.3207, \n"
     ]
    },
    {
     "name": "stdout",
     "output_type": "stream",
     "text": [
      "epoch: 13, [batch: 3360 / 6720], examples_per_second: 3643.7046, train_label_loss: 0.5811, \n"
     ]
    },
    {
     "name": "stdout",
     "output_type": "stream",
     "text": [
      "epoch: 13, [batch: 4032 / 6720], examples_per_second: 3637.1205, train_label_loss: 0.2761, \n"
     ]
    },
    {
     "name": "stdout",
     "output_type": "stream",
     "text": [
      "epoch: 13, [batch: 4704 / 6720], examples_per_second: 3631.1746, train_label_loss: 0.2197, \n"
     ]
    },
    {
     "name": "stdout",
     "output_type": "stream",
     "text": [
      "epoch: 13, [batch: 5376 / 6720], examples_per_second: 3646.2143, train_label_loss: 0.4890, \n"
     ]
    },
    {
     "name": "stdout",
     "output_type": "stream",
     "text": [
      "epoch: 13, [batch: 6048 / 6720], examples_per_second: 3640.6722, train_label_loss: 0.1619, \n"
     ]
    },
    {
     "name": "stdout",
     "output_type": "stream",
     "text": [
      "=============================================================\n",
      "epoch: 13, source_val_acc_label: 0.8754, target_val_acc_label: 0.6856, source_val_label_loss: 0.3444, target_val_label_loss: 233.9906, \n",
      "=============================================================\n"
     ]
    },
    {
     "name": "stdout",
     "output_type": "stream",
     "text": [
      "epoch: 14, [batch: 1 / 6720], examples_per_second: 5.2533, train_label_loss: 0.1038, \n"
     ]
    },
    {
     "name": "stdout",
     "output_type": "stream",
     "text": [
      "epoch: 14, [batch: 672 / 6720], examples_per_second: 3627.6435, train_label_loss: 0.2237, \n"
     ]
    },
    {
     "name": "stdout",
     "output_type": "stream",
     "text": [
      "epoch: 14, [batch: 1344 / 6720], examples_per_second: 3639.0022, train_label_loss: 0.6071, \n"
     ]
    },
    {
     "name": "stdout",
     "output_type": "stream",
     "text": [
      "epoch: 14, [batch: 2016 / 6720], examples_per_second: 3658.5769, train_label_loss: 0.0649, \n"
     ]
    },
    {
     "name": "stdout",
     "output_type": "stream",
     "text": [
      "epoch: 14, [batch: 2688 / 6720], examples_per_second: 3633.6479, train_label_loss: 0.2634, \n"
     ]
    },
    {
     "name": "stdout",
     "output_type": "stream",
     "text": [
      "epoch: 14, [batch: 3360 / 6720], examples_per_second: 3634.9120, train_label_loss: 0.1539, \n"
     ]
    },
    {
     "name": "stdout",
     "output_type": "stream",
     "text": [
      "epoch: 14, [batch: 4032 / 6720], examples_per_second: 3631.7498, train_label_loss: 0.0980, \n"
     ]
    },
    {
     "name": "stdout",
     "output_type": "stream",
     "text": [
      "epoch: 14, [batch: 4704 / 6720], examples_per_second: 3617.5942, train_label_loss: 0.3490, \n"
     ]
    },
    {
     "name": "stdout",
     "output_type": "stream",
     "text": [
      "epoch: 14, [batch: 5376 / 6720], examples_per_second: 3658.7469, train_label_loss: 0.2061, \n"
     ]
    },
    {
     "name": "stdout",
     "output_type": "stream",
     "text": [
      "epoch: 14, [batch: 6048 / 6720], examples_per_second: 3647.8273, train_label_loss: 0.1379, \n"
     ]
    },
    {
     "name": "stdout",
     "output_type": "stream",
     "text": [
      "=============================================================\n",
      "epoch: 14, source_val_acc_label: 0.8625, target_val_acc_label: 0.6765, source_val_label_loss: 0.3869, target_val_label_loss: 273.3085, \n",
      "=============================================================\n"
     ]
    },
    {
     "name": "stdout",
     "output_type": "stream",
     "text": [
      "epoch: 15, [batch: 1 / 6720], examples_per_second: 5.2731, train_label_loss: 0.2861, \n"
     ]
    },
    {
     "name": "stdout",
     "output_type": "stream",
     "text": [
      "epoch: 15, [batch: 672 / 6720], examples_per_second: 3617.3879, train_label_loss: 0.1542, \n"
     ]
    },
    {
     "name": "stdout",
     "output_type": "stream",
     "text": [
      "epoch: 15, [batch: 1344 / 6720], examples_per_second: 3641.9985, train_label_loss: 0.0535, \n"
     ]
    },
    {
     "name": "stdout",
     "output_type": "stream",
     "text": [
      "epoch: 15, [batch: 2016 / 6720], examples_per_second: 3644.9136, train_label_loss: 0.2315, \n"
     ]
    },
    {
     "name": "stdout",
     "output_type": "stream",
     "text": [
      "epoch: 15, [batch: 2688 / 6720], examples_per_second: 3618.8420, train_label_loss: 0.4216, \n"
     ]
    },
    {
     "name": "stdout",
     "output_type": "stream",
     "text": [
      "epoch: 15, [batch: 3360 / 6720], examples_per_second: 3639.3620, train_label_loss: 0.4259, \n"
     ]
    },
    {
     "name": "stdout",
     "output_type": "stream",
     "text": [
      "epoch: 15, [batch: 4032 / 6720], examples_per_second: 3632.5946, train_label_loss: 0.2589, \n"
     ]
    },
    {
     "name": "stdout",
     "output_type": "stream",
     "text": [
      "epoch: 15, [batch: 4704 / 6720], examples_per_second: 3618.4913, train_label_loss: 0.4086, \n"
     ]
    },
    {
     "name": "stdout",
     "output_type": "stream",
     "text": [
      "epoch: 15, [batch: 5376 / 6720], examples_per_second: 3636.1109, train_label_loss: 0.4189, \n"
     ]
    },
    {
     "name": "stdout",
     "output_type": "stream",
     "text": [
      "epoch: 15, [batch: 6048 / 6720], examples_per_second: 3632.0370, train_label_loss: 0.2984, \n"
     ]
    },
    {
     "name": "stdout",
     "output_type": "stream",
     "text": [
      "=============================================================\n",
      "epoch: 15, source_val_acc_label: 0.8831, target_val_acc_label: 0.6546, source_val_label_loss: 0.3254, target_val_label_loss: 381.7207, \n",
      "=============================================================\n"
     ]
    },
    {
     "name": "stdout",
     "output_type": "stream",
     "text": [
      "Patience (3) exhausted\n"
     ]
    }
   ],
   "source": [
    "###################################\n",
    "# train\n",
    "###################################\n",
    "jig = PTN_Train_Eval_Test_Jig(model, p.BEST_MODEL_PATH, p.device)\n",
    "\n",
    "jig.train(\n",
    "    train_iterable=datasets.source.processed.train,\n",
    "    source_val_iterable=datasets.source.processed.val,\n",
    "    target_val_iterable=datasets.target.processed.val,\n",
    "    num_epochs=p.n_epoch,\n",
    "    num_logs_per_epoch=p.NUM_LOGS_PER_EPOCH,\n",
    "    patience=p.patience,\n",
    "    optimizer=optimizer,\n",
    "    criteria_for_best=p.criteria_for_best,\n",
    ")"
   ]
  },
  {
   "cell_type": "code",
   "execution_count": 23,
   "id": "31e8fabf",
   "metadata": {
    "execution": {
     "iopub.execute_input": "2022-03-25T13:01:36.949285Z",
     "iopub.status.busy": "2022-03-25T13:01:36.949034Z",
     "iopub.status.idle": "2022-03-25T13:01:36.968235Z",
     "shell.execute_reply": "2022-03-25T13:01:36.967782Z"
    },
    "papermill": {
     "duration": 0.065359,
     "end_time": "2022-03-25T13:01:36.968324",
     "exception": false,
     "start_time": "2022-03-25T13:01:36.902965",
     "status": "completed"
    },
    "tags": []
   },
   "outputs": [],
   "source": [
    "total_experiment_time_secs = time.time() - start_time_secs"
   ]
  },
  {
   "cell_type": "code",
   "execution_count": 24,
   "id": "87b9595b",
   "metadata": {
    "execution": {
     "iopub.execute_input": "2022-03-25T13:01:37.064027Z",
     "iopub.status.busy": "2022-03-25T13:01:37.063605Z",
     "iopub.status.idle": "2022-03-25T13:03:08.725168Z",
     "shell.execute_reply": "2022-03-25T13:03:08.725396Z"
    },
    "papermill": {
     "duration": 91.710523,
     "end_time": "2022-03-25T13:03:08.725482",
     "exception": false,
     "start_time": "2022-03-25T13:01:37.014959",
     "status": "completed"
    },
    "tags": []
   },
   "outputs": [],
   "source": [
    "###################################\n",
    "# Evaluate the model\n",
    "###################################\n",
    "source_test_label_accuracy, source_test_label_loss = jig.test(datasets.source.processed.test)\n",
    "target_test_label_accuracy, target_test_label_loss = jig.test(datasets.target.processed.test)\n",
    "\n",
    "source_val_label_accuracy, source_val_label_loss = jig.test(datasets.source.processed.val)\n",
    "target_val_label_accuracy, target_val_label_loss = jig.test(datasets.target.processed.val)\n",
    "\n",
    "history = jig.get_history()\n",
    "\n",
    "total_epochs_trained = len(history[\"epoch_indices\"])\n",
    "\n",
    "val_dl = Iterable_Aggregator((datasets.source.original.val,datasets.target.original.val))\n",
    "\n",
    "confusion = ptn_confusion_by_domain_over_dataloader(model, p.device, val_dl)\n",
    "per_domain_accuracy = per_domain_accuracy_from_confusion(confusion)\n",
    "\n",
    "# Add a key to per_domain_accuracy for if it was a source domain\n",
    "for domain, accuracy in per_domain_accuracy.items():\n",
    "    per_domain_accuracy[domain] = {\n",
    "        \"accuracy\": accuracy,\n",
    "        \"source?\": domain in p.domains_source\n",
    "    }\n",
    "\n",
    "# Do an independent accuracy assesment JUST TO BE SURE!\n",
    "# _source_test_label_accuracy = independent_accuracy_assesment(model, datasets.source.processed.test, p.device)\n",
    "# _target_test_label_accuracy = independent_accuracy_assesment(model, datasets.target.processed.test, p.device)\n",
    "# _source_val_label_accuracy = independent_accuracy_assesment(model, datasets.source.processed.val, p.device)\n",
    "# _target_val_label_accuracy = independent_accuracy_assesment(model, datasets.target.processed.val, p.device)\n",
    "\n",
    "# assert(_source_test_label_accuracy == source_test_label_accuracy)\n",
    "# assert(_target_test_label_accuracy == target_test_label_accuracy)\n",
    "# assert(_source_val_label_accuracy == source_val_label_accuracy)\n",
    "# assert(_target_val_label_accuracy == target_val_label_accuracy)\n",
    "\n",
    "experiment = {\n",
    "    \"experiment_name\": p.experiment_name,\n",
    "    \"parameters\": dict(p),\n",
    "    \"results\": {\n",
    "        \"source_test_label_accuracy\": source_test_label_accuracy,\n",
    "        \"source_test_label_loss\": source_test_label_loss,\n",
    "        \"target_test_label_accuracy\": target_test_label_accuracy,\n",
    "        \"target_test_label_loss\": target_test_label_loss,\n",
    "        \"source_val_label_accuracy\": source_val_label_accuracy,\n",
    "        \"source_val_label_loss\": source_val_label_loss,\n",
    "        \"target_val_label_accuracy\": target_val_label_accuracy,\n",
    "        \"target_val_label_loss\": target_val_label_loss,\n",
    "        \"total_epochs_trained\": total_epochs_trained,\n",
    "        \"total_experiment_time_secs\": total_experiment_time_secs,\n",
    "        \"confusion\": confusion,\n",
    "        \"per_domain_accuracy\": per_domain_accuracy,\n",
    "    },\n",
    "    \"history\": history,\n",
    "    \"dataset_metrics\": get_dataset_metrics(datasets, \"ptn\"),\n",
    "}"
   ]
  },
  {
   "cell_type": "code",
   "execution_count": 25,
   "id": "54a21829",
   "metadata": {
    "execution": {
     "iopub.execute_input": "2022-03-25T13:03:08.823973Z",
     "iopub.status.busy": "2022-03-25T13:03:08.822136Z",
     "iopub.status.idle": "2022-03-25T13:03:08.947197Z",
     "shell.execute_reply": "2022-03-25T13:03:08.947609Z"
    },
    "papermill": {
     "duration": 0.17246,
     "end_time": "2022-03-25T13:03:08.947739",
     "exception": false,
     "start_time": "2022-03-25T13:03:08.775279",
     "status": "completed"
    },
    "tags": []
   },
   "outputs": [
    {
     "data": {
      "image/png": "[encoded data removed]",
      "text/plain": [
       "<Figure size 1080x504 with 1 Axes>"
      ]
     },
     "metadata": {
      "needs_background": "light"
     },
     "output_type": "display_data"
    }
   ],
   "source": [
    "ax = get_loss_curve(experiment)\n",
    "plt.show()"
   ]
  },
  {
   "cell_type": "code",
   "execution_count": 26,
   "id": "fd8a0f60",
   "metadata": {
    "execution": {
     "iopub.execute_input": "2022-03-25T13:03:09.043414Z",
     "iopub.status.busy": "2022-03-25T13:03:09.042813Z",
     "iopub.status.idle": "2022-03-25T13:03:09.183729Z",
     "shell.execute_reply": "2022-03-25T13:03:09.183965Z"
    },
    "papermill": {
     "duration": 0.187894,
     "end_time": "2022-03-25T13:03:09.184047",
     "exception": false,
     "start_time": "2022-03-25T13:03:08.996153",
     "status": "completed"
    },
    "tags": []
   },
   "outputs": [
    {
     "data": {
      "text/plain": [
       "<AxesSubplot:title={'center':'Results'}>"
      ]
     },
     "execution_count": 26,
     "metadata": {},
     "output_type": "execute_result"
    },
    {
     "data": {
      "image/png": "[encoded data removed]",
      "text/plain": [
       "<Figure size 1080x504 with 1 Axes>"
      ]
     },
     "metadata": {
      "needs_background": "light"
     },
     "output_type": "display_data"
    }
   ],
   "source": [
    "get_results_table(experiment)"
   ]
  },
  {
   "cell_type": "code",
   "execution_count": 27,
   "id": "cf8dc689",
   "metadata": {
    "execution": {
     "iopub.execute_input": "2022-03-25T13:03:09.280656Z",
     "iopub.status.busy": "2022-03-25T13:03:09.280165Z",
     "iopub.status.idle": "2022-03-25T13:03:09.413333Z",
     "shell.execute_reply": "2022-03-25T13:03:09.413087Z"
    },
    "papermill": {
     "duration": 0.181854,
     "end_time": "2022-03-25T13:03:09.413401",
     "exception": false,
     "start_time": "2022-03-25T13:03:09.231547",
     "status": "completed"
    },
    "tags": []
   },
   "outputs": [
    {
     "data": {
      "text/plain": [
       "<AxesSubplot:title={'center':'Per Domain Validation Accuracy'}, xlabel='domain'>"
      ]
     },
     "execution_count": 27,
     "metadata": {},
     "output_type": "execute_result"
    },
    {
     "data": {
      "image/png": "[encoded data removed]",
      "text/plain": [
       "<Figure size 1080x504 with 1 Axes>"
      ]
     },
     "metadata": {
      "needs_background": "light"
     },
     "output_type": "display_data"
    }
   ],
   "source": [
    "get_domain_accuracies(experiment)"
   ]
  },
  {
   "cell_type": "code",
   "execution_count": 28,
   "id": "a74ae082",
   "metadata": {
    "execution": {
     "iopub.execute_input": "2022-03-25T13:03:09.510348Z",
     "iopub.status.busy": "2022-03-25T13:03:09.509924Z",
     "iopub.status.idle": "2022-03-25T13:03:09.522637Z",
     "shell.execute_reply": "2022-03-25T13:03:09.522396Z"
    },
    "papermill": {
     "duration": 0.062061,
     "end_time": "2022-03-25T13:03:09.522697",
     "exception": false,
     "start_time": "2022-03-25T13:03:09.460636",
     "status": "completed"
    },
    "tags": []
   },
   "outputs": [
    {
     "name": "stdout",
     "output_type": "stream",
     "text": [
      "Source Test Label Accuracy: 0.87822265625 Target Test Label Accuracy: 0.6911370056497175\n",
      "Source Val Label Accuracy: 0.8740234375 Target Val Label Accuracy: 0.6886785714285715\n"
     ]
    }
   ],
   "source": [
    "print(\"Source Test Label Accuracy:\", experiment[\"results\"][\"source_test_label_accuracy\"], \"Target Test Label Accuracy:\", experiment[\"results\"][\"target_test_label_accuracy\"])\n",
    "print(\"Source Val Label Accuracy:\", experiment[\"results\"][\"source_val_label_accuracy\"], \"Target Val Label Accuracy:\", experiment[\"results\"][\"target_val_label_accuracy\"])"
   ]
  },
  {
   "cell_type": "code",
   "execution_count": 29,
   "id": "dacca602",
   "metadata": {
    "execution": {
     "iopub.execute_input": "2022-03-25T13:03:09.618745Z",
     "iopub.status.busy": "2022-03-25T13:03:09.618353Z",
     "iopub.status.idle": "2022-03-25T13:03:09.632364Z",
     "shell.execute_reply": "2022-03-25T13:03:09.632127Z"
    },
    "papermill": {
     "duration": 0.06246,
     "end_time": "2022-03-25T13:03:09.632425",
     "exception": false,
     "start_time": "2022-03-25T13:03:09.569965",
     "status": "completed"
    },
    "tags": [
     "experiment_json"
    ]
   },
   "outputs": [
    {
     "data": {
      "text/plain": [
       "'{\"experiment_name\": \"tl_3Av2:oracle.run1.framed -> cores\", \"parameters\": {\"experiment_name\": \"tl_3Av2:oracle.run1.framed -> cores\", \"device\": \"cuda\", \"lr\": 0.0001, \"x_shape\": [2, 200], \"n_shot\": 3, \"n_query\": 2, \"train_k_factor\": 3, \"val_k_factor\": 2, \"test_k_factor\": 2, \"torch_default_dtype\": \"torch.float32\", \"n_epoch\": 50, \"patience\": 3, \"criteria_for_best\": \"target_accuracy\", \"x_net\": [{\"class\": \"nnReshape\", \"kargs\": {\"shape\": [-1, 1, 2, 200]}}, {\"class\": \"Conv2d\", \"kargs\": {\"in_channels\": 1, \"out_channels\": 256, \"kernel_size\": [1, 7], \"bias\": false, \"padding\": [0, 3]}}, {\"class\": \"ReLU\", \"kargs\": {\"inplace\": true}}, {\"class\": \"BatchNorm2d\", \"kargs\": {\"num_features\": 256}}, {\"class\": \"Conv2d\", \"kargs\": {\"in_channels\": 256, \"out_channels\": 80, \"kernel_size\": [2, 7], \"bias\": true, \"padding\": [0, 3]}}, {\"class\": \"ReLU\", \"kargs\": {\"inplace\": true}}, {\"class\": \"BatchNorm2d\", \"kargs\": {\"num_features\": 80}}, {\"class\": \"Flatten\", \"kargs\": {}}, {\"class\": \"Linear\", \"kargs\": {\"in_features\": 16000, \"out_features\": 256}}, {\"class\": \"ReLU\", \"kargs\": {\"inplace\": true}}, {\"class\": \"BatchNorm1d\", \"kargs\": {\"num_features\": 256}}, {\"class\": \"Linear\", \"kargs\": {\"in_features\": 256, \"out_features\": 256}}], \"NUM_LOGS_PER_EPOCH\": 10, \"BEST_MODEL_PATH\": \"./best_model.pth\", \"n_way\": 16, \"datasets\": [{\"labels\": [\"1-10.\", \"1-11.\", \"1-15.\", \"1-16.\", \"1-17.\", \"1-18.\", \"1-19.\", \"10-4.\", \"10-7.\", \"11-1.\", \"11-14.\", \"11-17.\", \"11-20.\", \"11-7.\", \"13-20.\", \"13-8.\", \"14-10.\", \"14-11.\", \"14-14.\", \"14-7.\", \"15-1.\", \"15-20.\", \"16-1.\", \"16-16.\", \"17-10.\", \"17-11.\", \"17-2.\", \"19-1.\", \"19-16.\", \"19-19.\", \"19-20.\", \"19-3.\", \"2-10.\", \"2-11.\", \"2-17.\", \"2-18.\", \"2-20.\", \"2-3.\", \"2-4.\", \"2-5.\", \"2-6.\", \"2-7.\", \"2-8.\", \"3-13.\", \"3-18.\", \"3-3.\", \"4-1.\", \"4-10.\", \"4-11.\", \"4-19.\", \"5-5.\", \"6-15.\", \"7-10.\", \"7-14.\", \"8-18.\", \"8-20.\", \"8-3.\", \"8-8.\"], \"domains\": [1, 2, 3, 4, 5], \"num_examples_per_domain_per_label\": -1, \"pickle_path\": \"/mnt/wd500GB/CSC500/csc500-main/datasets/cores.stratified_ds.2022A.pkl\", \"source_or_target_dataset\": \"target\", \"x_transforms\": [\"unit_mag\", \"take_200\"], \"episode_transforms\": [], \"domain_prefix\": \"C_\"}, {\"labels\": [\"3123D52\", \"3123D65\", \"3123D79\", \"3123D80\", \"3123D54\", \"3123D70\", \"3123D7B\", \"3123D89\", \"3123D58\", \"3123D76\", \"3123D7D\", \"3123EFE\", \"3123D64\", \"3123D78\", \"3123D7E\", \"3124E4A\"], \"domains\": [32, 38, 8, 44, 14, 50, 20, 26], \"num_examples_per_domain_per_label\": 2000, \"pickle_path\": \"/mnt/wd500GB/CSC500/csc500-main/datasets/oracle.Run1_framed_2000Examples_stratified_ds.2022A.pkl\", \"source_or_target_dataset\": \"source\", \"x_transforms\": [\"unit_mag\", \"take_200\", \"resample_20Msps_to_25Msps\"], \"episode_transforms\": [], \"domain_prefix\": \"O_\"}], \"seed\": 7, \"dataset_seed\": 7, \"domains_source\": [\"O_32\", \"O_38\", \"O_8\", \"O_44\", \"O_14\", \"O_50\", \"O_20\", \"O_26\"], \"domains_target\": [\"C_1\", \"C_2\", \"C_3\", \"C_4\", \"C_5\"]}, \"results\": {\"source_test_label_accuracy\": 0.87822265625, \"source_test_label_loss\": 0.33721962571144104, \"target_test_label_accuracy\": 0.6911370056497175, \"target_test_label_loss\": 179.72531127929688, \"source_val_label_accuracy\": 0.8740234375, \"source_val_label_loss\": 0.34438151121139526, \"target_val_label_accuracy\": 0.6886785714285715, \"target_val_label_loss\": 174.21096801757812, \"total_epochs_trained\": 15, \"total_experiment_time_secs\": 2511.363676071167, \"confusion\": {\"O_26\": {\"0\": {\"10\": 73, \"8\": 26, \"14\": 13, \"0\": 108, \"7\": 3, \"4\": 11, \"15\": 2, \"1\": 3, \"6\": 1}, \"4\": {\"4\": 202, \"7\": 7, \"10\": 5, \"0\": 11, \"8\": 10, \"14\": 4, \"1\": 1}, \"14\": {\"14\": 203, \"0\": 11, \"1\": 8, \"8\": 3, \"4\": 3, \"10\": 12}, \"12\": {\"12\": 240}, \"8\": {\"8\": 134, \"0\": 23, \"10\": 30, \"7\": 23, \"15\": 8, \"4\": 11, \"6\": 3, \"14\": 7, \"2\": 1}, \"7\": {\"7\": 180, \"2\": 10, \"4\": 15, \"3\": 20, \"8\": 10, \"1\": 2, \"15\": 1, \"0\": 2}, \"13\": {\"13\": 221, \"15\": 2, \"5\": 2, \"9\": 6, \"2\": 9}, \"5\": {\"5\": 232, \"2\": 4, \"13\": 2, \"15\": 2}, \"15\": {\"15\": 192, \"13\": 3, \"0\": 3, \"8\": 4, \"9\": 18, \"6\": 8, \"10\": 3, \"7\": 5, \"2\": 4}, \"10\": {\"14\": 9, \"0\": 64, \"10\": 122, \"4\": 3, \"8\": 29, \"6\": 6, \"15\": 4, \"7\": 2, \"9\": 1}, \"3\": {\"3\": 171, \"2\": 53, \"7\": 16}, \"9\": {\"9\": 210, \"15\": 17, \"13\": 8, \"6\": 2, \"10\": 1, \"2\": 2}, \"6\": {\"6\": 212, \"15\": 11, \"10\": 10, \"9\": 4, \"8\": 2, \"0\": 1}, \"1\": {\"1\": 215, \"4\": 6, \"14\": 10, \"7\": 6, \"0\": 1, \"10\": 2}, \"11\": {\"11\": 240}, \"2\": {\"13\": 11, \"2\": 113, \"3\": 73, \"7\": 24, \"9\": 3, \"15\": 9, \"5\": 5, \"8\": 2}}, \"O_44\": {\"1\": {\"1\": 184, \"3\": 9, \"12\": 20, \"10\": 15, \"2\": 12}, \"11\": {\"11\": 238, \"13\": 1, \"6\": 1}, \"3\": {\"3\": 227, \"1\": 12, \"12\": 1}, \"6\": {\"6\": 168, \"13\": 53, \"9\": 16, \"7\": 3}, \"7\": {\"7\": 160, \"9\": 39, \"2\": 33, \"6\": 7, \"13\": 1}, \"5\": {\"5\": 223, \"8\": 3, \"15\": 4, \"0\": 2, \"14\": 7, \"4\": 1}, \"2\": {\"2\": 194, \"7\": 27, \"10\": 9, \"1\": 9, \"9\": 1}, \"15\": {\"15\": 181, \"14\": 22, \"0\": 14, \"8\": 7, \"4\": 6, \"5\": 10}, \"10\": {\"10\": 207, \"2\": 17, \"1\": 15, \"12\": 1}, \"13\": {\"13\": 166, \"6\": 49, \"9\": 20, \"11\": 2, \"4\": 2, \"7\": 1}, \"8\": {\"0\": 74, \"8\": 158, \"15\": 6, \"5\": 2}, \"4\": {\"4\": 199, \"14\": 37, \"13\": 1, \"15\": 3}, \"9\": {\"13\": 27, \"6\": 25, \"9\": 125, \"7\": 62, \"2\": 1}, \"14\": {\"14\": 184, \"4\": 39, \"5\": 7, \"15\": 9, \"0\": 1}, \"0\": {\"0\": 174, \"8\": 59, \"5\": 1, \"15\": 6}, \"12\": {\"12\": 217, \"1\": 19, \"3\": 3, \"10\": 1}}, \"O_50\": {\"15\": {\"15\": 208, \"4\": 10, \"6\": 2, \"11\": 6, \"1\": 14}, \"4\": {\"4\": 183, \"5\": 10, \"13\": 1, \"15\": 27, \"1\": 6, \"6\": 4, \"7\": 8, \"11\": 1}, \"6\": {\"6\": 201, \"7\": 9, \"15\": 9, \"4\": 4, \"13\": 13, \"1\": 3, \"5\": 1}, \"2\": {\"2\": 219, \"0\": 21}, \"5\": {\"5\": 201, \"7\": 13, \"4\": 15, \"6\": 1, \"1\": 7, \"13\": 2, \"15\": 1}, \"9\": {\"9\": 226, \"11\": 7, \"12\": 7}, \"8\": {\"8\": 232, \"3\": 6, \"10\": 2}, \"12\": {\"12\": 232, \"11\": 3, \"9\": 5}, \"10\": {\"10\": 216, \"0\": 13, \"13\": 5, \"8\": 6}, \"1\": {\"1\": 205, \"13\": 5, \"2\": 1, \"15\": 23, \"5\": 2, \"4\": 3, \"6\": 1}, \"0\": {\"0\": 206, \"2\": 24, \"10\": 9, \"13\": 1}, \"3\": {\"3\": 239, \"8\": 1}, \"13\": {\"13\": 222, \"6\": 9, \"10\": 2, \"7\": 4, \"1\": 1, \"5\": 2}, \"11\": {\"11\": 218, \"15\": 14, \"12\": 4, \"9\": 4}, \"7\": {\"7\": 214, \"13\": 8, \"4\": 8, \"5\": 4, \"6\": 6}, \"14\": {\"14\": 240}}, \"O_38\": {\"15\": {\"8\": 19, \"15\": 209, \"1\": 9, \"2\": 1, \"13\": 2}, \"11\": {\"11\": 239, \"10\": 1}, \"10\": {\"10\": 210, \"13\": 18, \"7\": 3, \"14\": 3, \"4\": 1, \"5\": 1, \"8\": 2, \"0\": 2}, \"14\": {\"14\": 227, \"2\": 12, \"10\": 1}, \"6\": {\"6\": 239, \"9\": 1}, \"4\": {\"4\": 235, \"0\": 3, \"10\": 1, \"12\": 1}, \"13\": {\"13\": 220, \"10\": 5, \"2\": 3, \"0\": 7, \"15\": 2, \"8\": 3}, \"3\": {\"3\": 237, \"0\": 2, \"13\": 1}, \"7\": {\"7\": 212, \"0\": 12, \"5\": 8, \"8\": 7, \"10\": 1}, \"8\": {\"8\": 184, \"7\": 15, \"0\": 16, \"10\": 2, \"5\": 19, \"15\": 3, \"13\": 1}, \"1\": {\"1\": 225, \"15\": 15}, \"5\": {\"5\": 188, \"8\": 32, \"7\": 13, \"15\": 3, \"9\": 3, \"13\": 1}, \"0\": {\"0\": 212, \"7\": 6, \"13\": 2, \"5\": 1, \"8\": 8, \"3\": 5, \"10\": 4, \"4\": 1, \"9\": 1}, \"2\": {\"2\": 207, \"14\": 16, \"13\": 9, \"15\": 8}, \"12\": {\"12\": 240}, \"9\": {\"9\": 229, \"6\": 8, \"5\": 2, \"0\": 1}}, \"O_20\": {\"10\": {\"10\": 239, \"14\": 1}, \"7\": {\"7\": 222, \"2\": 13, \"8\": 2, \"9\": 2, \"3\": 1}, \"4\": {\"4\": 235, \"7\": 1, \"3\": 4}, \"13\": {\"13\": 236, \"2\": 4}, \"1\": {\"1\": 185, \"3\": 2, \"15\": 14, \"12\": 38, \"0\": 1}, \"0\": {\"0\": 209, \"15\": 20, \"7\": 3, \"13\": 1, \"5\": 2, \"4\": 1, \"1\": 2, \"8\": 2}, \"12\": {\"3\": 27, \"12\": 161, \"2\": 12, \"1\": 31, \"9\": 9}, \"5\": {\"5\": 236, \"1\": 1, \"0\": 3}, \"6\": {\"6\": 236, \"14\": 3, \"7\": 1}, \"2\": {\"2\": 158, \"7\": 19, \"3\": 12, \"9\": 30, \"12\": 9, \"13\": 10, \"1\": 2}, \"8\": {\"8\": 224, \"6\": 2, \"4\": 5, \"7\": 8, \"14\": 1}, \"11\": {\"11\": 240}, \"9\": {\"9\": 166, \"3\": 19, \"2\": 46, \"12\": 8, \"7\": 1}, \"14\": {\"14\": 237, \"6\": 2, \"8\": 1}, \"15\": {\"15\": 210, \"0\": 12, \"1\": 17, \"13\": 1}, \"3\": {\"3\": 173, \"9\": 15, \"12\": 26, \"2\": 14, \"4\": 1, \"1\": 10, \"7\": 1}}, \"O_14\": {\"14\": {\"14\": 225, \"2\": 12, \"6\": 2, \"13\": 1}, \"0\": {\"0\": 235, \"3\": 3, \"11\": 1, \"10\": 1}, \"4\": {\"4\": 235, \"6\": 1, \"3\": 1, \"1\": 2, \"5\": 1}, \"11\": {\"11\": 231, \"9\": 5, \"0\": 4}, \"13\": {\"13\": 141, \"6\": 79, \"14\": 3, \"2\": 13, \"7\": 3, \"4\": 1}, \"9\": {\"9\": 240}, \"3\": {\"3\": 229, \"2\": 8, \"4\": 2, \"5\": 1}, \"6\": {\"13\": 45, \"6\": 192, \"2\": 2, \"4\": 1}, \"1\": {\"1\": 240}, \"5\": {\"5\": 233, \"1\": 4, \"4\": 3}, \"12\": {\"12\": 240}, \"10\": {\"10\": 240}, \"8\": {\"8\": 240}, \"7\": {\"7\": 240}, \"15\": {\"15\": 240}, \"2\": {\"2\": 172, \"13\": 7, \"14\": 18, \"6\": 25, \"4\": 5, \"3\": 9, \"5\": 2, \"1\": 2}}, \"O_32\": {\"11\": {\"11\": 233, \"14\": 3, \"3\": 3, \"13\": 1}, \"1\": {\"1\": 240}, \"2\": {\"2\": 197, \"4\": 41, \"13\": 1, \"7\": 1}, \"0\": {\"0\": 196, \"8\": 24, \"7\": 8, \"14\": 12}, \"3\": {\"3\": 231, \"13\": 5, \"7\": 1, \"14\": 2, \"8\": 1}, \"8\": {\"8\": 197, \"0\": 27, \"3\": 1, \"5\": 5, \"13\": 8, \"14\": 1, \"7\": 1}, \"12\": {\"12\": 240}, \"5\": {\"5\": 204, \"7\": 26, \"13\": 5, \"14\": 3, \"4\": 1, \"8\": 1}, \"15\": {\"15\": 239, \"8\": 1}, \"7\": {\"7\": 190, \"4\": 16, \"2\": 3, \"5\": 16, \"14\": 5, \"8\": 2, \"3\": 1, \"0\": 2, \"13\": 4, \"11\": 1}, \"4\": {\"4\": 185, \"7\": 12, \"2\": 31, \"13\": 12}, \"14\": {\"14\": 198, \"0\": 19, \"7\": 4, \"11\": 9, \"8\": 1, \"3\": 2, \"5\": 4, \"13\": 3}, \"10\": {\"10\": 240}, \"6\": {\"6\": 240}, \"13\": {\"13\": 205, \"8\": 4, \"3\": 14, \"4\": 11, \"7\": 4, \"5\": 2}, \"9\": {\"9\": 240}}, \"O_8\": {\"9\": {\"9\": 240}, \"11\": {\"11\": 232, \"1\": 8}, \"8\": {\"8\": 236, \"15\": 2, \"12\": 1, \"6\": 1}, \"4\": {\"4\": 187, \"6\": 14, \"13\": 31, \"10\": 4, \"14\": 4}, \"13\": {\"10\": 26, \"13\": 153, \"4\": 27, \"6\": 11, \"0\": 21, \"7\": 1, \"14\": 1}, \"14\": {\"14\": 232, \"13\": 3, \"10\": 4, \"1\": 1}, \"2\": {\"2\": 234, \"7\": 2, \"3\": 4}, \"3\": {\"3\": 235, \"12\": 4, \"2\": 1}, \"1\": {\"1\": 232, \"11\": 6, \"10\": 1, \"14\": 1}, \"0\": {\"0\": 223, \"7\": 5, \"6\": 2, \"13\": 8, \"4\": 1, \"10\": 1}, \"5\": {\"5\": 232, \"14\": 5, \"10\": 3}, \"15\": {\"15\": 215, \"12\": 22, \"8\": 3}, \"10\": {\"10\": 211, \"13\": 15, \"14\": 11, \"4\": 3}, \"12\": {\"12\": 207, \"15\": 25, \"3\": 7, \"8\": 1}, \"6\": {\"6\": 185, \"4\": 11, \"7\": 37, \"13\": 5, \"0\": 2}, \"7\": {\"7\": 206, \"6\": 33, \"12\": 1}}, \"C_5\": {\"26\": {\"26\": 18, \"32\": 2, \"8\": 1, \"51\": 1, \"53\": 1, \"17\": 1}, \"7\": {\"7\": 28, \"12\": 2, \"27\": 1, \"21\": 1}, \"56\": {\"56\": 138, \"29\": 1, \"24\": 1, \"35\": 2}, \"36\": {\"36\": 74, \"12\": 1, \"43\": 2, \"32\": 1, \"47\": 2, \"9\": 4, \"45\": 1, \"49\": 1, \"14\": 1, \"28\": 1, \"48\": 1, \"21\": 1, \"25\": 1, \"50\": 1}, \"47\": {\"26\": 1, \"45\": 2, \"47\": 27, \"33\": 1, \"6\": 3, \"42\": 2, \"57\": 9, \"34\": 1, \"20\": 1, \"19\": 8, \"25\": 2, \"53\": 3, \"52\": 6, \"1\": 4, \"23\": 7, \"54\": 3, \"46\": 4, \"3\": 1, \"16\": 4, \"48\": 2, \"28\": 1, \"17\": 5, \"18\": 1, \"38\": 1, \"50\": 1}, \"2\": {\"2\": 28}, \"15\": {\"15\": 144, \"52\": 1, \"11\": 5, \"25\": 1, \"3\": 1}, \"14\": {\"2\": 1, \"47\": 5, \"50\": 1, \"26\": 1, \"19\": 1, \"3\": 3, \"55\": 2, \"10\": 1, \"14\": 7, \"45\": 3, \"13\": 2, \"56\": 1, \"5\": 1, \"28\": 2, \"36\": 3, \"6\": 1, \"46\": 1, \"40\": 3, \"39\": 1, \"0\": 1, \"21\": 2, \"24\": 1}, \"27\": {\"30\": 16, \"26\": 3, \"32\": 2, \"1\": 14, \"27\": 75, \"9\": 5, \"17\": 8, \"23\": 1, \"48\": 16, \"8\": 1, \"53\": 1, \"38\": 1, \"34\": 1, \"52\": 1, \"12\": 1}, \"40\": {\"40\": 91, \"55\": 5, \"5\": 12, \"44\": 10, \"10\": 2, \"29\": 1, \"13\": 2, \"22\": 1}, \"49\": {\"49\": 34, \"35\": 1, \"2\": 1}, \"45\": {\"45\": 60, \"36\": 2, \"28\": 1, \"21\": 6, \"33\": 1, \"3\": 1, \"12\": 10, \"50\": 5, \"53\": 1, \"43\": 3, \"5\": 1, \"6\": 2, \"27\": 2, \"55\": 5, \"9\": 4, \"29\": 1, \"54\": 1, \"25\": 8, \"20\": 4, \"4\": 4, \"17\": 1, \"51\": 1}, \"46\": {\"46\": 36, \"26\": 1, \"1\": 10, \"35\": 2, \"23\": 15, \"18\": 6, \"53\": 1, \"52\": 18, \"57\": 16, \"17\": 1, \"16\": 10, \"54\": 2, \"13\": 1, \"55\": 1, \"9\": 1, \"44\": 2, \"42\": 1, \"49\": 1, \"36\": 1, \"34\": 1, \"3\": 1, \"48\": 4, \"27\": 1, \"51\": 1, \"25\": 1, \"56\": 1}, \"11\": {\"0\": 2, \"11\": 102, \"15\": 15, \"3\": 2, \"6\": 3, \"21\": 1, \"43\": 1, \"47\": 1, \"54\": 1, \"52\": 1, \"46\": 1}, \"30\": {\"30\": 99, \"38\": 1, \"52\": 1, \"17\": 5, \"27\": 2, \"20\": 1, \"1\": 1, \"6\": 1, \"25\": 1}, \"0\": {\"0\": 102, \"2\": 1, \"31\": 1, \"33\": 1, \"15\": 3, \"3\": 4, \"11\": 3, \"29\": 1, \"46\": 6, \"52\": 1, \"57\": 1}, \"10\": {\"10\": 67, \"44\": 1}, \"1\": {\"1\": 125, \"17\": 5, \"23\": 6, \"18\": 1, \"8\": 3, \"57\": 5, \"48\": 3}, \"42\": {\"42\": 38, \"10\": 1, \"40\": 1}, \"54\": {\"54\": 45, \"23\": 35, \"53\": 2, \"42\": 2, \"48\": 1, \"57\": 3, \"20\": 4, \"1\": 3, \"52\": 6, \"16\": 2, \"17\": 1, \"51\": 3, \"8\": 3, \"18\": 1, \"46\": 1}, \"55\": {\"55\": 131, \"50\": 3, \"9\": 1, \"4\": 8, \"5\": 4, \"36\": 3, \"14\": 1, \"44\": 1}, \"23\": {\"23\": 123, \"57\": 1}, \"25\": {\"39\": 3, \"50\": 5, \"25\": 59, \"32\": 2, \"42\": 2, \"38\": 1, \"34\": 1, \"45\": 5, \"27\": 11, \"51\": 5, \"16\": 3, \"6\": 3, \"43\": 2, \"20\": 10, \"1\": 7, \"4\": 5, \"17\": 2, \"9\": 5, \"55\": 4, \"48\": 4, \"8\": 1, \"37\": 3, \"26\": 1, \"41\": 1, \"5\": 2, \"52\": 2, \"23\": 3}, \"28\": {\"54\": 2, \"9\": 1, \"28\": 14, \"39\": 3, \"41\": 3, \"38\": 2, \"26\": 1, \"48\": 2, \"57\": 1, \"20\": 2, \"53\": 1}, \"32\": {\"32\": 17, \"27\": 1, \"53\": 1, \"17\": 4, \"1\": 4, \"12\": 1, \"48\": 2, \"38\": 2}, \"9\": {\"9\": 38, \"32\": 5, \"52\": 10, \"27\": 16, \"45\": 3, \"43\": 3, \"25\": 7, \"53\": 1, \"48\": 11, \"46\": 1, \"20\": 7, \"17\": 3, \"51\": 3, \"1\": 10, \"54\": 3, \"6\": 5, \"50\": 3, \"30\": 2, \"39\": 1, \"34\": 1, \"41\": 2, \"55\": 2, \"12\": 1, \"57\": 1, \"8\": 1, \"44\": 1, \"19\": 1}, \"39\": {\"54\": 1, \"39\": 7, \"42\": 7, \"23\": 3, \"57\": 1, \"25\": 1}, \"3\": {\"54\": 3, \"1\": 3, \"3\": 26, \"34\": 3, \"57\": 8, \"52\": 4, \"55\": 1, \"44\": 2, \"0\": 4, \"38\": 2, \"47\": 7, \"17\": 2, \"11\": 2, \"22\": 2, \"46\": 3, \"6\": 2, \"27\": 3, \"13\": 4, \"51\": 2, \"21\": 1, \"29\": 2, \"48\": 3, \"19\": 1, \"10\": 2, \"36\": 1, \"53\": 1, \"5\": 1, \"15\": 1, \"20\": 3, \"23\": 1}, \"29\": {\"29\": 89, \"35\": 1, \"36\": 4, \"44\": 8, \"56\": 3, \"0\": 5, \"46\": 1, \"19\": 3, \"49\": 1, \"5\": 1, \"31\": 1, \"48\": 1}, \"17\": {\"17\": 112, \"1\": 1, \"50\": 1, \"30\": 1, \"48\": 1}, \"35\": {\"35\": 34, \"56\": 1, \"49\": 1}, \"44\": {\"44\": 109, \"55\": 3, \"24\": 1, \"29\": 9, \"0\": 4, \"33\": 1, \"13\": 3, \"5\": 6, \"56\": 9, \"40\": 2, \"3\": 1, \"46\": 1, \"4\": 1, \"47\": 1, \"36\": 1}, \"5\": {\"5\": 92, \"13\": 2, \"33\": 1, \"40\": 15, \"4\": 2, \"19\": 2, \"29\": 3, \"22\": 1, \"14\": 2, \"44\": 8}, \"33\": {\"33\": 21, \"4\": 1, \"41\": 1, \"9\": 2, \"25\": 1, \"32\": 2, \"19\": 3, \"28\": 1}, \"34\": {\"13\": 1, \"34\": 29, \"57\": 3, \"22\": 1, \"17\": 1, \"19\": 1}, \"13\": {\"13\": 126, \"35\": 3, \"10\": 6, \"9\": 1, \"3\": 1, \"29\": 1}, \"41\": {\"42\": 3, \"41\": 16, \"32\": 1, \"1\": 1, \"27\": 4, \"12\": 1, \"26\": 1, \"6\": 1}, \"6\": {\"42\": 1, \"50\": 3, \"57\": 4, \"45\": 4, \"6\": 34, \"51\": 2, \"1\": 15, \"17\": 13, \"53\": 5, \"30\": 3, \"20\": 4, \"25\": 5, \"18\": 4, \"4\": 2, \"9\": 7, \"12\": 4, \"54\": 2, \"8\": 2, \"48\": 4, \"21\": 1, \"26\": 1, \"32\": 1, \"39\": 1, \"41\": 1, \"47\": 1, \"23\": 2, \"43\": 2}, \"51\": {\"51\": 58, \"8\": 4, \"32\": 1, \"57\": 1, \"26\": 2, \"38\": 3, \"48\": 9, \"1\": 10, \"53\": 10, \"17\": 11, \"20\": 13, \"30\": 7, \"54\": 3, \"6\": 2, \"44\": 1, \"52\": 2, \"18\": 1}, \"50\": {\"39\": 1, \"6\": 6, \"32\": 1, \"7\": 2, \"12\": 4, \"50\": 53, \"28\": 2, \"21\": 17, \"1\": 1, \"20\": 4, \"41\": 2, \"36\": 3, \"27\": 5, \"14\": 1, \"52\": 1, \"45\": 4, \"55\": 8, \"53\": 2, \"4\": 2, \"25\": 10, \"9\": 4, \"5\": 1, \"29\": 1, \"19\": 2, \"3\": 2, \"47\": 1, \"48\": 1, \"44\": 2, \"43\": 1}, \"37\": {\"37\": 24}, \"19\": {\"9\": 8, \"19\": 111, \"52\": 2, \"46\": 1, \"27\": 5, \"1\": 2, \"48\": 4, \"43\": 1, \"30\": 1, \"47\": 1, \"29\": 2, \"28\": 1, \"34\": 1, \"20\": 1, \"55\": 1, \"25\": 2}, \"57\": {\"57\": 119, \"23\": 8, \"1\": 4, \"52\": 1}, \"21\": {\"7\": 3, \"21\": 117, \"12\": 10, \"51\": 3, \"20\": 6, \"9\": 2, \"50\": 1, \"6\": 1, \"39\": 1}, \"24\": {\"24\": 71, \"35\": 1, \"6\": 2, \"43\": 5, \"0\": 1}, \"8\": {\"8\": 81, \"42\": 1, \"26\": 1, \"1\": 14, \"38\": 1, \"30\": 4, \"17\": 8, \"20\": 3, \"53\": 8, \"48\": 5, \"6\": 2, \"51\": 2}, \"12\": {\"12\": 64, \"7\": 7, \"38\": 3, \"54\": 1, \"21\": 3, \"32\": 1, \"20\": 3, \"9\": 2, \"6\": 3, \"25\": 2, \"51\": 4, \"4\": 2, \"48\": 1}, \"48\": {\"48\": 78, \"26\": 1, \"30\": 4, \"8\": 2, \"20\": 2, \"1\": 22, \"57\": 2, \"17\": 8, \"23\": 1, \"6\": 2, \"53\": 3, \"27\": 3, \"41\": 1, \"52\": 2, \"51\": 1}, \"43\": {\"43\": 140, \"11\": 1, \"21\": 1, \"24\": 1, \"36\": 1, \"6\": 1, \"50\": 3, \"45\": 2}, \"53\": {\"32\": 2, \"53\": 84, \"8\": 8, \"18\": 2, \"17\": 16, \"23\": 2, \"48\": 7, \"30\": 5, \"6\": 4, \"1\": 6, \"20\": 4, \"52\": 1, \"57\": 1, \"51\": 6}, \"38\": {\"38\": 30, \"16\": 2}, \"16\": {\"16\": 139, \"23\": 2, \"52\": 1}, \"22\": {\"22\": 24, \"13\": 1, \"44\": 2, \"40\": 1}, \"4\": {\"4\": 72, \"33\": 1, \"36\": 1, \"40\": 1, \"5\": 1, \"45\": 8, \"55\": 6, \"50\": 3, \"9\": 1, \"24\": 1, \"6\": 3, \"20\": 1, \"47\": 1}, \"18\": {\"18\": 63, \"23\": 1}, \"20\": {\"39\": 1, \"18\": 3, \"51\": 12, \"12\": 2, \"8\": 12, \"20\": 49, \"17\": 11, \"6\": 5, \"1\": 10, \"57\": 2, \"54\": 10, \"53\": 10, \"30\": 10, \"45\": 1, \"38\": 1, \"26\": 1, \"48\": 3, \"27\": 1}, \"52\": {\"52\": 119, \"23\": 10, \"18\": 4, \"46\": 2, \"57\": 3, \"54\": 1, \"25\": 1}, \"31\": {\"31\": 32, \"28\": 1, \"19\": 2, \"0\": 1}}, \"C_1\": {\"41\": {\"51\": 2, \"41\": 22}, \"40\": {\"40\": 84, \"49\": 1, \"44\": 1, \"13\": 1, \"3\": 5, \"29\": 10, \"4\": 5, \"46\": 1, \"28\": 1, \"55\": 1}, \"45\": {\"45\": 68, \"5\": 4, \"37\": 5, \"25\": 2, \"34\": 2, \"26\": 2, \"16\": 10, \"18\": 4, \"2\": 1, \"36\": 4, \"9\": 12, \"17\": 5, \"42\": 2, \"30\": 3, \"19\": 5, \"50\": 1, \"48\": 3, \"51\": 2, \"8\": 1, \"53\": 1, \"6\": 1}, \"51\": {\"51\": 142, \"41\": 1, \"6\": 1, \"50\": 3, \"5\": 1}, \"5\": {\"5\": 66, \"17\": 5, \"19\": 2, \"8\": 2, \"53\": 14, \"26\": 1, \"45\": 8, \"50\": 23, \"4\": 1, \"54\": 2, \"30\": 2, \"51\": 4, \"9\": 6, \"25\": 1, \"48\": 5, \"6\": 4, \"37\": 1, \"2\": 1, \"55\": 1, \"16\": 1, \"46\": 4}, \"30\": {\"30\": 111, \"9\": 8, \"17\": 1}, \"42\": {\"42\": 19, \"34\": 2, \"45\": 2, \"9\": 2, \"19\": 4, \"17\": 5, \"33\": 1, \"1\": 1, \"48\": 2, \"36\": 2}, \"46\": {\"5\": 15, \"46\": 67, \"37\": 2, \"41\": 1, \"20\": 4, \"7\": 1, \"51\": 7, \"6\": 1, \"33\": 1, \"55\": 3, \"8\": 1, \"4\": 5, \"50\": 5, \"3\": 1, \"53\": 4, \"29\": 3, \"25\": 8, \"45\": 2, \"14\": 1, \"12\": 2, \"54\": 1, \"52\": 1}, \"48\": {\"48\": 122, \"2\": 1, \"9\": 4, \"8\": 2, \"30\": 1, \"50\": 2, \"6\": 2}, \"53\": {\"53\": 96, \"8\": 6, \"6\": 2, \"17\": 5, \"18\": 2, \"5\": 4, \"48\": 2, \"50\": 16, \"9\": 3, \"16\": 1, \"26\": 1, \"30\": 4, \"19\": 2}, \"47\": {\"47\": 132, \"39\": 1, \"44\": 10, \"27\": 4, \"24\": 1, \"52\": 2, \"31\": 1, \"22\": 1}, \"49\": {\"49\": 28, \"38\": 2, \"47\": 1, \"43\": 1}, \"36\": {\"53\": 2, \"36\": 51, \"45\": 1, \"18\": 2, \"16\": 6, \"19\": 1, \"17\": 1}, \"32\": {\"42\": 1, \"34\": 1, \"32\": 22, \"44\": 2, \"56\": 1, \"9\": 1, \"16\": 1, \"45\": 1, \"19\": 2}, \"34\": {\"34\": 24}, \"29\": {\"29\": 105, \"47\": 12, \"1\": 1, \"44\": 7, \"35\": 1, \"40\": 2, \"55\": 2, \"13\": 2, \"3\": 3, \"56\": 3, \"32\": 1, \"57\": 1}, \"35\": {\"44\": 1, \"35\": 35}, \"3\": {\"3\": 117, \"43\": 3, \"40\": 3, \"52\": 1, \"55\": 4, \"29\": 4, \"47\": 1, \"10\": 1}, \"16\": {\"16\": 140}, \"26\": {\"48\": 4, \"26\": 8, \"45\": 1, \"18\": 1, \"9\": 2, \"2\": 1, \"17\": 5, \"30\": 2}, \"57\": {\"57\": 58, \"48\": 9, \"18\": 2, \"56\": 11, \"37\": 2, \"6\": 4, \"9\": 5, \"25\": 1, \"42\": 1, \"26\": 2, \"1\": 13, \"2\": 2, \"17\": 2, \"30\": 4, \"45\": 5, \"8\": 5, \"16\": 2, \"44\": 1, \"19\": 11, \"7\": 1, \"50\": 2, \"33\": 1}, \"44\": {\"44\": 88, \"11\": 1, \"22\": 3, \"29\": 2, \"1\": 2, \"55\": 8, \"47\": 8, \"57\": 5, \"24\": 1, \"35\": 4, \"13\": 1, \"21\": 1, \"56\": 4}, \"0\": {\"0\": 138, \"35\": 1, \"12\": 3, \"54\": 2, \"44\": 1, \"56\": 1, \"50\": 1, \"11\": 1, \"25\": 1, \"15\": 2, \"47\": 1}, \"4\": {\"4\": 98, \"57\": 3, \"20\": 1, \"46\": 9, \"29\": 8, \"13\": 2, \"50\": 1, \"55\": 3, \"25\": 2, \"12\": 2, \"40\": 2, \"5\": 1}, \"31\": {\"31\": 24, \"27\": 1, \"10\": 1, \"44\": 1, \"39\": 1}, \"11\": {\"11\": 118, \"10\": 5, \"0\": 2, \"22\": 11, \"15\": 4}, \"6\": {\"48\": 14, \"54\": 1, \"8\": 21, \"6\": 23, \"34\": 2, \"17\": 6, \"18\": 5, \"51\": 3, \"9\": 4, \"30\": 3, \"50\": 3, \"5\": 1, \"2\": 2, \"53\": 1, \"16\": 3, \"45\": 1, \"36\": 2, \"46\": 1}, \"54\": {\"54\": 72, \"14\": 2, \"25\": 1, \"51\": 2, \"42\": 1, \"53\": 10, \"50\": 6, \"6\": 3, \"5\": 3, \"1\": 1, \"8\": 1, \"23\": 1, \"45\": 1}, \"17\": {\"17\": 57, \"9\": 1, \"48\": 1, \"8\": 3, \"50\": 1, \"2\": 1}, \"20\": {\"20\": 120, \"12\": 6, \"13\": 2}, \"13\": {\"13\": 143, \"55\": 1, \"20\": 5, \"12\": 1}, \"33\": {\"33\": 32}, \"24\": {\"11\": 7, \"52\": 18, \"24\": 74, \"49\": 2, \"22\": 4, \"10\": 2, \"55\": 1}, \"52\": {\"52\": 90, \"49\": 3, \"24\": 22, \"22\": 6, \"10\": 4, \"55\": 1, \"47\": 1, \"11\": 2, \"38\": 1, \"39\": 1, \"43\": 1}, \"2\": {\"2\": 34, \"48\": 2}, \"19\": {\"19\": 128, \"17\": 3, \"51\": 1, \"36\": 1, \"18\": 1, \"1\": 2, \"30\": 2, \"16\": 8, \"48\": 5, \"34\": 2, \"57\": 1, \"6\": 2}, \"39\": {\"39\": 27, \"52\": 1}, \"8\": {\"8\": 124, \"30\": 8, \"6\": 2, \"17\": 2, \"48\": 3, \"9\": 1}, \"21\": {\"21\": 116, \"0\": 1, \"23\": 2, \"15\": 3, \"17\": 1, \"9\": 1}, \"10\": {\"10\": 80, \"11\": 8, \"22\": 1, \"24\": 4, \"15\": 2, \"47\": 1}, \"37\": {\"34\": 4, \"26\": 2, \"42\": 1, \"45\": 3, \"37\": 8, \"9\": 4, \"16\": 2, \"2\": 2, \"8\": 1, \"17\": 3, \"18\": 1, \"50\": 1}, \"25\": {\"34\": 1, \"25\": 99, \"45\": 6, \"51\": 1, \"17\": 1, \"33\": 3, \"6\": 3, \"8\": 3, \"50\": 6, \"53\": 7, \"5\": 4, \"55\": 1, \"16\": 1, \"26\": 2, \"37\": 2, \"4\": 1, \"30\": 3}, \"27\": {\"27\": 126, \"10\": 1, \"24\": 1, \"52\": 1, \"47\": 1}, \"23\": {\"23\": 100, \"19\": 9, \"33\": 2, \"16\": 10, \"36\": 3, \"18\": 3, \"6\": 1, \"9\": 6, \"17\": 1, \"30\": 1}, \"1\": {\"19\": 15, \"1\": 35, \"57\": 7, \"17\": 7, \"45\": 6, \"16\": 1, \"9\": 7, \"56\": 10, \"30\": 2, \"48\": 2, \"51\": 1, \"8\": 1, \"0\": 1, \"54\": 1, \"6\": 4}, \"50\": {\"18\": 2, \"50\": 78, \"48\": 17, \"6\": 7, \"17\": 5, \"2\": 3, \"30\": 4, \"5\": 7, \"53\": 15, \"45\": 2, \"9\": 4, \"16\": 2, \"8\": 5, \"19\": 1}, \"12\": {\"12\": 94, \"20\": 13, \"0\": 3, \"13\": 2, \"55\": 2, \"46\": 1, \"44\": 1}, \"18\": {\"18\": 72}, \"38\": {\"52\": 1, \"38\": 17, \"22\": 3, \"49\": 3}, \"14\": {\"14\": 8, \"30\": 2, \"18\": 3, \"9\": 1, \"5\": 1, \"8\": 2, \"34\": 1, \"48\": 1, \"17\": 4, \"33\": 1}, \"56\": {\"56\": 72, \"1\": 14, \"32\": 1, \"57\": 22, \"55\": 3, \"19\": 10, \"35\": 2, \"33\": 1, \"45\": 5, \"9\": 3, \"44\": 2, \"29\": 1, \"17\": 2, \"6\": 1, \"5\": 1, \"48\": 2}, \"55\": {\"55\": 137, \"12\": 3, \"29\": 4, \"5\": 1, \"50\": 2, \"51\": 1, \"25\": 1, \"4\": 3, \"13\": 1, \"20\": 1, \"0\": 3, \"46\": 2, \"3\": 1}, \"9\": {\"9\": 135, \"30\": 3}, \"15\": {\"15\": 140, \"21\": 6}, \"28\": {\"28\": 28}, \"7\": {\"7\": 27, \"5\": 1}, \"43\": {\"43\": 134, \"27\": 2}, \"22\": {\"22\": 99, \"10\": 2, \"24\": 9, \"52\": 6, \"21\": 2, \"11\": 14, \"0\": 2, \"15\": 1, \"44\": 1}}, \"C_3\": {\"1\": {\"1\": 69, \"48\": 4, \"57\": 3, \"0\": 4, \"46\": 2, \"47\": 7, \"17\": 1, \"5\": 3, \"54\": 1, \"28\": 1, \"6\": 1, \"35\": 1, \"3\": 3}, \"9\": {\"28\": 1, \"48\": 3, \"12\": 4, \"57\": 5, \"9\": 60, \"6\": 3, \"34\": 4, \"52\": 6, \"29\": 3, \"27\": 15, \"17\": 11, \"21\": 3, \"41\": 1, \"25\": 1, \"53\": 2, \"23\": 2}, \"22\": {\"31\": 2, \"22\": 112, \"55\": 4, \"56\": 7, \"10\": 3, \"24\": 3, \"44\": 1, \"19\": 2, \"13\": 1, \"43\": 1}, \"43\": {\"43\": 123, \"28\": 1, \"49\": 2, \"7\": 2, \"46\": 3, \"11\": 1, \"5\": 1, \"47\": 1, \"29\": 1, \"21\": 1}, \"49\": {\"49\": 20}, \"50\": {\"53\": 23, \"50\": 24, \"42\": 2, \"54\": 5, \"20\": 13, \"12\": 5, \"45\": 3, \"46\": 8, \"2\": 1, \"8\": 12, \"44\": 1, \"51\": 8, \"19\": 3, \"36\": 3, \"25\": 6, \"3\": 4, \"4\": 1, \"48\": 1, \"43\": 1, \"27\": 3, \"9\": 3, \"57\": 1, \"6\": 4, \"41\": 1, \"21\": 1, \"15\": 1}, \"53\": {\"53\": 82, \"8\": 11, \"51\": 8, \"36\": 5, \"54\": 10, \"3\": 2, \"46\": 2, \"20\": 3, \"50\": 9, \"27\": 2, \"12\": 2}, \"10\": {\"10\": 60, \"24\": 4}, \"48\": {\"48\": 68, \"55\": 1, \"41\": 1, \"16\": 3, \"26\": 2, \"34\": 6, \"9\": 3, \"20\": 1, \"52\": 9, \"13\": 1, \"23\": 6, \"30\": 4, \"27\": 1, \"31\": 3, \"18\": 2, \"17\": 2, \"12\": 1, \"51\": 1, \"0\": 1}, \"8\": {\"53\": 4, \"8\": 63, \"17\": 17, \"36\": 4, \"16\": 2, \"54\": 10, \"27\": 4, \"30\": 16, \"12\": 6, \"48\": 1, \"18\": 3, \"20\": 4, \"52\": 2, \"15\": 1, \"45\": 1}, \"31\": {\"31\": 28}, \"56\": {\"56\": 125, \"22\": 7, \"13\": 1, \"10\": 1}, \"25\": {\"38\": 3, \"25\": 47, \"6\": 2, \"2\": 4, \"27\": 11, \"42\": 1, \"36\": 11, \"51\": 9, \"52\": 2, \"17\": 2, \"20\": 14, \"50\": 7, \"3\": 4, \"15\": 1, \"8\": 2, \"19\": 1, \"55\": 1, \"53\": 3, \"45\": 1, \"34\": 1, \"7\": 1, \"44\": 2, \"12\": 3, \"4\": 3, \"13\": 1, \"54\": 1, \"46\": 4}, \"28\": {\"1\": 3, \"28\": 14, \"12\": 1, \"41\": 1, \"57\": 1, \"6\": 1, \"7\": 1, \"29\": 2, \"0\": 1, \"33\": 1, \"19\": 1, \"4\": 1}, \"38\": {\"48\": 1, \"38\": 15, \"12\": 3, \"17\": 2, \"16\": 2, \"30\": 3, \"20\": 1, \"39\": 1}, \"5\": {\"48\": 13, \"16\": 7, \"22\": 1, \"5\": 31, \"23\": 7, \"6\": 1, \"4\": 11, \"26\": 2, \"29\": 3, \"30\": 3, \"34\": 2, \"47\": 3, \"36\": 1, \"1\": 2, \"25\": 2, \"9\": 2, \"46\": 1, \"15\": 3, \"57\": 2, \"41\": 2, \"7\": 1, \"17\": 3, \"39\": 2, \"18\": 1, \"0\": 1, \"3\": 1, \"52\": 4, \"53\": 1, \"27\": 3}, \"12\": {\"38\": 5, \"3\": 2, \"12\": 19, \"17\": 13, \"20\": 5, \"30\": 6, \"48\": 6, \"9\": 2, \"8\": 7, \"34\": 1, \"27\": 1, \"52\": 2, \"51\": 4, \"21\": 2, \"54\": 2, \"18\": 3, \"6\": 1, \"36\": 3, \"53\": 1, \"4\": 1, \"41\": 1, \"5\": 2, \"15\": 2, \"50\": 1}, \"6\": {\"6\": 16, \"46\": 6, \"44\": 5, \"17\": 9, \"42\": 3, \"36\": 3, \"30\": 2, \"24\": 1, \"18\": 1, \"54\": 3, \"12\": 3, \"51\": 1, \"2\": 1, \"50\": 5, \"45\": 4, \"20\": 6, \"23\": 1, \"27\": 2, \"55\": 1, \"15\": 2, \"13\": 1, \"5\": 1, \"32\": 2, \"16\": 1, \"21\": 1, \"48\": 2, \"25\": 1, \"8\": 2, \"52\": 1, \"3\": 1}, \"19\": {\"19\": 123, \"42\": 1, \"6\": 1, \"45\": 1, \"46\": 2, \"44\": 2, \"40\": 1, \"29\": 8, \"43\": 1, \"1\": 2, \"4\": 4, \"25\": 1, \"35\": 1, \"50\": 1, \"3\": 2, \"21\": 1}, \"26\": {\"26\": 4, \"16\": 3, \"23\": 2, \"27\": 1, \"54\": 2, \"18\": 3, \"8\": 1, \"34\": 4, \"33\": 1, \"17\": 1, \"53\": 1, \"15\": 1}, \"32\": {\"32\": 23, \"38\": 1, \"36\": 1, \"17\": 1, \"34\": 1, \"27\": 1}, \"33\": {\"12\": 6, \"33\": 15, \"3\": 1, \"4\": 2, \"16\": 1, \"36\": 1, \"27\": 1, \"21\": 1}, \"3\": {\"46\": 7, \"12\": 3, \"38\": 1, \"33\": 1, \"36\": 6, \"32\": 3, \"6\": 1, \"34\": 1, \"3\": 22, \"26\": 1, \"21\": 5, \"27\": 9, \"17\": 2, \"51\": 3, \"50\": 4, \"5\": 3, \"25\": 4, \"1\": 1, \"53\": 14, \"4\": 9, \"57\": 2, \"48\": 3, \"20\": 2, \"9\": 2, \"8\": 2, \"42\": 1, \"30\": 1, \"37\": 1, \"47\": 1, \"44\": 1, \"54\": 2}, \"51\": {\"51\": 99, \"39\": 2, \"53\": 7, \"36\": 1, \"26\": 1, \"50\": 1, \"20\": 4, \"46\": 2, \"48\": 1, \"27\": 4, \"25\": 1, \"9\": 1, \"12\": 1, \"54\": 2, \"8\": 1}, \"16\": {\"16\": 124, \"52\": 1, \"15\": 5, \"23\": 7, \"20\": 1}, \"46\": {\"6\": 6, \"51\": 7, \"9\": 3, \"23\": 1, \"36\": 5, \"30\": 3, \"38\": 2, \"32\": 1, \"3\": 4, \"46\": 30, \"26\": 3, \"21\": 1, \"12\": 6, \"25\": 5, \"34\": 2, \"50\": 4, \"52\": 4, \"48\": 2, \"1\": 1, \"53\": 9, \"20\": 9, \"5\": 2, \"8\": 6, \"24\": 1, \"27\": 4, \"19\": 2, \"0\": 1, \"4\": 1, \"57\": 1, \"43\": 1, \"41\": 1, \"31\": 2, \"44\": 2, \"17\": 3, \"45\": 1, \"29\": 1, \"54\": 3}, \"7\": {\"7\": 36}, \"47\": {\"12\": 1, \"47\": 40, \"23\": 3, \"16\": 1, \"35\": 2, \"6\": 1, \"3\": 1, \"0\": 11, \"1\": 7, \"29\": 7, \"9\": 2, \"5\": 4, \"17\": 1, \"48\": 1, \"15\": 1, \"57\": 7, \"55\": 1, \"19\": 1}, \"39\": {\"39\": 8, \"12\": 1, \"18\": 1, \"20\": 1, \"48\": 1, \"4\": 1, \"38\": 1, \"54\": 1, \"33\": 1}, \"40\": {\"40\": 111, \"45\": 4, \"55\": 3, \"44\": 5, \"31\": 2, \"19\": 6, \"14\": 1, \"13\": 1, \"3\": 1, \"25\": 1, \"46\": 1}, \"14\": {\"14\": 24, \"43\": 2, \"28\": 1, \"49\": 1, \"56\": 3, \"55\": 2, \"22\": 4, \"10\": 2, \"24\": 1}, \"37\": {\"21\": 2, \"37\": 25, \"11\": 1}, \"2\": {\"2\": 30, \"21\": 2}, \"21\": {\"21\": 84, \"51\": 11, \"3\": 4, \"26\": 1, \"25\": 2, \"20\": 4, \"4\": 1, \"53\": 5, \"27\": 2, \"32\": 1, \"46\": 1, \"37\": 1, \"12\": 1, \"54\": 1, \"29\": 1}, \"35\": {\"35\": 25, \"28\": 1, \"19\": 2}, \"54\": {\"54\": 42, \"12\": 3, \"48\": 4, \"17\": 11, \"52\": 5, \"36\": 4, \"30\": 8, \"8\": 8, \"53\": 3, \"18\": 3, \"38\": 1, \"23\": 2, \"34\": 1, \"27\": 1, \"20\": 1, \"50\": 1, \"15\": 2}, \"52\": {\"52\": 114, \"18\": 2}, \"29\": {\"0\": 4, \"19\": 4, \"18\": 2, \"29\": 47, \"27\": 5, \"34\": 2, \"17\": 8, \"15\": 5, \"47\": 4, \"12\": 3, \"1\": 4, \"9\": 7, \"57\": 13, \"5\": 2, \"6\": 2, \"30\": 2, \"4\": 1, \"48\": 2, \"3\": 1}, \"20\": {\"17\": 11, \"8\": 7, \"20\": 58, \"51\": 11, \"54\": 7, \"46\": 2, \"53\": 12, \"30\": 5, \"36\": 1, \"21\": 1, \"12\": 2, \"48\": 7, \"38\": 2, \"27\": 1, \"5\": 1, \"16\": 1, \"52\": 1, \"3\": 1, \"50\": 1}, \"18\": {\"18\": 76, \"52\": 4, \"23\": 2, \"30\": 2}, \"11\": {\"11\": 103, \"52\": 2, \"0\": 9, \"46\": 2, \"27\": 2, \"53\": 4, \"9\": 5, \"20\": 1, \"57\": 3, \"18\": 1, \"23\": 1, \"5\": 1, \"8\": 1, \"15\": 1, \"26\": 1, \"48\": 2, \"17\": 3}, \"0\": {\"0\": 62, \"48\": 11, \"52\": 3, \"15\": 11, \"38\": 1, \"34\": 5, \"17\": 8, \"47\": 3, \"57\": 5, \"30\": 2, \"18\": 5, \"23\": 6, \"9\": 1, \"8\": 1}, \"36\": {\"36\": 53, \"17\": 9, \"32\": 1, \"54\": 7, \"27\": 8, \"16\": 1, \"52\": 3, \"57\": 1, \"23\": 2, \"8\": 5, \"20\": 1, \"34\": 2, \"12\": 3, \"30\": 1, \"53\": 2, \"15\": 1}, \"17\": {\"17\": 108}, \"30\": {\"30\": 114}, \"42\": {\"4\": 1, \"45\": 5, \"8\": 1, \"42\": 11, \"25\": 2, \"47\": 1, \"50\": 2, \"41\": 1, \"33\": 1, \"6\": 2, \"3\": 1}, \"45\": {\"42\": 3, \"4\": 2, \"45\": 46, \"19\": 2, \"3\": 1, \"6\": 2, \"50\": 2, \"46\": 1, \"25\": 1}, \"4\": {\"12\": 5, \"4\": 100, \"48\": 2, \"36\": 3, \"33\": 1, \"3\": 9, \"21\": 2, \"32\": 2, \"9\": 6, \"5\": 5, \"50\": 5, \"53\": 1, \"57\": 3, \"27\": 1, \"46\": 1, \"41\": 1, \"25\": 1}, \"23\": {\"23\": 132, \"46\": 1, \"44\": 1}, \"13\": {\"13\": 128}, \"15\": {\"15\": 109, \"16\": 10, \"18\": 2, \"0\": 1, \"24\": 1, \"23\": 1, \"52\": 2, \"43\": 1, \"44\": 1}, \"57\": {\"17\": 13, \"57\": 46, \"9\": 11, \"48\": 15, \"16\": 6, \"34\": 5, \"27\": 7, \"30\": 6, \"5\": 2, \"29\": 3, \"47\": 1, \"52\": 3, \"12\": 1, \"1\": 1, \"4\": 2, \"0\": 2}, \"27\": {\"23\": 1, \"9\": 9, \"30\": 4, \"27\": 82, \"16\": 3, \"34\": 3, \"52\": 7, \"17\": 10, \"18\": 1, \"57\": 4, \"6\": 1, \"54\": 2, \"48\": 1, \"32\": 1, \"38\": 2, \"5\": 1, \"8\": 1, \"51\": 1}, \"44\": {\"44\": 69, \"13\": 1, \"40\": 9, \"45\": 3, \"19\": 2, \"4\": 2, \"1\": 2}, \"34\": {\"34\": 30, \"48\": 2}, \"41\": {\"41\": 12, \"54\": 4, \"8\": 3, \"18\": 1, \"42\": 1, \"52\": 2, \"48\": 2, \"20\": 1, \"53\": 1, \"46\": 1}, \"24\": {\"24\": 96, \"10\": 5, \"43\": 2, \"49\": 1}, \"55\": {\"55\": 111, \"40\": 1, \"13\": 3, \"22\": 2, \"14\": 1}}, \"C_4\": {\"52\": {\"52\": 110, \"18\": 2, \"23\": 2, \"47\": 2}, \"6\": {\"24\": 2, \"25\": 4, \"53\": 2, \"6\": 27, \"42\": 2, \"54\": 2, \"34\": 1, \"40\": 2, \"12\": 3, \"30\": 1, \"3\": 6, \"36\": 7, \"50\": 10, \"45\": 5, \"47\": 3, \"51\": 1, \"8\": 3, \"46\": 2, \"52\": 1, \"21\": 3, \"5\": 4, \"23\": 1, \"48\": 2, \"4\": 4, \"27\": 2, \"43\": 1, \"16\": 1, \"14\": 1, \"17\": 2, \"39\": 1, \"20\": 2, \"15\": 1, \"9\": 2, \"18\": 1}, \"14\": {\"14\": 5, \"40\": 1, \"31\": 1, \"24\": 2, \"33\": 2, \"22\": 3, \"10\": 1, \"55\": 1}, \"49\": {\"52\": 1, \"49\": 13, \"17\": 1, \"36\": 1, \"54\": 1, \"57\": 1, \"46\": 1, \"4\": 1}, \"0\": {\"46\": 7, \"49\": 1, \"2\": 2, \"0\": 58, \"11\": 6, \"15\": 2, \"52\": 1, \"32\": 1, \"57\": 2}, \"46\": {\"52\": 8, \"49\": 1, \"11\": 3, \"56\": 5, \"29\": 11, \"46\": 47, \"39\": 1, \"32\": 1, \"54\": 4, \"38\": 1, \"22\": 8, \"47\": 12, \"57\": 3, \"18\": 4, \"55\": 4, \"16\": 1, \"8\": 3, \"23\": 5, \"36\": 1, \"0\": 2, \"48\": 5, \"10\": 3, \"4\": 6, \"15\": 1, \"5\": 3, \"40\": 2, \"17\": 1, \"1\": 1, \"24\": 2, \"34\": 1, \"20\": 1, \"44\": 1, \"12\": 2, \"25\": 1, \"13\": 1}, \"41\": {\"41\": 36}, \"24\": {\"24\": 40, \"43\": 14, \"10\": 1, \"14\": 1}, \"25\": {\"25\": 64, \"6\": 7, \"34\": 5, \"20\": 16, \"51\": 9, \"3\": 5, \"5\": 3, \"21\": 10, \"12\": 3, \"44\": 2, \"8\": 4, \"27\": 4, \"47\": 2, \"48\": 4, \"9\": 4, \"45\": 1, \"39\": 2, \"53\": 1, \"36\": 2, \"4\": 1, \"50\": 3}, \"40\": {\"40\": 103, \"44\": 5, \"55\": 11, \"33\": 2, \"19\": 10, \"56\": 2, \"13\": 1, \"46\": 2, \"31\": 1, \"3\": 1}, \"38\": {\"13\": 3, \"10\": 3, \"38\": 31, \"14\": 1, \"0\": 1, \"22\": 1}, \"13\": {\"13\": 152}, \"9\": {\"41\": 1, \"45\": 2, \"9\": 44, \"4\": 19, \"27\": 5, \"50\": 4, \"53\": 1, \"52\": 2, \"36\": 2, \"3\": 3, \"48\": 6, \"47\": 3, \"44\": 1, \"25\": 1, \"54\": 3, \"6\": 1, \"34\": 2, \"5\": 1, \"12\": 1, \"57\": 2, \"15\": 1, \"20\": 2, \"51\": 1}, \"45\": {\"45\": 54, \"26\": 4, \"9\": 6, \"44\": 2, \"12\": 5, \"50\": 5, \"6\": 3, \"3\": 7, \"36\": 1, \"40\": 1, \"51\": 1, \"20\": 2, \"30\": 2, \"25\": 1, \"19\": 1, \"5\": 1}, \"43\": {\"43\": 135, \"24\": 4, \"0\": 2, \"5\": 2, \"11\": 1}, \"10\": {\"10\": 127, \"22\": 3}, \"15\": {\"15\": 91, \"44\": 1, \"16\": 18, \"18\": 3, \"52\": 7, \"23\": 6, \"22\": 1, \"10\": 1}, \"39\": {\"41\": 3, \"39\": 8, \"34\": 1, \"52\": 1, \"16\": 1, \"12\": 1, \"5\": 1, \"20\": 1, \"42\": 1, \"47\": 2}, \"4\": {\"4\": 67, \"27\": 24, \"17\": 10, \"30\": 2, \"21\": 3, \"15\": 2, \"53\": 1, \"51\": 2, \"18\": 2, \"52\": 1, \"48\": 12, \"9\": 2, \"57\": 1, \"54\": 1, \"8\": 1, \"47\": 1}, \"53\": {\"53\": 95, \"20\": 5, \"34\": 1, \"12\": 10, \"54\": 3, \"51\": 11, \"8\": 2, \"36\": 2, \"48\": 1, \"21\": 1, \"55\": 1}, \"1\": {\"1\": 24, \"17\": 1, \"49\": 4, \"47\": 1, \"48\": 2, \"57\": 7, \"55\": 1}, \"28\": {\"21\": 1, \"4\": 3, \"28\": 8, \"40\": 2, \"12\": 1, \"17\": 1, \"19\": 2, \"48\": 3, \"8\": 2, \"54\": 2, \"33\": 1, \"5\": 3, \"47\": 1, \"27\": 2}, \"54\": {\"41\": 6, \"54\": 51, \"36\": 4, \"12\": 2, \"47\": 5, \"23\": 9, \"27\": 1, \"20\": 5, \"5\": 3, \"8\": 8, \"52\": 4, \"48\": 1, \"21\": 3, \"39\": 1, \"18\": 4, \"42\": 1}, \"21\": {\"8\": 9, \"20\": 6, \"21\": 43, \"18\": 15, \"12\": 4, \"17\": 5, \"27\": 10, \"51\": 3, \"53\": 2, \"23\": 1, \"54\": 8, \"48\": 9, \"47\": 2, \"36\": 7, \"42\": 1, \"39\": 1, \"30\": 5, \"5\": 1}, \"7\": {\"7\": 17, \"40\": 1, \"35\": 1, \"46\": 1, \"32\": 1, \"6\": 1, \"29\": 1, \"18\": 1}, \"8\": {\"42\": 3, \"8\": 75, \"12\": 5, \"36\": 3, \"30\": 5, \"27\": 13, \"23\": 3, \"18\": 10, \"54\": 3, \"21\": 9, \"47\": 2, \"48\": 4, \"20\": 1}, \"42\": {\"42\": 32}, \"11\": {\"11\": 83, \"46\": 3, \"10\": 1, \"52\": 3, \"54\": 1, \"53\": 2, \"0\": 1, \"36\": 1, \"15\": 2, \"20\": 1, \"4\": 2, \"6\": 1, \"47\": 1, \"43\": 1, \"22\": 1}, \"33\": {\"33\": 29, \"19\": 5, \"28\": 2}, \"27\": {\"27\": 107, \"17\": 11, \"40\": 1, \"53\": 1, \"4\": 1, \"48\": 6, \"47\": 4, \"42\": 6, \"20\": 1, \"23\": 2, \"8\": 2}, \"19\": {\"19\": 122, \"33\": 7, \"47\": 1, \"44\": 5, \"29\": 3, \"50\": 2, \"35\": 1, \"9\": 1, \"25\": 1, \"5\": 1}, \"2\": {\"2\": 28, \"22\": 1, \"10\": 4, \"24\": 2, \"38\": 1}, \"3\": {\"20\": 7, \"3\": 49, \"6\": 6, \"26\": 1, \"34\": 1, \"36\": 3, \"51\": 3, \"45\": 5, \"25\": 5, \"50\": 7, \"40\": 1, \"12\": 4, \"53\": 9, \"46\": 1, \"21\": 2, \"9\": 1, \"52\": 1, \"5\": 2, \"4\": 4, \"44\": 1, \"48\": 1, \"16\": 1, \"54\": 3, \"8\": 2}, \"57\": {\"57\": 45, \"41\": 2, \"17\": 8, \"30\": 1, \"23\": 1, \"54\": 3, \"42\": 2, \"52\": 5, \"27\": 2, \"47\": 14, \"18\": 6, \"56\": 1, \"16\": 4, \"48\": 3, \"28\": 1, \"29\": 1, \"5\": 1}, \"20\": {\"20\": 54, \"21\": 10, \"8\": 14, \"42\": 1, \"12\": 3, \"36\": 3, \"48\": 8, \"3\": 1, \"51\": 1, \"27\": 4, \"18\": 1, \"5\": 1, \"53\": 1, \"54\": 2, \"55\": 2, \"47\": 2, \"30\": 1, \"17\": 1, \"52\": 2}, \"23\": {\"23\": 118, \"52\": 6, \"18\": 3, \"47\": 1}, \"22\": {\"22\": 100, \"38\": 3, \"0\": 2, \"56\": 3, \"10\": 10, \"43\": 1, \"14\": 1, \"24\": 4, \"46\": 2, \"2\": 1, \"15\": 1}, \"29\": {\"4\": 2, \"9\": 5, \"38\": 1, \"49\": 3, \"29\": 66, \"7\": 1, \"47\": 4, \"30\": 3, \"57\": 11, \"35\": 3, \"17\": 4, \"28\": 1, \"18\": 3, \"3\": 2, \"46\": 2, \"48\": 4, \"54\": 2, \"37\": 1, \"27\": 1, \"42\": 1, \"19\": 3, \"5\": 1}, \"36\": {\"12\": 3, \"41\": 1, \"42\": 5, \"20\": 2, \"54\": 7, \"36\": 30, \"48\": 3, \"17\": 3, \"52\": 4, \"18\": 6, \"23\": 6, \"44\": 2, \"21\": 2, \"27\": 3, \"53\": 4, \"8\": 6, \"47\": 4, \"39\": 1}, \"51\": {\"51\": 112, \"25\": 3, \"53\": 12, \"12\": 1, \"20\": 3, \"21\": 1}, \"31\": {\"31\": 25, \"10\": 2, \"50\": 1}, \"12\": {\"36\": 9, \"12\": 34, \"21\": 4, \"30\": 1, \"53\": 6, \"23\": 2, \"34\": 1, \"48\": 4, \"8\": 10, \"20\": 5, \"27\": 5, \"17\": 2, \"3\": 1, \"52\": 1, \"16\": 1, \"57\": 1, \"54\": 1, \"45\": 1, \"4\": 1, \"51\": 2}, \"56\": {\"56\": 113, \"38\": 4, \"14\": 1, \"10\": 6, \"22\": 8, \"46\": 2, \"55\": 1, \"31\": 1, \"0\": 1, \"40\": 1}, \"5\": {\"5\": 21, \"41\": 2, \"47\": 11, \"45\": 1, \"54\": 9, \"21\": 4, \"44\": 3, \"8\": 2, \"36\": 4, \"18\": 5, \"23\": 10, \"19\": 3, \"52\": 5, \"16\": 4, \"25\": 1, \"40\": 1, \"51\": 2, \"48\": 5, \"53\": 2, \"42\": 3, \"4\": 1, \"39\": 1, \"20\": 1, \"6\": 1, \"50\": 1, \"3\": 1, \"17\": 2, \"15\": 2}, \"35\": {\"35\": 30, \"29\": 2, \"55\": 1, \"57\": 3, \"44\": 1, \"8\": 1, \"36\": 2}, \"17\": {\"17\": 73, \"27\": 3, \"12\": 1, \"4\": 1, \"20\": 1, \"48\": 1}, \"32\": {\"42\": 1, \"32\": 19, \"49\": 1, \"46\": 1, \"47\": 1, \"1\": 1}, \"47\": {\"47\": 88, \"23\": 10, \"57\": 2, \"5\": 2, \"16\": 2, \"15\": 4, \"48\": 1, \"54\": 2, \"21\": 1, \"52\": 7, \"18\": 1}, \"18\": {\"18\": 93, \"44\": 2, \"23\": 6, \"13\": 1, \"16\": 4, \"54\": 2}, \"26\": {\"45\": 3, \"26\": 17, \"27\": 1, \"51\": 1, \"54\": 1, \"3\": 1}, \"50\": {\"50\": 65, \"12\": 2, \"26\": 2, \"44\": 3, \"19\": 1, \"51\": 6, \"15\": 1, \"6\": 7, \"45\": 2, \"53\": 6, \"3\": 6, \"25\": 8, \"21\": 3, \"9\": 3, \"28\": 1, \"5\": 2, \"4\": 1, \"20\": 2, \"54\": 1}, \"55\": {\"55\": 123, \"40\": 1}, \"34\": {\"34\": 16, \"39\": 1, \"23\": 1, \"12\": 1, \"48\": 1, \"27\": 2, \"20\": 1, \"52\": 1}, \"30\": {\"45\": 2, \"30\": 31, \"27\": 3, \"5\": 1, \"12\": 1, \"48\": 2, \"8\": 1, \"39\": 2, \"54\": 1}, \"37\": {\"37\": 24}, \"44\": {\"33\": 2, \"19\": 15, \"44\": 96, \"25\": 1, \"26\": 2, \"35\": 3, \"10\": 1, \"48\": 1, \"29\": 2, \"40\": 3, \"55\": 3, \"6\": 1, \"45\": 1, \"3\": 1}, \"48\": {\"48\": 75, \"36\": 1, \"17\": 8, \"27\": 8, \"14\": 1, \"21\": 6, \"18\": 1, \"57\": 1, \"53\": 1, \"47\": 2, \"16\": 2, \"42\": 2, \"54\": 2, \"44\": 1, \"52\": 3, \"51\": 1, \"55\": 1, \"20\": 1, \"8\": 1}, \"16\": {\"16\": 94, \"23\": 1, \"52\": 1}}, \"C_2\": {\"11\": {\"11\": 99, \"17\": 3, \"28\": 1, \"15\": 1, \"0\": 3, \"12\": 1, \"21\": 1, \"48\": 4, \"36\": 1, \"30\": 3, \"57\": 4, \"23\": 2, \"18\": 1, \"51\": 2, \"8\": 1, \"52\": 3}, \"21\": {\"20\": 4, \"21\": 77, \"8\": 3, \"53\": 8, \"12\": 3, \"54\": 6, \"26\": 1, \"50\": 3, \"57\": 1, \"51\": 7, \"25\": 2, \"36\": 1, \"52\": 1, \"6\": 2, \"9\": 1}, \"19\": {\"19\": 108, \"33\": 4, \"42\": 1, \"47\": 1, \"29\": 5, \"3\": 1, \"46\": 3, \"40\": 3, \"45\": 4, \"4\": 3, \"1\": 3, \"31\": 1, \"7\": 2, \"43\": 1}, \"20\": {\"20\": 50, \"12\": 8, \"27\": 10, \"51\": 14, \"16\": 1, \"21\": 2, \"54\": 11, \"17\": 4, \"6\": 6, \"55\": 1, \"30\": 2, \"8\": 5, \"53\": 3, \"18\": 2, \"2\": 1, \"26\": 1, \"57\": 1, \"48\": 3, \"50\": 2, \"44\": 1}, \"9\": {\"32\": 2, \"57\": 12, \"54\": 2, \"27\": 13, \"9\": 67, \"1\": 1, \"50\": 2, \"29\": 2, \"3\": 1, \"17\": 6, \"48\": 12, \"12\": 1, \"6\": 3, \"36\": 1, \"46\": 1, \"53\": 1, \"44\": 1, \"25\": 1, \"4\": 6, \"7\": 1, \"21\": 2, \"19\": 1, \"15\": 1}, \"10\": {\"10\": 108, \"24\": 4}, \"37\": {\"37\": 36}, \"32\": {\"32\": 19, \"17\": 4, \"39\": 1, \"34\": 2, \"27\": 2}, \"3\": {\"21\": 6, \"3\": 27, \"53\": 3, \"48\": 4, \"25\": 7, \"34\": 1, \"31\": 2, \"29\": 1, \"44\": 1, \"4\": 5, \"52\": 2, \"36\": 3, \"46\": 5, \"8\": 5, \"45\": 3, \"50\": 4, \"17\": 1, \"6\": 1, \"27\": 1, \"20\": 2, \"2\": 2, \"12\": 2, \"42\": 1, \"26\": 1, \"51\": 2}, \"39\": {\"32\": 2, \"39\": 8, \"23\": 5, \"12\": 1, \"49\": 2, \"52\": 1, \"27\": 1, \"41\": 3, \"28\": 1, \"16\": 2, \"48\": 2}, \"45\": {\"3\": 5, \"45\": 86, \"50\": 6, \"21\": 3, \"25\": 4, \"44\": 4, \"6\": 1, \"19\": 8, \"46\": 3, \"47\": 1, \"42\": 1, \"37\": 1, \"1\": 1, \"9\": 2, \"4\": 1, \"51\": 1}, \"50\": {\"12\": 13, \"50\": 24, \"3\": 4, \"34\": 2, \"33\": 1, \"8\": 8, \"2\": 1, \"36\": 7, \"42\": 1, \"6\": 2, \"7\": 1, \"51\": 15, \"45\": 4, \"54\": 8, \"53\": 13, \"44\": 2, \"46\": 3, \"20\": 10, \"25\": 5, \"48\": 1, \"27\": 1, \"21\": 2, \"26\": 3, \"18\": 1, \"17\": 2, \"40\": 1, \"15\": 1}, \"40\": {\"40\": 96, \"45\": 12, \"35\": 9, \"31\": 3, \"42\": 3, \"50\": 1, \"55\": 5, \"44\": 4, \"19\": 4, \"13\": 1, \"29\": 2}, \"46\": {\"46\": 42, \"9\": 4, \"3\": 8, \"31\": 2, \"48\": 1, \"50\": 11, \"10\": 2, \"7\": 1, \"13\": 3, \"4\": 2, \"44\": 7, \"43\": 2, \"20\": 4, \"55\": 2, \"53\": 5, \"23\": 1, \"19\": 2, \"25\": 9, \"6\": 4, \"1\": 1, \"45\": 2, \"38\": 1, \"51\": 2, \"21\": 4, \"29\": 2, \"40\": 4}, \"12\": {\"12\": 23, \"36\": 8, \"20\": 3, \"48\": 4, \"27\": 6, \"41\": 1, \"51\": 7, \"54\": 9, \"50\": 5, \"21\": 2, \"30\": 2, \"57\": 1, \"17\": 5, \"6\": 6, \"53\": 1, \"8\": 7, \"52\": 1, \"45\": 1}, \"13\": {\"13\": 116}, \"47\": {\"50\": 2, \"29\": 11, \"57\": 11, \"49\": 1, \"5\": 8, \"23\": 4, \"47\": 60, \"18\": 3, \"1\": 8, \"17\": 2, \"52\": 2, \"48\": 7, \"15\": 4, \"30\": 1, \"6\": 1, \"3\": 3, \"9\": 1, \"20\": 1, \"4\": 1, \"8\": 1}, \"15\": {\"15\": 133, \"16\": 8, \"52\": 1}, \"54\": {\"48\": 7, \"53\": 8, \"54\": 37, \"30\": 9, \"50\": 4, \"52\": 5, \"28\": 1, \"6\": 5, \"17\": 3, \"8\": 9, \"36\": 7, \"12\": 3, \"23\": 4, \"51\": 1, \"18\": 2, \"57\": 2, \"20\": 1}, \"48\": {\"48\": 120, \"23\": 2, \"36\": 3, \"17\": 13, \"28\": 2, \"54\": 2, \"27\": 3, \"8\": 1, \"15\": 2}, \"23\": {\"23\": 142}, \"29\": {\"39\": 1, \"29\": 61, \"57\": 17, \"19\": 5, \"33\": 1, \"50\": 2, \"32\": 2, \"0\": 3, \"9\": 3, \"47\": 6, \"1\": 2, \"48\": 7, \"5\": 4, \"6\": 1, \"4\": 1, \"17\": 5, \"18\": 1, \"16\": 1, \"27\": 2, \"23\": 1, \"46\": 1, \"30\": 1}, \"38\": {\"38\": 20}, \"53\": {\"53\": 91, \"8\": 11, \"12\": 4, \"36\": 3, \"54\": 4, \"50\": 6, \"21\": 2, \"51\": 9, \"20\": 6}, \"27\": {\"27\": 140, \"48\": 1, \"57\": 2, \"6\": 1, \"32\": 1, \"49\": 1, \"17\": 3, \"12\": 1}, \"43\": {\"43\": 138, \"46\": 2, \"24\": 2, \"55\": 1, \"47\": 1}, \"35\": {\"35\": 30, \"40\": 2}, \"0\": {\"57\": 2, \"52\": 3, \"0\": 30, \"16\": 3, \"23\": 2, \"6\": 1, \"30\": 1, \"48\": 3, \"17\": 2, \"15\": 1}, \"52\": {\"52\": 117, \"23\": 3, \"43\": 1, \"30\": 1, \"16\": 1, \"18\": 1}, \"8\": {\"57\": 3, \"52\": 3, \"30\": 8, \"8\": 63, \"54\": 12, \"27\": 13, \"50\": 3, \"48\": 8, \"17\": 3, \"6\": 1, \"51\": 1, \"53\": 2, \"36\": 1, \"20\": 1, \"18\": 2, \"12\": 4}, \"24\": {\"10\": 10, \"24\": 82, \"56\": 1, \"43\": 3}, \"18\": {\"18\": 48}, \"25\": {\"57\": 5, \"31\": 1, \"25\": 49, \"51\": 17, \"26\": 2, \"49\": 2, \"54\": 3, \"45\": 11, \"21\": 4, \"27\": 4, \"12\": 4, \"52\": 2, \"23\": 1, \"8\": 1, \"0\": 1, \"20\": 5, \"9\": 2, \"46\": 7, \"3\": 2, \"53\": 1, \"5\": 1, \"4\": 2, \"36\": 8, \"19\": 1, \"6\": 5, \"42\": 2, \"32\": 1, \"34\": 1, \"50\": 1, \"17\": 1, \"48\": 1}, \"57\": {\"57\": 83, \"32\": 1, \"17\": 19, \"16\": 2, \"0\": 2, \"52\": 4, \"48\": 18, \"30\": 2, \"6\": 3, \"18\": 1, \"27\": 1}, \"55\": {\"55\": 130, \"24\": 1, \"44\": 1, \"13\": 1, \"14\": 1}, \"36\": {\"2\": 1, \"32\": 1, \"48\": 10, \"12\": 9, \"34\": 1, \"17\": 3, \"36\": 59, \"53\": 3, \"54\": 10, \"8\": 9, \"52\": 1, \"51\": 1, \"30\": 2, \"41\": 2, \"39\": 1, \"6\": 1, \"18\": 1, \"27\": 1}, \"17\": {\"17\": 101, \"53\": 1, \"48\": 1, \"50\": 1}, \"2\": {\"3\": 6, \"2\": 15, \"26\": 2, \"34\": 2, \"21\": 1, \"53\": 2, \"36\": 1, \"8\": 1, \"20\": 1, \"12\": 1}, \"34\": {\"32\": 3, \"34\": 17, \"48\": 1, \"39\": 1, \"28\": 3, \"49\": 2, \"26\": 1}, \"1\": {\"57\": 8, \"29\": 3, \"51\": 1, \"1\": 59, \"21\": 1, \"25\": 1, \"52\": 1, \"0\": 4, \"17\": 5, \"19\": 2, \"48\": 6, \"5\": 6, \"46\": 4, \"30\": 1, \"39\": 2, \"41\": 1, \"50\": 2, \"3\": 1, \"27\": 1, \"43\": 1, \"6\": 1, \"47\": 1}, \"51\": {\"20\": 13, \"51\": 85, \"32\": 1, \"53\": 10, \"28\": 1, \"12\": 4, \"50\": 2, \"30\": 1, \"8\": 3, \"27\": 8, \"21\": 1, \"48\": 1, \"6\": 1, \"26\": 1, \"54\": 1, \"17\": 1, \"36\": 1, \"25\": 1}, \"31\": {\"31\": 26, \"33\": 2}, \"49\": {\"49\": 17, \"41\": 2, \"27\": 4, \"32\": 1}, \"14\": {\"31\": 1, \"35\": 3, \"14\": 7, \"43\": 1, \"56\": 1, \"22\": 1, \"44\": 1, \"24\": 3, \"42\": 1, \"55\": 3, \"10\": 1, \"38\": 1}, \"33\": {\"33\": 26, \"19\": 1, \"29\": 1}, \"41\": {\"41\": 20}, \"28\": {\"28\": 19, \"41\": 1, \"23\": 4, \"10\": 1, \"49\": 2, \"24\": 1}, \"5\": {\"23\": 7, \"5\": 38, \"29\": 5, \"47\": 9, \"28\": 3, \"16\": 4, \"0\": 3, \"6\": 3, \"52\": 2, \"7\": 1, \"48\": 8, \"9\": 3, \"1\": 9, \"44\": 1, \"46\": 1, \"19\": 3, \"4\": 2, \"57\": 7, \"43\": 1, \"49\": 2, \"31\": 1, \"15\": 2, \"18\": 1, \"25\": 2, \"27\": 1, \"50\": 1}, \"16\": {\"16\": 141, \"23\": 4, \"52\": 1, \"15\": 4}, \"4\": {\"4\": 60, \"34\": 2, \"9\": 17, \"54\": 1, \"17\": 1, \"50\": 4, \"30\": 1, \"29\": 2, \"6\": 2, \"51\": 2, \"36\": 10, \"48\": 4, \"46\": 1, \"57\": 8, \"21\": 2, \"53\": 1, \"8\": 2, \"2\": 2, \"32\": 1, \"3\": 1, \"0\": 1, \"20\": 1, \"27\": 1, \"45\": 1}, \"22\": {\"22\": 101, \"14\": 2, \"56\": 30, \"55\": 1, \"13\": 1, \"24\": 1}, \"6\": {\"3\": 1, \"2\": 1, \"0\": 3, \"30\": 10, \"6\": 14, \"34\": 1, \"36\": 10, \"41\": 2, \"49\": 1, \"39\": 1, \"18\": 7, \"50\": 4, \"17\": 6, \"51\": 3, \"52\": 4, \"8\": 7, \"48\": 11, \"12\": 5, \"4\": 2, \"45\": 3, \"16\": 3, \"57\": 1, \"46\": 2, \"31\": 1, \"33\": 1, \"27\": 2, \"7\": 1, \"23\": 3, \"53\": 2, \"20\": 2, \"25\": 3, \"54\": 1}, \"30\": {\"30\": 124}, \"26\": {\"12\": 2, \"26\": 14, \"27\": 2, \"53\": 1, \"54\": 1, \"17\": 1, \"51\": 3}, \"56\": {\"56\": 117, \"22\": 24, \"24\": 1}, \"42\": {\"42\": 29, \"31\": 2, \"5\": 1, \"19\": 2, \"1\": 1, \"46\": 1}, \"44\": {\"44\": 71, \"14\": 1, \"33\": 1, \"55\": 4, \"40\": 7, \"45\": 3, \"9\": 1, \"19\": 5, \"37\": 1, \"35\": 2, \"7\": 1, \"25\": 1, \"4\": 1, \"29\": 1}, \"7\": {\"1\": 1, \"7\": 23, \"19\": 1, \"29\": 1, \"50\": 1, \"5\": 3, \"36\": 1, \"46\": 1, \"6\": 1, \"27\": 2, \"0\": 1}}}, \"per_domain_accuracy\": {\"O_26\": {\"accuracy\": 0.7799479166666666, \"source?\": true}, \"O_44\": {\"accuracy\": 0.7825520833333334, \"source?\": true}, \"O_50\": {\"accuracy\": 0.9015625, \"source?\": true}, \"O_38\": {\"accuracy\": 0.91484375, \"source?\": true}, \"O_20\": {\"accuracy\": 0.8768229166666667, \"source?\": true}, \"O_14\": {\"accuracy\": 0.93046875, \"source?\": true}, \"O_32\": {\"accuracy\": 0.9049479166666666, \"source?\": true}, \"O_8\": {\"accuracy\": 0.9010416666666666, \"source?\": true}, \"C_5\": {\"accuracy\": 0.6883729050279329, \"source?\": false}, \"C_1\": {\"accuracy\": 0.7663043478260869, \"source?\": false}, \"C_3\": {\"accuracy\": 0.6522058823529412, \"source?\": false}, \"C_4\": {\"accuracy\": 0.6658509036144579, \"source?\": false}, \"C_2\": {\"accuracy\": 0.6645951704545454, \"source?\": false}}}, \"history\": {\"epoch_indices\": [1, 2, 3, 4, 5, 6, 7, 8, 9, 10, 11, 12, 13, 14, 15], \"train_label_loss\": [0.983614425649423, 0.9145176537534488, 0.6344270791115594, 0.5493435594297591, 0.4889218819893098, 0.4528003064172697, 0.418768060413034, 0.38627733623060134, 0.35069717768291453, 0.3141845065266049, 0.29132310956629226, 0.28055802381963335, 0.2645918192464576, 0.2410636510194828, 0.23013147398468434], \"source_val_label_loss\": [7.659168720245361, 0.7919127941131592, 0.6635648012161255, 0.5483983755111694, 0.5190646052360535, 0.4772810935974121, 0.4146806299686432, 0.460190087556839, 0.368272989988327, 0.38526907563209534, 0.34438151121139526, 0.3711033761501312, 0.3444364666938782, 0.38692760467529297, 0.32535797357559204], \"target_val_label_loss\": [1873.60009765625, 99.2762680053711, 98.14962768554688, 94.38380432128906, 133.38763427734375, 117.47941589355469, 141.3196258544922, 153.40724182128906, 175.731689453125, 163.71578979492188, 174.21096801757812, 220.93814086914062, 233.9906463623047, 273.3084716796875, 381.720703125], \"source_val_acc_label\": [0.6646809895833333, 0.7064453125, 0.7526041666666666, 0.8000651041666667, 0.8118489583333334, 0.8271158854166667, 0.8505208333333333, 0.8305989583333333, 0.8664713541666667, 0.8618815104166667, 0.8740234375, 0.8659830729166667, 0.875390625, 0.8624674479166666, 0.88310546875], \"target_val_acc_label\": [0.405, 0.6568928571428572, 0.6710357142857143, 0.6779642857142857, 0.6593214285714286, 0.6723214285714286, 0.6801428571428572, 0.6748214285714286, 0.6742142857142858, 0.6817857142857143, 0.6886785714285715, 0.6726071428571428, 0.6855714285714286, 0.6765, 0.6545714285714286]}, \"dataset_metrics\": {\"source\": {\"train\": {\"n_unique_x\": 179200, \"n_unique_y\": 16, \"n_batch/episode\": 6720}, \"val\": {\"n_unique_x\": 38400, \"n_unique_y\": 16, \"n_batch/episode\": 960}, \"test\": {\"n_unique_x\": 38400, \"n_unique_y\": 16, \"n_batch/episode\": 960}}, \"target\": {\"train\": {\"n_unique_x\": 175203, \"n_unique_y\": 58, \"n_batch/episode\": 6321}, \"val\": {\"n_unique_x\": 37151, \"n_unique_y\": 58, \"n_batch/episode\": 875}, \"test\": {\"n_unique_x\": 37548, \"n_unique_y\": 58, \"n_batch/episode\": 885}}}}'"
      ]
     },
     "execution_count": 29,
     "metadata": {},
     "output_type": "execute_result"
    }
   ],
   "source": [
    "json.dumps(experiment)"
   ]
  }
 ],
 "metadata": {
  "celltoolbar": "Tags",
  "kernelspec": {
   "display_name": "Python 3 (ipykernel)",
   "language": "python",
   "name": "python3"
  },
  "language_info": {
   "codemirror_mode": {
    "name": "ipython",
    "version": 3
   },
   "file_extension": ".py",
   "mimetype": "text/x-python",
   "name": "python",
   "nbconvert_exporter": "python",
   "pygments_lexer": "ipython3",
   "version": "3.8.10"
  },
  "papermill": {
   "default_parameters": {},
   "duration": 2607.496123,
   "end_time": "2022-03-25T13:03:10.891127",
   "environment_variables": {},
   "exception": null,
   "input_path": "/mnt/wd500GB/CSC500/csc500-main/csc500-notebooks/templates/tl_ptn_template.ipynb",
   "output_path": "trial.ipynb",
   "parameters": {
    "parameters": {
     "BEST_MODEL_PATH": "./best_model.pth",
     "NUM_LOGS_PER_EPOCH": 10,
     "criteria_for_best": "target_accuracy",
     "dataset_seed": 7,
     "datasets": [
      {
       "domain_prefix": "C_",
       "domains": [
        1,
        2,
        3,
        4,
        5
       ],
       "episode_transforms": [],
       "labels": [
        "1-10.",
        "1-11.",
        "1-15.",
        "1-16.",
        "1-17.",
        "1-18.",
        "1-19.",
        "10-4.",
        "10-7.",
        "11-1.",
        "11-14.",
        "11-17.",
        "11-20.",
        "11-7.",
        "13-20.",
        "13-8.",
        "14-10.",
        "14-11.",
        "14-14.",
        "14-7.",
        "15-1.",
        "15-20.",
        "16-1.",
        "16-16.",
        "17-10.",
        "17-11.",
        "17-2.",
        "19-1.",
        "19-16.",
        "19-19.",
        "19-20.",
        "19-3.",
        "2-10.",
        "2-11.",
        "2-17.",
        "2-18.",
        "2-20.",
        "2-3.",
        "2-4.",
        "2-5.",
        "2-6.",
        "2-7.",
        "2-8.",
        "3-13.",
        "3-18.",
        "3-3.",
        "4-1.",
        "4-10.",
        "4-11.",
        "4-19.",
        "5-5.",
        "6-15.",
        "7-10.",
        "7-14.",
        "8-18.",
        "8-20.",
        "8-3.",
        "8-8."
       ],
       "num_examples_per_domain_per_label": -1,
       "pickle_path": "/mnt/wd500GB/CSC500/csc500-main/datasets/cores.stratified_ds.2022A.pkl",
       "source_or_target_dataset": "target",
       "x_transforms": [
        "unit_mag",
        "take_200"
       ]
      },
      {
       "domain_prefix": "O_",
       "domains": [
        32,
        38,
        8,
        44,
        14,
        50,
        20,
        26
       ],
       "episode_transforms": [],
       "labels": [
        "3123D52",
        "3123D65",
        "3123D79",
        "3123D80",
        "3123D54",
        "3123D70",
        "3123D7B",
        "3123D89",
        "3123D58",
        "3123D76",
        "3123D7D",
        "3123EFE",
        "3123D64",
        "3123D78",
        "3123D7E",
        "3124E4A"
       ],
       "num_examples_per_domain_per_label": 2000,
       "pickle_path": "/mnt/wd500GB/CSC500/csc500-main/datasets/oracle.Run1_framed_2000Examples_stratified_ds.2022A.pkl",
       "source_or_target_dataset": "source",
       "x_transforms": [
        "unit_mag",
        "take_200",
        "resample_20Msps_to_25Msps"
       ]
      }
     ],
     "device": "cuda",
     "experiment_name": "tl_3Av2:oracle.run1.framed -> cores",
     "lr": 0.0001,
     "n_epoch": 50,
     "n_query": 2,
     "n_shot": 3,
     "n_way": 16,
     "patience": 3,
     "seed": 7,
     "test_k_factor": 2,
     "torch_default_dtype": "torch.float32",
     "train_k_factor": 3,
     "val_k_factor": 2,
     "x_net": [
      {
       "class": "nnReshape",
       "kargs": {
        "shape": [
         -1,
         1,
         2,
         200
        ]
       }
      },
      {
       "class": "Conv2d",
       "kargs": {
        "bias": false,
        "in_channels": 1,
        "kernel_size": [
         1,
         7
        ],
        "out_channels": 256,
        "padding": [
         0,
         3
        ]
       }
      },
      {
       "class": "ReLU",
       "kargs": {
        "inplace": true
       }
      },
      {
       "class": "BatchNorm2d",
       "kargs": {
        "num_features": 256
       }
      },
      {
       "class": "Conv2d",
       "kargs": {
        "bias": true,
        "in_channels": 256,
        "kernel_size": [
         2,
         7
        ],
        "out_channels": 80,
        "padding": [
         0,
         3
        ]
       }
      },
      {
       "class": "ReLU",
       "kargs": {
        "inplace": true
       }
      },
      {
       "class": "BatchNorm2d",
       "kargs": {
        "num_features": 80
       }
      },
      {
       "class": "Flatten",
       "kargs": {}
      },
      {
       "class": "Linear",
       "kargs": {
        "in_features": 16000,
        "out_features": 256
       }
      },
      {
       "class": "ReLU",
       "kargs": {
        "inplace": true
       }
      },
      {
       "class": "BatchNorm1d",
       "kargs": {
        "num_features": 256
       }
      },
      {
       "class": "Linear",
       "kargs": {
        "in_features": 256,
        "out_features": 256
       }
      }
     ],
     "x_shape": [
      2,
      200
     ]
    }
   },
   "start_time": "2022-03-25T12:19:43.395004",
   "version": "2.3.4"
  }
 },
 "nbformat": 4,
 "nbformat_minor": 5
}