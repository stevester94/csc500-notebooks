{
 "cells": [
  {
   "cell_type": "markdown",
   "id": "9fea5f46",
   "metadata": {
    "papermill": {
     "duration": 0.029617,
     "end_time": "2022-03-26T22:08:07.695201",
     "exception": false,
     "start_time": "2022-03-26T22:08:07.665584",
     "status": "completed"
    },
    "tags": []
   },
   "source": [
    "# Transfer Learning Template"
   ]
  },
  {
   "cell_type": "code",
   "execution_count": 1,
   "id": "0902182a",
   "metadata": {
    "execution": {
     "iopub.execute_input": "2022-03-26T22:08:07.757772Z",
     "iopub.status.busy": "2022-03-26T22:08:07.756887Z",
     "iopub.status.idle": "2022-03-26T22:08:09.537418Z",
     "shell.execute_reply": "2022-03-26T22:08:09.536509Z"
    },
    "papermill": {
     "duration": 1.818909,
     "end_time": "2022-03-26T22:08:09.537624",
     "exception": false,
     "start_time": "2022-03-26T22:08:07.718715",
     "status": "completed"
    },
    "tags": []
   },
   "outputs": [],
   "source": [
    "%load_ext autoreload\n",
    "%autoreload 2\n",
    "%matplotlib inline\n",
    "\n",
    "    \n",
    "import os, json, sys, time, random\n",
    "import numpy as np\n",
    "import torch\n",
    "from torch.optim import Adam\n",
    "from  easydict import EasyDict\n",
    "import matplotlib.pyplot as plt\n",
    "\n",
    "from steves_models.steves_ptn import Steves_Prototypical_Network\n",
    "\n",
    "from steves_utils.lazy_iterable_wrapper import Lazy_Iterable_Wrapper\n",
    "from steves_utils.iterable_aggregator import Iterable_Aggregator\n",
    "from steves_utils.ptn_train_eval_test_jig import  PTN_Train_Eval_Test_Jig\n",
    "from steves_utils.torch_sequential_builder import build_sequential\n",
    "from steves_utils.torch_utils import get_dataset_metrics, ptn_confusion_by_domain_over_dataloader\n",
    "from steves_utils.utils_v2 import (per_domain_accuracy_from_confusion, get_datasets_base_path)\n",
    "from steves_utils.PTN.utils import independent_accuracy_assesment\n",
    "\n",
    "from torch.utils.data import DataLoader\n",
    "\n",
    "from steves_utils.stratified_dataset.episodic_accessor import Episodic_Accessor_Factory\n",
    "\n",
    "from steves_utils.ptn_do_report import (\n",
    "    get_loss_curve,\n",
    "    get_results_table,\n",
    "    get_parameters_table,\n",
    "    get_domain_accuracies,\n",
    ")\n",
    "\n",
    "from steves_utils.transforms import get_chained_transform"
   ]
  },
  {
   "cell_type": "markdown",
   "id": "41c840b4",
   "metadata": {
    "papermill": {
     "duration": 0.019574,
     "end_time": "2022-03-26T22:08:09.585385",
     "exception": false,
     "start_time": "2022-03-26T22:08:09.565811",
     "status": "completed"
    },
    "tags": []
   },
   "source": [
    "# Allowed Parameters\n",
    "These are allowed parameters, not defaults\n",
    "Each of these values need to be present in the injected parameters (the notebook will raise an exception if they are not present)\n",
    "\n",
    "Papermill uses the cell tag \"parameters\" to inject the real parameters below this cell.\n",
    "Enable tags to see what I mean"
   ]
  },
  {
   "cell_type": "code",
   "execution_count": 2,
   "id": "fd44eb83",
   "metadata": {
    "execution": {
     "iopub.execute_input": "2022-03-26T22:08:09.630471Z",
     "iopub.status.busy": "2022-03-26T22:08:09.630086Z",
     "iopub.status.idle": "2022-03-26T22:08:09.652345Z",
     "shell.execute_reply": "2022-03-26T22:08:09.652998Z"
    },
    "papermill": {
     "duration": 0.048034,
     "end_time": "2022-03-26T22:08:09.653185",
     "exception": false,
     "start_time": "2022-03-26T22:08:09.605151",
     "status": "completed"
    },
    "tags": []
   },
   "outputs": [],
   "source": [
    "required_parameters = {\n",
    "    \"experiment_name\",\n",
    "    \"lr\",\n",
    "    \"device\",\n",
    "    \"seed\",\n",
    "    \"dataset_seed\",\n",
    "    \"n_shot\",\n",
    "    \"n_query\",\n",
    "    \"n_way\",\n",
    "    \"train_k_factor\",\n",
    "    \"val_k_factor\",\n",
    "    \"test_k_factor\",\n",
    "    \"n_epoch\",\n",
    "    \"patience\",\n",
    "    \"criteria_for_best\",\n",
    "    \"x_net\",\n",
    "    \"datasets\",\n",
    "    \"torch_default_dtype\",\n",
    "    \"NUM_LOGS_PER_EPOCH\",\n",
    "    \"BEST_MODEL_PATH\",\n",
    "    \"x_shape\",\n",
    "}"
   ]
  },
  {
   "cell_type": "code",
   "execution_count": 3,
   "id": "fa3f0049",
   "metadata": {
    "execution": {
     "iopub.execute_input": "2022-03-26T22:08:09.716104Z",
     "iopub.status.busy": "2022-03-26T22:08:09.715391Z",
     "iopub.status.idle": "2022-03-26T22:08:09.736838Z",
     "shell.execute_reply": "2022-03-26T22:08:09.736118Z"
    },
    "papermill": {
     "duration": 0.055657,
     "end_time": "2022-03-26T22:08:09.736992",
     "exception": false,
     "start_time": "2022-03-26T22:08:09.681335",
     "status": "completed"
    },
    "tags": [
     "parameters"
    ]
   },
   "outputs": [],
   "source": [
    "from steves_utils.CORES.utils import (\n",
    "    ALL_NODES,\n",
    "    ALL_NODES_MINIMUM_1000_EXAMPLES,\n",
    "    ALL_DAYS\n",
    ")\n",
    "\n",
    "from steves_utils.ORACLE.utils_v2 import (\n",
    "    ALL_DISTANCES_FEET_NARROWED,\n",
    "    ALL_RUNS,\n",
    "    ALL_SERIAL_NUMBERS,\n",
    ")\n",
    "\n",
    "standalone_parameters = {}\n",
    "standalone_parameters[\"experiment_name\"] = \"STANDALONE PTN\"\n",
    "standalone_parameters[\"lr\"] = 0.001\n",
    "standalone_parameters[\"device\"] = \"cuda\"\n",
    "\n",
    "standalone_parameters[\"seed\"] = 1337\n",
    "standalone_parameters[\"dataset_seed\"] = 1337\n",
    "\n",
    "standalone_parameters[\"n_way\"] = 8\n",
    "standalone_parameters[\"n_shot\"] = 3\n",
    "standalone_parameters[\"n_query\"]  = 2\n",
    "standalone_parameters[\"train_k_factor\"] = 1\n",
    "standalone_parameters[\"val_k_factor\"] = 2\n",
    "standalone_parameters[\"test_k_factor\"] = 2\n",
    "\n",
    "\n",
    "standalone_parameters[\"n_epoch\"] = 50\n",
    "\n",
    "standalone_parameters[\"patience\"] = 10\n",
    "standalone_parameters[\"criteria_for_best\"] = \"source_loss\"\n",
    "\n",
    "standalone_parameters[\"datasets\"] = [\n",
    "    {\n",
    "        \"labels\": ALL_SERIAL_NUMBERS,\n",
    "        \"domains\": ALL_DISTANCES_FEET_NARROWED,\n",
    "        \"num_examples_per_domain_per_label\": 100,\n",
    "        \"pickle_path\": os.path.join(get_datasets_base_path(), \"oracle.Run1_framed_2000Examples_stratified_ds.2022A.pkl\"),\n",
    "        \"source_or_target_dataset\": \"source\",\n",
    "        \"x_transforms\": [\"unit_mag\", \"minus_two\"],\n",
    "        \"episode_transforms\": [],\n",
    "        \"domain_prefix\": \"ORACLE_\"\n",
    "    },\n",
    "    {\n",
    "        \"labels\": ALL_NODES,\n",
    "        \"domains\": ALL_DAYS,\n",
    "        \"num_examples_per_domain_per_label\": 100,\n",
    "        \"pickle_path\": os.path.join(get_datasets_base_path(), \"cores.stratified_ds.2022A.pkl\"),\n",
    "        \"source_or_target_dataset\": \"target\",\n",
    "        \"x_transforms\": [\"unit_power\", \"times_zero\"],\n",
    "        \"episode_transforms\": [],\n",
    "        \"domain_prefix\": \"CORES_\"\n",
    "    }   \n",
    "]\n",
    "\n",
    "standalone_parameters[\"torch_default_dtype\"] = \"torch.float32\" \n",
    "\n",
    "\n",
    "\n",
    "standalone_parameters[\"x_net\"] =     [\n",
    "    {\"class\": \"nnReshape\", \"kargs\": {\"shape\":[-1, 1, 2, 256]}},\n",
    "    {\"class\": \"Conv2d\", \"kargs\": { \"in_channels\":1, \"out_channels\":256, \"kernel_size\":(1,7), \"bias\":False, \"padding\":(0,3), },},\n",
    "    {\"class\": \"ReLU\", \"kargs\": {\"inplace\": True}},\n",
    "    {\"class\": \"BatchNorm2d\", \"kargs\": {\"num_features\":256}},\n",
    "\n",
    "    {\"class\": \"Conv2d\", \"kargs\": { \"in_channels\":256, \"out_channels\":80, \"kernel_size\":(2,7), \"bias\":True, \"padding\":(0,3), },},\n",
    "    {\"class\": \"ReLU\", \"kargs\": {\"inplace\": True}},\n",
    "    {\"class\": \"BatchNorm2d\", \"kargs\": {\"num_features\":80}},\n",
    "    {\"class\": \"Flatten\", \"kargs\": {}},\n",
    "\n",
    "    {\"class\": \"Linear\", \"kargs\": {\"in_features\": 80*256, \"out_features\": 256}}, # 80 units per IQ pair\n",
    "    {\"class\": \"ReLU\", \"kargs\": {\"inplace\": True}},\n",
    "    {\"class\": \"BatchNorm1d\", \"kargs\": {\"num_features\":256}},\n",
    "\n",
    "    {\"class\": \"Linear\", \"kargs\": {\"in_features\": 256, \"out_features\": 256}},\n",
    "]\n",
    "\n",
    "# Parameters relevant to results\n",
    "# These parameters will basically never need to change\n",
    "standalone_parameters[\"NUM_LOGS_PER_EPOCH\"] = 10\n",
    "standalone_parameters[\"BEST_MODEL_PATH\"] = \"./best_model.pth\"\n",
    "\n",
    "\n",
    "\n",
    "\n"
   ]
  },
  {
   "cell_type": "code",
   "execution_count": 4,
   "id": "0bb0e7c9",
   "metadata": {
    "execution": {
     "iopub.execute_input": "2022-03-26T22:08:09.800421Z",
     "iopub.status.busy": "2022-03-26T22:08:09.787031Z",
     "iopub.status.idle": "2022-03-26T22:08:09.820758Z",
     "shell.execute_reply": "2022-03-26T22:08:09.820053Z"
    },
    "papermill": {
     "duration": 0.055643,
     "end_time": "2022-03-26T22:08:09.820910",
     "exception": false,
     "start_time": "2022-03-26T22:08:09.765267",
     "status": "completed"
    },
    "tags": [
     "injected-parameters"
    ]
   },
   "outputs": [],
   "source": [
    "# Parameters\n",
    "parameters = {\n",
    "    \"experiment_name\": \"tl_3-filterv2:oracle.run1.framed -> cores\",\n",
    "    \"device\": \"cuda\",\n",
    "    \"lr\": 0.0001,\n",
    "    \"x_shape\": [2, 200],\n",
    "    \"n_shot\": 3,\n",
    "    \"n_query\": 2,\n",
    "    \"train_k_factor\": 3,\n",
    "    \"val_k_factor\": 2,\n",
    "    \"test_k_factor\": 2,\n",
    "    \"torch_default_dtype\": \"torch.float32\",\n",
    "    \"n_epoch\": 50,\n",
    "    \"patience\": 3,\n",
    "    \"criteria_for_best\": \"target_accuracy\",\n",
    "    \"x_net\": [\n",
    "        {\"class\": \"nnReshape\", \"kargs\": {\"shape\": [-1, 1, 2, 200]}},\n",
    "        {\n",
    "            \"class\": \"Conv2d\",\n",
    "            \"kargs\": {\n",
    "                \"in_channels\": 1,\n",
    "                \"out_channels\": 256,\n",
    "                \"kernel_size\": [1, 7],\n",
    "                \"bias\": False,\n",
    "                \"padding\": [0, 3],\n",
    "            },\n",
    "        },\n",
    "        {\"class\": \"ReLU\", \"kargs\": {\"inplace\": True}},\n",
    "        {\"class\": \"BatchNorm2d\", \"kargs\": {\"num_features\": 256}},\n",
    "        {\n",
    "            \"class\": \"Conv2d\",\n",
    "            \"kargs\": {\n",
    "                \"in_channels\": 256,\n",
    "                \"out_channels\": 80,\n",
    "                \"kernel_size\": [2, 7],\n",
    "                \"bias\": True,\n",
    "                \"padding\": [0, 3],\n",
    "            },\n",
    "        },\n",
    "        {\"class\": \"ReLU\", \"kargs\": {\"inplace\": True}},\n",
    "        {\"class\": \"BatchNorm2d\", \"kargs\": {\"num_features\": 80}},\n",
    "        {\"class\": \"Flatten\", \"kargs\": {}},\n",
    "        {\"class\": \"Linear\", \"kargs\": {\"in_features\": 16000, \"out_features\": 256}},\n",
    "        {\"class\": \"ReLU\", \"kargs\": {\"inplace\": True}},\n",
    "        {\"class\": \"BatchNorm1d\", \"kargs\": {\"num_features\": 256}},\n",
    "        {\"class\": \"Linear\", \"kargs\": {\"in_features\": 256, \"out_features\": 256}},\n",
    "    ],\n",
    "    \"NUM_LOGS_PER_EPOCH\": 10,\n",
    "    \"BEST_MODEL_PATH\": \"./best_model.pth\",\n",
    "    \"n_way\": 16,\n",
    "    \"datasets\": [\n",
    "        {\n",
    "            \"labels\": [\n",
    "                \"1-10.\",\n",
    "                \"1-11.\",\n",
    "                \"1-15.\",\n",
    "                \"1-16.\",\n",
    "                \"1-17.\",\n",
    "                \"1-18.\",\n",
    "                \"1-19.\",\n",
    "                \"10-4.\",\n",
    "                \"10-7.\",\n",
    "                \"11-1.\",\n",
    "                \"11-14.\",\n",
    "                \"11-17.\",\n",
    "                \"11-20.\",\n",
    "                \"11-7.\",\n",
    "                \"13-20.\",\n",
    "                \"13-8.\",\n",
    "                \"14-10.\",\n",
    "                \"14-11.\",\n",
    "                \"14-14.\",\n",
    "                \"14-7.\",\n",
    "                \"15-1.\",\n",
    "                \"15-20.\",\n",
    "                \"16-1.\",\n",
    "                \"16-16.\",\n",
    "                \"17-10.\",\n",
    "                \"17-11.\",\n",
    "                \"17-2.\",\n",
    "                \"19-1.\",\n",
    "                \"19-16.\",\n",
    "                \"19-19.\",\n",
    "                \"19-20.\",\n",
    "                \"19-3.\",\n",
    "                \"2-10.\",\n",
    "                \"2-11.\",\n",
    "                \"2-17.\",\n",
    "                \"2-18.\",\n",
    "                \"2-20.\",\n",
    "                \"2-3.\",\n",
    "                \"2-4.\",\n",
    "                \"2-5.\",\n",
    "                \"2-6.\",\n",
    "                \"2-7.\",\n",
    "                \"2-8.\",\n",
    "                \"3-13.\",\n",
    "                \"3-18.\",\n",
    "                \"3-3.\",\n",
    "                \"4-1.\",\n",
    "                \"4-10.\",\n",
    "                \"4-11.\",\n",
    "                \"4-19.\",\n",
    "                \"5-5.\",\n",
    "                \"6-15.\",\n",
    "                \"7-10.\",\n",
    "                \"7-14.\",\n",
    "                \"8-18.\",\n",
    "                \"8-20.\",\n",
    "                \"8-3.\",\n",
    "                \"8-8.\",\n",
    "            ],\n",
    "            \"domains\": [1, 2, 3, 4, 5],\n",
    "            \"num_examples_per_domain_per_label\": -1,\n",
    "            \"pickle_path\": \"/root/csc500-main/datasets/cores.stratified_ds.2022A.pkl\",\n",
    "            \"source_or_target_dataset\": \"target\",\n",
    "            \"x_transforms\": [\"unit_power\", \"lowpass_+/-10MHz\", \"take_200\"],\n",
    "            \"episode_transforms\": [],\n",
    "            \"domain_prefix\": \"C_\",\n",
    "        },\n",
    "        {\n",
    "            \"labels\": [\n",
    "                \"3123D52\",\n",
    "                \"3123D65\",\n",
    "                \"3123D79\",\n",
    "                \"3123D80\",\n",
    "                \"3123D54\",\n",
    "                \"3123D70\",\n",
    "                \"3123D7B\",\n",
    "                \"3123D89\",\n",
    "                \"3123D58\",\n",
    "                \"3123D76\",\n",
    "                \"3123D7D\",\n",
    "                \"3123EFE\",\n",
    "                \"3123D64\",\n",
    "                \"3123D78\",\n",
    "                \"3123D7E\",\n",
    "                \"3124E4A\",\n",
    "            ],\n",
    "            \"domains\": [32, 38, 8, 44, 14, 50, 20, 26],\n",
    "            \"num_examples_per_domain_per_label\": 2000,\n",
    "            \"pickle_path\": \"/root/csc500-main/datasets/oracle.Run1_framed_2000Examples_stratified_ds.2022A.pkl\",\n",
    "            \"source_or_target_dataset\": \"source\",\n",
    "            \"x_transforms\": [\"unit_power\", \"take_200\", \"resample_20Msps_to_25Msps\"],\n",
    "            \"episode_transforms\": [],\n",
    "            \"domain_prefix\": \"O_\",\n",
    "        },\n",
    "    ],\n",
    "    \"seed\": 500,\n",
    "    \"dataset_seed\": 500,\n",
    "}\n"
   ]
  },
  {
   "cell_type": "code",
   "execution_count": 5,
   "id": "8fa1cc33",
   "metadata": {
    "execution": {
     "iopub.execute_input": "2022-03-26T22:08:09.873716Z",
     "iopub.status.busy": "2022-03-26T22:08:09.873137Z",
     "iopub.status.idle": "2022-03-26T22:08:09.892706Z",
     "shell.execute_reply": "2022-03-26T22:08:09.891991Z"
    },
    "papermill": {
     "duration": 0.044022,
     "end_time": "2022-03-26T22:08:09.892860",
     "exception": false,
     "start_time": "2022-03-26T22:08:09.848838",
     "status": "completed"
    },
    "tags": []
   },
   "outputs": [],
   "source": [
    "# Set this to True if you want to run this template directly\n",
    "STANDALONE = False\n",
    "if STANDALONE:\n",
    "    print(\"parameters not injected, running with standalone_parameters\")\n",
    "    parameters = standalone_parameters\n",
    "\n",
    "if not 'parameters' in locals() and not 'parameters' in globals():\n",
    "    raise Exception(\"Parameter injection failed\")\n",
    "\n",
    "#Use an easy dict for all the parameters\n",
    "p = EasyDict(parameters)\n",
    "\n",
    "if \"x_shape\" not in p:\n",
    "    p.x_shape = [2,256] # Default to this if we dont supply x_shape\n",
    "\n",
    "\n",
    "supplied_keys = set(p.keys())\n",
    "\n",
    "if  supplied_keys != required_parameters:\n",
    "    print(\"Parameters are incorrect\")\n",
    "    if len(supplied_keys - required_parameters)>0: print(\"Shouldn't have:\", str(supplied_keys - required_parameters))\n",
    "    if len(required_parameters - supplied_keys)>0: print(\"Need to have:\", str(required_parameters - supplied_keys))\n",
    "    raise RuntimeError(\"Parameters are incorrect\")"
   ]
  },
  {
   "cell_type": "code",
   "execution_count": 6,
   "id": "3a028d58",
   "metadata": {
    "execution": {
     "iopub.execute_input": "2022-03-26T22:08:09.944711Z",
     "iopub.status.busy": "2022-03-26T22:08:09.944140Z",
     "iopub.status.idle": "2022-03-26T22:08:09.969594Z",
     "shell.execute_reply": "2022-03-26T22:08:09.968857Z"
    },
    "papermill": {
     "duration": 0.050165,
     "end_time": "2022-03-26T22:08:09.969747",
     "exception": false,
     "start_time": "2022-03-26T22:08:09.919582",
     "status": "completed"
    },
    "tags": []
   },
   "outputs": [],
   "source": [
    "###################################\n",
    "# Set the RNGs and make it all deterministic\n",
    "###################################\n",
    "np.random.seed(p.seed)\n",
    "random.seed(p.seed)\n",
    "torch.manual_seed(p.seed)\n",
    "\n",
    "torch.use_deterministic_algorithms(True) "
   ]
  },
  {
   "cell_type": "code",
   "execution_count": 7,
   "id": "b691acf6",
   "metadata": {
    "execution": {
     "iopub.execute_input": "2022-03-26T22:08:10.019456Z",
     "iopub.status.busy": "2022-03-26T22:08:10.019082Z",
     "iopub.status.idle": "2022-03-26T22:08:10.043372Z",
     "shell.execute_reply": "2022-03-26T22:08:10.042659Z"
    },
    "papermill": {
     "duration": 0.047996,
     "end_time": "2022-03-26T22:08:10.043524",
     "exception": false,
     "start_time": "2022-03-26T22:08:09.995528",
     "status": "completed"
    },
    "tags": []
   },
   "outputs": [],
   "source": [
    "###########################################\n",
    "# The stratified datasets honor this\n",
    "###########################################\n",
    "torch.set_default_dtype(eval(p.torch_default_dtype))"
   ]
  },
  {
   "cell_type": "code",
   "execution_count": 8,
   "id": "b5fba671",
   "metadata": {
    "execution": {
     "iopub.execute_input": "2022-03-26T22:08:10.096417Z",
     "iopub.status.busy": "2022-03-26T22:08:10.095870Z",
     "iopub.status.idle": "2022-03-26T22:08:10.144465Z",
     "shell.execute_reply": "2022-03-26T22:08:10.143757Z"
    },
    "papermill": {
     "duration": 0.072008,
     "end_time": "2022-03-26T22:08:10.144618",
     "exception": false,
     "start_time": "2022-03-26T22:08:10.072610",
     "status": "completed"
    },
    "tags": []
   },
   "outputs": [],
   "source": [
    "###################################\n",
    "# Build the network(s)\n",
    "# Note: It's critical to do this AFTER setting the RNG\n",
    "###################################\n",
    "x_net = build_sequential(p.x_net)"
   ]
  },
  {
   "cell_type": "code",
   "execution_count": 9,
   "id": "5d7e61cc",
   "metadata": {
    "execution": {
     "iopub.execute_input": "2022-03-26T22:08:10.192420Z",
     "iopub.status.busy": "2022-03-26T22:08:10.191875Z",
     "iopub.status.idle": "2022-03-26T22:08:10.213145Z",
     "shell.execute_reply": "2022-03-26T22:08:10.212416Z"
    },
    "papermill": {
     "duration": 0.044047,
     "end_time": "2022-03-26T22:08:10.213298",
     "exception": false,
     "start_time": "2022-03-26T22:08:10.169251",
     "status": "completed"
    },
    "tags": []
   },
   "outputs": [],
   "source": [
    "start_time_secs = time.time()"
   ]
  },
  {
   "cell_type": "code",
   "execution_count": 10,
   "id": "c6b67dfd",
   "metadata": {
    "execution": {
     "iopub.execute_input": "2022-03-26T22:08:10.263783Z",
     "iopub.status.busy": "2022-03-26T22:08:10.263403Z",
     "iopub.status.idle": "2022-03-26T22:08:10.286582Z",
     "shell.execute_reply": "2022-03-26T22:08:10.285875Z"
    },
    "papermill": {
     "duration": 0.047418,
     "end_time": "2022-03-26T22:08:10.286738",
     "exception": false,
     "start_time": "2022-03-26T22:08:10.239320",
     "status": "completed"
    },
    "tags": []
   },
   "outputs": [],
   "source": [
    "p.domains_source = []\n",
    "p.domains_target = []\n",
    "\n",
    "\n",
    "train_original_source = []\n",
    "val_original_source   = []\n",
    "test_original_source  = []\n",
    "\n",
    "train_original_target = []\n",
    "val_original_target   = []\n",
    "test_original_target  = []"
   ]
  },
  {
   "cell_type": "code",
   "execution_count": 11,
   "id": "e3d9c3d3",
   "metadata": {
    "execution": {
     "iopub.execute_input": "2022-03-26T22:08:10.338377Z",
     "iopub.status.busy": "2022-03-26T22:08:10.338002Z",
     "iopub.status.idle": "2022-03-26T22:08:10.361561Z",
     "shell.execute_reply": "2022-03-26T22:08:10.360846Z"
    },
    "papermill": {
     "duration": 0.047109,
     "end_time": "2022-03-26T22:08:10.361713",
     "exception": false,
     "start_time": "2022-03-26T22:08:10.314604",
     "status": "completed"
    },
    "tags": []
   },
   "outputs": [],
   "source": [
    "# global_x_transform_func = lambda x: normalize(x.to(torch.get_default_dtype()), \"unit_power\") # unit_power, unit_mag\n",
    "# global_x_transform_func = lambda x: normalize(x, \"unit_power\") # unit_power, unit_mag"
   ]
  },
  {
   "cell_type": "code",
   "execution_count": 12,
   "id": "acb78fd2",
   "metadata": {
    "execution": {
     "iopub.execute_input": "2022-03-26T22:08:10.415399Z",
     "iopub.status.busy": "2022-03-26T22:08:10.415009Z",
     "iopub.status.idle": "2022-03-26T22:08:10.434403Z",
     "shell.execute_reply": "2022-03-26T22:08:10.433689Z"
    },
    "papermill": {
     "duration": 0.046431,
     "end_time": "2022-03-26T22:08:10.434556",
     "exception": false,
     "start_time": "2022-03-26T22:08:10.388125",
     "status": "completed"
    },
    "tags": []
   },
   "outputs": [],
   "source": [
    "def add_dataset(\n",
    "    labels,\n",
    "    domains,\n",
    "    pickle_path,\n",
    "    x_transforms,\n",
    "    episode_transforms,\n",
    "    domain_prefix,\n",
    "    num_examples_per_domain_per_label,\n",
    "    source_or_target_dataset:str,\n",
    "    iterator_seed=p.seed,\n",
    "    dataset_seed=p.dataset_seed,\n",
    "    n_shot=p.n_shot,\n",
    "    n_way=p.n_way,\n",
    "    n_query=p.n_query,\n",
    "    train_val_test_k_factors=(p.train_k_factor,p.val_k_factor,p.test_k_factor),\n",
    "):\n",
    "   \n",
    "    if x_transforms == []: x_transform = None\n",
    "    else: x_transform = get_chained_transform(x_transforms)\n",
    "    \n",
    "    if episode_transforms == []: episode_transform = None\n",
    "    else: raise Exception(\"episode_transforms not implemented\")\n",
    "    \n",
    "    episode_transform = lambda tup, _prefix=domain_prefix: (_prefix + str(tup[0]), tup[1])\n",
    "\n",
    "\n",
    "    eaf = Episodic_Accessor_Factory(\n",
    "        labels=labels,\n",
    "        domains=domains,\n",
    "        num_examples_per_domain_per_label=num_examples_per_domain_per_label,\n",
    "        iterator_seed=iterator_seed,\n",
    "        dataset_seed=dataset_seed,\n",
    "        n_shot=n_shot,\n",
    "        n_way=n_way,\n",
    "        n_query=n_query,\n",
    "        train_val_test_k_factors=train_val_test_k_factors,\n",
    "        pickle_path=pickle_path,\n",
    "        x_transform_func=x_transform,\n",
    "    )\n",
    "\n",
    "    train, val, test = eaf.get_train(), eaf.get_val(), eaf.get_test()\n",
    "    train = Lazy_Iterable_Wrapper(train, episode_transform)\n",
    "    val = Lazy_Iterable_Wrapper(val, episode_transform)\n",
    "    test = Lazy_Iterable_Wrapper(test, episode_transform)\n",
    "\n",
    "    if source_or_target_dataset==\"source\":\n",
    "        train_original_source.append(train)\n",
    "        val_original_source.append(val)\n",
    "        test_original_source.append(test)\n",
    "\n",
    "        p.domains_source.extend(\n",
    "            [domain_prefix + str(u) for u in domains]\n",
    "        )\n",
    "    elif source_or_target_dataset==\"target\":\n",
    "        train_original_target.append(train)\n",
    "        val_original_target.append(val)\n",
    "        test_original_target.append(test)\n",
    "        p.domains_target.extend(\n",
    "            [domain_prefix + str(u) for u in domains]\n",
    "        )\n",
    "    else:\n",
    "        raise Exception(f\"invalid source_or_target_dataset: {source_or_target_dataset}\")\n",
    "    "
   ]
  },
  {
   "cell_type": "code",
   "execution_count": 13,
   "id": "fe266617",
   "metadata": {
    "execution": {
     "iopub.execute_input": "2022-03-26T22:08:10.486623Z",
     "iopub.status.busy": "2022-03-26T22:08:10.486252Z",
     "iopub.status.idle": "2022-03-26T22:09:23.461492Z",
     "shell.execute_reply": "2022-03-26T22:09:23.460708Z"
    },
    "papermill": {
     "duration": 72.998661,
     "end_time": "2022-03-26T22:09:23.461676",
     "exception": false,
     "start_time": "2022-03-26T22:08:10.463015",
     "status": "completed"
    },
    "tags": []
   },
   "outputs": [],
   "source": [
    "for ds in p.datasets:\n",
    "    add_dataset(**ds)"
   ]
  },
  {
   "cell_type": "code",
   "execution_count": 14,
   "id": "b90d65ac",
   "metadata": {
    "execution": {
     "iopub.execute_input": "2022-03-26T22:09:23.511059Z",
     "iopub.status.busy": "2022-03-26T22:09:23.510678Z",
     "iopub.status.idle": "2022-03-26T22:09:23.533934Z",
     "shell.execute_reply": "2022-03-26T22:09:23.533108Z"
    },
    "papermill": {
     "duration": 0.047658,
     "end_time": "2022-03-26T22:09:23.534090",
     "exception": false,
     "start_time": "2022-03-26T22:09:23.486432",
     "status": "completed"
    },
    "tags": []
   },
   "outputs": [],
   "source": [
    "# from steves_utils.CORES.utils import (\n",
    "#     ALL_NODES,\n",
    "#     ALL_NODES_MINIMUM_1000_EXAMPLES,\n",
    "#     ALL_DAYS\n",
    "# )\n",
    "\n",
    "# add_dataset(\n",
    "#     labels=ALL_NODES,\n",
    "#     domains = ALL_DAYS,\n",
    "#     num_examples_per_domain_per_label=100,\n",
    "#     pickle_path=os.path.join(get_datasets_base_path(), \"cores.stratified_ds.2022A.pkl\"),\n",
    "#     source_or_target_dataset=\"target\",\n",
    "#     x_transform_func=global_x_transform_func,\n",
    "#     domain_modifier=lambda u: f\"cores_{u}\"\n",
    "# )"
   ]
  },
  {
   "cell_type": "code",
   "execution_count": 15,
   "id": "76db484d",
   "metadata": {
    "execution": {
     "iopub.execute_input": "2022-03-26T22:09:23.582071Z",
     "iopub.status.busy": "2022-03-26T22:09:23.581696Z",
     "iopub.status.idle": "2022-03-26T22:09:23.605957Z",
     "shell.execute_reply": "2022-03-26T22:09:23.605136Z"
    },
    "papermill": {
     "duration": 0.046647,
     "end_time": "2022-03-26T22:09:23.606113",
     "exception": false,
     "start_time": "2022-03-26T22:09:23.559466",
     "status": "completed"
    },
    "tags": []
   },
   "outputs": [],
   "source": [
    "# from steves_utils.ORACLE.utils_v2 import (\n",
    "#     ALL_DISTANCES_FEET,\n",
    "#     ALL_RUNS,\n",
    "#     ALL_SERIAL_NUMBERS,\n",
    "# )\n",
    "\n",
    "\n",
    "# add_dataset(\n",
    "#     labels=ALL_SERIAL_NUMBERS,\n",
    "#     domains = list(set(ALL_DISTANCES_FEET) - {2,62}),\n",
    "#     num_examples_per_domain_per_label=100,\n",
    "#     pickle_path=os.path.join(get_datasets_base_path(), \"oracle.Run2_framed_2000Examples_stratified_ds.2022A.pkl\"),\n",
    "#     source_or_target_dataset=\"source\",\n",
    "#     x_transform_func=global_x_transform_func,\n",
    "#     domain_modifier=lambda u: f\"oracle1_{u}\"\n",
    "# )\n"
   ]
  },
  {
   "cell_type": "code",
   "execution_count": 16,
   "id": "97dea9d2",
   "metadata": {
    "execution": {
     "iopub.execute_input": "2022-03-26T22:09:23.656553Z",
     "iopub.status.busy": "2022-03-26T22:09:23.655956Z",
     "iopub.status.idle": "2022-03-26T22:09:23.681655Z",
     "shell.execute_reply": "2022-03-26T22:09:23.680944Z"
    },
    "papermill": {
     "duration": 0.049851,
     "end_time": "2022-03-26T22:09:23.681805",
     "exception": false,
     "start_time": "2022-03-26T22:09:23.631954",
     "status": "completed"
    },
    "tags": []
   },
   "outputs": [],
   "source": [
    "# from steves_utils.ORACLE.utils_v2 import (\n",
    "#     ALL_DISTANCES_FEET,\n",
    "#     ALL_RUNS,\n",
    "#     ALL_SERIAL_NUMBERS,\n",
    "# )\n",
    "\n",
    "\n",
    "# add_dataset(\n",
    "#     labels=ALL_SERIAL_NUMBERS,\n",
    "#     domains = list(set(ALL_DISTANCES_FEET) - {2,62,56}),\n",
    "#     num_examples_per_domain_per_label=100,\n",
    "#     pickle_path=os.path.join(get_datasets_base_path(), \"oracle.Run2_framed_2000Examples_stratified_ds.2022A.pkl\"),\n",
    "#     source_or_target_dataset=\"source\",\n",
    "#     x_transform_func=global_x_transform_func,\n",
    "#     domain_modifier=lambda u: f\"oracle2_{u}\"\n",
    "# )"
   ]
  },
  {
   "cell_type": "code",
   "execution_count": 17,
   "id": "6f289866",
   "metadata": {
    "execution": {
     "iopub.execute_input": "2022-03-26T22:09:23.733603Z",
     "iopub.status.busy": "2022-03-26T22:09:23.732655Z",
     "iopub.status.idle": "2022-03-26T22:09:23.759848Z",
     "shell.execute_reply": "2022-03-26T22:09:23.758891Z"
    },
    "papermill": {
     "duration": 0.051342,
     "end_time": "2022-03-26T22:09:23.760023",
     "exception": false,
     "start_time": "2022-03-26T22:09:23.708681",
     "status": "completed"
    },
    "tags": []
   },
   "outputs": [],
   "source": [
    "# add_dataset(\n",
    "#     labels=list(range(19)),\n",
    "#     domains = [0,1,2],\n",
    "#     num_examples_per_domain_per_label=100,\n",
    "#     pickle_path=os.path.join(get_datasets_base_path(), \"metehan.stratified_ds.2022A.pkl\"),\n",
    "#     source_or_target_dataset=\"target\",\n",
    "#     x_transform_func=global_x_transform_func,\n",
    "#     domain_modifier=lambda u: f\"met_{u}\"\n",
    "# )"
   ]
  },
  {
   "cell_type": "code",
   "execution_count": 18,
   "id": "86a863c3",
   "metadata": {
    "execution": {
     "iopub.execute_input": "2022-03-26T22:09:23.814604Z",
     "iopub.status.busy": "2022-03-26T22:09:23.808408Z",
     "iopub.status.idle": "2022-03-26T22:09:23.829279Z",
     "shell.execute_reply": "2022-03-26T22:09:23.828904Z"
    },
    "papermill": {
     "duration": 0.046111,
     "end_time": "2022-03-26T22:09:23.829349",
     "exception": false,
     "start_time": "2022-03-26T22:09:23.783238",
     "status": "completed"
    },
    "tags": []
   },
   "outputs": [],
   "source": [
    "# # from steves_utils.wisig.utils import (\n",
    "# #     ALL_NODES_MINIMUM_100_EXAMPLES,\n",
    "# #     ALL_NODES_MINIMUM_500_EXAMPLES,\n",
    "# #     ALL_NODES_MINIMUM_1000_EXAMPLES,\n",
    "# #     ALL_DAYS\n",
    "# # )\n",
    "\n",
    "# import steves_utils.wisig.utils as wisig\n",
    "\n",
    "\n",
    "# add_dataset(\n",
    "#     labels=wisig.ALL_NODES_MINIMUM_100_EXAMPLES,\n",
    "#     domains = wisig.ALL_DAYS,\n",
    "#     num_examples_per_domain_per_label=100,\n",
    "#     pickle_path=os.path.join(get_datasets_base_path(), \"wisig.node3-19.stratified_ds.2022A.pkl\"),\n",
    "#     source_or_target_dataset=\"target\",\n",
    "#     x_transform_func=global_x_transform_func,\n",
    "#     domain_modifier=lambda u: f\"wisig_{u}\"\n",
    "# )"
   ]
  },
  {
   "cell_type": "code",
   "execution_count": 19,
   "id": "fd5442bc",
   "metadata": {
    "execution": {
     "iopub.execute_input": "2022-03-26T22:09:23.881653Z",
     "iopub.status.busy": "2022-03-26T22:09:23.880986Z",
     "iopub.status.idle": "2022-03-26T22:09:23.905328Z",
     "shell.execute_reply": "2022-03-26T22:09:23.904524Z"
    },
    "papermill": {
     "duration": 0.054997,
     "end_time": "2022-03-26T22:09:23.905479",
     "exception": false,
     "start_time": "2022-03-26T22:09:23.850482",
     "status": "completed"
    },
    "tags": []
   },
   "outputs": [],
   "source": [
    "###################################\n",
    "# Build the dataset\n",
    "###################################\n",
    "train_original_source = Iterable_Aggregator(train_original_source, p.seed)\n",
    "val_original_source = Iterable_Aggregator(val_original_source, p.seed)\n",
    "test_original_source = Iterable_Aggregator(test_original_source, p.seed)\n",
    "\n",
    "\n",
    "train_original_target = Iterable_Aggregator(train_original_target, p.seed)\n",
    "val_original_target = Iterable_Aggregator(val_original_target, p.seed)\n",
    "test_original_target = Iterable_Aggregator(test_original_target, p.seed)\n",
    "\n",
    "# For CNN We only use X and Y. And we only train on the source.\n",
    "# Properly form the data using a transform lambda and Lazy_Iterable_Wrapper. Finally wrap them in a dataloader\n",
    "\n",
    "transform_lambda = lambda ex: ex[1] # Original is (<domain>, <episode>) so we strip down to episode only\n",
    "\n",
    "train_processed_source = Lazy_Iterable_Wrapper(train_original_source, transform_lambda)\n",
    "val_processed_source   = Lazy_Iterable_Wrapper(val_original_source, transform_lambda)\n",
    "test_processed_source  = Lazy_Iterable_Wrapper(test_original_source, transform_lambda)\n",
    "\n",
    "train_processed_target = Lazy_Iterable_Wrapper(train_original_target, transform_lambda)\n",
    "val_processed_target   = Lazy_Iterable_Wrapper(val_original_target, transform_lambda)\n",
    "test_processed_target  = Lazy_Iterable_Wrapper(test_original_target, transform_lambda)\n",
    "\n",
    "datasets = EasyDict({\n",
    "    \"source\": {\n",
    "        \"original\": {\"train\":train_original_source, \"val\":val_original_source, \"test\":test_original_source},\n",
    "        \"processed\": {\"train\":train_processed_source, \"val\":val_processed_source, \"test\":test_processed_source}\n",
    "    },\n",
    "    \"target\": {\n",
    "        \"original\": {\"train\":train_original_target, \"val\":val_original_target, \"test\":test_original_target},\n",
    "        \"processed\": {\"train\":train_processed_target, \"val\":val_processed_target, \"test\":test_processed_target}\n",
    "    },\n",
    "})"
   ]
  },
  {
   "cell_type": "code",
   "execution_count": 20,
   "id": "5b3c01fc",
   "metadata": {
    "execution": {
     "iopub.execute_input": "2022-03-26T22:09:23.961195Z",
     "iopub.status.busy": "2022-03-26T22:09:23.960552Z",
     "iopub.status.idle": "2022-03-26T22:09:38.747467Z",
     "shell.execute_reply": "2022-03-26T22:09:38.747840Z"
    },
    "papermill": {
     "duration": 14.814673,
     "end_time": "2022-03-26T22:09:38.747967",
     "exception": false,
     "start_time": "2022-03-26T22:09:23.933294",
     "status": "completed"
    },
    "tags": []
   },
   "outputs": [
    {
     "name": "stdout",
     "output_type": "stream",
     "text": [
      "{'O_44', 'O_26', 'O_14', 'O_20', 'O_32', 'O_50', 'O_8', 'O_38'}\n"
     ]
    },
    {
     "name": "stdout",
     "output_type": "stream",
     "text": [
      "{'C_4', 'C_3', 'C_1', 'C_5', 'C_2'}\n"
     ]
    },
    {
     "name": "stdout",
     "output_type": "stream",
     "text": [
      "tensor([[[ 0.5198,  1.1449, -0.2691,  ...,  0.3874, -0.0754,  1.0247],\n",
      "         [-0.4024,  0.2823,  0.3043,  ...,  0.6146,  1.0491,  0.1623]],\n",
      "\n",
      "        [[ 0.1027,  1.2815,  0.2340,  ...,  0.3532,  0.0416,  1.0866],\n",
      "         [-0.6504, -0.1179,  0.5017,  ...,  0.4043,  1.2002,  0.1812]],\n",
      "\n",
      "        [[-0.9810, -0.0956,  1.4581,  ...,  0.2201, -0.9534, -1.2017],\n",
      "         [-0.2926, -0.3228,  0.0158,  ..., -0.9782, -0.7513, -0.7499]],\n",
      "\n",
      "        ...,\n",
      "\n",
      "        [[-0.3346,  0.1680,  0.4490,  ...,  0.6284,  1.2521,  0.6054],\n",
      "         [-0.2738, -1.2222, -0.0977,  ..., -0.8729,  0.1431, -0.5193]],\n",
      "\n",
      "        [[ 0.5496, -0.2679, -0.7192,  ..., -0.7918, -0.9739, -0.0442],\n",
      "         [ 0.8764,  1.2566, -0.4588,  ...,  0.1913, -0.0889,  1.0308]],\n",
      "\n",
      "        [[ 0.4343, -0.4974, -0.8497,  ..., -1.0668, -0.9120, -0.2790],\n",
      "         [ 1.0183,  1.2228, -0.6890,  ...,  0.1524,  0.2036,  1.3888]]])\n"
     ]
    }
   ],
   "source": [
    "from steves_utils.transforms import get_average_magnitude, get_average_power\n",
    "\n",
    "print(set([u for u,_ in val_original_source]))\n",
    "print(set([u for u,_ in val_original_target]))\n",
    "\n",
    "s_x, s_y, q_x, q_y, _ = next(iter(train_processed_source))\n",
    "print(s_x)\n",
    "\n",
    "# for ds in [\n",
    "#     train_processed_source,\n",
    "#     val_processed_source,\n",
    "#     test_processed_source,\n",
    "#     train_processed_target,\n",
    "#     val_processed_target,\n",
    "#     test_processed_target\n",
    "# ]:\n",
    "#     for s_x, s_y, q_x, q_y, _ in ds:\n",
    "#         for X in (s_x, q_x):\n",
    "#             for x in X:\n",
    "#                 assert np.isclose(get_average_magnitude(x.numpy()), 1.0)\n",
    "#                 assert np.isclose(get_average_power(x.numpy()), 1.0)\n",
    "                "
   ]
  },
  {
   "cell_type": "code",
   "execution_count": 21,
   "id": "bbdacba1",
   "metadata": {
    "execution": {
     "iopub.execute_input": "2022-03-26T22:09:38.802901Z",
     "iopub.status.busy": "2022-03-26T22:09:38.802302Z",
     "iopub.status.idle": "2022-03-26T22:09:39.059796Z",
     "shell.execute_reply": "2022-03-26T22:09:39.058959Z"
    },
    "papermill": {
     "duration": 0.286108,
     "end_time": "2022-03-26T22:09:39.059982",
     "exception": false,
     "start_time": "2022-03-26T22:09:38.773874",
     "status": "completed"
    },
    "tags": []
   },
   "outputs": [
    {
     "name": "stdout",
     "output_type": "stream",
     "text": [
      "(2, 200)\n"
     ]
    }
   ],
   "source": [
    "###################################\n",
    "# Build the model\n",
    "###################################\n",
    "# easfsl only wants a tuple for the shape\n",
    "model = Steves_Prototypical_Network(x_net, device=p.device, x_shape=tuple(p.x_shape))\n",
    "optimizer = Adam(params=model.parameters(), lr=p.lr)"
   ]
  },
  {
   "cell_type": "code",
   "execution_count": 22,
   "id": "22b39ac5",
   "metadata": {
    "execution": {
     "iopub.execute_input": "2022-03-26T22:09:39.117738Z",
     "iopub.status.busy": "2022-03-26T22:09:39.117349Z",
     "iopub.status.idle": "2022-03-26T22:47:55.248579Z",
     "shell.execute_reply": "2022-03-26T22:47:55.248233Z"
    },
    "papermill": {
     "duration": 2296.159257,
     "end_time": "2022-03-26T22:47:55.248667",
     "exception": false,
     "start_time": "2022-03-26T22:09:39.089410",
     "status": "completed"
    },
    "tags": []
   },
   "outputs": [
    {
     "name": "stdout",
     "output_type": "stream",
     "text": [
      "epoch: 1, [batch: 1 / 6720], examples_per_second: 32.3154, train_label_loss: 2.9280, \n"
     ]
    },
    {
     "name": "stdout",
     "output_type": "stream",
     "text": [
      "epoch: 1, [batch: 672 / 6720], examples_per_second: 1697.7925, train_label_loss: 1.7693, \n"
     ]
    },
    {
     "name": "stdout",
     "output_type": "stream",
     "text": [
      "epoch: 1, [batch: 1344 / 6720], examples_per_second: 1699.0864, train_label_loss: 1.0223, \n"
     ]
    },
    {
     "name": "stdout",
     "output_type": "stream",
     "text": [
      "epoch: 1, [batch: 2016 / 6720], examples_per_second: 2085.9185, train_label_loss: 0.8497, \n"
     ]
    },
    {
     "name": "stdout",
     "output_type": "stream",
     "text": [
      "epoch: 1, [batch: 2688 / 6720], examples_per_second: 1698.3692, train_label_loss: 0.8288, \n"
     ]
    },
    {
     "name": "stdout",
     "output_type": "stream",
     "text": [
      "epoch: 1, [batch: 3360 / 6720], examples_per_second: 1704.4467, train_label_loss: 0.7872, \n"
     ]
    },
    {
     "name": "stdout",
     "output_type": "stream",
     "text": [
      "epoch: 1, [batch: 4032 / 6720], examples_per_second: 2111.9733, train_label_loss: 0.8198, \n"
     ]
    },
    {
     "name": "stdout",
     "output_type": "stream",
     "text": [
      "epoch: 1, [batch: 4704 / 6720], examples_per_second: 1704.7266, train_label_loss: 0.8538, \n"
     ]
    },
    {
     "name": "stdout",
     "output_type": "stream",
     "text": [
      "epoch: 1, [batch: 5376 / 6720], examples_per_second: 1709.8926, train_label_loss: 0.6978, \n"
     ]
    },
    {
     "name": "stdout",
     "output_type": "stream",
     "text": [
      "epoch: 1, [batch: 6048 / 6720], examples_per_second: 2004.6338, train_label_loss: 1.0540, \n"
     ]
    },
    {
     "name": "stdout",
     "output_type": "stream",
     "text": [
      "=============================================================\n",
      "epoch: 1, source_val_acc_label: 0.6412, target_val_acc_label: 0.5069, source_val_label_loss: 1.1358, target_val_label_loss: 18.6750, \n",
      "=============================================================\n"
     ]
    },
    {
     "name": "stdout",
     "output_type": "stream",
     "text": [
      "New best\n"
     ]
    },
    {
     "name": "stdout",
     "output_type": "stream",
     "text": [
      "epoch: 2, [batch: 1 / 6720], examples_per_second: 1.6775, train_label_loss: 1.0058, \n"
     ]
    },
    {
     "name": "stdout",
     "output_type": "stream",
     "text": [
      "epoch: 2, [batch: 672 / 6720], examples_per_second: 1720.3367, train_label_loss: 1.1867, \n"
     ]
    },
    {
     "name": "stdout",
     "output_type": "stream",
     "text": [
      "epoch: 2, [batch: 1344 / 6720], examples_per_second: 1712.7240, train_label_loss: 0.9990, \n"
     ]
    },
    {
     "name": "stdout",
     "output_type": "stream",
     "text": [
      "epoch: 2, [batch: 2016 / 6720], examples_per_second: 2148.1386, train_label_loss: 0.6306, \n"
     ]
    },
    {
     "name": "stdout",
     "output_type": "stream",
     "text": [
      "epoch: 2, [batch: 2688 / 6720], examples_per_second: 1710.3447, train_label_loss: 0.5439, \n"
     ]
    },
    {
     "name": "stdout",
     "output_type": "stream",
     "text": [
      "epoch: 2, [batch: 3360 / 6720], examples_per_second: 1719.7186, train_label_loss: 0.4495, \n"
     ]
    },
    {
     "name": "stdout",
     "output_type": "stream",
     "text": [
      "epoch: 2, [batch: 4032 / 6720], examples_per_second: 2056.6425, train_label_loss: 0.8585, \n"
     ]
    },
    {
     "name": "stdout",
     "output_type": "stream",
     "text": [
      "epoch: 2, [batch: 4704 / 6720], examples_per_second: 1773.1224, train_label_loss: 0.6061, \n"
     ]
    },
    {
     "name": "stdout",
     "output_type": "stream",
     "text": [
      "epoch: 2, [batch: 5376 / 6720], examples_per_second: 1720.8621, train_label_loss: 1.0602, \n"
     ]
    },
    {
     "name": "stdout",
     "output_type": "stream",
     "text": [
      "epoch: 2, [batch: 6048 / 6720], examples_per_second: 1888.3826, train_label_loss: 0.4863, \n"
     ]
    },
    {
     "name": "stdout",
     "output_type": "stream",
     "text": [
      "=============================================================\n",
      "epoch: 2, source_val_acc_label: 0.7679, target_val_acc_label: 0.8014, source_val_label_loss: 0.6368, target_val_label_loss: 2.0620, \n",
      "=============================================================\n"
     ]
    },
    {
     "name": "stdout",
     "output_type": "stream",
     "text": [
      "New best\n"
     ]
    },
    {
     "name": "stdout",
     "output_type": "stream",
     "text": [
      "epoch: 3, [batch: 1 / 6720], examples_per_second: 3.1635, train_label_loss: 1.1863, \n"
     ]
    },
    {
     "name": "stdout",
     "output_type": "stream",
     "text": [
      "epoch: 3, [batch: 672 / 6720], examples_per_second: 3965.5308, train_label_loss: 0.3949, \n"
     ]
    },
    {
     "name": "stdout",
     "output_type": "stream",
     "text": [
      "epoch: 3, [batch: 1344 / 6720], examples_per_second: 4062.5811, train_label_loss: 0.2628, \n"
     ]
    },
    {
     "name": "stdout",
     "output_type": "stream",
     "text": [
      "epoch: 3, [batch: 2016 / 6720], examples_per_second: 4171.3506, train_label_loss: 0.3658, \n"
     ]
    },
    {
     "name": "stdout",
     "output_type": "stream",
     "text": [
      "epoch: 3, [batch: 2688 / 6720], examples_per_second: 4023.0478, train_label_loss: 0.3999, \n"
     ]
    },
    {
     "name": "stdout",
     "output_type": "stream",
     "text": [
      "epoch: 3, [batch: 3360 / 6720], examples_per_second: 3991.5577, train_label_loss: 0.3947, \n"
     ]
    },
    {
     "name": "stdout",
     "output_type": "stream",
     "text": [
      "epoch: 3, [batch: 4032 / 6720], examples_per_second: 4162.5966, train_label_loss: 0.5624, \n"
     ]
    },
    {
     "name": "stdout",
     "output_type": "stream",
     "text": [
      "epoch: 3, [batch: 4704 / 6720], examples_per_second: 4140.8653, train_label_loss: 0.6162, \n"
     ]
    },
    {
     "name": "stdout",
     "output_type": "stream",
     "text": [
      "epoch: 3, [batch: 5376 / 6720], examples_per_second: 4132.2327, train_label_loss: 0.9019, \n"
     ]
    },
    {
     "name": "stdout",
     "output_type": "stream",
     "text": [
      "epoch: 3, [batch: 6048 / 6720], examples_per_second: 3526.6460, train_label_loss: 0.8362, \n"
     ]
    },
    {
     "name": "stdout",
     "output_type": "stream",
     "text": [
      "=============================================================\n",
      "epoch: 3, source_val_acc_label: 0.7917, target_val_acc_label: 0.8123, source_val_label_loss: 0.5706, target_val_label_loss: 1.6204, \n",
      "=============================================================\n"
     ]
    },
    {
     "name": "stdout",
     "output_type": "stream",
     "text": [
      "New best\n"
     ]
    },
    {
     "name": "stdout",
     "output_type": "stream",
     "text": [
      "epoch: 4, [batch: 1 / 6720], examples_per_second: 1.7295, train_label_loss: 0.5001, \n"
     ]
    },
    {
     "name": "stdout",
     "output_type": "stream",
     "text": [
      "epoch: 4, [batch: 672 / 6720], examples_per_second: 1727.9941, train_label_loss: 0.5162, \n"
     ]
    },
    {
     "name": "stdout",
     "output_type": "stream",
     "text": [
      "epoch: 4, [batch: 1344 / 6720], examples_per_second: 1714.9783, train_label_loss: 0.5435, \n"
     ]
    },
    {
     "name": "stdout",
     "output_type": "stream",
     "text": [
      "epoch: 4, [batch: 2016 / 6720], examples_per_second: 2125.4869, train_label_loss: 0.3055, \n"
     ]
    },
    {
     "name": "stdout",
     "output_type": "stream",
     "text": [
      "epoch: 4, [batch: 2688 / 6720], examples_per_second: 1718.9267, train_label_loss: 0.6468, \n"
     ]
    },
    {
     "name": "stdout",
     "output_type": "stream",
     "text": [
      "epoch: 4, [batch: 3360 / 6720], examples_per_second: 1724.3609, train_label_loss: 0.9171, \n"
     ]
    },
    {
     "name": "stdout",
     "output_type": "stream",
     "text": [
      "epoch: 4, [batch: 4032 / 6720], examples_per_second: 2062.6046, train_label_loss: 0.6699, \n"
     ]
    },
    {
     "name": "stdout",
     "output_type": "stream",
     "text": [
      "epoch: 4, [batch: 4704 / 6720], examples_per_second: 1772.3725, train_label_loss: 1.1518, \n"
     ]
    },
    {
     "name": "stdout",
     "output_type": "stream",
     "text": [
      "epoch: 4, [batch: 5376 / 6720], examples_per_second: 1721.5819, train_label_loss: 0.5279, \n"
     ]
    },
    {
     "name": "stdout",
     "output_type": "stream",
     "text": [
      "epoch: 4, [batch: 6048 / 6720], examples_per_second: 1948.5501, train_label_loss: 0.5598, \n"
     ]
    },
    {
     "name": "stdout",
     "output_type": "stream",
     "text": [
      "=============================================================\n",
      "epoch: 4, source_val_acc_label: 0.8322, target_val_acc_label: 0.8057, source_val_label_loss: 0.4641, target_val_label_loss: 1.6675, \n",
      "=============================================================\n"
     ]
    },
    {
     "name": "stdout",
     "output_type": "stream",
     "text": [
      "epoch: 5, [batch: 1 / 6720], examples_per_second: 1.6279, train_label_loss: 0.4858, \n"
     ]
    },
    {
     "name": "stdout",
     "output_type": "stream",
     "text": [
      "epoch: 5, [batch: 672 / 6720], examples_per_second: 1715.0539, train_label_loss: 0.5405, \n"
     ]
    },
    {
     "name": "stdout",
     "output_type": "stream",
     "text": [
      "epoch: 5, [batch: 1344 / 6720], examples_per_second: 1722.0933, train_label_loss: 0.3372, \n"
     ]
    },
    {
     "name": "stdout",
     "output_type": "stream",
     "text": [
      "epoch: 5, [batch: 2016 / 6720], examples_per_second: 2152.6525, train_label_loss: 0.2821, \n"
     ]
    },
    {
     "name": "stdout",
     "output_type": "stream",
     "text": [
      "epoch: 5, [batch: 2688 / 6720], examples_per_second: 1707.9754, train_label_loss: 0.2497, \n"
     ]
    },
    {
     "name": "stdout",
     "output_type": "stream",
     "text": [
      "epoch: 5, [batch: 3360 / 6720], examples_per_second: 1724.4034, train_label_loss: 0.4899, \n"
     ]
    },
    {
     "name": "stdout",
     "output_type": "stream",
     "text": [
      "epoch: 5, [batch: 4032 / 6720], examples_per_second: 2018.0713, train_label_loss: 0.1878, \n"
     ]
    },
    {
     "name": "stdout",
     "output_type": "stream",
     "text": [
      "epoch: 5, [batch: 4704 / 6720], examples_per_second: 1788.3640, train_label_loss: 0.3711, \n"
     ]
    },
    {
     "name": "stdout",
     "output_type": "stream",
     "text": [
      "epoch: 5, [batch: 5376 / 6720], examples_per_second: 1732.8602, train_label_loss: 0.2098, \n"
     ]
    },
    {
     "name": "stdout",
     "output_type": "stream",
     "text": [
      "epoch: 5, [batch: 6048 / 6720], examples_per_second: 2019.2257, train_label_loss: 0.5494, \n"
     ]
    },
    {
     "name": "stdout",
     "output_type": "stream",
     "text": [
      "=============================================================\n",
      "epoch: 5, source_val_acc_label: 0.8375, target_val_acc_label: 0.7930, source_val_label_loss: 0.4462, target_val_label_loss: 1.7391, \n",
      "=============================================================\n"
     ]
    },
    {
     "name": "stdout",
     "output_type": "stream",
     "text": [
      "epoch: 6, [batch: 1 / 6720], examples_per_second: 1.6185, train_label_loss: 0.8565, \n"
     ]
    },
    {
     "name": "stdout",
     "output_type": "stream",
     "text": [
      "epoch: 6, [batch: 672 / 6720], examples_per_second: 1711.5381, train_label_loss: 0.3395, \n"
     ]
    },
    {
     "name": "stdout",
     "output_type": "stream",
     "text": [
      "epoch: 6, [batch: 1344 / 6720], examples_per_second: 1724.4370, train_label_loss: 0.4373, \n"
     ]
    },
    {
     "name": "stdout",
     "output_type": "stream",
     "text": [
      "epoch: 6, [batch: 2016 / 6720], examples_per_second: 2109.4841, train_label_loss: 0.5865, \n"
     ]
    },
    {
     "name": "stdout",
     "output_type": "stream",
     "text": [
      "epoch: 6, [batch: 2688 / 6720], examples_per_second: 1719.4779, train_label_loss: 0.4060, \n"
     ]
    },
    {
     "name": "stdout",
     "output_type": "stream",
     "text": [
      "epoch: 6, [batch: 3360 / 6720], examples_per_second: 1715.6077, train_label_loss: 0.4084, \n"
     ]
    },
    {
     "name": "stdout",
     "output_type": "stream",
     "text": [
      "epoch: 6, [batch: 4032 / 6720], examples_per_second: 2001.2026, train_label_loss: 0.2947, \n"
     ]
    },
    {
     "name": "stdout",
     "output_type": "stream",
     "text": [
      "epoch: 6, [batch: 4704 / 6720], examples_per_second: 1772.0678, train_label_loss: 0.4459, \n"
     ]
    },
    {
     "name": "stdout",
     "output_type": "stream",
     "text": [
      "epoch: 6, [batch: 5376 / 6720], examples_per_second: 1796.8994, train_label_loss: 0.1373, \n"
     ]
    },
    {
     "name": "stdout",
     "output_type": "stream",
     "text": [
      "epoch: 6, [batch: 6048 / 6720], examples_per_second: 2031.9700, train_label_loss: 0.6958, \n"
     ]
    },
    {
     "name": "stdout",
     "output_type": "stream",
     "text": [
      "=============================================================\n",
      "epoch: 6, source_val_acc_label: 0.8491, target_val_acc_label: 0.7852, source_val_label_loss: 0.4166, target_val_label_loss: 1.9354, \n",
      "=============================================================\n"
     ]
    },
    {
     "name": "stdout",
     "output_type": "stream",
     "text": [
      "epoch: 7, [batch: 1 / 6720], examples_per_second: 1.6795, train_label_loss: 0.2361, \n"
     ]
    },
    {
     "name": "stdout",
     "output_type": "stream",
     "text": [
      "epoch: 7, [batch: 672 / 6720], examples_per_second: 1847.2179, train_label_loss: 0.3896, \n"
     ]
    },
    {
     "name": "stdout",
     "output_type": "stream",
     "text": [
      "epoch: 7, [batch: 1344 / 6720], examples_per_second: 1873.8159, train_label_loss: 0.6788, \n"
     ]
    },
    {
     "name": "stdout",
     "output_type": "stream",
     "text": [
      "epoch: 7, [batch: 2016 / 6720], examples_per_second: 2216.1514, train_label_loss: 0.2357, \n"
     ]
    },
    {
     "name": "stdout",
     "output_type": "stream",
     "text": [
      "epoch: 7, [batch: 2688 / 6720], examples_per_second: 1853.3470, train_label_loss: 0.2533, \n"
     ]
    },
    {
     "name": "stdout",
     "output_type": "stream",
     "text": [
      "epoch: 7, [batch: 3360 / 6720], examples_per_second: 1859.1183, train_label_loss: 0.3318, \n"
     ]
    },
    {
     "name": "stdout",
     "output_type": "stream",
     "text": [
      "epoch: 7, [batch: 4032 / 6720], examples_per_second: 2178.5395, train_label_loss: 0.5621, \n"
     ]
    },
    {
     "name": "stdout",
     "output_type": "stream",
     "text": [
      "epoch: 7, [batch: 4704 / 6720], examples_per_second: 1845.5476, train_label_loss: 0.4416, \n"
     ]
    },
    {
     "name": "stdout",
     "output_type": "stream",
     "text": [
      "epoch: 7, [batch: 5376 / 6720], examples_per_second: 2204.9985, train_label_loss: 0.3077, \n"
     ]
    },
    {
     "name": "stdout",
     "output_type": "stream",
     "text": [
      "epoch: 7, [batch: 6048 / 6720], examples_per_second: 2590.0756, train_label_loss: 0.1920, \n"
     ]
    },
    {
     "name": "stdout",
     "output_type": "stream",
     "text": [
      "=============================================================\n",
      "epoch: 7, source_val_acc_label: 0.8577, target_val_acc_label: 0.7967, source_val_label_loss: 0.3978, target_val_label_loss: 2.2059, \n",
      "=============================================================\n"
     ]
    },
    {
     "name": "stdout",
     "output_type": "stream",
     "text": [
      "Patience (3) exhausted\n"
     ]
    }
   ],
   "source": [
    "###################################\n",
    "# train\n",
    "###################################\n",
    "jig = PTN_Train_Eval_Test_Jig(model, p.BEST_MODEL_PATH, p.device)\n",
    "\n",
    "jig.train(\n",
    "    train_iterable=datasets.source.processed.train,\n",
    "    source_val_iterable=datasets.source.processed.val,\n",
    "    target_val_iterable=datasets.target.processed.val,\n",
    "    num_epochs=p.n_epoch,\n",
    "    num_logs_per_epoch=p.NUM_LOGS_PER_EPOCH,\n",
    "    patience=p.patience,\n",
    "    optimizer=optimizer,\n",
    "    criteria_for_best=p.criteria_for_best,\n",
    ")"
   ]
  },
  {
   "cell_type": "code",
   "execution_count": 23,
   "id": "31e8fabf",
   "metadata": {
    "execution": {
     "iopub.execute_input": "2022-03-26T22:47:55.342500Z",
     "iopub.status.busy": "2022-03-26T22:47:55.342118Z",
     "iopub.status.idle": "2022-03-26T22:47:55.376224Z",
     "shell.execute_reply": "2022-03-26T22:47:55.375482Z"
    },
    "papermill": {
     "duration": 0.083386,
     "end_time": "2022-03-26T22:47:55.376385",
     "exception": false,
     "start_time": "2022-03-26T22:47:55.292999",
     "status": "completed"
    },
    "tags": []
   },
   "outputs": [],
   "source": [
    "total_experiment_time_secs = time.time() - start_time_secs"
   ]
  },
  {
   "cell_type": "code",
   "execution_count": 24,
   "id": "87b9595b",
   "metadata": {
    "execution": {
     "iopub.execute_input": "2022-03-26T22:47:55.493550Z",
     "iopub.status.busy": "2022-03-26T22:47:55.492652Z",
     "iopub.status.idle": "2022-03-26T22:50:27.716323Z",
     "shell.execute_reply": "2022-03-26T22:50:27.715455Z"
    },
    "papermill": {
     "duration": 152.288964,
     "end_time": "2022-03-26T22:50:27.716519",
     "exception": false,
     "start_time": "2022-03-26T22:47:55.427555",
     "status": "completed"
    },
    "tags": []
   },
   "outputs": [],
   "source": [
    "###################################\n",
    "# Evaluate the model\n",
    "###################################\n",
    "source_test_label_accuracy, source_test_label_loss = jig.test(datasets.source.processed.test)\n",
    "target_test_label_accuracy, target_test_label_loss = jig.test(datasets.target.processed.test)\n",
    "\n",
    "source_val_label_accuracy, source_val_label_loss = jig.test(datasets.source.processed.val)\n",
    "target_val_label_accuracy, target_val_label_loss = jig.test(datasets.target.processed.val)\n",
    "\n",
    "history = jig.get_history()\n",
    "\n",
    "total_epochs_trained = len(history[\"epoch_indices\"])\n",
    "\n",
    "val_dl = Iterable_Aggregator((datasets.source.original.val,datasets.target.original.val))\n",
    "\n",
    "confusion = ptn_confusion_by_domain_over_dataloader(model, p.device, val_dl)\n",
    "per_domain_accuracy = per_domain_accuracy_from_confusion(confusion)\n",
    "\n",
    "# Add a key to per_domain_accuracy for if it was a source domain\n",
    "for domain, accuracy in per_domain_accuracy.items():\n",
    "    per_domain_accuracy[domain] = {\n",
    "        \"accuracy\": accuracy,\n",
    "        \"source?\": domain in p.domains_source\n",
    "    }\n",
    "\n",
    "# Do an independent accuracy assesment JUST TO BE SURE!\n",
    "# _source_test_label_accuracy = independent_accuracy_assesment(model, datasets.source.processed.test, p.device)\n",
    "# _target_test_label_accuracy = independent_accuracy_assesment(model, datasets.target.processed.test, p.device)\n",
    "# _source_val_label_accuracy = independent_accuracy_assesment(model, datasets.source.processed.val, p.device)\n",
    "# _target_val_label_accuracy = independent_accuracy_assesment(model, datasets.target.processed.val, p.device)\n",
    "\n",
    "# assert(_source_test_label_accuracy == source_test_label_accuracy)\n",
    "# assert(_target_test_label_accuracy == target_test_label_accuracy)\n",
    "# assert(_source_val_label_accuracy == source_val_label_accuracy)\n",
    "# assert(_target_val_label_accuracy == target_val_label_accuracy)\n",
    "\n",
    "experiment = {\n",
    "    \"experiment_name\": p.experiment_name,\n",
    "    \"parameters\": dict(p),\n",
    "    \"results\": {\n",
    "        \"source_test_label_accuracy\": source_test_label_accuracy,\n",
    "        \"source_test_label_loss\": source_test_label_loss,\n",
    "        \"target_test_label_accuracy\": target_test_label_accuracy,\n",
    "        \"target_test_label_loss\": target_test_label_loss,\n",
    "        \"source_val_label_accuracy\": source_val_label_accuracy,\n",
    "        \"source_val_label_loss\": source_val_label_loss,\n",
    "        \"target_val_label_accuracy\": target_val_label_accuracy,\n",
    "        \"target_val_label_loss\": target_val_label_loss,\n",
    "        \"total_epochs_trained\": total_epochs_trained,\n",
    "        \"total_experiment_time_secs\": total_experiment_time_secs,\n",
    "        \"confusion\": confusion,\n",
    "        \"per_domain_accuracy\": per_domain_accuracy,\n",
    "    },\n",
    "    \"history\": history,\n",
    "    \"dataset_metrics\": get_dataset_metrics(datasets, \"ptn\"),\n",
    "}"
   ]
  },
  {
   "cell_type": "code",
   "execution_count": 25,
   "id": "54a21829",
   "metadata": {
    "execution": {
     "iopub.execute_input": "2022-03-26T22:50:27.821410Z",
     "iopub.status.busy": "2022-03-26T22:50:27.821024Z",
     "iopub.status.idle": "2022-03-26T22:50:28.252410Z",
     "shell.execute_reply": "2022-03-26T22:50:28.253121Z"
    },
    "papermill": {
     "duration": 0.483655,
     "end_time": "2022-03-26T22:50:28.253339",
     "exception": false,
     "start_time": "2022-03-26T22:50:27.769684",
     "status": "completed"
    },
    "tags": []
   },
   "outputs": [
    {
     "data": {
      "image/png": "[encoded data removed]",
      "text/plain": [
       "<Figure size 1080x504 with 1 Axes>"
      ]
     },
     "metadata": {
      "needs_background": "light"
     },
     "output_type": "display_data"
    }
   ],
   "source": [
    "ax = get_loss_curve(experiment)\n",
    "plt.show()"
   ]
  },
  {
   "cell_type": "code",
   "execution_count": 26,
   "id": "fd8a0f60",
   "metadata": {
    "execution": {
     "iopub.execute_input": "2022-03-26T22:50:28.352834Z",
     "iopub.status.busy": "2022-03-26T22:50:28.352459Z",
     "iopub.status.idle": "2022-03-26T22:50:28.680167Z",
     "shell.execute_reply": "2022-03-26T22:50:28.680846Z"
    },
    "papermill": {
     "duration": 0.37689,
     "end_time": "2022-03-26T22:50:28.681025",
     "exception": false,
     "start_time": "2022-03-26T22:50:28.304135",
     "status": "completed"
    },
    "tags": []
   },
   "outputs": [
    {
     "data": {
      "text/plain": [
       "<AxesSubplot:title={'center':'Results'}>"
      ]
     },
     "execution_count": 26,
     "metadata": {},
     "output_type": "execute_result"
    },
    {
     "data": {
      "image/png": "[encoded data removed]",
      "text/plain": [
       "<Figure size 1080x504 with 1 Axes>"
      ]
     },
     "metadata": {
      "needs_background": "light"
     },
     "output_type": "display_data"
    }
   ],
   "source": [
    "get_results_table(experiment)"
   ]
  },
  {
   "cell_type": "code",
   "execution_count": 27,
   "id": "cf8dc689",
   "metadata": {
    "execution": {
     "iopub.execute_input": "2022-03-26T22:50:28.779399Z",
     "iopub.status.busy": "2022-03-26T22:50:28.779030Z",
     "iopub.status.idle": "2022-03-26T22:50:29.019485Z",
     "shell.execute_reply": "2022-03-26T22:50:29.018778Z"
    },
    "papermill": {
     "duration": 0.288175,
     "end_time": "2022-03-26T22:50:29.019681",
     "exception": false,
     "start_time": "2022-03-26T22:50:28.731506",
     "status": "completed"
    },
    "tags": []
   },
   "outputs": [
    {
     "data": {
      "text/plain": [
       "<AxesSubplot:title={'center':'Per Domain Validation Accuracy'}, xlabel='domain'>"
      ]
     },
     "execution_count": 27,
     "metadata": {},
     "output_type": "execute_result"
    },
    {
     "data": {
      "image/png": "[encoded data removed]",
      "text/plain": [
       "<Figure size 1080x504 with 1 Axes>"
      ]
     },
     "metadata": {
      "needs_background": "light"
     },
     "output_type": "display_data"
    }
   ],
   "source": [
    "get_domain_accuracies(experiment)"
   ]
  },
  {
   "cell_type": "code",
   "execution_count": 28,
   "id": "a74ae082",
   "metadata": {
    "execution": {
     "iopub.execute_input": "2022-03-26T22:50:29.122359Z",
     "iopub.status.busy": "2022-03-26T22:50:29.121986Z",
     "iopub.status.idle": "2022-03-26T22:50:29.150667Z",
     "shell.execute_reply": "2022-03-26T22:50:29.149855Z"
    },
    "papermill": {
     "duration": 0.080515,
     "end_time": "2022-03-26T22:50:29.150818",
     "exception": false,
     "start_time": "2022-03-26T22:50:29.070303",
     "status": "completed"
    },
    "tags": []
   },
   "outputs": [
    {
     "name": "stdout",
     "output_type": "stream",
     "text": [
      "Source Test Label Accuracy: 0.7910807291666667 Target Test Label Accuracy: 0.811938202247191\n",
      "Source Val Label Accuracy: 0.7917317708333333 Target Val Label Accuracy: 0.8122857142857143\n"
     ]
    }
   ],
   "source": [
    "print(\"Source Test Label Accuracy:\", experiment[\"results\"][\"source_test_label_accuracy\"], \"Target Test Label Accuracy:\", experiment[\"results\"][\"target_test_label_accuracy\"])\n",
    "print(\"Source Val Label Accuracy:\", experiment[\"results\"][\"source_val_label_accuracy\"], \"Target Val Label Accuracy:\", experiment[\"results\"][\"target_val_label_accuracy\"])"
   ]
  },
  {
   "cell_type": "code",
   "execution_count": 29,
   "id": "dacca602",
   "metadata": {
    "execution": {
     "iopub.execute_input": "2022-03-26T22:50:29.253235Z",
     "iopub.status.busy": "2022-03-26T22:50:29.252751Z",
     "iopub.status.idle": "2022-03-26T22:50:29.278374Z",
     "shell.execute_reply": "2022-03-26T22:50:29.279044Z"
    },
    "papermill": {
     "duration": 0.076766,
     "end_time": "2022-03-26T22:50:29.279221",
     "exception": false,
     "start_time": "2022-03-26T22:50:29.202455",
     "status": "completed"
    },
    "tags": [
     "experiment_json"
    ]
   },
   "outputs": [
    {
     "data": {
      "text/plain": [
       "'{\"experiment_name\": \"tl_3-filterv2:oracle.run1.framed -> cores\", \"parameters\": {\"experiment_name\": \"tl_3-filterv2:oracle.run1.framed -> cores\", \"device\": \"cuda\", \"lr\": 0.0001, \"x_shape\": [2, 200], \"n_shot\": 3, \"n_query\": 2, \"train_k_factor\": 3, \"val_k_factor\": 2, \"test_k_factor\": 2, \"torch_default_dtype\": \"torch.float32\", \"n_epoch\": 50, \"patience\": 3, \"criteria_for_best\": \"target_accuracy\", \"x_net\": [{\"class\": \"nnReshape\", \"kargs\": {\"shape\": [-1, 1, 2, 200]}}, {\"class\": \"Conv2d\", \"kargs\": {\"in_channels\": 1, \"out_channels\": 256, \"kernel_size\": [1, 7], \"bias\": false, \"padding\": [0, 3]}}, {\"class\": \"ReLU\", \"kargs\": {\"inplace\": true}}, {\"class\": \"BatchNorm2d\", \"kargs\": {\"num_features\": 256}}, {\"class\": \"Conv2d\", \"kargs\": {\"in_channels\": 256, \"out_channels\": 80, \"kernel_size\": [2, 7], \"bias\": true, \"padding\": [0, 3]}}, {\"class\": \"ReLU\", \"kargs\": {\"inplace\": true}}, {\"class\": \"BatchNorm2d\", \"kargs\": {\"num_features\": 80}}, {\"class\": \"Flatten\", \"kargs\": {}}, {\"class\": \"Linear\", \"kargs\": {\"in_features\": 16000, \"out_features\": 256}}, {\"class\": \"ReLU\", \"kargs\": {\"inplace\": true}}, {\"class\": \"BatchNorm1d\", \"kargs\": {\"num_features\": 256}}, {\"class\": \"Linear\", \"kargs\": {\"in_features\": 256, \"out_features\": 256}}], \"NUM_LOGS_PER_EPOCH\": 10, \"BEST_MODEL_PATH\": \"./best_model.pth\", \"n_way\": 16, \"datasets\": [{\"labels\": [\"1-10.\", \"1-11.\", \"1-15.\", \"1-16.\", \"1-17.\", \"1-18.\", \"1-19.\", \"10-4.\", \"10-7.\", \"11-1.\", \"11-14.\", \"11-17.\", \"11-20.\", \"11-7.\", \"13-20.\", \"13-8.\", \"14-10.\", \"14-11.\", \"14-14.\", \"14-7.\", \"15-1.\", \"15-20.\", \"16-1.\", \"16-16.\", \"17-10.\", \"17-11.\", \"17-2.\", \"19-1.\", \"19-16.\", \"19-19.\", \"19-20.\", \"19-3.\", \"2-10.\", \"2-11.\", \"2-17.\", \"2-18.\", \"2-20.\", \"2-3.\", \"2-4.\", \"2-5.\", \"2-6.\", \"2-7.\", \"2-8.\", \"3-13.\", \"3-18.\", \"3-3.\", \"4-1.\", \"4-10.\", \"4-11.\", \"4-19.\", \"5-5.\", \"6-15.\", \"7-10.\", \"7-14.\", \"8-18.\", \"8-20.\", \"8-3.\", \"8-8.\"], \"domains\": [1, 2, 3, 4, 5], \"num_examples_per_domain_per_label\": -1, \"pickle_path\": \"/root/csc500-main/datasets/cores.stratified_ds.2022A.pkl\", \"source_or_target_dataset\": \"target\", \"x_transforms\": [\"unit_power\", \"lowpass_+/-10MHz\", \"take_200\"], \"episode_transforms\": [], \"domain_prefix\": \"C_\"}, {\"labels\": [\"3123D52\", \"3123D65\", \"3123D79\", \"3123D80\", \"3123D54\", \"3123D70\", \"3123D7B\", \"3123D89\", \"3123D58\", \"3123D76\", \"3123D7D\", \"3123EFE\", \"3123D64\", \"3123D78\", \"3123D7E\", \"3124E4A\"], \"domains\": [32, 38, 8, 44, 14, 50, 20, 26], \"num_examples_per_domain_per_label\": 2000, \"pickle_path\": \"/root/csc500-main/datasets/oracle.Run1_framed_2000Examples_stratified_ds.2022A.pkl\", \"source_or_target_dataset\": \"source\", \"x_transforms\": [\"unit_power\", \"take_200\", \"resample_20Msps_to_25Msps\"], \"episode_transforms\": [], \"domain_prefix\": \"O_\"}], \"seed\": 500, \"dataset_seed\": 500, \"domains_source\": [\"O_32\", \"O_38\", \"O_8\", \"O_44\", \"O_14\", \"O_50\", \"O_20\", \"O_26\"], \"domains_target\": [\"C_1\", \"C_2\", \"C_3\", \"C_4\", \"C_5\"]}, \"results\": {\"source_test_label_accuracy\": 0.7910807291666667, \"source_test_label_loss\": 0.573000967502594, \"target_test_label_accuracy\": 0.811938202247191, \"target_test_label_loss\": 1.6684939861297607, \"source_val_label_accuracy\": 0.7917317708333333, \"source_val_label_loss\": 0.5705585479736328, \"target_val_label_accuracy\": 0.8122857142857143, \"target_val_label_loss\": 1.620428442955017, \"total_epochs_trained\": 7, \"total_experiment_time_secs\": 2385.1627712249756, \"confusion\": {\"O_50\": {\"7\": {\"5\": 12, \"7\": 191, \"13\": 23, \"10\": 4, \"6\": 9, \"4\": 1}, \"10\": {\"10\": 218, \"7\": 3, \"8\": 10, \"0\": 3, \"13\": 6}, \"0\": {\"0\": 205, \"10\": 13, \"2\": 21, \"13\": 1}, \"11\": {\"11\": 213, \"9\": 12, \"15\": 9, \"14\": 5, \"12\": 1}, \"2\": {\"2\": 225, \"0\": 15}, \"14\": {\"14\": 239, \"11\": 1}, \"9\": {\"11\": 10, \"9\": 221, \"12\": 9}, \"13\": {\"13\": 195, \"5\": 13, \"6\": 7, \"7\": 15, \"10\": 9, \"0\": 1}, \"8\": {\"8\": 233, \"3\": 3, \"10\": 4}, \"15\": {\"15\": 196, \"6\": 5, \"4\": 22, \"1\": 14, \"11\": 3}, \"4\": {\"4\": 138, \"1\": 16, \"15\": 31, \"13\": 2, \"5\": 42, \"6\": 6, \"7\": 5}, \"5\": {\"4\": 23, \"7\": 26, \"13\": 31, \"1\": 15, \"5\": 140, \"15\": 1, \"6\": 2, \"10\": 2}, \"3\": {\"3\": 236, \"8\": 4}, \"1\": {\"1\": 184, \"15\": 31, \"6\": 6, \"5\": 5, \"4\": 11, \"13\": 1, \"11\": 2}, \"6\": {\"6\": 204, \"13\": 16, \"1\": 4, \"15\": 2, \"4\": 6, \"5\": 3, \"7\": 5}, \"12\": {\"12\": 228, \"11\": 4, \"14\": 2, \"9\": 6}}, \"O_14\": {\"14\": {\"14\": 192, \"2\": 29, \"13\": 14, \"3\": 4, \"6\": 1}, \"6\": {\"6\": 166, \"13\": 68, \"2\": 3, \"14\": 3}, \"5\": {\"4\": 40, \"5\": 158, \"1\": 24, \"2\": 17, \"3\": 1}, \"15\": {\"15\": 240}, \"11\": {\"11\": 226, \"0\": 3, \"9\": 11}, \"8\": {\"8\": 240}, \"12\": {\"12\": 239, \"9\": 1}, \"1\": {\"1\": 227, \"5\": 13}, \"2\": {\"2\": 118, \"14\": 49, \"13\": 16, \"6\": 23, \"4\": 7, \"5\": 20, \"3\": 6, \"1\": 1}, \"13\": {\"14\": 33, \"13\": 122, \"6\": 71, \"2\": 12, \"5\": 1, \"4\": 1}, \"3\": {\"3\": 224, \"5\": 2, \"2\": 6, \"4\": 6, \"14\": 2}, \"0\": {\"0\": 232, \"11\": 1, \"10\": 4, \"14\": 1, \"3\": 2}, \"9\": {\"9\": 240}, \"4\": {\"4\": 211, \"2\": 4, \"5\": 23, \"1\": 2}, \"7\": {\"7\": 240}, \"10\": {\"10\": 240}}, \"O_32\": {\"4\": {\"4\": 150, \"13\": 15, \"2\": 47, \"5\": 8, \"7\": 20}, \"14\": {\"14\": 131, \"11\": 56, \"7\": 16, \"8\": 8, \"0\": 17, \"3\": 8, \"13\": 1, \"4\": 1, \"5\": 2}, \"5\": {\"5\": 106, \"4\": 12, \"3\": 22, \"13\": 34, \"7\": 48, \"2\": 4, \"0\": 2, \"14\": 6, \"8\": 5, \"11\": 1}, \"10\": {\"10\": 240}, \"13\": {\"4\": 14, \"13\": 170, \"8\": 10, \"11\": 2, \"7\": 12, \"14\": 1, \"3\": 8, \"5\": 21, \"0\": 2}, \"9\": {\"9\": 238, \"12\": 2}, \"6\": {\"6\": 240}, \"3\": {\"3\": 227, \"13\": 8, \"5\": 4, \"8\": 1}, \"15\": {\"15\": 239, \"8\": 1}, \"7\": {\"7\": 163, \"5\": 22, \"14\": 17, \"4\": 15, \"13\": 9, \"11\": 9, \"2\": 4, \"0\": 1}, \"12\": {\"12\": 240}, \"8\": {\"8\": 172, \"0\": 29, \"13\": 18, \"14\": 6, \"3\": 5, \"5\": 8, \"7\": 1, \"11\": 1}, \"11\": {\"11\": 216, \"14\": 18, \"7\": 1, \"3\": 4, \"5\": 1}, \"2\": {\"2\": 184, \"4\": 49, \"5\": 1, \"7\": 6}, \"1\": {\"1\": 240}, \"0\": {\"0\": 194, \"5\": 2, \"13\": 3, \"14\": 8, \"8\": 28, \"7\": 4, \"2\": 1}}, \"O_44\": {\"8\": {\"0\": 77, \"8\": 146, \"5\": 8, \"15\": 9}, \"11\": {\"11\": 232, \"13\": 7, \"6\": 1}, \"14\": {\"14\": 147, \"4\": 69, \"5\": 9, \"15\": 15}, \"10\": {\"10\": 185, \"12\": 7, \"2\": 19, \"1\": 27, \"7\": 2}, \"3\": {\"3\": 227, \"1\": 9, \"2\": 1, \"12\": 3}, \"15\": {\"15\": 185, \"8\": 1, \"0\": 18, \"14\": 25, \"5\": 9, \"4\": 2}, \"2\": {\"2\": 183, \"7\": 21, \"1\": 14, \"10\": 19, \"3\": 2, \"9\": 1}, \"12\": {\"12\": 202, \"3\": 4, \"1\": 27, \"10\": 7}, \"4\": {\"14\": 81, \"4\": 149, \"15\": 8, \"13\": 1, \"9\": 1}, \"1\": {\"1\": 139, \"10\": 26, \"12\": 57, \"3\": 8, \"2\": 10}, \"0\": {\"0\": 150, \"8\": 64, \"5\": 15, \"15\": 10, \"14\": 1}, \"9\": {\"13\": 28, \"9\": 106, \"7\": 68, \"6\": 34, \"2\": 4}, \"5\": {\"5\": 190, \"0\": 19, \"14\": 10, \"15\": 15, \"4\": 2, \"8\": 4}, \"6\": {\"13\": 37, \"6\": 174, \"9\": 21, \"7\": 8}, \"7\": {\"7\": 140, \"9\": 52, \"2\": 41, \"6\": 7}, \"13\": {\"13\": 166, \"9\": 25, \"6\": 36, \"11\": 9, \"7\": 4}}, \"O_8\": {\"13\": {\"13\": 98, \"0\": 60, \"14\": 13, \"4\": 34, \"10\": 23, \"6\": 9, \"1\": 1, \"7\": 2}, \"3\": {\"3\": 237, \"2\": 2, \"12\": 1}, \"15\": {\"15\": 211, \"12\": 28, \"2\": 1}, \"4\": {\"4\": 155, \"13\": 42, \"10\": 2, \"6\": 20, \"14\": 17, \"0\": 4}, \"7\": {\"7\": 194, \"0\": 7, \"6\": 39}, \"2\": {\"2\": 221, \"3\": 10, \"7\": 8, \"12\": 1}, \"1\": {\"1\": 224, \"14\": 4, \"11\": 9, \"5\": 3}, \"0\": {\"7\": 4, \"13\": 30, \"0\": 197, \"4\": 7, \"6\": 2}, \"12\": {\"12\": 171, \"3\": 19, \"2\": 1, \"15\": 48, \"8\": 1}, \"6\": {\"0\": 11, \"4\": 12, \"6\": 174, \"7\": 37, \"13\": 6}, \"11\": {\"11\": 224, \"1\": 16}, \"9\": {\"9\": 240}, \"5\": {\"5\": 220, \"1\": 10, \"10\": 10}, \"10\": {\"10\": 187, \"14\": 32, \"4\": 9, \"13\": 11, \"5\": 1}, \"14\": {\"14\": 169, \"13\": 11, \"4\": 20, \"10\": 34, \"1\": 6}, \"8\": {\"8\": 237, \"15\": 3}}, \"O_20\": {\"6\": {\"6\": 217, \"7\": 6, \"14\": 17}, \"11\": {\"11\": 240}, \"5\": {\"5\": 177, \"0\": 17, \"15\": 24, \"4\": 4, \"1\": 7, \"12\": 11}, \"14\": {\"14\": 220, \"6\": 18, \"8\": 1, \"10\": 1}, \"2\": {\"2\": 146, \"12\": 9, \"13\": 15, \"9\": 41, \"3\": 11, \"7\": 17, \"1\": 1}, \"7\": {\"2\": 24, \"7\": 206, \"8\": 5, \"9\": 2, \"6\": 2, \"13\": 1}, \"3\": {\"3\": 137, \"9\": 25, \"2\": 20, \"4\": 8, \"12\": 38, \"1\": 7, \"7\": 3, \"8\": 1, \"14\": 1}, \"4\": {\"4\": 218, \"3\": 11, \"12\": 1, \"8\": 10}, \"9\": {\"2\": 56, \"3\": 38, \"9\": 129, \"12\": 12, \"1\": 1, \"13\": 2, \"7\": 2}, \"12\": {\"12\": 114, \"1\": 58, \"3\": 43, \"4\": 3, \"9\": 8, \"2\": 10, \"5\": 4}, \"0\": {\"0\": 157, \"15\": 33, \"5\": 48, \"13\": 1, \"4\": 1}, \"10\": {\"10\": 233, \"14\": 7}, \"8\": {\"8\": 210, \"4\": 12, \"7\": 12, \"3\": 1, \"14\": 3, \"6\": 2}, \"13\": {\"13\": 222, \"2\": 14, \"15\": 2, \"1\": 2}, \"1\": {\"12\": 52, \"15\": 21, \"1\": 151, \"5\": 12, \"3\": 4}, \"15\": {\"15\": 186, \"0\": 19, \"5\": 16, \"1\": 14, \"12\": 1, \"13\": 4}}, \"O_38\": {\"3\": {\"3\": 216, \"9\": 8, \"5\": 1, \"0\": 12, \"7\": 3}, \"8\": {\"8\": 158, \"15\": 10, \"0\": 14, \"7\": 6, \"5\": 40, \"1\": 1, \"13\": 8, \"10\": 3}, \"0\": {\"0\": 157, \"3\": 10, \"7\": 25, \"8\": 32, \"10\": 6, \"13\": 6, \"5\": 4}, \"2\": {\"14\": 20, \"2\": 216, \"13\": 3, \"10\": 1}, \"4\": {\"4\": 236, \"12\": 3, \"10\": 1}, \"7\": {\"7\": 196, \"5\": 29, \"0\": 6, \"8\": 9}, \"12\": {\"12\": 237, \"4\": 2, \"14\": 1}, \"6\": {\"6\": 229, \"9\": 8, \"1\": 1, \"5\": 2}, \"15\": {\"15\": 200, \"8\": 6, \"13\": 12, \"10\": 1, \"1\": 21}, \"11\": {\"11\": 232, \"4\": 3, \"14\": 4, \"2\": 1}, \"9\": {\"9\": 220, \"6\": 12, \"5\": 4, \"8\": 1, \"3\": 3}, \"14\": {\"14\": 225, \"2\": 11, \"10\": 2, \"12\": 2}, \"10\": {\"10\": 198, \"7\": 7, \"13\": 13, \"0\": 9, \"8\": 4, \"14\": 5, \"4\": 3, \"11\": 1}, \"5\": {\"5\": 123, \"8\": 49, \"0\": 4, \"7\": 39, \"6\": 5, \"1\": 1, \"15\": 9, \"10\": 2, \"9\": 7, \"13\": 1}, \"1\": {\"1\": 237, \"15\": 3}, \"13\": {\"10\": 21, \"13\": 188, \"15\": 15, \"8\": 3, \"2\": 8, \"1\": 2, \"0\": 3}}, \"O_26\": {\"5\": {\"5\": 185, \"2\": 19, \"15\": 5, \"3\": 2, \"7\": 2, \"13\": 22, \"9\": 4, \"8\": 1}, \"8\": {\"10\": 38, \"14\": 10, \"8\": 117, \"15\": 10, \"4\": 18, \"7\": 12, \"0\": 18, \"6\": 4, \"2\": 7, \"3\": 1, \"9\": 4, \"5\": 1}, \"4\": {\"4\": 119, \"14\": 52, \"8\": 21, \"10\": 14, \"7\": 10, \"0\": 15, \"1\": 9}, \"12\": {\"12\": 240}, \"6\": {\"9\": 19, \"6\": 195, \"10\": 17, \"15\": 6, \"0\": 2, \"8\": 1}, \"7\": {\"3\": 30, \"7\": 162, \"8\": 11, \"2\": 20, \"4\": 12, \"15\": 2, \"14\": 1, \"0\": 2}, \"10\": {\"10\": 109, \"14\": 20, \"6\": 9, \"15\": 3, \"0\": 59, \"8\": 28, \"4\": 10, \"9\": 2}, \"0\": {\"4\": 28, \"0\": 82, \"10\": 61, \"14\": 40, \"8\": 22, \"7\": 5, \"1\": 1, \"6\": 1}, \"15\": {\"15\": 118, \"13\": 14, \"9\": 76, \"5\": 3, \"6\": 11, \"0\": 1, \"8\": 8, \"2\": 5, \"3\": 1, \"7\": 2, \"10\": 1}, \"9\": {\"9\": 140, \"15\": 62, \"2\": 1, \"13\": 11, \"6\": 13, \"8\": 7, \"0\": 1, \"10\": 3, \"5\": 2}, \"11\": {\"11\": 240}, \"14\": {\"4\": 46, \"14\": 124, \"10\": 11, \"0\": 33, \"1\": 19, \"8\": 4, \"7\": 3}, \"2\": {\"5\": 26, \"3\": 80, \"2\": 106, \"8\": 5, \"15\": 8, \"7\": 11, \"13\": 4}, \"13\": {\"13\": 174, \"5\": 27, \"15\": 9, \"2\": 10, \"9\": 19, \"6\": 1}, \"3\": {\"3\": 171, \"2\": 45, \"5\": 2, \"4\": 1, \"7\": 21}, \"1\": {\"14\": 21, \"1\": 198, \"4\": 15, \"8\": 1, \"7\": 4, \"10\": 1}}, \"C_4\": {\"38\": {\"38\": 39, \"22\": 1}, \"3\": {\"3\": 61, \"16\": 2, \"34\": 1, \"26\": 3, \"18\": 2, \"50\": 6, \"8\": 2, \"37\": 1, \"54\": 5, \"52\": 4, \"48\": 5, \"44\": 1, \"6\": 6, \"23\": 6, \"36\": 6, \"5\": 2, \"20\": 4, \"53\": 1, \"39\": 1, \"29\": 1, \"51\": 3, \"47\": 1}, \"24\": {\"24\": 50, \"10\": 1, \"43\": 3, \"14\": 1, \"22\": 1}, \"49\": {\"49\": 20}, \"7\": {\"7\": 21, \"42\": 1, \"48\": 1, \"35\": 1}, \"17\": {\"4\": 2, \"17\": 73, \"21\": 1, \"9\": 4}, \"43\": {\"43\": 135, \"0\": 8, \"15\": 2, \"11\": 2, \"46\": 1}, \"30\": {\"30\": 40, \"8\": 3, \"51\": 1}, \"44\": {\"44\": 108, \"19\": 12, \"33\": 1, \"4\": 4, \"25\": 1, \"40\": 3, \"51\": 2, \"26\": 1}, \"23\": {\"23\": 118, \"42\": 1, \"46\": 1, \"18\": 13, \"5\": 3, \"52\": 3, \"3\": 4, \"54\": 1}, \"37\": {\"37\": 24}, \"4\": {\"4\": 104, \"9\": 12, \"44\": 2, \"27\": 9, \"50\": 1, \"29\": 3, \"19\": 1}, \"57\": {\"57\": 80, \"35\": 1, \"28\": 4, \"55\": 2, \"48\": 2, \"29\": 7, \"42\": 2, \"33\": 1, \"1\": 1}, \"16\": {\"16\": 81, \"5\": 2, \"47\": 1, \"52\": 3, \"54\": 2, \"11\": 2, \"15\": 3, \"3\": 1, \"48\": 1}, \"18\": {\"18\": 87, \"36\": 3, \"23\": 12, \"50\": 1, \"6\": 1, \"42\": 1, \"5\": 1, \"3\": 1, \"13\": 1}, \"20\": {\"20\": 121, \"36\": 1, \"6\": 1, \"18\": 1}, \"45\": {\"45\": 81, \"27\": 2, \"17\": 2, \"12\": 3, \"51\": 1, \"21\": 2, \"8\": 1, \"50\": 2, \"4\": 1, \"19\": 1}, \"15\": {\"15\": 98, \"54\": 3, \"46\": 8, \"47\": 3, \"11\": 11, \"16\": 4, \"52\": 5}, \"52\": {\"52\": 100, \"39\": 2, \"16\": 3, \"15\": 5, \"6\": 1, \"41\": 1, \"3\": 1, \"46\": 3}, \"19\": {\"40\": 19, \"19\": 91, \"9\": 3, \"29\": 3, \"4\": 5, \"44\": 12, \"27\": 2, \"33\": 2, \"37\": 2, \"26\": 1}, \"54\": {\"54\": 108}, \"56\": {\"56\": 112, \"13\": 4, \"24\": 2, \"55\": 1, \"0\": 1, \"10\": 6, \"22\": 1, \"29\": 2, \"11\": 1}, \"40\": {\"40\": 108, \"19\": 12, \"26\": 1, \"50\": 2, \"17\": 1, \"51\": 1, \"4\": 2, \"44\": 3, \"53\": 1, \"9\": 2, \"27\": 1}, \"28\": {\"28\": 23, \"55\": 2, \"42\": 4, \"25\": 1, \"47\": 1, \"57\": 1}, \"2\": {\"0\": 1, \"2\": 31, \"24\": 2, \"55\": 1, \"43\": 1}, \"9\": {\"17\": 6, \"9\": 94, \"33\": 2, \"44\": 1, \"4\": 9, \"51\": 1, \"53\": 1, \"19\": 1, \"30\": 1, \"50\": 1, \"27\": 2, \"8\": 1}, \"0\": {\"0\": 49, \"43\": 12, \"11\": 8, \"15\": 6, \"24\": 2, \"41\": 1, \"46\": 1, \"16\": 1}, \"36\": {\"36\": 86, \"20\": 3, \"4\": 1, \"50\": 1, \"3\": 1}, \"55\": {\"55\": 110, \"3\": 1, \"1\": 6, \"47\": 3, \"6\": 1, \"16\": 1, \"5\": 1, \"43\": 2, \"54\": 1, \"24\": 1, \"0\": 1, \"11\": 2}, \"35\": {\"35\": 38, \"55\": 1, \"47\": 1}, \"39\": {\"39\": 17, \"52\": 3}, \"31\": {\"31\": 28}, \"14\": {\"38\": 2, \"44\": 2, \"14\": 6, \"28\": 1, \"24\": 2, \"22\": 1, \"33\": 1, \"4\": 1}, \"12\": {\"12\": 91, \"8\": 1}, \"6\": {\"6\": 67, \"4\": 1, \"3\": 6, \"50\": 4, \"47\": 3, \"53\": 3, \"25\": 2, \"35\": 1, \"23\": 5, \"5\": 2, \"20\": 2, \"16\": 5, \"48\": 1, \"36\": 6, \"55\": 1, \"41\": 1, \"52\": 1, \"54\": 1}, \"26\": {\"26\": 24}, \"50\": {\"51\": 12, \"47\": 1, \"50\": 52, \"3\": 7, \"36\": 9, \"8\": 16, \"6\": 6, \"9\": 2, \"20\": 11, \"18\": 2, \"27\": 7, \"53\": 2, \"48\": 2, \"23\": 2, \"21\": 1}, \"21\": {\"21\": 120, \"8\": 2}, \"46\": {\"52\": 9, \"46\": 82, \"43\": 6, \"15\": 16, \"5\": 3, \"47\": 1, \"11\": 6, \"0\": 3, \"16\": 4, \"23\": 1, \"24\": 1, \"41\": 1, \"32\": 3, \"54\": 3, \"22\": 1}, \"51\": {\"50\": 6, \"51\": 122, \"8\": 5, \"53\": 5, \"25\": 1, \"4\": 1}, \"41\": {\"41\": 30, \"5\": 4, \"52\": 2}, \"34\": {\"34\": 21, \"54\": 2, \"52\": 1}, \"47\": {\"47\": 99, \"55\": 5, \"18\": 3, \"6\": 4, \"16\": 3, \"23\": 2, \"5\": 1, \"48\": 2, \"35\": 1}, \"5\": {\"5\": 57, \"15\": 7, \"57\": 3, \"28\": 1, \"46\": 3, \"32\": 1, \"6\": 2, \"52\": 4, \"47\": 5, \"23\": 5, \"16\": 6, \"54\": 4, \"55\": 2, \"49\": 4, \"48\": 1, \"42\": 2, \"41\": 1}, \"1\": {\"1\": 30, \"46\": 1, \"47\": 2, \"55\": 6, \"42\": 1}, \"48\": {\"48\": 123, \"36\": 4, \"6\": 1, \"18\": 1, \"20\": 2, \"47\": 1, \"51\": 1, \"44\": 1}, \"29\": {\"29\": 71, \"27\": 1, \"15\": 1, \"35\": 6, \"33\": 2, \"4\": 15, \"53\": 1, \"19\": 10, \"57\": 5, \"9\": 4, \"48\": 1, \"40\": 1}, \"22\": {\"22\": 115, \"10\": 4, \"38\": 3, \"43\": 4, \"0\": 1, \"24\": 1}, \"10\": {\"10\": 119, \"43\": 1, \"24\": 1, \"13\": 6, \"22\": 5}, \"32\": {\"32\": 24}, \"13\": {\"10\": 12, \"13\": 99, \"24\": 1}, \"42\": {\"42\": 32}, \"27\": {\"27\": 125, \"21\": 1, \"4\": 1, \"17\": 6, \"50\": 3, \"25\": 1, \"8\": 1}, \"8\": {\"8\": 123, \"20\": 11, \"50\": 5, \"30\": 2, \"53\": 1}, \"33\": {\"40\": 4, \"19\": 1, \"33\": 28, \"4\": 2, \"9\": 1}, \"25\": {\"25\": 114, \"21\": 4, \"53\": 3, \"50\": 2, \"27\": 1, \"51\": 7, \"8\": 1}, \"11\": {\"11\": 69, \"54\": 1, \"43\": 6, \"15\": 12, \"46\": 4, \"0\": 4, \"55\": 1, \"16\": 3, \"47\": 1, \"34\": 1, \"24\": 1, \"5\": 1}, \"53\": {\"53\": 97, \"50\": 2, \"51\": 6, \"44\": 1, \"4\": 1, \"36\": 2, \"8\": 3}}, \"C_2\": {\"32\": {\"32\": 27, \"27\": 1}, \"17\": {\"17\": 100, \"4\": 1, \"27\": 3}, \"38\": {\"38\": 19, \"28\": 1}, \"2\": {\"2\": 28, \"36\": 3, \"21\": 1}, \"43\": {\"43\": 135, \"38\": 1, \"37\": 1, \"24\": 7}, \"56\": {\"43\": 4, \"56\": 116, \"22\": 6, \"10\": 6, \"24\": 3, \"1\": 1, \"13\": 6, \"55\": 2}, \"37\": {\"37\": 36}, \"49\": {\"49\": 22, \"18\": 2}, \"0\": {\"0\": 34, \"39\": 2, \"5\": 3, \"16\": 2, \"42\": 1, \"15\": 3, \"23\": 1, \"18\": 1, \"52\": 1}, \"29\": {\"29\": 92, \"57\": 1, \"36\": 2, \"33\": 7, \"1\": 5, \"19\": 7, \"4\": 6, \"46\": 1, \"45\": 1, \"9\": 4, \"32\": 1, \"27\": 1}, \"35\": {\"35\": 32}, \"18\": {\"23\": 2, \"18\": 41, \"54\": 1, \"6\": 2, \"30\": 1, \"34\": 1}, \"25\": {\"25\": 99, \"21\": 8, \"8\": 6, \"36\": 4, \"26\": 1, \"20\": 2, \"53\": 6, \"3\": 1, \"51\": 6, \"6\": 2, \"27\": 1}, \"23\": {\"23\": 104, \"0\": 2, \"30\": 9, \"6\": 2, \"18\": 1, \"15\": 5, \"5\": 1}, \"15\": {\"15\": 133, \"52\": 7, \"11\": 1, \"16\": 5}, \"21\": {\"21\": 98, \"25\": 9, \"50\": 1, \"48\": 1, \"52\": 1, \"2\": 1, \"20\": 3, \"6\": 1, \"3\": 3, \"54\": 1, \"53\": 1}, \"51\": {\"51\": 103, \"8\": 7, \"20\": 5, \"53\": 11, \"36\": 1, \"27\": 1}, \"20\": {\"20\": 117, \"51\": 7, \"36\": 2, \"8\": 8, \"27\": 1, \"25\": 1, \"53\": 2}, \"7\": {\"7\": 30, \"28\": 2, \"11\": 1, \"30\": 1, \"16\": 2}, \"50\": {\"50\": 98, \"8\": 12, \"18\": 4, \"54\": 3, \"2\": 2, \"3\": 3, \"21\": 1, \"30\": 2, \"48\": 1, \"36\": 1, \"6\": 5, \"20\": 2, \"53\": 2}, \"31\": {\"31\": 27, \"1\": 1}, \"30\": {\"30\": 127, \"23\": 5, \"2\": 1, \"3\": 1, \"6\": 2, \"48\": 1, \"18\": 2, \"50\": 1}, \"19\": {\"19\": 114, \"4\": 7, \"45\": 2, \"44\": 5, \"29\": 6, \"40\": 11, \"9\": 5, \"27\": 1, \"36\": 3, \"32\": 1, \"17\": 1}, \"9\": {\"9\": 126, \"19\": 8, \"44\": 1, \"27\": 2, \"40\": 4, \"4\": 3}, \"52\": {\"52\": 108, \"15\": 4, \"41\": 1, \"16\": 8, \"23\": 3}, \"45\": {\"45\": 75, \"4\": 17, \"9\": 4, \"26\": 1, \"20\": 3, \"44\": 2, \"53\": 2, \"27\": 3, \"8\": 9, \"36\": 3, \"25\": 4, \"3\": 1, \"40\": 1, \"50\": 1, \"51\": 2}, \"8\": {\"8\": 127, \"50\": 5, \"53\": 2, \"20\": 10, \"54\": 1, \"45\": 1, \"51\": 2, \"27\": 5, \"36\": 1}, \"55\": {\"55\": 117, \"31\": 2, \"34\": 1, \"28\": 1, \"1\": 7, \"46\": 4, \"47\": 11, \"13\": 2, \"5\": 3, \"11\": 6, \"42\": 3, \"2\": 1, \"3\": 1, \"16\": 1}, \"12\": {\"12\": 91, \"20\": 1}, \"40\": {\"40\": 109, \"19\": 11, \"8\": 1, \"44\": 3, \"9\": 4, \"45\": 2, \"4\": 8, \"29\": 2}, \"28\": {\"28\": 27, \"11\": 1}, \"36\": {\"36\": 116}, \"39\": {\"39\": 24, \"52\": 1, \"37\": 1, \"15\": 2}, \"46\": {\"46\": 80, \"28\": 3, \"34\": 1, \"52\": 1, \"11\": 4, \"48\": 6, \"54\": 2, \"6\": 4, \"3\": 4, \"30\": 2, \"16\": 9, \"47\": 5, \"55\": 1}, \"14\": {\"14\": 7, \"37\": 1, \"9\": 2, \"24\": 1, \"10\": 3, \"4\": 2, \"45\": 1, \"43\": 2, \"33\": 1, \"35\": 1, \"29\": 1, \"44\": 2}, \"57\": {\"57\": 115, \"5\": 7, \"1\": 8, \"29\": 1, \"48\": 3, \"55\": 2, \"47\": 5, \"46\": 1}, \"34\": {\"34\": 21, \"32\": 1, \"23\": 1, \"50\": 1, \"52\": 2, \"18\": 2}, \"1\": {\"1\": 101, \"34\": 1, \"42\": 1, \"55\": 4, \"2\": 1, \"47\": 3, \"11\": 1}, \"53\": {\"53\": 128, \"51\": 4, \"20\": 3, \"25\": 1}, \"48\": {\"48\": 121, \"23\": 1, \"30\": 2, \"6\": 1, \"54\": 1, \"46\": 2, \"16\": 1, \"47\": 1}, \"3\": {\"3\": 17, \"52\": 6, \"16\": 6, \"19\": 4, \"6\": 10, \"41\": 1, \"51\": 1, \"46\": 4, \"54\": 4, \"50\": 4, \"30\": 4, \"42\": 1, \"2\": 2, \"29\": 4, \"21\": 2, \"4\": 4, \"1\": 6, \"48\": 3, \"17\": 2, \"27\": 1, \"32\": 1, \"53\": 2, \"28\": 1, \"9\": 1, \"25\": 1}, \"16\": {\"52\": 14, \"16\": 124, \"15\": 6, \"11\": 5, \"3\": 1, \"6\": 1, \"47\": 1}, \"6\": {\"52\": 6, \"36\": 4, \"6\": 74, \"16\": 5, \"20\": 1, \"21\": 3, \"50\": 5, \"54\": 4, \"18\": 4, \"48\": 3, \"30\": 3, \"8\": 3, \"23\": 2, \"3\": 4, \"41\": 1, \"25\": 1, \"15\": 1}, \"10\": {\"10\": 93, \"14\": 3, \"43\": 1, \"24\": 10, \"13\": 5}, \"13\": {\"13\": 113, \"10\": 2, \"24\": 1}, \"26\": {\"26\": 23, \"20\": 1}, \"24\": {\"24\": 89, \"10\": 2, \"13\": 2, \"38\": 1, \"43\": 2}, \"44\": {\"44\": 74, \"45\": 5, \"32\": 1, \"40\": 8, \"4\": 2, \"19\": 6, \"29\": 4}, \"27\": {\"27\": 143, \"25\": 1, \"8\": 4, \"3\": 1, \"17\": 1}, \"22\": {\"22\": 94, \"14\": 1, \"56\": 19, \"13\": 2, \"10\": 2, \"24\": 2, \"55\": 3, \"43\": 2, \"11\": 1, \"57\": 2}, \"33\": {\"33\": 23, \"29\": 4, \"9\": 1}, \"47\": {\"47\": 79, \"5\": 7, \"2\": 1, \"1\": 2, \"46\": 3, \"55\": 13, \"16\": 4, \"57\": 1, \"48\": 2, \"52\": 1, \"3\": 1, \"42\": 3, \"6\": 1}, \"5\": {\"11\": 8, \"47\": 8, \"34\": 1, \"6\": 1, \"5\": 64, \"55\": 7, \"46\": 2, \"29\": 1, \"2\": 1, \"0\": 3, \"16\": 5, \"57\": 13, \"1\": 1, \"31\": 3, \"4\": 1, \"42\": 1}, \"4\": {\"4\": 99, \"9\": 18, \"33\": 1, \"19\": 6, \"40\": 3, \"36\": 1, \"45\": 7, \"27\": 2, \"20\": 1}, \"41\": {\"41\": 19, \"6\": 1}, \"11\": {\"11\": 113, \"0\": 2, \"16\": 17, \"46\": 5, \"15\": 7, \"43\": 3, \"47\": 1, \"28\": 2}, \"54\": {\"54\": 107, \"6\": 1}, \"42\": {\"42\": 34, \"11\": 1, \"48\": 1}}, \"C_3\": {\"5\": {\"5\": 57, \"48\": 6, \"28\": 7, \"36\": 1, \"55\": 3, \"57\": 20, \"34\": 3, \"47\": 6, \"11\": 1, \"46\": 3, \"52\": 1, \"1\": 3, \"0\": 5}, \"32\": {\"32\": 26, \"4\": 1, \"27\": 1}, \"33\": {\"33\": 25, \"21\": 2, \"30\": 1}, \"49\": {\"49\": 20}, \"39\": {\"39\": 16}, \"11\": {\"47\": 1, \"11\": 115, \"41\": 1, \"16\": 6, \"15\": 14, \"43\": 2, \"6\": 1, \"52\": 1, \"46\": 1}, \"8\": {\"8\": 101, \"12\": 5, \"50\": 3, \"54\": 1, \"36\": 1, \"51\": 4, \"20\": 1}, \"26\": {\"26\": 22, \"16\": 1, \"41\": 1}, \"51\": {\"51\": 116, \"53\": 1, \"8\": 5}, \"4\": {\"4\": 116, \"32\": 1, \"19\": 11, \"29\": 4, \"45\": 1, \"9\": 6, \"40\": 4, \"27\": 2, \"17\": 1}, \"52\": {\"52\": 100, \"16\": 13, \"30\": 1, \"6\": 2, \"11\": 1, \"46\": 1}, \"47\": {\"47\": 66, \"5\": 5, \"42\": 2, \"46\": 1, \"48\": 4, \"36\": 1, \"6\": 2, \"1\": 1, \"3\": 3, \"34\": 2, \"35\": 2, \"16\": 1, \"57\": 1, \"55\": 1}, \"17\": {\"17\": 99, \"27\": 6, \"56\": 1, \"51\": 1, \"25\": 1}, \"53\": {\"53\": 126, \"21\": 1, \"51\": 8, \"8\": 1}, \"2\": {\"2\": 31, \"25\": 1}, \"12\": {\"8\": 2, \"12\": 87, \"36\": 1, \"17\": 2}, \"37\": {\"37\": 27, \"33\": 1}, \"9\": {\"9\": 131, \"33\": 1, \"8\": 1, \"4\": 1, \"3\": 1, \"30\": 1, \"29\": 6, \"27\": 2, \"1\": 2, \"53\": 1, \"50\": 1}, \"13\": {\"13\": 124, \"10\": 1, \"56\": 2, \"14\": 1}, \"54\": {\"54\": 97, \"20\": 2, \"36\": 1}, \"31\": {\"31\": 26, \"47\": 1, \"5\": 1}, \"34\": {\"34\": 25, \"0\": 3, \"5\": 1, \"23\": 3}, \"24\": {\"24\": 102, \"43\": 2}, \"7\": {\"7\": 35, \"43\": 1}, \"50\": {\"50\": 78, \"41\": 1, \"54\": 5, \"20\": 10, \"6\": 2, \"30\": 2, \"8\": 2, \"12\": 1, \"3\": 4, \"55\": 1, \"53\": 2, \"17\": 1, \"46\": 3, \"21\": 1, \"36\": 2, \"18\": 1, \"48\": 1, \"11\": 1}, \"46\": {\"46\": 82, \"33\": 1, \"6\": 7, \"41\": 2, \"3\": 10, \"16\": 8, \"21\": 1, \"52\": 4, \"11\": 2, \"30\": 1, \"55\": 1, \"7\": 1, \"20\": 3, \"48\": 3, \"47\": 1, \"27\": 1}, \"44\": {\"45\": 2, \"40\": 10, \"44\": 60, \"14\": 2, \"4\": 5, \"19\": 8, \"50\": 1}, \"40\": {\"40\": 94, \"44\": 2, \"32\": 1, \"45\": 2, \"4\": 3, \"19\": 8, \"36\": 1, \"29\": 3, \"9\": 1, \"27\": 1}, \"21\": {\"21\": 91, \"37\": 2, \"53\": 10, \"25\": 10, \"50\": 3, \"54\": 1, \"6\": 1, \"46\": 1, \"36\": 2, \"51\": 1, \"38\": 1, \"48\": 1, \"33\": 1, \"3\": 1, \"17\": 1, \"30\": 1}, \"45\": {\"8\": 5, \"45\": 28, \"4\": 6, \"12\": 4, \"25\": 3, \"27\": 4, \"36\": 2, \"51\": 2, \"29\": 1, \"21\": 1, \"19\": 1, \"47\": 1, \"17\": 1, \"44\": 1}, \"16\": {\"16\": 105, \"52\": 11, \"1\": 1, \"15\": 5, \"3\": 2, \"30\": 1, \"34\": 1}, \"14\": {\"14\": 18, \"10\": 5, \"4\": 4, \"19\": 1, \"56\": 1, \"24\": 4, \"27\": 1, \"43\": 1, \"22\": 1, \"31\": 2, \"57\": 1, \"35\": 1}, \"36\": {\"36\": 100}, \"56\": {\"56\": 99, \"13\": 4, \"22\": 8, \"10\": 2, \"24\": 1}, \"10\": {\"10\": 59, \"24\": 5}, \"18\": {\"18\": 77, \"48\": 2, \"52\": 2, \"30\": 2, \"50\": 1}, \"48\": {\"48\": 100, \"47\": 3, \"46\": 4, \"18\": 1, \"3\": 3, \"16\": 1, \"52\": 1, \"26\": 1, \"54\": 1, \"30\": 1}, \"38\": {\"38\": 28}, \"27\": {\"27\": 116, \"8\": 2, \"9\": 3, \"17\": 5, \"32\": 2, \"30\": 1, \"3\": 1}, \"42\": {\"5\": 3, \"42\": 23, \"47\": 1, \"34\": 1}, \"15\": {\"15\": 119, \"1\": 1, \"16\": 9, \"48\": 1, \"26\": 1, \"11\": 1, \"55\": 1, \"3\": 1}, \"1\": {\"1\": 72, \"57\": 6, \"3\": 2, \"35\": 1, \"9\": 2, \"5\": 4, \"46\": 3, \"48\": 3, \"55\": 1, \"28\": 2, \"47\": 4}, \"28\": {\"5\": 2, \"28\": 21, \"0\": 2, \"57\": 1, \"55\": 1, \"35\": 1}, \"43\": {\"43\": 129, \"11\": 3, \"7\": 2, \"24\": 1, \"55\": 1}, \"0\": {\"0\": 104, \"23\": 2, \"15\": 4, \"5\": 4, \"11\": 3, \"16\": 3, \"28\": 1, \"30\": 1, \"18\": 1, \"52\": 1}, \"57\": {\"57\": 108, \"1\": 2, \"35\": 1, \"29\": 1, \"47\": 1, \"5\": 9, \"48\": 2}, \"3\": {\"3\": 34, \"41\": 1, \"48\": 2, \"6\": 9, \"35\": 2, \"25\": 4, \"1\": 5, \"9\": 5, \"38\": 1, \"30\": 2, \"54\": 2, \"15\": 3, \"19\": 2, \"45\": 1, \"21\": 9, \"4\": 3, \"52\": 10, \"16\": 8, \"29\": 4, \"40\": 1, \"5\": 1, \"27\": 10, \"51\": 3, \"47\": 4, \"55\": 1, \"17\": 3, \"53\": 4, \"46\": 3, \"20\": 3, \"37\": 2, \"26\": 2, \"18\": 1, \"36\": 2, \"50\": 1}, \"29\": {\"1\": 5, \"29\": 95, \"35\": 3, \"4\": 2, \"57\": 4, \"19\": 2, \"28\": 1, \"9\": 8, \"2\": 1, \"36\": 1, \"40\": 2}, \"41\": {\"41\": 26, \"46\": 1, \"16\": 1}, \"25\": {\"8\": 3, \"25\": 112, \"53\": 8, \"12\": 3, \"21\": 10, \"27\": 1, \"3\": 1, \"38\": 2, \"51\": 4, \"36\": 1, \"20\": 1}, \"6\": {\"41\": 2, \"18\": 2, \"6\": 56, \"39\": 1, \"52\": 6, \"46\": 4, \"16\": 5, \"50\": 2, \"30\": 1, \"47\": 4, \"48\": 1, \"3\": 3, \"54\": 1}, \"35\": {\"35\": 25, \"1\": 2, \"57\": 1}, \"20\": {\"20\": 122, \"50\": 1, \"54\": 3}, \"23\": {\"23\": 129, \"5\": 1, \"30\": 1, \"18\": 1, \"3\": 1, \"0\": 1}, \"22\": {\"22\": 92, \"14\": 2, \"56\": 10, \"13\": 9, \"10\": 4, \"31\": 1, \"24\": 5, \"47\": 1, \"1\": 4, \"55\": 8, \"57\": 2, \"43\": 2}, \"19\": {\"19\": 89, \"4\": 10, \"14\": 1, \"17\": 2, \"40\": 6, \"9\": 5, \"29\": 1, \"27\": 1, \"1\": 1}, \"55\": {\"55\": 101, \"43\": 1, \"46\": 3, \"11\": 9, \"6\": 1, \"1\": 1, \"5\": 1, \"28\": 1, \"34\": 1, \"47\": 4, \"3\": 1}, \"30\": {\"30\": 102, \"50\": 3, \"48\": 4, \"18\": 7, \"3\": 1, \"52\": 1, \"20\": 1, \"23\": 1}}, \"C_1\": {\"24\": {\"24\": 81, \"11\": 7, \"22\": 10, \"10\": 5, \"52\": 2, \"31\": 1, \"28\": 2}, \"25\": {\"25\": 131, \"30\": 1, \"8\": 3, \"13\": 2, \"51\": 2, \"12\": 1}, \"45\": {\"45\": 127, \"1\": 2, \"42\": 1, \"56\": 8, \"57\": 1, \"19\": 5}, \"42\": {\"42\": 34, \"45\": 3, \"9\": 1, \"20\": 1, \"56\": 1}, \"2\": {\"2\": 36}, \"9\": {\"9\": 138, \"5\": 1, \"46\": 1, \"8\": 2, \"18\": 1, \"17\": 2, \"30\": 3, \"25\": 1, \"4\": 1}, \"21\": {\"21\": 100, \"23\": 8, \"36\": 1, \"49\": 1, \"0\": 2, \"15\": 7, \"11\": 3, \"22\": 2}, \"26\": {\"26\": 22, \"12\": 1, \"18\": 1}, \"49\": {\"49\": 27, \"0\": 1, \"22\": 2, \"38\": 1, \"15\": 1}, \"39\": {\"39\": 28}, \"46\": {\"46\": 70, \"14\": 1, \"48\": 13, \"25\": 3, \"6\": 9, \"4\": 6, \"17\": 4, \"51\": 2, \"8\": 11, \"53\": 4, \"1\": 1, \"13\": 1, \"5\": 4, \"2\": 1, \"9\": 2, \"30\": 1, \"29\": 1, \"50\": 2}, \"17\": {\"17\": 62, \"8\": 1, \"9\": 1}, \"19\": {\"45\": 10, \"19\": 112, \"1\": 5, \"57\": 11, \"44\": 4, \"56\": 7, \"8\": 2, \"29\": 1, \"47\": 1, \"18\": 1, \"3\": 2}, \"23\": {\"23\": 119, \"38\": 2, \"21\": 7, \"15\": 4}, \"1\": {\"19\": 16, \"1\": 66, \"29\": 1, \"44\": 3, \"56\": 2, \"57\": 7, \"20\": 1, \"8\": 3, \"13\": 1}, \"29\": {\"29\": 87, \"19\": 10, \"56\": 5, \"44\": 12, \"3\": 4, \"57\": 9, \"8\": 2, \"1\": 1, \"40\": 5, \"47\": 3, \"46\": 1, \"4\": 1}, \"56\": {\"42\": 3, \"14\": 1, \"56\": 83, \"51\": 2, \"35\": 3, \"57\": 17, \"19\": 11, \"44\": 5, \"1\": 3, \"8\": 2, \"12\": 1, \"29\": 1, \"30\": 1, \"45\": 5, \"20\": 1, \"53\": 2, \"47\": 3, \"13\": 4, \"37\": 1, \"25\": 1}, \"37\": {\"37\": 30, \"26\": 2}, \"33\": {\"33\": 32}, \"55\": {\"55\": 127, \"33\": 1, \"36\": 4, \"54\": 6, \"16\": 3, \"7\": 1}, \"30\": {\"30\": 117, \"18\": 1, \"5\": 1, \"53\": 1}, \"0\": {\"0\": 104, \"49\": 4, \"15\": 10, \"36\": 3, \"22\": 8, \"11\": 9, \"16\": 2, \"23\": 3, \"54\": 1, \"55\": 6, \"38\": 1, \"24\": 1}, \"36\": {\"36\": 56, \"0\": 2, \"16\": 3, \"7\": 2, \"54\": 1}, \"32\": {\"32\": 29, \"15\": 1, \"47\": 1, \"7\": 1}, \"31\": {\"31\": 25, \"11\": 1, \"15\": 1, \"49\": 1}, \"15\": {\"15\": 105, \"49\": 3, \"21\": 13, \"0\": 2, \"23\": 5, \"11\": 5, \"22\": 5}, \"12\": {\"12\": 110, \"14\": 1, \"51\": 3, \"53\": 1, \"30\": 1}, \"38\": {\"15\": 2, \"38\": 20, \"28\": 1, \"23\": 1}, \"40\": {\"40\": 119, \"44\": 1, \"41\": 1, \"13\": 5, \"29\": 7, \"42\": 1, \"19\": 1, \"3\": 2, \"4\": 8, \"57\": 1}, \"14\": {\"14\": 17, \"12\": 2, \"51\": 2, \"25\": 1, \"30\": 2}, \"13\": {\"13\": 148, \"51\": 1, \"46\": 1}, \"48\": {\"48\": 141, \"2\": 1, \"8\": 2, \"6\": 4}, \"34\": {\"34\": 24}, \"44\": {\"44\": 69, \"13\": 7, \"57\": 10, \"35\": 6, \"3\": 5, \"47\": 11, \"19\": 3, \"56\": 7, \"20\": 4, \"9\": 1, \"45\": 2, \"29\": 4, \"1\": 1}, \"5\": {\"5\": 144, \"18\": 3, \"53\": 4, \"14\": 1}, \"11\": {\"11\": 91, \"52\": 5, \"15\": 8, \"22\": 16, \"21\": 6, \"36\": 1, \"24\": 2, \"10\": 7, \"28\": 1, \"31\": 1, \"0\": 2}, \"7\": {\"7\": 27, \"16\": 1}, \"18\": {\"18\": 66, \"5\": 2, \"30\": 4}, \"52\": {\"52\": 99, \"24\": 7, \"21\": 1, \"11\": 4, \"31\": 2, \"39\": 5, \"28\": 1, \"10\": 6, \"22\": 4, \"27\": 3}, \"51\": {\"51\": 136, \"41\": 1, \"14\": 2, \"12\": 2, \"8\": 1}, \"41\": {\"41\": 21, \"14\": 2, \"51\": 1}, \"16\": {\"16\": 136, \"36\": 2, \"18\": 1, \"54\": 1}, \"22\": {\"22\": 83, \"10\": 5, \"11\": 11, \"21\": 6, \"52\": 4, \"27\": 3, \"24\": 12, \"0\": 2, \"15\": 6, \"31\": 1, \"23\": 1}, \"3\": {\"3\": 112, \"20\": 3, \"29\": 1, \"7\": 1, \"13\": 15, \"19\": 1, \"44\": 1, \"47\": 2, \"23\": 1, \"51\": 1, \"40\": 1, \"12\": 1}, \"54\": {\"54\": 102, \"55\": 2}, \"27\": {\"27\": 138, \"24\": 2, \"52\": 1, \"43\": 2, \"22\": 1}, \"20\": {\"20\": 135, \"12\": 2, \"8\": 1, \"46\": 1, \"25\": 1}, \"8\": {\"8\": 116, \"17\": 4, \"51\": 1, \"30\": 4, \"48\": 2, \"6\": 1, \"46\": 3, \"25\": 4, \"9\": 1, \"2\": 1, \"5\": 1}, \"50\": {\"50\": 143, \"48\": 1}, \"57\": {\"44\": 3, \"57\": 88, \"19\": 17, \"56\": 22, \"45\": 3, \"8\": 2, \"29\": 1, \"1\": 3, \"3\": 1}, \"4\": {\"4\": 129, \"40\": 1, \"46\": 1, \"48\": 1}, \"47\": {\"47\": 95, \"35\": 6, \"57\": 4, \"3\": 9, \"19\": 2, \"27\": 2, \"44\": 16, \"52\": 1, \"56\": 8, \"45\": 1, \"37\": 1, \"22\": 1}, \"10\": {\"10\": 67, \"11\": 6, \"24\": 8, \"52\": 6, \"22\": 5, \"43\": 3, \"39\": 1}, \"35\": {\"35\": 36}, \"53\": {\"53\": 126}, \"6\": {\"6\": 71, \"25\": 3, \"5\": 2, \"46\": 4, \"8\": 2, \"48\": 12, \"53\": 1, \"9\": 1}, \"43\": {\"43\": 140}, \"28\": {\"28\": 26, \"10\": 2}}, \"C_5\": {\"35\": {\"35\": 36}, \"57\": {\"57\": 119, \"18\": 1, \"42\": 3, \"36\": 2, \"46\": 1, \"23\": 2, \"3\": 2, \"28\": 1, \"47\": 1}, \"20\": {\"20\": 126, \"55\": 1, \"53\": 7, \"23\": 1, \"8\": 4, \"6\": 1, \"51\": 4}, \"12\": {\"12\": 88, \"7\": 1, \"30\": 3, \"38\": 2, \"6\": 1, \"45\": 1}, \"32\": {\"32\": 26, \"45\": 1, \"9\": 2, \"27\": 3}, \"25\": {\"25\": 119, \"51\": 2, \"8\": 3, \"55\": 2, \"9\": 1, \"45\": 1, \"50\": 3, \"6\": 3, \"21\": 3, \"7\": 1}, \"44\": {\"32\": 1, \"44\": 104, \"50\": 2, \"29\": 13, \"9\": 2, \"33\": 2, \"5\": 8, \"19\": 3, \"21\": 3, \"40\": 6, \"47\": 1, \"4\": 1, \"30\": 1, \"1\": 1}, \"31\": {\"31\": 36}, \"11\": {\"11\": 96, \"16\": 5, \"49\": 1, \"36\": 8, \"43\": 9, \"15\": 22, \"54\": 2, \"46\": 2, \"52\": 4, \"31\": 1}, \"47\": {\"47\": 77, \"16\": 3, \"3\": 2, \"36\": 4, \"42\": 1, \"50\": 3, \"1\": 2, \"23\": 3, \"34\": 1, \"14\": 2, \"52\": 1, \"39\": 1}, \"23\": {\"23\": 112, \"16\": 2, \"46\": 5, \"42\": 1, \"52\": 1, \"18\": 1, \"54\": 1, \"20\": 1}, \"43\": {\"43\": 134, \"36\": 5, \"15\": 1, \"11\": 3, \"16\": 1}, \"37\": {\"47\": 1, \"37\": 22, \"21\": 1}, \"5\": {\"5\": 79, \"44\": 17, \"19\": 6, \"40\": 7, \"21\": 1, \"4\": 6, \"9\": 3, \"45\": 3, \"33\": 2, \"27\": 1, \"55\": 1, \"50\": 2}, \"45\": {\"5\": 1, \"25\": 2, \"45\": 37, \"46\": 1, \"26\": 1, \"55\": 2, \"8\": 26, \"48\": 2, \"53\": 1, \"30\": 7, \"4\": 6, \"6\": 9, \"27\": 4, \"51\": 2, \"44\": 2, \"1\": 4, \"9\": 9, \"20\": 4, \"7\": 1, \"17\": 1, \"50\": 1, \"19\": 1}, \"7\": {\"7\": 28, \"51\": 2, \"32\": 1, \"17\": 1}, \"13\": {\"13\": 111, \"10\": 12, \"24\": 4, \"40\": 1, \"56\": 3, \"0\": 1, \"43\": 2, \"29\": 1, \"19\": 1}, \"49\": {\"49\": 34, \"43\": 2}, \"46\": {\"16\": 7, \"46\": 124, \"42\": 1, \"52\": 6, \"14\": 1, \"23\": 2, \"50\": 1, \"11\": 4, \"54\": 1, \"55\": 1}, \"16\": {\"11\": 6, \"16\": 104, \"54\": 7, \"36\": 1, \"52\": 10, \"23\": 2, \"15\": 1, \"43\": 1, \"47\": 1, \"49\": 1, \"46\": 2}, \"54\": {\"54\": 106, \"52\": 2, \"16\": 4}, \"19\": {\"19\": 130, \"44\": 5, \"29\": 3, \"5\": 3, \"9\": 7, \"27\": 4}, \"55\": {\"50\": 12, \"55\": 110, \"28\": 1, \"1\": 4, \"32\": 1, \"18\": 1, \"25\": 3, \"45\": 5, \"8\": 2, \"48\": 6, \"21\": 2, \"30\": 2, \"20\": 1}, \"30\": {\"30\": 112, \"6\": 3, \"32\": 1, \"25\": 1, \"8\": 1, \"17\": 5, \"48\": 4, \"1\": 1}, \"34\": {\"34\": 28, \"50\": 1, \"33\": 1, \"21\": 1, \"44\": 1, \"55\": 1, \"14\": 2, \"47\": 1}, \"50\": {\"20\": 5, \"30\": 3, \"50\": 37, \"54\": 1, \"51\": 8, \"27\": 6, \"21\": 13, \"8\": 9, \"55\": 9, \"1\": 10, \"9\": 2, \"53\": 5, \"23\": 6, \"18\": 3, \"48\": 5, \"47\": 4, \"45\": 1, \"16\": 1, \"25\": 1, \"34\": 1, \"32\": 1, \"6\": 2, \"4\": 1}, \"3\": {\"3\": 50, \"49\": 2, \"47\": 3, \"11\": 5, \"57\": 4, \"46\": 4, \"36\": 8, \"56\": 2, \"0\": 4, \"54\": 2, \"15\": 5, \"16\": 4, \"42\": 1, \"35\": 1, \"28\": 1, \"24\": 3, \"52\": 1}, \"10\": {\"10\": 57, \"24\": 5, \"13\": 6}, \"27\": {\"27\": 97, \"9\": 21, \"30\": 6, \"17\": 2, \"50\": 1, \"1\": 4, \"45\": 2, \"48\": 2, \"32\": 1, \"7\": 1, \"19\": 4, \"8\": 1}, \"33\": {\"33\": 27, \"28\": 2, \"44\": 1, \"34\": 1, \"1\": 1}, \"56\": {\"56\": 127, \"2\": 2, \"36\": 2, \"0\": 4, \"24\": 3, \"11\": 1, \"43\": 2, \"35\": 1}, \"9\": {\"55\": 4, \"9\": 102, \"27\": 22, \"50\": 2, \"17\": 2, \"19\": 10, \"20\": 1, \"51\": 1, \"53\": 1, \"32\": 2, \"1\": 3}, \"14\": {\"14\": 13, \"49\": 2, \"50\": 6, \"8\": 2, \"32\": 1, \"36\": 2, \"41\": 1, \"43\": 1, \"3\": 1, \"37\": 2, \"2\": 3, \"47\": 1, \"33\": 1, \"46\": 2, \"11\": 1, \"25\": 1, \"29\": 1, \"15\": 2, \"24\": 1}, \"4\": {\"9\": 3, \"4\": 83, \"32\": 1, \"19\": 5, \"1\": 1, \"17\": 1, \"45\": 2, \"5\": 3, \"40\": 1}, \"42\": {\"42\": 38, \"39\": 1, \"1\": 1}, \"24\": {\"24\": 74, \"15\": 1, \"43\": 2, \"2\": 1, \"36\": 2}, \"39\": {\"39\": 20}, \"52\": {\"11\": 5, \"52\": 107, \"2\": 1, \"16\": 12, \"46\": 2, \"55\": 1, \"54\": 2}, \"2\": {\"2\": 27, \"24\": 1}, \"28\": {\"33\": 5, \"28\": 25, \"1\": 1, \"29\": 1}, \"53\": {\"53\": 105, \"20\": 4, \"51\": 13}, \"17\": {\"17\": 106, \"30\": 7, \"27\": 3}, \"29\": {\"29\": 96, \"19\": 8, \"56\": 1, \"44\": 10, \"34\": 1, \"36\": 1, \"45\": 1, \"27\": 2, \"40\": 4, \"55\": 1, \"1\": 2, \"14\": 1, \"28\": 1, \"21\": 2, \"13\": 1}, \"38\": {\"38\": 32}, \"15\": {\"15\": 117, \"43\": 4, \"46\": 2, \"36\": 2, \"16\": 4, \"11\": 13, \"49\": 1, \"0\": 1}, \"26\": {\"26\": 24}, \"21\": {\"21\": 142, \"37\": 1, \"50\": 1}, \"41\": {\"41\": 26, \"48\": 1, \"45\": 1}, \"48\": {\"48\": 118, \"32\": 2, \"20\": 2, \"30\": 4, \"6\": 1, \"8\": 2, \"1\": 4, \"45\": 1, \"55\": 1, \"51\": 1}, \"22\": {\"22\": 23, \"47\": 1, \"24\": 1, \"14\": 1, \"36\": 1, \"13\": 1}, \"8\": {\"18\": 4, \"8\": 113, \"6\": 6, \"53\": 2, \"20\": 18, \"51\": 2, \"1\": 1, \"50\": 1, \"23\": 1}, \"18\": {\"18\": 61, \"41\": 1, \"42\": 2}, \"0\": {\"35\": 1, \"0\": 114, \"15\": 2, \"2\": 1, \"43\": 1, \"24\": 2, \"46\": 1}, \"1\": {\"1\": 126, \"50\": 3, \"45\": 3, \"55\": 1, \"6\": 1, \"48\": 3, \"9\": 1}, \"40\": {\"40\": 86, \"5\": 16, \"44\": 6, \"29\": 6, \"4\": 3, \"1\": 1, \"45\": 1, \"32\": 2, \"28\": 1, \"19\": 2}, \"6\": {\"7\": 2, \"30\": 6, \"6\": 63, \"51\": 2, \"26\": 2, \"48\": 3, \"50\": 6, \"20\": 9, \"8\": 17, \"23\": 5, \"25\": 2, \"17\": 4, \"45\": 5, \"47\": 1, \"18\": 1}, \"51\": {\"51\": 130, \"8\": 5, \"25\": 2, \"53\": 4, \"20\": 1}, \"36\": {\"36\": 90, \"11\": 1, \"16\": 1}}}, \"per_domain_accuracy\": {\"O_50\": {\"accuracy\": 0.8505208333333333, \"source?\": true}, \"O_14\": {\"accuracy\": 0.86328125, \"source?\": true}, \"O_32\": {\"accuracy\": 0.8203125, \"source?\": true}, \"O_44\": {\"accuracy\": 0.70859375, \"source?\": true}, \"O_8\": {\"accuracy\": 0.82265625, \"source?\": true}, \"O_20\": {\"accuracy\": 0.7716145833333333, \"source?\": true}, \"O_38\": {\"accuracy\": 0.8510416666666667, \"source?\": true}, \"O_26\": {\"accuracy\": 0.6458333333333334, \"source?\": true}, \"C_4\": {\"accuracy\": 0.8098484848484848, \"source?\": false}, \"C_2\": {\"accuracy\": 0.808813202247191, \"source?\": false}, \"C_3\": {\"accuracy\": 0.8154761904761905, \"source?\": false}, \"C_1\": {\"accuracy\": 0.8315878378378379, \"source?\": false}, \"C_5\": {\"accuracy\": 0.7950418994413407, \"source?\": false}}}, \"history\": {\"epoch_indices\": [1, 2, 3, 4, 5, 6, 7], \"train_label_loss\": [1.0110511996872014, 0.7425539975032388, 0.5869063716237655, 0.5137187831813381, 0.4652487101282791, 0.42091869292947065, 0.3859692756047783], \"source_val_label_loss\": [1.135789155960083, 0.636773943901062, 0.5705585479736328, 0.4641127288341522, 0.4462032914161682, 0.4166109561920166, 0.39781105518341064], \"target_val_label_loss\": [18.675037384033203, 2.0619583129882812, 1.620428442955017, 1.6675384044647217, 1.7391315698623657, 1.9353694915771484, 2.205872058868408], \"source_val_acc_label\": [0.6412434895833333, 0.76787109375, 0.7917317708333333, 0.8322265625, 0.8375325520833333, 0.8490885416666667, 0.8576822916666667], \"target_val_acc_label\": [0.5068928571428571, 0.8014285714285714, 0.8122857142857143, 0.8056785714285715, 0.7930357142857143, 0.7851785714285714, 0.79675]}, \"dataset_metrics\": {\"source\": {\"train\": {\"n_unique_x\": 179200, \"n_unique_y\": 16, \"n_batch/episode\": 6720}, \"val\": {\"n_unique_x\": 38400, \"n_unique_y\": 16, \"n_batch/episode\": 960}, \"test\": {\"n_unique_x\": 38400, \"n_unique_y\": 16, \"n_batch/episode\": 960}}, \"target\": {\"train\": {\"n_unique_x\": 175197, \"n_unique_y\": 58, \"n_batch/episode\": 6309}, \"val\": {\"n_unique_x\": 37166, \"n_unique_y\": 58, \"n_batch/episode\": 875}, \"test\": {\"n_unique_x\": 37642, \"n_unique_y\": 58, \"n_batch/episode\": 890}}}}'"
      ]
     },
     "execution_count": 29,
     "metadata": {},
     "output_type": "execute_result"
    }
   ],
   "source": [
    "json.dumps(experiment)"
   ]
  }
 ],
 "metadata": {
  "celltoolbar": "Tags",
  "kernelspec": {
   "display_name": "Python 3 (ipykernel)",
   "language": "python",
   "name": "python3"
  },
  "language_info": {
   "codemirror_mode": {
    "name": "ipython",
    "version": 3
   },
   "file_extension": ".py",
   "mimetype": "text/x-python",
   "name": "python",
   "nbconvert_exporter": "python",
   "pygments_lexer": "ipython3",
   "version": "3.8.12"
  },
  "papermill": {
   "default_parameters": {},
   "duration": 2545.370769,
   "end_time": "2022-03-26T22:50:31.755051",
   "environment_variables": {},
   "exception": null,
   "input_path": "/root/csc500-main/csc500-notebooks/templates/tl_ptn_template.ipynb",
   "output_path": "trial.ipynb",
   "parameters": {
    "parameters": {
     "BEST_MODEL_PATH": "./best_model.pth",
     "NUM_LOGS_PER_EPOCH": 10,
     "criteria_for_best": "target_accuracy",
     "dataset_seed": 500,
     "datasets": [
      {
       "domain_prefix": "C_",
       "domains": [
        1,
        2,
        3,
        4,
        5
       ],
       "episode_transforms": [],
       "labels": [
        "1-10.",
        "1-11.",
        "1-15.",
        "1-16.",
        "1-17.",
        "1-18.",
        "1-19.",
        "10-4.",
        "10-7.",
        "11-1.",
        "11-14.",
        "11-17.",
        "11-20.",
        "11-7.",
        "13-20.",
        "13-8.",
        "14-10.",
        "14-11.",
        "14-14.",
        "14-7.",
        "15-1.",
        "15-20.",
        "16-1.",
        "16-16.",
        "17-10.",
        "17-11.",
        "17-2.",
        "19-1.",
        "19-16.",
        "19-19.",
        "19-20.",
        "19-3.",
        "2-10.",
        "2-11.",
        "2-17.",
        "2-18.",
        "2-20.",
        "2-3.",
        "2-4.",
        "2-5.",
        "2-6.",
        "2-7.",
        "2-8.",
        "3-13.",
        "3-18.",
        "3-3.",
        "4-1.",
        "4-10.",
        "4-11.",
        "4-19.",
        "5-5.",
        "6-15.",
        "7-10.",
        "7-14.",
        "8-18.",
        "8-20.",
        "8-3.",
        "8-8."
       ],
       "num_examples_per_domain_per_label": -1,
       "pickle_path": "/root/csc500-main/datasets/cores.stratified_ds.2022A.pkl",
       "source_or_target_dataset": "target",
       "x_transforms": [
        "unit_power",
        "lowpass_+/-10MHz",
        "take_200"
       ]
      },
      {
       "domain_prefix": "O_",
       "domains": [
        32,
        38,
        8,
        44,
        14,
        50,
        20,
        26
       ],
       "episode_transforms": [],
       "labels": [
        "3123D52",
        "3123D65",
        "3123D79",
        "3123D80",
        "3123D54",
        "3123D70",
        "3123D7B",
        "3123D89",
        "3123D58",
        "3123D76",
        "3123D7D",
        "3123EFE",
        "3123D64",
        "3123D78",
        "3123D7E",
        "3124E4A"
       ],
       "num_examples_per_domain_per_label": 2000,
       "pickle_path": "/root/csc500-main/datasets/oracle.Run1_framed_2000Examples_stratified_ds.2022A.pkl",
       "source_or_target_dataset": "source",
       "x_transforms": [
        "unit_power",
        "take_200",
        "resample_20Msps_to_25Msps"
       ]
      }
     ],
     "device": "cuda",
     "experiment_name": "tl_3-filterv2:oracle.run1.framed -> cores",
     "lr": 0.0001,
     "n_epoch": 50,
     "n_query": 2,
     "n_shot": 3,
     "n_way": 16,
     "patience": 3,
     "seed": 500,
     "test_k_factor": 2,
     "torch_default_dtype": "torch.float32",
     "train_k_factor": 3,
     "val_k_factor": 2,
     "x_net": [
      {
       "class": "nnReshape",
       "kargs": {
        "shape": [
         -1,
         1,
         2,
         200
        ]
       }
      },
      {
       "class": "Conv2d",
       "kargs": {
        "bias": false,
        "in_channels": 1,
        "kernel_size": [
         1,
         7
        ],
        "out_channels": 256,
        "padding": [
         0,
         3
        ]
       }
      },
      {
       "class": "ReLU",
       "kargs": {
        "inplace": true
       }
      },
      {
       "class": "BatchNorm2d",
       "kargs": {
        "num_features": 256
       }
      },
      {
       "class": "Conv2d",
       "kargs": {
        "bias": true,
        "in_channels": 256,
        "kernel_size": [
         2,
         7
        ],
        "out_channels": 80,
        "padding": [
         0,
         3
        ]
       }
      },
      {
       "class": "ReLU",
       "kargs": {
        "inplace": true
       }
      },
      {
       "class": "BatchNorm2d",
       "kargs": {
        "num_features": 80
       }
      },
      {
       "class": "Flatten",
       "kargs": {}
      },
      {
       "class": "Linear",
       "kargs": {
        "in_features": 16000,
        "out_features": 256
       }
      },
      {
       "class": "ReLU",
       "kargs": {
        "inplace": true
       }
      },
      {
       "class": "BatchNorm1d",
       "kargs": {
        "num_features": 256
       }
      },
      {
       "class": "Linear",
       "kargs": {
        "in_features": 256,
        "out_features": 256
       }
      }
     ],
     "x_shape": [
      2,
      200
     ]
    }
   },
   "start_time": "2022-03-26T22:08:06.384282",
   "version": "2.3.4"
  }
 },
 "nbformat": 4,
 "nbformat_minor": 5
}