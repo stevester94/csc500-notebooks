{
 "cells": [
  {
   "cell_type": "markdown",
   "id": "9fea5f46",
   "metadata": {
    "papermill": {
     "duration": 0.017652,
     "end_time": "2022-03-25T23:54:49.371468",
     "exception": false,
     "start_time": "2022-03-25T23:54:49.353816",
     "status": "completed"
    },
    "tags": []
   },
   "source": [
    "# Transfer Learning Template"
   ]
  },
  {
   "cell_type": "code",
   "execution_count": 1,
   "id": "0902182a",
   "metadata": {
    "execution": {
     "iopub.execute_input": "2022-03-25T23:54:49.420117Z",
     "iopub.status.busy": "2022-03-25T23:54:49.419465Z",
     "iopub.status.idle": "2022-03-25T23:54:50.436963Z",
     "shell.execute_reply": "2022-03-25T23:54:50.437295Z"
    },
    "papermill": {
     "duration": 1.048092,
     "end_time": "2022-03-25T23:54:50.437456",
     "exception": false,
     "start_time": "2022-03-25T23:54:49.389364",
     "status": "completed"
    },
    "tags": []
   },
   "outputs": [],
   "source": [
    "%load_ext autoreload\n",
    "%autoreload 2\n",
    "%matplotlib inline\n",
    "\n",
    "    \n",
    "import os, json, sys, time, random\n",
    "import numpy as np\n",
    "import torch\n",
    "from torch.optim import Adam\n",
    "from  easydict import EasyDict\n",
    "import matplotlib.pyplot as plt\n",
    "\n",
    "from steves_models.steves_ptn import Steves_Prototypical_Network\n",
    "\n",
    "from steves_utils.lazy_iterable_wrapper import Lazy_Iterable_Wrapper\n",
    "from steves_utils.iterable_aggregator import Iterable_Aggregator\n",
    "from steves_utils.ptn_train_eval_test_jig import  PTN_Train_Eval_Test_Jig\n",
    "from steves_utils.torch_sequential_builder import build_sequential\n",
    "from steves_utils.torch_utils import get_dataset_metrics, ptn_confusion_by_domain_over_dataloader\n",
    "from steves_utils.utils_v2 import (per_domain_accuracy_from_confusion, get_datasets_base_path)\n",
    "from steves_utils.PTN.utils import independent_accuracy_assesment\n",
    "\n",
    "from torch.utils.data import DataLoader\n",
    "\n",
    "from steves_utils.stratified_dataset.episodic_accessor import Episodic_Accessor_Factory\n",
    "\n",
    "from steves_utils.ptn_do_report import (\n",
    "    get_loss_curve,\n",
    "    get_results_table,\n",
    "    get_parameters_table,\n",
    "    get_domain_accuracies,\n",
    ")\n",
    "\n",
    "from steves_utils.transforms import get_chained_transform"
   ]
  },
  {
   "cell_type": "markdown",
   "id": "41c840b4",
   "metadata": {
    "papermill": {
     "duration": 0.01266,
     "end_time": "2022-03-25T23:54:50.466931",
     "exception": false,
     "start_time": "2022-03-25T23:54:50.454271",
     "status": "completed"
    },
    "tags": []
   },
   "source": [
    "# Allowed Parameters\n",
    "These are allowed parameters, not defaults\n",
    "Each of these values need to be present in the injected parameters (the notebook will raise an exception if they are not present)\n",
    "\n",
    "Papermill uses the cell tag \"parameters\" to inject the real parameters below this cell.\n",
    "Enable tags to see what I mean"
   ]
  },
  {
   "cell_type": "code",
   "execution_count": 2,
   "id": "fd44eb83",
   "metadata": {
    "execution": {
     "iopub.execute_input": "2022-03-25T23:54:50.495851Z",
     "iopub.status.busy": "2022-03-25T23:54:50.495578Z",
     "iopub.status.idle": "2022-03-25T23:54:50.510110Z",
     "shell.execute_reply": "2022-03-25T23:54:50.510317Z"
    },
    "papermill": {
     "duration": 0.030581,
     "end_time": "2022-03-25T23:54:50.510398",
     "exception": false,
     "start_time": "2022-03-25T23:54:50.479817",
     "status": "completed"
    },
    "tags": []
   },
   "outputs": [],
   "source": [
    "required_parameters = {\n",
    "    \"experiment_name\",\n",
    "    \"lr\",\n",
    "    \"device\",\n",
    "    \"seed\",\n",
    "    \"dataset_seed\",\n",
    "    \"n_shot\",\n",
    "    \"n_query\",\n",
    "    \"n_way\",\n",
    "    \"train_k_factor\",\n",
    "    \"val_k_factor\",\n",
    "    \"test_k_factor\",\n",
    "    \"n_epoch\",\n",
    "    \"patience\",\n",
    "    \"criteria_for_best\",\n",
    "    \"x_net\",\n",
    "    \"datasets\",\n",
    "    \"torch_default_dtype\",\n",
    "    \"NUM_LOGS_PER_EPOCH\",\n",
    "    \"BEST_MODEL_PATH\",\n",
    "    \"x_shape\",\n",
    "}"
   ]
  },
  {
   "cell_type": "code",
   "execution_count": 3,
   "id": "fa3f0049",
   "metadata": {
    "execution": {
     "iopub.execute_input": "2022-03-25T23:54:50.551504Z",
     "iopub.status.busy": "2022-03-25T23:54:50.550929Z",
     "iopub.status.idle": "2022-03-25T23:54:50.563845Z",
     "shell.execute_reply": "2022-03-25T23:54:50.564153Z"
    },
    "papermill": {
     "duration": 0.036876,
     "end_time": "2022-03-25T23:54:50.564264",
     "exception": false,
     "start_time": "2022-03-25T23:54:50.527388",
     "status": "completed"
    },
    "tags": [
     "parameters"
    ]
   },
   "outputs": [],
   "source": [
    "from steves_utils.CORES.utils import (\n",
    "    ALL_NODES,\n",
    "    ALL_NODES_MINIMUM_1000_EXAMPLES,\n",
    "    ALL_DAYS\n",
    ")\n",
    "\n",
    "from steves_utils.ORACLE.utils_v2 import (\n",
    "    ALL_DISTANCES_FEET_NARROWED,\n",
    "    ALL_RUNS,\n",
    "    ALL_SERIAL_NUMBERS,\n",
    ")\n",
    "\n",
    "standalone_parameters = {}\n",
    "standalone_parameters[\"experiment_name\"] = \"STANDALONE PTN\"\n",
    "standalone_parameters[\"lr\"] = 0.001\n",
    "standalone_parameters[\"device\"] = \"cuda\"\n",
    "\n",
    "standalone_parameters[\"seed\"] = 1337\n",
    "standalone_parameters[\"dataset_seed\"] = 1337\n",
    "\n",
    "standalone_parameters[\"n_way\"] = 8\n",
    "standalone_parameters[\"n_shot\"] = 3\n",
    "standalone_parameters[\"n_query\"]  = 2\n",
    "standalone_parameters[\"train_k_factor\"] = 1\n",
    "standalone_parameters[\"val_k_factor\"] = 2\n",
    "standalone_parameters[\"test_k_factor\"] = 2\n",
    "\n",
    "\n",
    "standalone_parameters[\"n_epoch\"] = 50\n",
    "\n",
    "standalone_parameters[\"patience\"] = 10\n",
    "standalone_parameters[\"criteria_for_best\"] = \"source_loss\"\n",
    "\n",
    "standalone_parameters[\"datasets\"] = [\n",
    "    {\n",
    "        \"labels\": ALL_SERIAL_NUMBERS,\n",
    "        \"domains\": ALL_DISTANCES_FEET_NARROWED,\n",
    "        \"num_examples_per_domain_per_label\": 100,\n",
    "        \"pickle_path\": os.path.join(get_datasets_base_path(), \"oracle.Run1_framed_2000Examples_stratified_ds.2022A.pkl\"),\n",
    "        \"source_or_target_dataset\": \"source\",\n",
    "        \"x_transforms\": [\"unit_mag\", \"minus_two\"],\n",
    "        \"episode_transforms\": [],\n",
    "        \"domain_prefix\": \"ORACLE_\"\n",
    "    },\n",
    "    {\n",
    "        \"labels\": ALL_NODES,\n",
    "        \"domains\": ALL_DAYS,\n",
    "        \"num_examples_per_domain_per_label\": 100,\n",
    "        \"pickle_path\": os.path.join(get_datasets_base_path(), \"cores.stratified_ds.2022A.pkl\"),\n",
    "        \"source_or_target_dataset\": \"target\",\n",
    "        \"x_transforms\": [\"unit_power\", \"times_zero\"],\n",
    "        \"episode_transforms\": [],\n",
    "        \"domain_prefix\": \"CORES_\"\n",
    "    }   \n",
    "]\n",
    "\n",
    "standalone_parameters[\"torch_default_dtype\"] = \"torch.float32\" \n",
    "\n",
    "\n",
    "\n",
    "standalone_parameters[\"x_net\"] =     [\n",
    "    {\"class\": \"nnReshape\", \"kargs\": {\"shape\":[-1, 1, 2, 256]}},\n",
    "    {\"class\": \"Conv2d\", \"kargs\": { \"in_channels\":1, \"out_channels\":256, \"kernel_size\":(1,7), \"bias\":False, \"padding\":(0,3), },},\n",
    "    {\"class\": \"ReLU\", \"kargs\": {\"inplace\": True}},\n",
    "    {\"class\": \"BatchNorm2d\", \"kargs\": {\"num_features\":256}},\n",
    "\n",
    "    {\"class\": \"Conv2d\", \"kargs\": { \"in_channels\":256, \"out_channels\":80, \"kernel_size\":(2,7), \"bias\":True, \"padding\":(0,3), },},\n",
    "    {\"class\": \"ReLU\", \"kargs\": {\"inplace\": True}},\n",
    "    {\"class\": \"BatchNorm2d\", \"kargs\": {\"num_features\":80}},\n",
    "    {\"class\": \"Flatten\", \"kargs\": {}},\n",
    "\n",
    "    {\"class\": \"Linear\", \"kargs\": {\"in_features\": 80*256, \"out_features\": 256}}, # 80 units per IQ pair\n",
    "    {\"class\": \"ReLU\", \"kargs\": {\"inplace\": True}},\n",
    "    {\"class\": \"BatchNorm1d\", \"kargs\": {\"num_features\":256}},\n",
    "\n",
    "    {\"class\": \"Linear\", \"kargs\": {\"in_features\": 256, \"out_features\": 256}},\n",
    "]\n",
    "\n",
    "# Parameters relevant to results\n",
    "# These parameters will basically never need to change\n",
    "standalone_parameters[\"NUM_LOGS_PER_EPOCH\"] = 10\n",
    "standalone_parameters[\"BEST_MODEL_PATH\"] = \"./best_model.pth\"\n",
    "\n",
    "\n",
    "\n",
    "\n"
   ]
  },
  {
   "cell_type": "code",
   "execution_count": 4,
   "id": "2e6a4c0a",
   "metadata": {
    "execution": {
     "iopub.execute_input": "2022-03-25T23:54:50.604167Z",
     "iopub.status.busy": "2022-03-25T23:54:50.594957Z",
     "iopub.status.idle": "2022-03-25T23:54:50.616911Z",
     "shell.execute_reply": "2022-03-25T23:54:50.617311Z"
    },
    "papermill": {
     "duration": 0.037773,
     "end_time": "2022-03-25T23:54:50.617447",
     "exception": false,
     "start_time": "2022-03-25T23:54:50.579674",
     "status": "completed"
    },
    "tags": [
     "injected-parameters"
    ]
   },
   "outputs": [],
   "source": [
    "# Parameters\n",
    "parameters = {\n",
    "    \"experiment_name\": \"tl_3-filterv2:oracle.run1.framed -> cores\",\n",
    "    \"device\": \"cuda\",\n",
    "    \"lr\": 0.0001,\n",
    "    \"x_shape\": [2, 200],\n",
    "    \"n_shot\": 3,\n",
    "    \"n_query\": 2,\n",
    "    \"train_k_factor\": 3,\n",
    "    \"val_k_factor\": 2,\n",
    "    \"test_k_factor\": 2,\n",
    "    \"torch_default_dtype\": \"torch.float32\",\n",
    "    \"n_epoch\": 50,\n",
    "    \"patience\": 3,\n",
    "    \"criteria_for_best\": \"target_accuracy\",\n",
    "    \"x_net\": [\n",
    "        {\"class\": \"nnReshape\", \"kargs\": {\"shape\": [-1, 1, 2, 200]}},\n",
    "        {\n",
    "            \"class\": \"Conv2d\",\n",
    "            \"kargs\": {\n",
    "                \"in_channels\": 1,\n",
    "                \"out_channels\": 256,\n",
    "                \"kernel_size\": [1, 7],\n",
    "                \"bias\": False,\n",
    "                \"padding\": [0, 3],\n",
    "            },\n",
    "        },\n",
    "        {\"class\": \"ReLU\", \"kargs\": {\"inplace\": True}},\n",
    "        {\"class\": \"BatchNorm2d\", \"kargs\": {\"num_features\": 256}},\n",
    "        {\n",
    "            \"class\": \"Conv2d\",\n",
    "            \"kargs\": {\n",
    "                \"in_channels\": 256,\n",
    "                \"out_channels\": 80,\n",
    "                \"kernel_size\": [2, 7],\n",
    "                \"bias\": True,\n",
    "                \"padding\": [0, 3],\n",
    "            },\n",
    "        },\n",
    "        {\"class\": \"ReLU\", \"kargs\": {\"inplace\": True}},\n",
    "        {\"class\": \"BatchNorm2d\", \"kargs\": {\"num_features\": 80}},\n",
    "        {\"class\": \"Flatten\", \"kargs\": {}},\n",
    "        {\"class\": \"Linear\", \"kargs\": {\"in_features\": 16000, \"out_features\": 256}},\n",
    "        {\"class\": \"ReLU\", \"kargs\": {\"inplace\": True}},\n",
    "        {\"class\": \"BatchNorm1d\", \"kargs\": {\"num_features\": 256}},\n",
    "        {\"class\": \"Linear\", \"kargs\": {\"in_features\": 256, \"out_features\": 256}},\n",
    "    ],\n",
    "    \"NUM_LOGS_PER_EPOCH\": 10,\n",
    "    \"BEST_MODEL_PATH\": \"./best_model.pth\",\n",
    "    \"n_way\": 16,\n",
    "    \"datasets\": [\n",
    "        {\n",
    "            \"labels\": [\n",
    "                \"1-10.\",\n",
    "                \"1-11.\",\n",
    "                \"1-15.\",\n",
    "                \"1-16.\",\n",
    "                \"1-17.\",\n",
    "                \"1-18.\",\n",
    "                \"1-19.\",\n",
    "                \"10-4.\",\n",
    "                \"10-7.\",\n",
    "                \"11-1.\",\n",
    "                \"11-14.\",\n",
    "                \"11-17.\",\n",
    "                \"11-20.\",\n",
    "                \"11-7.\",\n",
    "                \"13-20.\",\n",
    "                \"13-8.\",\n",
    "                \"14-10.\",\n",
    "                \"14-11.\",\n",
    "                \"14-14.\",\n",
    "                \"14-7.\",\n",
    "                \"15-1.\",\n",
    "                \"15-20.\",\n",
    "                \"16-1.\",\n",
    "                \"16-16.\",\n",
    "                \"17-10.\",\n",
    "                \"17-11.\",\n",
    "                \"17-2.\",\n",
    "                \"19-1.\",\n",
    "                \"19-16.\",\n",
    "                \"19-19.\",\n",
    "                \"19-20.\",\n",
    "                \"19-3.\",\n",
    "                \"2-10.\",\n",
    "                \"2-11.\",\n",
    "                \"2-17.\",\n",
    "                \"2-18.\",\n",
    "                \"2-20.\",\n",
    "                \"2-3.\",\n",
    "                \"2-4.\",\n",
    "                \"2-5.\",\n",
    "                \"2-6.\",\n",
    "                \"2-7.\",\n",
    "                \"2-8.\",\n",
    "                \"3-13.\",\n",
    "                \"3-18.\",\n",
    "                \"3-3.\",\n",
    "                \"4-1.\",\n",
    "                \"4-10.\",\n",
    "                \"4-11.\",\n",
    "                \"4-19.\",\n",
    "                \"5-5.\",\n",
    "                \"6-15.\",\n",
    "                \"7-10.\",\n",
    "                \"7-14.\",\n",
    "                \"8-18.\",\n",
    "                \"8-20.\",\n",
    "                \"8-3.\",\n",
    "                \"8-8.\",\n",
    "            ],\n",
    "            \"domains\": [1, 2, 3, 4, 5],\n",
    "            \"num_examples_per_domain_per_label\": -1,\n",
    "            \"pickle_path\": \"/mnt/wd500GB/CSC500/csc500-main/datasets/cores.stratified_ds.2022A.pkl\",\n",
    "            \"source_or_target_dataset\": \"target\",\n",
    "            \"x_transforms\": [\"lowpass_+/-10MHz\", \"take_200\"],\n",
    "            \"episode_transforms\": [],\n",
    "            \"domain_prefix\": \"C_\",\n",
    "        },\n",
    "        {\n",
    "            \"labels\": [\n",
    "                \"3123D52\",\n",
    "                \"3123D65\",\n",
    "                \"3123D79\",\n",
    "                \"3123D80\",\n",
    "                \"3123D54\",\n",
    "                \"3123D70\",\n",
    "                \"3123D7B\",\n",
    "                \"3123D89\",\n",
    "                \"3123D58\",\n",
    "                \"3123D76\",\n",
    "                \"3123D7D\",\n",
    "                \"3123EFE\",\n",
    "                \"3123D64\",\n",
    "                \"3123D78\",\n",
    "                \"3123D7E\",\n",
    "                \"3124E4A\",\n",
    "            ],\n",
    "            \"domains\": [32, 38, 8, 44, 14, 50, 20, 26],\n",
    "            \"num_examples_per_domain_per_label\": 2000,\n",
    "            \"pickle_path\": \"/mnt/wd500GB/CSC500/csc500-main/datasets/oracle.Run1_framed_2000Examples_stratified_ds.2022A.pkl\",\n",
    "            \"source_or_target_dataset\": \"source\",\n",
    "            \"x_transforms\": [\"take_200\", \"resample_20Msps_to_25Msps\"],\n",
    "            \"episode_transforms\": [],\n",
    "            \"domain_prefix\": \"O_\",\n",
    "        },\n",
    "    ],\n",
    "    \"seed\": 420,\n",
    "    \"dataset_seed\": 420,\n",
    "}\n"
   ]
  },
  {
   "cell_type": "code",
   "execution_count": 5,
   "id": "8fa1cc33",
   "metadata": {
    "execution": {
     "iopub.execute_input": "2022-03-25T23:54:50.651467Z",
     "iopub.status.busy": "2022-03-25T23:54:50.651197Z",
     "iopub.status.idle": "2022-03-25T23:54:50.663328Z",
     "shell.execute_reply": "2022-03-25T23:54:50.663721Z"
    },
    "papermill": {
     "duration": 0.028465,
     "end_time": "2022-03-25T23:54:50.663858",
     "exception": false,
     "start_time": "2022-03-25T23:54:50.635393",
     "status": "completed"
    },
    "tags": []
   },
   "outputs": [],
   "source": [
    "# Set this to True if you want to run this template directly\n",
    "STANDALONE = False\n",
    "if STANDALONE:\n",
    "    print(\"parameters not injected, running with standalone_parameters\")\n",
    "    parameters = standalone_parameters\n",
    "\n",
    "if not 'parameters' in locals() and not 'parameters' in globals():\n",
    "    raise Exception(\"Parameter injection failed\")\n",
    "\n",
    "#Use an easy dict for all the parameters\n",
    "p = EasyDict(parameters)\n",
    "\n",
    "if \"x_shape\" not in p:\n",
    "    p.x_shape = [2,256] # Default to this if we dont supply x_shape\n",
    "\n",
    "\n",
    "supplied_keys = set(p.keys())\n",
    "\n",
    "if  supplied_keys != required_parameters:\n",
    "    print(\"Parameters are incorrect\")\n",
    "    if len(supplied_keys - required_parameters)>0: print(\"Shouldn't have:\", str(supplied_keys - required_parameters))\n",
    "    if len(required_parameters - supplied_keys)>0: print(\"Need to have:\", str(required_parameters - supplied_keys))\n",
    "    raise RuntimeError(\"Parameters are incorrect\")"
   ]
  },
  {
   "cell_type": "code",
   "execution_count": 6,
   "id": "3a028d58",
   "metadata": {
    "execution": {
     "iopub.execute_input": "2022-03-25T23:54:50.700560Z",
     "iopub.status.busy": "2022-03-25T23:54:50.700300Z",
     "iopub.status.idle": "2022-03-25T23:54:50.717301Z",
     "shell.execute_reply": "2022-03-25T23:54:50.717671Z"
    },
    "papermill": {
     "duration": 0.03497,
     "end_time": "2022-03-25T23:54:50.717790",
     "exception": false,
     "start_time": "2022-03-25T23:54:50.682820",
     "status": "completed"
    },
    "tags": []
   },
   "outputs": [],
   "source": [
    "###################################\n",
    "# Set the RNGs and make it all deterministic\n",
    "###################################\n",
    "np.random.seed(p.seed)\n",
    "random.seed(p.seed)\n",
    "torch.manual_seed(p.seed)\n",
    "\n",
    "torch.use_deterministic_algorithms(True) "
   ]
  },
  {
   "cell_type": "code",
   "execution_count": 7,
   "id": "b691acf6",
   "metadata": {
    "execution": {
     "iopub.execute_input": "2022-03-25T23:54:50.751459Z",
     "iopub.status.busy": "2022-03-25T23:54:50.751203Z",
     "iopub.status.idle": "2022-03-25T23:54:50.767860Z",
     "shell.execute_reply": "2022-03-25T23:54:50.768272Z"
    },
    "papermill": {
     "duration": 0.032606,
     "end_time": "2022-03-25T23:54:50.768402",
     "exception": false,
     "start_time": "2022-03-25T23:54:50.735796",
     "status": "completed"
    },
    "tags": []
   },
   "outputs": [],
   "source": [
    "###########################################\n",
    "# The stratified datasets honor this\n",
    "###########################################\n",
    "torch.set_default_dtype(eval(p.torch_default_dtype))"
   ]
  },
  {
   "cell_type": "code",
   "execution_count": 8,
   "id": "b5fba671",
   "metadata": {
    "execution": {
     "iopub.execute_input": "2022-03-25T23:54:50.803597Z",
     "iopub.status.busy": "2022-03-25T23:54:50.803338Z",
     "iopub.status.idle": "2022-03-25T23:54:50.839882Z",
     "shell.execute_reply": "2022-03-25T23:54:50.839426Z"
    },
    "papermill": {
     "duration": 0.052883,
     "end_time": "2022-03-25T23:54:50.839980",
     "exception": false,
     "start_time": "2022-03-25T23:54:50.787097",
     "status": "completed"
    },
    "tags": []
   },
   "outputs": [],
   "source": [
    "###################################\n",
    "# Build the network(s)\n",
    "# Note: It's critical to do this AFTER setting the RNG\n",
    "###################################\n",
    "x_net = build_sequential(p.x_net)"
   ]
  },
  {
   "cell_type": "code",
   "execution_count": 9,
   "id": "5d7e61cc",
   "metadata": {
    "execution": {
     "iopub.execute_input": "2022-03-25T23:54:50.874569Z",
     "iopub.status.busy": "2022-03-25T23:54:50.874308Z",
     "iopub.status.idle": "2022-03-25T23:54:50.889735Z",
     "shell.execute_reply": "2022-03-25T23:54:50.890167Z"
    },
    "papermill": {
     "duration": 0.032011,
     "end_time": "2022-03-25T23:54:50.890302",
     "exception": false,
     "start_time": "2022-03-25T23:54:50.858291",
     "status": "completed"
    },
    "tags": []
   },
   "outputs": [],
   "source": [
    "start_time_secs = time.time()"
   ]
  },
  {
   "cell_type": "code",
   "execution_count": 10,
   "id": "c6b67dfd",
   "metadata": {
    "execution": {
     "iopub.execute_input": "2022-03-25T23:54:50.925628Z",
     "iopub.status.busy": "2022-03-25T23:54:50.925359Z",
     "iopub.status.idle": "2022-03-25T23:54:50.936770Z",
     "shell.execute_reply": "2022-03-25T23:54:50.937071Z"
    },
    "papermill": {
     "duration": 0.026942,
     "end_time": "2022-03-25T23:54:50.937176",
     "exception": false,
     "start_time": "2022-03-25T23:54:50.910234",
     "status": "completed"
    },
    "tags": []
   },
   "outputs": [],
   "source": [
    "p.domains_source = []\n",
    "p.domains_target = []\n",
    "\n",
    "\n",
    "train_original_source = []\n",
    "val_original_source   = []\n",
    "test_original_source  = []\n",
    "\n",
    "train_original_target = []\n",
    "val_original_target   = []\n",
    "test_original_target  = []"
   ]
  },
  {
   "cell_type": "code",
   "execution_count": 11,
   "id": "e3d9c3d3",
   "metadata": {
    "execution": {
     "iopub.execute_input": "2022-03-25T23:54:50.972036Z",
     "iopub.status.busy": "2022-03-25T23:54:50.971628Z",
     "iopub.status.idle": "2022-03-25T23:54:50.988306Z",
     "shell.execute_reply": "2022-03-25T23:54:50.988539Z"
    },
    "papermill": {
     "duration": 0.032038,
     "end_time": "2022-03-25T23:54:50.988629",
     "exception": false,
     "start_time": "2022-03-25T23:54:50.956591",
     "status": "completed"
    },
    "tags": []
   },
   "outputs": [],
   "source": [
    "# global_x_transform_func = lambda x: normalize(x.to(torch.get_default_dtype()), \"unit_power\") # unit_power, unit_mag\n",
    "# global_x_transform_func = lambda x: normalize(x, \"unit_power\") # unit_power, unit_mag"
   ]
  },
  {
   "cell_type": "code",
   "execution_count": 12,
   "id": "acb78fd2",
   "metadata": {
    "execution": {
     "iopub.execute_input": "2022-03-25T23:54:51.021081Z",
     "iopub.status.busy": "2022-03-25T23:54:51.020647Z",
     "iopub.status.idle": "2022-03-25T23:54:51.032802Z",
     "shell.execute_reply": "2022-03-25T23:54:51.033014Z"
    },
    "papermill": {
     "duration": 0.030658,
     "end_time": "2022-03-25T23:54:51.033096",
     "exception": false,
     "start_time": "2022-03-25T23:54:51.002438",
     "status": "completed"
    },
    "tags": []
   },
   "outputs": [],
   "source": [
    "def add_dataset(\n",
    "    labels,\n",
    "    domains,\n",
    "    pickle_path,\n",
    "    x_transforms,\n",
    "    episode_transforms,\n",
    "    domain_prefix,\n",
    "    num_examples_per_domain_per_label,\n",
    "    source_or_target_dataset:str,\n",
    "    iterator_seed=p.seed,\n",
    "    dataset_seed=p.dataset_seed,\n",
    "    n_shot=p.n_shot,\n",
    "    n_way=p.n_way,\n",
    "    n_query=p.n_query,\n",
    "    train_val_test_k_factors=(p.train_k_factor,p.val_k_factor,p.test_k_factor),\n",
    "):\n",
    "   \n",
    "    if x_transforms == []: x_transform = None\n",
    "    else: x_transform = get_chained_transform(x_transforms)\n",
    "    \n",
    "    if episode_transforms == []: episode_transform = None\n",
    "    else: raise Exception(\"episode_transforms not implemented\")\n",
    "    \n",
    "    episode_transform = lambda tup, _prefix=domain_prefix: (_prefix + str(tup[0]), tup[1])\n",
    "\n",
    "\n",
    "    eaf = Episodic_Accessor_Factory(\n",
    "        labels=labels,\n",
    "        domains=domains,\n",
    "        num_examples_per_domain_per_label=num_examples_per_domain_per_label,\n",
    "        iterator_seed=iterator_seed,\n",
    "        dataset_seed=dataset_seed,\n",
    "        n_shot=n_shot,\n",
    "        n_way=n_way,\n",
    "        n_query=n_query,\n",
    "        train_val_test_k_factors=train_val_test_k_factors,\n",
    "        pickle_path=pickle_path,\n",
    "        x_transform_func=x_transform,\n",
    "    )\n",
    "\n",
    "    train, val, test = eaf.get_train(), eaf.get_val(), eaf.get_test()\n",
    "    train = Lazy_Iterable_Wrapper(train, episode_transform)\n",
    "    val = Lazy_Iterable_Wrapper(val, episode_transform)\n",
    "    test = Lazy_Iterable_Wrapper(test, episode_transform)\n",
    "\n",
    "    if source_or_target_dataset==\"source\":\n",
    "        train_original_source.append(train)\n",
    "        val_original_source.append(val)\n",
    "        test_original_source.append(test)\n",
    "\n",
    "        p.domains_source.extend(\n",
    "            [domain_prefix + str(u) for u in domains]\n",
    "        )\n",
    "    elif source_or_target_dataset==\"target\":\n",
    "        train_original_target.append(train)\n",
    "        val_original_target.append(val)\n",
    "        test_original_target.append(test)\n",
    "        p.domains_target.extend(\n",
    "            [domain_prefix + str(u) for u in domains]\n",
    "        )\n",
    "    else:\n",
    "        raise Exception(f\"invalid source_or_target_dataset: {source_or_target_dataset}\")\n",
    "    "
   ]
  },
  {
   "cell_type": "code",
   "execution_count": 13,
   "id": "fe266617",
   "metadata": {
    "execution": {
     "iopub.execute_input": "2022-03-25T23:54:51.064808Z",
     "iopub.status.busy": "2022-03-25T23:54:51.063464Z",
     "iopub.status.idle": "2022-03-25T23:55:09.820519Z",
     "shell.execute_reply": "2022-03-25T23:55:09.820016Z"
    },
    "papermill": {
     "duration": 18.773532,
     "end_time": "2022-03-25T23:55:09.820639",
     "exception": false,
     "start_time": "2022-03-25T23:54:51.047107",
     "status": "completed"
    },
    "tags": []
   },
   "outputs": [],
   "source": [
    "for ds in p.datasets:\n",
    "    add_dataset(**ds)"
   ]
  },
  {
   "cell_type": "code",
   "execution_count": 14,
   "id": "b90d65ac",
   "metadata": {
    "execution": {
     "iopub.execute_input": "2022-03-25T23:55:09.860724Z",
     "iopub.status.busy": "2022-03-25T23:55:09.857169Z",
     "iopub.status.idle": "2022-03-25T23:55:09.869721Z",
     "shell.execute_reply": "2022-03-25T23:55:09.869336Z"
    },
    "papermill": {
     "duration": 0.029296,
     "end_time": "2022-03-25T23:55:09.869812",
     "exception": false,
     "start_time": "2022-03-25T23:55:09.840516",
     "status": "completed"
    },
    "tags": []
   },
   "outputs": [],
   "source": [
    "# from steves_utils.CORES.utils import (\n",
    "#     ALL_NODES,\n",
    "#     ALL_NODES_MINIMUM_1000_EXAMPLES,\n",
    "#     ALL_DAYS\n",
    "# )\n",
    "\n",
    "# add_dataset(\n",
    "#     labels=ALL_NODES,\n",
    "#     domains = ALL_DAYS,\n",
    "#     num_examples_per_domain_per_label=100,\n",
    "#     pickle_path=os.path.join(get_datasets_base_path(), \"cores.stratified_ds.2022A.pkl\"),\n",
    "#     source_or_target_dataset=\"target\",\n",
    "#     x_transform_func=global_x_transform_func,\n",
    "#     domain_modifier=lambda u: f\"cores_{u}\"\n",
    "# )"
   ]
  },
  {
   "cell_type": "code",
   "execution_count": 15,
   "id": "76db484d",
   "metadata": {
    "execution": {
     "iopub.execute_input": "2022-03-25T23:55:09.904988Z",
     "iopub.status.busy": "2022-03-25T23:55:09.904705Z",
     "iopub.status.idle": "2022-03-25T23:55:09.917692Z",
     "shell.execute_reply": "2022-03-25T23:55:09.917350Z"
    },
    "papermill": {
     "duration": 0.031675,
     "end_time": "2022-03-25T23:55:09.917784",
     "exception": false,
     "start_time": "2022-03-25T23:55:09.886109",
     "status": "completed"
    },
    "tags": []
   },
   "outputs": [],
   "source": [
    "# from steves_utils.ORACLE.utils_v2 import (\n",
    "#     ALL_DISTANCES_FEET,\n",
    "#     ALL_RUNS,\n",
    "#     ALL_SERIAL_NUMBERS,\n",
    "# )\n",
    "\n",
    "\n",
    "# add_dataset(\n",
    "#     labels=ALL_SERIAL_NUMBERS,\n",
    "#     domains = list(set(ALL_DISTANCES_FEET) - {2,62}),\n",
    "#     num_examples_per_domain_per_label=100,\n",
    "#     pickle_path=os.path.join(get_datasets_base_path(), \"oracle.Run2_framed_2000Examples_stratified_ds.2022A.pkl\"),\n",
    "#     source_or_target_dataset=\"source\",\n",
    "#     x_transform_func=global_x_transform_func,\n",
    "#     domain_modifier=lambda u: f\"oracle1_{u}\"\n",
    "# )\n"
   ]
  },
  {
   "cell_type": "code",
   "execution_count": 16,
   "id": "97dea9d2",
   "metadata": {
    "execution": {
     "iopub.execute_input": "2022-03-25T23:55:09.955043Z",
     "iopub.status.busy": "2022-03-25T23:55:09.954766Z",
     "iopub.status.idle": "2022-03-25T23:55:09.969843Z",
     "shell.execute_reply": "2022-03-25T23:55:09.969356Z"
    },
    "papermill": {
     "duration": 0.033083,
     "end_time": "2022-03-25T23:55:09.970015",
     "exception": false,
     "start_time": "2022-03-25T23:55:09.936932",
     "status": "completed"
    },
    "tags": []
   },
   "outputs": [],
   "source": [
    "# from steves_utils.ORACLE.utils_v2 import (\n",
    "#     ALL_DISTANCES_FEET,\n",
    "#     ALL_RUNS,\n",
    "#     ALL_SERIAL_NUMBERS,\n",
    "# )\n",
    "\n",
    "\n",
    "# add_dataset(\n",
    "#     labels=ALL_SERIAL_NUMBERS,\n",
    "#     domains = list(set(ALL_DISTANCES_FEET) - {2,62,56}),\n",
    "#     num_examples_per_domain_per_label=100,\n",
    "#     pickle_path=os.path.join(get_datasets_base_path(), \"oracle.Run2_framed_2000Examples_stratified_ds.2022A.pkl\"),\n",
    "#     source_or_target_dataset=\"source\",\n",
    "#     x_transform_func=global_x_transform_func,\n",
    "#     domain_modifier=lambda u: f\"oracle2_{u}\"\n",
    "# )"
   ]
  },
  {
   "cell_type": "code",
   "execution_count": 17,
   "id": "6f289866",
   "metadata": {
    "execution": {
     "iopub.execute_input": "2022-03-25T23:55:10.011418Z",
     "iopub.status.busy": "2022-03-25T23:55:10.011038Z",
     "iopub.status.idle": "2022-03-25T23:55:10.017968Z",
     "shell.execute_reply": "2022-03-25T23:55:10.017616Z"
    },
    "papermill": {
     "duration": 0.029202,
     "end_time": "2022-03-25T23:55:10.018091",
     "exception": false,
     "start_time": "2022-03-25T23:55:09.988889",
     "status": "completed"
    },
    "tags": []
   },
   "outputs": [],
   "source": [
    "# add_dataset(\n",
    "#     labels=list(range(19)),\n",
    "#     domains = [0,1,2],\n",
    "#     num_examples_per_domain_per_label=100,\n",
    "#     pickle_path=os.path.join(get_datasets_base_path(), \"metehan.stratified_ds.2022A.pkl\"),\n",
    "#     source_or_target_dataset=\"target\",\n",
    "#     x_transform_func=global_x_transform_func,\n",
    "#     domain_modifier=lambda u: f\"met_{u}\"\n",
    "# )"
   ]
  },
  {
   "cell_type": "code",
   "execution_count": 18,
   "id": "86a863c3",
   "metadata": {
    "execution": {
     "iopub.execute_input": "2022-03-25T23:55:10.055850Z",
     "iopub.status.busy": "2022-03-25T23:55:10.054294Z",
     "iopub.status.idle": "2022-03-25T23:55:10.068394Z",
     "shell.execute_reply": "2022-03-25T23:55:10.068945Z"
    },
    "papermill": {
     "duration": 0.031466,
     "end_time": "2022-03-25T23:55:10.069120",
     "exception": false,
     "start_time": "2022-03-25T23:55:10.037654",
     "status": "completed"
    },
    "tags": []
   },
   "outputs": [],
   "source": [
    "# # from steves_utils.wisig.utils import (\n",
    "# #     ALL_NODES_MINIMUM_100_EXAMPLES,\n",
    "# #     ALL_NODES_MINIMUM_500_EXAMPLES,\n",
    "# #     ALL_NODES_MINIMUM_1000_EXAMPLES,\n",
    "# #     ALL_DAYS\n",
    "# # )\n",
    "\n",
    "# import steves_utils.wisig.utils as wisig\n",
    "\n",
    "\n",
    "# add_dataset(\n",
    "#     labels=wisig.ALL_NODES_MINIMUM_100_EXAMPLES,\n",
    "#     domains = wisig.ALL_DAYS,\n",
    "#     num_examples_per_domain_per_label=100,\n",
    "#     pickle_path=os.path.join(get_datasets_base_path(), \"wisig.node3-19.stratified_ds.2022A.pkl\"),\n",
    "#     source_or_target_dataset=\"target\",\n",
    "#     x_transform_func=global_x_transform_func,\n",
    "#     domain_modifier=lambda u: f\"wisig_{u}\"\n",
    "# )"
   ]
  },
  {
   "cell_type": "code",
   "execution_count": 19,
   "id": "fd5442bc",
   "metadata": {
    "execution": {
     "iopub.execute_input": "2022-03-25T23:55:10.117111Z",
     "iopub.status.busy": "2022-03-25T23:55:10.111679Z",
     "iopub.status.idle": "2022-03-25T23:55:10.128342Z",
     "shell.execute_reply": "2022-03-25T23:55:10.128047Z"
    },
    "papermill": {
     "duration": 0.037016,
     "end_time": "2022-03-25T23:55:10.128409",
     "exception": false,
     "start_time": "2022-03-25T23:55:10.091393",
     "status": "completed"
    },
    "tags": []
   },
   "outputs": [],
   "source": [
    "###################################\n",
    "# Build the dataset\n",
    "###################################\n",
    "train_original_source = Iterable_Aggregator(train_original_source, p.seed)\n",
    "val_original_source = Iterable_Aggregator(val_original_source, p.seed)\n",
    "test_original_source = Iterable_Aggregator(test_original_source, p.seed)\n",
    "\n",
    "\n",
    "train_original_target = Iterable_Aggregator(train_original_target, p.seed)\n",
    "val_original_target = Iterable_Aggregator(val_original_target, p.seed)\n",
    "test_original_target = Iterable_Aggregator(test_original_target, p.seed)\n",
    "\n",
    "# For CNN We only use X and Y. And we only train on the source.\n",
    "# Properly form the data using a transform lambda and Lazy_Iterable_Wrapper. Finally wrap them in a dataloader\n",
    "\n",
    "transform_lambda = lambda ex: ex[1] # Original is (<domain>, <episode>) so we strip down to episode only\n",
    "\n",
    "train_processed_source = Lazy_Iterable_Wrapper(train_original_source, transform_lambda)\n",
    "val_processed_source   = Lazy_Iterable_Wrapper(val_original_source, transform_lambda)\n",
    "test_processed_source  = Lazy_Iterable_Wrapper(test_original_source, transform_lambda)\n",
    "\n",
    "train_processed_target = Lazy_Iterable_Wrapper(train_original_target, transform_lambda)\n",
    "val_processed_target   = Lazy_Iterable_Wrapper(val_original_target, transform_lambda)\n",
    "test_processed_target  = Lazy_Iterable_Wrapper(test_original_target, transform_lambda)\n",
    "\n",
    "datasets = EasyDict({\n",
    "    \"source\": {\n",
    "        \"original\": {\"train\":train_original_source, \"val\":val_original_source, \"test\":test_original_source},\n",
    "        \"processed\": {\"train\":train_processed_source, \"val\":val_processed_source, \"test\":test_processed_source}\n",
    "    },\n",
    "    \"target\": {\n",
    "        \"original\": {\"train\":train_original_target, \"val\":val_original_target, \"test\":test_original_target},\n",
    "        \"processed\": {\"train\":train_processed_target, \"val\":val_processed_target, \"test\":test_processed_target}\n",
    "    },\n",
    "})"
   ]
  },
  {
   "cell_type": "code",
   "execution_count": 20,
   "id": "5b3c01fc",
   "metadata": {
    "execution": {
     "iopub.execute_input": "2022-03-25T23:55:10.170835Z",
     "iopub.status.busy": "2022-03-25T23:55:10.170557Z",
     "iopub.status.idle": "2022-03-25T23:55:17.188108Z",
     "shell.execute_reply": "2022-03-25T23:55:17.188580Z"
    },
    "papermill": {
     "duration": 7.040321,
     "end_time": "2022-03-25T23:55:17.188698",
     "exception": false,
     "start_time": "2022-03-25T23:55:10.148377",
     "status": "completed"
    },
    "tags": []
   },
   "outputs": [
    {
     "name": "stdout",
     "output_type": "stream",
     "text": [
      "{'O_14', 'O_32', 'O_20', 'O_44', 'O_38', 'O_26', 'O_8', 'O_50'}\n"
     ]
    },
    {
     "name": "stdout",
     "output_type": "stream",
     "text": [
      "{'C_5', 'C_4', 'C_2', 'C_3', 'C_1'}\n"
     ]
    },
    {
     "name": "stdout",
     "output_type": "stream",
     "text": [
      "tensor([[[ 2.1668e-03,  1.9356e-03, -2.0440e-03,  ...,  4.0062e-04,\n",
      "          -3.5633e-03,  1.6687e-04],\n",
      "         [ 5.1881e-04,  4.2070e-03,  1.3198e-03,  ...,  2.7346e-03,\n",
      "           2.0436e-03,  2.7066e-03]],\n",
      "\n",
      "        [[-2.1973e-03,  9.0551e-04,  2.6879e-03,  ...,  1.6112e-03,\n",
      "           3.8851e-03,  2.1429e-03],\n",
      "         [-1.6480e-03, -4.1460e-03,  6.8800e-04,  ..., -1.7057e-03,\n",
      "           1.1608e-03, -2.1020e-03]],\n",
      "\n",
      "        [[-1.2207e-04,  3.7047e-03,  1.5631e-03,  ...,  2.5664e-03,\n",
      "           1.4505e-03,  2.5121e-03],\n",
      "         [-1.9227e-03, -1.3189e-03,  2.2181e-03,  ...,  1.4671e-05,\n",
      "           3.6921e-03,  4.5015e-05]],\n",
      "\n",
      "        ...,\n",
      "\n",
      "        [[ 2.9908e-03,  1.8943e-03, -2.9748e-03,  ..., -4.6612e-05,\n",
      "          -5.1257e-03, -4.8283e-04],\n",
      "         [ 7.0193e-04,  4.8741e-03,  1.1802e-03,  ...,  3.4314e-03,\n",
      "           2.4493e-03,  4.1666e-03]],\n",
      "\n",
      "        [[ 4.4862e-03,  3.5262e-03, -4.5896e-03,  ..., -7.6992e-04,\n",
      "          -1.6533e-03,  4.6432e-03],\n",
      "         [ 4.5778e-04,  4.0197e-03,  1.2869e-03,  ...,  4.4552e-03,\n",
      "           3.6509e-03,  3.1152e-03]],\n",
      "\n",
      "        [[ 3.9064e-03,  4.2895e-03, -3.1423e-03,  ...,  2.4494e-03,\n",
      "           2.2762e-03,  5.3046e-03],\n",
      "         [-3.1434e-03,  6.8323e-04,  5.0160e-03,  ...,  4.5379e-03,\n",
      "           2.4855e-03, -1.8031e-03]]])\n"
     ]
    }
   ],
   "source": [
    "from steves_utils.transforms import get_average_magnitude, get_average_power\n",
    "\n",
    "print(set([u for u,_ in val_original_source]))\n",
    "print(set([u for u,_ in val_original_target]))\n",
    "\n",
    "s_x, s_y, q_x, q_y, _ = next(iter(train_processed_source))\n",
    "print(s_x)\n",
    "\n",
    "# for ds in [\n",
    "#     train_processed_source,\n",
    "#     val_processed_source,\n",
    "#     test_processed_source,\n",
    "#     train_processed_target,\n",
    "#     val_processed_target,\n",
    "#     test_processed_target\n",
    "# ]:\n",
    "#     for s_x, s_y, q_x, q_y, _ in ds:\n",
    "#         for X in (s_x, q_x):\n",
    "#             for x in X:\n",
    "#                 assert np.isclose(get_average_magnitude(x.numpy()), 1.0)\n",
    "#                 assert np.isclose(get_average_power(x.numpy()), 1.0)\n",
    "                "
   ]
  },
  {
   "cell_type": "code",
   "execution_count": 21,
   "id": "bbdacba1",
   "metadata": {
    "execution": {
     "iopub.execute_input": "2022-03-25T23:55:17.228486Z",
     "iopub.status.busy": "2022-03-25T23:55:17.228218Z",
     "iopub.status.idle": "2022-03-25T23:55:17.279219Z",
     "shell.execute_reply": "2022-03-25T23:55:17.279633Z"
    },
    "papermill": {
     "duration": 0.070986,
     "end_time": "2022-03-25T23:55:17.279762",
     "exception": false,
     "start_time": "2022-03-25T23:55:17.208776",
     "status": "completed"
    },
    "tags": []
   },
   "outputs": [
    {
     "name": "stdout",
     "output_type": "stream",
     "text": [
      "(2, 200)\n"
     ]
    }
   ],
   "source": [
    "###################################\n",
    "# Build the model\n",
    "###################################\n",
    "# easfsl only wants a tuple for the shape\n",
    "model = Steves_Prototypical_Network(x_net, device=p.device, x_shape=tuple(p.x_shape))\n",
    "optimizer = Adam(params=model.parameters(), lr=p.lr)"
   ]
  },
  {
   "cell_type": "code",
   "execution_count": 22,
   "id": "22b39ac5",
   "metadata": {
    "execution": {
     "iopub.execute_input": "2022-03-25T23:55:17.318455Z",
     "iopub.status.busy": "2022-03-25T23:55:17.318194Z",
     "iopub.status.idle": "2022-03-26T00:19:30.238815Z",
     "shell.execute_reply": "2022-03-26T00:19:30.238563Z"
    },
    "papermill": {
     "duration": 1452.938663,
     "end_time": "2022-03-26T00:19:30.238876",
     "exception": false,
     "start_time": "2022-03-25T23:55:17.300213",
     "status": "completed"
    },
    "tags": []
   },
   "outputs": [
    {
     "name": "stdout",
     "output_type": "stream",
     "text": [
      "epoch: 1, [batch: 1 / 6720], examples_per_second: 46.6513, train_label_loss: 2.9266, \n"
     ]
    },
    {
     "name": "stdout",
     "output_type": "stream",
     "text": [
      "epoch: 1, [batch: 672 / 6720], examples_per_second: 1960.0181, train_label_loss: 0.6885, \n"
     ]
    },
    {
     "name": "stdout",
     "output_type": "stream",
     "text": [
      "epoch: 1, [batch: 1344 / 6720], examples_per_second: 1960.5711, train_label_loss: 0.5103, \n"
     ]
    },
    {
     "name": "stdout",
     "output_type": "stream",
     "text": [
      "epoch: 1, [batch: 2016 / 6720], examples_per_second: 1954.4518, train_label_loss: 0.6018, \n"
     ]
    },
    {
     "name": "stdout",
     "output_type": "stream",
     "text": [
      "epoch: 1, [batch: 2688 / 6720], examples_per_second: 1936.7298, train_label_loss: 0.8162, \n"
     ]
    },
    {
     "name": "stdout",
     "output_type": "stream",
     "text": [
      "epoch: 1, [batch: 3360 / 6720], examples_per_second: 1995.3846, train_label_loss: 0.3621, \n"
     ]
    },
    {
     "name": "stdout",
     "output_type": "stream",
     "text": [
      "epoch: 1, [batch: 4032 / 6720], examples_per_second: 2408.3052, train_label_loss: 0.1292, \n"
     ]
    },
    {
     "name": "stdout",
     "output_type": "stream",
     "text": [
      "epoch: 1, [batch: 4704 / 6720], examples_per_second: 2287.9296, train_label_loss: 0.3418, \n"
     ]
    },
    {
     "name": "stdout",
     "output_type": "stream",
     "text": [
      "epoch: 1, [batch: 5376 / 6720], examples_per_second: 1978.5984, train_label_loss: 0.2402, \n"
     ]
    },
    {
     "name": "stdout",
     "output_type": "stream",
     "text": [
      "epoch: 1, [batch: 6048 / 6720], examples_per_second: 1979.1448, train_label_loss: 0.3097, \n"
     ]
    },
    {
     "name": "stdout",
     "output_type": "stream",
     "text": [
      "=============================================================\n",
      "epoch: 1, source_val_acc_label: 0.6386, target_val_acc_label: 0.5876, source_val_label_loss: 7.8551, target_val_label_loss: 1609.7719, \n",
      "=============================================================\n"
     ]
    },
    {
     "name": "stdout",
     "output_type": "stream",
     "text": [
      "New best\n"
     ]
    },
    {
     "name": "stdout",
     "output_type": "stream",
     "text": [
      "epoch: 2, [batch: 1 / 6720], examples_per_second: 2.8861, train_label_loss: 0.3848, \n"
     ]
    },
    {
     "name": "stdout",
     "output_type": "stream",
     "text": [
      "epoch: 2, [batch: 672 / 6720], examples_per_second: 1985.5021, train_label_loss: 0.1578, \n"
     ]
    },
    {
     "name": "stdout",
     "output_type": "stream",
     "text": [
      "epoch: 2, [batch: 1344 / 6720], examples_per_second: 1988.2936, train_label_loss: 0.4618, \n"
     ]
    },
    {
     "name": "stdout",
     "output_type": "stream",
     "text": [
      "epoch: 2, [batch: 2016 / 6720], examples_per_second: 1988.0147, train_label_loss: 0.2778, \n"
     ]
    },
    {
     "name": "stdout",
     "output_type": "stream",
     "text": [
      "epoch: 2, [batch: 2688 / 6720], examples_per_second: 1980.2806, train_label_loss: 0.3802, \n"
     ]
    },
    {
     "name": "stdout",
     "output_type": "stream",
     "text": [
      "epoch: 2, [batch: 3360 / 6720], examples_per_second: 2017.2411, train_label_loss: 0.3858, \n"
     ]
    },
    {
     "name": "stdout",
     "output_type": "stream",
     "text": [
      "epoch: 2, [batch: 4032 / 6720], examples_per_second: 2418.2289, train_label_loss: 0.4125, \n"
     ]
    },
    {
     "name": "stdout",
     "output_type": "stream",
     "text": [
      "epoch: 2, [batch: 4704 / 6720], examples_per_second: 2280.1724, train_label_loss: 0.5202, \n"
     ]
    },
    {
     "name": "stdout",
     "output_type": "stream",
     "text": [
      "epoch: 2, [batch: 5376 / 6720], examples_per_second: 1985.6821, train_label_loss: 0.4111, \n"
     ]
    },
    {
     "name": "stdout",
     "output_type": "stream",
     "text": [
      "epoch: 2, [batch: 6048 / 6720], examples_per_second: 1987.1040, train_label_loss: 0.2280, \n"
     ]
    },
    {
     "name": "stdout",
     "output_type": "stream",
     "text": [
      "=============================================================\n",
      "epoch: 2, source_val_acc_label: 0.8572, target_val_acc_label: 0.4396, source_val_label_loss: 0.4074, target_val_label_loss: 2773.1953, \n",
      "=============================================================\n"
     ]
    },
    {
     "name": "stdout",
     "output_type": "stream",
     "text": [
      "epoch: 3, [batch: 1 / 6720], examples_per_second: 2.8844, train_label_loss: 0.3508, \n"
     ]
    },
    {
     "name": "stdout",
     "output_type": "stream",
     "text": [
      "epoch: 3, [batch: 672 / 6720], examples_per_second: 1986.9656, train_label_loss: 0.3254, \n"
     ]
    },
    {
     "name": "stdout",
     "output_type": "stream",
     "text": [
      "epoch: 3, [batch: 1344 / 6720], examples_per_second: 1989.2758, train_label_loss: 0.4305, \n"
     ]
    },
    {
     "name": "stdout",
     "output_type": "stream",
     "text": [
      "epoch: 3, [batch: 2016 / 6720], examples_per_second: 1987.2136, train_label_loss: 0.2535, \n"
     ]
    },
    {
     "name": "stdout",
     "output_type": "stream",
     "text": [
      "epoch: 3, [batch: 2688 / 6720], examples_per_second: 1981.8003, train_label_loss: 0.3175, \n"
     ]
    },
    {
     "name": "stdout",
     "output_type": "stream",
     "text": [
      "epoch: 3, [batch: 3360 / 6720], examples_per_second: 2025.1915, train_label_loss: 0.5079, \n"
     ]
    },
    {
     "name": "stdout",
     "output_type": "stream",
     "text": [
      "epoch: 3, [batch: 4032 / 6720], examples_per_second: 2453.4836, train_label_loss: 0.4907, \n"
     ]
    },
    {
     "name": "stdout",
     "output_type": "stream",
     "text": [
      "epoch: 3, [batch: 4704 / 6720], examples_per_second: 2289.0390, train_label_loss: 0.2083, \n"
     ]
    },
    {
     "name": "stdout",
     "output_type": "stream",
     "text": [
      "epoch: 3, [batch: 5376 / 6720], examples_per_second: 1987.0311, train_label_loss: 0.2364, \n"
     ]
    },
    {
     "name": "stdout",
     "output_type": "stream",
     "text": [
      "epoch: 3, [batch: 6048 / 6720], examples_per_second: 1985.9834, train_label_loss: 0.4636, \n"
     ]
    },
    {
     "name": "stdout",
     "output_type": "stream",
     "text": [
      "=============================================================\n",
      "epoch: 3, source_val_acc_label: 0.8832, target_val_acc_label: 0.4442, source_val_label_loss: 0.3304, target_val_label_loss: 3189.1797, \n",
      "=============================================================\n"
     ]
    },
    {
     "name": "stdout",
     "output_type": "stream",
     "text": [
      "epoch: 4, [batch: 1 / 6720], examples_per_second: 2.8729, train_label_loss: 0.2891, \n"
     ]
    },
    {
     "name": "stdout",
     "output_type": "stream",
     "text": [
      "epoch: 4, [batch: 672 / 6720], examples_per_second: 1986.9373, train_label_loss: 0.2555, \n"
     ]
    },
    {
     "name": "stdout",
     "output_type": "stream",
     "text": [
      "epoch: 4, [batch: 1344 / 6720], examples_per_second: 1988.9160, train_label_loss: 0.1995, \n"
     ]
    },
    {
     "name": "stdout",
     "output_type": "stream",
     "text": [
      "epoch: 4, [batch: 2016 / 6720], examples_per_second: 1983.2478, train_label_loss: 0.1526, \n"
     ]
    },
    {
     "name": "stdout",
     "output_type": "stream",
     "text": [
      "epoch: 4, [batch: 2688 / 6720], examples_per_second: 1980.4448, train_label_loss: 0.4013, \n"
     ]
    },
    {
     "name": "stdout",
     "output_type": "stream",
     "text": [
      "epoch: 4, [batch: 3360 / 6720], examples_per_second: 2033.8877, train_label_loss: 0.2815, \n"
     ]
    },
    {
     "name": "stdout",
     "output_type": "stream",
     "text": [
      "epoch: 4, [batch: 4032 / 6720], examples_per_second: 2453.4696, train_label_loss: 0.2693, \n"
     ]
    },
    {
     "name": "stdout",
     "output_type": "stream",
     "text": [
      "epoch: 4, [batch: 4704 / 6720], examples_per_second: 2284.7363, train_label_loss: 0.4313, \n"
     ]
    },
    {
     "name": "stdout",
     "output_type": "stream",
     "text": [
      "epoch: 4, [batch: 5376 / 6720], examples_per_second: 1986.1538, train_label_loss: 0.3523, \n"
     ]
    },
    {
     "name": "stdout",
     "output_type": "stream",
     "text": [
      "epoch: 4, [batch: 6048 / 6720], examples_per_second: 1985.1394, train_label_loss: 0.0727, \n"
     ]
    },
    {
     "name": "stdout",
     "output_type": "stream",
     "text": [
      "=============================================================\n",
      "epoch: 4, source_val_acc_label: 0.8879, target_val_acc_label: 0.4434, source_val_label_loss: 0.3125, target_val_label_loss: 3618.1746, \n",
      "=============================================================\n"
     ]
    },
    {
     "name": "stdout",
     "output_type": "stream",
     "text": [
      "epoch: 5, [batch: 1 / 6720], examples_per_second: 2.8960, train_label_loss: 0.4216, \n"
     ]
    },
    {
     "name": "stdout",
     "output_type": "stream",
     "text": [
      "epoch: 5, [batch: 672 / 6720], examples_per_second: 1984.7682, train_label_loss: 0.3962, \n"
     ]
    },
    {
     "name": "stdout",
     "output_type": "stream",
     "text": [
      "epoch: 5, [batch: 1344 / 6720], examples_per_second: 1985.9947, train_label_loss: 0.2001, \n"
     ]
    },
    {
     "name": "stdout",
     "output_type": "stream",
     "text": [
      "epoch: 5, [batch: 2016 / 6720], examples_per_second: 1984.8489, train_label_loss: 0.1977, \n"
     ]
    },
    {
     "name": "stdout",
     "output_type": "stream",
     "text": [
      "epoch: 5, [batch: 2688 / 6720], examples_per_second: 1979.1398, train_label_loss: 0.2094, \n"
     ]
    },
    {
     "name": "stdout",
     "output_type": "stream",
     "text": [
      "epoch: 5, [batch: 3360 / 6720], examples_per_second: 2020.9986, train_label_loss: 0.2298, \n"
     ]
    },
    {
     "name": "stdout",
     "output_type": "stream",
     "text": [
      "epoch: 5, [batch: 4032 / 6720], examples_per_second: 2433.4992, train_label_loss: 0.5165, \n"
     ]
    },
    {
     "name": "stdout",
     "output_type": "stream",
     "text": [
      "epoch: 5, [batch: 4704 / 6720], examples_per_second: 2249.0192, train_label_loss: 0.2321, \n"
     ]
    },
    {
     "name": "stdout",
     "output_type": "stream",
     "text": [
      "epoch: 5, [batch: 5376 / 6720], examples_per_second: 1984.9277, train_label_loss: 0.4140, \n"
     ]
    },
    {
     "name": "stdout",
     "output_type": "stream",
     "text": [
      "epoch: 5, [batch: 6048 / 6720], examples_per_second: 1985.4186, train_label_loss: 0.3449, \n"
     ]
    },
    {
     "name": "stdout",
     "output_type": "stream",
     "text": [
      "=============================================================\n",
      "epoch: 5, source_val_acc_label: 0.9081, target_val_acc_label: 0.4447, source_val_label_loss: 0.2625, target_val_label_loss: 3902.2083, \n",
      "=============================================================\n"
     ]
    },
    {
     "name": "stdout",
     "output_type": "stream",
     "text": [
      "Patience (3) exhausted\n"
     ]
    }
   ],
   "source": [
    "###################################\n",
    "# train\n",
    "###################################\n",
    "jig = PTN_Train_Eval_Test_Jig(model, p.BEST_MODEL_PATH, p.device)\n",
    "\n",
    "jig.train(\n",
    "    train_iterable=datasets.source.processed.train,\n",
    "    source_val_iterable=datasets.source.processed.val,\n",
    "    target_val_iterable=datasets.target.processed.val,\n",
    "    num_epochs=p.n_epoch,\n",
    "    num_logs_per_epoch=p.NUM_LOGS_PER_EPOCH,\n",
    "    patience=p.patience,\n",
    "    optimizer=optimizer,\n",
    "    criteria_for_best=p.criteria_for_best,\n",
    ")"
   ]
  },
  {
   "cell_type": "code",
   "execution_count": 23,
   "id": "31e8fabf",
   "metadata": {
    "execution": {
     "iopub.execute_input": "2022-03-26T00:19:30.292468Z",
     "iopub.status.busy": "2022-03-26T00:19:30.292064Z",
     "iopub.status.idle": "2022-03-26T00:19:30.307902Z",
     "shell.execute_reply": "2022-03-26T00:19:30.308122Z"
    },
    "papermill": {
     "duration": 0.043834,
     "end_time": "2022-03-26T00:19:30.308204",
     "exception": false,
     "start_time": "2022-03-26T00:19:30.264370",
     "status": "completed"
    },
    "tags": []
   },
   "outputs": [],
   "source": [
    "total_experiment_time_secs = time.time() - start_time_secs"
   ]
  },
  {
   "cell_type": "code",
   "execution_count": 24,
   "id": "87b9595b",
   "metadata": {
    "execution": {
     "iopub.execute_input": "2022-03-26T00:19:30.362201Z",
     "iopub.status.busy": "2022-03-26T00:19:30.361816Z",
     "iopub.status.idle": "2022-03-26T00:21:54.453698Z",
     "shell.execute_reply": "2022-03-26T00:21:54.453942Z"
    },
    "papermill": {
     "duration": 144.121008,
     "end_time": "2022-03-26T00:21:54.454036",
     "exception": false,
     "start_time": "2022-03-26T00:19:30.333028",
     "status": "completed"
    },
    "tags": []
   },
   "outputs": [],
   "source": [
    "###################################\n",
    "# Evaluate the model\n",
    "###################################\n",
    "source_test_label_accuracy, source_test_label_loss = jig.test(datasets.source.processed.test)\n",
    "target_test_label_accuracy, target_test_label_loss = jig.test(datasets.target.processed.test)\n",
    "\n",
    "source_val_label_accuracy, source_val_label_loss = jig.test(datasets.source.processed.val)\n",
    "target_val_label_accuracy, target_val_label_loss = jig.test(datasets.target.processed.val)\n",
    "\n",
    "history = jig.get_history()\n",
    "\n",
    "total_epochs_trained = len(history[\"epoch_indices\"])\n",
    "\n",
    "val_dl = Iterable_Aggregator((datasets.source.original.val,datasets.target.original.val))\n",
    "\n",
    "confusion = ptn_confusion_by_domain_over_dataloader(model, p.device, val_dl)\n",
    "per_domain_accuracy = per_domain_accuracy_from_confusion(confusion)\n",
    "\n",
    "# Add a key to per_domain_accuracy for if it was a source domain\n",
    "for domain, accuracy in per_domain_accuracy.items():\n",
    "    per_domain_accuracy[domain] = {\n",
    "        \"accuracy\": accuracy,\n",
    "        \"source?\": domain in p.domains_source\n",
    "    }\n",
    "\n",
    "# Do an independent accuracy assesment JUST TO BE SURE!\n",
    "# _source_test_label_accuracy = independent_accuracy_assesment(model, datasets.source.processed.test, p.device)\n",
    "# _target_test_label_accuracy = independent_accuracy_assesment(model, datasets.target.processed.test, p.device)\n",
    "# _source_val_label_accuracy = independent_accuracy_assesment(model, datasets.source.processed.val, p.device)\n",
    "# _target_val_label_accuracy = independent_accuracy_assesment(model, datasets.target.processed.val, p.device)\n",
    "\n",
    "# assert(_source_test_label_accuracy == source_test_label_accuracy)\n",
    "# assert(_target_test_label_accuracy == target_test_label_accuracy)\n",
    "# assert(_source_val_label_accuracy == source_val_label_accuracy)\n",
    "# assert(_target_val_label_accuracy == target_val_label_accuracy)\n",
    "\n",
    "experiment = {\n",
    "    \"experiment_name\": p.experiment_name,\n",
    "    \"parameters\": dict(p),\n",
    "    \"results\": {\n",
    "        \"source_test_label_accuracy\": source_test_label_accuracy,\n",
    "        \"source_test_label_loss\": source_test_label_loss,\n",
    "        \"target_test_label_accuracy\": target_test_label_accuracy,\n",
    "        \"target_test_label_loss\": target_test_label_loss,\n",
    "        \"source_val_label_accuracy\": source_val_label_accuracy,\n",
    "        \"source_val_label_loss\": source_val_label_loss,\n",
    "        \"target_val_label_accuracy\": target_val_label_accuracy,\n",
    "        \"target_val_label_loss\": target_val_label_loss,\n",
    "        \"total_epochs_trained\": total_epochs_trained,\n",
    "        \"total_experiment_time_secs\": total_experiment_time_secs,\n",
    "        \"confusion\": confusion,\n",
    "        \"per_domain_accuracy\": per_domain_accuracy,\n",
    "    },\n",
    "    \"history\": history,\n",
    "    \"dataset_metrics\": get_dataset_metrics(datasets, \"ptn\"),\n",
    "}"
   ]
  },
  {
   "cell_type": "code",
   "execution_count": 25,
   "id": "54a21829",
   "metadata": {
    "execution": {
     "iopub.execute_input": "2022-03-26T00:21:54.529672Z",
     "iopub.status.busy": "2022-03-26T00:21:54.529399Z",
     "iopub.status.idle": "2022-03-26T00:21:54.659389Z",
     "shell.execute_reply": "2022-03-26T00:21:54.659767Z"
    },
    "papermill": {
     "duration": 0.170129,
     "end_time": "2022-03-26T00:21:54.659886",
     "exception": false,
     "start_time": "2022-03-26T00:21:54.489757",
     "status": "completed"
    },
    "tags": []
   },
   "outputs": [
    {
     "data": {
      "image/png": "[encoded data removed]",
      "text/plain": [
       "<Figure size 1080x504 with 1 Axes>"
      ]
     },
     "metadata": {
      "needs_background": "light"
     },
     "output_type": "display_data"
    }
   ],
   "source": [
    "ax = get_loss_curve(experiment)\n",
    "plt.show()"
   ]
  },
  {
   "cell_type": "code",
   "execution_count": 26,
   "id": "fd8a0f60",
   "metadata": {
    "execution": {
     "iopub.execute_input": "2022-03-26T00:21:54.718232Z",
     "iopub.status.busy": "2022-03-26T00:21:54.717960Z",
     "iopub.status.idle": "2022-03-26T00:21:54.888982Z",
     "shell.execute_reply": "2022-03-26T00:21:54.889211Z"
    },
    "papermill": {
     "duration": 0.199566,
     "end_time": "2022-03-26T00:21:54.889290",
     "exception": false,
     "start_time": "2022-03-26T00:21:54.689724",
     "status": "completed"
    },
    "tags": []
   },
   "outputs": [
    {
     "data": {
      "text/plain": [
       "<AxesSubplot:title={'center':'Results'}>"
      ]
     },
     "execution_count": 26,
     "metadata": {},
     "output_type": "execute_result"
    },
    {
     "data": {
      "image/png": "[encoded data removed]",
      "text/plain": [
       "<Figure size 1080x504 with 1 Axes>"
      ]
     },
     "metadata": {
      "needs_background": "light"
     },
     "output_type": "display_data"
    }
   ],
   "source": [
    "get_results_table(experiment)"
   ]
  },
  {
   "cell_type": "code",
   "execution_count": 27,
   "id": "cf8dc689",
   "metadata": {
    "execution": {
     "iopub.execute_input": "2022-03-26T00:21:54.949532Z",
     "iopub.status.busy": "2022-03-26T00:21:54.949265Z",
     "iopub.status.idle": "2022-03-26T00:21:55.084898Z",
     "shell.execute_reply": "2022-03-26T00:21:55.085319Z"
    },
    "papermill": {
     "duration": 0.166605,
     "end_time": "2022-03-26T00:21:55.085451",
     "exception": false,
     "start_time": "2022-03-26T00:21:54.918846",
     "status": "completed"
    },
    "tags": []
   },
   "outputs": [
    {
     "data": {
      "text/plain": [
       "<AxesSubplot:title={'center':'Per Domain Validation Accuracy'}, xlabel='domain'>"
      ]
     },
     "execution_count": 27,
     "metadata": {},
     "output_type": "execute_result"
    },
    {
     "data": {
      "image/png": "[encoded data removed]",
      "text/plain": [
       "<Figure size 1080x504 with 1 Axes>"
      ]
     },
     "metadata": {
      "needs_background": "light"
     },
     "output_type": "display_data"
    }
   ],
   "source": [
    "get_domain_accuracies(experiment)"
   ]
  },
  {
   "cell_type": "code",
   "execution_count": 28,
   "id": "a74ae082",
   "metadata": {
    "execution": {
     "iopub.execute_input": "2022-03-26T00:21:55.152777Z",
     "iopub.status.busy": "2022-03-26T00:21:55.152504Z",
     "iopub.status.idle": "2022-03-26T00:21:55.169448Z",
     "shell.execute_reply": "2022-03-26T00:21:55.169678Z"
    },
    "papermill": {
     "duration": 0.049169,
     "end_time": "2022-03-26T00:21:55.169756",
     "exception": false,
     "start_time": "2022-03-26T00:21:55.120587",
     "status": "completed"
    },
    "tags": []
   },
   "outputs": [
    {
     "name": "stdout",
     "output_type": "stream",
     "text": [
      "Source Test Label Accuracy: 0.6402994791666666 Target Test Label Accuracy: 0.5828865688487584\n",
      "Source Val Label Accuracy: 0.6386067708333333 Target Val Label Accuracy: 0.5875714285714285\n"
     ]
    }
   ],
   "source": [
    "print(\"Source Test Label Accuracy:\", experiment[\"results\"][\"source_test_label_accuracy\"], \"Target Test Label Accuracy:\", experiment[\"results\"][\"target_test_label_accuracy\"])\n",
    "print(\"Source Val Label Accuracy:\", experiment[\"results\"][\"source_val_label_accuracy\"], \"Target Val Label Accuracy:\", experiment[\"results\"][\"target_val_label_accuracy\"])"
   ]
  },
  {
   "cell_type": "code",
   "execution_count": 29,
   "id": "dacca602",
   "metadata": {
    "execution": {
     "iopub.execute_input": "2022-03-26T00:21:55.235286Z",
     "iopub.status.busy": "2022-03-26T00:21:55.234873Z",
     "iopub.status.idle": "2022-03-26T00:21:55.249076Z",
     "shell.execute_reply": "2022-03-26T00:21:55.248836Z"
    },
    "papermill": {
     "duration": 0.046607,
     "end_time": "2022-03-26T00:21:55.249141",
     "exception": false,
     "start_time": "2022-03-26T00:21:55.202534",
     "status": "completed"
    },
    "tags": [
     "experiment_json"
    ]
   },
   "outputs": [
    {
     "data": {
      "text/plain": [
       "'{\"experiment_name\": \"tl_3-filterv2:oracle.run1.framed -> cores\", \"parameters\": {\"experiment_name\": \"tl_3-filterv2:oracle.run1.framed -> cores\", \"device\": \"cuda\", \"lr\": 0.0001, \"x_shape\": [2, 200], \"n_shot\": 3, \"n_query\": 2, \"train_k_factor\": 3, \"val_k_factor\": 2, \"test_k_factor\": 2, \"torch_default_dtype\": \"torch.float32\", \"n_epoch\": 50, \"patience\": 3, \"criteria_for_best\": \"target_accuracy\", \"x_net\": [{\"class\": \"nnReshape\", \"kargs\": {\"shape\": [-1, 1, 2, 200]}}, {\"class\": \"Conv2d\", \"kargs\": {\"in_channels\": 1, \"out_channels\": 256, \"kernel_size\": [1, 7], \"bias\": false, \"padding\": [0, 3]}}, {\"class\": \"ReLU\", \"kargs\": {\"inplace\": true}}, {\"class\": \"BatchNorm2d\", \"kargs\": {\"num_features\": 256}}, {\"class\": \"Conv2d\", \"kargs\": {\"in_channels\": 256, \"out_channels\": 80, \"kernel_size\": [2, 7], \"bias\": true, \"padding\": [0, 3]}}, {\"class\": \"ReLU\", \"kargs\": {\"inplace\": true}}, {\"class\": \"BatchNorm2d\", \"kargs\": {\"num_features\": 80}}, {\"class\": \"Flatten\", \"kargs\": {}}, {\"class\": \"Linear\", \"kargs\": {\"in_features\": 16000, \"out_features\": 256}}, {\"class\": \"ReLU\", \"kargs\": {\"inplace\": true}}, {\"class\": \"BatchNorm1d\", \"kargs\": {\"num_features\": 256}}, {\"class\": \"Linear\", \"kargs\": {\"in_features\": 256, \"out_features\": 256}}], \"NUM_LOGS_PER_EPOCH\": 10, \"BEST_MODEL_PATH\": \"./best_model.pth\", \"n_way\": 16, \"datasets\": [{\"labels\": [\"1-10.\", \"1-11.\", \"1-15.\", \"1-16.\", \"1-17.\", \"1-18.\", \"1-19.\", \"10-4.\", \"10-7.\", \"11-1.\", \"11-14.\", \"11-17.\", \"11-20.\", \"11-7.\", \"13-20.\", \"13-8.\", \"14-10.\", \"14-11.\", \"14-14.\", \"14-7.\", \"15-1.\", \"15-20.\", \"16-1.\", \"16-16.\", \"17-10.\", \"17-11.\", \"17-2.\", \"19-1.\", \"19-16.\", \"19-19.\", \"19-20.\", \"19-3.\", \"2-10.\", \"2-11.\", \"2-17.\", \"2-18.\", \"2-20.\", \"2-3.\", \"2-4.\", \"2-5.\", \"2-6.\", \"2-7.\", \"2-8.\", \"3-13.\", \"3-18.\", \"3-3.\", \"4-1.\", \"4-10.\", \"4-11.\", \"4-19.\", \"5-5.\", \"6-15.\", \"7-10.\", \"7-14.\", \"8-18.\", \"8-20.\", \"8-3.\", \"8-8.\"], \"domains\": [1, 2, 3, 4, 5], \"num_examples_per_domain_per_label\": -1, \"pickle_path\": \"/mnt/wd500GB/CSC500/csc500-main/datasets/cores.stratified_ds.2022A.pkl\", \"source_or_target_dataset\": \"target\", \"x_transforms\": [\"lowpass_+/-10MHz\", \"take_200\"], \"episode_transforms\": [], \"domain_prefix\": \"C_\"}, {\"labels\": [\"3123D52\", \"3123D65\", \"3123D79\", \"3123D80\", \"3123D54\", \"3123D70\", \"3123D7B\", \"3123D89\", \"3123D58\", \"3123D76\", \"3123D7D\", \"3123EFE\", \"3123D64\", \"3123D78\", \"3123D7E\", \"3124E4A\"], \"domains\": [32, 38, 8, 44, 14, 50, 20, 26], \"num_examples_per_domain_per_label\": 2000, \"pickle_path\": \"/mnt/wd500GB/CSC500/csc500-main/datasets/oracle.Run1_framed_2000Examples_stratified_ds.2022A.pkl\", \"source_or_target_dataset\": \"source\", \"x_transforms\": [\"take_200\", \"resample_20Msps_to_25Msps\"], \"episode_transforms\": [], \"domain_prefix\": \"O_\"}], \"seed\": 420, \"dataset_seed\": 420, \"domains_source\": [\"O_32\", \"O_38\", \"O_8\", \"O_44\", \"O_14\", \"O_50\", \"O_20\", \"O_26\"], \"domains_target\": [\"C_1\", \"C_2\", \"C_3\", \"C_4\", \"C_5\"]}, \"results\": {\"source_test_label_accuracy\": 0.6402994791666666, \"source_test_label_loss\": 7.783384799957275, \"target_test_label_accuracy\": 0.5828865688487584, \"target_test_label_loss\": 1628.23193359375, \"source_val_label_accuracy\": 0.6386067708333333, \"source_val_label_loss\": 7.855135440826416, \"target_val_label_accuracy\": 0.5875714285714285, \"target_val_label_loss\": 1609.7718505859375, \"total_epochs_trained\": 5, \"total_experiment_time_secs\": 1479.4181842803955, \"confusion\": {\"O_14\": {\"15\": {\"15\": 240}, \"5\": {\"5\": 228, \"4\": 3, \"7\": 3, \"2\": 4, \"3\": 2}, \"7\": {\"7\": 239, \"5\": 1}, \"4\": {\"4\": 234, \"2\": 1, \"5\": 5}, \"10\": {\"10\": 240}, \"11\": {\"11\": 239, \"15\": 1}, \"12\": {\"12\": 240}, \"0\": {\"0\": 228, \"10\": 4, \"3\": 8}, \"14\": {\"13\": 24, \"14\": 200, \"6\": 4, \"3\": 1, \"2\": 11}, \"8\": {\"8\": 240}, \"13\": {\"6\": 89, \"14\": 81, \"13\": 48, \"15\": 15, \"2\": 7}, \"6\": {\"6\": 142, \"13\": 61, \"14\": 24, \"2\": 12, \"3\": 1}, \"1\": {\"1\": 240}, \"3\": {\"3\": 240}, \"9\": {\"9\": 240}, \"2\": {\"2\": 121, \"13\": 6, \"3\": 8, \"5\": 26, \"14\": 42, \"6\": 19, \"4\": 18}}, \"O_20\": {\"4\": {\"4\": 237, \"12\": 2, \"10\": 1}, \"10\": {\"10\": 240}, \"15\": {\"15\": 192, \"1\": 25, \"12\": 22, \"2\": 1}, \"0\": {\"0\": 233, \"3\": 2, \"5\": 4, \"8\": 1}, \"6\": {\"6\": 239, \"7\": 1}, \"3\": {\"3\": 189, \"1\": 3, \"9\": 18, \"5\": 21, \"8\": 8, \"7\": 1}, \"7\": {\"7\": 197, \"2\": 26, \"9\": 15, \"3\": 1, \"4\": 1}, \"2\": {\"7\": 30, \"2\": 184, \"12\": 12, \"9\": 6, \"15\": 1, \"13\": 6, \"1\": 1}, \"8\": {\"8\": 224, \"14\": 8, \"3\": 8}, \"11\": {\"11\": 240}, \"14\": {\"14\": 235, \"6\": 3, \"8\": 2}, \"12\": {\"12\": 215, \"2\": 13, \"4\": 2, \"15\": 9, \"9\": 1}, \"13\": {\"13\": 238, \"2\": 2}, \"9\": {\"7\": 8, \"9\": 205, \"2\": 4, \"3\": 18, \"1\": 5}, \"5\": {\"1\": 48, \"5\": 174, \"3\": 16, \"9\": 2}, \"1\": {\"1\": 194, \"5\": 35, \"15\": 6, \"9\": 4, \"3\": 1}}, \"O_50\": {\"5\": {\"7\": 33, \"5\": 67, \"4\": 43, \"3\": 26, \"6\": 13, \"11\": 23, \"15\": 18, \"1\": 1, \"12\": 3, \"13\": 7, \"9\": 6}, \"12\": {\"12\": 75, \"9\": 34, \"11\": 73, \"6\": 21, \"5\": 6, \"15\": 16, \"3\": 12, \"13\": 3}, \"14\": {\"14\": 131, \"2\": 88, \"0\": 21}, \"4\": {\"4\": 84, \"7\": 108, \"15\": 7, \"5\": 30, \"6\": 4, \"3\": 7}, \"13\": {\"13\": 181, \"11\": 26, \"8\": 12, \"1\": 19, \"5\": 1, \"12\": 1}, \"10\": {\"8\": 15, \"10\": 171, \"0\": 34, \"1\": 18, \"2\": 2}, \"9\": {\"9\": 49, \"15\": 42, \"12\": 60, \"6\": 30, \"3\": 31, \"5\": 19, \"11\": 8, \"4\": 1}, \"15\": {\"11\": 2, \"5\": 18, \"3\": 41, \"15\": 46, \"9\": 40, \"6\": 59, \"12\": 34}, \"6\": {\"5\": 29, \"7\": 1, \"15\": 44, \"9\": 45, \"3\": 52, \"6\": 45, \"12\": 22, \"11\": 2}, \"2\": {\"2\": 97, \"0\": 70, \"14\": 73}, \"0\": {\"2\": 48, \"0\": 146, \"14\": 18, \"10\": 28}, \"11\": {\"12\": 51, \"13\": 27, \"11\": 145, \"15\": 5, \"6\": 2, \"5\": 2, \"9\": 7, \"3\": 1}, \"3\": {\"5\": 31, \"15\": 29, \"12\": 17, \"3\": 69, \"6\": 50, \"9\": 40, \"11\": 3, \"4\": 1}, \"8\": {\"8\": 128, \"1\": 88, \"10\": 10, \"13\": 14}, \"7\": {\"4\": 84, \"7\": 143, \"5\": 13}, \"1\": {\"8\": 104, \"1\": 70, \"13\": 30, \"10\": 35, \"0\": 1}}, \"O_26\": {\"7\": {\"8\": 32, \"7\": 181, \"2\": 17, \"9\": 4, \"3\": 6}, \"6\": {\"6\": 155, \"15\": 48, \"5\": 29, \"10\": 1, \"14\": 6, \"1\": 1}, \"14\": {\"1\": 13, \"10\": 59, \"14\": 150, \"6\": 3, \"15\": 2, \"0\": 13}, \"15\": {\"0\": 7, \"15\": 118, \"6\": 49, \"5\": 55, \"10\": 9, \"11\": 1, \"1\": 1}, \"5\": {\"15\": 48, \"5\": 157, \"6\": 32, \"10\": 1, \"1\": 1, \"11\": 1}, \"10\": {\"10\": 141, \"0\": 30, \"14\": 54, \"15\": 11, \"5\": 1, \"6\": 3}, \"4\": {\"4\": 240}, \"11\": {\"11\": 194, \"5\": 20, \"6\": 11, \"1\": 3, \"15\": 12}, \"13\": {\"13\": 219, \"9\": 17, \"2\": 3, \"3\": 1}, \"2\": {\"9\": 35, \"2\": 110, \"7\": 54, \"3\": 11, \"0\": 12, \"8\": 17, \"15\": 1}, \"0\": {\"10\": 35, \"0\": 183, \"14\": 15, \"2\": 3, \"8\": 1, \"15\": 3}, \"12\": {\"12\": 240}, \"3\": {\"3\": 223, \"7\": 15, \"2\": 2}, \"9\": {\"9\": 155, \"8\": 39, \"7\": 6, \"2\": 23, \"13\": 17}, \"8\": {\"8\": 179, \"9\": 18, \"7\": 35, \"2\": 8}, \"1\": {\"1\": 196, \"14\": 32, \"10\": 7, \"6\": 5}}, \"O_32\": {\"7\": {\"5\": 55, \"0\": 47, \"7\": 59, \"15\": 36, \"8\": 17, \"14\": 19, \"1\": 7}, \"2\": {\"2\": 117, \"4\": 73, \"1\": 28, \"8\": 2, \"13\": 1, \"3\": 11, \"14\": 8}, \"5\": {\"15\": 82, \"7\": 43, \"5\": 59, \"0\": 25, \"1\": 10, \"14\": 11, \"8\": 10}, \"6\": {\"6\": 240}, \"13\": {\"4\": 21, \"13\": 64, \"12\": 8, \"9\": 54, \"3\": 65, \"11\": 25, \"2\": 3}, \"4\": {\"4\": 81, \"2\": 74, \"3\": 65, \"9\": 4, \"13\": 13, \"1\": 2, \"14\": 1}, \"3\": {\"3\": 94, \"9\": 29, \"13\": 52, \"4\": 50, \"2\": 14, \"11\": 1}, \"0\": {\"14\": 41, \"0\": 59, \"7\": 43, \"5\": 35, \"15\": 7, \"8\": 40, \"1\": 15}, \"9\": {\"3\": 37, \"11\": 36, \"9\": 49, \"13\": 56, \"4\": 8, \"12\": 45, \"2\": 1, \"10\": 8}, \"12\": {\"12\": 195, \"11\": 16, \"10\": 28, \"9\": 1}, \"8\": {\"8\": 46, \"7\": 20, \"14\": 51, \"0\": 52, \"1\": 43, \"5\": 12, \"2\": 10, \"4\": 2, \"15\": 4}, \"14\": {\"0\": 43, \"8\": 35, \"7\": 29, \"5\": 21, \"14\": 32, \"1\": 47, \"2\": 17, \"15\": 8, \"4\": 7, \"3\": 1}, \"15\": {\"5\": 69, \"14\": 3, \"0\": 19, \"15\": 107, \"7\": 36, \"8\": 6}, \"11\": {\"12\": 105, \"11\": 105, \"9\": 24, \"13\": 3, \"10\": 3}, \"10\": {\"10\": 240}, \"1\": {\"1\": 107, \"0\": 15, \"5\": 5, \"2\": 22, \"8\": 47, \"14\": 40, \"4\": 1, \"7\": 3}}, \"O_44\": {\"11\": {\"11\": 240}, \"7\": {\"10\": 46, \"6\": 4, \"5\": 30, \"9\": 40, \"7\": 65, \"14\": 30, \"4\": 21, \"15\": 4}, \"6\": {\"13\": 60, \"6\": 148, \"9\": 27, \"7\": 1, \"4\": 4}, \"12\": {\"3\": 111, \"12\": 129}, \"4\": {\"15\": 30, \"9\": 61, \"5\": 18, \"7\": 33, \"4\": 28, \"2\": 14, \"8\": 14, \"6\": 16, \"14\": 12, \"10\": 13, \"1\": 1}, \"13\": {\"6\": 58, \"13\": 171, \"9\": 8, \"4\": 1, \"11\": 2}, \"8\": {\"15\": 51, \"2\": 59, \"8\": 52, \"0\": 24, \"1\": 20, \"5\": 14, \"4\": 8, \"10\": 5, \"14\": 5, \"7\": 1, \"9\": 1}, \"5\": {\"9\": 22, \"5\": 47, \"4\": 26, \"7\": 42, \"15\": 22, \"14\": 43, \"8\": 7, \"2\": 5, \"10\": 25, \"6\": 1}, \"14\": {\"5\": 50, \"14\": 52, \"15\": 23, \"10\": 39, \"4\": 26, \"9\": 15, \"7\": 32, \"8\": 3}, \"3\": {\"12\": 106, \"3\": 132, \"1\": 1, \"0\": 1}, \"10\": {\"9\": 39, \"10\": 42, \"15\": 11, \"7\": 39, \"14\": 34, \"4\": 29, \"2\": 5, \"8\": 6, \"0\": 4, \"5\": 29, \"1\": 2}, \"1\": {\"2\": 55, \"1\": 94, \"8\": 19, \"0\": 70, \"15\": 1, \"4\": 1}, \"2\": {\"0\": 16, \"15\": 31, \"2\": 103, \"8\": 49, \"1\": 34, \"5\": 2, \"4\": 4, \"14\": 1}, \"15\": {\"15\": 69, \"2\": 38, \"14\": 28, \"8\": 42, \"10\": 14, \"0\": 3, \"5\": 21, \"7\": 8, \"4\": 16, \"1\": 1}, \"9\": {\"9\": 47, \"14\": 22, \"6\": 42, \"10\": 13, \"7\": 29, \"8\": 3, \"15\": 9, \"5\": 20, \"13\": 33, \"4\": 21, \"2\": 1}, \"0\": {\"0\": 105, \"1\": 86, \"2\": 26, \"8\": 22, \"15\": 1}}, \"O_8\": {\"10\": {\"10\": 202, \"13\": 23, \"5\": 11, \"4\": 2, \"6\": 2}, \"6\": {\"7\": 23, \"6\": 217}, \"13\": {\"6\": 3, \"13\": 187, \"5\": 1, \"10\": 36, \"7\": 13}, \"3\": {\"3\": 240}, \"9\": {\"9\": 240}, \"1\": {\"5\": 10, \"1\": 182, \"11\": 48}, \"5\": {\"5\": 187, \"1\": 20, \"10\": 26, \"11\": 6, \"4\": 1}, \"11\": {\"1\": 94, \"5\": 1, \"11\": 135, \"14\": 5, \"4\": 5}, \"4\": {\"4\": 238, \"14\": 1, \"6\": 1}, \"14\": {\"14\": 210, \"4\": 30}, \"12\": {\"12\": 181, \"15\": 59}, \"7\": {\"7\": 217, \"6\": 21, \"13\": 2}, \"0\": {\"14\": 112, \"0\": 128}, \"15\": {\"15\": 203, \"12\": 37}, \"2\": {\"3\": 27, \"2\": 201, \"12\": 9, \"15\": 3}, \"8\": {\"8\": 236, \"6\": 3, \"11\": 1}}, \"O_38\": {\"4\": {\"4\": 121, \"13\": 58, \"0\": 58, \"14\": 2, \"10\": 1}, \"7\": {\"14\": 41, \"7\": 116, \"8\": 4, \"2\": 56, \"9\": 18, \"5\": 4, \"0\": 1}, \"12\": {\"12\": 161, \"5\": 35, \"8\": 41, \"15\": 2, \"9\": 1}, \"10\": {\"10\": 161, \"4\": 13, \"0\": 45, \"13\": 18, \"3\": 3}, \"0\": {\"4\": 32, \"0\": 33, \"7\": 3, \"3\": 6, \"14\": 27, \"13\": 37, \"10\": 92, \"2\": 10}, \"1\": {\"6\": 103, \"1\": 136, \"15\": 1}, \"5\": {\"9\": 65, \"5\": 41, \"8\": 45, \"12\": 51, \"15\": 24, \"7\": 9, \"2\": 4, \"14\": 1}, \"15\": {\"5\": 11, \"15\": 174, \"1\": 9, \"8\": 5, \"12\": 40, \"6\": 1}, \"9\": {\"8\": 45, \"9\": 103, \"2\": 11, \"5\": 30, \"7\": 41, \"12\": 8, \"14\": 2}, \"11\": {\"11\": 238, \"3\": 2}, \"14\": {\"4\": 15, \"14\": 93, \"2\": 75, \"7\": 37, \"13\": 8, \"0\": 10, \"8\": 1, \"9\": 1}, \"6\": {\"6\": 140, \"1\": 100}, \"8\": {\"9\": 46, \"12\": 47, \"5\": 42, \"8\": 43, \"14\": 5, \"15\": 23, \"2\": 11, \"7\": 23}, \"3\": {\"3\": 236, \"11\": 4}, \"2\": {\"14\": 86, \"7\": 54, \"2\": 89, \"9\": 2, \"0\": 3, \"13\": 1, \"4\": 1, \"8\": 4}, \"13\": {\"13\": 68, \"14\": 11, \"4\": 60, \"0\": 81, \"10\": 15, \"2\": 4, \"7\": 1}}, \"C_4\": {\"42\": {\"19\": 2, \"42\": 17, \"53\": 1, \"10\": 2, \"34\": 1, \"11\": 1, \"23\": 2, \"15\": 2, \"24\": 2, \"41\": 2}, \"0\": {\"0\": 49, \"1\": 1, \"21\": 3, \"52\": 1, \"30\": 1, \"12\": 3, \"56\": 13, \"45\": 3, \"4\": 2, \"46\": 2, \"5\": 1, \"3\": 1}, \"1\": {\"20\": 2, \"40\": 1, \"21\": 4, \"14\": 1, \"1\": 21, \"30\": 1, \"52\": 2, \"46\": 1, \"48\": 4, \"4\": 1, \"56\": 1, \"29\": 1}, \"39\": {\"39\": 9, \"46\": 2, \"36\": 2, \"48\": 1, \"40\": 1, \"0\": 1, \"52\": 1, \"4\": 1, \"5\": 1, \"29\": 1}, \"28\": {\"19\": 1, \"32\": 2, \"31\": 3, \"28\": 13, \"15\": 5, \"16\": 2, \"17\": 1, \"10\": 1, \"49\": 1, \"34\": 2, \"42\": 1}, \"53\": {\"53\": 89, \"10\": 7, \"23\": 16, \"37\": 1, \"19\": 10, \"55\": 1}, \"19\": {\"19\": 119, \"17\": 7, \"53\": 1, \"42\": 6, \"51\": 1, \"23\": 2, \"27\": 1, \"54\": 1, \"32\": 3, \"34\": 1, \"55\": 1, \"43\": 1}, \"34\": {\"28\": 3, \"26\": 1, \"34\": 9, \"11\": 2, \"15\": 4, \"42\": 1, \"19\": 1, \"24\": 2, \"49\": 1}, \"33\": {\"33\": 31, \"14\": 1, \"55\": 1, \"9\": 1, \"31\": 1, \"36\": 1}, \"32\": {\"32\": 14, \"41\": 3, \"35\": 1, \"17\": 2, \"14\": 1, \"27\": 2, \"26\": 1}, \"10\": {\"53\": 10, \"10\": 120, \"23\": 5, \"42\": 1}, \"46\": {\"46\": 69, \"21\": 9, \"30\": 2, \"45\": 6, \"56\": 5, \"12\": 13, \"22\": 9, \"44\": 9, \"5\": 2, \"40\": 3, \"50\": 4, \"3\": 2, \"0\": 1}, \"20\": {\"20\": 48, \"39\": 2, \"14\": 1, \"52\": 9, \"5\": 1, \"30\": 1, \"2\": 4, \"12\": 1, \"47\": 13, \"56\": 3, \"4\": 7, \"48\": 12, \"21\": 1, \"13\": 7, \"9\": 2, \"3\": 2, \"46\": 1, \"29\": 3, \"57\": 3, \"40\": 1}, \"5\": {\"5\": 40, \"46\": 6, \"3\": 8, \"6\": 11, \"30\": 1, \"12\": 6, \"22\": 15, \"44\": 6, \"45\": 9, \"50\": 5, \"40\": 1}, \"40\": {\"0\": 1, \"40\": 44, \"56\": 22, \"39\": 1, \"3\": 6, \"1\": 2, \"21\": 15, \"12\": 5, \"30\": 1, \"46\": 7, \"48\": 7, \"22\": 1, \"50\": 2, \"52\": 3, \"4\": 2, \"45\": 1, \"44\": 1, \"20\": 1, \"47\": 2}, \"51\": {\"51\": 93, \"38\": 1, \"35\": 1, \"8\": 6, \"48\": 1, \"54\": 14, \"55\": 3, \"36\": 12, \"27\": 8, \"4\": 1, \"17\": 1, \"9\": 1, \"29\": 1, \"13\": 1}, \"37\": {\"37\": 11, \"55\": 2, \"33\": 2, \"27\": 2, \"4\": 1, \"35\": 2, \"7\": 2, \"9\": 1, \"57\": 1}, \"17\": {\"24\": 4, \"41\": 7, \"17\": 58, \"43\": 4, \"19\": 3, \"54\": 1, \"34\": 1, \"42\": 1, \"33\": 1}, \"45\": {\"45\": 41, \"22\": 7, \"3\": 11, \"50\": 6, \"30\": 1, \"44\": 8, \"6\": 6, \"12\": 6, \"46\": 4, \"5\": 3, \"21\": 2, \"56\": 1}, \"13\": {\"13\": 88, \"20\": 15, \"14\": 1, \"2\": 3, \"57\": 3, \"8\": 5, \"47\": 10, \"56\": 2, \"52\": 4, \"48\": 3, \"29\": 4, \"4\": 2, \"27\": 1, \"9\": 1}, \"27\": {\"36\": 7, \"9\": 3, \"27\": 74, \"54\": 9, \"38\": 1, \"35\": 6, \"55\": 17, \"2\": 1, \"51\": 14, \"29\": 3, \"20\": 2, \"8\": 3, \"47\": 1, \"4\": 2, \"33\": 1}, \"24\": {\"41\": 2, \"24\": 45, \"43\": 3, \"19\": 2, \"23\": 1, \"32\": 1, \"17\": 2}, \"30\": {\"22\": 4, \"45\": 1, \"30\": 21, \"44\": 4, \"5\": 2, \"40\": 2, \"0\": 2, \"46\": 5, \"56\": 2, \"12\": 1}, \"31\": {\"31\": 18, \"49\": 1, \"33\": 1, \"43\": 3, \"26\": 1, \"47\": 1, \"17\": 1, \"55\": 2}, \"41\": {\"24\": 3, \"41\": 19, \"32\": 3, \"17\": 6, \"43\": 1, \"54\": 1, \"51\": 2, \"31\": 1}, \"36\": {\"27\": 3, \"36\": 69, \"8\": 6, \"29\": 2, \"9\": 1, \"54\": 2, \"38\": 1, \"48\": 1, \"14\": 1, \"35\": 1, \"7\": 2, \"51\": 2, \"43\": 1}, \"16\": {\"16\": 76, \"15\": 6, \"11\": 6, \"10\": 3, \"23\": 2, \"9\": 1, \"53\": 1, \"57\": 1}, \"22\": {\"22\": 93, \"45\": 5, \"46\": 12, \"5\": 3, \"40\": 2, \"44\": 6, \"12\": 4, \"3\": 2, \"50\": 1}, \"44\": {\"30\": 2, \"22\": 5, \"12\": 12, \"21\": 8, \"40\": 5, \"56\": 8, \"3\": 22, \"44\": 19, \"0\": 2, \"45\": 8, \"46\": 10, \"6\": 10, \"50\": 13, \"5\": 6, \"1\": 1, \"48\": 1}, \"9\": {\"9\": 70, \"8\": 6, \"13\": 4, \"29\": 10, \"20\": 7, \"52\": 4, \"57\": 13, \"4\": 13, \"48\": 10, \"39\": 2, \"47\": 1}, \"57\": {\"8\": 9, \"57\": 38, \"14\": 2, \"48\": 6, \"9\": 12, \"20\": 4, \"13\": 1, \"5\": 1, \"38\": 2, \"29\": 14, \"51\": 1, \"27\": 4, \"4\": 2, \"52\": 1, \"2\": 1, \"36\": 1, \"47\": 1}, \"8\": {\"7\": 1, \"36\": 6, \"8\": 86, \"2\": 2, \"29\": 7, \"39\": 1, \"57\": 7, \"48\": 3, \"51\": 2, \"4\": 1, \"27\": 7, \"9\": 8, \"13\": 5, \"1\": 1, \"20\": 1}, \"23\": {\"23\": 71, \"53\": 22, \"42\": 1, \"10\": 12, \"19\": 11, \"41\": 2, \"17\": 3, \"24\": 2, \"43\": 3, \"15\": 3, \"51\": 1, \"11\": 1}, \"47\": {\"47\": 53, \"2\": 7, \"29\": 4, \"52\": 6, \"20\": 6, \"9\": 4, \"21\": 4, \"48\": 7, \"0\": 2, \"4\": 6, \"13\": 15, \"56\": 4, \"14\": 1, \"46\": 1}, \"43\": {\"49\": 2, \"43\": 98, \"32\": 1, \"33\": 1, \"24\": 5, \"35\": 2, \"51\": 5, \"41\": 1, \"54\": 9, \"27\": 2, \"17\": 3, \"55\": 3, \"9\": 1, \"8\": 1, \"19\": 4}, \"49\": {\"49\": 4, \"36\": 1, \"26\": 2, \"27\": 3, \"19\": 1, \"35\": 1, \"55\": 2, \"14\": 2, \"17\": 1, \"51\": 1, \"41\": 2}, \"3\": {\"3\": 73, \"5\": 14, \"22\": 7, \"50\": 9, \"6\": 8, \"12\": 1, \"45\": 7, \"44\": 4, \"46\": 1}, \"12\": {\"12\": 45, \"45\": 4, \"21\": 6, \"3\": 6, \"0\": 3, \"46\": 7, \"5\": 5, \"6\": 2, \"44\": 6, \"30\": 2, \"52\": 2, \"40\": 2, \"56\": 1, \"50\": 1}, \"38\": {\"7\": 5, \"57\": 2, \"14\": 1, \"38\": 22, \"29\": 4, \"35\": 2, \"2\": 2, \"51\": 1, \"27\": 1}, \"7\": {\"33\": 1, \"36\": 2, \"7\": 7, \"38\": 3, \"13\": 3, \"48\": 3, \"57\": 2, \"39\": 1, \"37\": 2}, \"14\": {\"51\": 1, \"57\": 2, \"21\": 1, \"14\": 3, \"29\": 1, \"35\": 1, \"4\": 3, \"9\": 1, \"36\": 1, \"55\": 1, \"48\": 1}, \"15\": {\"15\": 108, \"28\": 3, \"33\": 1, \"11\": 14, \"16\": 5, \"42\": 1, \"10\": 4, \"53\": 2, \"19\": 1, \"23\": 3, \"17\": 1, \"18\": 1, \"48\": 1, \"25\": 1}, \"25\": {\"25\": 102, \"28\": 1, \"49\": 1, \"15\": 3, \"42\": 1, \"23\": 3, \"11\": 3, \"16\": 2, \"19\": 5, \"41\": 1, \"53\": 4, \"10\": 2}, \"26\": {\"26\": 16, \"38\": 2, \"31\": 1, \"32\": 1, \"24\": 1, \"29\": 1, \"49\": 1, \"7\": 1}, \"21\": {\"21\": 93, \"40\": 11, \"0\": 2, \"30\": 1, \"52\": 3, \"46\": 3, \"56\": 8, \"12\": 4, \"48\": 3, \"1\": 2, \"44\": 1, \"47\": 1}, \"48\": {\"48\": 106, \"21\": 6, \"29\": 1, \"4\": 6, \"1\": 4, \"40\": 1, \"44\": 1, \"47\": 6, \"12\": 1, \"52\": 5, \"39\": 1, \"56\": 1, \"20\": 4, \"46\": 1}, \"56\": {\"56\": 89, \"46\": 5, \"0\": 9, \"12\": 3, \"52\": 3, \"21\": 8, \"5\": 2, \"44\": 1, \"40\": 7, \"6\": 1, \"45\": 1, \"1\": 2, \"20\": 1, \"48\": 2}, \"11\": {\"15\": 25, \"28\": 2, \"34\": 1, \"11\": 59, \"23\": 3, \"43\": 1, \"16\": 9, \"25\": 1, \"10\": 2, \"53\": 1}, \"2\": {\"47\": 5, \"48\": 2, \"2\": 8, \"13\": 3, \"20\": 5, \"36\": 1, \"8\": 3, \"9\": 1, \"52\": 3, \"57\": 1, \"0\": 1, \"29\": 2, \"4\": 1}, \"6\": {\"3\": 12, \"6\": 75, \"5\": 8, \"50\": 11, \"22\": 1, \"45\": 4, \"44\": 1}, \"55\": {\"51\": 9, \"55\": 58, \"35\": 3, \"38\": 2, \"37\": 4, \"54\": 4, \"9\": 17, \"36\": 9, \"57\": 4, \"33\": 1, \"4\": 8, \"29\": 2, \"27\": 8, \"43\": 4, \"48\": 3, \"13\": 1, \"7\": 1, \"8\": 1, \"20\": 1}, \"54\": {\"54\": 57, \"8\": 2, \"17\": 2, \"43\": 9, \"31\": 1, \"35\": 4, \"51\": 14, \"27\": 7, \"55\": 2, \"36\": 2, \"49\": 1, \"41\": 1, \"33\": 1, \"38\": 1, \"9\": 1, \"24\": 1, \"19\": 2}, \"29\": {\"2\": 2, \"47\": 4, \"8\": 9, \"29\": 68, \"48\": 2, \"57\": 14, \"9\": 5, \"4\": 5, \"45\": 2, \"13\": 3, \"36\": 1, \"22\": 2, \"27\": 1, \"3\": 1, \"52\": 2, \"44\": 1, \"46\": 2}, \"50\": {\"50\": 62, \"46\": 5, \"44\": 9, \"45\": 6, \"3\": 20, \"22\": 8, \"5\": 3, \"6\": 9}, \"52\": {\"48\": 5, \"2\": 5, \"52\": 58, \"40\": 8, \"47\": 10, \"20\": 3, \"12\": 3, \"21\": 8, \"13\": 2, \"46\": 1, \"4\": 1, \"44\": 2, \"57\": 2, \"9\": 3, \"14\": 2, \"1\": 1, \"56\": 2}, \"35\": {\"51\": 6, \"35\": 17, \"32\": 1, \"36\": 4, \"27\": 6, \"55\": 1, \"43\": 1, \"54\": 2, \"49\": 1, \"17\": 1}, \"4\": {\"8\": 6, \"44\": 2, \"22\": 2, \"4\": 30, \"48\": 13, \"13\": 8, \"9\": 8, \"56\": 2, \"21\": 5, \"52\": 1, \"40\": 10, \"29\": 12, \"45\": 2, \"27\": 4, \"47\": 2, \"57\": 5, \"39\": 3, \"5\": 1, \"12\": 1, \"46\": 2, \"20\": 1}, \"18\": {\"18\": 101, \"11\": 1, \"15\": 4, \"16\": 2}}, \"C_5\": {\"43\": {\"43\": 84, \"2\": 3, \"54\": 12, \"35\": 4, \"49\": 1, \"27\": 16, \"8\": 9, \"51\": 16, \"29\": 1, \"13\": 1, \"55\": 2, \"32\": 1, \"17\": 1, \"53\": 1}, \"35\": {\"35\": 24, \"27\": 3, \"43\": 4, \"8\": 2, \"14\": 1, \"51\": 1, \"24\": 1}, \"54\": {\"51\": 9, \"54\": 52, \"32\": 1, \"43\": 14, \"8\": 5, \"27\": 10, \"35\": 2, \"29\": 2, \"17\": 4, \"13\": 2, \"53\": 2, \"9\": 1, \"34\": 1, \"2\": 1, \"42\": 1, \"24\": 1, \"36\": 1, \"57\": 1, \"55\": 1, \"20\": 1}, \"22\": {\"5\": 4, \"22\": 10, \"3\": 3, \"44\": 2, \"4\": 1, \"1\": 1, \"40\": 3, \"12\": 3, \"6\": 1}, \"16\": {\"16\": 113, \"11\": 14, \"28\": 1, \"15\": 11, \"10\": 1, \"53\": 5, \"24\": 1}, \"5\": {\"3\": 9, \"5\": 56, \"12\": 11, \"22\": 2, \"45\": 8, \"50\": 7, \"40\": 9, \"4\": 9, \"6\": 6, \"44\": 6, \"9\": 3, \"30\": 2}, \"28\": {\"28\": 21, \"34\": 1, \"42\": 2, \"23\": 1, \"11\": 4, \"19\": 2, \"53\": 1}, \"14\": {\"35\": 1, \"14\": 15, \"48\": 3, \"36\": 3, \"57\": 6, \"47\": 2, \"46\": 2, \"40\": 1, \"20\": 2, \"27\": 2, \"49\": 1, \"7\": 1, \"39\": 2, \"9\": 1, \"13\": 1, \"1\": 1}, \"51\": {\"43\": 10, \"51\": 88, \"33\": 2, \"35\": 3, \"27\": 5, \"54\": 13, \"55\": 1, \"8\": 1, \"7\": 1, \"57\": 1, \"17\": 2, \"29\": 1}, \"19\": {\"19\": 103, \"31\": 1, \"23\": 11, \"53\": 13, \"34\": 1, \"10\": 2, \"15\": 3, \"42\": 1, \"24\": 2, \"17\": 2, \"51\": 1}, \"31\": {\"31\": 35, \"54\": 1}, \"10\": {\"10\": 52, \"53\": 11, \"19\": 5}, \"21\": {\"21\": 77, \"30\": 4, \"52\": 15, \"46\": 6, \"1\": 7, \"0\": 4, \"9\": 8, \"36\": 1, \"56\": 11, \"47\": 2, \"3\": 1}, \"3\": {\"22\": 5, \"5\": 9, \"45\": 3, \"12\": 3, \"3\": 61, \"44\": 3, \"40\": 4, \"4\": 5, \"9\": 1, \"46\": 2, \"0\": 1, \"6\": 2, \"50\": 1}, \"57\": {\"21\": 7, \"0\": 3, \"36\": 6, \"57\": 42, \"27\": 2, \"47\": 3, \"48\": 6, \"9\": 6, \"56\": 2, \"14\": 4, \"20\": 15, \"29\": 14, \"30\": 4, \"13\": 7, \"1\": 7, \"52\": 4}, \"9\": {\"57\": 3, \"21\": 5, \"4\": 3, \"9\": 39, \"30\": 11, \"5\": 2, \"48\": 10, \"52\": 12, \"6\": 1, \"40\": 7, \"20\": 2, \"0\": 2, \"12\": 4, \"50\": 3, \"1\": 12, \"3\": 3, \"47\": 2, \"56\": 5, \"36\": 4, \"46\": 6, \"29\": 1, \"44\": 7, \"45\": 1, \"13\": 1}, \"8\": {\"8\": 64, \"13\": 1, \"49\": 2, \"43\": 16, \"57\": 5, \"7\": 1, \"20\": 7, \"32\": 2, \"51\": 2, \"27\": 17, \"29\": 8, \"54\": 4, \"36\": 1, \"35\": 1, \"1\": 1}, \"46\": {\"21\": 5, \"30\": 4, \"46\": 90, \"22\": 1, \"40\": 5, \"6\": 1, \"1\": 1, \"3\": 4, \"0\": 12, \"56\": 3, \"52\": 6, \"44\": 4, \"50\": 1, \"12\": 1, \"4\": 2}, \"23\": {\"23\": 85, \"24\": 5, \"19\": 9, \"53\": 10, \"42\": 5, \"10\": 2, \"51\": 3, \"34\": 2, \"54\": 2, \"43\": 1}, \"37\": {\"48\": 1, \"37\": 22, \"49\": 1}, \"34\": {\"34\": 18, \"49\": 1, \"17\": 4, \"32\": 1, \"33\": 1, \"54\": 1, \"51\": 6, \"8\": 1, \"41\": 1, \"24\": 2}, \"4\": {\"6\": 6, \"4\": 26, \"45\": 6, \"12\": 5, \"44\": 4, \"22\": 2, \"30\": 6, \"46\": 8, \"5\": 8, \"3\": 3, \"50\": 7, \"1\": 3, \"40\": 4, \"0\": 2, \"21\": 1, \"52\": 2, \"57\": 2, \"47\": 1, \"56\": 1, \"9\": 2, \"48\": 1}, \"6\": {\"6\": 60, \"44\": 11, \"45\": 16, \"5\": 7, \"12\": 8, \"50\": 22, \"3\": 2, \"9\": 2}, \"48\": {\"5\": 2, \"48\": 69, \"36\": 5, \"57\": 10, \"30\": 1, \"20\": 15, \"46\": 3, \"12\": 1, \"1\": 7, \"29\": 6, \"52\": 4, \"21\": 5, \"22\": 1, \"14\": 2, \"40\": 1, \"9\": 1, \"6\": 1, \"4\": 1, \"3\": 1}, \"44\": {\"6\": 21, \"5\": 8, \"22\": 3, \"44\": 49, \"12\": 6, \"9\": 2, \"45\": 5, \"4\": 7, \"40\": 12, \"50\": 11, \"3\": 12, \"56\": 1, \"46\": 1}, \"40\": {\"30\": 5, \"6\": 9, \"12\": 7, \"40\": 30, \"50\": 6, \"1\": 3, \"44\": 2, \"46\": 19, \"9\": 8, \"5\": 9, \"56\": 5, \"3\": 5, \"4\": 5, \"45\": 2, \"52\": 4, \"21\": 3, \"22\": 1, \"0\": 1}, \"12\": {\"46\": 3, \"6\": 4, \"5\": 9, \"12\": 41, \"4\": 5, \"40\": 16, \"3\": 5, \"45\": 3, \"50\": 2, \"56\": 2, \"30\": 2, \"22\": 2, \"0\": 1, \"9\": 1}, \"30\": {\"21\": 8, \"48\": 3, \"1\": 13, \"4\": 5, \"30\": 38, \"0\": 2, \"9\": 13, \"52\": 11, \"47\": 3, \"3\": 3, \"46\": 6, \"36\": 6, \"56\": 5, \"12\": 2, \"40\": 4, \"29\": 1, \"5\": 2, \"57\": 1, \"44\": 2}, \"39\": {\"39\": 14, \"9\": 1, \"7\": 1, \"3\": 2, \"36\": 1, \"14\": 1}, \"45\": {\"44\": 5, \"45\": 94, \"50\": 18, \"3\": 1, \"6\": 3, \"12\": 1, \"5\": 2}, \"36\": {\"39\": 3, \"1\": 17, \"20\": 5, \"46\": 1, \"43\": 3, \"48\": 5, \"21\": 3, \"36\": 15, \"29\": 3, \"8\": 5, \"52\": 1, \"30\": 6, \"27\": 2, \"9\": 7, \"56\": 2, \"13\": 4, \"57\": 1, \"49\": 1, \"0\": 4, \"47\": 1, \"4\": 2, \"35\": 1}, \"27\": {\"27\": 85, \"43\": 20, \"49\": 2, \"8\": 16, \"57\": 2, \"54\": 5, \"5\": 2, \"6\": 2, \"32\": 1, \"20\": 1, \"13\": 1, \"51\": 1, \"44\": 1, \"48\": 1}, \"32\": {\"27\": 3, \"32\": 14, \"7\": 3, \"41\": 2, \"49\": 2, \"47\": 1, \"14\": 1, \"54\": 1, \"2\": 2, \"8\": 1, \"38\": 1, \"5\": 1}, \"52\": {\"52\": 57, \"36\": 2, \"47\": 7, \"1\": 12, \"4\": 1, \"56\": 7, \"30\": 12, \"21\": 4, \"0\": 4, \"48\": 2, \"46\": 6, \"9\": 6, \"40\": 3, \"29\": 4, \"57\": 2, \"3\": 1}, \"0\": {\"0\": 84, \"46\": 9, \"56\": 15, \"21\": 7, \"3\": 1, \"44\": 1, \"9\": 1, \"52\": 3, \"22\": 1, \"4\": 1, \"1\": 1}, \"26\": {\"26\": 16, \"38\": 3, \"54\": 1, \"25\": 1, \"31\": 3}, \"1\": {\"30\": 9, \"12\": 3, \"1\": 82, \"52\": 16, \"46\": 5, \"47\": 4, \"36\": 2, \"21\": 8, \"9\": 4, \"3\": 1, \"48\": 2, \"5\": 3, \"56\": 2, \"6\": 2, \"50\": 1, \"40\": 1, \"4\": 1, \"0\": 1, \"44\": 1}, \"53\": {\"23\": 11, \"53\": 110, \"19\": 12, \"55\": 1, \"10\": 9, \"33\": 1, \"17\": 1, \"9\": 1}, \"25\": {\"25\": 121, \"26\": 2, \"19\": 12, \"15\": 3, \"11\": 1, \"55\": 1, \"53\": 2, \"42\": 1, \"54\": 1}, \"24\": {\"24\": 56, \"42\": 1, \"54\": 1, \"51\": 1, \"23\": 1, \"33\": 1, \"17\": 14, \"34\": 3, \"19\": 2}, \"7\": {\"7\": 30, \"14\": 1, \"9\": 1}, \"18\": {\"18\": 61, \"19\": 2, \"11\": 1}, \"20\": {\"20\": 55, \"36\": 7, \"30\": 2, \"48\": 4, \"13\": 22, \"52\": 4, \"57\": 14, \"9\": 4, \"1\": 8, \"14\": 4, \"29\": 10, \"47\": 5, \"56\": 1, \"21\": 3, \"27\": 1}, \"33\": {\"33\": 27, \"17\": 4, \"27\": 1}, \"55\": {\"41\": 2, \"55\": 100, \"51\": 3, \"57\": 3, \"37\": 3, \"20\": 2, \"48\": 6, \"27\": 5, \"43\": 4, \"21\": 2, \"8\": 4, \"29\": 1, \"39\": 1, \"7\": 1, \"2\": 1, \"17\": 1, \"54\": 1}, \"41\": {\"31\": 3, \"24\": 1, \"41\": 9, \"9\": 1, \"38\": 2, \"55\": 2, \"33\": 1, \"57\": 1, \"52\": 1, \"43\": 1, \"21\": 1, \"7\": 2, \"37\": 2, \"32\": 1}, \"42\": {\"42\": 19, \"26\": 2, \"11\": 1, \"38\": 1, \"19\": 2, \"51\": 1, \"23\": 4, \"33\": 1, \"31\": 1, \"15\": 3, \"16\": 1, \"53\": 3, \"27\": 1}, \"49\": {\"49\": 15, \"48\": 3, \"27\": 2, \"2\": 1, \"7\": 8, \"57\": 1, \"35\": 1, \"20\": 1, \"8\": 1, \"32\": 1, \"55\": 1, \"51\": 1}, \"13\": {\"13\": 72, \"4\": 2, \"20\": 19, \"14\": 2, \"29\": 16, \"8\": 7, \"30\": 2, \"47\": 6, \"36\": 4, \"56\": 2, \"57\": 7, \"52\": 2, \"12\": 1, \"49\": 1, \"46\": 3, \"21\": 1, \"27\": 1}, \"38\": {\"38\": 15, \"55\": 1, \"54\": 2, \"31\": 4, \"7\": 2, \"26\": 1, \"37\": 2, \"41\": 3, \"32\": 1, \"14\": 1}, \"2\": {\"2\": 14, \"8\": 3, \"7\": 2, \"57\": 2, \"43\": 4, \"13\": 1, \"54\": 1, \"36\": 1}, \"47\": {\"47\": 53, \"57\": 7, \"48\": 1, \"36\": 5, \"20\": 10, \"9\": 1, \"0\": 3, \"56\": 2, \"29\": 4, \"13\": 5, \"52\": 3, \"44\": 1, \"1\": 3, \"5\": 1, \"40\": 1}, \"17\": {\"34\": 4, \"32\": 2, \"17\": 87, \"54\": 4, \"24\": 11, \"33\": 4, \"19\": 2, \"51\": 2}, \"11\": {\"19\": 2, \"11\": 113, \"15\": 17, \"28\": 1, \"16\": 16, \"42\": 1, \"24\": 1, \"38\": 1, \"53\": 2}, \"29\": {\"48\": 8, \"22\": 2, \"20\": 11, \"30\": 2, \"57\": 15, \"29\": 60, \"4\": 2, \"14\": 4, \"13\": 15, \"40\": 2, \"27\": 1, \"9\": 1, \"8\": 3, \"36\": 5, \"5\": 1}, \"50\": {\"50\": 88, \"6\": 15, \"44\": 4, \"45\": 23, \"12\": 3, \"40\": 2, \"3\": 1, \"5\": 2}, \"56\": {\"56\": 71, \"30\": 2, \"44\": 3, \"47\": 5, \"52\": 16, \"21\": 10, \"3\": 2, \"0\": 12, \"46\": 5, \"9\": 2, \"1\": 12, \"50\": 1, \"12\": 1, \"40\": 1, \"5\": 1, \"6\": 2, \"13\": 1, \"29\": 1}, \"15\": {\"15\": 104, \"11\": 17, \"53\": 6, \"16\": 10, \"19\": 3, \"23\": 1, \"10\": 1}}, \"C_2\": {\"49\": {\"49\": 21, \"39\": 1, \"19\": 1, \"37\": 1}, \"13\": {\"13\": 82, \"2\": 1, \"38\": 1, \"9\": 3, \"29\": 4, \"8\": 12, \"57\": 4, \"47\": 1, \"52\": 1, \"20\": 4, \"27\": 2, \"30\": 1}, \"37\": {\"37\": 27, \"39\": 1, \"35\": 2, \"32\": 2, \"33\": 2, \"54\": 1, \"7\": 1}, \"41\": {\"41\": 14, \"33\": 1, \"1\": 1, \"38\": 1, \"36\": 1, \"48\": 2}, \"15\": {\"15\": 98, \"16\": 10, \"53\": 2, \"17\": 1, \"11\": 20, \"43\": 1, \"19\": 6, \"25\": 1, \"28\": 1, \"23\": 1, \"51\": 1}, \"56\": {\"14\": 1, \"56\": 97, \"30\": 6, \"0\": 9, \"22\": 6, \"50\": 2, \"1\": 4, \"52\": 4, \"40\": 6, \"48\": 2, \"11\": 1, \"47\": 4}, \"14\": {\"13\": 3, \"14\": 2, \"30\": 2, \"1\": 2, \"20\": 2, \"38\": 2, \"55\": 1, \"0\": 1, \"8\": 1, \"41\": 1, \"48\": 3, \"9\": 2, \"50\": 1, \"36\": 1}, \"3\": {\"6\": 9, \"56\": 1, \"44\": 12, \"3\": 34, \"45\": 13, \"22\": 2, \"50\": 8, \"46\": 6, \"5\": 4, \"12\": 3}, \"38\": {\"38\": 8, \"57\": 2, \"14\": 1, \"29\": 3, \"9\": 2, \"2\": 2, \"41\": 1, \"20\": 1}, \"43\": {\"43\": 100, \"42\": 5, \"34\": 1, \"24\": 12, \"54\": 5, \"17\": 3, \"51\": 1, \"53\": 1, \"31\": 1, \"55\": 3, \"35\": 2, \"29\": 1, \"23\": 2, \"19\": 1}, \"33\": {\"37\": 6, \"51\": 1, \"7\": 3, \"33\": 8, \"31\": 2, \"36\": 3, \"55\": 1, \"9\": 1, \"39\": 1, \"20\": 1, \"14\": 1}, \"47\": {\"30\": 15, \"40\": 6, \"0\": 4, \"47\": 77, \"3\": 1, \"4\": 2, \"48\": 1, \"1\": 4, \"52\": 6, \"22\": 3, \"20\": 9, \"56\": 7, \"14\": 2, \"50\": 1}, \"30\": {\"47\": 17, \"30\": 48, \"14\": 4, \"1\": 11, \"57\": 3, \"2\": 5, \"20\": 4, \"48\": 6, \"21\": 2, \"40\": 9, \"22\": 9, \"56\": 11, \"44\": 1, \"52\": 6, \"4\": 4, \"41\": 1, \"50\": 1, \"5\": 1, \"46\": 1}, \"39\": {\"39\": 14, \"7\": 1, \"38\": 1, \"55\": 3, \"8\": 2, \"31\": 2, \"20\": 1, \"27\": 1, \"1\": 1, \"35\": 1, \"36\": 1}, \"12\": {\"3\": 4, \"12\": 45, \"5\": 11, \"50\": 9, \"6\": 3, \"21\": 5, \"44\": 5, \"46\": 7, \"45\": 3}, \"6\": {\"6\": 82, \"3\": 9, \"45\": 17, \"46\": 4, \"5\": 7, \"44\": 4, \"12\": 1}, \"51\": {\"51\": 96, \"31\": 3, \"27\": 8, \"54\": 5, \"55\": 3, \"29\": 2, \"13\": 2, \"20\": 5, \"8\": 7, \"1\": 1, \"14\": 1, \"37\": 1}, \"5\": {\"5\": 39, \"6\": 9, \"21\": 13, \"44\": 8, \"45\": 9, \"3\": 8, \"12\": 6, \"46\": 10, \"50\": 14, \"40\": 1, \"22\": 3}, \"34\": {\"34\": 17, \"35\": 1, \"24\": 3, \"11\": 2, \"15\": 2, \"19\": 1, \"23\": 2}, \"35\": {\"35\": 16, \"51\": 3, \"37\": 1, \"54\": 4, \"31\": 3, \"39\": 1, \"24\": 1, \"27\": 1, \"33\": 1, \"43\": 1}, \"0\": {\"5\": 3, \"56\": 7, \"30\": 1, \"0\": 21, \"47\": 3, \"4\": 1, \"52\": 2, \"1\": 2, \"50\": 1, \"48\": 2, \"40\": 2, \"2\": 1, \"3\": 1, \"22\": 1}, \"7\": {\"51\": 2, \"7\": 27, \"27\": 2, \"54\": 1, \"33\": 2, \"32\": 1, \"37\": 1}, \"24\": {\"24\": 73, \"42\": 1, \"35\": 1, \"17\": 5, \"54\": 1, \"43\": 13, \"23\": 2}, \"8\": {\"20\": 4, \"8\": 77, \"39\": 2, \"13\": 5, \"9\": 8, \"29\": 11, \"36\": 3, \"51\": 1, \"27\": 7, \"57\": 14, \"55\": 2, \"47\": 1, \"52\": 1}, \"20\": {\"4\": 6, \"0\": 1, \"39\": 1, \"9\": 11, \"20\": 77, \"8\": 1, \"47\": 4, \"36\": 3, \"52\": 2, \"29\": 2, \"57\": 5, \"30\": 2, \"56\": 2, \"2\": 2, \"48\": 3, \"13\": 1, \"1\": 1}, \"36\": {\"36\": 95, \"27\": 2, \"29\": 2, \"9\": 5, \"4\": 1, \"57\": 6, \"20\": 2, \"55\": 3}, \"42\": {\"42\": 27, \"24\": 2, \"48\": 1, \"34\": 2, \"31\": 1, \"23\": 1, \"52\": 1, \"4\": 1}, \"1\": {\"1\": 46, \"5\": 2, \"30\": 9, \"14\": 1, \"52\": 9, \"48\": 13, \"40\": 7, \"47\": 6, \"22\": 5, \"4\": 5, \"29\": 2, \"56\": 4, \"3\": 1, \"0\": 1, \"50\": 1}, \"4\": {\"20\": 6, \"1\": 9, \"4\": 45, \"57\": 9, \"30\": 8, \"21\": 5, \"9\": 13, \"48\": 14, \"41\": 2, \"6\": 1, \"52\": 1, \"36\": 5, \"5\": 3, \"50\": 3, \"22\": 6, \"40\": 7, \"55\": 1, \"45\": 1, \"47\": 2, \"29\": 2, \"0\": 1, \"3\": 1, \"12\": 1, \"56\": 1, \"44\": 1}, \"28\": {\"28\": 25, \"10\": 2, \"15\": 1}, \"50\": {\"46\": 8, \"50\": 55, \"22\": 17, \"3\": 6, \"21\": 7, \"6\": 9, \"44\": 6, \"45\": 12, \"40\": 2, \"5\": 10, \"12\": 3, \"56\": 1}, \"45\": {\"45\": 62, \"6\": 14, \"3\": 8, \"44\": 4, \"46\": 10, \"12\": 11, \"5\": 12, \"50\": 5, \"21\": 2}, \"18\": {\"18\": 46, \"11\": 1, \"15\": 1}, \"57\": {\"8\": 17, \"57\": 37, \"33\": 1, \"38\": 1, \"4\": 9, \"55\": 1, \"41\": 1, \"47\": 1, \"13\": 5, \"30\": 4, \"29\": 19, \"48\": 5, \"9\": 6, \"36\": 2, \"20\": 7, \"40\": 1, \"2\": 1, \"52\": 2}, \"46\": {\"46\": 51, \"12\": 8, \"6\": 8, \"21\": 14, \"50\": 13, \"3\": 6, \"22\": 1, \"5\": 12, \"45\": 11, \"44\": 3, \"40\": 1}, \"23\": {\"19\": 7, \"23\": 94, \"24\": 3, \"53\": 32, \"42\": 3, \"11\": 1, \"43\": 3, \"10\": 4, \"17\": 1}, \"27\": {\"27\": 99, \"55\": 5, \"7\": 2, \"9\": 3, \"36\": 5, \"51\": 6, \"54\": 3, \"8\": 5, \"57\": 3, \"29\": 6, \"39\": 1}, \"19\": {\"19\": 86, \"23\": 8, \"53\": 16, \"17\": 1, \"31\": 1, \"42\": 1, \"28\": 4, \"54\": 4, \"43\": 4, \"16\": 1, \"55\": 1, \"24\": 1, \"29\": 1, \"10\": 5}, \"22\": {\"22\": 102, \"0\": 6, \"48\": 1, \"5\": 1, \"50\": 3, \"44\": 4, \"21\": 7, \"40\": 3, \"1\": 5, \"52\": 1, \"30\": 3}, \"17\": {\"17\": 78, \"37\": 1, \"54\": 5, \"42\": 3, \"24\": 7, \"27\": 2, \"43\": 6, \"9\": 1, \"51\": 1}, \"55\": {\"31\": 4, \"55\": 46, \"4\": 13, \"7\": 1, \"8\": 4, \"27\": 11, \"32\": 1, \"39\": 2, \"36\": 6, \"9\": 12, \"29\": 9, \"30\": 2, \"52\": 2, \"57\": 3, \"47\": 1, \"51\": 8, \"40\": 2, \"20\": 5, \"41\": 1, \"33\": 1, \"54\": 1, \"13\": 1}, \"44\": {\"44\": 31, \"21\": 9, \"3\": 3, \"5\": 9, \"12\": 10, \"45\": 7, \"50\": 8, \"6\": 11, \"46\": 3, \"22\": 8, \"4\": 1}, \"26\": {\"7\": 1, \"26\": 21, \"32\": 2}, \"31\": {\"31\": 26, \"7\": 1, \"54\": 1}, \"16\": {\"16\": 113, \"28\": 1, \"10\": 1, \"15\": 5, \"23\": 3, \"11\": 7}, \"11\": {\"11\": 108, \"19\": 2, \"15\": 15, \"10\": 2, \"16\": 1}, \"25\": {\"25\": 93, \"15\": 10, \"26\": 2, \"11\": 5, \"19\": 6, \"16\": 2, \"43\": 1, \"23\": 2, \"49\": 2, \"53\": 2, \"24\": 1}, \"54\": {\"54\": 56, \"33\": 2, \"31\": 4, \"43\": 6, \"27\": 7, \"8\": 3, \"20\": 1, \"51\": 3, \"17\": 9, \"29\": 3, \"36\": 2, \"24\": 4, \"55\": 2, \"32\": 1, \"7\": 1, \"23\": 2, \"35\": 1, \"9\": 1}, \"32\": {\"32\": 13, \"33\": 2, \"7\": 1, \"35\": 1, \"51\": 1, \"39\": 2, \"31\": 4, \"9\": 1, \"48\": 1, \"36\": 1, \"41\": 1}, \"52\": {\"30\": 9, \"1\": 9, \"2\": 1, \"52\": 50, \"48\": 8, \"4\": 4, \"47\": 12, \"5\": 1, \"0\": 4, \"56\": 10, \"21\": 2, \"57\": 2, \"22\": 4, \"40\": 6, \"6\": 1, \"20\": 1}, \"40\": {\"1\": 8, \"22\": 6, \"40\": 64, \"48\": 17, \"41\": 1, \"4\": 2, \"56\": 3, \"0\": 4, \"30\": 10, \"29\": 1, \"46\": 2, \"45\": 2, \"52\": 7, \"3\": 1, \"9\": 1, \"36\": 1, \"12\": 1, \"44\": 1}, \"2\": {\"4\": 2, \"30\": 3, \"57\": 2, \"2\": 14, \"8\": 1, \"47\": 2, \"14\": 2, \"36\": 1, \"48\": 1, \"9\": 2, \"40\": 1, \"20\": 1}, \"10\": {\"23\": 4, \"10\": 92, \"28\": 3, \"34\": 1, \"19\": 6, \"53\": 4}, \"53\": {\"53\": 105, \"23\": 18, \"10\": 9, \"19\": 2, \"43\": 1, \"24\": 1}, \"9\": {\"9\": 113, \"29\": 5, \"4\": 4, \"57\": 12, \"1\": 2, \"13\": 2, \"55\": 1, \"21\": 1, \"20\": 2, \"2\": 1, \"36\": 4, \"52\": 1, \"8\": 2}, \"21\": {\"21\": 69, \"50\": 13, \"46\": 5, \"5\": 9, \"44\": 3, \"45\": 3, \"6\": 2, \"12\": 8, \"30\": 1, \"3\": 2, \"0\": 1, \"1\": 3, \"22\": 1}, \"48\": {\"40\": 8, \"48\": 78, \"1\": 4, \"2\": 1, \"14\": 1, \"52\": 8, \"4\": 11, \"30\": 8, \"47\": 8, \"50\": 2, \"46\": 2, \"41\": 1, \"3\": 1, \"12\": 1, \"56\": 3, \"22\": 1}, \"29\": {\"13\": 7, \"29\": 82, \"8\": 10, \"9\": 5, \"55\": 3, \"36\": 7, \"46\": 1, \"57\": 5, \"27\": 2, \"20\": 3, \"22\": 1, \"21\": 1, \"47\": 1}}, \"C_1\": {\"9\": {\"41\": 3, \"9\": 99, \"48\": 3, \"51\": 16, \"32\": 2, \"54\": 6, \"1\": 1, \"55\": 2, \"43\": 2, \"8\": 3, \"31\": 1, \"39\": 2, \"36\": 1, \"30\": 1}, \"25\": {\"25\": 119, \"26\": 2, \"19\": 3, \"23\": 1, \"53\": 1, \"15\": 1, \"35\": 1}, \"41\": {\"9\": 2, \"41\": 18, \"31\": 1, \"32\": 1, \"54\": 1, \"29\": 1}, \"29\": {\"57\": 10, \"29\": 48, \"1\": 7, \"27\": 9, \"48\": 9, \"30\": 8, \"12\": 1, \"7\": 3, \"36\": 2, \"56\": 1, \"52\": 2, \"47\": 8, \"3\": 1, \"13\": 1, \"45\": 1, \"8\": 5, \"55\": 5, \"43\": 3, \"40\": 3, \"0\": 2, \"21\": 4, \"50\": 4, \"14\": 1, \"39\": 1, \"6\": 1}, \"46\": {\"6\": 2, \"46\": 105, \"44\": 10, \"5\": 7, \"40\": 1, \"3\": 2, \"4\": 1}, \"4\": {\"46\": 7, \"57\": 2, \"5\": 5, \"4\": 48, \"27\": 6, \"52\": 6, \"40\": 9, \"12\": 17, \"45\": 8, \"21\": 2, \"22\": 3, \"0\": 3, \"29\": 1, \"56\": 3, \"2\": 1, \"20\": 2, \"7\": 1, \"6\": 2, \"44\": 1, \"30\": 1, \"3\": 1, \"50\": 3}, \"31\": {\"31\": 19, \"9\": 2, \"54\": 1, \"49\": 1, \"48\": 1, \"43\": 3, \"33\": 1}, \"36\": {\"36\": 44, \"29\": 1, \"43\": 4, \"39\": 1, \"51\": 1, \"8\": 6, \"1\": 2, \"30\": 1, \"55\": 1, \"48\": 3}, \"20\": {\"20\": 65, \"50\": 14, \"56\": 13, \"45\": 12, \"40\": 2, \"0\": 7, \"12\": 4, \"3\": 5, \"6\": 1, \"52\": 4, \"22\": 1}, \"7\": {\"7\": 20, \"36\": 1, \"29\": 3, \"57\": 1, \"14\": 1, \"55\": 1, \"22\": 1}, \"6\": {\"46\": 4, \"20\": 8, \"6\": 23, \"3\": 4, \"5\": 3, \"12\": 4, \"44\": 13, \"0\": 9, \"56\": 8, \"50\": 7, \"52\": 2, \"45\": 8, \"40\": 1, \"4\": 2}, \"16\": {\"16\": 90, \"53\": 3, \"10\": 3, \"19\": 7, \"11\": 25, \"24\": 1, \"15\": 8, \"35\": 1}, \"17\": {\"17\": 52, \"24\": 6, \"54\": 2, \"42\": 3, \"48\": 1}, \"50\": {\"6\": 3, \"50\": 101, \"56\": 15, \"45\": 16, \"3\": 2, \"46\": 3, \"44\": 4, \"20\": 2, \"12\": 1, \"4\": 1}, \"57\": {\"7\": 3, \"57\": 62, \"14\": 1, \"13\": 6, \"22\": 8, \"47\": 18, \"29\": 17, \"55\": 2, \"40\": 2, \"52\": 2, \"1\": 3, \"30\": 11, \"27\": 6, \"21\": 2, \"48\": 1}, \"23\": {\"23\": 110, \"19\": 5, \"17\": 2, \"35\": 4, \"10\": 1, \"24\": 1, \"15\": 2, \"53\": 7, \"9\": 1, \"28\": 1, \"42\": 1, \"26\": 1}, \"3\": {\"20\": 13, \"3\": 66, \"45\": 5, \"56\": 10, \"50\": 12, \"6\": 3, \"46\": 4, \"44\": 5, \"5\": 4, \"0\": 1, \"4\": 1, \"21\": 1, \"22\": 1}, \"53\": {\"53\": 111, \"26\": 1, \"10\": 2, \"19\": 12, \"23\": 4, \"15\": 7, \"28\": 2, \"51\": 1}, \"49\": {\"9\": 1, \"49\": 15, \"48\": 3, \"55\": 3, \"7\": 2, \"37\": 1, \"29\": 1, \"30\": 1, \"32\": 3, \"57\": 2}, \"56\": {\"50\": 19, \"3\": 3, \"46\": 1, \"56\": 63, \"0\": 4, \"45\": 19, \"5\": 7, \"20\": 18, \"44\": 5, \"12\": 5, \"4\": 1, \"6\": 5, \"40\": 2}, \"51\": {\"51\": 116, \"12\": 1, \"54\": 10, \"49\": 1, \"9\": 1, \"8\": 3, \"41\": 3, \"55\": 1, \"43\": 4, \"39\": 1, \"4\": 1}, \"26\": {\"26\": 19, \"34\": 2, \"19\": 1, \"15\": 1, \"53\": 1}, \"43\": {\"9\": 4, \"43\": 86, \"36\": 6, \"1\": 7, \"8\": 13, \"48\": 14, \"31\": 1, \"55\": 7, \"51\": 3, \"32\": 1, \"41\": 1, \"30\": 1}, \"22\": {\"22\": 93, \"27\": 9, \"0\": 5, \"13\": 7, \"40\": 8, \"52\": 9, \"4\": 1, \"7\": 1, \"20\": 1, \"12\": 2}, \"45\": {\"45\": 81, \"3\": 5, \"0\": 4, \"56\": 21, \"50\": 13, \"12\": 7, \"6\": 3, \"20\": 5, \"4\": 2, \"44\": 3, \"40\": 1, \"5\": 1}, \"13\": {\"13\": 104, \"47\": 4, \"21\": 13, \"27\": 13, \"40\": 2, \"20\": 1, \"22\": 7, \"29\": 2, \"0\": 1, \"52\": 2, \"30\": 1, \"57\": 2}, \"12\": {\"12\": 76, \"45\": 7, \"40\": 5, \"56\": 5, \"50\": 2, \"6\": 4, \"52\": 1, \"20\": 2, \"4\": 8, \"0\": 5, \"57\": 1}, \"54\": {\"31\": 2, \"54\": 84, \"51\": 7, \"24\": 1, \"9\": 6, \"43\": 1, \"17\": 3}, \"24\": {\"33\": 1, \"24\": 97, \"42\": 1, \"17\": 6, \"1\": 1, \"54\": 1, \"43\": 1}, \"44\": {\"44\": 58, \"45\": 9, \"3\": 16, \"46\": 8, \"50\": 11, \"20\": 2, \"5\": 18, \"40\": 5, \"6\": 5, \"4\": 1, \"56\": 3}, \"28\": {\"28\": 22, \"15\": 1, \"23\": 3, \"53\": 2}, \"33\": {\"33\": 32}, \"38\": {\"47\": 1, \"36\": 1, \"38\": 16, \"7\": 1, \"22\": 1, \"4\": 1, \"49\": 1, \"1\": 1, \"37\": 1}, \"0\": {\"0\": 62, \"12\": 6, \"56\": 12, \"40\": 2, \"50\": 11, \"20\": 13, \"52\": 10, \"3\": 2, \"45\": 8, \"22\": 7, \"27\": 3, \"4\": 3, \"6\": 2, \"44\": 1, \"13\": 1, \"47\": 1}, \"47\": {\"47\": 92, \"30\": 6, \"27\": 1, \"2\": 1, \"21\": 9, \"56\": 1, \"0\": 3, \"20\": 1, \"57\": 10, \"40\": 4, \"13\": 7, \"22\": 1, \"29\": 9, \"4\": 2, \"52\": 2, \"12\": 1, \"14\": 1, \"55\": 1, \"48\": 1, \"45\": 1}, \"42\": {\"17\": 3, \"34\": 3, \"42\": 15, \"24\": 3, \"40\": 1, \"19\": 1, \"32\": 1, \"37\": 1, \"54\": 3, \"33\": 4, \"49\": 1, \"23\": 1, \"39\": 1, \"31\": 1, \"2\": 1}, \"34\": {\"17\": 1, \"34\": 18, \"41\": 1, \"42\": 2, \"23\": 1, \"39\": 1}, \"48\": {\"36\": 4, \"43\": 10, \"30\": 3, \"48\": 66, \"1\": 11, \"39\": 4, \"47\": 2, \"51\": 1, \"55\": 7, \"21\": 1, \"8\": 22, \"40\": 1, \"54\": 1, \"45\": 2, \"46\": 1, \"0\": 1, \"12\": 1, \"57\": 1, \"29\": 2, \"9\": 1}, \"35\": {\"35\": 25, \"23\": 5, \"19\": 3, \"10\": 1, \"31\": 1, \"15\": 1}, \"2\": {\"2\": 34, \"40\": 1, \"30\": 1}, \"30\": {\"2\": 1, \"29\": 11, \"30\": 58, \"14\": 1, \"13\": 2, \"36\": 2, \"47\": 10, \"57\": 7, \"1\": 7, \"21\": 8, \"6\": 1, \"40\": 2, \"48\": 2, \"27\": 1, \"52\": 2, \"7\": 1, \"49\": 1, \"4\": 2, \"8\": 1}, \"18\": {\"18\": 69, \"16\": 1, \"11\": 2}, \"37\": {\"49\": 1, \"37\": 25, \"55\": 1, \"7\": 1, \"27\": 1, \"32\": 1, \"30\": 1, \"38\": 1}, \"1\": {\"30\": 3, \"48\": 7, \"1\": 55, \"49\": 1, \"36\": 2, \"8\": 7, \"29\": 7, \"55\": 11, \"47\": 1, \"57\": 2, \"27\": 1, \"43\": 2, \"21\": 1}, \"11\": {\"11\": 111, \"16\": 19, \"15\": 4, \"19\": 2, \"53\": 2}, \"55\": {\"55\": 90, \"49\": 1, \"32\": 2, \"36\": 1, \"43\": 7, \"48\": 9, \"1\": 9, \"51\": 1, \"9\": 3, \"8\": 3, \"29\": 2, \"57\": 2}, \"15\": {\"53\": 8, \"15\": 127, \"19\": 7, \"28\": 2, \"10\": 4, \"11\": 1, \"16\": 1}, \"10\": {\"10\": 79, \"28\": 2, \"53\": 3, \"19\": 3, \"16\": 1, \"15\": 8}, \"27\": {\"57\": 5, \"27\": 85, \"47\": 9, \"14\": 2, \"21\": 10, \"22\": 16, \"13\": 8, \"7\": 1, \"20\": 1, \"29\": 4, \"0\": 4, \"52\": 8, \"40\": 5, \"4\": 1, \"56\": 1}, \"19\": {\"19\": 104, \"17\": 3, \"15\": 8, \"26\": 3, \"28\": 2, \"53\": 14, \"23\": 6, \"24\": 2, \"35\": 1, \"10\": 2, \"55\": 1}, \"14\": {\"57\": 2, \"14\": 11, \"38\": 1, \"21\": 2, \"13\": 2, \"29\": 1, \"7\": 2, \"12\": 1, \"27\": 1, \"30\": 1}, \"8\": {\"48\": 13, \"8\": 67, \"9\": 8, \"32\": 1, \"1\": 7, \"29\": 4, \"49\": 1, \"55\": 6, \"43\": 20, \"36\": 6, \"51\": 1, \"57\": 2, \"27\": 1, \"47\": 1, \"30\": 1, \"39\": 1}, \"5\": {\"5\": 107, \"46\": 8, \"44\": 18, \"3\": 1, \"56\": 1, \"45\": 1}, \"39\": {\"39\": 19, \"47\": 1, \"30\": 1, \"48\": 2, \"57\": 2, \"43\": 1, \"7\": 1, \"14\": 1}, \"52\": {\"13\": 2, \"52\": 87, \"0\": 5, \"22\": 13, \"12\": 5, \"40\": 6, \"20\": 1, \"4\": 1, \"27\": 2}, \"21\": {\"7\": 2, \"21\": 87, \"27\": 7, \"57\": 8, \"47\": 5, \"13\": 3, \"52\": 1, \"12\": 1, \"48\": 2, \"56\": 1, \"30\": 2, \"40\": 1, \"20\": 1, \"14\": 1, \"22\": 2}, \"40\": {\"0\": 12, \"40\": 76, \"5\": 7, \"44\": 1, \"46\": 8, \"22\": 5, \"52\": 11, \"12\": 3, \"45\": 3, \"47\": 3, \"56\": 3, \"3\": 2, \"50\": 3, \"4\": 3, \"27\": 7, \"20\": 2, \"21\": 1, \"30\": 1, \"6\": 1}, \"32\": {\"32\": 31, \"49\": 1}}, \"C_3\": {\"56\": {\"56\": 87, \"22\": 5, \"30\": 2, \"0\": 15, \"21\": 1, \"40\": 3, \"47\": 3, \"46\": 1, \"44\": 1, \"1\": 1, \"50\": 1}, \"4\": {\"40\": 10, \"4\": 39, \"48\": 11, \"22\": 1, \"27\": 7, \"30\": 6, \"6\": 1, \"20\": 14, \"1\": 7, \"14\": 1, \"3\": 5, \"5\": 3, \"57\": 4, \"9\": 19, \"21\": 2, \"52\": 3, \"36\": 7, \"8\": 1, \"44\": 2, \"46\": 1, \"12\": 1, \"50\": 1}, \"34\": {\"31\": 1, \"54\": 3, \"34\": 15, \"51\": 2, \"24\": 3, \"7\": 1, \"55\": 2, \"17\": 1, \"42\": 1, \"26\": 1, \"32\": 1, \"49\": 1}, \"52\": {\"52\": 55, \"20\": 18, \"41\": 3, \"47\": 9, \"4\": 5, \"30\": 6, \"1\": 7, \"48\": 4, \"56\": 5, \"9\": 2, \"40\": 12, \"29\": 2, \"14\": 1, \"21\": 2, \"0\": 3, \"22\": 2}, \"32\": {\"32\": 11, \"36\": 2, \"33\": 1, \"4\": 2, \"38\": 3, \"35\": 1, \"9\": 1, \"2\": 2, \"55\": 2, \"27\": 1, \"14\": 1, \"29\": 1}, \"46\": {\"22\": 12, \"46\": 47, \"12\": 7, \"44\": 5, \"5\": 13, \"3\": 11, \"21\": 11, \"50\": 20, \"45\": 2, \"6\": 7, \"30\": 1}, \"12\": {\"12\": 41, \"46\": 7, \"5\": 13, \"45\": 9, \"3\": 13, \"50\": 6, \"44\": 1, \"6\": 2}, \"20\": {\"20\": 74, \"40\": 6, \"52\": 9, \"48\": 6, \"36\": 4, \"57\": 3, \"47\": 4, \"4\": 4, \"30\": 2, \"9\": 10, \"56\": 1, \"27\": 1, \"14\": 2, \"22\": 1, \"1\": 3, \"29\": 2}, \"54\": {\"54\": 52, \"31\": 2, \"49\": 1, \"51\": 10, \"55\": 7, \"17\": 11, \"36\": 1, \"40\": 2, \"13\": 2, \"8\": 1, \"4\": 2, \"24\": 3, \"43\": 3, \"34\": 2, \"38\": 1}, \"22\": {\"22\": 98, \"44\": 3, \"46\": 10, \"21\": 6, \"29\": 1, \"1\": 2, \"50\": 8, \"30\": 2, \"56\": 2, \"5\": 4, \"41\": 1, \"48\": 1, \"40\": 1, \"0\": 1}, \"26\": {\"34\": 3, \"54\": 1, \"26\": 12, \"51\": 1, \"49\": 1, \"17\": 1, \"37\": 2, \"24\": 1, \"31\": 1, \"55\": 1}, \"31\": {\"31\": 22, \"42\": 1, \"51\": 1, \"17\": 1, \"26\": 1, \"54\": 2}, \"10\": {\"10\": 59, \"11\": 3, \"19\": 1, \"53\": 1}, \"27\": {\"4\": 2, \"27\": 82, \"20\": 5, \"6\": 1, \"33\": 2, \"5\": 2, \"57\": 12, \"55\": 4, \"29\": 4, \"40\": 1, \"9\": 6, \"8\": 12, \"3\": 1, \"36\": 5, \"35\": 2, \"7\": 1, \"45\": 1, \"50\": 1}, \"40\": {\"4\": 9, \"40\": 62, \"48\": 16, \"50\": 3, \"52\": 9, \"30\": 8, \"41\": 1, \"45\": 2, \"22\": 8, \"1\": 7, \"56\": 2, \"0\": 3, \"39\": 1, \"46\": 1, \"47\": 2, \"5\": 1, \"21\": 1}, \"28\": {\"28\": 17, \"17\": 2, \"43\": 1, \"42\": 1, \"23\": 2, \"26\": 1, \"11\": 2, \"10\": 1, \"15\": 1}, \"5\": {\"12\": 10, \"5\": 35, \"44\": 9, \"45\": 6, \"3\": 9, \"50\": 5, \"21\": 12, \"46\": 13, \"22\": 7, \"6\": 10}, \"30\": {\"20\": 7, \"30\": 36, \"44\": 2, \"52\": 8, \"4\": 4, \"50\": 2, \"46\": 5, \"0\": 11, \"21\": 4, \"41\": 2, \"47\": 10, \"1\": 7, \"3\": 2, \"40\": 5, \"56\": 3, \"9\": 1, \"22\": 5, \"48\": 2, \"14\": 1, \"5\": 2, \"6\": 1}, \"7\": {\"29\": 1, \"20\": 4, \"49\": 1, \"7\": 4, \"27\": 2, \"57\": 3, \"14\": 2, \"51\": 1, \"4\": 2, \"40\": 1, \"33\": 2, \"41\": 1, \"36\": 1, \"8\": 4, \"47\": 1, \"0\": 1, \"9\": 3, \"55\": 1, \"54\": 1}, \"18\": {\"18\": 82, \"11\": 1, \"16\": 1}, \"39\": {\"39\": 12, \"50\": 1, \"52\": 1, \"8\": 2}, \"50\": {\"12\": 8, \"5\": 6, \"6\": 4, \"40\": 3, \"50\": 45, \"22\": 8, \"46\": 15, \"3\": 21, \"44\": 5, \"56\": 5, \"21\": 13, \"45\": 3}, \"49\": {\"35\": 2, \"49\": 5, \"32\": 3, \"37\": 1, \"17\": 2, \"27\": 2, \"43\": 3, \"34\": 2}, \"43\": {\"43\": 68, \"51\": 6, \"42\": 3, \"17\": 11, \"34\": 2, \"31\": 4, \"54\": 7, \"24\": 16, \"8\": 1, \"26\": 1, \"49\": 1, \"55\": 1, \"14\": 1}, \"29\": {\"29\": 66, \"7\": 1, \"9\": 4, \"27\": 11, \"3\": 1, \"13\": 4, \"48\": 1, \"36\": 2, \"57\": 11, \"8\": 8, \"40\": 1, \"21\": 1, \"44\": 1, \"6\": 1, \"46\": 1}, \"35\": {\"49\": 1, \"35\": 22, \"57\": 1, \"27\": 2, \"31\": 1, \"55\": 1}, \"13\": {\"13\": 83, \"8\": 15, \"41\": 1, \"27\": 5, \"14\": 1, \"57\": 5, \"9\": 4, \"20\": 2, \"29\": 6, \"47\": 2}, \"36\": {\"36\": 82, \"9\": 8, \"57\": 4, \"33\": 1, \"7\": 1, \"35\": 1, \"27\": 2, \"51\": 1}, \"11\": {\"28\": 2, \"11\": 97, \"10\": 7, \"15\": 20, \"53\": 3, \"23\": 3, \"16\": 10, \"19\": 4}, \"57\": {\"9\": 14, \"57\": 34, \"14\": 5, \"36\": 8, \"1\": 5, \"13\": 7, \"29\": 12, \"20\": 6, \"8\": 10, \"27\": 12, \"48\": 1, \"0\": 1, \"7\": 2, \"33\": 1, \"4\": 4, \"12\": 2}, \"9\": {\"9\": 82, \"1\": 1, \"57\": 20, \"20\": 5, \"36\": 4, \"27\": 7, \"4\": 2, \"29\": 3, \"7\": 1, \"30\": 1, \"46\": 1, \"55\": 1, \"22\": 1, \"52\": 1}, \"25\": {\"25\": 102, \"28\": 6, \"11\": 4, \"15\": 9, \"23\": 2, \"16\": 2, \"37\": 1, \"53\": 1, \"19\": 3}, \"16\": {\"16\": 104, \"15\": 9, \"11\": 8, \"23\": 2, \"53\": 3}, \"53\": {\"53\": 98, \"23\": 16, \"19\": 2, \"15\": 1, \"54\": 1}, \"33\": {\"33\": 9, \"57\": 6, \"14\": 2, \"27\": 6, \"52\": 1, \"35\": 1, \"36\": 1, \"4\": 1, \"13\": 1}, \"51\": {\"51\": 115, \"34\": 1, \"13\": 2, \"43\": 3, \"54\": 3, \"27\": 1, \"57\": 1, \"55\": 1, \"17\": 1}, \"44\": {\"6\": 7, \"5\": 9, \"44\": 27, \"45\": 8, \"50\": 6, \"21\": 7, \"22\": 13, \"12\": 2, \"46\": 3, \"3\": 5, \"56\": 1}, \"48\": {\"20\": 8, \"48\": 44, \"4\": 6, \"40\": 15, \"7\": 1, \"1\": 6, \"52\": 12, \"46\": 1, \"50\": 3, \"9\": 1, \"30\": 5, \"22\": 2, \"47\": 3, \"3\": 1, \"0\": 2, \"5\": 1, \"44\": 1, \"56\": 1, \"12\": 1}, \"6\": {\"6\": 71, \"50\": 2, \"3\": 5, \"45\": 4, \"12\": 3, \"5\": 3}, \"23\": {\"34\": 1, \"23\": 108, \"28\": 2, \"19\": 8, \"24\": 4, \"53\": 16, \"11\": 1, \"55\": 1, \"15\": 1, \"43\": 1, \"17\": 1}, \"1\": {\"1\": 40, \"48\": 11, \"0\": 7, \"47\": 7, \"30\": 5, \"52\": 6, \"41\": 1, \"22\": 3, \"4\": 7, \"20\": 5, \"40\": 4, \"27\": 3, \"56\": 1}, \"17\": {\"17\": 68, \"34\": 2, \"49\": 3, \"31\": 2, \"55\": 1, \"51\": 6, \"54\": 13, \"24\": 6, \"43\": 6, \"57\": 1}, \"21\": {\"21\": 60, \"3\": 10, \"5\": 8, \"12\": 6, \"50\": 10, \"44\": 5, \"22\": 8, \"46\": 14, \"40\": 1}, \"14\": {\"1\": 8, \"57\": 4, \"33\": 2, \"48\": 4, \"14\": 5, \"41\": 1, \"2\": 2, \"13\": 3, \"9\": 2, \"8\": 3, \"7\": 1, \"12\": 1, \"20\": 2, \"36\": 2}, \"55\": {\"1\": 1, \"33\": 1, \"55\": 60, \"35\": 5, \"4\": 7, \"2\": 2, \"17\": 2, \"8\": 15, \"20\": 1, \"51\": 13, \"36\": 5, \"9\": 5, \"27\": 9, \"54\": 2, \"43\": 2, \"57\": 2, \"29\": 4, \"31\": 2, \"38\": 2, \"7\": 1, \"32\": 1, \"13\": 2}, \"41\": {\"1\": 3, \"41\": 17, \"52\": 2, \"22\": 1, \"40\": 2, \"39\": 1, \"0\": 1, \"4\": 1}, \"3\": {\"21\": 9, \"44\": 6, \"50\": 11, \"5\": 9, \"45\": 2, \"12\": 7, \"3\": 73, \"6\": 6, \"46\": 13, \"22\": 2}, \"38\": {\"38\": 26, \"7\": 1, \"32\": 1}, \"2\": {\"2\": 20, \"38\": 1, \"4\": 5, \"29\": 1, \"7\": 1, \"33\": 1, \"40\": 1, \"55\": 1, \"36\": 1}, \"8\": {\"8\": 86, \"57\": 8, \"36\": 6, \"9\": 6, \"13\": 10, \"29\": 12, \"12\": 1, \"20\": 2, \"0\": 2, \"27\": 6, \"35\": 2, \"14\": 1}, \"37\": {\"37\": 28}, \"45\": {\"45\": 29, \"46\": 2, \"12\": 12, \"3\": 2, \"6\": 7, \"5\": 4, \"44\": 1, \"50\": 1, \"21\": 2}, \"42\": {\"54\": 1, \"24\": 4, \"42\": 14, \"34\": 2, \"31\": 1, \"51\": 2, \"49\": 1, \"43\": 1, \"17\": 2}, \"24\": {\"24\": 82, \"42\": 3, \"34\": 1, \"43\": 13, \"54\": 3, \"17\": 2}, \"15\": {\"11\": 20, \"16\": 16, \"15\": 90, \"25\": 2, \"19\": 4, \"28\": 1, \"53\": 1, \"23\": 1, \"43\": 1}, \"0\": {\"0\": 57, \"30\": 8, \"22\": 11, \"52\": 7, \"40\": 3, \"21\": 5, \"47\": 14, \"56\": 9, \"1\": 5, \"48\": 3, \"46\": 2}, \"47\": {\"47\": 41, \"40\": 3, \"3\": 2, \"52\": 8, \"20\": 7, \"41\": 3, \"30\": 3, \"48\": 5, \"0\": 9, \"29\": 1, \"57\": 2, \"21\": 2, \"4\": 1, \"1\": 2, \"56\": 1, \"9\": 2}, \"19\": {\"19\": 69, \"23\": 22, \"25\": 2, \"55\": 2, \"53\": 12, \"51\": 1, \"17\": 1, \"24\": 2, \"15\": 1, \"10\": 3, \"43\": 1, \"28\": 2, \"26\": 1, \"49\": 1}}}, \"per_domain_accuracy\": {\"O_14\": {\"accuracy\": 0.8747395833333333, \"source?\": true}, \"O_20\": {\"accuracy\": 0.8947916666666667, \"source?\": true}, \"O_50\": {\"accuracy\": 0.42890625, \"source?\": true}, \"O_26\": {\"accuracy\": 0.73984375, \"source?\": true}, \"O_32\": {\"accuracy\": 0.43072916666666666, \"source?\": true}, \"O_44\": {\"accuracy\": 0.396875, \"source?\": true}, \"O_8\": {\"accuracy\": 0.834375, \"source?\": true}, \"O_38\": {\"accuracy\": 0.50859375, \"source?\": true}, \"C_4\": {\"accuracy\": 0.5789670658682635, \"source?\": false}, \"C_5\": {\"accuracy\": 0.559532122905028, \"source?\": false}, \"C_2\": {\"accuracy\": 0.5932142857142857, \"source?\": false}, \"C_1\": {\"accuracy\": 0.6389266304347826, \"source?\": false}, \"C_3\": {\"accuracy\": 0.5641544117647059, \"source?\": false}}}, \"history\": {\"epoch_indices\": [1, 2, 3, 4, 5], \"train_label_loss\": [0.47479133878479757, 0.47655393070835134, 0.32881482829605896, 0.3014596384700521, 0.2737454706004688], \"source_val_label_loss\": [7.855135440826416, 0.4074200987815857, 0.3304387927055359, 0.312504380941391, 0.26252463459968567], \"target_val_label_loss\": [1609.7718505859375, 2773.1953125, 3189.1796875, 3618.174560546875, 3902.208251953125], \"source_val_acc_label\": [0.6386067708333333, 0.8571940104166667, 0.8831705729166667, 0.8879231770833333, 0.90810546875], \"target_val_acc_label\": [0.5875714285714285, 0.43964285714285717, 0.44421428571428573, 0.44335714285714284, 0.44471428571428573]}, \"dataset_metrics\": {\"source\": {\"train\": {\"n_unique_x\": 179200, \"n_unique_y\": 16, \"n_batch/episode\": 6720}, \"val\": {\"n_unique_x\": 38400, \"n_unique_y\": 16, \"n_batch/episode\": 960}, \"test\": {\"n_unique_x\": 38400, \"n_unique_y\": 16, \"n_batch/episode\": 960}}, \"target\": {\"train\": {\"n_unique_x\": 175158, \"n_unique_y\": 58, \"n_batch/episode\": 6317}, \"val\": {\"n_unique_x\": 37216, \"n_unique_y\": 58, \"n_batch/episode\": 875}, \"test\": {\"n_unique_x\": 37596, \"n_unique_y\": 58, \"n_batch/episode\": 886}}}}'"
      ]
     },
     "execution_count": 29,
     "metadata": {},
     "output_type": "execute_result"
    }
   ],
   "source": [
    "json.dumps(experiment)"
   ]
  }
 ],
 "metadata": {
  "celltoolbar": "Tags",
  "kernelspec": {
   "display_name": "Python 3 (ipykernel)",
   "language": "python",
   "name": "python3"
  },
  "language_info": {
   "codemirror_mode": {
    "name": "ipython",
    "version": 3
   },
   "file_extension": ".py",
   "mimetype": "text/x-python",
   "name": "python",
   "nbconvert_exporter": "python",
   "pygments_lexer": "ipython3",
   "version": "3.8.10"
  },
  "papermill": {
   "default_parameters": {},
   "duration": 1628.107349,
   "end_time": "2022-03-26T00:21:56.694330",
   "environment_variables": {},
   "exception": null,
   "input_path": "/mnt/wd500GB/CSC500/csc500-main/csc500-notebooks/templates/tl_ptn_template.ipynb",
   "output_path": "trial.ipynb",
   "parameters": {
    "parameters": {
     "BEST_MODEL_PATH": "./best_model.pth",
     "NUM_LOGS_PER_EPOCH": 10,
     "criteria_for_best": "target_accuracy",
     "dataset_seed": 420,
     "datasets": [
      {
       "domain_prefix": "C_",
       "domains": [
        1,
        2,
        3,
        4,
        5
       ],
       "episode_transforms": [],
       "labels": [
        "1-10.",
        "1-11.",
        "1-15.",
        "1-16.",
        "1-17.",
        "1-18.",
        "1-19.",
        "10-4.",
        "10-7.",
        "11-1.",
        "11-14.",
        "11-17.",
        "11-20.",
        "11-7.",
        "13-20.",
        "13-8.",
        "14-10.",
        "14-11.",
        "14-14.",
        "14-7.",
        "15-1.",
        "15-20.",
        "16-1.",
        "16-16.",
        "17-10.",
        "17-11.",
        "17-2.",
        "19-1.",
        "19-16.",
        "19-19.",
        "19-20.",
        "19-3.",
        "2-10.",
        "2-11.",
        "2-17.",
        "2-18.",
        "2-20.",
        "2-3.",
        "2-4.",
        "2-5.",
        "2-6.",
        "2-7.",
        "2-8.",
        "3-13.",
        "3-18.",
        "3-3.",
        "4-1.",
        "4-10.",
        "4-11.",
        "4-19.",
        "5-5.",
        "6-15.",
        "7-10.",
        "7-14.",
        "8-18.",
        "8-20.",
        "8-3.",
        "8-8."
       ],
       "num_examples_per_domain_per_label": -1,
       "pickle_path": "/mnt/wd500GB/CSC500/csc500-main/datasets/cores.stratified_ds.2022A.pkl",
       "source_or_target_dataset": "target",
       "x_transforms": [
        "lowpass_+/-10MHz",
        "take_200"
       ]
      },
      {
       "domain_prefix": "O_",
       "domains": [
        32,
        38,
        8,
        44,
        14,
        50,
        20,
        26
       ],
       "episode_transforms": [],
       "labels": [
        "3123D52",
        "3123D65",
        "3123D79",
        "3123D80",
        "3123D54",
        "3123D70",
        "3123D7B",
        "3123D89",
        "3123D58",
        "3123D76",
        "3123D7D",
        "3123EFE",
        "3123D64",
        "3123D78",
        "3123D7E",
        "3124E4A"
       ],
       "num_examples_per_domain_per_label": 2000,
       "pickle_path": "/mnt/wd500GB/CSC500/csc500-main/datasets/oracle.Run1_framed_2000Examples_stratified_ds.2022A.pkl",
       "source_or_target_dataset": "source",
       "x_transforms": [
        "take_200",
        "resample_20Msps_to_25Msps"
       ]
      }
     ],
     "device": "cuda",
     "experiment_name": "tl_3-filterv2:oracle.run1.framed -> cores",
     "lr": 0.0001,
     "n_epoch": 50,
     "n_query": 2,
     "n_shot": 3,
     "n_way": 16,
     "patience": 3,
     "seed": 420,
     "test_k_factor": 2,
     "torch_default_dtype": "torch.float32",
     "train_k_factor": 3,
     "val_k_factor": 2,
     "x_net": [
      {
       "class": "nnReshape",
       "kargs": {
        "shape": [
         -1,
         1,
         2,
         200
        ]
       }
      },
      {
       "class": "Conv2d",
       "kargs": {
        "bias": false,
        "in_channels": 1,
        "kernel_size": [
         1,
         7
        ],
        "out_channels": 256,
        "padding": [
         0,
         3
        ]
       }
      },
      {
       "class": "ReLU",
       "kargs": {
        "inplace": true
       }
      },
      {
       "class": "BatchNorm2d",
       "kargs": {
        "num_features": 256
       }
      },
      {
       "class": "Conv2d",
       "kargs": {
        "bias": true,
        "in_channels": 256,
        "kernel_size": [
         2,
         7
        ],
        "out_channels": 80,
        "padding": [
         0,
         3
        ]
       }
      },
      {
       "class": "ReLU",
       "kargs": {
        "inplace": true
       }
      },
      {
       "class": "BatchNorm2d",
       "kargs": {
        "num_features": 80
       }
      },
      {
       "class": "Flatten",
       "kargs": {}
      },
      {
       "class": "Linear",
       "kargs": {
        "in_features": 16000,
        "out_features": 256
       }
      },
      {
       "class": "ReLU",
       "kargs": {
        "inplace": true
       }
      },
      {
       "class": "BatchNorm1d",
       "kargs": {
        "num_features": 256
       }
      },
      {
       "class": "Linear",
       "kargs": {
        "in_features": 256,
        "out_features": 256
       }
      }
     ],
     "x_shape": [
      2,
      200
     ]
    }
   },
   "start_time": "2022-03-25T23:54:48.586981",
   "version": "2.3.4"
  }
 },
 "nbformat": 4,
 "nbformat_minor": 5
}