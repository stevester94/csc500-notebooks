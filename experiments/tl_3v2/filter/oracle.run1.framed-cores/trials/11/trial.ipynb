{
 "cells": [
  {
   "cell_type": "markdown",
   "id": "9fea5f46",
   "metadata": {
    "papermill": {
     "duration": 0.020275,
     "end_time": "2022-03-26T03:02:12.766496",
     "exception": false,
     "start_time": "2022-03-26T03:02:12.746221",
     "status": "completed"
    },
    "tags": []
   },
   "source": [
    "# Transfer Learning Template"
   ]
  },
  {
   "cell_type": "code",
   "execution_count": 1,
   "id": "0902182a",
   "metadata": {
    "execution": {
     "iopub.execute_input": "2022-03-26T03:02:12.808976Z",
     "iopub.status.busy": "2022-03-26T03:02:12.808401Z",
     "iopub.status.idle": "2022-03-26T03:02:13.887907Z",
     "shell.execute_reply": "2022-03-26T03:02:13.888319Z"
    },
    "papermill": {
     "duration": 1.106624,
     "end_time": "2022-03-26T03:02:13.888518",
     "exception": false,
     "start_time": "2022-03-26T03:02:12.781894",
     "status": "completed"
    },
    "tags": []
   },
   "outputs": [],
   "source": [
    "%load_ext autoreload\n",
    "%autoreload 2\n",
    "%matplotlib inline\n",
    "\n",
    "    \n",
    "import os, json, sys, time, random\n",
    "import numpy as np\n",
    "import torch\n",
    "from torch.optim import Adam\n",
    "from  easydict import EasyDict\n",
    "import matplotlib.pyplot as plt\n",
    "\n",
    "from steves_models.steves_ptn import Steves_Prototypical_Network\n",
    "\n",
    "from steves_utils.lazy_iterable_wrapper import Lazy_Iterable_Wrapper\n",
    "from steves_utils.iterable_aggregator import Iterable_Aggregator\n",
    "from steves_utils.ptn_train_eval_test_jig import  PTN_Train_Eval_Test_Jig\n",
    "from steves_utils.torch_sequential_builder import build_sequential\n",
    "from steves_utils.torch_utils import get_dataset_metrics, ptn_confusion_by_domain_over_dataloader\n",
    "from steves_utils.utils_v2 import (per_domain_accuracy_from_confusion, get_datasets_base_path)\n",
    "from steves_utils.PTN.utils import independent_accuracy_assesment\n",
    "\n",
    "from torch.utils.data import DataLoader\n",
    "\n",
    "from steves_utils.stratified_dataset.episodic_accessor import Episodic_Accessor_Factory\n",
    "\n",
    "from steves_utils.ptn_do_report import (\n",
    "    get_loss_curve,\n",
    "    get_results_table,\n",
    "    get_parameters_table,\n",
    "    get_domain_accuracies,\n",
    ")\n",
    "\n",
    "from steves_utils.transforms import get_chained_transform"
   ]
  },
  {
   "cell_type": "markdown",
   "id": "41c840b4",
   "metadata": {
    "papermill": {
     "duration": 0.013605,
     "end_time": "2022-03-26T03:02:13.920847",
     "exception": false,
     "start_time": "2022-03-26T03:02:13.907242",
     "status": "completed"
    },
    "tags": []
   },
   "source": [
    "# Allowed Parameters\n",
    "These are allowed parameters, not defaults\n",
    "Each of these values need to be present in the injected parameters (the notebook will raise an exception if they are not present)\n",
    "\n",
    "Papermill uses the cell tag \"parameters\" to inject the real parameters below this cell.\n",
    "Enable tags to see what I mean"
   ]
  },
  {
   "cell_type": "code",
   "execution_count": 2,
   "id": "fd44eb83",
   "metadata": {
    "execution": {
     "iopub.execute_input": "2022-03-26T03:02:13.950037Z",
     "iopub.status.busy": "2022-03-26T03:02:13.949755Z",
     "iopub.status.idle": "2022-03-26T03:02:13.965330Z",
     "shell.execute_reply": "2022-03-26T03:02:13.965760Z"
    },
    "papermill": {
     "duration": 0.032129,
     "end_time": "2022-03-26T03:02:13.965897",
     "exception": false,
     "start_time": "2022-03-26T03:02:13.933768",
     "status": "completed"
    },
    "tags": []
   },
   "outputs": [],
   "source": [
    "required_parameters = {\n",
    "    \"experiment_name\",\n",
    "    \"lr\",\n",
    "    \"device\",\n",
    "    \"seed\",\n",
    "    \"dataset_seed\",\n",
    "    \"n_shot\",\n",
    "    \"n_query\",\n",
    "    \"n_way\",\n",
    "    \"train_k_factor\",\n",
    "    \"val_k_factor\",\n",
    "    \"test_k_factor\",\n",
    "    \"n_epoch\",\n",
    "    \"patience\",\n",
    "    \"criteria_for_best\",\n",
    "    \"x_net\",\n",
    "    \"datasets\",\n",
    "    \"torch_default_dtype\",\n",
    "    \"NUM_LOGS_PER_EPOCH\",\n",
    "    \"BEST_MODEL_PATH\",\n",
    "    \"x_shape\",\n",
    "}"
   ]
  },
  {
   "cell_type": "code",
   "execution_count": 3,
   "id": "fa3f0049",
   "metadata": {
    "execution": {
     "iopub.execute_input": "2022-03-26T03:02:14.005966Z",
     "iopub.status.busy": "2022-03-26T03:02:14.005657Z",
     "iopub.status.idle": "2022-03-26T03:02:14.021040Z",
     "shell.execute_reply": "2022-03-26T03:02:14.021471Z"
    },
    "papermill": {
     "duration": 0.037402,
     "end_time": "2022-03-26T03:02:14.021607",
     "exception": false,
     "start_time": "2022-03-26T03:02:13.984205",
     "status": "completed"
    },
    "tags": [
     "parameters"
    ]
   },
   "outputs": [],
   "source": [
    "from steves_utils.CORES.utils import (\n",
    "    ALL_NODES,\n",
    "    ALL_NODES_MINIMUM_1000_EXAMPLES,\n",
    "    ALL_DAYS\n",
    ")\n",
    "\n",
    "from steves_utils.ORACLE.utils_v2 import (\n",
    "    ALL_DISTANCES_FEET_NARROWED,\n",
    "    ALL_RUNS,\n",
    "    ALL_SERIAL_NUMBERS,\n",
    ")\n",
    "\n",
    "standalone_parameters = {}\n",
    "standalone_parameters[\"experiment_name\"] = \"STANDALONE PTN\"\n",
    "standalone_parameters[\"lr\"] = 0.001\n",
    "standalone_parameters[\"device\"] = \"cuda\"\n",
    "\n",
    "standalone_parameters[\"seed\"] = 1337\n",
    "standalone_parameters[\"dataset_seed\"] = 1337\n",
    "\n",
    "standalone_parameters[\"n_way\"] = 8\n",
    "standalone_parameters[\"n_shot\"] = 3\n",
    "standalone_parameters[\"n_query\"]  = 2\n",
    "standalone_parameters[\"train_k_factor\"] = 1\n",
    "standalone_parameters[\"val_k_factor\"] = 2\n",
    "standalone_parameters[\"test_k_factor\"] = 2\n",
    "\n",
    "\n",
    "standalone_parameters[\"n_epoch\"] = 50\n",
    "\n",
    "standalone_parameters[\"patience\"] = 10\n",
    "standalone_parameters[\"criteria_for_best\"] = \"source_loss\"\n",
    "\n",
    "standalone_parameters[\"datasets\"] = [\n",
    "    {\n",
    "        \"labels\": ALL_SERIAL_NUMBERS,\n",
    "        \"domains\": ALL_DISTANCES_FEET_NARROWED,\n",
    "        \"num_examples_per_domain_per_label\": 100,\n",
    "        \"pickle_path\": os.path.join(get_datasets_base_path(), \"oracle.Run1_framed_2000Examples_stratified_ds.2022A.pkl\"),\n",
    "        \"source_or_target_dataset\": \"source\",\n",
    "        \"x_transforms\": [\"unit_mag\", \"minus_two\"],\n",
    "        \"episode_transforms\": [],\n",
    "        \"domain_prefix\": \"ORACLE_\"\n",
    "    },\n",
    "    {\n",
    "        \"labels\": ALL_NODES,\n",
    "        \"domains\": ALL_DAYS,\n",
    "        \"num_examples_per_domain_per_label\": 100,\n",
    "        \"pickle_path\": os.path.join(get_datasets_base_path(), \"cores.stratified_ds.2022A.pkl\"),\n",
    "        \"source_or_target_dataset\": \"target\",\n",
    "        \"x_transforms\": [\"unit_power\", \"times_zero\"],\n",
    "        \"episode_transforms\": [],\n",
    "        \"domain_prefix\": \"CORES_\"\n",
    "    }   \n",
    "]\n",
    "\n",
    "standalone_parameters[\"torch_default_dtype\"] = \"torch.float32\" \n",
    "\n",
    "\n",
    "\n",
    "standalone_parameters[\"x_net\"] =     [\n",
    "    {\"class\": \"nnReshape\", \"kargs\": {\"shape\":[-1, 1, 2, 256]}},\n",
    "    {\"class\": \"Conv2d\", \"kargs\": { \"in_channels\":1, \"out_channels\":256, \"kernel_size\":(1,7), \"bias\":False, \"padding\":(0,3), },},\n",
    "    {\"class\": \"ReLU\", \"kargs\": {\"inplace\": True}},\n",
    "    {\"class\": \"BatchNorm2d\", \"kargs\": {\"num_features\":256}},\n",
    "\n",
    "    {\"class\": \"Conv2d\", \"kargs\": { \"in_channels\":256, \"out_channels\":80, \"kernel_size\":(2,7), \"bias\":True, \"padding\":(0,3), },},\n",
    "    {\"class\": \"ReLU\", \"kargs\": {\"inplace\": True}},\n",
    "    {\"class\": \"BatchNorm2d\", \"kargs\": {\"num_features\":80}},\n",
    "    {\"class\": \"Flatten\", \"kargs\": {}},\n",
    "\n",
    "    {\"class\": \"Linear\", \"kargs\": {\"in_features\": 80*256, \"out_features\": 256}}, # 80 units per IQ pair\n",
    "    {\"class\": \"ReLU\", \"kargs\": {\"inplace\": True}},\n",
    "    {\"class\": \"BatchNorm1d\", \"kargs\": {\"num_features\":256}},\n",
    "\n",
    "    {\"class\": \"Linear\", \"kargs\": {\"in_features\": 256, \"out_features\": 256}},\n",
    "]\n",
    "\n",
    "# Parameters relevant to results\n",
    "# These parameters will basically never need to change\n",
    "standalone_parameters[\"NUM_LOGS_PER_EPOCH\"] = 10\n",
    "standalone_parameters[\"BEST_MODEL_PATH\"] = \"./best_model.pth\"\n",
    "\n",
    "\n",
    "\n",
    "\n"
   ]
  },
  {
   "cell_type": "code",
   "execution_count": 4,
   "id": "c002bc01",
   "metadata": {
    "execution": {
     "iopub.execute_input": "2022-03-26T03:02:14.061800Z",
     "iopub.status.busy": "2022-03-26T03:02:14.061495Z",
     "iopub.status.idle": "2022-03-26T03:02:14.073758Z",
     "shell.execute_reply": "2022-03-26T03:02:14.074177Z"
    },
    "papermill": {
     "duration": 0.034982,
     "end_time": "2022-03-26T03:02:14.074307",
     "exception": false,
     "start_time": "2022-03-26T03:02:14.039325",
     "status": "completed"
    },
    "tags": [
     "injected-parameters"
    ]
   },
   "outputs": [],
   "source": [
    "# Parameters\n",
    "parameters = {\n",
    "    \"experiment_name\": \"tl_3-filterv2:oracle.run1.framed -> cores\",\n",
    "    \"device\": \"cuda\",\n",
    "    \"lr\": 0.0001,\n",
    "    \"x_shape\": [2, 200],\n",
    "    \"n_shot\": 3,\n",
    "    \"n_query\": 2,\n",
    "    \"train_k_factor\": 3,\n",
    "    \"val_k_factor\": 2,\n",
    "    \"test_k_factor\": 2,\n",
    "    \"torch_default_dtype\": \"torch.float32\",\n",
    "    \"n_epoch\": 50,\n",
    "    \"patience\": 3,\n",
    "    \"criteria_for_best\": \"target_accuracy\",\n",
    "    \"x_net\": [\n",
    "        {\"class\": \"nnReshape\", \"kargs\": {\"shape\": [-1, 1, 2, 200]}},\n",
    "        {\n",
    "            \"class\": \"Conv2d\",\n",
    "            \"kargs\": {\n",
    "                \"in_channels\": 1,\n",
    "                \"out_channels\": 256,\n",
    "                \"kernel_size\": [1, 7],\n",
    "                \"bias\": False,\n",
    "                \"padding\": [0, 3],\n",
    "            },\n",
    "        },\n",
    "        {\"class\": \"ReLU\", \"kargs\": {\"inplace\": True}},\n",
    "        {\"class\": \"BatchNorm2d\", \"kargs\": {\"num_features\": 256}},\n",
    "        {\n",
    "            \"class\": \"Conv2d\",\n",
    "            \"kargs\": {\n",
    "                \"in_channels\": 256,\n",
    "                \"out_channels\": 80,\n",
    "                \"kernel_size\": [2, 7],\n",
    "                \"bias\": True,\n",
    "                \"padding\": [0, 3],\n",
    "            },\n",
    "        },\n",
    "        {\"class\": \"ReLU\", \"kargs\": {\"inplace\": True}},\n",
    "        {\"class\": \"BatchNorm2d\", \"kargs\": {\"num_features\": 80}},\n",
    "        {\"class\": \"Flatten\", \"kargs\": {}},\n",
    "        {\"class\": \"Linear\", \"kargs\": {\"in_features\": 16000, \"out_features\": 256}},\n",
    "        {\"class\": \"ReLU\", \"kargs\": {\"inplace\": True}},\n",
    "        {\"class\": \"BatchNorm1d\", \"kargs\": {\"num_features\": 256}},\n",
    "        {\"class\": \"Linear\", \"kargs\": {\"in_features\": 256, \"out_features\": 256}},\n",
    "    ],\n",
    "    \"NUM_LOGS_PER_EPOCH\": 10,\n",
    "    \"BEST_MODEL_PATH\": \"./best_model.pth\",\n",
    "    \"n_way\": 16,\n",
    "    \"datasets\": [\n",
    "        {\n",
    "            \"labels\": [\n",
    "                \"1-10.\",\n",
    "                \"1-11.\",\n",
    "                \"1-15.\",\n",
    "                \"1-16.\",\n",
    "                \"1-17.\",\n",
    "                \"1-18.\",\n",
    "                \"1-19.\",\n",
    "                \"10-4.\",\n",
    "                \"10-7.\",\n",
    "                \"11-1.\",\n",
    "                \"11-14.\",\n",
    "                \"11-17.\",\n",
    "                \"11-20.\",\n",
    "                \"11-7.\",\n",
    "                \"13-20.\",\n",
    "                \"13-8.\",\n",
    "                \"14-10.\",\n",
    "                \"14-11.\",\n",
    "                \"14-14.\",\n",
    "                \"14-7.\",\n",
    "                \"15-1.\",\n",
    "                \"15-20.\",\n",
    "                \"16-1.\",\n",
    "                \"16-16.\",\n",
    "                \"17-10.\",\n",
    "                \"17-11.\",\n",
    "                \"17-2.\",\n",
    "                \"19-1.\",\n",
    "                \"19-16.\",\n",
    "                \"19-19.\",\n",
    "                \"19-20.\",\n",
    "                \"19-3.\",\n",
    "                \"2-10.\",\n",
    "                \"2-11.\",\n",
    "                \"2-17.\",\n",
    "                \"2-18.\",\n",
    "                \"2-20.\",\n",
    "                \"2-3.\",\n",
    "                \"2-4.\",\n",
    "                \"2-5.\",\n",
    "                \"2-6.\",\n",
    "                \"2-7.\",\n",
    "                \"2-8.\",\n",
    "                \"3-13.\",\n",
    "                \"3-18.\",\n",
    "                \"3-3.\",\n",
    "                \"4-1.\",\n",
    "                \"4-10.\",\n",
    "                \"4-11.\",\n",
    "                \"4-19.\",\n",
    "                \"5-5.\",\n",
    "                \"6-15.\",\n",
    "                \"7-10.\",\n",
    "                \"7-14.\",\n",
    "                \"8-18.\",\n",
    "                \"8-20.\",\n",
    "                \"8-3.\",\n",
    "                \"8-8.\",\n",
    "            ],\n",
    "            \"domains\": [1, 2, 3, 4, 5],\n",
    "            \"num_examples_per_domain_per_label\": -1,\n",
    "            \"pickle_path\": \"/mnt/wd500GB/CSC500/csc500-main/datasets/cores.stratified_ds.2022A.pkl\",\n",
    "            \"source_or_target_dataset\": \"target\",\n",
    "            \"x_transforms\": [\"lowpass_+/-10MHz\", \"take_200\"],\n",
    "            \"episode_transforms\": [],\n",
    "            \"domain_prefix\": \"C_\",\n",
    "        },\n",
    "        {\n",
    "            \"labels\": [\n",
    "                \"3123D52\",\n",
    "                \"3123D65\",\n",
    "                \"3123D79\",\n",
    "                \"3123D80\",\n",
    "                \"3123D54\",\n",
    "                \"3123D70\",\n",
    "                \"3123D7B\",\n",
    "                \"3123D89\",\n",
    "                \"3123D58\",\n",
    "                \"3123D76\",\n",
    "                \"3123D7D\",\n",
    "                \"3123EFE\",\n",
    "                \"3123D64\",\n",
    "                \"3123D78\",\n",
    "                \"3123D7E\",\n",
    "                \"3124E4A\",\n",
    "            ],\n",
    "            \"domains\": [32, 38, 8, 44, 14, 50, 20, 26],\n",
    "            \"num_examples_per_domain_per_label\": 2000,\n",
    "            \"pickle_path\": \"/mnt/wd500GB/CSC500/csc500-main/datasets/oracle.Run1_framed_2000Examples_stratified_ds.2022A.pkl\",\n",
    "            \"source_or_target_dataset\": \"source\",\n",
    "            \"x_transforms\": [\"take_200\", \"resample_20Msps_to_25Msps\"],\n",
    "            \"episode_transforms\": [],\n",
    "            \"domain_prefix\": \"O_\",\n",
    "        },\n",
    "    ],\n",
    "    \"seed\": 7,\n",
    "    \"dataset_seed\": 7,\n",
    "}\n"
   ]
  },
  {
   "cell_type": "code",
   "execution_count": 5,
   "id": "8fa1cc33",
   "metadata": {
    "execution": {
     "iopub.execute_input": "2022-03-26T03:02:14.105547Z",
     "iopub.status.busy": "2022-03-26T03:02:14.105257Z",
     "iopub.status.idle": "2022-03-26T03:02:14.116774Z",
     "shell.execute_reply": "2022-03-26T03:02:14.116432Z"
    },
    "papermill": {
     "duration": 0.027079,
     "end_time": "2022-03-26T03:02:14.116859",
     "exception": false,
     "start_time": "2022-03-26T03:02:14.089780",
     "status": "completed"
    },
    "tags": []
   },
   "outputs": [],
   "source": [
    "# Set this to True if you want to run this template directly\n",
    "STANDALONE = False\n",
    "if STANDALONE:\n",
    "    print(\"parameters not injected, running with standalone_parameters\")\n",
    "    parameters = standalone_parameters\n",
    "\n",
    "if not 'parameters' in locals() and not 'parameters' in globals():\n",
    "    raise Exception(\"Parameter injection failed\")\n",
    "\n",
    "#Use an easy dict for all the parameters\n",
    "p = EasyDict(parameters)\n",
    "\n",
    "if \"x_shape\" not in p:\n",
    "    p.x_shape = [2,256] # Default to this if we dont supply x_shape\n",
    "\n",
    "\n",
    "supplied_keys = set(p.keys())\n",
    "\n",
    "if  supplied_keys != required_parameters:\n",
    "    print(\"Parameters are incorrect\")\n",
    "    if len(supplied_keys - required_parameters)>0: print(\"Shouldn't have:\", str(supplied_keys - required_parameters))\n",
    "    if len(required_parameters - supplied_keys)>0: print(\"Need to have:\", str(required_parameters - supplied_keys))\n",
    "    raise RuntimeError(\"Parameters are incorrect\")"
   ]
  },
  {
   "cell_type": "code",
   "execution_count": 6,
   "id": "3a028d58",
   "metadata": {
    "execution": {
     "iopub.execute_input": "2022-03-26T03:02:14.148357Z",
     "iopub.status.busy": "2022-03-26T03:02:14.148098Z",
     "iopub.status.idle": "2022-03-26T03:02:14.160694Z",
     "shell.execute_reply": "2022-03-26T03:02:14.161102Z"
    },
    "papermill": {
     "duration": 0.029115,
     "end_time": "2022-03-26T03:02:14.161230",
     "exception": false,
     "start_time": "2022-03-26T03:02:14.132115",
     "status": "completed"
    },
    "tags": []
   },
   "outputs": [],
   "source": [
    "###################################\n",
    "# Set the RNGs and make it all deterministic\n",
    "###################################\n",
    "np.random.seed(p.seed)\n",
    "random.seed(p.seed)\n",
    "torch.manual_seed(p.seed)\n",
    "\n",
    "torch.use_deterministic_algorithms(True) "
   ]
  },
  {
   "cell_type": "code",
   "execution_count": 7,
   "id": "b691acf6",
   "metadata": {
    "execution": {
     "iopub.execute_input": "2022-03-26T03:02:14.194672Z",
     "iopub.status.busy": "2022-03-26T03:02:14.194146Z",
     "iopub.status.idle": "2022-03-26T03:02:14.209520Z",
     "shell.execute_reply": "2022-03-26T03:02:14.209934Z"
    },
    "papermill": {
     "duration": 0.030684,
     "end_time": "2022-03-26T03:02:14.210078",
     "exception": false,
     "start_time": "2022-03-26T03:02:14.179394",
     "status": "completed"
    },
    "tags": []
   },
   "outputs": [],
   "source": [
    "###########################################\n",
    "# The stratified datasets honor this\n",
    "###########################################\n",
    "torch.set_default_dtype(eval(p.torch_default_dtype))"
   ]
  },
  {
   "cell_type": "code",
   "execution_count": 8,
   "id": "b5fba671",
   "metadata": {
    "execution": {
     "iopub.execute_input": "2022-03-26T03:02:14.243676Z",
     "iopub.status.busy": "2022-03-26T03:02:14.243414Z",
     "iopub.status.idle": "2022-03-26T03:02:14.279707Z",
     "shell.execute_reply": "2022-03-26T03:02:14.279227Z"
    },
    "papermill": {
     "duration": 0.051579,
     "end_time": "2022-03-26T03:02:14.279819",
     "exception": false,
     "start_time": "2022-03-26T03:02:14.228240",
     "status": "completed"
    },
    "tags": []
   },
   "outputs": [],
   "source": [
    "###################################\n",
    "# Build the network(s)\n",
    "# Note: It's critical to do this AFTER setting the RNG\n",
    "###################################\n",
    "x_net = build_sequential(p.x_net)"
   ]
  },
  {
   "cell_type": "code",
   "execution_count": 9,
   "id": "5d7e61cc",
   "metadata": {
    "execution": {
     "iopub.execute_input": "2022-03-26T03:02:14.314724Z",
     "iopub.status.busy": "2022-03-26T03:02:14.313891Z",
     "iopub.status.idle": "2022-03-26T03:02:14.330057Z",
     "shell.execute_reply": "2022-03-26T03:02:14.330501Z"
    },
    "papermill": {
     "duration": 0.031574,
     "end_time": "2022-03-26T03:02:14.330635",
     "exception": false,
     "start_time": "2022-03-26T03:02:14.299061",
     "status": "completed"
    },
    "tags": []
   },
   "outputs": [],
   "source": [
    "start_time_secs = time.time()"
   ]
  },
  {
   "cell_type": "code",
   "execution_count": 10,
   "id": "c6b67dfd",
   "metadata": {
    "execution": {
     "iopub.execute_input": "2022-03-26T03:02:14.361935Z",
     "iopub.status.busy": "2022-03-26T03:02:14.361673Z",
     "iopub.status.idle": "2022-03-26T03:02:14.376012Z",
     "shell.execute_reply": "2022-03-26T03:02:14.376300Z"
    },
    "papermill": {
     "duration": 0.030032,
     "end_time": "2022-03-26T03:02:14.376392",
     "exception": false,
     "start_time": "2022-03-26T03:02:14.346360",
     "status": "completed"
    },
    "tags": []
   },
   "outputs": [],
   "source": [
    "p.domains_source = []\n",
    "p.domains_target = []\n",
    "\n",
    "\n",
    "train_original_source = []\n",
    "val_original_source   = []\n",
    "test_original_source  = []\n",
    "\n",
    "train_original_target = []\n",
    "val_original_target   = []\n",
    "test_original_target  = []"
   ]
  },
  {
   "cell_type": "code",
   "execution_count": 11,
   "id": "e3d9c3d3",
   "metadata": {
    "execution": {
     "iopub.execute_input": "2022-03-26T03:02:14.408905Z",
     "iopub.status.busy": "2022-03-26T03:02:14.408645Z",
     "iopub.status.idle": "2022-03-26T03:02:14.421844Z",
     "shell.execute_reply": "2022-03-26T03:02:14.422258Z"
    },
    "papermill": {
     "duration": 0.029179,
     "end_time": "2022-03-26T03:02:14.422389",
     "exception": false,
     "start_time": "2022-03-26T03:02:14.393210",
     "status": "completed"
    },
    "tags": []
   },
   "outputs": [],
   "source": [
    "# global_x_transform_func = lambda x: normalize(x.to(torch.get_default_dtype()), \"unit_power\") # unit_power, unit_mag\n",
    "# global_x_transform_func = lambda x: normalize(x, \"unit_power\") # unit_power, unit_mag"
   ]
  },
  {
   "cell_type": "code",
   "execution_count": 12,
   "id": "acb78fd2",
   "metadata": {
    "execution": {
     "iopub.execute_input": "2022-03-26T03:02:14.461045Z",
     "iopub.status.busy": "2022-03-26T03:02:14.460773Z",
     "iopub.status.idle": "2022-03-26T03:02:14.477146Z",
     "shell.execute_reply": "2022-03-26T03:02:14.477542Z"
    },
    "papermill": {
     "duration": 0.037086,
     "end_time": "2022-03-26T03:02:14.477676",
     "exception": false,
     "start_time": "2022-03-26T03:02:14.440590",
     "status": "completed"
    },
    "tags": []
   },
   "outputs": [],
   "source": [
    "def add_dataset(\n",
    "    labels,\n",
    "    domains,\n",
    "    pickle_path,\n",
    "    x_transforms,\n",
    "    episode_transforms,\n",
    "    domain_prefix,\n",
    "    num_examples_per_domain_per_label,\n",
    "    source_or_target_dataset:str,\n",
    "    iterator_seed=p.seed,\n",
    "    dataset_seed=p.dataset_seed,\n",
    "    n_shot=p.n_shot,\n",
    "    n_way=p.n_way,\n",
    "    n_query=p.n_query,\n",
    "    train_val_test_k_factors=(p.train_k_factor,p.val_k_factor,p.test_k_factor),\n",
    "):\n",
    "   \n",
    "    if x_transforms == []: x_transform = None\n",
    "    else: x_transform = get_chained_transform(x_transforms)\n",
    "    \n",
    "    if episode_transforms == []: episode_transform = None\n",
    "    else: raise Exception(\"episode_transforms not implemented\")\n",
    "    \n",
    "    episode_transform = lambda tup, _prefix=domain_prefix: (_prefix + str(tup[0]), tup[1])\n",
    "\n",
    "\n",
    "    eaf = Episodic_Accessor_Factory(\n",
    "        labels=labels,\n",
    "        domains=domains,\n",
    "        num_examples_per_domain_per_label=num_examples_per_domain_per_label,\n",
    "        iterator_seed=iterator_seed,\n",
    "        dataset_seed=dataset_seed,\n",
    "        n_shot=n_shot,\n",
    "        n_way=n_way,\n",
    "        n_query=n_query,\n",
    "        train_val_test_k_factors=train_val_test_k_factors,\n",
    "        pickle_path=pickle_path,\n",
    "        x_transform_func=x_transform,\n",
    "    )\n",
    "\n",
    "    train, val, test = eaf.get_train(), eaf.get_val(), eaf.get_test()\n",
    "    train = Lazy_Iterable_Wrapper(train, episode_transform)\n",
    "    val = Lazy_Iterable_Wrapper(val, episode_transform)\n",
    "    test = Lazy_Iterable_Wrapper(test, episode_transform)\n",
    "\n",
    "    if source_or_target_dataset==\"source\":\n",
    "        train_original_source.append(train)\n",
    "        val_original_source.append(val)\n",
    "        test_original_source.append(test)\n",
    "\n",
    "        p.domains_source.extend(\n",
    "            [domain_prefix + str(u) for u in domains]\n",
    "        )\n",
    "    elif source_or_target_dataset==\"target\":\n",
    "        train_original_target.append(train)\n",
    "        val_original_target.append(val)\n",
    "        test_original_target.append(test)\n",
    "        p.domains_target.extend(\n",
    "            [domain_prefix + str(u) for u in domains]\n",
    "        )\n",
    "    else:\n",
    "        raise Exception(f\"invalid source_or_target_dataset: {source_or_target_dataset}\")\n",
    "    "
   ]
  },
  {
   "cell_type": "code",
   "execution_count": 13,
   "id": "fe266617",
   "metadata": {
    "execution": {
     "iopub.execute_input": "2022-03-26T03:02:14.511620Z",
     "iopub.status.busy": "2022-03-26T03:02:14.511365Z",
     "iopub.status.idle": "2022-03-26T03:02:33.280375Z",
     "shell.execute_reply": "2022-03-26T03:02:33.280128Z"
    },
    "papermill": {
     "duration": 18.784683,
     "end_time": "2022-03-26T03:02:33.280444",
     "exception": false,
     "start_time": "2022-03-26T03:02:14.495761",
     "status": "completed"
    },
    "tags": []
   },
   "outputs": [],
   "source": [
    "for ds in p.datasets:\n",
    "    add_dataset(**ds)"
   ]
  },
  {
   "cell_type": "code",
   "execution_count": 14,
   "id": "b90d65ac",
   "metadata": {
    "execution": {
     "iopub.execute_input": "2022-03-26T03:02:33.310086Z",
     "iopub.status.busy": "2022-03-26T03:02:33.309658Z",
     "iopub.status.idle": "2022-03-26T03:02:33.320977Z",
     "shell.execute_reply": "2022-03-26T03:02:33.320704Z"
    },
    "papermill": {
     "duration": 0.026375,
     "end_time": "2022-03-26T03:02:33.321037",
     "exception": false,
     "start_time": "2022-03-26T03:02:33.294662",
     "status": "completed"
    },
    "tags": []
   },
   "outputs": [],
   "source": [
    "# from steves_utils.CORES.utils import (\n",
    "#     ALL_NODES,\n",
    "#     ALL_NODES_MINIMUM_1000_EXAMPLES,\n",
    "#     ALL_DAYS\n",
    "# )\n",
    "\n",
    "# add_dataset(\n",
    "#     labels=ALL_NODES,\n",
    "#     domains = ALL_DAYS,\n",
    "#     num_examples_per_domain_per_label=100,\n",
    "#     pickle_path=os.path.join(get_datasets_base_path(), \"cores.stratified_ds.2022A.pkl\"),\n",
    "#     source_or_target_dataset=\"target\",\n",
    "#     x_transform_func=global_x_transform_func,\n",
    "#     domain_modifier=lambda u: f\"cores_{u}\"\n",
    "# )"
   ]
  },
  {
   "cell_type": "code",
   "execution_count": 15,
   "id": "76db484d",
   "metadata": {
    "execution": {
     "iopub.execute_input": "2022-03-26T03:02:33.353080Z",
     "iopub.status.busy": "2022-03-26T03:02:33.352013Z",
     "iopub.status.idle": "2022-03-26T03:02:33.368667Z",
     "shell.execute_reply": "2022-03-26T03:02:33.368239Z"
    },
    "papermill": {
     "duration": 0.031855,
     "end_time": "2022-03-26T03:02:33.368768",
     "exception": false,
     "start_time": "2022-03-26T03:02:33.336913",
     "status": "completed"
    },
    "tags": []
   },
   "outputs": [],
   "source": [
    "# from steves_utils.ORACLE.utils_v2 import (\n",
    "#     ALL_DISTANCES_FEET,\n",
    "#     ALL_RUNS,\n",
    "#     ALL_SERIAL_NUMBERS,\n",
    "# )\n",
    "\n",
    "\n",
    "# add_dataset(\n",
    "#     labels=ALL_SERIAL_NUMBERS,\n",
    "#     domains = list(set(ALL_DISTANCES_FEET) - {2,62}),\n",
    "#     num_examples_per_domain_per_label=100,\n",
    "#     pickle_path=os.path.join(get_datasets_base_path(), \"oracle.Run2_framed_2000Examples_stratified_ds.2022A.pkl\"),\n",
    "#     source_or_target_dataset=\"source\",\n",
    "#     x_transform_func=global_x_transform_func,\n",
    "#     domain_modifier=lambda u: f\"oracle1_{u}\"\n",
    "# )\n"
   ]
  },
  {
   "cell_type": "code",
   "execution_count": 16,
   "id": "97dea9d2",
   "metadata": {
    "execution": {
     "iopub.execute_input": "2022-03-26T03:02:33.403240Z",
     "iopub.status.busy": "2022-03-26T03:02:33.402986Z",
     "iopub.status.idle": "2022-03-26T03:02:33.419891Z",
     "shell.execute_reply": "2022-03-26T03:02:33.419396Z"
    },
    "papermill": {
     "duration": 0.032443,
     "end_time": "2022-03-26T03:02:33.419992",
     "exception": false,
     "start_time": "2022-03-26T03:02:33.387549",
     "status": "completed"
    },
    "tags": []
   },
   "outputs": [],
   "source": [
    "# from steves_utils.ORACLE.utils_v2 import (\n",
    "#     ALL_DISTANCES_FEET,\n",
    "#     ALL_RUNS,\n",
    "#     ALL_SERIAL_NUMBERS,\n",
    "# )\n",
    "\n",
    "\n",
    "# add_dataset(\n",
    "#     labels=ALL_SERIAL_NUMBERS,\n",
    "#     domains = list(set(ALL_DISTANCES_FEET) - {2,62,56}),\n",
    "#     num_examples_per_domain_per_label=100,\n",
    "#     pickle_path=os.path.join(get_datasets_base_path(), \"oracle.Run2_framed_2000Examples_stratified_ds.2022A.pkl\"),\n",
    "#     source_or_target_dataset=\"source\",\n",
    "#     x_transform_func=global_x_transform_func,\n",
    "#     domain_modifier=lambda u: f\"oracle2_{u}\"\n",
    "# )"
   ]
  },
  {
   "cell_type": "code",
   "execution_count": 17,
   "id": "6f289866",
   "metadata": {
    "execution": {
     "iopub.execute_input": "2022-03-26T03:02:33.458731Z",
     "iopub.status.busy": "2022-03-26T03:02:33.453720Z",
     "iopub.status.idle": "2022-03-26T03:02:33.469749Z",
     "shell.execute_reply": "2022-03-26T03:02:33.469305Z"
    },
    "papermill": {
     "duration": 0.032233,
     "end_time": "2022-03-26T03:02:33.469858",
     "exception": false,
     "start_time": "2022-03-26T03:02:33.437625",
     "status": "completed"
    },
    "tags": []
   },
   "outputs": [],
   "source": [
    "# add_dataset(\n",
    "#     labels=list(range(19)),\n",
    "#     domains = [0,1,2],\n",
    "#     num_examples_per_domain_per_label=100,\n",
    "#     pickle_path=os.path.join(get_datasets_base_path(), \"metehan.stratified_ds.2022A.pkl\"),\n",
    "#     source_or_target_dataset=\"target\",\n",
    "#     x_transform_func=global_x_transform_func,\n",
    "#     domain_modifier=lambda u: f\"met_{u}\"\n",
    "# )"
   ]
  },
  {
   "cell_type": "code",
   "execution_count": 18,
   "id": "86a863c3",
   "metadata": {
    "execution": {
     "iopub.execute_input": "2022-03-26T03:02:33.511776Z",
     "iopub.status.busy": "2022-03-26T03:02:33.509142Z",
     "iopub.status.idle": "2022-03-26T03:02:33.525277Z",
     "shell.execute_reply": "2022-03-26T03:02:33.525003Z"
    },
    "papermill": {
     "duration": 0.033216,
     "end_time": "2022-03-26T03:02:33.525339",
     "exception": false,
     "start_time": "2022-03-26T03:02:33.492123",
     "status": "completed"
    },
    "tags": []
   },
   "outputs": [],
   "source": [
    "# # from steves_utils.wisig.utils import (\n",
    "# #     ALL_NODES_MINIMUM_100_EXAMPLES,\n",
    "# #     ALL_NODES_MINIMUM_500_EXAMPLES,\n",
    "# #     ALL_NODES_MINIMUM_1000_EXAMPLES,\n",
    "# #     ALL_DAYS\n",
    "# # )\n",
    "\n",
    "# import steves_utils.wisig.utils as wisig\n",
    "\n",
    "\n",
    "# add_dataset(\n",
    "#     labels=wisig.ALL_NODES_MINIMUM_100_EXAMPLES,\n",
    "#     domains = wisig.ALL_DAYS,\n",
    "#     num_examples_per_domain_per_label=100,\n",
    "#     pickle_path=os.path.join(get_datasets_base_path(), \"wisig.node3-19.stratified_ds.2022A.pkl\"),\n",
    "#     source_or_target_dataset=\"target\",\n",
    "#     x_transform_func=global_x_transform_func,\n",
    "#     domain_modifier=lambda u: f\"wisig_{u}\"\n",
    "# )"
   ]
  },
  {
   "cell_type": "code",
   "execution_count": 19,
   "id": "fd5442bc",
   "metadata": {
    "execution": {
     "iopub.execute_input": "2022-03-26T03:02:33.562670Z",
     "iopub.status.busy": "2022-03-26T03:02:33.562360Z",
     "iopub.status.idle": "2022-03-26T03:02:33.575128Z",
     "shell.execute_reply": "2022-03-26T03:02:33.574858Z"
    },
    "papermill": {
     "duration": 0.031789,
     "end_time": "2022-03-26T03:02:33.575188",
     "exception": false,
     "start_time": "2022-03-26T03:02:33.543399",
     "status": "completed"
    },
    "tags": []
   },
   "outputs": [],
   "source": [
    "###################################\n",
    "# Build the dataset\n",
    "###################################\n",
    "train_original_source = Iterable_Aggregator(train_original_source, p.seed)\n",
    "val_original_source = Iterable_Aggregator(val_original_source, p.seed)\n",
    "test_original_source = Iterable_Aggregator(test_original_source, p.seed)\n",
    "\n",
    "\n",
    "train_original_target = Iterable_Aggregator(train_original_target, p.seed)\n",
    "val_original_target = Iterable_Aggregator(val_original_target, p.seed)\n",
    "test_original_target = Iterable_Aggregator(test_original_target, p.seed)\n",
    "\n",
    "# For CNN We only use X and Y. And we only train on the source.\n",
    "# Properly form the data using a transform lambda and Lazy_Iterable_Wrapper. Finally wrap them in a dataloader\n",
    "\n",
    "transform_lambda = lambda ex: ex[1] # Original is (<domain>, <episode>) so we strip down to episode only\n",
    "\n",
    "train_processed_source = Lazy_Iterable_Wrapper(train_original_source, transform_lambda)\n",
    "val_processed_source   = Lazy_Iterable_Wrapper(val_original_source, transform_lambda)\n",
    "test_processed_source  = Lazy_Iterable_Wrapper(test_original_source, transform_lambda)\n",
    "\n",
    "train_processed_target = Lazy_Iterable_Wrapper(train_original_target, transform_lambda)\n",
    "val_processed_target   = Lazy_Iterable_Wrapper(val_original_target, transform_lambda)\n",
    "test_processed_target  = Lazy_Iterable_Wrapper(test_original_target, transform_lambda)\n",
    "\n",
    "datasets = EasyDict({\n",
    "    \"source\": {\n",
    "        \"original\": {\"train\":train_original_source, \"val\":val_original_source, \"test\":test_original_source},\n",
    "        \"processed\": {\"train\":train_processed_source, \"val\":val_processed_source, \"test\":test_processed_source}\n",
    "    },\n",
    "    \"target\": {\n",
    "        \"original\": {\"train\":train_original_target, \"val\":val_original_target, \"test\":test_original_target},\n",
    "        \"processed\": {\"train\":train_processed_target, \"val\":val_processed_target, \"test\":test_processed_target}\n",
    "    },\n",
    "})"
   ]
  },
  {
   "cell_type": "code",
   "execution_count": 20,
   "id": "5b3c01fc",
   "metadata": {
    "execution": {
     "iopub.execute_input": "2022-03-26T03:02:33.606678Z",
     "iopub.status.busy": "2022-03-26T03:02:33.606420Z",
     "iopub.status.idle": "2022-03-26T03:02:40.646276Z",
     "shell.execute_reply": "2022-03-26T03:02:40.646701Z"
    },
    "papermill": {
     "duration": 7.057227,
     "end_time": "2022-03-26T03:02:40.646812",
     "exception": false,
     "start_time": "2022-03-26T03:02:33.589585",
     "status": "completed"
    },
    "tags": []
   },
   "outputs": [
    {
     "name": "stdout",
     "output_type": "stream",
     "text": [
      "{'O_44', 'O_50', 'O_32', 'O_26', 'O_14', 'O_20', 'O_8', 'O_38'}\n"
     ]
    },
    {
     "name": "stdout",
     "output_type": "stream",
     "text": [
      "{'C_3', 'C_2', 'C_4', 'C_5', 'C_1'}\n"
     ]
    },
    {
     "name": "stdout",
     "output_type": "stream",
     "text": [
      "tensor([[[ 3.1434e-03,  3.7554e-03, -1.8905e-03,  ...,  2.2772e-03,\n",
      "           2.3300e-03,  4.2678e-03],\n",
      "         [-1.9837e-03,  4.6420e-04,  3.4934e-03,  ...,  3.3349e-03,\n",
      "           2.6754e-03, -1.3018e-03]],\n",
      "\n",
      "        [[ 1.5564e-03,  4.2065e-03,  1.5516e-04,  ...,  1.9070e-03,\n",
      "          -1.6537e-03,  2.0926e-03],\n",
      "         [-1.3123e-03,  1.8021e-03,  2.1467e-03,  ...,  1.4137e-03,\n",
      "           4.0193e-03,  2.1977e-03]],\n",
      "\n",
      "        [[-1.2207e-03, -2.8396e-03,  7.4901e-04,  ..., -1.8585e-03,\n",
      "           3.4975e-03,  1.2451e-04],\n",
      "         [ 9.1556e-04, -2.8302e-03, -2.4988e-03,  ..., -1.6700e-03,\n",
      "          -3.3653e-03, -2.7786e-03]],\n",
      "\n",
      "        ...,\n",
      "\n",
      "        [[-1.5564e-03, -4.1560e-03, -3.7407e-04,  ..., -3.3586e-03,\n",
      "          -3.3234e-03, -4.0958e-03],\n",
      "         [ 3.6927e-03,  1.8084e-03, -3.5948e-03,  ..., -1.8767e-03,\n",
      "          -1.9392e-03,  2.1053e-03]],\n",
      "\n",
      "        [[ 1.8921e-03,  7.7376e-04, -2.2046e-03,  ..., -1.7055e-04,\n",
      "          -4.4538e-03, -1.0563e-03],\n",
      "         [-1.7347e-18,  4.1088e-03,  1.2757e-03,  ...,  2.6277e-03,\n",
      "           6.4771e-04,  2.8180e-03]],\n",
      "\n",
      "        [[ 3.5707e-03,  3.4724e-03, -2.6740e-03,  ...,  1.6250e-03,\n",
      "           2.3603e-03,  5.3100e-03],\n",
      "         [-2.0142e-03,  8.2626e-04,  3.4413e-03,  ...,  3.5086e-03,\n",
      "           2.5881e-03, -9.8195e-04]]])\n"
     ]
    }
   ],
   "source": [
    "from steves_utils.transforms import get_average_magnitude, get_average_power\n",
    "\n",
    "print(set([u for u,_ in val_original_source]))\n",
    "print(set([u for u,_ in val_original_target]))\n",
    "\n",
    "s_x, s_y, q_x, q_y, _ = next(iter(train_processed_source))\n",
    "print(s_x)\n",
    "\n",
    "# for ds in [\n",
    "#     train_processed_source,\n",
    "#     val_processed_source,\n",
    "#     test_processed_source,\n",
    "#     train_processed_target,\n",
    "#     val_processed_target,\n",
    "#     test_processed_target\n",
    "# ]:\n",
    "#     for s_x, s_y, q_x, q_y, _ in ds:\n",
    "#         for X in (s_x, q_x):\n",
    "#             for x in X:\n",
    "#                 assert np.isclose(get_average_magnitude(x.numpy()), 1.0)\n",
    "#                 assert np.isclose(get_average_power(x.numpy()), 1.0)\n",
    "                "
   ]
  },
  {
   "cell_type": "code",
   "execution_count": 21,
   "id": "bbdacba1",
   "metadata": {
    "execution": {
     "iopub.execute_input": "2022-03-26T03:02:40.688150Z",
     "iopub.status.busy": "2022-03-26T03:02:40.687874Z",
     "iopub.status.idle": "2022-03-26T03:02:40.740674Z",
     "shell.execute_reply": "2022-03-26T03:02:40.740165Z"
    },
    "papermill": {
     "duration": 0.073287,
     "end_time": "2022-03-26T03:02:40.740783",
     "exception": false,
     "start_time": "2022-03-26T03:02:40.667496",
     "status": "completed"
    },
    "tags": []
   },
   "outputs": [
    {
     "name": "stdout",
     "output_type": "stream",
     "text": [
      "(2, 200)\n"
     ]
    }
   ],
   "source": [
    "###################################\n",
    "# Build the model\n",
    "###################################\n",
    "# easfsl only wants a tuple for the shape\n",
    "model = Steves_Prototypical_Network(x_net, device=p.device, x_shape=tuple(p.x_shape))\n",
    "optimizer = Adam(params=model.parameters(), lr=p.lr)"
   ]
  },
  {
   "cell_type": "code",
   "execution_count": 22,
   "id": "22b39ac5",
   "metadata": {
    "execution": {
     "iopub.execute_input": "2022-03-26T03:02:40.785618Z",
     "iopub.status.busy": "2022-03-26T03:02:40.785354Z",
     "iopub.status.idle": "2022-03-26T03:26:24.203560Z",
     "shell.execute_reply": "2022-03-26T03:26:24.203326Z"
    },
    "papermill": {
     "duration": 1423.438596,
     "end_time": "2022-03-26T03:26:24.203620",
     "exception": false,
     "start_time": "2022-03-26T03:02:40.765024",
     "status": "completed"
    },
    "tags": []
   },
   "outputs": [
    {
     "name": "stdout",
     "output_type": "stream",
     "text": [
      "epoch: 1, [batch: 1 / 6720], examples_per_second: 46.0113, train_label_loss: 2.8816, \n"
     ]
    },
    {
     "name": "stdout",
     "output_type": "stream",
     "text": [
      "epoch: 1, [batch: 672 / 6720], examples_per_second: 1866.8727, train_label_loss: 0.4878, \n"
     ]
    },
    {
     "name": "stdout",
     "output_type": "stream",
     "text": [
      "epoch: 1, [batch: 1344 / 6720], examples_per_second: 1862.1732, train_label_loss: 0.5842, \n"
     ]
    },
    {
     "name": "stdout",
     "output_type": "stream",
     "text": [
      "epoch: 1, [batch: 2016 / 6720], examples_per_second: 1863.0708, train_label_loss: 0.7384, \n"
     ]
    },
    {
     "name": "stdout",
     "output_type": "stream",
     "text": [
      "epoch: 1, [batch: 2688 / 6720], examples_per_second: 1859.0299, train_label_loss: 0.4045, \n"
     ]
    },
    {
     "name": "stdout",
     "output_type": "stream",
     "text": [
      "epoch: 1, [batch: 3360 / 6720], examples_per_second: 2255.3655, train_label_loss: 0.2153, \n"
     ]
    },
    {
     "name": "stdout",
     "output_type": "stream",
     "text": [
      "epoch: 1, [batch: 4032 / 6720], examples_per_second: 2371.1255, train_label_loss: 0.4718, \n"
     ]
    },
    {
     "name": "stdout",
     "output_type": "stream",
     "text": [
      "epoch: 1, [batch: 4704 / 6720], examples_per_second: 2295.2996, train_label_loss: 0.7307, \n"
     ]
    },
    {
     "name": "stdout",
     "output_type": "stream",
     "text": [
      "epoch: 1, [batch: 5376 / 6720], examples_per_second: 2342.1730, train_label_loss: 0.3856, \n"
     ]
    },
    {
     "name": "stdout",
     "output_type": "stream",
     "text": [
      "epoch: 1, [batch: 6048 / 6720], examples_per_second: 2232.3756, train_label_loss: 0.2401, \n"
     ]
    },
    {
     "name": "stdout",
     "output_type": "stream",
     "text": [
      "=============================================================\n",
      "epoch: 1, source_val_acc_label: 0.6312, target_val_acc_label: 0.6729, source_val_label_loss: 157.3761, target_val_label_loss: 8642.9619, \n",
      "=============================================================\n"
     ]
    },
    {
     "name": "stdout",
     "output_type": "stream",
     "text": [
      "New best\n"
     ]
    },
    {
     "name": "stdout",
     "output_type": "stream",
     "text": [
      "epoch: 2, [batch: 1 / 6720], examples_per_second: 4.2306, train_label_loss: 319.1660, \n"
     ]
    },
    {
     "name": "stdout",
     "output_type": "stream",
     "text": [
      "epoch: 2, [batch: 672 / 6720], examples_per_second: 3561.3158, train_label_loss: 1.4439, \n"
     ]
    },
    {
     "name": "stdout",
     "output_type": "stream",
     "text": [
      "epoch: 2, [batch: 1344 / 6720], examples_per_second: 3573.2125, train_label_loss: 2.3294, \n"
     ]
    },
    {
     "name": "stdout",
     "output_type": "stream",
     "text": [
      "epoch: 2, [batch: 2016 / 6720], examples_per_second: 3579.4928, train_label_loss: 0.2740, \n"
     ]
    },
    {
     "name": "stdout",
     "output_type": "stream",
     "text": [
      "epoch: 2, [batch: 2688 / 6720], examples_per_second: 3599.2375, train_label_loss: 0.3630, \n"
     ]
    },
    {
     "name": "stdout",
     "output_type": "stream",
     "text": [
      "epoch: 2, [batch: 3360 / 6720], examples_per_second: 3600.9626, train_label_loss: 0.1614, \n"
     ]
    },
    {
     "name": "stdout",
     "output_type": "stream",
     "text": [
      "epoch: 2, [batch: 4032 / 6720], examples_per_second: 3581.8565, train_label_loss: 0.7821, \n"
     ]
    },
    {
     "name": "stdout",
     "output_type": "stream",
     "text": [
      "epoch: 2, [batch: 4704 / 6720], examples_per_second: 2460.3315, train_label_loss: 0.3634, \n"
     ]
    },
    {
     "name": "stdout",
     "output_type": "stream",
     "text": [
      "epoch: 2, [batch: 5376 / 6720], examples_per_second: 1862.0383, train_label_loss: 0.2941, \n"
     ]
    },
    {
     "name": "stdout",
     "output_type": "stream",
     "text": [
      "epoch: 2, [batch: 6048 / 6720], examples_per_second: 1864.9140, train_label_loss: 0.3226, \n"
     ]
    },
    {
     "name": "stdout",
     "output_type": "stream",
     "text": [
      "=============================================================\n",
      "epoch: 2, source_val_acc_label: 0.8634, target_val_acc_label: 0.4738, source_val_label_loss: 0.3920, target_val_label_loss: 1303.1433, \n",
      "=============================================================\n"
     ]
    },
    {
     "name": "stdout",
     "output_type": "stream",
     "text": [
      "epoch: 3, [batch: 1 / 6720], examples_per_second: 2.7260, train_label_loss: 0.1694, \n"
     ]
    },
    {
     "name": "stdout",
     "output_type": "stream",
     "text": [
      "epoch: 3, [batch: 672 / 6720], examples_per_second: 1862.8390, train_label_loss: 0.3058, \n"
     ]
    },
    {
     "name": "stdout",
     "output_type": "stream",
     "text": [
      "epoch: 3, [batch: 1344 / 6720], examples_per_second: 1866.0376, train_label_loss: 0.2546, \n"
     ]
    },
    {
     "name": "stdout",
     "output_type": "stream",
     "text": [
      "epoch: 3, [batch: 2016 / 6720], examples_per_second: 1862.8721, train_label_loss: 0.2884, \n"
     ]
    },
    {
     "name": "stdout",
     "output_type": "stream",
     "text": [
      "epoch: 3, [batch: 2688 / 6720], examples_per_second: 1859.0165, train_label_loss: 0.3605, \n"
     ]
    },
    {
     "name": "stdout",
     "output_type": "stream",
     "text": [
      "epoch: 3, [batch: 3360 / 6720], examples_per_second: 1860.9089, train_label_loss: 0.4261, \n"
     ]
    },
    {
     "name": "stdout",
     "output_type": "stream",
     "text": [
      "epoch: 3, [batch: 4032 / 6720], examples_per_second: 2255.7391, train_label_loss: 0.2991, \n"
     ]
    },
    {
     "name": "stdout",
     "output_type": "stream",
     "text": [
      "epoch: 3, [batch: 4704 / 6720], examples_per_second: 2284.9059, train_label_loss: 0.3371, \n"
     ]
    },
    {
     "name": "stdout",
     "output_type": "stream",
     "text": [
      "epoch: 3, [batch: 5376 / 6720], examples_per_second: 1863.7249, train_label_loss: 0.5422, \n"
     ]
    },
    {
     "name": "stdout",
     "output_type": "stream",
     "text": [
      "epoch: 3, [batch: 6048 / 6720], examples_per_second: 1866.2557, train_label_loss: 0.2210, \n"
     ]
    },
    {
     "name": "stdout",
     "output_type": "stream",
     "text": [
      "=============================================================\n",
      "epoch: 3, source_val_acc_label: 0.8917, target_val_acc_label: 0.4145, source_val_label_loss: 0.3446, target_val_label_loss: 1500.8994, \n",
      "=============================================================\n"
     ]
    },
    {
     "name": "stdout",
     "output_type": "stream",
     "text": [
      "epoch: 4, [batch: 1 / 6720], examples_per_second: 2.7218, train_label_loss: 0.5294, \n"
     ]
    },
    {
     "name": "stdout",
     "output_type": "stream",
     "text": [
      "epoch: 4, [batch: 672 / 6720], examples_per_second: 1862.7892, train_label_loss: 0.3079, \n"
     ]
    },
    {
     "name": "stdout",
     "output_type": "stream",
     "text": [
      "epoch: 4, [batch: 1344 / 6720], examples_per_second: 1868.4419, train_label_loss: 0.4591, \n"
     ]
    },
    {
     "name": "stdout",
     "output_type": "stream",
     "text": [
      "epoch: 4, [batch: 2016 / 6720], examples_per_second: 1865.6573, train_label_loss: 0.2311, \n"
     ]
    },
    {
     "name": "stdout",
     "output_type": "stream",
     "text": [
      "epoch: 4, [batch: 2688 / 6720], examples_per_second: 1861.6359, train_label_loss: 0.4302, \n"
     ]
    },
    {
     "name": "stdout",
     "output_type": "stream",
     "text": [
      "epoch: 4, [batch: 3360 / 6720], examples_per_second: 1865.1312, train_label_loss: 0.6248, \n"
     ]
    },
    {
     "name": "stdout",
     "output_type": "stream",
     "text": [
      "epoch: 4, [batch: 4032 / 6720], examples_per_second: 2233.3538, train_label_loss: 0.0832, \n"
     ]
    },
    {
     "name": "stdout",
     "output_type": "stream",
     "text": [
      "epoch: 4, [batch: 4704 / 6720], examples_per_second: 2248.3045, train_label_loss: 0.3422, \n"
     ]
    },
    {
     "name": "stdout",
     "output_type": "stream",
     "text": [
      "epoch: 4, [batch: 5376 / 6720], examples_per_second: 1864.0453, train_label_loss: 0.1931, \n"
     ]
    },
    {
     "name": "stdout",
     "output_type": "stream",
     "text": [
      "epoch: 4, [batch: 6048 / 6720], examples_per_second: 1860.1457, train_label_loss: 0.2345, \n"
     ]
    },
    {
     "name": "stdout",
     "output_type": "stream",
     "text": [
      "=============================================================\n",
      "epoch: 4, source_val_acc_label: 0.8879, target_val_acc_label: 0.4950, source_val_label_loss: 0.3206, target_val_label_loss: 979.3105, \n",
      "=============================================================\n"
     ]
    },
    {
     "name": "stdout",
     "output_type": "stream",
     "text": [
      "epoch: 5, [batch: 1 / 6720], examples_per_second: 2.7129, train_label_loss: 0.3081, \n"
     ]
    },
    {
     "name": "stdout",
     "output_type": "stream",
     "text": [
      "epoch: 5, [batch: 672 / 6720], examples_per_second: 1864.5220, train_label_loss: 0.3657, \n"
     ]
    },
    {
     "name": "stdout",
     "output_type": "stream",
     "text": [
      "epoch: 5, [batch: 1344 / 6720], examples_per_second: 1867.9031, train_label_loss: 0.2701, \n"
     ]
    },
    {
     "name": "stdout",
     "output_type": "stream",
     "text": [
      "epoch: 5, [batch: 2016 / 6720], examples_per_second: 1864.6029, train_label_loss: 0.3524, \n"
     ]
    },
    {
     "name": "stdout",
     "output_type": "stream",
     "text": [
      "epoch: 5, [batch: 2688 / 6720], examples_per_second: 1861.8566, train_label_loss: 0.1553, \n"
     ]
    },
    {
     "name": "stdout",
     "output_type": "stream",
     "text": [
      "epoch: 5, [batch: 3360 / 6720], examples_per_second: 1865.3706, train_label_loss: 0.2343, \n"
     ]
    },
    {
     "name": "stdout",
     "output_type": "stream",
     "text": [
      "epoch: 5, [batch: 4032 / 6720], examples_per_second: 2246.6094, train_label_loss: 0.2609, \n"
     ]
    },
    {
     "name": "stdout",
     "output_type": "stream",
     "text": [
      "epoch: 5, [batch: 4704 / 6720], examples_per_second: 2262.5180, train_label_loss: 0.3175, \n"
     ]
    },
    {
     "name": "stdout",
     "output_type": "stream",
     "text": [
      "epoch: 5, [batch: 5376 / 6720], examples_per_second: 1862.1643, train_label_loss: 0.1618, \n"
     ]
    },
    {
     "name": "stdout",
     "output_type": "stream",
     "text": [
      "epoch: 5, [batch: 6048 / 6720], examples_per_second: 1864.8746, train_label_loss: 0.1149, \n"
     ]
    },
    {
     "name": "stdout",
     "output_type": "stream",
     "text": [
      "=============================================================\n",
      "epoch: 5, source_val_acc_label: 0.9020, target_val_acc_label: 0.5503, source_val_label_loss: 0.2871, target_val_label_loss: 722.6002, \n",
      "=============================================================\n"
     ]
    },
    {
     "name": "stdout",
     "output_type": "stream",
     "text": [
      "Patience (3) exhausted\n"
     ]
    }
   ],
   "source": [
    "###################################\n",
    "# train\n",
    "###################################\n",
    "jig = PTN_Train_Eval_Test_Jig(model, p.BEST_MODEL_PATH, p.device)\n",
    "\n",
    "jig.train(\n",
    "    train_iterable=datasets.source.processed.train,\n",
    "    source_val_iterable=datasets.source.processed.val,\n",
    "    target_val_iterable=datasets.target.processed.val,\n",
    "    num_epochs=p.n_epoch,\n",
    "    num_logs_per_epoch=p.NUM_LOGS_PER_EPOCH,\n",
    "    patience=p.patience,\n",
    "    optimizer=optimizer,\n",
    "    criteria_for_best=p.criteria_for_best,\n",
    ")"
   ]
  },
  {
   "cell_type": "code",
   "execution_count": 23,
   "id": "31e8fabf",
   "metadata": {
    "execution": {
     "iopub.execute_input": "2022-03-26T03:26:24.257589Z",
     "iopub.status.busy": "2022-03-26T03:26:24.257329Z",
     "iopub.status.idle": "2022-03-26T03:26:24.277213Z",
     "shell.execute_reply": "2022-03-26T03:26:24.276695Z"
    },
    "papermill": {
     "duration": 0.047971,
     "end_time": "2022-03-26T03:26:24.277324",
     "exception": false,
     "start_time": "2022-03-26T03:26:24.229353",
     "status": "completed"
    },
    "tags": []
   },
   "outputs": [],
   "source": [
    "total_experiment_time_secs = time.time() - start_time_secs"
   ]
  },
  {
   "cell_type": "code",
   "execution_count": 24,
   "id": "87b9595b",
   "metadata": {
    "execution": {
     "iopub.execute_input": "2022-03-26T03:26:24.341106Z",
     "iopub.status.busy": "2022-03-26T03:26:24.340539Z",
     "iopub.status.idle": "2022-03-26T03:28:54.688623Z",
     "shell.execute_reply": "2022-03-26T03:28:54.689134Z"
    },
    "papermill": {
     "duration": 150.379603,
     "end_time": "2022-03-26T03:28:54.689291",
     "exception": false,
     "start_time": "2022-03-26T03:26:24.309688",
     "status": "completed"
    },
    "tags": []
   },
   "outputs": [],
   "source": [
    "###################################\n",
    "# Evaluate the model\n",
    "###################################\n",
    "source_test_label_accuracy, source_test_label_loss = jig.test(datasets.source.processed.test)\n",
    "target_test_label_accuracy, target_test_label_loss = jig.test(datasets.target.processed.test)\n",
    "\n",
    "source_val_label_accuracy, source_val_label_loss = jig.test(datasets.source.processed.val)\n",
    "target_val_label_accuracy, target_val_label_loss = jig.test(datasets.target.processed.val)\n",
    "\n",
    "history = jig.get_history()\n",
    "\n",
    "total_epochs_trained = len(history[\"epoch_indices\"])\n",
    "\n",
    "val_dl = Iterable_Aggregator((datasets.source.original.val,datasets.target.original.val))\n",
    "\n",
    "confusion = ptn_confusion_by_domain_over_dataloader(model, p.device, val_dl)\n",
    "per_domain_accuracy = per_domain_accuracy_from_confusion(confusion)\n",
    "\n",
    "# Add a key to per_domain_accuracy for if it was a source domain\n",
    "for domain, accuracy in per_domain_accuracy.items():\n",
    "    per_domain_accuracy[domain] = {\n",
    "        \"accuracy\": accuracy,\n",
    "        \"source?\": domain in p.domains_source\n",
    "    }\n",
    "\n",
    "# Do an independent accuracy assesment JUST TO BE SURE!\n",
    "# _source_test_label_accuracy = independent_accuracy_assesment(model, datasets.source.processed.test, p.device)\n",
    "# _target_test_label_accuracy = independent_accuracy_assesment(model, datasets.target.processed.test, p.device)\n",
    "# _source_val_label_accuracy = independent_accuracy_assesment(model, datasets.source.processed.val, p.device)\n",
    "# _target_val_label_accuracy = independent_accuracy_assesment(model, datasets.target.processed.val, p.device)\n",
    "\n",
    "# assert(_source_test_label_accuracy == source_test_label_accuracy)\n",
    "# assert(_target_test_label_accuracy == target_test_label_accuracy)\n",
    "# assert(_source_val_label_accuracy == source_val_label_accuracy)\n",
    "# assert(_target_val_label_accuracy == target_val_label_accuracy)\n",
    "\n",
    "experiment = {\n",
    "    \"experiment_name\": p.experiment_name,\n",
    "    \"parameters\": dict(p),\n",
    "    \"results\": {\n",
    "        \"source_test_label_accuracy\": source_test_label_accuracy,\n",
    "        \"source_test_label_loss\": source_test_label_loss,\n",
    "        \"target_test_label_accuracy\": target_test_label_accuracy,\n",
    "        \"target_test_label_loss\": target_test_label_loss,\n",
    "        \"source_val_label_accuracy\": source_val_label_accuracy,\n",
    "        \"source_val_label_loss\": source_val_label_loss,\n",
    "        \"target_val_label_accuracy\": target_val_label_accuracy,\n",
    "        \"target_val_label_loss\": target_val_label_loss,\n",
    "        \"total_epochs_trained\": total_epochs_trained,\n",
    "        \"total_experiment_time_secs\": total_experiment_time_secs,\n",
    "        \"confusion\": confusion,\n",
    "        \"per_domain_accuracy\": per_domain_accuracy,\n",
    "    },\n",
    "    \"history\": history,\n",
    "    \"dataset_metrics\": get_dataset_metrics(datasets, \"ptn\"),\n",
    "}"
   ]
  },
  {
   "cell_type": "code",
   "execution_count": 25,
   "id": "54a21829",
   "metadata": {
    "execution": {
     "iopub.execute_input": "2022-03-26T03:28:54.753823Z",
     "iopub.status.busy": "2022-03-26T03:28:54.753459Z",
     "iopub.status.idle": "2022-03-26T03:28:54.873446Z",
     "shell.execute_reply": "2022-03-26T03:28:54.873844Z"
    },
    "papermill": {
     "duration": 0.152837,
     "end_time": "2022-03-26T03:28:54.873975",
     "exception": false,
     "start_time": "2022-03-26T03:28:54.721138",
     "status": "completed"
    },
    "tags": []
   },
   "outputs": [
    {
     "data": {
      "image/png": "[encoded data removed]",
      "text/plain": [
       "<Figure size 1080x504 with 1 Axes>"
      ]
     },
     "metadata": {
      "needs_background": "light"
     },
     "output_type": "display_data"
    }
   ],
   "source": [
    "ax = get_loss_curve(experiment)\n",
    "plt.show()"
   ]
  },
  {
   "cell_type": "code",
   "execution_count": 26,
   "id": "fd8a0f60",
   "metadata": {
    "execution": {
     "iopub.execute_input": "2022-03-26T03:28:54.943082Z",
     "iopub.status.busy": "2022-03-26T03:28:54.942816Z",
     "iopub.status.idle": "2022-03-26T03:28:55.092874Z",
     "shell.execute_reply": "2022-03-26T03:28:55.093260Z"
    },
    "papermill": {
     "duration": 0.18669,
     "end_time": "2022-03-26T03:28:55.093383",
     "exception": false,
     "start_time": "2022-03-26T03:28:54.906693",
     "status": "completed"
    },
    "tags": []
   },
   "outputs": [
    {
     "data": {
      "text/plain": [
       "<AxesSubplot:title={'center':'Results'}>"
      ]
     },
     "execution_count": 26,
     "metadata": {},
     "output_type": "execute_result"
    },
    {
     "data": {
      "image/png": "[encoded data removed]",
      "text/plain": [
       "<Figure size 1080x504 with 1 Axes>"
      ]
     },
     "metadata": {
      "needs_background": "light"
     },
     "output_type": "display_data"
    }
   ],
   "source": [
    "get_results_table(experiment)"
   ]
  },
  {
   "cell_type": "code",
   "execution_count": 27,
   "id": "cf8dc689",
   "metadata": {
    "execution": {
     "iopub.execute_input": "2022-03-26T03:28:55.154141Z",
     "iopub.status.busy": "2022-03-26T03:28:55.153860Z",
     "iopub.status.idle": "2022-03-26T03:28:55.291714Z",
     "shell.execute_reply": "2022-03-26T03:28:55.291066Z"
    },
    "papermill": {
     "duration": 0.168895,
     "end_time": "2022-03-26T03:28:55.291874",
     "exception": false,
     "start_time": "2022-03-26T03:28:55.122979",
     "status": "completed"
    },
    "tags": []
   },
   "outputs": [
    {
     "data": {
      "text/plain": [
       "<AxesSubplot:title={'center':'Per Domain Validation Accuracy'}, xlabel='domain'>"
      ]
     },
     "execution_count": 27,
     "metadata": {},
     "output_type": "execute_result"
    },
    {
     "data": {
      "image/png": "[encoded data removed]",
      "text/plain": [
       "<Figure size 1080x504 with 1 Axes>"
      ]
     },
     "metadata": {
      "needs_background": "light"
     },
     "output_type": "display_data"
    }
   ],
   "source": [
    "get_domain_accuracies(experiment)"
   ]
  },
  {
   "cell_type": "code",
   "execution_count": 28,
   "id": "a74ae082",
   "metadata": {
    "execution": {
     "iopub.execute_input": "2022-03-26T03:28:55.359216Z",
     "iopub.status.busy": "2022-03-26T03:28:55.357856Z",
     "iopub.status.idle": "2022-03-26T03:28:55.375924Z",
     "shell.execute_reply": "2022-03-26T03:28:55.376344Z"
    },
    "papermill": {
     "duration": 0.050291,
     "end_time": "2022-03-26T03:28:55.376474",
     "exception": false,
     "start_time": "2022-03-26T03:28:55.326183",
     "status": "completed"
    },
    "tags": []
   },
   "outputs": [
    {
     "name": "stdout",
     "output_type": "stream",
     "text": [
      "Source Test Label Accuracy: 0.63154296875 Target Test Label Accuracy: 0.6761652542372881\n",
      "Source Val Label Accuracy: 0.6312174479166667 Target Val Label Accuracy: 0.6728928571428572\n"
     ]
    }
   ],
   "source": [
    "print(\"Source Test Label Accuracy:\", experiment[\"results\"][\"source_test_label_accuracy\"], \"Target Test Label Accuracy:\", experiment[\"results\"][\"target_test_label_accuracy\"])\n",
    "print(\"Source Val Label Accuracy:\", experiment[\"results\"][\"source_val_label_accuracy\"], \"Target Val Label Accuracy:\", experiment[\"results\"][\"target_val_label_accuracy\"])"
   ]
  },
  {
   "cell_type": "code",
   "execution_count": 29,
   "id": "dacca602",
   "metadata": {
    "execution": {
     "iopub.execute_input": "2022-03-26T03:28:55.447063Z",
     "iopub.status.busy": "2022-03-26T03:28:55.446666Z",
     "iopub.status.idle": "2022-03-26T03:28:55.463536Z",
     "shell.execute_reply": "2022-03-26T03:28:55.463765Z"
    },
    "papermill": {
     "duration": 0.052858,
     "end_time": "2022-03-26T03:28:55.463847",
     "exception": false,
     "start_time": "2022-03-26T03:28:55.410989",
     "status": "completed"
    },
    "tags": [
     "experiment_json"
    ]
   },
   "outputs": [
    {
     "data": {
      "text/plain": [
       "'{\"experiment_name\": \"tl_3-filterv2:oracle.run1.framed -> cores\", \"parameters\": {\"experiment_name\": \"tl_3-filterv2:oracle.run1.framed -> cores\", \"device\": \"cuda\", \"lr\": 0.0001, \"x_shape\": [2, 200], \"n_shot\": 3, \"n_query\": 2, \"train_k_factor\": 3, \"val_k_factor\": 2, \"test_k_factor\": 2, \"torch_default_dtype\": \"torch.float32\", \"n_epoch\": 50, \"patience\": 3, \"criteria_for_best\": \"target_accuracy\", \"x_net\": [{\"class\": \"nnReshape\", \"kargs\": {\"shape\": [-1, 1, 2, 200]}}, {\"class\": \"Conv2d\", \"kargs\": {\"in_channels\": 1, \"out_channels\": 256, \"kernel_size\": [1, 7], \"bias\": false, \"padding\": [0, 3]}}, {\"class\": \"ReLU\", \"kargs\": {\"inplace\": true}}, {\"class\": \"BatchNorm2d\", \"kargs\": {\"num_features\": 256}}, {\"class\": \"Conv2d\", \"kargs\": {\"in_channels\": 256, \"out_channels\": 80, \"kernel_size\": [2, 7], \"bias\": true, \"padding\": [0, 3]}}, {\"class\": \"ReLU\", \"kargs\": {\"inplace\": true}}, {\"class\": \"BatchNorm2d\", \"kargs\": {\"num_features\": 80}}, {\"class\": \"Flatten\", \"kargs\": {}}, {\"class\": \"Linear\", \"kargs\": {\"in_features\": 16000, \"out_features\": 256}}, {\"class\": \"ReLU\", \"kargs\": {\"inplace\": true}}, {\"class\": \"BatchNorm1d\", \"kargs\": {\"num_features\": 256}}, {\"class\": \"Linear\", \"kargs\": {\"in_features\": 256, \"out_features\": 256}}], \"NUM_LOGS_PER_EPOCH\": 10, \"BEST_MODEL_PATH\": \"./best_model.pth\", \"n_way\": 16, \"datasets\": [{\"labels\": [\"1-10.\", \"1-11.\", \"1-15.\", \"1-16.\", \"1-17.\", \"1-18.\", \"1-19.\", \"10-4.\", \"10-7.\", \"11-1.\", \"11-14.\", \"11-17.\", \"11-20.\", \"11-7.\", \"13-20.\", \"13-8.\", \"14-10.\", \"14-11.\", \"14-14.\", \"14-7.\", \"15-1.\", \"15-20.\", \"16-1.\", \"16-16.\", \"17-10.\", \"17-11.\", \"17-2.\", \"19-1.\", \"19-16.\", \"19-19.\", \"19-20.\", \"19-3.\", \"2-10.\", \"2-11.\", \"2-17.\", \"2-18.\", \"2-20.\", \"2-3.\", \"2-4.\", \"2-5.\", \"2-6.\", \"2-7.\", \"2-8.\", \"3-13.\", \"3-18.\", \"3-3.\", \"4-1.\", \"4-10.\", \"4-11.\", \"4-19.\", \"5-5.\", \"6-15.\", \"7-10.\", \"7-14.\", \"8-18.\", \"8-20.\", \"8-3.\", \"8-8.\"], \"domains\": [1, 2, 3, 4, 5], \"num_examples_per_domain_per_label\": -1, \"pickle_path\": \"/mnt/wd500GB/CSC500/csc500-main/datasets/cores.stratified_ds.2022A.pkl\", \"source_or_target_dataset\": \"target\", \"x_transforms\": [\"lowpass_+/-10MHz\", \"take_200\"], \"episode_transforms\": [], \"domain_prefix\": \"C_\"}, {\"labels\": [\"3123D52\", \"3123D65\", \"3123D79\", \"3123D80\", \"3123D54\", \"3123D70\", \"3123D7B\", \"3123D89\", \"3123D58\", \"3123D76\", \"3123D7D\", \"3123EFE\", \"3123D64\", \"3123D78\", \"3123D7E\", \"3124E4A\"], \"domains\": [32, 38, 8, 44, 14, 50, 20, 26], \"num_examples_per_domain_per_label\": 2000, \"pickle_path\": \"/mnt/wd500GB/CSC500/csc500-main/datasets/oracle.Run1_framed_2000Examples_stratified_ds.2022A.pkl\", \"source_or_target_dataset\": \"source\", \"x_transforms\": [\"take_200\", \"resample_20Msps_to_25Msps\"], \"episode_transforms\": [], \"domain_prefix\": \"O_\"}], \"seed\": 7, \"dataset_seed\": 7, \"domains_source\": [\"O_32\", \"O_38\", \"O_8\", \"O_44\", \"O_14\", \"O_50\", \"O_20\", \"O_26\"], \"domains_target\": [\"C_1\", \"C_2\", \"C_3\", \"C_4\", \"C_5\"]}, \"results\": {\"source_test_label_accuracy\": 0.63154296875, \"source_test_label_loss\": 158.9626922607422, \"target_test_label_accuracy\": 0.6761652542372881, \"target_test_label_loss\": 8780.75390625, \"source_val_label_accuracy\": 0.6312174479166667, \"source_val_label_loss\": 157.37611389160156, \"target_val_label_accuracy\": 0.6728928571428572, \"target_val_label_loss\": 8642.9619140625, \"total_epochs_trained\": 5, \"total_experiment_time_secs\": 1449.946317434311, \"confusion\": {\"O_26\": {\"0\": {\"0\": 98, \"14\": 78, \"10\": 24, \"8\": 5, \"15\": 13, \"5\": 6, \"9\": 2, \"7\": 4, \"2\": 3, \"3\": 2, \"6\": 1, \"1\": 3, \"13\": 1}, \"4\": {\"7\": 6, \"3\": 20, \"8\": 11, \"4\": 100, \"13\": 61, \"12\": 20, \"9\": 21, \"2\": 1}, \"14\": {\"14\": 92, \"0\": 36, \"5\": 13, \"10\": 51, \"15\": 22, \"1\": 21, \"6\": 4, \"7\": 1}, \"12\": {\"4\": 20, \"12\": 174, \"9\": 13, \"13\": 29, \"8\": 3, \"11\": 1}, \"8\": {\"3\": 16, \"2\": 51, \"7\": 42, \"0\": 50, \"9\": 24, \"13\": 4, \"14\": 15, \"15\": 3, \"8\": 30, \"12\": 1, \"4\": 2, \"5\": 1, \"10\": 1}, \"7\": {\"9\": 11, \"8\": 44, \"7\": 39, \"3\": 22, \"0\": 36, \"2\": 74, \"14\": 8, \"4\": 4, \"13\": 1, \"15\": 1}, \"13\": {\"4\": 45, \"9\": 25, \"13\": 73, \"12\": 50, \"7\": 11, \"2\": 5, \"3\": 9, \"8\": 15, \"0\": 7}, \"5\": {\"10\": 21, \"5\": 83, \"15\": 68, \"6\": 41, \"14\": 12, \"8\": 1, \"1\": 6, \"2\": 1, \"0\": 6, \"7\": 1}, \"15\": {\"15\": 67, \"5\": 56, \"6\": 33, \"1\": 7, \"14\": 36, \"10\": 24, \"0\": 17}, \"10\": {\"14\": 51, \"0\": 23, \"5\": 11, \"15\": 43, \"1\": 12, \"10\": 81, \"6\": 12, \"9\": 1, \"7\": 3, \"8\": 2, \"2\": 1}, \"3\": {\"4\": 17, \"13\": 9, \"7\": 45, \"9\": 15, \"3\": 67, \"8\": 32, \"2\": 50, \"0\": 4, \"12\": 1}, \"9\": {\"13\": 18, \"7\": 27, \"8\": 45, \"9\": 36, \"0\": 35, \"2\": 28, \"3\": 26, \"12\": 10, \"14\": 6, \"4\": 7, \"11\": 1, \"15\": 1}, \"6\": {\"6\": 163, \"1\": 27, \"9\": 1, \"15\": 18, \"10\": 5, \"8\": 1, \"14\": 4, \"5\": 20, \"7\": 1}, \"1\": {\"1\": 108, \"14\": 23, \"10\": 26, \"5\": 5, \"6\": 66, \"0\": 5, \"15\": 7}, \"11\": {\"6\": 49, \"11\": 140, \"13\": 8, \"1\": 23, \"7\": 1, \"9\": 11, \"8\": 3, \"12\": 2, \"15\": 2, \"0\": 1}, \"2\": {\"2\": 60, \"9\": 17, \"7\": 46, \"8\": 29, \"3\": 27, \"13\": 1, \"0\": 44, \"14\": 9, \"4\": 3, \"10\": 2, \"15\": 2}}, \"O_44\": {\"1\": {\"1\": 206, \"2\": 29, \"10\": 5}, \"11\": {\"11\": 127, \"13\": 112, \"5\": 1}, \"3\": {\"3\": 235, \"12\": 5}, \"6\": {\"6\": 205, \"13\": 25, \"9\": 10}, \"7\": {\"7\": 211, \"9\": 27, \"10\": 2}, \"5\": {\"5\": 218, \"15\": 10, \"14\": 12}, \"2\": {\"2\": 232, \"1\": 6, \"10\": 2}, \"15\": {\"15\": 193, \"5\": 16, \"8\": 9, \"14\": 20, \"0\": 2}, \"10\": {\"10\": 217, \"1\": 7, \"7\": 12, \"9\": 1, \"2\": 3}, \"13\": {\"13\": 208, \"6\": 28, \"9\": 4}, \"8\": {\"15\": 6, \"8\": 178, \"0\": 53, \"5\": 3}, \"4\": {\"4\": 152, \"14\": 85, \"15\": 2, \"5\": 1}, \"9\": {\"9\": 112, \"7\": 57, \"13\": 24, \"6\": 43, \"2\": 1, \"4\": 3}, \"14\": {\"4\": 38, \"14\": 182, \"5\": 6, \"15\": 14}, \"0\": {\"0\": 213, \"8\": 27}, \"12\": {\"12\": 223, \"3\": 17}}, \"O_50\": {\"15\": {\"15\": 229, \"6\": 9, \"11\": 2}, \"4\": {\"4\": 197, \"7\": 22, \"5\": 9, \"15\": 11, \"6\": 1}, \"6\": {\"6\": 212, \"15\": 8, \"5\": 20}, \"2\": {\"2\": 229, \"0\": 11}, \"5\": {\"7\": 35, \"5\": 121, \"4\": 3, \"6\": 68, \"13\": 8, \"15\": 5}, \"9\": {\"9\": 214, \"11\": 10, \"12\": 16}, \"8\": {\"8\": 240}, \"12\": {\"12\": 227, \"9\": 10, \"11\": 3}, \"10\": {\"10\": 240}, \"1\": {\"1\": 230, \"13\": 10}, \"0\": {\"0\": 230, \"2\": 8, \"10\": 2}, \"3\": {\"3\": 238, \"8\": 2}, \"13\": {\"13\": 240}, \"11\": {\"11\": 229, \"12\": 8, \"15\": 1, \"9\": 2}, \"7\": {\"7\": 229, \"4\": 5, \"5\": 6}, \"14\": {\"14\": 240}}, \"O_38\": {\"15\": {\"15\": 217, \"8\": 12, \"1\": 6, \"5\": 5}, \"11\": {\"11\": 224, \"3\": 16}, \"10\": {\"10\": 212, \"13\": 7, \"0\": 19, \"4\": 2}, \"14\": {\"14\": 224, \"2\": 16}, \"6\": {\"6\": 239, \"1\": 1}, \"4\": {\"4\": 240}, \"13\": {\"13\": 222, \"0\": 3, \"10\": 12, \"2\": 2, \"14\": 1}, \"3\": {\"11\": 19, \"3\": 221}, \"7\": {\"8\": 1, \"7\": 238, \"5\": 1}, \"8\": {\"8\": 138, \"5\": 75, \"7\": 20, \"15\": 7}, \"1\": {\"1\": 240}, \"5\": {\"5\": 94, \"15\": 12, \"8\": 103, \"7\": 19, \"9\": 12}, \"0\": {\"10\": 78, \"7\": 28, \"0\": 100, \"13\": 29, \"3\": 2, \"8\": 1, \"4\": 2}, \"2\": {\"2\": 225, \"14\": 15}, \"12\": {\"12\": 240}, \"9\": {\"9\": 235, \"5\": 5}}, \"O_20\": {\"10\": {\"10\": 101, \"7\": 42, \"9\": 6, \"2\": 22, \"6\": 28, \"8\": 2, \"4\": 12, \"13\": 18, \"12\": 4, \"14\": 3, \"3\": 2}, \"7\": {\"8\": 25, \"10\": 37, \"9\": 25, \"7\": 33, \"4\": 23, \"6\": 11, \"3\": 29, \"2\": 30, \"13\": 8, \"5\": 5, \"12\": 3, \"1\": 3, \"14\": 6, \"11\": 2}, \"4\": {\"10\": 13, \"5\": 15, \"1\": 17, \"4\": 38, \"13\": 15, \"3\": 18, \"12\": 26, \"2\": 27, \"9\": 33, \"8\": 10, \"7\": 18, \"15\": 7, \"0\": 3}, \"13\": {\"10\": 23, \"13\": 77, \"1\": 16, \"2\": 30, \"7\": 9, \"4\": 20, \"15\": 17, \"9\": 10, \"12\": 30, \"5\": 7, \"3\": 1}, \"1\": {\"15\": 27, \"13\": 16, \"12\": 34, \"4\": 11, \"0\": 11, \"5\": 53, \"1\": 43, \"9\": 18, \"8\": 1, \"3\": 18, \"2\": 5, \"7\": 2, \"10\": 1}, \"0\": {\"1\": 10, \"3\": 19, \"0\": 158, \"5\": 20, \"8\": 15, \"15\": 1, \"11\": 5, \"9\": 4, \"14\": 2, \"7\": 2, \"4\": 3, \"12\": 1}, \"12\": {\"10\": 6, \"9\": 19, \"1\": 37, \"15\": 29, \"8\": 2, \"5\": 25, \"12\": 24, \"13\": 30, \"4\": 23, \"2\": 23, \"7\": 6, \"0\": 3, \"3\": 13}, \"5\": {\"5\": 71, \"9\": 10, \"0\": 27, \"1\": 41, \"12\": 23, \"15\": 16, \"3\": 24, \"7\": 3, \"8\": 5, \"4\": 9, \"2\": 7, \"13\": 4}, \"6\": {\"10\": 40, \"14\": 51, \"6\": 93, \"7\": 23, \"3\": 1, \"8\": 14, \"11\": 3, \"2\": 7, \"13\": 3, \"9\": 4, \"4\": 1}, \"2\": {\"7\": 18, \"3\": 17, \"12\": 18, \"2\": 40, \"13\": 27, \"4\": 32, \"5\": 14, \"1\": 13, \"15\": 4, \"10\": 22, \"9\": 26, \"8\": 6, \"11\": 1, \"0\": 1, \"6\": 1}, \"8\": {\"11\": 31, \"9\": 12, \"8\": 81, \"14\": 26, \"0\": 24, \"3\": 27, \"5\": 6, \"7\": 11, \"4\": 2, \"6\": 10, \"2\": 4, \"10\": 5, \"12\": 1}, \"11\": {\"11\": 164, \"8\": 16, \"14\": 38, \"1\": 1, \"6\": 12, \"0\": 6, \"3\": 1, \"7\": 1, \"9\": 1}, \"9\": {\"3\": 26, \"5\": 17, \"0\": 7, \"1\": 9, \"9\": 37, \"8\": 19, \"7\": 27, \"10\": 15, \"4\": 27, \"2\": 22, \"13\": 14, \"15\": 9, \"12\": 11}, \"14\": {\"6\": 40, \"11\": 43, \"14\": 97, \"7\": 13, \"8\": 30, \"10\": 6, \"3\": 7, \"9\": 4}, \"15\": {\"13\": 45, \"0\": 7, \"15\": 65, \"2\": 9, \"1\": 42, \"12\": 28, \"4\": 11, \"5\": 21, \"9\": 6, \"3\": 4, \"7\": 2}, \"3\": {\"3\": 39, \"5\": 27, \"9\": 32, \"4\": 14, \"7\": 19, \"0\": 35, \"1\": 16, \"8\": 29, \"2\": 10, \"15\": 3, \"10\": 3, \"14\": 1, \"6\": 2, \"12\": 7, \"13\": 2, \"11\": 1}}, \"O_14\": {\"14\": {\"5\": 32, \"2\": 30, \"3\": 33, \"14\": 52, \"7\": 3, \"6\": 35, \"13\": 37, \"15\": 13, \"10\": 1, \"4\": 2, \"0\": 1, \"8\": 1}, \"0\": {\"0\": 122, \"8\": 62, \"13\": 6, \"4\": 2, \"6\": 2, \"3\": 25, \"10\": 9, \"14\": 5, \"15\": 6, \"2\": 1}, \"4\": {\"5\": 38, \"2\": 20, \"4\": 135, \"1\": 20, \"10\": 15, \"14\": 4, \"7\": 1, \"8\": 6, \"6\": 1}, \"11\": {\"11\": 227, \"9\": 10, \"1\": 3}, \"13\": {\"15\": 77, \"6\": 45, \"2\": 17, \"3\": 21, \"4\": 7, \"7\": 2, \"13\": 28, \"14\": 25, \"0\": 2, \"8\": 4, \"5\": 11, \"10\": 1}, \"9\": {\"12\": 36, \"9\": 202, \"11\": 1, \"10\": 1}, \"3\": {\"13\": 36, \"3\": 78, \"6\": 35, \"2\": 9, \"14\": 36, \"8\": 2, \"15\": 22, \"0\": 18, \"4\": 2, \"5\": 2}, \"6\": {\"6\": 78, \"3\": 21, \"15\": 57, \"13\": 47, \"2\": 9, \"5\": 6, \"7\": 2, \"14\": 20}, \"1\": {\"1\": 215, \"4\": 23, \"10\": 2}, \"5\": {\"14\": 20, \"2\": 52, \"4\": 43, \"13\": 7, \"5\": 77, \"7\": 29, \"6\": 5, \"10\": 1, \"8\": 2, \"3\": 2, \"0\": 1, \"1\": 1}, \"12\": {\"12\": 233, \"9\": 6, \"10\": 1}, \"10\": {\"8\": 40, \"10\": 169, \"0\": 4, \"4\": 14, \"1\": 8, \"9\": 4, \"14\": 1}, \"8\": {\"8\": 115, \"10\": 57, \"0\": 61, \"3\": 3, \"4\": 2, \"13\": 2}, \"7\": {\"7\": 147, \"2\": 37, \"5\": 35, \"14\": 9, \"6\": 5, \"13\": 4, \"1\": 1, \"4\": 2}, \"15\": {\"15\": 235, \"3\": 1, \"13\": 3, \"6\": 1}, \"2\": {\"6\": 33, \"14\": 34, \"7\": 36, \"5\": 40, \"2\": 45, \"15\": 1, \"3\": 9, \"13\": 13, \"4\": 24, \"1\": 1, \"8\": 3, \"10\": 1}}, \"O_32\": {\"11\": {\"11\": 233, \"3\": 7}, \"1\": {\"1\": 236, \"12\": 4}, \"2\": {\"2\": 230, \"4\": 10}, \"0\": {\"0\": 187, \"5\": 7, \"7\": 25, \"8\": 18, \"14\": 2, \"2\": 1}, \"3\": {\"3\": 187, \"13\": 47, \"11\": 6}, \"8\": {\"8\": 174, \"5\": 17, \"0\": 30, \"4\": 7, \"2\": 2, \"14\": 5, \"7\": 5}, \"12\": {\"12\": 240}, \"5\": {\"5\": 115, \"7\": 69, \"14\": 16, \"0\": 20, \"8\": 19, \"15\": 1}, \"15\": {\"15\": 236, \"8\": 3, \"5\": 1}, \"7\": {\"14\": 22, \"0\": 31, \"7\": 144, \"5\": 41, \"8\": 2}, \"4\": {\"4\": 160, \"2\": 66, \"14\": 6, \"8\": 2, \"13\": 6}, \"14\": {\"7\": 67, \"0\": 16, \"14\": 116, \"5\": 20, \"8\": 5, \"2\": 8, \"13\": 4, \"4\": 4}, \"10\": {\"10\": 120, \"6\": 14, \"12\": 105, \"1\": 1}, \"6\": {\"10\": 49, \"6\": 179, \"12\": 8, \"1\": 4}, \"13\": {\"3\": 69, \"13\": 127, \"14\": 13, \"4\": 28, \"11\": 2, \"8\": 1}, \"9\": {\"9\": 218, \"2\": 5, \"12\": 13, \"4\": 4}}, \"O_8\": {\"9\": {\"9\": 234, \"3\": 5, \"15\": 1}, \"11\": {\"4\": 18, \"11\": 49, \"14\": 24, \"5\": 41, \"13\": 11, \"1\": 43, \"10\": 48, \"6\": 4, \"7\": 2}, \"8\": {\"6\": 46, \"8\": 98, \"13\": 16, \"7\": 49, \"14\": 10, \"4\": 18, \"0\": 1, \"10\": 2}, \"4\": {\"13\": 12, \"14\": 47, \"6\": 13, \"4\": 100, \"8\": 14, \"1\": 12, \"10\": 19, \"0\": 2, \"11\": 17, \"5\": 1, \"7\": 3}, \"13\": {\"1\": 14, \"10\": 34, \"7\": 35, \"13\": 86, \"8\": 16, \"6\": 40, \"4\": 5, \"5\": 3, \"11\": 6, \"12\": 1}, \"14\": {\"14\": 146, \"4\": 46, \"11\": 29, \"1\": 4, \"0\": 10, \"10\": 3, \"6\": 1, \"8\": 1}, \"2\": {\"15\": 67, \"12\": 52, \"2\": 87, \"3\": 31, \"8\": 1, \"7\": 2}, \"3\": {\"3\": 207, \"2\": 25, \"15\": 3, \"12\": 5}, \"1\": {\"10\": 50, \"7\": 1, \"5\": 51, \"11\": 53, \"13\": 12, \"1\": 47, \"6\": 3, \"14\": 9, \"4\": 14}, \"0\": {\"0\": 232, \"14\": 8}, \"5\": {\"11\": 38, \"5\": 107, \"10\": 28, \"1\": 48, \"13\": 6, \"4\": 6, \"14\": 7}, \"15\": {\"12\": 57, \"2\": 71, \"15\": 100, \"3\": 12}, \"10\": {\"5\": 29, \"1\": 53, \"11\": 31, \"10\": 54, \"4\": 19, \"13\": 31, \"14\": 9, \"6\": 12, \"7\": 1, \"8\": 1}, \"12\": {\"12\": 100, \"2\": 65, \"15\": 73, \"3\": 2}, \"6\": {\"6\": 60, \"13\": 38, \"4\": 26, \"10\": 11, \"8\": 43, \"7\": 55, \"1\": 2, \"11\": 4, \"14\": 1}, \"7\": {\"7\": 86, \"13\": 46, \"6\": 51, \"10\": 2, \"8\": 45, \"1\": 1, \"4\": 8, \"0\": 1}}, \"C_5\": {\"26\": {\"2\": 1, \"26\": 15, \"33\": 2, \"53\": 1, \"38\": 1, \"27\": 1, \"41\": 1, \"55\": 1, \"25\": 1}, \"7\": {\"36\": 1, \"7\": 31}, \"56\": {\"56\": 83, \"0\": 17, \"3\": 1, \"1\": 6, \"46\": 4, \"57\": 6, \"9\": 9, \"30\": 2, \"4\": 2, \"47\": 4, \"52\": 3, \"5\": 2, \"40\": 1, \"44\": 1, \"48\": 1}, \"36\": {\"47\": 1, \"49\": 4, \"48\": 4, \"36\": 52, \"43\": 2, \"7\": 1, \"1\": 8, \"13\": 3, \"29\": 5, \"55\": 1, \"27\": 3, \"56\": 2, \"30\": 1, \"57\": 3, \"8\": 1, \"17\": 1}, \"47\": {\"36\": 2, \"30\": 8, \"47\": 53, \"3\": 2, \"14\": 7, \"9\": 2, \"5\": 2, \"57\": 4, \"56\": 3, \"29\": 4, \"0\": 3, \"48\": 4, \"1\": 6}, \"2\": {\"27\": 4, \"2\": 18, \"41\": 1, \"43\": 3, \"35\": 1, \"32\": 1}, \"15\": {\"15\": 103, \"11\": 18, \"42\": 2, \"16\": 12, \"53\": 6, \"19\": 7, \"23\": 1, \"24\": 2, \"25\": 1}, \"14\": {\"36\": 3, \"47\": 3, \"41\": 2, \"14\": 14, \"49\": 2, \"21\": 3, \"52\": 4, \"20\": 1, \"30\": 1, \"29\": 3, \"56\": 1, \"54\": 1, \"13\": 1, \"8\": 1, \"9\": 2, \"39\": 1, \"32\": 1}, \"27\": {\"27\": 96, \"36\": 2, \"8\": 11, \"41\": 3, \"2\": 2, \"35\": 2, \"29\": 6, \"55\": 3, \"20\": 2, \"43\": 9, \"57\": 2, \"13\": 2, \"54\": 1, \"48\": 1, \"49\": 3, \"5\": 1}, \"40\": {\"30\": 4, \"40\": 52, \"0\": 1, \"5\": 5, \"45\": 6, \"12\": 4, \"3\": 5, \"46\": 6, \"44\": 9, \"4\": 11, \"56\": 4, \"9\": 8, \"1\": 3, \"50\": 3, \"22\": 1, \"47\": 1, \"6\": 1}, \"49\": {\"49\": 23, \"35\": 1, \"36\": 2, \"14\": 3, \"57\": 3, \"13\": 2, \"48\": 2}, \"45\": {\"45\": 87, \"50\": 17, \"12\": 3, \"6\": 16, \"5\": 1}, \"46\": {\"46\": 86, \"40\": 3, \"56\": 2, \"22\": 1, \"9\": 9, \"0\": 13, \"52\": 6, \"5\": 3, \"30\": 3, \"50\": 1, \"44\": 6, \"21\": 1, \"3\": 2}, \"11\": {\"15\": 9, \"11\": 93, \"16\": 20, \"19\": 3, \"23\": 3, \"53\": 2}, \"30\": {\"30\": 60, \"56\": 8, \"48\": 2, \"9\": 12, \"4\": 5, \"0\": 5, \"50\": 1, \"47\": 6, \"52\": 3, \"46\": 4, \"57\": 1, \"40\": 2, \"3\": 2, \"6\": 1}, \"0\": {\"0\": 100, \"46\": 9, \"56\": 6, \"12\": 1, \"3\": 1, \"52\": 3, \"9\": 3, \"30\": 1}, \"10\": {\"10\": 61, \"53\": 2, \"17\": 1, \"19\": 2, \"42\": 1, \"23\": 1}, \"1\": {\"3\": 2, \"1\": 104, \"47\": 6, \"40\": 1, \"36\": 1, \"5\": 3, \"48\": 6, \"9\": 6, \"56\": 5, \"4\": 4, \"52\": 2, \"29\": 1, \"44\": 2, \"57\": 3, \"46\": 1, \"30\": 1}, \"42\": {\"42\": 26, \"28\": 1, \"26\": 1, \"33\": 1, \"53\": 3, \"23\": 5, \"31\": 1, \"24\": 1, \"34\": 1}, \"54\": {\"54\": 76, \"49\": 2, \"26\": 1, \"38\": 5, \"43\": 10, \"51\": 6, \"34\": 1, \"27\": 3, \"20\": 1, \"55\": 1, \"2\": 1, \"23\": 1, \"13\": 1, \"8\": 2, \"17\": 1}, \"55\": {\"32\": 5, \"39\": 1, \"8\": 8, \"36\": 6, \"55\": 83, \"2\": 1, \"35\": 2, \"14\": 1, \"49\": 3, \"54\": 7, \"27\": 10, \"29\": 2, \"31\": 1, \"17\": 3, \"23\": 1, \"43\": 7, \"33\": 1, \"13\": 3, \"38\": 1, \"20\": 3, \"7\": 1, \"57\": 1, \"51\": 1}, \"23\": {\"23\": 94, \"19\": 4, \"17\": 8, \"53\": 11, \"24\": 4, \"15\": 2, \"10\": 1}, \"25\": {\"25\": 139, \"42\": 1, \"53\": 9, \"23\": 2, \"15\": 1}, \"28\": {\"28\": 27, \"15\": 2, \"17\": 1, \"19\": 2}, \"32\": {\"54\": 1, \"32\": 14, \"49\": 4, \"29\": 2, \"56\": 1, \"35\": 4, \"33\": 3, \"39\": 1, \"2\": 1, \"43\": 1}, \"9\": {\"9\": 40, \"56\": 18, \"30\": 20, \"44\": 4, \"57\": 1, \"45\": 1, \"0\": 11, \"52\": 12, \"40\": 8, \"5\": 3, \"46\": 10, \"4\": 4, \"3\": 2, \"6\": 2, \"48\": 1, \"1\": 3, \"47\": 2}, \"39\": {\"9\": 1, \"39\": 14, \"1\": 1, \"13\": 1, \"7\": 1, \"12\": 1, \"14\": 1}, \"3\": {\"3\": 71, \"40\": 5, \"12\": 9, \"46\": 3, \"5\": 4, \"50\": 3, \"6\": 1, \"22\": 2, \"4\": 2}, \"29\": {\"29\": 76, \"57\": 6, \"36\": 3, \"30\": 1, \"8\": 2, \"40\": 1, \"27\": 2, \"4\": 3, \"1\": 3, \"20\": 4, \"56\": 1, \"0\": 1, \"47\": 1, \"13\": 3, \"50\": 1, \"44\": 4, \"49\": 2, \"14\": 1, \"46\": 1, \"48\": 1, \"55\": 1}, \"17\": {\"17\": 102, \"51\": 4, \"24\": 3, \"54\": 3, \"43\": 3, \"33\": 1}, \"35\": {\"34\": 1, \"35\": 26, \"43\": 1, \"2\": 2, \"27\": 2, \"32\": 1, \"36\": 1, \"55\": 2}, \"44\": {\"5\": 23, \"44\": 77, \"50\": 9, \"12\": 4, \"9\": 2, \"40\": 6, \"1\": 1, \"45\": 9, \"22\": 2, \"6\": 4, \"4\": 8, \"30\": 2, \"3\": 4, \"56\": 1}, \"5\": {\"44\": 28, \"5\": 62, \"50\": 4, \"40\": 17, \"12\": 1, \"4\": 9, \"22\": 1, \"6\": 2, \"3\": 2, \"46\": 1, \"45\": 1}, \"33\": {\"34\": 3, \"33\": 25, \"31\": 1, \"27\": 1, \"2\": 1, \"17\": 1}, \"34\": {\"13\": 1, \"35\": 2, \"34\": 20, \"32\": 1, \"2\": 1, \"33\": 5, \"23\": 1, \"20\": 1, \"24\": 1, \"17\": 1, \"55\": 2}, \"13\": {\"1\": 1, \"13\": 97, \"57\": 12, \"20\": 9, \"48\": 2, \"21\": 2, \"8\": 3, \"29\": 4, \"36\": 1, \"30\": 1, \"52\": 1, \"27\": 1, \"14\": 2, \"40\": 1, \"56\": 1}, \"41\": {\"33\": 2, \"47\": 1, \"43\": 2, \"41\": 10, \"49\": 2, \"17\": 4, \"54\": 1, \"31\": 2, \"52\": 1, \"8\": 2, \"1\": 1}, \"6\": {\"6\": 76, \"50\": 19, \"45\": 13, \"5\": 2, \"3\": 9, \"12\": 7, \"9\": 1, \"44\": 1}, \"51\": {\"2\": 1, \"42\": 1, \"8\": 2, \"51\": 104, \"43\": 8, \"54\": 10, \"38\": 1, \"41\": 1, \"57\": 1, \"46\": 1, \"13\": 1, \"35\": 3, \"27\": 2, \"36\": 1, \"21\": 1}, \"50\": {\"6\": 23, \"50\": 103, \"45\": 16, \"44\": 1, \"12\": 1}, \"37\": {\"37\": 20, \"21\": 2, \"52\": 2}, \"19\": {\"32\": 1, \"19\": 115, \"17\": 3, \"10\": 4, \"23\": 3, \"53\": 11, \"42\": 2, \"54\": 2, \"24\": 2, \"51\": 1}, \"57\": {\"57\": 62, \"52\": 4, \"20\": 5, \"9\": 4, \"1\": 6, \"48\": 7, \"0\": 6, \"13\": 21, \"46\": 5, \"56\": 5, \"30\": 3, \"14\": 1, \"47\": 2, \"40\": 1}, \"21\": {\"21\": 132, \"52\": 10, \"9\": 2}, \"24\": {\"23\": 7, \"24\": 67, \"19\": 1, \"17\": 3, \"53\": 2}, \"8\": {\"7\": 1, \"8\": 93, \"27\": 11, \"20\": 2, \"43\": 12, \"13\": 8, \"14\": 1, \"54\": 2}, \"12\": {\"50\": 5, \"12\": 62, \"40\": 4, \"44\": 3, \"46\": 3, \"3\": 8, \"45\": 6, \"6\": 4, \"5\": 1}, \"48\": {\"48\": 70, \"39\": 1, \"20\": 7, \"57\": 16, \"12\": 1, \"46\": 2, \"56\": 5, \"47\": 4, \"13\": 3, \"30\": 3, \"36\": 1, \"9\": 2, \"29\": 2, \"52\": 5, \"1\": 6, \"40\": 1, \"27\": 2, \"0\": 1}, \"43\": {\"43\": 98, \"38\": 3, \"55\": 1, \"2\": 4, \"8\": 13, \"41\": 3, \"27\": 2, \"51\": 8, \"17\": 2, \"13\": 1, \"54\": 13, \"14\": 1, \"31\": 1}, \"53\": {\"53\": 131, \"17\": 2, \"23\": 7, \"19\": 4, \"42\": 2, \"25\": 2}, \"38\": {\"38\": 12, \"43\": 1, \"7\": 4, \"2\": 1, \"54\": 3, \"57\": 2, \"31\": 3, \"20\": 3, \"13\": 1, \"27\": 1, \"51\": 1}, \"16\": {\"16\": 117, \"11\": 11, \"15\": 12, \"53\": 1, \"23\": 1}, \"22\": {\"22\": 17, \"30\": 1, \"44\": 3, \"3\": 1, \"47\": 1, \"4\": 1, \"40\": 3, \"5\": 1}, \"4\": {\"4\": 39, \"5\": 10, \"40\": 7, \"44\": 9, \"45\": 3, \"6\": 5, \"46\": 8, \"9\": 9, \"50\": 3, \"56\": 3, \"22\": 1, \"30\": 2, \"47\": 1}, \"18\": {\"18\": 62, \"15\": 2}, \"20\": {\"20\": 108, \"7\": 1, \"48\": 4, \"13\": 12, \"52\": 7, \"21\": 5, \"57\": 6, \"46\": 1}, \"52\": {\"52\": 85, \"57\": 8, \"21\": 3, \"20\": 4, \"46\": 9, \"48\": 3, \"9\": 3, \"0\": 8, \"13\": 3, \"3\": 4, \"12\": 2, \"56\": 1, \"40\": 2, \"47\": 2, \"5\": 1, \"4\": 1, \"1\": 1}, \"31\": {\"31\": 35, \"51\": 1}}, \"C_1\": {\"41\": {\"41\": 19, \"13\": 1, \"37\": 1, \"8\": 1, \"51\": 1, \"30\": 1}, \"40\": {\"46\": 2, \"45\": 3, \"4\": 2, \"12\": 3, \"40\": 53, \"44\": 4, \"27\": 4, \"5\": 3, \"52\": 14, \"0\": 15, \"3\": 2, \"50\": 2, \"2\": 1, \"56\": 1, \"21\": 1}, \"45\": {\"45\": 100, \"50\": 7, \"6\": 6, \"3\": 7, \"56\": 9, \"44\": 2, \"5\": 2, \"20\": 3, \"40\": 1, \"46\": 1}, \"51\": {\"51\": 137, \"54\": 2, \"41\": 1, \"9\": 4, \"55\": 1, \"43\": 1, \"36\": 1, \"8\": 1}, \"5\": {\"46\": 13, \"5\": 125, \"44\": 10, \"45\": 1, \"3\": 1, \"56\": 1, \"6\": 3}, \"30\": {\"30\": 73, \"21\": 17, \"1\": 1, \"47\": 1, \"40\": 1, \"8\": 1, \"14\": 2, \"13\": 2, \"45\": 1, \"50\": 1, \"0\": 4, \"22\": 1, \"48\": 5, \"20\": 1, \"52\": 2, \"38\": 1, \"57\": 6}, \"42\": {\"34\": 2, \"17\": 5, \"42\": 24, \"51\": 3, \"35\": 1, \"33\": 1, \"24\": 2, \"31\": 1, \"55\": 1}, \"46\": {\"46\": 105, \"45\": 2, \"44\": 9, \"5\": 12, \"6\": 4, \"3\": 2, \"50\": 2}, \"48\": {\"48\": 95, \"36\": 3, \"32\": 2, \"8\": 19, \"30\": 3, \"50\": 1, \"1\": 1, \"20\": 1, \"55\": 3, \"21\": 1, \"57\": 1, \"43\": 3, \"45\": 1}, \"53\": {\"53\": 126, \"28\": 5, \"23\": 4, \"25\": 2, \"15\": 4, \"54\": 1, \"19\": 2}, \"47\": {\"47\": 98, \"52\": 3, \"40\": 1, \"29\": 15, \"48\": 5, \"27\": 6, \"0\": 1, \"4\": 5, \"30\": 4, \"1\": 11, \"57\": 3}, \"49\": {\"49\": 11, \"38\": 3, \"31\": 2, \"8\": 1, \"32\": 2, \"43\": 4, \"13\": 1, \"39\": 1, \"1\": 1, \"48\": 3, \"55\": 1, \"54\": 1, \"51\": 1}, \"36\": {\"36\": 47, \"49\": 3, \"32\": 1, \"48\": 3, \"8\": 6, \"55\": 3, \"1\": 1}, \"32\": {\"36\": 2, \"48\": 1, \"32\": 25, \"43\": 1, \"8\": 3}, \"34\": {\"34\": 20, \"36\": 1, \"54\": 1, \"51\": 1, \"24\": 1}, \"29\": {\"47\": 28, \"30\": 3, \"1\": 11, \"29\": 54, \"32\": 2, \"27\": 4, \"38\": 1, \"48\": 7, \"44\": 1, \"4\": 10, \"56\": 3, \"50\": 1, \"55\": 3, \"8\": 3, \"45\": 1, \"57\": 1, \"21\": 2, \"40\": 3, \"43\": 1, \"22\": 1}, \"35\": {\"35\": 33, \"53\": 1, \"42\": 1, \"23\": 1}, \"3\": {\"3\": 76, \"6\": 6, \"45\": 4, \"56\": 7, \"46\": 4, \"20\": 9, \"50\": 10, \"44\": 4, \"12\": 8, \"40\": 1, \"4\": 3, \"0\": 1, \"5\": 1}, \"16\": {\"11\": 21, \"16\": 105, \"15\": 6, \"10\": 5, \"19\": 2, \"23\": 1}, \"26\": {\"26\": 20, \"23\": 1, \"28\": 1, \"25\": 1, \"33\": 1}, \"57\": {\"57\": 78, \"52\": 7, \"27\": 8, \"21\": 11, \"50\": 1, \"47\": 13, \"7\": 2, \"30\": 13, \"4\": 2, \"40\": 1, \"22\": 2, \"1\": 3, \"48\": 1, \"29\": 1, \"12\": 1}, \"44\": {\"44\": 76, \"4\": 3, \"45\": 12, \"46\": 11, \"56\": 7, \"40\": 1, \"3\": 5, \"20\": 1, \"5\": 5, \"6\": 4, \"50\": 3}, \"0\": {\"0\": 109, \"52\": 10, \"6\": 2, \"22\": 6, \"40\": 5, \"21\": 1, \"3\": 5, \"50\": 3, \"13\": 1, \"45\": 2, \"56\": 2, \"12\": 1, \"7\": 1, \"20\": 4}, \"4\": {\"4\": 74, \"0\": 8, \"27\": 4, \"44\": 8, \"5\": 3, \"45\": 1, \"50\": 1, \"52\": 9, \"6\": 2, \"46\": 4, \"56\": 6, \"22\": 3, \"57\": 1, \"40\": 7, \"21\": 1}, \"31\": {\"31\": 28}, \"11\": {\"11\": 115, \"16\": 18, \"19\": 1, \"15\": 4, \"53\": 2}, \"6\": {\"0\": 5, \"44\": 3, \"6\": 50, \"56\": 4, \"46\": 9, \"45\": 10, \"50\": 7, \"5\": 2, \"20\": 4, \"3\": 2}, \"54\": {\"54\": 97, \"42\": 2, \"9\": 2, \"33\": 3}, \"17\": {\"24\": 4, \"17\": 53, \"37\": 1, \"33\": 2, \"54\": 1, \"51\": 1, \"55\": 1, \"42\": 1}, \"20\": {\"20\": 95, \"12\": 13, \"45\": 4, \"56\": 1, \"0\": 4, \"3\": 6, \"50\": 2, \"40\": 1, \"22\": 2}, \"13\": {\"13\": 127, \"14\": 1, \"52\": 9, \"30\": 3, \"22\": 6, \"0\": 2, \"48\": 1, \"2\": 1}, \"33\": {\"33\": 31, \"42\": 1}, \"24\": {\"24\": 99, \"54\": 3, \"23\": 4, \"17\": 1, \"55\": 1}, \"52\": {\"0\": 7, \"52\": 101, \"21\": 4, \"22\": 11, \"45\": 1, \"56\": 1, \"27\": 2, \"30\": 1, \"20\": 2, \"57\": 2}, \"2\": {\"2\": 34, \"12\": 1, \"13\": 1}, \"19\": {\"19\": 113, \"24\": 3, \"34\": 2, \"17\": 1, \"35\": 3, \"23\": 20, \"53\": 4, \"15\": 4, \"54\": 2, \"10\": 3, \"11\": 1}, \"39\": {\"47\": 3, \"39\": 18, \"1\": 2, \"49\": 2, \"43\": 1, \"29\": 1, \"31\": 1}, \"8\": {\"8\": 85, \"1\": 7, \"9\": 3, \"32\": 2, \"48\": 14, \"36\": 10, \"21\": 1, \"43\": 3, \"47\": 1, \"57\": 4, \"30\": 3, \"55\": 3, \"13\": 1, \"38\": 2, \"22\": 1}, \"21\": {\"30\": 12, \"20\": 4, \"21\": 83, \"52\": 5, \"22\": 7, \"0\": 2, \"48\": 2, \"56\": 2, \"1\": 1, \"14\": 2, \"27\": 2, \"40\": 1, \"12\": 1}, \"10\": {\"10\": 84, \"53\": 2, \"15\": 9, \"19\": 1}, \"37\": {\"37\": 27, \"13\": 4, \"9\": 1}, \"25\": {\"25\": 140, \"53\": 2, \"19\": 1, \"23\": 1}, \"27\": {\"27\": 94, \"47\": 7, \"0\": 4, \"30\": 3, \"57\": 9, \"40\": 6, \"29\": 3, \"52\": 2, \"4\": 1, \"22\": 1}, \"23\": {\"23\": 121, \"53\": 1, \"19\": 4, \"24\": 3, \"10\": 1, \"54\": 2, \"42\": 1, \"35\": 1, \"15\": 2}, \"1\": {\"29\": 6, \"30\": 1, \"1\": 50, \"8\": 12, \"43\": 3, \"2\": 1, \"39\": 2, \"57\": 5, \"48\": 4, \"52\": 3, \"47\": 8, \"40\": 1, \"21\": 1, \"55\": 3}, \"50\": {\"45\": 13, \"50\": 126, \"6\": 6, \"5\": 1, \"56\": 1, \"3\": 4, \"46\": 1}, \"12\": {\"12\": 83, \"20\": 20, \"0\": 5, \"50\": 1, \"13\": 1, \"6\": 2, \"3\": 4}, \"18\": {\"18\": 68, \"11\": 2, \"16\": 1, \"17\": 1}, \"38\": {\"38\": 16, \"12\": 2, \"22\": 1, \"48\": 1, \"30\": 1, \"52\": 1, \"8\": 1, \"51\": 1}, \"14\": {\"13\": 3, \"30\": 1, \"14\": 14, \"47\": 1, \"2\": 1, \"50\": 1, \"40\": 1, \"21\": 2}, \"56\": {\"56\": 73, \"4\": 1, \"12\": 1, \"44\": 11, \"46\": 6, \"5\": 1, \"45\": 22, \"6\": 5, \"3\": 5, \"20\": 1, \"0\": 2, \"50\": 11, \"40\": 3}, \"55\": {\"55\": 117, \"1\": 3, \"48\": 19, \"36\": 2, \"43\": 7, \"8\": 9, \"9\": 2, \"32\": 1}, \"9\": {\"9\": 116, \"36\": 3, \"2\": 2, \"31\": 1, \"8\": 3, \"48\": 3, \"1\": 2, \"55\": 3, \"57\": 1, \"30\": 1, \"51\": 3}, \"15\": {\"15\": 121, \"11\": 3, \"16\": 8, \"10\": 6, \"23\": 2, \"53\": 4, \"19\": 1, \"51\": 1}, \"28\": {\"28\": 28}, \"7\": {\"7\": 25, \"57\": 2, \"14\": 1}, \"43\": {\"43\": 105, \"49\": 1, \"30\": 2, \"1\": 11, \"8\": 3, \"47\": 2, \"48\": 4, \"32\": 1, \"7\": 1, \"54\": 2, \"21\": 2, \"29\": 2}, \"22\": {\"22\": 84, \"0\": 14, \"13\": 7, \"21\": 5, \"52\": 6, \"50\": 1, \"30\": 2, \"20\": 11, \"40\": 1, \"6\": 1, \"3\": 1, \"12\": 1, \"48\": 1, \"27\": 1}}, \"C_3\": {\"1\": {\"1\": 41, \"0\": 4, \"4\": 15, \"22\": 3, \"14\": 2, \"9\": 4, \"47\": 12, \"48\": 3, \"40\": 4, \"20\": 3, \"27\": 1, \"45\": 1, \"29\": 1, \"46\": 1, \"50\": 1, \"57\": 1, \"56\": 2, \"30\": 1}, \"9\": {\"22\": 2, \"9\": 94, \"27\": 9, \"47\": 1, \"57\": 7, \"29\": 5, \"41\": 1, \"12\": 1, \"20\": 1, \"48\": 1, \"4\": 2}, \"22\": {\"56\": 16, \"5\": 8, \"22\": 60, \"45\": 2, \"30\": 5, \"3\": 9, \"46\": 4, \"50\": 3, \"48\": 2, \"40\": 10, \"1\": 2, \"47\": 3, \"0\": 4, \"44\": 7, \"39\": 1}, \"43\": {\"43\": 85, \"26\": 6, \"19\": 4, \"49\": 7, \"17\": 8, \"42\": 2, \"24\": 12, \"54\": 2, \"51\": 3, \"13\": 1, \"34\": 3, \"23\": 2, \"53\": 1}, \"49\": {\"8\": 1, \"43\": 4, \"42\": 3, \"49\": 5, \"54\": 2, \"17\": 1, \"35\": 1, \"34\": 2, \"24\": 1}, \"50\": {\"50\": 68, \"5\": 10, \"12\": 8, \"46\": 28, \"6\": 8, \"21\": 8, \"3\": 5, \"56\": 1, \"22\": 1, \"0\": 1}, \"53\": {\"53\": 121, \"28\": 2, \"23\": 6, \"19\": 3, \"42\": 1, \"24\": 2, \"43\": 1}, \"10\": {\"10\": 59, \"53\": 2, \"11\": 1, \"19\": 1, \"15\": 1}, \"48\": {\"48\": 51, \"1\": 6, \"40\": 2, \"47\": 6, \"41\": 5, \"56\": 10, \"21\": 1, \"5\": 2, \"4\": 12, \"20\": 4, \"22\": 3, \"0\": 5, \"27\": 1, \"39\": 1, \"46\": 1, \"12\": 1, \"30\": 2, \"50\": 1, \"52\": 2}, \"8\": {\"8\": 96, \"14\": 3, \"27\": 12, \"20\": 6, \"13\": 6, \"29\": 5, \"57\": 3, \"9\": 2, \"55\": 1, \"52\": 1, \"7\": 2, \"6\": 1}, \"31\": {\"31\": 26, \"17\": 1, \"34\": 1}, \"56\": {\"56\": 85, \"1\": 1, \"39\": 1, \"0\": 11, \"40\": 10, \"48\": 4, \"46\": 4, \"30\": 3, \"3\": 1, \"4\": 3, \"22\": 7, \"47\": 4}, \"25\": {\"10\": 2, \"25\": 117, \"16\": 6, \"11\": 4, \"53\": 4, \"24\": 2, \"54\": 1, \"15\": 6}, \"28\": {\"10\": 3, \"28\": 15, \"53\": 3, \"23\": 3, \"24\": 1, \"16\": 1, \"19\": 2}, \"38\": {\"38\": 28}, \"5\": {\"50\": 19, \"46\": 17, \"3\": 10, \"5\": 49, \"12\": 4, \"30\": 3, \"44\": 3, \"45\": 3, \"6\": 5, \"22\": 1, \"48\": 1, \"0\": 1}, \"12\": {\"12\": 62, \"6\": 8, \"45\": 3, \"5\": 3, \"50\": 7, \"3\": 4, \"46\": 4, \"21\": 1}, \"6\": {\"6\": 84, \"45\": 3, \"12\": 1}, \"19\": {\"10\": 5, \"19\": 102, \"35\": 1, \"28\": 4, \"43\": 4, \"24\": 7, \"27\": 2, \"17\": 3, \"23\": 9, \"53\": 8, \"8\": 2, \"36\": 1, \"42\": 1, \"51\": 2, \"15\": 1}, \"26\": {\"26\": 12, \"51\": 1, \"43\": 6, \"54\": 1, \"17\": 1, \"34\": 2, \"42\": 1}, \"32\": {\"32\": 18, \"47\": 1, \"36\": 1, \"41\": 1, \"51\": 1, \"27\": 1, \"55\": 3, \"29\": 1, \"35\": 1}, \"33\": {\"38\": 3, \"29\": 2, \"33\": 19, \"7\": 1, \"20\": 1, \"13\": 2}, \"3\": {\"6\": 7, \"12\": 12, \"3\": 60, \"22\": 4, \"46\": 9, \"50\": 9, \"21\": 4, \"5\": 9, \"44\": 2, \"45\": 1, \"40\": 1}, \"51\": {\"51\": 116, \"35\": 1, \"54\": 5, \"9\": 1, \"13\": 1, \"37\": 1, \"8\": 1, \"57\": 1, \"55\": 1}, \"16\": {\"16\": 106, \"11\": 15, \"15\": 14, \"23\": 1, \"19\": 1, \"53\": 1}, \"46\": {\"46\": 67, \"6\": 2, \"21\": 17, \"3\": 10, \"45\": 3, \"5\": 11, \"50\": 24, \"12\": 3, \"22\": 2, \"44\": 1}, \"7\": {\"39\": 1, \"14\": 1, \"20\": 2, \"0\": 2, \"33\": 1, \"7\": 11, \"13\": 5, \"2\": 2, \"30\": 2, \"27\": 2, \"52\": 3, \"8\": 3, \"55\": 1}, \"47\": {\"47\": 47, \"40\": 2, \"8\": 1, \"48\": 5, \"32\": 1, \"45\": 1, \"30\": 5, \"5\": 1, \"0\": 5, \"1\": 5, \"4\": 7, \"57\": 1, \"20\": 2, \"56\": 5, \"52\": 1, \"9\": 2, \"46\": 1}, \"39\": {\"21\": 1, \"40\": 1, \"29\": 2, \"39\": 9, \"35\": 1, \"48\": 2}, \"40\": {\"40\": 76, \"0\": 19, \"45\": 1, \"48\": 1, \"56\": 9, \"21\": 3, \"30\": 9, \"47\": 3, \"4\": 3, \"22\": 5, \"3\": 2, \"12\": 1, \"46\": 1, \"50\": 1, \"52\": 1, \"5\": 1}, \"14\": {\"47\": 2, \"9\": 2, \"14\": 23, \"33\": 1, \"1\": 1, \"4\": 1, \"8\": 1, \"20\": 4, \"27\": 1, \"41\": 1, \"54\": 1, \"7\": 1, \"57\": 1}, \"37\": {\"37\": 27, \"8\": 1}, \"2\": {\"2\": 28, \"57\": 1, \"27\": 1, \"13\": 1, \"8\": 1}, \"21\": {\"21\": 98, \"12\": 7, \"5\": 5, \"44\": 1, \"46\": 5, \"50\": 2, \"3\": 2}, \"35\": {\"35\": 21, \"31\": 1, \"36\": 1, \"43\": 1, \"42\": 1, \"8\": 1, \"55\": 2}, \"54\": {\"2\": 1, \"19\": 1, \"54\": 70, \"51\": 13, \"26\": 3, \"17\": 2, \"43\": 3, \"57\": 1, \"25\": 1, \"8\": 1, \"53\": 2, \"9\": 1, \"55\": 1}, \"52\": {\"20\": 11, \"7\": 3, \"52\": 51, \"21\": 5, \"2\": 1, \"9\": 3, \"40\": 6, \"12\": 1, \"30\": 11, \"46\": 6, \"57\": 1, \"4\": 3, \"48\": 4, \"0\": 3, \"50\": 1, \"3\": 1, \"56\": 2, \"1\": 2, \"22\": 1}, \"29\": {\"29\": 69, \"14\": 1, \"27\": 11, \"4\": 1, \"50\": 3, \"57\": 15, \"44\": 2, \"9\": 6, \"8\": 4, \"0\": 1, \"13\": 3, \"1\": 1, \"55\": 1}, \"20\": {\"52\": 7, \"20\": 98, \"7\": 6, \"40\": 4, \"9\": 5, \"48\": 4, \"4\": 1, \"57\": 2, \"1\": 2, \"56\": 1, \"27\": 1, \"0\": 1}, \"18\": {\"18\": 82, \"16\": 1, \"11\": 1}, \"11\": {\"11\": 109, \"15\": 19, \"16\": 6, \"53\": 2, \"24\": 2, \"10\": 1, \"23\": 1, \"25\": 2}, \"0\": {\"52\": 4, \"0\": 64, \"44\": 1, \"56\": 6, \"41\": 1, \"1\": 2, \"4\": 5, \"40\": 11, \"47\": 3, \"48\": 11, \"30\": 8, \"46\": 2, \"22\": 5, \"20\": 1}, \"36\": {\"36\": 100}, \"17\": {\"51\": 3, \"17\": 90, \"49\": 1, \"34\": 1, \"54\": 5, \"43\": 6, \"42\": 2}, \"30\": {\"39\": 1, \"48\": 8, \"30\": 35, \"41\": 5, \"22\": 4, \"46\": 12, \"4\": 3, \"56\": 1, \"47\": 2, \"50\": 4, \"5\": 5, \"0\": 7, \"21\": 2, \"40\": 7, \"52\": 13, \"20\": 4, \"6\": 1}, \"42\": {\"42\": 15, \"49\": 3, \"43\": 2, \"17\": 3, \"33\": 1, \"13\": 1, \"26\": 3}, \"45\": {\"45\": 39, \"44\": 1, \"3\": 3, \"6\": 9, \"5\": 5, \"50\": 2, \"12\": 1}, \"4\": {\"14\": 3, \"4\": 49, \"20\": 8, \"30\": 2, \"9\": 16, \"1\": 7, \"40\": 7, \"7\": 2, \"48\": 9, \"22\": 9, \"5\": 3, \"56\": 9, \"8\": 1, \"47\": 4, \"27\": 6, \"29\": 2, \"57\": 4, \"46\": 1, \"45\": 1, \"0\": 2, \"44\": 1, \"50\": 2}, \"23\": {\"23\": 109, \"24\": 3, \"27\": 1, \"19\": 2, \"15\": 1, \"43\": 3, \"53\": 8, \"52\": 2, \"55\": 1, \"28\": 3, \"17\": 1}, \"13\": {\"13\": 97, \"57\": 2, \"33\": 2, \"7\": 1, \"8\": 12, \"27\": 8, \"29\": 3, \"20\": 2, \"55\": 1}, \"15\": {\"23\": 4, \"10\": 4, \"15\": 73, \"11\": 24, \"16\": 16, \"24\": 4, \"54\": 1, \"53\": 1, \"19\": 1}, \"57\": {\"47\": 4, \"57\": 46, \"48\": 5, \"8\": 6, \"9\": 11, \"41\": 1, \"27\": 17, \"4\": 4, \"1\": 2, \"13\": 6, \"29\": 16, \"52\": 1, \"14\": 2, \"0\": 1, \"56\": 2}, \"27\": {\"27\": 80, \"8\": 17, \"57\": 13, \"7\": 2, \"47\": 1, \"13\": 4, \"9\": 6, \"29\": 9, \"35\": 1, \"5\": 1}, \"44\": {\"44\": 53, \"5\": 8, \"40\": 4, \"22\": 10, \"45\": 4, \"21\": 1, \"46\": 3, \"4\": 1, \"6\": 2, \"3\": 1, \"30\": 1}, \"34\": {\"34\": 17, \"26\": 2, \"55\": 1, \"43\": 2, \"31\": 2, \"17\": 2, \"42\": 1, \"54\": 1, \"24\": 4}, \"41\": {\"41\": 12, \"48\": 5, \"30\": 3, \"1\": 1, \"0\": 5, \"52\": 1, \"56\": 1}, \"24\": {\"24\": 98, \"43\": 2, \"54\": 1, \"23\": 2, \"51\": 1}, \"55\": {\"55\": 69, \"27\": 5, \"43\": 1, \"35\": 1, \"7\": 2, \"32\": 1, \"34\": 1, \"29\": 5, \"9\": 2, \"20\": 1, \"13\": 9, \"8\": 10, \"17\": 2, \"57\": 2, \"54\": 2, \"36\": 4, \"51\": 1}}, \"C_4\": {\"52\": {\"46\": 7, \"52\": 52, \"20\": 10, \"4\": 2, \"40\": 3, \"57\": 1, \"22\": 1, \"45\": 1, \"21\": 10, \"0\": 8, \"9\": 9, \"47\": 5, \"12\": 2, \"8\": 1, \"56\": 1, \"48\": 3}, \"6\": {\"6\": 86, \"3\": 12, \"50\": 7, \"45\": 5, \"5\": 2}, \"14\": {\"14\": 7, \"52\": 1, \"1\": 1, \"48\": 1, \"36\": 1, \"38\": 2, \"9\": 1, \"27\": 1, \"29\": 1}, \"49\": {\"38\": 3, \"36\": 2, \"49\": 6, \"32\": 1, \"55\": 1, \"51\": 1, \"54\": 2, \"17\": 2, \"29\": 2}, \"0\": {\"40\": 10, \"5\": 1, \"0\": 49, \"56\": 6, \"46\": 6, \"12\": 1, \"22\": 1, \"52\": 2, \"21\": 1, \"1\": 1, \"47\": 1, \"48\": 1}, \"46\": {\"45\": 9, \"46\": 91, \"30\": 4, \"3\": 7, \"50\": 4, \"22\": 17, \"12\": 8, \"0\": 5, \"21\": 2, \"6\": 2, \"40\": 2, \"4\": 1, \"5\": 3, \"52\": 1}, \"41\": {\"41\": 20, \"38\": 1, \"17\": 7, \"49\": 1, \"43\": 3, \"24\": 1, \"33\": 1, \"42\": 1, \"54\": 1}, \"24\": {\"24\": 48, \"41\": 2, \"23\": 1, \"17\": 1, \"51\": 1, \"38\": 1, \"43\": 2}, \"25\": {\"25\": 142, \"34\": 1, \"24\": 2, \"53\": 3, \"23\": 2, \"15\": 1, \"10\": 1}, \"40\": {\"40\": 76, \"1\": 2, \"30\": 2, \"44\": 3, \"0\": 10, \"12\": 3, \"5\": 5, \"21\": 6, \"56\": 14, \"47\": 2, \"22\": 1, \"46\": 8, \"3\": 2, \"48\": 1, \"52\": 1, \"50\": 2}, \"38\": {\"14\": 2, \"38\": 30, \"51\": 1, \"35\": 1, \"29\": 2, \"9\": 1, \"57\": 2, \"8\": 1}, \"13\": {\"13\": 137, \"9\": 2, \"57\": 4, \"8\": 5, \"20\": 2, \"2\": 1, \"4\": 1}, \"9\": {\"9\": 51, \"2\": 1, \"4\": 6, \"57\": 4, \"47\": 9, \"13\": 15, \"52\": 4, \"8\": 5, \"44\": 1, \"48\": 8, \"20\": 1, \"56\": 1, \"29\": 2}, \"45\": {\"45\": 38, \"5\": 14, \"12\": 4, \"22\": 9, \"3\": 6, \"46\": 6, \"6\": 8, \"50\": 7, \"30\": 2, \"44\": 2}, \"43\": {\"49\": 2, \"43\": 112, \"54\": 3, \"17\": 6, \"8\": 1, \"51\": 6, \"33\": 3, \"24\": 1, \"32\": 2, \"41\": 2, \"55\": 3, \"27\": 3}, \"10\": {\"10\": 117, \"53\": 6, \"28\": 2, \"15\": 3, \"23\": 2}, \"15\": {\"28\": 2, \"53\": 6, \"15\": 77, \"16\": 12, \"24\": 1, \"10\": 8, \"11\": 16, \"18\": 1, \"25\": 2, \"23\": 1, \"55\": 1, \"51\": 1}, \"39\": {\"21\": 3, \"39\": 11, \"2\": 1, \"57\": 2, \"38\": 1, \"0\": 1, \"9\": 1}, \"4\": {\"4\": 45, \"57\": 7, \"40\": 4, \"29\": 14, \"47\": 12, \"7\": 1, \"13\": 8, \"56\": 8, \"12\": 2, \"8\": 4, \"50\": 1, \"9\": 5, \"44\": 4, \"48\": 9, \"14\": 1, \"27\": 1, \"22\": 1, \"30\": 1, \"0\": 1, \"52\": 2, \"46\": 1}, \"53\": {\"53\": 113, \"34\": 1, \"23\": 12, \"10\": 1, \"11\": 1, \"19\": 1, \"25\": 2, \"9\": 1}, \"1\": {\"4\": 5, \"56\": 4, \"1\": 18, \"48\": 5, \"20\": 2, \"52\": 1, \"40\": 3, \"2\": 1, \"47\": 1}, \"28\": {\"15\": 6, \"28\": 17, \"23\": 2, \"19\": 1, \"16\": 2, \"41\": 1, \"10\": 1, \"53\": 1, \"11\": 1}, \"54\": {\"54\": 79, \"51\": 7, \"17\": 2, \"32\": 3, \"33\": 2, \"55\": 3, \"43\": 4, \"57\": 1, \"36\": 2, \"41\": 2, \"27\": 1, \"49\": 1, \"7\": 1}, \"21\": {\"21\": 126, \"46\": 1, \"52\": 2, \"30\": 1, \"56\": 1, \"5\": 1}, \"7\": {\"38\": 2, \"7\": 8, \"27\": 2, \"54\": 1, \"33\": 1, \"1\": 1, \"36\": 3, \"4\": 2, \"29\": 1, \"47\": 1, \"2\": 1, \"20\": 1}, \"8\": {\"8\": 95, \"57\": 2, \"38\": 1, \"27\": 9, \"20\": 2, \"47\": 1, \"13\": 16, \"52\": 3, \"29\": 1, \"2\": 1, \"9\": 5}, \"42\": {\"43\": 1, \"42\": 22, \"17\": 2, \"41\": 2, \"24\": 1, \"10\": 1, \"34\": 2, \"28\": 1}, \"11\": {\"11\": 69, \"15\": 19, \"43\": 4, \"10\": 4, \"16\": 4, \"51\": 1, \"19\": 1, \"34\": 1, \"53\": 1}, \"33\": {\"33\": 25, \"55\": 2, \"54\": 1, \"36\": 1, \"38\": 3, \"27\": 2, \"35\": 2}, \"27\": {\"27\": 93, \"33\": 3, \"14\": 2, \"51\": 10, \"54\": 3, \"52\": 1, \"57\": 3, \"9\": 2, \"36\": 5, \"29\": 5, \"13\": 4, \"8\": 8, \"7\": 1, \"38\": 2}, \"19\": {\"19\": 105, \"23\": 19, \"34\": 2, \"24\": 2, \"17\": 2, \"36\": 4, \"10\": 1, \"43\": 2, \"8\": 1, \"26\": 2, \"53\": 1, \"49\": 1, \"54\": 1, \"55\": 1}, \"2\": {\"2\": 19, \"38\": 1, \"47\": 2, \"27\": 3, \"52\": 2, \"57\": 4, \"48\": 1, \"7\": 2, \"36\": 1, \"4\": 1}, \"3\": {\"3\": 72, \"22\": 4, \"6\": 14, \"50\": 18, \"45\": 5, \"5\": 6, \"12\": 1}, \"57\": {\"57\": 51, \"9\": 3, \"2\": 4, \"13\": 8, \"29\": 8, \"56\": 1, \"8\": 9, \"20\": 2, \"47\": 4, \"3\": 1, \"27\": 1, \"36\": 2, \"4\": 5, \"38\": 1}, \"20\": {\"20\": 63, \"0\": 1, \"40\": 4, \"52\": 16, \"21\": 5, \"8\": 3, \"48\": 2, \"9\": 12, \"6\": 1, \"57\": 3, \"47\": 1, \"50\": 1}, \"23\": {\"28\": 2, \"10\": 9, \"53\": 12, \"23\": 83, \"24\": 3, \"17\": 3, \"54\": 1, \"19\": 6, \"15\": 4, \"43\": 1, \"42\": 1, \"34\": 1, \"51\": 1, \"11\": 1}, \"22\": {\"22\": 83, \"30\": 2, \"45\": 6, \"50\": 6, \"12\": 2, \"6\": 4, \"5\": 6, \"46\": 12, \"3\": 6, \"44\": 1}, \"29\": {\"57\": 9, \"45\": 1, \"29\": 79, \"44\": 3, \"27\": 3, \"56\": 3, \"47\": 1, \"13\": 5, \"4\": 9, \"22\": 1, \"9\": 3, \"46\": 1, \"2\": 1, \"52\": 1, \"14\": 1, \"1\": 1, \"50\": 1, \"8\": 1}, \"36\": {\"36\": 70, \"27\": 4, \"7\": 2, \"44\": 1, \"57\": 3, \"55\": 6, \"8\": 2, \"1\": 2, \"2\": 1, \"29\": 1}, \"51\": {\"51\": 104, \"33\": 2, \"36\": 2, \"27\": 11, \"13\": 2, \"8\": 1, \"54\": 4, \"38\": 4, \"55\": 1, \"29\": 1}, \"31\": {\"31\": 23, \"8\": 2, \"37\": 3}, \"12\": {\"5\": 4, \"12\": 57, \"30\": 8, \"3\": 4, \"46\": 14, \"40\": 1, \"22\": 1, \"0\": 1, \"50\": 2}, \"56\": {\"0\": 6, \"45\": 1, \"46\": 7, \"56\": 91, \"48\": 7, \"44\": 3, \"22\": 3, \"5\": 4, \"52\": 1, \"12\": 2, \"40\": 7, \"4\": 2, \"57\": 1, \"47\": 3}, \"5\": {\"45\": 6, \"5\": 55, \"22\": 16, \"3\": 5, \"12\": 6, \"6\": 13, \"46\": 3, \"50\": 2, \"30\": 2}, \"35\": {\"36\": 6, \"33\": 1, \"35\": 19, \"17\": 1, \"43\": 3, \"52\": 1, \"55\": 3, \"26\": 2, \"8\": 1, \"27\": 2, \"54\": 1}, \"17\": {\"17\": 57, \"43\": 12, \"32\": 1, \"33\": 1, \"41\": 4, \"49\": 2, \"35\": 1, \"51\": 1, \"54\": 1}, \"32\": {\"32\": 14, \"33\": 1, \"17\": 4, \"55\": 1, \"43\": 2, \"36\": 1, \"49\": 1}, \"47\": {\"47\": 66, \"2\": 2, \"4\": 9, \"40\": 4, \"48\": 10, \"57\": 5, \"9\": 13, \"29\": 3, \"21\": 1, \"52\": 4, \"20\": 2, \"56\": 1}, \"18\": {\"18\": 105, \"35\": 1, \"29\": 1, \"16\": 1}, \"26\": {\"26\": 21, \"19\": 1, \"36\": 1, \"42\": 1}, \"50\": {\"50\": 76, \"6\": 12, \"5\": 10, \"45\": 8, \"3\": 15, \"12\": 1}, \"55\": {\"55\": 78, \"27\": 12, \"38\": 4, \"7\": 1, \"52\": 1, \"51\": 2, \"35\": 2, \"8\": 3, \"36\": 7, \"54\": 7, \"13\": 4, \"43\": 2, \"29\": 1}, \"34\": {\"10\": 3, \"34\": 17, \"23\": 1, \"53\": 1, \"42\": 1, \"36\": 1}, \"30\": {\"45\": 2, \"46\": 5, \"40\": 4, \"0\": 4, \"30\": 19, \"12\": 8, \"52\": 1, \"21\": 1}, \"37\": {\"37\": 19, \"51\": 2, \"57\": 1, \"52\": 1, \"13\": 1}, \"44\": {\"40\": 16, \"44\": 66, \"47\": 1, \"30\": 4, \"0\": 1, \"45\": 4, \"48\": 2, \"46\": 7, \"5\": 5, \"56\": 8, \"50\": 4, \"4\": 2, \"6\": 8, \"21\": 1, \"22\": 1, \"12\": 1, \"3\": 1}, \"48\": {\"48\": 65, \"30\": 1, \"22\": 2, \"52\": 6, \"47\": 11, \"9\": 11, \"4\": 2, \"46\": 1, \"56\": 6, \"40\": 2, \"20\": 5, \"1\": 3, \"29\": 1, \"0\": 2}, \"16\": {\"16\": 88, \"53\": 1, \"15\": 1, \"11\": 6}}, \"C_2\": {\"11\": {\"11\": 85, \"15\": 19, \"28\": 1, \"16\": 10, \"53\": 4, \"10\": 6, \"23\": 2, \"24\": 1, \"19\": 2}, \"21\": {\"50\": 8, \"21\": 101, \"12\": 7, \"3\": 2, \"46\": 1, \"30\": 1}, \"19\": {\"19\": 94, \"28\": 3, \"23\": 18, \"42\": 2, \"43\": 7, \"11\": 2, \"17\": 2, \"53\": 2, \"10\": 6, \"36\": 1, \"29\": 1, \"55\": 2}, \"20\": {\"20\": 115, \"41\": 2, \"6\": 1, \"8\": 3, \"52\": 3, \"38\": 1, \"47\": 1, \"48\": 1, \"44\": 1}, \"9\": {\"9\": 107, \"14\": 1, \"8\": 3, \"29\": 3, \"2\": 2, \"57\": 17, \"48\": 3, \"40\": 1, \"47\": 1, \"1\": 1, \"4\": 1}, \"10\": {\"19\": 4, \"10\": 102, \"23\": 2, \"28\": 3, \"11\": 1}, \"37\": {\"37\": 34, \"51\": 1, \"38\": 1}, \"32\": {\"39\": 4, \"32\": 9, \"36\": 4, \"33\": 1, \"51\": 1, \"2\": 3, \"31\": 1, \"57\": 1, \"14\": 1, \"55\": 2, \"13\": 1}, \"3\": {\"3\": 46, \"45\": 8, \"50\": 5, \"12\": 6, \"6\": 11, \"21\": 2, \"46\": 7, \"5\": 6, \"44\": 1}, \"39\": {\"39\": 17, \"40\": 1, \"36\": 3, \"41\": 1, \"47\": 2, \"51\": 1, \"2\": 1, \"52\": 1, \"9\": 1}, \"45\": {\"45\": 68, \"6\": 20, \"44\": 9, \"5\": 12, \"46\": 10, \"3\": 7, \"50\": 1, \"12\": 1}, \"50\": {\"50\": 59, \"46\": 14, \"3\": 9, \"6\": 5, \"30\": 4, \"40\": 4, \"45\": 7, \"12\": 12, \"21\": 12, \"5\": 6, \"22\": 3, \"52\": 1}, \"40\": {\"40\": 64, \"50\": 2, \"46\": 1, \"1\": 4, \"4\": 4, \"22\": 9, \"30\": 19, \"0\": 4, \"6\": 2, \"56\": 9, \"48\": 8, \"52\": 2, \"21\": 3, \"45\": 4, \"47\": 2, \"3\": 1, \"44\": 1, \"9\": 1}, \"46\": {\"50\": 18, \"3\": 7, \"40\": 1, \"46\": 57, \"5\": 8, \"12\": 9, \"21\": 6, \"45\": 10, \"44\": 3, \"6\": 9}, \"12\": {\"12\": 63, \"3\": 3, \"5\": 6, \"6\": 5, \"45\": 4, \"50\": 8, \"46\": 3}, \"13\": {\"13\": 96, \"33\": 1, \"29\": 1, \"8\": 7, \"27\": 8, \"57\": 2, \"9\": 1}, \"47\": {\"40\": 10, \"57\": 4, \"47\": 62, \"56\": 11, \"48\": 7, \"1\": 11, \"4\": 10, \"29\": 1, \"30\": 2, \"0\": 2, \"22\": 2, \"21\": 1, \"46\": 2, \"41\": 2, \"9\": 1, \"50\": 3, \"5\": 1}, \"15\": {\"23\": 4, \"15\": 89, \"43\": 2, \"28\": 1, \"11\": 20, \"10\": 6, \"16\": 15, \"53\": 4, \"19\": 1}, \"54\": {\"54\": 84, \"43\": 4, \"24\": 1, \"51\": 10, \"17\": 2, \"27\": 4, \"55\": 1, \"8\": 1, \"57\": 1}, \"48\": {\"40\": 5, \"50\": 2, \"48\": 109, \"47\": 6, \"44\": 2, \"0\": 2, \"52\": 2, \"56\": 7, \"30\": 3, \"1\": 2, \"29\": 1, \"41\": 2, \"22\": 2, \"4\": 3}, \"23\": {\"23\": 103, \"53\": 11, \"10\": 3, \"24\": 5, \"43\": 7, \"19\": 7, \"11\": 1, \"51\": 1, \"42\": 2, \"28\": 1, \"54\": 1}, \"29\": {\"47\": 1, \"29\": 78, \"57\": 14, \"33\": 2, \"22\": 1, \"32\": 4, \"1\": 2, \"27\": 6, \"44\": 1, \"13\": 2, \"7\": 1, \"9\": 3, \"8\": 4, \"48\": 1, \"2\": 1, \"5\": 1, \"46\": 1, \"55\": 1, \"0\": 1, \"36\": 3}, \"38\": {\"38\": 14, \"20\": 3, \"33\": 1, \"13\": 2}, \"53\": {\"53\": 118, \"23\": 13, \"19\": 2, \"42\": 1, \"11\": 1, \"24\": 1}, \"27\": {\"27\": 127, \"33\": 1, \"9\": 1, \"8\": 9, \"57\": 2, \"51\": 1, \"13\": 5, \"55\": 1, \"29\": 3}, \"43\": {\"43\": 106, \"24\": 8, \"17\": 16, \"54\": 3, \"42\": 4, \"51\": 1, \"23\": 4, \"11\": 1, \"27\": 1}, \"35\": {\"35\": 22, \"55\": 1, \"32\": 1, \"24\": 1, \"42\": 3, \"33\": 1, \"7\": 1, \"36\": 2}, \"0\": {\"0\": 19, \"52\": 5, \"48\": 6, \"30\": 5, \"50\": 2, \"40\": 7, \"56\": 2, \"1\": 2}, \"52\": {\"52\": 66, \"0\": 2, \"56\": 1, \"30\": 12, \"1\": 2, \"40\": 9, \"20\": 7, \"5\": 2, \"48\": 8, \"22\": 2, \"21\": 5, \"47\": 3, \"41\": 2, \"46\": 1, \"50\": 2}, \"8\": {\"8\": 82, \"52\": 1, \"13\": 7, \"57\": 7, \"9\": 6, \"4\": 1, \"29\": 4, \"27\": 15, \"20\": 5}, \"24\": {\"53\": 2, \"24\": 76, \"43\": 9, \"49\": 2, \"17\": 1, \"23\": 6}, \"18\": {\"18\": 48}, \"25\": {\"25\": 122, \"28\": 1, \"53\": 7, \"23\": 3, \"15\": 5, \"11\": 6, \"24\": 2, \"54\": 1, \"16\": 1}, \"57\": {\"57\": 48, \"29\": 19, \"4\": 7, \"2\": 1, \"1\": 7, \"8\": 11, \"48\": 5, \"47\": 14, \"30\": 1, \"9\": 8, \"13\": 2, \"56\": 2, \"40\": 1, \"20\": 2, \"33\": 2, \"32\": 1, \"7\": 1, \"27\": 1, \"52\": 1, \"0\": 1, \"55\": 1}, \"55\": {\"8\": 14, \"55\": 67, \"33\": 1, \"27\": 10, \"13\": 3, \"7\": 6, \"36\": 8, \"20\": 2, \"57\": 4, \"9\": 4, \"29\": 5, \"41\": 1, \"31\": 1, \"2\": 2, \"32\": 1, \"14\": 1, \"54\": 3, \"39\": 1}, \"36\": {\"36\": 113, \"31\": 1, \"27\": 1, \"55\": 1}, \"17\": {\"17\": 81, \"49\": 1, \"43\": 14, \"54\": 1, \"27\": 1, \"24\": 1, \"42\": 2, \"51\": 1, \"13\": 1, \"29\": 1}, \"2\": {\"57\": 1, \"2\": 29, \"52\": 1, \"9\": 1}, \"34\": {\"17\": 3, \"34\": 15, \"23\": 5, \"49\": 2, \"28\": 1, \"10\": 2}, \"1\": {\"1\": 49, \"57\": 3, \"41\": 2, \"4\": 12, \"22\": 9, \"56\": 15, \"47\": 8, \"52\": 1, \"0\": 3, \"20\": 2, \"48\": 4, \"50\": 2, \"30\": 1, \"44\": 1}, \"51\": {\"51\": 115, \"33\": 1, \"13\": 2, \"20\": 1, \"27\": 10, \"54\": 3, \"29\": 1, \"37\": 2, \"8\": 1}, \"31\": {\"31\": 26, \"33\": 1, \"39\": 1}, \"49\": {\"49\": 13, \"24\": 1, \"53\": 3, \"54\": 2, \"17\": 3, \"27\": 1, \"34\": 1}, \"14\": {\"41\": 1, \"14\": 12, \"0\": 1, \"33\": 1, \"8\": 2, \"1\": 1, \"9\": 1, \"29\": 1, \"4\": 1, \"38\": 1, \"52\": 1, \"48\": 1}, \"33\": {\"27\": 6, \"29\": 1, \"33\": 7, \"57\": 2, \"54\": 2, \"32\": 1, \"8\": 3, \"7\": 1, \"9\": 1, \"39\": 1, \"13\": 2, \"51\": 1}, \"41\": {\"41\": 14, \"57\": 1, \"30\": 1, \"38\": 1, \"48\": 1, \"47\": 1, \"20\": 1}, \"28\": {\"28\": 26, \"31\": 1, \"42\": 1}, \"5\": {\"5\": 60, \"6\": 7, \"46\": 12, \"12\": 7, \"50\": 8, \"44\": 2, \"22\": 3, \"3\": 4, \"45\": 10, \"21\": 5, \"40\": 1, \"4\": 1}, \"16\": {\"16\": 127, \"10\": 5, \"11\": 11, \"15\": 7}, \"4\": {\"4\": 38, \"22\": 3, \"9\": 15, \"47\": 7, \"40\": 5, \"1\": 6, \"44\": 2, \"20\": 9, \"30\": 4, \"57\": 14, \"46\": 1, \"5\": 2, \"48\": 3, \"56\": 11, \"41\": 1, \"52\": 2, \"29\": 3, \"8\": 2}, \"22\": {\"50\": 3, \"30\": 9, \"56\": 11, \"22\": 58, \"44\": 7, \"40\": 14, \"47\": 3, \"4\": 2, \"0\": 6, \"52\": 1, \"3\": 3, \"5\": 7, \"46\": 3, \"48\": 7, \"1\": 2}, \"6\": {\"3\": 8, \"6\": 92, \"21\": 1, \"50\": 3, \"45\": 8, \"46\": 4, \"5\": 2}, \"30\": {\"0\": 3, \"30\": 53, \"40\": 10, \"41\": 1, \"56\": 3, \"48\": 14, \"21\": 8, \"52\": 9, \"47\": 5, \"1\": 2, \"22\": 2, \"12\": 1, \"5\": 3, \"50\": 2, \"4\": 6, \"46\": 1, \"20\": 1}, \"26\": {\"26\": 20, \"54\": 1, \"27\": 2, \"37\": 1}, \"56\": {\"56\": 82, \"4\": 9, \"47\": 20, \"52\": 3, \"22\": 8, \"48\": 5, \"50\": 1, \"0\": 1, \"1\": 6, \"40\": 5, \"5\": 1, \"46\": 1}, \"42\": {\"42\": 25, \"43\": 5, \"49\": 2, \"54\": 1, \"10\": 1, \"27\": 1, \"24\": 1}, \"44\": {\"44\": 55, \"30\": 4, \"45\": 9, \"22\": 5, \"3\": 2, \"5\": 6, \"40\": 3, \"50\": 3, \"12\": 3, \"56\": 1, \"21\": 2, \"0\": 1, \"1\": 1, \"6\": 2, \"46\": 3}, \"7\": {\"51\": 2, \"7\": 16, \"27\": 4, \"55\": 3, \"29\": 1, \"17\": 1, \"39\": 3, \"9\": 2, \"2\": 1, \"54\": 1, \"33\": 2}}}, \"per_domain_accuracy\": {\"O_26\": {\"accuracy\": 0.36744791666666665, \"source?\": true}, \"O_44\": {\"accuracy\": 0.8104166666666667, \"source?\": true}, \"O_50\": {\"accuracy\": 0.9231770833333334, \"source?\": true}, \"O_38\": {\"accuracy\": 0.86171875, \"source?\": true}, \"O_20\": {\"accuracy\": 0.30234375, \"source?\": true}, \"O_14\": {\"accuracy\": 0.5619791666666667, \"source?\": true}, \"O_32\": {\"accuracy\": 0.7557291666666667, \"source?\": true}, \"O_8\": {\"accuracy\": 0.4669270833333333, \"source?\": true}, \"C_5\": {\"accuracy\": 0.666550279329609, \"source?\": false}, \"C_1\": {\"accuracy\": 0.7309782608695652, \"source?\": false}, \"C_3\": {\"accuracy\": 0.6454044117647059, \"source?\": false}, \"C_4\": {\"accuracy\": 0.6635918674698795, \"source?\": false}, \"C_2\": {\"accuracy\": 0.6539417613636364, \"source?\": false}}}, \"history\": {\"epoch_indices\": [1, 2, 3, 4, 5], \"train_label_loss\": [0.45596392240646916, 2.4839090340804044, 0.3544809932363153, 0.3759927547306732, 0.2802991053582879], \"source_val_label_loss\": [157.37611389160156, 0.39199575781822205, 0.3445873558521271, 0.32062453031539917, 0.28709596395492554], \"target_val_label_loss\": [8642.9619140625, 1303.143310546875, 1500.8994140625, 979.310546875, 722.6001586914062], \"source_val_acc_label\": [0.6312174479166667, 0.8634114583333333, 0.8917317708333333, 0.8879231770833333, 0.9019856770833333], \"target_val_acc_label\": [0.6728928571428572, 0.47382142857142856, 0.41446428571428573, 0.4950357142857143, 0.5502857142857143]}, \"dataset_metrics\": {\"source\": {\"train\": {\"n_unique_x\": 179200, \"n_unique_y\": 16, \"n_batch/episode\": 6720}, \"val\": {\"n_unique_x\": 38400, \"n_unique_y\": 16, \"n_batch/episode\": 960}, \"test\": {\"n_unique_x\": 38400, \"n_unique_y\": 16, \"n_batch/episode\": 960}}, \"target\": {\"train\": {\"n_unique_x\": 175203, \"n_unique_y\": 58, \"n_batch/episode\": 6321}, \"val\": {\"n_unique_x\": 37151, \"n_unique_y\": 58, \"n_batch/episode\": 875}, \"test\": {\"n_unique_x\": 37548, \"n_unique_y\": 58, \"n_batch/episode\": 885}}}}'"
      ]
     },
     "execution_count": 29,
     "metadata": {},
     "output_type": "execute_result"
    }
   ],
   "source": [
    "json.dumps(experiment)"
   ]
  }
 ],
 "metadata": {
  "celltoolbar": "Tags",
  "kernelspec": {
   "display_name": "Python 3 (ipykernel)",
   "language": "python",
   "name": "python3"
  },
  "language_info": {
   "codemirror_mode": {
    "name": "ipython",
    "version": 3
   },
   "file_extension": ".py",
   "mimetype": "text/x-python",
   "name": "python",
   "nbconvert_exporter": "python",
   "pygments_lexer": "ipython3",
   "version": "3.8.10"
  },
  "papermill": {
   "default_parameters": {},
   "duration": 1604.798149,
   "end_time": "2022-03-26T03:28:56.905117",
   "environment_variables": {},
   "exception": null,
   "input_path": "/mnt/wd500GB/CSC500/csc500-main/csc500-notebooks/templates/tl_ptn_template.ipynb",
   "output_path": "trial.ipynb",
   "parameters": {
    "parameters": {
     "BEST_MODEL_PATH": "./best_model.pth",
     "NUM_LOGS_PER_EPOCH": 10,
     "criteria_for_best": "target_accuracy",
     "dataset_seed": 7,
     "datasets": [
      {
       "domain_prefix": "C_",
       "domains": [
        1,
        2,
        3,
        4,
        5
       ],
       "episode_transforms": [],
       "labels": [
        "1-10.",
        "1-11.",
        "1-15.",
        "1-16.",
        "1-17.",
        "1-18.",
        "1-19.",
        "10-4.",
        "10-7.",
        "11-1.",
        "11-14.",
        "11-17.",
        "11-20.",
        "11-7.",
        "13-20.",
        "13-8.",
        "14-10.",
        "14-11.",
        "14-14.",
        "14-7.",
        "15-1.",
        "15-20.",
        "16-1.",
        "16-16.",
        "17-10.",
        "17-11.",
        "17-2.",
        "19-1.",
        "19-16.",
        "19-19.",
        "19-20.",
        "19-3.",
        "2-10.",
        "2-11.",
        "2-17.",
        "2-18.",
        "2-20.",
        "2-3.",
        "2-4.",
        "2-5.",
        "2-6.",
        "2-7.",
        "2-8.",
        "3-13.",
        "3-18.",
        "3-3.",
        "4-1.",
        "4-10.",
        "4-11.",
        "4-19.",
        "5-5.",
        "6-15.",
        "7-10.",
        "7-14.",
        "8-18.",
        "8-20.",
        "8-3.",
        "8-8."
       ],
       "num_examples_per_domain_per_label": -1,
       "pickle_path": "/mnt/wd500GB/CSC500/csc500-main/datasets/cores.stratified_ds.2022A.pkl",
       "source_or_target_dataset": "target",
       "x_transforms": [
        "lowpass_+/-10MHz",
        "take_200"
       ]
      },
      {
       "domain_prefix": "O_",
       "domains": [
        32,
        38,
        8,
        44,
        14,
        50,
        20,
        26
       ],
       "episode_transforms": [],
       "labels": [
        "3123D52",
        "3123D65",
        "3123D79",
        "3123D80",
        "3123D54",
        "3123D70",
        "3123D7B",
        "3123D89",
        "3123D58",
        "3123D76",
        "3123D7D",
        "3123EFE",
        "3123D64",
        "3123D78",
        "3123D7E",
        "3124E4A"
       ],
       "num_examples_per_domain_per_label": 2000,
       "pickle_path": "/mnt/wd500GB/CSC500/csc500-main/datasets/oracle.Run1_framed_2000Examples_stratified_ds.2022A.pkl",
       "source_or_target_dataset": "source",
       "x_transforms": [
        "take_200",
        "resample_20Msps_to_25Msps"
       ]
      }
     ],
     "device": "cuda",
     "experiment_name": "tl_3-filterv2:oracle.run1.framed -> cores",
     "lr": 0.0001,
     "n_epoch": 50,
     "n_query": 2,
     "n_shot": 3,
     "n_way": 16,
     "patience": 3,
     "seed": 7,
     "test_k_factor": 2,
     "torch_default_dtype": "torch.float32",
     "train_k_factor": 3,
     "val_k_factor": 2,
     "x_net": [
      {
       "class": "nnReshape",
       "kargs": {
        "shape": [
         -1,
         1,
         2,
         200
        ]
       }
      },
      {
       "class": "Conv2d",
       "kargs": {
        "bias": false,
        "in_channels": 1,
        "kernel_size": [
         1,
         7
        ],
        "out_channels": 256,
        "padding": [
         0,
         3
        ]
       }
      },
      {
       "class": "ReLU",
       "kargs": {
        "inplace": true
       }
      },
      {
       "class": "BatchNorm2d",
       "kargs": {
        "num_features": 256
       }
      },
      {
       "class": "Conv2d",
       "kargs": {
        "bias": true,
        "in_channels": 256,
        "kernel_size": [
         2,
         7
        ],
        "out_channels": 80,
        "padding": [
         0,
         3
        ]
       }
      },
      {
       "class": "ReLU",
       "kargs": {
        "inplace": true
       }
      },
      {
       "class": "BatchNorm2d",
       "kargs": {
        "num_features": 80
       }
      },
      {
       "class": "Flatten",
       "kargs": {}
      },
      {
       "class": "Linear",
       "kargs": {
        "in_features": 16000,
        "out_features": 256
       }
      },
      {
       "class": "ReLU",
       "kargs": {
        "inplace": true
       }
      },
      {
       "class": "BatchNorm1d",
       "kargs": {
        "num_features": 256
       }
      },
      {
       "class": "Linear",
       "kargs": {
        "in_features": 256,
        "out_features": 256
       }
      }
     ],
     "x_shape": [
      2,
      200
     ]
    }
   },
   "start_time": "2022-03-26T03:02:12.106968",
   "version": "2.3.4"
  }
 },
 "nbformat": 4,
 "nbformat_minor": 5
}