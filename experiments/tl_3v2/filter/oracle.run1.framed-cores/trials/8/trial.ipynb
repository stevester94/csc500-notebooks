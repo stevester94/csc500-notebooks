{
 "cells": [
  {
   "cell_type": "markdown",
   "id": "9fea5f46",
   "metadata": {
    "papermill": {
     "duration": 0.013951,
     "end_time": "2022-03-26T01:37:08.859220",
     "exception": false,
     "start_time": "2022-03-26T01:37:08.845269",
     "status": "completed"
    },
    "tags": []
   },
   "source": [
    "# Transfer Learning Template"
   ]
  },
  {
   "cell_type": "code",
   "execution_count": 1,
   "id": "0902182a",
   "metadata": {
    "execution": {
     "iopub.execute_input": "2022-03-26T01:37:08.897898Z",
     "iopub.status.busy": "2022-03-26T01:37:08.897391Z",
     "iopub.status.idle": "2022-03-26T01:37:09.978466Z",
     "shell.execute_reply": "2022-03-26T01:37:09.978915Z"
    },
    "papermill": {
     "duration": 1.106503,
     "end_time": "2022-03-26T01:37:09.979110",
     "exception": false,
     "start_time": "2022-03-26T01:37:08.872607",
     "status": "completed"
    },
    "tags": []
   },
   "outputs": [],
   "source": [
    "%load_ext autoreload\n",
    "%autoreload 2\n",
    "%matplotlib inline\n",
    "\n",
    "    \n",
    "import os, json, sys, time, random\n",
    "import numpy as np\n",
    "import torch\n",
    "from torch.optim import Adam\n",
    "from  easydict import EasyDict\n",
    "import matplotlib.pyplot as plt\n",
    "\n",
    "from steves_models.steves_ptn import Steves_Prototypical_Network\n",
    "\n",
    "from steves_utils.lazy_iterable_wrapper import Lazy_Iterable_Wrapper\n",
    "from steves_utils.iterable_aggregator import Iterable_Aggregator\n",
    "from steves_utils.ptn_train_eval_test_jig import  PTN_Train_Eval_Test_Jig\n",
    "from steves_utils.torch_sequential_builder import build_sequential\n",
    "from steves_utils.torch_utils import get_dataset_metrics, ptn_confusion_by_domain_over_dataloader\n",
    "from steves_utils.utils_v2 import (per_domain_accuracy_from_confusion, get_datasets_base_path)\n",
    "from steves_utils.PTN.utils import independent_accuracy_assesment\n",
    "\n",
    "from torch.utils.data import DataLoader\n",
    "\n",
    "from steves_utils.stratified_dataset.episodic_accessor import Episodic_Accessor_Factory\n",
    "\n",
    "from steves_utils.ptn_do_report import (\n",
    "    get_loss_curve,\n",
    "    get_results_table,\n",
    "    get_parameters_table,\n",
    "    get_domain_accuracies,\n",
    ")\n",
    "\n",
    "from steves_utils.transforms import get_chained_transform"
   ]
  },
  {
   "cell_type": "markdown",
   "id": "41c840b4",
   "metadata": {
    "papermill": {
     "duration": 0.01273,
     "end_time": "2022-03-26T01:37:10.007528",
     "exception": false,
     "start_time": "2022-03-26T01:37:09.994798",
     "status": "completed"
    },
    "tags": []
   },
   "source": [
    "# Allowed Parameters\n",
    "These are allowed parameters, not defaults\n",
    "Each of these values need to be present in the injected parameters (the notebook will raise an exception if they are not present)\n",
    "\n",
    "Papermill uses the cell tag \"parameters\" to inject the real parameters below this cell.\n",
    "Enable tags to see what I mean"
   ]
  },
  {
   "cell_type": "code",
   "execution_count": 2,
   "id": "fd44eb83",
   "metadata": {
    "execution": {
     "iopub.execute_input": "2022-03-26T01:37:10.035961Z",
     "iopub.status.busy": "2022-03-26T01:37:10.035692Z",
     "iopub.status.idle": "2022-03-26T01:37:10.048502Z",
     "shell.execute_reply": "2022-03-26T01:37:10.048821Z"
    },
    "papermill": {
     "duration": 0.028571,
     "end_time": "2022-03-26T01:37:10.048919",
     "exception": false,
     "start_time": "2022-03-26T01:37:10.020348",
     "status": "completed"
    },
    "tags": []
   },
   "outputs": [],
   "source": [
    "required_parameters = {\n",
    "    \"experiment_name\",\n",
    "    \"lr\",\n",
    "    \"device\",\n",
    "    \"seed\",\n",
    "    \"dataset_seed\",\n",
    "    \"n_shot\",\n",
    "    \"n_query\",\n",
    "    \"n_way\",\n",
    "    \"train_k_factor\",\n",
    "    \"val_k_factor\",\n",
    "    \"test_k_factor\",\n",
    "    \"n_epoch\",\n",
    "    \"patience\",\n",
    "    \"criteria_for_best\",\n",
    "    \"x_net\",\n",
    "    \"datasets\",\n",
    "    \"torch_default_dtype\",\n",
    "    \"NUM_LOGS_PER_EPOCH\",\n",
    "    \"BEST_MODEL_PATH\",\n",
    "    \"x_shape\",\n",
    "}"
   ]
  },
  {
   "cell_type": "code",
   "execution_count": 3,
   "id": "fa3f0049",
   "metadata": {
    "execution": {
     "iopub.execute_input": "2022-03-26T01:37:10.087529Z",
     "iopub.status.busy": "2022-03-26T01:37:10.078337Z",
     "iopub.status.idle": "2022-03-26T01:37:10.100374Z",
     "shell.execute_reply": "2022-03-26T01:37:10.099928Z"
    },
    "papermill": {
     "duration": 0.036595,
     "end_time": "2022-03-26T01:37:10.100481",
     "exception": false,
     "start_time": "2022-03-26T01:37:10.063886",
     "status": "completed"
    },
    "tags": [
     "parameters"
    ]
   },
   "outputs": [],
   "source": [
    "from steves_utils.CORES.utils import (\n",
    "    ALL_NODES,\n",
    "    ALL_NODES_MINIMUM_1000_EXAMPLES,\n",
    "    ALL_DAYS\n",
    ")\n",
    "\n",
    "from steves_utils.ORACLE.utils_v2 import (\n",
    "    ALL_DISTANCES_FEET_NARROWED,\n",
    "    ALL_RUNS,\n",
    "    ALL_SERIAL_NUMBERS,\n",
    ")\n",
    "\n",
    "standalone_parameters = {}\n",
    "standalone_parameters[\"experiment_name\"] = \"STANDALONE PTN\"\n",
    "standalone_parameters[\"lr\"] = 0.001\n",
    "standalone_parameters[\"device\"] = \"cuda\"\n",
    "\n",
    "standalone_parameters[\"seed\"] = 1337\n",
    "standalone_parameters[\"dataset_seed\"] = 1337\n",
    "\n",
    "standalone_parameters[\"n_way\"] = 8\n",
    "standalone_parameters[\"n_shot\"] = 3\n",
    "standalone_parameters[\"n_query\"]  = 2\n",
    "standalone_parameters[\"train_k_factor\"] = 1\n",
    "standalone_parameters[\"val_k_factor\"] = 2\n",
    "standalone_parameters[\"test_k_factor\"] = 2\n",
    "\n",
    "\n",
    "standalone_parameters[\"n_epoch\"] = 50\n",
    "\n",
    "standalone_parameters[\"patience\"] = 10\n",
    "standalone_parameters[\"criteria_for_best\"] = \"source_loss\"\n",
    "\n",
    "standalone_parameters[\"datasets\"] = [\n",
    "    {\n",
    "        \"labels\": ALL_SERIAL_NUMBERS,\n",
    "        \"domains\": ALL_DISTANCES_FEET_NARROWED,\n",
    "        \"num_examples_per_domain_per_label\": 100,\n",
    "        \"pickle_path\": os.path.join(get_datasets_base_path(), \"oracle.Run1_framed_2000Examples_stratified_ds.2022A.pkl\"),\n",
    "        \"source_or_target_dataset\": \"source\",\n",
    "        \"x_transforms\": [\"unit_mag\", \"minus_two\"],\n",
    "        \"episode_transforms\": [],\n",
    "        \"domain_prefix\": \"ORACLE_\"\n",
    "    },\n",
    "    {\n",
    "        \"labels\": ALL_NODES,\n",
    "        \"domains\": ALL_DAYS,\n",
    "        \"num_examples_per_domain_per_label\": 100,\n",
    "        \"pickle_path\": os.path.join(get_datasets_base_path(), \"cores.stratified_ds.2022A.pkl\"),\n",
    "        \"source_or_target_dataset\": \"target\",\n",
    "        \"x_transforms\": [\"unit_power\", \"times_zero\"],\n",
    "        \"episode_transforms\": [],\n",
    "        \"domain_prefix\": \"CORES_\"\n",
    "    }   \n",
    "]\n",
    "\n",
    "standalone_parameters[\"torch_default_dtype\"] = \"torch.float32\" \n",
    "\n",
    "\n",
    "\n",
    "standalone_parameters[\"x_net\"] =     [\n",
    "    {\"class\": \"nnReshape\", \"kargs\": {\"shape\":[-1, 1, 2, 256]}},\n",
    "    {\"class\": \"Conv2d\", \"kargs\": { \"in_channels\":1, \"out_channels\":256, \"kernel_size\":(1,7), \"bias\":False, \"padding\":(0,3), },},\n",
    "    {\"class\": \"ReLU\", \"kargs\": {\"inplace\": True}},\n",
    "    {\"class\": \"BatchNorm2d\", \"kargs\": {\"num_features\":256}},\n",
    "\n",
    "    {\"class\": \"Conv2d\", \"kargs\": { \"in_channels\":256, \"out_channels\":80, \"kernel_size\":(2,7), \"bias\":True, \"padding\":(0,3), },},\n",
    "    {\"class\": \"ReLU\", \"kargs\": {\"inplace\": True}},\n",
    "    {\"class\": \"BatchNorm2d\", \"kargs\": {\"num_features\":80}},\n",
    "    {\"class\": \"Flatten\", \"kargs\": {}},\n",
    "\n",
    "    {\"class\": \"Linear\", \"kargs\": {\"in_features\": 80*256, \"out_features\": 256}}, # 80 units per IQ pair\n",
    "    {\"class\": \"ReLU\", \"kargs\": {\"inplace\": True}},\n",
    "    {\"class\": \"BatchNorm1d\", \"kargs\": {\"num_features\":256}},\n",
    "\n",
    "    {\"class\": \"Linear\", \"kargs\": {\"in_features\": 256, \"out_features\": 256}},\n",
    "]\n",
    "\n",
    "# Parameters relevant to results\n",
    "# These parameters will basically never need to change\n",
    "standalone_parameters[\"NUM_LOGS_PER_EPOCH\"] = 10\n",
    "standalone_parameters[\"BEST_MODEL_PATH\"] = \"./best_model.pth\"\n",
    "\n",
    "\n",
    "\n",
    "\n"
   ]
  },
  {
   "cell_type": "code",
   "execution_count": 4,
   "id": "05cd3049",
   "metadata": {
    "execution": {
     "iopub.execute_input": "2022-03-26T01:37:10.143278Z",
     "iopub.status.busy": "2022-03-26T01:37:10.142949Z",
     "iopub.status.idle": "2022-03-26T01:37:10.156169Z",
     "shell.execute_reply": "2022-03-26T01:37:10.155734Z"
    },
    "papermill": {
     "duration": 0.037377,
     "end_time": "2022-03-26T01:37:10.156271",
     "exception": false,
     "start_time": "2022-03-26T01:37:10.118894",
     "status": "completed"
    },
    "tags": [
     "injected-parameters"
    ]
   },
   "outputs": [],
   "source": [
    "# Parameters\n",
    "parameters = {\n",
    "    \"experiment_name\": \"tl_3-filterv2:oracle.run1.framed -> cores\",\n",
    "    \"device\": \"cuda\",\n",
    "    \"lr\": 0.0001,\n",
    "    \"x_shape\": [2, 200],\n",
    "    \"n_shot\": 3,\n",
    "    \"n_query\": 2,\n",
    "    \"train_k_factor\": 3,\n",
    "    \"val_k_factor\": 2,\n",
    "    \"test_k_factor\": 2,\n",
    "    \"torch_default_dtype\": \"torch.float32\",\n",
    "    \"n_epoch\": 50,\n",
    "    \"patience\": 3,\n",
    "    \"criteria_for_best\": \"target_accuracy\",\n",
    "    \"x_net\": [\n",
    "        {\"class\": \"nnReshape\", \"kargs\": {\"shape\": [-1, 1, 2, 200]}},\n",
    "        {\n",
    "            \"class\": \"Conv2d\",\n",
    "            \"kargs\": {\n",
    "                \"in_channels\": 1,\n",
    "                \"out_channels\": 256,\n",
    "                \"kernel_size\": [1, 7],\n",
    "                \"bias\": False,\n",
    "                \"padding\": [0, 3],\n",
    "            },\n",
    "        },\n",
    "        {\"class\": \"ReLU\", \"kargs\": {\"inplace\": True}},\n",
    "        {\"class\": \"BatchNorm2d\", \"kargs\": {\"num_features\": 256}},\n",
    "        {\n",
    "            \"class\": \"Conv2d\",\n",
    "            \"kargs\": {\n",
    "                \"in_channels\": 256,\n",
    "                \"out_channels\": 80,\n",
    "                \"kernel_size\": [2, 7],\n",
    "                \"bias\": True,\n",
    "                \"padding\": [0, 3],\n",
    "            },\n",
    "        },\n",
    "        {\"class\": \"ReLU\", \"kargs\": {\"inplace\": True}},\n",
    "        {\"class\": \"BatchNorm2d\", \"kargs\": {\"num_features\": 80}},\n",
    "        {\"class\": \"Flatten\", \"kargs\": {}},\n",
    "        {\"class\": \"Linear\", \"kargs\": {\"in_features\": 16000, \"out_features\": 256}},\n",
    "        {\"class\": \"ReLU\", \"kargs\": {\"inplace\": True}},\n",
    "        {\"class\": \"BatchNorm1d\", \"kargs\": {\"num_features\": 256}},\n",
    "        {\"class\": \"Linear\", \"kargs\": {\"in_features\": 256, \"out_features\": 256}},\n",
    "    ],\n",
    "    \"NUM_LOGS_PER_EPOCH\": 10,\n",
    "    \"BEST_MODEL_PATH\": \"./best_model.pth\",\n",
    "    \"n_way\": 16,\n",
    "    \"datasets\": [\n",
    "        {\n",
    "            \"labels\": [\n",
    "                \"1-10.\",\n",
    "                \"1-11.\",\n",
    "                \"1-15.\",\n",
    "                \"1-16.\",\n",
    "                \"1-17.\",\n",
    "                \"1-18.\",\n",
    "                \"1-19.\",\n",
    "                \"10-4.\",\n",
    "                \"10-7.\",\n",
    "                \"11-1.\",\n",
    "                \"11-14.\",\n",
    "                \"11-17.\",\n",
    "                \"11-20.\",\n",
    "                \"11-7.\",\n",
    "                \"13-20.\",\n",
    "                \"13-8.\",\n",
    "                \"14-10.\",\n",
    "                \"14-11.\",\n",
    "                \"14-14.\",\n",
    "                \"14-7.\",\n",
    "                \"15-1.\",\n",
    "                \"15-20.\",\n",
    "                \"16-1.\",\n",
    "                \"16-16.\",\n",
    "                \"17-10.\",\n",
    "                \"17-11.\",\n",
    "                \"17-2.\",\n",
    "                \"19-1.\",\n",
    "                \"19-16.\",\n",
    "                \"19-19.\",\n",
    "                \"19-20.\",\n",
    "                \"19-3.\",\n",
    "                \"2-10.\",\n",
    "                \"2-11.\",\n",
    "                \"2-17.\",\n",
    "                \"2-18.\",\n",
    "                \"2-20.\",\n",
    "                \"2-3.\",\n",
    "                \"2-4.\",\n",
    "                \"2-5.\",\n",
    "                \"2-6.\",\n",
    "                \"2-7.\",\n",
    "                \"2-8.\",\n",
    "                \"3-13.\",\n",
    "                \"3-18.\",\n",
    "                \"3-3.\",\n",
    "                \"4-1.\",\n",
    "                \"4-10.\",\n",
    "                \"4-11.\",\n",
    "                \"4-19.\",\n",
    "                \"5-5.\",\n",
    "                \"6-15.\",\n",
    "                \"7-10.\",\n",
    "                \"7-14.\",\n",
    "                \"8-18.\",\n",
    "                \"8-20.\",\n",
    "                \"8-3.\",\n",
    "                \"8-8.\",\n",
    "            ],\n",
    "            \"domains\": [1, 2, 3, 4, 5],\n",
    "            \"num_examples_per_domain_per_label\": -1,\n",
    "            \"pickle_path\": \"/mnt/wd500GB/CSC500/csc500-main/datasets/cores.stratified_ds.2022A.pkl\",\n",
    "            \"source_or_target_dataset\": \"target\",\n",
    "            \"x_transforms\": [\"lowpass_+/-10MHz\", \"take_200\"],\n",
    "            \"episode_transforms\": [],\n",
    "            \"domain_prefix\": \"C_\",\n",
    "        },\n",
    "        {\n",
    "            \"labels\": [\n",
    "                \"3123D52\",\n",
    "                \"3123D65\",\n",
    "                \"3123D79\",\n",
    "                \"3123D80\",\n",
    "                \"3123D54\",\n",
    "                \"3123D70\",\n",
    "                \"3123D7B\",\n",
    "                \"3123D89\",\n",
    "                \"3123D58\",\n",
    "                \"3123D76\",\n",
    "                \"3123D7D\",\n",
    "                \"3123EFE\",\n",
    "                \"3123D64\",\n",
    "                \"3123D78\",\n",
    "                \"3123D7E\",\n",
    "                \"3124E4A\",\n",
    "            ],\n",
    "            \"domains\": [32, 38, 8, 44, 14, 50, 20, 26],\n",
    "            \"num_examples_per_domain_per_label\": 2000,\n",
    "            \"pickle_path\": \"/mnt/wd500GB/CSC500/csc500-main/datasets/oracle.Run1_framed_2000Examples_stratified_ds.2022A.pkl\",\n",
    "            \"source_or_target_dataset\": \"source\",\n",
    "            \"x_transforms\": [\"take_200\", \"resample_20Msps_to_25Msps\"],\n",
    "            \"episode_transforms\": [],\n",
    "            \"domain_prefix\": \"O_\",\n",
    "        },\n",
    "    ],\n",
    "    \"seed\": 154325,\n",
    "    \"dataset_seed\": 154325,\n",
    "}\n"
   ]
  },
  {
   "cell_type": "code",
   "execution_count": 5,
   "id": "8fa1cc33",
   "metadata": {
    "execution": {
     "iopub.execute_input": "2022-03-26T01:37:10.189523Z",
     "iopub.status.busy": "2022-03-26T01:37:10.189254Z",
     "iopub.status.idle": "2022-03-26T01:37:10.200890Z",
     "shell.execute_reply": "2022-03-26T01:37:10.201196Z"
    },
    "papermill": {
     "duration": 0.028959,
     "end_time": "2022-03-26T01:37:10.201289",
     "exception": false,
     "start_time": "2022-03-26T01:37:10.172330",
     "status": "completed"
    },
    "tags": []
   },
   "outputs": [],
   "source": [
    "# Set this to True if you want to run this template directly\n",
    "STANDALONE = False\n",
    "if STANDALONE:\n",
    "    print(\"parameters not injected, running with standalone_parameters\")\n",
    "    parameters = standalone_parameters\n",
    "\n",
    "if not 'parameters' in locals() and not 'parameters' in globals():\n",
    "    raise Exception(\"Parameter injection failed\")\n",
    "\n",
    "#Use an easy dict for all the parameters\n",
    "p = EasyDict(parameters)\n",
    "\n",
    "if \"x_shape\" not in p:\n",
    "    p.x_shape = [2,256] # Default to this if we dont supply x_shape\n",
    "\n",
    "\n",
    "supplied_keys = set(p.keys())\n",
    "\n",
    "if  supplied_keys != required_parameters:\n",
    "    print(\"Parameters are incorrect\")\n",
    "    if len(supplied_keys - required_parameters)>0: print(\"Shouldn't have:\", str(supplied_keys - required_parameters))\n",
    "    if len(required_parameters - supplied_keys)>0: print(\"Need to have:\", str(required_parameters - supplied_keys))\n",
    "    raise RuntimeError(\"Parameters are incorrect\")"
   ]
  },
  {
   "cell_type": "code",
   "execution_count": 6,
   "id": "3a028d58",
   "metadata": {
    "execution": {
     "iopub.execute_input": "2022-03-26T01:37:10.234235Z",
     "iopub.status.busy": "2022-03-26T01:37:10.233965Z",
     "iopub.status.idle": "2022-03-26T01:37:10.247877Z",
     "shell.execute_reply": "2022-03-26T01:37:10.247445Z"
    },
    "papermill": {
     "duration": 0.029492,
     "end_time": "2022-03-26T01:37:10.247976",
     "exception": false,
     "start_time": "2022-03-26T01:37:10.218484",
     "status": "completed"
    },
    "tags": []
   },
   "outputs": [],
   "source": [
    "###################################\n",
    "# Set the RNGs and make it all deterministic\n",
    "###################################\n",
    "np.random.seed(p.seed)\n",
    "random.seed(p.seed)\n",
    "torch.manual_seed(p.seed)\n",
    "\n",
    "torch.use_deterministic_algorithms(True) "
   ]
  },
  {
   "cell_type": "code",
   "execution_count": 7,
   "id": "b691acf6",
   "metadata": {
    "execution": {
     "iopub.execute_input": "2022-03-26T01:37:10.282031Z",
     "iopub.status.busy": "2022-03-26T01:37:10.281763Z",
     "iopub.status.idle": "2022-03-26T01:37:10.297302Z",
     "shell.execute_reply": "2022-03-26T01:37:10.296875Z"
    },
    "papermill": {
     "duration": 0.030768,
     "end_time": "2022-03-26T01:37:10.297402",
     "exception": false,
     "start_time": "2022-03-26T01:37:10.266634",
     "status": "completed"
    },
    "tags": []
   },
   "outputs": [],
   "source": [
    "###########################################\n",
    "# The stratified datasets honor this\n",
    "###########################################\n",
    "torch.set_default_dtype(eval(p.torch_default_dtype))"
   ]
  },
  {
   "cell_type": "code",
   "execution_count": 8,
   "id": "b5fba671",
   "metadata": {
    "execution": {
     "iopub.execute_input": "2022-03-26T01:37:10.331298Z",
     "iopub.status.busy": "2022-03-26T01:37:10.331040Z",
     "iopub.status.idle": "2022-03-26T01:37:10.367514Z",
     "shell.execute_reply": "2022-03-26T01:37:10.366995Z"
    },
    "papermill": {
     "duration": 0.051883,
     "end_time": "2022-03-26T01:37:10.367623",
     "exception": false,
     "start_time": "2022-03-26T01:37:10.315740",
     "status": "completed"
    },
    "tags": []
   },
   "outputs": [],
   "source": [
    "###################################\n",
    "# Build the network(s)\n",
    "# Note: It's critical to do this AFTER setting the RNG\n",
    "###################################\n",
    "x_net = build_sequential(p.x_net)"
   ]
  },
  {
   "cell_type": "code",
   "execution_count": 9,
   "id": "5d7e61cc",
   "metadata": {
    "execution": {
     "iopub.execute_input": "2022-03-26T01:37:10.402574Z",
     "iopub.status.busy": "2022-03-26T01:37:10.402323Z",
     "iopub.status.idle": "2022-03-26T01:37:10.417793Z",
     "shell.execute_reply": "2022-03-26T01:37:10.417360Z"
    },
    "papermill": {
     "duration": 0.031278,
     "end_time": "2022-03-26T01:37:10.417892",
     "exception": false,
     "start_time": "2022-03-26T01:37:10.386614",
     "status": "completed"
    },
    "tags": []
   },
   "outputs": [],
   "source": [
    "start_time_secs = time.time()"
   ]
  },
  {
   "cell_type": "code",
   "execution_count": 10,
   "id": "c6b67dfd",
   "metadata": {
    "execution": {
     "iopub.execute_input": "2022-03-26T01:37:10.452039Z",
     "iopub.status.busy": "2022-03-26T01:37:10.451779Z",
     "iopub.status.idle": "2022-03-26T01:37:10.466588Z",
     "shell.execute_reply": "2022-03-26T01:37:10.466141Z"
    },
    "papermill": {
     "duration": 0.031197,
     "end_time": "2022-03-26T01:37:10.466693",
     "exception": false,
     "start_time": "2022-03-26T01:37:10.435496",
     "status": "completed"
    },
    "tags": []
   },
   "outputs": [],
   "source": [
    "p.domains_source = []\n",
    "p.domains_target = []\n",
    "\n",
    "\n",
    "train_original_source = []\n",
    "val_original_source   = []\n",
    "test_original_source  = []\n",
    "\n",
    "train_original_target = []\n",
    "val_original_target   = []\n",
    "test_original_target  = []"
   ]
  },
  {
   "cell_type": "code",
   "execution_count": 11,
   "id": "e3d9c3d3",
   "metadata": {
    "execution": {
     "iopub.execute_input": "2022-03-26T01:37:10.501343Z",
     "iopub.status.busy": "2022-03-26T01:37:10.501033Z",
     "iopub.status.idle": "2022-03-26T01:37:10.517122Z",
     "shell.execute_reply": "2022-03-26T01:37:10.516627Z"
    },
    "papermill": {
     "duration": 0.03115,
     "end_time": "2022-03-26T01:37:10.517223",
     "exception": false,
     "start_time": "2022-03-26T01:37:10.486073",
     "status": "completed"
    },
    "tags": []
   },
   "outputs": [],
   "source": [
    "# global_x_transform_func = lambda x: normalize(x.to(torch.get_default_dtype()), \"unit_power\") # unit_power, unit_mag\n",
    "# global_x_transform_func = lambda x: normalize(x, \"unit_power\") # unit_power, unit_mag"
   ]
  },
  {
   "cell_type": "code",
   "execution_count": 12,
   "id": "acb78fd2",
   "metadata": {
    "execution": {
     "iopub.execute_input": "2022-03-26T01:37:10.556813Z",
     "iopub.status.busy": "2022-03-26T01:37:10.555782Z",
     "iopub.status.idle": "2022-03-26T01:37:10.569418Z",
     "shell.execute_reply": "2022-03-26T01:37:10.569156Z"
    },
    "papermill": {
     "duration": 0.033623,
     "end_time": "2022-03-26T01:37:10.569474",
     "exception": false,
     "start_time": "2022-03-26T01:37:10.535851",
     "status": "completed"
    },
    "tags": []
   },
   "outputs": [],
   "source": [
    "def add_dataset(\n",
    "    labels,\n",
    "    domains,\n",
    "    pickle_path,\n",
    "    x_transforms,\n",
    "    episode_transforms,\n",
    "    domain_prefix,\n",
    "    num_examples_per_domain_per_label,\n",
    "    source_or_target_dataset:str,\n",
    "    iterator_seed=p.seed,\n",
    "    dataset_seed=p.dataset_seed,\n",
    "    n_shot=p.n_shot,\n",
    "    n_way=p.n_way,\n",
    "    n_query=p.n_query,\n",
    "    train_val_test_k_factors=(p.train_k_factor,p.val_k_factor,p.test_k_factor),\n",
    "):\n",
    "   \n",
    "    if x_transforms == []: x_transform = None\n",
    "    else: x_transform = get_chained_transform(x_transforms)\n",
    "    \n",
    "    if episode_transforms == []: episode_transform = None\n",
    "    else: raise Exception(\"episode_transforms not implemented\")\n",
    "    \n",
    "    episode_transform = lambda tup, _prefix=domain_prefix: (_prefix + str(tup[0]), tup[1])\n",
    "\n",
    "\n",
    "    eaf = Episodic_Accessor_Factory(\n",
    "        labels=labels,\n",
    "        domains=domains,\n",
    "        num_examples_per_domain_per_label=num_examples_per_domain_per_label,\n",
    "        iterator_seed=iterator_seed,\n",
    "        dataset_seed=dataset_seed,\n",
    "        n_shot=n_shot,\n",
    "        n_way=n_way,\n",
    "        n_query=n_query,\n",
    "        train_val_test_k_factors=train_val_test_k_factors,\n",
    "        pickle_path=pickle_path,\n",
    "        x_transform_func=x_transform,\n",
    "    )\n",
    "\n",
    "    train, val, test = eaf.get_train(), eaf.get_val(), eaf.get_test()\n",
    "    train = Lazy_Iterable_Wrapper(train, episode_transform)\n",
    "    val = Lazy_Iterable_Wrapper(val, episode_transform)\n",
    "    test = Lazy_Iterable_Wrapper(test, episode_transform)\n",
    "\n",
    "    if source_or_target_dataset==\"source\":\n",
    "        train_original_source.append(train)\n",
    "        val_original_source.append(val)\n",
    "        test_original_source.append(test)\n",
    "\n",
    "        p.domains_source.extend(\n",
    "            [domain_prefix + str(u) for u in domains]\n",
    "        )\n",
    "    elif source_or_target_dataset==\"target\":\n",
    "        train_original_target.append(train)\n",
    "        val_original_target.append(val)\n",
    "        test_original_target.append(test)\n",
    "        p.domains_target.extend(\n",
    "            [domain_prefix + str(u) for u in domains]\n",
    "        )\n",
    "    else:\n",
    "        raise Exception(f\"invalid source_or_target_dataset: {source_or_target_dataset}\")\n",
    "    "
   ]
  },
  {
   "cell_type": "code",
   "execution_count": 13,
   "id": "fe266617",
   "metadata": {
    "execution": {
     "iopub.execute_input": "2022-03-26T01:37:10.598051Z",
     "iopub.status.busy": "2022-03-26T01:37:10.597793Z",
     "iopub.status.idle": "2022-03-26T01:37:29.049574Z",
     "shell.execute_reply": "2022-03-26T01:37:29.049116Z"
    },
    "papermill": {
     "duration": 18.466617,
     "end_time": "2022-03-26T01:37:29.049684",
     "exception": false,
     "start_time": "2022-03-26T01:37:10.583067",
     "status": "completed"
    },
    "tags": []
   },
   "outputs": [],
   "source": [
    "for ds in p.datasets:\n",
    "    add_dataset(**ds)"
   ]
  },
  {
   "cell_type": "code",
   "execution_count": 14,
   "id": "b90d65ac",
   "metadata": {
    "execution": {
     "iopub.execute_input": "2022-03-26T01:37:29.084233Z",
     "iopub.status.busy": "2022-03-26T01:37:29.083971Z",
     "iopub.status.idle": "2022-03-26T01:37:29.100031Z",
     "shell.execute_reply": "2022-03-26T01:37:29.099622Z"
    },
    "papermill": {
     "duration": 0.031942,
     "end_time": "2022-03-26T01:37:29.100135",
     "exception": false,
     "start_time": "2022-03-26T01:37:29.068193",
     "status": "completed"
    },
    "tags": []
   },
   "outputs": [],
   "source": [
    "# from steves_utils.CORES.utils import (\n",
    "#     ALL_NODES,\n",
    "#     ALL_NODES_MINIMUM_1000_EXAMPLES,\n",
    "#     ALL_DAYS\n",
    "# )\n",
    "\n",
    "# add_dataset(\n",
    "#     labels=ALL_NODES,\n",
    "#     domains = ALL_DAYS,\n",
    "#     num_examples_per_domain_per_label=100,\n",
    "#     pickle_path=os.path.join(get_datasets_base_path(), \"cores.stratified_ds.2022A.pkl\"),\n",
    "#     source_or_target_dataset=\"target\",\n",
    "#     x_transform_func=global_x_transform_func,\n",
    "#     domain_modifier=lambda u: f\"cores_{u}\"\n",
    "# )"
   ]
  },
  {
   "cell_type": "code",
   "execution_count": 15,
   "id": "76db484d",
   "metadata": {
    "execution": {
     "iopub.execute_input": "2022-03-26T01:37:29.135211Z",
     "iopub.status.busy": "2022-03-26T01:37:29.134949Z",
     "iopub.status.idle": "2022-03-26T01:37:29.147788Z",
     "shell.execute_reply": "2022-03-26T01:37:29.148188Z"
    },
    "papermill": {
     "duration": 0.029023,
     "end_time": "2022-03-26T01:37:29.148306",
     "exception": false,
     "start_time": "2022-03-26T01:37:29.119283",
     "status": "completed"
    },
    "tags": []
   },
   "outputs": [],
   "source": [
    "# from steves_utils.ORACLE.utils_v2 import (\n",
    "#     ALL_DISTANCES_FEET,\n",
    "#     ALL_RUNS,\n",
    "#     ALL_SERIAL_NUMBERS,\n",
    "# )\n",
    "\n",
    "\n",
    "# add_dataset(\n",
    "#     labels=ALL_SERIAL_NUMBERS,\n",
    "#     domains = list(set(ALL_DISTANCES_FEET) - {2,62}),\n",
    "#     num_examples_per_domain_per_label=100,\n",
    "#     pickle_path=os.path.join(get_datasets_base_path(), \"oracle.Run2_framed_2000Examples_stratified_ds.2022A.pkl\"),\n",
    "#     source_or_target_dataset=\"source\",\n",
    "#     x_transform_func=global_x_transform_func,\n",
    "#     domain_modifier=lambda u: f\"oracle1_{u}\"\n",
    "# )\n"
   ]
  },
  {
   "cell_type": "code",
   "execution_count": 16,
   "id": "97dea9d2",
   "metadata": {
    "execution": {
     "iopub.execute_input": "2022-03-26T01:37:29.183151Z",
     "iopub.status.busy": "2022-03-26T01:37:29.182896Z",
     "iopub.status.idle": "2022-03-26T01:37:29.195950Z",
     "shell.execute_reply": "2022-03-26T01:37:29.195525Z"
    },
    "papermill": {
     "duration": 0.028799,
     "end_time": "2022-03-26T01:37:29.196049",
     "exception": false,
     "start_time": "2022-03-26T01:37:29.167250",
     "status": "completed"
    },
    "tags": []
   },
   "outputs": [],
   "source": [
    "# from steves_utils.ORACLE.utils_v2 import (\n",
    "#     ALL_DISTANCES_FEET,\n",
    "#     ALL_RUNS,\n",
    "#     ALL_SERIAL_NUMBERS,\n",
    "# )\n",
    "\n",
    "\n",
    "# add_dataset(\n",
    "#     labels=ALL_SERIAL_NUMBERS,\n",
    "#     domains = list(set(ALL_DISTANCES_FEET) - {2,62,56}),\n",
    "#     num_examples_per_domain_per_label=100,\n",
    "#     pickle_path=os.path.join(get_datasets_base_path(), \"oracle.Run2_framed_2000Examples_stratified_ds.2022A.pkl\"),\n",
    "#     source_or_target_dataset=\"source\",\n",
    "#     x_transform_func=global_x_transform_func,\n",
    "#     domain_modifier=lambda u: f\"oracle2_{u}\"\n",
    "# )"
   ]
  },
  {
   "cell_type": "code",
   "execution_count": 17,
   "id": "6f289866",
   "metadata": {
    "execution": {
     "iopub.execute_input": "2022-03-26T01:37:29.233640Z",
     "iopub.status.busy": "2022-03-26T01:37:29.233386Z",
     "iopub.status.idle": "2022-03-26T01:37:29.244011Z",
     "shell.execute_reply": "2022-03-26T01:37:29.243750Z"
    },
    "papermill": {
     "duration": 0.025973,
     "end_time": "2022-03-26T01:37:29.244066",
     "exception": false,
     "start_time": "2022-03-26T01:37:29.218093",
     "status": "completed"
    },
    "tags": []
   },
   "outputs": [],
   "source": [
    "# add_dataset(\n",
    "#     labels=list(range(19)),\n",
    "#     domains = [0,1,2],\n",
    "#     num_examples_per_domain_per_label=100,\n",
    "#     pickle_path=os.path.join(get_datasets_base_path(), \"metehan.stratified_ds.2022A.pkl\"),\n",
    "#     source_or_target_dataset=\"target\",\n",
    "#     x_transform_func=global_x_transform_func,\n",
    "#     domain_modifier=lambda u: f\"met_{u}\"\n",
    "# )"
   ]
  },
  {
   "cell_type": "code",
   "execution_count": 18,
   "id": "86a863c3",
   "metadata": {
    "execution": {
     "iopub.execute_input": "2022-03-26T01:37:29.277406Z",
     "iopub.status.busy": "2022-03-26T01:37:29.277152Z",
     "iopub.status.idle": "2022-03-26T01:37:29.288531Z",
     "shell.execute_reply": "2022-03-26T01:37:29.288076Z"
    },
    "papermill": {
     "duration": 0.026568,
     "end_time": "2022-03-26T01:37:29.288630",
     "exception": false,
     "start_time": "2022-03-26T01:37:29.262062",
     "status": "completed"
    },
    "tags": []
   },
   "outputs": [],
   "source": [
    "# # from steves_utils.wisig.utils import (\n",
    "# #     ALL_NODES_MINIMUM_100_EXAMPLES,\n",
    "# #     ALL_NODES_MINIMUM_500_EXAMPLES,\n",
    "# #     ALL_NODES_MINIMUM_1000_EXAMPLES,\n",
    "# #     ALL_DAYS\n",
    "# # )\n",
    "\n",
    "# import steves_utils.wisig.utils as wisig\n",
    "\n",
    "\n",
    "# add_dataset(\n",
    "#     labels=wisig.ALL_NODES_MINIMUM_100_EXAMPLES,\n",
    "#     domains = wisig.ALL_DAYS,\n",
    "#     num_examples_per_domain_per_label=100,\n",
    "#     pickle_path=os.path.join(get_datasets_base_path(), \"wisig.node3-19.stratified_ds.2022A.pkl\"),\n",
    "#     source_or_target_dataset=\"target\",\n",
    "#     x_transform_func=global_x_transform_func,\n",
    "#     domain_modifier=lambda u: f\"wisig_{u}\"\n",
    "# )"
   ]
  },
  {
   "cell_type": "code",
   "execution_count": 19,
   "id": "fd5442bc",
   "metadata": {
    "execution": {
     "iopub.execute_input": "2022-03-26T01:37:29.324463Z",
     "iopub.status.busy": "2022-03-26T01:37:29.324188Z",
     "iopub.status.idle": "2022-03-26T01:37:29.335938Z",
     "shell.execute_reply": "2022-03-26T01:37:29.336327Z"
    },
    "papermill": {
     "duration": 0.029166,
     "end_time": "2022-03-26T01:37:29.336454",
     "exception": false,
     "start_time": "2022-03-26T01:37:29.307288",
     "status": "completed"
    },
    "tags": []
   },
   "outputs": [],
   "source": [
    "###################################\n",
    "# Build the dataset\n",
    "###################################\n",
    "train_original_source = Iterable_Aggregator(train_original_source, p.seed)\n",
    "val_original_source = Iterable_Aggregator(val_original_source, p.seed)\n",
    "test_original_source = Iterable_Aggregator(test_original_source, p.seed)\n",
    "\n",
    "\n",
    "train_original_target = Iterable_Aggregator(train_original_target, p.seed)\n",
    "val_original_target = Iterable_Aggregator(val_original_target, p.seed)\n",
    "test_original_target = Iterable_Aggregator(test_original_target, p.seed)\n",
    "\n",
    "# For CNN We only use X and Y. And we only train on the source.\n",
    "# Properly form the data using a transform lambda and Lazy_Iterable_Wrapper. Finally wrap them in a dataloader\n",
    "\n",
    "transform_lambda = lambda ex: ex[1] # Original is (<domain>, <episode>) so we strip down to episode only\n",
    "\n",
    "train_processed_source = Lazy_Iterable_Wrapper(train_original_source, transform_lambda)\n",
    "val_processed_source   = Lazy_Iterable_Wrapper(val_original_source, transform_lambda)\n",
    "test_processed_source  = Lazy_Iterable_Wrapper(test_original_source, transform_lambda)\n",
    "\n",
    "train_processed_target = Lazy_Iterable_Wrapper(train_original_target, transform_lambda)\n",
    "val_processed_target   = Lazy_Iterable_Wrapper(val_original_target, transform_lambda)\n",
    "test_processed_target  = Lazy_Iterable_Wrapper(test_original_target, transform_lambda)\n",
    "\n",
    "datasets = EasyDict({\n",
    "    \"source\": {\n",
    "        \"original\": {\"train\":train_original_source, \"val\":val_original_source, \"test\":test_original_source},\n",
    "        \"processed\": {\"train\":train_processed_source, \"val\":val_processed_source, \"test\":test_processed_source}\n",
    "    },\n",
    "    \"target\": {\n",
    "        \"original\": {\"train\":train_original_target, \"val\":val_original_target, \"test\":test_original_target},\n",
    "        \"processed\": {\"train\":train_processed_target, \"val\":val_processed_target, \"test\":test_processed_target}\n",
    "    },\n",
    "})"
   ]
  },
  {
   "cell_type": "code",
   "execution_count": 20,
   "id": "5b3c01fc",
   "metadata": {
    "execution": {
     "iopub.execute_input": "2022-03-26T01:37:29.372019Z",
     "iopub.status.busy": "2022-03-26T01:37:29.371756Z",
     "iopub.status.idle": "2022-03-26T01:37:36.243550Z",
     "shell.execute_reply": "2022-03-26T01:37:36.243263Z"
    },
    "papermill": {
     "duration": 6.887827,
     "end_time": "2022-03-26T01:37:36.243621",
     "exception": false,
     "start_time": "2022-03-26T01:37:29.355794",
     "status": "completed"
    },
    "tags": []
   },
   "outputs": [
    {
     "name": "stdout",
     "output_type": "stream",
     "text": [
      "{'O_20', 'O_14', 'O_8', 'O_32', 'O_26', 'O_38', 'O_44', 'O_50'}\n"
     ]
    },
    {
     "name": "stdout",
     "output_type": "stream",
     "text": [
      "{'C_3', 'C_1', 'C_5', 'C_2', 'C_4'}\n"
     ]
    },
    {
     "name": "stdout",
     "output_type": "stream",
     "text": [
      "tensor([[[-0.0013,  0.0058,  0.0040,  ...,  0.0047, -0.0021, -0.0003],\n",
      "         [-0.0027,  0.0014,  0.0039,  ..., -0.0011,  0.0068,  0.0068]],\n",
      "\n",
      "        [[ 0.0003,  0.0076,  0.0027,  ...,  0.0032,  0.0024,  0.0063],\n",
      "         [-0.0026, -0.0026,  0.0017,  ..., -0.0014,  0.0073,  0.0026]],\n",
      "\n",
      "        [[-0.0045, -0.0030,  0.0045,  ...,  0.0028,  0.0058, -0.0025],\n",
      "         [-0.0027, -0.0075,  0.0008,  ..., -0.0040, -0.0046, -0.0077]],\n",
      "\n",
      "        ...,\n",
      "\n",
      "        [[ 0.0006,  0.0040,  0.0011,  ...,  0.0054,  0.0053,  0.0040],\n",
      "         [-0.0050, -0.0041,  0.0057,  ...,  0.0018,  0.0020, -0.0056]],\n",
      "\n",
      "        [[-0.0014,  0.0051,  0.0045,  ...,  0.0042, -0.0002,  0.0007],\n",
      "         [-0.0027, -0.0006,  0.0027,  ..., -0.0025,  0.0059,  0.0051]],\n",
      "\n",
      "        [[-0.0042, -0.0063,  0.0029,  ..., -0.0019, -0.0021, -0.0071],\n",
      "         [ 0.0029,  0.0005, -0.0040,  ..., -0.0049, -0.0052,  0.0006]]])\n"
     ]
    }
   ],
   "source": [
    "from steves_utils.transforms import get_average_magnitude, get_average_power\n",
    "\n",
    "print(set([u for u,_ in val_original_source]))\n",
    "print(set([u for u,_ in val_original_target]))\n",
    "\n",
    "s_x, s_y, q_x, q_y, _ = next(iter(train_processed_source))\n",
    "print(s_x)\n",
    "\n",
    "# for ds in [\n",
    "#     train_processed_source,\n",
    "#     val_processed_source,\n",
    "#     test_processed_source,\n",
    "#     train_processed_target,\n",
    "#     val_processed_target,\n",
    "#     test_processed_target\n",
    "# ]:\n",
    "#     for s_x, s_y, q_x, q_y, _ in ds:\n",
    "#         for X in (s_x, q_x):\n",
    "#             for x in X:\n",
    "#                 assert np.isclose(get_average_magnitude(x.numpy()), 1.0)\n",
    "#                 assert np.isclose(get_average_power(x.numpy()), 1.0)\n",
    "                "
   ]
  },
  {
   "cell_type": "code",
   "execution_count": 21,
   "id": "bbdacba1",
   "metadata": {
    "execution": {
     "iopub.execute_input": "2022-03-26T01:37:36.290987Z",
     "iopub.status.busy": "2022-03-26T01:37:36.290714Z",
     "iopub.status.idle": "2022-03-26T01:37:36.344082Z",
     "shell.execute_reply": "2022-03-26T01:37:36.343788Z"
    },
    "papermill": {
     "duration": 0.077873,
     "end_time": "2022-03-26T01:37:36.344147",
     "exception": false,
     "start_time": "2022-03-26T01:37:36.266274",
     "status": "completed"
    },
    "tags": []
   },
   "outputs": [
    {
     "name": "stdout",
     "output_type": "stream",
     "text": [
      "(2, 200)"
     ]
    },
    {
     "name": "stdout",
     "output_type": "stream",
     "text": [
      "\n"
     ]
    }
   ],
   "source": [
    "###################################\n",
    "# Build the model\n",
    "###################################\n",
    "# easfsl only wants a tuple for the shape\n",
    "model = Steves_Prototypical_Network(x_net, device=p.device, x_shape=tuple(p.x_shape))\n",
    "optimizer = Adam(params=model.parameters(), lr=p.lr)"
   ]
  },
  {
   "cell_type": "code",
   "execution_count": 22,
   "id": "22b39ac5",
   "metadata": {
    "execution": {
     "iopub.execute_input": "2022-03-26T01:37:36.379399Z",
     "iopub.status.busy": "2022-03-26T01:37:36.378978Z",
     "iopub.status.idle": "2022-03-26T02:01:20.527341Z",
     "shell.execute_reply": "2022-03-26T02:01:20.527098Z"
    },
    "papermill": {
     "duration": 1424.167093,
     "end_time": "2022-03-26T02:01:20.527402",
     "exception": false,
     "start_time": "2022-03-26T01:37:36.360309",
     "status": "completed"
    },
    "tags": []
   },
   "outputs": [
    {
     "name": "stdout",
     "output_type": "stream",
     "text": [
      "epoch: 1, [batch: 1 / 6720], examples_per_second: 46.1096, train_label_loss: 2.8618, \n"
     ]
    },
    {
     "name": "stdout",
     "output_type": "stream",
     "text": [
      "epoch: 1, [batch: 672 / 6720], examples_per_second: 1860.5401, train_label_loss: 0.4875, \n"
     ]
    },
    {
     "name": "stdout",
     "output_type": "stream",
     "text": [
      "epoch: 1, [batch: 1344 / 6720], examples_per_second: 1861.8784, train_label_loss: 0.5408, \n"
     ]
    },
    {
     "name": "stdout",
     "output_type": "stream",
     "text": [
      "epoch: 1, [batch: 2016 / 6720], examples_per_second: 1864.1768, train_label_loss: 0.8129, \n"
     ]
    },
    {
     "name": "stdout",
     "output_type": "stream",
     "text": [
      "epoch: 1, [batch: 2688 / 6720], examples_per_second: 1856.5060, train_label_loss: 0.5367, \n"
     ]
    },
    {
     "name": "stdout",
     "output_type": "stream",
     "text": [
      "epoch: 1, [batch: 3360 / 6720], examples_per_second: 1862.5879, train_label_loss: 0.4894, \n"
     ]
    },
    {
     "name": "stdout",
     "output_type": "stream",
     "text": [
      "epoch: 1, [batch: 4032 / 6720], examples_per_second: 1861.6228, train_label_loss: 0.5111, \n"
     ]
    },
    {
     "name": "stdout",
     "output_type": "stream",
     "text": [
      "epoch: 1, [batch: 4704 / 6720], examples_per_second: 2173.9300, train_label_loss: 0.4081, \n"
     ]
    },
    {
     "name": "stdout",
     "output_type": "stream",
     "text": [
      "epoch: 1, [batch: 5376 / 6720], examples_per_second: 2310.3310, train_label_loss: 0.3771, \n"
     ]
    },
    {
     "name": "stdout",
     "output_type": "stream",
     "text": [
      "epoch: 1, [batch: 6048 / 6720], examples_per_second: 1861.6189, train_label_loss: 0.2293, \n"
     ]
    },
    {
     "name": "stdout",
     "output_type": "stream",
     "text": [
      "=============================================================\n",
      "epoch: 1, source_val_acc_label: 0.5819, target_val_acc_label: 0.6330, source_val_label_loss: 172.3830, target_val_label_loss: 6370.6108, \n",
      "=============================================================\n"
     ]
    },
    {
     "name": "stdout",
     "output_type": "stream",
     "text": [
      "New best\n"
     ]
    },
    {
     "name": "stdout",
     "output_type": "stream",
     "text": [
      "epoch: 2, [batch: 1 / 6720], examples_per_second: 2.7151, train_label_loss: 281.8470, \n"
     ]
    },
    {
     "name": "stdout",
     "output_type": "stream",
     "text": [
      "epoch: 2, [batch: 672 / 6720], examples_per_second: 1864.5544, train_label_loss: 0.4320, \n"
     ]
    },
    {
     "name": "stdout",
     "output_type": "stream",
     "text": [
      "epoch: 2, [batch: 1344 / 6720], examples_per_second: 1863.7948, train_label_loss: 0.7169, \n"
     ]
    },
    {
     "name": "stdout",
     "output_type": "stream",
     "text": [
      "epoch: 2, [batch: 2016 / 6720], examples_per_second: 1868.3008, train_label_loss: 0.2994, \n"
     ]
    },
    {
     "name": "stdout",
     "output_type": "stream",
     "text": [
      "epoch: 2, [batch: 2688 / 6720], examples_per_second: 1861.2349, train_label_loss: 0.4295, \n"
     ]
    },
    {
     "name": "stdout",
     "output_type": "stream",
     "text": [
      "epoch: 2, [batch: 3360 / 6720], examples_per_second: 1865.4570, train_label_loss: 0.3581, \n"
     ]
    },
    {
     "name": "stdout",
     "output_type": "stream",
     "text": [
      "epoch: 2, [batch: 4032 / 6720], examples_per_second: 1864.3067, train_label_loss: 0.9976, \n"
     ]
    },
    {
     "name": "stdout",
     "output_type": "stream",
     "text": [
      "epoch: 2, [batch: 4704 / 6720], examples_per_second: 2178.1811, train_label_loss: 0.4708, \n"
     ]
    },
    {
     "name": "stdout",
     "output_type": "stream",
     "text": [
      "epoch: 2, [batch: 5376 / 6720], examples_per_second: 2341.1486, train_label_loss: 0.4453, \n"
     ]
    },
    {
     "name": "stdout",
     "output_type": "stream",
     "text": [
      "epoch: 2, [batch: 6048 / 6720], examples_per_second: 1863.4567, train_label_loss: 0.2275, \n"
     ]
    },
    {
     "name": "stdout",
     "output_type": "stream",
     "text": [
      "=============================================================\n",
      "epoch: 2, source_val_acc_label: 0.8691, target_val_acc_label: 0.4690, source_val_label_loss: 0.4070, target_val_label_loss: 3317.3176, \n",
      "=============================================================\n"
     ]
    },
    {
     "name": "stdout",
     "output_type": "stream",
     "text": [
      "epoch: 3, [batch: 1 / 6720], examples_per_second: 2.7250, train_label_loss: 0.3661, \n"
     ]
    },
    {
     "name": "stdout",
     "output_type": "stream",
     "text": [
      "epoch: 3, [batch: 672 / 6720], examples_per_second: 1864.1386, train_label_loss: 0.0878, \n"
     ]
    },
    {
     "name": "stdout",
     "output_type": "stream",
     "text": [
      "epoch: 3, [batch: 1344 / 6720], examples_per_second: 1863.4271, train_label_loss: 0.2901, \n"
     ]
    },
    {
     "name": "stdout",
     "output_type": "stream",
     "text": [
      "epoch: 3, [batch: 2016 / 6720], examples_per_second: 1868.2712, train_label_loss: 0.6656, \n"
     ]
    },
    {
     "name": "stdout",
     "output_type": "stream",
     "text": [
      "epoch: 3, [batch: 2688 / 6720], examples_per_second: 1860.0160, train_label_loss: 0.2762, \n"
     ]
    },
    {
     "name": "stdout",
     "output_type": "stream",
     "text": [
      "epoch: 3, [batch: 3360 / 6720], examples_per_second: 1863.4472, train_label_loss: 0.1003, \n"
     ]
    },
    {
     "name": "stdout",
     "output_type": "stream",
     "text": [
      "epoch: 3, [batch: 4032 / 6720], examples_per_second: 1864.3352, train_label_loss: 0.4442, \n"
     ]
    },
    {
     "name": "stdout",
     "output_type": "stream",
     "text": [
      "epoch: 3, [batch: 4704 / 6720], examples_per_second: 2174.5355, train_label_loss: 0.3079, \n"
     ]
    },
    {
     "name": "stdout",
     "output_type": "stream",
     "text": [
      "epoch: 3, [batch: 5376 / 6720], examples_per_second: 2341.6788, train_label_loss: 0.2750, \n"
     ]
    },
    {
     "name": "stdout",
     "output_type": "stream",
     "text": [
      "epoch: 3, [batch: 6048 / 6720], examples_per_second: 1864.7165, train_label_loss: 0.3828, \n"
     ]
    },
    {
     "name": "stdout",
     "output_type": "stream",
     "text": [
      "=============================================================\n",
      "epoch: 3, source_val_acc_label: 0.8914, target_val_acc_label: 0.4844, source_val_label_loss: 0.3223, target_val_label_loss: 1586.2856, \n",
      "=============================================================\n"
     ]
    },
    {
     "name": "stdout",
     "output_type": "stream",
     "text": [
      "epoch: 4, [batch: 1 / 6720], examples_per_second: 2.7205, train_label_loss: 0.2227, \n"
     ]
    },
    {
     "name": "stdout",
     "output_type": "stream",
     "text": [
      "epoch: 4, [batch: 672 / 6720], examples_per_second: 1865.1938, train_label_loss: 0.2273, \n"
     ]
    },
    {
     "name": "stdout",
     "output_type": "stream",
     "text": [
      "epoch: 4, [batch: 1344 / 6720], examples_per_second: 1863.1992, train_label_loss: 0.8044, \n"
     ]
    },
    {
     "name": "stdout",
     "output_type": "stream",
     "text": [
      "epoch: 4, [batch: 2016 / 6720], examples_per_second: 1868.6831, train_label_loss: 0.1449, \n"
     ]
    },
    {
     "name": "stdout",
     "output_type": "stream",
     "text": [
      "epoch: 4, [batch: 2688 / 6720], examples_per_second: 1859.4836, train_label_loss: 0.3220, \n"
     ]
    },
    {
     "name": "stdout",
     "output_type": "stream",
     "text": [
      "epoch: 4, [batch: 3360 / 6720], examples_per_second: 1864.7148, train_label_loss: 0.1347, \n"
     ]
    },
    {
     "name": "stdout",
     "output_type": "stream",
     "text": [
      "epoch: 4, [batch: 4032 / 6720], examples_per_second: 1863.7399, train_label_loss: 0.3451, \n"
     ]
    },
    {
     "name": "stdout",
     "output_type": "stream",
     "text": [
      "epoch: 4, [batch: 4704 / 6720], examples_per_second: 2159.0654, train_label_loss: 0.3727, \n"
     ]
    },
    {
     "name": "stdout",
     "output_type": "stream",
     "text": [
      "epoch: 4, [batch: 5376 / 6720], examples_per_second: 2332.1283, train_label_loss: 0.1913, \n"
     ]
    },
    {
     "name": "stdout",
     "output_type": "stream",
     "text": [
      "epoch: 4, [batch: 6048 / 6720], examples_per_second: 2352.6058, train_label_loss: 0.3656, \n"
     ]
    },
    {
     "name": "stdout",
     "output_type": "stream",
     "text": [
      "=============================================================\n",
      "epoch: 4, source_val_acc_label: 0.9095, target_val_acc_label: 0.5113, source_val_label_loss: 0.2737, target_val_label_loss: 1837.4027, \n",
      "=============================================================\n"
     ]
    },
    {
     "name": "stdout",
     "output_type": "stream",
     "text": [
      "epoch: 5, [batch: 1 / 6720], examples_per_second: 3.3412, train_label_loss: 0.4018, \n"
     ]
    },
    {
     "name": "stdout",
     "output_type": "stream",
     "text": [
      "epoch: 5, [batch: 672 / 6720], examples_per_second: 2962.3085, train_label_loss: 0.4009, \n"
     ]
    },
    {
     "name": "stdout",
     "output_type": "stream",
     "text": [
      "epoch: 5, [batch: 1344 / 6720], examples_per_second: 3556.1061, train_label_loss: 0.2897, \n"
     ]
    },
    {
     "name": "stdout",
     "output_type": "stream",
     "text": [
      "epoch: 5, [batch: 2016 / 6720], examples_per_second: 3602.2033, train_label_loss: 0.3780, \n"
     ]
    },
    {
     "name": "stdout",
     "output_type": "stream",
     "text": [
      "epoch: 5, [batch: 2688 / 6720], examples_per_second: 3555.8719, train_label_loss: 0.1130, \n"
     ]
    },
    {
     "name": "stdout",
     "output_type": "stream",
     "text": [
      "epoch: 5, [batch: 3360 / 6720], examples_per_second: 3613.9147, train_label_loss: 0.6268, \n"
     ]
    },
    {
     "name": "stdout",
     "output_type": "stream",
     "text": [
      "epoch: 5, [batch: 4032 / 6720], examples_per_second: 3572.6955, train_label_loss: 0.0981, \n"
     ]
    },
    {
     "name": "stdout",
     "output_type": "stream",
     "text": [
      "epoch: 5, [batch: 4704 / 6720], examples_per_second: 3601.9536, train_label_loss: 0.1677, \n"
     ]
    },
    {
     "name": "stdout",
     "output_type": "stream",
     "text": [
      "epoch: 5, [batch: 5376 / 6720], examples_per_second: 3587.6668, train_label_loss: 0.1620, \n"
     ]
    },
    {
     "name": "stdout",
     "output_type": "stream",
     "text": [
      "epoch: 5, [batch: 6048 / 6720], examples_per_second: 2169.4309, train_label_loss: 0.3086, \n"
     ]
    },
    {
     "name": "stdout",
     "output_type": "stream",
     "text": [
      "=============================================================\n",
      "epoch: 5, source_val_acc_label: 0.9187, target_val_acc_label: 0.6038, source_val_label_loss: 0.2360, target_val_label_loss: 244.9833, \n",
      "=============================================================\n"
     ]
    },
    {
     "name": "stdout",
     "output_type": "stream",
     "text": [
      "Patience (3) exhausted\n"
     ]
    }
   ],
   "source": [
    "###################################\n",
    "# train\n",
    "###################################\n",
    "jig = PTN_Train_Eval_Test_Jig(model, p.BEST_MODEL_PATH, p.device)\n",
    "\n",
    "jig.train(\n",
    "    train_iterable=datasets.source.processed.train,\n",
    "    source_val_iterable=datasets.source.processed.val,\n",
    "    target_val_iterable=datasets.target.processed.val,\n",
    "    num_epochs=p.n_epoch,\n",
    "    num_logs_per_epoch=p.NUM_LOGS_PER_EPOCH,\n",
    "    patience=p.patience,\n",
    "    optimizer=optimizer,\n",
    "    criteria_for_best=p.criteria_for_best,\n",
    ")"
   ]
  },
  {
   "cell_type": "code",
   "execution_count": 23,
   "id": "31e8fabf",
   "metadata": {
    "execution": {
     "iopub.execute_input": "2022-03-26T02:01:20.584890Z",
     "iopub.status.busy": "2022-03-26T02:01:20.584624Z",
     "iopub.status.idle": "2022-03-26T02:01:20.603647Z",
     "shell.execute_reply": "2022-03-26T02:01:20.603240Z"
    },
    "papermill": {
     "duration": 0.048794,
     "end_time": "2022-03-26T02:01:20.603746",
     "exception": false,
     "start_time": "2022-03-26T02:01:20.554952",
     "status": "completed"
    },
    "tags": []
   },
   "outputs": [],
   "source": [
    "total_experiment_time_secs = time.time() - start_time_secs"
   ]
  },
  {
   "cell_type": "code",
   "execution_count": 24,
   "id": "87b9595b",
   "metadata": {
    "execution": {
     "iopub.execute_input": "2022-03-26T02:01:20.669294Z",
     "iopub.status.busy": "2022-03-26T02:01:20.668986Z",
     "iopub.status.idle": "2022-03-26T02:03:50.266693Z",
     "shell.execute_reply": "2022-03-26T02:03:50.267006Z"
    },
    "papermill": {
     "duration": 149.631681,
     "end_time": "2022-03-26T02:03:50.267114",
     "exception": false,
     "start_time": "2022-03-26T02:01:20.635433",
     "status": "completed"
    },
    "tags": []
   },
   "outputs": [],
   "source": [
    "###################################\n",
    "# Evaluate the model\n",
    "###################################\n",
    "source_test_label_accuracy, source_test_label_loss = jig.test(datasets.source.processed.test)\n",
    "target_test_label_accuracy, target_test_label_loss = jig.test(datasets.target.processed.test)\n",
    "\n",
    "source_val_label_accuracy, source_val_label_loss = jig.test(datasets.source.processed.val)\n",
    "target_val_label_accuracy, target_val_label_loss = jig.test(datasets.target.processed.val)\n",
    "\n",
    "history = jig.get_history()\n",
    "\n",
    "total_epochs_trained = len(history[\"epoch_indices\"])\n",
    "\n",
    "val_dl = Iterable_Aggregator((datasets.source.original.val,datasets.target.original.val))\n",
    "\n",
    "confusion = ptn_confusion_by_domain_over_dataloader(model, p.device, val_dl)\n",
    "per_domain_accuracy = per_domain_accuracy_from_confusion(confusion)\n",
    "\n",
    "# Add a key to per_domain_accuracy for if it was a source domain\n",
    "for domain, accuracy in per_domain_accuracy.items():\n",
    "    per_domain_accuracy[domain] = {\n",
    "        \"accuracy\": accuracy,\n",
    "        \"source?\": domain in p.domains_source\n",
    "    }\n",
    "\n",
    "# Do an independent accuracy assesment JUST TO BE SURE!\n",
    "# _source_test_label_accuracy = independent_accuracy_assesment(model, datasets.source.processed.test, p.device)\n",
    "# _target_test_label_accuracy = independent_accuracy_assesment(model, datasets.target.processed.test, p.device)\n",
    "# _source_val_label_accuracy = independent_accuracy_assesment(model, datasets.source.processed.val, p.device)\n",
    "# _target_val_label_accuracy = independent_accuracy_assesment(model, datasets.target.processed.val, p.device)\n",
    "\n",
    "# assert(_source_test_label_accuracy == source_test_label_accuracy)\n",
    "# assert(_target_test_label_accuracy == target_test_label_accuracy)\n",
    "# assert(_source_val_label_accuracy == source_val_label_accuracy)\n",
    "# assert(_target_val_label_accuracy == target_val_label_accuracy)\n",
    "\n",
    "experiment = {\n",
    "    \"experiment_name\": p.experiment_name,\n",
    "    \"parameters\": dict(p),\n",
    "    \"results\": {\n",
    "        \"source_test_label_accuracy\": source_test_label_accuracy,\n",
    "        \"source_test_label_loss\": source_test_label_loss,\n",
    "        \"target_test_label_accuracy\": target_test_label_accuracy,\n",
    "        \"target_test_label_loss\": target_test_label_loss,\n",
    "        \"source_val_label_accuracy\": source_val_label_accuracy,\n",
    "        \"source_val_label_loss\": source_val_label_loss,\n",
    "        \"target_val_label_accuracy\": target_val_label_accuracy,\n",
    "        \"target_val_label_loss\": target_val_label_loss,\n",
    "        \"total_epochs_trained\": total_epochs_trained,\n",
    "        \"total_experiment_time_secs\": total_experiment_time_secs,\n",
    "        \"confusion\": confusion,\n",
    "        \"per_domain_accuracy\": per_domain_accuracy,\n",
    "    },\n",
    "    \"history\": history,\n",
    "    \"dataset_metrics\": get_dataset_metrics(datasets, \"ptn\"),\n",
    "}"
   ]
  },
  {
   "cell_type": "code",
   "execution_count": 25,
   "id": "54a21829",
   "metadata": {
    "execution": {
     "iopub.execute_input": "2022-03-26T02:03:50.338125Z",
     "iopub.status.busy": "2022-03-26T02:03:50.337824Z",
     "iopub.status.idle": "2022-03-26T02:03:50.467297Z",
     "shell.execute_reply": "2022-03-26T02:03:50.467748Z"
    },
    "papermill": {
     "duration": 0.162385,
     "end_time": "2022-03-26T02:03:50.467871",
     "exception": false,
     "start_time": "2022-03-26T02:03:50.305486",
     "status": "completed"
    },
    "tags": []
   },
   "outputs": [
    {
     "data": {
      "image/png": "[encoded data removed]",
      "text/plain": [
       "<Figure size 1080x504 with 1 Axes>"
      ]
     },
     "metadata": {
      "needs_background": "light"
     },
     "output_type": "display_data"
    }
   ],
   "source": [
    "ax = get_loss_curve(experiment)\n",
    "plt.show()"
   ]
  },
  {
   "cell_type": "code",
   "execution_count": 26,
   "id": "fd8a0f60",
   "metadata": {
    "execution": {
     "iopub.execute_input": "2022-03-26T02:03:50.531363Z",
     "iopub.status.busy": "2022-03-26T02:03:50.531088Z",
     "iopub.status.idle": "2022-03-26T02:03:50.702593Z",
     "shell.execute_reply": "2022-03-26T02:03:50.702963Z"
    },
    "papermill": {
     "duration": 0.203786,
     "end_time": "2022-03-26T02:03:50.703079",
     "exception": false,
     "start_time": "2022-03-26T02:03:50.499293",
     "status": "completed"
    },
    "tags": []
   },
   "outputs": [
    {
     "data": {
      "text/plain": [
       "<AxesSubplot:title={'center':'Results'}>"
      ]
     },
     "execution_count": 26,
     "metadata": {},
     "output_type": "execute_result"
    },
    {
     "data": {
      "image/png": "[encoded data removed]",
      "text/plain": [
       "<Figure size 1080x504 with 1 Axes>"
      ]
     },
     "metadata": {
      "needs_background": "light"
     },
     "output_type": "display_data"
    }
   ],
   "source": [
    "get_results_table(experiment)"
   ]
  },
  {
   "cell_type": "code",
   "execution_count": 27,
   "id": "cf8dc689",
   "metadata": {
    "execution": {
     "iopub.execute_input": "2022-03-26T02:03:50.767132Z",
     "iopub.status.busy": "2022-03-26T02:03:50.766864Z",
     "iopub.status.idle": "2022-03-26T02:03:50.911659Z",
     "shell.execute_reply": "2022-03-26T02:03:50.912063Z"
    },
    "papermill": {
     "duration": 0.176923,
     "end_time": "2022-03-26T02:03:50.912193",
     "exception": false,
     "start_time": "2022-03-26T02:03:50.735270",
     "status": "completed"
    },
    "tags": []
   },
   "outputs": [
    {
     "data": {
      "text/plain": [
       "<AxesSubplot:title={'center':'Per Domain Validation Accuracy'}, xlabel='domain'>"
      ]
     },
     "execution_count": 27,
     "metadata": {},
     "output_type": "execute_result"
    },
    {
     "data": {
      "image/png": "[encoded data removed]",
      "text/plain": [
       "<Figure size 1080x504 with 1 Axes>"
      ]
     },
     "metadata": {
      "needs_background": "light"
     },
     "output_type": "display_data"
    }
   ],
   "source": [
    "get_domain_accuracies(experiment)"
   ]
  },
  {
   "cell_type": "code",
   "execution_count": 28,
   "id": "a74ae082",
   "metadata": {
    "execution": {
     "iopub.execute_input": "2022-03-26T02:03:50.975145Z",
     "iopub.status.busy": "2022-03-26T02:03:50.974881Z",
     "iopub.status.idle": "2022-03-26T02:03:50.991047Z",
     "shell.execute_reply": "2022-03-26T02:03:50.990549Z"
    },
    "papermill": {
     "duration": 0.049282,
     "end_time": "2022-03-26T02:03:50.991152",
     "exception": false,
     "start_time": "2022-03-26T02:03:50.941870",
     "status": "completed"
    },
    "tags": []
   },
   "outputs": [
    {
     "name": "stdout",
     "output_type": "stream",
     "text": [
      "Source Test Label Accuracy: 0.5778971354166667 Target Test Label Accuracy: 0.6303541433370661\n",
      "Source Val Label Accuracy: 0.58193359375 Target Val Label Accuracy: 0.6330449084668193\n"
     ]
    }
   ],
   "source": [
    "print(\"Source Test Label Accuracy:\", experiment[\"results\"][\"source_test_label_accuracy\"], \"Target Test Label Accuracy:\", experiment[\"results\"][\"target_test_label_accuracy\"])\n",
    "print(\"Source Val Label Accuracy:\", experiment[\"results\"][\"source_val_label_accuracy\"], \"Target Val Label Accuracy:\", experiment[\"results\"][\"target_val_label_accuracy\"])"
   ]
  },
  {
   "cell_type": "code",
   "execution_count": 29,
   "id": "dacca602",
   "metadata": {
    "execution": {
     "iopub.execute_input": "2022-03-26T02:03:51.053002Z",
     "iopub.status.busy": "2022-03-26T02:03:51.052353Z",
     "iopub.status.idle": "2022-03-26T02:03:51.072218Z",
     "shell.execute_reply": "2022-03-26T02:03:51.072710Z"
    },
    "papermill": {
     "duration": 0.051182,
     "end_time": "2022-03-26T02:03:51.072876",
     "exception": false,
     "start_time": "2022-03-26T02:03:51.021694",
     "status": "completed"
    },
    "tags": [
     "experiment_json"
    ]
   },
   "outputs": [
    {
     "data": {
      "text/plain": [
       "'{\"experiment_name\": \"tl_3-filterv2:oracle.run1.framed -> cores\", \"parameters\": {\"experiment_name\": \"tl_3-filterv2:oracle.run1.framed -> cores\", \"device\": \"cuda\", \"lr\": 0.0001, \"x_shape\": [2, 200], \"n_shot\": 3, \"n_query\": 2, \"train_k_factor\": 3, \"val_k_factor\": 2, \"test_k_factor\": 2, \"torch_default_dtype\": \"torch.float32\", \"n_epoch\": 50, \"patience\": 3, \"criteria_for_best\": \"target_accuracy\", \"x_net\": [{\"class\": \"nnReshape\", \"kargs\": {\"shape\": [-1, 1, 2, 200]}}, {\"class\": \"Conv2d\", \"kargs\": {\"in_channels\": 1, \"out_channels\": 256, \"kernel_size\": [1, 7], \"bias\": false, \"padding\": [0, 3]}}, {\"class\": \"ReLU\", \"kargs\": {\"inplace\": true}}, {\"class\": \"BatchNorm2d\", \"kargs\": {\"num_features\": 256}}, {\"class\": \"Conv2d\", \"kargs\": {\"in_channels\": 256, \"out_channels\": 80, \"kernel_size\": [2, 7], \"bias\": true, \"padding\": [0, 3]}}, {\"class\": \"ReLU\", \"kargs\": {\"inplace\": true}}, {\"class\": \"BatchNorm2d\", \"kargs\": {\"num_features\": 80}}, {\"class\": \"Flatten\", \"kargs\": {}}, {\"class\": \"Linear\", \"kargs\": {\"in_features\": 16000, \"out_features\": 256}}, {\"class\": \"ReLU\", \"kargs\": {\"inplace\": true}}, {\"class\": \"BatchNorm1d\", \"kargs\": {\"num_features\": 256}}, {\"class\": \"Linear\", \"kargs\": {\"in_features\": 256, \"out_features\": 256}}], \"NUM_LOGS_PER_EPOCH\": 10, \"BEST_MODEL_PATH\": \"./best_model.pth\", \"n_way\": 16, \"datasets\": [{\"labels\": [\"1-10.\", \"1-11.\", \"1-15.\", \"1-16.\", \"1-17.\", \"1-18.\", \"1-19.\", \"10-4.\", \"10-7.\", \"11-1.\", \"11-14.\", \"11-17.\", \"11-20.\", \"11-7.\", \"13-20.\", \"13-8.\", \"14-10.\", \"14-11.\", \"14-14.\", \"14-7.\", \"15-1.\", \"15-20.\", \"16-1.\", \"16-16.\", \"17-10.\", \"17-11.\", \"17-2.\", \"19-1.\", \"19-16.\", \"19-19.\", \"19-20.\", \"19-3.\", \"2-10.\", \"2-11.\", \"2-17.\", \"2-18.\", \"2-20.\", \"2-3.\", \"2-4.\", \"2-5.\", \"2-6.\", \"2-7.\", \"2-8.\", \"3-13.\", \"3-18.\", \"3-3.\", \"4-1.\", \"4-10.\", \"4-11.\", \"4-19.\", \"5-5.\", \"6-15.\", \"7-10.\", \"7-14.\", \"8-18.\", \"8-20.\", \"8-3.\", \"8-8.\"], \"domains\": [1, 2, 3, 4, 5], \"num_examples_per_domain_per_label\": -1, \"pickle_path\": \"/mnt/wd500GB/CSC500/csc500-main/datasets/cores.stratified_ds.2022A.pkl\", \"source_or_target_dataset\": \"target\", \"x_transforms\": [\"lowpass_+/-10MHz\", \"take_200\"], \"episode_transforms\": [], \"domain_prefix\": \"C_\"}, {\"labels\": [\"3123D52\", \"3123D65\", \"3123D79\", \"3123D80\", \"3123D54\", \"3123D70\", \"3123D7B\", \"3123D89\", \"3123D58\", \"3123D76\", \"3123D7D\", \"3123EFE\", \"3123D64\", \"3123D78\", \"3123D7E\", \"3124E4A\"], \"domains\": [32, 38, 8, 44, 14, 50, 20, 26], \"num_examples_per_domain_per_label\": 2000, \"pickle_path\": \"/mnt/wd500GB/CSC500/csc500-main/datasets/oracle.Run1_framed_2000Examples_stratified_ds.2022A.pkl\", \"source_or_target_dataset\": \"source\", \"x_transforms\": [\"take_200\", \"resample_20Msps_to_25Msps\"], \"episode_transforms\": [], \"domain_prefix\": \"O_\"}], \"seed\": 154325, \"dataset_seed\": 154325, \"domains_source\": [\"O_32\", \"O_38\", \"O_8\", \"O_44\", \"O_14\", \"O_50\", \"O_20\", \"O_26\"], \"domains_target\": [\"C_1\", \"C_2\", \"C_3\", \"C_4\", \"C_5\"]}, \"results\": {\"source_test_label_accuracy\": 0.5778971354166667, \"source_test_label_loss\": 172.90380859375, \"target_test_label_accuracy\": 0.6303541433370661, \"target_test_label_loss\": 6223.2275390625, \"source_val_label_accuracy\": 0.58193359375, \"source_val_label_loss\": 172.3830108642578, \"target_val_label_accuracy\": 0.6330449084668193, \"target_val_label_loss\": 6370.61083984375, \"total_epochs_trained\": 5, \"total_experiment_time_secs\": 1450.185876607895, \"confusion\": {\"O_8\": {\"13\": {\"5\": 37, \"13\": 52, \"1\": 24, \"8\": 7, \"6\": 17, \"7\": 20, \"10\": 47, \"4\": 18, \"9\": 1, \"11\": 11, \"14\": 5, \"15\": 1}, \"9\": {\"9\": 235, \"3\": 4, \"15\": 1}, \"15\": {\"12\": 68, \"15\": 59, \"2\": 38, \"9\": 35, \"3\": 32, \"13\": 4, \"8\": 1, \"7\": 3}, \"2\": {\"15\": 48, \"12\": 46, \"3\": 69, \"13\": 2, \"2\": 54, \"9\": 12, \"7\": 4, \"1\": 2, \"6\": 2, \"8\": 1}, \"3\": {\"3\": 182, \"12\": 10, \"2\": 31, \"9\": 5, \"15\": 12}, \"8\": {\"7\": 42, \"14\": 19, \"6\": 37, \"8\": 73, \"4\": 42, \"0\": 4, \"13\": 11, \"11\": 4, \"10\": 4, \"1\": 4}, \"5\": {\"1\": 31, \"5\": 109, \"11\": 22, \"15\": 7, \"9\": 10, \"6\": 1, \"14\": 4, \"10\": 36, \"4\": 4, \"13\": 12, \"8\": 3, \"2\": 1}, \"14\": {\"14\": 96, \"4\": 57, \"8\": 15, \"11\": 26, \"1\": 9, \"6\": 6, \"0\": 14, \"10\": 7, \"5\": 4, \"7\": 4, \"13\": 2}, \"1\": {\"5\": 50, \"4\": 22, \"1\": 42, \"15\": 4, \"8\": 8, \"13\": 24, \"11\": 30, \"6\": 6, \"14\": 11, \"7\": 5, \"10\": 37, \"12\": 1}, \"0\": {\"14\": 8, \"0\": 229, \"4\": 1, \"8\": 2}, \"10\": {\"10\": 50, \"5\": 59, \"1\": 33, \"4\": 19, \"15\": 2, \"7\": 6, \"6\": 13, \"8\": 7, \"11\": 16, \"14\": 6, \"13\": 27, \"12\": 1, \"2\": 1}, \"6\": {\"4\": 34, \"6\": 41, \"13\": 29, \"10\": 22, \"7\": 50, \"8\": 32, \"14\": 12, \"1\": 10, \"5\": 3, \"11\": 7}, \"11\": {\"7\": 4, \"10\": 39, \"1\": 48, \"11\": 44, \"4\": 21, \"5\": 35, \"13\": 14, \"8\": 9, \"6\": 5, \"14\": 21}, \"7\": {\"13\": 45, \"7\": 49, \"6\": 42, \"4\": 24, \"8\": 38, \"14\": 9, \"1\": 8, \"10\": 15, \"11\": 4, \"0\": 2, \"5\": 4}, \"4\": {\"10\": 21, \"14\": 56, \"4\": 50, \"7\": 19, \"6\": 31, \"11\": 12, \"8\": 23, \"1\": 11, \"0\": 4, \"13\": 13}, \"12\": {\"15\": 74, \"2\": 44, \"12\": 73, \"13\": 8, \"9\": 8, \"6\": 4, \"7\": 6, \"3\": 18, \"8\": 4, \"10\": 1}}, \"O_38\": {\"13\": {\"13\": 232, \"10\": 6, \"0\": 2}, \"12\": {\"12\": 240}, \"2\": {\"2\": 225, \"14\": 14, \"13\": 1}, \"9\": {\"9\": 235, \"7\": 1, \"5\": 4}, \"15\": {\"1\": 6, \"15\": 225, \"5\": 6, \"8\": 3}, \"5\": {\"5\": 127, \"8\": 71, \"7\": 22, \"9\": 15, \"0\": 1, \"15\": 3, \"1\": 1}, \"14\": {\"14\": 231, \"2\": 9}, \"0\": {\"7\": 41, \"0\": 113, \"13\": 20, \"10\": 65, \"3\": 1}, \"3\": {\"11\": 19, \"3\": 220, \"10\": 1}, \"1\": {\"1\": 240}, \"11\": {\"11\": 156, \"3\": 84}, \"7\": {\"7\": 236, \"8\": 3, \"5\": 1}, \"8\": {\"8\": 115, \"5\": 70, \"7\": 31, \"0\": 2, \"15\": 16, \"12\": 1, \"13\": 3, \"9\": 2}, \"4\": {\"4\": 239, \"10\": 1}, \"10\": {\"10\": 211, \"0\": 18, \"13\": 10, \"4\": 1}, \"6\": {\"6\": 240}}, \"O_26\": {\"10\": {\"1\": 24, \"14\": 21, \"5\": 24, \"10\": 47, \"6\": 23, \"15\": 28, \"0\": 25, \"8\": 20, \"7\": 7, \"2\": 7, \"11\": 6, \"9\": 7, \"13\": 1}, \"12\": {\"12\": 120, \"4\": 43, \"7\": 19, \"9\": 29, \"13\": 10, \"0\": 7, \"8\": 11, \"3\": 1}, \"1\": {\"1\": 58, \"6\": 21, \"13\": 1, \"5\": 61, \"0\": 12, \"14\": 25, \"15\": 36, \"10\": 14, \"11\": 5, \"8\": 4, \"2\": 1, \"7\": 2}, \"0\": {\"14\": 27, \"9\": 18, \"6\": 14, \"0\": 41, \"7\": 18, \"15\": 17, \"10\": 32, \"2\": 14, \"8\": 39, \"5\": 8, \"1\": 5, \"3\": 4, \"11\": 2, \"13\": 1}, \"15\": {\"15\": 46, \"0\": 11, \"5\": 88, \"1\": 24, \"14\": 17, \"6\": 24, \"10\": 15, \"11\": 5, \"2\": 7, \"9\": 1, \"8\": 1, \"7\": 1}, \"13\": {\"9\": 29, \"13\": 44, \"8\": 25, \"3\": 20, \"7\": 28, \"14\": 7, \"2\": 12, \"10\": 9, \"12\": 33, \"0\": 8, \"6\": 1, \"15\": 1, \"4\": 21, \"5\": 1, \"1\": 1}, \"8\": {\"14\": 16, \"12\": 3, \"13\": 11, \"9\": 31, \"8\": 49, \"3\": 12, \"10\": 18, \"0\": 32, \"2\": 18, \"7\": 37, \"4\": 7, \"6\": 3, \"15\": 3}, \"3\": {\"13\": 29, \"14\": 7, \"9\": 24, \"0\": 18, \"3\": 53, \"7\": 34, \"1\": 5, \"2\": 24, \"10\": 8, \"8\": 21, \"4\": 11, \"12\": 4, \"6\": 2}, \"11\": {\"15\": 25, \"11\": 80, \"5\": 44, \"6\": 28, \"14\": 8, \"1\": 15, \"8\": 3, \"10\": 21, \"0\": 10, \"2\": 3, \"7\": 2, \"13\": 1}, \"4\": {\"13\": 38, \"12\": 78, \"4\": 67, \"9\": 17, \"7\": 11, \"3\": 10, \"2\": 2, \"0\": 5, \"8\": 12}, \"6\": {\"6\": 48, \"15\": 40, \"0\": 10, \"1\": 27, \"5\": 44, \"10\": 21, \"14\": 26, \"13\": 1, \"11\": 7, \"9\": 3, \"2\": 3, \"8\": 6, \"7\": 4}, \"7\": {\"9\": 33, \"14\": 17, \"0\": 27, \"13\": 6, \"2\": 28, \"4\": 6, \"3\": 13, \"7\": 49, \"8\": 36, \"10\": 15, \"15\": 3, \"12\": 5, \"6\": 1, \"5\": 1}, \"14\": {\"15\": 35, \"6\": 20, \"3\": 3, \"1\": 34, \"0\": 28, \"10\": 28, \"9\": 7, \"14\": 26, \"8\": 14, \"7\": 5, \"5\": 31, \"2\": 7, \"11\": 2}, \"2\": {\"15\": 22, \"2\": 23, \"1\": 8, \"10\": 26, \"8\": 22, \"9\": 22, \"7\": 22, \"13\": 6, \"0\": 29, \"3\": 13, \"14\": 15, \"5\": 22, \"6\": 5, \"4\": 3, \"12\": 2}, \"5\": {\"15\": 45, \"5\": 132, \"11\": 7, \"6\": 17, \"1\": 26, \"10\": 4, \"14\": 8, \"2\": 1}, \"9\": {\"8\": 52, \"13\": 19, \"4\": 7, \"7\": 43, \"3\": 10, \"14\": 8, \"0\": 23, \"9\": 29, \"11\": 1, \"15\": 5, \"10\": 14, \"2\": 12, \"12\": 11, \"6\": 6}}, \"O_20\": {\"5\": {\"3\": 33, \"0\": 51, \"2\": 17, \"13\": 6, \"5\": 37, \"1\": 29, \"8\": 9, \"12\": 14, \"7\": 6, \"15\": 17, \"9\": 11, \"6\": 2, \"4\": 6, \"10\": 2}, \"15\": {\"12\": 31, \"2\": 18, \"1\": 29, \"3\": 17, \"10\": 8, \"5\": 27, \"13\": 28, \"15\": 49, \"4\": 14, \"0\": 6, \"7\": 5, \"9\": 8}, \"9\": {\"8\": 17, \"7\": 26, \"2\": 29, \"4\": 14, \"5\": 21, \"9\": 11, \"1\": 26, \"10\": 11, \"11\": 2, \"3\": 29, \"0\": 7, \"13\": 11, \"12\": 16, \"6\": 7, \"14\": 3, \"15\": 10}, \"7\": {\"2\": 23, \"12\": 17, \"9\": 24, \"7\": 21, \"8\": 15, \"3\": 24, \"13\": 17, \"4\": 19, \"6\": 18, \"10\": 34, \"1\": 6, \"15\": 2, \"5\": 11, \"14\": 8, \"0\": 1}, \"3\": {\"1\": 22, \"12\": 12, \"15\": 10, \"3\": 21, \"5\": 35, \"0\": 33, \"9\": 13, \"14\": 5, \"2\": 15, \"4\": 19, \"6\": 7, \"8\": 20, \"10\": 7, \"7\": 10, \"11\": 6, \"13\": 5}, \"8\": {\"14\": 24, \"0\": 42, \"8\": 43, \"7\": 14, \"11\": 21, \"3\": 28, \"1\": 10, \"5\": 14, \"2\": 7, \"6\": 6, \"9\": 17, \"4\": 5, \"10\": 5, \"12\": 3, \"13\": 1}, \"4\": {\"10\": 32, \"4\": 41, \"9\": 13, \"8\": 12, \"12\": 21, \"2\": 19, \"3\": 22, \"13\": 21, \"7\": 19, \"5\": 12, \"1\": 8, \"6\": 7, \"0\": 3, \"14\": 4, \"15\": 6}, \"6\": {\"7\": 31, \"6\": 52, \"14\": 25, \"10\": 81, \"9\": 9, \"4\": 13, \"2\": 9, \"11\": 3, \"8\": 7, \"12\": 3, \"3\": 3, \"13\": 3, \"1\": 1}, \"2\": {\"1\": 19, \"13\": 32, \"9\": 21, \"12\": 18, \"2\": 20, \"3\": 22, \"5\": 16, \"7\": 21, \"15\": 9, \"4\": 18, \"8\": 8, \"10\": 21, \"6\": 13, \"14\": 2}, \"12\": {\"4\": 17, \"9\": 22, \"15\": 19, \"1\": 32, \"13\": 32, \"5\": 26, \"3\": 18, \"12\": 27, \"2\": 20, \"10\": 13, \"7\": 5, \"0\": 2, \"8\": 6, \"6\": 1}, \"0\": {\"0\": 173, \"8\": 8, \"5\": 21, \"2\": 2, \"11\": 8, \"1\": 14, \"9\": 4, \"3\": 9, \"15\": 1}, \"13\": {\"9\": 25, \"4\": 12, \"2\": 29, \"7\": 16, \"10\": 40, \"1\": 10, \"3\": 7, \"12\": 22, \"5\": 6, \"13\": 56, \"15\": 16, \"6\": 1}, \"10\": {\"13\": 12, \"10\": 94, \"6\": 33, \"7\": 35, \"14\": 10, \"2\": 21, \"4\": 21, \"12\": 4, \"9\": 3, \"15\": 3, \"8\": 2, \"3\": 1, \"1\": 1}, \"11\": {\"11\": 100, \"0\": 35, \"3\": 12, \"14\": 23, \"8\": 28, \"6\": 10, \"9\": 9, \"7\": 12, \"5\": 3, \"4\": 1, \"2\": 2, \"12\": 1, \"10\": 3, \"1\": 1}, \"14\": {\"11\": 30, \"8\": 42, \"4\": 12, \"14\": 70, \"7\": 20, \"9\": 6, \"6\": 27, \"10\": 16, \"3\": 9, \"2\": 3, \"1\": 1, \"5\": 3, \"12\": 1}, \"1\": {\"3\": 20, \"5\": 31, \"1\": 32, \"15\": 17, \"2\": 21, \"4\": 13, \"0\": 36, \"12\": 16, \"13\": 14, \"8\": 7, \"9\": 15, \"10\": 5, \"7\": 11, \"6\": 2}}, \"O_50\": {\"1\": {\"1\": 238, \"13\": 2}, \"2\": {\"2\": 231, \"0\": 9}, \"8\": {\"8\": 240}, \"7\": {\"7\": 228, \"5\": 7, \"4\": 4, \"3\": 1}, \"14\": {\"14\": 240}, \"6\": {\"6\": 201, \"5\": 23, \"15\": 15, \"4\": 1}, \"3\": {\"3\": 211, \"8\": 29}, \"4\": {\"4\": 208, \"7\": 21, \"5\": 6, \"15\": 5}, \"12\": {\"12\": 226, \"11\": 4, \"9\": 10}, \"15\": {\"15\": 226, \"6\": 9, \"5\": 1, \"11\": 4}, \"11\": {\"11\": 227, \"9\": 3, \"15\": 4, \"12\": 6}, \"0\": {\"0\": 218, \"10\": 6, \"2\": 16}, \"9\": {\"12\": 19, \"9\": 209, \"11\": 12}, \"10\": {\"10\": 237, \"0\": 2, \"8\": 1}, \"5\": {\"13\": 14, \"6\": 47, \"1\": 1, \"4\": 20, \"7\": 65, \"5\": 90, \"15\": 3}, \"13\": {\"13\": 239, \"1\": 1}}, \"O_32\": {\"2\": {\"2\": 212, \"4\": 28}, \"6\": {\"10\": 82, \"12\": 56, \"6\": 102}, \"5\": {\"5\": 134, \"0\": 22, \"8\": 36, \"7\": 40, \"14\": 8}, \"12\": {\"12\": 218, \"9\": 20, \"6\": 1, \"10\": 1}, \"13\": {\"13\": 166, \"3\": 43, \"4\": 28, \"11\": 3}, \"9\": {\"9\": 240}, \"11\": {\"11\": 237, \"13\": 2, \"3\": 1}, \"1\": {\"1\": 164, \"12\": 72, \"6\": 3, \"9\": 1}, \"3\": {\"3\": 229, \"13\": 11}, \"7\": {\"7\": 153, \"5\": 41, \"0\": 21, \"14\": 22, \"8\": 3}, \"14\": {\"14\": 133, \"7\": 64, \"0\": 14, \"3\": 1, \"5\": 14, \"8\": 3, \"2\": 6, \"4\": 4, \"13\": 1}, \"8\": {\"8\": 189, \"0\": 22, \"5\": 14, \"4\": 6, \"14\": 3, \"3\": 1, \"7\": 4, \"2\": 1}, \"4\": {\"4\": 209, \"13\": 3, \"2\": 27, \"14\": 1}, \"0\": {\"0\": 177, \"5\": 12, \"7\": 26, \"8\": 16, \"14\": 4, \"2\": 4, \"4\": 1}, \"10\": {\"10\": 181, \"6\": 48, \"1\": 6, \"12\": 5}, \"15\": {\"15\": 238, \"8\": 1, \"5\": 1}}, \"O_44\": {\"13\": {\"13\": 190, \"6\": 37, \"9\": 13}, \"4\": {\"4\": 149, \"14\": 83, \"15\": 8}, \"6\": {\"6\": 189, \"13\": 31, \"9\": 19, \"7\": 1}, \"0\": {\"0\": 227, \"8\": 13}, \"10\": {\"10\": 232, \"1\": 4, \"7\": 2, \"2\": 2}, \"7\": {\"7\": 205, \"9\": 31, \"6\": 3, \"10\": 1}, \"14\": {\"14\": 174, \"4\": 49, \"15\": 7, \"5\": 10}, \"15\": {\"15\": 206, \"5\": 8, \"14\": 15, \"8\": 7, \"0\": 4}, \"5\": {\"5\": 211, \"15\": 17, \"14\": 9, \"8\": 2, \"4\": 1}, \"2\": {\"2\": 223, \"1\": 14, \"10\": 3}, \"9\": {\"9\": 122, \"13\": 11, \"6\": 33, \"7\": 69, \"10\": 1, \"4\": 4}, \"12\": {\"12\": 236, \"3\": 4}, \"8\": {\"8\": 157, \"0\": 72, \"15\": 3, \"5\": 8}, \"3\": {\"3\": 237, \"12\": 3}, \"1\": {\"1\": 229, \"2\": 10, \"10\": 1}, \"11\": {\"11\": 240}}, \"O_14\": {\"1\": {\"1\": 180, \"11\": 13, \"10\": 3, \"4\": 33, \"7\": 7, \"2\": 1, \"5\": 3}, \"15\": {\"15\": 221, \"13\": 5, \"3\": 5, \"0\": 1, \"6\": 8}, \"10\": {\"8\": 61, \"4\": 36, \"10\": 84, \"1\": 6, \"13\": 2, \"0\": 14, \"14\": 5, \"3\": 3, \"2\": 7, \"5\": 10, \"9\": 9, \"7\": 2, \"12\": 1}, \"2\": {\"14\": 35, \"2\": 36, \"4\": 28, \"13\": 18, \"3\": 23, \"10\": 3, \"8\": 5, \"6\": 18, \"0\": 6, \"1\": 7, \"7\": 24, \"5\": 36, \"15\": 1}, \"9\": {\"12\": 35, \"10\": 21, \"9\": 160, \"1\": 3, \"4\": 10, \"8\": 10, \"11\": 1}, \"5\": {\"2\": 39, \"7\": 36, \"6\": 8, \"4\": 53, \"5\": 59, \"3\": 4, \"1\": 5, \"14\": 21, \"8\": 7, \"13\": 5, \"10\": 2, \"0\": 1}, \"7\": {\"7\": 105, \"1\": 14, \"6\": 4, \"2\": 26, \"4\": 46, \"5\": 35, \"14\": 3, \"13\": 6, \"3\": 1}, \"13\": {\"6\": 37, \"13\": 24, \"15\": 48, \"3\": 54, \"7\": 5, \"4\": 10, \"14\": 23, \"5\": 12, \"10\": 3, \"8\": 2, \"2\": 13, \"0\": 9}, \"8\": {\"14\": 8, \"8\": 124, \"3\": 21, \"13\": 7, \"10\": 29, \"0\": 29, \"6\": 4, \"5\": 5, \"4\": 11, \"2\": 1, \"7\": 1}, \"6\": {\"15\": 56, \"3\": 43, \"13\": 33, \"14\": 33, \"6\": 30, \"5\": 11, \"2\": 21, \"0\": 8, \"4\": 2, \"7\": 3}, \"3\": {\"13\": 24, \"14\": 32, \"3\": 67, \"6\": 32, \"8\": 3, \"15\": 33, \"5\": 11, \"0\": 24, \"2\": 12, \"7\": 1, \"4\": 1}, \"12\": {\"12\": 233, \"0\": 3, \"9\": 4}, \"0\": {\"15\": 39, \"13\": 14, \"8\": 20, \"6\": 27, \"10\": 6, \"5\": 3, \"0\": 76, \"3\": 36, \"14\": 14, \"2\": 4, \"12\": 1}, \"4\": {\"4\": 83, \"7\": 24, \"5\": 46, \"6\": 3, \"2\": 30, \"8\": 7, \"1\": 33, \"10\": 9, \"14\": 3, \"13\": 2}, \"14\": {\"3\": 60, \"14\": 33, \"13\": 30, \"6\": 34, \"5\": 18, \"2\": 29, \"4\": 6, \"0\": 15, \"15\": 9, \"7\": 5, \"8\": 1}, \"11\": {\"11\": 202, \"1\": 35, \"9\": 2, \"4\": 1}}, \"C_2\": {\"21\": {\"21\": 109, \"50\": 5, \"3\": 1, \"46\": 1, \"0\": 1, \"45\": 1, \"12\": 1, \"44\": 1}, \"4\": {\"56\": 1, \"8\": 9, \"1\": 5, \"4\": 31, \"21\": 1, \"44\": 2, \"52\": 1, \"41\": 2, \"57\": 21, \"0\": 4, \"5\": 2, \"30\": 2, \"40\": 6, \"48\": 9, \"20\": 10, \"45\": 1, \"46\": 1, \"9\": 8, \"29\": 1, \"22\": 3, \"55\": 1, \"47\": 6, \"14\": 2, \"38\": 1}, \"6\": {\"6\": 87, \"3\": 7, \"5\": 9, \"46\": 8, \"45\": 8, \"50\": 3, \"12\": 2}, \"10\": {\"10\": 83, \"28\": 4, \"42\": 1, \"24\": 2, \"19\": 1, \"53\": 10, \"23\": 8, \"11\": 1, \"34\": 2}, \"33\": {\"33\": 18, \"27\": 3, \"39\": 1, \"34\": 1, \"54\": 2, \"49\": 1, \"24\": 1, \"37\": 1}, \"56\": {\"56\": 53, \"21\": 2, \"3\": 3, \"47\": 17, \"6\": 3, \"50\": 8, \"22\": 6, \"46\": 1, \"0\": 5, \"48\": 11, \"45\": 1, \"1\": 3, \"5\": 1, \"44\": 2, \"30\": 5, \"40\": 1}, \"20\": {\"20\": 108, \"8\": 7, \"13\": 1, \"29\": 3, \"57\": 3, \"48\": 1, \"4\": 2, \"9\": 4, \"0\": 1, \"30\": 1, \"40\": 1}, \"24\": {\"24\": 62, \"42\": 4, \"43\": 11, \"17\": 6, \"54\": 5, \"51\": 5, \"27\": 2, \"34\": 1}, \"45\": {\"50\": 7, \"6\": 19, \"3\": 8, \"5\": 9, \"45\": 74, \"44\": 1, \"46\": 4, \"12\": 3, \"21\": 2, \"22\": 1}, \"32\": {\"32\": 17, \"4\": 1, \"54\": 1, \"33\": 2, \"39\": 1, \"49\": 1, \"36\": 1, \"31\": 1, \"8\": 1, \"51\": 1, \"57\": 1}, \"27\": {\"27\": 127, \"29\": 2, \"13\": 1, \"8\": 7, \"9\": 1, \"51\": 9, \"20\": 1}, \"53\": {\"53\": 101, \"54\": 2, \"34\": 1, \"42\": 1, \"23\": 13, \"24\": 2, \"17\": 3, \"10\": 4, \"11\": 3, \"19\": 3, \"26\": 1, \"15\": 2}, \"8\": {\"8\": 125, \"20\": 8, \"57\": 6, \"4\": 1, \"29\": 8, \"55\": 1, \"9\": 5, \"27\": 1, \"41\": 1, \"39\": 2, \"13\": 2}, \"54\": {\"33\": 1, \"24\": 6, \"54\": 58, \"42\": 3, \"17\": 5, \"49\": 1, \"43\": 12, \"51\": 8, \"27\": 4, \"29\": 2, \"10\": 1, \"23\": 1, \"31\": 1, \"20\": 1, \"53\": 2, \"57\": 1, \"13\": 1}, \"50\": {\"50\": 76, \"21\": 8, \"22\": 3, \"46\": 12, \"12\": 4, \"45\": 6, \"6\": 13, \"3\": 6, \"5\": 3, \"44\": 1, \"40\": 1, \"56\": 1}, \"44\": {\"44\": 61, \"1\": 4, \"5\": 4, \"50\": 4, \"3\": 2, \"22\": 4, \"45\": 8, \"6\": 4, \"30\": 2, \"40\": 4, \"48\": 1, \"56\": 1, \"46\": 1}, \"5\": {\"44\": 3, \"5\": 55, \"3\": 6, \"50\": 14, \"46\": 6, \"45\": 11, \"22\": 5, \"6\": 9, \"12\": 4, \"21\": 1, \"1\": 3, \"0\": 2, \"47\": 1}, \"38\": {\"38\": 17, \"20\": 1, \"48\": 1, \"7\": 1}, \"19\": {\"23\": 8, \"19\": 75, \"42\": 3, \"11\": 6, \"34\": 4, \"43\": 3, \"55\": 4, \"15\": 10, \"24\": 2, \"53\": 9, \"10\": 3, \"35\": 1, \"27\": 1, \"29\": 1, \"54\": 1, \"9\": 1}, \"1\": {\"40\": 4, \"1\": 44, \"3\": 1, \"14\": 4, \"56\": 8, \"47\": 12, \"48\": 13, \"0\": 2, \"45\": 1, \"30\": 8, \"5\": 1, \"22\": 7, \"50\": 2, \"36\": 1, \"44\": 1, \"6\": 1, \"46\": 1, \"4\": 1}, \"30\": {\"30\": 57, \"52\": 19, \"4\": 4, \"2\": 1, \"21\": 5, \"0\": 2, \"48\": 18, \"1\": 2, \"47\": 7, \"40\": 16, \"12\": 4, \"22\": 5, \"36\": 1, \"50\": 2, \"57\": 1}, \"15\": {\"15\": 114, \"34\": 2, \"17\": 1, \"11\": 16, \"53\": 2, \"16\": 5, \"25\": 1, \"23\": 2, \"19\": 1}, \"23\": {\"19\": 12, \"23\": 101, \"34\": 1, \"28\": 2, \"11\": 2, \"24\": 2, \"53\": 17, \"10\": 6, \"51\": 1, \"17\": 1, \"54\": 1}, \"35\": {\"35\": 22, \"54\": 2, \"17\": 1, \"43\": 2, \"7\": 1, \"23\": 1, \"1\": 1, \"55\": 1, \"24\": 1}, \"22\": {\"5\": 9, \"22\": 51, \"30\": 5, \"45\": 2, \"40\": 4, \"56\": 11, \"47\": 12, \"44\": 6, \"1\": 6, \"50\": 5, \"12\": 1, \"48\": 2, \"6\": 5, \"4\": 2, \"0\": 4, \"46\": 1, \"3\": 1, \"52\": 1}, \"40\": {\"40\": 57, \"44\": 2, \"52\": 19, \"48\": 26, \"14\": 1, \"13\": 1, \"30\": 13, \"1\": 4, \"50\": 1, \"6\": 1, \"21\": 2, \"57\": 2, \"5\": 1, \"56\": 2, \"3\": 1, \"0\": 1, \"20\": 1, \"29\": 2, \"45\": 2, \"47\": 1}, \"46\": {\"50\": 25, \"46\": 46, \"6\": 10, \"5\": 9, \"3\": 7, \"12\": 14, \"1\": 1, \"45\": 6, \"21\": 3, \"44\": 1, \"22\": 4}, \"3\": {\"3\": 42, \"5\": 7, \"45\": 4, \"21\": 1, \"44\": 6, \"12\": 6, \"0\": 1, \"46\": 7, \"6\": 12, \"22\": 2, \"50\": 2, \"40\": 2}, \"48\": {\"30\": 13, \"48\": 68, \"40\": 11, \"1\": 8, \"52\": 13, \"47\": 11, \"0\": 6, \"29\": 1, \"12\": 1, \"50\": 2, \"4\": 5, \"56\": 3, \"57\": 3, \"20\": 1, \"21\": 1, \"22\": 1}, \"52\": {\"52\": 74, \"30\": 16, \"21\": 4, \"48\": 18, \"40\": 7, \"47\": 3, \"4\": 2}, \"2\": {\"2\": 23, \"48\": 1, \"1\": 2, \"55\": 2, \"4\": 2, \"40\": 1, \"32\": 1}, \"26\": {\"53\": 2, \"26\": 20, \"11\": 1, \"24\": 1}, \"17\": {\"17\": 86, \"42\": 5, \"54\": 3, \"43\": 4, \"20\": 1, \"49\": 1, \"24\": 2, \"51\": 2}, \"55\": {\"51\": 2, \"48\": 5, \"36\": 7, \"35\": 1, \"55\": 73, \"52\": 3, \"9\": 6, \"33\": 1, \"40\": 2, \"56\": 1, \"57\": 10, \"54\": 1, \"2\": 4, \"13\": 2, \"20\": 5, \"30\": 2, \"27\": 2, \"29\": 7, \"4\": 3, \"8\": 5, \"31\": 1, \"47\": 1}, \"51\": {\"54\": 3, \"55\": 2, \"51\": 84, \"27\": 19, \"4\": 1, \"29\": 2, \"43\": 3, \"8\": 4, \"13\": 2, \"57\": 1, \"9\": 1}, \"42\": {\"24\": 4, \"42\": 23, \"7\": 1, \"43\": 2, \"57\": 1, \"54\": 2, \"14\": 1, \"17\": 2}, \"41\": {\"41\": 10, \"56\": 1, \"13\": 2, \"8\": 1, \"4\": 1, \"55\": 2, \"38\": 2, \"21\": 1}, \"31\": {\"31\": 22, \"54\": 1, \"37\": 2, \"33\": 2, \"7\": 1}, \"16\": {\"16\": 115, \"11\": 10, \"15\": 8, \"19\": 4, \"10\": 1}, \"36\": {\"36\": 113, \"9\": 1, \"32\": 1, \"4\": 1}, \"49\": {\"49\": 14, \"7\": 1, \"26\": 2, \"34\": 1, \"54\": 1, \"39\": 1, \"23\": 2, \"27\": 1, \"51\": 1}, \"0\": {\"0\": 26, \"56\": 3, \"30\": 3, \"48\": 9, \"47\": 1, \"3\": 1, \"22\": 1, \"6\": 1, \"46\": 1, \"21\": 1, \"50\": 1}, \"18\": {\"18\": 48}, \"25\": {\"25\": 132, \"16\": 7, \"15\": 6, \"11\": 1}, \"9\": {\"9\": 65, \"2\": 1, \"7\": 3, \"57\": 14, \"55\": 5, \"48\": 1, \"13\": 1, \"29\": 9, \"8\": 11, \"27\": 2, \"20\": 1, \"4\": 5, \"39\": 2, \"47\": 1, \"36\": 1}, \"47\": {\"47\": 54, \"56\": 4, \"21\": 1, \"14\": 2, \"48\": 11, \"50\": 5, \"30\": 8, \"36\": 1, \"52\": 11, \"1\": 7, \"40\": 6, \"22\": 6, \"57\": 2, \"5\": 3, \"4\": 8, \"2\": 2, \"6\": 1}, \"7\": {\"7\": 24, \"57\": 2, \"39\": 3, \"38\": 1, \"9\": 2, \"31\": 1, \"37\": 1, \"29\": 2}, \"37\": {\"37\": 29, \"17\": 1, \"31\": 2, \"33\": 2, \"43\": 1, \"26\": 1}, \"13\": {\"13\": 67, \"8\": 13, \"57\": 7, \"39\": 2, \"14\": 1, \"20\": 3, \"48\": 4, \"9\": 4, \"29\": 5, \"22\": 1, \"38\": 2, \"36\": 1, \"56\": 1, \"40\": 1, \"52\": 2, \"47\": 2}, \"14\": {\"4\": 2, \"47\": 2, \"14\": 7, \"5\": 1, \"22\": 1, \"29\": 1, \"13\": 1, \"1\": 1, \"57\": 1, \"52\": 2, \"41\": 3, \"48\": 2}, \"34\": {\"19\": 3, \"34\": 15, \"42\": 4, \"49\": 2, \"28\": 1, \"23\": 1, \"53\": 1, \"43\": 1}, \"57\": {\"52\": 5, \"57\": 50, \"48\": 14, \"36\": 1, \"2\": 1, \"55\": 2, \"40\": 5, \"29\": 13, \"30\": 8, \"27\": 1, \"13\": 3, \"8\": 13, \"4\": 5, \"56\": 1, \"9\": 13, \"32\": 1, \"20\": 1, \"47\": 3}, \"11\": {\"11\": 95, \"15\": 19, \"28\": 1, \"19\": 3, \"23\": 6, \"16\": 9, \"53\": 4, \"10\": 1}, \"39\": {\"39\": 21, \"47\": 2, \"2\": 1, \"27\": 3, \"8\": 1}, \"12\": {\"12\": 59, \"3\": 6, \"46\": 6, \"45\": 5, \"50\": 12, \"6\": 2, \"5\": 2}, \"28\": {\"28\": 28}, \"29\": {\"29\": 52, \"45\": 2, \"36\": 8, \"8\": 22, \"38\": 1, \"9\": 8, \"4\": 2, \"55\": 7, \"57\": 11, \"20\": 2, \"47\": 1, \"27\": 3, \"48\": 4, \"2\": 1, \"51\": 1, \"30\": 1, \"6\": 1, \"13\": 1}, \"43\": {\"43\": 116, \"24\": 7, \"42\": 1, \"19\": 1, \"17\": 1, \"53\": 1, \"54\": 6, \"51\": 7}}, \"C_5\": {\"12\": {\"12\": 52, \"56\": 2, \"44\": 2, \"3\": 10, \"6\": 5, \"0\": 2, \"46\": 6, \"4\": 4, \"50\": 4, \"40\": 3, \"45\": 3, \"22\": 2, \"9\": 1}, \"8\": {\"8\": 116, \"35\": 2, \"7\": 1, \"41\": 1, \"13\": 1, \"20\": 4, \"55\": 2, \"27\": 5, \"43\": 8, \"2\": 2}, \"29\": {\"29\": 70, \"35\": 1, \"5\": 4, \"47\": 5, \"1\": 3, \"6\": 1, \"22\": 2, \"20\": 10, \"13\": 9, \"48\": 8, \"57\": 10, \"30\": 1, \"56\": 2, \"44\": 1, \"14\": 2, \"39\": 1, \"40\": 1, \"4\": 1}, \"57\": {\"57\": 49, \"30\": 13, \"0\": 8, \"7\": 1, \"52\": 3, \"48\": 9, \"9\": 10, \"56\": 2, \"14\": 2, \"47\": 4, \"20\": 6, \"13\": 7, \"27\": 2, \"29\": 4, \"1\": 2, \"36\": 2, \"40\": 1, \"46\": 1}, \"38\": {\"55\": 2, \"38\": 23, \"37\": 3, \"54\": 1, \"31\": 2, \"26\": 1}, \"23\": {\"23\": 81, \"24\": 4, \"17\": 11, \"19\": 12, \"10\": 3, \"15\": 2, \"53\": 6, \"11\": 1, \"51\": 1, \"42\": 3}, \"56\": {\"1\": 16, \"56\": 69, \"9\": 6, \"0\": 9, \"36\": 1, \"12\": 1, \"47\": 8, \"46\": 5, \"40\": 3, \"3\": 1, \"5\": 5, \"30\": 5, \"44\": 3, \"50\": 1, \"45\": 1, \"52\": 3, \"29\": 1}, \"49\": {\"49\": 19, \"2\": 1, \"13\": 1, \"20\": 1, \"48\": 3, \"54\": 1, \"57\": 2, \"39\": 2, \"35\": 2, \"14\": 2, \"55\": 2}, \"4\": {\"4\": 40, \"30\": 7, \"1\": 5, \"6\": 4, \"22\": 3, \"56\": 1, \"47\": 1, \"52\": 2, \"40\": 6, \"45\": 1, \"50\": 6, \"5\": 5, \"12\": 1, \"0\": 1, \"46\": 2, \"44\": 7, \"3\": 1, \"57\": 1, \"21\": 1, \"9\": 5}, \"48\": {\"48\": 65, \"30\": 11, \"47\": 1, \"20\": 16, \"14\": 3, \"7\": 4, \"57\": 13, \"0\": 2, \"4\": 1, \"36\": 2, \"6\": 1, \"52\": 1, \"1\": 5, \"55\": 1, \"21\": 1, \"56\": 1, \"29\": 3, \"12\": 2, \"13\": 1, \"9\": 2}, \"21\": {\"57\": 1, \"21\": 130, \"39\": 1, \"0\": 1, \"52\": 3, \"30\": 1, \"40\": 1, \"46\": 2, \"9\": 2, \"20\": 2}, \"30\": {\"30\": 72, \"57\": 4, \"47\": 6, \"46\": 5, \"4\": 5, \"9\": 9, \"1\": 9, \"52\": 7, \"12\": 3, \"48\": 3, \"40\": 2, \"0\": 3}, \"1\": {\"30\": 13, \"1\": 86, \"4\": 3, \"56\": 4, \"29\": 2, \"14\": 1, \"47\": 14, \"3\": 2, \"52\": 7, \"9\": 8, \"5\": 1, \"46\": 1, \"12\": 1, \"45\": 1, \"21\": 1, \"48\": 1, \"6\": 1, \"44\": 1}, \"34\": {\"23\": 1, \"34\": 23, \"10\": 1, \"54\": 3, \"32\": 1, \"51\": 1, \"24\": 2, \"35\": 2, \"33\": 1, \"29\": 1}, \"35\": {\"35\": 29, \"8\": 3, \"2\": 1, \"49\": 3}, \"55\": {\"29\": 13, \"48\": 13, \"55\": 57, \"8\": 6, \"54\": 9, \"33\": 1, \"49\": 2, \"51\": 10, \"1\": 3, \"17\": 2, \"52\": 1, \"27\": 6, \"43\": 7, \"23\": 1, \"9\": 2, \"57\": 5, \"35\": 1, \"20\": 2, \"30\": 1, \"37\": 1, \"14\": 1, \"38\": 1, \"36\": 1, \"47\": 3, \"13\": 2, \"24\": 1}, \"5\": {\"6\": 7, \"3\": 9, \"5\": 67, \"4\": 2, \"44\": 13, \"50\": 5, \"45\": 4, \"40\": 7, \"12\": 1, \"30\": 2, \"9\": 1, \"47\": 1, \"22\": 3}, \"52\": {\"52\": 77, \"9\": 4, \"39\": 1, \"30\": 6, \"21\": 2, \"46\": 10, \"0\": 11, \"40\": 1, \"57\": 4, \"20\": 1, \"13\": 4, \"48\": 5}, \"6\": {\"6\": 61, \"3\": 11, \"50\": 20, \"45\": 16, \"4\": 2, \"12\": 6, \"9\": 1, \"5\": 5, \"44\": 4, \"40\": 1, \"46\": 1}, \"36\": {\"29\": 9, \"35\": 1, \"48\": 2, \"36\": 31, \"57\": 3, \"47\": 1, \"14\": 2, \"0\": 2, \"56\": 9, \"22\": 1, \"46\": 2, \"30\": 4, \"54\": 3, \"1\": 11, \"12\": 2, \"40\": 4, \"13\": 1, \"4\": 1, \"9\": 2, \"3\": 1}, \"41\": {\"41\": 16, \"33\": 1, \"2\": 1, \"38\": 1, \"8\": 1, \"51\": 1, \"54\": 2, \"39\": 1, \"43\": 1, \"29\": 1, \"13\": 1, \"9\": 1}, \"3\": {\"3\": 48, \"50\": 2, \"40\": 4, \"12\": 9, \"0\": 8, \"30\": 2, \"6\": 6, \"45\": 2, \"4\": 3, \"46\": 6, \"22\": 2, \"36\": 2, \"44\": 2, \"9\": 3, \"56\": 1}, \"28\": {\"28\": 20, \"10\": 4, \"11\": 2, \"17\": 1, \"19\": 3, \"15\": 1, \"34\": 1}, \"18\": {\"18\": 63, \"15\": 1}, \"25\": {\"25\": 130, \"16\": 2, \"15\": 1, \"11\": 2, \"53\": 1}, \"47\": {\"3\": 6, \"47\": 41, \"30\": 7, \"46\": 6, \"56\": 4, \"4\": 1, \"9\": 3, \"1\": 12, \"29\": 2, \"40\": 1, \"12\": 2, \"36\": 5, \"14\": 1, \"0\": 4, \"52\": 2, \"48\": 2, \"57\": 1}, \"13\": {\"46\": 5, \"47\": 4, \"13\": 82, \"21\": 2, \"56\": 2, \"14\": 3, \"7\": 3, \"8\": 3, \"0\": 4, \"36\": 6, \"1\": 1, \"52\": 5, \"29\": 2, \"30\": 2, \"5\": 1, \"9\": 2, \"57\": 5, \"20\": 17, \"48\": 6, \"27\": 3, \"45\": 1, \"40\": 1}, \"11\": {\"11\": 91, \"15\": 23, \"16\": 26, \"53\": 2, \"25\": 1, \"23\": 1}, \"53\": {\"53\": 114, \"10\": 7, \"23\": 14, \"17\": 1, \"27\": 1, \"19\": 4, \"42\": 1, \"8\": 1, \"15\": 1}, \"33\": {\"33\": 21, \"17\": 3, \"23\": 2, \"2\": 1, \"34\": 3, \"32\": 1, \"41\": 1}, \"46\": {\"46\": 89, \"9\": 7, \"12\": 2, \"1\": 3, \"0\": 22, \"5\": 1, \"30\": 3, \"3\": 3, \"52\": 4, \"56\": 3, \"40\": 8, \"6\": 2, \"22\": 1}, \"50\": {\"50\": 102, \"6\": 19, \"44\": 4, \"45\": 17, \"40\": 2, \"5\": 2, \"4\": 1, \"3\": 1}, \"10\": {\"10\": 56, \"53\": 1, \"23\": 4, \"17\": 1, \"33\": 2, \"19\": 1, \"24\": 3}, \"15\": {\"11\": 9, \"15\": 112, \"16\": 9, \"53\": 4, \"23\": 2, \"19\": 2}, \"44\": {\"44\": 92, \"50\": 7, \"12\": 1, \"5\": 16, \"3\": 2, \"4\": 4, \"40\": 5, \"56\": 1, \"45\": 7, \"6\": 4, \"1\": 1}, \"2\": {\"2\": 16, \"13\": 2, \"38\": 1, \"43\": 5, \"8\": 1, \"14\": 1, \"27\": 1, \"32\": 1}, \"7\": {\"7\": 28, \"14\": 1, \"20\": 2, \"55\": 1}, \"43\": {\"43\": 114, \"8\": 13, \"49\": 1, \"35\": 1, \"27\": 5, \"2\": 2, \"17\": 1, \"55\": 1}, \"32\": {\"32\": 17, \"3\": 1, \"29\": 3, \"8\": 2, \"14\": 2, \"43\": 2, \"27\": 1, \"55\": 2, \"2\": 1, \"57\": 1}, \"0\": {\"0\": 100, \"12\": 2, \"46\": 12, \"30\": 1, \"1\": 1, \"56\": 4, \"52\": 3, \"3\": 1}, \"39\": {\"0\": 3, \"7\": 1, \"3\": 4, \"39\": 8, \"40\": 2, \"8\": 1, \"12\": 1}, \"26\": {\"26\": 13, \"34\": 2, \"53\": 2, \"15\": 1, \"31\": 3, \"37\": 1, \"10\": 1, \"17\": 1}, \"27\": {\"27\": 57, \"43\": 9, \"29\": 3, \"54\": 10, \"8\": 9, \"48\": 6, \"20\": 3, \"55\": 6, \"51\": 2, \"49\": 1, \"2\": 2, \"32\": 1, \"38\": 1, \"57\": 2}, \"54\": {\"54\": 73, \"43\": 8, \"31\": 2, \"49\": 2, \"8\": 4, \"51\": 8, \"55\": 4, \"27\": 1, \"17\": 4, \"33\": 2, \"57\": 1, \"48\": 1, \"23\": 2}, \"17\": {\"17\": 105, \"23\": 7, \"54\": 1, \"51\": 1, \"41\": 1, \"33\": 1}, \"14\": {\"48\": 1, \"30\": 2, \"14\": 13, \"7\": 4, \"20\": 4, \"1\": 1, \"36\": 2, \"41\": 2, \"13\": 3, \"29\": 2, \"57\": 1, \"52\": 2, \"56\": 1, \"40\": 1, \"8\": 1, \"2\": 1, \"46\": 1, \"9\": 1, \"21\": 1}, \"16\": {\"28\": 2, \"16\": 114, \"19\": 4, \"11\": 17, \"15\": 2, \"25\": 2, \"53\": 5, \"10\": 1, \"51\": 1}, \"9\": {\"46\": 12, \"1\": 6, \"44\": 1, \"9\": 47, \"6\": 3, \"4\": 7, \"56\": 4, \"20\": 7, \"0\": 2, \"21\": 4, \"12\": 2, \"30\": 9, \"48\": 9, \"52\": 9, \"57\": 8, \"40\": 7, \"3\": 1, \"50\": 2, \"13\": 4, \"45\": 1, \"47\": 1, \"29\": 1, \"5\": 1}, \"19\": {\"19\": 97, \"33\": 4, \"42\": 2, \"32\": 1, \"34\": 1, \"53\": 19, \"15\": 9, \"24\": 2, \"27\": 1, \"10\": 1, \"23\": 7, \"16\": 1, \"17\": 5, \"51\": 1, \"28\": 1}, \"20\": {\"20\": 118, \"7\": 2, \"21\": 4, \"14\": 3, \"57\": 4, \"48\": 4, \"13\": 2, \"52\": 1}, \"37\": {\"37\": 22, \"7\": 1, \"20\": 1}, \"24\": {\"24\": 62, \"51\": 6, \"34\": 1, \"10\": 3, \"55\": 1, \"17\": 1, \"54\": 1, \"41\": 2, \"23\": 3}, \"40\": {\"40\": 33, \"6\": 4, \"46\": 19, \"4\": 6, \"0\": 12, \"9\": 8, \"36\": 1, \"30\": 6, \"1\": 4, \"5\": 2, \"44\": 10, \"12\": 1, \"21\": 2, \"56\": 7, \"52\": 2, \"45\": 4, \"50\": 1}, \"45\": {\"45\": 90, \"6\": 11, \"50\": 17, \"5\": 3, \"44\": 2, \"3\": 1}, \"22\": {\"22\": 16, \"4\": 1, \"56\": 1, \"40\": 3, \"5\": 5, \"12\": 2}, \"42\": {\"42\": 30, \"19\": 3, \"35\": 1, \"17\": 1, \"10\": 1, \"53\": 2, \"43\": 1, \"11\": 1}, \"51\": {\"51\": 100, \"8\": 5, \"55\": 1, \"43\": 2, \"9\": 2, \"23\": 1, \"38\": 1, \"54\": 5, \"20\": 1}, \"31\": {\"31\": 35, \"42\": 1}}, \"C_1\": {\"27\": {\"56\": 8, \"27\": 90, \"57\": 2, \"21\": 2, \"47\": 9, \"52\": 2, \"22\": 6, \"30\": 2, \"40\": 5, \"45\": 3, \"44\": 1, \"3\": 3, \"29\": 2, \"4\": 3, \"13\": 2, \"6\": 1, \"50\": 1}, \"2\": {\"14\": 1, \"2\": 35}, \"33\": {\"33\": 29, \"42\": 2, \"54\": 1}, \"45\": {\"45\": 92, \"52\": 5, \"0\": 14, \"56\": 18, \"50\": 7, \"3\": 2, \"6\": 7, \"44\": 1, \"4\": 2, \"12\": 2, \"40\": 3, \"20\": 1, \"22\": 2}, \"38\": {\"14\": 1, \"33\": 1, \"38\": 16, \"55\": 1, \"1\": 1, \"37\": 1, \"8\": 1, \"20\": 1, \"12\": 1}, \"4\": {\"4\": 50, \"27\": 7, \"7\": 1, \"56\": 5, \"6\": 1, \"47\": 3, \"44\": 16, \"40\": 8, \"3\": 6, \"5\": 9, \"22\": 1, \"21\": 3, \"13\": 4, \"57\": 4, \"45\": 1, \"46\": 2, \"0\": 3, \"50\": 3, \"52\": 1, \"30\": 1, \"20\": 3}, \"31\": {\"32\": 1, \"31\": 26, \"37\": 1}, \"55\": {\"55\": 114, \"30\": 4, \"32\": 1, \"36\": 2, \"8\": 5, \"48\": 8, \"57\": 2, \"1\": 3, \"49\": 1}, \"32\": {\"32\": 32}, \"57\": {\"30\": 12, \"57\": 59, \"21\": 8, \"45\": 1, \"52\": 5, \"3\": 1, \"7\": 3, \"1\": 5, \"47\": 11, \"22\": 2, \"4\": 1, \"40\": 6, \"48\": 1, \"0\": 2, \"13\": 4, \"55\": 8, \"27\": 2, \"50\": 1, \"29\": 6, \"49\": 1, \"43\": 1}, \"14\": {\"14\": 15, \"2\": 1, \"1\": 1, \"40\": 1, \"20\": 1, \"13\": 1, \"21\": 2, \"52\": 1, \"49\": 1}, \"16\": {\"16\": 106, \"26\": 1, \"15\": 12, \"53\": 8, \"11\": 10, \"19\": 1, \"10\": 1, \"25\": 1}, \"34\": {\"34\": 23, \"35\": 1}, \"56\": {\"56\": 44, \"45\": 16, \"4\": 3, \"0\": 16, \"3\": 8, \"20\": 7, \"50\": 7, \"6\": 4, \"44\": 6, \"5\": 7, \"52\": 1, \"46\": 3, \"40\": 3, \"27\": 1}, \"24\": {\"33\": 3, \"24\": 83, \"51\": 11, \"54\": 4, \"17\": 4, \"23\": 1, \"9\": 2}, \"30\": {\"2\": 1, \"30\": 81, \"0\": 1, \"39\": 1, \"57\": 7, \"40\": 2, \"55\": 1, \"47\": 2, \"21\": 5, \"12\": 2, \"7\": 2, \"13\": 2, \"56\": 1, \"48\": 1, \"1\": 2, \"46\": 1}, \"17\": {\"17\": 59, \"24\": 1, \"37\": 1, \"42\": 1, \"54\": 1, \"34\": 1}, \"13\": {\"14\": 3, \"30\": 6, \"13\": 77, \"22\": 9, \"21\": 13, \"57\": 6, \"45\": 7, \"40\": 2, \"27\": 3, \"50\": 2, \"2\": 1, \"1\": 1, \"6\": 1, \"52\": 3, \"12\": 2, \"46\": 1, \"0\": 1}, \"39\": {\"39\": 22, \"21\": 1, \"49\": 1, \"52\": 1, \"22\": 1, \"27\": 1, \"43\": 1}, \"50\": {\"50\": 128, \"6\": 5, \"45\": 6, \"44\": 1, \"0\": 1, \"20\": 3, \"56\": 1, \"5\": 1}, \"20\": {\"50\": 10, \"20\": 85, \"45\": 7, \"12\": 11, \"0\": 8, \"46\": 1, \"3\": 7, \"57\": 1, \"52\": 2, \"56\": 5, \"6\": 2, \"21\": 1}, \"41\": {\"41\": 23, \"32\": 1}, \"53\": {\"53\": 111, \"23\": 2, \"19\": 3, \"10\": 2, \"26\": 1, \"15\": 5, \"16\": 1, \"24\": 1}, \"48\": {\"48\": 97, \"36\": 4, \"8\": 20, \"55\": 10, \"12\": 2, \"57\": 2, \"0\": 1, \"50\": 1, \"1\": 2, \"49\": 1, \"30\": 1, \"20\": 1}, \"36\": {\"36\": 49, \"49\": 3, \"8\": 3, \"48\": 3, \"43\": 1, \"55\": 2, \"13\": 1, \"14\": 1, \"1\": 1}, \"8\": {\"55\": 5, \"8\": 101, \"30\": 2, \"48\": 15, \"36\": 5, \"43\": 2, \"1\": 6, \"38\": 1, \"14\": 1, \"29\": 1, \"57\": 1}, \"15\": {\"15\": 108, \"28\": 1, \"10\": 5, \"53\": 9, \"19\": 3, \"11\": 6}, \"40\": {\"27\": 17, \"40\": 52, \"14\": 1, \"30\": 9, \"21\": 12, \"45\": 5, \"2\": 3, \"4\": 6, \"5\": 4, \"44\": 5, \"47\": 5, \"13\": 12, \"56\": 4, \"22\": 6, \"12\": 1, \"57\": 4, \"46\": 3, \"52\": 4, \"6\": 1, \"20\": 1, \"29\": 1}, \"37\": {\"37\": 25, \"32\": 2, \"31\": 3, \"38\": 1, \"55\": 1}, \"21\": {\"57\": 4, \"21\": 88, \"22\": 4, \"0\": 3, \"13\": 14, \"40\": 1, \"38\": 1, \"39\": 1, \"20\": 2, \"8\": 1, \"52\": 1}, \"35\": {\"35\": 31, \"54\": 1, \"15\": 1, \"19\": 1, \"23\": 1, \"17\": 1}, \"49\": {\"49\": 29, \"8\": 1, \"47\": 1, \"55\": 1}, \"26\": {\"26\": 22, \"25\": 1, \"41\": 1}, \"28\": {\"28\": 16, \"10\": 6, \"35\": 1, \"23\": 2, \"42\": 1, \"17\": 1, \"26\": 1}, \"12\": {\"12\": 105, \"50\": 1, \"20\": 7, \"52\": 2, \"22\": 1}, \"5\": {\"5\": 121, \"46\": 15, \"6\": 2, \"45\": 1, \"3\": 2, \"44\": 8, \"56\": 3}, \"29\": {\"47\": 11, \"49\": 1, \"29\": 46, \"4\": 8, \"40\": 5, \"43\": 6, \"3\": 2, \"30\": 4, \"1\": 6, \"27\": 10, \"57\": 7, \"56\": 6, \"55\": 10, \"22\": 2, \"48\": 2, \"21\": 2, \"5\": 3, \"44\": 4, \"7\": 2, \"38\": 1, \"46\": 2}, \"47\": {\"47\": 45, \"30\": 11, \"57\": 16, \"4\": 7, \"6\": 1, \"45\": 4, \"29\": 9, \"1\": 4, \"46\": 2, \"27\": 12, \"0\": 1, \"40\": 4, \"52\": 2, \"21\": 7, \"13\": 5, \"56\": 4, \"44\": 2, \"22\": 1, \"12\": 1, \"43\": 1, \"3\": 1}, \"10\": {\"10\": 72, \"11\": 1, \"19\": 5, \"53\": 3, \"23\": 7, \"28\": 4, \"15\": 4}, \"18\": {\"18\": 70, \"46\": 1, \"15\": 1}, \"9\": {\"9\": 95, \"54\": 5, \"55\": 3, \"51\": 14, \"8\": 2, \"48\": 5, \"21\": 1, \"30\": 1}, \"3\": {\"12\": 3, \"3\": 51, \"45\": 9, \"4\": 3, \"50\": 9, \"20\": 9, \"6\": 8, \"13\": 1, \"0\": 8, \"46\": 8, \"52\": 1, \"44\": 11, \"56\": 11, \"5\": 6, \"27\": 2}, \"52\": {\"52\": 107, \"22\": 14, \"0\": 3, \"45\": 2, \"20\": 3, \"50\": 1, \"21\": 1, \"12\": 1}, \"25\": {\"25\": 130, \"15\": 2, \"16\": 3, \"11\": 1}, \"19\": {\"9\": 2, \"19\": 107, \"53\": 10, \"10\": 11, \"28\": 1, \"54\": 2, \"15\": 10, \"17\": 4, \"23\": 7, \"48\": 1, \"26\": 1}, \"11\": {\"11\": 97, \"16\": 19, \"15\": 12, \"53\": 2, \"10\": 1, \"19\": 4, \"25\": 1}, \"7\": {\"7\": 21, \"14\": 1, \"40\": 3, \"22\": 1, \"4\": 1, \"2\": 1}, \"23\": {\"23\": 124, \"17\": 1, \"28\": 1, \"19\": 5, \"24\": 3, \"35\": 2}, \"44\": {\"5\": 8, \"44\": 88, \"46\": 8, \"4\": 5, \"6\": 4, \"3\": 7, \"45\": 1, \"56\": 6, \"40\": 2, \"27\": 1, \"50\": 2}, \"42\": {\"54\": 3, \"42\": 26, \"34\": 1, \"33\": 4, \"24\": 1, \"8\": 1, \"23\": 1, \"37\": 1, \"51\": 1, \"32\": 1}, \"54\": {\"42\": 2, \"54\": 81, \"33\": 3, \"9\": 5, \"51\": 6, \"24\": 6, \"36\": 1}, \"1\": {\"1\": 58, \"8\": 6, \"49\": 2, \"29\": 4, \"57\": 4, \"55\": 6, \"48\": 5, \"47\": 2, \"27\": 3, \"50\": 1, \"39\": 2, \"30\": 1, \"36\": 2, \"40\": 1, \"13\": 1, \"43\": 2}, \"46\": {\"46\": 75, \"44\": 15, \"3\": 5, \"6\": 4, \"20\": 2, \"4\": 1, \"5\": 15, \"50\": 3, \"56\": 3, \"40\": 2, \"45\": 2, \"0\": 1}, \"6\": {\"46\": 8, \"0\": 5, \"52\": 3, \"4\": 1, \"6\": 40, \"3\": 7, \"50\": 9, \"20\": 5, \"5\": 8, \"45\": 6, \"44\": 1, \"22\": 1, \"56\": 2}, \"43\": {\"43\": 124, \"1\": 2, \"29\": 1, \"57\": 2, \"47\": 4, \"30\": 1, \"36\": 1, \"48\": 2, \"39\": 1, \"7\": 1, \"8\": 4, \"13\": 1}, \"51\": {\"51\": 118, \"9\": 14, \"54\": 6, \"8\": 1, \"48\": 2, \"4\": 1}, \"22\": {\"22\": 93, \"50\": 2, \"20\": 5, \"56\": 1, \"52\": 16, \"13\": 10, \"47\": 1, \"40\": 3, \"3\": 1, \"6\": 1, \"4\": 1, \"12\": 2}, \"0\": {\"6\": 4, \"0\": 106, \"56\": 4, \"45\": 6, \"50\": 3, \"52\": 2, \"22\": 1, \"3\": 1, \"13\": 1}}, \"C_4\": {\"32\": {\"32\": 23, \"31\": 1}, \"2\": {\"2\": 21, \"4\": 1, \"48\": 2, \"29\": 3, \"52\": 2, \"40\": 2, \"0\": 1, \"39\": 2, \"21\": 1, \"46\": 1}, \"41\": {\"41\": 28, \"37\": 1, \"19\": 1, \"24\": 1, \"27\": 1, \"43\": 1, \"17\": 2, \"36\": 1}, \"11\": {\"32\": 2, \"11\": 65, \"42\": 2, \"34\": 1, \"35\": 1, \"53\": 6, \"15\": 15, \"16\": 3, \"19\": 1, \"28\": 2, \"23\": 2, \"10\": 1, \"17\": 1}, \"57\": {\"57\": 32, \"55\": 2, \"29\": 14, \"8\": 10, \"56\": 1, \"52\": 6, \"47\": 6, \"20\": 1, \"36\": 6, \"9\": 3, \"48\": 3, \"4\": 7, \"27\": 2, \"14\": 3, \"40\": 2, \"13\": 2}, \"6\": {\"6\": 86, \"50\": 10, \"3\": 16}, \"23\": {\"23\": 84, \"19\": 13, \"34\": 1, \"53\": 7, \"42\": 2, \"11\": 5, \"15\": 4, \"17\": 6, \"16\": 2, \"10\": 10, \"43\": 1, \"33\": 1}, \"52\": {\"46\": 3, \"21\": 4, \"52\": 73, \"0\": 5, \"20\": 7, \"48\": 13, \"56\": 1, \"29\": 1, \"40\": 5, \"13\": 2, \"12\": 1, \"47\": 1}, \"38\": {\"38\": 33, \"9\": 2, \"36\": 1, \"14\": 1, \"8\": 2, \"13\": 1}, \"50\": {\"50\": 61, \"6\": 13, \"44\": 3, \"3\": 21, \"22\": 12, \"45\": 7, \"5\": 14, \"46\": 1}, \"55\": {\"55\": 73, \"38\": 4, \"8\": 5, \"43\": 4, \"32\": 1, \"27\": 6, \"26\": 2, \"4\": 3, \"29\": 8, \"51\": 9, \"47\": 2, \"36\": 9, \"57\": 2, \"35\": 4, \"52\": 1, \"9\": 6, \"54\": 4, \"13\": 5, \"48\": 1, \"2\": 1, \"14\": 1, \"7\": 1}, \"46\": {\"50\": 6, \"46\": 90, \"45\": 6, \"12\": 8, \"30\": 3, \"0\": 10, \"6\": 1, \"5\": 7, \"22\": 14, \"56\": 4, \"3\": 3, \"47\": 1, \"40\": 1}, \"37\": {\"38\": 1, \"37\": 17, \"52\": 1, \"8\": 1, \"51\": 1, \"2\": 1, \"14\": 1, \"9\": 1}, \"20\": {\"46\": 1, \"52\": 4, \"20\": 88, \"21\": 8, \"12\": 1, \"48\": 7, \"40\": 5, \"39\": 1, \"0\": 1, \"13\": 1, \"47\": 1}, \"49\": {\"41\": 4, \"55\": 2, \"49\": 3, \"7\": 1, \"54\": 3, \"51\": 1, \"27\": 3, \"24\": 1, \"36\": 1, \"35\": 1}, \"45\": {\"46\": 13, \"45\": 31, \"3\": 6, \"56\": 4, \"44\": 9, \"0\": 3, \"5\": 4, \"30\": 1, \"6\": 4, \"50\": 7, \"12\": 6, \"22\": 7, \"40\": 1}, \"54\": {\"43\": 20, \"54\": 63, \"38\": 1, \"27\": 6, \"51\": 7, \"24\": 2, \"29\": 1, \"55\": 4, \"41\": 1, \"33\": 1, \"32\": 1, \"17\": 1}, \"3\": {\"3\": 72, \"22\": 5, \"50\": 11, \"30\": 2, \"40\": 1, \"5\": 12, \"6\": 18, \"45\": 2, \"44\": 1}, \"13\": {\"13\": 92, \"14\": 2, \"52\": 9, \"56\": 7, \"8\": 4, \"1\": 1, \"57\": 10, \"47\": 6, \"48\": 6, \"9\": 5, \"40\": 5, \"39\": 2, \"29\": 1, \"20\": 1, \"0\": 1}, \"18\": {\"18\": 105, \"16\": 2, \"17\": 1}, \"21\": {\"21\": 114, \"12\": 2, \"52\": 4, \"0\": 1, \"22\": 1, \"56\": 1, \"46\": 1, \"40\": 1, \"20\": 1}, \"43\": {\"43\": 127, \"33\": 1, \"7\": 1, \"54\": 8, \"51\": 2, \"49\": 2, \"24\": 2, \"55\": 1}, \"47\": {\"47\": 46, \"4\": 14, \"13\": 6, \"57\": 5, \"29\": 7, \"14\": 2, \"12\": 3, \"52\": 4, \"30\": 3, \"48\": 4, \"21\": 1, \"0\": 4, \"46\": 1, \"56\": 8, \"40\": 6, \"9\": 1, \"2\": 1, \"3\": 1, \"5\": 2, \"20\": 1}, \"4\": {\"13\": 3, \"55\": 3, \"4\": 36, \"29\": 14, \"9\": 6, \"20\": 5, \"30\": 2, \"8\": 8, \"57\": 5, \"1\": 4, \"2\": 1, \"27\": 2, \"56\": 7, \"47\": 6, \"36\": 6, \"52\": 3, \"50\": 1, \"48\": 6, \"44\": 4, \"40\": 4, \"5\": 1, \"3\": 1, \"46\": 2, \"45\": 1, \"0\": 1}, \"12\": {\"12\": 66, \"40\": 3, \"0\": 6, \"46\": 6, \"5\": 3, \"50\": 2, \"45\": 2, \"3\": 2, \"56\": 1, \"30\": 1}, \"9\": {\"9\": 73, \"20\": 8, \"4\": 3, \"29\": 3, \"52\": 7, \"55\": 2, \"27\": 3, \"8\": 6, \"38\": 1, \"48\": 8, \"36\": 3, \"13\": 2, \"57\": 4, \"40\": 3, \"47\": 1, \"43\": 1}, \"7\": {\"7\": 14, \"9\": 2, \"2\": 1, \"39\": 2, \"8\": 1, \"52\": 1, \"36\": 2, \"51\": 1}, \"56\": {\"56\": 59, \"40\": 14, \"22\": 3, \"48\": 9, \"1\": 3, \"45\": 1, \"0\": 7, \"44\": 1, \"52\": 1, \"47\": 4, \"50\": 1, \"46\": 2, \"5\": 1, \"4\": 1, \"12\": 2, \"57\": 1, \"6\": 1, \"21\": 1}, \"28\": {\"11\": 2, \"28\": 16, \"15\": 3, \"53\": 4, \"34\": 1, \"23\": 1, \"31\": 2, \"25\": 1, \"16\": 2}, \"44\": {\"44\": 66, \"50\": 12, \"45\": 10, \"12\": 3, \"1\": 2, \"5\": 3, \"4\": 2, \"56\": 5, \"48\": 1, \"3\": 4, \"22\": 6, \"46\": 4, \"47\": 3, \"30\": 2, \"21\": 3, \"52\": 1, \"40\": 3, \"6\": 2}, \"24\": {\"24\": 45, \"31\": 1, \"43\": 1, \"53\": 2, \"17\": 5, \"41\": 1, \"20\": 1}, \"33\": {\"7\": 1, \"33\": 23, \"43\": 2, \"32\": 1, \"35\": 3, \"49\": 2, \"17\": 1, \"54\": 1, \"55\": 1, \"26\": 1}, \"35\": {\"29\": 1, \"35\": 25, \"43\": 1, \"54\": 1, \"57\": 1, \"41\": 2, \"55\": 4, \"49\": 1, \"17\": 1, \"27\": 2, \"4\": 1}, \"51\": {\"35\": 1, \"51\": 75, \"54\": 10, \"8\": 6, \"29\": 1, \"43\": 16, \"36\": 2, \"44\": 1, \"27\": 17, \"33\": 1, \"55\": 4, \"57\": 1, \"9\": 1, \"4\": 2}, \"39\": {\"39\": 10, \"13\": 1, \"52\": 1, \"30\": 1, \"21\": 2, \"0\": 1, \"27\": 1, \"20\": 1, \"40\": 2}, \"36\": {\"36\": 76, \"29\": 2, \"9\": 2, \"24\": 1, \"55\": 3, \"27\": 3, \"57\": 3, \"8\": 2}, \"19\": {\"19\": 67, \"53\": 5, \"26\": 3, \"55\": 2, \"16\": 1, \"11\": 3, \"54\": 3, \"35\": 1, \"23\": 23, \"4\": 2, \"57\": 2, \"10\": 15, \"48\": 1, \"34\": 2, \"24\": 1, \"47\": 1, \"43\": 6, \"9\": 1, \"51\": 1}, \"0\": {\"0\": 58, \"46\": 9, \"30\": 4, \"3\": 1, \"12\": 2, \"5\": 2, \"40\": 2, \"56\": 1, \"22\": 1}, \"15\": {\"19\": 3, \"28\": 2, \"15\": 100, \"11\": 15, \"16\": 7, \"17\": 2, \"53\": 3, \"23\": 3, \"51\": 1}, \"29\": {\"36\": 8, \"29\": 59, \"1\": 1, \"57\": 9, \"8\": 13, \"9\": 9, \"4\": 9, \"48\": 1, \"47\": 5, \"55\": 3, \"52\": 3, \"20\": 1, \"13\": 2, \"22\": 1}, \"30\": {\"30\": 30, \"56\": 2, \"22\": 2, \"12\": 3, \"44\": 1, \"0\": 4, \"47\": 1, \"46\": 1}, \"1\": {\"1\": 21, \"30\": 1, \"56\": 3, \"40\": 1, \"22\": 2, \"13\": 1, \"45\": 1, \"4\": 2, \"48\": 3, \"2\": 2, \"52\": 2, \"47\": 1}, \"22\": {\"22\": 90, \"50\": 9, \"3\": 4, \"6\": 8, \"45\": 3, \"5\": 9, \"46\": 5}, \"40\": {\"3\": 4, \"40\": 59, \"30\": 2, \"1\": 4, \"6\": 5, \"52\": 10, \"47\": 10, \"5\": 4, \"44\": 3, \"56\": 5, \"48\": 9, \"21\": 11, \"50\": 4, \"20\": 9, \"9\": 1, \"2\": 1, \"46\": 1, \"57\": 1, \"0\": 1, \"22\": 1, \"45\": 1}, \"8\": {\"8\": 110, \"36\": 1, \"9\": 10, \"27\": 1, \"38\": 1, \"29\": 2, \"57\": 1, \"51\": 2}, \"53\": {\"53\": 91, \"19\": 6, \"15\": 9, \"10\": 11, \"41\": 2, \"42\": 5, \"23\": 10, \"11\": 2, \"54\": 1, \"24\": 1}, \"34\": {\"34\": 17, \"42\": 4, \"51\": 1, \"17\": 1, \"32\": 1}, \"10\": {\"10\": 87, \"53\": 12, \"17\": 1, \"23\": 8, \"51\": 1, \"19\": 11, \"41\": 1, \"42\": 1}, \"31\": {\"31\": 25, \"37\": 1, \"32\": 1, \"54\": 1}, \"17\": {\"17\": 63, \"42\": 2, \"24\": 5, \"19\": 3, \"32\": 3, \"51\": 2, \"43\": 1, \"10\": 1}, \"16\": {\"16\": 72, \"53\": 4, \"28\": 3, \"15\": 7, \"11\": 9, \"23\": 1}, \"42\": {\"17\": 2, \"34\": 5, \"42\": 18, \"19\": 1, \"53\": 1, \"43\": 1, \"23\": 1, \"28\": 1, \"10\": 1, \"32\": 1}, \"27\": {\"27\": 77, \"29\": 4, \"51\": 13, \"54\": 7, \"38\": 1, \"55\": 11, \"43\": 5, \"57\": 2, \"8\": 7, \"2\": 1, \"4\": 1, \"36\": 5, \"13\": 1, \"9\": 3, \"49\": 1, \"21\": 1, \"35\": 1, \"20\": 1}, \"14\": {\"8\": 2, \"57\": 1, \"14\": 4, \"0\": 1, \"44\": 2, \"47\": 1, \"36\": 1, \"9\": 1, \"45\": 1, \"13\": 2}, \"25\": {\"25\": 119, \"11\": 1, \"15\": 1, \"23\": 1}, \"48\": {\"2\": 1, \"48\": 54, \"52\": 10, \"4\": 6, \"1\": 3, \"12\": 2, \"40\": 5, \"20\": 18, \"56\": 8, \"3\": 1, \"47\": 8, \"9\": 3, \"57\": 4, \"13\": 1, \"5\": 1, \"46\": 4, \"29\": 1, \"21\": 1, \"22\": 1}, \"26\": {\"26\": 18, \"57\": 1, \"23\": 1, \"36\": 2, \"43\": 1, \"17\": 1}, \"5\": {\"5\": 56, \"46\": 10, \"44\": 4, \"45\": 5, \"3\": 6, \"50\": 7, \"22\": 12, \"6\": 7, \"12\": 1}}, \"C_3\": {\"14\": {\"14\": 6, \"9\": 3, \"35\": 1, \"52\": 1, \"13\": 4, \"29\": 4, \"4\": 1, \"47\": 3, \"22\": 3, \"55\": 2, \"36\": 2, \"20\": 1, \"48\": 1, \"45\": 1, \"32\": 1, \"1\": 2, \"30\": 1, \"56\": 1, \"44\": 2}, \"18\": {\"18\": 80, \"16\": 4}, \"30\": {\"30\": 52, \"56\": 4, \"47\": 3, \"39\": 3, \"0\": 12, \"48\": 12, \"50\": 2, \"41\": 1, \"21\": 11, \"52\": 8, \"12\": 1, \"5\": 1, \"40\": 2, \"46\": 3, \"22\": 1, \"2\": 2, \"20\": 1, \"1\": 1}, \"16\": {\"23\": 3, \"16\": 121, \"19\": 4, \"11\": 11, \"53\": 3, \"15\": 13, \"25\": 1}, \"1\": {\"1\": 38, \"56\": 12, \"48\": 8, \"2\": 1, \"0\": 3, \"47\": 4, \"4\": 5, \"52\": 4, \"20\": 3, \"50\": 1, \"40\": 4, \"30\": 6, \"21\": 1, \"22\": 5, \"5\": 2, \"46\": 1, \"44\": 1, \"57\": 1}, \"20\": {\"52\": 7, \"20\": 117, \"9\": 3, \"48\": 1, \"27\": 1, \"14\": 1, \"57\": 1, \"8\": 1}, \"7\": {\"9\": 3, \"8\": 1, \"30\": 1, \"7\": 16, \"13\": 1, \"2\": 1, \"20\": 3, \"52\": 2, \"35\": 1, \"55\": 2, \"56\": 1, \"48\": 1, \"40\": 2, \"57\": 1}, \"52\": {\"30\": 9, \"52\": 89, \"39\": 1, \"20\": 11, \"47\": 2, \"9\": 2, \"41\": 1, \"4\": 3, \"0\": 2, \"48\": 4, \"40\": 5, \"2\": 1}, \"9\": {\"9\": 88, \"14\": 1, \"27\": 7, \"13\": 1, \"57\": 17, \"44\": 1, \"56\": 1, \"29\": 10, \"4\": 4, \"8\": 5, \"2\": 1, \"32\": 2, \"22\": 1, \"0\": 1}, \"23\": {\"42\": 1, \"23\": 102, \"53\": 15, \"10\": 6, \"17\": 3, \"43\": 2, \"57\": 1, \"20\": 1, \"19\": 3, \"54\": 2, \"49\": 1, \"34\": 1, \"51\": 1, \"24\": 1, \"11\": 2, \"15\": 1, \"16\": 1}, \"55\": {\"55\": 77, \"14\": 3, \"33\": 2, \"32\": 4, \"2\": 2, \"27\": 15, \"35\": 3, \"51\": 1, \"52\": 2, \"36\": 2, \"29\": 16, \"13\": 2, \"38\": 2, \"8\": 9, \"4\": 4, \"48\": 1, \"20\": 3, \"40\": 1, \"9\": 4, \"57\": 10, \"1\": 1}, \"29\": {\"55\": 6, \"9\": 6, \"40\": 2, \"4\": 7, \"36\": 6, \"29\": 51, \"48\": 1, \"27\": 11, \"8\": 16, \"5\": 1, \"57\": 11, \"13\": 2, \"32\": 2, \"20\": 1, \"56\": 1, \"47\": 1, \"52\": 1}, \"56\": {\"1\": 7, \"56\": 76, \"47\": 7, \"46\": 2, \"0\": 13, \"50\": 3, \"41\": 1, \"30\": 3, \"20\": 1, \"5\": 4, \"44\": 1, \"3\": 2, \"22\": 9, \"40\": 1, \"45\": 1, \"48\": 1, \"4\": 1, \"21\": 1}, \"3\": {\"6\": 11, \"3\": 50, \"5\": 8, \"44\": 5, \"46\": 12, \"12\": 6, \"48\": 2, \"0\": 2, \"22\": 9, \"21\": 7, \"45\": 1, \"50\": 10, \"40\": 1}, \"42\": {\"42\": 18, \"43\": 2, \"51\": 1, \"26\": 1, \"24\": 1, \"31\": 1, \"49\": 2, \"54\": 2}, \"6\": {\"6\": 71, \"3\": 5, \"45\": 5, \"5\": 3, \"46\": 1, \"50\": 1, \"12\": 2}, \"5\": {\"5\": 45, \"6\": 7, \"3\": 7, \"21\": 9, \"40\": 3, \"45\": 6, \"4\": 1, \"41\": 1, \"50\": 9, \"22\": 11, \"30\": 2, \"56\": 5, \"46\": 4, \"0\": 1, \"44\": 1, \"12\": 3, \"47\": 1}, \"27\": {\"14\": 2, \"35\": 1, \"27\": 68, \"55\": 5, \"33\": 1, \"2\": 1, \"9\": 10, \"7\": 1, \"57\": 13, \"29\": 15, \"12\": 1, \"8\": 18, \"4\": 1, \"21\": 1, \"22\": 1, \"51\": 2, \"40\": 1, \"20\": 1, \"50\": 1}, \"47\": {\"5\": 2, \"47\": 30, \"12\": 2, \"2\": 2, \"22\": 5, \"14\": 2, \"52\": 6, \"0\": 7, \"48\": 5, \"36\": 2, \"56\": 6, \"1\": 8, \"21\": 3, \"30\": 2, \"4\": 3, \"41\": 3, \"29\": 1, \"40\": 2, \"50\": 1}, \"39\": {\"39\": 12, \"2\": 1, \"21\": 1, \"48\": 1, \"7\": 1}, \"34\": {\"34\": 14, \"35\": 4, \"24\": 3, \"26\": 1, \"10\": 3, \"55\": 1, \"29\": 1, \"32\": 1, \"19\": 1, \"43\": 1, \"9\": 2}, \"4\": {\"4\": 24, \"6\": 1, \"9\": 14, \"55\": 2, \"0\": 5, \"27\": 12, \"13\": 1, \"52\": 2, \"29\": 5, \"8\": 8, \"47\": 9, \"48\": 5, \"57\": 4, \"1\": 6, \"44\": 4, \"5\": 4, \"22\": 6, \"56\": 6, \"40\": 1, \"46\": 2, \"3\": 3, \"7\": 1, \"21\": 1}, \"24\": {\"24\": 77, \"51\": 2, \"42\": 1, \"43\": 8, \"49\": 2, \"34\": 2, \"17\": 6, \"54\": 6}, \"46\": {\"46\": 51, \"5\": 4, \"21\": 17, \"3\": 7, \"45\": 4, \"50\": 13, \"22\": 6, \"12\": 7, \"6\": 3, \"47\": 1, \"30\": 2, \"44\": 2, \"40\": 1}, \"50\": {\"46\": 18, \"50\": 57, \"5\": 11, \"3\": 15, \"21\": 4, \"12\": 5, \"45\": 1, \"22\": 8, \"6\": 4, \"40\": 1, \"56\": 1, \"44\": 1}, \"38\": {\"38\": 27, \"40\": 1}, \"54\": {\"54\": 60, \"26\": 3, \"51\": 10, \"42\": 3, \"35\": 1, \"43\": 3, \"17\": 10, \"8\": 4, \"24\": 1, \"4\": 1, \"57\": 1, \"23\": 1, \"10\": 1, \"55\": 1}, \"35\": {\"35\": 12, \"14\": 1, \"32\": 3, \"31\": 1, \"42\": 2, \"55\": 4, \"29\": 2, \"34\": 1, \"33\": 1, \"36\": 1}, \"2\": {\"2\": 25, \"41\": 1, \"48\": 2, \"52\": 2, \"9\": 1, \"57\": 1}, \"41\": {\"41\": 18, \"27\": 1, \"30\": 1, \"20\": 1, \"2\": 2, \"9\": 1, \"47\": 2, \"48\": 1, \"1\": 1}, \"57\": {\"13\": 4, \"57\": 36, \"8\": 9, \"1\": 2, \"27\": 12, \"55\": 5, \"52\": 2, \"29\": 12, \"3\": 1, \"4\": 7, \"9\": 6, \"36\": 4, \"0\": 1, \"56\": 1, \"48\": 1, \"2\": 4, \"14\": 1, \"41\": 2, \"30\": 3, \"7\": 1, \"47\": 1, \"20\": 1, \"22\": 2}, \"25\": {\"25\": 131, \"23\": 2, \"16\": 9, \"19\": 2, \"15\": 2, \"53\": 1, \"11\": 3}, \"48\": {\"48\": 58, \"39\": 1, \"1\": 6, \"30\": 5, \"20\": 5, \"47\": 6, \"4\": 5, \"21\": 3, \"0\": 6, \"52\": 5, \"40\": 7, \"3\": 1, \"27\": 2, \"7\": 2, \"50\": 1, \"9\": 1, \"22\": 1, \"56\": 1}, \"33\": {\"13\": 2, \"33\": 25, \"2\": 1}, \"45\": {\"45\": 31, \"6\": 10, \"50\": 5, \"46\": 2, \"5\": 2, \"12\": 4, \"44\": 2, \"3\": 1, \"22\": 2, \"40\": 1}, \"13\": {\"14\": 2, \"13\": 74, \"47\": 7, \"20\": 4, \"9\": 6, \"55\": 3, \"0\": 2, \"57\": 4, \"29\": 4, \"40\": 1, \"27\": 5, \"4\": 1, \"8\": 3, \"1\": 1, \"48\": 2, \"52\": 4, \"56\": 2, \"33\": 1}, \"36\": {\"36\": 96, \"14\": 1, \"32\": 1, \"9\": 1, \"27\": 1}, \"43\": {\"43\": 98, \"42\": 3, \"51\": 8, \"49\": 4, \"34\": 2, \"54\": 12, \"24\": 5}, \"28\": {\"42\": 1, \"28\": 18, \"53\": 1, \"31\": 1, \"25\": 3, \"43\": 1, \"23\": 1, \"26\": 1, \"51\": 1}, \"0\": {\"0\": 78, \"30\": 6, \"52\": 2, \"48\": 9, \"47\": 6, \"1\": 4, \"41\": 5, \"40\": 2, \"50\": 2, \"5\": 2, \"56\": 3, \"22\": 2, \"46\": 2, \"21\": 1}, \"12\": {\"12\": 57, \"50\": 9, \"3\": 7, \"6\": 5, \"5\": 6, \"22\": 2, \"46\": 5, \"45\": 1}, \"31\": {\"31\": 18, \"26\": 3, \"35\": 2, \"37\": 1, \"43\": 3, \"49\": 1}, \"40\": {\"4\": 10, \"6\": 4, \"48\": 8, \"39\": 1, \"40\": 37, \"20\": 13, \"14\": 1, \"41\": 1, \"45\": 2, \"0\": 7, \"44\": 2, \"52\": 15, \"5\": 1, \"22\": 1, \"3\": 5, \"30\": 2, \"9\": 2, \"12\": 1, \"47\": 1, \"1\": 1, \"46\": 1}, \"44\": {\"6\": 3, \"30\": 4, \"44\": 39, \"3\": 6, \"5\": 10, \"12\": 3, \"22\": 10, \"45\": 5, \"1\": 1, \"48\": 1, \"47\": 1, \"56\": 1, \"21\": 3, \"40\": 1}, \"32\": {\"55\": 2, \"35\": 3, \"27\": 2, \"32\": 13, \"36\": 4, \"38\": 1, \"2\": 1, \"26\": 1, \"29\": 1}, \"26\": {\"26\": 10, \"54\": 2, \"42\": 1, \"8\": 2, \"17\": 3, \"38\": 1, \"34\": 1, \"31\": 1, \"24\": 3}, \"8\": {\"8\": 83, \"7\": 2, \"27\": 16, \"9\": 5, \"29\": 5, \"20\": 2, \"13\": 1, \"57\": 2}, \"10\": {\"10\": 49, \"53\": 3, \"28\": 1, \"11\": 1, \"23\": 9, \"19\": 1}, \"15\": {\"15\": 106, \"31\": 1, \"11\": 13, \"9\": 1, \"19\": 4, \"43\": 3, \"53\": 5, \"16\": 8, \"23\": 1}, \"21\": {\"50\": 5, \"5\": 1, \"21\": 107, \"40\": 2, \"12\": 3, \"3\": 4, \"22\": 3, \"45\": 1, \"46\": 2}, \"37\": {\"37\": 26, \"51\": 1, \"31\": 1}, \"17\": {\"17\": 90, \"42\": 2, \"54\": 4, \"34\": 1, \"26\": 1, \"51\": 5, \"31\": 1, \"43\": 2, \"23\": 1, \"24\": 1}, \"51\": {\"51\": 102, \"5\": 1, \"54\": 3, \"57\": 1, \"17\": 1, \"27\": 2, \"8\": 8, \"33\": 1, \"35\": 1, \"43\": 2, \"7\": 1, \"9\": 1}, \"53\": {\"53\": 112, \"10\": 3, \"23\": 16, \"28\": 1, \"11\": 1, \"54\": 3, \"17\": 2, \"34\": 1, \"19\": 2, \"16\": 2, \"51\": 1}, \"19\": {\"19\": 68, \"23\": 8, \"53\": 7, \"36\": 3, \"43\": 7, \"11\": 18, \"15\": 7, \"51\": 3, \"57\": 2, \"17\": 2, \"24\": 2, \"29\": 1, \"27\": 1, \"16\": 3, \"55\": 2, \"54\": 1, \"48\": 1}, \"49\": {\"49\": 14, \"29\": 1, \"43\": 1, \"17\": 1, \"38\": 1, \"31\": 2}, \"11\": {\"11\": 85, \"15\": 21, \"16\": 17, \"25\": 1, \"53\": 7, \"23\": 2, \"19\": 4, \"10\": 1}, \"22\": {\"22\": 62, \"21\": 7, \"41\": 1, \"0\": 6, \"30\": 4, \"5\": 9, \"3\": 5, \"1\": 2, \"45\": 3, \"50\": 5, \"47\": 1, \"44\": 8, \"56\": 8, \"40\": 4, \"46\": 4, \"6\": 1}}}, \"per_domain_accuracy\": {\"O_8\": {\"accuracy\": 0.37447916666666664, \"source?\": true}, \"O_38\": {\"accuracy\": 0.85546875, \"source?\": true}, \"O_26\": {\"accuracy\": 0.2375, \"source?\": true}, \"O_20\": {\"accuracy\": 0.22057291666666667, \"source?\": true}, \"O_50\": {\"accuracy\": 0.9033854166666667, \"source?\": true}, \"O_32\": {\"accuracy\": 0.7765625, \"source?\": true}, \"O_44\": {\"accuracy\": 0.8403645833333333, \"source?\": true}, \"O_14\": {\"accuracy\": 0.4471354166666667, \"source?\": true}, \"C_2\": {\"accuracy\": 0.6186079545454546, \"source?\": false}, \"C_5\": {\"accuracy\": 0.632373595505618, \"source?\": false}, \"C_1\": {\"accuracy\": 0.6899038461538461, \"source?\": false}, \"C_4\": {\"accuracy\": 0.6186377245508982, \"source?\": false}, \"C_3\": {\"accuracy\": 0.602156432748538, \"source?\": false}}}, \"history\": {\"epoch_indices\": [1, 2, 3, 4, 5], \"train_label_loss\": [0.46888056921584176, 1.4635265770171482, 0.350799651211682, 0.3035815810057102, 0.4642070317542502], \"source_val_label_loss\": [172.3830108642578, 0.40701353549957275, 0.32227495312690735, 0.2736915349960327, 0.23604081571102142], \"target_val_label_loss\": [6370.61083984375, 3317.317626953125, 1586.28564453125, 1837.4027099609375, 244.98329162597656], \"source_val_acc_label\": [0.58193359375, 0.869140625, 0.8914388020833334, 0.9095052083333334, 0.91875], \"target_val_acc_label\": [0.6330449084668193, 0.46903604118993136, 0.48441075514874143, 0.5113343821510298, 0.6037614416475973]}, \"dataset_metrics\": {\"source\": {\"train\": {\"n_unique_x\": 179200, \"n_unique_y\": 16, \"n_batch/episode\": 6720}, \"val\": {\"n_unique_x\": 38400, \"n_unique_y\": 16, \"n_batch/episode\": 960}, \"test\": {\"n_unique_x\": 38400, \"n_unique_y\": 16, \"n_batch/episode\": 960}}, \"target\": {\"train\": {\"n_unique_x\": 175127, \"n_unique_y\": 58, \"n_batch/episode\": 6303}, \"val\": {\"n_unique_x\": 37135, \"n_unique_y\": 58, \"n_batch/episode\": 874}, \"test\": {\"n_unique_x\": 37673, \"n_unique_y\": 58, \"n_batch/episode\": 893}}}}'"
      ]
     },
     "execution_count": 29,
     "metadata": {},
     "output_type": "execute_result"
    }
   ],
   "source": [
    "json.dumps(experiment)"
   ]
  }
 ],
 "metadata": {
  "celltoolbar": "Tags",
  "kernelspec": {
   "display_name": "Python 3 (ipykernel)",
   "language": "python",
   "name": "python3"
  },
  "language_info": {
   "codemirror_mode": {
    "name": "ipython",
    "version": 3
   },
   "file_extension": ".py",
   "mimetype": "text/x-python",
   "name": "python",
   "nbconvert_exporter": "python",
   "pygments_lexer": "ipython3",
   "version": "3.8.10"
  },
  "papermill": {
   "default_parameters": {},
   "duration": 1604.236695,
   "end_time": "2022-03-26T02:03:52.520049",
   "environment_variables": {},
   "exception": null,
   "input_path": "/mnt/wd500GB/CSC500/csc500-main/csc500-notebooks/templates/tl_ptn_template.ipynb",
   "output_path": "trial.ipynb",
   "parameters": {
    "parameters": {
     "BEST_MODEL_PATH": "./best_model.pth",
     "NUM_LOGS_PER_EPOCH": 10,
     "criteria_for_best": "target_accuracy",
     "dataset_seed": 154325,
     "datasets": [
      {
       "domain_prefix": "C_",
       "domains": [
        1,
        2,
        3,
        4,
        5
       ],
       "episode_transforms": [],
       "labels": [
        "1-10.",
        "1-11.",
        "1-15.",
        "1-16.",
        "1-17.",
        "1-18.",
        "1-19.",
        "10-4.",
        "10-7.",
        "11-1.",
        "11-14.",
        "11-17.",
        "11-20.",
        "11-7.",
        "13-20.",
        "13-8.",
        "14-10.",
        "14-11.",
        "14-14.",
        "14-7.",
        "15-1.",
        "15-20.",
        "16-1.",
        "16-16.",
        "17-10.",
        "17-11.",
        "17-2.",
        "19-1.",
        "19-16.",
        "19-19.",
        "19-20.",
        "19-3.",
        "2-10.",
        "2-11.",
        "2-17.",
        "2-18.",
        "2-20.",
        "2-3.",
        "2-4.",
        "2-5.",
        "2-6.",
        "2-7.",
        "2-8.",
        "3-13.",
        "3-18.",
        "3-3.",
        "4-1.",
        "4-10.",
        "4-11.",
        "4-19.",
        "5-5.",
        "6-15.",
        "7-10.",
        "7-14.",
        "8-18.",
        "8-20.",
        "8-3.",
        "8-8."
       ],
       "num_examples_per_domain_per_label": -1,
       "pickle_path": "/mnt/wd500GB/CSC500/csc500-main/datasets/cores.stratified_ds.2022A.pkl",
       "source_or_target_dataset": "target",
       "x_transforms": [
        "lowpass_+/-10MHz",
        "take_200"
       ]
      },
      {
       "domain_prefix": "O_",
       "domains": [
        32,
        38,
        8,
        44,
        14,
        50,
        20,
        26
       ],
       "episode_transforms": [],
       "labels": [
        "3123D52",
        "3123D65",
        "3123D79",
        "3123D80",
        "3123D54",
        "3123D70",
        "3123D7B",
        "3123D89",
        "3123D58",
        "3123D76",
        "3123D7D",
        "3123EFE",
        "3123D64",
        "3123D78",
        "3123D7E",
        "3124E4A"
       ],
       "num_examples_per_domain_per_label": 2000,
       "pickle_path": "/mnt/wd500GB/CSC500/csc500-main/datasets/oracle.Run1_framed_2000Examples_stratified_ds.2022A.pkl",
       "source_or_target_dataset": "source",
       "x_transforms": [
        "take_200",
        "resample_20Msps_to_25Msps"
       ]
      }
     ],
     "device": "cuda",
     "experiment_name": "tl_3-filterv2:oracle.run1.framed -> cores",
     "lr": 0.0001,
     "n_epoch": 50,
     "n_query": 2,
     "n_shot": 3,
     "n_way": 16,
     "patience": 3,
     "seed": 154325,
     "test_k_factor": 2,
     "torch_default_dtype": "torch.float32",
     "train_k_factor": 3,
     "val_k_factor": 2,
     "x_net": [
      {
       "class": "nnReshape",
       "kargs": {
        "shape": [
         -1,
         1,
         2,
         200
        ]
       }
      },
      {
       "class": "Conv2d",
       "kargs": {
        "bias": false,
        "in_channels": 1,
        "kernel_size": [
         1,
         7
        ],
        "out_channels": 256,
        "padding": [
         0,
         3
        ]
       }
      },
      {
       "class": "ReLU",
       "kargs": {
        "inplace": true
       }
      },
      {
       "class": "BatchNorm2d",
       "kargs": {
        "num_features": 256
       }
      },
      {
       "class": "Conv2d",
       "kargs": {
        "bias": true,
        "in_channels": 256,
        "kernel_size": [
         2,
         7
        ],
        "out_channels": 80,
        "padding": [
         0,
         3
        ]
       }
      },
      {
       "class": "ReLU",
       "kargs": {
        "inplace": true
       }
      },
      {
       "class": "BatchNorm2d",
       "kargs": {
        "num_features": 80
       }
      },
      {
       "class": "Flatten",
       "kargs": {}
      },
      {
       "class": "Linear",
       "kargs": {
        "in_features": 16000,
        "out_features": 256
       }
      },
      {
       "class": "ReLU",
       "kargs": {
        "inplace": true
       }
      },
      {
       "class": "BatchNorm1d",
       "kargs": {
        "num_features": 256
       }
      },
      {
       "class": "Linear",
       "kargs": {
        "in_features": 256,
        "out_features": 256
       }
      }
     ],
     "x_shape": [
      2,
      200
     ]
    }
   },
   "start_time": "2022-03-26T01:37:08.283354",
   "version": "2.3.4"
  }
 },
 "nbformat": 4,
 "nbformat_minor": 5
}