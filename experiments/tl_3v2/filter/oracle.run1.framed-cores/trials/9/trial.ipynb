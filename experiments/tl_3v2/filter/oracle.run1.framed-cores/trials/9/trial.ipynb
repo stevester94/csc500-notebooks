{
 "cells": [
  {
   "cell_type": "markdown",
   "id": "9fea5f46",
   "metadata": {
    "papermill": {
     "duration": 0.018742,
     "end_time": "2022-03-26T01:58:56.913741",
     "exception": false,
     "start_time": "2022-03-26T01:58:56.894999",
     "status": "completed"
    },
    "tags": []
   },
   "source": [
    "# Transfer Learning Template"
   ]
  },
  {
   "cell_type": "code",
   "execution_count": 1,
   "id": "0902182a",
   "metadata": {
    "execution": {
     "iopub.execute_input": "2022-03-26T01:58:56.961617Z",
     "iopub.status.busy": "2022-03-26T01:58:56.961204Z",
     "iopub.status.idle": "2022-03-26T01:58:58.002972Z",
     "shell.execute_reply": "2022-03-26T01:58:58.003651Z"
    },
    "papermill": {
     "duration": 1.072689,
     "end_time": "2022-03-26T01:58:58.003951",
     "exception": false,
     "start_time": "2022-03-26T01:58:56.931262",
     "status": "completed"
    },
    "tags": []
   },
   "outputs": [],
   "source": [
    "%load_ext autoreload\n",
    "%autoreload 2\n",
    "%matplotlib inline\n",
    "\n",
    "    \n",
    "import os, json, sys, time, random\n",
    "import numpy as np\n",
    "import torch\n",
    "from torch.optim import Adam\n",
    "from  easydict import EasyDict\n",
    "import matplotlib.pyplot as plt\n",
    "\n",
    "from steves_models.steves_ptn import Steves_Prototypical_Network\n",
    "\n",
    "from steves_utils.lazy_iterable_wrapper import Lazy_Iterable_Wrapper\n",
    "from steves_utils.iterable_aggregator import Iterable_Aggregator\n",
    "from steves_utils.ptn_train_eval_test_jig import  PTN_Train_Eval_Test_Jig\n",
    "from steves_utils.torch_sequential_builder import build_sequential\n",
    "from steves_utils.torch_utils import get_dataset_metrics, ptn_confusion_by_domain_over_dataloader\n",
    "from steves_utils.utils_v2 import (per_domain_accuracy_from_confusion, get_datasets_base_path)\n",
    "from steves_utils.PTN.utils import independent_accuracy_assesment\n",
    "\n",
    "from torch.utils.data import DataLoader\n",
    "\n",
    "from steves_utils.stratified_dataset.episodic_accessor import Episodic_Accessor_Factory\n",
    "\n",
    "from steves_utils.ptn_do_report import (\n",
    "    get_loss_curve,\n",
    "    get_results_table,\n",
    "    get_parameters_table,\n",
    "    get_domain_accuracies,\n",
    ")\n",
    "\n",
    "from steves_utils.transforms import get_chained_transform"
   ]
  },
  {
   "cell_type": "markdown",
   "id": "41c840b4",
   "metadata": {
    "papermill": {
     "duration": 0.015864,
     "end_time": "2022-03-26T01:58:58.035345",
     "exception": false,
     "start_time": "2022-03-26T01:58:58.019481",
     "status": "completed"
    },
    "tags": []
   },
   "source": [
    "# Allowed Parameters\n",
    "These are allowed parameters, not defaults\n",
    "Each of these values need to be present in the injected parameters (the notebook will raise an exception if they are not present)\n",
    "\n",
    "Papermill uses the cell tag \"parameters\" to inject the real parameters below this cell.\n",
    "Enable tags to see what I mean"
   ]
  },
  {
   "cell_type": "code",
   "execution_count": 2,
   "id": "fd44eb83",
   "metadata": {
    "execution": {
     "iopub.execute_input": "2022-03-26T01:58:58.068329Z",
     "iopub.status.busy": "2022-03-26T01:58:58.067955Z",
     "iopub.status.idle": "2022-03-26T01:58:58.081984Z",
     "shell.execute_reply": "2022-03-26T01:58:58.081517Z"
    },
    "papermill": {
     "duration": 0.030505,
     "end_time": "2022-03-26T01:58:58.082113",
     "exception": false,
     "start_time": "2022-03-26T01:58:58.051608",
     "status": "completed"
    },
    "tags": []
   },
   "outputs": [],
   "source": [
    "required_parameters = {\n",
    "    \"experiment_name\",\n",
    "    \"lr\",\n",
    "    \"device\",\n",
    "    \"seed\",\n",
    "    \"dataset_seed\",\n",
    "    \"n_shot\",\n",
    "    \"n_query\",\n",
    "    \"n_way\",\n",
    "    \"train_k_factor\",\n",
    "    \"val_k_factor\",\n",
    "    \"test_k_factor\",\n",
    "    \"n_epoch\",\n",
    "    \"patience\",\n",
    "    \"criteria_for_best\",\n",
    "    \"x_net\",\n",
    "    \"datasets\",\n",
    "    \"torch_default_dtype\",\n",
    "    \"NUM_LOGS_PER_EPOCH\",\n",
    "    \"BEST_MODEL_PATH\",\n",
    "    \"x_shape\",\n",
    "}"
   ]
  },
  {
   "cell_type": "code",
   "execution_count": 3,
   "id": "fa3f0049",
   "metadata": {
    "execution": {
     "iopub.execute_input": "2022-03-26T01:58:58.125608Z",
     "iopub.status.busy": "2022-03-26T01:58:58.117585Z",
     "iopub.status.idle": "2022-03-26T01:58:58.138198Z",
     "shell.execute_reply": "2022-03-26T01:58:58.138744Z"
    },
    "papermill": {
     "duration": 0.037667,
     "end_time": "2022-03-26T01:58:58.138919",
     "exception": false,
     "start_time": "2022-03-26T01:58:58.101252",
     "status": "completed"
    },
    "tags": [
     "parameters"
    ]
   },
   "outputs": [],
   "source": [
    "from steves_utils.CORES.utils import (\n",
    "    ALL_NODES,\n",
    "    ALL_NODES_MINIMUM_1000_EXAMPLES,\n",
    "    ALL_DAYS\n",
    ")\n",
    "\n",
    "from steves_utils.ORACLE.utils_v2 import (\n",
    "    ALL_DISTANCES_FEET_NARROWED,\n",
    "    ALL_RUNS,\n",
    "    ALL_SERIAL_NUMBERS,\n",
    ")\n",
    "\n",
    "standalone_parameters = {}\n",
    "standalone_parameters[\"experiment_name\"] = \"STANDALONE PTN\"\n",
    "standalone_parameters[\"lr\"] = 0.001\n",
    "standalone_parameters[\"device\"] = \"cuda\"\n",
    "\n",
    "standalone_parameters[\"seed\"] = 1337\n",
    "standalone_parameters[\"dataset_seed\"] = 1337\n",
    "\n",
    "standalone_parameters[\"n_way\"] = 8\n",
    "standalone_parameters[\"n_shot\"] = 3\n",
    "standalone_parameters[\"n_query\"]  = 2\n",
    "standalone_parameters[\"train_k_factor\"] = 1\n",
    "standalone_parameters[\"val_k_factor\"] = 2\n",
    "standalone_parameters[\"test_k_factor\"] = 2\n",
    "\n",
    "\n",
    "standalone_parameters[\"n_epoch\"] = 50\n",
    "\n",
    "standalone_parameters[\"patience\"] = 10\n",
    "standalone_parameters[\"criteria_for_best\"] = \"source_loss\"\n",
    "\n",
    "standalone_parameters[\"datasets\"] = [\n",
    "    {\n",
    "        \"labels\": ALL_SERIAL_NUMBERS,\n",
    "        \"domains\": ALL_DISTANCES_FEET_NARROWED,\n",
    "        \"num_examples_per_domain_per_label\": 100,\n",
    "        \"pickle_path\": os.path.join(get_datasets_base_path(), \"oracle.Run1_framed_2000Examples_stratified_ds.2022A.pkl\"),\n",
    "        \"source_or_target_dataset\": \"source\",\n",
    "        \"x_transforms\": [\"unit_mag\", \"minus_two\"],\n",
    "        \"episode_transforms\": [],\n",
    "        \"domain_prefix\": \"ORACLE_\"\n",
    "    },\n",
    "    {\n",
    "        \"labels\": ALL_NODES,\n",
    "        \"domains\": ALL_DAYS,\n",
    "        \"num_examples_per_domain_per_label\": 100,\n",
    "        \"pickle_path\": os.path.join(get_datasets_base_path(), \"cores.stratified_ds.2022A.pkl\"),\n",
    "        \"source_or_target_dataset\": \"target\",\n",
    "        \"x_transforms\": [\"unit_power\", \"times_zero\"],\n",
    "        \"episode_transforms\": [],\n",
    "        \"domain_prefix\": \"CORES_\"\n",
    "    }   \n",
    "]\n",
    "\n",
    "standalone_parameters[\"torch_default_dtype\"] = \"torch.float32\" \n",
    "\n",
    "\n",
    "\n",
    "standalone_parameters[\"x_net\"] =     [\n",
    "    {\"class\": \"nnReshape\", \"kargs\": {\"shape\":[-1, 1, 2, 256]}},\n",
    "    {\"class\": \"Conv2d\", \"kargs\": { \"in_channels\":1, \"out_channels\":256, \"kernel_size\":(1,7), \"bias\":False, \"padding\":(0,3), },},\n",
    "    {\"class\": \"ReLU\", \"kargs\": {\"inplace\": True}},\n",
    "    {\"class\": \"BatchNorm2d\", \"kargs\": {\"num_features\":256}},\n",
    "\n",
    "    {\"class\": \"Conv2d\", \"kargs\": { \"in_channels\":256, \"out_channels\":80, \"kernel_size\":(2,7), \"bias\":True, \"padding\":(0,3), },},\n",
    "    {\"class\": \"ReLU\", \"kargs\": {\"inplace\": True}},\n",
    "    {\"class\": \"BatchNorm2d\", \"kargs\": {\"num_features\":80}},\n",
    "    {\"class\": \"Flatten\", \"kargs\": {}},\n",
    "\n",
    "    {\"class\": \"Linear\", \"kargs\": {\"in_features\": 80*256, \"out_features\": 256}}, # 80 units per IQ pair\n",
    "    {\"class\": \"ReLU\", \"kargs\": {\"inplace\": True}},\n",
    "    {\"class\": \"BatchNorm1d\", \"kargs\": {\"num_features\":256}},\n",
    "\n",
    "    {\"class\": \"Linear\", \"kargs\": {\"in_features\": 256, \"out_features\": 256}},\n",
    "]\n",
    "\n",
    "# Parameters relevant to results\n",
    "# These parameters will basically never need to change\n",
    "standalone_parameters[\"NUM_LOGS_PER_EPOCH\"] = 10\n",
    "standalone_parameters[\"BEST_MODEL_PATH\"] = \"./best_model.pth\"\n",
    "\n",
    "\n",
    "\n",
    "\n"
   ]
  },
  {
   "cell_type": "code",
   "execution_count": 4,
   "id": "b1abe3a3",
   "metadata": {
    "execution": {
     "iopub.execute_input": "2022-03-26T01:58:58.182514Z",
     "iopub.status.busy": "2022-03-26T01:58:58.182062Z",
     "iopub.status.idle": "2022-03-26T01:58:58.193739Z",
     "shell.execute_reply": "2022-03-26T01:58:58.193477Z"
    },
    "papermill": {
     "duration": 0.038457,
     "end_time": "2022-03-26T01:58:58.193798",
     "exception": false,
     "start_time": "2022-03-26T01:58:58.155341",
     "status": "completed"
    },
    "tags": [
     "injected-parameters"
    ]
   },
   "outputs": [],
   "source": [
    "# Parameters\n",
    "parameters = {\n",
    "    \"experiment_name\": \"tl_3-filterv2:oracle.run1.framed -> cores\",\n",
    "    \"device\": \"cuda\",\n",
    "    \"lr\": 0.0001,\n",
    "    \"x_shape\": [2, 200],\n",
    "    \"n_shot\": 3,\n",
    "    \"n_query\": 2,\n",
    "    \"train_k_factor\": 3,\n",
    "    \"val_k_factor\": 2,\n",
    "    \"test_k_factor\": 2,\n",
    "    \"torch_default_dtype\": \"torch.float32\",\n",
    "    \"n_epoch\": 50,\n",
    "    \"patience\": 3,\n",
    "    \"criteria_for_best\": \"target_accuracy\",\n",
    "    \"x_net\": [\n",
    "        {\"class\": \"nnReshape\", \"kargs\": {\"shape\": [-1, 1, 2, 200]}},\n",
    "        {\n",
    "            \"class\": \"Conv2d\",\n",
    "            \"kargs\": {\n",
    "                \"in_channels\": 1,\n",
    "                \"out_channels\": 256,\n",
    "                \"kernel_size\": [1, 7],\n",
    "                \"bias\": False,\n",
    "                \"padding\": [0, 3],\n",
    "            },\n",
    "        },\n",
    "        {\"class\": \"ReLU\", \"kargs\": {\"inplace\": True}},\n",
    "        {\"class\": \"BatchNorm2d\", \"kargs\": {\"num_features\": 256}},\n",
    "        {\n",
    "            \"class\": \"Conv2d\",\n",
    "            \"kargs\": {\n",
    "                \"in_channels\": 256,\n",
    "                \"out_channels\": 80,\n",
    "                \"kernel_size\": [2, 7],\n",
    "                \"bias\": True,\n",
    "                \"padding\": [0, 3],\n",
    "            },\n",
    "        },\n",
    "        {\"class\": \"ReLU\", \"kargs\": {\"inplace\": True}},\n",
    "        {\"class\": \"BatchNorm2d\", \"kargs\": {\"num_features\": 80}},\n",
    "        {\"class\": \"Flatten\", \"kargs\": {}},\n",
    "        {\"class\": \"Linear\", \"kargs\": {\"in_features\": 16000, \"out_features\": 256}},\n",
    "        {\"class\": \"ReLU\", \"kargs\": {\"inplace\": True}},\n",
    "        {\"class\": \"BatchNorm1d\", \"kargs\": {\"num_features\": 256}},\n",
    "        {\"class\": \"Linear\", \"kargs\": {\"in_features\": 256, \"out_features\": 256}},\n",
    "    ],\n",
    "    \"NUM_LOGS_PER_EPOCH\": 10,\n",
    "    \"BEST_MODEL_PATH\": \"./best_model.pth\",\n",
    "    \"n_way\": 16,\n",
    "    \"datasets\": [\n",
    "        {\n",
    "            \"labels\": [\n",
    "                \"1-10.\",\n",
    "                \"1-11.\",\n",
    "                \"1-15.\",\n",
    "                \"1-16.\",\n",
    "                \"1-17.\",\n",
    "                \"1-18.\",\n",
    "                \"1-19.\",\n",
    "                \"10-4.\",\n",
    "                \"10-7.\",\n",
    "                \"11-1.\",\n",
    "                \"11-14.\",\n",
    "                \"11-17.\",\n",
    "                \"11-20.\",\n",
    "                \"11-7.\",\n",
    "                \"13-20.\",\n",
    "                \"13-8.\",\n",
    "                \"14-10.\",\n",
    "                \"14-11.\",\n",
    "                \"14-14.\",\n",
    "                \"14-7.\",\n",
    "                \"15-1.\",\n",
    "                \"15-20.\",\n",
    "                \"16-1.\",\n",
    "                \"16-16.\",\n",
    "                \"17-10.\",\n",
    "                \"17-11.\",\n",
    "                \"17-2.\",\n",
    "                \"19-1.\",\n",
    "                \"19-16.\",\n",
    "                \"19-19.\",\n",
    "                \"19-20.\",\n",
    "                \"19-3.\",\n",
    "                \"2-10.\",\n",
    "                \"2-11.\",\n",
    "                \"2-17.\",\n",
    "                \"2-18.\",\n",
    "                \"2-20.\",\n",
    "                \"2-3.\",\n",
    "                \"2-4.\",\n",
    "                \"2-5.\",\n",
    "                \"2-6.\",\n",
    "                \"2-7.\",\n",
    "                \"2-8.\",\n",
    "                \"3-13.\",\n",
    "                \"3-18.\",\n",
    "                \"3-3.\",\n",
    "                \"4-1.\",\n",
    "                \"4-10.\",\n",
    "                \"4-11.\",\n",
    "                \"4-19.\",\n",
    "                \"5-5.\",\n",
    "                \"6-15.\",\n",
    "                \"7-10.\",\n",
    "                \"7-14.\",\n",
    "                \"8-18.\",\n",
    "                \"8-20.\",\n",
    "                \"8-3.\",\n",
    "                \"8-8.\",\n",
    "            ],\n",
    "            \"domains\": [1, 2, 3, 4, 5],\n",
    "            \"num_examples_per_domain_per_label\": -1,\n",
    "            \"pickle_path\": \"/mnt/wd500GB/CSC500/csc500-main/datasets/cores.stratified_ds.2022A.pkl\",\n",
    "            \"source_or_target_dataset\": \"target\",\n",
    "            \"x_transforms\": [\"unit_power\", \"lowpass_+/-10MHz\", \"take_200\"],\n",
    "            \"episode_transforms\": [],\n",
    "            \"domain_prefix\": \"C_\",\n",
    "        },\n",
    "        {\n",
    "            \"labels\": [\n",
    "                \"3123D52\",\n",
    "                \"3123D65\",\n",
    "                \"3123D79\",\n",
    "                \"3123D80\",\n",
    "                \"3123D54\",\n",
    "                \"3123D70\",\n",
    "                \"3123D7B\",\n",
    "                \"3123D89\",\n",
    "                \"3123D58\",\n",
    "                \"3123D76\",\n",
    "                \"3123D7D\",\n",
    "                \"3123EFE\",\n",
    "                \"3123D64\",\n",
    "                \"3123D78\",\n",
    "                \"3123D7E\",\n",
    "                \"3124E4A\",\n",
    "            ],\n",
    "            \"domains\": [32, 38, 8, 44, 14, 50, 20, 26],\n",
    "            \"num_examples_per_domain_per_label\": 2000,\n",
    "            \"pickle_path\": \"/mnt/wd500GB/CSC500/csc500-main/datasets/oracle.Run1_framed_2000Examples_stratified_ds.2022A.pkl\",\n",
    "            \"source_or_target_dataset\": \"source\",\n",
    "            \"x_transforms\": [\"unit_power\", \"take_200\", \"resample_20Msps_to_25Msps\"],\n",
    "            \"episode_transforms\": [],\n",
    "            \"domain_prefix\": \"O_\",\n",
    "        },\n",
    "    ],\n",
    "    \"seed\": 7,\n",
    "    \"dataset_seed\": 7,\n",
    "}\n"
   ]
  },
  {
   "cell_type": "code",
   "execution_count": 5,
   "id": "8fa1cc33",
   "metadata": {
    "execution": {
     "iopub.execute_input": "2022-03-26T01:58:58.227053Z",
     "iopub.status.busy": "2022-03-26T01:58:58.226784Z",
     "iopub.status.idle": "2022-03-26T01:58:58.241529Z",
     "shell.execute_reply": "2022-03-26T01:58:58.241039Z"
    },
    "papermill": {
     "duration": 0.032813,
     "end_time": "2022-03-26T01:58:58.241631",
     "exception": false,
     "start_time": "2022-03-26T01:58:58.208818",
     "status": "completed"
    },
    "tags": []
   },
   "outputs": [],
   "source": [
    "# Set this to True if you want to run this template directly\n",
    "STANDALONE = False\n",
    "if STANDALONE:\n",
    "    print(\"parameters not injected, running with standalone_parameters\")\n",
    "    parameters = standalone_parameters\n",
    "\n",
    "if not 'parameters' in locals() and not 'parameters' in globals():\n",
    "    raise Exception(\"Parameter injection failed\")\n",
    "\n",
    "#Use an easy dict for all the parameters\n",
    "p = EasyDict(parameters)\n",
    "\n",
    "if \"x_shape\" not in p:\n",
    "    p.x_shape = [2,256] # Default to this if we dont supply x_shape\n",
    "\n",
    "\n",
    "supplied_keys = set(p.keys())\n",
    "\n",
    "if  supplied_keys != required_parameters:\n",
    "    print(\"Parameters are incorrect\")\n",
    "    if len(supplied_keys - required_parameters)>0: print(\"Shouldn't have:\", str(supplied_keys - required_parameters))\n",
    "    if len(required_parameters - supplied_keys)>0: print(\"Need to have:\", str(required_parameters - supplied_keys))\n",
    "    raise RuntimeError(\"Parameters are incorrect\")"
   ]
  },
  {
   "cell_type": "code",
   "execution_count": 6,
   "id": "3a028d58",
   "metadata": {
    "execution": {
     "iopub.execute_input": "2022-03-26T01:58:58.275641Z",
     "iopub.status.busy": "2022-03-26T01:58:58.275384Z",
     "iopub.status.idle": "2022-03-26T01:58:58.288194Z",
     "shell.execute_reply": "2022-03-26T01:58:58.287701Z"
    },
    "papermill": {
     "duration": 0.028325,
     "end_time": "2022-03-26T01:58:58.288297",
     "exception": false,
     "start_time": "2022-03-26T01:58:58.259972",
     "status": "completed"
    },
    "tags": []
   },
   "outputs": [],
   "source": [
    "###################################\n",
    "# Set the RNGs and make it all deterministic\n",
    "###################################\n",
    "np.random.seed(p.seed)\n",
    "random.seed(p.seed)\n",
    "torch.manual_seed(p.seed)\n",
    "\n",
    "torch.use_deterministic_algorithms(True) "
   ]
  },
  {
   "cell_type": "code",
   "execution_count": 7,
   "id": "b691acf6",
   "metadata": {
    "execution": {
     "iopub.execute_input": "2022-03-26T01:58:58.322640Z",
     "iopub.status.busy": "2022-03-26T01:58:58.322316Z",
     "iopub.status.idle": "2022-03-26T01:58:58.337212Z",
     "shell.execute_reply": "2022-03-26T01:58:58.336709Z"
    },
    "papermill": {
     "duration": 0.030194,
     "end_time": "2022-03-26T01:58:58.337317",
     "exception": false,
     "start_time": "2022-03-26T01:58:58.307123",
     "status": "completed"
    },
    "tags": []
   },
   "outputs": [],
   "source": [
    "###########################################\n",
    "# The stratified datasets honor this\n",
    "###########################################\n",
    "torch.set_default_dtype(eval(p.torch_default_dtype))"
   ]
  },
  {
   "cell_type": "code",
   "execution_count": 8,
   "id": "b5fba671",
   "metadata": {
    "execution": {
     "iopub.execute_input": "2022-03-26T01:58:58.371469Z",
     "iopub.status.busy": "2022-03-26T01:58:58.371204Z",
     "iopub.status.idle": "2022-03-26T01:58:58.407086Z",
     "shell.execute_reply": "2022-03-26T01:58:58.406570Z"
    },
    "papermill": {
     "duration": 0.050773,
     "end_time": "2022-03-26T01:58:58.407193",
     "exception": false,
     "start_time": "2022-03-26T01:58:58.356420",
     "status": "completed"
    },
    "tags": []
   },
   "outputs": [],
   "source": [
    "###################################\n",
    "# Build the network(s)\n",
    "# Note: It's critical to do this AFTER setting the RNG\n",
    "###################################\n",
    "x_net = build_sequential(p.x_net)"
   ]
  },
  {
   "cell_type": "code",
   "execution_count": 9,
   "id": "5d7e61cc",
   "metadata": {
    "execution": {
     "iopub.execute_input": "2022-03-26T01:58:58.444953Z",
     "iopub.status.busy": "2022-03-26T01:58:58.444672Z",
     "iopub.status.idle": "2022-03-26T01:58:58.460327Z",
     "shell.execute_reply": "2022-03-26T01:58:58.459830Z"
    },
    "papermill": {
     "duration": 0.032117,
     "end_time": "2022-03-26T01:58:58.460434",
     "exception": false,
     "start_time": "2022-03-26T01:58:58.428317",
     "status": "completed"
    },
    "tags": []
   },
   "outputs": [],
   "source": [
    "start_time_secs = time.time()"
   ]
  },
  {
   "cell_type": "code",
   "execution_count": 10,
   "id": "c6b67dfd",
   "metadata": {
    "execution": {
     "iopub.execute_input": "2022-03-26T01:58:58.497256Z",
     "iopub.status.busy": "2022-03-26T01:58:58.496990Z",
     "iopub.status.idle": "2022-03-26T01:58:58.512407Z",
     "shell.execute_reply": "2022-03-26T01:58:58.511890Z"
    },
    "papermill": {
     "duration": 0.032957,
     "end_time": "2022-03-26T01:58:58.512522",
     "exception": false,
     "start_time": "2022-03-26T01:58:58.479565",
     "status": "completed"
    },
    "tags": []
   },
   "outputs": [],
   "source": [
    "p.domains_source = []\n",
    "p.domains_target = []\n",
    "\n",
    "\n",
    "train_original_source = []\n",
    "val_original_source   = []\n",
    "test_original_source  = []\n",
    "\n",
    "train_original_target = []\n",
    "val_original_target   = []\n",
    "test_original_target  = []"
   ]
  },
  {
   "cell_type": "code",
   "execution_count": 11,
   "id": "e3d9c3d3",
   "metadata": {
    "execution": {
     "iopub.execute_input": "2022-03-26T01:58:58.548196Z",
     "iopub.status.busy": "2022-03-26T01:58:58.547932Z",
     "iopub.status.idle": "2022-03-26T01:58:58.558609Z",
     "shell.execute_reply": "2022-03-26T01:58:58.559044Z"
    },
    "papermill": {
     "duration": 0.027141,
     "end_time": "2022-03-26T01:58:58.559180",
     "exception": false,
     "start_time": "2022-03-26T01:58:58.532039",
     "status": "completed"
    },
    "tags": []
   },
   "outputs": [],
   "source": [
    "# global_x_transform_func = lambda x: normalize(x.to(torch.get_default_dtype()), \"unit_power\") # unit_power, unit_mag\n",
    "# global_x_transform_func = lambda x: normalize(x, \"unit_power\") # unit_power, unit_mag"
   ]
  },
  {
   "cell_type": "code",
   "execution_count": 12,
   "id": "acb78fd2",
   "metadata": {
    "execution": {
     "iopub.execute_input": "2022-03-26T01:58:58.599274Z",
     "iopub.status.busy": "2022-03-26T01:58:58.599002Z",
     "iopub.status.idle": "2022-03-26T01:58:58.612345Z",
     "shell.execute_reply": "2022-03-26T01:58:58.611904Z"
    },
    "papermill": {
     "duration": 0.03282,
     "end_time": "2022-03-26T01:58:58.612451",
     "exception": false,
     "start_time": "2022-03-26T01:58:58.579631",
     "status": "completed"
    },
    "tags": []
   },
   "outputs": [],
   "source": [
    "def add_dataset(\n",
    "    labels,\n",
    "    domains,\n",
    "    pickle_path,\n",
    "    x_transforms,\n",
    "    episode_transforms,\n",
    "    domain_prefix,\n",
    "    num_examples_per_domain_per_label,\n",
    "    source_or_target_dataset:str,\n",
    "    iterator_seed=p.seed,\n",
    "    dataset_seed=p.dataset_seed,\n",
    "    n_shot=p.n_shot,\n",
    "    n_way=p.n_way,\n",
    "    n_query=p.n_query,\n",
    "    train_val_test_k_factors=(p.train_k_factor,p.val_k_factor,p.test_k_factor),\n",
    "):\n",
    "   \n",
    "    if x_transforms == []: x_transform = None\n",
    "    else: x_transform = get_chained_transform(x_transforms)\n",
    "    \n",
    "    if episode_transforms == []: episode_transform = None\n",
    "    else: raise Exception(\"episode_transforms not implemented\")\n",
    "    \n",
    "    episode_transform = lambda tup, _prefix=domain_prefix: (_prefix + str(tup[0]), tup[1])\n",
    "\n",
    "\n",
    "    eaf = Episodic_Accessor_Factory(\n",
    "        labels=labels,\n",
    "        domains=domains,\n",
    "        num_examples_per_domain_per_label=num_examples_per_domain_per_label,\n",
    "        iterator_seed=iterator_seed,\n",
    "        dataset_seed=dataset_seed,\n",
    "        n_shot=n_shot,\n",
    "        n_way=n_way,\n",
    "        n_query=n_query,\n",
    "        train_val_test_k_factors=train_val_test_k_factors,\n",
    "        pickle_path=pickle_path,\n",
    "        x_transform_func=x_transform,\n",
    "    )\n",
    "\n",
    "    train, val, test = eaf.get_train(), eaf.get_val(), eaf.get_test()\n",
    "    train = Lazy_Iterable_Wrapper(train, episode_transform)\n",
    "    val = Lazy_Iterable_Wrapper(val, episode_transform)\n",
    "    test = Lazy_Iterable_Wrapper(test, episode_transform)\n",
    "\n",
    "    if source_or_target_dataset==\"source\":\n",
    "        train_original_source.append(train)\n",
    "        val_original_source.append(val)\n",
    "        test_original_source.append(test)\n",
    "\n",
    "        p.domains_source.extend(\n",
    "            [domain_prefix + str(u) for u in domains]\n",
    "        )\n",
    "    elif source_or_target_dataset==\"target\":\n",
    "        train_original_target.append(train)\n",
    "        val_original_target.append(val)\n",
    "        test_original_target.append(test)\n",
    "        p.domains_target.extend(\n",
    "            [domain_prefix + str(u) for u in domains]\n",
    "        )\n",
    "    else:\n",
    "        raise Exception(f\"invalid source_or_target_dataset: {source_or_target_dataset}\")\n",
    "    "
   ]
  },
  {
   "cell_type": "code",
   "execution_count": 13,
   "id": "fe266617",
   "metadata": {
    "execution": {
     "iopub.execute_input": "2022-03-26T01:58:58.648835Z",
     "iopub.status.busy": "2022-03-26T01:58:58.648569Z",
     "iopub.status.idle": "2022-03-26T01:59:53.699553Z",
     "shell.execute_reply": "2022-03-26T01:59:53.699258Z"
    },
    "papermill": {
     "duration": 55.067505,
     "end_time": "2022-03-26T01:59:53.699618",
     "exception": false,
     "start_time": "2022-03-26T01:58:58.632113",
     "status": "completed"
    },
    "tags": []
   },
   "outputs": [],
   "source": [
    "for ds in p.datasets:\n",
    "    add_dataset(**ds)"
   ]
  },
  {
   "cell_type": "code",
   "execution_count": 14,
   "id": "b90d65ac",
   "metadata": {
    "execution": {
     "iopub.execute_input": "2022-03-26T01:59:53.730122Z",
     "iopub.status.busy": "2022-03-26T01:59:53.729698Z",
     "iopub.status.idle": "2022-03-26T01:59:53.741192Z",
     "shell.execute_reply": "2022-03-26T01:59:53.740919Z"
    },
    "papermill": {
     "duration": 0.027416,
     "end_time": "2022-03-26T01:59:53.741251",
     "exception": false,
     "start_time": "2022-03-26T01:59:53.713835",
     "status": "completed"
    },
    "tags": []
   },
   "outputs": [],
   "source": [
    "# from steves_utils.CORES.utils import (\n",
    "#     ALL_NODES,\n",
    "#     ALL_NODES_MINIMUM_1000_EXAMPLES,\n",
    "#     ALL_DAYS\n",
    "# )\n",
    "\n",
    "# add_dataset(\n",
    "#     labels=ALL_NODES,\n",
    "#     domains = ALL_DAYS,\n",
    "#     num_examples_per_domain_per_label=100,\n",
    "#     pickle_path=os.path.join(get_datasets_base_path(), \"cores.stratified_ds.2022A.pkl\"),\n",
    "#     source_or_target_dataset=\"target\",\n",
    "#     x_transform_func=global_x_transform_func,\n",
    "#     domain_modifier=lambda u: f\"cores_{u}\"\n",
    "# )"
   ]
  },
  {
   "cell_type": "code",
   "execution_count": 15,
   "id": "76db484d",
   "metadata": {
    "execution": {
     "iopub.execute_input": "2022-03-26T01:59:53.772646Z",
     "iopub.status.busy": "2022-03-26T01:59:53.772131Z",
     "iopub.status.idle": "2022-03-26T01:59:53.784770Z",
     "shell.execute_reply": "2022-03-26T01:59:53.784270Z"
    },
    "papermill": {
     "duration": 0.028154,
     "end_time": "2022-03-26T01:59:53.784874",
     "exception": false,
     "start_time": "2022-03-26T01:59:53.756720",
     "status": "completed"
    },
    "tags": []
   },
   "outputs": [],
   "source": [
    "# from steves_utils.ORACLE.utils_v2 import (\n",
    "#     ALL_DISTANCES_FEET,\n",
    "#     ALL_RUNS,\n",
    "#     ALL_SERIAL_NUMBERS,\n",
    "# )\n",
    "\n",
    "\n",
    "# add_dataset(\n",
    "#     labels=ALL_SERIAL_NUMBERS,\n",
    "#     domains = list(set(ALL_DISTANCES_FEET) - {2,62}),\n",
    "#     num_examples_per_domain_per_label=100,\n",
    "#     pickle_path=os.path.join(get_datasets_base_path(), \"oracle.Run2_framed_2000Examples_stratified_ds.2022A.pkl\"),\n",
    "#     source_or_target_dataset=\"source\",\n",
    "#     x_transform_func=global_x_transform_func,\n",
    "#     domain_modifier=lambda u: f\"oracle1_{u}\"\n",
    "# )\n"
   ]
  },
  {
   "cell_type": "code",
   "execution_count": 16,
   "id": "97dea9d2",
   "metadata": {
    "execution": {
     "iopub.execute_input": "2022-03-26T01:59:53.819728Z",
     "iopub.status.busy": "2022-03-26T01:59:53.819222Z",
     "iopub.status.idle": "2022-03-26T01:59:53.835226Z",
     "shell.execute_reply": "2022-03-26T01:59:53.835624Z"
    },
    "papermill": {
     "duration": 0.032506,
     "end_time": "2022-03-26T01:59:53.835753",
     "exception": false,
     "start_time": "2022-03-26T01:59:53.803247",
     "status": "completed"
    },
    "tags": []
   },
   "outputs": [],
   "source": [
    "# from steves_utils.ORACLE.utils_v2 import (\n",
    "#     ALL_DISTANCES_FEET,\n",
    "#     ALL_RUNS,\n",
    "#     ALL_SERIAL_NUMBERS,\n",
    "# )\n",
    "\n",
    "\n",
    "# add_dataset(\n",
    "#     labels=ALL_SERIAL_NUMBERS,\n",
    "#     domains = list(set(ALL_DISTANCES_FEET) - {2,62,56}),\n",
    "#     num_examples_per_domain_per_label=100,\n",
    "#     pickle_path=os.path.join(get_datasets_base_path(), \"oracle.Run2_framed_2000Examples_stratified_ds.2022A.pkl\"),\n",
    "#     source_or_target_dataset=\"source\",\n",
    "#     x_transform_func=global_x_transform_func,\n",
    "#     domain_modifier=lambda u: f\"oracle2_{u}\"\n",
    "# )"
   ]
  },
  {
   "cell_type": "code",
   "execution_count": 17,
   "id": "6f289866",
   "metadata": {
    "execution": {
     "iopub.execute_input": "2022-03-26T01:59:53.871035Z",
     "iopub.status.busy": "2022-03-26T01:59:53.870775Z",
     "iopub.status.idle": "2022-03-26T01:59:53.886921Z",
     "shell.execute_reply": "2022-03-26T01:59:53.887326Z"
    },
    "papermill": {
     "duration": 0.032416,
     "end_time": "2022-03-26T01:59:53.887449",
     "exception": false,
     "start_time": "2022-03-26T01:59:53.855033",
     "status": "completed"
    },
    "tags": []
   },
   "outputs": [],
   "source": [
    "# add_dataset(\n",
    "#     labels=list(range(19)),\n",
    "#     domains = [0,1,2],\n",
    "#     num_examples_per_domain_per_label=100,\n",
    "#     pickle_path=os.path.join(get_datasets_base_path(), \"metehan.stratified_ds.2022A.pkl\"),\n",
    "#     source_or_target_dataset=\"target\",\n",
    "#     x_transform_func=global_x_transform_func,\n",
    "#     domain_modifier=lambda u: f\"met_{u}\"\n",
    "# )"
   ]
  },
  {
   "cell_type": "code",
   "execution_count": 18,
   "id": "86a863c3",
   "metadata": {
    "execution": {
     "iopub.execute_input": "2022-03-26T01:59:53.922665Z",
     "iopub.status.busy": "2022-03-26T01:59:53.922406Z",
     "iopub.status.idle": "2022-03-26T01:59:53.937566Z",
     "shell.execute_reply": "2022-03-26T01:59:53.937310Z"
    },
    "papermill": {
     "duration": 0.030978,
     "end_time": "2022-03-26T01:59:53.937622",
     "exception": false,
     "start_time": "2022-03-26T01:59:53.906644",
     "status": "completed"
    },
    "tags": []
   },
   "outputs": [],
   "source": [
    "# # from steves_utils.wisig.utils import (\n",
    "# #     ALL_NODES_MINIMUM_100_EXAMPLES,\n",
    "# #     ALL_NODES_MINIMUM_500_EXAMPLES,\n",
    "# #     ALL_NODES_MINIMUM_1000_EXAMPLES,\n",
    "# #     ALL_DAYS\n",
    "# # )\n",
    "\n",
    "# import steves_utils.wisig.utils as wisig\n",
    "\n",
    "\n",
    "# add_dataset(\n",
    "#     labels=wisig.ALL_NODES_MINIMUM_100_EXAMPLES,\n",
    "#     domains = wisig.ALL_DAYS,\n",
    "#     num_examples_per_domain_per_label=100,\n",
    "#     pickle_path=os.path.join(get_datasets_base_path(), \"wisig.node3-19.stratified_ds.2022A.pkl\"),\n",
    "#     source_or_target_dataset=\"target\",\n",
    "#     x_transform_func=global_x_transform_func,\n",
    "#     domain_modifier=lambda u: f\"wisig_{u}\"\n",
    "# )"
   ]
  },
  {
   "cell_type": "code",
   "execution_count": 19,
   "id": "fd5442bc",
   "metadata": {
    "execution": {
     "iopub.execute_input": "2022-03-26T01:59:53.977526Z",
     "iopub.status.busy": "2022-03-26T01:59:53.977142Z",
     "iopub.status.idle": "2022-03-26T01:59:53.992161Z",
     "shell.execute_reply": "2022-03-26T01:59:53.992568Z"
    },
    "papermill": {
     "duration": 0.036962,
     "end_time": "2022-03-26T01:59:53.992694",
     "exception": false,
     "start_time": "2022-03-26T01:59:53.955732",
     "status": "completed"
    },
    "tags": []
   },
   "outputs": [],
   "source": [
    "###################################\n",
    "# Build the dataset\n",
    "###################################\n",
    "train_original_source = Iterable_Aggregator(train_original_source, p.seed)\n",
    "val_original_source = Iterable_Aggregator(val_original_source, p.seed)\n",
    "test_original_source = Iterable_Aggregator(test_original_source, p.seed)\n",
    "\n",
    "\n",
    "train_original_target = Iterable_Aggregator(train_original_target, p.seed)\n",
    "val_original_target = Iterable_Aggregator(val_original_target, p.seed)\n",
    "test_original_target = Iterable_Aggregator(test_original_target, p.seed)\n",
    "\n",
    "# For CNN We only use X and Y. And we only train on the source.\n",
    "# Properly form the data using a transform lambda and Lazy_Iterable_Wrapper. Finally wrap them in a dataloader\n",
    "\n",
    "transform_lambda = lambda ex: ex[1] # Original is (<domain>, <episode>) so we strip down to episode only\n",
    "\n",
    "train_processed_source = Lazy_Iterable_Wrapper(train_original_source, transform_lambda)\n",
    "val_processed_source   = Lazy_Iterable_Wrapper(val_original_source, transform_lambda)\n",
    "test_processed_source  = Lazy_Iterable_Wrapper(test_original_source, transform_lambda)\n",
    "\n",
    "train_processed_target = Lazy_Iterable_Wrapper(train_original_target, transform_lambda)\n",
    "val_processed_target   = Lazy_Iterable_Wrapper(val_original_target, transform_lambda)\n",
    "test_processed_target  = Lazy_Iterable_Wrapper(test_original_target, transform_lambda)\n",
    "\n",
    "datasets = EasyDict({\n",
    "    \"source\": {\n",
    "        \"original\": {\"train\":train_original_source, \"val\":val_original_source, \"test\":test_original_source},\n",
    "        \"processed\": {\"train\":train_processed_source, \"val\":val_processed_source, \"test\":test_processed_source}\n",
    "    },\n",
    "    \"target\": {\n",
    "        \"original\": {\"train\":train_original_target, \"val\":val_original_target, \"test\":test_original_target},\n",
    "        \"processed\": {\"train\":train_processed_target, \"val\":val_processed_target, \"test\":test_processed_target}\n",
    "    },\n",
    "})"
   ]
  },
  {
   "cell_type": "code",
   "execution_count": 20,
   "id": "5b3c01fc",
   "metadata": {
    "execution": {
     "iopub.execute_input": "2022-03-26T01:59:54.029791Z",
     "iopub.status.busy": "2022-03-26T01:59:54.029274Z",
     "iopub.status.idle": "2022-03-26T02:00:00.987619Z",
     "shell.execute_reply": "2022-03-26T02:00:00.987055Z"
    },
    "papermill": {
     "duration": 6.975779,
     "end_time": "2022-03-26T02:00:00.987749",
     "exception": false,
     "start_time": "2022-03-26T01:59:54.011970",
     "status": "completed"
    },
    "tags": []
   },
   "outputs": [
    {
     "name": "stdout",
     "output_type": "stream",
     "text": [
      "{'O_8', 'O_44', 'O_32', 'O_14', 'O_50', 'O_38', 'O_20', 'O_26'}\n"
     ]
    },
    {
     "name": "stdout",
     "output_type": "stream",
     "text": [
      "{'C_2', 'C_5', 'C_1', 'C_4', 'C_3'}\n"
     ]
    },
    {
     "name": "stdout",
     "output_type": "stream",
     "text": [
      "tensor([[[ 8.5985e-01,  1.0273e+00, -5.1712e-01,  ...,  6.2292e-01,\n",
      "           6.3736e-01,  1.1674e+00],\n",
      "         [-5.4263e-01,  1.2698e-01,  9.5558e-01,  ...,  9.1222e-01,\n",
      "           7.3182e-01, -3.5609e-01]],\n",
      "\n",
      "        [[ 4.3494e-01,  1.1755e+00,  4.3359e-02,  ...,  5.3290e-01,\n",
      "          -4.6212e-01,  5.8476e-01],\n",
      "         [-3.6671e-01,  5.0357e-01,  5.9989e-01,  ...,  3.9506e-01,\n",
      "           1.1232e+00,  6.1414e-01]],\n",
      "\n",
      "        [[-3.3927e-01, -7.8919e-01,  2.0817e-01,  ..., -5.1654e-01,\n",
      "           9.7205e-01,  3.4605e-02],\n",
      "         [ 2.5446e-01, -7.8658e-01, -6.9448e-01,  ..., -4.6413e-01,\n",
      "          -9.3530e-01, -7.7223e-01]],\n",
      "\n",
      "        ...,\n",
      "\n",
      "        [[-4.2339e-01, -1.1305e+00, -1.0175e-01,  ..., -9.1360e-01,\n",
      "          -9.0403e-01, -1.1142e+00],\n",
      "         [ 1.0045e+00,  4.9193e-01, -9.7786e-01,  ..., -5.1049e-01,\n",
      "          -5.2751e-01,  5.7269e-01]],\n",
      "\n",
      "        [[ 5.1356e-01,  2.1001e-01, -5.9836e-01,  ..., -4.6290e-02,\n",
      "          -1.2088e+00, -2.8668e-01],\n",
      "         [-4.7083e-16,  1.1152e+00,  3.4624e-01,  ...,  7.1319e-01,\n",
      "           1.7580e-01,  7.6484e-01]],\n",
      "\n",
      "        [[ 9.1246e-01,  8.8735e-01, -6.8332e-01,  ...,  4.1526e-01,\n",
      "           6.0316e-01,  1.3569e+00],\n",
      "         [-5.1472e-01,  2.1114e-01,  8.7941e-01,  ...,  8.9658e-01,\n",
      "           6.6137e-01, -2.5093e-01]]])\n"
     ]
    }
   ],
   "source": [
    "from steves_utils.transforms import get_average_magnitude, get_average_power\n",
    "\n",
    "print(set([u for u,_ in val_original_source]))\n",
    "print(set([u for u,_ in val_original_target]))\n",
    "\n",
    "s_x, s_y, q_x, q_y, _ = next(iter(train_processed_source))\n",
    "print(s_x)\n",
    "\n",
    "# for ds in [\n",
    "#     train_processed_source,\n",
    "#     val_processed_source,\n",
    "#     test_processed_source,\n",
    "#     train_processed_target,\n",
    "#     val_processed_target,\n",
    "#     test_processed_target\n",
    "# ]:\n",
    "#     for s_x, s_y, q_x, q_y, _ in ds:\n",
    "#         for X in (s_x, q_x):\n",
    "#             for x in X:\n",
    "#                 assert np.isclose(get_average_magnitude(x.numpy()), 1.0)\n",
    "#                 assert np.isclose(get_average_power(x.numpy()), 1.0)\n",
    "                "
   ]
  },
  {
   "cell_type": "code",
   "execution_count": 21,
   "id": "bbdacba1",
   "metadata": {
    "execution": {
     "iopub.execute_input": "2022-03-26T02:00:01.027202Z",
     "iopub.status.busy": "2022-03-26T02:00:01.026907Z",
     "iopub.status.idle": "2022-03-26T02:00:01.079352Z",
     "shell.execute_reply": "2022-03-26T02:00:01.078906Z"
    },
    "papermill": {
     "duration": 0.070858,
     "end_time": "2022-03-26T02:00:01.079461",
     "exception": false,
     "start_time": "2022-03-26T02:00:01.008603",
     "status": "completed"
    },
    "tags": []
   },
   "outputs": [
    {
     "name": "stdout",
     "output_type": "stream",
     "text": [
      "(2, 200)\n"
     ]
    }
   ],
   "source": [
    "###################################\n",
    "# Build the model\n",
    "###################################\n",
    "# easfsl only wants a tuple for the shape\n",
    "model = Steves_Prototypical_Network(x_net, device=p.device, x_shape=tuple(p.x_shape))\n",
    "optimizer = Adam(params=model.parameters(), lr=p.lr)"
   ]
  },
  {
   "cell_type": "code",
   "execution_count": 22,
   "id": "22b39ac5",
   "metadata": {
    "execution": {
     "iopub.execute_input": "2022-03-26T02:00:01.118439Z",
     "iopub.status.busy": "2022-03-26T02:00:01.118155Z",
     "iopub.status.idle": "2022-03-26T02:59:49.461524Z",
     "shell.execute_reply": "2022-03-26T02:59:49.461285Z"
    },
    "papermill": {
     "duration": 3588.361643,
     "end_time": "2022-03-26T02:59:49.461584",
     "exception": false,
     "start_time": "2022-03-26T02:00:01.099941",
     "status": "completed"
    },
    "tags": []
   },
   "outputs": [
    {
     "name": "stdout",
     "output_type": "stream",
     "text": [
      "epoch: 1, [batch: 1 / 6720], examples_per_second: 45.4741, train_label_loss: 3.0492, \n"
     ]
    },
    {
     "name": "stdout",
     "output_type": "stream",
     "text": [
      "epoch: 1, [batch: 672 / 6720], examples_per_second: 1862.9958, train_label_loss: 1.4237, \n"
     ]
    },
    {
     "name": "stdout",
     "output_type": "stream",
     "text": [
      "epoch: 1, [batch: 1344 / 6720], examples_per_second: 1972.2279, train_label_loss: 0.7758, \n"
     ]
    },
    {
     "name": "stdout",
     "output_type": "stream",
     "text": [
      "epoch: 1, [batch: 2016 / 6720], examples_per_second: 2348.8634, train_label_loss: 1.0142, \n"
     ]
    },
    {
     "name": "stdout",
     "output_type": "stream",
     "text": [
      "epoch: 1, [batch: 2688 / 6720], examples_per_second: 2296.8116, train_label_loss: 0.8122, \n"
     ]
    },
    {
     "name": "stdout",
     "output_type": "stream",
     "text": [
      "epoch: 1, [batch: 3360 / 6720], examples_per_second: 2325.9204, train_label_loss: 0.7007, \n"
     ]
    },
    {
     "name": "stdout",
     "output_type": "stream",
     "text": [
      "epoch: 1, [batch: 4032 / 6720], examples_per_second: 2247.8843, train_label_loss: 1.0763, \n"
     ]
    },
    {
     "name": "stdout",
     "output_type": "stream",
     "text": [
      "epoch: 1, [batch: 4704 / 6720], examples_per_second: 2218.7368, train_label_loss: 1.6472, \n"
     ]
    },
    {
     "name": "stdout",
     "output_type": "stream",
     "text": [
      "epoch: 1, [batch: 5376 / 6720], examples_per_second: 3232.3579, train_label_loss: 1.1765, \n"
     ]
    },
    {
     "name": "stdout",
     "output_type": "stream",
     "text": [
      "epoch: 1, [batch: 6048 / 6720], examples_per_second: 3554.9862, train_label_loss: 0.7391, \n"
     ]
    },
    {
     "name": "stdout",
     "output_type": "stream",
     "text": [
      "=============================================================\n",
      "epoch: 1, source_val_acc_label: 0.6636, target_val_acc_label: 0.5249, source_val_label_loss: 8.8456, target_val_label_loss: 2050.2246, \n",
      "=============================================================\n"
     ]
    },
    {
     "name": "stdout",
     "output_type": "stream",
     "text": [
      "New best\n"
     ]
    },
    {
     "name": "stdout",
     "output_type": "stream",
     "text": [
      "epoch: 2, [batch: 1 / 6720], examples_per_second: 5.0924, train_label_loss: 1.3772, \n"
     ]
    },
    {
     "name": "stdout",
     "output_type": "stream",
     "text": [
      "epoch: 2, [batch: 672 / 6720], examples_per_second: 3530.2093, train_label_loss: 1.1904, \n"
     ]
    },
    {
     "name": "stdout",
     "output_type": "stream",
     "text": [
      "epoch: 2, [batch: 1344 / 6720], examples_per_second: 3585.0436, train_label_loss: 0.6211, \n"
     ]
    },
    {
     "name": "stdout",
     "output_type": "stream",
     "text": [
      "epoch: 2, [batch: 2016 / 6720], examples_per_second: 3576.6451, train_label_loss: 0.8518, \n"
     ]
    },
    {
     "name": "stdout",
     "output_type": "stream",
     "text": [
      "epoch: 2, [batch: 2688 / 6720], examples_per_second: 3285.8020, train_label_loss: 0.8371, \n"
     ]
    },
    {
     "name": "stdout",
     "output_type": "stream",
     "text": [
      "epoch: 2, [batch: 3360 / 6720], examples_per_second: 1861.2040, train_label_loss: 0.7475, \n"
     ]
    },
    {
     "name": "stdout",
     "output_type": "stream",
     "text": [
      "epoch: 2, [batch: 4032 / 6720], examples_per_second: 1863.0309, train_label_loss: 0.6002, \n"
     ]
    },
    {
     "name": "stdout",
     "output_type": "stream",
     "text": [
      "epoch: 2, [batch: 4704 / 6720], examples_per_second: 1859.2343, train_label_loss: 1.2105, \n"
     ]
    },
    {
     "name": "stdout",
     "output_type": "stream",
     "text": [
      "epoch: 2, [batch: 5376 / 6720], examples_per_second: 1867.1737, train_label_loss: 0.3151, \n"
     ]
    },
    {
     "name": "stdout",
     "output_type": "stream",
     "text": [
      "epoch: 2, [batch: 6048 / 6720], examples_per_second: 1862.5813, train_label_loss: 0.6779, \n"
     ]
    },
    {
     "name": "stdout",
     "output_type": "stream",
     "text": [
      "=============================================================\n",
      "epoch: 2, source_val_acc_label: 0.6716, target_val_acc_label: 0.6199, source_val_label_loss: 0.8909, target_val_label_loss: 162.6027, \n",
      "=============================================================\n"
     ]
    },
    {
     "name": "stdout",
     "output_type": "stream",
     "text": [
      "New best\n"
     ]
    },
    {
     "name": "stdout",
     "output_type": "stream",
     "text": [
      "epoch: 3, [batch: 1 / 6720], examples_per_second: 2.7141, train_label_loss: 0.5605, \n"
     ]
    },
    {
     "name": "stdout",
     "output_type": "stream",
     "text": [
      "epoch: 3, [batch: 672 / 6720], examples_per_second: 1862.3392, train_label_loss: 1.4446, \n"
     ]
    },
    {
     "name": "stdout",
     "output_type": "stream",
     "text": [
      "epoch: 3, [batch: 1344 / 6720], examples_per_second: 1861.8685, train_label_loss: 0.4142, \n"
     ]
    },
    {
     "name": "stdout",
     "output_type": "stream",
     "text": [
      "epoch: 3, [batch: 2016 / 6720], examples_per_second: 2040.6785, train_label_loss: 0.8214, \n"
     ]
    },
    {
     "name": "stdout",
     "output_type": "stream",
     "text": [
      "epoch: 3, [batch: 2688 / 6720], examples_per_second: 2485.7242, train_label_loss: 0.6165, \n"
     ]
    },
    {
     "name": "stdout",
     "output_type": "stream",
     "text": [
      "epoch: 3, [batch: 3360 / 6720], examples_per_second: 1866.6928, train_label_loss: 0.8712, \n"
     ]
    },
    {
     "name": "stdout",
     "output_type": "stream",
     "text": [
      "epoch: 3, [batch: 4032 / 6720], examples_per_second: 1865.4546, train_label_loss: 0.7341, \n"
     ]
    },
    {
     "name": "stdout",
     "output_type": "stream",
     "text": [
      "epoch: 3, [batch: 4704 / 6720], examples_per_second: 1860.6897, train_label_loss: 0.3585, \n"
     ]
    },
    {
     "name": "stdout",
     "output_type": "stream",
     "text": [
      "epoch: 3, [batch: 5376 / 6720], examples_per_second: 1868.3004, train_label_loss: 0.6329, \n"
     ]
    },
    {
     "name": "stdout",
     "output_type": "stream",
     "text": [
      "epoch: 3, [batch: 6048 / 6720], examples_per_second: 1866.4784, train_label_loss: 0.7371, \n"
     ]
    },
    {
     "name": "stdout",
     "output_type": "stream",
     "text": [
      "=============================================================\n",
      "epoch: 3, source_val_acc_label: 0.7439, target_val_acc_label: 0.6635, source_val_label_loss: 0.6904, target_val_label_loss: 138.2627, \n",
      "=============================================================\n"
     ]
    },
    {
     "name": "stdout",
     "output_type": "stream",
     "text": [
      "New best\n"
     ]
    },
    {
     "name": "stdout",
     "output_type": "stream",
     "text": [
      "epoch: 4, [batch: 1 / 6720], examples_per_second: 2.7262, train_label_loss: 0.6908, \n"
     ]
    },
    {
     "name": "stdout",
     "output_type": "stream",
     "text": [
      "epoch: 4, [batch: 672 / 6720], examples_per_second: 1863.2082, train_label_loss: 0.2228, \n"
     ]
    },
    {
     "name": "stdout",
     "output_type": "stream",
     "text": [
      "epoch: 4, [batch: 1344 / 6720], examples_per_second: 1864.5155, train_label_loss: 0.4758, \n"
     ]
    },
    {
     "name": "stdout",
     "output_type": "stream",
     "text": [
      "epoch: 4, [batch: 2016 / 6720], examples_per_second: 2042.9428, train_label_loss: 0.4624, \n"
     ]
    },
    {
     "name": "stdout",
     "output_type": "stream",
     "text": [
      "epoch: 4, [batch: 2688 / 6720], examples_per_second: 2506.0541, train_label_loss: 0.3108, \n"
     ]
    },
    {
     "name": "stdout",
     "output_type": "stream",
     "text": [
      "epoch: 4, [batch: 3360 / 6720], examples_per_second: 1864.1201, train_label_loss: 0.5937, \n"
     ]
    },
    {
     "name": "stdout",
     "output_type": "stream",
     "text": [
      "epoch: 4, [batch: 4032 / 6720], examples_per_second: 1864.0041, train_label_loss: 0.3558, \n"
     ]
    },
    {
     "name": "stdout",
     "output_type": "stream",
     "text": [
      "epoch: 4, [batch: 4704 / 6720], examples_per_second: 1862.4825, train_label_loss: 1.0876, \n"
     ]
    },
    {
     "name": "stdout",
     "output_type": "stream",
     "text": [
      "epoch: 4, [batch: 5376 / 6720], examples_per_second: 1869.0575, train_label_loss: 0.3227, \n"
     ]
    },
    {
     "name": "stdout",
     "output_type": "stream",
     "text": [
      "epoch: 4, [batch: 6048 / 6720], examples_per_second: 1865.2106, train_label_loss: 0.5207, \n"
     ]
    },
    {
     "name": "stdout",
     "output_type": "stream",
     "text": [
      "=============================================================\n",
      "epoch: 4, source_val_acc_label: 0.8081, target_val_acc_label: 0.6661, source_val_label_loss: 0.5257, target_val_label_loss: 136.6165, \n",
      "=============================================================\n"
     ]
    },
    {
     "name": "stdout",
     "output_type": "stream",
     "text": [
      "New best\n"
     ]
    },
    {
     "name": "stdout",
     "output_type": "stream",
     "text": [
      "epoch: 5, [batch: 1 / 6720], examples_per_second: 2.7027, train_label_loss: 1.0063, \n"
     ]
    },
    {
     "name": "stdout",
     "output_type": "stream",
     "text": [
      "epoch: 5, [batch: 672 / 6720], examples_per_second: 1864.6013, train_label_loss: 0.6658, \n"
     ]
    },
    {
     "name": "stdout",
     "output_type": "stream",
     "text": [
      "epoch: 5, [batch: 1344 / 6720], examples_per_second: 1863.9769, train_label_loss: 0.2686, \n"
     ]
    },
    {
     "name": "stdout",
     "output_type": "stream",
     "text": [
      "epoch: 5, [batch: 2016 / 6720], examples_per_second: 2055.9491, train_label_loss: 0.2770, \n"
     ]
    },
    {
     "name": "stdout",
     "output_type": "stream",
     "text": [
      "epoch: 5, [batch: 2688 / 6720], examples_per_second: 2476.6748, train_label_loss: 0.2139, \n"
     ]
    },
    {
     "name": "stdout",
     "output_type": "stream",
     "text": [
      "epoch: 5, [batch: 3360 / 6720], examples_per_second: 1865.8899, train_label_loss: 0.5005, \n"
     ]
    },
    {
     "name": "stdout",
     "output_type": "stream",
     "text": [
      "epoch: 5, [batch: 4032 / 6720], examples_per_second: 1864.4865, train_label_loss: 0.5343, \n"
     ]
    },
    {
     "name": "stdout",
     "output_type": "stream",
     "text": [
      "epoch: 5, [batch: 4704 / 6720], examples_per_second: 1863.1398, train_label_loss: 0.4839, \n"
     ]
    },
    {
     "name": "stdout",
     "output_type": "stream",
     "text": [
      "epoch: 5, [batch: 5376 / 6720], examples_per_second: 1868.5077, train_label_loss: 0.4678, \n"
     ]
    },
    {
     "name": "stdout",
     "output_type": "stream",
     "text": [
      "epoch: 5, [batch: 6048 / 6720], examples_per_second: 1864.2429, train_label_loss: 0.1549, \n"
     ]
    },
    {
     "name": "stdout",
     "output_type": "stream",
     "text": [
      "=============================================================\n",
      "epoch: 5, source_val_acc_label: 0.8198, target_val_acc_label: 0.6340, source_val_label_loss: 0.4972, target_val_label_loss: 163.5721, \n",
      "=============================================================\n"
     ]
    },
    {
     "name": "stdout",
     "output_type": "stream",
     "text": [
      "epoch: 6, [batch: 1 / 6720], examples_per_second: 2.7064, train_label_loss: 0.4330, \n"
     ]
    },
    {
     "name": "stdout",
     "output_type": "stream",
     "text": [
      "epoch: 6, [batch: 672 / 6720], examples_per_second: 1864.7820, train_label_loss: 0.5810, \n"
     ]
    },
    {
     "name": "stdout",
     "output_type": "stream",
     "text": [
      "epoch: 6, [batch: 1344 / 6720], examples_per_second: 1865.3669, train_label_loss: 0.3887, \n"
     ]
    },
    {
     "name": "stdout",
     "output_type": "stream",
     "text": [
      "epoch: 6, [batch: 2016 / 6720], examples_per_second: 2048.8365, train_label_loss: 0.4089, \n"
     ]
    },
    {
     "name": "stdout",
     "output_type": "stream",
     "text": [
      "epoch: 6, [batch: 2688 / 6720], examples_per_second: 2466.4520, train_label_loss: 0.2962, \n"
     ]
    },
    {
     "name": "stdout",
     "output_type": "stream",
     "text": [
      "epoch: 6, [batch: 3360 / 6720], examples_per_second: 1863.9946, train_label_loss: 0.5668, \n"
     ]
    },
    {
     "name": "stdout",
     "output_type": "stream",
     "text": [
      "epoch: 6, [batch: 4032 / 6720], examples_per_second: 1866.1725, train_label_loss: 0.1559, \n"
     ]
    },
    {
     "name": "stdout",
     "output_type": "stream",
     "text": [
      "epoch: 6, [batch: 4704 / 6720], examples_per_second: 1860.9616, train_label_loss: 0.3535, \n"
     ]
    },
    {
     "name": "stdout",
     "output_type": "stream",
     "text": [
      "epoch: 6, [batch: 5376 / 6720], examples_per_second: 1868.5730, train_label_loss: 0.4378, \n"
     ]
    },
    {
     "name": "stdout",
     "output_type": "stream",
     "text": [
      "epoch: 6, [batch: 6048 / 6720], examples_per_second: 1864.6261, train_label_loss: 0.4498, \n"
     ]
    },
    {
     "name": "stdout",
     "output_type": "stream",
     "text": [
      "=============================================================\n",
      "epoch: 6, source_val_acc_label: 0.8210, target_val_acc_label: 0.6670, source_val_label_loss: 0.4897, target_val_label_loss: 143.2784, \n",
      "=============================================================\n"
     ]
    },
    {
     "name": "stdout",
     "output_type": "stream",
     "text": [
      "New best\n"
     ]
    },
    {
     "name": "stdout",
     "output_type": "stream",
     "text": [
      "epoch: 7, [batch: 1 / 6720], examples_per_second: 2.7136, train_label_loss: 0.4467, \n"
     ]
    },
    {
     "name": "stdout",
     "output_type": "stream",
     "text": [
      "epoch: 7, [batch: 672 / 6720], examples_per_second: 1863.4235, train_label_loss: 0.1996, \n"
     ]
    },
    {
     "name": "stdout",
     "output_type": "stream",
     "text": [
      "epoch: 7, [batch: 1344 / 6720], examples_per_second: 1865.6993, train_label_loss: 0.6169, \n"
     ]
    },
    {
     "name": "stdout",
     "output_type": "stream",
     "text": [
      "epoch: 7, [batch: 2016 / 6720], examples_per_second: 2063.0411, train_label_loss: 0.2398, \n"
     ]
    },
    {
     "name": "stdout",
     "output_type": "stream",
     "text": [
      "epoch: 7, [batch: 2688 / 6720], examples_per_second: 2437.3838, train_label_loss: 0.0876, \n"
     ]
    },
    {
     "name": "stdout",
     "output_type": "stream",
     "text": [
      "epoch: 7, [batch: 3360 / 6720], examples_per_second: 1866.0702, train_label_loss: 0.1903, \n"
     ]
    },
    {
     "name": "stdout",
     "output_type": "stream",
     "text": [
      "epoch: 7, [batch: 4032 / 6720], examples_per_second: 1865.0043, train_label_loss: 0.1578, \n"
     ]
    },
    {
     "name": "stdout",
     "output_type": "stream",
     "text": [
      "epoch: 7, [batch: 4704 / 6720], examples_per_second: 1861.7341, train_label_loss: 0.3967, \n"
     ]
    },
    {
     "name": "stdout",
     "output_type": "stream",
     "text": [
      "epoch: 7, [batch: 5376 / 6720], examples_per_second: 1868.6400, train_label_loss: 0.4737, \n"
     ]
    },
    {
     "name": "stdout",
     "output_type": "stream",
     "text": [
      "epoch: 7, [batch: 6048 / 6720], examples_per_second: 1865.7536, train_label_loss: 0.4404, \n"
     ]
    },
    {
     "name": "stdout",
     "output_type": "stream",
     "text": [
      "=============================================================\n",
      "epoch: 7, source_val_acc_label: 0.8513, target_val_acc_label: 0.6758, source_val_label_loss: 0.4100, target_val_label_loss: 142.7233, \n",
      "=============================================================\n"
     ]
    },
    {
     "name": "stdout",
     "output_type": "stream",
     "text": [
      "New best\n"
     ]
    },
    {
     "name": "stdout",
     "output_type": "stream",
     "text": [
      "epoch: 8, [batch: 1 / 6720], examples_per_second: 2.7231, train_label_loss: 0.2387, \n"
     ]
    },
    {
     "name": "stdout",
     "output_type": "stream",
     "text": [
      "epoch: 8, [batch: 672 / 6720], examples_per_second: 1865.2059, train_label_loss: 0.3056, \n"
     ]
    },
    {
     "name": "stdout",
     "output_type": "stream",
     "text": [
      "epoch: 8, [batch: 1344 / 6720], examples_per_second: 1865.0513, train_label_loss: 0.3575, \n"
     ]
    },
    {
     "name": "stdout",
     "output_type": "stream",
     "text": [
      "epoch: 8, [batch: 2016 / 6720], examples_per_second: 2061.8565, train_label_loss: 0.9380, \n"
     ]
    },
    {
     "name": "stdout",
     "output_type": "stream",
     "text": [
      "epoch: 8, [batch: 2688 / 6720], examples_per_second: 2442.9340, train_label_loss: 0.9043, \n"
     ]
    },
    {
     "name": "stdout",
     "output_type": "stream",
     "text": [
      "epoch: 8, [batch: 3360 / 6720], examples_per_second: 1865.4145, train_label_loss: 0.2101, \n"
     ]
    },
    {
     "name": "stdout",
     "output_type": "stream",
     "text": [
      "epoch: 8, [batch: 4032 / 6720], examples_per_second: 1864.1703, train_label_loss: 0.2347, \n"
     ]
    },
    {
     "name": "stdout",
     "output_type": "stream",
     "text": [
      "epoch: 8, [batch: 4704 / 6720], examples_per_second: 1860.5114, train_label_loss: 0.2258, \n"
     ]
    },
    {
     "name": "stdout",
     "output_type": "stream",
     "text": [
      "epoch: 8, [batch: 5376 / 6720], examples_per_second: 1866.0277, train_label_loss: 0.4448, \n"
     ]
    },
    {
     "name": "stdout",
     "output_type": "stream",
     "text": [
      "epoch: 8, [batch: 6048 / 6720], examples_per_second: 1865.3213, train_label_loss: 0.6361, \n"
     ]
    },
    {
     "name": "stdout",
     "output_type": "stream",
     "text": [
      "=============================================================\n",
      "epoch: 8, source_val_acc_label: 0.8447, target_val_acc_label: 0.6981, source_val_label_loss: 0.4268, target_val_label_loss: 142.5342, \n",
      "=============================================================\n"
     ]
    },
    {
     "name": "stdout",
     "output_type": "stream",
     "text": [
      "New best\n"
     ]
    },
    {
     "name": "stdout",
     "output_type": "stream",
     "text": [
      "epoch: 9, [batch: 1 / 6720], examples_per_second: 2.7166, train_label_loss: 0.2135, \n"
     ]
    },
    {
     "name": "stdout",
     "output_type": "stream",
     "text": [
      "epoch: 9, [batch: 672 / 6720], examples_per_second: 1865.2846, train_label_loss: 0.2694, \n"
     ]
    },
    {
     "name": "stdout",
     "output_type": "stream",
     "text": [
      "epoch: 9, [batch: 1344 / 6720], examples_per_second: 1864.2127, train_label_loss: 0.1821, \n"
     ]
    },
    {
     "name": "stdout",
     "output_type": "stream",
     "text": [
      "epoch: 9, [batch: 2016 / 6720], examples_per_second: 2084.9971, train_label_loss: 0.3140, \n"
     ]
    },
    {
     "name": "stdout",
     "output_type": "stream",
     "text": [
      "epoch: 9, [batch: 2688 / 6720], examples_per_second: 2398.3737, train_label_loss: 0.1733, \n"
     ]
    },
    {
     "name": "stdout",
     "output_type": "stream",
     "text": [
      "epoch: 9, [batch: 3360 / 6720], examples_per_second: 1864.7670, train_label_loss: 0.5949, \n"
     ]
    },
    {
     "name": "stdout",
     "output_type": "stream",
     "text": [
      "epoch: 9, [batch: 4032 / 6720], examples_per_second: 1865.8158, train_label_loss: 0.1373, \n"
     ]
    },
    {
     "name": "stdout",
     "output_type": "stream",
     "text": [
      "epoch: 9, [batch: 4704 / 6720], examples_per_second: 1862.6363, train_label_loss: 0.0536, \n"
     ]
    },
    {
     "name": "stdout",
     "output_type": "stream",
     "text": [
      "epoch: 9, [batch: 5376 / 6720], examples_per_second: 1868.3854, train_label_loss: 0.2382, \n"
     ]
    },
    {
     "name": "stdout",
     "output_type": "stream",
     "text": [
      "epoch: 9, [batch: 6048 / 6720], examples_per_second: 1864.5337, train_label_loss: 0.2700, \n"
     ]
    },
    {
     "name": "stdout",
     "output_type": "stream",
     "text": [
      "=============================================================\n",
      "epoch: 9, source_val_acc_label: 0.8609, target_val_acc_label: 0.6816, source_val_label_loss: 0.3800, target_val_label_loss: 156.8564, \n",
      "=============================================================\n"
     ]
    },
    {
     "name": "stdout",
     "output_type": "stream",
     "text": [
      "epoch: 10, [batch: 1 / 6720], examples_per_second: 2.7204, train_label_loss: 0.2815, \n"
     ]
    },
    {
     "name": "stdout",
     "output_type": "stream",
     "text": [
      "epoch: 10, [batch: 672 / 6720], examples_per_second: 1864.9360, train_label_loss: 1.0030, \n"
     ]
    },
    {
     "name": "stdout",
     "output_type": "stream",
     "text": [
      "epoch: 10, [batch: 1344 / 6720], examples_per_second: 1864.6593, train_label_loss: 0.2892, \n"
     ]
    },
    {
     "name": "stdout",
     "output_type": "stream",
     "text": [
      "epoch: 10, [batch: 2016 / 6720], examples_per_second: 2112.9907, train_label_loss: 0.2445, \n"
     ]
    },
    {
     "name": "stdout",
     "output_type": "stream",
     "text": [
      "epoch: 10, [batch: 2688 / 6720], examples_per_second: 2360.4065, train_label_loss: 0.2449, \n"
     ]
    },
    {
     "name": "stdout",
     "output_type": "stream",
     "text": [
      "epoch: 10, [batch: 3360 / 6720], examples_per_second: 1865.4974, train_label_loss: 0.1807, \n"
     ]
    },
    {
     "name": "stdout",
     "output_type": "stream",
     "text": [
      "epoch: 10, [batch: 4032 / 6720], examples_per_second: 1865.6636, train_label_loss: 0.2618, \n"
     ]
    },
    {
     "name": "stdout",
     "output_type": "stream",
     "text": [
      "epoch: 10, [batch: 4704 / 6720], examples_per_second: 1863.4642, train_label_loss: 0.1818, \n"
     ]
    },
    {
     "name": "stdout",
     "output_type": "stream",
     "text": [
      "epoch: 10, [batch: 5376 / 6720], examples_per_second: 1866.5404, train_label_loss: 0.2915, \n"
     ]
    },
    {
     "name": "stdout",
     "output_type": "stream",
     "text": [
      "epoch: 10, [batch: 6048 / 6720], examples_per_second: 1866.2913, train_label_loss: 0.1079, \n"
     ]
    },
    {
     "name": "stdout",
     "output_type": "stream",
     "text": [
      "=============================================================\n",
      "epoch: 10, source_val_acc_label: 0.8564, target_val_acc_label: 0.6726, source_val_label_loss: 0.3968, target_val_label_loss: 143.7554, \n",
      "=============================================================\n"
     ]
    },
    {
     "name": "stdout",
     "output_type": "stream",
     "text": [
      "epoch: 11, [batch: 1 / 6720], examples_per_second: 2.7210, train_label_loss: 0.3695, \n"
     ]
    },
    {
     "name": "stdout",
     "output_type": "stream",
     "text": [
      "epoch: 11, [batch: 672 / 6720], examples_per_second: 1864.8340, train_label_loss: 0.1430, \n"
     ]
    },
    {
     "name": "stdout",
     "output_type": "stream",
     "text": [
      "epoch: 11, [batch: 1344 / 6720], examples_per_second: 1865.1350, train_label_loss: 0.8804, \n"
     ]
    },
    {
     "name": "stdout",
     "output_type": "stream",
     "text": [
      "epoch: 11, [batch: 2016 / 6720], examples_per_second: 2108.8387, train_label_loss: 0.2371, \n"
     ]
    },
    {
     "name": "stdout",
     "output_type": "stream",
     "text": [
      "epoch: 11, [batch: 2688 / 6720], examples_per_second: 2351.2533, train_label_loss: 0.3573, \n"
     ]
    },
    {
     "name": "stdout",
     "output_type": "stream",
     "text": [
      "epoch: 11, [batch: 3360 / 6720], examples_per_second: 1864.2540, train_label_loss: 0.0516, \n"
     ]
    },
    {
     "name": "stdout",
     "output_type": "stream",
     "text": [
      "epoch: 11, [batch: 4032 / 6720], examples_per_second: 1864.2742, train_label_loss: 0.5676, \n"
     ]
    },
    {
     "name": "stdout",
     "output_type": "stream",
     "text": [
      "epoch: 11, [batch: 4704 / 6720], examples_per_second: 1860.5600, train_label_loss: 0.4678, \n"
     ]
    },
    {
     "name": "stdout",
     "output_type": "stream",
     "text": [
      "epoch: 11, [batch: 5376 / 6720], examples_per_second: 1869.5096, train_label_loss: 0.1683, \n"
     ]
    },
    {
     "name": "stdout",
     "output_type": "stream",
     "text": [
      "epoch: 11, [batch: 6048 / 6720], examples_per_second: 1866.3365, train_label_loss: 0.1255, \n"
     ]
    },
    {
     "name": "stdout",
     "output_type": "stream",
     "text": [
      "=============================================================\n",
      "epoch: 11, source_val_acc_label: 0.8664, target_val_acc_label: 0.6878, source_val_label_loss: 0.3706, target_val_label_loss: 177.4820, \n",
      "=============================================================\n"
     ]
    },
    {
     "name": "stdout",
     "output_type": "stream",
     "text": [
      "epoch: 12, [batch: 1 / 6720], examples_per_second: 2.7171, train_label_loss: 0.3107, \n"
     ]
    },
    {
     "name": "stdout",
     "output_type": "stream",
     "text": [
      "epoch: 12, [batch: 672 / 6720], examples_per_second: 1864.1782, train_label_loss: 0.0336, \n"
     ]
    },
    {
     "name": "stdout",
     "output_type": "stream",
     "text": [
      "epoch: 12, [batch: 1344 / 6720], examples_per_second: 1865.6084, train_label_loss: 0.6234, \n"
     ]
    },
    {
     "name": "stdout",
     "output_type": "stream",
     "text": [
      "epoch: 12, [batch: 2016 / 6720], examples_per_second: 2159.7274, train_label_loss: 0.1379, \n"
     ]
    },
    {
     "name": "stdout",
     "output_type": "stream",
     "text": [
      "epoch: 12, [batch: 2688 / 6720], examples_per_second: 2339.8051, train_label_loss: 0.1580, \n"
     ]
    },
    {
     "name": "stdout",
     "output_type": "stream",
     "text": [
      "epoch: 12, [batch: 3360 / 6720], examples_per_second: 1863.7719, train_label_loss: 0.1083, \n"
     ]
    },
    {
     "name": "stdout",
     "output_type": "stream",
     "text": [
      "epoch: 12, [batch: 4032 / 6720], examples_per_second: 1864.6252, train_label_loss: 0.3596, \n"
     ]
    },
    {
     "name": "stdout",
     "output_type": "stream",
     "text": [
      "epoch: 12, [batch: 4704 / 6720], examples_per_second: 1861.4758, train_label_loss: 0.2977, \n"
     ]
    },
    {
     "name": "stdout",
     "output_type": "stream",
     "text": [
      "epoch: 12, [batch: 5376 / 6720], examples_per_second: 1869.2216, train_label_loss: 0.3420, \n"
     ]
    },
    {
     "name": "stdout",
     "output_type": "stream",
     "text": [
      "epoch: 12, [batch: 6048 / 6720], examples_per_second: 1865.1132, train_label_loss: 0.1593, \n"
     ]
    },
    {
     "name": "stdout",
     "output_type": "stream",
     "text": [
      "=============================================================\n",
      "epoch: 12, source_val_acc_label: 0.8719, target_val_acc_label: 0.6944, source_val_label_loss: 0.3604, target_val_label_loss: 180.6648, \n",
      "=============================================================\n"
     ]
    },
    {
     "name": "stdout",
     "output_type": "stream",
     "text": [
      "Patience (3) exhausted\n"
     ]
    }
   ],
   "source": [
    "###################################\n",
    "# train\n",
    "###################################\n",
    "jig = PTN_Train_Eval_Test_Jig(model, p.BEST_MODEL_PATH, p.device)\n",
    "\n",
    "jig.train(\n",
    "    train_iterable=datasets.source.processed.train,\n",
    "    source_val_iterable=datasets.source.processed.val,\n",
    "    target_val_iterable=datasets.target.processed.val,\n",
    "    num_epochs=p.n_epoch,\n",
    "    num_logs_per_epoch=p.NUM_LOGS_PER_EPOCH,\n",
    "    patience=p.patience,\n",
    "    optimizer=optimizer,\n",
    "    criteria_for_best=p.criteria_for_best,\n",
    ")"
   ]
  },
  {
   "cell_type": "code",
   "execution_count": 23,
   "id": "31e8fabf",
   "metadata": {
    "execution": {
     "iopub.execute_input": "2022-03-26T02:59:49.544037Z",
     "iopub.status.busy": "2022-03-26T02:59:49.543782Z",
     "iopub.status.idle": "2022-03-26T02:59:49.564717Z",
     "shell.execute_reply": "2022-03-26T02:59:49.564268Z"
    },
    "papermill": {
     "duration": 0.06373,
     "end_time": "2022-03-26T02:59:49.564825",
     "exception": false,
     "start_time": "2022-03-26T02:59:49.501095",
     "status": "completed"
    },
    "tags": []
   },
   "outputs": [],
   "source": [
    "total_experiment_time_secs = time.time() - start_time_secs"
   ]
  },
  {
   "cell_type": "code",
   "execution_count": 24,
   "id": "87b9595b",
   "metadata": {
    "execution": {
     "iopub.execute_input": "2022-03-26T02:59:49.656440Z",
     "iopub.status.busy": "2022-03-26T02:59:49.656053Z",
     "iopub.status.idle": "2022-03-26T03:02:09.619781Z",
     "shell.execute_reply": "2022-03-26T03:02:09.619523Z"
    },
    "papermill": {
     "duration": 140.009969,
     "end_time": "2022-03-26T03:02:09.619847",
     "exception": false,
     "start_time": "2022-03-26T02:59:49.609878",
     "status": "completed"
    },
    "tags": []
   },
   "outputs": [],
   "source": [
    "###################################\n",
    "# Evaluate the model\n",
    "###################################\n",
    "source_test_label_accuracy, source_test_label_loss = jig.test(datasets.source.processed.test)\n",
    "target_test_label_accuracy, target_test_label_loss = jig.test(datasets.target.processed.test)\n",
    "\n",
    "source_val_label_accuracy, source_val_label_loss = jig.test(datasets.source.processed.val)\n",
    "target_val_label_accuracy, target_val_label_loss = jig.test(datasets.target.processed.val)\n",
    "\n",
    "history = jig.get_history()\n",
    "\n",
    "total_epochs_trained = len(history[\"epoch_indices\"])\n",
    "\n",
    "val_dl = Iterable_Aggregator((datasets.source.original.val,datasets.target.original.val))\n",
    "\n",
    "confusion = ptn_confusion_by_domain_over_dataloader(model, p.device, val_dl)\n",
    "per_domain_accuracy = per_domain_accuracy_from_confusion(confusion)\n",
    "\n",
    "# Add a key to per_domain_accuracy for if it was a source domain\n",
    "for domain, accuracy in per_domain_accuracy.items():\n",
    "    per_domain_accuracy[domain] = {\n",
    "        \"accuracy\": accuracy,\n",
    "        \"source?\": domain in p.domains_source\n",
    "    }\n",
    "\n",
    "# Do an independent accuracy assesment JUST TO BE SURE!\n",
    "# _source_test_label_accuracy = independent_accuracy_assesment(model, datasets.source.processed.test, p.device)\n",
    "# _target_test_label_accuracy = independent_accuracy_assesment(model, datasets.target.processed.test, p.device)\n",
    "# _source_val_label_accuracy = independent_accuracy_assesment(model, datasets.source.processed.val, p.device)\n",
    "# _target_val_label_accuracy = independent_accuracy_assesment(model, datasets.target.processed.val, p.device)\n",
    "\n",
    "# assert(_source_test_label_accuracy == source_test_label_accuracy)\n",
    "# assert(_target_test_label_accuracy == target_test_label_accuracy)\n",
    "# assert(_source_val_label_accuracy == source_val_label_accuracy)\n",
    "# assert(_target_val_label_accuracy == target_val_label_accuracy)\n",
    "\n",
    "experiment = {\n",
    "    \"experiment_name\": p.experiment_name,\n",
    "    \"parameters\": dict(p),\n",
    "    \"results\": {\n",
    "        \"source_test_label_accuracy\": source_test_label_accuracy,\n",
    "        \"source_test_label_loss\": source_test_label_loss,\n",
    "        \"target_test_label_accuracy\": target_test_label_accuracy,\n",
    "        \"target_test_label_loss\": target_test_label_loss,\n",
    "        \"source_val_label_accuracy\": source_val_label_accuracy,\n",
    "        \"source_val_label_loss\": source_val_label_loss,\n",
    "        \"target_val_label_accuracy\": target_val_label_accuracy,\n",
    "        \"target_val_label_loss\": target_val_label_loss,\n",
    "        \"total_epochs_trained\": total_epochs_trained,\n",
    "        \"total_experiment_time_secs\": total_experiment_time_secs,\n",
    "        \"confusion\": confusion,\n",
    "        \"per_domain_accuracy\": per_domain_accuracy,\n",
    "    },\n",
    "    \"history\": history,\n",
    "    \"dataset_metrics\": get_dataset_metrics(datasets, \"ptn\"),\n",
    "}"
   ]
  },
  {
   "cell_type": "code",
   "execution_count": 25,
   "id": "54a21829",
   "metadata": {
    "execution": {
     "iopub.execute_input": "2022-03-26T03:02:09.721215Z",
     "iopub.status.busy": "2022-03-26T03:02:09.720947Z",
     "iopub.status.idle": "2022-03-26T03:02:09.844250Z",
     "shell.execute_reply": "2022-03-26T03:02:09.844666Z"
    },
    "papermill": {
     "duration": 0.177255,
     "end_time": "2022-03-26T03:02:09.844798",
     "exception": false,
     "start_time": "2022-03-26T03:02:09.667543",
     "status": "completed"
    },
    "tags": []
   },
   "outputs": [
    {
     "data": {
      "image/png": "[encoded data removed]",
      "text/plain": [
       "<Figure size 1080x504 with 1 Axes>"
      ]
     },
     "metadata": {
      "needs_background": "light"
     },
     "output_type": "display_data"
    }
   ],
   "source": [
    "ax = get_loss_curve(experiment)\n",
    "plt.show()"
   ]
  },
  {
   "cell_type": "code",
   "execution_count": 26,
   "id": "fd8a0f60",
   "metadata": {
    "execution": {
     "iopub.execute_input": "2022-03-26T03:02:09.933347Z",
     "iopub.status.busy": "2022-03-26T03:02:09.933080Z",
     "iopub.status.idle": "2022-03-26T03:02:10.101047Z",
     "shell.execute_reply": "2022-03-26T03:02:10.101428Z"
    },
    "papermill": {
     "duration": 0.211149,
     "end_time": "2022-03-26T03:02:10.101552",
     "exception": false,
     "start_time": "2022-03-26T03:02:09.890403",
     "status": "completed"
    },
    "tags": []
   },
   "outputs": [
    {
     "data": {
      "text/plain": [
       "<AxesSubplot:title={'center':'Results'}>"
      ]
     },
     "execution_count": 26,
     "metadata": {},
     "output_type": "execute_result"
    },
    {
     "data": {
      "image/png": "[encoded data removed]",
      "text/plain": [
       "<Figure size 1080x504 with 1 Axes>"
      ]
     },
     "metadata": {
      "needs_background": "light"
     },
     "output_type": "display_data"
    }
   ],
   "source": [
    "get_results_table(experiment)"
   ]
  },
  {
   "cell_type": "code",
   "execution_count": 27,
   "id": "cf8dc689",
   "metadata": {
    "execution": {
     "iopub.execute_input": "2022-03-26T03:02:10.192693Z",
     "iopub.status.busy": "2022-03-26T03:02:10.191910Z",
     "iopub.status.idle": "2022-03-26T03:02:10.336766Z",
     "shell.execute_reply": "2022-03-26T03:02:10.336366Z"
    },
    "papermill": {
     "duration": 0.188705,
     "end_time": "2022-03-26T03:02:10.336864",
     "exception": false,
     "start_time": "2022-03-26T03:02:10.148159",
     "status": "completed"
    },
    "tags": []
   },
   "outputs": [
    {
     "data": {
      "text/plain": [
       "<AxesSubplot:title={'center':'Per Domain Validation Accuracy'}, xlabel='domain'>"
      ]
     },
     "execution_count": 27,
     "metadata": {},
     "output_type": "execute_result"
    },
    {
     "data": {
      "image/png": "[encoded data removed]",
      "text/plain": [
       "<Figure size 1080x504 with 1 Axes>"
      ]
     },
     "metadata": {
      "needs_background": "light"
     },
     "output_type": "display_data"
    }
   ],
   "source": [
    "get_domain_accuracies(experiment)"
   ]
  },
  {
   "cell_type": "code",
   "execution_count": 28,
   "id": "a74ae082",
   "metadata": {
    "execution": {
     "iopub.execute_input": "2022-03-26T03:02:10.462626Z",
     "iopub.status.busy": "2022-03-26T03:02:10.461601Z",
     "iopub.status.idle": "2022-03-26T03:02:10.475773Z",
     "shell.execute_reply": "2022-03-26T03:02:10.475373Z"
    },
    "papermill": {
     "duration": 0.064292,
     "end_time": "2022-03-26T03:02:10.475871",
     "exception": false,
     "start_time": "2022-03-26T03:02:10.411579",
     "status": "completed"
    },
    "tags": []
   },
   "outputs": [
    {
     "name": "stdout",
     "output_type": "stream",
     "text": [
      "Source Test Label Accuracy: 0.8479166666666667 Target Test Label Accuracy: 0.700635593220339\n",
      "Source Val Label Accuracy: 0.8446940104166667 Target Val Label Accuracy: 0.6980714285714286\n"
     ]
    }
   ],
   "source": [
    "print(\"Source Test Label Accuracy:\", experiment[\"results\"][\"source_test_label_accuracy\"], \"Target Test Label Accuracy:\", experiment[\"results\"][\"target_test_label_accuracy\"])\n",
    "print(\"Source Val Label Accuracy:\", experiment[\"results\"][\"source_val_label_accuracy\"], \"Target Val Label Accuracy:\", experiment[\"results\"][\"target_val_label_accuracy\"])"
   ]
  },
  {
   "cell_type": "code",
   "execution_count": 29,
   "id": "dacca602",
   "metadata": {
    "execution": {
     "iopub.execute_input": "2022-03-26T03:02:10.574342Z",
     "iopub.status.busy": "2022-03-26T03:02:10.569295Z",
     "iopub.status.idle": "2022-03-26T03:02:10.588747Z",
     "shell.execute_reply": "2022-03-26T03:02:10.589135Z"
    },
    "papermill": {
     "duration": 0.066097,
     "end_time": "2022-03-26T03:02:10.589247",
     "exception": false,
     "start_time": "2022-03-26T03:02:10.523150",
     "status": "completed"
    },
    "tags": [
     "experiment_json"
    ]
   },
   "outputs": [
    {
     "data": {
      "text/plain": [
       "'{\"experiment_name\": \"tl_3-filterv2:oracle.run1.framed -> cores\", \"parameters\": {\"experiment_name\": \"tl_3-filterv2:oracle.run1.framed -> cores\", \"device\": \"cuda\", \"lr\": 0.0001, \"x_shape\": [2, 200], \"n_shot\": 3, \"n_query\": 2, \"train_k_factor\": 3, \"val_k_factor\": 2, \"test_k_factor\": 2, \"torch_default_dtype\": \"torch.float32\", \"n_epoch\": 50, \"patience\": 3, \"criteria_for_best\": \"target_accuracy\", \"x_net\": [{\"class\": \"nnReshape\", \"kargs\": {\"shape\": [-1, 1, 2, 200]}}, {\"class\": \"Conv2d\", \"kargs\": {\"in_channels\": 1, \"out_channels\": 256, \"kernel_size\": [1, 7], \"bias\": false, \"padding\": [0, 3]}}, {\"class\": \"ReLU\", \"kargs\": {\"inplace\": true}}, {\"class\": \"BatchNorm2d\", \"kargs\": {\"num_features\": 256}}, {\"class\": \"Conv2d\", \"kargs\": {\"in_channels\": 256, \"out_channels\": 80, \"kernel_size\": [2, 7], \"bias\": true, \"padding\": [0, 3]}}, {\"class\": \"ReLU\", \"kargs\": {\"inplace\": true}}, {\"class\": \"BatchNorm2d\", \"kargs\": {\"num_features\": 80}}, {\"class\": \"Flatten\", \"kargs\": {}}, {\"class\": \"Linear\", \"kargs\": {\"in_features\": 16000, \"out_features\": 256}}, {\"class\": \"ReLU\", \"kargs\": {\"inplace\": true}}, {\"class\": \"BatchNorm1d\", \"kargs\": {\"num_features\": 256}}, {\"class\": \"Linear\", \"kargs\": {\"in_features\": 256, \"out_features\": 256}}], \"NUM_LOGS_PER_EPOCH\": 10, \"BEST_MODEL_PATH\": \"./best_model.pth\", \"n_way\": 16, \"datasets\": [{\"labels\": [\"1-10.\", \"1-11.\", \"1-15.\", \"1-16.\", \"1-17.\", \"1-18.\", \"1-19.\", \"10-4.\", \"10-7.\", \"11-1.\", \"11-14.\", \"11-17.\", \"11-20.\", \"11-7.\", \"13-20.\", \"13-8.\", \"14-10.\", \"14-11.\", \"14-14.\", \"14-7.\", \"15-1.\", \"15-20.\", \"16-1.\", \"16-16.\", \"17-10.\", \"17-11.\", \"17-2.\", \"19-1.\", \"19-16.\", \"19-19.\", \"19-20.\", \"19-3.\", \"2-10.\", \"2-11.\", \"2-17.\", \"2-18.\", \"2-20.\", \"2-3.\", \"2-4.\", \"2-5.\", \"2-6.\", \"2-7.\", \"2-8.\", \"3-13.\", \"3-18.\", \"3-3.\", \"4-1.\", \"4-10.\", \"4-11.\", \"4-19.\", \"5-5.\", \"6-15.\", \"7-10.\", \"7-14.\", \"8-18.\", \"8-20.\", \"8-3.\", \"8-8.\"], \"domains\": [1, 2, 3, 4, 5], \"num_examples_per_domain_per_label\": -1, \"pickle_path\": \"/mnt/wd500GB/CSC500/csc500-main/datasets/cores.stratified_ds.2022A.pkl\", \"source_or_target_dataset\": \"target\", \"x_transforms\": [\"unit_power\", \"lowpass_+/-10MHz\", \"take_200\"], \"episode_transforms\": [], \"domain_prefix\": \"C_\"}, {\"labels\": [\"3123D52\", \"3123D65\", \"3123D79\", \"3123D80\", \"3123D54\", \"3123D70\", \"3123D7B\", \"3123D89\", \"3123D58\", \"3123D76\", \"3123D7D\", \"3123EFE\", \"3123D64\", \"3123D78\", \"3123D7E\", \"3124E4A\"], \"domains\": [32, 38, 8, 44, 14, 50, 20, 26], \"num_examples_per_domain_per_label\": 2000, \"pickle_path\": \"/mnt/wd500GB/CSC500/csc500-main/datasets/oracle.Run1_framed_2000Examples_stratified_ds.2022A.pkl\", \"source_or_target_dataset\": \"source\", \"x_transforms\": [\"unit_power\", \"take_200\", \"resample_20Msps_to_25Msps\"], \"episode_transforms\": [], \"domain_prefix\": \"O_\"}], \"seed\": 7, \"dataset_seed\": 7, \"domains_source\": [\"O_32\", \"O_38\", \"O_8\", \"O_44\", \"O_14\", \"O_50\", \"O_20\", \"O_26\"], \"domains_target\": [\"C_1\", \"C_2\", \"C_3\", \"C_4\", \"C_5\"]}, \"results\": {\"source_test_label_accuracy\": 0.8479166666666667, \"source_test_label_loss\": 0.41525453329086304, \"target_test_label_accuracy\": 0.700635593220339, \"target_test_label_loss\": 138.70175170898438, \"source_val_label_accuracy\": 0.8446940104166667, \"source_val_label_loss\": 0.4268237352371216, \"target_val_label_accuracy\": 0.6980714285714286, \"target_val_label_loss\": 142.53421020507812, \"total_epochs_trained\": 12, \"total_experiment_time_secs\": 3651.103769302368, \"confusion\": {\"O_26\": {\"0\": {\"10\": 54, \"8\": 29, \"14\": 31, \"4\": 27, \"0\": 93, \"9\": 1, \"15\": 2, \"1\": 2, \"7\": 1}, \"4\": {\"14\": 13, \"4\": 171, \"8\": 15, \"7\": 19, \"10\": 3, \"0\": 14, \"1\": 5}, \"14\": {\"14\": 185, \"10\": 14, \"0\": 19, \"1\": 7, \"8\": 7, \"4\": 8}, \"12\": {\"12\": 240}, \"8\": {\"2\": 4, \"0\": 20, \"10\": 31, \"8\": 119, \"14\": 11, \"7\": 24, \"15\": 9, \"4\": 14, \"3\": 1, \"5\": 2, \"6\": 3, \"9\": 2}, \"7\": {\"7\": 160, \"2\": 22, \"3\": 20, \"8\": 10, \"4\": 24, \"14\": 1, \"0\": 2, \"10\": 1}, \"13\": {\"13\": 208, \"5\": 11, \"15\": 8, \"2\": 6, \"9\": 7}, \"5\": {\"5\": 217, \"15\": 4, \"13\": 6, \"2\": 12, \"7\": 1}, \"15\": {\"15\": 171, \"13\": 7, \"2\": 7, \"0\": 2, \"8\": 8, \"9\": 29, \"6\": 9, \"7\": 4, \"10\": 3}, \"10\": {\"10\": 110, \"0\": 56, \"8\": 38, \"14\": 20, \"4\": 7, \"6\": 5, \"7\": 1, \"15\": 3}, \"3\": {\"3\": 161, \"2\": 57, \"7\": 22}, \"9\": {\"9\": 184, \"15\": 36, \"13\": 9, \"6\": 5, \"10\": 2, \"2\": 1, \"7\": 1, \"8\": 2}, \"6\": {\"6\": 209, \"15\": 11, \"9\": 10, \"10\": 9, \"0\": 1}, \"1\": {\"1\": 209, \"4\": 13, \"14\": 13, \"7\": 2, \"3\": 1, \"10\": 1, \"0\": 1}, \"11\": {\"11\": 240}, \"2\": {\"15\": 18, \"13\": 7, \"3\": 55, \"2\": 108, \"7\": 33, \"5\": 15, \"8\": 4}}, \"O_44\": {\"1\": {\"1\": 177, \"3\": 10, \"12\": 28, \"2\": 11, \"10\": 14}, \"11\": {\"11\": 231, \"13\": 5, \"6\": 4}, \"3\": {\"3\": 222, \"1\": 12, \"12\": 6}, \"6\": {\"6\": 170, \"13\": 50, \"9\": 17, \"7\": 3}, \"7\": {\"7\": 170, \"9\": 35, \"2\": 26, \"6\": 6, \"13\": 2, \"1\": 1}, \"5\": {\"5\": 216, \"0\": 5, \"15\": 3, \"14\": 8, \"4\": 1, \"8\": 7}, \"2\": {\"2\": 192, \"7\": 25, \"10\": 9, \"3\": 1, \"1\": 13}, \"15\": {\"15\": 192, \"14\": 21, \"0\": 6, \"5\": 7, \"8\": 11, \"4\": 3}, \"10\": {\"10\": 204, \"1\": 21, \"2\": 12, \"12\": 3}, \"13\": {\"13\": 170, \"6\": 44, \"9\": 22, \"11\": 2, \"4\": 2}, \"8\": {\"15\": 7, \"8\": 135, \"0\": 95, \"5\": 3}, \"4\": {\"4\": 171, \"14\": 62, \"13\": 4, \"15\": 3}, \"9\": {\"13\": 30, \"6\": 21, \"9\": 124, \"7\": 64, \"2\": 1}, \"14\": {\"4\": 57, \"14\": 161, \"5\": 6, \"15\": 15, \"0\": 1}, \"0\": {\"0\": 174, \"8\": 54, \"5\": 6, \"15\": 6}, \"12\": {\"12\": 217, \"1\": 17, \"3\": 4, \"10\": 2}}, \"O_50\": {\"15\": {\"15\": 202, \"4\": 14, \"1\": 17, \"6\": 2, \"11\": 5}, \"4\": {\"4\": 158, \"5\": 26, \"13\": 1, \"15\": 41, \"1\": 5, \"6\": 5, \"7\": 4}, \"6\": {\"6\": 202, \"15\": 9, \"13\": 13, \"7\": 11, \"4\": 4, \"5\": 1}, \"2\": {\"2\": 225, \"0\": 15}, \"5\": {\"5\": 173, \"7\": 19, \"13\": 10, \"6\": 4, \"10\": 1, \"4\": 20, \"1\": 11, \"15\": 2}, \"9\": {\"9\": 228, \"11\": 9, \"12\": 3}, \"8\": {\"8\": 234, \"10\": 4, \"3\": 2}, \"12\": {\"12\": 229, \"9\": 8, \"11\": 3}, \"10\": {\"10\": 220, \"0\": 7, \"13\": 5, \"8\": 8}, \"1\": {\"1\": 201, \"13\": 2, \"2\": 2, \"15\": 28, \"6\": 3, \"4\": 2, \"5\": 2}, \"0\": {\"0\": 196, \"2\": 30, \"13\": 3, \"10\": 11}, \"3\": {\"3\": 239, \"8\": 1}, \"13\": {\"13\": 211, \"6\": 10, \"4\": 1, \"10\": 4, \"7\": 9, \"5\": 5}, \"11\": {\"14\": 2, \"11\": 212, \"15\": 16, \"12\": 4, \"9\": 5, \"1\": 1}, \"7\": {\"7\": 211, \"13\": 15, \"5\": 6, \"6\": 6, \"4\": 2}, \"14\": {\"14\": 240}}, \"O_38\": {\"15\": {\"8\": 20, \"15\": 213, \"1\": 6, \"13\": 1}, \"11\": {\"11\": 240}, \"10\": {\"10\": 217, \"13\": 18, \"0\": 2, \"8\": 2, \"2\": 1}, \"14\": {\"14\": 223, \"2\": 16, \"12\": 1}, \"6\": {\"6\": 238, \"9\": 2}, \"4\": {\"4\": 236, \"0\": 3, \"12\": 1}, \"13\": {\"13\": 214, \"10\": 13, \"15\": 5, \"2\": 3, \"0\": 4, \"8\": 1}, \"3\": {\"3\": 236, \"0\": 3, \"11\": 1}, \"7\": {\"7\": 211, \"0\": 12, \"5\": 10, \"10\": 1, \"8\": 4, \"3\": 1, \"9\": 1}, \"8\": {\"0\": 12, \"8\": 177, \"5\": 33, \"7\": 12, \"15\": 3, \"13\": 2, \"10\": 1}, \"1\": {\"1\": 231, \"15\": 9}, \"5\": {\"5\": 142, \"7\": 23, \"8\": 55, \"0\": 5, \"15\": 4, \"9\": 5, \"6\": 4, \"13\": 2}, \"0\": {\"0\": 206, \"3\": 5, \"8\": 9, \"5\": 2, \"7\": 10, \"4\": 1, \"13\": 3, \"10\": 3, \"12\": 1}, \"2\": {\"2\": 226, \"14\": 12, \"13\": 1, \"15\": 1}, \"12\": {\"12\": 240}, \"9\": {\"9\": 221, \"6\": 12, \"5\": 4, \"3\": 1, \"0\": 1, \"7\": 1}}, \"O_20\": {\"10\": {\"10\": 239, \"14\": 1}, \"7\": {\"7\": 209, \"2\": 25, \"4\": 3, \"8\": 2, \"6\": 1}, \"4\": {\"4\": 229, \"3\": 7, \"7\": 2, \"10\": 1, \"12\": 1}, \"13\": {\"13\": 232, \"9\": 1, \"2\": 6, \"1\": 1}, \"1\": {\"1\": 166, \"12\": 54, \"9\": 1, \"15\": 15, \"5\": 3, \"3\": 1}, \"0\": {\"0\": 197, \"15\": 22, \"5\": 10, \"7\": 4, \"12\": 1, \"1\": 1, \"4\": 2, \"8\": 3}, \"12\": {\"3\": 34, \"12\": 128, \"2\": 11, \"9\": 17, \"1\": 48, \"5\": 2}, \"5\": {\"5\": 224, \"12\": 3, \"0\": 7, \"1\": 2, \"15\": 3, \"4\": 1}, \"6\": {\"6\": 230, \"14\": 10}, \"2\": {\"12\": 16, \"2\": 153, \"3\": 9, \"9\": 31, \"7\": 23, \"1\": 1, \"13\": 7}, \"8\": {\"8\": 225, \"7\": 10, \"4\": 3, \"14\": 1, \"6\": 1}, \"11\": {\"11\": 240}, \"9\": {\"9\": 147, \"3\": 22, \"2\": 53, \"12\": 17, \"7\": 1}, \"14\": {\"14\": 234, \"6\": 6}, \"15\": {\"15\": 207, \"13\": 2, \"1\": 16, \"0\": 13, \"12\": 2}, \"3\": {\"3\": 136, \"2\": 17, \"12\": 37, \"4\": 10, \"9\": 34, \"7\": 1, \"1\": 5}}, \"O_14\": {\"14\": {\"14\": 216, \"2\": 17, \"13\": 3, \"6\": 2, \"3\": 2}, \"0\": {\"0\": 234, \"10\": 3, \"3\": 3}, \"4\": {\"4\": 230, \"3\": 2, \"2\": 2, \"1\": 6}, \"11\": {\"11\": 227, \"9\": 9, \"0\": 4}, \"13\": {\"6\": 92, \"13\": 125, \"14\": 6, \"2\": 10, \"7\": 2, \"4\": 3, \"3\": 1, \"15\": 1}, \"9\": {\"9\": 240}, \"3\": {\"3\": 230, \"2\": 5, \"14\": 3, \"4\": 2}, \"6\": {\"6\": 183, \"13\": 50, \"2\": 5, \"14\": 2}, \"1\": {\"1\": 239, \"4\": 1}, \"5\": {\"5\": 216, \"4\": 8, \"2\": 8, \"1\": 5, \"3\": 3}, \"12\": {\"12\": 240}, \"10\": {\"10\": 239, \"0\": 1}, \"8\": {\"8\": 240}, \"7\": {\"7\": 240}, \"15\": {\"15\": 240}, \"2\": {\"2\": 145, \"14\": 29, \"6\": 30, \"5\": 15, \"13\": 8, \"3\": 9, \"4\": 3, \"15\": 1}}, \"O_32\": {\"11\": {\"11\": 229, \"3\": 3, \"14\": 7, \"13\": 1}, \"1\": {\"1\": 240}, \"2\": {\"2\": 190, \"4\": 49, \"13\": 1}, \"0\": {\"0\": 193, \"5\": 4, \"7\": 8, \"8\": 21, \"14\": 12, \"13\": 1, \"2\": 1}, \"3\": {\"3\": 236, \"13\": 3, \"14\": 1}, \"8\": {\"8\": 198, \"0\": 24, \"13\": 10, \"5\": 3, \"14\": 3, \"3\": 1, \"7\": 1}, \"12\": {\"12\": 240}, \"5\": {\"5\": 184, \"3\": 3, \"7\": 27, \"13\": 10, \"4\": 4, \"14\": 6, \"8\": 5, \"0\": 1}, \"15\": {\"15\": 237, \"8\": 3}, \"7\": {\"7\": 179, \"14\": 11, \"5\": 25, \"4\": 15, \"2\": 2, \"11\": 3, \"0\": 1, \"13\": 4}, \"4\": {\"4\": 194, \"2\": 27, \"7\": 10, \"13\": 9}, \"14\": {\"14\": 191, \"0\": 15, \"7\": 9, \"11\": 13, \"8\": 2, \"5\": 6, \"4\": 1, \"3\": 2, \"13\": 1}, \"10\": {\"10\": 240}, \"6\": {\"6\": 240}, \"13\": {\"13\": 192, \"4\": 19, \"8\": 3, \"11\": 3, \"7\": 3, \"5\": 6, \"3\": 14}, \"9\": {\"9\": 240}}, \"O_8\": {\"9\": {\"9\": 240}, \"11\": {\"11\": 228, \"1\": 12}, \"8\": {\"8\": 238, \"15\": 1, \"12\": 1}, \"4\": {\"4\": 170, \"6\": 23, \"10\": 5, \"13\": 35, \"14\": 4, \"0\": 3}, \"13\": {\"10\": 17, \"4\": 29, \"6\": 16, \"14\": 9, \"0\": 42, \"13\": 125, \"7\": 2}, \"14\": {\"14\": 204, \"10\": 19, \"1\": 8, \"13\": 4, \"5\": 1, \"4\": 4}, \"2\": {\"2\": 230, \"3\": 4, \"7\": 5, \"12\": 1}, \"3\": {\"3\": 233, \"12\": 5, \"2\": 2}, \"1\": {\"1\": 227, \"11\": 8, \"14\": 3, \"5\": 2}, \"0\": {\"0\": 199, \"7\": 7, \"6\": 3, \"13\": 27, \"4\": 3, \"10\": 1}, \"5\": {\"5\": 229, \"14\": 3, \"1\": 5, \"10\": 3}, \"15\": {\"15\": 214, \"12\": 25, \"8\": 1}, \"10\": {\"10\": 207, \"14\": 18, \"13\": 12, \"4\": 3}, \"12\": {\"12\": 190, \"15\": 40, \"3\": 9, \"8\": 1}, \"6\": {\"0\": 3, \"6\": 161, \"4\": 15, \"13\": 6, \"7\": 55}, \"7\": {\"7\": 188, \"6\": 46, \"0\": 4, \"12\": 1, \"13\": 1}}, \"C_5\": {\"26\": {\"26\": 24}, \"7\": {\"26\": 2, \"51\": 1, \"8\": 4, \"7\": 20, \"38\": 2, \"1\": 2, \"6\": 1}, \"56\": {\"56\": 140, \"35\": 1, \"0\": 1}, \"36\": {\"46\": 6, \"36\": 51, \"49\": 1, \"54\": 6, \"3\": 1, \"16\": 5, \"18\": 1, \"11\": 2, \"52\": 7, \"24\": 1, \"23\": 2, \"57\": 1, \"2\": 1, \"1\": 1, \"43\": 1, \"17\": 1, \"21\": 1, \"15\": 2, \"27\": 1}, \"47\": {\"47\": 42, \"26\": 1, \"39\": 4, \"8\": 4, \"11\": 3, \"34\": 2, \"52\": 10, \"30\": 5, \"6\": 2, \"1\": 1, \"46\": 3, \"23\": 3, \"27\": 2, \"17\": 1, \"16\": 2, \"48\": 4, \"20\": 2, \"18\": 3, \"57\": 2, \"32\": 1, \"54\": 3}, \"2\": {\"11\": 1, \"2\": 21, \"14\": 2, \"31\": 1, \"49\": 2, \"46\": 1}, \"15\": {\"15\": 132, \"11\": 8, \"52\": 5, \"54\": 1, \"46\": 2, \"23\": 3, \"31\": 1}, \"14\": {\"27\": 1, \"36\": 3, \"33\": 3, \"14\": 7, \"24\": 3, \"34\": 2, \"9\": 5, \"0\": 4, \"19\": 1, \"21\": 2, \"46\": 1, \"56\": 3, \"20\": 1, \"49\": 2, \"28\": 2, \"11\": 2, \"2\": 2}, \"27\": {\"27\": 82, \"30\": 7, \"1\": 8, \"34\": 2, \"9\": 13, \"12\": 3, \"6\": 3, \"45\": 2, \"47\": 4, \"51\": 2, \"48\": 8, \"8\": 3, \"3\": 1, \"28\": 1, \"7\": 1, \"50\": 1, \"17\": 3, \"20\": 2}, \"40\": {\"40\": 81, \"5\": 10, \"55\": 3, \"33\": 1, \"29\": 4, \"44\": 7, \"4\": 4, \"27\": 1, \"45\": 1, \"50\": 6, \"43\": 1, \"14\": 1, \"28\": 1, \"19\": 1, \"21\": 1, \"47\": 1}, \"49\": {\"49\": 30, \"15\": 3, \"31\": 1, \"18\": 1, \"36\": 1}, \"45\": {\"45\": 29, \"28\": 4, \"32\": 2, \"38\": 1, \"33\": 1, \"55\": 6, \"27\": 8, \"17\": 7, \"9\": 6, \"30\": 5, \"23\": 1, \"57\": 1, \"8\": 7, \"25\": 3, \"53\": 1, \"20\": 5, \"1\": 6, \"18\": 2, \"6\": 5, \"54\": 2, \"48\": 6, \"50\": 2, \"12\": 7, \"19\": 1, \"41\": 1, \"37\": 1, \"21\": 1, \"4\": 1, \"51\": 2}, \"46\": {\"46\": 49, \"56\": 2, \"16\": 24, \"23\": 17, \"18\": 12, \"52\": 16, \"54\": 4, \"27\": 1, \"55\": 1, \"43\": 2, \"0\": 2, \"35\": 1, \"20\": 2, \"8\": 3}, \"11\": {\"11\": 92, \"31\": 3, \"23\": 3, \"42\": 1, \"54\": 1, \"18\": 2, \"15\": 7, \"52\": 7, \"16\": 6, \"20\": 1, \"46\": 4, \"39\": 1, \"6\": 1, \"8\": 1}, \"30\": {\"26\": 1, \"30\": 56, \"20\": 12, \"1\": 11, \"38\": 1, \"8\": 5, \"17\": 8, \"27\": 1, \"48\": 6, \"57\": 2, \"47\": 1, \"6\": 5, \"51\": 2, \"23\": 1}, \"0\": {\"14\": 2, \"0\": 115, \"36\": 2, \"46\": 1, \"15\": 1, \"24\": 1, \"56\": 1, \"57\": 1}, \"10\": {\"10\": 64, \"13\": 3, \"22\": 1}, \"1\": {\"1\": 136, \"8\": 2, \"20\": 2, \"17\": 2, \"6\": 3, \"30\": 1, \"26\": 1, \"48\": 1}, \"42\": {\"42\": 38, \"40\": 2}, \"54\": {\"23\": 6, \"54\": 99, \"16\": 5, \"52\": 1, \"8\": 1}, \"55\": {\"55\": 117, \"25\": 1, \"45\": 5, \"50\": 6, \"21\": 2, \"4\": 4, \"12\": 4, \"27\": 5, \"9\": 3, \"32\": 2, \"17\": 2, \"19\": 1}, \"23\": {\"23\": 118, \"52\": 6}, \"25\": {\"23\": 5, \"39\": 1, \"50\": 5, \"26\": 4, \"25\": 74, \"6\": 4, \"55\": 4, \"1\": 5, \"16\": 7, \"45\": 1, \"20\": 5, \"54\": 4, \"21\": 5, \"53\": 4, \"8\": 2, \"48\": 7, \"46\": 1, \"12\": 2, \"38\": 2, \"9\": 1, \"37\": 1, \"17\": 3, \"43\": 1, \"51\": 1, \"30\": 3}, \"28\": {\"32\": 3, \"28\": 19, \"48\": 1, \"34\": 1, \"12\": 1, \"45\": 2, \"33\": 1, \"27\": 3, \"41\": 1}, \"32\": {\"9\": 1, \"32\": 17, \"51\": 1, \"26\": 2, \"8\": 2, \"7\": 1, \"23\": 1, \"17\": 1, \"48\": 1, \"25\": 1, \"1\": 3, \"12\": 1}, \"9\": {\"9\": 80, \"27\": 21, \"34\": 1, \"45\": 11, \"38\": 1, \"19\": 3, \"21\": 1, \"46\": 1, \"48\": 1, \"6\": 5, \"50\": 2, \"47\": 3, \"30\": 2, \"55\": 1, \"51\": 2, \"57\": 2, \"1\": 1, \"53\": 1, \"33\": 1, \"12\": 1, \"25\": 1}, \"39\": {\"39\": 18, \"23\": 1, \"42\": 1}, \"3\": {\"23\": 7, \"3\": 34, \"42\": 1, \"34\": 1, \"57\": 9, \"37\": 2, \"29\": 2, \"21\": 5, \"52\": 5, \"17\": 2, \"25\": 2, \"20\": 3, \"44\": 1, \"47\": 3, \"54\": 4, \"24\": 2, \"43\": 2, \"16\": 4, \"0\": 3, \"33\": 1, \"41\": 1, \"10\": 1, \"56\": 1, \"46\": 2, \"48\": 1, \"13\": 1}, \"29\": {\"29\": 82, \"34\": 2, \"43\": 4, \"5\": 4, \"16\": 2, \"9\": 2, \"20\": 1, \"3\": 1, \"11\": 1, \"19\": 2, \"46\": 1, \"44\": 10, \"51\": 1, \"33\": 1, \"40\": 1, \"57\": 2, \"36\": 1}, \"17\": {\"1\": 6, \"17\": 89, \"18\": 1, \"20\": 5, \"48\": 7, \"50\": 1, \"30\": 2, \"54\": 1, \"23\": 1, \"8\": 3}, \"35\": {\"35\": 35, \"56\": 1}, \"44\": {\"44\": 82, \"47\": 4, \"50\": 2, \"29\": 13, \"34\": 4, \"5\": 4, \"57\": 6, \"40\": 2, \"9\": 3, \"14\": 2, \"3\": 2, \"36\": 5, \"13\": 1, \"46\": 4, \"27\": 8, \"18\": 1, \"2\": 2, \"11\": 2, \"31\": 1, \"51\": 1, \"45\": 1, \"43\": 1, \"19\": 1}, \"5\": {\"44\": 9, \"5\": 77, \"55\": 1, \"4\": 4, \"40\": 24, \"19\": 4, \"14\": 1, \"20\": 1, \"29\": 4, \"50\": 3}, \"33\": {\"33\": 26, \"27\": 1, \"14\": 1, \"19\": 3, \"12\": 1}, \"34\": {\"5\": 1, \"1\": 1, \"34\": 26, \"8\": 1, \"32\": 1, \"27\": 1, \"6\": 1, \"3\": 1, \"20\": 1, \"47\": 1, \"30\": 1}, \"13\": {\"13\": 113, \"10\": 7, \"3\": 2, \"56\": 4, \"43\": 3, \"0\": 2, \"24\": 4, \"29\": 2, \"35\": 1}, \"41\": {\"41\": 26, \"18\": 1, \"23\": 1}, \"6\": {\"51\": 6, \"6\": 38, \"45\": 2, \"18\": 5, \"8\": 13, \"17\": 8, \"20\": 10, \"46\": 1, \"54\": 10, \"1\": 15, \"30\": 5, \"21\": 1, \"55\": 1, \"26\": 3, \"39\": 2, \"53\": 2, \"32\": 1, \"12\": 1, \"47\": 1, \"23\": 3}, \"51\": {\"51\": 69, \"7\": 4, \"8\": 12, \"1\": 8, \"20\": 18, \"18\": 3, \"6\": 3, \"17\": 4, \"30\": 5, \"53\": 7, \"16\": 3, \"48\": 2}, \"50\": {\"33\": 2, \"50\": 47, \"9\": 8, \"27\": 7, \"26\": 1, \"28\": 1, \"57\": 3, \"47\": 3, \"34\": 1, \"19\": 5, \"20\": 3, \"51\": 6, \"52\": 3, \"3\": 3, \"45\": 5, \"30\": 4, \"21\": 4, \"55\": 8, \"12\": 3, \"25\": 3, \"6\": 3, \"16\": 2, \"53\": 2, \"29\": 1, \"18\": 1, \"4\": 5, \"17\": 2, \"8\": 3, \"54\": 2, \"1\": 2, \"48\": 1}, \"37\": {\"37\": 23, \"6\": 1}, \"19\": {\"9\": 10, \"19\": 117, \"55\": 4, \"47\": 1, \"45\": 4, \"50\": 3, \"27\": 3, \"57\": 1, \"5\": 1}, \"57\": {\"57\": 71, \"42\": 1, \"52\": 14, \"23\": 7, \"1\": 11, \"30\": 5, \"46\": 5, \"6\": 1, \"3\": 1, \"16\": 4, \"11\": 1, \"8\": 1, \"47\": 1, \"18\": 3, \"54\": 4, \"48\": 2}, \"21\": {\"21\": 134, \"37\": 1, \"53\": 6, \"51\": 2, \"38\": 1}, \"24\": {\"57\": 3, \"24\": 50, \"35\": 1, \"14\": 1, \"31\": 5, \"0\": 3, \"46\": 2, \"3\": 1, \"36\": 4, \"15\": 6, \"11\": 1, \"49\": 2, \"43\": 1}, \"8\": {\"23\": 9, \"8\": 86, \"18\": 3, \"7\": 2, \"20\": 15, \"42\": 1, \"51\": 3, \"6\": 4, \"54\": 1, \"1\": 4, \"48\": 2}, \"12\": {\"26\": 1, \"12\": 65, \"27\": 2, \"28\": 1, \"38\": 1, \"20\": 5, \"17\": 7, \"6\": 5, \"8\": 1, \"51\": 3, \"1\": 1, \"7\": 1, \"48\": 1, \"30\": 1, \"53\": 1}, \"48\": {\"25\": 3, \"26\": 2, \"8\": 7, \"30\": 13, \"1\": 17, \"48\": 70, \"20\": 3, \"17\": 10, \"45\": 1, \"6\": 4, \"54\": 1, \"57\": 1}, \"43\": {\"43\": 142, \"3\": 2, \"36\": 2, \"24\": 2, \"21\": 2}, \"53\": {\"26\": 1, \"53\": 110, \"8\": 7, \"6\": 4, \"20\": 9, \"18\": 1, \"30\": 1, \"51\": 7, \"54\": 1, \"1\": 1, \"17\": 1, \"23\": 1, \"25\": 2, \"48\": 2}, \"38\": {\"38\": 32}, \"16\": {\"16\": 129, \"52\": 3, \"46\": 6, \"23\": 2, \"42\": 1, \"57\": 1}, \"22\": {\"22\": 24, \"56\": 1, \"13\": 1, \"40\": 1, \"44\": 1}, \"4\": {\"4\": 66, \"33\": 2, \"27\": 2, \"12\": 2, \"45\": 5, \"5\": 2, \"47\": 1, \"6\": 1, \"20\": 1, \"55\": 6, \"25\": 1, \"19\": 7, \"50\": 2, \"40\": 1, \"9\": 1}, \"18\": {\"18\": 62, \"23\": 2}, \"20\": {\"18\": 6, \"20\": 93, \"8\": 13, \"51\": 4, \"16\": 7, \"46\": 2, \"54\": 4, \"6\": 3, \"30\": 2, \"1\": 5, \"7\": 1, \"23\": 3, \"48\": 1}, \"52\": {\"52\": 131, \"23\": 4, \"16\": 4, \"57\": 1}, \"31\": {\"31\": 21, \"15\": 1, \"11\": 5, \"52\": 3, \"46\": 2, \"23\": 4}}, \"C_1\": {\"41\": {\"53\": 1, \"36\": 1, \"41\": 18, \"26\": 1, \"14\": 2, \"6\": 1}, \"40\": {\"29\": 6, \"40\": 89, \"4\": 5, \"53\": 1, \"13\": 2, \"57\": 1, \"46\": 1, \"3\": 3, \"55\": 1, \"51\": 1}, \"45\": {\"45\": 108, \"32\": 1, \"26\": 2, \"37\": 1, \"12\": 1, \"54\": 1, \"19\": 9, \"30\": 2, \"9\": 4, \"5\": 2, \"16\": 6, \"48\": 1}, \"51\": {\"51\": 136, \"53\": 6, \"55\": 2, \"12\": 2, \"14\": 1, \"16\": 1}, \"5\": {\"5\": 145, \"2\": 1, \"30\": 2, \"9\": 2, \"48\": 2, \"6\": 2}, \"30\": {\"30\": 102, \"9\": 13, \"18\": 3, \"5\": 2}, \"42\": {\"32\": 1, \"42\": 35, \"45\": 2, \"48\": 1, \"46\": 1}, \"46\": {\"48\": 9, \"46\": 44, \"2\": 2, \"13\": 2, \"17\": 1, \"5\": 13, \"8\": 14, \"56\": 2, \"19\": 3, \"18\": 1, \"25\": 1, \"55\": 6, \"14\": 1, \"6\": 5, \"50\": 9, \"9\": 1, \"51\": 3, \"4\": 6, \"57\": 4, \"16\": 2, \"45\": 1, \"37\": 1, \"20\": 2, \"12\": 2, \"53\": 1}, \"48\": {\"48\": 132, \"6\": 1, \"50\": 1}, \"53\": {\"53\": 105, \"6\": 5, \"12\": 3, \"18\": 2, \"14\": 2, \"5\": 5, \"17\": 2, \"48\": 7, \"16\": 3, \"9\": 3, \"50\": 1, \"26\": 1, \"30\": 4, \"36\": 1}, \"47\": {\"47\": 100, \"0\": 5, \"32\": 2, \"44\": 16, \"49\": 2, \"39\": 1, \"21\": 5, \"11\": 2, \"45\": 1, \"23\": 2, \"15\": 2, \"38\": 3, \"22\": 6, \"52\": 2, \"56\": 1, \"24\": 1, \"57\": 1}, \"49\": {\"49\": 16, \"54\": 1, \"53\": 4, \"22\": 1, \"0\": 2, \"11\": 2, \"34\": 1, \"24\": 1, \"38\": 1, \"12\": 1, \"55\": 1, \"51\": 1}, \"36\": {\"36\": 40, \"16\": 12, \"34\": 3, \"37\": 1, \"18\": 1, \"7\": 1, \"54\": 4, \"9\": 2}, \"32\": {\"45\": 2, \"32\": 22, \"1\": 2, \"56\": 2, \"19\": 2, \"7\": 1, \"49\": 1}, \"34\": {\"34\": 23, \"33\": 1}, \"29\": {\"29\": 80, \"40\": 5, \"1\": 3, \"57\": 11, \"19\": 6, \"47\": 5, \"56\": 11, \"16\": 1, \"4\": 1, \"55\": 4, \"44\": 6, \"3\": 1, \"46\": 3, \"32\": 1, \"51\": 1, \"13\": 1}, \"35\": {\"35\": 35, \"44\": 1}, \"3\": {\"3\": 107, \"28\": 1, \"24\": 1, \"29\": 8, \"40\": 1, \"44\": 2, \"47\": 4, \"1\": 1, \"13\": 3, \"55\": 1, \"57\": 1, \"9\": 1, \"49\": 1, \"51\": 1, \"20\": 1}, \"16\": {\"16\": 129, \"33\": 5, \"18\": 4, \"36\": 1, \"30\": 1}, \"26\": {\"26\": 23, \"33\": 1}, \"57\": {\"57\": 103, \"19\": 7, \"29\": 7, \"4\": 4, \"56\": 9, \"1\": 13, \"51\": 1}, \"44\": {\"35\": 5, \"0\": 4, \"44\": 55, \"49\": 1, \"29\": 11, \"55\": 12, \"1\": 3, \"47\": 14, \"56\": 1, \"54\": 3, \"8\": 5, \"30\": 2, \"45\": 1, \"19\": 2, \"38\": 3, \"13\": 1, \"57\": 3, \"46\": 1, \"16\": 1}, \"0\": {\"11\": 9, \"0\": 105, \"21\": 13, \"23\": 11, \"15\": 10, \"54\": 2, \"22\": 2}, \"4\": {\"4\": 97, \"57\": 7, \"20\": 1, \"51\": 7, \"25\": 2, \"46\": 3, \"55\": 2, \"13\": 3, \"1\": 1, \"19\": 4, \"56\": 1, \"29\": 2, \"40\": 1, \"53\": 1}, \"31\": {\"31\": 25, \"52\": 2, \"44\": 1}, \"11\": {\"11\": 114, \"0\": 7, \"22\": 12, \"10\": 1, \"21\": 1, \"49\": 2, \"15\": 1, \"24\": 1, \"52\": 1}, \"6\": {\"6\": 69, \"17\": 3, \"18\": 2, \"48\": 8, \"8\": 3, \"2\": 2, \"9\": 1, \"50\": 1, \"5\": 5, \"16\": 2}, \"54\": {\"54\": 52, \"26\": 5, \"30\": 9, \"16\": 17, \"18\": 3, \"36\": 6, \"33\": 4, \"9\": 7, \"5\": 1}, \"17\": {\"17\": 58, \"9\": 1, \"50\": 1, \"30\": 1, \"6\": 2, \"8\": 1}, \"20\": {\"20\": 123, \"12\": 1, \"53\": 2, \"51\": 1, \"13\": 1}, \"13\": {\"13\": 149, \"20\": 1}, \"33\": {\"33\": 32}, \"24\": {\"11\": 8, \"24\": 61, \"0\": 8, \"22\": 9, \"52\": 11, \"10\": 6, \"38\": 1, \"44\": 1, \"45\": 1, \"56\": 2}, \"52\": {\"39\": 3, \"52\": 94, \"24\": 14, \"22\": 8, \"10\": 5, \"0\": 1, \"15\": 1, \"47\": 1, \"11\": 3, \"43\": 1, \"27\": 1}, \"2\": {\"2\": 36}, \"19\": {\"19\": 121, \"17\": 3, \"37\": 1, \"56\": 4, \"8\": 6, \"12\": 1, \"1\": 1, \"25\": 2, \"18\": 2, \"48\": 3, \"46\": 3, \"50\": 1, \"45\": 6, \"42\": 2}, \"39\": {\"39\": 28}, \"8\": {\"8\": 83, \"30\": 14, \"17\": 6, \"9\": 18, \"16\": 3, \"5\": 6, \"18\": 3, \"48\": 2, \"54\": 1, \"50\": 1, \"14\": 1, \"6\": 2}, \"21\": {\"21\": 111, \"23\": 2, \"15\": 8, \"30\": 1, \"34\": 1, \"17\": 1}, \"10\": {\"10\": 90, \"52\": 2, \"24\": 3, \"47\": 1}, \"37\": {\"37\": 22, \"26\": 1, \"33\": 1, \"16\": 2, \"5\": 2, \"17\": 2, \"9\": 2}, \"25\": {\"30\": 1, \"25\": 114, \"48\": 4, \"2\": 2, \"12\": 2, \"9\": 3, \"50\": 8, \"6\": 4, \"53\": 2, \"55\": 1, \"17\": 1, \"5\": 2}, \"27\": {\"27\": 123, \"43\": 3, \"10\": 1, \"52\": 2, \"39\": 1}, \"23\": {\"23\": 107, \"33\": 2, \"36\": 1, \"17\": 1, \"18\": 2, \"15\": 9, \"54\": 2, \"21\": 1, \"34\": 1, \"30\": 5, \"5\": 1, \"16\": 2, \"8\": 2}, \"1\": {\"26\": 3, \"1\": 50, \"56\": 16, \"19\": 8, \"8\": 5, \"9\": 2, \"55\": 4, \"57\": 4, \"48\": 1, \"45\": 2, \"29\": 2, \"18\": 1, \"54\": 1, \"50\": 1}, \"50\": {\"50\": 134, \"48\": 11, \"2\": 1, \"6\": 5, \"17\": 1}, \"12\": {\"51\": 5, \"12\": 69, \"53\": 12, \"6\": 5, \"9\": 3, \"5\": 8, \"16\": 4, \"54\": 4, \"48\": 4, \"30\": 1, \"37\": 1}, \"18\": {\"18\": 66, \"30\": 4, \"16\": 2}, \"38\": {\"49\": 5, \"38\": 15, \"0\": 2, \"22\": 1, \"35\": 1}, \"14\": {\"14\": 7, \"30\": 1, \"16\": 1, \"18\": 5, \"9\": 3, \"5\": 2, \"34\": 1, \"53\": 2, \"17\": 2}, \"56\": {\"56\": 65, \"1\": 16, \"42\": 2, \"6\": 1, \"19\": 11, \"18\": 1, \"50\": 5, \"57\": 14, \"20\": 1, \"55\": 5, \"8\": 2, \"44\": 3, \"16\": 3, \"29\": 6, \"46\": 3, \"4\": 1, \"45\": 2, \"53\": 1}, \"55\": {\"55\": 100, \"14\": 1, \"50\": 1, \"56\": 3, \"53\": 8, \"12\": 9, \"46\": 4, \"9\": 1, \"19\": 7, \"54\": 2, \"6\": 2, \"48\": 4, \"51\": 8, \"45\": 2, \"1\": 1, \"41\": 1, \"8\": 2, \"18\": 1, \"0\": 1, \"16\": 2}, \"9\": {\"9\": 136, \"5\": 1, \"30\": 1}, \"15\": {\"15\": 98, \"21\": 15, \"54\": 5, \"23\": 19, \"0\": 1, \"5\": 6, \"7\": 1, \"36\": 1}, \"28\": {\"28\": 28}, \"7\": {\"5\": 5, \"18\": 3, \"7\": 18, \"30\": 2}, \"43\": {\"43\": 128, \"27\": 8}, \"22\": {\"10\": 8, \"22\": 64, \"49\": 3, \"39\": 1, \"24\": 10, \"52\": 11, \"21\": 3, \"11\": 16, \"15\": 6, \"0\": 11, \"38\": 1, \"27\": 1, \"43\": 1}}, \"C_3\": {\"1\": {\"5\": 6, \"1\": 41, \"27\": 3, \"35\": 4, \"34\": 2, \"46\": 3, \"9\": 4, \"3\": 1, \"4\": 2, \"57\": 6, \"17\": 1, \"23\": 2, \"47\": 4, \"0\": 3, \"50\": 5, \"29\": 4, \"52\": 1, \"12\": 1, \"48\": 2, \"19\": 2, \"11\": 2, \"8\": 1}, \"9\": {\"38\": 1, \"9\": 89, \"33\": 1, \"1\": 1, \"28\": 2, \"6\": 1, \"12\": 1, \"8\": 3, \"57\": 2, \"4\": 10, \"21\": 1, \"3\": 3, \"51\": 2, \"5\": 3, \"52\": 2, \"29\": 1, \"30\": 1}, \"22\": {\"22\": 122, \"10\": 3, \"24\": 7, \"43\": 1, \"14\": 3}, \"43\": {\"43\": 127, \"7\": 3, \"24\": 3, \"0\": 3}, \"49\": {\"49\": 18, \"57\": 2}, \"50\": {\"8\": 11, \"50\": 42, \"36\": 15, \"52\": 5, \"26\": 1, \"20\": 9, \"54\": 2, \"34\": 1, \"30\": 9, \"57\": 1, \"18\": 5, \"27\": 3, \"21\": 4, \"12\": 3, \"23\": 3, \"17\": 3, \"46\": 2, \"16\": 3, \"25\": 10, \"38\": 1, \"6\": 2, \"5\": 2, \"15\": 1}, \"53\": {\"53\": 106, \"50\": 4, \"51\": 8, \"21\": 7, \"8\": 4, \"17\": 1, \"36\": 1, \"12\": 1, \"25\": 2, \"54\": 2}, \"10\": {\"10\": 63, \"24\": 1}, \"48\": {\"48\": 47, \"30\": 15, \"23\": 4, \"17\": 7, \"41\": 4, \"36\": 4, \"5\": 1, \"2\": 1, \"52\": 10, \"20\": 9, \"6\": 4, \"3\": 1, \"16\": 2, \"46\": 2, \"29\": 1, \"18\": 2, \"54\": 1, \"15\": 1}, \"8\": {\"8\": 91, \"12\": 3, \"36\": 9, \"54\": 4, \"27\": 3, \"50\": 10, \"16\": 2, \"18\": 2, \"30\": 6, \"23\": 1, \"52\": 3, \"20\": 3, \"26\": 1}, \"31\": {\"31\": 28}, \"56\": {\"56\": 132, \"13\": 1, \"22\": 1}, \"25\": {\"25\": 40, \"38\": 5, \"9\": 1, \"2\": 2, \"53\": 6, \"52\": 8, \"20\": 5, \"17\": 13, \"12\": 7, \"21\": 6, \"36\": 11, \"50\": 7, \"51\": 6, \"3\": 5, \"23\": 4, \"55\": 1, \"30\": 3, \"54\": 4, \"4\": 2, \"37\": 1, \"46\": 1, \"40\": 1, \"27\": 2, \"48\": 1}, \"28\": {\"9\": 1, \"28\": 15, \"33\": 2, \"1\": 2, \"32\": 3, \"46\": 1, \"5\": 2, \"0\": 1, \"57\": 1}, \"38\": {\"38\": 28}, \"5\": {\"1\": 5, \"5\": 44, \"25\": 2, \"27\": 8, \"47\": 2, \"26\": 3, \"46\": 6, \"57\": 7, \"50\": 3, \"16\": 6, \"52\": 1, \"3\": 3, \"18\": 4, \"11\": 1, \"48\": 4, \"9\": 2, \"8\": 4, \"6\": 2, \"29\": 2, \"20\": 2, \"35\": 1, \"12\": 1, \"17\": 2, \"30\": 1}, \"12\": {\"38\": 1, \"12\": 80, \"17\": 1, \"36\": 2, \"54\": 3, \"52\": 2, \"20\": 2, \"8\": 1}, \"6\": {\"6\": 18, \"32\": 1, \"3\": 3, \"37\": 1, \"16\": 4, \"30\": 2, \"27\": 2, \"28\": 1, \"18\": 6, \"41\": 4, \"12\": 3, \"52\": 4, \"51\": 1, \"47\": 2, \"54\": 4, \"23\": 7, \"4\": 2, \"50\": 1, \"21\": 3, \"20\": 3, \"53\": 2, \"19\": 1, \"57\": 2, \"36\": 1, \"26\": 1, \"34\": 1, \"48\": 2, \"17\": 2, \"25\": 1, \"46\": 1, \"44\": 1, \"9\": 1}, \"19\": {\"19\": 111, \"35\": 5, \"32\": 1, \"4\": 9, \"45\": 2, \"3\": 2, \"1\": 1, \"57\": 3, \"29\": 10, \"8\": 1, \"9\": 3, \"25\": 1, \"50\": 1, \"40\": 1, \"21\": 1}, \"26\": {\"26\": 8, \"16\": 2, \"48\": 3, \"36\": 1, \"54\": 1, \"50\": 1, \"20\": 1, \"52\": 1, \"33\": 1, \"6\": 1, \"18\": 2, \"27\": 1, \"46\": 1}, \"32\": {\"32\": 18, \"17\": 1, \"38\": 1, \"27\": 4, \"36\": 3, \"5\": 1}, \"33\": {\"33\": 21, \"46\": 1, \"28\": 1, \"38\": 2, \"36\": 1, \"9\": 1, \"20\": 1}, \"3\": {\"6\": 5, \"16\": 8, \"18\": 10, \"35\": 3, \"3\": 18, \"12\": 3, \"5\": 1, \"46\": 1, \"1\": 1, \"52\": 6, \"21\": 3, \"25\": 3, \"27\": 2, \"15\": 1, \"50\": 1, \"53\": 5, \"36\": 5, \"19\": 3, \"23\": 12, \"17\": 1, \"57\": 3, \"29\": 4, \"30\": 1, \"9\": 3, \"45\": 1, \"41\": 2, \"8\": 3, \"4\": 6, \"11\": 1, \"47\": 1, \"54\": 1}, \"51\": {\"51\": 113, \"6\": 1, \"53\": 6, \"20\": 1, \"8\": 3, \"25\": 1, \"50\": 1, \"27\": 1, \"21\": 1}, \"16\": {\"16\": 123, \"52\": 3, \"23\": 9, \"15\": 1, \"18\": 1, \"46\": 1}, \"46\": {\"16\": 10, \"2\": 3, \"36\": 2, \"37\": 1, \"48\": 2, \"38\": 2, \"46\": 46, \"23\": 5, \"26\": 1, \"11\": 8, \"20\": 5, \"30\": 7, \"25\": 2, \"15\": 3, \"21\": 4, \"50\": 10, \"27\": 2, \"18\": 2, \"1\": 3, \"57\": 2, \"53\": 3, \"5\": 2, \"8\": 2, \"6\": 3, \"17\": 2, \"12\": 3, \"29\": 1, \"51\": 2, \"54\": 1, \"52\": 1}, \"7\": {\"7\": 27, \"0\": 2, \"43\": 2, \"46\": 1, \"33\": 1, \"49\": 1, \"15\": 1, \"34\": 1}, \"47\": {\"47\": 33, \"39\": 1, \"23\": 7, \"57\": 4, \"48\": 4, \"16\": 7, \"38\": 1, \"41\": 1, \"18\": 3, \"20\": 3, \"26\": 1, \"52\": 7, \"27\": 3, \"50\": 2, \"0\": 2, \"1\": 1, \"11\": 2, \"15\": 5, \"25\": 1, \"6\": 1, \"46\": 1, \"8\": 2}, \"39\": {\"39\": 16}, \"40\": {\"40\": 122, \"4\": 2, \"55\": 3, \"19\": 2, \"3\": 1, \"53\": 1, \"6\": 1, \"51\": 1, \"21\": 1, \"44\": 1, \"5\": 1}, \"14\": {\"40\": 2, \"43\": 1, \"14\": 18, \"29\": 1, \"19\": 2, \"13\": 2, \"31\": 1, \"55\": 3, \"56\": 3, \"10\": 3, \"22\": 3, \"44\": 1}, \"37\": {\"21\": 4, \"37\": 20, \"25\": 1, \"54\": 1, \"20\": 1, \"53\": 1}, \"2\": {\"2\": 18, \"54\": 1, \"12\": 7, \"38\": 1, \"16\": 2, \"26\": 1, \"20\": 2}, \"21\": {\"21\": 59, \"38\": 6, \"2\": 2, \"20\": 5, \"51\": 6, \"50\": 7, \"12\": 2, \"53\": 9, \"36\": 6, \"17\": 1, \"18\": 1, \"8\": 2, \"25\": 4, \"27\": 2, \"6\": 2, \"37\": 1, \"46\": 2, \"54\": 2, \"16\": 1}, \"35\": {\"35\": 23, \"1\": 2, \"32\": 1, \"19\": 1, \"57\": 1}, \"54\": {\"54\": 96, \"20\": 2, \"18\": 1, \"30\": 1}, \"52\": {\"52\": 97, \"16\": 8, \"30\": 4, \"18\": 4, \"23\": 1, \"20\": 1, \"6\": 1}, \"29\": {\"29\": 82, \"28\": 1, \"27\": 1, \"8\": 4, \"36\": 1, \"19\": 13, \"9\": 5, \"50\": 1, \"57\": 2, \"3\": 2, \"4\": 2, \"17\": 1, \"35\": 1, \"5\": 1, \"1\": 1}, \"20\": {\"20\": 109, \"30\": 9, \"18\": 2, \"54\": 3, \"52\": 5, \"23\": 1, \"16\": 2, \"8\": 1}, \"18\": {\"18\": 67, \"30\": 9, \"52\": 8}, \"11\": {\"52\": 12, \"11\": 80, \"20\": 3, \"30\": 2, \"18\": 2, \"15\": 22, \"16\": 15, \"23\": 4, \"48\": 1, \"41\": 1}, \"0\": {\"0\": 82, \"23\": 6, \"16\": 3, \"34\": 1, \"11\": 16, \"48\": 4, \"43\": 1, \"47\": 5, \"15\": 6}, \"36\": {\"36\": 100}, \"17\": {\"17\": 108}, \"30\": {\"30\": 99, \"18\": 9, \"23\": 1, \"16\": 1, \"52\": 3, \"20\": 1}, \"42\": {\"42\": 23, \"37\": 1, \"6\": 3, \"48\": 1}, \"45\": {\"4\": 5, \"28\": 2, \"32\": 5, \"45\": 26, \"6\": 3, \"35\": 2, \"5\": 2, \"19\": 2, \"18\": 1, \"29\": 2, \"9\": 1, \"25\": 1, \"51\": 1, \"57\": 1, \"8\": 2, \"2\": 1, \"12\": 1, \"3\": 1, \"36\": 1}, \"4\": {\"19\": 17, \"4\": 83, \"9\": 15, \"32\": 3, \"5\": 6, \"25\": 1, \"3\": 1, \"27\": 2, \"53\": 2, \"6\": 1, \"1\": 6, \"8\": 5, \"50\": 2, \"51\": 2, \"45\": 1, \"18\": 1}, \"23\": {\"23\": 130, \"18\": 2, \"25\": 1, \"27\": 1}, \"13\": {\"13\": 127, \"40\": 1}, \"15\": {\"23\": 10, \"15\": 107, \"16\": 5, \"52\": 3, \"11\": 1, \"47\": 1, \"57\": 1}, \"57\": {\"5\": 9, \"57\": 67, \"2\": 1, \"47\": 3, \"28\": 1, \"32\": 1, \"3\": 10, \"27\": 6, \"1\": 7, \"9\": 6, \"20\": 1, \"29\": 3, \"8\": 1, \"50\": 2, \"38\": 1, \"46\": 1, \"34\": 2, \"12\": 1, \"26\": 1}, \"27\": {\"36\": 6, \"17\": 6, \"48\": 8, \"27\": 93, \"8\": 6, \"12\": 3, \"52\": 2, \"6\": 3, \"30\": 1, \"20\": 1, \"50\": 2, \"18\": 1, \"47\": 1, \"16\": 1}, \"44\": {\"9\": 2, \"13\": 1, \"4\": 6, \"44\": 44, \"45\": 2, \"40\": 12, \"6\": 1, \"19\": 9, \"51\": 2, \"55\": 1, \"1\": 3, \"57\": 1, \"14\": 2, \"3\": 1, \"5\": 1}, \"34\": {\"34\": 31, \"23\": 1}, \"41\": {\"6\": 2, \"41\": 18, \"48\": 2, \"17\": 1, \"52\": 1, \"30\": 2, \"34\": 1, \"46\": 1}, \"24\": {\"24\": 79, \"47\": 1, \"7\": 3, \"10\": 5, \"43\": 8, \"22\": 2, \"46\": 1, \"11\": 1, \"49\": 1, \"1\": 1, \"0\": 2}, \"55\": {\"55\": 108, \"19\": 4, \"44\": 2, \"40\": 3, \"29\": 1}}, \"C_4\": {\"52\": {\"52\": 109, \"5\": 2, \"15\": 2, \"23\": 3}, \"6\": {\"25\": 2, \"6\": 19, \"54\": 10, \"53\": 3, \"27\": 4, \"36\": 8, \"4\": 5, \"41\": 1, \"45\": 1, \"23\": 6, \"18\": 9, \"50\": 5, \"20\": 4, \"5\": 4, \"21\": 2, \"3\": 5, \"16\": 1, \"8\": 3, \"51\": 2, \"52\": 1, \"48\": 3, \"46\": 1, \"39\": 1, \"42\": 1, \"28\": 1, \"15\": 2, \"30\": 1, \"55\": 1, \"17\": 1, \"12\": 2, \"9\": 1, \"29\": 1, \"57\": 1}, \"14\": {\"25\": 1, \"45\": 1, \"14\": 3, \"31\": 1, \"43\": 1, \"19\": 3, \"22\": 1, \"38\": 2, \"10\": 1, \"55\": 1, \"29\": 1}, \"49\": {\"49\": 17, \"52\": 1, \"1\": 1, \"4\": 1}, \"0\": {\"24\": 5, \"0\": 58, \"10\": 2, \"43\": 9, \"11\": 1, \"15\": 1, \"46\": 2, \"22\": 1, \"2\": 1}, \"46\": {\"52\": 21, \"36\": 3, \"14\": 1, \"18\": 2, \"15\": 24, \"23\": 11, \"46\": 36, \"11\": 6, \"42\": 1, \"43\": 6, \"10\": 6, \"47\": 3, \"16\": 14, \"0\": 2, \"21\": 1, \"57\": 1, \"5\": 2, \"29\": 1, \"20\": 2, \"54\": 4, \"56\": 3, \"6\": 1, \"41\": 1, \"35\": 1, \"24\": 1, \"22\": 1, \"55\": 1}, \"41\": {\"41\": 36}, \"24\": {\"24\": 28, \"46\": 3, \"49\": 1, \"43\": 5, \"7\": 1, \"34\": 1, \"0\": 3, \"11\": 7, \"47\": 1, \"10\": 1, \"14\": 1, \"22\": 1, \"2\": 1, \"1\": 1, \"36\": 1}, \"25\": {\"25\": 57, \"6\": 1, \"30\": 3, \"16\": 6, \"17\": 6, \"54\": 2, \"12\": 10, \"21\": 15, \"45\": 1, \"8\": 3, \"50\": 4, \"53\": 6, \"23\": 3, \"18\": 1, \"3\": 5, \"15\": 7, \"48\": 10, \"20\": 4, \"46\": 1, \"5\": 2, \"36\": 2, \"51\": 3}, \"40\": {\"40\": 118, \"44\": 5, \"55\": 10, \"9\": 1, \"5\": 1, \"19\": 1, \"3\": 1, \"50\": 1}, \"38\": {\"13\": 3, \"0\": 2, \"38\": 34, \"10\": 1}, \"13\": {\"13\": 145, \"38\": 1, \"10\": 3, \"2\": 1, \"56\": 2}, \"9\": {\"9\": 82, \"19\": 1, \"4\": 11, \"50\": 3, \"29\": 3, \"5\": 2, \"45\": 3, \"17\": 1, \"53\": 2}, \"45\": {\"45\": 52, \"8\": 3, \"33\": 2, \"3\": 3, \"9\": 7, \"48\": 1, \"55\": 1, \"44\": 2, \"6\": 4, \"19\": 4, \"4\": 5, \"21\": 2, \"51\": 1, \"37\": 1, \"50\": 5, \"27\": 2, \"17\": 1}, \"43\": {\"24\": 5, \"43\": 128, \"46\": 1, \"7\": 1, \"0\": 6, \"22\": 1, \"6\": 1, \"11\": 1}, \"10\": {\"10\": 130}, \"15\": {\"15\": 111, \"46\": 2, \"16\": 6, \"52\": 5, \"23\": 3, \"3\": 1}, \"39\": {\"39\": 19, \"16\": 1}, \"4\": {\"4\": 63, \"9\": 13, \"8\": 5, \"27\": 14, \"26\": 1, \"50\": 5, \"3\": 5, \"48\": 6, \"45\": 2, \"29\": 6, \"21\": 2, \"5\": 1, \"6\": 3, \"44\": 1, \"57\": 1, \"17\": 3, \"19\": 1}, \"53\": {\"53\": 88, \"27\": 1, \"51\": 19, \"3\": 3, \"21\": 2, \"25\": 5, \"12\": 2, \"36\": 2, \"8\": 4, \"5\": 1, \"50\": 1, \"20\": 1, \"6\": 2, \"55\": 1}, \"1\": {\"11\": 5, \"1\": 25, \"49\": 2, \"30\": 1, \"47\": 2, \"36\": 1, \"35\": 1, \"31\": 1, \"41\": 1, \"39\": 1}, \"28\": {\"28\": 23, \"12\": 2, \"32\": 1, \"4\": 3, \"3\": 1, \"21\": 1, \"25\": 1}, \"54\": {\"54\": 102, \"18\": 2, \"15\": 1, \"16\": 2, \"3\": 1}, \"21\": {\"21\": 102, \"12\": 2, \"30\": 7, \"18\": 6, \"36\": 3, \"20\": 5, \"8\": 1, \"54\": 4, \"42\": 1, \"23\": 1}, \"7\": {\"7\": 15, \"46\": 1, \"36\": 1, \"34\": 1, \"1\": 2, \"35\": 1, \"48\": 1, \"11\": 1, \"57\": 1}, \"8\": {\"8\": 71, \"54\": 3, \"30\": 8, \"27\": 2, \"20\": 14, \"18\": 12, \"48\": 2, \"36\": 6, \"47\": 2, \"52\": 2, \"6\": 2, \"42\": 1, \"21\": 1, \"23\": 5, \"12\": 4, \"3\": 1}, \"42\": {\"39\": 1, \"42\": 26, \"23\": 1, \"18\": 1, \"16\": 3}, \"11\": {\"11\": 76, \"23\": 3, \"15\": 9, \"43\": 3, \"16\": 1, \"52\": 3, \"18\": 1, \"5\": 2, \"46\": 2, \"3\": 1, \"54\": 1, \"20\": 2}, \"33\": {\"33\": 32, \"19\": 3, \"57\": 1}, \"27\": {\"21\": 5, \"27\": 77, \"42\": 5, \"34\": 3, \"46\": 1, \"30\": 3, \"54\": 2, \"12\": 1, \"36\": 3, \"17\": 1, \"23\": 1, \"48\": 25, \"5\": 1, \"18\": 2, \"20\": 5, \"6\": 1, \"8\": 4, \"52\": 2}, \"19\": {\"9\": 7, \"19\": 98, \"33\": 4, \"44\": 7, \"28\": 1, \"29\": 10, \"51\": 1, \"55\": 2, \"57\": 1, \"4\": 7, \"5\": 1, \"35\": 3, \"40\": 1, \"27\": 1}, \"2\": {\"2\": 14, \"22\": 3, \"0\": 3, \"11\": 1, \"10\": 4, \"49\": 2, \"24\": 3, \"43\": 3, \"38\": 2, \"46\": 1}, \"3\": {\"4\": 1, \"3\": 18, \"23\": 20, \"16\": 4, \"25\": 1, \"54\": 17, \"12\": 2, \"42\": 3, \"55\": 1, \"18\": 17, \"27\": 2, \"48\": 4, \"8\": 3, \"36\": 4, \"52\": 2, \"20\": 6, \"47\": 1, \"21\": 2, \"51\": 7, \"15\": 2, \"6\": 1, \"34\": 1, \"5\": 1}, \"57\": {\"57\": 66, \"28\": 4, \"8\": 1, \"35\": 8, \"3\": 1, \"5\": 1, \"47\": 2, \"46\": 1, \"29\": 5, \"53\": 1, \"4\": 1, \"6\": 2, \"27\": 3, \"49\": 1, \"1\": 1, \"16\": 1, \"48\": 1}, \"20\": {\"20\": 53, \"3\": 1, \"8\": 8, \"30\": 6, \"36\": 5, \"18\": 17, \"21\": 6, \"54\": 3, \"4\": 1, \"23\": 9, \"42\": 1, \"52\": 1, \"25\": 1}, \"23\": {\"23\": 117, \"52\": 3, \"18\": 7, \"16\": 1}, \"22\": {\"22\": 99, \"38\": 1, \"43\": 9, \"0\": 4, \"11\": 2, \"10\": 6, \"56\": 2, \"47\": 1, \"15\": 2, \"13\": 2}, \"29\": {\"28\": 1, \"57\": 4, \"45\": 1, \"26\": 1, \"33\": 1, \"29\": 62, \"52\": 1, \"19\": 8, \"35\": 5, \"17\": 1, \"3\": 2, \"27\": 4, \"9\": 3, \"6\": 1, \"4\": 14, \"5\": 1, \"48\": 3, \"47\": 1, \"20\": 1, \"1\": 2, \"8\": 2, \"50\": 2, \"44\": 3}, \"36\": {\"36\": 61, \"54\": 7, \"16\": 1, \"52\": 1, \"18\": 10, \"44\": 1, \"20\": 2, \"3\": 2, \"23\": 3, \"30\": 3, \"45\": 1}, \"51\": {\"51\": 105, \"53\": 13, \"30\": 1, \"8\": 2, \"21\": 4, \"50\": 3, \"27\": 1, \"12\": 1, \"20\": 1, \"15\": 1}, \"31\": {\"31\": 26, \"53\": 1, \"50\": 1}, \"12\": {\"12\": 82, \"30\": 3, \"36\": 4, \"42\": 1, \"20\": 2}, \"56\": {\"56\": 123, \"38\": 1, \"14\": 1, \"10\": 6, \"13\": 7}, \"5\": {\"12\": 1, \"39\": 3, \"15\": 9, \"32\": 1, \"54\": 6, \"42\": 1, \"30\": 1, \"21\": 2, \"17\": 1, \"5\": 27, \"8\": 4, \"18\": 6, \"16\": 11, \"23\": 11, \"52\": 9, \"10\": 1, \"57\": 1, \"3\": 4, \"29\": 1, \"36\": 1, \"46\": 2, \"20\": 2, \"41\": 1, \"6\": 1, \"0\": 1}, \"35\": {\"35\": 31, \"4\": 1, \"1\": 2, \"19\": 1, \"40\": 1, \"28\": 2, \"57\": 2}, \"17\": {\"17\": 60, \"30\": 1, \"12\": 3, \"3\": 2, \"52\": 2, \"27\": 3, \"5\": 2, \"54\": 1, \"18\": 2, \"6\": 1, \"8\": 1, \"21\": 1, \"48\": 1}, \"32\": {\"36\": 1, \"32\": 22, \"46\": 1}, \"47\": {\"52\": 14, \"47\": 67, \"39\": 2, \"23\": 6, \"41\": 1, \"42\": 2, \"16\": 6, \"27\": 2, \"5\": 5, \"18\": 2, \"46\": 5, \"3\": 2, \"15\": 5, \"1\": 1}, \"18\": {\"18\": 91, \"6\": 1, \"23\": 7, \"40\": 1, \"4\": 1, \"52\": 1, \"54\": 3, \"16\": 1, \"5\": 2}, \"26\": {\"26\": 15, \"27\": 3, \"34\": 3, \"3\": 1, \"21\": 1, \"47\": 1}, \"50\": {\"50\": 30, \"4\": 2, \"45\": 1, \"34\": 3, \"12\": 6, \"42\": 1, \"8\": 9, \"30\": 1, \"6\": 3, \"21\": 8, \"36\": 3, \"20\": 6, \"5\": 3, \"27\": 12, \"51\": 6, \"3\": 5, \"53\": 6, \"18\": 2, \"25\": 2, \"52\": 1, \"9\": 5, \"28\": 1, \"48\": 3, \"47\": 1, \"23\": 1, \"11\": 1}, \"55\": {\"55\": 113, \"40\": 2, \"19\": 5, \"9\": 1, \"6\": 1, \"44\": 2}, \"34\": {\"34\": 21, \"27\": 1, \"18\": 1, \"23\": 1}, \"30\": {\"30\": 31, \"54\": 2, \"36\": 3, \"12\": 2, \"8\": 4, \"18\": 2}, \"37\": {\"37\": 24}, \"44\": {\"33\": 1, \"29\": 9, \"19\": 13, \"44\": 64, \"25\": 1, \"40\": 6, \"57\": 1, \"45\": 2, \"5\": 4, \"53\": 7, \"3\": 1, \"55\": 5, \"4\": 7, \"6\": 1, \"51\": 1, \"35\": 1, \"20\": 1, \"9\": 6, \"36\": 1}, \"48\": {\"18\": 6, \"36\": 3, \"54\": 3, \"3\": 5, \"33\": 1, \"48\": 62, \"17\": 1, \"27\": 12, \"21\": 5, \"20\": 2, \"52\": 2, \"46\": 1, \"25\": 2, \"6\": 4, \"30\": 1, \"42\": 2, \"44\": 1, \"5\": 1, \"15\": 1, \"55\": 1, \"23\": 2}, \"16\": {\"16\": 91, \"23\": 3, \"52\": 1, \"41\": 1}}, \"C_2\": {\"11\": {\"39\": 1, \"11\": 81, \"15\": 14, \"23\": 8, \"16\": 10, \"30\": 5, \"52\": 6, \"7\": 2, \"6\": 2, \"18\": 1}, \"21\": {\"21\": 60, \"18\": 3, \"36\": 21, \"26\": 3, \"30\": 7, \"16\": 6, \"2\": 2, \"52\": 5, \"23\": 1, \"50\": 2, \"25\": 2, \"6\": 3, \"51\": 1, \"27\": 1, \"54\": 3}, \"19\": {\"19\": 95, \"3\": 4, \"1\": 3, \"18\": 1, \"29\": 9, \"45\": 2, \"46\": 1, \"40\": 3, \"4\": 9, \"9\": 6, \"31\": 1, \"53\": 1, \"55\": 1, \"8\": 1, \"51\": 1, \"5\": 1, \"44\": 1}, \"20\": {\"20\": 79, \"49\": 1, \"51\": 8, \"50\": 2, \"18\": 2, \"21\": 3, \"36\": 10, \"8\": 9, \"27\": 4, \"16\": 2, \"52\": 2, \"12\": 1, \"6\": 2, \"45\": 1, \"30\": 2}, \"9\": {\"9\": 107, \"33\": 1, \"29\": 4, \"45\": 3, \"4\": 8, \"51\": 2, \"53\": 2, \"19\": 11, \"25\": 1, \"1\": 1}, \"10\": {\"10\": 112}, \"37\": {\"37\": 36}, \"32\": {\"32\": 13, \"2\": 3, \"26\": 2, \"36\": 1, \"27\": 5, \"57\": 1, \"17\": 2, \"8\": 1}, \"3\": {\"39\": 1, \"20\": 1, \"47\": 1, \"29\": 3, \"18\": 7, \"57\": 1, \"41\": 3, \"27\": 5, \"37\": 1, \"54\": 3, \"30\": 6, \"1\": 1, \"19\": 2, \"52\": 4, \"5\": 3, \"8\": 3, \"45\": 5, \"3\": 9, \"4\": 2, \"21\": 1, \"23\": 4, \"44\": 2, \"51\": 3, \"16\": 6, \"15\": 1, \"48\": 1, \"17\": 2, \"9\": 1, \"49\": 1, \"6\": 4, \"32\": 2, \"12\": 1, \"55\": 1, \"36\": 1}, \"39\": {\"39\": 28}, \"45\": {\"9\": 19, \"3\": 3, \"50\": 4, \"4\": 17, \"45\": 44, \"1\": 2, \"53\": 4, \"20\": 2, \"8\": 7, \"27\": 3, \"29\": 1, \"6\": 1, \"19\": 7, \"25\": 4, \"32\": 1, \"37\": 1, \"16\": 1, \"12\": 3, \"46\": 1, \"57\": 1, \"54\": 1, \"48\": 1}, \"50\": {\"12\": 3, \"21\": 10, \"46\": 2, \"54\": 15, \"34\": 1, \"6\": 9, \"27\": 12, \"26\": 4, \"8\": 3, \"41\": 1, \"36\": 13, \"17\": 5, \"50\": 31, \"53\": 2, \"48\": 2, \"52\": 2, \"30\": 8, \"25\": 1, \"16\": 5, \"15\": 1, \"18\": 1, \"2\": 2, \"20\": 2, \"5\": 1}, \"40\": {\"40\": 117, \"19\": 6, \"35\": 4, \"3\": 1, \"4\": 1, \"55\": 2, \"29\": 1, \"45\": 4, \"25\": 2, \"13\": 1, \"44\": 1}, \"46\": {\"46\": 48, \"23\": 4, \"17\": 1, \"16\": 2, \"36\": 12, \"9\": 1, \"29\": 3, \"12\": 3, \"57\": 7, \"54\": 3, \"8\": 3, \"5\": 3, \"51\": 2, \"50\": 3, \"30\": 3, \"21\": 3, \"1\": 2, \"55\": 1, \"27\": 2, \"6\": 8, \"15\": 2, \"20\": 2, \"44\": 1, \"18\": 1, \"41\": 1, \"42\": 2, \"34\": 1, \"0\": 1, \"3\": 2, \"4\": 1}, \"12\": {\"12\": 83, \"36\": 5, \"50\": 1, \"6\": 1, \"8\": 1, \"20\": 1}, \"13\": {\"13\": 116}, \"47\": {\"46\": 1, \"47\": 60, \"39\": 1, \"16\": 13, \"20\": 1, \"11\": 2, \"57\": 6, \"0\": 2, \"52\": 4, \"17\": 4, \"5\": 4, \"30\": 3, \"23\": 10, \"8\": 1, \"15\": 3, \"1\": 2, \"27\": 8, \"28\": 1, \"50\": 1, \"34\": 1, \"12\": 1, \"48\": 2, \"6\": 1}, \"15\": {\"15\": 132, \"16\": 3, \"52\": 4, \"23\": 3}, \"54\": {\"54\": 105, \"30\": 1, \"52\": 1, \"6\": 1}, \"48\": {\"27\": 5, \"54\": 13, \"48\": 81, \"17\": 6, \"30\": 13, \"6\": 16, \"23\": 6, \"36\": 2, \"15\": 3, \"2\": 1, \"41\": 1, \"52\": 1}, \"23\": {\"23\": 129, \"52\": 6, \"30\": 5, \"16\": 2}, \"29\": {\"47\": 1, \"29\": 92, \"19\": 10, \"27\": 1, \"9\": 5, \"57\": 5, \"4\": 7, \"50\": 1, \"3\": 1, \"8\": 1, \"16\": 1, \"5\": 1, \"1\": 1, \"45\": 1}, \"38\": {\"38\": 20}, \"53\": {\"53\": 112, \"26\": 1, \"25\": 2, \"16\": 1, \"36\": 6, \"8\": 6, \"50\": 4, \"51\": 3, \"49\": 1}, \"27\": {\"27\": 75, \"49\": 1, \"18\": 2, \"54\": 3, \"2\": 3, \"17\": 12, \"6\": 7, \"36\": 14, \"12\": 4, \"30\": 12, \"48\": 15, \"3\": 1, \"52\": 1}, \"43\": {\"43\": 140, \"24\": 3, \"56\": 1}, \"35\": {\"35\": 22, \"40\": 5, \"14\": 1, \"33\": 1, \"44\": 2, \"4\": 1}, \"0\": {\"52\": 1, \"0\": 22, \"34\": 3, \"30\": 1, \"6\": 1, \"15\": 7, \"16\": 4, \"7\": 5, \"11\": 2, \"23\": 1, \"57\": 1}, \"52\": {\"52\": 98, \"15\": 10, \"16\": 7, \"7\": 1, \"6\": 1, \"30\": 1, \"23\": 4, \"18\": 2}, \"8\": {\"8\": 77, \"18\": 2, \"30\": 7, \"50\": 4, \"34\": 1, \"49\": 1, \"16\": 4, \"12\": 5, \"36\": 4, \"20\": 7, \"17\": 1, \"6\": 1, \"27\": 4, \"51\": 4, \"54\": 1, \"52\": 2, \"2\": 2, \"48\": 1}, \"24\": {\"10\": 9, \"24\": 69, \"43\": 13, \"47\": 1, \"38\": 1, \"46\": 2, \"5\": 1}, \"18\": {\"18\": 43, \"30\": 3, \"41\": 1, \"23\": 1}, \"25\": {\"53\": 11, \"18\": 3, \"25\": 41, \"49\": 3, \"51\": 8, \"54\": 5, \"21\": 9, \"30\": 13, \"2\": 1, \"12\": 9, \"20\": 6, \"36\": 9, \"52\": 1, \"6\": 8, \"8\": 2, \"3\": 3, \"48\": 3, \"50\": 6, \"23\": 1, \"17\": 1, \"15\": 1, \"46\": 1, \"26\": 1, \"45\": 1, \"16\": 1}, \"57\": {\"57\": 75, \"17\": 4, \"8\": 9, \"42\": 1, \"48\": 5, \"1\": 7, \"5\": 7, \"27\": 8, \"0\": 3, \"6\": 1, \"50\": 4, \"47\": 6, \"16\": 2, \"32\": 3, \"20\": 1}, \"55\": {\"37\": 2, \"55\": 118, \"44\": 4, \"29\": 1, \"19\": 5, \"33\": 1, \"14\": 1, \"40\": 2}, \"36\": {\"36\": 114, \"27\": 2}, \"17\": {\"17\": 65, \"49\": 2, \"6\": 6, \"36\": 1, \"48\": 13, \"30\": 6, \"54\": 2, \"27\": 5, \"16\": 1, \"52\": 1, \"18\": 1, \"12\": 1}, \"2\": {\"18\": 3, \"2\": 16, \"36\": 4, \"20\": 1, \"52\": 1, \"49\": 2, \"6\": 2, \"23\": 1, \"26\": 1, \"32\": 1}, \"34\": {\"34\": 23, \"11\": 1, \"28\": 1, \"52\": 1, \"17\": 1, \"8\": 1}, \"1\": {\"57\": 3, \"51\": 2, \"1\": 45, \"53\": 1, \"18\": 2, \"8\": 3, \"28\": 1, \"32\": 2, \"0\": 3, \"50\": 4, \"16\": 3, \"4\": 1, \"5\": 8, \"17\": 4, \"48\": 1, \"3\": 2, \"27\": 8, \"47\": 8, \"11\": 3, \"15\": 2, \"6\": 1, \"7\": 1, \"23\": 3, \"46\": 1}, \"51\": {\"51\": 107, \"36\": 3, \"20\": 3, \"54\": 1, \"49\": 1, \"21\": 3, \"50\": 5, \"27\": 2, \"30\": 1, \"53\": 5, \"8\": 3, \"25\": 1, \"12\": 1}, \"31\": {\"31\": 27, \"5\": 1}, \"49\": {\"49\": 10, \"41\": 2, \"12\": 1, \"30\": 3, \"39\": 2, \"16\": 1, \"18\": 3, \"6\": 2}, \"14\": {\"13\": 3, \"35\": 3, \"29\": 1, \"56\": 3, \"44\": 2, \"14\": 8, \"4\": 1, \"10\": 1, \"40\": 1, \"55\": 1}, \"33\": {\"19\": 3, \"33\": 19, \"9\": 3, \"29\": 1, \"57\": 1, \"45\": 1}, \"41\": {\"41\": 19, \"16\": 1}, \"28\": {\"28\": 23, \"0\": 1, \"11\": 1, \"34\": 1, \"6\": 1, \"42\": 1}, \"5\": {\"34\": 1, \"5\": 63, \"39\": 1, \"57\": 14, \"47\": 9, \"16\": 2, \"2\": 1, \"17\": 2, \"48\": 5, \"50\": 4, \"11\": 2, \"8\": 1, \"1\": 3, \"7\": 1, \"42\": 2, \"29\": 1, \"27\": 5, \"0\": 1, \"54\": 1, \"46\": 1}, \"16\": {\"16\": 139, \"23\": 4, \"52\": 4, \"15\": 2, \"30\": 1}, \"4\": {\"4\": 64, \"45\": 10, \"9\": 16, \"19\": 9, \"36\": 2, \"20\": 2, \"29\": 5, \"8\": 2, \"51\": 1, \"5\": 1, \"53\": 3, \"33\": 4, \"26\": 1, \"34\": 1, \"32\": 1, \"44\": 1, \"1\": 3, \"27\": 1, \"25\": 1}, \"22\": {\"22\": 115, \"14\": 1, \"56\": 11, \"10\": 5, \"13\": 4}, \"6\": {\"2\": 2, \"6\": 58, \"30\": 12, \"54\": 14, \"21\": 2, \"12\": 1, \"48\": 8, \"4\": 1, \"36\": 2, \"15\": 1, \"46\": 1, \"41\": 1, \"31\": 1, \"32\": 1, \"5\": 1, \"18\": 1, \"27\": 2, \"23\": 4, \"52\": 1, \"20\": 1, \"1\": 1, \"51\": 1, \"57\": 1}, \"30\": {\"30\": 113, \"52\": 6, \"16\": 2, \"6\": 2, \"23\": 1}, \"26\": {\"26\": 24}, \"56\": {\"56\": 125, \"22\": 15, \"13\": 2}, \"42\": {\"42\": 29, \"5\": 3, \"57\": 1, \"49\": 1, \"46\": 2}, \"44\": {\"9\": 3, \"4\": 6, \"44\": 45, \"45\": 4, \"55\": 7, \"1\": 3, \"50\": 2, \"40\": 9, \"29\": 4, \"5\": 3, \"51\": 1, \"19\": 6, \"37\": 1, \"35\": 3, \"32\": 1, \"25\": 1, \"8\": 1}, \"7\": {\"7\": 29, \"11\": 1, \"52\": 3, \"23\": 2, \"0\": 1}}}, \"per_domain_accuracy\": {\"O_26\": {\"accuracy\": 0.7252604166666666, \"source?\": true}, \"O_44\": {\"accuracy\": 0.7619791666666667, \"source?\": true}, \"O_50\": {\"accuracy\": 0.88046875, \"source?\": true}, \"O_38\": {\"accuracy\": 0.90390625, \"source?\": true}, \"O_20\": {\"accuracy\": 0.8322916666666667, \"source?\": true}, \"O_14\": {\"accuracy\": 0.9072916666666667, \"source?\": true}, \"O_32\": {\"accuracy\": 0.89140625, \"source?\": true}, \"O_8\": {\"accuracy\": 0.8549479166666667, \"source?\": true}, \"C_5\": {\"accuracy\": 0.684532122905028, \"source?\": false}, \"C_1\": {\"accuracy\": 0.75390625, \"source?\": false}, \"C_3\": {\"accuracy\": 0.6950367647058824, \"source?\": false}, \"C_4\": {\"accuracy\": 0.6692394578313253, \"source?\": false}, \"C_2\": {\"accuracy\": 0.68359375, \"source?\": false}}}, \"history\": {\"epoch_indices\": [1, 2, 3, 4, 5, 6, 7, 8, 9, 10, 11, 12], \"train_label_loss\": [0.9798419921481538, 0.9633667451462575, 0.6384819918844317, 0.55273273867178, 0.4918052748594034, 0.4488302372745238, 0.41319265046567166, 0.3753328498585948, 0.33712468991316635, 0.3134136722252671, 0.28730359210735296, 0.2711417136187222], \"source_val_label_loss\": [8.84559154510498, 0.8909115791320801, 0.6904474496841431, 0.5257295966148376, 0.49722611904144287, 0.4896501898765564, 0.4099856913089752, 0.4268237352371216, 0.3800460696220398, 0.3967651128768921, 0.37057673931121826, 0.36036592721939087], \"target_val_label_loss\": [2050.224609375, 162.60267639160156, 138.2627410888672, 136.6165008544922, 163.5720977783203, 143.2783660888672, 142.72328186035156, 142.53421020507812, 156.85638427734375, 143.75543212890625, 177.48204040527344, 180.66476440429688], \"source_val_acc_label\": [0.6636067708333333, 0.6716471354166667, 0.7439127604166667, 0.8081380208333333, 0.8197916666666667, 0.8210286458333333, 0.8513346354166667, 0.8446940104166667, 0.8608723958333333, 0.8563802083333333, 0.8663736979166666, 0.871875], \"target_val_acc_label\": [0.5249285714285714, 0.6198928571428571, 0.6635357142857143, 0.6661428571428571, 0.6339642857142858, 0.6670357142857143, 0.6757857142857143, 0.6980714285714286, 0.6815714285714286, 0.6725714285714286, 0.6878214285714286, 0.6943928571428571]}, \"dataset_metrics\": {\"source\": {\"train\": {\"n_unique_x\": 179200, \"n_unique_y\": 16, \"n_batch/episode\": 6720}, \"val\": {\"n_unique_x\": 38400, \"n_unique_y\": 16, \"n_batch/episode\": 960}, \"test\": {\"n_unique_x\": 38400, \"n_unique_y\": 16, \"n_batch/episode\": 960}}, \"target\": {\"train\": {\"n_unique_x\": 175203, \"n_unique_y\": 58, \"n_batch/episode\": 6321}, \"val\": {\"n_unique_x\": 37151, \"n_unique_y\": 58, \"n_batch/episode\": 875}, \"test\": {\"n_unique_x\": 37548, \"n_unique_y\": 58, \"n_batch/episode\": 885}}}}'"
      ]
     },
     "execution_count": 29,
     "metadata": {},
     "output_type": "execute_result"
    }
   ],
   "source": [
    "json.dumps(experiment)"
   ]
  }
 ],
 "metadata": {
  "celltoolbar": "Tags",
  "kernelspec": {
   "display_name": "Python 3 (ipykernel)",
   "language": "python",
   "name": "python3"
  },
  "language_info": {
   "codemirror_mode": {
    "name": "ipython",
    "version": 3
   },
   "file_extension": ".py",
   "mimetype": "text/x-python",
   "name": "python",
   "nbconvert_exporter": "python",
   "pygments_lexer": "ipython3",
   "version": "3.8.10"
  },
  "papermill": {
   "default_parameters": {},
   "duration": 3795.795183,
   "end_time": "2022-03-26T03:02:11.952893",
   "environment_variables": {},
   "exception": null,
   "input_path": "/mnt/wd500GB/CSC500/csc500-main/csc500-notebooks/templates/tl_ptn_template.ipynb",
   "output_path": "trial.ipynb",
   "parameters": {
    "parameters": {
     "BEST_MODEL_PATH": "./best_model.pth",
     "NUM_LOGS_PER_EPOCH": 10,
     "criteria_for_best": "target_accuracy",
     "dataset_seed": 7,
     "datasets": [
      {
       "domain_prefix": "C_",
       "domains": [
        1,
        2,
        3,
        4,
        5
       ],
       "episode_transforms": [],
       "labels": [
        "1-10.",
        "1-11.",
        "1-15.",
        "1-16.",
        "1-17.",
        "1-18.",
        "1-19.",
        "10-4.",
        "10-7.",
        "11-1.",
        "11-14.",
        "11-17.",
        "11-20.",
        "11-7.",
        "13-20.",
        "13-8.",
        "14-10.",
        "14-11.",
        "14-14.",
        "14-7.",
        "15-1.",
        "15-20.",
        "16-1.",
        "16-16.",
        "17-10.",
        "17-11.",
        "17-2.",
        "19-1.",
        "19-16.",
        "19-19.",
        "19-20.",
        "19-3.",
        "2-10.",
        "2-11.",
        "2-17.",
        "2-18.",
        "2-20.",
        "2-3.",
        "2-4.",
        "2-5.",
        "2-6.",
        "2-7.",
        "2-8.",
        "3-13.",
        "3-18.",
        "3-3.",
        "4-1.",
        "4-10.",
        "4-11.",
        "4-19.",
        "5-5.",
        "6-15.",
        "7-10.",
        "7-14.",
        "8-18.",
        "8-20.",
        "8-3.",
        "8-8."
       ],
       "num_examples_per_domain_per_label": -1,
       "pickle_path": "/mnt/wd500GB/CSC500/csc500-main/datasets/cores.stratified_ds.2022A.pkl",
       "source_or_target_dataset": "target",
       "x_transforms": [
        "unit_power",
        "lowpass_+/-10MHz",
        "take_200"
       ]
      },
      {
       "domain_prefix": "O_",
       "domains": [
        32,
        38,
        8,
        44,
        14,
        50,
        20,
        26
       ],
       "episode_transforms": [],
       "labels": [
        "3123D52",
        "3123D65",
        "3123D79",
        "3123D80",
        "3123D54",
        "3123D70",
        "3123D7B",
        "3123D89",
        "3123D58",
        "3123D76",
        "3123D7D",
        "3123EFE",
        "3123D64",
        "3123D78",
        "3123D7E",
        "3124E4A"
       ],
       "num_examples_per_domain_per_label": 2000,
       "pickle_path": "/mnt/wd500GB/CSC500/csc500-main/datasets/oracle.Run1_framed_2000Examples_stratified_ds.2022A.pkl",
       "source_or_target_dataset": "source",
       "x_transforms": [
        "unit_power",
        "take_200",
        "resample_20Msps_to_25Msps"
       ]
      }
     ],
     "device": "cuda",
     "experiment_name": "tl_3-filterv2:oracle.run1.framed -> cores",
     "lr": 0.0001,
     "n_epoch": 50,
     "n_query": 2,
     "n_shot": 3,
     "n_way": 16,
     "patience": 3,
     "seed": 7,
     "test_k_factor": 2,
     "torch_default_dtype": "torch.float32",
     "train_k_factor": 3,
     "val_k_factor": 2,
     "x_net": [
      {
       "class": "nnReshape",
       "kargs": {
        "shape": [
         -1,
         1,
         2,
         200
        ]
       }
      },
      {
       "class": "Conv2d",
       "kargs": {
        "bias": false,
        "in_channels": 1,
        "kernel_size": [
         1,
         7
        ],
        "out_channels": 256,
        "padding": [
         0,
         3
        ]
       }
      },
      {
       "class": "ReLU",
       "kargs": {
        "inplace": true
       }
      },
      {
       "class": "BatchNorm2d",
       "kargs": {
        "num_features": 256
       }
      },
      {
       "class": "Conv2d",
       "kargs": {
        "bias": true,
        "in_channels": 256,
        "kernel_size": [
         2,
         7
        ],
        "out_channels": 80,
        "padding": [
         0,
         3
        ]
       }
      },
      {
       "class": "ReLU",
       "kargs": {
        "inplace": true
       }
      },
      {
       "class": "BatchNorm2d",
       "kargs": {
        "num_features": 80
       }
      },
      {
       "class": "Flatten",
       "kargs": {}
      },
      {
       "class": "Linear",
       "kargs": {
        "in_features": 16000,
        "out_features": 256
       }
      },
      {
       "class": "ReLU",
       "kargs": {
        "inplace": true
       }
      },
      {
       "class": "BatchNorm1d",
       "kargs": {
        "num_features": 256
       }
      },
      {
       "class": "Linear",
       "kargs": {
        "in_features": 256,
        "out_features": 256
       }
      }
     ],
     "x_shape": [
      2,
      200
     ]
    }
   },
   "start_time": "2022-03-26T01:58:56.157710",
   "version": "2.3.4"
  }
 },
 "nbformat": 4,
 "nbformat_minor": 5
}