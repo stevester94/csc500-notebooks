{
 "cells": [
  {
   "cell_type": "markdown",
   "id": "9fea5f46",
   "metadata": {
    "papermill": {
     "duration": 0.018074,
     "end_time": "2022-03-25T20:55:42.873608",
     "exception": false,
     "start_time": "2022-03-25T20:55:42.855534",
     "status": "completed"
    },
    "tags": []
   },
   "source": [
    "# Transfer Learning Template"
   ]
  },
  {
   "cell_type": "code",
   "execution_count": 1,
   "id": "0902182a",
   "metadata": {
    "execution": {
     "iopub.execute_input": "2022-03-25T20:55:42.913679Z",
     "iopub.status.busy": "2022-03-25T20:55:42.911029Z",
     "iopub.status.idle": "2022-03-25T20:55:43.926104Z",
     "shell.execute_reply": "2022-03-25T20:55:43.925531Z"
    },
    "papermill": {
     "duration": 1.039818,
     "end_time": "2022-03-25T20:55:43.926230",
     "exception": false,
     "start_time": "2022-03-25T20:55:42.886412",
     "status": "completed"
    },
    "tags": []
   },
   "outputs": [],
   "source": [
    "%load_ext autoreload\n",
    "%autoreload 2\n",
    "%matplotlib inline\n",
    "\n",
    "    \n",
    "import os, json, sys, time, random\n",
    "import numpy as np\n",
    "import torch\n",
    "from torch.optim import Adam\n",
    "from  easydict import EasyDict\n",
    "import matplotlib.pyplot as plt\n",
    "\n",
    "from steves_models.steves_ptn import Steves_Prototypical_Network\n",
    "\n",
    "from steves_utils.lazy_iterable_wrapper import Lazy_Iterable_Wrapper\n",
    "from steves_utils.iterable_aggregator import Iterable_Aggregator\n",
    "from steves_utils.ptn_train_eval_test_jig import  PTN_Train_Eval_Test_Jig\n",
    "from steves_utils.torch_sequential_builder import build_sequential\n",
    "from steves_utils.torch_utils import get_dataset_metrics, ptn_confusion_by_domain_over_dataloader\n",
    "from steves_utils.utils_v2 import (per_domain_accuracy_from_confusion, get_datasets_base_path)\n",
    "from steves_utils.PTN.utils import independent_accuracy_assesment\n",
    "\n",
    "from torch.utils.data import DataLoader\n",
    "\n",
    "from steves_utils.stratified_dataset.episodic_accessor import Episodic_Accessor_Factory\n",
    "\n",
    "from steves_utils.ptn_do_report import (\n",
    "    get_loss_curve,\n",
    "    get_results_table,\n",
    "    get_parameters_table,\n",
    "    get_domain_accuracies,\n",
    ")\n",
    "\n",
    "from steves_utils.transforms import get_chained_transform"
   ]
  },
  {
   "cell_type": "markdown",
   "id": "41c840b4",
   "metadata": {
    "papermill": {
     "duration": 0.015705,
     "end_time": "2022-03-25T20:55:43.958466",
     "exception": false,
     "start_time": "2022-03-25T20:55:43.942761",
     "status": "completed"
    },
    "tags": []
   },
   "source": [
    "# Allowed Parameters\n",
    "These are allowed parameters, not defaults\n",
    "Each of these values need to be present in the injected parameters (the notebook will raise an exception if they are not present)\n",
    "\n",
    "Papermill uses the cell tag \"parameters\" to inject the real parameters below this cell.\n",
    "Enable tags to see what I mean"
   ]
  },
  {
   "cell_type": "code",
   "execution_count": 2,
   "id": "fd44eb83",
   "metadata": {
    "execution": {
     "iopub.execute_input": "2022-03-25T20:55:43.990082Z",
     "iopub.status.busy": "2022-03-25T20:55:43.989676Z",
     "iopub.status.idle": "2022-03-25T20:55:44.000137Z",
     "shell.execute_reply": "2022-03-25T20:55:44.000356Z"
    },
    "papermill": {
     "duration": 0.025932,
     "end_time": "2022-03-25T20:55:44.000422",
     "exception": false,
     "start_time": "2022-03-25T20:55:43.974490",
     "status": "completed"
    },
    "tags": []
   },
   "outputs": [],
   "source": [
    "required_parameters = {\n",
    "    \"experiment_name\",\n",
    "    \"lr\",\n",
    "    \"device\",\n",
    "    \"seed\",\n",
    "    \"dataset_seed\",\n",
    "    \"n_shot\",\n",
    "    \"n_query\",\n",
    "    \"n_way\",\n",
    "    \"train_k_factor\",\n",
    "    \"val_k_factor\",\n",
    "    \"test_k_factor\",\n",
    "    \"n_epoch\",\n",
    "    \"patience\",\n",
    "    \"criteria_for_best\",\n",
    "    \"x_net\",\n",
    "    \"datasets\",\n",
    "    \"torch_default_dtype\",\n",
    "    \"NUM_LOGS_PER_EPOCH\",\n",
    "    \"BEST_MODEL_PATH\",\n",
    "    \"x_shape\",\n",
    "}"
   ]
  },
  {
   "cell_type": "code",
   "execution_count": 3,
   "id": "fa3f0049",
   "metadata": {
    "execution": {
     "iopub.execute_input": "2022-03-25T20:55:44.042103Z",
     "iopub.status.busy": "2022-03-25T20:55:44.041794Z",
     "iopub.status.idle": "2022-03-25T20:55:44.054627Z",
     "shell.execute_reply": "2022-03-25T20:55:44.054348Z"
    },
    "papermill": {
     "duration": 0.03809,
     "end_time": "2022-03-25T20:55:44.054687",
     "exception": false,
     "start_time": "2022-03-25T20:55:44.016597",
     "status": "completed"
    },
    "tags": [
     "parameters"
    ]
   },
   "outputs": [],
   "source": [
    "from steves_utils.CORES.utils import (\n",
    "    ALL_NODES,\n",
    "    ALL_NODES_MINIMUM_1000_EXAMPLES,\n",
    "    ALL_DAYS\n",
    ")\n",
    "\n",
    "from steves_utils.ORACLE.utils_v2 import (\n",
    "    ALL_DISTANCES_FEET_NARROWED,\n",
    "    ALL_RUNS,\n",
    "    ALL_SERIAL_NUMBERS,\n",
    ")\n",
    "\n",
    "standalone_parameters = {}\n",
    "standalone_parameters[\"experiment_name\"] = \"STANDALONE PTN\"\n",
    "standalone_parameters[\"lr\"] = 0.001\n",
    "standalone_parameters[\"device\"] = \"cuda\"\n",
    "\n",
    "standalone_parameters[\"seed\"] = 1337\n",
    "standalone_parameters[\"dataset_seed\"] = 1337\n",
    "\n",
    "standalone_parameters[\"n_way\"] = 8\n",
    "standalone_parameters[\"n_shot\"] = 3\n",
    "standalone_parameters[\"n_query\"]  = 2\n",
    "standalone_parameters[\"train_k_factor\"] = 1\n",
    "standalone_parameters[\"val_k_factor\"] = 2\n",
    "standalone_parameters[\"test_k_factor\"] = 2\n",
    "\n",
    "\n",
    "standalone_parameters[\"n_epoch\"] = 50\n",
    "\n",
    "standalone_parameters[\"patience\"] = 10\n",
    "standalone_parameters[\"criteria_for_best\"] = \"source_loss\"\n",
    "\n",
    "standalone_parameters[\"datasets\"] = [\n",
    "    {\n",
    "        \"labels\": ALL_SERIAL_NUMBERS,\n",
    "        \"domains\": ALL_DISTANCES_FEET_NARROWED,\n",
    "        \"num_examples_per_domain_per_label\": 100,\n",
    "        \"pickle_path\": os.path.join(get_datasets_base_path(), \"oracle.Run1_framed_2000Examples_stratified_ds.2022A.pkl\"),\n",
    "        \"source_or_target_dataset\": \"source\",\n",
    "        \"x_transforms\": [\"unit_mag\", \"minus_two\"],\n",
    "        \"episode_transforms\": [],\n",
    "        \"domain_prefix\": \"ORACLE_\"\n",
    "    },\n",
    "    {\n",
    "        \"labels\": ALL_NODES,\n",
    "        \"domains\": ALL_DAYS,\n",
    "        \"num_examples_per_domain_per_label\": 100,\n",
    "        \"pickle_path\": os.path.join(get_datasets_base_path(), \"cores.stratified_ds.2022A.pkl\"),\n",
    "        \"source_or_target_dataset\": \"target\",\n",
    "        \"x_transforms\": [\"unit_power\", \"times_zero\"],\n",
    "        \"episode_transforms\": [],\n",
    "        \"domain_prefix\": \"CORES_\"\n",
    "    }   \n",
    "]\n",
    "\n",
    "standalone_parameters[\"torch_default_dtype\"] = \"torch.float32\" \n",
    "\n",
    "\n",
    "\n",
    "standalone_parameters[\"x_net\"] =     [\n",
    "    {\"class\": \"nnReshape\", \"kargs\": {\"shape\":[-1, 1, 2, 256]}},\n",
    "    {\"class\": \"Conv2d\", \"kargs\": { \"in_channels\":1, \"out_channels\":256, \"kernel_size\":(1,7), \"bias\":False, \"padding\":(0,3), },},\n",
    "    {\"class\": \"ReLU\", \"kargs\": {\"inplace\": True}},\n",
    "    {\"class\": \"BatchNorm2d\", \"kargs\": {\"num_features\":256}},\n",
    "\n",
    "    {\"class\": \"Conv2d\", \"kargs\": { \"in_channels\":256, \"out_channels\":80, \"kernel_size\":(2,7), \"bias\":True, \"padding\":(0,3), },},\n",
    "    {\"class\": \"ReLU\", \"kargs\": {\"inplace\": True}},\n",
    "    {\"class\": \"BatchNorm2d\", \"kargs\": {\"num_features\":80}},\n",
    "    {\"class\": \"Flatten\", \"kargs\": {}},\n",
    "\n",
    "    {\"class\": \"Linear\", \"kargs\": {\"in_features\": 80*256, \"out_features\": 256}}, # 80 units per IQ pair\n",
    "    {\"class\": \"ReLU\", \"kargs\": {\"inplace\": True}},\n",
    "    {\"class\": \"BatchNorm1d\", \"kargs\": {\"num_features\":256}},\n",
    "\n",
    "    {\"class\": \"Linear\", \"kargs\": {\"in_features\": 256, \"out_features\": 256}},\n",
    "]\n",
    "\n",
    "# Parameters relevant to results\n",
    "# These parameters will basically never need to change\n",
    "standalone_parameters[\"NUM_LOGS_PER_EPOCH\"] = 10\n",
    "standalone_parameters[\"BEST_MODEL_PATH\"] = \"./best_model.pth\"\n",
    "\n",
    "\n",
    "\n",
    "\n"
   ]
  },
  {
   "cell_type": "code",
   "execution_count": 4,
   "id": "3b6c877f",
   "metadata": {
    "execution": {
     "iopub.execute_input": "2022-03-25T20:55:44.087245Z",
     "iopub.status.busy": "2022-03-25T20:55:44.086931Z",
     "iopub.status.idle": "2022-03-25T20:55:44.099924Z",
     "shell.execute_reply": "2022-03-25T20:55:44.099415Z"
    },
    "papermill": {
     "duration": 0.032127,
     "end_time": "2022-03-25T20:55:44.100026",
     "exception": false,
     "start_time": "2022-03-25T20:55:44.067899",
     "status": "completed"
    },
    "tags": [
     "injected-parameters"
    ]
   },
   "outputs": [],
   "source": [
    "# Parameters\n",
    "parameters = {\n",
    "    \"experiment_name\": \"tl_3-filterv2:oracle.run1.framed -> cores\",\n",
    "    \"device\": \"cuda\",\n",
    "    \"lr\": 0.0001,\n",
    "    \"x_shape\": [2, 200],\n",
    "    \"n_shot\": 3,\n",
    "    \"n_query\": 2,\n",
    "    \"train_k_factor\": 3,\n",
    "    \"val_k_factor\": 2,\n",
    "    \"test_k_factor\": 2,\n",
    "    \"torch_default_dtype\": \"torch.float32\",\n",
    "    \"n_epoch\": 50,\n",
    "    \"patience\": 3,\n",
    "    \"criteria_for_best\": \"target_accuracy\",\n",
    "    \"x_net\": [\n",
    "        {\"class\": \"nnReshape\", \"kargs\": {\"shape\": [-1, 1, 2, 200]}},\n",
    "        {\n",
    "            \"class\": \"Conv2d\",\n",
    "            \"kargs\": {\n",
    "                \"in_channels\": 1,\n",
    "                \"out_channels\": 256,\n",
    "                \"kernel_size\": [1, 7],\n",
    "                \"bias\": False,\n",
    "                \"padding\": [0, 3],\n",
    "            },\n",
    "        },\n",
    "        {\"class\": \"ReLU\", \"kargs\": {\"inplace\": True}},\n",
    "        {\"class\": \"BatchNorm2d\", \"kargs\": {\"num_features\": 256}},\n",
    "        {\n",
    "            \"class\": \"Conv2d\",\n",
    "            \"kargs\": {\n",
    "                \"in_channels\": 256,\n",
    "                \"out_channels\": 80,\n",
    "                \"kernel_size\": [2, 7],\n",
    "                \"bias\": True,\n",
    "                \"padding\": [0, 3],\n",
    "            },\n",
    "        },\n",
    "        {\"class\": \"ReLU\", \"kargs\": {\"inplace\": True}},\n",
    "        {\"class\": \"BatchNorm2d\", \"kargs\": {\"num_features\": 80}},\n",
    "        {\"class\": \"Flatten\", \"kargs\": {}},\n",
    "        {\"class\": \"Linear\", \"kargs\": {\"in_features\": 16000, \"out_features\": 256}},\n",
    "        {\"class\": \"ReLU\", \"kargs\": {\"inplace\": True}},\n",
    "        {\"class\": \"BatchNorm1d\", \"kargs\": {\"num_features\": 256}},\n",
    "        {\"class\": \"Linear\", \"kargs\": {\"in_features\": 256, \"out_features\": 256}},\n",
    "    ],\n",
    "    \"NUM_LOGS_PER_EPOCH\": 10,\n",
    "    \"BEST_MODEL_PATH\": \"./best_model.pth\",\n",
    "    \"n_way\": 16,\n",
    "    \"datasets\": [\n",
    "        {\n",
    "            \"labels\": [\n",
    "                \"1-10.\",\n",
    "                \"1-11.\",\n",
    "                \"1-15.\",\n",
    "                \"1-16.\",\n",
    "                \"1-17.\",\n",
    "                \"1-18.\",\n",
    "                \"1-19.\",\n",
    "                \"10-4.\",\n",
    "                \"10-7.\",\n",
    "                \"11-1.\",\n",
    "                \"11-14.\",\n",
    "                \"11-17.\",\n",
    "                \"11-20.\",\n",
    "                \"11-7.\",\n",
    "                \"13-20.\",\n",
    "                \"13-8.\",\n",
    "                \"14-10.\",\n",
    "                \"14-11.\",\n",
    "                \"14-14.\",\n",
    "                \"14-7.\",\n",
    "                \"15-1.\",\n",
    "                \"15-20.\",\n",
    "                \"16-1.\",\n",
    "                \"16-16.\",\n",
    "                \"17-10.\",\n",
    "                \"17-11.\",\n",
    "                \"17-2.\",\n",
    "                \"19-1.\",\n",
    "                \"19-16.\",\n",
    "                \"19-19.\",\n",
    "                \"19-20.\",\n",
    "                \"19-3.\",\n",
    "                \"2-10.\",\n",
    "                \"2-11.\",\n",
    "                \"2-17.\",\n",
    "                \"2-18.\",\n",
    "                \"2-20.\",\n",
    "                \"2-3.\",\n",
    "                \"2-4.\",\n",
    "                \"2-5.\",\n",
    "                \"2-6.\",\n",
    "                \"2-7.\",\n",
    "                \"2-8.\",\n",
    "                \"3-13.\",\n",
    "                \"3-18.\",\n",
    "                \"3-3.\",\n",
    "                \"4-1.\",\n",
    "                \"4-10.\",\n",
    "                \"4-11.\",\n",
    "                \"4-19.\",\n",
    "                \"5-5.\",\n",
    "                \"6-15.\",\n",
    "                \"7-10.\",\n",
    "                \"7-14.\",\n",
    "                \"8-18.\",\n",
    "                \"8-20.\",\n",
    "                \"8-3.\",\n",
    "                \"8-8.\",\n",
    "            ],\n",
    "            \"domains\": [1, 2, 3, 4, 5],\n",
    "            \"num_examples_per_domain_per_label\": -1,\n",
    "            \"pickle_path\": \"/mnt/wd500GB/CSC500/csc500-main/datasets/cores.stratified_ds.2022A.pkl\",\n",
    "            \"source_or_target_dataset\": \"target\",\n",
    "            \"x_transforms\": [\"unit_mag\", \"lowpass_+/-10MHz\", \"take_200\"],\n",
    "            \"episode_transforms\": [],\n",
    "            \"domain_prefix\": \"C_\",\n",
    "        },\n",
    "        {\n",
    "            \"labels\": [\n",
    "                \"3123D52\",\n",
    "                \"3123D65\",\n",
    "                \"3123D79\",\n",
    "                \"3123D80\",\n",
    "                \"3123D54\",\n",
    "                \"3123D70\",\n",
    "                \"3123D7B\",\n",
    "                \"3123D89\",\n",
    "                \"3123D58\",\n",
    "                \"3123D76\",\n",
    "                \"3123D7D\",\n",
    "                \"3123EFE\",\n",
    "                \"3123D64\",\n",
    "                \"3123D78\",\n",
    "                \"3123D7E\",\n",
    "                \"3124E4A\",\n",
    "            ],\n",
    "            \"domains\": [32, 38, 8, 44, 14, 50, 20, 26],\n",
    "            \"num_examples_per_domain_per_label\": 2000,\n",
    "            \"pickle_path\": \"/mnt/wd500GB/CSC500/csc500-main/datasets/oracle.Run1_framed_2000Examples_stratified_ds.2022A.pkl\",\n",
    "            \"source_or_target_dataset\": \"source\",\n",
    "            \"x_transforms\": [\"unit_mag\", \"take_200\", \"resample_20Msps_to_25Msps\"],\n",
    "            \"episode_transforms\": [],\n",
    "            \"domain_prefix\": \"O_\",\n",
    "        },\n",
    "    ],\n",
    "    \"seed\": 1337,\n",
    "    \"dataset_seed\": 1337,\n",
    "}\n"
   ]
  },
  {
   "cell_type": "code",
   "execution_count": 5,
   "id": "8fa1cc33",
   "metadata": {
    "execution": {
     "iopub.execute_input": "2022-03-25T20:55:44.134383Z",
     "iopub.status.busy": "2022-03-25T20:55:44.134108Z",
     "iopub.status.idle": "2022-03-25T20:55:44.145987Z",
     "shell.execute_reply": "2022-03-25T20:55:44.145609Z"
    },
    "papermill": {
     "duration": 0.027606,
     "end_time": "2022-03-25T20:55:44.146108",
     "exception": false,
     "start_time": "2022-03-25T20:55:44.118502",
     "status": "completed"
    },
    "tags": []
   },
   "outputs": [],
   "source": [
    "# Set this to True if you want to run this template directly\n",
    "STANDALONE = False\n",
    "if STANDALONE:\n",
    "    print(\"parameters not injected, running with standalone_parameters\")\n",
    "    parameters = standalone_parameters\n",
    "\n",
    "if not 'parameters' in locals() and not 'parameters' in globals():\n",
    "    raise Exception(\"Parameter injection failed\")\n",
    "\n",
    "#Use an easy dict for all the parameters\n",
    "p = EasyDict(parameters)\n",
    "\n",
    "if \"x_shape\" not in p:\n",
    "    p.x_shape = [2,256] # Default to this if we dont supply x_shape\n",
    "\n",
    "\n",
    "supplied_keys = set(p.keys())\n",
    "\n",
    "if  supplied_keys != required_parameters:\n",
    "    print(\"Parameters are incorrect\")\n",
    "    if len(supplied_keys - required_parameters)>0: print(\"Shouldn't have:\", str(supplied_keys - required_parameters))\n",
    "    if len(required_parameters - supplied_keys)>0: print(\"Need to have:\", str(required_parameters - supplied_keys))\n",
    "    raise RuntimeError(\"Parameters are incorrect\")"
   ]
  },
  {
   "cell_type": "code",
   "execution_count": 6,
   "id": "3a028d58",
   "metadata": {
    "execution": {
     "iopub.execute_input": "2022-03-25T20:55:44.180206Z",
     "iopub.status.busy": "2022-03-25T20:55:44.179946Z",
     "iopub.status.idle": "2022-03-25T20:55:44.191530Z",
     "shell.execute_reply": "2022-03-25T20:55:44.191024Z"
    },
    "papermill": {
     "duration": 0.026234,
     "end_time": "2022-03-25T20:55:44.191632",
     "exception": false,
     "start_time": "2022-03-25T20:55:44.165398",
     "status": "completed"
    },
    "tags": []
   },
   "outputs": [],
   "source": [
    "###################################\n",
    "# Set the RNGs and make it all deterministic\n",
    "###################################\n",
    "np.random.seed(p.seed)\n",
    "random.seed(p.seed)\n",
    "torch.manual_seed(p.seed)\n",
    "\n",
    "torch.use_deterministic_algorithms(True) "
   ]
  },
  {
   "cell_type": "code",
   "execution_count": 7,
   "id": "b691acf6",
   "metadata": {
    "execution": {
     "iopub.execute_input": "2022-03-25T20:55:44.223822Z",
     "iopub.status.busy": "2022-03-25T20:55:44.223563Z",
     "iopub.status.idle": "2022-03-25T20:55:44.238272Z",
     "shell.execute_reply": "2022-03-25T20:55:44.237743Z"
    },
    "papermill": {
     "duration": 0.029795,
     "end_time": "2022-03-25T20:55:44.238377",
     "exception": false,
     "start_time": "2022-03-25T20:55:44.208582",
     "status": "completed"
    },
    "tags": []
   },
   "outputs": [],
   "source": [
    "###########################################\n",
    "# The stratified datasets honor this\n",
    "###########################################\n",
    "torch.set_default_dtype(eval(p.torch_default_dtype))"
   ]
  },
  {
   "cell_type": "code",
   "execution_count": 8,
   "id": "b5fba671",
   "metadata": {
    "execution": {
     "iopub.execute_input": "2022-03-25T20:55:44.272114Z",
     "iopub.status.busy": "2022-03-25T20:55:44.271858Z",
     "iopub.status.idle": "2022-03-25T20:55:44.304121Z",
     "shell.execute_reply": "2022-03-25T20:55:44.303719Z"
    },
    "papermill": {
     "duration": 0.046737,
     "end_time": "2022-03-25T20:55:44.304219",
     "exception": false,
     "start_time": "2022-03-25T20:55:44.257482",
     "status": "completed"
    },
    "tags": []
   },
   "outputs": [],
   "source": [
    "###################################\n",
    "# Build the network(s)\n",
    "# Note: It's critical to do this AFTER setting the RNG\n",
    "###################################\n",
    "x_net = build_sequential(p.x_net)"
   ]
  },
  {
   "cell_type": "code",
   "execution_count": 9,
   "id": "5d7e61cc",
   "metadata": {
    "execution": {
     "iopub.execute_input": "2022-03-25T20:55:44.338338Z",
     "iopub.status.busy": "2022-03-25T20:55:44.337966Z",
     "iopub.status.idle": "2022-03-25T20:55:44.351922Z",
     "shell.execute_reply": "2022-03-25T20:55:44.351480Z"
    },
    "papermill": {
     "duration": 0.029448,
     "end_time": "2022-03-25T20:55:44.352020",
     "exception": false,
     "start_time": "2022-03-25T20:55:44.322572",
     "status": "completed"
    },
    "tags": []
   },
   "outputs": [],
   "source": [
    "start_time_secs = time.time()"
   ]
  },
  {
   "cell_type": "code",
   "execution_count": 10,
   "id": "c6b67dfd",
   "metadata": {
    "execution": {
     "iopub.execute_input": "2022-03-25T20:55:44.385370Z",
     "iopub.status.busy": "2022-03-25T20:55:44.385113Z",
     "iopub.status.idle": "2022-03-25T20:55:44.396149Z",
     "shell.execute_reply": "2022-03-25T20:55:44.395767Z"
    },
    "papermill": {
     "duration": 0.025932,
     "end_time": "2022-03-25T20:55:44.396227",
     "exception": false,
     "start_time": "2022-03-25T20:55:44.370295",
     "status": "completed"
    },
    "tags": []
   },
   "outputs": [],
   "source": [
    "p.domains_source = []\n",
    "p.domains_target = []\n",
    "\n",
    "\n",
    "train_original_source = []\n",
    "val_original_source   = []\n",
    "test_original_source  = []\n",
    "\n",
    "train_original_target = []\n",
    "val_original_target   = []\n",
    "test_original_target  = []"
   ]
  },
  {
   "cell_type": "code",
   "execution_count": 11,
   "id": "e3d9c3d3",
   "metadata": {
    "execution": {
     "iopub.execute_input": "2022-03-25T20:55:44.429456Z",
     "iopub.status.busy": "2022-03-25T20:55:44.429198Z",
     "iopub.status.idle": "2022-03-25T20:55:44.440404Z",
     "shell.execute_reply": "2022-03-25T20:55:44.439947Z"
    },
    "papermill": {
     "duration": 0.025829,
     "end_time": "2022-03-25T20:55:44.440504",
     "exception": false,
     "start_time": "2022-03-25T20:55:44.414675",
     "status": "completed"
    },
    "tags": []
   },
   "outputs": [],
   "source": [
    "# global_x_transform_func = lambda x: normalize(x.to(torch.get_default_dtype()), \"unit_power\") # unit_power, unit_mag\n",
    "# global_x_transform_func = lambda x: normalize(x, \"unit_power\") # unit_power, unit_mag"
   ]
  },
  {
   "cell_type": "code",
   "execution_count": 12,
   "id": "acb78fd2",
   "metadata": {
    "execution": {
     "iopub.execute_input": "2022-03-25T20:55:44.479182Z",
     "iopub.status.busy": "2022-03-25T20:55:44.476266Z",
     "iopub.status.idle": "2022-03-25T20:55:44.488400Z",
     "shell.execute_reply": "2022-03-25T20:55:44.488021Z"
    },
    "papermill": {
     "duration": 0.029571,
     "end_time": "2022-03-25T20:55:44.488478",
     "exception": false,
     "start_time": "2022-03-25T20:55:44.458907",
     "status": "completed"
    },
    "tags": []
   },
   "outputs": [],
   "source": [
    "def add_dataset(\n",
    "    labels,\n",
    "    domains,\n",
    "    pickle_path,\n",
    "    x_transforms,\n",
    "    episode_transforms,\n",
    "    domain_prefix,\n",
    "    num_examples_per_domain_per_label,\n",
    "    source_or_target_dataset:str,\n",
    "    iterator_seed=p.seed,\n",
    "    dataset_seed=p.dataset_seed,\n",
    "    n_shot=p.n_shot,\n",
    "    n_way=p.n_way,\n",
    "    n_query=p.n_query,\n",
    "    train_val_test_k_factors=(p.train_k_factor,p.val_k_factor,p.test_k_factor),\n",
    "):\n",
    "   \n",
    "    if x_transforms == []: x_transform = None\n",
    "    else: x_transform = get_chained_transform(x_transforms)\n",
    "    \n",
    "    if episode_transforms == []: episode_transform = None\n",
    "    else: raise Exception(\"episode_transforms not implemented\")\n",
    "    \n",
    "    episode_transform = lambda tup, _prefix=domain_prefix: (_prefix + str(tup[0]), tup[1])\n",
    "\n",
    "\n",
    "    eaf = Episodic_Accessor_Factory(\n",
    "        labels=labels,\n",
    "        domains=domains,\n",
    "        num_examples_per_domain_per_label=num_examples_per_domain_per_label,\n",
    "        iterator_seed=iterator_seed,\n",
    "        dataset_seed=dataset_seed,\n",
    "        n_shot=n_shot,\n",
    "        n_way=n_way,\n",
    "        n_query=n_query,\n",
    "        train_val_test_k_factors=train_val_test_k_factors,\n",
    "        pickle_path=pickle_path,\n",
    "        x_transform_func=x_transform,\n",
    "    )\n",
    "\n",
    "    train, val, test = eaf.get_train(), eaf.get_val(), eaf.get_test()\n",
    "    train = Lazy_Iterable_Wrapper(train, episode_transform)\n",
    "    val = Lazy_Iterable_Wrapper(val, episode_transform)\n",
    "    test = Lazy_Iterable_Wrapper(test, episode_transform)\n",
    "\n",
    "    if source_or_target_dataset==\"source\":\n",
    "        train_original_source.append(train)\n",
    "        val_original_source.append(val)\n",
    "        test_original_source.append(test)\n",
    "\n",
    "        p.domains_source.extend(\n",
    "            [domain_prefix + str(u) for u in domains]\n",
    "        )\n",
    "    elif source_or_target_dataset==\"target\":\n",
    "        train_original_target.append(train)\n",
    "        val_original_target.append(val)\n",
    "        test_original_target.append(test)\n",
    "        p.domains_target.extend(\n",
    "            [domain_prefix + str(u) for u in domains]\n",
    "        )\n",
    "    else:\n",
    "        raise Exception(f\"invalid source_or_target_dataset: {source_or_target_dataset}\")\n",
    "    "
   ]
  },
  {
   "cell_type": "code",
   "execution_count": 13,
   "id": "fe266617",
   "metadata": {
    "execution": {
     "iopub.execute_input": "2022-03-25T20:55:44.521865Z",
     "iopub.status.busy": "2022-03-25T20:55:44.521610Z",
     "iopub.status.idle": "2022-03-25T20:56:38.288219Z",
     "shell.execute_reply": "2022-03-25T20:56:38.287737Z"
    },
    "papermill": {
     "duration": 53.781291,
     "end_time": "2022-03-25T20:56:38.288333",
     "exception": false,
     "start_time": "2022-03-25T20:55:44.507042",
     "status": "completed"
    },
    "tags": []
   },
   "outputs": [],
   "source": [
    "for ds in p.datasets:\n",
    "    add_dataset(**ds)"
   ]
  },
  {
   "cell_type": "code",
   "execution_count": 14,
   "id": "b90d65ac",
   "metadata": {
    "execution": {
     "iopub.execute_input": "2022-03-25T20:56:38.324435Z",
     "iopub.status.busy": "2022-03-25T20:56:38.323830Z",
     "iopub.status.idle": "2022-03-25T20:56:38.339494Z",
     "shell.execute_reply": "2022-03-25T20:56:38.339048Z"
    },
    "papermill": {
     "duration": 0.031664,
     "end_time": "2022-03-25T20:56:38.339601",
     "exception": false,
     "start_time": "2022-03-25T20:56:38.307937",
     "status": "completed"
    },
    "tags": []
   },
   "outputs": [],
   "source": [
    "# from steves_utils.CORES.utils import (\n",
    "#     ALL_NODES,\n",
    "#     ALL_NODES_MINIMUM_1000_EXAMPLES,\n",
    "#     ALL_DAYS\n",
    "# )\n",
    "\n",
    "# add_dataset(\n",
    "#     labels=ALL_NODES,\n",
    "#     domains = ALL_DAYS,\n",
    "#     num_examples_per_domain_per_label=100,\n",
    "#     pickle_path=os.path.join(get_datasets_base_path(), \"cores.stratified_ds.2022A.pkl\"),\n",
    "#     source_or_target_dataset=\"target\",\n",
    "#     x_transform_func=global_x_transform_func,\n",
    "#     domain_modifier=lambda u: f\"cores_{u}\"\n",
    "# )"
   ]
  },
  {
   "cell_type": "code",
   "execution_count": 15,
   "id": "76db484d",
   "metadata": {
    "execution": {
     "iopub.execute_input": "2022-03-25T20:56:38.376371Z",
     "iopub.status.busy": "2022-03-25T20:56:38.376099Z",
     "iopub.status.idle": "2022-03-25T20:56:38.386799Z",
     "shell.execute_reply": "2022-03-25T20:56:38.386423Z"
    },
    "papermill": {
     "duration": 0.027159,
     "end_time": "2022-03-25T20:56:38.386876",
     "exception": false,
     "start_time": "2022-03-25T20:56:38.359717",
     "status": "completed"
    },
    "tags": []
   },
   "outputs": [],
   "source": [
    "# from steves_utils.ORACLE.utils_v2 import (\n",
    "#     ALL_DISTANCES_FEET,\n",
    "#     ALL_RUNS,\n",
    "#     ALL_SERIAL_NUMBERS,\n",
    "# )\n",
    "\n",
    "\n",
    "# add_dataset(\n",
    "#     labels=ALL_SERIAL_NUMBERS,\n",
    "#     domains = list(set(ALL_DISTANCES_FEET) - {2,62}),\n",
    "#     num_examples_per_domain_per_label=100,\n",
    "#     pickle_path=os.path.join(get_datasets_base_path(), \"oracle.Run2_framed_2000Examples_stratified_ds.2022A.pkl\"),\n",
    "#     source_or_target_dataset=\"source\",\n",
    "#     x_transform_func=global_x_transform_func,\n",
    "#     domain_modifier=lambda u: f\"oracle1_{u}\"\n",
    "# )\n"
   ]
  },
  {
   "cell_type": "code",
   "execution_count": 16,
   "id": "97dea9d2",
   "metadata": {
    "execution": {
     "iopub.execute_input": "2022-03-25T20:56:38.421222Z",
     "iopub.status.busy": "2022-03-25T20:56:38.420958Z",
     "iopub.status.idle": "2022-03-25T20:56:38.435172Z",
     "shell.execute_reply": "2022-03-25T20:56:38.435781Z"
    },
    "papermill": {
     "duration": 0.031895,
     "end_time": "2022-03-25T20:56:38.435977",
     "exception": false,
     "start_time": "2022-03-25T20:56:38.404082",
     "status": "completed"
    },
    "tags": []
   },
   "outputs": [],
   "source": [
    "# from steves_utils.ORACLE.utils_v2 import (\n",
    "#     ALL_DISTANCES_FEET,\n",
    "#     ALL_RUNS,\n",
    "#     ALL_SERIAL_NUMBERS,\n",
    "# )\n",
    "\n",
    "\n",
    "# add_dataset(\n",
    "#     labels=ALL_SERIAL_NUMBERS,\n",
    "#     domains = list(set(ALL_DISTANCES_FEET) - {2,62,56}),\n",
    "#     num_examples_per_domain_per_label=100,\n",
    "#     pickle_path=os.path.join(get_datasets_base_path(), \"oracle.Run2_framed_2000Examples_stratified_ds.2022A.pkl\"),\n",
    "#     source_or_target_dataset=\"source\",\n",
    "#     x_transform_func=global_x_transform_func,\n",
    "#     domain_modifier=lambda u: f\"oracle2_{u}\"\n",
    "# )"
   ]
  },
  {
   "cell_type": "code",
   "execution_count": 17,
   "id": "6f289866",
   "metadata": {
    "execution": {
     "iopub.execute_input": "2022-03-25T20:56:38.469828Z",
     "iopub.status.busy": "2022-03-25T20:56:38.469567Z",
     "iopub.status.idle": "2022-03-25T20:56:38.482182Z",
     "shell.execute_reply": "2022-03-25T20:56:38.481774Z"
    },
    "papermill": {
     "duration": 0.029482,
     "end_time": "2022-03-25T20:56:38.482265",
     "exception": false,
     "start_time": "2022-03-25T20:56:38.452783",
     "status": "completed"
    },
    "tags": []
   },
   "outputs": [],
   "source": [
    "# add_dataset(\n",
    "#     labels=list(range(19)),\n",
    "#     domains = [0,1,2],\n",
    "#     num_examples_per_domain_per_label=100,\n",
    "#     pickle_path=os.path.join(get_datasets_base_path(), \"metehan.stratified_ds.2022A.pkl\"),\n",
    "#     source_or_target_dataset=\"target\",\n",
    "#     x_transform_func=global_x_transform_func,\n",
    "#     domain_modifier=lambda u: f\"met_{u}\"\n",
    "# )"
   ]
  },
  {
   "cell_type": "code",
   "execution_count": 18,
   "id": "86a863c3",
   "metadata": {
    "execution": {
     "iopub.execute_input": "2022-03-25T20:56:38.520475Z",
     "iopub.status.busy": "2022-03-25T20:56:38.520100Z",
     "iopub.status.idle": "2022-03-25T20:56:38.535032Z",
     "shell.execute_reply": "2022-03-25T20:56:38.534546Z"
    },
    "papermill": {
     "duration": 0.031707,
     "end_time": "2022-03-25T20:56:38.535140",
     "exception": false,
     "start_time": "2022-03-25T20:56:38.503433",
     "status": "completed"
    },
    "tags": []
   },
   "outputs": [],
   "source": [
    "# # from steves_utils.wisig.utils import (\n",
    "# #     ALL_NODES_MINIMUM_100_EXAMPLES,\n",
    "# #     ALL_NODES_MINIMUM_500_EXAMPLES,\n",
    "# #     ALL_NODES_MINIMUM_1000_EXAMPLES,\n",
    "# #     ALL_DAYS\n",
    "# # )\n",
    "\n",
    "# import steves_utils.wisig.utils as wisig\n",
    "\n",
    "\n",
    "# add_dataset(\n",
    "#     labels=wisig.ALL_NODES_MINIMUM_100_EXAMPLES,\n",
    "#     domains = wisig.ALL_DAYS,\n",
    "#     num_examples_per_domain_per_label=100,\n",
    "#     pickle_path=os.path.join(get_datasets_base_path(), \"wisig.node3-19.stratified_ds.2022A.pkl\"),\n",
    "#     source_or_target_dataset=\"target\",\n",
    "#     x_transform_func=global_x_transform_func,\n",
    "#     domain_modifier=lambda u: f\"wisig_{u}\"\n",
    "# )"
   ]
  },
  {
   "cell_type": "code",
   "execution_count": 19,
   "id": "fd5442bc",
   "metadata": {
    "execution": {
     "iopub.execute_input": "2022-03-25T20:56:38.572981Z",
     "iopub.status.busy": "2022-03-25T20:56:38.572706Z",
     "iopub.status.idle": "2022-03-25T20:56:38.584431Z",
     "shell.execute_reply": "2022-03-25T20:56:38.583826Z"
    },
    "papermill": {
     "duration": 0.030776,
     "end_time": "2022-03-25T20:56:38.584586",
     "exception": false,
     "start_time": "2022-03-25T20:56:38.553810",
     "status": "completed"
    },
    "tags": []
   },
   "outputs": [],
   "source": [
    "###################################\n",
    "# Build the dataset\n",
    "###################################\n",
    "train_original_source = Iterable_Aggregator(train_original_source, p.seed)\n",
    "val_original_source = Iterable_Aggregator(val_original_source, p.seed)\n",
    "test_original_source = Iterable_Aggregator(test_original_source, p.seed)\n",
    "\n",
    "\n",
    "train_original_target = Iterable_Aggregator(train_original_target, p.seed)\n",
    "val_original_target = Iterable_Aggregator(val_original_target, p.seed)\n",
    "test_original_target = Iterable_Aggregator(test_original_target, p.seed)\n",
    "\n",
    "# For CNN We only use X and Y. And we only train on the source.\n",
    "# Properly form the data using a transform lambda and Lazy_Iterable_Wrapper. Finally wrap them in a dataloader\n",
    "\n",
    "transform_lambda = lambda ex: ex[1] # Original is (<domain>, <episode>) so we strip down to episode only\n",
    "\n",
    "train_processed_source = Lazy_Iterable_Wrapper(train_original_source, transform_lambda)\n",
    "val_processed_source   = Lazy_Iterable_Wrapper(val_original_source, transform_lambda)\n",
    "test_processed_source  = Lazy_Iterable_Wrapper(test_original_source, transform_lambda)\n",
    "\n",
    "train_processed_target = Lazy_Iterable_Wrapper(train_original_target, transform_lambda)\n",
    "val_processed_target   = Lazy_Iterable_Wrapper(val_original_target, transform_lambda)\n",
    "test_processed_target  = Lazy_Iterable_Wrapper(test_original_target, transform_lambda)\n",
    "\n",
    "datasets = EasyDict({\n",
    "    \"source\": {\n",
    "        \"original\": {\"train\":train_original_source, \"val\":val_original_source, \"test\":test_original_source},\n",
    "        \"processed\": {\"train\":train_processed_source, \"val\":val_processed_source, \"test\":test_processed_source}\n",
    "    },\n",
    "    \"target\": {\n",
    "        \"original\": {\"train\":train_original_target, \"val\":val_original_target, \"test\":test_original_target},\n",
    "        \"processed\": {\"train\":train_processed_target, \"val\":val_processed_target, \"test\":test_processed_target}\n",
    "    },\n",
    "})"
   ]
  },
  {
   "cell_type": "code",
   "execution_count": 20,
   "id": "5b3c01fc",
   "metadata": {
    "execution": {
     "iopub.execute_input": "2022-03-25T20:56:38.622131Z",
     "iopub.status.busy": "2022-03-25T20:56:38.621853Z",
     "iopub.status.idle": "2022-03-25T20:56:45.591433Z",
     "shell.execute_reply": "2022-03-25T20:56:45.591030Z"
    },
    "papermill": {
     "duration": 6.987498,
     "end_time": "2022-03-25T20:56:45.591520",
     "exception": false,
     "start_time": "2022-03-25T20:56:38.604022",
     "status": "completed"
    },
    "tags": []
   },
   "outputs": [
    {
     "name": "stdout",
     "output_type": "stream",
     "text": [
      "{'O_44', 'O_14', 'O_38', 'O_20', 'O_26', 'O_32', 'O_8', 'O_50'}\n"
     ]
    },
    {
     "name": "stdout",
     "output_type": "stream",
     "text": [
      "{'C_3', 'C_4', 'C_2', 'C_1', 'C_5'}\n"
     ]
    },
    {
     "name": "stdout",
     "output_type": "stream",
     "text": [
      "tensor([[[-0.0971,  1.1311,  0.6428,  ...,  0.6900,  0.5495,  0.7515],\n",
      "         [-0.6699, -0.6023,  0.7298,  ..., -0.1188,  1.1722,  0.1223]],\n",
      "\n",
      "        [[-0.4650,  0.4729,  0.8381,  ...,  1.1898,  0.5315,  0.0195],\n",
      "         [-1.1721, -0.8223,  0.9095,  ..., -0.4716, -0.6551, -1.4318]],\n",
      "\n",
      "        [[ 0.6704, -0.0551, -0.9197,  ..., -0.8651, -0.9602, -0.1043],\n",
      "         [ 0.8524,  1.1014, -0.5470,  ...,  0.4879,  0.2662,  1.2135]],\n",
      "\n",
      "        ...,\n",
      "\n",
      "        [[ 1.0094,  0.2418, -1.2327,  ..., -0.7204, -0.1579,  0.9442],\n",
      "         [ 0.5694,  0.9394, -0.0507,  ...,  1.0085,  0.7567,  1.0278]],\n",
      "\n",
      "        [[ 0.0259, -1.0459, -0.2935,  ..., -0.8818, -0.8675, -0.9829],\n",
      "         [ 0.8104,  0.8015, -0.7676,  ..., -0.1278, -0.7103,  0.6759]],\n",
      "\n",
      "        [[ 0.4981,  0.4795, -0.3590,  ...,  0.5028, -1.2225, -0.6749],\n",
      "         [-0.4260,  0.9681,  0.7596,  ...,  0.6907,  0.2936,  0.4766]]])\n"
     ]
    }
   ],
   "source": [
    "from steves_utils.transforms import get_average_magnitude, get_average_power\n",
    "\n",
    "print(set([u for u,_ in val_original_source]))\n",
    "print(set([u for u,_ in val_original_target]))\n",
    "\n",
    "s_x, s_y, q_x, q_y, _ = next(iter(train_processed_source))\n",
    "print(s_x)\n",
    "\n",
    "# for ds in [\n",
    "#     train_processed_source,\n",
    "#     val_processed_source,\n",
    "#     test_processed_source,\n",
    "#     train_processed_target,\n",
    "#     val_processed_target,\n",
    "#     test_processed_target\n",
    "# ]:\n",
    "#     for s_x, s_y, q_x, q_y, _ in ds:\n",
    "#         for X in (s_x, q_x):\n",
    "#             for x in X:\n",
    "#                 assert np.isclose(get_average_magnitude(x.numpy()), 1.0)\n",
    "#                 assert np.isclose(get_average_power(x.numpy()), 1.0)\n",
    "                "
   ]
  },
  {
   "cell_type": "code",
   "execution_count": 21,
   "id": "bbdacba1",
   "metadata": {
    "execution": {
     "iopub.execute_input": "2022-03-25T20:56:45.629761Z",
     "iopub.status.busy": "2022-03-25T20:56:45.629477Z",
     "iopub.status.idle": "2022-03-25T20:56:45.680782Z",
     "shell.execute_reply": "2022-03-25T20:56:45.680534Z"
    },
    "papermill": {
     "duration": 0.069682,
     "end_time": "2022-03-25T20:56:45.680845",
     "exception": false,
     "start_time": "2022-03-25T20:56:45.611163",
     "status": "completed"
    },
    "tags": []
   },
   "outputs": [
    {
     "name": "stdout",
     "output_type": "stream",
     "text": [
      "(2, 200)\n"
     ]
    }
   ],
   "source": [
    "###################################\n",
    "# Build the model\n",
    "###################################\n",
    "# easfsl only wants a tuple for the shape\n",
    "model = Steves_Prototypical_Network(x_net, device=p.device, x_shape=tuple(p.x_shape))\n",
    "optimizer = Adam(params=model.parameters(), lr=p.lr)"
   ]
  },
  {
   "cell_type": "code",
   "execution_count": 22,
   "id": "22b39ac5",
   "metadata": {
    "execution": {
     "iopub.execute_input": "2022-03-25T20:56:45.720700Z",
     "iopub.status.busy": "2022-03-25T20:56:45.720410Z",
     "iopub.status.idle": "2022-03-25T22:18:25.612249Z",
     "shell.execute_reply": "2022-03-25T22:18:25.611865Z"
    },
    "papermill": {
     "duration": 4899.913666,
     "end_time": "2022-03-25T22:18:25.612339",
     "exception": false,
     "start_time": "2022-03-25T20:56:45.698673",
     "status": "completed"
    },
    "tags": []
   },
   "outputs": [
    {
     "name": "stdout",
     "output_type": "stream",
     "text": [
      "epoch: 1, [batch: 1 / 6720], examples_per_second: 47.0937, train_label_loss: 2.9630, \n"
     ]
    },
    {
     "name": "stdout",
     "output_type": "stream",
     "text": [
      "epoch: 1, [batch: 672 / 6720], examples_per_second: 1974.1858, train_label_loss: 1.0335, \n"
     ]
    },
    {
     "name": "stdout",
     "output_type": "stream",
     "text": [
      "epoch: 1, [batch: 1344 / 6720], examples_per_second: 1968.9487, train_label_loss: 0.7765, \n"
     ]
    },
    {
     "name": "stdout",
     "output_type": "stream",
     "text": [
      "epoch: 1, [batch: 2016 / 6720], examples_per_second: 1972.7614, train_label_loss: 0.7099, \n"
     ]
    },
    {
     "name": "stdout",
     "output_type": "stream",
     "text": [
      "epoch: 1, [batch: 2688 / 6720], examples_per_second: 2065.7051, train_label_loss: 1.1289, \n"
     ]
    },
    {
     "name": "stdout",
     "output_type": "stream",
     "text": [
      "epoch: 1, [batch: 3360 / 6720], examples_per_second: 2647.2953, train_label_loss: 1.0327, \n"
     ]
    },
    {
     "name": "stdout",
     "output_type": "stream",
     "text": [
      "epoch: 1, [batch: 4032 / 6720], examples_per_second: 2009.3830, train_label_loss: 0.9185, \n"
     ]
    },
    {
     "name": "stdout",
     "output_type": "stream",
     "text": [
      "epoch: 1, [batch: 4704 / 6720], examples_per_second: 1969.8232, train_label_loss: 0.6402, \n"
     ]
    },
    {
     "name": "stdout",
     "output_type": "stream",
     "text": [
      "epoch: 1, [batch: 5376 / 6720], examples_per_second: 1975.4902, train_label_loss: 0.8687, \n"
     ]
    },
    {
     "name": "stdout",
     "output_type": "stream",
     "text": [
      "epoch: 1, [batch: 6048 / 6720], examples_per_second: 1979.7937, train_label_loss: 0.5362, \n"
     ]
    },
    {
     "name": "stdout",
     "output_type": "stream",
     "text": [
      "=============================================================\n",
      "epoch: 1, source_val_acc_label: 0.5761, target_val_acc_label: 0.5986, source_val_label_loss: 51.1800, target_val_label_loss: 1836.6936, \n",
      "=============================================================\n"
     ]
    },
    {
     "name": "stdout",
     "output_type": "stream",
     "text": [
      "New best\n"
     ]
    },
    {
     "name": "stdout",
     "output_type": "stream",
     "text": [
      "epoch: 2, [batch: 1 / 6720], examples_per_second: 2.8479, train_label_loss: 91.5329, \n"
     ]
    },
    {
     "name": "stdout",
     "output_type": "stream",
     "text": [
      "epoch: 2, [batch: 672 / 6720], examples_per_second: 1986.8205, train_label_loss: 0.7966, \n"
     ]
    },
    {
     "name": "stdout",
     "output_type": "stream",
     "text": [
      "epoch: 2, [batch: 1344 / 6720], examples_per_second: 1983.8599, train_label_loss: 0.5969, \n"
     ]
    },
    {
     "name": "stdout",
     "output_type": "stream",
     "text": [
      "epoch: 2, [batch: 2016 / 6720], examples_per_second: 1983.3689, train_label_loss: 1.3707, \n"
     ]
    },
    {
     "name": "stdout",
     "output_type": "stream",
     "text": [
      "epoch: 2, [batch: 2688 / 6720], examples_per_second: 2132.5243, train_label_loss: 0.9669, \n"
     ]
    },
    {
     "name": "stdout",
     "output_type": "stream",
     "text": [
      "epoch: 2, [batch: 3360 / 6720], examples_per_second: 2714.4722, train_label_loss: 0.6532, \n"
     ]
    },
    {
     "name": "stdout",
     "output_type": "stream",
     "text": [
      "epoch: 2, [batch: 4032 / 6720], examples_per_second: 1984.4757, train_label_loss: 0.6084, \n"
     ]
    },
    {
     "name": "stdout",
     "output_type": "stream",
     "text": [
      "epoch: 2, [batch: 4704 / 6720], examples_per_second: 1979.3861, train_label_loss: 0.8858, \n"
     ]
    },
    {
     "name": "stdout",
     "output_type": "stream",
     "text": [
      "epoch: 2, [batch: 5376 / 6720], examples_per_second: 1983.0700, train_label_loss: 1.1341, \n"
     ]
    },
    {
     "name": "stdout",
     "output_type": "stream",
     "text": [
      "epoch: 2, [batch: 6048 / 6720], examples_per_second: 1986.4213, train_label_loss: 0.5739, \n"
     ]
    },
    {
     "name": "stdout",
     "output_type": "stream",
     "text": [
      "=============================================================\n",
      "epoch: 2, source_val_acc_label: 0.7479, target_val_acc_label: 0.6716, source_val_label_loss: 0.6986, target_val_label_loss: 110.6557, \n",
      "=============================================================\n"
     ]
    },
    {
     "name": "stdout",
     "output_type": "stream",
     "text": [
      "New best\n"
     ]
    },
    {
     "name": "stdout",
     "output_type": "stream",
     "text": [
      "epoch: 3, [batch: 1 / 6720], examples_per_second: 2.8572, train_label_loss: 0.8494, \n"
     ]
    },
    {
     "name": "stdout",
     "output_type": "stream",
     "text": [
      "epoch: 3, [batch: 672 / 6720], examples_per_second: 1985.6676, train_label_loss: 0.3557, \n"
     ]
    },
    {
     "name": "stdout",
     "output_type": "stream",
     "text": [
      "epoch: 3, [batch: 1344 / 6720], examples_per_second: 1985.7762, train_label_loss: 0.5819, \n"
     ]
    },
    {
     "name": "stdout",
     "output_type": "stream",
     "text": [
      "epoch: 3, [batch: 2016 / 6720], examples_per_second: 1982.7352, train_label_loss: 0.4883, \n"
     ]
    },
    {
     "name": "stdout",
     "output_type": "stream",
     "text": [
      "epoch: 3, [batch: 2688 / 6720], examples_per_second: 2147.1155, train_label_loss: 0.5764, \n"
     ]
    },
    {
     "name": "stdout",
     "output_type": "stream",
     "text": [
      "epoch: 3, [batch: 3360 / 6720], examples_per_second: 2723.3453, train_label_loss: 0.8772, \n"
     ]
    },
    {
     "name": "stdout",
     "output_type": "stream",
     "text": [
      "epoch: 3, [batch: 4032 / 6720], examples_per_second: 1982.9906, train_label_loss: 0.7952, \n"
     ]
    },
    {
     "name": "stdout",
     "output_type": "stream",
     "text": [
      "epoch: 3, [batch: 4704 / 6720], examples_per_second: 1978.6624, train_label_loss: 0.5392, \n"
     ]
    },
    {
     "name": "stdout",
     "output_type": "stream",
     "text": [
      "epoch: 3, [batch: 5376 / 6720], examples_per_second: 1982.9602, train_label_loss: 0.3936, \n"
     ]
    },
    {
     "name": "stdout",
     "output_type": "stream",
     "text": [
      "epoch: 3, [batch: 6048 / 6720], examples_per_second: 1987.1848, train_label_loss: 0.2572, \n"
     ]
    },
    {
     "name": "stdout",
     "output_type": "stream",
     "text": [
      "=============================================================\n",
      "epoch: 3, source_val_acc_label: 0.7391, target_val_acc_label: 0.6730, source_val_label_loss: 0.7039, target_val_label_loss: 131.3973, \n",
      "=============================================================\n"
     ]
    },
    {
     "name": "stdout",
     "output_type": "stream",
     "text": [
      "New best\n"
     ]
    },
    {
     "name": "stdout",
     "output_type": "stream",
     "text": [
      "epoch: 4, [batch: 1 / 6720], examples_per_second: 2.8708, train_label_loss: 0.3773, \n"
     ]
    },
    {
     "name": "stdout",
     "output_type": "stream",
     "text": [
      "epoch: 4, [batch: 672 / 6720], examples_per_second: 1984.4687, train_label_loss: 0.2579, \n"
     ]
    },
    {
     "name": "stdout",
     "output_type": "stream",
     "text": [
      "epoch: 4, [batch: 1344 / 6720], examples_per_second: 1981.1325, train_label_loss: 1.0227, \n"
     ]
    },
    {
     "name": "stdout",
     "output_type": "stream",
     "text": [
      "epoch: 4, [batch: 2016 / 6720], examples_per_second: 1982.0601, train_label_loss: 0.8492, \n"
     ]
    },
    {
     "name": "stdout",
     "output_type": "stream",
     "text": [
      "epoch: 4, [batch: 2688 / 6720], examples_per_second: 2129.2862, train_label_loss: 0.5666, \n"
     ]
    },
    {
     "name": "stdout",
     "output_type": "stream",
     "text": [
      "epoch: 4, [batch: 3360 / 6720], examples_per_second: 2686.7698, train_label_loss: 0.3513, \n"
     ]
    },
    {
     "name": "stdout",
     "output_type": "stream",
     "text": [
      "epoch: 4, [batch: 4032 / 6720], examples_per_second: 1966.5601, train_label_loss: 0.8774, \n"
     ]
    },
    {
     "name": "stdout",
     "output_type": "stream",
     "text": [
      "epoch: 4, [batch: 4704 / 6720], examples_per_second: 1962.7402, train_label_loss: 0.4481, \n"
     ]
    },
    {
     "name": "stdout",
     "output_type": "stream",
     "text": [
      "epoch: 4, [batch: 5376 / 6720], examples_per_second: 1969.1690, train_label_loss: 0.7383, \n"
     ]
    },
    {
     "name": "stdout",
     "output_type": "stream",
     "text": [
      "epoch: 4, [batch: 6048 / 6720], examples_per_second: 1969.9290, train_label_loss: 0.3040, \n"
     ]
    },
    {
     "name": "stdout",
     "output_type": "stream",
     "text": [
      "=============================================================\n",
      "epoch: 4, source_val_acc_label: 0.7783, target_val_acc_label: 0.6871, source_val_label_loss: 0.6043, target_val_label_loss: 135.5280, \n",
      "=============================================================\n"
     ]
    },
    {
     "name": "stdout",
     "output_type": "stream",
     "text": [
      "New best\n"
     ]
    },
    {
     "name": "stdout",
     "output_type": "stream",
     "text": [
      "epoch: 5, [batch: 1 / 6720], examples_per_second: 2.8612, train_label_loss: 0.2868, \n"
     ]
    },
    {
     "name": "stdout",
     "output_type": "stream",
     "text": [
      "epoch: 5, [batch: 672 / 6720], examples_per_second: 1969.7847, train_label_loss: 0.4429, \n"
     ]
    },
    {
     "name": "stdout",
     "output_type": "stream",
     "text": [
      "epoch: 5, [batch: 1344 / 6720], examples_per_second: 1968.9535, train_label_loss: 0.6909, \n"
     ]
    },
    {
     "name": "stdout",
     "output_type": "stream",
     "text": [
      "epoch: 5, [batch: 2016 / 6720], examples_per_second: 1967.1799, train_label_loss: 0.9389, \n"
     ]
    },
    {
     "name": "stdout",
     "output_type": "stream",
     "text": [
      "epoch: 5, [batch: 2688 / 6720], examples_per_second: 2125.9700, train_label_loss: 0.5884, \n"
     ]
    },
    {
     "name": "stdout",
     "output_type": "stream",
     "text": [
      "epoch: 5, [batch: 3360 / 6720], examples_per_second: 2648.4959, train_label_loss: 0.2432, \n"
     ]
    },
    {
     "name": "stdout",
     "output_type": "stream",
     "text": [
      "epoch: 5, [batch: 4032 / 6720], examples_per_second: 1994.7205, train_label_loss: 0.3182, \n"
     ]
    },
    {
     "name": "stdout",
     "output_type": "stream",
     "text": [
      "epoch: 5, [batch: 4704 / 6720], examples_per_second: 1978.2350, train_label_loss: 0.1790, \n"
     ]
    },
    {
     "name": "stdout",
     "output_type": "stream",
     "text": [
      "epoch: 5, [batch: 5376 / 6720], examples_per_second: 1981.0974, train_label_loss: 0.7279, \n"
     ]
    },
    {
     "name": "stdout",
     "output_type": "stream",
     "text": [
      "epoch: 5, [batch: 6048 / 6720], examples_per_second: 1984.8330, train_label_loss: 0.3287, \n"
     ]
    },
    {
     "name": "stdout",
     "output_type": "stream",
     "text": [
      "=============================================================\n",
      "epoch: 5, source_val_acc_label: 0.8249, target_val_acc_label: 0.6882, source_val_label_loss: 0.4799, target_val_label_loss: 127.4151, \n",
      "=============================================================\n"
     ]
    },
    {
     "name": "stdout",
     "output_type": "stream",
     "text": [
      "New best\n"
     ]
    },
    {
     "name": "stdout",
     "output_type": "stream",
     "text": [
      "epoch: 6, [batch: 1 / 6720], examples_per_second: 2.8620, train_label_loss: 0.5003, \n"
     ]
    },
    {
     "name": "stdout",
     "output_type": "stream",
     "text": [
      "epoch: 6, [batch: 672 / 6720], examples_per_second: 1980.7613, train_label_loss: 0.7401, \n"
     ]
    },
    {
     "name": "stdout",
     "output_type": "stream",
     "text": [
      "epoch: 6, [batch: 1344 / 6720], examples_per_second: 1981.8758, train_label_loss: 0.7145, \n"
     ]
    },
    {
     "name": "stdout",
     "output_type": "stream",
     "text": [
      "epoch: 6, [batch: 2016 / 6720], examples_per_second: 1977.9473, train_label_loss: 0.3588, \n"
     ]
    },
    {
     "name": "stdout",
     "output_type": "stream",
     "text": [
      "epoch: 6, [batch: 2688 / 6720], examples_per_second: 2129.4317, train_label_loss: 0.1134, \n"
     ]
    },
    {
     "name": "stdout",
     "output_type": "stream",
     "text": [
      "epoch: 6, [batch: 3360 / 6720], examples_per_second: 2701.7064, train_label_loss: 0.1774, \n"
     ]
    },
    {
     "name": "stdout",
     "output_type": "stream",
     "text": [
      "epoch: 6, [batch: 4032 / 6720], examples_per_second: 1983.1703, train_label_loss: 0.5201, \n"
     ]
    },
    {
     "name": "stdout",
     "output_type": "stream",
     "text": [
      "epoch: 6, [batch: 4704 / 6720], examples_per_second: 1976.5477, train_label_loss: 0.5260, \n"
     ]
    },
    {
     "name": "stdout",
     "output_type": "stream",
     "text": [
      "epoch: 6, [batch: 5376 / 6720], examples_per_second: 1981.7749, train_label_loss: 0.3104, \n"
     ]
    },
    {
     "name": "stdout",
     "output_type": "stream",
     "text": [
      "epoch: 6, [batch: 6048 / 6720], examples_per_second: 1985.7960, train_label_loss: 0.1983, \n"
     ]
    },
    {
     "name": "stdout",
     "output_type": "stream",
     "text": [
      "=============================================================\n",
      "epoch: 6, source_val_acc_label: 0.8306, target_val_acc_label: 0.7117, source_val_label_loss: 0.4611, target_val_label_loss: 120.4501, \n",
      "=============================================================\n"
     ]
    },
    {
     "name": "stdout",
     "output_type": "stream",
     "text": [
      "New best\n"
     ]
    },
    {
     "name": "stdout",
     "output_type": "stream",
     "text": [
      "epoch: 7, [batch: 1 / 6720], examples_per_second: 2.8790, train_label_loss: 0.1747, \n"
     ]
    },
    {
     "name": "stdout",
     "output_type": "stream",
     "text": [
      "epoch: 7, [batch: 672 / 6720], examples_per_second: 1985.4806, train_label_loss: 0.7750, \n"
     ]
    },
    {
     "name": "stdout",
     "output_type": "stream",
     "text": [
      "epoch: 7, [batch: 1344 / 6720], examples_per_second: 1982.6842, train_label_loss: 0.2693, \n"
     ]
    },
    {
     "name": "stdout",
     "output_type": "stream",
     "text": [
      "epoch: 7, [batch: 2016 / 6720], examples_per_second: 1981.5783, train_label_loss: 0.6339, \n"
     ]
    },
    {
     "name": "stdout",
     "output_type": "stream",
     "text": [
      "epoch: 7, [batch: 2688 / 6720], examples_per_second: 2137.3806, train_label_loss: 0.4033, \n"
     ]
    },
    {
     "name": "stdout",
     "output_type": "stream",
     "text": [
      "epoch: 7, [batch: 3360 / 6720], examples_per_second: 2722.6603, train_label_loss: 0.8388, \n"
     ]
    },
    {
     "name": "stdout",
     "output_type": "stream",
     "text": [
      "epoch: 7, [batch: 4032 / 6720], examples_per_second: 1981.4474, train_label_loss: 0.1781, \n"
     ]
    },
    {
     "name": "stdout",
     "output_type": "stream",
     "text": [
      "epoch: 7, [batch: 4704 / 6720], examples_per_second: 1978.1818, train_label_loss: 0.4863, \n"
     ]
    },
    {
     "name": "stdout",
     "output_type": "stream",
     "text": [
      "epoch: 7, [batch: 5376 / 6720], examples_per_second: 1980.0544, train_label_loss: 0.2351, \n"
     ]
    },
    {
     "name": "stdout",
     "output_type": "stream",
     "text": [
      "epoch: 7, [batch: 6048 / 6720], examples_per_second: 1987.2990, train_label_loss: 0.2345, \n"
     ]
    },
    {
     "name": "stdout",
     "output_type": "stream",
     "text": [
      "=============================================================\n",
      "epoch: 7, source_val_acc_label: 0.8389, target_val_acc_label: 0.7189, source_val_label_loss: 0.4420, target_val_label_loss: 118.0395, \n",
      "=============================================================\n"
     ]
    },
    {
     "name": "stdout",
     "output_type": "stream",
     "text": [
      "New best\n"
     ]
    },
    {
     "name": "stdout",
     "output_type": "stream",
     "text": [
      "epoch: 8, [batch: 1 / 6720], examples_per_second: 2.8641, train_label_loss: 0.6787, \n"
     ]
    },
    {
     "name": "stdout",
     "output_type": "stream",
     "text": [
      "epoch: 8, [batch: 672 / 6720], examples_per_second: 1982.8210, train_label_loss: 0.5983, \n"
     ]
    },
    {
     "name": "stdout",
     "output_type": "stream",
     "text": [
      "epoch: 8, [batch: 1344 / 6720], examples_per_second: 1982.7816, train_label_loss: 0.5048, \n"
     ]
    },
    {
     "name": "stdout",
     "output_type": "stream",
     "text": [
      "epoch: 8, [batch: 2016 / 6720], examples_per_second: 1981.1579, train_label_loss: 0.1736, \n"
     ]
    },
    {
     "name": "stdout",
     "output_type": "stream",
     "text": [
      "epoch: 8, [batch: 2688 / 6720], examples_per_second: 2142.7155, train_label_loss: 0.1932, \n"
     ]
    },
    {
     "name": "stdout",
     "output_type": "stream",
     "text": [
      "epoch: 8, [batch: 3360 / 6720], examples_per_second: 2715.6323, train_label_loss: 0.4775, \n"
     ]
    },
    {
     "name": "stdout",
     "output_type": "stream",
     "text": [
      "epoch: 8, [batch: 4032 / 6720], examples_per_second: 1977.3197, train_label_loss: 0.5126, \n"
     ]
    },
    {
     "name": "stdout",
     "output_type": "stream",
     "text": [
      "epoch: 8, [batch: 4704 / 6720], examples_per_second: 1977.1967, train_label_loss: 0.2383, \n"
     ]
    },
    {
     "name": "stdout",
     "output_type": "stream",
     "text": [
      "epoch: 8, [batch: 5376 / 6720], examples_per_second: 1980.6964, train_label_loss: 0.3878, \n"
     ]
    },
    {
     "name": "stdout",
     "output_type": "stream",
     "text": [
      "epoch: 8, [batch: 6048 / 6720], examples_per_second: 1984.3792, train_label_loss: 0.3869, \n"
     ]
    },
    {
     "name": "stdout",
     "output_type": "stream",
     "text": [
      "=============================================================\n",
      "epoch: 8, source_val_acc_label: 0.8562, target_val_acc_label: 0.7267, source_val_label_loss: 0.3899, target_val_label_loss: 120.5062, \n",
      "=============================================================\n"
     ]
    },
    {
     "name": "stdout",
     "output_type": "stream",
     "text": [
      "New best\n"
     ]
    },
    {
     "name": "stdout",
     "output_type": "stream",
     "text": [
      "epoch: 9, [batch: 1 / 6720], examples_per_second: 2.8626, train_label_loss: 0.1662, \n"
     ]
    },
    {
     "name": "stdout",
     "output_type": "stream",
     "text": [
      "epoch: 9, [batch: 672 / 6720], examples_per_second: 1985.2702, train_label_loss: 0.6856, \n"
     ]
    },
    {
     "name": "stdout",
     "output_type": "stream",
     "text": [
      "epoch: 9, [batch: 1344 / 6720], examples_per_second: 1982.0449, train_label_loss: 0.4365, \n"
     ]
    },
    {
     "name": "stdout",
     "output_type": "stream",
     "text": [
      "epoch: 9, [batch: 2016 / 6720], examples_per_second: 1983.6731, train_label_loss: 0.2777, \n"
     ]
    },
    {
     "name": "stdout",
     "output_type": "stream",
     "text": [
      "epoch: 9, [batch: 2688 / 6720], examples_per_second: 2145.8178, train_label_loss: 0.1879, \n"
     ]
    },
    {
     "name": "stdout",
     "output_type": "stream",
     "text": [
      "epoch: 9, [batch: 3360 / 6720], examples_per_second: 2718.0726, train_label_loss: 0.6059, \n"
     ]
    },
    {
     "name": "stdout",
     "output_type": "stream",
     "text": [
      "epoch: 9, [batch: 4032 / 6720], examples_per_second: 1978.4942, train_label_loss: 0.8822, \n"
     ]
    },
    {
     "name": "stdout",
     "output_type": "stream",
     "text": [
      "epoch: 9, [batch: 4704 / 6720], examples_per_second: 1978.6796, train_label_loss: 0.2703, \n"
     ]
    },
    {
     "name": "stdout",
     "output_type": "stream",
     "text": [
      "epoch: 9, [batch: 5376 / 6720], examples_per_second: 1981.4322, train_label_loss: 0.1414, \n"
     ]
    },
    {
     "name": "stdout",
     "output_type": "stream",
     "text": [
      "epoch: 9, [batch: 6048 / 6720], examples_per_second: 1986.0385, train_label_loss: 0.2851, \n"
     ]
    },
    {
     "name": "stdout",
     "output_type": "stream",
     "text": [
      "=============================================================\n",
      "epoch: 9, source_val_acc_label: 0.8623, target_val_acc_label: 0.7212, source_val_label_loss: 0.3785, target_val_label_loss: 122.7738, \n",
      "=============================================================\n"
     ]
    },
    {
     "name": "stdout",
     "output_type": "stream",
     "text": [
      "epoch: 10, [batch: 1 / 6720], examples_per_second: 2.8560, train_label_loss: 0.4957, \n"
     ]
    },
    {
     "name": "stdout",
     "output_type": "stream",
     "text": [
      "epoch: 10, [batch: 672 / 6720], examples_per_second: 1983.4323, train_label_loss: 0.2075, \n"
     ]
    },
    {
     "name": "stdout",
     "output_type": "stream",
     "text": [
      "epoch: 10, [batch: 1344 / 6720], examples_per_second: 1983.4427, train_label_loss: 0.3816, \n"
     ]
    },
    {
     "name": "stdout",
     "output_type": "stream",
     "text": [
      "epoch: 10, [batch: 2016 / 6720], examples_per_second: 1983.0009, train_label_loss: 0.0303, \n"
     ]
    },
    {
     "name": "stdout",
     "output_type": "stream",
     "text": [
      "epoch: 10, [batch: 2688 / 6720], examples_per_second: 2147.5544, train_label_loss: 0.4594, \n"
     ]
    },
    {
     "name": "stdout",
     "output_type": "stream",
     "text": [
      "epoch: 10, [batch: 3360 / 6720], examples_per_second: 2696.2871, train_label_loss: 0.0982, \n"
     ]
    },
    {
     "name": "stdout",
     "output_type": "stream",
     "text": [
      "epoch: 10, [batch: 4032 / 6720], examples_per_second: 1983.3028, train_label_loss: 0.4594, \n"
     ]
    },
    {
     "name": "stdout",
     "output_type": "stream",
     "text": [
      "epoch: 10, [batch: 4704 / 6720], examples_per_second: 1977.9197, train_label_loss: 0.6751, \n"
     ]
    },
    {
     "name": "stdout",
     "output_type": "stream",
     "text": [
      "epoch: 10, [batch: 5376 / 6720], examples_per_second: 1978.7438, train_label_loss: 0.5027, \n"
     ]
    },
    {
     "name": "stdout",
     "output_type": "stream",
     "text": [
      "epoch: 10, [batch: 6048 / 6720], examples_per_second: 1985.0767, train_label_loss: 0.1561, \n"
     ]
    },
    {
     "name": "stdout",
     "output_type": "stream",
     "text": [
      "=============================================================\n",
      "epoch: 10, source_val_acc_label: 0.8752, target_val_acc_label: 0.7229, source_val_label_loss: 0.3447, target_val_label_loss: 103.9793, \n",
      "=============================================================\n"
     ]
    },
    {
     "name": "stdout",
     "output_type": "stream",
     "text": [
      "epoch: 11, [batch: 1 / 6720], examples_per_second: 2.8998, train_label_loss: 0.3126, \n"
     ]
    },
    {
     "name": "stdout",
     "output_type": "stream",
     "text": [
      "epoch: 11, [batch: 672 / 6720], examples_per_second: 1984.1832, train_label_loss: 0.3832, \n"
     ]
    },
    {
     "name": "stdout",
     "output_type": "stream",
     "text": [
      "epoch: 11, [batch: 1344 / 6720], examples_per_second: 1984.6992, train_label_loss: 0.5324, \n"
     ]
    },
    {
     "name": "stdout",
     "output_type": "stream",
     "text": [
      "epoch: 11, [batch: 2016 / 6720], examples_per_second: 1981.5561, train_label_loss: 0.0461, \n"
     ]
    },
    {
     "name": "stdout",
     "output_type": "stream",
     "text": [
      "epoch: 11, [batch: 2688 / 6720], examples_per_second: 2140.7724, train_label_loss: 0.7126, \n"
     ]
    },
    {
     "name": "stdout",
     "output_type": "stream",
     "text": [
      "epoch: 11, [batch: 3360 / 6720], examples_per_second: 2677.3672, train_label_loss: 0.3107, \n"
     ]
    },
    {
     "name": "stdout",
     "output_type": "stream",
     "text": [
      "epoch: 11, [batch: 4032 / 6720], examples_per_second: 1982.9122, train_label_loss: 0.1090, \n"
     ]
    },
    {
     "name": "stdout",
     "output_type": "stream",
     "text": [
      "epoch: 11, [batch: 4704 / 6720], examples_per_second: 1978.1552, train_label_loss: 0.1618, \n"
     ]
    },
    {
     "name": "stdout",
     "output_type": "stream",
     "text": [
      "epoch: 11, [batch: 5376 / 6720], examples_per_second: 1981.8524, train_label_loss: 0.1654, \n"
     ]
    },
    {
     "name": "stdout",
     "output_type": "stream",
     "text": [
      "epoch: 11, [batch: 6048 / 6720], examples_per_second: 1986.7956, train_label_loss: 0.1721, \n"
     ]
    },
    {
     "name": "stdout",
     "output_type": "stream",
     "text": [
      "=============================================================\n",
      "epoch: 11, source_val_acc_label: 0.8725, target_val_acc_label: 0.7337, source_val_label_loss: 0.3453, target_val_label_loss: 109.8058, \n",
      "=============================================================\n"
     ]
    },
    {
     "name": "stdout",
     "output_type": "stream",
     "text": [
      "New best\n"
     ]
    },
    {
     "name": "stdout",
     "output_type": "stream",
     "text": [
      "epoch: 12, [batch: 1 / 6720], examples_per_second: 2.8798, train_label_loss: 0.6991, \n"
     ]
    },
    {
     "name": "stdout",
     "output_type": "stream",
     "text": [
      "epoch: 12, [batch: 672 / 6720], examples_per_second: 1985.4223, train_label_loss: 0.4208, \n"
     ]
    },
    {
     "name": "stdout",
     "output_type": "stream",
     "text": [
      "epoch: 12, [batch: 1344 / 6720], examples_per_second: 1979.6194, train_label_loss: 0.0978, \n"
     ]
    },
    {
     "name": "stdout",
     "output_type": "stream",
     "text": [
      "epoch: 12, [batch: 2016 / 6720], examples_per_second: 1981.6479, train_label_loss: 0.6091, \n"
     ]
    },
    {
     "name": "stdout",
     "output_type": "stream",
     "text": [
      "epoch: 12, [batch: 2688 / 6720], examples_per_second: 2142.0995, train_label_loss: 0.2001, \n"
     ]
    },
    {
     "name": "stdout",
     "output_type": "stream",
     "text": [
      "epoch: 12, [batch: 3360 / 6720], examples_per_second: 2701.3909, train_label_loss: 0.3482, \n"
     ]
    },
    {
     "name": "stdout",
     "output_type": "stream",
     "text": [
      "epoch: 12, [batch: 4032 / 6720], examples_per_second: 1979.6438, train_label_loss: 0.2765, \n"
     ]
    },
    {
     "name": "stdout",
     "output_type": "stream",
     "text": [
      "epoch: 12, [batch: 4704 / 6720], examples_per_second: 1980.6811, train_label_loss: 0.0978, \n"
     ]
    },
    {
     "name": "stdout",
     "output_type": "stream",
     "text": [
      "epoch: 12, [batch: 5376 / 6720], examples_per_second: 1982.9204, train_label_loss: 0.1218, \n"
     ]
    },
    {
     "name": "stdout",
     "output_type": "stream",
     "text": [
      "epoch: 12, [batch: 6048 / 6720], examples_per_second: 1985.7692, train_label_loss: 0.0544, \n"
     ]
    },
    {
     "name": "stdout",
     "output_type": "stream",
     "text": [
      "=============================================================\n",
      "epoch: 12, source_val_acc_label: 0.8780, target_val_acc_label: 0.7460, source_val_label_loss: 0.3416, target_val_label_loss: 120.0291, \n",
      "=============================================================\n"
     ]
    },
    {
     "name": "stdout",
     "output_type": "stream",
     "text": [
      "New best\n"
     ]
    },
    {
     "name": "stdout",
     "output_type": "stream",
     "text": [
      "epoch: 13, [batch: 1 / 6720], examples_per_second: 2.8577, train_label_loss: 0.3855, \n"
     ]
    },
    {
     "name": "stdout",
     "output_type": "stream",
     "text": [
      "epoch: 13, [batch: 672 / 6720], examples_per_second: 1985.2910, train_label_loss: 0.2182, \n"
     ]
    },
    {
     "name": "stdout",
     "output_type": "stream",
     "text": [
      "epoch: 13, [batch: 1344 / 6720], examples_per_second: 1982.3005, train_label_loss: 0.0995, \n"
     ]
    },
    {
     "name": "stdout",
     "output_type": "stream",
     "text": [
      "epoch: 13, [batch: 2016 / 6720], examples_per_second: 1982.7784, train_label_loss: 0.1516, \n"
     ]
    },
    {
     "name": "stdout",
     "output_type": "stream",
     "text": [
      "epoch: 13, [batch: 2688 / 6720], examples_per_second: 2142.6685, train_label_loss: 0.0891, \n"
     ]
    },
    {
     "name": "stdout",
     "output_type": "stream",
     "text": [
      "epoch: 13, [batch: 3360 / 6720], examples_per_second: 2728.4373, train_label_loss: 0.1202, \n"
     ]
    },
    {
     "name": "stdout",
     "output_type": "stream",
     "text": [
      "epoch: 13, [batch: 4032 / 6720], examples_per_second: 1982.5721, train_label_loss: 0.4312, \n"
     ]
    },
    {
     "name": "stdout",
     "output_type": "stream",
     "text": [
      "epoch: 13, [batch: 4704 / 6720], examples_per_second: 1977.9158, train_label_loss: 0.0437, \n"
     ]
    },
    {
     "name": "stdout",
     "output_type": "stream",
     "text": [
      "epoch: 13, [batch: 5376 / 6720], examples_per_second: 1980.9112, train_label_loss: 0.1116, \n"
     ]
    },
    {
     "name": "stdout",
     "output_type": "stream",
     "text": [
      "epoch: 13, [batch: 6048 / 6720], examples_per_second: 1986.0569, train_label_loss: 0.2553, \n"
     ]
    },
    {
     "name": "stdout",
     "output_type": "stream",
     "text": [
      "=============================================================\n",
      "epoch: 13, source_val_acc_label: 0.8646, target_val_acc_label: 0.7527, source_val_label_loss: 0.3816, target_val_label_loss: 134.1837, \n",
      "=============================================================\n"
     ]
    },
    {
     "name": "stdout",
     "output_type": "stream",
     "text": [
      "New best\n"
     ]
    },
    {
     "name": "stdout",
     "output_type": "stream",
     "text": [
      "epoch: 14, [batch: 1 / 6720], examples_per_second: 2.8873, train_label_loss: 0.3891, \n"
     ]
    },
    {
     "name": "stdout",
     "output_type": "stream",
     "text": [
      "epoch: 14, [batch: 672 / 6720], examples_per_second: 1985.3971, train_label_loss: 0.2020, \n"
     ]
    },
    {
     "name": "stdout",
     "output_type": "stream",
     "text": [
      "epoch: 14, [batch: 1344 / 6720], examples_per_second: 1982.5610, train_label_loss: 0.3771, \n"
     ]
    },
    {
     "name": "stdout",
     "output_type": "stream",
     "text": [
      "epoch: 14, [batch: 2016 / 6720], examples_per_second: 1980.4375, train_label_loss: 0.1893, \n"
     ]
    },
    {
     "name": "stdout",
     "output_type": "stream",
     "text": [
      "epoch: 14, [batch: 2688 / 6720], examples_per_second: 2135.2845, train_label_loss: 0.0804, \n"
     ]
    },
    {
     "name": "stdout",
     "output_type": "stream",
     "text": [
      "epoch: 14, [batch: 3360 / 6720], examples_per_second: 2676.7732, train_label_loss: 0.1403, \n"
     ]
    },
    {
     "name": "stdout",
     "output_type": "stream",
     "text": [
      "epoch: 14, [batch: 4032 / 6720], examples_per_second: 1981.8099, train_label_loss: 0.4648, \n"
     ]
    },
    {
     "name": "stdout",
     "output_type": "stream",
     "text": [
      "epoch: 14, [batch: 4704 / 6720], examples_per_second: 1978.4886, train_label_loss: 0.1286, \n"
     ]
    },
    {
     "name": "stdout",
     "output_type": "stream",
     "text": [
      "epoch: 14, [batch: 5376 / 6720], examples_per_second: 1980.4429, train_label_loss: 0.0812, \n"
     ]
    },
    {
     "name": "stdout",
     "output_type": "stream",
     "text": [
      "epoch: 14, [batch: 6048 / 6720], examples_per_second: 1985.7598, train_label_loss: 0.1174, \n"
     ]
    },
    {
     "name": "stdout",
     "output_type": "stream",
     "text": [
      "=============================================================\n",
      "epoch: 14, source_val_acc_label: 0.8742, target_val_acc_label: 0.7352, source_val_label_loss: 0.3506, target_val_label_loss: 128.0303, \n",
      "=============================================================\n"
     ]
    },
    {
     "name": "stdout",
     "output_type": "stream",
     "text": [
      "epoch: 15, [batch: 1 / 6720], examples_per_second: 2.8856, train_label_loss: 0.0320, \n"
     ]
    },
    {
     "name": "stdout",
     "output_type": "stream",
     "text": [
      "epoch: 15, [batch: 672 / 6720], examples_per_second: 1984.8670, train_label_loss: 0.1187, \n"
     ]
    },
    {
     "name": "stdout",
     "output_type": "stream",
     "text": [
      "epoch: 15, [batch: 1344 / 6720], examples_per_second: 1980.9833, train_label_loss: 0.0389, \n"
     ]
    },
    {
     "name": "stdout",
     "output_type": "stream",
     "text": [
      "epoch: 15, [batch: 2016 / 6720], examples_per_second: 1982.6551, train_label_loss: 0.0842, \n"
     ]
    },
    {
     "name": "stdout",
     "output_type": "stream",
     "text": [
      "epoch: 15, [batch: 2688 / 6720], examples_per_second: 2141.5065, train_label_loss: 0.1771, \n"
     ]
    },
    {
     "name": "stdout",
     "output_type": "stream",
     "text": [
      "epoch: 15, [batch: 3360 / 6720], examples_per_second: 2742.5707, train_label_loss: 0.2240, \n"
     ]
    },
    {
     "name": "stdout",
     "output_type": "stream",
     "text": [
      "epoch: 15, [batch: 4032 / 6720], examples_per_second: 1984.4078, train_label_loss: 0.4017, \n"
     ]
    },
    {
     "name": "stdout",
     "output_type": "stream",
     "text": [
      "epoch: 15, [batch: 4704 / 6720], examples_per_second: 1977.9274, train_label_loss: 0.2590, \n"
     ]
    },
    {
     "name": "stdout",
     "output_type": "stream",
     "text": [
      "epoch: 15, [batch: 5376 / 6720], examples_per_second: 1981.9583, train_label_loss: 0.1929, \n"
     ]
    },
    {
     "name": "stdout",
     "output_type": "stream",
     "text": [
      "epoch: 15, [batch: 6048 / 6720], examples_per_second: 1984.1586, train_label_loss: 0.2167, \n"
     ]
    },
    {
     "name": "stdout",
     "output_type": "stream",
     "text": [
      "=============================================================\n",
      "epoch: 15, source_val_acc_label: 0.8802, target_val_acc_label: 0.7416, source_val_label_loss: 0.3403, target_val_label_loss: 152.4907, \n",
      "=============================================================\n"
     ]
    },
    {
     "name": "stdout",
     "output_type": "stream",
     "text": [
      "epoch: 16, [batch: 1 / 6720], examples_per_second: 2.8786, train_label_loss: 0.0213, \n"
     ]
    },
    {
     "name": "stdout",
     "output_type": "stream",
     "text": [
      "epoch: 16, [batch: 672 / 6720], examples_per_second: 1986.3780, train_label_loss: 0.2184, \n"
     ]
    },
    {
     "name": "stdout",
     "output_type": "stream",
     "text": [
      "epoch: 16, [batch: 1344 / 6720], examples_per_second: 1982.7114, train_label_loss: 0.1680, \n"
     ]
    },
    {
     "name": "stdout",
     "output_type": "stream",
     "text": [
      "epoch: 16, [batch: 2016 / 6720], examples_per_second: 1982.0933, train_label_loss: 0.2649, \n"
     ]
    },
    {
     "name": "stdout",
     "output_type": "stream",
     "text": [
      "epoch: 16, [batch: 2688 / 6720], examples_per_second: 2119.7217, train_label_loss: 0.0732, \n"
     ]
    },
    {
     "name": "stdout",
     "output_type": "stream",
     "text": [
      "epoch: 16, [batch: 3360 / 6720], examples_per_second: 2727.2738, train_label_loss: 0.1606, \n"
     ]
    },
    {
     "name": "stdout",
     "output_type": "stream",
     "text": [
      "epoch: 16, [batch: 4032 / 6720], examples_per_second: 1992.8449, train_label_loss: 0.2442, \n"
     ]
    },
    {
     "name": "stdout",
     "output_type": "stream",
     "text": [
      "epoch: 16, [batch: 4704 / 6720], examples_per_second: 1977.8925, train_label_loss: 0.2486, \n"
     ]
    },
    {
     "name": "stdout",
     "output_type": "stream",
     "text": [
      "epoch: 16, [batch: 5376 / 6720], examples_per_second: 1981.7910, train_label_loss: 0.3711, \n"
     ]
    },
    {
     "name": "stdout",
     "output_type": "stream",
     "text": [
      "epoch: 16, [batch: 6048 / 6720], examples_per_second: 1984.3680, train_label_loss: 0.1509, \n"
     ]
    },
    {
     "name": "stdout",
     "output_type": "stream",
     "text": [
      "=============================================================\n",
      "epoch: 16, source_val_acc_label: 0.8743, target_val_acc_label: 0.7445, source_val_label_loss: 0.3515, target_val_label_loss: 173.8968, \n",
      "=============================================================\n"
     ]
    },
    {
     "name": "stdout",
     "output_type": "stream",
     "text": [
      "epoch: 17, [batch: 1 / 6720], examples_per_second: 2.8675, train_label_loss: 0.0128, \n"
     ]
    },
    {
     "name": "stdout",
     "output_type": "stream",
     "text": [
      "epoch: 17, [batch: 672 / 6720], examples_per_second: 1982.0943, train_label_loss: 0.1141, \n"
     ]
    },
    {
     "name": "stdout",
     "output_type": "stream",
     "text": [
      "epoch: 17, [batch: 1344 / 6720], examples_per_second: 1982.0345, train_label_loss: 0.0843, \n"
     ]
    },
    {
     "name": "stdout",
     "output_type": "stream",
     "text": [
      "epoch: 17, [batch: 2016 / 6720], examples_per_second: 1980.7968, train_label_loss: 0.3017, \n"
     ]
    },
    {
     "name": "stdout",
     "output_type": "stream",
     "text": [
      "epoch: 17, [batch: 2688 / 6720], examples_per_second: 2130.0191, train_label_loss: 0.1345, \n"
     ]
    },
    {
     "name": "stdout",
     "output_type": "stream",
     "text": [
      "epoch: 17, [batch: 3360 / 6720], examples_per_second: 2519.7171, train_label_loss: 0.2361, \n"
     ]
    },
    {
     "name": "stdout",
     "output_type": "stream",
     "text": [
      "epoch: 17, [batch: 4032 / 6720], examples_per_second: 2483.3419, train_label_loss: 0.2242, \n"
     ]
    },
    {
     "name": "stdout",
     "output_type": "stream",
     "text": [
      "epoch: 17, [batch: 4704 / 6720], examples_per_second: 2448.3594, train_label_loss: 0.0916, \n"
     ]
    },
    {
     "name": "stdout",
     "output_type": "stream",
     "text": [
      "epoch: 17, [batch: 5376 / 6720], examples_per_second: 2460.2047, train_label_loss: 0.2096, \n"
     ]
    },
    {
     "name": "stdout",
     "output_type": "stream",
     "text": [
      "epoch: 17, [batch: 6048 / 6720], examples_per_second: 2372.2417, train_label_loss: 0.0498, \n"
     ]
    },
    {
     "name": "stdout",
     "output_type": "stream",
     "text": [
      "=============================================================\n",
      "epoch: 17, source_val_acc_label: 0.8805, target_val_acc_label: 0.7443, source_val_label_loss: 0.3418, target_val_label_loss: 171.7509, \n",
      "=============================================================\n"
     ]
    },
    {
     "name": "stdout",
     "output_type": "stream",
     "text": [
      "Patience (3) exhausted\n"
     ]
    }
   ],
   "source": [
    "###################################\n",
    "# train\n",
    "###################################\n",
    "jig = PTN_Train_Eval_Test_Jig(model, p.BEST_MODEL_PATH, p.device)\n",
    "\n",
    "jig.train(\n",
    "    train_iterable=datasets.source.processed.train,\n",
    "    source_val_iterable=datasets.source.processed.val,\n",
    "    target_val_iterable=datasets.target.processed.val,\n",
    "    num_epochs=p.n_epoch,\n",
    "    num_logs_per_epoch=p.NUM_LOGS_PER_EPOCH,\n",
    "    patience=p.patience,\n",
    "    optimizer=optimizer,\n",
    "    criteria_for_best=p.criteria_for_best,\n",
    ")"
   ]
  },
  {
   "cell_type": "code",
   "execution_count": 23,
   "id": "31e8fabf",
   "metadata": {
    "execution": {
     "iopub.execute_input": "2022-03-25T22:18:25.727236Z",
     "iopub.status.busy": "2022-03-25T22:18:25.726375Z",
     "iopub.status.idle": "2022-03-25T22:18:25.745741Z",
     "shell.execute_reply": "2022-03-25T22:18:25.745381Z"
    },
    "papermill": {
     "duration": 0.076286,
     "end_time": "2022-03-25T22:18:25.745828",
     "exception": false,
     "start_time": "2022-03-25T22:18:25.669542",
     "status": "completed"
    },
    "tags": []
   },
   "outputs": [],
   "source": [
    "total_experiment_time_secs = time.time() - start_time_secs"
   ]
  },
  {
   "cell_type": "code",
   "execution_count": 24,
   "id": "87b9595b",
   "metadata": {
    "execution": {
     "iopub.execute_input": "2022-03-25T22:18:25.862499Z",
     "iopub.status.busy": "2022-03-25T22:18:25.862202Z",
     "iopub.status.idle": "2022-03-25T22:20:02.113681Z",
     "shell.execute_reply": "2022-03-25T22:20:02.114030Z"
    },
    "papermill": {
     "duration": 96.307872,
     "end_time": "2022-03-25T22:20:02.114144",
     "exception": false,
     "start_time": "2022-03-25T22:18:25.806272",
     "status": "completed"
    },
    "tags": []
   },
   "outputs": [],
   "source": [
    "###################################\n",
    "# Evaluate the model\n",
    "###################################\n",
    "source_test_label_accuracy, source_test_label_loss = jig.test(datasets.source.processed.test)\n",
    "target_test_label_accuracy, target_test_label_loss = jig.test(datasets.target.processed.test)\n",
    "\n",
    "source_val_label_accuracy, source_val_label_loss = jig.test(datasets.source.processed.val)\n",
    "target_val_label_accuracy, target_val_label_loss = jig.test(datasets.target.processed.val)\n",
    "\n",
    "history = jig.get_history()\n",
    "\n",
    "total_epochs_trained = len(history[\"epoch_indices\"])\n",
    "\n",
    "val_dl = Iterable_Aggregator((datasets.source.original.val,datasets.target.original.val))\n",
    "\n",
    "confusion = ptn_confusion_by_domain_over_dataloader(model, p.device, val_dl)\n",
    "per_domain_accuracy = per_domain_accuracy_from_confusion(confusion)\n",
    "\n",
    "# Add a key to per_domain_accuracy for if it was a source domain\n",
    "for domain, accuracy in per_domain_accuracy.items():\n",
    "    per_domain_accuracy[domain] = {\n",
    "        \"accuracy\": accuracy,\n",
    "        \"source?\": domain in p.domains_source\n",
    "    }\n",
    "\n",
    "# Do an independent accuracy assesment JUST TO BE SURE!\n",
    "# _source_test_label_accuracy = independent_accuracy_assesment(model, datasets.source.processed.test, p.device)\n",
    "# _target_test_label_accuracy = independent_accuracy_assesment(model, datasets.target.processed.test, p.device)\n",
    "# _source_val_label_accuracy = independent_accuracy_assesment(model, datasets.source.processed.val, p.device)\n",
    "# _target_val_label_accuracy = independent_accuracy_assesment(model, datasets.target.processed.val, p.device)\n",
    "\n",
    "# assert(_source_test_label_accuracy == source_test_label_accuracy)\n",
    "# assert(_target_test_label_accuracy == target_test_label_accuracy)\n",
    "# assert(_source_val_label_accuracy == source_val_label_accuracy)\n",
    "# assert(_target_val_label_accuracy == target_val_label_accuracy)\n",
    "\n",
    "experiment = {\n",
    "    \"experiment_name\": p.experiment_name,\n",
    "    \"parameters\": dict(p),\n",
    "    \"results\": {\n",
    "        \"source_test_label_accuracy\": source_test_label_accuracy,\n",
    "        \"source_test_label_loss\": source_test_label_loss,\n",
    "        \"target_test_label_accuracy\": target_test_label_accuracy,\n",
    "        \"target_test_label_loss\": target_test_label_loss,\n",
    "        \"source_val_label_accuracy\": source_val_label_accuracy,\n",
    "        \"source_val_label_loss\": source_val_label_loss,\n",
    "        \"target_val_label_accuracy\": target_val_label_accuracy,\n",
    "        \"target_val_label_loss\": target_val_label_loss,\n",
    "        \"total_epochs_trained\": total_epochs_trained,\n",
    "        \"total_experiment_time_secs\": total_experiment_time_secs,\n",
    "        \"confusion\": confusion,\n",
    "        \"per_domain_accuracy\": per_domain_accuracy,\n",
    "    },\n",
    "    \"history\": history,\n",
    "    \"dataset_metrics\": get_dataset_metrics(datasets, \"ptn\"),\n",
    "}"
   ]
  },
  {
   "cell_type": "code",
   "execution_count": 25,
   "id": "54a21829",
   "metadata": {
    "execution": {
     "iopub.execute_input": "2022-03-25T22:20:02.248196Z",
     "iopub.status.busy": "2022-03-25T22:20:02.247927Z",
     "iopub.status.idle": "2022-03-25T22:20:02.379789Z",
     "shell.execute_reply": "2022-03-25T22:20:02.380223Z"
    },
    "papermill": {
     "duration": 0.19776,
     "end_time": "2022-03-25T22:20:02.380356",
     "exception": false,
     "start_time": "2022-03-25T22:20:02.182596",
     "status": "completed"
    },
    "tags": []
   },
   "outputs": [
    {
     "data": {
      "image/png": "[encoded data removed]",
      "text/plain": [
       "<Figure size 1080x504 with 1 Axes>"
      ]
     },
     "metadata": {
      "needs_background": "light"
     },
     "output_type": "display_data"
    }
   ],
   "source": [
    "ax = get_loss_curve(experiment)\n",
    "plt.show()"
   ]
  },
  {
   "cell_type": "code",
   "execution_count": 26,
   "id": "fd8a0f60",
   "metadata": {
    "execution": {
     "iopub.execute_input": "2022-03-25T22:20:02.486910Z",
     "iopub.status.busy": "2022-03-25T22:20:02.486645Z",
     "iopub.status.idle": "2022-03-25T22:20:02.632779Z",
     "shell.execute_reply": "2022-03-25T22:20:02.633340Z"
    },
    "papermill": {
     "duration": 0.199465,
     "end_time": "2022-03-25T22:20:02.633523",
     "exception": false,
     "start_time": "2022-03-25T22:20:02.434058",
     "status": "completed"
    },
    "tags": []
   },
   "outputs": [
    {
     "data": {
      "text/plain": [
       "<AxesSubplot:title={'center':'Results'}>"
      ]
     },
     "execution_count": 26,
     "metadata": {},
     "output_type": "execute_result"
    },
    {
     "data": {
      "image/png": "[encoded data removed]",
      "text/plain": [
       "<Figure size 1080x504 with 1 Axes>"
      ]
     },
     "metadata": {
      "needs_background": "light"
     },
     "output_type": "display_data"
    }
   ],
   "source": [
    "get_results_table(experiment)"
   ]
  },
  {
   "cell_type": "code",
   "execution_count": 27,
   "id": "cf8dc689",
   "metadata": {
    "execution": {
     "iopub.execute_input": "2022-03-25T22:20:02.750152Z",
     "iopub.status.busy": "2022-03-25T22:20:02.749851Z",
     "iopub.status.idle": "2022-03-25T22:20:02.889460Z",
     "shell.execute_reply": "2022-03-25T22:20:02.889900Z"
    },
    "papermill": {
     "duration": 0.197426,
     "end_time": "2022-03-25T22:20:02.890048",
     "exception": false,
     "start_time": "2022-03-25T22:20:02.692622",
     "status": "completed"
    },
    "tags": []
   },
   "outputs": [
    {
     "data": {
      "text/plain": [
       "<AxesSubplot:title={'center':'Per Domain Validation Accuracy'}, xlabel='domain'>"
      ]
     },
     "execution_count": 27,
     "metadata": {},
     "output_type": "execute_result"
    },
    {
     "data": {
      "image/png": "[encoded data removed]",
      "text/plain": [
       "<Figure size 1080x504 with 1 Axes>"
      ]
     },
     "metadata": {
      "needs_background": "light"
     },
     "output_type": "display_data"
    }
   ],
   "source": [
    "get_domain_accuracies(experiment)"
   ]
  },
  {
   "cell_type": "code",
   "execution_count": 28,
   "id": "a74ae082",
   "metadata": {
    "execution": {
     "iopub.execute_input": "2022-03-25T22:20:03.009313Z",
     "iopub.status.busy": "2022-03-25T22:20:03.009044Z",
     "iopub.status.idle": "2022-03-25T22:20:03.025643Z",
     "shell.execute_reply": "2022-03-25T22:20:03.026066Z"
    },
    "papermill": {
     "duration": 0.074857,
     "end_time": "2022-03-25T22:20:03.026196",
     "exception": false,
     "start_time": "2022-03-25T22:20:02.951339",
     "status": "completed"
    },
    "tags": []
   },
   "outputs": [
    {
     "name": "stdout",
     "output_type": "stream",
     "text": [
      "Source Test Label Accuracy: 0.8666341145833333 Target Test Label Accuracy: 0.7479657687991021\n",
      "Source Val Label Accuracy: 0.86455078125 Target Val Label Accuracy: 0.7527468607305936\n"
     ]
    }
   ],
   "source": [
    "print(\"Source Test Label Accuracy:\", experiment[\"results\"][\"source_test_label_accuracy\"], \"Target Test Label Accuracy:\", experiment[\"results\"][\"target_test_label_accuracy\"])\n",
    "print(\"Source Val Label Accuracy:\", experiment[\"results\"][\"source_val_label_accuracy\"], \"Target Val Label Accuracy:\", experiment[\"results\"][\"target_val_label_accuracy\"])"
   ]
  },
  {
   "cell_type": "code",
   "execution_count": 29,
   "id": "dacca602",
   "metadata": {
    "execution": {
     "iopub.execute_input": "2022-03-25T22:20:03.144261Z",
     "iopub.status.busy": "2022-03-25T22:20:03.143495Z",
     "iopub.status.idle": "2022-03-25T22:20:03.163227Z",
     "shell.execute_reply": "2022-03-25T22:20:03.163608Z"
    },
    "papermill": {
     "duration": 0.076689,
     "end_time": "2022-03-25T22:20:03.163723",
     "exception": false,
     "start_time": "2022-03-25T22:20:03.087034",
     "status": "completed"
    },
    "tags": [
     "experiment_json"
    ]
   },
   "outputs": [
    {
     "data": {
      "text/plain": [
       "'{\"experiment_name\": \"tl_3-filterv2:oracle.run1.framed -> cores\", \"parameters\": {\"experiment_name\": \"tl_3-filterv2:oracle.run1.framed -> cores\", \"device\": \"cuda\", \"lr\": 0.0001, \"x_shape\": [2, 200], \"n_shot\": 3, \"n_query\": 2, \"train_k_factor\": 3, \"val_k_factor\": 2, \"test_k_factor\": 2, \"torch_default_dtype\": \"torch.float32\", \"n_epoch\": 50, \"patience\": 3, \"criteria_for_best\": \"target_accuracy\", \"x_net\": [{\"class\": \"nnReshape\", \"kargs\": {\"shape\": [-1, 1, 2, 200]}}, {\"class\": \"Conv2d\", \"kargs\": {\"in_channels\": 1, \"out_channels\": 256, \"kernel_size\": [1, 7], \"bias\": false, \"padding\": [0, 3]}}, {\"class\": \"ReLU\", \"kargs\": {\"inplace\": true}}, {\"class\": \"BatchNorm2d\", \"kargs\": {\"num_features\": 256}}, {\"class\": \"Conv2d\", \"kargs\": {\"in_channels\": 256, \"out_channels\": 80, \"kernel_size\": [2, 7], \"bias\": true, \"padding\": [0, 3]}}, {\"class\": \"ReLU\", \"kargs\": {\"inplace\": true}}, {\"class\": \"BatchNorm2d\", \"kargs\": {\"num_features\": 80}}, {\"class\": \"Flatten\", \"kargs\": {}}, {\"class\": \"Linear\", \"kargs\": {\"in_features\": 16000, \"out_features\": 256}}, {\"class\": \"ReLU\", \"kargs\": {\"inplace\": true}}, {\"class\": \"BatchNorm1d\", \"kargs\": {\"num_features\": 256}}, {\"class\": \"Linear\", \"kargs\": {\"in_features\": 256, \"out_features\": 256}}], \"NUM_LOGS_PER_EPOCH\": 10, \"BEST_MODEL_PATH\": \"./best_model.pth\", \"n_way\": 16, \"datasets\": [{\"labels\": [\"1-10.\", \"1-11.\", \"1-15.\", \"1-16.\", \"1-17.\", \"1-18.\", \"1-19.\", \"10-4.\", \"10-7.\", \"11-1.\", \"11-14.\", \"11-17.\", \"11-20.\", \"11-7.\", \"13-20.\", \"13-8.\", \"14-10.\", \"14-11.\", \"14-14.\", \"14-7.\", \"15-1.\", \"15-20.\", \"16-1.\", \"16-16.\", \"17-10.\", \"17-11.\", \"17-2.\", \"19-1.\", \"19-16.\", \"19-19.\", \"19-20.\", \"19-3.\", \"2-10.\", \"2-11.\", \"2-17.\", \"2-18.\", \"2-20.\", \"2-3.\", \"2-4.\", \"2-5.\", \"2-6.\", \"2-7.\", \"2-8.\", \"3-13.\", \"3-18.\", \"3-3.\", \"4-1.\", \"4-10.\", \"4-11.\", \"4-19.\", \"5-5.\", \"6-15.\", \"7-10.\", \"7-14.\", \"8-18.\", \"8-20.\", \"8-3.\", \"8-8.\"], \"domains\": [1, 2, 3, 4, 5], \"num_examples_per_domain_per_label\": -1, \"pickle_path\": \"/mnt/wd500GB/CSC500/csc500-main/datasets/cores.stratified_ds.2022A.pkl\", \"source_or_target_dataset\": \"target\", \"x_transforms\": [\"unit_mag\", \"lowpass_+/-10MHz\", \"take_200\"], \"episode_transforms\": [], \"domain_prefix\": \"C_\"}, {\"labels\": [\"3123D52\", \"3123D65\", \"3123D79\", \"3123D80\", \"3123D54\", \"3123D70\", \"3123D7B\", \"3123D89\", \"3123D58\", \"3123D76\", \"3123D7D\", \"3123EFE\", \"3123D64\", \"3123D78\", \"3123D7E\", \"3124E4A\"], \"domains\": [32, 38, 8, 44, 14, 50, 20, 26], \"num_examples_per_domain_per_label\": 2000, \"pickle_path\": \"/mnt/wd500GB/CSC500/csc500-main/datasets/oracle.Run1_framed_2000Examples_stratified_ds.2022A.pkl\", \"source_or_target_dataset\": \"source\", \"x_transforms\": [\"unit_mag\", \"take_200\", \"resample_20Msps_to_25Msps\"], \"episode_transforms\": [], \"domain_prefix\": \"O_\"}], \"seed\": 1337, \"dataset_seed\": 1337, \"domains_source\": [\"O_32\", \"O_38\", \"O_8\", \"O_44\", \"O_14\", \"O_50\", \"O_20\", \"O_26\"], \"domains_target\": [\"C_1\", \"C_2\", \"C_3\", \"C_4\", \"C_5\"]}, \"results\": {\"source_test_label_accuracy\": 0.8666341145833333, \"source_test_label_loss\": 0.4141484797000885, \"target_test_label_accuracy\": 0.7479657687991021, \"target_test_label_loss\": 139.85935974121094, \"source_val_label_accuracy\": 0.86455078125, \"source_val_label_loss\": 0.3816084563732147, \"target_val_label_accuracy\": 0.7527468607305936, \"target_val_label_loss\": 134.1837158203125, \"total_epochs_trained\": 17, \"total_experiment_time_secs\": 4961.393737077713, \"confusion\": {\"O_14\": {\"15\": {\"15\": 240}, \"3\": {\"3\": 216, \"2\": 12, \"4\": 6, \"0\": 3, \"14\": 3}, \"6\": {\"6\": 194, \"13\": 41, \"2\": 2, \"14\": 3}, \"1\": {\"1\": 238, \"5\": 2}, \"8\": {\"8\": 240}, \"10\": {\"10\": 239, \"0\": 1}, \"9\": {\"9\": 239, \"12\": 1}, \"13\": {\"13\": 173, \"6\": 51, \"2\": 7, \"10\": 1, \"14\": 2, \"3\": 3, \"4\": 2, \"7\": 1}, \"12\": {\"12\": 240}, \"5\": {\"5\": 235, \"2\": 2, \"4\": 1, \"3\": 1, \"14\": 1}, \"0\": {\"0\": 235, \"3\": 2, \"10\": 3}, \"2\": {\"2\": 180, \"5\": 4, \"4\": 3, \"14\": 23, \"13\": 8, \"6\": 7, \"3\": 12, \"1\": 3}, \"11\": {\"11\": 233, \"9\": 6, \"0\": 1}, \"14\": {\"14\": 223, \"2\": 14, \"3\": 1, \"13\": 2}, \"7\": {\"7\": 239, \"15\": 1}, \"4\": {\"4\": 238, \"3\": 1, \"1\": 1}}, \"O_20\": {\"3\": {\"1\": 8, \"9\": 26, \"3\": 153, \"2\": 17, \"12\": 31, \"10\": 2, \"4\": 1, \"8\": 1, \"7\": 1}, \"15\": {\"15\": 196, \"1\": 22, \"0\": 15, \"12\": 4, \"13\": 2, \"3\": 1}, \"8\": {\"8\": 231, \"4\": 5, \"7\": 4}, \"4\": {\"4\": 220, \"10\": 4, \"12\": 2, \"8\": 6, \"3\": 7, \"0\": 1}, \"14\": {\"14\": 233, \"6\": 7}, \"0\": {\"1\": 3, \"0\": 202, \"4\": 1, \"15\": 28, \"12\": 2, \"7\": 2, \"8\": 2}, \"7\": {\"7\": 227, \"12\": 1, \"8\": 4, \"3\": 3, \"4\": 1, \"2\": 4}, \"6\": {\"6\": 234, \"8\": 2, \"7\": 2, \"14\": 2}, \"10\": {\"10\": 240}, \"5\": {\"5\": 236, \"0\": 2, \"4\": 1, \"12\": 1}, \"2\": {\"2\": 159, \"1\": 5, \"15\": 1, \"9\": 37, \"3\": 16, \"7\": 10, \"13\": 4, \"12\": 8}, \"12\": {\"12\": 138, \"3\": 34, \"1\": 53, \"9\": 9, \"2\": 6}, \"9\": {\"9\": 165, \"3\": 14, \"2\": 47, \"12\": 10, \"1\": 2, \"7\": 2}, \"1\": {\"1\": 175, \"12\": 44, \"15\": 12, \"3\": 8, \"9\": 1}, \"11\": {\"11\": 240}, \"13\": {\"13\": 220, \"2\": 15, \"15\": 2, \"7\": 3}}, \"O_38\": {\"5\": {\"5\": 205, \"8\": 18, \"13\": 2, \"9\": 1, \"7\": 10, \"6\": 1, \"0\": 2, \"15\": 1}, \"8\": {\"8\": 181, \"7\": 18, \"5\": 21, \"0\": 9, \"10\": 6, \"15\": 2, \"13\": 2, \"1\": 1}, \"11\": {\"11\": 236, \"10\": 2, \"14\": 1, \"3\": 1}, \"1\": {\"1\": 233, \"15\": 7}, \"10\": {\"10\": 205, \"13\": 23, \"0\": 5, \"7\": 3, \"8\": 2, \"14\": 1, \"3\": 1}, \"15\": {\"15\": 215, \"8\": 7, \"1\": 13, \"2\": 2, \"13\": 2, \"5\": 1}, \"3\": {\"3\": 236, \"0\": 4}, \"7\": {\"5\": 2, \"7\": 212, \"8\": 14, \"0\": 12}, \"4\": {\"4\": 238, \"10\": 1, \"12\": 1}, \"14\": {\"14\": 225, \"2\": 10, \"10\": 2, \"8\": 2, \"12\": 1}, \"9\": {\"9\": 234, \"6\": 4, \"3\": 1, \"5\": 1}, \"12\": {\"12\": 238, \"4\": 2}, \"6\": {\"6\": 240}, \"2\": {\"2\": 228, \"13\": 8, \"15\": 1, \"14\": 3}, \"0\": {\"8\": 10, \"0\": 194, \"10\": 11, \"7\": 7, \"3\": 8, \"13\": 9, \"15\": 1}, \"13\": {\"13\": 216, \"15\": 1, \"2\": 3, \"8\": 4, \"10\": 12, \"5\": 4}}, \"O_8\": {\"9\": {\"9\": 240}, \"10\": {\"5\": 1, \"10\": 204, \"14\": 2, \"13\": 28, \"4\": 5}, \"13\": {\"10\": 38, \"0\": 20, \"13\": 136, \"4\": 33, \"6\": 12, \"7\": 1}, \"0\": {\"0\": 207, \"4\": 2, \"7\": 6, \"13\": 20, \"10\": 4, \"6\": 1}, \"1\": {\"1\": 233, \"11\": 6, \"14\": 1}, \"15\": {\"15\": 203, \"12\": 31, \"8\": 6}, \"5\": {\"5\": 232, \"14\": 7, \"1\": 1}, \"3\": {\"3\": 234, \"2\": 5, \"12\": 1}, \"6\": {\"7\": 56, \"6\": 151, \"4\": 25, \"13\": 8}, \"11\": {\"11\": 234, \"1\": 6}, \"8\": {\"8\": 234, \"15\": 5, \"12\": 1}, \"4\": {\"4\": 170, \"13\": 31, \"6\": 30, \"14\": 4, \"7\": 1, \"10\": 3, \"0\": 1}, \"12\": {\"12\": 192, \"8\": 2, \"15\": 38, \"2\": 2, \"3\": 6}, \"14\": {\"14\": 218, \"4\": 4, \"10\": 9, \"1\": 4, \"13\": 3, \"5\": 2}, \"2\": {\"2\": 223, \"3\": 13, \"7\": 2, \"12\": 1, \"15\": 1}, \"7\": {\"7\": 194, \"6\": 41, \"15\": 1, \"0\": 3, \"13\": 1}}, \"O_50\": {\"7\": {\"7\": 208, \"13\": 12, \"4\": 4, \"6\": 11, \"5\": 5}, \"3\": {\"3\": 237, \"8\": 3}, \"8\": {\"8\": 227, \"10\": 12, \"3\": 1}, \"2\": {\"2\": 210, \"0\": 30}, \"14\": {\"14\": 238, \"11\": 2}, \"4\": {\"15\": 33, \"4\": 177, \"7\": 6, \"6\": 11, \"1\": 4, \"5\": 8, \"11\": 1}, \"6\": {\"6\": 214, \"15\": 7, \"4\": 3, \"7\": 2, \"13\": 12, \"1\": 1, \"5\": 1}, \"15\": {\"15\": 199, \"1\": 18, \"4\": 14, \"11\": 7, \"6\": 2}, \"10\": {\"10\": 224, \"13\": 6, \"8\": 5, \"0\": 5}, \"11\": {\"11\": 209, \"9\": 6, \"12\": 10, \"15\": 12, \"1\": 1, \"4\": 2}, \"13\": {\"13\": 214, \"7\": 8, \"6\": 6, \"10\": 8, \"1\": 3, \"5\": 1}, \"9\": {\"9\": 221, \"12\": 14, \"11\": 5}, \"0\": {\"13\": 2, \"10\": 18, \"0\": 201, \"2\": 19}, \"1\": {\"1\": 215, \"15\": 17, \"13\": 3, \"6\": 4, \"0\": 1}, \"12\": {\"12\": 234, \"9\": 3, \"11\": 3}, \"5\": {\"5\": 196, \"4\": 13, \"7\": 15, \"1\": 7, \"6\": 3, \"13\": 5, \"15\": 1}}, \"O_32\": {\"8\": {\"8\": 199, \"0\": 21, \"3\": 2, \"13\": 8, \"14\": 3, \"7\": 1, \"5\": 6}, \"14\": {\"11\": 8, \"14\": 199, \"5\": 6, \"0\": 9, \"8\": 7, \"7\": 10, \"3\": 1}, \"2\": {\"2\": 195, \"4\": 38, \"0\": 2, \"13\": 1, \"7\": 4}, \"0\": {\"0\": 195, \"14\": 15, \"5\": 2, \"8\": 22, \"7\": 6}, \"1\": {\"1\": 240}, \"10\": {\"10\": 240}, \"11\": {\"11\": 229, \"7\": 1, \"3\": 2, \"14\": 7, \"13\": 1}, \"5\": {\"5\": 184, \"14\": 7, \"3\": 5, \"13\": 6, \"8\": 6, \"7\": 30, \"4\": 1, \"11\": 1}, \"15\": {\"15\": 240}, \"3\": {\"3\": 231, \"13\": 4, \"11\": 1, \"5\": 3, \"14\": 1}, \"12\": {\"12\": 240}, \"7\": {\"7\": 202, \"13\": 2, \"4\": 16, \"3\": 1, \"5\": 7, \"0\": 4, \"14\": 5, \"2\": 2, \"11\": 1}, \"13\": {\"13\": 185, \"3\": 18, \"4\": 21, \"11\": 5, \"7\": 6, \"8\": 5}, \"6\": {\"6\": 240}, \"4\": {\"4\": 175, \"2\": 50, \"13\": 9, \"7\": 6}, \"9\": {\"9\": 240}}, \"O_26\": {\"4\": {\"4\": 201, \"7\": 10, \"0\": 11, \"8\": 16, \"10\": 1, \"14\": 1}, \"12\": {\"12\": 240}, \"10\": {\"14\": 8, \"0\": 66, \"10\": 117, \"8\": 32, \"4\": 8, \"15\": 2, \"1\": 2, \"6\": 5}, \"0\": {\"7\": 5, \"0\": 123, \"10\": 65, \"4\": 22, \"8\": 14, \"14\": 6, \"6\": 3, \"1\": 2}, \"13\": {\"13\": 219, \"2\": 8, \"9\": 10, \"15\": 3}, \"9\": {\"9\": 196, \"15\": 29, \"6\": 7, \"13\": 6, \"2\": 1, \"0\": 1}, \"3\": {\"3\": 170, \"2\": 47, \"7\": 21, \"5\": 1, \"8\": 1}, \"2\": {\"2\": 137, \"3\": 61, \"7\": 27, \"8\": 1, \"15\": 1, \"9\": 4, \"13\": 6, \"5\": 2, \"4\": 1}, \"5\": {\"5\": 235, \"13\": 4, \"2\": 1}, \"14\": {\"14\": 210, \"0\": 8, \"8\": 6, \"1\": 4, \"10\": 10, \"4\": 1, \"6\": 1}, \"8\": {\"4\": 31, \"8\": 124, \"14\": 4, \"15\": 2, \"10\": 29, \"7\": 18, \"0\": 20, \"2\": 5, \"9\": 1, \"6\": 3, \"13\": 2, \"1\": 1}, \"7\": {\"7\": 173, \"1\": 3, \"8\": 9, \"9\": 2, \"2\": 19, \"15\": 3, \"3\": 11, \"4\": 15, \"0\": 3, \"10\": 2}, \"6\": {\"6\": 214, \"10\": 6, \"15\": 12, \"0\": 3, \"9\": 5}, \"11\": {\"11\": 240}, \"15\": {\"8\": 11, \"6\": 4, \"15\": 178, \"9\": 21, \"10\": 6, \"0\": 5, \"2\": 4, \"7\": 5, \"13\": 6}, \"1\": {\"1\": 217, \"14\": 12, \"10\": 5, \"8\": 2, \"0\": 2, \"4\": 1, \"7\": 1}}, \"O_44\": {\"12\": {\"12\": 220, \"1\": 15, \"3\": 3, \"10\": 2}, \"7\": {\"7\": 152, \"6\": 3, \"2\": 31, \"9\": 52, \"13\": 1, \"3\": 1}, \"5\": {\"5\": 219, \"14\": 11, \"8\": 5, \"0\": 3, \"15\": 2}, \"15\": {\"15\": 204, \"0\": 16, \"14\": 5, \"4\": 7, \"8\": 5, \"5\": 3}, \"8\": {\"8\": 146, \"0\": 77, \"15\": 13, \"14\": 1, \"5\": 3}, \"2\": {\"2\": 193, \"1\": 7, \"7\": 30, \"10\": 7, \"9\": 3}, \"13\": {\"13\": 168, \"6\": 40, \"9\": 26, \"7\": 3, \"11\": 3}, \"4\": {\"4\": 208, \"14\": 28, \"6\": 1, \"15\": 3}, \"0\": {\"0\": 180, \"8\": 49, \"5\": 2, \"15\": 9}, \"6\": {\"13\": 41, \"6\": 160, \"9\": 32, \"7\": 6, \"11\": 1}, \"9\": {\"13\": 33, \"7\": 46, \"9\": 139, \"6\": 18, \"2\": 2, \"3\": 2}, \"11\": {\"11\": 237, \"6\": 1, \"13\": 2}, \"10\": {\"1\": 20, \"10\": 204, \"12\": 5, \"2\": 10, \"7\": 1}, \"14\": {\"14\": 171, \"5\": 7, \"4\": 50, \"15\": 12}, \"1\": {\"2\": 19, \"1\": 168, \"3\": 11, \"12\": 27, \"10\": 15}, \"3\": {\"3\": 226, \"1\": 8, \"12\": 5, \"2\": 1}}, \"C_3\": {\"43\": {\"43\": 118, \"7\": 2, \"24\": 7, \"25\": 1}, \"9\": {\"9\": 117, \"32\": 1, \"16\": 1, \"27\": 8, \"1\": 1, \"0\": 5, \"47\": 2, \"50\": 1, \"17\": 1, \"20\": 3, \"57\": 3, \"30\": 1, \"12\": 2, \"51\": 1, \"6\": 1, \"48\": 1, \"15\": 1}, \"6\": {\"46\": 6, \"6\": 18, \"12\": 7, \"18\": 9, \"26\": 2, \"35\": 1, \"15\": 4, \"20\": 5, \"17\": 6, \"3\": 5, \"21\": 1, \"50\": 2, \"53\": 3, \"48\": 3, \"45\": 1, \"52\": 8, \"39\": 1, \"38\": 1, \"36\": 1, \"23\": 2, \"30\": 1, \"51\": 1}, \"3\": {\"6\": 5, \"9\": 4, \"3\": 22, \"5\": 7, \"20\": 1, \"45\": 2, \"54\": 5, \"41\": 2, \"30\": 3, \"44\": 1, \"37\": 1, \"1\": 6, \"48\": 2, \"21\": 5, \"8\": 5, \"4\": 4, \"50\": 13, \"46\": 11, \"51\": 8, \"53\": 11, \"36\": 1, \"12\": 5, \"25\": 1, \"19\": 4, \"15\": 1, \"29\": 4, \"28\": 1, \"35\": 1, \"7\": 1, \"57\": 4, \"32\": 2, \"23\": 1}, \"16\": {\"16\": 103, \"52\": 12, \"15\": 7, \"23\": 4, \"11\": 1, \"20\": 6, \"38\": 1}, \"51\": {\"51\": 123, \"36\": 3, \"8\": 1, \"54\": 1}, \"31\": {\"31\": 28}, \"46\": {\"46\": 44, \"51\": 21, \"38\": 1, \"20\": 2, \"21\": 9, \"6\": 3, \"12\": 2, \"54\": 5, \"53\": 5, \"30\": 2, \"45\": 2, \"36\": 3, \"17\": 3, \"3\": 5, \"43\": 3, \"27\": 3, \"8\": 2, \"48\": 3, \"50\": 6, \"9\": 1, \"25\": 1, \"41\": 3, \"4\": 1, \"28\": 1, \"32\": 1, \"26\": 1, \"15\": 1}, \"19\": {\"19\": 86, \"29\": 15, \"3\": 1, \"1\": 1, \"54\": 2, \"4\": 12, \"51\": 1, \"45\": 1, \"5\": 1, \"57\": 1, \"46\": 1, \"9\": 1, \"53\": 1}, \"8\": {\"8\": 142, \"50\": 5, \"20\": 2, \"30\": 3}, \"18\": {\"18\": 80, \"52\": 4}, \"37\": {\"37\": 28}, \"24\": {\"24\": 99, \"43\": 3, \"14\": 1, \"22\": 1}, \"10\": {\"10\": 64}, \"44\": {\"44\": 58, \"40\": 8, \"31\": 2, \"49\": 1, \"42\": 1, \"3\": 2, \"29\": 2, \"53\": 2, \"19\": 2, \"35\": 1, \"28\": 2, \"55\": 3, \"25\": 1, \"21\": 1, \"4\": 2}, \"14\": {\"14\": 15, \"31\": 2, \"56\": 3, \"24\": 6, \"49\": 1, \"43\": 1, \"25\": 1, \"55\": 3, \"40\": 3, \"35\": 1, \"22\": 1, \"13\": 3}, \"38\": {\"38\": 27, \"52\": 1}, \"53\": {\"53\": 102, \"36\": 2, \"30\": 2, \"55\": 2, \"8\": 11, \"51\": 4, \"50\": 7, \"46\": 3, \"21\": 6, \"47\": 1}, \"20\": {\"20\": 84, \"52\": 21, \"18\": 11, \"15\": 9, \"30\": 7}, \"32\": {\"36\": 2, \"32\": 26}, \"36\": {\"36\": 93, \"9\": 1, \"20\": 1, \"30\": 3, \"50\": 1, \"12\": 1}, \"33\": {\"33\": 22, \"27\": 1, \"28\": 1, \"30\": 1, \"12\": 1, \"5\": 1, \"3\": 1}, \"56\": {\"56\": 135, \"24\": 1}, \"23\": {\"20\": 9, \"23\": 90, \"17\": 3, \"52\": 12, \"15\": 6, \"18\": 6, \"39\": 1, \"30\": 1, \"38\": 1, \"16\": 1}, \"54\": {\"54\": 80, \"21\": 3, \"12\": 6, \"26\": 1, \"6\": 2, \"51\": 3, \"48\": 2, \"53\": 1, \"3\": 1, \"20\": 1}, \"21\": {\"21\": 76, \"54\": 6, \"12\": 1, \"46\": 7, \"53\": 20, \"45\": 1, \"6\": 1, \"2\": 1, \"51\": 7, \"17\": 1, \"3\": 1, \"33\": 1, \"18\": 1, \"36\": 1, \"27\": 1}, \"28\": {\"28\": 18, \"37\": 1, \"26\": 1, \"53\": 1, \"29\": 2, \"3\": 1, \"4\": 4}, \"26\": {\"26\": 21, \"21\": 1, \"15\": 1, \"50\": 1}, \"48\": {\"48\": 69, \"18\": 4, \"12\": 5, \"32\": 1, \"16\": 1, \"30\": 4, \"23\": 6, \"20\": 4, \"27\": 10, \"17\": 5, \"15\": 4, \"51\": 1, \"43\": 1, \"52\": 1}, \"52\": {\"52\": 105, \"18\": 6, \"15\": 7}, \"39\": {\"20\": 2, \"52\": 2, \"18\": 2, \"12\": 1, \"15\": 2, \"39\": 5, \"38\": 2}, \"22\": {\"22\": 119, \"7\": 1, \"44\": 1, \"10\": 6, \"43\": 4, \"24\": 5, \"19\": 2, \"49\": 1, \"25\": 1}, \"13\": {\"13\": 127, \"24\": 1}, \"2\": {\"2\": 32}, \"34\": {\"0\": 3, \"34\": 17, \"18\": 1, \"9\": 2, \"23\": 1, \"30\": 1, \"1\": 1, \"27\": 3, \"8\": 1, \"17\": 1, \"48\": 1}, \"27\": {\"23\": 5, \"27\": 99, \"17\": 9, \"38\": 2, \"41\": 1, \"52\": 3, \"30\": 4, \"54\": 2, \"20\": 1, \"48\": 4, \"51\": 1, \"18\": 1}, \"45\": {\"45\": 32, \"33\": 1, \"41\": 1, \"3\": 2, \"2\": 1, \"34\": 1, \"54\": 2, \"21\": 1, \"12\": 1, \"29\": 1, \"51\": 2, \"36\": 1, \"46\": 1, \"6\": 2, \"5\": 2, \"32\": 1, \"42\": 1, \"4\": 5, \"9\": 2}, \"35\": {\"35\": 26, \"31\": 1, \"28\": 1}, \"29\": {\"29\": 87, \"5\": 3, \"4\": 9, \"36\": 1, \"50\": 1, \"57\": 4, \"44\": 1, \"19\": 10, \"3\": 1, \"1\": 2, \"51\": 3, \"28\": 1, \"27\": 1, \"6\": 1, \"47\": 1, \"46\": 1, \"53\": 1}, \"25\": {\"25\": 78, \"33\": 6, \"40\": 6, \"32\": 1, \"48\": 1, \"34\": 1, \"3\": 7, \"1\": 1, \"12\": 1, \"50\": 3, \"45\": 1, \"44\": 2, \"46\": 8, \"51\": 2, \"55\": 4, \"5\": 5, \"53\": 2, \"47\": 1, \"28\": 1, \"14\": 2, \"21\": 5, \"9\": 1, \"26\": 2, \"4\": 1, \"6\": 1, \"43\": 1}, \"0\": {\"0\": 77, \"34\": 2, \"47\": 6, \"18\": 3, \"16\": 6, \"6\": 1, \"15\": 1, \"9\": 5, \"27\": 2, \"5\": 3, \"12\": 1, \"57\": 2, \"23\": 3, \"1\": 6, \"30\": 1, \"11\": 1, \"52\": 2, \"48\": 2}, \"41\": {\"41\": 22, \"12\": 3, \"21\": 1, \"20\": 1, \"54\": 1}, \"11\": {\"11\": 119, \"16\": 18, \"15\": 2, \"23\": 2, \"20\": 1}, \"5\": {\"5\": 50, \"34\": 1, \"12\": 2, \"0\": 7, \"27\": 2, \"50\": 6, \"29\": 5, \"47\": 3, \"53\": 3, \"6\": 1, \"57\": 10, \"20\": 1, \"8\": 5, \"48\": 2, \"9\": 2, \"32\": 1, \"23\": 1, \"36\": 4, \"46\": 1, \"30\": 1}, \"1\": {\"1\": 69, \"0\": 1, \"9\": 5, \"50\": 1, \"27\": 5, \"5\": 7, \"30\": 1, \"3\": 3, \"12\": 1, \"34\": 1, \"57\": 3, \"29\": 1, \"48\": 1, \"53\": 1}, \"57\": {\"57\": 66, \"4\": 5, \"3\": 1, \"27\": 1, \"1\": 6, \"9\": 20, \"29\": 6, \"5\": 5, \"0\": 3, \"34\": 1, \"16\": 1, \"47\": 1}, \"17\": {\"17\": 100, \"10\": 1, \"18\": 3, \"23\": 1, \"52\": 2, \"56\": 1}, \"7\": {\"7\": 36}, \"12\": {\"12\": 50, \"6\": 2, \"20\": 5, \"15\": 6, \"38\": 1, \"2\": 1, \"51\": 3, \"1\": 1, \"52\": 6, \"18\": 2, \"30\": 1, \"23\": 2, \"54\": 5, \"27\": 1, \"32\": 1, \"45\": 1, \"26\": 1, \"17\": 1, \"3\": 1, \"46\": 1}, \"47\": {\"17\": 4, \"47\": 33, \"15\": 2, \"20\": 8, \"23\": 2, \"8\": 3, \"44\": 1, \"38\": 2, \"1\": 3, \"25\": 2, \"30\": 10, \"16\": 5, \"12\": 1, \"18\": 1, \"27\": 6, \"52\": 2, \"57\": 2, \"0\": 2, \"48\": 2, \"9\": 1}, \"40\": {\"40\": 114, \"44\": 3, \"55\": 7, \"3\": 3, \"19\": 2, \"43\": 1, \"29\": 1, \"4\": 1, \"42\": 1, \"25\": 2, \"53\": 1}, \"15\": {\"15\": 133, \"30\": 1, \"20\": 2, \"23\": 2, \"55\": 1, \"52\": 2, \"43\": 1}, \"42\": {\"42\": 22, \"35\": 2, \"44\": 1, \"19\": 1, \"21\": 1, \"55\": 1}, \"55\": {\"55\": 146, \"25\": 1, \"46\": 1, \"45\": 2}, \"49\": {\"49\": 16, \"24\": 3, \"35\": 1}, \"30\": {\"30\": 79, \"20\": 24, \"16\": 2, \"18\": 5, \"45\": 2, \"15\": 1, \"17\": 2, \"52\": 3, \"23\": 1, \"55\": 1}, \"50\": {\"50\": 42, \"41\": 1, \"8\": 34, \"6\": 5, \"3\": 3, \"51\": 5, \"20\": 8, \"30\": 4, \"45\": 1, \"12\": 3, \"16\": 3, \"36\": 4, \"18\": 1, \"21\": 2, \"54\": 3, \"48\": 2, \"5\": 1, \"46\": 5, \"39\": 1, \"53\": 3, \"17\": 1, \"27\": 1, \"52\": 1}, \"4\": {\"29\": 10, \"4\": 89, \"36\": 1, \"19\": 9, \"27\": 2, \"45\": 3, \"54\": 3, \"48\": 1, \"51\": 5, \"5\": 1, \"3\": 3, \"1\": 3, \"50\": 2, \"57\": 1, \"46\": 2, \"9\": 1}}, \"C_4\": {\"35\": {\"14\": 1, \"35\": 33, \"55\": 4, \"44\": 2}, \"25\": {\"25\": 86, \"34\": 1, \"28\": 2, \"32\": 1, \"43\": 5, \"9\": 3, \"24\": 1, \"45\": 1, \"51\": 2, \"40\": 4, \"46\": 4, \"3\": 1, \"6\": 1, \"53\": 2, \"21\": 9, \"55\": 3, \"50\": 3, \"37\": 1, \"5\": 2, \"15\": 2}, \"24\": {\"24\": 48, \"43\": 4, \"0\": 2, \"5\": 1, \"9\": 1}, \"48\": {\"48\": 89, \"39\": 1, \"27\": 12, \"18\": 8, \"52\": 5, \"12\": 3, \"15\": 3, \"23\": 7, \"46\": 4, \"5\": 1, \"20\": 4, \"47\": 1}, \"51\": {\"51\": 125, \"21\": 9, \"12\": 2, \"3\": 5, \"54\": 2, \"53\": 1}, \"13\": {\"13\": 117, \"43\": 2, \"56\": 1}, \"14\": {\"14\": 4, \"38\": 2, \"55\": 3, \"37\": 2, \"56\": 2, \"35\": 3}, \"32\": {\"32\": 18, \"27\": 1, \"46\": 1, \"11\": 2, \"52\": 2}, \"30\": {\"30\": 30, \"18\": 2, \"52\": 1, \"36\": 7, \"8\": 3, \"20\": 1}, \"34\": {\"34\": 19, \"26\": 1, \"6\": 3, \"17\": 1}, \"9\": {\"9\": 84, \"8\": 1, \"54\": 2, \"4\": 14, \"53\": 6, \"18\": 1, \"45\": 7, \"57\": 7, \"55\": 1, \"29\": 6, \"48\": 2, \"27\": 4, \"47\": 1}, \"1\": {\"1\": 37, \"39\": 1, \"46\": 1, \"16\": 1}, \"0\": {\"0\": 75, \"27\": 1, \"43\": 1, \"46\": 2, \"11\": 1}, \"38\": {\"38\": 36, \"31\": 1, \"13\": 1, \"24\": 1, \"56\": 1}, \"22\": {\"22\": 96, \"15\": 6, \"32\": 1, \"18\": 2, \"42\": 1, \"48\": 1, \"11\": 4, \"20\": 3, \"13\": 1, \"47\": 2, \"16\": 1, \"0\": 4, \"24\": 1, \"8\": 1, \"36\": 1, \"5\": 1, \"23\": 1, \"46\": 1}, \"40\": {\"40\": 103, \"55\": 5, \"44\": 5, \"35\": 2, \"45\": 1, \"43\": 1, \"33\": 2, \"53\": 1}, \"6\": {\"34\": 5, \"20\": 4, \"48\": 2, \"50\": 9, \"27\": 1, \"21\": 3, \"54\": 5, \"6\": 28, \"26\": 1, \"23\": 11, \"18\": 8, \"44\": 2, \"12\": 6, \"3\": 7, \"17\": 1, \"5\": 3, \"36\": 1, \"46\": 5, \"51\": 1, \"25\": 3, \"45\": 1, \"30\": 1, \"52\": 2, \"55\": 1, \"53\": 1}, \"16\": {\"16\": 80, \"20\": 3, \"15\": 2, \"38\": 1, \"52\": 6, \"11\": 1, \"18\": 1, \"23\": 2}, \"11\": {\"11\": 85, \"16\": 7, \"23\": 4, \"20\": 1, \"15\": 4, \"39\": 1, \"46\": 1, \"18\": 1}, \"20\": {\"20\": 77, \"18\": 11, \"47\": 3, \"15\": 11, \"52\": 10, \"23\": 7, \"16\": 1, \"30\": 1, \"5\": 1}, \"17\": {\"17\": 72, \"48\": 1, \"5\": 1, \"20\": 1, \"23\": 1, \"27\": 2, \"55\": 1, \"15\": 1}, \"26\": {\"26\": 17, \"50\": 1, \"45\": 2, \"34\": 1, \"44\": 1, \"36\": 1, \"54\": 1}, \"54\": {\"54\": 87, \"48\": 2, \"50\": 2, \"30\": 2, \"12\": 5, \"51\": 2, \"53\": 2, \"17\": 1, \"3\": 3, \"21\": 1, \"36\": 1}, \"55\": {\"55\": 128, \"25\": 7, \"26\": 2, \"45\": 3, \"19\": 1, \"44\": 3, \"50\": 3, \"49\": 1, \"3\": 1, \"33\": 1, \"35\": 1, \"46\": 1, \"21\": 1, \"9\": 1}, \"50\": {\"50\": 59, \"54\": 4, \"49\": 1, \"36\": 6, \"45\": 5, \"51\": 5, \"34\": 1, \"53\": 10, \"21\": 3, \"30\": 4, \"27\": 3, \"5\": 3, \"25\": 1, \"44\": 3, \"3\": 3, \"4\": 2, \"48\": 2, \"6\": 3, \"8\": 7, \"13\": 1, \"26\": 2, \"12\": 3, \"46\": 1}, \"19\": {\"19\": 111, \"50\": 4, \"28\": 1, \"29\": 6, \"9\": 5, \"44\": 9, \"57\": 1, \"53\": 1, \"55\": 1, \"20\": 1, \"3\": 1, \"4\": 1}, \"44\": {\"55\": 7, \"50\": 5, \"44\": 84, \"19\": 7, \"33\": 4, \"29\": 6, \"25\": 2, \"40\": 1, \"4\": 2, \"43\": 1, \"53\": 2, \"9\": 1}, \"47\": {\"47\": 62, \"39\": 5, \"42\": 1, \"20\": 23, \"52\": 9, \"18\": 10, \"48\": 1, \"23\": 6, \"15\": 1, \"30\": 2}, \"33\": {\"33\": 28, \"55\": 1, \"19\": 1, \"40\": 3, \"35\": 1, \"44\": 1, \"20\": 1}, \"5\": {\"18\": 7, \"39\": 1, \"47\": 2, \"5\": 32, \"17\": 4, \"20\": 4, \"23\": 16, \"52\": 12, \"54\": 2, \"55\": 2, \"25\": 1, \"27\": 3, \"8\": 2, \"15\": 6, \"16\": 3, \"6\": 2, \"53\": 1, \"28\": 1, \"3\": 2, \"26\": 1, \"48\": 2, \"21\": 1, \"12\": 1}, \"18\": {\"18\": 92, \"20\": 4, \"23\": 9, \"25\": 1, \"31\": 1, \"35\": 1}, \"21\": {\"21\": 106, \"6\": 6, \"54\": 1, \"3\": 2, \"12\": 1, \"46\": 1, \"36\": 1, \"53\": 1, \"30\": 1, \"8\": 1, \"51\": 2, \"27\": 1}, \"41\": {\"39\": 1, \"41\": 30, \"23\": 3, \"5\": 1, \"18\": 1}, \"23\": {\"18\": 22, \"23\": 75, \"39\": 3, \"15\": 7, \"52\": 19, \"20\": 1, \"5\": 1}, \"39\": {\"39\": 14, \"47\": 2, \"23\": 2, \"52\": 1, \"15\": 1}, \"37\": {\"37\": 24}, \"8\": {\"8\": 126, \"20\": 2, \"39\": 1, \"18\": 1, \"30\": 5, \"36\": 5, \"23\": 1, \"47\": 2, \"52\": 1}, \"49\": {\"49\": 19, \"3\": 1}, \"53\": {\"53\": 115, \"8\": 11, \"27\": 1, \"30\": 1, \"54\": 4, \"50\": 1, \"51\": 5, \"36\": 2}, \"31\": {\"31\": 28}, \"28\": {\"49\": 2, \"28\": 20, \"4\": 1, \"50\": 1, \"45\": 1, \"17\": 1, \"47\": 1, \"5\": 1, \"3\": 1, \"9\": 1, \"48\": 1, \"21\": 1}, \"3\": {\"54\": 14, \"12\": 15, \"3\": 54, \"45\": 2, \"21\": 8, \"53\": 3, \"50\": 2, \"8\": 3, \"6\": 2, \"36\": 7, \"4\": 2, \"27\": 1, \"20\": 1, \"48\": 1, \"47\": 1, \"46\": 1, \"51\": 3, \"18\": 1, \"17\": 2, \"30\": 1}, \"27\": {\"27\": 116, \"16\": 1, \"23\": 2, \"52\": 1, \"15\": 3, \"18\": 4, \"5\": 1, \"48\": 3, \"36\": 1, \"54\": 1, \"12\": 2, \"47\": 1, \"20\": 2}, \"46\": {\"27\": 2, \"16\": 8, \"46\": 45, \"12\": 4, \"20\": 4, \"7\": 1, \"24\": 1, \"52\": 3, \"35\": 2, \"23\": 7, \"18\": 2, \"43\": 4, \"15\": 21, \"41\": 1, \"47\": 2, \"6\": 3, \"3\": 2, \"21\": 2, \"48\": 2, \"14\": 1, \"39\": 2, \"55\": 3, \"11\": 1, \"54\": 1, \"17\": 2, \"5\": 1, \"9\": 1}, \"12\": {\"12\": 79, \"23\": 1, \"52\": 2, \"54\": 1, \"25\": 1, \"20\": 1, \"3\": 1, \"21\": 1, \"18\": 1, \"6\": 3, \"15\": 1}, \"7\": {\"7\": 18, \"32\": 1, \"13\": 1, \"57\": 1, \"5\": 1, \"46\": 1, \"18\": 1}, \"4\": {\"29\": 8, \"8\": 5, \"4\": 76, \"27\": 10, \"9\": 8, \"53\": 2, \"19\": 2, \"57\": 5, \"45\": 1, \"17\": 1, \"55\": 1, \"36\": 3, \"42\": 3, \"44\": 1, \"50\": 4, \"48\": 2}, \"42\": {\"42\": 29, \"47\": 1, \"20\": 2}, \"43\": {\"43\": 127, \"24\": 1, \"38\": 1, \"0\": 1}, \"29\": {\"29\": 72, \"19\": 16, \"45\": 1, \"27\": 1, \"4\": 6, \"53\": 1, \"57\": 5, \"9\": 9, \"6\": 1, \"50\": 2, \"48\": 1, \"3\": 1, \"44\": 1, \"28\": 1, \"54\": 1, \"46\": 1}, \"57\": {\"47\": 2, \"57\": 67, \"32\": 2, \"42\": 1, \"5\": 1, \"9\": 6, \"4\": 11, \"29\": 4, \"27\": 1, \"1\": 1, \"3\": 1, \"17\": 3}, \"52\": {\"52\": 104}, \"45\": {\"12\": 3, \"53\": 2, \"45\": 51, \"4\": 4, \"51\": 2, \"9\": 8, \"27\": 2, \"6\": 3, \"3\": 4, \"36\": 1, \"48\": 1, \"55\": 2, \"54\": 5, \"26\": 1, \"50\": 4, \"57\": 2, \"44\": 1}, \"36\": {\"36\": 80, \"8\": 5, \"12\": 3, \"47\": 1, \"3\": 1, \"30\": 1, \"20\": 1}, \"10\": {\"10\": 126}, \"15\": {\"15\": 119, \"52\": 11, \"20\": 4}, \"56\": {\"56\": 113, \"2\": 3, \"38\": 2, \"10\": 4, \"22\": 1, \"43\": 1}, \"2\": {\"2\": 34, \"10\": 1, \"43\": 1}}, \"C_5\": {\"47\": {\"47\": 53, \"39\": 6, \"57\": 1, \"34\": 1, \"42\": 2, \"23\": 3, \"41\": 2, \"8\": 16, \"1\": 4, \"20\": 4, \"53\": 1, \"48\": 1, \"30\": 3, \"6\": 1, \"52\": 1, \"46\": 1}, \"53\": {\"53\": 124, \"8\": 13, \"41\": 1, \"30\": 3, \"42\": 1, \"20\": 1, \"12\": 2, \"1\": 1, \"45\": 1, \"47\": 1, \"52\": 1, \"18\": 1}, \"29\": {\"29\": 97, \"9\": 1, \"24\": 1, \"44\": 13, \"36\": 3, \"56\": 2, \"55\": 2, \"5\": 2, \"50\": 4, \"25\": 1}, \"52\": {\"1\": 2, \"52\": 118, \"20\": 1, \"9\": 1, \"23\": 6, \"17\": 2}, \"55\": {\"55\": 99, \"6\": 6, \"12\": 5, \"9\": 12, \"53\": 2, \"45\": 8, \"14\": 1, \"25\": 6, \"27\": 2, \"50\": 3}, \"17\": {\"17\": 101, \"39\": 1, \"52\": 2, \"20\": 2, \"6\": 1, \"41\": 1, \"38\": 1, \"1\": 3, \"23\": 3, \"48\": 1}, \"42\": {\"42\": 36, \"20\": 1, \"52\": 1, \"30\": 1, \"47\": 1}, \"33\": {\"33\": 29, \"19\": 1, \"4\": 1, \"50\": 1}, \"11\": {\"11\": 116, \"39\": 1, \"46\": 5, \"16\": 11, \"15\": 9, \"52\": 5, \"20\": 1}, \"19\": {\"47\": 1, \"19\": 99, \"27\": 3, \"9\": 8, \"57\": 1, \"45\": 3, \"34\": 1, \"17\": 1, \"50\": 1}, \"1\": {\"1\": 90, \"17\": 4, \"52\": 7, \"39\": 1, \"48\": 6, \"38\": 2, \"23\": 7, \"8\": 3, \"18\": 7, \"20\": 7, \"6\": 6, \"41\": 2, \"30\": 2}, \"44\": {\"44\": 113, \"29\": 12, \"34\": 1, \"36\": 3, \"9\": 2, \"43\": 2, \"14\": 2, \"50\": 2, \"56\": 3, \"5\": 1, \"0\": 1}, \"49\": {\"49\": 29, \"52\": 1, \"17\": 1, \"7\": 1, \"46\": 3, \"51\": 1}, \"4\": {\"4\": 63, \"55\": 7, \"28\": 1, \"45\": 2, \"29\": 3, \"50\": 4, \"9\": 2, \"54\": 1, \"5\": 4, \"36\": 5, \"3\": 1, \"6\": 1, \"14\": 1, \"12\": 4, \"25\": 1}, \"6\": {\"1\": 5, \"52\": 13, \"23\": 13, \"26\": 1, \"6\": 22, \"50\": 2, \"51\": 9, \"9\": 1, \"7\": 1, \"18\": 3, \"12\": 6, \"30\": 1, \"15\": 2, \"20\": 16, \"55\": 7, \"48\": 2, \"3\": 1, \"32\": 1, \"53\": 1, \"16\": 2, \"45\": 1, \"54\": 3, \"28\": 1, \"38\": 1, \"21\": 1}, \"39\": {\"1\": 3, \"39\": 12, \"52\": 2, \"23\": 1, \"18\": 2}, \"50\": {\"21\": 6, \"50\": 76, \"34\": 1, \"28\": 1, \"33\": 1, \"47\": 1, \"45\": 12, \"53\": 3, \"25\": 7, \"12\": 2, \"4\": 2, \"9\": 10, \"27\": 6, \"1\": 1, \"55\": 8, \"43\": 3, \"57\": 1, \"48\": 1, \"46\": 2, \"36\": 2, \"6\": 1, \"54\": 1}, \"56\": {\"56\": 117, \"24\": 1, \"31\": 1, \"14\": 1, \"13\": 1, \"44\": 2, \"49\": 1, \"45\": 1, \"0\": 5}, \"25\": {\"25\": 103, \"21\": 3, \"34\": 1, \"45\": 10, \"27\": 1, \"9\": 3, \"5\": 3, \"47\": 1, \"54\": 1, \"53\": 1, \"55\": 3, \"50\": 1, \"43\": 3, \"40\": 3, \"31\": 1, \"49\": 1, \"19\": 1, \"29\": 2, \"46\": 1, \"17\": 1}, \"28\": {\"28\": 28, \"50\": 1, \"45\": 1, \"19\": 1, \"32\": 1}, \"35\": {\"35\": 31, \"13\": 1, \"29\": 2, \"15\": 1, \"44\": 1}, \"24\": {\"24\": 64, \"56\": 2, \"14\": 4, \"35\": 1, \"0\": 4, \"3\": 1, \"43\": 2, \"15\": 1, \"50\": 1}, \"21\": {\"25\": 1, \"21\": 124, \"12\": 1, \"55\": 1, \"46\": 1, \"16\": 1, \"45\": 1, \"53\": 1, \"54\": 1}, \"45\": {\"55\": 10, \"26\": 3, \"48\": 2, \"36\": 2, \"41\": 1, \"32\": 2, \"6\": 6, \"34\": 2, \"12\": 13, \"45\": 36, \"21\": 2, \"25\": 4, \"7\": 2, \"51\": 1, \"47\": 1, \"50\": 4, \"17\": 3, \"54\": 4, \"30\": 3, \"46\": 1, \"1\": 3, \"53\": 2, \"9\": 6, \"27\": 6, \"8\": 2, \"52\": 1, \"20\": 1, \"57\": 1}, \"16\": {\"16\": 125, \"23\": 5, \"46\": 3, \"15\": 2, \"11\": 1, \"40\": 1, \"20\": 4, \"43\": 1, \"45\": 1, \"52\": 1}, \"37\": {\"37\": 22, \"0\": 2}, \"57\": {\"57\": 75, \"17\": 7, \"46\": 6, \"27\": 13, \"30\": 9, \"1\": 5, \"47\": 3, \"20\": 4, \"8\": 2, \"23\": 1, \"48\": 2, \"32\": 2, \"52\": 1, \"18\": 1, \"16\": 1}, \"34\": {\"34\": 21, \"2\": 2, \"14\": 1, \"8\": 1, \"19\": 1, \"42\": 2, \"45\": 1, \"48\": 1, \"47\": 1, \"9\": 3, \"27\": 1, \"30\": 1}, \"38\": {\"38\": 27, \"23\": 4, \"20\": 1}, \"48\": {\"48\": 90, \"26\": 1, \"20\": 2, \"38\": 1, \"46\": 2, \"32\": 1, \"51\": 4, \"52\": 3, \"27\": 5, \"23\": 6, \"1\": 10, \"47\": 1, \"17\": 4}, \"26\": {\"26\": 24}, \"9\": {\"3\": 2, \"34\": 3, \"28\": 1, \"27\": 21, \"9\": 84, \"1\": 1, \"47\": 5, \"57\": 4, \"53\": 3, \"36\": 1, \"21\": 1, \"6\": 2, \"7\": 1, \"19\": 5, \"17\": 1, \"50\": 1, \"54\": 2, \"29\": 2, \"4\": 1, \"55\": 2, \"25\": 1, \"32\": 1, \"35\": 1, \"46\": 1, \"8\": 1, \"5\": 1, \"45\": 1, \"43\": 1, \"48\": 1}, \"18\": {\"23\": 21, \"18\": 35, \"20\": 4, \"39\": 1, \"52\": 3}, \"3\": {\"3\": 48, \"37\": 1, \"16\": 5, \"14\": 3, \"46\": 3, \"57\": 3, \"52\": 3, \"11\": 9, \"31\": 1, \"19\": 1, \"4\": 3, \"27\": 1, \"51\": 3, \"43\": 2, \"2\": 1, \"32\": 1, \"36\": 2, \"25\": 1, \"54\": 3, \"5\": 2, \"20\": 1, \"12\": 1, \"18\": 1, \"6\": 1}, \"23\": {\"23\": 107, \"52\": 6, \"20\": 6, \"18\": 4, \"46\": 1}, \"15\": {\"15\": 111, \"38\": 4, \"52\": 13, \"23\": 8, \"6\": 2, \"18\": 3, \"20\": 4, \"11\": 4, \"13\": 2, \"39\": 1, \"16\": 1, \"1\": 1}, \"10\": {\"10\": 68}, \"46\": {\"16\": 5, \"46\": 69, \"39\": 2, \"36\": 1, \"49\": 1, \"20\": 15, \"52\": 16, \"18\": 5, \"54\": 1, \"7\": 1, \"23\": 17, \"11\": 4, \"6\": 2, \"15\": 4, \"50\": 2, \"26\": 1, \"41\": 1, \"1\": 1}, \"22\": {\"22\": 24, \"13\": 1, \"35\": 2, \"44\": 1}, \"54\": {\"54\": 83, \"32\": 1, \"6\": 1, \"53\": 5, \"8\": 4, \"1\": 1, \"51\": 7, \"43\": 1, \"55\": 1, \"5\": 1, \"21\": 3, \"12\": 1, \"52\": 3}, \"27\": {\"27\": 118, \"47\": 2, \"17\": 4, \"41\": 2, \"48\": 4, \"32\": 4, \"9\": 3, \"8\": 4, \"30\": 6, \"1\": 5, \"20\": 1, \"46\": 1, \"57\": 2, \"51\": 4}, \"41\": {\"41\": 16, \"1\": 5, \"20\": 2, \"57\": 1, \"30\": 2, \"52\": 2}, \"31\": {\"31\": 32, \"46\": 2, \"11\": 1, \"47\": 1}, \"0\": {\"0\": 114, \"24\": 2, \"56\": 5, \"11\": 2, \"15\": 1}, \"7\": {\"1\": 1, \"7\": 29, \"20\": 1, \"41\": 1}, \"2\": {\"2\": 23, \"3\": 1, \"34\": 1, \"11\": 1, \"26\": 1, \"46\": 1}, \"14\": {\"24\": 2, \"14\": 20, \"54\": 2, \"28\": 4, \"47\": 1, \"4\": 1, \"3\": 3, \"9\": 1, \"44\": 1, \"53\": 1, \"36\": 1, \"50\": 3, \"19\": 1, \"21\": 1, \"0\": 1, \"11\": 1}, \"40\": {\"40\": 97, \"36\": 3, \"43\": 8, \"4\": 3, \"55\": 1, \"21\": 1, \"5\": 4, \"29\": 1, \"35\": 1, \"44\": 1, \"13\": 3, \"50\": 1}, \"5\": {\"5\": 87, \"36\": 6, \"40\": 7, \"44\": 5, \"29\": 12, \"4\": 3, \"55\": 1, \"33\": 4, \"28\": 1, \"14\": 1, \"43\": 1}, \"12\": {\"12\": 76, \"7\": 5, \"30\": 1, \"32\": 2, \"55\": 1, \"38\": 1, \"45\": 4, \"48\": 1, \"27\": 1, \"18\": 1, \"51\": 1, \"9\": 1, \"21\": 1}, \"43\": {\"43\": 137, \"25\": 1, \"21\": 1, \"14\": 1, \"36\": 1, \"40\": 1}, \"13\": {\"13\": 135, \"10\": 1, \"29\": 2, \"24\": 3, \"44\": 2, \"22\": 1, \"35\": 1, \"56\": 2, \"43\": 1}, \"36\": {\"43\": 2, \"36\": 74, \"50\": 5, \"4\": 2, \"27\": 1, \"45\": 4, \"34\": 1, \"5\": 1, \"55\": 1, \"21\": 1}, \"8\": {\"38\": 1, \"8\": 128, \"52\": 2, \"20\": 8, \"18\": 1, \"47\": 1, \"30\": 2, \"23\": 1, \"43\": 1, \"1\": 4, \"5\": 1}, \"32\": {\"32\": 21, \"17\": 2, \"39\": 1, \"50\": 1, \"30\": 1, \"48\": 2, \"38\": 3, \"43\": 1}, \"30\": {\"30\": 90, \"32\": 1, \"20\": 4, \"18\": 7, \"23\": 2, \"8\": 9, \"52\": 3, \"1\": 4, \"17\": 3, \"41\": 1, \"38\": 1, \"6\": 1, \"47\": 1, \"51\": 1}, \"51\": {\"51\": 123, \"23\": 4, \"18\": 2, \"20\": 3, \"5\": 1, \"1\": 1, \"4\": 1, \"8\": 2, \"30\": 1}, \"20\": {\"20\": 99, \"23\": 20, \"52\": 8, \"18\": 10, \"6\": 1}}, \"C_1\": {\"46\": {\"16\": 1, \"51\": 6, \"46\": 85, \"33\": 3, \"6\": 2, \"34\": 1, \"56\": 1, \"14\": 2, \"55\": 9, \"53\": 5, \"30\": 3, \"5\": 3, \"4\": 3, \"50\": 3, \"45\": 3, \"48\": 4, \"12\": 1, \"17\": 1, \"54\": 1, \"8\": 2, \"19\": 1}, \"16\": {\"16\": 118, \"7\": 2, \"18\": 3, \"36\": 3, \"9\": 5, \"48\": 1, \"50\": 1, \"2\": 1}, \"26\": {\"26\": 24}, \"10\": {\"10\": 96}, \"9\": {\"9\": 147, \"18\": 7, \"16\": 2}, \"28\": {\"28\": 28}, \"51\": {\"51\": 145, \"6\": 1, \"26\": 1, \"5\": 3, \"53\": 5, \"14\": 1}, \"1\": {\"1\": 78, \"56\": 4, \"57\": 7, \"33\": 1, \"42\": 1, \"48\": 1, \"4\": 1, \"44\": 1, \"30\": 2, \"19\": 2, \"45\": 1, \"3\": 1}, \"55\": {\"55\": 130, \"41\": 1, \"46\": 1, \"12\": 3, \"38\": 3, \"4\": 3, \"56\": 1, \"20\": 2, \"53\": 1, \"29\": 2, \"44\": 1}, \"27\": {\"27\": 118, \"43\": 5, \"39\": 1}, \"22\": {\"22\": 92, \"24\": 9, \"45\": 1, \"11\": 7, \"52\": 8, \"21\": 3, \"0\": 3, \"9\": 1}, \"52\": {\"52\": 96, \"47\": 2, \"42\": 1, \"49\": 2, \"11\": 2, \"24\": 6, \"22\": 2, \"43\": 1, \"56\": 1, \"0\": 7, \"54\": 2, \"51\": 2, \"1\": 1, \"25\": 1}, \"3\": {\"28\": 1, \"3\": 113, \"38\": 1, \"29\": 7, \"46\": 1, \"32\": 1, \"51\": 1, \"47\": 1, \"13\": 2, \"40\": 1, \"44\": 1, \"26\": 1, \"55\": 5, \"24\": 1, \"57\": 1, \"4\": 1, \"36\": 1}, \"33\": {\"9\": 1, \"33\": 31}, \"47\": {\"52\": 3, \"47\": 96, \"44\": 6, \"15\": 2, \"0\": 3, \"40\": 1, \"53\": 1, \"56\": 2, \"21\": 1, \"49\": 1, \"25\": 1, \"32\": 1, \"19\": 1, \"55\": 1}, \"42\": {\"9\": 1, \"42\": 35, \"46\": 2, \"14\": 1, \"5\": 1}, \"12\": {\"41\": 1, \"12\": 103, \"16\": 1, \"54\": 2, \"51\": 6, \"18\": 1, \"6\": 1, \"5\": 1}, \"23\": {\"23\": 101, \"16\": 13, \"50\": 1, \"9\": 7, \"17\": 1, \"36\": 1, \"15\": 4, \"6\": 2, \"18\": 1, \"48\": 1}, \"49\": {\"49\": 25, \"55\": 2, \"24\": 4, \"52\": 1}, \"7\": {\"9\": 4, \"7\": 17, \"50\": 1, \"2\": 1, \"48\": 2, \"18\": 1, \"6\": 1, \"5\": 1}, \"4\": {\"4\": 110, \"46\": 8, \"1\": 3, \"53\": 1, \"54\": 1, \"25\": 1, \"55\": 1, \"57\": 3, \"56\": 1, \"13\": 1, \"20\": 1, \"5\": 1}, \"50\": {\"50\": 99, \"8\": 3, \"2\": 3, \"48\": 6, \"18\": 2, \"9\": 7, \"6\": 10, \"40\": 1, \"46\": 1, \"7\": 2}, \"19\": {\"19\": 131, \"33\": 1, \"45\": 4, \"17\": 1, \"30\": 10, \"16\": 1, \"50\": 1, \"48\": 2, \"8\": 1, \"51\": 1, \"9\": 1}, \"11\": {\"11\": 127, \"22\": 11, \"52\": 1, \"10\": 1}, \"31\": {\"31\": 23, \"22\": 1, \"11\": 1, \"24\": 1, \"28\": 1, \"52\": 1}, \"41\": {\"41\": 24}, \"56\": {\"19\": 4, \"56\": 76, \"42\": 1, \"57\": 15, \"1\": 13, \"8\": 1, \"32\": 1, \"4\": 6, \"30\": 2, \"6\": 1, \"46\": 8, \"25\": 1, \"45\": 2, \"53\": 4, \"51\": 1, \"54\": 1, \"17\": 1}, \"0\": {\"53\": 1, \"0\": 138, \"15\": 1, \"54\": 3, \"20\": 1, \"55\": 2, \"12\": 1, \"36\": 1}, \"57\": {\"56\": 22, \"57\": 82, \"1\": 9, \"37\": 1, \"40\": 1, \"32\": 2, \"46\": 1, \"4\": 3, \"53\": 1, \"44\": 1, \"31\": 1, \"42\": 1, \"33\": 1, \"19\": 1, \"47\": 1}, \"53\": {\"9\": 1, \"53\": 118, \"51\": 2, \"48\": 3, \"50\": 3, \"8\": 5, \"16\": 3, \"30\": 3, \"5\": 2}, \"43\": {\"43\": 137, \"27\": 7}, \"37\": {\"37\": 30, \"26\": 2}, \"2\": {\"2\": 31, \"50\": 2, \"9\": 2, \"18\": 1}, \"6\": {\"6\": 37, \"50\": 17, \"18\": 3, \"48\": 10, \"14\": 1, \"9\": 11, \"5\": 5, \"2\": 1, \"8\": 8, \"12\": 1, \"7\": 1, \"53\": 1}, \"13\": {\"13\": 144, \"20\": 5, \"55\": 1}, \"18\": {\"18\": 65, \"9\": 7}, \"36\": {\"36\": 48, \"7\": 2, \"50\": 3, \"16\": 7, \"18\": 1, \"48\": 1, \"23\": 1, \"5\": 1}, \"29\": {\"29\": 89, \"38\": 3, \"56\": 4, \"44\": 11, \"40\": 20, \"3\": 2, \"57\": 1, \"4\": 2, \"13\": 2, \"55\": 4, \"25\": 1, \"20\": 1}, \"39\": {\"39\": 26, \"52\": 1, \"28\": 1}, \"17\": {\"17\": 63, \"9\": 1}, \"21\": {\"21\": 117, \"15\": 7}, \"25\": {\"25\": 116, \"45\": 2, \"3\": 2, \"42\": 1, \"1\": 2, \"6\": 1, \"40\": 3, \"46\": 1, \"56\": 1, \"37\": 2, \"51\": 1}, \"45\": {\"45\": 103, \"33\": 2, \"6\": 4, \"48\": 7, \"8\": 4, \"42\": 2, \"30\": 2, \"16\": 3, \"19\": 8, \"23\": 2, \"50\": 1, \"17\": 1, \"9\": 1, \"51\": 1, \"56\": 1}, \"38\": {\"38\": 21, \"40\": 1, \"49\": 1, \"31\": 1}, \"30\": {\"30\": 91, \"8\": 11, \"48\": 8, \"17\": 1, \"6\": 3, \"50\": 3, \"9\": 3}, \"24\": {\"52\": 8, \"24\": 73, \"44\": 1, \"11\": 10, \"22\": 8, \"49\": 4, \"55\": 2, \"0\": 2}, \"20\": {\"20\": 139, \"41\": 1}, \"8\": {\"9\": 4, \"8\": 111, \"2\": 4, \"18\": 3, \"30\": 6, \"48\": 9, \"7\": 2, \"50\": 1}, \"35\": {\"35\": 36}, \"54\": {\"54\": 97, \"51\": 1, \"53\": 1, \"12\": 5}, \"5\": {\"8\": 1, \"5\": 116, \"46\": 2, \"18\": 1, \"48\": 11, \"50\": 8, \"17\": 1, \"6\": 3, \"51\": 2, \"9\": 1, \"53\": 1, \"12\": 1}, \"48\": {\"8\": 12, \"2\": 2, \"48\": 85, \"9\": 12, \"6\": 2, \"18\": 2, \"50\": 19, \"5\": 4, \"30\": 6}, \"15\": {\"15\": 125, \"21\": 9, \"2\": 2, \"18\": 1, \"9\": 2, \"16\": 1, \"50\": 1, \"47\": 1}, \"34\": {\"34\": 21, \"48\": 1, \"8\": 1, \"33\": 1}, \"14\": {\"34\": 2, \"12\": 2, \"50\": 3, \"14\": 10, \"30\": 1, \"9\": 1, \"51\": 1, \"53\": 1, \"48\": 2, \"17\": 1}, \"32\": {\"32\": 22, \"46\": 1, \"56\": 1, \"1\": 3, \"25\": 1, \"44\": 1, \"54\": 1, \"55\": 2}, \"40\": {\"40\": 118, \"4\": 4, \"57\": 1, \"32\": 1, \"29\": 11, \"13\": 3, \"55\": 4, \"44\": 2, \"47\": 2, \"3\": 1, \"54\": 1}, \"44\": {\"44\": 86, \"55\": 7, \"31\": 1, \"47\": 12, \"56\": 4, \"29\": 5, \"52\": 2, \"46\": 1, \"57\": 6, \"13\": 4, \"38\": 1, \"35\": 1, \"24\": 2, \"0\": 2, \"40\": 1, \"20\": 1}}, \"C_2\": {\"36\": {\"36\": 109, \"50\": 2, \"8\": 1, \"20\": 3, \"51\": 1}, \"5\": {\"5\": 50, \"41\": 2, \"20\": 3, \"47\": 8, \"1\": 8, \"26\": 1, \"37\": 1, \"57\": 11, \"0\": 1, \"3\": 4, \"8\": 7, \"46\": 2, \"6\": 2, \"50\": 3, \"16\": 1, \"40\": 1, \"29\": 2, \"23\": 1, \"53\": 2, \"32\": 1, \"9\": 5, \"4\": 1, \"48\": 1, \"11\": 1, \"19\": 1}, \"45\": {\"45\": 51, \"4\": 7, \"34\": 1, \"31\": 1, \"42\": 2, \"26\": 1, \"54\": 6, \"50\": 3, \"19\": 4, \"46\": 4, \"32\": 1, \"20\": 2, \"21\": 3, \"1\": 5, \"29\": 2, \"3\": 2, \"36\": 10, \"9\": 3, \"48\": 1, \"53\": 4, \"25\": 2, \"51\": 7, \"5\": 1, \"2\": 2, \"49\": 1, \"33\": 1, \"44\": 1}, \"49\": {\"49\": 16, \"17\": 3, \"37\": 1, \"41\": 1, \"9\": 1, \"23\": 1, \"3\": 1}, \"50\": {\"36\": 3, \"0\": 2, \"50\": 45, \"32\": 1, \"8\": 28, \"34\": 1, \"7\": 1, \"39\": 1, \"51\": 2, \"54\": 2, \"20\": 13, \"53\": 4, \"30\": 4, \"21\": 3, \"3\": 2, \"6\": 5, \"27\": 8, \"52\": 1, \"28\": 1, \"46\": 2, \"12\": 3, \"45\": 2, \"15\": 1, \"48\": 1}, \"4\": {\"4\": 92, \"9\": 15, \"42\": 2, \"32\": 1, \"46\": 2, \"1\": 3, \"19\": 6, \"36\": 3, \"45\": 2, \"20\": 2, \"29\": 1, \"30\": 1, \"57\": 2, \"47\": 1, \"2\": 1, \"54\": 2, \"5\": 1, \"48\": 1}, \"43\": {\"43\": 142, \"24\": 4, \"38\": 1, \"14\": 1}, \"41\": {\"41\": 12, \"52\": 3, \"18\": 3, \"21\": 1, \"6\": 1}, \"37\": {\"37\": 36}, \"12\": {\"52\": 3, \"12\": 67, \"6\": 6, \"54\": 1, \"18\": 5, \"15\": 5, \"53\": 1, \"45\": 1, \"3\": 1, \"48\": 1, \"21\": 1}, \"33\": {\"33\": 24, \"46\": 2, \"31\": 1, \"3\": 1}, \"7\": {\"7\": 25, \"15\": 2, \"18\": 1, \"23\": 3, \"52\": 3, \"30\": 1, \"6\": 1}, \"56\": {\"56\": 132, \"24\": 3, \"55\": 2, \"43\": 1, \"22\": 2}, \"14\": {\"56\": 6, \"14\": 10, \"10\": 2, \"4\": 1, \"13\": 1, \"45\": 1, \"35\": 2, \"55\": 1}, \"52\": {\"52\": 118, \"15\": 4, \"23\": 2}, \"44\": {\"33\": 1, \"44\": 72, \"31\": 1, \"19\": 6, \"29\": 2, \"35\": 1, \"40\": 3, \"55\": 3, \"53\": 2, \"45\": 3, \"25\": 1, \"4\": 1}, \"48\": {\"48\": 102, \"18\": 5, \"21\": 1, \"52\": 3, \"12\": 7, \"16\": 1, \"30\": 2, \"23\": 10, \"1\": 2, \"6\": 3, \"15\": 2, \"27\": 3, \"32\": 1, \"0\": 1, \"8\": 1}, \"20\": {\"20\": 103, \"12\": 7, \"51\": 2, \"50\": 3, \"8\": 7, \"6\": 1, \"44\": 1, \"23\": 1, \"27\": 1, \"48\": 2}, \"55\": {\"55\": 135, \"40\": 1, \"28\": 1, \"44\": 3, \"4\": 1, \"25\": 1, \"45\": 1, \"14\": 1}, \"32\": {\"32\": 20, \"17\": 2, \"1\": 1, \"48\": 3, \"6\": 1, \"27\": 1}, \"40\": {\"40\": 109, \"31\": 1, \"35\": 4, \"33\": 2, \"46\": 2, \"44\": 4, \"19\": 2, \"29\": 2, \"55\": 6, \"3\": 2, \"4\": 2}, \"54\": {\"54\": 96, \"12\": 1, \"45\": 1, \"20\": 1, \"46\": 1, \"50\": 2, \"51\": 3, \"53\": 2, \"6\": 1}, \"17\": {\"17\": 104}, \"38\": {\"38\": 19, \"24\": 1}, \"24\": {\"38\": 1, \"24\": 85, \"43\": 9, \"56\": 1}, \"1\": {\"1\": 81, \"0\": 4, \"48\": 4, \"41\": 1, \"23\": 1, \"9\": 1, \"52\": 3, \"50\": 1, \"8\": 2, \"36\": 1, \"27\": 1, \"20\": 3, \"3\": 2, \"47\": 1, \"6\": 3, \"55\": 1, \"51\": 1, \"5\": 1}, \"6\": {\"41\": 1, \"6\": 43, \"18\": 3, \"12\": 8, \"52\": 19, \"7\": 6, \"50\": 1, \"15\": 9, \"23\": 10, \"54\": 2, \"30\": 11, \"21\": 4, \"36\": 1, \"48\": 3, \"20\": 1, \"34\": 1, \"51\": 1}, \"34\": {\"34\": 26, \"50\": 1, \"54\": 1}, \"11\": {\"11\": 114, \"16\": 14, \"15\": 5, \"23\": 3}, \"9\": {\"9\": 94, \"4\": 16, \"19\": 9, \"3\": 4, \"29\": 11, \"47\": 2, \"45\": 2, \"46\": 2, \"51\": 1, \"57\": 4, \"1\": 2, \"53\": 2, \"5\": 1}, \"8\": {\"8\": 134, \"20\": 12, \"50\": 3, \"6\": 2, \"23\": 1}, \"22\": {\"22\": 112, \"43\": 7, \"10\": 9, \"24\": 3, \"44\": 3, \"56\": 2}, \"26\": {\"26\": 24}, \"23\": {\"23\": 95, \"18\": 8, \"7\": 2, \"52\": 23, \"15\": 10, \"6\": 4, \"30\": 2, \"16\": 2}, \"10\": {\"10\": 112}, \"18\": {\"18\": 46, \"30\": 1, \"52\": 1}, \"13\": {\"13\": 115, \"43\": 1}, \"30\": {\"18\": 4, \"30\": 101, \"6\": 1, \"23\": 7, \"15\": 9, \"52\": 4, \"7\": 1, \"54\": 1}, \"42\": {\"46\": 1, \"42\": 25, \"29\": 1, \"3\": 3, \"19\": 1, \"45\": 1, \"57\": 2, \"9\": 1, \"50\": 1}, \"31\": {\"31\": 26, \"46\": 1, \"44\": 1}, \"46\": {\"1\": 2, \"46\": 52, \"47\": 1, \"28\": 2, \"2\": 1, \"53\": 5, \"19\": 2, \"54\": 10, \"20\": 5, \"43\": 3, \"51\": 11, \"50\": 6, \"48\": 2, \"25\": 5, \"3\": 2, \"36\": 6, \"21\": 4, \"6\": 2, \"49\": 1, \"45\": 2, \"29\": 1, \"52\": 1, \"8\": 1, \"4\": 1}, \"57\": {\"57\": 98, \"0\": 2, \"5\": 6, \"1\": 8, \"27\": 4, \"4\": 3, \"17\": 1, \"9\": 3, \"50\": 2, \"47\": 10, \"29\": 1, \"30\": 1, \"42\": 1, \"3\": 1, \"16\": 1}, \"47\": {\"15\": 2, \"17\": 3, \"47\": 68, \"52\": 2, \"6\": 2, \"39\": 1, \"30\": 16, \"23\": 12, \"1\": 2, \"0\": 4, \"5\": 2, \"27\": 15, \"18\": 2, \"50\": 3, \"48\": 2, \"57\": 2}, \"35\": {\"35\": 29, \"40\": 2, \"33\": 1}, \"15\": {\"15\": 126, \"52\": 5, \"43\": 1}, \"25\": {\"5\": 2, \"25\": 90, \"34\": 2, \"42\": 3, \"55\": 4, \"31\": 1, \"44\": 2, \"46\": 10, \"47\": 1, \"50\": 3, \"3\": 3, \"45\": 4, \"9\": 3, \"20\": 1, \"4\": 1, \"21\": 2, \"49\": 1, \"43\": 2, \"40\": 1}, \"19\": {\"9\": 10, \"19\": 93, \"29\": 15, \"45\": 3, \"4\": 7, \"57\": 2, \"1\": 1, \"46\": 2, \"42\": 1, \"3\": 1, \"5\": 1}, \"51\": {\"51\": 113, \"8\": 5, \"20\": 6, \"6\": 2, \"50\": 1, \"36\": 1}, \"53\": {\"53\": 100, \"51\": 3, \"28\": 1, \"50\": 6, \"8\": 16, \"3\": 1, \"55\": 2, \"30\": 1, \"48\": 1, \"20\": 1, \"49\": 1, \"6\": 1}, \"21\": {\"21\": 93, \"16\": 2, \"17\": 1, \"50\": 2, \"26\": 1, \"46\": 1, \"12\": 3, \"51\": 2, \"54\": 1, \"23\": 3, \"6\": 2, \"20\": 2, \"41\": 1, \"52\": 3, \"8\": 1, \"48\": 1, \"53\": 1}, \"39\": {\"39\": 14, \"53\": 1, \"15\": 1, \"12\": 1, \"18\": 1, \"23\": 2, \"7\": 2, \"1\": 1, \"6\": 1, \"44\": 1, \"2\": 1, \"50\": 1, \"47\": 1}, \"2\": {\"1\": 2, \"2\": 25, \"46\": 1, \"36\": 2, \"21\": 2}, \"16\": {\"16\": 120, \"18\": 1, \"30\": 3, \"52\": 5, \"15\": 7, \"6\": 3, \"23\": 6, \"11\": 5}, \"0\": {\"0\": 28, \"18\": 2, \"52\": 2, \"11\": 2, \"23\": 4, \"30\": 2, \"47\": 3, \"16\": 2, \"15\": 3}, \"3\": {\"3\": 23, \"36\": 2, \"21\": 5, \"41\": 1, \"28\": 1, \"48\": 2, \"39\": 1, \"33\": 1, \"53\": 8, \"19\": 1, \"12\": 3, \"50\": 7, \"51\": 4, \"6\": 1, \"9\": 3, \"4\": 2, \"52\": 2, \"23\": 3, \"44\": 2, \"30\": 1, \"46\": 3, \"32\": 1, \"25\": 4, \"31\": 1, \"20\": 2, \"8\": 3, \"42\": 1, \"29\": 2, \"27\": 1, \"55\": 1}, \"27\": {\"27\": 130, \"23\": 6, \"52\": 1, \"30\": 4, \"17\": 1}, \"28\": {\"3\": 1, \"28\": 23, \"46\": 1, \"50\": 2, \"55\": 1}, \"29\": {\"29\": 92, \"19\": 11, \"9\": 6, \"32\": 1, \"42\": 2, \"4\": 4, \"5\": 1, \"50\": 1, \"53\": 1, \"57\": 4, \"46\": 1, \"31\": 1, \"45\": 1, \"1\": 1, \"3\": 1}}}, \"per_domain_accuracy\": {\"O_14\": {\"accuracy\": 0.9380208333333333, \"source?\": true}, \"O_20\": {\"accuracy\": 0.8513020833333333, \"source?\": true}, \"O_38\": {\"accuracy\": 0.9208333333333333, \"source?\": true}, \"O_8\": {\"accuracy\": 0.8606770833333334, \"source?\": true}, \"O_50\": {\"accuracy\": 0.8916666666666667, \"source?\": true}, \"O_32\": {\"accuracy\": 0.8942708333333333, \"source?\": true}, \"O_26\": {\"accuracy\": 0.7796875, \"source?\": true}, \"O_44\": {\"accuracy\": 0.7799479166666666, \"source?\": true}, \"C_3\": {\"accuracy\": 0.7227470930232558, \"source?\": false}, \"C_4\": {\"accuracy\": 0.7403409090909091, \"source?\": false}, \"C_5\": {\"accuracy\": 0.7353351955307262, \"source?\": false}, \"C_1\": {\"accuracy\": 0.813353825136612, \"source?\": false}, \"C_2\": {\"accuracy\": 0.7484110169491526, \"source?\": false}}}, \"history\": {\"epoch_indices\": [1, 2, 3, 4, 5, 6, 7, 8, 9, 10, 11, 12, 13, 14, 15, 16, 17], \"train_label_loss\": [0.9897286182712941, 1.335125094949312, 0.656593558451693, 0.5500220094413851, 0.4849505038485707, 0.4423838963427226, 0.41132537400006275, 0.37284937804714513, 0.32878182350569185, 0.30408337755042814, 0.2858129293700802, 0.2677196723020946, 0.2573149688277183, 0.2445632666279423, 0.23153325491640273, 0.21775581393085303, 0.21198510766116668], \"source_val_label_loss\": [51.17996597290039, 0.6986433863639832, 0.7039138078689575, 0.60428786277771, 0.47987887263298035, 0.4611269533634186, 0.44197219610214233, 0.3899171054363251, 0.37848758697509766, 0.3447332978248596, 0.34528496861457825, 0.34159234166145325, 0.3816084563732147, 0.3506017327308655, 0.3403030037879944, 0.35146573185920715, 0.3417714536190033], \"target_val_label_loss\": [1836.693603515625, 110.65574645996094, 131.39732360839844, 135.52796936035156, 127.41510772705078, 120.45012664794922, 118.03951263427734, 120.50615692138672, 122.77377319335938, 103.97927856445312, 109.80575561523438, 120.02911376953125, 134.1837158203125, 128.03030395507812, 152.4906768798828, 173.89675903320312, 171.7509002685547], \"source_val_acc_label\": [0.5761067708333333, 0.7478515625, 0.7390950520833334, 0.7783203125, 0.8249348958333333, 0.83056640625, 0.8388997395833333, 0.85625, 0.8622721354166667, 0.8751627604166666, 0.8725260416666667, 0.8779622395833333, 0.86455078125, 0.8741536458333333, 0.8802408854166667, 0.8742838541666667, 0.8805013020833333], \"target_val_acc_label\": [0.598601598173516, 0.6716252853881278, 0.6729808789954338, 0.6870719178082192, 0.688177796803653, 0.7117223173515982, 0.7188570205479452, 0.7266695205479452, 0.721175799086758, 0.7228524543378996, 0.7336615296803652, 0.7460402397260274, 0.7527468607305936, 0.73519549086758, 0.7416167237442922, 0.7445062785388128, 0.7442565639269406]}, \"dataset_metrics\": {\"source\": {\"train\": {\"n_unique_x\": 179200, \"n_unique_y\": 16, \"n_batch/episode\": 6720}, \"val\": {\"n_unique_x\": 38400, \"n_unique_y\": 16, \"n_batch/episode\": 960}, \"test\": {\"n_unique_x\": 38400, \"n_unique_y\": 16, \"n_batch/episode\": 960}}, \"target\": {\"train\": {\"n_unique_x\": 175212, \"n_unique_y\": 58, \"n_batch/episode\": 6322}, \"val\": {\"n_unique_x\": 37196, \"n_unique_y\": 58, \"n_batch/episode\": 876}, \"test\": {\"n_unique_x\": 37634, \"n_unique_y\": 58, \"n_batch/episode\": 891}}}}'"
      ]
     },
     "execution_count": 29,
     "metadata": {},
     "output_type": "execute_result"
    }
   ],
   "source": [
    "json.dumps(experiment)"
   ]
  }
 ],
 "metadata": {
  "celltoolbar": "Tags",
  "kernelspec": {
   "display_name": "Python 3 (ipykernel)",
   "language": "python",
   "name": "python3"
  },
  "language_info": {
   "codemirror_mode": {
    "name": "ipython",
    "version": 3
   },
   "file_extension": ".py",
   "mimetype": "text/x-python",
   "name": "python",
   "nbconvert_exporter": "python",
   "pygments_lexer": "ipython3",
   "version": "3.8.10"
  },
  "papermill": {
   "default_parameters": {},
   "duration": 5062.417565,
   "end_time": "2022-03-25T22:20:04.536532",
   "environment_variables": {},
   "exception": null,
   "input_path": "/mnt/wd500GB/CSC500/csc500-main/csc500-notebooks/templates/tl_ptn_template.ipynb",
   "output_path": "trial.ipynb",
   "parameters": {
    "parameters": {
     "BEST_MODEL_PATH": "./best_model.pth",
     "NUM_LOGS_PER_EPOCH": 10,
     "criteria_for_best": "target_accuracy",
     "dataset_seed": 1337,
     "datasets": [
      {
       "domain_prefix": "C_",
       "domains": [
        1,
        2,
        3,
        4,
        5
       ],
       "episode_transforms": [],
       "labels": [
        "1-10.",
        "1-11.",
        "1-15.",
        "1-16.",
        "1-17.",
        "1-18.",
        "1-19.",
        "10-4.",
        "10-7.",
        "11-1.",
        "11-14.",
        "11-17.",
        "11-20.",
        "11-7.",
        "13-20.",
        "13-8.",
        "14-10.",
        "14-11.",
        "14-14.",
        "14-7.",
        "15-1.",
        "15-20.",
        "16-1.",
        "16-16.",
        "17-10.",
        "17-11.",
        "17-2.",
        "19-1.",
        "19-16.",
        "19-19.",
        "19-20.",
        "19-3.",
        "2-10.",
        "2-11.",
        "2-17.",
        "2-18.",
        "2-20.",
        "2-3.",
        "2-4.",
        "2-5.",
        "2-6.",
        "2-7.",
        "2-8.",
        "3-13.",
        "3-18.",
        "3-3.",
        "4-1.",
        "4-10.",
        "4-11.",
        "4-19.",
        "5-5.",
        "6-15.",
        "7-10.",
        "7-14.",
        "8-18.",
        "8-20.",
        "8-3.",
        "8-8."
       ],
       "num_examples_per_domain_per_label": -1,
       "pickle_path": "/mnt/wd500GB/CSC500/csc500-main/datasets/cores.stratified_ds.2022A.pkl",
       "source_or_target_dataset": "target",
       "x_transforms": [
        "unit_mag",
        "lowpass_+/-10MHz",
        "take_200"
       ]
      },
      {
       "domain_prefix": "O_",
       "domains": [
        32,
        38,
        8,
        44,
        14,
        50,
        20,
        26
       ],
       "episode_transforms": [],
       "labels": [
        "3123D52",
        "3123D65",
        "3123D79",
        "3123D80",
        "3123D54",
        "3123D70",
        "3123D7B",
        "3123D89",
        "3123D58",
        "3123D76",
        "3123D7D",
        "3123EFE",
        "3123D64",
        "3123D78",
        "3123D7E",
        "3124E4A"
       ],
       "num_examples_per_domain_per_label": 2000,
       "pickle_path": "/mnt/wd500GB/CSC500/csc500-main/datasets/oracle.Run1_framed_2000Examples_stratified_ds.2022A.pkl",
       "source_or_target_dataset": "source",
       "x_transforms": [
        "unit_mag",
        "take_200",
        "resample_20Msps_to_25Msps"
       ]
      }
     ],
     "device": "cuda",
     "experiment_name": "tl_3-filterv2:oracle.run1.framed -> cores",
     "lr": 0.0001,
     "n_epoch": 50,
     "n_query": 2,
     "n_shot": 3,
     "n_way": 16,
     "patience": 3,
     "seed": 1337,
     "test_k_factor": 2,
     "torch_default_dtype": "torch.float32",
     "train_k_factor": 3,
     "val_k_factor": 2,
     "x_net": [
      {
       "class": "nnReshape",
       "kargs": {
        "shape": [
         -1,
         1,
         2,
         200
        ]
       }
      },
      {
       "class": "Conv2d",
       "kargs": {
        "bias": false,
        "in_channels": 1,
        "kernel_size": [
         1,
         7
        ],
        "out_channels": 256,
        "padding": [
         0,
         3
        ]
       }
      },
      {
       "class": "ReLU",
       "kargs": {
        "inplace": true
       }
      },
      {
       "class": "BatchNorm2d",
       "kargs": {
        "num_features": 256
       }
      },
      {
       "class": "Conv2d",
       "kargs": {
        "bias": true,
        "in_channels": 256,
        "kernel_size": [
         2,
         7
        ],
        "out_channels": 80,
        "padding": [
         0,
         3
        ]
       }
      },
      {
       "class": "ReLU",
       "kargs": {
        "inplace": true
       }
      },
      {
       "class": "BatchNorm2d",
       "kargs": {
        "num_features": 80
       }
      },
      {
       "class": "Flatten",
       "kargs": {}
      },
      {
       "class": "Linear",
       "kargs": {
        "in_features": 16000,
        "out_features": 256
       }
      },
      {
       "class": "ReLU",
       "kargs": {
        "inplace": true
       }
      },
      {
       "class": "BatchNorm1d",
       "kargs": {
        "num_features": 256
       }
      },
      {
       "class": "Linear",
       "kargs": {
        "in_features": 256,
        "out_features": 256
       }
      }
     ],
     "x_shape": [
      2,
      200
     ]
    }
   },
   "start_time": "2022-03-25T20:55:42.118967",
   "version": "2.3.4"
  }
 },
 "nbformat": 4,
 "nbformat_minor": 5
}