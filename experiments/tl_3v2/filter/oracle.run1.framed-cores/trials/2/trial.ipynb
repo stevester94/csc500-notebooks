{
 "cells": [
  {
   "cell_type": "markdown",
   "id": "9fea5f46",
   "metadata": {
    "papermill": {
     "duration": 0.018684,
     "end_time": "2022-03-25T22:18:54.413672",
     "exception": false,
     "start_time": "2022-03-25T22:18:54.394988",
     "status": "completed"
    },
    "tags": []
   },
   "source": [
    "# Transfer Learning Template"
   ]
  },
  {
   "cell_type": "code",
   "execution_count": 1,
   "id": "0902182a",
   "metadata": {
    "execution": {
     "iopub.execute_input": "2022-03-25T22:18:54.453202Z",
     "iopub.status.busy": "2022-03-25T22:18:54.451097Z",
     "iopub.status.idle": "2022-03-25T22:18:55.478856Z",
     "shell.execute_reply": "2022-03-25T22:18:55.478424Z"
    },
    "papermill": {
     "duration": 1.052362,
     "end_time": "2022-03-25T22:18:55.478940",
     "exception": false,
     "start_time": "2022-03-25T22:18:54.426578",
     "status": "completed"
    },
    "tags": []
   },
   "outputs": [],
   "source": [
    "%load_ext autoreload\n",
    "%autoreload 2\n",
    "%matplotlib inline\n",
    "\n",
    "    \n",
    "import os, json, sys, time, random\n",
    "import numpy as np\n",
    "import torch\n",
    "from torch.optim import Adam\n",
    "from  easydict import EasyDict\n",
    "import matplotlib.pyplot as plt\n",
    "\n",
    "from steves_models.steves_ptn import Steves_Prototypical_Network\n",
    "\n",
    "from steves_utils.lazy_iterable_wrapper import Lazy_Iterable_Wrapper\n",
    "from steves_utils.iterable_aggregator import Iterable_Aggregator\n",
    "from steves_utils.ptn_train_eval_test_jig import  PTN_Train_Eval_Test_Jig\n",
    "from steves_utils.torch_sequential_builder import build_sequential\n",
    "from steves_utils.torch_utils import get_dataset_metrics, ptn_confusion_by_domain_over_dataloader\n",
    "from steves_utils.utils_v2 import (per_domain_accuracy_from_confusion, get_datasets_base_path)\n",
    "from steves_utils.PTN.utils import independent_accuracy_assesment\n",
    "\n",
    "from torch.utils.data import DataLoader\n",
    "\n",
    "from steves_utils.stratified_dataset.episodic_accessor import Episodic_Accessor_Factory\n",
    "\n",
    "from steves_utils.ptn_do_report import (\n",
    "    get_loss_curve,\n",
    "    get_results_table,\n",
    "    get_parameters_table,\n",
    "    get_domain_accuracies,\n",
    ")\n",
    "\n",
    "from steves_utils.transforms import get_chained_transform"
   ]
  },
  {
   "cell_type": "markdown",
   "id": "41c840b4",
   "metadata": {
    "papermill": {
     "duration": 0.015397,
     "end_time": "2022-03-25T22:18:55.515045",
     "exception": false,
     "start_time": "2022-03-25T22:18:55.499648",
     "status": "completed"
    },
    "tags": []
   },
   "source": [
    "# Allowed Parameters\n",
    "These are allowed parameters, not defaults\n",
    "Each of these values need to be present in the injected parameters (the notebook will raise an exception if they are not present)\n",
    "\n",
    "Papermill uses the cell tag \"parameters\" to inject the real parameters below this cell.\n",
    "Enable tags to see what I mean"
   ]
  },
  {
   "cell_type": "code",
   "execution_count": 2,
   "id": "fd44eb83",
   "metadata": {
    "execution": {
     "iopub.execute_input": "2022-03-25T22:18:55.544495Z",
     "iopub.status.busy": "2022-03-25T22:18:55.543237Z",
     "iopub.status.idle": "2022-03-25T22:18:55.560943Z",
     "shell.execute_reply": "2022-03-25T22:18:55.560479Z"
    },
    "papermill": {
     "duration": 0.032747,
     "end_time": "2022-03-25T22:18:55.561046",
     "exception": false,
     "start_time": "2022-03-25T22:18:55.528299",
     "status": "completed"
    },
    "tags": []
   },
   "outputs": [],
   "source": [
    "required_parameters = {\n",
    "    \"experiment_name\",\n",
    "    \"lr\",\n",
    "    \"device\",\n",
    "    \"seed\",\n",
    "    \"dataset_seed\",\n",
    "    \"n_shot\",\n",
    "    \"n_query\",\n",
    "    \"n_way\",\n",
    "    \"train_k_factor\",\n",
    "    \"val_k_factor\",\n",
    "    \"test_k_factor\",\n",
    "    \"n_epoch\",\n",
    "    \"patience\",\n",
    "    \"criteria_for_best\",\n",
    "    \"x_net\",\n",
    "    \"datasets\",\n",
    "    \"torch_default_dtype\",\n",
    "    \"NUM_LOGS_PER_EPOCH\",\n",
    "    \"BEST_MODEL_PATH\",\n",
    "    \"x_shape\",\n",
    "}"
   ]
  },
  {
   "cell_type": "code",
   "execution_count": 3,
   "id": "fa3f0049",
   "metadata": {
    "execution": {
     "iopub.execute_input": "2022-03-25T22:18:55.598291Z",
     "iopub.status.busy": "2022-03-25T22:18:55.597981Z",
     "iopub.status.idle": "2022-03-25T22:18:55.611444Z",
     "shell.execute_reply": "2022-03-25T22:18:55.611007Z"
    },
    "papermill": {
     "duration": 0.032777,
     "end_time": "2022-03-25T22:18:55.611550",
     "exception": false,
     "start_time": "2022-03-25T22:18:55.578773",
     "status": "completed"
    },
    "tags": [
     "parameters"
    ]
   },
   "outputs": [],
   "source": [
    "from steves_utils.CORES.utils import (\n",
    "    ALL_NODES,\n",
    "    ALL_NODES_MINIMUM_1000_EXAMPLES,\n",
    "    ALL_DAYS\n",
    ")\n",
    "\n",
    "from steves_utils.ORACLE.utils_v2 import (\n",
    "    ALL_DISTANCES_FEET_NARROWED,\n",
    "    ALL_RUNS,\n",
    "    ALL_SERIAL_NUMBERS,\n",
    ")\n",
    "\n",
    "standalone_parameters = {}\n",
    "standalone_parameters[\"experiment_name\"] = \"STANDALONE PTN\"\n",
    "standalone_parameters[\"lr\"] = 0.001\n",
    "standalone_parameters[\"device\"] = \"cuda\"\n",
    "\n",
    "standalone_parameters[\"seed\"] = 1337\n",
    "standalone_parameters[\"dataset_seed\"] = 1337\n",
    "\n",
    "standalone_parameters[\"n_way\"] = 8\n",
    "standalone_parameters[\"n_shot\"] = 3\n",
    "standalone_parameters[\"n_query\"]  = 2\n",
    "standalone_parameters[\"train_k_factor\"] = 1\n",
    "standalone_parameters[\"val_k_factor\"] = 2\n",
    "standalone_parameters[\"test_k_factor\"] = 2\n",
    "\n",
    "\n",
    "standalone_parameters[\"n_epoch\"] = 50\n",
    "\n",
    "standalone_parameters[\"patience\"] = 10\n",
    "standalone_parameters[\"criteria_for_best\"] = \"source_loss\"\n",
    "\n",
    "standalone_parameters[\"datasets\"] = [\n",
    "    {\n",
    "        \"labels\": ALL_SERIAL_NUMBERS,\n",
    "        \"domains\": ALL_DISTANCES_FEET_NARROWED,\n",
    "        \"num_examples_per_domain_per_label\": 100,\n",
    "        \"pickle_path\": os.path.join(get_datasets_base_path(), \"oracle.Run1_framed_2000Examples_stratified_ds.2022A.pkl\"),\n",
    "        \"source_or_target_dataset\": \"source\",\n",
    "        \"x_transforms\": [\"unit_mag\", \"minus_two\"],\n",
    "        \"episode_transforms\": [],\n",
    "        \"domain_prefix\": \"ORACLE_\"\n",
    "    },\n",
    "    {\n",
    "        \"labels\": ALL_NODES,\n",
    "        \"domains\": ALL_DAYS,\n",
    "        \"num_examples_per_domain_per_label\": 100,\n",
    "        \"pickle_path\": os.path.join(get_datasets_base_path(), \"cores.stratified_ds.2022A.pkl\"),\n",
    "        \"source_or_target_dataset\": \"target\",\n",
    "        \"x_transforms\": [\"unit_power\", \"times_zero\"],\n",
    "        \"episode_transforms\": [],\n",
    "        \"domain_prefix\": \"CORES_\"\n",
    "    }   \n",
    "]\n",
    "\n",
    "standalone_parameters[\"torch_default_dtype\"] = \"torch.float32\" \n",
    "\n",
    "\n",
    "\n",
    "standalone_parameters[\"x_net\"] =     [\n",
    "    {\"class\": \"nnReshape\", \"kargs\": {\"shape\":[-1, 1, 2, 256]}},\n",
    "    {\"class\": \"Conv2d\", \"kargs\": { \"in_channels\":1, \"out_channels\":256, \"kernel_size\":(1,7), \"bias\":False, \"padding\":(0,3), },},\n",
    "    {\"class\": \"ReLU\", \"kargs\": {\"inplace\": True}},\n",
    "    {\"class\": \"BatchNorm2d\", \"kargs\": {\"num_features\":256}},\n",
    "\n",
    "    {\"class\": \"Conv2d\", \"kargs\": { \"in_channels\":256, \"out_channels\":80, \"kernel_size\":(2,7), \"bias\":True, \"padding\":(0,3), },},\n",
    "    {\"class\": \"ReLU\", \"kargs\": {\"inplace\": True}},\n",
    "    {\"class\": \"BatchNorm2d\", \"kargs\": {\"num_features\":80}},\n",
    "    {\"class\": \"Flatten\", \"kargs\": {}},\n",
    "\n",
    "    {\"class\": \"Linear\", \"kargs\": {\"in_features\": 80*256, \"out_features\": 256}}, # 80 units per IQ pair\n",
    "    {\"class\": \"ReLU\", \"kargs\": {\"inplace\": True}},\n",
    "    {\"class\": \"BatchNorm1d\", \"kargs\": {\"num_features\":256}},\n",
    "\n",
    "    {\"class\": \"Linear\", \"kargs\": {\"in_features\": 256, \"out_features\": 256}},\n",
    "]\n",
    "\n",
    "# Parameters relevant to results\n",
    "# These parameters will basically never need to change\n",
    "standalone_parameters[\"NUM_LOGS_PER_EPOCH\"] = 10\n",
    "standalone_parameters[\"BEST_MODEL_PATH\"] = \"./best_model.pth\"\n",
    "\n",
    "\n",
    "\n",
    "\n"
   ]
  },
  {
   "cell_type": "code",
   "execution_count": 4,
   "id": "8b6dc2ff",
   "metadata": {
    "execution": {
     "iopub.execute_input": "2022-03-25T22:18:55.648566Z",
     "iopub.status.busy": "2022-03-25T22:18:55.648253Z",
     "iopub.status.idle": "2022-03-25T22:18:55.661654Z",
     "shell.execute_reply": "2022-03-25T22:18:55.661130Z"
    },
    "papermill": {
     "duration": 0.032917,
     "end_time": "2022-03-25T22:18:55.661792",
     "exception": false,
     "start_time": "2022-03-25T22:18:55.628875",
     "status": "completed"
    },
    "tags": [
     "injected-parameters"
    ]
   },
   "outputs": [],
   "source": [
    "# Parameters\n",
    "parameters = {\n",
    "    \"experiment_name\": \"tl_3-filterv2:oracle.run1.framed -> cores\",\n",
    "    \"device\": \"cuda\",\n",
    "    \"lr\": 0.0001,\n",
    "    \"x_shape\": [2, 200],\n",
    "    \"n_shot\": 3,\n",
    "    \"n_query\": 2,\n",
    "    \"train_k_factor\": 3,\n",
    "    \"val_k_factor\": 2,\n",
    "    \"test_k_factor\": 2,\n",
    "    \"torch_default_dtype\": \"torch.float32\",\n",
    "    \"n_epoch\": 50,\n",
    "    \"patience\": 3,\n",
    "    \"criteria_for_best\": \"target_accuracy\",\n",
    "    \"x_net\": [\n",
    "        {\"class\": \"nnReshape\", \"kargs\": {\"shape\": [-1, 1, 2, 200]}},\n",
    "        {\n",
    "            \"class\": \"Conv2d\",\n",
    "            \"kargs\": {\n",
    "                \"in_channels\": 1,\n",
    "                \"out_channels\": 256,\n",
    "                \"kernel_size\": [1, 7],\n",
    "                \"bias\": False,\n",
    "                \"padding\": [0, 3],\n",
    "            },\n",
    "        },\n",
    "        {\"class\": \"ReLU\", \"kargs\": {\"inplace\": True}},\n",
    "        {\"class\": \"BatchNorm2d\", \"kargs\": {\"num_features\": 256}},\n",
    "        {\n",
    "            \"class\": \"Conv2d\",\n",
    "            \"kargs\": {\n",
    "                \"in_channels\": 256,\n",
    "                \"out_channels\": 80,\n",
    "                \"kernel_size\": [2, 7],\n",
    "                \"bias\": True,\n",
    "                \"padding\": [0, 3],\n",
    "            },\n",
    "        },\n",
    "        {\"class\": \"ReLU\", \"kargs\": {\"inplace\": True}},\n",
    "        {\"class\": \"BatchNorm2d\", \"kargs\": {\"num_features\": 80}},\n",
    "        {\"class\": \"Flatten\", \"kargs\": {}},\n",
    "        {\"class\": \"Linear\", \"kargs\": {\"in_features\": 16000, \"out_features\": 256}},\n",
    "        {\"class\": \"ReLU\", \"kargs\": {\"inplace\": True}},\n",
    "        {\"class\": \"BatchNorm1d\", \"kargs\": {\"num_features\": 256}},\n",
    "        {\"class\": \"Linear\", \"kargs\": {\"in_features\": 256, \"out_features\": 256}},\n",
    "    ],\n",
    "    \"NUM_LOGS_PER_EPOCH\": 10,\n",
    "    \"BEST_MODEL_PATH\": \"./best_model.pth\",\n",
    "    \"n_way\": 16,\n",
    "    \"datasets\": [\n",
    "        {\n",
    "            \"labels\": [\n",
    "                \"1-10.\",\n",
    "                \"1-11.\",\n",
    "                \"1-15.\",\n",
    "                \"1-16.\",\n",
    "                \"1-17.\",\n",
    "                \"1-18.\",\n",
    "                \"1-19.\",\n",
    "                \"10-4.\",\n",
    "                \"10-7.\",\n",
    "                \"11-1.\",\n",
    "                \"11-14.\",\n",
    "                \"11-17.\",\n",
    "                \"11-20.\",\n",
    "                \"11-7.\",\n",
    "                \"13-20.\",\n",
    "                \"13-8.\",\n",
    "                \"14-10.\",\n",
    "                \"14-11.\",\n",
    "                \"14-14.\",\n",
    "                \"14-7.\",\n",
    "                \"15-1.\",\n",
    "                \"15-20.\",\n",
    "                \"16-1.\",\n",
    "                \"16-16.\",\n",
    "                \"17-10.\",\n",
    "                \"17-11.\",\n",
    "                \"17-2.\",\n",
    "                \"19-1.\",\n",
    "                \"19-16.\",\n",
    "                \"19-19.\",\n",
    "                \"19-20.\",\n",
    "                \"19-3.\",\n",
    "                \"2-10.\",\n",
    "                \"2-11.\",\n",
    "                \"2-17.\",\n",
    "                \"2-18.\",\n",
    "                \"2-20.\",\n",
    "                \"2-3.\",\n",
    "                \"2-4.\",\n",
    "                \"2-5.\",\n",
    "                \"2-6.\",\n",
    "                \"2-7.\",\n",
    "                \"2-8.\",\n",
    "                \"3-13.\",\n",
    "                \"3-18.\",\n",
    "                \"3-3.\",\n",
    "                \"4-1.\",\n",
    "                \"4-10.\",\n",
    "                \"4-11.\",\n",
    "                \"4-19.\",\n",
    "                \"5-5.\",\n",
    "                \"6-15.\",\n",
    "                \"7-10.\",\n",
    "                \"7-14.\",\n",
    "                \"8-18.\",\n",
    "                \"8-20.\",\n",
    "                \"8-3.\",\n",
    "                \"8-8.\",\n",
    "            ],\n",
    "            \"domains\": [1, 2, 3, 4, 5],\n",
    "            \"num_examples_per_domain_per_label\": -1,\n",
    "            \"pickle_path\": \"/mnt/wd500GB/CSC500/csc500-main/datasets/cores.stratified_ds.2022A.pkl\",\n",
    "            \"source_or_target_dataset\": \"target\",\n",
    "            \"x_transforms\": [\"lowpass_+/-10MHz\", \"take_200\"],\n",
    "            \"episode_transforms\": [],\n",
    "            \"domain_prefix\": \"C_\",\n",
    "        },\n",
    "        {\n",
    "            \"labels\": [\n",
    "                \"3123D52\",\n",
    "                \"3123D65\",\n",
    "                \"3123D79\",\n",
    "                \"3123D80\",\n",
    "                \"3123D54\",\n",
    "                \"3123D70\",\n",
    "                \"3123D7B\",\n",
    "                \"3123D89\",\n",
    "                \"3123D58\",\n",
    "                \"3123D76\",\n",
    "                \"3123D7D\",\n",
    "                \"3123EFE\",\n",
    "                \"3123D64\",\n",
    "                \"3123D78\",\n",
    "                \"3123D7E\",\n",
    "                \"3124E4A\",\n",
    "            ],\n",
    "            \"domains\": [32, 38, 8, 44, 14, 50, 20, 26],\n",
    "            \"num_examples_per_domain_per_label\": 2000,\n",
    "            \"pickle_path\": \"/mnt/wd500GB/CSC500/csc500-main/datasets/oracle.Run1_framed_2000Examples_stratified_ds.2022A.pkl\",\n",
    "            \"source_or_target_dataset\": \"source\",\n",
    "            \"x_transforms\": [\"take_200\", \"resample_20Msps_to_25Msps\"],\n",
    "            \"episode_transforms\": [],\n",
    "            \"domain_prefix\": \"O_\",\n",
    "        },\n",
    "    ],\n",
    "    \"seed\": 1337,\n",
    "    \"dataset_seed\": 1337,\n",
    "}\n"
   ]
  },
  {
   "cell_type": "code",
   "execution_count": 5,
   "id": "8fa1cc33",
   "metadata": {
    "execution": {
     "iopub.execute_input": "2022-03-25T22:18:55.697204Z",
     "iopub.status.busy": "2022-03-25T22:18:55.696923Z",
     "iopub.status.idle": "2022-03-25T22:18:55.713237Z",
     "shell.execute_reply": "2022-03-25T22:18:55.712725Z"
    },
    "papermill": {
     "duration": 0.033128,
     "end_time": "2022-03-25T22:18:55.713342",
     "exception": false,
     "start_time": "2022-03-25T22:18:55.680214",
     "status": "completed"
    },
    "tags": []
   },
   "outputs": [],
   "source": [
    "# Set this to True if you want to run this template directly\n",
    "STANDALONE = False\n",
    "if STANDALONE:\n",
    "    print(\"parameters not injected, running with standalone_parameters\")\n",
    "    parameters = standalone_parameters\n",
    "\n",
    "if not 'parameters' in locals() and not 'parameters' in globals():\n",
    "    raise Exception(\"Parameter injection failed\")\n",
    "\n",
    "#Use an easy dict for all the parameters\n",
    "p = EasyDict(parameters)\n",
    "\n",
    "if \"x_shape\" not in p:\n",
    "    p.x_shape = [2,256] # Default to this if we dont supply x_shape\n",
    "\n",
    "\n",
    "supplied_keys = set(p.keys())\n",
    "\n",
    "if  supplied_keys != required_parameters:\n",
    "    print(\"Parameters are incorrect\")\n",
    "    if len(supplied_keys - required_parameters)>0: print(\"Shouldn't have:\", str(supplied_keys - required_parameters))\n",
    "    if len(required_parameters - supplied_keys)>0: print(\"Need to have:\", str(required_parameters - supplied_keys))\n",
    "    raise RuntimeError(\"Parameters are incorrect\")"
   ]
  },
  {
   "cell_type": "code",
   "execution_count": 6,
   "id": "3a028d58",
   "metadata": {
    "execution": {
     "iopub.execute_input": "2022-03-25T22:18:55.750389Z",
     "iopub.status.busy": "2022-03-25T22:18:55.748585Z",
     "iopub.status.idle": "2022-03-25T22:18:55.763518Z",
     "shell.execute_reply": "2022-03-25T22:18:55.763023Z"
    },
    "papermill": {
     "duration": 0.031551,
     "end_time": "2022-03-25T22:18:55.763615",
     "exception": false,
     "start_time": "2022-03-25T22:18:55.732064",
     "status": "completed"
    },
    "tags": []
   },
   "outputs": [],
   "source": [
    "###################################\n",
    "# Set the RNGs and make it all deterministic\n",
    "###################################\n",
    "np.random.seed(p.seed)\n",
    "random.seed(p.seed)\n",
    "torch.manual_seed(p.seed)\n",
    "\n",
    "torch.use_deterministic_algorithms(True) "
   ]
  },
  {
   "cell_type": "code",
   "execution_count": 7,
   "id": "b691acf6",
   "metadata": {
    "execution": {
     "iopub.execute_input": "2022-03-25T22:18:55.798304Z",
     "iopub.status.busy": "2022-03-25T22:18:55.797466Z",
     "iopub.status.idle": "2022-03-25T22:18:55.815026Z",
     "shell.execute_reply": "2022-03-25T22:18:55.814601Z"
    },
    "papermill": {
     "duration": 0.032617,
     "end_time": "2022-03-25T22:18:55.815129",
     "exception": false,
     "start_time": "2022-03-25T22:18:55.782512",
     "status": "completed"
    },
    "tags": []
   },
   "outputs": [],
   "source": [
    "###########################################\n",
    "# The stratified datasets honor this\n",
    "###########################################\n",
    "torch.set_default_dtype(eval(p.torch_default_dtype))"
   ]
  },
  {
   "cell_type": "code",
   "execution_count": 8,
   "id": "b5fba671",
   "metadata": {
    "execution": {
     "iopub.execute_input": "2022-03-25T22:18:55.854311Z",
     "iopub.status.busy": "2022-03-25T22:18:55.850501Z",
     "iopub.status.idle": "2022-03-25T22:18:55.888692Z",
     "shell.execute_reply": "2022-03-25T22:18:55.888207Z"
    },
    "papermill": {
     "duration": 0.054207,
     "end_time": "2022-03-25T22:18:55.888804",
     "exception": false,
     "start_time": "2022-03-25T22:18:55.834597",
     "status": "completed"
    },
    "tags": []
   },
   "outputs": [],
   "source": [
    "###################################\n",
    "# Build the network(s)\n",
    "# Note: It's critical to do this AFTER setting the RNG\n",
    "###################################\n",
    "x_net = build_sequential(p.x_net)"
   ]
  },
  {
   "cell_type": "code",
   "execution_count": 9,
   "id": "5d7e61cc",
   "metadata": {
    "execution": {
     "iopub.execute_input": "2022-03-25T22:18:55.924365Z",
     "iopub.status.busy": "2022-03-25T22:18:55.924091Z",
     "iopub.status.idle": "2022-03-25T22:18:55.936982Z",
     "shell.execute_reply": "2022-03-25T22:18:55.936259Z"
    },
    "papermill": {
     "duration": 0.028963,
     "end_time": "2022-03-25T22:18:55.937142",
     "exception": false,
     "start_time": "2022-03-25T22:18:55.908179",
     "status": "completed"
    },
    "tags": []
   },
   "outputs": [],
   "source": [
    "start_time_secs = time.time()"
   ]
  },
  {
   "cell_type": "code",
   "execution_count": 10,
   "id": "c6b67dfd",
   "metadata": {
    "execution": {
     "iopub.execute_input": "2022-03-25T22:18:55.972382Z",
     "iopub.status.busy": "2022-03-25T22:18:55.971823Z",
     "iopub.status.idle": "2022-03-25T22:18:55.986362Z",
     "shell.execute_reply": "2022-03-25T22:18:55.985858Z"
    },
    "papermill": {
     "duration": 0.031513,
     "end_time": "2022-03-25T22:18:55.986474",
     "exception": false,
     "start_time": "2022-03-25T22:18:55.954961",
     "status": "completed"
    },
    "tags": []
   },
   "outputs": [],
   "source": [
    "p.domains_source = []\n",
    "p.domains_target = []\n",
    "\n",
    "\n",
    "train_original_source = []\n",
    "val_original_source   = []\n",
    "test_original_source  = []\n",
    "\n",
    "train_original_target = []\n",
    "val_original_target   = []\n",
    "test_original_target  = []"
   ]
  },
  {
   "cell_type": "code",
   "execution_count": 11,
   "id": "e3d9c3d3",
   "metadata": {
    "execution": {
     "iopub.execute_input": "2022-03-25T22:18:56.021298Z",
     "iopub.status.busy": "2022-03-25T22:18:56.020511Z",
     "iopub.status.idle": "2022-03-25T22:18:56.037491Z",
     "shell.execute_reply": "2022-03-25T22:18:56.037116Z"
    },
    "papermill": {
     "duration": 0.032663,
     "end_time": "2022-03-25T22:18:56.037578",
     "exception": false,
     "start_time": "2022-03-25T22:18:56.004915",
     "status": "completed"
    },
    "tags": []
   },
   "outputs": [],
   "source": [
    "# global_x_transform_func = lambda x: normalize(x.to(torch.get_default_dtype()), \"unit_power\") # unit_power, unit_mag\n",
    "# global_x_transform_func = lambda x: normalize(x, \"unit_power\") # unit_power, unit_mag"
   ]
  },
  {
   "cell_type": "code",
   "execution_count": 12,
   "id": "acb78fd2",
   "metadata": {
    "execution": {
     "iopub.execute_input": "2022-03-25T22:18:56.081659Z",
     "iopub.status.busy": "2022-03-25T22:18:56.077869Z",
     "iopub.status.idle": "2022-03-25T22:18:56.095672Z",
     "shell.execute_reply": "2022-03-25T22:18:56.095382Z"
    },
    "papermill": {
     "duration": 0.040305,
     "end_time": "2022-03-25T22:18:56.095736",
     "exception": false,
     "start_time": "2022-03-25T22:18:56.055431",
     "status": "completed"
    },
    "tags": []
   },
   "outputs": [],
   "source": [
    "def add_dataset(\n",
    "    labels,\n",
    "    domains,\n",
    "    pickle_path,\n",
    "    x_transforms,\n",
    "    episode_transforms,\n",
    "    domain_prefix,\n",
    "    num_examples_per_domain_per_label,\n",
    "    source_or_target_dataset:str,\n",
    "    iterator_seed=p.seed,\n",
    "    dataset_seed=p.dataset_seed,\n",
    "    n_shot=p.n_shot,\n",
    "    n_way=p.n_way,\n",
    "    n_query=p.n_query,\n",
    "    train_val_test_k_factors=(p.train_k_factor,p.val_k_factor,p.test_k_factor),\n",
    "):\n",
    "   \n",
    "    if x_transforms == []: x_transform = None\n",
    "    else: x_transform = get_chained_transform(x_transforms)\n",
    "    \n",
    "    if episode_transforms == []: episode_transform = None\n",
    "    else: raise Exception(\"episode_transforms not implemented\")\n",
    "    \n",
    "    episode_transform = lambda tup, _prefix=domain_prefix: (_prefix + str(tup[0]), tup[1])\n",
    "\n",
    "\n",
    "    eaf = Episodic_Accessor_Factory(\n",
    "        labels=labels,\n",
    "        domains=domains,\n",
    "        num_examples_per_domain_per_label=num_examples_per_domain_per_label,\n",
    "        iterator_seed=iterator_seed,\n",
    "        dataset_seed=dataset_seed,\n",
    "        n_shot=n_shot,\n",
    "        n_way=n_way,\n",
    "        n_query=n_query,\n",
    "        train_val_test_k_factors=train_val_test_k_factors,\n",
    "        pickle_path=pickle_path,\n",
    "        x_transform_func=x_transform,\n",
    "    )\n",
    "\n",
    "    train, val, test = eaf.get_train(), eaf.get_val(), eaf.get_test()\n",
    "    train = Lazy_Iterable_Wrapper(train, episode_transform)\n",
    "    val = Lazy_Iterable_Wrapper(val, episode_transform)\n",
    "    test = Lazy_Iterable_Wrapper(test, episode_transform)\n",
    "\n",
    "    if source_or_target_dataset==\"source\":\n",
    "        train_original_source.append(train)\n",
    "        val_original_source.append(val)\n",
    "        test_original_source.append(test)\n",
    "\n",
    "        p.domains_source.extend(\n",
    "            [domain_prefix + str(u) for u in domains]\n",
    "        )\n",
    "    elif source_or_target_dataset==\"target\":\n",
    "        train_original_target.append(train)\n",
    "        val_original_target.append(val)\n",
    "        test_original_target.append(test)\n",
    "        p.domains_target.extend(\n",
    "            [domain_prefix + str(u) for u in domains]\n",
    "        )\n",
    "    else:\n",
    "        raise Exception(f\"invalid source_or_target_dataset: {source_or_target_dataset}\")\n",
    "    "
   ]
  },
  {
   "cell_type": "code",
   "execution_count": 13,
   "id": "fe266617",
   "metadata": {
    "execution": {
     "iopub.execute_input": "2022-03-25T22:18:56.127698Z",
     "iopub.status.busy": "2022-03-25T22:18:56.127422Z",
     "iopub.status.idle": "2022-03-25T22:19:15.069896Z",
     "shell.execute_reply": "2022-03-25T22:19:15.069450Z"
    },
    "papermill": {
     "duration": 18.960553,
     "end_time": "2022-03-25T22:19:15.070048",
     "exception": false,
     "start_time": "2022-03-25T22:18:56.109495",
     "status": "completed"
    },
    "tags": []
   },
   "outputs": [],
   "source": [
    "for ds in p.datasets:\n",
    "    add_dataset(**ds)"
   ]
  },
  {
   "cell_type": "code",
   "execution_count": 14,
   "id": "b90d65ac",
   "metadata": {
    "execution": {
     "iopub.execute_input": "2022-03-25T22:19:15.104251Z",
     "iopub.status.busy": "2022-03-25T22:19:15.103988Z",
     "iopub.status.idle": "2022-03-25T22:19:15.115445Z",
     "shell.execute_reply": "2022-03-25T22:19:15.115173Z"
    },
    "papermill": {
     "duration": 0.027017,
     "end_time": "2022-03-25T22:19:15.115505",
     "exception": false,
     "start_time": "2022-03-25T22:19:15.088488",
     "status": "completed"
    },
    "tags": []
   },
   "outputs": [],
   "source": [
    "# from steves_utils.CORES.utils import (\n",
    "#     ALL_NODES,\n",
    "#     ALL_NODES_MINIMUM_1000_EXAMPLES,\n",
    "#     ALL_DAYS\n",
    "# )\n",
    "\n",
    "# add_dataset(\n",
    "#     labels=ALL_NODES,\n",
    "#     domains = ALL_DAYS,\n",
    "#     num_examples_per_domain_per_label=100,\n",
    "#     pickle_path=os.path.join(get_datasets_base_path(), \"cores.stratified_ds.2022A.pkl\"),\n",
    "#     source_or_target_dataset=\"target\",\n",
    "#     x_transform_func=global_x_transform_func,\n",
    "#     domain_modifier=lambda u: f\"cores_{u}\"\n",
    "# )"
   ]
  },
  {
   "cell_type": "code",
   "execution_count": 15,
   "id": "76db484d",
   "metadata": {
    "execution": {
     "iopub.execute_input": "2022-03-25T22:19:15.148061Z",
     "iopub.status.busy": "2022-03-25T22:19:15.147798Z",
     "iopub.status.idle": "2022-03-25T22:19:15.160260Z",
     "shell.execute_reply": "2022-03-25T22:19:15.160695Z"
    },
    "papermill": {
     "duration": 0.029027,
     "end_time": "2022-03-25T22:19:15.160825",
     "exception": false,
     "start_time": "2022-03-25T22:19:15.131798",
     "status": "completed"
    },
    "tags": []
   },
   "outputs": [],
   "source": [
    "# from steves_utils.ORACLE.utils_v2 import (\n",
    "#     ALL_DISTANCES_FEET,\n",
    "#     ALL_RUNS,\n",
    "#     ALL_SERIAL_NUMBERS,\n",
    "# )\n",
    "\n",
    "\n",
    "# add_dataset(\n",
    "#     labels=ALL_SERIAL_NUMBERS,\n",
    "#     domains = list(set(ALL_DISTANCES_FEET) - {2,62}),\n",
    "#     num_examples_per_domain_per_label=100,\n",
    "#     pickle_path=os.path.join(get_datasets_base_path(), \"oracle.Run2_framed_2000Examples_stratified_ds.2022A.pkl\"),\n",
    "#     source_or_target_dataset=\"source\",\n",
    "#     x_transform_func=global_x_transform_func,\n",
    "#     domain_modifier=lambda u: f\"oracle1_{u}\"\n",
    "# )\n"
   ]
  },
  {
   "cell_type": "code",
   "execution_count": 16,
   "id": "97dea9d2",
   "metadata": {
    "execution": {
     "iopub.execute_input": "2022-03-25T22:19:15.193768Z",
     "iopub.status.busy": "2022-03-25T22:19:15.193508Z",
     "iopub.status.idle": "2022-03-25T22:19:15.208523Z",
     "shell.execute_reply": "2022-03-25T22:19:15.208915Z"
    },
    "papermill": {
     "duration": 0.031571,
     "end_time": "2022-03-25T22:19:15.209041",
     "exception": false,
     "start_time": "2022-03-25T22:19:15.177470",
     "status": "completed"
    },
    "tags": []
   },
   "outputs": [],
   "source": [
    "# from steves_utils.ORACLE.utils_v2 import (\n",
    "#     ALL_DISTANCES_FEET,\n",
    "#     ALL_RUNS,\n",
    "#     ALL_SERIAL_NUMBERS,\n",
    "# )\n",
    "\n",
    "\n",
    "# add_dataset(\n",
    "#     labels=ALL_SERIAL_NUMBERS,\n",
    "#     domains = list(set(ALL_DISTANCES_FEET) - {2,62,56}),\n",
    "#     num_examples_per_domain_per_label=100,\n",
    "#     pickle_path=os.path.join(get_datasets_base_path(), \"oracle.Run2_framed_2000Examples_stratified_ds.2022A.pkl\"),\n",
    "#     source_or_target_dataset=\"source\",\n",
    "#     x_transform_func=global_x_transform_func,\n",
    "#     domain_modifier=lambda u: f\"oracle2_{u}\"\n",
    "# )"
   ]
  },
  {
   "cell_type": "code",
   "execution_count": 17,
   "id": "6f289866",
   "metadata": {
    "execution": {
     "iopub.execute_input": "2022-03-25T22:19:15.245635Z",
     "iopub.status.busy": "2022-03-25T22:19:15.244985Z",
     "iopub.status.idle": "2022-03-25T22:19:15.260590Z",
     "shell.execute_reply": "2022-03-25T22:19:15.260901Z"
    },
    "papermill": {
     "duration": 0.031307,
     "end_time": "2022-03-25T22:19:15.261003",
     "exception": false,
     "start_time": "2022-03-25T22:19:15.229696",
     "status": "completed"
    },
    "tags": []
   },
   "outputs": [],
   "source": [
    "# add_dataset(\n",
    "#     labels=list(range(19)),\n",
    "#     domains = [0,1,2],\n",
    "#     num_examples_per_domain_per_label=100,\n",
    "#     pickle_path=os.path.join(get_datasets_base_path(), \"metehan.stratified_ds.2022A.pkl\"),\n",
    "#     source_or_target_dataset=\"target\",\n",
    "#     x_transform_func=global_x_transform_func,\n",
    "#     domain_modifier=lambda u: f\"met_{u}\"\n",
    "# )"
   ]
  },
  {
   "cell_type": "code",
   "execution_count": 18,
   "id": "86a863c3",
   "metadata": {
    "execution": {
     "iopub.execute_input": "2022-03-25T22:19:15.294990Z",
     "iopub.status.busy": "2022-03-25T22:19:15.294722Z",
     "iopub.status.idle": "2022-03-25T22:19:15.310585Z",
     "shell.execute_reply": "2022-03-25T22:19:15.311015Z"
    },
    "papermill": {
     "duration": 0.032755,
     "end_time": "2022-03-25T22:19:15.311142",
     "exception": false,
     "start_time": "2022-03-25T22:19:15.278387",
     "status": "completed"
    },
    "tags": []
   },
   "outputs": [],
   "source": [
    "# # from steves_utils.wisig.utils import (\n",
    "# #     ALL_NODES_MINIMUM_100_EXAMPLES,\n",
    "# #     ALL_NODES_MINIMUM_500_EXAMPLES,\n",
    "# #     ALL_NODES_MINIMUM_1000_EXAMPLES,\n",
    "# #     ALL_DAYS\n",
    "# # )\n",
    "\n",
    "# import steves_utils.wisig.utils as wisig\n",
    "\n",
    "\n",
    "# add_dataset(\n",
    "#     labels=wisig.ALL_NODES_MINIMUM_100_EXAMPLES,\n",
    "#     domains = wisig.ALL_DAYS,\n",
    "#     num_examples_per_domain_per_label=100,\n",
    "#     pickle_path=os.path.join(get_datasets_base_path(), \"wisig.node3-19.stratified_ds.2022A.pkl\"),\n",
    "#     source_or_target_dataset=\"target\",\n",
    "#     x_transform_func=global_x_transform_func,\n",
    "#     domain_modifier=lambda u: f\"wisig_{u}\"\n",
    "# )"
   ]
  },
  {
   "cell_type": "code",
   "execution_count": 19,
   "id": "fd5442bc",
   "metadata": {
    "execution": {
     "iopub.execute_input": "2022-03-25T22:19:15.346966Z",
     "iopub.status.busy": "2022-03-25T22:19:15.346688Z",
     "iopub.status.idle": "2022-03-25T22:19:15.362898Z",
     "shell.execute_reply": "2022-03-25T22:19:15.362482Z"
    },
    "papermill": {
     "duration": 0.033998,
     "end_time": "2022-03-25T22:19:15.363008",
     "exception": false,
     "start_time": "2022-03-25T22:19:15.329010",
     "status": "completed"
    },
    "tags": []
   },
   "outputs": [],
   "source": [
    "###################################\n",
    "# Build the dataset\n",
    "###################################\n",
    "train_original_source = Iterable_Aggregator(train_original_source, p.seed)\n",
    "val_original_source = Iterable_Aggregator(val_original_source, p.seed)\n",
    "test_original_source = Iterable_Aggregator(test_original_source, p.seed)\n",
    "\n",
    "\n",
    "train_original_target = Iterable_Aggregator(train_original_target, p.seed)\n",
    "val_original_target = Iterable_Aggregator(val_original_target, p.seed)\n",
    "test_original_target = Iterable_Aggregator(test_original_target, p.seed)\n",
    "\n",
    "# For CNN We only use X and Y. And we only train on the source.\n",
    "# Properly form the data using a transform lambda and Lazy_Iterable_Wrapper. Finally wrap them in a dataloader\n",
    "\n",
    "transform_lambda = lambda ex: ex[1] # Original is (<domain>, <episode>) so we strip down to episode only\n",
    "\n",
    "train_processed_source = Lazy_Iterable_Wrapper(train_original_source, transform_lambda)\n",
    "val_processed_source   = Lazy_Iterable_Wrapper(val_original_source, transform_lambda)\n",
    "test_processed_source  = Lazy_Iterable_Wrapper(test_original_source, transform_lambda)\n",
    "\n",
    "train_processed_target = Lazy_Iterable_Wrapper(train_original_target, transform_lambda)\n",
    "val_processed_target   = Lazy_Iterable_Wrapper(val_original_target, transform_lambda)\n",
    "test_processed_target  = Lazy_Iterable_Wrapper(test_original_target, transform_lambda)\n",
    "\n",
    "datasets = EasyDict({\n",
    "    \"source\": {\n",
    "        \"original\": {\"train\":train_original_source, \"val\":val_original_source, \"test\":test_original_source},\n",
    "        \"processed\": {\"train\":train_processed_source, \"val\":val_processed_source, \"test\":test_processed_source}\n",
    "    },\n",
    "    \"target\": {\n",
    "        \"original\": {\"train\":train_original_target, \"val\":val_original_target, \"test\":test_original_target},\n",
    "        \"processed\": {\"train\":train_processed_target, \"val\":val_processed_target, \"test\":test_processed_target}\n",
    "    },\n",
    "})"
   ]
  },
  {
   "cell_type": "code",
   "execution_count": 20,
   "id": "5b3c01fc",
   "metadata": {
    "execution": {
     "iopub.execute_input": "2022-03-25T22:19:15.400756Z",
     "iopub.status.busy": "2022-03-25T22:19:15.400480Z",
     "iopub.status.idle": "2022-03-25T22:19:21.864934Z",
     "shell.execute_reply": "2022-03-25T22:19:21.864298Z"
    },
    "papermill": {
     "duration": 6.481836,
     "end_time": "2022-03-25T22:19:21.865045",
     "exception": false,
     "start_time": "2022-03-25T22:19:15.383209",
     "status": "completed"
    },
    "tags": []
   },
   "outputs": [
    {
     "name": "stdout",
     "output_type": "stream",
     "text": [
      "{'O_14', 'O_26', 'O_44', 'O_8', 'O_32', 'O_50', 'O_38', 'O_20'}\n"
     ]
    },
    {
     "name": "stdout",
     "output_type": "stream",
     "text": [
      "{'C_2', 'C_1', 'C_3', 'C_5', 'C_4'}\n"
     ]
    },
    {
     "name": "stdout",
     "output_type": "stream",
     "text": [
      "tensor([[[-3.0519e-04,  3.5556e-03,  2.0206e-03,  ...,  2.1691e-03,\n",
      "           1.7273e-03,  2.3624e-03],\n",
      "         [-2.1058e-03, -1.8932e-03,  2.2942e-03,  ..., -3.7358e-04,\n",
      "           3.6849e-03,  3.8457e-04]],\n",
      "\n",
      "        [[-1.4649e-03,  1.4898e-03,  2.6404e-03,  ...,  3.7484e-03,\n",
      "           1.6746e-03,  6.1315e-05],\n",
      "         [-3.6927e-03, -2.5907e-03,  2.8652e-03,  ..., -1.4858e-03,\n",
      "          -2.0637e-03, -4.5108e-03]],\n",
      "\n",
      "        [[ 2.1363e-03, -1.7548e-04, -2.9306e-03,  ..., -2.7567e-03,\n",
      "          -3.0599e-03, -3.3251e-04],\n",
      "         [ 2.7161e-03,  3.5096e-03, -1.7432e-03,  ...,  1.5548e-03,\n",
      "           8.4818e-04,  3.8669e-03]],\n",
      "\n",
      "        ...,\n",
      "\n",
      "        [[ 4.7609e-03,  1.1404e-03, -5.8138e-03,  ..., -3.3979e-03,\n",
      "          -7.4494e-04,  4.4531e-03],\n",
      "         [ 2.6856e-03,  4.4305e-03, -2.3923e-04,  ...,  4.7568e-03,\n",
      "           3.5689e-03,  4.8476e-03]],\n",
      "\n",
      "        [[ 1.2207e-04, -4.9236e-03, -1.3816e-03,  ..., -4.1507e-03,\n",
      "          -4.0835e-03, -4.6269e-03],\n",
      "         [ 3.8148e-03,  3.7729e-03, -3.6135e-03,  ..., -6.0177e-04,\n",
      "          -3.3435e-03,  3.1819e-03]],\n",
      "\n",
      "        [[ 2.3194e-03,  2.2329e-03, -1.6715e-03,  ...,  2.3415e-03,\n",
      "          -5.6927e-03, -3.1427e-03],\n",
      "         [-1.9837e-03,  4.5080e-03,  3.5371e-03,  ...,  3.2161e-03,\n",
      "           1.3673e-03,  2.2193e-03]]])\n"
     ]
    }
   ],
   "source": [
    "from steves_utils.transforms import get_average_magnitude, get_average_power\n",
    "\n",
    "print(set([u for u,_ in val_original_source]))\n",
    "print(set([u for u,_ in val_original_target]))\n",
    "\n",
    "s_x, s_y, q_x, q_y, _ = next(iter(train_processed_source))\n",
    "print(s_x)\n",
    "\n",
    "# for ds in [\n",
    "#     train_processed_source,\n",
    "#     val_processed_source,\n",
    "#     test_processed_source,\n",
    "#     train_processed_target,\n",
    "#     val_processed_target,\n",
    "#     test_processed_target\n",
    "# ]:\n",
    "#     for s_x, s_y, q_x, q_y, _ in ds:\n",
    "#         for X in (s_x, q_x):\n",
    "#             for x in X:\n",
    "#                 assert np.isclose(get_average_magnitude(x.numpy()), 1.0)\n",
    "#                 assert np.isclose(get_average_power(x.numpy()), 1.0)\n",
    "                "
   ]
  },
  {
   "cell_type": "code",
   "execution_count": 21,
   "id": "bbdacba1",
   "metadata": {
    "execution": {
     "iopub.execute_input": "2022-03-25T22:19:21.907792Z",
     "iopub.status.busy": "2022-03-25T22:19:21.905919Z",
     "iopub.status.idle": "2022-03-25T22:19:21.962664Z",
     "shell.execute_reply": "2022-03-25T22:19:21.962411Z"
    },
    "papermill": {
     "duration": 0.075692,
     "end_time": "2022-03-25T22:19:21.962731",
     "exception": false,
     "start_time": "2022-03-25T22:19:21.887039",
     "status": "completed"
    },
    "tags": []
   },
   "outputs": [
    {
     "name": "stdout",
     "output_type": "stream",
     "text": [
      "(2, 200)\n"
     ]
    }
   ],
   "source": [
    "###################################\n",
    "# Build the model\n",
    "###################################\n",
    "# easfsl only wants a tuple for the shape\n",
    "model = Steves_Prototypical_Network(x_net, device=p.device, x_shape=tuple(p.x_shape))\n",
    "optimizer = Adam(params=model.parameters(), lr=p.lr)"
   ]
  },
  {
   "cell_type": "code",
   "execution_count": 22,
   "id": "22b39ac5",
   "metadata": {
    "execution": {
     "iopub.execute_input": "2022-03-25T22:19:22.001095Z",
     "iopub.status.busy": "2022-03-25T22:19:22.000813Z",
     "iopub.status.idle": "2022-03-25T22:43:29.849814Z",
     "shell.execute_reply": "2022-03-25T22:43:29.849578Z"
    },
    "papermill": {
     "duration": 1447.868874,
     "end_time": "2022-03-25T22:43:29.849874",
     "exception": false,
     "start_time": "2022-03-25T22:19:21.981000",
     "status": "completed"
    },
    "tags": []
   },
   "outputs": [
    {
     "name": "stdout",
     "output_type": "stream",
     "text": [
      "epoch: 1, [batch: 1 / 6720], examples_per_second: 43.1781, train_label_loss: 2.8024, \n"
     ]
    },
    {
     "name": "stdout",
     "output_type": "stream",
     "text": [
      "epoch: 1, [batch: 672 / 6720], examples_per_second: 3558.3148, train_label_loss: 0.6131, \n"
     ]
    },
    {
     "name": "stdout",
     "output_type": "stream",
     "text": [
      "epoch: 1, [batch: 1344 / 6720], examples_per_second: 3564.0480, train_label_loss: 0.3190, \n"
     ]
    },
    {
     "name": "stdout",
     "output_type": "stream",
     "text": [
      "epoch: 1, [batch: 2016 / 6720], examples_per_second: 3553.5875, train_label_loss: 0.3707, \n"
     ]
    },
    {
     "name": "stdout",
     "output_type": "stream",
     "text": [
      "epoch: 1, [batch: 2688 / 6720], examples_per_second: 3604.4495, train_label_loss: 0.6989, \n"
     ]
    },
    {
     "name": "stdout",
     "output_type": "stream",
     "text": [
      "epoch: 1, [batch: 3360 / 6720], examples_per_second: 3599.5656, train_label_loss: 0.1750, \n"
     ]
    },
    {
     "name": "stdout",
     "output_type": "stream",
     "text": [
      "epoch: 1, [batch: 4032 / 6720], examples_per_second: 3603.1221, train_label_loss: 0.2799, \n"
     ]
    },
    {
     "name": "stdout",
     "output_type": "stream",
     "text": [
      "epoch: 1, [batch: 4704 / 6720], examples_per_second: 3563.4030, train_label_loss: 0.4640, \n"
     ]
    },
    {
     "name": "stdout",
     "output_type": "stream",
     "text": [
      "epoch: 1, [batch: 5376 / 6720], examples_per_second: 1972.8223, train_label_loss: 0.2622, \n"
     ]
    },
    {
     "name": "stdout",
     "output_type": "stream",
     "text": [
      "epoch: 1, [batch: 6048 / 6720], examples_per_second: 1866.7664, train_label_loss: 0.0500, \n"
     ]
    },
    {
     "name": "stdout",
     "output_type": "stream",
     "text": [
      "=============================================================\n",
      "epoch: 1, source_val_acc_label: 0.5788, target_val_acc_label: 0.6870, source_val_label_loss: 74.3560, target_val_label_loss: 5216.7617, \n",
      "=============================================================\n"
     ]
    },
    {
     "name": "stdout",
     "output_type": "stream",
     "text": [
      "New best\n"
     ]
    },
    {
     "name": "stdout",
     "output_type": "stream",
     "text": [
      "epoch: 2, [batch: 1 / 6720], examples_per_second: 2.7311, train_label_loss: 88.4238, \n"
     ]
    },
    {
     "name": "stdout",
     "output_type": "stream",
     "text": [
      "epoch: 2, [batch: 672 / 6720], examples_per_second: 1868.9400, train_label_loss: 0.7664, \n"
     ]
    },
    {
     "name": "stdout",
     "output_type": "stream",
     "text": [
      "epoch: 2, [batch: 1344 / 6720], examples_per_second: 1868.8720, train_label_loss: 0.4625, \n"
     ]
    },
    {
     "name": "stdout",
     "output_type": "stream",
     "text": [
      "epoch: 2, [batch: 2016 / 6720], examples_per_second: 1872.7894, train_label_loss: 0.6187, \n"
     ]
    },
    {
     "name": "stdout",
     "output_type": "stream",
     "text": [
      "epoch: 2, [batch: 2688 / 6720], examples_per_second: 1867.0103, train_label_loss: 0.4699, \n"
     ]
    },
    {
     "name": "stdout",
     "output_type": "stream",
     "text": [
      "epoch: 2, [batch: 3360 / 6720], examples_per_second: 1868.4491, train_label_loss: 0.3393, \n"
     ]
    },
    {
     "name": "stdout",
     "output_type": "stream",
     "text": [
      "epoch: 2, [batch: 4032 / 6720], examples_per_second: 1966.4499, train_label_loss: 0.2792, \n"
     ]
    },
    {
     "name": "stdout",
     "output_type": "stream",
     "text": [
      "epoch: 2, [batch: 4704 / 6720], examples_per_second: 2441.5243, train_label_loss: 0.4620, \n"
     ]
    },
    {
     "name": "stdout",
     "output_type": "stream",
     "text": [
      "epoch: 2, [batch: 5376 / 6720], examples_per_second: 1989.5515, train_label_loss: 0.6150, \n"
     ]
    },
    {
     "name": "stdout",
     "output_type": "stream",
     "text": [
      "epoch: 2, [batch: 6048 / 6720], examples_per_second: 1874.4633, train_label_loss: 0.3673, \n"
     ]
    },
    {
     "name": "stdout",
     "output_type": "stream",
     "text": [
      "=============================================================\n",
      "epoch: 2, source_val_acc_label: 0.8684, target_val_acc_label: 0.5945, source_val_label_loss: 0.3650, target_val_label_loss: 5690.1089, \n",
      "=============================================================\n"
     ]
    },
    {
     "name": "stdout",
     "output_type": "stream",
     "text": [
      "epoch: 3, [batch: 1 / 6720], examples_per_second: 2.7461, train_label_loss: 0.3288, \n"
     ]
    },
    {
     "name": "stdout",
     "output_type": "stream",
     "text": [
      "epoch: 3, [batch: 672 / 6720], examples_per_second: 1874.9677, train_label_loss: 0.2697, \n"
     ]
    },
    {
     "name": "stdout",
     "output_type": "stream",
     "text": [
      "epoch: 3, [batch: 1344 / 6720], examples_per_second: 1875.7046, train_label_loss: 0.2600, \n"
     ]
    },
    {
     "name": "stdout",
     "output_type": "stream",
     "text": [
      "epoch: 3, [batch: 2016 / 6720], examples_per_second: 1876.3903, train_label_loss: 0.2793, \n"
     ]
    },
    {
     "name": "stdout",
     "output_type": "stream",
     "text": [
      "epoch: 3, [batch: 2688 / 6720], examples_per_second: 1868.4140, train_label_loss: 0.1058, \n"
     ]
    },
    {
     "name": "stdout",
     "output_type": "stream",
     "text": [
      "epoch: 3, [batch: 3360 / 6720], examples_per_second: 1872.1544, train_label_loss: 0.3645, \n"
     ]
    },
    {
     "name": "stdout",
     "output_type": "stream",
     "text": [
      "epoch: 3, [batch: 4032 / 6720], examples_per_second: 1959.9231, train_label_loss: 0.3680, \n"
     ]
    },
    {
     "name": "stdout",
     "output_type": "stream",
     "text": [
      "epoch: 3, [batch: 4704 / 6720], examples_per_second: 2417.5755, train_label_loss: 0.2035, \n"
     ]
    },
    {
     "name": "stdout",
     "output_type": "stream",
     "text": [
      "epoch: 3, [batch: 5376 / 6720], examples_per_second: 2007.4394, train_label_loss: 0.3073, \n"
     ]
    },
    {
     "name": "stdout",
     "output_type": "stream",
     "text": [
      "epoch: 3, [batch: 6048 / 6720], examples_per_second: 1874.4147, train_label_loss: 0.2098, \n"
     ]
    },
    {
     "name": "stdout",
     "output_type": "stream",
     "text": [
      "=============================================================\n",
      "epoch: 3, source_val_acc_label: 0.8808, target_val_acc_label: 0.5253, source_val_label_loss: 0.3326, target_val_label_loss: 8390.1514, \n",
      "=============================================================\n"
     ]
    },
    {
     "name": "stdout",
     "output_type": "stream",
     "text": [
      "epoch: 4, [batch: 1 / 6720], examples_per_second: 2.7471, train_label_loss: 0.1598, \n"
     ]
    },
    {
     "name": "stdout",
     "output_type": "stream",
     "text": [
      "epoch: 4, [batch: 672 / 6720], examples_per_second: 1872.2076, train_label_loss: 0.2849, \n"
     ]
    },
    {
     "name": "stdout",
     "output_type": "stream",
     "text": [
      "epoch: 4, [batch: 1344 / 6720], examples_per_second: 1871.2149, train_label_loss: 0.3744, \n"
     ]
    },
    {
     "name": "stdout",
     "output_type": "stream",
     "text": [
      "epoch: 4, [batch: 2016 / 6720], examples_per_second: 1875.6200, train_label_loss: 0.3403, \n"
     ]
    },
    {
     "name": "stdout",
     "output_type": "stream",
     "text": [
      "epoch: 4, [batch: 2688 / 6720], examples_per_second: 1868.9841, train_label_loss: 0.4128, \n"
     ]
    },
    {
     "name": "stdout",
     "output_type": "stream",
     "text": [
      "epoch: 4, [batch: 3360 / 6720], examples_per_second: 1871.5913, train_label_loss: 0.2036, \n"
     ]
    },
    {
     "name": "stdout",
     "output_type": "stream",
     "text": [
      "epoch: 4, [batch: 4032 / 6720], examples_per_second: 1950.4541, train_label_loss: 0.4133, \n"
     ]
    },
    {
     "name": "stdout",
     "output_type": "stream",
     "text": [
      "epoch: 4, [batch: 4704 / 6720], examples_per_second: 2410.9554, train_label_loss: 0.2695, \n"
     ]
    },
    {
     "name": "stdout",
     "output_type": "stream",
     "text": [
      "epoch: 4, [batch: 5376 / 6720], examples_per_second: 2008.6881, train_label_loss: 0.1735, \n"
     ]
    },
    {
     "name": "stdout",
     "output_type": "stream",
     "text": [
      "epoch: 4, [batch: 6048 / 6720], examples_per_second: 1870.7942, train_label_loss: 0.1595, \n"
     ]
    },
    {
     "name": "stdout",
     "output_type": "stream",
     "text": [
      "=============================================================\n",
      "epoch: 4, source_val_acc_label: 0.8850, target_val_acc_label: 0.5387, source_val_label_loss: 0.3130, target_val_label_loss: 8988.7070, \n",
      "=============================================================\n"
     ]
    },
    {
     "name": "stdout",
     "output_type": "stream",
     "text": [
      "epoch: 5, [batch: 1 / 6720], examples_per_second: 2.7523, train_label_loss: 0.2289, \n"
     ]
    },
    {
     "name": "stdout",
     "output_type": "stream",
     "text": [
      "epoch: 5, [batch: 672 / 6720], examples_per_second: 1871.2988, train_label_loss: 0.1824, \n"
     ]
    },
    {
     "name": "stdout",
     "output_type": "stream",
     "text": [
      "epoch: 5, [batch: 1344 / 6720], examples_per_second: 1873.6140, train_label_loss: 0.7109, \n"
     ]
    },
    {
     "name": "stdout",
     "output_type": "stream",
     "text": [
      "epoch: 5, [batch: 2016 / 6720], examples_per_second: 1875.1484, train_label_loss: 0.4558, \n"
     ]
    },
    {
     "name": "stdout",
     "output_type": "stream",
     "text": [
      "epoch: 5, [batch: 2688 / 6720], examples_per_second: 1870.7065, train_label_loss: 0.1452, \n"
     ]
    },
    {
     "name": "stdout",
     "output_type": "stream",
     "text": [
      "epoch: 5, [batch: 3360 / 6720], examples_per_second: 1871.5065, train_label_loss: 0.2005, \n"
     ]
    },
    {
     "name": "stdout",
     "output_type": "stream",
     "text": [
      "epoch: 5, [batch: 4032 / 6720], examples_per_second: 1957.5352, train_label_loss: 0.1293, \n"
     ]
    },
    {
     "name": "stdout",
     "output_type": "stream",
     "text": [
      "epoch: 5, [batch: 4704 / 6720], examples_per_second: 2390.5583, train_label_loss: 0.2146, \n"
     ]
    },
    {
     "name": "stdout",
     "output_type": "stream",
     "text": [
      "epoch: 5, [batch: 5376 / 6720], examples_per_second: 2057.3434, train_label_loss: 0.2596, \n"
     ]
    },
    {
     "name": "stdout",
     "output_type": "stream",
     "text": [
      "epoch: 5, [batch: 6048 / 6720], examples_per_second: 1872.2872, train_label_loss: 0.3670, \n"
     ]
    },
    {
     "name": "stdout",
     "output_type": "stream",
     "text": [
      "=============================================================\n",
      "epoch: 5, source_val_acc_label: 0.9016, target_val_acc_label: 0.5328, source_val_label_loss: 0.2721, target_val_label_loss: 10083.4209, \n",
      "=============================================================\n"
     ]
    },
    {
     "name": "stdout",
     "output_type": "stream",
     "text": [
      "Patience (3) exhausted\n"
     ]
    }
   ],
   "source": [
    "###################################\n",
    "# train\n",
    "###################################\n",
    "jig = PTN_Train_Eval_Test_Jig(model, p.BEST_MODEL_PATH, p.device)\n",
    "\n",
    "jig.train(\n",
    "    train_iterable=datasets.source.processed.train,\n",
    "    source_val_iterable=datasets.source.processed.val,\n",
    "    target_val_iterable=datasets.target.processed.val,\n",
    "    num_epochs=p.n_epoch,\n",
    "    num_logs_per_epoch=p.NUM_LOGS_PER_EPOCH,\n",
    "    patience=p.patience,\n",
    "    optimizer=optimizer,\n",
    "    criteria_for_best=p.criteria_for_best,\n",
    ")"
   ]
  },
  {
   "cell_type": "code",
   "execution_count": 23,
   "id": "31e8fabf",
   "metadata": {
    "execution": {
     "iopub.execute_input": "2022-03-25T22:43:29.904962Z",
     "iopub.status.busy": "2022-03-25T22:43:29.902570Z",
     "iopub.status.idle": "2022-03-25T22:43:29.920408Z",
     "shell.execute_reply": "2022-03-25T22:43:29.920818Z"
    },
    "papermill": {
     "duration": 0.046114,
     "end_time": "2022-03-25T22:43:29.920953",
     "exception": false,
     "start_time": "2022-03-25T22:43:29.874839",
     "status": "completed"
    },
    "tags": []
   },
   "outputs": [],
   "source": [
    "total_experiment_time_secs = time.time() - start_time_secs"
   ]
  },
  {
   "cell_type": "code",
   "execution_count": 24,
   "id": "87b9595b",
   "metadata": {
    "execution": {
     "iopub.execute_input": "2022-03-25T22:43:29.982115Z",
     "iopub.status.busy": "2022-03-25T22:43:29.981822Z",
     "iopub.status.idle": "2022-03-25T22:45:58.305272Z",
     "shell.execute_reply": "2022-03-25T22:45:58.305514Z"
    },
    "papermill": {
     "duration": 148.35473,
     "end_time": "2022-03-25T22:45:58.305599",
     "exception": false,
     "start_time": "2022-03-25T22:43:29.950869",
     "status": "completed"
    },
    "tags": []
   },
   "outputs": [],
   "source": [
    "###################################\n",
    "# Evaluate the model\n",
    "###################################\n",
    "source_test_label_accuracy, source_test_label_loss = jig.test(datasets.source.processed.test)\n",
    "target_test_label_accuracy, target_test_label_loss = jig.test(datasets.target.processed.test)\n",
    "\n",
    "source_val_label_accuracy, source_val_label_loss = jig.test(datasets.source.processed.val)\n",
    "target_val_label_accuracy, target_val_label_loss = jig.test(datasets.target.processed.val)\n",
    "\n",
    "history = jig.get_history()\n",
    "\n",
    "total_epochs_trained = len(history[\"epoch_indices\"])\n",
    "\n",
    "val_dl = Iterable_Aggregator((datasets.source.original.val,datasets.target.original.val))\n",
    "\n",
    "confusion = ptn_confusion_by_domain_over_dataloader(model, p.device, val_dl)\n",
    "per_domain_accuracy = per_domain_accuracy_from_confusion(confusion)\n",
    "\n",
    "# Add a key to per_domain_accuracy for if it was a source domain\n",
    "for domain, accuracy in per_domain_accuracy.items():\n",
    "    per_domain_accuracy[domain] = {\n",
    "        \"accuracy\": accuracy,\n",
    "        \"source?\": domain in p.domains_source\n",
    "    }\n",
    "\n",
    "# Do an independent accuracy assesment JUST TO BE SURE!\n",
    "# _source_test_label_accuracy = independent_accuracy_assesment(model, datasets.source.processed.test, p.device)\n",
    "# _target_test_label_accuracy = independent_accuracy_assesment(model, datasets.target.processed.test, p.device)\n",
    "# _source_val_label_accuracy = independent_accuracy_assesment(model, datasets.source.processed.val, p.device)\n",
    "# _target_val_label_accuracy = independent_accuracy_assesment(model, datasets.target.processed.val, p.device)\n",
    "\n",
    "# assert(_source_test_label_accuracy == source_test_label_accuracy)\n",
    "# assert(_target_test_label_accuracy == target_test_label_accuracy)\n",
    "# assert(_source_val_label_accuracy == source_val_label_accuracy)\n",
    "# assert(_target_val_label_accuracy == target_val_label_accuracy)\n",
    "\n",
    "experiment = {\n",
    "    \"experiment_name\": p.experiment_name,\n",
    "    \"parameters\": dict(p),\n",
    "    \"results\": {\n",
    "        \"source_test_label_accuracy\": source_test_label_accuracy,\n",
    "        \"source_test_label_loss\": source_test_label_loss,\n",
    "        \"target_test_label_accuracy\": target_test_label_accuracy,\n",
    "        \"target_test_label_loss\": target_test_label_loss,\n",
    "        \"source_val_label_accuracy\": source_val_label_accuracy,\n",
    "        \"source_val_label_loss\": source_val_label_loss,\n",
    "        \"target_val_label_accuracy\": target_val_label_accuracy,\n",
    "        \"target_val_label_loss\": target_val_label_loss,\n",
    "        \"total_epochs_trained\": total_epochs_trained,\n",
    "        \"total_experiment_time_secs\": total_experiment_time_secs,\n",
    "        \"confusion\": confusion,\n",
    "        \"per_domain_accuracy\": per_domain_accuracy,\n",
    "    },\n",
    "    \"history\": history,\n",
    "    \"dataset_metrics\": get_dataset_metrics(datasets, \"ptn\"),\n",
    "}"
   ]
  },
  {
   "cell_type": "code",
   "execution_count": 25,
   "id": "54a21829",
   "metadata": {
    "execution": {
     "iopub.execute_input": "2022-03-25T22:45:58.359583Z",
     "iopub.status.busy": "2022-03-25T22:45:58.359314Z",
     "iopub.status.idle": "2022-03-25T22:45:58.478994Z",
     "shell.execute_reply": "2022-03-25T22:45:58.479438Z"
    },
    "papermill": {
     "duration": 0.148391,
     "end_time": "2022-03-25T22:45:58.479578",
     "exception": false,
     "start_time": "2022-03-25T22:45:58.331187",
     "status": "completed"
    },
    "tags": []
   },
   "outputs": [
    {
     "data": {
      "image/png": "[encoded data removed]",
      "text/plain": [
       "<Figure size 1080x504 with 1 Axes>"
      ]
     },
     "metadata": {
      "needs_background": "light"
     },
     "output_type": "display_data"
    }
   ],
   "source": [
    "ax = get_loss_curve(experiment)\n",
    "plt.show()"
   ]
  },
  {
   "cell_type": "code",
   "execution_count": 26,
   "id": "fd8a0f60",
   "metadata": {
    "execution": {
     "iopub.execute_input": "2022-03-25T22:45:58.538708Z",
     "iopub.status.busy": "2022-03-25T22:45:58.538441Z",
     "iopub.status.idle": "2022-03-25T22:45:58.688765Z",
     "shell.execute_reply": "2022-03-25T22:45:58.689054Z"
    },
    "papermill": {
     "duration": 0.17947,
     "end_time": "2022-03-25T22:45:58.689151",
     "exception": false,
     "start_time": "2022-03-25T22:45:58.509681",
     "status": "completed"
    },
    "tags": []
   },
   "outputs": [
    {
     "data": {
      "text/plain": [
       "<AxesSubplot:title={'center':'Results'}>"
      ]
     },
     "execution_count": 26,
     "metadata": {},
     "output_type": "execute_result"
    },
    {
     "data": {
      "image/png": "[encoded data removed]",
      "text/plain": [
       "<Figure size 1080x504 with 1 Axes>"
      ]
     },
     "metadata": {
      "needs_background": "light"
     },
     "output_type": "display_data"
    }
   ],
   "source": [
    "get_results_table(experiment)"
   ]
  },
  {
   "cell_type": "code",
   "execution_count": 27,
   "id": "cf8dc689",
   "metadata": {
    "execution": {
     "iopub.execute_input": "2022-03-25T22:45:58.756684Z",
     "iopub.status.busy": "2022-03-25T22:45:58.755795Z",
     "iopub.status.idle": "2022-03-25T22:45:58.897614Z",
     "shell.execute_reply": "2022-03-25T22:45:58.897149Z"
    },
    "papermill": {
     "duration": 0.172155,
     "end_time": "2022-03-25T22:45:58.897714",
     "exception": false,
     "start_time": "2022-03-25T22:45:58.725559",
     "status": "completed"
    },
    "tags": []
   },
   "outputs": [
    {
     "data": {
      "text/plain": [
       "<AxesSubplot:title={'center':'Per Domain Validation Accuracy'}, xlabel='domain'>"
      ]
     },
     "execution_count": 27,
     "metadata": {},
     "output_type": "execute_result"
    },
    {
     "data": {
      "image/png": "[encoded data removed]",
      "text/plain": [
       "<Figure size 1080x504 with 1 Axes>"
      ]
     },
     "metadata": {
      "needs_background": "light"
     },
     "output_type": "display_data"
    }
   ],
   "source": [
    "get_domain_accuracies(experiment)"
   ]
  },
  {
   "cell_type": "code",
   "execution_count": 28,
   "id": "a74ae082",
   "metadata": {
    "execution": {
     "iopub.execute_input": "2022-03-25T22:45:58.958866Z",
     "iopub.status.busy": "2022-03-25T22:45:58.958595Z",
     "iopub.status.idle": "2022-03-25T22:45:58.972303Z",
     "shell.execute_reply": "2022-03-25T22:45:58.971856Z"
    },
    "papermill": {
     "duration": 0.044174,
     "end_time": "2022-03-25T22:45:58.972395",
     "exception": false,
     "start_time": "2022-03-25T22:45:58.928221",
     "status": "completed"
    },
    "tags": []
   },
   "outputs": [
    {
     "name": "stdout",
     "output_type": "stream",
     "text": [
      "Source Test Label Accuracy: 0.58076171875 Target Test Label Accuracy: 0.6889029180695847\n",
      "Source Val Label Accuracy: 0.5787760416666666 Target Val Label Accuracy: 0.6870362442922374\n"
     ]
    }
   ],
   "source": [
    "print(\"Source Test Label Accuracy:\", experiment[\"results\"][\"source_test_label_accuracy\"], \"Target Test Label Accuracy:\", experiment[\"results\"][\"target_test_label_accuracy\"])\n",
    "print(\"Source Val Label Accuracy:\", experiment[\"results\"][\"source_val_label_accuracy\"], \"Target Val Label Accuracy:\", experiment[\"results\"][\"target_val_label_accuracy\"])"
   ]
  },
  {
   "cell_type": "code",
   "execution_count": 29,
   "id": "dacca602",
   "metadata": {
    "execution": {
     "iopub.execute_input": "2022-03-25T22:45:59.039385Z",
     "iopub.status.busy": "2022-03-25T22:45:59.036195Z",
     "iopub.status.idle": "2022-03-25T22:45:59.053853Z",
     "shell.execute_reply": "2022-03-25T22:45:59.054336Z"
    },
    "papermill": {
     "duration": 0.049304,
     "end_time": "2022-03-25T22:45:59.054468",
     "exception": false,
     "start_time": "2022-03-25T22:45:59.005164",
     "status": "completed"
    },
    "tags": [
     "experiment_json"
    ]
   },
   "outputs": [
    {
     "data": {
      "text/plain": [
       "'{\"experiment_name\": \"tl_3-filterv2:oracle.run1.framed -> cores\", \"parameters\": {\"experiment_name\": \"tl_3-filterv2:oracle.run1.framed -> cores\", \"device\": \"cuda\", \"lr\": 0.0001, \"x_shape\": [2, 200], \"n_shot\": 3, \"n_query\": 2, \"train_k_factor\": 3, \"val_k_factor\": 2, \"test_k_factor\": 2, \"torch_default_dtype\": \"torch.float32\", \"n_epoch\": 50, \"patience\": 3, \"criteria_for_best\": \"target_accuracy\", \"x_net\": [{\"class\": \"nnReshape\", \"kargs\": {\"shape\": [-1, 1, 2, 200]}}, {\"class\": \"Conv2d\", \"kargs\": {\"in_channels\": 1, \"out_channels\": 256, \"kernel_size\": [1, 7], \"bias\": false, \"padding\": [0, 3]}}, {\"class\": \"ReLU\", \"kargs\": {\"inplace\": true}}, {\"class\": \"BatchNorm2d\", \"kargs\": {\"num_features\": 256}}, {\"class\": \"Conv2d\", \"kargs\": {\"in_channels\": 256, \"out_channels\": 80, \"kernel_size\": [2, 7], \"bias\": true, \"padding\": [0, 3]}}, {\"class\": \"ReLU\", \"kargs\": {\"inplace\": true}}, {\"class\": \"BatchNorm2d\", \"kargs\": {\"num_features\": 80}}, {\"class\": \"Flatten\", \"kargs\": {}}, {\"class\": \"Linear\", \"kargs\": {\"in_features\": 16000, \"out_features\": 256}}, {\"class\": \"ReLU\", \"kargs\": {\"inplace\": true}}, {\"class\": \"BatchNorm1d\", \"kargs\": {\"num_features\": 256}}, {\"class\": \"Linear\", \"kargs\": {\"in_features\": 256, \"out_features\": 256}}], \"NUM_LOGS_PER_EPOCH\": 10, \"BEST_MODEL_PATH\": \"./best_model.pth\", \"n_way\": 16, \"datasets\": [{\"labels\": [\"1-10.\", \"1-11.\", \"1-15.\", \"1-16.\", \"1-17.\", \"1-18.\", \"1-19.\", \"10-4.\", \"10-7.\", \"11-1.\", \"11-14.\", \"11-17.\", \"11-20.\", \"11-7.\", \"13-20.\", \"13-8.\", \"14-10.\", \"14-11.\", \"14-14.\", \"14-7.\", \"15-1.\", \"15-20.\", \"16-1.\", \"16-16.\", \"17-10.\", \"17-11.\", \"17-2.\", \"19-1.\", \"19-16.\", \"19-19.\", \"19-20.\", \"19-3.\", \"2-10.\", \"2-11.\", \"2-17.\", \"2-18.\", \"2-20.\", \"2-3.\", \"2-4.\", \"2-5.\", \"2-6.\", \"2-7.\", \"2-8.\", \"3-13.\", \"3-18.\", \"3-3.\", \"4-1.\", \"4-10.\", \"4-11.\", \"4-19.\", \"5-5.\", \"6-15.\", \"7-10.\", \"7-14.\", \"8-18.\", \"8-20.\", \"8-3.\", \"8-8.\"], \"domains\": [1, 2, 3, 4, 5], \"num_examples_per_domain_per_label\": -1, \"pickle_path\": \"/mnt/wd500GB/CSC500/csc500-main/datasets/cores.stratified_ds.2022A.pkl\", \"source_or_target_dataset\": \"target\", \"x_transforms\": [\"lowpass_+/-10MHz\", \"take_200\"], \"episode_transforms\": [], \"domain_prefix\": \"C_\"}, {\"labels\": [\"3123D52\", \"3123D65\", \"3123D79\", \"3123D80\", \"3123D54\", \"3123D70\", \"3123D7B\", \"3123D89\", \"3123D58\", \"3123D76\", \"3123D7D\", \"3123EFE\", \"3123D64\", \"3123D78\", \"3123D7E\", \"3124E4A\"], \"domains\": [32, 38, 8, 44, 14, 50, 20, 26], \"num_examples_per_domain_per_label\": 2000, \"pickle_path\": \"/mnt/wd500GB/CSC500/csc500-main/datasets/oracle.Run1_framed_2000Examples_stratified_ds.2022A.pkl\", \"source_or_target_dataset\": \"source\", \"x_transforms\": [\"take_200\", \"resample_20Msps_to_25Msps\"], \"episode_transforms\": [], \"domain_prefix\": \"O_\"}], \"seed\": 1337, \"dataset_seed\": 1337, \"domains_source\": [\"O_32\", \"O_38\", \"O_8\", \"O_44\", \"O_14\", \"O_50\", \"O_20\", \"O_26\"], \"domains_target\": [\"C_1\", \"C_2\", \"C_3\", \"C_4\", \"C_5\"]}, \"results\": {\"source_test_label_accuracy\": 0.58076171875, \"source_test_label_loss\": 74.66057586669922, \"target_test_label_accuracy\": 0.6889029180695847, \"target_test_label_loss\": 5166.8134765625, \"source_val_label_accuracy\": 0.5787760416666666, \"source_val_label_loss\": 74.3559799194336, \"target_val_label_accuracy\": 0.6870362442922374, \"target_val_label_loss\": 5216.76171875, \"total_epochs_trained\": 5, \"total_experiment_time_secs\": 1473.9844028949738, \"confusion\": {\"O_14\": {\"15\": {\"15\": 240}, \"3\": {\"7\": 64, \"6\": 39, \"13\": 21, \"3\": 66, \"14\": 8, \"0\": 36, \"2\": 6}, \"6\": {\"6\": 67, \"3\": 36, \"7\": 32, \"13\": 48, \"14\": 31, \"0\": 18, \"2\": 8}, \"1\": {\"1\": 240}, \"8\": {\"8\": 238, \"0\": 2}, \"10\": {\"10\": 240}, \"9\": {\"9\": 240}, \"13\": {\"5\": 33, \"14\": 36, \"2\": 39, \"7\": 21, \"15\": 20, \"6\": 31, \"13\": 44, \"3\": 10, \"0\": 5, \"4\": 1}, \"12\": {\"12\": 240}, \"5\": {\"5\": 210, \"2\": 14, \"14\": 8, \"4\": 6, \"13\": 2}, \"0\": {\"0\": 95, \"14\": 37, \"7\": 21, \"5\": 12, \"10\": 11, \"2\": 9, \"13\": 11, \"3\": 22, \"8\": 13, \"6\": 9}, \"2\": {\"4\": 28, \"5\": 79, \"14\": 27, \"7\": 22, \"6\": 10, \"2\": 53, \"13\": 9, \"3\": 9, \"0\": 3}, \"11\": {\"11\": 188, \"8\": 39, \"4\": 5, \"10\": 4, \"9\": 2, \"5\": 2}, \"14\": {\"2\": 32, \"14\": 141, \"7\": 37, \"5\": 8, \"13\": 17, \"0\": 2, \"3\": 3}, \"7\": {\"7\": 181, \"2\": 18, \"5\": 10, \"14\": 20, \"13\": 3, \"3\": 5, \"6\": 1, \"0\": 2}, \"4\": {\"4\": 236, \"5\": 4}}, \"O_20\": {\"3\": {\"1\": 3, \"3\": 167, \"5\": 28, \"8\": 17, \"9\": 24, \"0\": 1}, \"15\": {\"15\": 211, \"1\": 4, \"12\": 25}, \"8\": {\"8\": 224, \"14\": 11, \"3\": 5}, \"4\": {\"4\": 237, \"12\": 3}, \"14\": {\"14\": 234, \"8\": 6}, \"0\": {\"0\": 232, \"5\": 5, \"3\": 3}, \"7\": {\"7\": 219, \"2\": 12, \"9\": 7, \"6\": 1, \"4\": 1}, \"6\": {\"6\": 238, \"7\": 2}, \"10\": {\"10\": 240}, \"5\": {\"5\": 177, \"1\": 28, \"3\": 33, \"9\": 2}, \"2\": {\"2\": 203, \"15\": 3, \"12\": 25, \"4\": 2, \"13\": 2, \"7\": 5}, \"12\": {\"12\": 215, \"15\": 13, \"2\": 9, \"4\": 3}, \"9\": {\"9\": 224, \"1\": 5, \"7\": 6, \"3\": 5}, \"1\": {\"1\": 217, \"5\": 20, \"9\": 3}, \"11\": {\"11\": 240}, \"13\": {\"13\": 237, \"2\": 3}}, \"O_38\": {\"5\": {\"8\": 61, \"12\": 52, \"2\": 14, \"5\": 58, \"9\": 26, \"15\": 15, \"14\": 7, \"7\": 7}, \"8\": {\"7\": 11, \"8\": 57, \"12\": 65, \"5\": 40, \"9\": 23, \"14\": 7, \"2\": 23, \"15\": 14}, \"11\": {\"11\": 216, \"3\": 24}, \"1\": {\"1\": 148, \"6\": 92}, \"10\": {\"0\": 55, \"10\": 154, \"4\": 18, \"13\": 12, \"3\": 1}, \"15\": {\"15\": 161, \"12\": 42, \"6\": 22, \"8\": 5, \"1\": 5, \"5\": 5}, \"3\": {\"3\": 227, \"11\": 13}, \"7\": {\"7\": 131, \"9\": 31, \"14\": 34, \"5\": 2, \"8\": 2, \"13\": 17, \"2\": 17, \"0\": 5, \"4\": 1}, \"4\": {\"4\": 122, \"13\": 77, \"10\": 9, \"0\": 31, \"7\": 1}, \"14\": {\"5\": 2, \"14\": 98, \"2\": 74, \"9\": 7, \"7\": 47, \"13\": 5, \"8\": 5, \"0\": 2}, \"9\": {\"8\": 29, \"14\": 18, \"5\": 29, \"9\": 103, \"2\": 20, \"7\": 40, \"0\": 1}, \"12\": {\"12\": 174, \"5\": 35, \"8\": 22, \"15\": 9}, \"6\": {\"1\": 114, \"6\": 125, \"15\": 1}, \"2\": {\"14\": 61, \"2\": 106, \"9\": 23, \"7\": 17, \"8\": 20, \"5\": 13}, \"0\": {\"4\": 51, \"7\": 24, \"14\": 2, \"0\": 44, \"10\": 68, \"13\": 42, \"3\": 8, \"9\": 1}, \"13\": {\"4\": 70, \"13\": 107, \"7\": 21, \"0\": 31, \"10\": 6, \"14\": 5}}, \"O_8\": {\"9\": {\"9\": 240}, \"10\": {\"5\": 35, \"10\": 99, \"1\": 46, \"13\": 46, \"11\": 9, \"6\": 5}, \"13\": {\"13\": 160, \"10\": 51, \"7\": 21, \"5\": 6, \"6\": 1, \"1\": 1}, \"0\": {\"0\": 217, \"14\": 23}, \"1\": {\"11\": 54, \"1\": 137, \"5\": 27, \"10\": 13, \"13\": 9}, \"15\": {\"15\": 227, \"12\": 13}, \"5\": {\"5\": 145, \"13\": 16, \"1\": 27, \"10\": 41, \"11\": 10, \"9\": 1}, \"3\": {\"3\": 239, \"2\": 1}, \"6\": {\"6\": 220, \"7\": 20}, \"11\": {\"5\": 9, \"11\": 106, \"1\": 91, \"10\": 8, \"4\": 26}, \"8\": {\"8\": 123, \"14\": 32, \"6\": 56, \"4\": 29}, \"4\": {\"14\": 11, \"4\": 213, \"6\": 3, \"8\": 10, \"11\": 3}, \"12\": {\"12\": 197, \"15\": 43}, \"14\": {\"14\": 143, \"4\": 74, \"8\": 22, \"0\": 1}, \"2\": {\"3\": 46, \"15\": 5, \"2\": 181, \"12\": 8}, \"7\": {\"7\": 215, \"6\": 24, \"13\": 1}}, \"O_50\": {\"7\": {\"5\": 13, \"7\": 139, \"4\": 85, \"9\": 3}, \"3\": {\"3\": 173, \"11\": 26, \"6\": 20, \"13\": 14, \"5\": 5, \"15\": 2}, \"8\": {\"8\": 189, \"1\": 22, \"10\": 29}, \"2\": {\"2\": 105, \"14\": 84, \"0\": 51}, \"14\": {\"0\": 70, \"2\": 84, \"14\": 78, \"10\": 8}, \"4\": {\"4\": 124, \"7\": 101, \"5\": 10, \"9\": 5}, \"6\": {\"12\": 27, \"6\": 72, \"9\": 14, \"5\": 36, \"11\": 28, \"3\": 5, \"15\": 58}, \"15\": {\"15\": 53, \"5\": 38, \"9\": 51, \"12\": 38, \"6\": 46, \"4\": 1, \"11\": 13}, \"10\": {\"8\": 28, \"0\": 34, \"10\": 172, \"14\": 6}, \"11\": {\"11\": 145, \"3\": 28, \"15\": 11, \"12\": 34, \"6\": 17, \"9\": 2, \"5\": 3}, \"13\": {\"3\": 10, \"13\": 183, \"1\": 43, \"11\": 4}, \"9\": {\"15\": 45, \"9\": 103, \"11\": 4, \"12\": 33, \"5\": 30, \"6\": 13, \"7\": 9, \"4\": 3}, \"0\": {\"0\": 123, \"10\": 37, \"14\": 56, \"2\": 24}, \"1\": {\"8\": 43, \"1\": 117, \"13\": 62, \"10\": 15, \"0\": 1, \"3\": 2}, \"12\": {\"6\": 30, \"12\": 65, \"5\": 10, \"9\": 44, \"3\": 2, \"11\": 44, \"15\": 45}, \"5\": {\"5\": 60, \"9\": 27, \"4\": 19, \"15\": 21, \"3\": 9, \"6\": 27, \"13\": 8, \"11\": 21, \"7\": 43, \"12\": 4, \"1\": 1}}, \"O_32\": {\"8\": {\"2\": 19, \"8\": 71, \"0\": 53, \"15\": 4, \"14\": 39, \"7\": 37, \"5\": 13, \"4\": 4}, \"14\": {\"5\": 16, \"14\": 59, \"7\": 37, \"0\": 41, \"2\": 22, \"8\": 49, \"3\": 1, \"15\": 11, \"4\": 4}, \"2\": {\"13\": 12, \"2\": 114, \"4\": 71, \"3\": 21, \"1\": 17, \"14\": 1, \"0\": 1, \"8\": 3}, \"0\": {\"5\": 22, \"14\": 45, \"0\": 68, \"8\": 56, \"7\": 39, \"15\": 8, \"2\": 1, \"4\": 1}, \"1\": {\"13\": 35, \"1\": 157, \"4\": 24, \"2\": 21, \"9\": 2, \"3\": 1}, \"10\": {\"10\": 213, \"12\": 18, \"6\": 9}, \"11\": {\"11\": 106, \"9\": 106, \"13\": 23, \"12\": 4, \"1\": 1}, \"5\": {\"5\": 52, \"15\": 85, \"8\": 24, \"14\": 11, \"7\": 40, \"0\": 27, \"2\": 1}, \"15\": {\"5\": 63, \"0\": 15, \"15\": 116, \"8\": 4, \"7\": 38, \"14\": 4}, \"3\": {\"13\": 61, \"3\": 78, \"4\": 53, \"2\": 36, \"1\": 9, \"8\": 2, \"9\": 1}, \"12\": {\"12\": 207, \"10\": 16, \"9\": 16, \"11\": 1}, \"7\": {\"0\": 45, \"5\": 54, \"14\": 22, \"8\": 27, \"7\": 67, \"15\": 25}, \"13\": {\"1\": 16, \"13\": 104, \"4\": 28, \"9\": 15, \"3\": 42, \"2\": 13, \"11\": 22}, \"6\": {\"6\": 226, \"10\": 14}, \"4\": {\"13\": 27, \"2\": 67, \"4\": 68, \"3\": 51, \"1\": 26, \"14\": 1}, \"9\": {\"12\": 41, \"11\": 90, \"9\": 74, \"13\": 26, \"1\": 9}}, \"O_26\": {\"4\": {\"4\": 240}, \"12\": {\"13\": 43, \"7\": 31, \"3\": 56, \"9\": 29, \"12\": 68, \"8\": 11, \"2\": 2}, \"10\": {\"10\": 59, \"11\": 3, \"0\": 65, \"14\": 56, \"15\": 28, \"6\": 14, \"2\": 4, \"1\": 5, \"5\": 6}, \"0\": {\"0\": 96, \"10\": 41, \"2\": 48, \"5\": 1, \"14\": 26, \"15\": 10, \"7\": 2, \"8\": 9, \"11\": 1, \"6\": 4, \"9\": 2}, \"13\": {\"0\": 5, \"4\": 54, \"9\": 12, \"12\": 42, \"13\": 71, \"2\": 5, \"3\": 37, \"7\": 6, \"8\": 8}, \"9\": {\"9\": 30, \"12\": 23, \"3\": 36, \"13\": 14, \"8\": 39, \"7\": 43, \"2\": 39, \"0\": 13, \"4\": 3}, \"3\": {\"12\": 57, \"13\": 40, \"3\": 59, \"7\": 27, \"8\": 18, \"9\": 30, \"4\": 5, \"2\": 4}, \"2\": {\"2\": 77, \"0\": 54, \"12\": 8, \"8\": 34, \"7\": 33, \"9\": 18, \"10\": 7, \"15\": 1, \"3\": 3, \"14\": 4, \"13\": 1}, \"5\": {\"1\": 46, \"11\": 51, \"6\": 36, \"5\": 54, \"15\": 38, \"14\": 10, \"10\": 5}, \"14\": {\"1\": 6, \"0\": 51, \"14\": 55, \"15\": 30, \"10\": 56, \"5\": 5, \"6\": 32, \"11\": 3, \"7\": 1, \"2\": 1}, \"8\": {\"7\": 55, \"8\": 58, \"3\": 18, \"2\": 46, \"9\": 25, \"0\": 12, \"13\": 6, \"12\": 20}, \"7\": {\"3\": 36, \"8\": 48, \"2\": 29, \"7\": 52, \"12\": 35, \"9\": 34, \"13\": 6}, \"6\": {\"15\": 41, \"10\": 20, \"11\": 18, \"6\": 49, \"5\": 41, \"14\": 39, \"1\": 30, \"0\": 2}, \"11\": {\"11\": 103, \"1\": 49, \"5\": 35, \"15\": 21, \"14\": 6, \"6\": 19, \"10\": 7}, \"15\": {\"10\": 29, \"6\": 26, \"5\": 40, \"14\": 43, \"1\": 26, \"15\": 36, \"11\": 21, \"0\": 19}, \"1\": {\"11\": 64, \"14\": 19, \"5\": 49, \"15\": 23, \"1\": 47, \"6\": 29, \"10\": 7, \"0\": 2}}, \"O_44\": {\"12\": {\"12\": 124, \"3\": 109, \"0\": 7}, \"7\": {\"9\": 36, \"7\": 102, \"10\": 75, \"4\": 21, \"14\": 6}, \"5\": {\"5\": 64, \"9\": 2, \"15\": 42, \"14\": 72, \"4\": 34, \"8\": 14, \"1\": 6, \"2\": 5, \"7\": 1}, \"15\": {\"5\": 52, \"2\": 13, \"15\": 82, \"8\": 48, \"4\": 15, \"1\": 13, \"14\": 14, \"7\": 1, \"0\": 2}, \"8\": {\"0\": 55, \"8\": 126, \"5\": 7, \"15\": 40, \"1\": 9, \"2\": 1, \"12\": 1, \"3\": 1}, \"2\": {\"1\": 62, \"14\": 22, \"2\": 108, \"15\": 20, \"5\": 10, \"4\": 11, \"9\": 1, \"8\": 4, \"7\": 1, \"10\": 1}, \"13\": {\"13\": 139, \"6\": 83, \"9\": 16, \"11\": 2}, \"4\": {\"4\": 45, \"14\": 16, \"7\": 55, \"15\": 30, \"9\": 36, \"8\": 7, \"5\": 21, \"6\": 1, \"10\": 13, \"1\": 9, \"2\": 7}, \"0\": {\"0\": 201, \"8\": 29, \"3\": 10}, \"6\": {\"6\": 133, \"13\": 72, \"9\": 28, \"10\": 3, \"7\": 3, \"4\": 1}, \"9\": {\"4\": 23, \"14\": 15, \"10\": 32, \"13\": 33, \"9\": 41, \"7\": 60, \"6\": 24, \"5\": 6, \"2\": 6}, \"11\": {\"11\": 240}, \"10\": {\"7\": 74, \"9\": 46, \"10\": 79, \"6\": 20, \"4\": 5, \"2\": 4, \"14\": 5, \"1\": 6, \"8\": 1}, \"14\": {\"14\": 85, \"4\": 58, \"5\": 51, \"15\": 24, \"1\": 3, \"9\": 6, \"10\": 3, \"2\": 8, \"7\": 2}, \"1\": {\"1\": 125, \"15\": 20, \"2\": 75, \"8\": 13, \"4\": 3, \"14\": 2, \"5\": 2}, \"3\": {\"3\": 124, \"0\": 20, \"12\": 96}}, \"C_3\": {\"43\": {\"43\": 105, \"17\": 14, \"49\": 2, \"24\": 1, \"51\": 3, \"54\": 2, \"20\": 1}, \"9\": {\"8\": 10, \"9\": 78, \"27\": 11, \"48\": 1, \"29\": 8, \"36\": 5, \"4\": 10, \"47\": 2, \"57\": 16, \"0\": 1, \"1\": 1, \"3\": 1, \"30\": 1, \"44\": 1, \"46\": 1, \"5\": 1, \"20\": 1, \"50\": 1}, \"6\": {\"6\": 72, \"3\": 4, \"46\": 4, \"12\": 3, \"45\": 4, \"50\": 1}, \"3\": {\"6\": 6, \"44\": 7, \"3\": 62, \"45\": 11, \"50\": 17, \"22\": 7, \"21\": 6, \"12\": 6, \"5\": 13, \"46\": 4, \"40\": 1, \"52\": 3, \"1\": 1}, \"16\": {\"16\": 108, \"15\": 6, \"11\": 9, \"25\": 2, \"10\": 2, \"53\": 4, \"28\": 1, \"23\": 2}, \"51\": {\"51\": 114, \"33\": 2, \"8\": 2, \"0\": 1, \"54\": 4, \"57\": 2, \"38\": 2, \"13\": 1}, \"31\": {\"31\": 26, \"35\": 1, \"43\": 1}, \"46\": {\"46\": 80, \"3\": 9, \"45\": 3, \"21\": 7, \"12\": 6, \"6\": 4, \"50\": 15, \"30\": 2, \"5\": 6, \"0\": 1, \"44\": 1}, \"19\": {\"19\": 92, \"10\": 2, \"15\": 5, \"23\": 8, \"55\": 4, \"11\": 4, \"57\": 3, \"43\": 1, \"17\": 2, \"53\": 1, \"32\": 1, \"29\": 1}, \"8\": {\"8\": 137, \"27\": 3, \"48\": 2, \"9\": 1, \"20\": 3, \"57\": 2, \"52\": 1, \"55\": 1, \"7\": 1, \"29\": 1}, \"18\": {\"18\": 84}, \"37\": {\"37\": 28}, \"24\": {\"24\": 84, \"43\": 7, \"17\": 7, \"54\": 5, \"51\": 1}, \"10\": {\"10\": 59, \"23\": 4, \"26\": 1}, \"44\": {\"44\": 44, \"6\": 6, \"22\": 6, \"47\": 1, \"45\": 6, \"30\": 3, \"3\": 3, \"0\": 3, \"52\": 1, \"5\": 8, \"1\": 1, \"41\": 1, \"12\": 1, \"56\": 2, \"40\": 1, \"50\": 1}, \"14\": {\"8\": 3, \"38\": 1, \"48\": 1, \"7\": 4, \"20\": 4, \"32\": 4, \"14\": 4, \"55\": 1, \"43\": 1, \"51\": 3, \"36\": 4, \"1\": 2, \"4\": 2, \"47\": 1, \"39\": 1, \"27\": 3, \"57\": 1}, \"38\": {\"38\": 28}, \"53\": {\"53\": 116, \"26\": 1, \"55\": 2, \"24\": 4, \"54\": 1, \"43\": 4, \"17\": 4, \"11\": 1, \"19\": 1, \"23\": 5, \"27\": 1}, \"20\": {\"20\": 115, \"52\": 9, \"30\": 1, \"13\": 2, \"8\": 2, \"56\": 1, \"0\": 2}, \"32\": {\"36\": 4, \"32\": 19, \"26\": 1, \"57\": 1, \"55\": 1, \"27\": 1, \"29\": 1}, \"36\": {\"36\": 100}, \"33\": {\"33\": 23, \"7\": 2, \"8\": 2, \"13\": 1}, \"56\": {\"44\": 5, \"56\": 78, \"22\": 13, \"40\": 8, \"47\": 3, \"0\": 13, \"48\": 1, \"52\": 5, \"1\": 1, \"30\": 3, \"20\": 3, \"4\": 1, \"41\": 1, \"5\": 1}, \"23\": {\"23\": 108, \"34\": 1, \"17\": 2, \"10\": 4, \"24\": 1, \"43\": 2, \"15\": 4, \"55\": 1, \"11\": 3, \"26\": 1, \"42\": 1, \"53\": 2}, \"54\": {\"54\": 66, \"53\": 3, \"24\": 4, \"8\": 3, \"37\": 1, \"17\": 5, \"51\": 4, \"57\": 1, \"23\": 1, \"43\": 5, \"55\": 1, \"7\": 1, \"26\": 2, \"9\": 2, \"48\": 1}, \"21\": {\"21\": 109, \"46\": 6, \"12\": 1, \"3\": 2, \"5\": 2, \"50\": 5, \"41\": 1}, \"28\": {\"28\": 21, \"53\": 1, \"36\": 1, \"26\": 1, \"15\": 1, \"16\": 1, \"23\": 2}, \"26\": {\"26\": 17, \"42\": 2, \"7\": 1, \"17\": 2, \"24\": 1, \"43\": 1}, \"48\": {\"48\": 50, \"47\": 6, \"40\": 6, \"56\": 8, \"30\": 5, \"29\": 1, \"5\": 3, \"20\": 1, \"1\": 7, \"9\": 6, \"4\": 9, \"0\": 2, \"8\": 2, \"50\": 1, \"39\": 1, \"22\": 4, \"52\": 1, \"27\": 3}, \"52\": {\"52\": 97, \"20\": 14, \"30\": 2, \"48\": 1, \"21\": 1, \"13\": 1, \"40\": 2}, \"39\": {\"48\": 2, \"39\": 12, \"0\": 2}, \"22\": {\"22\": 100, \"41\": 1, \"44\": 7, \"56\": 7, \"52\": 2, \"3\": 3, \"0\": 5, \"5\": 2, \"9\": 1, \"40\": 2, \"30\": 3, \"48\": 2, \"50\": 1, \"1\": 3, \"20\": 1}, \"13\": {\"33\": 2, \"13\": 76, \"48\": 5, \"0\": 2, \"56\": 3, \"20\": 6, \"40\": 3, \"51\": 11, \"8\": 4, \"9\": 3, \"30\": 3, \"52\": 6, \"5\": 1, \"7\": 2, \"14\": 1}, \"2\": {\"41\": 2, \"2\": 28, \"39\": 2}, \"34\": {\"31\": 3, \"34\": 18, \"27\": 1, \"42\": 1, \"55\": 2, \"8\": 2, \"35\": 3, \"26\": 1, \"43\": 1}, \"27\": {\"2\": 1, \"27\": 52, \"57\": 21, \"7\": 5, \"9\": 9, \"4\": 8, \"3\": 2, \"36\": 5, \"1\": 3, \"47\": 1, \"8\": 7, \"5\": 2, \"29\": 8, \"48\": 4, \"32\": 1, \"30\": 1, \"14\": 1, \"50\": 1}, \"45\": {\"45\": 31, \"46\": 2, \"12\": 8, \"3\": 6, \"5\": 8, \"6\": 4, \"50\": 1}, \"35\": {\"35\": 25, \"31\": 1, \"34\": 1, \"55\": 1}, \"29\": {\"27\": 15, \"29\": 58, \"36\": 9, \"8\": 4, \"9\": 11, \"14\": 3, \"4\": 4, \"47\": 3, \"48\": 1, \"1\": 3, \"57\": 7, \"55\": 2, \"5\": 1, \"34\": 1, \"7\": 1, \"32\": 1, \"44\": 1, \"3\": 1, \"22\": 1, \"46\": 1}, \"25\": {\"25\": 138, \"11\": 4, \"15\": 1, \"16\": 1}, \"0\": {\"0\": 57, \"41\": 6, \"22\": 11, \"40\": 6, \"48\": 6, \"56\": 21, \"50\": 1, \"30\": 9, \"3\": 1, \"9\": 1, \"47\": 2, \"52\": 1, \"46\": 2}, \"41\": {\"41\": 22, \"22\": 3, \"0\": 3}, \"11\": {\"11\": 109, \"16\": 19, \"23\": 2, \"10\": 2, \"15\": 6, \"43\": 1, \"53\": 1, \"55\": 1, \"19\": 1}, \"5\": {\"5\": 53, \"45\": 8, \"12\": 4, \"44\": 6, \"41\": 1, \"30\": 3, \"56\": 2, \"6\": 2, \"22\": 9, \"50\": 3, \"3\": 11, \"46\": 3, \"52\": 1, \"21\": 1, \"0\": 1}, \"1\": {\"1\": 60, \"0\": 1, \"22\": 4, \"4\": 13, \"5\": 2, \"48\": 5, \"47\": 5, \"30\": 1, \"44\": 2, \"40\": 4, \"56\": 1, \"57\": 2}, \"57\": {\"57\": 37, \"36\": 7, \"4\": 11, \"27\": 15, \"47\": 2, \"8\": 8, \"1\": 4, \"9\": 16, \"29\": 10, \"48\": 1, \"54\": 1, \"7\": 2, \"14\": 1, \"40\": 1}, \"17\": {\"17\": 82, \"43\": 15, \"54\": 4, \"24\": 5, \"29\": 1, \"51\": 1}, \"7\": {\"54\": 1, \"7\": 22, \"20\": 6, \"33\": 1, \"8\": 1, \"57\": 2, \"26\": 1, \"13\": 2}, \"12\": {\"12\": 62, \"6\": 10, \"3\": 8, \"50\": 9, \"46\": 3}, \"47\": {\"56\": 3, \"0\": 7, \"48\": 7, \"47\": 41, \"20\": 1, \"50\": 2, \"29\": 3, \"1\": 12, \"22\": 5, \"4\": 7, \"44\": 1, \"3\": 1, \"40\": 1, \"5\": 1}, \"40\": {\"20\": 10, \"40\": 66, \"13\": 4, \"56\": 2, \"9\": 3, \"1\": 4, \"8\": 3, \"44\": 1, \"50\": 4, \"22\": 3, \"3\": 5, \"4\": 5, \"48\": 5, \"52\": 4, \"47\": 3, \"30\": 1, \"46\": 2, \"5\": 3, \"0\": 4, \"45\": 1, \"57\": 1, \"27\": 2}, \"15\": {\"15\": 120, \"10\": 1, \"23\": 6, \"11\": 11, \"51\": 1, \"54\": 1, \"16\": 2}, \"42\": {\"42\": 23, \"26\": 1, \"49\": 1, \"24\": 1, \"11\": 1, \"43\": 1}, \"55\": {\"55\": 87, \"2\": 2, \"7\": 1, \"43\": 2, \"32\": 3, \"36\": 10, \"8\": 2, \"54\": 8, \"27\": 6, \"9\": 3, \"57\": 6, \"47\": 2, \"51\": 3, \"4\": 6, \"29\": 2, \"34\": 1, \"31\": 1, \"35\": 3, \"26\": 1, \"13\": 1}, \"49\": {\"42\": 2, \"7\": 3, \"49\": 6, \"24\": 6, \"13\": 2, \"43\": 1}, \"30\": {\"39\": 2, \"0\": 9, \"56\": 8, \"22\": 4, \"30\": 57, \"40\": 9, \"21\": 1, \"3\": 2, \"48\": 7, \"50\": 6, \"29\": 1, \"52\": 5, \"5\": 4, \"20\": 1, \"46\": 3, \"47\": 1}, \"50\": {\"50\": 60, \"45\": 6, \"3\": 16, \"6\": 8, \"12\": 9, \"46\": 23, \"5\": 9, \"44\": 1, \"22\": 1, \"21\": 1}, \"4\": {\"9\": 15, \"4\": 41, \"27\": 13, \"7\": 2, \"22\": 8, \"47\": 4, \"1\": 13, \"48\": 10, \"3\": 3, \"8\": 6, \"40\": 1, \"57\": 5, \"30\": 1, \"14\": 2, \"29\": 6, \"36\": 2, \"5\": 1, \"56\": 2, \"50\": 1}}, \"C_4\": {\"35\": {\"35\": 31, \"57\": 1, \"26\": 2, \"41\": 1, \"55\": 3, \"33\": 1, \"36\": 1}, \"25\": {\"25\": 130, \"15\": 2, \"11\": 1, \"16\": 1}, \"24\": {\"24\": 39, \"49\": 1, \"17\": 5, \"41\": 3, \"32\": 2, \"23\": 1, \"54\": 2, \"43\": 2, \"38\": 1}, \"48\": {\"40\": 6, \"48\": 70, \"1\": 7, \"8\": 2, \"47\": 19, \"20\": 2, \"45\": 1, \"9\": 12, \"46\": 3, \"4\": 6, \"5\": 2, \"56\": 2, \"44\": 2, \"52\": 3, \"12\": 1}, \"51\": {\"38\": 5, \"51\": 102, \"8\": 11, \"1\": 1, \"54\": 6, \"27\": 1, \"40\": 1, \"47\": 2, \"29\": 1, \"52\": 1, \"9\": 1, \"43\": 4, \"48\": 1, \"56\": 1, \"55\": 1, \"13\": 3, \"20\": 2}, \"13\": {\"13\": 65, \"0\": 1, \"39\": 2, \"47\": 2, \"52\": 14, \"48\": 2, \"56\": 3, \"8\": 5, \"20\": 9, \"51\": 7, \"40\": 4, \"2\": 1, \"46\": 2, \"4\": 2, \"9\": 1}, \"14\": {\"9\": 1, \"38\": 2, \"14\": 3, \"37\": 2, \"57\": 1, \"1\": 1, \"39\": 1, \"49\": 1, \"13\": 1, \"4\": 1, \"36\": 1, \"48\": 1}, \"32\": {\"38\": 2, \"24\": 4, \"33\": 1, \"32\": 9, \"17\": 2, \"49\": 2, \"43\": 1, \"54\": 1, \"41\": 2}, \"30\": {\"30\": 29, \"12\": 1, \"0\": 3, \"46\": 1, \"52\": 1, \"22\": 2, \"6\": 3, \"5\": 1, \"45\": 3}, \"34\": {\"35\": 1, \"34\": 18, \"19\": 2, \"43\": 1, \"17\": 1, \"26\": 1}, \"9\": {\"9\": 42, \"14\": 1, \"29\": 7, \"52\": 1, \"48\": 12, \"2\": 9, \"47\": 11, \"27\": 4, \"8\": 13, \"57\": 4, \"4\": 14, \"51\": 8, \"45\": 1, \"56\": 3, \"40\": 2, \"1\": 1, \"54\": 2, \"44\": 1}, \"1\": {\"1\": 30, \"47\": 3, \"4\": 2, \"48\": 2, \"56\": 1, \"9\": 1, \"40\": 1}, \"0\": {\"0\": 60, \"45\": 2, \"40\": 3, \"22\": 2, \"56\": 4, \"46\": 3, \"5\": 1, \"12\": 3, \"30\": 2}, \"38\": {\"38\": 31, \"54\": 1, \"51\": 3, \"14\": 1, \"8\": 2, \"27\": 1, \"57\": 1}, \"22\": {\"22\": 100, \"5\": 12, \"12\": 3, \"6\": 2, \"3\": 3, \"45\": 5, \"46\": 3}, \"40\": {\"40\": 35, \"6\": 2, \"48\": 15, \"44\": 5, \"21\": 8, \"2\": 2, \"8\": 4, \"0\": 1, \"45\": 4, \"56\": 14, \"52\": 9, \"22\": 2, \"29\": 1, \"47\": 4, \"20\": 5, \"3\": 1, \"13\": 5, \"14\": 1, \"1\": 1, \"50\": 1}, \"6\": {\"50\": 10, \"6\": 82, \"5\": 6, \"3\": 12, \"22\": 1, \"46\": 1}, \"16\": {\"16\": 76, \"10\": 3, \"23\": 3, \"15\": 8, \"17\": 1, \"11\": 5}, \"11\": {\"11\": 81, \"16\": 11, \"15\": 8, \"23\": 2, \"24\": 1, \"53\": 1}, \"20\": {\"20\": 103, \"1\": 1, \"8\": 1, \"52\": 11, \"21\": 2, \"40\": 1, \"13\": 1, \"9\": 1, \"56\": 1}, \"17\": {\"17\": 53, \"24\": 8, \"43\": 1, \"36\": 1, \"37\": 2, \"32\": 4, \"53\": 2, \"10\": 2, \"42\": 1, \"23\": 1, \"41\": 2, \"7\": 1, \"4\": 1, \"29\": 1}, \"26\": {\"55\": 1, \"26\": 17, \"35\": 2, \"4\": 1, \"53\": 1, \"36\": 2}, \"54\": {\"38\": 4, \"54\": 79, \"41\": 2, \"49\": 1, \"27\": 6, \"36\": 1, \"9\": 1, \"55\": 3, \"43\": 7, \"51\": 2, \"8\": 1, \"24\": 1}, \"55\": {\"55\": 74, \"26\": 2, \"14\": 3, \"32\": 2, \"54\": 5, \"57\": 6, \"35\": 6, \"36\": 17, \"51\": 11, \"43\": 11, \"8\": 2, \"27\": 7, \"38\": 1, \"7\": 1, \"2\": 2, \"4\": 1, \"9\": 1, \"47\": 1, \"29\": 1}, \"50\": {\"50\": 84, \"6\": 16, \"5\": 6, \"3\": 16, \"12\": 1, \"22\": 4, \"15\": 1, \"30\": 1, \"45\": 2, \"46\": 1}, \"19\": {\"19\": 110, \"34\": 1, \"35\": 1, \"17\": 1, \"26\": 1, \"10\": 6, \"42\": 4, \"27\": 3, \"23\": 5, \"36\": 2, \"53\": 1, \"55\": 1, \"7\": 2, \"57\": 1, \"11\": 1, \"15\": 1, \"29\": 1}, \"44\": {\"6\": 3, \"50\": 7, \"44\": 66, \"40\": 1, \"45\": 7, \"5\": 5, \"47\": 3, \"30\": 1, \"3\": 5, \"12\": 3, \"56\": 5, \"48\": 3, \"20\": 2, \"22\": 2, \"52\": 2, \"46\": 1, \"1\": 4, \"4\": 2}, \"47\": {\"47\": 64, \"48\": 18, \"4\": 8, \"1\": 3, \"30\": 1, \"29\": 3, \"45\": 1, \"44\": 10, \"56\": 3, \"9\": 7, \"40\": 1, \"22\": 1}, \"33\": {\"41\": 2, \"27\": 2, \"49\": 2, \"33\": 19, \"26\": 1, \"7\": 2, \"43\": 3, \"17\": 2, \"32\": 1, \"37\": 1, \"24\": 1}, \"5\": {\"50\": 10, \"5\": 48, \"6\": 11, \"22\": 16, \"45\": 5, \"0\": 1, \"3\": 5, \"46\": 4, \"12\": 2, \"30\": 3, \"44\": 3}, \"18\": {\"18\": 105, \"25\": 1, \"23\": 1, \"11\": 1}, \"21\": {\"21\": 119, \"12\": 1, \"5\": 1, \"44\": 2, \"22\": 1}, \"41\": {\"54\": 2, \"41\": 25, \"24\": 3, \"17\": 3, \"51\": 1, \"8\": 1, \"27\": 1}, \"23\": {\"23\": 85, \"41\": 2, \"10\": 13, \"53\": 6, \"17\": 2, \"15\": 9, \"16\": 1, \"11\": 3, \"43\": 4, \"24\": 2, \"19\": 1}, \"39\": {\"39\": 13, \"21\": 1, \"27\": 1, \"20\": 1, \"8\": 2, \"0\": 1, \"51\": 1}, \"37\": {\"37\": 20, \"54\": 1, \"51\": 2, \"31\": 1}, \"8\": {\"8\": 128, \"20\": 10, \"9\": 5, \"4\": 1}, \"49\": {\"49\": 8, \"54\": 1, \"17\": 3, \"55\": 1, \"32\": 1, \"33\": 2, \"24\": 1, \"53\": 1, \"9\": 2}, \"53\": {\"28\": 2, \"17\": 6, \"53\": 103, \"31\": 1, \"41\": 2, \"32\": 1, \"24\": 2, \"10\": 9, \"23\": 9, \"55\": 2, \"11\": 1, \"43\": 2}, \"31\": {\"31\": 27, \"54\": 1}, \"28\": {\"16\": 3, \"28\": 21, \"15\": 1, \"25\": 1, \"31\": 1, \"42\": 1, \"23\": 1, \"11\": 2, \"53\": 1}, \"3\": {\"3\": 81, \"20\": 2, \"46\": 2, \"6\": 13, \"5\": 3, \"50\": 17, \"30\": 1, \"44\": 2, \"22\": 1, \"45\": 2}, \"27\": {\"55\": 5, \"27\": 80, \"4\": 7, \"57\": 6, \"38\": 2, \"7\": 2, \"9\": 4, \"52\": 1, \"43\": 8, \"48\": 3, \"51\": 2, \"54\": 4, \"36\": 1, \"8\": 4, \"39\": 1, \"2\": 1, \"29\": 5, \"56\": 1, \"20\": 1}, \"46\": {\"46\": 93, \"12\": 8, \"45\": 3, \"22\": 9, \"30\": 1, \"0\": 4, \"50\": 3, \"3\": 2, \"5\": 3, \"40\": 2}, \"12\": {\"46\": 13, \"6\": 1, \"12\": 67, \"30\": 3, \"0\": 1, \"52\": 1, \"5\": 3, \"3\": 2, \"50\": 1}, \"7\": {\"43\": 2, \"7\": 12, \"27\": 2, \"24\": 1, \"52\": 1, \"33\": 2, \"55\": 1, \"35\": 1, \"8\": 1, \"51\": 1}, \"4\": {\"47\": 12, \"29\": 10, \"1\": 7, \"27\": 11, \"48\": 13, \"9\": 7, \"40\": 3, \"56\": 2, \"4\": 46, \"57\": 10, \"20\": 1, \"44\": 1, \"46\": 1, \"36\": 1, \"14\": 1, \"3\": 1, \"8\": 2, \"38\": 1, \"22\": 2}, \"42\": {\"42\": 23, \"23\": 1, \"7\": 1, \"17\": 1, \"33\": 4, \"28\": 1, \"10\": 1}, \"43\": {\"43\": 119, \"54\": 5, \"57\": 2, \"33\": 1, \"49\": 1, \"51\": 1, \"36\": 1}, \"29\": {\"29\": 64, \"27\": 9, \"36\": 6, \"46\": 1, \"55\": 1, \"4\": 7, \"57\": 10, \"8\": 2, \"9\": 10, \"0\": 1, \"44\": 3, \"48\": 2, \"47\": 2, \"5\": 1, \"22\": 1}, \"57\": {\"47\": 5, \"27\": 3, \"38\": 4, \"57\": 49, \"8\": 4, \"29\": 8, \"9\": 8, \"4\": 11, \"36\": 2, \"48\": 2, \"56\": 1, \"14\": 1, \"1\": 1, \"7\": 1}, \"52\": {\"52\": 83, \"40\": 5, \"20\": 5, \"12\": 1, \"46\": 4, \"0\": 5, \"48\": 1}, \"45\": {\"3\": 7, \"45\": 41, \"5\": 7, \"46\": 7, \"50\": 6, \"44\": 6, \"12\": 7, \"30\": 3, \"0\": 3, \"6\": 3, \"40\": 3, \"22\": 3}, \"36\": {\"36\": 85, \"55\": 3, \"29\": 4}, \"10\": {\"10\": 92, \"23\": 19, \"42\": 2, \"53\": 7, \"17\": 2, \"15\": 3, \"19\": 1}, \"15\": {\"15\": 107, \"11\": 12, \"18\": 2, \"16\": 9, \"23\": 3, \"53\": 1}, \"56\": {\"56\": 76, \"48\": 8, \"44\": 5, \"47\": 2, \"45\": 2, \"4\": 4, \"40\": 12, \"46\": 1, \"20\": 3, \"52\": 2, \"22\": 3, \"30\": 1, \"0\": 2, \"13\": 1, \"5\": 1, \"9\": 1}, \"2\": {\"2\": 20, \"1\": 5, \"9\": 2, \"27\": 1, \"47\": 3, \"48\": 1, \"0\": 1, \"40\": 2, \"38\": 1}}, \"C_5\": {\"47\": {\"1\": 16, \"4\": 3, \"57\": 2, \"47\": 56, \"30\": 7, \"40\": 2, \"48\": 4, \"29\": 1, \"36\": 5, \"44\": 1, \"9\": 1, \"12\": 1, \"39\": 1}, \"53\": {\"53\": 126, \"26\": 1, \"10\": 5, \"24\": 4, \"31\": 2, \"42\": 1, \"23\": 8, \"17\": 3}, \"29\": {\"29\": 94, \"8\": 4, \"13\": 1, \"4\": 1, \"36\": 1, \"57\": 3, \"1\": 4, \"27\": 6, \"44\": 3, \"48\": 3, \"5\": 2, \"32\": 1, \"56\": 1, \"35\": 1, \"6\": 1}, \"52\": {\"52\": 119, \"0\": 5, \"46\": 2, \"9\": 3, \"13\": 1}, \"55\": {\"55\": 52, \"27\": 19, \"38\": 1, \"48\": 12, \"32\": 3, \"2\": 2, \"14\": 1, \"51\": 12, \"43\": 8, \"54\": 6, \"36\": 1, \"17\": 6, \"10\": 1, \"24\": 3, \"29\": 11, \"8\": 2, \"41\": 1, \"1\": 3}, \"17\": {\"17\": 88, \"35\": 3, \"23\": 7, \"41\": 1, \"24\": 7, \"31\": 1, \"51\": 1, \"27\": 4, \"55\": 3, \"57\": 1}, \"42\": {\"42\": 30, \"31\": 2, \"24\": 1, \"27\": 1, \"10\": 4, \"15\": 1, \"23\": 1}, \"33\": {\"33\": 22, \"24\": 1, \"34\": 4, \"17\": 1, \"31\": 1, \"23\": 1, \"35\": 1, \"32\": 1}, \"11\": {\"11\": 115, \"16\": 18, \"15\": 13, \"53\": 2}, \"19\": {\"33\": 1, \"42\": 3, \"19\": 97, \"10\": 3, \"23\": 4, \"17\": 2, \"29\": 1, \"43\": 2, \"55\": 2, \"34\": 2, \"24\": 1}, \"1\": {\"4\": 4, \"1\": 111, \"56\": 2, \"47\": 8, \"3\": 1, \"57\": 4, \"36\": 2, \"44\": 3, \"9\": 1, \"30\": 2, \"5\": 1, \"40\": 1, \"48\": 2, \"29\": 2}, \"44\": {\"44\": 93, \"22\": 3, \"5\": 14, \"40\": 6, \"45\": 5, \"50\": 9, \"6\": 3, \"4\": 7, \"1\": 1, \"9\": 1}, \"49\": {\"49\": 33, \"27\": 1, \"36\": 2}, \"4\": {\"44\": 11, \"56\": 2, \"5\": 12, \"6\": 6, \"45\": 4, \"4\": 35, \"0\": 1, \"1\": 3, \"46\": 2, \"47\": 2, \"50\": 4, \"9\": 3, \"40\": 7, \"30\": 5, \"48\": 1, \"12\": 1, \"52\": 1}, \"6\": {\"6\": 67, \"45\": 21, \"12\": 4, \"22\": 1, \"50\": 12, \"40\": 1, \"5\": 2, \"46\": 1, \"3\": 5, \"44\": 2}, \"39\": {\"39\": 13, \"1\": 1, \"48\": 2, \"40\": 2, \"47\": 2}, \"50\": {\"50\": 99, \"45\": 26, \"3\": 3, \"6\": 14, \"12\": 1, \"44\": 5}, \"56\": {\"56\": 79, \"0\": 14, \"30\": 6, \"57\": 1, \"22\": 2, \"4\": 3, \"5\": 2, \"44\": 1, \"9\": 4, \"1\": 2, \"20\": 2, \"40\": 4, \"47\": 1, \"39\": 1, \"36\": 1, \"6\": 1, \"45\": 1, \"52\": 4, \"46\": 1}, \"25\": {\"25\": 138, \"53\": 2, \"15\": 1, \"11\": 2, \"16\": 1}, \"28\": {\"28\": 28, \"55\": 1, \"19\": 1, \"35\": 1, \"42\": 1}, \"35\": {\"35\": 31, \"52\": 1, \"27\": 3, \"17\": 1}, \"24\": {\"24\": 64, \"17\": 7, \"54\": 1, \"31\": 1, \"23\": 3, \"10\": 2, \"55\": 1, \"53\": 1}, \"21\": {\"21\": 128, \"52\": 2, \"5\": 1, \"44\": 1}, \"45\": {\"45\": 96, \"44\": 2, \"6\": 10, \"4\": 2, \"50\": 10, \"46\": 1, \"5\": 1, \"22\": 1, \"12\": 1}, \"16\": {\"16\": 110, \"15\": 7, \"23\": 1, \"19\": 2, \"11\": 16, \"25\": 3, \"53\": 2, \"55\": 1, \"27\": 1, \"17\": 1}, \"37\": {\"37\": 21, \"38\": 2, \"21\": 1}, \"57\": {\"57\": 59, \"48\": 18, \"2\": 2, \"9\": 5, \"13\": 2, \"27\": 1, \"8\": 7, \"40\": 2, \"1\": 8, \"36\": 7, \"47\": 4, \"30\": 6, \"20\": 3, \"14\": 5, \"4\": 1, \"56\": 2}, \"34\": {\"17\": 2, \"34\": 27, \"33\": 4, \"29\": 1, \"55\": 2}, \"38\": {\"38\": 21, \"54\": 3, \"8\": 1, \"14\": 1, \"24\": 1, \"17\": 1, \"43\": 1, \"51\": 3}, \"48\": {\"57\": 17, \"48\": 49, \"1\": 11, \"8\": 7, \"3\": 1, \"36\": 3, \"30\": 3, \"9\": 8, \"4\": 2, \"27\": 2, \"0\": 1, \"13\": 2, \"56\": 3, \"29\": 10, \"44\": 3, \"20\": 1, \"50\": 1, \"6\": 1, \"47\": 4, \"14\": 1}, \"26\": {\"53\": 1, \"26\": 19, \"43\": 1, \"17\": 1, \"51\": 1, \"37\": 1}, \"9\": {\"48\": 5, \"9\": 42, \"56\": 4, \"40\": 4, \"57\": 10, \"5\": 5, \"0\": 10, \"47\": 7, \"39\": 1, \"1\": 13, \"4\": 9, \"46\": 3, \"30\": 6, \"20\": 8, \"8\": 1, \"13\": 10, \"45\": 2, \"36\": 4, \"44\": 6, \"52\": 1, \"21\": 1}, \"18\": {\"18\": 60, \"53\": 1, \"16\": 2, \"11\": 1}, \"3\": {\"3\": 58, \"45\": 3, \"46\": 5, \"44\": 2, \"12\": 14, \"30\": 1, \"6\": 7, \"4\": 5, \"52\": 1, \"50\": 2, \"5\": 2}, \"23\": {\"23\": 101, \"24\": 3, \"15\": 3, \"10\": 2, \"53\": 8, \"51\": 1, \"17\": 6}, \"15\": {\"15\": 130, \"11\": 15, \"16\": 6, \"53\": 1, \"23\": 1, \"19\": 1}, \"10\": {\"53\": 8, \"10\": 51, \"23\": 4, \"24\": 2, \"17\": 1, \"33\": 1, \"34\": 1}, \"46\": {\"46\": 114, \"0\": 14, \"5\": 3, \"4\": 2, \"12\": 1, \"52\": 2, \"47\": 1, \"40\": 6, \"6\": 1, \"56\": 2, \"3\": 1, \"30\": 1}, \"22\": {\"44\": 3, \"22\": 17, \"50\": 1, \"5\": 4, \"30\": 1, \"46\": 1, \"4\": 1}, \"54\": {\"54\": 66, \"55\": 4, \"14\": 6, \"38\": 1, \"51\": 8, \"10\": 1, \"43\": 8, \"8\": 8, \"48\": 1, \"17\": 2, \"23\": 4, \"24\": 1, \"7\": 2}, \"27\": {\"27\": 90, \"49\": 3, \"30\": 2, \"36\": 3, \"4\": 1, \"32\": 2, \"43\": 14, \"1\": 1, \"8\": 6, \"55\": 9, \"35\": 4, \"29\": 15, \"54\": 2, \"48\": 2, \"14\": 1, \"9\": 1, \"45\": 1, \"57\": 1, \"56\": 1, \"44\": 1}, \"41\": {\"2\": 2, \"41\": 16, \"49\": 1, \"1\": 1, \"33\": 1, \"24\": 1, \"32\": 1, \"55\": 2, \"48\": 1, \"27\": 1, \"35\": 1}, \"31\": {\"31\": 34, \"43\": 1, \"19\": 1}, \"0\": {\"0\": 103, \"46\": 17, \"12\": 1, \"56\": 1, \"52\": 2}, \"7\": {\"2\": 2, \"7\": 30}, \"2\": {\"2\": 23, \"49\": 1, \"8\": 3, \"7\": 1}, \"14\": {\"1\": 5, \"14\": 8, \"38\": 1, \"36\": 5, \"20\": 4, \"8\": 3, \"32\": 3, \"52\": 1, \"4\": 1, \"27\": 1, \"7\": 2, \"2\": 1, \"30\": 1, \"57\": 2, \"29\": 1, \"43\": 3, \"13\": 1, \"55\": 1}, \"40\": {\"46\": 4, \"1\": 10, \"40\": 23, \"9\": 15, \"6\": 4, \"50\": 7, \"0\": 13, \"47\": 9, \"52\": 3, \"44\": 3, \"56\": 10, \"20\": 2, \"12\": 3, \"30\": 5, \"5\": 5, \"45\": 3, \"4\": 4, \"21\": 1}, \"5\": {\"5\": 72, \"45\": 4, \"44\": 14, \"1\": 4, \"6\": 7, \"56\": 1, \"22\": 2, \"40\": 4, \"50\": 2, \"46\": 3, \"0\": 2, \"48\": 2, \"4\": 5, \"47\": 2, \"30\": 3, \"3\": 1}, \"12\": {\"12\": 57, \"3\": 9, \"45\": 8, \"6\": 5, \"4\": 4, \"46\": 3, \"44\": 2, \"52\": 2, \"50\": 5, \"39\": 1}, \"43\": {\"43\": 112, \"2\": 2, \"54\": 12, \"8\": 12, \"24\": 1, \"51\": 1, \"17\": 1, \"27\": 1}, \"13\": {\"13\": 83, \"43\": 9, \"14\": 3, \"51\": 1, \"46\": 4, \"30\": 1, \"40\": 1, \"52\": 7, \"0\": 11, \"29\": 5, \"7\": 4, \"20\": 4, \"56\": 5, \"21\": 4, \"36\": 1, \"54\": 2, \"27\": 1, \"9\": 2}, \"36\": {\"43\": 1, \"36\": 65, \"7\": 1, \"1\": 7, \"56\": 1, \"47\": 7, \"30\": 2, \"29\": 1, \"57\": 3, \"48\": 1, \"38\": 1, \"9\": 2}, \"8\": {\"8\": 132, \"2\": 4, \"57\": 2, \"14\": 1, \"20\": 4, \"48\": 1, \"52\": 2, \"27\": 1, \"43\": 3}, \"32\": {\"32\": 17, \"55\": 1, \"35\": 3, \"30\": 2, \"48\": 1, \"41\": 1, \"27\": 2, \"43\": 2, \"44\": 1, \"2\": 1, \"47\": 1}, \"30\": {\"30\": 59, \"56\": 8, \"46\": 2, \"3\": 1, \"4\": 12, \"52\": 1, \"47\": 3, \"1\": 8, \"9\": 9, \"57\": 6, \"44\": 5, \"5\": 4, \"40\": 3, \"0\": 1, \"36\": 3, \"48\": 2, \"6\": 1}, \"51\": {\"51\": 119, \"8\": 1, \"43\": 7, \"20\": 1, \"5\": 1, \"38\": 3, \"49\": 1, \"4\": 1, \"36\": 1, \"54\": 3}, \"20\": {\"20\": 124, \"13\": 6, \"47\": 1, \"46\": 1, \"52\": 4, \"0\": 1, \"9\": 1}}, \"C_1\": {\"46\": {\"46\": 104, \"0\": 2, \"44\": 11, \"5\": 15, \"6\": 3, \"3\": 1, \"50\": 1, \"45\": 2, \"56\": 1}, \"16\": {\"16\": 102, \"25\": 2, \"11\": 13, \"15\": 10, \"10\": 4, \"53\": 2, \"35\": 1}, \"26\": {\"26\": 21, \"25\": 1, \"53\": 2}, \"10\": {\"10\": 76, \"15\": 12, \"19\": 6, \"23\": 1, \"53\": 1}, \"9\": {\"9\": 129, \"48\": 8, \"31\": 3, \"17\": 1, \"36\": 1, \"8\": 3, \"51\": 4, \"55\": 2, \"32\": 2, \"54\": 2, \"30\": 1}, \"28\": {\"28\": 23, \"16\": 1, \"26\": 1, \"23\": 1, \"53\": 2}, \"51\": {\"51\": 139, \"30\": 1, \"49\": 1, \"21\": 2, \"9\": 6, \"8\": 1, \"55\": 6}, \"1\": {\"1\": 65, \"47\": 4, \"8\": 6, \"39\": 3, \"57\": 5, \"43\": 5, \"29\": 6, \"48\": 2, \"30\": 1, \"27\": 1, \"54\": 1, \"44\": 1}, \"55\": {\"55\": 89, \"49\": 4, \"7\": 1, \"32\": 1, \"38\": 1, \"1\": 3, \"36\": 5, \"2\": 1, \"30\": 3, \"48\": 9, \"57\": 4, \"29\": 2, \"51\": 4, \"43\": 7, \"9\": 6, \"47\": 4, \"8\": 2, \"54\": 1, \"39\": 1}, \"27\": {\"47\": 8, \"27\": 105, \"29\": 2, \"57\": 3, \"52\": 3, \"40\": 1, \"4\": 1, \"21\": 1}, \"22\": {\"22\": 105, \"45\": 2, \"21\": 2, \"52\": 6, \"12\": 3, \"0\": 2, \"40\": 2, \"4\": 1, \"27\": 1}, \"52\": {\"52\": 82, \"56\": 10, \"45\": 5, \"6\": 1, \"22\": 5, \"12\": 1, \"0\": 15, \"4\": 3, \"50\": 4}, \"3\": {\"46\": 9, \"3\": 65, \"0\": 5, \"6\": 2, \"4\": 1, \"44\": 5, \"45\": 4, \"12\": 14, \"5\": 10, \"56\": 3, \"20\": 15, \"13\": 3, \"22\": 1, \"40\": 1, \"50\": 2}, \"33\": {\"33\": 32}, \"47\": {\"1\": 2, \"47\": 70, \"57\": 12, \"29\": 17, \"27\": 8, \"4\": 2, \"44\": 1, \"45\": 1, \"8\": 1, \"40\": 3, \"56\": 2, \"52\": 1}, \"42\": {\"1\": 3, \"10\": 3, \"33\": 4, \"42\": 22, \"7\": 1, \"17\": 1, \"24\": 1, \"23\": 2, \"8\": 1, \"32\": 1, \"43\": 1}, \"12\": {\"12\": 103, \"3\": 2, \"22\": 1, \"20\": 7, \"13\": 2, \"52\": 1}, \"23\": {\"23\": 119, \"19\": 1, \"24\": 3, \"17\": 2, \"10\": 2, \"53\": 1, \"51\": 1, \"35\": 1, \"9\": 2}, \"49\": {\"49\": 24, \"32\": 1, \"55\": 2, \"8\": 4, \"48\": 1}, \"7\": {\"7\": 24, \"39\": 2, \"29\": 2}, \"4\": {\"4\": 82, \"6\": 2, \"29\": 4, \"22\": 1, \"56\": 8, \"50\": 3, \"27\": 6, \"0\": 2, \"47\": 6, \"40\": 1, \"46\": 3, \"44\": 6, \"57\": 1, \"45\": 3, \"30\": 3, \"5\": 1}, \"50\": {\"50\": 118, \"6\": 9, \"0\": 3, \"52\": 2, \"5\": 2}, \"19\": {\"19\": 117, \"42\": 5, \"35\": 5, \"10\": 11, \"15\": 4, \"23\": 4, \"43\": 4, \"17\": 1, \"1\": 1, \"53\": 2}, \"11\": {\"11\": 109, \"15\": 14, \"16\": 13, \"19\": 1, \"53\": 1, \"10\": 2}, \"31\": {\"31\": 27, \"54\": 1}, \"41\": {\"41\": 20, \"51\": 2, \"32\": 2}, \"56\": {\"50\": 3, \"56\": 70, \"52\": 11, \"45\": 15, \"4\": 10, \"0\": 7, \"40\": 2, \"20\": 1, \"44\": 6, \"5\": 2, \"46\": 6, \"13\": 1, \"3\": 1, \"6\": 2, \"30\": 1}, \"0\": {\"52\": 12, \"0\": 118, \"45\": 5, \"50\": 10, \"20\": 1, \"6\": 1, \"56\": 1}, \"57\": {\"57\": 44, \"47\": 12, \"36\": 1, \"29\": 18, \"8\": 9, \"44\": 1, \"40\": 5, \"14\": 2, \"30\": 3, \"27\": 12, \"48\": 11, \"4\": 2, \"43\": 1, \"55\": 2, \"45\": 1, \"7\": 1, \"1\": 1, \"21\": 2}, \"53\": {\"53\": 134, \"17\": 1, \"28\": 1, \"23\": 1, \"25\": 1, \"9\": 2}, \"43\": {\"43\": 132, \"1\": 5, \"29\": 3, \"47\": 2, \"8\": 2}, \"37\": {\"37\": 27, \"51\": 2, \"36\": 2, \"55\": 1}, \"2\": {\"2\": 36}, \"6\": {\"46\": 7, \"52\": 2, \"6\": 33, \"50\": 13, \"56\": 4, \"5\": 7, \"44\": 8, \"0\": 8, \"45\": 12, \"3\": 2}, \"13\": {\"13\": 100, \"0\": 10, \"50\": 2, \"6\": 3, \"22\": 3, \"40\": 3, \"52\": 2, \"12\": 12, \"3\": 1, \"56\": 2, \"20\": 4, \"45\": 1, \"32\": 1, \"14\": 1, \"2\": 1, \"4\": 1, \"46\": 1, \"21\": 2}, \"18\": {\"18\": 72}, \"36\": {\"36\": 57, \"8\": 2, \"48\": 1, \"49\": 2, \"32\": 1, \"55\": 1}, \"29\": {\"29\": 66, \"39\": 2, \"1\": 8, \"56\": 7, \"30\": 2, \"4\": 9, \"57\": 5, \"36\": 3, \"47\": 7, \"44\": 1, \"27\": 5, \"48\": 5, \"21\": 1, \"8\": 4, \"40\": 2, \"43\": 6, \"50\": 2, \"55\": 2, \"45\": 2, \"6\": 1}, \"39\": {\"39\": 19, \"47\": 1, \"1\": 1, \"57\": 1, \"43\": 3, \"49\": 1, \"8\": 1, \"27\": 1}, \"17\": {\"17\": 57, \"23\": 2, \"24\": 3, \"42\": 2}, \"21\": {\"21\": 114, \"13\": 1, \"22\": 5, \"52\": 1, \"56\": 2, \"30\": 1}, \"25\": {\"25\": 115, \"19\": 1, \"10\": 3, \"16\": 4, \"53\": 4, \"15\": 4, \"11\": 1}, \"45\": {\"45\": 63, \"6\": 7, \"50\": 9, \"56\": 15, \"40\": 2, \"52\": 12, \"44\": 3, \"12\": 1, \"20\": 7, \"0\": 11, \"22\": 2, \"4\": 1, \"3\": 4, \"46\": 5}, \"38\": {\"21\": 1, \"45\": 1, \"38\": 15, \"14\": 2, \"22\": 1, \"24\": 1, \"55\": 1, \"36\": 1, \"31\": 1}, \"30\": {\"30\": 92, \"49\": 1, \"57\": 8, \"21\": 4, \"6\": 2, \"50\": 1, \"48\": 1, \"40\": 4, \"22\": 1, \"2\": 1, \"52\": 2, \"4\": 2, \"1\": 1}, \"24\": {\"33\": 2, \"24\": 89, \"42\": 2, \"17\": 6, \"9\": 3, \"54\": 3, \"31\": 2, \"1\": 1}, \"20\": {\"20\": 102, \"12\": 9, \"5\": 1, \"3\": 12, \"0\": 3, \"45\": 3, \"44\": 1, \"46\": 3, \"50\": 3, \"56\": 1, \"13\": 1, \"6\": 1}, \"8\": {\"8\": 86, \"48\": 19, \"1\": 6, \"57\": 5, \"40\": 1, \"32\": 3, \"49\": 2, \"2\": 2, \"30\": 1, \"47\": 3, \"43\": 2, \"36\": 4, \"55\": 4, \"14\": 1, \"7\": 1}, \"35\": {\"19\": 1, \"35\": 32, \"42\": 1, \"10\": 1, \"23\": 1}, \"54\": {\"54\": 75, \"31\": 1, \"43\": 1, \"51\": 3, \"48\": 5, \"8\": 1, \"24\": 2, \"9\": 11, \"30\": 1, \"36\": 1, \"55\": 2, \"42\": 1}, \"5\": {\"5\": 139, \"46\": 7, \"44\": 2}, \"48\": {\"48\": 114, \"1\": 2, \"6\": 1, \"8\": 19, \"36\": 2, \"43\": 1, \"55\": 2, \"50\": 1, \"21\": 1, \"47\": 1}, \"15\": {\"15\": 139, \"53\": 2, \"10\": 1}, \"34\": {\"34\": 14, \"39\": 1, \"42\": 2, \"43\": 1, \"1\": 1, \"33\": 2, \"35\": 1, \"8\": 1, \"31\": 1}, \"14\": {\"21\": 2, \"14\": 9, \"12\": 1, \"22\": 5, \"30\": 2, \"40\": 1, \"48\": 1, \"13\": 1, \"52\": 1, \"8\": 1}, \"32\": {\"32\": 24, \"1\": 2, \"39\": 1, \"9\": 1, \"48\": 1, \"29\": 1, \"8\": 1, \"43\": 1}, \"40\": {\"21\": 15, \"57\": 12, \"14\": 3, \"40\": 41, \"22\": 10, \"4\": 4, \"44\": 5, \"56\": 5, \"45\": 2, \"46\": 7, \"30\": 9, \"2\": 1, \"27\": 11, \"47\": 7, \"13\": 5, \"6\": 4, \"29\": 3, \"12\": 1, \"49\": 1, \"5\": 1, \"48\": 1}, \"44\": {\"44\": 85, \"4\": 3, \"46\": 18, \"5\": 17, \"3\": 2, \"56\": 3, \"45\": 5, \"6\": 1, \"50\": 1, \"12\": 1}}, \"C_2\": {\"36\": {\"36\": 114, \"55\": 1, \"32\": 1}, \"5\": {\"44\": 8, \"5\": 65, \"12\": 2, \"45\": 13, \"50\": 8, \"6\": 7, \"3\": 6, \"22\": 3, \"40\": 1, \"21\": 1, \"46\": 4, \"30\": 2}, \"45\": {\"45\": 66, \"44\": 6, \"46\": 7, \"21\": 1, \"3\": 7, \"5\": 10, \"12\": 7, \"6\": 19, \"50\": 5}, \"49\": {\"49\": 13, \"10\": 1, \"54\": 3, \"55\": 1, \"28\": 1, \"7\": 1, \"33\": 1, \"53\": 1, \"17\": 1, \"51\": 1}, \"50\": {\"12\": 13, \"3\": 8, \"50\": 75, \"5\": 7, \"46\": 7, \"44\": 1, \"6\": 14, \"0\": 2, \"40\": 1, \"30\": 1, \"45\": 7}, \"4\": {\"4\": 32, \"41\": 1, \"48\": 8, \"9\": 9, \"29\": 4, \"32\": 1, \"1\": 14, \"56\": 4, \"44\": 3, \"27\": 2, \"47\": 21, \"8\": 15, \"30\": 1, \"57\": 13, \"3\": 1, \"5\": 1, \"45\": 1, \"14\": 1, \"12\": 1, \"22\": 2, \"55\": 1, \"46\": 1, \"40\": 1}, \"43\": {\"43\": 130, \"42\": 3, \"17\": 5, \"23\": 1, \"54\": 7, \"51\": 1, \"24\": 1}, \"41\": {\"41\": 18, \"22\": 1, \"8\": 1}, \"37\": {\"37\": 33, \"17\": 1, \"26\": 1, \"51\": 1}, \"12\": {\"45\": 1, \"12\": 65, \"50\": 10, \"5\": 1, \"6\": 5, \"46\": 8, \"3\": 2}, \"33\": {\"33\": 13, \"4\": 2, \"9\": 1, \"7\": 2, \"2\": 1, \"54\": 1, \"51\": 1, \"57\": 1, \"31\": 1, \"27\": 1, \"32\": 1, \"39\": 1, \"17\": 2}, \"7\": {\"7\": 28, \"55\": 1, \"54\": 1, \"39\": 2, \"31\": 2, \"33\": 1, \"9\": 1}, \"56\": {\"56\": 78, \"52\": 2, \"0\": 4, \"48\": 13, \"14\": 1, \"5\": 3, \"50\": 1, \"1\": 8, \"22\": 9, \"4\": 1, \"44\": 2, \"30\": 2, \"47\": 10, \"40\": 6}, \"14\": {\"41\": 1, \"33\": 1, \"52\": 1, \"14\": 6, \"40\": 3, \"20\": 3, \"4\": 1, \"8\": 1, \"13\": 3, \"56\": 1, \"57\": 1, \"39\": 1, \"1\": 1}, \"52\": {\"52\": 115, \"30\": 1, \"21\": 5, \"40\": 2, \"20\": 1}, \"44\": {\"56\": 3, \"44\": 52, \"6\": 5, \"45\": 10, \"46\": 3, \"1\": 3, \"5\": 8, \"48\": 1, \"22\": 5, \"50\": 3, \"3\": 1, \"47\": 1, \"30\": 1}, \"48\": {\"1\": 15, \"56\": 8, \"48\": 58, \"40\": 15, \"0\": 2, \"9\": 3, \"50\": 1, \"30\": 5, \"3\": 1, \"6\": 1, \"47\": 16, \"4\": 11, \"5\": 3, \"8\": 1, \"14\": 1, \"44\": 1, \"52\": 1, \"13\": 1}, \"20\": {\"20\": 118, \"41\": 1, \"40\": 2, \"30\": 1, \"13\": 2, \"8\": 1, \"46\": 1, \"38\": 1, \"52\": 1}, \"55\": {\"55\": 56, \"7\": 1, \"36\": 16, \"32\": 3, \"42\": 1, \"29\": 7, \"39\": 3, \"8\": 1, \"2\": 2, \"31\": 2, \"54\": 4, \"13\": 4, \"43\": 1, \"57\": 10, \"51\": 5, \"27\": 8, \"9\": 13, \"4\": 4, \"1\": 2, \"47\": 1}, \"32\": {\"55\": 2, \"17\": 1, \"57\": 1, \"32\": 18, \"39\": 3, \"29\": 1, \"36\": 1, \"10\": 1}, \"40\": {\"40\": 49, \"41\": 2, \"1\": 8, \"56\": 11, \"8\": 8, \"46\": 1, \"48\": 7, \"38\": 1, \"30\": 6, \"9\": 2, \"20\": 9, \"52\": 4, \"47\": 6, \"22\": 1, \"4\": 6, \"13\": 4, \"45\": 1, \"3\": 1, \"14\": 2, \"5\": 5, \"50\": 2}, \"54\": {\"41\": 1, \"54\": 74, \"33\": 2, \"43\": 8, \"53\": 2, \"29\": 1, \"23\": 3, \"27\": 3, \"24\": 3, \"17\": 2, \"8\": 3, \"10\": 1, \"57\": 1, \"51\": 3, \"48\": 1}, \"17\": {\"17\": 76, \"54\": 1, \"24\": 9, \"53\": 4, \"42\": 5, \"43\": 7, \"9\": 1, \"33\": 1}, \"38\": {\"20\": 4, \"8\": 1, \"38\": 15}, \"24\": {\"17\": 11, \"24\": 74, \"33\": 1, \"43\": 8, \"53\": 1, \"49\": 1}, \"1\": {\"1\": 75, \"47\": 5, \"4\": 8, \"5\": 2, \"22\": 8, \"48\": 4, \"29\": 1, \"44\": 1, \"50\": 1, \"56\": 3, \"2\": 1, \"12\": 1, \"3\": 2}, \"6\": {\"5\": 3, \"6\": 95, \"12\": 2, \"45\": 7, \"50\": 3, \"46\": 4, \"3\": 10}, \"34\": {\"34\": 24, \"42\": 1, \"19\": 1, \"28\": 1, \"9\": 1}, \"11\": {\"11\": 121, \"15\": 8, \"10\": 1, \"23\": 2, \"16\": 3, \"19\": 1}, \"9\": {\"9\": 70, \"14\": 2, \"29\": 23, \"27\": 14, \"57\": 17, \"36\": 3, \"8\": 5, \"56\": 1, \"44\": 1, \"4\": 8, \"32\": 1, \"52\": 1, \"48\": 2, \"13\": 1, \"30\": 1}, \"8\": {\"8\": 137, \"14\": 2, \"20\": 9, \"27\": 1, \"9\": 1, \"41\": 1, \"57\": 1}, \"22\": {\"22\": 86, \"56\": 6, \"47\": 9, \"30\": 6, \"1\": 8, \"0\": 1, \"52\": 5, \"48\": 3, \"5\": 4, \"44\": 7, \"40\": 1}, \"26\": {\"26\": 22, \"51\": 1, \"24\": 1}, \"23\": {\"23\": 119, \"54\": 4, \"24\": 1, \"11\": 3, \"27\": 1, \"8\": 1, \"43\": 3, \"10\": 7, \"15\": 3, \"55\": 1, \"42\": 1, \"28\": 1, \"19\": 1}, \"10\": {\"10\": 90, \"53\": 6, \"23\": 13, \"17\": 2, \"28\": 1}, \"18\": {\"18\": 48}, \"13\": {\"13\": 65, \"48\": 2, \"52\": 9, \"29\": 1, \"40\": 4, \"38\": 2, \"51\": 9, \"30\": 7, \"22\": 1, \"20\": 9, \"47\": 1, \"9\": 1, \"41\": 1, \"56\": 1, \"32\": 1, \"27\": 1, \"8\": 1}, \"30\": {\"40\": 3, \"30\": 75, \"50\": 7, \"3\": 1, \"12\": 4, \"48\": 8, \"22\": 10, \"5\": 4, \"4\": 1, \"44\": 2, \"52\": 6, \"46\": 1, \"56\": 1, \"0\": 1, \"57\": 1, \"45\": 1, \"47\": 2}, \"42\": {\"13\": 2, \"42\": 21, \"24\": 2, \"17\": 7, \"23\": 1, \"43\": 1, \"55\": 1, \"10\": 1}, \"31\": {\"31\": 25, \"7\": 2, \"43\": 1}, \"46\": {\"45\": 9, \"46\": 66, \"50\": 14, \"6\": 14, \"12\": 11, \"3\": 9, \"5\": 3, \"44\": 1, \"21\": 1}, \"57\": {\"57\": 56, \"13\": 1, \"36\": 1, \"9\": 14, \"27\": 21, \"54\": 1, \"2\": 1, \"8\": 10, \"4\": 13, \"56\": 1, \"40\": 3, \"1\": 5, \"29\": 7, \"47\": 4, \"38\": 1, \"48\": 2, \"14\": 1}, \"47\": {\"5\": 1, \"56\": 10, \"2\": 3, \"47\": 62, \"0\": 5, \"4\": 10, \"1\": 9, \"22\": 3, \"48\": 18, \"46\": 1, \"40\": 7, \"44\": 3, \"45\": 1, \"29\": 1, \"30\": 3, \"14\": 1}, \"35\": {\"35\": 31, \"34\": 1}, \"15\": {\"15\": 121, \"24\": 1, \"16\": 2, \"53\": 1, \"19\": 1, \"23\": 2, \"11\": 3, \"10\": 1}, \"25\": {\"25\": 127, \"16\": 2, \"15\": 1, \"11\": 6}, \"19\": {\"34\": 2, \"19\": 97, \"29\": 2, \"31\": 1, \"55\": 4, \"15\": 4, \"10\": 4, \"16\": 1, \"23\": 10, \"43\": 2, \"32\": 1, \"53\": 1, \"11\": 3, \"42\": 1, \"7\": 1, \"9\": 1, \"17\": 1}, \"51\": {\"51\": 102, \"8\": 9, \"27\": 2, \"47\": 1, \"4\": 1, \"54\": 2, \"13\": 3, \"33\": 1, \"20\": 4, \"55\": 1, \"40\": 1, \"57\": 1}, \"53\": {\"53\": 104, \"24\": 3, \"17\": 6, \"43\": 8, \"29\": 2, \"10\": 4, \"33\": 1, \"49\": 1, \"23\": 3, \"47\": 1, \"27\": 1}, \"21\": {\"21\": 117, \"46\": 1, \"56\": 1, \"12\": 1}, \"39\": {\"7\": 3, \"39\": 20, \"47\": 1, \"4\": 1, \"30\": 1, \"48\": 1, \"1\": 1}, \"2\": {\"47\": 3, \"2\": 24, \"13\": 1, \"36\": 2, \"4\": 2}, \"16\": {\"16\": 127, \"15\": 8, \"11\": 12, \"53\": 1, \"10\": 2}, \"0\": {\"40\": 5, \"0\": 25, \"56\": 2, \"5\": 3, \"1\": 4, \"47\": 1, \"30\": 5, \"22\": 2, \"52\": 1}, \"3\": {\"3\": 35, \"45\": 14, \"21\": 6, \"22\": 1, \"30\": 2, \"44\": 3, \"12\": 3, \"50\": 8, \"6\": 9, \"46\": 2, \"5\": 7, \"52\": 2}, \"27\": {\"27\": 108, \"33\": 1, \"57\": 11, \"9\": 8, \"55\": 5, \"8\": 3, \"29\": 3, \"41\": 1, \"51\": 1, \"54\": 1}, \"28\": {\"28\": 25, \"10\": 2, \"33\": 1}, \"29\": {\"29\": 78, \"39\": 4, \"36\": 4, \"32\": 1, \"47\": 1, \"9\": 10, \"55\": 4, \"57\": 11, \"50\": 1, \"5\": 2, \"1\": 2, \"27\": 6, \"4\": 1, \"46\": 1, \"44\": 1, \"12\": 1}}}, \"per_domain_accuracy\": {\"O_14\": {\"accuracy\": 0.7080729166666667, \"source?\": true}, \"O_20\": {\"accuracy\": 0.9153645833333334, \"source?\": true}, \"O_38\": {\"accuracy\": 0.52890625, \"source?\": true}, \"O_8\": {\"accuracy\": 0.7453125, \"source?\": true}, \"O_50\": {\"accuracy\": 0.49505208333333334, \"source?\": true}, \"O_32\": {\"accuracy\": 0.4635416666666667, \"source?\": true}, \"O_26\": {\"accuracy\": 0.30052083333333335, \"source?\": true}, \"O_44\": {\"accuracy\": 0.4734375, \"source?\": true}, \"C_3\": {\"accuracy\": 0.6662427325581395, \"source?\": false}, \"C_4\": {\"accuracy\": 0.6708333333333333, \"source?\": false}, \"C_5\": {\"accuracy\": 0.6854050279329609, \"source?\": false}, \"C_1\": {\"accuracy\": 0.7317281420765027, \"source?\": false}, \"C_2\": {\"accuracy\": 0.6777895480225988, \"source?\": false}}}, \"history\": {\"epoch_indices\": [1, 2, 3, 4, 5], \"train_label_loss\": [0.47417159468833625, 0.5901555614734423, 0.3897345763681057, 0.3103302161655544, 0.2805398902137919], \"source_val_label_loss\": [74.3559799194336, 0.3650378882884979, 0.332570880651474, 0.31298431754112244, 0.2721298336982727], \"target_val_label_loss\": [5216.76171875, 5690.10888671875, 8390.1513671875, 8988.70703125, 10083.4208984375], \"source_val_acc_label\": [0.5787760416666666, 0.8683919270833333, 0.8807942708333333, 0.8849934895833333, 0.9015625], \"target_val_acc_label\": [0.6870362442922374, 0.5944634703196348, 0.5252925228310502, 0.538670091324201, 0.5328196347031964]}, \"dataset_metrics\": {\"source\": {\"train\": {\"n_unique_x\": 179200, \"n_unique_y\": 16, \"n_batch/episode\": 6720}, \"val\": {\"n_unique_x\": 38400, \"n_unique_y\": 16, \"n_batch/episode\": 960}, \"test\": {\"n_unique_x\": 38400, \"n_unique_y\": 16, \"n_batch/episode\": 960}}, \"target\": {\"train\": {\"n_unique_x\": 175212, \"n_unique_y\": 58, \"n_batch/episode\": 6322}, \"val\": {\"n_unique_x\": 37196, \"n_unique_y\": 58, \"n_batch/episode\": 876}, \"test\": {\"n_unique_x\": 37634, \"n_unique_y\": 58, \"n_batch/episode\": 891}}}}'"
      ]
     },
     "execution_count": 29,
     "metadata": {},
     "output_type": "execute_result"
    }
   ],
   "source": [
    "json.dumps(experiment)"
   ]
  }
 ],
 "metadata": {
  "celltoolbar": "Tags",
  "kernelspec": {
   "display_name": "Python 3 (ipykernel)",
   "language": "python",
   "name": "python3"
  },
  "language_info": {
   "codemirror_mode": {
    "name": "ipython",
    "version": 3
   },
   "file_extension": ".py",
   "mimetype": "text/x-python",
   "name": "python",
   "nbconvert_exporter": "python",
   "pygments_lexer": "ipython3",
   "version": "3.8.10"
  },
  "papermill": {
   "default_parameters": {},
   "duration": 1626.862861,
   "end_time": "2022-03-25T22:46:00.499548",
   "environment_variables": {},
   "exception": null,
   "input_path": "/mnt/wd500GB/CSC500/csc500-main/csc500-notebooks/templates/tl_ptn_template.ipynb",
   "output_path": "trial.ipynb",
   "parameters": {
    "parameters": {
     "BEST_MODEL_PATH": "./best_model.pth",
     "NUM_LOGS_PER_EPOCH": 10,
     "criteria_for_best": "target_accuracy",
     "dataset_seed": 1337,
     "datasets": [
      {
       "domain_prefix": "C_",
       "domains": [
        1,
        2,
        3,
        4,
        5
       ],
       "episode_transforms": [],
       "labels": [
        "1-10.",
        "1-11.",
        "1-15.",
        "1-16.",
        "1-17.",
        "1-18.",
        "1-19.",
        "10-4.",
        "10-7.",
        "11-1.",
        "11-14.",
        "11-17.",
        "11-20.",
        "11-7.",
        "13-20.",
        "13-8.",
        "14-10.",
        "14-11.",
        "14-14.",
        "14-7.",
        "15-1.",
        "15-20.",
        "16-1.",
        "16-16.",
        "17-10.",
        "17-11.",
        "17-2.",
        "19-1.",
        "19-16.",
        "19-19.",
        "19-20.",
        "19-3.",
        "2-10.",
        "2-11.",
        "2-17.",
        "2-18.",
        "2-20.",
        "2-3.",
        "2-4.",
        "2-5.",
        "2-6.",
        "2-7.",
        "2-8.",
        "3-13.",
        "3-18.",
        "3-3.",
        "4-1.",
        "4-10.",
        "4-11.",
        "4-19.",
        "5-5.",
        "6-15.",
        "7-10.",
        "7-14.",
        "8-18.",
        "8-20.",
        "8-3.",
        "8-8."
       ],
       "num_examples_per_domain_per_label": -1,
       "pickle_path": "/mnt/wd500GB/CSC500/csc500-main/datasets/cores.stratified_ds.2022A.pkl",
       "source_or_target_dataset": "target",
       "x_transforms": [
        "lowpass_+/-10MHz",
        "take_200"
       ]
      },
      {
       "domain_prefix": "O_",
       "domains": [
        32,
        38,
        8,
        44,
        14,
        50,
        20,
        26
       ],
       "episode_transforms": [],
       "labels": [
        "3123D52",
        "3123D65",
        "3123D79",
        "3123D80",
        "3123D54",
        "3123D70",
        "3123D7B",
        "3123D89",
        "3123D58",
        "3123D76",
        "3123D7D",
        "3123EFE",
        "3123D64",
        "3123D78",
        "3123D7E",
        "3124E4A"
       ],
       "num_examples_per_domain_per_label": 2000,
       "pickle_path": "/mnt/wd500GB/CSC500/csc500-main/datasets/oracle.Run1_framed_2000Examples_stratified_ds.2022A.pkl",
       "source_or_target_dataset": "source",
       "x_transforms": [
        "take_200",
        "resample_20Msps_to_25Msps"
       ]
      }
     ],
     "device": "cuda",
     "experiment_name": "tl_3-filterv2:oracle.run1.framed -> cores",
     "lr": 0.0001,
     "n_epoch": 50,
     "n_query": 2,
     "n_shot": 3,
     "n_way": 16,
     "patience": 3,
     "seed": 1337,
     "test_k_factor": 2,
     "torch_default_dtype": "torch.float32",
     "train_k_factor": 3,
     "val_k_factor": 2,
     "x_net": [
      {
       "class": "nnReshape",
       "kargs": {
        "shape": [
         -1,
         1,
         2,
         200
        ]
       }
      },
      {
       "class": "Conv2d",
       "kargs": {
        "bias": false,
        "in_channels": 1,
        "kernel_size": [
         1,
         7
        ],
        "out_channels": 256,
        "padding": [
         0,
         3
        ]
       }
      },
      {
       "class": "ReLU",
       "kargs": {
        "inplace": true
       }
      },
      {
       "class": "BatchNorm2d",
       "kargs": {
        "num_features": 256
       }
      },
      {
       "class": "Conv2d",
       "kargs": {
        "bias": true,
        "in_channels": 256,
        "kernel_size": [
         2,
         7
        ],
        "out_channels": 80,
        "padding": [
         0,
         3
        ]
       }
      },
      {
       "class": "ReLU",
       "kargs": {
        "inplace": true
       }
      },
      {
       "class": "BatchNorm2d",
       "kargs": {
        "num_features": 80
       }
      },
      {
       "class": "Flatten",
       "kargs": {}
      },
      {
       "class": "Linear",
       "kargs": {
        "in_features": 16000,
        "out_features": 256
       }
      },
      {
       "class": "ReLU",
       "kargs": {
        "inplace": true
       }
      },
      {
       "class": "BatchNorm1d",
       "kargs": {
        "num_features": 256
       }
      },
      {
       "class": "Linear",
       "kargs": {
        "in_features": 256,
        "out_features": 256
       }
      }
     ],
     "x_shape": [
      2,
      200
     ]
    }
   },
   "start_time": "2022-03-25T22:18:53.636687",
   "version": "2.3.4"
  }
 },
 "nbformat": 4,
 "nbformat_minor": 5
}