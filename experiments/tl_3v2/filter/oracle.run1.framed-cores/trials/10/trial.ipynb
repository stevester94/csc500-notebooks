{
 "cells": [
  {
   "cell_type": "markdown",
   "id": "9fea5f46",
   "metadata": {
    "papermill": {
     "duration": 0.02227,
     "end_time": "2022-03-26T02:03:53.280512",
     "exception": false,
     "start_time": "2022-03-26T02:03:53.258242",
     "status": "completed"
    },
    "tags": []
   },
   "source": [
    "# Transfer Learning Template"
   ]
  },
  {
   "cell_type": "code",
   "execution_count": 1,
   "id": "0902182a",
   "metadata": {
    "execution": {
     "iopub.execute_input": "2022-03-26T02:03:53.337714Z",
     "iopub.status.busy": "2022-03-26T02:03:53.337254Z",
     "iopub.status.idle": "2022-03-26T02:03:54.392832Z",
     "shell.execute_reply": "2022-03-26T02:03:54.392403Z"
    },
    "papermill": {
     "duration": 1.090775,
     "end_time": "2022-03-26T02:03:54.392932",
     "exception": false,
     "start_time": "2022-03-26T02:03:53.302157",
     "status": "completed"
    },
    "tags": []
   },
   "outputs": [],
   "source": [
    "%load_ext autoreload\n",
    "%autoreload 2\n",
    "%matplotlib inline\n",
    "\n",
    "    \n",
    "import os, json, sys, time, random\n",
    "import numpy as np\n",
    "import torch\n",
    "from torch.optim import Adam\n",
    "from  easydict import EasyDict\n",
    "import matplotlib.pyplot as plt\n",
    "\n",
    "from steves_models.steves_ptn import Steves_Prototypical_Network\n",
    "\n",
    "from steves_utils.lazy_iterable_wrapper import Lazy_Iterable_Wrapper\n",
    "from steves_utils.iterable_aggregator import Iterable_Aggregator\n",
    "from steves_utils.ptn_train_eval_test_jig import  PTN_Train_Eval_Test_Jig\n",
    "from steves_utils.torch_sequential_builder import build_sequential\n",
    "from steves_utils.torch_utils import get_dataset_metrics, ptn_confusion_by_domain_over_dataloader\n",
    "from steves_utils.utils_v2 import (per_domain_accuracy_from_confusion, get_datasets_base_path)\n",
    "from steves_utils.PTN.utils import independent_accuracy_assesment\n",
    "\n",
    "from torch.utils.data import DataLoader\n",
    "\n",
    "from steves_utils.stratified_dataset.episodic_accessor import Episodic_Accessor_Factory\n",
    "\n",
    "from steves_utils.ptn_do_report import (\n",
    "    get_loss_curve,\n",
    "    get_results_table,\n",
    "    get_parameters_table,\n",
    "    get_domain_accuracies,\n",
    ")\n",
    "\n",
    "from steves_utils.transforms import get_chained_transform"
   ]
  },
  {
   "cell_type": "markdown",
   "id": "41c840b4",
   "metadata": {
    "papermill": {
     "duration": 0.01318,
     "end_time": "2022-03-26T02:03:54.424084",
     "exception": false,
     "start_time": "2022-03-26T02:03:54.410904",
     "status": "completed"
    },
    "tags": []
   },
   "source": [
    "# Allowed Parameters\n",
    "These are allowed parameters, not defaults\n",
    "Each of these values need to be present in the injected parameters (the notebook will raise an exception if they are not present)\n",
    "\n",
    "Papermill uses the cell tag \"parameters\" to inject the real parameters below this cell.\n",
    "Enable tags to see what I mean"
   ]
  },
  {
   "cell_type": "code",
   "execution_count": 2,
   "id": "fd44eb83",
   "metadata": {
    "execution": {
     "iopub.execute_input": "2022-03-26T02:03:54.453360Z",
     "iopub.status.busy": "2022-03-26T02:03:54.452157Z",
     "iopub.status.idle": "2022-03-26T02:03:54.468966Z",
     "shell.execute_reply": "2022-03-26T02:03:54.469488Z"
    },
    "papermill": {
     "duration": 0.03244,
     "end_time": "2022-03-26T02:03:54.469639",
     "exception": false,
     "start_time": "2022-03-26T02:03:54.437199",
     "status": "completed"
    },
    "tags": []
   },
   "outputs": [],
   "source": [
    "required_parameters = {\n",
    "    \"experiment_name\",\n",
    "    \"lr\",\n",
    "    \"device\",\n",
    "    \"seed\",\n",
    "    \"dataset_seed\",\n",
    "    \"n_shot\",\n",
    "    \"n_query\",\n",
    "    \"n_way\",\n",
    "    \"train_k_factor\",\n",
    "    \"val_k_factor\",\n",
    "    \"test_k_factor\",\n",
    "    \"n_epoch\",\n",
    "    \"patience\",\n",
    "    \"criteria_for_best\",\n",
    "    \"x_net\",\n",
    "    \"datasets\",\n",
    "    \"torch_default_dtype\",\n",
    "    \"NUM_LOGS_PER_EPOCH\",\n",
    "    \"BEST_MODEL_PATH\",\n",
    "    \"x_shape\",\n",
    "}"
   ]
  },
  {
   "cell_type": "code",
   "execution_count": 3,
   "id": "fa3f0049",
   "metadata": {
    "execution": {
     "iopub.execute_input": "2022-03-26T02:03:54.521703Z",
     "iopub.status.busy": "2022-03-26T02:03:54.513755Z",
     "iopub.status.idle": "2022-03-26T02:03:54.536574Z",
     "shell.execute_reply": "2022-03-26T02:03:54.536329Z"
    },
    "papermill": {
     "duration": 0.045172,
     "end_time": "2022-03-26T02:03:54.536637",
     "exception": false,
     "start_time": "2022-03-26T02:03:54.491465",
     "status": "completed"
    },
    "tags": [
     "parameters"
    ]
   },
   "outputs": [],
   "source": [
    "from steves_utils.CORES.utils import (\n",
    "    ALL_NODES,\n",
    "    ALL_NODES_MINIMUM_1000_EXAMPLES,\n",
    "    ALL_DAYS\n",
    ")\n",
    "\n",
    "from steves_utils.ORACLE.utils_v2 import (\n",
    "    ALL_DISTANCES_FEET_NARROWED,\n",
    "    ALL_RUNS,\n",
    "    ALL_SERIAL_NUMBERS,\n",
    ")\n",
    "\n",
    "standalone_parameters = {}\n",
    "standalone_parameters[\"experiment_name\"] = \"STANDALONE PTN\"\n",
    "standalone_parameters[\"lr\"] = 0.001\n",
    "standalone_parameters[\"device\"] = \"cuda\"\n",
    "\n",
    "standalone_parameters[\"seed\"] = 1337\n",
    "standalone_parameters[\"dataset_seed\"] = 1337\n",
    "\n",
    "standalone_parameters[\"n_way\"] = 8\n",
    "standalone_parameters[\"n_shot\"] = 3\n",
    "standalone_parameters[\"n_query\"]  = 2\n",
    "standalone_parameters[\"train_k_factor\"] = 1\n",
    "standalone_parameters[\"val_k_factor\"] = 2\n",
    "standalone_parameters[\"test_k_factor\"] = 2\n",
    "\n",
    "\n",
    "standalone_parameters[\"n_epoch\"] = 50\n",
    "\n",
    "standalone_parameters[\"patience\"] = 10\n",
    "standalone_parameters[\"criteria_for_best\"] = \"source_loss\"\n",
    "\n",
    "standalone_parameters[\"datasets\"] = [\n",
    "    {\n",
    "        \"labels\": ALL_SERIAL_NUMBERS,\n",
    "        \"domains\": ALL_DISTANCES_FEET_NARROWED,\n",
    "        \"num_examples_per_domain_per_label\": 100,\n",
    "        \"pickle_path\": os.path.join(get_datasets_base_path(), \"oracle.Run1_framed_2000Examples_stratified_ds.2022A.pkl\"),\n",
    "        \"source_or_target_dataset\": \"source\",\n",
    "        \"x_transforms\": [\"unit_mag\", \"minus_two\"],\n",
    "        \"episode_transforms\": [],\n",
    "        \"domain_prefix\": \"ORACLE_\"\n",
    "    },\n",
    "    {\n",
    "        \"labels\": ALL_NODES,\n",
    "        \"domains\": ALL_DAYS,\n",
    "        \"num_examples_per_domain_per_label\": 100,\n",
    "        \"pickle_path\": os.path.join(get_datasets_base_path(), \"cores.stratified_ds.2022A.pkl\"),\n",
    "        \"source_or_target_dataset\": \"target\",\n",
    "        \"x_transforms\": [\"unit_power\", \"times_zero\"],\n",
    "        \"episode_transforms\": [],\n",
    "        \"domain_prefix\": \"CORES_\"\n",
    "    }   \n",
    "]\n",
    "\n",
    "standalone_parameters[\"torch_default_dtype\"] = \"torch.float32\" \n",
    "\n",
    "\n",
    "\n",
    "standalone_parameters[\"x_net\"] =     [\n",
    "    {\"class\": \"nnReshape\", \"kargs\": {\"shape\":[-1, 1, 2, 256]}},\n",
    "    {\"class\": \"Conv2d\", \"kargs\": { \"in_channels\":1, \"out_channels\":256, \"kernel_size\":(1,7), \"bias\":False, \"padding\":(0,3), },},\n",
    "    {\"class\": \"ReLU\", \"kargs\": {\"inplace\": True}},\n",
    "    {\"class\": \"BatchNorm2d\", \"kargs\": {\"num_features\":256}},\n",
    "\n",
    "    {\"class\": \"Conv2d\", \"kargs\": { \"in_channels\":256, \"out_channels\":80, \"kernel_size\":(2,7), \"bias\":True, \"padding\":(0,3), },},\n",
    "    {\"class\": \"ReLU\", \"kargs\": {\"inplace\": True}},\n",
    "    {\"class\": \"BatchNorm2d\", \"kargs\": {\"num_features\":80}},\n",
    "    {\"class\": \"Flatten\", \"kargs\": {}},\n",
    "\n",
    "    {\"class\": \"Linear\", \"kargs\": {\"in_features\": 80*256, \"out_features\": 256}}, # 80 units per IQ pair\n",
    "    {\"class\": \"ReLU\", \"kargs\": {\"inplace\": True}},\n",
    "    {\"class\": \"BatchNorm1d\", \"kargs\": {\"num_features\":256}},\n",
    "\n",
    "    {\"class\": \"Linear\", \"kargs\": {\"in_features\": 256, \"out_features\": 256}},\n",
    "]\n",
    "\n",
    "# Parameters relevant to results\n",
    "# These parameters will basically never need to change\n",
    "standalone_parameters[\"NUM_LOGS_PER_EPOCH\"] = 10\n",
    "standalone_parameters[\"BEST_MODEL_PATH\"] = \"./best_model.pth\"\n",
    "\n",
    "\n",
    "\n",
    "\n"
   ]
  },
  {
   "cell_type": "code",
   "execution_count": 4,
   "id": "8ab0026a",
   "metadata": {
    "execution": {
     "iopub.execute_input": "2022-03-26T02:03:54.577700Z",
     "iopub.status.busy": "2022-03-26T02:03:54.577262Z",
     "iopub.status.idle": "2022-03-26T02:03:54.592570Z",
     "shell.execute_reply": "2022-03-26T02:03:54.592223Z"
    },
    "papermill": {
     "duration": 0.039048,
     "end_time": "2022-03-26T02:03:54.592655",
     "exception": false,
     "start_time": "2022-03-26T02:03:54.553607",
     "status": "completed"
    },
    "tags": [
     "injected-parameters"
    ]
   },
   "outputs": [],
   "source": [
    "# Parameters\n",
    "parameters = {\n",
    "    \"experiment_name\": \"tl_3-filterv2:oracle.run1.framed -> cores\",\n",
    "    \"device\": \"cuda\",\n",
    "    \"lr\": 0.0001,\n",
    "    \"x_shape\": [2, 200],\n",
    "    \"n_shot\": 3,\n",
    "    \"n_query\": 2,\n",
    "    \"train_k_factor\": 3,\n",
    "    \"val_k_factor\": 2,\n",
    "    \"test_k_factor\": 2,\n",
    "    \"torch_default_dtype\": \"torch.float32\",\n",
    "    \"n_epoch\": 50,\n",
    "    \"patience\": 3,\n",
    "    \"criteria_for_best\": \"target_accuracy\",\n",
    "    \"x_net\": [\n",
    "        {\"class\": \"nnReshape\", \"kargs\": {\"shape\": [-1, 1, 2, 200]}},\n",
    "        {\n",
    "            \"class\": \"Conv2d\",\n",
    "            \"kargs\": {\n",
    "                \"in_channels\": 1,\n",
    "                \"out_channels\": 256,\n",
    "                \"kernel_size\": [1, 7],\n",
    "                \"bias\": False,\n",
    "                \"padding\": [0, 3],\n",
    "            },\n",
    "        },\n",
    "        {\"class\": \"ReLU\", \"kargs\": {\"inplace\": True}},\n",
    "        {\"class\": \"BatchNorm2d\", \"kargs\": {\"num_features\": 256}},\n",
    "        {\n",
    "            \"class\": \"Conv2d\",\n",
    "            \"kargs\": {\n",
    "                \"in_channels\": 256,\n",
    "                \"out_channels\": 80,\n",
    "                \"kernel_size\": [2, 7],\n",
    "                \"bias\": True,\n",
    "                \"padding\": [0, 3],\n",
    "            },\n",
    "        },\n",
    "        {\"class\": \"ReLU\", \"kargs\": {\"inplace\": True}},\n",
    "        {\"class\": \"BatchNorm2d\", \"kargs\": {\"num_features\": 80}},\n",
    "        {\"class\": \"Flatten\", \"kargs\": {}},\n",
    "        {\"class\": \"Linear\", \"kargs\": {\"in_features\": 16000, \"out_features\": 256}},\n",
    "        {\"class\": \"ReLU\", \"kargs\": {\"inplace\": True}},\n",
    "        {\"class\": \"BatchNorm1d\", \"kargs\": {\"num_features\": 256}},\n",
    "        {\"class\": \"Linear\", \"kargs\": {\"in_features\": 256, \"out_features\": 256}},\n",
    "    ],\n",
    "    \"NUM_LOGS_PER_EPOCH\": 10,\n",
    "    \"BEST_MODEL_PATH\": \"./best_model.pth\",\n",
    "    \"n_way\": 16,\n",
    "    \"datasets\": [\n",
    "        {\n",
    "            \"labels\": [\n",
    "                \"1-10.\",\n",
    "                \"1-11.\",\n",
    "                \"1-15.\",\n",
    "                \"1-16.\",\n",
    "                \"1-17.\",\n",
    "                \"1-18.\",\n",
    "                \"1-19.\",\n",
    "                \"10-4.\",\n",
    "                \"10-7.\",\n",
    "                \"11-1.\",\n",
    "                \"11-14.\",\n",
    "                \"11-17.\",\n",
    "                \"11-20.\",\n",
    "                \"11-7.\",\n",
    "                \"13-20.\",\n",
    "                \"13-8.\",\n",
    "                \"14-10.\",\n",
    "                \"14-11.\",\n",
    "                \"14-14.\",\n",
    "                \"14-7.\",\n",
    "                \"15-1.\",\n",
    "                \"15-20.\",\n",
    "                \"16-1.\",\n",
    "                \"16-16.\",\n",
    "                \"17-10.\",\n",
    "                \"17-11.\",\n",
    "                \"17-2.\",\n",
    "                \"19-1.\",\n",
    "                \"19-16.\",\n",
    "                \"19-19.\",\n",
    "                \"19-20.\",\n",
    "                \"19-3.\",\n",
    "                \"2-10.\",\n",
    "                \"2-11.\",\n",
    "                \"2-17.\",\n",
    "                \"2-18.\",\n",
    "                \"2-20.\",\n",
    "                \"2-3.\",\n",
    "                \"2-4.\",\n",
    "                \"2-5.\",\n",
    "                \"2-6.\",\n",
    "                \"2-7.\",\n",
    "                \"2-8.\",\n",
    "                \"3-13.\",\n",
    "                \"3-18.\",\n",
    "                \"3-3.\",\n",
    "                \"4-1.\",\n",
    "                \"4-10.\",\n",
    "                \"4-11.\",\n",
    "                \"4-19.\",\n",
    "                \"5-5.\",\n",
    "                \"6-15.\",\n",
    "                \"7-10.\",\n",
    "                \"7-14.\",\n",
    "                \"8-18.\",\n",
    "                \"8-20.\",\n",
    "                \"8-3.\",\n",
    "                \"8-8.\",\n",
    "            ],\n",
    "            \"domains\": [1, 2, 3, 4, 5],\n",
    "            \"num_examples_per_domain_per_label\": -1,\n",
    "            \"pickle_path\": \"/mnt/wd500GB/CSC500/csc500-main/datasets/cores.stratified_ds.2022A.pkl\",\n",
    "            \"source_or_target_dataset\": \"target\",\n",
    "            \"x_transforms\": [\"unit_mag\", \"lowpass_+/-10MHz\", \"take_200\"],\n",
    "            \"episode_transforms\": [],\n",
    "            \"domain_prefix\": \"C_\",\n",
    "        },\n",
    "        {\n",
    "            \"labels\": [\n",
    "                \"3123D52\",\n",
    "                \"3123D65\",\n",
    "                \"3123D79\",\n",
    "                \"3123D80\",\n",
    "                \"3123D54\",\n",
    "                \"3123D70\",\n",
    "                \"3123D7B\",\n",
    "                \"3123D89\",\n",
    "                \"3123D58\",\n",
    "                \"3123D76\",\n",
    "                \"3123D7D\",\n",
    "                \"3123EFE\",\n",
    "                \"3123D64\",\n",
    "                \"3123D78\",\n",
    "                \"3123D7E\",\n",
    "                \"3124E4A\",\n",
    "            ],\n",
    "            \"domains\": [32, 38, 8, 44, 14, 50, 20, 26],\n",
    "            \"num_examples_per_domain_per_label\": 2000,\n",
    "            \"pickle_path\": \"/mnt/wd500GB/CSC500/csc500-main/datasets/oracle.Run1_framed_2000Examples_stratified_ds.2022A.pkl\",\n",
    "            \"source_or_target_dataset\": \"source\",\n",
    "            \"x_transforms\": [\"unit_mag\", \"take_200\", \"resample_20Msps_to_25Msps\"],\n",
    "            \"episode_transforms\": [],\n",
    "            \"domain_prefix\": \"O_\",\n",
    "        },\n",
    "    ],\n",
    "    \"seed\": 7,\n",
    "    \"dataset_seed\": 7,\n",
    "}\n"
   ]
  },
  {
   "cell_type": "code",
   "execution_count": 5,
   "id": "8fa1cc33",
   "metadata": {
    "execution": {
     "iopub.execute_input": "2022-03-26T02:03:54.632734Z",
     "iopub.status.busy": "2022-03-26T02:03:54.632458Z",
     "iopub.status.idle": "2022-03-26T02:03:54.644481Z",
     "shell.execute_reply": "2022-03-26T02:03:54.644901Z"
    },
    "papermill": {
     "duration": 0.03035,
     "end_time": "2022-03-26T02:03:54.645032",
     "exception": false,
     "start_time": "2022-03-26T02:03:54.614682",
     "status": "completed"
    },
    "tags": []
   },
   "outputs": [],
   "source": [
    "# Set this to True if you want to run this template directly\n",
    "STANDALONE = False\n",
    "if STANDALONE:\n",
    "    print(\"parameters not injected, running with standalone_parameters\")\n",
    "    parameters = standalone_parameters\n",
    "\n",
    "if not 'parameters' in locals() and not 'parameters' in globals():\n",
    "    raise Exception(\"Parameter injection failed\")\n",
    "\n",
    "#Use an easy dict for all the parameters\n",
    "p = EasyDict(parameters)\n",
    "\n",
    "if \"x_shape\" not in p:\n",
    "    p.x_shape = [2,256] # Default to this if we dont supply x_shape\n",
    "\n",
    "\n",
    "supplied_keys = set(p.keys())\n",
    "\n",
    "if  supplied_keys != required_parameters:\n",
    "    print(\"Parameters are incorrect\")\n",
    "    if len(supplied_keys - required_parameters)>0: print(\"Shouldn't have:\", str(supplied_keys - required_parameters))\n",
    "    if len(required_parameters - supplied_keys)>0: print(\"Need to have:\", str(required_parameters - supplied_keys))\n",
    "    raise RuntimeError(\"Parameters are incorrect\")"
   ]
  },
  {
   "cell_type": "code",
   "execution_count": 6,
   "id": "3a028d58",
   "metadata": {
    "execution": {
     "iopub.execute_input": "2022-03-26T02:03:54.679962Z",
     "iopub.status.busy": "2022-03-26T02:03:54.679698Z",
     "iopub.status.idle": "2022-03-26T02:03:54.691573Z",
     "shell.execute_reply": "2022-03-26T02:03:54.691119Z"
    },
    "papermill": {
     "duration": 0.028044,
     "end_time": "2022-03-26T02:03:54.691679",
     "exception": false,
     "start_time": "2022-03-26T02:03:54.663635",
     "status": "completed"
    },
    "tags": []
   },
   "outputs": [],
   "source": [
    "###################################\n",
    "# Set the RNGs and make it all deterministic\n",
    "###################################\n",
    "np.random.seed(p.seed)\n",
    "random.seed(p.seed)\n",
    "torch.manual_seed(p.seed)\n",
    "\n",
    "torch.use_deterministic_algorithms(True) "
   ]
  },
  {
   "cell_type": "code",
   "execution_count": 7,
   "id": "b691acf6",
   "metadata": {
    "execution": {
     "iopub.execute_input": "2022-03-26T02:03:54.728306Z",
     "iopub.status.busy": "2022-03-26T02:03:54.728036Z",
     "iopub.status.idle": "2022-03-26T02:03:54.743115Z",
     "shell.execute_reply": "2022-03-26T02:03:54.743533Z"
    },
    "papermill": {
     "duration": 0.032337,
     "end_time": "2022-03-26T02:03:54.743662",
     "exception": false,
     "start_time": "2022-03-26T02:03:54.711325",
     "status": "completed"
    },
    "tags": []
   },
   "outputs": [],
   "source": [
    "###########################################\n",
    "# The stratified datasets honor this\n",
    "###########################################\n",
    "torch.set_default_dtype(eval(p.torch_default_dtype))"
   ]
  },
  {
   "cell_type": "code",
   "execution_count": 8,
   "id": "b5fba671",
   "metadata": {
    "execution": {
     "iopub.execute_input": "2022-03-26T02:03:54.779611Z",
     "iopub.status.busy": "2022-03-26T02:03:54.779344Z",
     "iopub.status.idle": "2022-03-26T02:03:54.816274Z",
     "shell.execute_reply": "2022-03-26T02:03:54.816707Z"
    },
    "papermill": {
     "duration": 0.054341,
     "end_time": "2022-03-26T02:03:54.816840",
     "exception": false,
     "start_time": "2022-03-26T02:03:54.762499",
     "status": "completed"
    },
    "tags": []
   },
   "outputs": [],
   "source": [
    "###################################\n",
    "# Build the network(s)\n",
    "# Note: It's critical to do this AFTER setting the RNG\n",
    "###################################\n",
    "x_net = build_sequential(p.x_net)"
   ]
  },
  {
   "cell_type": "code",
   "execution_count": 9,
   "id": "5d7e61cc",
   "metadata": {
    "execution": {
     "iopub.execute_input": "2022-03-26T02:03:54.853973Z",
     "iopub.status.busy": "2022-03-26T02:03:54.853708Z",
     "iopub.status.idle": "2022-03-26T02:03:54.868035Z",
     "shell.execute_reply": "2022-03-26T02:03:54.868342Z"
    },
    "papermill": {
     "duration": 0.03174,
     "end_time": "2022-03-26T02:03:54.868448",
     "exception": false,
     "start_time": "2022-03-26T02:03:54.836708",
     "status": "completed"
    },
    "tags": []
   },
   "outputs": [],
   "source": [
    "start_time_secs = time.time()"
   ]
  },
  {
   "cell_type": "code",
   "execution_count": 10,
   "id": "c6b67dfd",
   "metadata": {
    "execution": {
     "iopub.execute_input": "2022-03-26T02:03:54.904247Z",
     "iopub.status.busy": "2022-03-26T02:03:54.903981Z",
     "iopub.status.idle": "2022-03-26T02:03:54.916885Z",
     "shell.execute_reply": "2022-03-26T02:03:54.917195Z"
    },
    "papermill": {
     "duration": 0.030496,
     "end_time": "2022-03-26T02:03:54.917301",
     "exception": false,
     "start_time": "2022-03-26T02:03:54.886805",
     "status": "completed"
    },
    "tags": []
   },
   "outputs": [],
   "source": [
    "p.domains_source = []\n",
    "p.domains_target = []\n",
    "\n",
    "\n",
    "train_original_source = []\n",
    "val_original_source   = []\n",
    "test_original_source  = []\n",
    "\n",
    "train_original_target = []\n",
    "val_original_target   = []\n",
    "test_original_target  = []"
   ]
  },
  {
   "cell_type": "code",
   "execution_count": 11,
   "id": "e3d9c3d3",
   "metadata": {
    "execution": {
     "iopub.execute_input": "2022-03-26T02:03:54.953933Z",
     "iopub.status.busy": "2022-03-26T02:03:54.953658Z",
     "iopub.status.idle": "2022-03-26T02:03:54.967702Z",
     "shell.execute_reply": "2022-03-26T02:03:54.968103Z"
    },
    "papermill": {
     "duration": 0.031385,
     "end_time": "2022-03-26T02:03:54.968239",
     "exception": false,
     "start_time": "2022-03-26T02:03:54.936854",
     "status": "completed"
    },
    "tags": []
   },
   "outputs": [],
   "source": [
    "# global_x_transform_func = lambda x: normalize(x.to(torch.get_default_dtype()), \"unit_power\") # unit_power, unit_mag\n",
    "# global_x_transform_func = lambda x: normalize(x, \"unit_power\") # unit_power, unit_mag"
   ]
  },
  {
   "cell_type": "code",
   "execution_count": 12,
   "id": "acb78fd2",
   "metadata": {
    "execution": {
     "iopub.execute_input": "2022-03-26T02:03:55.011122Z",
     "iopub.status.busy": "2022-03-26T02:03:55.004600Z",
     "iopub.status.idle": "2022-03-26T02:03:55.025028Z",
     "shell.execute_reply": "2022-03-26T02:03:55.025527Z"
    },
    "papermill": {
     "duration": 0.037301,
     "end_time": "2022-03-26T02:03:55.025722",
     "exception": false,
     "start_time": "2022-03-26T02:03:54.988421",
     "status": "completed"
    },
    "tags": []
   },
   "outputs": [],
   "source": [
    "def add_dataset(\n",
    "    labels,\n",
    "    domains,\n",
    "    pickle_path,\n",
    "    x_transforms,\n",
    "    episode_transforms,\n",
    "    domain_prefix,\n",
    "    num_examples_per_domain_per_label,\n",
    "    source_or_target_dataset:str,\n",
    "    iterator_seed=p.seed,\n",
    "    dataset_seed=p.dataset_seed,\n",
    "    n_shot=p.n_shot,\n",
    "    n_way=p.n_way,\n",
    "    n_query=p.n_query,\n",
    "    train_val_test_k_factors=(p.train_k_factor,p.val_k_factor,p.test_k_factor),\n",
    "):\n",
    "   \n",
    "    if x_transforms == []: x_transform = None\n",
    "    else: x_transform = get_chained_transform(x_transforms)\n",
    "    \n",
    "    if episode_transforms == []: episode_transform = None\n",
    "    else: raise Exception(\"episode_transforms not implemented\")\n",
    "    \n",
    "    episode_transform = lambda tup, _prefix=domain_prefix: (_prefix + str(tup[0]), tup[1])\n",
    "\n",
    "\n",
    "    eaf = Episodic_Accessor_Factory(\n",
    "        labels=labels,\n",
    "        domains=domains,\n",
    "        num_examples_per_domain_per_label=num_examples_per_domain_per_label,\n",
    "        iterator_seed=iterator_seed,\n",
    "        dataset_seed=dataset_seed,\n",
    "        n_shot=n_shot,\n",
    "        n_way=n_way,\n",
    "        n_query=n_query,\n",
    "        train_val_test_k_factors=train_val_test_k_factors,\n",
    "        pickle_path=pickle_path,\n",
    "        x_transform_func=x_transform,\n",
    "    )\n",
    "\n",
    "    train, val, test = eaf.get_train(), eaf.get_val(), eaf.get_test()\n",
    "    train = Lazy_Iterable_Wrapper(train, episode_transform)\n",
    "    val = Lazy_Iterable_Wrapper(val, episode_transform)\n",
    "    test = Lazy_Iterable_Wrapper(test, episode_transform)\n",
    "\n",
    "    if source_or_target_dataset==\"source\":\n",
    "        train_original_source.append(train)\n",
    "        val_original_source.append(val)\n",
    "        test_original_source.append(test)\n",
    "\n",
    "        p.domains_source.extend(\n",
    "            [domain_prefix + str(u) for u in domains]\n",
    "        )\n",
    "    elif source_or_target_dataset==\"target\":\n",
    "        train_original_target.append(train)\n",
    "        val_original_target.append(val)\n",
    "        test_original_target.append(test)\n",
    "        p.domains_target.extend(\n",
    "            [domain_prefix + str(u) for u in domains]\n",
    "        )\n",
    "    else:\n",
    "        raise Exception(f\"invalid source_or_target_dataset: {source_or_target_dataset}\")\n",
    "    "
   ]
  },
  {
   "cell_type": "code",
   "execution_count": 13,
   "id": "fe266617",
   "metadata": {
    "execution": {
     "iopub.execute_input": "2022-03-26T02:03:55.060633Z",
     "iopub.status.busy": "2022-03-26T02:03:55.060376Z",
     "iopub.status.idle": "2022-03-26T02:04:49.840881Z",
     "shell.execute_reply": "2022-03-26T02:04:49.840439Z"
    },
    "papermill": {
     "duration": 54.797611,
     "end_time": "2022-03-26T02:04:49.841000",
     "exception": false,
     "start_time": "2022-03-26T02:03:55.043389",
     "status": "completed"
    },
    "tags": []
   },
   "outputs": [],
   "source": [
    "for ds in p.datasets:\n",
    "    add_dataset(**ds)"
   ]
  },
  {
   "cell_type": "code",
   "execution_count": 14,
   "id": "b90d65ac",
   "metadata": {
    "execution": {
     "iopub.execute_input": "2022-03-26T02:04:49.875939Z",
     "iopub.status.busy": "2022-03-26T02:04:49.875676Z",
     "iopub.status.idle": "2022-03-26T02:04:49.892555Z",
     "shell.execute_reply": "2022-03-26T02:04:49.892059Z"
    },
    "papermill": {
     "duration": 0.032939,
     "end_time": "2022-03-26T02:04:49.892658",
     "exception": false,
     "start_time": "2022-03-26T02:04:49.859719",
     "status": "completed"
    },
    "tags": []
   },
   "outputs": [],
   "source": [
    "# from steves_utils.CORES.utils import (\n",
    "#     ALL_NODES,\n",
    "#     ALL_NODES_MINIMUM_1000_EXAMPLES,\n",
    "#     ALL_DAYS\n",
    "# )\n",
    "\n",
    "# add_dataset(\n",
    "#     labels=ALL_NODES,\n",
    "#     domains = ALL_DAYS,\n",
    "#     num_examples_per_domain_per_label=100,\n",
    "#     pickle_path=os.path.join(get_datasets_base_path(), \"cores.stratified_ds.2022A.pkl\"),\n",
    "#     source_or_target_dataset=\"target\",\n",
    "#     x_transform_func=global_x_transform_func,\n",
    "#     domain_modifier=lambda u: f\"cores_{u}\"\n",
    "# )"
   ]
  },
  {
   "cell_type": "code",
   "execution_count": 15,
   "id": "76db484d",
   "metadata": {
    "execution": {
     "iopub.execute_input": "2022-03-26T02:04:49.926792Z",
     "iopub.status.busy": "2022-03-26T02:04:49.926522Z",
     "iopub.status.idle": "2022-03-26T02:04:49.937890Z",
     "shell.execute_reply": "2022-03-26T02:04:49.937563Z"
    },
    "papermill": {
     "duration": 0.02671,
     "end_time": "2022-03-26T02:04:49.938022",
     "exception": false,
     "start_time": "2022-03-26T02:04:49.911312",
     "status": "completed"
    },
    "tags": []
   },
   "outputs": [],
   "source": [
    "# from steves_utils.ORACLE.utils_v2 import (\n",
    "#     ALL_DISTANCES_FEET,\n",
    "#     ALL_RUNS,\n",
    "#     ALL_SERIAL_NUMBERS,\n",
    "# )\n",
    "\n",
    "\n",
    "# add_dataset(\n",
    "#     labels=ALL_SERIAL_NUMBERS,\n",
    "#     domains = list(set(ALL_DISTANCES_FEET) - {2,62}),\n",
    "#     num_examples_per_domain_per_label=100,\n",
    "#     pickle_path=os.path.join(get_datasets_base_path(), \"oracle.Run2_framed_2000Examples_stratified_ds.2022A.pkl\"),\n",
    "#     source_or_target_dataset=\"source\",\n",
    "#     x_transform_func=global_x_transform_func,\n",
    "#     domain_modifier=lambda u: f\"oracle1_{u}\"\n",
    "# )\n"
   ]
  },
  {
   "cell_type": "code",
   "execution_count": 16,
   "id": "97dea9d2",
   "metadata": {
    "execution": {
     "iopub.execute_input": "2022-03-26T02:04:49.974564Z",
     "iopub.status.busy": "2022-03-26T02:04:49.974295Z",
     "iopub.status.idle": "2022-03-26T02:04:49.991764Z",
     "shell.execute_reply": "2022-03-26T02:04:49.991305Z"
    },
    "papermill": {
     "duration": 0.033292,
     "end_time": "2022-03-26T02:04:49.991868",
     "exception": false,
     "start_time": "2022-03-26T02:04:49.958576",
     "status": "completed"
    },
    "tags": []
   },
   "outputs": [],
   "source": [
    "# from steves_utils.ORACLE.utils_v2 import (\n",
    "#     ALL_DISTANCES_FEET,\n",
    "#     ALL_RUNS,\n",
    "#     ALL_SERIAL_NUMBERS,\n",
    "# )\n",
    "\n",
    "\n",
    "# add_dataset(\n",
    "#     labels=ALL_SERIAL_NUMBERS,\n",
    "#     domains = list(set(ALL_DISTANCES_FEET) - {2,62,56}),\n",
    "#     num_examples_per_domain_per_label=100,\n",
    "#     pickle_path=os.path.join(get_datasets_base_path(), \"oracle.Run2_framed_2000Examples_stratified_ds.2022A.pkl\"),\n",
    "#     source_or_target_dataset=\"source\",\n",
    "#     x_transform_func=global_x_transform_func,\n",
    "#     domain_modifier=lambda u: f\"oracle2_{u}\"\n",
    "# )"
   ]
  },
  {
   "cell_type": "code",
   "execution_count": 17,
   "id": "6f289866",
   "metadata": {
    "execution": {
     "iopub.execute_input": "2022-03-26T02:04:50.026731Z",
     "iopub.status.busy": "2022-03-26T02:04:50.026463Z",
     "iopub.status.idle": "2022-03-26T02:04:50.038163Z",
     "shell.execute_reply": "2022-03-26T02:04:50.037632Z"
    },
    "papermill": {
     "duration": 0.026991,
     "end_time": "2022-03-26T02:04:50.038269",
     "exception": false,
     "start_time": "2022-03-26T02:04:50.011278",
     "status": "completed"
    },
    "tags": []
   },
   "outputs": [],
   "source": [
    "# add_dataset(\n",
    "#     labels=list(range(19)),\n",
    "#     domains = [0,1,2],\n",
    "#     num_examples_per_domain_per_label=100,\n",
    "#     pickle_path=os.path.join(get_datasets_base_path(), \"metehan.stratified_ds.2022A.pkl\"),\n",
    "#     source_or_target_dataset=\"target\",\n",
    "#     x_transform_func=global_x_transform_func,\n",
    "#     domain_modifier=lambda u: f\"met_{u}\"\n",
    "# )"
   ]
  },
  {
   "cell_type": "code",
   "execution_count": 18,
   "id": "86a863c3",
   "metadata": {
    "execution": {
     "iopub.execute_input": "2022-03-26T02:04:50.073370Z",
     "iopub.status.busy": "2022-03-26T02:04:50.073099Z",
     "iopub.status.idle": "2022-03-26T02:04:50.084396Z",
     "shell.execute_reply": "2022-03-26T02:04:50.083978Z"
    },
    "papermill": {
     "duration": 0.027231,
     "end_time": "2022-03-26T02:04:50.084501",
     "exception": false,
     "start_time": "2022-03-26T02:04:50.057270",
     "status": "completed"
    },
    "tags": []
   },
   "outputs": [],
   "source": [
    "# # from steves_utils.wisig.utils import (\n",
    "# #     ALL_NODES_MINIMUM_100_EXAMPLES,\n",
    "# #     ALL_NODES_MINIMUM_500_EXAMPLES,\n",
    "# #     ALL_NODES_MINIMUM_1000_EXAMPLES,\n",
    "# #     ALL_DAYS\n",
    "# # )\n",
    "\n",
    "# import steves_utils.wisig.utils as wisig\n",
    "\n",
    "\n",
    "# add_dataset(\n",
    "#     labels=wisig.ALL_NODES_MINIMUM_100_EXAMPLES,\n",
    "#     domains = wisig.ALL_DAYS,\n",
    "#     num_examples_per_domain_per_label=100,\n",
    "#     pickle_path=os.path.join(get_datasets_base_path(), \"wisig.node3-19.stratified_ds.2022A.pkl\"),\n",
    "#     source_or_target_dataset=\"target\",\n",
    "#     x_transform_func=global_x_transform_func,\n",
    "#     domain_modifier=lambda u: f\"wisig_{u}\"\n",
    "# )"
   ]
  },
  {
   "cell_type": "code",
   "execution_count": 19,
   "id": "fd5442bc",
   "metadata": {
    "execution": {
     "iopub.execute_input": "2022-03-26T02:04:50.121640Z",
     "iopub.status.busy": "2022-03-26T02:04:50.121358Z",
     "iopub.status.idle": "2022-03-26T02:04:50.137310Z",
     "shell.execute_reply": "2022-03-26T02:04:50.137700Z"
    },
    "papermill": {
     "duration": 0.034064,
     "end_time": "2022-03-26T02:04:50.137828",
     "exception": false,
     "start_time": "2022-03-26T02:04:50.103764",
     "status": "completed"
    },
    "tags": []
   },
   "outputs": [],
   "source": [
    "###################################\n",
    "# Build the dataset\n",
    "###################################\n",
    "train_original_source = Iterable_Aggregator(train_original_source, p.seed)\n",
    "val_original_source = Iterable_Aggregator(val_original_source, p.seed)\n",
    "test_original_source = Iterable_Aggregator(test_original_source, p.seed)\n",
    "\n",
    "\n",
    "train_original_target = Iterable_Aggregator(train_original_target, p.seed)\n",
    "val_original_target = Iterable_Aggregator(val_original_target, p.seed)\n",
    "test_original_target = Iterable_Aggregator(test_original_target, p.seed)\n",
    "\n",
    "# For CNN We only use X and Y. And we only train on the source.\n",
    "# Properly form the data using a transform lambda and Lazy_Iterable_Wrapper. Finally wrap them in a dataloader\n",
    "\n",
    "transform_lambda = lambda ex: ex[1] # Original is (<domain>, <episode>) so we strip down to episode only\n",
    "\n",
    "train_processed_source = Lazy_Iterable_Wrapper(train_original_source, transform_lambda)\n",
    "val_processed_source   = Lazy_Iterable_Wrapper(val_original_source, transform_lambda)\n",
    "test_processed_source  = Lazy_Iterable_Wrapper(test_original_source, transform_lambda)\n",
    "\n",
    "train_processed_target = Lazy_Iterable_Wrapper(train_original_target, transform_lambda)\n",
    "val_processed_target   = Lazy_Iterable_Wrapper(val_original_target, transform_lambda)\n",
    "test_processed_target  = Lazy_Iterable_Wrapper(test_original_target, transform_lambda)\n",
    "\n",
    "datasets = EasyDict({\n",
    "    \"source\": {\n",
    "        \"original\": {\"train\":train_original_source, \"val\":val_original_source, \"test\":test_original_source},\n",
    "        \"processed\": {\"train\":train_processed_source, \"val\":val_processed_source, \"test\":test_processed_source}\n",
    "    },\n",
    "    \"target\": {\n",
    "        \"original\": {\"train\":train_original_target, \"val\":val_original_target, \"test\":test_original_target},\n",
    "        \"processed\": {\"train\":train_processed_target, \"val\":val_processed_target, \"test\":test_processed_target}\n",
    "    },\n",
    "})"
   ]
  },
  {
   "cell_type": "code",
   "execution_count": 20,
   "id": "5b3c01fc",
   "metadata": {
    "execution": {
     "iopub.execute_input": "2022-03-26T02:04:50.173021Z",
     "iopub.status.busy": "2022-03-26T02:04:50.172749Z",
     "iopub.status.idle": "2022-03-26T02:04:57.127485Z",
     "shell.execute_reply": "2022-03-26T02:04:57.127754Z"
    },
    "papermill": {
     "duration": 6.971061,
     "end_time": "2022-03-26T02:04:57.127838",
     "exception": false,
     "start_time": "2022-03-26T02:04:50.156777",
     "status": "completed"
    },
    "tags": []
   },
   "outputs": [
    {
     "name": "stdout",
     "output_type": "stream",
     "text": [
      "{'O_8', 'O_14', 'O_26', 'O_32', 'O_50', 'O_38', 'O_44', 'O_20'}\n"
     ]
    },
    {
     "name": "stdout",
     "output_type": "stream",
     "text": [
      "{'C_5', 'C_4', 'C_2', 'C_1', 'C_3'}\n"
     ]
    },
    {
     "name": "stdout",
     "output_type": "stream",
     "text": [
      "tensor([[[ 8.7811e-01,  1.0491e+00, -5.2810e-01,  ...,  6.3614e-01,\n",
      "           6.5089e-01,  1.1922e+00],\n",
      "         [-5.5415e-01,  1.2967e-01,  9.7587e-01,  ...,  9.3159e-01,\n",
      "           7.4736e-01, -3.6365e-01]],\n",
      "\n",
      "        [[ 4.5133e-01,  1.2198e+00,  4.4993e-02,  ...,  5.5299e-01,\n",
      "          -4.7954e-01,  6.0680e-01],\n",
      "         [-3.8053e-01,  5.2255e-01,  6.2250e-01,  ...,  4.0995e-01,\n",
      "           1.1655e+00,  6.3729e-01]],\n",
      "\n",
      "        [[-3.5217e-01, -8.1919e-01,  2.1608e-01,  ..., -5.3617e-01,\n",
      "           1.0090e+00,  3.5920e-02],\n",
      "         [ 2.6413e-01, -8.1648e-01, -7.2088e-01,  ..., -4.8177e-01,\n",
      "          -9.7086e-01, -8.0159e-01]],\n",
      "\n",
      "        ...,\n",
      "\n",
      "        [[-4.3317e-01, -1.1566e+00, -1.0410e-01,  ..., -9.3470e-01,\n",
      "          -9.2491e-01, -1.1399e+00],\n",
      "         [ 1.0277e+00,  5.0329e-01, -1.0004e+00,  ..., -5.2228e-01,\n",
      "          -5.3969e-01,  5.8592e-01]],\n",
      "\n",
      "        [[ 5.3353e-01,  2.1818e-01, -6.2163e-01,  ..., -4.8091e-02,\n",
      "          -1.2558e+00, -2.9783e-01],\n",
      "         [-4.8914e-16,  1.1586e+00,  3.5970e-01,  ...,  7.4092e-01,\n",
      "           1.8264e-01,  7.9458e-01]],\n",
      "\n",
      "        [[ 9.3520e-01,  9.0946e-01, -7.0035e-01,  ...,  4.2561e-01,\n",
      "           6.1819e-01,  1.3908e+00],\n",
      "         [-5.2755e-01,  2.1641e-01,  9.0133e-01,  ...,  9.1893e-01,\n",
      "           6.7785e-01, -2.5718e-01]]])\n"
     ]
    }
   ],
   "source": [
    "from steves_utils.transforms import get_average_magnitude, get_average_power\n",
    "\n",
    "print(set([u for u,_ in val_original_source]))\n",
    "print(set([u for u,_ in val_original_target]))\n",
    "\n",
    "s_x, s_y, q_x, q_y, _ = next(iter(train_processed_source))\n",
    "print(s_x)\n",
    "\n",
    "# for ds in [\n",
    "#     train_processed_source,\n",
    "#     val_processed_source,\n",
    "#     test_processed_source,\n",
    "#     train_processed_target,\n",
    "#     val_processed_target,\n",
    "#     test_processed_target\n",
    "# ]:\n",
    "#     for s_x, s_y, q_x, q_y, _ in ds:\n",
    "#         for X in (s_x, q_x):\n",
    "#             for x in X:\n",
    "#                 assert np.isclose(get_average_magnitude(x.numpy()), 1.0)\n",
    "#                 assert np.isclose(get_average_power(x.numpy()), 1.0)\n",
    "                "
   ]
  },
  {
   "cell_type": "code",
   "execution_count": 21,
   "id": "bbdacba1",
   "metadata": {
    "execution": {
     "iopub.execute_input": "2022-03-26T02:04:57.171218Z",
     "iopub.status.busy": "2022-03-26T02:04:57.170528Z",
     "iopub.status.idle": "2022-03-26T02:04:57.217427Z",
     "shell.execute_reply": "2022-03-26T02:04:57.216927Z"
    },
    "papermill": {
     "duration": 0.074369,
     "end_time": "2022-03-26T02:04:57.217539",
     "exception": false,
     "start_time": "2022-03-26T02:04:57.143170",
     "status": "completed"
    },
    "tags": []
   },
   "outputs": [
    {
     "name": "stdout",
     "output_type": "stream",
     "text": [
      "(2, 200)\n"
     ]
    }
   ],
   "source": [
    "###################################\n",
    "# Build the model\n",
    "###################################\n",
    "# easfsl only wants a tuple for the shape\n",
    "model = Steves_Prototypical_Network(x_net, device=p.device, x_shape=tuple(p.x_shape))\n",
    "optimizer = Adam(params=model.parameters(), lr=p.lr)"
   ]
  },
  {
   "cell_type": "code",
   "execution_count": 22,
   "id": "22b39ac5",
   "metadata": {
    "execution": {
     "iopub.execute_input": "2022-03-26T02:04:57.256162Z",
     "iopub.status.busy": "2022-03-26T02:04:57.253736Z",
     "iopub.status.idle": "2022-03-26T03:05:10.900314Z",
     "shell.execute_reply": "2022-03-26T03:05:10.900076Z"
    },
    "papermill": {
     "duration": 3613.663323,
     "end_time": "2022-03-26T03:05:10.900375",
     "exception": false,
     "start_time": "2022-03-26T02:04:57.237052",
     "status": "completed"
    },
    "tags": []
   },
   "outputs": [
    {
     "name": "stdout",
     "output_type": "stream",
     "text": [
      "epoch: 1, [batch: 1 / 6720], examples_per_second: 46.5322, train_label_loss: 3.0509, \n"
     ]
    },
    {
     "name": "stdout",
     "output_type": "stream",
     "text": [
      "epoch: 1, [batch: 672 / 6720], examples_per_second: 1861.3552, train_label_loss: 1.6593, \n"
     ]
    },
    {
     "name": "stdout",
     "output_type": "stream",
     "text": [
      "epoch: 1, [batch: 1344 / 6720], examples_per_second: 1863.0891, train_label_loss: 0.7659, \n"
     ]
    },
    {
     "name": "stdout",
     "output_type": "stream",
     "text": [
      "epoch: 1, [batch: 2016 / 6720], examples_per_second: 1865.8298, train_label_loss: 0.9190, \n"
     ]
    },
    {
     "name": "stdout",
     "output_type": "stream",
     "text": [
      "epoch: 1, [batch: 2688 / 6720], examples_per_second: 1860.1842, train_label_loss: 0.8042, \n"
     ]
    },
    {
     "name": "stdout",
     "output_type": "stream",
     "text": [
      "epoch: 1, [batch: 3360 / 6720], examples_per_second: 1862.9135, train_label_loss: 0.6731, \n"
     ]
    },
    {
     "name": "stdout",
     "output_type": "stream",
     "text": [
      "epoch: 1, [batch: 4032 / 6720], examples_per_second: 1864.2187, train_label_loss: 1.0924, \n"
     ]
    },
    {
     "name": "stdout",
     "output_type": "stream",
     "text": [
      "epoch: 1, [batch: 4704 / 6720], examples_per_second: 2273.4903, train_label_loss: 1.3880, \n"
     ]
    },
    {
     "name": "stdout",
     "output_type": "stream",
     "text": [
      "epoch: 1, [batch: 5376 / 6720], examples_per_second: 2231.4292, train_label_loss: 1.1954, \n"
     ]
    },
    {
     "name": "stdout",
     "output_type": "stream",
     "text": [
      "epoch: 1, [batch: 6048 / 6720], examples_per_second: 1862.8074, train_label_loss: 0.7746, \n"
     ]
    },
    {
     "name": "stdout",
     "output_type": "stream",
     "text": [
      "=============================================================\n",
      "epoch: 1, source_val_acc_label: 0.6647, target_val_acc_label: 0.5655, source_val_label_loss: 7.6592, target_val_label_loss: 1605.9854, \n",
      "=============================================================\n"
     ]
    },
    {
     "name": "stdout",
     "output_type": "stream",
     "text": [
      "New best\n"
     ]
    },
    {
     "name": "stdout",
     "output_type": "stream",
     "text": [
      "epoch: 2, [batch: 1 / 6720], examples_per_second: 2.7200, train_label_loss: 1.4052, \n"
     ]
    },
    {
     "name": "stdout",
     "output_type": "stream",
     "text": [
      "epoch: 2, [batch: 672 / 6720], examples_per_second: 1866.5358, train_label_loss: 1.3741, \n"
     ]
    },
    {
     "name": "stdout",
     "output_type": "stream",
     "text": [
      "epoch: 2, [batch: 1344 / 6720], examples_per_second: 1865.2319, train_label_loss: 0.7381, \n"
     ]
    },
    {
     "name": "stdout",
     "output_type": "stream",
     "text": [
      "epoch: 2, [batch: 2016 / 6720], examples_per_second: 1867.8277, train_label_loss: 0.8147, \n"
     ]
    },
    {
     "name": "stdout",
     "output_type": "stream",
     "text": [
      "epoch: 2, [batch: 2688 / 6720], examples_per_second: 1860.8547, train_label_loss: 0.8503, \n"
     ]
    },
    {
     "name": "stdout",
     "output_type": "stream",
     "text": [
      "epoch: 2, [batch: 3360 / 6720], examples_per_second: 1865.6401, train_label_loss: 0.7194, \n"
     ]
    },
    {
     "name": "stdout",
     "output_type": "stream",
     "text": [
      "epoch: 2, [batch: 4032 / 6720], examples_per_second: 1864.3321, train_label_loss: 0.6207, \n"
     ]
    },
    {
     "name": "stdout",
     "output_type": "stream",
     "text": [
      "epoch: 2, [batch: 4704 / 6720], examples_per_second: 2262.9940, train_label_loss: 1.1406, \n"
     ]
    },
    {
     "name": "stdout",
     "output_type": "stream",
     "text": [
      "epoch: 2, [batch: 5376 / 6720], examples_per_second: 2227.7268, train_label_loss: 0.2857, \n"
     ]
    },
    {
     "name": "stdout",
     "output_type": "stream",
     "text": [
      "epoch: 2, [batch: 6048 / 6720], examples_per_second: 1862.8966, train_label_loss: 0.6904, \n"
     ]
    },
    {
     "name": "stdout",
     "output_type": "stream",
     "text": [
      "=============================================================\n",
      "epoch: 2, source_val_acc_label: 0.7064, target_val_acc_label: 0.6418, source_val_label_loss: 0.7919, target_val_label_loss: 207.2150, \n",
      "=============================================================\n"
     ]
    },
    {
     "name": "stdout",
     "output_type": "stream",
     "text": [
      "New best\n"
     ]
    },
    {
     "name": "stdout",
     "output_type": "stream",
     "text": [
      "epoch: 3, [batch: 1 / 6720], examples_per_second: 2.7110, train_label_loss: 0.4240, \n"
     ]
    },
    {
     "name": "stdout",
     "output_type": "stream",
     "text": [
      "epoch: 3, [batch: 672 / 6720], examples_per_second: 1863.1449, train_label_loss: 1.0961, \n"
     ]
    },
    {
     "name": "stdout",
     "output_type": "stream",
     "text": [
      "epoch: 3, [batch: 1344 / 6720], examples_per_second: 1864.9349, train_label_loss: 0.3662, \n"
     ]
    },
    {
     "name": "stdout",
     "output_type": "stream",
     "text": [
      "epoch: 3, [batch: 2016 / 6720], examples_per_second: 1869.9672, train_label_loss: 0.8427, \n"
     ]
    },
    {
     "name": "stdout",
     "output_type": "stream",
     "text": [
      "epoch: 3, [batch: 2688 / 6720], examples_per_second: 1861.7678, train_label_loss: 0.6376, \n"
     ]
    },
    {
     "name": "stdout",
     "output_type": "stream",
     "text": [
      "epoch: 3, [batch: 3360 / 6720], examples_per_second: 1865.3378, train_label_loss: 0.8667, \n"
     ]
    },
    {
     "name": "stdout",
     "output_type": "stream",
     "text": [
      "epoch: 3, [batch: 4032 / 6720], examples_per_second: 1864.9867, train_label_loss: 0.7337, \n"
     ]
    },
    {
     "name": "stdout",
     "output_type": "stream",
     "text": [
      "epoch: 3, [batch: 4704 / 6720], examples_per_second: 2286.5946, train_label_loss: 0.4348, \n"
     ]
    },
    {
     "name": "stdout",
     "output_type": "stream",
     "text": [
      "epoch: 3, [batch: 5376 / 6720], examples_per_second: 2247.1883, train_label_loss: 0.6411, \n"
     ]
    },
    {
     "name": "stdout",
     "output_type": "stream",
     "text": [
      "epoch: 3, [batch: 6048 / 6720], examples_per_second: 1864.1885, train_label_loss: 0.6811, \n"
     ]
    },
    {
     "name": "stdout",
     "output_type": "stream",
     "text": [
      "=============================================================\n",
      "epoch: 3, source_val_acc_label: 0.7526, target_val_acc_label: 0.6274, source_val_label_loss: 0.6636, target_val_label_loss: 179.3508, \n",
      "=============================================================\n"
     ]
    },
    {
     "name": "stdout",
     "output_type": "stream",
     "text": [
      "epoch: 4, [batch: 1 / 6720], examples_per_second: 2.7183, train_label_loss: 0.7087, \n"
     ]
    },
    {
     "name": "stdout",
     "output_type": "stream",
     "text": [
      "epoch: 4, [batch: 672 / 6720], examples_per_second: 1865.9773, train_label_loss: 0.2806, \n"
     ]
    },
    {
     "name": "stdout",
     "output_type": "stream",
     "text": [
      "epoch: 4, [batch: 1344 / 6720], examples_per_second: 1862.9632, train_label_loss: 0.4139, \n"
     ]
    },
    {
     "name": "stdout",
     "output_type": "stream",
     "text": [
      "epoch: 4, [batch: 2016 / 6720], examples_per_second: 1870.1367, train_label_loss: 0.3772, \n"
     ]
    },
    {
     "name": "stdout",
     "output_type": "stream",
     "text": [
      "epoch: 4, [batch: 2688 / 6720], examples_per_second: 1861.5402, train_label_loss: 0.3213, \n"
     ]
    },
    {
     "name": "stdout",
     "output_type": "stream",
     "text": [
      "epoch: 4, [batch: 3360 / 6720], examples_per_second: 1864.9495, train_label_loss: 0.5520, \n"
     ]
    },
    {
     "name": "stdout",
     "output_type": "stream",
     "text": [
      "epoch: 4, [batch: 4032 / 6720], examples_per_second: 1864.2087, train_label_loss: 0.2838, \n"
     ]
    },
    {
     "name": "stdout",
     "output_type": "stream",
     "text": [
      "epoch: 4, [batch: 4704 / 6720], examples_per_second: 2276.9113, train_label_loss: 1.1041, \n"
     ]
    },
    {
     "name": "stdout",
     "output_type": "stream",
     "text": [
      "epoch: 4, [batch: 5376 / 6720], examples_per_second: 2254.0946, train_label_loss: 0.3381, \n"
     ]
    },
    {
     "name": "stdout",
     "output_type": "stream",
     "text": [
      "epoch: 4, [batch: 6048 / 6720], examples_per_second: 1865.9894, train_label_loss: 0.5092, \n"
     ]
    },
    {
     "name": "stdout",
     "output_type": "stream",
     "text": [
      "=============================================================\n",
      "epoch: 4, source_val_acc_label: 0.8001, target_val_acc_label: 0.6299, source_val_label_loss: 0.5484, target_val_label_loss: 152.4657, \n",
      "=============================================================\n"
     ]
    },
    {
     "name": "stdout",
     "output_type": "stream",
     "text": [
      "epoch: 5, [batch: 1 / 6720], examples_per_second: 2.7243, train_label_loss: 1.0836, \n"
     ]
    },
    {
     "name": "stdout",
     "output_type": "stream",
     "text": [
      "epoch: 5, [batch: 672 / 6720], examples_per_second: 1863.7712, train_label_loss: 0.6385, \n"
     ]
    },
    {
     "name": "stdout",
     "output_type": "stream",
     "text": [
      "epoch: 5, [batch: 1344 / 6720], examples_per_second: 1865.6319, train_label_loss: 0.1986, \n"
     ]
    },
    {
     "name": "stdout",
     "output_type": "stream",
     "text": [
      "epoch: 5, [batch: 2016 / 6720], examples_per_second: 1868.8144, train_label_loss: 0.3506, \n"
     ]
    },
    {
     "name": "stdout",
     "output_type": "stream",
     "text": [
      "epoch: 5, [batch: 2688 / 6720], examples_per_second: 1860.8390, train_label_loss: 0.2292, \n"
     ]
    },
    {
     "name": "stdout",
     "output_type": "stream",
     "text": [
      "epoch: 5, [batch: 3360 / 6720], examples_per_second: 1864.9427, train_label_loss: 0.4270, \n"
     ]
    },
    {
     "name": "stdout",
     "output_type": "stream",
     "text": [
      "epoch: 5, [batch: 4032 / 6720], examples_per_second: 1865.1773, train_label_loss: 0.5306, \n"
     ]
    },
    {
     "name": "stdout",
     "output_type": "stream",
     "text": [
      "epoch: 5, [batch: 4704 / 6720], examples_per_second: 2250.2097, train_label_loss: 0.4085, \n"
     ]
    },
    {
     "name": "stdout",
     "output_type": "stream",
     "text": [
      "epoch: 5, [batch: 5376 / 6720], examples_per_second: 2272.9913, train_label_loss: 0.3049, \n"
     ]
    },
    {
     "name": "stdout",
     "output_type": "stream",
     "text": [
      "epoch: 5, [batch: 6048 / 6720], examples_per_second: 1864.9641, train_label_loss: 0.1136, \n"
     ]
    },
    {
     "name": "stdout",
     "output_type": "stream",
     "text": [
      "=============================================================\n",
      "epoch: 5, source_val_acc_label: 0.8118, target_val_acc_label: 0.6701, source_val_label_loss: 0.5191, target_val_label_loss: 190.6475, \n",
      "=============================================================\n"
     ]
    },
    {
     "name": "stdout",
     "output_type": "stream",
     "text": [
      "New best\n"
     ]
    },
    {
     "name": "stdout",
     "output_type": "stream",
     "text": [
      "epoch: 6, [batch: 1 / 6720], examples_per_second: 2.7258, train_label_loss: 0.3755, \n"
     ]
    },
    {
     "name": "stdout",
     "output_type": "stream",
     "text": [
      "epoch: 6, [batch: 672 / 6720], examples_per_second: 1865.2613, train_label_loss: 0.5358, \n"
     ]
    },
    {
     "name": "stdout",
     "output_type": "stream",
     "text": [
      "epoch: 6, [batch: 1344 / 6720], examples_per_second: 1865.6189, train_label_loss: 0.4442, \n"
     ]
    },
    {
     "name": "stdout",
     "output_type": "stream",
     "text": [
      "epoch: 6, [batch: 2016 / 6720], examples_per_second: 1869.4821, train_label_loss: 0.3740, \n"
     ]
    },
    {
     "name": "stdout",
     "output_type": "stream",
     "text": [
      "epoch: 6, [batch: 2688 / 6720], examples_per_second: 1861.0072, train_label_loss: 0.2734, \n"
     ]
    },
    {
     "name": "stdout",
     "output_type": "stream",
     "text": [
      "epoch: 6, [batch: 3360 / 6720], examples_per_second: 1866.3241, train_label_loss: 0.6120, \n"
     ]
    },
    {
     "name": "stdout",
     "output_type": "stream",
     "text": [
      "epoch: 6, [batch: 4032 / 6720], examples_per_second: 1865.7811, train_label_loss: 0.1736, \n"
     ]
    },
    {
     "name": "stdout",
     "output_type": "stream",
     "text": [
      "epoch: 6, [batch: 4704 / 6720], examples_per_second: 2236.7371, train_label_loss: 0.3941, \n"
     ]
    },
    {
     "name": "stdout",
     "output_type": "stream",
     "text": [
      "epoch: 6, [batch: 5376 / 6720], examples_per_second: 2266.5683, train_label_loss: 0.4787, \n"
     ]
    },
    {
     "name": "stdout",
     "output_type": "stream",
     "text": [
      "epoch: 6, [batch: 6048 / 6720], examples_per_second: 1866.0777, train_label_loss: 0.4420, \n"
     ]
    },
    {
     "name": "stdout",
     "output_type": "stream",
     "text": [
      "=============================================================\n",
      "epoch: 6, source_val_acc_label: 0.8271, target_val_acc_label: 0.6807, source_val_label_loss: 0.4773, target_val_label_loss: 148.0619, \n",
      "=============================================================\n"
     ]
    },
    {
     "name": "stdout",
     "output_type": "stream",
     "text": [
      "New best\n"
     ]
    },
    {
     "name": "stdout",
     "output_type": "stream",
     "text": [
      "epoch: 7, [batch: 1 / 6720], examples_per_second: 2.7240, train_label_loss: 0.4254, \n"
     ]
    },
    {
     "name": "stdout",
     "output_type": "stream",
     "text": [
      "epoch: 7, [batch: 672 / 6720], examples_per_second: 1864.7215, train_label_loss: 0.2313, \n"
     ]
    },
    {
     "name": "stdout",
     "output_type": "stream",
     "text": [
      "epoch: 7, [batch: 1344 / 6720], examples_per_second: 1864.3529, train_label_loss: 0.4324, \n"
     ]
    },
    {
     "name": "stdout",
     "output_type": "stream",
     "text": [
      "epoch: 7, [batch: 2016 / 6720], examples_per_second: 1869.2670, train_label_loss: 0.3168, \n"
     ]
    },
    {
     "name": "stdout",
     "output_type": "stream",
     "text": [
      "epoch: 7, [batch: 2688 / 6720], examples_per_second: 1858.1460, train_label_loss: 0.1396, \n"
     ]
    },
    {
     "name": "stdout",
     "output_type": "stream",
     "text": [
      "epoch: 7, [batch: 3360 / 6720], examples_per_second: 1865.4338, train_label_loss: 0.1735, \n"
     ]
    },
    {
     "name": "stdout",
     "output_type": "stream",
     "text": [
      "epoch: 7, [batch: 4032 / 6720], examples_per_second: 1865.3138, train_label_loss: 0.1857, \n"
     ]
    },
    {
     "name": "stdout",
     "output_type": "stream",
     "text": [
      "epoch: 7, [batch: 4704 / 6720], examples_per_second: 2228.1324, train_label_loss: 0.3823, \n"
     ]
    },
    {
     "name": "stdout",
     "output_type": "stream",
     "text": [
      "epoch: 7, [batch: 5376 / 6720], examples_per_second: 2282.5403, train_label_loss: 0.4810, \n"
     ]
    },
    {
     "name": "stdout",
     "output_type": "stream",
     "text": [
      "epoch: 7, [batch: 6048 / 6720], examples_per_second: 1864.7598, train_label_loss: 0.4908, \n"
     ]
    },
    {
     "name": "stdout",
     "output_type": "stream",
     "text": [
      "=============================================================\n",
      "epoch: 7, source_val_acc_label: 0.8505, target_val_acc_label: 0.6815, source_val_label_loss: 0.4147, target_val_label_loss: 170.2611, \n",
      "=============================================================\n"
     ]
    },
    {
     "name": "stdout",
     "output_type": "stream",
     "text": [
      "New best\n"
     ]
    },
    {
     "name": "stdout",
     "output_type": "stream",
     "text": [
      "epoch: 8, [batch: 1 / 6720], examples_per_second: 2.7338, train_label_loss: 0.3092, \n"
     ]
    },
    {
     "name": "stdout",
     "output_type": "stream",
     "text": [
      "epoch: 8, [batch: 672 / 6720], examples_per_second: 1865.6635, train_label_loss: 0.3390, \n"
     ]
    },
    {
     "name": "stdout",
     "output_type": "stream",
     "text": [
      "epoch: 8, [batch: 1344 / 6720], examples_per_second: 1865.3265, train_label_loss: 0.3343, \n"
     ]
    },
    {
     "name": "stdout",
     "output_type": "stream",
     "text": [
      "epoch: 8, [batch: 2016 / 6720], examples_per_second: 1870.3704, train_label_loss: 0.8648, \n"
     ]
    },
    {
     "name": "stdout",
     "output_type": "stream",
     "text": [
      "epoch: 8, [batch: 2688 / 6720], examples_per_second: 1861.7988, train_label_loss: 0.7250, \n"
     ]
    },
    {
     "name": "stdout",
     "output_type": "stream",
     "text": [
      "epoch: 8, [batch: 3360 / 6720], examples_per_second: 1864.9506, train_label_loss: 0.2325, \n"
     ]
    },
    {
     "name": "stdout",
     "output_type": "stream",
     "text": [
      "epoch: 8, [batch: 4032 / 6720], examples_per_second: 1865.1840, train_label_loss: 0.2866, \n"
     ]
    },
    {
     "name": "stdout",
     "output_type": "stream",
     "text": [
      "epoch: 8, [batch: 4704 / 6720], examples_per_second: 2209.4971, train_label_loss: 0.2008, \n"
     ]
    },
    {
     "name": "stdout",
     "output_type": "stream",
     "text": [
      "epoch: 8, [batch: 5376 / 6720], examples_per_second: 2299.5399, train_label_loss: 0.4841, \n"
     ]
    },
    {
     "name": "stdout",
     "output_type": "stream",
     "text": [
      "epoch: 8, [batch: 6048 / 6720], examples_per_second: 1865.0097, train_label_loss: 0.6343, \n"
     ]
    },
    {
     "name": "stdout",
     "output_type": "stream",
     "text": [
      "=============================================================\n",
      "epoch: 8, source_val_acc_label: 0.8306, target_val_acc_label: 0.6940, source_val_label_loss: 0.4602, target_val_label_loss: 172.5918, \n",
      "=============================================================\n"
     ]
    },
    {
     "name": "stdout",
     "output_type": "stream",
     "text": [
      "New best\n"
     ]
    },
    {
     "name": "stdout",
     "output_type": "stream",
     "text": [
      "epoch: 9, [batch: 1 / 6720], examples_per_second: 2.7376, train_label_loss: 0.3228, \n"
     ]
    },
    {
     "name": "stdout",
     "output_type": "stream",
     "text": [
      "epoch: 9, [batch: 672 / 6720], examples_per_second: 1865.0919, train_label_loss: 0.2257, \n"
     ]
    },
    {
     "name": "stdout",
     "output_type": "stream",
     "text": [
      "epoch: 9, [batch: 1344 / 6720], examples_per_second: 1864.5895, train_label_loss: 0.2178, \n"
     ]
    },
    {
     "name": "stdout",
     "output_type": "stream",
     "text": [
      "epoch: 9, [batch: 2016 / 6720], examples_per_second: 1871.1173, train_label_loss: 0.3188, \n"
     ]
    },
    {
     "name": "stdout",
     "output_type": "stream",
     "text": [
      "epoch: 9, [batch: 2688 / 6720], examples_per_second: 1859.3535, train_label_loss: 0.2390, \n"
     ]
    },
    {
     "name": "stdout",
     "output_type": "stream",
     "text": [
      "epoch: 9, [batch: 3360 / 6720], examples_per_second: 1866.6993, train_label_loss: 0.4917, \n"
     ]
    },
    {
     "name": "stdout",
     "output_type": "stream",
     "text": [
      "epoch: 9, [batch: 4032 / 6720], examples_per_second: 1864.7146, train_label_loss: 0.2052, \n"
     ]
    },
    {
     "name": "stdout",
     "output_type": "stream",
     "text": [
      "epoch: 9, [batch: 4704 / 6720], examples_per_second: 2200.6271, train_label_loss: 0.1502, \n"
     ]
    },
    {
     "name": "stdout",
     "output_type": "stream",
     "text": [
      "epoch: 9, [batch: 5376 / 6720], examples_per_second: 2313.5908, train_label_loss: 0.2949, \n"
     ]
    },
    {
     "name": "stdout",
     "output_type": "stream",
     "text": [
      "epoch: 9, [batch: 6048 / 6720], examples_per_second: 1865.1421, train_label_loss: 0.3901, \n"
     ]
    },
    {
     "name": "stdout",
     "output_type": "stream",
     "text": [
      "=============================================================\n",
      "epoch: 9, source_val_acc_label: 0.8665, target_val_acc_label: 0.6929, source_val_label_loss: 0.3683, target_val_label_loss: 195.9068, \n",
      "=============================================================\n"
     ]
    },
    {
     "name": "stdout",
     "output_type": "stream",
     "text": [
      "epoch: 10, [batch: 1 / 6720], examples_per_second: 2.7371, train_label_loss: 0.2776, \n"
     ]
    },
    {
     "name": "stdout",
     "output_type": "stream",
     "text": [
      "epoch: 10, [batch: 672 / 6720], examples_per_second: 1864.7249, train_label_loss: 0.9749, \n"
     ]
    },
    {
     "name": "stdout",
     "output_type": "stream",
     "text": [
      "epoch: 10, [batch: 1344 / 6720], examples_per_second: 1865.1063, train_label_loss: 0.2689, \n"
     ]
    },
    {
     "name": "stdout",
     "output_type": "stream",
     "text": [
      "epoch: 10, [batch: 2016 / 6720], examples_per_second: 1869.2799, train_label_loss: 0.2433, \n"
     ]
    },
    {
     "name": "stdout",
     "output_type": "stream",
     "text": [
      "epoch: 10, [batch: 2688 / 6720], examples_per_second: 1861.4856, train_label_loss: 0.3330, \n"
     ]
    },
    {
     "name": "stdout",
     "output_type": "stream",
     "text": [
      "epoch: 10, [batch: 3360 / 6720], examples_per_second: 1866.6661, train_label_loss: 0.2405, \n"
     ]
    },
    {
     "name": "stdout",
     "output_type": "stream",
     "text": [
      "epoch: 10, [batch: 4032 / 6720], examples_per_second: 1866.0535, train_label_loss: 0.3524, \n"
     ]
    },
    {
     "name": "stdout",
     "output_type": "stream",
     "text": [
      "epoch: 10, [batch: 4704 / 6720], examples_per_second: 2184.4872, train_label_loss: 0.2112, \n"
     ]
    },
    {
     "name": "stdout",
     "output_type": "stream",
     "text": [
      "epoch: 10, [batch: 5376 / 6720], examples_per_second: 2338.7331, train_label_loss: 0.2413, \n"
     ]
    },
    {
     "name": "stdout",
     "output_type": "stream",
     "text": [
      "epoch: 10, [batch: 6048 / 6720], examples_per_second: 1864.6539, train_label_loss: 0.0695, \n"
     ]
    },
    {
     "name": "stdout",
     "output_type": "stream",
     "text": [
      "=============================================================\n",
      "epoch: 10, source_val_acc_label: 0.8619, target_val_acc_label: 0.6831, source_val_label_loss: 0.3853, target_val_label_loss: 199.5463, \n",
      "=============================================================\n"
     ]
    },
    {
     "name": "stdout",
     "output_type": "stream",
     "text": [
      "epoch: 11, [batch: 1 / 6720], examples_per_second: 2.7182, train_label_loss: 0.4762, \n"
     ]
    },
    {
     "name": "stdout",
     "output_type": "stream",
     "text": [
      "epoch: 11, [batch: 672 / 6720], examples_per_second: 1863.8507, train_label_loss: 0.1946, \n"
     ]
    },
    {
     "name": "stdout",
     "output_type": "stream",
     "text": [
      "epoch: 11, [batch: 1344 / 6720], examples_per_second: 1862.9199, train_label_loss: 0.7026, \n"
     ]
    },
    {
     "name": "stdout",
     "output_type": "stream",
     "text": [
      "epoch: 11, [batch: 2016 / 6720], examples_per_second: 1869.7022, train_label_loss: 0.1964, \n"
     ]
    },
    {
     "name": "stdout",
     "output_type": "stream",
     "text": [
      "epoch: 11, [batch: 2688 / 6720], examples_per_second: 1860.7665, train_label_loss: 0.3551, \n"
     ]
    },
    {
     "name": "stdout",
     "output_type": "stream",
     "text": [
      "epoch: 11, [batch: 3360 / 6720], examples_per_second: 1865.4329, train_label_loss: 0.0909, \n"
     ]
    },
    {
     "name": "stdout",
     "output_type": "stream",
     "text": [
      "epoch: 11, [batch: 4032 / 6720], examples_per_second: 1865.0489, train_label_loss: 0.7111, \n"
     ]
    },
    {
     "name": "stdout",
     "output_type": "stream",
     "text": [
      "epoch: 11, [batch: 4704 / 6720], examples_per_second: 2173.8878, train_label_loss: 0.4819, \n"
     ]
    },
    {
     "name": "stdout",
     "output_type": "stream",
     "text": [
      "epoch: 11, [batch: 5376 / 6720], examples_per_second: 2313.8097, train_label_loss: 0.1798, \n"
     ]
    },
    {
     "name": "stdout",
     "output_type": "stream",
     "text": [
      "epoch: 11, [batch: 6048 / 6720], examples_per_second: 2347.1421, train_label_loss: 0.1373, \n"
     ]
    },
    {
     "name": "stdout",
     "output_type": "stream",
     "text": [
      "=============================================================\n",
      "epoch: 11, source_val_acc_label: 0.8740, target_val_acc_label: 0.6676, source_val_label_loss: 0.3444, target_val_label_loss: 206.5184, \n",
      "=============================================================\n"
     ]
    },
    {
     "name": "stdout",
     "output_type": "stream",
     "text": [
      "epoch: 12, [batch: 1 / 6720], examples_per_second: 3.3615, train_label_loss: 0.2124, \n"
     ]
    },
    {
     "name": "stdout",
     "output_type": "stream",
     "text": [
      "epoch: 12, [batch: 672 / 6720], examples_per_second: 2966.6997, train_label_loss: 0.0506, \n"
     ]
    },
    {
     "name": "stdout",
     "output_type": "stream",
     "text": [
      "epoch: 12, [batch: 1344 / 6720], examples_per_second: 3602.4414, train_label_loss: 0.6829, \n"
     ]
    },
    {
     "name": "stdout",
     "output_type": "stream",
     "text": [
      "epoch: 12, [batch: 2016 / 6720], examples_per_second: 3607.3556, train_label_loss: 0.1040, \n"
     ]
    },
    {
     "name": "stdout",
     "output_type": "stream",
     "text": [
      "epoch: 12, [batch: 2688 / 6720], examples_per_second: 3556.0002, train_label_loss: 0.1361, \n"
     ]
    },
    {
     "name": "stdout",
     "output_type": "stream",
     "text": [
      "epoch: 12, [batch: 3360 / 6720], examples_per_second: 3597.7205, train_label_loss: 0.1170, \n"
     ]
    },
    {
     "name": "stdout",
     "output_type": "stream",
     "text": [
      "epoch: 12, [batch: 4032 / 6720], examples_per_second: 3128.1481, train_label_loss: 0.4382, \n"
     ]
    },
    {
     "name": "stdout",
     "output_type": "stream",
     "text": [
      "epoch: 12, [batch: 4704 / 6720], examples_per_second: 1858.7545, train_label_loss: 0.2701, \n"
     ]
    },
    {
     "name": "stdout",
     "output_type": "stream",
     "text": [
      "epoch: 12, [batch: 5376 / 6720], examples_per_second: 1861.1664, train_label_loss: 0.3911, \n"
     ]
    },
    {
     "name": "stdout",
     "output_type": "stream",
     "text": [
      "epoch: 12, [batch: 6048 / 6720], examples_per_second: 1862.8532, train_label_loss: 0.2149, \n"
     ]
    },
    {
     "name": "stdout",
     "output_type": "stream",
     "text": [
      "=============================================================\n",
      "epoch: 12, source_val_acc_label: 0.8660, target_val_acc_label: 0.6803, source_val_label_loss: 0.3711, target_val_label_loss: 254.7247, \n",
      "=============================================================\n"
     ]
    },
    {
     "name": "stdout",
     "output_type": "stream",
     "text": [
      "Patience (3) exhausted\n"
     ]
    }
   ],
   "source": [
    "###################################\n",
    "# train\n",
    "###################################\n",
    "jig = PTN_Train_Eval_Test_Jig(model, p.BEST_MODEL_PATH, p.device)\n",
    "\n",
    "jig.train(\n",
    "    train_iterable=datasets.source.processed.train,\n",
    "    source_val_iterable=datasets.source.processed.val,\n",
    "    target_val_iterable=datasets.target.processed.val,\n",
    "    num_epochs=p.n_epoch,\n",
    "    num_logs_per_epoch=p.NUM_LOGS_PER_EPOCH,\n",
    "    patience=p.patience,\n",
    "    optimizer=optimizer,\n",
    "    criteria_for_best=p.criteria_for_best,\n",
    ")"
   ]
  },
  {
   "cell_type": "code",
   "execution_count": 23,
   "id": "31e8fabf",
   "metadata": {
    "execution": {
     "iopub.execute_input": "2022-03-26T03:05:10.985096Z",
     "iopub.status.busy": "2022-03-26T03:05:10.984824Z",
     "iopub.status.idle": "2022-03-26T03:05:11.003681Z",
     "shell.execute_reply": "2022-03-26T03:05:11.003211Z"
    },
    "papermill": {
     "duration": 0.062501,
     "end_time": "2022-03-26T03:05:11.003798",
     "exception": false,
     "start_time": "2022-03-26T03:05:10.941297",
     "status": "completed"
    },
    "tags": []
   },
   "outputs": [],
   "source": [
    "total_experiment_time_secs = time.time() - start_time_secs"
   ]
  },
  {
   "cell_type": "code",
   "execution_count": 24,
   "id": "87b9595b",
   "metadata": {
    "execution": {
     "iopub.execute_input": "2022-03-26T03:05:11.092558Z",
     "iopub.status.busy": "2022-03-26T03:05:11.092212Z",
     "iopub.status.idle": "2022-03-26T03:07:42.182066Z",
     "shell.execute_reply": "2022-03-26T03:07:42.182508Z"
    },
    "papermill": {
     "duration": 151.135676,
     "end_time": "2022-03-26T03:07:42.182647",
     "exception": false,
     "start_time": "2022-03-26T03:05:11.046971",
     "status": "completed"
    },
    "tags": []
   },
   "outputs": [],
   "source": [
    "###################################\n",
    "# Evaluate the model\n",
    "###################################\n",
    "source_test_label_accuracy, source_test_label_loss = jig.test(datasets.source.processed.test)\n",
    "target_test_label_accuracy, target_test_label_loss = jig.test(datasets.target.processed.test)\n",
    "\n",
    "source_val_label_accuracy, source_val_label_loss = jig.test(datasets.source.processed.val)\n",
    "target_val_label_accuracy, target_val_label_loss = jig.test(datasets.target.processed.val)\n",
    "\n",
    "history = jig.get_history()\n",
    "\n",
    "total_epochs_trained = len(history[\"epoch_indices\"])\n",
    "\n",
    "val_dl = Iterable_Aggregator((datasets.source.original.val,datasets.target.original.val))\n",
    "\n",
    "confusion = ptn_confusion_by_domain_over_dataloader(model, p.device, val_dl)\n",
    "per_domain_accuracy = per_domain_accuracy_from_confusion(confusion)\n",
    "\n",
    "# Add a key to per_domain_accuracy for if it was a source domain\n",
    "for domain, accuracy in per_domain_accuracy.items():\n",
    "    per_domain_accuracy[domain] = {\n",
    "        \"accuracy\": accuracy,\n",
    "        \"source?\": domain in p.domains_source\n",
    "    }\n",
    "\n",
    "# Do an independent accuracy assesment JUST TO BE SURE!\n",
    "# _source_test_label_accuracy = independent_accuracy_assesment(model, datasets.source.processed.test, p.device)\n",
    "# _target_test_label_accuracy = independent_accuracy_assesment(model, datasets.target.processed.test, p.device)\n",
    "# _source_val_label_accuracy = independent_accuracy_assesment(model, datasets.source.processed.val, p.device)\n",
    "# _target_val_label_accuracy = independent_accuracy_assesment(model, datasets.target.processed.val, p.device)\n",
    "\n",
    "# assert(_source_test_label_accuracy == source_test_label_accuracy)\n",
    "# assert(_target_test_label_accuracy == target_test_label_accuracy)\n",
    "# assert(_source_val_label_accuracy == source_val_label_accuracy)\n",
    "# assert(_target_val_label_accuracy == target_val_label_accuracy)\n",
    "\n",
    "experiment = {\n",
    "    \"experiment_name\": p.experiment_name,\n",
    "    \"parameters\": dict(p),\n",
    "    \"results\": {\n",
    "        \"source_test_label_accuracy\": source_test_label_accuracy,\n",
    "        \"source_test_label_loss\": source_test_label_loss,\n",
    "        \"target_test_label_accuracy\": target_test_label_accuracy,\n",
    "        \"target_test_label_loss\": target_test_label_loss,\n",
    "        \"source_val_label_accuracy\": source_val_label_accuracy,\n",
    "        \"source_val_label_loss\": source_val_label_loss,\n",
    "        \"target_val_label_accuracy\": target_val_label_accuracy,\n",
    "        \"target_val_label_loss\": target_val_label_loss,\n",
    "        \"total_epochs_trained\": total_epochs_trained,\n",
    "        \"total_experiment_time_secs\": total_experiment_time_secs,\n",
    "        \"confusion\": confusion,\n",
    "        \"per_domain_accuracy\": per_domain_accuracy,\n",
    "    },\n",
    "    \"history\": history,\n",
    "    \"dataset_metrics\": get_dataset_metrics(datasets, \"ptn\"),\n",
    "}"
   ]
  },
  {
   "cell_type": "code",
   "execution_count": 25,
   "id": "54a21829",
   "metadata": {
    "execution": {
     "iopub.execute_input": "2022-03-26T03:07:42.280636Z",
     "iopub.status.busy": "2022-03-26T03:07:42.279943Z",
     "iopub.status.idle": "2022-03-26T03:07:42.412992Z",
     "shell.execute_reply": "2022-03-26T03:07:42.412627Z"
    },
    "papermill": {
     "duration": 0.18302,
     "end_time": "2022-03-26T03:07:42.413073",
     "exception": false,
     "start_time": "2022-03-26T03:07:42.230053",
     "status": "completed"
    },
    "tags": []
   },
   "outputs": [
    {
     "data": {
      "image/png": "[encoded data removed]",
      "text/plain": [
       "<Figure size 1080x504 with 1 Axes>"
      ]
     },
     "metadata": {
      "needs_background": "light"
     },
     "output_type": "display_data"
    }
   ],
   "source": [
    "ax = get_loss_curve(experiment)\n",
    "plt.show()"
   ]
  },
  {
   "cell_type": "code",
   "execution_count": 26,
   "id": "fd8a0f60",
   "metadata": {
    "execution": {
     "iopub.execute_input": "2022-03-26T03:07:42.523736Z",
     "iopub.status.busy": "2022-03-26T03:07:42.523405Z",
     "iopub.status.idle": "2022-03-26T03:07:42.693749Z",
     "shell.execute_reply": "2022-03-26T03:07:42.694144Z"
    },
    "papermill": {
     "duration": 0.227885,
     "end_time": "2022-03-26T03:07:42.694265",
     "exception": false,
     "start_time": "2022-03-26T03:07:42.466380",
     "status": "completed"
    },
    "tags": []
   },
   "outputs": [
    {
     "data": {
      "text/plain": [
       "<AxesSubplot:title={'center':'Results'}>"
      ]
     },
     "execution_count": 26,
     "metadata": {},
     "output_type": "execute_result"
    },
    {
     "data": {
      "image/png": "[encoded data removed]",
      "text/plain": [
       "<Figure size 1080x504 with 1 Axes>"
      ]
     },
     "metadata": {
      "needs_background": "light"
     },
     "output_type": "display_data"
    }
   ],
   "source": [
    "get_results_table(experiment)"
   ]
  },
  {
   "cell_type": "code",
   "execution_count": 27,
   "id": "cf8dc689",
   "metadata": {
    "execution": {
     "iopub.execute_input": "2022-03-26T03:07:42.784441Z",
     "iopub.status.busy": "2022-03-26T03:07:42.784179Z",
     "iopub.status.idle": "2022-03-26T03:07:42.932879Z",
     "shell.execute_reply": "2022-03-26T03:07:42.932456Z"
    },
    "papermill": {
     "duration": 0.192708,
     "end_time": "2022-03-26T03:07:42.932988",
     "exception": false,
     "start_time": "2022-03-26T03:07:42.740280",
     "status": "completed"
    },
    "tags": []
   },
   "outputs": [
    {
     "data": {
      "text/plain": [
       "<AxesSubplot:title={'center':'Per Domain Validation Accuracy'}, xlabel='domain'>"
      ]
     },
     "execution_count": 27,
     "metadata": {},
     "output_type": "execute_result"
    },
    {
     "data": {
      "image/png": "[encoded data removed]",
      "text/plain": [
       "<Figure size 1080x504 with 1 Axes>"
      ]
     },
     "metadata": {
      "needs_background": "light"
     },
     "output_type": "display_data"
    }
   ],
   "source": [
    "get_domain_accuracies(experiment)"
   ]
  },
  {
   "cell_type": "code",
   "execution_count": 28,
   "id": "a74ae082",
   "metadata": {
    "execution": {
     "iopub.execute_input": "2022-03-26T03:07:43.027096Z",
     "iopub.status.busy": "2022-03-26T03:07:43.026282Z",
     "iopub.status.idle": "2022-03-26T03:07:43.043610Z",
     "shell.execute_reply": "2022-03-26T03:07:43.043152Z"
    },
    "papermill": {
     "duration": 0.06238,
     "end_time": "2022-03-26T03:07:43.043719",
     "exception": false,
     "start_time": "2022-03-26T03:07:42.981339",
     "status": "completed"
    },
    "tags": []
   },
   "outputs": [
    {
     "name": "stdout",
     "output_type": "stream",
     "text": [
      "Source Test Label Accuracy: 0.8337890625 Target Test Label Accuracy: 0.694385593220339\n",
      "Source Val Label Accuracy: 0.8305989583333333 Target Val Label Accuracy: 0.6939642857142857\n"
     ]
    }
   ],
   "source": [
    "print(\"Source Test Label Accuracy:\", experiment[\"results\"][\"source_test_label_accuracy\"], \"Target Test Label Accuracy:\", experiment[\"results\"][\"target_test_label_accuracy\"])\n",
    "print(\"Source Val Label Accuracy:\", experiment[\"results\"][\"source_val_label_accuracy\"], \"Target Val Label Accuracy:\", experiment[\"results\"][\"target_val_label_accuracy\"])"
   ]
  },
  {
   "cell_type": "code",
   "execution_count": 29,
   "id": "dacca602",
   "metadata": {
    "execution": {
     "iopub.execute_input": "2022-03-26T03:07:43.141838Z",
     "iopub.status.busy": "2022-03-26T03:07:43.141565Z",
     "iopub.status.idle": "2022-03-26T03:07:43.159865Z",
     "shell.execute_reply": "2022-03-26T03:07:43.160292Z"
    },
    "papermill": {
     "duration": 0.06688,
     "end_time": "2022-03-26T03:07:43.160426",
     "exception": false,
     "start_time": "2022-03-26T03:07:43.093546",
     "status": "completed"
    },
    "tags": [
     "experiment_json"
    ]
   },
   "outputs": [
    {
     "data": {
      "text/plain": [
       "'{\"experiment_name\": \"tl_3-filterv2:oracle.run1.framed -> cores\", \"parameters\": {\"experiment_name\": \"tl_3-filterv2:oracle.run1.framed -> cores\", \"device\": \"cuda\", \"lr\": 0.0001, \"x_shape\": [2, 200], \"n_shot\": 3, \"n_query\": 2, \"train_k_factor\": 3, \"val_k_factor\": 2, \"test_k_factor\": 2, \"torch_default_dtype\": \"torch.float32\", \"n_epoch\": 50, \"patience\": 3, \"criteria_for_best\": \"target_accuracy\", \"x_net\": [{\"class\": \"nnReshape\", \"kargs\": {\"shape\": [-1, 1, 2, 200]}}, {\"class\": \"Conv2d\", \"kargs\": {\"in_channels\": 1, \"out_channels\": 256, \"kernel_size\": [1, 7], \"bias\": false, \"padding\": [0, 3]}}, {\"class\": \"ReLU\", \"kargs\": {\"inplace\": true}}, {\"class\": \"BatchNorm2d\", \"kargs\": {\"num_features\": 256}}, {\"class\": \"Conv2d\", \"kargs\": {\"in_channels\": 256, \"out_channels\": 80, \"kernel_size\": [2, 7], \"bias\": true, \"padding\": [0, 3]}}, {\"class\": \"ReLU\", \"kargs\": {\"inplace\": true}}, {\"class\": \"BatchNorm2d\", \"kargs\": {\"num_features\": 80}}, {\"class\": \"Flatten\", \"kargs\": {}}, {\"class\": \"Linear\", \"kargs\": {\"in_features\": 16000, \"out_features\": 256}}, {\"class\": \"ReLU\", \"kargs\": {\"inplace\": true}}, {\"class\": \"BatchNorm1d\", \"kargs\": {\"num_features\": 256}}, {\"class\": \"Linear\", \"kargs\": {\"in_features\": 256, \"out_features\": 256}}], \"NUM_LOGS_PER_EPOCH\": 10, \"BEST_MODEL_PATH\": \"./best_model.pth\", \"n_way\": 16, \"datasets\": [{\"labels\": [\"1-10.\", \"1-11.\", \"1-15.\", \"1-16.\", \"1-17.\", \"1-18.\", \"1-19.\", \"10-4.\", \"10-7.\", \"11-1.\", \"11-14.\", \"11-17.\", \"11-20.\", \"11-7.\", \"13-20.\", \"13-8.\", \"14-10.\", \"14-11.\", \"14-14.\", \"14-7.\", \"15-1.\", \"15-20.\", \"16-1.\", \"16-16.\", \"17-10.\", \"17-11.\", \"17-2.\", \"19-1.\", \"19-16.\", \"19-19.\", \"19-20.\", \"19-3.\", \"2-10.\", \"2-11.\", \"2-17.\", \"2-18.\", \"2-20.\", \"2-3.\", \"2-4.\", \"2-5.\", \"2-6.\", \"2-7.\", \"2-8.\", \"3-13.\", \"3-18.\", \"3-3.\", \"4-1.\", \"4-10.\", \"4-11.\", \"4-19.\", \"5-5.\", \"6-15.\", \"7-10.\", \"7-14.\", \"8-18.\", \"8-20.\", \"8-3.\", \"8-8.\"], \"domains\": [1, 2, 3, 4, 5], \"num_examples_per_domain_per_label\": -1, \"pickle_path\": \"/mnt/wd500GB/CSC500/csc500-main/datasets/cores.stratified_ds.2022A.pkl\", \"source_or_target_dataset\": \"target\", \"x_transforms\": [\"unit_mag\", \"lowpass_+/-10MHz\", \"take_200\"], \"episode_transforms\": [], \"domain_prefix\": \"C_\"}, {\"labels\": [\"3123D52\", \"3123D65\", \"3123D79\", \"3123D80\", \"3123D54\", \"3123D70\", \"3123D7B\", \"3123D89\", \"3123D58\", \"3123D76\", \"3123D7D\", \"3123EFE\", \"3123D64\", \"3123D78\", \"3123D7E\", \"3124E4A\"], \"domains\": [32, 38, 8, 44, 14, 50, 20, 26], \"num_examples_per_domain_per_label\": 2000, \"pickle_path\": \"/mnt/wd500GB/CSC500/csc500-main/datasets/oracle.Run1_framed_2000Examples_stratified_ds.2022A.pkl\", \"source_or_target_dataset\": \"source\", \"x_transforms\": [\"unit_mag\", \"take_200\", \"resample_20Msps_to_25Msps\"], \"episode_transforms\": [], \"domain_prefix\": \"O_\"}], \"seed\": 7, \"dataset_seed\": 7, \"domains_source\": [\"O_32\", \"O_38\", \"O_8\", \"O_44\", \"O_14\", \"O_50\", \"O_20\", \"O_26\"], \"domains_target\": [\"C_1\", \"C_2\", \"C_3\", \"C_4\", \"C_5\"]}, \"results\": {\"source_test_label_accuracy\": 0.8337890625, \"source_test_label_loss\": 0.4520476162433624, \"target_test_label_accuracy\": 0.694385593220339, \"target_test_label_loss\": 168.5428466796875, \"source_val_label_accuracy\": 0.8305989583333333, \"source_val_label_loss\": 0.460190087556839, \"target_val_label_accuracy\": 0.6939642857142857, \"target_val_label_loss\": 172.59181213378906, \"total_epochs_trained\": 12, \"total_experiment_time_secs\": 3676.1342668533325, \"confusion\": {\"O_26\": {\"0\": {\"0\": 77, \"10\": 61, \"8\": 34, \"14\": 41, \"4\": 19, \"7\": 1, \"6\": 2, \"15\": 3, \"1\": 2}, \"4\": {\"14\": 11, \"4\": 176, \"10\": 7, \"8\": 11, \"7\": 18, \"0\": 11, \"1\": 6}, \"14\": {\"14\": 165, \"0\": 21, \"1\": 17, \"10\": 20, \"8\": 6, \"4\": 11}, \"12\": {\"12\": 240}, \"8\": {\"2\": 3, \"0\": 20, \"10\": 31, \"8\": 117, \"14\": 15, \"4\": 21, \"7\": 13, \"15\": 9, \"6\": 4, \"9\": 3, \"3\": 2, \"5\": 2}, \"7\": {\"7\": 170, \"2\": 15, \"3\": 22, \"4\": 24, \"8\": 4, \"1\": 1, \"10\": 2, \"0\": 2}, \"13\": {\"13\": 204, \"5\": 18, \"15\": 7, \"2\": 5, \"9\": 6}, \"5\": {\"5\": 208, \"15\": 7, \"2\": 16, \"13\": 7, \"3\": 1, \"7\": 1}, \"15\": {\"15\": 164, \"9\": 31, \"13\": 7, \"0\": 3, \"8\": 9, \"2\": 5, \"5\": 3, \"6\": 11, \"7\": 3, \"10\": 4}, \"10\": {\"14\": 27, \"8\": 36, \"0\": 59, \"10\": 105, \"4\": 4, \"6\": 4, \"9\": 1, \"7\": 1, \"15\": 3}, \"3\": {\"3\": 161, \"7\": 20, \"2\": 58, \"5\": 1}, \"9\": {\"9\": 185, \"15\": 39, \"13\": 9, \"6\": 3, \"0\": 2, \"8\": 2}, \"6\": {\"6\": 211, \"9\": 12, \"10\": 10, \"15\": 5, \"0\": 1, \"8\": 1}, \"1\": {\"1\": 201, \"4\": 18, \"14\": 16, \"7\": 2, \"3\": 1, \"10\": 1, \"8\": 1}, \"11\": {\"11\": 240}, \"2\": {\"2\": 110, \"15\": 13, \"5\": 23, \"3\": 56, \"7\": 28, \"13\": 5, \"8\": 4, \"9\": 1}}, \"O_44\": {\"1\": {\"1\": 172, \"2\": 17, \"12\": 25, \"3\": 12, \"10\": 14}, \"11\": {\"11\": 234, \"13\": 5, \"6\": 1}, \"3\": {\"3\": 229, \"1\": 8, \"12\": 3}, \"6\": {\"6\": 174, \"13\": 44, \"9\": 16, \"7\": 6}, \"7\": {\"2\": 33, \"7\": 162, \"9\": 37, \"6\": 8}, \"5\": {\"5\": 213, \"0\": 5, \"14\": 10, \"15\": 6, \"8\": 6}, \"2\": {\"2\": 194, \"7\": 28, \"10\": 8, \"1\": 10}, \"15\": {\"15\": 196, \"0\": 8, \"14\": 20, \"8\": 6, \"5\": 8, \"4\": 2}, \"10\": {\"10\": 206, \"2\": 21, \"1\": 11, \"12\": 2}, \"13\": {\"13\": 180, \"6\": 41, \"11\": 3, \"4\": 1, \"9\": 14, \"7\": 1}, \"8\": {\"0\": 95, \"8\": 131, \"15\": 9, \"5\": 5}, \"4\": {\"14\": 72, \"4\": 166, \"13\": 1, \"15\": 1}, \"9\": {\"9\": 127, \"13\": 34, \"6\": 26, \"7\": 52, \"2\": 1}, \"14\": {\"4\": 63, \"14\": 158, \"5\": 7, \"15\": 12}, \"0\": {\"0\": 155, \"8\": 68, \"5\": 7, \"15\": 10}, \"12\": {\"12\": 209, \"1\": 22, \"3\": 8, \"10\": 1}}, \"O_50\": {\"15\": {\"15\": 207, \"4\": 13, \"6\": 4, \"1\": 11, \"11\": 5}, \"4\": {\"5\": 33, \"4\": 152, \"15\": 40, \"13\": 1, \"1\": 5, \"6\": 4, \"7\": 5}, \"6\": {\"6\": 195, \"7\": 14, \"15\": 9, \"13\": 13, \"4\": 5, \"5\": 3, \"1\": 1}, \"2\": {\"2\": 224, \"0\": 16}, \"5\": {\"5\": 158, \"7\": 23, \"13\": 15, \"4\": 27, \"1\": 12, \"6\": 4, \"15\": 1}, \"9\": {\"9\": 226, \"12\": 6, \"11\": 8}, \"8\": {\"8\": 232, \"3\": 5, \"10\": 3}, \"12\": {\"12\": 230, \"11\": 4, \"9\": 6}, \"10\": {\"10\": 217, \"0\": 9, \"13\": 5, \"8\": 9}, \"1\": {\"1\": 201, \"13\": 2, \"2\": 1, \"6\": 1, \"15\": 27, \"4\": 3, \"5\": 4, \"11\": 1}, \"0\": {\"0\": 204, \"2\": 24, \"10\": 10, \"13\": 2}, \"3\": {\"3\": 238, \"8\": 2}, \"13\": {\"13\": 214, \"6\": 8, \"5\": 3, \"10\": 4, \"7\": 11}, \"11\": {\"11\": 220, \"15\": 11, \"12\": 4, \"9\": 4, \"14\": 1}, \"7\": {\"7\": 211, \"6\": 6, \"13\": 14, \"4\": 3, \"5\": 6}, \"14\": {\"14\": 240}}, \"O_38\": {\"15\": {\"8\": 19, \"15\": 213, \"1\": 7, \"13\": 1}, \"11\": {\"11\": 240}, \"10\": {\"10\": 215, \"0\": 2, \"13\": 19, \"4\": 2, \"8\": 2}, \"14\": {\"14\": 226, \"2\": 14}, \"6\": {\"6\": 239, \"9\": 1}, \"4\": {\"4\": 238, \"10\": 1, \"12\": 1}, \"13\": {\"13\": 215, \"10\": 11, \"15\": 3, \"2\": 4, \"0\": 3, \"8\": 4}, \"3\": {\"3\": 235, \"0\": 5}, \"7\": {\"7\": 207, \"5\": 16, \"10\": 1, \"0\": 12, \"8\": 4}, \"8\": {\"8\": 173, \"7\": 13, \"0\": 12, \"5\": 37, \"15\": 2, \"10\": 2, \"13\": 1}, \"1\": {\"1\": 229, \"15\": 11}, \"5\": {\"5\": 127, \"8\": 66, \"7\": 28, \"0\": 4, \"15\": 2, \"9\": 6, \"1\": 1, \"13\": 4, \"6\": 2}, \"0\": {\"0\": 206, \"7\": 12, \"5\": 2, \"8\": 9, \"3\": 3, \"10\": 4, \"4\": 1, \"13\": 2, \"9\": 1}, \"2\": {\"2\": 224, \"14\": 12, \"15\": 2, \"13\": 2}, \"12\": {\"12\": 240}, \"9\": {\"9\": 222, \"6\": 11, \"5\": 4, \"0\": 1, \"7\": 2}}, \"O_20\": {\"10\": {\"10\": 239, \"14\": 1}, \"7\": {\"7\": 210, \"2\": 21, \"4\": 2, \"13\": 1, \"9\": 1, \"3\": 2, \"8\": 1, \"6\": 1, \"12\": 1}, \"4\": {\"4\": 221, \"3\": 8, \"5\": 2, \"7\": 2, \"8\": 4, \"10\": 2, \"12\": 1}, \"13\": {\"13\": 228, \"7\": 4, \"2\": 7, \"12\": 1}, \"1\": {\"1\": 154, \"12\": 55, \"3\": 5, \"15\": 18, \"5\": 7, \"2\": 1}, \"0\": {\"0\": 187, \"15\": 20, \"5\": 23, \"7\": 3, \"8\": 4, \"12\": 2, \"4\": 1}, \"12\": {\"3\": 37, \"1\": 56, \"2\": 14, \"12\": 110, \"9\": 18, \"5\": 4, \"15\": 1}, \"5\": {\"5\": 210, \"12\": 1, \"3\": 1, \"0\": 20, \"1\": 5, \"4\": 1, \"15\": 2}, \"6\": {\"6\": 232, \"14\": 8}, \"2\": {\"9\": 28, \"2\": 141, \"3\": 11, \"7\": 28, \"12\": 23, \"1\": 3, \"13\": 6}, \"8\": {\"8\": 221, \"7\": 9, \"6\": 3, \"4\": 5, \"14\": 1, \"2\": 1}, \"11\": {\"11\": 240}, \"9\": {\"9\": 151, \"3\": 24, \"12\": 18, \"2\": 43, \"7\": 3, \"1\": 1}, \"14\": {\"14\": 228, \"6\": 12}, \"15\": {\"15\": 202, \"0\": 16, \"13\": 2, \"12\": 2, \"1\": 18}, \"3\": {\"3\": 126, \"2\": 21, \"12\": 51, \"4\": 8, \"9\": 28, \"7\": 2, \"10\": 1, \"1\": 3}}, \"O_14\": {\"14\": {\"14\": 219, \"2\": 16, \"13\": 1, \"6\": 3, \"3\": 1}, \"0\": {\"0\": 232, \"10\": 3, \"3\": 4, \"11\": 1}, \"4\": {\"4\": 225, \"5\": 7, \"2\": 1, \"1\": 6, \"3\": 1}, \"11\": {\"11\": 226, \"9\": 8, \"0\": 6}, \"13\": {\"6\": 83, \"13\": 133, \"14\": 4, \"2\": 14, \"7\": 1, \"4\": 3, \"5\": 1, \"3\": 1}, \"9\": {\"9\": 238, \"11\": 2}, \"3\": {\"3\": 225, \"2\": 10, \"14\": 3, \"4\": 2}, \"6\": {\"6\": 177, \"13\": 56, \"14\": 4, \"2\": 3}, \"1\": {\"1\": 237, \"5\": 2, \"4\": 1}, \"5\": {\"5\": 205, \"4\": 10, \"2\": 11, \"1\": 13, \"3\": 1}, \"12\": {\"12\": 240}, \"10\": {\"10\": 240}, \"8\": {\"8\": 240}, \"7\": {\"7\": 239, \"5\": 1}, \"15\": {\"15\": 240}, \"2\": {\"2\": 137, \"14\": 40, \"6\": 21, \"5\": 25, \"3\": 9, \"13\": 8}}, \"O_32\": {\"11\": {\"11\": 233, \"14\": 2, \"13\": 3, \"3\": 2}, \"1\": {\"1\": 240}, \"2\": {\"2\": 181, \"4\": 53, \"7\": 3, \"5\": 2, \"13\": 1}, \"0\": {\"0\": 181, \"5\": 3, \"7\": 9, \"8\": 29, \"14\": 16, \"13\": 1, \"2\": 1}, \"3\": {\"3\": 234, \"13\": 4, \"7\": 1, \"14\": 1}, \"8\": {\"8\": 198, \"0\": 24, \"13\": 6, \"5\": 5, \"3\": 3, \"14\": 3, \"7\": 1}, \"12\": {\"12\": 239, \"6\": 1}, \"5\": {\"13\": 12, \"5\": 167, \"7\": 47, \"3\": 3, \"0\": 2, \"8\": 6, \"14\": 2, \"4\": 1}, \"15\": {\"15\": 239, \"8\": 1}, \"7\": {\"7\": 161, \"13\": 9, \"5\": 39, \"14\": 7, \"4\": 19, \"8\": 1, \"0\": 2, \"11\": 2}, \"4\": {\"4\": 186, \"7\": 11, \"2\": 31, \"13\": 12}, \"14\": {\"14\": 184, \"0\": 22, \"7\": 5, \"11\": 16, \"8\": 6, \"13\": 4, \"3\": 2, \"5\": 1}, \"10\": {\"10\": 240}, \"6\": {\"6\": 240}, \"13\": {\"13\": 198, \"8\": 4, \"4\": 13, \"7\": 7, \"5\": 4, \"3\": 12, \"11\": 1, \"0\": 1}, \"9\": {\"9\": 239, \"12\": 1}}, \"O_8\": {\"9\": {\"9\": 240}, \"11\": {\"11\": 225, \"5\": 2, \"1\": 13}, \"8\": {\"8\": 237, \"15\": 2, \"12\": 1}, \"4\": {\"4\": 145, \"6\": 36, \"10\": 12, \"14\": 8, \"13\": 37, \"0\": 2}, \"13\": {\"10\": 24, \"6\": 21, \"14\": 6, \"4\": 30, \"13\": 109, \"0\": 47, \"7\": 3}, \"14\": {\"14\": 182, \"10\": 35, \"1\": 7, \"13\": 3, \"4\": 12, \"5\": 1}, \"2\": {\"2\": 227, \"3\": 7, \"7\": 5, \"12\": 1}, \"3\": {\"3\": 235, \"12\": 3, \"2\": 2}, \"1\": {\"1\": 226, \"11\": 4, \"14\": 5, \"5\": 5}, \"0\": {\"0\": 189, \"13\": 33, \"7\": 10, \"6\": 2, \"10\": 3, \"4\": 3}, \"5\": {\"5\": 224, \"14\": 6, \"1\": 6, \"10\": 4}, \"15\": {\"15\": 211, \"12\": 25, \"8\": 4}, \"10\": {\"10\": 188, \"14\": 26, \"13\": 14, \"4\": 12}, \"12\": {\"12\": 189, \"15\": 39, \"3\": 8, \"8\": 3, \"2\": 1}, \"6\": {\"0\": 5, \"6\": 139, \"7\": 54, \"4\": 28, \"13\": 14}, \"7\": {\"7\": 179, \"6\": 50, \"0\": 6, \"12\": 1, \"4\": 3, \"13\": 1}}, \"C_5\": {\"26\": {\"26\": 20, \"1\": 1, \"38\": 1, \"20\": 2}, \"7\": {\"7\": 23, \"51\": 3, \"12\": 2, \"8\": 1, \"52\": 1, \"42\": 1, \"6\": 1}, \"56\": {\"56\": 122, \"3\": 1, \"35\": 2, \"0\": 7, \"44\": 4, \"29\": 2, \"24\": 1, \"36\": 1, \"54\": 1, \"19\": 1}, \"36\": {\"47\": 1, \"36\": 60, \"26\": 1, \"43\": 3, \"6\": 2, \"32\": 3, \"54\": 9, \"15\": 1, \"24\": 2, \"1\": 1, \"14\": 1, \"7\": 1, \"21\": 3, \"11\": 1, \"17\": 1, \"51\": 2}, \"47\": {\"47\": 47, \"26\": 1, \"39\": 2, \"15\": 5, \"8\": 1, \"45\": 2, \"36\": 2, \"57\": 3, \"52\": 7, \"14\": 1, \"54\": 6, \"11\": 2, \"27\": 2, \"1\": 1, \"46\": 3, \"53\": 1, \"20\": 3, \"48\": 4, \"18\": 2, \"32\": 2, \"23\": 1, \"6\": 1, \"50\": 1}, \"2\": {\"47\": 1, \"2\": 25, \"46\": 1, \"49\": 1}, \"15\": {\"15\": 115, \"16\": 14, \"52\": 12, \"20\": 2, \"23\": 7, \"54\": 1, \"11\": 1}, \"14\": {\"14\": 12, \"49\": 3, \"10\": 1, \"24\": 3, \"3\": 2, \"19\": 2, \"50\": 1, \"33\": 1, \"0\": 5, \"45\": 1, \"6\": 1, \"47\": 2, \"28\": 2, \"36\": 3, \"11\": 1, \"2\": 1, \"9\": 1, \"39\": 1, \"35\": 1}, \"27\": {\"27\": 102, \"30\": 8, \"9\": 10, \"12\": 2, \"17\": 3, \"1\": 2, \"45\": 2, \"54\": 2, \"57\": 2, \"48\": 8, \"6\": 2, \"8\": 1, \"46\": 1, \"3\": 1}, \"40\": {\"40\": 81, \"5\": 11, \"43\": 8, \"10\": 1, \"29\": 8, \"13\": 6, \"4\": 2, \"44\": 1, \"3\": 1, \"35\": 1, \"24\": 1, \"50\": 1, \"47\": 1, \"17\": 1}, \"49\": {\"49\": 24, \"39\": 2, \"42\": 2, \"1\": 2, \"18\": 2, \"16\": 1, \"52\": 3}, \"45\": {\"45\": 33, \"36\": 3, \"21\": 6, \"55\": 7, \"24\": 1, \"12\": 7, \"33\": 2, \"50\": 9, \"57\": 1, \"52\": 1, \"34\": 1, \"14\": 1, \"9\": 8, \"25\": 5, \"17\": 4, \"6\": 7, \"51\": 4, \"53\": 2, \"29\": 1, \"27\": 7, \"30\": 4, \"1\": 4, \"7\": 1, \"46\": 2, \"20\": 1, \"48\": 2}, \"46\": {\"46\": 30, \"15\": 12, \"54\": 2, \"56\": 3, \"42\": 1, \"23\": 20, \"20\": 10, \"18\": 5, \"6\": 1, \"52\": 28, \"51\": 2, \"11\": 3, \"55\": 2, \"16\": 8, \"1\": 2, \"8\": 2, \"43\": 1, \"29\": 1, \"47\": 1, \"41\": 1, \"44\": 1}, \"11\": {\"11\": 97, \"20\": 3, \"23\": 5, \"15\": 8, \"52\": 6, \"18\": 1, \"54\": 1, \"46\": 4, \"51\": 1, \"16\": 2, \"0\": 1, \"8\": 1}, \"30\": {\"30\": 62, \"20\": 6, \"1\": 8, \"38\": 1, \"8\": 7, \"48\": 8, \"16\": 1, \"9\": 2, \"17\": 3, \"27\": 4, \"57\": 5, \"15\": 2, \"18\": 1, \"6\": 2}, \"0\": {\"0\": 115, \"6\": 1, \"11\": 1, \"3\": 1, \"16\": 1, \"15\": 1, \"47\": 2, \"56\": 2}, \"10\": {\"10\": 67, \"44\": 1}, \"1\": {\"1\": 97, \"23\": 2, \"38\": 1, \"18\": 9, \"20\": 14, \"8\": 10, \"16\": 3, \"26\": 6, \"48\": 3, \"57\": 1, \"30\": 2}, \"42\": {\"42\": 38, \"40\": 2}, \"54\": {\"46\": 2, \"26\": 1, \"41\": 1, \"16\": 7, \"54\": 49, \"20\": 9, \"23\": 22, \"52\": 7, \"11\": 2, \"15\": 7, \"6\": 1, \"7\": 1, \"18\": 2, \"8\": 1}, \"55\": {\"55\": 108, \"25\": 3, \"50\": 11, \"24\": 3, \"36\": 4, \"32\": 1, \"45\": 6, \"6\": 2, \"4\": 3, \"11\": 1, \"21\": 2, \"12\": 1, \"14\": 1, \"30\": 2, \"17\": 1, \"9\": 1, \"19\": 1, \"46\": 1}, \"23\": {\"23\": 120, \"20\": 2, \"42\": 1, \"52\": 1}, \"25\": {\"1\": 7, \"29\": 1, \"25\": 98, \"51\": 4, \"57\": 1, \"16\": 2, \"30\": 5, \"40\": 2, \"6\": 7, \"20\": 1, \"17\": 3, \"9\": 2, \"43\": 1, \"4\": 1, \"50\": 3, \"48\": 6, \"37\": 1, \"21\": 1, \"32\": 1, \"55\": 3, \"5\": 2}, \"28\": {\"1\": 4, \"28\": 19, \"26\": 1, \"15\": 2, \"30\": 1, \"32\": 1, \"23\": 1, \"27\": 1, \"52\": 2}, \"32\": {\"9\": 1, \"32\": 10, \"41\": 1, \"26\": 1, \"8\": 1, \"15\": 2, \"16\": 2, \"45\": 1, \"17\": 6, \"23\": 3, \"48\": 2, \"1\": 2}, \"9\": {\"9\": 68, \"27\": 23, \"45\": 14, \"21\": 3, \"19\": 8, \"55\": 1, \"17\": 4, \"50\": 3, \"53\": 3, \"30\": 1, \"57\": 2, \"43\": 4, \"33\": 1, \"34\": 1, \"24\": 1, \"47\": 1, \"11\": 2, \"4\": 1, \"29\": 1}, \"39\": {\"39\": 18, \"23\": 1, \"42\": 1}, \"3\": {\"1\": 2, \"23\": 3, \"3\": 34, \"32\": 2, \"45\": 1, \"44\": 3, \"9\": 1, \"30\": 2, \"21\": 3, \"52\": 4, \"57\": 7, \"46\": 3, \"48\": 2, \"11\": 4, \"20\": 2, \"17\": 3, \"43\": 3, \"54\": 3, \"29\": 1, \"25\": 3, \"16\": 3, \"14\": 1, \"0\": 1, \"35\": 1, \"42\": 1, \"38\": 1, \"27\": 1, \"24\": 1, \"10\": 1, \"6\": 1, \"15\": 2}, \"29\": {\"29\": 75, \"35\": 1, \"22\": 3, \"43\": 6, \"5\": 3, \"3\": 1, \"56\": 3, \"9\": 1, \"36\": 1, \"4\": 4, \"19\": 6, \"44\": 9, \"55\": 1, \"50\": 2, \"33\": 1, \"24\": 1}, \"17\": {\"17\": 84, \"48\": 7, \"1\": 7, \"15\": 3, \"3\": 1, \"30\": 2, \"52\": 2, \"20\": 4, \"40\": 1, \"23\": 2, \"41\": 1, \"57\": 2}, \"35\": {\"35\": 33, \"44\": 1, \"56\": 2}, \"44\": {\"35\": 2, \"44\": 95, \"47\": 3, \"24\": 1, \"29\": 8, \"33\": 1, \"43\": 6, \"13\": 4, \"56\": 4, \"9\": 2, \"36\": 4, \"19\": 4, \"50\": 2, \"46\": 3, \"52\": 1, \"2\": 2, \"5\": 3, \"21\": 3, \"3\": 2, \"55\": 1, \"15\": 1}, \"5\": {\"33\": 4, \"5\": 81, \"4\": 4, \"40\": 21, \"13\": 4, \"9\": 1, \"19\": 1, \"14\": 2, \"43\": 2, \"44\": 1, \"29\": 6, \"35\": 1}, \"33\": {\"33\": 27, \"27\": 1, \"19\": 4}, \"34\": {\"5\": 1, \"1\": 2, \"34\": 24, \"16\": 1, \"57\": 1, \"6\": 1, \"32\": 1, \"38\": 1, \"23\": 1, \"3\": 1, \"27\": 1, \"52\": 1}, \"13\": {\"5\": 2, \"13\": 119, \"3\": 2, \"35\": 2, \"43\": 6, \"40\": 3, \"56\": 1, \"29\": 2, \"19\": 1}, \"41\": {\"42\": 3, \"41\": 24, \"23\": 1}, \"6\": {\"41\": 1, \"50\": 3, \"6\": 27, \"45\": 3, \"18\": 12, \"8\": 17, \"51\": 2, \"20\": 20, \"30\": 4, \"1\": 9, \"27\": 3, \"55\": 3, \"17\": 1, \"12\": 3, \"16\": 1, \"52\": 2, \"23\": 3, \"46\": 2, \"26\": 2, \"38\": 2, \"39\": 2, \"11\": 2, \"32\": 1, \"3\": 1, \"48\": 2}, \"51\": {\"41\": 2, \"51\": 94, \"7\": 1, \"18\": 2, \"20\": 8, \"8\": 12, \"23\": 3, \"15\": 2, \"16\": 5, \"57\": 1, \"50\": 1, \"38\": 1, \"32\": 2, \"52\": 2, \"6\": 1, \"1\": 1}, \"50\": {\"50\": 57, \"9\": 7, \"55\": 9, \"53\": 7, \"12\": 1, \"4\": 2, \"14\": 1, \"21\": 13, \"45\": 4, \"36\": 4, \"19\": 3, \"48\": 2, \"54\": 4, \"30\": 1, \"3\": 4, \"25\": 8, \"15\": 1, \"8\": 1, \"51\": 2, \"27\": 3, \"29\": 1, \"6\": 4, \"43\": 1, \"1\": 2, \"17\": 1, \"11\": 1}, \"37\": {\"37\": 24}, \"19\": {\"9\": 9, \"19\": 112, \"45\": 2, \"30\": 1, \"44\": 1, \"29\": 1, \"27\": 11, \"43\": 1, \"50\": 2, \"57\": 1, \"24\": 1, \"5\": 1, \"54\": 1}, \"57\": {\"57\": 80, \"42\": 1, \"52\": 6, \"15\": 1, \"23\": 4, \"48\": 15, \"20\": 3, \"30\": 5, \"1\": 6, \"6\": 1, \"46\": 1, \"17\": 4, \"16\": 1, \"54\": 1, \"18\": 2, \"8\": 1}, \"21\": {\"21\": 107, \"37\": 1, \"53\": 8, \"12\": 9, \"51\": 2, \"16\": 1, \"6\": 3, \"45\": 1, \"9\": 2, \"25\": 3, \"3\": 1, \"50\": 3, \"1\": 1, \"17\": 1, \"11\": 1}, \"24\": {\"47\": 2, \"24\": 47, \"3\": 2, \"7\": 1, \"36\": 5, \"32\": 1, \"14\": 3, \"6\": 5, \"51\": 1, \"52\": 1, \"54\": 2, \"43\": 4, \"11\": 1, \"9\": 1, \"21\": 2, \"46\": 1, \"1\": 1}, \"8\": {\"8\": 115, \"20\": 12, \"16\": 1, \"42\": 1, \"18\": 1}, \"12\": {\"12\": 54, \"7\": 4, \"55\": 1, \"53\": 9, \"20\": 3, \"8\": 1, \"36\": 1, \"18\": 1, \"6\": 7, \"54\": 1, \"21\": 3, \"51\": 3, \"48\": 1, \"46\": 2, \"41\": 1, \"32\": 1, \"15\": 1, \"30\": 1, \"25\": 1}, \"48\": {\"48\": 85, \"26\": 3, \"20\": 8, \"18\": 1, \"17\": 6, \"30\": 9, \"52\": 3, \"23\": 2, \"15\": 2, \"57\": 5, \"38\": 1, \"1\": 3, \"8\": 3, \"3\": 1}, \"43\": {\"43\": 140, \"24\": 4, \"21\": 3, \"36\": 1, \"50\": 2}, \"53\": {\"54\": 1, \"53\": 129, \"51\": 2, \"6\": 2, \"20\": 5, \"12\": 4, \"47\": 1, \"21\": 1, \"46\": 1, \"45\": 2}, \"38\": {\"38\": 28, \"26\": 1, \"18\": 2, \"51\": 1}, \"16\": {\"16\": 104, \"52\": 16, \"20\": 4, \"23\": 4, \"51\": 2, \"46\": 3, \"15\": 1, \"8\": 4, \"42\": 1, \"57\": 1, \"54\": 1, \"6\": 1}, \"22\": {\"22\": 23, \"29\": 2, \"44\": 2, \"43\": 1}, \"4\": {\"4\": 71, \"5\": 2, \"36\": 2, \"21\": 1, \"43\": 3, \"55\": 5, \"50\": 3, \"45\": 2, \"19\": 4, \"29\": 2, \"53\": 1, \"9\": 2, \"24\": 1, \"40\": 1}, \"18\": {\"18\": 55, \"8\": 3, \"20\": 5, \"23\": 1}, \"20\": {\"18\": 3, \"23\": 14, \"20\": 116, \"8\": 4, \"15\": 3, \"42\": 1, \"16\": 2, \"52\": 1}, \"52\": {\"52\": 137, \"16\": 2, \"21\": 1}, \"31\": {\"31\": 22, \"20\": 1, \"57\": 1, \"11\": 1, \"52\": 2, \"1\": 1, \"46\": 3, \"32\": 2, \"18\": 1, \"3\": 1, \"48\": 1}}, \"C_1\": {\"41\": {\"53\": 2, \"41\": 20, \"37\": 1, \"14\": 1}, \"40\": {\"29\": 9, \"40\": 85, \"4\": 3, \"1\": 1, \"22\": 1, \"13\": 2, \"57\": 3, \"28\": 1, \"31\": 1, \"3\": 1, \"55\": 1, \"24\": 1, \"19\": 1}, \"45\": {\"45\": 118, \"5\": 1, \"37\": 1, \"17\": 3, \"0\": 1, \"8\": 4, \"48\": 2, \"19\": 3, \"9\": 1, \"50\": 1, \"54\": 1, \"16\": 1, \"30\": 1}, \"51\": {\"41\": 2, \"51\": 129, \"12\": 4, \"0\": 2, \"36\": 1, \"54\": 1, \"53\": 1, \"14\": 1, \"16\": 1, \"50\": 2, \"6\": 1, \"46\": 3}, \"5\": {\"5\": 71, \"54\": 2, \"16\": 7, \"9\": 27, \"6\": 7, \"2\": 7, \"18\": 12, \"23\": 7, \"48\": 5, \"30\": 2, \"50\": 5, \"12\": 1, \"51\": 1}, \"30\": {\"48\": 11, \"5\": 7, \"34\": 1, \"30\": 55, \"9\": 11, \"18\": 8, \"50\": 2, \"6\": 5, \"16\": 2, \"23\": 4, \"8\": 12, \"26\": 1, \"2\": 1}, \"42\": {\"42\": 37, \"53\": 1, \"17\": 1, \"19\": 1}, \"46\": {\"46\": 65, \"37\": 3, \"30\": 4, \"13\": 2, \"5\": 5, \"1\": 1, \"19\": 2, \"14\": 1, \"45\": 4, \"48\": 7, \"12\": 4, \"55\": 4, \"9\": 1, \"4\": 1, \"29\": 1, \"54\": 3, \"50\": 7, \"51\": 7, \"25\": 1, \"16\": 3, \"8\": 2, \"57\": 3, \"22\": 1, \"6\": 2, \"36\": 1, \"20\": 1}, \"48\": {\"48\": 66, \"5\": 13, \"6\": 10, \"50\": 8, \"2\": 2, \"18\": 2, \"9\": 19, \"16\": 4, \"23\": 1, \"30\": 6, \"34\": 1, \"8\": 2}, \"53\": {\"53\": 130, \"16\": 3, \"51\": 3, \"48\": 3, \"50\": 4, \"6\": 1}, \"47\": {\"47\": 102, \"33\": 1, \"49\": 4, \"56\": 11, \"44\": 13, \"19\": 2, \"23\": 2, \"0\": 2, \"27\": 8, \"8\": 1, \"57\": 2, \"43\": 2, \"1\": 1, \"22\": 1}, \"49\": {\"49\": 21, \"32\": 2, \"24\": 2, \"38\": 3, \"22\": 2, \"0\": 1, \"11\": 1}, \"36\": {\"36\": 46, \"34\": 3, \"54\": 1, \"5\": 4, \"9\": 5, \"23\": 2, \"21\": 1, \"33\": 1, \"18\": 1}, \"32\": {\"45\": 2, \"32\": 26, \"56\": 2, \"17\": 1, \"46\": 1}, \"34\": {\"34\": 24}, \"29\": {\"29\": 90, \"40\": 9, \"57\": 12, \"47\": 4, \"20\": 2, \"35\": 1, \"24\": 3, \"44\": 5, \"55\": 1, \"13\": 2, \"4\": 5, \"3\": 1, \"1\": 1, \"56\": 3, \"31\": 1}, \"35\": {\"35\": 35, \"44\": 1}, \"3\": {\"3\": 108, \"28\": 1, \"24\": 1, \"13\": 6, \"40\": 4, \"4\": 1, \"29\": 7, \"57\": 2, \"56\": 1, \"48\": 1, \"20\": 1, \"55\": 1}, \"16\": {\"6\": 3, \"33\": 9, \"16\": 89, \"18\": 7, \"9\": 15, \"5\": 8, \"23\": 5, \"50\": 1, \"48\": 1, \"2\": 2}, \"26\": {\"6\": 1, \"26\": 18, \"2\": 2, \"16\": 1, \"9\": 1, \"33\": 1}, \"57\": {\"57\": 100, \"19\": 8, \"29\": 8, \"4\": 3, \"56\": 4, \"1\": 16, \"47\": 1, \"44\": 1, \"51\": 1, \"35\": 1, \"48\": 1}, \"44\": {\"35\": 5, \"11\": 3, \"44\": 50, \"49\": 2, \"56\": 9, \"57\": 3, \"20\": 4, \"22\": 3, \"9\": 2, \"47\": 20, \"0\": 1, \"55\": 4, \"45\": 2, \"24\": 3, \"23\": 3, \"30\": 2, \"13\": 1, \"54\": 2, \"17\": 1, \"27\": 2, \"1\": 3, \"16\": 1, \"52\": 1, \"19\": 1}, \"0\": {\"0\": 109, \"16\": 4, \"11\": 2, \"36\": 5, \"54\": 10, \"22\": 3, \"24\": 1, \"9\": 1, \"5\": 3, \"12\": 1, \"23\": 2, \"44\": 1, \"55\": 2, \"15\": 3, \"8\": 1, \"21\": 1, \"49\": 1, \"48\": 1, \"50\": 1}, \"4\": {\"4\": 87, \"57\": 7, \"20\": 2, \"51\": 4, \"12\": 3, \"24\": 1, \"55\": 5, \"29\": 4, \"13\": 3, \"1\": 2, \"19\": 4, \"40\": 4, \"46\": 3, \"52\": 2, \"56\": 1}, \"31\": {\"31\": 25, \"44\": 2, \"39\": 1}, \"11\": {\"11\": 134, \"22\": 5, \"24\": 1}, \"6\": {\"6\": 45, \"51\": 2, \"5\": 9, \"18\": 6, \"2\": 6, \"48\": 7, \"16\": 6, \"9\": 10, \"50\": 1, \"26\": 1, \"23\": 2, \"46\": 1}, \"54\": {\"54\": 78, \"0\": 3, \"5\": 4, \"16\": 5, \"33\": 1, \"7\": 3, \"21\": 2, \"23\": 2, \"9\": 3, \"48\": 1, \"50\": 1, \"18\": 1}, \"17\": {\"17\": 55, \"9\": 1, \"50\": 2, \"18\": 1, \"16\": 1, \"30\": 1, \"26\": 1, \"48\": 2}, \"20\": {\"20\": 108, \"12\": 3, \"51\": 9, \"55\": 1, \"44\": 1, \"0\": 3, \"46\": 2, \"53\": 1}, \"13\": {\"13\": 149, \"20\": 1}, \"33\": {\"33\": 32}, \"24\": {\"0\": 4, \"20\": 2, \"24\": 73, \"39\": 2, \"22\": 11, \"11\": 2, \"52\": 10, \"55\": 1, \"38\": 1, \"51\": 1, \"12\": 1}, \"52\": {\"39\": 3, \"52\": 91, \"24\": 14, \"22\": 11, \"47\": 2, \"56\": 2, \"10\": 3, \"53\": 1, \"27\": 1, \"44\": 1, \"11\": 1, \"43\": 1, \"16\": 1}, \"2\": {\"2\": 36}, \"19\": {\"19\": 128, \"17\": 3, \"30\": 3, \"56\": 2, \"12\": 1, \"48\": 3, \"51\": 1, \"45\": 7, \"25\": 2, \"50\": 1, \"46\": 1, \"32\": 1, \"5\": 2, \"8\": 1}, \"39\": {\"39\": 28}, \"8\": {\"8\": 84, \"5\": 8, \"17\": 1, \"9\": 11, \"30\": 13, \"48\": 8, \"18\": 4, \"23\": 4, \"16\": 2, \"50\": 1, \"14\": 1, \"6\": 3}, \"21\": {\"21\": 87, \"34\": 2, \"9\": 5, \"15\": 12, \"23\": 9, \"16\": 3, \"6\": 1, \"33\": 1, \"18\": 3, \"50\": 1}, \"10\": {\"10\": 92, \"11\": 3, \"29\": 1}, \"37\": {\"37\": 23, \"26\": 4, \"34\": 1, \"33\": 1, \"23\": 1, \"5\": 1, \"6\": 1}, \"25\": {\"25\": 133, \"30\": 2, \"2\": 1, \"50\": 3, \"17\": 3, \"9\": 1, \"48\": 1}, \"27\": {\"27\": 124, \"43\": 3, \"47\": 1, \"52\": 2}, \"23\": {\"23\": 119, \"34\": 4, \"18\": 2, \"33\": 2, \"16\": 5, \"9\": 2, \"5\": 2}, \"1\": {\"17\": 2, \"1\": 68, \"55\": 2, \"8\": 2, \"36\": 1, \"56\": 7, \"30\": 1, \"51\": 1, \"19\": 7, \"46\": 1, \"44\": 1, \"45\": 3, \"0\": 1, \"47\": 1, \"5\": 1, \"9\": 1}, \"50\": {\"18\": 10, \"50\": 70, \"9\": 18, \"16\": 11, \"6\": 9, \"48\": 17, \"23\": 2, \"8\": 1, \"5\": 8, \"2\": 6}, \"12\": {\"51\": 8, \"12\": 89, \"6\": 3, \"36\": 1, \"8\": 2, \"54\": 2, \"50\": 5, \"16\": 2, \"14\": 2, \"5\": 1, \"0\": 1}, \"18\": {\"18\": 68, \"9\": 3, \"34\": 1}, \"38\": {\"49\": 3, \"38\": 15, \"30\": 1, \"2\": 1, \"48\": 1, \"23\": 1, \"22\": 1, \"35\": 1}, \"14\": {\"12\": 1, \"34\": 1, \"14\": 6, \"16\": 1, \"18\": 6, \"9\": 3, \"5\": 1, \"2\": 1, \"21\": 2, \"6\": 2}, \"56\": {\"56\": 65, \"1\": 12, \"8\": 1, \"42\": 1, \"51\": 2, \"19\": 11, \"7\": 1, \"35\": 1, \"30\": 1, \"17\": 2, \"47\": 14, \"20\": 1, \"12\": 1, \"57\": 2, \"16\": 2, \"23\": 1, \"44\": 8, \"45\": 7, \"50\": 2, \"46\": 1, \"5\": 4, \"9\": 1, \"48\": 1}, \"55\": {\"55\": 124, \"38\": 1, \"14\": 1, \"12\": 6, \"22\": 1, \"19\": 1, \"24\": 1, \"56\": 2, \"51\": 5, \"54\": 2, \"44\": 1, \"1\": 2, \"20\": 3, \"46\": 4, \"6\": 2, \"53\": 2, \"0\": 2}, \"9\": {\"9\": 130, \"18\": 7, \"5\": 1}, \"15\": {\"15\": 103, \"9\": 6, \"21\": 18, \"23\": 9, \"16\": 5, \"50\": 2, \"33\": 1, \"18\": 2}, \"28\": {\"28\": 28}, \"7\": {\"9\": 4, \"18\": 4, \"7\": 16, \"5\": 2, \"33\": 2}, \"43\": {\"43\": 135, \"27\": 1}, \"22\": {\"22\": 85, \"24\": 16, \"39\": 1, \"14\": 1, \"21\": 1, \"11\": 11, \"12\": 3, \"52\": 5, \"0\": 5, \"54\": 2, \"27\": 2, \"49\": 2, \"20\": 1, \"47\": 1}}, \"C_3\": {\"1\": {\"5\": 4, \"1\": 46, \"27\": 2, \"12\": 2, \"46\": 2, \"9\": 1, \"3\": 2, \"57\": 8, \"34\": 1, \"17\": 1, \"6\": 1, \"18\": 1, \"47\": 6, \"20\": 3, \"52\": 3, \"48\": 3, \"28\": 1, \"29\": 1, \"16\": 3, \"43\": 2, \"35\": 2, \"23\": 1, \"15\": 2, \"0\": 1, \"30\": 1}, \"9\": {\"38\": 1, \"9\": 104, \"6\": 1, \"12\": 1, \"0\": 1, \"8\": 1, \"45\": 1, \"27\": 4, \"46\": 2, \"53\": 3, \"57\": 1, \"54\": 2, \"1\": 1, \"21\": 1}, \"22\": {\"22\": 117, \"55\": 3, \"7\": 1, \"10\": 3, \"24\": 2, \"19\": 1, \"1\": 1, \"43\": 7, \"56\": 1}, \"43\": {\"43\": 126, \"7\": 2, \"24\": 4, \"6\": 1, \"11\": 2, \"53\": 1}, \"49\": {\"49\": 20}, \"50\": {\"8\": 17, \"16\": 5, \"38\": 1, \"54\": 8, \"51\": 2, \"45\": 3, \"50\": 32, \"46\": 13, \"52\": 10, \"15\": 7, \"11\": 4, \"23\": 4, \"18\": 4, \"36\": 2, \"20\": 9, \"9\": 2, \"3\": 2, \"12\": 2, \"53\": 2, \"27\": 2, \"32\": 1, \"6\": 3, \"30\": 1, \"21\": 2}, \"53\": {\"53\": 119, \"50\": 2, \"51\": 6, \"21\": 4, \"46\": 4, \"8\": 1}, \"10\": {\"10\": 63, \"43\": 1}, \"48\": {\"48\": 59, \"18\": 2, \"17\": 2, \"30\": 9, \"55\": 2, \"15\": 9, \"20\": 6, \"52\": 10, \"34\": 1, \"23\": 6, \"54\": 3, \"6\": 2, \"31\": 3, \"36\": 1, \"16\": 1}, \"8\": {\"8\": 96, \"12\": 7, \"15\": 3, \"36\": 4, \"20\": 8, \"6\": 1, \"54\": 6, \"50\": 5, \"16\": 4, \"18\": 3, \"45\": 1}, \"31\": {\"31\": 28}, \"56\": {\"56\": 127, \"22\": 5, \"13\": 1, \"10\": 1}, \"25\": {\"25\": 81, \"12\": 3, \"13\": 2, \"37\": 4, \"14\": 1, \"52\": 1, \"51\": 3, \"16\": 2, \"15\": 2, \"5\": 2, \"21\": 4, \"50\": 7, \"27\": 5, \"3\": 7, \"23\": 1, \"19\": 2, \"55\": 6, \"46\": 4, \"8\": 1, \"33\": 1, \"40\": 1, \"9\": 2}, \"28\": {\"1\": 3, \"28\": 15, \"33\": 1, \"52\": 1, \"57\": 3, \"32\": 3, \"37\": 1, \"5\": 1}, \"38\": {\"38\": 21, \"20\": 2, \"36\": 3, \"12\": 1, \"54\": 1}, \"5\": {\"28\": 2, \"5\": 47, \"46\": 8, \"6\": 2, \"12\": 1, \"53\": 1, \"35\": 2, \"21\": 1, \"54\": 3, \"20\": 5, \"27\": 4, \"17\": 4, \"3\": 1, \"48\": 5, \"11\": 1, \"57\": 8, \"9\": 3, \"30\": 2, \"50\": 1, \"52\": 2, \"41\": 1, \"33\": 1, \"29\": 1, \"39\": 1, \"1\": 2, \"16\": 3, \"15\": 3, \"47\": 1}, \"12\": {\"38\": 10, \"51\": 1, \"18\": 4, \"30\": 9, \"54\": 6, \"12\": 29, \"52\": 9, \"21\": 1, \"48\": 3, \"20\": 6, \"36\": 10, \"32\": 1, \"16\": 2, \"6\": 1}, \"6\": {\"32\": 1, \"46\": 5, \"7\": 1, \"6\": 11, \"3\": 3, \"16\": 7, \"30\": 2, \"24\": 1, \"18\": 12, \"17\": 1, \"12\": 4, \"52\": 8, \"45\": 2, \"54\": 3, \"44\": 2, \"48\": 2, \"53\": 2, \"19\": 1, \"15\": 1, \"20\": 5, \"50\": 3, \"1\": 1, \"23\": 3, \"27\": 1, \"26\": 1, \"36\": 1, \"5\": 1, \"25\": 1, \"57\": 1, \"51\": 1}, \"19\": {\"19\": 106, \"9\": 5, \"50\": 2, \"42\": 1, \"4\": 10, \"45\": 2, \"12\": 1, \"29\": 12, \"57\": 6, \"21\": 2, \"55\": 1, \"27\": 1, \"3\": 2, \"35\": 1}, \"26\": {\"26\": 12, \"12\": 1, \"2\": 3, \"11\": 2, \"18\": 1, \"50\": 1, \"17\": 1, \"45\": 1, \"3\": 1, \"29\": 1}, \"32\": {\"12\": 5, \"6\": 1, \"30\": 1, \"32\": 11, \"36\": 4, \"27\": 4, \"9\": 1, \"54\": 1}, \"33\": {\"33\": 25, \"3\": 1, \"27\": 1, \"21\": 1}, \"3\": {\"16\": 6, \"18\": 1, \"6\": 3, \"35\": 1, \"57\": 3, \"12\": 4, \"46\": 6, \"21\": 5, \"4\": 8, \"15\": 6, \"52\": 5, \"5\": 2, \"25\": 1, \"27\": 5, \"3\": 10, \"19\": 3, \"24\": 1, \"50\": 6, \"23\": 5, \"53\": 3, \"20\": 3, \"51\": 1, \"11\": 5, \"54\": 4, \"0\": 1, \"48\": 2, \"9\": 3, \"32\": 1, \"36\": 3, \"29\": 4, \"17\": 1, \"26\": 1, \"8\": 2, \"30\": 2, \"47\": 1}, \"51\": {\"51\": 102, \"21\": 6, \"54\": 1, \"50\": 4, \"18\": 1, \"23\": 1, \"46\": 1, \"12\": 1, \"8\": 9, \"6\": 2}, \"16\": {\"16\": 121, \"52\": 5, \"18\": 2, \"20\": 3, \"15\": 2, \"23\": 4, \"46\": 1}, \"46\": {\"51\": 7, \"2\": 4, \"36\": 5, \"6\": 5, \"48\": 2, \"15\": 5, \"46\": 57, \"20\": 2, \"21\": 10, \"54\": 3, \"50\": 6, \"27\": 3, \"5\": 1, \"24\": 1, \"3\": 6, \"11\": 5, \"17\": 1, \"53\": 3, \"9\": 1, \"43\": 2, \"30\": 1, \"8\": 2, \"12\": 2, \"16\": 1, \"1\": 1, \"23\": 1, \"25\": 1, \"52\": 2}, \"7\": {\"21\": 1, \"7\": 23, \"27\": 1, \"15\": 2, \"47\": 2, \"0\": 2, \"10\": 1, \"9\": 1, \"32\": 1, \"41\": 1, \"16\": 1}, \"47\": {\"47\": 28, \"39\": 1, \"57\": 8, \"15\": 9, \"17\": 7, \"35\": 1, \"16\": 7, \"18\": 2, \"54\": 2, \"0\": 4, \"1\": 5, \"52\": 5, \"6\": 2, \"48\": 7, \"34\": 1, \"23\": 1, \"11\": 1, \"25\": 1}, \"39\": {\"39\": 15, \"52\": 1}, \"40\": {\"40\": 121, \"4\": 2, \"55\": 3, \"48\": 1, \"19\": 2, \"29\": 1, \"3\": 1, \"42\": 2, \"46\": 1, \"13\": 1, \"44\": 1}, \"14\": {\"40\": 4, \"43\": 1, \"14\": 20, \"29\": 2, \"13\": 2, \"55\": 2, \"56\": 2, \"31\": 1, \"10\": 3, \"22\": 2, \"7\": 1}, \"37\": {\"37\": 28}, \"2\": {\"2\": 32}, \"21\": {\"21\": 80, \"38\": 1, \"23\": 1, \"20\": 2, \"51\": 9, \"27\": 4, \"53\": 4, \"36\": 1, \"8\": 6, \"6\": 1, \"50\": 3, \"3\": 2, \"12\": 1, \"46\": 4, \"48\": 1}, \"35\": {\"35\": 27, \"32\": 1}, \"54\": {\"54\": 63, \"18\": 6, \"36\": 3, \"20\": 17, \"52\": 3, \"12\": 1, \"38\": 1, \"15\": 2, \"30\": 2, \"23\": 2}, \"52\": {\"52\": 109, \"16\": 3, \"23\": 3, \"15\": 1}, \"29\": {\"29\": 82, \"28\": 1, \"46\": 2, \"15\": 1, \"50\": 1, \"19\": 14, \"21\": 1, \"9\": 2, \"57\": 6, \"3\": 2, \"35\": 1, \"36\": 1, \"5\": 2, \"1\": 1, \"27\": 1}, \"20\": {\"18\": 17, \"52\": 7, \"20\": 87, \"16\": 11, \"54\": 2, \"15\": 2, \"6\": 1, \"30\": 3, \"12\": 1, \"23\": 1}, \"18\": {\"18\": 76, \"30\": 2, \"20\": 4, \"52\": 2}, \"11\": {\"11\": 107, \"52\": 8, \"20\": 2, \"15\": 18, \"18\": 1, \"16\": 5, \"30\": 1}, \"0\": {\"0\": 78, \"23\": 4, \"48\": 8, \"16\": 4, \"52\": 5, \"15\": 10, \"47\": 2, \"1\": 1, \"17\": 3, \"30\": 2, \"34\": 1, \"18\": 2, \"36\": 1, \"11\": 1, \"54\": 2}, \"36\": {\"36\": 80, \"18\": 2, \"12\": 6, \"54\": 4, \"27\": 2, \"30\": 3, \"16\": 1, \"20\": 2}, \"17\": {\"20\": 4, \"17\": 76, \"23\": 6, \"27\": 3, \"32\": 2, \"16\": 1, \"34\": 1, \"54\": 5, \"48\": 4, \"12\": 1, \"36\": 1, \"52\": 1, \"18\": 1, \"15\": 1, \"47\": 1}, \"30\": {\"18\": 17, \"30\": 69, \"23\": 6, \"20\": 7, \"48\": 1, \"16\": 8, \"54\": 3, \"52\": 2, \"41\": 1}, \"42\": {\"42\": 23, \"45\": 1, \"25\": 1, \"12\": 1, \"6\": 2}, \"45\": {\"4\": 6, \"45\": 26, \"2\": 4, \"57\": 2, \"51\": 1, \"6\": 3, \"42\": 1, \"5\": 1, \"50\": 1, \"19\": 2, \"15\": 1, \"29\": 3, \"53\": 2, \"46\": 2, \"26\": 1, \"32\": 1, \"8\": 1, \"24\": 1, \"12\": 1}, \"4\": {\"19\": 15, \"45\": 2, \"4\": 108, \"21\": 4, \"57\": 3, \"25\": 1, \"44\": 2, \"50\": 1, \"5\": 1, \"46\": 3, \"9\": 5, \"51\": 1, \"11\": 1, \"3\": 1}, \"23\": {\"23\": 80, \"30\": 5, \"15\": 9, \"52\": 12, \"18\": 12, \"16\": 13, \"55\": 1, \"20\": 1, \"44\": 1}, \"13\": {\"13\": 127, \"40\": 1}, \"15\": {\"15\": 114, \"16\": 5, \"20\": 1, \"18\": 1, \"24\": 1, \"52\": 4, \"43\": 1, \"22\": 1}, \"57\": {\"5\": 7, \"57\": 82, \"48\": 1, \"32\": 3, \"27\": 12, \"9\": 5, \"3\": 8, \"29\": 3, \"1\": 2, \"23\": 1}, \"27\": {\"36\": 1, \"17\": 1, \"30\": 5, \"27\": 104, \"54\": 3, \"20\": 2, \"52\": 3, \"23\": 1, \"12\": 1, \"57\": 1, \"48\": 3, \"50\": 2, \"16\": 1, \"9\": 2, \"3\": 2, \"18\": 1, \"15\": 1}, \"44\": {\"1\": 3, \"13\": 1, \"44\": 52, \"45\": 2, \"40\": 8, \"46\": 1, \"4\": 5, \"19\": 5, \"29\": 2, \"5\": 1, \"14\": 2, \"3\": 1, \"57\": 1, \"50\": 1, \"48\": 1, \"51\": 2}, \"34\": {\"34\": 27, \"52\": 1, \"0\": 1, \"41\": 1, \"15\": 1, \"48\": 1}, \"41\": {\"41\": 17, \"30\": 1, \"48\": 6, \"6\": 1, \"52\": 1, \"3\": 1, \"43\": 1}, \"24\": {\"24\": 87, \"47\": 1, \"46\": 4, \"10\": 2, \"43\": 6, \"51\": 1, \"28\": 1, \"15\": 2}, \"55\": {\"55\": 97, \"19\": 8, \"25\": 4, \"44\": 1, \"24\": 2, \"40\": 1, \"29\": 1, \"56\": 1, \"22\": 3}}, \"C_4\": {\"52\": {\"52\": 113, \"16\": 2, \"15\": 1}, \"6\": {\"24\": 2, \"25\": 3, \"15\": 4, \"6\": 26, \"27\": 3, \"11\": 2, \"55\": 2, \"41\": 3, \"1\": 1, \"23\": 6, \"12\": 5, \"46\": 1, \"50\": 6, \"18\": 5, \"20\": 7, \"0\": 1, \"21\": 1, \"36\": 2, \"3\": 3, \"45\": 2, \"54\": 1, \"51\": 1, \"52\": 1, \"8\": 3, \"5\": 3, \"48\": 4, \"16\": 4, \"53\": 2, \"14\": 1, \"28\": 1, \"4\": 2, \"49\": 1, \"35\": 1, \"17\": 1, \"9\": 1}, \"14\": {\"14\": 8, \"43\": 1, \"31\": 1, \"22\": 1, \"38\": 1, \"24\": 1, \"10\": 1, \"13\": 1, \"33\": 1}, \"49\": {\"49\": 15, \"6\": 1, \"47\": 1, \"52\": 1, \"41\": 1, \"1\": 1}, \"0\": {\"46\": 3, \"0\": 60, \"22\": 3, \"16\": 2, \"43\": 3, \"52\": 1, \"11\": 4, \"5\": 2, \"47\": 1, \"15\": 1}, \"46\": {\"52\": 26, \"11\": 13, \"14\": 1, \"18\": 3, \"46\": 38, \"15\": 22, \"20\": 4, \"55\": 4, \"2\": 1, \"5\": 4, \"43\": 8, \"21\": 2, \"16\": 6, \"47\": 2, \"25\": 2, \"23\": 6, \"30\": 2, \"12\": 1, \"56\": 3, \"4\": 1, \"39\": 1, \"44\": 2, \"24\": 1, \"51\": 1, \"10\": 2}, \"41\": {\"41\": 36}, \"24\": {\"24\": 40, \"6\": 3, \"43\": 3, \"51\": 1, \"5\": 2, \"19\": 1, \"26\": 1, \"14\": 1, \"50\": 1, \"21\": 1, \"12\": 1, \"47\": 1}, \"25\": {\"25\": 98, \"6\": 3, \"57\": 2, \"3\": 6, \"21\": 15, \"50\": 7, \"48\": 3, \"8\": 3, \"53\": 1, \"51\": 1, \"46\": 3, \"37\": 1, \"54\": 2, \"40\": 1, \"27\": 1, \"36\": 1, \"55\": 2, \"20\": 1, \"4\": 1}, \"40\": {\"40\": 118, \"14\": 1, \"55\": 11, \"44\": 3, \"53\": 1, \"50\": 2, \"19\": 1, \"56\": 1}, \"38\": {\"13\": 2, \"0\": 1, \"38\": 36, \"55\": 1}, \"13\": {\"13\": 150, \"14\": 1, \"56\": 1}, \"9\": {\"9\": 81, \"19\": 3, \"4\": 13, \"50\": 2, \"53\": 4, \"29\": 1, \"45\": 2, \"3\": 1, \"17\": 1}, \"45\": {\"45\": 59, \"51\": 2, \"3\": 1, \"9\": 9, \"54\": 2, \"50\": 3, \"12\": 1, \"53\": 2, \"4\": 8, \"6\": 2, \"57\": 1, \"34\": 1, \"17\": 2, \"21\": 1, \"11\": 1, \"36\": 1}, \"43\": {\"43\": 132, \"24\": 1, \"0\": 6, \"46\": 2, \"5\": 1, \"6\": 1, \"47\": 1}, \"10\": {\"10\": 130}, \"15\": {\"15\": 114, \"35\": 1, \"52\": 5, \"16\": 6, \"25\": 1, \"55\": 1}, \"39\": {\"39\": 18, \"52\": 1, \"16\": 1}, \"4\": {\"1\": 1, \"4\": 81, \"48\": 1, \"26\": 2, \"27\": 10, \"3\": 3, \"9\": 13, \"19\": 3, \"45\": 5, \"53\": 1, \"11\": 1, \"44\": 2, \"52\": 1, \"35\": 1, \"29\": 2, \"50\": 1, \"57\": 1, \"30\": 1, \"17\": 2}, \"53\": {\"53\": 122, \"51\": 8, \"36\": 1, \"40\": 1}, \"1\": {\"39\": 2, \"11\": 2, \"49\": 1, \"30\": 1, \"1\": 23, \"41\": 1, \"52\": 1, \"20\": 1, \"16\": 7, \"56\": 1}, \"28\": {\"28\": 21, \"6\": 1, \"17\": 1, \"4\": 3, \"50\": 1, \"29\": 3, \"19\": 1, \"9\": 1}, \"54\": {\"39\": 2, \"54\": 69, \"36\": 3, \"20\": 9, \"6\": 1, \"41\": 2, \"23\": 5, \"15\": 1, \"52\": 6, \"18\": 1, \"16\": 8, \"30\": 1}, \"21\": {\"21\": 121, \"12\": 2, \"8\": 4, \"3\": 1, \"42\": 1, \"20\": 1, \"51\": 2}, \"7\": {\"7\": 20, \"40\": 1, \"35\": 1, \"57\": 1, \"18\": 1}, \"8\": {\"8\": 94, \"18\": 6, \"30\": 4, \"12\": 12, \"16\": 2, \"52\": 4, \"20\": 6, \"15\": 4, \"54\": 1, \"42\": 1, \"6\": 1, \"23\": 1}, \"42\": {\"41\": 5, \"42\": 25, \"11\": 1, \"54\": 1}, \"11\": {\"11\": 58, \"15\": 18, \"16\": 10, \"23\": 2, \"56\": 1, \"52\": 4, \"5\": 1, \"18\": 2, \"20\": 3, \"25\": 1, \"46\": 2, \"43\": 1, \"19\": 1}, \"33\": {\"33\": 31, \"28\": 2, \"44\": 1, \"19\": 2}, \"27\": {\"23\": 4, \"27\": 95, \"17\": 5, \"40\": 1, \"54\": 1, \"30\": 3, \"48\": 16, \"15\": 2, \"18\": 5, \"47\": 3, \"42\": 1, \"16\": 2, \"8\": 1, \"20\": 2, \"52\": 1}, \"19\": {\"57\": 2, \"19\": 100, \"33\": 6, \"28\": 1, \"27\": 1, \"55\": 1, \"44\": 7, \"4\": 6, \"9\": 3, \"29\": 7, \"50\": 2, \"26\": 1, \"35\": 4, \"24\": 1, \"43\": 1, \"46\": 1}, \"2\": {\"2\": 25, \"47\": 1, \"10\": 3, \"41\": 2, \"24\": 1, \"15\": 1, \"1\": 1, \"43\": 2}, \"3\": {\"57\": 1, \"3\": 27, \"6\": 4, \"23\": 6, \"16\": 4, \"15\": 6, \"25\": 1, \"41\": 1, \"48\": 4, \"30\": 1, \"21\": 2, \"12\": 7, \"5\": 6, \"55\": 1, \"51\": 7, \"36\": 3, \"27\": 2, \"8\": 9, \"18\": 4, \"54\": 6, \"47\": 1, \"52\": 3, \"20\": 9, \"45\": 3, \"50\": 1, \"11\": 1}, \"57\": {\"57\": 68, \"27\": 8, \"39\": 1, \"7\": 2, \"35\": 4, \"30\": 1, \"29\": 5, \"56\": 1, \"5\": 1, \"0\": 1, \"6\": 2, \"4\": 2, \"32\": 1, \"12\": 1, \"17\": 1, \"28\": 1}, \"20\": {\"20\": 74, \"23\": 15, \"18\": 16, \"16\": 2, \"55\": 1, \"41\": 2, \"52\": 1, \"25\": 1}, \"23\": {\"23\": 115, \"16\": 1, \"18\": 10, \"20\": 2}, \"22\": {\"22\": 101, \"46\": 6, \"11\": 5, \"10\": 6, \"16\": 1, \"43\": 2, \"0\": 4, \"15\": 2, \"56\": 1}, \"29\": {\"57\": 10, \"38\": 1, \"49\": 3, \"33\": 1, \"29\": 60, \"54\": 1, \"19\": 5, \"35\": 4, \"41\": 1, \"44\": 3, \"27\": 2, \"28\": 2, \"46\": 2, \"4\": 8, \"47\": 3, \"18\": 1, \"52\": 1, \"48\": 3, \"9\": 4, \"15\": 4, \"5\": 1, \"51\": 1, \"11\": 1, \"22\": 1, \"43\": 1}, \"36\": {\"39\": 3, \"36\": 38, \"11\": 2, \"15\": 2, \"52\": 4, \"18\": 10, \"44\": 2, \"23\": 5, \"54\": 10, \"20\": 7, \"12\": 2, \"16\": 4, \"42\": 1, \"8\": 2}, \"51\": {\"51\": 95, \"5\": 2, \"54\": 1, \"12\": 3, \"36\": 5, \"21\": 11, \"8\": 3, \"53\": 5, \"3\": 5, \"30\": 1, \"20\": 1}, \"31\": {\"31\": 28}, \"12\": {\"12\": 43, \"41\": 1, \"30\": 4, \"23\": 7, \"16\": 4, \"18\": 8, \"8\": 6, \"20\": 7, \"5\": 1, \"48\": 2, \"52\": 2, \"3\": 2, \"46\": 1, \"15\": 2, \"54\": 1, \"21\": 1}, \"56\": {\"38\": 2, \"14\": 1, \"56\": 117, \"10\": 8, \"0\": 1, \"13\": 5, \"55\": 2, \"46\": 1, \"43\": 1}, \"5\": {\"5\": 14, \"41\": 2, \"23\": 10, \"51\": 1, \"54\": 1, \"12\": 4, \"57\": 3, \"18\": 5, \"15\": 14, \"20\": 8, \"16\": 10, \"52\": 12, \"55\": 1, \"8\": 5, \"36\": 2, \"4\": 1, \"47\": 6, \"53\": 1, \"26\": 1, \"39\": 2, \"6\": 2, \"11\": 1, \"3\": 1, \"48\": 1}, \"35\": {\"35\": 33, \"19\": 1, \"57\": 3, \"40\": 1, \"27\": 2}, \"17\": {\"17\": 68, \"48\": 4, \"49\": 1, \"53\": 1, \"36\": 1, \"27\": 4, \"46\": 1}, \"32\": {\"32\": 23, \"27\": 1}, \"47\": {\"52\": 18, \"47\": 49, \"39\": 2, \"23\": 6, \"41\": 1, \"12\": 3, \"16\": 4, \"15\": 13, \"18\": 7, \"27\": 2, \"5\": 3, \"46\": 2, \"8\": 1, \"3\": 1, \"20\": 1, \"1\": 1, \"48\": 6}, \"18\": {\"18\": 90, \"37\": 1, \"23\": 7, \"20\": 2, \"13\": 1, \"55\": 1, \"16\": 4, \"15\": 2}, \"26\": {\"26\": 16, \"36\": 1, \"54\": 4, \"3\": 1, \"34\": 1, \"45\": 1}, \"50\": {\"12\": 4, \"4\": 5, \"48\": 1, \"45\": 2, \"50\": 56, \"6\": 7, \"46\": 2, \"11\": 3, \"54\": 1, \"3\": 8, \"53\": 7, \"51\": 5, \"52\": 1, \"27\": 3, \"9\": 5, \"15\": 2, \"36\": 1, \"34\": 3, \"21\": 1, \"57\": 1, \"5\": 1, \"16\": 1, \"25\": 1, \"8\": 1}, \"55\": {\"55\": 102, \"33\": 1, \"44\": 6, \"19\": 4, \"35\": 2, \"9\": 1, \"48\": 1, \"15\": 2, \"50\": 1, \"25\": 2, \"46\": 1, \"3\": 1}, \"34\": {\"34\": 23, \"26\": 1}, \"30\": {\"45\": 1, \"30\": 21, \"18\": 2, \"8\": 9, \"20\": 3, \"23\": 1, \"12\": 3, \"54\": 1, \"48\": 1, \"16\": 2}, \"37\": {\"37\": 24}, \"44\": {\"33\": 1, \"4\": 11, \"19\": 13, \"44\": 69, \"24\": 2, \"57\": 3, \"48\": 1, \"29\": 9, \"35\": 3, \"43\": 1, \"53\": 1, \"56\": 1, \"36\": 2, \"5\": 2, \"6\": 3, \"40\": 1, \"55\": 3, \"20\": 1, \"13\": 1, \"45\": 1, \"9\": 3}, \"48\": {\"18\": 4, \"27\": 5, \"54\": 2, \"41\": 1, \"19\": 2, \"48\": 82, \"12\": 1, \"3\": 3, \"20\": 7, \"15\": 2, \"5\": 1, \"6\": 1, \"16\": 3, \"47\": 2, \"8\": 1, \"44\": 1}, \"16\": {\"16\": 93, \"23\": 1, \"52\": 1, \"41\": 1}}, \"C_2\": {\"11\": {\"39\": 1, \"11\": 78, \"41\": 1, \"16\": 13, \"15\": 20, \"54\": 1, \"52\": 6, \"7\": 1, \"23\": 6, \"6\": 1, \"51\": 1, \"30\": 1}, \"21\": {\"20\": 8, \"21\": 83, \"8\": 2, \"50\": 2, \"52\": 2, \"51\": 6, \"23\": 2, \"6\": 2, \"36\": 6, \"2\": 1, \"12\": 1, \"26\": 1, \"16\": 1, \"54\": 3}, \"19\": {\"19\": 94, \"33\": 2, \"1\": 1, \"43\": 2, \"29\": 12, \"3\": 3, \"53\": 2, \"40\": 1, \"45\": 1, \"9\": 6, \"4\": 4, \"57\": 3, \"55\": 2, \"46\": 2, \"47\": 1, \"44\": 3, \"5\": 1}, \"20\": {\"20\": 76, \"41\": 1, \"50\": 5, \"54\": 9, \"8\": 14, \"6\": 4, \"16\": 5, \"21\": 3, \"51\": 4, \"40\": 1, \"30\": 2, \"23\": 1, \"12\": 2, \"44\": 1}, \"9\": {\"9\": 113, \"29\": 1, \"3\": 2, \"53\": 1, \"4\": 10, \"48\": 1, \"46\": 1, \"19\": 1, \"2\": 1, \"45\": 5, \"47\": 1, \"1\": 1, \"24\": 1, \"5\": 1}, \"10\": {\"10\": 111, \"43\": 1}, \"37\": {\"37\": 36}, \"32\": {\"32\": 13, \"18\": 3, \"27\": 2, \"26\": 3, \"57\": 1, \"30\": 1, \"23\": 1, \"49\": 2, \"17\": 1, \"6\": 1}, \"3\": {\"39\": 1, \"3\": 19, \"47\": 1, \"29\": 3, \"18\": 3, \"52\": 6, \"2\": 2, \"34\": 1, \"15\": 4, \"41\": 1, \"50\": 1, \"16\": 5, \"48\": 2, \"30\": 4, \"25\": 2, \"46\": 4, \"45\": 1, \"4\": 3, \"44\": 2, \"19\": 1, \"43\": 5, \"54\": 1, \"6\": 3, \"51\": 2, \"21\": 1, \"17\": 2, \"9\": 1, \"36\": 1, \"24\": 1, \"27\": 1, \"57\": 1, \"23\": 5, \"12\": 2}, \"39\": {\"39\": 22, \"15\": 1, \"23\": 2, \"41\": 2, \"16\": 1}, \"45\": {\"9\": 18, \"50\": 8, \"4\": 13, \"53\": 4, \"45\": 37, \"43\": 1, \"21\": 7, \"2\": 1, \"8\": 2, \"6\": 5, \"51\": 2, \"29\": 2, \"48\": 1, \"19\": 6, \"46\": 5, \"55\": 2, \"57\": 2, \"5\": 2, \"27\": 1, \"32\": 1, \"34\": 1, \"12\": 2, \"25\": 2, \"3\": 3}, \"50\": {\"12\": 3, \"32\": 1, \"53\": 3, \"39\": 1, \"34\": 1, \"2\": 3, \"50\": 26, \"30\": 13, \"36\": 9, \"27\": 1, \"11\": 4, \"46\": 6, \"21\": 3, \"24\": 1, \"20\": 10, \"3\": 1, \"52\": 4, \"16\": 5, \"45\": 1, \"54\": 5, \"6\": 2, \"23\": 5, \"25\": 1, \"48\": 2, \"51\": 5, \"8\": 12, \"15\": 2, \"41\": 1, \"18\": 1, \"57\": 1, \"5\": 2, \"17\": 1}, \"40\": {\"40\": 120, \"45\": 4, \"35\": 4, \"29\": 1, \"50\": 1, \"55\": 2, \"24\": 1, \"19\": 2, \"34\": 1, \"3\": 1, \"4\": 1, \"13\": 1, \"44\": 1}, \"46\": {\"46\": 63, \"3\": 2, \"48\": 5, \"54\": 2, \"50\": 4, \"2\": 2, \"29\": 2, \"43\": 2, \"53\": 10, \"55\": 3, \"51\": 3, \"17\": 1, \"52\": 1, \"36\": 3, \"24\": 4, \"8\": 2, \"15\": 3, \"11\": 1, \"45\": 1, \"20\": 2, \"21\": 2, \"44\": 1, \"28\": 1, \"19\": 1, \"6\": 4, \"0\": 1, \"30\": 1, \"47\": 1}, \"12\": {\"12\": 55, \"18\": 7, \"36\": 5, \"0\": 1, \"26\": 1, \"54\": 3, \"6\": 7, \"50\": 3, \"30\": 1, \"52\": 1, \"16\": 1, \"23\": 3, \"46\": 1, \"20\": 2, \"51\": 1}, \"13\": {\"13\": 116}, \"47\": {\"3\": 2, \"47\": 55, \"54\": 5, \"48\": 18, \"15\": 16, \"16\": 4, \"0\": 2, \"57\": 5, \"12\": 1, \"1\": 5, \"29\": 1, \"5\": 3, \"52\": 5, \"11\": 2, \"23\": 2, \"27\": 3, \"17\": 1, \"43\": 1, \"6\": 1}, \"15\": {\"15\": 137, \"52\": 4, \"16\": 1}, \"54\": {\"54\": 57, \"23\": 6, \"30\": 13, \"26\": 3, \"39\": 2, \"16\": 5, \"12\": 8, \"52\": 5, \"20\": 2, \"6\": 3, \"18\": 2, \"36\": 1, \"50\": 1}, \"48\": {\"27\": 12, \"15\": 12, \"48\": 74, \"36\": 3, \"52\": 15, \"23\": 10, \"6\": 6, \"12\": 2, \"16\": 2, \"30\": 8, \"11\": 2, \"54\": 2}, \"23\": {\"15\": 2, \"23\": 114, \"16\": 4, \"52\": 11, \"30\": 11}, \"29\": {\"47\": 1, \"29\": 85, \"57\": 7, \"19\": 12, \"28\": 1, \"42\": 3, \"1\": 1, \"50\": 1, \"9\": 4, \"44\": 2, \"4\": 2, \"3\": 1, \"5\": 4, \"33\": 1, \"34\": 2, \"46\": 1}, \"38\": {\"38\": 20}, \"53\": {\"53\": 127, \"50\": 1, \"46\": 2, \"51\": 4, \"8\": 2}, \"27\": {\"54\": 3, \"48\": 15, \"27\": 99, \"41\": 1, \"26\": 1, \"12\": 4, \"16\": 1, \"6\": 7, \"30\": 11, \"52\": 1, \"32\": 1, \"18\": 1, \"23\": 3, \"15\": 2}, \"43\": {\"43\": 135, \"24\": 6, \"28\": 1, \"56\": 1, \"46\": 1}, \"35\": {\"35\": 28, \"40\": 3, \"14\": 1}, \"0\": {\"52\": 4, \"18\": 2, \"0\": 19, \"48\": 2, \"30\": 3, \"15\": 5, \"16\": 6, \"6\": 1, \"11\": 1, \"7\": 1, \"39\": 2, \"54\": 1, \"23\": 1}, \"52\": {\"52\": 110, \"15\": 9, \"25\": 1, \"16\": 3, \"23\": 1}, \"8\": {\"8\": 87, \"18\": 2, \"50\": 5, \"12\": 3, \"20\": 8, \"30\": 3, \"52\": 1, \"6\": 3, \"54\": 3, \"36\": 2, \"48\": 1, \"15\": 5, \"16\": 4, \"51\": 1}, \"24\": {\"3\": 4, \"43\": 7, \"24\": 72, \"38\": 2, \"22\": 1, \"8\": 1, \"46\": 3, \"51\": 1, \"10\": 4, \"47\": 1}, \"18\": {\"18\": 43, \"30\": 4, \"23\": 1}, \"25\": {\"25\": 80, \"12\": 1, \"51\": 3, \"8\": 3, \"21\": 12, \"42\": 1, \"55\": 2, \"50\": 1, \"3\": 5, \"45\": 5, \"6\": 3, \"30\": 2, \"40\": 3, \"19\": 2, \"24\": 1, \"20\": 4, \"43\": 1, \"1\": 2, \"57\": 1, \"27\": 5, \"37\": 1, \"32\": 1, \"49\": 1, \"34\": 1, \"31\": 1, \"17\": 2, \"36\": 1, \"52\": 1, \"23\": 1, \"9\": 1}, \"57\": {\"57\": 96, \"49\": 3, \"27\": 6, \"52\": 1, \"48\": 10, \"17\": 9, \"5\": 4, \"47\": 1, \"15\": 4, \"1\": 1, \"0\": 1}, \"55\": {\"37\": 2, \"55\": 110, \"44\": 7, \"48\": 1, \"4\": 3, \"29\": 4, \"56\": 1, \"19\": 3, \"25\": 2, \"45\": 1}, \"36\": {\"2\": 1, \"18\": 8, \"23\": 5, \"12\": 5, \"36\": 56, \"6\": 6, \"26\": 2, \"52\": 2, \"54\": 12, \"16\": 5, \"30\": 10, \"11\": 1, \"41\": 2, \"15\": 1}, \"17\": {\"17\": 92, \"27\": 4, \"12\": 1, \"57\": 1, \"48\": 3, \"49\": 1, \"7\": 1, \"54\": 1}, \"2\": {\"2\": 10, \"16\": 3, \"54\": 2, \"36\": 4, \"3\": 2, \"52\": 5, \"7\": 1, \"51\": 3, \"28\": 1, \"32\": 1}, \"34\": {\"34\": 27, \"32\": 1}, \"1\": {\"57\": 4, \"1\": 41, \"43\": 1, \"52\": 6, \"36\": 2, \"53\": 1, \"30\": 3, \"28\": 1, \"16\": 9, \"27\": 3, \"48\": 9, \"5\": 2, \"11\": 4, \"17\": 1, \"23\": 4, \"15\": 5, \"46\": 3, \"6\": 3, \"18\": 4, \"50\": 2, \"49\": 1, \"51\": 1, \"3\": 1, \"47\": 1}, \"51\": {\"51\": 91, \"20\": 12, \"50\": 3, \"54\": 4, \"21\": 11, \"8\": 5, \"6\": 1, \"2\": 3, \"30\": 1, \"36\": 2, \"23\": 2, \"11\": 1}, \"31\": {\"31\": 26, \"24\": 1, \"9\": 1}, \"49\": {\"41\": 3, \"15\": 1, \"3\": 1, \"32\": 4, \"18\": 2, \"1\": 1, \"39\": 2, \"16\": 1, \"49\": 6, \"6\": 2, \"30\": 1}, \"14\": {\"19\": 1, \"35\": 3, \"14\": 13, \"22\": 2, \"44\": 1, \"55\": 1, \"10\": 1, \"38\": 1, \"31\": 1}, \"33\": {\"33\": 26, \"29\": 1, \"45\": 1}, \"41\": {\"41\": 13, \"16\": 1, \"52\": 1, \"23\": 4, \"39\": 1}, \"28\": {\"28\": 22, \"11\": 2, \"25\": 1, \"6\": 1, \"55\": 1, \"30\": 1}, \"5\": {\"5\": 67, \"39\": 1, \"6\": 3, \"7\": 3, \"30\": 1, \"11\": 3, \"47\": 3, \"43\": 1, \"57\": 10, \"27\": 7, \"23\": 3, \"48\": 5, \"1\": 7, \"21\": 1, \"24\": 1, \"51\": 1, \"15\": 1, \"50\": 1, \"54\": 1}, \"16\": {\"16\": 141, \"23\": 5, \"52\": 3, \"30\": 1}, \"4\": {\"4\": 74, \"45\": 10, \"9\": 11, \"19\": 11, \"46\": 1, \"29\": 7, \"17\": 1, \"21\": 2, \"51\": 1, \"57\": 1, \"33\": 4, \"34\": 3, \"3\": 1, \"47\": 1}, \"22\": {\"22\": 117, \"43\": 3, \"56\": 10, \"10\": 3, \"55\": 2, \"24\": 1}, \"6\": {\"34\": 1, \"41\": 1, \"30\": 11, \"54\": 3, \"6\": 34, \"23\": 12, \"39\": 2, \"18\": 5, \"12\": 7, \"1\": 1, \"27\": 6, \"52\": 6, \"48\": 8, \"50\": 1, \"16\": 6, \"43\": 1, \"46\": 1, \"28\": 2, \"3\": 1, \"15\": 1, \"5\": 2, \"57\": 1, \"45\": 1, \"51\": 2, \"53\": 1, \"8\": 1}, \"30\": {\"30\": 93, \"16\": 4, \"18\": 5, \"52\": 4, \"48\": 2, \"6\": 1, \"23\": 14, \"54\": 1}, \"26\": {\"26\": 18, \"18\": 4, \"54\": 2}, \"56\": {\"56\": 126, \"22\": 14, \"10\": 1, \"24\": 1}, \"42\": {\"42\": 32, \"57\": 1, \"25\": 1, \"29\": 1, \"46\": 1}, \"44\": {\"4\": 5, \"53\": 2, \"31\": 1, \"44\": 51, \"45\": 5, \"47\": 2, \"56\": 1, \"3\": 2, \"13\": 1, \"40\": 6, \"29\": 4, \"55\": 5, \"43\": 1, \"19\": 4, \"10\": 1, \"33\": 1, \"42\": 2, \"50\": 1, \"46\": 3, \"5\": 1, \"9\": 1}, \"7\": {\"48\": 5, \"7\": 19, \"17\": 1, \"52\": 1, \"11\": 1, \"15\": 2, \"0\": 3, \"6\": 1, \"39\": 1, \"23\": 1, \"41\": 1}}}, \"per_domain_accuracy\": {\"O_26\": {\"accuracy\": 0.7119791666666667, \"source?\": true}, \"O_44\": {\"accuracy\": 0.7567708333333333, \"source?\": true}, \"O_50\": {\"accuracy\": 0.87734375, \"source?\": true}, \"O_38\": {\"accuracy\": 0.8981770833333333, \"source?\": true}, \"O_20\": {\"accuracy\": 0.8072916666666666, \"source?\": true}, \"O_14\": {\"accuracy\": 0.89921875, \"source?\": true}, \"O_32\": {\"accuracy\": 0.875, \"source?\": true}, \"O_8\": {\"accuracy\": 0.8190104166666666, \"source?\": true}, \"C_5\": {\"accuracy\": 0.6778980446927374, \"source?\": false}, \"C_1\": {\"accuracy\": 0.7348845108695652, \"source?\": false}, \"C_3\": {\"accuracy\": 0.6856617647058824, \"source?\": false}, \"C_4\": {\"accuracy\": 0.6939006024096386, \"source?\": false}, \"C_2\": {\"accuracy\": 0.6756036931818182, \"source?\": false}}}, \"history\": {\"epoch_indices\": [1, 2, 3, 4, 5, 6, 7, 8, 9, 10, 11, 12], \"train_label_loss\": [0.983614425649423, 0.9145176537534488, 0.6344270791115594, 0.5493435594297591, 0.4889218819893098, 0.4528003064172697, 0.418768060413034, 0.38627733623060134, 0.35069717768291453, 0.3141845065266049, 0.29132310956629226, 0.28055802381963335], \"source_val_label_loss\": [7.659168720245361, 0.7919127941131592, 0.6635648012161255, 0.5483983755111694, 0.5190646052360535, 0.4772810935974121, 0.4146806299686432, 0.460190087556839, 0.368272989988327, 0.38526907563209534, 0.34438151121139526, 0.3711033761501312], \"target_val_label_loss\": [1605.9853515625, 207.21495056152344, 179.35081481933594, 152.4657440185547, 190.6475372314453, 148.06190490722656, 170.2611083984375, 172.59181213378906, 195.9068145751953, 199.54627990722656, 206.51844787597656, 254.72471618652344], \"source_val_acc_label\": [0.6646809895833333, 0.7064453125, 0.7526041666666666, 0.8000651041666667, 0.8118489583333334, 0.8271158854166667, 0.8505208333333333, 0.8305989583333333, 0.8664713541666667, 0.8618815104166667, 0.8740234375, 0.8659830729166667], \"target_val_acc_label\": [0.5655357142857143, 0.6418214285714285, 0.6273571428571428, 0.6298571428571429, 0.6700714285714285, 0.6806785714285715, 0.6815, 0.6939642857142857, 0.6928571428571428, 0.6831071428571428, 0.6676071428571428, 0.68025]}, \"dataset_metrics\": {\"source\": {\"train\": {\"n_unique_x\": 179200, \"n_unique_y\": 16, \"n_batch/episode\": 6720}, \"val\": {\"n_unique_x\": 38400, \"n_unique_y\": 16, \"n_batch/episode\": 960}, \"test\": {\"n_unique_x\": 38400, \"n_unique_y\": 16, \"n_batch/episode\": 960}}, \"target\": {\"train\": {\"n_unique_x\": 175203, \"n_unique_y\": 58, \"n_batch/episode\": 6321}, \"val\": {\"n_unique_x\": 37151, \"n_unique_y\": 58, \"n_batch/episode\": 875}, \"test\": {\"n_unique_x\": 37548, \"n_unique_y\": 58, \"n_batch/episode\": 885}}}}'"
      ]
     },
     "execution_count": 29,
     "metadata": {},
     "output_type": "execute_result"
    }
   ],
   "source": [
    "json.dumps(experiment)"
   ]
  }
 ],
 "metadata": {
  "celltoolbar": "Tags",
  "kernelspec": {
   "display_name": "Python 3 (ipykernel)",
   "language": "python",
   "name": "python3"
  },
  "language_info": {
   "codemirror_mode": {
    "name": "ipython",
    "version": 3
   },
   "file_extension": ".py",
   "mimetype": "text/x-python",
   "name": "python",
   "nbconvert_exporter": "python",
   "pygments_lexer": "ipython3",
   "version": "3.8.10"
  },
  "papermill": {
   "default_parameters": {},
   "duration": 3831.799744,
   "end_time": "2022-03-26T03:07:44.422280",
   "environment_variables": {},
   "exception": null,
   "input_path": "/mnt/wd500GB/CSC500/csc500-main/csc500-notebooks/templates/tl_ptn_template.ipynb",
   "output_path": "trial.ipynb",
   "parameters": {
    "parameters": {
     "BEST_MODEL_PATH": "./best_model.pth",
     "NUM_LOGS_PER_EPOCH": 10,
     "criteria_for_best": "target_accuracy",
     "dataset_seed": 7,
     "datasets": [
      {
       "domain_prefix": "C_",
       "domains": [
        1,
        2,
        3,
        4,
        5
       ],
       "episode_transforms": [],
       "labels": [
        "1-10.",
        "1-11.",
        "1-15.",
        "1-16.",
        "1-17.",
        "1-18.",
        "1-19.",
        "10-4.",
        "10-7.",
        "11-1.",
        "11-14.",
        "11-17.",
        "11-20.",
        "11-7.",
        "13-20.",
        "13-8.",
        "14-10.",
        "14-11.",
        "14-14.",
        "14-7.",
        "15-1.",
        "15-20.",
        "16-1.",
        "16-16.",
        "17-10.",
        "17-11.",
        "17-2.",
        "19-1.",
        "19-16.",
        "19-19.",
        "19-20.",
        "19-3.",
        "2-10.",
        "2-11.",
        "2-17.",
        "2-18.",
        "2-20.",
        "2-3.",
        "2-4.",
        "2-5.",
        "2-6.",
        "2-7.",
        "2-8.",
        "3-13.",
        "3-18.",
        "3-3.",
        "4-1.",
        "4-10.",
        "4-11.",
        "4-19.",
        "5-5.",
        "6-15.",
        "7-10.",
        "7-14.",
        "8-18.",
        "8-20.",
        "8-3.",
        "8-8."
       ],
       "num_examples_per_domain_per_label": -1,
       "pickle_path": "/mnt/wd500GB/CSC500/csc500-main/datasets/cores.stratified_ds.2022A.pkl",
       "source_or_target_dataset": "target",
       "x_transforms": [
        "unit_mag",
        "lowpass_+/-10MHz",
        "take_200"
       ]
      },
      {
       "domain_prefix": "O_",
       "domains": [
        32,
        38,
        8,
        44,
        14,
        50,
        20,
        26
       ],
       "episode_transforms": [],
       "labels": [
        "3123D52",
        "3123D65",
        "3123D79",
        "3123D80",
        "3123D54",
        "3123D70",
        "3123D7B",
        "3123D89",
        "3123D58",
        "3123D76",
        "3123D7D",
        "3123EFE",
        "3123D64",
        "3123D78",
        "3123D7E",
        "3124E4A"
       ],
       "num_examples_per_domain_per_label": 2000,
       "pickle_path": "/mnt/wd500GB/CSC500/csc500-main/datasets/oracle.Run1_framed_2000Examples_stratified_ds.2022A.pkl",
       "source_or_target_dataset": "source",
       "x_transforms": [
        "unit_mag",
        "take_200",
        "resample_20Msps_to_25Msps"
       ]
      }
     ],
     "device": "cuda",
     "experiment_name": "tl_3-filterv2:oracle.run1.framed -> cores",
     "lr": 0.0001,
     "n_epoch": 50,
     "n_query": 2,
     "n_shot": 3,
     "n_way": 16,
     "patience": 3,
     "seed": 7,
     "test_k_factor": 2,
     "torch_default_dtype": "torch.float32",
     "train_k_factor": 3,
     "val_k_factor": 2,
     "x_net": [
      {
       "class": "nnReshape",
       "kargs": {
        "shape": [
         -1,
         1,
         2,
         200
        ]
       }
      },
      {
       "class": "Conv2d",
       "kargs": {
        "bias": false,
        "in_channels": 1,
        "kernel_size": [
         1,
         7
        ],
        "out_channels": 256,
        "padding": [
         0,
         3
        ]
       }
      },
      {
       "class": "ReLU",
       "kargs": {
        "inplace": true
       }
      },
      {
       "class": "BatchNorm2d",
       "kargs": {
        "num_features": 256
       }
      },
      {
       "class": "Conv2d",
       "kargs": {
        "bias": true,
        "in_channels": 256,
        "kernel_size": [
         2,
         7
        ],
        "out_channels": 80,
        "padding": [
         0,
         3
        ]
       }
      },
      {
       "class": "ReLU",
       "kargs": {
        "inplace": true
       }
      },
      {
       "class": "BatchNorm2d",
       "kargs": {
        "num_features": 80
       }
      },
      {
       "class": "Flatten",
       "kargs": {}
      },
      {
       "class": "Linear",
       "kargs": {
        "in_features": 16000,
        "out_features": 256
       }
      },
      {
       "class": "ReLU",
       "kargs": {
        "inplace": true
       }
      },
      {
       "class": "BatchNorm1d",
       "kargs": {
        "num_features": 256
       }
      },
      {
       "class": "Linear",
       "kargs": {
        "in_features": 256,
        "out_features": 256
       }
      }
     ],
     "x_shape": [
      2,
      200
     ]
    }
   },
   "start_time": "2022-03-26T02:03:52.622536",
   "version": "2.3.4"
  }
 },
 "nbformat": 4,
 "nbformat_minor": 5
}