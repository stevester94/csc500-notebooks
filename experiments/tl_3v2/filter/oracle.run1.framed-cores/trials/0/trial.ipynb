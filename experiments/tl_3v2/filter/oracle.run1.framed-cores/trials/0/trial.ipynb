{
 "cells": [
  {
   "cell_type": "markdown",
   "id": "9fea5f46",
   "metadata": {
    "papermill": {
     "duration": 0.021545,
     "end_time": "2022-03-25T20:49:42.324387",
     "exception": false,
     "start_time": "2022-03-25T20:49:42.302842",
     "status": "completed"
    },
    "tags": []
   },
   "source": [
    "# Transfer Learning Template"
   ]
  },
  {
   "cell_type": "code",
   "execution_count": 1,
   "id": "0902182a",
   "metadata": {
    "execution": {
     "iopub.execute_input": "2022-03-25T20:49:42.361369Z",
     "iopub.status.busy": "2022-03-25T20:49:42.360978Z",
     "iopub.status.idle": "2022-03-25T20:49:43.337892Z",
     "shell.execute_reply": "2022-03-25T20:49:43.338135Z"
    },
    "papermill": {
     "duration": 1.000842,
     "end_time": "2022-03-25T20:49:43.338268",
     "exception": false,
     "start_time": "2022-03-25T20:49:42.337426",
     "status": "completed"
    },
    "tags": []
   },
   "outputs": [],
   "source": [
    "%load_ext autoreload\n",
    "%autoreload 2\n",
    "%matplotlib inline\n",
    "\n",
    "    \n",
    "import os, json, sys, time, random\n",
    "import numpy as np\n",
    "import torch\n",
    "from torch.optim import Adam\n",
    "from  easydict import EasyDict\n",
    "import matplotlib.pyplot as plt\n",
    "\n",
    "from steves_models.steves_ptn import Steves_Prototypical_Network\n",
    "\n",
    "from steves_utils.lazy_iterable_wrapper import Lazy_Iterable_Wrapper\n",
    "from steves_utils.iterable_aggregator import Iterable_Aggregator\n",
    "from steves_utils.ptn_train_eval_test_jig import  PTN_Train_Eval_Test_Jig\n",
    "from steves_utils.torch_sequential_builder import build_sequential\n",
    "from steves_utils.torch_utils import get_dataset_metrics, ptn_confusion_by_domain_over_dataloader\n",
    "from steves_utils.utils_v2 import (per_domain_accuracy_from_confusion, get_datasets_base_path)\n",
    "from steves_utils.PTN.utils import independent_accuracy_assesment\n",
    "\n",
    "from torch.utils.data import DataLoader\n",
    "\n",
    "from steves_utils.stratified_dataset.episodic_accessor import Episodic_Accessor_Factory\n",
    "\n",
    "from steves_utils.ptn_do_report import (\n",
    "    get_loss_curve,\n",
    "    get_results_table,\n",
    "    get_parameters_table,\n",
    "    get_domain_accuracies,\n",
    ")\n",
    "\n",
    "from steves_utils.transforms import get_chained_transform"
   ]
  },
  {
   "cell_type": "markdown",
   "id": "41c840b4",
   "metadata": {
    "papermill": {
     "duration": 0.012868,
     "end_time": "2022-03-25T20:49:43.366925",
     "exception": false,
     "start_time": "2022-03-25T20:49:43.354057",
     "status": "completed"
    },
    "tags": []
   },
   "source": [
    "# Allowed Parameters\n",
    "These are allowed parameters, not defaults\n",
    "Each of these values need to be present in the injected parameters (the notebook will raise an exception if they are not present)\n",
    "\n",
    "Papermill uses the cell tag \"parameters\" to inject the real parameters below this cell.\n",
    "Enable tags to see what I mean"
   ]
  },
  {
   "cell_type": "code",
   "execution_count": 2,
   "id": "fd44eb83",
   "metadata": {
    "execution": {
     "iopub.execute_input": "2022-03-25T20:49:43.397549Z",
     "iopub.status.busy": "2022-03-25T20:49:43.395529Z",
     "iopub.status.idle": "2022-03-25T20:49:43.411973Z",
     "shell.execute_reply": "2022-03-25T20:49:43.411483Z"
    },
    "papermill": {
     "duration": 0.031122,
     "end_time": "2022-03-25T20:49:43.412073",
     "exception": false,
     "start_time": "2022-03-25T20:49:43.380951",
     "status": "completed"
    },
    "tags": []
   },
   "outputs": [],
   "source": [
    "required_parameters = {\n",
    "    \"experiment_name\",\n",
    "    \"lr\",\n",
    "    \"device\",\n",
    "    \"seed\",\n",
    "    \"dataset_seed\",\n",
    "    \"n_shot\",\n",
    "    \"n_query\",\n",
    "    \"n_way\",\n",
    "    \"train_k_factor\",\n",
    "    \"val_k_factor\",\n",
    "    \"test_k_factor\",\n",
    "    \"n_epoch\",\n",
    "    \"patience\",\n",
    "    \"criteria_for_best\",\n",
    "    \"x_net\",\n",
    "    \"datasets\",\n",
    "    \"torch_default_dtype\",\n",
    "    \"NUM_LOGS_PER_EPOCH\",\n",
    "    \"BEST_MODEL_PATH\",\n",
    "    \"x_shape\",\n",
    "}"
   ]
  },
  {
   "cell_type": "code",
   "execution_count": 3,
   "id": "fa3f0049",
   "metadata": {
    "execution": {
     "iopub.execute_input": "2022-03-25T20:49:43.453132Z",
     "iopub.status.busy": "2022-03-25T20:49:43.450511Z",
     "iopub.status.idle": "2022-03-25T20:49:43.465916Z",
     "shell.execute_reply": "2022-03-25T20:49:43.466338Z"
    },
    "papermill": {
     "duration": 0.035828,
     "end_time": "2022-03-25T20:49:43.466459",
     "exception": false,
     "start_time": "2022-03-25T20:49:43.430631",
     "status": "completed"
    },
    "tags": [
     "parameters"
    ]
   },
   "outputs": [],
   "source": [
    "from steves_utils.CORES.utils import (\n",
    "    ALL_NODES,\n",
    "    ALL_NODES_MINIMUM_1000_EXAMPLES,\n",
    "    ALL_DAYS\n",
    ")\n",
    "\n",
    "from steves_utils.ORACLE.utils_v2 import (\n",
    "    ALL_DISTANCES_FEET_NARROWED,\n",
    "    ALL_RUNS,\n",
    "    ALL_SERIAL_NUMBERS,\n",
    ")\n",
    "\n",
    "standalone_parameters = {}\n",
    "standalone_parameters[\"experiment_name\"] = \"STANDALONE PTN\"\n",
    "standalone_parameters[\"lr\"] = 0.001\n",
    "standalone_parameters[\"device\"] = \"cuda\"\n",
    "\n",
    "standalone_parameters[\"seed\"] = 1337\n",
    "standalone_parameters[\"dataset_seed\"] = 1337\n",
    "\n",
    "standalone_parameters[\"n_way\"] = 8\n",
    "standalone_parameters[\"n_shot\"] = 3\n",
    "standalone_parameters[\"n_query\"]  = 2\n",
    "standalone_parameters[\"train_k_factor\"] = 1\n",
    "standalone_parameters[\"val_k_factor\"] = 2\n",
    "standalone_parameters[\"test_k_factor\"] = 2\n",
    "\n",
    "\n",
    "standalone_parameters[\"n_epoch\"] = 50\n",
    "\n",
    "standalone_parameters[\"patience\"] = 10\n",
    "standalone_parameters[\"criteria_for_best\"] = \"source_loss\"\n",
    "\n",
    "standalone_parameters[\"datasets\"] = [\n",
    "    {\n",
    "        \"labels\": ALL_SERIAL_NUMBERS,\n",
    "        \"domains\": ALL_DISTANCES_FEET_NARROWED,\n",
    "        \"num_examples_per_domain_per_label\": 100,\n",
    "        \"pickle_path\": os.path.join(get_datasets_base_path(), \"oracle.Run1_framed_2000Examples_stratified_ds.2022A.pkl\"),\n",
    "        \"source_or_target_dataset\": \"source\",\n",
    "        \"x_transforms\": [\"unit_mag\", \"minus_two\"],\n",
    "        \"episode_transforms\": [],\n",
    "        \"domain_prefix\": \"ORACLE_\"\n",
    "    },\n",
    "    {\n",
    "        \"labels\": ALL_NODES,\n",
    "        \"domains\": ALL_DAYS,\n",
    "        \"num_examples_per_domain_per_label\": 100,\n",
    "        \"pickle_path\": os.path.join(get_datasets_base_path(), \"cores.stratified_ds.2022A.pkl\"),\n",
    "        \"source_or_target_dataset\": \"target\",\n",
    "        \"x_transforms\": [\"unit_power\", \"times_zero\"],\n",
    "        \"episode_transforms\": [],\n",
    "        \"domain_prefix\": \"CORES_\"\n",
    "    }   \n",
    "]\n",
    "\n",
    "standalone_parameters[\"torch_default_dtype\"] = \"torch.float32\" \n",
    "\n",
    "\n",
    "\n",
    "standalone_parameters[\"x_net\"] =     [\n",
    "    {\"class\": \"nnReshape\", \"kargs\": {\"shape\":[-1, 1, 2, 256]}},\n",
    "    {\"class\": \"Conv2d\", \"kargs\": { \"in_channels\":1, \"out_channels\":256, \"kernel_size\":(1,7), \"bias\":False, \"padding\":(0,3), },},\n",
    "    {\"class\": \"ReLU\", \"kargs\": {\"inplace\": True}},\n",
    "    {\"class\": \"BatchNorm2d\", \"kargs\": {\"num_features\":256}},\n",
    "\n",
    "    {\"class\": \"Conv2d\", \"kargs\": { \"in_channels\":256, \"out_channels\":80, \"kernel_size\":(2,7), \"bias\":True, \"padding\":(0,3), },},\n",
    "    {\"class\": \"ReLU\", \"kargs\": {\"inplace\": True}},\n",
    "    {\"class\": \"BatchNorm2d\", \"kargs\": {\"num_features\":80}},\n",
    "    {\"class\": \"Flatten\", \"kargs\": {}},\n",
    "\n",
    "    {\"class\": \"Linear\", \"kargs\": {\"in_features\": 80*256, \"out_features\": 256}}, # 80 units per IQ pair\n",
    "    {\"class\": \"ReLU\", \"kargs\": {\"inplace\": True}},\n",
    "    {\"class\": \"BatchNorm1d\", \"kargs\": {\"num_features\":256}},\n",
    "\n",
    "    {\"class\": \"Linear\", \"kargs\": {\"in_features\": 256, \"out_features\": 256}},\n",
    "]\n",
    "\n",
    "# Parameters relevant to results\n",
    "# These parameters will basically never need to change\n",
    "standalone_parameters[\"NUM_LOGS_PER_EPOCH\"] = 10\n",
    "standalone_parameters[\"BEST_MODEL_PATH\"] = \"./best_model.pth\"\n",
    "\n",
    "\n",
    "\n",
    "\n"
   ]
  },
  {
   "cell_type": "code",
   "execution_count": 4,
   "id": "e03577ee",
   "metadata": {
    "execution": {
     "iopub.execute_input": "2022-03-25T20:49:43.509352Z",
     "iopub.status.busy": "2022-03-25T20:49:43.500285Z",
     "iopub.status.idle": "2022-03-25T20:49:43.522868Z",
     "shell.execute_reply": "2022-03-25T20:49:43.522433Z"
    },
    "papermill": {
     "duration": 0.038422,
     "end_time": "2022-03-25T20:49:43.522969",
     "exception": false,
     "start_time": "2022-03-25T20:49:43.484547",
     "status": "completed"
    },
    "tags": [
     "injected-parameters"
    ]
   },
   "outputs": [],
   "source": [
    "# Parameters\n",
    "parameters = {\n",
    "    \"experiment_name\": \"tl_3-filterv2:oracle.run1.framed -> cores\",\n",
    "    \"device\": \"cuda\",\n",
    "    \"lr\": 0.0001,\n",
    "    \"x_shape\": [2, 200],\n",
    "    \"n_shot\": 3,\n",
    "    \"n_query\": 2,\n",
    "    \"train_k_factor\": 3,\n",
    "    \"val_k_factor\": 2,\n",
    "    \"test_k_factor\": 2,\n",
    "    \"torch_default_dtype\": \"torch.float32\",\n",
    "    \"n_epoch\": 50,\n",
    "    \"patience\": 3,\n",
    "    \"criteria_for_best\": \"target_accuracy\",\n",
    "    \"x_net\": [\n",
    "        {\"class\": \"nnReshape\", \"kargs\": {\"shape\": [-1, 1, 2, 200]}},\n",
    "        {\n",
    "            \"class\": \"Conv2d\",\n",
    "            \"kargs\": {\n",
    "                \"in_channels\": 1,\n",
    "                \"out_channels\": 256,\n",
    "                \"kernel_size\": [1, 7],\n",
    "                \"bias\": False,\n",
    "                \"padding\": [0, 3],\n",
    "            },\n",
    "        },\n",
    "        {\"class\": \"ReLU\", \"kargs\": {\"inplace\": True}},\n",
    "        {\"class\": \"BatchNorm2d\", \"kargs\": {\"num_features\": 256}},\n",
    "        {\n",
    "            \"class\": \"Conv2d\",\n",
    "            \"kargs\": {\n",
    "                \"in_channels\": 256,\n",
    "                \"out_channels\": 80,\n",
    "                \"kernel_size\": [2, 7],\n",
    "                \"bias\": True,\n",
    "                \"padding\": [0, 3],\n",
    "            },\n",
    "        },\n",
    "        {\"class\": \"ReLU\", \"kargs\": {\"inplace\": True}},\n",
    "        {\"class\": \"BatchNorm2d\", \"kargs\": {\"num_features\": 80}},\n",
    "        {\"class\": \"Flatten\", \"kargs\": {}},\n",
    "        {\"class\": \"Linear\", \"kargs\": {\"in_features\": 16000, \"out_features\": 256}},\n",
    "        {\"class\": \"ReLU\", \"kargs\": {\"inplace\": True}},\n",
    "        {\"class\": \"BatchNorm1d\", \"kargs\": {\"num_features\": 256}},\n",
    "        {\"class\": \"Linear\", \"kargs\": {\"in_features\": 256, \"out_features\": 256}},\n",
    "    ],\n",
    "    \"NUM_LOGS_PER_EPOCH\": 10,\n",
    "    \"BEST_MODEL_PATH\": \"./best_model.pth\",\n",
    "    \"n_way\": 16,\n",
    "    \"datasets\": [\n",
    "        {\n",
    "            \"labels\": [\n",
    "                \"1-10.\",\n",
    "                \"1-11.\",\n",
    "                \"1-15.\",\n",
    "                \"1-16.\",\n",
    "                \"1-17.\",\n",
    "                \"1-18.\",\n",
    "                \"1-19.\",\n",
    "                \"10-4.\",\n",
    "                \"10-7.\",\n",
    "                \"11-1.\",\n",
    "                \"11-14.\",\n",
    "                \"11-17.\",\n",
    "                \"11-20.\",\n",
    "                \"11-7.\",\n",
    "                \"13-20.\",\n",
    "                \"13-8.\",\n",
    "                \"14-10.\",\n",
    "                \"14-11.\",\n",
    "                \"14-14.\",\n",
    "                \"14-7.\",\n",
    "                \"15-1.\",\n",
    "                \"15-20.\",\n",
    "                \"16-1.\",\n",
    "                \"16-16.\",\n",
    "                \"17-10.\",\n",
    "                \"17-11.\",\n",
    "                \"17-2.\",\n",
    "                \"19-1.\",\n",
    "                \"19-16.\",\n",
    "                \"19-19.\",\n",
    "                \"19-20.\",\n",
    "                \"19-3.\",\n",
    "                \"2-10.\",\n",
    "                \"2-11.\",\n",
    "                \"2-17.\",\n",
    "                \"2-18.\",\n",
    "                \"2-20.\",\n",
    "                \"2-3.\",\n",
    "                \"2-4.\",\n",
    "                \"2-5.\",\n",
    "                \"2-6.\",\n",
    "                \"2-7.\",\n",
    "                \"2-8.\",\n",
    "                \"3-13.\",\n",
    "                \"3-18.\",\n",
    "                \"3-3.\",\n",
    "                \"4-1.\",\n",
    "                \"4-10.\",\n",
    "                \"4-11.\",\n",
    "                \"4-19.\",\n",
    "                \"5-5.\",\n",
    "                \"6-15.\",\n",
    "                \"7-10.\",\n",
    "                \"7-14.\",\n",
    "                \"8-18.\",\n",
    "                \"8-20.\",\n",
    "                \"8-3.\",\n",
    "                \"8-8.\",\n",
    "            ],\n",
    "            \"domains\": [1, 2, 3, 4, 5],\n",
    "            \"num_examples_per_domain_per_label\": -1,\n",
    "            \"pickle_path\": \"/mnt/wd500GB/CSC500/csc500-main/datasets/cores.stratified_ds.2022A.pkl\",\n",
    "            \"source_or_target_dataset\": \"target\",\n",
    "            \"x_transforms\": [\"unit_power\", \"lowpass_+/-10MHz\", \"take_200\"],\n",
    "            \"episode_transforms\": [],\n",
    "            \"domain_prefix\": \"C_\",\n",
    "        },\n",
    "        {\n",
    "            \"labels\": [\n",
    "                \"3123D52\",\n",
    "                \"3123D65\",\n",
    "                \"3123D79\",\n",
    "                \"3123D80\",\n",
    "                \"3123D54\",\n",
    "                \"3123D70\",\n",
    "                \"3123D7B\",\n",
    "                \"3123D89\",\n",
    "                \"3123D58\",\n",
    "                \"3123D76\",\n",
    "                \"3123D7D\",\n",
    "                \"3123EFE\",\n",
    "                \"3123D64\",\n",
    "                \"3123D78\",\n",
    "                \"3123D7E\",\n",
    "                \"3124E4A\",\n",
    "            ],\n",
    "            \"domains\": [32, 38, 8, 44, 14, 50, 20, 26],\n",
    "            \"num_examples_per_domain_per_label\": 2000,\n",
    "            \"pickle_path\": \"/mnt/wd500GB/CSC500/csc500-main/datasets/oracle.Run1_framed_2000Examples_stratified_ds.2022A.pkl\",\n",
    "            \"source_or_target_dataset\": \"source\",\n",
    "            \"x_transforms\": [\"unit_power\", \"take_200\", \"resample_20Msps_to_25Msps\"],\n",
    "            \"episode_transforms\": [],\n",
    "            \"domain_prefix\": \"O_\",\n",
    "        },\n",
    "    ],\n",
    "    \"seed\": 1337,\n",
    "    \"dataset_seed\": 1337,\n",
    "}\n"
   ]
  },
  {
   "cell_type": "code",
   "execution_count": 5,
   "id": "8fa1cc33",
   "metadata": {
    "execution": {
     "iopub.execute_input": "2022-03-25T20:49:43.556920Z",
     "iopub.status.busy": "2022-03-25T20:49:43.556644Z",
     "iopub.status.idle": "2022-03-25T20:49:43.573412Z",
     "shell.execute_reply": "2022-03-25T20:49:43.572954Z"
    },
    "papermill": {
     "duration": 0.033885,
     "end_time": "2022-03-25T20:49:43.573515",
     "exception": false,
     "start_time": "2022-03-25T20:49:43.539630",
     "status": "completed"
    },
    "tags": []
   },
   "outputs": [],
   "source": [
    "# Set this to True if you want to run this template directly\n",
    "STANDALONE = False\n",
    "if STANDALONE:\n",
    "    print(\"parameters not injected, running with standalone_parameters\")\n",
    "    parameters = standalone_parameters\n",
    "\n",
    "if not 'parameters' in locals() and not 'parameters' in globals():\n",
    "    raise Exception(\"Parameter injection failed\")\n",
    "\n",
    "#Use an easy dict for all the parameters\n",
    "p = EasyDict(parameters)\n",
    "\n",
    "if \"x_shape\" not in p:\n",
    "    p.x_shape = [2,256] # Default to this if we dont supply x_shape\n",
    "\n",
    "\n",
    "supplied_keys = set(p.keys())\n",
    "\n",
    "if  supplied_keys != required_parameters:\n",
    "    print(\"Parameters are incorrect\")\n",
    "    if len(supplied_keys - required_parameters)>0: print(\"Shouldn't have:\", str(supplied_keys - required_parameters))\n",
    "    if len(required_parameters - supplied_keys)>0: print(\"Need to have:\", str(required_parameters - supplied_keys))\n",
    "    raise RuntimeError(\"Parameters are incorrect\")"
   ]
  },
  {
   "cell_type": "code",
   "execution_count": 6,
   "id": "3a028d58",
   "metadata": {
    "execution": {
     "iopub.execute_input": "2022-03-25T20:49:43.606665Z",
     "iopub.status.busy": "2022-03-25T20:49:43.606271Z",
     "iopub.status.idle": "2022-03-25T20:49:43.621088Z",
     "shell.execute_reply": "2022-03-25T20:49:43.620702Z"
    },
    "papermill": {
     "duration": 0.029899,
     "end_time": "2022-03-25T20:49:43.621167",
     "exception": false,
     "start_time": "2022-03-25T20:49:43.591268",
     "status": "completed"
    },
    "tags": []
   },
   "outputs": [],
   "source": [
    "###################################\n",
    "# Set the RNGs and make it all deterministic\n",
    "###################################\n",
    "np.random.seed(p.seed)\n",
    "random.seed(p.seed)\n",
    "torch.manual_seed(p.seed)\n",
    "\n",
    "torch.use_deterministic_algorithms(True) "
   ]
  },
  {
   "cell_type": "code",
   "execution_count": 7,
   "id": "b691acf6",
   "metadata": {
    "execution": {
     "iopub.execute_input": "2022-03-25T20:49:43.655759Z",
     "iopub.status.busy": "2022-03-25T20:49:43.654860Z",
     "iopub.status.idle": "2022-03-25T20:49:43.668212Z",
     "shell.execute_reply": "2022-03-25T20:49:43.668422Z"
    },
    "papermill": {
     "duration": 0.028766,
     "end_time": "2022-03-25T20:49:43.668485",
     "exception": false,
     "start_time": "2022-03-25T20:49:43.639719",
     "status": "completed"
    },
    "tags": []
   },
   "outputs": [],
   "source": [
    "###########################################\n",
    "# The stratified datasets honor this\n",
    "###########################################\n",
    "torch.set_default_dtype(eval(p.torch_default_dtype))"
   ]
  },
  {
   "cell_type": "code",
   "execution_count": 8,
   "id": "b5fba671",
   "metadata": {
    "execution": {
     "iopub.execute_input": "2022-03-25T20:49:43.702052Z",
     "iopub.status.busy": "2022-03-25T20:49:43.701774Z",
     "iopub.status.idle": "2022-03-25T20:49:43.738809Z",
     "shell.execute_reply": "2022-03-25T20:49:43.738409Z"
    },
    "papermill": {
     "duration": 0.05278,
     "end_time": "2022-03-25T20:49:43.738897",
     "exception": false,
     "start_time": "2022-03-25T20:49:43.686117",
     "status": "completed"
    },
    "tags": []
   },
   "outputs": [],
   "source": [
    "###################################\n",
    "# Build the network(s)\n",
    "# Note: It's critical to do this AFTER setting the RNG\n",
    "###################################\n",
    "x_net = build_sequential(p.x_net)"
   ]
  },
  {
   "cell_type": "code",
   "execution_count": 9,
   "id": "5d7e61cc",
   "metadata": {
    "execution": {
     "iopub.execute_input": "2022-03-25T20:49:43.771869Z",
     "iopub.status.busy": "2022-03-25T20:49:43.771599Z",
     "iopub.status.idle": "2022-03-25T20:49:43.785603Z",
     "shell.execute_reply": "2022-03-25T20:49:43.785234Z"
    },
    "papermill": {
     "duration": 0.029926,
     "end_time": "2022-03-25T20:49:43.785675",
     "exception": false,
     "start_time": "2022-03-25T20:49:43.755749",
     "status": "completed"
    },
    "tags": []
   },
   "outputs": [],
   "source": [
    "start_time_secs = time.time()"
   ]
  },
  {
   "cell_type": "code",
   "execution_count": 10,
   "id": "c6b67dfd",
   "metadata": {
    "execution": {
     "iopub.execute_input": "2022-03-25T20:49:43.819790Z",
     "iopub.status.busy": "2022-03-25T20:49:43.819532Z",
     "iopub.status.idle": "2022-03-25T20:49:43.833569Z",
     "shell.execute_reply": "2022-03-25T20:49:43.833315Z"
    },
    "papermill": {
     "duration": 0.030626,
     "end_time": "2022-03-25T20:49:43.833618",
     "exception": false,
     "start_time": "2022-03-25T20:49:43.802992",
     "status": "completed"
    },
    "tags": []
   },
   "outputs": [],
   "source": [
    "p.domains_source = []\n",
    "p.domains_target = []\n",
    "\n",
    "\n",
    "train_original_source = []\n",
    "val_original_source   = []\n",
    "test_original_source  = []\n",
    "\n",
    "train_original_target = []\n",
    "val_original_target   = []\n",
    "test_original_target  = []"
   ]
  },
  {
   "cell_type": "code",
   "execution_count": 11,
   "id": "e3d9c3d3",
   "metadata": {
    "execution": {
     "iopub.execute_input": "2022-03-25T20:49:43.862284Z",
     "iopub.status.busy": "2022-03-25T20:49:43.861988Z",
     "iopub.status.idle": "2022-03-25T20:49:43.873616Z",
     "shell.execute_reply": "2022-03-25T20:49:43.873360Z"
    },
    "papermill": {
     "duration": 0.026791,
     "end_time": "2022-03-25T20:49:43.873666",
     "exception": false,
     "start_time": "2022-03-25T20:49:43.846875",
     "status": "completed"
    },
    "tags": []
   },
   "outputs": [],
   "source": [
    "# global_x_transform_func = lambda x: normalize(x.to(torch.get_default_dtype()), \"unit_power\") # unit_power, unit_mag\n",
    "# global_x_transform_func = lambda x: normalize(x, \"unit_power\") # unit_power, unit_mag"
   ]
  },
  {
   "cell_type": "code",
   "execution_count": 12,
   "id": "acb78fd2",
   "metadata": {
    "execution": {
     "iopub.execute_input": "2022-03-25T20:49:43.909604Z",
     "iopub.status.busy": "2022-03-25T20:49:43.909334Z",
     "iopub.status.idle": "2022-03-25T20:49:43.922114Z",
     "shell.execute_reply": "2022-03-25T20:49:43.921651Z"
    },
    "papermill": {
     "duration": 0.031045,
     "end_time": "2022-03-25T20:49:43.922202",
     "exception": false,
     "start_time": "2022-03-25T20:49:43.891157",
     "status": "completed"
    },
    "tags": []
   },
   "outputs": [],
   "source": [
    "def add_dataset(\n",
    "    labels,\n",
    "    domains,\n",
    "    pickle_path,\n",
    "    x_transforms,\n",
    "    episode_transforms,\n",
    "    domain_prefix,\n",
    "    num_examples_per_domain_per_label,\n",
    "    source_or_target_dataset:str,\n",
    "    iterator_seed=p.seed,\n",
    "    dataset_seed=p.dataset_seed,\n",
    "    n_shot=p.n_shot,\n",
    "    n_way=p.n_way,\n",
    "    n_query=p.n_query,\n",
    "    train_val_test_k_factors=(p.train_k_factor,p.val_k_factor,p.test_k_factor),\n",
    "):\n",
    "   \n",
    "    if x_transforms == []: x_transform = None\n",
    "    else: x_transform = get_chained_transform(x_transforms)\n",
    "    \n",
    "    if episode_transforms == []: episode_transform = None\n",
    "    else: raise Exception(\"episode_transforms not implemented\")\n",
    "    \n",
    "    episode_transform = lambda tup, _prefix=domain_prefix: (_prefix + str(tup[0]), tup[1])\n",
    "\n",
    "\n",
    "    eaf = Episodic_Accessor_Factory(\n",
    "        labels=labels,\n",
    "        domains=domains,\n",
    "        num_examples_per_domain_per_label=num_examples_per_domain_per_label,\n",
    "        iterator_seed=iterator_seed,\n",
    "        dataset_seed=dataset_seed,\n",
    "        n_shot=n_shot,\n",
    "        n_way=n_way,\n",
    "        n_query=n_query,\n",
    "        train_val_test_k_factors=train_val_test_k_factors,\n",
    "        pickle_path=pickle_path,\n",
    "        x_transform_func=x_transform,\n",
    "    )\n",
    "\n",
    "    train, val, test = eaf.get_train(), eaf.get_val(), eaf.get_test()\n",
    "    train = Lazy_Iterable_Wrapper(train, episode_transform)\n",
    "    val = Lazy_Iterable_Wrapper(val, episode_transform)\n",
    "    test = Lazy_Iterable_Wrapper(test, episode_transform)\n",
    "\n",
    "    if source_or_target_dataset==\"source\":\n",
    "        train_original_source.append(train)\n",
    "        val_original_source.append(val)\n",
    "        test_original_source.append(test)\n",
    "\n",
    "        p.domains_source.extend(\n",
    "            [domain_prefix + str(u) for u in domains]\n",
    "        )\n",
    "    elif source_or_target_dataset==\"target\":\n",
    "        train_original_target.append(train)\n",
    "        val_original_target.append(val)\n",
    "        test_original_target.append(test)\n",
    "        p.domains_target.extend(\n",
    "            [domain_prefix + str(u) for u in domains]\n",
    "        )\n",
    "    else:\n",
    "        raise Exception(f\"invalid source_or_target_dataset: {source_or_target_dataset}\")\n",
    "    "
   ]
  },
  {
   "cell_type": "code",
   "execution_count": 13,
   "id": "fe266617",
   "metadata": {
    "execution": {
     "iopub.execute_input": "2022-03-25T20:49:43.959117Z",
     "iopub.status.busy": "2022-03-25T20:49:43.953863Z",
     "iopub.status.idle": "2022-03-25T20:50:37.947688Z",
     "shell.execute_reply": "2022-03-25T20:50:37.947429Z"
    },
    "papermill": {
     "duration": 54.009907,
     "end_time": "2022-03-25T20:50:37.947753",
     "exception": false,
     "start_time": "2022-03-25T20:49:43.937846",
     "status": "completed"
    },
    "tags": []
   },
   "outputs": [],
   "source": [
    "for ds in p.datasets:\n",
    "    add_dataset(**ds)"
   ]
  },
  {
   "cell_type": "code",
   "execution_count": 14,
   "id": "b90d65ac",
   "metadata": {
    "execution": {
     "iopub.execute_input": "2022-03-25T20:50:37.977969Z",
     "iopub.status.busy": "2022-03-25T20:50:37.977664Z",
     "iopub.status.idle": "2022-03-25T20:50:37.993324Z",
     "shell.execute_reply": "2022-03-25T20:50:37.992892Z"
    },
    "papermill": {
     "duration": 0.031602,
     "end_time": "2022-03-25T20:50:37.993432",
     "exception": false,
     "start_time": "2022-03-25T20:50:37.961830",
     "status": "completed"
    },
    "tags": []
   },
   "outputs": [],
   "source": [
    "# from steves_utils.CORES.utils import (\n",
    "#     ALL_NODES,\n",
    "#     ALL_NODES_MINIMUM_1000_EXAMPLES,\n",
    "#     ALL_DAYS\n",
    "# )\n",
    "\n",
    "# add_dataset(\n",
    "#     labels=ALL_NODES,\n",
    "#     domains = ALL_DAYS,\n",
    "#     num_examples_per_domain_per_label=100,\n",
    "#     pickle_path=os.path.join(get_datasets_base_path(), \"cores.stratified_ds.2022A.pkl\"),\n",
    "#     source_or_target_dataset=\"target\",\n",
    "#     x_transform_func=global_x_transform_func,\n",
    "#     domain_modifier=lambda u: f\"cores_{u}\"\n",
    "# )"
   ]
  },
  {
   "cell_type": "code",
   "execution_count": 15,
   "id": "76db484d",
   "metadata": {
    "execution": {
     "iopub.execute_input": "2022-03-25T20:50:38.034369Z",
     "iopub.status.busy": "2022-03-25T20:50:38.030483Z",
     "iopub.status.idle": "2022-03-25T20:50:38.044655Z",
     "shell.execute_reply": "2022-03-25T20:50:38.044205Z"
    },
    "papermill": {
     "duration": 0.032401,
     "end_time": "2022-03-25T20:50:38.044762",
     "exception": false,
     "start_time": "2022-03-25T20:50:38.012361",
     "status": "completed"
    },
    "tags": []
   },
   "outputs": [],
   "source": [
    "# from steves_utils.ORACLE.utils_v2 import (\n",
    "#     ALL_DISTANCES_FEET,\n",
    "#     ALL_RUNS,\n",
    "#     ALL_SERIAL_NUMBERS,\n",
    "# )\n",
    "\n",
    "\n",
    "# add_dataset(\n",
    "#     labels=ALL_SERIAL_NUMBERS,\n",
    "#     domains = list(set(ALL_DISTANCES_FEET) - {2,62}),\n",
    "#     num_examples_per_domain_per_label=100,\n",
    "#     pickle_path=os.path.join(get_datasets_base_path(), \"oracle.Run2_framed_2000Examples_stratified_ds.2022A.pkl\"),\n",
    "#     source_or_target_dataset=\"source\",\n",
    "#     x_transform_func=global_x_transform_func,\n",
    "#     domain_modifier=lambda u: f\"oracle1_{u}\"\n",
    "# )\n"
   ]
  },
  {
   "cell_type": "code",
   "execution_count": 16,
   "id": "97dea9d2",
   "metadata": {
    "execution": {
     "iopub.execute_input": "2022-03-25T20:50:38.079444Z",
     "iopub.status.busy": "2022-03-25T20:50:38.079159Z",
     "iopub.status.idle": "2022-03-25T20:50:38.090520Z",
     "shell.execute_reply": "2022-03-25T20:50:38.090032Z"
    },
    "papermill": {
     "duration": 0.027866,
     "end_time": "2022-03-25T20:50:38.090621",
     "exception": false,
     "start_time": "2022-03-25T20:50:38.062755",
     "status": "completed"
    },
    "tags": []
   },
   "outputs": [],
   "source": [
    "# from steves_utils.ORACLE.utils_v2 import (\n",
    "#     ALL_DISTANCES_FEET,\n",
    "#     ALL_RUNS,\n",
    "#     ALL_SERIAL_NUMBERS,\n",
    "# )\n",
    "\n",
    "\n",
    "# add_dataset(\n",
    "#     labels=ALL_SERIAL_NUMBERS,\n",
    "#     domains = list(set(ALL_DISTANCES_FEET) - {2,62,56}),\n",
    "#     num_examples_per_domain_per_label=100,\n",
    "#     pickle_path=os.path.join(get_datasets_base_path(), \"oracle.Run2_framed_2000Examples_stratified_ds.2022A.pkl\"),\n",
    "#     source_or_target_dataset=\"source\",\n",
    "#     x_transform_func=global_x_transform_func,\n",
    "#     domain_modifier=lambda u: f\"oracle2_{u}\"\n",
    "# )"
   ]
  },
  {
   "cell_type": "code",
   "execution_count": 17,
   "id": "6f289866",
   "metadata": {
    "execution": {
     "iopub.execute_input": "2022-03-25T20:50:38.125004Z",
     "iopub.status.busy": "2022-03-25T20:50:38.124734Z",
     "iopub.status.idle": "2022-03-25T20:50:38.136918Z",
     "shell.execute_reply": "2022-03-25T20:50:38.136218Z"
    },
    "papermill": {
     "duration": 0.028539,
     "end_time": "2022-03-25T20:50:38.137064",
     "exception": false,
     "start_time": "2022-03-25T20:50:38.108525",
     "status": "completed"
    },
    "tags": []
   },
   "outputs": [],
   "source": [
    "# add_dataset(\n",
    "#     labels=list(range(19)),\n",
    "#     domains = [0,1,2],\n",
    "#     num_examples_per_domain_per_label=100,\n",
    "#     pickle_path=os.path.join(get_datasets_base_path(), \"metehan.stratified_ds.2022A.pkl\"),\n",
    "#     source_or_target_dataset=\"target\",\n",
    "#     x_transform_func=global_x_transform_func,\n",
    "#     domain_modifier=lambda u: f\"met_{u}\"\n",
    "# )"
   ]
  },
  {
   "cell_type": "code",
   "execution_count": 18,
   "id": "86a863c3",
   "metadata": {
    "execution": {
     "iopub.execute_input": "2022-03-25T20:50:38.171636Z",
     "iopub.status.busy": "2022-03-25T20:50:38.171359Z",
     "iopub.status.idle": "2022-03-25T20:50:38.183184Z",
     "shell.execute_reply": "2022-03-25T20:50:38.182675Z"
    },
    "papermill": {
     "duration": 0.028554,
     "end_time": "2022-03-25T20:50:38.183301",
     "exception": false,
     "start_time": "2022-03-25T20:50:38.154747",
     "status": "completed"
    },
    "tags": []
   },
   "outputs": [],
   "source": [
    "# # from steves_utils.wisig.utils import (\n",
    "# #     ALL_NODES_MINIMUM_100_EXAMPLES,\n",
    "# #     ALL_NODES_MINIMUM_500_EXAMPLES,\n",
    "# #     ALL_NODES_MINIMUM_1000_EXAMPLES,\n",
    "# #     ALL_DAYS\n",
    "# # )\n",
    "\n",
    "# import steves_utils.wisig.utils as wisig\n",
    "\n",
    "\n",
    "# add_dataset(\n",
    "#     labels=wisig.ALL_NODES_MINIMUM_100_EXAMPLES,\n",
    "#     domains = wisig.ALL_DAYS,\n",
    "#     num_examples_per_domain_per_label=100,\n",
    "#     pickle_path=os.path.join(get_datasets_base_path(), \"wisig.node3-19.stratified_ds.2022A.pkl\"),\n",
    "#     source_or_target_dataset=\"target\",\n",
    "#     x_transform_func=global_x_transform_func,\n",
    "#     domain_modifier=lambda u: f\"wisig_{u}\"\n",
    "# )"
   ]
  },
  {
   "cell_type": "code",
   "execution_count": 19,
   "id": "fd5442bc",
   "metadata": {
    "execution": {
     "iopub.execute_input": "2022-03-25T20:50:38.222477Z",
     "iopub.status.busy": "2022-03-25T20:50:38.222186Z",
     "iopub.status.idle": "2022-03-25T20:50:38.234571Z",
     "shell.execute_reply": "2022-03-25T20:50:38.234983Z"
    },
    "papermill": {
     "duration": 0.031355,
     "end_time": "2022-03-25T20:50:38.235115",
     "exception": false,
     "start_time": "2022-03-25T20:50:38.203760",
     "status": "completed"
    },
    "tags": []
   },
   "outputs": [],
   "source": [
    "###################################\n",
    "# Build the dataset\n",
    "###################################\n",
    "train_original_source = Iterable_Aggregator(train_original_source, p.seed)\n",
    "val_original_source = Iterable_Aggregator(val_original_source, p.seed)\n",
    "test_original_source = Iterable_Aggregator(test_original_source, p.seed)\n",
    "\n",
    "\n",
    "train_original_target = Iterable_Aggregator(train_original_target, p.seed)\n",
    "val_original_target = Iterable_Aggregator(val_original_target, p.seed)\n",
    "test_original_target = Iterable_Aggregator(test_original_target, p.seed)\n",
    "\n",
    "# For CNN We only use X and Y. And we only train on the source.\n",
    "# Properly form the data using a transform lambda and Lazy_Iterable_Wrapper. Finally wrap them in a dataloader\n",
    "\n",
    "transform_lambda = lambda ex: ex[1] # Original is (<domain>, <episode>) so we strip down to episode only\n",
    "\n",
    "train_processed_source = Lazy_Iterable_Wrapper(train_original_source, transform_lambda)\n",
    "val_processed_source   = Lazy_Iterable_Wrapper(val_original_source, transform_lambda)\n",
    "test_processed_source  = Lazy_Iterable_Wrapper(test_original_source, transform_lambda)\n",
    "\n",
    "train_processed_target = Lazy_Iterable_Wrapper(train_original_target, transform_lambda)\n",
    "val_processed_target   = Lazy_Iterable_Wrapper(val_original_target, transform_lambda)\n",
    "test_processed_target  = Lazy_Iterable_Wrapper(test_original_target, transform_lambda)\n",
    "\n",
    "datasets = EasyDict({\n",
    "    \"source\": {\n",
    "        \"original\": {\"train\":train_original_source, \"val\":val_original_source, \"test\":test_original_source},\n",
    "        \"processed\": {\"train\":train_processed_source, \"val\":val_processed_source, \"test\":test_processed_source}\n",
    "    },\n",
    "    \"target\": {\n",
    "        \"original\": {\"train\":train_original_target, \"val\":val_original_target, \"test\":test_original_target},\n",
    "        \"processed\": {\"train\":train_processed_target, \"val\":val_processed_target, \"test\":test_processed_target}\n",
    "    },\n",
    "})"
   ]
  },
  {
   "cell_type": "code",
   "execution_count": 20,
   "id": "5b3c01fc",
   "metadata": {
    "execution": {
     "iopub.execute_input": "2022-03-25T20:50:38.273785Z",
     "iopub.status.busy": "2022-03-25T20:50:38.273513Z",
     "iopub.status.idle": "2022-03-25T20:50:45.211678Z",
     "shell.execute_reply": "2022-03-25T20:50:45.212054Z"
    },
    "papermill": {
     "duration": 6.957007,
     "end_time": "2022-03-25T20:50:45.212159",
     "exception": false,
     "start_time": "2022-03-25T20:50:38.255152",
     "status": "completed"
    },
    "tags": []
   },
   "outputs": [
    {
     "name": "stdout",
     "output_type": "stream",
     "text": [
      "{'O_50', 'O_44', 'O_8', 'O_20', 'O_32', 'O_14', 'O_38', 'O_26'}\n"
     ]
    },
    {
     "name": "stdout",
     "output_type": "stream",
     "text": [
      "{'C_5', 'C_2', 'C_4', 'C_1', 'C_3'}\n"
     ]
    },
    {
     "name": "stdout",
     "output_type": "stream",
     "text": [
      "tensor([[[-0.0923,  1.0752,  0.6110,  ...,  0.6559,  0.5223,  0.7143],\n",
      "         [-0.6368, -0.5725,  0.6937,  ..., -0.1130,  1.1143,  0.1163]],\n",
      "\n",
      "        [[-0.4471,  0.4547,  0.8059,  ...,  1.1441,  0.5111,  0.0187],\n",
      "         [-1.1271, -0.7907,  0.8745,  ..., -0.4535, -0.6299, -1.3768]],\n",
      "\n",
      "        [[ 0.6516, -0.0535, -0.8938,  ..., -0.8408, -0.9332, -0.1014],\n",
      "         [ 0.8284,  1.0704, -0.5317,  ...,  0.4742,  0.2587,  1.1794]],\n",
      "\n",
      "        ...,\n",
      "\n",
      "        [[ 0.9795,  0.2346, -1.1961,  ..., -0.6991, -0.1533,  0.9162],\n",
      "         [ 0.5525,  0.9115, -0.0492,  ...,  0.9787,  0.7343,  0.9973]],\n",
      "\n",
      "        [[ 0.0252, -1.0168, -0.2853,  ..., -0.8572, -0.8433, -0.9555],\n",
      "         [ 0.7878,  0.7791, -0.7462,  ..., -0.1243, -0.6905,  0.6571]],\n",
      "\n",
      "        [[ 0.4825,  0.4645, -0.3477,  ...,  0.4871, -1.1842, -0.6537],\n",
      "         [-0.4126,  0.9377,  0.7358,  ...,  0.6690,  0.2844,  0.4617]]])\n"
     ]
    }
   ],
   "source": [
    "from steves_utils.transforms import get_average_magnitude, get_average_power\n",
    "\n",
    "print(set([u for u,_ in val_original_source]))\n",
    "print(set([u for u,_ in val_original_target]))\n",
    "\n",
    "s_x, s_y, q_x, q_y, _ = next(iter(train_processed_source))\n",
    "print(s_x)\n",
    "\n",
    "# for ds in [\n",
    "#     train_processed_source,\n",
    "#     val_processed_source,\n",
    "#     test_processed_source,\n",
    "#     train_processed_target,\n",
    "#     val_processed_target,\n",
    "#     test_processed_target\n",
    "# ]:\n",
    "#     for s_x, s_y, q_x, q_y, _ in ds:\n",
    "#         for X in (s_x, q_x):\n",
    "#             for x in X:\n",
    "#                 assert np.isclose(get_average_magnitude(x.numpy()), 1.0)\n",
    "#                 assert np.isclose(get_average_power(x.numpy()), 1.0)\n",
    "                "
   ]
  },
  {
   "cell_type": "code",
   "execution_count": 21,
   "id": "bbdacba1",
   "metadata": {
    "execution": {
     "iopub.execute_input": "2022-03-25T20:50:45.252928Z",
     "iopub.status.busy": "2022-03-25T20:50:45.252192Z",
     "iopub.status.idle": "2022-03-25T20:50:45.303262Z",
     "shell.execute_reply": "2022-03-25T20:50:45.302498Z"
    },
    "papermill": {
     "duration": 0.070726,
     "end_time": "2022-03-25T20:50:45.303423",
     "exception": false,
     "start_time": "2022-03-25T20:50:45.232697",
     "status": "completed"
    },
    "tags": []
   },
   "outputs": [
    {
     "name": "stdout",
     "output_type": "stream",
     "text": [
      "(2, 200)\n"
     ]
    }
   ],
   "source": [
    "###################################\n",
    "# Build the model\n",
    "###################################\n",
    "# easfsl only wants a tuple for the shape\n",
    "model = Steves_Prototypical_Network(x_net, device=p.device, x_shape=tuple(p.x_shape))\n",
    "optimizer = Adam(params=model.parameters(), lr=p.lr)"
   ]
  },
  {
   "cell_type": "code",
   "execution_count": 22,
   "id": "22b39ac5",
   "metadata": {
    "execution": {
     "iopub.execute_input": "2022-03-25T20:50:45.347278Z",
     "iopub.status.busy": "2022-03-25T20:50:45.341353Z",
     "iopub.status.idle": "2022-03-25T22:16:24.313636Z",
     "shell.execute_reply": "2022-03-25T22:16:24.313397Z"
    },
    "papermill": {
     "duration": 5138.991512,
     "end_time": "2022-03-25T22:16:24.313696",
     "exception": false,
     "start_time": "2022-03-25T20:50:45.322184",
     "status": "completed"
    },
    "tags": []
   },
   "outputs": [
    {
     "name": "stdout",
     "output_type": "stream",
     "text": [
      "epoch: 1, [batch: 1 / 6720], examples_per_second: 45.7440, train_label_loss: 2.9602, \n"
     ]
    },
    {
     "name": "stdout",
     "output_type": "stream",
     "text": [
      "epoch: 1, [batch: 672 / 6720], examples_per_second: 1872.6187, train_label_loss: 1.0100, \n"
     ]
    },
    {
     "name": "stdout",
     "output_type": "stream",
     "text": [
      "epoch: 1, [batch: 1344 / 6720], examples_per_second: 1868.6101, train_label_loss: 0.8658, \n"
     ]
    },
    {
     "name": "stdout",
     "output_type": "stream",
     "text": [
      "epoch: 1, [batch: 2016 / 6720], examples_per_second: 1868.6756, train_label_loss: 0.8262, \n"
     ]
    },
    {
     "name": "stdout",
     "output_type": "stream",
     "text": [
      "epoch: 1, [batch: 2688 / 6720], examples_per_second: 1882.8388, train_label_loss: 1.1273, \n"
     ]
    },
    {
     "name": "stdout",
     "output_type": "stream",
     "text": [
      "epoch: 1, [batch: 3360 / 6720], examples_per_second: 2269.1334, train_label_loss: 1.0419, \n"
     ]
    },
    {
     "name": "stdout",
     "output_type": "stream",
     "text": [
      "epoch: 1, [batch: 4032 / 6720], examples_per_second: 2334.9036, train_label_loss: 0.8908, \n"
     ]
    },
    {
     "name": "stdout",
     "output_type": "stream",
     "text": [
      "epoch: 1, [batch: 4704 / 6720], examples_per_second: 2343.8435, train_label_loss: 0.6538, \n"
     ]
    },
    {
     "name": "stdout",
     "output_type": "stream",
     "text": [
      "epoch: 1, [batch: 5376 / 6720], examples_per_second: 2258.2818, train_label_loss: 0.8208, \n"
     ]
    },
    {
     "name": "stdout",
     "output_type": "stream",
     "text": [
      "epoch: 1, [batch: 6048 / 6720], examples_per_second: 2180.6116, train_label_loss: 0.5078, \n"
     ]
    },
    {
     "name": "stdout",
     "output_type": "stream",
     "text": [
      "=============================================================\n",
      "epoch: 1, source_val_acc_label: 0.5840, target_val_acc_label: 0.5721, source_val_label_loss: 58.6316, target_val_label_loss: 2013.6348, \n",
      "=============================================================\n"
     ]
    },
    {
     "name": "stdout",
     "output_type": "stream",
     "text": [
      "New best\n"
     ]
    },
    {
     "name": "stdout",
     "output_type": "stream",
     "text": [
      "epoch: 2, [batch: 1 / 6720], examples_per_second: 4.5583, train_label_loss: 111.2593, \n"
     ]
    },
    {
     "name": "stdout",
     "output_type": "stream",
     "text": [
      "epoch: 2, [batch: 672 / 6720], examples_per_second: 3521.0231, train_label_loss: 0.7355, \n"
     ]
    },
    {
     "name": "stdout",
     "output_type": "stream",
     "text": [
      "epoch: 2, [batch: 1344 / 6720], examples_per_second: 3621.4821, train_label_loss: 0.5927, \n"
     ]
    },
    {
     "name": "stdout",
     "output_type": "stream",
     "text": [
      "epoch: 2, [batch: 2016 / 6720], examples_per_second: 3755.3672, train_label_loss: 1.1279, \n"
     ]
    },
    {
     "name": "stdout",
     "output_type": "stream",
     "text": [
      "epoch: 2, [batch: 2688 / 6720], examples_per_second: 3704.6377, train_label_loss: 0.9667, \n"
     ]
    },
    {
     "name": "stdout",
     "output_type": "stream",
     "text": [
      "epoch: 2, [batch: 3360 / 6720], examples_per_second: 3760.4880, train_label_loss: 0.4999, \n"
     ]
    },
    {
     "name": "stdout",
     "output_type": "stream",
     "text": [
      "epoch: 2, [batch: 4032 / 6720], examples_per_second: 3765.1610, train_label_loss: 0.4985, \n"
     ]
    },
    {
     "name": "stdout",
     "output_type": "stream",
     "text": [
      "epoch: 2, [batch: 4704 / 6720], examples_per_second: 2336.9207, train_label_loss: 0.8476, \n"
     ]
    },
    {
     "name": "stdout",
     "output_type": "stream",
     "text": [
      "epoch: 2, [batch: 5376 / 6720], examples_per_second: 1968.9406, train_label_loss: 1.1934, \n"
     ]
    },
    {
     "name": "stdout",
     "output_type": "stream",
     "text": [
      "epoch: 2, [batch: 6048 / 6720], examples_per_second: 1972.8521, train_label_loss: 0.5430, \n"
     ]
    },
    {
     "name": "stdout",
     "output_type": "stream",
     "text": [
      "=============================================================\n",
      "epoch: 2, source_val_acc_label: 0.7424, target_val_acc_label: 0.6528, source_val_label_loss: 0.7085, target_val_label_loss: 192.2224, \n",
      "=============================================================\n"
     ]
    },
    {
     "name": "stdout",
     "output_type": "stream",
     "text": [
      "New best\n"
     ]
    },
    {
     "name": "stdout",
     "output_type": "stream",
     "text": [
      "epoch: 3, [batch: 1 / 6720], examples_per_second: 2.8596, train_label_loss: 0.9768, \n"
     ]
    },
    {
     "name": "stdout",
     "output_type": "stream",
     "text": [
      "epoch: 3, [batch: 672 / 6720], examples_per_second: 1972.7173, train_label_loss: 0.3287, \n"
     ]
    },
    {
     "name": "stdout",
     "output_type": "stream",
     "text": [
      "epoch: 3, [batch: 1344 / 6720], examples_per_second: 1978.6751, train_label_loss: 0.4908, \n"
     ]
    },
    {
     "name": "stdout",
     "output_type": "stream",
     "text": [
      "epoch: 3, [batch: 2016 / 6720], examples_per_second: 1975.5950, train_label_loss: 0.4555, \n"
     ]
    },
    {
     "name": "stdout",
     "output_type": "stream",
     "text": [
      "epoch: 3, [batch: 2688 / 6720], examples_per_second: 1972.0078, train_label_loss: 0.5355, \n"
     ]
    },
    {
     "name": "stdout",
     "output_type": "stream",
     "text": [
      "epoch: 3, [batch: 3360 / 6720], examples_per_second: 1993.2518, train_label_loss: 0.9341, \n"
     ]
    },
    {
     "name": "stdout",
     "output_type": "stream",
     "text": [
      "epoch: 3, [batch: 4032 / 6720], examples_per_second: 2482.4430, train_label_loss: 0.8234, \n"
     ]
    },
    {
     "name": "stdout",
     "output_type": "stream",
     "text": [
      "epoch: 3, [batch: 4704 / 6720], examples_per_second: 2329.5868, train_label_loss: 0.5079, \n"
     ]
    },
    {
     "name": "stdout",
     "output_type": "stream",
     "text": [
      "epoch: 3, [batch: 5376 / 6720], examples_per_second: 1984.1042, train_label_loss: 0.3923, \n"
     ]
    },
    {
     "name": "stdout",
     "output_type": "stream",
     "text": [
      "epoch: 3, [batch: 6048 / 6720], examples_per_second: 1983.6097, train_label_loss: 0.2902, \n"
     ]
    },
    {
     "name": "stdout",
     "output_type": "stream",
     "text": [
      "=============================================================\n",
      "epoch: 3, source_val_acc_label: 0.7439, target_val_acc_label: 0.6460, source_val_label_loss: 0.6868, target_val_label_loss: 170.2334, \n",
      "=============================================================\n"
     ]
    },
    {
     "name": "stdout",
     "output_type": "stream",
     "text": [
      "epoch: 4, [batch: 1 / 6720], examples_per_second: 2.8784, train_label_loss: 0.4023, \n"
     ]
    },
    {
     "name": "stdout",
     "output_type": "stream",
     "text": [
      "epoch: 4, [batch: 672 / 6720], examples_per_second: 1980.6298, train_label_loss: 0.2497, \n"
     ]
    },
    {
     "name": "stdout",
     "output_type": "stream",
     "text": [
      "epoch: 4, [batch: 1344 / 6720], examples_per_second: 1986.4146, train_label_loss: 0.9536, \n"
     ]
    },
    {
     "name": "stdout",
     "output_type": "stream",
     "text": [
      "epoch: 4, [batch: 2016 / 6720], examples_per_second: 1983.0782, train_label_loss: 0.7584, \n"
     ]
    },
    {
     "name": "stdout",
     "output_type": "stream",
     "text": [
      "epoch: 4, [batch: 2688 / 6720], examples_per_second: 1979.3370, train_label_loss: 0.5474, \n"
     ]
    },
    {
     "name": "stdout",
     "output_type": "stream",
     "text": [
      "epoch: 4, [batch: 3360 / 6720], examples_per_second: 1987.7325, train_label_loss: 0.3483, \n"
     ]
    },
    {
     "name": "stdout",
     "output_type": "stream",
     "text": [
      "epoch: 4, [batch: 4032 / 6720], examples_per_second: 2467.4067, train_label_loss: 0.9603, \n"
     ]
    },
    {
     "name": "stdout",
     "output_type": "stream",
     "text": [
      "epoch: 4, [batch: 4704 / 6720], examples_per_second: 2352.5877, train_label_loss: 0.4254, \n"
     ]
    },
    {
     "name": "stdout",
     "output_type": "stream",
     "text": [
      "epoch: 4, [batch: 5376 / 6720], examples_per_second: 1984.3611, train_label_loss: 0.7358, \n"
     ]
    },
    {
     "name": "stdout",
     "output_type": "stream",
     "text": [
      "epoch: 4, [batch: 6048 / 6720], examples_per_second: 1984.1751, train_label_loss: 0.3558, \n"
     ]
    },
    {
     "name": "stdout",
     "output_type": "stream",
     "text": [
      "=============================================================\n",
      "epoch: 4, source_val_acc_label: 0.7917, target_val_acc_label: 0.6625, source_val_label_loss: 0.5611, target_val_label_loss: 170.4174, \n",
      "=============================================================\n"
     ]
    },
    {
     "name": "stdout",
     "output_type": "stream",
     "text": [
      "New best\n"
     ]
    },
    {
     "name": "stdout",
     "output_type": "stream",
     "text": [
      "epoch: 5, [batch: 1 / 6720], examples_per_second: 2.8763, train_label_loss: 0.4099, \n"
     ]
    },
    {
     "name": "stdout",
     "output_type": "stream",
     "text": [
      "epoch: 5, [batch: 672 / 6720], examples_per_second: 1983.0763, train_label_loss: 0.5014, \n"
     ]
    },
    {
     "name": "stdout",
     "output_type": "stream",
     "text": [
      "epoch: 5, [batch: 1344 / 6720], examples_per_second: 1986.3787, train_label_loss: 0.6878, \n"
     ]
    },
    {
     "name": "stdout",
     "output_type": "stream",
     "text": [
      "epoch: 5, [batch: 2016 / 6720], examples_per_second: 1984.0156, train_label_loss: 0.9355, \n"
     ]
    },
    {
     "name": "stdout",
     "output_type": "stream",
     "text": [
      "epoch: 5, [batch: 2688 / 6720], examples_per_second: 1978.3924, train_label_loss: 0.4992, \n"
     ]
    },
    {
     "name": "stdout",
     "output_type": "stream",
     "text": [
      "epoch: 5, [batch: 3360 / 6720], examples_per_second: 1982.8712, train_label_loss: 0.2289, \n"
     ]
    },
    {
     "name": "stdout",
     "output_type": "stream",
     "text": [
      "epoch: 5, [batch: 4032 / 6720], examples_per_second: 2448.9415, train_label_loss: 0.2757, \n"
     ]
    },
    {
     "name": "stdout",
     "output_type": "stream",
     "text": [
      "epoch: 5, [batch: 4704 / 6720], examples_per_second: 2348.4314, train_label_loss: 0.2244, \n"
     ]
    },
    {
     "name": "stdout",
     "output_type": "stream",
     "text": [
      "epoch: 5, [batch: 5376 / 6720], examples_per_second: 1982.5030, train_label_loss: 0.6424, \n"
     ]
    },
    {
     "name": "stdout",
     "output_type": "stream",
     "text": [
      "epoch: 5, [batch: 6048 / 6720], examples_per_second: 1981.8311, train_label_loss: 0.3863, \n"
     ]
    },
    {
     "name": "stdout",
     "output_type": "stream",
     "text": [
      "=============================================================\n",
      "epoch: 5, source_val_acc_label: 0.8255, target_val_acc_label: 0.6615, source_val_label_loss: 0.4781, target_val_label_loss: 168.9902, \n",
      "=============================================================\n"
     ]
    },
    {
     "name": "stdout",
     "output_type": "stream",
     "text": [
      "epoch: 6, [batch: 1 / 6720], examples_per_second: 2.8398, train_label_loss: 0.3940, \n"
     ]
    },
    {
     "name": "stdout",
     "output_type": "stream",
     "text": [
      "epoch: 6, [batch: 672 / 6720], examples_per_second: 1966.5906, train_label_loss: 0.8232, \n"
     ]
    },
    {
     "name": "stdout",
     "output_type": "stream",
     "text": [
      "epoch: 6, [batch: 1344 / 6720], examples_per_second: 1973.2814, train_label_loss: 0.7284, \n"
     ]
    },
    {
     "name": "stdout",
     "output_type": "stream",
     "text": [
      "epoch: 6, [batch: 2016 / 6720], examples_per_second: 1969.1895, train_label_loss: 0.3325, \n"
     ]
    },
    {
     "name": "stdout",
     "output_type": "stream",
     "text": [
      "epoch: 6, [batch: 2688 / 6720], examples_per_second: 1964.0592, train_label_loss: 0.1267, \n"
     ]
    },
    {
     "name": "stdout",
     "output_type": "stream",
     "text": [
      "epoch: 6, [batch: 3360 / 6720], examples_per_second: 1966.3503, train_label_loss: 0.1869, \n"
     ]
    },
    {
     "name": "stdout",
     "output_type": "stream",
     "text": [
      "epoch: 6, [batch: 4032 / 6720], examples_per_second: 2413.5259, train_label_loss: 0.4373, \n"
     ]
    },
    {
     "name": "stdout",
     "output_type": "stream",
     "text": [
      "epoch: 6, [batch: 4704 / 6720], examples_per_second: 2308.1525, train_label_loss: 0.5510, \n"
     ]
    },
    {
     "name": "stdout",
     "output_type": "stream",
     "text": [
      "epoch: 6, [batch: 5376 / 6720], examples_per_second: 1968.1712, train_label_loss: 0.4094, \n"
     ]
    },
    {
     "name": "stdout",
     "output_type": "stream",
     "text": [
      "epoch: 6, [batch: 6048 / 6720], examples_per_second: 1967.4827, train_label_loss: 0.1822, \n"
     ]
    },
    {
     "name": "stdout",
     "output_type": "stream",
     "text": [
      "=============================================================\n",
      "epoch: 6, source_val_acc_label: 0.8359, target_val_acc_label: 0.6906, source_val_label_loss: 0.4459, target_val_label_loss: 165.3198, \n",
      "=============================================================\n"
     ]
    },
    {
     "name": "stdout",
     "output_type": "stream",
     "text": [
      "New best\n"
     ]
    },
    {
     "name": "stdout",
     "output_type": "stream",
     "text": [
      "epoch: 7, [batch: 1 / 6720], examples_per_second: 2.8346, train_label_loss: 0.1456, \n"
     ]
    },
    {
     "name": "stdout",
     "output_type": "stream",
     "text": [
      "epoch: 7, [batch: 672 / 6720], examples_per_second: 1977.5468, train_label_loss: 0.7487, \n"
     ]
    },
    {
     "name": "stdout",
     "output_type": "stream",
     "text": [
      "epoch: 7, [batch: 1344 / 6720], examples_per_second: 1985.9437, train_label_loss: 0.3675, \n"
     ]
    },
    {
     "name": "stdout",
     "output_type": "stream",
     "text": [
      "epoch: 7, [batch: 2016 / 6720], examples_per_second: 1982.1967, train_label_loss: 0.5771, \n"
     ]
    },
    {
     "name": "stdout",
     "output_type": "stream",
     "text": [
      "epoch: 7, [batch: 2688 / 6720], examples_per_second: 1977.6929, train_label_loss: 0.4988, \n"
     ]
    },
    {
     "name": "stdout",
     "output_type": "stream",
     "text": [
      "epoch: 7, [batch: 3360 / 6720], examples_per_second: 1988.8347, train_label_loss: 0.8036, \n"
     ]
    },
    {
     "name": "stdout",
     "output_type": "stream",
     "text": [
      "epoch: 7, [batch: 4032 / 6720], examples_per_second: 2458.5870, train_label_loss: 0.1927, \n"
     ]
    },
    {
     "name": "stdout",
     "output_type": "stream",
     "text": [
      "epoch: 7, [batch: 4704 / 6720], examples_per_second: 2322.8777, train_label_loss: 0.5675, \n"
     ]
    },
    {
     "name": "stdout",
     "output_type": "stream",
     "text": [
      "epoch: 7, [batch: 5376 / 6720], examples_per_second: 1981.1050, train_label_loss: 0.2176, \n"
     ]
    },
    {
     "name": "stdout",
     "output_type": "stream",
     "text": [
      "epoch: 7, [batch: 6048 / 6720], examples_per_second: 1978.0290, train_label_loss: 0.2470, \n"
     ]
    },
    {
     "name": "stdout",
     "output_type": "stream",
     "text": [
      "=============================================================\n",
      "epoch: 7, source_val_acc_label: 0.8363, target_val_acc_label: 0.6878, source_val_label_loss: 0.4416, target_val_label_loss: 178.3788, \n",
      "=============================================================\n"
     ]
    },
    {
     "name": "stdout",
     "output_type": "stream",
     "text": [
      "epoch: 8, [batch: 1 / 6720], examples_per_second: 2.8845, train_label_loss: 0.6098, \n"
     ]
    },
    {
     "name": "stdout",
     "output_type": "stream",
     "text": [
      "epoch: 8, [batch: 672 / 6720], examples_per_second: 1982.5946, train_label_loss: 0.5734, \n"
     ]
    },
    {
     "name": "stdout",
     "output_type": "stream",
     "text": [
      "epoch: 8, [batch: 1344 / 6720], examples_per_second: 1984.2286, train_label_loss: 0.5325, \n"
     ]
    },
    {
     "name": "stdout",
     "output_type": "stream",
     "text": [
      "epoch: 8, [batch: 2016 / 6720], examples_per_second: 1981.8196, train_label_loss: 0.1839, \n"
     ]
    },
    {
     "name": "stdout",
     "output_type": "stream",
     "text": [
      "epoch: 8, [batch: 2688 / 6720], examples_per_second: 1978.1077, train_label_loss: 0.2221, \n"
     ]
    },
    {
     "name": "stdout",
     "output_type": "stream",
     "text": [
      "epoch: 8, [batch: 3360 / 6720], examples_per_second: 1982.9891, train_label_loss: 0.3780, \n"
     ]
    },
    {
     "name": "stdout",
     "output_type": "stream",
     "text": [
      "epoch: 8, [batch: 4032 / 6720], examples_per_second: 2445.4459, train_label_loss: 0.5468, \n"
     ]
    },
    {
     "name": "stdout",
     "output_type": "stream",
     "text": [
      "epoch: 8, [batch: 4704 / 6720], examples_per_second: 2333.8759, train_label_loss: 0.2761, \n"
     ]
    },
    {
     "name": "stdout",
     "output_type": "stream",
     "text": [
      "epoch: 8, [batch: 5376 / 6720], examples_per_second: 1983.4140, train_label_loss: 0.4501, \n"
     ]
    },
    {
     "name": "stdout",
     "output_type": "stream",
     "text": [
      "epoch: 8, [batch: 6048 / 6720], examples_per_second: 1981.9388, train_label_loss: 0.4441, \n"
     ]
    },
    {
     "name": "stdout",
     "output_type": "stream",
     "text": [
      "=============================================================\n",
      "epoch: 8, source_val_acc_label: 0.8620, target_val_acc_label: 0.6988, source_val_label_loss: 0.3754, target_val_label_loss: 190.6848, \n",
      "=============================================================\n"
     ]
    },
    {
     "name": "stdout",
     "output_type": "stream",
     "text": [
      "New best\n"
     ]
    },
    {
     "name": "stdout",
     "output_type": "stream",
     "text": [
      "epoch: 9, [batch: 1 / 6720], examples_per_second: 2.8745, train_label_loss: 0.1226, \n"
     ]
    },
    {
     "name": "stdout",
     "output_type": "stream",
     "text": [
      "epoch: 9, [batch: 672 / 6720], examples_per_second: 1979.0699, train_label_loss: 0.6314, \n"
     ]
    },
    {
     "name": "stdout",
     "output_type": "stream",
     "text": [
      "epoch: 9, [batch: 1344 / 6720], examples_per_second: 1984.1374, train_label_loss: 0.4252, \n"
     ]
    },
    {
     "name": "stdout",
     "output_type": "stream",
     "text": [
      "epoch: 9, [batch: 2016 / 6720], examples_per_second: 1979.9570, train_label_loss: 0.3204, \n"
     ]
    },
    {
     "name": "stdout",
     "output_type": "stream",
     "text": [
      "epoch: 9, [batch: 2688 / 6720], examples_per_second: 1979.6866, train_label_loss: 0.2209, \n"
     ]
    },
    {
     "name": "stdout",
     "output_type": "stream",
     "text": [
      "epoch: 9, [batch: 3360 / 6720], examples_per_second: 1985.6031, train_label_loss: 0.7206, \n"
     ]
    },
    {
     "name": "stdout",
     "output_type": "stream",
     "text": [
      "epoch: 9, [batch: 4032 / 6720], examples_per_second: 2447.9223, train_label_loss: 0.9102, \n"
     ]
    },
    {
     "name": "stdout",
     "output_type": "stream",
     "text": [
      "epoch: 9, [batch: 4704 / 6720], examples_per_second: 2338.3152, train_label_loss: 0.2695, \n"
     ]
    },
    {
     "name": "stdout",
     "output_type": "stream",
     "text": [
      "epoch: 9, [batch: 5376 / 6720], examples_per_second: 1981.1018, train_label_loss: 0.1583, \n"
     ]
    },
    {
     "name": "stdout",
     "output_type": "stream",
     "text": [
      "epoch: 9, [batch: 6048 / 6720], examples_per_second: 1982.1600, train_label_loss: 0.2344, \n"
     ]
    },
    {
     "name": "stdout",
     "output_type": "stream",
     "text": [
      "=============================================================\n",
      "epoch: 9, source_val_acc_label: 0.8479, target_val_acc_label: 0.6987, source_val_label_loss: 0.4146, target_val_label_loss: 191.4361, \n",
      "=============================================================\n"
     ]
    },
    {
     "name": "stdout",
     "output_type": "stream",
     "text": [
      "epoch: 10, [batch: 1 / 6720], examples_per_second: 2.8756, train_label_loss: 0.4178, \n"
     ]
    },
    {
     "name": "stdout",
     "output_type": "stream",
     "text": [
      "epoch: 10, [batch: 672 / 6720], examples_per_second: 1977.2998, train_label_loss: 0.1288, \n"
     ]
    },
    {
     "name": "stdout",
     "output_type": "stream",
     "text": [
      "epoch: 10, [batch: 1344 / 6720], examples_per_second: 1986.1362, train_label_loss: 0.5127, \n"
     ]
    },
    {
     "name": "stdout",
     "output_type": "stream",
     "text": [
      "epoch: 10, [batch: 2016 / 6720], examples_per_second: 1980.6701, train_label_loss: 0.0357, \n"
     ]
    },
    {
     "name": "stdout",
     "output_type": "stream",
     "text": [
      "epoch: 10, [batch: 2688 / 6720], examples_per_second: 1978.4614, train_label_loss: 0.4893, \n"
     ]
    },
    {
     "name": "stdout",
     "output_type": "stream",
     "text": [
      "epoch: 10, [batch: 3360 / 6720], examples_per_second: 1981.6036, train_label_loss: 0.0812, \n"
     ]
    },
    {
     "name": "stdout",
     "output_type": "stream",
     "text": [
      "epoch: 10, [batch: 4032 / 6720], examples_per_second: 2477.4192, train_label_loss: 0.3912, \n"
     ]
    },
    {
     "name": "stdout",
     "output_type": "stream",
     "text": [
      "epoch: 10, [batch: 4704 / 6720], examples_per_second: 2338.4248, train_label_loss: 0.5869, \n"
     ]
    },
    {
     "name": "stdout",
     "output_type": "stream",
     "text": [
      "epoch: 10, [batch: 5376 / 6720], examples_per_second: 1982.4834, train_label_loss: 0.5336, \n"
     ]
    },
    {
     "name": "stdout",
     "output_type": "stream",
     "text": [
      "epoch: 10, [batch: 6048 / 6720], examples_per_second: 1981.8816, train_label_loss: 0.1814, \n"
     ]
    },
    {
     "name": "stdout",
     "output_type": "stream",
     "text": [
      "=============================================================\n",
      "epoch: 10, source_val_acc_label: 0.8733, target_val_acc_label: 0.7028, source_val_label_loss: 0.3529, target_val_label_loss: 209.1980, \n",
      "=============================================================\n"
     ]
    },
    {
     "name": "stdout",
     "output_type": "stream",
     "text": [
      "New best\n"
     ]
    },
    {
     "name": "stdout",
     "output_type": "stream",
     "text": [
      "epoch: 11, [batch: 1 / 6720], examples_per_second: 2.8763, train_label_loss: 0.3913, \n"
     ]
    },
    {
     "name": "stdout",
     "output_type": "stream",
     "text": [
      "epoch: 11, [batch: 672 / 6720], examples_per_second: 1978.5135, train_label_loss: 0.3629, \n"
     ]
    },
    {
     "name": "stdout",
     "output_type": "stream",
     "text": [
      "epoch: 11, [batch: 1344 / 6720], examples_per_second: 1986.2092, train_label_loss: 0.4704, \n"
     ]
    },
    {
     "name": "stdout",
     "output_type": "stream",
     "text": [
      "epoch: 11, [batch: 2016 / 6720], examples_per_second: 1981.5658, train_label_loss: 0.1270, \n"
     ]
    },
    {
     "name": "stdout",
     "output_type": "stream",
     "text": [
      "epoch: 11, [batch: 2688 / 6720], examples_per_second: 1978.3803, train_label_loss: 0.6721, \n"
     ]
    },
    {
     "name": "stdout",
     "output_type": "stream",
     "text": [
      "epoch: 11, [batch: 3360 / 6720], examples_per_second: 1981.6423, train_label_loss: 0.3116, \n"
     ]
    },
    {
     "name": "stdout",
     "output_type": "stream",
     "text": [
      "epoch: 11, [batch: 4032 / 6720], examples_per_second: 2481.6757, train_label_loss: 0.0808, \n"
     ]
    },
    {
     "name": "stdout",
     "output_type": "stream",
     "text": [
      "epoch: 11, [batch: 4704 / 6720], examples_per_second: 2346.4476, train_label_loss: 0.2075, \n"
     ]
    },
    {
     "name": "stdout",
     "output_type": "stream",
     "text": [
      "epoch: 11, [batch: 5376 / 6720], examples_per_second: 1982.5111, train_label_loss: 0.2776, \n"
     ]
    },
    {
     "name": "stdout",
     "output_type": "stream",
     "text": [
      "epoch: 11, [batch: 6048 / 6720], examples_per_second: 1983.2541, train_label_loss: 0.1065, \n"
     ]
    },
    {
     "name": "stdout",
     "output_type": "stream",
     "text": [
      "=============================================================\n",
      "epoch: 11, source_val_acc_label: 0.8701, target_val_acc_label: 0.7088, source_val_label_loss: 0.3566, target_val_label_loss: 178.6256, \n",
      "=============================================================\n"
     ]
    },
    {
     "name": "stdout",
     "output_type": "stream",
     "text": [
      "New best\n"
     ]
    },
    {
     "name": "stdout",
     "output_type": "stream",
     "text": [
      "epoch: 12, [batch: 1 / 6720], examples_per_second: 2.8825, train_label_loss: 0.7016, \n"
     ]
    },
    {
     "name": "stdout",
     "output_type": "stream",
     "text": [
      "epoch: 12, [batch: 672 / 6720], examples_per_second: 1980.9796, train_label_loss: 0.4502, \n"
     ]
    },
    {
     "name": "stdout",
     "output_type": "stream",
     "text": [
      "epoch: 12, [batch: 1344 / 6720], examples_per_second: 1985.6278, train_label_loss: 0.1255, \n"
     ]
    },
    {
     "name": "stdout",
     "output_type": "stream",
     "text": [
      "epoch: 12, [batch: 2016 / 6720], examples_per_second: 1978.9524, train_label_loss: 0.5589, \n"
     ]
    },
    {
     "name": "stdout",
     "output_type": "stream",
     "text": [
      "epoch: 12, [batch: 2688 / 6720], examples_per_second: 1975.7643, train_label_loss: 0.1742, \n"
     ]
    },
    {
     "name": "stdout",
     "output_type": "stream",
     "text": [
      "epoch: 12, [batch: 3360 / 6720], examples_per_second: 1983.0300, train_label_loss: 0.3346, \n"
     ]
    },
    {
     "name": "stdout",
     "output_type": "stream",
     "text": [
      "epoch: 12, [batch: 4032 / 6720], examples_per_second: 2402.7346, train_label_loss: 0.2768, \n"
     ]
    },
    {
     "name": "stdout",
     "output_type": "stream",
     "text": [
      "epoch: 12, [batch: 4704 / 6720], examples_per_second: 2321.3079, train_label_loss: 0.1076, \n"
     ]
    },
    {
     "name": "stdout",
     "output_type": "stream",
     "text": [
      "epoch: 12, [batch: 5376 / 6720], examples_per_second: 1982.4720, train_label_loss: 0.2030, \n"
     ]
    },
    {
     "name": "stdout",
     "output_type": "stream",
     "text": [
      "epoch: 12, [batch: 6048 / 6720], examples_per_second: 1983.0346, train_label_loss: 0.0329, \n"
     ]
    },
    {
     "name": "stdout",
     "output_type": "stream",
     "text": [
      "=============================================================\n",
      "epoch: 12, source_val_acc_label: 0.8836, target_val_acc_label: 0.7063, source_val_label_loss: 0.3201, target_val_label_loss: 195.7249, \n",
      "=============================================================\n"
     ]
    },
    {
     "name": "stdout",
     "output_type": "stream",
     "text": [
      "epoch: 13, [batch: 1 / 6720], examples_per_second: 2.8836, train_label_loss: 0.3207, \n"
     ]
    },
    {
     "name": "stdout",
     "output_type": "stream",
     "text": [
      "epoch: 13, [batch: 672 / 6720], examples_per_second: 1980.7674, train_label_loss: 0.2256, \n"
     ]
    },
    {
     "name": "stdout",
     "output_type": "stream",
     "text": [
      "epoch: 13, [batch: 1344 / 6720], examples_per_second: 1985.8409, train_label_loss: 0.0658, \n"
     ]
    },
    {
     "name": "stdout",
     "output_type": "stream",
     "text": [
      "epoch: 13, [batch: 2016 / 6720], examples_per_second: 1982.0218, train_label_loss: 0.1060, \n"
     ]
    },
    {
     "name": "stdout",
     "output_type": "stream",
     "text": [
      "epoch: 13, [batch: 2688 / 6720], examples_per_second: 1978.9080, train_label_loss: 0.0836, \n"
     ]
    },
    {
     "name": "stdout",
     "output_type": "stream",
     "text": [
      "epoch: 13, [batch: 3360 / 6720], examples_per_second: 1983.2401, train_label_loss: 0.1402, \n"
     ]
    },
    {
     "name": "stdout",
     "output_type": "stream",
     "text": [
      "epoch: 13, [batch: 4032 / 6720], examples_per_second: 2445.7404, train_label_loss: 0.3582, \n"
     ]
    },
    {
     "name": "stdout",
     "output_type": "stream",
     "text": [
      "epoch: 13, [batch: 4704 / 6720], examples_per_second: 2335.7082, train_label_loss: 0.0408, \n"
     ]
    },
    {
     "name": "stdout",
     "output_type": "stream",
     "text": [
      "epoch: 13, [batch: 5376 / 6720], examples_per_second: 1983.2565, train_label_loss: 0.2202, \n"
     ]
    },
    {
     "name": "stdout",
     "output_type": "stream",
     "text": [
      "epoch: 13, [batch: 6048 / 6720], examples_per_second: 1980.1126, train_label_loss: 0.1773, \n"
     ]
    },
    {
     "name": "stdout",
     "output_type": "stream",
     "text": [
      "=============================================================\n",
      "epoch: 13, source_val_acc_label: 0.8735, target_val_acc_label: 0.7251, source_val_label_loss: 0.3490, target_val_label_loss: 223.9015, \n",
      "=============================================================\n"
     ]
    },
    {
     "name": "stdout",
     "output_type": "stream",
     "text": [
      "New best\n"
     ]
    },
    {
     "name": "stdout",
     "output_type": "stream",
     "text": [
      "epoch: 14, [batch: 1 / 6720], examples_per_second: 2.8758, train_label_loss: 0.3668, \n"
     ]
    },
    {
     "name": "stdout",
     "output_type": "stream",
     "text": [
      "epoch: 14, [batch: 672 / 6720], examples_per_second: 1979.6821, train_label_loss: 0.2471, \n"
     ]
    },
    {
     "name": "stdout",
     "output_type": "stream",
     "text": [
      "epoch: 14, [batch: 1344 / 6720], examples_per_second: 1986.3175, train_label_loss: 0.3204, \n"
     ]
    },
    {
     "name": "stdout",
     "output_type": "stream",
     "text": [
      "epoch: 14, [batch: 2016 / 6720], examples_per_second: 1981.8062, train_label_loss: 0.1400, \n"
     ]
    },
    {
     "name": "stdout",
     "output_type": "stream",
     "text": [
      "epoch: 14, [batch: 2688 / 6720], examples_per_second: 1978.0623, train_label_loss: 0.1028, \n"
     ]
    },
    {
     "name": "stdout",
     "output_type": "stream",
     "text": [
      "epoch: 14, [batch: 3360 / 6720], examples_per_second: 1980.9351, train_label_loss: 0.1449, \n"
     ]
    },
    {
     "name": "stdout",
     "output_type": "stream",
     "text": [
      "epoch: 14, [batch: 4032 / 6720], examples_per_second: 2459.2307, train_label_loss: 0.5567, \n"
     ]
    },
    {
     "name": "stdout",
     "output_type": "stream",
     "text": [
      "epoch: 14, [batch: 4704 / 6720], examples_per_second: 2356.9610, train_label_loss: 0.1929, \n"
     ]
    },
    {
     "name": "stdout",
     "output_type": "stream",
     "text": [
      "epoch: 14, [batch: 5376 / 6720], examples_per_second: 1981.4790, train_label_loss: 0.0922, \n"
     ]
    },
    {
     "name": "stdout",
     "output_type": "stream",
     "text": [
      "epoch: 14, [batch: 6048 / 6720], examples_per_second: 1983.5447, train_label_loss: 0.1183, \n"
     ]
    },
    {
     "name": "stdout",
     "output_type": "stream",
     "text": [
      "=============================================================\n",
      "epoch: 14, source_val_acc_label: 0.8876, target_val_acc_label: 0.7362, source_val_label_loss: 0.3124, target_val_label_loss: 212.4188, \n",
      "=============================================================\n"
     ]
    },
    {
     "name": "stdout",
     "output_type": "stream",
     "text": [
      "New best\n"
     ]
    },
    {
     "name": "stdout",
     "output_type": "stream",
     "text": [
      "epoch: 15, [batch: 1 / 6720], examples_per_second: 2.8693, train_label_loss: 0.0569, \n"
     ]
    },
    {
     "name": "stdout",
     "output_type": "stream",
     "text": [
      "epoch: 15, [batch: 672 / 6720], examples_per_second: 1980.8178, train_label_loss: 0.1988, \n"
     ]
    },
    {
     "name": "stdout",
     "output_type": "stream",
     "text": [
      "epoch: 15, [batch: 1344 / 6720], examples_per_second: 1986.7425, train_label_loss: 0.0381, \n"
     ]
    },
    {
     "name": "stdout",
     "output_type": "stream",
     "text": [
      "epoch: 15, [batch: 2016 / 6720], examples_per_second: 1980.9783, train_label_loss: 0.1257, \n"
     ]
    },
    {
     "name": "stdout",
     "output_type": "stream",
     "text": [
      "epoch: 15, [batch: 2688 / 6720], examples_per_second: 1978.2881, train_label_loss: 0.1730, \n"
     ]
    },
    {
     "name": "stdout",
     "output_type": "stream",
     "text": [
      "epoch: 15, [batch: 3360 / 6720], examples_per_second: 1981.6883, train_label_loss: 0.2439, \n"
     ]
    },
    {
     "name": "stdout",
     "output_type": "stream",
     "text": [
      "epoch: 15, [batch: 4032 / 6720], examples_per_second: 2420.9053, train_label_loss: 0.3780, \n"
     ]
    },
    {
     "name": "stdout",
     "output_type": "stream",
     "text": [
      "epoch: 15, [batch: 4704 / 6720], examples_per_second: 2342.4258, train_label_loss: 0.2693, \n"
     ]
    },
    {
     "name": "stdout",
     "output_type": "stream",
     "text": [
      "epoch: 15, [batch: 5376 / 6720], examples_per_second: 1982.9653, train_label_loss: 0.2115, \n"
     ]
    },
    {
     "name": "stdout",
     "output_type": "stream",
     "text": [
      "epoch: 15, [batch: 6048 / 6720], examples_per_second: 1981.8159, train_label_loss: 0.1350, \n"
     ]
    },
    {
     "name": "stdout",
     "output_type": "stream",
     "text": [
      "=============================================================\n",
      "epoch: 15, source_val_acc_label: 0.8748, target_val_acc_label: 0.6861, source_val_label_loss: 0.3511, target_val_label_loss: 194.5158, \n",
      "=============================================================\n"
     ]
    },
    {
     "name": "stdout",
     "output_type": "stream",
     "text": [
      "epoch: 16, [batch: 1 / 6720], examples_per_second: 2.8959, train_label_loss: 0.0433, \n"
     ]
    },
    {
     "name": "stdout",
     "output_type": "stream",
     "text": [
      "epoch: 16, [batch: 672 / 6720], examples_per_second: 1981.8660, train_label_loss: 0.2206, \n"
     ]
    },
    {
     "name": "stdout",
     "output_type": "stream",
     "text": [
      "epoch: 16, [batch: 1344 / 6720], examples_per_second: 1985.8970, train_label_loss: 0.0984, \n"
     ]
    },
    {
     "name": "stdout",
     "output_type": "stream",
     "text": [
      "epoch: 16, [batch: 2016 / 6720], examples_per_second: 1980.7205, train_label_loss: 0.0220, \n"
     ]
    },
    {
     "name": "stdout",
     "output_type": "stream",
     "text": [
      "epoch: 16, [batch: 2688 / 6720], examples_per_second: 1978.0995, train_label_loss: 0.0678, \n"
     ]
    },
    {
     "name": "stdout",
     "output_type": "stream",
     "text": [
      "epoch: 16, [batch: 3360 / 6720], examples_per_second: 1980.5742, train_label_loss: 0.1458, \n"
     ]
    },
    {
     "name": "stdout",
     "output_type": "stream",
     "text": [
      "epoch: 16, [batch: 4032 / 6720], examples_per_second: 2420.3406, train_label_loss: 0.2560, \n"
     ]
    },
    {
     "name": "stdout",
     "output_type": "stream",
     "text": [
      "epoch: 16, [batch: 4704 / 6720], examples_per_second: 2337.2696, train_label_loss: 0.2108, \n"
     ]
    },
    {
     "name": "stdout",
     "output_type": "stream",
     "text": [
      "epoch: 16, [batch: 5376 / 6720], examples_per_second: 1981.2235, train_label_loss: 0.3354, \n"
     ]
    },
    {
     "name": "stdout",
     "output_type": "stream",
     "text": [
      "epoch: 16, [batch: 6048 / 6720], examples_per_second: 1981.7422, train_label_loss: 0.1192, \n"
     ]
    },
    {
     "name": "stdout",
     "output_type": "stream",
     "text": [
      "=============================================================\n",
      "epoch: 16, source_val_acc_label: 0.8704, target_val_acc_label: 0.7232, source_val_label_loss: 0.3630, target_val_label_loss: 227.3720, \n",
      "=============================================================\n"
     ]
    },
    {
     "name": "stdout",
     "output_type": "stream",
     "text": [
      "epoch: 17, [batch: 1 / 6720], examples_per_second: 2.8589, train_label_loss: 0.0357, \n"
     ]
    },
    {
     "name": "stdout",
     "output_type": "stream",
     "text": [
      "epoch: 17, [batch: 672 / 6720], examples_per_second: 1978.6488, train_label_loss: 0.0943, \n"
     ]
    },
    {
     "name": "stdout",
     "output_type": "stream",
     "text": [
      "epoch: 17, [batch: 1344 / 6720], examples_per_second: 1985.6961, train_label_loss: 0.0716, \n"
     ]
    },
    {
     "name": "stdout",
     "output_type": "stream",
     "text": [
      "epoch: 17, [batch: 2016 / 6720], examples_per_second: 1981.8648, train_label_loss: 0.1883, \n"
     ]
    },
    {
     "name": "stdout",
     "output_type": "stream",
     "text": [
      "epoch: 17, [batch: 2688 / 6720], examples_per_second: 1976.5425, train_label_loss: 0.0570, \n"
     ]
    },
    {
     "name": "stdout",
     "output_type": "stream",
     "text": [
      "epoch: 17, [batch: 3360 / 6720], examples_per_second: 1988.1342, train_label_loss: 0.3324, \n"
     ]
    },
    {
     "name": "stdout",
     "output_type": "stream",
     "text": [
      "epoch: 17, [batch: 4032 / 6720], examples_per_second: 2456.2670, train_label_loss: 0.2540, \n"
     ]
    },
    {
     "name": "stdout",
     "output_type": "stream",
     "text": [
      "epoch: 17, [batch: 4704 / 6720], examples_per_second: 2318.2218, train_label_loss: 0.1001, \n"
     ]
    },
    {
     "name": "stdout",
     "output_type": "stream",
     "text": [
      "epoch: 17, [batch: 5376 / 6720], examples_per_second: 1983.1889, train_label_loss: 0.1217, \n"
     ]
    },
    {
     "name": "stdout",
     "output_type": "stream",
     "text": [
      "epoch: 17, [batch: 6048 / 6720], examples_per_second: 1981.5059, train_label_loss: 0.0183, \n"
     ]
    },
    {
     "name": "stdout",
     "output_type": "stream",
     "text": [
      "=============================================================\n",
      "epoch: 17, source_val_acc_label: 0.8862, target_val_acc_label: 0.6908, source_val_label_loss: 0.3243, target_val_label_loss: 226.9453, \n",
      "=============================================================\n"
     ]
    },
    {
     "name": "stdout",
     "output_type": "stream",
     "text": [
      "epoch: 18, [batch: 1 / 6720], examples_per_second: 2.8758, train_label_loss: 0.1273, \n"
     ]
    },
    {
     "name": "stdout",
     "output_type": "stream",
     "text": [
      "epoch: 18, [batch: 672 / 6720], examples_per_second: 1979.3808, train_label_loss: 0.2288, \n"
     ]
    },
    {
     "name": "stdout",
     "output_type": "stream",
     "text": [
      "epoch: 18, [batch: 1344 / 6720], examples_per_second: 1984.9646, train_label_loss: 0.2120, \n"
     ]
    },
    {
     "name": "stdout",
     "output_type": "stream",
     "text": [
      "epoch: 18, [batch: 2016 / 6720], examples_per_second: 1981.7132, train_label_loss: 0.1372, \n"
     ]
    },
    {
     "name": "stdout",
     "output_type": "stream",
     "text": [
      "epoch: 18, [batch: 2688 / 6720], examples_per_second: 1977.4357, train_label_loss: 0.3107, \n"
     ]
    },
    {
     "name": "stdout",
     "output_type": "stream",
     "text": [
      "epoch: 18, [batch: 3360 / 6720], examples_per_second: 1991.1136, train_label_loss: 0.1896, \n"
     ]
    },
    {
     "name": "stdout",
     "output_type": "stream",
     "text": [
      "epoch: 18, [batch: 4032 / 6720], examples_per_second: 2456.0380, train_label_loss: 0.1085, \n"
     ]
    },
    {
     "name": "stdout",
     "output_type": "stream",
     "text": [
      "epoch: 18, [batch: 4704 / 6720], examples_per_second: 2321.2655, train_label_loss: 0.0460, \n"
     ]
    },
    {
     "name": "stdout",
     "output_type": "stream",
     "text": [
      "epoch: 18, [batch: 5376 / 6720], examples_per_second: 1981.1326, train_label_loss: 0.1750, \n"
     ]
    },
    {
     "name": "stdout",
     "output_type": "stream",
     "text": [
      "epoch: 18, [batch: 6048 / 6720], examples_per_second: 1981.3171, train_label_loss: 0.2602, \n"
     ]
    },
    {
     "name": "stdout",
     "output_type": "stream",
     "text": [
      "=============================================================\n",
      "epoch: 18, source_val_acc_label: 0.8692, target_val_acc_label: 0.7276, source_val_label_loss: 0.3771, target_val_label_loss: 246.0785, \n",
      "=============================================================\n"
     ]
    },
    {
     "name": "stdout",
     "output_type": "stream",
     "text": [
      "Patience (3) exhausted\n"
     ]
    }
   ],
   "source": [
    "###################################\n",
    "# train\n",
    "###################################\n",
    "jig = PTN_Train_Eval_Test_Jig(model, p.BEST_MODEL_PATH, p.device)\n",
    "\n",
    "jig.train(\n",
    "    train_iterable=datasets.source.processed.train,\n",
    "    source_val_iterable=datasets.source.processed.val,\n",
    "    target_val_iterable=datasets.target.processed.val,\n",
    "    num_epochs=p.n_epoch,\n",
    "    num_logs_per_epoch=p.NUM_LOGS_PER_EPOCH,\n",
    "    patience=p.patience,\n",
    "    optimizer=optimizer,\n",
    "    criteria_for_best=p.criteria_for_best,\n",
    ")"
   ]
  },
  {
   "cell_type": "code",
   "execution_count": 23,
   "id": "31e8fabf",
   "metadata": {
    "execution": {
     "iopub.execute_input": "2022-03-25T22:16:24.420614Z",
     "iopub.status.busy": "2022-03-25T22:16:24.420351Z",
     "iopub.status.idle": "2022-03-25T22:16:24.437350Z",
     "shell.execute_reply": "2022-03-25T22:16:24.436901Z"
    },
    "papermill": {
     "duration": 0.07192,
     "end_time": "2022-03-25T22:16:24.437458",
     "exception": false,
     "start_time": "2022-03-25T22:16:24.365538",
     "status": "completed"
    },
    "tags": []
   },
   "outputs": [],
   "source": [
    "total_experiment_time_secs = time.time() - start_time_secs"
   ]
  },
  {
   "cell_type": "code",
   "execution_count": 24,
   "id": "87b9595b",
   "metadata": {
    "execution": {
     "iopub.execute_input": "2022-03-25T22:16:24.551747Z",
     "iopub.status.busy": "2022-03-25T22:16:24.551466Z",
     "iopub.status.idle": "2022-03-25T22:18:51.064105Z",
     "shell.execute_reply": "2022-03-25T22:18:51.064456Z"
    },
    "papermill": {
     "duration": 146.571087,
     "end_time": "2022-03-25T22:18:51.064569",
     "exception": false,
     "start_time": "2022-03-25T22:16:24.493482",
     "status": "completed"
    },
    "tags": []
   },
   "outputs": [],
   "source": [
    "###################################\n",
    "# Evaluate the model\n",
    "###################################\n",
    "source_test_label_accuracy, source_test_label_loss = jig.test(datasets.source.processed.test)\n",
    "target_test_label_accuracy, target_test_label_loss = jig.test(datasets.target.processed.test)\n",
    "\n",
    "source_val_label_accuracy, source_val_label_loss = jig.test(datasets.source.processed.val)\n",
    "target_val_label_accuracy, target_val_label_loss = jig.test(datasets.target.processed.val)\n",
    "\n",
    "history = jig.get_history()\n",
    "\n",
    "total_epochs_trained = len(history[\"epoch_indices\"])\n",
    "\n",
    "val_dl = Iterable_Aggregator((datasets.source.original.val,datasets.target.original.val))\n",
    "\n",
    "confusion = ptn_confusion_by_domain_over_dataloader(model, p.device, val_dl)\n",
    "per_domain_accuracy = per_domain_accuracy_from_confusion(confusion)\n",
    "\n",
    "# Add a key to per_domain_accuracy for if it was a source domain\n",
    "for domain, accuracy in per_domain_accuracy.items():\n",
    "    per_domain_accuracy[domain] = {\n",
    "        \"accuracy\": accuracy,\n",
    "        \"source?\": domain in p.domains_source\n",
    "    }\n",
    "\n",
    "# Do an independent accuracy assesment JUST TO BE SURE!\n",
    "# _source_test_label_accuracy = independent_accuracy_assesment(model, datasets.source.processed.test, p.device)\n",
    "# _target_test_label_accuracy = independent_accuracy_assesment(model, datasets.target.processed.test, p.device)\n",
    "# _source_val_label_accuracy = independent_accuracy_assesment(model, datasets.source.processed.val, p.device)\n",
    "# _target_val_label_accuracy = independent_accuracy_assesment(model, datasets.target.processed.val, p.device)\n",
    "\n",
    "# assert(_source_test_label_accuracy == source_test_label_accuracy)\n",
    "# assert(_target_test_label_accuracy == target_test_label_accuracy)\n",
    "# assert(_source_val_label_accuracy == source_val_label_accuracy)\n",
    "# assert(_target_val_label_accuracy == target_val_label_accuracy)\n",
    "\n",
    "experiment = {\n",
    "    \"experiment_name\": p.experiment_name,\n",
    "    \"parameters\": dict(p),\n",
    "    \"results\": {\n",
    "        \"source_test_label_accuracy\": source_test_label_accuracy,\n",
    "        \"source_test_label_loss\": source_test_label_loss,\n",
    "        \"target_test_label_accuracy\": target_test_label_accuracy,\n",
    "        \"target_test_label_loss\": target_test_label_loss,\n",
    "        \"source_val_label_accuracy\": source_val_label_accuracy,\n",
    "        \"source_val_label_loss\": source_val_label_loss,\n",
    "        \"target_val_label_accuracy\": target_val_label_accuracy,\n",
    "        \"target_val_label_loss\": target_val_label_loss,\n",
    "        \"total_epochs_trained\": total_epochs_trained,\n",
    "        \"total_experiment_time_secs\": total_experiment_time_secs,\n",
    "        \"confusion\": confusion,\n",
    "        \"per_domain_accuracy\": per_domain_accuracy,\n",
    "    },\n",
    "    \"history\": history,\n",
    "    \"dataset_metrics\": get_dataset_metrics(datasets, \"ptn\"),\n",
    "}"
   ]
  },
  {
   "cell_type": "code",
   "execution_count": 25,
   "id": "54a21829",
   "metadata": {
    "execution": {
     "iopub.execute_input": "2022-03-25T22:18:51.177194Z",
     "iopub.status.busy": "2022-03-25T22:18:51.176777Z",
     "iopub.status.idle": "2022-03-25T22:18:51.301501Z",
     "shell.execute_reply": "2022-03-25T22:18:51.301737Z"
    },
    "papermill": {
     "duration": 0.18006,
     "end_time": "2022-03-25T22:18:51.301819",
     "exception": false,
     "start_time": "2022-03-25T22:18:51.121759",
     "status": "completed"
    },
    "tags": []
   },
   "outputs": [
    {
     "data": {
      "image/png": "[encoded data removed]",
      "text/plain": [
       "<Figure size 1080x504 with 1 Axes>"
      ]
     },
     "metadata": {
      "needs_background": "light"
     },
     "output_type": "display_data"
    }
   ],
   "source": [
    "ax = get_loss_curve(experiment)\n",
    "plt.show()"
   ]
  },
  {
   "cell_type": "code",
   "execution_count": 26,
   "id": "fd8a0f60",
   "metadata": {
    "execution": {
     "iopub.execute_input": "2022-03-25T22:18:51.412762Z",
     "iopub.status.busy": "2022-03-25T22:18:51.412346Z",
     "iopub.status.idle": "2022-03-25T22:18:51.575705Z",
     "shell.execute_reply": "2022-03-25T22:18:51.575418Z"
    },
    "papermill": {
     "duration": 0.217929,
     "end_time": "2022-03-25T22:18:51.575772",
     "exception": false,
     "start_time": "2022-03-25T22:18:51.357843",
     "status": "completed"
    },
    "tags": []
   },
   "outputs": [
    {
     "data": {
      "text/plain": [
       "<AxesSubplot:title={'center':'Results'}>"
      ]
     },
     "execution_count": 26,
     "metadata": {},
     "output_type": "execute_result"
    },
    {
     "data": {
      "image/png": "[encoded data removed]",
      "text/plain": [
       "<Figure size 1080x504 with 1 Axes>"
      ]
     },
     "metadata": {
      "needs_background": "light"
     },
     "output_type": "display_data"
    }
   ],
   "source": [
    "get_results_table(experiment)"
   ]
  },
  {
   "cell_type": "code",
   "execution_count": 27,
   "id": "cf8dc689",
   "metadata": {
    "execution": {
     "iopub.execute_input": "2022-03-25T22:18:51.690298Z",
     "iopub.status.busy": "2022-03-25T22:18:51.690016Z",
     "iopub.status.idle": "2022-03-25T22:18:51.831396Z",
     "shell.execute_reply": "2022-03-25T22:18:51.831755Z"
    },
    "papermill": {
     "duration": 0.199619,
     "end_time": "2022-03-25T22:18:51.831877",
     "exception": false,
     "start_time": "2022-03-25T22:18:51.632258",
     "status": "completed"
    },
    "tags": []
   },
   "outputs": [
    {
     "data": {
      "text/plain": [
       "<AxesSubplot:title={'center':'Per Domain Validation Accuracy'}, xlabel='domain'>"
      ]
     },
     "execution_count": 27,
     "metadata": {},
     "output_type": "execute_result"
    },
    {
     "data": {
      "image/png": "[encoded data removed]",
      "text/plain": [
       "<Figure size 1080x504 with 1 Axes>"
      ]
     },
     "metadata": {
      "needs_background": "light"
     },
     "output_type": "display_data"
    }
   ],
   "source": [
    "get_domain_accuracies(experiment)"
   ]
  },
  {
   "cell_type": "code",
   "execution_count": 28,
   "id": "a74ae082",
   "metadata": {
    "execution": {
     "iopub.execute_input": "2022-03-25T22:18:51.949705Z",
     "iopub.status.busy": "2022-03-25T22:18:51.949408Z",
     "iopub.status.idle": "2022-03-25T22:18:51.967180Z",
     "shell.execute_reply": "2022-03-25T22:18:51.966761Z"
    },
    "papermill": {
     "duration": 0.074834,
     "end_time": "2022-03-25T22:18:51.967282",
     "exception": false,
     "start_time": "2022-03-25T22:18:51.892448",
     "status": "completed"
    },
    "tags": []
   },
   "outputs": [
    {
     "name": "stdout",
     "output_type": "stream",
     "text": [
      "Source Test Label Accuracy: 0.8887044270833333 Target Test Label Accuracy: 0.7287808641975309\n",
      "Source Val Label Accuracy: 0.8875651041666667 Target Val Label Accuracy: 0.7361586757990868\n"
     ]
    }
   ],
   "source": [
    "print(\"Source Test Label Accuracy:\", experiment[\"results\"][\"source_test_label_accuracy\"], \"Target Test Label Accuracy:\", experiment[\"results\"][\"target_test_label_accuracy\"])\n",
    "print(\"Source Val Label Accuracy:\", experiment[\"results\"][\"source_val_label_accuracy\"], \"Target Val Label Accuracy:\", experiment[\"results\"][\"target_val_label_accuracy\"])"
   ]
  },
  {
   "cell_type": "code",
   "execution_count": 29,
   "id": "dacca602",
   "metadata": {
    "execution": {
     "iopub.execute_input": "2022-03-25T22:18:52.087722Z",
     "iopub.status.busy": "2022-03-25T22:18:52.087412Z",
     "iopub.status.idle": "2022-03-25T22:18:52.102484Z",
     "shell.execute_reply": "2022-03-25T22:18:52.102923Z"
    },
    "papermill": {
     "duration": 0.07427,
     "end_time": "2022-03-25T22:18:52.103049",
     "exception": false,
     "start_time": "2022-03-25T22:18:52.028779",
     "status": "completed"
    },
    "tags": [
     "experiment_json"
    ]
   },
   "outputs": [
    {
     "data": {
      "text/plain": [
       "'{\"experiment_name\": \"tl_3-filterv2:oracle.run1.framed -> cores\", \"parameters\": {\"experiment_name\": \"tl_3-filterv2:oracle.run1.framed -> cores\", \"device\": \"cuda\", \"lr\": 0.0001, \"x_shape\": [2, 200], \"n_shot\": 3, \"n_query\": 2, \"train_k_factor\": 3, \"val_k_factor\": 2, \"test_k_factor\": 2, \"torch_default_dtype\": \"torch.float32\", \"n_epoch\": 50, \"patience\": 3, \"criteria_for_best\": \"target_accuracy\", \"x_net\": [{\"class\": \"nnReshape\", \"kargs\": {\"shape\": [-1, 1, 2, 200]}}, {\"class\": \"Conv2d\", \"kargs\": {\"in_channels\": 1, \"out_channels\": 256, \"kernel_size\": [1, 7], \"bias\": false, \"padding\": [0, 3]}}, {\"class\": \"ReLU\", \"kargs\": {\"inplace\": true}}, {\"class\": \"BatchNorm2d\", \"kargs\": {\"num_features\": 256}}, {\"class\": \"Conv2d\", \"kargs\": {\"in_channels\": 256, \"out_channels\": 80, \"kernel_size\": [2, 7], \"bias\": true, \"padding\": [0, 3]}}, {\"class\": \"ReLU\", \"kargs\": {\"inplace\": true}}, {\"class\": \"BatchNorm2d\", \"kargs\": {\"num_features\": 80}}, {\"class\": \"Flatten\", \"kargs\": {}}, {\"class\": \"Linear\", \"kargs\": {\"in_features\": 16000, \"out_features\": 256}}, {\"class\": \"ReLU\", \"kargs\": {\"inplace\": true}}, {\"class\": \"BatchNorm1d\", \"kargs\": {\"num_features\": 256}}, {\"class\": \"Linear\", \"kargs\": {\"in_features\": 256, \"out_features\": 256}}], \"NUM_LOGS_PER_EPOCH\": 10, \"BEST_MODEL_PATH\": \"./best_model.pth\", \"n_way\": 16, \"datasets\": [{\"labels\": [\"1-10.\", \"1-11.\", \"1-15.\", \"1-16.\", \"1-17.\", \"1-18.\", \"1-19.\", \"10-4.\", \"10-7.\", \"11-1.\", \"11-14.\", \"11-17.\", \"11-20.\", \"11-7.\", \"13-20.\", \"13-8.\", \"14-10.\", \"14-11.\", \"14-14.\", \"14-7.\", \"15-1.\", \"15-20.\", \"16-1.\", \"16-16.\", \"17-10.\", \"17-11.\", \"17-2.\", \"19-1.\", \"19-16.\", \"19-19.\", \"19-20.\", \"19-3.\", \"2-10.\", \"2-11.\", \"2-17.\", \"2-18.\", \"2-20.\", \"2-3.\", \"2-4.\", \"2-5.\", \"2-6.\", \"2-7.\", \"2-8.\", \"3-13.\", \"3-18.\", \"3-3.\", \"4-1.\", \"4-10.\", \"4-11.\", \"4-19.\", \"5-5.\", \"6-15.\", \"7-10.\", \"7-14.\", \"8-18.\", \"8-20.\", \"8-3.\", \"8-8.\"], \"domains\": [1, 2, 3, 4, 5], \"num_examples_per_domain_per_label\": -1, \"pickle_path\": \"/mnt/wd500GB/CSC500/csc500-main/datasets/cores.stratified_ds.2022A.pkl\", \"source_or_target_dataset\": \"target\", \"x_transforms\": [\"unit_power\", \"lowpass_+/-10MHz\", \"take_200\"], \"episode_transforms\": [], \"domain_prefix\": \"C_\"}, {\"labels\": [\"3123D52\", \"3123D65\", \"3123D79\", \"3123D80\", \"3123D54\", \"3123D70\", \"3123D7B\", \"3123D89\", \"3123D58\", \"3123D76\", \"3123D7D\", \"3123EFE\", \"3123D64\", \"3123D78\", \"3123D7E\", \"3124E4A\"], \"domains\": [32, 38, 8, 44, 14, 50, 20, 26], \"num_examples_per_domain_per_label\": 2000, \"pickle_path\": \"/mnt/wd500GB/CSC500/csc500-main/datasets/oracle.Run1_framed_2000Examples_stratified_ds.2022A.pkl\", \"source_or_target_dataset\": \"source\", \"x_transforms\": [\"unit_power\", \"take_200\", \"resample_20Msps_to_25Msps\"], \"episode_transforms\": [], \"domain_prefix\": \"O_\"}], \"seed\": 1337, \"dataset_seed\": 1337, \"domains_source\": [\"O_32\", \"O_38\", \"O_8\", \"O_44\", \"O_14\", \"O_50\", \"O_20\", \"O_26\"], \"domains_target\": [\"C_1\", \"C_2\", \"C_3\", \"C_4\", \"C_5\"]}, \"results\": {\"source_test_label_accuracy\": 0.8887044270833333, \"source_test_label_loss\": 0.3661324679851532, \"target_test_label_accuracy\": 0.7287808641975309, \"target_test_label_loss\": 218.1097412109375, \"source_val_label_accuracy\": 0.8875651041666667, \"source_val_label_loss\": 0.3124215602874756, \"target_val_label_accuracy\": 0.7361586757990868, \"target_val_label_loss\": 212.4187774658203, \"total_epochs_trained\": 18, \"total_experiment_time_secs\": 5200.650792837143, \"confusion\": {\"O_14\": {\"15\": {\"15\": 240}, \"3\": {\"3\": 239, \"2\": 1}, \"6\": {\"6\": 204, \"13\": 33, \"2\": 3}, \"1\": {\"1\": 239, \"4\": 1}, \"8\": {\"8\": 240}, \"10\": {\"10\": 239, \"0\": 1}, \"9\": {\"9\": 240}, \"13\": {\"13\": 181, \"6\": 50, \"2\": 3, \"14\": 3, \"3\": 1, \"4\": 1, \"7\": 1}, \"12\": {\"12\": 240}, \"5\": {\"5\": 234, \"1\": 2, \"4\": 3, \"2\": 1}, \"0\": {\"0\": 236, \"11\": 1, \"3\": 1, \"10\": 2}, \"2\": {\"2\": 193, \"3\": 6, \"14\": 24, \"13\": 8, \"6\": 5, \"5\": 3, \"4\": 1}, \"11\": {\"11\": 236, \"9\": 4}, \"14\": {\"14\": 221, \"2\": 13, \"6\": 3, \"13\": 3}, \"7\": {\"7\": 240}, \"4\": {\"4\": 238, \"1\": 2}}, \"O_20\": {\"3\": {\"12\": 33, \"9\": 21, \"3\": 159, \"4\": 6, \"2\": 17, \"7\": 2, \"1\": 2}, \"15\": {\"15\": 214, \"0\": 11, \"1\": 14, \"13\": 1}, \"8\": {\"8\": 231, \"4\": 4, \"7\": 3, \"3\": 1, \"6\": 1}, \"4\": {\"4\": 234, \"8\": 4, \"3\": 2}, \"14\": {\"6\": 6, \"14\": 234}, \"0\": {\"12\": 1, \"0\": 223, \"15\": 12, \"8\": 2, \"1\": 1, \"5\": 1}, \"7\": {\"7\": 225, \"2\": 8, \"13\": 1, \"3\": 3, \"9\": 1, \"4\": 1, \"8\": 1}, \"6\": {\"6\": 239, \"14\": 1}, \"10\": {\"10\": 240}, \"5\": {\"5\": 236, \"12\": 2, \"1\": 1, \"0\": 1}, \"2\": {\"2\": 167, \"7\": 9, \"12\": 11, \"9\": 30, \"13\": 7, \"3\": 14, \"1\": 2}, \"12\": {\"12\": 164, \"3\": 32, \"1\": 35, \"2\": 2, \"9\": 6, \"15\": 1}, \"9\": {\"9\": 179, \"2\": 33, \"12\": 5, \"3\": 21, \"7\": 2}, \"1\": {\"1\": 181, \"12\": 47, \"15\": 8, \"3\": 3, \"0\": 1}, \"11\": {\"11\": 240}, \"13\": {\"13\": 231, \"3\": 3, \"2\": 4, \"15\": 1, \"1\": 1}}, \"O_38\": {\"5\": {\"8\": 27, \"5\": 197, \"13\": 3, \"7\": 9, \"6\": 1, \"0\": 1, \"9\": 1, \"15\": 1}, \"8\": {\"8\": 202, \"7\": 7, \"5\": 15, \"13\": 3, \"0\": 9, \"10\": 2, \"15\": 2}, \"11\": {\"11\": 234, \"10\": 4, \"3\": 2}, \"1\": {\"1\": 230, \"15\": 10}, \"10\": {\"10\": 217, \"8\": 4, \"13\": 16, \"0\": 1, \"7\": 1, \"14\": 1}, \"15\": {\"15\": 220, \"8\": 10, \"1\": 9, \"13\": 1}, \"3\": {\"3\": 236, \"0\": 4}, \"7\": {\"5\": 6, \"8\": 15, \"7\": 200, \"0\": 19}, \"4\": {\"4\": 240}, \"14\": {\"14\": 224, \"2\": 15, \"10\": 1}, \"9\": {\"9\": 235, \"6\": 2, \"3\": 1, \"7\": 2}, \"12\": {\"12\": 239, \"4\": 1}, \"6\": {\"6\": 239, \"5\": 1}, \"2\": {\"2\": 230, \"14\": 8, \"13\": 2}, \"0\": {\"8\": 12, \"0\": 200, \"13\": 7, \"7\": 5, \"3\": 8, \"10\": 8}, \"13\": {\"13\": 222, \"14\": 1, \"0\": 2, \"10\": 10, \"2\": 3, \"15\": 1, \"8\": 1}}, \"O_8\": {\"9\": {\"9\": 240}, \"10\": {\"10\": 217, \"13\": 15, \"14\": 3, \"4\": 5}, \"13\": {\"13\": 151, \"4\": 35, \"10\": 33, \"0\": 13, \"6\": 8}, \"0\": {\"0\": 224, \"13\": 12, \"4\": 1, \"7\": 3}, \"1\": {\"1\": 238, \"11\": 2}, \"15\": {\"15\": 227, \"12\": 13}, \"5\": {\"5\": 237, \"14\": 3}, \"3\": {\"3\": 238, \"2\": 1, \"12\": 1}, \"6\": {\"6\": 197, \"4\": 11, \"7\": 26, \"13\": 6}, \"11\": {\"11\": 238, \"1\": 2}, \"8\": {\"8\": 240}, \"4\": {\"4\": 206, \"13\": 23, \"6\": 9, \"10\": 1, \"0\": 1}, \"12\": {\"12\": 206, \"15\": 26, \"2\": 1, \"3\": 7}, \"14\": {\"14\": 226, \"10\": 8, \"1\": 3, \"13\": 3}, \"2\": {\"2\": 228, \"3\": 11, \"7\": 1}, \"7\": {\"7\": 222, \"6\": 17, \"0\": 1}}, \"O_50\": {\"7\": {\"7\": 211, \"13\": 8, \"5\": 6, \"6\": 10, \"4\": 5}, \"3\": {\"3\": 236, \"8\": 4}, \"8\": {\"8\": 227, \"10\": 12, \"3\": 1}, \"2\": {\"2\": 212, \"0\": 28}, \"14\": {\"14\": 240}, \"4\": {\"4\": 194, \"7\": 5, \"5\": 10, \"6\": 4, \"15\": 25, \"1\": 2}, \"6\": {\"6\": 216, \"15\": 6, \"4\": 3, \"5\": 1, \"7\": 5, \"13\": 7, \"1\": 2}, \"15\": {\"15\": 207, \"1\": 9, \"4\": 18, \"11\": 5, \"6\": 1}, \"10\": {\"10\": 223, \"13\": 7, \"8\": 5, \"0\": 5}, \"11\": {\"11\": 217, \"9\": 4, \"15\": 10, \"12\": 7, \"1\": 1, \"4\": 1}, \"13\": {\"7\": 5, \"13\": 217, \"5\": 3, \"10\": 4, \"1\": 2, \"6\": 8, \"0\": 1}, \"9\": {\"9\": 222, \"11\": 9, \"12\": 9}, \"0\": {\"0\": 209, \"10\": 10, \"2\": 19, \"13\": 2}, \"1\": {\"1\": 222, \"15\": 9, \"11\": 2, \"6\": 2, \"5\": 2, \"4\": 2, \"13\": 1}, \"12\": {\"12\": 235, \"9\": 4, \"11\": 1}, \"5\": {\"5\": 203, \"4\": 19, \"7\": 9, \"1\": 3, \"15\": 4, \"13\": 2}}, \"O_32\": {\"8\": {\"8\": 203, \"13\": 10, \"0\": 17, \"14\": 4, \"5\": 5, \"3\": 1}, \"14\": {\"11\": 10, \"14\": 201, \"0\": 13, \"8\": 10, \"3\": 1, \"7\": 3, \"5\": 2}, \"2\": {\"2\": 199, \"4\": 40, \"7\": 1}, \"0\": {\"0\": 200, \"8\": 26, \"7\": 3, \"14\": 11}, \"1\": {\"1\": 240}, \"10\": {\"10\": 240}, \"11\": {\"11\": 232, \"3\": 2, \"14\": 6}, \"5\": {\"5\": 192, \"14\": 7, \"3\": 3, \"8\": 3, \"7\": 29, \"13\": 5, \"0\": 1}, \"15\": {\"15\": 240}, \"3\": {\"3\": 231, \"13\": 6, \"5\": 1, \"14\": 1, \"11\": 1}, \"12\": {\"12\": 239, \"6\": 1}, \"7\": {\"7\": 203, \"11\": 2, \"4\": 19, \"5\": 11, \"2\": 1, \"14\": 3, \"0\": 1}, \"13\": {\"13\": 202, \"4\": 13, \"11\": 3, \"7\": 4, \"3\": 13, \"8\": 4, \"5\": 1}, \"6\": {\"6\": 240}, \"4\": {\"4\": 182, \"2\": 43, \"7\": 7, \"13\": 6, \"5\": 2}, \"9\": {\"9\": 240}}, \"O_26\": {\"4\": {\"4\": 210, \"7\": 8, \"0\": 6, \"8\": 12, \"10\": 2, \"1\": 2}, \"12\": {\"12\": 240}, \"10\": {\"14\": 10, \"0\": 76, \"10\": 124, \"8\": 21, \"9\": 1, \"1\": 1, \"6\": 3, \"4\": 1, \"15\": 3}, \"0\": {\"8\": 15, \"0\": 136, \"4\": 18, \"14\": 6, \"10\": 62, \"6\": 2, \"7\": 1}, \"13\": {\"13\": 223, \"3\": 1, \"9\": 10, \"5\": 2, \"15\": 1, \"2\": 3}, \"9\": {\"9\": 208, \"7\": 1, \"15\": 22, \"6\": 4, \"8\": 1, \"13\": 2, \"2\": 2}, \"3\": {\"3\": 175, \"2\": 46, \"7\": 18, \"4\": 1}, \"2\": {\"2\": 130, \"3\": 70, \"7\": 22, \"9\": 2, \"5\": 5, \"15\": 4, \"13\": 6, \"1\": 1}, \"5\": {\"5\": 235, \"2\": 2, \"13\": 2, \"9\": 1}, \"14\": {\"4\": 2, \"14\": 202, \"8\": 8, \"10\": 10, \"1\": 3, \"0\": 14, \"6\": 1}, \"8\": {\"7\": 19, \"14\": 4, \"8\": 155, \"4\": 14, \"10\": 26, \"0\": 17, \"6\": 1, \"2\": 2, \"5\": 1, \"15\": 1}, \"7\": {\"7\": 182, \"2\": 19, \"8\": 14, \"3\": 9, \"4\": 15, \"0\": 1}, \"6\": {\"6\": 205, \"10\": 14, \"15\": 17, \"9\": 4}, \"11\": {\"11\": 240}, \"15\": {\"8\": 9, \"15\": 195, \"9\": 13, \"10\": 5, \"6\": 5, \"7\": 2, \"13\": 6, \"0\": 3, \"2\": 2}, \"1\": {\"1\": 223, \"14\": 9, \"8\": 2, \"0\": 2, \"4\": 2, \"10\": 1, \"7\": 1}}, \"O_44\": {\"12\": {\"12\": 216, \"1\": 19, \"3\": 5}, \"7\": {\"7\": 176, \"2\": 18, \"9\": 41, \"13\": 1, \"1\": 2, \"6\": 2}, \"5\": {\"5\": 217, \"14\": 11, \"8\": 4, \"15\": 3, \"0\": 5}, \"15\": {\"15\": 202, \"5\": 6, \"4\": 5, \"14\": 12, \"0\": 10, \"8\": 5}, \"8\": {\"8\": 157, \"0\": 73, \"15\": 8, \"5\": 2}, \"2\": {\"2\": 192, \"10\": 13, \"7\": 27, \"1\": 6, \"9\": 1, \"3\": 1}, \"13\": {\"13\": 182, \"6\": 35, \"9\": 20, \"7\": 1, \"11\": 2}, \"4\": {\"4\": 210, \"14\": 27, \"13\": 1, \"15\": 2}, \"0\": {\"8\": 58, \"0\": 173, \"15\": 6, \"5\": 3}, \"6\": {\"6\": 153, \"9\": 33, \"13\": 43, \"7\": 10, \"11\": 1}, \"9\": {\"13\": 23, \"7\": 53, \"9\": 144, \"6\": 20}, \"11\": {\"11\": 237, \"13\": 3}, \"10\": {\"1\": 22, \"10\": 199, \"12\": 5, \"2\": 14}, \"14\": {\"4\": 38, \"14\": 189, \"15\": 8, \"5\": 5}, \"1\": {\"1\": 174, \"3\": 11, \"12\": 24, \"2\": 20, \"10\": 11}, \"3\": {\"3\": 230, \"1\": 8, \"12\": 2}}, \"C_3\": {\"43\": {\"43\": 122, \"22\": 1, \"24\": 3, \"10\": 1, \"56\": 1}, \"9\": {\"9\": 122, \"32\": 4, \"34\": 1, \"27\": 3, \"3\": 2, \"16\": 1, \"57\": 5, \"4\": 3, \"52\": 1, \"23\": 1, \"26\": 1, \"20\": 1, \"47\": 1, \"15\": 2, \"1\": 1, \"54\": 1}, \"6\": {\"18\": 15, \"17\": 1, \"6\": 17, \"48\": 3, \"42\": 1, \"52\": 2, \"46\": 5, \"30\": 3, \"26\": 1, \"15\": 5, \"24\": 1, \"50\": 1, \"10\": 1, \"3\": 2, \"20\": 5, \"36\": 5, \"23\": 5, \"16\": 5, \"1\": 3, \"2\": 1, \"41\": 1, \"38\": 2, \"45\": 1, \"54\": 1, \"12\": 1}, \"3\": {\"46\": 14, \"19\": 4, \"3\": 34, \"29\": 7, \"5\": 8, \"42\": 1, \"47\": 4, \"50\": 13, \"26\": 1, \"30\": 2, \"32\": 1, \"21\": 6, \"17\": 4, \"44\": 2, \"57\": 5, \"45\": 1, \"4\": 9, \"36\": 3, \"8\": 5, \"1\": 5, \"51\": 2, \"53\": 4, \"28\": 1, \"33\": 1, \"9\": 1, \"7\": 1, \"12\": 1, \"0\": 1, \"6\": 2, \"23\": 1}, \"16\": {\"18\": 4, \"20\": 5, \"16\": 83, \"15\": 10, \"11\": 9, \"30\": 2, \"54\": 3, \"23\": 8, \"52\": 9, \"36\": 1}, \"51\": {\"51\": 107, \"30\": 2, \"21\": 5, \"50\": 3, \"53\": 6, \"12\": 3, \"20\": 1, \"23\": 1}, \"31\": {\"31\": 27, \"44\": 1}, \"46\": {\"3\": 6, \"51\": 9, \"46\": 42, \"9\": 2, \"52\": 2, \"21\": 5, \"49\": 1, \"15\": 1, \"12\": 2, \"2\": 5, \"36\": 4, \"1\": 2, \"30\": 1, \"45\": 3, \"16\": 6, \"17\": 3, \"50\": 5, \"5\": 2, \"13\": 1, \"27\": 2, \"6\": 2, \"11\": 4, \"48\": 5, \"20\": 5, \"53\": 5, \"43\": 1, \"39\": 1, \"38\": 1, \"22\": 1, \"47\": 1, \"57\": 2, \"8\": 2}, \"19\": {\"19\": 82, \"37\": 1, \"3\": 4, \"29\": 13, \"5\": 3, \"4\": 10, \"1\": 1, \"50\": 1, \"46\": 3, \"45\": 2, \"0\": 1, \"9\": 1, \"57\": 1, \"25\": 1}, \"8\": {\"8\": 149, \"36\": 1, \"50\": 2}, \"18\": {\"18\": 80, \"20\": 2, \"52\": 2}, \"37\": {\"37\": 28}, \"24\": {\"24\": 97, \"43\": 4, \"10\": 2, \"22\": 1}, \"10\": {\"10\": 64}, \"44\": {\"44\": 48, \"40\": 9, \"22\": 7, \"29\": 4, \"31\": 1, \"56\": 1, \"55\": 8, \"5\": 2, \"43\": 1, \"35\": 2, \"49\": 2, \"3\": 1, \"25\": 2}, \"14\": {\"31\": 4, \"14\": 18, \"56\": 9, \"55\": 2, \"13\": 3, \"40\": 2, \"35\": 1, \"19\": 1}, \"38\": {\"20\": 1, \"38\": 25, \"12\": 1, \"23\": 1}, \"53\": {\"53\": 96, \"38\": 1, \"21\": 10, \"3\": 1, \"12\": 3, \"46\": 3, \"51\": 10, \"8\": 1, \"20\": 3, \"54\": 2, \"30\": 2, \"19\": 1, \"23\": 2, \"50\": 3, \"36\": 1, \"43\": 1}, \"20\": {\"20\": 91, \"52\": 17, \"15\": 9, \"18\": 12, \"54\": 1, \"23\": 2}, \"32\": {\"9\": 5, \"32\": 22, \"27\": 1}, \"36\": {\"36\": 63, \"20\": 2, \"48\": 2, \"18\": 11, \"9\": 1, \"23\": 2, \"52\": 2, \"54\": 9, \"12\": 1, \"16\": 2, \"15\": 2, \"41\": 2, \"47\": 1}, \"33\": {\"33\": 19, \"38\": 1, \"26\": 1, \"21\": 1, \"9\": 2, \"46\": 1, \"45\": 1, \"12\": 2}, \"56\": {\"56\": 133, \"55\": 2, \"13\": 1}, \"23\": {\"20\": 20, \"23\": 57, \"15\": 11, \"30\": 6, \"18\": 11, \"16\": 2, \"52\": 16, \"54\": 2, \"48\": 2, \"36\": 1, \"12\": 2}, \"54\": {\"54\": 49, \"20\": 14, \"36\": 1, \"18\": 15, \"12\": 4, \"52\": 7, \"30\": 2, \"23\": 3, \"15\": 2, \"41\": 1, \"16\": 2}, \"21\": {\"21\": 88, \"38\": 1, \"6\": 1, \"20\": 2, \"12\": 2, \"3\": 1, \"53\": 12, \"51\": 7, \"36\": 2, \"5\": 1, \"46\": 3, \"50\": 1, \"23\": 1, \"9\": 1, \"48\": 2, \"16\": 1}, \"28\": {\"28\": 21, \"49\": 1, \"24\": 1, \"5\": 2, \"29\": 2, \"22\": 1}, \"26\": {\"26\": 19, \"21\": 1, \"6\": 1, \"46\": 2, \"12\": 1}, \"48\": {\"36\": 4, \"48\": 74, \"52\": 5, \"12\": 5, \"30\": 12, \"18\": 3, \"54\": 1, \"50\": 1, \"23\": 5, \"20\": 3, \"5\": 1, \"8\": 1, \"15\": 1}, \"52\": {\"52\": 110, \"18\": 7, \"15\": 1}, \"39\": {\"39\": 14, \"41\": 2}, \"22\": {\"22\": 112, \"5\": 4, \"29\": 2, \"43\": 6, \"55\": 6, \"10\": 1, \"24\": 4, \"3\": 2, \"57\": 3}, \"13\": {\"13\": 127, \"40\": 1}, \"2\": {\"2\": 27, \"41\": 1, \"52\": 1, \"18\": 2, \"20\": 1}, \"34\": {\"34\": 25, \"54\": 1, \"18\": 1, \"1\": 2, \"2\": 2, \"6\": 1}, \"27\": {\"34\": 2, \"27\": 104, \"8\": 2, \"41\": 1, \"48\": 3, \"36\": 2, \"9\": 4, \"17\": 7, \"50\": 1, \"20\": 1, \"32\": 2, \"26\": 1, \"1\": 1, \"52\": 1}, \"45\": {\"29\": 4, \"5\": 3, \"45\": 12, \"19\": 4, \"28\": 1, \"54\": 1, \"3\": 2, \"1\": 6, \"34\": 2, \"57\": 1, \"12\": 2, \"46\": 2, \"25\": 1, \"17\": 1, \"50\": 4, \"33\": 1, \"26\": 1, \"27\": 1, \"4\": 7, \"36\": 1, \"9\": 1, \"30\": 1, \"47\": 1}, \"35\": {\"35\": 23, \"49\": 3, \"28\": 1, \"55\": 1}, \"29\": {\"29\": 86, \"5\": 7, \"28\": 5, \"6\": 2, \"50\": 1, \"57\": 4, \"19\": 13, \"4\": 4, \"34\": 1, \"3\": 2, \"1\": 2, \"46\": 1}, \"25\": {\"25\": 109, \"28\": 3, \"40\": 2, \"55\": 3, \"57\": 4, \"45\": 2, \"44\": 3, \"29\": 1, \"19\": 5, \"4\": 5, \"3\": 1, \"33\": 1, \"35\": 2, \"5\": 2, \"50\": 1}, \"0\": {\"0\": 102, \"34\": 3, \"18\": 2, \"47\": 2, \"6\": 1, \"15\": 1, \"52\": 5, \"23\": 2, \"48\": 1, \"16\": 1, \"46\": 2, \"11\": 1, \"36\": 1}, \"41\": {\"41\": 23, \"18\": 2, \"52\": 1, \"20\": 2}, \"11\": {\"11\": 110, \"20\": 4, \"52\": 3, \"16\": 13, \"15\": 10, \"23\": 2}, \"5\": {\"29\": 13, \"45\": 2, \"5\": 49, \"0\": 4, \"42\": 2, \"1\": 8, \"9\": 3, \"22\": 1, \"57\": 4, \"6\": 4, \"48\": 1, \"19\": 2, \"47\": 1, \"21\": 1, \"46\": 1, \"15\": 1, \"3\": 5, \"4\": 4, \"34\": 1, \"36\": 1}, \"1\": {\"1\": 67, \"2\": 1, \"34\": 4, \"3\": 3, \"36\": 3, \"47\": 4, \"46\": 1, \"30\": 1, \"0\": 7, \"54\": 3, \"12\": 2, \"6\": 1, \"48\": 1, \"45\": 1, \"23\": 1}, \"57\": {\"57\": 84, \"45\": 2, \"29\": 7, \"3\": 4, \"9\": 10, \"4\": 4, \"19\": 2, \"5\": 3}, \"17\": {\"17\": 98, \"44\": 1, \"48\": 1, \"30\": 2, \"50\": 1, \"38\": 2, \"56\": 1, \"12\": 1, \"36\": 1}, \"7\": {\"7\": 36}, \"12\": {\"12\": 47, \"39\": 1, \"8\": 4, \"26\": 1, \"38\": 1, \"15\": 5, \"41\": 1, \"20\": 6, \"36\": 2, \"23\": 2, \"52\": 6, \"30\": 4, \"18\": 2, \"54\": 2, \"27\": 2, \"17\": 2, \"53\": 1, \"46\": 1, \"51\": 1, \"48\": 1}, \"47\": {\"47\": 39, \"52\": 7, \"48\": 1, \"20\": 1, \"41\": 4, \"35\": 1, \"36\": 5, \"15\": 5, \"10\": 1, \"16\": 9, \"18\": 7, \"50\": 2, \"0\": 3, \"17\": 2, \"24\": 1, \"54\": 1, \"1\": 2, \"30\": 1}, \"40\": {\"40\": 119, \"29\": 3, \"55\": 5, \"3\": 4, \"56\": 1, \"19\": 1, \"13\": 2, \"22\": 1}, \"15\": {\"15\": 133, \"47\": 1, \"20\": 4, \"1\": 1, \"52\": 2, \"24\": 1}, \"42\": {\"42\": 21, \"22\": 1, \"46\": 2, \"3\": 1, \"7\": 1, \"5\": 2}, \"55\": {\"55\": 129, \"22\": 4, \"49\": 4, \"43\": 3, \"24\": 4, \"29\": 1, \"40\": 1, \"25\": 1, \"5\": 2, \"3\": 1}, \"49\": {\"22\": 3, \"49\": 16, \"55\": 1}, \"30\": {\"52\": 14, \"30\": 68, \"23\": 4, \"38\": 1, \"12\": 2, \"48\": 8, \"18\": 8, \"3\": 2, \"15\": 6, \"20\": 5, \"54\": 1, \"45\": 1}, \"50\": {\"32\": 1, \"50\": 47, \"3\": 2, \"30\": 5, \"26\": 1, \"19\": 1, \"6\": 4, \"36\": 6, \"12\": 7, \"9\": 2, \"53\": 13, \"45\": 1, \"18\": 1, \"54\": 2, \"51\": 1, \"47\": 3, \"16\": 1, \"27\": 3, \"17\": 4, \"21\": 3, \"4\": 2, \"46\": 4, \"23\": 3, \"20\": 3, \"57\": 2, \"48\": 2, \"52\": 2, \"8\": 5, \"5\": 1, \"25\": 1, \"2\": 1}, \"4\": {\"29\": 13, \"4\": 70, \"3\": 6, \"27\": 3, \"45\": 5, \"36\": 1, \"5\": 3, \"19\": 15, \"47\": 2, \"9\": 7, \"1\": 2, \"17\": 1, \"57\": 4, \"50\": 4}}, \"C_4\": {\"35\": {\"38\": 1, \"35\": 36, \"44\": 1, \"14\": 2}, \"25\": {\"25\": 125, \"19\": 1, \"45\": 1, \"56\": 2, \"40\": 1, \"37\": 1, \"50\": 2, \"9\": 1}, \"24\": {\"24\": 55, \"43\": 1}, \"48\": {\"30\": 3, \"48\": 112, \"12\": 2, \"18\": 4, \"15\": 2, \"47\": 1, \"5\": 1, \"46\": 2, \"27\": 2, \"8\": 3, \"23\": 3, \"3\": 1, \"36\": 1, \"20\": 1}, \"51\": {\"51\": 107, \"8\": 7, \"18\": 1, \"53\": 14, \"20\": 8, \"12\": 1, \"3\": 1, \"16\": 1, \"54\": 1, \"30\": 2, \"36\": 1}, \"13\": {\"13\": 119, \"56\": 1}, \"14\": {\"14\": 3, \"0\": 3, \"55\": 2, \"33\": 1, \"38\": 2, \"49\": 1, \"35\": 4}, \"32\": {\"32\": 21, \"46\": 2, \"52\": 1}, \"30\": {\"30\": 42, \"52\": 1, \"48\": 1}, \"34\": {\"34\": 23, \"6\": 1}, \"9\": {\"9\": 100, \"8\": 1, \"54\": 2, \"4\": 12, \"53\": 5, \"50\": 1, \"45\": 1, \"29\": 4, \"3\": 1, \"19\": 8, \"25\": 1}, \"1\": {\"1\": 37, \"47\": 1, \"52\": 1, \"36\": 1}, \"0\": {\"22\": 2, \"0\": 62, \"16\": 1, \"43\": 1, \"10\": 3, \"11\": 5, \"46\": 3, \"24\": 2, \"32\": 1}, \"38\": {\"38\": 35, \"44\": 1, \"56\": 3, \"35\": 1}, \"22\": {\"48\": 1, \"1\": 4, \"22\": 61, \"15\": 17, \"23\": 3, \"16\": 2, \"52\": 10, \"20\": 2, \"18\": 7, \"54\": 3, \"46\": 2, \"11\": 5, \"43\": 1, \"13\": 1, \"47\": 2, \"0\": 2, \"10\": 1, \"36\": 4}, \"40\": {\"40\": 99, \"13\": 4, \"33\": 3, \"35\": 2, \"38\": 1, \"56\": 4, \"55\": 2, \"44\": 4, \"43\": 1}, \"6\": {\"26\": 2, \"20\": 7, \"18\": 10, \"50\": 2, \"32\": 1, \"6\": 31, \"7\": 1, \"41\": 1, \"54\": 6, \"4\": 2, \"23\": 12, \"49\": 1, \"22\": 1, \"52\": 2, \"3\": 7, \"5\": 4, \"30\": 1, \"48\": 1, \"36\": 5, \"55\": 1, \"53\": 1, \"46\": 6, \"44\": 1, \"21\": 1, \"16\": 1, \"25\": 1, \"47\": 1, \"43\": 1, \"57\": 1}, \"16\": {\"11\": 7, \"16\": 59, \"52\": 4, \"23\": 10, \"2\": 1, \"47\": 1, \"54\": 5, \"22\": 2, \"15\": 3, \"18\": 4}, \"11\": {\"11\": 82, \"54\": 2, \"23\": 4, \"22\": 6, \"15\": 4, \"47\": 1, \"52\": 2, \"16\": 2, \"18\": 1}, \"20\": {\"54\": 6, \"20\": 74, \"18\": 13, \"36\": 4, \"39\": 2, \"15\": 9, \"52\": 5, \"23\": 8, \"47\": 1}, \"17\": {\"17\": 74, \"27\": 2, \"36\": 1, \"30\": 1, \"4\": 1, \"23\": 1}, \"26\": {\"26\": 15, \"49\": 1, \"34\": 2, \"1\": 2, \"44\": 2, \"7\": 2}, \"54\": {\"54\": 68, \"18\": 10, \"52\": 7, \"23\": 12, \"15\": 2, \"47\": 2, \"39\": 2, \"20\": 1, \"36\": 4}, \"55\": {\"55\": 117, \"25\": 5, \"26\": 2, \"49\": 1, \"44\": 2, \"7\": 1, \"29\": 10, \"19\": 3, \"56\": 1, \"57\": 1, \"0\": 2, \"31\": 1, \"46\": 4, \"40\": 1, \"22\": 1, \"9\": 2}, \"50\": {\"50\": 41, \"6\": 9, \"19\": 2, \"1\": 2, \"28\": 2, \"34\": 1, \"20\": 5, \"53\": 5, \"21\": 5, \"22\": 2, \"51\": 5, \"57\": 3, \"3\": 16, \"4\": 6, \"27\": 2, \"36\": 1, \"29\": 2, \"44\": 1, \"17\": 1, \"40\": 1, \"9\": 5, \"41\": 1, \"39\": 1, \"55\": 2, \"54\": 1, \"46\": 1, \"18\": 1, \"45\": 2, \"5\": 2, \"25\": 1, \"48\": 1, \"8\": 2}, \"19\": {\"19\": 108, \"3\": 1, \"28\": 2, \"29\": 8, \"44\": 7, \"45\": 1, \"57\": 4, \"46\": 2, \"6\": 1, \"0\": 1, \"55\": 2, \"20\": 1, \"7\": 2, \"4\": 1, \"25\": 1}, \"44\": {\"55\": 11, \"50\": 4, \"44\": 58, \"19\": 11, \"33\": 3, \"2\": 1, \"57\": 2, \"4\": 1, \"29\": 13, \"43\": 2, \"13\": 2, \"56\": 5, \"25\": 2, \"40\": 2, \"26\": 3, \"49\": 1, \"9\": 1}, \"47\": {\"47\": 69, \"23\": 18, \"54\": 4, \"15\": 6, \"52\": 8, \"18\": 12, \"20\": 2, \"16\": 1}, \"33\": {\"33\": 30, \"35\": 3, \"40\": 2, \"57\": 1}, \"5\": {\"18\": 4, \"54\": 4, \"5\": 45, \"41\": 2, \"39\": 1, \"1\": 2, \"23\": 10, \"48\": 7, \"52\": 1, \"3\": 4, \"36\": 6, \"55\": 3, \"50\": 1, \"46\": 4, \"47\": 2, \"6\": 6, \"16\": 2, \"29\": 1, \"57\": 1, \"4\": 1, \"20\": 1}, \"18\": {\"18\": 85, \"23\": 9, \"47\": 2, \"54\": 1, \"55\": 2, \"24\": 1, \"20\": 2, \"52\": 5, \"36\": 1}, \"21\": {\"21\": 118, \"12\": 1, \"3\": 3, \"50\": 1, \"27\": 1}, \"41\": {\"41\": 28, \"46\": 2, \"5\": 1, \"6\": 2, \"53\": 2, \"3\": 1}, \"23\": {\"23\": 115, \"18\": 7, \"52\": 5, \"36\": 1}, \"39\": {\"39\": 13, \"54\": 2, \"20\": 1, \"36\": 1, \"52\": 1, \"23\": 2}, \"37\": {\"37\": 24}, \"8\": {\"8\": 135, \"53\": 1, \"39\": 1, \"12\": 3, \"47\": 1, \"23\": 1, \"36\": 1, \"20\": 1}, \"49\": {\"49\": 18, \"55\": 1, \"29\": 1}, \"53\": {\"53\": 104, \"39\": 3, \"23\": 3, \"36\": 2, \"47\": 1, \"20\": 10, \"51\": 12, \"8\": 3, \"54\": 1, \"46\": 1}, \"31\": {\"31\": 26, \"5\": 2}, \"28\": {\"49\": 2, \"28\": 20, \"4\": 4, \"57\": 1, \"17\": 1, \"42\": 2, \"41\": 1, \"3\": 1}, \"3\": {\"3\": 68, \"17\": 1, \"39\": 1, \"8\": 7, \"46\": 5, \"51\": 1, \"54\": 2, \"6\": 10, \"20\": 6, \"36\": 4, \"48\": 6, \"50\": 5, \"47\": 2, \"52\": 1, \"43\": 1, \"42\": 1, \"26\": 1, \"27\": 1, \"23\": 1}, \"27\": {\"17\": 10, \"27\": 103, \"34\": 1, \"50\": 2, \"20\": 4, \"3\": 2, \"36\": 3, \"18\": 1, \"48\": 8, \"23\": 1, \"12\": 3}, \"46\": {\"32\": 3, \"18\": 10, \"46\": 35, \"23\": 16, \"20\": 9, \"7\": 1, \"24\": 1, \"36\": 7, \"55\": 5, \"43\": 4, \"15\": 9, \"0\": 2, \"48\": 2, \"3\": 2, \"52\": 8, \"11\": 1, \"47\": 3, \"49\": 1, \"38\": 1, \"39\": 2, \"54\": 2, \"5\": 3, \"6\": 1}, \"12\": {\"12\": 73, \"30\": 7, \"8\": 7, \"20\": 1, \"27\": 3, \"9\": 1}, \"7\": {\"7\": 21, \"28\": 1, \"4\": 1, \"13\": 1}, \"4\": {\"42\": 4, \"4\": 63, \"48\": 4, \"27\": 8, \"9\": 15, \"53\": 2, \"7\": 1, \"50\": 7, \"29\": 4, \"17\": 3, \"19\": 6, \"3\": 3, \"5\": 2, \"55\": 1, \"57\": 2, \"36\": 1, \"34\": 1, \"28\": 1, \"30\": 1, \"43\": 1, \"46\": 1, \"25\": 1}, \"42\": {\"42\": 29, \"48\": 1, \"17\": 1, \"3\": 1}, \"43\": {\"43\": 122, \"24\": 1, \"2\": 1, \"10\": 4, \"19\": 1, \"13\": 1}, \"29\": {\"29\": 72, \"19\": 15, \"14\": 1, \"7\": 1, \"57\": 7, \"9\": 5, \"0\": 2, \"45\": 1, \"6\": 1, \"46\": 1, \"44\": 4, \"4\": 3, \"55\": 5, \"26\": 1, \"1\": 1}, \"57\": {\"57\": 84, \"29\": 7, \"4\": 5, \"50\": 1, \"5\": 1, \"46\": 1, \"26\": 1}, \"52\": {\"52\": 102, \"23\": 2}, \"45\": {\"48\": 2, \"25\": 2, \"45\": 57, \"17\": 2, \"21\": 2, \"28\": 4, \"50\": 2, \"9\": 4, \"29\": 2, \"6\": 2, \"3\": 3, \"42\": 1, \"19\": 5, \"55\": 1, \"4\": 1, \"34\": 2, \"57\": 1, \"1\": 1, \"12\": 1, \"5\": 1}, \"36\": {\"36\": 53, \"23\": 12, \"52\": 3, \"18\": 15, \"20\": 5, \"54\": 3, \"47\": 1}, \"10\": {\"10\": 124, \"43\": 2}, \"15\": {\"15\": 130, \"54\": 2, \"16\": 1, \"47\": 1}, \"56\": {\"56\": 111, \"2\": 3, \"38\": 3, \"14\": 1, \"43\": 1, \"50\": 1, \"55\": 2, \"13\": 2}, \"2\": {\"2\": 34, \"43\": 1, \"13\": 1}}, \"C_5\": {\"47\": {\"39\": 4, \"47\": 59, \"23\": 12, \"46\": 1, \"20\": 5, \"8\": 2, \"7\": 1, \"15\": 2, \"53\": 1, \"18\": 3, \"52\": 7, \"54\": 3}, \"53\": {\"53\": 117, \"20\": 6, \"8\": 8, \"46\": 2, \"7\": 1, \"23\": 1, \"51\": 10, \"47\": 2, \"18\": 2, \"52\": 1}, \"29\": {\"29\": 101, \"33\": 2, \"13\": 2, \"44\": 9, \"36\": 1, \"35\": 1, \"5\": 4, \"56\": 2, \"55\": 1, \"25\": 1, \"43\": 2}, \"52\": {\"39\": 2, \"52\": 121, \"54\": 3, \"23\": 4}, \"55\": {\"52\": 8, \"55\": 55, \"54\": 10, \"3\": 1, \"49\": 1, \"15\": 2, \"2\": 2, \"18\": 2, \"9\": 8, \"47\": 6, \"45\": 8, \"14\": 2, \"27\": 5, \"46\": 7, \"19\": 4, \"6\": 2, \"25\": 1, \"16\": 4, \"50\": 4, \"8\": 1, \"1\": 4, \"23\": 4, \"20\": 2, \"48\": 1}, \"17\": {\"17\": 94, \"1\": 2, \"38\": 2, \"12\": 1, \"6\": 2, \"30\": 9, \"48\": 4, \"51\": 1, \"23\": 1}, \"42\": {\"42\": 38, \"48\": 1, \"1\": 1}, \"33\": {\"33\": 30, \"4\": 1, \"44\": 1}, \"11\": {\"11\": 106, \"16\": 14, \"46\": 1, \"15\": 19, \"23\": 4, \"52\": 3, \"20\": 1}, \"19\": {\"55\": 2, \"19\": 85, \"9\": 7, \"27\": 5, \"14\": 2, \"50\": 6, \"45\": 2, \"4\": 2, \"54\": 1, \"25\": 2, \"28\": 1, \"34\": 2, \"51\": 1}, \"1\": {\"39\": 1, \"1\": 85, \"52\": 9, \"48\": 11, \"46\": 2, \"17\": 1, \"15\": 3, \"47\": 3, \"23\": 3, \"18\": 5, \"20\": 7, \"6\": 3, \"8\": 6, \"26\": 1, \"7\": 1, \"16\": 1, \"53\": 2}, \"44\": {\"44\": 105, \"29\": 13, \"22\": 2, \"36\": 2, \"3\": 1, \"43\": 1, \"40\": 1, \"5\": 2, \"13\": 2, \"0\": 2, \"50\": 2, \"4\": 2, \"56\": 5, \"35\": 1, \"25\": 1}, \"49\": {\"49\": 31, \"2\": 1, \"15\": 2, \"20\": 1, \"18\": 1}, \"4\": {\"19\": 6, \"28\": 2, \"4\": 46, \"41\": 1, \"34\": 1, \"25\": 4, \"9\": 8, \"43\": 1, \"55\": 5, \"14\": 2, \"5\": 3, \"50\": 5, \"0\": 1, \"29\": 2, \"36\": 2, \"45\": 1, \"37\": 1, \"56\": 1, \"6\": 1, \"46\": 3, \"44\": 2, \"12\": 1, \"57\": 1}, \"6\": {\"1\": 4, \"39\": 2, \"52\": 12, \"8\": 8, \"26\": 2, \"6\": 35, \"50\": 3, \"38\": 3, \"30\": 13, \"20\": 3, \"14\": 3, \"15\": 4, \"45\": 3, \"23\": 3, \"48\": 7, \"51\": 1, \"42\": 1, \"17\": 1, \"54\": 1, \"16\": 1, \"19\": 1, \"18\": 1, \"55\": 2, \"47\": 1, \"21\": 1}, \"39\": {\"39\": 12, \"52\": 2, \"7\": 2, \"20\": 1, \"23\": 1, \"18\": 2}, \"50\": {\"50\": 64, \"25\": 8, \"24\": 2, \"34\": 1, \"45\": 12, \"41\": 1, \"57\": 3, \"55\": 9, \"40\": 1, \"12\": 4, \"19\": 7, \"9\": 11, \"27\": 3, \"29\": 2, \"21\": 6, \"4\": 4, \"6\": 2, \"14\": 2, \"30\": 1, \"56\": 1, \"3\": 2, \"0\": 1, \"43\": 1}, \"56\": {\"56\": 122, \"36\": 1, \"10\": 1, \"0\": 4, \"44\": 1, \"14\": 1}, \"25\": {\"25\": 126, \"4\": 5, \"5\": 3, \"29\": 3, \"45\": 1, \"50\": 2, \"40\": 2, \"19\": 1, \"37\": 1}, \"28\": {\"28\": 25, \"14\": 2, \"34\": 1, \"4\": 1, \"50\": 1, \"29\": 1, \"19\": 1}, \"35\": {\"35\": 36}, \"24\": {\"24\": 71, \"56\": 1, \"35\": 1, \"3\": 1, \"0\": 3, \"36\": 1, \"47\": 1, \"10\": 1}, \"21\": {\"21\": 129, \"55\": 1, \"12\": 1, \"51\": 1}, \"45\": {\"45\": 47, \"50\": 8, \"48\": 1, \"41\": 2, \"55\": 5, \"14\": 1, \"6\": 3, \"28\": 1, \"1\": 1, \"25\": 3, \"27\": 6, \"32\": 4, \"17\": 5, \"4\": 3, \"12\": 8, \"36\": 1, \"29\": 1, \"19\": 4, \"9\": 8, \"54\": 1, \"8\": 1, \"3\": 2, \"26\": 1, \"33\": 1, \"2\": 1, \"57\": 3, \"30\": 1, \"21\": 1}, \"16\": {\"16\": 89, \"23\": 12, \"39\": 1, \"54\": 3, \"11\": 17, \"52\": 7, \"18\": 1, \"56\": 1, \"15\": 3, \"20\": 6, \"46\": 2, \"51\": 1, \"25\": 1}, \"37\": {\"37\": 23, \"29\": 1}, \"57\": {\"57\": 117, \"26\": 1, \"42\": 3, \"27\": 1, \"6\": 3, \"48\": 1, \"30\": 1, \"17\": 2, \"45\": 1, \"55\": 2}, \"34\": {\"34\": 28, \"41\": 2, \"14\": 1, \"2\": 1, \"49\": 2, \"46\": 1, \"36\": 1}, \"38\": {\"38\": 31, \"26\": 1}, \"48\": {\"48\": 90, \"26\": 1, \"20\": 3, \"46\": 1, \"30\": 11, \"15\": 3, \"1\": 8, \"8\": 1, \"52\": 1, \"6\": 2, \"32\": 2, \"51\": 1, \"57\": 1, \"23\": 2, \"17\": 3}, \"26\": {\"38\": 1, \"26\": 20, \"42\": 1, \"8\": 1, \"17\": 1}, \"9\": {\"45\": 4, \"9\": 80, \"42\": 1, \"27\": 29, \"32\": 1, \"53\": 2, \"13\": 1, \"4\": 2, \"21\": 1, \"6\": 1, \"23\": 1, \"57\": 7, \"19\": 9, \"51\": 2, \"55\": 2, \"48\": 1, \"50\": 1, \"3\": 2, \"35\": 1, \"29\": 1, \"52\": 1, \"56\": 1, \"17\": 1}, \"18\": {\"23\": 15, \"18\": 45, \"52\": 2, \"6\": 1, \"20\": 1}, \"3\": {\"3\": 37, \"10\": 2, \"46\": 4, \"24\": 2, \"17\": 1, \"57\": 4, \"52\": 3, \"8\": 1, \"14\": 3, \"48\": 3, \"31\": 2, \"0\": 1, \"43\": 3, \"42\": 3, \"1\": 1, \"18\": 1, \"36\": 3, \"6\": 1, \"53\": 1, \"21\": 2, \"32\": 1, \"9\": 5, \"15\": 2, \"16\": 1, \"39\": 1, \"54\": 1, \"19\": 1, \"44\": 1, \"56\": 1, \"29\": 1, \"47\": 1, \"55\": 3, \"23\": 1, \"11\": 2}, \"23\": {\"23\": 118, \"52\": 3, \"18\": 3}, \"15\": {\"15\": 100, \"16\": 5, \"11\": 10, \"23\": 13, \"52\": 14, \"20\": 2, \"43\": 1, \"18\": 4, \"51\": 2, \"36\": 1, \"54\": 1, \"46\": 1}, \"10\": {\"10\": 68}, \"46\": {\"46\": 53, \"23\": 18, \"11\": 7, \"39\": 2, \"36\": 1, \"0\": 1, \"20\": 8, \"16\": 8, \"52\": 10, \"47\": 6, \"15\": 27, \"18\": 4, \"56\": 2, \"48\": 1}, \"22\": {\"22\": 23, \"13\": 1, \"35\": 2, \"4\": 1, \"43\": 1}, \"54\": {\"23\": 11, \"54\": 65, \"15\": 4, \"20\": 3, \"47\": 4, \"46\": 4, \"52\": 10, \"16\": 2, \"43\": 1, \"8\": 3, \"56\": 1, \"53\": 1, \"18\": 1, \"51\": 2}, \"27\": {\"27\": 113, \"41\": 4, \"9\": 22, \"52\": 2, \"42\": 2, \"19\": 4, \"57\": 6, \"32\": 1, \"18\": 1, \"23\": 3, \"30\": 1, \"17\": 1}, \"41\": {\"41\": 22, \"42\": 3, \"27\": 2, \"32\": 1}, \"31\": {\"31\": 33, \"0\": 1, \"56\": 1, \"3\": 1}, \"0\": {\"0\": 106, \"24\": 7, \"56\": 2, \"47\": 1, \"11\": 1, \"43\": 1, \"46\": 1, \"36\": 1, \"21\": 3, \"55\": 1}, \"7\": {\"41\": 1, \"7\": 19, \"15\": 2, \"20\": 3, \"42\": 2, \"18\": 1, \"39\": 1, \"51\": 3}, \"2\": {\"2\": 26, \"49\": 1, \"11\": 1}, \"14\": {\"24\": 2, \"54\": 3, \"15\": 1, \"11\": 3, \"28\": 4, \"2\": 3, \"14\": 8, \"46\": 4, \"55\": 1, \"16\": 2, \"3\": 1, \"44\": 1, \"4\": 2, \"47\": 1, \"33\": 1, \"45\": 1, \"50\": 2, \"19\": 1, \"29\": 1, \"5\": 2}, \"40\": {\"40\": 93, \"37\": 1, \"35\": 3, \"44\": 2, \"25\": 1, \"10\": 1, \"14\": 1, \"29\": 6, \"5\": 5, \"13\": 6, \"56\": 3, \"22\": 1, \"50\": 1}, \"5\": {\"5\": 76, \"13\": 1, \"40\": 11, \"44\": 10, \"36\": 1, \"33\": 4, \"29\": 12, \"43\": 2, \"10\": 1, \"28\": 1, \"3\": 2, \"50\": 1, \"35\": 1, \"4\": 2, \"56\": 3}, \"12\": {\"12\": 62, \"9\": 3, \"8\": 3, \"39\": 1, \"48\": 6, \"7\": 1, \"53\": 2, \"32\": 2, \"45\": 4, \"6\": 2, \"51\": 1, \"21\": 1, \"27\": 2, \"41\": 1, \"42\": 2, \"19\": 1, \"1\": 1, \"4\": 1}, \"43\": {\"43\": 137, \"13\": 2, \"0\": 1, \"10\": 1, \"40\": 1}, \"13\": {\"13\": 127, \"43\": 6, \"10\": 3, \"0\": 1, \"44\": 2, \"40\": 1, \"22\": 1, \"24\": 1, \"35\": 1, \"56\": 2, \"29\": 3}, \"36\": {\"13\": 2, \"36\": 67, \"49\": 1, \"2\": 1, \"24\": 3, \"3\": 4, \"54\": 4, \"46\": 3, \"45\": 1, \"55\": 1, \"0\": 1, \"43\": 2, \"10\": 1, \"16\": 1}, \"8\": {\"8\": 134, \"7\": 4, \"1\": 1, \"53\": 6, \"43\": 1, \"51\": 3, \"28\": 1}, \"32\": {\"32\": 20, \"30\": 4, \"50\": 1, \"48\": 1, \"20\": 2, \"17\": 2, \"43\": 1, \"41\": 1}, \"30\": {\"30\": 95, \"20\": 1, \"8\": 1, \"32\": 2, \"48\": 9, \"42\": 2, \"17\": 9, \"1\": 2, \"38\": 1, \"6\": 5, \"23\": 1}, \"51\": {\"51\": 103, \"47\": 2, \"20\": 9, \"8\": 5, \"53\": 7, \"18\": 2, \"0\": 1, \"23\": 2, \"16\": 1, \"39\": 1, \"24\": 1, \"15\": 1, \"52\": 3}, \"20\": {\"20\": 105, \"23\": 12, \"15\": 4, \"18\": 4, \"8\": 2, \"52\": 8, \"51\": 1, \"54\": 2}}, \"C_1\": {\"46\": {\"1\": 8, \"46\": 87, \"7\": 1, \"56\": 1, \"33\": 3, \"34\": 1, \"55\": 5, \"19\": 9, \"37\": 1, \"25\": 5, \"4\": 3, \"45\": 3, \"8\": 2, \"48\": 1, \"13\": 4, \"0\": 1, \"30\": 1, \"54\": 1, \"9\": 1, \"16\": 1, \"51\": 1}, \"16\": {\"16\": 91, \"2\": 5, \"7\": 2, \"5\": 14, \"23\": 6, \"21\": 1, \"18\": 2, \"36\": 5, \"15\": 8}, \"26\": {\"26\": 24}, \"10\": {\"10\": 85, \"52\": 3, \"11\": 6, \"54\": 2}, \"9\": {\"9\": 128, \"6\": 6, \"14\": 1, \"17\": 1, \"30\": 9, \"53\": 1, \"48\": 6, \"5\": 1, \"8\": 3}, \"28\": {\"28\": 27, \"24\": 1}, \"51\": {\"51\": 136, \"7\": 1, \"26\": 1, \"5\": 3, \"12\": 3, \"53\": 5, \"15\": 2, \"14\": 1, \"16\": 1, \"9\": 1, \"20\": 1, \"6\": 1}, \"1\": {\"1\": 74, \"42\": 1, \"34\": 1, \"19\": 4, \"46\": 2, \"45\": 7, \"4\": 2, \"30\": 1, \"56\": 4, \"8\": 1, \"0\": 1, \"57\": 1, \"47\": 1}, \"55\": {\"55\": 128, \"49\": 3, \"47\": 3, \"24\": 3, \"37\": 1, \"54\": 2, \"19\": 1, \"13\": 1, \"38\": 1, \"1\": 1, \"42\": 1, \"56\": 1, \"4\": 1, \"44\": 1}, \"27\": {\"27\": 123, \"39\": 1}, \"22\": {\"22\": 84, \"28\": 1, \"24\": 12, \"11\": 7, \"55\": 1, \"10\": 6, \"54\": 1, \"52\": 6, \"0\": 4, \"12\": 2}, \"52\": {\"52\": 103, \"21\": 5, \"5\": 1, \"54\": 2, \"0\": 1, \"15\": 2, \"10\": 1, \"16\": 1, \"23\": 3, \"18\": 1, \"11\": 4, \"22\": 2}, \"3\": {\"27\": 5, \"3\": 116, \"39\": 1, \"29\": 7, \"55\": 4, \"35\": 2, \"49\": 1, \"44\": 1, \"40\": 1, \"32\": 1, \"57\": 1}, \"33\": {\"33\": 32}, \"47\": {\"42\": 1, \"47\": 80, \"1\": 3, \"44\": 10, \"55\": 8, \"32\": 3, \"22\": 2, \"45\": 1, \"40\": 1, \"12\": 1, \"56\": 2, \"52\": 2, \"49\": 1, \"39\": 1, \"4\": 1, \"24\": 2, \"15\": 1}, \"42\": {\"47\": 1, \"42\": 34, \"56\": 1, \"19\": 2, \"4\": 1, \"37\": 1}, \"12\": {\"11\": 1, \"12\": 95, \"16\": 6, \"53\": 2, \"21\": 2, \"51\": 5, \"23\": 1, \"9\": 1, \"18\": 1, \"7\": 1, \"5\": 1}, \"23\": {\"23\": 98, \"7\": 1, \"15\": 13, \"2\": 2, \"18\": 3, \"5\": 9, \"16\": 2, \"21\": 4}, \"49\": {\"49\": 32}, \"7\": {\"7\": 27, \"2\": 1}, \"4\": {\"4\": 75, \"46\": 13, \"23\": 3, \"56\": 3, \"29\": 2, \"19\": 5, \"1\": 4, \"18\": 1, \"57\": 7, \"25\": 4, \"54\": 2, \"30\": 1, \"9\": 3, \"55\": 1, \"13\": 1, \"38\": 1, \"48\": 1, \"24\": 1, \"47\": 1, \"5\": 2, \"45\": 1}, \"50\": {\"50\": 118, \"9\": 1, \"48\": 3, \"6\": 5, \"30\": 2, \"25\": 1, \"8\": 3, \"46\": 1}, \"19\": {\"19\": 104, \"6\": 1, \"45\": 14, \"17\": 1, \"33\": 1, \"46\": 2, \"4\": 5, \"1\": 6, \"30\": 4, \"5\": 1, \"48\": 5, \"50\": 1, \"9\": 3, \"42\": 2, \"56\": 2, \"23\": 1, \"47\": 1}, \"11\": {\"11\": 131, \"52\": 2, \"10\": 3, \"23\": 1, \"21\": 2, \"0\": 1}, \"31\": {\"31\": 25, \"39\": 1, \"33\": 1, \"38\": 1}, \"41\": {\"41\": 24}, \"56\": {\"56\": 80, \"57\": 14, \"19\": 9, \"1\": 8, \"32\": 1, \"4\": 8, \"45\": 4, \"5\": 1, \"30\": 1, \"46\": 4, \"0\": 1, \"55\": 2, \"52\": 1, \"54\": 1, \"25\": 3}, \"0\": {\"0\": 134, \"10\": 1, \"54\": 2, \"5\": 1, \"20\": 1, \"11\": 1, \"15\": 1, \"16\": 1, \"21\": 1, \"52\": 3, \"22\": 1, \"23\": 1}, \"57\": {\"56\": 14, \"57\": 99, \"29\": 2, \"25\": 4, \"44\": 1, \"4\": 1, \"46\": 1, \"0\": 1, \"45\": 1, \"33\": 1, \"1\": 2, \"20\": 1}, \"53\": {\"2\": 1, \"53\": 124, \"18\": 5, \"23\": 1, \"5\": 4, \"21\": 1, \"16\": 3, \"7\": 1}, \"43\": {\"43\": 144}, \"37\": {\"37\": 32}, \"2\": {\"2\": 36}, \"6\": {\"2\": 1, \"6\": 41, \"48\": 5, \"30\": 19, \"50\": 2, \"14\": 1, \"9\": 13, \"8\": 9, \"18\": 2, \"53\": 2, \"16\": 1}, \"13\": {\"13\": 149, \"55\": 1}, \"18\": {\"18\": 64, \"7\": 3, \"5\": 4, \"2\": 1}, \"36\": {\"36\": 48, \"7\": 2, \"2\": 1, \"16\": 5, \"15\": 2, \"5\": 3, \"21\": 1, \"23\": 2}, \"29\": {\"29\": 74, \"38\": 1, \"56\": 7, \"43\": 3, \"44\": 22, \"40\": 17, \"35\": 2, \"27\": 3, \"47\": 2, \"3\": 1, \"57\": 3, \"55\": 3, \"25\": 1, \"24\": 1}, \"39\": {\"39\": 27, \"28\": 1}, \"17\": {\"17\": 54, \"48\": 5, \"30\": 1, \"8\": 2, \"5\": 1, \"9\": 1}, \"21\": {\"21\": 100, \"23\": 6, \"16\": 1, \"15\": 17}, \"25\": {\"25\": 128, \"40\": 2, \"57\": 1, \"37\": 1}, \"45\": {\"45\": 105, \"19\": 14, \"1\": 8, \"42\": 2, \"56\": 7, \"46\": 4, \"50\": 1, \"33\": 1}, \"38\": {\"38\": 19, \"27\": 1, \"33\": 2, \"57\": 1, \"31\": 1}, \"30\": {\"30\": 111, \"9\": 3, \"6\": 4, \"18\": 1, \"5\": 1}, \"24\": {\"24\": 92, \"55\": 5, \"22\": 8, \"49\": 2, \"54\": 1}, \"20\": {\"20\": 126, \"54\": 2, \"24\": 2, \"51\": 4, \"22\": 3, \"0\": 1, \"13\": 1, \"55\": 1}, \"8\": {\"8\": 95, \"50\": 6, \"48\": 15, \"9\": 11, \"17\": 5, \"30\": 4, \"6\": 2, \"14\": 1, \"2\": 1}, \"35\": {\"35\": 36}, \"54\": {\"54\": 103, \"0\": 1}, \"5\": {\"5\": 122, \"7\": 3, \"18\": 9, \"23\": 1, \"16\": 4, \"2\": 3, \"53\": 1, \"30\": 1, \"15\": 4}, \"48\": {\"50\": 8, \"48\": 126, \"30\": 3, \"6\": 3, \"8\": 3, \"9\": 1}, \"15\": {\"15\": 99, \"21\": 16, \"18\": 3, \"5\": 6, \"23\": 10, \"16\": 2, \"7\": 1, \"2\": 3, \"36\": 1, \"52\": 1}, \"34\": {\"34\": 21, \"54\": 2, \"33\": 1}, \"14\": {\"34\": 2, \"14\": 12, \"6\": 1, \"16\": 1, \"9\": 1, \"17\": 2, \"51\": 1, \"53\": 1, \"30\": 1, \"48\": 2}, \"32\": {\"32\": 28, \"55\": 2, \"44\": 1, \"54\": 1}, \"40\": {\"40\": 124, \"44\": 5, \"35\": 1, \"3\": 3, \"29\": 8, \"13\": 1, \"55\": 2, \"27\": 2, \"47\": 1, \"43\": 1}, \"44\": {\"29\": 13, \"44\": 85, \"55\": 6, \"47\": 10, \"43\": 5, \"13\": 3, \"57\": 3, \"56\": 1, \"24\": 4, \"49\": 2, \"35\": 1, \"1\": 1, \"40\": 1, \"25\": 1}}, \"C_2\": {\"36\": {\"36\": 96, \"34\": 1, \"21\": 1, \"30\": 3, \"12\": 1, \"6\": 4, \"50\": 1, \"23\": 3, \"54\": 3, \"18\": 2, \"47\": 1}, \"5\": {\"5\": 60, \"1\": 4, \"34\": 2, \"4\": 5, \"42\": 3, \"39\": 1, \"14\": 1, \"29\": 7, \"19\": 6, \"57\": 14, \"46\": 6, \"45\": 2, \"3\": 5, \"22\": 1, \"53\": 2, \"50\": 1}, \"45\": {\"45\": 27, \"49\": 3, \"31\": 2, \"4\": 6, \"29\": 4, \"26\": 1, \"3\": 6, \"28\": 2, \"50\": 7, \"19\": 10, \"46\": 9, \"5\": 7, \"8\": 4, \"1\": 10, \"25\": 4, \"48\": 4, \"47\": 2, \"27\": 2, \"9\": 4, \"36\": 3, \"57\": 2, \"6\": 1, \"55\": 1, \"2\": 1, \"39\": 1, \"53\": 1, \"51\": 2, \"0\": 1, \"23\": 1}, \"49\": {\"49\": 21, \"37\": 1, \"3\": 1, \"19\": 1}, \"50\": {\"36\": 7, \"32\": 1, \"50\": 53, \"12\": 3, \"57\": 2, \"53\": 8, \"23\": 2, \"6\": 2, \"0\": 1, \"2\": 1, \"21\": 8, \"20\": 15, \"9\": 2, \"8\": 5, \"51\": 8, \"5\": 2, \"54\": 1, \"48\": 5, \"3\": 2, \"15\": 1, \"47\": 2, \"30\": 1, \"25\": 1, \"4\": 1, \"46\": 1, \"45\": 1}, \"4\": {\"4\": 68, \"49\": 1, \"9\": 18, \"29\": 6, \"32\": 1, \"36\": 2, \"57\": 13, \"19\": 11, \"17\": 2, \"45\": 6, \"1\": 1, \"47\": 2, \"30\": 1, \"46\": 3, \"5\": 2, \"50\": 1}, \"43\": {\"43\": 143, \"24\": 4, \"10\": 1}, \"41\": {\"52\": 1, \"41\": 17, \"18\": 1, \"6\": 1}, \"37\": {\"37\": 36}, \"12\": {\"52\": 5, \"12\": 52, \"36\": 1, \"18\": 3, \"50\": 1, \"30\": 2, \"17\": 1, \"20\": 9, \"23\": 4, \"54\": 5, \"48\": 1, \"6\": 3, \"45\": 1, \"41\": 1, \"15\": 2, \"21\": 1}, \"33\": {\"33\": 25, \"44\": 1, \"29\": 1, \"19\": 1}, \"7\": {\"52\": 3, \"15\": 6, \"7\": 21, \"54\": 1, \"18\": 2, \"23\": 3}, \"56\": {\"56\": 133, \"14\": 1, \"55\": 3, \"24\": 2, \"22\": 1}, \"14\": {\"56\": 4, \"14\": 15, \"43\": 2, \"35\": 1, \"55\": 2}, \"52\": {\"52\": 117, \"23\": 4, \"15\": 3}, \"44\": {\"33\": 1, \"14\": 1, \"44\": 59, \"40\": 2, \"55\": 8, \"31\": 2, \"19\": 4, \"35\": 1, \"22\": 10, \"29\": 2, \"56\": 4, \"5\": 1, \"25\": 1}, \"48\": {\"48\": 109, \"23\": 3, \"52\": 2, \"12\": 4, \"36\": 9, \"15\": 3, \"30\": 6, \"6\": 2, \"18\": 2, \"0\": 1, \"54\": 1, \"20\": 1, \"53\": 1}, \"20\": {\"20\": 111, \"54\": 2, \"50\": 2, \"12\": 4, \"51\": 1, \"16\": 1, \"19\": 1, \"18\": 1, \"8\": 2, \"6\": 1, \"48\": 2}, \"55\": {\"55\": 120, \"22\": 11, \"25\": 4, \"19\": 2, \"24\": 2, \"29\": 4, \"31\": 1}, \"32\": {\"17\": 4, \"57\": 1, \"32\": 20, \"48\": 1, \"3\": 1, \"4\": 1}, \"40\": {\"40\": 117, \"35\": 3, \"33\": 2, \"22\": 3, \"44\": 2, \"19\": 1, \"56\": 2, \"29\": 1, \"45\": 1, \"5\": 2, \"55\": 2}, \"54\": {\"41\": 2, \"54\": 59, \"12\": 4, \"18\": 5, \"23\": 12, \"15\": 9, \"30\": 5, \"52\": 7, \"48\": 1, \"6\": 4}, \"17\": {\"17\": 99, \"32\": 1, \"27\": 2, \"50\": 2}, \"38\": {\"38\": 18, \"11\": 2}, \"24\": {\"24\": 84, \"43\": 5, \"46\": 1, \"13\": 2, \"10\": 4}, \"1\": {\"1\": 65, \"41\": 4, \"30\": 6, \"34\": 3, \"0\": 3, \"15\": 2, \"2\": 4, \"6\": 3, \"54\": 4, \"52\": 6, \"23\": 3, \"18\": 3, \"29\": 1, \"7\": 1, \"36\": 1, \"21\": 1, \"48\": 1, \"50\": 1}, \"6\": {\"41\": 2, \"18\": 5, \"54\": 8, \"52\": 16, \"23\": 16, \"29\": 1, \"7\": 3, \"12\": 3, \"6\": 32, \"47\": 3, \"48\": 6, \"15\": 6, \"30\": 12, \"36\": 3, \"21\": 3, \"17\": 1, \"20\": 1, \"57\": 1, \"27\": 1, \"50\": 1}, \"34\": {\"34\": 26, \"1\": 1, \"50\": 1}, \"11\": {\"11\": 110, \"7\": 1, \"16\": 11, \"15\": 7, \"52\": 4, \"54\": 2, \"23\": 1}, \"9\": {\"9\": 113, \"19\": 8, \"29\": 2, \"3\": 3, \"4\": 16, \"45\": 2, \"46\": 3, \"1\": 1, \"57\": 1, \"53\": 1}, \"8\": {\"8\": 149, \"20\": 2, \"26\": 1}, \"22\": {\"22\": 120, \"29\": 1, \"10\": 3, \"43\": 6, \"55\": 2, \"56\": 2, \"24\": 2}, \"26\": {\"26\": 23, \"20\": 1}, \"23\": {\"23\": 73, \"18\": 5, \"54\": 5, \"15\": 12, \"6\": 6, \"30\": 10, \"52\": 31, \"7\": 1, \"12\": 2, \"48\": 1}, \"10\": {\"10\": 112}, \"18\": {\"23\": 1, \"18\": 47}, \"13\": {\"13\": 113, \"40\": 1, \"25\": 1, \"56\": 1}, \"30\": {\"23\": 20, \"18\": 7, \"15\": 14, \"30\": 60, \"6\": 9, \"20\": 1, \"52\": 7, \"54\": 5, \"48\": 2, \"7\": 1, \"12\": 1, \"8\": 1}, \"42\": {\"46\": 1, \"42\": 33, \"6\": 1, \"57\": 1}, \"31\": {\"31\": 25, \"55\": 2, \"29\": 1}, \"46\": {\"1\": 4, \"46\": 43, \"42\": 1, \"6\": 3, \"2\": 1, \"57\": 3, \"53\": 6, \"54\": 4, \"3\": 2, \"12\": 1, \"11\": 6, \"29\": 2, \"21\": 7, \"16\": 7, \"48\": 5, \"36\": 5, \"47\": 4, \"22\": 1, \"5\": 3, \"52\": 1, \"51\": 4, \"20\": 2, \"30\": 1, \"45\": 2, \"8\": 1, \"43\": 2, \"25\": 1, \"50\": 4, \"32\": 1, \"23\": 1}, \"57\": {\"57\": 119, \"0\": 1, \"3\": 5, \"45\": 4, \"4\": 2, \"5\": 6, \"19\": 1, \"42\": 1, \"29\": 1, \"1\": 1, \"47\": 1}, \"47\": {\"7\": 1, \"47\": 72, \"41\": 2, \"42\": 1, \"0\": 4, \"18\": 7, \"30\": 8, \"1\": 1, \"16\": 10, \"48\": 1, \"52\": 5, \"23\": 13, \"6\": 2, \"45\": 1, \"54\": 3, \"36\": 6, \"15\": 1}, \"35\": {\"35\": 27, \"40\": 2, \"56\": 1, \"33\": 2}, \"15\": {\"15\": 131, \"24\": 1}, \"25\": {\"25\": 113, \"45\": 5, \"44\": 1, \"9\": 2, \"4\": 3, \"19\": 4, \"29\": 5, \"46\": 2, \"3\": 1}, \"19\": {\"9\": 7, \"19\": 89, \"57\": 7, \"29\": 11, \"5\": 5, \"4\": 7, \"45\": 2, \"22\": 1, \"25\": 2, \"47\": 2, \"46\": 2, \"50\": 1}, \"51\": {\"51\": 91, \"53\": 8, \"21\": 5, \"12\": 2, \"20\": 13, \"23\": 3, \"30\": 1, \"50\": 3, \"36\": 1, \"54\": 1}, \"53\": {\"53\": 98, \"51\": 8, \"12\": 3, \"50\": 5, \"20\": 6, \"54\": 4, \"21\": 4, \"23\": 3, \"29\": 1, \"52\": 1, \"55\": 1}, \"21\": {\"21\": 91, \"17\": 3, \"20\": 6, \"16\": 1, \"15\": 2, \"54\": 2, \"51\": 4, \"23\": 7, \"52\": 2, \"6\": 1, \"30\": 1}, \"39\": {\"1\": 5, \"2\": 1, \"39\": 17, \"0\": 2, \"25\": 1, \"12\": 1, \"47\": 1}, \"2\": {\"1\": 2, \"2\": 17, \"50\": 1, \"6\": 2, \"54\": 1, \"41\": 2, \"52\": 2, \"18\": 3, \"15\": 1, \"36\": 1}, \"16\": {\"16\": 88, \"54\": 7, \"18\": 3, \"7\": 1, \"21\": 1, \"15\": 5, \"23\": 10, \"11\": 18, \"6\": 4, \"52\": 7, \"30\": 4, \"41\": 1, \"47\": 1}, \"0\": {\"0\": 30, \"18\": 2, \"41\": 1, \"52\": 2, \"11\": 1, \"21\": 2, \"23\": 1, \"16\": 3, \"47\": 2, \"15\": 2, \"30\": 2}, \"3\": {\"34\": 2, \"57\": 3, \"48\": 3, \"28\": 1, \"51\": 2, \"36\": 3, \"29\": 10, \"53\": 1, \"22\": 1, \"3\": 22, \"44\": 2, \"46\": 7, \"40\": 1, \"8\": 5, \"5\": 5, \"50\": 4, \"1\": 1, \"25\": 4, \"26\": 2, \"38\": 1, \"2\": 1, \"6\": 1, \"43\": 2, \"45\": 1, \"0\": 1, \"20\": 2, \"10\": 1, \"23\": 1, \"12\": 1, \"21\": 1}, \"27\": {\"27\": 134, \"17\": 6, \"51\": 1, \"8\": 1}, \"28\": {\"28\": 23, \"2\": 1, \"0\": 2, \"55\": 1, \"36\": 1}, \"29\": {\"29\": 99, \"19\": 7, \"45\": 3, \"46\": 5, \"4\": 4, \"25\": 1, \"9\": 3, \"5\": 2, \"44\": 2, \"31\": 1, \"47\": 1}}}, \"per_domain_accuracy\": {\"O_14\": {\"accuracy\": 0.953125, \"source?\": true}, \"O_20\": {\"accuracy\": 0.8846354166666667, \"source?\": true}, \"O_38\": {\"accuracy\": 0.9283854166666666, \"source?\": true}, \"O_8\": {\"accuracy\": 0.9205729166666666, \"source?\": true}, \"O_50\": {\"accuracy\": 0.9091145833333333, \"source?\": true}, \"O_32\": {\"accuracy\": 0.9072916666666667, \"source?\": true}, \"O_26\": {\"accuracy\": 0.8028645833333333, \"source?\": true}, \"O_44\": {\"accuracy\": 0.79453125, \"source?\": true}, \"C_3\": {\"accuracy\": 0.7056686046511628, \"source?\": false}, \"C_4\": {\"accuracy\": 0.7339015151515151, \"source?\": false}, \"C_5\": {\"accuracy\": 0.71106843575419, \"source?\": false}, \"C_1\": {\"accuracy\": 0.8058401639344263, \"source?\": false}, \"C_2\": {\"accuracy\": 0.7212217514124294, \"source?\": false}}}, \"history\": {\"epoch_indices\": [1, 2, 3, 4, 5, 6, 7, 8, 9, 10, 11, 12, 13, 14, 15, 16, 17, 18], \"train_label_loss\": [0.9903533917807398, 1.069210214227704, 0.6409790663314717, 0.5392335242514188, 0.4781237056761581, 0.43533672905482707, 0.41261168305507107, 0.3729427399546174, 0.3342159086281234, 0.30224043396592604, 0.29053519163502467, 0.2618801145427694, 0.24892455127174756, 0.23827736466219426, 0.22540114139140185, 0.21063627791130177, 0.20333599092007804, 0.1897647655474776], \"source_val_label_loss\": [58.63156509399414, 0.7084887623786926, 0.686833918094635, 0.5610878467559814, 0.4780505299568176, 0.4459461271762848, 0.4415588974952698, 0.3753758370876312, 0.41456493735313416, 0.3528667986392975, 0.3566456735134125, 0.3201492726802826, 0.3489677906036377, 0.3124215602874756, 0.3510715067386627, 0.3630053997039795, 0.32428476214408875, 0.3770797550678253], \"target_val_label_loss\": [2013.634765625, 192.22239685058594, 170.2333984375, 170.4173583984375, 168.99024963378906, 165.31982421875, 178.37879943847656, 190.68484497070312, 191.43606567382812, 209.19796752929688, 178.62559509277344, 195.72488403320312, 223.90147399902344, 212.4187774658203, 194.5158233642578, 227.37196350097656, 226.94532775878906, 246.07852172851562], \"source_val_acc_label\": [0.5839518229166667, 0.7423502604166666, 0.7438802083333333, 0.79169921875, 0.82548828125, 0.8359049479166667, 0.8362955729166667, 0.8620442708333333, 0.8478515625, 0.87333984375, 0.8700846354166667, 0.88359375, 0.8734700520833333, 0.8875651041666667, 0.8747721354166667, 0.8703776041666667, 0.8861653645833333, 0.86923828125], \"target_val_acc_label\": [0.5721318493150684, 0.6528253424657534, 0.646011700913242, 0.6625285388127854, 0.6615296803652968, 0.6905679223744292, 0.6877853881278538, 0.69880850456621, 0.6987371575342466, 0.7028396118721462, 0.7087970890410958, 0.7062642694063926, 0.7250998858447488, 0.7361586757990868, 0.686144406392694, 0.7232448630136986, 0.6907819634703196, 0.7275970319634704]}, \"dataset_metrics\": {\"source\": {\"train\": {\"n_unique_x\": 179200, \"n_unique_y\": 16, \"n_batch/episode\": 6720}, \"val\": {\"n_unique_x\": 38400, \"n_unique_y\": 16, \"n_batch/episode\": 960}, \"test\": {\"n_unique_x\": 38400, \"n_unique_y\": 16, \"n_batch/episode\": 960}}, \"target\": {\"train\": {\"n_unique_x\": 175212, \"n_unique_y\": 58, \"n_batch/episode\": 6322}, \"val\": {\"n_unique_x\": 37196, \"n_unique_y\": 58, \"n_batch/episode\": 876}, \"test\": {\"n_unique_x\": 37634, \"n_unique_y\": 58, \"n_batch/episode\": 891}}}}'"
      ]
     },
     "execution_count": 29,
     "metadata": {},
     "output_type": "execute_result"
    }
   ],
   "source": [
    "json.dumps(experiment)"
   ]
  }
 ],
 "metadata": {
  "celltoolbar": "Tags",
  "kernelspec": {
   "display_name": "Python 3 (ipykernel)",
   "language": "python",
   "name": "python3"
  },
  "language_info": {
   "codemirror_mode": {
    "name": "ipython",
    "version": 3
   },
   "file_extension": ".py",
   "mimetype": "text/x-python",
   "name": "python",
   "nbconvert_exporter": "python",
   "pygments_lexer": "ipython3",
   "version": "3.8.10"
  },
  "papermill": {
   "default_parameters": {},
   "duration": 5352.124415,
   "end_time": "2022-03-25T22:18:53.479615",
   "environment_variables": {},
   "exception": null,
   "input_path": "/mnt/wd500GB/CSC500/csc500-main/csc500-notebooks/templates/tl_ptn_template.ipynb",
   "output_path": "trial.ipynb",
   "parameters": {
    "parameters": {
     "BEST_MODEL_PATH": "./best_model.pth",
     "NUM_LOGS_PER_EPOCH": 10,
     "criteria_for_best": "target_accuracy",
     "dataset_seed": 1337,
     "datasets": [
      {
       "domain_prefix": "C_",
       "domains": [
        1,
        2,
        3,
        4,
        5
       ],
       "episode_transforms": [],
       "labels": [
        "1-10.",
        "1-11.",
        "1-15.",
        "1-16.",
        "1-17.",
        "1-18.",
        "1-19.",
        "10-4.",
        "10-7.",
        "11-1.",
        "11-14.",
        "11-17.",
        "11-20.",
        "11-7.",
        "13-20.",
        "13-8.",
        "14-10.",
        "14-11.",
        "14-14.",
        "14-7.",
        "15-1.",
        "15-20.",
        "16-1.",
        "16-16.",
        "17-10.",
        "17-11.",
        "17-2.",
        "19-1.",
        "19-16.",
        "19-19.",
        "19-20.",
        "19-3.",
        "2-10.",
        "2-11.",
        "2-17.",
        "2-18.",
        "2-20.",
        "2-3.",
        "2-4.",
        "2-5.",
        "2-6.",
        "2-7.",
        "2-8.",
        "3-13.",
        "3-18.",
        "3-3.",
        "4-1.",
        "4-10.",
        "4-11.",
        "4-19.",
        "5-5.",
        "6-15.",
        "7-10.",
        "7-14.",
        "8-18.",
        "8-20.",
        "8-3.",
        "8-8."
       ],
       "num_examples_per_domain_per_label": -1,
       "pickle_path": "/mnt/wd500GB/CSC500/csc500-main/datasets/cores.stratified_ds.2022A.pkl",
       "source_or_target_dataset": "target",
       "x_transforms": [
        "unit_power",
        "lowpass_+/-10MHz",
        "take_200"
       ]
      },
      {
       "domain_prefix": "O_",
       "domains": [
        32,
        38,
        8,
        44,
        14,
        50,
        20,
        26
       ],
       "episode_transforms": [],
       "labels": [
        "3123D52",
        "3123D65",
        "3123D79",
        "3123D80",
        "3123D54",
        "3123D70",
        "3123D7B",
        "3123D89",
        "3123D58",
        "3123D76",
        "3123D7D",
        "3123EFE",
        "3123D64",
        "3123D78",
        "3123D7E",
        "3124E4A"
       ],
       "num_examples_per_domain_per_label": 2000,
       "pickle_path": "/mnt/wd500GB/CSC500/csc500-main/datasets/oracle.Run1_framed_2000Examples_stratified_ds.2022A.pkl",
       "source_or_target_dataset": "source",
       "x_transforms": [
        "unit_power",
        "take_200",
        "resample_20Msps_to_25Msps"
       ]
      }
     ],
     "device": "cuda",
     "experiment_name": "tl_3-filterv2:oracle.run1.framed -> cores",
     "lr": 0.0001,
     "n_epoch": 50,
     "n_query": 2,
     "n_shot": 3,
     "n_way": 16,
     "patience": 3,
     "seed": 1337,
     "test_k_factor": 2,
     "torch_default_dtype": "torch.float32",
     "train_k_factor": 3,
     "val_k_factor": 2,
     "x_net": [
      {
       "class": "nnReshape",
       "kargs": {
        "shape": [
         -1,
         1,
         2,
         200
        ]
       }
      },
      {
       "class": "Conv2d",
       "kargs": {
        "bias": false,
        "in_channels": 1,
        "kernel_size": [
         1,
         7
        ],
        "out_channels": 256,
        "padding": [
         0,
         3
        ]
       }
      },
      {
       "class": "ReLU",
       "kargs": {
        "inplace": true
       }
      },
      {
       "class": "BatchNorm2d",
       "kargs": {
        "num_features": 256
       }
      },
      {
       "class": "Conv2d",
       "kargs": {
        "bias": true,
        "in_channels": 256,
        "kernel_size": [
         2,
         7
        ],
        "out_channels": 80,
        "padding": [
         0,
         3
        ]
       }
      },
      {
       "class": "ReLU",
       "kargs": {
        "inplace": true
       }
      },
      {
       "class": "BatchNorm2d",
       "kargs": {
        "num_features": 80
       }
      },
      {
       "class": "Flatten",
       "kargs": {}
      },
      {
       "class": "Linear",
       "kargs": {
        "in_features": 16000,
        "out_features": 256
       }
      },
      {
       "class": "ReLU",
       "kargs": {
        "inplace": true
       }
      },
      {
       "class": "BatchNorm1d",
       "kargs": {
        "num_features": 256
       }
      },
      {
       "class": "Linear",
       "kargs": {
        "in_features": 256,
        "out_features": 256
       }
      }
     ],
     "x_shape": [
      2,
      200
     ]
    }
   },
   "start_time": "2022-03-25T20:49:41.355200",
   "version": "2.3.4"
  }
 },
 "nbformat": 4,
 "nbformat_minor": 5
}