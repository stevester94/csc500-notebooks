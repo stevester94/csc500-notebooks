{
 "cells": [
  {
   "cell_type": "markdown",
   "id": "9fea5f46",
   "metadata": {
    "papermill": {
     "duration": 0.01865,
     "end_time": "2022-03-25T22:46:01.170087",
     "exception": false,
     "start_time": "2022-03-25T22:46:01.151437",
     "status": "completed"
    },
    "tags": []
   },
   "source": [
    "# Transfer Learning Template"
   ]
  },
  {
   "cell_type": "code",
   "execution_count": 1,
   "id": "0902182a",
   "metadata": {
    "execution": {
     "iopub.execute_input": "2022-03-25T22:46:01.211465Z",
     "iopub.status.busy": "2022-03-25T22:46:01.211069Z",
     "iopub.status.idle": "2022-03-25T22:46:02.194346Z",
     "shell.execute_reply": "2022-03-25T22:46:02.194044Z"
    },
    "papermill": {
     "duration": 1.009529,
     "end_time": "2022-03-25T22:46:02.194415",
     "exception": false,
     "start_time": "2022-03-25T22:46:01.184886",
     "status": "completed"
    },
    "tags": []
   },
   "outputs": [],
   "source": [
    "%load_ext autoreload\n",
    "%autoreload 2\n",
    "%matplotlib inline\n",
    "\n",
    "    \n",
    "import os, json, sys, time, random\n",
    "import numpy as np\n",
    "import torch\n",
    "from torch.optim import Adam\n",
    "from  easydict import EasyDict\n",
    "import matplotlib.pyplot as plt\n",
    "\n",
    "from steves_models.steves_ptn import Steves_Prototypical_Network\n",
    "\n",
    "from steves_utils.lazy_iterable_wrapper import Lazy_Iterable_Wrapper\n",
    "from steves_utils.iterable_aggregator import Iterable_Aggregator\n",
    "from steves_utils.ptn_train_eval_test_jig import  PTN_Train_Eval_Test_Jig\n",
    "from steves_utils.torch_sequential_builder import build_sequential\n",
    "from steves_utils.torch_utils import get_dataset_metrics, ptn_confusion_by_domain_over_dataloader\n",
    "from steves_utils.utils_v2 import (per_domain_accuracy_from_confusion, get_datasets_base_path)\n",
    "from steves_utils.PTN.utils import independent_accuracy_assesment\n",
    "\n",
    "from torch.utils.data import DataLoader\n",
    "\n",
    "from steves_utils.stratified_dataset.episodic_accessor import Episodic_Accessor_Factory\n",
    "\n",
    "from steves_utils.ptn_do_report import (\n",
    "    get_loss_curve,\n",
    "    get_results_table,\n",
    "    get_parameters_table,\n",
    "    get_domain_accuracies,\n",
    ")\n",
    "\n",
    "from steves_utils.transforms import get_chained_transform"
   ]
  },
  {
   "cell_type": "markdown",
   "id": "41c840b4",
   "metadata": {
    "papermill": {
     "duration": 0.013576,
     "end_time": "2022-03-25T22:46:02.221922",
     "exception": false,
     "start_time": "2022-03-25T22:46:02.208346",
     "status": "completed"
    },
    "tags": []
   },
   "source": [
    "# Allowed Parameters\n",
    "These are allowed parameters, not defaults\n",
    "Each of these values need to be present in the injected parameters (the notebook will raise an exception if they are not present)\n",
    "\n",
    "Papermill uses the cell tag \"parameters\" to inject the real parameters below this cell.\n",
    "Enable tags to see what I mean"
   ]
  },
  {
   "cell_type": "code",
   "execution_count": 2,
   "id": "fd44eb83",
   "metadata": {
    "execution": {
     "iopub.execute_input": "2022-03-25T22:46:02.251998Z",
     "iopub.status.busy": "2022-03-25T22:46:02.251710Z",
     "iopub.status.idle": "2022-03-25T22:46:02.265523Z",
     "shell.execute_reply": "2022-03-25T22:46:02.265099Z"
    },
    "papermill": {
     "duration": 0.030629,
     "end_time": "2022-03-25T22:46:02.265633",
     "exception": false,
     "start_time": "2022-03-25T22:46:02.235004",
     "status": "completed"
    },
    "tags": []
   },
   "outputs": [],
   "source": [
    "required_parameters = {\n",
    "    \"experiment_name\",\n",
    "    \"lr\",\n",
    "    \"device\",\n",
    "    \"seed\",\n",
    "    \"dataset_seed\",\n",
    "    \"n_shot\",\n",
    "    \"n_query\",\n",
    "    \"n_way\",\n",
    "    \"train_k_factor\",\n",
    "    \"val_k_factor\",\n",
    "    \"test_k_factor\",\n",
    "    \"n_epoch\",\n",
    "    \"patience\",\n",
    "    \"criteria_for_best\",\n",
    "    \"x_net\",\n",
    "    \"datasets\",\n",
    "    \"torch_default_dtype\",\n",
    "    \"NUM_LOGS_PER_EPOCH\",\n",
    "    \"BEST_MODEL_PATH\",\n",
    "    \"x_shape\",\n",
    "}"
   ]
  },
  {
   "cell_type": "code",
   "execution_count": 3,
   "id": "fa3f0049",
   "metadata": {
    "execution": {
     "iopub.execute_input": "2022-03-25T22:46:02.303328Z",
     "iopub.status.busy": "2022-03-25T22:46:02.303037Z",
     "iopub.status.idle": "2022-03-25T22:46:02.315778Z",
     "shell.execute_reply": "2022-03-25T22:46:02.316182Z"
    },
    "papermill": {
     "duration": 0.034971,
     "end_time": "2022-03-25T22:46:02.316309",
     "exception": false,
     "start_time": "2022-03-25T22:46:02.281338",
     "status": "completed"
    },
    "tags": [
     "parameters"
    ]
   },
   "outputs": [],
   "source": [
    "from steves_utils.CORES.utils import (\n",
    "    ALL_NODES,\n",
    "    ALL_NODES_MINIMUM_1000_EXAMPLES,\n",
    "    ALL_DAYS\n",
    ")\n",
    "\n",
    "from steves_utils.ORACLE.utils_v2 import (\n",
    "    ALL_DISTANCES_FEET_NARROWED,\n",
    "    ALL_RUNS,\n",
    "    ALL_SERIAL_NUMBERS,\n",
    ")\n",
    "\n",
    "standalone_parameters = {}\n",
    "standalone_parameters[\"experiment_name\"] = \"STANDALONE PTN\"\n",
    "standalone_parameters[\"lr\"] = 0.001\n",
    "standalone_parameters[\"device\"] = \"cuda\"\n",
    "\n",
    "standalone_parameters[\"seed\"] = 1337\n",
    "standalone_parameters[\"dataset_seed\"] = 1337\n",
    "\n",
    "standalone_parameters[\"n_way\"] = 8\n",
    "standalone_parameters[\"n_shot\"] = 3\n",
    "standalone_parameters[\"n_query\"]  = 2\n",
    "standalone_parameters[\"train_k_factor\"] = 1\n",
    "standalone_parameters[\"val_k_factor\"] = 2\n",
    "standalone_parameters[\"test_k_factor\"] = 2\n",
    "\n",
    "\n",
    "standalone_parameters[\"n_epoch\"] = 50\n",
    "\n",
    "standalone_parameters[\"patience\"] = 10\n",
    "standalone_parameters[\"criteria_for_best\"] = \"source_loss\"\n",
    "\n",
    "standalone_parameters[\"datasets\"] = [\n",
    "    {\n",
    "        \"labels\": ALL_SERIAL_NUMBERS,\n",
    "        \"domains\": ALL_DISTANCES_FEET_NARROWED,\n",
    "        \"num_examples_per_domain_per_label\": 100,\n",
    "        \"pickle_path\": os.path.join(get_datasets_base_path(), \"oracle.Run1_framed_2000Examples_stratified_ds.2022A.pkl\"),\n",
    "        \"source_or_target_dataset\": \"source\",\n",
    "        \"x_transforms\": [\"unit_mag\", \"minus_two\"],\n",
    "        \"episode_transforms\": [],\n",
    "        \"domain_prefix\": \"ORACLE_\"\n",
    "    },\n",
    "    {\n",
    "        \"labels\": ALL_NODES,\n",
    "        \"domains\": ALL_DAYS,\n",
    "        \"num_examples_per_domain_per_label\": 100,\n",
    "        \"pickle_path\": os.path.join(get_datasets_base_path(), \"cores.stratified_ds.2022A.pkl\"),\n",
    "        \"source_or_target_dataset\": \"target\",\n",
    "        \"x_transforms\": [\"unit_power\", \"times_zero\"],\n",
    "        \"episode_transforms\": [],\n",
    "        \"domain_prefix\": \"CORES_\"\n",
    "    }   \n",
    "]\n",
    "\n",
    "standalone_parameters[\"torch_default_dtype\"] = \"torch.float32\" \n",
    "\n",
    "\n",
    "\n",
    "standalone_parameters[\"x_net\"] =     [\n",
    "    {\"class\": \"nnReshape\", \"kargs\": {\"shape\":[-1, 1, 2, 256]}},\n",
    "    {\"class\": \"Conv2d\", \"kargs\": { \"in_channels\":1, \"out_channels\":256, \"kernel_size\":(1,7), \"bias\":False, \"padding\":(0,3), },},\n",
    "    {\"class\": \"ReLU\", \"kargs\": {\"inplace\": True}},\n",
    "    {\"class\": \"BatchNorm2d\", \"kargs\": {\"num_features\":256}},\n",
    "\n",
    "    {\"class\": \"Conv2d\", \"kargs\": { \"in_channels\":256, \"out_channels\":80, \"kernel_size\":(2,7), \"bias\":True, \"padding\":(0,3), },},\n",
    "    {\"class\": \"ReLU\", \"kargs\": {\"inplace\": True}},\n",
    "    {\"class\": \"BatchNorm2d\", \"kargs\": {\"num_features\":80}},\n",
    "    {\"class\": \"Flatten\", \"kargs\": {}},\n",
    "\n",
    "    {\"class\": \"Linear\", \"kargs\": {\"in_features\": 80*256, \"out_features\": 256}}, # 80 units per IQ pair\n",
    "    {\"class\": \"ReLU\", \"kargs\": {\"inplace\": True}},\n",
    "    {\"class\": \"BatchNorm1d\", \"kargs\": {\"num_features\":256}},\n",
    "\n",
    "    {\"class\": \"Linear\", \"kargs\": {\"in_features\": 256, \"out_features\": 256}},\n",
    "]\n",
    "\n",
    "# Parameters relevant to results\n",
    "# These parameters will basically never need to change\n",
    "standalone_parameters[\"NUM_LOGS_PER_EPOCH\"] = 10\n",
    "standalone_parameters[\"BEST_MODEL_PATH\"] = \"./best_model.pth\"\n",
    "\n",
    "\n",
    "\n",
    "\n"
   ]
  },
  {
   "cell_type": "code",
   "execution_count": 4,
   "id": "ff263217",
   "metadata": {
    "execution": {
     "iopub.execute_input": "2022-03-25T22:46:02.357826Z",
     "iopub.status.busy": "2022-03-25T22:46:02.350443Z",
     "iopub.status.idle": "2022-03-25T22:46:02.370130Z",
     "shell.execute_reply": "2022-03-25T22:46:02.370538Z"
    },
    "papermill": {
     "duration": 0.035096,
     "end_time": "2022-03-25T22:46:02.370662",
     "exception": false,
     "start_time": "2022-03-25T22:46:02.335566",
     "status": "completed"
    },
    "tags": [
     "injected-parameters"
    ]
   },
   "outputs": [],
   "source": [
    "# Parameters\n",
    "parameters = {\n",
    "    \"experiment_name\": \"tl_3-filterv2:oracle.run1.framed -> cores\",\n",
    "    \"device\": \"cuda\",\n",
    "    \"lr\": 0.0001,\n",
    "    \"x_shape\": [2, 200],\n",
    "    \"n_shot\": 3,\n",
    "    \"n_query\": 2,\n",
    "    \"train_k_factor\": 3,\n",
    "    \"val_k_factor\": 2,\n",
    "    \"test_k_factor\": 2,\n",
    "    \"torch_default_dtype\": \"torch.float32\",\n",
    "    \"n_epoch\": 50,\n",
    "    \"patience\": 3,\n",
    "    \"criteria_for_best\": \"target_accuracy\",\n",
    "    \"x_net\": [\n",
    "        {\"class\": \"nnReshape\", \"kargs\": {\"shape\": [-1, 1, 2, 200]}},\n",
    "        {\n",
    "            \"class\": \"Conv2d\",\n",
    "            \"kargs\": {\n",
    "                \"in_channels\": 1,\n",
    "                \"out_channels\": 256,\n",
    "                \"kernel_size\": [1, 7],\n",
    "                \"bias\": False,\n",
    "                \"padding\": [0, 3],\n",
    "            },\n",
    "        },\n",
    "        {\"class\": \"ReLU\", \"kargs\": {\"inplace\": True}},\n",
    "        {\"class\": \"BatchNorm2d\", \"kargs\": {\"num_features\": 256}},\n",
    "        {\n",
    "            \"class\": \"Conv2d\",\n",
    "            \"kargs\": {\n",
    "                \"in_channels\": 256,\n",
    "                \"out_channels\": 80,\n",
    "                \"kernel_size\": [2, 7],\n",
    "                \"bias\": True,\n",
    "                \"padding\": [0, 3],\n",
    "            },\n",
    "        },\n",
    "        {\"class\": \"ReLU\", \"kargs\": {\"inplace\": True}},\n",
    "        {\"class\": \"BatchNorm2d\", \"kargs\": {\"num_features\": 80}},\n",
    "        {\"class\": \"Flatten\", \"kargs\": {}},\n",
    "        {\"class\": \"Linear\", \"kargs\": {\"in_features\": 16000, \"out_features\": 256}},\n",
    "        {\"class\": \"ReLU\", \"kargs\": {\"inplace\": True}},\n",
    "        {\"class\": \"BatchNorm1d\", \"kargs\": {\"num_features\": 256}},\n",
    "        {\"class\": \"Linear\", \"kargs\": {\"in_features\": 256, \"out_features\": 256}},\n",
    "    ],\n",
    "    \"NUM_LOGS_PER_EPOCH\": 10,\n",
    "    \"BEST_MODEL_PATH\": \"./best_model.pth\",\n",
    "    \"n_way\": 16,\n",
    "    \"datasets\": [\n",
    "        {\n",
    "            \"labels\": [\n",
    "                \"1-10.\",\n",
    "                \"1-11.\",\n",
    "                \"1-15.\",\n",
    "                \"1-16.\",\n",
    "                \"1-17.\",\n",
    "                \"1-18.\",\n",
    "                \"1-19.\",\n",
    "                \"10-4.\",\n",
    "                \"10-7.\",\n",
    "                \"11-1.\",\n",
    "                \"11-14.\",\n",
    "                \"11-17.\",\n",
    "                \"11-20.\",\n",
    "                \"11-7.\",\n",
    "                \"13-20.\",\n",
    "                \"13-8.\",\n",
    "                \"14-10.\",\n",
    "                \"14-11.\",\n",
    "                \"14-14.\",\n",
    "                \"14-7.\",\n",
    "                \"15-1.\",\n",
    "                \"15-20.\",\n",
    "                \"16-1.\",\n",
    "                \"16-16.\",\n",
    "                \"17-10.\",\n",
    "                \"17-11.\",\n",
    "                \"17-2.\",\n",
    "                \"19-1.\",\n",
    "                \"19-16.\",\n",
    "                \"19-19.\",\n",
    "                \"19-20.\",\n",
    "                \"19-3.\",\n",
    "                \"2-10.\",\n",
    "                \"2-11.\",\n",
    "                \"2-17.\",\n",
    "                \"2-18.\",\n",
    "                \"2-20.\",\n",
    "                \"2-3.\",\n",
    "                \"2-4.\",\n",
    "                \"2-5.\",\n",
    "                \"2-6.\",\n",
    "                \"2-7.\",\n",
    "                \"2-8.\",\n",
    "                \"3-13.\",\n",
    "                \"3-18.\",\n",
    "                \"3-3.\",\n",
    "                \"4-1.\",\n",
    "                \"4-10.\",\n",
    "                \"4-11.\",\n",
    "                \"4-19.\",\n",
    "                \"5-5.\",\n",
    "                \"6-15.\",\n",
    "                \"7-10.\",\n",
    "                \"7-14.\",\n",
    "                \"8-18.\",\n",
    "                \"8-20.\",\n",
    "                \"8-3.\",\n",
    "                \"8-8.\",\n",
    "            ],\n",
    "            \"domains\": [1, 2, 3, 4, 5],\n",
    "            \"num_examples_per_domain_per_label\": -1,\n",
    "            \"pickle_path\": \"/mnt/wd500GB/CSC500/csc500-main/datasets/cores.stratified_ds.2022A.pkl\",\n",
    "            \"source_or_target_dataset\": \"target\",\n",
    "            \"x_transforms\": [\"unit_mag\", \"lowpass_+/-10MHz\", \"take_200\"],\n",
    "            \"episode_transforms\": [],\n",
    "            \"domain_prefix\": \"C_\",\n",
    "        },\n",
    "        {\n",
    "            \"labels\": [\n",
    "                \"3123D52\",\n",
    "                \"3123D65\",\n",
    "                \"3123D79\",\n",
    "                \"3123D80\",\n",
    "                \"3123D54\",\n",
    "                \"3123D70\",\n",
    "                \"3123D7B\",\n",
    "                \"3123D89\",\n",
    "                \"3123D58\",\n",
    "                \"3123D76\",\n",
    "                \"3123D7D\",\n",
    "                \"3123EFE\",\n",
    "                \"3123D64\",\n",
    "                \"3123D78\",\n",
    "                \"3123D7E\",\n",
    "                \"3124E4A\",\n",
    "            ],\n",
    "            \"domains\": [32, 38, 8, 44, 14, 50, 20, 26],\n",
    "            \"num_examples_per_domain_per_label\": 2000,\n",
    "            \"pickle_path\": \"/mnt/wd500GB/CSC500/csc500-main/datasets/oracle.Run1_framed_2000Examples_stratified_ds.2022A.pkl\",\n",
    "            \"source_or_target_dataset\": \"source\",\n",
    "            \"x_transforms\": [\"unit_mag\", \"take_200\", \"resample_20Msps_to_25Msps\"],\n",
    "            \"episode_transforms\": [],\n",
    "            \"domain_prefix\": \"O_\",\n",
    "        },\n",
    "    ],\n",
    "    \"seed\": 420,\n",
    "    \"dataset_seed\": 420,\n",
    "}\n"
   ]
  },
  {
   "cell_type": "code",
   "execution_count": 5,
   "id": "8fa1cc33",
   "metadata": {
    "execution": {
     "iopub.execute_input": "2022-03-25T22:46:02.407101Z",
     "iopub.status.busy": "2022-03-25T22:46:02.406841Z",
     "iopub.status.idle": "2022-03-25T22:46:02.421901Z",
     "shell.execute_reply": "2022-03-25T22:46:02.422331Z"
    },
    "papermill": {
     "duration": 0.033796,
     "end_time": "2022-03-25T22:46:02.422452",
     "exception": false,
     "start_time": "2022-03-25T22:46:02.388656",
     "status": "completed"
    },
    "tags": []
   },
   "outputs": [],
   "source": [
    "# Set this to True if you want to run this template directly\n",
    "STANDALONE = False\n",
    "if STANDALONE:\n",
    "    print(\"parameters not injected, running with standalone_parameters\")\n",
    "    parameters = standalone_parameters\n",
    "\n",
    "if not 'parameters' in locals() and not 'parameters' in globals():\n",
    "    raise Exception(\"Parameter injection failed\")\n",
    "\n",
    "#Use an easy dict for all the parameters\n",
    "p = EasyDict(parameters)\n",
    "\n",
    "if \"x_shape\" not in p:\n",
    "    p.x_shape = [2,256] # Default to this if we dont supply x_shape\n",
    "\n",
    "\n",
    "supplied_keys = set(p.keys())\n",
    "\n",
    "if  supplied_keys != required_parameters:\n",
    "    print(\"Parameters are incorrect\")\n",
    "    if len(supplied_keys - required_parameters)>0: print(\"Shouldn't have:\", str(supplied_keys - required_parameters))\n",
    "    if len(required_parameters - supplied_keys)>0: print(\"Need to have:\", str(required_parameters - supplied_keys))\n",
    "    raise RuntimeError(\"Parameters are incorrect\")"
   ]
  },
  {
   "cell_type": "code",
   "execution_count": 6,
   "id": "3a028d58",
   "metadata": {
    "execution": {
     "iopub.execute_input": "2022-03-25T22:46:02.457630Z",
     "iopub.status.busy": "2022-03-25T22:46:02.457371Z",
     "iopub.status.idle": "2022-03-25T22:46:02.473783Z",
     "shell.execute_reply": "2022-03-25T22:46:02.473293Z"
    },
    "papermill": {
     "duration": 0.032059,
     "end_time": "2022-03-25T22:46:02.473885",
     "exception": false,
     "start_time": "2022-03-25T22:46:02.441826",
     "status": "completed"
    },
    "tags": []
   },
   "outputs": [],
   "source": [
    "###################################\n",
    "# Set the RNGs and make it all deterministic\n",
    "###################################\n",
    "np.random.seed(p.seed)\n",
    "random.seed(p.seed)\n",
    "torch.manual_seed(p.seed)\n",
    "\n",
    "torch.use_deterministic_algorithms(True) "
   ]
  },
  {
   "cell_type": "code",
   "execution_count": 7,
   "id": "b691acf6",
   "metadata": {
    "execution": {
     "iopub.execute_input": "2022-03-25T22:46:02.507108Z",
     "iopub.status.busy": "2022-03-25T22:46:02.506856Z",
     "iopub.status.idle": "2022-03-25T22:46:02.521259Z",
     "shell.execute_reply": "2022-03-25T22:46:02.521001Z"
    },
    "papermill": {
     "duration": 0.02948,
     "end_time": "2022-03-25T22:46:02.521317",
     "exception": false,
     "start_time": "2022-03-25T22:46:02.491837",
     "status": "completed"
    },
    "tags": []
   },
   "outputs": [],
   "source": [
    "###########################################\n",
    "# The stratified datasets honor this\n",
    "###########################################\n",
    "torch.set_default_dtype(eval(p.torch_default_dtype))"
   ]
  },
  {
   "cell_type": "code",
   "execution_count": 8,
   "id": "b5fba671",
   "metadata": {
    "execution": {
     "iopub.execute_input": "2022-03-25T22:46:02.549508Z",
     "iopub.status.busy": "2022-03-25T22:46:02.549249Z",
     "iopub.status.idle": "2022-03-25T22:46:02.581231Z",
     "shell.execute_reply": "2022-03-25T22:46:02.580953Z"
    },
    "papermill": {
     "duration": 0.046683,
     "end_time": "2022-03-25T22:46:02.581295",
     "exception": false,
     "start_time": "2022-03-25T22:46:02.534612",
     "status": "completed"
    },
    "tags": []
   },
   "outputs": [],
   "source": [
    "###################################\n",
    "# Build the network(s)\n",
    "# Note: It's critical to do this AFTER setting the RNG\n",
    "###################################\n",
    "x_net = build_sequential(p.x_net)"
   ]
  },
  {
   "cell_type": "code",
   "execution_count": 9,
   "id": "5d7e61cc",
   "metadata": {
    "execution": {
     "iopub.execute_input": "2022-03-25T22:46:02.613986Z",
     "iopub.status.busy": "2022-03-25T22:46:02.613730Z",
     "iopub.status.idle": "2022-03-25T22:46:02.629465Z",
     "shell.execute_reply": "2022-03-25T22:46:02.629011Z"
    },
    "papermill": {
     "duration": 0.031311,
     "end_time": "2022-03-25T22:46:02.629571",
     "exception": false,
     "start_time": "2022-03-25T22:46:02.598260",
     "status": "completed"
    },
    "tags": []
   },
   "outputs": [],
   "source": [
    "start_time_secs = time.time()"
   ]
  },
  {
   "cell_type": "code",
   "execution_count": 10,
   "id": "c6b67dfd",
   "metadata": {
    "execution": {
     "iopub.execute_input": "2022-03-25T22:46:02.665764Z",
     "iopub.status.busy": "2022-03-25T22:46:02.665498Z",
     "iopub.status.idle": "2022-03-25T22:46:02.677050Z",
     "shell.execute_reply": "2022-03-25T22:46:02.677465Z"
    },
    "papermill": {
     "duration": 0.027853,
     "end_time": "2022-03-25T22:46:02.677597",
     "exception": false,
     "start_time": "2022-03-25T22:46:02.649744",
     "status": "completed"
    },
    "tags": []
   },
   "outputs": [],
   "source": [
    "p.domains_source = []\n",
    "p.domains_target = []\n",
    "\n",
    "\n",
    "train_original_source = []\n",
    "val_original_source   = []\n",
    "test_original_source  = []\n",
    "\n",
    "train_original_target = []\n",
    "val_original_target   = []\n",
    "test_original_target  = []"
   ]
  },
  {
   "cell_type": "code",
   "execution_count": 11,
   "id": "e3d9c3d3",
   "metadata": {
    "execution": {
     "iopub.execute_input": "2022-03-25T22:46:02.709706Z",
     "iopub.status.busy": "2022-03-25T22:46:02.709448Z",
     "iopub.status.idle": "2022-03-25T22:46:02.724811Z",
     "shell.execute_reply": "2022-03-25T22:46:02.725213Z"
    },
    "papermill": {
     "duration": 0.031533,
     "end_time": "2022-03-25T22:46:02.725334",
     "exception": false,
     "start_time": "2022-03-25T22:46:02.693801",
     "status": "completed"
    },
    "tags": []
   },
   "outputs": [],
   "source": [
    "# global_x_transform_func = lambda x: normalize(x.to(torch.get_default_dtype()), \"unit_power\") # unit_power, unit_mag\n",
    "# global_x_transform_func = lambda x: normalize(x, \"unit_power\") # unit_power, unit_mag"
   ]
  },
  {
   "cell_type": "code",
   "execution_count": 12,
   "id": "acb78fd2",
   "metadata": {
    "execution": {
     "iopub.execute_input": "2022-03-25T22:46:02.765586Z",
     "iopub.status.busy": "2022-03-25T22:46:02.765317Z",
     "iopub.status.idle": "2022-03-25T22:46:02.777558Z",
     "shell.execute_reply": "2022-03-25T22:46:02.777959Z"
    },
    "papermill": {
     "duration": 0.034507,
     "end_time": "2022-03-25T22:46:02.778096",
     "exception": false,
     "start_time": "2022-03-25T22:46:02.743589",
     "status": "completed"
    },
    "tags": []
   },
   "outputs": [],
   "source": [
    "def add_dataset(\n",
    "    labels,\n",
    "    domains,\n",
    "    pickle_path,\n",
    "    x_transforms,\n",
    "    episode_transforms,\n",
    "    domain_prefix,\n",
    "    num_examples_per_domain_per_label,\n",
    "    source_or_target_dataset:str,\n",
    "    iterator_seed=p.seed,\n",
    "    dataset_seed=p.dataset_seed,\n",
    "    n_shot=p.n_shot,\n",
    "    n_way=p.n_way,\n",
    "    n_query=p.n_query,\n",
    "    train_val_test_k_factors=(p.train_k_factor,p.val_k_factor,p.test_k_factor),\n",
    "):\n",
    "   \n",
    "    if x_transforms == []: x_transform = None\n",
    "    else: x_transform = get_chained_transform(x_transforms)\n",
    "    \n",
    "    if episode_transforms == []: episode_transform = None\n",
    "    else: raise Exception(\"episode_transforms not implemented\")\n",
    "    \n",
    "    episode_transform = lambda tup, _prefix=domain_prefix: (_prefix + str(tup[0]), tup[1])\n",
    "\n",
    "\n",
    "    eaf = Episodic_Accessor_Factory(\n",
    "        labels=labels,\n",
    "        domains=domains,\n",
    "        num_examples_per_domain_per_label=num_examples_per_domain_per_label,\n",
    "        iterator_seed=iterator_seed,\n",
    "        dataset_seed=dataset_seed,\n",
    "        n_shot=n_shot,\n",
    "        n_way=n_way,\n",
    "        n_query=n_query,\n",
    "        train_val_test_k_factors=train_val_test_k_factors,\n",
    "        pickle_path=pickle_path,\n",
    "        x_transform_func=x_transform,\n",
    "    )\n",
    "\n",
    "    train, val, test = eaf.get_train(), eaf.get_val(), eaf.get_test()\n",
    "    train = Lazy_Iterable_Wrapper(train, episode_transform)\n",
    "    val = Lazy_Iterable_Wrapper(val, episode_transform)\n",
    "    test = Lazy_Iterable_Wrapper(test, episode_transform)\n",
    "\n",
    "    if source_or_target_dataset==\"source\":\n",
    "        train_original_source.append(train)\n",
    "        val_original_source.append(val)\n",
    "        test_original_source.append(test)\n",
    "\n",
    "        p.domains_source.extend(\n",
    "            [domain_prefix + str(u) for u in domains]\n",
    "        )\n",
    "    elif source_or_target_dataset==\"target\":\n",
    "        train_original_target.append(train)\n",
    "        val_original_target.append(val)\n",
    "        test_original_target.append(test)\n",
    "        p.domains_target.extend(\n",
    "            [domain_prefix + str(u) for u in domains]\n",
    "        )\n",
    "    else:\n",
    "        raise Exception(f\"invalid source_or_target_dataset: {source_or_target_dataset}\")\n",
    "    "
   ]
  },
  {
   "cell_type": "code",
   "execution_count": 13,
   "id": "fe266617",
   "metadata": {
    "execution": {
     "iopub.execute_input": "2022-03-25T22:46:02.811226Z",
     "iopub.status.busy": "2022-03-25T22:46:02.810972Z",
     "iopub.status.idle": "2022-03-25T22:46:56.082719Z",
     "shell.execute_reply": "2022-03-25T22:46:56.082417Z"
    },
    "papermill": {
     "duration": 53.28681,
     "end_time": "2022-03-25T22:46:56.082786",
     "exception": false,
     "start_time": "2022-03-25T22:46:02.795976",
     "status": "completed"
    },
    "tags": []
   },
   "outputs": [],
   "source": [
    "for ds in p.datasets:\n",
    "    add_dataset(**ds)"
   ]
  },
  {
   "cell_type": "code",
   "execution_count": 14,
   "id": "b90d65ac",
   "metadata": {
    "execution": {
     "iopub.execute_input": "2022-03-25T22:46:56.114642Z",
     "iopub.status.busy": "2022-03-25T22:46:56.114253Z",
     "iopub.status.idle": "2022-03-25T22:46:56.125928Z",
     "shell.execute_reply": "2022-03-25T22:46:56.125439Z"
    },
    "papermill": {
     "duration": 0.027949,
     "end_time": "2022-03-25T22:46:56.126054",
     "exception": false,
     "start_time": "2022-03-25T22:46:56.098105",
     "status": "completed"
    },
    "tags": []
   },
   "outputs": [],
   "source": [
    "# from steves_utils.CORES.utils import (\n",
    "#     ALL_NODES,\n",
    "#     ALL_NODES_MINIMUM_1000_EXAMPLES,\n",
    "#     ALL_DAYS\n",
    "# )\n",
    "\n",
    "# add_dataset(\n",
    "#     labels=ALL_NODES,\n",
    "#     domains = ALL_DAYS,\n",
    "#     num_examples_per_domain_per_label=100,\n",
    "#     pickle_path=os.path.join(get_datasets_base_path(), \"cores.stratified_ds.2022A.pkl\"),\n",
    "#     source_or_target_dataset=\"target\",\n",
    "#     x_transform_func=global_x_transform_func,\n",
    "#     domain_modifier=lambda u: f\"cores_{u}\"\n",
    "# )"
   ]
  },
  {
   "cell_type": "code",
   "execution_count": 15,
   "id": "76db484d",
   "metadata": {
    "execution": {
     "iopub.execute_input": "2022-03-25T22:46:56.162043Z",
     "iopub.status.busy": "2022-03-25T22:46:56.161751Z",
     "iopub.status.idle": "2022-03-25T22:46:56.175820Z",
     "shell.execute_reply": "2022-03-25T22:46:56.175296Z"
    },
    "papermill": {
     "duration": 0.030799,
     "end_time": "2022-03-25T22:46:56.175929",
     "exception": false,
     "start_time": "2022-03-25T22:46:56.145130",
     "status": "completed"
    },
    "tags": []
   },
   "outputs": [],
   "source": [
    "# from steves_utils.ORACLE.utils_v2 import (\n",
    "#     ALL_DISTANCES_FEET,\n",
    "#     ALL_RUNS,\n",
    "#     ALL_SERIAL_NUMBERS,\n",
    "# )\n",
    "\n",
    "\n",
    "# add_dataset(\n",
    "#     labels=ALL_SERIAL_NUMBERS,\n",
    "#     domains = list(set(ALL_DISTANCES_FEET) - {2,62}),\n",
    "#     num_examples_per_domain_per_label=100,\n",
    "#     pickle_path=os.path.join(get_datasets_base_path(), \"oracle.Run2_framed_2000Examples_stratified_ds.2022A.pkl\"),\n",
    "#     source_or_target_dataset=\"source\",\n",
    "#     x_transform_func=global_x_transform_func,\n",
    "#     domain_modifier=lambda u: f\"oracle1_{u}\"\n",
    "# )\n"
   ]
  },
  {
   "cell_type": "code",
   "execution_count": 16,
   "id": "97dea9d2",
   "metadata": {
    "execution": {
     "iopub.execute_input": "2022-03-25T22:46:56.213984Z",
     "iopub.status.busy": "2022-03-25T22:46:56.213717Z",
     "iopub.status.idle": "2022-03-25T22:46:56.228001Z",
     "shell.execute_reply": "2022-03-25T22:46:56.227539Z"
    },
    "papermill": {
     "duration": 0.031564,
     "end_time": "2022-03-25T22:46:56.228110",
     "exception": false,
     "start_time": "2022-03-25T22:46:56.196546",
     "status": "completed"
    },
    "tags": []
   },
   "outputs": [],
   "source": [
    "# from steves_utils.ORACLE.utils_v2 import (\n",
    "#     ALL_DISTANCES_FEET,\n",
    "#     ALL_RUNS,\n",
    "#     ALL_SERIAL_NUMBERS,\n",
    "# )\n",
    "\n",
    "\n",
    "# add_dataset(\n",
    "#     labels=ALL_SERIAL_NUMBERS,\n",
    "#     domains = list(set(ALL_DISTANCES_FEET) - {2,62,56}),\n",
    "#     num_examples_per_domain_per_label=100,\n",
    "#     pickle_path=os.path.join(get_datasets_base_path(), \"oracle.Run2_framed_2000Examples_stratified_ds.2022A.pkl\"),\n",
    "#     source_or_target_dataset=\"source\",\n",
    "#     x_transform_func=global_x_transform_func,\n",
    "#     domain_modifier=lambda u: f\"oracle2_{u}\"\n",
    "# )"
   ]
  },
  {
   "cell_type": "code",
   "execution_count": 17,
   "id": "6f289866",
   "metadata": {
    "execution": {
     "iopub.execute_input": "2022-03-25T22:46:56.264252Z",
     "iopub.status.busy": "2022-03-25T22:46:56.263983Z",
     "iopub.status.idle": "2022-03-25T22:46:56.274506Z",
     "shell.execute_reply": "2022-03-25T22:46:56.274119Z"
    },
    "papermill": {
     "duration": 0.026187,
     "end_time": "2022-03-25T22:46:56.274590",
     "exception": false,
     "start_time": "2022-03-25T22:46:56.248403",
     "status": "completed"
    },
    "tags": []
   },
   "outputs": [],
   "source": [
    "# add_dataset(\n",
    "#     labels=list(range(19)),\n",
    "#     domains = [0,1,2],\n",
    "#     num_examples_per_domain_per_label=100,\n",
    "#     pickle_path=os.path.join(get_datasets_base_path(), \"metehan.stratified_ds.2022A.pkl\"),\n",
    "#     source_or_target_dataset=\"target\",\n",
    "#     x_transform_func=global_x_transform_func,\n",
    "#     domain_modifier=lambda u: f\"met_{u}\"\n",
    "# )"
   ]
  },
  {
   "cell_type": "code",
   "execution_count": 18,
   "id": "86a863c3",
   "metadata": {
    "execution": {
     "iopub.execute_input": "2022-03-25T22:46:56.308367Z",
     "iopub.status.busy": "2022-03-25T22:46:56.308094Z",
     "iopub.status.idle": "2022-03-25T22:46:56.319351Z",
     "shell.execute_reply": "2022-03-25T22:46:56.318951Z"
    },
    "papermill": {
     "duration": 0.027322,
     "end_time": "2022-03-25T22:46:56.319435",
     "exception": false,
     "start_time": "2022-03-25T22:46:56.292113",
     "status": "completed"
    },
    "tags": []
   },
   "outputs": [],
   "source": [
    "# # from steves_utils.wisig.utils import (\n",
    "# #     ALL_NODES_MINIMUM_100_EXAMPLES,\n",
    "# #     ALL_NODES_MINIMUM_500_EXAMPLES,\n",
    "# #     ALL_NODES_MINIMUM_1000_EXAMPLES,\n",
    "# #     ALL_DAYS\n",
    "# # )\n",
    "\n",
    "# import steves_utils.wisig.utils as wisig\n",
    "\n",
    "\n",
    "# add_dataset(\n",
    "#     labels=wisig.ALL_NODES_MINIMUM_100_EXAMPLES,\n",
    "#     domains = wisig.ALL_DAYS,\n",
    "#     num_examples_per_domain_per_label=100,\n",
    "#     pickle_path=os.path.join(get_datasets_base_path(), \"wisig.node3-19.stratified_ds.2022A.pkl\"),\n",
    "#     source_or_target_dataset=\"target\",\n",
    "#     x_transform_func=global_x_transform_func,\n",
    "#     domain_modifier=lambda u: f\"wisig_{u}\"\n",
    "# )"
   ]
  },
  {
   "cell_type": "code",
   "execution_count": 19,
   "id": "fd5442bc",
   "metadata": {
    "execution": {
     "iopub.execute_input": "2022-03-25T22:46:56.357438Z",
     "iopub.status.busy": "2022-03-25T22:46:56.357152Z",
     "iopub.status.idle": "2022-03-25T22:46:56.368195Z",
     "shell.execute_reply": "2022-03-25T22:46:56.368401Z"
    },
    "papermill": {
     "duration": 0.029428,
     "end_time": "2022-03-25T22:46:56.368478",
     "exception": false,
     "start_time": "2022-03-25T22:46:56.339050",
     "status": "completed"
    },
    "tags": []
   },
   "outputs": [],
   "source": [
    "###################################\n",
    "# Build the dataset\n",
    "###################################\n",
    "train_original_source = Iterable_Aggregator(train_original_source, p.seed)\n",
    "val_original_source = Iterable_Aggregator(val_original_source, p.seed)\n",
    "test_original_source = Iterable_Aggregator(test_original_source, p.seed)\n",
    "\n",
    "\n",
    "train_original_target = Iterable_Aggregator(train_original_target, p.seed)\n",
    "val_original_target = Iterable_Aggregator(val_original_target, p.seed)\n",
    "test_original_target = Iterable_Aggregator(test_original_target, p.seed)\n",
    "\n",
    "# For CNN We only use X and Y. And we only train on the source.\n",
    "# Properly form the data using a transform lambda and Lazy_Iterable_Wrapper. Finally wrap them in a dataloader\n",
    "\n",
    "transform_lambda = lambda ex: ex[1] # Original is (<domain>, <episode>) so we strip down to episode only\n",
    "\n",
    "train_processed_source = Lazy_Iterable_Wrapper(train_original_source, transform_lambda)\n",
    "val_processed_source   = Lazy_Iterable_Wrapper(val_original_source, transform_lambda)\n",
    "test_processed_source  = Lazy_Iterable_Wrapper(test_original_source, transform_lambda)\n",
    "\n",
    "train_processed_target = Lazy_Iterable_Wrapper(train_original_target, transform_lambda)\n",
    "val_processed_target   = Lazy_Iterable_Wrapper(val_original_target, transform_lambda)\n",
    "test_processed_target  = Lazy_Iterable_Wrapper(test_original_target, transform_lambda)\n",
    "\n",
    "datasets = EasyDict({\n",
    "    \"source\": {\n",
    "        \"original\": {\"train\":train_original_source, \"val\":val_original_source, \"test\":test_original_source},\n",
    "        \"processed\": {\"train\":train_processed_source, \"val\":val_processed_source, \"test\":test_processed_source}\n",
    "    },\n",
    "    \"target\": {\n",
    "        \"original\": {\"train\":train_original_target, \"val\":val_original_target, \"test\":test_original_target},\n",
    "        \"processed\": {\"train\":train_processed_target, \"val\":val_processed_target, \"test\":test_processed_target}\n",
    "    },\n",
    "})"
   ]
  },
  {
   "cell_type": "code",
   "execution_count": 20,
   "id": "5b3c01fc",
   "metadata": {
    "execution": {
     "iopub.execute_input": "2022-03-25T22:46:56.405079Z",
     "iopub.status.busy": "2022-03-25T22:46:56.404806Z",
     "iopub.status.idle": "2022-03-25T22:47:03.366218Z",
     "shell.execute_reply": "2022-03-25T22:47:03.366693Z"
    },
    "papermill": {
     "duration": 6.9787,
     "end_time": "2022-03-25T22:47:03.366840",
     "exception": false,
     "start_time": "2022-03-25T22:46:56.388140",
     "status": "completed"
    },
    "tags": []
   },
   "outputs": [
    {
     "name": "stdout",
     "output_type": "stream",
     "text": [
      "{'O_14', 'O_26', 'O_32', 'O_50', 'O_44', 'O_8', 'O_20', 'O_38'}\n"
     ]
    },
    {
     "name": "stdout",
     "output_type": "stream",
     "text": [
      "{'C_5', 'C_4', 'C_3', 'C_2', 'C_1'}\n"
     ]
    },
    {
     "name": "stdout",
     "output_type": "stream",
     "text": [
      "tensor([[[ 0.6771,  0.6049, -0.6388,  ...,  0.1252, -1.1136,  0.0521],\n",
      "         [ 0.1621,  1.3147,  0.4124,  ...,  0.8546,  0.6386,  0.8458]],\n",
      "\n",
      "        [[-0.6997,  0.2883,  0.8559,  ...,  0.5130,  1.2371,  0.6823],\n",
      "         [-0.5248, -1.3202,  0.2191,  ..., -0.5431,  0.3696, -0.6693]],\n",
      "\n",
      "        [[-0.0389,  1.1807,  0.4981,  ...,  0.8179,  0.4623,  0.8006],\n",
      "         [-0.6127, -0.4203,  0.7069,  ...,  0.0047,  1.1766,  0.0143]],\n",
      "\n",
      "        ...,\n",
      "\n",
      "        [[ 0.7358,  0.4660, -0.7318,  ..., -0.0115, -1.2610, -0.1188],\n",
      "         [ 0.1727,  1.1991,  0.2903,  ...,  0.8442,  0.6025,  1.0250]],\n",
      "\n",
      "        [[ 0.9985,  0.7848, -1.0215,  ..., -0.1714, -0.3680,  1.0334],\n",
      "         [ 0.1019,  0.8947,  0.2864,  ...,  0.9916,  0.8126,  0.6934]],\n",
      "\n",
      "        [[ 0.8913,  0.9787, -0.7169,  ...,  0.5588,  0.5193,  1.2103],\n",
      "         [-0.7172,  0.1559,  1.1444,  ...,  1.0353,  0.5671, -0.4114]]])\n"
     ]
    }
   ],
   "source": [
    "from steves_utils.transforms import get_average_magnitude, get_average_power\n",
    "\n",
    "print(set([u for u,_ in val_original_source]))\n",
    "print(set([u for u,_ in val_original_target]))\n",
    "\n",
    "s_x, s_y, q_x, q_y, _ = next(iter(train_processed_source))\n",
    "print(s_x)\n",
    "\n",
    "# for ds in [\n",
    "#     train_processed_source,\n",
    "#     val_processed_source,\n",
    "#     test_processed_source,\n",
    "#     train_processed_target,\n",
    "#     val_processed_target,\n",
    "#     test_processed_target\n",
    "# ]:\n",
    "#     for s_x, s_y, q_x, q_y, _ in ds:\n",
    "#         for X in (s_x, q_x):\n",
    "#             for x in X:\n",
    "#                 assert np.isclose(get_average_magnitude(x.numpy()), 1.0)\n",
    "#                 assert np.isclose(get_average_power(x.numpy()), 1.0)\n",
    "                "
   ]
  },
  {
   "cell_type": "code",
   "execution_count": 21,
   "id": "bbdacba1",
   "metadata": {
    "execution": {
     "iopub.execute_input": "2022-03-25T22:47:03.411431Z",
     "iopub.status.busy": "2022-03-25T22:47:03.406087Z",
     "iopub.status.idle": "2022-03-25T22:47:03.457514Z",
     "shell.execute_reply": "2022-03-25T22:47:03.457105Z"
    },
    "papermill": {
     "duration": 0.07052,
     "end_time": "2022-03-25T22:47:03.457614",
     "exception": false,
     "start_time": "2022-03-25T22:47:03.387094",
     "status": "completed"
    },
    "tags": []
   },
   "outputs": [
    {
     "name": "stdout",
     "output_type": "stream",
     "text": [
      "(2, 200)\n"
     ]
    }
   ],
   "source": [
    "###################################\n",
    "# Build the model\n",
    "###################################\n",
    "# easfsl only wants a tuple for the shape\n",
    "model = Steves_Prototypical_Network(x_net, device=p.device, x_shape=tuple(p.x_shape))\n",
    "optimizer = Adam(params=model.parameters(), lr=p.lr)"
   ]
  },
  {
   "cell_type": "code",
   "execution_count": 22,
   "id": "22b39ac5",
   "metadata": {
    "execution": {
     "iopub.execute_input": "2022-03-25T22:47:03.497833Z",
     "iopub.status.busy": "2022-03-25T22:47:03.497394Z",
     "iopub.status.idle": "2022-03-26T01:09:34.712909Z",
     "shell.execute_reply": "2022-03-26T01:09:34.712661Z"
    },
    "papermill": {
     "duration": 8551.235432,
     "end_time": "2022-03-26T01:09:34.712971",
     "exception": false,
     "start_time": "2022-03-25T22:47:03.477539",
     "status": "completed"
    },
    "tags": []
   },
   "outputs": [
    {
     "name": "stdout",
     "output_type": "stream",
     "text": [
      "epoch: 1, [batch: 1 / 6720], examples_per_second: 46.7885, train_label_loss: 3.0260, \n"
     ]
    },
    {
     "name": "stdout",
     "output_type": "stream",
     "text": [
      "epoch: 1, [batch: 672 / 6720], examples_per_second: 1875.6295, train_label_loss: 1.2497, \n"
     ]
    },
    {
     "name": "stdout",
     "output_type": "stream",
     "text": [
      "epoch: 1, [batch: 1344 / 6720], examples_per_second: 1877.6446, train_label_loss: 1.1374, \n"
     ]
    },
    {
     "name": "stdout",
     "output_type": "stream",
     "text": [
      "epoch: 1, [batch: 2016 / 6720], examples_per_second: 1874.9066, train_label_loss: 1.1968, \n"
     ]
    },
    {
     "name": "stdout",
     "output_type": "stream",
     "text": [
      "epoch: 1, [batch: 2688 / 6720], examples_per_second: 1872.3580, train_label_loss: 0.9034, \n"
     ]
    },
    {
     "name": "stdout",
     "output_type": "stream",
     "text": [
      "epoch: 1, [batch: 3360 / 6720], examples_per_second: 1872.2608, train_label_loss: 1.0103, \n"
     ]
    },
    {
     "name": "stdout",
     "output_type": "stream",
     "text": [
      "epoch: 1, [batch: 4032 / 6720], examples_per_second: 2329.8244, train_label_loss: 1.0238, \n"
     ]
    },
    {
     "name": "stdout",
     "output_type": "stream",
     "text": [
      "epoch: 1, [batch: 4704 / 6720], examples_per_second: 2213.3852, train_label_loss: 0.7759, \n"
     ]
    },
    {
     "name": "stdout",
     "output_type": "stream",
     "text": [
      "epoch: 1, [batch: 5376 / 6720], examples_per_second: 1874.5740, train_label_loss: 1.5270, \n"
     ]
    },
    {
     "name": "stdout",
     "output_type": "stream",
     "text": [
      "epoch: 1, [batch: 6048 / 6720], examples_per_second: 1875.3139, train_label_loss: 0.6569, \n"
     ]
    },
    {
     "name": "stdout",
     "output_type": "stream",
     "text": [
      "=============================================================\n",
      "epoch: 1, source_val_acc_label: 0.6872, target_val_acc_label: 0.5207, source_val_label_loss: 9.3789, target_val_label_loss: 2836.9343, \n",
      "=============================================================\n"
     ]
    },
    {
     "name": "stdout",
     "output_type": "stream",
     "text": [
      "New best\n"
     ]
    },
    {
     "name": "stdout",
     "output_type": "stream",
     "text": [
      "epoch: 2, [batch: 1 / 6720], examples_per_second: 2.7431, train_label_loss: 1.3254, \n"
     ]
    },
    {
     "name": "stdout",
     "output_type": "stream",
     "text": [
      "epoch: 2, [batch: 672 / 6720], examples_per_second: 1876.9479, train_label_loss: 1.0862, \n"
     ]
    },
    {
     "name": "stdout",
     "output_type": "stream",
     "text": [
      "epoch: 2, [batch: 1344 / 6720], examples_per_second: 1881.4637, train_label_loss: 0.8669, \n"
     ]
    },
    {
     "name": "stdout",
     "output_type": "stream",
     "text": [
      "epoch: 2, [batch: 2016 / 6720], examples_per_second: 1877.7342, train_label_loss: 0.9204, \n"
     ]
    },
    {
     "name": "stdout",
     "output_type": "stream",
     "text": [
      "epoch: 2, [batch: 2688 / 6720], examples_per_second: 1874.4489, train_label_loss: 0.8509, \n"
     ]
    },
    {
     "name": "stdout",
     "output_type": "stream",
     "text": [
      "epoch: 2, [batch: 3360 / 6720], examples_per_second: 1879.0646, train_label_loss: 0.7381, \n"
     ]
    },
    {
     "name": "stdout",
     "output_type": "stream",
     "text": [
      "epoch: 2, [batch: 4032 / 6720], examples_per_second: 2319.4725, train_label_loss: 0.5970, \n"
     ]
    },
    {
     "name": "stdout",
     "output_type": "stream",
     "text": [
      "epoch: 2, [batch: 4704 / 6720], examples_per_second: 2227.4892, train_label_loss: 0.8624, \n"
     ]
    },
    {
     "name": "stdout",
     "output_type": "stream",
     "text": [
      "epoch: 2, [batch: 5376 / 6720], examples_per_second: 1877.9623, train_label_loss: 1.1326, \n"
     ]
    },
    {
     "name": "stdout",
     "output_type": "stream",
     "text": [
      "epoch: 2, [batch: 6048 / 6720], examples_per_second: 1858.4453, train_label_loss: 0.4752, \n"
     ]
    },
    {
     "name": "stdout",
     "output_type": "stream",
     "text": [
      "=============================================================\n",
      "epoch: 2, source_val_acc_label: 0.7354, target_val_acc_label: 0.5780, source_val_label_loss: 0.7190, target_val_label_loss: 223.7365, \n",
      "=============================================================\n"
     ]
    },
    {
     "name": "stdout",
     "output_type": "stream",
     "text": [
      "New best\n"
     ]
    },
    {
     "name": "stdout",
     "output_type": "stream",
     "text": [
      "epoch: 3, [batch: 1 / 6720], examples_per_second: 2.7318, train_label_loss: 0.4704, \n"
     ]
    },
    {
     "name": "stdout",
     "output_type": "stream",
     "text": [
      "epoch: 3, [batch: 672 / 6720], examples_per_second: 1877.5798, train_label_loss: 0.7772, \n"
     ]
    },
    {
     "name": "stdout",
     "output_type": "stream",
     "text": [
      "epoch: 3, [batch: 1344 / 6720], examples_per_second: 1880.3978, train_label_loss: 1.0618, \n"
     ]
    },
    {
     "name": "stdout",
     "output_type": "stream",
     "text": [
      "epoch: 3, [batch: 2016 / 6720], examples_per_second: 1878.2530, train_label_loss: 0.6208, \n"
     ]
    },
    {
     "name": "stdout",
     "output_type": "stream",
     "text": [
      "epoch: 3, [batch: 2688 / 6720], examples_per_second: 1873.6595, train_label_loss: 0.5768, \n"
     ]
    },
    {
     "name": "stdout",
     "output_type": "stream",
     "text": [
      "epoch: 3, [batch: 3360 / 6720], examples_per_second: 1876.4669, train_label_loss: 0.7054, \n"
     ]
    },
    {
     "name": "stdout",
     "output_type": "stream",
     "text": [
      "epoch: 3, [batch: 4032 / 6720], examples_per_second: 2310.8974, train_label_loss: 0.4113, \n"
     ]
    },
    {
     "name": "stdout",
     "output_type": "stream",
     "text": [
      "epoch: 3, [batch: 4704 / 6720], examples_per_second: 2220.7038, train_label_loss: 0.6215, \n"
     ]
    },
    {
     "name": "stdout",
     "output_type": "stream",
     "text": [
      "epoch: 3, [batch: 5376 / 6720], examples_per_second: 1877.1646, train_label_loss: 0.5176, \n"
     ]
    },
    {
     "name": "stdout",
     "output_type": "stream",
     "text": [
      "epoch: 3, [batch: 6048 / 6720], examples_per_second: 1876.4502, train_label_loss: 0.4136, \n"
     ]
    },
    {
     "name": "stdout",
     "output_type": "stream",
     "text": [
      "=============================================================\n",
      "epoch: 3, source_val_acc_label: 0.7915, target_val_acc_label: 0.5865, source_val_label_loss: 0.5856, target_val_label_loss: 308.4452, \n",
      "=============================================================\n"
     ]
    },
    {
     "name": "stdout",
     "output_type": "stream",
     "text": [
      "New best\n"
     ]
    },
    {
     "name": "stdout",
     "output_type": "stream",
     "text": [
      "epoch: 4, [batch: 1 / 6720], examples_per_second: 2.7247, train_label_loss: 0.5130, \n"
     ]
    },
    {
     "name": "stdout",
     "output_type": "stream",
     "text": [
      "epoch: 4, [batch: 672 / 6720], examples_per_second: 1854.0483, train_label_loss: 0.6958, \n"
     ]
    },
    {
     "name": "stdout",
     "output_type": "stream",
     "text": [
      "epoch: 4, [batch: 1344 / 6720], examples_per_second: 1767.4995, train_label_loss: 0.2770, \n"
     ]
    },
    {
     "name": "stdout",
     "output_type": "stream",
     "text": [
      "epoch: 4, [batch: 2016 / 6720], examples_per_second: 1840.5384, train_label_loss: 0.4266, \n"
     ]
    },
    {
     "name": "stdout",
     "output_type": "stream",
     "text": [
      "epoch: 4, [batch: 2688 / 6720], examples_per_second: 1854.6231, train_label_loss: 0.7588, \n"
     ]
    },
    {
     "name": "stdout",
     "output_type": "stream",
     "text": [
      "epoch: 4, [batch: 3360 / 6720], examples_per_second: 1856.8104, train_label_loss: 0.8949, \n"
     ]
    },
    {
     "name": "stdout",
     "output_type": "stream",
     "text": [
      "epoch: 4, [batch: 4032 / 6720], examples_per_second: 2295.4224, train_label_loss: 0.3996, \n"
     ]
    },
    {
     "name": "stdout",
     "output_type": "stream",
     "text": [
      "epoch: 4, [batch: 4704 / 6720], examples_per_second: 2177.6797, train_label_loss: 0.5719, \n"
     ]
    },
    {
     "name": "stdout",
     "output_type": "stream",
     "text": [
      "epoch: 4, [batch: 5376 / 6720], examples_per_second: 1825.6601, train_label_loss: 0.6182, \n"
     ]
    },
    {
     "name": "stdout",
     "output_type": "stream",
     "text": [
      "epoch: 4, [batch: 6048 / 6720], examples_per_second: 1838.7871, train_label_loss: 0.4982, \n"
     ]
    },
    {
     "name": "stdout",
     "output_type": "stream",
     "text": [
      "=============================================================\n",
      "epoch: 4, source_val_acc_label: 0.7858, target_val_acc_label: 0.6083, source_val_label_loss: 0.5820, target_val_label_loss: 221.1481, \n",
      "=============================================================\n"
     ]
    },
    {
     "name": "stdout",
     "output_type": "stream",
     "text": [
      "New best\n"
     ]
    },
    {
     "name": "stdout",
     "output_type": "stream",
     "text": [
      "epoch: 5, [batch: 1 / 6720], examples_per_second: 2.7081, train_label_loss: 0.4466, \n"
     ]
    },
    {
     "name": "stdout",
     "output_type": "stream",
     "text": [
      "epoch: 5, [batch: 672 / 6720], examples_per_second: 1858.6601, train_label_loss: 0.9272, \n"
     ]
    },
    {
     "name": "stdout",
     "output_type": "stream",
     "text": [
      "epoch: 5, [batch: 1344 / 6720], examples_per_second: 1860.9056, train_label_loss: 0.5483, \n"
     ]
    },
    {
     "name": "stdout",
     "output_type": "stream",
     "text": [
      "epoch: 5, [batch: 2016 / 6720], examples_per_second: 1857.8690, train_label_loss: 0.3389, \n"
     ]
    },
    {
     "name": "stdout",
     "output_type": "stream",
     "text": [
      "epoch: 5, [batch: 2688 / 6720], examples_per_second: 1853.5859, train_label_loss: 1.0753, \n"
     ]
    },
    {
     "name": "stdout",
     "output_type": "stream",
     "text": [
      "epoch: 5, [batch: 3360 / 6720], examples_per_second: 1855.3062, train_label_loss: 0.3395, \n"
     ]
    },
    {
     "name": "stdout",
     "output_type": "stream",
     "text": [
      "epoch: 5, [batch: 4032 / 6720], examples_per_second: 2203.5756, train_label_loss: 0.4265, \n"
     ]
    },
    {
     "name": "stdout",
     "output_type": "stream",
     "text": [
      "epoch: 5, [batch: 4704 / 6720], examples_per_second: 2166.9440, train_label_loss: 0.4757, \n"
     ]
    },
    {
     "name": "stdout",
     "output_type": "stream",
     "text": [
      "epoch: 5, [batch: 5376 / 6720], examples_per_second: 1799.4874, train_label_loss: 0.4271, \n"
     ]
    },
    {
     "name": "stdout",
     "output_type": "stream",
     "text": [
      "epoch: 5, [batch: 6048 / 6720], examples_per_second: 1774.1275, train_label_loss: 0.2123, \n"
     ]
    },
    {
     "name": "stdout",
     "output_type": "stream",
     "text": [
      "=============================================================\n",
      "epoch: 5, source_val_acc_label: 0.8308, target_val_acc_label: 0.6164, source_val_label_loss: 0.4775, target_val_label_loss: 279.3787, \n",
      "=============================================================\n"
     ]
    },
    {
     "name": "stdout",
     "output_type": "stream",
     "text": [
      "New best\n"
     ]
    },
    {
     "name": "stdout",
     "output_type": "stream",
     "text": [
      "epoch: 6, [batch: 1 / 6720], examples_per_second: 2.6046, train_label_loss: 0.1460, \n"
     ]
    },
    {
     "name": "stdout",
     "output_type": "stream",
     "text": [
      "epoch: 6, [batch: 672 / 6720], examples_per_second: 1801.8444, train_label_loss: 0.3153, \n"
     ]
    },
    {
     "name": "stdout",
     "output_type": "stream",
     "text": [
      "epoch: 6, [batch: 1344 / 6720], examples_per_second: 1817.0109, train_label_loss: 0.6532, \n"
     ]
    },
    {
     "name": "stdout",
     "output_type": "stream",
     "text": [
      "epoch: 6, [batch: 2016 / 6720], examples_per_second: 1829.2161, train_label_loss: 0.8308, \n"
     ]
    },
    {
     "name": "stdout",
     "output_type": "stream",
     "text": [
      "epoch: 6, [batch: 2688 / 6720], examples_per_second: 1854.4076, train_label_loss: 0.1840, \n"
     ]
    },
    {
     "name": "stdout",
     "output_type": "stream",
     "text": [
      "epoch: 6, [batch: 3360 / 6720], examples_per_second: 1819.2453, train_label_loss: 0.2402, \n"
     ]
    },
    {
     "name": "stdout",
     "output_type": "stream",
     "text": [
      "epoch: 6, [batch: 4032 / 6720], examples_per_second: 2294.1230, train_label_loss: 0.4182, \n"
     ]
    },
    {
     "name": "stdout",
     "output_type": "stream",
     "text": [
      "epoch: 6, [batch: 4704 / 6720], examples_per_second: 2207.9936, train_label_loss: 0.6233, \n"
     ]
    },
    {
     "name": "stdout",
     "output_type": "stream",
     "text": [
      "epoch: 6, [batch: 5376 / 6720], examples_per_second: 1858.2931, train_label_loss: 0.9558, \n"
     ]
    },
    {
     "name": "stdout",
     "output_type": "stream",
     "text": [
      "epoch: 6, [batch: 6048 / 6720], examples_per_second: 1857.6719, train_label_loss: 0.8609, \n"
     ]
    },
    {
     "name": "stdout",
     "output_type": "stream",
     "text": [
      "=============================================================\n",
      "epoch: 6, source_val_acc_label: 0.8444, target_val_acc_label: 0.6366, source_val_label_loss: 0.4437, target_val_label_loss: 237.5697, \n",
      "=============================================================\n"
     ]
    },
    {
     "name": "stdout",
     "output_type": "stream",
     "text": [
      "New best\n"
     ]
    },
    {
     "name": "stdout",
     "output_type": "stream",
     "text": [
      "epoch: 7, [batch: 1 / 6720], examples_per_second: 2.7062, train_label_loss: 0.2038, \n"
     ]
    },
    {
     "name": "stdout",
     "output_type": "stream",
     "text": [
      "epoch: 7, [batch: 672 / 6720], examples_per_second: 1858.3133, train_label_loss: 0.8596, \n"
     ]
    },
    {
     "name": "stdout",
     "output_type": "stream",
     "text": [
      "epoch: 7, [batch: 1344 / 6720], examples_per_second: 1858.8597, train_label_loss: 0.2427, \n"
     ]
    },
    {
     "name": "stdout",
     "output_type": "stream",
     "text": [
      "epoch: 7, [batch: 2016 / 6720], examples_per_second: 1857.8587, train_label_loss: 0.3040, \n"
     ]
    },
    {
     "name": "stdout",
     "output_type": "stream",
     "text": [
      "epoch: 7, [batch: 2688 / 6720], examples_per_second: 1856.3427, train_label_loss: 0.2797, \n"
     ]
    },
    {
     "name": "stdout",
     "output_type": "stream",
     "text": [
      "epoch: 7, [batch: 3360 / 6720], examples_per_second: 1857.3837, train_label_loss: 0.2424, \n"
     ]
    },
    {
     "name": "stdout",
     "output_type": "stream",
     "text": [
      "epoch: 7, [batch: 4032 / 6720], examples_per_second: 2258.0054, train_label_loss: 0.3658, \n"
     ]
    },
    {
     "name": "stdout",
     "output_type": "stream",
     "text": [
      "epoch: 7, [batch: 4704 / 6720], examples_per_second: 2237.2694, train_label_loss: 0.8086, \n"
     ]
    },
    {
     "name": "stdout",
     "output_type": "stream",
     "text": [
      "epoch: 7, [batch: 5376 / 6720], examples_per_second: 1876.7829, train_label_loss: 0.4364, \n"
     ]
    },
    {
     "name": "stdout",
     "output_type": "stream",
     "text": [
      "epoch: 7, [batch: 6048 / 6720], examples_per_second: 1876.8186, train_label_loss: 0.5719, \n"
     ]
    },
    {
     "name": "stdout",
     "output_type": "stream",
     "text": [
      "=============================================================\n",
      "epoch: 7, source_val_acc_label: 0.8330, target_val_acc_label: 0.6248, source_val_label_loss: 0.4546, target_val_label_loss: 202.1128, \n",
      "=============================================================\n"
     ]
    },
    {
     "name": "stdout",
     "output_type": "stream",
     "text": [
      "epoch: 8, [batch: 1 / 6720], examples_per_second: 2.7416, train_label_loss: 0.2555, \n"
     ]
    },
    {
     "name": "stdout",
     "output_type": "stream",
     "text": [
      "epoch: 8, [batch: 672 / 6720], examples_per_second: 1877.4532, train_label_loss: 0.2225, \n"
     ]
    },
    {
     "name": "stdout",
     "output_type": "stream",
     "text": [
      "epoch: 8, [batch: 1344 / 6720], examples_per_second: 1880.3202, train_label_loss: 0.1977, \n"
     ]
    },
    {
     "name": "stdout",
     "output_type": "stream",
     "text": [
      "epoch: 8, [batch: 2016 / 6720], examples_per_second: 1878.5024, train_label_loss: 0.3766, \n"
     ]
    },
    {
     "name": "stdout",
     "output_type": "stream",
     "text": [
      "epoch: 8, [batch: 2688 / 6720], examples_per_second: 1876.0560, train_label_loss: 0.1038, \n"
     ]
    },
    {
     "name": "stdout",
     "output_type": "stream",
     "text": [
      "epoch: 8, [batch: 3360 / 6720], examples_per_second: 1879.6405, train_label_loss: 0.3970, \n"
     ]
    },
    {
     "name": "stdout",
     "output_type": "stream",
     "text": [
      "epoch: 8, [batch: 4032 / 6720], examples_per_second: 2289.9510, train_label_loss: 0.1575, \n"
     ]
    },
    {
     "name": "stdout",
     "output_type": "stream",
     "text": [
      "epoch: 8, [batch: 4704 / 6720], examples_per_second: 2252.2567, train_label_loss: 0.6182, \n"
     ]
    },
    {
     "name": "stdout",
     "output_type": "stream",
     "text": [
      "epoch: 8, [batch: 5376 / 6720], examples_per_second: 1877.3357, train_label_loss: 0.0863, \n"
     ]
    },
    {
     "name": "stdout",
     "output_type": "stream",
     "text": [
      "epoch: 8, [batch: 6048 / 6720], examples_per_second: 1878.9704, train_label_loss: 0.1974, \n"
     ]
    },
    {
     "name": "stdout",
     "output_type": "stream",
     "text": [
      "=============================================================\n",
      "epoch: 8, source_val_acc_label: 0.8454, target_val_acc_label: 0.6756, source_val_label_loss: 0.4232, target_val_label_loss: 205.5659, \n",
      "=============================================================\n"
     ]
    },
    {
     "name": "stdout",
     "output_type": "stream",
     "text": [
      "New best\n"
     ]
    },
    {
     "name": "stdout",
     "output_type": "stream",
     "text": [
      "epoch: 9, [batch: 1 / 6720], examples_per_second: 2.7488, train_label_loss: 0.6390, \n"
     ]
    },
    {
     "name": "stdout",
     "output_type": "stream",
     "text": [
      "epoch: 9, [batch: 672 / 6720], examples_per_second: 1877.2022, train_label_loss: 0.4384, \n"
     ]
    },
    {
     "name": "stdout",
     "output_type": "stream",
     "text": [
      "epoch: 9, [batch: 1344 / 6720], examples_per_second: 1881.5193, train_label_loss: 0.4276, \n"
     ]
    },
    {
     "name": "stdout",
     "output_type": "stream",
     "text": [
      "epoch: 9, [batch: 2016 / 6720], examples_per_second: 1876.5851, train_label_loss: 0.5421, \n"
     ]
    },
    {
     "name": "stdout",
     "output_type": "stream",
     "text": [
      "epoch: 9, [batch: 2688 / 6720], examples_per_second: 1875.6438, train_label_loss: 0.3458, \n"
     ]
    },
    {
     "name": "stdout",
     "output_type": "stream",
     "text": [
      "epoch: 9, [batch: 3360 / 6720], examples_per_second: 1879.0039, train_label_loss: 0.7032, \n"
     ]
    },
    {
     "name": "stdout",
     "output_type": "stream",
     "text": [
      "epoch: 9, [batch: 4032 / 6720], examples_per_second: 2294.6613, train_label_loss: 0.4228, \n"
     ]
    },
    {
     "name": "stdout",
     "output_type": "stream",
     "text": [
      "epoch: 9, [batch: 4704 / 6720], examples_per_second: 2268.6410, train_label_loss: 0.2700, \n"
     ]
    },
    {
     "name": "stdout",
     "output_type": "stream",
     "text": [
      "epoch: 9, [batch: 5376 / 6720], examples_per_second: 1831.2251, train_label_loss: 0.0881, \n"
     ]
    },
    {
     "name": "stdout",
     "output_type": "stream",
     "text": [
      "epoch: 9, [batch: 6048 / 6720], examples_per_second: 1758.3381, train_label_loss: 0.6766, \n"
     ]
    },
    {
     "name": "stdout",
     "output_type": "stream",
     "text": [
      "=============================================================\n",
      "epoch: 9, source_val_acc_label: 0.8694, target_val_acc_label: 0.6706, source_val_label_loss: 0.3569, target_val_label_loss: 221.9097, \n",
      "=============================================================\n"
     ]
    },
    {
     "name": "stdout",
     "output_type": "stream",
     "text": [
      "epoch: 10, [batch: 1 / 6720], examples_per_second: 2.6413, train_label_loss: 0.0454, \n"
     ]
    },
    {
     "name": "stdout",
     "output_type": "stream",
     "text": [
      "epoch: 10, [batch: 672 / 6720], examples_per_second: 1842.5916, train_label_loss: 0.3598, \n"
     ]
    },
    {
     "name": "stdout",
     "output_type": "stream",
     "text": [
      "epoch: 10, [batch: 1344 / 6720], examples_per_second: 1796.6421, train_label_loss: 0.3253, \n"
     ]
    },
    {
     "name": "stdout",
     "output_type": "stream",
     "text": [
      "epoch: 10, [batch: 2016 / 6720], examples_per_second: 1821.5156, train_label_loss: 0.3531, \n"
     ]
    },
    {
     "name": "stdout",
     "output_type": "stream",
     "text": [
      "epoch: 10, [batch: 2688 / 6720], examples_per_second: 1825.4397, train_label_loss: 0.0766, \n"
     ]
    },
    {
     "name": "stdout",
     "output_type": "stream",
     "text": [
      "epoch: 10, [batch: 3360 / 6720], examples_per_second: 1778.1587, train_label_loss: 0.5580, \n"
     ]
    },
    {
     "name": "stdout",
     "output_type": "stream",
     "text": [
      "epoch: 10, [batch: 4032 / 6720], examples_per_second: 2200.7892, train_label_loss: 0.1209, \n"
     ]
    },
    {
     "name": "stdout",
     "output_type": "stream",
     "text": [
      "epoch: 10, [batch: 4704 / 6720], examples_per_second: 2186.0152, train_label_loss: 0.5237, \n"
     ]
    },
    {
     "name": "stdout",
     "output_type": "stream",
     "text": [
      "epoch: 10, [batch: 5376 / 6720], examples_per_second: 1788.2346, train_label_loss: 0.1641, \n"
     ]
    },
    {
     "name": "stdout",
     "output_type": "stream",
     "text": [
      "epoch: 10, [batch: 6048 / 6720], examples_per_second: 1824.2362, train_label_loss: 0.1312, \n"
     ]
    },
    {
     "name": "stdout",
     "output_type": "stream",
     "text": [
      "=============================================================\n",
      "epoch: 10, source_val_acc_label: 0.8701, target_val_acc_label: 0.6849, source_val_label_loss: 0.3644, target_val_label_loss: 239.7512, \n",
      "=============================================================\n"
     ]
    },
    {
     "name": "stdout",
     "output_type": "stream",
     "text": [
      "New best\n"
     ]
    },
    {
     "name": "stdout",
     "output_type": "stream",
     "text": [
      "epoch: 11, [batch: 1 / 6720], examples_per_second: 2.6349, train_label_loss: 0.2483, \n"
     ]
    },
    {
     "name": "stdout",
     "output_type": "stream",
     "text": [
      "epoch: 11, [batch: 672 / 6720], examples_per_second: 1852.9243, train_label_loss: 0.3099, \n"
     ]
    },
    {
     "name": "stdout",
     "output_type": "stream",
     "text": [
      "epoch: 11, [batch: 1344 / 6720], examples_per_second: 1850.8057, train_label_loss: 0.3962, \n"
     ]
    },
    {
     "name": "stdout",
     "output_type": "stream",
     "text": [
      "epoch: 11, [batch: 2016 / 6720], examples_per_second: 1806.1389, train_label_loss: 0.5412, \n"
     ]
    },
    {
     "name": "stdout",
     "output_type": "stream",
     "text": [
      "epoch: 11, [batch: 2688 / 6720], examples_per_second: 1823.2265, train_label_loss: 0.0964, \n"
     ]
    },
    {
     "name": "stdout",
     "output_type": "stream",
     "text": [
      "epoch: 11, [batch: 3360 / 6720], examples_per_second: 1827.1381, train_label_loss: 0.9127, \n"
     ]
    },
    {
     "name": "stdout",
     "output_type": "stream",
     "text": [
      "epoch: 11, [batch: 4032 / 6720], examples_per_second: 2189.7874, train_label_loss: 0.2986, \n"
     ]
    },
    {
     "name": "stdout",
     "output_type": "stream",
     "text": [
      "epoch: 11, [batch: 4704 / 6720], examples_per_second: 2229.2687, train_label_loss: 0.6437, \n"
     ]
    },
    {
     "name": "stdout",
     "output_type": "stream",
     "text": [
      "epoch: 11, [batch: 5376 / 6720], examples_per_second: 1799.0354, train_label_loss: 0.0887, \n"
     ]
    },
    {
     "name": "stdout",
     "output_type": "stream",
     "text": [
      "epoch: 11, [batch: 6048 / 6720], examples_per_second: 1812.5184, train_label_loss: 0.0678, \n"
     ]
    },
    {
     "name": "stdout",
     "output_type": "stream",
     "text": [
      "=============================================================\n",
      "epoch: 11, source_val_acc_label: 0.8777, target_val_acc_label: 0.6774, source_val_label_loss: 0.3374, target_val_label_loss: 263.5209, \n",
      "=============================================================\n"
     ]
    },
    {
     "name": "stdout",
     "output_type": "stream",
     "text": [
      "epoch: 12, [batch: 1 / 6720], examples_per_second: 2.5826, train_label_loss: 0.2509, \n"
     ]
    },
    {
     "name": "stdout",
     "output_type": "stream",
     "text": [
      "epoch: 12, [batch: 672 / 6720], examples_per_second: 1806.4312, train_label_loss: 0.7722, \n"
     ]
    },
    {
     "name": "stdout",
     "output_type": "stream",
     "text": [
      "epoch: 12, [batch: 1344 / 6720], examples_per_second: 1824.1622, train_label_loss: 0.0572, \n"
     ]
    },
    {
     "name": "stdout",
     "output_type": "stream",
     "text": [
      "epoch: 12, [batch: 2016 / 6720], examples_per_second: 1810.7086, train_label_loss: 0.3146, \n"
     ]
    },
    {
     "name": "stdout",
     "output_type": "stream",
     "text": [
      "epoch: 12, [batch: 2688 / 6720], examples_per_second: 1808.1676, train_label_loss: 0.1887, \n"
     ]
    },
    {
     "name": "stdout",
     "output_type": "stream",
     "text": [
      "epoch: 12, [batch: 3360 / 6720], examples_per_second: 1805.5305, train_label_loss: 0.4087, \n"
     ]
    },
    {
     "name": "stdout",
     "output_type": "stream",
     "text": [
      "epoch: 12, [batch: 4032 / 6720], examples_per_second: 2211.8061, train_label_loss: 0.8877, \n"
     ]
    },
    {
     "name": "stdout",
     "output_type": "stream",
     "text": [
      "epoch: 12, [batch: 4704 / 6720], examples_per_second: 2245.8183, train_label_loss: 0.0430, \n"
     ]
    },
    {
     "name": "stdout",
     "output_type": "stream",
     "text": [
      "epoch: 12, [batch: 5376 / 6720], examples_per_second: 1848.1318, train_label_loss: 0.1791, \n"
     ]
    },
    {
     "name": "stdout",
     "output_type": "stream",
     "text": [
      "epoch: 12, [batch: 6048 / 6720], examples_per_second: 1848.9084, train_label_loss: 0.6176, \n"
     ]
    },
    {
     "name": "stdout",
     "output_type": "stream",
     "text": [
      "=============================================================\n",
      "epoch: 12, source_val_acc_label: 0.8744, target_val_acc_label: 0.6804, source_val_label_loss: 0.3476, target_val_label_loss: 239.8147, \n",
      "=============================================================\n"
     ]
    },
    {
     "name": "stdout",
     "output_type": "stream",
     "text": [
      "epoch: 13, [batch: 1 / 6720], examples_per_second: 2.7208, train_label_loss: 0.1468, \n"
     ]
    },
    {
     "name": "stdout",
     "output_type": "stream",
     "text": [
      "epoch: 13, [batch: 672 / 6720], examples_per_second: 1848.0864, train_label_loss: 0.3064, \n"
     ]
    },
    {
     "name": "stdout",
     "output_type": "stream",
     "text": [
      "epoch: 13, [batch: 1344 / 6720], examples_per_second: 1853.0897, train_label_loss: 0.0953, \n"
     ]
    },
    {
     "name": "stdout",
     "output_type": "stream",
     "text": [
      "epoch: 13, [batch: 2016 / 6720], examples_per_second: 1847.9987, train_label_loss: 0.2580, \n"
     ]
    },
    {
     "name": "stdout",
     "output_type": "stream",
     "text": [
      "epoch: 13, [batch: 2688 / 6720], examples_per_second: 1836.3089, train_label_loss: 0.2783, \n"
     ]
    },
    {
     "name": "stdout",
     "output_type": "stream",
     "text": [
      "epoch: 13, [batch: 3360 / 6720], examples_per_second: 1856.5690, train_label_loss: 0.3998, \n"
     ]
    },
    {
     "name": "stdout",
     "output_type": "stream",
     "text": [
      "epoch: 13, [batch: 4032 / 6720], examples_per_second: 2187.9807, train_label_loss: 0.3520, \n"
     ]
    },
    {
     "name": "stdout",
     "output_type": "stream",
     "text": [
      "epoch: 13, [batch: 4704 / 6720], examples_per_second: 2345.1139, train_label_loss: 0.0466, \n"
     ]
    },
    {
     "name": "stdout",
     "output_type": "stream",
     "text": [
      "epoch: 13, [batch: 5376 / 6720], examples_per_second: 2291.1557, train_label_loss: 0.2698, \n"
     ]
    },
    {
     "name": "stdout",
     "output_type": "stream",
     "text": [
      "epoch: 13, [batch: 6048 / 6720], examples_per_second: 2318.3755, train_label_loss: 0.3401, \n"
     ]
    },
    {
     "name": "stdout",
     "output_type": "stream",
     "text": [
      "=============================================================\n",
      "epoch: 13, source_val_acc_label: 0.8785, target_val_acc_label: 0.6883, source_val_label_loss: 0.3437, target_val_label_loss: 246.8921, \n",
      "=============================================================\n"
     ]
    },
    {
     "name": "stdout",
     "output_type": "stream",
     "text": [
      "New best\n"
     ]
    },
    {
     "name": "stdout",
     "output_type": "stream",
     "text": [
      "epoch: 14, [batch: 1 / 6720], examples_per_second: 3.4394, train_label_loss: 0.3206, \n"
     ]
    },
    {
     "name": "stdout",
     "output_type": "stream",
     "text": [
      "epoch: 14, [batch: 672 / 6720], examples_per_second: 3503.3462, train_label_loss: 0.0230, \n"
     ]
    },
    {
     "name": "stdout",
     "output_type": "stream",
     "text": [
      "epoch: 14, [batch: 1344 / 6720], examples_per_second: 3534.5759, train_label_loss: 0.5684, \n"
     ]
    },
    {
     "name": "stdout",
     "output_type": "stream",
     "text": [
      "epoch: 14, [batch: 2016 / 6720], examples_per_second: 3531.3590, train_label_loss: 0.2506, \n"
     ]
    },
    {
     "name": "stdout",
     "output_type": "stream",
     "text": [
      "epoch: 14, [batch: 2688 / 6720], examples_per_second: 3729.9963, train_label_loss: 0.1331, \n"
     ]
    },
    {
     "name": "stdout",
     "output_type": "stream",
     "text": [
      "epoch: 14, [batch: 3360 / 6720], examples_per_second: 3714.7336, train_label_loss: 0.3070, \n"
     ]
    },
    {
     "name": "stdout",
     "output_type": "stream",
     "text": [
      "epoch: 14, [batch: 4032 / 6720], examples_per_second: 2015.7792, train_label_loss: 0.2052, \n"
     ]
    },
    {
     "name": "stdout",
     "output_type": "stream",
     "text": [
      "epoch: 14, [batch: 4704 / 6720], examples_per_second: 1953.8187, train_label_loss: 0.1542, \n"
     ]
    },
    {
     "name": "stdout",
     "output_type": "stream",
     "text": [
      "epoch: 14, [batch: 5376 / 6720], examples_per_second: 1954.7072, train_label_loss: 0.1401, \n"
     ]
    },
    {
     "name": "stdout",
     "output_type": "stream",
     "text": [
      "epoch: 14, [batch: 6048 / 6720], examples_per_second: 1944.4313, train_label_loss: 0.7231, \n"
     ]
    },
    {
     "name": "stdout",
     "output_type": "stream",
     "text": [
      "=============================================================\n",
      "epoch: 14, source_val_acc_label: 0.8835, target_val_acc_label: 0.6911, source_val_label_loss: 0.3206, target_val_label_loss: 229.5055, \n",
      "=============================================================\n"
     ]
    },
    {
     "name": "stdout",
     "output_type": "stream",
     "text": [
      "New best\n"
     ]
    },
    {
     "name": "stdout",
     "output_type": "stream",
     "text": [
      "epoch: 15, [batch: 1 / 6720], examples_per_second: 2.8757, train_label_loss: 0.1841, \n"
     ]
    },
    {
     "name": "stdout",
     "output_type": "stream",
     "text": [
      "epoch: 15, [batch: 672 / 6720], examples_per_second: 1981.4757, train_label_loss: 0.0641, \n"
     ]
    },
    {
     "name": "stdout",
     "output_type": "stream",
     "text": [
      "epoch: 15, [batch: 1344 / 6720], examples_per_second: 1979.2108, train_label_loss: 0.1333, \n"
     ]
    },
    {
     "name": "stdout",
     "output_type": "stream",
     "text": [
      "epoch: 15, [batch: 2016 / 6720], examples_per_second: 1977.6108, train_label_loss: 0.2875, \n"
     ]
    },
    {
     "name": "stdout",
     "output_type": "stream",
     "text": [
      "epoch: 15, [batch: 2688 / 6720], examples_per_second: 2095.6068, train_label_loss: 0.3124, \n"
     ]
    },
    {
     "name": "stdout",
     "output_type": "stream",
     "text": [
      "epoch: 15, [batch: 3360 / 6720], examples_per_second: 2641.1041, train_label_loss: 0.2530, \n"
     ]
    },
    {
     "name": "stdout",
     "output_type": "stream",
     "text": [
      "epoch: 15, [batch: 4032 / 6720], examples_per_second: 2058.2727, train_label_loss: 0.2547, \n"
     ]
    },
    {
     "name": "stdout",
     "output_type": "stream",
     "text": [
      "epoch: 15, [batch: 4704 / 6720], examples_per_second: 1980.6465, train_label_loss: 0.2896, \n"
     ]
    },
    {
     "name": "stdout",
     "output_type": "stream",
     "text": [
      "epoch: 15, [batch: 5376 / 6720], examples_per_second: 1987.8299, train_label_loss: 0.1168, \n"
     ]
    },
    {
     "name": "stdout",
     "output_type": "stream",
     "text": [
      "epoch: 15, [batch: 6048 / 6720], examples_per_second: 1988.3270, train_label_loss: 0.0783, \n"
     ]
    },
    {
     "name": "stdout",
     "output_type": "stream",
     "text": [
      "=============================================================\n",
      "epoch: 15, source_val_acc_label: 0.8802, target_val_acc_label: 0.6971, source_val_label_loss: 0.3412, target_val_label_loss: 228.5186, \n",
      "=============================================================\n"
     ]
    },
    {
     "name": "stdout",
     "output_type": "stream",
     "text": [
      "New best\n"
     ]
    },
    {
     "name": "stdout",
     "output_type": "stream",
     "text": [
      "epoch: 16, [batch: 1 / 6720], examples_per_second: 2.8993, train_label_loss: 0.2272, \n"
     ]
    },
    {
     "name": "stdout",
     "output_type": "stream",
     "text": [
      "epoch: 16, [batch: 672 / 6720], examples_per_second: 1988.4960, train_label_loss: 0.1757, \n"
     ]
    },
    {
     "name": "stdout",
     "output_type": "stream",
     "text": [
      "epoch: 16, [batch: 1344 / 6720], examples_per_second: 1985.3899, train_label_loss: 0.0476, \n"
     ]
    },
    {
     "name": "stdout",
     "output_type": "stream",
     "text": [
      "epoch: 16, [batch: 2016 / 6720], examples_per_second: 1986.2138, train_label_loss: 0.5613, \n"
     ]
    },
    {
     "name": "stdout",
     "output_type": "stream",
     "text": [
      "epoch: 16, [batch: 2688 / 6720], examples_per_second: 2088.0369, train_label_loss: 0.0683, \n"
     ]
    },
    {
     "name": "stdout",
     "output_type": "stream",
     "text": [
      "epoch: 16, [batch: 3360 / 6720], examples_per_second: 2624.2418, train_label_loss: 0.3562, \n"
     ]
    },
    {
     "name": "stdout",
     "output_type": "stream",
     "text": [
      "epoch: 16, [batch: 4032 / 6720], examples_per_second: 2090.7427, train_label_loss: 0.1892, \n"
     ]
    },
    {
     "name": "stdout",
     "output_type": "stream",
     "text": [
      "epoch: 16, [batch: 4704 / 6720], examples_per_second: 1981.5437, train_label_loss: 0.1620, \n"
     ]
    },
    {
     "name": "stdout",
     "output_type": "stream",
     "text": [
      "epoch: 16, [batch: 5376 / 6720], examples_per_second: 1987.0084, train_label_loss: 0.3767, \n"
     ]
    },
    {
     "name": "stdout",
     "output_type": "stream",
     "text": [
      "epoch: 16, [batch: 6048 / 6720], examples_per_second: 1990.1278, train_label_loss: 0.1854, \n"
     ]
    },
    {
     "name": "stdout",
     "output_type": "stream",
     "text": [
      "=============================================================\n",
      "epoch: 16, source_val_acc_label: 0.8809, target_val_acc_label: 0.6735, source_val_label_loss: 0.3371, target_val_label_loss: 262.2106, \n",
      "=============================================================\n"
     ]
    },
    {
     "name": "stdout",
     "output_type": "stream",
     "text": [
      "epoch: 17, [batch: 1 / 6720], examples_per_second: 2.8814, train_label_loss: 0.2941, \n"
     ]
    },
    {
     "name": "stdout",
     "output_type": "stream",
     "text": [
      "epoch: 17, [batch: 672 / 6720], examples_per_second: 1988.1626, train_label_loss: 0.1831, \n"
     ]
    },
    {
     "name": "stdout",
     "output_type": "stream",
     "text": [
      "epoch: 17, [batch: 1344 / 6720], examples_per_second: 1987.3259, train_label_loss: 0.3029, \n"
     ]
    },
    {
     "name": "stdout",
     "output_type": "stream",
     "text": [
      "epoch: 17, [batch: 2016 / 6720], examples_per_second: 1986.9139, train_label_loss: 0.3510, \n"
     ]
    },
    {
     "name": "stdout",
     "output_type": "stream",
     "text": [
      "epoch: 17, [batch: 2688 / 6720], examples_per_second: 2093.5794, train_label_loss: 0.0506, \n"
     ]
    },
    {
     "name": "stdout",
     "output_type": "stream",
     "text": [
      "epoch: 17, [batch: 3360 / 6720], examples_per_second: 2620.8526, train_label_loss: 0.1437, \n"
     ]
    },
    {
     "name": "stdout",
     "output_type": "stream",
     "text": [
      "epoch: 17, [batch: 4032 / 6720], examples_per_second: 2107.1575, train_label_loss: 0.7847, \n"
     ]
    },
    {
     "name": "stdout",
     "output_type": "stream",
     "text": [
      "epoch: 17, [batch: 4704 / 6720], examples_per_second: 1981.2075, train_label_loss: 0.0638, \n"
     ]
    },
    {
     "name": "stdout",
     "output_type": "stream",
     "text": [
      "epoch: 17, [batch: 5376 / 6720], examples_per_second: 1984.3422, train_label_loss: 0.1794, \n"
     ]
    },
    {
     "name": "stdout",
     "output_type": "stream",
     "text": [
      "epoch: 17, [batch: 6048 / 6720], examples_per_second: 1987.8992, train_label_loss: 0.1394, \n"
     ]
    },
    {
     "name": "stdout",
     "output_type": "stream",
     "text": [
      "=============================================================\n",
      "epoch: 17, source_val_acc_label: 0.8815, target_val_acc_label: 0.6934, source_val_label_loss: 0.3350, target_val_label_loss: 262.3661, \n",
      "=============================================================\n"
     ]
    },
    {
     "name": "stdout",
     "output_type": "stream",
     "text": [
      "epoch: 18, [batch: 1 / 6720], examples_per_second: 2.8753, train_label_loss: 0.1265, \n"
     ]
    },
    {
     "name": "stdout",
     "output_type": "stream",
     "text": [
      "epoch: 18, [batch: 672 / 6720], examples_per_second: 1989.3490, train_label_loss: 0.1298, \n"
     ]
    },
    {
     "name": "stdout",
     "output_type": "stream",
     "text": [
      "epoch: 18, [batch: 1344 / 6720], examples_per_second: 1985.1795, train_label_loss: 0.3800, \n"
     ]
    },
    {
     "name": "stdout",
     "output_type": "stream",
     "text": [
      "epoch: 18, [batch: 2016 / 6720], examples_per_second: 1985.4671, train_label_loss: 0.2786, \n"
     ]
    },
    {
     "name": "stdout",
     "output_type": "stream",
     "text": [
      "epoch: 18, [batch: 2688 / 6720], examples_per_second: 2085.9924, train_label_loss: 0.1331, \n"
     ]
    },
    {
     "name": "stdout",
     "output_type": "stream",
     "text": [
      "epoch: 18, [batch: 3360 / 6720], examples_per_second: 2614.3650, train_label_loss: 0.1517, \n"
     ]
    },
    {
     "name": "stdout",
     "output_type": "stream",
     "text": [
      "epoch: 18, [batch: 4032 / 6720], examples_per_second: 2079.8328, train_label_loss: 0.3707, \n"
     ]
    },
    {
     "name": "stdout",
     "output_type": "stream",
     "text": [
      "epoch: 18, [batch: 4704 / 6720], examples_per_second: 1979.9457, train_label_loss: 0.2984, \n"
     ]
    },
    {
     "name": "stdout",
     "output_type": "stream",
     "text": [
      "epoch: 18, [batch: 5376 / 6720], examples_per_second: 1985.0667, train_label_loss: 0.1043, \n"
     ]
    },
    {
     "name": "stdout",
     "output_type": "stream",
     "text": [
      "epoch: 18, [batch: 6048 / 6720], examples_per_second: 1989.0578, train_label_loss: 0.2778, \n"
     ]
    },
    {
     "name": "stdout",
     "output_type": "stream",
     "text": [
      "=============================================================\n",
      "epoch: 18, source_val_acc_label: 0.8894, target_val_acc_label: 0.7087, source_val_label_loss: 0.3169, target_val_label_loss: 268.0475, \n",
      "=============================================================\n"
     ]
    },
    {
     "name": "stdout",
     "output_type": "stream",
     "text": [
      "New best\n"
     ]
    },
    {
     "name": "stdout",
     "output_type": "stream",
     "text": [
      "epoch: 19, [batch: 1 / 6720], examples_per_second: 2.9090, train_label_loss: 0.2232, \n"
     ]
    },
    {
     "name": "stdout",
     "output_type": "stream",
     "text": [
      "epoch: 19, [batch: 672 / 6720], examples_per_second: 1987.4215, train_label_loss: 0.1631, \n"
     ]
    },
    {
     "name": "stdout",
     "output_type": "stream",
     "text": [
      "epoch: 19, [batch: 1344 / 6720], examples_per_second: 1985.4328, train_label_loss: 0.1196, \n"
     ]
    },
    {
     "name": "stdout",
     "output_type": "stream",
     "text": [
      "epoch: 19, [batch: 2016 / 6720], examples_per_second: 1984.8853, train_label_loss: 0.2410, \n"
     ]
    },
    {
     "name": "stdout",
     "output_type": "stream",
     "text": [
      "epoch: 19, [batch: 2688 / 6720], examples_per_second: 2074.5661, train_label_loss: 0.1383, \n"
     ]
    },
    {
     "name": "stdout",
     "output_type": "stream",
     "text": [
      "epoch: 19, [batch: 3360 / 6720], examples_per_second: 2491.7881, train_label_loss: 0.1253, \n"
     ]
    },
    {
     "name": "stdout",
     "output_type": "stream",
     "text": [
      "epoch: 19, [batch: 4032 / 6720], examples_per_second: 2431.7798, train_label_loss: 0.2450, \n"
     ]
    },
    {
     "name": "stdout",
     "output_type": "stream",
     "text": [
      "epoch: 19, [batch: 4704 / 6720], examples_per_second: 2472.7789, train_label_loss: 0.2106, \n"
     ]
    },
    {
     "name": "stdout",
     "output_type": "stream",
     "text": [
      "epoch: 19, [batch: 5376 / 6720], examples_per_second: 2423.6577, train_label_loss: 0.0237, \n"
     ]
    },
    {
     "name": "stdout",
     "output_type": "stream",
     "text": [
      "epoch: 19, [batch: 6048 / 6720], examples_per_second: 2392.8806, train_label_loss: 0.1346, \n"
     ]
    },
    {
     "name": "stdout",
     "output_type": "stream",
     "text": [
      "=============================================================\n",
      "epoch: 19, source_val_acc_label: 0.8814, target_val_acc_label: 0.7110, source_val_label_loss: 0.3383, target_val_label_loss: 222.6099, \n",
      "=============================================================\n"
     ]
    },
    {
     "name": "stdout",
     "output_type": "stream",
     "text": [
      "New best\n"
     ]
    },
    {
     "name": "stdout",
     "output_type": "stream",
     "text": [
      "epoch: 20, [batch: 1 / 6720], examples_per_second: 4.9362, train_label_loss: 0.0831, \n"
     ]
    },
    {
     "name": "stdout",
     "output_type": "stream",
     "text": [
      "epoch: 20, [batch: 672 / 6720], examples_per_second: 3740.6157, train_label_loss: 0.1675, \n"
     ]
    },
    {
     "name": "stdout",
     "output_type": "stream",
     "text": [
      "epoch: 20, [batch: 1344 / 6720], examples_per_second: 3678.6322, train_label_loss: 0.1831, \n"
     ]
    },
    {
     "name": "stdout",
     "output_type": "stream",
     "text": [
      "epoch: 20, [batch: 2016 / 6720], examples_per_second: 3611.4058, train_label_loss: 0.0527, \n"
     ]
    },
    {
     "name": "stdout",
     "output_type": "stream",
     "text": [
      "epoch: 20, [batch: 2688 / 6720], examples_per_second: 3607.2078, train_label_loss: 0.1388, \n"
     ]
    },
    {
     "name": "stdout",
     "output_type": "stream",
     "text": [
      "epoch: 20, [batch: 3360 / 6720], examples_per_second: 3537.7928, train_label_loss: 0.0532, \n"
     ]
    },
    {
     "name": "stdout",
     "output_type": "stream",
     "text": [
      "epoch: 20, [batch: 4032 / 6720], examples_per_second: 3497.4224, train_label_loss: 0.0725, \n"
     ]
    },
    {
     "name": "stdout",
     "output_type": "stream",
     "text": [
      "epoch: 20, [batch: 4704 / 6720], examples_per_second: 2112.5933, train_label_loss: 0.2616, \n"
     ]
    },
    {
     "name": "stdout",
     "output_type": "stream",
     "text": [
      "epoch: 20, [batch: 5376 / 6720], examples_per_second: 1922.7396, train_label_loss: 0.0843, \n"
     ]
    },
    {
     "name": "stdout",
     "output_type": "stream",
     "text": [
      "epoch: 20, [batch: 6048 / 6720], examples_per_second: 1930.2074, train_label_loss: 0.5289, \n"
     ]
    },
    {
     "name": "stdout",
     "output_type": "stream",
     "text": [
      "=============================================================\n",
      "epoch: 20, source_val_acc_label: 0.8856, target_val_acc_label: 0.7171, source_val_label_loss: 0.3291, target_val_label_loss: 255.3940, \n",
      "=============================================================\n"
     ]
    },
    {
     "name": "stdout",
     "output_type": "stream",
     "text": [
      "New best\n"
     ]
    },
    {
     "name": "stdout",
     "output_type": "stream",
     "text": [
      "epoch: 21, [batch: 1 / 6720], examples_per_second: 2.8137, train_label_loss: 0.2676, \n"
     ]
    },
    {
     "name": "stdout",
     "output_type": "stream",
     "text": [
      "epoch: 21, [batch: 672 / 6720], examples_per_second: 1889.9951, train_label_loss: 0.0929, \n"
     ]
    },
    {
     "name": "stdout",
     "output_type": "stream",
     "text": [
      "epoch: 21, [batch: 1344 / 6720], examples_per_second: 1930.8488, train_label_loss: 0.0425, \n"
     ]
    },
    {
     "name": "stdout",
     "output_type": "stream",
     "text": [
      "epoch: 21, [batch: 2016 / 6720], examples_per_second: 1920.9917, train_label_loss: 0.5639, \n"
     ]
    },
    {
     "name": "stdout",
     "output_type": "stream",
     "text": [
      "epoch: 21, [batch: 2688 / 6720], examples_per_second: 1927.1035, train_label_loss: 0.0237, \n"
     ]
    },
    {
     "name": "stdout",
     "output_type": "stream",
     "text": [
      "epoch: 21, [batch: 3360 / 6720], examples_per_second: 2017.4648, train_label_loss: 0.1311, \n"
     ]
    },
    {
     "name": "stdout",
     "output_type": "stream",
     "text": [
      "epoch: 21, [batch: 4032 / 6720], examples_per_second: 2488.0115, train_label_loss: 0.3545, \n"
     ]
    },
    {
     "name": "stdout",
     "output_type": "stream",
     "text": [
      "epoch: 21, [batch: 4704 / 6720], examples_per_second: 2115.7984, train_label_loss: 0.0769, \n"
     ]
    },
    {
     "name": "stdout",
     "output_type": "stream",
     "text": [
      "epoch: 21, [batch: 5376 / 6720], examples_per_second: 1952.4171, train_label_loss: 0.0658, \n"
     ]
    },
    {
     "name": "stdout",
     "output_type": "stream",
     "text": [
      "epoch: 21, [batch: 6048 / 6720], examples_per_second: 1955.0482, train_label_loss: 0.0571, \n"
     ]
    },
    {
     "name": "stdout",
     "output_type": "stream",
     "text": [
      "=============================================================\n",
      "epoch: 21, source_val_acc_label: 0.8879, target_val_acc_label: 0.7129, source_val_label_loss: 0.3322, target_val_label_loss: 260.6801, \n",
      "=============================================================\n"
     ]
    },
    {
     "name": "stdout",
     "output_type": "stream",
     "text": [
      "epoch: 22, [batch: 1 / 6720], examples_per_second: 2.8279, train_label_loss: 0.2987, \n"
     ]
    },
    {
     "name": "stdout",
     "output_type": "stream",
     "text": [
      "epoch: 22, [batch: 672 / 6720], examples_per_second: 1958.2334, train_label_loss: 0.4488, \n"
     ]
    },
    {
     "name": "stdout",
     "output_type": "stream",
     "text": [
      "epoch: 22, [batch: 1344 / 6720], examples_per_second: 1959.8650, train_label_loss: 0.2580, \n"
     ]
    },
    {
     "name": "stdout",
     "output_type": "stream",
     "text": [
      "epoch: 22, [batch: 2016 / 6720], examples_per_second: 1948.7260, train_label_loss: 0.0425, \n"
     ]
    },
    {
     "name": "stdout",
     "output_type": "stream",
     "text": [
      "epoch: 22, [batch: 2688 / 6720], examples_per_second: 1945.8954, train_label_loss: 0.0660, \n"
     ]
    },
    {
     "name": "stdout",
     "output_type": "stream",
     "text": [
      "epoch: 22, [batch: 3360 / 6720], examples_per_second: 2045.3123, train_label_loss: 0.1961, \n"
     ]
    },
    {
     "name": "stdout",
     "output_type": "stream",
     "text": [
      "epoch: 22, [batch: 4032 / 6720], examples_per_second: 2419.2629, train_label_loss: 0.1168, \n"
     ]
    },
    {
     "name": "stdout",
     "output_type": "stream",
     "text": [
      "epoch: 22, [batch: 4704 / 6720], examples_per_second: 2186.2599, train_label_loss: 0.1947, \n"
     ]
    },
    {
     "name": "stdout",
     "output_type": "stream",
     "text": [
      "epoch: 22, [batch: 5376 / 6720], examples_per_second: 1922.7332, train_label_loss: 0.0936, \n"
     ]
    },
    {
     "name": "stdout",
     "output_type": "stream",
     "text": [
      "epoch: 22, [batch: 6048 / 6720], examples_per_second: 1890.5794, train_label_loss: 0.0200, \n"
     ]
    },
    {
     "name": "stdout",
     "output_type": "stream",
     "text": [
      "=============================================================\n",
      "epoch: 22, source_val_acc_label: 0.8863, target_val_acc_label: 0.7014, source_val_label_loss: 0.3371, target_val_label_loss: 341.7265, \n",
      "=============================================================\n"
     ]
    },
    {
     "name": "stdout",
     "output_type": "stream",
     "text": [
      "epoch: 23, [batch: 1 / 6720], examples_per_second: 2.8242, train_label_loss: 0.4037, \n"
     ]
    },
    {
     "name": "stdout",
     "output_type": "stream",
     "text": [
      "epoch: 23, [batch: 672 / 6720], examples_per_second: 1969.0028, train_label_loss: 0.2065, \n"
     ]
    },
    {
     "name": "stdout",
     "output_type": "stream",
     "text": [
      "epoch: 23, [batch: 1344 / 6720], examples_per_second: 1935.8957, train_label_loss: 0.0519, \n"
     ]
    },
    {
     "name": "stdout",
     "output_type": "stream",
     "text": [
      "epoch: 23, [batch: 2016 / 6720], examples_per_second: 1922.3744, train_label_loss: 0.1564, \n"
     ]
    },
    {
     "name": "stdout",
     "output_type": "stream",
     "text": [
      "epoch: 23, [batch: 2688 / 6720], examples_per_second: 1899.6019, train_label_loss: 0.1584, \n"
     ]
    },
    {
     "name": "stdout",
     "output_type": "stream",
     "text": [
      "epoch: 23, [batch: 3360 / 6720], examples_per_second: 1986.2979, train_label_loss: 0.0292, \n"
     ]
    },
    {
     "name": "stdout",
     "output_type": "stream",
     "text": [
      "epoch: 23, [batch: 4032 / 6720], examples_per_second: 2455.4404, train_label_loss: 0.1559, \n"
     ]
    },
    {
     "name": "stdout",
     "output_type": "stream",
     "text": [
      "epoch: 23, [batch: 4704 / 6720], examples_per_second: 2191.5075, train_label_loss: 0.0099, \n"
     ]
    },
    {
     "name": "stdout",
     "output_type": "stream",
     "text": [
      "epoch: 23, [batch: 5376 / 6720], examples_per_second: 1943.7278, train_label_loss: 0.1138, \n"
     ]
    },
    {
     "name": "stdout",
     "output_type": "stream",
     "text": [
      "epoch: 23, [batch: 6048 / 6720], examples_per_second: 1921.0940, train_label_loss: 0.1717, \n"
     ]
    },
    {
     "name": "stdout",
     "output_type": "stream",
     "text": [
      "=============================================================\n",
      "epoch: 23, source_val_acc_label: 0.8839, target_val_acc_label: 0.7079, source_val_label_loss: 0.3514, target_val_label_loss: 283.1000, \n",
      "=============================================================\n"
     ]
    },
    {
     "name": "stdout",
     "output_type": "stream",
     "text": [
      "epoch: 24, [batch: 1 / 6720], examples_per_second: 2.7599, train_label_loss: 0.0497, \n"
     ]
    },
    {
     "name": "stdout",
     "output_type": "stream",
     "text": [
      "epoch: 24, [batch: 672 / 6720], examples_per_second: 1935.5951, train_label_loss: 0.1181, \n"
     ]
    },
    {
     "name": "stdout",
     "output_type": "stream",
     "text": [
      "epoch: 24, [batch: 1344 / 6720], examples_per_second: 1944.4074, train_label_loss: 0.3877, \n"
     ]
    },
    {
     "name": "stdout",
     "output_type": "stream",
     "text": [
      "epoch: 24, [batch: 2016 / 6720], examples_per_second: 1893.6112, train_label_loss: 0.1258, \n"
     ]
    },
    {
     "name": "stdout",
     "output_type": "stream",
     "text": [
      "epoch: 24, [batch: 2688 / 6720], examples_per_second: 1946.2342, train_label_loss: 0.0746, \n"
     ]
    },
    {
     "name": "stdout",
     "output_type": "stream",
     "text": [
      "epoch: 24, [batch: 3360 / 6720], examples_per_second: 2007.0847, train_label_loss: 0.0906, \n"
     ]
    },
    {
     "name": "stdout",
     "output_type": "stream",
     "text": [
      "epoch: 24, [batch: 4032 / 6720], examples_per_second: 2466.5177, train_label_loss: 0.3705, \n"
     ]
    },
    {
     "name": "stdout",
     "output_type": "stream",
     "text": [
      "epoch: 24, [batch: 4704 / 6720], examples_per_second: 2154.3885, train_label_loss: 0.0215, \n"
     ]
    },
    {
     "name": "stdout",
     "output_type": "stream",
     "text": [
      "epoch: 24, [batch: 5376 / 6720], examples_per_second: 1958.2642, train_label_loss: 0.3782, \n"
     ]
    },
    {
     "name": "stdout",
     "output_type": "stream",
     "text": [
      "epoch: 24, [batch: 6048 / 6720], examples_per_second: 1928.6730, train_label_loss: 0.4889, \n"
     ]
    },
    {
     "name": "stdout",
     "output_type": "stream",
     "text": [
      "=============================================================\n",
      "epoch: 24, source_val_acc_label: 0.8806, target_val_acc_label: 0.7186, source_val_label_loss: 0.3523, target_val_label_loss: 275.7773, \n",
      "=============================================================\n"
     ]
    },
    {
     "name": "stdout",
     "output_type": "stream",
     "text": [
      "New best\n"
     ]
    },
    {
     "name": "stdout",
     "output_type": "stream",
     "text": [
      "epoch: 25, [batch: 1 / 6720], examples_per_second: 2.7927, train_label_loss: 0.0115, \n"
     ]
    },
    {
     "name": "stdout",
     "output_type": "stream",
     "text": [
      "epoch: 25, [batch: 672 / 6720], examples_per_second: 1941.1618, train_label_loss: 0.3871, \n"
     ]
    },
    {
     "name": "stdout",
     "output_type": "stream",
     "text": [
      "epoch: 25, [batch: 1344 / 6720], examples_per_second: 1973.4651, train_label_loss: 0.0268, \n"
     ]
    },
    {
     "name": "stdout",
     "output_type": "stream",
     "text": [
      "epoch: 25, [batch: 2016 / 6720], examples_per_second: 1968.5568, train_label_loss: 0.1337, \n"
     ]
    },
    {
     "name": "stdout",
     "output_type": "stream",
     "text": [
      "epoch: 25, [batch: 2688 / 6720], examples_per_second: 1929.7829, train_label_loss: 0.1174, \n"
     ]
    },
    {
     "name": "stdout",
     "output_type": "stream",
     "text": [
      "epoch: 25, [batch: 3360 / 6720], examples_per_second: 2030.1162, train_label_loss: 0.2829, \n"
     ]
    },
    {
     "name": "stdout",
     "output_type": "stream",
     "text": [
      "epoch: 25, [batch: 4032 / 6720], examples_per_second: 2475.6216, train_label_loss: 0.0315, \n"
     ]
    },
    {
     "name": "stdout",
     "output_type": "stream",
     "text": [
      "epoch: 25, [batch: 4704 / 6720], examples_per_second: 2171.2930, train_label_loss: 0.1146, \n"
     ]
    },
    {
     "name": "stdout",
     "output_type": "stream",
     "text": [
      "epoch: 25, [batch: 5376 / 6720], examples_per_second: 1973.9297, train_label_loss: 0.0064, \n"
     ]
    },
    {
     "name": "stdout",
     "output_type": "stream",
     "text": [
      "epoch: 25, [batch: 6048 / 6720], examples_per_second: 1973.3967, train_label_loss: 0.0078, \n"
     ]
    },
    {
     "name": "stdout",
     "output_type": "stream",
     "text": [
      "=============================================================\n",
      "epoch: 25, source_val_acc_label: 0.8900, target_val_acc_label: 0.7271, source_val_label_loss: 0.3351, target_val_label_loss: 318.8412, \n",
      "=============================================================\n"
     ]
    },
    {
     "name": "stdout",
     "output_type": "stream",
     "text": [
      "New best\n"
     ]
    },
    {
     "name": "stdout",
     "output_type": "stream",
     "text": [
      "epoch: 26, [batch: 1 / 6720], examples_per_second: 2.8627, train_label_loss: 0.0206, \n"
     ]
    },
    {
     "name": "stdout",
     "output_type": "stream",
     "text": [
      "epoch: 26, [batch: 672 / 6720], examples_per_second: 1974.4398, train_label_loss: 0.4145, \n"
     ]
    },
    {
     "name": "stdout",
     "output_type": "stream",
     "text": [
      "epoch: 26, [batch: 1344 / 6720], examples_per_second: 1977.6053, train_label_loss: 0.0203, \n"
     ]
    },
    {
     "name": "stdout",
     "output_type": "stream",
     "text": [
      "epoch: 26, [batch: 2016 / 6720], examples_per_second: 1973.4608, train_label_loss: 0.1821, \n"
     ]
    },
    {
     "name": "stdout",
     "output_type": "stream",
     "text": [
      "epoch: 26, [batch: 2688 / 6720], examples_per_second: 1970.0398, train_label_loss: 0.0256, \n"
     ]
    },
    {
     "name": "stdout",
     "output_type": "stream",
     "text": [
      "epoch: 26, [batch: 3360 / 6720], examples_per_second: 2051.4129, train_label_loss: 0.0570, \n"
     ]
    },
    {
     "name": "stdout",
     "output_type": "stream",
     "text": [
      "epoch: 26, [batch: 4032 / 6720], examples_per_second: 2509.0986, train_label_loss: 0.0156, \n"
     ]
    },
    {
     "name": "stdout",
     "output_type": "stream",
     "text": [
      "epoch: 26, [batch: 4704 / 6720], examples_per_second: 2156.4857, train_label_loss: 0.0832, \n"
     ]
    },
    {
     "name": "stdout",
     "output_type": "stream",
     "text": [
      "epoch: 26, [batch: 5376 / 6720], examples_per_second: 1988.7724, train_label_loss: 0.1158, \n"
     ]
    },
    {
     "name": "stdout",
     "output_type": "stream",
     "text": [
      "epoch: 26, [batch: 6048 / 6720], examples_per_second: 1989.7550, train_label_loss: 0.0200, \n"
     ]
    },
    {
     "name": "stdout",
     "output_type": "stream",
     "text": [
      "=============================================================\n",
      "epoch: 26, source_val_acc_label: 0.8855, target_val_acc_label: 0.7248, source_val_label_loss: 0.3494, target_val_label_loss: 313.2190, \n",
      "=============================================================\n"
     ]
    },
    {
     "name": "stdout",
     "output_type": "stream",
     "text": [
      "epoch: 27, [batch: 1 / 6720], examples_per_second: 2.9078, train_label_loss: 0.1580, \n"
     ]
    },
    {
     "name": "stdout",
     "output_type": "stream",
     "text": [
      "epoch: 27, [batch: 672 / 6720], examples_per_second: 1991.3727, train_label_loss: 0.2929, \n"
     ]
    },
    {
     "name": "stdout",
     "output_type": "stream",
     "text": [
      "epoch: 27, [batch: 1344 / 6720], examples_per_second: 1993.8804, train_label_loss: 0.0060, \n"
     ]
    },
    {
     "name": "stdout",
     "output_type": "stream",
     "text": [
      "epoch: 27, [batch: 2016 / 6720], examples_per_second: 1989.5433, train_label_loss: 0.0249, \n"
     ]
    },
    {
     "name": "stdout",
     "output_type": "stream",
     "text": [
      "epoch: 27, [batch: 2688 / 6720], examples_per_second: 1988.1476, train_label_loss: 0.0870, \n"
     ]
    },
    {
     "name": "stdout",
     "output_type": "stream",
     "text": [
      "epoch: 27, [batch: 3360 / 6720], examples_per_second: 2053.2599, train_label_loss: 0.0595, \n"
     ]
    },
    {
     "name": "stdout",
     "output_type": "stream",
     "text": [
      "epoch: 27, [batch: 4032 / 6720], examples_per_second: 2505.3997, train_label_loss: 0.0335, \n"
     ]
    },
    {
     "name": "stdout",
     "output_type": "stream",
     "text": [
      "epoch: 27, [batch: 4704 / 6720], examples_per_second: 2240.5451, train_label_loss: 0.1203, \n"
     ]
    },
    {
     "name": "stdout",
     "output_type": "stream",
     "text": [
      "epoch: 27, [batch: 5376 / 6720], examples_per_second: 1990.4120, train_label_loss: 0.0038, \n"
     ]
    },
    {
     "name": "stdout",
     "output_type": "stream",
     "text": [
      "epoch: 27, [batch: 6048 / 6720], examples_per_second: 1990.3170, train_label_loss: 0.2557, \n"
     ]
    },
    {
     "name": "stdout",
     "output_type": "stream",
     "text": [
      "=============================================================\n",
      "epoch: 27, source_val_acc_label: 0.8829, target_val_acc_label: 0.7149, source_val_label_loss: 0.3640, target_val_label_loss: 330.9070, \n",
      "=============================================================\n"
     ]
    },
    {
     "name": "stdout",
     "output_type": "stream",
     "text": [
      "epoch: 28, [batch: 1 / 6720], examples_per_second: 2.8946, train_label_loss: 0.1303, \n"
     ]
    },
    {
     "name": "stdout",
     "output_type": "stream",
     "text": [
      "epoch: 28, [batch: 672 / 6720], examples_per_second: 1988.3745, train_label_loss: 0.1551, \n"
     ]
    },
    {
     "name": "stdout",
     "output_type": "stream",
     "text": [
      "epoch: 28, [batch: 1344 / 6720], examples_per_second: 1990.0281, train_label_loss: 0.0105, \n"
     ]
    },
    {
     "name": "stdout",
     "output_type": "stream",
     "text": [
      "epoch: 28, [batch: 2016 / 6720], examples_per_second: 1974.2666, train_label_loss: 0.0192, \n"
     ]
    },
    {
     "name": "stdout",
     "output_type": "stream",
     "text": [
      "epoch: 28, [batch: 2688 / 6720], examples_per_second: 1983.2550, train_label_loss: 0.0327, \n"
     ]
    },
    {
     "name": "stdout",
     "output_type": "stream",
     "text": [
      "epoch: 28, [batch: 3360 / 6720], examples_per_second: 2035.1988, train_label_loss: 0.1077, \n"
     ]
    },
    {
     "name": "stdout",
     "output_type": "stream",
     "text": [
      "epoch: 28, [batch: 4032 / 6720], examples_per_second: 2472.7956, train_label_loss: 0.0204, \n"
     ]
    },
    {
     "name": "stdout",
     "output_type": "stream",
     "text": [
      "epoch: 28, [batch: 4704 / 6720], examples_per_second: 2257.7467, train_label_loss: 0.2456, \n"
     ]
    },
    {
     "name": "stdout",
     "output_type": "stream",
     "text": [
      "epoch: 28, [batch: 5376 / 6720], examples_per_second: 1914.5542, train_label_loss: 0.2804, \n"
     ]
    },
    {
     "name": "stdout",
     "output_type": "stream",
     "text": [
      "epoch: 28, [batch: 6048 / 6720], examples_per_second: 1913.0806, train_label_loss: 0.1375, \n"
     ]
    },
    {
     "name": "stdout",
     "output_type": "stream",
     "text": [
      "=============================================================\n",
      "epoch: 28, source_val_acc_label: 0.8878, target_val_acc_label: 0.7179, source_val_label_loss: 0.3541, target_val_label_loss: 346.4202, \n",
      "=============================================================\n"
     ]
    },
    {
     "name": "stdout",
     "output_type": "stream",
     "text": [
      "epoch: 29, [batch: 1 / 6720], examples_per_second: 2.7671, train_label_loss: 0.2149, \n"
     ]
    },
    {
     "name": "stdout",
     "output_type": "stream",
     "text": [
      "epoch: 29, [batch: 672 / 6720], examples_per_second: 1951.5461, train_label_loss: 0.0111, \n"
     ]
    },
    {
     "name": "stdout",
     "output_type": "stream",
     "text": [
      "epoch: 29, [batch: 1344 / 6720], examples_per_second: 1930.7151, train_label_loss: 0.2452, \n"
     ]
    },
    {
     "name": "stdout",
     "output_type": "stream",
     "text": [
      "epoch: 29, [batch: 2016 / 6720], examples_per_second: 1920.0112, train_label_loss: 0.2928, \n"
     ]
    },
    {
     "name": "stdout",
     "output_type": "stream",
     "text": [
      "epoch: 29, [batch: 2688 / 6720], examples_per_second: 1889.8338, train_label_loss: 0.0280, \n"
     ]
    },
    {
     "name": "stdout",
     "output_type": "stream",
     "text": [
      "epoch: 29, [batch: 3360 / 6720], examples_per_second: 1942.2940, train_label_loss: 0.0869, \n"
     ]
    },
    {
     "name": "stdout",
     "output_type": "stream",
     "text": [
      "epoch: 29, [batch: 4032 / 6720], examples_per_second: 2369.9092, train_label_loss: 0.0426, \n"
     ]
    },
    {
     "name": "stdout",
     "output_type": "stream",
     "text": [
      "epoch: 29, [batch: 4704 / 6720], examples_per_second: 2222.3685, train_label_loss: 0.0119, \n"
     ]
    },
    {
     "name": "stdout",
     "output_type": "stream",
     "text": [
      "epoch: 29, [batch: 5376 / 6720], examples_per_second: 1897.7524, train_label_loss: 0.0235, \n"
     ]
    },
    {
     "name": "stdout",
     "output_type": "stream",
     "text": [
      "epoch: 29, [batch: 6048 / 6720], examples_per_second: 1930.6549, train_label_loss: 0.1097, \n"
     ]
    },
    {
     "name": "stdout",
     "output_type": "stream",
     "text": [
      "=============================================================\n",
      "epoch: 29, source_val_acc_label: 0.8876, target_val_acc_label: 0.7138, source_val_label_loss: 0.3561, target_val_label_loss: 328.8971, \n",
      "=============================================================\n"
     ]
    },
    {
     "name": "stdout",
     "output_type": "stream",
     "text": [
      "Patience (3) exhausted\n"
     ]
    }
   ],
   "source": [
    "###################################\n",
    "# train\n",
    "###################################\n",
    "jig = PTN_Train_Eval_Test_Jig(model, p.BEST_MODEL_PATH, p.device)\n",
    "\n",
    "jig.train(\n",
    "    train_iterable=datasets.source.processed.train,\n",
    "    source_val_iterable=datasets.source.processed.val,\n",
    "    target_val_iterable=datasets.target.processed.val,\n",
    "    num_epochs=p.n_epoch,\n",
    "    num_logs_per_epoch=p.NUM_LOGS_PER_EPOCH,\n",
    "    patience=p.patience,\n",
    "    optimizer=optimizer,\n",
    "    criteria_for_best=p.criteria_for_best,\n",
    ")"
   ]
  },
  {
   "cell_type": "code",
   "execution_count": 23,
   "id": "31e8fabf",
   "metadata": {
    "execution": {
     "iopub.execute_input": "2022-03-26T01:09:34.870166Z",
     "iopub.status.busy": "2022-03-26T01:09:34.869845Z",
     "iopub.status.idle": "2022-03-26T01:09:34.889051Z",
     "shell.execute_reply": "2022-03-26T01:09:34.888591Z"
    },
    "papermill": {
     "duration": 0.099171,
     "end_time": "2022-03-26T01:09:34.889201",
     "exception": false,
     "start_time": "2022-03-26T01:09:34.790030",
     "status": "completed"
    },
    "tags": []
   },
   "outputs": [],
   "source": [
    "total_experiment_time_secs = time.time() - start_time_secs"
   ]
  },
  {
   "cell_type": "code",
   "execution_count": 24,
   "id": "87b9595b",
   "metadata": {
    "execution": {
     "iopub.execute_input": "2022-03-26T01:09:35.052829Z",
     "iopub.status.busy": "2022-03-26T01:09:35.052527Z",
     "iopub.status.idle": "2022-03-26T01:12:04.355177Z",
     "shell.execute_reply": "2022-03-26T01:12:04.354697Z"
    },
    "papermill": {
     "duration": 149.385682,
     "end_time": "2022-03-26T01:12:04.355290",
     "exception": false,
     "start_time": "2022-03-26T01:09:34.969608",
     "status": "completed"
    },
    "tags": []
   },
   "outputs": [],
   "source": [
    "###################################\n",
    "# Evaluate the model\n",
    "###################################\n",
    "source_test_label_accuracy, source_test_label_loss = jig.test(datasets.source.processed.test)\n",
    "target_test_label_accuracy, target_test_label_loss = jig.test(datasets.target.processed.test)\n",
    "\n",
    "source_val_label_accuracy, source_val_label_loss = jig.test(datasets.source.processed.val)\n",
    "target_val_label_accuracy, target_val_label_loss = jig.test(datasets.target.processed.val)\n",
    "\n",
    "history = jig.get_history()\n",
    "\n",
    "total_epochs_trained = len(history[\"epoch_indices\"])\n",
    "\n",
    "val_dl = Iterable_Aggregator((datasets.source.original.val,datasets.target.original.val))\n",
    "\n",
    "confusion = ptn_confusion_by_domain_over_dataloader(model, p.device, val_dl)\n",
    "per_domain_accuracy = per_domain_accuracy_from_confusion(confusion)\n",
    "\n",
    "# Add a key to per_domain_accuracy for if it was a source domain\n",
    "for domain, accuracy in per_domain_accuracy.items():\n",
    "    per_domain_accuracy[domain] = {\n",
    "        \"accuracy\": accuracy,\n",
    "        \"source?\": domain in p.domains_source\n",
    "    }\n",
    "\n",
    "# Do an independent accuracy assesment JUST TO BE SURE!\n",
    "# _source_test_label_accuracy = independent_accuracy_assesment(model, datasets.source.processed.test, p.device)\n",
    "# _target_test_label_accuracy = independent_accuracy_assesment(model, datasets.target.processed.test, p.device)\n",
    "# _source_val_label_accuracy = independent_accuracy_assesment(model, datasets.source.processed.val, p.device)\n",
    "# _target_val_label_accuracy = independent_accuracy_assesment(model, datasets.target.processed.val, p.device)\n",
    "\n",
    "# assert(_source_test_label_accuracy == source_test_label_accuracy)\n",
    "# assert(_target_test_label_accuracy == target_test_label_accuracy)\n",
    "# assert(_source_val_label_accuracy == source_val_label_accuracy)\n",
    "# assert(_target_val_label_accuracy == target_val_label_accuracy)\n",
    "\n",
    "experiment = {\n",
    "    \"experiment_name\": p.experiment_name,\n",
    "    \"parameters\": dict(p),\n",
    "    \"results\": {\n",
    "        \"source_test_label_accuracy\": source_test_label_accuracy,\n",
    "        \"source_test_label_loss\": source_test_label_loss,\n",
    "        \"target_test_label_accuracy\": target_test_label_accuracy,\n",
    "        \"target_test_label_loss\": target_test_label_loss,\n",
    "        \"source_val_label_accuracy\": source_val_label_accuracy,\n",
    "        \"source_val_label_loss\": source_val_label_loss,\n",
    "        \"target_val_label_accuracy\": target_val_label_accuracy,\n",
    "        \"target_val_label_loss\": target_val_label_loss,\n",
    "        \"total_epochs_trained\": total_epochs_trained,\n",
    "        \"total_experiment_time_secs\": total_experiment_time_secs,\n",
    "        \"confusion\": confusion,\n",
    "        \"per_domain_accuracy\": per_domain_accuracy,\n",
    "    },\n",
    "    \"history\": history,\n",
    "    \"dataset_metrics\": get_dataset_metrics(datasets, \"ptn\"),\n",
    "}"
   ]
  },
  {
   "cell_type": "code",
   "execution_count": 25,
   "id": "54a21829",
   "metadata": {
    "execution": {
     "iopub.execute_input": "2022-03-26T01:12:04.523678Z",
     "iopub.status.busy": "2022-03-26T01:12:04.522889Z",
     "iopub.status.idle": "2022-03-26T01:12:04.649368Z",
     "shell.execute_reply": "2022-03-26T01:12:04.648921Z"
    },
    "papermill": {
     "duration": 0.208271,
     "end_time": "2022-03-26T01:12:04.649475",
     "exception": false,
     "start_time": "2022-03-26T01:12:04.441204",
     "status": "completed"
    },
    "tags": []
   },
   "outputs": [
    {
     "data": {
      "image/png": "[encoded data removed]",
      "text/plain": [
       "<Figure size 1080x504 with 1 Axes>"
      ]
     },
     "metadata": {
      "needs_background": "light"
     },
     "output_type": "display_data"
    }
   ],
   "source": [
    "ax = get_loss_curve(experiment)\n",
    "plt.show()"
   ]
  },
  {
   "cell_type": "code",
   "execution_count": 26,
   "id": "fd8a0f60",
   "metadata": {
    "execution": {
     "iopub.execute_input": "2022-03-26T01:12:04.810266Z",
     "iopub.status.busy": "2022-03-26T01:12:04.809990Z",
     "iopub.status.idle": "2022-03-26T01:12:04.979039Z",
     "shell.execute_reply": "2022-03-26T01:12:04.978794Z"
    },
    "papermill": {
     "duration": 0.247956,
     "end_time": "2022-03-26T01:12:04.979101",
     "exception": false,
     "start_time": "2022-03-26T01:12:04.731145",
     "status": "completed"
    },
    "tags": []
   },
   "outputs": [
    {
     "data": {
      "text/plain": [
       "<AxesSubplot:title={'center':'Results'}>"
      ]
     },
     "execution_count": 26,
     "metadata": {},
     "output_type": "execute_result"
    },
    {
     "data": {
      "image/png": "[encoded data removed]",
      "text/plain": [
       "<Figure size 1080x504 with 1 Axes>"
      ]
     },
     "metadata": {
      "needs_background": "light"
     },
     "output_type": "display_data"
    }
   ],
   "source": [
    "get_results_table(experiment)"
   ]
  },
  {
   "cell_type": "code",
   "execution_count": 27,
   "id": "cf8dc689",
   "metadata": {
    "execution": {
     "iopub.execute_input": "2022-03-26T01:12:05.139595Z",
     "iopub.status.busy": "2022-03-26T01:12:05.139329Z",
     "iopub.status.idle": "2022-03-26T01:12:05.277739Z",
     "shell.execute_reply": "2022-03-26T01:12:05.278198Z"
    },
    "papermill": {
     "duration": 0.221339,
     "end_time": "2022-03-26T01:12:05.278334",
     "exception": false,
     "start_time": "2022-03-26T01:12:05.056995",
     "status": "completed"
    },
    "tags": []
   },
   "outputs": [
    {
     "data": {
      "text/plain": [
       "<AxesSubplot:title={'center':'Per Domain Validation Accuracy'}, xlabel='domain'>"
      ]
     },
     "execution_count": 27,
     "metadata": {},
     "output_type": "execute_result"
    },
    {
     "data": {
      "image/png": "[encoded data removed]",
      "text/plain": [
       "<Figure size 1080x504 with 1 Axes>"
      ]
     },
     "metadata": {
      "needs_background": "light"
     },
     "output_type": "display_data"
    }
   ],
   "source": [
    "get_domain_accuracies(experiment)"
   ]
  },
  {
   "cell_type": "code",
   "execution_count": 28,
   "id": "a74ae082",
   "metadata": {
    "execution": {
     "iopub.execute_input": "2022-03-26T01:12:05.445295Z",
     "iopub.status.busy": "2022-03-26T01:12:05.443821Z",
     "iopub.status.idle": "2022-03-26T01:12:05.462534Z",
     "shell.execute_reply": "2022-03-26T01:12:05.462024Z"
    },
    "papermill": {
     "duration": 0.099434,
     "end_time": "2022-03-26T01:12:05.462642",
     "exception": false,
     "start_time": "2022-03-26T01:12:05.363208",
     "status": "completed"
    },
    "tags": []
   },
   "outputs": [
    {
     "name": "stdout",
     "output_type": "stream",
     "text": [
      "Source Test Label Accuracy: 0.88955078125 Target Test Label Accuracy: 0.7265448645598194\n",
      "Source Val Label Accuracy: 0.8900065104166667 Target Val Label Accuracy: 0.7271428571428571\n"
     ]
    }
   ],
   "source": [
    "print(\"Source Test Label Accuracy:\", experiment[\"results\"][\"source_test_label_accuracy\"], \"Target Test Label Accuracy:\", experiment[\"results\"][\"target_test_label_accuracy\"])\n",
    "print(\"Source Val Label Accuracy:\", experiment[\"results\"][\"source_val_label_accuracy\"], \"Target Val Label Accuracy:\", experiment[\"results\"][\"target_val_label_accuracy\"])"
   ]
  },
  {
   "cell_type": "code",
   "execution_count": 29,
   "id": "dacca602",
   "metadata": {
    "execution": {
     "iopub.execute_input": "2022-03-26T01:12:05.627664Z",
     "iopub.status.busy": "2022-03-26T01:12:05.627251Z",
     "iopub.status.idle": "2022-03-26T01:12:05.644689Z",
     "shell.execute_reply": "2022-03-26T01:12:05.645104Z"
    },
    "papermill": {
     "duration": 0.100423,
     "end_time": "2022-03-26T01:12:05.645233",
     "exception": false,
     "start_time": "2022-03-26T01:12:05.544810",
     "status": "completed"
    },
    "tags": [
     "experiment_json"
    ]
   },
   "outputs": [
    {
     "data": {
      "text/plain": [
       "'{\"experiment_name\": \"tl_3-filterv2:oracle.run1.framed -> cores\", \"parameters\": {\"experiment_name\": \"tl_3-filterv2:oracle.run1.framed -> cores\", \"device\": \"cuda\", \"lr\": 0.0001, \"x_shape\": [2, 200], \"n_shot\": 3, \"n_query\": 2, \"train_k_factor\": 3, \"val_k_factor\": 2, \"test_k_factor\": 2, \"torch_default_dtype\": \"torch.float32\", \"n_epoch\": 50, \"patience\": 3, \"criteria_for_best\": \"target_accuracy\", \"x_net\": [{\"class\": \"nnReshape\", \"kargs\": {\"shape\": [-1, 1, 2, 200]}}, {\"class\": \"Conv2d\", \"kargs\": {\"in_channels\": 1, \"out_channels\": 256, \"kernel_size\": [1, 7], \"bias\": false, \"padding\": [0, 3]}}, {\"class\": \"ReLU\", \"kargs\": {\"inplace\": true}}, {\"class\": \"BatchNorm2d\", \"kargs\": {\"num_features\": 256}}, {\"class\": \"Conv2d\", \"kargs\": {\"in_channels\": 256, \"out_channels\": 80, \"kernel_size\": [2, 7], \"bias\": true, \"padding\": [0, 3]}}, {\"class\": \"ReLU\", \"kargs\": {\"inplace\": true}}, {\"class\": \"BatchNorm2d\", \"kargs\": {\"num_features\": 80}}, {\"class\": \"Flatten\", \"kargs\": {}}, {\"class\": \"Linear\", \"kargs\": {\"in_features\": 16000, \"out_features\": 256}}, {\"class\": \"ReLU\", \"kargs\": {\"inplace\": true}}, {\"class\": \"BatchNorm1d\", \"kargs\": {\"num_features\": 256}}, {\"class\": \"Linear\", \"kargs\": {\"in_features\": 256, \"out_features\": 256}}], \"NUM_LOGS_PER_EPOCH\": 10, \"BEST_MODEL_PATH\": \"./best_model.pth\", \"n_way\": 16, \"datasets\": [{\"labels\": [\"1-10.\", \"1-11.\", \"1-15.\", \"1-16.\", \"1-17.\", \"1-18.\", \"1-19.\", \"10-4.\", \"10-7.\", \"11-1.\", \"11-14.\", \"11-17.\", \"11-20.\", \"11-7.\", \"13-20.\", \"13-8.\", \"14-10.\", \"14-11.\", \"14-14.\", \"14-7.\", \"15-1.\", \"15-20.\", \"16-1.\", \"16-16.\", \"17-10.\", \"17-11.\", \"17-2.\", \"19-1.\", \"19-16.\", \"19-19.\", \"19-20.\", \"19-3.\", \"2-10.\", \"2-11.\", \"2-17.\", \"2-18.\", \"2-20.\", \"2-3.\", \"2-4.\", \"2-5.\", \"2-6.\", \"2-7.\", \"2-8.\", \"3-13.\", \"3-18.\", \"3-3.\", \"4-1.\", \"4-10.\", \"4-11.\", \"4-19.\", \"5-5.\", \"6-15.\", \"7-10.\", \"7-14.\", \"8-18.\", \"8-20.\", \"8-3.\", \"8-8.\"], \"domains\": [1, 2, 3, 4, 5], \"num_examples_per_domain_per_label\": -1, \"pickle_path\": \"/mnt/wd500GB/CSC500/csc500-main/datasets/cores.stratified_ds.2022A.pkl\", \"source_or_target_dataset\": \"target\", \"x_transforms\": [\"unit_mag\", \"lowpass_+/-10MHz\", \"take_200\"], \"episode_transforms\": [], \"domain_prefix\": \"C_\"}, {\"labels\": [\"3123D52\", \"3123D65\", \"3123D79\", \"3123D80\", \"3123D54\", \"3123D70\", \"3123D7B\", \"3123D89\", \"3123D58\", \"3123D76\", \"3123D7D\", \"3123EFE\", \"3123D64\", \"3123D78\", \"3123D7E\", \"3124E4A\"], \"domains\": [32, 38, 8, 44, 14, 50, 20, 26], \"num_examples_per_domain_per_label\": 2000, \"pickle_path\": \"/mnt/wd500GB/CSC500/csc500-main/datasets/oracle.Run1_framed_2000Examples_stratified_ds.2022A.pkl\", \"source_or_target_dataset\": \"source\", \"x_transforms\": [\"unit_mag\", \"take_200\", \"resample_20Msps_to_25Msps\"], \"episode_transforms\": [], \"domain_prefix\": \"O_\"}], \"seed\": 420, \"dataset_seed\": 420, \"domains_source\": [\"O_32\", \"O_38\", \"O_8\", \"O_44\", \"O_14\", \"O_50\", \"O_20\", \"O_26\"], \"domains_target\": [\"C_1\", \"C_2\", \"C_3\", \"C_4\", \"C_5\"]}, \"results\": {\"source_test_label_accuracy\": 0.88955078125, \"source_test_label_loss\": 0.42575520277023315, \"target_test_label_accuracy\": 0.7265448645598194, \"target_test_label_loss\": 316.6018981933594, \"source_val_label_accuracy\": 0.8900065104166667, \"source_val_label_loss\": 0.33512550592422485, \"target_val_label_accuracy\": 0.7271428571428571, \"target_val_label_loss\": 318.8411865234375, \"total_epochs_trained\": 29, \"total_experiment_time_secs\": 8612.25937962532, \"confusion\": {\"O_14\": {\"15\": {\"15\": 240}, \"5\": {\"5\": 236, \"3\": 1, \"1\": 2, \"14\": 1}, \"7\": {\"7\": 240}, \"4\": {\"4\": 237, \"6\": 1, \"1\": 1, \"2\": 1}, \"10\": {\"10\": 240}, \"11\": {\"11\": 238, \"9\": 1, \"0\": 1}, \"12\": {\"12\": 240}, \"0\": {\"0\": 235, \"3\": 1, \"10\": 4}, \"14\": {\"14\": 233, \"2\": 4, \"13\": 2, \"3\": 1}, \"8\": {\"8\": 239, \"0\": 1}, \"13\": {\"6\": 58, \"13\": 176, \"4\": 2, \"3\": 1, \"2\": 3}, \"6\": {\"6\": 205, \"2\": 7, \"13\": 28}, \"1\": {\"1\": 237, \"2\": 1, \"4\": 2}, \"3\": {\"3\": 235, \"2\": 3, \"10\": 1, \"14\": 1}, \"9\": {\"9\": 240}, \"2\": {\"2\": 201, \"6\": 6, \"14\": 12, \"3\": 9, \"13\": 8, \"1\": 1, \"4\": 2, \"5\": 1}}, \"O_20\": {\"4\": {\"4\": 234, \"3\": 2, \"12\": 1, \"8\": 3}, \"10\": {\"10\": 240}, \"15\": {\"15\": 224, \"13\": 2, \"1\": 6, \"0\": 8}, \"0\": {\"0\": 228, \"15\": 12}, \"6\": {\"6\": 240}, \"3\": {\"3\": 166, \"9\": 20, \"2\": 16, \"4\": 7, \"12\": 24, \"7\": 2, \"1\": 3, \"10\": 2}, \"7\": {\"7\": 226, \"8\": 2, \"2\": 9, \"9\": 1, \"4\": 1, \"3\": 1}, \"2\": {\"2\": 173, \"7\": 13, \"9\": 21, \"3\": 17, \"12\": 14, \"13\": 1, \"1\": 1}, \"8\": {\"8\": 230, \"7\": 5, \"4\": 4, \"3\": 1}, \"11\": {\"11\": 240}, \"14\": {\"14\": 235, \"6\": 5}, \"12\": {\"12\": 178, \"3\": 24, \"1\": 27, \"2\": 7, \"9\": 4}, \"13\": {\"13\": 235, \"2\": 3, \"7\": 2}, \"9\": {\"9\": 189, \"12\": 6, \"3\": 15, \"2\": 27, \"7\": 3}, \"5\": {\"5\": 238, \"0\": 2}, \"1\": {\"1\": 193, \"12\": 30, \"15\": 11, \"9\": 1, \"13\": 1, \"3\": 2, \"2\": 2}}, \"O_50\": {\"5\": {\"5\": 208, \"7\": 10, \"4\": 14, \"13\": 4, \"1\": 3, \"6\": 1}, \"12\": {\"12\": 221, \"11\": 13, \"9\": 6}, \"14\": {\"14\": 239, \"1\": 1}, \"4\": {\"4\": 183, \"7\": 9, \"1\": 3, \"15\": 28, \"6\": 7, \"11\": 2, \"5\": 7, \"13\": 1}, \"13\": {\"13\": 212, \"10\": 10, \"0\": 3, \"1\": 1, \"6\": 6, \"5\": 3, \"7\": 5}, \"10\": {\"10\": 232, \"0\": 7, \"8\": 1}, \"9\": {\"9\": 229, \"11\": 4, \"12\": 7}, \"15\": {\"15\": 211, \"1\": 13, \"5\": 2, \"4\": 10, \"11\": 4}, \"6\": {\"6\": 212, \"15\": 6, \"7\": 6, \"5\": 3, \"13\": 7, \"4\": 4, \"1\": 2}, \"2\": {\"2\": 219, \"0\": 21}, \"0\": {\"0\": 218, \"10\": 9, \"2\": 13}, \"11\": {\"11\": 211, \"12\": 7, \"9\": 11, \"15\": 10, \"4\": 1}, \"3\": {\"3\": 237, \"8\": 3}, \"8\": {\"8\": 236, \"3\": 2, \"10\": 2}, \"7\": {\"7\": 220, \"5\": 5, \"13\": 6, \"4\": 2, \"6\": 7}, \"1\": {\"1\": 223, \"15\": 11, \"5\": 1, \"14\": 2, \"4\": 1, \"11\": 1, \"2\": 1}}, \"O_26\": {\"7\": {\"8\": 13, \"7\": 175, \"3\": 15, \"1\": 1, \"2\": 19, \"4\": 12, \"0\": 3, \"15\": 1, \"14\": 1}, \"6\": {\"6\": 214, \"15\": 15, \"10\": 9, \"0\": 1, \"8\": 1}, \"14\": {\"14\": 214, \"1\": 5, \"8\": 5, \"7\": 2, \"0\": 7, \"10\": 7}, \"15\": {\"15\": 201, \"8\": 8, \"10\": 11, \"6\": 3, \"2\": 2, \"9\": 12, \"13\": 2, \"0\": 1}, \"5\": {\"5\": 236, \"9\": 1, \"2\": 2, \"13\": 1}, \"10\": {\"0\": 66, \"10\": 135, \"14\": 3, \"4\": 3, \"8\": 20, \"6\": 6, \"1\": 3, \"9\": 1, \"15\": 3}, \"4\": {\"4\": 210, \"0\": 10, \"8\": 11, \"7\": 7, \"1\": 1, \"10\": 1}, \"11\": {\"11\": 240}, \"13\": {\"13\": 219, \"9\": 11, \"3\": 1, \"2\": 8, \"15\": 1}, \"2\": {\"7\": 28, \"2\": 136, \"3\": 65, \"1\": 1, \"8\": 3, \"9\": 3, \"13\": 4}, \"0\": {\"10\": 67, \"8\": 18, \"14\": 7, \"0\": 134, \"6\": 3, \"7\": 2, \"4\": 8, \"1\": 1}, \"12\": {\"12\": 240}, \"3\": {\"3\": 189, \"7\": 18, \"2\": 33}, \"9\": {\"9\": 221, \"15\": 8, \"6\": 2, \"13\": 7, \"8\": 2}, \"8\": {\"8\": 153, \"4\": 14, \"10\": 29, \"14\": 6, \"0\": 26, \"15\": 3, \"7\": 7, \"2\": 2}, \"1\": {\"1\": 225, \"14\": 9, \"3\": 1, \"10\": 1, \"4\": 1, \"0\": 2, \"8\": 1}}, \"O_32\": {\"7\": {\"7\": 199, \"0\": 6, \"2\": 2, \"4\": 10, \"5\": 14, \"13\": 5, \"14\": 4}, \"2\": {\"2\": 198, \"4\": 36, \"7\": 5, \"13\": 1}, \"5\": {\"5\": 196, \"7\": 28, \"8\": 2, \"13\": 7, \"4\": 2, \"14\": 4, \"3\": 1}, \"6\": {\"6\": 240}, \"13\": {\"13\": 187, \"3\": 19, \"8\": 13, \"7\": 4, \"4\": 13, \"11\": 1, \"0\": 1, \"5\": 1, \"14\": 1}, \"4\": {\"2\": 36, \"4\": 183, \"7\": 10, \"0\": 1, \"13\": 10}, \"3\": {\"3\": 228, \"13\": 9, \"11\": 2, \"8\": 1}, \"0\": {\"0\": 202, \"8\": 27, \"14\": 6, \"7\": 5}, \"9\": {\"9\": 240}, \"12\": {\"12\": 240}, \"8\": {\"8\": 190, \"14\": 5, \"0\": 24, \"5\": 11, \"13\": 8, \"3\": 2}, \"14\": {\"14\": 213, \"8\": 2, \"0\": 7, \"7\": 2, \"11\": 11, \"5\": 3, \"3\": 2}, \"15\": {\"15\": 240}, \"11\": {\"11\": 231, \"14\": 7, \"3\": 2}, \"10\": {\"10\": 240}, \"1\": {\"1\": 240}}, \"O_44\": {\"11\": {\"11\": 232, \"6\": 2, \"13\": 6}, \"7\": {\"7\": 168, \"9\": 50, \"2\": 11, \"13\": 2, \"6\": 9}, \"6\": {\"6\": 154, \"13\": 58, \"9\": 24, \"7\": 4}, \"12\": {\"12\": 223, \"1\": 14, \"3\": 3}, \"4\": {\"4\": 195, \"14\": 37, \"15\": 7, \"6\": 1}, \"13\": {\"6\": 44, \"13\": 169, \"9\": 22, \"11\": 3, \"7\": 2}, \"8\": {\"0\": 71, \"8\": 158, \"14\": 2, \"15\": 7, \"5\": 2}, \"5\": {\"5\": 225, \"8\": 2, \"14\": 4, \"15\": 2, \"0\": 7}, \"14\": {\"14\": 178, \"15\": 9, \"4\": 50, \"5\": 3}, \"3\": {\"3\": 221, \"1\": 13, \"2\": 3, \"12\": 3}, \"10\": {\"10\": 203, \"1\": 20, \"7\": 2, \"12\": 2, \"2\": 13}, \"1\": {\"1\": 172, \"12\": 25, \"10\": 13, \"2\": 17, \"3\": 13}, \"2\": {\"2\": 203, \"10\": 4, \"1\": 13, \"7\": 18, \"3\": 1, \"9\": 1}, \"15\": {\"15\": 205, \"4\": 4, \"14\": 10, \"0\": 16, \"8\": 3, \"5\": 2}, \"9\": {\"9\": 124, \"7\": 47, \"6\": 32, \"13\": 37}, \"0\": {\"8\": 61, \"0\": 168, \"15\": 9, \"5\": 2}}, \"O_8\": {\"10\": {\"10\": 224, \"13\": 10, \"4\": 4, \"0\": 1, \"1\": 1}, \"6\": {\"4\": 15, \"6\": 197, \"7\": 19, \"0\": 3, \"13\": 6}, \"13\": {\"6\": 9, \"4\": 25, \"10\": 35, \"13\": 163, \"0\": 7, \"7\": 1}, \"3\": {\"3\": 238, \"2\": 2}, \"9\": {\"9\": 240}, \"1\": {\"1\": 239, \"10\": 1}, \"5\": {\"5\": 239, \"14\": 1}, \"11\": {\"11\": 232, \"1\": 8}, \"4\": {\"4\": 210, \"13\": 22, \"6\": 4, \"10\": 2, \"0\": 2}, \"14\": {\"14\": 239, \"10\": 1}, \"12\": {\"12\": 217, \"15\": 18, \"3\": 5}, \"7\": {\"7\": 210, \"6\": 28, \"4\": 1, \"3\": 1}, \"0\": {\"0\": 221, \"13\": 7, \"7\": 6, \"4\": 4, \"6\": 2}, \"15\": {\"15\": 228, \"12\": 12}, \"2\": {\"3\": 6, \"2\": 232, \"7\": 2}, \"8\": {\"8\": 238, \"12\": 1, \"15\": 1}}, \"O_38\": {\"4\": {\"4\": 236, \"10\": 3, \"12\": 1}, \"7\": {\"7\": 222, \"0\": 3, \"5\": 7, \"8\": 7, \"9\": 1}, \"12\": {\"12\": 239, \"4\": 1}, \"10\": {\"7\": 2, \"10\": 198, \"8\": 3, \"0\": 16, \"13\": 18, \"5\": 1, \"14\": 1, \"4\": 1}, \"0\": {\"0\": 200, \"7\": 12, \"5\": 2, \"3\": 6, \"4\": 1, \"8\": 14, \"10\": 3, \"13\": 1, \"9\": 1}, \"1\": {\"1\": 229, \"15\": 11}, \"5\": {\"5\": 190, \"7\": 18, \"13\": 2, \"8\": 24, \"9\": 4, \"6\": 2}, \"15\": {\"15\": 207, \"1\": 16, \"8\": 14, \"13\": 3}, \"9\": {\"9\": 236, \"6\": 2, \"3\": 2}, \"11\": {\"11\": 240}, \"14\": {\"14\": 227, \"2\": 10, \"10\": 1, \"8\": 1, \"0\": 1}, \"6\": {\"6\": 236, \"5\": 3, \"9\": 1}, \"8\": {\"8\": 181, \"7\": 17, \"5\": 18, \"13\": 3, \"0\": 9, \"15\": 12}, \"3\": {\"3\": 232, \"0\": 7, \"13\": 1}, \"2\": {\"2\": 226, \"13\": 5, \"14\": 9}, \"13\": {\"13\": 216, \"10\": 12, \"0\": 4, \"2\": 6, \"8\": 1, \"15\": 1}}, \"C_4\": {\"42\": {\"20\": 1, \"42\": 26, \"9\": 1, \"5\": 1, \"48\": 1, \"45\": 1, \"21\": 1}, \"0\": {\"0\": 71, \"43\": 1, \"46\": 4, \"55\": 2, \"24\": 1, \"22\": 1}, \"1\": {\"1\": 34, \"29\": 2, \"34\": 1, \"57\": 1, \"44\": 1, \"5\": 1}, \"39\": {\"39\": 17, \"17\": 1, \"51\": 1, \"50\": 1}, \"28\": {\"20\": 1, \"39\": 2, \"9\": 2, \"45\": 1, \"28\": 18, \"6\": 2, \"29\": 1, \"50\": 1, \"42\": 3, \"34\": 1}, \"53\": {\"53\": 105, \"25\": 1, \"51\": 6, \"54\": 2, \"21\": 1, \"50\": 2, \"8\": 1, \"48\": 1, \"27\": 1, \"16\": 1, \"36\": 2, \"46\": 1}, \"19\": {\"19\": 102, \"1\": 1, \"29\": 11, \"26\": 1, \"44\": 12, \"51\": 1, \"57\": 9, \"50\": 1, \"28\": 2, \"5\": 1, \"47\": 1, \"46\": 1, \"55\": 1}, \"34\": {\"34\": 19, \"41\": 3, \"1\": 1, \"5\": 1}, \"33\": {\"33\": 27, \"49\": 1, \"57\": 3, \"28\": 1, \"29\": 1, \"7\": 1, \"13\": 1, \"5\": 1}, \"32\": {\"32\": 22, \"11\": 1, \"57\": 1}, \"10\": {\"10\": 135, \"0\": 1}, \"46\": {\"32\": 3, \"46\": 61, \"14\": 2, \"28\": 1, \"43\": 7, \"41\": 3, \"11\": 5, \"56\": 4, \"26\": 1, \"47\": 3, \"16\": 2, \"24\": 3, \"5\": 5, \"55\": 5, \"3\": 3, \"22\": 2, \"57\": 2, \"40\": 6, \"6\": 3, \"4\": 2, \"50\": 3, \"29\": 2, \"2\": 1, \"0\": 2, \"19\": 1, \"15\": 1, \"25\": 1}, \"20\": {\"20\": 105, \"25\": 1, \"5\": 1, \"18\": 2, \"52\": 1, \"27\": 2, \"46\": 3, \"55\": 1, \"28\": 1, \"8\": 2, \"16\": 1, \"48\": 2}, \"5\": {\"28\": 1, \"20\": 1, \"3\": 2, \"5\": 26, \"27\": 4, \"48\": 8, \"16\": 10, \"1\": 1, \"4\": 6, \"53\": 2, \"41\": 2, \"47\": 7, \"0\": 2, \"9\": 7, \"6\": 1, \"23\": 2, \"50\": 4, \"52\": 1, \"46\": 2, \"34\": 2, \"32\": 1, \"39\": 1, \"36\": 1, \"42\": 1, \"7\": 1, \"31\": 1, \"21\": 1, \"17\": 1, \"45\": 2, \"54\": 1, \"56\": 1, \"22\": 1, \"25\": 1, \"12\": 1, \"19\": 2}, \"40\": {\"46\": 3, \"40\": 99, \"34\": 1, \"33\": 2, \"32\": 1, \"2\": 1, \"55\": 3, \"19\": 1, \"57\": 3, \"56\": 4, \"29\": 4, \"43\": 2}, \"51\": {\"51\": 94, \"20\": 9, \"21\": 7, \"36\": 7, \"8\": 18, \"17\": 2, \"30\": 1, \"12\": 1, \"27\": 1, \"52\": 1, \"15\": 2, \"45\": 1}, \"37\": {\"37\": 24}, \"17\": {\"27\": 4, \"17\": 66, \"30\": 3, \"8\": 1, \"21\": 4, \"12\": 1, \"20\": 1}, \"45\": {\"45\": 49, \"27\": 10, \"30\": 3, \"21\": 8, \"23\": 2, \"17\": 6, \"12\": 6, \"8\": 6, \"4\": 1, \"20\": 2, \"50\": 1, \"48\": 1, \"9\": 1}, \"13\": {\"13\": 138, \"56\": 4}, \"27\": {\"27\": 73, \"12\": 4, \"30\": 6, \"48\": 4, \"18\": 9, \"8\": 11, \"45\": 1, \"17\": 12, \"21\": 6, \"20\": 14, \"23\": 1, \"36\": 2, \"4\": 1}, \"24\": {\"24\": 47, \"0\": 2, \"43\": 3, \"10\": 1, \"2\": 2, \"56\": 1}, \"30\": {\"27\": 2, \"30\": 38, \"51\": 1, \"12\": 1, \"17\": 1, \"18\": 1}, \"31\": {\"31\": 27, \"37\": 1}, \"41\": {\"41\": 33, \"38\": 1, \"47\": 1, \"13\": 1}, \"36\": {\"36\": 50, \"27\": 3, \"20\": 7, \"17\": 1, \"8\": 3, \"52\": 3, \"50\": 2, \"18\": 1, \"51\": 5, \"45\": 1, \"16\": 1, \"21\": 3, \"34\": 1, \"6\": 1, \"30\": 2, \"12\": 7, \"54\": 1}, \"16\": {\"16\": 70, \"39\": 2, \"54\": 4, \"41\": 2, \"11\": 6, \"36\": 1, \"5\": 2, \"53\": 4, \"57\": 1, \"50\": 1, \"6\": 1, \"43\": 1, \"15\": 1}, \"22\": {\"13\": 2, \"22\": 82, \"0\": 5, \"35\": 1, \"7\": 3, \"11\": 2, \"43\": 5, \"24\": 1, \"29\": 5, \"33\": 1, \"44\": 1, \"56\": 3, \"55\": 1, \"10\": 5, \"16\": 2, \"46\": 2, \"37\": 1, \"41\": 2, \"54\": 1, \"2\": 1, \"40\": 1, \"57\": 1}, \"44\": {\"44\": 72, \"34\": 1, \"7\": 1, \"26\": 1, \"19\": 16, \"57\": 5, \"3\": 3, \"47\": 8, \"29\": 12, \"40\": 1, \"4\": 4, \"5\": 3, \"31\": 1, \"33\": 1, \"46\": 1, \"10\": 1, \"50\": 1}, \"9\": {\"45\": 3, \"9\": 94, \"36\": 3, \"54\": 2, \"27\": 3, \"17\": 1, \"47\": 1, \"4\": 19, \"5\": 1, \"53\": 4, \"48\": 1, \"8\": 1, \"42\": 1, \"23\": 2, \"25\": 1, \"51\": 1, \"50\": 2}, \"57\": {\"57\": 65, \"1\": 3, \"19\": 7, \"37\": 1, \"44\": 8, \"29\": 13, \"40\": 1, \"55\": 1, \"46\": 1}, \"8\": {\"8\": 88, \"21\": 7, \"51\": 2, \"27\": 4, \"30\": 7, \"12\": 11, \"52\": 2, \"20\": 11, \"18\": 3, \"17\": 2, \"45\": 1}, \"23\": {\"23\": 72, \"8\": 8, \"21\": 4, \"52\": 5, \"27\": 6, \"18\": 9, \"20\": 15, \"12\": 3, \"17\": 2, \"45\": 3, \"51\": 1, \"48\": 1, \"36\": 2, \"15\": 1}, \"47\": {\"47\": 78, \"5\": 6, \"28\": 3, \"4\": 2, \"6\": 2, \"29\": 2, \"9\": 2, \"21\": 3, \"48\": 3, \"15\": 2, \"3\": 7, \"50\": 4, \"46\": 2, \"54\": 1, \"22\": 1, \"23\": 1, \"27\": 1}, \"43\": {\"43\": 136, \"24\": 1, \"0\": 1}, \"49\": {\"49\": 20}, \"3\": {\"3\": 58, \"9\": 3, \"39\": 1, \"54\": 2, \"19\": 1, \"8\": 2, \"5\": 2, \"50\": 10, \"17\": 1, \"6\": 5, \"4\": 2, \"25\": 9, \"16\": 3, \"51\": 4, \"45\": 1, \"27\": 2, \"48\": 2, \"36\": 5, \"28\": 1, \"18\": 1, \"29\": 1, \"55\": 1, \"21\": 2, \"46\": 1, \"23\": 1, \"53\": 1, \"47\": 2}, \"12\": {\"12\": 86, \"8\": 2, \"18\": 2, \"23\": 1, \"21\": 1}, \"38\": {\"38\": 37, \"35\": 1, \"43\": 2}, \"7\": {\"7\": 23, \"19\": 1}, \"14\": {\"14\": 13, \"35\": 3}, \"15\": {\"15\": 96, \"52\": 18, \"17\": 2, \"35\": 1, \"48\": 1, \"18\": 9, \"20\": 13, \"21\": 5, \"43\": 1}, \"25\": {\"25\": 66, \"16\": 6, \"39\": 1, \"6\": 4, \"41\": 1, \"37\": 1, \"3\": 8, \"40\": 1, \"54\": 2, \"50\": 13, \"23\": 4, \"27\": 3, \"45\": 6, \"46\": 3, \"55\": 1, \"8\": 2, \"11\": 1, \"9\": 1, \"21\": 1, \"53\": 2, \"43\": 1}, \"26\": {\"26\": 24}, \"21\": {\"21\": 121, \"27\": 1, \"30\": 1, \"8\": 1, \"20\": 3, \"18\": 1, \"17\": 1, \"45\": 1, \"12\": 2}, \"48\": {\"48\": 95, \"52\": 1, \"27\": 8, \"30\": 2, \"8\": 6, \"20\": 16, \"12\": 4, \"21\": 5, \"18\": 4, \"23\": 1, \"17\": 2}, \"56\": {\"38\": 5, \"56\": 114, \"24\": 3, \"0\": 1, \"43\": 5, \"40\": 2, \"2\": 2, \"14\": 2}, \"11\": {\"11\": 88, \"6\": 2, \"3\": 3, \"50\": 1, \"25\": 1, \"16\": 1, \"47\": 3, \"5\": 2, \"53\": 1, \"15\": 1, \"51\": 1}, \"2\": {\"2\": 33, \"24\": 3}, \"6\": {\"21\": 11, \"3\": 3, \"6\": 16, \"8\": 8, \"30\": 1, \"5\": 3, \"41\": 1, \"27\": 8, \"55\": 2, \"17\": 9, \"44\": 1, \"45\": 12, \"52\": 5, \"11\": 2, \"12\": 2, \"57\": 2, \"47\": 2, \"54\": 2, \"50\": 1, \"18\": 3, \"1\": 1, \"51\": 3, \"48\": 1, \"36\": 1, \"20\": 6, \"0\": 1, \"46\": 1, \"23\": 1, \"16\": 2, \"40\": 1}, \"55\": {\"7\": 1, \"55\": 101, \"29\": 3, \"41\": 1, \"46\": 12, \"57\": 1, \"16\": 2, \"22\": 4, \"40\": 1, \"6\": 3, \"35\": 1, \"33\": 1, \"1\": 1, \"24\": 1, \"43\": 2, \"5\": 2, \"25\": 3}, \"54\": {\"50\": 1, \"54\": 80, \"39\": 2, \"8\": 1, \"3\": 3, \"36\": 5, \"17\": 2, \"25\": 1, \"51\": 3, \"6\": 6, \"11\": 1, \"5\": 1, \"47\": 2}, \"29\": {\"29\": 76, \"46\": 2, \"55\": 2, \"37\": 1, \"19\": 8, \"57\": 14, \"43\": 1, \"44\": 7, \"3\": 2, \"53\": 1, \"47\": 2, \"28\": 1, \"7\": 2, \"54\": 1, \"49\": 1, \"33\": 2, \"6\": 1}, \"50\": {\"53\": 8, \"50\": 26, \"46\": 4, \"11\": 2, \"21\": 3, \"9\": 4, \"16\": 2, \"4\": 3, \"17\": 4, \"27\": 7, \"47\": 7, \"54\": 8, \"18\": 3, \"45\": 4, \"12\": 4, \"6\": 3, \"8\": 5, \"3\": 6, \"25\": 5, \"20\": 3, \"5\": 1, \"32\": 1, \"36\": 2, \"41\": 1, \"22\": 1, \"55\": 1, \"48\": 3, \"51\": 1}, \"52\": {\"52\": 116}, \"35\": {\"35\": 35, \"43\": 1, \"55\": 1, \"40\": 2, \"33\": 1}, \"4\": {\"47\": 2, \"50\": 4, \"17\": 1, \"4\": 52, \"54\": 1, \"9\": 15, \"23\": 2, \"45\": 9, \"21\": 6, \"27\": 9, \"48\": 8, \"12\": 1, \"8\": 3, \"53\": 2, \"28\": 1, \"26\": 1, \"34\": 1, \"42\": 1, \"20\": 1}, \"18\": {\"20\": 10, \"18\": 71, \"30\": 2, \"52\": 5, \"8\": 2, \"21\": 7, \"12\": 3, \"27\": 4, \"17\": 3, \"23\": 1}}, \"C_5\": {\"43\": {\"43\": 149, \"24\": 2, \"3\": 1}, \"35\": {\"35\": 36}, \"54\": {\"54\": 91, \"16\": 5, \"11\": 3, \"50\": 2, \"30\": 1, \"45\": 1, \"53\": 3, \"12\": 1, \"55\": 3, \"46\": 1, \"21\": 1}, \"22\": {\"22\": 22, \"0\": 2, \"29\": 3, \"24\": 1}, \"16\": {\"16\": 110, \"27\": 1, \"11\": 9, \"54\": 3, \"0\": 1, \"6\": 1, \"15\": 2, \"25\": 1, \"55\": 1, \"53\": 5, \"21\": 7, \"45\": 2, \"47\": 1, \"4\": 1, \"9\": 1}, \"5\": {\"5\": 98, \"28\": 4, \"56\": 1, \"36\": 4, \"40\": 2, \"29\": 3, \"34\": 1, \"44\": 10, \"43\": 1, \"0\": 2, \"14\": 1, \"57\": 1}, \"28\": {\"28\": 26, \"21\": 1, \"57\": 3, \"33\": 1, \"50\": 1}, \"14\": {\"14\": 26, \"36\": 4, \"44\": 3, \"5\": 1, \"33\": 1, \"0\": 2, \"11\": 1, \"3\": 3, \"56\": 1, \"24\": 1, \"28\": 1}, \"51\": {\"51\": 114, \"20\": 10, \"16\": 1, \"8\": 1, \"6\": 2}, \"19\": {\"19\": 113, \"4\": 8, \"8\": 1, \"57\": 6, \"34\": 1, \"9\": 6, \"25\": 2, \"27\": 2, \"46\": 1}, \"31\": {\"31\": 34, \"3\": 1, \"37\": 1}, \"10\": {\"10\": 68}, \"21\": {\"21\": 134, \"11\": 1, \"53\": 1}, \"3\": {\"43\": 3, \"31\": 1, \"3\": 40, \"6\": 1, \"24\": 5, \"29\": 5, \"49\": 1, \"14\": 1, \"4\": 2, \"5\": 1, \"9\": 3, \"44\": 1, \"0\": 3, \"11\": 3, \"40\": 3, \"13\": 3, \"47\": 9, \"46\": 4, \"57\": 3, \"50\": 3, \"36\": 3, \"10\": 1, \"54\": 1}, \"57\": {\"31\": 2, \"57\": 90, \"4\": 5, \"47\": 4, \"19\": 13, \"53\": 1, \"46\": 8, \"50\": 2, \"27\": 1, \"9\": 3, \"34\": 1, \"16\": 1, \"11\": 1}, \"9\": {\"57\": 3, \"54\": 3, \"32\": 2, \"9\": 51, \"27\": 32, \"4\": 3, \"52\": 1, \"19\": 7, \"49\": 1, \"30\": 2, \"42\": 1, \"12\": 3, \"50\": 4, \"46\": 1, \"3\": 1, \"6\": 4, \"29\": 1, \"45\": 4, \"47\": 2, \"53\": 2, \"55\": 7, \"25\": 1, \"43\": 1, \"37\": 1, \"41\": 1, \"21\": 1, \"7\": 1, \"16\": 1, \"14\": 1, \"17\": 1, \"44\": 2}, \"8\": {\"8\": 118, \"0\": 1, \"1\": 3, \"20\": 2, \"53\": 1, \"23\": 1, \"18\": 1, \"48\": 2, \"30\": 3}, \"46\": {\"46\": 87, \"21\": 1, \"16\": 6, \"45\": 1, \"24\": 1, \"31\": 1, \"36\": 1, \"3\": 5, \"33\": 1, \"11\": 13, \"47\": 5, \"0\": 1, \"10\": 1, \"48\": 1, \"19\": 2, \"56\": 2, \"15\": 1, \"54\": 1, \"57\": 1, \"50\": 5, \"43\": 1, \"30\": 1, \"9\": 1}, \"23\": {\"23\": 73, \"20\": 9, \"12\": 4, \"18\": 10, \"8\": 10, \"1\": 3, \"48\": 4, \"45\": 1, \"6\": 1, \"51\": 5, \"7\": 2, \"52\": 1, \"43\": 1}, \"37\": {\"37\": 23, \"31\": 1}, \"34\": {\"34\": 32, \"41\": 1, \"46\": 1, \"45\": 1, \"47\": 1}, \"4\": {\"12\": 6, \"4\": 41, \"32\": 6, \"30\": 2, \"9\": 3, \"54\": 2, \"46\": 2, \"39\": 1, \"47\": 2, \"1\": 2, \"34\": 4, \"11\": 1, \"55\": 1, \"27\": 7, \"19\": 6, \"57\": 5, \"25\": 1, \"15\": 1, \"45\": 3, \"16\": 2, \"8\": 1, \"17\": 1}, \"6\": {\"12\": 4, \"45\": 8, \"46\": 1, \"54\": 6, \"1\": 6, \"38\": 2, \"26\": 3, \"6\": 25, \"17\": 8, \"53\": 3, \"8\": 7, \"23\": 5, \"51\": 10, \"20\": 15, \"47\": 1, \"55\": 6, \"30\": 8, \"16\": 3, \"18\": 2, \"48\": 3, \"27\": 2}, \"48\": {\"8\": 5, \"48\": 119, \"7\": 1, \"31\": 1, \"1\": 6, \"23\": 1, \"17\": 1, \"51\": 1, \"3\": 1}, \"44\": {\"44\": 120, \"28\": 1, \"29\": 4, \"36\": 3, \"14\": 1, \"56\": 3, \"33\": 1, \"5\": 3, \"47\": 1, \"50\": 1}, \"40\": {\"40\": 94, \"28\": 1, \"43\": 5, \"3\": 1, \"5\": 2, \"56\": 2, \"10\": 1, \"13\": 2, \"24\": 1, \"29\": 6, \"14\": 2, \"22\": 1, \"36\": 3, \"35\": 2, \"44\": 1}, \"12\": {\"12\": 65, \"26\": 5, \"38\": 3, \"17\": 8, \"55\": 2, \"48\": 1, \"18\": 4, \"6\": 2, \"30\": 1, \"8\": 1, \"51\": 3, \"1\": 1}, \"30\": {\"12\": 6, \"30\": 60, \"1\": 11, \"48\": 13, \"6\": 2, \"17\": 8, \"26\": 1, \"18\": 2, \"8\": 18, \"27\": 1, \"54\": 1, \"51\": 1, \"23\": 1, \"20\": 2, \"16\": 1}, \"39\": {\"48\": 2, \"26\": 1, \"39\": 9, \"8\": 1, \"12\": 1, \"17\": 1, \"45\": 1, \"20\": 1, \"1\": 1, \"6\": 2}, \"45\": {\"45\": 34, \"7\": 3, \"30\": 6, \"53\": 5, \"4\": 1, \"39\": 4, \"55\": 8, \"32\": 2, \"51\": 3, \"41\": 1, \"48\": 6, \"6\": 11, \"8\": 6, \"12\": 2, \"17\": 5, \"54\": 4, \"27\": 7, \"9\": 3, \"46\": 1, \"26\": 1, \"18\": 2, \"50\": 1, \"23\": 2, \"19\": 1, \"20\": 2, \"11\": 1, \"1\": 2}, \"36\": {\"3\": 3, \"36\": 79, \"43\": 3, \"46\": 1, \"35\": 1, \"24\": 1, \"2\": 1, \"34\": 1, \"47\": 2}, \"27\": {\"27\": 85, \"45\": 4, \"30\": 8, \"9\": 8, \"32\": 2, \"55\": 4, \"18\": 1, \"48\": 7, \"8\": 5, \"19\": 1, \"6\": 2, \"17\": 5, \"1\": 6, \"12\": 1, \"23\": 1}, \"32\": {\"32\": 16, \"45\": 1, \"30\": 5, \"8\": 2, \"17\": 4, \"9\": 2, \"20\": 2}, \"52\": {\"52\": 93, \"18\": 1, \"20\": 12, \"23\": 6, \"8\": 2, \"51\": 9, \"53\": 2, \"48\": 1, \"1\": 2, \"30\": 1, \"55\": 1}, \"0\": {\"0\": 114, \"56\": 7, \"24\": 1, \"43\": 1, \"29\": 1}, \"26\": {\"26\": 24}, \"1\": {\"1\": 111, \"48\": 21, \"23\": 3, \"6\": 1, \"21\": 1, \"8\": 6, \"20\": 1, \"12\": 1, \"47\": 1, \"17\": 1, \"30\": 1}, \"53\": {\"53\": 104, \"1\": 4, \"12\": 4, \"32\": 1, \"17\": 7, \"26\": 1, \"51\": 7, \"21\": 2, \"6\": 2, \"8\": 2, \"48\": 1, \"52\": 1, \"30\": 1, \"36\": 1, \"23\": 2, \"45\": 1, \"27\": 2, \"20\": 1, \"46\": 1, \"55\": 1}, \"25\": {\"45\": 6, \"25\": 64, \"31\": 1, \"21\": 14, \"54\": 4, \"9\": 3, \"6\": 4, \"14\": 1, \"11\": 2, \"42\": 4, \"27\": 3, \"55\": 14, \"30\": 5, \"16\": 5, \"23\": 2, \"53\": 1, \"29\": 1, \"52\": 1, \"46\": 3, \"41\": 2, \"12\": 1, \"32\": 1, \"39\": 1, \"3\": 1}, \"24\": {\"24\": 71, \"36\": 3, \"43\": 1, \"0\": 2, \"42\": 1, \"29\": 1, \"3\": 1}, \"7\": {\"7\": 30, \"26\": 1, \"48\": 1}, \"18\": {\"18\": 45, \"20\": 8, \"8\": 2, \"48\": 2, \"23\": 3, \"30\": 3, \"51\": 1}, \"20\": {\"20\": 132, \"52\": 2, \"8\": 2, \"51\": 6, \"48\": 1, \"23\": 1}, \"33\": {\"33\": 22, \"36\": 1, \"31\": 4, \"28\": 1, \"5\": 2, \"46\": 1, \"3\": 1}, \"55\": {\"41\": 1, \"55\": 76, \"8\": 10, \"30\": 13, \"18\": 1, \"6\": 10, \"9\": 1, \"45\": 3, \"27\": 5, \"54\": 2, \"23\": 1, \"52\": 1, \"51\": 2, \"17\": 3, \"12\": 1, \"39\": 1, \"1\": 7, \"48\": 1, \"25\": 1}, \"41\": {\"41\": 17, \"42\": 1, \"12\": 1, \"7\": 3, \"39\": 1, \"51\": 1, \"18\": 1, \"38\": 1, \"26\": 1, \"45\": 1}, \"42\": {\"42\": 25, \"12\": 3, \"7\": 1, \"18\": 2, \"40\": 1, \"6\": 2, \"25\": 2, \"41\": 1, \"20\": 1, \"27\": 2}, \"49\": {\"49\": 36}, \"13\": {\"13\": 136, \"22\": 1, \"24\": 2, \"43\": 6, \"40\": 2, \"5\": 1}, \"38\": {\"38\": 32}, \"2\": {\"2\": 24, \"56\": 1, \"23\": 1, \"40\": 1, \"50\": 1}, \"47\": {\"47\": 65, \"11\": 3, \"28\": 1, \"46\": 6, \"14\": 1, \"3\": 6, \"9\": 1, \"16\": 2, \"50\": 7, \"31\": 1, \"45\": 1, \"54\": 2, \"21\": 1, \"57\": 1, \"36\": 1, \"6\": 1}, \"17\": {\"17\": 112, \"8\": 1, \"12\": 1, \"30\": 1, \"48\": 1}, \"11\": {\"11\": 139, \"46\": 3, \"16\": 5, \"15\": 3, \"21\": 1, \"35\": 1, \"54\": 1, \"9\": 1}, \"29\": {\"29\": 112, \"3\": 1, \"36\": 3, \"5\": 3, \"56\": 7, \"0\": 1, \"44\": 3, \"24\": 1, \"43\": 1}, \"50\": {\"57\": 9, \"50\": 36, \"39\": 1, \"14\": 2, \"23\": 2, \"32\": 1, \"27\": 2, \"4\": 6, \"19\": 9, \"16\": 5, \"3\": 6, \"54\": 5, \"12\": 1, \"9\": 6, \"44\": 1, \"55\": 6, \"53\": 1, \"0\": 1, \"43\": 2, \"47\": 6, \"46\": 13, \"21\": 7, \"11\": 2, \"31\": 2, \"15\": 1, \"45\": 3, \"6\": 1, \"25\": 1}, \"56\": {\"56\": 134, \"0\": 1, \"29\": 5, \"43\": 7, \"24\": 1}, \"15\": {\"15\": 120, \"30\": 1, \"53\": 7, \"8\": 1, \"16\": 2, \"52\": 4, \"51\": 1, \"26\": 1, \"18\": 1, \"45\": 1, \"55\": 1, \"23\": 1, \"11\": 1}}, \"C_2\": {\"49\": {\"41\": 2, \"49\": 17, \"32\": 1, \"4\": 1, \"50\": 1, \"45\": 1, \"12\": 1}, \"13\": {\"13\": 114, \"24\": 1, \"56\": 1}, \"37\": {\"37\": 36}, \"41\": {\"12\": 1, \"6\": 2, \"41\": 10, \"27\": 1, \"54\": 1, \"15\": 2, \"8\": 2, \"32\": 1}, \"15\": {\"15\": 141, \"52\": 1}, \"56\": {\"56\": 115, \"22\": 8, \"24\": 7, \"43\": 10, \"31\": 1, \"13\": 1}, \"14\": {\"14\": 13, \"56\": 3, \"55\": 1, \"22\": 1, \"31\": 4, \"24\": 1, \"43\": 1}, \"3\": {\"3\": 16, \"39\": 2, \"50\": 4, \"19\": 8, \"57\": 2, \"30\": 3, \"23\": 6, \"0\": 1, \"9\": 2, \"16\": 7, \"21\": 1, \"5\": 3, \"46\": 4, \"44\": 2, \"11\": 3, \"54\": 3, \"29\": 5, \"6\": 2, \"48\": 4, \"53\": 3, \"49\": 1, \"45\": 2, \"7\": 1, \"47\": 2, \"51\": 1, \"27\": 1, \"55\": 1, \"25\": 2}, \"38\": {\"38\": 20}, \"43\": {\"43\": 130, \"24\": 6, \"38\": 1, \"14\": 1}, \"33\": {\"47\": 2, \"42\": 1, \"33\": 15, \"57\": 1, \"40\": 1, \"19\": 1, \"5\": 5, \"46\": 1, \"34\": 1}, \"47\": {\"3\": 5, \"49\": 1, \"39\": 1, \"47\": 89, \"2\": 1, \"46\": 6, \"0\": 5, \"45\": 3, \"29\": 3, \"5\": 1, \"16\": 2, \"1\": 4, \"23\": 1, \"11\": 2, \"48\": 1, \"50\": 2, \"9\": 1, \"57\": 3, \"7\": 2, \"19\": 4, \"4\": 1}, \"30\": {\"30\": 72, \"27\": 13, \"54\": 4, \"23\": 6, \"51\": 5, \"42\": 1, \"8\": 5, \"17\": 8, \"15\": 4, \"18\": 2, \"6\": 5, \"36\": 7, \"52\": 2, \"20\": 1, \"48\": 1, \"12\": 3, \"32\": 3, \"41\": 1, \"57\": 1}, \"39\": {\"39\": 26, \"16\": 1, \"3\": 1}, \"12\": {\"12\": 82, \"20\": 5, \"26\": 2, \"27\": 2, \"51\": 1}, \"6\": {\"6\": 29, \"34\": 1, \"12\": 9, \"26\": 2, \"20\": 5, \"50\": 5, \"15\": 6, \"52\": 5, \"51\": 11, \"27\": 15, \"18\": 4, \"47\": 2, \"17\": 9, \"45\": 3, \"8\": 2, \"36\": 1, \"53\": 1, \"46\": 1, \"32\": 3, \"16\": 1, \"54\": 7, \"21\": 1, \"25\": 1}, \"51\": {\"51\": 79, \"20\": 19, \"12\": 8, \"27\": 9, \"26\": 3, \"8\": 3, \"15\": 1, \"17\": 4, \"6\": 2, \"18\": 1, \"36\": 2, \"48\": 1, \"32\": 2}, \"5\": {\"5\": 77, \"57\": 6, \"47\": 8, \"46\": 4, \"44\": 2, \"29\": 13, \"40\": 1, \"1\": 2, \"3\": 1, \"43\": 1, \"33\": 2, \"55\": 1, \"22\": 1, \"19\": 1}, \"34\": {\"34\": 20, \"1\": 3, \"0\": 2, \"47\": 1, \"5\": 2}, \"35\": {\"35\": 31, \"44\": 1}, \"0\": {\"1\": 3, \"0\": 34, \"47\": 3, \"46\": 1, \"34\": 1, \"23\": 1, \"9\": 1, \"3\": 2, \"57\": 1, \"21\": 1}, \"7\": {\"34\": 3, \"7\": 30, \"4\": 1, \"1\": 2}, \"24\": {\"24\": 78, \"10\": 2, \"43\": 11, \"56\": 3, \"14\": 1, \"22\": 1}, \"8\": {\"36\": 10, \"51\": 10, \"18\": 3, \"8\": 55, \"17\": 1, \"20\": 15, \"27\": 20, \"12\": 9, \"6\": 3, \"54\": 5, \"45\": 1, \"53\": 2, \"26\": 2}, \"20\": {\"20\": 108, \"12\": 4, \"8\": 5, \"51\": 7}, \"36\": {\"36\": 63, \"51\": 9, \"54\": 2, \"27\": 16, \"6\": 3, \"12\": 11, \"8\": 4, \"20\": 4, \"17\": 1, \"26\": 2, \"45\": 1}, \"42\": {\"42\": 31, \"25\": 1, \"55\": 1, \"39\": 1, \"47\": 1, \"46\": 1}, \"1\": {\"1\": 85, \"12\": 1, \"39\": 1, \"19\": 6, \"9\": 3, \"16\": 2, \"48\": 2, \"6\": 1, \"4\": 1, \"0\": 4, \"57\": 1, \"11\": 1, \"46\": 1, \"3\": 1, \"45\": 1, \"23\": 1}, \"4\": {\"4\": 94, \"45\": 7, \"9\": 11, \"48\": 16, \"27\": 3, \"54\": 2, \"50\": 1, \"36\": 4, \"6\": 2, \"20\": 1, \"30\": 3, \"15\": 2, \"8\": 1, \"53\": 1}, \"28\": {\"28\": 28}, \"50\": {\"50\": 25, \"27\": 12, \"41\": 1, \"32\": 2, \"12\": 5, \"20\": 8, \"39\": 2, \"6\": 6, \"26\": 2, \"18\": 2, \"37\": 1, \"0\": 1, \"52\": 3, \"54\": 7, \"53\": 3, \"36\": 13, \"5\": 1, \"46\": 2, \"57\": 1, \"17\": 3, \"8\": 8, \"11\": 2, \"51\": 11, \"45\": 4, \"29\": 1, \"2\": 1, \"34\": 1, \"48\": 1, \"3\": 2, \"25\": 1, \"21\": 1, \"19\": 1, \"16\": 2}, \"45\": {\"45\": 42, \"54\": 8, \"30\": 5, \"53\": 4, \"36\": 9, \"4\": 6, \"16\": 1, \"51\": 2, \"12\": 6, \"6\": 5, \"52\": 1, \"20\": 5, \"21\": 2, \"48\": 4, \"23\": 1, \"47\": 1, \"9\": 2, \"27\": 9, \"50\": 1, \"11\": 1, \"17\": 5, \"41\": 2, \"32\": 1, \"8\": 2, \"26\": 1, \"2\": 1, \"15\": 1}, \"18\": {\"18\": 36, \"27\": 3, \"51\": 3, \"15\": 2, \"26\": 2, \"52\": 1, \"17\": 1}, \"57\": {\"57\": 87, \"33\": 1, \"5\": 3, \"47\": 4, \"19\": 10, \"0\": 3, \"29\": 5, \"1\": 4, \"34\": 1, \"44\": 1, \"4\": 1}, \"46\": {\"28\": 6, \"4\": 6, \"48\": 4, \"54\": 1, \"2\": 1, \"19\": 2, \"46\": 49, \"21\": 1, \"16\": 2, \"49\": 1, \"45\": 5, \"30\": 3, \"5\": 3, \"3\": 6, \"25\": 7, \"1\": 5, \"47\": 1, \"11\": 4, \"9\": 6, \"24\": 2, \"43\": 2, \"55\": 1, \"6\": 3, \"22\": 1, \"36\": 1, \"7\": 2, \"23\": 1, \"50\": 1, \"29\": 1}, \"23\": {\"23\": 100, \"50\": 7, \"30\": 6, \"54\": 3, \"41\": 1, \"15\": 1, \"32\": 1, \"36\": 5, \"48\": 4, \"18\": 1, \"16\": 1, \"27\": 2, \"4\": 3, \"45\": 3, \"8\": 3, \"53\": 3, \"9\": 1, \"21\": 2, \"20\": 1}, \"27\": {\"27\": 131, \"12\": 5, \"8\": 2}, \"19\": {\"19\": 94, \"7\": 3, \"47\": 4, \"0\": 2, \"45\": 3, \"9\": 5, \"57\": 5, \"29\": 4, \"44\": 1, \"3\": 2, \"11\": 1, \"50\": 1, \"25\": 1, \"1\": 5, \"48\": 1, \"33\": 1, \"16\": 1}, \"22\": {\"22\": 114, \"56\": 8, \"55\": 3, \"31\": 1, \"43\": 6, \"24\": 2, \"44\": 1, \"13\": 1}, \"17\": {\"17\": 96, \"12\": 3, \"27\": 2, \"19\": 1, \"18\": 2}, \"55\": {\"44\": 1, \"55\": 128, \"46\": 2, \"25\": 1, \"5\": 1, \"47\": 1, \"40\": 2}, \"44\": {\"44\": 60, \"35\": 4, \"42\": 1, \"34\": 1, \"40\": 2, \"29\": 7, \"7\": 1, \"5\": 9, \"22\": 4, \"57\": 1, \"9\": 1, \"46\": 1, \"47\": 3, \"33\": 1, \"3\": 1, \"1\": 2, \"19\": 1}, \"26\": {\"26\": 24}, \"31\": {\"31\": 28}, \"16\": {\"11\": 8, \"16\": 104, \"50\": 5, \"53\": 6, \"21\": 3, \"54\": 2, \"2\": 1, \"23\": 1}, \"11\": {\"11\": 116, \"36\": 1, \"23\": 1, \"46\": 2, \"16\": 5, \"6\": 2, \"50\": 1}, \"25\": {\"30\": 9, \"25\": 63, \"4\": 1, \"16\": 7, \"49\": 3, \"6\": 5, \"21\": 2, \"23\": 14, \"57\": 1, \"50\": 4, \"45\": 3, \"47\": 1, \"39\": 1, \"46\": 4, \"37\": 1, \"40\": 1, \"53\": 2, \"55\": 2, \"3\": 1, \"8\": 1}, \"54\": {\"54\": 60, \"12\": 10, \"27\": 11, \"32\": 2, \"20\": 7, \"50\": 1, \"26\": 2, \"48\": 1, \"8\": 6, \"6\": 2, \"36\": 4, \"17\": 1, \"51\": 1}, \"32\": {\"32\": 12, \"54\": 2, \"48\": 2, \"51\": 4, \"12\": 2, \"17\": 1, \"4\": 2, \"26\": 1, \"52\": 1, \"20\": 1}, \"52\": {\"52\": 109, \"51\": 2, \"15\": 10, \"6\": 1, \"18\": 2}, \"40\": {\"40\": 103, \"28\": 1, \"42\": 3, \"29\": 4, \"44\": 2, \"33\": 2, \"46\": 3, \"55\": 2, \"16\": 1, \"25\": 1, \"5\": 1, \"35\": 1, \"57\": 3, \"22\": 1, \"47\": 2, \"3\": 1, \"19\": 1}, \"2\": {\"53\": 1, \"2\": 21, \"11\": 1, \"39\": 1, \"19\": 1, \"7\": 1, \"16\": 1, \"48\": 2, \"36\": 1, \"46\": 1, \"47\": 1}, \"10\": {\"10\": 110}, \"53\": {\"53\": 119, \"21\": 5, \"54\": 1, \"12\": 1, \"8\": 4, \"45\": 2, \"36\": 1, \"50\": 3}, \"9\": {\"9\": 128, \"4\": 7, \"27\": 2, \"53\": 2, \"54\": 2, \"16\": 1, \"50\": 1, \"45\": 2, \"2\": 1, \"48\": 3, \"23\": 1}, \"21\": {\"41\": 1, \"21\": 77, \"17\": 6, \"53\": 3, \"51\": 3, \"18\": 1, \"27\": 4, \"26\": 1, \"6\": 10, \"52\": 2, \"50\": 1, \"54\": 2, \"8\": 2, \"25\": 1, \"15\": 2, \"12\": 1, \"30\": 2, \"36\": 1}, \"48\": {\"48\": 85, \"12\": 5, \"51\": 6, \"32\": 2, \"27\": 8, \"54\": 4, \"17\": 7, \"6\": 2, \"4\": 3, \"8\": 5, \"52\": 1, \"18\": 2, \"20\": 5, \"26\": 2, \"46\": 1}, \"29\": {\"29\": 96, \"33\": 3, \"5\": 7, \"57\": 8, \"46\": 2, \"40\": 3, \"53\": 1, \"19\": 2, \"44\": 2, \"47\": 2, \"55\": 1, \"50\": 1}}, \"C_1\": {\"9\": {\"9\": 142}, \"25\": {\"25\": 89, \"34\": 1, \"54\": 6, \"8\": 1, \"19\": 3, \"13\": 4, \"20\": 2, \"46\": 3, \"30\": 3, \"53\": 3, \"23\": 1, \"45\": 1, \"55\": 1, \"0\": 1, \"16\": 2, \"37\": 2, \"36\": 2, \"12\": 1, \"4\": 1, \"48\": 1}, \"41\": {\"41\": 23, \"12\": 1}, \"29\": {\"29\": 101, \"35\": 4, \"40\": 6, \"32\": 1, \"0\": 2, \"31\": 1, \"44\": 15, \"56\": 3, \"55\": 2, \"52\": 3, \"47\": 1, \"11\": 1}, \"46\": {\"7\": 1, \"50\": 22, \"48\": 17, \"30\": 4, \"4\": 7, \"17\": 6, \"5\": 11, \"46\": 30, \"51\": 3, \"6\": 6, \"18\": 1, \"12\": 2, \"8\": 10, \"9\": 4, \"53\": 4}, \"4\": {\"46\": 10, \"7\": 1, \"4\": 69, \"48\": 5, \"5\": 4, \"16\": 2, \"8\": 17, \"50\": 7, \"30\": 6, \"51\": 2, \"6\": 4, \"2\": 1, \"53\": 1, \"17\": 1, \"18\": 1, \"9\": 1}, \"31\": {\"31\": 27, \"38\": 1}, \"36\": {\"16\": 1, \"7\": 1, \"36\": 57, \"23\": 2, \"51\": 1, \"15\": 2}, \"20\": {\"20\": 118, \"11\": 2, \"54\": 5, \"13\": 3}, \"7\": {\"46\": 2, \"7\": 22, \"17\": 1, \"2\": 2, \"18\": 1}, \"6\": {\"50\": 3, \"6\": 67, \"2\": 2, \"8\": 1, \"48\": 12, \"5\": 5, \"9\": 1, \"46\": 1, \"17\": 2, \"4\": 1, \"30\": 1}, \"16\": {\"16\": 102, \"53\": 5, \"7\": 1, \"14\": 1, \"46\": 5, \"8\": 1, \"51\": 13, \"36\": 1, \"12\": 4, \"41\": 1, \"48\": 2, \"6\": 2}, \"17\": {\"17\": 59, \"2\": 1, \"48\": 3, \"5\": 1}, \"50\": {\"50\": 146, \"48\": 2}, \"57\": {\"57\": 104, \"56\": 18, \"1\": 8, \"32\": 1, \"42\": 2, \"40\": 7, \"55\": 1, \"54\": 2, \"44\": 1}, \"23\": {\"23\": 135, \"15\": 1}, \"3\": {\"3\": 104, \"24\": 3, \"39\": 1, \"38\": 1, \"22\": 3, \"52\": 7, \"29\": 2, \"44\": 1, \"31\": 1, \"56\": 1, \"47\": 1, \"27\": 1}, \"53\": {\"53\": 105, \"2\": 3, \"18\": 1, \"6\": 5, \"7\": 1, \"51\": 6, \"50\": 5, \"5\": 7, \"48\": 2, \"8\": 1, \"17\": 1, \"46\": 1, \"4\": 1, \"12\": 1}, \"49\": {\"49\": 27, \"31\": 1, \"0\": 1, \"22\": 1, \"32\": 2}, \"56\": {\"56\": 84, \"45\": 10, \"57\": 19, \"32\": 2, \"47\": 4, \"42\": 2, \"16\": 1, \"1\": 8, \"40\": 7, \"19\": 4, \"25\": 2, \"15\": 2, \"23\": 1, \"33\": 1, \"0\": 2, \"53\": 1, \"21\": 1, \"44\": 1}, \"51\": {\"51\": 126, \"13\": 1, \"7\": 3, \"8\": 1, \"18\": 3, \"17\": 1, \"53\": 1, \"4\": 3, \"6\": 1, \"11\": 1, \"46\": 1}, \"26\": {\"26\": 19, \"41\": 1, \"4\": 1, \"14\": 1, \"6\": 1, \"12\": 1}, \"43\": {\"43\": 143, \"27\": 1}, \"22\": {\"22\": 94, \"47\": 3, \"28\": 2, \"55\": 3, \"43\": 5, \"52\": 8, \"23\": 1, \"0\": 6, \"3\": 1, \"11\": 2, \"24\": 8, \"10\": 1, \"39\": 1, \"27\": 1}, \"45\": {\"45\": 130, \"19\": 11, \"1\": 1, \"25\": 1, \"42\": 1, \"16\": 1, \"51\": 1}, \"13\": {\"13\": 149, \"20\": 3}, \"12\": {\"12\": 99, \"51\": 10, \"8\": 2, \"16\": 2, \"30\": 1, \"15\": 1, \"53\": 1}, \"54\": {\"54\": 102, \"12\": 1, \"36\": 1}, \"24\": {\"24\": 81, \"43\": 2, \"32\": 2, \"0\": 2, \"52\": 10, \"44\": 1, \"22\": 6, \"55\": 2, \"49\": 1, \"27\": 1}, \"44\": {\"44\": 78, \"31\": 1, \"56\": 2, \"13\": 1, \"29\": 12, \"35\": 3, \"40\": 6, \"47\": 14, \"52\": 3, \"22\": 2, \"55\": 5, \"23\": 1, \"0\": 6, \"49\": 1, \"11\": 1}, \"28\": {\"28\": 28}, \"33\": {\"33\": 32}, \"38\": {\"31\": 1, \"38\": 20, \"24\": 2, \"52\": 1}, \"0\": {\"0\": 140, \"32\": 1, \"38\": 1, \"11\": 1, \"52\": 1}, \"47\": {\"47\": 118, \"55\": 2, \"35\": 3, \"44\": 13, \"56\": 5, \"11\": 6, \"22\": 2, \"52\": 2, \"29\": 1, \"49\": 1, \"57\": 1}, \"42\": {\"33\": 1, \"42\": 32, \"32\": 1, \"57\": 1, \"23\": 1, \"45\": 2, \"56\": 1, \"31\": 1}, \"34\": {\"34\": 24}, \"48\": {\"48\": 127, \"2\": 1, \"50\": 11, \"6\": 2, \"9\": 1}, \"35\": {\"35\": 35, \"44\": 1}, \"2\": {\"2\": 32, \"48\": 2, \"6\": 2}, \"30\": {\"2\": 1, \"30\": 83, \"8\": 9, \"48\": 2, \"46\": 4, \"6\": 2, \"50\": 3, \"5\": 3, \"4\": 9, \"26\": 1, \"53\": 1, \"17\": 1, \"18\": 1}, \"18\": {\"2\": 3, \"48\": 6, \"17\": 9, \"18\": 36, \"9\": 7, \"50\": 2, \"6\": 5, \"4\": 1, \"5\": 3}, \"37\": {\"37\": 31, \"25\": 1}, \"1\": {\"1\": 63, \"56\": 15, \"42\": 1, \"57\": 6, \"19\": 3, \"23\": 1, \"40\": 5, \"45\": 4, \"46\": 1, \"36\": 1}, \"11\": {\"11\": 137, \"10\": 1}, \"55\": {\"24\": 1, \"55\": 107, \"23\": 4, \"42\": 1, \"0\": 4, \"11\": 5, \"52\": 3, \"47\": 2, \"44\": 1, \"10\": 1, \"22\": 1}, \"15\": {\"15\": 136, \"46\": 2, \"21\": 7, \"5\": 2, \"9\": 1, \"51\": 2}, \"10\": {\"10\": 94, \"23\": 1, \"11\": 1}, \"27\": {\"27\": 155, \"43\": 4, \"52\": 1}, \"19\": {\"19\": 108, \"45\": 21, \"33\": 1, \"15\": 1, \"51\": 2, \"30\": 2, \"25\": 1, \"4\": 5, \"26\": 1, \"53\": 1, \"46\": 1, \"16\": 2}, \"14\": {\"8\": 1, \"14\": 13, \"18\": 2, \"30\": 3, \"51\": 2, \"46\": 1, \"7\": 1, \"53\": 1}, \"8\": {\"48\": 25, \"8\": 79, \"2\": 1, \"17\": 2, \"6\": 6, \"50\": 11, \"18\": 1, \"9\": 5, \"5\": 8, \"30\": 2}, \"5\": {\"17\": 4, \"5\": 85, \"48\": 22, \"4\": 1, \"6\": 6, \"46\": 2, \"8\": 2, \"2\": 2, \"53\": 1, \"9\": 3, \"50\": 8}, \"39\": {\"39\": 28}, \"52\": {\"52\": 105, \"55\": 1, \"0\": 6, \"56\": 1, \"23\": 1, \"47\": 3, \"22\": 4, \"32\": 1}, \"21\": {\"21\": 116, \"46\": 1, \"15\": 3, \"23\": 2, \"4\": 1, \"8\": 1}, \"40\": {\"40\": 90, \"23\": 6, \"56\": 8, \"57\": 12, \"16\": 5, \"45\": 3, \"29\": 6, \"11\": 1, \"12\": 1, \"55\": 4, \"47\": 2, \"44\": 5, \"13\": 3, \"32\": 1, \"36\": 1, \"52\": 1, \"51\": 1, \"21\": 1, \"25\": 1}, \"32\": {\"47\": 5, \"32\": 23, \"57\": 1, \"38\": 1, \"0\": 2}}, \"C_3\": {\"56\": {\"56\": 116, \"13\": 1, \"24\": 1, \"14\": 1, \"43\": 1}, \"4\": {\"4\": 89, \"27\": 10, \"36\": 8, \"48\": 10, \"51\": 1, \"2\": 1, \"54\": 2, \"9\": 12, \"30\": 1, \"45\": 3, \"46\": 1, \"17\": 4, \"41\": 1, \"23\": 2, \"50\": 1}, \"34\": {\"34\": 27, \"11\": 1, \"19\": 2, \"3\": 1, \"29\": 1}, \"52\": {\"52\": 130, \"20\": 1, \"15\": 5}, \"32\": {\"27\": 3, \"32\": 12, \"18\": 1, \"12\": 3, \"30\": 3, \"51\": 1, \"6\": 1, \"8\": 2, \"36\": 1, \"45\": 1}, \"46\": {\"46\": 57, \"57\": 4, \"45\": 1, \"23\": 4, \"11\": 5, \"50\": 6, \"25\": 5, \"9\": 3, \"10\": 1, \"47\": 2, \"54\": 4, \"0\": 5, \"16\": 5, \"6\": 4, \"27\": 3, \"55\": 3, \"22\": 1, \"3\": 4, \"8\": 1, \"29\": 3, \"7\": 1, \"17\": 1, \"33\": 1, \"26\": 2, \"48\": 1, \"30\": 2, \"4\": 2, \"20\": 1, \"12\": 1, \"18\": 1, \"5\": 1, \"52\": 1}, \"12\": {\"12\": 82, \"8\": 4, \"54\": 2, \"17\": 4}, \"20\": {\"20\": 126, \"52\": 5, \"18\": 1}, \"54\": {\"54\": 55, \"20\": 4, \"30\": 3, \"12\": 10, \"51\": 5, \"36\": 8, \"17\": 4, \"6\": 2, \"8\": 7, \"32\": 1, \"18\": 1}, \"22\": {\"22\": 126, \"43\": 2, \"49\": 4, \"55\": 4, \"24\": 3, \"35\": 1}, \"26\": {\"26\": 20, \"46\": 2, \"11\": 1, \"6\": 1}, \"31\": {\"31\": 28}, \"10\": {\"10\": 64}, \"27\": {\"32\": 4, \"18\": 8, \"27\": 86, \"17\": 11, \"36\": 5, \"12\": 9, \"45\": 1, \"54\": 2, \"30\": 5, \"8\": 3, \"20\": 4, \"38\": 1, \"48\": 2, \"51\": 2, \"52\": 1}, \"40\": {\"40\": 105, \"42\": 1, \"47\": 4, \"29\": 5, \"5\": 5, \"57\": 3, \"37\": 3, \"55\": 3, \"22\": 1, \"28\": 1, \"34\": 1, \"44\": 3, \"46\": 1}, \"28\": {\"28\": 27, \"42\": 1}, \"5\": {\"29\": 4, \"5\": 71, \"3\": 4, \"7\": 1, \"44\": 1, \"55\": 3, \"57\": 15, \"0\": 5, \"1\": 6, \"6\": 1, \"43\": 1, \"47\": 3, \"46\": 1}, \"30\": {\"30\": 49, \"18\": 5, \"12\": 11, \"36\": 5, \"20\": 17, \"32\": 2, \"17\": 6, \"50\": 1, \"27\": 6, \"31\": 1, \"8\": 5, \"51\": 5, \"23\": 1, \"52\": 2, \"4\": 1, \"6\": 1, \"54\": 2}, \"7\": {\"7\": 33, \"24\": 1, \"3\": 1, \"0\": 1}, \"18\": {\"52\": 7, \"18\": 45, \"20\": 17, \"17\": 3, \"12\": 7, \"51\": 1, \"6\": 2, \"36\": 1, \"54\": 1}, \"39\": {\"50\": 3, \"39\": 12, \"21\": 1}, \"50\": {\"29\": 2, \"30\": 3, \"20\": 6, \"8\": 11, \"16\": 3, \"36\": 9, \"18\": 2, \"2\": 4, \"37\": 4, \"51\": 7, \"3\": 3, \"25\": 2, \"11\": 1, \"0\": 5, \"12\": 5, \"54\": 13, \"53\": 7, \"50\": 25, \"45\": 1, \"27\": 4, \"6\": 3, \"5\": 1, \"46\": 3, \"4\": 2, \"47\": 2, \"52\": 1, \"32\": 1, \"17\": 5, \"21\": 1}, \"49\": {\"49\": 19, \"14\": 1}, \"43\": {\"43\": 112, \"22\": 3, \"24\": 6, \"49\": 1}, \"29\": {\"5\": 8, \"29\": 75, \"34\": 2, \"16\": 2, \"57\": 12, \"6\": 3, \"0\": 3, \"19\": 5, \"55\": 1, \"11\": 1, \"40\": 1, \"1\": 1}, \"35\": {\"35\": 26, \"37\": 1, \"55\": 1}, \"13\": {\"13\": 122, \"43\": 1, \"22\": 1}, \"36\": {\"20\": 2, \"36\": 92, \"54\": 1, \"27\": 1, \"18\": 2, \"12\": 1, \"45\": 1}, \"11\": {\"11\": 124, \"2\": 1, \"8\": 1, \"46\": 2, \"21\": 8, \"54\": 1, \"16\": 3, \"23\": 1, \"6\": 2, \"45\": 1, \"25\": 1, \"50\": 1}, \"57\": {\"57\": 82, \"1\": 6, \"0\": 8, \"29\": 13, \"5\": 9, \"47\": 1, \"19\": 1, \"44\": 2, \"34\": 2}, \"9\": {\"9\": 110, \"32\": 2, \"4\": 6, \"50\": 1, \"19\": 2, \"27\": 3, \"48\": 1, \"30\": 2, \"46\": 1, \"23\": 1, \"17\": 1}, \"25\": {\"25\": 66, \"39\": 4, \"16\": 10, \"23\": 11, \"26\": 2, \"27\": 1, \"42\": 1, \"50\": 6, \"53\": 3, \"4\": 3, \"33\": 2, \"30\": 2, \"37\": 2, \"3\": 5, \"46\": 4, \"21\": 2, \"45\": 1, \"55\": 2, \"8\": 1, \"47\": 1, \"6\": 1}, \"16\": {\"16\": 94, \"41\": 1, \"53\": 10, \"55\": 1, \"21\": 1, \"50\": 7, \"51\": 1, \"46\": 4, \"9\": 2, \"2\": 1, \"54\": 2, \"17\": 1, \"23\": 1}, \"53\": {\"53\": 104, \"41\": 1, \"8\": 4, \"27\": 1, \"54\": 1, \"51\": 2, \"21\": 2, \"17\": 1, \"18\": 1, \"50\": 1}, \"33\": {\"53\": 1, \"26\": 1, \"33\": 20, \"8\": 1, \"47\": 2, \"50\": 1, \"41\": 1, \"46\": 1}, \"51\": {\"51\": 72, \"38\": 1, \"36\": 3, \"12\": 9, \"20\": 19, \"52\": 6, \"18\": 3, \"8\": 6, \"17\": 8, \"54\": 1}, \"44\": {\"5\": 12, \"44\": 49, \"34\": 2, \"35\": 3, \"1\": 3, \"47\": 4, \"40\": 3, \"22\": 3, \"3\": 1, \"57\": 2, \"19\": 1, \"29\": 2, \"55\": 2, \"43\": 1}, \"48\": {\"48\": 60, \"4\": 3, \"27\": 9, \"20\": 5, \"8\": 3, \"52\": 5, \"9\": 10, \"54\": 3, \"17\": 3, \"30\": 3, \"29\": 1, \"51\": 2, \"12\": 2, \"38\": 1, \"18\": 3, \"55\": 1}, \"6\": {\"53\": 2, \"26\": 1, \"38\": 3, \"51\": 5, \"33\": 3, \"2\": 1, \"50\": 1, \"46\": 3, \"5\": 1, \"23\": 1, \"17\": 6, \"12\": 3, \"3\": 3, \"47\": 3, \"15\": 1, \"0\": 1, \"18\": 3, \"6\": 9, \"54\": 4, \"30\": 5, \"4\": 1, \"36\": 1, \"20\": 7, \"25\": 3, \"8\": 3, \"21\": 1, \"37\": 1, \"16\": 3, \"11\": 3, \"45\": 1, \"40\": 1, \"1\": 1, \"27\": 1, \"52\": 2}, \"23\": {\"51\": 3, \"23\": 111, \"36\": 2, \"2\": 2, \"47\": 3, \"9\": 4, \"50\": 3, \"16\": 3, \"30\": 3, \"11\": 1, \"4\": 2, \"8\": 1, \"48\": 2, \"45\": 1, \"6\": 1, \"3\": 1, \"20\": 1}, \"1\": {\"1\": 77, \"0\": 3, \"3\": 3, \"48\": 1, \"5\": 3, \"19\": 2, \"29\": 4, \"6\": 1, \"34\": 1, \"46\": 2, \"9\": 2, \"11\": 1}, \"17\": {\"38\": 2, \"17\": 103, \"12\": 1, \"20\": 1, \"51\": 1}, \"21\": {\"21\": 66, \"6\": 1, \"30\": 6, \"52\": 1, \"2\": 2, \"46\": 1, \"27\": 2, \"11\": 4, \"8\": 3, \"16\": 7, \"54\": 3, \"50\": 5, \"53\": 5, \"15\": 4, \"48\": 1, \"51\": 6, \"32\": 1, \"45\": 1, \"17\": 1, \"9\": 1, \"20\": 1}, \"14\": {\"14\": 27, \"24\": 3, \"35\": 1, \"13\": 3, \"22\": 3, \"49\": 2, \"43\": 1}, \"55\": {\"55\": 128, \"28\": 1, \"7\": 1, \"22\": 5, \"31\": 1, \"40\": 2, \"35\": 4, \"43\": 1, \"24\": 1}, \"41\": {\"41\": 17, \"39\": 1, \"6\": 3, \"2\": 2, \"45\": 1, \"54\": 1, \"51\": 1, \"11\": 1, \"8\": 1}, \"3\": {\"1\": 8, \"39\": 1, \"3\": 36, \"35\": 2, \"37\": 3, \"5\": 7, \"11\": 3, \"34\": 1, \"23\": 8, \"16\": 11, \"21\": 3, \"50\": 4, \"29\": 7, \"25\": 4, \"53\": 1, \"47\": 4, \"6\": 6, \"57\": 5, \"44\": 4, \"0\": 1, \"19\": 5, \"46\": 6, \"48\": 2, \"41\": 1, \"36\": 1, \"12\": 1, \"40\": 2, \"4\": 1}, \"38\": {\"38\": 28}, \"2\": {\"2\": 17, \"12\": 3, \"8\": 2, \"18\": 1, \"45\": 2, \"32\": 1, \"30\": 1, \"36\": 3, \"20\": 2}, \"8\": {\"8\": 77, \"36\": 11, \"32\": 1, \"12\": 9, \"51\": 11, \"18\": 5, \"54\": 7, \"17\": 3, \"20\": 15, \"52\": 1, \"15\": 1, \"50\": 1}, \"37\": {\"37\": 28}, \"45\": {\"45\": 27, \"27\": 3, \"2\": 1, \"30\": 1, \"20\": 3, \"17\": 3, \"8\": 3, \"15\": 1, \"4\": 2, \"50\": 1, \"51\": 1, \"12\": 5, \"36\": 6, \"54\": 1, \"32\": 2}, \"42\": {\"42\": 20, \"49\": 2, \"37\": 1, \"7\": 1, \"22\": 1, \"35\": 1, \"55\": 2}, \"24\": {\"24\": 97, \"31\": 1, \"43\": 4, \"55\": 1, \"22\": 1}, \"15\": {\"15\": 127, \"52\": 8, \"20\": 1}, \"0\": {\"0\": 90, \"1\": 10, \"19\": 1, \"57\": 3, \"47\": 4, \"5\": 1, \"29\": 3, \"9\": 1, \"6\": 2, \"3\": 6, \"34\": 1, \"50\": 2}, \"47\": {\"47\": 50, \"13\": 1, \"50\": 4, \"42\": 1, \"41\": 1, \"3\": 6, \"57\": 1, \"4\": 3, \"46\": 2, \"0\": 7, \"8\": 1, \"6\": 1, \"29\": 1, \"5\": 2, \"51\": 1, \"11\": 1, \"16\": 1, \"19\": 2, \"48\": 1, \"43\": 1, \"45\": 1, \"1\": 3}, \"19\": {\"19\": 83, \"34\": 2, \"9\": 6, \"1\": 8, \"47\": 6, \"54\": 1, \"3\": 6, \"53\": 1, \"5\": 2, \"48\": 1, \"57\": 1, \"0\": 1, \"46\": 1, \"12\": 1}}}, \"per_domain_accuracy\": {\"O_14\": {\"accuracy\": 0.95625, \"source?\": true}, \"O_20\": {\"accuracy\": 0.9033854166666667, \"source?\": true}, \"O_50\": {\"accuracy\": 0.9143229166666667, \"source?\": true}, \"O_26\": {\"accuracy\": 0.8182291666666667, \"source?\": true}, \"O_32\": {\"accuracy\": 0.9028645833333333, \"source?\": true}, \"O_44\": {\"accuracy\": 0.7807291666666667, \"source?\": true}, \"O_8\": {\"accuracy\": 0.92890625, \"source?\": true}, \"O_38\": {\"accuracy\": 0.9153645833333334, \"source?\": true}, \"C_4\": {\"accuracy\": 0.6942365269461078, \"source?\": false}, \"C_5\": {\"accuracy\": 0.7255586592178771, \"source?\": false}, \"C_2\": {\"accuracy\": 0.70625, \"source?\": false}, \"C_1\": {\"accuracy\": 0.7997622282608695, \"source?\": false}, \"C_3\": {\"accuracy\": 0.7040441176470589, \"source?\": false}}}, \"history\": {\"epoch_indices\": [1, 2, 3, 4, 5, 6, 7, 8, 9, 10, 11, 12, 13, 14, 15, 16, 17, 18, 19, 20, 21, 22, 23, 24, 25, 26, 27, 28, 29], \"train_label_loss\": [0.9924351131011333, 0.974724343097547, 0.6395098106303652, 0.5490340733540333, 0.49010334325998667, 0.4419184404830005, 0.4095162148867357, 0.3798029938906742, 0.3368600377422159, 0.3090497605858781, 0.285174456531448, 0.2823403403728056, 0.2585850324113077, 0.26739902044466274, 0.23827132741481322, 0.22730798717193898, 0.21863108474676016, 0.201431779036024, 0.19377468729788752, 0.18320080754769844, 0.169996264866547, 0.16280056995741948, 0.15723275616130974, 0.1623765131556346, 0.14049168367089027, 0.1361068122101469, 0.1259841081548681, 0.13294091932078855, 0.13619629209895373], \"source_val_label_loss\": [9.378910064697266, 0.71901535987854, 0.5856305956840515, 0.5820236802101135, 0.47748857736587524, 0.4437420070171356, 0.45458388328552246, 0.4232478141784668, 0.3569129407405853, 0.364393949508667, 0.3374031186103821, 0.347555011510849, 0.3436649441719055, 0.3206048309803009, 0.34115728735923767, 0.33711040019989014, 0.33502984046936035, 0.31692710518836975, 0.33831703662872314, 0.3291197121143341, 0.332171767950058, 0.33708086609840393, 0.35139670968055725, 0.35232430696487427, 0.33512550592422485, 0.34937673807144165, 0.36401426792144775, 0.3540947437286377, 0.35608333349227905], \"target_val_label_loss\": [2836.934326171875, 223.73646545410156, 308.4451904296875, 221.1480712890625, 279.378662109375, 237.5697479248047, 202.11280822753906, 205.56588745117188, 221.90968322753906, 239.7511749267578, 263.5209045410156, 239.81468200683594, 246.89207458496094, 229.50546264648438, 228.51858520507812, 262.2106018066406, 262.3660888671875, 268.0474548339844, 222.6099395751953, 255.3939971923828, 260.6800537109375, 341.7265319824219, 283.10003662109375, 275.7773132324219, 318.8411865234375, 313.218994140625, 330.9069519042969, 346.420166015625, 328.8971252441406], \"source_val_acc_label\": [0.6871744791666666, 0.7353841145833333, 0.79150390625, 0.7858072916666666, 0.8307942708333333, 0.8443684895833333, 0.8329752604166667, 0.8453776041666666, 0.8693684895833333, 0.8701497395833333, 0.8776692708333333, 0.8743815104166667, 0.8784830729166667, 0.88349609375, 0.8802083333333334, 0.8809244791666667, 0.8814778645833333, 0.8893880208333333, 0.8814127604166667, 0.8855794270833334, 0.8879231770833333, 0.886328125, 0.8838541666666667, 0.88056640625, 0.8900065104166667, 0.8855143229166667, 0.8828776041666667, 0.8878255208333333, 0.8876302083333333], \"target_val_acc_label\": [0.5206785714285714, 0.578, 0.5864642857142857, 0.6083214285714286, 0.6163928571428572, 0.6365714285714286, 0.6248214285714285, 0.6756071428571429, 0.6706428571428571, 0.6849285714285714, 0.6773928571428571, 0.6804285714285714, 0.6882857142857143, 0.6911428571428572, 0.6971071428571428, 0.6735357142857142, 0.6933571428571429, 0.7087142857142857, 0.7110357142857143, 0.7170714285714286, 0.7128928571428571, 0.7013928571428572, 0.7078571428571429, 0.7186071428571429, 0.7271428571428571, 0.7247857142857143, 0.7148928571428571, 0.7178571428571429, 0.7138214285714286]}, \"dataset_metrics\": {\"source\": {\"train\": {\"n_unique_x\": 179200, \"n_unique_y\": 16, \"n_batch/episode\": 6720}, \"val\": {\"n_unique_x\": 38400, \"n_unique_y\": 16, \"n_batch/episode\": 960}, \"test\": {\"n_unique_x\": 38400, \"n_unique_y\": 16, \"n_batch/episode\": 960}}, \"target\": {\"train\": {\"n_unique_x\": 175158, \"n_unique_y\": 58, \"n_batch/episode\": 6317}, \"val\": {\"n_unique_x\": 37216, \"n_unique_y\": 58, \"n_batch/episode\": 875}, \"test\": {\"n_unique_x\": 37596, \"n_unique_y\": 58, \"n_batch/episode\": 886}}}}'"
      ]
     },
     "execution_count": 29,
     "metadata": {},
     "output_type": "execute_result"
    }
   ],
   "source": [
    "json.dumps(experiment)"
   ]
  }
 ],
 "metadata": {
  "celltoolbar": "Tags",
  "kernelspec": {
   "display_name": "Python 3 (ipykernel)",
   "language": "python",
   "name": "python3"
  },
  "language_info": {
   "codemirror_mode": {
    "name": "ipython",
    "version": 3
   },
   "file_extension": ".py",
   "mimetype": "text/x-python",
   "name": "python",
   "nbconvert_exporter": "python",
   "pygments_lexer": "ipython3",
   "version": "3.8.10"
  },
  "papermill": {
   "default_parameters": {},
   "duration": 8766.448543,
   "end_time": "2022-03-26T01:12:07.048594",
   "environment_variables": {},
   "exception": null,
   "input_path": "/mnt/wd500GB/CSC500/csc500-main/csc500-notebooks/templates/tl_ptn_template.ipynb",
   "output_path": "trial.ipynb",
   "parameters": {
    "parameters": {
     "BEST_MODEL_PATH": "./best_model.pth",
     "NUM_LOGS_PER_EPOCH": 10,
     "criteria_for_best": "target_accuracy",
     "dataset_seed": 420,
     "datasets": [
      {
       "domain_prefix": "C_",
       "domains": [
        1,
        2,
        3,
        4,
        5
       ],
       "episode_transforms": [],
       "labels": [
        "1-10.",
        "1-11.",
        "1-15.",
        "1-16.",
        "1-17.",
        "1-18.",
        "1-19.",
        "10-4.",
        "10-7.",
        "11-1.",
        "11-14.",
        "11-17.",
        "11-20.",
        "11-7.",
        "13-20.",
        "13-8.",
        "14-10.",
        "14-11.",
        "14-14.",
        "14-7.",
        "15-1.",
        "15-20.",
        "16-1.",
        "16-16.",
        "17-10.",
        "17-11.",
        "17-2.",
        "19-1.",
        "19-16.",
        "19-19.",
        "19-20.",
        "19-3.",
        "2-10.",
        "2-11.",
        "2-17.",
        "2-18.",
        "2-20.",
        "2-3.",
        "2-4.",
        "2-5.",
        "2-6.",
        "2-7.",
        "2-8.",
        "3-13.",
        "3-18.",
        "3-3.",
        "4-1.",
        "4-10.",
        "4-11.",
        "4-19.",
        "5-5.",
        "6-15.",
        "7-10.",
        "7-14.",
        "8-18.",
        "8-20.",
        "8-3.",
        "8-8."
       ],
       "num_examples_per_domain_per_label": -1,
       "pickle_path": "/mnt/wd500GB/CSC500/csc500-main/datasets/cores.stratified_ds.2022A.pkl",
       "source_or_target_dataset": "target",
       "x_transforms": [
        "unit_mag",
        "lowpass_+/-10MHz",
        "take_200"
       ]
      },
      {
       "domain_prefix": "O_",
       "domains": [
        32,
        38,
        8,
        44,
        14,
        50,
        20,
        26
       ],
       "episode_transforms": [],
       "labels": [
        "3123D52",
        "3123D65",
        "3123D79",
        "3123D80",
        "3123D54",
        "3123D70",
        "3123D7B",
        "3123D89",
        "3123D58",
        "3123D76",
        "3123D7D",
        "3123EFE",
        "3123D64",
        "3123D78",
        "3123D7E",
        "3124E4A"
       ],
       "num_examples_per_domain_per_label": 2000,
       "pickle_path": "/mnt/wd500GB/CSC500/csc500-main/datasets/oracle.Run1_framed_2000Examples_stratified_ds.2022A.pkl",
       "source_or_target_dataset": "source",
       "x_transforms": [
        "unit_mag",
        "take_200",
        "resample_20Msps_to_25Msps"
       ]
      }
     ],
     "device": "cuda",
     "experiment_name": "tl_3-filterv2:oracle.run1.framed -> cores",
     "lr": 0.0001,
     "n_epoch": 50,
     "n_query": 2,
     "n_shot": 3,
     "n_way": 16,
     "patience": 3,
     "seed": 420,
     "test_k_factor": 2,
     "torch_default_dtype": "torch.float32",
     "train_k_factor": 3,
     "val_k_factor": 2,
     "x_net": [
      {
       "class": "nnReshape",
       "kargs": {
        "shape": [
         -1,
         1,
         2,
         200
        ]
       }
      },
      {
       "class": "Conv2d",
       "kargs": {
        "bias": false,
        "in_channels": 1,
        "kernel_size": [
         1,
         7
        ],
        "out_channels": 256,
        "padding": [
         0,
         3
        ]
       }
      },
      {
       "class": "ReLU",
       "kargs": {
        "inplace": true
       }
      },
      {
       "class": "BatchNorm2d",
       "kargs": {
        "num_features": 256
       }
      },
      {
       "class": "Conv2d",
       "kargs": {
        "bias": true,
        "in_channels": 256,
        "kernel_size": [
         2,
         7
        ],
        "out_channels": 80,
        "padding": [
         0,
         3
        ]
       }
      },
      {
       "class": "ReLU",
       "kargs": {
        "inplace": true
       }
      },
      {
       "class": "BatchNorm2d",
       "kargs": {
        "num_features": 80
       }
      },
      {
       "class": "Flatten",
       "kargs": {}
      },
      {
       "class": "Linear",
       "kargs": {
        "in_features": 16000,
        "out_features": 256
       }
      },
      {
       "class": "ReLU",
       "kargs": {
        "inplace": true
       }
      },
      {
       "class": "BatchNorm1d",
       "kargs": {
        "num_features": 256
       }
      },
      {
       "class": "Linear",
       "kargs": {
        "in_features": 256,
        "out_features": 256
       }
      }
     ],
     "x_shape": [
      2,
      200
     ]
    }
   },
   "start_time": "2022-03-25T22:46:00.600051",
   "version": "2.3.4"
  }
 },
 "nbformat": 4,
 "nbformat_minor": 5
}