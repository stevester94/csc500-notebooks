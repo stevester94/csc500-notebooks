{
 "cells": [
  {
   "cell_type": "markdown",
   "id": "9fea5f46",
   "metadata": {
    "papermill": {
     "duration": 0.018566,
     "end_time": "2022-03-26T06:00:13.623159",
     "exception": false,
     "start_time": "2022-03-26T06:00:13.604593",
     "status": "completed"
    },
    "tags": []
   },
   "source": [
    "# Transfer Learning Template"
   ]
  },
  {
   "cell_type": "code",
   "execution_count": 1,
   "id": "0902182a",
   "metadata": {
    "execution": {
     "iopub.execute_input": "2022-03-26T06:00:13.663014Z",
     "iopub.status.busy": "2022-03-26T06:00:13.662439Z",
     "iopub.status.idle": "2022-03-26T06:00:15.758753Z",
     "shell.execute_reply": "2022-03-26T06:00:15.758261Z"
    },
    "papermill": {
     "duration": 2.122927,
     "end_time": "2022-03-26T06:00:15.758874",
     "exception": false,
     "start_time": "2022-03-26T06:00:13.635947",
     "status": "completed"
    },
    "tags": []
   },
   "outputs": [],
   "source": [
    "%load_ext autoreload\n",
    "%autoreload 2\n",
    "%matplotlib inline\n",
    "\n",
    "    \n",
    "import os, json, sys, time, random\n",
    "import numpy as np\n",
    "import torch\n",
    "from torch.optim import Adam\n",
    "from  easydict import EasyDict\n",
    "import matplotlib.pyplot as plt\n",
    "\n",
    "from steves_models.steves_ptn import Steves_Prototypical_Network\n",
    "\n",
    "from steves_utils.lazy_iterable_wrapper import Lazy_Iterable_Wrapper\n",
    "from steves_utils.iterable_aggregator import Iterable_Aggregator\n",
    "from steves_utils.ptn_train_eval_test_jig import  PTN_Train_Eval_Test_Jig\n",
    "from steves_utils.torch_sequential_builder import build_sequential\n",
    "from steves_utils.torch_utils import get_dataset_metrics, ptn_confusion_by_domain_over_dataloader\n",
    "from steves_utils.utils_v2 import (per_domain_accuracy_from_confusion, get_datasets_base_path)\n",
    "from steves_utils.PTN.utils import independent_accuracy_assesment\n",
    "\n",
    "from torch.utils.data import DataLoader\n",
    "\n",
    "from steves_utils.stratified_dataset.episodic_accessor import Episodic_Accessor_Factory\n",
    "\n",
    "from steves_utils.ptn_do_report import (\n",
    "    get_loss_curve,\n",
    "    get_results_table,\n",
    "    get_parameters_table,\n",
    "    get_domain_accuracies,\n",
    ")\n",
    "\n",
    "from steves_utils.transforms import get_chained_transform"
   ]
  },
  {
   "cell_type": "markdown",
   "id": "41c840b4",
   "metadata": {
    "papermill": {
     "duration": 0.012453,
     "end_time": "2022-03-26T06:00:15.790196",
     "exception": false,
     "start_time": "2022-03-26T06:00:15.777743",
     "status": "completed"
    },
    "tags": []
   },
   "source": [
    "# Allowed Parameters\n",
    "These are allowed parameters, not defaults\n",
    "Each of these values need to be present in the injected parameters (the notebook will raise an exception if they are not present)\n",
    "\n",
    "Papermill uses the cell tag \"parameters\" to inject the real parameters below this cell.\n",
    "Enable tags to see what I mean"
   ]
  },
  {
   "cell_type": "code",
   "execution_count": 2,
   "id": "fd44eb83",
   "metadata": {
    "execution": {
     "iopub.execute_input": "2022-03-26T06:00:15.818933Z",
     "iopub.status.busy": "2022-03-26T06:00:15.818674Z",
     "iopub.status.idle": "2022-03-26T06:00:15.832400Z",
     "shell.execute_reply": "2022-03-26T06:00:15.832774Z"
    },
    "papermill": {
     "duration": 0.030143,
     "end_time": "2022-03-26T06:00:15.832881",
     "exception": false,
     "start_time": "2022-03-26T06:00:15.802738",
     "status": "completed"
    },
    "tags": []
   },
   "outputs": [],
   "source": [
    "required_parameters = {\n",
    "    \"experiment_name\",\n",
    "    \"lr\",\n",
    "    \"device\",\n",
    "    \"seed\",\n",
    "    \"dataset_seed\",\n",
    "    \"n_shot\",\n",
    "    \"n_query\",\n",
    "    \"n_way\",\n",
    "    \"train_k_factor\",\n",
    "    \"val_k_factor\",\n",
    "    \"test_k_factor\",\n",
    "    \"n_epoch\",\n",
    "    \"patience\",\n",
    "    \"criteria_for_best\",\n",
    "    \"x_net\",\n",
    "    \"datasets\",\n",
    "    \"torch_default_dtype\",\n",
    "    \"NUM_LOGS_PER_EPOCH\",\n",
    "    \"BEST_MODEL_PATH\",\n",
    "    \"x_shape\",\n",
    "}"
   ]
  },
  {
   "cell_type": "code",
   "execution_count": 3,
   "id": "fa3f0049",
   "metadata": {
    "execution": {
     "iopub.execute_input": "2022-03-26T06:00:15.867277Z",
     "iopub.status.busy": "2022-03-26T06:00:15.866929Z",
     "iopub.status.idle": "2022-03-26T06:00:15.878362Z",
     "shell.execute_reply": "2022-03-26T06:00:15.878657Z"
    },
    "papermill": {
     "duration": 0.030092,
     "end_time": "2022-03-26T06:00:15.878740",
     "exception": false,
     "start_time": "2022-03-26T06:00:15.848648",
     "status": "completed"
    },
    "tags": [
     "parameters"
    ]
   },
   "outputs": [],
   "source": [
    "from steves_utils.CORES.utils import (\n",
    "    ALL_NODES,\n",
    "    ALL_NODES_MINIMUM_1000_EXAMPLES,\n",
    "    ALL_DAYS\n",
    ")\n",
    "\n",
    "from steves_utils.ORACLE.utils_v2 import (\n",
    "    ALL_DISTANCES_FEET_NARROWED,\n",
    "    ALL_RUNS,\n",
    "    ALL_SERIAL_NUMBERS,\n",
    ")\n",
    "\n",
    "standalone_parameters = {}\n",
    "standalone_parameters[\"experiment_name\"] = \"STANDALONE PTN\"\n",
    "standalone_parameters[\"lr\"] = 0.001\n",
    "standalone_parameters[\"device\"] = \"cuda\"\n",
    "\n",
    "standalone_parameters[\"seed\"] = 1337\n",
    "standalone_parameters[\"dataset_seed\"] = 1337\n",
    "\n",
    "standalone_parameters[\"n_way\"] = 8\n",
    "standalone_parameters[\"n_shot\"] = 3\n",
    "standalone_parameters[\"n_query\"]  = 2\n",
    "standalone_parameters[\"train_k_factor\"] = 1\n",
    "standalone_parameters[\"val_k_factor\"] = 2\n",
    "standalone_parameters[\"test_k_factor\"] = 2\n",
    "\n",
    "\n",
    "standalone_parameters[\"n_epoch\"] = 50\n",
    "\n",
    "standalone_parameters[\"patience\"] = 10\n",
    "standalone_parameters[\"criteria_for_best\"] = \"source_loss\"\n",
    "\n",
    "standalone_parameters[\"datasets\"] = [\n",
    "    {\n",
    "        \"labels\": ALL_SERIAL_NUMBERS,\n",
    "        \"domains\": ALL_DISTANCES_FEET_NARROWED,\n",
    "        \"num_examples_per_domain_per_label\": 100,\n",
    "        \"pickle_path\": os.path.join(get_datasets_base_path(), \"oracle.Run1_framed_2000Examples_stratified_ds.2022A.pkl\"),\n",
    "        \"source_or_target_dataset\": \"source\",\n",
    "        \"x_transforms\": [\"unit_mag\", \"minus_two\"],\n",
    "        \"episode_transforms\": [],\n",
    "        \"domain_prefix\": \"ORACLE_\"\n",
    "    },\n",
    "    {\n",
    "        \"labels\": ALL_NODES,\n",
    "        \"domains\": ALL_DAYS,\n",
    "        \"num_examples_per_domain_per_label\": 100,\n",
    "        \"pickle_path\": os.path.join(get_datasets_base_path(), \"cores.stratified_ds.2022A.pkl\"),\n",
    "        \"source_or_target_dataset\": \"target\",\n",
    "        \"x_transforms\": [\"unit_power\", \"times_zero\"],\n",
    "        \"episode_transforms\": [],\n",
    "        \"domain_prefix\": \"CORES_\"\n",
    "    }   \n",
    "]\n",
    "\n",
    "standalone_parameters[\"torch_default_dtype\"] = \"torch.float32\" \n",
    "\n",
    "\n",
    "\n",
    "standalone_parameters[\"x_net\"] =     [\n",
    "    {\"class\": \"nnReshape\", \"kargs\": {\"shape\":[-1, 1, 2, 256]}},\n",
    "    {\"class\": \"Conv2d\", \"kargs\": { \"in_channels\":1, \"out_channels\":256, \"kernel_size\":(1,7), \"bias\":False, \"padding\":(0,3), },},\n",
    "    {\"class\": \"ReLU\", \"kargs\": {\"inplace\": True}},\n",
    "    {\"class\": \"BatchNorm2d\", \"kargs\": {\"num_features\":256}},\n",
    "\n",
    "    {\"class\": \"Conv2d\", \"kargs\": { \"in_channels\":256, \"out_channels\":80, \"kernel_size\":(2,7), \"bias\":True, \"padding\":(0,3), },},\n",
    "    {\"class\": \"ReLU\", \"kargs\": {\"inplace\": True}},\n",
    "    {\"class\": \"BatchNorm2d\", \"kargs\": {\"num_features\":80}},\n",
    "    {\"class\": \"Flatten\", \"kargs\": {}},\n",
    "\n",
    "    {\"class\": \"Linear\", \"kargs\": {\"in_features\": 80*256, \"out_features\": 256}}, # 80 units per IQ pair\n",
    "    {\"class\": \"ReLU\", \"kargs\": {\"inplace\": True}},\n",
    "    {\"class\": \"BatchNorm1d\", \"kargs\": {\"num_features\":256}},\n",
    "\n",
    "    {\"class\": \"Linear\", \"kargs\": {\"in_features\": 256, \"out_features\": 256}},\n",
    "]\n",
    "\n",
    "# Parameters relevant to results\n",
    "# These parameters will basically never need to change\n",
    "standalone_parameters[\"NUM_LOGS_PER_EPOCH\"] = 10\n",
    "standalone_parameters[\"BEST_MODEL_PATH\"] = \"./best_model.pth\"\n",
    "\n",
    "\n",
    "\n",
    "\n"
   ]
  },
  {
   "cell_type": "code",
   "execution_count": 4,
   "id": "8b1a9a30",
   "metadata": {
    "execution": {
     "iopub.execute_input": "2022-03-26T06:00:15.920556Z",
     "iopub.status.busy": "2022-03-26T06:00:15.920130Z",
     "iopub.status.idle": "2022-03-26T06:00:15.934170Z",
     "shell.execute_reply": "2022-03-26T06:00:15.934621Z"
    },
    "papermill": {
     "duration": 0.037065,
     "end_time": "2022-03-26T06:00:15.934765",
     "exception": false,
     "start_time": "2022-03-26T06:00:15.897700",
     "status": "completed"
    },
    "tags": [
     "injected-parameters"
    ]
   },
   "outputs": [],
   "source": [
    "# Parameters\n",
    "parameters = {\n",
    "    \"experiment_name\": \"tl_3-filterv2:oracle.run1.framed -> cores\",\n",
    "    \"device\": \"cuda\",\n",
    "    \"lr\": 0.0001,\n",
    "    \"x_shape\": [2, 200],\n",
    "    \"n_shot\": 3,\n",
    "    \"n_query\": 2,\n",
    "    \"train_k_factor\": 3,\n",
    "    \"val_k_factor\": 2,\n",
    "    \"test_k_factor\": 2,\n",
    "    \"torch_default_dtype\": \"torch.float32\",\n",
    "    \"n_epoch\": 50,\n",
    "    \"patience\": 3,\n",
    "    \"criteria_for_best\": \"target_accuracy\",\n",
    "    \"x_net\": [\n",
    "        {\"class\": \"nnReshape\", \"kargs\": {\"shape\": [-1, 1, 2, 200]}},\n",
    "        {\n",
    "            \"class\": \"Conv2d\",\n",
    "            \"kargs\": {\n",
    "                \"in_channels\": 1,\n",
    "                \"out_channels\": 256,\n",
    "                \"kernel_size\": [1, 7],\n",
    "                \"bias\": False,\n",
    "                \"padding\": [0, 3],\n",
    "            },\n",
    "        },\n",
    "        {\"class\": \"ReLU\", \"kargs\": {\"inplace\": True}},\n",
    "        {\"class\": \"BatchNorm2d\", \"kargs\": {\"num_features\": 256}},\n",
    "        {\n",
    "            \"class\": \"Conv2d\",\n",
    "            \"kargs\": {\n",
    "                \"in_channels\": 256,\n",
    "                \"out_channels\": 80,\n",
    "                \"kernel_size\": [2, 7],\n",
    "                \"bias\": True,\n",
    "                \"padding\": [0, 3],\n",
    "            },\n",
    "        },\n",
    "        {\"class\": \"ReLU\", \"kargs\": {\"inplace\": True}},\n",
    "        {\"class\": \"BatchNorm2d\", \"kargs\": {\"num_features\": 80}},\n",
    "        {\"class\": \"Flatten\", \"kargs\": {}},\n",
    "        {\"class\": \"Linear\", \"kargs\": {\"in_features\": 16000, \"out_features\": 256}},\n",
    "        {\"class\": \"ReLU\", \"kargs\": {\"inplace\": True}},\n",
    "        {\"class\": \"BatchNorm1d\", \"kargs\": {\"num_features\": 256}},\n",
    "        {\"class\": \"Linear\", \"kargs\": {\"in_features\": 256, \"out_features\": 256}},\n",
    "    ],\n",
    "    \"NUM_LOGS_PER_EPOCH\": 10,\n",
    "    \"BEST_MODEL_PATH\": \"./best_model.pth\",\n",
    "    \"n_way\": 16,\n",
    "    \"datasets\": [\n",
    "        {\n",
    "            \"labels\": [\n",
    "                \"1-10.\",\n",
    "                \"1-11.\",\n",
    "                \"1-15.\",\n",
    "                \"1-16.\",\n",
    "                \"1-17.\",\n",
    "                \"1-18.\",\n",
    "                \"1-19.\",\n",
    "                \"10-4.\",\n",
    "                \"10-7.\",\n",
    "                \"11-1.\",\n",
    "                \"11-14.\",\n",
    "                \"11-17.\",\n",
    "                \"11-20.\",\n",
    "                \"11-7.\",\n",
    "                \"13-20.\",\n",
    "                \"13-8.\",\n",
    "                \"14-10.\",\n",
    "                \"14-11.\",\n",
    "                \"14-14.\",\n",
    "                \"14-7.\",\n",
    "                \"15-1.\",\n",
    "                \"15-20.\",\n",
    "                \"16-1.\",\n",
    "                \"16-16.\",\n",
    "                \"17-10.\",\n",
    "                \"17-11.\",\n",
    "                \"17-2.\",\n",
    "                \"19-1.\",\n",
    "                \"19-16.\",\n",
    "                \"19-19.\",\n",
    "                \"19-20.\",\n",
    "                \"19-3.\",\n",
    "                \"2-10.\",\n",
    "                \"2-11.\",\n",
    "                \"2-17.\",\n",
    "                \"2-18.\",\n",
    "                \"2-20.\",\n",
    "                \"2-3.\",\n",
    "                \"2-4.\",\n",
    "                \"2-5.\",\n",
    "                \"2-6.\",\n",
    "                \"2-7.\",\n",
    "                \"2-8.\",\n",
    "                \"3-13.\",\n",
    "                \"3-18.\",\n",
    "                \"3-3.\",\n",
    "                \"4-1.\",\n",
    "                \"4-10.\",\n",
    "                \"4-11.\",\n",
    "                \"4-19.\",\n",
    "                \"5-5.\",\n",
    "                \"6-15.\",\n",
    "                \"7-10.\",\n",
    "                \"7-14.\",\n",
    "                \"8-18.\",\n",
    "                \"8-20.\",\n",
    "                \"8-3.\",\n",
    "                \"8-8.\",\n",
    "            ],\n",
    "            \"domains\": [1, 2, 3, 4, 5],\n",
    "            \"num_examples_per_domain_per_label\": -1,\n",
    "            \"pickle_path\": \"/mnt/wd500GB/CSC500/csc500-main/datasets/cores.stratified_ds.2022A.pkl\",\n",
    "            \"source_or_target_dataset\": \"target\",\n",
    "            \"x_transforms\": [\"lowpass_+/-10MHz\", \"take_200\"],\n",
    "            \"episode_transforms\": [],\n",
    "            \"domain_prefix\": \"C_\",\n",
    "        },\n",
    "        {\n",
    "            \"labels\": [\n",
    "                \"3123D52\",\n",
    "                \"3123D65\",\n",
    "                \"3123D79\",\n",
    "                \"3123D80\",\n",
    "                \"3123D54\",\n",
    "                \"3123D70\",\n",
    "                \"3123D7B\",\n",
    "                \"3123D89\",\n",
    "                \"3123D58\",\n",
    "                \"3123D76\",\n",
    "                \"3123D7D\",\n",
    "                \"3123EFE\",\n",
    "                \"3123D64\",\n",
    "                \"3123D78\",\n",
    "                \"3123D7E\",\n",
    "                \"3124E4A\",\n",
    "            ],\n",
    "            \"domains\": [32, 38, 8, 44, 14, 50, 20, 26],\n",
    "            \"num_examples_per_domain_per_label\": 2000,\n",
    "            \"pickle_path\": \"/mnt/wd500GB/CSC500/csc500-main/datasets/oracle.Run1_framed_2000Examples_stratified_ds.2022A.pkl\",\n",
    "            \"source_or_target_dataset\": \"source\",\n",
    "            \"x_transforms\": [\"take_200\", \"resample_20Msps_to_25Msps\"],\n",
    "            \"episode_transforms\": [],\n",
    "            \"domain_prefix\": \"O_\",\n",
    "        },\n",
    "    ],\n",
    "    \"seed\": 500,\n",
    "    \"dataset_seed\": 500,\n",
    "}\n"
   ]
  },
  {
   "cell_type": "code",
   "execution_count": 5,
   "id": "8fa1cc33",
   "metadata": {
    "execution": {
     "iopub.execute_input": "2022-03-26T06:00:15.970483Z",
     "iopub.status.busy": "2022-03-26T06:00:15.970192Z",
     "iopub.status.idle": "2022-03-26T06:00:15.985281Z",
     "shell.execute_reply": "2022-03-26T06:00:15.985644Z"
    },
    "papermill": {
     "duration": 0.033599,
     "end_time": "2022-03-26T06:00:15.985756",
     "exception": false,
     "start_time": "2022-03-26T06:00:15.952157",
     "status": "completed"
    },
    "tags": []
   },
   "outputs": [],
   "source": [
    "# Set this to True if you want to run this template directly\n",
    "STANDALONE = False\n",
    "if STANDALONE:\n",
    "    print(\"parameters not injected, running with standalone_parameters\")\n",
    "    parameters = standalone_parameters\n",
    "\n",
    "if not 'parameters' in locals() and not 'parameters' in globals():\n",
    "    raise Exception(\"Parameter injection failed\")\n",
    "\n",
    "#Use an easy dict for all the parameters\n",
    "p = EasyDict(parameters)\n",
    "\n",
    "if \"x_shape\" not in p:\n",
    "    p.x_shape = [2,256] # Default to this if we dont supply x_shape\n",
    "\n",
    "\n",
    "supplied_keys = set(p.keys())\n",
    "\n",
    "if  supplied_keys != required_parameters:\n",
    "    print(\"Parameters are incorrect\")\n",
    "    if len(supplied_keys - required_parameters)>0: print(\"Shouldn't have:\", str(supplied_keys - required_parameters))\n",
    "    if len(required_parameters - supplied_keys)>0: print(\"Need to have:\", str(required_parameters - supplied_keys))\n",
    "    raise RuntimeError(\"Parameters are incorrect\")"
   ]
  },
  {
   "cell_type": "code",
   "execution_count": 6,
   "id": "3a028d58",
   "metadata": {
    "execution": {
     "iopub.execute_input": "2022-03-26T06:00:16.019375Z",
     "iopub.status.busy": "2022-03-26T06:00:16.019070Z",
     "iopub.status.idle": "2022-03-26T06:00:16.034928Z",
     "shell.execute_reply": "2022-03-26T06:00:16.035298Z"
    },
    "papermill": {
     "duration": 0.031943,
     "end_time": "2022-03-26T06:00:16.035412",
     "exception": false,
     "start_time": "2022-03-26T06:00:16.003469",
     "status": "completed"
    },
    "tags": []
   },
   "outputs": [],
   "source": [
    "###################################\n",
    "# Set the RNGs and make it all deterministic\n",
    "###################################\n",
    "np.random.seed(p.seed)\n",
    "random.seed(p.seed)\n",
    "torch.manual_seed(p.seed)\n",
    "\n",
    "torch.use_deterministic_algorithms(True) "
   ]
  },
  {
   "cell_type": "code",
   "execution_count": 7,
   "id": "b691acf6",
   "metadata": {
    "execution": {
     "iopub.execute_input": "2022-03-26T06:00:16.069572Z",
     "iopub.status.busy": "2022-03-26T06:00:16.069327Z",
     "iopub.status.idle": "2022-03-26T06:00:16.083348Z",
     "shell.execute_reply": "2022-03-26T06:00:16.082957Z"
    },
    "papermill": {
     "duration": 0.029392,
     "end_time": "2022-03-26T06:00:16.083436",
     "exception": false,
     "start_time": "2022-03-26T06:00:16.054044",
     "status": "completed"
    },
    "tags": []
   },
   "outputs": [],
   "source": [
    "###########################################\n",
    "# The stratified datasets honor this\n",
    "###########################################\n",
    "torch.set_default_dtype(eval(p.torch_default_dtype))"
   ]
  },
  {
   "cell_type": "code",
   "execution_count": 8,
   "id": "b5fba671",
   "metadata": {
    "execution": {
     "iopub.execute_input": "2022-03-26T06:00:16.115517Z",
     "iopub.status.busy": "2022-03-26T06:00:16.115272Z",
     "iopub.status.idle": "2022-03-26T06:00:16.149921Z",
     "shell.execute_reply": "2022-03-26T06:00:16.150317Z"
    },
    "papermill": {
     "duration": 0.05048,
     "end_time": "2022-03-26T06:00:16.150422",
     "exception": false,
     "start_time": "2022-03-26T06:00:16.099942",
     "status": "completed"
    },
    "tags": []
   },
   "outputs": [],
   "source": [
    "###################################\n",
    "# Build the network(s)\n",
    "# Note: It's critical to do this AFTER setting the RNG\n",
    "###################################\n",
    "x_net = build_sequential(p.x_net)"
   ]
  },
  {
   "cell_type": "code",
   "execution_count": 9,
   "id": "5d7e61cc",
   "metadata": {
    "execution": {
     "iopub.execute_input": "2022-03-26T06:00:16.184991Z",
     "iopub.status.busy": "2022-03-26T06:00:16.184739Z",
     "iopub.status.idle": "2022-03-26T06:00:16.200018Z",
     "shell.execute_reply": "2022-03-26T06:00:16.200486Z"
    },
    "papermill": {
     "duration": 0.031018,
     "end_time": "2022-03-26T06:00:16.200600",
     "exception": false,
     "start_time": "2022-03-26T06:00:16.169582",
     "status": "completed"
    },
    "tags": []
   },
   "outputs": [],
   "source": [
    "start_time_secs = time.time()"
   ]
  },
  {
   "cell_type": "code",
   "execution_count": 10,
   "id": "c6b67dfd",
   "metadata": {
    "execution": {
     "iopub.execute_input": "2022-03-26T06:00:16.234750Z",
     "iopub.status.busy": "2022-03-26T06:00:16.234463Z",
     "iopub.status.idle": "2022-03-26T06:00:16.247933Z",
     "shell.execute_reply": "2022-03-26T06:00:16.248223Z"
    },
    "papermill": {
     "duration": 0.029714,
     "end_time": "2022-03-26T06:00:16.248304",
     "exception": false,
     "start_time": "2022-03-26T06:00:16.218590",
     "status": "completed"
    },
    "tags": []
   },
   "outputs": [],
   "source": [
    "p.domains_source = []\n",
    "p.domains_target = []\n",
    "\n",
    "\n",
    "train_original_source = []\n",
    "val_original_source   = []\n",
    "test_original_source  = []\n",
    "\n",
    "train_original_target = []\n",
    "val_original_target   = []\n",
    "test_original_target  = []"
   ]
  },
  {
   "cell_type": "code",
   "execution_count": 11,
   "id": "e3d9c3d3",
   "metadata": {
    "execution": {
     "iopub.execute_input": "2022-03-26T06:00:16.281337Z",
     "iopub.status.busy": "2022-03-26T06:00:16.281090Z",
     "iopub.status.idle": "2022-03-26T06:00:16.293970Z",
     "shell.execute_reply": "2022-03-26T06:00:16.294194Z"
    },
    "papermill": {
     "duration": 0.02826,
     "end_time": "2022-03-26T06:00:16.294251",
     "exception": false,
     "start_time": "2022-03-26T06:00:16.265991",
     "status": "completed"
    },
    "tags": []
   },
   "outputs": [],
   "source": [
    "# global_x_transform_func = lambda x: normalize(x.to(torch.get_default_dtype()), \"unit_power\") # unit_power, unit_mag\n",
    "# global_x_transform_func = lambda x: normalize(x, \"unit_power\") # unit_power, unit_mag"
   ]
  },
  {
   "cell_type": "code",
   "execution_count": 12,
   "id": "acb78fd2",
   "metadata": {
    "execution": {
     "iopub.execute_input": "2022-03-26T06:00:16.333549Z",
     "iopub.status.busy": "2022-03-26T06:00:16.333291Z",
     "iopub.status.idle": "2022-03-26T06:00:16.346903Z",
     "shell.execute_reply": "2022-03-26T06:00:16.347276Z"
    },
    "papermill": {
     "duration": 0.034026,
     "end_time": "2022-03-26T06:00:16.347383",
     "exception": false,
     "start_time": "2022-03-26T06:00:16.313357",
     "status": "completed"
    },
    "tags": []
   },
   "outputs": [],
   "source": [
    "def add_dataset(\n",
    "    labels,\n",
    "    domains,\n",
    "    pickle_path,\n",
    "    x_transforms,\n",
    "    episode_transforms,\n",
    "    domain_prefix,\n",
    "    num_examples_per_domain_per_label,\n",
    "    source_or_target_dataset:str,\n",
    "    iterator_seed=p.seed,\n",
    "    dataset_seed=p.dataset_seed,\n",
    "    n_shot=p.n_shot,\n",
    "    n_way=p.n_way,\n",
    "    n_query=p.n_query,\n",
    "    train_val_test_k_factors=(p.train_k_factor,p.val_k_factor,p.test_k_factor),\n",
    "):\n",
    "   \n",
    "    if x_transforms == []: x_transform = None\n",
    "    else: x_transform = get_chained_transform(x_transforms)\n",
    "    \n",
    "    if episode_transforms == []: episode_transform = None\n",
    "    else: raise Exception(\"episode_transforms not implemented\")\n",
    "    \n",
    "    episode_transform = lambda tup, _prefix=domain_prefix: (_prefix + str(tup[0]), tup[1])\n",
    "\n",
    "\n",
    "    eaf = Episodic_Accessor_Factory(\n",
    "        labels=labels,\n",
    "        domains=domains,\n",
    "        num_examples_per_domain_per_label=num_examples_per_domain_per_label,\n",
    "        iterator_seed=iterator_seed,\n",
    "        dataset_seed=dataset_seed,\n",
    "        n_shot=n_shot,\n",
    "        n_way=n_way,\n",
    "        n_query=n_query,\n",
    "        train_val_test_k_factors=train_val_test_k_factors,\n",
    "        pickle_path=pickle_path,\n",
    "        x_transform_func=x_transform,\n",
    "    )\n",
    "\n",
    "    train, val, test = eaf.get_train(), eaf.get_val(), eaf.get_test()\n",
    "    train = Lazy_Iterable_Wrapper(train, episode_transform)\n",
    "    val = Lazy_Iterable_Wrapper(val, episode_transform)\n",
    "    test = Lazy_Iterable_Wrapper(test, episode_transform)\n",
    "\n",
    "    if source_or_target_dataset==\"source\":\n",
    "        train_original_source.append(train)\n",
    "        val_original_source.append(val)\n",
    "        test_original_source.append(test)\n",
    "\n",
    "        p.domains_source.extend(\n",
    "            [domain_prefix + str(u) for u in domains]\n",
    "        )\n",
    "    elif source_or_target_dataset==\"target\":\n",
    "        train_original_target.append(train)\n",
    "        val_original_target.append(val)\n",
    "        test_original_target.append(test)\n",
    "        p.domains_target.extend(\n",
    "            [domain_prefix + str(u) for u in domains]\n",
    "        )\n",
    "    else:\n",
    "        raise Exception(f\"invalid source_or_target_dataset: {source_or_target_dataset}\")\n",
    "    "
   ]
  },
  {
   "cell_type": "code",
   "execution_count": 13,
   "id": "fe266617",
   "metadata": {
    "execution": {
     "iopub.execute_input": "2022-03-26T06:00:16.379214Z",
     "iopub.status.busy": "2022-03-26T06:00:16.378971Z",
     "iopub.status.idle": "2022-03-26T06:00:37.692905Z",
     "shell.execute_reply": "2022-03-26T06:00:37.692464Z"
    },
    "papermill": {
     "duration": 21.328992,
     "end_time": "2022-03-26T06:00:37.693011",
     "exception": false,
     "start_time": "2022-03-26T06:00:16.364019",
     "status": "completed"
    },
    "tags": []
   },
   "outputs": [],
   "source": [
    "for ds in p.datasets:\n",
    "    add_dataset(**ds)"
   ]
  },
  {
   "cell_type": "code",
   "execution_count": 14,
   "id": "b90d65ac",
   "metadata": {
    "execution": {
     "iopub.execute_input": "2022-03-26T06:00:37.729126Z",
     "iopub.status.busy": "2022-03-26T06:00:37.728870Z",
     "iopub.status.idle": "2022-03-26T06:00:37.739881Z",
     "shell.execute_reply": "2022-03-26T06:00:37.739522Z"
    },
    "papermill": {
     "duration": 0.026454,
     "end_time": "2022-03-26T06:00:37.739954",
     "exception": false,
     "start_time": "2022-03-26T06:00:37.713500",
     "status": "completed"
    },
    "tags": []
   },
   "outputs": [],
   "source": [
    "# from steves_utils.CORES.utils import (\n",
    "#     ALL_NODES,\n",
    "#     ALL_NODES_MINIMUM_1000_EXAMPLES,\n",
    "#     ALL_DAYS\n",
    "# )\n",
    "\n",
    "# add_dataset(\n",
    "#     labels=ALL_NODES,\n",
    "#     domains = ALL_DAYS,\n",
    "#     num_examples_per_domain_per_label=100,\n",
    "#     pickle_path=os.path.join(get_datasets_base_path(), \"cores.stratified_ds.2022A.pkl\"),\n",
    "#     source_or_target_dataset=\"target\",\n",
    "#     x_transform_func=global_x_transform_func,\n",
    "#     domain_modifier=lambda u: f\"cores_{u}\"\n",
    "# )"
   ]
  },
  {
   "cell_type": "code",
   "execution_count": 15,
   "id": "76db484d",
   "metadata": {
    "execution": {
     "iopub.execute_input": "2022-03-26T06:00:37.774318Z",
     "iopub.status.busy": "2022-03-26T06:00:37.774059Z",
     "iopub.status.idle": "2022-03-26T06:00:37.784891Z",
     "shell.execute_reply": "2022-03-26T06:00:37.784434Z"
    },
    "papermill": {
     "duration": 0.026328,
     "end_time": "2022-03-26T06:00:37.784986",
     "exception": false,
     "start_time": "2022-03-26T06:00:37.758658",
     "status": "completed"
    },
    "tags": []
   },
   "outputs": [],
   "source": [
    "# from steves_utils.ORACLE.utils_v2 import (\n",
    "#     ALL_DISTANCES_FEET,\n",
    "#     ALL_RUNS,\n",
    "#     ALL_SERIAL_NUMBERS,\n",
    "# )\n",
    "\n",
    "\n",
    "# add_dataset(\n",
    "#     labels=ALL_SERIAL_NUMBERS,\n",
    "#     domains = list(set(ALL_DISTANCES_FEET) - {2,62}),\n",
    "#     num_examples_per_domain_per_label=100,\n",
    "#     pickle_path=os.path.join(get_datasets_base_path(), \"oracle.Run2_framed_2000Examples_stratified_ds.2022A.pkl\"),\n",
    "#     source_or_target_dataset=\"source\",\n",
    "#     x_transform_func=global_x_transform_func,\n",
    "#     domain_modifier=lambda u: f\"oracle1_{u}\"\n",
    "# )\n"
   ]
  },
  {
   "cell_type": "code",
   "execution_count": 16,
   "id": "97dea9d2",
   "metadata": {
    "execution": {
     "iopub.execute_input": "2022-03-26T06:00:37.819581Z",
     "iopub.status.busy": "2022-03-26T06:00:37.819328Z",
     "iopub.status.idle": "2022-03-26T06:00:37.830099Z",
     "shell.execute_reply": "2022-03-26T06:00:37.829677Z"
    },
    "papermill": {
     "duration": 0.02634,
     "end_time": "2022-03-26T06:00:37.830193",
     "exception": false,
     "start_time": "2022-03-26T06:00:37.803853",
     "status": "completed"
    },
    "tags": []
   },
   "outputs": [],
   "source": [
    "# from steves_utils.ORACLE.utils_v2 import (\n",
    "#     ALL_DISTANCES_FEET,\n",
    "#     ALL_RUNS,\n",
    "#     ALL_SERIAL_NUMBERS,\n",
    "# )\n",
    "\n",
    "\n",
    "# add_dataset(\n",
    "#     labels=ALL_SERIAL_NUMBERS,\n",
    "#     domains = list(set(ALL_DISTANCES_FEET) - {2,62,56}),\n",
    "#     num_examples_per_domain_per_label=100,\n",
    "#     pickle_path=os.path.join(get_datasets_base_path(), \"oracle.Run2_framed_2000Examples_stratified_ds.2022A.pkl\"),\n",
    "#     source_or_target_dataset=\"source\",\n",
    "#     x_transform_func=global_x_transform_func,\n",
    "#     domain_modifier=lambda u: f\"oracle2_{u}\"\n",
    "# )"
   ]
  },
  {
   "cell_type": "code",
   "execution_count": 17,
   "id": "6f289866",
   "metadata": {
    "execution": {
     "iopub.execute_input": "2022-03-26T06:00:37.864262Z",
     "iopub.status.busy": "2022-03-26T06:00:37.864011Z",
     "iopub.status.idle": "2022-03-26T06:00:37.874685Z",
     "shell.execute_reply": "2022-03-26T06:00:37.874278Z"
    },
    "papermill": {
     "duration": 0.026304,
     "end_time": "2022-03-26T06:00:37.874778",
     "exception": false,
     "start_time": "2022-03-26T06:00:37.848474",
     "status": "completed"
    },
    "tags": []
   },
   "outputs": [],
   "source": [
    "# add_dataset(\n",
    "#     labels=list(range(19)),\n",
    "#     domains = [0,1,2],\n",
    "#     num_examples_per_domain_per_label=100,\n",
    "#     pickle_path=os.path.join(get_datasets_base_path(), \"metehan.stratified_ds.2022A.pkl\"),\n",
    "#     source_or_target_dataset=\"target\",\n",
    "#     x_transform_func=global_x_transform_func,\n",
    "#     domain_modifier=lambda u: f\"met_{u}\"\n",
    "# )"
   ]
  },
  {
   "cell_type": "code",
   "execution_count": 18,
   "id": "86a863c3",
   "metadata": {
    "execution": {
     "iopub.execute_input": "2022-03-26T06:00:37.908448Z",
     "iopub.status.busy": "2022-03-26T06:00:37.908186Z",
     "iopub.status.idle": "2022-03-26T06:00:37.918275Z",
     "shell.execute_reply": "2022-03-26T06:00:37.918040Z"
    },
    "papermill": {
     "duration": 0.025604,
     "end_time": "2022-03-26T06:00:37.918340",
     "exception": false,
     "start_time": "2022-03-26T06:00:37.892736",
     "status": "completed"
    },
    "tags": []
   },
   "outputs": [],
   "source": [
    "# # from steves_utils.wisig.utils import (\n",
    "# #     ALL_NODES_MINIMUM_100_EXAMPLES,\n",
    "# #     ALL_NODES_MINIMUM_500_EXAMPLES,\n",
    "# #     ALL_NODES_MINIMUM_1000_EXAMPLES,\n",
    "# #     ALL_DAYS\n",
    "# # )\n",
    "\n",
    "# import steves_utils.wisig.utils as wisig\n",
    "\n",
    "\n",
    "# add_dataset(\n",
    "#     labels=wisig.ALL_NODES_MINIMUM_100_EXAMPLES,\n",
    "#     domains = wisig.ALL_DAYS,\n",
    "#     num_examples_per_domain_per_label=100,\n",
    "#     pickle_path=os.path.join(get_datasets_base_path(), \"wisig.node3-19.stratified_ds.2022A.pkl\"),\n",
    "#     source_or_target_dataset=\"target\",\n",
    "#     x_transform_func=global_x_transform_func,\n",
    "#     domain_modifier=lambda u: f\"wisig_{u}\"\n",
    "# )"
   ]
  },
  {
   "cell_type": "code",
   "execution_count": 19,
   "id": "fd5442bc",
   "metadata": {
    "execution": {
     "iopub.execute_input": "2022-03-26T06:00:37.955889Z",
     "iopub.status.busy": "2022-03-26T06:00:37.955631Z",
     "iopub.status.idle": "2022-03-26T06:00:37.967161Z",
     "shell.execute_reply": "2022-03-26T06:00:37.966856Z"
    },
    "papermill": {
     "duration": 0.028872,
     "end_time": "2022-03-26T06:00:37.967229",
     "exception": false,
     "start_time": "2022-03-26T06:00:37.938357",
     "status": "completed"
    },
    "tags": []
   },
   "outputs": [],
   "source": [
    "###################################\n",
    "# Build the dataset\n",
    "###################################\n",
    "train_original_source = Iterable_Aggregator(train_original_source, p.seed)\n",
    "val_original_source = Iterable_Aggregator(val_original_source, p.seed)\n",
    "test_original_source = Iterable_Aggregator(test_original_source, p.seed)\n",
    "\n",
    "\n",
    "train_original_target = Iterable_Aggregator(train_original_target, p.seed)\n",
    "val_original_target = Iterable_Aggregator(val_original_target, p.seed)\n",
    "test_original_target = Iterable_Aggregator(test_original_target, p.seed)\n",
    "\n",
    "# For CNN We only use X and Y. And we only train on the source.\n",
    "# Properly form the data using a transform lambda and Lazy_Iterable_Wrapper. Finally wrap them in a dataloader\n",
    "\n",
    "transform_lambda = lambda ex: ex[1] # Original is (<domain>, <episode>) so we strip down to episode only\n",
    "\n",
    "train_processed_source = Lazy_Iterable_Wrapper(train_original_source, transform_lambda)\n",
    "val_processed_source   = Lazy_Iterable_Wrapper(val_original_source, transform_lambda)\n",
    "test_processed_source  = Lazy_Iterable_Wrapper(test_original_source, transform_lambda)\n",
    "\n",
    "train_processed_target = Lazy_Iterable_Wrapper(train_original_target, transform_lambda)\n",
    "val_processed_target   = Lazy_Iterable_Wrapper(val_original_target, transform_lambda)\n",
    "test_processed_target  = Lazy_Iterable_Wrapper(test_original_target, transform_lambda)\n",
    "\n",
    "datasets = EasyDict({\n",
    "    \"source\": {\n",
    "        \"original\": {\"train\":train_original_source, \"val\":val_original_source, \"test\":test_original_source},\n",
    "        \"processed\": {\"train\":train_processed_source, \"val\":val_processed_source, \"test\":test_processed_source}\n",
    "    },\n",
    "    \"target\": {\n",
    "        \"original\": {\"train\":train_original_target, \"val\":val_original_target, \"test\":test_original_target},\n",
    "        \"processed\": {\"train\":train_processed_target, \"val\":val_processed_target, \"test\":test_processed_target}\n",
    "    },\n",
    "})"
   ]
  },
  {
   "cell_type": "code",
   "execution_count": 20,
   "id": "5b3c01fc",
   "metadata": {
    "execution": {
     "iopub.execute_input": "2022-03-26T06:00:38.004808Z",
     "iopub.status.busy": "2022-03-26T06:00:38.004555Z",
     "iopub.status.idle": "2022-03-26T06:00:45.337942Z",
     "shell.execute_reply": "2022-03-26T06:00:45.338344Z"
    },
    "papermill": {
     "duration": 7.351874,
     "end_time": "2022-03-26T06:00:45.338478",
     "exception": false,
     "start_time": "2022-03-26T06:00:37.986604",
     "status": "completed"
    },
    "tags": []
   },
   "outputs": [
    {
     "name": "stdout",
     "output_type": "stream",
     "text": [
      "{'O_44', 'O_26', 'O_20', 'O_50', 'O_8', 'O_38', 'O_14', 'O_32'}\n"
     ]
    },
    {
     "name": "stdout",
     "output_type": "stream",
     "text": [
      "{'C_4', 'C_2', 'C_3', 'C_1', 'C_5'}\n"
     ]
    },
    {
     "name": "stdout",
     "output_type": "stream",
     "text": [
      "tensor([[[ 9.4607e-04,  2.0838e-03, -4.8982e-04,  ...,  7.0501e-04,\n",
      "          -1.3730e-04,  1.8651e-03],\n",
      "         [-7.3244e-04,  5.1373e-04,  5.5381e-04,  ...,  1.1186e-03,\n",
      "           1.9094e-03,  2.9535e-04]],\n",
      "\n",
      "        [[ 1.8311e-04,  2.2850e-03,  4.1729e-04,  ...,  6.2979e-04,\n",
      "           7.4248e-05,  1.9375e-03],\n",
      "         [-1.1597e-03, -2.1021e-04,  8.9464e-04,  ...,  7.2088e-04,\n",
      "           2.1401e-03,  3.2306e-04]],\n",
      "\n",
      "        [[-1.7396e-03, -1.6951e-04,  2.5856e-03,  ...,  3.9022e-04,\n",
      "          -1.6906e-03, -2.1310e-03],\n",
      "         [-5.1881e-04, -5.7247e-04,  2.8093e-05,  ..., -1.7346e-03,\n",
      "          -1.3323e-03, -1.3298e-03]],\n",
      "\n",
      "        ...,\n",
      "\n",
      "        [[-6.7141e-04,  3.3706e-04,  9.0093e-04,  ...,  1.2609e-03,\n",
      "           2.5123e-03,  1.2147e-03],\n",
      "         [-5.4933e-04, -2.4524e-03, -1.9597e-04,  ..., -1.7514e-03,\n",
      "           2.8705e-04, -1.0419e-03]],\n",
      "\n",
      "        [[ 1.1292e-03, -5.5049e-04, -1.4775e-03,  ..., -1.6268e-03,\n",
      "          -2.0009e-03, -9.0898e-05],\n",
      "         [ 1.8006e-03,  2.5817e-03, -9.4251e-04,  ...,  3.9293e-04,\n",
      "          -1.8269e-04,  2.1178e-03]],\n",
      "\n",
      "        [[ 8.8504e-04, -1.0138e-03, -1.7318e-03,  ..., -2.1742e-03,\n",
      "          -1.8588e-03, -5.6852e-04],\n",
      "         [ 2.0753e-03,  2.4920e-03, -1.4041e-03,  ...,  3.1050e-04,\n",
      "           4.1499e-04,  2.8304e-03]]])\n"
     ]
    }
   ],
   "source": [
    "from steves_utils.transforms import get_average_magnitude, get_average_power\n",
    "\n",
    "print(set([u for u,_ in val_original_source]))\n",
    "print(set([u for u,_ in val_original_target]))\n",
    "\n",
    "s_x, s_y, q_x, q_y, _ = next(iter(train_processed_source))\n",
    "print(s_x)\n",
    "\n",
    "# for ds in [\n",
    "#     train_processed_source,\n",
    "#     val_processed_source,\n",
    "#     test_processed_source,\n",
    "#     train_processed_target,\n",
    "#     val_processed_target,\n",
    "#     test_processed_target\n",
    "# ]:\n",
    "#     for s_x, s_y, q_x, q_y, _ in ds:\n",
    "#         for X in (s_x, q_x):\n",
    "#             for x in X:\n",
    "#                 assert np.isclose(get_average_magnitude(x.numpy()), 1.0)\n",
    "#                 assert np.isclose(get_average_power(x.numpy()), 1.0)\n",
    "                "
   ]
  },
  {
   "cell_type": "code",
   "execution_count": 21,
   "id": "bbdacba1",
   "metadata": {
    "execution": {
     "iopub.execute_input": "2022-03-26T06:00:45.375670Z",
     "iopub.status.busy": "2022-03-26T06:00:45.375417Z",
     "iopub.status.idle": "2022-03-26T06:00:45.446358Z",
     "shell.execute_reply": "2022-03-26T06:00:45.446761Z"
    },
    "papermill": {
     "duration": 0.089157,
     "end_time": "2022-03-26T06:00:45.446878",
     "exception": false,
     "start_time": "2022-03-26T06:00:45.357721",
     "status": "completed"
    },
    "tags": []
   },
   "outputs": [
    {
     "name": "stdout",
     "output_type": "stream",
     "text": [
      "(2, 200)\n"
     ]
    }
   ],
   "source": [
    "###################################\n",
    "# Build the model\n",
    "###################################\n",
    "# easfsl only wants a tuple for the shape\n",
    "model = Steves_Prototypical_Network(x_net, device=p.device, x_shape=tuple(p.x_shape))\n",
    "optimizer = Adam(params=model.parameters(), lr=p.lr)"
   ]
  },
  {
   "cell_type": "code",
   "execution_count": 22,
   "id": "22b39ac5",
   "metadata": {
    "execution": {
     "iopub.execute_input": "2022-03-26T06:00:45.486095Z",
     "iopub.status.busy": "2022-03-26T06:00:45.485826Z",
     "iopub.status.idle": "2022-03-26T06:14:10.668374Z",
     "shell.execute_reply": "2022-03-26T06:14:10.668144Z"
    },
    "papermill": {
     "duration": 805.20264,
     "end_time": "2022-03-26T06:14:10.668431",
     "exception": false,
     "start_time": "2022-03-26T06:00:45.465791",
     "status": "completed"
    },
    "tags": []
   },
   "outputs": [
    {
     "name": "stdout",
     "output_type": "stream",
     "text": [
      "epoch: 1, [batch: 1 / 6720], examples_per_second: 49.5530, train_label_loss: 2.8628, \n"
     ]
    },
    {
     "name": "stdout",
     "output_type": "stream",
     "text": [
      "epoch: 1, [batch: 672 / 6720], examples_per_second: 3773.6538, train_label_loss: 1.1324, \n"
     ]
    },
    {
     "name": "stdout",
     "output_type": "stream",
     "text": [
      "epoch: 1, [batch: 1344 / 6720], examples_per_second: 3812.6522, train_label_loss: 0.5230, \n"
     ]
    },
    {
     "name": "stdout",
     "output_type": "stream",
     "text": [
      "epoch: 1, [batch: 2016 / 6720], examples_per_second: 3760.9383, train_label_loss: 0.5074, \n"
     ]
    },
    {
     "name": "stdout",
     "output_type": "stream",
     "text": [
      "epoch: 1, [batch: 2688 / 6720], examples_per_second: 3772.7573, train_label_loss: 0.6930, \n"
     ]
    },
    {
     "name": "stdout",
     "output_type": "stream",
     "text": [
      "epoch: 1, [batch: 3360 / 6720], examples_per_second: 3773.3500, train_label_loss: 0.5019, \n"
     ]
    },
    {
     "name": "stdout",
     "output_type": "stream",
     "text": [
      "epoch: 1, [batch: 4032 / 6720], examples_per_second: 3751.7142, train_label_loss: 0.2853, \n"
     ]
    },
    {
     "name": "stdout",
     "output_type": "stream",
     "text": [
      "epoch: 1, [batch: 4704 / 6720], examples_per_second: 3776.8434, train_label_loss: 0.5553, \n"
     ]
    },
    {
     "name": "stdout",
     "output_type": "stream",
     "text": [
      "epoch: 1, [batch: 5376 / 6720], examples_per_second: 3794.4220, train_label_loss: 0.3536, \n"
     ]
    },
    {
     "name": "stdout",
     "output_type": "stream",
     "text": [
      "epoch: 1, [batch: 6048 / 6720], examples_per_second: 3775.2744, train_label_loss: 0.3574, \n"
     ]
    },
    {
     "name": "stdout",
     "output_type": "stream",
     "text": [
      "=============================================================\n",
      "epoch: 1, source_val_acc_label: 0.5386, target_val_acc_label: 0.6717, source_val_label_loss: 512.8570, target_val_label_loss: 8707.5576, \n",
      "=============================================================\n"
     ]
    },
    {
     "name": "stdout",
     "output_type": "stream",
     "text": [
      "New best\n"
     ]
    },
    {
     "name": "stdout",
     "output_type": "stream",
     "text": [
      "epoch: 2, [batch: 1 / 6720], examples_per_second: 5.4993, train_label_loss: 0.6271, \n"
     ]
    },
    {
     "name": "stdout",
     "output_type": "stream",
     "text": [
      "epoch: 2, [batch: 672 / 6720], examples_per_second: 3706.7769, train_label_loss: 1.0442, \n"
     ]
    },
    {
     "name": "stdout",
     "output_type": "stream",
     "text": [
      "epoch: 2, [batch: 1344 / 6720], examples_per_second: 3777.5313, train_label_loss: 0.5899, \n"
     ]
    },
    {
     "name": "stdout",
     "output_type": "stream",
     "text": [
      "epoch: 2, [batch: 2016 / 6720], examples_per_second: 3798.7113, train_label_loss: 0.2230, \n"
     ]
    },
    {
     "name": "stdout",
     "output_type": "stream",
     "text": [
      "epoch: 2, [batch: 2688 / 6720], examples_per_second: 3798.4262, train_label_loss: 0.1019, \n"
     ]
    },
    {
     "name": "stdout",
     "output_type": "stream",
     "text": [
      "epoch: 2, [batch: 3360 / 6720], examples_per_second: 3797.3009, train_label_loss: 0.3025, \n"
     ]
    },
    {
     "name": "stdout",
     "output_type": "stream",
     "text": [
      "epoch: 2, [batch: 4032 / 6720], examples_per_second: 3807.4674, train_label_loss: 0.5567, \n"
     ]
    },
    {
     "name": "stdout",
     "output_type": "stream",
     "text": [
      "epoch: 2, [batch: 4704 / 6720], examples_per_second: 3803.3844, train_label_loss: 0.7550, \n"
     ]
    },
    {
     "name": "stdout",
     "output_type": "stream",
     "text": [
      "epoch: 2, [batch: 5376 / 6720], examples_per_second: 3769.4207, train_label_loss: 0.3469, \n"
     ]
    },
    {
     "name": "stdout",
     "output_type": "stream",
     "text": [
      "epoch: 2, [batch: 6048 / 6720], examples_per_second: 3780.4526, train_label_loss: 0.4077, \n"
     ]
    },
    {
     "name": "stdout",
     "output_type": "stream",
     "text": [
      "=============================================================\n",
      "epoch: 2, source_val_acc_label: 0.8656, target_val_acc_label: 0.5230, source_val_label_loss: 0.4058, target_val_label_loss: 2421.2937, \n",
      "=============================================================\n"
     ]
    },
    {
     "name": "stdout",
     "output_type": "stream",
     "text": [
      "epoch: 3, [batch: 1 / 6720], examples_per_second: 5.4614, train_label_loss: 0.6362, \n"
     ]
    },
    {
     "name": "stdout",
     "output_type": "stream",
     "text": [
      "epoch: 3, [batch: 672 / 6720], examples_per_second: 3806.5638, train_label_loss: 0.1531, \n"
     ]
    },
    {
     "name": "stdout",
     "output_type": "stream",
     "text": [
      "epoch: 3, [batch: 1344 / 6720], examples_per_second: 3832.3798, train_label_loss: 0.3808, \n"
     ]
    },
    {
     "name": "stdout",
     "output_type": "stream",
     "text": [
      "epoch: 3, [batch: 2016 / 6720], examples_per_second: 3726.6564, train_label_loss: 0.2367, \n"
     ]
    },
    {
     "name": "stdout",
     "output_type": "stream",
     "text": [
      "epoch: 3, [batch: 2688 / 6720], examples_per_second: 3575.1397, train_label_loss: 0.3326, \n"
     ]
    },
    {
     "name": "stdout",
     "output_type": "stream",
     "text": [
      "epoch: 3, [batch: 3360 / 6720], examples_per_second: 3615.5782, train_label_loss: 0.2967, \n"
     ]
    },
    {
     "name": "stdout",
     "output_type": "stream",
     "text": [
      "epoch: 3, [batch: 4032 / 6720], examples_per_second: 3610.1753, train_label_loss: 0.3130, \n"
     ]
    },
    {
     "name": "stdout",
     "output_type": "stream",
     "text": [
      "epoch: 3, [batch: 4704 / 6720], examples_per_second: 3602.8063, train_label_loss: 0.3241, \n"
     ]
    },
    {
     "name": "stdout",
     "output_type": "stream",
     "text": [
      "epoch: 3, [batch: 5376 / 6720], examples_per_second: 3621.7454, train_label_loss: 0.5514, \n"
     ]
    },
    {
     "name": "stdout",
     "output_type": "stream",
     "text": [
      "epoch: 3, [batch: 6048 / 6720], examples_per_second: 3616.0715, train_label_loss: 0.2996, \n"
     ]
    },
    {
     "name": "stdout",
     "output_type": "stream",
     "text": [
      "=============================================================\n",
      "epoch: 3, source_val_acc_label: 0.8826, target_val_acc_label: 0.5044, source_val_label_loss: 0.3789, target_val_label_loss: 619.1231, \n",
      "=============================================================\n"
     ]
    },
    {
     "name": "stdout",
     "output_type": "stream",
     "text": [
      "epoch: 4, [batch: 1 / 6720], examples_per_second: 5.2408, train_label_loss: 0.6382, \n"
     ]
    },
    {
     "name": "stdout",
     "output_type": "stream",
     "text": [
      "epoch: 4, [batch: 672 / 6720], examples_per_second: 3602.4703, train_label_loss: 0.1909, \n"
     ]
    },
    {
     "name": "stdout",
     "output_type": "stream",
     "text": [
      "epoch: 4, [batch: 1344 / 6720], examples_per_second: 3605.7950, train_label_loss: 0.3624, \n"
     ]
    },
    {
     "name": "stdout",
     "output_type": "stream",
     "text": [
      "epoch: 4, [batch: 2016 / 6720], examples_per_second: 3580.7307, train_label_loss: 0.2141, \n"
     ]
    },
    {
     "name": "stdout",
     "output_type": "stream",
     "text": [
      "epoch: 4, [batch: 2688 / 6720], examples_per_second: 3592.0514, train_label_loss: 0.4295, \n"
     ]
    },
    {
     "name": "stdout",
     "output_type": "stream",
     "text": [
      "epoch: 4, [batch: 3360 / 6720], examples_per_second: 3571.6358, train_label_loss: 0.4253, \n"
     ]
    },
    {
     "name": "stdout",
     "output_type": "stream",
     "text": [
      "epoch: 4, [batch: 4032 / 6720], examples_per_second: 3599.1288, train_label_loss: 0.4232, \n"
     ]
    },
    {
     "name": "stdout",
     "output_type": "stream",
     "text": [
      "epoch: 4, [batch: 4704 / 6720], examples_per_second: 3597.9480, train_label_loss: 0.6716, \n"
     ]
    },
    {
     "name": "stdout",
     "output_type": "stream",
     "text": [
      "epoch: 4, [batch: 5376 / 6720], examples_per_second: 3595.5165, train_label_loss: 0.3214, \n"
     ]
    },
    {
     "name": "stdout",
     "output_type": "stream",
     "text": [
      "epoch: 4, [batch: 6048 / 6720], examples_per_second: 3631.0408, train_label_loss: 0.5502, \n"
     ]
    },
    {
     "name": "stdout",
     "output_type": "stream",
     "text": [
      "=============================================================\n",
      "epoch: 4, source_val_acc_label: 0.8935, target_val_acc_label: 0.5122, source_val_label_loss: 0.3034, target_val_label_loss: 756.1119, \n",
      "=============================================================\n"
     ]
    },
    {
     "name": "stdout",
     "output_type": "stream",
     "text": [
      "epoch: 5, [batch: 1 / 6720], examples_per_second: 5.2793, train_label_loss: 0.1905, \n"
     ]
    },
    {
     "name": "stdout",
     "output_type": "stream",
     "text": [
      "epoch: 5, [batch: 672 / 6720], examples_per_second: 3591.7952, train_label_loss: 0.7178, \n"
     ]
    },
    {
     "name": "stdout",
     "output_type": "stream",
     "text": [
      "epoch: 5, [batch: 1344 / 6720], examples_per_second: 3618.3232, train_label_loss: 0.1915, \n"
     ]
    },
    {
     "name": "stdout",
     "output_type": "stream",
     "text": [
      "epoch: 5, [batch: 2016 / 6720], examples_per_second: 3654.6297, train_label_loss: 0.2210, \n"
     ]
    },
    {
     "name": "stdout",
     "output_type": "stream",
     "text": [
      "epoch: 5, [batch: 2688 / 6720], examples_per_second: 3624.3112, train_label_loss: 0.1707, \n"
     ]
    },
    {
     "name": "stdout",
     "output_type": "stream",
     "text": [
      "epoch: 5, [batch: 3360 / 6720], examples_per_second: 3641.1020, train_label_loss: 0.3291, \n"
     ]
    },
    {
     "name": "stdout",
     "output_type": "stream",
     "text": [
      "epoch: 5, [batch: 4032 / 6720], examples_per_second: 3630.4907, train_label_loss: 0.0990, \n"
     ]
    },
    {
     "name": "stdout",
     "output_type": "stream",
     "text": [
      "epoch: 5, [batch: 4704 / 6720], examples_per_second: 3623.5705, train_label_loss: 0.1642, \n"
     ]
    },
    {
     "name": "stdout",
     "output_type": "stream",
     "text": [
      "epoch: 5, [batch: 5376 / 6720], examples_per_second: 3640.4349, train_label_loss: 0.2849, \n"
     ]
    },
    {
     "name": "stdout",
     "output_type": "stream",
     "text": [
      "epoch: 5, [batch: 6048 / 6720], examples_per_second: 3638.5478, train_label_loss: 0.5021, \n"
     ]
    },
    {
     "name": "stdout",
     "output_type": "stream",
     "text": [
      "=============================================================\n",
      "epoch: 5, source_val_acc_label: 0.9133, target_val_acc_label: 0.5267, source_val_label_loss: 0.2583, target_val_label_loss: 822.1101, \n",
      "=============================================================\n"
     ]
    },
    {
     "name": "stdout",
     "output_type": "stream",
     "text": [
      "Patience (3) exhausted\n"
     ]
    }
   ],
   "source": [
    "###################################\n",
    "# train\n",
    "###################################\n",
    "jig = PTN_Train_Eval_Test_Jig(model, p.BEST_MODEL_PATH, p.device)\n",
    "\n",
    "jig.train(\n",
    "    train_iterable=datasets.source.processed.train,\n",
    "    source_val_iterable=datasets.source.processed.val,\n",
    "    target_val_iterable=datasets.target.processed.val,\n",
    "    num_epochs=p.n_epoch,\n",
    "    num_logs_per_epoch=p.NUM_LOGS_PER_EPOCH,\n",
    "    patience=p.patience,\n",
    "    optimizer=optimizer,\n",
    "    criteria_for_best=p.criteria_for_best,\n",
    ")"
   ]
  },
  {
   "cell_type": "code",
   "execution_count": 23,
   "id": "31e8fabf",
   "metadata": {
    "execution": {
     "iopub.execute_input": "2022-03-26T06:14:10.728590Z",
     "iopub.status.busy": "2022-03-26T06:14:10.721218Z",
     "iopub.status.idle": "2022-03-26T06:14:10.740234Z",
     "shell.execute_reply": "2022-03-26T06:14:10.739968Z"
    },
    "papermill": {
     "duration": 0.04698,
     "end_time": "2022-03-26T06:14:10.740296",
     "exception": false,
     "start_time": "2022-03-26T06:14:10.693316",
     "status": "completed"
    },
    "tags": []
   },
   "outputs": [],
   "source": [
    "total_experiment_time_secs = time.time() - start_time_secs"
   ]
  },
  {
   "cell_type": "code",
   "execution_count": 24,
   "id": "87b9595b",
   "metadata": {
    "execution": {
     "iopub.execute_input": "2022-03-26T06:14:10.801874Z",
     "iopub.status.busy": "2022-03-26T06:14:10.796530Z",
     "iopub.status.idle": "2022-03-26T06:15:40.655821Z",
     "shell.execute_reply": "2022-03-26T06:15:40.656198Z"
    },
    "papermill": {
     "duration": 89.890856,
     "end_time": "2022-03-26T06:15:40.656332",
     "exception": false,
     "start_time": "2022-03-26T06:14:10.765476",
     "status": "completed"
    },
    "tags": []
   },
   "outputs": [],
   "source": [
    "###################################\n",
    "# Evaluate the model\n",
    "###################################\n",
    "source_test_label_accuracy, source_test_label_loss = jig.test(datasets.source.processed.test)\n",
    "target_test_label_accuracy, target_test_label_loss = jig.test(datasets.target.processed.test)\n",
    "\n",
    "source_val_label_accuracy, source_val_label_loss = jig.test(datasets.source.processed.val)\n",
    "target_val_label_accuracy, target_val_label_loss = jig.test(datasets.target.processed.val)\n",
    "\n",
    "history = jig.get_history()\n",
    "\n",
    "total_epochs_trained = len(history[\"epoch_indices\"])\n",
    "\n",
    "val_dl = Iterable_Aggregator((datasets.source.original.val,datasets.target.original.val))\n",
    "\n",
    "confusion = ptn_confusion_by_domain_over_dataloader(model, p.device, val_dl)\n",
    "per_domain_accuracy = per_domain_accuracy_from_confusion(confusion)\n",
    "\n",
    "# Add a key to per_domain_accuracy for if it was a source domain\n",
    "for domain, accuracy in per_domain_accuracy.items():\n",
    "    per_domain_accuracy[domain] = {\n",
    "        \"accuracy\": accuracy,\n",
    "        \"source?\": domain in p.domains_source\n",
    "    }\n",
    "\n",
    "# Do an independent accuracy assesment JUST TO BE SURE!\n",
    "# _source_test_label_accuracy = independent_accuracy_assesment(model, datasets.source.processed.test, p.device)\n",
    "# _target_test_label_accuracy = independent_accuracy_assesment(model, datasets.target.processed.test, p.device)\n",
    "# _source_val_label_accuracy = independent_accuracy_assesment(model, datasets.source.processed.val, p.device)\n",
    "# _target_val_label_accuracy = independent_accuracy_assesment(model, datasets.target.processed.val, p.device)\n",
    "\n",
    "# assert(_source_test_label_accuracy == source_test_label_accuracy)\n",
    "# assert(_target_test_label_accuracy == target_test_label_accuracy)\n",
    "# assert(_source_val_label_accuracy == source_val_label_accuracy)\n",
    "# assert(_target_val_label_accuracy == target_val_label_accuracy)\n",
    "\n",
    "experiment = {\n",
    "    \"experiment_name\": p.experiment_name,\n",
    "    \"parameters\": dict(p),\n",
    "    \"results\": {\n",
    "        \"source_test_label_accuracy\": source_test_label_accuracy,\n",
    "        \"source_test_label_loss\": source_test_label_loss,\n",
    "        \"target_test_label_accuracy\": target_test_label_accuracy,\n",
    "        \"target_test_label_loss\": target_test_label_loss,\n",
    "        \"source_val_label_accuracy\": source_val_label_accuracy,\n",
    "        \"source_val_label_loss\": source_val_label_loss,\n",
    "        \"target_val_label_accuracy\": target_val_label_accuracy,\n",
    "        \"target_val_label_loss\": target_val_label_loss,\n",
    "        \"total_epochs_trained\": total_epochs_trained,\n",
    "        \"total_experiment_time_secs\": total_experiment_time_secs,\n",
    "        \"confusion\": confusion,\n",
    "        \"per_domain_accuracy\": per_domain_accuracy,\n",
    "    },\n",
    "    \"history\": history,\n",
    "    \"dataset_metrics\": get_dataset_metrics(datasets, \"ptn\"),\n",
    "}"
   ]
  },
  {
   "cell_type": "code",
   "execution_count": 25,
   "id": "54a21829",
   "metadata": {
    "execution": {
     "iopub.execute_input": "2022-03-26T06:15:40.717050Z",
     "iopub.status.busy": "2022-03-26T06:15:40.715186Z",
     "iopub.status.idle": "2022-03-26T06:15:40.836922Z",
     "shell.execute_reply": "2022-03-26T06:15:40.837341Z"
    },
    "papermill": {
     "duration": 0.150321,
     "end_time": "2022-03-26T06:15:40.837472",
     "exception": false,
     "start_time": "2022-03-26T06:15:40.687151",
     "status": "completed"
    },
    "tags": []
   },
   "outputs": [
    {
     "data": {
      "image/png": "[encoded data removed]",
      "text/plain": [
       "<Figure size 1080x504 with 1 Axes>"
      ]
     },
     "metadata": {
      "needs_background": "light"
     },
     "output_type": "display_data"
    }
   ],
   "source": [
    "ax = get_loss_curve(experiment)\n",
    "plt.show()"
   ]
  },
  {
   "cell_type": "code",
   "execution_count": 26,
   "id": "fd8a0f60",
   "metadata": {
    "execution": {
     "iopub.execute_input": "2022-03-26T06:15:40.900918Z",
     "iopub.status.busy": "2022-03-26T06:15:40.897074Z",
     "iopub.status.idle": "2022-03-26T06:15:41.042076Z",
     "shell.execute_reply": "2022-03-26T06:15:41.042293Z"
    },
    "papermill": {
     "duration": 0.174211,
     "end_time": "2022-03-26T06:15:41.042370",
     "exception": false,
     "start_time": "2022-03-26T06:15:40.868159",
     "status": "completed"
    },
    "tags": []
   },
   "outputs": [
    {
     "data": {
      "text/plain": [
       "<AxesSubplot:title={'center':'Results'}>"
      ]
     },
     "execution_count": 26,
     "metadata": {},
     "output_type": "execute_result"
    },
    {
     "data": {
      "image/png": "[encoded data removed]",
      "text/plain": [
       "<Figure size 1080x504 with 1 Axes>"
      ]
     },
     "metadata": {
      "needs_background": "light"
     },
     "output_type": "display_data"
    }
   ],
   "source": [
    "get_results_table(experiment)"
   ]
  },
  {
   "cell_type": "code",
   "execution_count": 27,
   "id": "cf8dc689",
   "metadata": {
    "execution": {
     "iopub.execute_input": "2022-03-26T06:15:41.100347Z",
     "iopub.status.busy": "2022-03-26T06:15:41.099975Z",
     "iopub.status.idle": "2022-03-26T06:15:41.240864Z",
     "shell.execute_reply": "2022-03-26T06:15:41.240633Z"
    },
    "papermill": {
     "duration": 0.17054,
     "end_time": "2022-03-26T06:15:41.240923",
     "exception": false,
     "start_time": "2022-03-26T06:15:41.070383",
     "status": "completed"
    },
    "tags": []
   },
   "outputs": [
    {
     "data": {
      "text/plain": [
       "<AxesSubplot:title={'center':'Per Domain Validation Accuracy'}, xlabel='domain'>"
      ]
     },
     "execution_count": 27,
     "metadata": {},
     "output_type": "execute_result"
    },
    {
     "data": {
      "image/png": "[encoded data removed]",
      "text/plain": [
       "<Figure size 1080x504 with 1 Axes>"
      ]
     },
     "metadata": {
      "needs_background": "light"
     },
     "output_type": "display_data"
    }
   ],
   "source": [
    "get_domain_accuracies(experiment)"
   ]
  },
  {
   "cell_type": "code",
   "execution_count": 28,
   "id": "a74ae082",
   "metadata": {
    "execution": {
     "iopub.execute_input": "2022-03-26T06:15:41.309828Z",
     "iopub.status.busy": "2022-03-26T06:15:41.306587Z",
     "iopub.status.idle": "2022-03-26T06:15:41.316402Z",
     "shell.execute_reply": "2022-03-26T06:15:41.316606Z"
    },
    "papermill": {
     "duration": 0.047258,
     "end_time": "2022-03-26T06:15:41.316677",
     "exception": false,
     "start_time": "2022-03-26T06:15:41.269419",
     "status": "completed"
    },
    "tags": []
   },
   "outputs": [
    {
     "name": "stdout",
     "output_type": "stream",
     "text": [
      "Source Test Label Accuracy: 0.539453125 Target Test Label Accuracy: 0.670189606741573\n",
      "Source Val Label Accuracy: 0.53857421875 Target Val Label Accuracy: 0.67175\n"
     ]
    }
   ],
   "source": [
    "print(\"Source Test Label Accuracy:\", experiment[\"results\"][\"source_test_label_accuracy\"], \"Target Test Label Accuracy:\", experiment[\"results\"][\"target_test_label_accuracy\"])\n",
    "print(\"Source Val Label Accuracy:\", experiment[\"results\"][\"source_val_label_accuracy\"], \"Target Val Label Accuracy:\", experiment[\"results\"][\"target_val_label_accuracy\"])"
   ]
  },
  {
   "cell_type": "code",
   "execution_count": 29,
   "id": "dacca602",
   "metadata": {
    "execution": {
     "iopub.execute_input": "2022-03-26T06:15:41.375988Z",
     "iopub.status.busy": "2022-03-26T06:15:41.375530Z",
     "iopub.status.idle": "2022-03-26T06:15:41.392843Z",
     "shell.execute_reply": "2022-03-26T06:15:41.392577Z"
    },
    "papermill": {
     "duration": 0.047819,
     "end_time": "2022-03-26T06:15:41.392901",
     "exception": false,
     "start_time": "2022-03-26T06:15:41.345082",
     "status": "completed"
    },
    "tags": [
     "experiment_json"
    ]
   },
   "outputs": [
    {
     "data": {
      "text/plain": [
       "'{\"experiment_name\": \"tl_3-filterv2:oracle.run1.framed -> cores\", \"parameters\": {\"experiment_name\": \"tl_3-filterv2:oracle.run1.framed -> cores\", \"device\": \"cuda\", \"lr\": 0.0001, \"x_shape\": [2, 200], \"n_shot\": 3, \"n_query\": 2, \"train_k_factor\": 3, \"val_k_factor\": 2, \"test_k_factor\": 2, \"torch_default_dtype\": \"torch.float32\", \"n_epoch\": 50, \"patience\": 3, \"criteria_for_best\": \"target_accuracy\", \"x_net\": [{\"class\": \"nnReshape\", \"kargs\": {\"shape\": [-1, 1, 2, 200]}}, {\"class\": \"Conv2d\", \"kargs\": {\"in_channels\": 1, \"out_channels\": 256, \"kernel_size\": [1, 7], \"bias\": false, \"padding\": [0, 3]}}, {\"class\": \"ReLU\", \"kargs\": {\"inplace\": true}}, {\"class\": \"BatchNorm2d\", \"kargs\": {\"num_features\": 256}}, {\"class\": \"Conv2d\", \"kargs\": {\"in_channels\": 256, \"out_channels\": 80, \"kernel_size\": [2, 7], \"bias\": true, \"padding\": [0, 3]}}, {\"class\": \"ReLU\", \"kargs\": {\"inplace\": true}}, {\"class\": \"BatchNorm2d\", \"kargs\": {\"num_features\": 80}}, {\"class\": \"Flatten\", \"kargs\": {}}, {\"class\": \"Linear\", \"kargs\": {\"in_features\": 16000, \"out_features\": 256}}, {\"class\": \"ReLU\", \"kargs\": {\"inplace\": true}}, {\"class\": \"BatchNorm1d\", \"kargs\": {\"num_features\": 256}}, {\"class\": \"Linear\", \"kargs\": {\"in_features\": 256, \"out_features\": 256}}], \"NUM_LOGS_PER_EPOCH\": 10, \"BEST_MODEL_PATH\": \"./best_model.pth\", \"n_way\": 16, \"datasets\": [{\"labels\": [\"1-10.\", \"1-11.\", \"1-15.\", \"1-16.\", \"1-17.\", \"1-18.\", \"1-19.\", \"10-4.\", \"10-7.\", \"11-1.\", \"11-14.\", \"11-17.\", \"11-20.\", \"11-7.\", \"13-20.\", \"13-8.\", \"14-10.\", \"14-11.\", \"14-14.\", \"14-7.\", \"15-1.\", \"15-20.\", \"16-1.\", \"16-16.\", \"17-10.\", \"17-11.\", \"17-2.\", \"19-1.\", \"19-16.\", \"19-19.\", \"19-20.\", \"19-3.\", \"2-10.\", \"2-11.\", \"2-17.\", \"2-18.\", \"2-20.\", \"2-3.\", \"2-4.\", \"2-5.\", \"2-6.\", \"2-7.\", \"2-8.\", \"3-13.\", \"3-18.\", \"3-3.\", \"4-1.\", \"4-10.\", \"4-11.\", \"4-19.\", \"5-5.\", \"6-15.\", \"7-10.\", \"7-14.\", \"8-18.\", \"8-20.\", \"8-3.\", \"8-8.\"], \"domains\": [1, 2, 3, 4, 5], \"num_examples_per_domain_per_label\": -1, \"pickle_path\": \"/mnt/wd500GB/CSC500/csc500-main/datasets/cores.stratified_ds.2022A.pkl\", \"source_or_target_dataset\": \"target\", \"x_transforms\": [\"lowpass_+/-10MHz\", \"take_200\"], \"episode_transforms\": [], \"domain_prefix\": \"C_\"}, {\"labels\": [\"3123D52\", \"3123D65\", \"3123D79\", \"3123D80\", \"3123D54\", \"3123D70\", \"3123D7B\", \"3123D89\", \"3123D58\", \"3123D76\", \"3123D7D\", \"3123EFE\", \"3123D64\", \"3123D78\", \"3123D7E\", \"3124E4A\"], \"domains\": [32, 38, 8, 44, 14, 50, 20, 26], \"num_examples_per_domain_per_label\": 2000, \"pickle_path\": \"/mnt/wd500GB/CSC500/csc500-main/datasets/oracle.Run1_framed_2000Examples_stratified_ds.2022A.pkl\", \"source_or_target_dataset\": \"source\", \"x_transforms\": [\"take_200\", \"resample_20Msps_to_25Msps\"], \"episode_transforms\": [], \"domain_prefix\": \"O_\"}], \"seed\": 500, \"dataset_seed\": 500, \"domains_source\": [\"O_32\", \"O_38\", \"O_8\", \"O_44\", \"O_14\", \"O_50\", \"O_20\", \"O_26\"], \"domains_target\": [\"C_1\", \"C_2\", \"C_3\", \"C_4\", \"C_5\"]}, \"results\": {\"source_test_label_accuracy\": 0.539453125, \"source_test_label_loss\": 511.7668151855469, \"target_test_label_accuracy\": 0.670189606741573, \"target_test_label_loss\": 8542.150390625, \"source_val_label_accuracy\": 0.53857421875, \"source_val_label_loss\": 512.8569946289062, \"target_val_label_accuracy\": 0.67175, \"target_val_label_loss\": 8707.5576171875, \"total_epochs_trained\": 5, \"total_experiment_time_secs\": 834.5403695106506, \"confusion\": {\"O_50\": {\"7\": {\"7\": 227, \"5\": 9, \"4\": 4}, \"10\": {\"10\": 232, \"8\": 4, \"0\": 4}, \"0\": {\"0\": 220, \"2\": 16, \"10\": 4}, \"11\": {\"11\": 217, \"12\": 5, \"15\": 10, \"9\": 8}, \"2\": {\"2\": 232, \"0\": 8}, \"14\": {\"14\": 240}, \"9\": {\"11\": 20, \"9\": 177, \"12\": 43}, \"13\": {\"13\": 236, \"1\": 4}, \"8\": {\"8\": 239, \"10\": 1}, \"15\": {\"15\": 222, \"6\": 15, \"11\": 3}, \"4\": {\"4\": 196, \"7\": 23, \"5\": 9, \"6\": 4, \"15\": 8}, \"5\": {\"4\": 11, \"7\": 70, \"5\": 112, \"15\": 2, \"1\": 7, \"13\": 6, \"6\": 32}, \"3\": {\"3\": 240}, \"1\": {\"1\": 238, \"13\": 2}, \"6\": {\"6\": 196, \"15\": 13, \"5\": 31}, \"12\": {\"12\": 221, \"11\": 5, \"9\": 14}}, \"O_14\": {\"14\": {\"3\": 29, \"14\": 28, \"0\": 17, \"2\": 35, \"8\": 26, \"10\": 11, \"5\": 15, \"6\": 25, \"13\": 28, \"15\": 5, \"4\": 10, \"7\": 9, \"1\": 2}, \"6\": {\"15\": 43, \"13\": 42, \"14\": 25, \"6\": 39, \"3\": 31, \"2\": 13, \"7\": 5, \"5\": 2, \"8\": 15, \"0\": 19, \"4\": 2, \"10\": 4}, \"5\": {\"10\": 23, \"5\": 38, \"8\": 7, \"13\": 16, \"2\": 25, \"14\": 18, \"4\": 55, \"0\": 8, \"6\": 13, \"7\": 21, \"3\": 8, \"1\": 8}, \"15\": {\"15\": 225, \"13\": 5, \"3\": 4, \"6\": 4, \"14\": 1, \"0\": 1}, \"11\": {\"1\": 33, \"11\": 200, \"9\": 5, \"10\": 2}, \"8\": {\"6\": 16, \"8\": 36, \"3\": 33, \"0\": 24, \"5\": 15, \"13\": 24, \"10\": 28, \"14\": 18, \"7\": 4, \"9\": 14, \"15\": 2, \"2\": 16, \"4\": 10}, \"12\": {\"12\": 148, \"8\": 8, \"3\": 10, \"9\": 27, \"0\": 18, \"15\": 14, \"10\": 3, \"6\": 6, \"13\": 5, \"5\": 1}, \"1\": {\"1\": 145, \"4\": 35, \"10\": 7, \"11\": 25, \"5\": 9, \"7\": 12, \"9\": 1, \"13\": 1, \"2\": 5}, \"2\": {\"13\": 15, \"10\": 21, \"0\": 5, \"14\": 24, \"5\": 28, \"4\": 42, \"6\": 20, \"8\": 12, \"2\": 28, \"15\": 7, \"7\": 15, \"3\": 17, \"1\": 6}, \"13\": {\"0\": 21, \"5\": 17, \"6\": 24, \"3\": 24, \"13\": 29, \"10\": 8, \"14\": 23, \"8\": 10, \"7\": 5, \"15\": 43, \"4\": 10, \"2\": 26}, \"3\": {\"15\": 46, \"3\": 37, \"8\": 24, \"6\": 29, \"13\": 26, \"2\": 6, \"0\": 30, \"10\": 1, \"14\": 28, \"7\": 4, \"5\": 7, \"4\": 2}, \"0\": {\"15\": 47, \"2\": 9, \"14\": 22, \"0\": 48, \"8\": 30, \"13\": 18, \"6\": 15, \"3\": 31, \"5\": 9, \"10\": 6, \"9\": 2, \"7\": 1, \"4\": 2}, \"9\": {\"9\": 117, \"0\": 14, \"8\": 20, \"4\": 9, \"2\": 3, \"6\": 1, \"10\": 34, \"1\": 16, \"12\": 14, \"14\": 5, \"5\": 3, \"3\": 2, \"11\": 2}, \"4\": {\"10\": 42, \"13\": 5, \"1\": 36, \"2\": 22, \"4\": 65, \"14\": 12, \"5\": 28, \"7\": 17, \"8\": 6, \"9\": 2, \"6\": 4, \"3\": 1}, \"7\": {\"4\": 60, \"7\": 50, \"5\": 33, \"14\": 13, \"2\": 31, \"6\": 17, \"8\": 3, \"0\": 1, \"13\": 11, \"10\": 9, \"3\": 10, \"1\": 2}, \"10\": {\"1\": 24, \"10\": 68, \"4\": 46, \"14\": 14, \"2\": 15, \"5\": 18, \"6\": 7, \"3\": 5, \"0\": 11, \"13\": 7, \"9\": 7, \"7\": 7, \"8\": 11}}, \"O_32\": {\"4\": {\"2\": 56, \"4\": 170, \"14\": 4, \"13\": 9, \"8\": 1}, \"14\": {\"14\": 125, \"7\": 49, \"0\": 5, \"4\": 23, \"2\": 5, \"8\": 10, \"5\": 16, \"13\": 7}, \"5\": {\"7\": 54, \"5\": 95, \"8\": 29, \"0\": 38, \"14\": 24}, \"10\": {\"6\": 50, \"10\": 59, \"12\": 93, \"1\": 37, \"9\": 1}, \"13\": {\"13\": 140, \"3\": 59, \"4\": 31, \"11\": 8, \"14\": 2}, \"9\": {\"9\": 229, \"12\": 6, \"2\": 4, \"4\": 1}, \"6\": {\"6\": 128, \"10\": 63, \"1\": 11, \"12\": 37, \"9\": 1}, \"3\": {\"13\": 51, \"3\": 184, \"11\": 5}, \"15\": {\"15\": 234, \"8\": 6}, \"7\": {\"7\": 137, \"0\": 47, \"5\": 29, \"8\": 5, \"14\": 22}, \"12\": {\"12\": 240}, \"8\": {\"5\": 31, \"8\": 141, \"4\": 13, \"0\": 27, \"7\": 16, \"14\": 11, \"2\": 1}, \"11\": {\"11\": 141, \"3\": 87, \"13\": 12}, \"2\": {\"2\": 176, \"14\": 3, \"0\": 19, \"4\": 38, \"7\": 3, \"8\": 1}, \"1\": {\"10\": 17, \"1\": 152, \"12\": 66, \"6\": 5}, \"0\": {\"0\": 176, \"7\": 39, \"5\": 12, \"14\": 3, \"8\": 10}}, \"O_44\": {\"8\": {\"0\": 67, \"8\": 154, \"15\": 8, \"5\": 11}, \"11\": {\"11\": 240}, \"14\": {\"14\": 181, \"4\": 42, \"5\": 6, \"15\": 11}, \"10\": {\"10\": 226, \"7\": 9, \"1\": 4, \"2\": 1}, \"3\": {\"3\": 208, \"1\": 12, \"12\": 20}, \"15\": {\"15\": 193, \"14\": 22, \"5\": 13, \"8\": 9, \"4\": 2, \"0\": 1}, \"2\": {\"2\": 231, \"1\": 8, \"10\": 1}, \"12\": {\"12\": 227, \"3\": 13}, \"4\": {\"14\": 84, \"4\": 144, \"15\": 10, \"9\": 1, \"5\": 1}, \"1\": {\"1\": 228, \"2\": 11, \"3\": 1}, \"0\": {\"0\": 196, \"8\": 41, \"15\": 3}, \"9\": {\"6\": 37, \"7\": 79, \"9\": 110, \"13\": 10, \"4\": 2, \"2\": 2}, \"5\": {\"5\": 200, \"14\": 18, \"15\": 17, \"8\": 4, \"4\": 1}, \"6\": {\"6\": 193, \"9\": 18, \"13\": 28, \"7\": 1}, \"7\": {\"9\": 36, \"7\": 202, \"10\": 2}, \"13\": {\"13\": 196, \"6\": 35, \"11\": 1, \"9\": 8}}, \"O_8\": {\"13\": {\"7\": 28, \"6\": 18, \"14\": 9, \"10\": 29, \"11\": 34, \"13\": 34, \"15\": 10, \"2\": 7, \"1\": 29, \"4\": 18, \"5\": 10, \"8\": 4, \"12\": 9, \"3\": 1}, \"3\": {\"3\": 119, \"2\": 59, \"15\": 37, \"9\": 10, \"12\": 15}, \"15\": {\"15\": 66, \"12\": 56, \"2\": 46, \"13\": 3, \"3\": 54, \"6\": 4, \"7\": 8, \"8\": 1, \"11\": 2}, \"4\": {\"10\": 13, \"13\": 19, \"14\": 65, \"4\": 49, \"7\": 16, \"6\": 21, \"11\": 20, \"1\": 16, \"8\": 12, \"0\": 5, \"5\": 3, \"15\": 1}, \"7\": {\"1\": 9, \"15\": 4, \"12\": 23, \"4\": 28, \"7\": 43, \"8\": 31, \"6\": 32, \"11\": 14, \"14\": 12, \"13\": 27, \"5\": 3, \"10\": 11, \"2\": 3}, \"2\": {\"12\": 47, \"3\": 67, \"2\": 53, \"15\": 59, \"13\": 5, \"7\": 7, \"9\": 1, \"6\": 1}, \"1\": {\"7\": 11, \"13\": 30, \"5\": 24, \"4\": 27, \"10\": 20, \"11\": 36, \"15\": 9, \"12\": 10, \"1\": 39, \"2\": 4, \"14\": 14, \"6\": 15, \"8\": 1}, \"0\": {\"14\": 33, \"0\": 186, \"1\": 1, \"4\": 13, \"8\": 4, \"11\": 3}, \"12\": {\"15\": 62, \"2\": 40, \"12\": 84, \"3\": 29, \"7\": 7, \"6\": 8, \"13\": 4, \"10\": 1, \"8\": 4, \"1\": 1}, \"6\": {\"1\": 17, \"11\": 16, \"7\": 32, \"12\": 15, \"6\": 42, \"10\": 13, \"15\": 5, \"13\": 25, \"14\": 22, \"8\": 20, \"2\": 3, \"4\": 29, \"5\": 1}, \"11\": {\"15\": 6, \"1\": 27, \"13\": 24, \"6\": 18, \"11\": 31, \"7\": 12, \"14\": 26, \"5\": 24, \"10\": 20, \"4\": 35, \"2\": 3, \"12\": 7, \"8\": 6, \"0\": 1}, \"9\": {\"9\": 235, \"3\": 4, \"2\": 1}, \"5\": {\"5\": 68, \"13\": 23, \"14\": 15, \"4\": 8, \"1\": 27, \"2\": 9, \"10\": 35, \"9\": 4, \"15\": 13, \"11\": 24, \"6\": 3, \"12\": 7, \"7\": 3, \"0\": 1}, \"10\": {\"1\": 34, \"11\": 30, \"10\": 36, \"7\": 10, \"14\": 22, \"13\": 35, \"5\": 29, \"15\": 12, \"4\": 12, \"6\": 11, \"2\": 1, \"12\": 8}, \"14\": {\"4\": 48, \"14\": 77, \"7\": 4, \"0\": 24, \"6\": 18, \"5\": 2, \"1\": 11, \"13\": 18, \"10\": 12, \"11\": 21, \"8\": 5}, \"8\": {\"6\": 33, \"7\": 42, \"0\": 4, \"11\": 10, \"4\": 42, \"8\": 64, \"15\": 4, \"13\": 12, \"12\": 11, \"14\": 13, \"10\": 4, \"1\": 1}}, \"O_20\": {\"6\": {\"7\": 25, \"11\": 17, \"8\": 17, \"10\": 54, \"6\": 40, \"2\": 16, \"14\": 19, \"12\": 9, \"5\": 1, \"4\": 19, \"9\": 11, \"3\": 3, \"13\": 8, \"1\": 1}, \"11\": {\"0\": 29, \"5\": 14, \"11\": 58, \"8\": 36, \"3\": 14, \"4\": 10, \"6\": 14, \"14\": 27, \"12\": 4, \"7\": 11, \"2\": 6, \"9\": 9, \"15\": 4, \"1\": 3, \"10\": 1}, \"5\": {\"0\": 44, \"15\": 25, \"8\": 15, \"13\": 17, \"11\": 27, \"5\": 18, \"12\": 18, \"3\": 15, \"14\": 6, \"2\": 11, \"1\": 23, \"4\": 10, \"7\": 5, \"9\": 6}, \"14\": {\"14\": 30, \"8\": 28, \"11\": 42, \"6\": 20, \"7\": 22, \"10\": 17, \"4\": 13, \"0\": 15, \"3\": 11, \"12\": 7, \"2\": 8, \"5\": 6, \"9\": 9, \"13\": 5, \"1\": 4, \"15\": 3}, \"2\": {\"10\": 22, \"1\": 10, \"14\": 11, \"9\": 12, \"11\": 14, \"7\": 24, \"2\": 26, \"13\": 30, \"3\": 8, \"5\": 6, \"12\": 24, \"4\": 19, \"6\": 10, \"15\": 6, \"8\": 16, \"0\": 2}, \"7\": {\"13\": 27, \"9\": 17, \"14\": 13, \"7\": 29, \"2\": 26, \"8\": 11, \"4\": 21, \"6\": 15, \"5\": 7, \"12\": 17, \"0\": 2, \"10\": 28, \"11\": 17, \"3\": 8, \"1\": 2}, \"3\": {\"11\": 28, \"8\": 18, \"12\": 23, \"14\": 7, \"15\": 14, \"5\": 26, \"13\": 3, \"9\": 16, \"0\": 33, \"2\": 11, \"3\": 26, \"7\": 12, \"4\": 11, \"1\": 8, \"10\": 4}, \"4\": {\"5\": 5, \"11\": 19, \"13\": 23, \"15\": 4, \"14\": 18, \"7\": 15, \"10\": 26, \"12\": 16, \"4\": 19, \"6\": 14, \"2\": 24, \"8\": 12, \"1\": 9, \"3\": 12, \"9\": 16, \"0\": 8}, \"9\": {\"8\": 13, \"0\": 8, \"9\": 18, \"1\": 10, \"4\": 15, \"13\": 16, \"2\": 21, \"5\": 14, \"11\": 21, \"3\": 22, \"12\": 27, \"14\": 11, \"6\": 5, \"15\": 12, \"7\": 18, \"10\": 9}, \"12\": {\"11\": 8, \"3\": 10, \"1\": 24, \"5\": 17, \"0\": 5, \"15\": 26, \"13\": 27, \"10\": 11, \"2\": 23, \"8\": 16, \"9\": 16, \"14\": 9, \"12\": 28, \"4\": 13, \"6\": 3, \"7\": 4}, \"0\": {\"1\": 22, \"0\": 105, \"15\": 16, \"5\": 25, \"8\": 16, \"11\": 22, \"3\": 15, \"14\": 1, \"2\": 5, \"7\": 1, \"12\": 6, \"9\": 3, \"13\": 2, \"4\": 1}, \"10\": {\"10\": 73, \"14\": 16, \"8\": 10, \"7\": 25, \"4\": 21, \"6\": 41, \"13\": 21, \"9\": 7, \"3\": 4, \"11\": 9, \"12\": 6, \"2\": 7}, \"8\": {\"9\": 12, \"0\": 28, \"6\": 10, \"11\": 36, \"8\": 23, \"14\": 19, \"4\": 14, \"3\": 29, \"15\": 3, \"7\": 16, \"2\": 11, \"13\": 3, \"12\": 13, \"10\": 8, \"1\": 5, \"5\": 10}, \"13\": {\"9\": 9, \"7\": 19, \"3\": 16, \"13\": 57, \"14\": 4, \"10\": 21, \"1\": 6, \"5\": 10, \"0\": 3, \"4\": 19, \"12\": 29, \"2\": 21, \"6\": 4, \"8\": 6, \"15\": 10, \"11\": 6}, \"1\": {\"0\": 28, \"3\": 17, \"7\": 13, \"14\": 3, \"15\": 17, \"12\": 28, \"9\": 17, \"5\": 34, \"13\": 13, \"11\": 10, \"1\": 25, \"8\": 13, \"2\": 12, \"4\": 7, \"6\": 1, \"10\": 2}, \"15\": {\"15\": 37, \"9\": 18, \"13\": 28, \"12\": 21, \"0\": 20, \"1\": 25, \"5\": 17, \"8\": 4, \"2\": 17, \"3\": 20, \"7\": 6, \"14\": 5, \"11\": 11, \"4\": 7, \"6\": 1, \"10\": 3}}, \"O_38\": {\"3\": {\"3\": 240}, \"8\": {\"8\": 131, \"5\": 73, \"7\": 21, \"15\": 13, \"0\": 1, \"13\": 1}, \"0\": {\"0\": 171, \"7\": 28, \"10\": 18, \"3\": 8, \"13\": 12, \"8\": 3}, \"2\": {\"14\": 22, \"2\": 218}, \"4\": {\"4\": 238, \"10\": 2}, \"7\": {\"7\": 233, \"0\": 2, \"8\": 5}, \"12\": {\"12\": 240}, \"6\": {\"6\": 239, \"1\": 1}, \"15\": {\"15\": 231, \"8\": 1, \"5\": 5, \"1\": 3}, \"11\": {\"11\": 231, \"3\": 7, \"10\": 2}, \"9\": {\"9\": 238, \"5\": 2}, \"14\": {\"14\": 221, \"2\": 19}, \"10\": {\"10\": 218, \"0\": 16, \"4\": 2, \"13\": 4}, \"5\": {\"5\": 135, \"8\": 67, \"7\": 14, \"9\": 16, \"15\": 6, \"10\": 1, \"0\": 1}, \"1\": {\"1\": 240}, \"13\": {\"10\": 11, \"13\": 225, \"2\": 1, \"0\": 3}}, \"O_26\": {\"5\": {\"5\": 52, \"0\": 15, \"6\": 44, \"15\": 35, \"14\": 28, \"1\": 41, \"9\": 1, \"7\": 1, \"10\": 16, \"8\": 4, \"2\": 1, \"11\": 1, \"12\": 1}, \"8\": {\"13\": 24, \"8\": 27, \"4\": 12, \"9\": 24, \"7\": 29, \"14\": 16, \"2\": 24, \"3\": 21, \"5\": 4, \"0\": 30, \"1\": 2, \"12\": 9, \"10\": 12, \"15\": 4, \"6\": 2}, \"4\": {\"3\": 41, \"4\": 97, \"7\": 23, \"13\": 39, \"2\": 8, \"9\": 13, \"8\": 11, \"10\": 1, \"0\": 4, \"12\": 2, \"14\": 1}, \"12\": {\"9\": 22, \"4\": 3, \"8\": 14, \"6\": 36, \"14\": 7, \"12\": 48, \"7\": 10, \"0\": 12, \"13\": 14, \"10\": 18, \"15\": 13, \"1\": 16, \"5\": 11, \"3\": 5, \"2\": 7, \"11\": 4}, \"6\": {\"6\": 75, \"5\": 36, \"15\": 20, \"1\": 66, \"8\": 1, \"0\": 6, \"11\": 9, \"12\": 3, \"10\": 12, \"14\": 11, \"2\": 1}, \"7\": {\"4\": 17, \"13\": 25, \"2\": 26, \"9\": 26, \"7\": 33, \"14\": 16, \"8\": 23, \"0\": 20, \"15\": 5, \"3\": 36, \"10\": 8, \"5\": 2, \"12\": 2, \"6\": 1}, \"10\": {\"15\": 31, \"5\": 29, \"1\": 41, \"6\": 36, \"12\": 2, \"0\": 22, \"14\": 31, \"10\": 31, \"9\": 5, \"2\": 3, \"8\": 7, \"7\": 1, \"13\": 1}, \"0\": {\"13\": 3, \"14\": 27, \"1\": 24, \"15\": 25, \"2\": 15, \"9\": 13, \"5\": 26, \"8\": 13, \"6\": 19, \"10\": 24, \"0\": 37, \"7\": 13, \"12\": 1}, \"15\": {\"15\": 41, \"5\": 30, \"1\": 47, \"0\": 22, \"10\": 23, \"6\": 34, \"14\": 28, \"8\": 4, \"7\": 2, \"2\": 5, \"12\": 1, \"11\": 1, \"9\": 2}, \"9\": {\"14\": 19, \"13\": 26, \"9\": 28, \"8\": 21, \"3\": 14, \"15\": 9, \"7\": 27, \"2\": 27, \"0\": 20, \"10\": 16, \"12\": 8, \"6\": 6, \"5\": 5, \"4\": 13, \"1\": 1}, \"11\": {\"5\": 6, \"11\": 165, \"6\": 28, \"15\": 9, \"1\": 24, \"0\": 2, \"10\": 3, \"12\": 3}, \"14\": {\"7\": 4, \"15\": 37, \"1\": 40, \"0\": 30, \"14\": 39, \"5\": 32, \"2\": 9, \"10\": 21, \"6\": 22, \"8\": 4, \"9\": 1, \"12\": 1}, \"2\": {\"4\": 6, \"15\": 7, \"9\": 45, \"3\": 24, \"8\": 20, \"1\": 2, \"7\": 21, \"2\": 27, \"14\": 14, \"0\": 29, \"13\": 20, \"10\": 15, \"5\": 5, \"12\": 5}, \"13\": {\"4\": 44, \"3\": 40, \"8\": 22, \"9\": 23, \"13\": 44, \"14\": 5, \"2\": 16, \"7\": 24, \"0\": 10, \"12\": 2, \"10\": 7, \"1\": 1, \"6\": 1, \"5\": 1}, \"3\": {\"9\": 24, \"2\": 21, \"4\": 66, \"7\": 22, \"8\": 17, \"13\": 37, \"14\": 4, \"3\": 32, \"0\": 9, \"10\": 6, \"15\": 1, \"5\": 1}, \"1\": {\"5\": 25, \"1\": 80, \"0\": 9, \"15\": 20, \"14\": 18, \"10\": 16, \"6\": 65, \"8\": 2, \"11\": 3, \"2\": 2}}, \"C_4\": {\"38\": {\"38\": 26, \"14\": 1, \"7\": 1, \"47\": 1, \"29\": 1, \"39\": 1, \"55\": 4, \"9\": 1, \"57\": 1, \"27\": 2, \"8\": 1}, \"3\": {\"3\": 72, \"50\": 13, \"6\": 12, \"12\": 3, \"5\": 13, \"22\": 4, \"45\": 6, \"46\": 1}, \"24\": {\"24\": 43, \"32\": 3, \"19\": 4, \"42\": 3, \"17\": 1, \"41\": 1, \"43\": 1}, \"49\": {\"43\": 8, \"37\": 1, \"38\": 1, \"49\": 4, \"33\": 1, \"32\": 1, \"27\": 2, \"54\": 2}, \"7\": {\"57\": 2, \"7\": 8, \"36\": 2, \"49\": 3, \"38\": 1, \"55\": 3, \"27\": 1, \"13\": 1, \"39\": 1, \"54\": 1, \"29\": 1}, \"17\": {\"17\": 65, \"32\": 4, \"33\": 1, \"41\": 6, \"23\": 1, \"43\": 2, \"24\": 1}, \"43\": {\"49\": 8, \"24\": 1, \"43\": 120, \"38\": 1, \"37\": 1, \"35\": 1, \"55\": 1, \"54\": 8, \"51\": 1, \"33\": 2, \"26\": 1, \"17\": 2, \"13\": 1}, \"30\": {\"30\": 36, \"46\": 1, \"3\": 1, \"40\": 1, \"12\": 1, \"50\": 1, \"6\": 1, \"5\": 1, \"22\": 1}, \"44\": {\"44\": 53, \"30\": 3, \"40\": 8, \"12\": 6, \"21\": 1, \"3\": 9, \"46\": 11, \"22\": 6, \"50\": 8, \"5\": 5, \"0\": 4, \"45\": 5, \"48\": 1, \"6\": 5, \"4\": 1, \"56\": 6}, \"23\": {\"23\": 102, \"10\": 5, \"15\": 4, \"34\": 3, \"19\": 14, \"17\": 2, \"53\": 8, \"43\": 2, \"11\": 1, \"24\": 2, \"25\": 1}, \"37\": {\"4\": 2, \"37\": 19, \"20\": 1, \"27\": 2}, \"4\": {\"20\": 2, \"4\": 41, \"22\": 2, \"48\": 11, \"8\": 8, \"9\": 3, \"1\": 6, \"12\": 1, \"39\": 2, \"40\": 3, \"52\": 3, \"0\": 3, \"13\": 5, \"47\": 9, \"56\": 9, \"57\": 8, \"44\": 3, \"29\": 10, \"30\": 1, \"2\": 1, \"46\": 1}, \"57\": {\"57\": 40, \"38\": 3, \"52\": 7, \"27\": 3, \"48\": 6, \"47\": 6, \"8\": 4, \"29\": 11, \"55\": 3, \"13\": 6, \"9\": 3, \"20\": 1, \"1\": 3, \"39\": 1, \"7\": 1, \"2\": 1, \"4\": 1}, \"16\": {\"16\": 82, \"10\": 1, \"11\": 9, \"28\": 1, \"43\": 1, \"15\": 2}, \"18\": {\"18\": 104, \"43\": 1, \"11\": 1, \"51\": 1, \"27\": 1}, \"20\": {\"20\": 87, \"39\": 1, \"52\": 10, \"21\": 5, \"48\": 11, \"47\": 3, \"4\": 1, \"9\": 6}, \"45\": {\"45\": 34, \"5\": 11, \"50\": 12, \"3\": 8, \"12\": 4, \"44\": 4, \"22\": 10, \"40\": 3, \"6\": 6, \"46\": 4}, \"15\": {\"15\": 91, \"16\": 8, \"24\": 1, \"17\": 2, \"11\": 10, \"19\": 1, \"23\": 3, \"25\": 3, \"10\": 6, \"28\": 2, \"34\": 1, \"33\": 1, \"43\": 1, \"53\": 1, \"55\": 1}, \"52\": {\"52\": 50, \"0\": 5, \"20\": 5, \"1\": 4, \"9\": 9, \"39\": 2, \"12\": 2, \"47\": 4, \"40\": 7, \"30\": 3, \"21\": 3, \"48\": 14, \"46\": 3, \"29\": 2, \"4\": 1, \"57\": 1, \"56\": 1}, \"19\": {\"17\": 3, \"19\": 86, \"36\": 3, \"42\": 3, \"41\": 1, \"53\": 7, \"23\": 19, \"27\": 2, \"43\": 2, \"51\": 3, \"55\": 1, \"15\": 1, \"26\": 2, \"24\": 1, \"38\": 1, \"10\": 2, \"8\": 2, \"16\": 1}, \"54\": {\"54\": 89, \"49\": 1, \"57\": 1, \"17\": 1, \"35\": 1, \"51\": 5, \"36\": 3, \"27\": 3, \"43\": 3, \"33\": 1}, \"56\": {\"0\": 10, \"56\": 93, \"40\": 11, \"47\": 2, \"50\": 1, \"44\": 4, \"48\": 2, \"1\": 1, \"46\": 3, \"22\": 1, \"5\": 2}, \"40\": {\"40\": 76, \"48\": 4, \"22\": 1, \"0\": 11, \"52\": 1, \"56\": 15, \"45\": 1, \"21\": 7, \"46\": 5, \"44\": 3, \"50\": 4, \"39\": 1, \"6\": 1, \"4\": 1, \"3\": 3}, \"28\": {\"15\": 3, \"31\": 1, \"10\": 2, \"11\": 3, \"28\": 11, \"42\": 3, \"23\": 4, \"17\": 1, \"16\": 4}, \"2\": {\"2\": 22, \"48\": 1, \"47\": 1, \"29\": 3, \"39\": 2, \"4\": 4, \"14\": 1, \"1\": 1, \"57\": 1}, \"9\": {\"9\": 66, \"52\": 5, \"8\": 9, \"47\": 2, \"13\": 2, \"20\": 7, \"48\": 15, \"4\": 7, \"29\": 3, \"57\": 3, \"39\": 1}, \"0\": {\"0\": 50, \"52\": 7, \"40\": 2, \"56\": 5, \"5\": 1, \"47\": 3, \"48\": 2, \"4\": 3, \"44\": 1, \"30\": 1, \"22\": 1, \"46\": 4}, \"36\": {\"36\": 80, \"27\": 4, \"55\": 2, \"43\": 1, \"39\": 1, \"29\": 1, \"19\": 1, \"8\": 1, \"54\": 1}, \"55\": {\"38\": 3, \"35\": 3, \"55\": 76, \"36\": 6, \"14\": 2, \"54\": 6, \"57\": 3, \"13\": 4, \"27\": 11, \"51\": 3, \"8\": 4, \"43\": 1, \"4\": 1, \"7\": 1, \"33\": 2, \"17\": 1, \"29\": 3}, \"35\": {\"55\": 6, \"43\": 7, \"36\": 3, \"35\": 16, \"54\": 2, \"13\": 1, \"7\": 2, \"27\": 2, \"19\": 1}, \"39\": {\"39\": 8, \"0\": 2, \"52\": 3, \"13\": 2, \"4\": 3, \"56\": 2}, \"31\": {\"31\": 27, \"51\": 1}, \"14\": {\"38\": 3, \"14\": 7, \"7\": 1, \"27\": 1, \"13\": 1, \"47\": 1, \"2\": 2}, \"12\": {\"12\": 75, \"0\": 1, \"22\": 4, \"45\": 3, \"30\": 4, \"4\": 1, \"5\": 1, \"50\": 1, \"3\": 2}, \"6\": {\"6\": 96, \"50\": 7, \"5\": 3, \"3\": 5, \"45\": 1}, \"26\": {\"57\": 2, \"26\": 14, \"36\": 1, \"27\": 1, \"32\": 1, \"54\": 1, \"55\": 1, \"7\": 1, \"43\": 1, \"38\": 1}, \"50\": {\"50\": 78, \"3\": 18, \"45\": 8, \"6\": 14, \"5\": 10, \"40\": 1, \"46\": 1, \"12\": 1, \"44\": 1}, \"21\": {\"21\": 114, \"30\": 2, \"52\": 1, \"46\": 2, \"45\": 1, \"48\": 1, \"20\": 1}, \"46\": {\"46\": 80, \"52\": 1, \"3\": 5, \"0\": 7, \"40\": 14, \"5\": 8, \"22\": 8, \"56\": 6, \"45\": 1, \"21\": 2, \"44\": 1, \"6\": 2, \"12\": 4, \"50\": 1}, \"51\": {\"57\": 2, \"51\": 113, \"36\": 4, \"8\": 6, \"37\": 2, \"27\": 7, \"54\": 4, \"29\": 1, \"44\": 1}, \"41\": {\"41\": 20, \"32\": 5, \"26\": 2, \"42\": 1, \"17\": 4, \"55\": 2, \"24\": 1, \"43\": 1}, \"34\": {\"34\": 14, \"28\": 2, \"23\": 1, \"10\": 2, \"11\": 1, \"42\": 4}, \"47\": {\"47\": 52, \"46\": 1, \"1\": 4, \"52\": 7, \"9\": 4, \"57\": 8, \"20\": 4, \"4\": 16, \"48\": 8, \"29\": 4, \"0\": 2, \"22\": 2, \"56\": 5, \"21\": 1, \"12\": 1, \"50\": 1}, \"5\": {\"5\": 53, \"3\": 9, \"50\": 11, \"30\": 3, \"40\": 2, \"22\": 6, \"6\": 6, \"46\": 6, \"0\": 1, \"45\": 7, \"44\": 3, \"12\": 1}, \"1\": {\"47\": 12, \"1\": 12, \"29\": 1, \"48\": 1, \"2\": 1, \"30\": 1, \"52\": 1, \"4\": 3, \"44\": 1, \"0\": 2, \"57\": 2, \"56\": 2, \"40\": 1}, \"48\": {\"48\": 68, \"4\": 11, \"9\": 5, \"1\": 3, \"40\": 4, \"20\": 7, \"52\": 13, \"0\": 3, \"56\": 4, \"29\": 3, \"47\": 6, \"12\": 2, \"44\": 1, \"46\": 1, \"13\": 2, \"45\": 1}, \"29\": {\"29\": 69, \"8\": 6, \"1\": 1, \"2\": 3, \"47\": 1, \"4\": 2, \"13\": 10, \"20\": 2, \"57\": 16, \"46\": 1, \"48\": 2, \"9\": 1, \"7\": 1, \"44\": 2, \"0\": 1}, \"22\": {\"3\": 10, \"22\": 95, \"6\": 5, \"5\": 3, \"30\": 1, \"45\": 3, \"50\": 2, \"40\": 2, \"44\": 2, \"46\": 4, \"12\": 1}, \"10\": {\"10\": 125, \"34\": 1, \"23\": 2, \"15\": 1, \"19\": 2, \"11\": 1}, \"32\": {\"41\": 3, \"24\": 2, \"32\": 12, \"33\": 2, \"49\": 1, \"55\": 1, \"17\": 2, \"51\": 1}, \"13\": {\"13\": 97, \"57\": 8, \"47\": 1, \"29\": 4, \"20\": 1, \"9\": 1}, \"42\": {\"42\": 15, \"32\": 1, \"28\": 2, \"19\": 3, \"15\": 1, \"24\": 3, \"23\": 2, \"41\": 1, \"17\": 1, \"34\": 2, \"26\": 1}, \"27\": {\"27\": 98, \"33\": 2, \"54\": 6, \"55\": 5, \"8\": 10, \"36\": 2, \"51\": 9, \"29\": 2, \"13\": 1, \"4\": 2, \"57\": 1}, \"8\": {\"8\": 122, \"36\": 2, \"9\": 6, \"20\": 5, \"4\": 2, \"57\": 1, \"27\": 2, \"29\": 1, \"52\": 1}, \"33\": {\"41\": 1, \"33\": 32, \"54\": 1, \"36\": 1, \"31\": 1}, \"25\": {\"25\": 129, \"15\": 2, \"53\": 1}, \"11\": {\"23\": 2, \"11\": 71, \"28\": 1, \"15\": 11, \"16\": 14, \"10\": 4, \"53\": 1}, \"53\": {\"53\": 103, \"34\": 1, \"4\": 1, \"23\": 6, \"19\": 1}}, \"C_2\": {\"32\": {\"32\": 16, \"20\": 2, \"7\": 1, \"29\": 1, \"8\": 1, \"38\": 1, \"33\": 1, \"41\": 1, \"27\": 2, \"39\": 1, \"57\": 1}, \"17\": {\"17\": 97, \"42\": 1, \"26\": 1, \"8\": 1, \"24\": 1, \"43\": 1, \"49\": 1, \"37\": 1}, \"38\": {\"29\": 1, \"38\": 15, \"57\": 1, \"41\": 2, \"32\": 1}, \"2\": {\"2\": 27, \"14\": 1, \"36\": 3, \"57\": 1}, \"43\": {\"43\": 114, \"35\": 2, \"42\": 3, \"54\": 4, \"24\": 8, \"23\": 1, \"17\": 7, \"51\": 2, \"33\": 1, \"34\": 1, \"31\": 1}, \"56\": {\"0\": 3, \"56\": 101, \"14\": 1, \"5\": 2, \"1\": 13, \"50\": 3, \"22\": 4, \"47\": 6, \"44\": 2, \"4\": 1, \"12\": 3, \"46\": 2, \"21\": 1, \"3\": 1, \"30\": 1}, \"37\": {\"37\": 35, \"57\": 1}, \"49\": {\"49\": 12, \"37\": 1, \"54\": 1, \"42\": 2, \"17\": 3, \"13\": 1, \"34\": 4}, \"0\": {\"0\": 17, \"21\": 3, \"22\": 3, \"48\": 4, \"4\": 3, \"47\": 3, \"1\": 8, \"50\": 2, \"40\": 3, \"52\": 1, \"30\": 1}, \"29\": {\"32\": 4, \"38\": 2, \"40\": 1, \"29\": 67, \"13\": 11, \"52\": 1, \"33\": 2, \"21\": 1, \"8\": 5, \"50\": 1, \"46\": 2, \"9\": 8, \"20\": 1, \"55\": 2, \"36\": 1, \"57\": 11, \"7\": 3, \"2\": 2, \"1\": 1, \"27\": 1, \"44\": 1}, \"35\": {\"35\": 21, \"43\": 3, \"17\": 1, \"55\": 2, \"7\": 2, \"31\": 3}, \"18\": {\"18\": 47, \"23\": 1}, \"25\": {\"25\": 111, \"11\": 8, \"15\": 6, \"19\": 4, \"16\": 5, \"53\": 2}, \"23\": {\"15\": 3, \"23\": 99, \"28\": 2, \"24\": 4, \"34\": 1, \"9\": 1, \"10\": 2, \"19\": 6, \"53\": 3, \"17\": 1, \"11\": 1, \"43\": 1}, \"15\": {\"15\": 104, \"28\": 2, \"11\": 17, \"16\": 8, \"10\": 3, \"19\": 7, \"23\": 2, \"24\": 1, \"53\": 1, \"25\": 1}, \"21\": {\"21\": 99, \"52\": 1, \"46\": 3, \"5\": 3, \"44\": 1, \"50\": 7, \"12\": 1, \"3\": 3, \"30\": 2}, \"51\": {\"51\": 103, \"32\": 3, \"35\": 1, \"27\": 9, \"52\": 1, \"8\": 4, \"13\": 1, \"40\": 1, \"57\": 1, \"54\": 1, \"55\": 2, \"36\": 1}, \"20\": {\"20\": 116, \"44\": 1, \"9\": 3, \"8\": 7, \"52\": 1, \"4\": 4, \"48\": 4, \"30\": 1, \"45\": 1}, \"7\": {\"55\": 5, \"7\": 18, \"33\": 1, \"29\": 3, \"35\": 3, \"27\": 2, \"13\": 3, \"39\": 1}, \"50\": {\"50\": 80, \"21\": 13, \"46\": 7, \"6\": 10, \"3\": 6, \"5\": 7, \"12\": 3, \"40\": 1, \"45\": 6, \"4\": 1, \"44\": 2}, \"31\": {\"31\": 27, \"55\": 1}, \"30\": {\"30\": 64, \"52\": 14, \"40\": 14, \"0\": 1, \"1\": 4, \"50\": 2, \"48\": 7, \"21\": 9, \"47\": 7, \"4\": 7, \"56\": 2, \"22\": 6, \"12\": 1, \"2\": 1, \"46\": 1}, \"19\": {\"19\": 99, \"42\": 1, \"55\": 4, \"10\": 9, \"28\": 2, \"24\": 5, \"23\": 12, \"11\": 3, \"17\": 2, \"53\": 5, \"15\": 3, \"36\": 3, \"7\": 1, \"34\": 2, \"35\": 1, \"27\": 1, \"43\": 3}, \"9\": {\"20\": 5, \"9\": 116, \"48\": 2, \"57\": 16, \"8\": 1, \"1\": 1, \"29\": 3}, \"52\": {\"30\": 13, \"48\": 15, \"1\": 7, \"52\": 59, \"40\": 7, \"41\": 2, \"47\": 4, \"0\": 1, \"4\": 5, \"20\": 1, \"57\": 1, \"21\": 4, \"50\": 1, \"22\": 3, \"44\": 1}, \"45\": {\"50\": 6, \"45\": 76, \"44\": 6, \"6\": 18, \"46\": 3, \"5\": 4, \"3\": 9, \"12\": 6}, \"8\": {\"20\": 9, \"8\": 126, \"1\": 1, \"57\": 3, \"13\": 2, \"9\": 5, \"27\": 4, \"4\": 1, \"36\": 1, \"47\": 1, \"51\": 1}, \"55\": {\"9\": 9, \"31\": 2, \"55\": 81, \"39\": 2, \"41\": 1, \"2\": 3, \"51\": 4, \"36\": 8, \"27\": 8, \"57\": 10, \"7\": 3, \"29\": 7, \"20\": 3, \"13\": 11, \"35\": 3, \"38\": 1, \"4\": 2, \"47\": 1, \"56\": 1}, \"12\": {\"50\": 3, \"12\": 75, \"46\": 6, \"3\": 3, \"5\": 1, \"6\": 3, \"45\": 1}, \"40\": {\"40\": 80, \"30\": 17, \"52\": 12, \"48\": 5, \"56\": 2, \"46\": 1, \"4\": 5, \"20\": 1, \"21\": 1, \"45\": 1, \"44\": 2, \"6\": 3, \"55\": 1, \"22\": 3, \"47\": 1, \"0\": 2, \"13\": 1, \"29\": 1, \"5\": 1}, \"28\": {\"28\": 27, \"34\": 1}, \"36\": {\"36\": 115, \"55\": 1}, \"39\": {\"36\": 1, \"14\": 1, \"55\": 2, \"39\": 13, \"37\": 1, \"48\": 2, \"29\": 1, \"57\": 1, \"13\": 2, \"32\": 1, \"51\": 1, \"1\": 1, \"9\": 1}, \"46\": {\"50\": 16, \"12\": 7, \"46\": 62, \"6\": 8, \"3\": 13, \"44\": 3, \"45\": 5, \"5\": 3, \"21\": 5}, \"14\": {\"2\": 4, \"56\": 2, \"14\": 8, \"48\": 2, \"33\": 1, \"57\": 1, \"0\": 2, \"29\": 1, \"47\": 2, \"1\": 1}, \"57\": {\"29\": 20, \"38\": 2, \"55\": 5, \"9\": 11, \"57\": 47, \"33\": 1, \"2\": 1, \"4\": 6, \"48\": 9, \"13\": 10, \"56\": 6, \"1\": 4, \"30\": 5, \"27\": 3, \"47\": 4, \"14\": 1, \"7\": 1, \"39\": 1, \"52\": 4, \"8\": 1}, \"34\": {\"34\": 12, \"53\": 2, \"23\": 1, \"49\": 1, \"24\": 3, \"10\": 4, \"15\": 2, \"28\": 1, \"19\": 1, \"11\": 1}, \"1\": {\"48\": 13, \"1\": 45, \"14\": 1, \"3\": 2, \"4\": 9, \"56\": 13, \"52\": 2, \"0\": 2, \"22\": 8, \"47\": 9, \"57\": 1, \"29\": 1, \"40\": 4, \"46\": 1, \"44\": 1}, \"53\": {\"53\": 129, \"34\": 1, \"23\": 3, \"43\": 2, \"24\": 1}, \"48\": {\"48\": 70, \"1\": 8, \"40\": 3, \"52\": 7, \"4\": 14, \"30\": 8, \"50\": 2, \"47\": 10, \"22\": 5, \"0\": 2, \"21\": 1}, \"3\": {\"3\": 40, \"45\": 7, \"6\": 11, \"50\": 3, \"46\": 13, \"5\": 12, \"12\": 4, \"21\": 1, \"44\": 1}, \"16\": {\"16\": 128, \"11\": 8, \"10\": 1, \"19\": 1, \"15\": 11, \"25\": 2, \"13\": 1}, \"6\": {\"6\": 97, \"45\": 7, \"3\": 11, \"46\": 2, \"5\": 6, \"12\": 1}, \"10\": {\"10\": 107, \"28\": 1, \"19\": 2, \"23\": 2}, \"13\": {\"13\": 90, \"33\": 1, \"9\": 2, \"36\": 3, \"29\": 1, \"27\": 6, \"57\": 4, \"55\": 5, \"7\": 1, \"32\": 1, \"2\": 1, \"8\": 1}, \"26\": {\"26\": 22, \"25\": 1, \"17\": 1}, \"24\": {\"24\": 84, \"42\": 3, \"57\": 1, \"43\": 4, \"34\": 2, \"36\": 1, \"53\": 1}, \"44\": {\"22\": 4, \"45\": 8, \"6\": 4, \"44\": 47, \"21\": 6, \"50\": 4, \"5\": 8, \"46\": 11, \"3\": 3, \"12\": 2, \"40\": 2, \"30\": 1}, \"27\": {\"27\": 131, \"33\": 2, \"13\": 5, \"8\": 3, \"29\": 3, \"57\": 2, \"32\": 1, \"7\": 1, \"55\": 2}, \"22\": {\"22\": 72, \"12\": 3, \"30\": 3, \"48\": 2, \"44\": 3, \"0\": 7, \"5\": 3, \"46\": 1, \"56\": 11, \"4\": 8, \"52\": 3, \"40\": 4, \"47\": 3, \"3\": 1, \"1\": 1, \"45\": 3}, \"33\": {\"35\": 2, \"32\": 1, \"33\": 17, \"27\": 1, \"14\": 1, \"8\": 1, \"57\": 1, \"29\": 1, \"7\": 1, \"49\": 1, \"9\": 1}, \"47\": {\"0\": 3, \"52\": 5, \"47\": 55, \"30\": 7, \"56\": 6, \"22\": 3, \"4\": 8, \"46\": 1, \"1\": 6, \"40\": 5, \"57\": 3, \"48\": 12, \"9\": 2, \"2\": 1, \"14\": 1}, \"5\": {\"5\": 48, \"50\": 10, \"3\": 6, \"46\": 7, \"21\": 4, \"44\": 6, \"12\": 8, \"22\": 6, \"6\": 16, \"45\": 6, \"30\": 1, \"40\": 2}, \"4\": {\"0\": 2, \"4\": 26, \"9\": 17, \"20\": 13, \"52\": 6, \"1\": 6, \"56\": 8, \"48\": 9, \"8\": 1, \"22\": 15, \"46\": 2, \"57\": 9, \"6\": 2, \"47\": 3, \"50\": 1, \"40\": 3, \"3\": 2, \"41\": 2, \"38\": 1, \"5\": 2, \"30\": 6, \"21\": 1, \"45\": 1}, \"41\": {\"41\": 20}, \"11\": {\"11\": 112, \"34\": 1, \"15\": 22, \"16\": 6, \"10\": 4, \"19\": 4, \"23\": 1}, \"54\": {\"54\": 87, \"35\": 3, \"27\": 2, \"17\": 4, \"43\": 3, \"51\": 3, \"24\": 1, \"42\": 1, \"31\": 2, \"57\": 1, \"8\": 1}, \"42\": {\"42\": 30, \"17\": 1, \"24\": 2, \"54\": 1, \"43\": 1, \"57\": 1}}, \"C_3\": {\"5\": {\"5\": 47, \"12\": 5, \"4\": 1, \"50\": 6, \"22\": 10, \"44\": 3, \"21\": 8, \"3\": 10, \"6\": 3, \"46\": 17, \"45\": 3, \"30\": 2, \"40\": 1}, \"32\": {\"32\": 15, \"13\": 3, \"9\": 2, \"27\": 4, \"29\": 1, \"55\": 1, \"49\": 1, \"26\": 1}, \"33\": {\"33\": 24, \"38\": 1, \"29\": 1, \"30\": 1, \"20\": 1}, \"49\": {\"17\": 2, \"35\": 1, \"43\": 3, \"7\": 1, \"42\": 1, \"32\": 1, \"49\": 6, \"55\": 1, \"13\": 2, \"26\": 2}, \"39\": {\"39\": 13, \"9\": 1, \"40\": 1, \"56\": 1}, \"11\": {\"11\": 103, \"53\": 1, \"15\": 21, \"19\": 5, \"16\": 7, \"10\": 2, \"25\": 2, \"23\": 1}, \"8\": {\"8\": 95, \"32\": 2, \"33\": 1, \"20\": 5, \"2\": 1, \"9\": 2, \"57\": 3, \"21\": 1, \"27\": 4, \"30\": 1, \"13\": 1}, \"26\": {\"49\": 1, \"17\": 1, \"33\": 1, \"38\": 1, \"26\": 13, \"43\": 2, \"27\": 1, \"34\": 1, \"24\": 2, \"8\": 1}, \"51\": {\"51\": 112, \"55\": 1, \"54\": 3, \"35\": 1, \"8\": 4, \"27\": 1}, \"4\": {\"47\": 9, \"5\": 3, \"1\": 8, \"7\": 5, \"0\": 8, \"3\": 2, \"14\": 4, \"4\": 26, \"9\": 23, \"56\": 5, \"57\": 7, \"46\": 4, \"27\": 4, \"40\": 1, \"52\": 4, \"21\": 2, \"20\": 9, \"30\": 9, \"48\": 5, \"50\": 1, \"22\": 2, \"41\": 1, \"29\": 3, \"12\": 1}, \"52\": {\"39\": 2, \"40\": 14, \"30\": 5, \"52\": 50, \"47\": 4, \"0\": 4, \"48\": 7, \"20\": 13, \"4\": 6, \"1\": 4, \"46\": 3, \"56\": 1, \"9\": 3, \"21\": 1, \"22\": 1}, \"47\": {\"47\": 37, \"4\": 7, \"48\": 9, \"0\": 11, \"5\": 2, \"41\": 1, \"1\": 3, \"46\": 1, \"56\": 5, \"22\": 2, \"50\": 1, \"52\": 4, \"3\": 2, \"30\": 4, \"12\": 1, \"20\": 1, \"29\": 1}, \"17\": {\"26\": 2, \"17\": 93, \"51\": 1, \"43\": 6, \"54\": 3, \"37\": 1, \"24\": 1, \"57\": 1}, \"53\": {\"53\": 134, \"23\": 1, \"19\": 1}, \"2\": {\"2\": 26, \"33\": 1, \"27\": 1, \"20\": 1, \"13\": 1, \"1\": 2}, \"12\": {\"12\": 56, \"5\": 2, \"50\": 8, \"45\": 2, \"3\": 13, \"46\": 5, \"21\": 2, \"6\": 4}, \"37\": {\"37\": 28}, \"9\": {\"9\": 99, \"48\": 2, \"29\": 6, \"7\": 1, \"4\": 6, \"14\": 1, \"57\": 13, \"21\": 1, \"1\": 4, \"56\": 2, \"27\": 6, \"0\": 3, \"20\": 3, \"52\": 1}, \"13\": {\"8\": 3, \"32\": 1, \"13\": 94, \"7\": 2, \"36\": 4, \"57\": 3, \"27\": 6, \"29\": 7, \"4\": 1, \"9\": 3, \"35\": 1, \"55\": 2, \"52\": 1}, \"54\": {\"13\": 3, \"54\": 68, \"42\": 3, \"34\": 3, \"51\": 8, \"17\": 7, \"43\": 4, \"53\": 1, \"19\": 1, \"57\": 1, \"55\": 1}, \"31\": {\"31\": 27, \"42\": 1}, \"34\": {\"34\": 14, \"13\": 1, \"43\": 2, \"42\": 5, \"27\": 1, \"55\": 1, \"51\": 1, \"17\": 1, \"26\": 1, \"49\": 1, \"24\": 1, \"54\": 3}, \"24\": {\"24\": 95, \"34\": 1, \"43\": 5, \"17\": 1, \"23\": 2}, \"7\": {\"7\": 15, \"32\": 2, \"48\": 2, \"1\": 3, \"9\": 3, \"14\": 2, \"57\": 1, \"0\": 3, \"13\": 1, \"55\": 2, \"4\": 2}, \"50\": {\"50\": 63, \"45\": 4, \"44\": 3, \"5\": 6, \"56\": 1, \"21\": 6, \"3\": 16, \"12\": 7, \"46\": 9, \"6\": 3}, \"46\": {\"50\": 11, \"46\": 57, \"3\": 18, \"5\": 11, \"21\": 12, \"44\": 4, \"12\": 5, \"40\": 2, \"22\": 5, \"6\": 2, \"45\": 1}, \"44\": {\"50\": 7, \"46\": 7, \"3\": 9, \"45\": 5, \"44\": 36, \"30\": 1, \"5\": 5, \"6\": 5, \"22\": 6, \"21\": 5, \"56\": 1, \"0\": 1}, \"40\": {\"40\": 58, \"44\": 1, \"39\": 1, \"5\": 1, \"20\": 2, \"45\": 2, \"22\": 3, \"56\": 2, \"0\": 10, \"48\": 10, \"4\": 4, \"52\": 12, \"30\": 5, \"46\": 2, \"50\": 1, \"41\": 1, \"47\": 1}, \"21\": {\"21\": 94, \"50\": 6, \"12\": 4, \"3\": 10, \"46\": 8, \"5\": 3, \"44\": 1, \"45\": 1, \"6\": 1}, \"45\": {\"45\": 36, \"21\": 4, \"12\": 4, \"3\": 2, \"6\": 7, \"50\": 2, \"5\": 2, \"46\": 2, \"44\": 1}, \"16\": {\"16\": 95, \"15\": 11, \"53\": 2, \"19\": 1, \"11\": 14, \"25\": 2, \"10\": 1}, \"14\": {\"48\": 1, \"7\": 6, \"14\": 14, \"1\": 2, \"4\": 1, \"38\": 1, \"13\": 1, \"57\": 3, \"41\": 2, \"47\": 4, \"27\": 2, \"56\": 1, \"29\": 2}, \"36\": {\"36\": 98, \"13\": 1, \"55\": 1}, \"56\": {\"56\": 85, \"48\": 2, \"0\": 8, \"4\": 3, \"22\": 6, \"40\": 3, \"1\": 1, \"46\": 1, \"47\": 3, \"5\": 1, \"21\": 1}, \"10\": {\"10\": 61, \"28\": 3}, \"18\": {\"18\": 84}, \"48\": {\"48\": 29, \"41\": 3, \"39\": 2, \"4\": 17, \"56\": 6, \"22\": 3, \"40\": 3, \"0\": 11, \"52\": 10, \"46\": 2, \"1\": 6, \"20\": 11, \"47\": 4, \"30\": 8, \"57\": 1}, \"38\": {\"38\": 25, \"27\": 2, \"0\": 1}, \"27\": {\"27\": 83, \"7\": 2, \"3\": 1, \"32\": 3, \"8\": 9, \"29\": 6, \"13\": 7, \"50\": 1, \"57\": 11, \"9\": 5, \"14\": 1, \"44\": 1}, \"42\": {\"42\": 23, \"26\": 1, \"49\": 1, \"43\": 2, \"54\": 1}, \"15\": {\"15\": 80, \"19\": 6, \"11\": 27, \"51\": 1, \"16\": 9, \"10\": 4, \"24\": 1, \"26\": 1, \"18\": 1, \"53\": 1, \"54\": 1, \"55\": 1, \"25\": 1}, \"1\": {\"1\": 42, \"0\": 5, \"14\": 2, \"47\": 6, \"57\": 1, \"4\": 12, \"21\": 1, \"56\": 3, \"20\": 5, \"48\": 8, \"52\": 4, \"30\": 5, \"50\": 1, \"9\": 1, \"41\": 3, \"22\": 1}, \"28\": {\"24\": 3, \"28\": 12, \"15\": 1, \"23\": 1, \"54\": 1, \"10\": 9, \"19\": 1}, \"43\": {\"43\": 99, \"42\": 2, \"49\": 1, \"26\": 3, \"23\": 2, \"24\": 10, \"34\": 2, \"17\": 11, \"54\": 2, \"13\": 1, \"31\": 1, \"19\": 1, \"51\": 1}, \"0\": {\"1\": 3, \"0\": 59, \"41\": 2, \"39\": 1, \"56\": 5, \"30\": 7, \"52\": 3, \"22\": 8, \"48\": 8, \"47\": 9, \"21\": 1, \"4\": 10, \"40\": 6, \"5\": 1, \"46\": 1}, \"57\": {\"57\": 46, \"1\": 4, \"4\": 2, \"32\": 3, \"27\": 17, \"55\": 5, \"13\": 12, \"35\": 1, \"8\": 3, \"36\": 1, \"48\": 4, \"47\": 1, \"29\": 10, \"9\": 7, \"20\": 5, \"33\": 1, \"52\": 1, \"0\": 1}, \"3\": {\"50\": 13, \"3\": 78, \"6\": 5, \"22\": 1, \"12\": 9, \"5\": 17, \"46\": 15, \"45\": 1, \"21\": 5, \"44\": 3, \"40\": 1}, \"29\": {\"9\": 6, \"29\": 66, \"32\": 2, \"27\": 12, \"8\": 2, \"13\": 6, \"57\": 18, \"55\": 4, \"52\": 1, \"4\": 3, \"33\": 1, \"1\": 2, \"44\": 1}, \"41\": {\"41\": 18, \"1\": 2, \"0\": 1, \"48\": 1, \"30\": 3, \"22\": 1, \"47\": 2}, \"25\": {\"25\": 119, \"15\": 10, \"24\": 1, \"11\": 4, \"16\": 5, \"23\": 3, \"19\": 2, \"53\": 2}, \"6\": {\"6\": 79, \"45\": 2, \"3\": 5, \"5\": 1, \"12\": 1}, \"35\": {\"57\": 1, \"35\": 19, \"31\": 1, \"42\": 1, \"55\": 3, \"54\": 1, \"7\": 1, \"9\": 1}, \"20\": {\"48\": 8, \"20\": 94, \"9\": 3, \"52\": 7, \"57\": 3, \"30\": 2, \"1\": 1, \"0\": 2, \"4\": 4, \"55\": 1, \"40\": 1}, \"23\": {\"23\": 111, \"10\": 2, \"19\": 10, \"28\": 3, \"24\": 1, \"15\": 4, \"11\": 1, \"53\": 2}, \"22\": {\"39\": 1, \"22\": 55, \"56\": 20, \"3\": 8, \"44\": 10, \"0\": 7, \"5\": 10, \"41\": 3, \"50\": 4, \"40\": 4, \"1\": 1, \"21\": 3, \"6\": 1, \"46\": 6, \"30\": 3, \"4\": 2, \"47\": 2}, \"19\": {\"19\": 69, \"42\": 2, \"24\": 2, \"34\": 1, \"23\": 16, \"35\": 1, \"17\": 3, \"43\": 4, \"36\": 1, \"11\": 2, \"53\": 6, \"15\": 1, \"55\": 1, \"28\": 3, \"10\": 2, \"9\": 1, \"8\": 1}, \"55\": {\"55\": 76, \"32\": 1, \"33\": 2, \"38\": 1, \"57\": 6, \"29\": 11, \"9\": 7, \"27\": 8, \"36\": 4, \"13\": 6, \"35\": 2}, \"30\": {\"56\": 2, \"46\": 2, \"30\": 39, \"0\": 17, \"22\": 9, \"52\": 11, \"50\": 6, \"40\": 4, \"21\": 7, \"29\": 1, \"48\": 6, \"1\": 2, \"9\": 1, \"4\": 10, \"41\": 1, \"47\": 1, \"20\": 1}}, \"C_1\": {\"24\": {\"24\": 100, \"34\": 4, \"42\": 1, \"35\": 1, \"31\": 1, \"54\": 1}, \"25\": {\"25\": 135, \"16\": 3, \"15\": 2}, \"45\": {\"45\": 94, \"56\": 22, \"44\": 3, \"20\": 3, \"3\": 5, \"40\": 4, \"6\": 5, \"0\": 3, \"4\": 1, \"50\": 4}, \"42\": {\"24\": 2, \"42\": 20, \"33\": 3, \"9\": 4, \"17\": 6, \"49\": 1, \"57\": 1, \"23\": 1, \"51\": 1, \"54\": 1}, \"2\": {\"2\": 29, \"14\": 1, \"0\": 2, \"52\": 1, \"13\": 1, \"21\": 1, \"12\": 1}, \"9\": {\"9\": 124, \"8\": 4, \"41\": 2, \"38\": 1, \"13\": 1, \"48\": 6, \"51\": 7, \"30\": 1, \"55\": 2, \"47\": 1, \"21\": 1}, \"21\": {\"21\": 74, \"52\": 4, \"30\": 14, \"0\": 4, \"57\": 12, \"13\": 1, \"47\": 6, \"22\": 3, \"45\": 1, \"29\": 2, \"40\": 2, \"56\": 1}, \"26\": {\"25\": 2, \"26\": 19, \"34\": 1, \"23\": 1, \"51\": 1}, \"49\": {\"49\": 21, \"54\": 2, \"38\": 2, \"8\": 1, \"31\": 1, \"55\": 2, \"21\": 2, \"36\": 1}, \"39\": {\"39\": 23, \"43\": 2, \"47\": 2, \"1\": 1}, \"46\": {\"46\": 88, \"56\": 7, \"5\": 14, \"4\": 1, \"6\": 4, \"45\": 1, \"3\": 6, \"44\": 15}, \"17\": {\"17\": 62, \"54\": 1, \"42\": 1}, \"19\": {\"19\": 107, \"26\": 3, \"23\": 20, \"35\": 2, \"53\": 9, \"11\": 1, \"10\": 1, \"24\": 1, \"51\": 1, \"15\": 3, \"28\": 4, \"34\": 1, \"42\": 1, \"36\": 1, \"54\": 1}, \"23\": {\"23\": 107, \"19\": 10, \"42\": 1, \"35\": 3, \"24\": 5, \"9\": 1, \"26\": 1, \"53\": 1, \"17\": 1, \"10\": 1, \"15\": 1}, \"1\": {\"1\": 53, \"49\": 4, \"29\": 3, \"48\": 3, \"47\": 3, \"21\": 2, \"36\": 2, \"55\": 15, \"13\": 2, \"43\": 2, \"8\": 3, \"50\": 1, \"57\": 1, \"27\": 2, \"30\": 3, \"56\": 1}, \"29\": {\"1\": 8, \"45\": 1, \"29\": 54, \"47\": 18, \"38\": 3, \"55\": 7, \"21\": 3, \"56\": 3, \"27\": 14, \"3\": 2, \"8\": 2, \"52\": 3, \"43\": 2, \"30\": 4, \"57\": 6, \"44\": 1, \"4\": 4, \"40\": 1, \"32\": 1, \"49\": 1, \"14\": 1, \"6\": 1}, \"56\": {\"56\": 78, \"12\": 2, \"5\": 6, \"50\": 3, \"0\": 3, \"3\": 8, \"6\": 5, \"20\": 5, \"44\": 9, \"45\": 21, \"4\": 6, \"46\": 4}, \"37\": {\"37\": 28, \"41\": 2, \"48\": 1, \"55\": 1}, \"33\": {\"33\": 32}, \"55\": {\"49\": 1, \"55\": 111, \"1\": 6, \"32\": 1, \"36\": 9, \"43\": 2, \"8\": 2, \"48\": 8, \"57\": 1, \"29\": 1}, \"30\": {\"30\": 91, \"1\": 3, \"57\": 8, \"21\": 6, \"29\": 2, \"0\": 1, \"48\": 1, \"14\": 1, \"20\": 2, \"7\": 1, \"12\": 1, \"13\": 2, \"22\": 1}, \"0\": {\"0\": 106, \"40\": 6, \"52\": 13, \"4\": 3, \"56\": 2, \"22\": 9, \"20\": 2, \"3\": 2, \"45\": 4, \"12\": 2, \"57\": 2, \"21\": 1}, \"36\": {\"55\": 7, \"36\": 43, \"2\": 1, \"48\": 2, \"32\": 2, \"1\": 4, \"8\": 4, \"30\": 1}, \"32\": {\"32\": 24, \"49\": 2, \"55\": 2, \"21\": 1, \"42\": 1, \"8\": 1, \"31\": 1}, \"31\": {\"31\": 27, \"32\": 1}, \"15\": {\"15\": 124, \"10\": 2, \"16\": 4, \"17\": 1, \"19\": 2, \"11\": 3, \"23\": 1, \"51\": 1}, \"12\": {\"12\": 98, \"20\": 13, \"50\": 1, \"40\": 2, \"44\": 1, \"3\": 1}, \"38\": {\"14\": 1, \"38\": 16, \"47\": 1, \"55\": 1, \"52\": 1, \"36\": 1, \"49\": 1, \"22\": 1, \"43\": 1}, \"40\": {\"40\": 63, \"0\": 15, \"5\": 7, \"22\": 14, \"6\": 5, \"50\": 1, \"21\": 1, \"20\": 10, \"12\": 5, \"3\": 4, \"56\": 3, \"44\": 2, \"52\": 6, \"27\": 1, \"57\": 1, \"4\": 6, \"13\": 1, \"45\": 1}, \"14\": {\"14\": 19, \"13\": 1, \"38\": 1, \"30\": 2, \"47\": 1}, \"13\": {\"12\": 4, \"14\": 1, \"13\": 131, \"30\": 3, \"0\": 3, \"20\": 1, \"52\": 2, \"57\": 1, \"2\": 3, \"22\": 1}, \"48\": {\"48\": 117, \"36\": 2, \"8\": 15, \"12\": 2, \"30\": 3, \"1\": 4, \"55\": 3, \"20\": 2}, \"34\": {\"34\": 17, \"42\": 2, \"32\": 1, \"54\": 1, \"17\": 2, \"33\": 1}, \"44\": {\"44\": 79, \"46\": 9, \"5\": 16, \"3\": 5, \"6\": 4, \"45\": 5, \"4\": 3, \"56\": 8, \"40\": 1}, \"5\": {\"5\": 123, \"46\": 22, \"6\": 2, \"44\": 4, \"3\": 1}, \"11\": {\"11\": 116, \"10\": 5, \"19\": 1, \"16\": 12, \"15\": 6}, \"7\": {\"7\": 23, \"47\": 1, \"29\": 3, \"30\": 1}, \"18\": {\"18\": 68, \"16\": 3, \"11\": 1}, \"52\": {\"52\": 115, \"22\": 10, \"21\": 2, \"40\": 1, \"0\": 3, \"57\": 1}, \"51\": {\"51\": 127, \"55\": 1, \"41\": 4, \"9\": 5, \"48\": 3, \"54\": 1, \"8\": 1}, \"41\": {\"41\": 18, \"55\": 1, \"36\": 1, \"9\": 2, \"30\": 1, \"51\": 1}, \"16\": {\"16\": 124, \"15\": 3, \"11\": 8, \"19\": 2, \"10\": 3}, \"22\": {\"22\": 86, \"29\": 1, \"21\": 6, \"57\": 10, \"40\": 3, \"0\": 6, \"52\": 9, \"56\": 1, \"27\": 1, \"47\": 4, \"4\": 2, \"12\": 1, \"20\": 2, \"3\": 1, \"45\": 1}, \"3\": {\"3\": 72, \"20\": 11, \"50\": 19, \"5\": 1, \"12\": 2, \"44\": 6, \"6\": 8, \"45\": 10, \"56\": 6, \"46\": 3, \"4\": 2}, \"54\": {\"54\": 95, \"24\": 2, \"36\": 1, \"9\": 1, \"43\": 2, \"51\": 3}, \"27\": {\"27\": 95, \"21\": 6, \"47\": 9, \"57\": 7, \"29\": 7, \"0\": 4, \"52\": 9, \"56\": 2, \"4\": 1, \"40\": 3, \"30\": 1}, \"20\": {\"20\": 79, \"12\": 21, \"13\": 1, \"45\": 7, \"4\": 3, \"0\": 8, \"56\": 3, \"50\": 5, \"6\": 3, \"3\": 7, \"40\": 3}, \"8\": {\"48\": 25, \"8\": 93, \"55\": 4, \"30\": 5, \"36\": 4, \"29\": 3, \"1\": 2, \"21\": 1, \"9\": 1}, \"50\": {\"50\": 135, \"44\": 1, \"46\": 2, \"6\": 2, \"3\": 1, \"40\": 1, \"56\": 2}, \"57\": {\"21\": 11, \"57\": 69, \"30\": 14, \"27\": 8, \"22\": 7, \"52\": 11, \"29\": 6, \"0\": 4, \"1\": 3, \"47\": 2, \"20\": 2, \"48\": 2, \"40\": 1}, \"4\": {\"4\": 56, \"52\": 4, \"22\": 5, \"5\": 6, \"29\": 2, \"57\": 2, \"20\": 1, \"3\": 12, \"27\": 1, \"46\": 4, \"45\": 3, \"56\": 10, \"12\": 2, \"40\": 5, \"6\": 5, \"44\": 10, \"0\": 3, \"50\": 1}, \"47\": {\"29\": 27, \"47\": 80, \"7\": 2, \"52\": 6, \"30\": 8, \"21\": 5, \"3\": 1, \"27\": 5, \"45\": 2, \"0\": 2, \"57\": 3, \"4\": 2, \"38\": 1, \"1\": 2}, \"10\": {\"10\": 91, \"15\": 2, \"19\": 2, \"28\": 1}, \"35\": {\"35\": 32, \"24\": 4}, \"53\": {\"53\": 124, \"35\": 1, \"19\": 1}, \"6\": {\"6\": 51, \"56\": 6, \"3\": 3, \"4\": 3, \"5\": 1, \"12\": 3, \"40\": 1, \"50\": 14, \"20\": 3, \"45\": 6, \"0\": 1, \"46\": 3, \"44\": 1}, \"43\": {\"43\": 128, \"1\": 1, \"55\": 4, \"36\": 1, \"29\": 1, \"9\": 1, \"31\": 1, \"39\": 1, \"54\": 1, \"21\": 1}, \"28\": {\"28\": 25, \"19\": 2, \"23\": 1}}, \"C_5\": {\"35\": {\"35\": 29, \"51\": 1, \"32\": 2, \"55\": 2, \"2\": 1, \"31\": 1}, \"57\": {\"20\": 10, \"57\": 44, \"29\": 6, \"0\": 14, \"48\": 15, \"13\": 7, \"7\": 1, \"52\": 9, \"14\": 4, \"1\": 8, \"56\": 4, \"47\": 2, \"9\": 4, \"46\": 2, \"30\": 1, \"27\": 1}, \"20\": {\"47\": 2, \"7\": 2, \"20\": 108, \"21\": 7, \"29\": 1, \"0\": 3, \"48\": 10, \"45\": 1, \"57\": 4, \"27\": 1, \"1\": 2, \"13\": 3}, \"12\": {\"12\": 68, \"45\": 3, \"6\": 3, \"44\": 4, \"5\": 4, \"30\": 1, \"4\": 6, \"3\": 1, \"50\": 2, \"40\": 3, \"46\": 1}, \"32\": {\"32\": 11, \"43\": 4, \"27\": 3, \"13\": 2, \"49\": 1, \"41\": 2, \"54\": 1, \"55\": 1, \"2\": 1, \"8\": 5, \"51\": 1}, \"25\": {\"25\": 127, \"11\": 4, \"16\": 4, \"15\": 2, \"19\": 1}, \"44\": {\"45\": 4, \"50\": 11, \"44\": 76, \"22\": 2, \"6\": 2, \"5\": 19, \"40\": 14, \"12\": 4, \"9\": 1, \"3\": 3, \"4\": 11, \"56\": 1}, \"31\": {\"31\": 31, \"54\": 1, \"24\": 2, \"41\": 1, \"23\": 1}, \"11\": {\"23\": 3, \"11\": 107, \"16\": 17, \"15\": 15, \"27\": 1, \"19\": 3, \"10\": 1, \"28\": 1, \"25\": 1, \"53\": 1}, \"47\": {\"47\": 61, \"57\": 3, \"30\": 1, \"52\": 3, \"29\": 4, \"1\": 4, \"22\": 1, \"56\": 4, \"4\": 1, \"27\": 2, \"0\": 6, \"20\": 2, \"36\": 2, \"48\": 3, \"9\": 1, \"13\": 1, \"21\": 1}, \"23\": {\"23\": 87, \"17\": 3, \"19\": 15, \"42\": 3, \"24\": 7, \"53\": 4, \"51\": 2, \"31\": 1, \"15\": 1, \"11\": 1}, \"43\": {\"43\": 87, \"49\": 1, \"54\": 9, \"27\": 19, \"51\": 4, \"55\": 11, \"35\": 4, \"7\": 1, \"57\": 1, \"8\": 6, \"2\": 1}, \"37\": {\"37\": 23, \"7\": 1}, \"5\": {\"45\": 5, \"44\": 25, \"50\": 14, \"5\": 57, \"40\": 4, \"4\": 12, \"3\": 5, \"6\": 2, \"22\": 2, \"12\": 2}, \"45\": {\"12\": 1, \"45\": 88, \"44\": 3, \"5\": 1, \"6\": 13, \"50\": 15, \"22\": 1, \"3\": 1, \"4\": 1}, \"7\": {\"7\": 31, \"14\": 1}, \"13\": {\"13\": 102, \"49\": 1, \"14\": 5, \"48\": 1, \"29\": 8, \"27\": 1, \"8\": 2, \"57\": 6, \"52\": 3, \"0\": 1, \"43\": 1, \"47\": 1, \"20\": 3, \"21\": 1}, \"49\": {\"13\": 3, \"49\": 26, \"47\": 1, \"2\": 1, \"29\": 3, \"27\": 2}, \"46\": {\"30\": 14, \"46\": 81, \"48\": 1, \"52\": 6, \"12\": 2, \"4\": 2, \"3\": 6, \"0\": 13, \"9\": 12, \"40\": 3, \"1\": 4, \"22\": 2, \"44\": 1, \"50\": 1}, \"16\": {\"11\": 11, \"16\": 116, \"24\": 2, \"10\": 1, \"15\": 3, \"25\": 1, \"53\": 1, \"51\": 1}, \"54\": {\"54\": 61, \"27\": 8, \"29\": 2, \"41\": 2, \"43\": 13, \"26\": 1, \"35\": 2, \"55\": 3, \"34\": 1, \"17\": 6, \"8\": 4, \"51\": 5, \"38\": 1, \"36\": 1, \"13\": 1, \"19\": 1}, \"19\": {\"19\": 121, \"23\": 10, \"42\": 3, \"34\": 2, \"43\": 1, \"53\": 5, \"51\": 2, \"17\": 2, \"33\": 1, \"10\": 2, \"24\": 2, \"55\": 1}, \"55\": {\"55\": 54, \"32\": 2, \"33\": 1, \"49\": 2, \"37\": 1, \"27\": 11, \"2\": 3, \"29\": 20, \"26\": 1, \"41\": 1, \"43\": 10, \"13\": 10, \"36\": 3, \"51\": 4, \"8\": 14, \"54\": 5, \"48\": 2, \"57\": 1, \"38\": 2, \"31\": 1, \"20\": 2}, \"30\": {\"30\": 52, \"46\": 17, \"52\": 16, \"9\": 12, \"21\": 7, \"0\": 4, \"1\": 6, \"12\": 3, \"48\": 3, \"40\": 2, \"3\": 3, \"57\": 1, \"4\": 1, \"56\": 1}, \"34\": {\"34\": 21, \"49\": 1, \"53\": 1, \"24\": 1, \"23\": 2, \"55\": 2, \"27\": 2, \"54\": 1, \"17\": 1, \"33\": 2, \"32\": 1, \"8\": 1}, \"50\": {\"50\": 108, \"5\": 3, \"6\": 11, \"3\": 1, \"45\": 9, \"4\": 2}, \"3\": {\"46\": 6, \"9\": 4, \"3\": 57, \"22\": 2, \"12\": 1, \"40\": 9, \"5\": 6, \"4\": 6, \"30\": 2, \"44\": 3, \"6\": 2, \"50\": 1, \"56\": 1}, \"10\": {\"10\": 60, \"28\": 1, \"19\": 4, \"17\": 1, \"24\": 2}, \"27\": {\"54\": 8, \"27\": 70, \"13\": 2, \"44\": 2, \"2\": 1, \"43\": 19, \"14\": 2, \"55\": 7, \"36\": 2, \"8\": 13, \"29\": 8, \"1\": 1, \"57\": 1, \"41\": 1, \"32\": 1, \"47\": 1, \"7\": 1, \"30\": 1, \"9\": 1}, \"33\": {\"33\": 18, \"55\": 2, \"32\": 1, \"17\": 1, \"31\": 6, \"34\": 1, \"54\": 2, \"36\": 1}, \"56\": {\"56\": 75, \"47\": 7, \"44\": 1, \"5\": 2, \"40\": 2, \"0\": 21, \"45\": 1, \"9\": 7, \"52\": 3, \"1\": 7, \"30\": 1, \"4\": 1, \"29\": 2, \"50\": 1, \"57\": 5, \"3\": 1, \"22\": 1, \"46\": 2, \"12\": 1, \"13\": 1}, \"9\": {\"56\": 7, \"9\": 46, \"3\": 6, \"52\": 13, \"21\": 6, \"1\": 8, \"39\": 1, \"30\": 11, \"4\": 7, \"46\": 12, \"50\": 1, \"48\": 5, \"20\": 5, \"0\": 6, \"57\": 4, \"5\": 1, \"6\": 2, \"40\": 6, \"47\": 3}, \"14\": {\"13\": 8, \"49\": 3, \"29\": 2, \"21\": 2, \"14\": 10, \"8\": 2, \"56\": 1, \"57\": 3, \"9\": 2, \"20\": 3, \"36\": 2, \"47\": 1, \"2\": 1, \"27\": 1, \"48\": 2, \"55\": 1}, \"4\": {\"5\": 10, \"9\": 9, \"3\": 6, \"4\": 41, \"12\": 2, \"22\": 1, \"6\": 4, \"50\": 4, \"44\": 7, \"40\": 5, \"45\": 3, \"56\": 2, \"30\": 3, \"0\": 1, \"1\": 1, \"47\": 1}, \"42\": {\"42\": 23, \"10\": 3, \"55\": 1, \"11\": 1, \"24\": 2, \"19\": 2, \"17\": 1, \"23\": 5, \"25\": 1, \"8\": 1}, \"24\": {\"42\": 2, \"24\": 74, \"17\": 2, \"34\": 1, \"10\": 1}, \"39\": {\"9\": 2, \"39\": 7, \"0\": 2, \"13\": 1, \"57\": 1, \"46\": 3, \"40\": 1, \"20\": 1, \"52\": 1, \"30\": 1}, \"52\": {\"9\": 12, \"46\": 17, \"52\": 48, \"57\": 7, \"29\": 2, \"48\": 21, \"30\": 6, \"0\": 4, \"20\": 2, \"40\": 4, \"21\": 2, \"1\": 3, \"56\": 1, \"13\": 1}, \"2\": {\"2\": 18, \"35\": 2, \"27\": 3, \"43\": 3, \"49\": 1, \"55\": 1}, \"28\": {\"11\": 3, \"28\": 22, \"24\": 1, \"15\": 5, \"10\": 1}, \"53\": {\"53\": 118, \"19\": 3, \"23\": 1}, \"17\": {\"17\": 114, \"31\": 1, \"33\": 1}, \"29\": {\"29\": 76, \"49\": 4, \"14\": 7, \"7\": 1, \"13\": 13, \"46\": 1, \"36\": 2, \"52\": 1, \"4\": 1, \"56\": 2, \"48\": 3, \"57\": 7, \"20\": 5, \"1\": 2, \"5\": 3, \"40\": 1, \"47\": 2, \"44\": 1}, \"38\": {\"37\": 1, \"38\": 19, \"14\": 1, \"51\": 3, \"13\": 2, \"26\": 1, \"41\": 1, \"27\": 2, \"8\": 2}, \"15\": {\"15\": 115, \"19\": 4, \"11\": 15, \"16\": 3, \"23\": 1, \"25\": 2, \"53\": 4}, \"26\": {\"26\": 15, \"19\": 1, \"38\": 1, \"28\": 1, \"51\": 2, \"17\": 1, \"42\": 1, \"33\": 1, \"25\": 1}, \"21\": {\"21\": 136, \"46\": 2, \"48\": 1, \"57\": 1, \"20\": 1, \"52\": 3}, \"41\": {\"29\": 2, \"41\": 14, \"32\": 1, \"43\": 1, \"55\": 2, \"31\": 1, \"2\": 1, \"54\": 1, \"46\": 1, \"13\": 1, \"20\": 1, \"33\": 1, \"51\": 1}, \"48\": {\"21\": 1, \"48\": 70, \"1\": 8, \"20\": 14, \"13\": 2, \"52\": 6, \"47\": 4, \"57\": 24, \"12\": 1, \"0\": 1, \"14\": 1, \"29\": 1, \"4\": 1, \"30\": 1, \"9\": 1}, \"22\": {\"30\": 1, \"22\": 15, \"0\": 1, \"5\": 4, \"46\": 2, \"3\": 2, \"44\": 1, \"40\": 1, \"45\": 1}, \"8\": {\"8\": 112, \"7\": 2, \"14\": 1, \"27\": 11, \"20\": 5, \"29\": 2, \"57\": 4, \"55\": 3, \"13\": 5, \"32\": 2, \"54\": 1}, \"18\": {\"18\": 64}, \"0\": {\"0\": 89, \"12\": 1, \"52\": 7, \"9\": 5, \"40\": 2, \"46\": 5, \"30\": 3, \"56\": 5, \"1\": 2, \"47\": 1, \"48\": 1, \"4\": 1}, \"1\": {\"39\": 1, \"1\": 78, \"0\": 4, \"40\": 3, \"56\": 9, \"46\": 3, \"48\": 8, \"30\": 7, \"14\": 2, \"57\": 7, \"52\": 3, \"5\": 1, \"9\": 5, \"4\": 1, \"47\": 5, \"21\": 1}, \"40\": {\"40\": 62, \"56\": 6, \"30\": 5, \"5\": 6, \"12\": 6, \"44\": 9, \"4\": 3, \"50\": 2, \"9\": 10, \"3\": 4, \"45\": 3, \"46\": 5, \"6\": 3}, \"6\": {\"44\": 5, \"6\": 69, \"50\": 21, \"5\": 3, \"45\": 19, \"3\": 7, \"12\": 3, \"40\": 1}, \"51\": {\"51\": 122, \"8\": 3, \"27\": 5, \"54\": 2, \"55\": 4, \"53\": 3, \"38\": 2, \"43\": 1}, \"36\": {\"36\": 60, \"47\": 7, \"14\": 1, \"56\": 2, \"29\": 10, \"27\": 2, \"1\": 4, \"13\": 1, \"43\": 1, \"0\": 1, \"48\": 1, \"20\": 1, \"8\": 1}}}, \"per_domain_accuracy\": {\"O_50\": {\"accuracy\": 0.8971354166666666, \"source?\": true}, \"O_14\": {\"accuracy\": 0.33880208333333334, \"source?\": true}, \"O_32\": {\"accuracy\": 0.6580729166666667, \"source?\": true}, \"O_44\": {\"accuracy\": 0.81484375, \"source?\": true}, \"O_8\": {\"accuracy\": 0.31927083333333334, \"source?\": true}, \"O_20\": {\"accuracy\": 0.159375, \"source?\": true}, \"O_38\": {\"accuracy\": 0.8981770833333333, \"source?\": true}, \"O_26\": {\"accuracy\": 0.22291666666666668, \"source?\": true}, \"C_4\": {\"accuracy\": 0.6706439393939394, \"source?\": false}, \"C_2\": {\"accuracy\": 0.6746839887640449, \"source?\": false}, \"C_3\": {\"accuracy\": 0.6309523809523809, \"source?\": false}, \"C_1\": {\"accuracy\": 0.7329391891891892, \"source?\": false}, \"C_5\": {\"accuracy\": 0.6449022346368715, \"source?\": false}}}, \"history\": {\"epoch_indices\": [1, 2, 3, 4, 5], \"train_label_loss\": [0.4916685627629271, 2.369388301489276, 0.37062645014541756, 0.3145022081283276, 0.27195966686454737], \"source_val_label_loss\": [512.8569946289062, 0.40577036142349243, 0.37887898087501526, 0.3034323453903198, 0.2582590579986572], \"target_val_label_loss\": [8707.5576171875, 2421.293701171875, 619.1231079101562, 756.1118774414062, 822.110107421875], \"source_val_acc_label\": [0.53857421875, 0.8655924479166667, 0.8825846354166667, 0.89345703125, 0.9133463541666667], \"target_val_acc_label\": [0.67175, 0.523, 0.5043571428571428, 0.5122142857142857, 0.5267142857142857]}, \"dataset_metrics\": {\"source\": {\"train\": {\"n_unique_x\": 179200, \"n_unique_y\": 16, \"n_batch/episode\": 6720}, \"val\": {\"n_unique_x\": 38400, \"n_unique_y\": 16, \"n_batch/episode\": 960}, \"test\": {\"n_unique_x\": 38400, \"n_unique_y\": 16, \"n_batch/episode\": 960}}, \"target\": {\"train\": {\"n_unique_x\": 175197, \"n_unique_y\": 58, \"n_batch/episode\": 6309}, \"val\": {\"n_unique_x\": 37166, \"n_unique_y\": 58, \"n_batch/episode\": 875}, \"test\": {\"n_unique_x\": 37642, \"n_unique_y\": 58, \"n_batch/episode\": 890}}}}'"
      ]
     },
     "execution_count": 29,
     "metadata": {},
     "output_type": "execute_result"
    }
   ],
   "source": [
    "json.dumps(experiment)"
   ]
  }
 ],
 "metadata": {
  "celltoolbar": "Tags",
  "kernelspec": {
   "display_name": "Python 3 (ipykernel)",
   "language": "python",
   "name": "python3"
  },
  "language_info": {
   "codemirror_mode": {
    "name": "ipython",
    "version": 3
   },
   "file_extension": ".py",
   "mimetype": "text/x-python",
   "name": "python",
   "nbconvert_exporter": "python",
   "pygments_lexer": "ipython3",
   "version": "3.8.10"
  },
  "papermill": {
   "default_parameters": {},
   "duration": 930.04923,
   "end_time": "2022-03-26T06:15:42.731553",
   "environment_variables": {},
   "exception": null,
   "input_path": "/mnt/wd500GB/CSC500/csc500-main/csc500-notebooks/templates/tl_ptn_template.ipynb",
   "output_path": "trial.ipynb",
   "parameters": {
    "parameters": {
     "BEST_MODEL_PATH": "./best_model.pth",
     "NUM_LOGS_PER_EPOCH": 10,
     "criteria_for_best": "target_accuracy",
     "dataset_seed": 500,
     "datasets": [
      {
       "domain_prefix": "C_",
       "domains": [
        1,
        2,
        3,
        4,
        5
       ],
       "episode_transforms": [],
       "labels": [
        "1-10.",
        "1-11.",
        "1-15.",
        "1-16.",
        "1-17.",
        "1-18.",
        "1-19.",
        "10-4.",
        "10-7.",
        "11-1.",
        "11-14.",
        "11-17.",
        "11-20.",
        "11-7.",
        "13-20.",
        "13-8.",
        "14-10.",
        "14-11.",
        "14-14.",
        "14-7.",
        "15-1.",
        "15-20.",
        "16-1.",
        "16-16.",
        "17-10.",
        "17-11.",
        "17-2.",
        "19-1.",
        "19-16.",
        "19-19.",
        "19-20.",
        "19-3.",
        "2-10.",
        "2-11.",
        "2-17.",
        "2-18.",
        "2-20.",
        "2-3.",
        "2-4.",
        "2-5.",
        "2-6.",
        "2-7.",
        "2-8.",
        "3-13.",
        "3-18.",
        "3-3.",
        "4-1.",
        "4-10.",
        "4-11.",
        "4-19.",
        "5-5.",
        "6-15.",
        "7-10.",
        "7-14.",
        "8-18.",
        "8-20.",
        "8-3.",
        "8-8."
       ],
       "num_examples_per_domain_per_label": -1,
       "pickle_path": "/mnt/wd500GB/CSC500/csc500-main/datasets/cores.stratified_ds.2022A.pkl",
       "source_or_target_dataset": "target",
       "x_transforms": [
        "lowpass_+/-10MHz",
        "take_200"
       ]
      },
      {
       "domain_prefix": "O_",
       "domains": [
        32,
        38,
        8,
        44,
        14,
        50,
        20,
        26
       ],
       "episode_transforms": [],
       "labels": [
        "3123D52",
        "3123D65",
        "3123D79",
        "3123D80",
        "3123D54",
        "3123D70",
        "3123D7B",
        "3123D89",
        "3123D58",
        "3123D76",
        "3123D7D",
        "3123EFE",
        "3123D64",
        "3123D78",
        "3123D7E",
        "3124E4A"
       ],
       "num_examples_per_domain_per_label": 2000,
       "pickle_path": "/mnt/wd500GB/CSC500/csc500-main/datasets/oracle.Run1_framed_2000Examples_stratified_ds.2022A.pkl",
       "source_or_target_dataset": "source",
       "x_transforms": [
        "take_200",
        "resample_20Msps_to_25Msps"
       ]
      }
     ],
     "device": "cuda",
     "experiment_name": "tl_3-filterv2:oracle.run1.framed -> cores",
     "lr": 0.0001,
     "n_epoch": 50,
     "n_query": 2,
     "n_shot": 3,
     "n_way": 16,
     "patience": 3,
     "seed": 500,
     "test_k_factor": 2,
     "torch_default_dtype": "torch.float32",
     "train_k_factor": 3,
     "val_k_factor": 2,
     "x_net": [
      {
       "class": "nnReshape",
       "kargs": {
        "shape": [
         -1,
         1,
         2,
         200
        ]
       }
      },
      {
       "class": "Conv2d",
       "kargs": {
        "bias": false,
        "in_channels": 1,
        "kernel_size": [
         1,
         7
        ],
        "out_channels": 256,
        "padding": [
         0,
         3
        ]
       }
      },
      {
       "class": "ReLU",
       "kargs": {
        "inplace": true
       }
      },
      {
       "class": "BatchNorm2d",
       "kargs": {
        "num_features": 256
       }
      },
      {
       "class": "Conv2d",
       "kargs": {
        "bias": true,
        "in_channels": 256,
        "kernel_size": [
         2,
         7
        ],
        "out_channels": 80,
        "padding": [
         0,
         3
        ]
       }
      },
      {
       "class": "ReLU",
       "kargs": {
        "inplace": true
       }
      },
      {
       "class": "BatchNorm2d",
       "kargs": {
        "num_features": 80
       }
      },
      {
       "class": "Flatten",
       "kargs": {}
      },
      {
       "class": "Linear",
       "kargs": {
        "in_features": 16000,
        "out_features": 256
       }
      },
      {
       "class": "ReLU",
       "kargs": {
        "inplace": true
       }
      },
      {
       "class": "BatchNorm1d",
       "kargs": {
        "num_features": 256
       }
      },
      {
       "class": "Linear",
       "kargs": {
        "in_features": 256,
        "out_features": 256
       }
      }
     ],
     "x_shape": [
      2,
      200
     ]
    }
   },
   "start_time": "2022-03-26T06:00:12.682323",
   "version": "2.3.4"
  }
 },
 "nbformat": 4,
 "nbformat_minor": 5
}