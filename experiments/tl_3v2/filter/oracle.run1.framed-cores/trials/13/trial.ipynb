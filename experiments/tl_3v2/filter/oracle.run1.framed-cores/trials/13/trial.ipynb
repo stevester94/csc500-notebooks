{
 "cells": [
  {
   "cell_type": "markdown",
   "id": "9fea5f46",
   "metadata": {
    "papermill": {
     "duration": 0.02963,
     "end_time": "2022-03-27T21:28:56.986975",
     "exception": false,
     "start_time": "2022-03-27T21:28:56.957345",
     "status": "completed"
    },
    "tags": []
   },
   "source": [
    "# Transfer Learning Template"
   ]
  },
  {
   "cell_type": "code",
   "execution_count": 1,
   "id": "0902182a",
   "metadata": {
    "execution": {
     "iopub.execute_input": "2022-03-27T21:28:57.049236Z",
     "iopub.status.busy": "2022-03-27T21:28:57.042689Z",
     "iopub.status.idle": "2022-03-27T21:28:59.140808Z",
     "shell.execute_reply": "2022-03-27T21:28:59.139987Z"
    },
    "papermill": {
     "duration": 2.130562,
     "end_time": "2022-03-27T21:28:59.140990",
     "exception": false,
     "start_time": "2022-03-27T21:28:57.010428",
     "status": "completed"
    },
    "tags": []
   },
   "outputs": [],
   "source": [
    "%load_ext autoreload\n",
    "%autoreload 2\n",
    "%matplotlib inline\n",
    "\n",
    "    \n",
    "import os, json, sys, time, random\n",
    "import numpy as np\n",
    "import torch\n",
    "from torch.optim import Adam\n",
    "from  easydict import EasyDict\n",
    "import matplotlib.pyplot as plt\n",
    "\n",
    "from steves_models.steves_ptn import Steves_Prototypical_Network\n",
    "\n",
    "from steves_utils.lazy_iterable_wrapper import Lazy_Iterable_Wrapper\n",
    "from steves_utils.iterable_aggregator import Iterable_Aggregator\n",
    "from steves_utils.ptn_train_eval_test_jig import  PTN_Train_Eval_Test_Jig\n",
    "from steves_utils.torch_sequential_builder import build_sequential\n",
    "from steves_utils.torch_utils import get_dataset_metrics, ptn_confusion_by_domain_over_dataloader\n",
    "from steves_utils.utils_v2 import (per_domain_accuracy_from_confusion, get_datasets_base_path)\n",
    "from steves_utils.PTN.utils import independent_accuracy_assesment\n",
    "\n",
    "from torch.utils.data import DataLoader\n",
    "\n",
    "from steves_utils.stratified_dataset.episodic_accessor import Episodic_Accessor_Factory\n",
    "\n",
    "from steves_utils.ptn_do_report import (\n",
    "    get_loss_curve,\n",
    "    get_results_table,\n",
    "    get_parameters_table,\n",
    "    get_domain_accuracies,\n",
    ")\n",
    "\n",
    "from steves_utils.transforms import get_chained_transform"
   ]
  },
  {
   "cell_type": "markdown",
   "id": "41c840b4",
   "metadata": {
    "papermill": {
     "duration": 0.019159,
     "end_time": "2022-03-27T21:28:59.184357",
     "exception": false,
     "start_time": "2022-03-27T21:28:59.165198",
     "status": "completed"
    },
    "tags": []
   },
   "source": [
    "# Allowed Parameters\n",
    "These are allowed parameters, not defaults\n",
    "Each of these values need to be present in the injected parameters (the notebook will raise an exception if they are not present)\n",
    "\n",
    "Papermill uses the cell tag \"parameters\" to inject the real parameters below this cell.\n",
    "Enable tags to see what I mean"
   ]
  },
  {
   "cell_type": "code",
   "execution_count": 2,
   "id": "fd44eb83",
   "metadata": {
    "execution": {
     "iopub.execute_input": "2022-03-27T21:28:59.227603Z",
     "iopub.status.busy": "2022-03-27T21:28:59.227170Z",
     "iopub.status.idle": "2022-03-27T21:28:59.249672Z",
     "shell.execute_reply": "2022-03-27T21:28:59.248864Z"
    },
    "papermill": {
     "duration": 0.046411,
     "end_time": "2022-03-27T21:28:59.249824",
     "exception": false,
     "start_time": "2022-03-27T21:28:59.203413",
     "status": "completed"
    },
    "tags": []
   },
   "outputs": [],
   "source": [
    "required_parameters = {\n",
    "    \"experiment_name\",\n",
    "    \"lr\",\n",
    "    \"device\",\n",
    "    \"seed\",\n",
    "    \"dataset_seed\",\n",
    "    \"n_shot\",\n",
    "    \"n_query\",\n",
    "    \"n_way\",\n",
    "    \"train_k_factor\",\n",
    "    \"val_k_factor\",\n",
    "    \"test_k_factor\",\n",
    "    \"n_epoch\",\n",
    "    \"patience\",\n",
    "    \"criteria_for_best\",\n",
    "    \"x_net\",\n",
    "    \"datasets\",\n",
    "    \"torch_default_dtype\",\n",
    "    \"NUM_LOGS_PER_EPOCH\",\n",
    "    \"BEST_MODEL_PATH\",\n",
    "    \"x_shape\",\n",
    "}"
   ]
  },
  {
   "cell_type": "code",
   "execution_count": 3,
   "id": "fa3f0049",
   "metadata": {
    "execution": {
     "iopub.execute_input": "2022-03-27T21:28:59.307960Z",
     "iopub.status.busy": "2022-03-27T21:28:59.307309Z",
     "iopub.status.idle": "2022-03-27T21:28:59.326957Z",
     "shell.execute_reply": "2022-03-27T21:28:59.326145Z"
    },
    "papermill": {
     "duration": 0.051707,
     "end_time": "2022-03-27T21:28:59.327110",
     "exception": false,
     "start_time": "2022-03-27T21:28:59.275403",
     "status": "completed"
    },
    "tags": [
     "parameters"
    ]
   },
   "outputs": [],
   "source": [
    "from steves_utils.CORES.utils import (\n",
    "    ALL_NODES,\n",
    "    ALL_NODES_MINIMUM_1000_EXAMPLES,\n",
    "    ALL_DAYS\n",
    ")\n",
    "\n",
    "from steves_utils.ORACLE.utils_v2 import (\n",
    "    ALL_DISTANCES_FEET_NARROWED,\n",
    "    ALL_RUNS,\n",
    "    ALL_SERIAL_NUMBERS,\n",
    ")\n",
    "\n",
    "standalone_parameters = {}\n",
    "standalone_parameters[\"experiment_name\"] = \"STANDALONE PTN\"\n",
    "standalone_parameters[\"lr\"] = 0.001\n",
    "standalone_parameters[\"device\"] = \"cuda\"\n",
    "\n",
    "standalone_parameters[\"seed\"] = 1337\n",
    "standalone_parameters[\"dataset_seed\"] = 1337\n",
    "\n",
    "standalone_parameters[\"n_way\"] = 8\n",
    "standalone_parameters[\"n_shot\"] = 3\n",
    "standalone_parameters[\"n_query\"]  = 2\n",
    "standalone_parameters[\"train_k_factor\"] = 1\n",
    "standalone_parameters[\"val_k_factor\"] = 2\n",
    "standalone_parameters[\"test_k_factor\"] = 2\n",
    "\n",
    "\n",
    "standalone_parameters[\"n_epoch\"] = 50\n",
    "\n",
    "standalone_parameters[\"patience\"] = 10\n",
    "standalone_parameters[\"criteria_for_best\"] = \"source_loss\"\n",
    "\n",
    "standalone_parameters[\"datasets\"] = [\n",
    "    {\n",
    "        \"labels\": ALL_SERIAL_NUMBERS,\n",
    "        \"domains\": ALL_DISTANCES_FEET_NARROWED,\n",
    "        \"num_examples_per_domain_per_label\": 100,\n",
    "        \"pickle_path\": os.path.join(get_datasets_base_path(), \"oracle.Run1_framed_2000Examples_stratified_ds.2022A.pkl\"),\n",
    "        \"source_or_target_dataset\": \"source\",\n",
    "        \"x_transforms\": [\"unit_mag\", \"minus_two\"],\n",
    "        \"episode_transforms\": [],\n",
    "        \"domain_prefix\": \"ORACLE_\"\n",
    "    },\n",
    "    {\n",
    "        \"labels\": ALL_NODES,\n",
    "        \"domains\": ALL_DAYS,\n",
    "        \"num_examples_per_domain_per_label\": 100,\n",
    "        \"pickle_path\": os.path.join(get_datasets_base_path(), \"cores.stratified_ds.2022A.pkl\"),\n",
    "        \"source_or_target_dataset\": \"target\",\n",
    "        \"x_transforms\": [\"unit_power\", \"times_zero\"],\n",
    "        \"episode_transforms\": [],\n",
    "        \"domain_prefix\": \"CORES_\"\n",
    "    }   \n",
    "]\n",
    "\n",
    "standalone_parameters[\"torch_default_dtype\"] = \"torch.float32\" \n",
    "\n",
    "\n",
    "\n",
    "standalone_parameters[\"x_net\"] =     [\n",
    "    {\"class\": \"nnReshape\", \"kargs\": {\"shape\":[-1, 1, 2, 256]}},\n",
    "    {\"class\": \"Conv2d\", \"kargs\": { \"in_channels\":1, \"out_channels\":256, \"kernel_size\":(1,7), \"bias\":False, \"padding\":(0,3), },},\n",
    "    {\"class\": \"ReLU\", \"kargs\": {\"inplace\": True}},\n",
    "    {\"class\": \"BatchNorm2d\", \"kargs\": {\"num_features\":256}},\n",
    "\n",
    "    {\"class\": \"Conv2d\", \"kargs\": { \"in_channels\":256, \"out_channels\":80, \"kernel_size\":(2,7), \"bias\":True, \"padding\":(0,3), },},\n",
    "    {\"class\": \"ReLU\", \"kargs\": {\"inplace\": True}},\n",
    "    {\"class\": \"BatchNorm2d\", \"kargs\": {\"num_features\":80}},\n",
    "    {\"class\": \"Flatten\", \"kargs\": {}},\n",
    "\n",
    "    {\"class\": \"Linear\", \"kargs\": {\"in_features\": 80*256, \"out_features\": 256}}, # 80 units per IQ pair\n",
    "    {\"class\": \"ReLU\", \"kargs\": {\"inplace\": True}},\n",
    "    {\"class\": \"BatchNorm1d\", \"kargs\": {\"num_features\":256}},\n",
    "\n",
    "    {\"class\": \"Linear\", \"kargs\": {\"in_features\": 256, \"out_features\": 256}},\n",
    "]\n",
    "\n",
    "# Parameters relevant to results\n",
    "# These parameters will basically never need to change\n",
    "standalone_parameters[\"NUM_LOGS_PER_EPOCH\"] = 10\n",
    "standalone_parameters[\"BEST_MODEL_PATH\"] = \"./best_model.pth\"\n",
    "\n",
    "\n",
    "\n",
    "\n"
   ]
  },
  {
   "cell_type": "code",
   "execution_count": 4,
   "id": "6f65edfe",
   "metadata": {
    "execution": {
     "iopub.execute_input": "2022-03-27T21:28:59.388340Z",
     "iopub.status.busy": "2022-03-27T21:28:59.387433Z",
     "iopub.status.idle": "2022-03-27T21:28:59.407666Z",
     "shell.execute_reply": "2022-03-27T21:28:59.406850Z"
    },
    "papermill": {
     "duration": 0.055962,
     "end_time": "2022-03-27T21:28:59.407817",
     "exception": false,
     "start_time": "2022-03-27T21:28:59.351855",
     "status": "completed"
    },
    "tags": [
     "injected-parameters"
    ]
   },
   "outputs": [],
   "source": [
    "# Parameters\n",
    "parameters = {\n",
    "    \"experiment_name\": \"tl_3-filterv2:oracle.run1.framed -> cores\",\n",
    "    \"device\": \"cuda\",\n",
    "    \"lr\": 0.0001,\n",
    "    \"x_shape\": [2, 200],\n",
    "    \"n_shot\": 3,\n",
    "    \"n_query\": 2,\n",
    "    \"train_k_factor\": 3,\n",
    "    \"val_k_factor\": 2,\n",
    "    \"test_k_factor\": 2,\n",
    "    \"torch_default_dtype\": \"torch.float32\",\n",
    "    \"n_epoch\": 50,\n",
    "    \"patience\": 3,\n",
    "    \"criteria_for_best\": \"target_accuracy\",\n",
    "    \"x_net\": [\n",
    "        {\"class\": \"nnReshape\", \"kargs\": {\"shape\": [-1, 1, 2, 200]}},\n",
    "        {\n",
    "            \"class\": \"Conv2d\",\n",
    "            \"kargs\": {\n",
    "                \"in_channels\": 1,\n",
    "                \"out_channels\": 256,\n",
    "                \"kernel_size\": [1, 7],\n",
    "                \"bias\": False,\n",
    "                \"padding\": [0, 3],\n",
    "            },\n",
    "        },\n",
    "        {\"class\": \"ReLU\", \"kargs\": {\"inplace\": True}},\n",
    "        {\"class\": \"BatchNorm2d\", \"kargs\": {\"num_features\": 256}},\n",
    "        {\n",
    "            \"class\": \"Conv2d\",\n",
    "            \"kargs\": {\n",
    "                \"in_channels\": 256,\n",
    "                \"out_channels\": 80,\n",
    "                \"kernel_size\": [2, 7],\n",
    "                \"bias\": True,\n",
    "                \"padding\": [0, 3],\n",
    "            },\n",
    "        },\n",
    "        {\"class\": \"ReLU\", \"kargs\": {\"inplace\": True}},\n",
    "        {\"class\": \"BatchNorm2d\", \"kargs\": {\"num_features\": 80}},\n",
    "        {\"class\": \"Flatten\", \"kargs\": {}},\n",
    "        {\"class\": \"Linear\", \"kargs\": {\"in_features\": 16000, \"out_features\": 256}},\n",
    "        {\"class\": \"ReLU\", \"kargs\": {\"inplace\": True}},\n",
    "        {\"class\": \"BatchNorm1d\", \"kargs\": {\"num_features\": 256}},\n",
    "        {\"class\": \"Linear\", \"kargs\": {\"in_features\": 256, \"out_features\": 256}},\n",
    "    ],\n",
    "    \"NUM_LOGS_PER_EPOCH\": 10,\n",
    "    \"BEST_MODEL_PATH\": \"./best_model.pth\",\n",
    "    \"n_way\": 16,\n",
    "    \"datasets\": [\n",
    "        {\n",
    "            \"labels\": [\n",
    "                \"1-10.\",\n",
    "                \"1-11.\",\n",
    "                \"1-15.\",\n",
    "                \"1-16.\",\n",
    "                \"1-17.\",\n",
    "                \"1-18.\",\n",
    "                \"1-19.\",\n",
    "                \"10-4.\",\n",
    "                \"10-7.\",\n",
    "                \"11-1.\",\n",
    "                \"11-14.\",\n",
    "                \"11-17.\",\n",
    "                \"11-20.\",\n",
    "                \"11-7.\",\n",
    "                \"13-20.\",\n",
    "                \"13-8.\",\n",
    "                \"14-10.\",\n",
    "                \"14-11.\",\n",
    "                \"14-14.\",\n",
    "                \"14-7.\",\n",
    "                \"15-1.\",\n",
    "                \"15-20.\",\n",
    "                \"16-1.\",\n",
    "                \"16-16.\",\n",
    "                \"17-10.\",\n",
    "                \"17-11.\",\n",
    "                \"17-2.\",\n",
    "                \"19-1.\",\n",
    "                \"19-16.\",\n",
    "                \"19-19.\",\n",
    "                \"19-20.\",\n",
    "                \"19-3.\",\n",
    "                \"2-10.\",\n",
    "                \"2-11.\",\n",
    "                \"2-17.\",\n",
    "                \"2-18.\",\n",
    "                \"2-20.\",\n",
    "                \"2-3.\",\n",
    "                \"2-4.\",\n",
    "                \"2-5.\",\n",
    "                \"2-6.\",\n",
    "                \"2-7.\",\n",
    "                \"2-8.\",\n",
    "                \"3-13.\",\n",
    "                \"3-18.\",\n",
    "                \"3-3.\",\n",
    "                \"4-1.\",\n",
    "                \"4-10.\",\n",
    "                \"4-11.\",\n",
    "                \"4-19.\",\n",
    "                \"5-5.\",\n",
    "                \"6-15.\",\n",
    "                \"7-10.\",\n",
    "                \"7-14.\",\n",
    "                \"8-18.\",\n",
    "                \"8-20.\",\n",
    "                \"8-3.\",\n",
    "                \"8-8.\",\n",
    "            ],\n",
    "            \"domains\": [1, 2, 3, 4, 5],\n",
    "            \"num_examples_per_domain_per_label\": -1,\n",
    "            \"pickle_path\": \"/root/csc500-main/datasets/cores.stratified_ds.2022A.pkl\",\n",
    "            \"source_or_target_dataset\": \"target\",\n",
    "            \"x_transforms\": [\"unit_mag\", \"lowpass_+/-10MHz\", \"take_200\"],\n",
    "            \"episode_transforms\": [],\n",
    "            \"domain_prefix\": \"C_\",\n",
    "        },\n",
    "        {\n",
    "            \"labels\": [\n",
    "                \"3123D52\",\n",
    "                \"3123D65\",\n",
    "                \"3123D79\",\n",
    "                \"3123D80\",\n",
    "                \"3123D54\",\n",
    "                \"3123D70\",\n",
    "                \"3123D7B\",\n",
    "                \"3123D89\",\n",
    "                \"3123D58\",\n",
    "                \"3123D76\",\n",
    "                \"3123D7D\",\n",
    "                \"3123EFE\",\n",
    "                \"3123D64\",\n",
    "                \"3123D78\",\n",
    "                \"3123D7E\",\n",
    "                \"3124E4A\",\n",
    "            ],\n",
    "            \"domains\": [32, 38, 8, 44, 14, 50, 20, 26],\n",
    "            \"num_examples_per_domain_per_label\": 2000,\n",
    "            \"pickle_path\": \"/root/csc500-main/datasets/oracle.Run1_framed_2000Examples_stratified_ds.2022A.pkl\",\n",
    "            \"source_or_target_dataset\": \"source\",\n",
    "            \"x_transforms\": [\"unit_mag\", \"take_200\", \"resample_20Msps_to_25Msps\"],\n",
    "            \"episode_transforms\": [],\n",
    "            \"domain_prefix\": \"O_\",\n",
    "        },\n",
    "    ],\n",
    "    \"seed\": 500,\n",
    "    \"dataset_seed\": 500,\n",
    "}\n"
   ]
  },
  {
   "cell_type": "code",
   "execution_count": 5,
   "id": "8fa1cc33",
   "metadata": {
    "execution": {
     "iopub.execute_input": "2022-03-27T21:28:59.458886Z",
     "iopub.status.busy": "2022-03-27T21:28:59.458324Z",
     "iopub.status.idle": "2022-03-27T21:28:59.478327Z",
     "shell.execute_reply": "2022-03-27T21:28:59.477532Z"
    },
    "papermill": {
     "duration": 0.046646,
     "end_time": "2022-03-27T21:28:59.478474",
     "exception": false,
     "start_time": "2022-03-27T21:28:59.431828",
     "status": "completed"
    },
    "tags": []
   },
   "outputs": [],
   "source": [
    "# Set this to True if you want to run this template directly\n",
    "STANDALONE = False\n",
    "if STANDALONE:\n",
    "    print(\"parameters not injected, running with standalone_parameters\")\n",
    "    parameters = standalone_parameters\n",
    "\n",
    "if not 'parameters' in locals() and not 'parameters' in globals():\n",
    "    raise Exception(\"Parameter injection failed\")\n",
    "\n",
    "#Use an easy dict for all the parameters\n",
    "p = EasyDict(parameters)\n",
    "\n",
    "if \"x_shape\" not in p:\n",
    "    p.x_shape = [2,256] # Default to this if we dont supply x_shape\n",
    "\n",
    "\n",
    "supplied_keys = set(p.keys())\n",
    "\n",
    "if  supplied_keys != required_parameters:\n",
    "    print(\"Parameters are incorrect\")\n",
    "    if len(supplied_keys - required_parameters)>0: print(\"Shouldn't have:\", str(supplied_keys - required_parameters))\n",
    "    if len(required_parameters - supplied_keys)>0: print(\"Need to have:\", str(required_parameters - supplied_keys))\n",
    "    raise RuntimeError(\"Parameters are incorrect\")"
   ]
  },
  {
   "cell_type": "code",
   "execution_count": 6,
   "id": "3a028d58",
   "metadata": {
    "execution": {
     "iopub.execute_input": "2022-03-27T21:28:59.528924Z",
     "iopub.status.busy": "2022-03-27T21:28:59.527547Z",
     "iopub.status.idle": "2022-03-27T21:28:59.546427Z",
     "shell.execute_reply": "2022-03-27T21:28:59.545650Z"
    },
    "papermill": {
     "duration": 0.043529,
     "end_time": "2022-03-27T21:28:59.546580",
     "exception": false,
     "start_time": "2022-03-27T21:28:59.503051",
     "status": "completed"
    },
    "tags": []
   },
   "outputs": [],
   "source": [
    "###################################\n",
    "# Set the RNGs and make it all deterministic\n",
    "###################################\n",
    "np.random.seed(p.seed)\n",
    "random.seed(p.seed)\n",
    "torch.manual_seed(p.seed)\n",
    "\n",
    "torch.use_deterministic_algorithms(True) "
   ]
  },
  {
   "cell_type": "code",
   "execution_count": 7,
   "id": "b691acf6",
   "metadata": {
    "execution": {
     "iopub.execute_input": "2022-03-27T21:28:59.594902Z",
     "iopub.status.busy": "2022-03-27T21:28:59.594538Z",
     "iopub.status.idle": "2022-03-27T21:28:59.614534Z",
     "shell.execute_reply": "2022-03-27T21:28:59.613732Z"
    },
    "papermill": {
     "duration": 0.043391,
     "end_time": "2022-03-27T21:28:59.614683",
     "exception": false,
     "start_time": "2022-03-27T21:28:59.571292",
     "status": "completed"
    },
    "tags": []
   },
   "outputs": [],
   "source": [
    "###########################################\n",
    "# The stratified datasets honor this\n",
    "###########################################\n",
    "torch.set_default_dtype(eval(p.torch_default_dtype))"
   ]
  },
  {
   "cell_type": "code",
   "execution_count": 8,
   "id": "b5fba671",
   "metadata": {
    "execution": {
     "iopub.execute_input": "2022-03-27T21:28:59.661921Z",
     "iopub.status.busy": "2022-03-27T21:28:59.661554Z",
     "iopub.status.idle": "2022-03-27T21:28:59.705981Z",
     "shell.execute_reply": "2022-03-27T21:28:59.705276Z"
    },
    "papermill": {
     "duration": 0.066803,
     "end_time": "2022-03-27T21:28:59.706129",
     "exception": false,
     "start_time": "2022-03-27T21:28:59.639326",
     "status": "completed"
    },
    "tags": []
   },
   "outputs": [],
   "source": [
    "###################################\n",
    "# Build the network(s)\n",
    "# Note: It's critical to do this AFTER setting the RNG\n",
    "###################################\n",
    "x_net = build_sequential(p.x_net)"
   ]
  },
  {
   "cell_type": "code",
   "execution_count": 9,
   "id": "5d7e61cc",
   "metadata": {
    "execution": {
     "iopub.execute_input": "2022-03-27T21:28:59.755044Z",
     "iopub.status.busy": "2022-03-27T21:28:59.754683Z",
     "iopub.status.idle": "2022-03-27T21:28:59.779922Z",
     "shell.execute_reply": "2022-03-27T21:28:59.779087Z"
    },
    "papermill": {
     "duration": 0.048784,
     "end_time": "2022-03-27T21:28:59.780072",
     "exception": false,
     "start_time": "2022-03-27T21:28:59.731288",
     "status": "completed"
    },
    "tags": []
   },
   "outputs": [],
   "source": [
    "start_time_secs = time.time()"
   ]
  },
  {
   "cell_type": "code",
   "execution_count": 10,
   "id": "c6b67dfd",
   "metadata": {
    "execution": {
     "iopub.execute_input": "2022-03-27T21:28:59.834600Z",
     "iopub.status.busy": "2022-03-27T21:28:59.830080Z",
     "iopub.status.idle": "2022-03-27T21:28:59.849349Z",
     "shell.execute_reply": "2022-03-27T21:28:59.848654Z"
    },
    "papermill": {
     "duration": 0.043298,
     "end_time": "2022-03-27T21:28:59.849502",
     "exception": false,
     "start_time": "2022-03-27T21:28:59.806204",
     "status": "completed"
    },
    "tags": []
   },
   "outputs": [],
   "source": [
    "p.domains_source = []\n",
    "p.domains_target = []\n",
    "\n",
    "\n",
    "train_original_source = []\n",
    "val_original_source   = []\n",
    "test_original_source  = []\n",
    "\n",
    "train_original_target = []\n",
    "val_original_target   = []\n",
    "test_original_target  = []"
   ]
  },
  {
   "cell_type": "code",
   "execution_count": 11,
   "id": "e3d9c3d3",
   "metadata": {
    "execution": {
     "iopub.execute_input": "2022-03-27T21:28:59.898323Z",
     "iopub.status.busy": "2022-03-27T21:28:59.897956Z",
     "iopub.status.idle": "2022-03-27T21:28:59.917429Z",
     "shell.execute_reply": "2022-03-27T21:28:59.916731Z"
    },
    "papermill": {
     "duration": 0.042268,
     "end_time": "2022-03-27T21:28:59.917598",
     "exception": false,
     "start_time": "2022-03-27T21:28:59.875330",
     "status": "completed"
    },
    "tags": []
   },
   "outputs": [],
   "source": [
    "# global_x_transform_func = lambda x: normalize(x.to(torch.get_default_dtype()), \"unit_power\") # unit_power, unit_mag\n",
    "# global_x_transform_func = lambda x: normalize(x, \"unit_power\") # unit_power, unit_mag"
   ]
  },
  {
   "cell_type": "code",
   "execution_count": 12,
   "id": "acb78fd2",
   "metadata": {
    "execution": {
     "iopub.execute_input": "2022-03-27T21:28:59.974508Z",
     "iopub.status.busy": "2022-03-27T21:28:59.973664Z",
     "iopub.status.idle": "2022-03-27T21:28:59.991049Z",
     "shell.execute_reply": "2022-03-27T21:28:59.990251Z"
    },
    "papermill": {
     "duration": 0.047796,
     "end_time": "2022-03-27T21:28:59.991197",
     "exception": false,
     "start_time": "2022-03-27T21:28:59.943401",
     "status": "completed"
    },
    "tags": []
   },
   "outputs": [],
   "source": [
    "def add_dataset(\n",
    "    labels,\n",
    "    domains,\n",
    "    pickle_path,\n",
    "    x_transforms,\n",
    "    episode_transforms,\n",
    "    domain_prefix,\n",
    "    num_examples_per_domain_per_label,\n",
    "    source_or_target_dataset:str,\n",
    "    iterator_seed=p.seed,\n",
    "    dataset_seed=p.dataset_seed,\n",
    "    n_shot=p.n_shot,\n",
    "    n_way=p.n_way,\n",
    "    n_query=p.n_query,\n",
    "    train_val_test_k_factors=(p.train_k_factor,p.val_k_factor,p.test_k_factor),\n",
    "):\n",
    "   \n",
    "    if x_transforms == []: x_transform = None\n",
    "    else: x_transform = get_chained_transform(x_transforms)\n",
    "    \n",
    "    if episode_transforms == []: episode_transform = None\n",
    "    else: raise Exception(\"episode_transforms not implemented\")\n",
    "    \n",
    "    episode_transform = lambda tup, _prefix=domain_prefix: (_prefix + str(tup[0]), tup[1])\n",
    "\n",
    "\n",
    "    eaf = Episodic_Accessor_Factory(\n",
    "        labels=labels,\n",
    "        domains=domains,\n",
    "        num_examples_per_domain_per_label=num_examples_per_domain_per_label,\n",
    "        iterator_seed=iterator_seed,\n",
    "        dataset_seed=dataset_seed,\n",
    "        n_shot=n_shot,\n",
    "        n_way=n_way,\n",
    "        n_query=n_query,\n",
    "        train_val_test_k_factors=train_val_test_k_factors,\n",
    "        pickle_path=pickle_path,\n",
    "        x_transform_func=x_transform,\n",
    "    )\n",
    "\n",
    "    train, val, test = eaf.get_train(), eaf.get_val(), eaf.get_test()\n",
    "    train = Lazy_Iterable_Wrapper(train, episode_transform)\n",
    "    val = Lazy_Iterable_Wrapper(val, episode_transform)\n",
    "    test = Lazy_Iterable_Wrapper(test, episode_transform)\n",
    "\n",
    "    if source_or_target_dataset==\"source\":\n",
    "        train_original_source.append(train)\n",
    "        val_original_source.append(val)\n",
    "        test_original_source.append(test)\n",
    "\n",
    "        p.domains_source.extend(\n",
    "            [domain_prefix + str(u) for u in domains]\n",
    "        )\n",
    "    elif source_or_target_dataset==\"target\":\n",
    "        train_original_target.append(train)\n",
    "        val_original_target.append(val)\n",
    "        test_original_target.append(test)\n",
    "        p.domains_target.extend(\n",
    "            [domain_prefix + str(u) for u in domains]\n",
    "        )\n",
    "    else:\n",
    "        raise Exception(f\"invalid source_or_target_dataset: {source_or_target_dataset}\")\n",
    "    "
   ]
  },
  {
   "cell_type": "code",
   "execution_count": 13,
   "id": "fe266617",
   "metadata": {
    "execution": {
     "iopub.execute_input": "2022-03-27T21:29:00.039977Z",
     "iopub.status.busy": "2022-03-27T21:29:00.039616Z",
     "iopub.status.idle": "2022-03-27T21:30:11.970748Z",
     "shell.execute_reply": "2022-03-27T21:30:11.969951Z"
    },
    "papermill": {
     "duration": 71.953478,
     "end_time": "2022-03-27T21:30:11.970936",
     "exception": false,
     "start_time": "2022-03-27T21:29:00.017458",
     "status": "completed"
    },
    "tags": []
   },
   "outputs": [],
   "source": [
    "for ds in p.datasets:\n",
    "    add_dataset(**ds)"
   ]
  },
  {
   "cell_type": "code",
   "execution_count": 14,
   "id": "b90d65ac",
   "metadata": {
    "execution": {
     "iopub.execute_input": "2022-03-27T21:30:12.025720Z",
     "iopub.status.busy": "2022-03-27T21:30:12.025337Z",
     "iopub.status.idle": "2022-03-27T21:30:12.051466Z",
     "shell.execute_reply": "2022-03-27T21:30:12.050611Z"
    },
    "papermill": {
     "duration": 0.051811,
     "end_time": "2022-03-27T21:30:12.051682",
     "exception": false,
     "start_time": "2022-03-27T21:30:11.999871",
     "status": "completed"
    },
    "tags": []
   },
   "outputs": [],
   "source": [
    "# from steves_utils.CORES.utils import (\n",
    "#     ALL_NODES,\n",
    "#     ALL_NODES_MINIMUM_1000_EXAMPLES,\n",
    "#     ALL_DAYS\n",
    "# )\n",
    "\n",
    "# add_dataset(\n",
    "#     labels=ALL_NODES,\n",
    "#     domains = ALL_DAYS,\n",
    "#     num_examples_per_domain_per_label=100,\n",
    "#     pickle_path=os.path.join(get_datasets_base_path(), \"cores.stratified_ds.2022A.pkl\"),\n",
    "#     source_or_target_dataset=\"target\",\n",
    "#     x_transform_func=global_x_transform_func,\n",
    "#     domain_modifier=lambda u: f\"cores_{u}\"\n",
    "# )"
   ]
  },
  {
   "cell_type": "code",
   "execution_count": 15,
   "id": "76db484d",
   "metadata": {
    "execution": {
     "iopub.execute_input": "2022-03-27T21:30:12.107131Z",
     "iopub.status.busy": "2022-03-27T21:30:12.102864Z",
     "iopub.status.idle": "2022-03-27T21:30:12.123842Z",
     "shell.execute_reply": "2022-03-27T21:30:12.123003Z"
    },
    "papermill": {
     "duration": 0.044146,
     "end_time": "2022-03-27T21:30:12.124028",
     "exception": false,
     "start_time": "2022-03-27T21:30:12.079882",
     "status": "completed"
    },
    "tags": []
   },
   "outputs": [],
   "source": [
    "# from steves_utils.ORACLE.utils_v2 import (\n",
    "#     ALL_DISTANCES_FEET,\n",
    "#     ALL_RUNS,\n",
    "#     ALL_SERIAL_NUMBERS,\n",
    "# )\n",
    "\n",
    "\n",
    "# add_dataset(\n",
    "#     labels=ALL_SERIAL_NUMBERS,\n",
    "#     domains = list(set(ALL_DISTANCES_FEET) - {2,62}),\n",
    "#     num_examples_per_domain_per_label=100,\n",
    "#     pickle_path=os.path.join(get_datasets_base_path(), \"oracle.Run2_framed_2000Examples_stratified_ds.2022A.pkl\"),\n",
    "#     source_or_target_dataset=\"source\",\n",
    "#     x_transform_func=global_x_transform_func,\n",
    "#     domain_modifier=lambda u: f\"oracle1_{u}\"\n",
    "# )\n"
   ]
  },
  {
   "cell_type": "code",
   "execution_count": 16,
   "id": "97dea9d2",
   "metadata": {
    "execution": {
     "iopub.execute_input": "2022-03-27T21:30:12.175790Z",
     "iopub.status.busy": "2022-03-27T21:30:12.175031Z",
     "iopub.status.idle": "2022-03-27T21:30:12.197637Z",
     "shell.execute_reply": "2022-03-27T21:30:12.196895Z"
    },
    "papermill": {
     "duration": 0.047517,
     "end_time": "2022-03-27T21:30:12.197830",
     "exception": false,
     "start_time": "2022-03-27T21:30:12.150313",
     "status": "completed"
    },
    "tags": []
   },
   "outputs": [],
   "source": [
    "# from steves_utils.ORACLE.utils_v2 import (\n",
    "#     ALL_DISTANCES_FEET,\n",
    "#     ALL_RUNS,\n",
    "#     ALL_SERIAL_NUMBERS,\n",
    "# )\n",
    "\n",
    "\n",
    "# add_dataset(\n",
    "#     labels=ALL_SERIAL_NUMBERS,\n",
    "#     domains = list(set(ALL_DISTANCES_FEET) - {2,62,56}),\n",
    "#     num_examples_per_domain_per_label=100,\n",
    "#     pickle_path=os.path.join(get_datasets_base_path(), \"oracle.Run2_framed_2000Examples_stratified_ds.2022A.pkl\"),\n",
    "#     source_or_target_dataset=\"source\",\n",
    "#     x_transform_func=global_x_transform_func,\n",
    "#     domain_modifier=lambda u: f\"oracle2_{u}\"\n",
    "# )"
   ]
  },
  {
   "cell_type": "code",
   "execution_count": 17,
   "id": "6f289866",
   "metadata": {
    "execution": {
     "iopub.execute_input": "2022-03-27T21:30:12.251895Z",
     "iopub.status.busy": "2022-03-27T21:30:12.251152Z",
     "iopub.status.idle": "2022-03-27T21:30:12.271282Z",
     "shell.execute_reply": "2022-03-27T21:30:12.270509Z"
    },
    "papermill": {
     "duration": 0.045782,
     "end_time": "2022-03-27T21:30:12.271479",
     "exception": false,
     "start_time": "2022-03-27T21:30:12.225697",
     "status": "completed"
    },
    "tags": []
   },
   "outputs": [],
   "source": [
    "# add_dataset(\n",
    "#     labels=list(range(19)),\n",
    "#     domains = [0,1,2],\n",
    "#     num_examples_per_domain_per_label=100,\n",
    "#     pickle_path=os.path.join(get_datasets_base_path(), \"metehan.stratified_ds.2022A.pkl\"),\n",
    "#     source_or_target_dataset=\"target\",\n",
    "#     x_transform_func=global_x_transform_func,\n",
    "#     domain_modifier=lambda u: f\"met_{u}\"\n",
    "# )"
   ]
  },
  {
   "cell_type": "code",
   "execution_count": 18,
   "id": "86a863c3",
   "metadata": {
    "execution": {
     "iopub.execute_input": "2022-03-27T21:30:12.327402Z",
     "iopub.status.busy": "2022-03-27T21:30:12.326714Z",
     "iopub.status.idle": "2022-03-27T21:30:12.347035Z",
     "shell.execute_reply": "2022-03-27T21:30:12.346173Z"
    },
    "papermill": {
     "duration": 0.045364,
     "end_time": "2022-03-27T21:30:12.347233",
     "exception": false,
     "start_time": "2022-03-27T21:30:12.301869",
     "status": "completed"
    },
    "tags": []
   },
   "outputs": [],
   "source": [
    "# # from steves_utils.wisig.utils import (\n",
    "# #     ALL_NODES_MINIMUM_100_EXAMPLES,\n",
    "# #     ALL_NODES_MINIMUM_500_EXAMPLES,\n",
    "# #     ALL_NODES_MINIMUM_1000_EXAMPLES,\n",
    "# #     ALL_DAYS\n",
    "# # )\n",
    "\n",
    "# import steves_utils.wisig.utils as wisig\n",
    "\n",
    "\n",
    "# add_dataset(\n",
    "#     labels=wisig.ALL_NODES_MINIMUM_100_EXAMPLES,\n",
    "#     domains = wisig.ALL_DAYS,\n",
    "#     num_examples_per_domain_per_label=100,\n",
    "#     pickle_path=os.path.join(get_datasets_base_path(), \"wisig.node3-19.stratified_ds.2022A.pkl\"),\n",
    "#     source_or_target_dataset=\"target\",\n",
    "#     x_transform_func=global_x_transform_func,\n",
    "#     domain_modifier=lambda u: f\"wisig_{u}\"\n",
    "# )"
   ]
  },
  {
   "cell_type": "code",
   "execution_count": 19,
   "id": "fd5442bc",
   "metadata": {
    "execution": {
     "iopub.execute_input": "2022-03-27T21:30:12.412854Z",
     "iopub.status.busy": "2022-03-27T21:30:12.411283Z",
     "iopub.status.idle": "2022-03-27T21:30:12.436786Z",
     "shell.execute_reply": "2022-03-27T21:30:12.435959Z"
    },
    "papermill": {
     "duration": 0.05412,
     "end_time": "2022-03-27T21:30:12.436950",
     "exception": false,
     "start_time": "2022-03-27T21:30:12.382830",
     "status": "completed"
    },
    "tags": []
   },
   "outputs": [],
   "source": [
    "###################################\n",
    "# Build the dataset\n",
    "###################################\n",
    "train_original_source = Iterable_Aggregator(train_original_source, p.seed)\n",
    "val_original_source = Iterable_Aggregator(val_original_source, p.seed)\n",
    "test_original_source = Iterable_Aggregator(test_original_source, p.seed)\n",
    "\n",
    "\n",
    "train_original_target = Iterable_Aggregator(train_original_target, p.seed)\n",
    "val_original_target = Iterable_Aggregator(val_original_target, p.seed)\n",
    "test_original_target = Iterable_Aggregator(test_original_target, p.seed)\n",
    "\n",
    "# For CNN We only use X and Y. And we only train on the source.\n",
    "# Properly form the data using a transform lambda and Lazy_Iterable_Wrapper. Finally wrap them in a dataloader\n",
    "\n",
    "transform_lambda = lambda ex: ex[1] # Original is (<domain>, <episode>) so we strip down to episode only\n",
    "\n",
    "train_processed_source = Lazy_Iterable_Wrapper(train_original_source, transform_lambda)\n",
    "val_processed_source   = Lazy_Iterable_Wrapper(val_original_source, transform_lambda)\n",
    "test_processed_source  = Lazy_Iterable_Wrapper(test_original_source, transform_lambda)\n",
    "\n",
    "train_processed_target = Lazy_Iterable_Wrapper(train_original_target, transform_lambda)\n",
    "val_processed_target   = Lazy_Iterable_Wrapper(val_original_target, transform_lambda)\n",
    "test_processed_target  = Lazy_Iterable_Wrapper(test_original_target, transform_lambda)\n",
    "\n",
    "datasets = EasyDict({\n",
    "    \"source\": {\n",
    "        \"original\": {\"train\":train_original_source, \"val\":val_original_source, \"test\":test_original_source},\n",
    "        \"processed\": {\"train\":train_processed_source, \"val\":val_processed_source, \"test\":test_processed_source}\n",
    "    },\n",
    "    \"target\": {\n",
    "        \"original\": {\"train\":train_original_target, \"val\":val_original_target, \"test\":test_original_target},\n",
    "        \"processed\": {\"train\":train_processed_target, \"val\":val_processed_target, \"test\":test_processed_target}\n",
    "    },\n",
    "})"
   ]
  },
  {
   "cell_type": "code",
   "execution_count": 20,
   "id": "5b3c01fc",
   "metadata": {
    "execution": {
     "iopub.execute_input": "2022-03-27T21:30:12.491914Z",
     "iopub.status.busy": "2022-03-27T21:30:12.491069Z",
     "iopub.status.idle": "2022-03-27T21:30:27.469005Z",
     "shell.execute_reply": "2022-03-27T21:30:27.469817Z"
    },
    "papermill": {
     "duration": 15.00379,
     "end_time": "2022-03-27T21:30:27.470033",
     "exception": false,
     "start_time": "2022-03-27T21:30:12.466243",
     "status": "completed"
    },
    "tags": []
   },
   "outputs": [
    {
     "name": "stdout",
     "output_type": "stream",
     "text": [
      "{'O_14', 'O_44', 'O_8', 'O_38', 'O_50', 'O_20', 'O_26', 'O_32'}\n"
     ]
    },
    {
     "name": "stdout",
     "output_type": "stream",
     "text": [
      "{'C_2', 'C_3', 'C_4', 'C_5', 'C_1'}\n"
     ]
    },
    {
     "name": "stdout",
     "output_type": "stream",
     "text": [
      "tensor([[[ 0.5423,  1.1944, -0.2807,  ...,  0.4041, -0.0787,  1.0690],\n",
      "         [-0.4198,  0.2945,  0.3174,  ...,  0.6411,  1.0944,  0.1693]],\n",
      "\n",
      "        [[ 0.1078,  1.3450,  0.2456,  ...,  0.3707,  0.0437,  1.1405],\n",
      "         [-0.6826, -0.1237,  0.5266,  ...,  0.4243,  1.2597,  0.1902]],\n",
      "\n",
      "        [[-1.0305, -0.1004,  1.5317,  ...,  0.2312, -1.0015, -1.2624],\n",
      "         [-0.3073, -0.3391,  0.0166,  ..., -1.0276, -0.7892, -0.7877]],\n",
      "\n",
      "        ...,\n",
      "\n",
      "        [[-0.3504,  0.1759,  0.4702,  ...,  0.6580,  1.3111,  0.6339],\n",
      "         [-0.2867, -1.2798, -0.1023,  ..., -0.9140,  0.1498, -0.5437]],\n",
      "\n",
      "        [[ 0.5686, -0.2772, -0.7440,  ..., -0.8192, -1.0076, -0.0458],\n",
      "         [ 0.9067,  1.3000, -0.4746,  ...,  0.1979, -0.0920,  1.0664]],\n",
      "\n",
      "        [[ 0.4492, -0.5145, -0.8789,  ..., -1.1034, -0.9434, -0.2885],\n",
      "         [ 1.0532,  1.2647, -0.7126,  ...,  0.1576,  0.2106,  1.4365]]])\n"
     ]
    }
   ],
   "source": [
    "from steves_utils.transforms import get_average_magnitude, get_average_power\n",
    "\n",
    "print(set([u for u,_ in val_original_source]))\n",
    "print(set([u for u,_ in val_original_target]))\n",
    "\n",
    "s_x, s_y, q_x, q_y, _ = next(iter(train_processed_source))\n",
    "print(s_x)\n",
    "\n",
    "# for ds in [\n",
    "#     train_processed_source,\n",
    "#     val_processed_source,\n",
    "#     test_processed_source,\n",
    "#     train_processed_target,\n",
    "#     val_processed_target,\n",
    "#     test_processed_target\n",
    "# ]:\n",
    "#     for s_x, s_y, q_x, q_y, _ in ds:\n",
    "#         for X in (s_x, q_x):\n",
    "#             for x in X:\n",
    "#                 assert np.isclose(get_average_magnitude(x.numpy()), 1.0)\n",
    "#                 assert np.isclose(get_average_power(x.numpy()), 1.0)\n",
    "                "
   ]
  },
  {
   "cell_type": "code",
   "execution_count": 21,
   "id": "bbdacba1",
   "metadata": {
    "execution": {
     "iopub.execute_input": "2022-03-27T21:30:27.523994Z",
     "iopub.status.busy": "2022-03-27T21:30:27.523613Z",
     "iopub.status.idle": "2022-03-27T21:30:27.608968Z",
     "shell.execute_reply": "2022-03-27T21:30:27.608201Z"
    },
    "papermill": {
     "duration": 0.112566,
     "end_time": "2022-03-27T21:30:27.609138",
     "exception": false,
     "start_time": "2022-03-27T21:30:27.496572",
     "status": "completed"
    },
    "tags": []
   },
   "outputs": [
    {
     "name": "stdout",
     "output_type": "stream",
     "text": [
      "(2, 200)\n"
     ]
    }
   ],
   "source": [
    "###################################\n",
    "# Build the model\n",
    "###################################\n",
    "# easfsl only wants a tuple for the shape\n",
    "model = Steves_Prototypical_Network(x_net, device=p.device, x_shape=tuple(p.x_shape))\n",
    "optimizer = Adam(params=model.parameters(), lr=p.lr)"
   ]
  },
  {
   "cell_type": "code",
   "execution_count": 22,
   "id": "22b39ac5",
   "metadata": {
    "execution": {
     "iopub.execute_input": "2022-03-27T21:30:27.666902Z",
     "iopub.status.busy": "2022-03-27T21:30:27.666525Z",
     "iopub.status.idle": "2022-03-27T22:48:01.618694Z",
     "shell.execute_reply": "2022-03-27T22:48:01.618073Z"
    },
    "papermill": {
     "duration": 4653.979436,
     "end_time": "2022-03-27T22:48:01.618788",
     "exception": false,
     "start_time": "2022-03-27T21:30:27.639352",
     "status": "completed"
    },
    "tags": []
   },
   "outputs": [
    {
     "name": "stdout",
     "output_type": "stream",
     "text": [
      "epoch: 1, [batch: 1 / 6720], examples_per_second: 31.9943, train_label_loss: 2.9229, \n"
     ]
    },
    {
     "name": "stdout",
     "output_type": "stream",
     "text": [
      "epoch: 1, [batch: 672 / 6720], examples_per_second: 2282.3032, train_label_loss: 1.6794, \n"
     ]
    },
    {
     "name": "stdout",
     "output_type": "stream",
     "text": [
      "epoch: 1, [batch: 1344 / 6720], examples_per_second: 2250.3740, train_label_loss: 0.8904, \n"
     ]
    },
    {
     "name": "stdout",
     "output_type": "stream",
     "text": [
      "epoch: 1, [batch: 2016 / 6720], examples_per_second: 2361.5284, train_label_loss: 0.8128, \n"
     ]
    },
    {
     "name": "stdout",
     "output_type": "stream",
     "text": [
      "epoch: 1, [batch: 2688 / 6720], examples_per_second: 2633.9858, train_label_loss: 0.8007, \n"
     ]
    },
    {
     "name": "stdout",
     "output_type": "stream",
     "text": [
      "epoch: 1, [batch: 3360 / 6720], examples_per_second: 2301.8103, train_label_loss: 0.7183, \n"
     ]
    },
    {
     "name": "stdout",
     "output_type": "stream",
     "text": [
      "epoch: 1, [batch: 4032 / 6720], examples_per_second: 2259.6331, train_label_loss: 0.8628, \n"
     ]
    },
    {
     "name": "stdout",
     "output_type": "stream",
     "text": [
      "epoch: 1, [batch: 4704 / 6720], examples_per_second: 2825.1434, train_label_loss: 0.6561, \n"
     ]
    },
    {
     "name": "stdout",
     "output_type": "stream",
     "text": [
      "epoch: 1, [batch: 5376 / 6720], examples_per_second: 2370.6355, train_label_loss: 0.7362, \n"
     ]
    },
    {
     "name": "stdout",
     "output_type": "stream",
     "text": [
      "epoch: 1, [batch: 6048 / 6720], examples_per_second: 2311.5047, train_label_loss: 1.0053, \n"
     ]
    },
    {
     "name": "stdout",
     "output_type": "stream",
     "text": [
      "=============================================================\n",
      "epoch: 1, source_val_acc_label: 0.6329, target_val_acc_label: 0.6097, source_val_label_loss: 1.1697, target_val_label_loss: 11.2211, \n",
      "=============================================================\n"
     ]
    },
    {
     "name": "stdout",
     "output_type": "stream",
     "text": [
      "New best\n"
     ]
    },
    {
     "name": "stdout",
     "output_type": "stream",
     "text": [
      "epoch: 2, [batch: 1 / 6720], examples_per_second: 2.1653, train_label_loss: 1.1210, \n"
     ]
    },
    {
     "name": "stdout",
     "output_type": "stream",
     "text": [
      "epoch: 2, [batch: 672 / 6720], examples_per_second: 2259.9303, train_label_loss: 1.2257, \n"
     ]
    },
    {
     "name": "stdout",
     "output_type": "stream",
     "text": [
      "epoch: 2, [batch: 1344 / 6720], examples_per_second: 2871.7578, train_label_loss: 0.8572, \n"
     ]
    },
    {
     "name": "stdout",
     "output_type": "stream",
     "text": [
      "epoch: 2, [batch: 2016 / 6720], examples_per_second: 2245.5841, train_label_loss: 0.6992, \n"
     ]
    },
    {
     "name": "stdout",
     "output_type": "stream",
     "text": [
      "epoch: 2, [batch: 2688 / 6720], examples_per_second: 2246.0779, train_label_loss: 0.5450, \n"
     ]
    },
    {
     "name": "stdout",
     "output_type": "stream",
     "text": [
      "epoch: 2, [batch: 3360 / 6720], examples_per_second: 2683.1699, train_label_loss: 0.5023, \n"
     ]
    },
    {
     "name": "stdout",
     "output_type": "stream",
     "text": [
      "epoch: 2, [batch: 4032 / 6720], examples_per_second: 2304.7552, train_label_loss: 0.8613, \n"
     ]
    },
    {
     "name": "stdout",
     "output_type": "stream",
     "text": [
      "epoch: 2, [batch: 4704 / 6720], examples_per_second: 2209.9626, train_label_loss: 0.6694, \n"
     ]
    },
    {
     "name": "stdout",
     "output_type": "stream",
     "text": [
      "epoch: 2, [batch: 5376 / 6720], examples_per_second: 2311.2047, train_label_loss: 1.0907, \n"
     ]
    },
    {
     "name": "stdout",
     "output_type": "stream",
     "text": [
      "epoch: 2, [batch: 6048 / 6720], examples_per_second: 2802.9390, train_label_loss: 0.4681, \n"
     ]
    },
    {
     "name": "stdout",
     "output_type": "stream",
     "text": [
      "=============================================================\n",
      "epoch: 2, source_val_acc_label: 0.7712, target_val_acc_label: 0.7948, source_val_label_loss: 0.6328, target_val_label_loss: 2.3378, \n",
      "=============================================================\n"
     ]
    },
    {
     "name": "stdout",
     "output_type": "stream",
     "text": [
      "New best\n"
     ]
    },
    {
     "name": "stdout",
     "output_type": "stream",
     "text": [
      "epoch: 3, [batch: 1 / 6720], examples_per_second: 2.1697, train_label_loss: 1.1262, \n"
     ]
    },
    {
     "name": "stdout",
     "output_type": "stream",
     "text": [
      "epoch: 3, [batch: 672 / 6720], examples_per_second: 2250.2140, train_label_loss: 0.3775, \n"
     ]
    },
    {
     "name": "stdout",
     "output_type": "stream",
     "text": [
      "epoch: 3, [batch: 1344 / 6720], examples_per_second: 2269.1837, train_label_loss: 0.3182, \n"
     ]
    },
    {
     "name": "stdout",
     "output_type": "stream",
     "text": [
      "epoch: 3, [batch: 2016 / 6720], examples_per_second: 2875.8329, train_label_loss: 0.3960, \n"
     ]
    },
    {
     "name": "stdout",
     "output_type": "stream",
     "text": [
      "epoch: 3, [batch: 2688 / 6720], examples_per_second: 3545.7233, train_label_loss: 0.4399, \n"
     ]
    },
    {
     "name": "stdout",
     "output_type": "stream",
     "text": [
      "epoch: 3, [batch: 3360 / 6720], examples_per_second: 3972.5265, train_label_loss: 0.3921, \n"
     ]
    },
    {
     "name": "stdout",
     "output_type": "stream",
     "text": [
      "epoch: 3, [batch: 4032 / 6720], examples_per_second: 4507.8910, train_label_loss: 0.5674, \n"
     ]
    },
    {
     "name": "stdout",
     "output_type": "stream",
     "text": [
      "epoch: 3, [batch: 4704 / 6720], examples_per_second: 5343.1375, train_label_loss: 0.6313, \n"
     ]
    },
    {
     "name": "stdout",
     "output_type": "stream",
     "text": [
      "epoch: 3, [batch: 5376 / 6720], examples_per_second: 5541.2499, train_label_loss: 0.9190, \n"
     ]
    },
    {
     "name": "stdout",
     "output_type": "stream",
     "text": [
      "epoch: 3, [batch: 6048 / 6720], examples_per_second: 5761.4980, train_label_loss: 0.8168, \n"
     ]
    },
    {
     "name": "stdout",
     "output_type": "stream",
     "text": [
      "=============================================================\n",
      "epoch: 3, source_val_acc_label: 0.7978, target_val_acc_label: 0.8010, source_val_label_loss: 0.5538, target_val_label_loss: 1.9582, \n",
      "=============================================================\n"
     ]
    },
    {
     "name": "stdout",
     "output_type": "stream",
     "text": [
      "New best\n"
     ]
    },
    {
     "name": "stdout",
     "output_type": "stream",
     "text": [
      "epoch: 4, [batch: 1 / 6720], examples_per_second: 5.5236, train_label_loss: 0.4539, \n"
     ]
    },
    {
     "name": "stdout",
     "output_type": "stream",
     "text": [
      "epoch: 4, [batch: 672 / 6720], examples_per_second: 5438.2957, train_label_loss: 0.4942, \n"
     ]
    },
    {
     "name": "stdout",
     "output_type": "stream",
     "text": [
      "epoch: 4, [batch: 1344 / 6720], examples_per_second: 5298.8304, train_label_loss: 0.5832, \n"
     ]
    },
    {
     "name": "stdout",
     "output_type": "stream",
     "text": [
      "epoch: 4, [batch: 2016 / 6720], examples_per_second: 5449.5877, train_label_loss: 0.4260, \n"
     ]
    },
    {
     "name": "stdout",
     "output_type": "stream",
     "text": [
      "epoch: 4, [batch: 2688 / 6720], examples_per_second: 5444.1720, train_label_loss: 0.6233, \n"
     ]
    },
    {
     "name": "stdout",
     "output_type": "stream",
     "text": [
      "epoch: 4, [batch: 3360 / 6720], examples_per_second: 5636.4168, train_label_loss: 0.8535, \n"
     ]
    },
    {
     "name": "stdout",
     "output_type": "stream",
     "text": [
      "epoch: 4, [batch: 4032 / 6720], examples_per_second: 5125.4049, train_label_loss: 0.7338, \n"
     ]
    },
    {
     "name": "stdout",
     "output_type": "stream",
     "text": [
      "epoch: 4, [batch: 4704 / 6720], examples_per_second: 2284.7554, train_label_loss: 1.1250, \n"
     ]
    },
    {
     "name": "stdout",
     "output_type": "stream",
     "text": [
      "epoch: 4, [batch: 5376 / 6720], examples_per_second: 2306.8738, train_label_loss: 0.5728, \n"
     ]
    },
    {
     "name": "stdout",
     "output_type": "stream",
     "text": [
      "epoch: 4, [batch: 6048 / 6720], examples_per_second: 2385.7466, train_label_loss: 0.5763, \n"
     ]
    },
    {
     "name": "stdout",
     "output_type": "stream",
     "text": [
      "=============================================================\n",
      "epoch: 4, source_val_acc_label: 0.8358, target_val_acc_label: 0.7749, source_val_label_loss: 0.4631, target_val_label_loss: 3.2667, \n",
      "=============================================================\n"
     ]
    },
    {
     "name": "stdout",
     "output_type": "stream",
     "text": [
      "epoch: 5, [batch: 1 / 6720], examples_per_second: 2.1702, train_label_loss: 0.5103, \n"
     ]
    },
    {
     "name": "stdout",
     "output_type": "stream",
     "text": [
      "epoch: 5, [batch: 672 / 6720], examples_per_second: 2761.0648, train_label_loss: 0.5593, \n"
     ]
    },
    {
     "name": "stdout",
     "output_type": "stream",
     "text": [
      "epoch: 5, [batch: 1344 / 6720], examples_per_second: 2285.5868, train_label_loss: 0.3519, \n"
     ]
    },
    {
     "name": "stdout",
     "output_type": "stream",
     "text": [
      "epoch: 5, [batch: 2016 / 6720], examples_per_second: 2302.0930, train_label_loss: 0.2519, \n"
     ]
    },
    {
     "name": "stdout",
     "output_type": "stream",
     "text": [
      "epoch: 5, [batch: 2688 / 6720], examples_per_second: 2680.1356, train_label_loss: 0.2631, \n"
     ]
    },
    {
     "name": "stdout",
     "output_type": "stream",
     "text": [
      "epoch: 5, [batch: 3360 / 6720], examples_per_second: 2452.4108, train_label_loss: 0.4321, \n"
     ]
    },
    {
     "name": "stdout",
     "output_type": "stream",
     "text": [
      "epoch: 5, [batch: 4032 / 6720], examples_per_second: 2280.2755, train_label_loss: 0.2030, \n"
     ]
    },
    {
     "name": "stdout",
     "output_type": "stream",
     "text": [
      "epoch: 5, [batch: 4704 / 6720], examples_per_second: 2296.8492, train_label_loss: 0.2909, \n"
     ]
    },
    {
     "name": "stdout",
     "output_type": "stream",
     "text": [
      "epoch: 5, [batch: 5376 / 6720], examples_per_second: 2840.7241, train_label_loss: 0.1877, \n"
     ]
    },
    {
     "name": "stdout",
     "output_type": "stream",
     "text": [
      "epoch: 5, [batch: 6048 / 6720], examples_per_second: 2289.6053, train_label_loss: 0.5341, \n"
     ]
    },
    {
     "name": "stdout",
     "output_type": "stream",
     "text": [
      "=============================================================\n",
      "epoch: 5, source_val_acc_label: 0.8373, target_val_acc_label: 0.7920, source_val_label_loss: 0.4448, target_val_label_loss: 2.4855, \n",
      "=============================================================\n"
     ]
    },
    {
     "name": "stdout",
     "output_type": "stream",
     "text": [
      "epoch: 6, [batch: 1 / 6720], examples_per_second: 2.1695, train_label_loss: 0.8332, \n"
     ]
    },
    {
     "name": "stdout",
     "output_type": "stream",
     "text": [
      "epoch: 6, [batch: 672 / 6720], examples_per_second: 2317.7627, train_label_loss: 0.3308, \n"
     ]
    },
    {
     "name": "stdout",
     "output_type": "stream",
     "text": [
      "epoch: 6, [batch: 1344 / 6720], examples_per_second: 2587.9771, train_label_loss: 0.3313, \n"
     ]
    },
    {
     "name": "stdout",
     "output_type": "stream",
     "text": [
      "epoch: 6, [batch: 2016 / 6720], examples_per_second: 2632.6486, train_label_loss: 0.5401, \n"
     ]
    },
    {
     "name": "stdout",
     "output_type": "stream",
     "text": [
      "epoch: 6, [batch: 2688 / 6720], examples_per_second: 2260.5127, train_label_loss: 0.3355, \n"
     ]
    },
    {
     "name": "stdout",
     "output_type": "stream",
     "text": [
      "epoch: 6, [batch: 3360 / 6720], examples_per_second: 2258.3154, train_label_loss: 0.4594, \n"
     ]
    },
    {
     "name": "stdout",
     "output_type": "stream",
     "text": [
      "epoch: 6, [batch: 4032 / 6720], examples_per_second: 2806.8758, train_label_loss: 0.3790, \n"
     ]
    },
    {
     "name": "stdout",
     "output_type": "stream",
     "text": [
      "epoch: 6, [batch: 4704 / 6720], examples_per_second: 2252.9891, train_label_loss: 0.4175, \n"
     ]
    },
    {
     "name": "stdout",
     "output_type": "stream",
     "text": [
      "epoch: 6, [batch: 5376 / 6720], examples_per_second: 2252.4482, train_label_loss: 0.1520, \n"
     ]
    },
    {
     "name": "stdout",
     "output_type": "stream",
     "text": [
      "epoch: 6, [batch: 6048 / 6720], examples_per_second: 2482.7572, train_label_loss: 0.7126, \n"
     ]
    },
    {
     "name": "stdout",
     "output_type": "stream",
     "text": [
      "=============================================================\n",
      "epoch: 6, source_val_acc_label: 0.8369, target_val_acc_label: 0.8164, source_val_label_loss: 0.4466, target_val_label_loss: 1.9967, \n",
      "=============================================================\n"
     ]
    },
    {
     "name": "stdout",
     "output_type": "stream",
     "text": [
      "New best\n"
     ]
    },
    {
     "name": "stdout",
     "output_type": "stream",
     "text": [
      "epoch: 7, [batch: 1 / 6720], examples_per_second: 2.1027, train_label_loss: 0.2994, \n"
     ]
    },
    {
     "name": "stdout",
     "output_type": "stream",
     "text": [
      "epoch: 7, [batch: 672 / 6720], examples_per_second: 2337.2052, train_label_loss: 0.3689, \n"
     ]
    },
    {
     "name": "stdout",
     "output_type": "stream",
     "text": [
      "epoch: 7, [batch: 1344 / 6720], examples_per_second: 2212.1792, train_label_loss: 0.5602, \n"
     ]
    },
    {
     "name": "stdout",
     "output_type": "stream",
     "text": [
      "epoch: 7, [batch: 2016 / 6720], examples_per_second: 2253.2630, train_label_loss: 0.2628, \n"
     ]
    },
    {
     "name": "stdout",
     "output_type": "stream",
     "text": [
      "epoch: 7, [batch: 2688 / 6720], examples_per_second: 2761.5186, train_label_loss: 0.3266, \n"
     ]
    },
    {
     "name": "stdout",
     "output_type": "stream",
     "text": [
      "epoch: 7, [batch: 3360 / 6720], examples_per_second: 1806.1004, train_label_loss: 0.3206, \n"
     ]
    },
    {
     "name": "stdout",
     "output_type": "stream",
     "text": [
      "epoch: 7, [batch: 4032 / 6720], examples_per_second: 1730.6406, train_label_loss: 0.6396, \n"
     ]
    },
    {
     "name": "stdout",
     "output_type": "stream",
     "text": [
      "epoch: 7, [batch: 4704 / 6720], examples_per_second: 2088.5936, train_label_loss: 0.5804, \n"
     ]
    },
    {
     "name": "stdout",
     "output_type": "stream",
     "text": [
      "epoch: 7, [batch: 5376 / 6720], examples_per_second: 1723.0139, train_label_loss: 0.2700, \n"
     ]
    },
    {
     "name": "stdout",
     "output_type": "stream",
     "text": [
      "epoch: 7, [batch: 6048 / 6720], examples_per_second: 1715.9597, train_label_loss: 0.2361, \n"
     ]
    },
    {
     "name": "stdout",
     "output_type": "stream",
     "text": [
      "=============================================================\n",
      "epoch: 7, source_val_acc_label: 0.8565, target_val_acc_label: 0.8097, source_val_label_loss: 0.3984, target_val_label_loss: 2.3183, \n",
      "=============================================================\n"
     ]
    },
    {
     "name": "stdout",
     "output_type": "stream",
     "text": [
      "epoch: 8, [batch: 1 / 6720], examples_per_second: 1.4950, train_label_loss: 0.4846, \n"
     ]
    },
    {
     "name": "stdout",
     "output_type": "stream",
     "text": [
      "epoch: 8, [batch: 672 / 6720], examples_per_second: 2014.9213, train_label_loss: 0.3909, \n"
     ]
    },
    {
     "name": "stdout",
     "output_type": "stream",
     "text": [
      "epoch: 8, [batch: 1344 / 6720], examples_per_second: 1857.1476, train_label_loss: 0.1836, \n"
     ]
    },
    {
     "name": "stdout",
     "output_type": "stream",
     "text": [
      "epoch: 8, [batch: 2016 / 6720], examples_per_second: 1869.2007, train_label_loss: 0.6414, \n"
     ]
    },
    {
     "name": "stdout",
     "output_type": "stream",
     "text": [
      "epoch: 8, [batch: 2688 / 6720], examples_per_second: 2280.9258, train_label_loss: 0.1996, \n"
     ]
    },
    {
     "name": "stdout",
     "output_type": "stream",
     "text": [
      "epoch: 8, [batch: 3360 / 6720], examples_per_second: 1719.1547, train_label_loss: 0.1167, \n"
     ]
    },
    {
     "name": "stdout",
     "output_type": "stream",
     "text": [
      "epoch: 8, [batch: 4032 / 6720], examples_per_second: 1730.3814, train_label_loss: 0.7825, \n"
     ]
    },
    {
     "name": "stdout",
     "output_type": "stream",
     "text": [
      "epoch: 8, [batch: 4704 / 6720], examples_per_second: 2302.6854, train_label_loss: 0.2296, \n"
     ]
    },
    {
     "name": "stdout",
     "output_type": "stream",
     "text": [
      "epoch: 8, [batch: 5376 / 6720], examples_per_second: 2426.5887, train_label_loss: 0.2810, \n"
     ]
    },
    {
     "name": "stdout",
     "output_type": "stream",
     "text": [
      "epoch: 8, [batch: 6048 / 6720], examples_per_second: 3186.7405, train_label_loss: 0.3750, \n"
     ]
    },
    {
     "name": "stdout",
     "output_type": "stream",
     "text": [
      "=============================================================\n",
      "epoch: 8, source_val_acc_label: 0.8632, target_val_acc_label: 0.8303, source_val_label_loss: 0.3800, target_val_label_loss: 1.8851, \n",
      "=============================================================\n"
     ]
    },
    {
     "name": "stdout",
     "output_type": "stream",
     "text": [
      "New best\n"
     ]
    },
    {
     "name": "stdout",
     "output_type": "stream",
     "text": [
      "epoch: 9, [batch: 1 / 6720], examples_per_second: 3.9914, train_label_loss: 0.1518, \n"
     ]
    },
    {
     "name": "stdout",
     "output_type": "stream",
     "text": [
      "epoch: 9, [batch: 672 / 6720], examples_per_second: 4320.4519, train_label_loss: 0.2942, \n"
     ]
    },
    {
     "name": "stdout",
     "output_type": "stream",
     "text": [
      "epoch: 9, [batch: 1344 / 6720], examples_per_second: 4435.2586, train_label_loss: 0.3789, \n"
     ]
    },
    {
     "name": "stdout",
     "output_type": "stream",
     "text": [
      "epoch: 9, [batch: 2016 / 6720], examples_per_second: 4678.1552, train_label_loss: 0.4728, \n"
     ]
    },
    {
     "name": "stdout",
     "output_type": "stream",
     "text": [
      "epoch: 9, [batch: 2688 / 6720], examples_per_second: 4089.2829, train_label_loss: 0.1258, \n"
     ]
    },
    {
     "name": "stdout",
     "output_type": "stream",
     "text": [
      "epoch: 9, [batch: 3360 / 6720], examples_per_second: 4159.1793, train_label_loss: 0.2263, \n"
     ]
    },
    {
     "name": "stdout",
     "output_type": "stream",
     "text": [
      "epoch: 9, [batch: 4032 / 6720], examples_per_second: 4185.1742, train_label_loss: 0.1829, \n"
     ]
    },
    {
     "name": "stdout",
     "output_type": "stream",
     "text": [
      "epoch: 9, [batch: 4704 / 6720], examples_per_second: 3262.1722, train_label_loss: 0.2542, \n"
     ]
    },
    {
     "name": "stdout",
     "output_type": "stream",
     "text": [
      "epoch: 9, [batch: 5376 / 6720], examples_per_second: 1732.3091, train_label_loss: 0.2684, \n"
     ]
    },
    {
     "name": "stdout",
     "output_type": "stream",
     "text": [
      "epoch: 9, [batch: 6048 / 6720], examples_per_second: 1743.9942, train_label_loss: 0.3608, \n"
     ]
    },
    {
     "name": "stdout",
     "output_type": "stream",
     "text": [
      "=============================================================\n",
      "epoch: 9, source_val_acc_label: 0.8811, target_val_acc_label: 0.8274, source_val_label_loss: 0.3272, target_val_label_loss: 1.9766, \n",
      "=============================================================\n"
     ]
    },
    {
     "name": "stdout",
     "output_type": "stream",
     "text": [
      "epoch: 10, [batch: 1 / 6720], examples_per_second: 1.5573, train_label_loss: 0.1316, \n"
     ]
    },
    {
     "name": "stdout",
     "output_type": "stream",
     "text": [
      "epoch: 10, [batch: 672 / 6720], examples_per_second: 2271.2864, train_label_loss: 0.1240, \n"
     ]
    },
    {
     "name": "stdout",
     "output_type": "stream",
     "text": [
      "epoch: 10, [batch: 1344 / 6720], examples_per_second: 1889.4608, train_label_loss: 0.2298, \n"
     ]
    },
    {
     "name": "stdout",
     "output_type": "stream",
     "text": [
      "epoch: 10, [batch: 2016 / 6720], examples_per_second: 1878.4627, train_label_loss: 0.0796, \n"
     ]
    },
    {
     "name": "stdout",
     "output_type": "stream",
     "text": [
      "epoch: 10, [batch: 2688 / 6720], examples_per_second: 2063.9061, train_label_loss: 0.2968, \n"
     ]
    },
    {
     "name": "stdout",
     "output_type": "stream",
     "text": [
      "epoch: 10, [batch: 3360 / 6720], examples_per_second: 1733.0980, train_label_loss: 0.1799, \n"
     ]
    },
    {
     "name": "stdout",
     "output_type": "stream",
     "text": [
      "epoch: 10, [batch: 4032 / 6720], examples_per_second: 1753.4129, train_label_loss: 0.1026, \n"
     ]
    },
    {
     "name": "stdout",
     "output_type": "stream",
     "text": [
      "epoch: 10, [batch: 4704 / 6720], examples_per_second: 2028.1159, train_label_loss: 0.2756, \n"
     ]
    },
    {
     "name": "stdout",
     "output_type": "stream",
     "text": [
      "epoch: 10, [batch: 5376 / 6720], examples_per_second: 1768.6604, train_label_loss: 0.3057, \n"
     ]
    },
    {
     "name": "stdout",
     "output_type": "stream",
     "text": [
      "epoch: 10, [batch: 6048 / 6720], examples_per_second: 1723.6539, train_label_loss: 0.6082, \n"
     ]
    },
    {
     "name": "stdout",
     "output_type": "stream",
     "text": [
      "=============================================================\n",
      "epoch: 10, source_val_acc_label: 0.8757, target_val_acc_label: 0.8234, source_val_label_loss: 0.3375, target_val_label_loss: 2.4501, \n",
      "=============================================================\n"
     ]
    },
    {
     "name": "stdout",
     "output_type": "stream",
     "text": [
      "epoch: 11, [batch: 1 / 6720], examples_per_second: 1.5294, train_label_loss: 0.1823, \n"
     ]
    },
    {
     "name": "stdout",
     "output_type": "stream",
     "text": [
      "epoch: 11, [batch: 672 / 6720], examples_per_second: 2305.7450, train_label_loss: 0.1212, \n"
     ]
    },
    {
     "name": "stdout",
     "output_type": "stream",
     "text": [
      "epoch: 11, [batch: 1344 / 6720], examples_per_second: 1896.0057, train_label_loss: 0.5178, \n"
     ]
    },
    {
     "name": "stdout",
     "output_type": "stream",
     "text": [
      "epoch: 11, [batch: 2016 / 6720], examples_per_second: 1713.3222, train_label_loss: 0.2416, \n"
     ]
    },
    {
     "name": "stdout",
     "output_type": "stream",
     "text": [
      "epoch: 11, [batch: 2688 / 6720], examples_per_second: 2098.6274, train_label_loss: 0.2444, \n"
     ]
    },
    {
     "name": "stdout",
     "output_type": "stream",
     "text": [
      "epoch: 11, [batch: 3360 / 6720], examples_per_second: 1721.7490, train_label_loss: 0.3168, \n"
     ]
    },
    {
     "name": "stdout",
     "output_type": "stream",
     "text": [
      "epoch: 11, [batch: 4032 / 6720], examples_per_second: 1728.4214, train_label_loss: 0.5257, \n"
     ]
    },
    {
     "name": "stdout",
     "output_type": "stream",
     "text": [
      "epoch: 11, [batch: 4704 / 6720], examples_per_second: 2035.8286, train_label_loss: 0.0818, \n"
     ]
    },
    {
     "name": "stdout",
     "output_type": "stream",
     "text": [
      "epoch: 11, [batch: 5376 / 6720], examples_per_second: 1779.7424, train_label_loss: 0.5604, \n"
     ]
    },
    {
     "name": "stdout",
     "output_type": "stream",
     "text": [
      "epoch: 11, [batch: 6048 / 6720], examples_per_second: 1724.8464, train_label_loss: 0.2344, \n"
     ]
    },
    {
     "name": "stdout",
     "output_type": "stream",
     "text": [
      "=============================================================\n",
      "epoch: 11, source_val_acc_label: 0.8822, target_val_acc_label: 0.8191, source_val_label_loss: 0.3279, target_val_label_loss: 2.6144, \n",
      "=============================================================\n"
     ]
    },
    {
     "name": "stdout",
     "output_type": "stream",
     "text": [
      "epoch: 12, [batch: 1 / 6720], examples_per_second: 1.5350, train_label_loss: 0.2935, \n"
     ]
    },
    {
     "name": "stdout",
     "output_type": "stream",
     "text": [
      "epoch: 12, [batch: 672 / 6720], examples_per_second: 2194.2532, train_label_loss: 0.6339, \n"
     ]
    },
    {
     "name": "stdout",
     "output_type": "stream",
     "text": [
      "epoch: 12, [batch: 1344 / 6720], examples_per_second: 1796.5025, train_label_loss: 0.1528, \n"
     ]
    },
    {
     "name": "stdout",
     "output_type": "stream",
     "text": [
      "epoch: 12, [batch: 2016 / 6720], examples_per_second: 1708.4903, train_label_loss: 0.2892, \n"
     ]
    },
    {
     "name": "stdout",
     "output_type": "stream",
     "text": [
      "epoch: 12, [batch: 2688 / 6720], examples_per_second: 2123.4274, train_label_loss: 0.4226, \n"
     ]
    },
    {
     "name": "stdout",
     "output_type": "stream",
     "text": [
      "epoch: 12, [batch: 3360 / 6720], examples_per_second: 1724.1365, train_label_loss: 0.0966, \n"
     ]
    },
    {
     "name": "stdout",
     "output_type": "stream",
     "text": [
      "epoch: 12, [batch: 4032 / 6720], examples_per_second: 1735.9756, train_label_loss: 0.5295, \n"
     ]
    },
    {
     "name": "stdout",
     "output_type": "stream",
     "text": [
      "epoch: 12, [batch: 4704 / 6720], examples_per_second: 2054.2366, train_label_loss: 0.2412, \n"
     ]
    },
    {
     "name": "stdout",
     "output_type": "stream",
     "text": [
      "epoch: 12, [batch: 5376 / 6720], examples_per_second: 1728.6267, train_label_loss: 0.3020, \n"
     ]
    },
    {
     "name": "stdout",
     "output_type": "stream",
     "text": [
      "epoch: 12, [batch: 6048 / 6720], examples_per_second: 1723.5587, train_label_loss: 0.1248, \n"
     ]
    },
    {
     "name": "stdout",
     "output_type": "stream",
     "text": [
      "=============================================================\n",
      "epoch: 12, source_val_acc_label: 0.8831, target_val_acc_label: 0.8467, source_val_label_loss: 0.3254, target_val_label_loss: 2.3876, \n",
      "=============================================================\n"
     ]
    },
    {
     "name": "stdout",
     "output_type": "stream",
     "text": [
      "New best\n"
     ]
    },
    {
     "name": "stdout",
     "output_type": "stream",
     "text": [
      "epoch: 13, [batch: 1 / 6720], examples_per_second: 1.5434, train_label_loss: 0.3396, \n"
     ]
    },
    {
     "name": "stdout",
     "output_type": "stream",
     "text": [
      "epoch: 13, [batch: 672 / 6720], examples_per_second: 2096.1568, train_label_loss: 0.0066, \n"
     ]
    },
    {
     "name": "stdout",
     "output_type": "stream",
     "text": [
      "epoch: 13, [batch: 1344 / 6720], examples_per_second: 1714.2620, train_label_loss: 0.3690, \n"
     ]
    },
    {
     "name": "stdout",
     "output_type": "stream",
     "text": [
      "epoch: 13, [batch: 2016 / 6720], examples_per_second: 1728.7527, train_label_loss: 0.3474, \n"
     ]
    },
    {
     "name": "stdout",
     "output_type": "stream",
     "text": [
      "epoch: 13, [batch: 2688 / 6720], examples_per_second: 2472.4052, train_label_loss: 0.0498, \n"
     ]
    },
    {
     "name": "stdout",
     "output_type": "stream",
     "text": [
      "epoch: 13, [batch: 3360 / 6720], examples_per_second: 2525.9216, train_label_loss: 0.1343, \n"
     ]
    },
    {
     "name": "stdout",
     "output_type": "stream",
     "text": [
      "epoch: 13, [batch: 4032 / 6720], examples_per_second: 3142.1263, train_label_loss: 0.1868, \n"
     ]
    },
    {
     "name": "stdout",
     "output_type": "stream",
     "text": [
      "epoch: 13, [batch: 4704 / 6720], examples_per_second: 3974.2504, train_label_loss: 0.3271, \n"
     ]
    },
    {
     "name": "stdout",
     "output_type": "stream",
     "text": [
      "epoch: 13, [batch: 5376 / 6720], examples_per_second: 4015.9431, train_label_loss: 0.1794, \n"
     ]
    },
    {
     "name": "stdout",
     "output_type": "stream",
     "text": [
      "epoch: 13, [batch: 6048 / 6720], examples_per_second: 4082.8264, train_label_loss: 0.2675, \n"
     ]
    },
    {
     "name": "stdout",
     "output_type": "stream",
     "text": [
      "=============================================================\n",
      "epoch: 13, source_val_acc_label: 0.8900, target_val_acc_label: 0.8305, source_val_label_loss: 0.3070, target_val_label_loss: 2.5783, \n",
      "=============================================================\n"
     ]
    },
    {
     "name": "stdout",
     "output_type": "stream",
     "text": [
      "epoch: 14, [batch: 1 / 6720], examples_per_second: 4.4872, train_label_loss: 0.1761, \n"
     ]
    },
    {
     "name": "stdout",
     "output_type": "stream",
     "text": [
      "epoch: 14, [batch: 672 / 6720], examples_per_second: 4043.6767, train_label_loss: 0.0703, \n"
     ]
    },
    {
     "name": "stdout",
     "output_type": "stream",
     "text": [
      "epoch: 14, [batch: 1344 / 6720], examples_per_second: 4206.6116, train_label_loss: 0.1312, \n"
     ]
    },
    {
     "name": "stdout",
     "output_type": "stream",
     "text": [
      "epoch: 14, [batch: 2016 / 6720], examples_per_second: 4077.7739, train_label_loss: 0.2469, \n"
     ]
    },
    {
     "name": "stdout",
     "output_type": "stream",
     "text": [
      "epoch: 14, [batch: 2688 / 6720], examples_per_second: 2117.7471, train_label_loss: 0.0239, \n"
     ]
    },
    {
     "name": "stdout",
     "output_type": "stream",
     "text": [
      "epoch: 14, [batch: 3360 / 6720], examples_per_second: 1738.7986, train_label_loss: 0.2102, \n"
     ]
    },
    {
     "name": "stdout",
     "output_type": "stream",
     "text": [
      "epoch: 14, [batch: 4032 / 6720], examples_per_second: 1775.4651, train_label_loss: 0.1059, \n"
     ]
    },
    {
     "name": "stdout",
     "output_type": "stream",
     "text": [
      "epoch: 14, [batch: 4704 / 6720], examples_per_second: 2172.2060, train_label_loss: 0.1069, \n"
     ]
    },
    {
     "name": "stdout",
     "output_type": "stream",
     "text": [
      "epoch: 14, [batch: 5376 / 6720], examples_per_second: 1729.2467, train_label_loss: 0.1570, \n"
     ]
    },
    {
     "name": "stdout",
     "output_type": "stream",
     "text": [
      "epoch: 14, [batch: 6048 / 6720], examples_per_second: 1741.2897, train_label_loss: 0.1809, \n"
     ]
    },
    {
     "name": "stdout",
     "output_type": "stream",
     "text": [
      "=============================================================\n",
      "epoch: 14, source_val_acc_label: 0.8847, target_val_acc_label: 0.8443, source_val_label_loss: 0.3253, target_val_label_loss: 2.5388, \n",
      "=============================================================\n"
     ]
    },
    {
     "name": "stdout",
     "output_type": "stream",
     "text": [
      "epoch: 15, [batch: 1 / 6720], examples_per_second: 1.6508, train_label_loss: 0.2283, \n"
     ]
    },
    {
     "name": "stdout",
     "output_type": "stream",
     "text": [
      "epoch: 15, [batch: 672 / 6720], examples_per_second: 1867.0681, train_label_loss: 0.2735, \n"
     ]
    },
    {
     "name": "stdout",
     "output_type": "stream",
     "text": [
      "epoch: 15, [batch: 1344 / 6720], examples_per_second: 1733.3760, train_label_loss: 0.2228, \n"
     ]
    },
    {
     "name": "stdout",
     "output_type": "stream",
     "text": [
      "epoch: 15, [batch: 2016 / 6720], examples_per_second: 1789.6545, train_label_loss: 0.0702, \n"
     ]
    },
    {
     "name": "stdout",
     "output_type": "stream",
     "text": [
      "epoch: 15, [batch: 2688 / 6720], examples_per_second: 1983.0308, train_label_loss: 0.2431, \n"
     ]
    },
    {
     "name": "stdout",
     "output_type": "stream",
     "text": [
      "epoch: 15, [batch: 3360 / 6720], examples_per_second: 1727.8009, train_label_loss: 0.0863, \n"
     ]
    },
    {
     "name": "stdout",
     "output_type": "stream",
     "text": [
      "epoch: 15, [batch: 4032 / 6720], examples_per_second: 1717.9298, train_label_loss: 0.2037, \n"
     ]
    },
    {
     "name": "stdout",
     "output_type": "stream",
     "text": [
      "epoch: 15, [batch: 4704 / 6720], examples_per_second: 2011.6054, train_label_loss: 0.4520, \n"
     ]
    },
    {
     "name": "stdout",
     "output_type": "stream",
     "text": [
      "epoch: 15, [batch: 5376 / 6720], examples_per_second: 1719.1621, train_label_loss: 0.1174, \n"
     ]
    },
    {
     "name": "stdout",
     "output_type": "stream",
     "text": [
      "epoch: 15, [batch: 6048 / 6720], examples_per_second: 1740.6064, train_label_loss: 0.0222, \n"
     ]
    },
    {
     "name": "stdout",
     "output_type": "stream",
     "text": [
      "=============================================================\n",
      "epoch: 15, source_val_acc_label: 0.8906, target_val_acc_label: 0.8259, source_val_label_loss: 0.3095, target_val_label_loss: 3.2690, \n",
      "=============================================================\n"
     ]
    },
    {
     "name": "stdout",
     "output_type": "stream",
     "text": [
      "epoch: 16, [batch: 1 / 6720], examples_per_second: 1.6546, train_label_loss: 0.1215, \n"
     ]
    },
    {
     "name": "stdout",
     "output_type": "stream",
     "text": [
      "epoch: 16, [batch: 672 / 6720], examples_per_second: 1863.9300, train_label_loss: 0.3962, \n"
     ]
    },
    {
     "name": "stdout",
     "output_type": "stream",
     "text": [
      "epoch: 16, [batch: 1344 / 6720], examples_per_second: 1864.3118, train_label_loss: 0.4082, \n"
     ]
    },
    {
     "name": "stdout",
     "output_type": "stream",
     "text": [
      "epoch: 16, [batch: 2016 / 6720], examples_per_second: 2169.2417, train_label_loss: 0.0636, \n"
     ]
    },
    {
     "name": "stdout",
     "output_type": "stream",
     "text": [
      "epoch: 16, [batch: 2688 / 6720], examples_per_second: 1914.9880, train_label_loss: 0.2001, \n"
     ]
    },
    {
     "name": "stdout",
     "output_type": "stream",
     "text": [
      "epoch: 16, [batch: 3360 / 6720], examples_per_second: 1843.8080, train_label_loss: 0.0877, \n"
     ]
    },
    {
     "name": "stdout",
     "output_type": "stream",
     "text": [
      "epoch: 16, [batch: 4032 / 6720], examples_per_second: 2046.8077, train_label_loss: 0.2055, \n"
     ]
    },
    {
     "name": "stdout",
     "output_type": "stream",
     "text": [
      "epoch: 16, [batch: 4704 / 6720], examples_per_second: 1942.2236, train_label_loss: 0.1208, \n"
     ]
    },
    {
     "name": "stdout",
     "output_type": "stream",
     "text": [
      "epoch: 16, [batch: 5376 / 6720], examples_per_second: 1861.7078, train_label_loss: 0.2588, \n"
     ]
    },
    {
     "name": "stdout",
     "output_type": "stream",
     "text": [
      "epoch: 16, [batch: 6048 / 6720], examples_per_second: 2199.9763, train_label_loss: 0.1409, \n"
     ]
    },
    {
     "name": "stdout",
     "output_type": "stream",
     "text": [
      "=============================================================\n",
      "epoch: 16, source_val_acc_label: 0.8909, target_val_acc_label: 0.8213, source_val_label_loss: 0.3126, target_val_label_loss: 3.3443, \n",
      "=============================================================\n"
     ]
    },
    {
     "name": "stdout",
     "output_type": "stream",
     "text": [
      "Patience (3) exhausted\n"
     ]
    }
   ],
   "source": [
    "###################################\n",
    "# train\n",
    "###################################\n",
    "jig = PTN_Train_Eval_Test_Jig(model, p.BEST_MODEL_PATH, p.device)\n",
    "\n",
    "jig.train(\n",
    "    train_iterable=datasets.source.processed.train,\n",
    "    source_val_iterable=datasets.source.processed.val,\n",
    "    target_val_iterable=datasets.target.processed.val,\n",
    "    num_epochs=p.n_epoch,\n",
    "    num_logs_per_epoch=p.NUM_LOGS_PER_EPOCH,\n",
    "    patience=p.patience,\n",
    "    optimizer=optimizer,\n",
    "    criteria_for_best=p.criteria_for_best,\n",
    ")"
   ]
  },
  {
   "cell_type": "code",
   "execution_count": 23,
   "id": "31e8fabf",
   "metadata": {
    "execution": {
     "iopub.execute_input": "2022-03-27T22:48:01.779282Z",
     "iopub.status.busy": "2022-03-27T22:48:01.777887Z",
     "iopub.status.idle": "2022-03-27T22:48:01.961749Z",
     "shell.execute_reply": "2022-03-27T22:48:01.962431Z"
    },
    "papermill": {
     "duration": 0.272722,
     "end_time": "2022-03-27T22:48:01.962681",
     "exception": false,
     "start_time": "2022-03-27T22:48:01.689959",
     "status": "completed"
    },
    "tags": []
   },
   "outputs": [],
   "source": [
    "total_experiment_time_secs = time.time() - start_time_secs"
   ]
  },
  {
   "cell_type": "code",
   "execution_count": 24,
   "id": "87b9595b",
   "metadata": {
    "execution": {
     "iopub.execute_input": "2022-03-27T22:48:02.136434Z",
     "iopub.status.busy": "2022-03-27T22:48:02.135505Z",
     "iopub.status.idle": "2022-03-27T22:50:33.997406Z",
     "shell.execute_reply": "2022-03-27T22:50:33.996626Z"
    },
    "papermill": {
     "duration": 151.958777,
     "end_time": "2022-03-27T22:50:33.997613",
     "exception": false,
     "start_time": "2022-03-27T22:48:02.038836",
     "status": "completed"
    },
    "tags": []
   },
   "outputs": [],
   "source": [
    "###################################\n",
    "# Evaluate the model\n",
    "###################################\n",
    "source_test_label_accuracy, source_test_label_loss = jig.test(datasets.source.processed.test)\n",
    "target_test_label_accuracy, target_test_label_loss = jig.test(datasets.target.processed.test)\n",
    "\n",
    "source_val_label_accuracy, source_val_label_loss = jig.test(datasets.source.processed.val)\n",
    "target_val_label_accuracy, target_val_label_loss = jig.test(datasets.target.processed.val)\n",
    "\n",
    "history = jig.get_history()\n",
    "\n",
    "total_epochs_trained = len(history[\"epoch_indices\"])\n",
    "\n",
    "val_dl = Iterable_Aggregator((datasets.source.original.val,datasets.target.original.val))\n",
    "\n",
    "confusion = ptn_confusion_by_domain_over_dataloader(model, p.device, val_dl)\n",
    "per_domain_accuracy = per_domain_accuracy_from_confusion(confusion)\n",
    "\n",
    "# Add a key to per_domain_accuracy for if it was a source domain\n",
    "for domain, accuracy in per_domain_accuracy.items():\n",
    "    per_domain_accuracy[domain] = {\n",
    "        \"accuracy\": accuracy,\n",
    "        \"source?\": domain in p.domains_source\n",
    "    }\n",
    "\n",
    "# Do an independent accuracy assesment JUST TO BE SURE!\n",
    "# _source_test_label_accuracy = independent_accuracy_assesment(model, datasets.source.processed.test, p.device)\n",
    "# _target_test_label_accuracy = independent_accuracy_assesment(model, datasets.target.processed.test, p.device)\n",
    "# _source_val_label_accuracy = independent_accuracy_assesment(model, datasets.source.processed.val, p.device)\n",
    "# _target_val_label_accuracy = independent_accuracy_assesment(model, datasets.target.processed.val, p.device)\n",
    "\n",
    "# assert(_source_test_label_accuracy == source_test_label_accuracy)\n",
    "# assert(_target_test_label_accuracy == target_test_label_accuracy)\n",
    "# assert(_source_val_label_accuracy == source_val_label_accuracy)\n",
    "# assert(_target_val_label_accuracy == target_val_label_accuracy)\n",
    "\n",
    "experiment = {\n",
    "    \"experiment_name\": p.experiment_name,\n",
    "    \"parameters\": dict(p),\n",
    "    \"results\": {\n",
    "        \"source_test_label_accuracy\": source_test_label_accuracy,\n",
    "        \"source_test_label_loss\": source_test_label_loss,\n",
    "        \"target_test_label_accuracy\": target_test_label_accuracy,\n",
    "        \"target_test_label_loss\": target_test_label_loss,\n",
    "        \"source_val_label_accuracy\": source_val_label_accuracy,\n",
    "        \"source_val_label_loss\": source_val_label_loss,\n",
    "        \"target_val_label_accuracy\": target_val_label_accuracy,\n",
    "        \"target_val_label_loss\": target_val_label_loss,\n",
    "        \"total_epochs_trained\": total_epochs_trained,\n",
    "        \"total_experiment_time_secs\": total_experiment_time_secs,\n",
    "        \"confusion\": confusion,\n",
    "        \"per_domain_accuracy\": per_domain_accuracy,\n",
    "    },\n",
    "    \"history\": history,\n",
    "    \"dataset_metrics\": get_dataset_metrics(datasets, \"ptn\"),\n",
    "}"
   ]
  },
  {
   "cell_type": "code",
   "execution_count": 25,
   "id": "54a21829",
   "metadata": {
    "execution": {
     "iopub.execute_input": "2022-03-27T22:50:34.146969Z",
     "iopub.status.busy": "2022-03-27T22:50:34.146582Z",
     "iopub.status.idle": "2022-03-27T22:50:34.856919Z",
     "shell.execute_reply": "2022-03-27T22:50:34.857643Z"
    },
    "papermill": {
     "duration": 0.785272,
     "end_time": "2022-03-27T22:50:34.857880",
     "exception": false,
     "start_time": "2022-03-27T22:50:34.072608",
     "status": "completed"
    },
    "tags": []
   },
   "outputs": [
    {
     "data": {
      "image/png": "[encoded data removed]",
      "text/plain": [
       "<Figure size 1080x504 with 1 Axes>"
      ]
     },
     "metadata": {
      "needs_background": "light"
     },
     "output_type": "display_data"
    }
   ],
   "source": [
    "ax = get_loss_curve(experiment)\n",
    "plt.show()"
   ]
  },
  {
   "cell_type": "code",
   "execution_count": 26,
   "id": "fd8a0f60",
   "metadata": {
    "execution": {
     "iopub.execute_input": "2022-03-27T22:50:35.014251Z",
     "iopub.status.busy": "2022-03-27T22:50:35.013587Z",
     "iopub.status.idle": "2022-03-27T22:50:35.388927Z",
     "shell.execute_reply": "2022-03-27T22:50:35.389631Z"
    },
    "papermill": {
     "duration": 0.4547,
     "end_time": "2022-03-27T22:50:35.389883",
     "exception": false,
     "start_time": "2022-03-27T22:50:34.935183",
     "status": "completed"
    },
    "tags": []
   },
   "outputs": [
    {
     "data": {
      "text/plain": [
       "<AxesSubplot:title={'center':'Results'}>"
      ]
     },
     "execution_count": 26,
     "metadata": {},
     "output_type": "execute_result"
    },
    {
     "data": {
      "image/png": "[encoded data removed]",
      "text/plain": [
       "<Figure size 1080x504 with 1 Axes>"
      ]
     },
     "metadata": {
      "needs_background": "light"
     },
     "output_type": "display_data"
    }
   ],
   "source": [
    "get_results_table(experiment)"
   ]
  },
  {
   "cell_type": "code",
   "execution_count": 27,
   "id": "cf8dc689",
   "metadata": {
    "execution": {
     "iopub.execute_input": "2022-03-27T22:50:35.548189Z",
     "iopub.status.busy": "2022-03-27T22:50:35.547695Z",
     "iopub.status.idle": "2022-03-27T22:50:35.859312Z",
     "shell.execute_reply": "2022-03-27T22:50:35.860043Z"
    },
    "papermill": {
     "duration": 0.39111,
     "end_time": "2022-03-27T22:50:35.860354",
     "exception": false,
     "start_time": "2022-03-27T22:50:35.469244",
     "status": "completed"
    },
    "tags": []
   },
   "outputs": [
    {
     "data": {
      "text/plain": [
       "<AxesSubplot:title={'center':'Per Domain Validation Accuracy'}, xlabel='domain'>"
      ]
     },
     "execution_count": 27,
     "metadata": {},
     "output_type": "execute_result"
    },
    {
     "data": {
      "image/png": "[encoded data removed]",
      "text/plain": [
       "<Figure size 1080x504 with 1 Axes>"
      ]
     },
     "metadata": {
      "needs_background": "light"
     },
     "output_type": "display_data"
    }
   ],
   "source": [
    "get_domain_accuracies(experiment)"
   ]
  },
  {
   "cell_type": "code",
   "execution_count": 28,
   "id": "a74ae082",
   "metadata": {
    "execution": {
     "iopub.execute_input": "2022-03-27T22:50:36.022264Z",
     "iopub.status.busy": "2022-03-27T22:50:36.021855Z",
     "iopub.status.idle": "2022-03-27T22:50:36.044669Z",
     "shell.execute_reply": "2022-03-27T22:50:36.045350Z"
    },
    "papermill": {
     "duration": 0.103851,
     "end_time": "2022-03-27T22:50:36.045570",
     "exception": false,
     "start_time": "2022-03-27T22:50:35.941719",
     "status": "completed"
    },
    "tags": []
   },
   "outputs": [
    {
     "name": "stdout",
     "output_type": "stream",
     "text": [
      "Source Test Label Accuracy: 0.88125 Target Test Label Accuracy: 0.8394662921348315\n",
      "Source Val Label Accuracy: 0.8831380208333334 Target Val Label Accuracy: 0.8467142857142858\n"
     ]
    }
   ],
   "source": [
    "print(\"Source Test Label Accuracy:\", experiment[\"results\"][\"source_test_label_accuracy\"], \"Target Test Label Accuracy:\", experiment[\"results\"][\"target_test_label_accuracy\"])\n",
    "print(\"Source Val Label Accuracy:\", experiment[\"results\"][\"source_val_label_accuracy\"], \"Target Val Label Accuracy:\", experiment[\"results\"][\"target_val_label_accuracy\"])"
   ]
  },
  {
   "cell_type": "code",
   "execution_count": 29,
   "id": "dacca602",
   "metadata": {
    "execution": {
     "iopub.execute_input": "2022-03-27T22:50:36.210555Z",
     "iopub.status.busy": "2022-03-27T22:50:36.210173Z",
     "iopub.status.idle": "2022-03-27T22:50:36.231279Z",
     "shell.execute_reply": "2022-03-27T22:50:36.231987Z"
    },
    "papermill": {
     "duration": 0.100822,
     "end_time": "2022-03-27T22:50:36.232209",
     "exception": false,
     "start_time": "2022-03-27T22:50:36.131387",
     "status": "completed"
    },
    "tags": [
     "experiment_json"
    ]
   },
   "outputs": [
    {
     "data": {
      "text/plain": [
       "'{\"experiment_name\": \"tl_3-filterv2:oracle.run1.framed -> cores\", \"parameters\": {\"experiment_name\": \"tl_3-filterv2:oracle.run1.framed -> cores\", \"device\": \"cuda\", \"lr\": 0.0001, \"x_shape\": [2, 200], \"n_shot\": 3, \"n_query\": 2, \"train_k_factor\": 3, \"val_k_factor\": 2, \"test_k_factor\": 2, \"torch_default_dtype\": \"torch.float32\", \"n_epoch\": 50, \"patience\": 3, \"criteria_for_best\": \"target_accuracy\", \"x_net\": [{\"class\": \"nnReshape\", \"kargs\": {\"shape\": [-1, 1, 2, 200]}}, {\"class\": \"Conv2d\", \"kargs\": {\"in_channels\": 1, \"out_channels\": 256, \"kernel_size\": [1, 7], \"bias\": false, \"padding\": [0, 3]}}, {\"class\": \"ReLU\", \"kargs\": {\"inplace\": true}}, {\"class\": \"BatchNorm2d\", \"kargs\": {\"num_features\": 256}}, {\"class\": \"Conv2d\", \"kargs\": {\"in_channels\": 256, \"out_channels\": 80, \"kernel_size\": [2, 7], \"bias\": true, \"padding\": [0, 3]}}, {\"class\": \"ReLU\", \"kargs\": {\"inplace\": true}}, {\"class\": \"BatchNorm2d\", \"kargs\": {\"num_features\": 80}}, {\"class\": \"Flatten\", \"kargs\": {}}, {\"class\": \"Linear\", \"kargs\": {\"in_features\": 16000, \"out_features\": 256}}, {\"class\": \"ReLU\", \"kargs\": {\"inplace\": true}}, {\"class\": \"BatchNorm1d\", \"kargs\": {\"num_features\": 256}}, {\"class\": \"Linear\", \"kargs\": {\"in_features\": 256, \"out_features\": 256}}], \"NUM_LOGS_PER_EPOCH\": 10, \"BEST_MODEL_PATH\": \"./best_model.pth\", \"n_way\": 16, \"datasets\": [{\"labels\": [\"1-10.\", \"1-11.\", \"1-15.\", \"1-16.\", \"1-17.\", \"1-18.\", \"1-19.\", \"10-4.\", \"10-7.\", \"11-1.\", \"11-14.\", \"11-17.\", \"11-20.\", \"11-7.\", \"13-20.\", \"13-8.\", \"14-10.\", \"14-11.\", \"14-14.\", \"14-7.\", \"15-1.\", \"15-20.\", \"16-1.\", \"16-16.\", \"17-10.\", \"17-11.\", \"17-2.\", \"19-1.\", \"19-16.\", \"19-19.\", \"19-20.\", \"19-3.\", \"2-10.\", \"2-11.\", \"2-17.\", \"2-18.\", \"2-20.\", \"2-3.\", \"2-4.\", \"2-5.\", \"2-6.\", \"2-7.\", \"2-8.\", \"3-13.\", \"3-18.\", \"3-3.\", \"4-1.\", \"4-10.\", \"4-11.\", \"4-19.\", \"5-5.\", \"6-15.\", \"7-10.\", \"7-14.\", \"8-18.\", \"8-20.\", \"8-3.\", \"8-8.\"], \"domains\": [1, 2, 3, 4, 5], \"num_examples_per_domain_per_label\": -1, \"pickle_path\": \"/root/csc500-main/datasets/cores.stratified_ds.2022A.pkl\", \"source_or_target_dataset\": \"target\", \"x_transforms\": [\"unit_mag\", \"lowpass_+/-10MHz\", \"take_200\"], \"episode_transforms\": [], \"domain_prefix\": \"C_\"}, {\"labels\": [\"3123D52\", \"3123D65\", \"3123D79\", \"3123D80\", \"3123D54\", \"3123D70\", \"3123D7B\", \"3123D89\", \"3123D58\", \"3123D76\", \"3123D7D\", \"3123EFE\", \"3123D64\", \"3123D78\", \"3123D7E\", \"3124E4A\"], \"domains\": [32, 38, 8, 44, 14, 50, 20, 26], \"num_examples_per_domain_per_label\": 2000, \"pickle_path\": \"/root/csc500-main/datasets/oracle.Run1_framed_2000Examples_stratified_ds.2022A.pkl\", \"source_or_target_dataset\": \"source\", \"x_transforms\": [\"unit_mag\", \"take_200\", \"resample_20Msps_to_25Msps\"], \"episode_transforms\": [], \"domain_prefix\": \"O_\"}], \"seed\": 500, \"dataset_seed\": 500, \"domains_source\": [\"O_32\", \"O_38\", \"O_8\", \"O_44\", \"O_14\", \"O_50\", \"O_20\", \"O_26\"], \"domains_target\": [\"C_1\", \"C_2\", \"C_3\", \"C_4\", \"C_5\"]}, \"results\": {\"source_test_label_accuracy\": 0.88125, \"source_test_label_loss\": 0.33467933535575867, \"target_test_label_accuracy\": 0.8394662921348315, \"target_test_label_loss\": 2.4471921920776367, \"source_val_label_accuracy\": 0.8831380208333334, \"source_val_label_loss\": 0.3253862261772156, \"target_val_label_accuracy\": 0.8467142857142858, \"target_val_label_loss\": 2.387645959854126, \"total_epochs_trained\": 16, \"total_experiment_time_secs\": 4742.18118929863, \"confusion\": {\"O_50\": {\"7\": {\"6\": 10, \"7\": 215, \"5\": 9, \"13\": 4, \"4\": 2}, \"10\": {\"10\": 225, \"0\": 3, \"8\": 6, \"13\": 6}, \"0\": {\"0\": 215, \"10\": 5, \"2\": 18, \"13\": 2}, \"11\": {\"11\": 215, \"15\": 11, \"9\": 10, \"12\": 2, \"1\": 2}, \"2\": {\"2\": 217, \"0\": 21, \"1\": 2}, \"14\": {\"14\": 240}, \"9\": {\"11\": 9, \"9\": 226, \"12\": 5}, \"13\": {\"13\": 214, \"6\": 11, \"7\": 5, \"5\": 4, \"10\": 5, \"0\": 1}, \"8\": {\"8\": 233, \"10\": 6, \"3\": 1}, \"15\": {\"15\": 213, \"6\": 5, \"11\": 5, \"4\": 9, \"1\": 8}, \"4\": {\"4\": 178, \"6\": 10, \"15\": 24, \"5\": 14, \"7\": 9, \"1\": 3, \"11\": 2}, \"5\": {\"4\": 11, \"5\": 200, \"7\": 16, \"13\": 9, \"1\": 3, \"6\": 1}, \"3\": {\"3\": 238, \"8\": 2}, \"1\": {\"15\": 21, \"1\": 207, \"4\": 8, \"11\": 2, \"2\": 1, \"6\": 1}, \"6\": {\"6\": 224, \"4\": 3, \"15\": 3, \"13\": 5, \"7\": 3, \"5\": 2}, \"12\": {\"12\": 227, \"11\": 5, \"9\": 8}}, \"O_14\": {\"14\": {\"14\": 229, \"2\": 7, \"13\": 3, \"6\": 1}, \"6\": {\"6\": 211, \"13\": 27, \"4\": 1, \"2\": 1}, \"5\": {\"5\": 232, \"4\": 5, \"1\": 2, \"2\": 1}, \"15\": {\"15\": 240}, \"11\": {\"11\": 234, \"0\": 1, \"9\": 5}, \"8\": {\"8\": 240}, \"12\": {\"12\": 239, \"9\": 1}, \"1\": {\"1\": 237, \"4\": 1, \"2\": 1, \"5\": 1}, \"2\": {\"2\": 182, \"3\": 17, \"6\": 7, \"14\": 18, \"13\": 8, \"5\": 5, \"4\": 2, \"1\": 1}, \"13\": {\"6\": 52, \"13\": 177, \"14\": 6, \"5\": 1, \"2\": 4}, \"3\": {\"3\": 233, \"2\": 6, \"0\": 1}, \"0\": {\"0\": 235, \"11\": 2, \"10\": 2, \"3\": 1}, \"9\": {\"9\": 240}, \"4\": {\"4\": 238, \"2\": 1, \"3\": 1}, \"7\": {\"7\": 240}, \"10\": {\"10\": 240}}, \"O_32\": {\"4\": {\"2\": 32, \"4\": 191, \"13\": 11, \"7\": 6}, \"14\": {\"7\": 7, \"14\": 210, \"8\": 5, \"11\": 8, \"0\": 5, \"5\": 2, \"13\": 1, \"3\": 2}, \"5\": {\"5\": 196, \"7\": 20, \"13\": 5, \"2\": 3, \"3\": 6, \"8\": 4, \"4\": 1, \"14\": 3, \"0\": 2}, \"10\": {\"10\": 240}, \"13\": {\"13\": 211, \"8\": 4, \"11\": 3, \"5\": 4, \"7\": 2, \"4\": 13, \"3\": 3}, \"9\": {\"9\": 239, \"2\": 1}, \"6\": {\"6\": 240}, \"3\": {\"3\": 220, \"14\": 1, \"13\": 12, \"8\": 5, \"11\": 1, \"5\": 1}, \"15\": {\"15\": 240}, \"7\": {\"7\": 193, \"4\": 20, \"5\": 14, \"2\": 6, \"11\": 1, \"14\": 5, \"13\": 1}, \"12\": {\"12\": 240}, \"8\": {\"8\": 208, \"0\": 25, \"7\": 1, \"3\": 3, \"13\": 1, \"5\": 2}, \"11\": {\"11\": 235, \"13\": 1, \"7\": 1, \"14\": 1, \"3\": 2}, \"2\": {\"2\": 203, \"4\": 35, \"7\": 1, \"13\": 1}, \"1\": {\"1\": 240}, \"0\": {\"0\": 203, \"14\": 11, \"13\": 2, \"8\": 22, \"7\": 2}}, \"O_44\": {\"8\": {\"0\": 64, \"8\": 159, \"15\": 9, \"5\": 8}, \"11\": {\"11\": 232, \"13\": 7, \"6\": 1}, \"14\": {\"14\": 184, \"4\": 37, \"15\": 14, \"5\": 5}, \"10\": {\"10\": 214, \"1\": 16, \"2\": 8, \"7\": 2}, \"3\": {\"3\": 227, \"1\": 7, \"12\": 5, \"2\": 1}, \"15\": {\"15\": 202, \"8\": 4, \"4\": 5, \"14\": 15, \"0\": 11, \"5\": 3}, \"2\": {\"2\": 200, \"7\": 15, \"1\": 14, \"3\": 1, \"10\": 9, \"12\": 1}, \"12\": {\"12\": 214, \"3\": 5, \"1\": 20, \"10\": 1}, \"4\": {\"4\": 197, \"14\": 34, \"13\": 4, \"15\": 5}, \"1\": {\"1\": 180, \"10\": 17, \"12\": 23, \"3\": 11, \"2\": 9}, \"0\": {\"0\": 167, \"8\": 60, \"15\": 9, \"5\": 4}, \"9\": {\"13\": 25, \"9\": 135, \"7\": 54, \"6\": 25, \"2\": 1}, \"5\": {\"5\": 225, \"14\": 8, \"8\": 3, \"15\": 3, \"4\": 1}, \"6\": {\"6\": 172, \"9\": 20, \"13\": 43, \"7\": 5}, \"7\": {\"7\": 153, \"9\": 57, \"2\": 23, \"10\": 1, \"6\": 4, \"1\": 1, \"13\": 1}, \"13\": {\"13\": 172, \"9\": 23, \"6\": 40, \"11\": 4, \"7\": 1}}, \"O_8\": {\"13\": {\"13\": 140, \"6\": 11, \"0\": 18, \"10\": 37, \"4\": 30, \"14\": 3, \"7\": 1}, \"3\": {\"3\": 237, \"2\": 2, \"12\": 1}, \"15\": {\"12\": 21, \"15\": 219}, \"4\": {\"4\": 194, \"13\": 31, \"6\": 11, \"10\": 4}, \"7\": {\"6\": 34, \"7\": 200, \"13\": 1, \"0\": 4, \"2\": 1}, \"2\": {\"2\": 230, \"3\": 6, \"7\": 4}, \"1\": {\"1\": 238, \"14\": 1, \"11\": 1}, \"0\": {\"7\": 3, \"0\": 225, \"13\": 10, \"6\": 1, \"4\": 1}, \"12\": {\"12\": 210, \"15\": 23, \"3\": 5, \"8\": 2}, \"6\": {\"13\": 5, \"6\": 189, \"7\": 28, \"4\": 17, \"0\": 1}, \"11\": {\"11\": 238, \"1\": 2}, \"9\": {\"9\": 240}, \"5\": {\"5\": 238, \"14\": 2}, \"10\": {\"10\": 214, \"4\": 5, \"14\": 5, \"13\": 16}, \"14\": {\"14\": 231, \"10\": 2, \"13\": 4, \"1\": 2, \"4\": 1}, \"8\": {\"8\": 236, \"15\": 4}}, \"O_20\": {\"6\": {\"6\": 236, \"7\": 4}, \"11\": {\"11\": 240}, \"5\": {\"5\": 237, \"15\": 2, \"1\": 1}, \"14\": {\"14\": 235, \"6\": 3, \"8\": 1, \"10\": 1}, \"2\": {\"2\": 188, \"13\": 4, \"12\": 6, \"7\": 10, \"9\": 22, \"3\": 8, \"1\": 2}, \"7\": {\"2\": 11, \"7\": 224, \"6\": 2, \"4\": 1, \"13\": 1, \"9\": 1}, \"3\": {\"3\": 161, \"12\": 27, \"2\": 15, \"9\": 27, \"7\": 3, \"4\": 4, \"1\": 2, \"0\": 1}, \"4\": {\"4\": 228, \"3\": 5, \"8\": 6, \"10\": 1}, \"9\": {\"9\": 162, \"12\": 8, \"2\": 39, \"3\": 29, \"7\": 2}, \"12\": {\"12\": 134, \"1\": 47, \"3\": 36, \"9\": 13, \"2\": 9, \"4\": 1}, \"0\": {\"0\": 223, \"15\": 15, \"7\": 1, \"8\": 1}, \"10\": {\"10\": 239, \"14\": 1}, \"8\": {\"8\": 233, \"7\": 4, \"4\": 3}, \"13\": {\"13\": 233, \"7\": 2, \"15\": 3, \"2\": 2}, \"1\": {\"1\": 180, \"12\": 35, \"15\": 20, \"3\": 4, \"9\": 1}, \"15\": {\"15\": 214, \"0\": 9, \"1\": 12, \"13\": 5}}, \"O_38\": {\"3\": {\"3\": 230, \"0\": 9, \"9\": 1}, \"8\": {\"15\": 18, \"8\": 176, \"0\": 14, \"7\": 8, \"5\": 18, \"13\": 5, \"10\": 1}, \"0\": {\"0\": 197, \"7\": 11, \"3\": 6, \"8\": 17, \"13\": 4, \"10\": 5}, \"2\": {\"2\": 219, \"13\": 9, \"14\": 12}, \"4\": {\"4\": 237, \"12\": 2, \"10\": 1}, \"7\": {\"7\": 221, \"9\": 1, \"0\": 4, \"8\": 9, \"5\": 5}, \"12\": {\"12\": 240}, \"6\": {\"6\": 238, \"9\": 2}, \"15\": {\"15\": 212, \"8\": 12, \"1\": 11, \"13\": 5}, \"11\": {\"11\": 239, \"0\": 1}, \"9\": {\"9\": 238, \"6\": 1, \"3\": 1}, \"14\": {\"14\": 227, \"2\": 12, \"12\": 1}, \"10\": {\"10\": 208, \"0\": 13, \"14\": 2, \"7\": 2, \"4\": 4, \"13\": 10, \"8\": 1}, \"5\": {\"5\": 190, \"8\": 22, \"7\": 19, \"9\": 4, \"15\": 2, \"0\": 1, \"13\": 1, \"10\": 1}, \"1\": {\"1\": 235, \"15\": 5}, \"13\": {\"10\": 10, \"13\": 222, \"0\": 5, \"2\": 3}}, \"O_26\": {\"5\": {\"5\": 233, \"2\": 5, \"15\": 1, \"9\": 1}, \"8\": {\"8\": 144, \"4\": 16, \"10\": 31, \"0\": 22, \"14\": 7, \"7\": 13, \"1\": 3, \"2\": 1, \"15\": 2, \"6\": 1}, \"4\": {\"4\": 198, \"8\": 8, \"0\": 17, \"1\": 4, \"10\": 6, \"7\": 5, \"14\": 2}, \"12\": {\"12\": 240}, \"6\": {\"6\": 213, \"10\": 11, \"15\": 7, \"9\": 4, \"0\": 3, \"8\": 2}, \"7\": {\"3\": 26, \"7\": 183, \"8\": 12, \"0\": 1, \"4\": 10, \"2\": 8}, \"10\": {\"10\": 137, \"6\": 8, \"15\": 1, \"0\": 68, \"8\": 17, \"14\": 6, \"4\": 1, \"1\": 1, \"7\": 1}, \"0\": {\"4\": 18, \"0\": 119, \"10\": 68, \"8\": 22, \"7\": 3, \"14\": 5, \"1\": 2, \"6\": 3}, \"15\": {\"15\": 182, \"6\": 13, \"9\": 29, \"8\": 5, \"0\": 2, \"13\": 2, \"2\": 5, \"10\": 2}, \"9\": {\"9\": 195, \"15\": 25, \"13\": 11, \"6\": 7, \"0\": 2}, \"11\": {\"11\": 240}, \"14\": {\"14\": 209, \"4\": 1, \"1\": 8, \"0\": 15, \"8\": 5, \"10\": 2}, \"2\": {\"3\": 61, \"2\": 148, \"7\": 14, \"8\": 3, \"15\": 6, \"13\": 4, \"5\": 2, \"4\": 1, \"9\": 1}, \"13\": {\"13\": 216, \"2\": 11, \"15\": 5, \"9\": 8}, \"3\": {\"3\": 197, \"7\": 12, \"2\": 31}, \"1\": {\"1\": 225, \"8\": 1, \"4\": 4, \"0\": 1, \"14\": 5, \"7\": 2, \"3\": 1, \"10\": 1}}, \"C_4\": {\"38\": {\"38\": 32, \"56\": 1, \"2\": 2, \"22\": 1, \"24\": 1, \"14\": 1, \"43\": 1, \"10\": 1}, \"3\": {\"3\": 75, \"34\": 1, \"50\": 2, \"51\": 3, \"21\": 2, \"45\": 1, \"54\": 8, \"6\": 9, \"27\": 1, \"8\": 3, \"9\": 1, \"48\": 3, \"20\": 5, \"36\": 4, \"23\": 1, \"5\": 1, \"18\": 3, \"17\": 1}, \"24\": {\"24\": 43, \"10\": 1, \"43\": 6, \"2\": 1, \"38\": 1, \"22\": 4}, \"49\": {\"49\": 20}, \"7\": {\"7\": 19, \"22\": 1, \"11\": 1, \"46\": 1, \"43\": 1, \"56\": 1}, \"17\": {\"17\": 66, \"23\": 1, \"54\": 1, \"27\": 5, \"3\": 2, \"48\": 2, \"9\": 1, \"18\": 1, \"6\": 1}, \"43\": {\"43\": 141, \"49\": 1, \"0\": 2, \"10\": 1, \"22\": 2, \"24\": 1}, \"30\": {\"30\": 39, \"36\": 1, \"8\": 2, \"12\": 1, \"54\": 1}, \"44\": {\"44\": 99, \"19\": 14, \"29\": 3, \"28\": 1, \"33\": 1, \"45\": 1, \"50\": 1, \"57\": 1, \"55\": 1, \"4\": 4, \"40\": 3, \"16\": 1, \"53\": 1, \"34\": 1}, \"23\": {\"23\": 136, \"42\": 1, \"18\": 6, \"48\": 1}, \"37\": {\"37\": 24}, \"4\": {\"4\": 124, \"9\": 4, \"50\": 1, \"53\": 1, \"19\": 1, \"27\": 1}, \"57\": {\"57\": 93, \"29\": 5, \"1\": 2}, \"16\": {\"16\": 78, \"46\": 1, \"52\": 7, \"54\": 1, \"11\": 2, \"15\": 3, \"5\": 2, \"47\": 1, \"43\": 1}, \"18\": {\"18\": 93, \"23\": 9, \"27\": 3, \"53\": 1, \"42\": 1, \"13\": 1}, \"20\": {\"20\": 118, \"18\": 1, \"54\": 2, \"51\": 2, \"23\": 1}, \"45\": {\"45\": 75, \"50\": 6, \"17\": 2, \"4\": 3, \"48\": 1, \"9\": 2, \"8\": 3, \"12\": 4}, \"15\": {\"15\": 127, \"46\": 2, \"11\": 2, \"52\": 1}, \"52\": {\"52\": 114, \"39\": 1, \"16\": 1}, \"19\": {\"19\": 116, \"26\": 2, \"29\": 4, \"44\": 8, \"4\": 2, \"9\": 2, \"33\": 2, \"40\": 1, \"3\": 1, \"57\": 1, \"47\": 1}, \"54\": {\"54\": 104, \"3\": 1, \"20\": 3}, \"56\": {\"56\": 120, \"22\": 3, \"43\": 1, \"10\": 5, \"24\": 1}, \"40\": {\"40\": 114, \"19\": 6, \"49\": 1, \"28\": 1, \"37\": 1, \"16\": 1, \"0\": 1, \"57\": 1, \"29\": 2, \"44\": 4, \"55\": 1, \"53\": 1}, \"28\": {\"9\": 3, \"54\": 2, \"28\": 19, \"33\": 3, \"20\": 1, \"4\": 2, \"23\": 1, \"19\": 1}, \"2\": {\"56\": 2, \"2\": 23, \"24\": 3, \"38\": 3, \"43\": 3, \"14\": 1, \"0\": 1}, \"9\": {\"28\": 1, \"9\": 100, \"17\": 3, \"19\": 1, \"4\": 5, \"50\": 1, \"27\": 2, \"53\": 1, \"48\": 5, \"30\": 1}, \"0\": {\"0\": 62, \"22\": 3, \"11\": 4, \"46\": 1, \"43\": 5, \"10\": 2, \"1\": 1, \"7\": 1, \"24\": 1}, \"36\": {\"36\": 81, \"27\": 2, \"20\": 2, \"54\": 2, \"29\": 1, \"3\": 3, \"18\": 1}, \"55\": {\"39\": 1, \"55\": 96, \"6\": 7, \"24\": 1, \"35\": 2, \"47\": 4, \"2\": 1, \"46\": 6, \"23\": 4, \"52\": 1, \"5\": 1, \"22\": 1, \"19\": 1, \"16\": 2, \"0\": 1, \"11\": 1}, \"35\": {\"35\": 40}, \"39\": {\"39\": 19, \"52\": 1}, \"31\": {\"31\": 28}, \"14\": {\"43\": 2, \"44\": 1, \"33\": 3, \"14\": 6, \"38\": 1, \"24\": 2, \"22\": 1}, \"12\": {\"12\": 89, \"8\": 3}, \"6\": {\"54\": 7, \"6\": 64, \"36\": 2, \"23\": 7, \"50\": 1, \"47\": 2, \"25\": 1, \"27\": 5, \"48\": 3, \"3\": 5, \"20\": 4, \"18\": 3, \"51\": 1, \"21\": 2, \"34\": 1, \"17\": 3, \"43\": 1}, \"26\": {\"26\": 21, \"36\": 1, \"6\": 1, \"3\": 1}, \"50\": {\"45\": 2, \"50\": 67, \"3\": 5, \"8\": 22, \"36\": 11, \"6\": 2, \"17\": 2, \"9\": 2, \"30\": 1, \"12\": 3, \"27\": 9, \"4\": 1, \"54\": 4, \"51\": 1}, \"21\": {\"21\": 120, \"50\": 1, \"8\": 1}, \"46\": {\"52\": 11, \"46\": 76, \"11\": 6, \"43\": 8, \"15\": 12, \"55\": 2, \"23\": 1, \"5\": 3, \"0\": 2, \"22\": 3, \"16\": 9, \"10\": 1, \"32\": 3, \"7\": 1, \"2\": 1, \"54\": 1}, \"51\": {\"51\": 126, \"20\": 6, \"53\": 5, \"21\": 1, \"3\": 1, \"4\": 1}, \"41\": {\"41\": 31, \"5\": 4, \"23\": 1}, \"34\": {\"34\": 21, \"42\": 1, \"17\": 2}, \"47\": {\"47\": 103, \"42\": 1, \"29\": 2, \"23\": 8, \"6\": 1, \"48\": 3, \"5\": 2}, \"5\": {\"41\": 4, \"7\": 1, \"5\": 62, \"15\": 2, \"46\": 5, \"23\": 3, \"6\": 5, \"47\": 6, \"42\": 2, \"52\": 6, \"24\": 1, \"48\": 2, \"3\": 4, \"16\": 3, \"17\": 1, \"20\": 1}, \"1\": {\"1\": 34, \"57\": 2, \"47\": 2, \"55\": 1, \"46\": 1}, \"48\": {\"48\": 118, \"23\": 3, \"18\": 1, \"54\": 2, \"27\": 3, \"20\": 2, \"36\": 2, \"28\": 1, \"51\": 1, \"44\": 1}, \"29\": {\"29\": 94, \"35\": 1, \"33\": 2, \"19\": 7, \"57\": 8, \"43\": 1, \"47\": 1, \"40\": 1, \"5\": 1, \"4\": 1, \"27\": 1}, \"22\": {\"7\": 1, \"22\": 102, \"43\": 9, \"10\": 3, \"24\": 3, \"0\": 4, \"46\": 2, \"1\": 1, \"11\": 3}, \"10\": {\"10\": 129, \"43\": 2, \"56\": 1}, \"32\": {\"32\": 22, \"37\": 2}, \"13\": {\"13\": 111, \"38\": 1}, \"42\": {\"42\": 32}, \"27\": {\"27\": 130, \"30\": 2, \"48\": 1, \"8\": 1, \"17\": 2, \"54\": 1, \"36\": 1}, \"8\": {\"8\": 128, \"50\": 3, \"30\": 2, \"20\": 2, \"27\": 5, \"3\": 2}, \"33\": {\"33\": 32, \"9\": 2, \"44\": 1, \"19\": 1}, \"25\": {\"25\": 124, \"21\": 2, \"54\": 2, \"27\": 2, \"6\": 1, \"9\": 1}, \"11\": {\"11\": 88, \"15\": 9, \"52\": 1, \"46\": 4, \"1\": 1, \"16\": 1}, \"53\": {\"18\": 2, \"50\": 8, \"53\": 84, \"51\": 10, \"4\": 1, \"8\": 3, \"20\": 1, \"30\": 1, \"5\": 1, \"36\": 1}}, \"C_2\": {\"32\": {\"32\": 28}, \"17\": {\"17\": 89, \"6\": 5, \"4\": 1, \"30\": 3, \"3\": 2, \"48\": 4}, \"38\": {\"43\": 1, \"38\": 18, \"28\": 1}, \"2\": {\"18\": 1, \"2\": 27, \"3\": 3, \"41\": 1}, \"43\": {\"43\": 128, \"10\": 5, \"56\": 2, \"24\": 7, \"22\": 1, \"55\": 1}, \"56\": {\"56\": 136, \"22\": 4, \"13\": 1, \"14\": 2, \"24\": 1}, \"37\": {\"37\": 36}, \"49\": {\"49\": 24}, \"0\": {\"0\": 40, \"5\": 3, \"16\": 1, \"57\": 1, \"7\": 2, \"39\": 1}, \"29\": {\"29\": 103, \"19\": 14, \"41\": 1, \"34\": 1, \"46\": 3, \"17\": 1, \"9\": 1, \"1\": 1, \"30\": 1, \"40\": 2}, \"35\": {\"35\": 32}, \"18\": {\"18\": 46, \"50\": 1, \"30\": 1}, \"25\": {\"25\": 129, \"49\": 1, \"4\": 1, \"27\": 2, \"20\": 1, \"54\": 1, \"30\": 1}, \"23\": {\"23\": 121, \"16\": 2, \"6\": 1}, \"15\": {\"15\": 146}, \"21\": {\"21\": 107, \"23\": 1, \"52\": 2, \"48\": 1, \"17\": 1, \"50\": 1, \"6\": 2, \"46\": 2, \"39\": 1, \"30\": 1, \"16\": 1}, \"51\": {\"51\": 107, \"53\": 8, \"52\": 1, \"50\": 2, \"20\": 6, \"21\": 2, \"8\": 2}, \"20\": {\"20\": 135, \"2\": 1, \"27\": 1, \"45\": 1}, \"7\": {\"7\": 30, \"5\": 2, \"0\": 1, \"47\": 1, \"34\": 1, \"48\": 1}, \"50\": {\"50\": 85, \"20\": 5, \"17\": 2, \"3\": 3, \"54\": 5, \"12\": 3, \"18\": 8, \"16\": 1, \"30\": 4, \"6\": 6, \"36\": 3, \"8\": 3, \"41\": 1, \"53\": 3, \"52\": 1, \"46\": 1, \"51\": 1, \"27\": 1}, \"31\": {\"31\": 28}, \"30\": {\"30\": 120, \"23\": 7, \"42\": 1, \"50\": 2, \"27\": 8, \"6\": 1, \"16\": 1}, \"19\": {\"19\": 118, \"29\": 16, \"9\": 2, \"33\": 1, \"44\": 2, \"40\": 6, \"3\": 1, \"30\": 2, \"27\": 1, \"2\": 1, \"4\": 2, \"57\": 2, \"17\": 1, \"46\": 1}, \"9\": {\"9\": 134, \"44\": 1, \"3\": 1, \"57\": 3, \"48\": 3, \"17\": 1, \"53\": 1}, \"52\": {\"23\": 3, \"52\": 108, \"39\": 2, \"16\": 5, \"15\": 5, \"21\": 1}, \"45\": {\"9\": 4, \"45\": 63, \"53\": 2, \"27\": 4, \"4\": 27, \"26\": 1, \"3\": 2, \"50\": 3, \"12\": 1, \"36\": 6, \"8\": 2, \"51\": 2, \"20\": 3, \"19\": 2, \"6\": 1, \"17\": 1, \"54\": 2, \"25\": 2}, \"8\": {\"20\": 7, \"8\": 137, \"27\": 3, \"50\": 5, \"12\": 1, \"36\": 1}, \"55\": {\"55\": 129, \"0\": 2, \"28\": 1, \"43\": 6, \"16\": 4, \"22\": 1, \"17\": 1, \"1\": 1, \"47\": 2, \"5\": 3, \"57\": 2, \"46\": 3, \"31\": 2, \"42\": 2, \"6\": 1}, \"12\": {\"12\": 87, \"54\": 4, \"27\": 1}, \"40\": {\"40\": 103, \"29\": 11, \"46\": 1, \"4\": 6, \"44\": 2, \"19\": 12, \"45\": 1, \"0\": 1, \"57\": 2, \"9\": 1}, \"28\": {\"28\": 26, \"0\": 1, \"5\": 1}, \"36\": {\"36\": 116}, \"39\": {\"39\": 25, \"40\": 1, \"23\": 2}, \"46\": {\"21\": 12, \"28\": 3, \"49\": 1, \"5\": 1, \"51\": 1, \"37\": 1, \"46\": 54, \"42\": 3, \"50\": 3, \"43\": 1, \"6\": 5, \"16\": 3, \"11\": 1, \"3\": 4, \"30\": 1, \"23\": 5, \"0\": 1, \"48\": 2, \"47\": 6, \"1\": 1, \"55\": 6, \"17\": 4, \"26\": 1, \"24\": 1, \"57\": 1}, \"14\": {\"56\": 1, \"40\": 3, \"14\": 8, \"24\": 2, \"10\": 3, \"42\": 1, \"33\": 1, \"43\": 1, \"55\": 1, \"35\": 2, \"44\": 1}, \"57\": {\"57\": 128, \"1\": 7, \"29\": 1, \"5\": 6}, \"34\": {\"34\": 25, \"17\": 1, \"48\": 2}, \"1\": {\"1\": 100, \"52\": 1, \"57\": 6, \"47\": 3, \"3\": 1, \"15\": 1}, \"53\": {\"53\": 119, \"50\": 1, \"20\": 4, \"36\": 4, \"8\": 3, \"51\": 4, \"54\": 1}, \"48\": {\"48\": 121, \"34\": 1, \"3\": 1, \"16\": 3, \"30\": 1, \"23\": 1, \"41\": 1, \"21\": 1}, \"3\": {\"3\": 21, \"18\": 4, \"6\": 12, \"41\": 1, \"51\": 1, \"27\": 6, \"54\": 3, \"9\": 4, \"30\": 7, \"45\": 1, \"50\": 5, \"21\": 2, \"29\": 3, \"4\": 3, \"17\": 3, \"46\": 2, \"53\": 2, \"23\": 2, \"32\": 1, \"48\": 5, \"25\": 1, \"52\": 1, \"16\": 1, \"19\": 1}, \"16\": {\"23\": 5, \"16\": 139, \"15\": 2, \"7\": 1, \"46\": 2, \"52\": 3}, \"6\": {\"39\": 1, \"23\": 1, \"36\": 2, \"52\": 3, \"6\": 79, \"3\": 3, \"21\": 2, \"16\": 5, \"50\": 5, \"15\": 2, \"54\": 2, \"18\": 3, \"27\": 2, \"48\": 2, \"29\": 1, \"41\": 2, \"17\": 4, \"12\": 1, \"30\": 4}, \"10\": {\"10\": 111, \"43\": 1}, \"13\": {\"13\": 106, \"14\": 1, \"24\": 7, \"10\": 2}, \"26\": {\"26\": 22, \"27\": 1, \"50\": 1}, \"24\": {\"24\": 82, \"10\": 5, \"43\": 3, \"13\": 4, \"56\": 1, \"22\": 1}, \"44\": {\"44\": 79, \"46\": 2, \"40\": 8, \"19\": 4, \"57\": 1, \"29\": 6}, \"27\": {\"27\": 149, \"30\": 1}, \"22\": {\"22\": 122, \"10\": 1, \"24\": 2, \"43\": 1, \"56\": 2}, \"33\": {\"23\": 1, \"33\": 26, \"4\": 1}, \"47\": {\"41\": 2, \"47\": 88, \"57\": 8, \"42\": 2, \"6\": 1, \"23\": 6, \"5\": 3, \"52\": 1, \"3\": 1, \"0\": 1, \"1\": 1, \"29\": 1, \"30\": 1, \"17\": 1, \"48\": 1}, \"5\": {\"5\": 91, \"46\": 1, \"43\": 2, \"57\": 15, \"47\": 2, \"0\": 4, \"55\": 1, \"31\": 1, \"2\": 1, \"24\": 1, \"1\": 1}, \"4\": {\"4\": 127, \"33\": 2, \"9\": 4, \"45\": 3, \"20\": 1, \"50\": 1}, \"41\": {\"41\": 19, \"6\": 1}, \"11\": {\"11\": 140, \"52\": 1, \"15\": 5, \"21\": 1, \"16\": 3}, \"54\": {\"54\": 104, \"50\": 1, \"12\": 1, \"20\": 1, \"8\": 1}, \"42\": {\"42\": 34, \"46\": 1, \"50\": 1}}, \"C_3\": {\"5\": {\"5\": 98, \"16\": 1, \"57\": 10, \"46\": 3, \"28\": 1, \"1\": 1, \"0\": 2}, \"32\": {\"32\": 28}, \"33\": {\"33\": 24, \"23\": 1, \"38\": 1, \"26\": 1, \"3\": 1}, \"49\": {\"49\": 20}, \"39\": {\"39\": 16}, \"11\": {\"11\": 128, \"15\": 12, \"0\": 1, \"16\": 1}, \"8\": {\"8\": 110, \"50\": 2, \"54\": 2, \"36\": 2}, \"26\": {\"26\": 20, \"57\": 1, \"27\": 1, \"6\": 1, \"41\": 1}, \"51\": {\"51\": 103, \"2\": 2, \"53\": 11, \"21\": 2, \"8\": 1, \"18\": 1, \"50\": 1, \"46\": 1}, \"4\": {\"4\": 135, \"27\": 2, \"19\": 3, \"29\": 1, \"8\": 2, \"53\": 1, \"45\": 2}, \"52\": {\"52\": 102, \"15\": 5, \"16\": 6, \"23\": 3, \"21\": 1, \"18\": 1}, \"47\": {\"47\": 69, \"5\": 2, \"0\": 2, \"6\": 4, \"23\": 2, \"1\": 1, \"48\": 2, \"9\": 2, \"57\": 2, \"41\": 2, \"34\": 2, \"16\": 1, \"3\": 1}, \"17\": {\"17\": 94, \"20\": 5, \"27\": 3, \"50\": 1, \"3\": 3, \"56\": 1, \"30\": 1}, \"53\": {\"53\": 127, \"21\": 1, \"36\": 2, \"51\": 2, \"20\": 2, \"50\": 1, \"8\": 1}, \"2\": {\"2\": 31, \"37\": 1}, \"12\": {\"17\": 1, \"12\": 85, \"38\": 1, \"2\": 2, \"8\": 1, \"54\": 2}, \"37\": {\"37\": 28}, \"9\": {\"9\": 138, \"33\": 2, \"41\": 1, \"53\": 1, \"20\": 1, \"47\": 1, \"46\": 3, \"3\": 1}, \"13\": {\"13\": 113, \"10\": 2, \"56\": 1, \"24\": 7, \"22\": 2, \"43\": 2, \"42\": 1}, \"54\": {\"54\": 98, \"32\": 1, \"12\": 1}, \"31\": {\"31\": 28}, \"34\": {\"34\": 32}, \"24\": {\"24\": 94, \"43\": 5, \"13\": 4, \"10\": 1}, \"7\": {\"7\": 31, \"31\": 1, \"43\": 2, \"24\": 1, \"52\": 1}, \"50\": {\"50\": 58, \"54\": 7, \"36\": 3, \"41\": 3, \"8\": 5, \"53\": 2, \"12\": 1, \"30\": 2, \"18\": 9, \"6\": 5, \"51\": 2, \"3\": 11, \"55\": 1, \"20\": 2, \"37\": 1, \"46\": 1, \"21\": 2, \"23\": 1, \"17\": 1, \"48\": 1}, \"46\": {\"46\": 56, \"33\": 1, \"3\": 10, \"16\": 6, \"21\": 16, \"52\": 4, \"18\": 1, \"17\": 1, \"51\": 1, \"47\": 3, \"6\": 6, \"23\": 5, \"27\": 2, \"48\": 4, \"5\": 1, \"30\": 2, \"55\": 1, \"28\": 1, \"37\": 1, \"50\": 1, \"20\": 2, \"53\": 1, \"29\": 1, \"9\": 1}, \"44\": {\"31\": 1, \"40\": 9, \"44\": 71, \"19\": 1, \"45\": 1, \"50\": 1, \"29\": 3, \"4\": 1}, \"40\": {\"40\": 86, \"44\": 8, \"5\": 1, \"19\": 3, \"45\": 2, \"53\": 1, \"57\": 4, \"29\": 7, \"4\": 2, \"9\": 2}, \"21\": {\"21\": 95, \"46\": 5, \"50\": 4, \"30\": 1, \"18\": 3, \"3\": 2, \"17\": 2, \"23\": 3, \"16\": 2, \"53\": 3, \"20\": 2, \"52\": 2, \"6\": 1, \"9\": 1, \"51\": 2}, \"45\": {\"54\": 3, \"32\": 3, \"4\": 9, \"12\": 2, \"45\": 26, \"30\": 2, \"36\": 2, \"8\": 3, \"17\": 2, \"25\": 1, \"50\": 1, \"2\": 1, \"51\": 2, \"53\": 1, \"27\": 1, \"19\": 1}, \"16\": {\"16\": 114, \"52\": 3, \"1\": 1, \"46\": 3, \"15\": 2, \"21\": 2, \"23\": 1}, \"14\": {\"14\": 15, \"10\": 3, \"42\": 4, \"22\": 2, \"56\": 1, \"24\": 6, \"43\": 1, \"44\": 1, \"13\": 2, \"31\": 3, \"57\": 1, \"55\": 1}, \"36\": {\"36\": 100}, \"56\": {\"56\": 114}, \"10\": {\"10\": 64}, \"18\": {\"18\": 84}, \"48\": {\"48\": 100, \"39\": 1, \"23\": 2, \"46\": 3, \"17\": 1, \"16\": 2, \"3\": 3, \"52\": 1, \"41\": 1, \"54\": 1, \"20\": 1}, \"38\": {\"38\": 27, \"2\": 1}, \"27\": {\"27\": 117, \"20\": 2, \"50\": 3, \"26\": 1, \"54\": 1, \"30\": 4, \"32\": 1, \"9\": 1}, \"42\": {\"42\": 22, \"1\": 1, \"55\": 3, \"29\": 1, \"6\": 1}, \"15\": {\"15\": 128, \"1\": 1, \"16\": 2, \"7\": 1, \"55\": 1, \"23\": 1}, \"1\": {\"1\": 83, \"34\": 1, \"5\": 2, \"57\": 5, \"47\": 1, \"0\": 3, \"16\": 3, \"48\": 1, \"21\": 1}, \"28\": {\"37\": 1, \"16\": 1, \"28\": 18, \"57\": 2, \"35\": 3, \"5\": 1, \"21\": 1, \"33\": 1}, \"43\": {\"43\": 124, \"49\": 1, \"31\": 1, \"24\": 4, \"55\": 4, \"22\": 2}, \"0\": {\"0\": 119, \"28\": 1, \"20\": 1, \"1\": 1, \"57\": 1, \"23\": 1}, \"57\": {\"57\": 116, \"1\": 2, \"29\": 4, \"5\": 2}, \"3\": {\"3\": 46, \"39\": 1, \"6\": 7, \"48\": 4, \"27\": 14, \"9\": 6, \"46\": 8, \"18\": 5, \"41\": 2, \"23\": 6, \"16\": 3, \"50\": 4, \"21\": 7, \"20\": 7, \"25\": 1, \"17\": 10, \"4\": 1, \"52\": 1, \"19\": 2, \"30\": 2, \"53\": 2, \"15\": 1, \"29\": 1, \"37\": 1, \"38\": 1, \"51\": 2, \"32\": 1, \"47\": 2}, \"29\": {\"29\": 107, \"57\": 6, \"40\": 2, \"16\": 1, \"19\": 3, \"20\": 1, \"33\": 1, \"9\": 3}, \"41\": {\"41\": 26, \"3\": 1, \"21\": 1}, \"25\": {\"25\": 135, \"54\": 2, \"3\": 1, \"50\": 1, \"53\": 2, \"27\": 3, \"19\": 1, \"21\": 1}, \"6\": {\"3\": 12, \"6\": 37, \"26\": 2, \"30\": 8, \"33\": 2, \"23\": 3, \"17\": 5, \"52\": 2, \"50\": 5, \"47\": 5, \"18\": 5, \"46\": 2}, \"35\": {\"35\": 25, \"29\": 2, \"47\": 1}, \"20\": {\"20\": 122, \"21\": 1, \"18\": 2, \"50\": 1}, \"23\": {\"23\": 130, \"6\": 1, \"48\": 2, \"16\": 1}, \"22\": {\"22\": 135, \"13\": 1, \"10\": 1, \"14\": 1, \"43\": 2}, \"19\": {\"19\": 105, \"9\": 4, \"4\": 5, \"3\": 1, \"29\": 1}, \"55\": {\"55\": 98, \"5\": 2, \"48\": 1, \"46\": 1, \"42\": 1, \"1\": 2, \"43\": 7, \"0\": 4, \"24\": 1, \"22\": 1, \"6\": 2, \"17\": 1, \"49\": 1, \"28\": 1, \"11\": 1}, \"30\": {\"30\": 100, \"27\": 5, \"17\": 4, \"50\": 2, \"20\": 2, \"8\": 3, \"18\": 2, \"3\": 1, \"12\": 1}}, \"C_1\": {\"24\": {\"39\": 1, \"24\": 78, \"11\": 3, \"52\": 9, \"22\": 11, \"10\": 2, \"49\": 1, \"43\": 1, \"28\": 2}, \"25\": {\"26\": 1, \"25\": 131, \"30\": 4, \"46\": 1, \"9\": 1, \"41\": 1, \"17\": 1}, \"45\": {\"45\": 136, \"18\": 1, \"9\": 5, \"19\": 1, \"54\": 1}, \"42\": {\"42\": 38, \"19\": 1, \"45\": 1}, \"2\": {\"2\": 35, \"5\": 1}, \"9\": {\"9\": 148, \"37\": 1, \"53\": 1}, \"21\": {\"21\": 119, \"0\": 1, \"23\": 1, \"15\": 3}, \"26\": {\"26\": 23, \"17\": 1}, \"49\": {\"49\": 24, \"15\": 1, \"10\": 1, \"22\": 2, \"38\": 2, \"11\": 1, \"24\": 1}, \"39\": {\"39\": 24, \"52\": 4}, \"46\": {\"46\": 66, \"48\": 23, \"8\": 8, \"17\": 4, \"50\": 5, \"5\": 9, \"53\": 3, \"6\": 8, \"30\": 4, \"51\": 1, \"12\": 2, \"2\": 1, \"4\": 2}, \"17\": {\"17\": 60, \"9\": 1, \"26\": 1, \"8\": 1, \"48\": 1}, \"19\": {\"19\": 147, \"45\": 4, \"57\": 1, \"42\": 1, \"56\": 3}, \"23\": {\"21\": 9, \"23\": 119, \"0\": 4}, \"1\": {\"1\": 85, \"56\": 6, \"20\": 1, \"19\": 3, \"57\": 4, \"13\": 1}, \"29\": {\"29\": 118, \"57\": 8, \"35\": 1, \"56\": 3, \"1\": 2, \"44\": 4, \"19\": 1, \"24\": 1, \"40\": 1, \"47\": 1}, \"56\": {\"56\": 114, \"7\": 2, \"57\": 18, \"30\": 1, \"1\": 3, \"55\": 1, \"45\": 5, \"19\": 2, \"12\": 1, \"16\": 2, \"42\": 1}, \"37\": {\"37\": 30, \"26\": 2}, \"33\": {\"33\": 32}, \"55\": {\"55\": 132, \"36\": 2, \"32\": 1, \"54\": 1, \"11\": 2, \"22\": 1, \"56\": 2, \"15\": 1}, \"30\": {\"30\": 111, \"18\": 1, \"8\": 7, \"5\": 1}, \"0\": {\"0\": 105, \"49\": 1, \"31\": 1, \"11\": 14, \"22\": 16, \"21\": 2, \"23\": 10, \"10\": 1, \"3\": 1, \"15\": 1}, \"36\": {\"36\": 60, \"54\": 2, \"23\": 1, \"12\": 1}, \"32\": {\"32\": 28, \"55\": 1, \"47\": 1, \"44\": 1, \"23\": 1}, \"31\": {\"31\": 26, \"0\": 2}, \"15\": {\"21\": 9, \"15\": 118, \"36\": 1, \"23\": 3, \"0\": 3, \"11\": 4}, \"12\": {\"12\": 103, \"33\": 1, \"14\": 1, \"51\": 5, \"53\": 1, \"16\": 2, \"54\": 1, \"20\": 1, \"17\": 1}, \"38\": {\"31\": 2, \"38\": 21, \"3\": 1}, \"40\": {\"40\": 111, \"44\": 1, \"56\": 3, \"1\": 4, \"57\": 3, \"42\": 1, \"18\": 1, \"13\": 4, \"29\": 7, \"12\": 1, \"19\": 3, \"4\": 4, \"45\": 2, \"8\": 1}, \"14\": {\"14\": 15, \"26\": 1, \"18\": 1, \"33\": 1, \"30\": 2, \"51\": 1, \"17\": 1, \"37\": 1, \"8\": 1}, \"13\": {\"14\": 1, \"13\": 126, \"12\": 2, \"20\": 13, \"46\": 1, \"55\": 1, \"51\": 5, \"44\": 1}, \"48\": {\"48\": 134, \"2\": 1, \"50\": 5, \"18\": 1, \"8\": 2, \"5\": 1, \"53\": 2, \"6\": 2}, \"34\": {\"34\": 24}, \"44\": {\"44\": 94, \"35\": 4, \"45\": 1, \"56\": 3, \"47\": 11, \"10\": 1, \"0\": 6, \"54\": 1, \"3\": 1, \"57\": 1, \"29\": 5, \"13\": 1, \"22\": 1}, \"5\": {\"5\": 133, \"6\": 5, \"48\": 4, \"8\": 7, \"50\": 2, \"53\": 1}, \"11\": {\"11\": 105, \"15\": 5, \"22\": 11, \"21\": 6, \"36\": 2, \"10\": 2, \"54\": 1, \"24\": 1, \"52\": 3, \"23\": 2, \"0\": 1, \"3\": 1}, \"7\": {\"7\": 27, \"16\": 1}, \"18\": {\"18\": 65, \"17\": 1, \"9\": 3, \"5\": 2, \"16\": 1}, \"52\": {\"52\": 92, \"0\": 4, \"11\": 2, \"24\": 12, \"28\": 1, \"22\": 6, \"39\": 3, \"10\": 2, \"27\": 2, \"15\": 2, \"43\": 1, \"47\": 1, \"31\": 2, \"49\": 1, \"38\": 1}, \"51\": {\"51\": 125, \"16\": 2, \"53\": 3, \"18\": 1, \"12\": 7, \"54\": 2, \"6\": 1, \"20\": 1}, \"41\": {\"41\": 22, \"14\": 2}, \"16\": {\"54\": 8, \"16\": 130, \"9\": 1, \"51\": 1}, \"22\": {\"22\": 94, \"24\": 10, \"52\": 8, \"0\": 2, \"10\": 6, \"11\": 8, \"3\": 1, \"47\": 3, \"15\": 1, \"21\": 1}, \"3\": {\"22\": 11, \"49\": 1, \"3\": 76, \"52\": 7, \"24\": 6, \"29\": 1, \"42\": 1, \"44\": 3, \"31\": 1, \"11\": 4, \"0\": 2, \"20\": 8, \"57\": 1, \"55\": 3, \"43\": 1, \"13\": 3, \"23\": 1, \"28\": 3, \"15\": 1, \"47\": 4, \"10\": 1, \"40\": 1}, \"54\": {\"54\": 90, \"51\": 2, \"12\": 4, \"16\": 8}, \"27\": {\"27\": 135, \"43\": 8, \"52\": 1}, \"20\": {\"20\": 108, \"12\": 4, \"13\": 13, \"36\": 2, \"55\": 3, \"0\": 2, \"45\": 1, \"41\": 1, \"51\": 3, \"42\": 1, \"23\": 1, \"44\": 1}, \"8\": {\"8\": 117, \"6\": 9, \"5\": 2, \"30\": 4, \"17\": 1, \"48\": 2, \"18\": 2, \"53\": 1}, \"50\": {\"50\": 142, \"53\": 1, \"48\": 1}, \"57\": {\"57\": 111, \"56\": 19, \"1\": 6, \"51\": 1, \"13\": 2, \"45\": 1}, \"4\": {\"4\": 127, \"46\": 4, \"48\": 1}, \"47\": {\"47\": 134, \"44\": 9, \"35\": 2, \"56\": 1}, \"10\": {\"22\": 4, \"10\": 91, \"24\": 1}, \"35\": {\"35\": 36}, \"53\": {\"53\": 122, \"6\": 3, \"48\": 1}, \"6\": {\"6\": 73, \"48\": 2, \"5\": 3, \"9\": 1, \"18\": 3, \"8\": 5, \"30\": 4, \"53\": 2, \"17\": 2, \"2\": 1}, \"43\": {\"43\": 134, \"27\": 5, \"10\": 1}, \"28\": {\"28\": 26, \"10\": 1, \"24\": 1}}, \"C_5\": {\"35\": {\"35\": 36}, \"57\": {\"57\": 129, \"52\": 1, \"42\": 1, \"23\": 1}, \"20\": {\"20\": 136, \"45\": 1, \"51\": 5, \"23\": 2}, \"12\": {\"7\": 3, \"12\": 77, \"38\": 1, \"30\": 3, \"8\": 1, \"17\": 2, \"45\": 2, \"53\": 2, \"6\": 1, \"26\": 2, \"1\": 1, \"51\": 1}, \"32\": {\"32\": 27, \"9\": 1, \"27\": 3, \"51\": 1}, \"25\": {\"45\": 1, \"25\": 124, \"30\": 3, \"48\": 3, \"54\": 1, \"55\": 1, \"9\": 2, \"41\": 1, \"27\": 2}, \"44\": {\"44\": 127, \"34\": 1, \"36\": 2, \"5\": 5, \"29\": 7, \"56\": 2, \"35\": 1, \"43\": 2, \"0\": 1}, \"31\": {\"31\": 33, \"46\": 2, \"3\": 1}, \"11\": {\"11\": 123, \"15\": 21, \"36\": 1, \"46\": 3, \"52\": 2}, \"47\": {\"47\": 87, \"50\": 1, \"42\": 2, \"16\": 1, \"27\": 1, \"23\": 3, \"14\": 1, \"6\": 1, \"1\": 2, \"39\": 1}, \"23\": {\"23\": 120, \"41\": 1, \"20\": 1, \"6\": 1, \"52\": 1}, \"43\": {\"43\": 139, \"35\": 1, \"56\": 2, \"24\": 1, \"0\": 1}, \"37\": {\"31\": 1, \"37\": 23}, \"5\": {\"5\": 89, \"44\": 19, \"47\": 1, \"36\": 3, \"40\": 3, \"19\": 2, \"56\": 1, \"29\": 4, \"0\": 1, \"9\": 1, \"33\": 1, \"35\": 1, \"43\": 2}, \"45\": {\"47\": 1, \"32\": 1, \"30\": 13, \"48\": 4, \"45\": 55, \"17\": 13, \"55\": 1, \"19\": 2, \"27\": 4, \"50\": 2, \"6\": 6, \"8\": 10, \"9\": 9, \"53\": 1, \"7\": 1, \"12\": 1}, \"7\": {\"7\": 30, \"17\": 1, \"20\": 1}, \"13\": {\"13\": 119, \"10\": 8, \"24\": 3, \"56\": 2, \"0\": 2, \"43\": 2}, \"49\": {\"49\": 36}, \"46\": {\"46\": 118, \"52\": 7, \"14\": 1, \"36\": 1, \"16\": 9, \"3\": 3, \"11\": 2, \"21\": 1, \"42\": 1, \"31\": 1, \"20\": 1, \"15\": 2, \"50\": 1}, \"16\": {\"11\": 2, \"16\": 109, \"3\": 2, \"20\": 1, \"52\": 4, \"23\": 2, \"15\": 4, \"46\": 6, \"21\": 3, \"47\": 1, \"36\": 1, \"49\": 1}, \"54\": {\"54\": 112}, \"19\": {\"19\": 144, \"37\": 1, \"57\": 1, \"50\": 1, \"27\": 1, \"9\": 3, \"33\": 1}, \"55\": {\"50\": 8, \"55\": 98, \"9\": 2, \"26\": 4, \"45\": 13, \"48\": 5, \"27\": 4, \"6\": 2, \"25\": 12, \"30\": 2}, \"30\": {\"30\": 123, \"8\": 1, \"17\": 3, \"27\": 1}, \"34\": {\"34\": 30, \"47\": 1, \"50\": 2, \"36\": 1, \"19\": 1, \"14\": 1}, \"50\": {\"55\": 13, \"50\": 45, \"51\": 5, \"27\": 7, \"30\": 2, \"53\": 5, \"8\": 8, \"1\": 10, \"54\": 2, \"9\": 5, \"48\": 8, \"18\": 2, \"6\": 3, \"45\": 7, \"16\": 1, \"20\": 5, \"19\": 1, \"41\": 1, \"34\": 1, \"32\": 1, \"25\": 1, \"4\": 1}, \"3\": {\"11\": 10, \"0\": 7, \"3\": 41, \"56\": 4, \"46\": 9, \"42\": 1, \"36\": 2, \"16\": 6, \"47\": 1, \"52\": 2, \"29\": 1, \"23\": 1, \"35\": 2, \"21\": 2, \"37\": 1, \"54\": 1, \"43\": 2, \"24\": 5, \"15\": 1, \"44\": 1}, \"10\": {\"10\": 62, \"24\": 4, \"13\": 2}, \"27\": {\"9\": 14, \"27\": 100, \"1\": 6, \"6\": 1, \"30\": 7, \"32\": 2, \"48\": 2, \"8\": 3, \"45\": 1, \"23\": 1, \"20\": 3, \"18\": 1, \"54\": 1}, \"33\": {\"33\": 32}, \"56\": {\"56\": 133, \"35\": 2, \"13\": 1, \"10\": 2, \"24\": 1, \"22\": 1, \"0\": 2}, \"9\": {\"55\": 4, \"9\": 120, \"27\": 10, \"32\": 2, \"50\": 3, \"53\": 4, \"45\": 2, \"33\": 1, \"19\": 2, \"4\": 1, \"1\": 1}, \"14\": {\"56\": 2, \"14\": 15, \"49\": 3, \"35\": 1, \"21\": 2, \"36\": 1, \"4\": 1, \"47\": 1, \"33\": 3, \"43\": 2, \"40\": 1, \"46\": 2, \"50\": 1, \"19\": 1, \"37\": 2, \"2\": 1, \"25\": 2, \"11\": 1, \"9\": 1, \"16\": 1}, \"4\": {\"4\": 79, \"7\": 1, \"1\": 2, \"30\": 2, \"47\": 1, \"45\": 3, \"19\": 4, \"27\": 2, \"18\": 1, \"9\": 2, \"25\": 1, \"55\": 1, \"50\": 1}, \"42\": {\"42\": 39, \"9\": 1}, \"24\": {\"24\": 70, \"3\": 1, \"56\": 1, \"13\": 4, \"0\": 2, \"43\": 1, \"10\": 1}, \"39\": {\"39\": 17, \"57\": 1, \"41\": 1, \"18\": 1}, \"52\": {\"52\": 118, \"28\": 1, \"46\": 2, \"23\": 3, \"16\": 4, \"21\": 1, \"36\": 1}, \"2\": {\"2\": 24, \"46\": 2, \"49\": 2}, \"28\": {\"47\": 1, \"28\": 29, \"33\": 1, \"57\": 1}, \"53\": {\"53\": 114, \"8\": 3, \"18\": 1, \"6\": 1, \"20\": 2, \"51\": 1}, \"17\": {\"26\": 1, \"17\": 103, \"6\": 4, \"30\": 2, \"48\": 4, \"45\": 1, \"8\": 1}, \"29\": {\"29\": 113, \"44\": 6, \"40\": 6, \"36\": 1, \"47\": 1, \"14\": 1, \"57\": 2, \"5\": 1, \"50\": 1}, \"38\": {\"38\": 32}, \"15\": {\"15\": 136, \"11\": 7, \"52\": 1}, \"26\": {\"26\": 21, \"38\": 1, \"55\": 2}, \"21\": {\"21\": 134, \"3\": 1, \"16\": 7, \"50\": 2}, \"41\": {\"41\": 26, \"42\": 1, \"7\": 1}, \"48\": {\"48\": 119, \"32\": 1, \"20\": 3, \"54\": 2, \"8\": 2, \"1\": 7, \"45\": 1, \"17\": 1}, \"22\": {\"22\": 26, \"35\": 1, \"24\": 1}, \"8\": {\"8\": 126, \"18\": 7, \"6\": 3, \"20\": 6, \"42\": 2, \"30\": 2, \"1\": 1, \"23\": 1}, \"18\": {\"18\": 63, \"8\": 1}, \"0\": {\"0\": 120, \"43\": 1, \"3\": 1}, \"1\": {\"1\": 122, \"18\": 2, \"48\": 7, \"27\": 4, \"20\": 1, \"53\": 1, \"32\": 1}, \"40\": {\"40\": 89, \"5\": 13, \"44\": 4, \"29\": 12, \"47\": 1, \"36\": 3, \"3\": 1, \"50\": 1}, \"6\": {\"6\": 69, \"17\": 8, \"48\": 4, \"8\": 10, \"50\": 4, \"55\": 3, \"45\": 10, \"30\": 3, \"20\": 4, \"23\": 6, \"26\": 1, \"18\": 3, \"42\": 2, \"1\": 1}, \"51\": {\"51\": 129, \"20\": 7, \"53\": 4, \"18\": 1, \"21\": 1}, \"36\": {\"36\": 86, \"3\": 2, \"47\": 2, \"43\": 1, \"49\": 1}}}, \"per_domain_accuracy\": {\"O_50\": {\"accuracy\": 0.9080729166666667, \"source?\": true}, \"O_14\": {\"accuracy\": 0.9497395833333333, \"source?\": true}, \"O_32\": {\"accuracy\": 0.9138020833333333, \"source?\": true}, \"O_44\": {\"accuracy\": 0.78984375, \"source?\": true}, \"O_8\": {\"accuracy\": 0.9059895833333333, \"source?\": true}, \"O_20\": {\"accuracy\": 0.8768229166666667, \"source?\": true}, \"O_38\": {\"accuracy\": 0.9190104166666667, \"source?\": true}, \"O_26\": {\"accuracy\": 0.8018229166666667, \"source?\": true}, \"C_4\": {\"accuracy\": 0.8431818181818181, \"source?\": false}, \"C_2\": {\"accuracy\": 0.8523525280898876, \"source?\": false}, \"C_3\": {\"accuracy\": 0.8472842261904762, \"source?\": false}, \"C_1\": {\"accuracy\": 0.8530405405405406, \"source?\": false}, \"C_5\": {\"accuracy\": 0.8372905027932961, \"source?\": false}}}, \"history\": {\"epoch_indices\": [1, 2, 3, 4, 5, 6, 7, 8, 9, 10, 11, 12, 13, 14, 15, 16], \"train_label_loss\": [1.0021533857410152, 0.7244640220821436, 0.5791810537699521, 0.5114842419379524, 0.4646425602760809, 0.41872581367469613, 0.3843917497968678, 0.3518460974770798, 0.31594286642087227, 0.2860030922072751, 0.26142041854022646, 0.24438194896917723, 0.23053578516282003, 0.2181545077601359, 0.20327531445980726, 0.1941562510648163], \"source_val_label_loss\": [1.1697075366973877, 0.6327649354934692, 0.5538222193717957, 0.46306905150413513, 0.44479718804359436, 0.44657620787620544, 0.3983640968799591, 0.38002899289131165, 0.3272307515144348, 0.3375314772129059, 0.3279099464416504, 0.3253862261772156, 0.306988000869751, 0.32526493072509766, 0.30954793095588684, 0.31263190507888794], \"target_val_label_loss\": [11.221136093139648, 2.3378067016601562, 1.9581624269485474, 3.266657590866089, 2.4855422973632812, 1.9966830015182495, 2.3182992935180664, 1.8851361274719238, 1.9766300916671753, 2.450087070465088, 2.6144354343414307, 2.387645959854126, 2.5782670974731445, 2.538846969604492, 3.2690463066101074, 3.3443386554718018], \"source_val_acc_label\": [0.6329427083333333, 0.77119140625, 0.79775390625, 0.8358072916666667, 0.8373046875, 0.8368815104166667, 0.8564778645833333, 0.8631510416666667, 0.8810872395833333, 0.87568359375, 0.8821614583333334, 0.8831380208333334, 0.8900065104166667, 0.8847330729166667, 0.8905598958333333, 0.89091796875], \"target_val_acc_label\": [0.6096785714285714, 0.7948214285714286, 0.8009642857142857, 0.7748571428571429, 0.792, 0.8163571428571429, 0.80975, 0.8303214285714285, 0.8273928571428572, 0.8233571428571429, 0.8191071428571428, 0.8467142857142858, 0.8305, 0.8443214285714286, 0.8259285714285715, 0.82125]}, \"dataset_metrics\": {\"source\": {\"train\": {\"n_unique_x\": 179200, \"n_unique_y\": 16, \"n_batch/episode\": 6720}, \"val\": {\"n_unique_x\": 38400, \"n_unique_y\": 16, \"n_batch/episode\": 960}, \"test\": {\"n_unique_x\": 38400, \"n_unique_y\": 16, \"n_batch/episode\": 960}}, \"target\": {\"train\": {\"n_unique_x\": 175197, \"n_unique_y\": 58, \"n_batch/episode\": 6309}, \"val\": {\"n_unique_x\": 37166, \"n_unique_y\": 58, \"n_batch/episode\": 875}, \"test\": {\"n_unique_x\": 37642, \"n_unique_y\": 58, \"n_batch/episode\": 890}}}}'"
      ]
     },
     "execution_count": 29,
     "metadata": {},
     "output_type": "execute_result"
    }
   ],
   "source": [
    "json.dumps(experiment)"
   ]
  }
 ],
 "metadata": {
  "celltoolbar": "Tags",
  "kernelspec": {
   "display_name": "Python 3 (ipykernel)",
   "language": "python",
   "name": "python3"
  },
  "language_info": {
   "codemirror_mode": {
    "name": "ipython",
    "version": 3
   },
   "file_extension": ".py",
   "mimetype": "text/x-python",
   "name": "python",
   "nbconvert_exporter": "python",
   "pygments_lexer": "ipython3",
   "version": "3.8.12"
  },
  "papermill": {
   "default_parameters": {},
   "duration": 4903.869889,
   "end_time": "2022-03-27T22:50:39.539637",
   "environment_variables": {},
   "exception": null,
   "input_path": "/root/csc500-main/csc500-notebooks/templates/tl_ptn_template.ipynb",
   "output_path": "trial.ipynb",
   "parameters": {
    "parameters": {
     "BEST_MODEL_PATH": "./best_model.pth",
     "NUM_LOGS_PER_EPOCH": 10,
     "criteria_for_best": "target_accuracy",
     "dataset_seed": 500,
     "datasets": [
      {
       "domain_prefix": "C_",
       "domains": [
        1,
        2,
        3,
        4,
        5
       ],
       "episode_transforms": [],
       "labels": [
        "1-10.",
        "1-11.",
        "1-15.",
        "1-16.",
        "1-17.",
        "1-18.",
        "1-19.",
        "10-4.",
        "10-7.",
        "11-1.",
        "11-14.",
        "11-17.",
        "11-20.",
        "11-7.",
        "13-20.",
        "13-8.",
        "14-10.",
        "14-11.",
        "14-14.",
        "14-7.",
        "15-1.",
        "15-20.",
        "16-1.",
        "16-16.",
        "17-10.",
        "17-11.",
        "17-2.",
        "19-1.",
        "19-16.",
        "19-19.",
        "19-20.",
        "19-3.",
        "2-10.",
        "2-11.",
        "2-17.",
        "2-18.",
        "2-20.",
        "2-3.",
        "2-4.",
        "2-5.",
        "2-6.",
        "2-7.",
        "2-8.",
        "3-13.",
        "3-18.",
        "3-3.",
        "4-1.",
        "4-10.",
        "4-11.",
        "4-19.",
        "5-5.",
        "6-15.",
        "7-10.",
        "7-14.",
        "8-18.",
        "8-20.",
        "8-3.",
        "8-8."
       ],
       "num_examples_per_domain_per_label": -1,
       "pickle_path": "/root/csc500-main/datasets/cores.stratified_ds.2022A.pkl",
       "source_or_target_dataset": "target",
       "x_transforms": [
        "unit_mag",
        "lowpass_+/-10MHz",
        "take_200"
       ]
      },
      {
       "domain_prefix": "O_",
       "domains": [
        32,
        38,
        8,
        44,
        14,
        50,
        20,
        26
       ],
       "episode_transforms": [],
       "labels": [
        "3123D52",
        "3123D65",
        "3123D79",
        "3123D80",
        "3123D54",
        "3123D70",
        "3123D7B",
        "3123D89",
        "3123D58",
        "3123D76",
        "3123D7D",
        "3123EFE",
        "3123D64",
        "3123D78",
        "3123D7E",
        "3124E4A"
       ],
       "num_examples_per_domain_per_label": 2000,
       "pickle_path": "/root/csc500-main/datasets/oracle.Run1_framed_2000Examples_stratified_ds.2022A.pkl",
       "source_or_target_dataset": "source",
       "x_transforms": [
        "unit_mag",
        "take_200",
        "resample_20Msps_to_25Msps"
       ]
      }
     ],
     "device": "cuda",
     "experiment_name": "tl_3-filterv2:oracle.run1.framed -> cores",
     "lr": 0.0001,
     "n_epoch": 50,
     "n_query": 2,
     "n_shot": 3,
     "n_way": 16,
     "patience": 3,
     "seed": 500,
     "test_k_factor": 2,
     "torch_default_dtype": "torch.float32",
     "train_k_factor": 3,
     "val_k_factor": 2,
     "x_net": [
      {
       "class": "nnReshape",
       "kargs": {
        "shape": [
         -1,
         1,
         2,
         200
        ]
       }
      },
      {
       "class": "Conv2d",
       "kargs": {
        "bias": false,
        "in_channels": 1,
        "kernel_size": [
         1,
         7
        ],
        "out_channels": 256,
        "padding": [
         0,
         3
        ]
       }
      },
      {
       "class": "ReLU",
       "kargs": {
        "inplace": true
       }
      },
      {
       "class": "BatchNorm2d",
       "kargs": {
        "num_features": 256
       }
      },
      {
       "class": "Conv2d",
       "kargs": {
        "bias": true,
        "in_channels": 256,
        "kernel_size": [
         2,
         7
        ],
        "out_channels": 80,
        "padding": [
         0,
         3
        ]
       }
      },
      {
       "class": "ReLU",
       "kargs": {
        "inplace": true
       }
      },
      {
       "class": "BatchNorm2d",
       "kargs": {
        "num_features": 80
       }
      },
      {
       "class": "Flatten",
       "kargs": {}
      },
      {
       "class": "Linear",
       "kargs": {
        "in_features": 16000,
        "out_features": 256
       }
      },
      {
       "class": "ReLU",
       "kargs": {
        "inplace": true
       }
      },
      {
       "class": "BatchNorm1d",
       "kargs": {
        "num_features": 256
       }
      },
      {
       "class": "Linear",
       "kargs": {
        "in_features": 256,
        "out_features": 256
       }
      }
     ],
     "x_shape": [
      2,
      200
     ]
    }
   },
   "start_time": "2022-03-27T21:28:55.669748",
   "version": "2.3.4"
  }
 },
 "nbformat": 4,
 "nbformat_minor": 5
}