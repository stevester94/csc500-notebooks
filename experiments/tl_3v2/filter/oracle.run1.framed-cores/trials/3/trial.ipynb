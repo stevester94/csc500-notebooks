{
 "cells": [
  {
   "cell_type": "markdown",
   "id": "9fea5f46",
   "metadata": {
    "papermill": {
     "duration": 0.018439,
     "end_time": "2022-03-25T22:20:05.446890",
     "exception": false,
     "start_time": "2022-03-25T22:20:05.428451",
     "status": "completed"
    },
    "tags": []
   },
   "source": [
    "# Transfer Learning Template"
   ]
  },
  {
   "cell_type": "code",
   "execution_count": 1,
   "id": "0902182a",
   "metadata": {
    "execution": {
     "iopub.execute_input": "2022-03-25T22:20:05.489798Z",
     "iopub.status.busy": "2022-03-25T22:20:05.489146Z",
     "iopub.status.idle": "2022-03-25T22:20:06.434854Z",
     "shell.execute_reply": "2022-03-25T22:20:06.434316Z"
    },
    "papermill": {
     "duration": 0.975108,
     "end_time": "2022-03-25T22:20:06.434972",
     "exception": false,
     "start_time": "2022-03-25T22:20:05.459864",
     "status": "completed"
    },
    "tags": []
   },
   "outputs": [],
   "source": [
    "%load_ext autoreload\n",
    "%autoreload 2\n",
    "%matplotlib inline\n",
    "\n",
    "    \n",
    "import os, json, sys, time, random\n",
    "import numpy as np\n",
    "import torch\n",
    "from torch.optim import Adam\n",
    "from  easydict import EasyDict\n",
    "import matplotlib.pyplot as plt\n",
    "\n",
    "from steves_models.steves_ptn import Steves_Prototypical_Network\n",
    "\n",
    "from steves_utils.lazy_iterable_wrapper import Lazy_Iterable_Wrapper\n",
    "from steves_utils.iterable_aggregator import Iterable_Aggregator\n",
    "from steves_utils.ptn_train_eval_test_jig import  PTN_Train_Eval_Test_Jig\n",
    "from steves_utils.torch_sequential_builder import build_sequential\n",
    "from steves_utils.torch_utils import get_dataset_metrics, ptn_confusion_by_domain_over_dataloader\n",
    "from steves_utils.utils_v2 import (per_domain_accuracy_from_confusion, get_datasets_base_path)\n",
    "from steves_utils.PTN.utils import independent_accuracy_assesment\n",
    "\n",
    "from torch.utils.data import DataLoader\n",
    "\n",
    "from steves_utils.stratified_dataset.episodic_accessor import Episodic_Accessor_Factory\n",
    "\n",
    "from steves_utils.ptn_do_report import (\n",
    "    get_loss_curve,\n",
    "    get_results_table,\n",
    "    get_parameters_table,\n",
    "    get_domain_accuracies,\n",
    ")\n",
    "\n",
    "from steves_utils.transforms import get_chained_transform"
   ]
  },
  {
   "cell_type": "markdown",
   "id": "41c840b4",
   "metadata": {
    "papermill": {
     "duration": 0.012974,
     "end_time": "2022-03-25T22:20:06.463559",
     "exception": false,
     "start_time": "2022-03-25T22:20:06.450585",
     "status": "completed"
    },
    "tags": []
   },
   "source": [
    "# Allowed Parameters\n",
    "These are allowed parameters, not defaults\n",
    "Each of these values need to be present in the injected parameters (the notebook will raise an exception if they are not present)\n",
    "\n",
    "Papermill uses the cell tag \"parameters\" to inject the real parameters below this cell.\n",
    "Enable tags to see what I mean"
   ]
  },
  {
   "cell_type": "code",
   "execution_count": 2,
   "id": "fd44eb83",
   "metadata": {
    "execution": {
     "iopub.execute_input": "2022-03-25T22:20:06.499183Z",
     "iopub.status.busy": "2022-03-25T22:20:06.494337Z",
     "iopub.status.idle": "2022-03-25T22:20:06.508293Z",
     "shell.execute_reply": "2022-03-25T22:20:06.508603Z"
    },
    "papermill": {
     "duration": 0.031464,
     "end_time": "2022-03-25T22:20:06.508702",
     "exception": false,
     "start_time": "2022-03-25T22:20:06.477238",
     "status": "completed"
    },
    "tags": []
   },
   "outputs": [],
   "source": [
    "required_parameters = {\n",
    "    \"experiment_name\",\n",
    "    \"lr\",\n",
    "    \"device\",\n",
    "    \"seed\",\n",
    "    \"dataset_seed\",\n",
    "    \"n_shot\",\n",
    "    \"n_query\",\n",
    "    \"n_way\",\n",
    "    \"train_k_factor\",\n",
    "    \"val_k_factor\",\n",
    "    \"test_k_factor\",\n",
    "    \"n_epoch\",\n",
    "    \"patience\",\n",
    "    \"criteria_for_best\",\n",
    "    \"x_net\",\n",
    "    \"datasets\",\n",
    "    \"torch_default_dtype\",\n",
    "    \"NUM_LOGS_PER_EPOCH\",\n",
    "    \"BEST_MODEL_PATH\",\n",
    "    \"x_shape\",\n",
    "}"
   ]
  },
  {
   "cell_type": "code",
   "execution_count": 3,
   "id": "fa3f0049",
   "metadata": {
    "execution": {
     "iopub.execute_input": "2022-03-25T22:20:06.553534Z",
     "iopub.status.busy": "2022-03-25T22:20:06.550574Z",
     "iopub.status.idle": "2022-03-25T22:20:06.565527Z",
     "shell.execute_reply": "2022-03-25T22:20:06.565074Z"
    },
    "papermill": {
     "duration": 0.038621,
     "end_time": "2022-03-25T22:20:06.565632",
     "exception": false,
     "start_time": "2022-03-25T22:20:06.527011",
     "status": "completed"
    },
    "tags": [
     "parameters"
    ]
   },
   "outputs": [],
   "source": [
    "from steves_utils.CORES.utils import (\n",
    "    ALL_NODES,\n",
    "    ALL_NODES_MINIMUM_1000_EXAMPLES,\n",
    "    ALL_DAYS\n",
    ")\n",
    "\n",
    "from steves_utils.ORACLE.utils_v2 import (\n",
    "    ALL_DISTANCES_FEET_NARROWED,\n",
    "    ALL_RUNS,\n",
    "    ALL_SERIAL_NUMBERS,\n",
    ")\n",
    "\n",
    "standalone_parameters = {}\n",
    "standalone_parameters[\"experiment_name\"] = \"STANDALONE PTN\"\n",
    "standalone_parameters[\"lr\"] = 0.001\n",
    "standalone_parameters[\"device\"] = \"cuda\"\n",
    "\n",
    "standalone_parameters[\"seed\"] = 1337\n",
    "standalone_parameters[\"dataset_seed\"] = 1337\n",
    "\n",
    "standalone_parameters[\"n_way\"] = 8\n",
    "standalone_parameters[\"n_shot\"] = 3\n",
    "standalone_parameters[\"n_query\"]  = 2\n",
    "standalone_parameters[\"train_k_factor\"] = 1\n",
    "standalone_parameters[\"val_k_factor\"] = 2\n",
    "standalone_parameters[\"test_k_factor\"] = 2\n",
    "\n",
    "\n",
    "standalone_parameters[\"n_epoch\"] = 50\n",
    "\n",
    "standalone_parameters[\"patience\"] = 10\n",
    "standalone_parameters[\"criteria_for_best\"] = \"source_loss\"\n",
    "\n",
    "standalone_parameters[\"datasets\"] = [\n",
    "    {\n",
    "        \"labels\": ALL_SERIAL_NUMBERS,\n",
    "        \"domains\": ALL_DISTANCES_FEET_NARROWED,\n",
    "        \"num_examples_per_domain_per_label\": 100,\n",
    "        \"pickle_path\": os.path.join(get_datasets_base_path(), \"oracle.Run1_framed_2000Examples_stratified_ds.2022A.pkl\"),\n",
    "        \"source_or_target_dataset\": \"source\",\n",
    "        \"x_transforms\": [\"unit_mag\", \"minus_two\"],\n",
    "        \"episode_transforms\": [],\n",
    "        \"domain_prefix\": \"ORACLE_\"\n",
    "    },\n",
    "    {\n",
    "        \"labels\": ALL_NODES,\n",
    "        \"domains\": ALL_DAYS,\n",
    "        \"num_examples_per_domain_per_label\": 100,\n",
    "        \"pickle_path\": os.path.join(get_datasets_base_path(), \"cores.stratified_ds.2022A.pkl\"),\n",
    "        \"source_or_target_dataset\": \"target\",\n",
    "        \"x_transforms\": [\"unit_power\", \"times_zero\"],\n",
    "        \"episode_transforms\": [],\n",
    "        \"domain_prefix\": \"CORES_\"\n",
    "    }   \n",
    "]\n",
    "\n",
    "standalone_parameters[\"torch_default_dtype\"] = \"torch.float32\" \n",
    "\n",
    "\n",
    "\n",
    "standalone_parameters[\"x_net\"] =     [\n",
    "    {\"class\": \"nnReshape\", \"kargs\": {\"shape\":[-1, 1, 2, 256]}},\n",
    "    {\"class\": \"Conv2d\", \"kargs\": { \"in_channels\":1, \"out_channels\":256, \"kernel_size\":(1,7), \"bias\":False, \"padding\":(0,3), },},\n",
    "    {\"class\": \"ReLU\", \"kargs\": {\"inplace\": True}},\n",
    "    {\"class\": \"BatchNorm2d\", \"kargs\": {\"num_features\":256}},\n",
    "\n",
    "    {\"class\": \"Conv2d\", \"kargs\": { \"in_channels\":256, \"out_channels\":80, \"kernel_size\":(2,7), \"bias\":True, \"padding\":(0,3), },},\n",
    "    {\"class\": \"ReLU\", \"kargs\": {\"inplace\": True}},\n",
    "    {\"class\": \"BatchNorm2d\", \"kargs\": {\"num_features\":80}},\n",
    "    {\"class\": \"Flatten\", \"kargs\": {}},\n",
    "\n",
    "    {\"class\": \"Linear\", \"kargs\": {\"in_features\": 80*256, \"out_features\": 256}}, # 80 units per IQ pair\n",
    "    {\"class\": \"ReLU\", \"kargs\": {\"inplace\": True}},\n",
    "    {\"class\": \"BatchNorm1d\", \"kargs\": {\"num_features\":256}},\n",
    "\n",
    "    {\"class\": \"Linear\", \"kargs\": {\"in_features\": 256, \"out_features\": 256}},\n",
    "]\n",
    "\n",
    "# Parameters relevant to results\n",
    "# These parameters will basically never need to change\n",
    "standalone_parameters[\"NUM_LOGS_PER_EPOCH\"] = 10\n",
    "standalone_parameters[\"BEST_MODEL_PATH\"] = \"./best_model.pth\"\n",
    "\n",
    "\n",
    "\n",
    "\n"
   ]
  },
  {
   "cell_type": "code",
   "execution_count": 4,
   "id": "a6cb73f0",
   "metadata": {
    "execution": {
     "iopub.execute_input": "2022-03-25T22:20:06.609043Z",
     "iopub.status.busy": "2022-03-25T22:20:06.604414Z",
     "iopub.status.idle": "2022-03-25T22:20:06.621202Z",
     "shell.execute_reply": "2022-03-25T22:20:06.620705Z"
    },
    "papermill": {
     "duration": 0.037089,
     "end_time": "2022-03-25T22:20:06.621307",
     "exception": false,
     "start_time": "2022-03-25T22:20:06.584218",
     "status": "completed"
    },
    "tags": [
     "injected-parameters"
    ]
   },
   "outputs": [],
   "source": [
    "# Parameters\n",
    "parameters = {\n",
    "    \"experiment_name\": \"tl_3-filterv2:oracle.run1.framed -> cores\",\n",
    "    \"device\": \"cuda\",\n",
    "    \"lr\": 0.0001,\n",
    "    \"x_shape\": [2, 200],\n",
    "    \"n_shot\": 3,\n",
    "    \"n_query\": 2,\n",
    "    \"train_k_factor\": 3,\n",
    "    \"val_k_factor\": 2,\n",
    "    \"test_k_factor\": 2,\n",
    "    \"torch_default_dtype\": \"torch.float32\",\n",
    "    \"n_epoch\": 50,\n",
    "    \"patience\": 3,\n",
    "    \"criteria_for_best\": \"target_accuracy\",\n",
    "    \"x_net\": [\n",
    "        {\"class\": \"nnReshape\", \"kargs\": {\"shape\": [-1, 1, 2, 200]}},\n",
    "        {\n",
    "            \"class\": \"Conv2d\",\n",
    "            \"kargs\": {\n",
    "                \"in_channels\": 1,\n",
    "                \"out_channels\": 256,\n",
    "                \"kernel_size\": [1, 7],\n",
    "                \"bias\": False,\n",
    "                \"padding\": [0, 3],\n",
    "            },\n",
    "        },\n",
    "        {\"class\": \"ReLU\", \"kargs\": {\"inplace\": True}},\n",
    "        {\"class\": \"BatchNorm2d\", \"kargs\": {\"num_features\": 256}},\n",
    "        {\n",
    "            \"class\": \"Conv2d\",\n",
    "            \"kargs\": {\n",
    "                \"in_channels\": 256,\n",
    "                \"out_channels\": 80,\n",
    "                \"kernel_size\": [2, 7],\n",
    "                \"bias\": True,\n",
    "                \"padding\": [0, 3],\n",
    "            },\n",
    "        },\n",
    "        {\"class\": \"ReLU\", \"kargs\": {\"inplace\": True}},\n",
    "        {\"class\": \"BatchNorm2d\", \"kargs\": {\"num_features\": 80}},\n",
    "        {\"class\": \"Flatten\", \"kargs\": {}},\n",
    "        {\"class\": \"Linear\", \"kargs\": {\"in_features\": 16000, \"out_features\": 256}},\n",
    "        {\"class\": \"ReLU\", \"kargs\": {\"inplace\": True}},\n",
    "        {\"class\": \"BatchNorm1d\", \"kargs\": {\"num_features\": 256}},\n",
    "        {\"class\": \"Linear\", \"kargs\": {\"in_features\": 256, \"out_features\": 256}},\n",
    "    ],\n",
    "    \"NUM_LOGS_PER_EPOCH\": 10,\n",
    "    \"BEST_MODEL_PATH\": \"./best_model.pth\",\n",
    "    \"n_way\": 16,\n",
    "    \"datasets\": [\n",
    "        {\n",
    "            \"labels\": [\n",
    "                \"1-10.\",\n",
    "                \"1-11.\",\n",
    "                \"1-15.\",\n",
    "                \"1-16.\",\n",
    "                \"1-17.\",\n",
    "                \"1-18.\",\n",
    "                \"1-19.\",\n",
    "                \"10-4.\",\n",
    "                \"10-7.\",\n",
    "                \"11-1.\",\n",
    "                \"11-14.\",\n",
    "                \"11-17.\",\n",
    "                \"11-20.\",\n",
    "                \"11-7.\",\n",
    "                \"13-20.\",\n",
    "                \"13-8.\",\n",
    "                \"14-10.\",\n",
    "                \"14-11.\",\n",
    "                \"14-14.\",\n",
    "                \"14-7.\",\n",
    "                \"15-1.\",\n",
    "                \"15-20.\",\n",
    "                \"16-1.\",\n",
    "                \"16-16.\",\n",
    "                \"17-10.\",\n",
    "                \"17-11.\",\n",
    "                \"17-2.\",\n",
    "                \"19-1.\",\n",
    "                \"19-16.\",\n",
    "                \"19-19.\",\n",
    "                \"19-20.\",\n",
    "                \"19-3.\",\n",
    "                \"2-10.\",\n",
    "                \"2-11.\",\n",
    "                \"2-17.\",\n",
    "                \"2-18.\",\n",
    "                \"2-20.\",\n",
    "                \"2-3.\",\n",
    "                \"2-4.\",\n",
    "                \"2-5.\",\n",
    "                \"2-6.\",\n",
    "                \"2-7.\",\n",
    "                \"2-8.\",\n",
    "                \"3-13.\",\n",
    "                \"3-18.\",\n",
    "                \"3-3.\",\n",
    "                \"4-1.\",\n",
    "                \"4-10.\",\n",
    "                \"4-11.\",\n",
    "                \"4-19.\",\n",
    "                \"5-5.\",\n",
    "                \"6-15.\",\n",
    "                \"7-10.\",\n",
    "                \"7-14.\",\n",
    "                \"8-18.\",\n",
    "                \"8-20.\",\n",
    "                \"8-3.\",\n",
    "                \"8-8.\",\n",
    "            ],\n",
    "            \"domains\": [1, 2, 3, 4, 5],\n",
    "            \"num_examples_per_domain_per_label\": -1,\n",
    "            \"pickle_path\": \"/mnt/wd500GB/CSC500/csc500-main/datasets/cores.stratified_ds.2022A.pkl\",\n",
    "            \"source_or_target_dataset\": \"target\",\n",
    "            \"x_transforms\": [\"unit_power\", \"lowpass_+/-10MHz\", \"take_200\"],\n",
    "            \"episode_transforms\": [],\n",
    "            \"domain_prefix\": \"C_\",\n",
    "        },\n",
    "        {\n",
    "            \"labels\": [\n",
    "                \"3123D52\",\n",
    "                \"3123D65\",\n",
    "                \"3123D79\",\n",
    "                \"3123D80\",\n",
    "                \"3123D54\",\n",
    "                \"3123D70\",\n",
    "                \"3123D7B\",\n",
    "                \"3123D89\",\n",
    "                \"3123D58\",\n",
    "                \"3123D76\",\n",
    "                \"3123D7D\",\n",
    "                \"3123EFE\",\n",
    "                \"3123D64\",\n",
    "                \"3123D78\",\n",
    "                \"3123D7E\",\n",
    "                \"3124E4A\",\n",
    "            ],\n",
    "            \"domains\": [32, 38, 8, 44, 14, 50, 20, 26],\n",
    "            \"num_examples_per_domain_per_label\": 2000,\n",
    "            \"pickle_path\": \"/mnt/wd500GB/CSC500/csc500-main/datasets/oracle.Run1_framed_2000Examples_stratified_ds.2022A.pkl\",\n",
    "            \"source_or_target_dataset\": \"source\",\n",
    "            \"x_transforms\": [\"unit_power\", \"take_200\", \"resample_20Msps_to_25Msps\"],\n",
    "            \"episode_transforms\": [],\n",
    "            \"domain_prefix\": \"O_\",\n",
    "        },\n",
    "    ],\n",
    "    \"seed\": 420,\n",
    "    \"dataset_seed\": 420,\n",
    "}\n"
   ]
  },
  {
   "cell_type": "code",
   "execution_count": 5,
   "id": "8fa1cc33",
   "metadata": {
    "execution": {
     "iopub.execute_input": "2022-03-25T22:20:06.658418Z",
     "iopub.status.busy": "2022-03-25T22:20:06.657711Z",
     "iopub.status.idle": "2022-03-25T22:20:06.673907Z",
     "shell.execute_reply": "2022-03-25T22:20:06.673443Z"
    },
    "papermill": {
     "duration": 0.034398,
     "end_time": "2022-03-25T22:20:06.674026",
     "exception": false,
     "start_time": "2022-03-25T22:20:06.639628",
     "status": "completed"
    },
    "tags": []
   },
   "outputs": [],
   "source": [
    "# Set this to True if you want to run this template directly\n",
    "STANDALONE = False\n",
    "if STANDALONE:\n",
    "    print(\"parameters not injected, running with standalone_parameters\")\n",
    "    parameters = standalone_parameters\n",
    "\n",
    "if not 'parameters' in locals() and not 'parameters' in globals():\n",
    "    raise Exception(\"Parameter injection failed\")\n",
    "\n",
    "#Use an easy dict for all the parameters\n",
    "p = EasyDict(parameters)\n",
    "\n",
    "if \"x_shape\" not in p:\n",
    "    p.x_shape = [2,256] # Default to this if we dont supply x_shape\n",
    "\n",
    "\n",
    "supplied_keys = set(p.keys())\n",
    "\n",
    "if  supplied_keys != required_parameters:\n",
    "    print(\"Parameters are incorrect\")\n",
    "    if len(supplied_keys - required_parameters)>0: print(\"Shouldn't have:\", str(supplied_keys - required_parameters))\n",
    "    if len(required_parameters - supplied_keys)>0: print(\"Need to have:\", str(required_parameters - supplied_keys))\n",
    "    raise RuntimeError(\"Parameters are incorrect\")"
   ]
  },
  {
   "cell_type": "code",
   "execution_count": 6,
   "id": "3a028d58",
   "metadata": {
    "execution": {
     "iopub.execute_input": "2022-03-25T22:20:06.707009Z",
     "iopub.status.busy": "2022-03-25T22:20:06.706736Z",
     "iopub.status.idle": "2022-03-25T22:20:06.722374Z",
     "shell.execute_reply": "2022-03-25T22:20:06.722020Z"
    },
    "papermill": {
     "duration": 0.03144,
     "end_time": "2022-03-25T22:20:06.722455",
     "exception": false,
     "start_time": "2022-03-25T22:20:06.691015",
     "status": "completed"
    },
    "tags": []
   },
   "outputs": [],
   "source": [
    "###################################\n",
    "# Set the RNGs and make it all deterministic\n",
    "###################################\n",
    "np.random.seed(p.seed)\n",
    "random.seed(p.seed)\n",
    "torch.manual_seed(p.seed)\n",
    "\n",
    "torch.use_deterministic_algorithms(True) "
   ]
  },
  {
   "cell_type": "code",
   "execution_count": 7,
   "id": "b691acf6",
   "metadata": {
    "execution": {
     "iopub.execute_input": "2022-03-25T22:20:06.756512Z",
     "iopub.status.busy": "2022-03-25T22:20:06.756241Z",
     "iopub.status.idle": "2022-03-25T22:20:06.771161Z",
     "shell.execute_reply": "2022-03-25T22:20:06.770727Z"
    },
    "papermill": {
     "duration": 0.030375,
     "end_time": "2022-03-25T22:20:06.771264",
     "exception": false,
     "start_time": "2022-03-25T22:20:06.740889",
     "status": "completed"
    },
    "tags": []
   },
   "outputs": [],
   "source": [
    "###########################################\n",
    "# The stratified datasets honor this\n",
    "###########################################\n",
    "torch.set_default_dtype(eval(p.torch_default_dtype))"
   ]
  },
  {
   "cell_type": "code",
   "execution_count": 8,
   "id": "b5fba671",
   "metadata": {
    "execution": {
     "iopub.execute_input": "2022-03-25T22:20:06.806144Z",
     "iopub.status.busy": "2022-03-25T22:20:06.805588Z",
     "iopub.status.idle": "2022-03-25T22:20:06.845634Z",
     "shell.execute_reply": "2022-03-25T22:20:06.845185Z"
    },
    "papermill": {
     "duration": 0.056029,
     "end_time": "2022-03-25T22:20:06.845743",
     "exception": false,
     "start_time": "2022-03-25T22:20:06.789714",
     "status": "completed"
    },
    "tags": []
   },
   "outputs": [],
   "source": [
    "###################################\n",
    "# Build the network(s)\n",
    "# Note: It's critical to do this AFTER setting the RNG\n",
    "###################################\n",
    "x_net = build_sequential(p.x_net)"
   ]
  },
  {
   "cell_type": "code",
   "execution_count": 9,
   "id": "5d7e61cc",
   "metadata": {
    "execution": {
     "iopub.execute_input": "2022-03-25T22:20:06.881515Z",
     "iopub.status.busy": "2022-03-25T22:20:06.881245Z",
     "iopub.status.idle": "2022-03-25T22:20:06.894545Z",
     "shell.execute_reply": "2022-03-25T22:20:06.894160Z"
    },
    "papermill": {
     "duration": 0.030945,
     "end_time": "2022-03-25T22:20:06.894626",
     "exception": false,
     "start_time": "2022-03-25T22:20:06.863681",
     "status": "completed"
    },
    "tags": []
   },
   "outputs": [],
   "source": [
    "start_time_secs = time.time()"
   ]
  },
  {
   "cell_type": "code",
   "execution_count": 10,
   "id": "c6b67dfd",
   "metadata": {
    "execution": {
     "iopub.execute_input": "2022-03-25T22:20:06.930550Z",
     "iopub.status.busy": "2022-03-25T22:20:06.930240Z",
     "iopub.status.idle": "2022-03-25T22:20:06.945609Z",
     "shell.execute_reply": "2022-03-25T22:20:06.945276Z"
    },
    "papermill": {
     "duration": 0.031733,
     "end_time": "2022-03-25T22:20:06.945690",
     "exception": false,
     "start_time": "2022-03-25T22:20:06.913957",
     "status": "completed"
    },
    "tags": []
   },
   "outputs": [],
   "source": [
    "p.domains_source = []\n",
    "p.domains_target = []\n",
    "\n",
    "\n",
    "train_original_source = []\n",
    "val_original_source   = []\n",
    "test_original_source  = []\n",
    "\n",
    "train_original_target = []\n",
    "val_original_target   = []\n",
    "test_original_target  = []"
   ]
  },
  {
   "cell_type": "code",
   "execution_count": 11,
   "id": "e3d9c3d3",
   "metadata": {
    "execution": {
     "iopub.execute_input": "2022-03-25T22:20:06.979378Z",
     "iopub.status.busy": "2022-03-25T22:20:06.979119Z",
     "iopub.status.idle": "2022-03-25T22:20:06.993222Z",
     "shell.execute_reply": "2022-03-25T22:20:06.992762Z"
    },
    "papermill": {
     "duration": 0.029564,
     "end_time": "2022-03-25T22:20:06.993334",
     "exception": false,
     "start_time": "2022-03-25T22:20:06.963770",
     "status": "completed"
    },
    "tags": []
   },
   "outputs": [],
   "source": [
    "# global_x_transform_func = lambda x: normalize(x.to(torch.get_default_dtype()), \"unit_power\") # unit_power, unit_mag\n",
    "# global_x_transform_func = lambda x: normalize(x, \"unit_power\") # unit_power, unit_mag"
   ]
  },
  {
   "cell_type": "code",
   "execution_count": 12,
   "id": "acb78fd2",
   "metadata": {
    "execution": {
     "iopub.execute_input": "2022-03-25T22:20:07.033459Z",
     "iopub.status.busy": "2022-03-25T22:20:07.033183Z",
     "iopub.status.idle": "2022-03-25T22:20:07.046063Z",
     "shell.execute_reply": "2022-03-25T22:20:07.045822Z"
    },
    "papermill": {
     "duration": 0.033803,
     "end_time": "2022-03-25T22:20:07.046124",
     "exception": false,
     "start_time": "2022-03-25T22:20:07.012321",
     "status": "completed"
    },
    "tags": []
   },
   "outputs": [],
   "source": [
    "def add_dataset(\n",
    "    labels,\n",
    "    domains,\n",
    "    pickle_path,\n",
    "    x_transforms,\n",
    "    episode_transforms,\n",
    "    domain_prefix,\n",
    "    num_examples_per_domain_per_label,\n",
    "    source_or_target_dataset:str,\n",
    "    iterator_seed=p.seed,\n",
    "    dataset_seed=p.dataset_seed,\n",
    "    n_shot=p.n_shot,\n",
    "    n_way=p.n_way,\n",
    "    n_query=p.n_query,\n",
    "    train_val_test_k_factors=(p.train_k_factor,p.val_k_factor,p.test_k_factor),\n",
    "):\n",
    "   \n",
    "    if x_transforms == []: x_transform = None\n",
    "    else: x_transform = get_chained_transform(x_transforms)\n",
    "    \n",
    "    if episode_transforms == []: episode_transform = None\n",
    "    else: raise Exception(\"episode_transforms not implemented\")\n",
    "    \n",
    "    episode_transform = lambda tup, _prefix=domain_prefix: (_prefix + str(tup[0]), tup[1])\n",
    "\n",
    "\n",
    "    eaf = Episodic_Accessor_Factory(\n",
    "        labels=labels,\n",
    "        domains=domains,\n",
    "        num_examples_per_domain_per_label=num_examples_per_domain_per_label,\n",
    "        iterator_seed=iterator_seed,\n",
    "        dataset_seed=dataset_seed,\n",
    "        n_shot=n_shot,\n",
    "        n_way=n_way,\n",
    "        n_query=n_query,\n",
    "        train_val_test_k_factors=train_val_test_k_factors,\n",
    "        pickle_path=pickle_path,\n",
    "        x_transform_func=x_transform,\n",
    "    )\n",
    "\n",
    "    train, val, test = eaf.get_train(), eaf.get_val(), eaf.get_test()\n",
    "    train = Lazy_Iterable_Wrapper(train, episode_transform)\n",
    "    val = Lazy_Iterable_Wrapper(val, episode_transform)\n",
    "    test = Lazy_Iterable_Wrapper(test, episode_transform)\n",
    "\n",
    "    if source_or_target_dataset==\"source\":\n",
    "        train_original_source.append(train)\n",
    "        val_original_source.append(val)\n",
    "        test_original_source.append(test)\n",
    "\n",
    "        p.domains_source.extend(\n",
    "            [domain_prefix + str(u) for u in domains]\n",
    "        )\n",
    "    elif source_or_target_dataset==\"target\":\n",
    "        train_original_target.append(train)\n",
    "        val_original_target.append(val)\n",
    "        test_original_target.append(test)\n",
    "        p.domains_target.extend(\n",
    "            [domain_prefix + str(u) for u in domains]\n",
    "        )\n",
    "    else:\n",
    "        raise Exception(f\"invalid source_or_target_dataset: {source_or_target_dataset}\")\n",
    "    "
   ]
  },
  {
   "cell_type": "code",
   "execution_count": 13,
   "id": "fe266617",
   "metadata": {
    "execution": {
     "iopub.execute_input": "2022-03-25T22:20:07.076398Z",
     "iopub.status.busy": "2022-03-25T22:20:07.076129Z",
     "iopub.status.idle": "2022-03-25T22:21:01.750664Z",
     "shell.execute_reply": "2022-03-25T22:21:01.750218Z"
    },
    "papermill": {
     "duration": 54.691218,
     "end_time": "2022-03-25T22:21:01.750779",
     "exception": false,
     "start_time": "2022-03-25T22:20:07.059561",
     "status": "completed"
    },
    "tags": []
   },
   "outputs": [],
   "source": [
    "for ds in p.datasets:\n",
    "    add_dataset(**ds)"
   ]
  },
  {
   "cell_type": "code",
   "execution_count": 14,
   "id": "b90d65ac",
   "metadata": {
    "execution": {
     "iopub.execute_input": "2022-03-25T22:21:01.784843Z",
     "iopub.status.busy": "2022-03-25T22:21:01.784575Z",
     "iopub.status.idle": "2022-03-25T22:21:01.800992Z",
     "shell.execute_reply": "2022-03-25T22:21:01.800570Z"
    },
    "papermill": {
     "duration": 0.032125,
     "end_time": "2022-03-25T22:21:01.801098",
     "exception": false,
     "start_time": "2022-03-25T22:21:01.768973",
     "status": "completed"
    },
    "tags": []
   },
   "outputs": [],
   "source": [
    "# from steves_utils.CORES.utils import (\n",
    "#     ALL_NODES,\n",
    "#     ALL_NODES_MINIMUM_1000_EXAMPLES,\n",
    "#     ALL_DAYS\n",
    "# )\n",
    "\n",
    "# add_dataset(\n",
    "#     labels=ALL_NODES,\n",
    "#     domains = ALL_DAYS,\n",
    "#     num_examples_per_domain_per_label=100,\n",
    "#     pickle_path=os.path.join(get_datasets_base_path(), \"cores.stratified_ds.2022A.pkl\"),\n",
    "#     source_or_target_dataset=\"target\",\n",
    "#     x_transform_func=global_x_transform_func,\n",
    "#     domain_modifier=lambda u: f\"cores_{u}\"\n",
    "# )"
   ]
  },
  {
   "cell_type": "code",
   "execution_count": 15,
   "id": "76db484d",
   "metadata": {
    "execution": {
     "iopub.execute_input": "2022-03-25T22:21:01.835241Z",
     "iopub.status.busy": "2022-03-25T22:21:01.834972Z",
     "iopub.status.idle": "2022-03-25T22:21:01.849540Z",
     "shell.execute_reply": "2022-03-25T22:21:01.849105Z"
    },
    "papermill": {
     "duration": 0.029907,
     "end_time": "2022-03-25T22:21:01.849640",
     "exception": false,
     "start_time": "2022-03-25T22:21:01.819733",
     "status": "completed"
    },
    "tags": []
   },
   "outputs": [],
   "source": [
    "# from steves_utils.ORACLE.utils_v2 import (\n",
    "#     ALL_DISTANCES_FEET,\n",
    "#     ALL_RUNS,\n",
    "#     ALL_SERIAL_NUMBERS,\n",
    "# )\n",
    "\n",
    "\n",
    "# add_dataset(\n",
    "#     labels=ALL_SERIAL_NUMBERS,\n",
    "#     domains = list(set(ALL_DISTANCES_FEET) - {2,62}),\n",
    "#     num_examples_per_domain_per_label=100,\n",
    "#     pickle_path=os.path.join(get_datasets_base_path(), \"oracle.Run2_framed_2000Examples_stratified_ds.2022A.pkl\"),\n",
    "#     source_or_target_dataset=\"source\",\n",
    "#     x_transform_func=global_x_transform_func,\n",
    "#     domain_modifier=lambda u: f\"oracle1_{u}\"\n",
    "# )\n"
   ]
  },
  {
   "cell_type": "code",
   "execution_count": 16,
   "id": "97dea9d2",
   "metadata": {
    "execution": {
     "iopub.execute_input": "2022-03-25T22:21:01.883358Z",
     "iopub.status.busy": "2022-03-25T22:21:01.883100Z",
     "iopub.status.idle": "2022-03-25T22:21:01.899595Z",
     "shell.execute_reply": "2022-03-25T22:21:01.899100Z"
    },
    "papermill": {
     "duration": 0.031978,
     "end_time": "2022-03-25T22:21:01.899696",
     "exception": false,
     "start_time": "2022-03-25T22:21:01.867718",
     "status": "completed"
    },
    "tags": []
   },
   "outputs": [],
   "source": [
    "# from steves_utils.ORACLE.utils_v2 import (\n",
    "#     ALL_DISTANCES_FEET,\n",
    "#     ALL_RUNS,\n",
    "#     ALL_SERIAL_NUMBERS,\n",
    "# )\n",
    "\n",
    "\n",
    "# add_dataset(\n",
    "#     labels=ALL_SERIAL_NUMBERS,\n",
    "#     domains = list(set(ALL_DISTANCES_FEET) - {2,62,56}),\n",
    "#     num_examples_per_domain_per_label=100,\n",
    "#     pickle_path=os.path.join(get_datasets_base_path(), \"oracle.Run2_framed_2000Examples_stratified_ds.2022A.pkl\"),\n",
    "#     source_or_target_dataset=\"source\",\n",
    "#     x_transform_func=global_x_transform_func,\n",
    "#     domain_modifier=lambda u: f\"oracle2_{u}\"\n",
    "# )"
   ]
  },
  {
   "cell_type": "code",
   "execution_count": 17,
   "id": "6f289866",
   "metadata": {
    "execution": {
     "iopub.execute_input": "2022-03-25T22:21:01.934786Z",
     "iopub.status.busy": "2022-03-25T22:21:01.934520Z",
     "iopub.status.idle": "2022-03-25T22:21:01.945392Z",
     "shell.execute_reply": "2022-03-25T22:21:01.945804Z"
    },
    "papermill": {
     "duration": 0.026617,
     "end_time": "2022-03-25T22:21:01.945924",
     "exception": false,
     "start_time": "2022-03-25T22:21:01.919307",
     "status": "completed"
    },
    "tags": []
   },
   "outputs": [],
   "source": [
    "# add_dataset(\n",
    "#     labels=list(range(19)),\n",
    "#     domains = [0,1,2],\n",
    "#     num_examples_per_domain_per_label=100,\n",
    "#     pickle_path=os.path.join(get_datasets_base_path(), \"metehan.stratified_ds.2022A.pkl\"),\n",
    "#     source_or_target_dataset=\"target\",\n",
    "#     x_transform_func=global_x_transform_func,\n",
    "#     domain_modifier=lambda u: f\"met_{u}\"\n",
    "# )"
   ]
  },
  {
   "cell_type": "code",
   "execution_count": 18,
   "id": "86a863c3",
   "metadata": {
    "execution": {
     "iopub.execute_input": "2022-03-25T22:21:01.979984Z",
     "iopub.status.busy": "2022-03-25T22:21:01.979717Z",
     "iopub.status.idle": "2022-03-25T22:21:01.994265Z",
     "shell.execute_reply": "2022-03-25T22:21:01.993824Z"
    },
    "papermill": {
     "duration": 0.030218,
     "end_time": "2022-03-25T22:21:01.994366",
     "exception": false,
     "start_time": "2022-03-25T22:21:01.964148",
     "status": "completed"
    },
    "tags": []
   },
   "outputs": [],
   "source": [
    "# # from steves_utils.wisig.utils import (\n",
    "# #     ALL_NODES_MINIMUM_100_EXAMPLES,\n",
    "# #     ALL_NODES_MINIMUM_500_EXAMPLES,\n",
    "# #     ALL_NODES_MINIMUM_1000_EXAMPLES,\n",
    "# #     ALL_DAYS\n",
    "# # )\n",
    "\n",
    "# import steves_utils.wisig.utils as wisig\n",
    "\n",
    "\n",
    "# add_dataset(\n",
    "#     labels=wisig.ALL_NODES_MINIMUM_100_EXAMPLES,\n",
    "#     domains = wisig.ALL_DAYS,\n",
    "#     num_examples_per_domain_per_label=100,\n",
    "#     pickle_path=os.path.join(get_datasets_base_path(), \"wisig.node3-19.stratified_ds.2022A.pkl\"),\n",
    "#     source_or_target_dataset=\"target\",\n",
    "#     x_transform_func=global_x_transform_func,\n",
    "#     domain_modifier=lambda u: f\"wisig_{u}\"\n",
    "# )"
   ]
  },
  {
   "cell_type": "code",
   "execution_count": 19,
   "id": "fd5442bc",
   "metadata": {
    "execution": {
     "iopub.execute_input": "2022-03-25T22:21:02.033706Z",
     "iopub.status.busy": "2022-03-25T22:21:02.033417Z",
     "iopub.status.idle": "2022-03-25T22:21:02.049313Z",
     "shell.execute_reply": "2022-03-25T22:21:02.048810Z"
    },
    "papermill": {
     "duration": 0.034802,
     "end_time": "2022-03-25T22:21:02.049433",
     "exception": false,
     "start_time": "2022-03-25T22:21:02.014631",
     "status": "completed"
    },
    "tags": []
   },
   "outputs": [],
   "source": [
    "###################################\n",
    "# Build the dataset\n",
    "###################################\n",
    "train_original_source = Iterable_Aggregator(train_original_source, p.seed)\n",
    "val_original_source = Iterable_Aggregator(val_original_source, p.seed)\n",
    "test_original_source = Iterable_Aggregator(test_original_source, p.seed)\n",
    "\n",
    "\n",
    "train_original_target = Iterable_Aggregator(train_original_target, p.seed)\n",
    "val_original_target = Iterable_Aggregator(val_original_target, p.seed)\n",
    "test_original_target = Iterable_Aggregator(test_original_target, p.seed)\n",
    "\n",
    "# For CNN We only use X and Y. And we only train on the source.\n",
    "# Properly form the data using a transform lambda and Lazy_Iterable_Wrapper. Finally wrap them in a dataloader\n",
    "\n",
    "transform_lambda = lambda ex: ex[1] # Original is (<domain>, <episode>) so we strip down to episode only\n",
    "\n",
    "train_processed_source = Lazy_Iterable_Wrapper(train_original_source, transform_lambda)\n",
    "val_processed_source   = Lazy_Iterable_Wrapper(val_original_source, transform_lambda)\n",
    "test_processed_source  = Lazy_Iterable_Wrapper(test_original_source, transform_lambda)\n",
    "\n",
    "train_processed_target = Lazy_Iterable_Wrapper(train_original_target, transform_lambda)\n",
    "val_processed_target   = Lazy_Iterable_Wrapper(val_original_target, transform_lambda)\n",
    "test_processed_target  = Lazy_Iterable_Wrapper(test_original_target, transform_lambda)\n",
    "\n",
    "datasets = EasyDict({\n",
    "    \"source\": {\n",
    "        \"original\": {\"train\":train_original_source, \"val\":val_original_source, \"test\":test_original_source},\n",
    "        \"processed\": {\"train\":train_processed_source, \"val\":val_processed_source, \"test\":test_processed_source}\n",
    "    },\n",
    "    \"target\": {\n",
    "        \"original\": {\"train\":train_original_target, \"val\":val_original_target, \"test\":test_original_target},\n",
    "        \"processed\": {\"train\":train_processed_target, \"val\":val_processed_target, \"test\":test_processed_target}\n",
    "    },\n",
    "})"
   ]
  },
  {
   "cell_type": "code",
   "execution_count": 20,
   "id": "5b3c01fc",
   "metadata": {
    "execution": {
     "iopub.execute_input": "2022-03-25T22:21:02.083694Z",
     "iopub.status.busy": "2022-03-25T22:21:02.083438Z",
     "iopub.status.idle": "2022-03-25T22:21:09.040361Z",
     "shell.execute_reply": "2022-03-25T22:21:09.040854Z"
    },
    "papermill": {
     "duration": 6.974713,
     "end_time": "2022-03-25T22:21:09.041012",
     "exception": false,
     "start_time": "2022-03-25T22:21:02.066299",
     "status": "completed"
    },
    "tags": []
   },
   "outputs": [
    {
     "name": "stdout",
     "output_type": "stream",
     "text": [
      "{'O_8', 'O_14', 'O_26', 'O_38', 'O_32', 'O_50', 'O_44', 'O_20'}\n"
     ]
    },
    {
     "name": "stdout",
     "output_type": "stream",
     "text": [
      "{'C_4', 'C_5', 'C_1', 'C_2', 'C_3'}\n"
     ]
    },
    {
     "name": "stdout",
     "output_type": "stream",
     "text": [
      "tensor([[[ 0.6470,  0.5780, -0.6104,  ...,  0.1196, -1.0641,  0.0498],\n",
      "         [ 0.1549,  1.2563,  0.3941,  ...,  0.8166,  0.6102,  0.8082]],\n",
      "\n",
      "        [[-0.6667,  0.2748,  0.8156,  ...,  0.4889,  1.1788,  0.6502],\n",
      "         [-0.5000, -1.2580,  0.2088,  ..., -0.5176,  0.3522, -0.6378]],\n",
      "\n",
      "        [[-0.0371,  1.1261,  0.4751,  ...,  0.7801,  0.4409,  0.7636],\n",
      "         [-0.5844, -0.4009,  0.6742,  ...,  0.0045,  1.1223,  0.0137]],\n",
      "\n",
      "        ...,\n",
      "\n",
      "        [[ 0.7062,  0.4473, -0.7024,  ..., -0.0110, -1.2104, -0.1140],\n",
      "         [ 0.1657,  1.1509,  0.2787,  ...,  0.8103,  0.5784,  0.9839]],\n",
      "\n",
      "        [[ 0.9780,  0.7687, -1.0005,  ..., -0.1678, -0.3604,  1.0122],\n",
      "         [ 0.0998,  0.8762,  0.2805,  ...,  0.9712,  0.7959,  0.6791]],\n",
      "\n",
      "        [[ 0.8678,  0.9529, -0.6981,  ...,  0.5441,  0.5057,  1.1785],\n",
      "         [-0.6983,  0.1518,  1.1143,  ...,  1.0081,  0.5522, -0.4006]]])\n"
     ]
    }
   ],
   "source": [
    "from steves_utils.transforms import get_average_magnitude, get_average_power\n",
    "\n",
    "print(set([u for u,_ in val_original_source]))\n",
    "print(set([u for u,_ in val_original_target]))\n",
    "\n",
    "s_x, s_y, q_x, q_y, _ = next(iter(train_processed_source))\n",
    "print(s_x)\n",
    "\n",
    "# for ds in [\n",
    "#     train_processed_source,\n",
    "#     val_processed_source,\n",
    "#     test_processed_source,\n",
    "#     train_processed_target,\n",
    "#     val_processed_target,\n",
    "#     test_processed_target\n",
    "# ]:\n",
    "#     for s_x, s_y, q_x, q_y, _ in ds:\n",
    "#         for X in (s_x, q_x):\n",
    "#             for x in X:\n",
    "#                 assert np.isclose(get_average_magnitude(x.numpy()), 1.0)\n",
    "#                 assert np.isclose(get_average_power(x.numpy()), 1.0)\n",
    "                "
   ]
  },
  {
   "cell_type": "code",
   "execution_count": 21,
   "id": "bbdacba1",
   "metadata": {
    "execution": {
     "iopub.execute_input": "2022-03-25T22:21:09.079950Z",
     "iopub.status.busy": "2022-03-25T22:21:09.079682Z",
     "iopub.status.idle": "2022-03-25T22:21:09.131176Z",
     "shell.execute_reply": "2022-03-25T22:21:09.130730Z"
    },
    "papermill": {
     "duration": 0.069935,
     "end_time": "2022-03-25T22:21:09.131287",
     "exception": false,
     "start_time": "2022-03-25T22:21:09.061352",
     "status": "completed"
    },
    "tags": []
   },
   "outputs": [
    {
     "name": "stdout",
     "output_type": "stream",
     "text": [
      "(2, 200)\n"
     ]
    }
   ],
   "source": [
    "###################################\n",
    "# Build the model\n",
    "###################################\n",
    "# easfsl only wants a tuple for the shape\n",
    "model = Steves_Prototypical_Network(x_net, device=p.device, x_shape=tuple(p.x_shape))\n",
    "optimizer = Adam(params=model.parameters(), lr=p.lr)"
   ]
  },
  {
   "cell_type": "code",
   "execution_count": 22,
   "id": "22b39ac5",
   "metadata": {
    "execution": {
     "iopub.execute_input": "2022-03-25T22:21:09.168799Z",
     "iopub.status.busy": "2022-03-25T22:21:09.168528Z",
     "iopub.status.idle": "2022-03-25T23:52:16.906245Z",
     "shell.execute_reply": "2022-03-25T23:52:16.905982Z"
    },
    "papermill": {
     "duration": 5467.75545,
     "end_time": "2022-03-25T23:52:16.906310",
     "exception": false,
     "start_time": "2022-03-25T22:21:09.150860",
     "status": "completed"
    },
    "tags": []
   },
   "outputs": [
    {
     "name": "stdout",
     "output_type": "stream",
     "text": [
      "epoch: 1, [batch: 1 / 6720], examples_per_second: 46.1049, train_label_loss: 3.0226, \n"
     ]
    },
    {
     "name": "stdout",
     "output_type": "stream",
     "text": [
      "epoch: 1, [batch: 672 / 6720], examples_per_second: 1864.3001, train_label_loss: 1.1682, \n"
     ]
    },
    {
     "name": "stdout",
     "output_type": "stream",
     "text": [
      "epoch: 1, [batch: 1344 / 6720], examples_per_second: 1866.7848, train_label_loss: 1.2294, \n"
     ]
    },
    {
     "name": "stdout",
     "output_type": "stream",
     "text": [
      "epoch: 1, [batch: 2016 / 6720], examples_per_second: 1913.3831, train_label_loss: 1.1633, \n"
     ]
    },
    {
     "name": "stdout",
     "output_type": "stream",
     "text": [
      "epoch: 1, [batch: 2688 / 6720], examples_per_second: 2314.9892, train_label_loss: 0.8607, \n"
     ]
    },
    {
     "name": "stdout",
     "output_type": "stream",
     "text": [
      "epoch: 1, [batch: 3360 / 6720], examples_per_second: 2134.4575, train_label_loss: 1.0718, \n"
     ]
    },
    {
     "name": "stdout",
     "output_type": "stream",
     "text": [
      "epoch: 1, [batch: 4032 / 6720], examples_per_second: 1868.7650, train_label_loss: 0.9841, \n"
     ]
    },
    {
     "name": "stdout",
     "output_type": "stream",
     "text": [
      "epoch: 1, [batch: 4704 / 6720], examples_per_second: 1866.3085, train_label_loss: 0.8677, \n"
     ]
    },
    {
     "name": "stdout",
     "output_type": "stream",
     "text": [
      "epoch: 1, [batch: 5376 / 6720], examples_per_second: 1873.1148, train_label_loss: 1.5866, \n"
     ]
    },
    {
     "name": "stdout",
     "output_type": "stream",
     "text": [
      "epoch: 1, [batch: 6048 / 6720], examples_per_second: 1869.2596, train_label_loss: 0.6613, \n"
     ]
    },
    {
     "name": "stdout",
     "output_type": "stream",
     "text": [
      "=============================================================\n",
      "epoch: 1, source_val_acc_label: 0.6702, target_val_acc_label: 0.5825, source_val_label_loss: 7.8537, target_val_label_loss: 1521.3363, \n",
      "=============================================================\n"
     ]
    },
    {
     "name": "stdout",
     "output_type": "stream",
     "text": [
      "New best\n"
     ]
    },
    {
     "name": "stdout",
     "output_type": "stream",
     "text": [
      "epoch: 2, [batch: 1 / 6720], examples_per_second: 2.7235, train_label_loss: 1.2325, \n"
     ]
    },
    {
     "name": "stdout",
     "output_type": "stream",
     "text": [
      "epoch: 2, [batch: 672 / 6720], examples_per_second: 1871.5239, train_label_loss: 1.1462, \n"
     ]
    },
    {
     "name": "stdout",
     "output_type": "stream",
     "text": [
      "epoch: 2, [batch: 1344 / 6720], examples_per_second: 1873.9130, train_label_loss: 0.7463, \n"
     ]
    },
    {
     "name": "stdout",
     "output_type": "stream",
     "text": [
      "epoch: 2, [batch: 2016 / 6720], examples_per_second: 1919.4007, train_label_loss: 0.8721, \n"
     ]
    },
    {
     "name": "stdout",
     "output_type": "stream",
     "text": [
      "epoch: 2, [batch: 2688 / 6720], examples_per_second: 2324.4867, train_label_loss: 0.9467, \n"
     ]
    },
    {
     "name": "stdout",
     "output_type": "stream",
     "text": [
      "epoch: 2, [batch: 3360 / 6720], examples_per_second: 2116.0912, train_label_loss: 0.6616, \n"
     ]
    },
    {
     "name": "stdout",
     "output_type": "stream",
     "text": [
      "epoch: 2, [batch: 4032 / 6720], examples_per_second: 1875.2275, train_label_loss: 0.5791, \n"
     ]
    },
    {
     "name": "stdout",
     "output_type": "stream",
     "text": [
      "epoch: 2, [batch: 4704 / 6720], examples_per_second: 1868.6334, train_label_loss: 0.7661, \n"
     ]
    },
    {
     "name": "stdout",
     "output_type": "stream",
     "text": [
      "epoch: 2, [batch: 5376 / 6720], examples_per_second: 1877.1293, train_label_loss: 1.2104, \n"
     ]
    },
    {
     "name": "stdout",
     "output_type": "stream",
     "text": [
      "epoch: 2, [batch: 6048 / 6720], examples_per_second: 1871.3577, train_label_loss: 0.5246, \n"
     ]
    },
    {
     "name": "stdout",
     "output_type": "stream",
     "text": [
      "=============================================================\n",
      "epoch: 2, source_val_acc_label: 0.7207, target_val_acc_label: 0.6152, source_val_label_loss: 0.7706, target_val_label_loss: 206.9176, \n",
      "=============================================================\n"
     ]
    },
    {
     "name": "stdout",
     "output_type": "stream",
     "text": [
      "New best\n"
     ]
    },
    {
     "name": "stdout",
     "output_type": "stream",
     "text": [
      "epoch: 3, [batch: 1 / 6720], examples_per_second: 2.7312, train_label_loss: 0.5946, \n"
     ]
    },
    {
     "name": "stdout",
     "output_type": "stream",
     "text": [
      "epoch: 3, [batch: 672 / 6720], examples_per_second: 1873.0114, train_label_loss: 0.7454, \n"
     ]
    },
    {
     "name": "stdout",
     "output_type": "stream",
     "text": [
      "epoch: 3, [batch: 1344 / 6720], examples_per_second: 1874.7782, train_label_loss: 0.9975, \n"
     ]
    },
    {
     "name": "stdout",
     "output_type": "stream",
     "text": [
      "epoch: 3, [batch: 2016 / 6720], examples_per_second: 1930.0945, train_label_loss: 0.5679, \n"
     ]
    },
    {
     "name": "stdout",
     "output_type": "stream",
     "text": [
      "epoch: 3, [batch: 2688 / 6720], examples_per_second: 2336.6999, train_label_loss: 0.6046, \n"
     ]
    },
    {
     "name": "stdout",
     "output_type": "stream",
     "text": [
      "epoch: 3, [batch: 3360 / 6720], examples_per_second: 2099.3192, train_label_loss: 0.7467, \n"
     ]
    },
    {
     "name": "stdout",
     "output_type": "stream",
     "text": [
      "epoch: 3, [batch: 4032 / 6720], examples_per_second: 1870.9157, train_label_loss: 0.3878, \n"
     ]
    },
    {
     "name": "stdout",
     "output_type": "stream",
     "text": [
      "epoch: 3, [batch: 4704 / 6720], examples_per_second: 1868.8580, train_label_loss: 0.6134, \n"
     ]
    },
    {
     "name": "stdout",
     "output_type": "stream",
     "text": [
      "epoch: 3, [batch: 5376 / 6720], examples_per_second: 1876.2638, train_label_loss: 0.5411, \n"
     ]
    },
    {
     "name": "stdout",
     "output_type": "stream",
     "text": [
      "epoch: 3, [batch: 6048 / 6720], examples_per_second: 1871.1209, train_label_loss: 0.4005, \n"
     ]
    },
    {
     "name": "stdout",
     "output_type": "stream",
     "text": [
      "=============================================================\n",
      "epoch: 3, source_val_acc_label: 0.7910, target_val_acc_label: 0.6395, source_val_label_loss: 0.5801, target_val_label_loss: 170.3056, \n",
      "=============================================================\n"
     ]
    },
    {
     "name": "stdout",
     "output_type": "stream",
     "text": [
      "New best\n"
     ]
    },
    {
     "name": "stdout",
     "output_type": "stream",
     "text": [
      "epoch: 4, [batch: 1 / 6720], examples_per_second: 2.7375, train_label_loss: 0.5018, \n"
     ]
    },
    {
     "name": "stdout",
     "output_type": "stream",
     "text": [
      "epoch: 4, [batch: 672 / 6720], examples_per_second: 1872.2303, train_label_loss: 0.6865, \n"
     ]
    },
    {
     "name": "stdout",
     "output_type": "stream",
     "text": [
      "epoch: 4, [batch: 1344 / 6720], examples_per_second: 1871.4233, train_label_loss: 0.2753, \n"
     ]
    },
    {
     "name": "stdout",
     "output_type": "stream",
     "text": [
      "epoch: 4, [batch: 2016 / 6720], examples_per_second: 1926.8160, train_label_loss: 0.3160, \n"
     ]
    },
    {
     "name": "stdout",
     "output_type": "stream",
     "text": [
      "epoch: 4, [batch: 2688 / 6720], examples_per_second: 2342.1937, train_label_loss: 0.7675, \n"
     ]
    },
    {
     "name": "stdout",
     "output_type": "stream",
     "text": [
      "epoch: 4, [batch: 3360 / 6720], examples_per_second: 2081.7995, train_label_loss: 0.9390, \n"
     ]
    },
    {
     "name": "stdout",
     "output_type": "stream",
     "text": [
      "epoch: 4, [batch: 4032 / 6720], examples_per_second: 1873.2646, train_label_loss: 0.4305, \n"
     ]
    },
    {
     "name": "stdout",
     "output_type": "stream",
     "text": [
      "epoch: 4, [batch: 4704 / 6720], examples_per_second: 1868.2282, train_label_loss: 0.4476, \n"
     ]
    },
    {
     "name": "stdout",
     "output_type": "stream",
     "text": [
      "epoch: 4, [batch: 5376 / 6720], examples_per_second: 1875.9748, train_label_loss: 0.4771, \n"
     ]
    },
    {
     "name": "stdout",
     "output_type": "stream",
     "text": [
      "epoch: 4, [batch: 6048 / 6720], examples_per_second: 1872.3687, train_label_loss: 0.4616, \n"
     ]
    },
    {
     "name": "stdout",
     "output_type": "stream",
     "text": [
      "=============================================================\n",
      "epoch: 4, source_val_acc_label: 0.7750, target_val_acc_label: 0.6340, source_val_label_loss: 0.6228, target_val_label_loss: 225.5023, \n",
      "=============================================================\n"
     ]
    },
    {
     "name": "stdout",
     "output_type": "stream",
     "text": [
      "epoch: 5, [batch: 1 / 6720], examples_per_second: 2.7163, train_label_loss: 0.3613, \n"
     ]
    },
    {
     "name": "stdout",
     "output_type": "stream",
     "text": [
      "epoch: 5, [batch: 672 / 6720], examples_per_second: 1871.7003, train_label_loss: 1.0340, \n"
     ]
    },
    {
     "name": "stdout",
     "output_type": "stream",
     "text": [
      "epoch: 5, [batch: 1344 / 6720], examples_per_second: 1872.7213, train_label_loss: 0.5606, \n"
     ]
    },
    {
     "name": "stdout",
     "output_type": "stream",
     "text": [
      "epoch: 5, [batch: 2016 / 6720], examples_per_second: 1943.6373, train_label_loss: 0.3109, \n"
     ]
    },
    {
     "name": "stdout",
     "output_type": "stream",
     "text": [
      "epoch: 5, [batch: 2688 / 6720], examples_per_second: 2366.5929, train_label_loss: 1.0482, \n"
     ]
    },
    {
     "name": "stdout",
     "output_type": "stream",
     "text": [
      "epoch: 5, [batch: 3360 / 6720], examples_per_second: 2333.1267, train_label_loss: 0.2488, \n"
     ]
    },
    {
     "name": "stdout",
     "output_type": "stream",
     "text": [
      "epoch: 5, [batch: 4032 / 6720], examples_per_second: 2361.9083, train_label_loss: 0.4186, \n"
     ]
    },
    {
     "name": "stdout",
     "output_type": "stream",
     "text": [
      "epoch: 5, [batch: 4704 / 6720], examples_per_second: 2285.7696, train_label_loss: 0.4941, \n"
     ]
    },
    {
     "name": "stdout",
     "output_type": "stream",
     "text": [
      "epoch: 5, [batch: 5376 / 6720], examples_per_second: 2224.7336, train_label_loss: 0.5445, \n"
     ]
    },
    {
     "name": "stdout",
     "output_type": "stream",
     "text": [
      "epoch: 5, [batch: 6048 / 6720], examples_per_second: 3044.6082, train_label_loss: 0.2052, \n"
     ]
    },
    {
     "name": "stdout",
     "output_type": "stream",
     "text": [
      "=============================================================\n",
      "epoch: 5, source_val_acc_label: 0.8257, target_val_acc_label: 0.6422, source_val_label_loss: 0.4794, target_val_label_loss: 202.4980, \n",
      "=============================================================\n"
     ]
    },
    {
     "name": "stdout",
     "output_type": "stream",
     "text": [
      "New best\n"
     ]
    },
    {
     "name": "stdout",
     "output_type": "stream",
     "text": [
      "epoch: 6, [batch: 1 / 6720], examples_per_second: 5.1251, train_label_loss: 0.1674, \n"
     ]
    },
    {
     "name": "stdout",
     "output_type": "stream",
     "text": [
      "epoch: 6, [batch: 672 / 6720], examples_per_second: 3594.2437, train_label_loss: 0.2766, \n"
     ]
    },
    {
     "name": "stdout",
     "output_type": "stream",
     "text": [
      "epoch: 6, [batch: 1344 / 6720], examples_per_second: 3645.2575, train_label_loss: 0.6615, \n"
     ]
    },
    {
     "name": "stdout",
     "output_type": "stream",
     "text": [
      "epoch: 6, [batch: 2016 / 6720], examples_per_second: 3643.8837, train_label_loss: 0.7243, \n"
     ]
    },
    {
     "name": "stdout",
     "output_type": "stream",
     "text": [
      "epoch: 6, [batch: 2688 / 6720], examples_per_second: 3623.5673, train_label_loss: 0.2156, \n"
     ]
    },
    {
     "name": "stdout",
     "output_type": "stream",
     "text": [
      "epoch: 6, [batch: 3360 / 6720], examples_per_second: 3535.4687, train_label_loss: 0.1568, \n"
     ]
    },
    {
     "name": "stdout",
     "output_type": "stream",
     "text": [
      "epoch: 6, [batch: 4032 / 6720], examples_per_second: 1875.8439, train_label_loss: 0.5770, \n"
     ]
    },
    {
     "name": "stdout",
     "output_type": "stream",
     "text": [
      "epoch: 6, [batch: 4704 / 6720], examples_per_second: 1870.3691, train_label_loss: 0.6162, \n"
     ]
    },
    {
     "name": "stdout",
     "output_type": "stream",
     "text": [
      "epoch: 6, [batch: 5376 / 6720], examples_per_second: 1874.8912, train_label_loss: 1.0134, \n"
     ]
    },
    {
     "name": "stdout",
     "output_type": "stream",
     "text": [
      "epoch: 6, [batch: 6048 / 6720], examples_per_second: 1879.6198, train_label_loss: 0.8573, \n"
     ]
    },
    {
     "name": "stdout",
     "output_type": "stream",
     "text": [
      "=============================================================\n",
      "epoch: 6, source_val_acc_label: 0.8436, target_val_acc_label: 0.6513, source_val_label_loss: 0.4354, target_val_label_loss: 216.6596, \n",
      "=============================================================\n"
     ]
    },
    {
     "name": "stdout",
     "output_type": "stream",
     "text": [
      "New best\n"
     ]
    },
    {
     "name": "stdout",
     "output_type": "stream",
     "text": [
      "epoch: 7, [batch: 1 / 6720], examples_per_second: 2.7212, train_label_loss: 0.2675, \n"
     ]
    },
    {
     "name": "stdout",
     "output_type": "stream",
     "text": [
      "epoch: 7, [batch: 672 / 6720], examples_per_second: 1877.2155, train_label_loss: 0.8828, \n"
     ]
    },
    {
     "name": "stdout",
     "output_type": "stream",
     "text": [
      "epoch: 7, [batch: 1344 / 6720], examples_per_second: 1875.6934, train_label_loss: 0.2228, \n"
     ]
    },
    {
     "name": "stdout",
     "output_type": "stream",
     "text": [
      "epoch: 7, [batch: 2016 / 6720], examples_per_second: 1874.5731, train_label_loss: 0.2437, \n"
     ]
    },
    {
     "name": "stdout",
     "output_type": "stream",
     "text": [
      "epoch: 7, [batch: 2688 / 6720], examples_per_second: 2031.6910, train_label_loss: 0.2658, \n"
     ]
    },
    {
     "name": "stdout",
     "output_type": "stream",
     "text": [
      "epoch: 7, [batch: 3360 / 6720], examples_per_second: 2535.6993, train_label_loss: 0.2511, \n"
     ]
    },
    {
     "name": "stdout",
     "output_type": "stream",
     "text": [
      "epoch: 7, [batch: 4032 / 6720], examples_per_second: 1877.2560, train_label_loss: 0.3020, \n"
     ]
    },
    {
     "name": "stdout",
     "output_type": "stream",
     "text": [
      "epoch: 7, [batch: 4704 / 6720], examples_per_second: 1874.2317, train_label_loss: 0.7902, \n"
     ]
    },
    {
     "name": "stdout",
     "output_type": "stream",
     "text": [
      "epoch: 7, [batch: 5376 / 6720], examples_per_second: 1877.6330, train_label_loss: 0.4610, \n"
     ]
    },
    {
     "name": "stdout",
     "output_type": "stream",
     "text": [
      "epoch: 7, [batch: 6048 / 6720], examples_per_second: 1882.0327, train_label_loss: 0.5588, \n"
     ]
    },
    {
     "name": "stdout",
     "output_type": "stream",
     "text": [
      "=============================================================\n",
      "epoch: 7, source_val_acc_label: 0.8443, target_val_acc_label: 0.6540, source_val_label_loss: 0.4318, target_val_label_loss: 256.7493, \n",
      "=============================================================\n"
     ]
    },
    {
     "name": "stdout",
     "output_type": "stream",
     "text": [
      "New best\n"
     ]
    },
    {
     "name": "stdout",
     "output_type": "stream",
     "text": [
      "epoch: 8, [batch: 1 / 6720], examples_per_second: 2.7271, train_label_loss: 0.2508, \n"
     ]
    },
    {
     "name": "stdout",
     "output_type": "stream",
     "text": [
      "epoch: 8, [batch: 672 / 6720], examples_per_second: 1879.7794, train_label_loss: 0.2839, \n"
     ]
    },
    {
     "name": "stdout",
     "output_type": "stream",
     "text": [
      "epoch: 8, [batch: 1344 / 6720], examples_per_second: 1871.6398, train_label_loss: 0.2136, \n"
     ]
    },
    {
     "name": "stdout",
     "output_type": "stream",
     "text": [
      "epoch: 8, [batch: 2016 / 6720], examples_per_second: 1856.9358, train_label_loss: 0.3518, \n"
     ]
    },
    {
     "name": "stdout",
     "output_type": "stream",
     "text": [
      "epoch: 8, [batch: 2688 / 6720], examples_per_second: 2043.0135, train_label_loss: 0.1855, \n"
     ]
    },
    {
     "name": "stdout",
     "output_type": "stream",
     "text": [
      "epoch: 8, [batch: 3360 / 6720], examples_per_second: 2539.8111, train_label_loss: 0.3530, \n"
     ]
    },
    {
     "name": "stdout",
     "output_type": "stream",
     "text": [
      "epoch: 8, [batch: 4032 / 6720], examples_per_second: 1878.1242, train_label_loss: 0.1155, \n"
     ]
    },
    {
     "name": "stdout",
     "output_type": "stream",
     "text": [
      "epoch: 8, [batch: 4704 / 6720], examples_per_second: 1873.8693, train_label_loss: 0.5137, \n"
     ]
    },
    {
     "name": "stdout",
     "output_type": "stream",
     "text": [
      "epoch: 8, [batch: 5376 / 6720], examples_per_second: 1878.0194, train_label_loss: 0.0809, \n"
     ]
    },
    {
     "name": "stdout",
     "output_type": "stream",
     "text": [
      "epoch: 8, [batch: 6048 / 6720], examples_per_second: 1878.7445, train_label_loss: 0.1700, \n"
     ]
    },
    {
     "name": "stdout",
     "output_type": "stream",
     "text": [
      "=============================================================\n",
      "epoch: 8, source_val_acc_label: 0.8438, target_val_acc_label: 0.6134, source_val_label_loss: 0.4242, target_val_label_loss: 257.7700, \n",
      "=============================================================\n"
     ]
    },
    {
     "name": "stdout",
     "output_type": "stream",
     "text": [
      "epoch: 9, [batch: 1 / 6720], examples_per_second: 2.7316, train_label_loss: 0.7934, \n"
     ]
    },
    {
     "name": "stdout",
     "output_type": "stream",
     "text": [
      "epoch: 9, [batch: 672 / 6720], examples_per_second: 1880.9180, train_label_loss: 0.7477, \n"
     ]
    },
    {
     "name": "stdout",
     "output_type": "stream",
     "text": [
      "epoch: 9, [batch: 1344 / 6720], examples_per_second: 1876.9124, train_label_loss: 0.3890, \n"
     ]
    },
    {
     "name": "stdout",
     "output_type": "stream",
     "text": [
      "epoch: 9, [batch: 2016 / 6720], examples_per_second: 1879.0559, train_label_loss: 0.4096, \n"
     ]
    },
    {
     "name": "stdout",
     "output_type": "stream",
     "text": [
      "epoch: 9, [batch: 2688 / 6720], examples_per_second: 2043.3940, train_label_loss: 0.2807, \n"
     ]
    },
    {
     "name": "stdout",
     "output_type": "stream",
     "text": [
      "epoch: 9, [batch: 3360 / 6720], examples_per_second: 2520.4102, train_label_loss: 0.6402, \n"
     ]
    },
    {
     "name": "stdout",
     "output_type": "stream",
     "text": [
      "epoch: 9, [batch: 4032 / 6720], examples_per_second: 1844.6820, train_label_loss: 0.4032, \n"
     ]
    },
    {
     "name": "stdout",
     "output_type": "stream",
     "text": [
      "epoch: 9, [batch: 4704 / 6720], examples_per_second: 1765.8432, train_label_loss: 0.2488, \n"
     ]
    },
    {
     "name": "stdout",
     "output_type": "stream",
     "text": [
      "epoch: 9, [batch: 5376 / 6720], examples_per_second: 1846.7476, train_label_loss: 0.0720, \n"
     ]
    },
    {
     "name": "stdout",
     "output_type": "stream",
     "text": [
      "epoch: 9, [batch: 6048 / 6720], examples_per_second: 1861.7970, train_label_loss: 0.6317, \n"
     ]
    },
    {
     "name": "stdout",
     "output_type": "stream",
     "text": [
      "=============================================================\n",
      "epoch: 9, source_val_acc_label: 0.8752, target_val_acc_label: 0.6608, source_val_label_loss: 0.3486, target_val_label_loss: 247.3309, \n",
      "=============================================================\n"
     ]
    },
    {
     "name": "stdout",
     "output_type": "stream",
     "text": [
      "New best\n"
     ]
    },
    {
     "name": "stdout",
     "output_type": "stream",
     "text": [
      "epoch: 10, [batch: 1 / 6720], examples_per_second: 2.6885, train_label_loss: 0.0578, \n"
     ]
    },
    {
     "name": "stdout",
     "output_type": "stream",
     "text": [
      "epoch: 10, [batch: 672 / 6720], examples_per_second: 1850.9096, train_label_loss: 0.3093, \n"
     ]
    },
    {
     "name": "stdout",
     "output_type": "stream",
     "text": [
      "epoch: 10, [batch: 1344 / 6720], examples_per_second: 1809.5114, train_label_loss: 0.3551, \n"
     ]
    },
    {
     "name": "stdout",
     "output_type": "stream",
     "text": [
      "epoch: 10, [batch: 2016 / 6720], examples_per_second: 1851.9468, train_label_loss: 0.3380, \n"
     ]
    },
    {
     "name": "stdout",
     "output_type": "stream",
     "text": [
      "epoch: 10, [batch: 2688 / 6720], examples_per_second: 2028.5254, train_label_loss: 0.1476, \n"
     ]
    },
    {
     "name": "stdout",
     "output_type": "stream",
     "text": [
      "epoch: 10, [batch: 3360 / 6720], examples_per_second: 2505.2098, train_label_loss: 0.5781, \n"
     ]
    },
    {
     "name": "stdout",
     "output_type": "stream",
     "text": [
      "epoch: 10, [batch: 4032 / 6720], examples_per_second: 1858.9672, train_label_loss: 0.1676, \n"
     ]
    },
    {
     "name": "stdout",
     "output_type": "stream",
     "text": [
      "epoch: 10, [batch: 4704 / 6720], examples_per_second: 1853.7998, train_label_loss: 0.4448, \n"
     ]
    },
    {
     "name": "stdout",
     "output_type": "stream",
     "text": [
      "epoch: 10, [batch: 5376 / 6720], examples_per_second: 1857.5039, train_label_loss: 0.1495, \n"
     ]
    },
    {
     "name": "stdout",
     "output_type": "stream",
     "text": [
      "epoch: 10, [batch: 6048 / 6720], examples_per_second: 1861.1108, train_label_loss: 0.1189, \n"
     ]
    },
    {
     "name": "stdout",
     "output_type": "stream",
     "text": [
      "=============================================================\n",
      "epoch: 10, source_val_acc_label: 0.8447, target_val_acc_label: 0.6438, source_val_label_loss: 0.4257, target_val_label_loss: 265.3829, \n",
      "=============================================================\n"
     ]
    },
    {
     "name": "stdout",
     "output_type": "stream",
     "text": [
      "epoch: 11, [batch: 1 / 6720], examples_per_second: 2.6526, train_label_loss: 0.2188, \n"
     ]
    },
    {
     "name": "stdout",
     "output_type": "stream",
     "text": [
      "epoch: 11, [batch: 672 / 6720], examples_per_second: 1817.8413, train_label_loss: 0.2760, \n"
     ]
    },
    {
     "name": "stdout",
     "output_type": "stream",
     "text": [
      "epoch: 11, [batch: 1344 / 6720], examples_per_second: 1800.4830, train_label_loss: 0.3664, \n"
     ]
    },
    {
     "name": "stdout",
     "output_type": "stream",
     "text": [
      "epoch: 11, [batch: 2016 / 6720], examples_per_second: 1755.4652, train_label_loss: 0.4575, \n"
     ]
    },
    {
     "name": "stdout",
     "output_type": "stream",
     "text": [
      "epoch: 11, [batch: 2688 / 6720], examples_per_second: 1921.2909, train_label_loss: 0.1127, \n"
     ]
    },
    {
     "name": "stdout",
     "output_type": "stream",
     "text": [
      "epoch: 11, [batch: 3360 / 6720], examples_per_second: 2477.9388, train_label_loss: 0.8684, \n"
     ]
    },
    {
     "name": "stdout",
     "output_type": "stream",
     "text": [
      "epoch: 11, [batch: 4032 / 6720], examples_per_second: 1802.5294, train_label_loss: 0.2414, \n"
     ]
    },
    {
     "name": "stdout",
     "output_type": "stream",
     "text": [
      "epoch: 11, [batch: 4704 / 6720], examples_per_second: 1814.6483, train_label_loss: 0.5791, \n"
     ]
    },
    {
     "name": "stdout",
     "output_type": "stream",
     "text": [
      "epoch: 11, [batch: 5376 / 6720], examples_per_second: 1828.5953, train_label_loss: 0.1327, \n"
     ]
    },
    {
     "name": "stdout",
     "output_type": "stream",
     "text": [
      "epoch: 11, [batch: 6048 / 6720], examples_per_second: 1860.7451, train_label_loss: 0.0448, \n"
     ]
    },
    {
     "name": "stdout",
     "output_type": "stream",
     "text": [
      "=============================================================\n",
      "epoch: 11, source_val_acc_label: 0.8780, target_val_acc_label: 0.6729, source_val_label_loss: 0.3364, target_val_label_loss: 256.4173, \n",
      "=============================================================\n"
     ]
    },
    {
     "name": "stdout",
     "output_type": "stream",
     "text": [
      "New best\n"
     ]
    },
    {
     "name": "stdout",
     "output_type": "stream",
     "text": [
      "epoch: 12, [batch: 1 / 6720], examples_per_second: 2.6726, train_label_loss: 0.2888, \n"
     ]
    },
    {
     "name": "stdout",
     "output_type": "stream",
     "text": [
      "epoch: 12, [batch: 672 / 6720], examples_per_second: 1859.8541, train_label_loss: 0.5616, \n"
     ]
    },
    {
     "name": "stdout",
     "output_type": "stream",
     "text": [
      "epoch: 12, [batch: 1344 / 6720], examples_per_second: 1857.8596, train_label_loss: 0.0242, \n"
     ]
    },
    {
     "name": "stdout",
     "output_type": "stream",
     "text": [
      "epoch: 12, [batch: 2016 / 6720], examples_per_second: 1857.6932, train_label_loss: 0.3689, \n"
     ]
    },
    {
     "name": "stdout",
     "output_type": "stream",
     "text": [
      "epoch: 12, [batch: 2688 / 6720], examples_per_second: 2035.7196, train_label_loss: 0.2025, \n"
     ]
    },
    {
     "name": "stdout",
     "output_type": "stream",
     "text": [
      "epoch: 12, [batch: 3360 / 6720], examples_per_second: 2501.4641, train_label_loss: 0.4527, \n"
     ]
    },
    {
     "name": "stdout",
     "output_type": "stream",
     "text": [
      "epoch: 12, [batch: 4032 / 6720], examples_per_second: 1859.3202, train_label_loss: 0.7170, \n"
     ]
    },
    {
     "name": "stdout",
     "output_type": "stream",
     "text": [
      "epoch: 12, [batch: 4704 / 6720], examples_per_second: 1853.1353, train_label_loss: 0.0436, \n"
     ]
    },
    {
     "name": "stdout",
     "output_type": "stream",
     "text": [
      "epoch: 12, [batch: 5376 / 6720], examples_per_second: 1857.7999, train_label_loss: 0.0700, \n"
     ]
    },
    {
     "name": "stdout",
     "output_type": "stream",
     "text": [
      "epoch: 12, [batch: 6048 / 6720], examples_per_second: 1863.2861, train_label_loss: 0.6337, \n"
     ]
    },
    {
     "name": "stdout",
     "output_type": "stream",
     "text": [
      "=============================================================\n",
      "epoch: 12, source_val_acc_label: 0.8759, target_val_acc_label: 0.6763, source_val_label_loss: 0.3453, target_val_label_loss: 244.2625, \n",
      "=============================================================\n"
     ]
    },
    {
     "name": "stdout",
     "output_type": "stream",
     "text": [
      "New best\n"
     ]
    },
    {
     "name": "stdout",
     "output_type": "stream",
     "text": [
      "epoch: 13, [batch: 1 / 6720], examples_per_second: 2.6929, train_label_loss: 0.1125, \n"
     ]
    },
    {
     "name": "stdout",
     "output_type": "stream",
     "text": [
      "epoch: 13, [batch: 672 / 6720], examples_per_second: 1875.8856, train_label_loss: 0.2940, \n"
     ]
    },
    {
     "name": "stdout",
     "output_type": "stream",
     "text": [
      "epoch: 13, [batch: 1344 / 6720], examples_per_second: 1876.5380, train_label_loss: 0.0718, \n"
     ]
    },
    {
     "name": "stdout",
     "output_type": "stream",
     "text": [
      "epoch: 13, [batch: 2016 / 6720], examples_per_second: 1877.7236, train_label_loss: 0.3633, \n"
     ]
    },
    {
     "name": "stdout",
     "output_type": "stream",
     "text": [
      "epoch: 13, [batch: 2688 / 6720], examples_per_second: 2056.8279, train_label_loss: 0.1947, \n"
     ]
    },
    {
     "name": "stdout",
     "output_type": "stream",
     "text": [
      "epoch: 13, [batch: 3360 / 6720], examples_per_second: 2518.2525, train_label_loss: 0.3051, \n"
     ]
    },
    {
     "name": "stdout",
     "output_type": "stream",
     "text": [
      "epoch: 13, [batch: 4032 / 6720], examples_per_second: 1877.6718, train_label_loss: 0.1876, \n"
     ]
    },
    {
     "name": "stdout",
     "output_type": "stream",
     "text": [
      "epoch: 13, [batch: 4704 / 6720], examples_per_second: 1873.4398, train_label_loss: 0.0484, \n"
     ]
    },
    {
     "name": "stdout",
     "output_type": "stream",
     "text": [
      "epoch: 13, [batch: 5376 / 6720], examples_per_second: 1878.4442, train_label_loss: 0.3682, \n"
     ]
    },
    {
     "name": "stdout",
     "output_type": "stream",
     "text": [
      "epoch: 13, [batch: 6048 / 6720], examples_per_second: 1883.4114, train_label_loss: 0.1645, \n"
     ]
    },
    {
     "name": "stdout",
     "output_type": "stream",
     "text": [
      "=============================================================\n",
      "epoch: 13, source_val_acc_label: 0.8833, target_val_acc_label: 0.6963, source_val_label_loss: 0.3320, target_val_label_loss: 231.2080, \n",
      "=============================================================\n"
     ]
    },
    {
     "name": "stdout",
     "output_type": "stream",
     "text": [
      "New best\n"
     ]
    },
    {
     "name": "stdout",
     "output_type": "stream",
     "text": [
      "epoch: 14, [batch: 1 / 6720], examples_per_second: 2.7291, train_label_loss: 0.3154, \n"
     ]
    },
    {
     "name": "stdout",
     "output_type": "stream",
     "text": [
      "epoch: 14, [batch: 672 / 6720], examples_per_second: 1882.7395, train_label_loss: 0.0383, \n"
     ]
    },
    {
     "name": "stdout",
     "output_type": "stream",
     "text": [
      "epoch: 14, [batch: 1344 / 6720], examples_per_second: 1878.3327, train_label_loss: 0.6355, \n"
     ]
    },
    {
     "name": "stdout",
     "output_type": "stream",
     "text": [
      "epoch: 14, [batch: 2016 / 6720], examples_per_second: 1879.7384, train_label_loss: 0.2265, \n"
     ]
    },
    {
     "name": "stdout",
     "output_type": "stream",
     "text": [
      "epoch: 14, [batch: 2688 / 6720], examples_per_second: 2049.3847, train_label_loss: 0.1136, \n"
     ]
    },
    {
     "name": "stdout",
     "output_type": "stream",
     "text": [
      "epoch: 14, [batch: 3360 / 6720], examples_per_second: 2511.0216, train_label_loss: 0.4178, \n"
     ]
    },
    {
     "name": "stdout",
     "output_type": "stream",
     "text": [
      "epoch: 14, [batch: 4032 / 6720], examples_per_second: 1878.0820, train_label_loss: 0.2292, \n"
     ]
    },
    {
     "name": "stdout",
     "output_type": "stream",
     "text": [
      "epoch: 14, [batch: 4704 / 6720], examples_per_second: 1875.4059, train_label_loss: 0.1036, \n"
     ]
    },
    {
     "name": "stdout",
     "output_type": "stream",
     "text": [
      "epoch: 14, [batch: 5376 / 6720], examples_per_second: 1876.8363, train_label_loss: 0.1126, \n"
     ]
    },
    {
     "name": "stdout",
     "output_type": "stream",
     "text": [
      "epoch: 14, [batch: 6048 / 6720], examples_per_second: 1881.6778, train_label_loss: 0.4937, \n"
     ]
    },
    {
     "name": "stdout",
     "output_type": "stream",
     "text": [
      "=============================================================\n",
      "epoch: 14, source_val_acc_label: 0.8852, target_val_acc_label: 0.7030, source_val_label_loss: 0.3241, target_val_label_loss: 253.0425, \n",
      "=============================================================\n"
     ]
    },
    {
     "name": "stdout",
     "output_type": "stream",
     "text": [
      "New best\n"
     ]
    },
    {
     "name": "stdout",
     "output_type": "stream",
     "text": [
      "epoch: 15, [batch: 1 / 6720], examples_per_second: 2.7159, train_label_loss: 0.2089, \n"
     ]
    },
    {
     "name": "stdout",
     "output_type": "stream",
     "text": [
      "epoch: 15, [batch: 672 / 6720], examples_per_second: 1853.0321, train_label_loss: 0.1185, \n"
     ]
    },
    {
     "name": "stdout",
     "output_type": "stream",
     "text": [
      "epoch: 15, [batch: 1344 / 6720], examples_per_second: 1793.9142, train_label_loss: 0.1060, \n"
     ]
    },
    {
     "name": "stdout",
     "output_type": "stream",
     "text": [
      "epoch: 15, [batch: 2016 / 6720], examples_per_second: 1779.5015, train_label_loss: 0.1991, \n"
     ]
    },
    {
     "name": "stdout",
     "output_type": "stream",
     "text": [
      "epoch: 15, [batch: 2688 / 6720], examples_per_second: 2002.4299, train_label_loss: 0.3421, \n"
     ]
    },
    {
     "name": "stdout",
     "output_type": "stream",
     "text": [
      "epoch: 15, [batch: 3360 / 6720], examples_per_second: 2422.4507, train_label_loss: 0.2336, \n"
     ]
    },
    {
     "name": "stdout",
     "output_type": "stream",
     "text": [
      "epoch: 15, [batch: 4032 / 6720], examples_per_second: 1841.6939, train_label_loss: 0.2423, \n"
     ]
    },
    {
     "name": "stdout",
     "output_type": "stream",
     "text": [
      "epoch: 15, [batch: 4704 / 6720], examples_per_second: 1786.0817, train_label_loss: 0.2622, \n"
     ]
    },
    {
     "name": "stdout",
     "output_type": "stream",
     "text": [
      "epoch: 15, [batch: 5376 / 6720], examples_per_second: 1828.8364, train_label_loss: 0.1938, \n"
     ]
    },
    {
     "name": "stdout",
     "output_type": "stream",
     "text": [
      "epoch: 15, [batch: 6048 / 6720], examples_per_second: 1817.7132, train_label_loss: 0.0584, \n"
     ]
    },
    {
     "name": "stdout",
     "output_type": "stream",
     "text": [
      "=============================================================\n",
      "epoch: 15, source_val_acc_label: 0.8886, target_val_acc_label: 0.7000, source_val_label_loss: 0.3205, target_val_label_loss: 270.5606, \n",
      "=============================================================\n"
     ]
    },
    {
     "name": "stdout",
     "output_type": "stream",
     "text": [
      "epoch: 16, [batch: 1 / 6720], examples_per_second: 2.6009, train_label_loss: 0.1426, \n"
     ]
    },
    {
     "name": "stdout",
     "output_type": "stream",
     "text": [
      "epoch: 16, [batch: 672 / 6720], examples_per_second: 1813.6910, train_label_loss: 0.1139, \n"
     ]
    },
    {
     "name": "stdout",
     "output_type": "stream",
     "text": [
      "epoch: 16, [batch: 1344 / 6720], examples_per_second: 1784.0795, train_label_loss: 0.0707, \n"
     ]
    },
    {
     "name": "stdout",
     "output_type": "stream",
     "text": [
      "epoch: 16, [batch: 2016 / 6720], examples_per_second: 1820.6165, train_label_loss: 0.5824, \n"
     ]
    },
    {
     "name": "stdout",
     "output_type": "stream",
     "text": [
      "epoch: 16, [batch: 2688 / 6720], examples_per_second: 2008.7303, train_label_loss: 0.0889, \n"
     ]
    },
    {
     "name": "stdout",
     "output_type": "stream",
     "text": [
      "epoch: 16, [batch: 3360 / 6720], examples_per_second: 2437.5284, train_label_loss: 0.3805, \n"
     ]
    },
    {
     "name": "stdout",
     "output_type": "stream",
     "text": [
      "epoch: 16, [batch: 4032 / 6720], examples_per_second: 1853.5747, train_label_loss: 0.2042, \n"
     ]
    },
    {
     "name": "stdout",
     "output_type": "stream",
     "text": [
      "epoch: 16, [batch: 4704 / 6720], examples_per_second: 1834.7272, train_label_loss: 0.2597, \n"
     ]
    },
    {
     "name": "stdout",
     "output_type": "stream",
     "text": [
      "epoch: 16, [batch: 5376 / 6720], examples_per_second: 1812.9526, train_label_loss: 0.4544, \n"
     ]
    },
    {
     "name": "stdout",
     "output_type": "stream",
     "text": [
      "epoch: 16, [batch: 6048 / 6720], examples_per_second: 1828.4783, train_label_loss: 0.2154, \n"
     ]
    },
    {
     "name": "stdout",
     "output_type": "stream",
     "text": [
      "=============================================================\n",
      "epoch: 16, source_val_acc_label: 0.8849, target_val_acc_label: 0.6900, source_val_label_loss: 0.3255, target_val_label_loss: 280.3245, \n",
      "=============================================================\n"
     ]
    },
    {
     "name": "stdout",
     "output_type": "stream",
     "text": [
      "epoch: 17, [batch: 1 / 6720], examples_per_second: 2.6725, train_label_loss: 0.2599, \n"
     ]
    },
    {
     "name": "stdout",
     "output_type": "stream",
     "text": [
      "epoch: 17, [batch: 672 / 6720], examples_per_second: 1821.2556, train_label_loss: 0.3049, \n"
     ]
    },
    {
     "name": "stdout",
     "output_type": "stream",
     "text": [
      "epoch: 17, [batch: 1344 / 6720], examples_per_second: 1808.8762, train_label_loss: 0.3286, \n"
     ]
    },
    {
     "name": "stdout",
     "output_type": "stream",
     "text": [
      "epoch: 17, [batch: 2016 / 6720], examples_per_second: 1805.3080, train_label_loss: 0.4626, \n"
     ]
    },
    {
     "name": "stdout",
     "output_type": "stream",
     "text": [
      "epoch: 17, [batch: 2688 / 6720], examples_per_second: 1918.7069, train_label_loss: 0.0774, \n"
     ]
    },
    {
     "name": "stdout",
     "output_type": "stream",
     "text": [
      "epoch: 17, [batch: 3360 / 6720], examples_per_second: 2418.0298, train_label_loss: 0.0898, \n"
     ]
    },
    {
     "name": "stdout",
     "output_type": "stream",
     "text": [
      "epoch: 17, [batch: 4032 / 6720], examples_per_second: 1810.8015, train_label_loss: 0.4583, \n"
     ]
    },
    {
     "name": "stdout",
     "output_type": "stream",
     "text": [
      "epoch: 17, [batch: 4704 / 6720], examples_per_second: 1817.6613, train_label_loss: 0.1012, \n"
     ]
    },
    {
     "name": "stdout",
     "output_type": "stream",
     "text": [
      "epoch: 17, [batch: 5376 / 6720], examples_per_second: 1801.5733, train_label_loss: 0.0821, \n"
     ]
    },
    {
     "name": "stdout",
     "output_type": "stream",
     "text": [
      "epoch: 17, [batch: 6048 / 6720], examples_per_second: 1824.0305, train_label_loss: 0.1720, \n"
     ]
    },
    {
     "name": "stdout",
     "output_type": "stream",
     "text": [
      "=============================================================\n",
      "epoch: 17, source_val_acc_label: 0.8860, target_val_acc_label: 0.6990, source_val_label_loss: 0.3314, target_val_label_loss: 313.5308, \n",
      "=============================================================\n"
     ]
    },
    {
     "name": "stdout",
     "output_type": "stream",
     "text": [
      "epoch: 18, [batch: 1 / 6720], examples_per_second: 2.6544, train_label_loss: 0.2112, \n"
     ]
    },
    {
     "name": "stdout",
     "output_type": "stream",
     "text": [
      "epoch: 18, [batch: 672 / 6720], examples_per_second: 1850.8424, train_label_loss: 0.1493, \n"
     ]
    },
    {
     "name": "stdout",
     "output_type": "stream",
     "text": [
      "epoch: 18, [batch: 1344 / 6720], examples_per_second: 1846.8285, train_label_loss: 0.3452, \n"
     ]
    },
    {
     "name": "stdout",
     "output_type": "stream",
     "text": [
      "epoch: 18, [batch: 2016 / 6720], examples_per_second: 1847.5354, train_label_loss: 0.2054, \n"
     ]
    },
    {
     "name": "stdout",
     "output_type": "stream",
     "text": [
      "epoch: 18, [batch: 2688 / 6720], examples_per_second: 2032.4540, train_label_loss: 0.0557, \n"
     ]
    },
    {
     "name": "stdout",
     "output_type": "stream",
     "text": [
      "epoch: 18, [batch: 3360 / 6720], examples_per_second: 2399.7710, train_label_loss: 0.2227, \n"
     ]
    },
    {
     "name": "stdout",
     "output_type": "stream",
     "text": [
      "epoch: 18, [batch: 4032 / 6720], examples_per_second: 1848.6103, train_label_loss: 0.5236, \n"
     ]
    },
    {
     "name": "stdout",
     "output_type": "stream",
     "text": [
      "epoch: 18, [batch: 4704 / 6720], examples_per_second: 1845.0156, train_label_loss: 0.3380, \n"
     ]
    },
    {
     "name": "stdout",
     "output_type": "stream",
     "text": [
      "epoch: 18, [batch: 5376 / 6720], examples_per_second: 1848.9795, train_label_loss: 0.0369, \n"
     ]
    },
    {
     "name": "stdout",
     "output_type": "stream",
     "text": [
      "epoch: 18, [batch: 6048 / 6720], examples_per_second: 1844.3240, train_label_loss: 0.2508, \n"
     ]
    },
    {
     "name": "stdout",
     "output_type": "stream",
     "text": [
      "=============================================================\n",
      "epoch: 18, source_val_acc_label: 0.8796, target_val_acc_label: 0.6566, source_val_label_loss: 0.3569, target_val_label_loss: 336.8129, \n",
      "=============================================================\n"
     ]
    },
    {
     "name": "stdout",
     "output_type": "stream",
     "text": [
      "Patience (3) exhausted\n"
     ]
    }
   ],
   "source": [
    "###################################\n",
    "# train\n",
    "###################################\n",
    "jig = PTN_Train_Eval_Test_Jig(model, p.BEST_MODEL_PATH, p.device)\n",
    "\n",
    "jig.train(\n",
    "    train_iterable=datasets.source.processed.train,\n",
    "    source_val_iterable=datasets.source.processed.val,\n",
    "    target_val_iterable=datasets.target.processed.val,\n",
    "    num_epochs=p.n_epoch,\n",
    "    num_logs_per_epoch=p.NUM_LOGS_PER_EPOCH,\n",
    "    patience=p.patience,\n",
    "    optimizer=optimizer,\n",
    "    criteria_for_best=p.criteria_for_best,\n",
    ")"
   ]
  },
  {
   "cell_type": "code",
   "execution_count": 23,
   "id": "31e8fabf",
   "metadata": {
    "execution": {
     "iopub.execute_input": "2022-03-25T23:52:17.015962Z",
     "iopub.status.busy": "2022-03-25T23:52:17.015690Z",
     "iopub.status.idle": "2022-03-25T23:52:17.034474Z",
     "shell.execute_reply": "2022-03-25T23:52:17.034903Z"
    },
    "papermill": {
     "duration": 0.07543,
     "end_time": "2022-03-25T23:52:17.035048",
     "exception": false,
     "start_time": "2022-03-25T23:52:16.959618",
     "status": "completed"
    },
    "tags": []
   },
   "outputs": [],
   "source": [
    "total_experiment_time_secs = time.time() - start_time_secs"
   ]
  },
  {
   "cell_type": "code",
   "execution_count": 24,
   "id": "87b9595b",
   "metadata": {
    "execution": {
     "iopub.execute_input": "2022-03-25T23:52:17.152312Z",
     "iopub.status.busy": "2022-03-25T23:52:17.147981Z",
     "iopub.status.idle": "2022-03-25T23:54:46.013360Z",
     "shell.execute_reply": "2022-03-25T23:54:46.013687Z"
    },
    "papermill": {
     "duration": 148.92093,
     "end_time": "2022-03-25T23:54:46.013800",
     "exception": false,
     "start_time": "2022-03-25T23:52:17.092870",
     "status": "completed"
    },
    "tags": []
   },
   "outputs": [],
   "source": [
    "###################################\n",
    "# Evaluate the model\n",
    "###################################\n",
    "source_test_label_accuracy, source_test_label_loss = jig.test(datasets.source.processed.test)\n",
    "target_test_label_accuracy, target_test_label_loss = jig.test(datasets.target.processed.test)\n",
    "\n",
    "source_val_label_accuracy, source_val_label_loss = jig.test(datasets.source.processed.val)\n",
    "target_val_label_accuracy, target_val_label_loss = jig.test(datasets.target.processed.val)\n",
    "\n",
    "history = jig.get_history()\n",
    "\n",
    "total_epochs_trained = len(history[\"epoch_indices\"])\n",
    "\n",
    "val_dl = Iterable_Aggregator((datasets.source.original.val,datasets.target.original.val))\n",
    "\n",
    "confusion = ptn_confusion_by_domain_over_dataloader(model, p.device, val_dl)\n",
    "per_domain_accuracy = per_domain_accuracy_from_confusion(confusion)\n",
    "\n",
    "# Add a key to per_domain_accuracy for if it was a source domain\n",
    "for domain, accuracy in per_domain_accuracy.items():\n",
    "    per_domain_accuracy[domain] = {\n",
    "        \"accuracy\": accuracy,\n",
    "        \"source?\": domain in p.domains_source\n",
    "    }\n",
    "\n",
    "# Do an independent accuracy assesment JUST TO BE SURE!\n",
    "# _source_test_label_accuracy = independent_accuracy_assesment(model, datasets.source.processed.test, p.device)\n",
    "# _target_test_label_accuracy = independent_accuracy_assesment(model, datasets.target.processed.test, p.device)\n",
    "# _source_val_label_accuracy = independent_accuracy_assesment(model, datasets.source.processed.val, p.device)\n",
    "# _target_val_label_accuracy = independent_accuracy_assesment(model, datasets.target.processed.val, p.device)\n",
    "\n",
    "# assert(_source_test_label_accuracy == source_test_label_accuracy)\n",
    "# assert(_target_test_label_accuracy == target_test_label_accuracy)\n",
    "# assert(_source_val_label_accuracy == source_val_label_accuracy)\n",
    "# assert(_target_val_label_accuracy == target_val_label_accuracy)\n",
    "\n",
    "experiment = {\n",
    "    \"experiment_name\": p.experiment_name,\n",
    "    \"parameters\": dict(p),\n",
    "    \"results\": {\n",
    "        \"source_test_label_accuracy\": source_test_label_accuracy,\n",
    "        \"source_test_label_loss\": source_test_label_loss,\n",
    "        \"target_test_label_accuracy\": target_test_label_accuracy,\n",
    "        \"target_test_label_loss\": target_test_label_loss,\n",
    "        \"source_val_label_accuracy\": source_val_label_accuracy,\n",
    "        \"source_val_label_loss\": source_val_label_loss,\n",
    "        \"target_val_label_accuracy\": target_val_label_accuracy,\n",
    "        \"target_val_label_loss\": target_val_label_loss,\n",
    "        \"total_epochs_trained\": total_epochs_trained,\n",
    "        \"total_experiment_time_secs\": total_experiment_time_secs,\n",
    "        \"confusion\": confusion,\n",
    "        \"per_domain_accuracy\": per_domain_accuracy,\n",
    "    },\n",
    "    \"history\": history,\n",
    "    \"dataset_metrics\": get_dataset_metrics(datasets, \"ptn\"),\n",
    "}"
   ]
  },
  {
   "cell_type": "code",
   "execution_count": 25,
   "id": "54a21829",
   "metadata": {
    "execution": {
     "iopub.execute_input": "2022-03-25T23:54:46.125882Z",
     "iopub.status.busy": "2022-03-25T23:54:46.125617Z",
     "iopub.status.idle": "2022-03-25T23:54:46.245120Z",
     "shell.execute_reply": "2022-03-25T23:54:46.244742Z"
    },
    "papermill": {
     "duration": 0.174748,
     "end_time": "2022-03-25T23:54:46.245218",
     "exception": false,
     "start_time": "2022-03-25T23:54:46.070470",
     "status": "completed"
    },
    "tags": []
   },
   "outputs": [
    {
     "data": {
      "image/png": "[encoded data removed]",
      "text/plain": [
       "<Figure size 1080x504 with 1 Axes>"
      ]
     },
     "metadata": {
      "needs_background": "light"
     },
     "output_type": "display_data"
    }
   ],
   "source": [
    "ax = get_loss_curve(experiment)\n",
    "plt.show()"
   ]
  },
  {
   "cell_type": "code",
   "execution_count": 26,
   "id": "fd8a0f60",
   "metadata": {
    "execution": {
     "iopub.execute_input": "2022-03-25T23:54:46.358539Z",
     "iopub.status.busy": "2022-03-25T23:54:46.357826Z",
     "iopub.status.idle": "2022-03-25T23:54:46.520165Z",
     "shell.execute_reply": "2022-03-25T23:54:46.519870Z"
    },
    "papermill": {
     "duration": 0.217622,
     "end_time": "2022-03-25T23:54:46.520235",
     "exception": false,
     "start_time": "2022-03-25T23:54:46.302613",
     "status": "completed"
    },
    "tags": []
   },
   "outputs": [
    {
     "data": {
      "text/plain": [
       "<AxesSubplot:title={'center':'Results'}>"
      ]
     },
     "execution_count": 26,
     "metadata": {},
     "output_type": "execute_result"
    },
    {
     "data": {
      "image/png": "[encoded data removed]",
      "text/plain": [
       "<Figure size 1080x504 with 1 Axes>"
      ]
     },
     "metadata": {
      "needs_background": "light"
     },
     "output_type": "display_data"
    }
   ],
   "source": [
    "get_results_table(experiment)"
   ]
  },
  {
   "cell_type": "code",
   "execution_count": 27,
   "id": "cf8dc689",
   "metadata": {
    "execution": {
     "iopub.execute_input": "2022-03-25T23:54:46.632964Z",
     "iopub.status.busy": "2022-03-25T23:54:46.632504Z",
     "iopub.status.idle": "2022-03-25T23:54:46.772571Z",
     "shell.execute_reply": "2022-03-25T23:54:46.772990Z"
    },
    "papermill": {
     "duration": 0.197018,
     "end_time": "2022-03-25T23:54:46.773121",
     "exception": false,
     "start_time": "2022-03-25T23:54:46.576103",
     "status": "completed"
    },
    "tags": []
   },
   "outputs": [
    {
     "data": {
      "text/plain": [
       "<AxesSubplot:title={'center':'Per Domain Validation Accuracy'}, xlabel='domain'>"
      ]
     },
     "execution_count": 27,
     "metadata": {},
     "output_type": "execute_result"
    },
    {
     "data": {
      "image/png": "[encoded data removed]",
      "text/plain": [
       "<Figure size 1080x504 with 1 Axes>"
      ]
     },
     "metadata": {
      "needs_background": "light"
     },
     "output_type": "display_data"
    }
   ],
   "source": [
    "get_domain_accuracies(experiment)"
   ]
  },
  {
   "cell_type": "code",
   "execution_count": 28,
   "id": "a74ae082",
   "metadata": {
    "execution": {
     "iopub.execute_input": "2022-03-25T23:54:46.895296Z",
     "iopub.status.busy": "2022-03-25T23:54:46.895025Z",
     "iopub.status.idle": "2022-03-25T23:54:46.911215Z",
     "shell.execute_reply": "2022-03-25T23:54:46.911609Z"
    },
    "papermill": {
     "duration": 0.07688,
     "end_time": "2022-03-25T23:54:46.911735",
     "exception": false,
     "start_time": "2022-03-25T23:54:46.834855",
     "status": "completed"
    },
    "tags": []
   },
   "outputs": [
    {
     "name": "stdout",
     "output_type": "stream",
     "text": [
      "Source Test Label Accuracy: 0.8887369791666667 Target Test Label Accuracy: 0.7060524830699775\n",
      "Source Val Label Accuracy: 0.8851888020833333 Target Val Label Accuracy: 0.7029642857142857\n"
     ]
    }
   ],
   "source": [
    "print(\"Source Test Label Accuracy:\", experiment[\"results\"][\"source_test_label_accuracy\"], \"Target Test Label Accuracy:\", experiment[\"results\"][\"target_test_label_accuracy\"])\n",
    "print(\"Source Val Label Accuracy:\", experiment[\"results\"][\"source_val_label_accuracy\"], \"Target Val Label Accuracy:\", experiment[\"results\"][\"target_val_label_accuracy\"])"
   ]
  },
  {
   "cell_type": "code",
   "execution_count": 29,
   "id": "dacca602",
   "metadata": {
    "execution": {
     "iopub.execute_input": "2022-03-25T23:54:47.031520Z",
     "iopub.status.busy": "2022-03-25T23:54:47.031244Z",
     "iopub.status.idle": "2022-03-25T23:54:47.050293Z",
     "shell.execute_reply": "2022-03-25T23:54:47.050710Z"
    },
    "papermill": {
     "duration": 0.077681,
     "end_time": "2022-03-25T23:54:47.050841",
     "exception": false,
     "start_time": "2022-03-25T23:54:46.973160",
     "status": "completed"
    },
    "tags": [
     "experiment_json"
    ]
   },
   "outputs": [
    {
     "data": {
      "text/plain": [
       "'{\"experiment_name\": \"tl_3-filterv2:oracle.run1.framed -> cores\", \"parameters\": {\"experiment_name\": \"tl_3-filterv2:oracle.run1.framed -> cores\", \"device\": \"cuda\", \"lr\": 0.0001, \"x_shape\": [2, 200], \"n_shot\": 3, \"n_query\": 2, \"train_k_factor\": 3, \"val_k_factor\": 2, \"test_k_factor\": 2, \"torch_default_dtype\": \"torch.float32\", \"n_epoch\": 50, \"patience\": 3, \"criteria_for_best\": \"target_accuracy\", \"x_net\": [{\"class\": \"nnReshape\", \"kargs\": {\"shape\": [-1, 1, 2, 200]}}, {\"class\": \"Conv2d\", \"kargs\": {\"in_channels\": 1, \"out_channels\": 256, \"kernel_size\": [1, 7], \"bias\": false, \"padding\": [0, 3]}}, {\"class\": \"ReLU\", \"kargs\": {\"inplace\": true}}, {\"class\": \"BatchNorm2d\", \"kargs\": {\"num_features\": 256}}, {\"class\": \"Conv2d\", \"kargs\": {\"in_channels\": 256, \"out_channels\": 80, \"kernel_size\": [2, 7], \"bias\": true, \"padding\": [0, 3]}}, {\"class\": \"ReLU\", \"kargs\": {\"inplace\": true}}, {\"class\": \"BatchNorm2d\", \"kargs\": {\"num_features\": 80}}, {\"class\": \"Flatten\", \"kargs\": {}}, {\"class\": \"Linear\", \"kargs\": {\"in_features\": 16000, \"out_features\": 256}}, {\"class\": \"ReLU\", \"kargs\": {\"inplace\": true}}, {\"class\": \"BatchNorm1d\", \"kargs\": {\"num_features\": 256}}, {\"class\": \"Linear\", \"kargs\": {\"in_features\": 256, \"out_features\": 256}}], \"NUM_LOGS_PER_EPOCH\": 10, \"BEST_MODEL_PATH\": \"./best_model.pth\", \"n_way\": 16, \"datasets\": [{\"labels\": [\"1-10.\", \"1-11.\", \"1-15.\", \"1-16.\", \"1-17.\", \"1-18.\", \"1-19.\", \"10-4.\", \"10-7.\", \"11-1.\", \"11-14.\", \"11-17.\", \"11-20.\", \"11-7.\", \"13-20.\", \"13-8.\", \"14-10.\", \"14-11.\", \"14-14.\", \"14-7.\", \"15-1.\", \"15-20.\", \"16-1.\", \"16-16.\", \"17-10.\", \"17-11.\", \"17-2.\", \"19-1.\", \"19-16.\", \"19-19.\", \"19-20.\", \"19-3.\", \"2-10.\", \"2-11.\", \"2-17.\", \"2-18.\", \"2-20.\", \"2-3.\", \"2-4.\", \"2-5.\", \"2-6.\", \"2-7.\", \"2-8.\", \"3-13.\", \"3-18.\", \"3-3.\", \"4-1.\", \"4-10.\", \"4-11.\", \"4-19.\", \"5-5.\", \"6-15.\", \"7-10.\", \"7-14.\", \"8-18.\", \"8-20.\", \"8-3.\", \"8-8.\"], \"domains\": [1, 2, 3, 4, 5], \"num_examples_per_domain_per_label\": -1, \"pickle_path\": \"/mnt/wd500GB/CSC500/csc500-main/datasets/cores.stratified_ds.2022A.pkl\", \"source_or_target_dataset\": \"target\", \"x_transforms\": [\"unit_power\", \"lowpass_+/-10MHz\", \"take_200\"], \"episode_transforms\": [], \"domain_prefix\": \"C_\"}, {\"labels\": [\"3123D52\", \"3123D65\", \"3123D79\", \"3123D80\", \"3123D54\", \"3123D70\", \"3123D7B\", \"3123D89\", \"3123D58\", \"3123D76\", \"3123D7D\", \"3123EFE\", \"3123D64\", \"3123D78\", \"3123D7E\", \"3124E4A\"], \"domains\": [32, 38, 8, 44, 14, 50, 20, 26], \"num_examples_per_domain_per_label\": 2000, \"pickle_path\": \"/mnt/wd500GB/CSC500/csc500-main/datasets/oracle.Run1_framed_2000Examples_stratified_ds.2022A.pkl\", \"source_or_target_dataset\": \"source\", \"x_transforms\": [\"unit_power\", \"take_200\", \"resample_20Msps_to_25Msps\"], \"episode_transforms\": [], \"domain_prefix\": \"O_\"}], \"seed\": 420, \"dataset_seed\": 420, \"domains_source\": [\"O_32\", \"O_38\", \"O_8\", \"O_44\", \"O_14\", \"O_50\", \"O_20\", \"O_26\"], \"domains_target\": [\"C_1\", \"C_2\", \"C_3\", \"C_4\", \"C_5\"]}, \"results\": {\"source_test_label_accuracy\": 0.8887369791666667, \"source_test_label_loss\": 0.33475223183631897, \"target_test_label_accuracy\": 0.7060524830699775, \"target_test_label_loss\": 251.3203887939453, \"source_val_label_accuracy\": 0.8851888020833333, \"source_val_label_loss\": 0.32409295439720154, \"target_val_label_accuracy\": 0.7029642857142857, \"target_val_label_loss\": 253.04249572753906, \"total_epochs_trained\": 18, \"total_experiment_time_secs\": 5530.139879703522, \"confusion\": {\"O_14\": {\"15\": {\"15\": 240}, \"5\": {\"5\": 235, \"3\": 2, \"14\": 1, \"2\": 1, \"4\": 1}, \"7\": {\"7\": 240}, \"4\": {\"4\": 237, \"5\": 1, \"1\": 2}, \"10\": {\"10\": 240}, \"11\": {\"11\": 234, \"9\": 5, \"0\": 1}, \"12\": {\"12\": 240}, \"0\": {\"0\": 238, \"10\": 1, \"8\": 1}, \"14\": {\"14\": 226, \"2\": 11, \"13\": 2, \"3\": 1}, \"8\": {\"8\": 240}, \"13\": {\"6\": 65, \"13\": 166, \"2\": 5, \"4\": 3, \"7\": 1}, \"6\": {\"13\": 36, \"6\": 194, \"2\": 9, \"14\": 1}, \"1\": {\"1\": 239, \"4\": 1}, \"3\": {\"3\": 234, \"2\": 6}, \"9\": {\"9\": 240}, \"2\": {\"2\": 204, \"13\": 4, \"4\": 3, \"3\": 13, \"6\": 3, \"5\": 1, \"14\": 11, \"1\": 1}}, \"O_20\": {\"4\": {\"4\": 221, \"8\": 11, \"3\": 7, \"12\": 1}, \"10\": {\"10\": 240}, \"15\": {\"15\": 213, \"0\": 15, \"1\": 12}, \"0\": {\"8\": 2, \"0\": 221, \"5\": 1, \"15\": 16}, \"6\": {\"6\": 237, \"14\": 3}, \"3\": {\"3\": 156, \"9\": 27, \"2\": 18, \"12\": 27, \"7\": 3, \"1\": 3, \"4\": 5, \"10\": 1}, \"7\": {\"7\": 225, \"8\": 2, \"2\": 10, \"9\": 1, \"3\": 2}, \"2\": {\"2\": 169, \"7\": 14, \"3\": 11, \"9\": 36, \"12\": 5, \"13\": 5}, \"8\": {\"8\": 228, \"4\": 4, \"7\": 7, \"14\": 1}, \"11\": {\"11\": 240}, \"14\": {\"14\": 234, \"6\": 6}, \"12\": {\"12\": 175, \"1\": 21, \"9\": 6, \"3\": 31, \"2\": 7}, \"13\": {\"13\": 231, \"2\": 4, \"1\": 1, \"7\": 2, \"15\": 1, \"0\": 1}, \"9\": {\"9\": 188, \"2\": 38, \"12\": 3, \"3\": 10, \"7\": 1}, \"5\": {\"5\": 238, \"1\": 1, \"15\": 1}, \"1\": {\"1\": 194, \"12\": 29, \"15\": 14, \"3\": 1, \"13\": 1, \"9\": 1}}, \"O_50\": {\"5\": {\"5\": 212, \"4\": 14, \"13\": 5, \"7\": 7, \"6\": 2}, \"12\": {\"12\": 231, \"9\": 4, \"11\": 5}, \"14\": {\"14\": 240}, \"4\": {\"4\": 183, \"7\": 8, \"15\": 26, \"1\": 6, \"6\": 5, \"5\": 9, \"13\": 1, \"11\": 2}, \"13\": {\"13\": 220, \"7\": 5, \"5\": 2, \"6\": 8, \"10\": 5}, \"10\": {\"10\": 228, \"13\": 2, \"0\": 9, \"8\": 1}, \"9\": {\"9\": 226, \"11\": 4, \"12\": 10}, \"15\": {\"15\": 207, \"1\": 16, \"4\": 9, \"6\": 1, \"11\": 6, \"5\": 1}, \"6\": {\"6\": 214, \"7\": 7, \"15\": 7, \"13\": 7, \"4\": 4, \"5\": 1}, \"2\": {\"2\": 216, \"0\": 24}, \"0\": {\"0\": 213, \"2\": 17, \"10\": 10}, \"11\": {\"11\": 220, \"9\": 5, \"15\": 13, \"12\": 2}, \"3\": {\"3\": 234, \"8\": 6}, \"8\": {\"8\": 233, \"10\": 6, \"3\": 1}, \"7\": {\"7\": 219, \"13\": 4, \"4\": 7, \"6\": 6, \"5\": 4}, \"1\": {\"1\": 221, \"15\": 15, \"13\": 2, \"14\": 1, \"6\": 1}}, \"O_26\": {\"7\": {\"8\": 12, \"7\": 171, \"4\": 17, \"1\": 2, \"2\": 20, \"3\": 15, \"0\": 3}, \"6\": {\"6\": 215, \"9\": 3, \"8\": 2, \"15\": 12, \"10\": 6, \"0\": 2}, \"14\": {\"14\": 209, \"8\": 6, \"0\": 10, \"1\": 5, \"4\": 4, \"7\": 1, \"10\": 5}, \"15\": {\"13\": 5, \"15\": 201, \"9\": 19, \"6\": 3, \"10\": 6, \"2\": 2, \"8\": 3, \"0\": 1}, \"5\": {\"5\": 236, \"2\": 2, \"15\": 2}, \"10\": {\"0\": 57, \"10\": 142, \"14\": 4, \"8\": 28, \"4\": 4, \"1\": 2, \"15\": 2, \"6\": 1}, \"4\": {\"4\": 198, \"0\": 18, \"8\": 8, \"7\": 10, \"1\": 4, \"10\": 2}, \"11\": {\"11\": 240}, \"13\": {\"13\": 216, \"9\": 11, \"2\": 10, \"15\": 1, \"5\": 1, \"3\": 1}, \"2\": {\"7\": 26, \"2\": 136, \"3\": 67, \"1\": 1, \"9\": 2, \"13\": 3, \"15\": 3, \"8\": 2}, \"0\": {\"0\": 115, \"8\": 21, \"10\": 73, \"14\": 10, \"4\": 12, \"6\": 3, \"7\": 3, \"1\": 1, \"15\": 2}, \"12\": {\"12\": 240}, \"3\": {\"3\": 187, \"7\": 13, \"2\": 39, \"4\": 1}, \"9\": {\"9\": 214, \"13\": 4, \"15\": 19, \"6\": 3}, \"8\": {\"8\": 149, \"0\": 21, \"10\": 29, \"4\": 14, \"14\": 5, \"7\": 18, \"1\": 1, \"15\": 3}, \"1\": {\"1\": 216, \"7\": 1, \"0\": 1, \"14\": 11, \"3\": 2, \"4\": 7, \"10\": 2}}, \"O_32\": {\"7\": {\"7\": 203, \"0\": 5, \"2\": 2, \"14\": 4, \"5\": 17, \"4\": 7, \"13\": 2}, \"2\": {\"2\": 200, \"4\": 36, \"7\": 3, \"13\": 1}, \"5\": {\"5\": 200, \"7\": 22, \"14\": 5, \"13\": 6, \"2\": 1, \"8\": 5, \"4\": 1}, \"6\": {\"6\": 240}, \"13\": {\"13\": 192, \"3\": 19, \"8\": 4, \"0\": 1, \"7\": 5, \"4\": 17, \"5\": 1, \"11\": 1}, \"4\": {\"2\": 41, \"4\": 181, \"7\": 6, \"13\": 12}, \"3\": {\"3\": 227, \"13\": 9, \"11\": 3, \"8\": 1}, \"0\": {\"0\": 207, \"8\": 21, \"14\": 6, \"5\": 1, \"7\": 4, \"4\": 1}, \"9\": {\"9\": 239, \"12\": 1}, \"12\": {\"12\": 240}, \"8\": {\"8\": 181, \"14\": 5, \"0\": 34, \"13\": 6, \"5\": 4, \"7\": 4, \"3\": 5, \"15\": 1}, \"14\": {\"14\": 199, \"8\": 5, \"3\": 2, \"0\": 13, \"11\": 16, \"7\": 4, \"5\": 1}, \"15\": {\"15\": 234, \"0\": 2, \"8\": 4}, \"11\": {\"11\": 232, \"7\": 1, \"14\": 6, \"3\": 1}, \"10\": {\"10\": 240}, \"1\": {\"1\": 240}}, \"O_44\": {\"11\": {\"11\": 235, \"13\": 4, \"6\": 1}, \"7\": {\"9\": 40, \"7\": 181, \"2\": 13, \"13\": 1, \"6\": 5}, \"6\": {\"6\": 158, \"9\": 26, \"13\": 53, \"7\": 3}, \"12\": {\"12\": 216, \"1\": 21, \"3\": 2, \"10\": 1}, \"4\": {\"4\": 204, \"14\": 30, \"15\": 6}, \"13\": {\"13\": 167, \"6\": 48, \"9\": 22, \"7\": 1, \"11\": 2}, \"8\": {\"8\": 164, \"0\": 66, \"5\": 4, \"14\": 1, \"15\": 5}, \"5\": {\"5\": 226, \"0\": 6, \"14\": 7, \"8\": 1}, \"14\": {\"14\": 177, \"15\": 8, \"5\": 6, \"4\": 49}, \"3\": {\"3\": 226, \"1\": 9, \"2\": 1, \"12\": 4}, \"10\": {\"10\": 200, \"9\": 1, \"1\": 16, \"12\": 4, \"2\": 15, \"7\": 4}, \"1\": {\"1\": 175, \"10\": 15, \"2\": 17, \"3\": 9, \"12\": 24}, \"2\": {\"2\": 195, \"10\": 5, \"1\": 9, \"7\": 29, \"3\": 2}, \"15\": {\"15\": 207, \"0\": 13, \"14\": 5, \"8\": 9, \"4\": 5, \"5\": 1}, \"9\": {\"9\": 135, \"7\": 45, \"6\": 24, \"13\": 36}, \"0\": {\"8\": 49, \"0\": 180, \"15\": 9, \"5\": 2}}, \"O_8\": {\"10\": {\"10\": 221, \"13\": 14, \"14\": 3, \"4\": 2}, \"6\": {\"4\": 10, \"6\": 195, \"7\": 26, \"0\": 3, \"13\": 6}, \"13\": {\"13\": 128, \"10\": 42, \"4\": 39, \"0\": 19, \"6\": 10, \"7\": 1, \"14\": 1}, \"3\": {\"3\": 235, \"2\": 5}, \"9\": {\"9\": 240}, \"1\": {\"1\": 238, \"14\": 1, \"11\": 1}, \"5\": {\"5\": 236, \"14\": 3, \"1\": 1}, \"11\": {\"11\": 225, \"1\": 15}, \"4\": {\"4\": 208, \"13\": 17, \"6\": 6, \"0\": 4, \"10\": 4, \"14\": 1}, \"14\": {\"14\": 233, \"10\": 2, \"13\": 1, \"1\": 3, \"5\": 1}, \"12\": {\"12\": 213, \"15\": 22, \"3\": 4, \"2\": 1}, \"7\": {\"7\": 208, \"6\": 30, \"0\": 1, \"3\": 1}, \"0\": {\"0\": 211, \"7\": 6, \"13\": 8, \"4\": 8, \"6\": 4, \"10\": 3}, \"15\": {\"15\": 229, \"12\": 9, \"8\": 2}, \"2\": {\"2\": 232, \"3\": 3, \"7\": 4, \"12\": 1}, \"8\": {\"8\": 240}}, \"O_38\": {\"4\": {\"4\": 237, \"10\": 2, \"12\": 1}, \"7\": {\"7\": 218, \"5\": 7, \"9\": 2, \"0\": 8, \"8\": 5}, \"12\": {\"12\": 239, \"4\": 1}, \"10\": {\"10\": 205, \"0\": 10, \"13\": 18, \"4\": 1, \"7\": 2, \"5\": 1, \"14\": 1, \"8\": 2}, \"0\": {\"0\": 196, \"3\": 10, \"7\": 7, \"8\": 19, \"4\": 1, \"13\": 1, \"5\": 1, \"10\": 5}, \"1\": {\"1\": 236, \"15\": 4}, \"5\": {\"5\": 189, \"7\": 18, \"13\": 2, \"8\": 23, \"6\": 2, \"9\": 4, \"0\": 1, \"3\": 1}, \"15\": {\"15\": 200, \"1\": 15, \"8\": 21, \"13\": 3, \"2\": 1}, \"9\": {\"9\": 237, \"6\": 3}, \"11\": {\"11\": 238, \"14\": 1, \"4\": 1}, \"14\": {\"14\": 231, \"2\": 8, \"10\": 1}, \"6\": {\"6\": 239, \"5\": 1}, \"8\": {\"8\": 192, \"7\": 14, \"13\": 4, \"0\": 6, \"15\": 7, \"5\": 17}, \"3\": {\"3\": 235, \"10\": 2, \"0\": 2, \"11\": 1}, \"2\": {\"2\": 227, \"13\": 5, \"14\": 8}, \"13\": {\"13\": 222, \"10\": 8, \"2\": 7, \"0\": 2, \"8\": 1}}, \"C_4\": {\"42\": {\"39\": 1, \"42\": 26, \"47\": 1, \"48\": 2, \"17\": 1, \"54\": 1}, \"0\": {\"0\": 69, \"5\": 1, \"24\": 3, \"22\": 4, \"43\": 3}, \"1\": {\"1\": 24, \"48\": 1, \"47\": 5, \"15\": 1, \"46\": 2, \"18\": 1, \"4\": 1, \"28\": 1, \"3\": 1, \"30\": 1, \"57\": 1, \"11\": 1}, \"39\": {\"39\": 16, \"15\": 3, \"48\": 1}, \"28\": {\"39\": 1, \"28\": 17, \"17\": 1, \"30\": 1, \"57\": 4, \"42\": 3, \"21\": 2, \"48\": 1, \"29\": 1, \"26\": 1}, \"53\": {\"53\": 99, \"8\": 5, \"51\": 9, \"19\": 1, \"36\": 1, \"21\": 2, \"50\": 3, \"48\": 1, \"34\": 1, \"3\": 1, \"40\": 1}, \"19\": {\"33\": 1, \"19\": 106, \"7\": 1, \"26\": 1, \"29\": 14, \"44\": 12, \"40\": 1, \"5\": 1, \"50\": 1, \"9\": 1, \"4\": 1, \"49\": 1, \"45\": 2, \"55\": 1}, \"34\": {\"34\": 20, \"47\": 1, \"5\": 2, \"18\": 1}, \"33\": {\"19\": 1, \"33\": 26, \"35\": 4, \"28\": 1, \"29\": 1, \"44\": 3}, \"32\": {\"32\": 21, \"41\": 2, \"1\": 1}, \"10\": {\"10\": 134, \"43\": 2}, \"46\": {\"39\": 1, \"32\": 2, \"46\": 45, \"55\": 6, \"42\": 3, \"48\": 7, \"35\": 1, \"15\": 2, \"41\": 4, \"23\": 5, \"47\": 5, \"56\": 7, \"5\": 3, \"3\": 4, \"6\": 3, \"52\": 5, \"24\": 1, \"4\": 1, \"19\": 2, \"27\": 7, \"29\": 4, \"57\": 1, \"12\": 3, \"21\": 1, \"18\": 2, \"14\": 1, \"31\": 1, \"1\": 2, \"2\": 1, \"17\": 1, \"0\": 1, \"36\": 1, \"44\": 1}, \"20\": {\"20\": 84, \"36\": 3, \"52\": 8, \"19\": 2, \"35\": 1, \"48\": 3, \"15\": 3, \"23\": 8, \"18\": 4, \"55\": 1, \"29\": 1, \"12\": 1, \"46\": 1, \"44\": 1, \"40\": 1}, \"5\": {\"39\": 2, \"5\": 21, \"47\": 4, \"36\": 2, \"23\": 18, \"30\": 2, \"48\": 12, \"41\": 1, \"16\": 3, \"18\": 9, \"0\": 1, \"3\": 4, \"52\": 9, \"46\": 3, \"50\": 2, \"29\": 2, \"4\": 2, \"15\": 3, \"26\": 1, \"31\": 1, \"45\": 1, \"19\": 1, \"51\": 1, \"12\": 1, \"56\": 1, \"55\": 1}, \"40\": {\"19\": 3, \"40\": 107, \"57\": 1, \"35\": 2, \"55\": 3, \"45\": 1, \"44\": 2, \"14\": 1, \"29\": 3, \"50\": 1}, \"51\": {\"53\": 19, \"51\": 104, \"21\": 5, \"3\": 1, \"8\": 6, \"20\": 1, \"5\": 1, \"36\": 2, \"50\": 4, \"12\": 1}, \"37\": {\"37\": 23, \"35\": 1}, \"17\": {\"17\": 72, \"27\": 6, \"48\": 1, \"6\": 1}, \"45\": {\"45\": 38, \"9\": 12, \"50\": 1, \"15\": 1, \"28\": 4, \"26\": 1, \"36\": 3, \"6\": 4, \"4\": 7, \"53\": 1, \"19\": 5, \"29\": 5, \"3\": 4, \"5\": 1, \"8\": 1, \"44\": 4, \"20\": 1, \"57\": 1, \"47\": 1, \"12\": 1}, \"13\": {\"13\": 134, \"56\": 7, \"2\": 1}, \"27\": {\"27\": 78, \"36\": 1, \"17\": 10, \"52\": 2, \"32\": 1, \"30\": 3, \"4\": 2, \"15\": 2, \"47\": 5, \"23\": 6, \"5\": 10, \"54\": 2, \"3\": 1, \"48\": 17, \"20\": 1, \"12\": 1, \"18\": 1, \"9\": 1}, \"24\": {\"24\": 44, \"0\": 4, \"43\": 3, \"2\": 1, \"22\": 3, \"11\": 1}, \"30\": {\"36\": 2, \"30\": 18, \"52\": 2, \"54\": 1, \"6\": 3, \"8\": 3, \"23\": 4, \"18\": 5, \"12\": 1, \"20\": 2, \"27\": 1, \"16\": 2}, \"31\": {\"31\": 27, \"56\": 1}, \"41\": {\"41\": 32, \"38\": 1, \"39\": 1, \"13\": 1, \"8\": 1}, \"36\": {\"36\": 43, \"30\": 2, \"23\": 7, \"8\": 4, \"52\": 4, \"20\": 10, \"54\": 10, \"18\": 4, \"12\": 2, \"29\": 1, \"16\": 1, \"7\": 1, \"15\": 2, \"48\": 1}, \"16\": {\"16\": 63, \"23\": 10, \"41\": 1, \"15\": 1, \"54\": 8, \"18\": 4, \"20\": 2, \"52\": 3, \"44\": 2, \"39\": 1, \"27\": 1}, \"22\": {\"13\": 2, \"22\": 78, \"11\": 10, \"0\": 5, \"35\": 1, \"43\": 6, \"33\": 1, \"56\": 5, \"46\": 2, \"10\": 6, \"16\": 3, \"24\": 2, \"36\": 1, \"37\": 1, \"5\": 1, \"1\": 1, \"47\": 1, \"2\": 1, \"54\": 1}, \"44\": {\"44\": 74, \"28\": 1, \"40\": 4, \"35\": 1, \"19\": 13, \"9\": 2, \"3\": 3, \"55\": 6, \"4\": 4, \"29\": 10, \"45\": 6, \"6\": 1, \"56\": 1, \"33\": 2, \"5\": 1, \"57\": 1, \"46\": 1, \"43\": 1}, \"9\": {\"28\": 3, \"9\": 85, \"8\": 1, \"54\": 1, \"57\": 6, \"42\": 1, \"50\": 5, \"29\": 4, \"4\": 20, \"36\": 1, \"45\": 2, \"53\": 2, \"3\": 1, \"17\": 1, \"25\": 3, \"6\": 2, \"51\": 2}, \"57\": {\"57\": 59, \"1\": 2, \"9\": 12, \"17\": 2, \"35\": 1, \"50\": 1, \"42\": 2, \"5\": 1, \"29\": 4, \"3\": 3, \"55\": 1, \"6\": 1, \"27\": 3, \"4\": 2, \"49\": 1, \"28\": 1, \"46\": 1, \"47\": 3}, \"8\": {\"8\": 101, \"48\": 1, \"15\": 3, \"41\": 1, \"30\": 4, \"20\": 10, \"54\": 2, \"12\": 4, \"36\": 4, \"52\": 1, \"23\": 4, \"53\": 2, \"39\": 1}, \"23\": {\"23\": 95, \"52\": 7, \"48\": 5, \"18\": 17, \"15\": 3, \"54\": 5}, \"47\": {\"47\": 77, \"36\": 2, \"48\": 6, \"42\": 2, \"46\": 2, \"1\": 1, \"41\": 1, \"52\": 2, \"27\": 2, \"18\": 4, \"5\": 3, \"8\": 4, \"54\": 3, \"17\": 2, \"57\": 1, \"23\": 3, \"3\": 2, \"34\": 1, \"6\": 1, \"4\": 1}, \"43\": {\"43\": 130, \"0\": 6, \"24\": 1, \"22\": 1}, \"49\": {\"49\": 19, \"57\": 1}, \"3\": {\"3\": 54, \"34\": 1, \"21\": 3, \"46\": 2, \"8\": 5, \"5\": 2, \"1\": 1, \"30\": 4, \"12\": 8, \"47\": 5, \"16\": 1, \"52\": 1, \"4\": 3, \"51\": 3, \"50\": 7, \"18\": 2, \"20\": 4, \"48\": 1, \"32\": 1, \"36\": 3, \"27\": 2, \"45\": 1, \"17\": 1, \"54\": 2, \"29\": 1, \"57\": 1, \"9\": 2, \"53\": 2, \"6\": 1}, \"12\": {\"12\": 62, \"20\": 2, \"39\": 1, \"54\": 7, \"18\": 6, \"8\": 2, \"23\": 3, \"53\": 1, \"30\": 2, \"52\": 2, \"48\": 1, \"3\": 1, \"5\": 1, \"21\": 1}, \"38\": {\"38\": 40}, \"7\": {\"7\": 23, \"46\": 1}, \"14\": {\"38\": 2, \"14\": 8, \"33\": 2, \"29\": 1, \"40\": 1, \"35\": 2}, \"15\": {\"15\": 97, \"52\": 23, \"23\": 14, \"6\": 1, \"18\": 7, \"54\": 2, \"20\": 1, \"29\": 1}, \"25\": {\"25\": 114, \"49\": 1, \"19\": 3, \"5\": 1, \"21\": 5, \"46\": 2, \"50\": 1, \"40\": 1}, \"26\": {\"57\": 1, \"26\": 21, \"54\": 1, \"4\": 1}, \"21\": {\"21\": 132}, \"48\": {\"48\": 75, \"52\": 4, \"23\": 15, \"27\": 4, \"30\": 4, \"18\": 18, \"54\": 6, \"42\": 1, \"47\": 1, \"15\": 9, \"32\": 1, \"36\": 1, \"5\": 1, \"3\": 1, \"16\": 1, \"46\": 1, \"20\": 1}, \"56\": {\"56\": 119, \"35\": 1, \"22\": 1, \"43\": 1, \"24\": 1, \"13\": 1, \"10\": 1, \"55\": 3, \"2\": 2, \"14\": 2, \"38\": 1, \"40\": 1}, \"11\": {\"11\": 100, \"23\": 1, \"15\": 3}, \"2\": {\"2\": 36}, \"6\": {\"48\": 4, \"6\": 23, \"23\": 14, \"29\": 4, \"52\": 7, \"54\": 10, \"46\": 3, \"8\": 1, \"44\": 3, \"15\": 7, \"55\": 2, \"5\": 8, \"45\": 1, \"18\": 9, \"20\": 2, \"47\": 1, \"4\": 1, \"3\": 1, \"36\": 2, \"12\": 2, \"57\": 1, \"51\": 1, \"27\": 2, \"50\": 1, \"9\": 1, \"40\": 1}, \"55\": {\"55\": 102, \"29\": 8, \"35\": 1, \"44\": 3, \"19\": 10, \"6\": 2, \"4\": 3, \"40\": 3, \"7\": 1, \"45\": 1, \"24\": 1, \"47\": 1, \"57\": 1, \"13\": 1, \"46\": 1, \"25\": 1}, \"54\": {\"54\": 66, \"23\": 10, \"39\": 2, \"16\": 3, \"15\": 2, \"36\": 5, \"52\": 9, \"48\": 2, \"18\": 6, \"20\": 2, \"3\": 1}, \"29\": {\"28\": 2, \"51\": 2, \"29\": 56, \"35\": 1, \"19\": 19, \"57\": 9, \"9\": 2, \"56\": 1, \"45\": 7, \"6\": 2, \"4\": 8, \"55\": 2, \"8\": 1, \"53\": 2, \"7\": 2, \"50\": 3, \"44\": 3, \"46\": 1, \"3\": 1}, \"50\": {\"53\": 9, \"50\": 39, \"57\": 2, \"45\": 4, \"9\": 6, \"29\": 3, \"51\": 7, \"21\": 1, \"4\": 7, \"8\": 6, \"27\": 5, \"54\": 3, \"12\": 2, \"36\": 6, \"18\": 1, \"3\": 10, \"20\": 4, \"25\": 2, \"5\": 1, \"16\": 2, \"47\": 1, \"23\": 1}, \"52\": {\"52\": 114, \"15\": 1, \"23\": 1}, \"35\": {\"35\": 34, \"44\": 1, \"55\": 1, \"19\": 2, \"38\": 1, \"33\": 1}, \"4\": {\"29\": 3, \"6\": 3, \"4\": 57, \"8\": 1, \"36\": 1, \"47\": 8, \"3\": 7, \"54\": 1, \"9\": 9, \"45\": 6, \"46\": 2, \"50\": 6, \"27\": 4, \"53\": 1, \"28\": 1, \"26\": 3, \"49\": 1, \"57\": 3, \"20\": 1, \"16\": 1, \"48\": 1}, \"18\": {\"18\": 78, \"54\": 6, \"20\": 1, \"23\": 9, \"15\": 3, \"36\": 1, \"39\": 2, \"52\": 6, \"48\": 2}}, \"C_5\": {\"43\": {\"43\": 149, \"24\": 1, \"0\": 2}, \"35\": {\"35\": 31, \"0\": 2, \"56\": 3}, \"54\": {\"54\": 53, \"23\": 22, \"52\": 5, \"46\": 2, \"18\": 5, \"20\": 12, \"16\": 3, \"8\": 1, \"1\": 5, \"51\": 1, \"53\": 2, \"6\": 1}, \"22\": {\"22\": 24, \"35\": 1, \"29\": 2, \"24\": 1}, \"16\": {\"16\": 101, \"8\": 3, \"23\": 10, \"54\": 8, \"51\": 4, \"20\": 5, \"44\": 1, \"6\": 2, \"52\": 3, \"1\": 3, \"18\": 4, \"53\": 2}, \"5\": {\"5\": 83, \"40\": 5, \"33\": 6, \"4\": 4, \"29\": 11, \"44\": 10, \"9\": 2, \"19\": 2, \"43\": 1, \"50\": 2, \"28\": 1, \"14\": 1}, \"28\": {\"5\": 1, \"28\": 25, \"8\": 1, \"33\": 1, \"50\": 4}, \"14\": {\"31\": 1, \"14\": 15, \"36\": 3, \"44\": 2, \"55\": 1, \"50\": 5, \"45\": 1, \"19\": 1, \"11\": 1, \"5\": 2, \"24\": 2, \"46\": 1, \"3\": 2, \"29\": 1, \"13\": 1, \"2\": 1, \"42\": 1, \"47\": 1, \"40\": 1, \"28\": 1}, \"51\": {\"54\": 3, \"51\": 88, \"20\": 14, \"53\": 7, \"52\": 4, \"45\": 1, \"1\": 3, \"23\": 2, \"18\": 3, \"26\": 2, \"39\": 1}, \"19\": {\"9\": 17, \"19\": 100, \"34\": 5, \"33\": 2, \"8\": 1, \"4\": 3, \"45\": 2, \"29\": 1, \"50\": 2, \"57\": 1, \"44\": 1, \"28\": 1, \"55\": 2, \"3\": 1, \"56\": 1}, \"31\": {\"31\": 35, \"46\": 1}, \"10\": {\"10\": 68}, \"21\": {\"21\": 134, \"50\": 1, \"53\": 1}, \"3\": {\"14\": 2, \"21\": 1, \"6\": 2, \"26\": 1, \"24\": 3, \"29\": 5, \"3\": 51, \"9\": 1, \"35\": 1, \"17\": 1, \"40\": 3, \"47\": 1, \"57\": 4, \"56\": 5, \"36\": 2, \"5\": 1, \"0\": 2, \"19\": 2, \"46\": 1, \"25\": 2, \"13\": 2, \"15\": 1, \"44\": 1, \"50\": 2, \"20\": 1, \"1\": 1, \"27\": 1}, \"57\": {\"57\": 72, \"31\": 1, \"42\": 5, \"41\": 1, \"30\": 9, \"27\": 12, \"51\": 2, \"48\": 6, \"34\": 2, \"46\": 3, \"17\": 6, \"1\": 5, \"9\": 1, \"23\": 2, \"8\": 1, \"32\": 2, \"47\": 1, \"12\": 1}, \"9\": {\"9\": 80, \"21\": 2, \"45\": 11, \"5\": 2, \"57\": 2, \"19\": 11, \"44\": 1, \"47\": 3, \"6\": 1, \"42\": 1, \"27\": 8, \"33\": 1, \"3\": 1, \"34\": 3, \"29\": 4, \"53\": 3, \"4\": 3, \"50\": 3, \"37\": 1, \"40\": 2, \"55\": 2, \"8\": 1}, \"8\": {\"8\": 78, \"26\": 3, \"56\": 1, \"20\": 15, \"7\": 2, \"51\": 7, \"1\": 4, \"53\": 9, \"54\": 3, \"23\": 3, \"18\": 2, \"6\": 3, \"52\": 2}, \"46\": {\"30\": 6, \"52\": 13, \"46\": 59, \"38\": 3, \"29\": 2, \"31\": 1, \"0\": 2, \"5\": 1, \"6\": 6, \"1\": 8, \"57\": 5, \"54\": 2, \"3\": 1, \"48\": 10, \"20\": 1, \"23\": 5, \"51\": 2, \"19\": 1, \"8\": 1, \"41\": 1, \"18\": 3, \"50\": 1, \"53\": 2, \"56\": 1, \"21\": 1, \"16\": 2}, \"23\": {\"23\": 106, \"52\": 12, \"18\": 4, \"20\": 1, \"29\": 1}, \"37\": {\"37\": 24}, \"34\": {\"34\": 29, \"8\": 1, \"32\": 1, \"46\": 2, \"4\": 1, \"54\": 1, \"19\": 1}, \"4\": {\"12\": 2, \"4\": 39, \"45\": 5, \"9\": 7, \"27\": 2, \"44\": 5, \"36\": 3, \"3\": 4, \"42\": 1, \"33\": 3, \"55\": 4, \"19\": 8, \"29\": 3, \"5\": 10, \"50\": 2, \"28\": 1, \"47\": 1}, \"6\": {\"12\": 3, \"46\": 3, \"6\": 22, \"3\": 1, \"16\": 1, \"30\": 3, \"52\": 16, \"23\": 17, \"1\": 9, \"55\": 2, \"48\": 4, \"50\": 1, \"20\": 13, \"18\": 3, \"54\": 4, \"45\": 9, \"8\": 3, \"57\": 3, \"53\": 2, \"9\": 4, \"42\": 1, \"26\": 1, \"27\": 2, \"47\": 1}, \"48\": {\"23\": 23, \"52\": 9, \"48\": 52, \"17\": 7, \"20\": 4, \"5\": 1, \"18\": 9, \"1\": 19, \"30\": 6, \"54\": 2, \"26\": 2, \"51\": 1, \"40\": 1}, \"44\": {\"44\": 117, \"22\": 1, \"29\": 7, \"14\": 1, \"13\": 1, \"56\": 2, \"4\": 3, \"19\": 3, \"3\": 1, \"5\": 2}, \"40\": {\"40\": 97, \"5\": 13, \"33\": 1, \"29\": 7, \"44\": 3, \"4\": 1, \"35\": 1, \"14\": 1}, \"12\": {\"12\": 79, \"8\": 5, \"30\": 1, \"42\": 1, \"17\": 1, \"48\": 1, \"21\": 1, \"9\": 1, \"53\": 1, \"45\": 1, \"26\": 1, \"39\": 1, \"1\": 1, \"51\": 1}, \"30\": {\"30\": 44, \"1\": 16, \"42\": 3, \"39\": 4, \"23\": 13, \"17\": 11, \"48\": 9, \"20\": 4, \"6\": 2, \"26\": 1, \"38\": 1, \"27\": 5, \"57\": 3, \"18\": 3, \"8\": 2, \"52\": 2, \"45\": 1, \"32\": 2, \"46\": 1, \"50\": 1}, \"39\": {\"39\": 12, \"52\": 2, \"23\": 3, \"1\": 1, \"20\": 1, \"48\": 1}, \"45\": {\"45\": 45, \"32\": 1, \"53\": 6, \"27\": 6, \"17\": 5, \"4\": 4, \"8\": 4, \"19\": 5, \"41\": 2, \"9\": 11, \"6\": 1, \"55\": 3, \"50\": 6, \"21\": 2, \"20\": 2, \"48\": 1, \"47\": 4, \"44\": 2, \"1\": 1, \"25\": 2, \"28\": 1, \"34\": 1, \"12\": 1, \"14\": 1, \"57\": 4, \"51\": 2, \"3\": 1}, \"36\": {\"26\": 1, \"36\": 65, \"2\": 1, \"43\": 6, \"8\": 3, \"35\": 1, \"24\": 3, \"55\": 1, \"6\": 3, \"45\": 1, \"20\": 1, \"53\": 1, \"42\": 1, \"47\": 2, \"0\": 1, \"50\": 1}, \"27\": {\"27\": 72, \"48\": 6, \"30\": 10, \"46\": 4, \"57\": 15, \"41\": 2, \"9\": 7, \"23\": 4, \"20\": 1, \"19\": 2, \"17\": 1, \"8\": 1, \"1\": 3, \"54\": 3, \"45\": 2, \"6\": 1, \"34\": 1, \"42\": 1, \"47\": 2, \"25\": 1, \"52\": 1}, \"32\": {\"48\": 1, \"52\": 4, \"1\": 3, \"23\": 2, \"32\": 7, \"54\": 2, \"30\": 2, \"57\": 1, \"8\": 2, \"38\": 3, \"39\": 1, \"34\": 1, \"17\": 2, \"20\": 1}, \"52\": {\"52\": 125, \"20\": 1, \"23\": 3, \"18\": 1}, \"0\": {\"0\": 118, \"56\": 1, \"24\": 5}, \"26\": {\"26\": 16, \"52\": 1, \"23\": 4, \"39\": 1, \"18\": 2}, \"1\": {\"23\": 27, \"26\": 1, \"1\": 65, \"6\": 5, \"18\": 6, \"20\": 11, \"30\": 2, \"48\": 6, \"54\": 7, \"8\": 4, \"46\": 1, \"52\": 8, \"29\": 1, \"39\": 1, \"33\": 1, \"57\": 2}, \"53\": {\"7\": 1, \"20\": 11, \"16\": 2, \"23\": 4, \"54\": 5, \"53\": 97, \"26\": 1, \"51\": 11, \"25\": 1, \"1\": 2, \"8\": 5, \"52\": 2, \"33\": 1, \"6\": 1, \"9\": 1, \"19\": 1}, \"25\": {\"45\": 8, \"25\": 113, \"28\": 1, \"9\": 4, \"19\": 2, \"21\": 4, \"29\": 1, \"50\": 4, \"6\": 1, \"46\": 1, \"55\": 2, \"57\": 1, \"27\": 1, \"3\": 1}, \"24\": {\"24\": 69, \"0\": 7, \"36\": 1, \"43\": 2, \"3\": 1}, \"7\": {\"20\": 5, \"8\": 2, \"7\": 20, \"54\": 2, \"23\": 1, \"53\": 1, \"48\": 1}, \"18\": {\"18\": 50, \"23\": 10, \"52\": 1, \"54\": 2, \"6\": 1}, \"20\": {\"20\": 83, \"23\": 9, \"39\": 2, \"52\": 20, \"18\": 11, \"54\": 7, \"53\": 1, \"51\": 4, \"6\": 2, \"1\": 4, \"8\": 1}, \"33\": {\"33\": 25, \"5\": 4, \"50\": 2, \"4\": 1}, \"55\": {\"55\": 86, \"3\": 4, \"51\": 3, \"54\": 7, \"4\": 2, \"20\": 3, \"9\": 1, \"47\": 1, \"23\": 2, \"19\": 4, \"25\": 1, \"6\": 3, \"45\": 4, \"8\": 4, \"50\": 1, \"39\": 1, \"16\": 2, \"1\": 5, \"46\": 2, \"34\": 1, \"57\": 1, \"27\": 1, \"48\": 1}, \"41\": {\"41\": 20, \"42\": 1, \"23\": 1, \"27\": 1, \"52\": 1, \"46\": 2, \"30\": 1, \"48\": 1}, \"42\": {\"42\": 26, \"1\": 2, \"23\": 2, \"8\": 1, \"6\": 1, \"40\": 1, \"48\": 2, \"18\": 1, \"57\": 1, \"41\": 1, \"30\": 1, \"46\": 1}, \"49\": {\"49\": 25, \"41\": 1, \"48\": 2, \"23\": 1, \"54\": 1, \"18\": 1, \"38\": 2, \"32\": 1, \"1\": 2}, \"13\": {\"13\": 125, \"24\": 1, \"56\": 15, \"43\": 4, \"29\": 1, \"22\": 1, \"40\": 1}, \"38\": {\"38\": 26, \"23\": 1, \"18\": 2, \"7\": 1, \"51\": 1, \"1\": 1}, \"2\": {\"2\": 25, \"56\": 2, \"49\": 1}, \"47\": {\"47\": 78, \"57\": 2, \"46\": 3, \"21\": 2, \"1\": 1, \"6\": 3, \"27\": 6, \"54\": 1, \"31\": 1, \"32\": 1, \"50\": 1, \"34\": 1}, \"17\": {\"17\": 104, \"23\": 1, \"30\": 5, \"48\": 3, \"39\": 1, \"38\": 1, \"1\": 1}, \"11\": {\"48\": 1, \"11\": 136, \"15\": 9, \"23\": 5, \"1\": 2, \"35\": 1}, \"29\": {\"33\": 1, \"28\": 2, \"29\": 104, \"44\": 8, \"35\": 1, \"36\": 2, \"5\": 7, \"0\": 1, \"19\": 2, \"56\": 1, \"40\": 2, \"43\": 1}, \"50\": {\"33\": 1, \"50\": 49, \"47\": 7, \"5\": 2, \"9\": 7, \"27\": 6, \"4\": 6, \"19\": 9, \"45\": 12, \"42\": 1, \"55\": 11, \"8\": 4, \"51\": 1, \"30\": 1, \"29\": 1, \"40\": 1, \"53\": 1, \"21\": 4, \"25\": 3, \"28\": 1, \"12\": 2, \"44\": 2, \"34\": 1, \"3\": 2, \"6\": 2, \"57\": 1}, \"56\": {\"56\": 139, \"0\": 2, \"43\": 4, \"35\": 2, \"24\": 1}, \"15\": {\"15\": 132, \"11\": 8, \"18\": 2}}, \"C_2\": {\"49\": {\"6\": 2, \"48\": 1, \"49\": 17, \"32\": 1, \"9\": 1, \"1\": 2}, \"13\": {\"13\": 114, \"56\": 1, \"24\": 1}, \"37\": {\"37\": 35, \"13\": 1}, \"41\": {\"41\": 20}, \"15\": {\"15\": 137, \"52\": 5}, \"56\": {\"56\": 124, \"22\": 8, \"24\": 3, \"43\": 1, \"14\": 1, \"13\": 5}, \"14\": {\"56\": 4, \"14\": 11, \"55\": 1, \"22\": 2, \"31\": 2, \"13\": 1, \"40\": 1, \"35\": 1, \"42\": 1}, \"3\": {\"47\": 1, \"3\": 14, \"50\": 4, \"45\": 5, \"27\": 2, \"30\": 6, \"32\": 2, \"19\": 2, \"29\": 6, \"4\": 4, \"8\": 5, \"48\": 3, \"5\": 2, \"6\": 5, \"46\": 6, \"20\": 1, \"16\": 1, \"21\": 1, \"12\": 1, \"1\": 2, \"25\": 3, \"36\": 2, \"9\": 3, \"2\": 1, \"42\": 1, \"0\": 1, \"23\": 2, \"54\": 1, \"44\": 1, \"34\": 1, \"55\": 1, \"57\": 1, \"52\": 1}, \"38\": {\"38\": 20}, \"43\": {\"43\": 131, \"24\": 5, \"38\": 2}, \"33\": {\"33\": 23, \"19\": 3, \"44\": 1, \"34\": 1}, \"47\": {\"47\": 80, \"39\": 1, \"57\": 11, \"2\": 3, \"19\": 2, \"46\": 2, \"42\": 2, \"4\": 2, \"16\": 1, \"5\": 7, \"36\": 2, \"6\": 1, \"3\": 5, \"1\": 10, \"50\": 3, \"23\": 2, \"17\": 1, \"27\": 2, \"48\": 1}, \"30\": {\"30\": 60, \"6\": 8, \"15\": 18, \"23\": 12, \"42\": 1, \"52\": 19, \"48\": 4, \"18\": 5, \"54\": 9, \"20\": 1, \"41\": 4, \"9\": 1, \"12\": 1, \"8\": 1}, \"39\": {\"39\": 16, \"18\": 2, \"41\": 5, \"52\": 2, \"15\": 1, \"23\": 1, \"36\": 1}, \"12\": {\"12\": 65, \"15\": 3, \"18\": 4, \"30\": 4, \"52\": 7, \"6\": 2, \"48\": 1, \"23\": 3, \"54\": 3}, \"6\": {\"41\": 4, \"54\": 16, \"3\": 1, \"48\": 7, \"23\": 11, \"6\": 37, \"50\": 3, \"18\": 4, \"52\": 12, \"46\": 1, \"12\": 12, \"15\": 8, \"27\": 1, \"42\": 1, \"30\": 3, \"57\": 1, \"21\": 1, \"45\": 1}, \"51\": {\"51\": 83, \"21\": 10, \"26\": 1, \"53\": 11, \"50\": 11, \"20\": 10, \"36\": 3, \"16\": 1, \"45\": 1, \"54\": 2, \"8\": 1}, \"5\": {\"5\": 77, \"42\": 2, \"57\": 9, \"2\": 1, \"49\": 1, \"3\": 2, \"1\": 2, \"4\": 6, \"45\": 2, \"50\": 1, \"47\": 8, \"55\": 1, \"6\": 1, \"46\": 3, \"51\": 1, \"9\": 1, \"19\": 1, \"27\": 1}, \"34\": {\"34\": 27, \"6\": 1}, \"35\": {\"35\": 28, \"40\": 1, \"44\": 2, \"19\": 1}, \"0\": {\"15\": 4, \"0\": 28, \"47\": 1, \"30\": 2, \"6\": 1, \"52\": 5, \"11\": 3, \"27\": 1, \"1\": 1, \"18\": 1, \"34\": 1}, \"7\": {\"7\": 30, \"15\": 2, \"12\": 1, \"0\": 1, \"23\": 1, \"30\": 1}, \"24\": {\"24\": 76, \"43\": 11, \"10\": 4, \"22\": 4, \"13\": 1}, \"8\": {\"36\": 2, \"8\": 108, \"50\": 3, \"51\": 4, \"53\": 5, \"20\": 11, \"21\": 2, \"54\": 1}, \"20\": {\"20\": 85, \"36\": 3, \"23\": 3, \"8\": 1, \"54\": 3, \"30\": 4, \"53\": 10, \"51\": 4, \"50\": 3, \"16\": 2, \"21\": 5, \"15\": 1}, \"36\": {\"15\": 4, \"36\": 44, \"30\": 8, \"46\": 1, \"52\": 1, \"34\": 2, \"23\": 4, \"12\": 14, \"48\": 3, \"54\": 13, \"8\": 5, \"50\": 3, \"51\": 2, \"53\": 2, \"18\": 4, \"26\": 1, \"39\": 3, \"6\": 2}, \"42\": {\"42\": 32, \"5\": 1, \"47\": 1, \"49\": 1, \"46\": 1}, \"1\": {\"7\": 2, \"15\": 1, \"1\": 66, \"28\": 1, \"57\": 3, \"5\": 3, \"36\": 2, \"47\": 12, \"50\": 3, \"23\": 1, \"3\": 1, \"46\": 1, \"48\": 6, \"6\": 4, \"27\": 2, \"39\": 2, \"30\": 1, \"21\": 1}, \"4\": {\"4\": 77, \"5\": 11, \"19\": 3, \"3\": 4, \"9\": 19, \"47\": 8, \"2\": 1, \"57\": 7, \"36\": 2, \"45\": 6, \"6\": 1, \"53\": 3, \"50\": 1, \"1\": 3, \"29\": 2}, \"28\": {\"28\": 28}, \"50\": {\"50\": 49, \"26\": 3, \"54\": 8, \"41\": 1, \"1\": 1, \"3\": 2, \"20\": 9, \"37\": 1, \"4\": 2, \"18\": 2, \"51\": 5, \"12\": 5, \"53\": 6, \"36\": 7, \"5\": 1, \"15\": 1, \"8\": 2, \"57\": 2, \"45\": 3, \"30\": 4, \"16\": 2, \"6\": 4, \"25\": 1, \"48\": 4, \"2\": 1, \"39\": 2, \"34\": 1, \"17\": 1, \"23\": 2, \"46\": 1, \"21\": 1, \"52\": 1, \"47\": 1}, \"45\": {\"45\": 36, \"33\": 1, \"3\": 3, \"2\": 3, \"53\": 4, \"4\": 19, \"19\": 8, \"46\": 6, \"51\": 1, \"36\": 4, \"5\": 5, \"8\": 2, \"29\": 7, \"55\": 1, \"9\": 11, \"25\": 3, \"21\": 1, \"1\": 4, \"47\": 1, \"17\": 1, \"31\": 1, \"42\": 1, \"44\": 1, \"57\": 2, \"20\": 1, \"12\": 1}, \"18\": {\"18\": 41, \"23\": 4, \"52\": 3}, \"57\": {\"57\": 75, \"1\": 11, \"42\": 1, \"5\": 10, \"9\": 7, \"47\": 5, \"36\": 1, \"48\": 1, \"50\": 1, \"27\": 3, \"17\": 2, \"21\": 1, \"4\": 2}, \"46\": {\"42\": 4, \"32\": 2, \"50\": 8, \"12\": 3, \"6\": 4, \"54\": 6, \"2\": 4, \"46\": 29, \"21\": 2, \"7\": 1, \"39\": 2, \"4\": 3, \"45\": 1, \"49\": 1, \"51\": 5, \"18\": 2, \"57\": 3, \"5\": 5, \"53\": 7, \"52\": 3, \"1\": 5, \"3\": 3, \"47\": 2, \"20\": 4, \"48\": 1, \"19\": 3, \"55\": 1, \"36\": 3, \"8\": 4, \"44\": 2, \"24\": 1, \"9\": 2, \"29\": 1, \"27\": 1}, \"23\": {\"41\": 5, \"15\": 19, \"23\": 73, \"18\": 7, \"30\": 11, \"52\": 19, \"6\": 5, \"54\": 3, \"12\": 3, \"48\": 3}, \"27\": {\"23\": 9, \"27\": 83, \"20\": 1, \"52\": 4, \"48\": 11, \"30\": 11, \"18\": 3, \"3\": 1, \"17\": 5, \"12\": 3, \"6\": 5, \"54\": 2}, \"19\": {\"19\": 83, \"31\": 3, \"33\": 5, \"3\": 2, \"45\": 4, \"9\": 10, \"29\": 8, \"5\": 4, \"4\": 8, \"46\": 1, \"50\": 2, \"57\": 1, \"8\": 2, \"14\": 1}, \"22\": {\"56\": 10, \"22\": 115, \"55\": 2, \"43\": 4, \"24\": 3, \"10\": 1, \"13\": 1}, \"17\": {\"17\": 99, \"48\": 1, \"19\": 1, \"7\": 2, \"27\": 1}, \"55\": {\"55\": 118, \"46\": 2, \"19\": 4, \"29\": 5, \"5\": 2, \"44\": 1, \"45\": 1, \"40\": 2, \"50\": 1}, \"44\": {\"44\": 63, \"35\": 1, \"14\": 1, \"40\": 4, \"19\": 11, \"37\": 2, \"55\": 3, \"29\": 5, \"4\": 1, \"45\": 5, \"31\": 2, \"22\": 2}, \"26\": {\"26\": 20, \"54\": 3, \"52\": 1}, \"31\": {\"31\": 28}, \"16\": {\"54\": 8, \"16\": 85, \"41\": 2, \"23\": 4, \"21\": 6, \"15\": 2, \"48\": 2, \"26\": 2, \"52\": 3, \"20\": 2, \"12\": 5, \"36\": 1, \"30\": 3, \"50\": 1, \"6\": 4}, \"11\": {\"11\": 125, \"23\": 1, \"15\": 2}, \"25\": {\"25\": 87, \"57\": 3, \"4\": 3, \"6\": 4, \"47\": 2, \"20\": 1, \"19\": 5, \"9\": 2, \"17\": 1, \"21\": 1, \"27\": 3, \"45\": 4, \"3\": 2, \"49\": 1, \"29\": 4, \"46\": 1, \"5\": 2}, \"54\": {\"12\": 4, \"54\": 97, \"18\": 2, \"36\": 1, \"48\": 2, \"30\": 2}, \"32\": {\"32\": 16, \"57\": 2, \"3\": 2, \"48\": 1, \"17\": 2, \"30\": 2, \"54\": 1, \"41\": 1, \"34\": 1}, \"52\": {\"52\": 105, \"18\": 5, \"23\": 1, \"15\": 12, \"6\": 1}, \"40\": {\"40\": 120, \"55\": 3, \"44\": 3, \"5\": 1, \"45\": 2, \"43\": 1, \"35\": 1, \"47\": 1}, \"2\": {\"2\": 18, \"48\": 1, \"36\": 3, \"32\": 1, \"54\": 1, \"21\": 1, \"30\": 2, \"6\": 1, \"50\": 1, \"39\": 1, \"47\": 1, \"23\": 1}, \"10\": {\"10\": 110}, \"53\": {\"53\": 102, \"2\": 1, \"20\": 7, \"50\": 9, \"51\": 9, \"16\": 1, \"8\": 4, \"36\": 2, \"12\": 1}, \"9\": {\"9\": 98, \"29\": 12, \"4\": 9, \"3\": 2, \"1\": 2, \"53\": 2, \"19\": 8, \"45\": 6, \"8\": 2, \"57\": 4, \"36\": 1, \"5\": 2, \"25\": 1, \"47\": 1}, \"21\": {\"41\": 2, \"21\": 88, \"48\": 2, \"18\": 2, \"16\": 8, \"52\": 4, \"54\": 1, \"47\": 1, \"23\": 1, \"12\": 3, \"15\": 1, \"51\": 2, \"30\": 3, \"6\": 1, \"53\": 1}, \"48\": {\"23\": 16, \"12\": 4, \"30\": 16, \"52\": 10, \"32\": 1, \"48\": 59, \"54\": 6, \"15\": 10, \"27\": 1, \"6\": 9, \"7\": 1, \"41\": 2, \"39\": 1, \"18\": 1, \"19\": 1}, \"29\": {\"29\": 81, \"31\": 2, \"47\": 2, \"9\": 9, \"19\": 11, \"33\": 2, \"4\": 8, \"40\": 1, \"55\": 1, \"53\": 1, \"45\": 1, \"5\": 2, \"57\": 2, \"44\": 1, \"20\": 1, \"3\": 1, \"8\": 1, \"46\": 1}}, \"C_1\": {\"9\": {\"17\": 6, \"9\": 125, \"48\": 4, \"6\": 2, \"18\": 2, \"2\": 1, \"30\": 2}, \"25\": {\"25\": 108, \"42\": 2, \"37\": 3, \"19\": 2, \"46\": 3, \"45\": 5, \"57\": 1, \"12\": 1, \"9\": 1, \"16\": 1, \"56\": 1}, \"41\": {\"41\": 24}, \"29\": {\"29\": 114, \"57\": 3, \"44\": 7, \"56\": 2, \"40\": 3, \"13\": 3, \"47\": 4, \"4\": 1, \"52\": 1, \"35\": 1, \"55\": 1}, \"46\": {\"41\": 1, \"46\": 50, \"48\": 4, \"4\": 5, \"19\": 2, \"17\": 1, \"14\": 3, \"8\": 5, \"54\": 3, \"33\": 1, \"50\": 11, \"20\": 2, \"12\": 1, \"18\": 1, \"1\": 4, \"6\": 2, \"51\": 2, \"53\": 7, \"55\": 2, \"45\": 6, \"56\": 3, \"42\": 1, \"25\": 3, \"9\": 3, \"34\": 1, \"16\": 1, \"30\": 1, \"57\": 1, \"5\": 1}, \"4\": {\"46\": 9, \"41\": 1, \"55\": 4, \"4\": 81, \"1\": 6, \"32\": 2, \"29\": 2, \"19\": 5, \"45\": 4, \"57\": 7, \"56\": 4, \"20\": 1, \"33\": 2, \"50\": 2, \"12\": 1, \"54\": 1}, \"31\": {\"31\": 28}, \"36\": {\"23\": 3, \"7\": 1, \"36\": 46, \"5\": 1, \"15\": 1, \"2\": 1, \"18\": 2, \"8\": 1, \"16\": 2, \"48\": 4, \"9\": 1, \"30\": 1}, \"20\": {\"20\": 115, \"55\": 4, \"13\": 7, \"46\": 1, \"12\": 1}, \"7\": {\"7\": 21, \"18\": 2, \"2\": 5}, \"6\": {\"50\": 6, \"9\": 3, \"53\": 2, \"2\": 5, \"6\": 44, \"17\": 1, \"48\": 10, \"46\": 2, \"30\": 6, \"5\": 7, \"8\": 2, \"34\": 2, \"18\": 4, \"33\": 1, \"19\": 1}, \"16\": {\"16\": 93, \"7\": 4, \"2\": 1, \"18\": 5, \"8\": 2, \"12\": 2, \"50\": 3, \"9\": 1, \"5\": 16, \"48\": 5, \"53\": 5, \"30\": 1}, \"17\": {\"9\": 5, \"17\": 56, \"18\": 1, \"48\": 1, \"5\": 1}, \"50\": {\"50\": 120, \"48\": 8, \"8\": 2, \"53\": 2, \"5\": 5, \"9\": 1, \"30\": 7, \"2\": 2, \"6\": 1}, \"57\": {\"57\": 93, \"4\": 4, \"56\": 19, \"45\": 2, \"1\": 8, \"32\": 1, \"29\": 5, \"42\": 1, \"19\": 4, \"55\": 3, \"14\": 1, \"54\": 1, \"44\": 2}, \"23\": {\"23\": 128, \"15\": 6, \"5\": 1, \"18\": 1}, \"3\": {\"3\": 104, \"27\": 1, \"39\": 1, \"29\": 5, \"44\": 4, \"52\": 2, \"24\": 1, \"40\": 2, \"47\": 2, \"13\": 1, \"43\": 1, \"20\": 1, \"56\": 1}, \"53\": {\"53\": 106, \"16\": 3, \"6\": 4, \"51\": 4, \"2\": 1, \"5\": 7, \"48\": 2, \"50\": 11, \"12\": 2}, \"49\": {\"49\": 31, \"22\": 1}, \"56\": {\"56\": 74, \"45\": 7, \"30\": 1, \"57\": 21, \"4\": 6, \"47\": 3, \"34\": 1, \"19\": 8, \"29\": 10, \"8\": 2, \"1\": 3, \"25\": 1, \"55\": 3, \"54\": 3, \"44\": 3, \"33\": 1, \"46\": 2, \"50\": 2, \"40\": 1}, \"51\": {\"51\": 126, \"13\": 1, \"12\": 5, \"53\": 3, \"16\": 1, \"54\": 2, \"8\": 1, \"50\": 2, \"29\": 1}, \"26\": {\"26\": 21, \"16\": 1, \"54\": 1, \"14\": 1}, \"43\": {\"43\": 143, \"27\": 1}, \"22\": {\"22\": 88, \"27\": 6, \"28\": 2, \"24\": 10, \"10\": 1, \"43\": 6, \"52\": 11, \"0\": 7, \"11\": 4, \"21\": 1}, \"45\": {\"45\": 135, \"19\": 7, \"1\": 1, \"53\": 1, \"5\": 1, \"46\": 1}, \"13\": {\"13\": 145, \"25\": 1, \"55\": 1, \"20\": 5}, \"12\": {\"12\": 83, \"6\": 1, \"5\": 4, \"54\": 4, \"51\": 9, \"8\": 1, \"53\": 6, \"16\": 6, \"14\": 1, \"30\": 1}, \"54\": {\"54\": 94, \"48\": 2, \"6\": 1, \"53\": 2, \"18\": 2, \"16\": 1, \"5\": 1, \"14\": 1}, \"24\": {\"24\": 77, \"11\": 2, \"43\": 1, \"10\": 1, \"0\": 5, \"52\": 11, \"22\": 8, \"49\": 1, \"27\": 1, \"47\": 1}, \"44\": {\"44\": 83, \"31\": 1, \"49\": 4, \"29\": 5, \"35\": 2, \"47\": 16, \"42\": 1, \"52\": 5, \"56\": 6, \"19\": 1, \"24\": 2, \"12\": 1, \"0\": 1, \"55\": 3, \"3\": 1, \"57\": 2, \"40\": 1, \"22\": 1}, \"28\": {\"28\": 28}, \"33\": {\"33\": 31, \"34\": 1}, \"38\": {\"38\": 19, \"44\": 1, \"22\": 1, \"32\": 3}, \"0\": {\"0\": 141, \"11\": 2, \"24\": 1}, \"47\": {\"44\": 18, \"31\": 1, \"47\": 102, \"22\": 6, \"49\": 1, \"35\": 5, \"52\": 9, \"24\": 1, \"27\": 4, \"56\": 2, \"57\": 2, \"55\": 1, \"29\": 1, \"43\": 1}, \"42\": {\"42\": 31, \"40\": 1, \"57\": 1, \"33\": 2, \"37\": 1, \"45\": 3, \"31\": 1}, \"34\": {\"34\": 17, \"7\": 1, \"6\": 1, \"48\": 2, \"18\": 3}, \"48\": {\"48\": 111, \"2\": 3, \"8\": 4, \"18\": 3, \"30\": 6, \"5\": 3, \"17\": 1, \"6\": 9, \"9\": 2}, \"35\": {\"35\": 34, \"44\": 1, \"47\": 1}, \"2\": {\"2\": 32, \"5\": 2, \"34\": 2}, \"30\": {\"2\": 1, \"30\": 88, \"48\": 8, \"18\": 3, \"6\": 3, \"5\": 6, \"8\": 8, \"50\": 2, \"17\": 1}, \"18\": {\"2\": 3, \"18\": 67, \"5\": 2}, \"37\": {\"46\": 1, \"37\": 25, \"54\": 1, \"42\": 1, \"25\": 4}, \"1\": {\"1\": 48, \"56\": 12, \"2\": 1, \"32\": 2, \"19\": 10, \"57\": 10, \"46\": 5, \"4\": 4, \"9\": 2, \"33\": 1, \"45\": 4, \"55\": 1}, \"11\": {\"11\": 133, \"21\": 2, \"0\": 3}, \"55\": {\"37\": 1, \"55\": 87, \"6\": 2, \"2\": 1, \"56\": 2, \"46\": 1, \"14\": 1, \"50\": 3, \"51\": 2, \"12\": 7, \"1\": 1, \"13\": 4, \"4\": 1, \"54\": 2, \"57\": 4, \"45\": 1, \"22\": 1, \"8\": 1, \"52\": 1, \"53\": 2, \"5\": 2, \"16\": 2, \"44\": 1}, \"15\": {\"15\": 127, \"23\": 16, \"21\": 6, \"36\": 1}, \"10\": {\"10\": 94, \"11\": 2}, \"27\": {\"27\": 155, \"43\": 5}, \"19\": {\"19\": 109, \"4\": 1, \"33\": 2, \"45\": 11, \"1\": 5, \"34\": 1, \"54\": 2, \"57\": 1, \"16\": 3, \"9\": 1, \"50\": 1, \"8\": 3, \"25\": 1, \"53\": 1, \"46\": 3, \"6\": 1}, \"14\": {\"34\": 1, \"14\": 12, \"18\": 1, \"30\": 3, \"51\": 2, \"50\": 1, \"8\": 2, \"7\": 1, \"12\": 1}, \"8\": {\"30\": 8, \"8\": 98, \"48\": 14, \"9\": 10, \"7\": 2, \"16\": 1, \"6\": 3, \"5\": 2, \"18\": 1, \"50\": 1}, \"5\": {\"18\": 10, \"5\": 94, \"2\": 3, \"48\": 13, \"30\": 5, \"16\": 2, \"7\": 1, \"53\": 5, \"6\": 2, \"50\": 1}, \"39\": {\"39\": 28}, \"52\": {\"52\": 96, \"49\": 2, \"44\": 2, \"24\": 8, \"22\": 9, \"45\": 1, \"43\": 1, \"27\": 1, \"0\": 1, \"47\": 1}, \"21\": {\"21\": 117, \"23\": 4, \"7\": 1, \"15\": 2}, \"40\": {\"40\": 112, \"44\": 3, \"29\": 10, \"42\": 1, \"57\": 4, \"56\": 4, \"4\": 4, \"1\": 2, \"55\": 2, \"13\": 8, \"32\": 1, \"45\": 1}, \"32\": {\"32\": 29, \"42\": 1, \"19\": 1, \"49\": 1}}, \"C_3\": {\"56\": {\"56\": 116, \"13\": 3, \"22\": 1}, \"4\": {\"4\": 84, \"36\": 4, \"28\": 1, \"42\": 1, \"47\": 1, \"2\": 1, \"53\": 2, \"57\": 12, \"1\": 4, \"3\": 6, \"50\": 4, \"5\": 7, \"55\": 1, \"9\": 4, \"19\": 9, \"48\": 1, \"45\": 1, \"51\": 1, \"29\": 2}, \"34\": {\"32\": 3, \"34\": 20, \"46\": 1, \"12\": 1, \"38\": 1, \"17\": 2, \"9\": 1, \"27\": 1, \"30\": 1, \"15\": 1}, \"52\": {\"52\": 128, \"15\": 5, \"30\": 1, \"18\": 1, \"20\": 1}, \"32\": {\"32\": 14, \"34\": 3, \"23\": 3, \"27\": 2, \"12\": 2, \"1\": 1, \"38\": 1, \"45\": 2}, \"46\": {\"46\": 40, \"33\": 1, \"51\": 10, \"32\": 2, \"17\": 1, \"26\": 1, \"42\": 2, \"39\": 1, \"45\": 2, \"21\": 11, \"50\": 4, \"53\": 9, \"18\": 2, \"19\": 2, \"47\": 2, \"27\": 2, \"1\": 1, \"36\": 2, \"5\": 5, \"6\": 3, \"22\": 1, \"55\": 1, \"20\": 5, \"15\": 1, \"16\": 4, \"52\": 3, \"3\": 3, \"41\": 1, \"38\": 1, \"57\": 2, \"54\": 2, \"48\": 2, \"9\": 2, \"4\": 3, \"30\": 1, \"8\": 1}, \"12\": {\"12\": 56, \"18\": 2, \"36\": 2, \"39\": 2, \"41\": 3, \"32\": 1, \"30\": 1, \"15\": 4, \"27\": 1, \"23\": 1, \"52\": 5, \"20\": 4, \"54\": 6, \"16\": 2, \"48\": 2}, \"20\": {\"52\": 21, \"50\": 1, \"18\": 13, \"20\": 82, \"39\": 2, \"15\": 7, \"38\": 1, \"12\": 1, \"23\": 2, \"30\": 2}, \"54\": {\"54\": 79, \"18\": 1, \"20\": 7, \"30\": 4, \"12\": 5, \"6\": 3, \"52\": 1}, \"22\": {\"22\": 126, \"43\": 2, \"31\": 3, \"55\": 5, \"13\": 1, \"24\": 1, \"49\": 1, \"17\": 1}, \"26\": {\"26\": 16, \"32\": 1, \"46\": 1, \"6\": 1, \"12\": 1, \"15\": 1, \"52\": 1, \"38\": 1, \"30\": 1}, \"31\": {\"28\": 1, \"31\": 27}, \"10\": {\"10\": 64}, \"27\": {\"54\": 7, \"27\": 83, \"6\": 3, \"39\": 2, \"41\": 1, \"32\": 3, \"12\": 5, \"38\": 3, \"23\": 7, \"18\": 8, \"17\": 6, \"50\": 1, \"9\": 3, \"30\": 4, \"20\": 3, \"48\": 3, \"34\": 1, \"52\": 1}, \"40\": {\"40\": 117, \"9\": 1, \"14\": 2, \"4\": 2, \"45\": 1, \"13\": 1, \"19\": 3, \"55\": 1, \"29\": 3, \"37\": 1, \"44\": 3, \"5\": 1}, \"28\": {\"28\": 17, \"17\": 1, \"57\": 2, \"25\": 2, \"29\": 3, \"45\": 2, \"42\": 1}, \"5\": {\"30\": 1, \"5\": 77, \"25\": 2, \"3\": 4, \"4\": 2, \"51\": 1, \"57\": 8, \"29\": 1, \"45\": 1, \"19\": 4, \"1\": 5, \"50\": 1, \"6\": 1, \"0\": 1, \"26\": 1, \"9\": 2, \"44\": 1, \"36\": 1, \"55\": 1, \"8\": 1}, \"30\": {\"30\": 43, \"52\": 27, \"20\": 7, \"23\": 8, \"18\": 9, \"12\": 2, \"41\": 1, \"17\": 3, \"15\": 9, \"29\": 1, \"6\": 3, \"54\": 4, \"48\": 3}, \"7\": {\"7\": 32, \"24\": 1, \"3\": 1, \"34\": 1, \"0\": 1}, \"18\": {\"18\": 60, \"20\": 8, \"15\": 2, \"23\": 3, \"41\": 2, \"48\": 2, \"52\": 7}, \"39\": {\"39\": 11, \"18\": 2, \"52\": 1, \"30\": 1, \"27\": 1}, \"50\": {\"29\": 2, \"30\": 2, \"23\": 1, \"2\": 4, \"32\": 1, \"36\": 9, \"4\": 1, \"48\": 4, \"50\": 41, \"3\": 5, \"47\": 2, \"20\": 11, \"51\": 6, \"1\": 2, \"41\": 1, \"12\": 3, \"9\": 1, \"54\": 6, \"8\": 7, \"57\": 2, \"16\": 5, \"27\": 4, \"6\": 2, \"46\": 4, \"53\": 4, \"45\": 1, \"52\": 1, \"21\": 1, \"18\": 2, \"17\": 1}, \"49\": {\"49\": 19, \"14\": 1}, \"43\": {\"43\": 119, \"24\": 2, \"12\": 1}, \"29\": {\"5\": 5, \"29\": 74, \"45\": 2, \"4\": 9, \"50\": 1, \"19\": 6, \"57\": 7, \"47\": 2, \"3\": 1, \"28\": 1, \"34\": 1, \"51\": 1, \"44\": 1, \"55\": 1, \"8\": 1, \"16\": 1}, \"35\": {\"35\": 25, \"3\": 1, \"57\": 1, \"4\": 1}, \"13\": {\"13\": 119, \"24\": 1, \"22\": 3, \"14\": 1}, \"36\": {\"20\": 4, \"36\": 47, \"12\": 8, \"41\": 3, \"26\": 1, \"52\": 5, \"18\": 11, \"50\": 5, \"54\": 9, \"30\": 3, \"21\": 1, \"39\": 1, \"32\": 1, \"53\": 1}, \"11\": {\"16\": 5, \"11\": 125, \"39\": 2, \"15\": 6, \"12\": 3, \"20\": 1, \"23\": 1, \"52\": 2, \"38\": 1}, \"57\": {\"9\": 17, \"57\": 70, \"4\": 7, \"1\": 9, \"29\": 4, \"5\": 9, \"50\": 1, \"47\": 2, \"27\": 2, \"19\": 1, \"34\": 1, \"32\": 1}, \"9\": {\"57\": 15, \"9\": 93, \"1\": 2, \"12\": 1, \"47\": 3, \"50\": 1, \"3\": 6, \"27\": 2, \"25\": 2, \"32\": 1, \"45\": 1, \"23\": 1, \"4\": 2}, \"25\": {\"25\": 76, \"26\": 2, \"50\": 5, \"37\": 4, \"49\": 1, \"27\": 1, \"3\": 4, \"21\": 7, \"33\": 2, \"5\": 1, \"45\": 2, \"9\": 3, \"51\": 2, \"4\": 3, \"29\": 7, \"0\": 1, \"6\": 3, \"12\": 1, \"47\": 1, \"30\": 1, \"19\": 1, \"46\": 2}, \"16\": {\"16\": 75, \"23\": 2, \"15\": 7, \"12\": 1, \"54\": 6, \"20\": 14, \"55\": 1, \"18\": 10, \"52\": 5, \"30\": 2, \"48\": 2, \"21\": 1}, \"53\": {\"53\": 89, \"51\": 10, \"36\": 4, \"8\": 6, \"3\": 1, \"54\": 1, \"21\": 4, \"50\": 3}, \"33\": {\"51\": 1, \"25\": 1, \"33\": 23, \"50\": 1, \"57\": 1, \"46\": 1}, \"51\": {\"51\": 117, \"50\": 2, \"6\": 1, \"53\": 4, \"36\": 2, \"21\": 2}, \"44\": {\"4\": 9, \"35\": 3, \"44\": 56, \"28\": 1, \"45\": 1, \"31\": 2, \"40\": 3, \"55\": 4, \"19\": 1, \"24\": 1, \"29\": 2, \"22\": 1, \"5\": 1, \"3\": 1, \"13\": 2}, \"48\": {\"48\": 31, \"6\": 1, \"39\": 3, \"23\": 9, \"15\": 12, \"30\": 15, \"52\": 15, \"18\": 5, \"27\": 4, \"19\": 1, \"2\": 1, \"12\": 2, \"41\": 3, \"38\": 2, \"20\": 1, \"3\": 1, \"16\": 1, \"32\": 1, \"17\": 4, \"22\": 1, \"54\": 1}, \"6\": {\"6\": 19, \"5\": 5, \"39\": 2, \"28\": 1, \"33\": 1, \"48\": 5, \"50\": 1, \"46\": 3, \"15\": 2, \"18\": 4, \"42\": 2, \"47\": 1, \"12\": 3, \"57\": 1, \"54\": 6, \"30\": 5, \"23\": 2, \"52\": 8, \"20\": 5, \"25\": 2, \"3\": 3, \"38\": 1, \"32\": 1, \"4\": 2, \"29\": 1, \"19\": 1, \"1\": 1}, \"23\": {\"39\": 2, \"23\": 85, \"18\": 13, \"15\": 6, \"38\": 1, \"12\": 2, \"17\": 3, \"30\": 9, \"20\": 5, \"48\": 4, \"52\": 10, \"54\": 3, \"32\": 1}, \"1\": {\"1\": 63, \"42\": 1, \"47\": 3, \"48\": 1, \"5\": 3, \"6\": 1, \"3\": 2, \"32\": 4, \"4\": 2, \"57\": 3, \"27\": 4, \"50\": 2, \"26\": 1, \"46\": 1, \"9\": 6, \"29\": 1, \"11\": 1, \"0\": 1}, \"17\": {\"23\": 7, \"17\": 93, \"30\": 7, \"52\": 1}, \"21\": {\"51\": 3, \"21\": 91, \"32\": 3, \"27\": 3, \"23\": 1, \"50\": 4, \"57\": 1, \"8\": 3, \"46\": 4, \"48\": 1, \"9\": 2, \"53\": 4, \"4\": 1, \"20\": 1}, \"14\": {\"14\": 22, \"55\": 2, \"24\": 2, \"13\": 3, \"35\": 1, \"44\": 2, \"22\": 2, \"49\": 2, \"40\": 2, \"56\": 2}, \"55\": {\"14\": 1, \"28\": 2, \"55\": 124, \"35\": 1, \"19\": 1, \"22\": 5, \"43\": 4, \"40\": 2, \"24\": 1, \"47\": 1, \"31\": 1, \"42\": 1}, \"41\": {\"41\": 23, \"6\": 1, \"12\": 2, \"54\": 2}, \"3\": {\"57\": 4, \"1\": 4, \"50\": 6, \"3\": 36, \"35\": 2, \"33\": 2, \"4\": 12, \"34\": 1, \"53\": 1, \"27\": 3, \"19\": 6, \"42\": 1, \"6\": 7, \"46\": 6, \"5\": 1, \"20\": 2, \"8\": 3, \"23\": 3, \"54\": 1, \"36\": 2, \"44\": 2, \"47\": 3, \"29\": 8, \"48\": 9, \"25\": 2, \"30\": 2, \"37\": 2, \"12\": 3, \"17\": 2, \"51\": 1, \"55\": 1}, \"38\": {\"38\": 19, \"15\": 1, \"18\": 3, \"20\": 2, \"30\": 1, \"52\": 2}, \"2\": {\"2\": 28, \"20\": 2, \"51\": 1, \"46\": 1}, \"8\": {\"8\": 116, \"50\": 6, \"53\": 8, \"36\": 1, \"23\": 1, \"6\": 1, \"51\": 4, \"46\": 1, \"20\": 1, \"27\": 1, \"2\": 1, \"21\": 1}, \"37\": {\"37\": 27, \"3\": 1}, \"45\": {\"42\": 2, \"5\": 3, \"4\": 5, \"29\": 3, \"3\": 3, \"46\": 1, \"57\": 5, \"45\": 14, \"53\": 2, \"19\": 4, \"8\": 2, \"6\": 1, \"50\": 1, \"27\": 3, \"9\": 2, \"1\": 1, \"37\": 1, \"32\": 3, \"25\": 3, \"47\": 1}, \"42\": {\"42\": 21, \"28\": 1, \"33\": 3, \"5\": 1, \"57\": 2}, \"24\": {\"24\": 92, \"43\": 6, \"22\": 4, \"14\": 1, \"49\": 1}, \"15\": {\"15\": 132, \"52\": 4}, \"0\": {\"0\": 85, \"11\": 8, \"15\": 3, \"30\": 3, \"5\": 2, \"1\": 2, \"3\": 1, \"52\": 4, \"17\": 3, \"27\": 5, \"39\": 1, \"47\": 4, \"34\": 1, \"48\": 1, \"57\": 1}, \"47\": {\"47\": 42, \"22\": 1, \"35\": 1, \"5\": 4, \"27\": 4, \"4\": 2, \"1\": 8, \"18\": 1, \"0\": 5, \"57\": 2, \"9\": 7, \"36\": 2, \"46\": 3, \"3\": 1, \"19\": 1, \"34\": 1, \"32\": 2, \"55\": 1, \"6\": 1, \"45\": 1, \"48\": 1, \"50\": 1}, \"19\": {\"19\": 72, \"4\": 12, \"44\": 2, \"5\": 4, \"29\": 14, \"57\": 1, \"25\": 2, \"1\": 1, \"36\": 1, \"3\": 3, \"53\": 1, \"47\": 1, \"9\": 1, \"55\": 3, \"22\": 1, \"51\": 1}}}, \"per_domain_accuracy\": {\"O_14\": {\"accuracy\": 0.9497395833333333, \"source?\": true}, \"O_20\": {\"accuracy\": 0.8880208333333334, \"source?\": true}, \"O_50\": {\"accuracy\": 0.9158854166666667, \"source?\": true}, \"O_26\": {\"accuracy\": 0.8033854166666666, \"source?\": true}, \"O_32\": {\"accuracy\": 0.8997395833333334, \"source?\": true}, \"O_44\": {\"accuracy\": 0.7932291666666667, \"source?\": true}, \"O_8\": {\"accuracy\": 0.909375, \"source?\": true}, \"O_38\": {\"accuracy\": 0.9221354166666667, \"source?\": true}, \"C_4\": {\"accuracy\": 0.6846931137724551, \"source?\": false}, \"C_5\": {\"accuracy\": 0.6829608938547486, \"source?\": false}, \"C_2\": {\"accuracy\": 0.6778571428571428, \"source?\": false}, \"C_1\": {\"accuracy\": 0.7848165760869565, \"source?\": false}, \"C_3\": {\"accuracy\": 0.6792279411764706, \"source?\": false}}}, \"history\": {\"epoch_indices\": [1, 2, 3, 4, 5, 6, 7, 8, 9, 10, 11, 12, 13, 14, 15, 16, 17, 18], \"train_label_loss\": [1.0243259204595927, 0.968846525214169, 0.6403857334528029, 0.5448765140874977, 0.48937884621943034, 0.4380453086009116, 0.4045302160278273, 0.37009221360245387, 0.3350519151528022, 0.30427420784724835, 0.2820584614355799, 0.26733862657822016, 0.2513952703642038, 0.24127759995871678, 0.22472812971848596, 0.22266485852295384, 0.20779009981794974, 0.1929323516287349], \"source_val_label_loss\": [7.853669166564941, 0.7706260681152344, 0.5800778269767761, 0.6227618455886841, 0.47935545444488525, 0.4354266822338104, 0.43184447288513184, 0.4242451786994934, 0.34857726097106934, 0.42572450637817383, 0.33635684847831726, 0.3453451097011566, 0.3320351541042328, 0.32409295439720154, 0.320474237203598, 0.32549047470092773, 0.3313674330711365, 0.35690727829933167], \"target_val_label_loss\": [1521.3363037109375, 206.9176025390625, 170.30555725097656, 225.50228881835938, 202.498046875, 216.6595916748047, 256.74932861328125, 257.77001953125, 247.33090209960938, 265.3829345703125, 256.41729736328125, 244.26248168945312, 231.2080078125, 253.04249572753906, 270.56060791015625, 280.324462890625, 313.53082275390625, 336.8128967285156], \"source_val_acc_label\": [0.6701822916666667, 0.7207356770833333, 0.7910481770833333, 0.775, 0.8257486979166667, 0.8435546875, 0.8443359375, 0.84375, 0.8751953125, 0.8447265625, 0.8779622395833333, 0.87587890625, 0.88330078125, 0.8851888020833333, 0.8886393229166667, 0.8848958333333333, 0.8860026041666667, 0.8795572916666666], \"target_val_acc_label\": [0.5825357142857143, 0.6151785714285715, 0.6395, 0.6340357142857143, 0.64225, 0.6512857142857142, 0.6540357142857143, 0.6133571428571428, 0.6608214285714286, 0.6438214285714285, 0.6728928571428572, 0.67625, 0.6962857142857143, 0.7029642857142857, 0.6999642857142857, 0.6900357142857143, 0.6990357142857143, 0.6565714285714286]}, \"dataset_metrics\": {\"source\": {\"train\": {\"n_unique_x\": 179200, \"n_unique_y\": 16, \"n_batch/episode\": 6720}, \"val\": {\"n_unique_x\": 38400, \"n_unique_y\": 16, \"n_batch/episode\": 960}, \"test\": {\"n_unique_x\": 38400, \"n_unique_y\": 16, \"n_batch/episode\": 960}}, \"target\": {\"train\": {\"n_unique_x\": 175158, \"n_unique_y\": 58, \"n_batch/episode\": 6317}, \"val\": {\"n_unique_x\": 37216, \"n_unique_y\": 58, \"n_batch/episode\": 875}, \"test\": {\"n_unique_x\": 37596, \"n_unique_y\": 58, \"n_batch/episode\": 886}}}}'"
      ]
     },
     "execution_count": 29,
     "metadata": {},
     "output_type": "execute_result"
    }
   ],
   "source": [
    "json.dumps(experiment)"
   ]
  }
 ],
 "metadata": {
  "celltoolbar": "Tags",
  "kernelspec": {
   "display_name": "Python 3 (ipykernel)",
   "language": "python",
   "name": "python3"
  },
  "language_info": {
   "codemirror_mode": {
    "name": "ipython",
    "version": 3
   },
   "file_extension": ".py",
   "mimetype": "text/x-python",
   "name": "python",
   "nbconvert_exporter": "python",
   "pygments_lexer": "ipython3",
   "version": "3.8.10"
  },
  "papermill": {
   "default_parameters": {},
   "duration": 5683.74508,
   "end_time": "2022-03-25T23:54:48.426890",
   "environment_variables": {},
   "exception": null,
   "input_path": "/mnt/wd500GB/CSC500/csc500-main/csc500-notebooks/templates/tl_ptn_template.ipynb",
   "output_path": "trial.ipynb",
   "parameters": {
    "parameters": {
     "BEST_MODEL_PATH": "./best_model.pth",
     "NUM_LOGS_PER_EPOCH": 10,
     "criteria_for_best": "target_accuracy",
     "dataset_seed": 420,
     "datasets": [
      {
       "domain_prefix": "C_",
       "domains": [
        1,
        2,
        3,
        4,
        5
       ],
       "episode_transforms": [],
       "labels": [
        "1-10.",
        "1-11.",
        "1-15.",
        "1-16.",
        "1-17.",
        "1-18.",
        "1-19.",
        "10-4.",
        "10-7.",
        "11-1.",
        "11-14.",
        "11-17.",
        "11-20.",
        "11-7.",
        "13-20.",
        "13-8.",
        "14-10.",
        "14-11.",
        "14-14.",
        "14-7.",
        "15-1.",
        "15-20.",
        "16-1.",
        "16-16.",
        "17-10.",
        "17-11.",
        "17-2.",
        "19-1.",
        "19-16.",
        "19-19.",
        "19-20.",
        "19-3.",
        "2-10.",
        "2-11.",
        "2-17.",
        "2-18.",
        "2-20.",
        "2-3.",
        "2-4.",
        "2-5.",
        "2-6.",
        "2-7.",
        "2-8.",
        "3-13.",
        "3-18.",
        "3-3.",
        "4-1.",
        "4-10.",
        "4-11.",
        "4-19.",
        "5-5.",
        "6-15.",
        "7-10.",
        "7-14.",
        "8-18.",
        "8-20.",
        "8-3.",
        "8-8."
       ],
       "num_examples_per_domain_per_label": -1,
       "pickle_path": "/mnt/wd500GB/CSC500/csc500-main/datasets/cores.stratified_ds.2022A.pkl",
       "source_or_target_dataset": "target",
       "x_transforms": [
        "unit_power",
        "lowpass_+/-10MHz",
        "take_200"
       ]
      },
      {
       "domain_prefix": "O_",
       "domains": [
        32,
        38,
        8,
        44,
        14,
        50,
        20,
        26
       ],
       "episode_transforms": [],
       "labels": [
        "3123D52",
        "3123D65",
        "3123D79",
        "3123D80",
        "3123D54",
        "3123D70",
        "3123D7B",
        "3123D89",
        "3123D58",
        "3123D76",
        "3123D7D",
        "3123EFE",
        "3123D64",
        "3123D78",
        "3123D7E",
        "3124E4A"
       ],
       "num_examples_per_domain_per_label": 2000,
       "pickle_path": "/mnt/wd500GB/CSC500/csc500-main/datasets/oracle.Run1_framed_2000Examples_stratified_ds.2022A.pkl",
       "source_or_target_dataset": "source",
       "x_transforms": [
        "unit_power",
        "take_200",
        "resample_20Msps_to_25Msps"
       ]
      }
     ],
     "device": "cuda",
     "experiment_name": "tl_3-filterv2:oracle.run1.framed -> cores",
     "lr": 0.0001,
     "n_epoch": 50,
     "n_query": 2,
     "n_shot": 3,
     "n_way": 16,
     "patience": 3,
     "seed": 420,
     "test_k_factor": 2,
     "torch_default_dtype": "torch.float32",
     "train_k_factor": 3,
     "val_k_factor": 2,
     "x_net": [
      {
       "class": "nnReshape",
       "kargs": {
        "shape": [
         -1,
         1,
         2,
         200
        ]
       }
      },
      {
       "class": "Conv2d",
       "kargs": {
        "bias": false,
        "in_channels": 1,
        "kernel_size": [
         1,
         7
        ],
        "out_channels": 256,
        "padding": [
         0,
         3
        ]
       }
      },
      {
       "class": "ReLU",
       "kargs": {
        "inplace": true
       }
      },
      {
       "class": "BatchNorm2d",
       "kargs": {
        "num_features": 256
       }
      },
      {
       "class": "Conv2d",
       "kargs": {
        "bias": true,
        "in_channels": 256,
        "kernel_size": [
         2,
         7
        ],
        "out_channels": 80,
        "padding": [
         0,
         3
        ]
       }
      },
      {
       "class": "ReLU",
       "kargs": {
        "inplace": true
       }
      },
      {
       "class": "BatchNorm2d",
       "kargs": {
        "num_features": 80
       }
      },
      {
       "class": "Flatten",
       "kargs": {}
      },
      {
       "class": "Linear",
       "kargs": {
        "in_features": 16000,
        "out_features": 256
       }
      },
      {
       "class": "ReLU",
       "kargs": {
        "inplace": true
       }
      },
      {
       "class": "BatchNorm1d",
       "kargs": {
        "num_features": 256
       }
      },
      {
       "class": "Linear",
       "kargs": {
        "in_features": 256,
        "out_features": 256
       }
      }
     ],
     "x_shape": [
      2,
      200
     ]
    }
   },
   "start_time": "2022-03-25T22:20:04.681810",
   "version": "2.3.4"
  }
 },
 "nbformat": 4,
 "nbformat_minor": 5
}