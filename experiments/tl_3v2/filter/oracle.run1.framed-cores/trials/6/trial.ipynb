{
 "cells": [
  {
   "cell_type": "markdown",
   "id": "9fea5f46",
   "metadata": {
    "papermill": {
     "duration": 0.02018,
     "end_time": "2022-03-26T00:21:57.491965",
     "exception": false,
     "start_time": "2022-03-26T00:21:57.471785",
     "status": "completed"
    },
    "tags": []
   },
   "source": [
    "# Transfer Learning Template"
   ]
  },
  {
   "cell_type": "code",
   "execution_count": 1,
   "id": "0902182a",
   "metadata": {
    "execution": {
     "iopub.execute_input": "2022-03-26T00:21:57.535942Z",
     "iopub.status.busy": "2022-03-26T00:21:57.530514Z",
     "iopub.status.idle": "2022-03-26T00:21:58.590359Z",
     "shell.execute_reply": "2022-03-26T00:21:58.590593Z"
    },
    "papermill": {
     "duration": 1.080446,
     "end_time": "2022-03-26T00:21:58.590714",
     "exception": false,
     "start_time": "2022-03-26T00:21:57.510268",
     "status": "completed"
    },
    "tags": []
   },
   "outputs": [],
   "source": [
    "%load_ext autoreload\n",
    "%autoreload 2\n",
    "%matplotlib inline\n",
    "\n",
    "    \n",
    "import os, json, sys, time, random\n",
    "import numpy as np\n",
    "import torch\n",
    "from torch.optim import Adam\n",
    "from  easydict import EasyDict\n",
    "import matplotlib.pyplot as plt\n",
    "\n",
    "from steves_models.steves_ptn import Steves_Prototypical_Network\n",
    "\n",
    "from steves_utils.lazy_iterable_wrapper import Lazy_Iterable_Wrapper\n",
    "from steves_utils.iterable_aggregator import Iterable_Aggregator\n",
    "from steves_utils.ptn_train_eval_test_jig import  PTN_Train_Eval_Test_Jig\n",
    "from steves_utils.torch_sequential_builder import build_sequential\n",
    "from steves_utils.torch_utils import get_dataset_metrics, ptn_confusion_by_domain_over_dataloader\n",
    "from steves_utils.utils_v2 import (per_domain_accuracy_from_confusion, get_datasets_base_path)\n",
    "from steves_utils.PTN.utils import independent_accuracy_assesment\n",
    "\n",
    "from torch.utils.data import DataLoader\n",
    "\n",
    "from steves_utils.stratified_dataset.episodic_accessor import Episodic_Accessor_Factory\n",
    "\n",
    "from steves_utils.ptn_do_report import (\n",
    "    get_loss_curve,\n",
    "    get_results_table,\n",
    "    get_parameters_table,\n",
    "    get_domain_accuracies,\n",
    ")\n",
    "\n",
    "from steves_utils.transforms import get_chained_transform"
   ]
  },
  {
   "cell_type": "markdown",
   "id": "41c840b4",
   "metadata": {
    "papermill": {
     "duration": 0.016242,
     "end_time": "2022-03-26T00:21:58.625527",
     "exception": false,
     "start_time": "2022-03-26T00:21:58.609285",
     "status": "completed"
    },
    "tags": []
   },
   "source": [
    "# Allowed Parameters\n",
    "These are allowed parameters, not defaults\n",
    "Each of these values need to be present in the injected parameters (the notebook will raise an exception if they are not present)\n",
    "\n",
    "Papermill uses the cell tag \"parameters\" to inject the real parameters below this cell.\n",
    "Enable tags to see what I mean"
   ]
  },
  {
   "cell_type": "code",
   "execution_count": 2,
   "id": "fd44eb83",
   "metadata": {
    "execution": {
     "iopub.execute_input": "2022-03-26T00:21:58.663461Z",
     "iopub.status.busy": "2022-03-26T00:21:58.662976Z",
     "iopub.status.idle": "2022-03-26T00:21:58.677446Z",
     "shell.execute_reply": "2022-03-26T00:21:58.677690Z"
    },
    "papermill": {
     "duration": 0.035339,
     "end_time": "2022-03-26T00:21:58.677777",
     "exception": false,
     "start_time": "2022-03-26T00:21:58.642438",
     "status": "completed"
    },
    "tags": []
   },
   "outputs": [],
   "source": [
    "required_parameters = {\n",
    "    \"experiment_name\",\n",
    "    \"lr\",\n",
    "    \"device\",\n",
    "    \"seed\",\n",
    "    \"dataset_seed\",\n",
    "    \"n_shot\",\n",
    "    \"n_query\",\n",
    "    \"n_way\",\n",
    "    \"train_k_factor\",\n",
    "    \"val_k_factor\",\n",
    "    \"test_k_factor\",\n",
    "    \"n_epoch\",\n",
    "    \"patience\",\n",
    "    \"criteria_for_best\",\n",
    "    \"x_net\",\n",
    "    \"datasets\",\n",
    "    \"torch_default_dtype\",\n",
    "    \"NUM_LOGS_PER_EPOCH\",\n",
    "    \"BEST_MODEL_PATH\",\n",
    "    \"x_shape\",\n",
    "}"
   ]
  },
  {
   "cell_type": "code",
   "execution_count": 3,
   "id": "fa3f0049",
   "metadata": {
    "execution": {
     "iopub.execute_input": "2022-03-26T00:21:58.723866Z",
     "iopub.status.busy": "2022-03-26T00:21:58.714563Z",
     "iopub.status.idle": "2022-03-26T00:21:58.737403Z",
     "shell.execute_reply": "2022-03-26T00:21:58.736933Z"
    },
    "papermill": {
     "duration": 0.041027,
     "end_time": "2022-03-26T00:21:58.737514",
     "exception": false,
     "start_time": "2022-03-26T00:21:58.696487",
     "status": "completed"
    },
    "tags": [
     "parameters"
    ]
   },
   "outputs": [],
   "source": [
    "from steves_utils.CORES.utils import (\n",
    "    ALL_NODES,\n",
    "    ALL_NODES_MINIMUM_1000_EXAMPLES,\n",
    "    ALL_DAYS\n",
    ")\n",
    "\n",
    "from steves_utils.ORACLE.utils_v2 import (\n",
    "    ALL_DISTANCES_FEET_NARROWED,\n",
    "    ALL_RUNS,\n",
    "    ALL_SERIAL_NUMBERS,\n",
    ")\n",
    "\n",
    "standalone_parameters = {}\n",
    "standalone_parameters[\"experiment_name\"] = \"STANDALONE PTN\"\n",
    "standalone_parameters[\"lr\"] = 0.001\n",
    "standalone_parameters[\"device\"] = \"cuda\"\n",
    "\n",
    "standalone_parameters[\"seed\"] = 1337\n",
    "standalone_parameters[\"dataset_seed\"] = 1337\n",
    "\n",
    "standalone_parameters[\"n_way\"] = 8\n",
    "standalone_parameters[\"n_shot\"] = 3\n",
    "standalone_parameters[\"n_query\"]  = 2\n",
    "standalone_parameters[\"train_k_factor\"] = 1\n",
    "standalone_parameters[\"val_k_factor\"] = 2\n",
    "standalone_parameters[\"test_k_factor\"] = 2\n",
    "\n",
    "\n",
    "standalone_parameters[\"n_epoch\"] = 50\n",
    "\n",
    "standalone_parameters[\"patience\"] = 10\n",
    "standalone_parameters[\"criteria_for_best\"] = \"source_loss\"\n",
    "\n",
    "standalone_parameters[\"datasets\"] = [\n",
    "    {\n",
    "        \"labels\": ALL_SERIAL_NUMBERS,\n",
    "        \"domains\": ALL_DISTANCES_FEET_NARROWED,\n",
    "        \"num_examples_per_domain_per_label\": 100,\n",
    "        \"pickle_path\": os.path.join(get_datasets_base_path(), \"oracle.Run1_framed_2000Examples_stratified_ds.2022A.pkl\"),\n",
    "        \"source_or_target_dataset\": \"source\",\n",
    "        \"x_transforms\": [\"unit_mag\", \"minus_two\"],\n",
    "        \"episode_transforms\": [],\n",
    "        \"domain_prefix\": \"ORACLE_\"\n",
    "    },\n",
    "    {\n",
    "        \"labels\": ALL_NODES,\n",
    "        \"domains\": ALL_DAYS,\n",
    "        \"num_examples_per_domain_per_label\": 100,\n",
    "        \"pickle_path\": os.path.join(get_datasets_base_path(), \"cores.stratified_ds.2022A.pkl\"),\n",
    "        \"source_or_target_dataset\": \"target\",\n",
    "        \"x_transforms\": [\"unit_power\", \"times_zero\"],\n",
    "        \"episode_transforms\": [],\n",
    "        \"domain_prefix\": \"CORES_\"\n",
    "    }   \n",
    "]\n",
    "\n",
    "standalone_parameters[\"torch_default_dtype\"] = \"torch.float32\" \n",
    "\n",
    "\n",
    "\n",
    "standalone_parameters[\"x_net\"] =     [\n",
    "    {\"class\": \"nnReshape\", \"kargs\": {\"shape\":[-1, 1, 2, 256]}},\n",
    "    {\"class\": \"Conv2d\", \"kargs\": { \"in_channels\":1, \"out_channels\":256, \"kernel_size\":(1,7), \"bias\":False, \"padding\":(0,3), },},\n",
    "    {\"class\": \"ReLU\", \"kargs\": {\"inplace\": True}},\n",
    "    {\"class\": \"BatchNorm2d\", \"kargs\": {\"num_features\":256}},\n",
    "\n",
    "    {\"class\": \"Conv2d\", \"kargs\": { \"in_channels\":256, \"out_channels\":80, \"kernel_size\":(2,7), \"bias\":True, \"padding\":(0,3), },},\n",
    "    {\"class\": \"ReLU\", \"kargs\": {\"inplace\": True}},\n",
    "    {\"class\": \"BatchNorm2d\", \"kargs\": {\"num_features\":80}},\n",
    "    {\"class\": \"Flatten\", \"kargs\": {}},\n",
    "\n",
    "    {\"class\": \"Linear\", \"kargs\": {\"in_features\": 80*256, \"out_features\": 256}}, # 80 units per IQ pair\n",
    "    {\"class\": \"ReLU\", \"kargs\": {\"inplace\": True}},\n",
    "    {\"class\": \"BatchNorm1d\", \"kargs\": {\"num_features\":256}},\n",
    "\n",
    "    {\"class\": \"Linear\", \"kargs\": {\"in_features\": 256, \"out_features\": 256}},\n",
    "]\n",
    "\n",
    "# Parameters relevant to results\n",
    "# These parameters will basically never need to change\n",
    "standalone_parameters[\"NUM_LOGS_PER_EPOCH\"] = 10\n",
    "standalone_parameters[\"BEST_MODEL_PATH\"] = \"./best_model.pth\"\n",
    "\n",
    "\n",
    "\n",
    "\n"
   ]
  },
  {
   "cell_type": "code",
   "execution_count": 4,
   "id": "d1854d5a",
   "metadata": {
    "execution": {
     "iopub.execute_input": "2022-03-26T00:21:58.785516Z",
     "iopub.status.busy": "2022-03-26T00:21:58.775334Z",
     "iopub.status.idle": "2022-03-26T00:21:58.798686Z",
     "shell.execute_reply": "2022-03-26T00:21:58.798920Z"
    },
    "papermill": {
     "duration": 0.044328,
     "end_time": "2022-03-26T00:21:58.799004",
     "exception": false,
     "start_time": "2022-03-26T00:21:58.754676",
     "status": "completed"
    },
    "tags": [
     "injected-parameters"
    ]
   },
   "outputs": [],
   "source": [
    "# Parameters\n",
    "parameters = {\n",
    "    \"experiment_name\": \"tl_3-filterv2:oracle.run1.framed -> cores\",\n",
    "    \"device\": \"cuda\",\n",
    "    \"lr\": 0.0001,\n",
    "    \"x_shape\": [2, 200],\n",
    "    \"n_shot\": 3,\n",
    "    \"n_query\": 2,\n",
    "    \"train_k_factor\": 3,\n",
    "    \"val_k_factor\": 2,\n",
    "    \"test_k_factor\": 2,\n",
    "    \"torch_default_dtype\": \"torch.float32\",\n",
    "    \"n_epoch\": 50,\n",
    "    \"patience\": 3,\n",
    "    \"criteria_for_best\": \"target_accuracy\",\n",
    "    \"x_net\": [\n",
    "        {\"class\": \"nnReshape\", \"kargs\": {\"shape\": [-1, 1, 2, 200]}},\n",
    "        {\n",
    "            \"class\": \"Conv2d\",\n",
    "            \"kargs\": {\n",
    "                \"in_channels\": 1,\n",
    "                \"out_channels\": 256,\n",
    "                \"kernel_size\": [1, 7],\n",
    "                \"bias\": False,\n",
    "                \"padding\": [0, 3],\n",
    "            },\n",
    "        },\n",
    "        {\"class\": \"ReLU\", \"kargs\": {\"inplace\": True}},\n",
    "        {\"class\": \"BatchNorm2d\", \"kargs\": {\"num_features\": 256}},\n",
    "        {\n",
    "            \"class\": \"Conv2d\",\n",
    "            \"kargs\": {\n",
    "                \"in_channels\": 256,\n",
    "                \"out_channels\": 80,\n",
    "                \"kernel_size\": [2, 7],\n",
    "                \"bias\": True,\n",
    "                \"padding\": [0, 3],\n",
    "            },\n",
    "        },\n",
    "        {\"class\": \"ReLU\", \"kargs\": {\"inplace\": True}},\n",
    "        {\"class\": \"BatchNorm2d\", \"kargs\": {\"num_features\": 80}},\n",
    "        {\"class\": \"Flatten\", \"kargs\": {}},\n",
    "        {\"class\": \"Linear\", \"kargs\": {\"in_features\": 16000, \"out_features\": 256}},\n",
    "        {\"class\": \"ReLU\", \"kargs\": {\"inplace\": True}},\n",
    "        {\"class\": \"BatchNorm1d\", \"kargs\": {\"num_features\": 256}},\n",
    "        {\"class\": \"Linear\", \"kargs\": {\"in_features\": 256, \"out_features\": 256}},\n",
    "    ],\n",
    "    \"NUM_LOGS_PER_EPOCH\": 10,\n",
    "    \"BEST_MODEL_PATH\": \"./best_model.pth\",\n",
    "    \"n_way\": 16,\n",
    "    \"datasets\": [\n",
    "        {\n",
    "            \"labels\": [\n",
    "                \"1-10.\",\n",
    "                \"1-11.\",\n",
    "                \"1-15.\",\n",
    "                \"1-16.\",\n",
    "                \"1-17.\",\n",
    "                \"1-18.\",\n",
    "                \"1-19.\",\n",
    "                \"10-4.\",\n",
    "                \"10-7.\",\n",
    "                \"11-1.\",\n",
    "                \"11-14.\",\n",
    "                \"11-17.\",\n",
    "                \"11-20.\",\n",
    "                \"11-7.\",\n",
    "                \"13-20.\",\n",
    "                \"13-8.\",\n",
    "                \"14-10.\",\n",
    "                \"14-11.\",\n",
    "                \"14-14.\",\n",
    "                \"14-7.\",\n",
    "                \"15-1.\",\n",
    "                \"15-20.\",\n",
    "                \"16-1.\",\n",
    "                \"16-16.\",\n",
    "                \"17-10.\",\n",
    "                \"17-11.\",\n",
    "                \"17-2.\",\n",
    "                \"19-1.\",\n",
    "                \"19-16.\",\n",
    "                \"19-19.\",\n",
    "                \"19-20.\",\n",
    "                \"19-3.\",\n",
    "                \"2-10.\",\n",
    "                \"2-11.\",\n",
    "                \"2-17.\",\n",
    "                \"2-18.\",\n",
    "                \"2-20.\",\n",
    "                \"2-3.\",\n",
    "                \"2-4.\",\n",
    "                \"2-5.\",\n",
    "                \"2-6.\",\n",
    "                \"2-7.\",\n",
    "                \"2-8.\",\n",
    "                \"3-13.\",\n",
    "                \"3-18.\",\n",
    "                \"3-3.\",\n",
    "                \"4-1.\",\n",
    "                \"4-10.\",\n",
    "                \"4-11.\",\n",
    "                \"4-19.\",\n",
    "                \"5-5.\",\n",
    "                \"6-15.\",\n",
    "                \"7-10.\",\n",
    "                \"7-14.\",\n",
    "                \"8-18.\",\n",
    "                \"8-20.\",\n",
    "                \"8-3.\",\n",
    "                \"8-8.\",\n",
    "            ],\n",
    "            \"domains\": [1, 2, 3, 4, 5],\n",
    "            \"num_examples_per_domain_per_label\": -1,\n",
    "            \"pickle_path\": \"/mnt/wd500GB/CSC500/csc500-main/datasets/cores.stratified_ds.2022A.pkl\",\n",
    "            \"source_or_target_dataset\": \"target\",\n",
    "            \"x_transforms\": [\"unit_power\", \"lowpass_+/-10MHz\", \"take_200\"],\n",
    "            \"episode_transforms\": [],\n",
    "            \"domain_prefix\": \"C_\",\n",
    "        },\n",
    "        {\n",
    "            \"labels\": [\n",
    "                \"3123D52\",\n",
    "                \"3123D65\",\n",
    "                \"3123D79\",\n",
    "                \"3123D80\",\n",
    "                \"3123D54\",\n",
    "                \"3123D70\",\n",
    "                \"3123D7B\",\n",
    "                \"3123D89\",\n",
    "                \"3123D58\",\n",
    "                \"3123D76\",\n",
    "                \"3123D7D\",\n",
    "                \"3123EFE\",\n",
    "                \"3123D64\",\n",
    "                \"3123D78\",\n",
    "                \"3123D7E\",\n",
    "                \"3124E4A\",\n",
    "            ],\n",
    "            \"domains\": [32, 38, 8, 44, 14, 50, 20, 26],\n",
    "            \"num_examples_per_domain_per_label\": 2000,\n",
    "            \"pickle_path\": \"/mnt/wd500GB/CSC500/csc500-main/datasets/oracle.Run1_framed_2000Examples_stratified_ds.2022A.pkl\",\n",
    "            \"source_or_target_dataset\": \"source\",\n",
    "            \"x_transforms\": [\"unit_power\", \"take_200\", \"resample_20Msps_to_25Msps\"],\n",
    "            \"episode_transforms\": [],\n",
    "            \"domain_prefix\": \"O_\",\n",
    "        },\n",
    "    ],\n",
    "    \"seed\": 154325,\n",
    "    \"dataset_seed\": 154325,\n",
    "}\n"
   ]
  },
  {
   "cell_type": "code",
   "execution_count": 5,
   "id": "8fa1cc33",
   "metadata": {
    "execution": {
     "iopub.execute_input": "2022-03-26T00:21:58.842215Z",
     "iopub.status.busy": "2022-03-26T00:21:58.841929Z",
     "iopub.status.idle": "2022-03-26T00:21:58.857473Z",
     "shell.execute_reply": "2022-03-26T00:21:58.856798Z"
    },
    "papermill": {
     "duration": 0.037767,
     "end_time": "2022-03-26T00:21:58.857624",
     "exception": false,
     "start_time": "2022-03-26T00:21:58.819857",
     "status": "completed"
    },
    "tags": []
   },
   "outputs": [],
   "source": [
    "# Set this to True if you want to run this template directly\n",
    "STANDALONE = False\n",
    "if STANDALONE:\n",
    "    print(\"parameters not injected, running with standalone_parameters\")\n",
    "    parameters = standalone_parameters\n",
    "\n",
    "if not 'parameters' in locals() and not 'parameters' in globals():\n",
    "    raise Exception(\"Parameter injection failed\")\n",
    "\n",
    "#Use an easy dict for all the parameters\n",
    "p = EasyDict(parameters)\n",
    "\n",
    "if \"x_shape\" not in p:\n",
    "    p.x_shape = [2,256] # Default to this if we dont supply x_shape\n",
    "\n",
    "\n",
    "supplied_keys = set(p.keys())\n",
    "\n",
    "if  supplied_keys != required_parameters:\n",
    "    print(\"Parameters are incorrect\")\n",
    "    if len(supplied_keys - required_parameters)>0: print(\"Shouldn't have:\", str(supplied_keys - required_parameters))\n",
    "    if len(required_parameters - supplied_keys)>0: print(\"Need to have:\", str(required_parameters - supplied_keys))\n",
    "    raise RuntimeError(\"Parameters are incorrect\")"
   ]
  },
  {
   "cell_type": "code",
   "execution_count": 6,
   "id": "3a028d58",
   "metadata": {
    "execution": {
     "iopub.execute_input": "2022-03-26T00:21:58.894691Z",
     "iopub.status.busy": "2022-03-26T00:21:58.894325Z",
     "iopub.status.idle": "2022-03-26T00:21:58.910621Z",
     "shell.execute_reply": "2022-03-26T00:21:58.910356Z"
    },
    "papermill": {
     "duration": 0.035913,
     "end_time": "2022-03-26T00:21:58.910690",
     "exception": false,
     "start_time": "2022-03-26T00:21:58.874777",
     "status": "completed"
    },
    "tags": []
   },
   "outputs": [],
   "source": [
    "###################################\n",
    "# Set the RNGs and make it all deterministic\n",
    "###################################\n",
    "np.random.seed(p.seed)\n",
    "random.seed(p.seed)\n",
    "torch.manual_seed(p.seed)\n",
    "\n",
    "torch.use_deterministic_algorithms(True) "
   ]
  },
  {
   "cell_type": "code",
   "execution_count": 7,
   "id": "b691acf6",
   "metadata": {
    "execution": {
     "iopub.execute_input": "2022-03-26T00:21:58.951962Z",
     "iopub.status.busy": "2022-03-26T00:21:58.951685Z",
     "iopub.status.idle": "2022-03-26T00:21:58.967717Z",
     "shell.execute_reply": "2022-03-26T00:21:58.968042Z"
    },
    "papermill": {
     "duration": 0.036379,
     "end_time": "2022-03-26T00:21:58.968148",
     "exception": false,
     "start_time": "2022-03-26T00:21:58.931769",
     "status": "completed"
    },
    "tags": []
   },
   "outputs": [],
   "source": [
    "###########################################\n",
    "# The stratified datasets honor this\n",
    "###########################################\n",
    "torch.set_default_dtype(eval(p.torch_default_dtype))"
   ]
  },
  {
   "cell_type": "code",
   "execution_count": 8,
   "id": "b5fba671",
   "metadata": {
    "execution": {
     "iopub.execute_input": "2022-03-26T00:21:59.000413Z",
     "iopub.status.busy": "2022-03-26T00:21:59.000150Z",
     "iopub.status.idle": "2022-03-26T00:21:59.034712Z",
     "shell.execute_reply": "2022-03-26T00:21:59.035101Z"
    },
    "papermill": {
     "duration": 0.050287,
     "end_time": "2022-03-26T00:21:59.035227",
     "exception": false,
     "start_time": "2022-03-26T00:21:58.984940",
     "status": "completed"
    },
    "tags": []
   },
   "outputs": [],
   "source": [
    "###################################\n",
    "# Build the network(s)\n",
    "# Note: It's critical to do this AFTER setting the RNG\n",
    "###################################\n",
    "x_net = build_sequential(p.x_net)"
   ]
  },
  {
   "cell_type": "code",
   "execution_count": 9,
   "id": "5d7e61cc",
   "metadata": {
    "execution": {
     "iopub.execute_input": "2022-03-26T00:21:59.068741Z",
     "iopub.status.busy": "2022-03-26T00:21:59.068469Z",
     "iopub.status.idle": "2022-03-26T00:21:59.083428Z",
     "shell.execute_reply": "2022-03-26T00:21:59.082955Z"
    },
    "papermill": {
     "duration": 0.031537,
     "end_time": "2022-03-26T00:21:59.083543",
     "exception": false,
     "start_time": "2022-03-26T00:21:59.052006",
     "status": "completed"
    },
    "tags": []
   },
   "outputs": [],
   "source": [
    "start_time_secs = time.time()"
   ]
  },
  {
   "cell_type": "code",
   "execution_count": 10,
   "id": "c6b67dfd",
   "metadata": {
    "execution": {
     "iopub.execute_input": "2022-03-26T00:21:59.121129Z",
     "iopub.status.busy": "2022-03-26T00:21:59.120862Z",
     "iopub.status.idle": "2022-03-26T00:21:59.133109Z",
     "shell.execute_reply": "2022-03-26T00:21:59.132851Z"
    },
    "papermill": {
     "duration": 0.028789,
     "end_time": "2022-03-26T00:21:59.133175",
     "exception": false,
     "start_time": "2022-03-26T00:21:59.104386",
     "status": "completed"
    },
    "tags": []
   },
   "outputs": [],
   "source": [
    "p.domains_source = []\n",
    "p.domains_target = []\n",
    "\n",
    "\n",
    "train_original_source = []\n",
    "val_original_source   = []\n",
    "test_original_source  = []\n",
    "\n",
    "train_original_target = []\n",
    "val_original_target   = []\n",
    "test_original_target  = []"
   ]
  },
  {
   "cell_type": "code",
   "execution_count": 11,
   "id": "e3d9c3d3",
   "metadata": {
    "execution": {
     "iopub.execute_input": "2022-03-26T00:21:59.166883Z",
     "iopub.status.busy": "2022-03-26T00:21:59.166475Z",
     "iopub.status.idle": "2022-03-26T00:21:59.178020Z",
     "shell.execute_reply": "2022-03-26T00:21:59.178361Z"
    },
    "papermill": {
     "duration": 0.028223,
     "end_time": "2022-03-26T00:21:59.178479",
     "exception": false,
     "start_time": "2022-03-26T00:21:59.150256",
     "status": "completed"
    },
    "tags": []
   },
   "outputs": [],
   "source": [
    "# global_x_transform_func = lambda x: normalize(x.to(torch.get_default_dtype()), \"unit_power\") # unit_power, unit_mag\n",
    "# global_x_transform_func = lambda x: normalize(x, \"unit_power\") # unit_power, unit_mag"
   ]
  },
  {
   "cell_type": "code",
   "execution_count": 12,
   "id": "acb78fd2",
   "metadata": {
    "execution": {
     "iopub.execute_input": "2022-03-26T00:21:59.212484Z",
     "iopub.status.busy": "2022-03-26T00:21:59.212171Z",
     "iopub.status.idle": "2022-03-26T00:21:59.225030Z",
     "shell.execute_reply": "2022-03-26T00:21:59.224476Z"
    },
    "papermill": {
     "duration": 0.031632,
     "end_time": "2022-03-26T00:21:59.225146",
     "exception": false,
     "start_time": "2022-03-26T00:21:59.193514",
     "status": "completed"
    },
    "tags": []
   },
   "outputs": [],
   "source": [
    "def add_dataset(\n",
    "    labels,\n",
    "    domains,\n",
    "    pickle_path,\n",
    "    x_transforms,\n",
    "    episode_transforms,\n",
    "    domain_prefix,\n",
    "    num_examples_per_domain_per_label,\n",
    "    source_or_target_dataset:str,\n",
    "    iterator_seed=p.seed,\n",
    "    dataset_seed=p.dataset_seed,\n",
    "    n_shot=p.n_shot,\n",
    "    n_way=p.n_way,\n",
    "    n_query=p.n_query,\n",
    "    train_val_test_k_factors=(p.train_k_factor,p.val_k_factor,p.test_k_factor),\n",
    "):\n",
    "   \n",
    "    if x_transforms == []: x_transform = None\n",
    "    else: x_transform = get_chained_transform(x_transforms)\n",
    "    \n",
    "    if episode_transforms == []: episode_transform = None\n",
    "    else: raise Exception(\"episode_transforms not implemented\")\n",
    "    \n",
    "    episode_transform = lambda tup, _prefix=domain_prefix: (_prefix + str(tup[0]), tup[1])\n",
    "\n",
    "\n",
    "    eaf = Episodic_Accessor_Factory(\n",
    "        labels=labels,\n",
    "        domains=domains,\n",
    "        num_examples_per_domain_per_label=num_examples_per_domain_per_label,\n",
    "        iterator_seed=iterator_seed,\n",
    "        dataset_seed=dataset_seed,\n",
    "        n_shot=n_shot,\n",
    "        n_way=n_way,\n",
    "        n_query=n_query,\n",
    "        train_val_test_k_factors=train_val_test_k_factors,\n",
    "        pickle_path=pickle_path,\n",
    "        x_transform_func=x_transform,\n",
    "    )\n",
    "\n",
    "    train, val, test = eaf.get_train(), eaf.get_val(), eaf.get_test()\n",
    "    train = Lazy_Iterable_Wrapper(train, episode_transform)\n",
    "    val = Lazy_Iterable_Wrapper(val, episode_transform)\n",
    "    test = Lazy_Iterable_Wrapper(test, episode_transform)\n",
    "\n",
    "    if source_or_target_dataset==\"source\":\n",
    "        train_original_source.append(train)\n",
    "        val_original_source.append(val)\n",
    "        test_original_source.append(test)\n",
    "\n",
    "        p.domains_source.extend(\n",
    "            [domain_prefix + str(u) for u in domains]\n",
    "        )\n",
    "    elif source_or_target_dataset==\"target\":\n",
    "        train_original_target.append(train)\n",
    "        val_original_target.append(val)\n",
    "        test_original_target.append(test)\n",
    "        p.domains_target.extend(\n",
    "            [domain_prefix + str(u) for u in domains]\n",
    "        )\n",
    "    else:\n",
    "        raise Exception(f\"invalid source_or_target_dataset: {source_or_target_dataset}\")\n",
    "    "
   ]
  },
  {
   "cell_type": "code",
   "execution_count": 13,
   "id": "fe266617",
   "metadata": {
    "execution": {
     "iopub.execute_input": "2022-03-26T00:21:59.260270Z",
     "iopub.status.busy": "2022-03-26T00:21:59.259997Z",
     "iopub.status.idle": "2022-03-26T00:22:54.425837Z",
     "shell.execute_reply": "2022-03-26T00:22:54.425364Z"
    },
    "papermill": {
     "duration": 55.18218,
     "end_time": "2022-03-26T00:22:54.425961",
     "exception": false,
     "start_time": "2022-03-26T00:21:59.243781",
     "status": "completed"
    },
    "tags": []
   },
   "outputs": [],
   "source": [
    "for ds in p.datasets:\n",
    "    add_dataset(**ds)"
   ]
  },
  {
   "cell_type": "code",
   "execution_count": 14,
   "id": "b90d65ac",
   "metadata": {
    "execution": {
     "iopub.execute_input": "2022-03-26T00:22:54.462071Z",
     "iopub.status.busy": "2022-03-26T00:22:54.461429Z",
     "iopub.status.idle": "2022-03-26T00:22:54.476778Z",
     "shell.execute_reply": "2022-03-26T00:22:54.476458Z"
    },
    "papermill": {
     "duration": 0.032228,
     "end_time": "2022-03-26T00:22:54.476846",
     "exception": false,
     "start_time": "2022-03-26T00:22:54.444618",
     "status": "completed"
    },
    "tags": []
   },
   "outputs": [],
   "source": [
    "# from steves_utils.CORES.utils import (\n",
    "#     ALL_NODES,\n",
    "#     ALL_NODES_MINIMUM_1000_EXAMPLES,\n",
    "#     ALL_DAYS\n",
    "# )\n",
    "\n",
    "# add_dataset(\n",
    "#     labels=ALL_NODES,\n",
    "#     domains = ALL_DAYS,\n",
    "#     num_examples_per_domain_per_label=100,\n",
    "#     pickle_path=os.path.join(get_datasets_base_path(), \"cores.stratified_ds.2022A.pkl\"),\n",
    "#     source_or_target_dataset=\"target\",\n",
    "#     x_transform_func=global_x_transform_func,\n",
    "#     domain_modifier=lambda u: f\"cores_{u}\"\n",
    "# )"
   ]
  },
  {
   "cell_type": "code",
   "execution_count": 15,
   "id": "76db484d",
   "metadata": {
    "execution": {
     "iopub.execute_input": "2022-03-26T00:22:54.508487Z",
     "iopub.status.busy": "2022-03-26T00:22:54.508216Z",
     "iopub.status.idle": "2022-03-26T00:22:54.524864Z",
     "shell.execute_reply": "2022-03-26T00:22:54.524422Z"
    },
    "papermill": {
     "duration": 0.033354,
     "end_time": "2022-03-26T00:22:54.524979",
     "exception": false,
     "start_time": "2022-03-26T00:22:54.491625",
     "status": "completed"
    },
    "tags": []
   },
   "outputs": [],
   "source": [
    "# from steves_utils.ORACLE.utils_v2 import (\n",
    "#     ALL_DISTANCES_FEET,\n",
    "#     ALL_RUNS,\n",
    "#     ALL_SERIAL_NUMBERS,\n",
    "# )\n",
    "\n",
    "\n",
    "# add_dataset(\n",
    "#     labels=ALL_SERIAL_NUMBERS,\n",
    "#     domains = list(set(ALL_DISTANCES_FEET) - {2,62}),\n",
    "#     num_examples_per_domain_per_label=100,\n",
    "#     pickle_path=os.path.join(get_datasets_base_path(), \"oracle.Run2_framed_2000Examples_stratified_ds.2022A.pkl\"),\n",
    "#     source_or_target_dataset=\"source\",\n",
    "#     x_transform_func=global_x_transform_func,\n",
    "#     domain_modifier=lambda u: f\"oracle1_{u}\"\n",
    "# )\n"
   ]
  },
  {
   "cell_type": "code",
   "execution_count": 16,
   "id": "97dea9d2",
   "metadata": {
    "execution": {
     "iopub.execute_input": "2022-03-26T00:22:54.560473Z",
     "iopub.status.busy": "2022-03-26T00:22:54.559375Z",
     "iopub.status.idle": "2022-03-26T00:22:54.576287Z",
     "shell.execute_reply": "2022-03-26T00:22:54.576006Z"
    },
    "papermill": {
     "duration": 0.03352,
     "end_time": "2022-03-26T00:22:54.576351",
     "exception": false,
     "start_time": "2022-03-26T00:22:54.542831",
     "status": "completed"
    },
    "tags": []
   },
   "outputs": [],
   "source": [
    "# from steves_utils.ORACLE.utils_v2 import (\n",
    "#     ALL_DISTANCES_FEET,\n",
    "#     ALL_RUNS,\n",
    "#     ALL_SERIAL_NUMBERS,\n",
    "# )\n",
    "\n",
    "\n",
    "# add_dataset(\n",
    "#     labels=ALL_SERIAL_NUMBERS,\n",
    "#     domains = list(set(ALL_DISTANCES_FEET) - {2,62,56}),\n",
    "#     num_examples_per_domain_per_label=100,\n",
    "#     pickle_path=os.path.join(get_datasets_base_path(), \"oracle.Run2_framed_2000Examples_stratified_ds.2022A.pkl\"),\n",
    "#     source_or_target_dataset=\"source\",\n",
    "#     x_transform_func=global_x_transform_func,\n",
    "#     domain_modifier=lambda u: f\"oracle2_{u}\"\n",
    "# )"
   ]
  },
  {
   "cell_type": "code",
   "execution_count": 17,
   "id": "6f289866",
   "metadata": {
    "execution": {
     "iopub.execute_input": "2022-03-26T00:22:54.610732Z",
     "iopub.status.busy": "2022-03-26T00:22:54.609922Z",
     "iopub.status.idle": "2022-03-26T00:22:54.627156Z",
     "shell.execute_reply": "2022-03-26T00:22:54.627569Z"
    },
    "papermill": {
     "duration": 0.033427,
     "end_time": "2022-03-26T00:22:54.627696",
     "exception": false,
     "start_time": "2022-03-26T00:22:54.594269",
     "status": "completed"
    },
    "tags": []
   },
   "outputs": [],
   "source": [
    "# add_dataset(\n",
    "#     labels=list(range(19)),\n",
    "#     domains = [0,1,2],\n",
    "#     num_examples_per_domain_per_label=100,\n",
    "#     pickle_path=os.path.join(get_datasets_base_path(), \"metehan.stratified_ds.2022A.pkl\"),\n",
    "#     source_or_target_dataset=\"target\",\n",
    "#     x_transform_func=global_x_transform_func,\n",
    "#     domain_modifier=lambda u: f\"met_{u}\"\n",
    "# )"
   ]
  },
  {
   "cell_type": "code",
   "execution_count": 18,
   "id": "86a863c3",
   "metadata": {
    "execution": {
     "iopub.execute_input": "2022-03-26T00:22:54.664063Z",
     "iopub.status.busy": "2022-03-26T00:22:54.663753Z",
     "iopub.status.idle": "2022-03-26T00:22:54.677289Z",
     "shell.execute_reply": "2022-03-26T00:22:54.677714Z"
    },
    "papermill": {
     "duration": 0.030449,
     "end_time": "2022-03-26T00:22:54.677845",
     "exception": false,
     "start_time": "2022-03-26T00:22:54.647396",
     "status": "completed"
    },
    "tags": []
   },
   "outputs": [],
   "source": [
    "# # from steves_utils.wisig.utils import (\n",
    "# #     ALL_NODES_MINIMUM_100_EXAMPLES,\n",
    "# #     ALL_NODES_MINIMUM_500_EXAMPLES,\n",
    "# #     ALL_NODES_MINIMUM_1000_EXAMPLES,\n",
    "# #     ALL_DAYS\n",
    "# # )\n",
    "\n",
    "# import steves_utils.wisig.utils as wisig\n",
    "\n",
    "\n",
    "# add_dataset(\n",
    "#     labels=wisig.ALL_NODES_MINIMUM_100_EXAMPLES,\n",
    "#     domains = wisig.ALL_DAYS,\n",
    "#     num_examples_per_domain_per_label=100,\n",
    "#     pickle_path=os.path.join(get_datasets_base_path(), \"wisig.node3-19.stratified_ds.2022A.pkl\"),\n",
    "#     source_or_target_dataset=\"target\",\n",
    "#     x_transform_func=global_x_transform_func,\n",
    "#     domain_modifier=lambda u: f\"wisig_{u}\"\n",
    "# )"
   ]
  },
  {
   "cell_type": "code",
   "execution_count": 19,
   "id": "fd5442bc",
   "metadata": {
    "execution": {
     "iopub.execute_input": "2022-03-26T00:22:54.716703Z",
     "iopub.status.busy": "2022-03-26T00:22:54.716424Z",
     "iopub.status.idle": "2022-03-26T00:22:54.732575Z",
     "shell.execute_reply": "2022-03-26T00:22:54.732999Z"
    },
    "papermill": {
     "duration": 0.036195,
     "end_time": "2022-03-26T00:22:54.733133",
     "exception": false,
     "start_time": "2022-03-26T00:22:54.696938",
     "status": "completed"
    },
    "tags": []
   },
   "outputs": [],
   "source": [
    "###################################\n",
    "# Build the dataset\n",
    "###################################\n",
    "train_original_source = Iterable_Aggregator(train_original_source, p.seed)\n",
    "val_original_source = Iterable_Aggregator(val_original_source, p.seed)\n",
    "test_original_source = Iterable_Aggregator(test_original_source, p.seed)\n",
    "\n",
    "\n",
    "train_original_target = Iterable_Aggregator(train_original_target, p.seed)\n",
    "val_original_target = Iterable_Aggregator(val_original_target, p.seed)\n",
    "test_original_target = Iterable_Aggregator(test_original_target, p.seed)\n",
    "\n",
    "# For CNN We only use X and Y. And we only train on the source.\n",
    "# Properly form the data using a transform lambda and Lazy_Iterable_Wrapper. Finally wrap them in a dataloader\n",
    "\n",
    "transform_lambda = lambda ex: ex[1] # Original is (<domain>, <episode>) so we strip down to episode only\n",
    "\n",
    "train_processed_source = Lazy_Iterable_Wrapper(train_original_source, transform_lambda)\n",
    "val_processed_source   = Lazy_Iterable_Wrapper(val_original_source, transform_lambda)\n",
    "test_processed_source  = Lazy_Iterable_Wrapper(test_original_source, transform_lambda)\n",
    "\n",
    "train_processed_target = Lazy_Iterable_Wrapper(train_original_target, transform_lambda)\n",
    "val_processed_target   = Lazy_Iterable_Wrapper(val_original_target, transform_lambda)\n",
    "test_processed_target  = Lazy_Iterable_Wrapper(test_original_target, transform_lambda)\n",
    "\n",
    "datasets = EasyDict({\n",
    "    \"source\": {\n",
    "        \"original\": {\"train\":train_original_source, \"val\":val_original_source, \"test\":test_original_source},\n",
    "        \"processed\": {\"train\":train_processed_source, \"val\":val_processed_source, \"test\":test_processed_source}\n",
    "    },\n",
    "    \"target\": {\n",
    "        \"original\": {\"train\":train_original_target, \"val\":val_original_target, \"test\":test_original_target},\n",
    "        \"processed\": {\"train\":train_processed_target, \"val\":val_processed_target, \"test\":test_processed_target}\n",
    "    },\n",
    "})"
   ]
  },
  {
   "cell_type": "code",
   "execution_count": 20,
   "id": "5b3c01fc",
   "metadata": {
    "execution": {
     "iopub.execute_input": "2022-03-26T00:22:54.772547Z",
     "iopub.status.busy": "2022-03-26T00:22:54.771982Z",
     "iopub.status.idle": "2022-03-26T00:23:01.766522Z",
     "shell.execute_reply": "2022-03-26T00:23:01.767048Z"
    },
    "papermill": {
     "duration": 7.0146,
     "end_time": "2022-03-26T00:23:01.767198",
     "exception": false,
     "start_time": "2022-03-26T00:22:54.752598",
     "status": "completed"
    },
    "tags": []
   },
   "outputs": [
    {
     "name": "stdout",
     "output_type": "stream",
     "text": [
      "{'O_32', 'O_26', 'O_50', 'O_20', 'O_38', 'O_44', 'O_14', 'O_8'}\n"
     ]
    },
    {
     "name": "stdout",
     "output_type": "stream",
     "text": [
      "{'C_1', 'C_4', 'C_2', 'C_3', 'C_5'}\n"
     ]
    },
    {
     "name": "stdout",
     "output_type": "stream",
     "text": [
      "tensor([[[-0.1931,  0.8758,  0.6037,  ...,  0.7041, -0.3185, -0.0391],\n",
      "         [-0.4046,  0.2170,  0.5919,  ..., -0.1595,  1.0219,  1.0211]],\n",
      "\n",
      "        [[ 0.0508,  1.1559,  0.4146,  ...,  0.4908,  0.3583,  0.9554],\n",
      "         [-0.3878, -0.3983,  0.2625,  ..., -0.2077,  1.1096,  0.3871]],\n",
      "\n",
      "        [[-0.6662, -0.4533,  0.6746,  ...,  0.4228,  0.8722, -0.3763],\n",
      "         [-0.4061, -1.1238,  0.1155,  ..., -0.6004, -0.6856, -1.1481]],\n",
      "\n",
      "        ...,\n",
      "\n",
      "        [[ 0.1025,  0.7138,  0.1906,  ...,  0.9573,  0.9426,  0.7095],\n",
      "         [-0.8851, -0.7284,  1.0025,  ...,  0.3112,  0.3567, -0.9834]],\n",
      "\n",
      "        [[-0.2577,  0.9077,  0.7996,  ...,  0.7522, -0.0283,  0.1294],\n",
      "         [-0.4825, -0.1084,  0.4870,  ..., -0.4464,  1.0524,  0.9217]],\n",
      "\n",
      "        [[-0.7522, -1.1439,  0.5260,  ..., -0.3526, -0.3789, -1.2930],\n",
      "         [ 0.5309,  0.0861, -0.7256,  ..., -0.8873, -0.9504,  0.1101]]])\n"
     ]
    }
   ],
   "source": [
    "from steves_utils.transforms import get_average_magnitude, get_average_power\n",
    "\n",
    "print(set([u for u,_ in val_original_source]))\n",
    "print(set([u for u,_ in val_original_target]))\n",
    "\n",
    "s_x, s_y, q_x, q_y, _ = next(iter(train_processed_source))\n",
    "print(s_x)\n",
    "\n",
    "# for ds in [\n",
    "#     train_processed_source,\n",
    "#     val_processed_source,\n",
    "#     test_processed_source,\n",
    "#     train_processed_target,\n",
    "#     val_processed_target,\n",
    "#     test_processed_target\n",
    "# ]:\n",
    "#     for s_x, s_y, q_x, q_y, _ in ds:\n",
    "#         for X in (s_x, q_x):\n",
    "#             for x in X:\n",
    "#                 assert np.isclose(get_average_magnitude(x.numpy()), 1.0)\n",
    "#                 assert np.isclose(get_average_power(x.numpy()), 1.0)\n",
    "                "
   ]
  },
  {
   "cell_type": "code",
   "execution_count": 21,
   "id": "bbdacba1",
   "metadata": {
    "execution": {
     "iopub.execute_input": "2022-03-26T00:23:01.806383Z",
     "iopub.status.busy": "2022-03-26T00:23:01.803619Z",
     "iopub.status.idle": "2022-03-26T00:23:01.857088Z",
     "shell.execute_reply": "2022-03-26T00:23:01.856610Z"
    },
    "papermill": {
     "duration": 0.072856,
     "end_time": "2022-03-26T00:23:01.857203",
     "exception": false,
     "start_time": "2022-03-26T00:23:01.784347",
     "status": "completed"
    },
    "tags": []
   },
   "outputs": [
    {
     "name": "stdout",
     "output_type": "stream",
     "text": [
      "(2, 200)\n"
     ]
    }
   ],
   "source": [
    "###################################\n",
    "# Build the model\n",
    "###################################\n",
    "# easfsl only wants a tuple for the shape\n",
    "model = Steves_Prototypical_Network(x_net, device=p.device, x_shape=tuple(p.x_shape))\n",
    "optimizer = Adam(params=model.parameters(), lr=p.lr)"
   ]
  },
  {
   "cell_type": "code",
   "execution_count": 22,
   "id": "22b39ac5",
   "metadata": {
    "execution": {
     "iopub.execute_input": "2022-03-26T00:23:01.894992Z",
     "iopub.status.busy": "2022-03-26T00:23:01.893004Z",
     "iopub.status.idle": "2022-03-26T01:34:40.513355Z",
     "shell.execute_reply": "2022-03-26T01:34:40.513047Z"
    },
    "papermill": {
     "duration": 4298.637761,
     "end_time": "2022-03-26T01:34:40.513429",
     "exception": false,
     "start_time": "2022-03-26T00:23:01.875668",
     "status": "completed"
    },
    "tags": []
   },
   "outputs": [
    {
     "name": "stdout",
     "output_type": "stream",
     "text": [
      "epoch: 1, [batch: 1 / 6720], examples_per_second: 44.7463, train_label_loss: 2.9699, \n"
     ]
    },
    {
     "name": "stdout",
     "output_type": "stream",
     "text": [
      "epoch: 1, [batch: 672 / 6720], examples_per_second: 1928.2378, train_label_loss: 0.9301, \n"
     ]
    },
    {
     "name": "stdout",
     "output_type": "stream",
     "text": [
      "epoch: 1, [batch: 1344 / 6720], examples_per_second: 1922.7176, train_label_loss: 0.8978, \n"
     ]
    },
    {
     "name": "stdout",
     "output_type": "stream",
     "text": [
      "epoch: 1, [batch: 2016 / 6720], examples_per_second: 1935.9720, train_label_loss: 0.8696, \n"
     ]
    },
    {
     "name": "stdout",
     "output_type": "stream",
     "text": [
      "epoch: 1, [batch: 2688 / 6720], examples_per_second: 1993.2217, train_label_loss: 1.0293, \n"
     ]
    },
    {
     "name": "stdout",
     "output_type": "stream",
     "text": [
      "epoch: 1, [batch: 3360 / 6720], examples_per_second: 2465.2805, train_label_loss: 0.9139, \n"
     ]
    },
    {
     "name": "stdout",
     "output_type": "stream",
     "text": [
      "epoch: 1, [batch: 4032 / 6720], examples_per_second: 2114.3170, train_label_loss: 1.0257, \n"
     ]
    },
    {
     "name": "stdout",
     "output_type": "stream",
     "text": [
      "epoch: 1, [batch: 4704 / 6720], examples_per_second: 1918.1846, train_label_loss: 0.6385, \n"
     ]
    },
    {
     "name": "stdout",
     "output_type": "stream",
     "text": [
      "epoch: 1, [batch: 5376 / 6720], examples_per_second: 1920.3313, train_label_loss: 0.6848, \n"
     ]
    },
    {
     "name": "stdout",
     "output_type": "stream",
     "text": [
      "epoch: 1, [batch: 6048 / 6720], examples_per_second: 1935.7309, train_label_loss: 0.8392, \n"
     ]
    },
    {
     "name": "stdout",
     "output_type": "stream",
     "text": [
      "=============================================================\n",
      "epoch: 1, source_val_acc_label: 0.6460, target_val_acc_label: 0.7300, source_val_label_loss: 1.0137, target_val_label_loss: 1.8988, \n",
      "=============================================================\n"
     ]
    },
    {
     "name": "stdout",
     "output_type": "stream",
     "text": [
      "New best\n"
     ]
    },
    {
     "name": "stdout",
     "output_type": "stream",
     "text": [
      "epoch: 2, [batch: 1 / 6720], examples_per_second: 2.7909, train_label_loss: 0.7411, \n"
     ]
    },
    {
     "name": "stdout",
     "output_type": "stream",
     "text": [
      "epoch: 2, [batch: 672 / 6720], examples_per_second: 1930.8206, train_label_loss: 0.8854, \n"
     ]
    },
    {
     "name": "stdout",
     "output_type": "stream",
     "text": [
      "epoch: 2, [batch: 1344 / 6720], examples_per_second: 1956.8829, train_label_loss: 1.2405, \n"
     ]
    },
    {
     "name": "stdout",
     "output_type": "stream",
     "text": [
      "epoch: 2, [batch: 2016 / 6720], examples_per_second: 1948.7389, train_label_loss: 0.4687, \n"
     ]
    },
    {
     "name": "stdout",
     "output_type": "stream",
     "text": [
      "epoch: 2, [batch: 2688 / 6720], examples_per_second: 2022.7153, train_label_loss: 0.7118, \n"
     ]
    },
    {
     "name": "stdout",
     "output_type": "stream",
     "text": [
      "epoch: 2, [batch: 3360 / 6720], examples_per_second: 2477.7570, train_label_loss: 0.6113, \n"
     ]
    },
    {
     "name": "stdout",
     "output_type": "stream",
     "text": [
      "epoch: 2, [batch: 4032 / 6720], examples_per_second: 2144.9081, train_label_loss: 0.5554, \n"
     ]
    },
    {
     "name": "stdout",
     "output_type": "stream",
     "text": [
      "epoch: 2, [batch: 4704 / 6720], examples_per_second: 1954.4064, train_label_loss: 0.4036, \n"
     ]
    },
    {
     "name": "stdout",
     "output_type": "stream",
     "text": [
      "epoch: 2, [batch: 5376 / 6720], examples_per_second: 1957.0634, train_label_loss: 1.3250, \n"
     ]
    },
    {
     "name": "stdout",
     "output_type": "stream",
     "text": [
      "epoch: 2, [batch: 6048 / 6720], examples_per_second: 1939.7506, train_label_loss: 0.4451, \n"
     ]
    },
    {
     "name": "stdout",
     "output_type": "stream",
     "text": [
      "=============================================================\n",
      "epoch: 2, source_val_acc_label: 0.7501, target_val_acc_label: 0.8048, source_val_label_loss: 0.6788, target_val_label_loss: 1.4737, \n",
      "=============================================================\n"
     ]
    },
    {
     "name": "stdout",
     "output_type": "stream",
     "text": [
      "New best\n"
     ]
    },
    {
     "name": "stdout",
     "output_type": "stream",
     "text": [
      "epoch: 3, [batch: 1 / 6720], examples_per_second: 2.8181, train_label_loss: 0.9989, \n"
     ]
    },
    {
     "name": "stdout",
     "output_type": "stream",
     "text": [
      "epoch: 3, [batch: 672 / 6720], examples_per_second: 1976.4390, train_label_loss: 0.6385, \n"
     ]
    },
    {
     "name": "stdout",
     "output_type": "stream",
     "text": [
      "epoch: 3, [batch: 1344 / 6720], examples_per_second: 1911.3604, train_label_loss: 1.0593, \n"
     ]
    },
    {
     "name": "stdout",
     "output_type": "stream",
     "text": [
      "epoch: 3, [batch: 2016 / 6720], examples_per_second: 1888.4273, train_label_loss: 0.6856, \n"
     ]
    },
    {
     "name": "stdout",
     "output_type": "stream",
     "text": [
      "epoch: 3, [batch: 2688 / 6720], examples_per_second: 1986.6425, train_label_loss: 0.4146, \n"
     ]
    },
    {
     "name": "stdout",
     "output_type": "stream",
     "text": [
      "epoch: 3, [batch: 3360 / 6720], examples_per_second: 2508.9936, train_label_loss: 0.2981, \n"
     ]
    },
    {
     "name": "stdout",
     "output_type": "stream",
     "text": [
      "epoch: 3, [batch: 4032 / 6720], examples_per_second: 2122.1185, train_label_loss: 0.8379, \n"
     ]
    },
    {
     "name": "stdout",
     "output_type": "stream",
     "text": [
      "epoch: 3, [batch: 4704 / 6720], examples_per_second: 1935.5198, train_label_loss: 0.4155, \n"
     ]
    },
    {
     "name": "stdout",
     "output_type": "stream",
     "text": [
      "epoch: 3, [batch: 5376 / 6720], examples_per_second: 1921.7874, train_label_loss: 0.2307, \n"
     ]
    },
    {
     "name": "stdout",
     "output_type": "stream",
     "text": [
      "epoch: 3, [batch: 6048 / 6720], examples_per_second: 1912.9416, train_label_loss: 0.7489, \n"
     ]
    },
    {
     "name": "stdout",
     "output_type": "stream",
     "text": [
      "=============================================================\n",
      "epoch: 3, source_val_acc_label: 0.7889, target_val_acc_label: 0.8029, source_val_label_loss: 0.5763, target_val_label_loss: 1.6113, \n",
      "=============================================================\n"
     ]
    },
    {
     "name": "stdout",
     "output_type": "stream",
     "text": [
      "epoch: 4, [batch: 1 / 6720], examples_per_second: 2.8145, train_label_loss: 0.3683, \n"
     ]
    },
    {
     "name": "stdout",
     "output_type": "stream",
     "text": [
      "epoch: 4, [batch: 672 / 6720], examples_per_second: 1949.3429, train_label_loss: 0.3392, \n"
     ]
    },
    {
     "name": "stdout",
     "output_type": "stream",
     "text": [
      "epoch: 4, [batch: 1344 / 6720], examples_per_second: 1929.6819, train_label_loss: 0.2828, \n"
     ]
    },
    {
     "name": "stdout",
     "output_type": "stream",
     "text": [
      "epoch: 4, [batch: 2016 / 6720], examples_per_second: 1929.8458, train_label_loss: 0.2297, \n"
     ]
    },
    {
     "name": "stdout",
     "output_type": "stream",
     "text": [
      "epoch: 4, [batch: 2688 / 6720], examples_per_second: 2006.3208, train_label_loss: 0.4920, \n"
     ]
    },
    {
     "name": "stdout",
     "output_type": "stream",
     "text": [
      "epoch: 4, [batch: 3360 / 6720], examples_per_second: 2471.0551, train_label_loss: 0.3836, \n"
     ]
    },
    {
     "name": "stdout",
     "output_type": "stream",
     "text": [
      "epoch: 4, [batch: 4032 / 6720], examples_per_second: 2116.0935, train_label_loss: 0.4837, \n"
     ]
    },
    {
     "name": "stdout",
     "output_type": "stream",
     "text": [
      "epoch: 4, [batch: 4704 / 6720], examples_per_second: 1936.3722, train_label_loss: 0.3847, \n"
     ]
    },
    {
     "name": "stdout",
     "output_type": "stream",
     "text": [
      "epoch: 4, [batch: 5376 / 6720], examples_per_second: 1900.8054, train_label_loss: 0.4360, \n"
     ]
    },
    {
     "name": "stdout",
     "output_type": "stream",
     "text": [
      "epoch: 4, [batch: 6048 / 6720], examples_per_second: 1942.8934, train_label_loss: 0.3084, \n"
     ]
    },
    {
     "name": "stdout",
     "output_type": "stream",
     "text": [
      "=============================================================\n",
      "epoch: 4, source_val_acc_label: 0.8218, target_val_acc_label: 0.7947, source_val_label_loss: 0.4798, target_val_label_loss: 1.7375, \n",
      "=============================================================\n"
     ]
    },
    {
     "name": "stdout",
     "output_type": "stream",
     "text": [
      "epoch: 5, [batch: 1 / 6720], examples_per_second: 2.8177, train_label_loss: 0.7055, \n"
     ]
    },
    {
     "name": "stdout",
     "output_type": "stream",
     "text": [
      "epoch: 5, [batch: 672 / 6720], examples_per_second: 1949.6780, train_label_loss: 0.8316, \n"
     ]
    },
    {
     "name": "stdout",
     "output_type": "stream",
     "text": [
      "epoch: 5, [batch: 1344 / 6720], examples_per_second: 1956.9056, train_label_loss: 0.2990, \n"
     ]
    },
    {
     "name": "stdout",
     "output_type": "stream",
     "text": [
      "epoch: 5, [batch: 2016 / 6720], examples_per_second: 1927.6896, train_label_loss: 1.0329, \n"
     ]
    },
    {
     "name": "stdout",
     "output_type": "stream",
     "text": [
      "epoch: 5, [batch: 2688 / 6720], examples_per_second: 2018.6776, train_label_loss: 0.4928, \n"
     ]
    },
    {
     "name": "stdout",
     "output_type": "stream",
     "text": [
      "epoch: 5, [batch: 3360 / 6720], examples_per_second: 2437.8963, train_label_loss: 0.9824, \n"
     ]
    },
    {
     "name": "stdout",
     "output_type": "stream",
     "text": [
      "epoch: 5, [batch: 4032 / 6720], examples_per_second: 2097.8996, train_label_loss: 0.1931, \n"
     ]
    },
    {
     "name": "stdout",
     "output_type": "stream",
     "text": [
      "epoch: 5, [batch: 4704 / 6720], examples_per_second: 1966.9961, train_label_loss: 0.4522, \n"
     ]
    },
    {
     "name": "stdout",
     "output_type": "stream",
     "text": [
      "epoch: 5, [batch: 5376 / 6720], examples_per_second: 1969.1029, train_label_loss: 0.3334, \n"
     ]
    },
    {
     "name": "stdout",
     "output_type": "stream",
     "text": [
      "epoch: 5, [batch: 6048 / 6720], examples_per_second: 1942.0059, train_label_loss: 0.5666, \n"
     ]
    },
    {
     "name": "stdout",
     "output_type": "stream",
     "text": [
      "=============================================================\n",
      "epoch: 5, source_val_acc_label: 0.8345, target_val_acc_label: 0.8065, source_val_label_loss: 0.4483, target_val_label_loss: 1.5280, \n",
      "=============================================================\n"
     ]
    },
    {
     "name": "stdout",
     "output_type": "stream",
     "text": [
      "New best\n"
     ]
    },
    {
     "name": "stdout",
     "output_type": "stream",
     "text": [
      "epoch: 6, [batch: 1 / 6720], examples_per_second: 2.8519, train_label_loss: 0.3039, \n"
     ]
    },
    {
     "name": "stdout",
     "output_type": "stream",
     "text": [
      "epoch: 6, [batch: 672 / 6720], examples_per_second: 1976.2812, train_label_loss: 0.0972, \n"
     ]
    },
    {
     "name": "stdout",
     "output_type": "stream",
     "text": [
      "epoch: 6, [batch: 1344 / 6720], examples_per_second: 1974.1046, train_label_loss: 0.3573, \n"
     ]
    },
    {
     "name": "stdout",
     "output_type": "stream",
     "text": [
      "epoch: 6, [batch: 2016 / 6720], examples_per_second: 1974.6152, train_label_loss: 0.4607, \n"
     ]
    },
    {
     "name": "stdout",
     "output_type": "stream",
     "text": [
      "epoch: 6, [batch: 2688 / 6720], examples_per_second: 2044.1328, train_label_loss: 0.3782, \n"
     ]
    },
    {
     "name": "stdout",
     "output_type": "stream",
     "text": [
      "epoch: 6, [batch: 3360 / 6720], examples_per_second: 2506.6081, train_label_loss: 0.3539, \n"
     ]
    },
    {
     "name": "stdout",
     "output_type": "stream",
     "text": [
      "epoch: 6, [batch: 4032 / 6720], examples_per_second: 2173.3928, train_label_loss: 0.4069, \n"
     ]
    },
    {
     "name": "stdout",
     "output_type": "stream",
     "text": [
      "epoch: 6, [batch: 4704 / 6720], examples_per_second: 1970.2353, train_label_loss: 0.4938, \n"
     ]
    },
    {
     "name": "stdout",
     "output_type": "stream",
     "text": [
      "epoch: 6, [batch: 5376 / 6720], examples_per_second: 1973.1801, train_label_loss: 0.4619, \n"
     ]
    },
    {
     "name": "stdout",
     "output_type": "stream",
     "text": [
      "epoch: 6, [batch: 6048 / 6720], examples_per_second: 1977.6118, train_label_loss: 0.2193, \n"
     ]
    },
    {
     "name": "stdout",
     "output_type": "stream",
     "text": [
      "=============================================================\n",
      "epoch: 6, source_val_acc_label: 0.8348, target_val_acc_label: 0.8016, source_val_label_loss: 0.4477, target_val_label_loss: 1.8905, \n",
      "=============================================================\n"
     ]
    },
    {
     "name": "stdout",
     "output_type": "stream",
     "text": [
      "epoch: 7, [batch: 1 / 6720], examples_per_second: 2.8621, train_label_loss: 0.1689, \n"
     ]
    },
    {
     "name": "stdout",
     "output_type": "stream",
     "text": [
      "epoch: 7, [batch: 672 / 6720], examples_per_second: 1960.3666, train_label_loss: 0.2256, \n"
     ]
    },
    {
     "name": "stdout",
     "output_type": "stream",
     "text": [
      "epoch: 7, [batch: 1344 / 6720], examples_per_second: 1991.6866, train_label_loss: 0.3393, \n"
     ]
    },
    {
     "name": "stdout",
     "output_type": "stream",
     "text": [
      "epoch: 7, [batch: 2016 / 6720], examples_per_second: 1990.4907, train_label_loss: 0.3606, \n"
     ]
    },
    {
     "name": "stdout",
     "output_type": "stream",
     "text": [
      "epoch: 7, [batch: 2688 / 6720], examples_per_second: 2061.9129, train_label_loss: 0.0588, \n"
     ]
    },
    {
     "name": "stdout",
     "output_type": "stream",
     "text": [
      "epoch: 7, [batch: 3360 / 6720], examples_per_second: 2537.6268, train_label_loss: 0.0908, \n"
     ]
    },
    {
     "name": "stdout",
     "output_type": "stream",
     "text": [
      "epoch: 7, [batch: 4032 / 6720], examples_per_second: 2163.1926, train_label_loss: 0.1538, \n"
     ]
    },
    {
     "name": "stdout",
     "output_type": "stream",
     "text": [
      "epoch: 7, [batch: 4704 / 6720], examples_per_second: 1986.6407, train_label_loss: 0.2568, \n"
     ]
    },
    {
     "name": "stdout",
     "output_type": "stream",
     "text": [
      "epoch: 7, [batch: 5376 / 6720], examples_per_second: 1989.4511, train_label_loss: 0.4318, \n"
     ]
    },
    {
     "name": "stdout",
     "output_type": "stream",
     "text": [
      "epoch: 7, [batch: 6048 / 6720], examples_per_second: 1995.4838, train_label_loss: 0.3604, \n"
     ]
    },
    {
     "name": "stdout",
     "output_type": "stream",
     "text": [
      "=============================================================\n",
      "epoch: 7, source_val_acc_label: 0.8431, target_val_acc_label: 0.8120, source_val_label_loss: 0.4260, target_val_label_loss: 1.6106, \n",
      "=============================================================\n"
     ]
    },
    {
     "name": "stdout",
     "output_type": "stream",
     "text": [
      "New best\n"
     ]
    },
    {
     "name": "stdout",
     "output_type": "stream",
     "text": [
      "epoch: 8, [batch: 1 / 6720], examples_per_second: 2.8763, train_label_loss: 0.5314, \n"
     ]
    },
    {
     "name": "stdout",
     "output_type": "stream",
     "text": [
      "epoch: 8, [batch: 672 / 6720], examples_per_second: 1992.3998, train_label_loss: 0.1958, \n"
     ]
    },
    {
     "name": "stdout",
     "output_type": "stream",
     "text": [
      "epoch: 8, [batch: 1344 / 6720], examples_per_second: 1990.8019, train_label_loss: 0.1649, \n"
     ]
    },
    {
     "name": "stdout",
     "output_type": "stream",
     "text": [
      "epoch: 8, [batch: 2016 / 6720], examples_per_second: 1988.9602, train_label_loss: 0.5360, \n"
     ]
    },
    {
     "name": "stdout",
     "output_type": "stream",
     "text": [
      "epoch: 8, [batch: 2688 / 6720], examples_per_second: 2079.9958, train_label_loss: 0.4360, \n"
     ]
    },
    {
     "name": "stdout",
     "output_type": "stream",
     "text": [
      "epoch: 8, [batch: 3360 / 6720], examples_per_second: 2569.5746, train_label_loss: 0.8584, \n"
     ]
    },
    {
     "name": "stdout",
     "output_type": "stream",
     "text": [
      "epoch: 8, [batch: 4032 / 6720], examples_per_second: 2131.6057, train_label_loss: 0.3807, \n"
     ]
    },
    {
     "name": "stdout",
     "output_type": "stream",
     "text": [
      "epoch: 8, [batch: 4704 / 6720], examples_per_second: 1984.9078, train_label_loss: 0.1234, \n"
     ]
    },
    {
     "name": "stdout",
     "output_type": "stream",
     "text": [
      "epoch: 8, [batch: 5376 / 6720], examples_per_second: 1975.4914, train_label_loss: 0.1163, \n"
     ]
    },
    {
     "name": "stdout",
     "output_type": "stream",
     "text": [
      "epoch: 8, [batch: 6048 / 6720], examples_per_second: 1990.1143, train_label_loss: 0.3706, \n"
     ]
    },
    {
     "name": "stdout",
     "output_type": "stream",
     "text": [
      "=============================================================\n",
      "epoch: 8, source_val_acc_label: 0.8561, target_val_acc_label: 0.8057, source_val_label_loss: 0.3951, target_val_label_loss: 1.7951, \n",
      "=============================================================\n"
     ]
    },
    {
     "name": "stdout",
     "output_type": "stream",
     "text": [
      "epoch: 9, [batch: 1 / 6720], examples_per_second: 2.8386, train_label_loss: 0.5127, \n"
     ]
    },
    {
     "name": "stdout",
     "output_type": "stream",
     "text": [
      "epoch: 9, [batch: 672 / 6720], examples_per_second: 1939.3097, train_label_loss: 0.4960, \n"
     ]
    },
    {
     "name": "stdout",
     "output_type": "stream",
     "text": [
      "epoch: 9, [batch: 1344 / 6720], examples_per_second: 1906.0983, train_label_loss: 0.1308, \n"
     ]
    },
    {
     "name": "stdout",
     "output_type": "stream",
     "text": [
      "epoch: 9, [batch: 2016 / 6720], examples_per_second: 1916.2023, train_label_loss: 0.2658, \n"
     ]
    },
    {
     "name": "stdout",
     "output_type": "stream",
     "text": [
      "epoch: 9, [batch: 2688 / 6720], examples_per_second: 2035.2669, train_label_loss: 0.3394, \n"
     ]
    },
    {
     "name": "stdout",
     "output_type": "stream",
     "text": [
      "epoch: 9, [batch: 3360 / 6720], examples_per_second: 2512.1183, train_label_loss: 0.4870, \n"
     ]
    },
    {
     "name": "stdout",
     "output_type": "stream",
     "text": [
      "epoch: 9, [batch: 4032 / 6720], examples_per_second: 2063.0223, train_label_loss: 0.1287, \n"
     ]
    },
    {
     "name": "stdout",
     "output_type": "stream",
     "text": [
      "epoch: 9, [batch: 4704 / 6720], examples_per_second: 1924.8910, train_label_loss: 0.0755, \n"
     ]
    },
    {
     "name": "stdout",
     "output_type": "stream",
     "text": [
      "epoch: 9, [batch: 5376 / 6720], examples_per_second: 1919.6538, train_label_loss: 0.0668, \n"
     ]
    },
    {
     "name": "stdout",
     "output_type": "stream",
     "text": [
      "epoch: 9, [batch: 6048 / 6720], examples_per_second: 1899.3597, train_label_loss: 0.3765, \n"
     ]
    },
    {
     "name": "stdout",
     "output_type": "stream",
     "text": [
      "=============================================================\n",
      "epoch: 9, source_val_acc_label: 0.8595, target_val_acc_label: 0.7978, source_val_label_loss: 0.3819, target_val_label_loss: 1.9894, \n",
      "=============================================================\n"
     ]
    },
    {
     "name": "stdout",
     "output_type": "stream",
     "text": [
      "epoch: 10, [batch: 1 / 6720], examples_per_second: 2.7593, train_label_loss: 0.2666, \n"
     ]
    },
    {
     "name": "stdout",
     "output_type": "stream",
     "text": [
      "epoch: 10, [batch: 672 / 6720], examples_per_second: 1918.3352, train_label_loss: 0.2604, \n"
     ]
    },
    {
     "name": "stdout",
     "output_type": "stream",
     "text": [
      "epoch: 10, [batch: 1344 / 6720], examples_per_second: 1892.2003, train_label_loss: 0.1585, \n"
     ]
    },
    {
     "name": "stdout",
     "output_type": "stream",
     "text": [
      "epoch: 10, [batch: 2016 / 6720], examples_per_second: 1948.7078, train_label_loss: 0.1269, \n"
     ]
    },
    {
     "name": "stdout",
     "output_type": "stream",
     "text": [
      "epoch: 10, [batch: 2688 / 6720], examples_per_second: 1993.2714, train_label_loss: 0.2842, \n"
     ]
    },
    {
     "name": "stdout",
     "output_type": "stream",
     "text": [
      "epoch: 10, [batch: 3360 / 6720], examples_per_second: 2425.8430, train_label_loss: 0.2140, \n"
     ]
    },
    {
     "name": "stdout",
     "output_type": "stream",
     "text": [
      "epoch: 10, [batch: 4032 / 6720], examples_per_second: 2365.7452, train_label_loss: 0.5941, \n"
     ]
    },
    {
     "name": "stdout",
     "output_type": "stream",
     "text": [
      "epoch: 10, [batch: 4704 / 6720], examples_per_second: 2400.4736, train_label_loss: 0.4997, \n"
     ]
    },
    {
     "name": "stdout",
     "output_type": "stream",
     "text": [
      "epoch: 10, [batch: 5376 / 6720], examples_per_second: 2369.4470, train_label_loss: 0.1113, \n"
     ]
    },
    {
     "name": "stdout",
     "output_type": "stream",
     "text": [
      "epoch: 10, [batch: 6048 / 6720], examples_per_second: 2322.9765, train_label_loss: 0.1245, \n"
     ]
    },
    {
     "name": "stdout",
     "output_type": "stream",
     "text": [
      "=============================================================\n",
      "epoch: 10, source_val_acc_label: 0.8663, target_val_acc_label: 0.8020, source_val_label_loss: 0.3643, target_val_label_loss: 1.9659, \n",
      "=============================================================\n"
     ]
    },
    {
     "name": "stdout",
     "output_type": "stream",
     "text": [
      "epoch: 11, [batch: 1 / 6720], examples_per_second: 4.7976, train_label_loss: 0.2546, \n"
     ]
    },
    {
     "name": "stdout",
     "output_type": "stream",
     "text": [
      "epoch: 11, [batch: 672 / 6720], examples_per_second: 3694.2767, train_label_loss: 0.7201, \n"
     ]
    },
    {
     "name": "stdout",
     "output_type": "stream",
     "text": [
      "epoch: 11, [batch: 1344 / 6720], examples_per_second: 3721.2276, train_label_loss: 0.2198, \n"
     ]
    },
    {
     "name": "stdout",
     "output_type": "stream",
     "text": [
      "epoch: 11, [batch: 2016 / 6720], examples_per_second: 3750.7351, train_label_loss: 0.3598, \n"
     ]
    },
    {
     "name": "stdout",
     "output_type": "stream",
     "text": [
      "epoch: 11, [batch: 2688 / 6720], examples_per_second: 3731.2280, train_label_loss: 0.1930, \n"
     ]
    },
    {
     "name": "stdout",
     "output_type": "stream",
     "text": [
      "epoch: 11, [batch: 3360 / 6720], examples_per_second: 3787.5951, train_label_loss: 0.4635, \n"
     ]
    },
    {
     "name": "stdout",
     "output_type": "stream",
     "text": [
      "epoch: 11, [batch: 4032 / 6720], examples_per_second: 3751.1295, train_label_loss: 0.3678, \n"
     ]
    },
    {
     "name": "stdout",
     "output_type": "stream",
     "text": [
      "epoch: 11, [batch: 4704 / 6720], examples_per_second: 2512.1077, train_label_loss: 0.2101, \n"
     ]
    },
    {
     "name": "stdout",
     "output_type": "stream",
     "text": [
      "epoch: 11, [batch: 5376 / 6720], examples_per_second: 1963.4395, train_label_loss: 0.2286, \n"
     ]
    },
    {
     "name": "stdout",
     "output_type": "stream",
     "text": [
      "epoch: 11, [batch: 6048 / 6720], examples_per_second: 1959.3413, train_label_loss: 0.5840, \n"
     ]
    },
    {
     "name": "stdout",
     "output_type": "stream",
     "text": [
      "=============================================================\n",
      "epoch: 11, source_val_acc_label: 0.8777, target_val_acc_label: 0.8236, source_val_label_loss: 0.3365, target_val_label_loss: 1.9397, \n",
      "=============================================================\n"
     ]
    },
    {
     "name": "stdout",
     "output_type": "stream",
     "text": [
      "New best\n"
     ]
    },
    {
     "name": "stdout",
     "output_type": "stream",
     "text": [
      "epoch: 12, [batch: 1 / 6720], examples_per_second: 2.8222, train_label_loss: 0.4196, \n"
     ]
    },
    {
     "name": "stdout",
     "output_type": "stream",
     "text": [
      "epoch: 12, [batch: 672 / 6720], examples_per_second: 1962.9803, train_label_loss: 0.2236, \n"
     ]
    },
    {
     "name": "stdout",
     "output_type": "stream",
     "text": [
      "epoch: 12, [batch: 1344 / 6720], examples_per_second: 1966.1585, train_label_loss: 0.1978, \n"
     ]
    },
    {
     "name": "stdout",
     "output_type": "stream",
     "text": [
      "epoch: 12, [batch: 2016 / 6720], examples_per_second: 1962.4399, train_label_loss: 0.0912, \n"
     ]
    },
    {
     "name": "stdout",
     "output_type": "stream",
     "text": [
      "epoch: 12, [batch: 2688 / 6720], examples_per_second: 1956.3766, train_label_loss: 0.3649, \n"
     ]
    },
    {
     "name": "stdout",
     "output_type": "stream",
     "text": [
      "epoch: 12, [batch: 3360 / 6720], examples_per_second: 1949.1073, train_label_loss: 0.3158, \n"
     ]
    },
    {
     "name": "stdout",
     "output_type": "stream",
     "text": [
      "epoch: 12, [batch: 4032 / 6720], examples_per_second: 2408.2871, train_label_loss: 0.0883, \n"
     ]
    },
    {
     "name": "stdout",
     "output_type": "stream",
     "text": [
      "epoch: 12, [batch: 4704 / 6720], examples_per_second: 2332.4963, train_label_loss: 0.1789, \n"
     ]
    },
    {
     "name": "stdout",
     "output_type": "stream",
     "text": [
      "epoch: 12, [batch: 5376 / 6720], examples_per_second: 1983.3258, train_label_loss: 0.2805, \n"
     ]
    },
    {
     "name": "stdout",
     "output_type": "stream",
     "text": [
      "epoch: 12, [batch: 6048 / 6720], examples_per_second: 1983.3244, train_label_loss: 0.0586, \n"
     ]
    },
    {
     "name": "stdout",
     "output_type": "stream",
     "text": [
      "=============================================================\n",
      "epoch: 12, source_val_acc_label: 0.8784, target_val_acc_label: 0.8141, source_val_label_loss: 0.3345, target_val_label_loss: 1.9060, \n",
      "=============================================================\n"
     ]
    },
    {
     "name": "stdout",
     "output_type": "stream",
     "text": [
      "epoch: 13, [batch: 1 / 6720], examples_per_second: 2.8688, train_label_loss: 0.0777, \n"
     ]
    },
    {
     "name": "stdout",
     "output_type": "stream",
     "text": [
      "epoch: 13, [batch: 672 / 6720], examples_per_second: 1984.8521, train_label_loss: 0.5118, \n"
     ]
    },
    {
     "name": "stdout",
     "output_type": "stream",
     "text": [
      "epoch: 13, [batch: 1344 / 6720], examples_per_second: 1989.4108, train_label_loss: 0.1339, \n"
     ]
    },
    {
     "name": "stdout",
     "output_type": "stream",
     "text": [
      "epoch: 13, [batch: 2016 / 6720], examples_per_second: 1980.5300, train_label_loss: 0.2671, \n"
     ]
    },
    {
     "name": "stdout",
     "output_type": "stream",
     "text": [
      "epoch: 13, [batch: 2688 / 6720], examples_per_second: 1979.7109, train_label_loss: 0.1848, \n"
     ]
    },
    {
     "name": "stdout",
     "output_type": "stream",
     "text": [
      "epoch: 13, [batch: 3360 / 6720], examples_per_second: 1991.7476, train_label_loss: 0.1871, \n"
     ]
    },
    {
     "name": "stdout",
     "output_type": "stream",
     "text": [
      "epoch: 13, [batch: 4032 / 6720], examples_per_second: 2454.2665, train_label_loss: 0.3493, \n"
     ]
    },
    {
     "name": "stdout",
     "output_type": "stream",
     "text": [
      "epoch: 13, [batch: 4704 / 6720], examples_per_second: 2320.8175, train_label_loss: 0.1885, \n"
     ]
    },
    {
     "name": "stdout",
     "output_type": "stream",
     "text": [
      "epoch: 13, [batch: 5376 / 6720], examples_per_second: 1984.4751, train_label_loss: 0.2967, \n"
     ]
    },
    {
     "name": "stdout",
     "output_type": "stream",
     "text": [
      "epoch: 13, [batch: 6048 / 6720], examples_per_second: 1983.2881, train_label_loss: 0.2369, \n"
     ]
    },
    {
     "name": "stdout",
     "output_type": "stream",
     "text": [
      "=============================================================\n",
      "epoch: 13, source_val_acc_label: 0.8782, target_val_acc_label: 0.8057, source_val_label_loss: 0.3413, target_val_label_loss: 2.1540, \n",
      "=============================================================\n"
     ]
    },
    {
     "name": "stdout",
     "output_type": "stream",
     "text": [
      "epoch: 14, [batch: 1 / 6720], examples_per_second: 2.8723, train_label_loss: 0.2046, \n"
     ]
    },
    {
     "name": "stdout",
     "output_type": "stream",
     "text": [
      "epoch: 14, [batch: 672 / 6720], examples_per_second: 1984.6801, train_label_loss: 0.1272, \n"
     ]
    },
    {
     "name": "stdout",
     "output_type": "stream",
     "text": [
      "epoch: 14, [batch: 1344 / 6720], examples_per_second: 1989.4353, train_label_loss: 0.6148, \n"
     ]
    },
    {
     "name": "stdout",
     "output_type": "stream",
     "text": [
      "epoch: 14, [batch: 2016 / 6720], examples_per_second: 1983.6638, train_label_loss: 0.2689, \n"
     ]
    },
    {
     "name": "stdout",
     "output_type": "stream",
     "text": [
      "epoch: 14, [batch: 2688 / 6720], examples_per_second: 1980.8084, train_label_loss: 0.1985, \n"
     ]
    },
    {
     "name": "stdout",
     "output_type": "stream",
     "text": [
      "epoch: 14, [batch: 3360 / 6720], examples_per_second: 2000.2107, train_label_loss: 0.1293, \n"
     ]
    },
    {
     "name": "stdout",
     "output_type": "stream",
     "text": [
      "epoch: 14, [batch: 4032 / 6720], examples_per_second: 2436.8053, train_label_loss: 0.0831, \n"
     ]
    },
    {
     "name": "stdout",
     "output_type": "stream",
     "text": [
      "epoch: 14, [batch: 4704 / 6720], examples_per_second: 2309.5637, train_label_loss: 0.1876, \n"
     ]
    },
    {
     "name": "stdout",
     "output_type": "stream",
     "text": [
      "epoch: 14, [batch: 5376 / 6720], examples_per_second: 1984.0894, train_label_loss: 0.0908, \n"
     ]
    },
    {
     "name": "stdout",
     "output_type": "stream",
     "text": [
      "epoch: 14, [batch: 6048 / 6720], examples_per_second: 1983.8467, train_label_loss: 0.1165, \n"
     ]
    },
    {
     "name": "stdout",
     "output_type": "stream",
     "text": [
      "=============================================================\n",
      "epoch: 14, source_val_acc_label: 0.8823, target_val_acc_label: 0.8025, source_val_label_loss: 0.3309, target_val_label_loss: 2.2070, \n",
      "=============================================================\n"
     ]
    },
    {
     "name": "stdout",
     "output_type": "stream",
     "text": [
      "epoch: 15, [batch: 1 / 6720], examples_per_second: 2.8708, train_label_loss: 0.3401, \n"
     ]
    },
    {
     "name": "stdout",
     "output_type": "stream",
     "text": [
      "epoch: 15, [batch: 672 / 6720], examples_per_second: 1986.8872, train_label_loss: 0.2252, \n"
     ]
    },
    {
     "name": "stdout",
     "output_type": "stream",
     "text": [
      "epoch: 15, [batch: 1344 / 6720], examples_per_second: 1988.4516, train_label_loss: 0.1385, \n"
     ]
    },
    {
     "name": "stdout",
     "output_type": "stream",
     "text": [
      "epoch: 15, [batch: 2016 / 6720], examples_per_second: 1985.8748, train_label_loss: 0.3308, \n"
     ]
    },
    {
     "name": "stdout",
     "output_type": "stream",
     "text": [
      "epoch: 15, [batch: 2688 / 6720], examples_per_second: 1980.9386, train_label_loss: 0.0447, \n"
     ]
    },
    {
     "name": "stdout",
     "output_type": "stream",
     "text": [
      "epoch: 15, [batch: 3360 / 6720], examples_per_second: 2012.7218, train_label_loss: 0.1733, \n"
     ]
    },
    {
     "name": "stdout",
     "output_type": "stream",
     "text": [
      "epoch: 15, [batch: 4032 / 6720], examples_per_second: 2448.2394, train_label_loss: 0.3000, \n"
     ]
    },
    {
     "name": "stdout",
     "output_type": "stream",
     "text": [
      "epoch: 15, [batch: 4704 / 6720], examples_per_second: 2288.6924, train_label_loss: 0.2870, \n"
     ]
    },
    {
     "name": "stdout",
     "output_type": "stream",
     "text": [
      "epoch: 15, [batch: 5376 / 6720], examples_per_second: 1983.3428, train_label_loss: 0.0958, \n"
     ]
    },
    {
     "name": "stdout",
     "output_type": "stream",
     "text": [
      "epoch: 15, [batch: 6048 / 6720], examples_per_second: 1984.7032, train_label_loss: 0.1634, \n"
     ]
    },
    {
     "name": "stdout",
     "output_type": "stream",
     "text": [
      "=============================================================\n",
      "epoch: 15, source_val_acc_label: 0.8678, target_val_acc_label: 0.8095, source_val_label_loss: 0.3789, target_val_label_loss: 2.2963, \n",
      "=============================================================\n"
     ]
    },
    {
     "name": "stdout",
     "output_type": "stream",
     "text": [
      "Patience (3) exhausted\n"
     ]
    }
   ],
   "source": [
    "###################################\n",
    "# train\n",
    "###################################\n",
    "jig = PTN_Train_Eval_Test_Jig(model, p.BEST_MODEL_PATH, p.device)\n",
    "\n",
    "jig.train(\n",
    "    train_iterable=datasets.source.processed.train,\n",
    "    source_val_iterable=datasets.source.processed.val,\n",
    "    target_val_iterable=datasets.target.processed.val,\n",
    "    num_epochs=p.n_epoch,\n",
    "    num_logs_per_epoch=p.NUM_LOGS_PER_EPOCH,\n",
    "    patience=p.patience,\n",
    "    optimizer=optimizer,\n",
    "    criteria_for_best=p.criteria_for_best,\n",
    ")"
   ]
  },
  {
   "cell_type": "code",
   "execution_count": 23,
   "id": "31e8fabf",
   "metadata": {
    "execution": {
     "iopub.execute_input": "2022-03-26T01:34:40.611398Z",
     "iopub.status.busy": "2022-03-26T01:34:40.610879Z",
     "iopub.status.idle": "2022-03-26T01:34:40.629325Z",
     "shell.execute_reply": "2022-03-26T01:34:40.629762Z"
    },
    "papermill": {
     "duration": 0.069127,
     "end_time": "2022-03-26T01:34:40.629908",
     "exception": false,
     "start_time": "2022-03-26T01:34:40.560781",
     "status": "completed"
    },
    "tags": []
   },
   "outputs": [],
   "source": [
    "total_experiment_time_secs = time.time() - start_time_secs"
   ]
  },
  {
   "cell_type": "code",
   "execution_count": 24,
   "id": "87b9595b",
   "metadata": {
    "execution": {
     "iopub.execute_input": "2022-03-26T01:34:40.733169Z",
     "iopub.status.busy": "2022-03-26T01:34:40.732884Z",
     "iopub.status.idle": "2022-03-26T01:37:05.806289Z",
     "shell.execute_reply": "2022-03-26T01:37:05.806725Z"
    },
    "papermill": {
     "duration": 145.12743,
     "end_time": "2022-03-26T01:37:05.806862",
     "exception": false,
     "start_time": "2022-03-26T01:34:40.679432",
     "status": "completed"
    },
    "tags": []
   },
   "outputs": [],
   "source": [
    "###################################\n",
    "# Evaluate the model\n",
    "###################################\n",
    "source_test_label_accuracy, source_test_label_loss = jig.test(datasets.source.processed.test)\n",
    "target_test_label_accuracy, target_test_label_loss = jig.test(datasets.target.processed.test)\n",
    "\n",
    "source_val_label_accuracy, source_val_label_loss = jig.test(datasets.source.processed.val)\n",
    "target_val_label_accuracy, target_val_label_loss = jig.test(datasets.target.processed.val)\n",
    "\n",
    "history = jig.get_history()\n",
    "\n",
    "total_epochs_trained = len(history[\"epoch_indices\"])\n",
    "\n",
    "val_dl = Iterable_Aggregator((datasets.source.original.val,datasets.target.original.val))\n",
    "\n",
    "confusion = ptn_confusion_by_domain_over_dataloader(model, p.device, val_dl)\n",
    "per_domain_accuracy = per_domain_accuracy_from_confusion(confusion)\n",
    "\n",
    "# Add a key to per_domain_accuracy for if it was a source domain\n",
    "for domain, accuracy in per_domain_accuracy.items():\n",
    "    per_domain_accuracy[domain] = {\n",
    "        \"accuracy\": accuracy,\n",
    "        \"source?\": domain in p.domains_source\n",
    "    }\n",
    "\n",
    "# Do an independent accuracy assesment JUST TO BE SURE!\n",
    "# _source_test_label_accuracy = independent_accuracy_assesment(model, datasets.source.processed.test, p.device)\n",
    "# _target_test_label_accuracy = independent_accuracy_assesment(model, datasets.target.processed.test, p.device)\n",
    "# _source_val_label_accuracy = independent_accuracy_assesment(model, datasets.source.processed.val, p.device)\n",
    "# _target_val_label_accuracy = independent_accuracy_assesment(model, datasets.target.processed.val, p.device)\n",
    "\n",
    "# assert(_source_test_label_accuracy == source_test_label_accuracy)\n",
    "# assert(_target_test_label_accuracy == target_test_label_accuracy)\n",
    "# assert(_source_val_label_accuracy == source_val_label_accuracy)\n",
    "# assert(_target_val_label_accuracy == target_val_label_accuracy)\n",
    "\n",
    "experiment = {\n",
    "    \"experiment_name\": p.experiment_name,\n",
    "    \"parameters\": dict(p),\n",
    "    \"results\": {\n",
    "        \"source_test_label_accuracy\": source_test_label_accuracy,\n",
    "        \"source_test_label_loss\": source_test_label_loss,\n",
    "        \"target_test_label_accuracy\": target_test_label_accuracy,\n",
    "        \"target_test_label_loss\": target_test_label_loss,\n",
    "        \"source_val_label_accuracy\": source_val_label_accuracy,\n",
    "        \"source_val_label_loss\": source_val_label_loss,\n",
    "        \"target_val_label_accuracy\": target_val_label_accuracy,\n",
    "        \"target_val_label_loss\": target_val_label_loss,\n",
    "        \"total_epochs_trained\": total_epochs_trained,\n",
    "        \"total_experiment_time_secs\": total_experiment_time_secs,\n",
    "        \"confusion\": confusion,\n",
    "        \"per_domain_accuracy\": per_domain_accuracy,\n",
    "    },\n",
    "    \"history\": history,\n",
    "    \"dataset_metrics\": get_dataset_metrics(datasets, \"ptn\"),\n",
    "}"
   ]
  },
  {
   "cell_type": "code",
   "execution_count": 25,
   "id": "54a21829",
   "metadata": {
    "execution": {
     "iopub.execute_input": "2022-03-26T01:37:05.906550Z",
     "iopub.status.busy": "2022-03-26T01:37:05.906286Z",
     "iopub.status.idle": "2022-03-26T01:37:06.029857Z",
     "shell.execute_reply": "2022-03-26T01:37:06.030293Z"
    },
    "papermill": {
     "duration": 0.171905,
     "end_time": "2022-03-26T01:37:06.030424",
     "exception": false,
     "start_time": "2022-03-26T01:37:05.858519",
     "status": "completed"
    },
    "tags": []
   },
   "outputs": [
    {
     "data": {
      "image/png": "[encoded data removed]",
      "text/plain": [
       "<Figure size 1080x504 with 1 Axes>"
      ]
     },
     "metadata": {
      "needs_background": "light"
     },
     "output_type": "display_data"
    }
   ],
   "source": [
    "ax = get_loss_curve(experiment)\n",
    "plt.show()"
   ]
  },
  {
   "cell_type": "code",
   "execution_count": 26,
   "id": "fd8a0f60",
   "metadata": {
    "execution": {
     "iopub.execute_input": "2022-03-26T01:37:06.132333Z",
     "iopub.status.busy": "2022-03-26T01:37:06.132073Z",
     "iopub.status.idle": "2022-03-26T01:37:06.292930Z",
     "shell.execute_reply": "2022-03-26T01:37:06.293162Z"
    },
    "papermill": {
     "duration": 0.210038,
     "end_time": "2022-03-26T01:37:06.293244",
     "exception": false,
     "start_time": "2022-03-26T01:37:06.083206",
     "status": "completed"
    },
    "tags": []
   },
   "outputs": [
    {
     "data": {
      "text/plain": [
       "<AxesSubplot:title={'center':'Results'}>"
      ]
     },
     "execution_count": 26,
     "metadata": {},
     "output_type": "execute_result"
    },
    {
     "data": {
      "image/png": "[encoded data removed]",
      "text/plain": [
       "<Figure size 1080x504 with 1 Axes>"
      ]
     },
     "metadata": {
      "needs_background": "light"
     },
     "output_type": "display_data"
    }
   ],
   "source": [
    "get_results_table(experiment)"
   ]
  },
  {
   "cell_type": "code",
   "execution_count": 27,
   "id": "cf8dc689",
   "metadata": {
    "execution": {
     "iopub.execute_input": "2022-03-26T01:37:06.394975Z",
     "iopub.status.busy": "2022-03-26T01:37:06.394716Z",
     "iopub.status.idle": "2022-03-26T01:37:06.529878Z",
     "shell.execute_reply": "2022-03-26T01:37:06.529408Z"
    },
    "papermill": {
     "duration": 0.18715,
     "end_time": "2022-03-26T01:37:06.529986",
     "exception": false,
     "start_time": "2022-03-26T01:37:06.342836",
     "status": "completed"
    },
    "tags": []
   },
   "outputs": [
    {
     "data": {
      "text/plain": [
       "<AxesSubplot:title={'center':'Per Domain Validation Accuracy'}, xlabel='domain'>"
      ]
     },
     "execution_count": 27,
     "metadata": {},
     "output_type": "execute_result"
    },
    {
     "data": {
      "image/png": "[encoded data removed]",
      "text/plain": [
       "<Figure size 1080x504 with 1 Axes>"
      ]
     },
     "metadata": {
      "needs_background": "light"
     },
     "output_type": "display_data"
    }
   ],
   "source": [
    "get_domain_accuracies(experiment)"
   ]
  },
  {
   "cell_type": "code",
   "execution_count": 28,
   "id": "a74ae082",
   "metadata": {
    "execution": {
     "iopub.execute_input": "2022-03-26T01:37:06.635202Z",
     "iopub.status.busy": "2022-03-26T01:37:06.634942Z",
     "iopub.status.idle": "2022-03-26T01:37:06.651516Z",
     "shell.execute_reply": "2022-03-26T01:37:06.651022Z"
    },
    "papermill": {
     "duration": 0.068618,
     "end_time": "2022-03-26T01:37:06.651620",
     "exception": false,
     "start_time": "2022-03-26T01:37:06.583002",
     "status": "completed"
    },
    "tags": []
   },
   "outputs": [
    {
     "name": "stdout",
     "output_type": "stream",
     "text": [
      "Source Test Label Accuracy: 0.879296875 Target Test Label Accuracy: 0.8200937849944009\n",
      "Source Val Label Accuracy: 0.8776692708333333 Target Val Label Accuracy: 0.8235840961098398\n"
     ]
    }
   ],
   "source": [
    "print(\"Source Test Label Accuracy:\", experiment[\"results\"][\"source_test_label_accuracy\"], \"Target Test Label Accuracy:\", experiment[\"results\"][\"target_test_label_accuracy\"])\n",
    "print(\"Source Val Label Accuracy:\", experiment[\"results\"][\"source_val_label_accuracy\"], \"Target Val Label Accuracy:\", experiment[\"results\"][\"target_val_label_accuracy\"])"
   ]
  },
  {
   "cell_type": "code",
   "execution_count": 29,
   "id": "dacca602",
   "metadata": {
    "execution": {
     "iopub.execute_input": "2022-03-26T01:37:06.757731Z",
     "iopub.status.busy": "2022-03-26T01:37:06.757476Z",
     "iopub.status.idle": "2022-03-26T01:37:06.775035Z",
     "shell.execute_reply": "2022-03-26T01:37:06.775341Z"
    },
    "papermill": {
     "duration": 0.068915,
     "end_time": "2022-03-26T01:37:06.775441",
     "exception": false,
     "start_time": "2022-03-26T01:37:06.706526",
     "status": "completed"
    },
    "tags": [
     "experiment_json"
    ]
   },
   "outputs": [
    {
     "data": {
      "text/plain": [
       "'{\"experiment_name\": \"tl_3-filterv2:oracle.run1.framed -> cores\", \"parameters\": {\"experiment_name\": \"tl_3-filterv2:oracle.run1.framed -> cores\", \"device\": \"cuda\", \"lr\": 0.0001, \"x_shape\": [2, 200], \"n_shot\": 3, \"n_query\": 2, \"train_k_factor\": 3, \"val_k_factor\": 2, \"test_k_factor\": 2, \"torch_default_dtype\": \"torch.float32\", \"n_epoch\": 50, \"patience\": 3, \"criteria_for_best\": \"target_accuracy\", \"x_net\": [{\"class\": \"nnReshape\", \"kargs\": {\"shape\": [-1, 1, 2, 200]}}, {\"class\": \"Conv2d\", \"kargs\": {\"in_channels\": 1, \"out_channels\": 256, \"kernel_size\": [1, 7], \"bias\": false, \"padding\": [0, 3]}}, {\"class\": \"ReLU\", \"kargs\": {\"inplace\": true}}, {\"class\": \"BatchNorm2d\", \"kargs\": {\"num_features\": 256}}, {\"class\": \"Conv2d\", \"kargs\": {\"in_channels\": 256, \"out_channels\": 80, \"kernel_size\": [2, 7], \"bias\": true, \"padding\": [0, 3]}}, {\"class\": \"ReLU\", \"kargs\": {\"inplace\": true}}, {\"class\": \"BatchNorm2d\", \"kargs\": {\"num_features\": 80}}, {\"class\": \"Flatten\", \"kargs\": {}}, {\"class\": \"Linear\", \"kargs\": {\"in_features\": 16000, \"out_features\": 256}}, {\"class\": \"ReLU\", \"kargs\": {\"inplace\": true}}, {\"class\": \"BatchNorm1d\", \"kargs\": {\"num_features\": 256}}, {\"class\": \"Linear\", \"kargs\": {\"in_features\": 256, \"out_features\": 256}}], \"NUM_LOGS_PER_EPOCH\": 10, \"BEST_MODEL_PATH\": \"./best_model.pth\", \"n_way\": 16, \"datasets\": [{\"labels\": [\"1-10.\", \"1-11.\", \"1-15.\", \"1-16.\", \"1-17.\", \"1-18.\", \"1-19.\", \"10-4.\", \"10-7.\", \"11-1.\", \"11-14.\", \"11-17.\", \"11-20.\", \"11-7.\", \"13-20.\", \"13-8.\", \"14-10.\", \"14-11.\", \"14-14.\", \"14-7.\", \"15-1.\", \"15-20.\", \"16-1.\", \"16-16.\", \"17-10.\", \"17-11.\", \"17-2.\", \"19-1.\", \"19-16.\", \"19-19.\", \"19-20.\", \"19-3.\", \"2-10.\", \"2-11.\", \"2-17.\", \"2-18.\", \"2-20.\", \"2-3.\", \"2-4.\", \"2-5.\", \"2-6.\", \"2-7.\", \"2-8.\", \"3-13.\", \"3-18.\", \"3-3.\", \"4-1.\", \"4-10.\", \"4-11.\", \"4-19.\", \"5-5.\", \"6-15.\", \"7-10.\", \"7-14.\", \"8-18.\", \"8-20.\", \"8-3.\", \"8-8.\"], \"domains\": [1, 2, 3, 4, 5], \"num_examples_per_domain_per_label\": -1, \"pickle_path\": \"/mnt/wd500GB/CSC500/csc500-main/datasets/cores.stratified_ds.2022A.pkl\", \"source_or_target_dataset\": \"target\", \"x_transforms\": [\"unit_power\", \"lowpass_+/-10MHz\", \"take_200\"], \"episode_transforms\": [], \"domain_prefix\": \"C_\"}, {\"labels\": [\"3123D52\", \"3123D65\", \"3123D79\", \"3123D80\", \"3123D54\", \"3123D70\", \"3123D7B\", \"3123D89\", \"3123D58\", \"3123D76\", \"3123D7D\", \"3123EFE\", \"3123D64\", \"3123D78\", \"3123D7E\", \"3124E4A\"], \"domains\": [32, 38, 8, 44, 14, 50, 20, 26], \"num_examples_per_domain_per_label\": 2000, \"pickle_path\": \"/mnt/wd500GB/CSC500/csc500-main/datasets/oracle.Run1_framed_2000Examples_stratified_ds.2022A.pkl\", \"source_or_target_dataset\": \"source\", \"x_transforms\": [\"unit_power\", \"take_200\", \"resample_20Msps_to_25Msps\"], \"episode_transforms\": [], \"domain_prefix\": \"O_\"}], \"seed\": 154325, \"dataset_seed\": 154325, \"domains_source\": [\"O_32\", \"O_38\", \"O_8\", \"O_44\", \"O_14\", \"O_50\", \"O_20\", \"O_26\"], \"domains_target\": [\"C_1\", \"C_2\", \"C_3\", \"C_4\", \"C_5\"]}, \"results\": {\"source_test_label_accuracy\": 0.879296875, \"source_test_label_loss\": 0.3356696665287018, \"target_test_label_accuracy\": 0.8200937849944009, \"target_test_label_loss\": 1.9174883365631104, \"source_val_label_accuracy\": 0.8776692708333333, \"source_val_label_loss\": 0.33651402592658997, \"target_val_label_accuracy\": 0.8235840961098398, \"target_val_label_loss\": 1.9397269487380981, \"total_epochs_trained\": 15, \"total_experiment_time_secs\": 4361.546165943146, \"confusion\": {\"O_8\": {\"13\": {\"10\": 27, \"13\": 135, \"4\": 51, \"0\": 17, \"6\": 7, \"14\": 2, \"7\": 1}, \"9\": {\"9\": 240}, \"15\": {\"12\": 12, \"15\": 228}, \"2\": {\"2\": 235, \"3\": 4, \"7\": 1}, \"3\": {\"3\": 237, \"2\": 2, \"12\": 1}, \"8\": {\"8\": 239, \"15\": 1}, \"5\": {\"5\": 237, \"14\": 2, \"1\": 1}, \"14\": {\"14\": 230, \"13\": 3, \"10\": 5, \"5\": 1, \"4\": 1}, \"1\": {\"1\": 229, \"11\": 11}, \"0\": {\"0\": 222, \"4\": 5, \"7\": 4, \"13\": 7, \"6\": 2}, \"10\": {\"10\": 233, \"13\": 3, \"14\": 1, \"4\": 3}, \"6\": {\"6\": 187, \"7\": 35, \"4\": 12, \"13\": 6}, \"11\": {\"11\": 233, \"1\": 7}, \"7\": {\"7\": 205, \"6\": 32, \"0\": 3}, \"4\": {\"4\": 204, \"13\": 26, \"10\": 3, \"6\": 6, \"14\": 1}, \"12\": {\"12\": 197, \"15\": 34, \"8\": 2, \"3\": 7}}, \"O_38\": {\"13\": {\"13\": 219, \"10\": 16, \"8\": 2, \"2\": 3}, \"12\": {\"12\": 238, \"4\": 2}, \"2\": {\"2\": 220, \"14\": 13, \"13\": 6, \"15\": 1}, \"9\": {\"9\": 231, \"6\": 5, \"5\": 3, \"7\": 1}, \"15\": {\"15\": 204, \"1\": 17, \"8\": 16, \"13\": 2, \"0\": 1}, \"5\": {\"5\": 200, \"8\": 19, \"0\": 2, \"6\": 2, \"7\": 10, \"9\": 4, \"13\": 1, \"10\": 2}, \"14\": {\"14\": 235, \"2\": 5}, \"0\": {\"0\": 190, \"10\": 6, \"3\": 9, \"7\": 10, \"5\": 2, \"8\": 20, \"9\": 1, \"13\": 2}, \"3\": {\"3\": 234, \"0\": 4, \"9\": 1, \"13\": 1}, \"1\": {\"1\": 228, \"15\": 12}, \"11\": {\"11\": 234, \"14\": 1, \"3\": 2, \"10\": 3}, \"7\": {\"7\": 217, \"5\": 5, \"0\": 8, \"8\": 10}, \"8\": {\"8\": 176, \"15\": 10, \"7\": 11, \"5\": 15, \"0\": 22, \"10\": 4, \"13\": 2}, \"4\": {\"4\": 239, \"0\": 1}, \"10\": {\"10\": 215, \"0\": 5, \"8\": 3, \"13\": 15, \"11\": 1, \"5\": 1}, \"6\": {\"6\": 234, \"9\": 5, \"5\": 1}}, \"O_26\": {\"10\": {\"10\": 128, \"0\": 64, \"8\": 23, \"14\": 9, \"6\": 8, \"4\": 7, \"15\": 1}, \"12\": {\"12\": 240}, \"1\": {\"1\": 213, \"0\": 2, \"14\": 14, \"4\": 2, \"7\": 3, \"3\": 1, \"10\": 3, \"8\": 2}, \"0\": {\"0\": 131, \"10\": 59, \"8\": 17, \"14\": 17, \"4\": 14, \"7\": 1, \"1\": 1}, \"15\": {\"6\": 7, \"9\": 25, \"15\": 191, \"8\": 5, \"13\": 3, \"0\": 2, \"7\": 2, \"2\": 3, \"10\": 2}, \"13\": {\"13\": 217, \"15\": 4, \"9\": 6, \"2\": 11, \"3\": 1, \"5\": 1}, \"8\": {\"8\": 135, \"0\": 31, \"10\": 32, \"14\": 7, \"4\": 9, \"6\": 1, \"7\": 15, \"1\": 2, \"2\": 3, \"15\": 5}, \"3\": {\"3\": 197, \"2\": 35, \"7\": 8}, \"11\": {\"11\": 239, \"12\": 1}, \"4\": {\"4\": 185, \"0\": 14, \"10\": 9, \"7\": 18, \"8\": 11, \"1\": 3}, \"6\": {\"6\": 219, \"8\": 3, \"10\": 3, \"9\": 8, \"15\": 7}, \"7\": {\"7\": 176, \"4\": 23, \"2\": 23, \"8\": 8, \"3\": 8, \"0\": 2}, \"14\": {\"14\": 193, \"1\": 12, \"0\": 16, \"4\": 1, \"8\": 10, \"10\": 8}, \"2\": {\"2\": 145, \"3\": 49, \"13\": 5, \"15\": 4, \"7\": 25, \"8\": 6, \"5\": 3, \"9\": 3}, \"5\": {\"5\": 239, \"2\": 1}, \"9\": {\"9\": 208, \"15\": 21, \"6\": 2, \"13\": 7, \"8\": 2}}, \"O_20\": {\"5\": {\"5\": 233, \"0\": 3, \"1\": 2, \"15\": 2}, \"15\": {\"15\": 215, \"0\": 13, \"1\": 11, \"13\": 1}, \"9\": {\"9\": 183, \"12\": 9, \"3\": 15, \"2\": 29, \"7\": 2, \"1\": 2}, \"7\": {\"7\": 215, \"2\": 16, \"8\": 4, \"12\": 1, \"9\": 1, \"3\": 3}, \"3\": {\"3\": 161, \"12\": 34, \"9\": 18, \"2\": 13, \"7\": 5, \"4\": 7, \"1\": 2}, \"8\": {\"8\": 227, \"7\": 3, \"4\": 10}, \"4\": {\"4\": 231, \"3\": 3, \"8\": 6}, \"6\": {\"6\": 239, \"14\": 1}, \"2\": {\"2\": 158, \"9\": 48, \"12\": 6, \"7\": 9, \"3\": 17, \"13\": 2}, \"12\": {\"12\": 170, \"3\": 31, \"2\": 4, \"1\": 28, \"9\": 7}, \"0\": {\"0\": 222, \"15\": 16, \"5\": 1, \"1\": 1}, \"13\": {\"13\": 235, \"2\": 5}, \"10\": {\"10\": 239, \"14\": 1}, \"11\": {\"11\": 240}, \"14\": {\"14\": 236, \"10\": 1, \"6\": 3}, \"1\": {\"2\": 2, \"1\": 195, \"12\": 36, \"3\": 3, \"15\": 2, \"5\": 1, \"0\": 1}}, \"O_50\": {\"1\": {\"1\": 213, \"13\": 1, \"15\": 15, \"6\": 3, \"5\": 3, \"11\": 2, \"4\": 3}, \"2\": {\"2\": 222, \"0\": 18}, \"8\": {\"8\": 237, \"3\": 3}, \"7\": {\"7\": 217, \"6\": 6, \"13\": 12, \"5\": 4, \"4\": 1}, \"14\": {\"14\": 240}, \"6\": {\"7\": 7, \"6\": 203, \"15\": 11, \"13\": 11, \"1\": 1, \"4\": 4, \"5\": 3}, \"3\": {\"3\": 236, \"8\": 4}, \"4\": {\"4\": 172, \"15\": 30, \"7\": 5, \"6\": 10, \"1\": 4, \"5\": 19}, \"12\": {\"12\": 223, \"11\": 10, \"9\": 7}, \"15\": {\"15\": 198, \"1\": 13, \"4\": 16, \"11\": 9, \"6\": 3, \"5\": 1}, \"11\": {\"11\": 219, \"15\": 14, \"9\": 5, \"12\": 1, \"1\": 1}, \"0\": {\"0\": 207, \"10\": 12, \"2\": 21}, \"9\": {\"9\": 230, \"11\": 5, \"12\": 5}, \"10\": {\"10\": 217, \"13\": 10, \"0\": 11, \"8\": 2}, \"5\": {\"5\": 193, \"15\": 2, \"4\": 23, \"7\": 10, \"13\": 9, \"1\": 3}, \"13\": {\"7\": 7, \"13\": 217, \"6\": 4, \"5\": 5, \"1\": 2, \"0\": 3, \"10\": 2}}, \"O_32\": {\"2\": {\"4\": 48, \"2\": 189, \"7\": 2, \"0\": 1}, \"6\": {\"6\": 240}, \"5\": {\"5\": 187, \"13\": 4, \"7\": 34, \"14\": 1, \"8\": 5, \"3\": 5, \"4\": 3, \"0\": 1}, \"12\": {\"12\": 240}, \"13\": {\"7\": 9, \"8\": 10, \"13\": 193, \"3\": 19, \"14\": 1, \"4\": 8}, \"9\": {\"9\": 240}, \"11\": {\"11\": 233, \"14\": 4, \"5\": 1, \"3\": 2}, \"1\": {\"1\": 240}, \"3\": {\"3\": 238, \"13\": 2}, \"7\": {\"7\": 191, \"4\": 11, \"13\": 5, \"5\": 22, \"14\": 8, \"11\": 2, \"8\": 1}, \"14\": {\"14\": 203, \"7\": 7, \"5\": 7, \"0\": 13, \"11\": 5, \"8\": 4, \"3\": 1}, \"8\": {\"8\": 205, \"13\": 8, \"0\": 18, \"5\": 5, \"14\": 4}, \"4\": {\"4\": 187, \"2\": 28, \"13\": 8, \"7\": 17}, \"0\": {\"0\": 189, \"8\": 30, \"13\": 3, \"14\": 12, \"7\": 6}, \"10\": {\"10\": 237, \"1\": 3}, \"15\": {\"15\": 240}}, \"O_44\": {\"13\": {\"13\": 170, \"6\": 34, \"11\": 4, \"9\": 31, \"4\": 1}, \"4\": {\"4\": 206, \"14\": 28, \"15\": 6}, \"6\": {\"13\": 49, \"6\": 160, \"9\": 26, \"11\": 1, \"7\": 4}, \"0\": {\"8\": 65, \"0\": 163, \"15\": 9, \"5\": 3}, \"10\": {\"10\": 205, \"1\": 20, \"2\": 10, \"7\": 2, \"12\": 3}, \"7\": {\"9\": 46, \"2\": 35, \"7\": 153, \"6\": 5, \"13\": 1}, \"14\": {\"14\": 165, \"4\": 55, \"5\": 5, \"15\": 15}, \"15\": {\"15\": 205, \"14\": 9, \"4\": 7, \"5\": 7, \"0\": 11, \"8\": 1}, \"5\": {\"5\": 224, \"0\": 4, \"8\": 3, \"14\": 6, \"15\": 3}, \"2\": {\"2\": 194, \"7\": 26, \"1\": 12, \"10\": 8}, \"9\": {\"9\": 122, \"13\": 38, \"7\": 53, \"6\": 25, \"2\": 2}, \"12\": {\"12\": 214, \"1\": 21, \"10\": 2, \"3\": 3}, \"8\": {\"8\": 152, \"0\": 79, \"15\": 7, \"5\": 2}, \"3\": {\"3\": 226, \"1\": 10, \"12\": 2, \"2\": 1, \"7\": 1}, \"1\": {\"1\": 176, \"3\": 14, \"2\": 16, \"10\": 14, \"12\": 20}, \"11\": {\"11\": 230, \"13\": 10}}, \"O_14\": {\"1\": {\"1\": 240}, \"15\": {\"15\": 239, \"7\": 1}, \"10\": {\"10\": 240}, \"2\": {\"3\": 13, \"2\": 190, \"14\": 20, \"6\": 12, \"5\": 2, \"13\": 2, \"4\": 1}, \"9\": {\"9\": 240}, \"5\": {\"5\": 231, \"2\": 3, \"4\": 4, \"1\": 1, \"14\": 1}, \"7\": {\"7\": 240}, \"13\": {\"13\": 177, \"6\": 56, \"2\": 4, \"4\": 1, \"5\": 1, \"14\": 1}, \"8\": {\"8\": 240}, \"6\": {\"6\": 206, \"14\": 1, \"2\": 3, \"13\": 29, \"5\": 1}, \"3\": {\"3\": 231, \"14\": 4, \"2\": 4, \"5\": 1}, \"12\": {\"12\": 240}, \"0\": {\"0\": 236, \"10\": 3, \"3\": 1}, \"4\": {\"4\": 233, \"6\": 3, \"1\": 2, \"13\": 1, \"2\": 1}, \"14\": {\"14\": 222, \"2\": 15, \"13\": 2, \"5\": 1}, \"11\": {\"11\": 236, \"9\": 4}}, \"C_2\": {\"21\": {\"21\": 100, \"6\": 4, \"50\": 3, \"30\": 3, \"54\": 1, \"46\": 4, \"20\": 4, \"1\": 1}, \"4\": {\"4\": 103, \"19\": 13, \"45\": 4, \"57\": 2, \"9\": 6, \"32\": 1, \"27\": 1}, \"6\": {\"50\": 3, \"54\": 9, \"48\": 6, \"41\": 2, \"6\": 85, \"46\": 2, \"3\": 3, \"39\": 1, \"21\": 3, \"12\": 2, \"27\": 1, \"30\": 2, \"2\": 1, \"23\": 2, \"55\": 1, \"52\": 1}, \"10\": {\"10\": 106, \"43\": 4, \"24\": 2}, \"33\": {\"33\": 28}, \"56\": {\"56\": 90, \"55\": 4, \"14\": 1, \"22\": 15, \"24\": 2, \"5\": 2, \"10\": 1, \"43\": 2, \"31\": 1, \"13\": 2, \"1\": 2}, \"20\": {\"20\": 124, \"51\": 8}, \"24\": {\"24\": 92, \"13\": 1, \"10\": 1, \"43\": 2}, \"45\": {\"4\": 7, \"54\": 6, \"26\": 2, \"45\": 66, \"12\": 13, \"36\": 6, \"55\": 2, \"6\": 3, \"51\": 4, \"20\": 2, \"50\": 2, \"19\": 4, \"32\": 1, \"14\": 2, \"3\": 3, \"9\": 3, \"46\": 1, \"40\": 1}, \"32\": {\"32\": 28}, \"27\": {\"20\": 2, \"27\": 135, \"17\": 1, \"8\": 10}, \"53\": {\"53\": 115, \"20\": 9, \"2\": 1, \"51\": 5, \"50\": 2, \"21\": 1, \"8\": 3}, \"8\": {\"8\": 143, \"53\": 4, \"27\": 2, \"50\": 9, \"20\": 1, \"51\": 1}, \"54\": {\"54\": 101, \"41\": 1, \"12\": 3, \"21\": 1, \"6\": 2}, \"50\": {\"8\": 17, \"21\": 2, \"50\": 68, \"2\": 2, \"46\": 3, \"3\": 3, \"17\": 1, \"54\": 6, \"6\": 14, \"30\": 1, \"20\": 3, \"25\": 1, \"53\": 3, \"23\": 3, \"48\": 2, \"55\": 1, \"36\": 2, \"27\": 1, \"47\": 1}, \"44\": {\"44\": 85, \"40\": 8, \"35\": 1, \"25\": 1, \"36\": 2, \"4\": 1, \"19\": 1, \"45\": 1}, \"5\": {\"5\": 84, \"3\": 2, \"47\": 10, \"43\": 4, \"46\": 3, \"31\": 1, \"39\": 1, \"1\": 2, \"40\": 1, \"16\": 2, \"55\": 1, \"57\": 7, \"42\": 1, \"23\": 1}, \"38\": {\"38\": 20}, \"19\": {\"19\": 96, \"4\": 13, \"55\": 1, \"17\": 1, \"29\": 5, \"40\": 1, \"9\": 10, \"25\": 4, \"27\": 1}, \"1\": {\"5\": 3, \"1\": 98, \"34\": 1, \"48\": 2, \"46\": 2, \"30\": 1, \"0\": 1, \"57\": 3, \"23\": 1}, \"30\": {\"30\": 125, \"18\": 4, \"48\": 1, \"50\": 2, \"23\": 10, \"39\": 1, \"47\": 1}, \"15\": {\"15\": 138, \"52\": 6}, \"23\": {\"23\": 123, \"18\": 5, \"39\": 1, \"46\": 1, \"16\": 5, \"30\": 7, \"15\": 1, \"47\": 2, \"48\": 1}, \"35\": {\"35\": 32}, \"22\": {\"22\": 110, \"56\": 10, \"43\": 5, \"5\": 1, \"47\": 1, \"55\": 1}, \"40\": {\"40\": 112, \"44\": 3, \"14\": 2, \"19\": 5, \"45\": 2, \"4\": 1, \"29\": 6, \"8\": 1, \"25\": 3, \"9\": 4, \"3\": 1}, \"46\": {\"46\": 88, \"6\": 3, \"34\": 1, \"21\": 5, \"38\": 1, \"51\": 5, \"11\": 2, \"17\": 2, \"1\": 1, \"23\": 5, \"55\": 2, \"39\": 2, \"3\": 1, \"20\": 1, \"50\": 2, \"57\": 1, \"54\": 1, \"30\": 1, \"48\": 1, \"8\": 1}, \"3\": {\"30\": 6, \"54\": 2, \"25\": 5, \"36\": 3, \"1\": 1, \"32\": 2, \"21\": 2, \"42\": 1, \"4\": 9, \"23\": 3, \"3\": 23, \"50\": 5, \"55\": 2, \"20\": 4, \"46\": 2, \"6\": 8, \"51\": 3, \"37\": 2, \"48\": 1, \"33\": 1, \"57\": 1, \"18\": 1, \"29\": 1, \"5\": 1, \"9\": 2, \"40\": 1}, \"48\": {\"48\": 136, \"47\": 2, \"1\": 5, \"20\": 1, \"6\": 2, \"7\": 1, \"21\": 1}, \"52\": {\"52\": 110, \"15\": 10, \"48\": 1, \"16\": 2, \"11\": 1}, \"2\": {\"2\": 25, \"36\": 1, \"50\": 2, \"55\": 2, \"8\": 1, \"21\": 1}, \"26\": {\"26\": 23, \"12\": 1}, \"17\": {\"17\": 89, \"12\": 2, \"20\": 1, \"32\": 3, \"3\": 1, \"1\": 2, \"25\": 1, \"48\": 2, \"27\": 1, \"21\": 2}, \"55\": {\"55\": 110, \"31\": 1, \"34\": 1, \"46\": 10, \"21\": 2, \"23\": 1, \"6\": 2, \"43\": 2, \"3\": 3, \"25\": 1, \"47\": 2, \"57\": 1, \"30\": 1, \"20\": 2, \"48\": 1, \"2\": 1, \"42\": 1, \"17\": 1, \"53\": 1}, \"51\": {\"51\": 95, \"21\": 8, \"8\": 2, \"20\": 15, \"50\": 2}, \"42\": {\"42\": 28, \"7\": 1, \"46\": 1, \"5\": 1, \"28\": 1, \"21\": 1, \"48\": 1, \"50\": 1, \"47\": 1}, \"41\": {\"41\": 19, \"28\": 1}, \"31\": {\"31\": 27, \"5\": 1}, \"16\": {\"16\": 108, \"23\": 8, \"18\": 2, \"15\": 5, \"11\": 7, \"50\": 5, \"46\": 2, \"28\": 1}, \"36\": {\"36\": 116}, \"49\": {\"49\": 20, \"55\": 1, \"25\": 2, \"2\": 1}, \"0\": {\"16\": 1, \"0\": 34, \"5\": 2, \"23\": 5, \"47\": 2, \"48\": 1, \"15\": 1, \"18\": 1, \"39\": 1}, \"18\": {\"18\": 44, \"23\": 3, \"30\": 1}, \"25\": {\"25\": 139, \"50\": 2, \"3\": 3, \"21\": 1, \"45\": 1}, \"9\": {\"9\": 97, \"46\": 1, \"17\": 2, \"29\": 6, \"19\": 9, \"4\": 4, \"27\": 1, \"36\": 1, \"8\": 1}, \"47\": {\"47\": 89, \"39\": 1, \"5\": 10, \"23\": 6, \"30\": 6, \"1\": 4, \"16\": 2, \"57\": 6, \"52\": 1, \"55\": 1, \"42\": 2, \"27\": 1, \"18\": 1, \"0\": 1, \"17\": 1}, \"7\": {\"7\": 36}, \"37\": {\"37\": 36}, \"13\": {\"13\": 101, \"37\": 2, \"24\": 5, \"10\": 4, \"22\": 1, \"56\": 2, \"43\": 1}, \"14\": {\"13\": 2, \"5\": 3, \"14\": 8, \"29\": 1, \"43\": 2, \"33\": 2, \"10\": 2, \"28\": 1, \"46\": 1, \"56\": 1, \"40\": 1}, \"34\": {\"34\": 24, \"55\": 2, \"41\": 1, \"27\": 1}, \"57\": {\"42\": 1, \"57\": 118, \"1\": 7, \"47\": 5, \"5\": 4, \"23\": 1, \"27\": 1, \"30\": 1, \"48\": 2}, \"11\": {\"11\": 130, \"16\": 4, \"15\": 2, \"43\": 1, \"30\": 1}, \"39\": {\"39\": 27, \"30\": 1}, \"12\": {\"12\": 90, \"54\": 2}, \"28\": {\"28\": 28}, \"29\": {\"29\": 92, \"55\": 2, \"9\": 7, \"19\": 12, \"4\": 2, \"1\": 3, \"5\": 2, \"40\": 2, \"8\": 1, \"44\": 1, \"56\": 1, \"13\": 1, \"27\": 1, \"24\": 1}, \"43\": {\"43\": 135, \"24\": 3, \"5\": 1, \"10\": 1}}, \"C_5\": {\"12\": {\"12\": 86, \"9\": 1, \"38\": 2, \"30\": 1, \"17\": 3, \"6\": 2, \"7\": 1}, \"8\": {\"8\": 121, \"20\": 17, \"23\": 2, \"51\": 1, \"42\": 1}, \"29\": {\"29\": 85, \"4\": 1, \"36\": 5, \"19\": 8, \"41\": 1, \"56\": 3, \"22\": 2, \"44\": 4, \"42\": 1, \"5\": 10, \"9\": 2, \"40\": 3, \"50\": 1, \"13\": 2, \"14\": 3, \"25\": 1}, \"57\": {\"57\": 110, \"47\": 7, \"46\": 2, \"1\": 3, \"18\": 2, \"8\": 1, \"3\": 1}, \"38\": {\"38\": 32}, \"23\": {\"23\": 101, \"54\": 1, \"20\": 7, \"52\": 11, \"39\": 1, \"16\": 3}, \"56\": {\"56\": 120, \"24\": 2, \"35\": 1, \"43\": 3, \"36\": 4, \"52\": 1, \"13\": 3, \"14\": 1, \"47\": 1, \"57\": 1, \"16\": 1}, \"49\": {\"49\": 34, \"31\": 1, \"52\": 1}, \"4\": {\"4\": 73, \"30\": 2, \"12\": 3, \"19\": 7, \"9\": 6, \"55\": 1, \"50\": 3, \"47\": 1, \"5\": 1, \"28\": 1, \"45\": 1, \"29\": 1}, \"48\": {\"48\": 100, \"30\": 7, \"32\": 1, \"1\": 15, \"51\": 1, \"20\": 3, \"17\": 2, \"6\": 4, \"9\": 1, \"21\": 1, \"55\": 1}, \"21\": {\"21\": 131, \"53\": 5, \"51\": 4, \"3\": 1, \"8\": 1, \"16\": 1, \"23\": 1}, \"30\": {\"30\": 102, \"1\": 8, \"23\": 1, \"9\": 3, \"48\": 5, \"17\": 3, \"8\": 2, \"53\": 1, \"50\": 1, \"32\": 1, \"27\": 1}, \"1\": {\"48\": 13, \"1\": 121, \"6\": 1, \"32\": 2, \"30\": 4, \"8\": 1, \"47\": 1, \"50\": 1, \"55\": 1, \"54\": 1, \"9\": 1, \"51\": 1}, \"34\": {\"34\": 33, \"3\": 1, \"57\": 1, \"22\": 1}, \"35\": {\"35\": 35, \"34\": 1}, \"55\": {\"55\": 125, \"45\": 6, \"50\": 2, \"9\": 1, \"17\": 6, \"6\": 8, \"48\": 1, \"7\": 1, \"12\": 1, \"30\": 1}, \"5\": {\"5\": 91, \"4\": 3, \"33\": 1, \"50\": 2, \"44\": 9, \"40\": 6, \"19\": 2, \"29\": 7, \"22\": 1}, \"52\": {\"52\": 118, \"46\": 3, \"23\": 1, \"15\": 1, \"11\": 1, \"16\": 2}, \"6\": {\"6\": 82, \"8\": 1, \"39\": 1, \"18\": 7, \"45\": 6, \"26\": 2, \"23\": 1, \"17\": 4, \"20\": 1, \"53\": 2, \"54\": 3, \"50\": 4, \"1\": 4, \"30\": 2, \"48\": 7, \"55\": 1}, \"36\": {\"36\": 85, \"3\": 1, \"23\": 1, \"14\": 1, \"35\": 1, \"16\": 1, \"47\": 2}, \"41\": {\"41\": 25, \"47\": 1, \"42\": 2}, \"3\": {\"3\": 48, \"11\": 4, \"39\": 1, \"36\": 5, \"0\": 4, \"46\": 9, \"21\": 1, \"23\": 3, \"6\": 1, \"16\": 6, \"43\": 1, \"54\": 1, \"14\": 1, \"57\": 7, \"47\": 2, \"49\": 2, \"15\": 1, \"52\": 1, \"1\": 1, \"8\": 1}, \"28\": {\"28\": 26, \"14\": 1, \"36\": 1, \"9\": 2, \"41\": 1, \"50\": 1}, \"18\": {\"18\": 61, \"23\": 2, \"20\": 1}, \"25\": {\"25\": 130, \"41\": 1, \"45\": 2, \"50\": 2, \"6\": 1}, \"47\": {\"3\": 3, \"47\": 78, \"39\": 1, \"18\": 3, \"14\": 1, \"1\": 4, \"49\": 1, \"23\": 5, \"36\": 1, \"16\": 1, \"8\": 1, \"46\": 1}, \"13\": {\"13\": 134, \"44\": 1, \"24\": 7, \"0\": 4, \"56\": 4, \"22\": 1, \"5\": 2, \"43\": 1, \"40\": 1, \"10\": 4, \"47\": 1}, \"11\": {\"15\": 14, \"11\": 123, \"0\": 1, \"16\": 2, \"46\": 3, \"3\": 1}, \"53\": {\"53\": 121, \"3\": 1, \"8\": 6, \"29\": 1, \"4\": 1, \"20\": 2, \"51\": 9, \"50\": 1, \"21\": 1, \"40\": 1}, \"33\": {\"33\": 30, \"19\": 1, \"29\": 1}, \"46\": {\"46\": 122, \"23\": 5, \"54\": 3, \"16\": 2, \"20\": 1, \"15\": 3, \"11\": 2, \"0\": 2, \"51\": 1, \"39\": 1, \"57\": 2, \"36\": 2, \"8\": 1, \"52\": 1}, \"50\": {\"50\": 73, \"32\": 3, \"1\": 3, \"33\": 1, \"54\": 1, \"36\": 2, \"42\": 1, \"17\": 1, \"29\": 2, \"48\": 6, \"45\": 10, \"8\": 3, \"30\": 2, \"9\": 7, \"27\": 6, \"19\": 3, \"20\": 1, \"55\": 4, \"25\": 10, \"6\": 2, \"5\": 1, \"12\": 2, \"51\": 2, \"4\": 1, \"21\": 1}, \"10\": {\"10\": 67, \"13\": 1}, \"15\": {\"11\": 17, \"15\": 117, \"0\": 2, \"16\": 2}, \"44\": {\"44\": 110, \"33\": 1, \"28\": 2, \"42\": 1, \"5\": 11, \"29\": 7, \"50\": 1, \"43\": 1, \"9\": 1, \"40\": 2, \"19\": 2, \"13\": 1}, \"2\": {\"2\": 28}, \"7\": {\"7\": 30, \"12\": 1, \"17\": 1}, \"43\": {\"43\": 110, \"24\": 4, \"11\": 1, \"16\": 9, \"3\": 4, \"0\": 9, \"13\": 1}, \"32\": {\"32\": 27, \"8\": 1, \"9\": 1, \"27\": 1, \"1\": 2}, \"0\": {\"3\": 3, \"0\": 113, \"16\": 3, \"56\": 1, \"11\": 2, \"43\": 2}, \"39\": {\"39\": 18, \"53\": 1, \"8\": 1}, \"26\": {\"26\": 24}, \"27\": {\"27\": 90, \"17\": 1, \"30\": 3, \"19\": 4, \"1\": 3, \"56\": 1, \"50\": 1, \"9\": 8, \"20\": 1}, \"54\": {\"54\": 109, \"16\": 1, \"50\": 1, \"21\": 1}, \"17\": {\"17\": 108, \"30\": 4, \"1\": 2, \"6\": 1, \"48\": 1}, \"14\": {\"43\": 2, \"28\": 4, \"56\": 1, \"2\": 3, \"37\": 2, \"20\": 1, \"3\": 1, \"9\": 3, \"14\": 14, \"29\": 1, \"1\": 2, \"21\": 2, \"27\": 1, \"44\": 1, \"0\": 1, \"16\": 1, \"11\": 2, \"47\": 1, \"25\": 1}, \"16\": {\"16\": 109, \"15\": 6, \"46\": 5, \"23\": 5, \"3\": 1, \"20\": 6, \"11\": 5, \"0\": 4, \"51\": 2, \"54\": 3, \"18\": 2}, \"9\": {\"9\": 110, \"1\": 4, \"37\": 1, \"6\": 2, \"30\": 7, \"48\": 3, \"19\": 5, \"45\": 4, \"25\": 2, \"40\": 1, \"32\": 1, \"17\": 2, \"27\": 1, \"21\": 1, \"20\": 1, \"4\": 1, \"55\": 1, \"50\": 1}, \"19\": {\"19\": 122, \"33\": 1, \"30\": 2, \"4\": 4, \"9\": 2, \"43\": 1, \"27\": 6, \"29\": 4, \"25\": 1, \"44\": 7, \"17\": 1, \"21\": 1}, \"20\": {\"20\": 123, \"23\": 4, \"51\": 9, \"8\": 2}, \"37\": {\"37\": 24}, \"24\": {\"24\": 73, \"16\": 1, \"0\": 4, \"11\": 2}, \"40\": {\"40\": 80, \"28\": 1, \"42\": 1, \"29\": 6, \"4\": 8, \"50\": 3, \"33\": 2, \"5\": 6, \"44\": 4, \"9\": 4, \"19\": 2, \"25\": 3, \"51\": 1, \"37\": 1}, \"45\": {\"6\": 13, \"26\": 2, \"45\": 51, \"42\": 1, \"30\": 2, \"4\": 2, \"25\": 3, \"9\": 10, \"55\": 11, \"12\": 3, \"50\": 6, \"1\": 1, \"14\": 1, \"27\": 6, \"19\": 3, \"20\": 2, \"51\": 3, \"32\": 1, \"33\": 1, \"17\": 1, \"44\": 1}, \"22\": {\"22\": 22, \"19\": 1, \"56\": 1, \"29\": 1, \"44\": 2, \"34\": 1}, \"42\": {\"42\": 38, \"13\": 1, \"56\": 1}, \"51\": {\"51\": 106, \"8\": 4, \"55\": 1, \"25\": 2, \"20\": 2, \"53\": 1, \"21\": 1, \"17\": 1}, \"31\": {\"31\": 32, \"16\": 3, \"23\": 1}}, \"C_1\": {\"27\": {\"27\": 134, \"24\": 1, \"22\": 3, \"43\": 1, \"10\": 1, \"47\": 2}, \"2\": {\"2\": 36}, \"33\": {\"33\": 32}, \"45\": {\"45\": 151, \"9\": 3, \"30\": 1, \"42\": 1}, \"38\": {\"38\": 19, \"45\": 1, \"7\": 2, \"24\": 1, \"26\": 1}, \"4\": {\"4\": 119, \"14\": 1, \"3\": 2, \"29\": 2, \"46\": 2, \"6\": 1, \"13\": 2, \"40\": 1, \"25\": 1, \"50\": 1}, \"31\": {\"31\": 26, \"22\": 1, \"21\": 1}, \"55\": {\"55\": 115, \"12\": 2, \"16\": 3, \"54\": 5, \"17\": 1, \"52\": 1, \"30\": 2, \"5\": 5, \"34\": 1, \"20\": 1, \"18\": 1, \"56\": 1, \"47\": 1, \"1\": 1}, \"32\": {\"32\": 30, \"28\": 1, \"42\": 1}, \"57\": {\"45\": 1, \"57\": 82, \"35\": 1, \"19\": 15, \"44\": 4, \"1\": 11, \"32\": 1, \"56\": 15, \"29\": 7, \"13\": 1, \"47\": 1, \"8\": 1}, \"14\": {\"14\": 12, \"34\": 1, \"8\": 1, \"12\": 4, \"9\": 4, \"51\": 2}, \"16\": {\"16\": 118, \"26\": 1, \"54\": 5, \"23\": 7, \"0\": 1, \"21\": 1, \"36\": 2, \"18\": 1, \"9\": 1, \"55\": 1, \"12\": 1, \"5\": 1}, \"34\": {\"34\": 22, \"33\": 1, \"37\": 1}, \"56\": {\"30\": 3, \"56\": 70, \"37\": 2, \"19\": 8, \"57\": 16, \"45\": 3, \"47\": 7, \"44\": 4, \"8\": 3, \"1\": 4, \"25\": 3, \"42\": 1, \"34\": 1, \"55\": 1}, \"24\": {\"24\": 95, \"22\": 7, \"10\": 2, \"52\": 2, \"11\": 2}, \"30\": {\"34\": 1, \"30\": 93, \"6\": 1, \"53\": 1, \"9\": 3, \"8\": 9, \"5\": 2, \"18\": 2}, \"17\": {\"17\": 55, \"6\": 4, \"48\": 3, \"46\": 1, \"2\": 1}, \"13\": {\"20\": 10, \"13\": 103, \"51\": 8, \"3\": 5, \"46\": 2, \"55\": 2, \"0\": 1, \"33\": 2, \"25\": 1, \"6\": 1, \"12\": 1, \"16\": 1, \"44\": 1}, \"39\": {\"39\": 27, \"28\": 1}, \"50\": {\"50\": 142, \"48\": 3, \"6\": 1}, \"20\": {\"20\": 124, \"12\": 4, \"51\": 7, \"54\": 3, \"13\": 1, \"33\": 1}, \"41\": {\"41\": 24}, \"53\": {\"53\": 124, \"5\": 1, \"9\": 1}, \"48\": {\"48\": 125, \"17\": 1, \"50\": 11, \"2\": 1, \"6\": 2, \"5\": 2}, \"36\": {\"36\": 45, \"23\": 4, \"21\": 2, \"0\": 2, \"11\": 2, \"16\": 5, \"15\": 2, \"52\": 2}, \"8\": {\"50\": 2, \"8\": 122, \"17\": 2, \"19\": 1, \"6\": 2, \"30\": 6, \"9\": 3, \"48\": 2}, \"15\": {\"15\": 123, \"11\": 5, \"21\": 3, \"23\": 1}, \"40\": {\"40\": 119, \"4\": 2, \"29\": 19, \"3\": 1, \"47\": 1, \"57\": 4, \"25\": 4, \"19\": 1, \"44\": 3, \"13\": 2}, \"37\": {\"37\": 32}, \"21\": {\"21\": 117, \"23\": 3}, \"35\": {\"35\": 34, \"44\": 2}, \"49\": {\"49\": 24, \"10\": 1, \"20\": 1, \"52\": 3, \"0\": 1, \"23\": 1, \"32\": 1}, \"26\": {\"26\": 24}, \"28\": {\"28\": 28}, \"12\": {\"12\": 113, \"54\": 1, \"20\": 1, \"55\": 1}, \"5\": {\"5\": 145, \"17\": 1, \"9\": 3, \"2\": 1, \"30\": 2}, \"29\": {\"29\": 98, \"57\": 6, \"4\": 3, \"19\": 3, \"44\": 8, \"40\": 10, \"25\": 1, \"24\": 1, \"3\": 4, \"56\": 1, \"47\": 2, \"46\": 3}, \"47\": {\"47\": 84, \"35\": 3, \"44\": 12, \"57\": 7, \"40\": 1, \"19\": 3, \"43\": 3, \"29\": 3, \"24\": 1, \"16\": 1, \"27\": 7, \"1\": 3, \"45\": 2, \"56\": 5, \"9\": 1, \"0\": 2, \"22\": 2}, \"10\": {\"10\": 83, \"21\": 1, \"24\": 2, \"22\": 3, \"11\": 7}, \"18\": {\"18\": 68, \"30\": 1, \"50\": 1, \"5\": 1, \"54\": 1}, \"9\": {\"9\": 123, \"30\": 2, \"18\": 1}, \"3\": {\"3\": 91, \"29\": 7, \"13\": 8, \"57\": 2, \"39\": 1, \"22\": 5, \"44\": 9, \"45\": 3, \"47\": 2, \"20\": 1, \"40\": 2, \"24\": 4, \"42\": 1, \"4\": 2, \"55\": 1, \"16\": 1}, \"52\": {\"52\": 118, \"22\": 3, \"11\": 2, \"49\": 2, \"54\": 4, \"23\": 2, \"16\": 1}, \"25\": {\"25\": 134, \"41\": 1, \"13\": 1}, \"19\": {\"19\": 109, \"30\": 2, \"56\": 10, \"44\": 3, \"1\": 8, \"57\": 8, \"8\": 4, \"20\": 1, \"47\": 2, \"29\": 1, \"9\": 5, \"51\": 1, \"17\": 1, \"45\": 1}, \"11\": {\"11\": 115, \"15\": 8, \"10\": 2, \"22\": 2, \"52\": 1, \"24\": 4, \"21\": 3, \"0\": 1}, \"7\": {\"7\": 27, \"54\": 1}, \"23\": {\"23\": 127, \"36\": 2, \"52\": 1, \"15\": 1, \"16\": 1, \"21\": 4}, \"44\": {\"1\": 5, \"44\": 77, \"56\": 3, \"45\": 3, \"3\": 10, \"24\": 4, \"27\": 2, \"57\": 6, \"29\": 6, \"47\": 7, \"13\": 1, \"40\": 1, \"34\": 1, \"35\": 1, \"19\": 3, \"22\": 1, \"52\": 1}, \"42\": {\"42\": 40}, \"54\": {\"54\": 97, \"5\": 1, \"51\": 2, \"55\": 2, \"12\": 1, \"16\": 1}, \"1\": {\"1\": 74, \"56\": 7, \"9\": 1, \"47\": 4, \"57\": 5, \"19\": 6, \"22\": 1, \"52\": 1, \"8\": 1}, \"46\": {\"46\": 67, \"1\": 4, \"17\": 3, \"4\": 3, \"55\": 3, \"19\": 3, \"13\": 2, \"48\": 12, \"20\": 1, \"6\": 7, \"40\": 2, \"47\": 1, \"5\": 3, \"50\": 10, \"25\": 1, \"37\": 1, \"51\": 1, \"2\": 1, \"12\": 1, \"45\": 1, \"56\": 1}, \"6\": {\"6\": 68, \"5\": 7, \"37\": 1, \"50\": 2, \"8\": 9, \"46\": 3, \"48\": 3, \"17\": 1, \"2\": 2}, \"43\": {\"43\": 140, \"10\": 2, \"27\": 1, \"24\": 1}, \"51\": {\"51\": 134, \"12\": 1, \"20\": 4, \"16\": 1, \"53\": 2}, \"22\": {\"22\": 108, \"24\": 9, \"52\": 7, \"11\": 4, \"21\": 1, \"28\": 1, \"0\": 1, \"39\": 2, \"43\": 2, \"10\": 1}, \"0\": {\"36\": 5, \"0\": 100, \"38\": 1, \"15\": 3, \"24\": 3, \"11\": 7, \"20\": 1, \"23\": 4, \"52\": 1, \"16\": 2, \"55\": 1}}, \"C_4\": {\"32\": {\"46\": 2, \"32\": 22}, \"2\": {\"38\": 2, \"2\": 30, \"24\": 2, \"1\": 1, \"41\": 1}, \"41\": {\"41\": 35, \"46\": 1}, \"11\": {\"52\": 1, \"38\": 1, \"11\": 77, \"16\": 2, \"15\": 16, \"35\": 1, \"5\": 1, \"46\": 1, \"22\": 1, \"43\": 1}, \"57\": {\"57\": 82, \"29\": 6, \"27\": 2, \"5\": 1, \"48\": 1, \"47\": 3, \"42\": 1, \"26\": 1, \"4\": 2, \"0\": 1}, \"6\": {\"6\": 79, \"3\": 7, \"7\": 1, \"23\": 1, \"30\": 1, \"20\": 5, \"55\": 2, \"54\": 7, \"29\": 1, \"47\": 2, \"48\": 2, \"31\": 1, \"9\": 1, \"51\": 1, \"27\": 1}, \"23\": {\"23\": 120, \"16\": 4, \"18\": 4, \"46\": 4, \"5\": 2, \"20\": 1, \"52\": 1}, \"52\": {\"52\": 115, \"39\": 1}, \"38\": {\"38\": 37, \"49\": 1, \"13\": 1, \"55\": 1}, \"50\": {\"50\": 60, \"20\": 5, \"45\": 1, \"51\": 7, \"4\": 2, \"53\": 7, \"9\": 3, \"29\": 3, \"48\": 1, \"8\": 7, \"17\": 3, \"3\": 9, \"36\": 5, \"12\": 1, \"27\": 7, \"25\": 2, \"19\": 2, \"6\": 4, \"21\": 1, \"55\": 1, \"30\": 1}, \"55\": {\"55\": 115, \"20\": 1, \"31\": 1, \"6\": 5, \"36\": 2, \"24\": 2, \"5\": 4, \"53\": 3, \"3\": 3, \"22\": 2, \"46\": 5, \"54\": 1, \"39\": 1, \"49\": 1, \"34\": 1, \"4\": 2, \"52\": 1, \"47\": 1, \"50\": 1}, \"46\": {\"11\": 2, \"52\": 6, \"55\": 3, \"1\": 2, \"49\": 1, \"46\": 84, \"16\": 5, \"41\": 3, \"47\": 2, \"20\": 4, \"18\": 4, \"5\": 9, \"6\": 2, \"15\": 7, \"22\": 3, \"43\": 6, \"23\": 6, \"24\": 2, \"32\": 1, \"0\": 2}, \"37\": {\"37\": 22, \"35\": 1, \"55\": 1}, \"20\": {\"50\": 1, \"20\": 107, \"25\": 2, \"54\": 2, \"46\": 1, \"23\": 1, \"36\": 4}, \"49\": {\"49\": 20}, \"45\": {\"45\": 69, \"12\": 5, \"44\": 3, \"21\": 1, \"40\": 2, \"4\": 5, \"8\": 1, \"17\": 1, \"25\": 1, \"27\": 1, \"30\": 1, \"50\": 1, \"9\": 1, \"19\": 3, \"51\": 1}, \"54\": {\"54\": 105, \"46\": 1, \"3\": 2}, \"3\": {\"3\": 87, \"4\": 2, \"55\": 4, \"6\": 12, \"53\": 1, \"51\": 3, \"5\": 2, \"54\": 3, \"36\": 4, \"20\": 2, \"21\": 1, \"50\": 2, \"18\": 1}, \"13\": {\"13\": 142, \"10\": 7, \"56\": 3}, \"18\": {\"23\": 8, \"18\": 97, \"47\": 1, \"3\": 1, \"46\": 1}, \"21\": {\"21\": 122, \"51\": 1, \"6\": 1, \"50\": 1, \"54\": 1}, \"43\": {\"43\": 137, \"5\": 1, \"11\": 1, \"0\": 1, \"24\": 2, \"46\": 1, \"22\": 1}, \"47\": {\"23\": 1, \"47\": 103, \"16\": 2, \"55\": 2, \"46\": 3, \"57\": 3, \"5\": 4, \"3\": 1, \"20\": 1}, \"4\": {\"4\": 106, \"9\": 13, \"51\": 3, \"20\": 1, \"29\": 4, \"50\": 3, \"17\": 1, \"19\": 1}, \"12\": {\"12\": 91, \"21\": 1}, \"9\": {\"9\": 94, \"4\": 12, \"19\": 2, \"27\": 9, \"53\": 2, \"17\": 1, \"51\": 1, \"50\": 4, \"30\": 1, \"8\": 1, \"29\": 1}, \"7\": {\"7\": 18, \"28\": 2, \"49\": 1, \"52\": 2, \"5\": 1}, \"56\": {\"56\": 87, \"24\": 1, \"29\": 4, \"16\": 1, \"0\": 1, \"57\": 2, \"40\": 1, \"13\": 2, \"43\": 1, \"10\": 3, \"55\": 1, \"19\": 5, \"44\": 2, \"51\": 1}, \"28\": {\"28\": 19, \"46\": 1, \"39\": 2, \"23\": 2, \"42\": 1, \"31\": 1, \"47\": 1, \"53\": 3, \"36\": 1, \"6\": 1}, \"44\": {\"44\": 105, \"4\": 6, \"40\": 5, \"19\": 8, \"45\": 2, \"33\": 2, \"35\": 2, \"8\": 2}, \"24\": {\"24\": 49, \"2\": 1, \"43\": 2, \"22\": 3, \"13\": 1}, \"33\": {\"33\": 29, \"9\": 2, \"4\": 3, \"44\": 1, \"35\": 1}, \"35\": {\"35\": 40}, \"51\": {\"51\": 117, \"8\": 3, \"36\": 3, \"27\": 1, \"20\": 7, \"53\": 3, \"50\": 3, \"21\": 1}, \"39\": {\"39\": 19, \"3\": 1}, \"36\": {\"36\": 85, \"8\": 1, \"4\": 1, \"30\": 1, \"6\": 1, \"50\": 1, \"20\": 1, \"3\": 1}, \"19\": {\"19\": 106, \"4\": 4, \"9\": 6, \"55\": 3, \"44\": 6, \"29\": 6, \"40\": 3, \"50\": 1, \"56\": 4, \"42\": 1}, \"0\": {\"0\": 61, \"16\": 2, \"55\": 1, \"7\": 1, \"11\": 2, \"54\": 1, \"47\": 2, \"5\": 5, \"38\": 1, \"22\": 2, \"46\": 1, \"43\": 1}, \"15\": {\"15\": 122, \"22\": 2, \"11\": 8, \"52\": 2, \"4\": 1, \"43\": 1}, \"29\": {\"28\": 5, \"29\": 81, \"19\": 12, \"9\": 3, \"4\": 3, \"44\": 6, \"56\": 3, \"57\": 3, \"3\": 1, \"40\": 3, \"27\": 2, \"6\": 1, \"36\": 1}, \"30\": {\"30\": 41, \"8\": 2, \"27\": 1}, \"1\": {\"1\": 36, \"47\": 2, \"42\": 1, \"43\": 1}, \"22\": {\"22\": 121, \"43\": 3, \"16\": 1, \"56\": 1, \"7\": 1, \"46\": 1}, \"40\": {\"56\": 1, \"40\": 105, \"38\": 1, \"19\": 14, \"25\": 2, \"45\": 1, \"44\": 7, \"35\": 1, \"9\": 3, \"14\": 1, \"28\": 1, \"42\": 2, \"17\": 2, \"33\": 1, \"4\": 2, \"13\": 1, \"29\": 1}, \"8\": {\"8\": 121, \"30\": 2, \"36\": 1, \"20\": 1, \"50\": 1, \"53\": 1, \"27\": 1}, \"53\": {\"53\": 116, \"8\": 9, \"36\": 2, \"51\": 5, \"20\": 3, \"23\": 1, \"50\": 1, \"3\": 1}, \"34\": {\"34\": 23, \"5\": 1}, \"10\": {\"10\": 116, \"13\": 1, \"43\": 4, \"22\": 1}, \"31\": {\"31\": 28}, \"17\": {\"17\": 70, \"21\": 5, \"27\": 3, \"12\": 1, \"50\": 1}, \"16\": {\"16\": 80, \"3\": 1, \"23\": 7, \"43\": 1, \"22\": 1, \"46\": 1, \"15\": 4, \"20\": 1}, \"42\": {\"42\": 31, \"27\": 1}, \"27\": {\"27\": 113, \"51\": 3, \"17\": 4, \"9\": 14, \"36\": 2, \"4\": 2, \"50\": 1, \"55\": 1, \"20\": 1, \"3\": 1}, \"14\": {\"22\": 1, \"13\": 1, \"42\": 1, \"7\": 1, \"14\": 2, \"46\": 3, \"40\": 1, \"43\": 2, \"33\": 1, \"44\": 2, \"35\": 1}, \"25\": {\"25\": 115, \"21\": 5, \"50\": 1, \"37\": 1}, \"48\": {\"48\": 110, \"55\": 6, \"51\": 1, \"23\": 1, \"6\": 3, \"3\": 2, \"18\": 1, \"57\": 1, \"5\": 1, \"54\": 2, \"17\": 1, \"20\": 2, \"50\": 1}, \"26\": {\"50\": 1, \"26\": 20, \"27\": 1, \"3\": 1, \"17\": 1}, \"5\": {\"5\": 55, \"46\": 9, \"23\": 10, \"16\": 5, \"32\": 2, \"20\": 3, \"47\": 7, \"50\": 1, \"18\": 1, \"54\": 1, \"6\": 1, \"36\": 1, \"53\": 1, \"7\": 1, \"3\": 2, \"28\": 1, \"1\": 1, \"48\": 3, \"57\": 2, \"0\": 1}}, \"C_3\": {\"14\": {\"29\": 1, \"9\": 1, \"14\": 14, \"24\": 2, \"43\": 4, \"45\": 1, \"44\": 3, \"46\": 1, \"49\": 1, \"19\": 1, \"56\": 3, \"28\": 2, \"55\": 1, \"37\": 2, \"4\": 2, \"47\": 1}, \"18\": {\"18\": 81, \"30\": 2, \"23\": 1}, \"30\": {\"30\": 112, \"23\": 3, \"18\": 1, \"47\": 1, \"50\": 1, \"26\": 1, \"6\": 1}, \"16\": {\"16\": 126, \"0\": 2, \"20\": 5, \"21\": 1, \"11\": 4, \"18\": 1, \"30\": 1, \"15\": 10, \"39\": 1, \"23\": 4, \"52\": 1}, \"1\": {\"1\": 87, \"34\": 1, \"5\": 2, \"47\": 1, \"9\": 1, \"11\": 1, \"0\": 1, \"22\": 2, \"57\": 3, \"48\": 1}, \"20\": {\"20\": 131, \"21\": 1}, \"7\": {\"7\": 33, \"20\": 2, \"52\": 1}, \"52\": {\"52\": 115, \"6\": 2, \"15\": 8, \"41\": 1, \"16\": 4}, \"9\": {\"9\": 110, \"30\": 1, \"21\": 1, \"27\": 10, \"5\": 1, \"46\": 1, \"57\": 4, \"1\": 2, \"29\": 4, \"16\": 1, \"32\": 2, \"3\": 1, \"19\": 1, \"20\": 1}, \"23\": {\"23\": 115, \"18\": 5, \"47\": 1, \"3\": 1, \"0\": 6, \"16\": 11, \"30\": 2, \"6\": 1, \"48\": 1, \"7\": 1}, \"55\": {\"55\": 125, \"6\": 2, \"33\": 2, \"5\": 7, \"46\": 2, \"50\": 3, \"43\": 1, \"7\": 1, \"47\": 2, \"20\": 3, \"53\": 3, \"3\": 2, \"21\": 3, \"32\": 1, \"28\": 2, \"48\": 1, \"30\": 2, \"22\": 1, \"25\": 1}, \"29\": {\"29\": 91, \"9\": 6, \"4\": 5, \"40\": 7, \"5\": 1, \"57\": 2, \"19\": 8, \"1\": 3, \"25\": 1, \"27\": 1, \"22\": 1}, \"56\": {\"1\": 1, \"56\": 102, \"14\": 4, \"24\": 6, \"5\": 1, \"22\": 14, \"13\": 3, \"29\": 2, \"43\": 1}, \"3\": {\"6\": 9, \"3\": 33, \"21\": 7, \"55\": 3, \"35\": 2, \"23\": 4, \"36\": 2, \"32\": 1, \"9\": 5, \"46\": 9, \"48\": 2, \"37\": 2, \"5\": 3, \"27\": 3, \"18\": 1, \"25\": 4, \"29\": 2, \"50\": 5, \"4\": 2, \"30\": 3, \"20\": 8, \"57\": 1, \"19\": 3, \"33\": 1, \"54\": 3, \"44\": 1, \"47\": 1, \"8\": 1, \"1\": 3}, \"42\": {\"42\": 27, \"17\": 1}, \"6\": {\"6\": 63, \"55\": 1, \"26\": 1, \"20\": 2, \"23\": 1, \"50\": 2, \"30\": 2, \"47\": 1, \"52\": 1, \"54\": 2, \"46\": 3, \"51\": 2, \"18\": 1, \"33\": 1, \"3\": 2, \"7\": 1, \"21\": 1, \"5\": 1}, \"5\": {\"5\": 76, \"31\": 2, \"47\": 4, \"18\": 1, \"26\": 1, \"50\": 1, \"0\": 1, \"43\": 2, \"57\": 12, \"3\": 2, \"28\": 1, \"1\": 3, \"55\": 1, \"34\": 1, \"24\": 2, \"23\": 2, \"22\": 1, \"46\": 1, \"27\": 1, \"8\": 1}, \"27\": {\"47\": 3, \"27\": 103, \"9\": 18, \"29\": 3, \"46\": 1, \"6\": 1, \"1\": 1, \"21\": 3, \"51\": 1, \"57\": 1, \"32\": 1, \"36\": 1, \"8\": 2, \"17\": 1, \"3\": 1, \"50\": 1, \"4\": 2}, \"47\": {\"47\": 67, \"27\": 1, \"5\": 4, \"46\": 1, \"23\": 1, \"22\": 2, \"20\": 2, \"1\": 2, \"17\": 1, \"9\": 1, \"30\": 1, \"16\": 2, \"57\": 1, \"0\": 5, \"55\": 1}, \"39\": {\"39\": 14, \"46\": 1, \"50\": 1}, \"34\": {\"34\": 29, \"5\": 1, \"23\": 1, \"30\": 1}, \"4\": {\"4\": 100, \"9\": 2, \"32\": 2, \"45\": 1, \"19\": 13, \"29\": 2, \"25\": 2, \"27\": 1, \"3\": 2, \"5\": 1}, \"24\": {\"24\": 101, \"43\": 1, \"13\": 1, \"10\": 1}, \"46\": {\"46\": 81, \"50\": 5, \"16\": 3, \"20\": 7, \"23\": 4, \"30\": 4, \"3\": 2, \"6\": 3, \"51\": 2, \"21\": 3, \"48\": 1, \"41\": 1, \"54\": 1, \"55\": 1}, \"50\": {\"46\": 9, \"47\": 1, \"8\": 10, \"50\": 53, \"53\": 11, \"54\": 4, \"20\": 7, \"17\": 2, \"55\": 1, \"6\": 7, \"51\": 3, \"3\": 6, \"23\": 3, \"30\": 2, \"25\": 2, \"21\": 1, \"36\": 2, \"48\": 1, \"27\": 1}, \"38\": {\"38\": 27, \"25\": 1}, \"54\": {\"54\": 97, \"12\": 1, \"6\": 2}, \"35\": {\"35\": 27, \"3\": 1}, \"2\": {\"2\": 32}, \"41\": {\"41\": 28}, \"57\": {\"57\": 83, \"1\": 11, \"5\": 7, \"3\": 3, \"9\": 4, \"27\": 2, \"0\": 1, \"29\": 1, \"32\": 2, \"47\": 2, \"19\": 2}, \"25\": {\"25\": 145, \"55\": 1, \"50\": 2, \"37\": 1, \"3\": 1}, \"48\": {\"48\": 102, \"3\": 2, \"30\": 1, \"1\": 2, \"51\": 1, \"20\": 3, \"47\": 1, \"39\": 1, \"6\": 2, \"52\": 1}, \"33\": {\"33\": 25, \"3\": 1, \"6\": 2}, \"45\": {\"45\": 34, \"6\": 3, \"50\": 1, \"4\": 5, \"54\": 4, \"32\": 1, \"36\": 3, \"25\": 2, \"12\": 2, \"53\": 2, \"3\": 1, \"40\": 1, \"19\": 1}, \"13\": {\"14\": 1, \"13\": 111, \"24\": 5, \"10\": 4, \"43\": 1, \"56\": 1, \"5\": 2, \"55\": 1}, \"36\": {\"36\": 98, \"3\": 1, \"8\": 1}, \"43\": {\"43\": 128, \"10\": 1, \"49\": 1, \"7\": 1, \"55\": 1}, \"28\": {\"28\": 22, \"25\": 1, \"55\": 2, \"35\": 1, \"9\": 2}, \"0\": {\"0\": 106, \"16\": 2, \"5\": 7, \"23\": 5, \"30\": 2, \"26\": 1, \"47\": 1}, \"12\": {\"12\": 87, \"2\": 1, \"38\": 1, \"54\": 3}, \"31\": {\"31\": 26, \"5\": 1, \"28\": 1}, \"40\": {\"4\": 10, \"40\": 76, \"35\": 2, \"29\": 7, \"45\": 1, \"19\": 6, \"44\": 3, \"9\": 3, \"13\": 2, \"8\": 1, \"57\": 1, \"37\": 1, \"3\": 1, \"25\": 2}, \"44\": {\"35\": 1, \"3\": 2, \"44\": 78, \"40\": 3, \"19\": 1, \"29\": 1, \"4\": 1, \"12\": 1}, \"32\": {\"32\": 28}, \"26\": {\"26\": 17, \"46\": 1, \"30\": 3, \"15\": 1, \"48\": 1, \"6\": 1}, \"8\": {\"8\": 106, \"50\": 9, \"53\": 1}, \"10\": {\"10\": 63, \"24\": 1}, \"15\": {\"15\": 135, \"5\": 1, \"23\": 2, \"52\": 2, \"43\": 1, \"16\": 1}, \"21\": {\"50\": 6, \"27\": 2, \"21\": 87, \"51\": 12, \"54\": 1, \"20\": 6, \"30\": 2, \"17\": 1, \"48\": 2, \"3\": 4, \"57\": 1, \"33\": 1, \"36\": 1, \"18\": 1, \"53\": 1}, \"37\": {\"37\": 28}, \"17\": {\"17\": 101, \"30\": 2, \"51\": 3, \"12\": 1, \"20\": 1}, \"51\": {\"51\": 106, \"21\": 8, \"53\": 5, \"8\": 4, \"46\": 1}, \"53\": {\"53\": 125, \"21\": 3, \"36\": 6, \"51\": 7, \"20\": 1, \"50\": 1, \"25\": 1}, \"19\": {\"19\": 107, \"25\": 2, \"9\": 3, \"29\": 3, \"3\": 1, \"4\": 13, \"21\": 1, \"40\": 2, \"27\": 1, \"48\": 1, \"36\": 1, \"5\": 1}, \"49\": {\"49\": 19, \"24\": 1}, \"11\": {\"11\": 133, \"15\": 2, \"52\": 1, \"16\": 2}, \"22\": {\"22\": 110, \"56\": 6, \"0\": 1, \"1\": 3, \"55\": 1, \"43\": 3, \"24\": 3, \"5\": 1, \"13\": 2}}}, \"per_domain_accuracy\": {\"O_8\": {\"accuracy\": 0.9091145833333333, \"source?\": true}, \"O_38\": {\"accuracy\": 0.9151041666666667, \"source?\": true}, \"O_26\": {\"accuracy\": 0.7958333333333333, \"source?\": true}, \"O_20\": {\"accuracy\": 0.88515625, \"source?\": true}, \"O_50\": {\"accuracy\": 0.896875, \"source?\": true}, \"O_32\": {\"accuracy\": 0.8989583333333333, \"source?\": true}, \"O_44\": {\"accuracy\": 0.7721354166666666, \"source?\": true}, \"O_14\": {\"accuracy\": 0.9481770833333333, \"source?\": true}, \"C_2\": {\"accuracy\": 0.8259943181818182, \"source?\": false}, \"C_5\": {\"accuracy\": 0.8095154494382022, \"source?\": false}, \"C_1\": {\"accuracy\": 0.8389423076923077, \"source?\": false}, \"C_4\": {\"accuracy\": 0.8231661676646707, \"source?\": false}, \"C_3\": {\"accuracy\": 0.8198099415204678, \"source?\": false}}}, \"history\": {\"epoch_indices\": [1, 2, 3, 4, 5, 6, 7, 8, 9, 10, 11, 12, 13, 14, 15], \"train_label_loss\": [1.0099540629734596, 0.7311283744694221, 0.5803683085644263, 0.5041099798327888, 0.4505557717461627, 0.41595180904703394, 0.38548820486120394, 0.354380265425425, 0.3202553919404246, 0.2879126523650484, 0.26866459818023336, 0.24928243573272735, 0.2337464046261933, 0.21981205361246664, 0.20642487319051897], \"source_val_label_loss\": [1.013681411743164, 0.678750216960907, 0.5762776136398315, 0.4798479974269867, 0.4483271837234497, 0.44773146510124207, 0.42600300908088684, 0.39508044719696045, 0.3819163739681244, 0.36433038115501404, 0.33651402592658997, 0.3345341086387634, 0.3412906229496002, 0.3309019207954407, 0.3788968324661255], \"target_val_label_loss\": [1.8987538814544678, 1.473697304725647, 1.6112698316574097, 1.7374759912490845, 1.5279669761657715, 1.8905268907546997, 1.6105961799621582, 1.7951170206069946, 1.9894382953643799, 1.9659174680709839, 1.9397269487380981, 1.9059979915618896, 2.1540181636810303, 2.2070260047912598, 2.296260118484497], \"source_val_acc_label\": [0.6459635416666667, 0.7500651041666667, 0.7889322916666667, 0.8218424479166667, 0.83447265625, 0.8348307291666667, 0.8430989583333334, 0.8560546875, 0.8595377604166666, 0.86630859375, 0.8776692708333333, 0.8783854166666667, 0.8781901041666667, 0.8822591145833333, 0.8678385416666666], \"target_val_acc_label\": [0.7299771167048055, 0.8047768878718535, 0.8028818649885584, 0.7947296910755148, 0.8064931350114416, 0.8015946796338673, 0.8120351830663616, 0.8057422768878718, 0.7978046338672768, 0.8019522311212814, 0.8235840961098398, 0.8140732265446224, 0.805670766590389, 0.8024885583524027, 0.8094608123569794]}, \"dataset_metrics\": {\"source\": {\"train\": {\"n_unique_x\": 179200, \"n_unique_y\": 16, \"n_batch/episode\": 6720}, \"val\": {\"n_unique_x\": 38400, \"n_unique_y\": 16, \"n_batch/episode\": 960}, \"test\": {\"n_unique_x\": 38400, \"n_unique_y\": 16, \"n_batch/episode\": 960}}, \"target\": {\"train\": {\"n_unique_x\": 175127, \"n_unique_y\": 58, \"n_batch/episode\": 6303}, \"val\": {\"n_unique_x\": 37135, \"n_unique_y\": 58, \"n_batch/episode\": 874}, \"test\": {\"n_unique_x\": 37673, \"n_unique_y\": 58, \"n_batch/episode\": 893}}}}'"
      ]
     },
     "execution_count": 29,
     "metadata": {},
     "output_type": "execute_result"
    }
   ],
   "source": [
    "json.dumps(experiment)"
   ]
  }
 ],
 "metadata": {
  "celltoolbar": "Tags",
  "kernelspec": {
   "display_name": "Python 3 (ipykernel)",
   "language": "python",
   "name": "python3"
  },
  "language_info": {
   "codemirror_mode": {
    "name": "ipython",
    "version": 3
   },
   "file_extension": ".py",
   "mimetype": "text/x-python",
   "name": "python",
   "nbconvert_exporter": "python",
   "pygments_lexer": "ipython3",
   "version": "3.8.10"
  },
  "papermill": {
   "default_parameters": {},
   "duration": 4511.34142,
   "end_time": "2022-03-26T01:37:08.141975",
   "environment_variables": {},
   "exception": null,
   "input_path": "/mnt/wd500GB/CSC500/csc500-main/csc500-notebooks/templates/tl_ptn_template.ipynb",
   "output_path": "trial.ipynb",
   "parameters": {
    "parameters": {
     "BEST_MODEL_PATH": "./best_model.pth",
     "NUM_LOGS_PER_EPOCH": 10,
     "criteria_for_best": "target_accuracy",
     "dataset_seed": 154325,
     "datasets": [
      {
       "domain_prefix": "C_",
       "domains": [
        1,
        2,
        3,
        4,
        5
       ],
       "episode_transforms": [],
       "labels": [
        "1-10.",
        "1-11.",
        "1-15.",
        "1-16.",
        "1-17.",
        "1-18.",
        "1-19.",
        "10-4.",
        "10-7.",
        "11-1.",
        "11-14.",
        "11-17.",
        "11-20.",
        "11-7.",
        "13-20.",
        "13-8.",
        "14-10.",
        "14-11.",
        "14-14.",
        "14-7.",
        "15-1.",
        "15-20.",
        "16-1.",
        "16-16.",
        "17-10.",
        "17-11.",
        "17-2.",
        "19-1.",
        "19-16.",
        "19-19.",
        "19-20.",
        "19-3.",
        "2-10.",
        "2-11.",
        "2-17.",
        "2-18.",
        "2-20.",
        "2-3.",
        "2-4.",
        "2-5.",
        "2-6.",
        "2-7.",
        "2-8.",
        "3-13.",
        "3-18.",
        "3-3.",
        "4-1.",
        "4-10.",
        "4-11.",
        "4-19.",
        "5-5.",
        "6-15.",
        "7-10.",
        "7-14.",
        "8-18.",
        "8-20.",
        "8-3.",
        "8-8."
       ],
       "num_examples_per_domain_per_label": -1,
       "pickle_path": "/mnt/wd500GB/CSC500/csc500-main/datasets/cores.stratified_ds.2022A.pkl",
       "source_or_target_dataset": "target",
       "x_transforms": [
        "unit_power",
        "lowpass_+/-10MHz",
        "take_200"
       ]
      },
      {
       "domain_prefix": "O_",
       "domains": [
        32,
        38,
        8,
        44,
        14,
        50,
        20,
        26
       ],
       "episode_transforms": [],
       "labels": [
        "3123D52",
        "3123D65",
        "3123D79",
        "3123D80",
        "3123D54",
        "3123D70",
        "3123D7B",
        "3123D89",
        "3123D58",
        "3123D76",
        "3123D7D",
        "3123EFE",
        "3123D64",
        "3123D78",
        "3123D7E",
        "3124E4A"
       ],
       "num_examples_per_domain_per_label": 2000,
       "pickle_path": "/mnt/wd500GB/CSC500/csc500-main/datasets/oracle.Run1_framed_2000Examples_stratified_ds.2022A.pkl",
       "source_or_target_dataset": "source",
       "x_transforms": [
        "unit_power",
        "take_200",
        "resample_20Msps_to_25Msps"
       ]
      }
     ],
     "device": "cuda",
     "experiment_name": "tl_3-filterv2:oracle.run1.framed -> cores",
     "lr": 0.0001,
     "n_epoch": 50,
     "n_query": 2,
     "n_shot": 3,
     "n_way": 16,
     "patience": 3,
     "seed": 154325,
     "test_k_factor": 2,
     "torch_default_dtype": "torch.float32",
     "train_k_factor": 3,
     "val_k_factor": 2,
     "x_net": [
      {
       "class": "nnReshape",
       "kargs": {
        "shape": [
         -1,
         1,
         2,
         200
        ]
       }
      },
      {
       "class": "Conv2d",
       "kargs": {
        "bias": false,
        "in_channels": 1,
        "kernel_size": [
         1,
         7
        ],
        "out_channels": 256,
        "padding": [
         0,
         3
        ]
       }
      },
      {
       "class": "ReLU",
       "kargs": {
        "inplace": true
       }
      },
      {
       "class": "BatchNorm2d",
       "kargs": {
        "num_features": 256
       }
      },
      {
       "class": "Conv2d",
       "kargs": {
        "bias": true,
        "in_channels": 256,
        "kernel_size": [
         2,
         7
        ],
        "out_channels": 80,
        "padding": [
         0,
         3
        ]
       }
      },
      {
       "class": "ReLU",
       "kargs": {
        "inplace": true
       }
      },
      {
       "class": "BatchNorm2d",
       "kargs": {
        "num_features": 80
       }
      },
      {
       "class": "Flatten",
       "kargs": {}
      },
      {
       "class": "Linear",
       "kargs": {
        "in_features": 16000,
        "out_features": 256
       }
      },
      {
       "class": "ReLU",
       "kargs": {
        "inplace": true
       }
      },
      {
       "class": "BatchNorm1d",
       "kargs": {
        "num_features": 256
       }
      },
      {
       "class": "Linear",
       "kargs": {
        "in_features": 256,
        "out_features": 256
       }
      }
     ],
     "x_shape": [
      2,
      200
     ]
    }
   },
   "start_time": "2022-03-26T00:21:56.800555",
   "version": "2.3.4"
  }
 },
 "nbformat": 4,
 "nbformat_minor": 5
}