{
 "cells": [
  {
   "cell_type": "markdown",
   "id": "9fea5f46",
   "metadata": {
    "papermill": {
     "duration": 0.021587,
     "end_time": "2022-03-26T01:12:08.015683",
     "exception": false,
     "start_time": "2022-03-26T01:12:07.994096",
     "status": "completed"
    },
    "tags": []
   },
   "source": [
    "# Transfer Learning Template"
   ]
  },
  {
   "cell_type": "code",
   "execution_count": 1,
   "id": "0902182a",
   "metadata": {
    "execution": {
     "iopub.execute_input": "2022-03-26T01:12:08.058508Z",
     "iopub.status.busy": "2022-03-26T01:12:08.058049Z",
     "iopub.status.idle": "2022-03-26T01:12:09.049025Z",
     "shell.execute_reply": "2022-03-26T01:12:09.049292Z"
    },
    "papermill": {
     "duration": 1.0191,
     "end_time": "2022-03-26T01:12:09.049420",
     "exception": false,
     "start_time": "2022-03-26T01:12:08.030320",
     "status": "completed"
    },
    "tags": []
   },
   "outputs": [],
   "source": [
    "%load_ext autoreload\n",
    "%autoreload 2\n",
    "%matplotlib inline\n",
    "\n",
    "    \n",
    "import os, json, sys, time, random\n",
    "import numpy as np\n",
    "import torch\n",
    "from torch.optim import Adam\n",
    "from  easydict import EasyDict\n",
    "import matplotlib.pyplot as plt\n",
    "\n",
    "from steves_models.steves_ptn import Steves_Prototypical_Network\n",
    "\n",
    "from steves_utils.lazy_iterable_wrapper import Lazy_Iterable_Wrapper\n",
    "from steves_utils.iterable_aggregator import Iterable_Aggregator\n",
    "from steves_utils.ptn_train_eval_test_jig import  PTN_Train_Eval_Test_Jig\n",
    "from steves_utils.torch_sequential_builder import build_sequential\n",
    "from steves_utils.torch_utils import get_dataset_metrics, ptn_confusion_by_domain_over_dataloader\n",
    "from steves_utils.utils_v2 import (per_domain_accuracy_from_confusion, get_datasets_base_path)\n",
    "from steves_utils.PTN.utils import independent_accuracy_assesment\n",
    "\n",
    "from torch.utils.data import DataLoader\n",
    "\n",
    "from steves_utils.stratified_dataset.episodic_accessor import Episodic_Accessor_Factory\n",
    "\n",
    "from steves_utils.ptn_do_report import (\n",
    "    get_loss_curve,\n",
    "    get_results_table,\n",
    "    get_parameters_table,\n",
    "    get_domain_accuracies,\n",
    ")\n",
    "\n",
    "from steves_utils.transforms import get_chained_transform"
   ]
  },
  {
   "cell_type": "markdown",
   "id": "41c840b4",
   "metadata": {
    "papermill": {
     "duration": 0.012985,
     "end_time": "2022-03-26T01:12:09.076044",
     "exception": false,
     "start_time": "2022-03-26T01:12:09.063059",
     "status": "completed"
    },
    "tags": []
   },
   "source": [
    "# Allowed Parameters\n",
    "These are allowed parameters, not defaults\n",
    "Each of these values need to be present in the injected parameters (the notebook will raise an exception if they are not present)\n",
    "\n",
    "Papermill uses the cell tag \"parameters\" to inject the real parameters below this cell.\n",
    "Enable tags to see what I mean"
   ]
  },
  {
   "cell_type": "code",
   "execution_count": 2,
   "id": "fd44eb83",
   "metadata": {
    "execution": {
     "iopub.execute_input": "2022-03-26T01:12:09.104693Z",
     "iopub.status.busy": "2022-03-26T01:12:09.104208Z",
     "iopub.status.idle": "2022-03-26T01:12:09.116827Z",
     "shell.execute_reply": "2022-03-26T01:12:09.117259Z"
    },
    "papermill": {
     "duration": 0.028393,
     "end_time": "2022-03-26T01:12:09.117389",
     "exception": false,
     "start_time": "2022-03-26T01:12:09.088996",
     "status": "completed"
    },
    "tags": []
   },
   "outputs": [],
   "source": [
    "required_parameters = {\n",
    "    \"experiment_name\",\n",
    "    \"lr\",\n",
    "    \"device\",\n",
    "    \"seed\",\n",
    "    \"dataset_seed\",\n",
    "    \"n_shot\",\n",
    "    \"n_query\",\n",
    "    \"n_way\",\n",
    "    \"train_k_factor\",\n",
    "    \"val_k_factor\",\n",
    "    \"test_k_factor\",\n",
    "    \"n_epoch\",\n",
    "    \"patience\",\n",
    "    \"criteria_for_best\",\n",
    "    \"x_net\",\n",
    "    \"datasets\",\n",
    "    \"torch_default_dtype\",\n",
    "    \"NUM_LOGS_PER_EPOCH\",\n",
    "    \"BEST_MODEL_PATH\",\n",
    "    \"x_shape\",\n",
    "}"
   ]
  },
  {
   "cell_type": "code",
   "execution_count": 3,
   "id": "fa3f0049",
   "metadata": {
    "execution": {
     "iopub.execute_input": "2022-03-26T01:12:09.157950Z",
     "iopub.status.busy": "2022-03-26T01:12:09.157484Z",
     "iopub.status.idle": "2022-03-26T01:12:09.171029Z",
     "shell.execute_reply": "2022-03-26T01:12:09.170565Z"
    },
    "papermill": {
     "duration": 0.035979,
     "end_time": "2022-03-26T01:12:09.171141",
     "exception": false,
     "start_time": "2022-03-26T01:12:09.135162",
     "status": "completed"
    },
    "tags": [
     "parameters"
    ]
   },
   "outputs": [],
   "source": [
    "from steves_utils.CORES.utils import (\n",
    "    ALL_NODES,\n",
    "    ALL_NODES_MINIMUM_1000_EXAMPLES,\n",
    "    ALL_DAYS\n",
    ")\n",
    "\n",
    "from steves_utils.ORACLE.utils_v2 import (\n",
    "    ALL_DISTANCES_FEET_NARROWED,\n",
    "    ALL_RUNS,\n",
    "    ALL_SERIAL_NUMBERS,\n",
    ")\n",
    "\n",
    "standalone_parameters = {}\n",
    "standalone_parameters[\"experiment_name\"] = \"STANDALONE PTN\"\n",
    "standalone_parameters[\"lr\"] = 0.001\n",
    "standalone_parameters[\"device\"] = \"cuda\"\n",
    "\n",
    "standalone_parameters[\"seed\"] = 1337\n",
    "standalone_parameters[\"dataset_seed\"] = 1337\n",
    "\n",
    "standalone_parameters[\"n_way\"] = 8\n",
    "standalone_parameters[\"n_shot\"] = 3\n",
    "standalone_parameters[\"n_query\"]  = 2\n",
    "standalone_parameters[\"train_k_factor\"] = 1\n",
    "standalone_parameters[\"val_k_factor\"] = 2\n",
    "standalone_parameters[\"test_k_factor\"] = 2\n",
    "\n",
    "\n",
    "standalone_parameters[\"n_epoch\"] = 50\n",
    "\n",
    "standalone_parameters[\"patience\"] = 10\n",
    "standalone_parameters[\"criteria_for_best\"] = \"source_loss\"\n",
    "\n",
    "standalone_parameters[\"datasets\"] = [\n",
    "    {\n",
    "        \"labels\": ALL_SERIAL_NUMBERS,\n",
    "        \"domains\": ALL_DISTANCES_FEET_NARROWED,\n",
    "        \"num_examples_per_domain_per_label\": 100,\n",
    "        \"pickle_path\": os.path.join(get_datasets_base_path(), \"oracle.Run1_framed_2000Examples_stratified_ds.2022A.pkl\"),\n",
    "        \"source_or_target_dataset\": \"source\",\n",
    "        \"x_transforms\": [\"unit_mag\", \"minus_two\"],\n",
    "        \"episode_transforms\": [],\n",
    "        \"domain_prefix\": \"ORACLE_\"\n",
    "    },\n",
    "    {\n",
    "        \"labels\": ALL_NODES,\n",
    "        \"domains\": ALL_DAYS,\n",
    "        \"num_examples_per_domain_per_label\": 100,\n",
    "        \"pickle_path\": os.path.join(get_datasets_base_path(), \"cores.stratified_ds.2022A.pkl\"),\n",
    "        \"source_or_target_dataset\": \"target\",\n",
    "        \"x_transforms\": [\"unit_power\", \"times_zero\"],\n",
    "        \"episode_transforms\": [],\n",
    "        \"domain_prefix\": \"CORES_\"\n",
    "    }   \n",
    "]\n",
    "\n",
    "standalone_parameters[\"torch_default_dtype\"] = \"torch.float32\" \n",
    "\n",
    "\n",
    "\n",
    "standalone_parameters[\"x_net\"] =     [\n",
    "    {\"class\": \"nnReshape\", \"kargs\": {\"shape\":[-1, 1, 2, 256]}},\n",
    "    {\"class\": \"Conv2d\", \"kargs\": { \"in_channels\":1, \"out_channels\":256, \"kernel_size\":(1,7), \"bias\":False, \"padding\":(0,3), },},\n",
    "    {\"class\": \"ReLU\", \"kargs\": {\"inplace\": True}},\n",
    "    {\"class\": \"BatchNorm2d\", \"kargs\": {\"num_features\":256}},\n",
    "\n",
    "    {\"class\": \"Conv2d\", \"kargs\": { \"in_channels\":256, \"out_channels\":80, \"kernel_size\":(2,7), \"bias\":True, \"padding\":(0,3), },},\n",
    "    {\"class\": \"ReLU\", \"kargs\": {\"inplace\": True}},\n",
    "    {\"class\": \"BatchNorm2d\", \"kargs\": {\"num_features\":80}},\n",
    "    {\"class\": \"Flatten\", \"kargs\": {}},\n",
    "\n",
    "    {\"class\": \"Linear\", \"kargs\": {\"in_features\": 80*256, \"out_features\": 256}}, # 80 units per IQ pair\n",
    "    {\"class\": \"ReLU\", \"kargs\": {\"inplace\": True}},\n",
    "    {\"class\": \"BatchNorm1d\", \"kargs\": {\"num_features\":256}},\n",
    "\n",
    "    {\"class\": \"Linear\", \"kargs\": {\"in_features\": 256, \"out_features\": 256}},\n",
    "]\n",
    "\n",
    "# Parameters relevant to results\n",
    "# These parameters will basically never need to change\n",
    "standalone_parameters[\"NUM_LOGS_PER_EPOCH\"] = 10\n",
    "standalone_parameters[\"BEST_MODEL_PATH\"] = \"./best_model.pth\"\n",
    "\n",
    "\n",
    "\n",
    "\n"
   ]
  },
  {
   "cell_type": "code",
   "execution_count": 4,
   "id": "4d699354",
   "metadata": {
    "execution": {
     "iopub.execute_input": "2022-03-26T01:12:09.205777Z",
     "iopub.status.busy": "2022-03-26T01:12:09.205304Z",
     "iopub.status.idle": "2022-03-26T01:12:09.219628Z",
     "shell.execute_reply": "2022-03-26T01:12:09.219152Z"
    },
    "papermill": {
     "duration": 0.03366,
     "end_time": "2022-03-26T01:12:09.219734",
     "exception": false,
     "start_time": "2022-03-26T01:12:09.186074",
     "status": "completed"
    },
    "tags": [
     "injected-parameters"
    ]
   },
   "outputs": [],
   "source": [
    "# Parameters\n",
    "parameters = {\n",
    "    \"experiment_name\": \"tl_3-filterv2:oracle.run1.framed -> cores\",\n",
    "    \"device\": \"cuda\",\n",
    "    \"lr\": 0.0001,\n",
    "    \"x_shape\": [2, 200],\n",
    "    \"n_shot\": 3,\n",
    "    \"n_query\": 2,\n",
    "    \"train_k_factor\": 3,\n",
    "    \"val_k_factor\": 2,\n",
    "    \"test_k_factor\": 2,\n",
    "    \"torch_default_dtype\": \"torch.float32\",\n",
    "    \"n_epoch\": 50,\n",
    "    \"patience\": 3,\n",
    "    \"criteria_for_best\": \"target_accuracy\",\n",
    "    \"x_net\": [\n",
    "        {\"class\": \"nnReshape\", \"kargs\": {\"shape\": [-1, 1, 2, 200]}},\n",
    "        {\n",
    "            \"class\": \"Conv2d\",\n",
    "            \"kargs\": {\n",
    "                \"in_channels\": 1,\n",
    "                \"out_channels\": 256,\n",
    "                \"kernel_size\": [1, 7],\n",
    "                \"bias\": False,\n",
    "                \"padding\": [0, 3],\n",
    "            },\n",
    "        },\n",
    "        {\"class\": \"ReLU\", \"kargs\": {\"inplace\": True}},\n",
    "        {\"class\": \"BatchNorm2d\", \"kargs\": {\"num_features\": 256}},\n",
    "        {\n",
    "            \"class\": \"Conv2d\",\n",
    "            \"kargs\": {\n",
    "                \"in_channels\": 256,\n",
    "                \"out_channels\": 80,\n",
    "                \"kernel_size\": [2, 7],\n",
    "                \"bias\": True,\n",
    "                \"padding\": [0, 3],\n",
    "            },\n",
    "        },\n",
    "        {\"class\": \"ReLU\", \"kargs\": {\"inplace\": True}},\n",
    "        {\"class\": \"BatchNorm2d\", \"kargs\": {\"num_features\": 80}},\n",
    "        {\"class\": \"Flatten\", \"kargs\": {}},\n",
    "        {\"class\": \"Linear\", \"kargs\": {\"in_features\": 16000, \"out_features\": 256}},\n",
    "        {\"class\": \"ReLU\", \"kargs\": {\"inplace\": True}},\n",
    "        {\"class\": \"BatchNorm1d\", \"kargs\": {\"num_features\": 256}},\n",
    "        {\"class\": \"Linear\", \"kargs\": {\"in_features\": 256, \"out_features\": 256}},\n",
    "    ],\n",
    "    \"NUM_LOGS_PER_EPOCH\": 10,\n",
    "    \"BEST_MODEL_PATH\": \"./best_model.pth\",\n",
    "    \"n_way\": 16,\n",
    "    \"datasets\": [\n",
    "        {\n",
    "            \"labels\": [\n",
    "                \"1-10.\",\n",
    "                \"1-11.\",\n",
    "                \"1-15.\",\n",
    "                \"1-16.\",\n",
    "                \"1-17.\",\n",
    "                \"1-18.\",\n",
    "                \"1-19.\",\n",
    "                \"10-4.\",\n",
    "                \"10-7.\",\n",
    "                \"11-1.\",\n",
    "                \"11-14.\",\n",
    "                \"11-17.\",\n",
    "                \"11-20.\",\n",
    "                \"11-7.\",\n",
    "                \"13-20.\",\n",
    "                \"13-8.\",\n",
    "                \"14-10.\",\n",
    "                \"14-11.\",\n",
    "                \"14-14.\",\n",
    "                \"14-7.\",\n",
    "                \"15-1.\",\n",
    "                \"15-20.\",\n",
    "                \"16-1.\",\n",
    "                \"16-16.\",\n",
    "                \"17-10.\",\n",
    "                \"17-11.\",\n",
    "                \"17-2.\",\n",
    "                \"19-1.\",\n",
    "                \"19-16.\",\n",
    "                \"19-19.\",\n",
    "                \"19-20.\",\n",
    "                \"19-3.\",\n",
    "                \"2-10.\",\n",
    "                \"2-11.\",\n",
    "                \"2-17.\",\n",
    "                \"2-18.\",\n",
    "                \"2-20.\",\n",
    "                \"2-3.\",\n",
    "                \"2-4.\",\n",
    "                \"2-5.\",\n",
    "                \"2-6.\",\n",
    "                \"2-7.\",\n",
    "                \"2-8.\",\n",
    "                \"3-13.\",\n",
    "                \"3-18.\",\n",
    "                \"3-3.\",\n",
    "                \"4-1.\",\n",
    "                \"4-10.\",\n",
    "                \"4-11.\",\n",
    "                \"4-19.\",\n",
    "                \"5-5.\",\n",
    "                \"6-15.\",\n",
    "                \"7-10.\",\n",
    "                \"7-14.\",\n",
    "                \"8-18.\",\n",
    "                \"8-20.\",\n",
    "                \"8-3.\",\n",
    "                \"8-8.\",\n",
    "            ],\n",
    "            \"domains\": [1, 2, 3, 4, 5],\n",
    "            \"num_examples_per_domain_per_label\": -1,\n",
    "            \"pickle_path\": \"/mnt/wd500GB/CSC500/csc500-main/datasets/cores.stratified_ds.2022A.pkl\",\n",
    "            \"source_or_target_dataset\": \"target\",\n",
    "            \"x_transforms\": [\"unit_mag\", \"lowpass_+/-10MHz\", \"take_200\"],\n",
    "            \"episode_transforms\": [],\n",
    "            \"domain_prefix\": \"C_\",\n",
    "        },\n",
    "        {\n",
    "            \"labels\": [\n",
    "                \"3123D52\",\n",
    "                \"3123D65\",\n",
    "                \"3123D79\",\n",
    "                \"3123D80\",\n",
    "                \"3123D54\",\n",
    "                \"3123D70\",\n",
    "                \"3123D7B\",\n",
    "                \"3123D89\",\n",
    "                \"3123D58\",\n",
    "                \"3123D76\",\n",
    "                \"3123D7D\",\n",
    "                \"3123EFE\",\n",
    "                \"3123D64\",\n",
    "                \"3123D78\",\n",
    "                \"3123D7E\",\n",
    "                \"3124E4A\",\n",
    "            ],\n",
    "            \"domains\": [32, 38, 8, 44, 14, 50, 20, 26],\n",
    "            \"num_examples_per_domain_per_label\": 2000,\n",
    "            \"pickle_path\": \"/mnt/wd500GB/CSC500/csc500-main/datasets/oracle.Run1_framed_2000Examples_stratified_ds.2022A.pkl\",\n",
    "            \"source_or_target_dataset\": \"source\",\n",
    "            \"x_transforms\": [\"unit_mag\", \"take_200\", \"resample_20Msps_to_25Msps\"],\n",
    "            \"episode_transforms\": [],\n",
    "            \"domain_prefix\": \"O_\",\n",
    "        },\n",
    "    ],\n",
    "    \"seed\": 154325,\n",
    "    \"dataset_seed\": 154325,\n",
    "}\n"
   ]
  },
  {
   "cell_type": "code",
   "execution_count": 5,
   "id": "8fa1cc33",
   "metadata": {
    "execution": {
     "iopub.execute_input": "2022-03-26T01:12:09.255010Z",
     "iopub.status.busy": "2022-03-26T01:12:09.252173Z",
     "iopub.status.idle": "2022-03-26T01:12:09.270138Z",
     "shell.execute_reply": "2022-03-26T01:12:09.269636Z"
    },
    "papermill": {
     "duration": 0.032298,
     "end_time": "2022-03-26T01:12:09.270245",
     "exception": false,
     "start_time": "2022-03-26T01:12:09.237947",
     "status": "completed"
    },
    "tags": []
   },
   "outputs": [],
   "source": [
    "# Set this to True if you want to run this template directly\n",
    "STANDALONE = False\n",
    "if STANDALONE:\n",
    "    print(\"parameters not injected, running with standalone_parameters\")\n",
    "    parameters = standalone_parameters\n",
    "\n",
    "if not 'parameters' in locals() and not 'parameters' in globals():\n",
    "    raise Exception(\"Parameter injection failed\")\n",
    "\n",
    "#Use an easy dict for all the parameters\n",
    "p = EasyDict(parameters)\n",
    "\n",
    "if \"x_shape\" not in p:\n",
    "    p.x_shape = [2,256] # Default to this if we dont supply x_shape\n",
    "\n",
    "\n",
    "supplied_keys = set(p.keys())\n",
    "\n",
    "if  supplied_keys != required_parameters:\n",
    "    print(\"Parameters are incorrect\")\n",
    "    if len(supplied_keys - required_parameters)>0: print(\"Shouldn't have:\", str(supplied_keys - required_parameters))\n",
    "    if len(required_parameters - supplied_keys)>0: print(\"Need to have:\", str(required_parameters - supplied_keys))\n",
    "    raise RuntimeError(\"Parameters are incorrect\")"
   ]
  },
  {
   "cell_type": "code",
   "execution_count": 6,
   "id": "3a028d58",
   "metadata": {
    "execution": {
     "iopub.execute_input": "2022-03-26T01:12:09.307204Z",
     "iopub.status.busy": "2022-03-26T01:12:09.306935Z",
     "iopub.status.idle": "2022-03-26T01:12:09.322476Z",
     "shell.execute_reply": "2022-03-26T01:12:09.321990Z"
    },
    "papermill": {
     "duration": 0.032646,
     "end_time": "2022-03-26T01:12:09.322585",
     "exception": false,
     "start_time": "2022-03-26T01:12:09.289939",
     "status": "completed"
    },
    "tags": []
   },
   "outputs": [],
   "source": [
    "###################################\n",
    "# Set the RNGs and make it all deterministic\n",
    "###################################\n",
    "np.random.seed(p.seed)\n",
    "random.seed(p.seed)\n",
    "torch.manual_seed(p.seed)\n",
    "\n",
    "torch.use_deterministic_algorithms(True) "
   ]
  },
  {
   "cell_type": "code",
   "execution_count": 7,
   "id": "b691acf6",
   "metadata": {
    "execution": {
     "iopub.execute_input": "2022-03-26T01:12:09.357872Z",
     "iopub.status.busy": "2022-03-26T01:12:09.357608Z",
     "iopub.status.idle": "2022-03-26T01:12:09.373119Z",
     "shell.execute_reply": "2022-03-26T01:12:09.372668Z"
    },
    "papermill": {
     "duration": 0.030719,
     "end_time": "2022-03-26T01:12:09.373223",
     "exception": false,
     "start_time": "2022-03-26T01:12:09.342504",
     "status": "completed"
    },
    "tags": []
   },
   "outputs": [],
   "source": [
    "###########################################\n",
    "# The stratified datasets honor this\n",
    "###########################################\n",
    "torch.set_default_dtype(eval(p.torch_default_dtype))"
   ]
  },
  {
   "cell_type": "code",
   "execution_count": 8,
   "id": "b5fba671",
   "metadata": {
    "execution": {
     "iopub.execute_input": "2022-03-26T01:12:09.408772Z",
     "iopub.status.busy": "2022-03-26T01:12:09.407838Z",
     "iopub.status.idle": "2022-03-26T01:12:09.444026Z",
     "shell.execute_reply": "2022-03-26T01:12:09.444394Z"
    },
    "papermill": {
     "duration": 0.053202,
     "end_time": "2022-03-26T01:12:09.444516",
     "exception": false,
     "start_time": "2022-03-26T01:12:09.391314",
     "status": "completed"
    },
    "tags": []
   },
   "outputs": [],
   "source": [
    "###################################\n",
    "# Build the network(s)\n",
    "# Note: It's critical to do this AFTER setting the RNG\n",
    "###################################\n",
    "x_net = build_sequential(p.x_net)"
   ]
  },
  {
   "cell_type": "code",
   "execution_count": 9,
   "id": "5d7e61cc",
   "metadata": {
    "execution": {
     "iopub.execute_input": "2022-03-26T01:12:09.479828Z",
     "iopub.status.busy": "2022-03-26T01:12:09.479566Z",
     "iopub.status.idle": "2022-03-26T01:12:09.495154Z",
     "shell.execute_reply": "2022-03-26T01:12:09.495514Z"
    },
    "papermill": {
     "duration": 0.031548,
     "end_time": "2022-03-26T01:12:09.495627",
     "exception": false,
     "start_time": "2022-03-26T01:12:09.464079",
     "status": "completed"
    },
    "tags": []
   },
   "outputs": [],
   "source": [
    "start_time_secs = time.time()"
   ]
  },
  {
   "cell_type": "code",
   "execution_count": 10,
   "id": "c6b67dfd",
   "metadata": {
    "execution": {
     "iopub.execute_input": "2022-03-26T01:12:09.532164Z",
     "iopub.status.busy": "2022-03-26T01:12:09.531902Z",
     "iopub.status.idle": "2022-03-26T01:12:09.544544Z",
     "shell.execute_reply": "2022-03-26T01:12:09.544951Z"
    },
    "papermill": {
     "duration": 0.03005,
     "end_time": "2022-03-26T01:12:09.545078",
     "exception": false,
     "start_time": "2022-03-26T01:12:09.515028",
     "status": "completed"
    },
    "tags": []
   },
   "outputs": [],
   "source": [
    "p.domains_source = []\n",
    "p.domains_target = []\n",
    "\n",
    "\n",
    "train_original_source = []\n",
    "val_original_source   = []\n",
    "test_original_source  = []\n",
    "\n",
    "train_original_target = []\n",
    "val_original_target   = []\n",
    "test_original_target  = []"
   ]
  },
  {
   "cell_type": "code",
   "execution_count": 11,
   "id": "e3d9c3d3",
   "metadata": {
    "execution": {
     "iopub.execute_input": "2022-03-26T01:12:09.579018Z",
     "iopub.status.busy": "2022-03-26T01:12:09.578761Z",
     "iopub.status.idle": "2022-03-26T01:12:09.591586Z",
     "shell.execute_reply": "2022-03-26T01:12:09.591991Z"
    },
    "papermill": {
     "duration": 0.028447,
     "end_time": "2022-03-26T01:12:09.592116",
     "exception": false,
     "start_time": "2022-03-26T01:12:09.563669",
     "status": "completed"
    },
    "tags": []
   },
   "outputs": [],
   "source": [
    "# global_x_transform_func = lambda x: normalize(x.to(torch.get_default_dtype()), \"unit_power\") # unit_power, unit_mag\n",
    "# global_x_transform_func = lambda x: normalize(x, \"unit_power\") # unit_power, unit_mag"
   ]
  },
  {
   "cell_type": "code",
   "execution_count": 12,
   "id": "acb78fd2",
   "metadata": {
    "execution": {
     "iopub.execute_input": "2022-03-26T01:12:09.634587Z",
     "iopub.status.busy": "2022-03-26T01:12:09.634319Z",
     "iopub.status.idle": "2022-03-26T01:12:09.648586Z",
     "shell.execute_reply": "2022-03-26T01:12:09.648292Z"
    },
    "papermill": {
     "duration": 0.036521,
     "end_time": "2022-03-26T01:12:09.648647",
     "exception": false,
     "start_time": "2022-03-26T01:12:09.612126",
     "status": "completed"
    },
    "tags": []
   },
   "outputs": [],
   "source": [
    "def add_dataset(\n",
    "    labels,\n",
    "    domains,\n",
    "    pickle_path,\n",
    "    x_transforms,\n",
    "    episode_transforms,\n",
    "    domain_prefix,\n",
    "    num_examples_per_domain_per_label,\n",
    "    source_or_target_dataset:str,\n",
    "    iterator_seed=p.seed,\n",
    "    dataset_seed=p.dataset_seed,\n",
    "    n_shot=p.n_shot,\n",
    "    n_way=p.n_way,\n",
    "    n_query=p.n_query,\n",
    "    train_val_test_k_factors=(p.train_k_factor,p.val_k_factor,p.test_k_factor),\n",
    "):\n",
    "   \n",
    "    if x_transforms == []: x_transform = None\n",
    "    else: x_transform = get_chained_transform(x_transforms)\n",
    "    \n",
    "    if episode_transforms == []: episode_transform = None\n",
    "    else: raise Exception(\"episode_transforms not implemented\")\n",
    "    \n",
    "    episode_transform = lambda tup, _prefix=domain_prefix: (_prefix + str(tup[0]), tup[1])\n",
    "\n",
    "\n",
    "    eaf = Episodic_Accessor_Factory(\n",
    "        labels=labels,\n",
    "        domains=domains,\n",
    "        num_examples_per_domain_per_label=num_examples_per_domain_per_label,\n",
    "        iterator_seed=iterator_seed,\n",
    "        dataset_seed=dataset_seed,\n",
    "        n_shot=n_shot,\n",
    "        n_way=n_way,\n",
    "        n_query=n_query,\n",
    "        train_val_test_k_factors=train_val_test_k_factors,\n",
    "        pickle_path=pickle_path,\n",
    "        x_transform_func=x_transform,\n",
    "    )\n",
    "\n",
    "    train, val, test = eaf.get_train(), eaf.get_val(), eaf.get_test()\n",
    "    train = Lazy_Iterable_Wrapper(train, episode_transform)\n",
    "    val = Lazy_Iterable_Wrapper(val, episode_transform)\n",
    "    test = Lazy_Iterable_Wrapper(test, episode_transform)\n",
    "\n",
    "    if source_or_target_dataset==\"source\":\n",
    "        train_original_source.append(train)\n",
    "        val_original_source.append(val)\n",
    "        test_original_source.append(test)\n",
    "\n",
    "        p.domains_source.extend(\n",
    "            [domain_prefix + str(u) for u in domains]\n",
    "        )\n",
    "    elif source_or_target_dataset==\"target\":\n",
    "        train_original_target.append(train)\n",
    "        val_original_target.append(val)\n",
    "        test_original_target.append(test)\n",
    "        p.domains_target.extend(\n",
    "            [domain_prefix + str(u) for u in domains]\n",
    "        )\n",
    "    else:\n",
    "        raise Exception(f\"invalid source_or_target_dataset: {source_or_target_dataset}\")\n",
    "    "
   ]
  },
  {
   "cell_type": "code",
   "execution_count": 13,
   "id": "fe266617",
   "metadata": {
    "execution": {
     "iopub.execute_input": "2022-03-26T01:12:09.678657Z",
     "iopub.status.busy": "2022-03-26T01:12:09.678244Z",
     "iopub.status.idle": "2022-03-26T01:13:03.692572Z",
     "shell.execute_reply": "2022-03-26T01:13:03.693150Z"
    },
    "papermill": {
     "duration": 54.030649,
     "end_time": "2022-03-26T01:13:03.693325",
     "exception": false,
     "start_time": "2022-03-26T01:12:09.662676",
     "status": "completed"
    },
    "tags": []
   },
   "outputs": [],
   "source": [
    "for ds in p.datasets:\n",
    "    add_dataset(**ds)"
   ]
  },
  {
   "cell_type": "code",
   "execution_count": 14,
   "id": "b90d65ac",
   "metadata": {
    "execution": {
     "iopub.execute_input": "2022-03-26T01:13:03.731543Z",
     "iopub.status.busy": "2022-03-26T01:13:03.731265Z",
     "iopub.status.idle": "2022-03-26T01:13:03.743076Z",
     "shell.execute_reply": "2022-03-26T01:13:03.742658Z"
    },
    "papermill": {
     "duration": 0.030699,
     "end_time": "2022-03-26T01:13:03.743173",
     "exception": false,
     "start_time": "2022-03-26T01:13:03.712474",
     "status": "completed"
    },
    "tags": []
   },
   "outputs": [],
   "source": [
    "# from steves_utils.CORES.utils import (\n",
    "#     ALL_NODES,\n",
    "#     ALL_NODES_MINIMUM_1000_EXAMPLES,\n",
    "#     ALL_DAYS\n",
    "# )\n",
    "\n",
    "# add_dataset(\n",
    "#     labels=ALL_NODES,\n",
    "#     domains = ALL_DAYS,\n",
    "#     num_examples_per_domain_per_label=100,\n",
    "#     pickle_path=os.path.join(get_datasets_base_path(), \"cores.stratified_ds.2022A.pkl\"),\n",
    "#     source_or_target_dataset=\"target\",\n",
    "#     x_transform_func=global_x_transform_func,\n",
    "#     domain_modifier=lambda u: f\"cores_{u}\"\n",
    "# )"
   ]
  },
  {
   "cell_type": "code",
   "execution_count": 15,
   "id": "76db484d",
   "metadata": {
    "execution": {
     "iopub.execute_input": "2022-03-26T01:13:03.779257Z",
     "iopub.status.busy": "2022-03-26T01:13:03.778865Z",
     "iopub.status.idle": "2022-03-26T01:13:03.791632Z",
     "shell.execute_reply": "2022-03-26T01:13:03.791360Z"
    },
    "papermill": {
     "duration": 0.031226,
     "end_time": "2022-03-26T01:13:03.791692",
     "exception": false,
     "start_time": "2022-03-26T01:13:03.760466",
     "status": "completed"
    },
    "tags": []
   },
   "outputs": [],
   "source": [
    "# from steves_utils.ORACLE.utils_v2 import (\n",
    "#     ALL_DISTANCES_FEET,\n",
    "#     ALL_RUNS,\n",
    "#     ALL_SERIAL_NUMBERS,\n",
    "# )\n",
    "\n",
    "\n",
    "# add_dataset(\n",
    "#     labels=ALL_SERIAL_NUMBERS,\n",
    "#     domains = list(set(ALL_DISTANCES_FEET) - {2,62}),\n",
    "#     num_examples_per_domain_per_label=100,\n",
    "#     pickle_path=os.path.join(get_datasets_base_path(), \"oracle.Run2_framed_2000Examples_stratified_ds.2022A.pkl\"),\n",
    "#     source_or_target_dataset=\"source\",\n",
    "#     x_transform_func=global_x_transform_func,\n",
    "#     domain_modifier=lambda u: f\"oracle1_{u}\"\n",
    "# )\n"
   ]
  },
  {
   "cell_type": "code",
   "execution_count": 16,
   "id": "97dea9d2",
   "metadata": {
    "execution": {
     "iopub.execute_input": "2022-03-26T01:13:03.827898Z",
     "iopub.status.busy": "2022-03-26T01:13:03.827627Z",
     "iopub.status.idle": "2022-03-26T01:13:03.841764Z",
     "shell.execute_reply": "2022-03-26T01:13:03.841271Z"
    },
    "papermill": {
     "duration": 0.031645,
     "end_time": "2022-03-26T01:13:03.841872",
     "exception": false,
     "start_time": "2022-03-26T01:13:03.810227",
     "status": "completed"
    },
    "tags": []
   },
   "outputs": [],
   "source": [
    "# from steves_utils.ORACLE.utils_v2 import (\n",
    "#     ALL_DISTANCES_FEET,\n",
    "#     ALL_RUNS,\n",
    "#     ALL_SERIAL_NUMBERS,\n",
    "# )\n",
    "\n",
    "\n",
    "# add_dataset(\n",
    "#     labels=ALL_SERIAL_NUMBERS,\n",
    "#     domains = list(set(ALL_DISTANCES_FEET) - {2,62,56}),\n",
    "#     num_examples_per_domain_per_label=100,\n",
    "#     pickle_path=os.path.join(get_datasets_base_path(), \"oracle.Run2_framed_2000Examples_stratified_ds.2022A.pkl\"),\n",
    "#     source_or_target_dataset=\"source\",\n",
    "#     x_transform_func=global_x_transform_func,\n",
    "#     domain_modifier=lambda u: f\"oracle2_{u}\"\n",
    "# )"
   ]
  },
  {
   "cell_type": "code",
   "execution_count": 17,
   "id": "6f289866",
   "metadata": {
    "execution": {
     "iopub.execute_input": "2022-03-26T01:13:03.879481Z",
     "iopub.status.busy": "2022-03-26T01:13:03.878756Z",
     "iopub.status.idle": "2022-03-26T01:13:03.889873Z",
     "shell.execute_reply": "2022-03-26T01:13:03.890208Z"
    },
    "papermill": {
     "duration": 0.029105,
     "end_time": "2022-03-26T01:13:03.890320",
     "exception": false,
     "start_time": "2022-03-26T01:13:03.861215",
     "status": "completed"
    },
    "tags": []
   },
   "outputs": [],
   "source": [
    "# add_dataset(\n",
    "#     labels=list(range(19)),\n",
    "#     domains = [0,1,2],\n",
    "#     num_examples_per_domain_per_label=100,\n",
    "#     pickle_path=os.path.join(get_datasets_base_path(), \"metehan.stratified_ds.2022A.pkl\"),\n",
    "#     source_or_target_dataset=\"target\",\n",
    "#     x_transform_func=global_x_transform_func,\n",
    "#     domain_modifier=lambda u: f\"met_{u}\"\n",
    "# )"
   ]
  },
  {
   "cell_type": "code",
   "execution_count": 18,
   "id": "86a863c3",
   "metadata": {
    "execution": {
     "iopub.execute_input": "2022-03-26T01:13:03.923567Z",
     "iopub.status.busy": "2022-03-26T01:13:03.923295Z",
     "iopub.status.idle": "2022-03-26T01:13:03.939403Z",
     "shell.execute_reply": "2022-03-26T01:13:03.939793Z"
    },
    "papermill": {
     "duration": 0.032617,
     "end_time": "2022-03-26T01:13:03.939919",
     "exception": false,
     "start_time": "2022-03-26T01:13:03.907302",
     "status": "completed"
    },
    "tags": []
   },
   "outputs": [],
   "source": [
    "# # from steves_utils.wisig.utils import (\n",
    "# #     ALL_NODES_MINIMUM_100_EXAMPLES,\n",
    "# #     ALL_NODES_MINIMUM_500_EXAMPLES,\n",
    "# #     ALL_NODES_MINIMUM_1000_EXAMPLES,\n",
    "# #     ALL_DAYS\n",
    "# # )\n",
    "\n",
    "# import steves_utils.wisig.utils as wisig\n",
    "\n",
    "\n",
    "# add_dataset(\n",
    "#     labels=wisig.ALL_NODES_MINIMUM_100_EXAMPLES,\n",
    "#     domains = wisig.ALL_DAYS,\n",
    "#     num_examples_per_domain_per_label=100,\n",
    "#     pickle_path=os.path.join(get_datasets_base_path(), \"wisig.node3-19.stratified_ds.2022A.pkl\"),\n",
    "#     source_or_target_dataset=\"target\",\n",
    "#     x_transform_func=global_x_transform_func,\n",
    "#     domain_modifier=lambda u: f\"wisig_{u}\"\n",
    "# )"
   ]
  },
  {
   "cell_type": "code",
   "execution_count": 19,
   "id": "fd5442bc",
   "metadata": {
    "execution": {
     "iopub.execute_input": "2022-03-26T01:13:03.979473Z",
     "iopub.status.busy": "2022-03-26T01:13:03.979198Z",
     "iopub.status.idle": "2022-03-26T01:13:03.994405Z",
     "shell.execute_reply": "2022-03-26T01:13:03.994791Z"
    },
    "papermill": {
     "duration": 0.035612,
     "end_time": "2022-03-26T01:13:03.994920",
     "exception": false,
     "start_time": "2022-03-26T01:13:03.959308",
     "status": "completed"
    },
    "tags": []
   },
   "outputs": [],
   "source": [
    "###################################\n",
    "# Build the dataset\n",
    "###################################\n",
    "train_original_source = Iterable_Aggregator(train_original_source, p.seed)\n",
    "val_original_source = Iterable_Aggregator(val_original_source, p.seed)\n",
    "test_original_source = Iterable_Aggregator(test_original_source, p.seed)\n",
    "\n",
    "\n",
    "train_original_target = Iterable_Aggregator(train_original_target, p.seed)\n",
    "val_original_target = Iterable_Aggregator(val_original_target, p.seed)\n",
    "test_original_target = Iterable_Aggregator(test_original_target, p.seed)\n",
    "\n",
    "# For CNN We only use X and Y. And we only train on the source.\n",
    "# Properly form the data using a transform lambda and Lazy_Iterable_Wrapper. Finally wrap them in a dataloader\n",
    "\n",
    "transform_lambda = lambda ex: ex[1] # Original is (<domain>, <episode>) so we strip down to episode only\n",
    "\n",
    "train_processed_source = Lazy_Iterable_Wrapper(train_original_source, transform_lambda)\n",
    "val_processed_source   = Lazy_Iterable_Wrapper(val_original_source, transform_lambda)\n",
    "test_processed_source  = Lazy_Iterable_Wrapper(test_original_source, transform_lambda)\n",
    "\n",
    "train_processed_target = Lazy_Iterable_Wrapper(train_original_target, transform_lambda)\n",
    "val_processed_target   = Lazy_Iterable_Wrapper(val_original_target, transform_lambda)\n",
    "test_processed_target  = Lazy_Iterable_Wrapper(test_original_target, transform_lambda)\n",
    "\n",
    "datasets = EasyDict({\n",
    "    \"source\": {\n",
    "        \"original\": {\"train\":train_original_source, \"val\":val_original_source, \"test\":test_original_source},\n",
    "        \"processed\": {\"train\":train_processed_source, \"val\":val_processed_source, \"test\":test_processed_source}\n",
    "    },\n",
    "    \"target\": {\n",
    "        \"original\": {\"train\":train_original_target, \"val\":val_original_target, \"test\":test_original_target},\n",
    "        \"processed\": {\"train\":train_processed_target, \"val\":val_processed_target, \"test\":test_processed_target}\n",
    "    },\n",
    "})"
   ]
  },
  {
   "cell_type": "code",
   "execution_count": 20,
   "id": "5b3c01fc",
   "metadata": {
    "execution": {
     "iopub.execute_input": "2022-03-26T01:13:04.029431Z",
     "iopub.status.busy": "2022-03-26T01:13:04.027894Z",
     "iopub.status.idle": "2022-03-26T01:13:10.988544Z",
     "shell.execute_reply": "2022-03-26T01:13:10.989020Z"
    },
    "papermill": {
     "duration": 6.976334,
     "end_time": "2022-03-26T01:13:10.989157",
     "exception": false,
     "start_time": "2022-03-26T01:13:04.012823",
     "status": "completed"
    },
    "tags": []
   },
   "outputs": [
    {
     "name": "stdout",
     "output_type": "stream",
     "text": [
      "{'O_44', 'O_32', 'O_20', 'O_14', 'O_50', 'O_38', 'O_8', 'O_26'}\n"
     ]
    },
    {
     "name": "stdout",
     "output_type": "stream",
     "text": [
      "{'C_1', 'C_4', 'C_2', 'C_3', 'C_5'}\n"
     ]
    },
    {
     "name": "stdout",
     "output_type": "stream",
     "text": [
      "tensor([[[-0.1976,  0.8964,  0.6179,  ...,  0.7206, -0.3259, -0.0401],\n",
      "         [-0.4141,  0.2221,  0.6058,  ..., -0.1632,  1.0459,  1.0451]],\n",
      "\n",
      "        [[ 0.0528,  1.2022,  0.4312,  ...,  0.5104,  0.3726,  0.9936],\n",
      "         [-0.4033, -0.4142,  0.2730,  ..., -0.2160,  1.1540,  0.4026]],\n",
      "\n",
      "        [[-0.6842, -0.4655,  0.6928,  ...,  0.4342,  0.8958, -0.3865],\n",
      "         [-0.4171, -1.1542,  0.1186,  ..., -0.6166, -0.7042, -1.1792]],\n",
      "\n",
      "        ...,\n",
      "\n",
      "        [[ 0.1044,  0.7266,  0.1941,  ...,  0.9745,  0.9595,  0.7222],\n",
      "         [-0.9009, -0.7415,  1.0205,  ...,  0.3168,  0.3631, -1.0011]],\n",
      "\n",
      "        [[-0.2632,  0.9271,  0.8168,  ...,  0.7683, -0.0289,  0.1322],\n",
      "         [-0.4929, -0.1107,  0.4974,  ..., -0.4560,  1.0749,  0.9414]],\n",
      "\n",
      "        [[-0.7664, -1.1655,  0.5360,  ..., -0.3593, -0.3861, -1.3174],\n",
      "         [ 0.5410,  0.0877, -0.7393,  ..., -0.9040, -0.9683,  0.1122]]])\n"
     ]
    }
   ],
   "source": [
    "from steves_utils.transforms import get_average_magnitude, get_average_power\n",
    "\n",
    "print(set([u for u,_ in val_original_source]))\n",
    "print(set([u for u,_ in val_original_target]))\n",
    "\n",
    "s_x, s_y, q_x, q_y, _ = next(iter(train_processed_source))\n",
    "print(s_x)\n",
    "\n",
    "# for ds in [\n",
    "#     train_processed_source,\n",
    "#     val_processed_source,\n",
    "#     test_processed_source,\n",
    "#     train_processed_target,\n",
    "#     val_processed_target,\n",
    "#     test_processed_target\n",
    "# ]:\n",
    "#     for s_x, s_y, q_x, q_y, _ in ds:\n",
    "#         for X in (s_x, q_x):\n",
    "#             for x in X:\n",
    "#                 assert np.isclose(get_average_magnitude(x.numpy()), 1.0)\n",
    "#                 assert np.isclose(get_average_power(x.numpy()), 1.0)\n",
    "                "
   ]
  },
  {
   "cell_type": "code",
   "execution_count": 21,
   "id": "bbdacba1",
   "metadata": {
    "execution": {
     "iopub.execute_input": "2022-03-26T01:13:11.033615Z",
     "iopub.status.busy": "2022-03-26T01:13:11.029013Z",
     "iopub.status.idle": "2022-03-26T01:13:11.081184Z",
     "shell.execute_reply": "2022-03-26T01:13:11.080787Z"
    },
    "papermill": {
     "duration": 0.070458,
     "end_time": "2022-03-26T01:13:11.081277",
     "exception": false,
     "start_time": "2022-03-26T01:13:11.010819",
     "status": "completed"
    },
    "tags": []
   },
   "outputs": [
    {
     "name": "stdout",
     "output_type": "stream",
     "text": [
      "(2, 200)\n"
     ]
    }
   ],
   "source": [
    "###################################\n",
    "# Build the model\n",
    "###################################\n",
    "# easfsl only wants a tuple for the shape\n",
    "model = Steves_Prototypical_Network(x_net, device=p.device, x_shape=tuple(p.x_shape))\n",
    "optimizer = Adam(params=model.parameters(), lr=p.lr)"
   ]
  },
  {
   "cell_type": "code",
   "execution_count": 22,
   "id": "22b39ac5",
   "metadata": {
    "execution": {
     "iopub.execute_input": "2022-03-26T01:13:11.125025Z",
     "iopub.status.busy": "2022-03-26T01:13:11.124756Z",
     "iopub.status.idle": "2022-03-26T01:56:33.737445Z",
     "shell.execute_reply": "2022-03-26T01:56:33.737206Z"
    },
    "papermill": {
     "duration": 2602.636931,
     "end_time": "2022-03-26T01:56:33.737505",
     "exception": false,
     "start_time": "2022-03-26T01:13:11.100574",
     "status": "completed"
    },
    "tags": []
   },
   "outputs": [
    {
     "name": "stdout",
     "output_type": "stream",
     "text": [
      "epoch: 1, [batch: 1 / 6720], examples_per_second: 46.6623, train_label_loss: 2.9680, \n"
     ]
    },
    {
     "name": "stdout",
     "output_type": "stream",
     "text": [
      "epoch: 1, [batch: 672 / 6720], examples_per_second: 1963.7263, train_label_loss: 1.0843, \n"
     ]
    },
    {
     "name": "stdout",
     "output_type": "stream",
     "text": [
      "epoch: 1, [batch: 1344 / 6720], examples_per_second: 1960.8420, train_label_loss: 0.9390, \n"
     ]
    },
    {
     "name": "stdout",
     "output_type": "stream",
     "text": [
      "epoch: 1, [batch: 2016 / 6720], examples_per_second: 1960.3405, train_label_loss: 0.7501, \n"
     ]
    },
    {
     "name": "stdout",
     "output_type": "stream",
     "text": [
      "epoch: 1, [batch: 2688 / 6720], examples_per_second: 2144.4350, train_label_loss: 0.8955, \n"
     ]
    },
    {
     "name": "stdout",
     "output_type": "stream",
     "text": [
      "epoch: 1, [batch: 3360 / 6720], examples_per_second: 2692.1948, train_label_loss: 0.8415, \n"
     ]
    },
    {
     "name": "stdout",
     "output_type": "stream",
     "text": [
      "epoch: 1, [batch: 4032 / 6720], examples_per_second: 1963.1406, train_label_loss: 1.0185, \n"
     ]
    },
    {
     "name": "stdout",
     "output_type": "stream",
     "text": [
      "epoch: 1, [batch: 4704 / 6720], examples_per_second: 1958.3574, train_label_loss: 0.5921, \n"
     ]
    },
    {
     "name": "stdout",
     "output_type": "stream",
     "text": [
      "epoch: 1, [batch: 5376 / 6720], examples_per_second: 1962.3297, train_label_loss: 0.6405, \n"
     ]
    },
    {
     "name": "stdout",
     "output_type": "stream",
     "text": [
      "epoch: 1, [batch: 6048 / 6720], examples_per_second: 1964.4599, train_label_loss: 0.7593, \n"
     ]
    },
    {
     "name": "stdout",
     "output_type": "stream",
     "text": [
      "=============================================================\n",
      "epoch: 1, source_val_acc_label: 0.6336, target_val_acc_label: 0.7334, source_val_label_loss: 1.0314, target_val_label_loss: 1.8747, \n",
      "=============================================================\n"
     ]
    },
    {
     "name": "stdout",
     "output_type": "stream",
     "text": [
      "New best\n"
     ]
    },
    {
     "name": "stdout",
     "output_type": "stream",
     "text": [
      "epoch: 2, [batch: 1 / 6720], examples_per_second: 2.8727, train_label_loss: 0.7764, \n"
     ]
    },
    {
     "name": "stdout",
     "output_type": "stream",
     "text": [
      "epoch: 2, [batch: 672 / 6720], examples_per_second: 1988.0572, train_label_loss: 0.8921, \n"
     ]
    },
    {
     "name": "stdout",
     "output_type": "stream",
     "text": [
      "epoch: 2, [batch: 1344 / 6720], examples_per_second: 1982.4191, train_label_loss: 1.1506, \n"
     ]
    },
    {
     "name": "stdout",
     "output_type": "stream",
     "text": [
      "epoch: 2, [batch: 2016 / 6720], examples_per_second: 1983.6121, train_label_loss: 0.5021, \n"
     ]
    },
    {
     "name": "stdout",
     "output_type": "stream",
     "text": [
      "epoch: 2, [batch: 2688 / 6720], examples_per_second: 2142.9155, train_label_loss: 0.6922, \n"
     ]
    },
    {
     "name": "stdout",
     "output_type": "stream",
     "text": [
      "epoch: 2, [batch: 3360 / 6720], examples_per_second: 2726.7800, train_label_loss: 0.6246, \n"
     ]
    },
    {
     "name": "stdout",
     "output_type": "stream",
     "text": [
      "epoch: 2, [batch: 4032 / 6720], examples_per_second: 1990.8380, train_label_loss: 0.4785, \n"
     ]
    },
    {
     "name": "stdout",
     "output_type": "stream",
     "text": [
      "epoch: 2, [batch: 4704 / 6720], examples_per_second: 1981.7221, train_label_loss: 0.3743, \n"
     ]
    },
    {
     "name": "stdout",
     "output_type": "stream",
     "text": [
      "epoch: 2, [batch: 5376 / 6720], examples_per_second: 1980.4997, train_label_loss: 1.2575, \n"
     ]
    },
    {
     "name": "stdout",
     "output_type": "stream",
     "text": [
      "epoch: 2, [batch: 6048 / 6720], examples_per_second: 1988.6015, train_label_loss: 0.4121, \n"
     ]
    },
    {
     "name": "stdout",
     "output_type": "stream",
     "text": [
      "=============================================================\n",
      "epoch: 2, source_val_acc_label: 0.7387, target_val_acc_label: 0.8098, source_val_label_loss: 0.7056, target_val_label_loss: 1.5873, \n",
      "=============================================================\n"
     ]
    },
    {
     "name": "stdout",
     "output_type": "stream",
     "text": [
      "New best\n"
     ]
    },
    {
     "name": "stdout",
     "output_type": "stream",
     "text": [
      "epoch: 3, [batch: 1 / 6720], examples_per_second: 2.8914, train_label_loss: 1.0468, \n"
     ]
    },
    {
     "name": "stdout",
     "output_type": "stream",
     "text": [
      "epoch: 3, [batch: 672 / 6720], examples_per_second: 1986.6208, train_label_loss: 0.6263, \n"
     ]
    },
    {
     "name": "stdout",
     "output_type": "stream",
     "text": [
      "epoch: 3, [batch: 1344 / 6720], examples_per_second: 1983.7163, train_label_loss: 1.0539, \n"
     ]
    },
    {
     "name": "stdout",
     "output_type": "stream",
     "text": [
      "epoch: 3, [batch: 2016 / 6720], examples_per_second: 1983.8301, train_label_loss: 0.7040, \n"
     ]
    },
    {
     "name": "stdout",
     "output_type": "stream",
     "text": [
      "epoch: 3, [batch: 2688 / 6720], examples_per_second: 2135.5247, train_label_loss: 0.3872, \n"
     ]
    },
    {
     "name": "stdout",
     "output_type": "stream",
     "text": [
      "epoch: 3, [batch: 3360 / 6720], examples_per_second: 2691.7440, train_label_loss: 0.3337, \n"
     ]
    },
    {
     "name": "stdout",
     "output_type": "stream",
     "text": [
      "epoch: 3, [batch: 4032 / 6720], examples_per_second: 2012.0627, train_label_loss: 0.7470, \n"
     ]
    },
    {
     "name": "stdout",
     "output_type": "stream",
     "text": [
      "epoch: 3, [batch: 4704 / 6720], examples_per_second: 1980.7199, train_label_loss: 0.4194, \n"
     ]
    },
    {
     "name": "stdout",
     "output_type": "stream",
     "text": [
      "epoch: 3, [batch: 5376 / 6720], examples_per_second: 1983.6666, train_label_loss: 0.2052, \n"
     ]
    },
    {
     "name": "stdout",
     "output_type": "stream",
     "text": [
      "epoch: 3, [batch: 6048 / 6720], examples_per_second: 1987.9113, train_label_loss: 0.7214, \n"
     ]
    },
    {
     "name": "stdout",
     "output_type": "stream",
     "text": [
      "=============================================================\n",
      "epoch: 3, source_val_acc_label: 0.7846, target_val_acc_label: 0.7998, source_val_label_loss: 0.5830, target_val_label_loss: 1.8280, \n",
      "=============================================================\n"
     ]
    },
    {
     "name": "stdout",
     "output_type": "stream",
     "text": [
      "epoch: 4, [batch: 1 / 6720], examples_per_second: 2.9031, train_label_loss: 0.5276, \n"
     ]
    },
    {
     "name": "stdout",
     "output_type": "stream",
     "text": [
      "epoch: 4, [batch: 672 / 6720], examples_per_second: 1988.1893, train_label_loss: 0.3847, \n"
     ]
    },
    {
     "name": "stdout",
     "output_type": "stream",
     "text": [
      "epoch: 4, [batch: 1344 / 6720], examples_per_second: 1985.5950, train_label_loss: 0.3111, \n"
     ]
    },
    {
     "name": "stdout",
     "output_type": "stream",
     "text": [
      "epoch: 4, [batch: 2016 / 6720], examples_per_second: 1983.3532, train_label_loss: 0.1962, \n"
     ]
    },
    {
     "name": "stdout",
     "output_type": "stream",
     "text": [
      "epoch: 4, [batch: 2688 / 6720], examples_per_second: 2118.8204, train_label_loss: 0.4812, \n"
     ]
    },
    {
     "name": "stdout",
     "output_type": "stream",
     "text": [
      "epoch: 4, [batch: 3360 / 6720], examples_per_second: 2655.0485, train_label_loss: 0.3078, \n"
     ]
    },
    {
     "name": "stdout",
     "output_type": "stream",
     "text": [
      "epoch: 4, [batch: 4032 / 6720], examples_per_second: 2048.5378, train_label_loss: 0.5122, \n"
     ]
    },
    {
     "name": "stdout",
     "output_type": "stream",
     "text": [
      "epoch: 4, [batch: 4704 / 6720], examples_per_second: 1979.7451, train_label_loss: 0.3647, \n"
     ]
    },
    {
     "name": "stdout",
     "output_type": "stream",
     "text": [
      "epoch: 4, [batch: 5376 / 6720], examples_per_second: 1985.8863, train_label_loss: 0.4420, \n"
     ]
    },
    {
     "name": "stdout",
     "output_type": "stream",
     "text": [
      "epoch: 4, [batch: 6048 / 6720], examples_per_second: 1988.6086, train_label_loss: 0.2934, \n"
     ]
    },
    {
     "name": "stdout",
     "output_type": "stream",
     "text": [
      "=============================================================\n",
      "epoch: 4, source_val_acc_label: 0.8267, target_val_acc_label: 0.8203, source_val_label_loss: 0.4746, target_val_label_loss: 1.4847, \n",
      "=============================================================\n"
     ]
    },
    {
     "name": "stdout",
     "output_type": "stream",
     "text": [
      "New best\n"
     ]
    },
    {
     "name": "stdout",
     "output_type": "stream",
     "text": [
      "epoch: 5, [batch: 1 / 6720], examples_per_second: 2.8926, train_label_loss: 0.6608, \n"
     ]
    },
    {
     "name": "stdout",
     "output_type": "stream",
     "text": [
      "epoch: 5, [batch: 672 / 6720], examples_per_second: 1987.8704, train_label_loss: 0.7443, \n"
     ]
    },
    {
     "name": "stdout",
     "output_type": "stream",
     "text": [
      "epoch: 5, [batch: 1344 / 6720], examples_per_second: 1983.7055, train_label_loss: 0.3348, \n"
     ]
    },
    {
     "name": "stdout",
     "output_type": "stream",
     "text": [
      "epoch: 5, [batch: 2016 / 6720], examples_per_second: 1984.8226, train_label_loss: 1.0473, \n"
     ]
    },
    {
     "name": "stdout",
     "output_type": "stream",
     "text": [
      "epoch: 5, [batch: 2688 / 6720], examples_per_second: 2098.5147, train_label_loss: 0.4690, \n"
     ]
    },
    {
     "name": "stdout",
     "output_type": "stream",
     "text": [
      "epoch: 5, [batch: 3360 / 6720], examples_per_second: 2484.1105, train_label_loss: 0.9316, \n"
     ]
    },
    {
     "name": "stdout",
     "output_type": "stream",
     "text": [
      "epoch: 5, [batch: 4032 / 6720], examples_per_second: 2474.8124, train_label_loss: 0.2102, \n"
     ]
    },
    {
     "name": "stdout",
     "output_type": "stream",
     "text": [
      "epoch: 5, [batch: 4704 / 6720], examples_per_second: 2464.5046, train_label_loss: 0.4855, \n"
     ]
    },
    {
     "name": "stdout",
     "output_type": "stream",
     "text": [
      "epoch: 5, [batch: 5376 / 6720], examples_per_second: 2425.7337, train_label_loss: 0.3616, \n"
     ]
    },
    {
     "name": "stdout",
     "output_type": "stream",
     "text": [
      "epoch: 5, [batch: 6048 / 6720], examples_per_second: 2374.5410, train_label_loss: 0.6564, \n"
     ]
    },
    {
     "name": "stdout",
     "output_type": "stream",
     "text": [
      "=============================================================\n",
      "epoch: 5, source_val_acc_label: 0.8357, target_val_acc_label: 0.8231, source_val_label_loss: 0.4446, target_val_label_loss: 1.6208, \n",
      "=============================================================\n"
     ]
    },
    {
     "name": "stdout",
     "output_type": "stream",
     "text": [
      "New best\n"
     ]
    },
    {
     "name": "stdout",
     "output_type": "stream",
     "text": [
      "epoch: 6, [batch: 1 / 6720], examples_per_second: 4.9454, train_label_loss: 0.4268, \n"
     ]
    },
    {
     "name": "stdout",
     "output_type": "stream",
     "text": [
      "epoch: 6, [batch: 672 / 6720], examples_per_second: 3722.3287, train_label_loss: 0.1192, \n"
     ]
    },
    {
     "name": "stdout",
     "output_type": "stream",
     "text": [
      "epoch: 6, [batch: 1344 / 6720], examples_per_second: 3657.0604, train_label_loss: 0.2576, \n"
     ]
    },
    {
     "name": "stdout",
     "output_type": "stream",
     "text": [
      "epoch: 6, [batch: 2016 / 6720], examples_per_second: 3601.6164, train_label_loss: 0.4395, \n"
     ]
    },
    {
     "name": "stdout",
     "output_type": "stream",
     "text": [
      "epoch: 6, [batch: 2688 / 6720], examples_per_second: 2789.5155, train_label_loss: 0.4919, \n"
     ]
    },
    {
     "name": "stdout",
     "output_type": "stream",
     "text": [
      "epoch: 6, [batch: 3360 / 6720], examples_per_second: 1860.1701, train_label_loss: 0.4250, \n"
     ]
    },
    {
     "name": "stdout",
     "output_type": "stream",
     "text": [
      "epoch: 6, [batch: 4032 / 6720], examples_per_second: 1861.5908, train_label_loss: 0.4169, \n"
     ]
    },
    {
     "name": "stdout",
     "output_type": "stream",
     "text": [
      "epoch: 6, [batch: 4704 / 6720], examples_per_second: 1857.2599, train_label_loss: 0.4818, \n"
     ]
    },
    {
     "name": "stdout",
     "output_type": "stream",
     "text": [
      "epoch: 6, [batch: 5376 / 6720], examples_per_second: 1864.8793, train_label_loss: 0.4624, \n"
     ]
    },
    {
     "name": "stdout",
     "output_type": "stream",
     "text": [
      "epoch: 6, [batch: 6048 / 6720], examples_per_second: 1861.7657, train_label_loss: 0.2458, \n"
     ]
    },
    {
     "name": "stdout",
     "output_type": "stream",
     "text": [
      "=============================================================\n",
      "epoch: 6, source_val_acc_label: 0.8477, target_val_acc_label: 0.8030, source_val_label_loss: 0.4171, target_val_label_loss: 1.9292, \n",
      "=============================================================\n"
     ]
    },
    {
     "name": "stdout",
     "output_type": "stream",
     "text": [
      "epoch: 7, [batch: 1 / 6720], examples_per_second: 2.7272, train_label_loss: 0.1233, \n"
     ]
    },
    {
     "name": "stdout",
     "output_type": "stream",
     "text": [
      "epoch: 7, [batch: 672 / 6720], examples_per_second: 1860.0771, train_label_loss: 0.1418, \n"
     ]
    },
    {
     "name": "stdout",
     "output_type": "stream",
     "text": [
      "epoch: 7, [batch: 1344 / 6720], examples_per_second: 1861.0278, train_label_loss: 0.3078, \n"
     ]
    },
    {
     "name": "stdout",
     "output_type": "stream",
     "text": [
      "epoch: 7, [batch: 2016 / 6720], examples_per_second: 2154.0602, train_label_loss: 0.3412, \n"
     ]
    },
    {
     "name": "stdout",
     "output_type": "stream",
     "text": [
      "epoch: 7, [batch: 2688 / 6720], examples_per_second: 2345.9529, train_label_loss: 0.0560, \n"
     ]
    },
    {
     "name": "stdout",
     "output_type": "stream",
     "text": [
      "epoch: 7, [batch: 3360 / 6720], examples_per_second: 1864.6624, train_label_loss: 0.0752, \n"
     ]
    },
    {
     "name": "stdout",
     "output_type": "stream",
     "text": [
      "epoch: 7, [batch: 4032 / 6720], examples_per_second: 1864.0748, train_label_loss: 0.1273, \n"
     ]
    },
    {
     "name": "stdout",
     "output_type": "stream",
     "text": [
      "epoch: 7, [batch: 4704 / 6720], examples_per_second: 1861.1203, train_label_loss: 0.2577, \n"
     ]
    },
    {
     "name": "stdout",
     "output_type": "stream",
     "text": [
      "epoch: 7, [batch: 5376 / 6720], examples_per_second: 1868.6292, train_label_loss: 0.4192, \n"
     ]
    },
    {
     "name": "stdout",
     "output_type": "stream",
     "text": [
      "epoch: 7, [batch: 6048 / 6720], examples_per_second: 1864.9582, train_label_loss: 0.3177, \n"
     ]
    },
    {
     "name": "stdout",
     "output_type": "stream",
     "text": [
      "=============================================================\n",
      "epoch: 7, source_val_acc_label: 0.8418, target_val_acc_label: 0.8083, source_val_label_loss: 0.4260, target_val_label_loss: 2.0691, \n",
      "=============================================================\n"
     ]
    },
    {
     "name": "stdout",
     "output_type": "stream",
     "text": [
      "epoch: 8, [batch: 1 / 6720], examples_per_second: 2.7220, train_label_loss: 0.4563, \n"
     ]
    },
    {
     "name": "stdout",
     "output_type": "stream",
     "text": [
      "epoch: 8, [batch: 672 / 6720], examples_per_second: 1863.6726, train_label_loss: 0.1927, \n"
     ]
    },
    {
     "name": "stdout",
     "output_type": "stream",
     "text": [
      "epoch: 8, [batch: 1344 / 6720], examples_per_second: 1863.8336, train_label_loss: 0.1269, \n"
     ]
    },
    {
     "name": "stdout",
     "output_type": "stream",
     "text": [
      "epoch: 8, [batch: 2016 / 6720], examples_per_second: 2141.0424, train_label_loss: 0.6458, \n"
     ]
    },
    {
     "name": "stdout",
     "output_type": "stream",
     "text": [
      "epoch: 8, [batch: 2688 / 6720], examples_per_second: 2339.3612, train_label_loss: 0.4002, \n"
     ]
    },
    {
     "name": "stdout",
     "output_type": "stream",
     "text": [
      "epoch: 8, [batch: 3360 / 6720], examples_per_second: 1863.5616, train_label_loss: 0.9917, \n"
     ]
    },
    {
     "name": "stdout",
     "output_type": "stream",
     "text": [
      "epoch: 8, [batch: 4032 / 6720], examples_per_second: 1863.8902, train_label_loss: 0.3703, \n"
     ]
    },
    {
     "name": "stdout",
     "output_type": "stream",
     "text": [
      "epoch: 8, [batch: 4704 / 6720], examples_per_second: 1860.6394, train_label_loss: 0.1004, \n"
     ]
    },
    {
     "name": "stdout",
     "output_type": "stream",
     "text": [
      "epoch: 8, [batch: 5376 / 6720], examples_per_second: 1867.8342, train_label_loss: 0.1279, \n"
     ]
    },
    {
     "name": "stdout",
     "output_type": "stream",
     "text": [
      "epoch: 8, [batch: 6048 / 6720], examples_per_second: 1863.2819, train_label_loss: 0.2519, \n"
     ]
    },
    {
     "name": "stdout",
     "output_type": "stream",
     "text": [
      "=============================================================\n",
      "epoch: 8, source_val_acc_label: 0.8631, target_val_acc_label: 0.7824, source_val_label_loss: 0.3774, target_val_label_loss: 2.6314, \n",
      "=============================================================\n"
     ]
    },
    {
     "name": "stdout",
     "output_type": "stream",
     "text": [
      "epoch: 9, [batch: 1 / 6720], examples_per_second: 2.7223, train_label_loss: 0.4462, \n"
     ]
    },
    {
     "name": "stdout",
     "output_type": "stream",
     "text": [
      "epoch: 9, [batch: 672 / 6720], examples_per_second: 1863.3522, train_label_loss: 0.6188, \n"
     ]
    },
    {
     "name": "stdout",
     "output_type": "stream",
     "text": [
      "epoch: 9, [batch: 1344 / 6720], examples_per_second: 1863.0988, train_label_loss: 0.0977, \n"
     ]
    },
    {
     "name": "stdout",
     "output_type": "stream",
     "text": [
      "epoch: 9, [batch: 2016 / 6720], examples_per_second: 2149.5477, train_label_loss: 0.2565, \n"
     ]
    },
    {
     "name": "stdout",
     "output_type": "stream",
     "text": [
      "epoch: 9, [batch: 2688 / 6720], examples_per_second: 2340.6766, train_label_loss: 0.3076, \n"
     ]
    },
    {
     "name": "stdout",
     "output_type": "stream",
     "text": [
      "epoch: 9, [batch: 3360 / 6720], examples_per_second: 1864.8337, train_label_loss: 0.5316, \n"
     ]
    },
    {
     "name": "stdout",
     "output_type": "stream",
     "text": [
      "epoch: 9, [batch: 4032 / 6720], examples_per_second: 1862.6651, train_label_loss: 0.1251, \n"
     ]
    },
    {
     "name": "stdout",
     "output_type": "stream",
     "text": [
      "epoch: 9, [batch: 4704 / 6720], examples_per_second: 1859.3159, train_label_loss: 0.0831, \n"
     ]
    },
    {
     "name": "stdout",
     "output_type": "stream",
     "text": [
      "epoch: 9, [batch: 5376 / 6720], examples_per_second: 1866.6421, train_label_loss: 0.0676, \n"
     ]
    },
    {
     "name": "stdout",
     "output_type": "stream",
     "text": [
      "epoch: 9, [batch: 6048 / 6720], examples_per_second: 1865.0834, train_label_loss: 0.3353, \n"
     ]
    },
    {
     "name": "stdout",
     "output_type": "stream",
     "text": [
      "=============================================================\n",
      "epoch: 9, source_val_acc_label: 0.8580, target_val_acc_label: 0.7802, source_val_label_loss: 0.3894, target_val_label_loss: 2.6448, \n",
      "=============================================================\n"
     ]
    },
    {
     "name": "stdout",
     "output_type": "stream",
     "text": [
      "Patience (3) exhausted\n"
     ]
    }
   ],
   "source": [
    "###################################\n",
    "# train\n",
    "###################################\n",
    "jig = PTN_Train_Eval_Test_Jig(model, p.BEST_MODEL_PATH, p.device)\n",
    "\n",
    "jig.train(\n",
    "    train_iterable=datasets.source.processed.train,\n",
    "    source_val_iterable=datasets.source.processed.val,\n",
    "    target_val_iterable=datasets.target.processed.val,\n",
    "    num_epochs=p.n_epoch,\n",
    "    num_logs_per_epoch=p.NUM_LOGS_PER_EPOCH,\n",
    "    patience=p.patience,\n",
    "    optimizer=optimizer,\n",
    "    criteria_for_best=p.criteria_for_best,\n",
    ")"
   ]
  },
  {
   "cell_type": "code",
   "execution_count": 23,
   "id": "31e8fabf",
   "metadata": {
    "execution": {
     "iopub.execute_input": "2022-03-26T01:56:33.808383Z",
     "iopub.status.busy": "2022-03-26T01:56:33.808120Z",
     "iopub.status.idle": "2022-03-26T01:56:33.827418Z",
     "shell.execute_reply": "2022-03-26T01:56:33.826940Z"
    },
    "papermill": {
     "duration": 0.05631,
     "end_time": "2022-03-26T01:56:33.827527",
     "exception": false,
     "start_time": "2022-03-26T01:56:33.771217",
     "status": "completed"
    },
    "tags": []
   },
   "outputs": [],
   "source": [
    "total_experiment_time_secs = time.time() - start_time_secs"
   ]
  },
  {
   "cell_type": "code",
   "execution_count": 24,
   "id": "87b9595b",
   "metadata": {
    "execution": {
     "iopub.execute_input": "2022-03-26T01:56:33.905927Z",
     "iopub.status.busy": "2022-03-26T01:56:33.905392Z",
     "iopub.status.idle": "2022-03-26T01:58:53.771250Z",
     "shell.execute_reply": "2022-03-26T01:58:53.771695Z"
    },
    "papermill": {
     "duration": 139.904021,
     "end_time": "2022-03-26T01:58:53.771838",
     "exception": false,
     "start_time": "2022-03-26T01:56:33.867817",
     "status": "completed"
    },
    "tags": []
   },
   "outputs": [],
   "source": [
    "###################################\n",
    "# Evaluate the model\n",
    "###################################\n",
    "source_test_label_accuracy, source_test_label_loss = jig.test(datasets.source.processed.test)\n",
    "target_test_label_accuracy, target_test_label_loss = jig.test(datasets.target.processed.test)\n",
    "\n",
    "source_val_label_accuracy, source_val_label_loss = jig.test(datasets.source.processed.val)\n",
    "target_val_label_accuracy, target_val_label_loss = jig.test(datasets.target.processed.val)\n",
    "\n",
    "history = jig.get_history()\n",
    "\n",
    "total_epochs_trained = len(history[\"epoch_indices\"])\n",
    "\n",
    "val_dl = Iterable_Aggregator((datasets.source.original.val,datasets.target.original.val))\n",
    "\n",
    "confusion = ptn_confusion_by_domain_over_dataloader(model, p.device, val_dl)\n",
    "per_domain_accuracy = per_domain_accuracy_from_confusion(confusion)\n",
    "\n",
    "# Add a key to per_domain_accuracy for if it was a source domain\n",
    "for domain, accuracy in per_domain_accuracy.items():\n",
    "    per_domain_accuracy[domain] = {\n",
    "        \"accuracy\": accuracy,\n",
    "        \"source?\": domain in p.domains_source\n",
    "    }\n",
    "\n",
    "# Do an independent accuracy assesment JUST TO BE SURE!\n",
    "# _source_test_label_accuracy = independent_accuracy_assesment(model, datasets.source.processed.test, p.device)\n",
    "# _target_test_label_accuracy = independent_accuracy_assesment(model, datasets.target.processed.test, p.device)\n",
    "# _source_val_label_accuracy = independent_accuracy_assesment(model, datasets.source.processed.val, p.device)\n",
    "# _target_val_label_accuracy = independent_accuracy_assesment(model, datasets.target.processed.val, p.device)\n",
    "\n",
    "# assert(_source_test_label_accuracy == source_test_label_accuracy)\n",
    "# assert(_target_test_label_accuracy == target_test_label_accuracy)\n",
    "# assert(_source_val_label_accuracy == source_val_label_accuracy)\n",
    "# assert(_target_val_label_accuracy == target_val_label_accuracy)\n",
    "\n",
    "experiment = {\n",
    "    \"experiment_name\": p.experiment_name,\n",
    "    \"parameters\": dict(p),\n",
    "    \"results\": {\n",
    "        \"source_test_label_accuracy\": source_test_label_accuracy,\n",
    "        \"source_test_label_loss\": source_test_label_loss,\n",
    "        \"target_test_label_accuracy\": target_test_label_accuracy,\n",
    "        \"target_test_label_loss\": target_test_label_loss,\n",
    "        \"source_val_label_accuracy\": source_val_label_accuracy,\n",
    "        \"source_val_label_loss\": source_val_label_loss,\n",
    "        \"target_val_label_accuracy\": target_val_label_accuracy,\n",
    "        \"target_val_label_loss\": target_val_label_loss,\n",
    "        \"total_epochs_trained\": total_epochs_trained,\n",
    "        \"total_experiment_time_secs\": total_experiment_time_secs,\n",
    "        \"confusion\": confusion,\n",
    "        \"per_domain_accuracy\": per_domain_accuracy,\n",
    "    },\n",
    "    \"history\": history,\n",
    "    \"dataset_metrics\": get_dataset_metrics(datasets, \"ptn\"),\n",
    "}"
   ]
  },
  {
   "cell_type": "code",
   "execution_count": 25,
   "id": "54a21829",
   "metadata": {
    "execution": {
     "iopub.execute_input": "2022-03-26T01:58:53.845695Z",
     "iopub.status.busy": "2022-03-26T01:58:53.845420Z",
     "iopub.status.idle": "2022-03-26T01:58:53.973027Z",
     "shell.execute_reply": "2022-03-26T01:58:53.973460Z"
    },
    "papermill": {
     "duration": 0.164316,
     "end_time": "2022-03-26T01:58:53.973593",
     "exception": false,
     "start_time": "2022-03-26T01:58:53.809277",
     "status": "completed"
    },
    "tags": []
   },
   "outputs": [
    {
     "data": {
      "image/png": "[encoded data removed]",
      "text/plain": [
       "<Figure size 1080x504 with 1 Axes>"
      ]
     },
     "metadata": {
      "needs_background": "light"
     },
     "output_type": "display_data"
    }
   ],
   "source": [
    "ax = get_loss_curve(experiment)\n",
    "plt.show()"
   ]
  },
  {
   "cell_type": "code",
   "execution_count": 26,
   "id": "fd8a0f60",
   "metadata": {
    "execution": {
     "iopub.execute_input": "2022-03-26T01:58:54.050996Z",
     "iopub.status.busy": "2022-03-26T01:58:54.050721Z",
     "iopub.status.idle": "2022-03-26T01:58:54.205363Z",
     "shell.execute_reply": "2022-03-26T01:58:54.205764Z"
    },
    "papermill": {
     "duration": 0.192292,
     "end_time": "2022-03-26T01:58:54.205872",
     "exception": false,
     "start_time": "2022-03-26T01:58:54.013580",
     "status": "completed"
    },
    "tags": []
   },
   "outputs": [
    {
     "data": {
      "text/plain": [
       "<AxesSubplot:title={'center':'Results'}>"
      ]
     },
     "execution_count": 26,
     "metadata": {},
     "output_type": "execute_result"
    },
    {
     "data": {
      "image/png": "[encoded data removed]",
      "text/plain": [
       "<Figure size 1080x504 with 1 Axes>"
      ]
     },
     "metadata": {
      "needs_background": "light"
     },
     "output_type": "display_data"
    }
   ],
   "source": [
    "get_results_table(experiment)"
   ]
  },
  {
   "cell_type": "code",
   "execution_count": 27,
   "id": "cf8dc689",
   "metadata": {
    "execution": {
     "iopub.execute_input": "2022-03-26T01:58:54.286882Z",
     "iopub.status.busy": "2022-03-26T01:58:54.286602Z",
     "iopub.status.idle": "2022-03-26T01:58:54.451120Z",
     "shell.execute_reply": "2022-03-26T01:58:54.450646Z"
    },
    "papermill": {
     "duration": 0.204038,
     "end_time": "2022-03-26T01:58:54.451207",
     "exception": false,
     "start_time": "2022-03-26T01:58:54.247169",
     "status": "completed"
    },
    "tags": []
   },
   "outputs": [
    {
     "data": {
      "text/plain": [
       "<AxesSubplot:title={'center':'Per Domain Validation Accuracy'}, xlabel='domain'>"
      ]
     },
     "execution_count": 27,
     "metadata": {},
     "output_type": "execute_result"
    },
    {
     "data": {
      "image/png": "[encoded data removed]",
      "text/plain": [
       "<Figure size 1080x504 with 1 Axes>"
      ]
     },
     "metadata": {
      "needs_background": "light"
     },
     "output_type": "display_data"
    }
   ],
   "source": [
    "get_domain_accuracies(experiment)"
   ]
  },
  {
   "cell_type": "code",
   "execution_count": 28,
   "id": "a74ae082",
   "metadata": {
    "execution": {
     "iopub.execute_input": "2022-03-26T01:58:54.542633Z",
     "iopub.status.busy": "2022-03-26T01:58:54.541376Z",
     "iopub.status.idle": "2022-03-26T01:58:54.557285Z",
     "shell.execute_reply": "2022-03-26T01:58:54.557020Z"
    },
    "papermill": {
     "duration": 0.061789,
     "end_time": "2022-03-26T01:58:54.557343",
     "exception": false,
     "start_time": "2022-03-26T01:58:54.495554",
     "status": "completed"
    },
    "tags": []
   },
   "outputs": [
    {
     "name": "stdout",
     "output_type": "stream",
     "text": [
      "Source Test Label Accuracy: 0.8368489583333333 Target Test Label Accuracy: 0.827862541993281\n",
      "Source Val Label Accuracy: 0.8356770833333333 Target Val Label Accuracy: 0.8231192791762014\n"
     ]
    }
   ],
   "source": [
    "print(\"Source Test Label Accuracy:\", experiment[\"results\"][\"source_test_label_accuracy\"], \"Target Test Label Accuracy:\", experiment[\"results\"][\"target_test_label_accuracy\"])\n",
    "print(\"Source Val Label Accuracy:\", experiment[\"results\"][\"source_val_label_accuracy\"], \"Target Val Label Accuracy:\", experiment[\"results\"][\"target_val_label_accuracy\"])"
   ]
  },
  {
   "cell_type": "code",
   "execution_count": 29,
   "id": "dacca602",
   "metadata": {
    "execution": {
     "iopub.execute_input": "2022-03-26T01:58:54.653134Z",
     "iopub.status.busy": "2022-03-26T01:58:54.652868Z",
     "iopub.status.idle": "2022-03-26T01:58:54.670368Z",
     "shell.execute_reply": "2022-03-26T01:58:54.670129Z"
    },
    "papermill": {
     "duration": 0.06513,
     "end_time": "2022-03-26T01:58:54.670445",
     "exception": false,
     "start_time": "2022-03-26T01:58:54.605315",
     "status": "completed"
    },
    "tags": [
     "experiment_json"
    ]
   },
   "outputs": [
    {
     "data": {
      "text/plain": [
       "'{\"experiment_name\": \"tl_3-filterv2:oracle.run1.framed -> cores\", \"parameters\": {\"experiment_name\": \"tl_3-filterv2:oracle.run1.framed -> cores\", \"device\": \"cuda\", \"lr\": 0.0001, \"x_shape\": [2, 200], \"n_shot\": 3, \"n_query\": 2, \"train_k_factor\": 3, \"val_k_factor\": 2, \"test_k_factor\": 2, \"torch_default_dtype\": \"torch.float32\", \"n_epoch\": 50, \"patience\": 3, \"criteria_for_best\": \"target_accuracy\", \"x_net\": [{\"class\": \"nnReshape\", \"kargs\": {\"shape\": [-1, 1, 2, 200]}}, {\"class\": \"Conv2d\", \"kargs\": {\"in_channels\": 1, \"out_channels\": 256, \"kernel_size\": [1, 7], \"bias\": false, \"padding\": [0, 3]}}, {\"class\": \"ReLU\", \"kargs\": {\"inplace\": true}}, {\"class\": \"BatchNorm2d\", \"kargs\": {\"num_features\": 256}}, {\"class\": \"Conv2d\", \"kargs\": {\"in_channels\": 256, \"out_channels\": 80, \"kernel_size\": [2, 7], \"bias\": true, \"padding\": [0, 3]}}, {\"class\": \"ReLU\", \"kargs\": {\"inplace\": true}}, {\"class\": \"BatchNorm2d\", \"kargs\": {\"num_features\": 80}}, {\"class\": \"Flatten\", \"kargs\": {}}, {\"class\": \"Linear\", \"kargs\": {\"in_features\": 16000, \"out_features\": 256}}, {\"class\": \"ReLU\", \"kargs\": {\"inplace\": true}}, {\"class\": \"BatchNorm1d\", \"kargs\": {\"num_features\": 256}}, {\"class\": \"Linear\", \"kargs\": {\"in_features\": 256, \"out_features\": 256}}], \"NUM_LOGS_PER_EPOCH\": 10, \"BEST_MODEL_PATH\": \"./best_model.pth\", \"n_way\": 16, \"datasets\": [{\"labels\": [\"1-10.\", \"1-11.\", \"1-15.\", \"1-16.\", \"1-17.\", \"1-18.\", \"1-19.\", \"10-4.\", \"10-7.\", \"11-1.\", \"11-14.\", \"11-17.\", \"11-20.\", \"11-7.\", \"13-20.\", \"13-8.\", \"14-10.\", \"14-11.\", \"14-14.\", \"14-7.\", \"15-1.\", \"15-20.\", \"16-1.\", \"16-16.\", \"17-10.\", \"17-11.\", \"17-2.\", \"19-1.\", \"19-16.\", \"19-19.\", \"19-20.\", \"19-3.\", \"2-10.\", \"2-11.\", \"2-17.\", \"2-18.\", \"2-20.\", \"2-3.\", \"2-4.\", \"2-5.\", \"2-6.\", \"2-7.\", \"2-8.\", \"3-13.\", \"3-18.\", \"3-3.\", \"4-1.\", \"4-10.\", \"4-11.\", \"4-19.\", \"5-5.\", \"6-15.\", \"7-10.\", \"7-14.\", \"8-18.\", \"8-20.\", \"8-3.\", \"8-8.\"], \"domains\": [1, 2, 3, 4, 5], \"num_examples_per_domain_per_label\": -1, \"pickle_path\": \"/mnt/wd500GB/CSC500/csc500-main/datasets/cores.stratified_ds.2022A.pkl\", \"source_or_target_dataset\": \"target\", \"x_transforms\": [\"unit_mag\", \"lowpass_+/-10MHz\", \"take_200\"], \"episode_transforms\": [], \"domain_prefix\": \"C_\"}, {\"labels\": [\"3123D52\", \"3123D65\", \"3123D79\", \"3123D80\", \"3123D54\", \"3123D70\", \"3123D7B\", \"3123D89\", \"3123D58\", \"3123D76\", \"3123D7D\", \"3123EFE\", \"3123D64\", \"3123D78\", \"3123D7E\", \"3124E4A\"], \"domains\": [32, 38, 8, 44, 14, 50, 20, 26], \"num_examples_per_domain_per_label\": 2000, \"pickle_path\": \"/mnt/wd500GB/CSC500/csc500-main/datasets/oracle.Run1_framed_2000Examples_stratified_ds.2022A.pkl\", \"source_or_target_dataset\": \"source\", \"x_transforms\": [\"unit_mag\", \"take_200\", \"resample_20Msps_to_25Msps\"], \"episode_transforms\": [], \"domain_prefix\": \"O_\"}], \"seed\": 154325, \"dataset_seed\": 154325, \"domains_source\": [\"O_32\", \"O_38\", \"O_8\", \"O_44\", \"O_14\", \"O_50\", \"O_20\", \"O_26\"], \"domains_target\": [\"C_1\", \"C_2\", \"C_3\", \"C_4\", \"C_5\"]}, \"results\": {\"source_test_label_accuracy\": 0.8368489583333333, \"source_test_label_loss\": 0.4455237090587616, \"target_test_label_accuracy\": 0.827862541993281, \"target_test_label_loss\": 1.5720056295394897, \"source_val_label_accuracy\": 0.8356770833333333, \"source_val_label_loss\": 0.4445632994174957, \"target_val_label_accuracy\": 0.8231192791762014, \"target_val_label_loss\": 1.6208150386810303, \"total_epochs_trained\": 9, \"total_experiment_time_secs\": 2664.331345796585, \"confusion\": {\"O_8\": {\"13\": {\"4\": 44, \"13\": 117, \"0\": 39, \"10\": 28, \"6\": 7, \"7\": 2, \"14\": 3}, \"9\": {\"9\": 240}, \"15\": {\"15\": 224, \"12\": 14, \"8\": 2}, \"2\": {\"2\": 237, \"3\": 3}, \"3\": {\"3\": 234, \"12\": 3, \"2\": 3}, \"8\": {\"8\": 239, \"15\": 1}, \"5\": {\"5\": 230, \"10\": 3, \"14\": 3, \"1\": 4}, \"14\": {\"14\": 174, \"4\": 19, \"10\": 35, \"1\": 7, \"5\": 3, \"13\": 2}, \"1\": {\"1\": 240}, \"0\": {\"0\": 206, \"13\": 27, \"7\": 5, \"4\": 1, \"6\": 1}, \"10\": {\"10\": 206, \"14\": 22, \"13\": 9, \"4\": 3}, \"6\": {\"6\": 173, \"7\": 35, \"4\": 17, \"13\": 8, \"8\": 3, \"0\": 4}, \"11\": {\"11\": 223, \"1\": 16, \"5\": 1}, \"7\": {\"6\": 32, \"7\": 203, \"0\": 4, \"13\": 1}, \"4\": {\"4\": 168, \"0\": 2, \"6\": 16, \"13\": 37, \"14\": 15, \"10\": 2}, \"12\": {\"12\": 194, \"15\": 36, \"8\": 4, \"3\": 6}}, \"O_38\": {\"13\": {\"13\": 219, \"10\": 14, \"15\": 3, \"8\": 1, \"2\": 2, \"0\": 1}, \"12\": {\"12\": 237, \"4\": 3}, \"2\": {\"2\": 221, \"14\": 8, \"13\": 9, \"15\": 2}, \"9\": {\"9\": 224, \"6\": 9, \"5\": 5, \"3\": 2}, \"15\": {\"15\": 196, \"1\": 25, \"8\": 15, \"5\": 3, \"13\": 1}, \"5\": {\"5\": 135, \"8\": 49, \"9\": 5, \"7\": 33, \"0\": 4, \"6\": 5, \"13\": 4, \"10\": 1, \"15\": 4}, \"14\": {\"14\": 235, \"2\": 5}, \"0\": {\"0\": 184, \"7\": 14, \"3\": 9, \"8\": 22, \"10\": 7, \"13\": 2, \"5\": 2}, \"3\": {\"3\": 237, \"0\": 2, \"13\": 1}, \"1\": {\"1\": 229, \"15\": 11}, \"11\": {\"11\": 235, \"3\": 2, \"14\": 2, \"10\": 1}, \"7\": {\"7\": 211, \"5\": 15, \"0\": 6, \"8\": 8}, \"8\": {\"8\": 163, \"5\": 36, \"15\": 9, \"7\": 11, \"0\": 14, \"10\": 2, \"13\": 5}, \"4\": {\"4\": 239, \"10\": 1}, \"10\": {\"10\": 221, \"13\": 12, \"0\": 3, \"11\": 1, \"7\": 2, \"4\": 1}, \"6\": {\"6\": 238, \"5\": 1, \"9\": 1}}, \"O_26\": {\"10\": {\"10\": 114, \"0\": 67, \"8\": 30, \"14\": 19, \"6\": 6, \"9\": 1, \"4\": 3}, \"12\": {\"12\": 240}, \"1\": {\"1\": 205, \"14\": 17, \"7\": 2, \"4\": 11, \"8\": 2, \"10\": 2, \"3\": 1}, \"0\": {\"8\": 19, \"10\": 58, \"0\": 108, \"4\": 15, \"14\": 37, \"7\": 1, \"15\": 2}, \"15\": {\"15\": 160, \"9\": 47, \"8\": 10, \"10\": 2, \"2\": 5, \"6\": 7, \"13\": 3, \"0\": 2, \"5\": 1, \"7\": 3}, \"13\": {\"13\": 193, \"15\": 7, \"5\": 24, \"9\": 6, \"2\": 8, \"3\": 1, \"8\": 1}, \"8\": {\"8\": 123, \"0\": 26, \"4\": 19, \"14\": 12, \"10\": 33, \"7\": 16, \"15\": 5, \"6\": 3, \"2\": 2, \"9\": 1}, \"3\": {\"2\": 46, \"3\": 176, \"7\": 17, \"5\": 1}, \"11\": {\"11\": 240}, \"4\": {\"4\": 151, \"14\": 20, \"0\": 16, \"7\": 20, \"8\": 24, \"1\": 3, \"10\": 6}, \"6\": {\"6\": 207, \"15\": 7, \"9\": 17, \"8\": 3, \"10\": 4, \"0\": 2}, \"7\": {\"7\": 174, \"4\": 24, \"2\": 14, \"8\": 8, \"3\": 17, \"0\": 2, \"15\": 1}, \"14\": {\"14\": 138, \"1\": 24, \"10\": 14, \"0\": 33, \"4\": 23, \"7\": 2, \"8\": 6}, \"2\": {\"2\": 114, \"5\": 22, \"15\": 6, \"8\": 6, \"7\": 23, \"3\": 65, \"9\": 1, \"13\": 3}, \"5\": {\"5\": 217, \"13\": 11, \"2\": 7, \"10\": 1, \"7\": 1, \"3\": 1, \"8\": 1, \"15\": 1}, \"9\": {\"9\": 193, \"15\": 31, \"8\": 3, \"6\": 3, \"13\": 5, \"5\": 2, \"2\": 3}}, \"O_20\": {\"5\": {\"0\": 19, \"5\": 204, \"15\": 6, \"1\": 5, \"4\": 4, \"13\": 1, \"12\": 1}, \"15\": {\"15\": 213, \"0\": 11, \"1\": 11, \"5\": 4, \"13\": 1}, \"9\": {\"9\": 171, \"2\": 29, \"12\": 17, \"3\": 19, \"7\": 1, \"1\": 3}, \"7\": {\"4\": 3, \"7\": 214, \"2\": 14, \"3\": 4, \"5\": 1, \"8\": 3, \"9\": 1}, \"3\": {\"1\": 6, \"9\": 22, \"12\": 35, \"3\": 161, \"7\": 3, \"4\": 5, \"2\": 7, \"10\": 1}, \"8\": {\"8\": 221, \"7\": 4, \"4\": 15}, \"4\": {\"4\": 227, \"3\": 8, \"5\": 2, \"8\": 3}, \"6\": {\"6\": 234, \"14\": 6}, \"2\": {\"3\": 14, \"2\": 158, \"9\": 42, \"12\": 12, \"13\": 5, \"7\": 7, \"1\": 2}, \"12\": {\"12\": 133, \"1\": 47, \"3\": 41, \"2\": 7, \"9\": 11, \"5\": 1}, \"0\": {\"0\": 189, \"5\": 31, \"15\": 19, \"8\": 1}, \"13\": {\"13\": 227, \"2\": 8, \"15\": 2, \"5\": 2, \"12\": 1}, \"10\": {\"10\": 240}, \"11\": {\"11\": 240}, \"14\": {\"14\": 226, \"6\": 13, \"8\": 1}, \"1\": {\"1\": 181, \"12\": 38, \"5\": 9, \"3\": 3, \"2\": 2, \"15\": 6, \"9\": 1}}, \"O_50\": {\"1\": {\"1\": 209, \"15\": 19, \"4\": 6, \"11\": 1, \"13\": 2, \"0\": 1, \"5\": 1, \"6\": 1}, \"2\": {\"2\": 226, \"0\": 14}, \"8\": {\"8\": 234, \"3\": 5, \"10\": 1}, \"7\": {\"7\": 212, \"13\": 9, \"5\": 12, \"10\": 4, \"6\": 3}, \"14\": {\"14\": 240}, \"6\": {\"6\": 206, \"13\": 13, \"15\": 6, \"1\": 6, \"5\": 3, \"4\": 4, \"7\": 2}, \"3\": {\"3\": 238, \"8\": 2}, \"4\": {\"4\": 162, \"15\": 25, \"5\": 40, \"1\": 8, \"6\": 5}, \"12\": {\"12\": 226, \"9\": 9, \"11\": 4, \"14\": 1}, \"15\": {\"15\": 198, \"1\": 12, \"4\": 15, \"11\": 9, \"6\": 6}, \"11\": {\"11\": 207, \"1\": 2, \"15\": 18, \"14\": 1, \"12\": 4, \"9\": 8}, \"0\": {\"0\": 215, \"10\": 8, \"2\": 17}, \"9\": {\"12\": 6, \"9\": 224, \"11\": 10}, \"10\": {\"10\": 221, \"13\": 9, \"0\": 9, \"8\": 1}, \"5\": {\"5\": 150, \"13\": 21, \"4\": 29, \"7\": 26, \"1\": 11, \"6\": 2, \"3\": 1}, \"13\": {\"7\": 8, \"13\": 205, \"1\": 1, \"6\": 9, \"5\": 10, \"0\": 2, \"10\": 5}}, \"O_32\": {\"2\": {\"2\": 186, \"4\": 49, \"0\": 1, \"7\": 3, \"5\": 1}, \"6\": {\"6\": 240}, \"5\": {\"4\": 11, \"5\": 127, \"7\": 55, \"3\": 12, \"8\": 9, \"13\": 24, \"0\": 1, \"2\": 1}, \"12\": {\"12\": 240}, \"13\": {\"5\": 8, \"13\": 192, \"4\": 13, \"8\": 5, \"3\": 16, \"7\": 6}, \"9\": {\"9\": 240}, \"11\": {\"11\": 221, \"13\": 1, \"14\": 14, \"3\": 3, \"7\": 1}, \"1\": {\"1\": 240}, \"3\": {\"3\": 230, \"8\": 2, \"13\": 5, \"11\": 3}, \"7\": {\"7\": 159, \"4\": 11, \"13\": 7, \"5\": 46, \"14\": 12, \"11\": 2, \"8\": 1, \"0\": 2}, \"14\": {\"14\": 165, \"7\": 13, \"11\": 33, \"5\": 2, \"0\": 18, \"8\": 7, \"3\": 2}, \"8\": {\"8\": 196, \"0\": 15, \"13\": 10, \"11\": 1, \"3\": 4, \"14\": 4, \"7\": 1, \"5\": 9}, \"4\": {\"4\": 171, \"13\": 10, \"7\": 19, \"2\": 37, \"5\": 3}, \"0\": {\"0\": 180, \"8\": 33, \"7\": 5, \"14\": 13, \"5\": 4, \"13\": 3, \"4\": 1, \"11\": 1}, \"10\": {\"10\": 236, \"1\": 4}, \"15\": {\"15\": 240}}, \"O_44\": {\"13\": {\"13\": 156, \"6\": 43, \"9\": 38, \"11\": 2, \"7\": 1}, \"4\": {\"4\": 169, \"14\": 66, \"15\": 3, \"13\": 1, \"5\": 1}, \"6\": {\"6\": 159, \"13\": 50, \"9\": 25, \"11\": 2, \"7\": 4}, \"0\": {\"8\": 75, \"0\": 149, \"15\": 12, \"5\": 4}, \"10\": {\"10\": 199, \"1\": 24, \"2\": 13, \"12\": 4}, \"7\": {\"9\": 56, \"2\": 37, \"7\": 140, \"13\": 2, \"6\": 5}, \"14\": {\"14\": 156, \"4\": 69, \"15\": 11, \"5\": 4}, \"15\": {\"15\": 201, \"14\": 13, \"4\": 2, \"0\": 15, \"5\": 5, \"8\": 4}, \"5\": {\"5\": 197, \"0\": 20, \"15\": 9, \"8\": 3, \"14\": 10, \"4\": 1}, \"2\": {\"7\": 27, \"2\": 186, \"1\": 14, \"10\": 10, \"3\": 1, \"9\": 1, \"12\": 1}, \"9\": {\"9\": 138, \"7\": 48, \"13\": 24, \"6\": 24, \"2\": 5, \"10\": 1}, \"12\": {\"12\": 212, \"1\": 25, \"2\": 1, \"3\": 2}, \"8\": {\"8\": 146, \"0\": 81, \"15\": 9, \"5\": 4}, \"3\": {\"3\": 225, \"2\": 3, \"1\": 10, \"12\": 2}, \"1\": {\"12\": 30, \"3\": 18, \"1\": 162, \"10\": 17, \"2\": 12, \"7\": 1}, \"11\": {\"11\": 238, \"13\": 2}}, \"O_14\": {\"1\": {\"1\": 226, \"5\": 14}, \"15\": {\"15\": 239, \"7\": 1}, \"10\": {\"10\": 240}, \"2\": {\"3\": 14, \"2\": 152, \"14\": 48, \"5\": 17, \"6\": 5, \"13\": 3, \"4\": 1}, \"9\": {\"9\": 240}, \"5\": {\"2\": 13, \"1\": 13, \"5\": 189, \"4\": 24, \"3\": 1}, \"7\": {\"7\": 239, \"15\": 1}, \"13\": {\"13\": 147, \"6\": 70, \"14\": 14, \"4\": 1, \"5\": 3, \"2\": 4, \"3\": 1}, \"8\": {\"8\": 240}, \"6\": {\"13\": 35, \"6\": 196, \"14\": 4, \"4\": 1, \"2\": 4}, \"3\": {\"3\": 227, \"14\": 3, \"2\": 8, \"5\": 1, \"4\": 1}, \"12\": {\"12\": 240}, \"0\": {\"0\": 234, \"3\": 3, \"10\": 1, \"11\": 2}, \"4\": {\"4\": 223, \"5\": 10, \"13\": 1, \"2\": 4, \"3\": 1, \"1\": 1}, \"14\": {\"14\": 216, \"2\": 21, \"13\": 2, \"6\": 1}, \"11\": {\"11\": 231, \"9\": 9}}, \"C_2\": {\"21\": {\"21\": 102, \"3\": 2, \"6\": 2, \"16\": 2, \"36\": 1, \"46\": 5, \"30\": 2, \"18\": 1, \"50\": 1, \"1\": 1, \"23\": 1}, \"4\": {\"45\": 6, \"4\": 102, \"19\": 7, \"40\": 4, \"9\": 10, \"27\": 1}, \"6\": {\"50\": 9, \"18\": 2, \"6\": 84, \"41\": 1, \"46\": 5, \"8\": 2, \"20\": 2, \"30\": 5, \"54\": 3, \"36\": 1, \"3\": 3, \"2\": 1, \"17\": 1, \"21\": 2, \"45\": 1, \"23\": 1, \"51\": 1}, \"10\": {\"10\": 111, \"56\": 1}, \"33\": {\"33\": 24, \"32\": 1, \"29\": 1, \"17\": 2}, \"56\": {\"56\": 81, \"31\": 1, \"55\": 1, \"14\": 1, \"22\": 20, \"24\": 3, \"57\": 1, \"5\": 1, \"11\": 1, \"10\": 3, \"13\": 3, \"1\": 2, \"43\": 4}, \"20\": {\"20\": 115, \"51\": 12, \"53\": 3, \"50\": 1, \"8\": 1}, \"24\": {\"24\": 87, \"5\": 1, \"43\": 8}, \"45\": {\"4\": 6, \"50\": 6, \"26\": 2, \"45\": 67, \"36\": 6, \"12\": 9, \"35\": 2, \"27\": 6, \"20\": 4, \"8\": 7, \"53\": 1, \"44\": 2, \"55\": 1, \"40\": 2, \"9\": 2, \"14\": 2, \"51\": 2, \"54\": 1}, \"32\": {\"32\": 27, \"27\": 1}, \"27\": {\"20\": 2, \"27\": 139, \"17\": 4, \"8\": 3}, \"53\": {\"20\": 13, \"53\": 110, \"50\": 1, \"51\": 12}, \"8\": {\"8\": 145, \"50\": 5, \"20\": 3, \"27\": 2, \"51\": 2, \"12\": 1, \"53\": 2}, \"54\": {\"54\": 101, \"50\": 2, \"12\": 1, \"51\": 3, \"6\": 1}, \"50\": {\"8\": 18, \"50\": 81, \"21\": 1, \"12\": 2, \"6\": 13, \"3\": 2, \"36\": 3, \"20\": 1, \"30\": 3, \"51\": 1, \"54\": 5, \"55\": 1, \"53\": 1, \"27\": 1, \"46\": 1}, \"44\": {\"44\": 86, \"40\": 5, \"35\": 1, \"8\": 1, \"50\": 1, \"19\": 2, \"29\": 1, \"51\": 1, \"17\": 1, \"45\": 1}, \"5\": {\"46\": 5, \"5\": 77, \"42\": 1, \"7\": 1, \"1\": 3, \"47\": 12, \"28\": 3, \"31\": 1, \"43\": 1, \"57\": 11, \"16\": 2, \"23\": 2, \"21\": 1}, \"38\": {\"38\": 20}, \"19\": {\"40\": 7, \"19\": 104, \"17\": 2, \"4\": 2, \"29\": 4, \"9\": 10, \"44\": 2, \"57\": 1}, \"1\": {\"1\": 94, \"28\": 1, \"48\": 6, \"46\": 2, \"43\": 2, \"15\": 1, \"57\": 2, \"47\": 1, \"5\": 1, \"55\": 1, \"23\": 1}, \"30\": {\"30\": 131, \"18\": 6, \"50\": 2, \"3\": 2, \"23\": 3}, \"15\": {\"15\": 138, \"52\": 6}, \"23\": {\"23\": 142, \"18\": 2, \"30\": 2}, \"35\": {\"35\": 32}, \"22\": {\"22\": 102, \"56\": 16, \"46\": 1, \"10\": 1, \"43\": 2, \"5\": 1, \"1\": 1, \"57\": 1, \"13\": 3}, \"40\": {\"40\": 104, \"44\": 5, \"19\": 12, \"45\": 5, \"4\": 2, \"17\": 1, \"29\": 2, \"53\": 3, \"9\": 6}, \"46\": {\"46\": 69, \"39\": 1, \"34\": 2, \"21\": 11, \"3\": 3, \"30\": 5, \"50\": 1, \"11\": 2, \"31\": 1, \"17\": 1, \"6\": 5, \"48\": 1, \"18\": 1, \"23\": 7, \"55\": 4, \"54\": 1, \"16\": 2, \"51\": 3, \"37\": 1, \"49\": 1, \"8\": 2, \"52\": 1, \"25\": 1}, \"3\": {\"52\": 2, \"3\": 26, \"49\": 2, \"6\": 9, \"36\": 9, \"33\": 2, \"21\": 2, \"42\": 1, \"44\": 1, \"41\": 2, \"50\": 2, \"28\": 1, \"18\": 1, \"53\": 1, \"30\": 4, \"54\": 1, \"46\": 3, \"51\": 2, \"16\": 2, \"4\": 5, \"37\": 1, \"48\": 1, \"8\": 1, \"7\": 1, \"23\": 2, \"1\": 1, \"55\": 2, \"29\": 1, \"27\": 2, \"9\": 1, \"40\": 1}, \"48\": {\"48\": 135, \"1\": 5, \"30\": 1, \"6\": 2, \"23\": 2, \"47\": 2, \"52\": 1}, \"52\": {\"52\": 95, \"15\": 16, \"16\": 12, \"5\": 1}, \"2\": {\"2\": 20, \"55\": 3, \"36\": 4, \"18\": 1, \"41\": 1, \"50\": 1, \"23\": 1, \"21\": 1}, \"26\": {\"26\": 24}, \"17\": {\"17\": 91, \"27\": 7, \"32\": 2, \"8\": 1, \"25\": 1, \"48\": 2}, \"55\": {\"30\": 3, \"55\": 100, \"31\": 4, \"34\": 1, \"16\": 5, \"1\": 2, \"18\": 2, \"52\": 3, \"46\": 5, \"47\": 4, \"57\": 2, \"23\": 7, \"2\": 1, \"6\": 2, \"21\": 1, \"36\": 1, \"48\": 1}, \"51\": {\"51\": 88, \"53\": 9, \"21\": 3, \"8\": 3, \"20\": 9, \"50\": 9, \"54\": 1}, \"42\": {\"42\": 27, \"55\": 1, \"33\": 1, \"5\": 1, \"3\": 1, \"57\": 2, \"48\": 2, \"41\": 1}, \"41\": {\"54\": 1, \"41\": 19}, \"31\": {\"31\": 28}, \"16\": {\"16\": 130, \"52\": 7, \"15\": 1}, \"36\": {\"36\": 116}, \"49\": {\"49\": 16, \"41\": 1, \"6\": 2, \"30\": 3, \"50\": 1, \"23\": 1}, \"0\": {\"15\": 4, \"0\": 37, \"5\": 2, \"28\": 2, \"23\": 1, \"47\": 1, \"39\": 1}, \"18\": {\"18\": 47, \"30\": 1}, \"25\": {\"25\": 130, \"49\": 1, \"50\": 1, \"26\": 3, \"54\": 4, \"51\": 3, \"41\": 1, \"21\": 1, \"46\": 1, \"27\": 1}, \"9\": {\"9\": 98, \"40\": 2, \"30\": 1, \"17\": 3, \"19\": 8, \"4\": 2, \"42\": 1, \"29\": 5, \"8\": 1, \"50\": 1}, \"47\": {\"47\": 85, \"5\": 11, \"46\": 1, \"23\": 7, \"1\": 7, \"30\": 1, \"52\": 3, \"16\": 3, \"57\": 5, \"55\": 4, \"48\": 1, \"7\": 1, \"28\": 1, \"42\": 1, \"18\": 1}, \"7\": {\"7\": 34, \"47\": 2}, \"37\": {\"37\": 36}, \"13\": {\"13\": 105, \"37\": 3, \"24\": 4, \"29\": 1, \"56\": 1, \"22\": 1, \"43\": 1}, \"14\": {\"13\": 2, \"11\": 3, \"14\": 7, \"29\": 1, \"43\": 1, \"2\": 1, \"33\": 1, \"10\": 5, \"9\": 1, \"5\": 2}, \"34\": {\"34\": 25, \"55\": 2, \"12\": 1}, \"57\": {\"42\": 2, \"57\": 124, \"1\": 4, \"48\": 6, \"3\": 1, \"23\": 1, \"5\": 2}, \"11\": {\"11\": 121, \"43\": 10, \"28\": 1, \"16\": 2, \"23\": 1, \"52\": 1, \"15\": 2}, \"39\": {\"39\": 28}, \"12\": {\"12\": 88, \"54\": 3, \"8\": 1}, \"28\": {\"28\": 28}, \"29\": {\"29\": 98, \"9\": 7, \"33\": 1, \"4\": 1, \"1\": 1, \"19\": 13, \"46\": 2, \"44\": 2, \"30\": 1, \"27\": 1, \"55\": 1}, \"43\": {\"43\": 123, \"11\": 7, \"24\": 7, \"5\": 2, \"15\": 1}}, \"C_5\": {\"12\": {\"12\": 78, \"1\": 2, \"38\": 3, \"55\": 2, \"45\": 1, \"30\": 5, \"6\": 2, \"17\": 3}, \"8\": {\"8\": 131, \"18\": 1, \"20\": 6, \"53\": 2, \"45\": 1, \"6\": 1}, \"29\": {\"29\": 95, \"28\": 1, \"36\": 4, \"22\": 2, \"19\": 7, \"56\": 1, \"9\": 1, \"57\": 2, \"44\": 12, \"47\": 1, \"15\": 1, \"13\": 2, \"14\": 2, \"48\": 1}, \"57\": {\"57\": 124, \"24\": 1, \"34\": 1}, \"38\": {\"38\": 32}, \"23\": {\"23\": 121, \"20\": 2, \"54\": 1}, \"56\": {\"35\": 3, \"56\": 121, \"10\": 2, \"24\": 2, \"3\": 2, \"36\": 1, \"13\": 4, \"43\": 1, \"15\": 1, \"11\": 1}, \"49\": {\"49\": 36}, \"4\": {\"4\": 87, \"30\": 2, \"12\": 1, \"17\": 1, \"51\": 1, \"19\": 2, \"9\": 1, \"5\": 2, \"55\": 2, \"27\": 1}, \"48\": {\"48\": 116, \"32\": 2, \"1\": 5, \"51\": 1, \"45\": 1, \"6\": 3, \"8\": 1, \"9\": 3, \"20\": 1, \"27\": 1, \"18\": 1, \"25\": 1}, \"21\": {\"21\": 138, \"37\": 2, \"46\": 1, \"41\": 1, \"23\": 1, \"16\": 1}, \"30\": {\"30\": 120, \"9\": 4, \"6\": 1, \"45\": 1, \"17\": 2}, \"1\": {\"48\": 6, \"1\": 131, \"32\": 2, \"30\": 1, \"8\": 2, \"6\": 1, \"45\": 1, \"55\": 2, \"54\": 1, \"27\": 1}, \"34\": {\"34\": 33, \"8\": 2, \"33\": 1}, \"35\": {\"35\": 34, \"2\": 1, \"56\": 1}, \"55\": {\"1\": 8, \"55\": 110, \"53\": 7, \"7\": 2, \"45\": 5, \"48\": 2, \"51\": 3, \"17\": 7, \"25\": 4, \"6\": 1, \"8\": 1, \"12\": 1, \"50\": 1}, \"5\": {\"5\": 100, \"29\": 5, \"44\": 4, \"4\": 2, \"40\": 4, \"19\": 3, \"50\": 1, \"27\": 1, \"30\": 1, \"1\": 1}, \"52\": {\"52\": 107, \"54\": 5, \"46\": 5, \"11\": 1, \"0\": 1, \"16\": 5, \"23\": 2}, \"6\": {\"6\": 91, \"50\": 5, \"8\": 8, \"45\": 4, \"7\": 2, \"17\": 3, \"53\": 5, \"1\": 5, \"20\": 1, \"51\": 1, \"48\": 1, \"25\": 1, \"55\": 1}, \"36\": {\"36\": 83, \"52\": 1, \"47\": 3, \"35\": 2, \"54\": 1, \"16\": 1, \"43\": 1}, \"41\": {\"41\": 24, \"42\": 3, \"47\": 1}, \"3\": {\"3\": 50, \"52\": 3, \"11\": 10, \"39\": 1, \"16\": 4, \"0\": 7, \"36\": 7, \"46\": 5, \"23\": 1, \"49\": 4, \"54\": 3, \"47\": 2, \"43\": 1, \"24\": 1, \"15\": 1}, \"28\": {\"28\": 25, \"14\": 1, \"34\": 3, \"36\": 1, \"47\": 2}, \"18\": {\"18\": 60, \"42\": 1, \"23\": 2, \"51\": 1}, \"25\": {\"25\": 119, \"6\": 4, \"26\": 1, \"8\": 1, \"20\": 5, \"50\": 1, \"53\": 2, \"45\": 1, \"12\": 2}, \"47\": {\"3\": 1, \"47\": 84, \"36\": 9, \"54\": 1, \"23\": 5}, \"13\": {\"13\": 114, \"2\": 1, \"24\": 13, \"43\": 9, \"56\": 4, \"22\": 1, \"14\": 1, \"5\": 1, \"36\": 2, \"11\": 2, \"0\": 5, \"44\": 1, \"10\": 2, \"50\": 1, \"21\": 1, \"47\": 1, \"29\": 1}, \"11\": {\"11\": 118, \"15\": 14, \"43\": 4, \"0\": 1, \"46\": 3, \"16\": 1, \"24\": 1, \"3\": 1, \"52\": 1}, \"53\": {\"53\": 128, \"18\": 1, \"8\": 5, \"30\": 2, \"4\": 2, \"17\": 1, \"51\": 4, \"7\": 1}, \"33\": {\"33\": 29, \"9\": 1, \"19\": 1, \"29\": 1}, \"46\": {\"46\": 120, \"23\": 6, \"24\": 1, \"16\": 3, \"42\": 2, \"3\": 2, \"11\": 3, \"0\": 2, \"52\": 3, \"39\": 1, \"54\": 2, \"49\": 1, \"36\": 1, \"43\": 1}, \"50\": {\"50\": 57, \"32\": 4, \"8\": 16, \"42\": 3, \"41\": 3, \"17\": 2, \"29\": 1, \"20\": 7, \"48\": 6, \"45\": 5, \"36\": 2, \"55\": 4, \"1\": 5, \"54\": 1, \"25\": 5, \"6\": 4, \"51\": 11, \"5\": 1, \"9\": 2, \"18\": 1, \"47\": 2, \"27\": 4, \"23\": 1, \"30\": 1}, \"10\": {\"10\": 67, \"56\": 1}, \"15\": {\"15\": 128, \"11\": 7, \"0\": 2, \"24\": 1}, \"44\": {\"44\": 113, \"33\": 1, \"28\": 1, \"20\": 1, \"29\": 14, \"50\": 1, \"57\": 2, \"40\": 2, \"13\": 1, \"19\": 2, \"5\": 2}, \"2\": {\"2\": 28}, \"7\": {\"7\": 31, \"17\": 1}, \"43\": {\"43\": 100, \"24\": 5, \"11\": 11, \"46\": 1, \"16\": 8, \"15\": 4, \"52\": 1, \"13\": 4, \"2\": 1, \"3\": 1, \"0\": 2}, \"32\": {\"32\": 28, \"7\": 1, \"1\": 2, \"48\": 1}, \"0\": {\"0\": 114, \"16\": 1, \"11\": 3, \"15\": 4, \"52\": 2}, \"39\": {\"39\": 20}, \"26\": {\"26\": 24}, \"27\": {\"27\": 85, \"17\": 2, \"19\": 5, \"9\": 9, \"1\": 3, \"30\": 2, \"20\": 1, \"48\": 3, \"32\": 1, \"33\": 1}, \"54\": {\"54\": 104, \"52\": 1, \"23\": 6, \"16\": 1}, \"17\": {\"17\": 102, \"30\": 8, \"53\": 1, \"1\": 1, \"9\": 3, \"6\": 1}, \"14\": {\"43\": 1, \"28\": 2, \"18\": 1, \"11\": 3, \"24\": 3, \"37\": 5, \"14\": 10, \"3\": 2, \"50\": 1, \"21\": 3, \"9\": 1, \"32\": 2, \"20\": 1, \"1\": 2, \"27\": 1, \"36\": 1, \"30\": 1, \"16\": 2, \"15\": 1, \"25\": 1}, \"16\": {\"54\": 8, \"16\": 118, \"23\": 3, \"3\": 3, \"52\": 10, \"46\": 2, \"43\": 3, \"11\": 1}, \"9\": {\"9\": 101, \"19\": 6, \"37\": 1, \"53\": 1, \"18\": 1, \"6\": 1, \"30\": 8, \"17\": 5, \"48\": 5, \"25\": 2, \"1\": 2, \"27\": 7, \"33\": 1, \"45\": 2, \"21\": 1, \"29\": 1, \"20\": 1, \"55\": 1, \"50\": 1}, \"19\": {\"19\": 129, \"33\": 3, \"53\": 1, \"1\": 1, \"9\": 4, \"27\": 8, \"48\": 2, \"29\": 2, \"44\": 1, \"21\": 1}, \"20\": {\"20\": 137, \"42\": 1}, \"37\": {\"37\": 24}, \"24\": {\"24\": 66, \"0\": 3, \"16\": 1, \"15\": 2, \"13\": 1, \"11\": 5, \"36\": 1, \"43\": 1}, \"40\": {\"40\": 76, \"47\": 3, \"57\": 2, \"22\": 1, \"29\": 7, \"33\": 2, \"5\": 8, \"51\": 2, \"19\": 4, \"44\": 7, \"9\": 3, \"27\": 3, \"50\": 2, \"4\": 2}, \"45\": {\"6\": 13, \"45\": 49, \"26\": 1, \"1\": 4, \"30\": 8, \"4\": 2, \"9\": 6, \"27\": 7, \"50\": 10, \"17\": 2, \"8\": 2, \"48\": 3, \"25\": 4, \"55\": 9, \"32\": 1, \"19\": 1, \"33\": 1, \"20\": 1}, \"22\": {\"22\": 24, \"29\": 3, \"56\": 1}, \"42\": {\"42\": 38, \"56\": 2}, \"51\": {\"51\": 98, \"8\": 4, \"53\": 3, \"55\": 1, \"25\": 3, \"20\": 6, \"18\": 1, \"50\": 1, \"21\": 1}, \"31\": {\"31\": 33, \"49\": 2, \"54\": 1}}, \"C_1\": {\"27\": {\"27\": 137, \"10\": 2, \"15\": 1, \"43\": 1, \"24\": 1}, \"2\": {\"2\": 36}, \"33\": {\"33\": 32}, \"45\": {\"45\": 138, \"9\": 7, \"30\": 3, \"16\": 1, \"19\": 4, \"42\": 2, \"56\": 1}, \"38\": {\"38\": 21, \"56\": 2, \"23\": 1}, \"4\": {\"4\": 126, \"30\": 1, \"40\": 2, \"6\": 1, \"46\": 2}, \"31\": {\"38\": 1, \"31\": 22, \"21\": 1, \"11\": 1, \"0\": 1, \"22\": 2}, \"55\": {\"55\": 113, \"12\": 2, \"33\": 2, \"16\": 11, \"26\": 1, \"23\": 1, \"53\": 2, \"0\": 2, \"34\": 1, \"20\": 1, \"51\": 1, \"18\": 1, \"47\": 1, \"5\": 1}, \"32\": {\"32\": 31, \"28\": 1}, \"57\": {\"57\": 95, \"35\": 1, \"19\": 11, \"44\": 1, \"1\": 10, \"56\": 14, \"8\": 1, \"29\": 4, \"45\": 2, \"14\": 1}, \"14\": {\"14\": 18, \"30\": 1, \"41\": 1, \"51\": 3, \"53\": 1}, \"16\": {\"16\": 135, \"49\": 1, \"54\": 2, \"55\": 1, \"36\": 1}, \"34\": {\"34\": 24}, \"56\": {\"30\": 4, \"56\": 74, \"19\": 7, \"16\": 2, \"57\": 11, \"44\": 7, \"45\": 3, \"8\": 2, \"1\": 4, \"13\": 3, \"51\": 1, \"9\": 2, \"47\": 2, \"35\": 1, \"7\": 1, \"42\": 1, \"55\": 1}, \"24\": {\"38\": 1, \"24\": 76, \"22\": 13, \"52\": 4, \"49\": 2, \"10\": 1, \"11\": 10, \"0\": 1}, \"30\": {\"33\": 1, \"30\": 98, \"53\": 1, \"5\": 1, \"8\": 8, \"9\": 2, \"46\": 1}, \"17\": {\"17\": 55, \"8\": 5, \"30\": 1, \"6\": 2, \"2\": 1}, \"13\": {\"20\": 11, \"37\": 1, \"13\": 90, \"51\": 11, \"3\": 5, \"12\": 3, \"53\": 3, \"9\": 2, \"30\": 4, \"11\": 1, \"55\": 1, \"8\": 3, \"18\": 1, \"16\": 1, \"46\": 1}, \"39\": {\"39\": 26, \"24\": 1, \"10\": 1}, \"50\": {\"50\": 145, \"6\": 1}, \"20\": {\"20\": 116, \"12\": 10, \"41\": 1, \"51\": 7, \"13\": 2, \"3\": 1, \"33\": 1, \"18\": 1, \"30\": 1}, \"41\": {\"41\": 24}, \"53\": {\"53\": 122, \"18\": 3, \"25\": 1}, \"48\": {\"48\": 126, \"6\": 5, \"50\": 9, \"2\": 1, \"5\": 1}, \"36\": {\"36\": 53, \"0\": 3, \"22\": 1, \"16\": 4, \"49\": 3}, \"8\": {\"53\": 4, \"8\": 125, \"30\": 8, \"17\": 3}, \"15\": {\"15\": 113, \"11\": 6, \"21\": 9, \"23\": 2, \"52\": 1, \"0\": 1}, \"40\": {\"40\": 118, \"48\": 1, \"29\": 18, \"30\": 2, \"4\": 3, \"57\": 6, \"13\": 1, \"19\": 3, \"51\": 2, \"8\": 2}, \"37\": {\"37\": 32}, \"21\": {\"21\": 117, \"15\": 2, \"23\": 1}, \"35\": {\"35\": 34, \"56\": 1, \"44\": 1}, \"49\": {\"49\": 20, \"34\": 1, \"54\": 3, \"23\": 3, \"52\": 1, \"36\": 1, \"21\": 1, \"22\": 2}, \"26\": {\"26\": 23, \"16\": 1}, \"28\": {\"28\": 27, \"36\": 1}, \"12\": {\"12\": 103, \"20\": 7, \"42\": 1, \"16\": 1, \"51\": 4}, \"5\": {\"5\": 116, \"14\": 1, \"2\": 2, \"6\": 5, \"48\": 3, \"45\": 2, \"25\": 3, \"18\": 1, \"53\": 9, \"46\": 4, \"9\": 6}, \"29\": {\"29\": 105, \"40\": 12, \"19\": 4, \"57\": 4, \"44\": 1, \"30\": 4, \"8\": 2, \"6\": 1, \"50\": 1, \"3\": 3, \"45\": 1, \"46\": 1, \"53\": 1}, \"47\": {\"47\": 114, \"35\": 5, \"57\": 2, \"19\": 2, \"24\": 1, \"1\": 2, \"56\": 4, \"22\": 3, \"44\": 6, \"11\": 1}, \"10\": {\"10\": 91, \"11\": 4, \"15\": 1}, \"18\": {\"18\": 69, \"50\": 1, \"51\": 1, \"55\": 1}, \"9\": {\"9\": 124, \"18\": 1, \"14\": 1}, \"3\": {\"3\": 86, \"12\": 3, \"29\": 7, \"13\": 14, \"20\": 3, \"57\": 1, \"24\": 2, \"22\": 3, \"1\": 1, \"44\": 7, \"54\": 1, \"55\": 2, \"51\": 4, \"40\": 2, \"18\": 1, \"42\": 1, \"16\": 1, \"53\": 1}, \"52\": {\"11\": 11, \"52\": 99, \"24\": 5, \"22\": 5, \"23\": 6, \"15\": 1, \"10\": 3, \"27\": 1, \"21\": 1}, \"25\": {\"25\": 133, \"41\": 1, \"53\": 1, \"51\": 1}, \"19\": {\"19\": 111, \"51\": 1, \"1\": 9, \"57\": 13, \"56\": 5, \"45\": 8, \"18\": 2, \"8\": 2, \"36\": 1, \"44\": 1, \"9\": 3}, \"11\": {\"11\": 110, \"15\": 9, \"22\": 3, \"10\": 2, \"52\": 2, \"24\": 7, \"21\": 3}, \"7\": {\"7\": 27, \"51\": 1}, \"23\": {\"23\": 132, \"0\": 1, \"21\": 2, \"54\": 1}, \"44\": {\"1\": 7, \"44\": 85, \"35\": 3, \"45\": 1, \"3\": 8, \"24\": 5, \"18\": 1, \"57\": 4, \"47\": 8, \"56\": 2, \"20\": 3, \"19\": 4, \"16\": 1}, \"42\": {\"42\": 40}, \"54\": {\"32\": 6, \"54\": 87, \"36\": 1, \"23\": 1, \"0\": 3, \"22\": 3, \"34\": 1, \"31\": 1, \"24\": 1}, \"1\": {\"1\": 84, \"56\": 1, \"9\": 1, \"29\": 1, \"57\": 3, \"51\": 1, \"44\": 1, \"19\": 6, \"45\": 1, \"18\": 1}, \"46\": {\"46\": 72, \"5\": 9, \"17\": 2, \"4\": 3, \"30\": 4, \"48\": 12, \"6\": 13, \"8\": 3, \"50\": 5, \"40\": 2, \"53\": 2, \"25\": 1}, \"6\": {\"6\": 66, \"30\": 1, \"8\": 9, \"17\": 3, \"2\": 3, \"53\": 2, \"25\": 2, \"5\": 4, \"48\": 4, \"46\": 2}, \"43\": {\"43\": 142, \"10\": 1, \"27\": 1}, \"51\": {\"51\": 128, \"20\": 5, \"12\": 1, \"55\": 1, \"9\": 4, \"13\": 1, \"53\": 2}, \"22\": {\"22\": 94, \"24\": 12, \"52\": 12, \"15\": 3, \"11\": 9, \"21\": 1, \"23\": 2, \"0\": 2, \"54\": 1}, \"0\": {\"54\": 3, \"11\": 4, \"0\": 94, \"38\": 1, \"36\": 3, \"23\": 10, \"24\": 3, \"22\": 6, \"15\": 3, \"16\": 1}}, \"C_4\": {\"32\": {\"32\": 24}, \"2\": {\"38\": 2, \"2\": 30, \"1\": 1, \"10\": 1, \"24\": 2}, \"41\": {\"41\": 35, \"5\": 1}, \"11\": {\"11\": 74, \"41\": 2, \"16\": 2, \"15\": 11, \"35\": 1, \"52\": 1, \"43\": 8, \"24\": 1, \"0\": 1, \"3\": 1}, \"57\": {\"49\": 1, \"57\": 93, \"29\": 3, \"5\": 2, \"23\": 1}, \"6\": {\"6\": 64, \"3\": 18, \"55\": 3, \"36\": 6, \"5\": 4, \"54\": 4, \"4\": 1, \"48\": 3, \"31\": 1, \"47\": 2, \"51\": 2, \"20\": 1, \"46\": 2, \"23\": 1}, \"23\": {\"23\": 129, \"20\": 1, \"5\": 1, \"18\": 4, \"54\": 1}, \"52\": {\"41\": 3, \"52\": 107, \"39\": 3, \"16\": 3}, \"38\": {\"38\": 36, \"43\": 1, \"22\": 2, \"0\": 1}, \"50\": {\"50\": 70, \"53\": 5, \"8\": 17, \"44\": 1, \"3\": 7, \"36\": 7, \"12\": 3, \"17\": 2, \"4\": 2, \"6\": 5, \"27\": 5, \"25\": 2, \"19\": 1, \"20\": 3, \"51\": 1, \"45\": 1}, \"55\": {\"55\": 98, \"52\": 2, \"49\": 1, \"20\": 6, \"23\": 8, \"6\": 3, \"41\": 2, \"46\": 5, \"42\": 1, \"36\": 2, \"5\": 2, \"16\": 2, \"18\": 3, \"47\": 3, \"54\": 6, \"39\": 1, \"34\": 1, \"3\": 3, \"35\": 2, \"50\": 1}, \"46\": {\"11\": 5, \"41\": 3, \"1\": 2, \"15\": 14, \"7\": 1, \"46\": 97, \"16\": 4, \"47\": 4, \"52\": 3, \"24\": 3, \"5\": 6, \"23\": 3, \"43\": 3, \"6\": 1, \"22\": 1, \"0\": 3, \"32\": 1}, \"37\": {\"37\": 22, \"35\": 1, \"55\": 1}, \"20\": {\"50\": 1, \"20\": 109, \"8\": 1, \"51\": 2, \"54\": 1, \"23\": 3, \"36\": 1}, \"49\": {\"49\": 20}, \"45\": {\"45\": 76, \"12\": 5, \"27\": 2, \"40\": 2, \"17\": 3, \"9\": 3, \"30\": 1, \"50\": 1, \"4\": 2, \"8\": 1}, \"54\": {\"54\": 106, \"3\": 1, \"20\": 1}, \"3\": {\"3\": 85, \"4\": 2, \"55\": 5, \"53\": 1, \"51\": 3, \"6\": 15, \"5\": 1, \"54\": 2, \"36\": 4, \"34\": 1, \"21\": 1, \"20\": 2, \"50\": 1, \"25\": 1}, \"13\": {\"13\": 132, \"14\": 1, \"1\": 1, \"35\": 3, \"0\": 1, \"22\": 1, \"10\": 7, \"56\": 2, \"43\": 3, \"24\": 1}, \"18\": {\"23\": 10, \"18\": 94, \"20\": 2, \"6\": 1, \"42\": 1}, \"21\": {\"21\": 119, \"51\": 1, \"4\": 1, \"50\": 1, \"8\": 1, \"53\": 2, \"3\": 1}, \"43\": {\"43\": 135, \"11\": 3, \"15\": 1, \"0\": 3, \"24\": 2}, \"47\": {\"23\": 2, \"47\": 102, \"42\": 2, \"5\": 2, \"55\": 6, \"57\": 3, \"29\": 1, \"18\": 1, \"36\": 1}, \"4\": {\"4\": 92, \"19\": 10, \"51\": 3, \"9\": 11, \"48\": 1, \"20\": 1, \"53\": 1, \"8\": 2, \"27\": 1, \"44\": 5, \"40\": 1, \"50\": 2, \"30\": 1, \"17\": 1}, \"12\": {\"12\": 92}, \"9\": {\"9\": 86, \"4\": 7, \"19\": 3, \"40\": 6, \"17\": 4, \"27\": 13, \"55\": 1, \"53\": 2, \"51\": 1, \"33\": 2, \"36\": 1, \"50\": 1, \"48\": 1}, \"7\": {\"7\": 17, \"18\": 1, \"49\": 1, \"41\": 1, \"52\": 1, \"1\": 2, \"38\": 1}, \"56\": {\"56\": 102, \"1\": 1, \"57\": 1, \"13\": 1, \"43\": 1, \"10\": 5, \"46\": 1}, \"28\": {\"33\": 2, \"28\": 17, \"53\": 2, \"51\": 4, \"16\": 1, \"31\": 3, \"42\": 1, \"52\": 1, \"36\": 1}, \"44\": {\"44\": 99, \"4\": 11, \"40\": 4, \"19\": 10, \"33\": 2, \"8\": 3, \"28\": 1, \"17\": 1, \"48\": 1}, \"24\": {\"24\": 49, \"11\": 2, \"43\": 1, \"0\": 2, \"15\": 1, \"6\": 1}, \"33\": {\"33\": 22, \"28\": 3, \"9\": 3, \"4\": 3, \"17\": 1, \"29\": 1, \"35\": 1, \"44\": 1, \"27\": 1}, \"35\": {\"35\": 40}, \"51\": {\"51\": 92, \"31\": 1, \"18\": 2, \"50\": 3, \"21\": 4, \"36\": 5, \"27\": 1, \"53\": 17, \"20\": 7, \"25\": 4, \"8\": 2}, \"39\": {\"39\": 19, \"41\": 1}, \"36\": {\"36\": 88, \"54\": 1, \"50\": 1, \"18\": 1, \"6\": 1}, \"19\": {\"19\": 113, \"4\": 4, \"44\": 5, \"29\": 1, \"40\": 9, \"9\": 3, \"27\": 3, \"34\": 1, \"51\": 1}, \"0\": {\"15\": 2, \"0\": 47, \"7\": 1, \"11\": 5, \"24\": 1, \"39\": 1, \"52\": 5, \"16\": 2, \"22\": 2, \"43\": 7, \"10\": 3, \"38\": 1, \"46\": 3}, \"15\": {\"15\": 129, \"43\": 4, \"47\": 1, \"11\": 2}, \"29\": {\"28\": 6, \"29\": 102, \"48\": 3, \"57\": 6, \"47\": 3, \"3\": 1, \"33\": 1, \"40\": 1, \"23\": 1}, \"30\": {\"30\": 40, \"8\": 3, \"50\": 1}, \"1\": {\"1\": 37, \"47\": 1, \"49\": 1, \"35\": 1}, \"22\": {\"22\": 114, \"43\": 4, \"38\": 4, \"0\": 2, \"15\": 1, \"24\": 1, \"11\": 1, \"10\": 1}, \"40\": {\"55\": 2, \"40\": 93, \"4\": 9, \"51\": 1, \"19\": 21, \"44\": 6, \"17\": 3, \"9\": 6, \"29\": 1, \"28\": 2, \"33\": 1, \"53\": 1}, \"8\": {\"8\": 125, \"30\": 1, \"50\": 2}, \"53\": {\"53\": 105, \"8\": 2, \"36\": 2, \"51\": 18, \"50\": 3, \"20\": 2, \"21\": 2, \"18\": 3, \"6\": 1}, \"34\": {\"34\": 22, \"6\": 1, \"55\": 1}, \"10\": {\"10\": 117, \"47\": 1, \"0\": 1, \"13\": 2, \"22\": 1}, \"31\": {\"31\": 27, \"37\": 1}, \"17\": {\"17\": 66, \"27\": 6, \"33\": 1, \"21\": 2, \"9\": 4, \"50\": 1}, \"16\": {\"16\": 81, \"41\": 3, \"52\": 5, \"46\": 3, \"15\": 3, \"5\": 1}, \"42\": {\"42\": 31, \"20\": 1}, \"27\": {\"27\": 118, \"50\": 3, \"17\": 2, \"9\": 12, \"36\": 3, \"4\": 1, \"20\": 1, \"51\": 2}, \"14\": {\"22\": 2, \"13\": 1, \"14\": 4, \"7\": 1, \"44\": 2, \"46\": 1, \"40\": 1, \"38\": 1, \"43\": 2, \"55\": 1}, \"25\": {\"25\": 105, \"21\": 8, \"51\": 1, \"8\": 2, \"20\": 2, \"50\": 3, \"3\": 1}, \"48\": {\"48\": 117, \"36\": 1, \"55\": 2, \"6\": 3, \"3\": 3, \"18\": 1, \"54\": 3, \"20\": 2}, \"26\": {\"36\": 1, \"26\": 20, \"28\": 1, \"3\": 1, \"48\": 1}, \"5\": {\"5\": 71, \"15\": 2, \"41\": 3, \"57\": 5, \"47\": 6, \"3\": 4, \"23\": 2, \"54\": 1, \"6\": 1, \"46\": 5, \"7\": 1, \"42\": 1, \"35\": 1, \"52\": 2, \"16\": 3}}, \"C_3\": {\"14\": {\"29\": 1, \"9\": 1, \"14\": 12, \"24\": 3, \"43\": 4, \"4\": 5, \"42\": 1, \"15\": 1, \"10\": 1, \"19\": 1, \"56\": 3, \"55\": 1, \"21\": 1, \"44\": 3, \"37\": 1, \"11\": 1}, \"18\": {\"18\": 80, \"30\": 1, \"20\": 2, \"23\": 1}, \"30\": {\"30\": 117, \"50\": 3}, \"16\": {\"16\": 144, \"52\": 6, \"15\": 4, \"39\": 1, \"23\": 1}, \"1\": {\"1\": 87, \"48\": 3, \"5\": 2, \"47\": 5, \"11\": 1, \"43\": 1, \"57\": 1}, \"20\": {\"20\": 131, \"18\": 1}, \"7\": {\"7\": 34, \"43\": 2}, \"52\": {\"52\": 112, \"23\": 6, \"15\": 5, \"16\": 6, \"46\": 1}, \"9\": {\"9\": 110, \"18\": 2, \"55\": 1, \"27\": 9, \"30\": 1, \"46\": 1, \"29\": 11, \"57\": 1, \"3\": 1, \"48\": 1, \"19\": 1, \"20\": 1}, \"23\": {\"23\": 140, \"52\": 3, \"20\": 1}, \"55\": {\"55\": 111, \"6\": 5, \"52\": 7, \"31\": 1, \"46\": 2, \"5\": 7, \"21\": 2, \"50\": 2, \"23\": 3, \"47\": 5, \"20\": 2, \"54\": 1, \"3\": 4, \"16\": 3, \"44\": 1, \"26\": 1, \"30\": 1, \"35\": 2, \"48\": 1, \"1\": 1, \"18\": 2}, \"29\": {\"29\": 95, \"9\": 9, \"42\": 1, \"35\": 2, \"48\": 2, \"5\": 1, \"51\": 1, \"57\": 3, \"19\": 5, \"1\": 3, \"40\": 1, \"47\": 1, \"27\": 1, \"22\": 1}, \"56\": {\"56\": 119, \"10\": 3, \"13\": 2, \"24\": 2, \"22\": 7, \"43\": 1}, \"3\": {\"6\": 12, \"3\": 33, \"37\": 4, \"55\": 6, \"8\": 1, \"26\": 2, \"32\": 2, \"30\": 4, \"36\": 4, \"46\": 9, \"9\": 4, \"50\": 5, \"47\": 2, \"51\": 1, \"21\": 7, \"23\": 2, \"29\": 2, \"27\": 2, \"13\": 1, \"52\": 1, \"4\": 1, \"53\": 2, \"20\": 9, \"19\": 2, \"16\": 2, \"44\": 1, \"48\": 1, \"18\": 1, \"1\": 1}, \"42\": {\"9\": 1, \"42\": 21, \"55\": 2, \"23\": 3, \"48\": 1}, \"6\": {\"6\": 70, \"26\": 2, \"20\": 2, \"50\": 4, \"12\": 1, \"30\": 2, \"46\": 2, \"21\": 1, \"41\": 1, \"3\": 3}, \"5\": {\"5\": 70, \"55\": 1, \"47\": 6, \"21\": 1, \"48\": 1, \"26\": 1, \"28\": 3, \"34\": 2, \"3\": 1, \"23\": 5, \"1\": 5, \"57\": 14, \"6\": 2, \"50\": 1, \"46\": 2, \"31\": 1}, \"27\": {\"27\": 121, \"29\": 3, \"9\": 7, \"30\": 3, \"18\": 1, \"17\": 6, \"54\": 1, \"20\": 1, \"50\": 1}, \"47\": {\"47\": 63, \"35\": 3, \"28\": 2, \"3\": 3, \"5\": 3, \"52\": 1, \"23\": 3, \"1\": 2, \"55\": 6, \"16\": 2, \"48\": 1, \"42\": 1, \"25\": 1, \"6\": 1}, \"39\": {\"39\": 16}, \"34\": {\"34\": 30, \"5\": 1, \"23\": 1}, \"4\": {\"4\": 98, \"9\": 4, \"32\": 1, \"53\": 1, \"19\": 15, \"8\": 1, \"36\": 1, \"40\": 1, \"45\": 1, \"44\": 1, \"3\": 1, \"29\": 1}, \"24\": {\"24\": 99, \"43\": 3, \"11\": 2}, \"46\": {\"50\": 6, \"46\": 64, \"21\": 6, \"26\": 1, \"3\": 9, \"20\": 12, \"6\": 3, \"23\": 4, \"30\": 1, \"51\": 1, \"16\": 4, \"48\": 1, \"2\": 1, \"41\": 1, \"18\": 2, \"55\": 1, \"11\": 1}, \"50\": {\"46\": 7, \"50\": 71, \"8\": 9, \"23\": 3, \"54\": 3, \"20\": 5, \"53\": 5, \"30\": 10, \"3\": 4, \"6\": 6, \"25\": 1, \"51\": 1, \"16\": 1}, \"38\": {\"38\": 27, \"25\": 1}, \"54\": {\"54\": 99, \"50\": 1}, \"35\": {\"35\": 27, \"3\": 1}, \"2\": {\"2\": 32}, \"41\": {\"41\": 28}, \"57\": {\"57\": 93, \"1\": 10, \"5\": 11, \"48\": 2, \"9\": 1, \"3\": 1}, \"25\": {\"25\": 140, \"53\": 2, \"20\": 2, \"50\": 2, \"3\": 1, \"21\": 2, \"38\": 1}, \"48\": {\"48\": 101, \"23\": 3, \"1\": 3, \"52\": 1, \"4\": 1, \"46\": 1, \"35\": 1, \"50\": 1, \"5\": 1, \"20\": 1, \"30\": 2}, \"33\": {\"33\": 24, \"21\": 2, \"3\": 2}, \"45\": {\"36\": 3, \"45\": 34, \"50\": 1, \"32\": 1, \"4\": 7, \"54\": 4, \"27\": 1, \"25\": 2, \"12\": 1, \"30\": 1, \"17\": 2, \"6\": 1, \"48\": 1, \"19\": 1}, \"13\": {\"14\": 1, \"13\": 110, \"31\": 1, \"24\": 4, \"46\": 1, \"47\": 1, \"55\": 4, \"43\": 2, \"5\": 2}, \"36\": {\"36\": 100}, \"43\": {\"43\": 116, \"24\": 2, \"11\": 8, \"15\": 4, \"49\": 1, \"7\": 1}, \"28\": {\"28\": 18, \"55\": 2, \"15\": 1, \"1\": 1, \"57\": 1, \"35\": 2, \"43\": 1, \"0\": 2}, \"0\": {\"0\": 116, \"16\": 2, \"15\": 5, \"5\": 1}, \"12\": {\"12\": 87, \"2\": 3, \"54\": 1, \"53\": 1}, \"31\": {\"31\": 27, \"5\": 1}, \"40\": {\"4\": 11, \"40\": 77, \"19\": 16, \"45\": 1, \"27\": 1, \"44\": 3, \"53\": 1, \"8\": 1, \"17\": 2, \"9\": 1, \"51\": 1, \"29\": 1}, \"44\": {\"3\": 2, \"44\": 69, \"50\": 1, \"40\": 4, \"51\": 1, \"4\": 2, \"19\": 5, \"29\": 2, \"14\": 1, \"54\": 1}, \"32\": {\"32\": 28}, \"26\": {\"26\": 19, \"46\": 2, \"20\": 1, \"6\": 2}, \"8\": {\"8\": 108, \"12\": 1, \"50\": 3, \"30\": 2, \"53\": 2}, \"10\": {\"10\": 64}, \"15\": {\"15\": 137, \"5\": 1, \"3\": 2, \"6\": 1, \"0\": 1}, \"21\": {\"50\": 7, \"27\": 1, \"21\": 97, \"18\": 3, \"54\": 2, \"20\": 6, \"30\": 2, \"51\": 2, \"48\": 2, \"57\": 2, \"9\": 1, \"38\": 1, \"37\": 1, \"36\": 1}, \"37\": {\"37\": 28}, \"17\": {\"17\": 97, \"27\": 5, \"32\": 1, \"30\": 2, \"33\": 1, \"51\": 2}, \"51\": {\"51\": 94, \"12\": 2, \"38\": 1, \"18\": 3, \"21\": 4, \"53\": 11, \"20\": 2, \"54\": 1, \"8\": 2, \"46\": 1, \"17\": 1, \"50\": 2}, \"53\": {\"53\": 125, \"8\": 2, \"36\": 6, \"51\": 10, \"25\": 1}, \"19\": {\"19\": 110, \"17\": 3, \"9\": 3, \"14\": 1, \"3\": 1, \"44\": 2, \"29\": 4, \"27\": 2, \"40\": 4, \"4\": 5, \"48\": 1}, \"49\": {\"49\": 19, \"24\": 1}, \"11\": {\"11\": 128, \"43\": 6, \"15\": 1, \"24\": 2, \"0\": 1}, \"22\": {\"22\": 117, \"1\": 3, \"56\": 1, \"29\": 1, \"55\": 1, \"0\": 1, \"43\": 1, \"24\": 3, \"13\": 2}}}, \"per_domain_accuracy\": {\"O_8\": {\"accuracy\": 0.8614583333333333, \"source?\": true}, \"O_38\": {\"accuracy\": 0.8916666666666667, \"source?\": true}, \"O_26\": {\"accuracy\": 0.7169270833333333, \"source?\": true}, \"O_20\": {\"accuracy\": 0.8434895833333333, \"source?\": true}, \"O_50\": {\"accuracy\": 0.8783854166666667, \"source?\": true}, \"O_32\": {\"accuracy\": 0.8497395833333333, \"source?\": true}, \"O_44\": {\"accuracy\": 0.7377604166666667, \"source?\": true}, \"O_14\": {\"accuracy\": 0.9059895833333333, \"source?\": true}, \"C_2\": {\"accuracy\": 0.8174715909090909, \"source?\": false}, \"C_5\": {\"accuracy\": 0.8186446629213483, \"source?\": false}, \"C_1\": {\"accuracy\": 0.8334478021978022, \"source?\": false}, \"C_4\": {\"accuracy\": 0.8151197604790419, \"source?\": false}, \"C_3\": {\"accuracy\": 0.8304093567251462, \"source?\": false}}}, \"history\": {\"epoch_indices\": [1, 2, 3, 4, 5, 6, 7, 8, 9], \"train_label_loss\": [0.9954300858080387, 0.7220416213452284, 0.5760113149703968, 0.5039263722924737, 0.4527882832861949, 0.4156134988306024, 0.383214835806783, 0.3496747114321416, 0.3122580252662634], \"source_val_label_loss\": [1.0313857793807983, 0.7056272029876709, 0.5830031037330627, 0.4746141731739044, 0.4445632994174957, 0.4170629382133484, 0.4259965419769287, 0.3774474263191223, 0.38940393924713135], \"target_val_label_loss\": [1.8747228384017944, 1.5873271226882935, 1.8280348777770996, 1.48470938205719, 1.6208150386810303, 1.9292287826538086, 2.0691356658935547, 2.631396770477295, 2.6447954177856445], \"source_val_acc_label\": [0.63359375, 0.7387369791666667, 0.7846354166666667, 0.82666015625, 0.8356770833333333, 0.84765625, 0.841796875, 0.8630859375, 0.8580078125], \"target_val_acc_label\": [0.7334096109839817, 0.8098183638443935, 0.799771167048055, 0.8202588672768879, 0.8231192791762014, 0.803024885583524, 0.8082808924485125, 0.7824299199084668, 0.7801773455377574]}, \"dataset_metrics\": {\"source\": {\"train\": {\"n_unique_x\": 179200, \"n_unique_y\": 16, \"n_batch/episode\": 6720}, \"val\": {\"n_unique_x\": 38400, \"n_unique_y\": 16, \"n_batch/episode\": 960}, \"test\": {\"n_unique_x\": 38400, \"n_unique_y\": 16, \"n_batch/episode\": 960}}, \"target\": {\"train\": {\"n_unique_x\": 175127, \"n_unique_y\": 58, \"n_batch/episode\": 6303}, \"val\": {\"n_unique_x\": 37135, \"n_unique_y\": 58, \"n_batch/episode\": 874}, \"test\": {\"n_unique_x\": 37673, \"n_unique_y\": 58, \"n_batch/episode\": 893}}}}'"
      ]
     },
     "execution_count": 29,
     "metadata": {},
     "output_type": "execute_result"
    }
   ],
   "source": [
    "json.dumps(experiment)"
   ]
  }
 ],
 "metadata": {
  "celltoolbar": "Tags",
  "kernelspec": {
   "display_name": "Python 3 (ipykernel)",
   "language": "python",
   "name": "python3"
  },
  "language_info": {
   "codemirror_mode": {
    "name": "ipython",
    "version": 3
   },
   "file_extension": ".py",
   "mimetype": "text/x-python",
   "name": "python",
   "nbconvert_exporter": "python",
   "pygments_lexer": "ipython3",
   "version": "3.8.10"
  },
  "papermill": {
   "default_parameters": {},
   "duration": 2808.781533,
   "end_time": "2022-03-26T01:58:56.032452",
   "environment_variables": {},
   "exception": null,
   "input_path": "/mnt/wd500GB/CSC500/csc500-main/csc500-notebooks/templates/tl_ptn_template.ipynb",
   "output_path": "trial.ipynb",
   "parameters": {
    "parameters": {
     "BEST_MODEL_PATH": "./best_model.pth",
     "NUM_LOGS_PER_EPOCH": 10,
     "criteria_for_best": "target_accuracy",
     "dataset_seed": 154325,
     "datasets": [
      {
       "domain_prefix": "C_",
       "domains": [
        1,
        2,
        3,
        4,
        5
       ],
       "episode_transforms": [],
       "labels": [
        "1-10.",
        "1-11.",
        "1-15.",
        "1-16.",
        "1-17.",
        "1-18.",
        "1-19.",
        "10-4.",
        "10-7.",
        "11-1.",
        "11-14.",
        "11-17.",
        "11-20.",
        "11-7.",
        "13-20.",
        "13-8.",
        "14-10.",
        "14-11.",
        "14-14.",
        "14-7.",
        "15-1.",
        "15-20.",
        "16-1.",
        "16-16.",
        "17-10.",
        "17-11.",
        "17-2.",
        "19-1.",
        "19-16.",
        "19-19.",
        "19-20.",
        "19-3.",
        "2-10.",
        "2-11.",
        "2-17.",
        "2-18.",
        "2-20.",
        "2-3.",
        "2-4.",
        "2-5.",
        "2-6.",
        "2-7.",
        "2-8.",
        "3-13.",
        "3-18.",
        "3-3.",
        "4-1.",
        "4-10.",
        "4-11.",
        "4-19.",
        "5-5.",
        "6-15.",
        "7-10.",
        "7-14.",
        "8-18.",
        "8-20.",
        "8-3.",
        "8-8."
       ],
       "num_examples_per_domain_per_label": -1,
       "pickle_path": "/mnt/wd500GB/CSC500/csc500-main/datasets/cores.stratified_ds.2022A.pkl",
       "source_or_target_dataset": "target",
       "x_transforms": [
        "unit_mag",
        "lowpass_+/-10MHz",
        "take_200"
       ]
      },
      {
       "domain_prefix": "O_",
       "domains": [
        32,
        38,
        8,
        44,
        14,
        50,
        20,
        26
       ],
       "episode_transforms": [],
       "labels": [
        "3123D52",
        "3123D65",
        "3123D79",
        "3123D80",
        "3123D54",
        "3123D70",
        "3123D7B",
        "3123D89",
        "3123D58",
        "3123D76",
        "3123D7D",
        "3123EFE",
        "3123D64",
        "3123D78",
        "3123D7E",
        "3124E4A"
       ],
       "num_examples_per_domain_per_label": 2000,
       "pickle_path": "/mnt/wd500GB/CSC500/csc500-main/datasets/oracle.Run1_framed_2000Examples_stratified_ds.2022A.pkl",
       "source_or_target_dataset": "source",
       "x_transforms": [
        "unit_mag",
        "take_200",
        "resample_20Msps_to_25Msps"
       ]
      }
     ],
     "device": "cuda",
     "experiment_name": "tl_3-filterv2:oracle.run1.framed -> cores",
     "lr": 0.0001,
     "n_epoch": 50,
     "n_query": 2,
     "n_shot": 3,
     "n_way": 16,
     "patience": 3,
     "seed": 154325,
     "test_k_factor": 2,
     "torch_default_dtype": "torch.float32",
     "train_k_factor": 3,
     "val_k_factor": 2,
     "x_net": [
      {
       "class": "nnReshape",
       "kargs": {
        "shape": [
         -1,
         1,
         2,
         200
        ]
       }
      },
      {
       "class": "Conv2d",
       "kargs": {
        "bias": false,
        "in_channels": 1,
        "kernel_size": [
         1,
         7
        ],
        "out_channels": 256,
        "padding": [
         0,
         3
        ]
       }
      },
      {
       "class": "ReLU",
       "kargs": {
        "inplace": true
       }
      },
      {
       "class": "BatchNorm2d",
       "kargs": {
        "num_features": 256
       }
      },
      {
       "class": "Conv2d",
       "kargs": {
        "bias": true,
        "in_channels": 256,
        "kernel_size": [
         2,
         7
        ],
        "out_channels": 80,
        "padding": [
         0,
         3
        ]
       }
      },
      {
       "class": "ReLU",
       "kargs": {
        "inplace": true
       }
      },
      {
       "class": "BatchNorm2d",
       "kargs": {
        "num_features": 80
       }
      },
      {
       "class": "Flatten",
       "kargs": {}
      },
      {
       "class": "Linear",
       "kargs": {
        "in_features": 16000,
        "out_features": 256
       }
      },
      {
       "class": "ReLU",
       "kargs": {
        "inplace": true
       }
      },
      {
       "class": "BatchNorm1d",
       "kargs": {
        "num_features": 256
       }
      },
      {
       "class": "Linear",
       "kargs": {
        "in_features": 256,
        "out_features": 256
       }
      }
     ],
     "x_shape": [
      2,
      200
     ]
    }
   },
   "start_time": "2022-03-26T01:12:07.250919",
   "version": "2.3.4"
  }
 },
 "nbformat": 4,
 "nbformat_minor": 5
}