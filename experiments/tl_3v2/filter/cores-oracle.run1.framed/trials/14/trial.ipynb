{
 "cells": [
  {
   "cell_type": "markdown",
   "id": "9fea5f46",
   "metadata": {
    "papermill": {
     "duration": 0.015653,
     "end_time": "2022-03-25T20:22:16.821594",
     "exception": false,
     "start_time": "2022-03-25T20:22:16.805941",
     "status": "completed"
    },
    "tags": []
   },
   "source": [
    "# Transfer Learning Template"
   ]
  },
  {
   "cell_type": "code",
   "execution_count": 1,
   "id": "0902182a",
   "metadata": {
    "execution": {
     "iopub.execute_input": "2022-03-25T20:22:16.856611Z",
     "iopub.status.busy": "2022-03-25T20:22:16.856329Z",
     "iopub.status.idle": "2022-03-25T20:22:17.829171Z",
     "shell.execute_reply": "2022-03-25T20:22:17.829585Z"
    },
    "papermill": {
     "duration": 0.995251,
     "end_time": "2022-03-25T20:22:17.829783",
     "exception": false,
     "start_time": "2022-03-25T20:22:16.834532",
     "status": "completed"
    },
    "tags": []
   },
   "outputs": [],
   "source": [
    "%load_ext autoreload\n",
    "%autoreload 2\n",
    "%matplotlib inline\n",
    "\n",
    "    \n",
    "import os, json, sys, time, random\n",
    "import numpy as np\n",
    "import torch\n",
    "from torch.optim import Adam\n",
    "from  easydict import EasyDict\n",
    "import matplotlib.pyplot as plt\n",
    "\n",
    "from steves_models.steves_ptn import Steves_Prototypical_Network\n",
    "\n",
    "from steves_utils.lazy_iterable_wrapper import Lazy_Iterable_Wrapper\n",
    "from steves_utils.iterable_aggregator import Iterable_Aggregator\n",
    "from steves_utils.ptn_train_eval_test_jig import  PTN_Train_Eval_Test_Jig\n",
    "from steves_utils.torch_sequential_builder import build_sequential\n",
    "from steves_utils.torch_utils import get_dataset_metrics, ptn_confusion_by_domain_over_dataloader\n",
    "from steves_utils.utils_v2 import (per_domain_accuracy_from_confusion, get_datasets_base_path)\n",
    "from steves_utils.PTN.utils import independent_accuracy_assesment\n",
    "\n",
    "from torch.utils.data import DataLoader\n",
    "\n",
    "from steves_utils.stratified_dataset.episodic_accessor import Episodic_Accessor_Factory\n",
    "\n",
    "from steves_utils.ptn_do_report import (\n",
    "    get_loss_curve,\n",
    "    get_results_table,\n",
    "    get_parameters_table,\n",
    "    get_domain_accuracies,\n",
    ")\n",
    "\n",
    "from steves_utils.transforms import get_chained_transform"
   ]
  },
  {
   "cell_type": "markdown",
   "id": "41c840b4",
   "metadata": {
    "papermill": {
     "duration": 0.013742,
     "end_time": "2022-03-25T20:22:17.861006",
     "exception": false,
     "start_time": "2022-03-25T20:22:17.847264",
     "status": "completed"
    },
    "tags": []
   },
   "source": [
    "# Allowed Parameters\n",
    "These are allowed parameters, not defaults\n",
    "Each of these values need to be present in the injected parameters (the notebook will raise an exception if they are not present)\n",
    "\n",
    "Papermill uses the cell tag \"parameters\" to inject the real parameters below this cell.\n",
    "Enable tags to see what I mean"
   ]
  },
  {
   "cell_type": "code",
   "execution_count": 2,
   "id": "fd44eb83",
   "metadata": {
    "execution": {
     "iopub.execute_input": "2022-03-25T20:22:17.888929Z",
     "iopub.status.busy": "2022-03-25T20:22:17.888507Z",
     "iopub.status.idle": "2022-03-25T20:22:17.900790Z",
     "shell.execute_reply": "2022-03-25T20:22:17.900519Z"
    },
    "papermill": {
     "duration": 0.027219,
     "end_time": "2022-03-25T20:22:17.900849",
     "exception": false,
     "start_time": "2022-03-25T20:22:17.873630",
     "status": "completed"
    },
    "tags": []
   },
   "outputs": [],
   "source": [
    "required_parameters = {\n",
    "    \"experiment_name\",\n",
    "    \"lr\",\n",
    "    \"device\",\n",
    "    \"seed\",\n",
    "    \"dataset_seed\",\n",
    "    \"n_shot\",\n",
    "    \"n_query\",\n",
    "    \"n_way\",\n",
    "    \"train_k_factor\",\n",
    "    \"val_k_factor\",\n",
    "    \"test_k_factor\",\n",
    "    \"n_epoch\",\n",
    "    \"patience\",\n",
    "    \"criteria_for_best\",\n",
    "    \"x_net\",\n",
    "    \"datasets\",\n",
    "    \"torch_default_dtype\",\n",
    "    \"NUM_LOGS_PER_EPOCH\",\n",
    "    \"BEST_MODEL_PATH\",\n",
    "    \"x_shape\",\n",
    "}"
   ]
  },
  {
   "cell_type": "code",
   "execution_count": 3,
   "id": "fa3f0049",
   "metadata": {
    "execution": {
     "iopub.execute_input": "2022-03-25T20:22:17.933017Z",
     "iopub.status.busy": "2022-03-25T20:22:17.932566Z",
     "iopub.status.idle": "2022-03-25T20:22:17.945409Z",
     "shell.execute_reply": "2022-03-25T20:22:17.945175Z"
    },
    "papermill": {
     "duration": 0.031813,
     "end_time": "2022-03-25T20:22:17.945473",
     "exception": false,
     "start_time": "2022-03-25T20:22:17.913660",
     "status": "completed"
    },
    "tags": [
     "parameters"
    ]
   },
   "outputs": [],
   "source": [
    "from steves_utils.CORES.utils import (\n",
    "    ALL_NODES,\n",
    "    ALL_NODES_MINIMUM_1000_EXAMPLES,\n",
    "    ALL_DAYS\n",
    ")\n",
    "\n",
    "from steves_utils.ORACLE.utils_v2 import (\n",
    "    ALL_DISTANCES_FEET_NARROWED,\n",
    "    ALL_RUNS,\n",
    "    ALL_SERIAL_NUMBERS,\n",
    ")\n",
    "\n",
    "standalone_parameters = {}\n",
    "standalone_parameters[\"experiment_name\"] = \"STANDALONE PTN\"\n",
    "standalone_parameters[\"lr\"] = 0.001\n",
    "standalone_parameters[\"device\"] = \"cuda\"\n",
    "\n",
    "standalone_parameters[\"seed\"] = 1337\n",
    "standalone_parameters[\"dataset_seed\"] = 1337\n",
    "\n",
    "standalone_parameters[\"n_way\"] = 8\n",
    "standalone_parameters[\"n_shot\"] = 3\n",
    "standalone_parameters[\"n_query\"]  = 2\n",
    "standalone_parameters[\"train_k_factor\"] = 1\n",
    "standalone_parameters[\"val_k_factor\"] = 2\n",
    "standalone_parameters[\"test_k_factor\"] = 2\n",
    "\n",
    "\n",
    "standalone_parameters[\"n_epoch\"] = 50\n",
    "\n",
    "standalone_parameters[\"patience\"] = 10\n",
    "standalone_parameters[\"criteria_for_best\"] = \"source_loss\"\n",
    "\n",
    "standalone_parameters[\"datasets\"] = [\n",
    "    {\n",
    "        \"labels\": ALL_SERIAL_NUMBERS,\n",
    "        \"domains\": ALL_DISTANCES_FEET_NARROWED,\n",
    "        \"num_examples_per_domain_per_label\": 100,\n",
    "        \"pickle_path\": os.path.join(get_datasets_base_path(), \"oracle.Run1_framed_2000Examples_stratified_ds.2022A.pkl\"),\n",
    "        \"source_or_target_dataset\": \"source\",\n",
    "        \"x_transforms\": [\"unit_mag\", \"minus_two\"],\n",
    "        \"episode_transforms\": [],\n",
    "        \"domain_prefix\": \"ORACLE_\"\n",
    "    },\n",
    "    {\n",
    "        \"labels\": ALL_NODES,\n",
    "        \"domains\": ALL_DAYS,\n",
    "        \"num_examples_per_domain_per_label\": 100,\n",
    "        \"pickle_path\": os.path.join(get_datasets_base_path(), \"cores.stratified_ds.2022A.pkl\"),\n",
    "        \"source_or_target_dataset\": \"target\",\n",
    "        \"x_transforms\": [\"unit_power\", \"times_zero\"],\n",
    "        \"episode_transforms\": [],\n",
    "        \"domain_prefix\": \"CORES_\"\n",
    "    }   \n",
    "]\n",
    "\n",
    "standalone_parameters[\"torch_default_dtype\"] = \"torch.float32\" \n",
    "\n",
    "\n",
    "\n",
    "standalone_parameters[\"x_net\"] =     [\n",
    "    {\"class\": \"nnReshape\", \"kargs\": {\"shape\":[-1, 1, 2, 256]}},\n",
    "    {\"class\": \"Conv2d\", \"kargs\": { \"in_channels\":1, \"out_channels\":256, \"kernel_size\":(1,7), \"bias\":False, \"padding\":(0,3), },},\n",
    "    {\"class\": \"ReLU\", \"kargs\": {\"inplace\": True}},\n",
    "    {\"class\": \"BatchNorm2d\", \"kargs\": {\"num_features\":256}},\n",
    "\n",
    "    {\"class\": \"Conv2d\", \"kargs\": { \"in_channels\":256, \"out_channels\":80, \"kernel_size\":(2,7), \"bias\":True, \"padding\":(0,3), },},\n",
    "    {\"class\": \"ReLU\", \"kargs\": {\"inplace\": True}},\n",
    "    {\"class\": \"BatchNorm2d\", \"kargs\": {\"num_features\":80}},\n",
    "    {\"class\": \"Flatten\", \"kargs\": {}},\n",
    "\n",
    "    {\"class\": \"Linear\", \"kargs\": {\"in_features\": 80*256, \"out_features\": 256}}, # 80 units per IQ pair\n",
    "    {\"class\": \"ReLU\", \"kargs\": {\"inplace\": True}},\n",
    "    {\"class\": \"BatchNorm1d\", \"kargs\": {\"num_features\":256}},\n",
    "\n",
    "    {\"class\": \"Linear\", \"kargs\": {\"in_features\": 256, \"out_features\": 256}},\n",
    "]\n",
    "\n",
    "# Parameters relevant to results\n",
    "# These parameters will basically never need to change\n",
    "standalone_parameters[\"NUM_LOGS_PER_EPOCH\"] = 10\n",
    "standalone_parameters[\"BEST_MODEL_PATH\"] = \"./best_model.pth\"\n",
    "\n",
    "\n",
    "\n",
    "\n"
   ]
  },
  {
   "cell_type": "code",
   "execution_count": 4,
   "id": "372545f7",
   "metadata": {
    "execution": {
     "iopub.execute_input": "2022-03-25T20:22:17.978487Z",
     "iopub.status.busy": "2022-03-25T20:22:17.973171Z",
     "iopub.status.idle": "2022-03-25T20:22:17.992189Z",
     "shell.execute_reply": "2022-03-25T20:22:17.991930Z"
    },
    "papermill": {
     "duration": 0.0334,
     "end_time": "2022-03-25T20:22:17.992253",
     "exception": false,
     "start_time": "2022-03-25T20:22:17.958853",
     "status": "completed"
    },
    "tags": [
     "injected-parameters"
    ]
   },
   "outputs": [],
   "source": [
    "# Parameters\n",
    "parameters = {\n",
    "    \"experiment_name\": \"tl_3-filterv2:cores -> oracle.run1.framed\",\n",
    "    \"device\": \"cuda\",\n",
    "    \"lr\": 0.0001,\n",
    "    \"x_shape\": [2, 200],\n",
    "    \"n_shot\": 3,\n",
    "    \"n_query\": 2,\n",
    "    \"train_k_factor\": 3,\n",
    "    \"val_k_factor\": 2,\n",
    "    \"test_k_factor\": 2,\n",
    "    \"torch_default_dtype\": \"torch.float32\",\n",
    "    \"n_epoch\": 50,\n",
    "    \"patience\": 3,\n",
    "    \"criteria_for_best\": \"target_accuracy\",\n",
    "    \"x_net\": [\n",
    "        {\"class\": \"nnReshape\", \"kargs\": {\"shape\": [-1, 1, 2, 200]}},\n",
    "        {\n",
    "            \"class\": \"Conv2d\",\n",
    "            \"kargs\": {\n",
    "                \"in_channels\": 1,\n",
    "                \"out_channels\": 256,\n",
    "                \"kernel_size\": [1, 7],\n",
    "                \"bias\": False,\n",
    "                \"padding\": [0, 3],\n",
    "            },\n",
    "        },\n",
    "        {\"class\": \"ReLU\", \"kargs\": {\"inplace\": True}},\n",
    "        {\"class\": \"BatchNorm2d\", \"kargs\": {\"num_features\": 256}},\n",
    "        {\n",
    "            \"class\": \"Conv2d\",\n",
    "            \"kargs\": {\n",
    "                \"in_channels\": 256,\n",
    "                \"out_channels\": 80,\n",
    "                \"kernel_size\": [2, 7],\n",
    "                \"bias\": True,\n",
    "                \"padding\": [0, 3],\n",
    "            },\n",
    "        },\n",
    "        {\"class\": \"ReLU\", \"kargs\": {\"inplace\": True}},\n",
    "        {\"class\": \"BatchNorm2d\", \"kargs\": {\"num_features\": 80}},\n",
    "        {\"class\": \"Flatten\", \"kargs\": {}},\n",
    "        {\"class\": \"Linear\", \"kargs\": {\"in_features\": 16000, \"out_features\": 256}},\n",
    "        {\"class\": \"ReLU\", \"kargs\": {\"inplace\": True}},\n",
    "        {\"class\": \"BatchNorm1d\", \"kargs\": {\"num_features\": 256}},\n",
    "        {\"class\": \"Linear\", \"kargs\": {\"in_features\": 256, \"out_features\": 256}},\n",
    "    ],\n",
    "    \"NUM_LOGS_PER_EPOCH\": 10,\n",
    "    \"BEST_MODEL_PATH\": \"./best_model.pth\",\n",
    "    \"n_way\": 16,\n",
    "    \"datasets\": [\n",
    "        {\n",
    "            \"labels\": [\n",
    "                \"1-10.\",\n",
    "                \"1-11.\",\n",
    "                \"1-15.\",\n",
    "                \"1-16.\",\n",
    "                \"1-17.\",\n",
    "                \"1-18.\",\n",
    "                \"1-19.\",\n",
    "                \"10-4.\",\n",
    "                \"10-7.\",\n",
    "                \"11-1.\",\n",
    "                \"11-14.\",\n",
    "                \"11-17.\",\n",
    "                \"11-20.\",\n",
    "                \"11-7.\",\n",
    "                \"13-20.\",\n",
    "                \"13-8.\",\n",
    "                \"14-10.\",\n",
    "                \"14-11.\",\n",
    "                \"14-14.\",\n",
    "                \"14-7.\",\n",
    "                \"15-1.\",\n",
    "                \"15-20.\",\n",
    "                \"16-1.\",\n",
    "                \"16-16.\",\n",
    "                \"17-10.\",\n",
    "                \"17-11.\",\n",
    "                \"17-2.\",\n",
    "                \"19-1.\",\n",
    "                \"19-16.\",\n",
    "                \"19-19.\",\n",
    "                \"19-20.\",\n",
    "                \"19-3.\",\n",
    "                \"2-10.\",\n",
    "                \"2-11.\",\n",
    "                \"2-17.\",\n",
    "                \"2-18.\",\n",
    "                \"2-20.\",\n",
    "                \"2-3.\",\n",
    "                \"2-4.\",\n",
    "                \"2-5.\",\n",
    "                \"2-6.\",\n",
    "                \"2-7.\",\n",
    "                \"2-8.\",\n",
    "                \"3-13.\",\n",
    "                \"3-18.\",\n",
    "                \"3-3.\",\n",
    "                \"4-1.\",\n",
    "                \"4-10.\",\n",
    "                \"4-11.\",\n",
    "                \"4-19.\",\n",
    "                \"5-5.\",\n",
    "                \"6-15.\",\n",
    "                \"7-10.\",\n",
    "                \"7-14.\",\n",
    "                \"8-18.\",\n",
    "                \"8-20.\",\n",
    "                \"8-3.\",\n",
    "                \"8-8.\",\n",
    "            ],\n",
    "            \"domains\": [1, 2, 3, 4, 5],\n",
    "            \"num_examples_per_domain_per_label\": -1,\n",
    "            \"pickle_path\": \"/mnt/wd500GB/CSC500/csc500-main/datasets/cores.stratified_ds.2022A.pkl\",\n",
    "            \"source_or_target_dataset\": \"source\",\n",
    "            \"x_transforms\": [\"lowpass_+/-10MHz\", \"take_200\"],\n",
    "            \"episode_transforms\": [],\n",
    "            \"domain_prefix\": \"C_\",\n",
    "        },\n",
    "        {\n",
    "            \"labels\": [\n",
    "                \"3123D52\",\n",
    "                \"3123D65\",\n",
    "                \"3123D79\",\n",
    "                \"3123D80\",\n",
    "                \"3123D54\",\n",
    "                \"3123D70\",\n",
    "                \"3123D7B\",\n",
    "                \"3123D89\",\n",
    "                \"3123D58\",\n",
    "                \"3123D76\",\n",
    "                \"3123D7D\",\n",
    "                \"3123EFE\",\n",
    "                \"3123D64\",\n",
    "                \"3123D78\",\n",
    "                \"3123D7E\",\n",
    "                \"3124E4A\",\n",
    "            ],\n",
    "            \"domains\": [32, 38, 8, 44, 14, 50, 20, 26],\n",
    "            \"num_examples_per_domain_per_label\": 2000,\n",
    "            \"pickle_path\": \"/mnt/wd500GB/CSC500/csc500-main/datasets/oracle.Run1_framed_2000Examples_stratified_ds.2022A.pkl\",\n",
    "            \"source_or_target_dataset\": \"target\",\n",
    "            \"x_transforms\": [\"take_200\", \"resample_20Msps_to_25Msps\"],\n",
    "            \"episode_transforms\": [],\n",
    "            \"domain_prefix\": \"O_\",\n",
    "        },\n",
    "    ],\n",
    "    \"seed\": 500,\n",
    "    \"dataset_seed\": 500,\n",
    "}\n"
   ]
  },
  {
   "cell_type": "code",
   "execution_count": 5,
   "id": "8fa1cc33",
   "metadata": {
    "execution": {
     "iopub.execute_input": "2022-03-25T20:22:18.021592Z",
     "iopub.status.busy": "2022-03-25T20:22:18.021074Z",
     "iopub.status.idle": "2022-03-25T20:22:18.032497Z",
     "shell.execute_reply": "2022-03-25T20:22:18.032883Z"
    },
    "papermill": {
     "duration": 0.02741,
     "end_time": "2022-03-25T20:22:18.033010",
     "exception": false,
     "start_time": "2022-03-25T20:22:18.005600",
     "status": "completed"
    },
    "tags": []
   },
   "outputs": [],
   "source": [
    "# Set this to True if you want to run this template directly\n",
    "STANDALONE = False\n",
    "if STANDALONE:\n",
    "    print(\"parameters not injected, running with standalone_parameters\")\n",
    "    parameters = standalone_parameters\n",
    "\n",
    "if not 'parameters' in locals() and not 'parameters' in globals():\n",
    "    raise Exception(\"Parameter injection failed\")\n",
    "\n",
    "#Use an easy dict for all the parameters\n",
    "p = EasyDict(parameters)\n",
    "\n",
    "if \"x_shape\" not in p:\n",
    "    p.x_shape = [2,256] # Default to this if we dont supply x_shape\n",
    "\n",
    "\n",
    "supplied_keys = set(p.keys())\n",
    "\n",
    "if  supplied_keys != required_parameters:\n",
    "    print(\"Parameters are incorrect\")\n",
    "    if len(supplied_keys - required_parameters)>0: print(\"Shouldn't have:\", str(supplied_keys - required_parameters))\n",
    "    if len(required_parameters - supplied_keys)>0: print(\"Need to have:\", str(required_parameters - supplied_keys))\n",
    "    raise RuntimeError(\"Parameters are incorrect\")"
   ]
  },
  {
   "cell_type": "code",
   "execution_count": 6,
   "id": "3a028d58",
   "metadata": {
    "execution": {
     "iopub.execute_input": "2022-03-25T20:22:18.065895Z",
     "iopub.status.busy": "2022-03-25T20:22:18.065637Z",
     "iopub.status.idle": "2022-03-25T20:22:18.079782Z",
     "shell.execute_reply": "2022-03-25T20:22:18.079298Z"
    },
    "papermill": {
     "duration": 0.029483,
     "end_time": "2022-03-25T20:22:18.079883",
     "exception": false,
     "start_time": "2022-03-25T20:22:18.050400",
     "status": "completed"
    },
    "tags": []
   },
   "outputs": [],
   "source": [
    "###################################\n",
    "# Set the RNGs and make it all deterministic\n",
    "###################################\n",
    "np.random.seed(p.seed)\n",
    "random.seed(p.seed)\n",
    "torch.manual_seed(p.seed)\n",
    "\n",
    "torch.use_deterministic_algorithms(True) "
   ]
  },
  {
   "cell_type": "code",
   "execution_count": 7,
   "id": "b691acf6",
   "metadata": {
    "execution": {
     "iopub.execute_input": "2022-03-25T20:22:18.113710Z",
     "iopub.status.busy": "2022-03-25T20:22:18.113449Z",
     "iopub.status.idle": "2022-03-25T20:22:18.130745Z",
     "shell.execute_reply": "2022-03-25T20:22:18.130269Z"
    },
    "papermill": {
     "duration": 0.032532,
     "end_time": "2022-03-25T20:22:18.130847",
     "exception": false,
     "start_time": "2022-03-25T20:22:18.098315",
     "status": "completed"
    },
    "tags": []
   },
   "outputs": [],
   "source": [
    "###########################################\n",
    "# The stratified datasets honor this\n",
    "###########################################\n",
    "torch.set_default_dtype(eval(p.torch_default_dtype))"
   ]
  },
  {
   "cell_type": "code",
   "execution_count": 8,
   "id": "b5fba671",
   "metadata": {
    "execution": {
     "iopub.execute_input": "2022-03-25T20:22:18.166420Z",
     "iopub.status.busy": "2022-03-25T20:22:18.166166Z",
     "iopub.status.idle": "2022-03-25T20:22:18.198504Z",
     "shell.execute_reply": "2022-03-25T20:22:18.197981Z"
    },
    "papermill": {
     "duration": 0.046999,
     "end_time": "2022-03-25T20:22:18.198613",
     "exception": false,
     "start_time": "2022-03-25T20:22:18.151614",
     "status": "completed"
    },
    "tags": []
   },
   "outputs": [],
   "source": [
    "###################################\n",
    "# Build the network(s)\n",
    "# Note: It's critical to do this AFTER setting the RNG\n",
    "###################################\n",
    "x_net = build_sequential(p.x_net)"
   ]
  },
  {
   "cell_type": "code",
   "execution_count": 9,
   "id": "5d7e61cc",
   "metadata": {
    "execution": {
     "iopub.execute_input": "2022-03-25T20:22:18.231895Z",
     "iopub.status.busy": "2022-03-25T20:22:18.231640Z",
     "iopub.status.idle": "2022-03-25T20:22:18.248111Z",
     "shell.execute_reply": "2022-03-25T20:22:18.247621Z"
    },
    "papermill": {
     "duration": 0.032082,
     "end_time": "2022-03-25T20:22:18.248212",
     "exception": false,
     "start_time": "2022-03-25T20:22:18.216130",
     "status": "completed"
    },
    "tags": []
   },
   "outputs": [],
   "source": [
    "start_time_secs = time.time()"
   ]
  },
  {
   "cell_type": "code",
   "execution_count": 10,
   "id": "c6b67dfd",
   "metadata": {
    "execution": {
     "iopub.execute_input": "2022-03-25T20:22:18.284389Z",
     "iopub.status.busy": "2022-03-25T20:22:18.284132Z",
     "iopub.status.idle": "2022-03-25T20:22:18.300179Z",
     "shell.execute_reply": "2022-03-25T20:22:18.299690Z"
    },
    "papermill": {
     "duration": 0.033598,
     "end_time": "2022-03-25T20:22:18.300282",
     "exception": false,
     "start_time": "2022-03-25T20:22:18.266684",
     "status": "completed"
    },
    "tags": []
   },
   "outputs": [],
   "source": [
    "p.domains_source = []\n",
    "p.domains_target = []\n",
    "\n",
    "\n",
    "train_original_source = []\n",
    "val_original_source   = []\n",
    "test_original_source  = []\n",
    "\n",
    "train_original_target = []\n",
    "val_original_target   = []\n",
    "test_original_target  = []"
   ]
  },
  {
   "cell_type": "code",
   "execution_count": 11,
   "id": "e3d9c3d3",
   "metadata": {
    "execution": {
     "iopub.execute_input": "2022-03-25T20:22:18.334852Z",
     "iopub.status.busy": "2022-03-25T20:22:18.334595Z",
     "iopub.status.idle": "2022-03-25T20:22:18.346109Z",
     "shell.execute_reply": "2022-03-25T20:22:18.345607Z"
    },
    "papermill": {
     "duration": 0.026238,
     "end_time": "2022-03-25T20:22:18.346210",
     "exception": false,
     "start_time": "2022-03-25T20:22:18.319972",
     "status": "completed"
    },
    "tags": []
   },
   "outputs": [],
   "source": [
    "# global_x_transform_func = lambda x: normalize(x.to(torch.get_default_dtype()), \"unit_power\") # unit_power, unit_mag\n",
    "# global_x_transform_func = lambda x: normalize(x, \"unit_power\") # unit_power, unit_mag"
   ]
  },
  {
   "cell_type": "code",
   "execution_count": 12,
   "id": "acb78fd2",
   "metadata": {
    "execution": {
     "iopub.execute_input": "2022-03-25T20:22:18.384925Z",
     "iopub.status.busy": "2022-03-25T20:22:18.384655Z",
     "iopub.status.idle": "2022-03-25T20:22:18.399521Z",
     "shell.execute_reply": "2022-03-25T20:22:18.399259Z"
    },
    "papermill": {
     "duration": 0.035518,
     "end_time": "2022-03-25T20:22:18.399578",
     "exception": false,
     "start_time": "2022-03-25T20:22:18.364060",
     "status": "completed"
    },
    "tags": []
   },
   "outputs": [],
   "source": [
    "def add_dataset(\n",
    "    labels,\n",
    "    domains,\n",
    "    pickle_path,\n",
    "    x_transforms,\n",
    "    episode_transforms,\n",
    "    domain_prefix,\n",
    "    num_examples_per_domain_per_label,\n",
    "    source_or_target_dataset:str,\n",
    "    iterator_seed=p.seed,\n",
    "    dataset_seed=p.dataset_seed,\n",
    "    n_shot=p.n_shot,\n",
    "    n_way=p.n_way,\n",
    "    n_query=p.n_query,\n",
    "    train_val_test_k_factors=(p.train_k_factor,p.val_k_factor,p.test_k_factor),\n",
    "):\n",
    "   \n",
    "    if x_transforms == []: x_transform = None\n",
    "    else: x_transform = get_chained_transform(x_transforms)\n",
    "    \n",
    "    if episode_transforms == []: episode_transform = None\n",
    "    else: raise Exception(\"episode_transforms not implemented\")\n",
    "    \n",
    "    episode_transform = lambda tup, _prefix=domain_prefix: (_prefix + str(tup[0]), tup[1])\n",
    "\n",
    "\n",
    "    eaf = Episodic_Accessor_Factory(\n",
    "        labels=labels,\n",
    "        domains=domains,\n",
    "        num_examples_per_domain_per_label=num_examples_per_domain_per_label,\n",
    "        iterator_seed=iterator_seed,\n",
    "        dataset_seed=dataset_seed,\n",
    "        n_shot=n_shot,\n",
    "        n_way=n_way,\n",
    "        n_query=n_query,\n",
    "        train_val_test_k_factors=train_val_test_k_factors,\n",
    "        pickle_path=pickle_path,\n",
    "        x_transform_func=x_transform,\n",
    "    )\n",
    "\n",
    "    train, val, test = eaf.get_train(), eaf.get_val(), eaf.get_test()\n",
    "    train = Lazy_Iterable_Wrapper(train, episode_transform)\n",
    "    val = Lazy_Iterable_Wrapper(val, episode_transform)\n",
    "    test = Lazy_Iterable_Wrapper(test, episode_transform)\n",
    "\n",
    "    if source_or_target_dataset==\"source\":\n",
    "        train_original_source.append(train)\n",
    "        val_original_source.append(val)\n",
    "        test_original_source.append(test)\n",
    "\n",
    "        p.domains_source.extend(\n",
    "            [domain_prefix + str(u) for u in domains]\n",
    "        )\n",
    "    elif source_or_target_dataset==\"target\":\n",
    "        train_original_target.append(train)\n",
    "        val_original_target.append(val)\n",
    "        test_original_target.append(test)\n",
    "        p.domains_target.extend(\n",
    "            [domain_prefix + str(u) for u in domains]\n",
    "        )\n",
    "    else:\n",
    "        raise Exception(f\"invalid source_or_target_dataset: {source_or_target_dataset}\")\n",
    "    "
   ]
  },
  {
   "cell_type": "code",
   "execution_count": 13,
   "id": "fe266617",
   "metadata": {
    "execution": {
     "iopub.execute_input": "2022-03-25T20:22:18.428251Z",
     "iopub.status.busy": "2022-03-25T20:22:18.427997Z",
     "iopub.status.idle": "2022-03-25T20:22:37.029887Z",
     "shell.execute_reply": "2022-03-25T20:22:37.029400Z"
    },
    "papermill": {
     "duration": 18.616815,
     "end_time": "2022-03-25T20:22:37.030015",
     "exception": false,
     "start_time": "2022-03-25T20:22:18.413200",
     "status": "completed"
    },
    "tags": []
   },
   "outputs": [],
   "source": [
    "for ds in p.datasets:\n",
    "    add_dataset(**ds)"
   ]
  },
  {
   "cell_type": "code",
   "execution_count": 14,
   "id": "b90d65ac",
   "metadata": {
    "execution": {
     "iopub.execute_input": "2022-03-25T20:22:37.067239Z",
     "iopub.status.busy": "2022-03-25T20:22:37.066831Z",
     "iopub.status.idle": "2022-03-25T20:22:37.082373Z",
     "shell.execute_reply": "2022-03-25T20:22:37.081897Z"
    },
    "papermill": {
     "duration": 0.031743,
     "end_time": "2022-03-25T20:22:37.082485",
     "exception": false,
     "start_time": "2022-03-25T20:22:37.050742",
     "status": "completed"
    },
    "tags": []
   },
   "outputs": [],
   "source": [
    "# from steves_utils.CORES.utils import (\n",
    "#     ALL_NODES,\n",
    "#     ALL_NODES_MINIMUM_1000_EXAMPLES,\n",
    "#     ALL_DAYS\n",
    "# )\n",
    "\n",
    "# add_dataset(\n",
    "#     labels=ALL_NODES,\n",
    "#     domains = ALL_DAYS,\n",
    "#     num_examples_per_domain_per_label=100,\n",
    "#     pickle_path=os.path.join(get_datasets_base_path(), \"cores.stratified_ds.2022A.pkl\"),\n",
    "#     source_or_target_dataset=\"target\",\n",
    "#     x_transform_func=global_x_transform_func,\n",
    "#     domain_modifier=lambda u: f\"cores_{u}\"\n",
    "# )"
   ]
  },
  {
   "cell_type": "code",
   "execution_count": 15,
   "id": "76db484d",
   "metadata": {
    "execution": {
     "iopub.execute_input": "2022-03-25T20:22:37.116125Z",
     "iopub.status.busy": "2022-03-25T20:22:37.115857Z",
     "iopub.status.idle": "2022-03-25T20:22:37.126357Z",
     "shell.execute_reply": "2022-03-25T20:22:37.126099Z"
    },
    "papermill": {
     "duration": 0.025906,
     "end_time": "2022-03-25T20:22:37.126462",
     "exception": false,
     "start_time": "2022-03-25T20:22:37.100556",
     "status": "completed"
    },
    "tags": []
   },
   "outputs": [],
   "source": [
    "# from steves_utils.ORACLE.utils_v2 import (\n",
    "#     ALL_DISTANCES_FEET,\n",
    "#     ALL_RUNS,\n",
    "#     ALL_SERIAL_NUMBERS,\n",
    "# )\n",
    "\n",
    "\n",
    "# add_dataset(\n",
    "#     labels=ALL_SERIAL_NUMBERS,\n",
    "#     domains = list(set(ALL_DISTANCES_FEET) - {2,62}),\n",
    "#     num_examples_per_domain_per_label=100,\n",
    "#     pickle_path=os.path.join(get_datasets_base_path(), \"oracle.Run2_framed_2000Examples_stratified_ds.2022A.pkl\"),\n",
    "#     source_or_target_dataset=\"source\",\n",
    "#     x_transform_func=global_x_transform_func,\n",
    "#     domain_modifier=lambda u: f\"oracle1_{u}\"\n",
    "# )\n"
   ]
  },
  {
   "cell_type": "code",
   "execution_count": 16,
   "id": "97dea9d2",
   "metadata": {
    "execution": {
     "iopub.execute_input": "2022-03-25T20:22:37.168417Z",
     "iopub.status.busy": "2022-03-25T20:22:37.167925Z",
     "iopub.status.idle": "2022-03-25T20:22:37.177915Z",
     "shell.execute_reply": "2022-03-25T20:22:37.177675Z"
    },
    "papermill": {
     "duration": 0.033726,
     "end_time": "2022-03-25T20:22:37.177976",
     "exception": false,
     "start_time": "2022-03-25T20:22:37.144250",
     "status": "completed"
    },
    "tags": []
   },
   "outputs": [],
   "source": [
    "# from steves_utils.ORACLE.utils_v2 import (\n",
    "#     ALL_DISTANCES_FEET,\n",
    "#     ALL_RUNS,\n",
    "#     ALL_SERIAL_NUMBERS,\n",
    "# )\n",
    "\n",
    "\n",
    "# add_dataset(\n",
    "#     labels=ALL_SERIAL_NUMBERS,\n",
    "#     domains = list(set(ALL_DISTANCES_FEET) - {2,62,56}),\n",
    "#     num_examples_per_domain_per_label=100,\n",
    "#     pickle_path=os.path.join(get_datasets_base_path(), \"oracle.Run2_framed_2000Examples_stratified_ds.2022A.pkl\"),\n",
    "#     source_or_target_dataset=\"source\",\n",
    "#     x_transform_func=global_x_transform_func,\n",
    "#     domain_modifier=lambda u: f\"oracle2_{u}\"\n",
    "# )"
   ]
  },
  {
   "cell_type": "code",
   "execution_count": 17,
   "id": "6f289866",
   "metadata": {
    "execution": {
     "iopub.execute_input": "2022-03-25T20:22:37.220081Z",
     "iopub.status.busy": "2022-03-25T20:22:37.219817Z",
     "iopub.status.idle": "2022-03-25T20:22:37.233076Z",
     "shell.execute_reply": "2022-03-25T20:22:37.232716Z"
    },
    "papermill": {
     "duration": 0.034854,
     "end_time": "2022-03-25T20:22:37.233159",
     "exception": false,
     "start_time": "2022-03-25T20:22:37.198305",
     "status": "completed"
    },
    "tags": []
   },
   "outputs": [],
   "source": [
    "# add_dataset(\n",
    "#     labels=list(range(19)),\n",
    "#     domains = [0,1,2],\n",
    "#     num_examples_per_domain_per_label=100,\n",
    "#     pickle_path=os.path.join(get_datasets_base_path(), \"metehan.stratified_ds.2022A.pkl\"),\n",
    "#     source_or_target_dataset=\"target\",\n",
    "#     x_transform_func=global_x_transform_func,\n",
    "#     domain_modifier=lambda u: f\"met_{u}\"\n",
    "# )"
   ]
  },
  {
   "cell_type": "code",
   "execution_count": 18,
   "id": "86a863c3",
   "metadata": {
    "execution": {
     "iopub.execute_input": "2022-03-25T20:22:37.271521Z",
     "iopub.status.busy": "2022-03-25T20:22:37.271122Z",
     "iopub.status.idle": "2022-03-25T20:22:37.284695Z",
     "shell.execute_reply": "2022-03-25T20:22:37.284915Z"
    },
    "papermill": {
     "duration": 0.034309,
     "end_time": "2022-03-25T20:22:37.284993",
     "exception": false,
     "start_time": "2022-03-25T20:22:37.250684",
     "status": "completed"
    },
    "tags": []
   },
   "outputs": [],
   "source": [
    "# # from steves_utils.wisig.utils import (\n",
    "# #     ALL_NODES_MINIMUM_100_EXAMPLES,\n",
    "# #     ALL_NODES_MINIMUM_500_EXAMPLES,\n",
    "# #     ALL_NODES_MINIMUM_1000_EXAMPLES,\n",
    "# #     ALL_DAYS\n",
    "# # )\n",
    "\n",
    "# import steves_utils.wisig.utils as wisig\n",
    "\n",
    "\n",
    "# add_dataset(\n",
    "#     labels=wisig.ALL_NODES_MINIMUM_100_EXAMPLES,\n",
    "#     domains = wisig.ALL_DAYS,\n",
    "#     num_examples_per_domain_per_label=100,\n",
    "#     pickle_path=os.path.join(get_datasets_base_path(), \"wisig.node3-19.stratified_ds.2022A.pkl\"),\n",
    "#     source_or_target_dataset=\"target\",\n",
    "#     x_transform_func=global_x_transform_func,\n",
    "#     domain_modifier=lambda u: f\"wisig_{u}\"\n",
    "# )"
   ]
  },
  {
   "cell_type": "code",
   "execution_count": 19,
   "id": "fd5442bc",
   "metadata": {
    "execution": {
     "iopub.execute_input": "2022-03-25T20:22:37.323830Z",
     "iopub.status.busy": "2022-03-25T20:22:37.323466Z",
     "iopub.status.idle": "2022-03-25T20:22:37.334648Z",
     "shell.execute_reply": "2022-03-25T20:22:37.335028Z"
    },
    "papermill": {
     "duration": 0.029192,
     "end_time": "2022-03-25T20:22:37.335155",
     "exception": false,
     "start_time": "2022-03-25T20:22:37.305963",
     "status": "completed"
    },
    "tags": []
   },
   "outputs": [],
   "source": [
    "###################################\n",
    "# Build the dataset\n",
    "###################################\n",
    "train_original_source = Iterable_Aggregator(train_original_source, p.seed)\n",
    "val_original_source = Iterable_Aggregator(val_original_source, p.seed)\n",
    "test_original_source = Iterable_Aggregator(test_original_source, p.seed)\n",
    "\n",
    "\n",
    "train_original_target = Iterable_Aggregator(train_original_target, p.seed)\n",
    "val_original_target = Iterable_Aggregator(val_original_target, p.seed)\n",
    "test_original_target = Iterable_Aggregator(test_original_target, p.seed)\n",
    "\n",
    "# For CNN We only use X and Y. And we only train on the source.\n",
    "# Properly form the data using a transform lambda and Lazy_Iterable_Wrapper. Finally wrap them in a dataloader\n",
    "\n",
    "transform_lambda = lambda ex: ex[1] # Original is (<domain>, <episode>) so we strip down to episode only\n",
    "\n",
    "train_processed_source = Lazy_Iterable_Wrapper(train_original_source, transform_lambda)\n",
    "val_processed_source   = Lazy_Iterable_Wrapper(val_original_source, transform_lambda)\n",
    "test_processed_source  = Lazy_Iterable_Wrapper(test_original_source, transform_lambda)\n",
    "\n",
    "train_processed_target = Lazy_Iterable_Wrapper(train_original_target, transform_lambda)\n",
    "val_processed_target   = Lazy_Iterable_Wrapper(val_original_target, transform_lambda)\n",
    "test_processed_target  = Lazy_Iterable_Wrapper(test_original_target, transform_lambda)\n",
    "\n",
    "datasets = EasyDict({\n",
    "    \"source\": {\n",
    "        \"original\": {\"train\":train_original_source, \"val\":val_original_source, \"test\":test_original_source},\n",
    "        \"processed\": {\"train\":train_processed_source, \"val\":val_processed_source, \"test\":test_processed_source}\n",
    "    },\n",
    "    \"target\": {\n",
    "        \"original\": {\"train\":train_original_target, \"val\":val_original_target, \"test\":test_original_target},\n",
    "        \"processed\": {\"train\":train_processed_target, \"val\":val_processed_target, \"test\":test_processed_target}\n",
    "    },\n",
    "})"
   ]
  },
  {
   "cell_type": "code",
   "execution_count": 20,
   "id": "5b3c01fc",
   "metadata": {
    "execution": {
     "iopub.execute_input": "2022-03-25T20:22:37.372417Z",
     "iopub.status.busy": "2022-03-25T20:22:37.372153Z",
     "iopub.status.idle": "2022-03-25T20:22:44.311891Z",
     "shell.execute_reply": "2022-03-25T20:22:44.311436Z"
    },
    "papermill": {
     "duration": 6.957131,
     "end_time": "2022-03-25T20:22:44.312006",
     "exception": false,
     "start_time": "2022-03-25T20:22:37.354875",
     "status": "completed"
    },
    "tags": []
   },
   "outputs": [
    {
     "name": "stdout",
     "output_type": "stream",
     "text": [
      "{'C_4', 'C_3', 'C_1', 'C_2', 'C_5'}\n"
     ]
    },
    {
     "name": "stdout",
     "output_type": "stream",
     "text": [
      "{'O_8', 'O_44', 'O_32', 'O_26', 'O_20', 'O_50', 'O_38', 'O_14'}\n"
     ]
    },
    {
     "name": "stdout",
     "output_type": "stream",
     "text": [
      "tensor([[[-2.7690e-04, -1.9137e-03, -5.9793e-03,  ...,  2.2466e-02,\n",
      "           4.9544e-02,  4.7823e-02],\n",
      "         [-1.6246e-04, -9.2527e-04, -9.1768e-04,  ..., -3.3034e-02,\n",
      "          -4.6948e-02, -1.2293e-02]],\n",
      "\n",
      "        [[-4.4642e-04, -3.9551e-03, -1.4005e-02,  ...,  5.2995e-02,\n",
      "           1.4158e-02, -9.5989e-03],\n",
      "         [-2.2321e-04, -2.1986e-03, -9.2824e-03,  ...,  3.2277e-02,\n",
      "           2.9894e-02, -4.9068e-03]],\n",
      "\n",
      "        [[-2.8820e-04, -1.8926e-03, -5.0313e-03,  ..., -2.7173e-03,\n",
      "           1.6157e-02,  2.8082e-02],\n",
      "         [-1.8366e-05,  2.4001e-04,  3.2442e-03,  ..., -4.5835e-02,\n",
      "          -6.1035e-02, -2.5586e-02]],\n",
      "\n",
      "        ...,\n",
      "\n",
      "        [[-1.1443e-04, -1.1749e-03, -3.7451e-03,  ...,  3.2798e-03,\n",
      "           5.0156e-03,  6.5736e-03],\n",
      "         [ 2.7266e-04,  1.1720e-03,  1.7231e-04,  ..., -8.7182e-03,\n",
      "          -1.1741e-03, -8.4990e-03]],\n",
      "\n",
      "        [[-3.3199e-04, -1.8944e-03, -2.8245e-03,  ...,  6.6397e-03,\n",
      "           4.6213e-03,  1.1903e-02],\n",
      "         [-4.5207e-05, -9.4267e-04, -4.2408e-03,  ..., -5.2093e-03,\n",
      "           2.8874e-03, -5.2490e-03]],\n",
      "\n",
      "        [[ 0.0000e+00, -1.9778e-05, -1.5556e-04,  ..., -2.9986e-03,\n",
      "          -1.3840e-02, -6.5073e-03],\n",
      "         [-5.9335e-05, -3.8617e-04, -9.9229e-04,  ...,  2.0962e-02,\n",
      "           6.3060e-03, -1.5874e-02]]])\n"
     ]
    }
   ],
   "source": [
    "from steves_utils.transforms import get_average_magnitude, get_average_power\n",
    "\n",
    "print(set([u for u,_ in val_original_source]))\n",
    "print(set([u for u,_ in val_original_target]))\n",
    "\n",
    "s_x, s_y, q_x, q_y, _ = next(iter(train_processed_source))\n",
    "print(s_x)\n",
    "\n",
    "# for ds in [\n",
    "#     train_processed_source,\n",
    "#     val_processed_source,\n",
    "#     test_processed_source,\n",
    "#     train_processed_target,\n",
    "#     val_processed_target,\n",
    "#     test_processed_target\n",
    "# ]:\n",
    "#     for s_x, s_y, q_x, q_y, _ in ds:\n",
    "#         for X in (s_x, q_x):\n",
    "#             for x in X:\n",
    "#                 assert np.isclose(get_average_magnitude(x.numpy()), 1.0)\n",
    "#                 assert np.isclose(get_average_power(x.numpy()), 1.0)\n",
    "                "
   ]
  },
  {
   "cell_type": "code",
   "execution_count": 21,
   "id": "bbdacba1",
   "metadata": {
    "execution": {
     "iopub.execute_input": "2022-03-25T20:22:44.348214Z",
     "iopub.status.busy": "2022-03-25T20:22:44.347945Z",
     "iopub.status.idle": "2022-03-25T20:22:44.400392Z",
     "shell.execute_reply": "2022-03-25T20:22:44.399958Z"
    },
    "papermill": {
     "duration": 0.069992,
     "end_time": "2022-03-25T20:22:44.400502",
     "exception": false,
     "start_time": "2022-03-25T20:22:44.330510",
     "status": "completed"
    },
    "tags": []
   },
   "outputs": [
    {
     "name": "stdout",
     "output_type": "stream",
     "text": [
      "(2, 200)\n"
     ]
    }
   ],
   "source": [
    "###################################\n",
    "# Build the model\n",
    "###################################\n",
    "# easfsl only wants a tuple for the shape\n",
    "model = Steves_Prototypical_Network(x_net, device=p.device, x_shape=tuple(p.x_shape))\n",
    "optimizer = Adam(params=model.parameters(), lr=p.lr)"
   ]
  },
  {
   "cell_type": "code",
   "execution_count": 22,
   "id": "22b39ac5",
   "metadata": {
    "execution": {
     "iopub.execute_input": "2022-03-25T20:22:44.439166Z",
     "iopub.status.busy": "2022-03-25T20:22:44.438901Z",
     "iopub.status.idle": "2022-03-25T20:47:10.270853Z",
     "shell.execute_reply": "2022-03-25T20:47:10.270616Z"
    },
    "papermill": {
     "duration": 1465.850162,
     "end_time": "2022-03-25T20:47:10.270912",
     "exception": false,
     "start_time": "2022-03-25T20:22:44.420750",
     "status": "completed"
    },
    "tags": []
   },
   "outputs": [
    {
     "name": "stdout",
     "output_type": "stream",
     "text": [
      "epoch: 1, [batch: 1 / 6317], examples_per_second: 48.1896, train_label_loss: 2.0726, \n"
     ]
    },
    {
     "name": "stdout",
     "output_type": "stream",
     "text": [
      "epoch: 1, [batch: 632 / 6317], examples_per_second: 1873.5478, train_label_loss: 0.1164, \n"
     ]
    },
    {
     "name": "stdout",
     "output_type": "stream",
     "text": [
      "epoch: 1, [batch: 1264 / 6317], examples_per_second: 1876.1829, train_label_loss: 0.0007, \n"
     ]
    },
    {
     "name": "stdout",
     "output_type": "stream",
     "text": [
      "epoch: 1, [batch: 1895 / 6317], examples_per_second: 1879.2866, train_label_loss: 0.0163, \n"
     ]
    },
    {
     "name": "stdout",
     "output_type": "stream",
     "text": [
      "epoch: 1, [batch: 2527 / 6317], examples_per_second: 1872.1321, train_label_loss: 0.0335, \n"
     ]
    },
    {
     "name": "stdout",
     "output_type": "stream",
     "text": [
      "epoch: 1, [batch: 3159 / 6317], examples_per_second: 1876.0555, train_label_loss: 0.0048, \n"
     ]
    },
    {
     "name": "stdout",
     "output_type": "stream",
     "text": [
      "epoch: 1, [batch: 3790 / 6317], examples_per_second: 1865.7783, train_label_loss: 0.0003, \n"
     ]
    },
    {
     "name": "stdout",
     "output_type": "stream",
     "text": [
      "epoch: 1, [batch: 4422 / 6317], examples_per_second: 2226.8240, train_label_loss: 0.0488, \n"
     ]
    },
    {
     "name": "stdout",
     "output_type": "stream",
     "text": [
      "epoch: 1, [batch: 5053 / 6317], examples_per_second: 2214.7119, train_label_loss: 0.0017, \n"
     ]
    },
    {
     "name": "stdout",
     "output_type": "stream",
     "text": [
      "epoch: 1, [batch: 5685 / 6317], examples_per_second: 1845.8352, train_label_loss: 0.0015, \n"
     ]
    },
    {
     "name": "stdout",
     "output_type": "stream",
     "text": [
      "=============================================================\n",
      "epoch: 1, source_val_acc_label: 0.9968, target_val_acc_label: 0.4548, source_val_label_loss: 0.0140, target_val_label_loss: 1.8758, \n",
      "=============================================================\n"
     ]
    },
    {
     "name": "stdout",
     "output_type": "stream",
     "text": [
      "New best\n"
     ]
    },
    {
     "name": "stdout",
     "output_type": "stream",
     "text": [
      "epoch: 2, [batch: 1 / 6315], examples_per_second: 2.7137, train_label_loss: 0.0017, \n"
     ]
    },
    {
     "name": "stdout",
     "output_type": "stream",
     "text": [
      "epoch: 2, [batch: 632 / 6315], examples_per_second: 1853.8932, train_label_loss: 0.0006, \n"
     ]
    },
    {
     "name": "stdout",
     "output_type": "stream",
     "text": [
      "epoch: 2, [batch: 1263 / 6315], examples_per_second: 1853.6352, train_label_loss: 0.0000, \n"
     ]
    },
    {
     "name": "stdout",
     "output_type": "stream",
     "text": [
      "epoch: 2, [batch: 1895 / 6315], examples_per_second: 1861.1349, train_label_loss: 0.0014, \n"
     ]
    },
    {
     "name": "stdout",
     "output_type": "stream",
     "text": [
      "epoch: 2, [batch: 2526 / 6315], examples_per_second: 1849.0068, train_label_loss: 0.0356, \n"
     ]
    },
    {
     "name": "stdout",
     "output_type": "stream",
     "text": [
      "epoch: 2, [batch: 3158 / 6315], examples_per_second: 1829.9657, train_label_loss: 0.0000, \n"
     ]
    },
    {
     "name": "stdout",
     "output_type": "stream",
     "text": [
      "epoch: 2, [batch: 3789 / 6315], examples_per_second: 1814.6106, train_label_loss: 0.0010, \n"
     ]
    },
    {
     "name": "stdout",
     "output_type": "stream",
     "text": [
      "epoch: 2, [batch: 4420 / 6315], examples_per_second: 2213.6434, train_label_loss: 0.0000, \n"
     ]
    },
    {
     "name": "stdout",
     "output_type": "stream",
     "text": [
      "epoch: 2, [batch: 5052 / 6315], examples_per_second: 2214.6227, train_label_loss: 0.0000, \n"
     ]
    },
    {
     "name": "stdout",
     "output_type": "stream",
     "text": [
      "epoch: 2, [batch: 5683 / 6315], examples_per_second: 1815.3022, train_label_loss: 0.0585, \n"
     ]
    },
    {
     "name": "stdout",
     "output_type": "stream",
     "text": [
      "=============================================================\n",
      "epoch: 2, source_val_acc_label: 0.9990, target_val_acc_label: 0.4056, source_val_label_loss: 0.0069, target_val_label_loss: 1.8669, \n",
      "=============================================================\n"
     ]
    },
    {
     "name": "stdout",
     "output_type": "stream",
     "text": [
      "epoch: 3, [batch: 1 / 6325], examples_per_second: 2.7688, train_label_loss: 0.0001, \n"
     ]
    },
    {
     "name": "stdout",
     "output_type": "stream",
     "text": [
      "epoch: 3, [batch: 633 / 6325], examples_per_second: 1847.1563, train_label_loss: 0.0001, \n"
     ]
    },
    {
     "name": "stdout",
     "output_type": "stream",
     "text": [
      "epoch: 3, [batch: 1265 / 6325], examples_per_second: 1838.6777, train_label_loss: 0.0000, \n"
     ]
    },
    {
     "name": "stdout",
     "output_type": "stream",
     "text": [
      "epoch: 3, [batch: 1898 / 6325], examples_per_second: 1845.1602, train_label_loss: 0.0000, \n"
     ]
    },
    {
     "name": "stdout",
     "output_type": "stream",
     "text": [
      "epoch: 3, [batch: 2530 / 6325], examples_per_second: 1847.0711, train_label_loss: 0.0000, \n"
     ]
    },
    {
     "name": "stdout",
     "output_type": "stream",
     "text": [
      "epoch: 3, [batch: 3163 / 6325], examples_per_second: 1854.0053, train_label_loss: 0.0000, \n"
     ]
    },
    {
     "name": "stdout",
     "output_type": "stream",
     "text": [
      "epoch: 3, [batch: 3795 / 6325], examples_per_second: 1854.6512, train_label_loss: 0.0001, \n"
     ]
    },
    {
     "name": "stdout",
     "output_type": "stream",
     "text": [
      "epoch: 3, [batch: 4427 / 6325], examples_per_second: 2253.9674, train_label_loss: 0.0000, \n"
     ]
    },
    {
     "name": "stdout",
     "output_type": "stream",
     "text": [
      "epoch: 3, [batch: 5060 / 6325], examples_per_second: 2241.4555, train_label_loss: 0.0000, \n"
     ]
    },
    {
     "name": "stdout",
     "output_type": "stream",
     "text": [
      "epoch: 3, [batch: 5692 / 6325], examples_per_second: 1855.3046, train_label_loss: 0.0002, \n"
     ]
    },
    {
     "name": "stdout",
     "output_type": "stream",
     "text": [
      "=============================================================\n",
      "epoch: 3, source_val_acc_label: 0.9982, target_val_acc_label: 0.4515, source_val_label_loss: 0.0082, target_val_label_loss: 1.7810, \n",
      "=============================================================\n"
     ]
    },
    {
     "name": "stdout",
     "output_type": "stream",
     "text": [
      "epoch: 4, [batch: 1 / 6307], examples_per_second: 2.7835, train_label_loss: 0.0000, \n"
     ]
    },
    {
     "name": "stdout",
     "output_type": "stream",
     "text": [
      "epoch: 4, [batch: 631 / 6307], examples_per_second: 1844.2548, train_label_loss: 0.0000, \n"
     ]
    },
    {
     "name": "stdout",
     "output_type": "stream",
     "text": [
      "epoch: 4, [batch: 1262 / 6307], examples_per_second: 1841.1386, train_label_loss: 0.0003, \n"
     ]
    },
    {
     "name": "stdout",
     "output_type": "stream",
     "text": [
      "epoch: 4, [batch: 1892 / 6307], examples_per_second: 1861.0648, train_label_loss: 0.0000, \n"
     ]
    },
    {
     "name": "stdout",
     "output_type": "stream",
     "text": [
      "epoch: 4, [batch: 2523 / 6307], examples_per_second: 1853.5394, train_label_loss: 0.0036, \n"
     ]
    },
    {
     "name": "stdout",
     "output_type": "stream",
     "text": [
      "epoch: 4, [batch: 3154 / 6307], examples_per_second: 1854.5778, train_label_loss: 0.0000, \n"
     ]
    },
    {
     "name": "stdout",
     "output_type": "stream",
     "text": [
      "epoch: 4, [batch: 3784 / 6307], examples_per_second: 1856.4386, train_label_loss: 0.0000, \n"
     ]
    },
    {
     "name": "stdout",
     "output_type": "stream",
     "text": [
      "epoch: 4, [batch: 4415 / 6307], examples_per_second: 2291.3767, train_label_loss: 0.0000, \n"
     ]
    },
    {
     "name": "stdout",
     "output_type": "stream",
     "text": [
      "epoch: 4, [batch: 5045 / 6307], examples_per_second: 2234.6546, train_label_loss: 0.0000, \n"
     ]
    },
    {
     "name": "stdout",
     "output_type": "stream",
     "text": [
      "epoch: 4, [batch: 5676 / 6307], examples_per_second: 1856.4957, train_label_loss: 0.0006, \n"
     ]
    },
    {
     "name": "stdout",
     "output_type": "stream",
     "text": [
      "=============================================================\n",
      "epoch: 4, source_val_acc_label: 0.9995, target_val_acc_label: 0.4468, source_val_label_loss: 0.0054, target_val_label_loss: 1.7759, \n",
      "=============================================================\n"
     ]
    },
    {
     "name": "stdout",
     "output_type": "stream",
     "text": [
      "epoch: 5, [batch: 1 / 6302], examples_per_second: 2.7951, train_label_loss: 0.0000, \n"
     ]
    },
    {
     "name": "stdout",
     "output_type": "stream",
     "text": [
      "epoch: 5, [batch: 631 / 6302], examples_per_second: 1857.8303, train_label_loss: 0.0002, \n"
     ]
    },
    {
     "name": "stdout",
     "output_type": "stream",
     "text": [
      "epoch: 5, [batch: 1261 / 6302], examples_per_second: 1838.0746, train_label_loss: 0.0000, \n"
     ]
    },
    {
     "name": "stdout",
     "output_type": "stream",
     "text": [
      "epoch: 5, [batch: 1891 / 6302], examples_per_second: 1881.3218, train_label_loss: 0.0277, \n"
     ]
    },
    {
     "name": "stdout",
     "output_type": "stream",
     "text": [
      "epoch: 5, [batch: 2521 / 6302], examples_per_second: 1874.4199, train_label_loss: 0.0003, \n"
     ]
    },
    {
     "name": "stdout",
     "output_type": "stream",
     "text": [
      "epoch: 5, [batch: 3151 / 6302], examples_per_second: 1880.3985, train_label_loss: 0.0000, \n"
     ]
    },
    {
     "name": "stdout",
     "output_type": "stream",
     "text": [
      "epoch: 5, [batch: 3781 / 6302], examples_per_second: 1878.3164, train_label_loss: 0.0001, \n"
     ]
    },
    {
     "name": "stdout",
     "output_type": "stream",
     "text": [
      "epoch: 5, [batch: 4411 / 6302], examples_per_second: 2251.3227, train_label_loss: 0.0071, \n"
     ]
    },
    {
     "name": "stdout",
     "output_type": "stream",
     "text": [
      "epoch: 5, [batch: 5041 / 6302], examples_per_second: 2256.5975, train_label_loss: 0.0002, \n"
     ]
    },
    {
     "name": "stdout",
     "output_type": "stream",
     "text": [
      "epoch: 5, [batch: 5671 / 6302], examples_per_second: 1875.9285, train_label_loss: 0.0001, \n"
     ]
    },
    {
     "name": "stdout",
     "output_type": "stream",
     "text": [
      "=============================================================\n",
      "epoch: 5, source_val_acc_label: 0.9992, target_val_acc_label: 0.4502, source_val_label_loss: 0.0056, target_val_label_loss: 1.8006, \n",
      "=============================================================\n"
     ]
    },
    {
     "name": "stdout",
     "output_type": "stream",
     "text": [
      "Patience (3) exhausted\n"
     ]
    }
   ],
   "source": [
    "###################################\n",
    "# train\n",
    "###################################\n",
    "jig = PTN_Train_Eval_Test_Jig(model, p.BEST_MODEL_PATH, p.device)\n",
    "\n",
    "jig.train(\n",
    "    train_iterable=datasets.source.processed.train,\n",
    "    source_val_iterable=datasets.source.processed.val,\n",
    "    target_val_iterable=datasets.target.processed.val,\n",
    "    num_epochs=p.n_epoch,\n",
    "    num_logs_per_epoch=p.NUM_LOGS_PER_EPOCH,\n",
    "    patience=p.patience,\n",
    "    optimizer=optimizer,\n",
    "    criteria_for_best=p.criteria_for_best,\n",
    ")"
   ]
  },
  {
   "cell_type": "code",
   "execution_count": 23,
   "id": "31e8fabf",
   "metadata": {
    "execution": {
     "iopub.execute_input": "2022-03-25T20:47:10.331609Z",
     "iopub.status.busy": "2022-03-25T20:47:10.323747Z",
     "iopub.status.idle": "2022-03-25T20:47:10.342668Z",
     "shell.execute_reply": "2022-03-25T20:47:10.342976Z"
    },
    "papermill": {
     "duration": 0.047314,
     "end_time": "2022-03-25T20:47:10.343080",
     "exception": false,
     "start_time": "2022-03-25T20:47:10.295766",
     "status": "completed"
    },
    "tags": []
   },
   "outputs": [],
   "source": [
    "total_experiment_time_secs = time.time() - start_time_secs"
   ]
  },
  {
   "cell_type": "code",
   "execution_count": 24,
   "id": "87b9595b",
   "metadata": {
    "execution": {
     "iopub.execute_input": "2022-03-25T20:47:10.403685Z",
     "iopub.status.busy": "2022-03-25T20:47:10.403238Z",
     "iopub.status.idle": "2022-03-25T20:49:38.697158Z",
     "shell.execute_reply": "2022-03-25T20:49:38.697592Z"
    },
    "papermill": {
     "duration": 148.324926,
     "end_time": "2022-03-25T20:49:38.697729",
     "exception": false,
     "start_time": "2022-03-25T20:47:10.372803",
     "status": "completed"
    },
    "tags": []
   },
   "outputs": [],
   "source": [
    "###################################\n",
    "# Evaluate the model\n",
    "###################################\n",
    "source_test_label_accuracy, source_test_label_loss = jig.test(datasets.source.processed.test)\n",
    "target_test_label_accuracy, target_test_label_loss = jig.test(datasets.target.processed.test)\n",
    "\n",
    "source_val_label_accuracy, source_val_label_loss = jig.test(datasets.source.processed.val)\n",
    "target_val_label_accuracy, target_val_label_loss = jig.test(datasets.target.processed.val)\n",
    "\n",
    "history = jig.get_history()\n",
    "\n",
    "total_epochs_trained = len(history[\"epoch_indices\"])\n",
    "\n",
    "val_dl = Iterable_Aggregator((datasets.source.original.val,datasets.target.original.val))\n",
    "\n",
    "confusion = ptn_confusion_by_domain_over_dataloader(model, p.device, val_dl)\n",
    "per_domain_accuracy = per_domain_accuracy_from_confusion(confusion)\n",
    "\n",
    "# Add a key to per_domain_accuracy for if it was a source domain\n",
    "for domain, accuracy in per_domain_accuracy.items():\n",
    "    per_domain_accuracy[domain] = {\n",
    "        \"accuracy\": accuracy,\n",
    "        \"source?\": domain in p.domains_source\n",
    "    }\n",
    "\n",
    "# Do an independent accuracy assesment JUST TO BE SURE!\n",
    "# _source_test_label_accuracy = independent_accuracy_assesment(model, datasets.source.processed.test, p.device)\n",
    "# _target_test_label_accuracy = independent_accuracy_assesment(model, datasets.target.processed.test, p.device)\n",
    "# _source_val_label_accuracy = independent_accuracy_assesment(model, datasets.source.processed.val, p.device)\n",
    "# _target_val_label_accuracy = independent_accuracy_assesment(model, datasets.target.processed.val, p.device)\n",
    "\n",
    "# assert(_source_test_label_accuracy == source_test_label_accuracy)\n",
    "# assert(_target_test_label_accuracy == target_test_label_accuracy)\n",
    "# assert(_source_val_label_accuracy == source_val_label_accuracy)\n",
    "# assert(_target_val_label_accuracy == target_val_label_accuracy)\n",
    "\n",
    "experiment = {\n",
    "    \"experiment_name\": p.experiment_name,\n",
    "    \"parameters\": dict(p),\n",
    "    \"results\": {\n",
    "        \"source_test_label_accuracy\": source_test_label_accuracy,\n",
    "        \"source_test_label_loss\": source_test_label_loss,\n",
    "        \"target_test_label_accuracy\": target_test_label_accuracy,\n",
    "        \"target_test_label_loss\": target_test_label_loss,\n",
    "        \"source_val_label_accuracy\": source_val_label_accuracy,\n",
    "        \"source_val_label_loss\": source_val_label_loss,\n",
    "        \"target_val_label_accuracy\": target_val_label_accuracy,\n",
    "        \"target_val_label_loss\": target_val_label_loss,\n",
    "        \"total_epochs_trained\": total_epochs_trained,\n",
    "        \"total_experiment_time_secs\": total_experiment_time_secs,\n",
    "        \"confusion\": confusion,\n",
    "        \"per_domain_accuracy\": per_domain_accuracy,\n",
    "    },\n",
    "    \"history\": history,\n",
    "    \"dataset_metrics\": get_dataset_metrics(datasets, \"ptn\"),\n",
    "}"
   ]
  },
  {
   "cell_type": "code",
   "execution_count": 25,
   "id": "54a21829",
   "metadata": {
    "execution": {
     "iopub.execute_input": "2022-03-25T20:49:38.758305Z",
     "iopub.status.busy": "2022-03-25T20:49:38.757285Z",
     "iopub.status.idle": "2022-03-25T20:49:38.893440Z",
     "shell.execute_reply": "2022-03-25T20:49:38.893886Z"
    },
    "papermill": {
     "duration": 0.164744,
     "end_time": "2022-03-25T20:49:38.894058",
     "exception": false,
     "start_time": "2022-03-25T20:49:38.729314",
     "status": "completed"
    },
    "tags": []
   },
   "outputs": [
    {
     "data": {
      "image/png": "[encoded data removed]",
      "text/plain": [
       "<Figure size 1080x504 with 1 Axes>"
      ]
     },
     "metadata": {
      "needs_background": "light"
     },
     "output_type": "display_data"
    }
   ],
   "source": [
    "ax = get_loss_curve(experiment)\n",
    "plt.show()"
   ]
  },
  {
   "cell_type": "code",
   "execution_count": 26,
   "id": "fd8a0f60",
   "metadata": {
    "execution": {
     "iopub.execute_input": "2022-03-25T20:49:38.952211Z",
     "iopub.status.busy": "2022-03-25T20:49:38.950969Z",
     "iopub.status.idle": "2022-03-25T20:49:39.097255Z",
     "shell.execute_reply": "2022-03-25T20:49:39.096899Z"
    },
    "papermill": {
     "duration": 0.173461,
     "end_time": "2022-03-25T20:49:39.097328",
     "exception": false,
     "start_time": "2022-03-25T20:49:38.923867",
     "status": "completed"
    },
    "tags": []
   },
   "outputs": [
    {
     "data": {
      "text/plain": [
       "<AxesSubplot:title={'center':'Results'}>"
      ]
     },
     "execution_count": 26,
     "metadata": {},
     "output_type": "execute_result"
    },
    {
     "data": {
      "image/png": "[encoded data removed]",
      "text/plain": [
       "<Figure size 1080x504 with 1 Axes>"
      ]
     },
     "metadata": {
      "needs_background": "light"
     },
     "output_type": "display_data"
    }
   ],
   "source": [
    "get_results_table(experiment)"
   ]
  },
  {
   "cell_type": "code",
   "execution_count": 27,
   "id": "cf8dc689",
   "metadata": {
    "execution": {
     "iopub.execute_input": "2022-03-25T20:49:39.169885Z",
     "iopub.status.busy": "2022-03-25T20:49:39.164792Z",
     "iopub.status.idle": "2022-03-25T20:49:39.307310Z",
     "shell.execute_reply": "2022-03-25T20:49:39.306867Z"
    },
    "papermill": {
     "duration": 0.17258,
     "end_time": "2022-03-25T20:49:39.307404",
     "exception": false,
     "start_time": "2022-03-25T20:49:39.134824",
     "status": "completed"
    },
    "tags": []
   },
   "outputs": [
    {
     "data": {
      "text/plain": [
       "<AxesSubplot:title={'center':'Per Domain Validation Accuracy'}, xlabel='domain'>"
      ]
     },
     "execution_count": 27,
     "metadata": {},
     "output_type": "execute_result"
    },
    {
     "data": {
      "image/png": "[encoded data removed]",
      "text/plain": [
       "<Figure size 1080x504 with 1 Axes>"
      ]
     },
     "metadata": {
      "needs_background": "light"
     },
     "output_type": "display_data"
    }
   ],
   "source": [
    "get_domain_accuracies(experiment)"
   ]
  },
  {
   "cell_type": "code",
   "execution_count": 28,
   "id": "a74ae082",
   "metadata": {
    "execution": {
     "iopub.execute_input": "2022-03-25T20:49:39.371862Z",
     "iopub.status.busy": "2022-03-25T20:49:39.371591Z",
     "iopub.status.idle": "2022-03-25T20:49:39.386376Z",
     "shell.execute_reply": "2022-03-25T20:49:39.385867Z"
    },
    "papermill": {
     "duration": 0.046172,
     "end_time": "2022-03-25T20:49:39.386476",
     "exception": false,
     "start_time": "2022-03-25T20:49:39.340304",
     "status": "completed"
    },
    "tags": []
   },
   "outputs": [
    {
     "name": "stdout",
     "output_type": "stream",
     "text": [
      "Source Test Label Accuracy: 0.9972963483146068 Target Test Label Accuracy: 0.4578450520833333\n",
      "Source Val Label Accuracy: 0.99675 Target Val Label Accuracy: 0.45478515625\n"
     ]
    }
   ],
   "source": [
    "print(\"Source Test Label Accuracy:\", experiment[\"results\"][\"source_test_label_accuracy\"], \"Target Test Label Accuracy:\", experiment[\"results\"][\"target_test_label_accuracy\"])\n",
    "print(\"Source Val Label Accuracy:\", experiment[\"results\"][\"source_val_label_accuracy\"], \"Target Val Label Accuracy:\", experiment[\"results\"][\"target_val_label_accuracy\"])"
   ]
  },
  {
   "cell_type": "code",
   "execution_count": 29,
   "id": "dacca602",
   "metadata": {
    "execution": {
     "iopub.execute_input": "2022-03-25T20:49:39.450321Z",
     "iopub.status.busy": "2022-03-25T20:49:39.450065Z",
     "iopub.status.idle": "2022-03-25T20:49:39.467094Z",
     "shell.execute_reply": "2022-03-25T20:49:39.466721Z"
    },
    "papermill": {
     "duration": 0.047603,
     "end_time": "2022-03-25T20:49:39.467187",
     "exception": false,
     "start_time": "2022-03-25T20:49:39.419584",
     "status": "completed"
    },
    "tags": [
     "experiment_json"
    ]
   },
   "outputs": [
    {
     "data": {
      "text/plain": [
       "'{\"experiment_name\": \"tl_3-filterv2:cores -> oracle.run1.framed\", \"parameters\": {\"experiment_name\": \"tl_3-filterv2:cores -> oracle.run1.framed\", \"device\": \"cuda\", \"lr\": 0.0001, \"x_shape\": [2, 200], \"n_shot\": 3, \"n_query\": 2, \"train_k_factor\": 3, \"val_k_factor\": 2, \"test_k_factor\": 2, \"torch_default_dtype\": \"torch.float32\", \"n_epoch\": 50, \"patience\": 3, \"criteria_for_best\": \"target_accuracy\", \"x_net\": [{\"class\": \"nnReshape\", \"kargs\": {\"shape\": [-1, 1, 2, 200]}}, {\"class\": \"Conv2d\", \"kargs\": {\"in_channels\": 1, \"out_channels\": 256, \"kernel_size\": [1, 7], \"bias\": false, \"padding\": [0, 3]}}, {\"class\": \"ReLU\", \"kargs\": {\"inplace\": true}}, {\"class\": \"BatchNorm2d\", \"kargs\": {\"num_features\": 256}}, {\"class\": \"Conv2d\", \"kargs\": {\"in_channels\": 256, \"out_channels\": 80, \"kernel_size\": [2, 7], \"bias\": true, \"padding\": [0, 3]}}, {\"class\": \"ReLU\", \"kargs\": {\"inplace\": true}}, {\"class\": \"BatchNorm2d\", \"kargs\": {\"num_features\": 80}}, {\"class\": \"Flatten\", \"kargs\": {}}, {\"class\": \"Linear\", \"kargs\": {\"in_features\": 16000, \"out_features\": 256}}, {\"class\": \"ReLU\", \"kargs\": {\"inplace\": true}}, {\"class\": \"BatchNorm1d\", \"kargs\": {\"num_features\": 256}}, {\"class\": \"Linear\", \"kargs\": {\"in_features\": 256, \"out_features\": 256}}], \"NUM_LOGS_PER_EPOCH\": 10, \"BEST_MODEL_PATH\": \"./best_model.pth\", \"n_way\": 16, \"datasets\": [{\"labels\": [\"1-10.\", \"1-11.\", \"1-15.\", \"1-16.\", \"1-17.\", \"1-18.\", \"1-19.\", \"10-4.\", \"10-7.\", \"11-1.\", \"11-14.\", \"11-17.\", \"11-20.\", \"11-7.\", \"13-20.\", \"13-8.\", \"14-10.\", \"14-11.\", \"14-14.\", \"14-7.\", \"15-1.\", \"15-20.\", \"16-1.\", \"16-16.\", \"17-10.\", \"17-11.\", \"17-2.\", \"19-1.\", \"19-16.\", \"19-19.\", \"19-20.\", \"19-3.\", \"2-10.\", \"2-11.\", \"2-17.\", \"2-18.\", \"2-20.\", \"2-3.\", \"2-4.\", \"2-5.\", \"2-6.\", \"2-7.\", \"2-8.\", \"3-13.\", \"3-18.\", \"3-3.\", \"4-1.\", \"4-10.\", \"4-11.\", \"4-19.\", \"5-5.\", \"6-15.\", \"7-10.\", \"7-14.\", \"8-18.\", \"8-20.\", \"8-3.\", \"8-8.\"], \"domains\": [1, 2, 3, 4, 5], \"num_examples_per_domain_per_label\": -1, \"pickle_path\": \"/mnt/wd500GB/CSC500/csc500-main/datasets/cores.stratified_ds.2022A.pkl\", \"source_or_target_dataset\": \"source\", \"x_transforms\": [\"lowpass_+/-10MHz\", \"take_200\"], \"episode_transforms\": [], \"domain_prefix\": \"C_\"}, {\"labels\": [\"3123D52\", \"3123D65\", \"3123D79\", \"3123D80\", \"3123D54\", \"3123D70\", \"3123D7B\", \"3123D89\", \"3123D58\", \"3123D76\", \"3123D7D\", \"3123EFE\", \"3123D64\", \"3123D78\", \"3123D7E\", \"3124E4A\"], \"domains\": [32, 38, 8, 44, 14, 50, 20, 26], \"num_examples_per_domain_per_label\": 2000, \"pickle_path\": \"/mnt/wd500GB/CSC500/csc500-main/datasets/oracle.Run1_framed_2000Examples_stratified_ds.2022A.pkl\", \"source_or_target_dataset\": \"target\", \"x_transforms\": [\"take_200\", \"resample_20Msps_to_25Msps\"], \"episode_transforms\": [], \"domain_prefix\": \"O_\"}], \"seed\": 500, \"dataset_seed\": 500, \"domains_source\": [\"C_1\", \"C_2\", \"C_3\", \"C_4\", \"C_5\"], \"domains_target\": [\"O_32\", \"O_38\", \"O_8\", \"O_44\", \"O_14\", \"O_50\", \"O_20\", \"O_26\"]}, \"results\": {\"source_test_label_accuracy\": 0.9972963483146068, \"source_test_label_loss\": 0.012672101147472858, \"target_test_label_accuracy\": 0.4578450520833333, \"target_test_label_loss\": 1.8748281002044678, \"source_val_label_accuracy\": 0.99675, \"source_val_label_loss\": 0.013980701565742493, \"target_val_label_accuracy\": 0.45478515625, \"target_val_label_loss\": 1.8758361339569092, \"total_epochs_trained\": 5, \"total_experiment_time_secs\": 1492.0951662063599, \"confusion\": {\"C_4\": {\"38\": {\"38\": 39, \"2\": 1}, \"3\": {\"3\": 124}, \"24\": {\"24\": 56}, \"49\": {\"49\": 20}, \"7\": {\"7\": 24}, \"17\": {\"17\": 80}, \"43\": {\"43\": 148}, \"30\": {\"30\": 44}, \"44\": {\"44\": 132}, \"23\": {\"23\": 144}, \"37\": {\"37\": 24}, \"4\": {\"4\": 132}, \"57\": {\"57\": 100}, \"16\": {\"16\": 95, \"23\": 1}, \"18\": {\"18\": 106, \"25\": 1, \"46\": 1}, \"20\": {\"20\": 124}, \"45\": {\"45\": 96}, \"15\": {\"15\": 131, \"11\": 1}, \"52\": {\"52\": 116}, \"19\": {\"19\": 139, \"26\": 1}, \"54\": {\"54\": 108}, \"56\": {\"56\": 130}, \"40\": {\"40\": 134}, \"28\": {\"28\": 32}, \"2\": {\"2\": 36}, \"9\": {\"9\": 120}, \"0\": {\"0\": 80}, \"36\": {\"36\": 92}, \"55\": {\"55\": 130}, \"35\": {\"35\": 40}, \"39\": {\"39\": 20}, \"31\": {\"31\": 28}, \"14\": {\"38\": 4, \"14\": 10, \"1\": 2}, \"12\": {\"12\": 92}, \"6\": {\"6\": 111, \"50\": 1}, \"26\": {\"26\": 23, \"54\": 1}, \"50\": {\"50\": 129, \"6\": 3}, \"21\": {\"21\": 122}, \"46\": {\"46\": 139, \"22\": 1}, \"51\": {\"51\": 140}, \"41\": {\"41\": 36}, \"34\": {\"34\": 23, \"28\": 1}, \"47\": {\"47\": 120}, \"5\": {\"5\": 108}, \"1\": {\"1\": 40}, \"48\": {\"48\": 134}, \"29\": {\"29\": 118}, \"22\": {\"22\": 128}, \"10\": {\"10\": 132}, \"32\": {\"32\": 24}, \"13\": {\"13\": 112}, \"42\": {\"42\": 32}, \"27\": {\"27\": 138}, \"8\": {\"8\": 142}, \"33\": {\"33\": 36}, \"25\": {\"25\": 129, \"18\": 1, \"53\": 2}, \"11\": {\"11\": 104}, \"53\": {\"53\": 111, \"17\": 1}}, \"C_2\": {\"32\": {\"32\": 28}, \"17\": {\"17\": 104}, \"38\": {\"38\": 20}, \"2\": {\"2\": 32}, \"43\": {\"43\": 144}, \"56\": {\"56\": 144}, \"37\": {\"37\": 36}, \"49\": {\"49\": 24}, \"0\": {\"0\": 48}, \"29\": {\"29\": 128}, \"35\": {\"35\": 32}, \"18\": {\"18\": 48}, \"25\": {\"25\": 136}, \"23\": {\"23\": 124}, \"15\": {\"15\": 146}, \"21\": {\"21\": 120}, \"51\": {\"51\": 128}, \"20\": {\"20\": 138}, \"7\": {\"7\": 36}, \"50\": {\"50\": 135, \"3\": 1}, \"31\": {\"31\": 28}, \"30\": {\"30\": 140}, \"19\": {\"19\": 156}, \"9\": {\"9\": 144}, \"52\": {\"52\": 124}, \"45\": {\"45\": 127, \"6\": 1}, \"8\": {\"8\": 154}, \"55\": {\"55\": 160}, \"12\": {\"12\": 92}, \"40\": {\"40\": 139, \"4\": 1}, \"28\": {\"28\": 28}, \"36\": {\"36\": 116}, \"39\": {\"39\": 28}, \"46\": {\"46\": 122}, \"14\": {\"14\": 19, \"1\": 2, \"57\": 2, \"38\": 1}, \"57\": {\"57\": 142}, \"34\": {\"34\": 27, \"23\": 1}, \"1\": {\"1\": 112}, \"53\": {\"53\": 135, \"25\": 1}, \"48\": {\"48\": 130}, \"3\": {\"3\": 92}, \"16\": {\"16\": 150, \"15\": 2}, \"6\": {\"6\": 124}, \"10\": {\"10\": 112}, \"13\": {\"13\": 116}, \"26\": {\"26\": 24}, \"24\": {\"24\": 96}, \"44\": {\"44\": 100}, \"27\": {\"27\": 150}, \"22\": {\"22\": 128}, \"33\": {\"33\": 28}, \"47\": {\"47\": 118}, \"5\": {\"5\": 120}, \"4\": {\"4\": 138}, \"41\": {\"41\": 20}, \"11\": {\"11\": 150}, \"54\": {\"54\": 108}, \"42\": {\"42\": 36}}, \"C_3\": {\"5\": {\"5\": 116}, \"32\": {\"32\": 28}, \"33\": {\"33\": 28}, \"49\": {\"49\": 20}, \"39\": {\"39\": 16}, \"11\": {\"11\": 142}, \"8\": {\"8\": 116}, \"26\": {\"26\": 24}, \"51\": {\"51\": 122}, \"4\": {\"4\": 146}, \"52\": {\"52\": 118}, \"47\": {\"47\": 92}, \"17\": {\"17\": 105, \"27\": 2, \"56\": 1}, \"53\": {\"53\": 136}, \"2\": {\"2\": 32}, \"12\": {\"12\": 92}, \"37\": {\"37\": 28}, \"9\": {\"9\": 148}, \"13\": {\"13\": 128}, \"54\": {\"54\": 100}, \"31\": {\"31\": 28}, \"34\": {\"34\": 32}, \"24\": {\"24\": 104}, \"7\": {\"7\": 36}, \"50\": {\"50\": 115, \"46\": 1, \"3\": 2}, \"46\": {\"46\": 128}, \"44\": {\"44\": 88}, \"40\": {\"40\": 116}, \"21\": {\"21\": 127, \"50\": 1}, \"45\": {\"45\": 59, \"12\": 1}, \"16\": {\"16\": 125, \"15\": 1}, \"14\": {\"14\": 37, \"57\": 1, \"1\": 2}, \"36\": {\"36\": 100}, \"56\": {\"56\": 114}, \"10\": {\"10\": 64}, \"18\": {\"18\": 84}, \"48\": {\"48\": 115, \"41\": 1}, \"38\": {\"38\": 28}, \"27\": {\"27\": 130}, \"42\": {\"42\": 28}, \"15\": {\"15\": 134}, \"1\": {\"1\": 100}, \"28\": {\"28\": 28}, \"43\": {\"43\": 136}, \"0\": {\"0\": 124}, \"57\": {\"57\": 124}, \"3\": {\"3\": 147, \"46\": 1}, \"29\": {\"29\": 124}, \"41\": {\"41\": 28}, \"25\": {\"25\": 144, \"53\": 2}, \"6\": {\"6\": 88}, \"35\": {\"35\": 28}, \"20\": {\"20\": 126}, \"23\": {\"23\": 134}, \"22\": {\"22\": 140}, \"19\": {\"19\": 116}, \"55\": {\"55\": 124}, \"30\": {\"30\": 120}}, \"C_1\": {\"24\": {\"24\": 108}, \"25\": {\"25\": 140}, \"45\": {\"45\": 143, \"56\": 1}, \"42\": {\"42\": 39, \"32\": 1}, \"2\": {\"2\": 36}, \"9\": {\"9\": 150}, \"21\": {\"21\": 124}, \"26\": {\"26\": 24}, \"49\": {\"49\": 32}, \"39\": {\"39\": 28}, \"46\": {\"46\": 136}, \"17\": {\"17\": 64}, \"19\": {\"19\": 156}, \"23\": {\"23\": 132}, \"1\": {\"1\": 100}, \"29\": {\"29\": 140}, \"56\": {\"56\": 150}, \"37\": {\"37\": 32}, \"33\": {\"33\": 32}, \"55\": {\"55\": 140, \"7\": 2}, \"30\": {\"30\": 120}, \"0\": {\"0\": 152}, \"36\": {\"36\": 64}, \"32\": {\"32\": 32}, \"31\": {\"31\": 28}, \"15\": {\"15\": 138}, \"12\": {\"12\": 116}, \"38\": {\"38\": 23, \"23\": 1}, \"40\": {\"40\": 146}, \"14\": {\"14\": 23, \"30\": 1}, \"13\": {\"13\": 150}, \"48\": {\"48\": 148}, \"34\": {\"34\": 24}, \"44\": {\"44\": 130}, \"5\": {\"5\": 152}, \"11\": {\"11\": 140}, \"7\": {\"7\": 28}, \"18\": {\"18\": 72}, \"52\": {\"52\": 132}, \"51\": {\"51\": 142}, \"41\": {\"41\": 23, \"51\": 1}, \"16\": {\"16\": 140}, \"22\": {\"22\": 134}, \"3\": {\"3\": 140}, \"54\": {\"54\": 104}, \"27\": {\"27\": 144}, \"20\": {\"20\": 139, \"13\": 1}, \"8\": {\"8\": 138}, \"50\": {\"50\": 144}, \"57\": {\"57\": 139, \"29\": 1}, \"4\": {\"4\": 132}, \"47\": {\"47\": 146}, \"10\": {\"10\": 96}, \"35\": {\"35\": 36}, \"53\": {\"53\": 126}, \"6\": {\"6\": 96}, \"43\": {\"43\": 140}, \"28\": {\"28\": 28}}, \"C_5\": {\"35\": {\"35\": 36}, \"57\": {\"57\": 132}, \"20\": {\"20\": 144}, \"12\": {\"12\": 95, \"6\": 1}, \"32\": {\"32\": 31, \"27\": 1}, \"25\": {\"25\": 138}, \"44\": {\"44\": 148}, \"31\": {\"31\": 36}, \"11\": {\"11\": 150}, \"47\": {\"47\": 99, \"52\": 1}, \"23\": {\"23\": 124}, \"43\": {\"43\": 144}, \"37\": {\"37\": 24}, \"5\": {\"5\": 127, \"44\": 1}, \"45\": {\"45\": 120, \"6\": 4}, \"7\": {\"7\": 32}, \"13\": {\"13\": 136}, \"49\": {\"49\": 36}, \"46\": {\"46\": 148}, \"16\": {\"16\": 136}, \"54\": {\"54\": 112}, \"19\": {\"19\": 151, \"55\": 1}, \"55\": {\"55\": 149, \"25\": 1}, \"30\": {\"30\": 128}, \"34\": {\"34\": 36}, \"50\": {\"50\": 134}, \"3\": {\"3\": 100}, \"10\": {\"10\": 68}, \"27\": {\"27\": 141, \"32\": 1}, \"33\": {\"33\": 32}, \"56\": {\"56\": 142}, \"9\": {\"9\": 150}, \"14\": {\"14\": 34, \"29\": 3, \"47\": 2, \"37\": 2, \"49\": 1, \"43\": 2}, \"4\": {\"4\": 100}, \"42\": {\"42\": 40}, \"24\": {\"24\": 80}, \"39\": {\"39\": 20}, \"52\": {\"52\": 130}, \"2\": {\"2\": 28}, \"28\": {\"28\": 32}, \"53\": {\"53\": 122}, \"17\": {\"17\": 116}, \"29\": {\"29\": 132}, \"38\": {\"38\": 32}, \"15\": {\"15\": 144}, \"26\": {\"26\": 23, \"55\": 1}, \"21\": {\"21\": 144}, \"41\": {\"41\": 28}, \"48\": {\"48\": 136}, \"22\": {\"22\": 28}, \"8\": {\"8\": 148}, \"18\": {\"18\": 64}, \"0\": {\"0\": 122}, \"1\": {\"1\": 138}, \"40\": {\"40\": 124}, \"6\": {\"6\": 119, \"45\": 7, \"50\": 2}, \"51\": {\"51\": 142}, \"36\": {\"36\": 92}}, \"O_50\": {\"7\": {\"4\": 85, \"7\": 110, \"5\": 38, \"9\": 2, \"15\": 3, \"6\": 2}, \"10\": {\"10\": 134, \"0\": 59, \"1\": 28, \"8\": 18, \"2\": 1}, \"0\": {\"10\": 51, \"0\": 98, \"2\": 46, \"14\": 45}, \"11\": {\"3\": 20, \"11\": 109, \"1\": 2, \"6\": 18, \"15\": 14, \"12\": 19, \"13\": 33, \"9\": 17, \"5\": 7, \"8\": 1}, \"2\": {\"2\": 108, \"14\": 78, \"0\": 50, \"10\": 4}, \"14\": {\"2\": 70, \"14\": 122, \"0\": 41, \"10\": 7}, \"9\": {\"12\": 36, \"15\": 24, \"6\": 42, \"9\": 85, \"11\": 17, \"3\": 12, \"5\": 21, \"4\": 2, \"7\": 1}, \"13\": {\"13\": 140, \"1\": 56, \"8\": 17, \"11\": 19, \"15\": 3, \"3\": 1, \"5\": 3, \"6\": 1}, \"8\": {\"8\": 140, \"1\": 64, \"10\": 24, \"13\": 11, \"11\": 1}, \"15\": {\"6\": 57, \"15\": 67, \"9\": 18, \"5\": 51, \"3\": 32, \"4\": 1, \"11\": 12, \"12\": 1, \"13\": 1}, \"4\": {\"4\": 92, \"7\": 107, \"9\": 4, \"5\": 26, \"15\": 5, \"3\": 1, \"6\": 5}, \"5\": {\"4\": 36, \"15\": 35, \"7\": 32, \"5\": 63, \"11\": 8, \"9\": 11, \"6\": 23, \"13\": 9, \"3\": 23}, \"3\": {\"15\": 35, \"6\": 37, \"3\": 84, \"5\": 25, \"11\": 30, \"12\": 14, \"13\": 1, \"9\": 14}, \"1\": {\"1\": 109, \"13\": 53, \"8\": 51, \"11\": 7, \"10\": 17, \"0\": 3}, \"6\": {\"9\": 30, \"15\": 61, \"5\": 30, \"3\": 38, \"6\": 60, \"11\": 16, \"13\": 2, \"7\": 1, \"4\": 1, \"12\": 1}, \"12\": {\"12\": 147, \"11\": 21, \"3\": 5, \"9\": 60, \"15\": 3, \"6\": 3, \"5\": 1}}, \"O_14\": {\"14\": {\"2\": 43, \"5\": 13, \"6\": 24, \"0\": 46, \"14\": 70, \"3\": 2, \"13\": 39, \"7\": 2, \"12\": 1}, \"6\": {\"6\": 100, \"13\": 63, \"3\": 31, \"14\": 25, \"0\": 13, \"2\": 8}, \"5\": {\"7\": 9, \"5\": 66, \"0\": 26, \"12\": 55, \"2\": 37, \"13\": 7, \"8\": 11, \"4\": 14, \"14\": 13, \"3\": 2}, \"15\": {\"15\": 240}, \"11\": {\"11\": 237, \"1\": 3}, \"8\": {\"12\": 29, \"8\": 124, \"3\": 1, \"7\": 71, \"5\": 10, \"4\": 1, \"0\": 2, \"2\": 2}, \"12\": {\"12\": 113, \"5\": 46, \"0\": 22, \"7\": 8, \"8\": 24, \"3\": 2, \"2\": 10, \"14\": 8, \"4\": 5, \"9\": 2}, \"1\": {\"1\": 149, \"9\": 71, \"10\": 16, \"4\": 4}, \"2\": {\"3\": 21, \"2\": 55, \"0\": 23, \"12\": 12, \"4\": 22, \"5\": 28, \"13\": 20, \"6\": 12, \"7\": 7, \"14\": 34, \"10\": 6}, \"13\": {\"2\": 30, \"14\": 40, \"6\": 64, \"3\": 19, \"13\": 51, \"5\": 3, \"15\": 13, \"4\": 9, \"0\": 9, \"10\": 2}, \"3\": {\"3\": 94, \"6\": 41, \"0\": 29, \"7\": 27, \"13\": 23, \"2\": 13, \"14\": 10, \"12\": 1, \"5\": 2}, \"0\": {\"0\": 43, \"14\": 28, \"2\": 30, \"12\": 19, \"10\": 1, \"6\": 28, \"7\": 8, \"3\": 30, \"4\": 7, \"5\": 27, \"13\": 18, \"8\": 1}, \"9\": {\"10\": 35, \"9\": 103, \"1\": 89, \"4\": 13}, \"4\": {\"4\": 110, \"2\": 26, \"12\": 22, \"10\": 38, \"0\": 3, \"5\": 27, \"13\": 1, \"9\": 13}, \"7\": {\"8\": 34, \"3\": 38, \"7\": 113, \"2\": 4, \"0\": 15, \"5\": 14, \"12\": 11, \"6\": 5, \"14\": 3, \"13\": 3}, \"10\": {\"9\": 35, \"10\": 141, \"4\": 45, \"2\": 6, \"5\": 2, \"13\": 2, \"0\": 3, \"1\": 5, \"12\": 1}}, \"O_32\": {\"4\": {\"2\": 65, \"3\": 28, \"4\": 91, \"13\": 28, \"8\": 8, \"14\": 4, \"9\": 10, \"1\": 6}, \"14\": {\"7\": 55, \"8\": 20, \"14\": 60, \"5\": 20, \"0\": 48, \"2\": 28, \"1\": 7, \"4\": 2}, \"5\": {\"7\": 46, \"0\": 51, \"5\": 78, \"8\": 27, \"14\": 24, \"4\": 2, \"15\": 5, \"1\": 3, \"2\": 4}, \"10\": {\"10\": 184, \"12\": 52, \"9\": 1, \"6\": 3}, \"13\": {\"9\": 48, \"3\": 69, \"4\": 27, \"11\": 15, \"13\": 73, \"2\": 4, \"12\": 1, \"1\": 2, \"14\": 1}, \"9\": {\"12\": 27, \"9\": 75, \"11\": 44, \"13\": 44, \"3\": 26, \"4\": 17, \"2\": 4, \"10\": 3}, \"6\": {\"6\": 217, \"10\": 18, \"12\": 5}, \"3\": {\"13\": 65, \"9\": 15, \"3\": 121, \"4\": 30, \"1\": 1, \"8\": 4, \"2\": 4}, \"15\": {\"15\": 221, \"8\": 13, \"5\": 4, \"0\": 2}, \"7\": {\"5\": 52, \"7\": 81, \"0\": 43, \"8\": 9, \"14\": 49, \"2\": 1, \"1\": 5}, \"12\": {\"12\": 156, \"9\": 27, \"10\": 37, \"11\": 15, \"13\": 5}, \"8\": {\"0\": 47, \"7\": 15, \"14\": 14, \"8\": 101, \"4\": 1, \"15\": 10, \"5\": 24, \"1\": 18, \"2\": 6, \"3\": 4}, \"11\": {\"11\": 127, \"9\": 73, \"13\": 17, \"12\": 18, \"3\": 5}, \"2\": {\"2\": 105, \"4\": 74, \"14\": 17, \"3\": 7, \"8\": 14, \"1\": 15, \"0\": 5, \"9\": 1, \"13\": 1, \"7\": 1}, \"1\": {\"8\": 24, \"4\": 18, \"14\": 5, \"1\": 154, \"3\": 2, \"0\": 7, \"5\": 2, \"2\": 28}, \"0\": {\"8\": 45, \"7\": 40, \"0\": 63, \"5\": 46, \"14\": 37, \"1\": 3, \"2\": 4, \"4\": 1, \"15\": 1}}, \"O_44\": {\"8\": {\"0\": 63, \"8\": 98, \"1\": 13, \"14\": 5, \"15\": 45, \"5\": 11, \"2\": 3, \"4\": 2}, \"11\": {\"11\": 237, \"13\": 3}, \"14\": {\"5\": 56, \"14\": 60, \"8\": 3, \"2\": 6, \"9\": 8, \"15\": 25, \"4\": 28, \"10\": 26, \"7\": 24, \"1\": 4}, \"10\": {\"7\": 56, \"10\": 51, \"9\": 37, \"4\": 34, \"5\": 17, \"14\": 31, \"1\": 5, \"2\": 6, \"15\": 1, \"6\": 2}, \"3\": {\"3\": 166, \"12\": 71, \"0\": 2, \"1\": 1}, \"15\": {\"5\": 37, \"0\": 14, \"8\": 42, \"1\": 11, \"15\": 98, \"14\": 26, \"4\": 2, \"2\": 3, \"10\": 7}, \"2\": {\"1\": 47, \"5\": 8, \"2\": 144, \"10\": 11, \"7\": 5, \"0\": 2, \"4\": 6, \"14\": 9, \"15\": 2, \"9\": 5, \"8\": 1}, \"12\": {\"12\": 127, \"3\": 111, \"0\": 1, \"1\": 1}, \"4\": {\"2\": 14, \"14\": 34, \"10\": 29, \"4\": 44, \"15\": 18, \"9\": 26, \"5\": 28, \"1\": 7, \"7\": 32, \"6\": 4, \"8\": 2, \"13\": 2}, \"1\": {\"0\": 44, \"15\": 12, \"1\": 114, \"5\": 4, \"8\": 16, \"2\": 42, \"9\": 1, \"12\": 2, \"14\": 5}, \"0\": {\"0\": 140, \"8\": 50, \"1\": 39, \"15\": 7, \"3\": 3, \"5\": 1}, \"9\": {\"6\": 22, \"7\": 65, \"9\": 46, \"14\": 9, \"2\": 10, \"13\": 37, \"4\": 19, \"10\": 22, \"5\": 8, \"1\": 1, \"11\": 1}, \"5\": {\"2\": 8, \"14\": 53, \"5\": 64, \"10\": 20, \"15\": 33, \"4\": 33, \"7\": 17, \"9\": 7, \"1\": 1, \"8\": 4}, \"6\": {\"6\": 133, \"7\": 10, \"13\": 77, \"11\": 1, \"9\": 19}, \"7\": {\"7\": 82, \"6\": 10, \"4\": 28, \"10\": 44, \"14\": 21, \"9\": 46, \"5\": 9}, \"13\": {\"13\": 140, \"6\": 78, \"9\": 17, \"7\": 2, \"11\": 3}}, \"O_8\": {\"13\": {\"5\": 39, \"10\": 67, \"13\": 74, \"1\": 5, \"7\": 36, \"6\": 16, \"12\": 3}, \"3\": {\"3\": 212, \"2\": 24, \"9\": 4}, \"15\": {\"15\": 133, \"12\": 79, \"2\": 23, \"3\": 5}, \"4\": {\"4\": 99, \"14\": 60, \"6\": 24, \"8\": 26, \"1\": 11, \"11\": 14, \"7\": 4, \"5\": 2}, \"7\": {\"6\": 61, \"5\": 20, \"10\": 46, \"7\": 71, \"13\": 24, \"1\": 12, \"4\": 4, \"11\": 2}, \"2\": {\"2\": 138, \"3\": 49, \"15\": 32, \"12\": 17, \"10\": 2, \"13\": 1, \"5\": 1}, \"1\": {\"5\": 30, \"11\": 43, \"1\": 74, \"6\": 38, \"4\": 13, \"10\": 20, \"7\": 12, \"13\": 6, \"8\": 4}, \"0\": {\"0\": 234, \"14\": 6}, \"12\": {\"15\": 91, \"12\": 145, \"2\": 4}, \"6\": {\"6\": 72, \"5\": 22, \"1\": 22, \"4\": 25, \"7\": 57, \"13\": 6, \"10\": 23, \"11\": 12, \"8\": 1}, \"11\": {\"11\": 71, \"14\": 13, \"1\": 65, \"4\": 22, \"8\": 32, \"10\": 4, \"6\": 18, \"5\": 8, \"7\": 6, \"13\": 1}, \"9\": {\"9\": 239, \"3\": 1}, \"5\": {\"6\": 18, \"13\": 51, \"1\": 20, \"12\": 5, \"5\": 70, \"10\": 41, \"7\": 24, \"4\": 2, \"11\": 5, \"8\": 1, \"15\": 1, \"14\": 2}, \"10\": {\"6\": 24, \"7\": 44, \"13\": 49, \"4\": 4, \"5\": 42, \"10\": 65, \"1\": 7, \"12\": 1, \"11\": 4}, \"14\": {\"8\": 45, \"14\": 132, \"4\": 51, \"11\": 9, \"0\": 3}, \"8\": {\"6\": 6, \"8\": 101, \"14\": 42, \"1\": 12, \"4\": 28, \"11\": 49, \"7\": 1, \"5\": 1}}, \"O_20\": {\"6\": {\"1\": 11, \"4\": 42, \"14\": 19, \"15\": 18, \"7\": 24, \"2\": 25, \"6\": 42, \"12\": 31, \"13\": 6, \"8\": 6, \"9\": 10, \"5\": 3, \"3\": 3}, \"11\": {\"11\": 189, \"0\": 50, \"9\": 1}, \"5\": {\"5\": 49, \"1\": 36, \"3\": 29, \"9\": 34, \"2\": 5, \"15\": 19, \"14\": 15, \"8\": 32, \"7\": 7, \"12\": 6, \"6\": 5, \"13\": 1, \"0\": 1, \"4\": 1}, \"14\": {\"14\": 82, \"8\": 62, \"6\": 11, \"9\": 17, \"3\": 23, \"5\": 21, \"7\": 9, \"15\": 4, \"1\": 7, \"4\": 1, \"2\": 2, \"0\": 1}, \"2\": {\"13\": 41, \"6\": 13, \"2\": 42, \"12\": 38, \"3\": 5, \"1\": 9, \"15\": 36, \"7\": 23, \"9\": 20, \"4\": 7, \"5\": 4, \"14\": 2}, \"7\": {\"1\": 18, \"7\": 32, \"2\": 27, \"6\": 33, \"15\": 33, \"3\": 8, \"5\": 12, \"9\": 18, \"14\": 12, \"12\": 22, \"13\": 11, \"8\": 5, \"4\": 9}, \"3\": {\"8\": 46, \"14\": 25, \"9\": 28, \"3\": 38, \"5\": 49, \"1\": 28, \"15\": 6, \"0\": 6, \"7\": 8, \"12\": 3, \"6\": 2, \"2\": 1}, \"4\": {\"10\": 18, \"12\": 31, \"15\": 11, \"6\": 56, \"14\": 10, \"4\": 71, \"1\": 1, \"5\": 2, \"2\": 12, \"3\": 2, \"13\": 11, \"7\": 12, \"9\": 2, \"8\": 1}, \"9\": {\"5\": 21, \"8\": 23, \"1\": 31, \"15\": 26, \"3\": 36, \"9\": 36, \"6\": 6, \"14\": 16, \"12\": 11, \"7\": 28, \"2\": 5, \"13\": 1}, \"12\": {\"15\": 34, \"1\": 11, \"2\": 35, \"7\": 19, \"12\": 39, \"6\": 32, \"5\": 8, \"14\": 4, \"13\": 30, \"9\": 10, \"4\": 17, \"3\": 1}, \"0\": {\"0\": 137, \"11\": 51, \"5\": 9, \"8\": 21, \"3\": 14, \"1\": 4, \"14\": 2, \"9\": 2}, \"10\": {\"10\": 171, \"4\": 48, \"6\": 7, \"12\": 6, \"14\": 1, \"13\": 3, \"2\": 2, \"7\": 2}, \"8\": {\"8\": 80, \"14\": 36, \"3\": 41, \"1\": 10, \"0\": 11, \"6\": 3, \"5\": 35, \"9\": 15, \"15\": 1, \"2\": 2, \"7\": 5, \"4\": 1}, \"13\": {\"12\": 35, \"6\": 9, \"2\": 55, \"13\": 86, \"9\": 8, \"15\": 29, \"1\": 3, \"7\": 13, \"10\": 2}, \"1\": {\"5\": 32, \"14\": 10, \"1\": 35, \"7\": 20, \"2\": 14, \"3\": 29, \"15\": 31, \"9\": 30, \"12\": 13, \"8\": 18, \"6\": 6, \"13\": 1, \"0\": 1}, \"15\": {\"6\": 15, \"13\": 32, \"2\": 31, \"7\": 22, \"15\": 43, \"3\": 13, \"12\": 23, \"1\": 21, \"9\": 26, \"4\": 4, \"5\": 7, \"14\": 3}}, \"O_38\": {\"3\": {\"3\": 231, \"11\": 7, \"10\": 2}, \"8\": {\"8\": 75, \"5\": 61, \"9\": 12, \"2\": 22, \"7\": 29, \"15\": 35, \"14\": 5, \"12\": 1}, \"0\": {\"10\": 71, \"0\": 70, \"14\": 13, \"2\": 21, \"13\": 52, \"3\": 3, \"7\": 9, \"8\": 1}, \"2\": {\"7\": 48, \"13\": 5, \"14\": 27, \"9\": 29, \"2\": 111, \"0\": 1, \"8\": 9, \"5\": 10}, \"4\": {\"4\": 236, \"10\": 1, \"0\": 1, \"14\": 2}, \"7\": {\"14\": 70, \"2\": 55, \"7\": 93, \"8\": 9, \"0\": 5, \"4\": 1, \"5\": 6, \"9\": 1}, \"12\": {\"12\": 236, \"8\": 3, \"5\": 1}, \"6\": {\"6\": 117, \"1\": 122, \"15\": 1}, \"15\": {\"6\": 5, \"15\": 169, \"8\": 19, \"5\": 30, \"1\": 11, \"12\": 2, \"9\": 4}, \"11\": {\"11\": 237, \"3\": 3}, \"9\": {\"9\": 155, \"2\": 26, \"8\": 23, \"7\": 5, \"5\": 30, \"15\": 1}, \"14\": {\"14\": 134, \"7\": 64, \"2\": 24, \"4\": 8, \"8\": 2, \"0\": 5, \"13\": 1, \"5\": 2}, \"10\": {\"10\": 157, \"0\": 54, \"13\": 21, \"4\": 4, \"3\": 2, \"11\": 1, \"14\": 1}, \"5\": {\"5\": 74, \"8\": 70, \"15\": 34, \"2\": 20, \"9\": 24, \"7\": 16, \"14\": 2}, \"1\": {\"6\": 118, \"1\": 120, \"15\": 2}, \"13\": {\"13\": 136, \"0\": 54, \"2\": 20, \"10\": 26, \"14\": 2, \"9\": 1, \"7\": 1}}, \"O_26\": {\"5\": {\"5\": 81, \"15\": 64, \"6\": 46, \"1\": 11, \"11\": 29, \"0\": 3, \"10\": 5, \"14\": 1}, \"8\": {\"8\": 58, \"3\": 16, \"0\": 19, \"9\": 38, \"2\": 23, \"7\": 44, \"12\": 33, \"13\": 3, \"14\": 5, \"10\": 1}, \"4\": {\"4\": 208, \"3\": 24, \"7\": 3, \"13\": 3, \"12\": 1, \"8\": 1}, \"12\": {\"2\": 27, \"9\": 41, \"7\": 35, \"8\": 41, \"3\": 16, \"12\": 50, \"13\": 26, \"0\": 3, \"14\": 1}, \"6\": {\"15\": 81, \"6\": 59, \"5\": 29, \"10\": 21, \"14\": 9, \"1\": 35, \"11\": 3, \"0\": 3}, \"7\": {\"2\": 28, \"7\": 56, \"9\": 32, \"12\": 41, \"3\": 25, \"8\": 43, \"13\": 9, \"0\": 5, \"10\": 1}, \"10\": {\"0\": 42, \"1\": 26, \"14\": 47, \"2\": 3, \"8\": 2, \"15\": 26, \"10\": 75, \"7\": 2, \"6\": 14, \"5\": 2, \"11\": 1}, \"0\": {\"0\": 77, \"15\": 4, \"8\": 20, \"7\": 4, \"10\": 43, \"9\": 7, \"14\": 54, \"2\": 13, \"1\": 12, \"12\": 5, \"6\": 1}, \"15\": {\"10\": 22, \"2\": 3, \"15\": 74, \"6\": 54, \"5\": 43, \"0\": 10, \"1\": 21, \"14\": 5, \"11\": 7, \"9\": 1}, \"9\": {\"13\": 32, \"12\": 38, \"2\": 49, \"9\": 32, \"3\": 20, \"7\": 24, \"8\": 27, \"0\": 11, \"10\": 6, \"14\": 1}, \"11\": {\"11\": 163, \"5\": 38, \"15\": 21, \"6\": 18}, \"14\": {\"1\": 41, \"10\": 62, \"14\": 77, \"0\": 40, \"6\": 7, \"8\": 1, \"15\": 11, \"5\": 1}, \"2\": {\"2\": 71, \"14\": 4, \"12\": 30, \"9\": 39, \"13\": 12, \"8\": 31, \"0\": 15, \"10\": 11, \"7\": 19, \"3\": 6, \"15\": 2}, \"13\": {\"13\": 112, \"8\": 5, \"2\": 11, \"7\": 8, \"3\": 51, \"9\": 33, \"12\": 8, \"4\": 12}, \"3\": {\"3\": 86, \"4\": 4, \"13\": 43, \"9\": 31, \"8\": 18, \"12\": 16, \"2\": 9, \"7\": 33}, \"1\": {\"10\": 28, \"1\": 111, \"14\": 31, \"6\": 43, \"15\": 13, \"0\": 8, \"5\": 6}}}, \"per_domain_accuracy\": {\"C_4\": {\"accuracy\": 0.9956439393939394, \"source?\": true}, \"C_2\": {\"accuracy\": 0.9978932584269663, \"source?\": true}, \"C_3\": {\"accuracy\": 0.9970238095238095, \"source?\": true}, \"C_1\": {\"accuracy\": 0.9984797297297298, \"source?\": true}, \"C_5\": {\"accuracy\": 0.9945879888268156, \"source?\": true}, \"O_50\": {\"accuracy\": 0.434375, \"source?\": false}, \"O_14\": {\"accuracy\": 0.47109375, \"source?\": false}, \"O_32\": {\"accuracy\": 0.49661458333333336, \"source?\": false}, \"O_44\": {\"accuracy\": 0.45416666666666666, \"source?\": false}, \"O_8\": {\"accuracy\": 0.5026041666666666, \"source?\": false}, \"O_20\": {\"accuracy\": 0.30520833333333336, \"source?\": false}, \"O_38\": {\"accuracy\": 0.6122395833333333, \"source?\": false}, \"O_26\": {\"accuracy\": 0.3619791666666667, \"source?\": false}}}, \"history\": {\"epoch_indices\": [1, 2, 3, 4, 5], \"train_label_loss\": [0.03477239964808101, 0.012120351608164548, 0.006638953905181828, 0.005973785922786549, 0.006738500121995819], \"source_val_label_loss\": [0.013980701565742493, 0.006896488834172487, 0.008239646442234516, 0.005377411376684904, 0.005617543123662472], \"target_val_label_loss\": [1.8758361339569092, 1.8668606281280518, 1.7810173034667969, 1.7759487628936768, 1.8005565404891968], \"source_val_acc_label\": [0.99675, 0.9989642857142857, 0.9982142857142857, 0.9995357142857143, 0.9992142857142857], \"target_val_acc_label\": [0.45478515625, 0.4055989583333333, 0.4515299479166667, 0.44684244791666666, 0.45016276041666664]}, \"dataset_metrics\": {\"source\": {\"train\": {\"n_unique_x\": 175169, \"n_unique_y\": 58, \"n_batch/episode\": 6311}, \"val\": {\"n_unique_x\": 37166, \"n_unique_y\": 58, \"n_batch/episode\": 875}, \"test\": {\"n_unique_x\": 37642, \"n_unique_y\": 58, \"n_batch/episode\": 890}}, \"target\": {\"train\": {\"n_unique_x\": 179200, \"n_unique_y\": 16, \"n_batch/episode\": 6720}, \"val\": {\"n_unique_x\": 38400, \"n_unique_y\": 16, \"n_batch/episode\": 960}, \"test\": {\"n_unique_x\": 38400, \"n_unique_y\": 16, \"n_batch/episode\": 960}}}}'"
      ]
     },
     "execution_count": 29,
     "metadata": {},
     "output_type": "execute_result"
    }
   ],
   "source": [
    "json.dumps(experiment)"
   ]
  }
 ],
 "metadata": {
  "celltoolbar": "Tags",
  "kernelspec": {
   "display_name": "Python 3 (ipykernel)",
   "language": "python",
   "name": "python3"
  },
  "language_info": {
   "codemirror_mode": {
    "name": "ipython",
    "version": 3
   },
   "file_extension": ".py",
   "mimetype": "text/x-python",
   "name": "python",
   "nbconvert_exporter": "python",
   "pygments_lexer": "ipython3",
   "version": "3.8.10"
  },
  "papermill": {
   "default_parameters": {},
   "duration": 1644.657832,
   "end_time": "2022-03-25T20:49:40.906460",
   "environment_variables": {},
   "exception": null,
   "input_path": "/mnt/wd500GB/CSC500/csc500-main/csc500-notebooks/templates/tl_ptn_template.ipynb",
   "output_path": "trial.ipynb",
   "parameters": {
    "parameters": {
     "BEST_MODEL_PATH": "./best_model.pth",
     "NUM_LOGS_PER_EPOCH": 10,
     "criteria_for_best": "target_accuracy",
     "dataset_seed": 500,
     "datasets": [
      {
       "domain_prefix": "C_",
       "domains": [
        1,
        2,
        3,
        4,
        5
       ],
       "episode_transforms": [],
       "labels": [
        "1-10.",
        "1-11.",
        "1-15.",
        "1-16.",
        "1-17.",
        "1-18.",
        "1-19.",
        "10-4.",
        "10-7.",
        "11-1.",
        "11-14.",
        "11-17.",
        "11-20.",
        "11-7.",
        "13-20.",
        "13-8.",
        "14-10.",
        "14-11.",
        "14-14.",
        "14-7.",
        "15-1.",
        "15-20.",
        "16-1.",
        "16-16.",
        "17-10.",
        "17-11.",
        "17-2.",
        "19-1.",
        "19-16.",
        "19-19.",
        "19-20.",
        "19-3.",
        "2-10.",
        "2-11.",
        "2-17.",
        "2-18.",
        "2-20.",
        "2-3.",
        "2-4.",
        "2-5.",
        "2-6.",
        "2-7.",
        "2-8.",
        "3-13.",
        "3-18.",
        "3-3.",
        "4-1.",
        "4-10.",
        "4-11.",
        "4-19.",
        "5-5.",
        "6-15.",
        "7-10.",
        "7-14.",
        "8-18.",
        "8-20.",
        "8-3.",
        "8-8."
       ],
       "num_examples_per_domain_per_label": -1,
       "pickle_path": "/mnt/wd500GB/CSC500/csc500-main/datasets/cores.stratified_ds.2022A.pkl",
       "source_or_target_dataset": "source",
       "x_transforms": [
        "lowpass_+/-10MHz",
        "take_200"
       ]
      },
      {
       "domain_prefix": "O_",
       "domains": [
        32,
        38,
        8,
        44,
        14,
        50,
        20,
        26
       ],
       "episode_transforms": [],
       "labels": [
        "3123D52",
        "3123D65",
        "3123D79",
        "3123D80",
        "3123D54",
        "3123D70",
        "3123D7B",
        "3123D89",
        "3123D58",
        "3123D76",
        "3123D7D",
        "3123EFE",
        "3123D64",
        "3123D78",
        "3123D7E",
        "3124E4A"
       ],
       "num_examples_per_domain_per_label": 2000,
       "pickle_path": "/mnt/wd500GB/CSC500/csc500-main/datasets/oracle.Run1_framed_2000Examples_stratified_ds.2022A.pkl",
       "source_or_target_dataset": "target",
       "x_transforms": [
        "take_200",
        "resample_20Msps_to_25Msps"
       ]
      }
     ],
     "device": "cuda",
     "experiment_name": "tl_3-filterv2:cores -> oracle.run1.framed",
     "lr": 0.0001,
     "n_epoch": 50,
     "n_query": 2,
     "n_shot": 3,
     "n_way": 16,
     "patience": 3,
     "seed": 500,
     "test_k_factor": 2,
     "torch_default_dtype": "torch.float32",
     "train_k_factor": 3,
     "val_k_factor": 2,
     "x_net": [
      {
       "class": "nnReshape",
       "kargs": {
        "shape": [
         -1,
         1,
         2,
         200
        ]
       }
      },
      {
       "class": "Conv2d",
       "kargs": {
        "bias": false,
        "in_channels": 1,
        "kernel_size": [
         1,
         7
        ],
        "out_channels": 256,
        "padding": [
         0,
         3
        ]
       }
      },
      {
       "class": "ReLU",
       "kargs": {
        "inplace": true
       }
      },
      {
       "class": "BatchNorm2d",
       "kargs": {
        "num_features": 256
       }
      },
      {
       "class": "Conv2d",
       "kargs": {
        "bias": true,
        "in_channels": 256,
        "kernel_size": [
         2,
         7
        ],
        "out_channels": 80,
        "padding": [
         0,
         3
        ]
       }
      },
      {
       "class": "ReLU",
       "kargs": {
        "inplace": true
       }
      },
      {
       "class": "BatchNorm2d",
       "kargs": {
        "num_features": 80
       }
      },
      {
       "class": "Flatten",
       "kargs": {}
      },
      {
       "class": "Linear",
       "kargs": {
        "in_features": 16000,
        "out_features": 256
       }
      },
      {
       "class": "ReLU",
       "kargs": {
        "inplace": true
       }
      },
      {
       "class": "BatchNorm1d",
       "kargs": {
        "num_features": 256
       }
      },
      {
       "class": "Linear",
       "kargs": {
        "in_features": 256,
        "out_features": 256
       }
      }
     ],
     "x_shape": [
      2,
      200
     ]
    }
   },
   "start_time": "2022-03-25T20:22:16.248628",
   "version": "2.3.4"
  }
 },
 "nbformat": 4,
 "nbformat_minor": 5
}