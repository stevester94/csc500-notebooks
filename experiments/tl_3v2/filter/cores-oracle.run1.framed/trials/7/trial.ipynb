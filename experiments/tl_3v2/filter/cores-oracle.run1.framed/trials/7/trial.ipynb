{
 "cells": [
  {
   "cell_type": "markdown",
   "id": "9fea5f46",
   "metadata": {
    "papermill": {
     "duration": 0.017649,
     "end_time": "2022-03-25T17:32:44.540488",
     "exception": false,
     "start_time": "2022-03-25T17:32:44.522839",
     "status": "completed"
    },
    "tags": []
   },
   "source": [
    "# Transfer Learning Template"
   ]
  },
  {
   "cell_type": "code",
   "execution_count": 1,
   "id": "0902182a",
   "metadata": {
    "execution": {
     "iopub.execute_input": "2022-03-25T17:32:44.582203Z",
     "iopub.status.busy": "2022-03-25T17:32:44.580199Z",
     "iopub.status.idle": "2022-03-25T17:32:45.567921Z",
     "shell.execute_reply": "2022-03-25T17:32:45.567527Z"
    },
    "papermill": {
     "duration": 1.014159,
     "end_time": "2022-03-25T17:32:45.568009",
     "exception": false,
     "start_time": "2022-03-25T17:32:44.553850",
     "status": "completed"
    },
    "tags": []
   },
   "outputs": [],
   "source": [
    "%load_ext autoreload\n",
    "%autoreload 2\n",
    "%matplotlib inline\n",
    "\n",
    "    \n",
    "import os, json, sys, time, random\n",
    "import numpy as np\n",
    "import torch\n",
    "from torch.optim import Adam\n",
    "from  easydict import EasyDict\n",
    "import matplotlib.pyplot as plt\n",
    "\n",
    "from steves_models.steves_ptn import Steves_Prototypical_Network\n",
    "\n",
    "from steves_utils.lazy_iterable_wrapper import Lazy_Iterable_Wrapper\n",
    "from steves_utils.iterable_aggregator import Iterable_Aggregator\n",
    "from steves_utils.ptn_train_eval_test_jig import  PTN_Train_Eval_Test_Jig\n",
    "from steves_utils.torch_sequential_builder import build_sequential\n",
    "from steves_utils.torch_utils import get_dataset_metrics, ptn_confusion_by_domain_over_dataloader\n",
    "from steves_utils.utils_v2 import (per_domain_accuracy_from_confusion, get_datasets_base_path)\n",
    "from steves_utils.PTN.utils import independent_accuracy_assesment\n",
    "\n",
    "from torch.utils.data import DataLoader\n",
    "\n",
    "from steves_utils.stratified_dataset.episodic_accessor import Episodic_Accessor_Factory\n",
    "\n",
    "from steves_utils.ptn_do_report import (\n",
    "    get_loss_curve,\n",
    "    get_results_table,\n",
    "    get_parameters_table,\n",
    "    get_domain_accuracies,\n",
    ")\n",
    "\n",
    "from steves_utils.transforms import get_chained_transform"
   ]
  },
  {
   "cell_type": "markdown",
   "id": "41c840b4",
   "metadata": {
    "papermill": {
     "duration": 0.016762,
     "end_time": "2022-03-25T17:32:45.603088",
     "exception": false,
     "start_time": "2022-03-25T17:32:45.586326",
     "status": "completed"
    },
    "tags": []
   },
   "source": [
    "# Allowed Parameters\n",
    "These are allowed parameters, not defaults\n",
    "Each of these values need to be present in the injected parameters (the notebook will raise an exception if they are not present)\n",
    "\n",
    "Papermill uses the cell tag \"parameters\" to inject the real parameters below this cell.\n",
    "Enable tags to see what I mean"
   ]
  },
  {
   "cell_type": "code",
   "execution_count": 2,
   "id": "fd44eb83",
   "metadata": {
    "execution": {
     "iopub.execute_input": "2022-03-25T17:32:45.646348Z",
     "iopub.status.busy": "2022-03-25T17:32:45.641658Z",
     "iopub.status.idle": "2022-03-25T17:32:45.655613Z",
     "shell.execute_reply": "2022-03-25T17:32:45.655183Z"
    },
    "papermill": {
     "duration": 0.034323,
     "end_time": "2022-03-25T17:32:45.655716",
     "exception": false,
     "start_time": "2022-03-25T17:32:45.621393",
     "status": "completed"
    },
    "tags": []
   },
   "outputs": [],
   "source": [
    "required_parameters = {\n",
    "    \"experiment_name\",\n",
    "    \"lr\",\n",
    "    \"device\",\n",
    "    \"seed\",\n",
    "    \"dataset_seed\",\n",
    "    \"n_shot\",\n",
    "    \"n_query\",\n",
    "    \"n_way\",\n",
    "    \"train_k_factor\",\n",
    "    \"val_k_factor\",\n",
    "    \"test_k_factor\",\n",
    "    \"n_epoch\",\n",
    "    \"patience\",\n",
    "    \"criteria_for_best\",\n",
    "    \"x_net\",\n",
    "    \"datasets\",\n",
    "    \"torch_default_dtype\",\n",
    "    \"NUM_LOGS_PER_EPOCH\",\n",
    "    \"BEST_MODEL_PATH\",\n",
    "    \"x_shape\",\n",
    "}"
   ]
  },
  {
   "cell_type": "code",
   "execution_count": 3,
   "id": "fa3f0049",
   "metadata": {
    "execution": {
     "iopub.execute_input": "2022-03-25T17:32:45.697721Z",
     "iopub.status.busy": "2022-03-25T17:32:45.697395Z",
     "iopub.status.idle": "2022-03-25T17:32:45.715089Z",
     "shell.execute_reply": "2022-03-25T17:32:45.714620Z"
    },
    "papermill": {
     "duration": 0.040735,
     "end_time": "2022-03-25T17:32:45.715203",
     "exception": false,
     "start_time": "2022-03-25T17:32:45.674468",
     "status": "completed"
    },
    "tags": [
     "parameters"
    ]
   },
   "outputs": [],
   "source": [
    "from steves_utils.CORES.utils import (\n",
    "    ALL_NODES,\n",
    "    ALL_NODES_MINIMUM_1000_EXAMPLES,\n",
    "    ALL_DAYS\n",
    ")\n",
    "\n",
    "from steves_utils.ORACLE.utils_v2 import (\n",
    "    ALL_DISTANCES_FEET_NARROWED,\n",
    "    ALL_RUNS,\n",
    "    ALL_SERIAL_NUMBERS,\n",
    ")\n",
    "\n",
    "standalone_parameters = {}\n",
    "standalone_parameters[\"experiment_name\"] = \"STANDALONE PTN\"\n",
    "standalone_parameters[\"lr\"] = 0.001\n",
    "standalone_parameters[\"device\"] = \"cuda\"\n",
    "\n",
    "standalone_parameters[\"seed\"] = 1337\n",
    "standalone_parameters[\"dataset_seed\"] = 1337\n",
    "\n",
    "standalone_parameters[\"n_way\"] = 8\n",
    "standalone_parameters[\"n_shot\"] = 3\n",
    "standalone_parameters[\"n_query\"]  = 2\n",
    "standalone_parameters[\"train_k_factor\"] = 1\n",
    "standalone_parameters[\"val_k_factor\"] = 2\n",
    "standalone_parameters[\"test_k_factor\"] = 2\n",
    "\n",
    "\n",
    "standalone_parameters[\"n_epoch\"] = 50\n",
    "\n",
    "standalone_parameters[\"patience\"] = 10\n",
    "standalone_parameters[\"criteria_for_best\"] = \"source_loss\"\n",
    "\n",
    "standalone_parameters[\"datasets\"] = [\n",
    "    {\n",
    "        \"labels\": ALL_SERIAL_NUMBERS,\n",
    "        \"domains\": ALL_DISTANCES_FEET_NARROWED,\n",
    "        \"num_examples_per_domain_per_label\": 100,\n",
    "        \"pickle_path\": os.path.join(get_datasets_base_path(), \"oracle.Run1_framed_2000Examples_stratified_ds.2022A.pkl\"),\n",
    "        \"source_or_target_dataset\": \"source\",\n",
    "        \"x_transforms\": [\"unit_mag\", \"minus_two\"],\n",
    "        \"episode_transforms\": [],\n",
    "        \"domain_prefix\": \"ORACLE_\"\n",
    "    },\n",
    "    {\n",
    "        \"labels\": ALL_NODES,\n",
    "        \"domains\": ALL_DAYS,\n",
    "        \"num_examples_per_domain_per_label\": 100,\n",
    "        \"pickle_path\": os.path.join(get_datasets_base_path(), \"cores.stratified_ds.2022A.pkl\"),\n",
    "        \"source_or_target_dataset\": \"target\",\n",
    "        \"x_transforms\": [\"unit_power\", \"times_zero\"],\n",
    "        \"episode_transforms\": [],\n",
    "        \"domain_prefix\": \"CORES_\"\n",
    "    }   \n",
    "]\n",
    "\n",
    "standalone_parameters[\"torch_default_dtype\"] = \"torch.float32\" \n",
    "\n",
    "\n",
    "\n",
    "standalone_parameters[\"x_net\"] =     [\n",
    "    {\"class\": \"nnReshape\", \"kargs\": {\"shape\":[-1, 1, 2, 256]}},\n",
    "    {\"class\": \"Conv2d\", \"kargs\": { \"in_channels\":1, \"out_channels\":256, \"kernel_size\":(1,7), \"bias\":False, \"padding\":(0,3), },},\n",
    "    {\"class\": \"ReLU\", \"kargs\": {\"inplace\": True}},\n",
    "    {\"class\": \"BatchNorm2d\", \"kargs\": {\"num_features\":256}},\n",
    "\n",
    "    {\"class\": \"Conv2d\", \"kargs\": { \"in_channels\":256, \"out_channels\":80, \"kernel_size\":(2,7), \"bias\":True, \"padding\":(0,3), },},\n",
    "    {\"class\": \"ReLU\", \"kargs\": {\"inplace\": True}},\n",
    "    {\"class\": \"BatchNorm2d\", \"kargs\": {\"num_features\":80}},\n",
    "    {\"class\": \"Flatten\", \"kargs\": {}},\n",
    "\n",
    "    {\"class\": \"Linear\", \"kargs\": {\"in_features\": 80*256, \"out_features\": 256}}, # 80 units per IQ pair\n",
    "    {\"class\": \"ReLU\", \"kargs\": {\"inplace\": True}},\n",
    "    {\"class\": \"BatchNorm1d\", \"kargs\": {\"num_features\":256}},\n",
    "\n",
    "    {\"class\": \"Linear\", \"kargs\": {\"in_features\": 256, \"out_features\": 256}},\n",
    "]\n",
    "\n",
    "# Parameters relevant to results\n",
    "# These parameters will basically never need to change\n",
    "standalone_parameters[\"NUM_LOGS_PER_EPOCH\"] = 10\n",
    "standalone_parameters[\"BEST_MODEL_PATH\"] = \"./best_model.pth\"\n",
    "\n",
    "\n",
    "\n",
    "\n"
   ]
  },
  {
   "cell_type": "code",
   "execution_count": 4,
   "id": "2bc2b62b",
   "metadata": {
    "execution": {
     "iopub.execute_input": "2022-03-25T17:32:45.753278Z",
     "iopub.status.busy": "2022-03-25T17:32:45.752928Z",
     "iopub.status.idle": "2022-03-25T17:32:45.765460Z",
     "shell.execute_reply": "2022-03-25T17:32:45.765686Z"
    },
    "papermill": {
     "duration": 0.03452,
     "end_time": "2022-03-25T17:32:45.765769",
     "exception": false,
     "start_time": "2022-03-25T17:32:45.731249",
     "status": "completed"
    },
    "tags": [
     "injected-parameters"
    ]
   },
   "outputs": [],
   "source": [
    "# Parameters\n",
    "parameters = {\n",
    "    \"experiment_name\": \"tl_3-filterv2:cores -> oracle.run1.framed\",\n",
    "    \"device\": \"cuda\",\n",
    "    \"lr\": 0.0001,\n",
    "    \"x_shape\": [2, 200],\n",
    "    \"n_shot\": 3,\n",
    "    \"n_query\": 2,\n",
    "    \"train_k_factor\": 3,\n",
    "    \"val_k_factor\": 2,\n",
    "    \"test_k_factor\": 2,\n",
    "    \"torch_default_dtype\": \"torch.float32\",\n",
    "    \"n_epoch\": 50,\n",
    "    \"patience\": 3,\n",
    "    \"criteria_for_best\": \"target_accuracy\",\n",
    "    \"x_net\": [\n",
    "        {\"class\": \"nnReshape\", \"kargs\": {\"shape\": [-1, 1, 2, 200]}},\n",
    "        {\n",
    "            \"class\": \"Conv2d\",\n",
    "            \"kargs\": {\n",
    "                \"in_channels\": 1,\n",
    "                \"out_channels\": 256,\n",
    "                \"kernel_size\": [1, 7],\n",
    "                \"bias\": False,\n",
    "                \"padding\": [0, 3],\n",
    "            },\n",
    "        },\n",
    "        {\"class\": \"ReLU\", \"kargs\": {\"inplace\": True}},\n",
    "        {\"class\": \"BatchNorm2d\", \"kargs\": {\"num_features\": 256}},\n",
    "        {\n",
    "            \"class\": \"Conv2d\",\n",
    "            \"kargs\": {\n",
    "                \"in_channels\": 256,\n",
    "                \"out_channels\": 80,\n",
    "                \"kernel_size\": [2, 7],\n",
    "                \"bias\": True,\n",
    "                \"padding\": [0, 3],\n",
    "            },\n",
    "        },\n",
    "        {\"class\": \"ReLU\", \"kargs\": {\"inplace\": True}},\n",
    "        {\"class\": \"BatchNorm2d\", \"kargs\": {\"num_features\": 80}},\n",
    "        {\"class\": \"Flatten\", \"kargs\": {}},\n",
    "        {\"class\": \"Linear\", \"kargs\": {\"in_features\": 16000, \"out_features\": 256}},\n",
    "        {\"class\": \"ReLU\", \"kargs\": {\"inplace\": True}},\n",
    "        {\"class\": \"BatchNorm1d\", \"kargs\": {\"num_features\": 256}},\n",
    "        {\"class\": \"Linear\", \"kargs\": {\"in_features\": 256, \"out_features\": 256}},\n",
    "    ],\n",
    "    \"NUM_LOGS_PER_EPOCH\": 10,\n",
    "    \"BEST_MODEL_PATH\": \"./best_model.pth\",\n",
    "    \"n_way\": 16,\n",
    "    \"datasets\": [\n",
    "        {\n",
    "            \"labels\": [\n",
    "                \"1-10.\",\n",
    "                \"1-11.\",\n",
    "                \"1-15.\",\n",
    "                \"1-16.\",\n",
    "                \"1-17.\",\n",
    "                \"1-18.\",\n",
    "                \"1-19.\",\n",
    "                \"10-4.\",\n",
    "                \"10-7.\",\n",
    "                \"11-1.\",\n",
    "                \"11-14.\",\n",
    "                \"11-17.\",\n",
    "                \"11-20.\",\n",
    "                \"11-7.\",\n",
    "                \"13-20.\",\n",
    "                \"13-8.\",\n",
    "                \"14-10.\",\n",
    "                \"14-11.\",\n",
    "                \"14-14.\",\n",
    "                \"14-7.\",\n",
    "                \"15-1.\",\n",
    "                \"15-20.\",\n",
    "                \"16-1.\",\n",
    "                \"16-16.\",\n",
    "                \"17-10.\",\n",
    "                \"17-11.\",\n",
    "                \"17-2.\",\n",
    "                \"19-1.\",\n",
    "                \"19-16.\",\n",
    "                \"19-19.\",\n",
    "                \"19-20.\",\n",
    "                \"19-3.\",\n",
    "                \"2-10.\",\n",
    "                \"2-11.\",\n",
    "                \"2-17.\",\n",
    "                \"2-18.\",\n",
    "                \"2-20.\",\n",
    "                \"2-3.\",\n",
    "                \"2-4.\",\n",
    "                \"2-5.\",\n",
    "                \"2-6.\",\n",
    "                \"2-7.\",\n",
    "                \"2-8.\",\n",
    "                \"3-13.\",\n",
    "                \"3-18.\",\n",
    "                \"3-3.\",\n",
    "                \"4-1.\",\n",
    "                \"4-10.\",\n",
    "                \"4-11.\",\n",
    "                \"4-19.\",\n",
    "                \"5-5.\",\n",
    "                \"6-15.\",\n",
    "                \"7-10.\",\n",
    "                \"7-14.\",\n",
    "                \"8-18.\",\n",
    "                \"8-20.\",\n",
    "                \"8-3.\",\n",
    "                \"8-8.\",\n",
    "            ],\n",
    "            \"domains\": [1, 2, 3, 4, 5],\n",
    "            \"num_examples_per_domain_per_label\": -1,\n",
    "            \"pickle_path\": \"/mnt/wd500GB/CSC500/csc500-main/datasets/cores.stratified_ds.2022A.pkl\",\n",
    "            \"source_or_target_dataset\": \"source\",\n",
    "            \"x_transforms\": [\"unit_mag\", \"lowpass_+/-10MHz\", \"take_200\"],\n",
    "            \"episode_transforms\": [],\n",
    "            \"domain_prefix\": \"C_\",\n",
    "        },\n",
    "        {\n",
    "            \"labels\": [\n",
    "                \"3123D52\",\n",
    "                \"3123D65\",\n",
    "                \"3123D79\",\n",
    "                \"3123D80\",\n",
    "                \"3123D54\",\n",
    "                \"3123D70\",\n",
    "                \"3123D7B\",\n",
    "                \"3123D89\",\n",
    "                \"3123D58\",\n",
    "                \"3123D76\",\n",
    "                \"3123D7D\",\n",
    "                \"3123EFE\",\n",
    "                \"3123D64\",\n",
    "                \"3123D78\",\n",
    "                \"3123D7E\",\n",
    "                \"3124E4A\",\n",
    "            ],\n",
    "            \"domains\": [32, 38, 8, 44, 14, 50, 20, 26],\n",
    "            \"num_examples_per_domain_per_label\": 2000,\n",
    "            \"pickle_path\": \"/mnt/wd500GB/CSC500/csc500-main/datasets/oracle.Run1_framed_2000Examples_stratified_ds.2022A.pkl\",\n",
    "            \"source_or_target_dataset\": \"target\",\n",
    "            \"x_transforms\": [\"unit_mag\", \"take_200\", \"resample_20Msps_to_25Msps\"],\n",
    "            \"episode_transforms\": [],\n",
    "            \"domain_prefix\": \"O_\",\n",
    "        },\n",
    "    ],\n",
    "    \"seed\": 154325,\n",
    "    \"dataset_seed\": 154325,\n",
    "}\n"
   ]
  },
  {
   "cell_type": "code",
   "execution_count": 5,
   "id": "8fa1cc33",
   "metadata": {
    "execution": {
     "iopub.execute_input": "2022-03-25T17:32:45.798360Z",
     "iopub.status.busy": "2022-03-25T17:32:45.798067Z",
     "iopub.status.idle": "2022-03-25T17:32:45.809302Z",
     "shell.execute_reply": "2022-03-25T17:32:45.809512Z"
    },
    "papermill": {
     "duration": 0.029105,
     "end_time": "2022-03-25T17:32:45.809596",
     "exception": false,
     "start_time": "2022-03-25T17:32:45.780491",
     "status": "completed"
    },
    "tags": []
   },
   "outputs": [],
   "source": [
    "# Set this to True if you want to run this template directly\n",
    "STANDALONE = False\n",
    "if STANDALONE:\n",
    "    print(\"parameters not injected, running with standalone_parameters\")\n",
    "    parameters = standalone_parameters\n",
    "\n",
    "if not 'parameters' in locals() and not 'parameters' in globals():\n",
    "    raise Exception(\"Parameter injection failed\")\n",
    "\n",
    "#Use an easy dict for all the parameters\n",
    "p = EasyDict(parameters)\n",
    "\n",
    "if \"x_shape\" not in p:\n",
    "    p.x_shape = [2,256] # Default to this if we dont supply x_shape\n",
    "\n",
    "\n",
    "supplied_keys = set(p.keys())\n",
    "\n",
    "if  supplied_keys != required_parameters:\n",
    "    print(\"Parameters are incorrect\")\n",
    "    if len(supplied_keys - required_parameters)>0: print(\"Shouldn't have:\", str(supplied_keys - required_parameters))\n",
    "    if len(required_parameters - supplied_keys)>0: print(\"Need to have:\", str(required_parameters - supplied_keys))\n",
    "    raise RuntimeError(\"Parameters are incorrect\")"
   ]
  },
  {
   "cell_type": "code",
   "execution_count": 6,
   "id": "3a028d58",
   "metadata": {
    "execution": {
     "iopub.execute_input": "2022-03-25T17:32:45.849022Z",
     "iopub.status.busy": "2022-03-25T17:32:45.848165Z",
     "iopub.status.idle": "2022-03-25T17:32:45.866254Z",
     "shell.execute_reply": "2022-03-25T17:32:45.866563Z"
    },
    "papermill": {
     "duration": 0.037108,
     "end_time": "2022-03-25T17:32:45.866671",
     "exception": false,
     "start_time": "2022-03-25T17:32:45.829563",
     "status": "completed"
    },
    "tags": []
   },
   "outputs": [],
   "source": [
    "###################################\n",
    "# Set the RNGs and make it all deterministic\n",
    "###################################\n",
    "np.random.seed(p.seed)\n",
    "random.seed(p.seed)\n",
    "torch.manual_seed(p.seed)\n",
    "\n",
    "torch.use_deterministic_algorithms(True) "
   ]
  },
  {
   "cell_type": "code",
   "execution_count": 7,
   "id": "b691acf6",
   "metadata": {
    "execution": {
     "iopub.execute_input": "2022-03-25T17:32:45.902401Z",
     "iopub.status.busy": "2022-03-25T17:32:45.902143Z",
     "iopub.status.idle": "2022-03-25T17:32:45.917500Z",
     "shell.execute_reply": "2022-03-25T17:32:45.917730Z"
    },
    "papermill": {
     "duration": 0.03531,
     "end_time": "2022-03-25T17:32:45.917818",
     "exception": false,
     "start_time": "2022-03-25T17:32:45.882508",
     "status": "completed"
    },
    "tags": []
   },
   "outputs": [],
   "source": [
    "###########################################\n",
    "# The stratified datasets honor this\n",
    "###########################################\n",
    "torch.set_default_dtype(eval(p.torch_default_dtype))"
   ]
  },
  {
   "cell_type": "code",
   "execution_count": 8,
   "id": "b5fba671",
   "metadata": {
    "execution": {
     "iopub.execute_input": "2022-03-25T17:32:45.957905Z",
     "iopub.status.busy": "2022-03-25T17:32:45.957644Z",
     "iopub.status.idle": "2022-03-25T17:32:45.990647Z",
     "shell.execute_reply": "2022-03-25T17:32:45.990267Z"
    },
    "papermill": {
     "duration": 0.056306,
     "end_time": "2022-03-25T17:32:45.990745",
     "exception": false,
     "start_time": "2022-03-25T17:32:45.934439",
     "status": "completed"
    },
    "tags": []
   },
   "outputs": [],
   "source": [
    "###################################\n",
    "# Build the network(s)\n",
    "# Note: It's critical to do this AFTER setting the RNG\n",
    "###################################\n",
    "x_net = build_sequential(p.x_net)"
   ]
  },
  {
   "cell_type": "code",
   "execution_count": 9,
   "id": "5d7e61cc",
   "metadata": {
    "execution": {
     "iopub.execute_input": "2022-03-25T17:32:46.021423Z",
     "iopub.status.busy": "2022-03-25T17:32:46.021170Z",
     "iopub.status.idle": "2022-03-25T17:32:46.032450Z",
     "shell.execute_reply": "2022-03-25T17:32:46.032838Z"
    },
    "papermill": {
     "duration": 0.027163,
     "end_time": "2022-03-25T17:32:46.032958",
     "exception": false,
     "start_time": "2022-03-25T17:32:46.005795",
     "status": "completed"
    },
    "tags": []
   },
   "outputs": [],
   "source": [
    "start_time_secs = time.time()"
   ]
  },
  {
   "cell_type": "code",
   "execution_count": 10,
   "id": "c6b67dfd",
   "metadata": {
    "execution": {
     "iopub.execute_input": "2022-03-25T17:32:46.066412Z",
     "iopub.status.busy": "2022-03-25T17:32:46.066157Z",
     "iopub.status.idle": "2022-03-25T17:32:46.077152Z",
     "shell.execute_reply": "2022-03-25T17:32:46.077502Z"
    },
    "papermill": {
     "duration": 0.02674,
     "end_time": "2022-03-25T17:32:46.077611",
     "exception": false,
     "start_time": "2022-03-25T17:32:46.050871",
     "status": "completed"
    },
    "tags": []
   },
   "outputs": [],
   "source": [
    "p.domains_source = []\n",
    "p.domains_target = []\n",
    "\n",
    "\n",
    "train_original_source = []\n",
    "val_original_source   = []\n",
    "test_original_source  = []\n",
    "\n",
    "train_original_target = []\n",
    "val_original_target   = []\n",
    "test_original_target  = []"
   ]
  },
  {
   "cell_type": "code",
   "execution_count": 11,
   "id": "e3d9c3d3",
   "metadata": {
    "execution": {
     "iopub.execute_input": "2022-03-25T17:32:46.110684Z",
     "iopub.status.busy": "2022-03-25T17:32:46.110432Z",
     "iopub.status.idle": "2022-03-25T17:32:46.123945Z",
     "shell.execute_reply": "2022-03-25T17:32:46.124343Z"
    },
    "papermill": {
     "duration": 0.029047,
     "end_time": "2022-03-25T17:32:46.124455",
     "exception": false,
     "start_time": "2022-03-25T17:32:46.095408",
     "status": "completed"
    },
    "tags": []
   },
   "outputs": [],
   "source": [
    "# global_x_transform_func = lambda x: normalize(x.to(torch.get_default_dtype()), \"unit_power\") # unit_power, unit_mag\n",
    "# global_x_transform_func = lambda x: normalize(x, \"unit_power\") # unit_power, unit_mag"
   ]
  },
  {
   "cell_type": "code",
   "execution_count": 12,
   "id": "acb78fd2",
   "metadata": {
    "execution": {
     "iopub.execute_input": "2022-03-25T17:32:46.164734Z",
     "iopub.status.busy": "2022-03-25T17:32:46.164469Z",
     "iopub.status.idle": "2022-03-25T17:32:46.178047Z",
     "shell.execute_reply": "2022-03-25T17:32:46.178533Z"
    },
    "papermill": {
     "duration": 0.035752,
     "end_time": "2022-03-25T17:32:46.178658",
     "exception": false,
     "start_time": "2022-03-25T17:32:46.142906",
     "status": "completed"
    },
    "tags": []
   },
   "outputs": [],
   "source": [
    "def add_dataset(\n",
    "    labels,\n",
    "    domains,\n",
    "    pickle_path,\n",
    "    x_transforms,\n",
    "    episode_transforms,\n",
    "    domain_prefix,\n",
    "    num_examples_per_domain_per_label,\n",
    "    source_or_target_dataset:str,\n",
    "    iterator_seed=p.seed,\n",
    "    dataset_seed=p.dataset_seed,\n",
    "    n_shot=p.n_shot,\n",
    "    n_way=p.n_way,\n",
    "    n_query=p.n_query,\n",
    "    train_val_test_k_factors=(p.train_k_factor,p.val_k_factor,p.test_k_factor),\n",
    "):\n",
    "   \n",
    "    if x_transforms == []: x_transform = None\n",
    "    else: x_transform = get_chained_transform(x_transforms)\n",
    "    \n",
    "    if episode_transforms == []: episode_transform = None\n",
    "    else: raise Exception(\"episode_transforms not implemented\")\n",
    "    \n",
    "    episode_transform = lambda tup, _prefix=domain_prefix: (_prefix + str(tup[0]), tup[1])\n",
    "\n",
    "\n",
    "    eaf = Episodic_Accessor_Factory(\n",
    "        labels=labels,\n",
    "        domains=domains,\n",
    "        num_examples_per_domain_per_label=num_examples_per_domain_per_label,\n",
    "        iterator_seed=iterator_seed,\n",
    "        dataset_seed=dataset_seed,\n",
    "        n_shot=n_shot,\n",
    "        n_way=n_way,\n",
    "        n_query=n_query,\n",
    "        train_val_test_k_factors=train_val_test_k_factors,\n",
    "        pickle_path=pickle_path,\n",
    "        x_transform_func=x_transform,\n",
    "    )\n",
    "\n",
    "    train, val, test = eaf.get_train(), eaf.get_val(), eaf.get_test()\n",
    "    train = Lazy_Iterable_Wrapper(train, episode_transform)\n",
    "    val = Lazy_Iterable_Wrapper(val, episode_transform)\n",
    "    test = Lazy_Iterable_Wrapper(test, episode_transform)\n",
    "\n",
    "    if source_or_target_dataset==\"source\":\n",
    "        train_original_source.append(train)\n",
    "        val_original_source.append(val)\n",
    "        test_original_source.append(test)\n",
    "\n",
    "        p.domains_source.extend(\n",
    "            [domain_prefix + str(u) for u in domains]\n",
    "        )\n",
    "    elif source_or_target_dataset==\"target\":\n",
    "        train_original_target.append(train)\n",
    "        val_original_target.append(val)\n",
    "        test_original_target.append(test)\n",
    "        p.domains_target.extend(\n",
    "            [domain_prefix + str(u) for u in domains]\n",
    "        )\n",
    "    else:\n",
    "        raise Exception(f\"invalid source_or_target_dataset: {source_or_target_dataset}\")\n",
    "    "
   ]
  },
  {
   "cell_type": "code",
   "execution_count": 13,
   "id": "fe266617",
   "metadata": {
    "execution": {
     "iopub.execute_input": "2022-03-25T17:32:46.214340Z",
     "iopub.status.busy": "2022-03-25T17:32:46.214090Z",
     "iopub.status.idle": "2022-03-25T17:33:39.788721Z",
     "shell.execute_reply": "2022-03-25T17:33:39.788259Z"
    },
    "papermill": {
     "duration": 53.590456,
     "end_time": "2022-03-25T17:33:39.788833",
     "exception": false,
     "start_time": "2022-03-25T17:32:46.198377",
     "status": "completed"
    },
    "tags": []
   },
   "outputs": [],
   "source": [
    "for ds in p.datasets:\n",
    "    add_dataset(**ds)"
   ]
  },
  {
   "cell_type": "code",
   "execution_count": 14,
   "id": "b90d65ac",
   "metadata": {
    "execution": {
     "iopub.execute_input": "2022-03-25T17:33:39.825477Z",
     "iopub.status.busy": "2022-03-25T17:33:39.824942Z",
     "iopub.status.idle": "2022-03-25T17:33:39.840775Z",
     "shell.execute_reply": "2022-03-25T17:33:39.841082Z"
    },
    "papermill": {
     "duration": 0.031759,
     "end_time": "2022-03-25T17:33:39.841176",
     "exception": false,
     "start_time": "2022-03-25T17:33:39.809417",
     "status": "completed"
    },
    "tags": []
   },
   "outputs": [],
   "source": [
    "# from steves_utils.CORES.utils import (\n",
    "#     ALL_NODES,\n",
    "#     ALL_NODES_MINIMUM_1000_EXAMPLES,\n",
    "#     ALL_DAYS\n",
    "# )\n",
    "\n",
    "# add_dataset(\n",
    "#     labels=ALL_NODES,\n",
    "#     domains = ALL_DAYS,\n",
    "#     num_examples_per_domain_per_label=100,\n",
    "#     pickle_path=os.path.join(get_datasets_base_path(), \"cores.stratified_ds.2022A.pkl\"),\n",
    "#     source_or_target_dataset=\"target\",\n",
    "#     x_transform_func=global_x_transform_func,\n",
    "#     domain_modifier=lambda u: f\"cores_{u}\"\n",
    "# )"
   ]
  },
  {
   "cell_type": "code",
   "execution_count": 15,
   "id": "76db484d",
   "metadata": {
    "execution": {
     "iopub.execute_input": "2022-03-25T17:33:39.875533Z",
     "iopub.status.busy": "2022-03-25T17:33:39.875277Z",
     "iopub.status.idle": "2022-03-25T17:33:39.892460Z",
     "shell.execute_reply": "2022-03-25T17:33:39.891974Z"
    },
    "papermill": {
     "duration": 0.03328,
     "end_time": "2022-03-25T17:33:39.892564",
     "exception": false,
     "start_time": "2022-03-25T17:33:39.859284",
     "status": "completed"
    },
    "tags": []
   },
   "outputs": [],
   "source": [
    "# from steves_utils.ORACLE.utils_v2 import (\n",
    "#     ALL_DISTANCES_FEET,\n",
    "#     ALL_RUNS,\n",
    "#     ALL_SERIAL_NUMBERS,\n",
    "# )\n",
    "\n",
    "\n",
    "# add_dataset(\n",
    "#     labels=ALL_SERIAL_NUMBERS,\n",
    "#     domains = list(set(ALL_DISTANCES_FEET) - {2,62}),\n",
    "#     num_examples_per_domain_per_label=100,\n",
    "#     pickle_path=os.path.join(get_datasets_base_path(), \"oracle.Run2_framed_2000Examples_stratified_ds.2022A.pkl\"),\n",
    "#     source_or_target_dataset=\"source\",\n",
    "#     x_transform_func=global_x_transform_func,\n",
    "#     domain_modifier=lambda u: f\"oracle1_{u}\"\n",
    "# )\n"
   ]
  },
  {
   "cell_type": "code",
   "execution_count": 16,
   "id": "97dea9d2",
   "metadata": {
    "execution": {
     "iopub.execute_input": "2022-03-25T17:33:39.926703Z",
     "iopub.status.busy": "2022-03-25T17:33:39.926442Z",
     "iopub.status.idle": "2022-03-25T17:33:39.937540Z",
     "shell.execute_reply": "2022-03-25T17:33:39.937215Z"
    },
    "papermill": {
     "duration": 0.026743,
     "end_time": "2022-03-25T17:33:39.937618",
     "exception": false,
     "start_time": "2022-03-25T17:33:39.910875",
     "status": "completed"
    },
    "tags": []
   },
   "outputs": [],
   "source": [
    "# from steves_utils.ORACLE.utils_v2 import (\n",
    "#     ALL_DISTANCES_FEET,\n",
    "#     ALL_RUNS,\n",
    "#     ALL_SERIAL_NUMBERS,\n",
    "# )\n",
    "\n",
    "\n",
    "# add_dataset(\n",
    "#     labels=ALL_SERIAL_NUMBERS,\n",
    "#     domains = list(set(ALL_DISTANCES_FEET) - {2,62,56}),\n",
    "#     num_examples_per_domain_per_label=100,\n",
    "#     pickle_path=os.path.join(get_datasets_base_path(), \"oracle.Run2_framed_2000Examples_stratified_ds.2022A.pkl\"),\n",
    "#     source_or_target_dataset=\"source\",\n",
    "#     x_transform_func=global_x_transform_func,\n",
    "#     domain_modifier=lambda u: f\"oracle2_{u}\"\n",
    "# )"
   ]
  },
  {
   "cell_type": "code",
   "execution_count": 17,
   "id": "6f289866",
   "metadata": {
    "execution": {
     "iopub.execute_input": "2022-03-25T17:33:39.972991Z",
     "iopub.status.busy": "2022-03-25T17:33:39.972737Z",
     "iopub.status.idle": "2022-03-25T17:33:39.989089Z",
     "shell.execute_reply": "2022-03-25T17:33:39.988659Z"
    },
    "papermill": {
     "duration": 0.032091,
     "end_time": "2022-03-25T17:33:39.989190",
     "exception": false,
     "start_time": "2022-03-25T17:33:39.957099",
     "status": "completed"
    },
    "tags": []
   },
   "outputs": [],
   "source": [
    "# add_dataset(\n",
    "#     labels=list(range(19)),\n",
    "#     domains = [0,1,2],\n",
    "#     num_examples_per_domain_per_label=100,\n",
    "#     pickle_path=os.path.join(get_datasets_base_path(), \"metehan.stratified_ds.2022A.pkl\"),\n",
    "#     source_or_target_dataset=\"target\",\n",
    "#     x_transform_func=global_x_transform_func,\n",
    "#     domain_modifier=lambda u: f\"met_{u}\"\n",
    "# )"
   ]
  },
  {
   "cell_type": "code",
   "execution_count": 18,
   "id": "86a863c3",
   "metadata": {
    "execution": {
     "iopub.execute_input": "2022-03-25T17:33:40.022722Z",
     "iopub.status.busy": "2022-03-25T17:33:40.022464Z",
     "iopub.status.idle": "2022-03-25T17:33:40.032452Z",
     "shell.execute_reply": "2022-03-25T17:33:40.032218Z"
    },
    "papermill": {
     "duration": 0.026475,
     "end_time": "2022-03-25T17:33:40.032510",
     "exception": false,
     "start_time": "2022-03-25T17:33:40.006035",
     "status": "completed"
    },
    "tags": []
   },
   "outputs": [],
   "source": [
    "# # from steves_utils.wisig.utils import (\n",
    "# #     ALL_NODES_MINIMUM_100_EXAMPLES,\n",
    "# #     ALL_NODES_MINIMUM_500_EXAMPLES,\n",
    "# #     ALL_NODES_MINIMUM_1000_EXAMPLES,\n",
    "# #     ALL_DAYS\n",
    "# # )\n",
    "\n",
    "# import steves_utils.wisig.utils as wisig\n",
    "\n",
    "\n",
    "# add_dataset(\n",
    "#     labels=wisig.ALL_NODES_MINIMUM_100_EXAMPLES,\n",
    "#     domains = wisig.ALL_DAYS,\n",
    "#     num_examples_per_domain_per_label=100,\n",
    "#     pickle_path=os.path.join(get_datasets_base_path(), \"wisig.node3-19.stratified_ds.2022A.pkl\"),\n",
    "#     source_or_target_dataset=\"target\",\n",
    "#     x_transform_func=global_x_transform_func,\n",
    "#     domain_modifier=lambda u: f\"wisig_{u}\"\n",
    "# )"
   ]
  },
  {
   "cell_type": "code",
   "execution_count": 19,
   "id": "fd5442bc",
   "metadata": {
    "execution": {
     "iopub.execute_input": "2022-03-25T17:33:40.071587Z",
     "iopub.status.busy": "2022-03-25T17:33:40.071300Z",
     "iopub.status.idle": "2022-03-25T17:33:40.088708Z",
     "shell.execute_reply": "2022-03-25T17:33:40.089102Z"
    },
    "papermill": {
     "duration": 0.038832,
     "end_time": "2022-03-25T17:33:40.089240",
     "exception": false,
     "start_time": "2022-03-25T17:33:40.050408",
     "status": "completed"
    },
    "tags": []
   },
   "outputs": [],
   "source": [
    "###################################\n",
    "# Build the dataset\n",
    "###################################\n",
    "train_original_source = Iterable_Aggregator(train_original_source, p.seed)\n",
    "val_original_source = Iterable_Aggregator(val_original_source, p.seed)\n",
    "test_original_source = Iterable_Aggregator(test_original_source, p.seed)\n",
    "\n",
    "\n",
    "train_original_target = Iterable_Aggregator(train_original_target, p.seed)\n",
    "val_original_target = Iterable_Aggregator(val_original_target, p.seed)\n",
    "test_original_target = Iterable_Aggregator(test_original_target, p.seed)\n",
    "\n",
    "# For CNN We only use X and Y. And we only train on the source.\n",
    "# Properly form the data using a transform lambda and Lazy_Iterable_Wrapper. Finally wrap them in a dataloader\n",
    "\n",
    "transform_lambda = lambda ex: ex[1] # Original is (<domain>, <episode>) so we strip down to episode only\n",
    "\n",
    "train_processed_source = Lazy_Iterable_Wrapper(train_original_source, transform_lambda)\n",
    "val_processed_source   = Lazy_Iterable_Wrapper(val_original_source, transform_lambda)\n",
    "test_processed_source  = Lazy_Iterable_Wrapper(test_original_source, transform_lambda)\n",
    "\n",
    "train_processed_target = Lazy_Iterable_Wrapper(train_original_target, transform_lambda)\n",
    "val_processed_target   = Lazy_Iterable_Wrapper(val_original_target, transform_lambda)\n",
    "test_processed_target  = Lazy_Iterable_Wrapper(test_original_target, transform_lambda)\n",
    "\n",
    "datasets = EasyDict({\n",
    "    \"source\": {\n",
    "        \"original\": {\"train\":train_original_source, \"val\":val_original_source, \"test\":test_original_source},\n",
    "        \"processed\": {\"train\":train_processed_source, \"val\":val_processed_source, \"test\":test_processed_source}\n",
    "    },\n",
    "    \"target\": {\n",
    "        \"original\": {\"train\":train_original_target, \"val\":val_original_target, \"test\":test_original_target},\n",
    "        \"processed\": {\"train\":train_processed_target, \"val\":val_processed_target, \"test\":test_processed_target}\n",
    "    },\n",
    "})"
   ]
  },
  {
   "cell_type": "code",
   "execution_count": 20,
   "id": "5b3c01fc",
   "metadata": {
    "execution": {
     "iopub.execute_input": "2022-03-25T17:33:40.125048Z",
     "iopub.status.busy": "2022-03-25T17:33:40.123459Z",
     "iopub.status.idle": "2022-03-25T17:33:47.080055Z",
     "shell.execute_reply": "2022-03-25T17:33:47.080325Z"
    },
    "papermill": {
     "duration": 6.972213,
     "end_time": "2022-03-25T17:33:47.080410",
     "exception": false,
     "start_time": "2022-03-25T17:33:40.108197",
     "status": "completed"
    },
    "tags": []
   },
   "outputs": [
    {
     "name": "stdout",
     "output_type": "stream",
     "text": [
      "{'C_2', 'C_5', 'C_4', 'C_3', 'C_1'}\n"
     ]
    },
    {
     "name": "stdout",
     "output_type": "stream",
     "text": [
      "{'O_20', 'O_32', 'O_50', 'O_8', 'O_14', 'O_44', 'O_38', 'O_26'}\n"
     ]
    },
    {
     "name": "stdout",
     "output_type": "stream",
     "text": [
      "tensor([[[-2.7572e-02, -1.8183e-01, -3.8092e-01,  ..., -6.2670e-01,\n",
      "          -1.2101e+00, -1.1712e+00],\n",
      "         [ 1.2703e-02,  2.8543e-02, -1.5628e-01,  ...,  4.4995e-02,\n",
      "           6.4128e-01,  5.5840e-01]],\n",
      "\n",
      "        [[-1.2620e-02, -6.7168e-02, -4.1648e-02,  ..., -6.4261e-01,\n",
      "          -8.8699e-02, -7.4713e-01],\n",
      "         [ 7.3373e-04, -3.2425e-02, -1.9736e-01,  ...,  3.1624e-01,\n",
      "          -9.3329e-01, -1.2671e+00]],\n",
      "\n",
      "        [[ 1.6882e-02,  4.1831e-02, -1.8504e-01,  ...,  3.5206e-02,\n",
      "           1.1101e+00,  1.3499e+00],\n",
      "         [ 6.3563e-02,  3.9439e-01,  8.3051e-01,  ..., -1.5352e+00,\n",
      "          -5.0732e-01,  8.1194e-01]],\n",
      "\n",
      "        ...,\n",
      "\n",
      "        [[-9.5216e-03, -4.6576e-02, -2.9432e-02,  ...,  5.6823e-01,\n",
      "          -4.1791e-01, -5.8599e-01],\n",
      "         [ 2.6026e-02,  1.8398e-01,  4.8331e-01,  ..., -3.4779e-01,\n",
      "          -8.1698e-02,  3.4392e-01]],\n",
      "\n",
      "        [[-1.7033e-04,  1.4136e-02,  8.0105e-02,  ..., -3.1023e-01,\n",
      "          -3.6877e-01,  3.3066e-01],\n",
      "         [-2.2142e-03, -3.8172e-02, -2.0471e-01,  ...,  3.6478e-01,\n",
      "           5.0082e-01,  2.0199e-01]],\n",
      "\n",
      "        [[-6.1740e-03, -3.0921e-02, -2.9597e-02,  ...,  2.7792e-01,\n",
      "           1.2285e+00,  6.0869e-01],\n",
      "         [-2.2746e-03, -1.2204e-02, -1.8684e-02,  ...,  1.6905e+00,\n",
      "           4.2296e-01, -3.9688e-02]]])\n"
     ]
    }
   ],
   "source": [
    "from steves_utils.transforms import get_average_magnitude, get_average_power\n",
    "\n",
    "print(set([u for u,_ in val_original_source]))\n",
    "print(set([u for u,_ in val_original_target]))\n",
    "\n",
    "s_x, s_y, q_x, q_y, _ = next(iter(train_processed_source))\n",
    "print(s_x)\n",
    "\n",
    "# for ds in [\n",
    "#     train_processed_source,\n",
    "#     val_processed_source,\n",
    "#     test_processed_source,\n",
    "#     train_processed_target,\n",
    "#     val_processed_target,\n",
    "#     test_processed_target\n",
    "# ]:\n",
    "#     for s_x, s_y, q_x, q_y, _ in ds:\n",
    "#         for X in (s_x, q_x):\n",
    "#             for x in X:\n",
    "#                 assert np.isclose(get_average_magnitude(x.numpy()), 1.0)\n",
    "#                 assert np.isclose(get_average_power(x.numpy()), 1.0)\n",
    "                "
   ]
  },
  {
   "cell_type": "code",
   "execution_count": 21,
   "id": "bbdacba1",
   "metadata": {
    "execution": {
     "iopub.execute_input": "2022-03-25T17:33:47.126381Z",
     "iopub.status.busy": "2022-03-25T17:33:47.123676Z",
     "iopub.status.idle": "2022-03-25T17:33:47.176341Z",
     "shell.execute_reply": "2022-03-25T17:33:47.176046Z"
    },
    "papermill": {
     "duration": 0.075249,
     "end_time": "2022-03-25T17:33:47.176409",
     "exception": false,
     "start_time": "2022-03-25T17:33:47.101160",
     "status": "completed"
    },
    "tags": []
   },
   "outputs": [
    {
     "name": "stdout",
     "output_type": "stream",
     "text": [
      "(2, 200)\n"
     ]
    }
   ],
   "source": [
    "###################################\n",
    "# Build the model\n",
    "###################################\n",
    "# easfsl only wants a tuple for the shape\n",
    "model = Steves_Prototypical_Network(x_net, device=p.device, x_shape=tuple(p.x_shape))\n",
    "optimizer = Adam(params=model.parameters(), lr=p.lr)"
   ]
  },
  {
   "cell_type": "code",
   "execution_count": 22,
   "id": "22b39ac5",
   "metadata": {
    "execution": {
     "iopub.execute_input": "2022-03-25T17:33:47.209222Z",
     "iopub.status.busy": "2022-03-25T17:33:47.208953Z",
     "iopub.status.idle": "2022-03-25T18:01:18.973913Z",
     "shell.execute_reply": "2022-03-25T18:01:18.973675Z"
    },
    "papermill": {
     "duration": 1651.782332,
     "end_time": "2022-03-25T18:01:18.973975",
     "exception": false,
     "start_time": "2022-03-25T17:33:47.191643",
     "status": "completed"
    },
    "tags": []
   },
   "outputs": [
    {
     "name": "stdout",
     "output_type": "stream",
     "text": [
      "epoch: 1, [batch: 1 / 6297], examples_per_second: 49.3769, train_label_loss: 2.5126, \n"
     ]
    },
    {
     "name": "stdout",
     "output_type": "stream",
     "text": [
      "epoch: 1, [batch: 630 / 6297], examples_per_second: 1872.6060, train_label_loss: 0.0817, \n"
     ]
    },
    {
     "name": "stdout",
     "output_type": "stream",
     "text": [
      "epoch: 1, [batch: 1260 / 6297], examples_per_second: 1871.5145, train_label_loss: 0.0038, \n"
     ]
    },
    {
     "name": "stdout",
     "output_type": "stream",
     "text": [
      "epoch: 1, [batch: 1889 / 6297], examples_per_second: 1968.0267, train_label_loss: 0.0110, \n"
     ]
    },
    {
     "name": "stdout",
     "output_type": "stream",
     "text": [
      "epoch: 1, [batch: 2519 / 6297], examples_per_second: 2346.9675, train_label_loss: 0.0031, \n"
     ]
    },
    {
     "name": "stdout",
     "output_type": "stream",
     "text": [
      "epoch: 1, [batch: 3149 / 6297], examples_per_second: 2093.7657, train_label_loss: 0.0190, \n"
     ]
    },
    {
     "name": "stdout",
     "output_type": "stream",
     "text": [
      "epoch: 1, [batch: 3778 / 6297], examples_per_second: 1872.3675, train_label_loss: 0.0055, \n"
     ]
    },
    {
     "name": "stdout",
     "output_type": "stream",
     "text": [
      "epoch: 1, [batch: 4408 / 6297], examples_per_second: 1869.3450, train_label_loss: 0.0004, \n"
     ]
    },
    {
     "name": "stdout",
     "output_type": "stream",
     "text": [
      "epoch: 1, [batch: 5037 / 6297], examples_per_second: 1877.0900, train_label_loss: 0.0001, \n"
     ]
    },
    {
     "name": "stdout",
     "output_type": "stream",
     "text": [
      "epoch: 1, [batch: 5667 / 6297], examples_per_second: 1871.7430, train_label_loss: 0.0001, \n"
     ]
    },
    {
     "name": "stdout",
     "output_type": "stream",
     "text": [
      "=============================================================\n",
      "epoch: 1, source_val_acc_label: 0.9984, target_val_acc_label: 0.2757, source_val_label_loss: 0.0093, target_val_label_loss: 2.2046, \n",
      "=============================================================\n"
     ]
    },
    {
     "name": "stdout",
     "output_type": "stream",
     "text": [
      "New best\n"
     ]
    },
    {
     "name": "stdout",
     "output_type": "stream",
     "text": [
      "epoch: 2, [batch: 1 / 6333], examples_per_second: 2.8423, train_label_loss: 0.0000, \n"
     ]
    },
    {
     "name": "stdout",
     "output_type": "stream",
     "text": [
      "epoch: 2, [batch: 634 / 6333], examples_per_second: 1874.3038, train_label_loss: 0.0001, \n"
     ]
    },
    {
     "name": "stdout",
     "output_type": "stream",
     "text": [
      "epoch: 2, [batch: 1267 / 6333], examples_per_second: 1875.6175, train_label_loss: 0.0111, \n"
     ]
    },
    {
     "name": "stdout",
     "output_type": "stream",
     "text": [
      "epoch: 2, [batch: 1900 / 6333], examples_per_second: 1948.9283, train_label_loss: 0.0000, \n"
     ]
    },
    {
     "name": "stdout",
     "output_type": "stream",
     "text": [
      "epoch: 2, [batch: 2533 / 6333], examples_per_second: 2334.2127, train_label_loss: 0.0001, \n"
     ]
    },
    {
     "name": "stdout",
     "output_type": "stream",
     "text": [
      "epoch: 2, [batch: 3167 / 6333], examples_per_second: 2130.8873, train_label_loss: 0.0004, \n"
     ]
    },
    {
     "name": "stdout",
     "output_type": "stream",
     "text": [
      "epoch: 2, [batch: 3800 / 6333], examples_per_second: 1874.9451, train_label_loss: 0.0000, \n"
     ]
    },
    {
     "name": "stdout",
     "output_type": "stream",
     "text": [
      "epoch: 2, [batch: 4433 / 6333], examples_per_second: 1872.3991, train_label_loss: 0.0001, \n"
     ]
    },
    {
     "name": "stdout",
     "output_type": "stream",
     "text": [
      "epoch: 2, [batch: 5066 / 6333], examples_per_second: 1877.9502, train_label_loss: 0.0936, \n"
     ]
    },
    {
     "name": "stdout",
     "output_type": "stream",
     "text": [
      "epoch: 2, [batch: 5699 / 6333], examples_per_second: 1875.2294, train_label_loss: 0.0130, \n"
     ]
    },
    {
     "name": "stdout",
     "output_type": "stream",
     "text": [
      "=============================================================\n",
      "epoch: 2, source_val_acc_label: 0.9986, target_val_acc_label: 0.3543, source_val_label_loss: 0.0097, target_val_label_loss: 1.9371, \n",
      "=============================================================\n"
     ]
    },
    {
     "name": "stdout",
     "output_type": "stream",
     "text": [
      "New best\n"
     ]
    },
    {
     "name": "stdout",
     "output_type": "stream",
     "text": [
      "epoch: 3, [batch: 1 / 6305], examples_per_second: 2.8358, train_label_loss: 0.0000, \n"
     ]
    },
    {
     "name": "stdout",
     "output_type": "stream",
     "text": [
      "epoch: 3, [batch: 631 / 6305], examples_per_second: 1875.8312, train_label_loss: 0.0000, \n"
     ]
    },
    {
     "name": "stdout",
     "output_type": "stream",
     "text": [
      "epoch: 3, [batch: 1261 / 6305], examples_per_second: 1874.4686, train_label_loss: 0.0000, \n"
     ]
    },
    {
     "name": "stdout",
     "output_type": "stream",
     "text": [
      "epoch: 3, [batch: 1892 / 6305], examples_per_second: 1937.4054, train_label_loss: 0.0000, \n"
     ]
    },
    {
     "name": "stdout",
     "output_type": "stream",
     "text": [
      "epoch: 3, [batch: 2522 / 6305], examples_per_second: 2300.8195, train_label_loss: 0.0000, \n"
     ]
    },
    {
     "name": "stdout",
     "output_type": "stream",
     "text": [
      "epoch: 3, [batch: 3153 / 6305], examples_per_second: 2151.3730, train_label_loss: 0.0000, \n"
     ]
    },
    {
     "name": "stdout",
     "output_type": "stream",
     "text": [
      "epoch: 3, [batch: 3783 / 6305], examples_per_second: 1874.1443, train_label_loss: 0.0000, \n"
     ]
    },
    {
     "name": "stdout",
     "output_type": "stream",
     "text": [
      "epoch: 3, [batch: 4413 / 6305], examples_per_second: 1871.3256, train_label_loss: 0.0000, \n"
     ]
    },
    {
     "name": "stdout",
     "output_type": "stream",
     "text": [
      "epoch: 3, [batch: 5044 / 6305], examples_per_second: 1879.5592, train_label_loss: 0.0486, \n"
     ]
    },
    {
     "name": "stdout",
     "output_type": "stream",
     "text": [
      "epoch: 3, [batch: 5674 / 6305], examples_per_second: 1873.4801, train_label_loss: 0.0002, \n"
     ]
    },
    {
     "name": "stdout",
     "output_type": "stream",
     "text": [
      "=============================================================\n",
      "epoch: 3, source_val_acc_label: 0.9995, target_val_acc_label: 0.2665, source_val_label_loss: 0.0079, target_val_label_loss: 2.7873, \n",
      "=============================================================\n"
     ]
    },
    {
     "name": "stdout",
     "output_type": "stream",
     "text": [
      "epoch: 4, [batch: 1 / 6323], examples_per_second: 2.8314, train_label_loss: 0.0000, \n"
     ]
    },
    {
     "name": "stdout",
     "output_type": "stream",
     "text": [
      "epoch: 4, [batch: 633 / 6323], examples_per_second: 1874.8732, train_label_loss: 0.0000, \n"
     ]
    },
    {
     "name": "stdout",
     "output_type": "stream",
     "text": [
      "epoch: 4, [batch: 1265 / 6323], examples_per_second: 1871.3454, train_label_loss: 0.0000, \n"
     ]
    },
    {
     "name": "stdout",
     "output_type": "stream",
     "text": [
      "epoch: 4, [batch: 1897 / 6323], examples_per_second: 1940.9464, train_label_loss: 0.0000, \n"
     ]
    },
    {
     "name": "stdout",
     "output_type": "stream",
     "text": [
      "epoch: 4, [batch: 2529 / 6323], examples_per_second: 2326.3038, train_label_loss: 0.0000, \n"
     ]
    },
    {
     "name": "stdout",
     "output_type": "stream",
     "text": [
      "epoch: 4, [batch: 3162 / 6323], examples_per_second: 2166.1739, train_label_loss: 0.0000, \n"
     ]
    },
    {
     "name": "stdout",
     "output_type": "stream",
     "text": [
      "epoch: 4, [batch: 3794 / 6323], examples_per_second: 1876.6036, train_label_loss: 0.0000, \n"
     ]
    },
    {
     "name": "stdout",
     "output_type": "stream",
     "text": [
      "epoch: 4, [batch: 4426 / 6323], examples_per_second: 1871.2360, train_label_loss: 0.0396, \n"
     ]
    },
    {
     "name": "stdout",
     "output_type": "stream",
     "text": [
      "epoch: 4, [batch: 5058 / 6323], examples_per_second: 1877.9580, train_label_loss: 0.0001, \n"
     ]
    },
    {
     "name": "stdout",
     "output_type": "stream",
     "text": [
      "epoch: 4, [batch: 5690 / 6323], examples_per_second: 1874.8624, train_label_loss: 0.0000, \n"
     ]
    },
    {
     "name": "stdout",
     "output_type": "stream",
     "text": [
      "=============================================================\n",
      "epoch: 4, source_val_acc_label: 0.9993, target_val_acc_label: 0.2466, source_val_label_loss: 0.0090, target_val_label_loss: 3.1357, \n",
      "=============================================================\n"
     ]
    },
    {
     "name": "stdout",
     "output_type": "stream",
     "text": [
      "epoch: 5, [batch: 1 / 6317], examples_per_second: 2.8389, train_label_loss: 0.0000, \n"
     ]
    },
    {
     "name": "stdout",
     "output_type": "stream",
     "text": [
      "epoch: 5, [batch: 632 / 6317], examples_per_second: 1872.2268, train_label_loss: 0.0000, \n"
     ]
    },
    {
     "name": "stdout",
     "output_type": "stream",
     "text": [
      "epoch: 5, [batch: 1264 / 6317], examples_per_second: 1873.8235, train_label_loss: 0.0000, \n"
     ]
    },
    {
     "name": "stdout",
     "output_type": "stream",
     "text": [
      "epoch: 5, [batch: 1895 / 6317], examples_per_second: 1929.4397, train_label_loss: 0.0000, \n"
     ]
    },
    {
     "name": "stdout",
     "output_type": "stream",
     "text": [
      "epoch: 5, [batch: 2527 / 6317], examples_per_second: 2337.3780, train_label_loss: 0.0206, \n"
     ]
    },
    {
     "name": "stdout",
     "output_type": "stream",
     "text": [
      "epoch: 5, [batch: 3159 / 6317], examples_per_second: 2386.3855, train_label_loss: 0.0008, \n"
     ]
    },
    {
     "name": "stdout",
     "output_type": "stream",
     "text": [
      "epoch: 5, [batch: 3790 / 6317], examples_per_second: 2357.4329, train_label_loss: 0.0000, \n"
     ]
    },
    {
     "name": "stdout",
     "output_type": "stream",
     "text": [
      "epoch: 5, [batch: 4422 / 6317], examples_per_second: 2305.2021, train_label_loss: 0.0003, \n"
     ]
    },
    {
     "name": "stdout",
     "output_type": "stream",
     "text": [
      "epoch: 5, [batch: 5053 / 6317], examples_per_second: 2228.4643, train_label_loss: 0.0000, \n"
     ]
    },
    {
     "name": "stdout",
     "output_type": "stream",
     "text": [
      "epoch: 5, [batch: 5685 / 6317], examples_per_second: 2504.1970, train_label_loss: 0.0000, \n"
     ]
    },
    {
     "name": "stdout",
     "output_type": "stream",
     "text": [
      "=============================================================\n",
      "epoch: 5, source_val_acc_label: 0.9995, target_val_acc_label: 0.2975, source_val_label_loss: 0.0075, target_val_label_loss: 2.5555, \n",
      "=============================================================\n"
     ]
    },
    {
     "name": "stdout",
     "output_type": "stream",
     "text": [
      "epoch: 6, [batch: 1 / 6329], examples_per_second: 5.3263, train_label_loss: 0.0060, \n"
     ]
    },
    {
     "name": "stdout",
     "output_type": "stream",
     "text": [
      "epoch: 6, [batch: 633 / 6329], examples_per_second: 3546.6788, train_label_loss: 0.0000, \n"
     ]
    },
    {
     "name": "stdout",
     "output_type": "stream",
     "text": [
      "epoch: 6, [batch: 1266 / 6329], examples_per_second: 3597.8894, train_label_loss: 0.0001, \n"
     ]
    },
    {
     "name": "stdout",
     "output_type": "stream",
     "text": [
      "epoch: 6, [batch: 1899 / 6329], examples_per_second: 3594.3041, train_label_loss: 0.0000, \n"
     ]
    },
    {
     "name": "stdout",
     "output_type": "stream",
     "text": [
      "epoch: 6, [batch: 2532 / 6329], examples_per_second: 2351.8430, train_label_loss: 0.0001, \n"
     ]
    },
    {
     "name": "stdout",
     "output_type": "stream",
     "text": [
      "epoch: 6, [batch: 3165 / 6329], examples_per_second: 1873.8269, train_label_loss: 0.0000, \n"
     ]
    },
    {
     "name": "stdout",
     "output_type": "stream",
     "text": [
      "epoch: 6, [batch: 3797 / 6329], examples_per_second: 1873.2250, train_label_loss: 0.0000, \n"
     ]
    },
    {
     "name": "stdout",
     "output_type": "stream",
     "text": [
      "epoch: 6, [batch: 4430 / 6329], examples_per_second: 1874.1270, train_label_loss: 0.0000, \n"
     ]
    },
    {
     "name": "stdout",
     "output_type": "stream",
     "text": [
      "epoch: 6, [batch: 5063 / 6329], examples_per_second: 1874.9501, train_label_loss: 0.0000, \n"
     ]
    },
    {
     "name": "stdout",
     "output_type": "stream",
     "text": [
      "epoch: 6, [batch: 5696 / 6329], examples_per_second: 1873.2600, train_label_loss: 0.0130, \n"
     ]
    },
    {
     "name": "stdout",
     "output_type": "stream",
     "text": [
      "=============================================================\n",
      "epoch: 6, source_val_acc_label: 0.9993, target_val_acc_label: 0.3330, source_val_label_loss: 0.0084, target_val_label_loss: 2.3595, \n",
      "=============================================================\n"
     ]
    },
    {
     "name": "stdout",
     "output_type": "stream",
     "text": [
      "Patience (3) exhausted\n"
     ]
    }
   ],
   "source": [
    "###################################\n",
    "# train\n",
    "###################################\n",
    "jig = PTN_Train_Eval_Test_Jig(model, p.BEST_MODEL_PATH, p.device)\n",
    "\n",
    "jig.train(\n",
    "    train_iterable=datasets.source.processed.train,\n",
    "    source_val_iterable=datasets.source.processed.val,\n",
    "    target_val_iterable=datasets.target.processed.val,\n",
    "    num_epochs=p.n_epoch,\n",
    "    num_logs_per_epoch=p.NUM_LOGS_PER_EPOCH,\n",
    "    patience=p.patience,\n",
    "    optimizer=optimizer,\n",
    "    criteria_for_best=p.criteria_for_best,\n",
    ")"
   ]
  },
  {
   "cell_type": "code",
   "execution_count": 23,
   "id": "31e8fabf",
   "metadata": {
    "execution": {
     "iopub.execute_input": "2022-03-25T18:01:19.031402Z",
     "iopub.status.busy": "2022-03-25T18:01:19.030444Z",
     "iopub.status.idle": "2022-03-25T18:01:19.050062Z",
     "shell.execute_reply": "2022-03-25T18:01:19.050481Z"
    },
    "papermill": {
     "duration": 0.048997,
     "end_time": "2022-03-25T18:01:19.050616",
     "exception": false,
     "start_time": "2022-03-25T18:01:19.001619",
     "status": "completed"
    },
    "tags": []
   },
   "outputs": [],
   "source": [
    "total_experiment_time_secs = time.time() - start_time_secs"
   ]
  },
  {
   "cell_type": "code",
   "execution_count": 24,
   "id": "87b9595b",
   "metadata": {
    "execution": {
     "iopub.execute_input": "2022-03-25T18:01:19.110533Z",
     "iopub.status.busy": "2022-03-25T18:01:19.110252Z",
     "iopub.status.idle": "2022-03-25T18:03:39.455850Z",
     "shell.execute_reply": "2022-03-25T18:03:39.456273Z"
    },
    "papermill": {
     "duration": 140.374541,
     "end_time": "2022-03-25T18:03:39.456419",
     "exception": false,
     "start_time": "2022-03-25T18:01:19.081878",
     "status": "completed"
    },
    "tags": []
   },
   "outputs": [],
   "source": [
    "###################################\n",
    "# Evaluate the model\n",
    "###################################\n",
    "source_test_label_accuracy, source_test_label_loss = jig.test(datasets.source.processed.test)\n",
    "target_test_label_accuracy, target_test_label_loss = jig.test(datasets.target.processed.test)\n",
    "\n",
    "source_val_label_accuracy, source_val_label_loss = jig.test(datasets.source.processed.val)\n",
    "target_val_label_accuracy, target_val_label_loss = jig.test(datasets.target.processed.val)\n",
    "\n",
    "history = jig.get_history()\n",
    "\n",
    "total_epochs_trained = len(history[\"epoch_indices\"])\n",
    "\n",
    "val_dl = Iterable_Aggregator((datasets.source.original.val,datasets.target.original.val))\n",
    "\n",
    "confusion = ptn_confusion_by_domain_over_dataloader(model, p.device, val_dl)\n",
    "per_domain_accuracy = per_domain_accuracy_from_confusion(confusion)\n",
    "\n",
    "# Add a key to per_domain_accuracy for if it was a source domain\n",
    "for domain, accuracy in per_domain_accuracy.items():\n",
    "    per_domain_accuracy[domain] = {\n",
    "        \"accuracy\": accuracy,\n",
    "        \"source?\": domain in p.domains_source\n",
    "    }\n",
    "\n",
    "# Do an independent accuracy assesment JUST TO BE SURE!\n",
    "# _source_test_label_accuracy = independent_accuracy_assesment(model, datasets.source.processed.test, p.device)\n",
    "# _target_test_label_accuracy = independent_accuracy_assesment(model, datasets.target.processed.test, p.device)\n",
    "# _source_val_label_accuracy = independent_accuracy_assesment(model, datasets.source.processed.val, p.device)\n",
    "# _target_val_label_accuracy = independent_accuracy_assesment(model, datasets.target.processed.val, p.device)\n",
    "\n",
    "# assert(_source_test_label_accuracy == source_test_label_accuracy)\n",
    "# assert(_target_test_label_accuracy == target_test_label_accuracy)\n",
    "# assert(_source_val_label_accuracy == source_val_label_accuracy)\n",
    "# assert(_target_val_label_accuracy == target_val_label_accuracy)\n",
    "\n",
    "experiment = {\n",
    "    \"experiment_name\": p.experiment_name,\n",
    "    \"parameters\": dict(p),\n",
    "    \"results\": {\n",
    "        \"source_test_label_accuracy\": source_test_label_accuracy,\n",
    "        \"source_test_label_loss\": source_test_label_loss,\n",
    "        \"target_test_label_accuracy\": target_test_label_accuracy,\n",
    "        \"target_test_label_loss\": target_test_label_loss,\n",
    "        \"source_val_label_accuracy\": source_val_label_accuracy,\n",
    "        \"source_val_label_loss\": source_val_label_loss,\n",
    "        \"target_val_label_accuracy\": target_val_label_accuracy,\n",
    "        \"target_val_label_loss\": target_val_label_loss,\n",
    "        \"total_epochs_trained\": total_epochs_trained,\n",
    "        \"total_experiment_time_secs\": total_experiment_time_secs,\n",
    "        \"confusion\": confusion,\n",
    "        \"per_domain_accuracy\": per_domain_accuracy,\n",
    "    },\n",
    "    \"history\": history,\n",
    "    \"dataset_metrics\": get_dataset_metrics(datasets, \"ptn\"),\n",
    "}"
   ]
  },
  {
   "cell_type": "code",
   "execution_count": 25,
   "id": "54a21829",
   "metadata": {
    "execution": {
     "iopub.execute_input": "2022-03-25T18:03:39.515840Z",
     "iopub.status.busy": "2022-03-25T18:03:39.515430Z",
     "iopub.status.idle": "2022-03-25T18:03:39.633747Z",
     "shell.execute_reply": "2022-03-25T18:03:39.633498Z"
    },
    "papermill": {
     "duration": 0.14788,
     "end_time": "2022-03-25T18:03:39.633809",
     "exception": false,
     "start_time": "2022-03-25T18:03:39.485929",
     "status": "completed"
    },
    "tags": []
   },
   "outputs": [
    {
     "data": {
      "image/png": "[encoded data removed]",
      "text/plain": [
       "<Figure size 1080x504 with 1 Axes>"
      ]
     },
     "metadata": {
      "needs_background": "light"
     },
     "output_type": "display_data"
    }
   ],
   "source": [
    "ax = get_loss_curve(experiment)\n",
    "plt.show()"
   ]
  },
  {
   "cell_type": "code",
   "execution_count": 26,
   "id": "fd8a0f60",
   "metadata": {
    "execution": {
     "iopub.execute_input": "2022-03-25T18:03:39.696386Z",
     "iopub.status.busy": "2022-03-25T18:03:39.695410Z",
     "iopub.status.idle": "2022-03-25T18:03:39.848629Z",
     "shell.execute_reply": "2022-03-25T18:03:39.848848Z"
    },
    "papermill": {
     "duration": 0.184961,
     "end_time": "2022-03-25T18:03:39.848930",
     "exception": false,
     "start_time": "2022-03-25T18:03:39.663969",
     "status": "completed"
    },
    "tags": []
   },
   "outputs": [
    {
     "data": {
      "text/plain": [
       "<AxesSubplot:title={'center':'Results'}>"
      ]
     },
     "execution_count": 26,
     "metadata": {},
     "output_type": "execute_result"
    },
    {
     "data": {
      "image/png": "[encoded data removed]",
      "text/plain": [
       "<Figure size 1080x504 with 1 Axes>"
      ]
     },
     "metadata": {
      "needs_background": "light"
     },
     "output_type": "display_data"
    }
   ],
   "source": [
    "get_results_table(experiment)"
   ]
  },
  {
   "cell_type": "code",
   "execution_count": 27,
   "id": "cf8dc689",
   "metadata": {
    "execution": {
     "iopub.execute_input": "2022-03-25T18:03:39.913696Z",
     "iopub.status.busy": "2022-03-25T18:03:39.913428Z",
     "iopub.status.idle": "2022-03-25T18:03:40.053845Z",
     "shell.execute_reply": "2022-03-25T18:03:40.054290Z"
    },
    "papermill": {
     "duration": 0.174854,
     "end_time": "2022-03-25T18:03:40.054429",
     "exception": false,
     "start_time": "2022-03-25T18:03:39.879575",
     "status": "completed"
    },
    "tags": []
   },
   "outputs": [
    {
     "data": {
      "text/plain": [
       "<AxesSubplot:title={'center':'Per Domain Validation Accuracy'}, xlabel='domain'>"
      ]
     },
     "execution_count": 27,
     "metadata": {},
     "output_type": "execute_result"
    },
    {
     "data": {
      "image/png": "[encoded data removed]",
      "text/plain": [
       "<Figure size 1080x504 with 1 Axes>"
      ]
     },
     "metadata": {
      "needs_background": "light"
     },
     "output_type": "display_data"
    }
   ],
   "source": [
    "get_domain_accuracies(experiment)"
   ]
  },
  {
   "cell_type": "code",
   "execution_count": 28,
   "id": "a74ae082",
   "metadata": {
    "execution": {
     "iopub.execute_input": "2022-03-25T18:03:40.121732Z",
     "iopub.status.busy": "2022-03-25T18:03:40.121461Z",
     "iopub.status.idle": "2022-03-25T18:03:40.135433Z",
     "shell.execute_reply": "2022-03-25T18:03:40.135839Z"
    },
    "papermill": {
     "duration": 0.048453,
     "end_time": "2022-03-25T18:03:40.135964",
     "exception": false,
     "start_time": "2022-03-25T18:03:40.087511",
     "status": "completed"
    },
    "tags": []
   },
   "outputs": [
    {
     "name": "stdout",
     "output_type": "stream",
     "text": [
      "Source Test Label Accuracy: 0.9989151735722285 Target Test Label Accuracy: 0.35830078125\n",
      "Source Val Label Accuracy: 0.9985697940503433 Target Val Label Accuracy: 0.354296875\n"
     ]
    }
   ],
   "source": [
    "print(\"Source Test Label Accuracy:\", experiment[\"results\"][\"source_test_label_accuracy\"], \"Target Test Label Accuracy:\", experiment[\"results\"][\"target_test_label_accuracy\"])\n",
    "print(\"Source Val Label Accuracy:\", experiment[\"results\"][\"source_val_label_accuracy\"], \"Target Val Label Accuracy:\", experiment[\"results\"][\"target_val_label_accuracy\"])"
   ]
  },
  {
   "cell_type": "code",
   "execution_count": 29,
   "id": "dacca602",
   "metadata": {
    "execution": {
     "iopub.execute_input": "2022-03-25T18:03:40.205548Z",
     "iopub.status.busy": "2022-03-25T18:03:40.205287Z",
     "iopub.status.idle": "2022-03-25T18:03:40.220890Z",
     "shell.execute_reply": "2022-03-25T18:03:40.220404Z"
    },
    "papermill": {
     "duration": 0.048717,
     "end_time": "2022-03-25T18:03:40.221001",
     "exception": false,
     "start_time": "2022-03-25T18:03:40.172284",
     "status": "completed"
    },
    "tags": [
     "experiment_json"
    ]
   },
   "outputs": [
    {
     "data": {
      "text/plain": [
       "'{\"experiment_name\": \"tl_3-filterv2:cores -> oracle.run1.framed\", \"parameters\": {\"experiment_name\": \"tl_3-filterv2:cores -> oracle.run1.framed\", \"device\": \"cuda\", \"lr\": 0.0001, \"x_shape\": [2, 200], \"n_shot\": 3, \"n_query\": 2, \"train_k_factor\": 3, \"val_k_factor\": 2, \"test_k_factor\": 2, \"torch_default_dtype\": \"torch.float32\", \"n_epoch\": 50, \"patience\": 3, \"criteria_for_best\": \"target_accuracy\", \"x_net\": [{\"class\": \"nnReshape\", \"kargs\": {\"shape\": [-1, 1, 2, 200]}}, {\"class\": \"Conv2d\", \"kargs\": {\"in_channels\": 1, \"out_channels\": 256, \"kernel_size\": [1, 7], \"bias\": false, \"padding\": [0, 3]}}, {\"class\": \"ReLU\", \"kargs\": {\"inplace\": true}}, {\"class\": \"BatchNorm2d\", \"kargs\": {\"num_features\": 256}}, {\"class\": \"Conv2d\", \"kargs\": {\"in_channels\": 256, \"out_channels\": 80, \"kernel_size\": [2, 7], \"bias\": true, \"padding\": [0, 3]}}, {\"class\": \"ReLU\", \"kargs\": {\"inplace\": true}}, {\"class\": \"BatchNorm2d\", \"kargs\": {\"num_features\": 80}}, {\"class\": \"Flatten\", \"kargs\": {}}, {\"class\": \"Linear\", \"kargs\": {\"in_features\": 16000, \"out_features\": 256}}, {\"class\": \"ReLU\", \"kargs\": {\"inplace\": true}}, {\"class\": \"BatchNorm1d\", \"kargs\": {\"num_features\": 256}}, {\"class\": \"Linear\", \"kargs\": {\"in_features\": 256, \"out_features\": 256}}], \"NUM_LOGS_PER_EPOCH\": 10, \"BEST_MODEL_PATH\": \"./best_model.pth\", \"n_way\": 16, \"datasets\": [{\"labels\": [\"1-10.\", \"1-11.\", \"1-15.\", \"1-16.\", \"1-17.\", \"1-18.\", \"1-19.\", \"10-4.\", \"10-7.\", \"11-1.\", \"11-14.\", \"11-17.\", \"11-20.\", \"11-7.\", \"13-20.\", \"13-8.\", \"14-10.\", \"14-11.\", \"14-14.\", \"14-7.\", \"15-1.\", \"15-20.\", \"16-1.\", \"16-16.\", \"17-10.\", \"17-11.\", \"17-2.\", \"19-1.\", \"19-16.\", \"19-19.\", \"19-20.\", \"19-3.\", \"2-10.\", \"2-11.\", \"2-17.\", \"2-18.\", \"2-20.\", \"2-3.\", \"2-4.\", \"2-5.\", \"2-6.\", \"2-7.\", \"2-8.\", \"3-13.\", \"3-18.\", \"3-3.\", \"4-1.\", \"4-10.\", \"4-11.\", \"4-19.\", \"5-5.\", \"6-15.\", \"7-10.\", \"7-14.\", \"8-18.\", \"8-20.\", \"8-3.\", \"8-8.\"], \"domains\": [1, 2, 3, 4, 5], \"num_examples_per_domain_per_label\": -1, \"pickle_path\": \"/mnt/wd500GB/CSC500/csc500-main/datasets/cores.stratified_ds.2022A.pkl\", \"source_or_target_dataset\": \"source\", \"x_transforms\": [\"unit_mag\", \"lowpass_+/-10MHz\", \"take_200\"], \"episode_transforms\": [], \"domain_prefix\": \"C_\"}, {\"labels\": [\"3123D52\", \"3123D65\", \"3123D79\", \"3123D80\", \"3123D54\", \"3123D70\", \"3123D7B\", \"3123D89\", \"3123D58\", \"3123D76\", \"3123D7D\", \"3123EFE\", \"3123D64\", \"3123D78\", \"3123D7E\", \"3124E4A\"], \"domains\": [32, 38, 8, 44, 14, 50, 20, 26], \"num_examples_per_domain_per_label\": 2000, \"pickle_path\": \"/mnt/wd500GB/CSC500/csc500-main/datasets/oracle.Run1_framed_2000Examples_stratified_ds.2022A.pkl\", \"source_or_target_dataset\": \"target\", \"x_transforms\": [\"unit_mag\", \"take_200\", \"resample_20Msps_to_25Msps\"], \"episode_transforms\": [], \"domain_prefix\": \"O_\"}], \"seed\": 154325, \"dataset_seed\": 154325, \"domains_source\": [\"C_1\", \"C_2\", \"C_3\", \"C_4\", \"C_5\"], \"domains_target\": [\"O_32\", \"O_38\", \"O_8\", \"O_44\", \"O_14\", \"O_50\", \"O_20\", \"O_26\"]}, \"results\": {\"source_test_label_accuracy\": 0.9989151735722285, \"source_test_label_loss\": 0.007966979406774044, \"target_test_label_accuracy\": 0.35830078125, \"target_test_label_loss\": 1.939294695854187, \"source_val_label_accuracy\": 0.9985697940503433, \"source_val_label_loss\": 0.009667031466960907, \"target_val_label_accuracy\": 0.354296875, \"target_val_label_loss\": 1.9371036291122437, \"total_epochs_trained\": 6, \"total_experiment_time_secs\": 1713.017433166504, \"confusion\": {\"C_2\": {\"21\": {\"21\": 120}, \"4\": {\"4\": 130}, \"6\": {\"6\": 123, \"21\": 1}, \"10\": {\"10\": 112}, \"33\": {\"33\": 28}, \"56\": {\"56\": 121, \"10\": 1}, \"20\": {\"20\": 132}, \"24\": {\"24\": 96}, \"45\": {\"45\": 127, \"17\": 1}, \"32\": {\"32\": 28}, \"27\": {\"27\": 148}, \"53\": {\"53\": 135, \"50\": 1}, \"8\": {\"8\": 160}, \"54\": {\"54\": 108}, \"50\": {\"50\": 131, \"21\": 2, \"52\": 1}, \"44\": {\"44\": 100}, \"5\": {\"5\": 120}, \"38\": {\"38\": 20}, \"19\": {\"19\": 132}, \"1\": {\"1\": 112}, \"30\": {\"30\": 144}, \"15\": {\"15\": 144}, \"23\": {\"23\": 146}, \"35\": {\"35\": 32}, \"22\": {\"22\": 127, \"56\": 1}, \"40\": {\"40\": 140}, \"46\": {\"46\": 126}, \"3\": {\"3\": 92}, \"48\": {\"48\": 148}, \"52\": {\"52\": 124}, \"2\": {\"2\": 32}, \"26\": {\"26\": 24}, \"17\": {\"17\": 104}, \"55\": {\"55\": 144}, \"51\": {\"51\": 122}, \"42\": {\"42\": 36}, \"41\": {\"41\": 20}, \"31\": {\"31\": 28}, \"16\": {\"16\": 138}, \"36\": {\"36\": 116}, \"49\": {\"49\": 24}, \"0\": {\"0\": 48}, \"18\": {\"18\": 48}, \"25\": {\"25\": 146}, \"9\": {\"9\": 122}, \"47\": {\"47\": 132}, \"7\": {\"7\": 36}, \"37\": {\"37\": 36}, \"13\": {\"13\": 116}, \"14\": {\"14\": 24}, \"34\": {\"34\": 28}, \"57\": {\"57\": 140}, \"11\": {\"11\": 138}, \"39\": {\"39\": 28}, \"12\": {\"12\": 92}, \"28\": {\"28\": 28}, \"29\": {\"29\": 128}, \"43\": {\"43\": 140}}, \"C_5\": {\"12\": {\"12\": 96}, \"8\": {\"8\": 142}, \"29\": {\"29\": 132}, \"57\": {\"57\": 126}, \"38\": {\"38\": 32}, \"23\": {\"23\": 124}, \"56\": {\"56\": 138}, \"49\": {\"49\": 36}, \"4\": {\"4\": 100}, \"48\": {\"48\": 136}, \"21\": {\"21\": 144}, \"30\": {\"30\": 128}, \"1\": {\"1\": 148}, \"34\": {\"34\": 36}, \"35\": {\"35\": 36}, \"55\": {\"55\": 152}, \"5\": {\"5\": 122}, \"52\": {\"52\": 126}, \"6\": {\"6\": 128}, \"36\": {\"36\": 92}, \"41\": {\"41\": 28}, \"3\": {\"3\": 99, \"49\": 1}, \"28\": {\"28\": 32}, \"18\": {\"18\": 64}, \"25\": {\"25\": 136}, \"47\": {\"47\": 100}, \"13\": {\"13\": 160}, \"11\": {\"11\": 143, \"15\": 1}, \"53\": {\"53\": 144}, \"33\": {\"33\": 32}, \"46\": {\"46\": 148}, \"50\": {\"50\": 147, \"6\": 1}, \"10\": {\"10\": 68}, \"15\": {\"15\": 138}, \"44\": {\"44\": 140}, \"2\": {\"2\": 28}, \"7\": {\"7\": 32}, \"43\": {\"43\": 138}, \"32\": {\"32\": 32}, \"0\": {\"0\": 124}, \"39\": {\"39\": 20}, \"26\": {\"26\": 24}, \"27\": {\"27\": 112}, \"54\": {\"54\": 112}, \"17\": {\"17\": 116}, \"14\": {\"14\": 44}, \"16\": {\"16\": 148}, \"9\": {\"9\": 142, \"53\": 1, \"6\": 2, \"52\": 1, \"17\": 2}, \"19\": {\"19\": 152}, \"20\": {\"20\": 138}, \"37\": {\"37\": 24}, \"24\": {\"24\": 80}, \"40\": {\"40\": 122}, \"45\": {\"45\": 123, \"55\": 1}, \"22\": {\"22\": 28}, \"42\": {\"42\": 38, \"56\": 2}, \"51\": {\"51\": 118}, \"31\": {\"31\": 36}}, \"C_1\": {\"27\": {\"27\": 142}, \"2\": {\"2\": 36}, \"33\": {\"33\": 32}, \"45\": {\"45\": 156}, \"38\": {\"38\": 24}, \"4\": {\"4\": 132}, \"31\": {\"31\": 28}, \"55\": {\"55\": 140}, \"32\": {\"32\": 32}, \"57\": {\"57\": 140}, \"14\": {\"14\": 24}, \"16\": {\"16\": 140}, \"34\": {\"34\": 24}, \"56\": {\"56\": 126}, \"24\": {\"24\": 108}, \"30\": {\"30\": 110, \"5\": 1, \"9\": 1}, \"17\": {\"17\": 64}, \"13\": {\"13\": 138}, \"39\": {\"39\": 28}, \"50\": {\"50\": 146}, \"20\": {\"20\": 140}, \"41\": {\"41\": 24}, \"53\": {\"53\": 126}, \"48\": {\"48\": 142}, \"36\": {\"36\": 63, \"16\": 1}, \"8\": {\"8\": 140}, \"15\": {\"15\": 132}, \"40\": {\"40\": 156}, \"37\": {\"37\": 32}, \"21\": {\"21\": 120}, \"35\": {\"35\": 36}, \"49\": {\"49\": 32}, \"26\": {\"26\": 24}, \"28\": {\"28\": 28}, \"12\": {\"12\": 116}, \"5\": {\"5\": 152}, \"29\": {\"29\": 140}, \"47\": {\"47\": 140}, \"10\": {\"10\": 96}, \"18\": {\"18\": 69, \"50\": 1, \"5\": 2}, \"9\": {\"9\": 126}, \"3\": {\"3\": 140}, \"52\": {\"52\": 132}, \"25\": {\"25\": 136}, \"19\": {\"19\": 156}, \"11\": {\"11\": 136}, \"7\": {\"7\": 28}, \"23\": {\"23\": 136}, \"44\": {\"44\": 132}, \"42\": {\"42\": 40}, \"54\": {\"54\": 104}, \"1\": {\"1\": 100}, \"46\": {\"46\": 128}, \"6\": {\"6\": 96}, \"43\": {\"43\": 144}, \"51\": {\"51\": 142}, \"22\": {\"22\": 135, \"24\": 1}, \"0\": {\"0\": 128}}, \"C_4\": {\"32\": {\"32\": 24}, \"2\": {\"2\": 36}, \"41\": {\"41\": 36}, \"11\": {\"11\": 101, \"10\": 1}, \"57\": {\"57\": 100}, \"6\": {\"6\": 112}, \"23\": {\"23\": 136}, \"52\": {\"52\": 116}, \"38\": {\"38\": 40}, \"50\": {\"50\": 132}, \"55\": {\"55\": 152}, \"46\": {\"46\": 154}, \"37\": {\"37\": 24}, \"20\": {\"6\": 1, \"20\": 117}, \"49\": {\"49\": 20}, \"45\": {\"45\": 96}, \"54\": {\"54\": 108}, \"3\": {\"3\": 124}, \"13\": {\"13\": 152}, \"18\": {\"18\": 107, \"3\": 1}, \"21\": {\"21\": 126}, \"43\": {\"43\": 144}, \"47\": {\"47\": 120}, \"4\": {\"4\": 132}, \"12\": {\"12\": 92}, \"9\": {\"9\": 128}, \"7\": {\"7\": 24}, \"56\": {\"56\": 112}, \"28\": {\"28\": 32}, \"44\": {\"44\": 132}, \"24\": {\"24\": 55, \"13\": 1}, \"33\": {\"33\": 36}, \"35\": {\"35\": 40}, \"51\": {\"51\": 138}, \"39\": {\"39\": 20}, \"36\": {\"36\": 92}, \"19\": {\"19\": 140}, \"0\": {\"0\": 79, \"46\": 1}, \"15\": {\"15\": 135, \"10\": 1}, \"29\": {\"29\": 124}, \"30\": {\"30\": 44}, \"1\": {\"1\": 40}, \"22\": {\"22\": 128}, \"40\": {\"40\": 146}, \"8\": {\"8\": 128}, \"53\": {\"53\": 138}, \"34\": {\"34\": 24}, \"10\": {\"10\": 122}, \"31\": {\"31\": 28}, \"17\": {\"17\": 80}, \"16\": {\"16\": 96}, \"42\": {\"42\": 32}, \"27\": {\"27\": 142}, \"14\": {\"14\": 16}, \"25\": {\"25\": 122}, \"48\": {\"48\": 132}, \"26\": {\"26\": 24}, \"5\": {\"5\": 107, \"16\": 1}}, \"C_3\": {\"14\": {\"14\": 39, \"43\": 1}, \"18\": {\"18\": 84}, \"30\": {\"30\": 120}, \"16\": {\"16\": 156}, \"1\": {\"1\": 100}, \"20\": {\"20\": 132}, \"7\": {\"7\": 36}, \"52\": {\"52\": 130}, \"9\": {\"9\": 140}, \"23\": {\"23\": 143, \"16\": 1}, \"55\": {\"55\": 164}, \"29\": {\"29\": 126}, \"56\": {\"56\": 134}, \"3\": {\"3\": 123, \"6\": 1}, \"42\": {\"42\": 28}, \"6\": {\"6\": 86, \"26\": 1, \"12\": 1}, \"5\": {\"5\": 116}, \"27\": {\"27\": 144}, \"47\": {\"47\": 92}, \"39\": {\"39\": 16}, \"34\": {\"34\": 32}, \"4\": {\"4\": 126}, \"24\": {\"24\": 104}, \"46\": {\"46\": 118}, \"50\": {\"50\": 126}, \"38\": {\"38\": 28}, \"54\": {\"54\": 100}, \"35\": {\"35\": 28}, \"2\": {\"2\": 32}, \"41\": {\"41\": 28}, \"57\": {\"57\": 118}, \"25\": {\"25\": 150}, \"48\": {\"48\": 116}, \"33\": {\"33\": 28}, \"45\": {\"45\": 60}, \"13\": {\"13\": 126}, \"36\": {\"36\": 100}, \"43\": {\"43\": 132}, \"28\": {\"28\": 28}, \"0\": {\"0\": 124}, \"12\": {\"12\": 92}, \"31\": {\"31\": 28}, \"40\": {\"40\": 116}, \"44\": {\"44\": 87, \"40\": 1}, \"32\": {\"32\": 28}, \"26\": {\"26\": 24}, \"8\": {\"8\": 116}, \"10\": {\"10\": 64}, \"15\": {\"15\": 142}, \"21\": {\"21\": 128}, \"37\": {\"37\": 28}, \"17\": {\"17\": 108}, \"51\": {\"51\": 124}, \"53\": {\"53\": 144}, \"19\": {\"19\": 136}, \"49\": {\"49\": 20}, \"11\": {\"11\": 138}, \"22\": {\"22\": 130}}, \"O_8\": {\"13\": {\"14\": 41, \"7\": 26, \"13\": 33, \"10\": 22, \"6\": 24, \"11\": 3, \"4\": 36, \"5\": 13, \"0\": 19, \"1\": 9, \"2\": 7, \"8\": 4, \"3\": 2, \"15\": 1}, \"9\": {\"9\": 232, \"10\": 5, \"5\": 3}, \"15\": {\"12\": 69, \"15\": 60, \"7\": 17, \"3\": 34, \"8\": 30, \"2\": 10, \"4\": 5, \"11\": 1, \"13\": 1, \"6\": 13}, \"2\": {\"3\": 71, \"2\": 69, \"7\": 30, \"10\": 1, \"6\": 21, \"0\": 11, \"12\": 20, \"13\": 2, \"8\": 3, \"4\": 3, \"15\": 9}, \"3\": {\"15\": 35, \"3\": 88, \"6\": 3, \"2\": 59, \"7\": 10, \"12\": 34, \"0\": 3, \"8\": 8}, \"8\": {\"15\": 42, \"8\": 73, \"6\": 23, \"12\": 36, \"11\": 10, \"7\": 10, \"2\": 1, \"1\": 14, \"4\": 9, \"3\": 6, \"0\": 3, \"13\": 5, \"10\": 2, \"14\": 6}, \"5\": {\"1\": 29, \"5\": 87, \"11\": 18, \"10\": 34, \"14\": 33, \"13\": 12, \"0\": 6, \"6\": 3, \"4\": 10, \"9\": 6, \"8\": 1, \"7\": 1}, \"14\": {\"6\": 17, \"5\": 36, \"13\": 26, \"10\": 28, \"4\": 30, \"14\": 37, \"0\": 20, \"1\": 20, \"8\": 2, \"11\": 7, \"7\": 15, \"2\": 2}, \"1\": {\"5\": 31, \"1\": 51, \"11\": 52, \"4\": 16, \"6\": 14, \"7\": 7, \"10\": 15, \"14\": 31, \"8\": 13, \"13\": 7, \"0\": 2, \"15\": 1}, \"0\": {\"4\": 24, \"0\": 47, \"2\": 15, \"13\": 33, \"14\": 28, \"6\": 22, \"10\": 28, \"1\": 8, \"7\": 24, \"11\": 1, \"3\": 5, \"12\": 1, \"5\": 2, \"8\": 2}, \"10\": {\"6\": 18, \"5\": 37, \"0\": 26, \"14\": 33, \"13\": 29, \"10\": 43, \"4\": 22, \"1\": 16, \"7\": 7, \"11\": 6, \"8\": 3}, \"6\": {\"3\": 13, \"4\": 37, \"14\": 12, \"6\": 35, \"15\": 7, \"1\": 12, \"2\": 9, \"13\": 33, \"8\": 11, \"0\": 24, \"7\": 33, \"10\": 7, \"11\": 4, \"12\": 2, \"5\": 1}, \"11\": {\"6\": 2, \"11\": 74, \"14\": 22, \"7\": 3, \"5\": 25, \"1\": 67, \"8\": 13, \"12\": 4, \"10\": 7, \"4\": 11, \"2\": 3, \"0\": 2, \"15\": 3, \"13\": 4}, \"7\": {\"6\": 49, \"3\": 20, \"4\": 26, \"8\": 11, \"7\": 34, \"2\": 20, \"13\": 18, \"0\": 35, \"11\": 5, \"14\": 13, \"15\": 1, \"12\": 3, \"10\": 3, \"5\": 1, \"1\": 1}, \"4\": {\"5\": 11, \"4\": 34, \"7\": 20, \"6\": 23, \"13\": 41, \"1\": 14, \"14\": 26, \"0\": 23, \"11\": 11, \"10\": 18, \"15\": 4, \"2\": 5, \"12\": 3, \"8\": 4, \"3\": 3}, \"12\": {\"15\": 72, \"12\": 79, \"8\": 25, \"11\": 1, \"2\": 12, \"3\": 41, \"7\": 7, \"6\": 3}}, \"O_38\": {\"13\": {\"8\": 17, \"15\": 33, \"13\": 68, \"10\": 21, \"11\": 15, \"2\": 33, \"1\": 26, \"0\": 5, \"9\": 2, \"5\": 15, \"14\": 2, \"7\": 2, \"3\": 1}, \"12\": {\"12\": 167, \"4\": 54, \"10\": 3, \"11\": 5, \"14\": 5, \"7\": 3, \"0\": 2, \"8\": 1}, \"2\": {\"2\": 120, \"8\": 3, \"11\": 17, \"13\": 34, \"14\": 26, \"10\": 10, \"15\": 22, \"1\": 6, \"5\": 1, \"0\": 1}, \"9\": {\"9\": 95, \"5\": 18, \"1\": 6, \"6\": 70, \"3\": 41, \"8\": 3, \"0\": 4, \"7\": 2, \"15\": 1}, \"15\": {\"15\": 70, \"13\": 33, \"1\": 46, \"11\": 1, \"5\": 24, \"10\": 19, \"7\": 5, \"8\": 25, \"0\": 5, \"6\": 4, \"9\": 1, \"2\": 6, \"12\": 1}, \"5\": {\"15\": 20, \"5\": 56, \"3\": 7, \"6\": 16, \"1\": 14, \"9\": 13, \"7\": 20, \"8\": 49, \"0\": 34, \"10\": 5, \"13\": 5, \"11\": 1}, \"14\": {\"11\": 65, \"14\": 103, \"13\": 8, \"10\": 18, \"12\": 6, \"2\": 31, \"15\": 5, \"8\": 2, \"7\": 1, \"0\": 1}, \"0\": {\"0\": 61, \"8\": 46, \"3\": 17, \"7\": 48, \"15\": 8, \"5\": 24, \"10\": 10, \"6\": 10, \"13\": 3, \"12\": 6, \"11\": 2, \"2\": 1, \"1\": 2, \"14\": 1, \"9\": 1}, \"3\": {\"6\": 14, \"3\": 137, \"9\": 43, \"0\": 19, \"8\": 4, \"5\": 11, \"7\": 11, \"10\": 1}, \"1\": {\"1\": 132, \"6\": 18, \"13\": 18, \"15\": 38, \"2\": 4, \"8\": 9, \"5\": 15, \"9\": 4, \"7\": 1, \"0\": 1}, \"11\": {\"14\": 70, \"11\": 83, \"10\": 21, \"2\": 26, \"13\": 6, \"15\": 13, \"5\": 2, \"12\": 8, \"1\": 1, \"4\": 6, \"0\": 3, \"8\": 1}, \"7\": {\"7\": 93, \"0\": 45, \"8\": 35, \"9\": 5, \"4\": 10, \"5\": 33, \"10\": 11, \"12\": 1, \"15\": 1, \"13\": 2, \"1\": 1, \"6\": 1, \"3\": 2}, \"8\": {\"8\": 47, \"15\": 23, \"10\": 22, \"1\": 10, \"0\": 47, \"7\": 28, \"5\": 45, \"6\": 6, \"13\": 10, \"9\": 2}, \"4\": {\"4\": 176, \"12\": 54, \"8\": 1, \"7\": 3, \"0\": 1, \"11\": 1, \"10\": 4}, \"10\": {\"14\": 24, \"8\": 32, \"0\": 13, \"11\": 21, \"10\": 59, \"7\": 17, \"15\": 30, \"13\": 14, \"12\": 8, \"6\": 1, \"5\": 13, \"2\": 6, \"4\": 1, \"1\": 1}, \"6\": {\"9\": 77, \"3\": 11, \"6\": 102, \"1\": 18, \"8\": 4, \"5\": 24, \"0\": 4}}, \"O_26\": {\"10\": {\"4\": 17, \"6\": 28, \"9\": 17, \"10\": 32, \"0\": 26, \"7\": 13, \"8\": 26, \"14\": 31, \"1\": 20, \"15\": 11, \"2\": 5, \"3\": 10, \"5\": 3, \"12\": 1}, \"12\": {\"12\": 178, \"6\": 11, \"11\": 24, \"13\": 6, \"14\": 1, \"9\": 11, \"8\": 2, \"0\": 2, \"10\": 2, \"5\": 1, \"15\": 1, \"1\": 1}, \"1\": {\"6\": 4, \"1\": 53, \"10\": 31, \"0\": 29, \"4\": 38, \"14\": 22, \"3\": 14, \"7\": 14, \"9\": 8, \"8\": 11, \"13\": 3, \"15\": 3, \"2\": 8, \"5\": 1, \"12\": 1}, \"0\": {\"14\": 27, \"15\": 10, \"6\": 22, \"4\": 31, \"7\": 18, \"1\": 23, \"9\": 11, \"8\": 20, \"3\": 10, \"2\": 5, \"10\": 27, \"0\": 34, \"5\": 1, \"13\": 1}, \"15\": {\"8\": 17, \"6\": 27, \"5\": 16, \"7\": 14, \"13\": 17, \"3\": 14, \"9\": 25, \"15\": 50, \"14\": 6, \"4\": 10, \"0\": 9, \"2\": 21, \"10\": 8, \"1\": 6}, \"13\": {\"13\": 79, \"15\": 25, \"5\": 59, \"6\": 15, \"8\": 9, \"7\": 5, \"3\": 4, \"9\": 23, \"2\": 16, \"10\": 2, \"12\": 1, \"0\": 1, \"11\": 1}, \"8\": {\"15\": 28, \"3\": 13, \"14\": 18, \"6\": 24, \"0\": 16, \"8\": 26, \"1\": 21, \"4\": 20, \"10\": 20, \"7\": 21, \"9\": 17, \"2\": 10, \"13\": 2, \"5\": 4}, \"3\": {\"14\": 9, \"2\": 39, \"1\": 14, \"4\": 12, \"7\": 38, \"15\": 21, \"9\": 14, \"3\": 55, \"8\": 14, \"0\": 6, \"10\": 5, \"5\": 7, \"6\": 4, \"13\": 2}, \"11\": {\"11\": 207, \"13\": 7, \"12\": 23, \"5\": 2, \"6\": 1}, \"4\": {\"14\": 33, \"4\": 35, \"1\": 34, \"8\": 25, \"3\": 8, \"9\": 4, \"0\": 32, \"10\": 29, \"2\": 6, \"6\": 11, \"7\": 14, \"15\": 9}, \"6\": {\"6\": 41, \"8\": 21, \"13\": 15, \"1\": 7, \"15\": 28, \"0\": 15, \"7\": 13, \"14\": 9, \"2\": 9, \"9\": 31, \"5\": 15, \"10\": 19, \"4\": 17}, \"7\": {\"6\": 10, \"1\": 12, \"4\": 18, \"3\": 35, \"7\": 23, \"0\": 19, \"14\": 21, \"8\": 18, \"2\": 22, \"9\": 13, \"15\": 24, \"5\": 5, \"10\": 18, \"13\": 2}, \"14\": {\"6\": 14, \"8\": 24, \"0\": 26, \"15\": 4, \"4\": 33, \"3\": 9, \"14\": 34, \"7\": 14, \"1\": 35, \"10\": 36, \"9\": 5, \"5\": 2, \"2\": 3, \"13\": 1}, \"2\": {\"3\": 41, \"2\": 44, \"7\": 24, \"15\": 26, \"4\": 13, \"8\": 15, \"13\": 14, \"14\": 7, \"5\": 18, \"10\": 5, \"9\": 16, \"0\": 5, \"1\": 4, \"6\": 8}, \"5\": {\"15\": 30, \"2\": 19, \"13\": 52, \"8\": 10, \"5\": 58, \"6\": 17, \"3\": 10, \"9\": 32, \"12\": 1, \"11\": 1, \"10\": 2, \"7\": 4, \"0\": 2, \"4\": 2}, \"9\": {\"14\": 4, \"0\": 8, \"6\": 35, \"3\": 19, \"5\": 17, \"13\": 18, \"15\": 16, \"2\": 23, \"8\": 16, \"4\": 13, \"9\": 45, \"10\": 11, \"7\": 7, \"1\": 6, \"12\": 2}}, \"O_20\": {\"5\": {\"7\": 10, \"5\": 26, \"2\": 17, \"13\": 7, \"0\": 36, \"9\": 16, \"10\": 4, \"12\": 20, \"1\": 31, \"3\": 32, \"15\": 23, \"8\": 8, \"4\": 6, \"6\": 2, \"14\": 2}, \"15\": {\"15\": 46, \"13\": 34, \"5\": 28, \"3\": 14, \"2\": 25, \"12\": 19, \"7\": 14, \"9\": 16, \"1\": 27, \"0\": 11, \"8\": 2, \"4\": 4}, \"9\": {\"9\": 38, \"15\": 14, \"5\": 24, \"4\": 9, \"10\": 3, \"12\": 29, \"1\": 20, \"2\": 37, \"7\": 16, \"8\": 2, \"3\": 23, \"0\": 6, \"6\": 7, \"13\": 12}, \"7\": {\"6\": 16, \"8\": 23, \"12\": 10, \"5\": 14, \"3\": 21, \"10\": 10, \"2\": 24, \"15\": 7, \"14\": 7, \"0\": 10, \"7\": 42, \"1\": 8, \"4\": 12, \"13\": 11, \"9\": 19, \"11\": 6}, \"3\": {\"4\": 17, \"6\": 5, \"1\": 18, \"15\": 15, \"13\": 8, \"7\": 17, \"0\": 12, \"9\": 21, \"10\": 16, \"2\": 19, \"12\": 29, \"8\": 13, \"5\": 22, \"14\": 7, \"3\": 20, \"11\": 1}, \"8\": {\"7\": 23, \"5\": 9, \"8\": 32, \"14\": 32, \"4\": 36, \"9\": 8, \"3\": 14, \"10\": 33, \"6\": 23, \"2\": 5, \"0\": 9, \"15\": 3, \"12\": 5, \"1\": 4, \"13\": 4}, \"4\": {\"14\": 22, \"8\": 34, \"12\": 7, \"10\": 30, \"15\": 8, \"0\": 20, \"4\": 37, \"5\": 18, \"6\": 17, \"7\": 15, \"2\": 2, \"9\": 10, \"3\": 15, \"13\": 3, \"1\": 2}, \"6\": {\"4\": 17, \"6\": 72, \"3\": 6, \"7\": 26, \"14\": 46, \"11\": 2, \"8\": 35, \"10\": 25, \"12\": 2, \"2\": 4, \"5\": 2, \"9\": 2, \"0\": 1}, \"2\": {\"5\": 21, \"13\": 29, \"4\": 4, \"1\": 22, \"3\": 22, \"2\": 25, \"0\": 11, \"9\": 26, \"8\": 6, \"14\": 1, \"15\": 25, \"12\": 22, \"7\": 16, \"11\": 3, \"10\": 4, \"6\": 3}, \"12\": {\"1\": 26, \"13\": 12, \"8\": 5, \"0\": 17, \"12\": 29, \"9\": 21, \"15\": 34, \"7\": 13, \"2\": 18, \"5\": 27, \"4\": 9, \"3\": 21, \"10\": 8}, \"0\": {\"0\": 55, \"5\": 40, \"1\": 21, \"3\": 11, \"15\": 27, \"2\": 13, \"12\": 15, \"7\": 11, \"9\": 16, \"4\": 14, \"13\": 7, \"8\": 8, \"6\": 2}, \"13\": {\"15\": 32, \"1\": 25, \"9\": 19, \"13\": 57, \"2\": 29, \"5\": 17, \"0\": 5, \"3\": 10, \"12\": 14, \"11\": 14, \"7\": 13, \"8\": 3, \"6\": 1, \"4\": 1}, \"10\": {\"6\": 22, \"10\": 56, \"4\": 38, \"14\": 49, \"12\": 8, \"7\": 11, \"8\": 25, \"2\": 1, \"5\": 2, \"3\": 17, \"9\": 7, \"1\": 1, \"15\": 2, \"13\": 1}, \"11\": {\"13\": 24, \"7\": 19, \"11\": 162, \"9\": 4, \"2\": 18, \"6\": 6, \"3\": 3, \"0\": 1, \"12\": 1, \"5\": 1, \"15\": 1}, \"14\": {\"10\": 33, \"14\": 66, \"8\": 40, \"4\": 22, \"6\": 59, \"0\": 3, \"3\": 3, \"7\": 11, \"2\": 2, \"9\": 1}, \"1\": {\"2\": 20, \"1\": 33, \"5\": 28, \"13\": 12, \"0\": 28, \"15\": 44, \"12\": 28, \"9\": 16, \"3\": 19, \"4\": 5, \"10\": 2, \"14\": 1, \"8\": 1, \"7\": 3}}, \"O_50\": {\"1\": {\"7\": 6, \"1\": 62, \"6\": 43, \"15\": 43, \"4\": 36, \"11\": 22, \"5\": 10, \"9\": 2, \"0\": 2, \"13\": 8, \"10\": 1, \"14\": 2, \"2\": 3}, \"2\": {\"2\": 136, \"0\": 74, \"10\": 10, \"1\": 5, \"4\": 2, \"14\": 7, \"13\": 2, \"5\": 1, \"12\": 1, \"8\": 1, \"9\": 1}, \"8\": {\"8\": 132, \"3\": 48, \"10\": 49, \"7\": 4, \"0\": 4, \"2\": 2, \"5\": 1}, \"7\": {\"10\": 24, \"5\": 41, \"13\": 52, \"7\": 73, \"6\": 20, \"2\": 1, \"8\": 4, \"4\": 14, \"3\": 3, \"1\": 6, \"0\": 2}, \"14\": {\"14\": 138, \"0\": 1, \"11\": 26, \"12\": 47, \"9\": 20, \"15\": 2, \"1\": 2, \"2\": 4}, \"6\": {\"1\": 36, \"13\": 31, \"6\": 55, \"4\": 32, \"5\": 20, \"15\": 30, \"7\": 15, \"0\": 6, \"2\": 5, \"11\": 5, \"10\": 5}, \"3\": {\"8\": 65, \"3\": 164, \"7\": 4, \"10\": 7}, \"4\": {\"4\": 48, \"6\": 40, \"1\": 45, \"7\": 20, \"11\": 8, \"5\": 31, \"13\": 15, \"0\": 4, \"15\": 23, \"10\": 2, \"14\": 4}, \"12\": {\"12\": 143, \"14\": 45, \"11\": 15, \"9\": 37}, \"15\": {\"4\": 40, \"11\": 36, \"15\": 87, \"6\": 17, \"1\": 38, \"12\": 1, \"9\": 3, \"7\": 5, \"13\": 3, \"14\": 3, \"5\": 6, \"2\": 1}, \"11\": {\"15\": 34, \"9\": 48, \"4\": 9, \"11\": 89, \"12\": 10, \"14\": 21, \"1\": 24, \"6\": 5}, \"0\": {\"2\": 60, \"10\": 33, \"0\": 104, \"7\": 7, \"8\": 10, \"13\": 7, \"1\": 7, \"6\": 4, \"5\": 7, \"14\": 1}, \"9\": {\"9\": 95, \"12\": 45, \"15\": 1, \"14\": 34, \"11\": 62, \"1\": 2, \"4\": 1}, \"10\": {\"10\": 72, \"5\": 16, \"1\": 4, \"8\": 38, \"7\": 23, \"13\": 30, \"0\": 41, \"2\": 6, \"6\": 6, \"4\": 2, \"3\": 2}, \"5\": {\"5\": 58, \"13\": 44, \"11\": 1, \"15\": 12, \"7\": 48, \"1\": 16, \"6\": 12, \"4\": 25, \"2\": 1, \"10\": 15, \"8\": 3, \"0\": 4, \"14\": 1}, \"13\": {\"13\": 46, \"4\": 13, \"7\": 49, \"1\": 19, \"0\": 5, \"10\": 26, \"5\": 43, \"15\": 5, \"6\": 31, \"2\": 2, \"8\": 1}}, \"O_32\": {\"2\": {\"11\": 2, \"4\": 41, \"0\": 36, \"14\": 12, \"7\": 15, \"2\": 104, \"13\": 12, \"5\": 9, \"8\": 7, \"9\": 1, \"3\": 1}, \"6\": {\"6\": 221, \"12\": 10, \"10\": 7, \"1\": 2}, \"5\": {\"7\": 26, \"11\": 11, \"4\": 29, \"8\": 22, \"3\": 24, \"13\": 31, \"5\": 46, \"2\": 18, \"0\": 14, \"14\": 19}, \"12\": {\"12\": 194, \"9\": 28, \"10\": 3, \"6\": 15}, \"13\": {\"13\": 45, \"7\": 17, \"14\": 17, \"0\": 13, \"8\": 37, \"5\": 35, \"4\": 30, \"3\": 31, \"2\": 8, \"15\": 3, \"11\": 3, \"9\": 1}, \"9\": {\"9\": 206, \"12\": 29, \"2\": 4, \"0\": 1}, \"11\": {\"11\": 95, \"7\": 45, \"14\": 58, \"3\": 9, \"5\": 12, \"13\": 9, \"0\": 5, \"4\": 3, \"15\": 1, \"8\": 3}, \"1\": {\"1\": 204, \"10\": 32, \"6\": 4}, \"3\": {\"11\": 9, \"3\": 126, \"13\": 28, \"5\": 35, \"14\": 5, \"8\": 22, \"4\": 4, \"7\": 5, \"15\": 5, \"0\": 1}, \"7\": {\"7\": 59, \"4\": 19, \"5\": 21, \"2\": 27, \"14\": 40, \"11\": 30, \"0\": 11, \"13\": 16, \"3\": 9, \"8\": 8}, \"14\": {\"7\": 47, \"0\": 15, \"14\": 51, \"11\": 57, \"5\": 13, \"2\": 17, \"8\": 7, \"3\": 8, \"13\": 10, \"4\": 15}, \"8\": {\"13\": 27, \"3\": 17, \"2\": 8, \"0\": 37, \"4\": 26, \"8\": 72, \"5\": 26, \"15\": 15, \"7\": 4, \"11\": 3, \"14\": 5}, \"4\": {\"2\": 53, \"7\": 28, \"4\": 53, \"8\": 12, \"0\": 30, \"14\": 11, \"11\": 6, \"5\": 19, \"13\": 26, \"3\": 2}, \"0\": {\"13\": 15, \"0\": 60, \"2\": 43, \"8\": 34, \"11\": 6, \"5\": 16, \"4\": 31, \"7\": 16, \"14\": 10, \"3\": 6, \"9\": 3}, \"10\": {\"10\": 195, \"1\": 34, \"6\": 8, \"12\": 3}, \"15\": {\"15\": 212, \"8\": 15, \"0\": 2, \"3\": 6, \"13\": 2, \"4\": 1, \"5\": 2}}, \"O_44\": {\"13\": {\"13\": 72, \"11\": 35, \"6\": 55, \"9\": 35, \"14\": 3, \"7\": 22, \"4\": 10, \"2\": 7, \"1\": 1}, \"4\": {\"4\": 112, \"14\": 78, \"13\": 9, \"15\": 12, \"7\": 7, \"0\": 2, \"9\": 4, \"5\": 13, \"11\": 2, \"3\": 1}, \"6\": {\"6\": 83, \"11\": 36, \"7\": 22, \"13\": 54, \"9\": 30, \"4\": 4, \"2\": 10, \"12\": 1}, \"0\": {\"15\": 55, \"0\": 88, \"14\": 6, \"8\": 55, \"4\": 3, \"5\": 33}, \"10\": {\"12\": 41, \"1\": 36, \"10\": 97, \"2\": 36, \"9\": 5, \"3\": 14, \"7\": 11}, \"7\": {\"9\": 54, \"2\": 52, \"11\": 6, \"7\": 66, \"6\": 24, \"3\": 7, \"13\": 19, \"10\": 9, \"4\": 1, \"1\": 2}, \"14\": {\"14\": 76, \"4\": 73, \"5\": 35, \"15\": 41, \"0\": 8, \"11\": 2, \"8\": 2, \"13\": 3}, \"15\": {\"14\": 37, \"0\": 43, \"15\": 83, \"5\": 28, \"4\": 10, \"8\": 39}, \"5\": {\"0\": 39, \"14\": 46, \"5\": 87, \"4\": 15, \"8\": 22, \"15\": 31}, \"2\": {\"10\": 49, \"2\": 73, \"3\": 13, \"7\": 35, \"6\": 7, \"9\": 19, \"1\": 21, \"13\": 4, \"12\": 15, \"11\": 4}, \"9\": {\"7\": 47, \"9\": 68, \"11\": 11, \"13\": 34, \"6\": 33, \"4\": 12, \"2\": 26, \"14\": 3, \"1\": 3, \"10\": 3}, \"12\": {\"1\": 74, \"12\": 83, \"10\": 43, \"3\": 30, \"2\": 10}, \"8\": {\"0\": 76, \"8\": 113, \"15\": 30, \"5\": 19, \"14\": 2}, \"3\": {\"1\": 59, \"3\": 117, \"12\": 34, \"2\": 11, \"10\": 11, \"7\": 6, \"9\": 2}, \"1\": {\"1\": 72, \"3\": 54, \"12\": 61, \"2\": 15, \"7\": 7, \"10\": 31}, \"11\": {\"11\": 128, \"13\": 46, \"6\": 38, \"9\": 16, \"7\": 7, \"4\": 2, \"2\": 3}}, \"O_14\": {\"1\": {\"4\": 19, \"8\": 16, \"15\": 7, \"5\": 48, \"1\": 110, \"2\": 8, \"7\": 20, \"3\": 11, \"13\": 1}, \"15\": {\"15\": 117, \"2\": 7, \"6\": 2, \"7\": 83, \"5\": 18, \"13\": 4, \"1\": 6, \"14\": 2, \"4\": 1}, \"10\": {\"10\": 86, \"6\": 9, \"14\": 10, \"11\": 28, \"3\": 11, \"0\": 69, \"9\": 3, \"13\": 12, \"5\": 2, \"2\": 4, \"4\": 6}, \"2\": {\"2\": 54, \"13\": 16, \"5\": 31, \"3\": 27, \"6\": 33, \"4\": 26, \"14\": 30, \"0\": 8, \"7\": 6, \"15\": 4, \"1\": 3, \"10\": 2}, \"9\": {\"9\": 155, \"12\": 45, \"11\": 15, \"3\": 3, \"10\": 7, \"0\": 13, \"8\": 2}, \"5\": {\"4\": 33, \"1\": 47, \"5\": 50, \"7\": 19, \"8\": 3, \"3\": 29, \"15\": 15, \"14\": 7, \"2\": 28, \"6\": 4, \"13\": 5}, \"7\": {\"15\": 68, \"1\": 28, \"7\": 131, \"2\": 3, \"3\": 1, \"13\": 1, \"5\": 6, \"8\": 2}, \"13\": {\"14\": 35, \"6\": 67, \"13\": 65, \"7\": 1, \"10\": 8, \"0\": 7, \"5\": 6, \"2\": 22, \"15\": 5, \"4\": 18, \"3\": 6}, \"8\": {\"8\": 192, \"9\": 6, \"4\": 7, \"1\": 22, \"0\": 3, \"3\": 7, \"5\": 3}, \"6\": {\"13\": 50, \"6\": 62, \"14\": 64, \"4\": 13, \"3\": 11, \"2\": 26, \"5\": 4, \"10\": 6, \"0\": 3, \"15\": 1}, \"3\": {\"3\": 60, \"2\": 26, \"5\": 26, \"10\": 11, \"0\": 22, \"6\": 17, \"4\": 33, \"14\": 22, \"13\": 10, \"1\": 9, \"8\": 3, \"9\": 1}, \"12\": {\"12\": 166, \"9\": 68, \"11\": 6}, \"0\": {\"10\": 42, \"11\": 34, \"4\": 15, \"0\": 84, \"9\": 9, \"6\": 5, \"3\": 27, \"14\": 12, \"5\": 1, \"13\": 5, \"8\": 1, \"2\": 3, \"1\": 2}, \"4\": {\"7\": 3, \"4\": 61, \"1\": 21, \"5\": 52, \"2\": 17, \"6\": 7, \"13\": 15, \"3\": 32, \"14\": 7, \"0\": 6, \"8\": 7, \"15\": 7, \"10\": 5}, \"14\": {\"14\": 70, \"2\": 43, \"0\": 13, \"6\": 33, \"13\": 40, \"4\": 10, \"5\": 7, \"3\": 15, \"10\": 9}, \"11\": {\"0\": 46, \"11\": 123, \"10\": 38, \"9\": 18, \"14\": 6, \"4\": 1, \"12\": 3, \"2\": 2, \"13\": 1, \"3\": 2}}}, \"per_domain_accuracy\": {\"C_2\": {\"accuracy\": 0.9985795454545454, \"source?\": true}, \"C_5\": {\"accuracy\": 0.9978932584269663, \"source?\": true}, \"C_1\": {\"accuracy\": 0.9987980769230769, \"source?\": true}, \"C_4\": {\"accuracy\": 0.9986901197604791, \"source?\": true}, \"C_3\": {\"accuracy\": 0.9989035087719298, \"source?\": true}, \"O_8\": {\"accuracy\": 0.28020833333333334, \"source?\": false}, \"O_38\": {\"accuracy\": 0.40859375, \"source?\": false}, \"O_26\": {\"accuracy\": 0.25885416666666666, \"source?\": false}, \"O_20\": {\"accuracy\": 0.20729166666666668, \"source?\": false}, \"O_50\": {\"accuracy\": 0.39114583333333336, \"source?\": false}, \"O_32\": {\"accuracy\": 0.5059895833333333, \"source?\": false}, \"O_44\": {\"accuracy\": 0.3692708333333333, \"source?\": false}, \"O_14\": {\"accuracy\": 0.41302083333333334, \"source?\": false}}}, \"history\": {\"epoch_indices\": [1, 2, 3, 4, 5, 6], \"train_label_loss\": [0.03181233893620381, 0.008764837817038875, 0.0056521788250763925, 0.004895748812440734, 0.004526979297024061, 0.003259069476540797], \"source_val_label_loss\": [0.009332263842225075, 0.009667031466960907, 0.00793696753680706, 0.00897451862692833, 0.007504035718739033, 0.008425051346421242], \"target_val_label_loss\": [2.2046492099761963, 1.9371036291122437, 2.7872695922851562, 3.1357052326202393, 2.555460214614868, 2.3594810962677], \"source_val_acc_label\": [0.9983552631578947, 0.9985697940503433, 0.9995351830663616, 0.9993206521739131, 0.9994636727688787, 0.9992848970251716], \"target_val_acc_label\": [0.27568359375, 0.354296875, 0.26650390625, 0.24658203125, 0.2975260416666667, 0.33297526041666664]}, \"dataset_metrics\": {\"source\": {\"train\": {\"n_unique_x\": 175171, \"n_unique_y\": 58, \"n_batch/episode\": 6316}, \"val\": {\"n_unique_x\": 37135, \"n_unique_y\": 58, \"n_batch/episode\": 874}, \"test\": {\"n_unique_x\": 37673, \"n_unique_y\": 58, \"n_batch/episode\": 893}}, \"target\": {\"train\": {\"n_unique_x\": 179200, \"n_unique_y\": 16, \"n_batch/episode\": 6720}, \"val\": {\"n_unique_x\": 38400, \"n_unique_y\": 16, \"n_batch/episode\": 960}, \"test\": {\"n_unique_x\": 38400, \"n_unique_y\": 16, \"n_batch/episode\": 960}}}}'"
      ]
     },
     "execution_count": 29,
     "metadata": {},
     "output_type": "execute_result"
    }
   ],
   "source": [
    "json.dumps(experiment)"
   ]
  }
 ],
 "metadata": {
  "celltoolbar": "Tags",
  "kernelspec": {
   "display_name": "Python 3 (ipykernel)",
   "language": "python",
   "name": "python3"
  },
  "language_info": {
   "codemirror_mode": {
    "name": "ipython",
    "version": 3
   },
   "file_extension": ".py",
   "mimetype": "text/x-python",
   "name": "python",
   "nbconvert_exporter": "python",
   "pygments_lexer": "ipython3",
   "version": "3.8.10"
  },
  "papermill": {
   "default_parameters": {},
   "duration": 1857.714149,
   "end_time": "2022-03-25T18:03:41.567277",
   "environment_variables": {},
   "exception": null,
   "input_path": "/mnt/wd500GB/CSC500/csc500-main/csc500-notebooks/templates/tl_ptn_template.ipynb",
   "output_path": "trial.ipynb",
   "parameters": {
    "parameters": {
     "BEST_MODEL_PATH": "./best_model.pth",
     "NUM_LOGS_PER_EPOCH": 10,
     "criteria_for_best": "target_accuracy",
     "dataset_seed": 154325,
     "datasets": [
      {
       "domain_prefix": "C_",
       "domains": [
        1,
        2,
        3,
        4,
        5
       ],
       "episode_transforms": [],
       "labels": [
        "1-10.",
        "1-11.",
        "1-15.",
        "1-16.",
        "1-17.",
        "1-18.",
        "1-19.",
        "10-4.",
        "10-7.",
        "11-1.",
        "11-14.",
        "11-17.",
        "11-20.",
        "11-7.",
        "13-20.",
        "13-8.",
        "14-10.",
        "14-11.",
        "14-14.",
        "14-7.",
        "15-1.",
        "15-20.",
        "16-1.",
        "16-16.",
        "17-10.",
        "17-11.",
        "17-2.",
        "19-1.",
        "19-16.",
        "19-19.",
        "19-20.",
        "19-3.",
        "2-10.",
        "2-11.",
        "2-17.",
        "2-18.",
        "2-20.",
        "2-3.",
        "2-4.",
        "2-5.",
        "2-6.",
        "2-7.",
        "2-8.",
        "3-13.",
        "3-18.",
        "3-3.",
        "4-1.",
        "4-10.",
        "4-11.",
        "4-19.",
        "5-5.",
        "6-15.",
        "7-10.",
        "7-14.",
        "8-18.",
        "8-20.",
        "8-3.",
        "8-8."
       ],
       "num_examples_per_domain_per_label": -1,
       "pickle_path": "/mnt/wd500GB/CSC500/csc500-main/datasets/cores.stratified_ds.2022A.pkl",
       "source_or_target_dataset": "source",
       "x_transforms": [
        "unit_mag",
        "lowpass_+/-10MHz",
        "take_200"
       ]
      },
      {
       "domain_prefix": "O_",
       "domains": [
        32,
        38,
        8,
        44,
        14,
        50,
        20,
        26
       ],
       "episode_transforms": [],
       "labels": [
        "3123D52",
        "3123D65",
        "3123D79",
        "3123D80",
        "3123D54",
        "3123D70",
        "3123D7B",
        "3123D89",
        "3123D58",
        "3123D76",
        "3123D7D",
        "3123EFE",
        "3123D64",
        "3123D78",
        "3123D7E",
        "3124E4A"
       ],
       "num_examples_per_domain_per_label": 2000,
       "pickle_path": "/mnt/wd500GB/CSC500/csc500-main/datasets/oracle.Run1_framed_2000Examples_stratified_ds.2022A.pkl",
       "source_or_target_dataset": "target",
       "x_transforms": [
        "unit_mag",
        "take_200",
        "resample_20Msps_to_25Msps"
       ]
      }
     ],
     "device": "cuda",
     "experiment_name": "tl_3-filterv2:cores -> oracle.run1.framed",
     "lr": 0.0001,
     "n_epoch": 50,
     "n_query": 2,
     "n_shot": 3,
     "n_way": 16,
     "patience": 3,
     "seed": 154325,
     "test_k_factor": 2,
     "torch_default_dtype": "torch.float32",
     "train_k_factor": 3,
     "val_k_factor": 2,
     "x_net": [
      {
       "class": "nnReshape",
       "kargs": {
        "shape": [
         -1,
         1,
         2,
         200
        ]
       }
      },
      {
       "class": "Conv2d",
       "kargs": {
        "bias": false,
        "in_channels": 1,
        "kernel_size": [
         1,
         7
        ],
        "out_channels": 256,
        "padding": [
         0,
         3
        ]
       }
      },
      {
       "class": "ReLU",
       "kargs": {
        "inplace": true
       }
      },
      {
       "class": "BatchNorm2d",
       "kargs": {
        "num_features": 256
       }
      },
      {
       "class": "Conv2d",
       "kargs": {
        "bias": true,
        "in_channels": 256,
        "kernel_size": [
         2,
         7
        ],
        "out_channels": 80,
        "padding": [
         0,
         3
        ]
       }
      },
      {
       "class": "ReLU",
       "kargs": {
        "inplace": true
       }
      },
      {
       "class": "BatchNorm2d",
       "kargs": {
        "num_features": 80
       }
      },
      {
       "class": "Flatten",
       "kargs": {}
      },
      {
       "class": "Linear",
       "kargs": {
        "in_features": 16000,
        "out_features": 256
       }
      },
      {
       "class": "ReLU",
       "kargs": {
        "inplace": true
       }
      },
      {
       "class": "BatchNorm1d",
       "kargs": {
        "num_features": 256
       }
      },
      {
       "class": "Linear",
       "kargs": {
        "in_features": 256,
        "out_features": 256
       }
      }
     ],
     "x_shape": [
      2,
      200
     ]
    }
   },
   "start_time": "2022-03-25T17:32:43.853128",
   "version": "2.3.4"
  }
 },
 "nbformat": 4,
 "nbformat_minor": 5
}