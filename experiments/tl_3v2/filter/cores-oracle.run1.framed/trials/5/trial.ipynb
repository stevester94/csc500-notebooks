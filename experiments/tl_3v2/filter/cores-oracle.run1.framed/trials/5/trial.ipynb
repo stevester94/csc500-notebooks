{
 "cells": [
  {
   "cell_type": "markdown",
   "id": "9fea5f46",
   "metadata": {
    "papermill": {
     "duration": 0.019423,
     "end_time": "2022-03-25T16:45:04.734490",
     "exception": false,
     "start_time": "2022-03-25T16:45:04.715067",
     "status": "completed"
    },
    "tags": []
   },
   "source": [
    "# Transfer Learning Template"
   ]
  },
  {
   "cell_type": "code",
   "execution_count": 1,
   "id": "0902182a",
   "metadata": {
    "execution": {
     "iopub.execute_input": "2022-03-25T16:45:04.780041Z",
     "iopub.status.busy": "2022-03-25T16:45:04.779470Z",
     "iopub.status.idle": "2022-03-25T16:45:05.734668Z",
     "shell.execute_reply": "2022-03-25T16:45:05.734142Z"
    },
    "papermill": {
     "duration": 0.987503,
     "end_time": "2022-03-25T16:45:05.734783",
     "exception": false,
     "start_time": "2022-03-25T16:45:04.747280",
     "status": "completed"
    },
    "tags": []
   },
   "outputs": [],
   "source": [
    "%load_ext autoreload\n",
    "%autoreload 2\n",
    "%matplotlib inline\n",
    "\n",
    "    \n",
    "import os, json, sys, time, random\n",
    "import numpy as np\n",
    "import torch\n",
    "from torch.optim import Adam\n",
    "from  easydict import EasyDict\n",
    "import matplotlib.pyplot as plt\n",
    "\n",
    "from steves_models.steves_ptn import Steves_Prototypical_Network\n",
    "\n",
    "from steves_utils.lazy_iterable_wrapper import Lazy_Iterable_Wrapper\n",
    "from steves_utils.iterable_aggregator import Iterable_Aggregator\n",
    "from steves_utils.ptn_train_eval_test_jig import  PTN_Train_Eval_Test_Jig\n",
    "from steves_utils.torch_sequential_builder import build_sequential\n",
    "from steves_utils.torch_utils import get_dataset_metrics, ptn_confusion_by_domain_over_dataloader\n",
    "from steves_utils.utils_v2 import (per_domain_accuracy_from_confusion, get_datasets_base_path)\n",
    "from steves_utils.PTN.utils import independent_accuracy_assesment\n",
    "\n",
    "from torch.utils.data import DataLoader\n",
    "\n",
    "from steves_utils.stratified_dataset.episodic_accessor import Episodic_Accessor_Factory\n",
    "\n",
    "from steves_utils.ptn_do_report import (\n",
    "    get_loss_curve,\n",
    "    get_results_table,\n",
    "    get_parameters_table,\n",
    "    get_domain_accuracies,\n",
    ")\n",
    "\n",
    "from steves_utils.transforms import get_chained_transform"
   ]
  },
  {
   "cell_type": "markdown",
   "id": "41c840b4",
   "metadata": {
    "papermill": {
     "duration": 0.013377,
     "end_time": "2022-03-25T16:45:05.765587",
     "exception": false,
     "start_time": "2022-03-25T16:45:05.752210",
     "status": "completed"
    },
    "tags": []
   },
   "source": [
    "# Allowed Parameters\n",
    "These are allowed parameters, not defaults\n",
    "Each of these values need to be present in the injected parameters (the notebook will raise an exception if they are not present)\n",
    "\n",
    "Papermill uses the cell tag \"parameters\" to inject the real parameters below this cell.\n",
    "Enable tags to see what I mean"
   ]
  },
  {
   "cell_type": "code",
   "execution_count": 2,
   "id": "fd44eb83",
   "metadata": {
    "execution": {
     "iopub.execute_input": "2022-03-25T16:45:05.794275Z",
     "iopub.status.busy": "2022-03-25T16:45:05.792886Z",
     "iopub.status.idle": "2022-03-25T16:45:05.808543Z",
     "shell.execute_reply": "2022-03-25T16:45:05.808089Z"
    },
    "papermill": {
     "duration": 0.030413,
     "end_time": "2022-03-25T16:45:05.808650",
     "exception": false,
     "start_time": "2022-03-25T16:45:05.778237",
     "status": "completed"
    },
    "tags": []
   },
   "outputs": [],
   "source": [
    "required_parameters = {\n",
    "    \"experiment_name\",\n",
    "    \"lr\",\n",
    "    \"device\",\n",
    "    \"seed\",\n",
    "    \"dataset_seed\",\n",
    "    \"n_shot\",\n",
    "    \"n_query\",\n",
    "    \"n_way\",\n",
    "    \"train_k_factor\",\n",
    "    \"val_k_factor\",\n",
    "    \"test_k_factor\",\n",
    "    \"n_epoch\",\n",
    "    \"patience\",\n",
    "    \"criteria_for_best\",\n",
    "    \"x_net\",\n",
    "    \"datasets\",\n",
    "    \"torch_default_dtype\",\n",
    "    \"NUM_LOGS_PER_EPOCH\",\n",
    "    \"BEST_MODEL_PATH\",\n",
    "    \"x_shape\",\n",
    "}"
   ]
  },
  {
   "cell_type": "code",
   "execution_count": 3,
   "id": "fa3f0049",
   "metadata": {
    "execution": {
     "iopub.execute_input": "2022-03-25T16:45:05.849502Z",
     "iopub.status.busy": "2022-03-25T16:45:05.840697Z",
     "iopub.status.idle": "2022-03-25T16:45:05.862187Z",
     "shell.execute_reply": "2022-03-25T16:45:05.861708Z"
    },
    "papermill": {
     "duration": 0.035728,
     "end_time": "2022-03-25T16:45:05.862291",
     "exception": false,
     "start_time": "2022-03-25T16:45:05.826563",
     "status": "completed"
    },
    "tags": [
     "parameters"
    ]
   },
   "outputs": [],
   "source": [
    "from steves_utils.CORES.utils import (\n",
    "    ALL_NODES,\n",
    "    ALL_NODES_MINIMUM_1000_EXAMPLES,\n",
    "    ALL_DAYS\n",
    ")\n",
    "\n",
    "from steves_utils.ORACLE.utils_v2 import (\n",
    "    ALL_DISTANCES_FEET_NARROWED,\n",
    "    ALL_RUNS,\n",
    "    ALL_SERIAL_NUMBERS,\n",
    ")\n",
    "\n",
    "standalone_parameters = {}\n",
    "standalone_parameters[\"experiment_name\"] = \"STANDALONE PTN\"\n",
    "standalone_parameters[\"lr\"] = 0.001\n",
    "standalone_parameters[\"device\"] = \"cuda\"\n",
    "\n",
    "standalone_parameters[\"seed\"] = 1337\n",
    "standalone_parameters[\"dataset_seed\"] = 1337\n",
    "\n",
    "standalone_parameters[\"n_way\"] = 8\n",
    "standalone_parameters[\"n_shot\"] = 3\n",
    "standalone_parameters[\"n_query\"]  = 2\n",
    "standalone_parameters[\"train_k_factor\"] = 1\n",
    "standalone_parameters[\"val_k_factor\"] = 2\n",
    "standalone_parameters[\"test_k_factor\"] = 2\n",
    "\n",
    "\n",
    "standalone_parameters[\"n_epoch\"] = 50\n",
    "\n",
    "standalone_parameters[\"patience\"] = 10\n",
    "standalone_parameters[\"criteria_for_best\"] = \"source_loss\"\n",
    "\n",
    "standalone_parameters[\"datasets\"] = [\n",
    "    {\n",
    "        \"labels\": ALL_SERIAL_NUMBERS,\n",
    "        \"domains\": ALL_DISTANCES_FEET_NARROWED,\n",
    "        \"num_examples_per_domain_per_label\": 100,\n",
    "        \"pickle_path\": os.path.join(get_datasets_base_path(), \"oracle.Run1_framed_2000Examples_stratified_ds.2022A.pkl\"),\n",
    "        \"source_or_target_dataset\": \"source\",\n",
    "        \"x_transforms\": [\"unit_mag\", \"minus_two\"],\n",
    "        \"episode_transforms\": [],\n",
    "        \"domain_prefix\": \"ORACLE_\"\n",
    "    },\n",
    "    {\n",
    "        \"labels\": ALL_NODES,\n",
    "        \"domains\": ALL_DAYS,\n",
    "        \"num_examples_per_domain_per_label\": 100,\n",
    "        \"pickle_path\": os.path.join(get_datasets_base_path(), \"cores.stratified_ds.2022A.pkl\"),\n",
    "        \"source_or_target_dataset\": \"target\",\n",
    "        \"x_transforms\": [\"unit_power\", \"times_zero\"],\n",
    "        \"episode_transforms\": [],\n",
    "        \"domain_prefix\": \"CORES_\"\n",
    "    }   \n",
    "]\n",
    "\n",
    "standalone_parameters[\"torch_default_dtype\"] = \"torch.float32\" \n",
    "\n",
    "\n",
    "\n",
    "standalone_parameters[\"x_net\"] =     [\n",
    "    {\"class\": \"nnReshape\", \"kargs\": {\"shape\":[-1, 1, 2, 256]}},\n",
    "    {\"class\": \"Conv2d\", \"kargs\": { \"in_channels\":1, \"out_channels\":256, \"kernel_size\":(1,7), \"bias\":False, \"padding\":(0,3), },},\n",
    "    {\"class\": \"ReLU\", \"kargs\": {\"inplace\": True}},\n",
    "    {\"class\": \"BatchNorm2d\", \"kargs\": {\"num_features\":256}},\n",
    "\n",
    "    {\"class\": \"Conv2d\", \"kargs\": { \"in_channels\":256, \"out_channels\":80, \"kernel_size\":(2,7), \"bias\":True, \"padding\":(0,3), },},\n",
    "    {\"class\": \"ReLU\", \"kargs\": {\"inplace\": True}},\n",
    "    {\"class\": \"BatchNorm2d\", \"kargs\": {\"num_features\":80}},\n",
    "    {\"class\": \"Flatten\", \"kargs\": {}},\n",
    "\n",
    "    {\"class\": \"Linear\", \"kargs\": {\"in_features\": 80*256, \"out_features\": 256}}, # 80 units per IQ pair\n",
    "    {\"class\": \"ReLU\", \"kargs\": {\"inplace\": True}},\n",
    "    {\"class\": \"BatchNorm1d\", \"kargs\": {\"num_features\":256}},\n",
    "\n",
    "    {\"class\": \"Linear\", \"kargs\": {\"in_features\": 256, \"out_features\": 256}},\n",
    "]\n",
    "\n",
    "# Parameters relevant to results\n",
    "# These parameters will basically never need to change\n",
    "standalone_parameters[\"NUM_LOGS_PER_EPOCH\"] = 10\n",
    "standalone_parameters[\"BEST_MODEL_PATH\"] = \"./best_model.pth\"\n",
    "\n",
    "\n",
    "\n",
    "\n"
   ]
  },
  {
   "cell_type": "code",
   "execution_count": 4,
   "id": "9497f30a",
   "metadata": {
    "execution": {
     "iopub.execute_input": "2022-03-25T16:45:05.903301Z",
     "iopub.status.busy": "2022-03-25T16:45:05.902956Z",
     "iopub.status.idle": "2022-03-25T16:45:05.914859Z",
     "shell.execute_reply": "2022-03-25T16:45:05.914492Z"
    },
    "papermill": {
     "duration": 0.034964,
     "end_time": "2022-03-25T16:45:05.914944",
     "exception": false,
     "start_time": "2022-03-25T16:45:05.879980",
     "status": "completed"
    },
    "tags": [
     "injected-parameters"
    ]
   },
   "outputs": [],
   "source": [
    "# Parameters\n",
    "parameters = {\n",
    "    \"experiment_name\": \"tl_3-filterv2:cores -> oracle.run1.framed\",\n",
    "    \"device\": \"cuda\",\n",
    "    \"lr\": 0.0001,\n",
    "    \"x_shape\": [2, 200],\n",
    "    \"n_shot\": 3,\n",
    "    \"n_query\": 2,\n",
    "    \"train_k_factor\": 3,\n",
    "    \"val_k_factor\": 2,\n",
    "    \"test_k_factor\": 2,\n",
    "    \"torch_default_dtype\": \"torch.float32\",\n",
    "    \"n_epoch\": 50,\n",
    "    \"patience\": 3,\n",
    "    \"criteria_for_best\": \"target_accuracy\",\n",
    "    \"x_net\": [\n",
    "        {\"class\": \"nnReshape\", \"kargs\": {\"shape\": [-1, 1, 2, 200]}},\n",
    "        {\n",
    "            \"class\": \"Conv2d\",\n",
    "            \"kargs\": {\n",
    "                \"in_channels\": 1,\n",
    "                \"out_channels\": 256,\n",
    "                \"kernel_size\": [1, 7],\n",
    "                \"bias\": False,\n",
    "                \"padding\": [0, 3],\n",
    "            },\n",
    "        },\n",
    "        {\"class\": \"ReLU\", \"kargs\": {\"inplace\": True}},\n",
    "        {\"class\": \"BatchNorm2d\", \"kargs\": {\"num_features\": 256}},\n",
    "        {\n",
    "            \"class\": \"Conv2d\",\n",
    "            \"kargs\": {\n",
    "                \"in_channels\": 256,\n",
    "                \"out_channels\": 80,\n",
    "                \"kernel_size\": [2, 7],\n",
    "                \"bias\": True,\n",
    "                \"padding\": [0, 3],\n",
    "            },\n",
    "        },\n",
    "        {\"class\": \"ReLU\", \"kargs\": {\"inplace\": True}},\n",
    "        {\"class\": \"BatchNorm2d\", \"kargs\": {\"num_features\": 80}},\n",
    "        {\"class\": \"Flatten\", \"kargs\": {}},\n",
    "        {\"class\": \"Linear\", \"kargs\": {\"in_features\": 16000, \"out_features\": 256}},\n",
    "        {\"class\": \"ReLU\", \"kargs\": {\"inplace\": True}},\n",
    "        {\"class\": \"BatchNorm1d\", \"kargs\": {\"num_features\": 256}},\n",
    "        {\"class\": \"Linear\", \"kargs\": {\"in_features\": 256, \"out_features\": 256}},\n",
    "    ],\n",
    "    \"NUM_LOGS_PER_EPOCH\": 10,\n",
    "    \"BEST_MODEL_PATH\": \"./best_model.pth\",\n",
    "    \"n_way\": 16,\n",
    "    \"datasets\": [\n",
    "        {\n",
    "            \"labels\": [\n",
    "                \"1-10.\",\n",
    "                \"1-11.\",\n",
    "                \"1-15.\",\n",
    "                \"1-16.\",\n",
    "                \"1-17.\",\n",
    "                \"1-18.\",\n",
    "                \"1-19.\",\n",
    "                \"10-4.\",\n",
    "                \"10-7.\",\n",
    "                \"11-1.\",\n",
    "                \"11-14.\",\n",
    "                \"11-17.\",\n",
    "                \"11-20.\",\n",
    "                \"11-7.\",\n",
    "                \"13-20.\",\n",
    "                \"13-8.\",\n",
    "                \"14-10.\",\n",
    "                \"14-11.\",\n",
    "                \"14-14.\",\n",
    "                \"14-7.\",\n",
    "                \"15-1.\",\n",
    "                \"15-20.\",\n",
    "                \"16-1.\",\n",
    "                \"16-16.\",\n",
    "                \"17-10.\",\n",
    "                \"17-11.\",\n",
    "                \"17-2.\",\n",
    "                \"19-1.\",\n",
    "                \"19-16.\",\n",
    "                \"19-19.\",\n",
    "                \"19-20.\",\n",
    "                \"19-3.\",\n",
    "                \"2-10.\",\n",
    "                \"2-11.\",\n",
    "                \"2-17.\",\n",
    "                \"2-18.\",\n",
    "                \"2-20.\",\n",
    "                \"2-3.\",\n",
    "                \"2-4.\",\n",
    "                \"2-5.\",\n",
    "                \"2-6.\",\n",
    "                \"2-7.\",\n",
    "                \"2-8.\",\n",
    "                \"3-13.\",\n",
    "                \"3-18.\",\n",
    "                \"3-3.\",\n",
    "                \"4-1.\",\n",
    "                \"4-10.\",\n",
    "                \"4-11.\",\n",
    "                \"4-19.\",\n",
    "                \"5-5.\",\n",
    "                \"6-15.\",\n",
    "                \"7-10.\",\n",
    "                \"7-14.\",\n",
    "                \"8-18.\",\n",
    "                \"8-20.\",\n",
    "                \"8-3.\",\n",
    "                \"8-8.\",\n",
    "            ],\n",
    "            \"domains\": [1, 2, 3, 4, 5],\n",
    "            \"num_examples_per_domain_per_label\": -1,\n",
    "            \"pickle_path\": \"/mnt/wd500GB/CSC500/csc500-main/datasets/cores.stratified_ds.2022A.pkl\",\n",
    "            \"source_or_target_dataset\": \"source\",\n",
    "            \"x_transforms\": [\"lowpass_+/-10MHz\", \"take_200\"],\n",
    "            \"episode_transforms\": [],\n",
    "            \"domain_prefix\": \"C_\",\n",
    "        },\n",
    "        {\n",
    "            \"labels\": [\n",
    "                \"3123D52\",\n",
    "                \"3123D65\",\n",
    "                \"3123D79\",\n",
    "                \"3123D80\",\n",
    "                \"3123D54\",\n",
    "                \"3123D70\",\n",
    "                \"3123D7B\",\n",
    "                \"3123D89\",\n",
    "                \"3123D58\",\n",
    "                \"3123D76\",\n",
    "                \"3123D7D\",\n",
    "                \"3123EFE\",\n",
    "                \"3123D64\",\n",
    "                \"3123D78\",\n",
    "                \"3123D7E\",\n",
    "                \"3124E4A\",\n",
    "            ],\n",
    "            \"domains\": [32, 38, 8, 44, 14, 50, 20, 26],\n",
    "            \"num_examples_per_domain_per_label\": 2000,\n",
    "            \"pickle_path\": \"/mnt/wd500GB/CSC500/csc500-main/datasets/oracle.Run1_framed_2000Examples_stratified_ds.2022A.pkl\",\n",
    "            \"source_or_target_dataset\": \"target\",\n",
    "            \"x_transforms\": [\"take_200\", \"resample_20Msps_to_25Msps\"],\n",
    "            \"episode_transforms\": [],\n",
    "            \"domain_prefix\": \"O_\",\n",
    "        },\n",
    "    ],\n",
    "    \"seed\": 420,\n",
    "    \"dataset_seed\": 420,\n",
    "}\n"
   ]
  },
  {
   "cell_type": "code",
   "execution_count": 5,
   "id": "8fa1cc33",
   "metadata": {
    "execution": {
     "iopub.execute_input": "2022-03-25T16:45:05.959541Z",
     "iopub.status.busy": "2022-03-25T16:45:05.959120Z",
     "iopub.status.idle": "2022-03-25T16:45:05.970595Z",
     "shell.execute_reply": "2022-03-25T16:45:05.970322Z"
    },
    "papermill": {
     "duration": 0.035259,
     "end_time": "2022-03-25T16:45:05.970654",
     "exception": false,
     "start_time": "2022-03-25T16:45:05.935395",
     "status": "completed"
    },
    "tags": []
   },
   "outputs": [],
   "source": [
    "# Set this to True if you want to run this template directly\n",
    "STANDALONE = False\n",
    "if STANDALONE:\n",
    "    print(\"parameters not injected, running with standalone_parameters\")\n",
    "    parameters = standalone_parameters\n",
    "\n",
    "if not 'parameters' in locals() and not 'parameters' in globals():\n",
    "    raise Exception(\"Parameter injection failed\")\n",
    "\n",
    "#Use an easy dict for all the parameters\n",
    "p = EasyDict(parameters)\n",
    "\n",
    "if \"x_shape\" not in p:\n",
    "    p.x_shape = [2,256] # Default to this if we dont supply x_shape\n",
    "\n",
    "\n",
    "supplied_keys = set(p.keys())\n",
    "\n",
    "if  supplied_keys != required_parameters:\n",
    "    print(\"Parameters are incorrect\")\n",
    "    if len(supplied_keys - required_parameters)>0: print(\"Shouldn't have:\", str(supplied_keys - required_parameters))\n",
    "    if len(required_parameters - supplied_keys)>0: print(\"Need to have:\", str(required_parameters - supplied_keys))\n",
    "    raise RuntimeError(\"Parameters are incorrect\")"
   ]
  },
  {
   "cell_type": "code",
   "execution_count": 6,
   "id": "3a028d58",
   "metadata": {
    "execution": {
     "iopub.execute_input": "2022-03-25T16:45:06.001032Z",
     "iopub.status.busy": "2022-03-25T16:45:06.000515Z",
     "iopub.status.idle": "2022-03-25T16:45:06.011971Z",
     "shell.execute_reply": "2022-03-25T16:45:06.011700Z"
    },
    "papermill": {
     "duration": 0.026536,
     "end_time": "2022-03-25T16:45:06.012030",
     "exception": false,
     "start_time": "2022-03-25T16:45:05.985494",
     "status": "completed"
    },
    "tags": []
   },
   "outputs": [],
   "source": [
    "###################################\n",
    "# Set the RNGs and make it all deterministic\n",
    "###################################\n",
    "np.random.seed(p.seed)\n",
    "random.seed(p.seed)\n",
    "torch.manual_seed(p.seed)\n",
    "\n",
    "torch.use_deterministic_algorithms(True) "
   ]
  },
  {
   "cell_type": "code",
   "execution_count": 7,
   "id": "b691acf6",
   "metadata": {
    "execution": {
     "iopub.execute_input": "2022-03-25T16:45:06.041861Z",
     "iopub.status.busy": "2022-03-25T16:45:06.041486Z",
     "iopub.status.idle": "2022-03-25T16:45:06.052921Z",
     "shell.execute_reply": "2022-03-25T16:45:06.052692Z"
    },
    "papermill": {
     "duration": 0.026463,
     "end_time": "2022-03-25T16:45:06.052978",
     "exception": false,
     "start_time": "2022-03-25T16:45:06.026515",
     "status": "completed"
    },
    "tags": []
   },
   "outputs": [],
   "source": [
    "###########################################\n",
    "# The stratified datasets honor this\n",
    "###########################################\n",
    "torch.set_default_dtype(eval(p.torch_default_dtype))"
   ]
  },
  {
   "cell_type": "code",
   "execution_count": 8,
   "id": "b5fba671",
   "metadata": {
    "execution": {
     "iopub.execute_input": "2022-03-25T16:45:06.081168Z",
     "iopub.status.busy": "2022-03-25T16:45:06.080552Z",
     "iopub.status.idle": "2022-03-25T16:45:06.113743Z",
     "shell.execute_reply": "2022-03-25T16:45:06.113491Z"
    },
    "papermill": {
     "duration": 0.047897,
     "end_time": "2022-03-25T16:45:06.113805",
     "exception": false,
     "start_time": "2022-03-25T16:45:06.065908",
     "status": "completed"
    },
    "tags": []
   },
   "outputs": [],
   "source": [
    "###################################\n",
    "# Build the network(s)\n",
    "# Note: It's critical to do this AFTER setting the RNG\n",
    "###################################\n",
    "x_net = build_sequential(p.x_net)"
   ]
  },
  {
   "cell_type": "code",
   "execution_count": 9,
   "id": "5d7e61cc",
   "metadata": {
    "execution": {
     "iopub.execute_input": "2022-03-25T16:45:06.143370Z",
     "iopub.status.busy": "2022-03-25T16:45:06.142596Z",
     "iopub.status.idle": "2022-03-25T16:45:06.159275Z",
     "shell.execute_reply": "2022-03-25T16:45:06.159003Z"
    },
    "papermill": {
     "duration": 0.032138,
     "end_time": "2022-03-25T16:45:06.159333",
     "exception": false,
     "start_time": "2022-03-25T16:45:06.127195",
     "status": "completed"
    },
    "tags": []
   },
   "outputs": [],
   "source": [
    "start_time_secs = time.time()"
   ]
  },
  {
   "cell_type": "code",
   "execution_count": 10,
   "id": "c6b67dfd",
   "metadata": {
    "execution": {
     "iopub.execute_input": "2022-03-25T16:45:06.192376Z",
     "iopub.status.busy": "2022-03-25T16:45:06.191974Z",
     "iopub.status.idle": "2022-03-25T16:45:06.203534Z",
     "shell.execute_reply": "2022-03-25T16:45:06.203296Z"
    },
    "papermill": {
     "duration": 0.026768,
     "end_time": "2022-03-25T16:45:06.203593",
     "exception": false,
     "start_time": "2022-03-25T16:45:06.176825",
     "status": "completed"
    },
    "tags": []
   },
   "outputs": [],
   "source": [
    "p.domains_source = []\n",
    "p.domains_target = []\n",
    "\n",
    "\n",
    "train_original_source = []\n",
    "val_original_source   = []\n",
    "test_original_source  = []\n",
    "\n",
    "train_original_target = []\n",
    "val_original_target   = []\n",
    "test_original_target  = []"
   ]
  },
  {
   "cell_type": "code",
   "execution_count": 11,
   "id": "e3d9c3d3",
   "metadata": {
    "execution": {
     "iopub.execute_input": "2022-03-25T16:45:06.232414Z",
     "iopub.status.busy": "2022-03-25T16:45:06.232013Z",
     "iopub.status.idle": "2022-03-25T16:45:06.242878Z",
     "shell.execute_reply": "2022-03-25T16:45:06.242613Z"
    },
    "papermill": {
     "duration": 0.025783,
     "end_time": "2022-03-25T16:45:06.242933",
     "exception": false,
     "start_time": "2022-03-25T16:45:06.217150",
     "status": "completed"
    },
    "tags": []
   },
   "outputs": [],
   "source": [
    "# global_x_transform_func = lambda x: normalize(x.to(torch.get_default_dtype()), \"unit_power\") # unit_power, unit_mag\n",
    "# global_x_transform_func = lambda x: normalize(x, \"unit_power\") # unit_power, unit_mag"
   ]
  },
  {
   "cell_type": "code",
   "execution_count": 12,
   "id": "acb78fd2",
   "metadata": {
    "execution": {
     "iopub.execute_input": "2022-03-25T16:45:06.274854Z",
     "iopub.status.busy": "2022-03-25T16:45:06.274537Z",
     "iopub.status.idle": "2022-03-25T16:45:06.286433Z",
     "shell.execute_reply": "2022-03-25T16:45:06.286171Z"
    },
    "papermill": {
     "duration": 0.029824,
     "end_time": "2022-03-25T16:45:06.286491",
     "exception": false,
     "start_time": "2022-03-25T16:45:06.256667",
     "status": "completed"
    },
    "tags": []
   },
   "outputs": [],
   "source": [
    "def add_dataset(\n",
    "    labels,\n",
    "    domains,\n",
    "    pickle_path,\n",
    "    x_transforms,\n",
    "    episode_transforms,\n",
    "    domain_prefix,\n",
    "    num_examples_per_domain_per_label,\n",
    "    source_or_target_dataset:str,\n",
    "    iterator_seed=p.seed,\n",
    "    dataset_seed=p.dataset_seed,\n",
    "    n_shot=p.n_shot,\n",
    "    n_way=p.n_way,\n",
    "    n_query=p.n_query,\n",
    "    train_val_test_k_factors=(p.train_k_factor,p.val_k_factor,p.test_k_factor),\n",
    "):\n",
    "   \n",
    "    if x_transforms == []: x_transform = None\n",
    "    else: x_transform = get_chained_transform(x_transforms)\n",
    "    \n",
    "    if episode_transforms == []: episode_transform = None\n",
    "    else: raise Exception(\"episode_transforms not implemented\")\n",
    "    \n",
    "    episode_transform = lambda tup, _prefix=domain_prefix: (_prefix + str(tup[0]), tup[1])\n",
    "\n",
    "\n",
    "    eaf = Episodic_Accessor_Factory(\n",
    "        labels=labels,\n",
    "        domains=domains,\n",
    "        num_examples_per_domain_per_label=num_examples_per_domain_per_label,\n",
    "        iterator_seed=iterator_seed,\n",
    "        dataset_seed=dataset_seed,\n",
    "        n_shot=n_shot,\n",
    "        n_way=n_way,\n",
    "        n_query=n_query,\n",
    "        train_val_test_k_factors=train_val_test_k_factors,\n",
    "        pickle_path=pickle_path,\n",
    "        x_transform_func=x_transform,\n",
    "    )\n",
    "\n",
    "    train, val, test = eaf.get_train(), eaf.get_val(), eaf.get_test()\n",
    "    train = Lazy_Iterable_Wrapper(train, episode_transform)\n",
    "    val = Lazy_Iterable_Wrapper(val, episode_transform)\n",
    "    test = Lazy_Iterable_Wrapper(test, episode_transform)\n",
    "\n",
    "    if source_or_target_dataset==\"source\":\n",
    "        train_original_source.append(train)\n",
    "        val_original_source.append(val)\n",
    "        test_original_source.append(test)\n",
    "\n",
    "        p.domains_source.extend(\n",
    "            [domain_prefix + str(u) for u in domains]\n",
    "        )\n",
    "    elif source_or_target_dataset==\"target\":\n",
    "        train_original_target.append(train)\n",
    "        val_original_target.append(val)\n",
    "        test_original_target.append(test)\n",
    "        p.domains_target.extend(\n",
    "            [domain_prefix + str(u) for u in domains]\n",
    "        )\n",
    "    else:\n",
    "        raise Exception(f\"invalid source_or_target_dataset: {source_or_target_dataset}\")\n",
    "    "
   ]
  },
  {
   "cell_type": "code",
   "execution_count": 13,
   "id": "fe266617",
   "metadata": {
    "execution": {
     "iopub.execute_input": "2022-03-25T16:45:06.319958Z",
     "iopub.status.busy": "2022-03-25T16:45:06.319664Z",
     "iopub.status.idle": "2022-03-25T16:45:24.897646Z",
     "shell.execute_reply": "2022-03-25T16:45:24.897211Z"
    },
    "papermill": {
     "duration": 18.59301,
     "end_time": "2022-03-25T16:45:24.897760",
     "exception": false,
     "start_time": "2022-03-25T16:45:06.304750",
     "status": "completed"
    },
    "tags": []
   },
   "outputs": [],
   "source": [
    "for ds in p.datasets:\n",
    "    add_dataset(**ds)"
   ]
  },
  {
   "cell_type": "code",
   "execution_count": 14,
   "id": "b90d65ac",
   "metadata": {
    "execution": {
     "iopub.execute_input": "2022-03-25T16:45:24.933895Z",
     "iopub.status.busy": "2022-03-25T16:45:24.933631Z",
     "iopub.status.idle": "2022-03-25T16:45:24.944891Z",
     "shell.execute_reply": "2022-03-25T16:45:24.944630Z"
    },
    "papermill": {
     "duration": 0.026541,
     "end_time": "2022-03-25T16:45:24.944949",
     "exception": false,
     "start_time": "2022-03-25T16:45:24.918408",
     "status": "completed"
    },
    "tags": []
   },
   "outputs": [],
   "source": [
    "# from steves_utils.CORES.utils import (\n",
    "#     ALL_NODES,\n",
    "#     ALL_NODES_MINIMUM_1000_EXAMPLES,\n",
    "#     ALL_DAYS\n",
    "# )\n",
    "\n",
    "# add_dataset(\n",
    "#     labels=ALL_NODES,\n",
    "#     domains = ALL_DAYS,\n",
    "#     num_examples_per_domain_per_label=100,\n",
    "#     pickle_path=os.path.join(get_datasets_base_path(), \"cores.stratified_ds.2022A.pkl\"),\n",
    "#     source_or_target_dataset=\"target\",\n",
    "#     x_transform_func=global_x_transform_func,\n",
    "#     domain_modifier=lambda u: f\"cores_{u}\"\n",
    "# )"
   ]
  },
  {
   "cell_type": "code",
   "execution_count": 15,
   "id": "76db484d",
   "metadata": {
    "execution": {
     "iopub.execute_input": "2022-03-25T16:45:24.982163Z",
     "iopub.status.busy": "2022-03-25T16:45:24.978677Z",
     "iopub.status.idle": "2022-03-25T16:45:24.994281Z",
     "shell.execute_reply": "2022-03-25T16:45:24.993818Z"
    },
    "papermill": {
     "duration": 0.031593,
     "end_time": "2022-03-25T16:45:24.994380",
     "exception": false,
     "start_time": "2022-03-25T16:45:24.962787",
     "status": "completed"
    },
    "tags": []
   },
   "outputs": [],
   "source": [
    "# from steves_utils.ORACLE.utils_v2 import (\n",
    "#     ALL_DISTANCES_FEET,\n",
    "#     ALL_RUNS,\n",
    "#     ALL_SERIAL_NUMBERS,\n",
    "# )\n",
    "\n",
    "\n",
    "# add_dataset(\n",
    "#     labels=ALL_SERIAL_NUMBERS,\n",
    "#     domains = list(set(ALL_DISTANCES_FEET) - {2,62}),\n",
    "#     num_examples_per_domain_per_label=100,\n",
    "#     pickle_path=os.path.join(get_datasets_base_path(), \"oracle.Run2_framed_2000Examples_stratified_ds.2022A.pkl\"),\n",
    "#     source_or_target_dataset=\"source\",\n",
    "#     x_transform_func=global_x_transform_func,\n",
    "#     domain_modifier=lambda u: f\"oracle1_{u}\"\n",
    "# )\n"
   ]
  },
  {
   "cell_type": "code",
   "execution_count": 16,
   "id": "97dea9d2",
   "metadata": {
    "execution": {
     "iopub.execute_input": "2022-03-25T16:45:25.027655Z",
     "iopub.status.busy": "2022-03-25T16:45:25.027248Z",
     "iopub.status.idle": "2022-03-25T16:45:25.038287Z",
     "shell.execute_reply": "2022-03-25T16:45:25.038037Z"
    },
    "papermill": {
     "duration": 0.026206,
     "end_time": "2022-03-25T16:45:25.038345",
     "exception": false,
     "start_time": "2022-03-25T16:45:25.012139",
     "status": "completed"
    },
    "tags": []
   },
   "outputs": [],
   "source": [
    "# from steves_utils.ORACLE.utils_v2 import (\n",
    "#     ALL_DISTANCES_FEET,\n",
    "#     ALL_RUNS,\n",
    "#     ALL_SERIAL_NUMBERS,\n",
    "# )\n",
    "\n",
    "\n",
    "# add_dataset(\n",
    "#     labels=ALL_SERIAL_NUMBERS,\n",
    "#     domains = list(set(ALL_DISTANCES_FEET) - {2,62,56}),\n",
    "#     num_examples_per_domain_per_label=100,\n",
    "#     pickle_path=os.path.join(get_datasets_base_path(), \"oracle.Run2_framed_2000Examples_stratified_ds.2022A.pkl\"),\n",
    "#     source_or_target_dataset=\"source\",\n",
    "#     x_transform_func=global_x_transform_func,\n",
    "#     domain_modifier=lambda u: f\"oracle2_{u}\"\n",
    "# )"
   ]
  },
  {
   "cell_type": "code",
   "execution_count": 17,
   "id": "6f289866",
   "metadata": {
    "execution": {
     "iopub.execute_input": "2022-03-25T16:45:25.070667Z",
     "iopub.status.busy": "2022-03-25T16:45:25.070398Z",
     "iopub.status.idle": "2022-03-25T16:45:25.083577Z",
     "shell.execute_reply": "2022-03-25T16:45:25.083993Z"
    },
    "papermill": {
     "duration": 0.029599,
     "end_time": "2022-03-25T16:45:25.084125",
     "exception": false,
     "start_time": "2022-03-25T16:45:25.054526",
     "status": "completed"
    },
    "tags": []
   },
   "outputs": [],
   "source": [
    "# add_dataset(\n",
    "#     labels=list(range(19)),\n",
    "#     domains = [0,1,2],\n",
    "#     num_examples_per_domain_per_label=100,\n",
    "#     pickle_path=os.path.join(get_datasets_base_path(), \"metehan.stratified_ds.2022A.pkl\"),\n",
    "#     source_or_target_dataset=\"target\",\n",
    "#     x_transform_func=global_x_transform_func,\n",
    "#     domain_modifier=lambda u: f\"met_{u}\"\n",
    "# )"
   ]
  },
  {
   "cell_type": "code",
   "execution_count": 18,
   "id": "86a863c3",
   "metadata": {
    "execution": {
     "iopub.execute_input": "2022-03-25T16:45:25.119031Z",
     "iopub.status.busy": "2022-03-25T16:45:25.118767Z",
     "iopub.status.idle": "2022-03-25T16:45:25.131621Z",
     "shell.execute_reply": "2022-03-25T16:45:25.131250Z"
    },
    "papermill": {
     "duration": 0.028605,
     "end_time": "2022-03-25T16:45:25.131699",
     "exception": false,
     "start_time": "2022-03-25T16:45:25.103094",
     "status": "completed"
    },
    "tags": []
   },
   "outputs": [],
   "source": [
    "# # from steves_utils.wisig.utils import (\n",
    "# #     ALL_NODES_MINIMUM_100_EXAMPLES,\n",
    "# #     ALL_NODES_MINIMUM_500_EXAMPLES,\n",
    "# #     ALL_NODES_MINIMUM_1000_EXAMPLES,\n",
    "# #     ALL_DAYS\n",
    "# # )\n",
    "\n",
    "# import steves_utils.wisig.utils as wisig\n",
    "\n",
    "\n",
    "# add_dataset(\n",
    "#     labels=wisig.ALL_NODES_MINIMUM_100_EXAMPLES,\n",
    "#     domains = wisig.ALL_DAYS,\n",
    "#     num_examples_per_domain_per_label=100,\n",
    "#     pickle_path=os.path.join(get_datasets_base_path(), \"wisig.node3-19.stratified_ds.2022A.pkl\"),\n",
    "#     source_or_target_dataset=\"target\",\n",
    "#     x_transform_func=global_x_transform_func,\n",
    "#     domain_modifier=lambda u: f\"wisig_{u}\"\n",
    "# )"
   ]
  },
  {
   "cell_type": "code",
   "execution_count": 19,
   "id": "fd5442bc",
   "metadata": {
    "execution": {
     "iopub.execute_input": "2022-03-25T16:45:25.168041Z",
     "iopub.status.busy": "2022-03-25T16:45:25.167764Z",
     "iopub.status.idle": "2022-03-25T16:45:25.180276Z",
     "shell.execute_reply": "2022-03-25T16:45:25.179817Z"
    },
    "papermill": {
     "duration": 0.029622,
     "end_time": "2022-03-25T16:45:25.180384",
     "exception": false,
     "start_time": "2022-03-25T16:45:25.150762",
     "status": "completed"
    },
    "tags": []
   },
   "outputs": [],
   "source": [
    "###################################\n",
    "# Build the dataset\n",
    "###################################\n",
    "train_original_source = Iterable_Aggregator(train_original_source, p.seed)\n",
    "val_original_source = Iterable_Aggregator(val_original_source, p.seed)\n",
    "test_original_source = Iterable_Aggregator(test_original_source, p.seed)\n",
    "\n",
    "\n",
    "train_original_target = Iterable_Aggregator(train_original_target, p.seed)\n",
    "val_original_target = Iterable_Aggregator(val_original_target, p.seed)\n",
    "test_original_target = Iterable_Aggregator(test_original_target, p.seed)\n",
    "\n",
    "# For CNN We only use X and Y. And we only train on the source.\n",
    "# Properly form the data using a transform lambda and Lazy_Iterable_Wrapper. Finally wrap them in a dataloader\n",
    "\n",
    "transform_lambda = lambda ex: ex[1] # Original is (<domain>, <episode>) so we strip down to episode only\n",
    "\n",
    "train_processed_source = Lazy_Iterable_Wrapper(train_original_source, transform_lambda)\n",
    "val_processed_source   = Lazy_Iterable_Wrapper(val_original_source, transform_lambda)\n",
    "test_processed_source  = Lazy_Iterable_Wrapper(test_original_source, transform_lambda)\n",
    "\n",
    "train_processed_target = Lazy_Iterable_Wrapper(train_original_target, transform_lambda)\n",
    "val_processed_target   = Lazy_Iterable_Wrapper(val_original_target, transform_lambda)\n",
    "test_processed_target  = Lazy_Iterable_Wrapper(test_original_target, transform_lambda)\n",
    "\n",
    "datasets = EasyDict({\n",
    "    \"source\": {\n",
    "        \"original\": {\"train\":train_original_source, \"val\":val_original_source, \"test\":test_original_source},\n",
    "        \"processed\": {\"train\":train_processed_source, \"val\":val_processed_source, \"test\":test_processed_source}\n",
    "    },\n",
    "    \"target\": {\n",
    "        \"original\": {\"train\":train_original_target, \"val\":val_original_target, \"test\":test_original_target},\n",
    "        \"processed\": {\"train\":train_processed_target, \"val\":val_processed_target, \"test\":test_processed_target}\n",
    "    },\n",
    "})"
   ]
  },
  {
   "cell_type": "code",
   "execution_count": 20,
   "id": "5b3c01fc",
   "metadata": {
    "execution": {
     "iopub.execute_input": "2022-03-25T16:45:25.222553Z",
     "iopub.status.busy": "2022-03-25T16:45:25.222202Z",
     "iopub.status.idle": "2022-03-25T16:45:32.209915Z",
     "shell.execute_reply": "2022-03-25T16:45:32.210327Z"
    },
    "papermill": {
     "duration": 7.008565,
     "end_time": "2022-03-25T16:45:32.210443",
     "exception": false,
     "start_time": "2022-03-25T16:45:25.201878",
     "status": "completed"
    },
    "tags": []
   },
   "outputs": [
    {
     "name": "stdout",
     "output_type": "stream",
     "text": [
      "{'C_2', 'C_3', 'C_5', 'C_1', 'C_4'}\n"
     ]
    },
    {
     "name": "stdout",
     "output_type": "stream",
     "text": [
      "{'O_8', 'O_38', 'O_20', 'O_44', 'O_50', 'O_32', 'O_26', 'O_14'}\n"
     ]
    },
    {
     "name": "stdout",
     "output_type": "stream",
     "text": [
      "tensor([[[ 5.6933e-04,  1.1109e-03, -1.0448e-02,  ..., -1.9088e-03,\n",
      "           4.3943e-02,  2.5231e-02],\n",
      "         [ 1.3266e-03,  9.4042e-03,  2.5043e-02,  ..., -4.1877e-02,\n",
      "          -6.9315e-04,  1.5706e-03]],\n",
      "\n",
      "        [[ 7.7135e-04,  4.8167e-03,  8.4847e-03,  ..., -2.3979e-02,\n",
      "           8.5365e-03,  3.4919e-02],\n",
      "         [ 2.7690e-04,  2.9168e-03,  1.2503e-02,  ..., -5.8802e-02,\n",
      "          -1.3597e-02, -1.1311e-02]],\n",
      "\n",
      "        [[-1.0652e-03, -6.7264e-03, -1.3886e-02,  ...,  3.6792e-02,\n",
      "          -1.4962e-02, -1.6922e-02],\n",
      "         [-2.5429e-05, -1.7746e-03, -1.2567e-02,  ...,  2.1468e-02,\n",
      "           2.4253e-02,  2.2236e-02]],\n",
      "\n",
      "        ...,\n",
      "\n",
      "        [[ 9.3240e-05,  6.7323e-04,  2.1252e-03,  ...,  5.4844e-03,\n",
      "          -5.3361e-03, -2.0843e-03],\n",
      "         [-9.8891e-06, -8.3433e-05,  4.5889e-04,  ..., -1.2871e-02,\n",
      "           2.4165e-02,  3.3625e-02]],\n",
      "\n",
      "        [[-5.2271e-04, -3.9473e-03, -1.0148e-02,  ..., -2.9542e-02,\n",
      "          -2.1172e-02, -1.3134e-02],\n",
      "         [ 1.9213e-04,  1.0331e-04, -4.8389e-03,  ..., -2.0565e-02,\n",
      "          -7.1140e-03, -1.4180e-02]],\n",
      "\n",
      "        [[-8.9285e-04, -5.2232e-03, -8.6647e-03,  ..., -2.6832e-02,\n",
      "          -1.6147e-02, -6.7763e-03],\n",
      "         [-3.1504e-04, -3.2533e-03, -1.1803e-02,  ..., -1.5285e-02,\n",
      "          -7.3934e-03, -2.5150e-02]]])\n"
     ]
    }
   ],
   "source": [
    "from steves_utils.transforms import get_average_magnitude, get_average_power\n",
    "\n",
    "print(set([u for u,_ in val_original_source]))\n",
    "print(set([u for u,_ in val_original_target]))\n",
    "\n",
    "s_x, s_y, q_x, q_y, _ = next(iter(train_processed_source))\n",
    "print(s_x)\n",
    "\n",
    "# for ds in [\n",
    "#     train_processed_source,\n",
    "#     val_processed_source,\n",
    "#     test_processed_source,\n",
    "#     train_processed_target,\n",
    "#     val_processed_target,\n",
    "#     test_processed_target\n",
    "# ]:\n",
    "#     for s_x, s_y, q_x, q_y, _ in ds:\n",
    "#         for X in (s_x, q_x):\n",
    "#             for x in X:\n",
    "#                 assert np.isclose(get_average_magnitude(x.numpy()), 1.0)\n",
    "#                 assert np.isclose(get_average_power(x.numpy()), 1.0)\n",
    "                "
   ]
  },
  {
   "cell_type": "code",
   "execution_count": 21,
   "id": "bbdacba1",
   "metadata": {
    "execution": {
     "iopub.execute_input": "2022-03-25T16:45:32.250141Z",
     "iopub.status.busy": "2022-03-25T16:45:32.249842Z",
     "iopub.status.idle": "2022-03-25T16:45:32.303033Z",
     "shell.execute_reply": "2022-03-25T16:45:32.303431Z"
    },
    "papermill": {
     "duration": 0.072209,
     "end_time": "2022-03-25T16:45:32.303568",
     "exception": false,
     "start_time": "2022-03-25T16:45:32.231359",
     "status": "completed"
    },
    "tags": []
   },
   "outputs": [
    {
     "name": "stdout",
     "output_type": "stream",
     "text": [
      "(2, 200)\n"
     ]
    }
   ],
   "source": [
    "###################################\n",
    "# Build the model\n",
    "###################################\n",
    "# easfsl only wants a tuple for the shape\n",
    "model = Steves_Prototypical_Network(x_net, device=p.device, x_shape=tuple(p.x_shape))\n",
    "optimizer = Adam(params=model.parameters(), lr=p.lr)"
   ]
  },
  {
   "cell_type": "code",
   "execution_count": 22,
   "id": "22b39ac5",
   "metadata": {
    "execution": {
     "iopub.execute_input": "2022-03-25T16:45:32.342363Z",
     "iopub.status.busy": "2022-03-25T16:45:32.340473Z",
     "iopub.status.idle": "2022-03-25T17:14:31.110981Z",
     "shell.execute_reply": "2022-03-25T17:14:31.110737Z"
    },
    "papermill": {
     "duration": 1738.786685,
     "end_time": "2022-03-25T17:14:31.111063",
     "exception": false,
     "start_time": "2022-03-25T16:45:32.324378",
     "status": "completed"
    },
    "tags": []
   },
   "outputs": [
    {
     "name": "stdout",
     "output_type": "stream",
     "text": [
      "epoch: 1, [batch: 1 / 6315], examples_per_second: 49.6507, train_label_loss: 2.0910, \n"
     ]
    },
    {
     "name": "stdout",
     "output_type": "stream",
     "text": [
      "epoch: 1, [batch: 632 / 6315], examples_per_second: 1869.5348, train_label_loss: 0.0556, \n"
     ]
    },
    {
     "name": "stdout",
     "output_type": "stream",
     "text": [
      "epoch: 1, [batch: 1263 / 6315], examples_per_second: 1869.6580, train_label_loss: 0.1291, \n"
     ]
    },
    {
     "name": "stdout",
     "output_type": "stream",
     "text": [
      "epoch: 1, [batch: 1895 / 6315], examples_per_second: 1872.6448, train_label_loss: 0.0027, \n"
     ]
    },
    {
     "name": "stdout",
     "output_type": "stream",
     "text": [
      "epoch: 1, [batch: 2526 / 6315], examples_per_second: 1863.0052, train_label_loss: 0.0012, \n"
     ]
    },
    {
     "name": "stdout",
     "output_type": "stream",
     "text": [
      "epoch: 1, [batch: 3158 / 6315], examples_per_second: 1868.8721, train_label_loss: 0.0006, \n"
     ]
    },
    {
     "name": "stdout",
     "output_type": "stream",
     "text": [
      "epoch: 1, [batch: 3789 / 6315], examples_per_second: 1967.4611, train_label_loss: 0.0088, \n"
     ]
    },
    {
     "name": "stdout",
     "output_type": "stream",
     "text": [
      "epoch: 1, [batch: 4420 / 6315], examples_per_second: 2375.0493, train_label_loss: 0.0001, \n"
     ]
    },
    {
     "name": "stdout",
     "output_type": "stream",
     "text": [
      "epoch: 1, [batch: 5052 / 6315], examples_per_second: 2054.9773, train_label_loss: 0.0001, \n"
     ]
    },
    {
     "name": "stdout",
     "output_type": "stream",
     "text": [
      "epoch: 1, [batch: 5683 / 6315], examples_per_second: 1868.2676, train_label_loss: 0.0001, \n"
     ]
    },
    {
     "name": "stdout",
     "output_type": "stream",
     "text": [
      "=============================================================\n",
      "epoch: 1, source_val_acc_label: 0.9976, target_val_acc_label: 0.5265, source_val_label_loss: 0.0158, target_val_label_loss: 1.9982, \n",
      "=============================================================\n"
     ]
    },
    {
     "name": "stdout",
     "output_type": "stream",
     "text": [
      "New best\n"
     ]
    },
    {
     "name": "stdout",
     "output_type": "stream",
     "text": [
      "epoch: 2, [batch: 1 / 6307], examples_per_second: 2.8272, train_label_loss: 0.0115, \n"
     ]
    },
    {
     "name": "stdout",
     "output_type": "stream",
     "text": [
      "epoch: 2, [batch: 631 / 6307], examples_per_second: 1873.2237, train_label_loss: 0.0421, \n"
     ]
    },
    {
     "name": "stdout",
     "output_type": "stream",
     "text": [
      "epoch: 2, [batch: 1262 / 6307], examples_per_second: 1871.7155, train_label_loss: 0.0000, \n"
     ]
    },
    {
     "name": "stdout",
     "output_type": "stream",
     "text": [
      "epoch: 2, [batch: 1892 / 6307], examples_per_second: 1876.7238, train_label_loss: 0.0000, \n"
     ]
    },
    {
     "name": "stdout",
     "output_type": "stream",
     "text": [
      "epoch: 2, [batch: 2523 / 6307], examples_per_second: 1867.9219, train_label_loss: 0.0001, \n"
     ]
    },
    {
     "name": "stdout",
     "output_type": "stream",
     "text": [
      "epoch: 2, [batch: 3154 / 6307], examples_per_second: 1870.9658, train_label_loss: 0.0001, \n"
     ]
    },
    {
     "name": "stdout",
     "output_type": "stream",
     "text": [
      "epoch: 2, [batch: 3784 / 6307], examples_per_second: 1968.0895, train_label_loss: 0.0001, \n"
     ]
    },
    {
     "name": "stdout",
     "output_type": "stream",
     "text": [
      "epoch: 2, [batch: 4415 / 6307], examples_per_second: 2379.6016, train_label_loss: 0.0004, \n"
     ]
    },
    {
     "name": "stdout",
     "output_type": "stream",
     "text": [
      "epoch: 2, [batch: 5045 / 6307], examples_per_second: 2079.8138, train_label_loss: 0.0011, \n"
     ]
    },
    {
     "name": "stdout",
     "output_type": "stream",
     "text": [
      "epoch: 2, [batch: 5676 / 6307], examples_per_second: 1871.6840, train_label_loss: 0.0445, \n"
     ]
    },
    {
     "name": "stdout",
     "output_type": "stream",
     "text": [
      "=============================================================\n",
      "epoch: 2, source_val_acc_label: 0.9985, target_val_acc_label: 0.5512, source_val_label_loss: 0.0161, target_val_label_loss: 1.7233, \n",
      "=============================================================\n"
     ]
    },
    {
     "name": "stdout",
     "output_type": "stream",
     "text": [
      "New best\n"
     ]
    },
    {
     "name": "stdout",
     "output_type": "stream",
     "text": [
      "epoch: 3, [batch: 1 / 6326], examples_per_second: 2.8229, train_label_loss: 0.0000, \n"
     ]
    },
    {
     "name": "stdout",
     "output_type": "stream",
     "text": [
      "epoch: 3, [batch: 633 / 6326], examples_per_second: 1874.0333, train_label_loss: 0.0000, \n"
     ]
    },
    {
     "name": "stdout",
     "output_type": "stream",
     "text": [
      "epoch: 3, [batch: 1266 / 6326], examples_per_second: 1872.3567, train_label_loss: 0.0000, \n"
     ]
    },
    {
     "name": "stdout",
     "output_type": "stream",
     "text": [
      "epoch: 3, [batch: 1898 / 6326], examples_per_second: 1874.6781, train_label_loss: 0.0003, \n"
     ]
    },
    {
     "name": "stdout",
     "output_type": "stream",
     "text": [
      "epoch: 3, [batch: 2531 / 6326], examples_per_second: 1868.9608, train_label_loss: 0.0000, \n"
     ]
    },
    {
     "name": "stdout",
     "output_type": "stream",
     "text": [
      "epoch: 3, [batch: 3163 / 6326], examples_per_second: 1874.0594, train_label_loss: 0.0000, \n"
     ]
    },
    {
     "name": "stdout",
     "output_type": "stream",
     "text": [
      "epoch: 3, [batch: 3796 / 6326], examples_per_second: 1960.8329, train_label_loss: 0.0154, \n"
     ]
    },
    {
     "name": "stdout",
     "output_type": "stream",
     "text": [
      "epoch: 3, [batch: 4428 / 6326], examples_per_second: 2356.2317, train_label_loss: 0.0016, \n"
     ]
    },
    {
     "name": "stdout",
     "output_type": "stream",
     "text": [
      "epoch: 3, [batch: 5061 / 6326], examples_per_second: 2127.3029, train_label_loss: 0.0000, \n"
     ]
    },
    {
     "name": "stdout",
     "output_type": "stream",
     "text": [
      "epoch: 3, [batch: 5693 / 6326], examples_per_second: 1871.6061, train_label_loss: 0.0005, \n"
     ]
    },
    {
     "name": "stdout",
     "output_type": "stream",
     "text": [
      "=============================================================\n",
      "epoch: 3, source_val_acc_label: 0.9987, target_val_acc_label: 0.4976, source_val_label_loss: 0.0242, target_val_label_loss: 1.6957, \n",
      "=============================================================\n"
     ]
    },
    {
     "name": "stdout",
     "output_type": "stream",
     "text": [
      "epoch: 4, [batch: 1 / 6302], examples_per_second: 2.8345, train_label_loss: 0.0000, \n"
     ]
    },
    {
     "name": "stdout",
     "output_type": "stream",
     "text": [
      "epoch: 4, [batch: 631 / 6302], examples_per_second: 1872.2173, train_label_loss: 0.0000, \n"
     ]
    },
    {
     "name": "stdout",
     "output_type": "stream",
     "text": [
      "epoch: 4, [batch: 1261 / 6302], examples_per_second: 1872.9943, train_label_loss: 0.0006, \n"
     ]
    },
    {
     "name": "stdout",
     "output_type": "stream",
     "text": [
      "epoch: 4, [batch: 1891 / 6302], examples_per_second: 1873.8882, train_label_loss: 0.0000, \n"
     ]
    },
    {
     "name": "stdout",
     "output_type": "stream",
     "text": [
      "epoch: 4, [batch: 2521 / 6302], examples_per_second: 1867.6496, train_label_loss: 0.0000, \n"
     ]
    },
    {
     "name": "stdout",
     "output_type": "stream",
     "text": [
      "epoch: 4, [batch: 3151 / 6302], examples_per_second: 1872.1550, train_label_loss: 0.0000, \n"
     ]
    },
    {
     "name": "stdout",
     "output_type": "stream",
     "text": [
      "epoch: 4, [batch: 3781 / 6302], examples_per_second: 1945.4806, train_label_loss: 0.0037, \n"
     ]
    },
    {
     "name": "stdout",
     "output_type": "stream",
     "text": [
      "epoch: 4, [batch: 4411 / 6302], examples_per_second: 2338.8817, train_label_loss: 0.0000, \n"
     ]
    },
    {
     "name": "stdout",
     "output_type": "stream",
     "text": [
      "epoch: 4, [batch: 5041 / 6302], examples_per_second: 2162.2088, train_label_loss: 0.0046, \n"
     ]
    },
    {
     "name": "stdout",
     "output_type": "stream",
     "text": [
      "epoch: 4, [batch: 5671 / 6302], examples_per_second: 1872.6077, train_label_loss: 0.0005, \n"
     ]
    },
    {
     "name": "stdout",
     "output_type": "stream",
     "text": [
      "=============================================================\n",
      "epoch: 4, source_val_acc_label: 0.9986, target_val_acc_label: 0.4513, source_val_label_loss: 0.0163, target_val_label_loss: 1.8218, \n",
      "=============================================================\n"
     ]
    },
    {
     "name": "stdout",
     "output_type": "stream",
     "text": [
      "epoch: 5, [batch: 1 / 6324], examples_per_second: 2.8197, train_label_loss: 0.0014, \n"
     ]
    },
    {
     "name": "stdout",
     "output_type": "stream",
     "text": [
      "epoch: 5, [batch: 633 / 6324], examples_per_second: 1870.1001, train_label_loss: 0.0000, \n"
     ]
    },
    {
     "name": "stdout",
     "output_type": "stream",
     "text": [
      "epoch: 5, [batch: 1265 / 6324], examples_per_second: 1871.1458, train_label_loss: 0.0010, \n"
     ]
    },
    {
     "name": "stdout",
     "output_type": "stream",
     "text": [
      "epoch: 5, [batch: 1897 / 6324], examples_per_second: 1874.9005, train_label_loss: 0.0000, \n"
     ]
    },
    {
     "name": "stdout",
     "output_type": "stream",
     "text": [
      "epoch: 5, [batch: 2530 / 6324], examples_per_second: 1866.4898, train_label_loss: 0.0000, \n"
     ]
    },
    {
     "name": "stdout",
     "output_type": "stream",
     "text": [
      "epoch: 5, [batch: 3162 / 6324], examples_per_second: 1870.4352, train_label_loss: 0.0042, \n"
     ]
    },
    {
     "name": "stdout",
     "output_type": "stream",
     "text": [
      "epoch: 5, [batch: 3794 / 6324], examples_per_second: 1932.6766, train_label_loss: 0.0000, \n"
     ]
    },
    {
     "name": "stdout",
     "output_type": "stream",
     "text": [
      "epoch: 5, [batch: 4427 / 6324], examples_per_second: 2289.3749, train_label_loss: 0.0000, \n"
     ]
    },
    {
     "name": "stdout",
     "output_type": "stream",
     "text": [
      "epoch: 5, [batch: 5059 / 6324], examples_per_second: 2149.4580, train_label_loss: 0.0001, \n"
     ]
    },
    {
     "name": "stdout",
     "output_type": "stream",
     "text": [
      "epoch: 5, [batch: 5691 / 6324], examples_per_second: 1871.8169, train_label_loss: 0.0000, \n"
     ]
    },
    {
     "name": "stdout",
     "output_type": "stream",
     "text": [
      "=============================================================\n",
      "epoch: 5, source_val_acc_label: 0.9990, target_val_acc_label: 0.4935, source_val_label_loss: 0.0180, target_val_label_loss: 1.6338, \n",
      "=============================================================\n"
     ]
    },
    {
     "name": "stdout",
     "output_type": "stream",
     "text": [
      "epoch: 6, [batch: 1 / 6313], examples_per_second: 2.8255, train_label_loss: 0.0000, \n"
     ]
    },
    {
     "name": "stdout",
     "output_type": "stream",
     "text": [
      "epoch: 6, [batch: 632 / 6313], examples_per_second: 1873.0615, train_label_loss: 0.0000, \n"
     ]
    },
    {
     "name": "stdout",
     "output_type": "stream",
     "text": [
      "epoch: 6, [batch: 1263 / 6313], examples_per_second: 1871.0823, train_label_loss: 0.0000, \n"
     ]
    },
    {
     "name": "stdout",
     "output_type": "stream",
     "text": [
      "epoch: 6, [batch: 1894 / 6313], examples_per_second: 1875.3407, train_label_loss: 0.0000, \n"
     ]
    },
    {
     "name": "stdout",
     "output_type": "stream",
     "text": [
      "epoch: 6, [batch: 2525 / 6313], examples_per_second: 1868.9089, train_label_loss: 0.0000, \n"
     ]
    },
    {
     "name": "stdout",
     "output_type": "stream",
     "text": [
      "epoch: 6, [batch: 3157 / 6313], examples_per_second: 1872.8886, train_label_loss: 0.0002, \n"
     ]
    },
    {
     "name": "stdout",
     "output_type": "stream",
     "text": [
      "epoch: 6, [batch: 3788 / 6313], examples_per_second: 1932.9537, train_label_loss: 0.0001, \n"
     ]
    },
    {
     "name": "stdout",
     "output_type": "stream",
     "text": [
      "epoch: 6, [batch: 4419 / 6313], examples_per_second: 2318.8040, train_label_loss: 0.0000, \n"
     ]
    },
    {
     "name": "stdout",
     "output_type": "stream",
     "text": [
      "epoch: 6, [batch: 5050 / 6313], examples_per_second: 2154.0389, train_label_loss: 0.0000, \n"
     ]
    },
    {
     "name": "stdout",
     "output_type": "stream",
     "text": [
      "epoch: 6, [batch: 5681 / 6313], examples_per_second: 1872.8378, train_label_loss: 0.0000, \n"
     ]
    },
    {
     "name": "stdout",
     "output_type": "stream",
     "text": [
      "=============================================================\n",
      "epoch: 6, source_val_acc_label: 0.9986, target_val_acc_label: 0.4909, source_val_label_loss: 0.0159, target_val_label_loss: 1.4928, \n",
      "=============================================================\n"
     ]
    },
    {
     "name": "stdout",
     "output_type": "stream",
     "text": [
      "Patience (3) exhausted\n"
     ]
    }
   ],
   "source": [
    "###################################\n",
    "# train\n",
    "###################################\n",
    "jig = PTN_Train_Eval_Test_Jig(model, p.BEST_MODEL_PATH, p.device)\n",
    "\n",
    "jig.train(\n",
    "    train_iterable=datasets.source.processed.train,\n",
    "    source_val_iterable=datasets.source.processed.val,\n",
    "    target_val_iterable=datasets.target.processed.val,\n",
    "    num_epochs=p.n_epoch,\n",
    "    num_logs_per_epoch=p.NUM_LOGS_PER_EPOCH,\n",
    "    patience=p.patience,\n",
    "    optimizer=optimizer,\n",
    "    criteria_for_best=p.criteria_for_best,\n",
    ")"
   ]
  },
  {
   "cell_type": "code",
   "execution_count": 23,
   "id": "31e8fabf",
   "metadata": {
    "execution": {
     "iopub.execute_input": "2022-03-25T17:14:31.168951Z",
     "iopub.status.busy": "2022-03-25T17:14:31.168695Z",
     "iopub.status.idle": "2022-03-25T17:14:31.188826Z",
     "shell.execute_reply": "2022-03-25T17:14:31.188368Z"
    },
    "papermill": {
     "duration": 0.050527,
     "end_time": "2022-03-25T17:14:31.188937",
     "exception": false,
     "start_time": "2022-03-25T17:14:31.138410",
     "status": "completed"
    },
    "tags": []
   },
   "outputs": [],
   "source": [
    "total_experiment_time_secs = time.time() - start_time_secs"
   ]
  },
  {
   "cell_type": "code",
   "execution_count": 24,
   "id": "87b9595b",
   "metadata": {
    "execution": {
     "iopub.execute_input": "2022-03-25T17:14:31.262746Z",
     "iopub.status.busy": "2022-03-25T17:14:31.262410Z",
     "iopub.status.idle": "2022-03-25T17:16:59.307645Z",
     "shell.execute_reply": "2022-03-25T17:16:59.307871Z"
    },
    "papermill": {
     "duration": 148.08429,
     "end_time": "2022-03-25T17:16:59.307956",
     "exception": false,
     "start_time": "2022-03-25T17:14:31.223666",
     "status": "completed"
    },
    "tags": []
   },
   "outputs": [],
   "source": [
    "###################################\n",
    "# Evaluate the model\n",
    "###################################\n",
    "source_test_label_accuracy, source_test_label_loss = jig.test(datasets.source.processed.test)\n",
    "target_test_label_accuracy, target_test_label_loss = jig.test(datasets.target.processed.test)\n",
    "\n",
    "source_val_label_accuracy, source_val_label_loss = jig.test(datasets.source.processed.val)\n",
    "target_val_label_accuracy, target_val_label_loss = jig.test(datasets.target.processed.val)\n",
    "\n",
    "history = jig.get_history()\n",
    "\n",
    "total_epochs_trained = len(history[\"epoch_indices\"])\n",
    "\n",
    "val_dl = Iterable_Aggregator((datasets.source.original.val,datasets.target.original.val))\n",
    "\n",
    "confusion = ptn_confusion_by_domain_over_dataloader(model, p.device, val_dl)\n",
    "per_domain_accuracy = per_domain_accuracy_from_confusion(confusion)\n",
    "\n",
    "# Add a key to per_domain_accuracy for if it was a source domain\n",
    "for domain, accuracy in per_domain_accuracy.items():\n",
    "    per_domain_accuracy[domain] = {\n",
    "        \"accuracy\": accuracy,\n",
    "        \"source?\": domain in p.domains_source\n",
    "    }\n",
    "\n",
    "# Do an independent accuracy assesment JUST TO BE SURE!\n",
    "# _source_test_label_accuracy = independent_accuracy_assesment(model, datasets.source.processed.test, p.device)\n",
    "# _target_test_label_accuracy = independent_accuracy_assesment(model, datasets.target.processed.test, p.device)\n",
    "# _source_val_label_accuracy = independent_accuracy_assesment(model, datasets.source.processed.val, p.device)\n",
    "# _target_val_label_accuracy = independent_accuracy_assesment(model, datasets.target.processed.val, p.device)\n",
    "\n",
    "# assert(_source_test_label_accuracy == source_test_label_accuracy)\n",
    "# assert(_target_test_label_accuracy == target_test_label_accuracy)\n",
    "# assert(_source_val_label_accuracy == source_val_label_accuracy)\n",
    "# assert(_target_val_label_accuracy == target_val_label_accuracy)\n",
    "\n",
    "experiment = {\n",
    "    \"experiment_name\": p.experiment_name,\n",
    "    \"parameters\": dict(p),\n",
    "    \"results\": {\n",
    "        \"source_test_label_accuracy\": source_test_label_accuracy,\n",
    "        \"source_test_label_loss\": source_test_label_loss,\n",
    "        \"target_test_label_accuracy\": target_test_label_accuracy,\n",
    "        \"target_test_label_loss\": target_test_label_loss,\n",
    "        \"source_val_label_accuracy\": source_val_label_accuracy,\n",
    "        \"source_val_label_loss\": source_val_label_loss,\n",
    "        \"target_val_label_accuracy\": target_val_label_accuracy,\n",
    "        \"target_val_label_loss\": target_val_label_loss,\n",
    "        \"total_epochs_trained\": total_epochs_trained,\n",
    "        \"total_experiment_time_secs\": total_experiment_time_secs,\n",
    "        \"confusion\": confusion,\n",
    "        \"per_domain_accuracy\": per_domain_accuracy,\n",
    "    },\n",
    "    \"history\": history,\n",
    "    \"dataset_metrics\": get_dataset_metrics(datasets, \"ptn\"),\n",
    "}"
   ]
  },
  {
   "cell_type": "code",
   "execution_count": 25,
   "id": "54a21829",
   "metadata": {
    "execution": {
     "iopub.execute_input": "2022-03-25T17:16:59.366785Z",
     "iopub.status.busy": "2022-03-25T17:16:59.366345Z",
     "iopub.status.idle": "2022-03-25T17:16:59.492618Z",
     "shell.execute_reply": "2022-03-25T17:16:59.492226Z"
    },
    "papermill": {
     "duration": 0.155315,
     "end_time": "2022-03-25T17:16:59.492714",
     "exception": false,
     "start_time": "2022-03-25T17:16:59.337399",
     "status": "completed"
    },
    "tags": []
   },
   "outputs": [
    {
     "data": {
      "image/png": "[encoded data removed]",
      "text/plain": [
       "<Figure size 1080x504 with 1 Axes>"
      ]
     },
     "metadata": {
      "needs_background": "light"
     },
     "output_type": "display_data"
    }
   ],
   "source": [
    "ax = get_loss_curve(experiment)\n",
    "plt.show()"
   ]
  },
  {
   "cell_type": "code",
   "execution_count": 26,
   "id": "fd8a0f60",
   "metadata": {
    "execution": {
     "iopub.execute_input": "2022-03-25T17:16:59.557531Z",
     "iopub.status.busy": "2022-03-25T17:16:59.556288Z",
     "iopub.status.idle": "2022-03-25T17:16:59.719715Z",
     "shell.execute_reply": "2022-03-25T17:16:59.719933Z"
    },
    "papermill": {
     "duration": 0.192887,
     "end_time": "2022-03-25T17:16:59.720012",
     "exception": false,
     "start_time": "2022-03-25T17:16:59.527125",
     "status": "completed"
    },
    "tags": []
   },
   "outputs": [
    {
     "data": {
      "text/plain": [
       "<AxesSubplot:title={'center':'Results'}>"
      ]
     },
     "execution_count": 26,
     "metadata": {},
     "output_type": "execute_result"
    },
    {
     "data": {
      "image/png": "[encoded data removed]",
      "text/plain": [
       "<Figure size 1080x504 with 1 Axes>"
      ]
     },
     "metadata": {
      "needs_background": "light"
     },
     "output_type": "display_data"
    }
   ],
   "source": [
    "get_results_table(experiment)"
   ]
  },
  {
   "cell_type": "code",
   "execution_count": 27,
   "id": "cf8dc689",
   "metadata": {
    "execution": {
     "iopub.execute_input": "2022-03-25T17:16:59.781509Z",
     "iopub.status.busy": "2022-03-25T17:16:59.780853Z",
     "iopub.status.idle": "2022-03-25T17:16:59.913807Z",
     "shell.execute_reply": "2022-03-25T17:16:59.913301Z"
    },
    "papermill": {
     "duration": 0.163686,
     "end_time": "2022-03-25T17:16:59.913914",
     "exception": false,
     "start_time": "2022-03-25T17:16:59.750228",
     "status": "completed"
    },
    "tags": []
   },
   "outputs": [
    {
     "data": {
      "text/plain": [
       "<AxesSubplot:title={'center':'Per Domain Validation Accuracy'}, xlabel='domain'>"
      ]
     },
     "execution_count": 27,
     "metadata": {},
     "output_type": "execute_result"
    },
    {
     "data": {
      "image/png": "[encoded data removed]",
      "text/plain": [
       "<Figure size 1080x504 with 1 Axes>"
      ]
     },
     "metadata": {
      "needs_background": "light"
     },
     "output_type": "display_data"
    }
   ],
   "source": [
    "get_domain_accuracies(experiment)"
   ]
  },
  {
   "cell_type": "code",
   "execution_count": 28,
   "id": "a74ae082",
   "metadata": {
    "execution": {
     "iopub.execute_input": "2022-03-25T17:16:59.980984Z",
     "iopub.status.busy": "2022-03-25T17:16:59.980724Z",
     "iopub.status.idle": "2022-03-25T17:16:59.998148Z",
     "shell.execute_reply": "2022-03-25T17:16:59.997639Z"
    },
    "papermill": {
     "duration": 0.049758,
     "end_time": "2022-03-25T17:16:59.998254",
     "exception": false,
     "start_time": "2022-03-25T17:16:59.948496",
     "status": "completed"
    },
    "tags": []
   },
   "outputs": [
    {
     "name": "stdout",
     "output_type": "stream",
     "text": [
      "Source Test Label Accuracy: 0.9992593115124153 Target Test Label Accuracy: 0.5530598958333334\n",
      "Source Val Label Accuracy: 0.9985357142857143 Target Val Label Accuracy: 0.5512369791666667\n"
     ]
    }
   ],
   "source": [
    "print(\"Source Test Label Accuracy:\", experiment[\"results\"][\"source_test_label_accuracy\"], \"Target Test Label Accuracy:\", experiment[\"results\"][\"target_test_label_accuracy\"])\n",
    "print(\"Source Val Label Accuracy:\", experiment[\"results\"][\"source_val_label_accuracy\"], \"Target Val Label Accuracy:\", experiment[\"results\"][\"target_val_label_accuracy\"])"
   ]
  },
  {
   "cell_type": "code",
   "execution_count": 29,
   "id": "dacca602",
   "metadata": {
    "execution": {
     "iopub.execute_input": "2022-03-25T17:17:00.071265Z",
     "iopub.status.busy": "2022-03-25T17:17:00.067299Z",
     "iopub.status.idle": "2022-03-25T17:17:00.078669Z",
     "shell.execute_reply": "2022-03-25T17:17:00.078331Z"
    },
    "papermill": {
     "duration": 0.045751,
     "end_time": "2022-03-25T17:17:00.078751",
     "exception": false,
     "start_time": "2022-03-25T17:17:00.033000",
     "status": "completed"
    },
    "tags": [
     "experiment_json"
    ]
   },
   "outputs": [
    {
     "data": {
      "text/plain": [
       "'{\"experiment_name\": \"tl_3-filterv2:cores -> oracle.run1.framed\", \"parameters\": {\"experiment_name\": \"tl_3-filterv2:cores -> oracle.run1.framed\", \"device\": \"cuda\", \"lr\": 0.0001, \"x_shape\": [2, 200], \"n_shot\": 3, \"n_query\": 2, \"train_k_factor\": 3, \"val_k_factor\": 2, \"test_k_factor\": 2, \"torch_default_dtype\": \"torch.float32\", \"n_epoch\": 50, \"patience\": 3, \"criteria_for_best\": \"target_accuracy\", \"x_net\": [{\"class\": \"nnReshape\", \"kargs\": {\"shape\": [-1, 1, 2, 200]}}, {\"class\": \"Conv2d\", \"kargs\": {\"in_channels\": 1, \"out_channels\": 256, \"kernel_size\": [1, 7], \"bias\": false, \"padding\": [0, 3]}}, {\"class\": \"ReLU\", \"kargs\": {\"inplace\": true}}, {\"class\": \"BatchNorm2d\", \"kargs\": {\"num_features\": 256}}, {\"class\": \"Conv2d\", \"kargs\": {\"in_channels\": 256, \"out_channels\": 80, \"kernel_size\": [2, 7], \"bias\": true, \"padding\": [0, 3]}}, {\"class\": \"ReLU\", \"kargs\": {\"inplace\": true}}, {\"class\": \"BatchNorm2d\", \"kargs\": {\"num_features\": 80}}, {\"class\": \"Flatten\", \"kargs\": {}}, {\"class\": \"Linear\", \"kargs\": {\"in_features\": 16000, \"out_features\": 256}}, {\"class\": \"ReLU\", \"kargs\": {\"inplace\": true}}, {\"class\": \"BatchNorm1d\", \"kargs\": {\"num_features\": 256}}, {\"class\": \"Linear\", \"kargs\": {\"in_features\": 256, \"out_features\": 256}}], \"NUM_LOGS_PER_EPOCH\": 10, \"BEST_MODEL_PATH\": \"./best_model.pth\", \"n_way\": 16, \"datasets\": [{\"labels\": [\"1-10.\", \"1-11.\", \"1-15.\", \"1-16.\", \"1-17.\", \"1-18.\", \"1-19.\", \"10-4.\", \"10-7.\", \"11-1.\", \"11-14.\", \"11-17.\", \"11-20.\", \"11-7.\", \"13-20.\", \"13-8.\", \"14-10.\", \"14-11.\", \"14-14.\", \"14-7.\", \"15-1.\", \"15-20.\", \"16-1.\", \"16-16.\", \"17-10.\", \"17-11.\", \"17-2.\", \"19-1.\", \"19-16.\", \"19-19.\", \"19-20.\", \"19-3.\", \"2-10.\", \"2-11.\", \"2-17.\", \"2-18.\", \"2-20.\", \"2-3.\", \"2-4.\", \"2-5.\", \"2-6.\", \"2-7.\", \"2-8.\", \"3-13.\", \"3-18.\", \"3-3.\", \"4-1.\", \"4-10.\", \"4-11.\", \"4-19.\", \"5-5.\", \"6-15.\", \"7-10.\", \"7-14.\", \"8-18.\", \"8-20.\", \"8-3.\", \"8-8.\"], \"domains\": [1, 2, 3, 4, 5], \"num_examples_per_domain_per_label\": -1, \"pickle_path\": \"/mnt/wd500GB/CSC500/csc500-main/datasets/cores.stratified_ds.2022A.pkl\", \"source_or_target_dataset\": \"source\", \"x_transforms\": [\"lowpass_+/-10MHz\", \"take_200\"], \"episode_transforms\": [], \"domain_prefix\": \"C_\"}, {\"labels\": [\"3123D52\", \"3123D65\", \"3123D79\", \"3123D80\", \"3123D54\", \"3123D70\", \"3123D7B\", \"3123D89\", \"3123D58\", \"3123D76\", \"3123D7D\", \"3123EFE\", \"3123D64\", \"3123D78\", \"3123D7E\", \"3124E4A\"], \"domains\": [32, 38, 8, 44, 14, 50, 20, 26], \"num_examples_per_domain_per_label\": 2000, \"pickle_path\": \"/mnt/wd500GB/CSC500/csc500-main/datasets/oracle.Run1_framed_2000Examples_stratified_ds.2022A.pkl\", \"source_or_target_dataset\": \"target\", \"x_transforms\": [\"take_200\", \"resample_20Msps_to_25Msps\"], \"episode_transforms\": [], \"domain_prefix\": \"O_\"}], \"seed\": 420, \"dataset_seed\": 420, \"domains_source\": [\"C_1\", \"C_2\", \"C_3\", \"C_4\", \"C_5\"], \"domains_target\": [\"O_32\", \"O_38\", \"O_8\", \"O_44\", \"O_14\", \"O_50\", \"O_20\", \"O_26\"]}, \"results\": {\"source_test_label_accuracy\": 0.9992593115124153, \"source_test_label_loss\": 0.007770762778818607, \"target_test_label_accuracy\": 0.5530598958333334, \"target_test_label_loss\": 1.723597764968872, \"source_val_label_accuracy\": 0.9985357142857143, \"source_val_label_loss\": 0.016112592071294785, \"target_val_label_accuracy\": 0.5512369791666667, \"target_val_label_loss\": 1.7232909202575684, \"total_epochs_trained\": 6, \"total_experiment_time_secs\": 1765.0285608768463, \"confusion\": {\"C_4\": {\"42\": {\"42\": 32}, \"0\": {\"0\": 80}, \"1\": {\"1\": 40}, \"39\": {\"39\": 20}, \"28\": {\"28\": 32}, \"53\": {\"53\": 124}, \"19\": {\"19\": 144}, \"34\": {\"34\": 24}, \"33\": {\"33\": 36}, \"32\": {\"32\": 24}, \"10\": {\"10\": 136}, \"46\": {\"46\": 134}, \"20\": {\"20\": 122}, \"5\": {\"5\": 108}, \"40\": {\"40\": 124}, \"51\": {\"51\": 144}, \"37\": {\"37\": 24}, \"17\": {\"17\": 80}, \"45\": {\"45\": 96}, \"13\": {\"13\": 142}, \"27\": {\"27\": 144}, \"24\": {\"24\": 56}, \"30\": {\"30\": 44}, \"31\": {\"31\": 28}, \"41\": {\"41\": 34, \"10\": 1, \"13\": 1}, \"36\": {\"36\": 92}, \"16\": {\"16\": 96}, \"22\": {\"22\": 128}, \"44\": {\"44\": 132}, \"9\": {\"9\": 140}, \"57\": {\"57\": 100}, \"8\": {\"8\": 138}, \"23\": {\"23\": 132}, \"47\": {\"47\": 120}, \"43\": {\"43\": 138}, \"49\": {\"49\": 20}, \"3\": {\"3\": 121, \"50\": 3}, \"12\": {\"12\": 92}, \"38\": {\"38\": 40}, \"7\": {\"7\": 24}, \"14\": {\"14\": 15, \"43\": 1}, \"15\": {\"15\": 146}, \"25\": {\"25\": 128}, \"26\": {\"26\": 22, \"27\": 2}, \"21\": {\"21\": 132}, \"48\": {\"48\": 144}, \"56\": {\"56\": 134}, \"11\": {\"11\": 104}, \"2\": {\"2\": 36}, \"6\": {\"6\": 112}, \"55\": {\"55\": 140}, \"54\": {\"54\": 108}, \"29\": {\"29\": 124}, \"50\": {\"50\": 119, \"3\": 3}, \"52\": {\"52\": 116}, \"35\": {\"35\": 40}, \"4\": {\"4\": 120}, \"18\": {\"18\": 108}}, \"C_5\": {\"43\": {\"43\": 152}, \"35\": {\"35\": 36}, \"54\": {\"54\": 112}, \"22\": {\"22\": 28}, \"16\": {\"16\": 146}, \"5\": {\"5\": 128}, \"28\": {\"28\": 32}, \"14\": {\"14\": 44}, \"51\": {\"51\": 128}, \"19\": {\"19\": 140}, \"31\": {\"31\": 36}, \"10\": {\"10\": 68}, \"21\": {\"21\": 136}, \"3\": {\"3\": 100}, \"57\": {\"57\": 132}, \"9\": {\"9\": 146}, \"8\": {\"8\": 132}, \"46\": {\"46\": 140}, \"23\": {\"23\": 124}, \"37\": {\"37\": 24}, \"34\": {\"34\": 36}, \"4\": {\"4\": 100}, \"6\": {\"6\": 127, \"50\": 1}, \"48\": {\"48\": 136}, \"44\": {\"44\": 138}, \"40\": {\"40\": 124}, \"12\": {\"12\": 96}, \"30\": {\"30\": 128}, \"39\": {\"39\": 20}, \"45\": {\"45\": 121, \"50\": 2, \"6\": 1}, \"36\": {\"36\": 92}, \"27\": {\"27\": 140}, \"32\": {\"32\": 32}, \"52\": {\"52\": 130}, \"0\": {\"0\": 124}, \"26\": {\"26\": 24}, \"1\": {\"1\": 147, \"20\": 1}, \"53\": {\"53\": 146}, \"25\": {\"25\": 144}, \"24\": {\"24\": 80}, \"7\": {\"7\": 32}, \"18\": {\"18\": 64}, \"20\": {\"20\": 144}, \"33\": {\"33\": 32}, \"55\": {\"55\": 140}, \"41\": {\"41\": 28}, \"42\": {\"42\": 38, \"11\": 1, \"36\": 1}, \"49\": {\"49\": 36}, \"13\": {\"13\": 148}, \"38\": {\"38\": 32}, \"2\": {\"2\": 28}, \"47\": {\"47\": 100}, \"17\": {\"17\": 116}, \"11\": {\"11\": 154}, \"29\": {\"29\": 132}, \"50\": {\"50\": 137, \"6\": 1}, \"56\": {\"56\": 148}, \"15\": {\"15\": 142}}, \"C_2\": {\"49\": {\"49\": 24}, \"13\": {\"13\": 116}, \"37\": {\"37\": 36}, \"41\": {\"41\": 20}, \"15\": {\"15\": 142}, \"56\": {\"56\": 139, \"11\": 1, \"0\": 2}, \"14\": {\"14\": 23, \"56\": 1}, \"3\": {\"3\": 92}, \"38\": {\"38\": 20}, \"43\": {\"43\": 138}, \"33\": {\"33\": 28}, \"47\": {\"47\": 138}, \"30\": {\"30\": 144}, \"39\": {\"39\": 28}, \"12\": {\"12\": 92}, \"6\": {\"6\": 124}, \"51\": {\"51\": 134}, \"5\": {\"5\": 120}, \"34\": {\"34\": 28}, \"35\": {\"35\": 31, \"4\": 1}, \"0\": {\"0\": 48}, \"7\": {\"7\": 36}, \"24\": {\"24\": 96}, \"8\": {\"8\": 136}, \"20\": {\"20\": 124}, \"36\": {\"36\": 116}, \"42\": {\"42\": 36}, \"1\": {\"1\": 112}, \"4\": {\"4\": 148}, \"28\": {\"28\": 28}, \"50\": {\"50\": 136}, \"45\": {\"45\": 128}, \"18\": {\"18\": 48}, \"57\": {\"57\": 120}, \"46\": {\"46\": 128}, \"23\": {\"23\": 148}, \"27\": {\"27\": 138}, \"19\": {\"19\": 134}, \"22\": {\"22\": 136}, \"17\": {\"17\": 104}, \"55\": {\"55\": 136}, \"44\": {\"44\": 100}, \"26\": {\"26\": 24}, \"31\": {\"31\": 28}, \"16\": {\"16\": 130}, \"11\": {\"11\": 128}, \"25\": {\"25\": 126}, \"54\": {\"54\": 108}, \"32\": {\"32\": 28}, \"52\": {\"52\": 124}, \"40\": {\"40\": 130, \"29\": 1, \"44\": 1}, \"2\": {\"2\": 32}, \"10\": {\"10\": 110}, \"53\": {\"53\": 136}, \"9\": {\"9\": 150}, \"21\": {\"21\": 120}, \"48\": {\"48\": 138}, \"29\": {\"29\": 128}}, \"C_1\": {\"9\": {\"9\": 142}, \"25\": {\"25\": 128}, \"41\": {\"41\": 24}, \"29\": {\"29\": 140}, \"46\": {\"46\": 128}, \"4\": {\"4\": 132}, \"31\": {\"31\": 28}, \"36\": {\"36\": 64}, \"20\": {\"20\": 128}, \"7\": {\"7\": 28}, \"6\": {\"6\": 96}, \"16\": {\"16\": 138}, \"17\": {\"17\": 64}, \"50\": {\"50\": 148}, \"57\": {\"57\": 144}, \"23\": {\"23\": 136}, \"3\": {\"3\": 125, \"0\": 1}, \"53\": {\"53\": 140}, \"49\": {\"49\": 32}, \"56\": {\"56\": 152}, \"51\": {\"51\": 142}, \"26\": {\"26\": 24}, \"43\": {\"43\": 144}, \"22\": {\"22\": 136}, \"45\": {\"45\": 146}, \"13\": {\"13\": 152}, \"12\": {\"12\": 116}, \"54\": {\"54\": 104}, \"24\": {\"24\": 108}, \"44\": {\"44\": 136}, \"28\": {\"28\": 28}, \"33\": {\"33\": 32}, \"38\": {\"38\": 24}, \"0\": {\"0\": 144}, \"47\": {\"47\": 154}, \"42\": {\"42\": 40}, \"34\": {\"34\": 24}, \"48\": {\"48\": 142}, \"35\": {\"35\": 36}, \"2\": {\"2\": 36}, \"30\": {\"30\": 120}, \"18\": {\"18\": 72}, \"37\": {\"37\": 32}, \"1\": {\"1\": 100}, \"11\": {\"11\": 138}, \"55\": {\"55\": 130}, \"15\": {\"15\": 150}, \"10\": {\"10\": 96}, \"27\": {\"27\": 160}, \"19\": {\"19\": 146}, \"14\": {\"30\": 1, \"14\": 23}, \"8\": {\"8\": 140}, \"5\": {\"5\": 136}, \"39\": {\"39\": 28}, \"52\": {\"52\": 122}, \"21\": {\"21\": 124}, \"40\": {\"40\": 152}, \"32\": {\"32\": 32}}, \"C_3\": {\"56\": {\"56\": 120}, \"4\": {\"4\": 146}, \"34\": {\"34\": 31, \"42\": 1}, \"52\": {\"52\": 136}, \"32\": {\"32\": 28}, \"46\": {\"46\": 136}, \"12\": {\"12\": 88, \"21\": 2, \"46\": 2}, \"20\": {\"20\": 132}, \"54\": {\"54\": 100}, \"22\": {\"22\": 140}, \"26\": {\"26\": 24}, \"31\": {\"31\": 28}, \"10\": {\"10\": 64}, \"27\": {\"27\": 144}, \"40\": {\"40\": 136}, \"28\": {\"28\": 28}, \"5\": {\"5\": 116}, \"30\": {\"30\": 120}, \"7\": {\"7\": 36}, \"18\": {\"18\": 84}, \"39\": {\"39\": 16}, \"50\": {\"50\": 135, \"3\": 1}, \"49\": {\"49\": 20}, \"43\": {\"43\": 122}, \"29\": {\"29\": 114}, \"35\": {\"35\": 28}, \"13\": {\"13\": 122, \"43\": 2}, \"36\": {\"36\": 100}, \"11\": {\"11\": 146}, \"57\": {\"57\": 124}, \"9\": {\"9\": 130}, \"25\": {\"25\": 130}, \"16\": {\"16\": 126}, \"53\": {\"53\": 118}, \"33\": {\"33\": 28}, \"51\": {\"51\": 128}, \"44\": {\"44\": 88}, \"48\": {\"48\": 114}, \"6\": {\"6\": 88}, \"23\": {\"23\": 144}, \"1\": {\"1\": 100}, \"17\": {\"38\": 2, \"17\": 104, \"53\": 2}, \"21\": {\"21\": 122}, \"14\": {\"14\": 40}, \"55\": {\"55\": 144}, \"41\": {\"41\": 28}, \"3\": {\"3\": 137, \"50\": 1}, \"38\": {\"38\": 28}, \"2\": {\"2\": 32}, \"8\": {\"8\": 142}, \"37\": {\"37\": 28}, \"45\": {\"45\": 60}, \"42\": {\"42\": 28}, \"24\": {\"24\": 104}, \"15\": {\"15\": 136}, \"0\": {\"0\": 124}, \"47\": {\"47\": 92}, \"19\": {\"19\": 120}}, \"O_14\": {\"15\": {\"15\": 240}, \"5\": {\"5\": 119, \"14\": 10, \"2\": 45, \"4\": 22, \"8\": 22, \"3\": 12, \"0\": 6, \"7\": 4}, \"7\": {\"5\": 14, \"7\": 210, \"3\": 3, \"8\": 11, \"13\": 1, \"6\": 1}, \"4\": {\"4\": 170, \"8\": 7, \"5\": 18, \"0\": 13, \"2\": 10, \"12\": 5, \"9\": 3, \"1\": 5, \"10\": 6, \"13\": 1, \"14\": 2}, \"10\": {\"10\": 195, \"9\": 30, \"12\": 10, \"4\": 3, \"0\": 2}, \"11\": {\"11\": 234, \"9\": 5, \"1\": 1}, \"12\": {\"12\": 212, \"10\": 6, \"4\": 1, \"0\": 11, \"9\": 10}, \"0\": {\"4\": 24, \"3\": 30, \"0\": 100, \"14\": 18, \"6\": 13, \"2\": 20, \"13\": 14, \"10\": 6, \"8\": 5, \"12\": 7, \"5\": 3}, \"14\": {\"14\": 84, \"6\": 36, \"2\": 38, \"13\": 36, \"5\": 9, \"4\": 2, \"0\": 24, \"3\": 11}, \"8\": {\"8\": 193, \"5\": 30, \"3\": 8, \"2\": 1, \"4\": 5, \"0\": 1, \"7\": 2}, \"13\": {\"6\": 71, \"13\": 66, \"14\": 42, \"0\": 12, \"2\": 18, \"3\": 10, \"15\": 14, \"4\": 4, \"10\": 2, \"5\": 1}, \"6\": {\"3\": 22, \"6\": 102, \"14\": 35, \"0\": 7, \"13\": 64, \"2\": 10}, \"1\": {\"1\": 226, \"9\": 7, \"4\": 4, \"8\": 2, \"10\": 1}, \"3\": {\"2\": 25, \"3\": 121, \"14\": 19, \"13\": 8, \"0\": 21, \"5\": 14, \"6\": 27, \"8\": 3, \"7\": 2}, \"9\": {\"9\": 197, \"1\": 8, \"12\": 8, \"10\": 27}, \"2\": {\"5\": 39, \"14\": 30, \"3\": 34, \"4\": 46, \"2\": 42, \"13\": 12, \"6\": 24, \"0\": 10, \"8\": 1, \"12\": 1, \"7\": 1}}, \"O_20\": {\"4\": {\"12\": 42, \"4\": 86, \"10\": 46, \"9\": 9, \"6\": 7, \"15\": 15, \"1\": 5, \"3\": 6, \"7\": 8, \"5\": 6, \"2\": 8, \"13\": 1, \"8\": 1}, \"10\": {\"10\": 136, \"4\": 72, \"13\": 8, \"12\": 13, \"2\": 4, \"15\": 3, \"1\": 2, \"6\": 1, \"5\": 1}, \"15\": {\"15\": 43, \"1\": 38, \"5\": 15, \"2\": 29, \"13\": 26, \"12\": 31, \"4\": 7, \"9\": 28, \"7\": 11, \"6\": 2, \"10\": 1, \"3\": 9}, \"0\": {\"0\": 175, \"14\": 12, \"3\": 9, \"8\": 32, \"11\": 5, \"5\": 5, \"9\": 1, \"1\": 1}, \"6\": {\"6\": 100, \"3\": 7, \"2\": 15, \"7\": 35, \"4\": 4, \"14\": 35, \"5\": 7, \"13\": 9, \"9\": 6, \"8\": 20, \"12\": 1, \"1\": 1}, \"3\": {\"8\": 19, \"9\": 39, \"3\": 38, \"14\": 23, \"1\": 20, \"15\": 8, \"6\": 8, \"5\": 42, \"0\": 17, \"7\": 9, \"2\": 6, \"12\": 10, \"4\": 1}, \"7\": {\"13\": 11, \"3\": 14, \"7\": 43, \"2\": 46, \"8\": 15, \"15\": 10, \"9\": 25, \"4\": 5, \"5\": 16, \"14\": 5, \"6\": 41, \"1\": 7, \"12\": 2}, \"2\": {\"7\": 37, \"12\": 10, \"1\": 16, \"2\": 52, \"3\": 9, \"15\": 26, \"6\": 16, \"13\": 34, \"9\": 18, \"5\": 15, \"4\": 4, \"10\": 1, \"8\": 1, \"14\": 1}, \"8\": {\"5\": 12, \"7\": 11, \"8\": 69, \"14\": 73, \"3\": 24, \"0\": 26, \"2\": 2, \"6\": 15, \"9\": 6, \"15\": 1, \"1\": 1}, \"11\": {\"11\": 238, \"0\": 2}, \"14\": {\"8\": 69, \"6\": 33, \"14\": 86, \"3\": 12, \"0\": 15, \"7\": 10, \"9\": 4, \"1\": 1, \"5\": 6, \"10\": 1, \"12\": 1, \"4\": 2}, \"12\": {\"15\": 43, \"13\": 19, \"12\": 42, \"2\": 26, \"1\": 23, \"7\": 11, \"3\": 6, \"4\": 35, \"5\": 16, \"9\": 7, \"10\": 9, \"6\": 2, \"8\": 1}, \"13\": {\"13\": 134, \"2\": 34, \"1\": 3, \"7\": 15, \"15\": 23, \"12\": 9, \"6\": 9, \"9\": 9, \"5\": 1, \"4\": 1, \"10\": 1, \"3\": 1}, \"9\": {\"6\": 15, \"1\": 25, \"5\": 32, \"3\": 43, \"7\": 23, \"9\": 27, \"15\": 14, \"8\": 11, \"12\": 15, \"2\": 22, \"4\": 7, \"14\": 5, \"0\": 1}, \"5\": {\"0\": 6, \"3\": 48, \"5\": 46, \"15\": 16, \"1\": 27, \"7\": 15, \"9\": 35, \"13\": 4, \"8\": 10, \"2\": 16, \"14\": 5, \"4\": 4, \"12\": 6, \"6\": 2}, \"1\": {\"5\": 46, \"9\": 26, \"1\": 44, \"15\": 41, \"13\": 2, \"3\": 26, \"2\": 16, \"12\": 20, \"7\": 10, \"8\": 3, \"4\": 3, \"0\": 2, \"6\": 1}}, \"O_50\": {\"5\": {\"7\": 59, \"5\": 68, \"6\": 43, \"15\": 23, \"11\": 4, \"4\": 21, \"13\": 15, \"1\": 2, \"3\": 5}, \"12\": {\"9\": 40, \"12\": 173, \"11\": 26, \"15\": 1}, \"14\": {\"14\": 181, \"2\": 48, \"0\": 11}, \"4\": {\"4\": 125, \"7\": 75, \"5\": 17, \"15\": 12, \"6\": 11}, \"13\": {\"13\": 182, \"1\": 33, \"11\": 5, \"15\": 3, \"6\": 7, \"3\": 5, \"5\": 3, \"8\": 2}, \"10\": {\"8\": 56, \"10\": 137, \"0\": 39, \"1\": 6, \"13\": 1, \"2\": 1}, \"9\": {\"11\": 35, \"9\": 110, \"15\": 43, \"12\": 37, \"6\": 13, \"5\": 1, \"4\": 1}, \"15\": {\"6\": 67, \"15\": 94, \"5\": 24, \"9\": 31, \"4\": 7, \"11\": 12, \"7\": 5}, \"6\": {\"6\": 102, \"5\": 28, \"11\": 18, \"15\": 63, \"4\": 5, \"3\": 2, \"13\": 1, \"7\": 3, \"9\": 16, \"12\": 2}, \"2\": {\"0\": 61, \"2\": 148, \"14\": 27, \"10\": 4}, \"0\": {\"0\": 153, \"10\": 41, \"2\": 42, \"8\": 3, \"14\": 1}, \"11\": {\"11\": 134, \"6\": 16, \"12\": 26, \"9\": 40, \"15\": 18, \"13\": 3, \"1\": 3}, \"3\": {\"3\": 215, \"5\": 12, \"13\": 10, \"6\": 2, \"7\": 1}, \"8\": {\"8\": 172, \"10\": 53, \"1\": 5, \"13\": 7, \"3\": 2, \"0\": 1}, \"7\": {\"4\": 54, \"7\": 155, \"5\": 24, \"15\": 5, \"3\": 1, \"6\": 1}, \"1\": {\"1\": 171, \"13\": 45, \"8\": 8, \"10\": 9, \"2\": 1, \"11\": 4, \"0\": 2}}, \"O_26\": {\"7\": {\"0\": 8, \"3\": 48, \"8\": 49, \"9\": 49, \"7\": 46, \"2\": 25, \"4\": 1, \"13\": 10, \"12\": 3, \"10\": 1}, \"6\": {\"5\": 47, \"14\": 22, \"6\": 70, \"1\": 28, \"11\": 11, \"10\": 16, \"15\": 36, \"0\": 10}, \"14\": {\"1\": 44, \"14\": 61, \"0\": 49, \"6\": 18, \"10\": 50, \"2\": 4, \"7\": 3, \"5\": 1, \"15\": 6, \"11\": 3, \"8\": 1}, \"15\": {\"9\": 1, \"15\": 63, \"5\": 60, \"2\": 4, \"6\": 54, \"1\": 15, \"10\": 18, \"11\": 4, \"0\": 7, \"14\": 13, \"8\": 1}, \"5\": {\"5\": 91, \"15\": 59, \"6\": 48, \"11\": 6, \"1\": 17, \"10\": 7, \"0\": 7, \"14\": 3, \"2\": 2}, \"10\": {\"0\": 46, \"14\": 56, \"15\": 14, \"10\": 62, \"2\": 4, \"6\": 25, \"1\": 24, \"9\": 2, \"5\": 4, \"8\": 3}, \"4\": {\"4\": 218, \"9\": 3, \"13\": 7, \"3\": 6, \"12\": 3, \"8\": 1, \"7\": 2}, \"11\": {\"11\": 203, \"15\": 5, \"1\": 8, \"6\": 14, \"5\": 7, \"14\": 1, \"0\": 1, \"8\": 1}, \"13\": {\"13\": 138, \"9\": 23, \"3\": 29, \"8\": 6, \"4\": 14, \"7\": 8, \"2\": 20, \"12\": 2}, \"2\": {\"12\": 1, \"8\": 34, \"2\": 72, \"15\": 6, \"7\": 32, \"0\": 18, \"3\": 27, \"13\": 10, \"9\": 26, \"10\": 5, \"6\": 2, \"14\": 5, \"5\": 2}, \"0\": {\"0\": 79, \"14\": 40, \"10\": 50, \"2\": 16, \"15\": 5, \"8\": 25, \"12\": 1, \"7\": 7, \"9\": 4, \"5\": 2, \"6\": 6, \"1\": 4, \"3\": 1}, \"12\": {\"12\": 194, \"0\": 6, \"8\": 13, \"13\": 6, \"3\": 2, \"9\": 7, \"4\": 7, \"7\": 5}, \"3\": {\"3\": 81, \"8\": 24, \"9\": 42, \"13\": 25, \"7\": 46, \"0\": 5, \"2\": 13, \"4\": 3, \"12\": 1}, \"9\": {\"2\": 36, \"8\": 32, \"0\": 10, \"13\": 29, \"9\": 51, \"3\": 38, \"7\": 31, \"12\": 2, \"4\": 2, \"14\": 4, \"5\": 1, \"10\": 2, \"6\": 2}, \"8\": {\"7\": 55, \"9\": 34, \"8\": 61, \"3\": 26, \"2\": 19, \"12\": 9, \"0\": 22, \"13\": 6, \"14\": 3, \"4\": 3, \"10\": 2}, \"1\": {\"10\": 16, \"1\": 151, \"6\": 17, \"14\": 36, \"0\": 7, \"15\": 5, \"5\": 7, \"11\": 1}}, \"O_32\": {\"7\": {\"7\": 78, \"14\": 65, \"0\": 36, \"5\": 51, \"8\": 8, \"2\": 2}, \"2\": {\"3\": 15, \"2\": 116, \"8\": 2, \"4\": 78, \"14\": 12, \"13\": 8, \"0\": 8, \"7\": 1}, \"5\": {\"5\": 97, \"8\": 26, \"7\": 60, \"14\": 22, \"0\": 30, \"15\": 3, \"13\": 1, \"2\": 1}, \"6\": {\"6\": 237, \"10\": 3}, \"13\": {\"4\": 40, \"11\": 34, \"13\": 105, \"3\": 46, \"9\": 1, \"2\": 13, \"8\": 1}, \"4\": {\"2\": 64, \"4\": 83, \"3\": 36, \"11\": 3, \"13\": 41, \"14\": 7, \"8\": 4, \"0\": 2}, \"3\": {\"3\": 142, \"13\": 43, \"2\": 9, \"4\": 37, \"8\": 4, \"14\": 1, \"11\": 3, \"0\": 1}, \"0\": {\"0\": 86, \"8\": 49, \"3\": 1, \"7\": 32, \"5\": 41, \"2\": 9, \"15\": 1, \"14\": 21}, \"9\": {\"9\": 192, \"4\": 8, \"12\": 21, \"2\": 11, \"13\": 4, \"11\": 3, \"8\": 1}, \"12\": {\"12\": 235, \"9\": 3, \"10\": 1, \"1\": 1}, \"8\": {\"0\": 61, \"8\": 96, \"14\": 16, \"5\": 37, \"7\": 11, \"15\": 8, \"2\": 3, \"4\": 3, \"3\": 5}, \"14\": {\"14\": 63, \"5\": 29, \"0\": 28, \"7\": 60, \"8\": 9, \"2\": 31, \"4\": 17, \"15\": 1, \"3\": 2}, \"15\": {\"15\": 224, \"5\": 6, \"0\": 4, \"8\": 6}, \"11\": {\"11\": 213, \"13\": 21, \"4\": 3, \"9\": 2, \"3\": 1}, \"10\": {\"10\": 240}, \"1\": {\"1\": 240}}, \"O_44\": {\"11\": {\"11\": 234, \"13\": 6}, \"7\": {\"10\": 47, \"9\": 56, \"7\": 96, \"4\": 17, \"6\": 11, \"14\": 10, \"2\": 3}, \"6\": {\"13\": 93, \"6\": 114, \"9\": 29, \"11\": 1, \"7\": 3}, \"12\": {\"12\": 148, \"3\": 85, \"1\": 7}, \"4\": {\"4\": 73, \"5\": 28, \"14\": 45, \"7\": 25, \"15\": 23, \"9\": 27, \"1\": 2, \"2\": 12, \"13\": 1, \"6\": 2, \"10\": 1, \"8\": 1}, \"13\": {\"6\": 85, \"7\": 2, \"13\": 129, \"9\": 19, \"11\": 5}, \"8\": {\"0\": 74, \"8\": 102, \"15\": 47, \"14\": 7, \"5\": 10}, \"5\": {\"9\": 5, \"5\": 95, \"14\": 53, \"4\": 47, \"15\": 27, \"8\": 8, \"7\": 3, \"0\": 2}, \"14\": {\"14\": 85, \"4\": 57, \"5\": 39, \"15\": 24, \"9\": 8, \"7\": 19, \"8\": 3, \"2\": 2, \"10\": 1, \"0\": 2}, \"3\": {\"12\": 98, \"3\": 139, \"1\": 3}, \"10\": {\"7\": 52, \"9\": 21, \"2\": 18, \"10\": 127, \"1\": 11, \"14\": 3, \"6\": 3, \"4\": 5}, \"1\": {\"1\": 165, \"2\": 59, \"7\": 1, \"10\": 4, \"3\": 4, \"14\": 2, \"8\": 1, \"0\": 1, \"15\": 2, \"4\": 1}, \"2\": {\"2\": 150, \"10\": 22, \"7\": 6, \"9\": 7, \"4\": 9, \"1\": 35, \"14\": 6, \"15\": 5}, \"15\": {\"15\": 90, \"0\": 16, \"8\": 43, \"5\": 31, \"4\": 12, \"14\": 44, \"2\": 3, \"1\": 1}, \"9\": {\"9\": 69, \"6\": 33, \"10\": 20, \"4\": 17, \"7\": 57, \"14\": 7, \"13\": 29, \"2\": 6, \"5\": 2}, \"0\": {\"0\": 145, \"8\": 71, \"14\": 2, \"15\": 16, \"4\": 2, \"3\": 1, \"1\": 2, \"2\": 1}}, \"O_8\": {\"10\": {\"4\": 14, \"6\": 38, \"13\": 47, \"1\": 15, \"10\": 68, \"11\": 3, \"7\": 19, \"5\": 33, \"8\": 3}, \"6\": {\"7\": 49, \"6\": 93, \"10\": 20, \"1\": 10, \"4\": 33, \"13\": 16, \"5\": 4, \"8\": 14, \"11\": 1}, \"13\": {\"4\": 2, \"7\": 51, \"13\": 105, \"10\": 35, \"6\": 32, \"1\": 1, \"5\": 14}, \"3\": {\"3\": 204, \"2\": 36}, \"9\": {\"9\": 239, \"2\": 1}, \"1\": {\"11\": 48, \"1\": 73, \"5\": 50, \"10\": 21, \"13\": 6, \"4\": 22, \"8\": 15, \"6\": 4, \"14\": 1}, \"5\": {\"5\": 79, \"10\": 57, \"1\": 44, \"11\": 17, \"13\": 19, \"6\": 3, \"4\": 15, \"15\": 2, \"14\": 2, \"7\": 2}, \"11\": {\"4\": 31, \"10\": 11, \"5\": 14, \"1\": 56, \"8\": 37, \"6\": 6, \"14\": 21, \"11\": 64}, \"4\": {\"4\": 132, \"1\": 12, \"6\": 10, \"11\": 13, \"14\": 35, \"8\": 27, \"10\": 8, \"5\": 3}, \"14\": {\"14\": 169, \"1\": 4, \"4\": 41, \"8\": 10, \"10\": 1, \"11\": 9, \"5\": 3, \"0\": 3}, \"12\": {\"15\": 93, \"12\": 141, \"2\": 6}, \"7\": {\"4\": 3, \"7\": 106, \"6\": 53, \"13\": 59, \"10\": 14, \"11\": 2, \"5\": 2, \"1\": 1}, \"0\": {\"0\": 238, \"14\": 2}, \"15\": {\"15\": 138, \"12\": 88, \"2\": 14}, \"2\": {\"2\": 136, \"15\": 36, \"12\": 28, \"3\": 40}, \"8\": {\"4\": 41, \"11\": 32, \"8\": 119, \"6\": 13, \"1\": 21, \"14\": 8, \"10\": 2, \"5\": 1, \"7\": 3}}, \"O_38\": {\"4\": {\"4\": 218, \"10\": 16, \"0\": 3, \"14\": 3}, \"7\": {\"7\": 173, \"2\": 17, \"8\": 7, \"0\": 11, \"14\": 7, \"13\": 13, \"5\": 6, \"9\": 5, \"10\": 1}, \"12\": {\"12\": 230, \"14\": 4, \"7\": 1, \"5\": 4, \"8\": 1}, \"10\": {\"10\": 133, \"0\": 47, \"4\": 21, \"13\": 29, \"3\": 7, \"11\": 2, \"14\": 1}, \"0\": {\"13\": 55, \"0\": 68, \"8\": 1, \"3\": 25, \"10\": 58, \"7\": 21, \"4\": 7, \"2\": 2, \"9\": 3}, \"1\": {\"6\": 63, \"1\": 169, \"15\": 8}, \"5\": {\"7\": 17, \"5\": 67, \"8\": 80, \"2\": 15, \"9\": 35, \"15\": 22, \"12\": 4}, \"15\": {\"5\": 26, \"15\": 180, \"8\": 22, \"1\": 9, \"6\": 1, \"12\": 1, \"9\": 1}, \"9\": {\"9\": 182, \"8\": 19, \"5\": 25, \"7\": 11, \"2\": 2, \"13\": 1}, \"11\": {\"11\": 239, \"3\": 1}, \"14\": {\"14\": 154, \"2\": 55, \"12\": 2, \"7\": 12, \"13\": 10, \"10\": 4, \"8\": 1, \"4\": 2}, \"6\": {\"6\": 172, \"1\": 67, \"15\": 1}, \"8\": {\"7\": 39, \"2\": 17, \"5\": 69, \"8\": 73, \"15\": 17, \"12\": 11, \"9\": 10, \"0\": 1, \"14\": 2, \"13\": 1}, \"3\": {\"3\": 237, \"11\": 2, \"10\": 1}, \"2\": {\"2\": 152, \"14\": 34, \"13\": 10, \"7\": 24, \"12\": 1, \"5\": 9, \"8\": 9, \"0\": 1}, \"13\": {\"0\": 46, \"10\": 18, \"13\": 144, \"7\": 16, \"2\": 9, \"9\": 1, \"8\": 1, \"14\": 4, \"5\": 1}}}, \"per_domain_accuracy\": {\"C_4\": {\"accuracy\": 0.9979416167664671, \"source?\": true}, \"C_5\": {\"accuracy\": 0.9986033519553073, \"source?\": true}, \"C_2\": {\"accuracy\": 0.99875, \"source?\": true}, \"C_1\": {\"accuracy\": 0.9996603260869565, \"source?\": true}, \"C_3\": {\"accuracy\": 0.997610294117647, \"source?\": true}, \"O_14\": {\"accuracy\": 0.65390625, \"source?\": false}, \"O_20\": {\"accuracy\": 0.35390625, \"source?\": false}, \"O_50\": {\"accuracy\": 0.6041666666666666, \"source?\": false}, \"O_26\": {\"accuracy\": 0.42734375, \"source?\": false}, \"O_32\": {\"accuracy\": 0.6372395833333333, \"source?\": false}, \"O_44\": {\"accuracy\": 0.5106770833333333, \"source?\": false}, \"O_8\": {\"accuracy\": 0.5479166666666667, \"source?\": false}, \"O_38\": {\"accuracy\": 0.6747395833333333, \"source?\": false}}}, \"history\": {\"epoch_indices\": [1, 2, 3, 4, 5, 6], \"train_label_loss\": [0.03142429452452377, 0.009318706439081711, 0.006505443732643018, 0.00537816930524622, 0.004323564209262222, 0.004932236828933688], \"source_val_label_loss\": [0.01578209176659584, 0.016112592071294785, 0.024179501459002495, 0.016340265050530434, 0.01798195391893387, 0.01594979129731655], \"target_val_label_loss\": [1.998187780380249, 1.7232909202575684, 1.6957101821899414, 1.8217769861221313, 1.6337531805038452, 1.4927830696105957], \"source_val_acc_label\": [0.9976071428571428, 0.9985357142857143, 0.9987142857142857, 0.9986428571428572, 0.9990357142857142, 0.9986071428571428], \"target_val_acc_label\": [0.5264973958333333, 0.5512369791666667, 0.49762369791666666, 0.4513346354166667, 0.49345703125, 0.49091796875]}, \"dataset_metrics\": {\"source\": {\"train\": {\"n_unique_x\": 175111, \"n_unique_y\": 58, \"n_batch/episode\": 6295}, \"val\": {\"n_unique_x\": 37216, \"n_unique_y\": 58, \"n_batch/episode\": 875}, \"test\": {\"n_unique_x\": 37596, \"n_unique_y\": 58, \"n_batch/episode\": 886}}, \"target\": {\"train\": {\"n_unique_x\": 179200, \"n_unique_y\": 16, \"n_batch/episode\": 6720}, \"val\": {\"n_unique_x\": 38400, \"n_unique_y\": 16, \"n_batch/episode\": 960}, \"test\": {\"n_unique_x\": 38400, \"n_unique_y\": 16, \"n_batch/episode\": 960}}}}'"
      ]
     },
     "execution_count": 29,
     "metadata": {},
     "output_type": "execute_result"
    }
   ],
   "source": [
    "json.dumps(experiment)"
   ]
  }
 ],
 "metadata": {
  "celltoolbar": "Tags",
  "kernelspec": {
   "display_name": "Python 3 (ipykernel)",
   "language": "python",
   "name": "python3"
  },
  "language_info": {
   "codemirror_mode": {
    "name": "ipython",
    "version": 3
   },
   "file_extension": ".py",
   "mimetype": "text/x-python",
   "name": "python",
   "nbconvert_exporter": "python",
   "pygments_lexer": "ipython3",
   "version": "3.8.10"
  },
  "papermill": {
   "default_parameters": {},
   "duration": 1917.590995,
   "end_time": "2022-03-25T17:17:01.522560",
   "environment_variables": {},
   "exception": null,
   "input_path": "/mnt/wd500GB/CSC500/csc500-main/csc500-notebooks/templates/tl_ptn_template.ipynb",
   "output_path": "trial.ipynb",
   "parameters": {
    "parameters": {
     "BEST_MODEL_PATH": "./best_model.pth",
     "NUM_LOGS_PER_EPOCH": 10,
     "criteria_for_best": "target_accuracy",
     "dataset_seed": 420,
     "datasets": [
      {
       "domain_prefix": "C_",
       "domains": [
        1,
        2,
        3,
        4,
        5
       ],
       "episode_transforms": [],
       "labels": [
        "1-10.",
        "1-11.",
        "1-15.",
        "1-16.",
        "1-17.",
        "1-18.",
        "1-19.",
        "10-4.",
        "10-7.",
        "11-1.",
        "11-14.",
        "11-17.",
        "11-20.",
        "11-7.",
        "13-20.",
        "13-8.",
        "14-10.",
        "14-11.",
        "14-14.",
        "14-7.",
        "15-1.",
        "15-20.",
        "16-1.",
        "16-16.",
        "17-10.",
        "17-11.",
        "17-2.",
        "19-1.",
        "19-16.",
        "19-19.",
        "19-20.",
        "19-3.",
        "2-10.",
        "2-11.",
        "2-17.",
        "2-18.",
        "2-20.",
        "2-3.",
        "2-4.",
        "2-5.",
        "2-6.",
        "2-7.",
        "2-8.",
        "3-13.",
        "3-18.",
        "3-3.",
        "4-1.",
        "4-10.",
        "4-11.",
        "4-19.",
        "5-5.",
        "6-15.",
        "7-10.",
        "7-14.",
        "8-18.",
        "8-20.",
        "8-3.",
        "8-8."
       ],
       "num_examples_per_domain_per_label": -1,
       "pickle_path": "/mnt/wd500GB/CSC500/csc500-main/datasets/cores.stratified_ds.2022A.pkl",
       "source_or_target_dataset": "source",
       "x_transforms": [
        "lowpass_+/-10MHz",
        "take_200"
       ]
      },
      {
       "domain_prefix": "O_",
       "domains": [
        32,
        38,
        8,
        44,
        14,
        50,
        20,
        26
       ],
       "episode_transforms": [],
       "labels": [
        "3123D52",
        "3123D65",
        "3123D79",
        "3123D80",
        "3123D54",
        "3123D70",
        "3123D7B",
        "3123D89",
        "3123D58",
        "3123D76",
        "3123D7D",
        "3123EFE",
        "3123D64",
        "3123D78",
        "3123D7E",
        "3124E4A"
       ],
       "num_examples_per_domain_per_label": 2000,
       "pickle_path": "/mnt/wd500GB/CSC500/csc500-main/datasets/oracle.Run1_framed_2000Examples_stratified_ds.2022A.pkl",
       "source_or_target_dataset": "target",
       "x_transforms": [
        "take_200",
        "resample_20Msps_to_25Msps"
       ]
      }
     ],
     "device": "cuda",
     "experiment_name": "tl_3-filterv2:cores -> oracle.run1.framed",
     "lr": 0.0001,
     "n_epoch": 50,
     "n_query": 2,
     "n_shot": 3,
     "n_way": 16,
     "patience": 3,
     "seed": 420,
     "test_k_factor": 2,
     "torch_default_dtype": "torch.float32",
     "train_k_factor": 3,
     "val_k_factor": 2,
     "x_net": [
      {
       "class": "nnReshape",
       "kargs": {
        "shape": [
         -1,
         1,
         2,
         200
        ]
       }
      },
      {
       "class": "Conv2d",
       "kargs": {
        "bias": false,
        "in_channels": 1,
        "kernel_size": [
         1,
         7
        ],
        "out_channels": 256,
        "padding": [
         0,
         3
        ]
       }
      },
      {
       "class": "ReLU",
       "kargs": {
        "inplace": true
       }
      },
      {
       "class": "BatchNorm2d",
       "kargs": {
        "num_features": 256
       }
      },
      {
       "class": "Conv2d",
       "kargs": {
        "bias": true,
        "in_channels": 256,
        "kernel_size": [
         2,
         7
        ],
        "out_channels": 80,
        "padding": [
         0,
         3
        ]
       }
      },
      {
       "class": "ReLU",
       "kargs": {
        "inplace": true
       }
      },
      {
       "class": "BatchNorm2d",
       "kargs": {
        "num_features": 80
       }
      },
      {
       "class": "Flatten",
       "kargs": {}
      },
      {
       "class": "Linear",
       "kargs": {
        "in_features": 16000,
        "out_features": 256
       }
      },
      {
       "class": "ReLU",
       "kargs": {
        "inplace": true
       }
      },
      {
       "class": "BatchNorm1d",
       "kargs": {
        "num_features": 256
       }
      },
      {
       "class": "Linear",
       "kargs": {
        "in_features": 256,
        "out_features": 256
       }
      }
     ],
     "x_shape": [
      2,
      200
     ]
    }
   },
   "start_time": "2022-03-25T16:45:03.931565",
   "version": "2.3.4"
  }
 },
 "nbformat": 4,
 "nbformat_minor": 5
}