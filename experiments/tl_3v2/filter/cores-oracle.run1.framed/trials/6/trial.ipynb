{
 "cells": [
  {
   "cell_type": "markdown",
   "id": "9fea5f46",
   "metadata": {
    "papermill": {
     "duration": 0.0165,
     "end_time": "2022-03-25T17:17:02.500395",
     "exception": false,
     "start_time": "2022-03-25T17:17:02.483895",
     "status": "completed"
    },
    "tags": []
   },
   "source": [
    "# Transfer Learning Template"
   ]
  },
  {
   "cell_type": "code",
   "execution_count": 1,
   "id": "0902182a",
   "metadata": {
    "execution": {
     "iopub.execute_input": "2022-03-25T17:17:02.541648Z",
     "iopub.status.busy": "2022-03-25T17:17:02.541127Z",
     "iopub.status.idle": "2022-03-25T17:17:03.499972Z",
     "shell.execute_reply": "2022-03-25T17:17:03.500189Z"
    },
    "papermill": {
     "duration": 0.98713,
     "end_time": "2022-03-25T17:17:03.500313",
     "exception": false,
     "start_time": "2022-03-25T17:17:02.513183",
     "status": "completed"
    },
    "tags": []
   },
   "outputs": [],
   "source": [
    "%load_ext autoreload\n",
    "%autoreload 2\n",
    "%matplotlib inline\n",
    "\n",
    "    \n",
    "import os, json, sys, time, random\n",
    "import numpy as np\n",
    "import torch\n",
    "from torch.optim import Adam\n",
    "from  easydict import EasyDict\n",
    "import matplotlib.pyplot as plt\n",
    "\n",
    "from steves_models.steves_ptn import Steves_Prototypical_Network\n",
    "\n",
    "from steves_utils.lazy_iterable_wrapper import Lazy_Iterable_Wrapper\n",
    "from steves_utils.iterable_aggregator import Iterable_Aggregator\n",
    "from steves_utils.ptn_train_eval_test_jig import  PTN_Train_Eval_Test_Jig\n",
    "from steves_utils.torch_sequential_builder import build_sequential\n",
    "from steves_utils.torch_utils import get_dataset_metrics, ptn_confusion_by_domain_over_dataloader\n",
    "from steves_utils.utils_v2 import (per_domain_accuracy_from_confusion, get_datasets_base_path)\n",
    "from steves_utils.PTN.utils import independent_accuracy_assesment\n",
    "\n",
    "from torch.utils.data import DataLoader\n",
    "\n",
    "from steves_utils.stratified_dataset.episodic_accessor import Episodic_Accessor_Factory\n",
    "\n",
    "from steves_utils.ptn_do_report import (\n",
    "    get_loss_curve,\n",
    "    get_results_table,\n",
    "    get_parameters_table,\n",
    "    get_domain_accuracies,\n",
    ")\n",
    "\n",
    "from steves_utils.transforms import get_chained_transform"
   ]
  },
  {
   "cell_type": "markdown",
   "id": "41c840b4",
   "metadata": {
    "papermill": {
     "duration": 0.012822,
     "end_time": "2022-03-25T17:17:03.526536",
     "exception": false,
     "start_time": "2022-03-25T17:17:03.513714",
     "status": "completed"
    },
    "tags": []
   },
   "source": [
    "# Allowed Parameters\n",
    "These are allowed parameters, not defaults\n",
    "Each of these values need to be present in the injected parameters (the notebook will raise an exception if they are not present)\n",
    "\n",
    "Papermill uses the cell tag \"parameters\" to inject the real parameters below this cell.\n",
    "Enable tags to see what I mean"
   ]
  },
  {
   "cell_type": "code",
   "execution_count": 2,
   "id": "fd44eb83",
   "metadata": {
    "execution": {
     "iopub.execute_input": "2022-03-25T17:17:03.555256Z",
     "iopub.status.busy": "2022-03-25T17:17:03.554982Z",
     "iopub.status.idle": "2022-03-25T17:17:03.569301Z",
     "shell.execute_reply": "2022-03-25T17:17:03.569609Z"
    },
    "papermill": {
     "duration": 0.030338,
     "end_time": "2022-03-25T17:17:03.569736",
     "exception": false,
     "start_time": "2022-03-25T17:17:03.539398",
     "status": "completed"
    },
    "tags": []
   },
   "outputs": [],
   "source": [
    "required_parameters = {\n",
    "    \"experiment_name\",\n",
    "    \"lr\",\n",
    "    \"device\",\n",
    "    \"seed\",\n",
    "    \"dataset_seed\",\n",
    "    \"n_shot\",\n",
    "    \"n_query\",\n",
    "    \"n_way\",\n",
    "    \"train_k_factor\",\n",
    "    \"val_k_factor\",\n",
    "    \"test_k_factor\",\n",
    "    \"n_epoch\",\n",
    "    \"patience\",\n",
    "    \"criteria_for_best\",\n",
    "    \"x_net\",\n",
    "    \"datasets\",\n",
    "    \"torch_default_dtype\",\n",
    "    \"NUM_LOGS_PER_EPOCH\",\n",
    "    \"BEST_MODEL_PATH\",\n",
    "    \"x_shape\",\n",
    "}"
   ]
  },
  {
   "cell_type": "code",
   "execution_count": 3,
   "id": "fa3f0049",
   "metadata": {
    "execution": {
     "iopub.execute_input": "2022-03-25T17:17:03.610737Z",
     "iopub.status.busy": "2022-03-25T17:17:03.606421Z",
     "iopub.status.idle": "2022-03-25T17:17:03.623031Z",
     "shell.execute_reply": "2022-03-25T17:17:03.623462Z"
    },
    "papermill": {
     "duration": 0.036615,
     "end_time": "2022-03-25T17:17:03.623593",
     "exception": false,
     "start_time": "2022-03-25T17:17:03.586978",
     "status": "completed"
    },
    "tags": [
     "parameters"
    ]
   },
   "outputs": [],
   "source": [
    "from steves_utils.CORES.utils import (\n",
    "    ALL_NODES,\n",
    "    ALL_NODES_MINIMUM_1000_EXAMPLES,\n",
    "    ALL_DAYS\n",
    ")\n",
    "\n",
    "from steves_utils.ORACLE.utils_v2 import (\n",
    "    ALL_DISTANCES_FEET_NARROWED,\n",
    "    ALL_RUNS,\n",
    "    ALL_SERIAL_NUMBERS,\n",
    ")\n",
    "\n",
    "standalone_parameters = {}\n",
    "standalone_parameters[\"experiment_name\"] = \"STANDALONE PTN\"\n",
    "standalone_parameters[\"lr\"] = 0.001\n",
    "standalone_parameters[\"device\"] = \"cuda\"\n",
    "\n",
    "standalone_parameters[\"seed\"] = 1337\n",
    "standalone_parameters[\"dataset_seed\"] = 1337\n",
    "\n",
    "standalone_parameters[\"n_way\"] = 8\n",
    "standalone_parameters[\"n_shot\"] = 3\n",
    "standalone_parameters[\"n_query\"]  = 2\n",
    "standalone_parameters[\"train_k_factor\"] = 1\n",
    "standalone_parameters[\"val_k_factor\"] = 2\n",
    "standalone_parameters[\"test_k_factor\"] = 2\n",
    "\n",
    "\n",
    "standalone_parameters[\"n_epoch\"] = 50\n",
    "\n",
    "standalone_parameters[\"patience\"] = 10\n",
    "standalone_parameters[\"criteria_for_best\"] = \"source_loss\"\n",
    "\n",
    "standalone_parameters[\"datasets\"] = [\n",
    "    {\n",
    "        \"labels\": ALL_SERIAL_NUMBERS,\n",
    "        \"domains\": ALL_DISTANCES_FEET_NARROWED,\n",
    "        \"num_examples_per_domain_per_label\": 100,\n",
    "        \"pickle_path\": os.path.join(get_datasets_base_path(), \"oracle.Run1_framed_2000Examples_stratified_ds.2022A.pkl\"),\n",
    "        \"source_or_target_dataset\": \"source\",\n",
    "        \"x_transforms\": [\"unit_mag\", \"minus_two\"],\n",
    "        \"episode_transforms\": [],\n",
    "        \"domain_prefix\": \"ORACLE_\"\n",
    "    },\n",
    "    {\n",
    "        \"labels\": ALL_NODES,\n",
    "        \"domains\": ALL_DAYS,\n",
    "        \"num_examples_per_domain_per_label\": 100,\n",
    "        \"pickle_path\": os.path.join(get_datasets_base_path(), \"cores.stratified_ds.2022A.pkl\"),\n",
    "        \"source_or_target_dataset\": \"target\",\n",
    "        \"x_transforms\": [\"unit_power\", \"times_zero\"],\n",
    "        \"episode_transforms\": [],\n",
    "        \"domain_prefix\": \"CORES_\"\n",
    "    }   \n",
    "]\n",
    "\n",
    "standalone_parameters[\"torch_default_dtype\"] = \"torch.float32\" \n",
    "\n",
    "\n",
    "\n",
    "standalone_parameters[\"x_net\"] =     [\n",
    "    {\"class\": \"nnReshape\", \"kargs\": {\"shape\":[-1, 1, 2, 256]}},\n",
    "    {\"class\": \"Conv2d\", \"kargs\": { \"in_channels\":1, \"out_channels\":256, \"kernel_size\":(1,7), \"bias\":False, \"padding\":(0,3), },},\n",
    "    {\"class\": \"ReLU\", \"kargs\": {\"inplace\": True}},\n",
    "    {\"class\": \"BatchNorm2d\", \"kargs\": {\"num_features\":256}},\n",
    "\n",
    "    {\"class\": \"Conv2d\", \"kargs\": { \"in_channels\":256, \"out_channels\":80, \"kernel_size\":(2,7), \"bias\":True, \"padding\":(0,3), },},\n",
    "    {\"class\": \"ReLU\", \"kargs\": {\"inplace\": True}},\n",
    "    {\"class\": \"BatchNorm2d\", \"kargs\": {\"num_features\":80}},\n",
    "    {\"class\": \"Flatten\", \"kargs\": {}},\n",
    "\n",
    "    {\"class\": \"Linear\", \"kargs\": {\"in_features\": 80*256, \"out_features\": 256}}, # 80 units per IQ pair\n",
    "    {\"class\": \"ReLU\", \"kargs\": {\"inplace\": True}},\n",
    "    {\"class\": \"BatchNorm1d\", \"kargs\": {\"num_features\":256}},\n",
    "\n",
    "    {\"class\": \"Linear\", \"kargs\": {\"in_features\": 256, \"out_features\": 256}},\n",
    "]\n",
    "\n",
    "# Parameters relevant to results\n",
    "# These parameters will basically never need to change\n",
    "standalone_parameters[\"NUM_LOGS_PER_EPOCH\"] = 10\n",
    "standalone_parameters[\"BEST_MODEL_PATH\"] = \"./best_model.pth\"\n",
    "\n",
    "\n",
    "\n",
    "\n"
   ]
  },
  {
   "cell_type": "code",
   "execution_count": 4,
   "id": "c799cdc6",
   "metadata": {
    "execution": {
     "iopub.execute_input": "2022-03-25T17:17:03.663961Z",
     "iopub.status.busy": "2022-03-25T17:17:03.660478Z",
     "iopub.status.idle": "2022-03-25T17:17:03.676218Z",
     "shell.execute_reply": "2022-03-25T17:17:03.676628Z"
    },
    "papermill": {
     "duration": 0.035953,
     "end_time": "2022-03-25T17:17:03.676753",
     "exception": false,
     "start_time": "2022-03-25T17:17:03.640800",
     "status": "completed"
    },
    "tags": [
     "injected-parameters"
    ]
   },
   "outputs": [],
   "source": [
    "# Parameters\n",
    "parameters = {\n",
    "    \"experiment_name\": \"tl_3-filterv2:cores -> oracle.run1.framed\",\n",
    "    \"device\": \"cuda\",\n",
    "    \"lr\": 0.0001,\n",
    "    \"x_shape\": [2, 200],\n",
    "    \"n_shot\": 3,\n",
    "    \"n_query\": 2,\n",
    "    \"train_k_factor\": 3,\n",
    "    \"val_k_factor\": 2,\n",
    "    \"test_k_factor\": 2,\n",
    "    \"torch_default_dtype\": \"torch.float32\",\n",
    "    \"n_epoch\": 50,\n",
    "    \"patience\": 3,\n",
    "    \"criteria_for_best\": \"target_accuracy\",\n",
    "    \"x_net\": [\n",
    "        {\"class\": \"nnReshape\", \"kargs\": {\"shape\": [-1, 1, 2, 200]}},\n",
    "        {\n",
    "            \"class\": \"Conv2d\",\n",
    "            \"kargs\": {\n",
    "                \"in_channels\": 1,\n",
    "                \"out_channels\": 256,\n",
    "                \"kernel_size\": [1, 7],\n",
    "                \"bias\": False,\n",
    "                \"padding\": [0, 3],\n",
    "            },\n",
    "        },\n",
    "        {\"class\": \"ReLU\", \"kargs\": {\"inplace\": True}},\n",
    "        {\"class\": \"BatchNorm2d\", \"kargs\": {\"num_features\": 256}},\n",
    "        {\n",
    "            \"class\": \"Conv2d\",\n",
    "            \"kargs\": {\n",
    "                \"in_channels\": 256,\n",
    "                \"out_channels\": 80,\n",
    "                \"kernel_size\": [2, 7],\n",
    "                \"bias\": True,\n",
    "                \"padding\": [0, 3],\n",
    "            },\n",
    "        },\n",
    "        {\"class\": \"ReLU\", \"kargs\": {\"inplace\": True}},\n",
    "        {\"class\": \"BatchNorm2d\", \"kargs\": {\"num_features\": 80}},\n",
    "        {\"class\": \"Flatten\", \"kargs\": {}},\n",
    "        {\"class\": \"Linear\", \"kargs\": {\"in_features\": 16000, \"out_features\": 256}},\n",
    "        {\"class\": \"ReLU\", \"kargs\": {\"inplace\": True}},\n",
    "        {\"class\": \"BatchNorm1d\", \"kargs\": {\"num_features\": 256}},\n",
    "        {\"class\": \"Linear\", \"kargs\": {\"in_features\": 256, \"out_features\": 256}},\n",
    "    ],\n",
    "    \"NUM_LOGS_PER_EPOCH\": 10,\n",
    "    \"BEST_MODEL_PATH\": \"./best_model.pth\",\n",
    "    \"n_way\": 16,\n",
    "    \"datasets\": [\n",
    "        {\n",
    "            \"labels\": [\n",
    "                \"1-10.\",\n",
    "                \"1-11.\",\n",
    "                \"1-15.\",\n",
    "                \"1-16.\",\n",
    "                \"1-17.\",\n",
    "                \"1-18.\",\n",
    "                \"1-19.\",\n",
    "                \"10-4.\",\n",
    "                \"10-7.\",\n",
    "                \"11-1.\",\n",
    "                \"11-14.\",\n",
    "                \"11-17.\",\n",
    "                \"11-20.\",\n",
    "                \"11-7.\",\n",
    "                \"13-20.\",\n",
    "                \"13-8.\",\n",
    "                \"14-10.\",\n",
    "                \"14-11.\",\n",
    "                \"14-14.\",\n",
    "                \"14-7.\",\n",
    "                \"15-1.\",\n",
    "                \"15-20.\",\n",
    "                \"16-1.\",\n",
    "                \"16-16.\",\n",
    "                \"17-10.\",\n",
    "                \"17-11.\",\n",
    "                \"17-2.\",\n",
    "                \"19-1.\",\n",
    "                \"19-16.\",\n",
    "                \"19-19.\",\n",
    "                \"19-20.\",\n",
    "                \"19-3.\",\n",
    "                \"2-10.\",\n",
    "                \"2-11.\",\n",
    "                \"2-17.\",\n",
    "                \"2-18.\",\n",
    "                \"2-20.\",\n",
    "                \"2-3.\",\n",
    "                \"2-4.\",\n",
    "                \"2-5.\",\n",
    "                \"2-6.\",\n",
    "                \"2-7.\",\n",
    "                \"2-8.\",\n",
    "                \"3-13.\",\n",
    "                \"3-18.\",\n",
    "                \"3-3.\",\n",
    "                \"4-1.\",\n",
    "                \"4-10.\",\n",
    "                \"4-11.\",\n",
    "                \"4-19.\",\n",
    "                \"5-5.\",\n",
    "                \"6-15.\",\n",
    "                \"7-10.\",\n",
    "                \"7-14.\",\n",
    "                \"8-18.\",\n",
    "                \"8-20.\",\n",
    "                \"8-3.\",\n",
    "                \"8-8.\",\n",
    "            ],\n",
    "            \"domains\": [1, 2, 3, 4, 5],\n",
    "            \"num_examples_per_domain_per_label\": -1,\n",
    "            \"pickle_path\": \"/mnt/wd500GB/CSC500/csc500-main/datasets/cores.stratified_ds.2022A.pkl\",\n",
    "            \"source_or_target_dataset\": \"source\",\n",
    "            \"x_transforms\": [\"unit_power\", \"lowpass_+/-10MHz\", \"take_200\"],\n",
    "            \"episode_transforms\": [],\n",
    "            \"domain_prefix\": \"C_\",\n",
    "        },\n",
    "        {\n",
    "            \"labels\": [\n",
    "                \"3123D52\",\n",
    "                \"3123D65\",\n",
    "                \"3123D79\",\n",
    "                \"3123D80\",\n",
    "                \"3123D54\",\n",
    "                \"3123D70\",\n",
    "                \"3123D7B\",\n",
    "                \"3123D89\",\n",
    "                \"3123D58\",\n",
    "                \"3123D76\",\n",
    "                \"3123D7D\",\n",
    "                \"3123EFE\",\n",
    "                \"3123D64\",\n",
    "                \"3123D78\",\n",
    "                \"3123D7E\",\n",
    "                \"3124E4A\",\n",
    "            ],\n",
    "            \"domains\": [32, 38, 8, 44, 14, 50, 20, 26],\n",
    "            \"num_examples_per_domain_per_label\": 2000,\n",
    "            \"pickle_path\": \"/mnt/wd500GB/CSC500/csc500-main/datasets/oracle.Run1_framed_2000Examples_stratified_ds.2022A.pkl\",\n",
    "            \"source_or_target_dataset\": \"target\",\n",
    "            \"x_transforms\": [\"unit_power\", \"take_200\", \"resample_20Msps_to_25Msps\"],\n",
    "            \"episode_transforms\": [],\n",
    "            \"domain_prefix\": \"O_\",\n",
    "        },\n",
    "    ],\n",
    "    \"seed\": 154325,\n",
    "    \"dataset_seed\": 154325,\n",
    "}\n"
   ]
  },
  {
   "cell_type": "code",
   "execution_count": 5,
   "id": "8fa1cc33",
   "metadata": {
    "execution": {
     "iopub.execute_input": "2022-03-25T17:17:03.710884Z",
     "iopub.status.busy": "2022-03-25T17:17:03.710607Z",
     "iopub.status.idle": "2022-03-25T17:17:03.722087Z",
     "shell.execute_reply": "2022-03-25T17:17:03.722401Z"
    },
    "papermill": {
     "duration": 0.027189,
     "end_time": "2022-03-25T17:17:03.722495",
     "exception": false,
     "start_time": "2022-03-25T17:17:03.695306",
     "status": "completed"
    },
    "tags": []
   },
   "outputs": [],
   "source": [
    "# Set this to True if you want to run this template directly\n",
    "STANDALONE = False\n",
    "if STANDALONE:\n",
    "    print(\"parameters not injected, running with standalone_parameters\")\n",
    "    parameters = standalone_parameters\n",
    "\n",
    "if not 'parameters' in locals() and not 'parameters' in globals():\n",
    "    raise Exception(\"Parameter injection failed\")\n",
    "\n",
    "#Use an easy dict for all the parameters\n",
    "p = EasyDict(parameters)\n",
    "\n",
    "if \"x_shape\" not in p:\n",
    "    p.x_shape = [2,256] # Default to this if we dont supply x_shape\n",
    "\n",
    "\n",
    "supplied_keys = set(p.keys())\n",
    "\n",
    "if  supplied_keys != required_parameters:\n",
    "    print(\"Parameters are incorrect\")\n",
    "    if len(supplied_keys - required_parameters)>0: print(\"Shouldn't have:\", str(supplied_keys - required_parameters))\n",
    "    if len(required_parameters - supplied_keys)>0: print(\"Need to have:\", str(required_parameters - supplied_keys))\n",
    "    raise RuntimeError(\"Parameters are incorrect\")"
   ]
  },
  {
   "cell_type": "code",
   "execution_count": 6,
   "id": "3a028d58",
   "metadata": {
    "execution": {
     "iopub.execute_input": "2022-03-25T17:17:03.756423Z",
     "iopub.status.busy": "2022-03-25T17:17:03.756157Z",
     "iopub.status.idle": "2022-03-25T17:17:03.768262Z",
     "shell.execute_reply": "2022-03-25T17:17:03.767913Z"
    },
    "papermill": {
     "duration": 0.026804,
     "end_time": "2022-03-25T17:17:03.768349",
     "exception": false,
     "start_time": "2022-03-25T17:17:03.741545",
     "status": "completed"
    },
    "tags": []
   },
   "outputs": [],
   "source": [
    "###################################\n",
    "# Set the RNGs and make it all deterministic\n",
    "###################################\n",
    "np.random.seed(p.seed)\n",
    "random.seed(p.seed)\n",
    "torch.manual_seed(p.seed)\n",
    "\n",
    "torch.use_deterministic_algorithms(True) "
   ]
  },
  {
   "cell_type": "code",
   "execution_count": 7,
   "id": "b691acf6",
   "metadata": {
    "execution": {
     "iopub.execute_input": "2022-03-25T17:17:03.806102Z",
     "iopub.status.busy": "2022-03-25T17:17:03.805827Z",
     "iopub.status.idle": "2022-03-25T17:17:03.819267Z",
     "shell.execute_reply": "2022-03-25T17:17:03.819027Z"
    },
    "papermill": {
     "duration": 0.032969,
     "end_time": "2022-03-25T17:17:03.819325",
     "exception": false,
     "start_time": "2022-03-25T17:17:03.786356",
     "status": "completed"
    },
    "tags": []
   },
   "outputs": [],
   "source": [
    "###########################################\n",
    "# The stratified datasets honor this\n",
    "###########################################\n",
    "torch.set_default_dtype(eval(p.torch_default_dtype))"
   ]
  },
  {
   "cell_type": "code",
   "execution_count": 8,
   "id": "b5fba671",
   "metadata": {
    "execution": {
     "iopub.execute_input": "2022-03-25T17:17:03.853258Z",
     "iopub.status.busy": "2022-03-25T17:17:03.853004Z",
     "iopub.status.idle": "2022-03-25T17:17:03.889513Z",
     "shell.execute_reply": "2022-03-25T17:17:03.889927Z"
    },
    "papermill": {
     "duration": 0.052142,
     "end_time": "2022-03-25T17:17:03.890073",
     "exception": false,
     "start_time": "2022-03-25T17:17:03.837931",
     "status": "completed"
    },
    "tags": []
   },
   "outputs": [],
   "source": [
    "###################################\n",
    "# Build the network(s)\n",
    "# Note: It's critical to do this AFTER setting the RNG\n",
    "###################################\n",
    "x_net = build_sequential(p.x_net)"
   ]
  },
  {
   "cell_type": "code",
   "execution_count": 9,
   "id": "5d7e61cc",
   "metadata": {
    "execution": {
     "iopub.execute_input": "2022-03-25T17:17:03.923601Z",
     "iopub.status.busy": "2022-03-25T17:17:03.923341Z",
     "iopub.status.idle": "2022-03-25T17:17:03.938198Z",
     "shell.execute_reply": "2022-03-25T17:17:03.937731Z"
    },
    "papermill": {
     "duration": 0.030008,
     "end_time": "2022-03-25T17:17:03.938301",
     "exception": false,
     "start_time": "2022-03-25T17:17:03.908293",
     "status": "completed"
    },
    "tags": []
   },
   "outputs": [],
   "source": [
    "start_time_secs = time.time()"
   ]
  },
  {
   "cell_type": "code",
   "execution_count": 10,
   "id": "c6b67dfd",
   "metadata": {
    "execution": {
     "iopub.execute_input": "2022-03-25T17:17:03.973959Z",
     "iopub.status.busy": "2022-03-25T17:17:03.973707Z",
     "iopub.status.idle": "2022-03-25T17:17:03.988557Z",
     "shell.execute_reply": "2022-03-25T17:17:03.988776Z"
    },
    "papermill": {
     "duration": 0.030707,
     "end_time": "2022-03-25T17:17:03.988855",
     "exception": false,
     "start_time": "2022-03-25T17:17:03.958148",
     "status": "completed"
    },
    "tags": []
   },
   "outputs": [],
   "source": [
    "p.domains_source = []\n",
    "p.domains_target = []\n",
    "\n",
    "\n",
    "train_original_source = []\n",
    "val_original_source   = []\n",
    "test_original_source  = []\n",
    "\n",
    "train_original_target = []\n",
    "val_original_target   = []\n",
    "test_original_target  = []"
   ]
  },
  {
   "cell_type": "code",
   "execution_count": 11,
   "id": "e3d9c3d3",
   "metadata": {
    "execution": {
     "iopub.execute_input": "2022-03-25T17:17:04.018698Z",
     "iopub.status.busy": "2022-03-25T17:17:04.018292Z",
     "iopub.status.idle": "2022-03-25T17:17:04.029635Z",
     "shell.execute_reply": "2022-03-25T17:17:04.029382Z"
    },
    "papermill": {
     "duration": 0.026508,
     "end_time": "2022-03-25T17:17:04.029698",
     "exception": false,
     "start_time": "2022-03-25T17:17:04.003190",
     "status": "completed"
    },
    "tags": []
   },
   "outputs": [],
   "source": [
    "# global_x_transform_func = lambda x: normalize(x.to(torch.get_default_dtype()), \"unit_power\") # unit_power, unit_mag\n",
    "# global_x_transform_func = lambda x: normalize(x, \"unit_power\") # unit_power, unit_mag"
   ]
  },
  {
   "cell_type": "code",
   "execution_count": 12,
   "id": "acb78fd2",
   "metadata": {
    "execution": {
     "iopub.execute_input": "2022-03-25T17:17:04.062245Z",
     "iopub.status.busy": "2022-03-25T17:17:04.061805Z",
     "iopub.status.idle": "2022-03-25T17:17:04.073870Z",
     "shell.execute_reply": "2022-03-25T17:17:04.074108Z"
    },
    "papermill": {
     "duration": 0.030666,
     "end_time": "2022-03-25T17:17:04.074188",
     "exception": false,
     "start_time": "2022-03-25T17:17:04.043522",
     "status": "completed"
    },
    "tags": []
   },
   "outputs": [],
   "source": [
    "def add_dataset(\n",
    "    labels,\n",
    "    domains,\n",
    "    pickle_path,\n",
    "    x_transforms,\n",
    "    episode_transforms,\n",
    "    domain_prefix,\n",
    "    num_examples_per_domain_per_label,\n",
    "    source_or_target_dataset:str,\n",
    "    iterator_seed=p.seed,\n",
    "    dataset_seed=p.dataset_seed,\n",
    "    n_shot=p.n_shot,\n",
    "    n_way=p.n_way,\n",
    "    n_query=p.n_query,\n",
    "    train_val_test_k_factors=(p.train_k_factor,p.val_k_factor,p.test_k_factor),\n",
    "):\n",
    "   \n",
    "    if x_transforms == []: x_transform = None\n",
    "    else: x_transform = get_chained_transform(x_transforms)\n",
    "    \n",
    "    if episode_transforms == []: episode_transform = None\n",
    "    else: raise Exception(\"episode_transforms not implemented\")\n",
    "    \n",
    "    episode_transform = lambda tup, _prefix=domain_prefix: (_prefix + str(tup[0]), tup[1])\n",
    "\n",
    "\n",
    "    eaf = Episodic_Accessor_Factory(\n",
    "        labels=labels,\n",
    "        domains=domains,\n",
    "        num_examples_per_domain_per_label=num_examples_per_domain_per_label,\n",
    "        iterator_seed=iterator_seed,\n",
    "        dataset_seed=dataset_seed,\n",
    "        n_shot=n_shot,\n",
    "        n_way=n_way,\n",
    "        n_query=n_query,\n",
    "        train_val_test_k_factors=train_val_test_k_factors,\n",
    "        pickle_path=pickle_path,\n",
    "        x_transform_func=x_transform,\n",
    "    )\n",
    "\n",
    "    train, val, test = eaf.get_train(), eaf.get_val(), eaf.get_test()\n",
    "    train = Lazy_Iterable_Wrapper(train, episode_transform)\n",
    "    val = Lazy_Iterable_Wrapper(val, episode_transform)\n",
    "    test = Lazy_Iterable_Wrapper(test, episode_transform)\n",
    "\n",
    "    if source_or_target_dataset==\"source\":\n",
    "        train_original_source.append(train)\n",
    "        val_original_source.append(val)\n",
    "        test_original_source.append(test)\n",
    "\n",
    "        p.domains_source.extend(\n",
    "            [domain_prefix + str(u) for u in domains]\n",
    "        )\n",
    "    elif source_or_target_dataset==\"target\":\n",
    "        train_original_target.append(train)\n",
    "        val_original_target.append(val)\n",
    "        test_original_target.append(test)\n",
    "        p.domains_target.extend(\n",
    "            [domain_prefix + str(u) for u in domains]\n",
    "        )\n",
    "    else:\n",
    "        raise Exception(f\"invalid source_or_target_dataset: {source_or_target_dataset}\")\n",
    "    "
   ]
  },
  {
   "cell_type": "code",
   "execution_count": 13,
   "id": "fe266617",
   "metadata": {
    "execution": {
     "iopub.execute_input": "2022-03-25T17:17:04.105850Z",
     "iopub.status.busy": "2022-03-25T17:17:04.105584Z",
     "iopub.status.idle": "2022-03-25T17:17:57.821417Z",
     "shell.execute_reply": "2022-03-25T17:17:57.820787Z"
    },
    "papermill": {
     "duration": 53.733491,
     "end_time": "2022-03-25T17:17:57.821560",
     "exception": false,
     "start_time": "2022-03-25T17:17:04.088069",
     "status": "completed"
    },
    "tags": []
   },
   "outputs": [],
   "source": [
    "for ds in p.datasets:\n",
    "    add_dataset(**ds)"
   ]
  },
  {
   "cell_type": "code",
   "execution_count": 14,
   "id": "b90d65ac",
   "metadata": {
    "execution": {
     "iopub.execute_input": "2022-03-25T17:17:57.860843Z",
     "iopub.status.busy": "2022-03-25T17:17:57.860566Z",
     "iopub.status.idle": "2022-03-25T17:17:57.874187Z",
     "shell.execute_reply": "2022-03-25T17:17:57.873912Z"
    },
    "papermill": {
     "duration": 0.032417,
     "end_time": "2022-03-25T17:17:57.874251",
     "exception": false,
     "start_time": "2022-03-25T17:17:57.841834",
     "status": "completed"
    },
    "tags": []
   },
   "outputs": [],
   "source": [
    "# from steves_utils.CORES.utils import (\n",
    "#     ALL_NODES,\n",
    "#     ALL_NODES_MINIMUM_1000_EXAMPLES,\n",
    "#     ALL_DAYS\n",
    "# )\n",
    "\n",
    "# add_dataset(\n",
    "#     labels=ALL_NODES,\n",
    "#     domains = ALL_DAYS,\n",
    "#     num_examples_per_domain_per_label=100,\n",
    "#     pickle_path=os.path.join(get_datasets_base_path(), \"cores.stratified_ds.2022A.pkl\"),\n",
    "#     source_or_target_dataset=\"target\",\n",
    "#     x_transform_func=global_x_transform_func,\n",
    "#     domain_modifier=lambda u: f\"cores_{u}\"\n",
    "# )"
   ]
  },
  {
   "cell_type": "code",
   "execution_count": 15,
   "id": "76db484d",
   "metadata": {
    "execution": {
     "iopub.execute_input": "2022-03-25T17:17:57.909816Z",
     "iopub.status.busy": "2022-03-25T17:17:57.908938Z",
     "iopub.status.idle": "2022-03-25T17:17:57.924650Z",
     "shell.execute_reply": "2022-03-25T17:17:57.924230Z"
    },
    "papermill": {
     "duration": 0.033218,
     "end_time": "2022-03-25T17:17:57.924758",
     "exception": false,
     "start_time": "2022-03-25T17:17:57.891540",
     "status": "completed"
    },
    "tags": []
   },
   "outputs": [],
   "source": [
    "# from steves_utils.ORACLE.utils_v2 import (\n",
    "#     ALL_DISTANCES_FEET,\n",
    "#     ALL_RUNS,\n",
    "#     ALL_SERIAL_NUMBERS,\n",
    "# )\n",
    "\n",
    "\n",
    "# add_dataset(\n",
    "#     labels=ALL_SERIAL_NUMBERS,\n",
    "#     domains = list(set(ALL_DISTANCES_FEET) - {2,62}),\n",
    "#     num_examples_per_domain_per_label=100,\n",
    "#     pickle_path=os.path.join(get_datasets_base_path(), \"oracle.Run2_framed_2000Examples_stratified_ds.2022A.pkl\"),\n",
    "#     source_or_target_dataset=\"source\",\n",
    "#     x_transform_func=global_x_transform_func,\n",
    "#     domain_modifier=lambda u: f\"oracle1_{u}\"\n",
    "# )\n"
   ]
  },
  {
   "cell_type": "code",
   "execution_count": 16,
   "id": "97dea9d2",
   "metadata": {
    "execution": {
     "iopub.execute_input": "2022-03-25T17:17:57.959841Z",
     "iopub.status.busy": "2022-03-25T17:17:57.959574Z",
     "iopub.status.idle": "2022-03-25T17:17:57.972801Z",
     "shell.execute_reply": "2022-03-25T17:17:57.972363Z"
    },
    "papermill": {
     "duration": 0.03053,
     "end_time": "2022-03-25T17:17:57.972914",
     "exception": false,
     "start_time": "2022-03-25T17:17:57.942384",
     "status": "completed"
    },
    "tags": []
   },
   "outputs": [],
   "source": [
    "# from steves_utils.ORACLE.utils_v2 import (\n",
    "#     ALL_DISTANCES_FEET,\n",
    "#     ALL_RUNS,\n",
    "#     ALL_SERIAL_NUMBERS,\n",
    "# )\n",
    "\n",
    "\n",
    "# add_dataset(\n",
    "#     labels=ALL_SERIAL_NUMBERS,\n",
    "#     domains = list(set(ALL_DISTANCES_FEET) - {2,62,56}),\n",
    "#     num_examples_per_domain_per_label=100,\n",
    "#     pickle_path=os.path.join(get_datasets_base_path(), \"oracle.Run2_framed_2000Examples_stratified_ds.2022A.pkl\"),\n",
    "#     source_or_target_dataset=\"source\",\n",
    "#     x_transform_func=global_x_transform_func,\n",
    "#     domain_modifier=lambda u: f\"oracle2_{u}\"\n",
    "# )"
   ]
  },
  {
   "cell_type": "code",
   "execution_count": 17,
   "id": "6f289866",
   "metadata": {
    "execution": {
     "iopub.execute_input": "2022-03-25T17:17:58.008964Z",
     "iopub.status.busy": "2022-03-25T17:17:58.008695Z",
     "iopub.status.idle": "2022-03-25T17:17:58.019492Z",
     "shell.execute_reply": "2022-03-25T17:17:58.018997Z"
    },
    "papermill": {
     "duration": 0.027344,
     "end_time": "2022-03-25T17:17:58.019598",
     "exception": false,
     "start_time": "2022-03-25T17:17:57.992254",
     "status": "completed"
    },
    "tags": []
   },
   "outputs": [],
   "source": [
    "# add_dataset(\n",
    "#     labels=list(range(19)),\n",
    "#     domains = [0,1,2],\n",
    "#     num_examples_per_domain_per_label=100,\n",
    "#     pickle_path=os.path.join(get_datasets_base_path(), \"metehan.stratified_ds.2022A.pkl\"),\n",
    "#     source_or_target_dataset=\"target\",\n",
    "#     x_transform_func=global_x_transform_func,\n",
    "#     domain_modifier=lambda u: f\"met_{u}\"\n",
    "# )"
   ]
  },
  {
   "cell_type": "code",
   "execution_count": 18,
   "id": "86a863c3",
   "metadata": {
    "execution": {
     "iopub.execute_input": "2022-03-25T17:17:58.055901Z",
     "iopub.status.busy": "2022-03-25T17:17:58.055632Z",
     "iopub.status.idle": "2022-03-25T17:17:58.066866Z",
     "shell.execute_reply": "2022-03-25T17:17:58.066408Z"
    },
    "papermill": {
     "duration": 0.027475,
     "end_time": "2022-03-25T17:17:58.066971",
     "exception": false,
     "start_time": "2022-03-25T17:17:58.039496",
     "status": "completed"
    },
    "tags": []
   },
   "outputs": [],
   "source": [
    "# # from steves_utils.wisig.utils import (\n",
    "# #     ALL_NODES_MINIMUM_100_EXAMPLES,\n",
    "# #     ALL_NODES_MINIMUM_500_EXAMPLES,\n",
    "# #     ALL_NODES_MINIMUM_1000_EXAMPLES,\n",
    "# #     ALL_DAYS\n",
    "# # )\n",
    "\n",
    "# import steves_utils.wisig.utils as wisig\n",
    "\n",
    "\n",
    "# add_dataset(\n",
    "#     labels=wisig.ALL_NODES_MINIMUM_100_EXAMPLES,\n",
    "#     domains = wisig.ALL_DAYS,\n",
    "#     num_examples_per_domain_per_label=100,\n",
    "#     pickle_path=os.path.join(get_datasets_base_path(), \"wisig.node3-19.stratified_ds.2022A.pkl\"),\n",
    "#     source_or_target_dataset=\"target\",\n",
    "#     x_transform_func=global_x_transform_func,\n",
    "#     domain_modifier=lambda u: f\"wisig_{u}\"\n",
    "# )"
   ]
  },
  {
   "cell_type": "code",
   "execution_count": 19,
   "id": "fd5442bc",
   "metadata": {
    "execution": {
     "iopub.execute_input": "2022-03-25T17:17:58.104109Z",
     "iopub.status.busy": "2022-03-25T17:17:58.103832Z",
     "iopub.status.idle": "2022-03-25T17:17:58.118192Z",
     "shell.execute_reply": "2022-03-25T17:17:58.118492Z"
    },
    "papermill": {
     "duration": 0.034201,
     "end_time": "2022-03-25T17:17:58.118595",
     "exception": false,
     "start_time": "2022-03-25T17:17:58.084394",
     "status": "completed"
    },
    "tags": []
   },
   "outputs": [],
   "source": [
    "###################################\n",
    "# Build the dataset\n",
    "###################################\n",
    "train_original_source = Iterable_Aggregator(train_original_source, p.seed)\n",
    "val_original_source = Iterable_Aggregator(val_original_source, p.seed)\n",
    "test_original_source = Iterable_Aggregator(test_original_source, p.seed)\n",
    "\n",
    "\n",
    "train_original_target = Iterable_Aggregator(train_original_target, p.seed)\n",
    "val_original_target = Iterable_Aggregator(val_original_target, p.seed)\n",
    "test_original_target = Iterable_Aggregator(test_original_target, p.seed)\n",
    "\n",
    "# For CNN We only use X and Y. And we only train on the source.\n",
    "# Properly form the data using a transform lambda and Lazy_Iterable_Wrapper. Finally wrap them in a dataloader\n",
    "\n",
    "transform_lambda = lambda ex: ex[1] # Original is (<domain>, <episode>) so we strip down to episode only\n",
    "\n",
    "train_processed_source = Lazy_Iterable_Wrapper(train_original_source, transform_lambda)\n",
    "val_processed_source   = Lazy_Iterable_Wrapper(val_original_source, transform_lambda)\n",
    "test_processed_source  = Lazy_Iterable_Wrapper(test_original_source, transform_lambda)\n",
    "\n",
    "train_processed_target = Lazy_Iterable_Wrapper(train_original_target, transform_lambda)\n",
    "val_processed_target   = Lazy_Iterable_Wrapper(val_original_target, transform_lambda)\n",
    "test_processed_target  = Lazy_Iterable_Wrapper(test_original_target, transform_lambda)\n",
    "\n",
    "datasets = EasyDict({\n",
    "    \"source\": {\n",
    "        \"original\": {\"train\":train_original_source, \"val\":val_original_source, \"test\":test_original_source},\n",
    "        \"processed\": {\"train\":train_processed_source, \"val\":val_processed_source, \"test\":test_processed_source}\n",
    "    },\n",
    "    \"target\": {\n",
    "        \"original\": {\"train\":train_original_target, \"val\":val_original_target, \"test\":test_original_target},\n",
    "        \"processed\": {\"train\":train_processed_target, \"val\":val_processed_target, \"test\":test_processed_target}\n",
    "    },\n",
    "})"
   ]
  },
  {
   "cell_type": "code",
   "execution_count": 20,
   "id": "5b3c01fc",
   "metadata": {
    "execution": {
     "iopub.execute_input": "2022-03-25T17:17:58.156440Z",
     "iopub.status.busy": "2022-03-25T17:17:58.156174Z",
     "iopub.status.idle": "2022-03-25T17:18:05.124646Z",
     "shell.execute_reply": "2022-03-25T17:18:05.124906Z"
    },
    "papermill": {
     "duration": 6.985536,
     "end_time": "2022-03-25T17:18:05.124986",
     "exception": false,
     "start_time": "2022-03-25T17:17:58.139450",
     "status": "completed"
    },
    "tags": []
   },
   "outputs": [
    {
     "name": "stdout",
     "output_type": "stream",
     "text": [
      "{'C_2', 'C_4', 'C_3', 'C_5', 'C_1'}\n"
     ]
    },
    {
     "name": "stdout",
     "output_type": "stream",
     "text": [
      "{'O_44', 'O_20', 'O_14', 'O_26', 'O_8', 'O_38', 'O_50', 'O_32'}\n"
     ]
    },
    {
     "name": "stdout",
     "output_type": "stream",
     "text": [
      "tensor([[[-2.5852e-02, -1.7049e-01, -3.5716e-01,  ..., -5.8761e-01,\n",
      "          -1.1346e+00, -1.0981e+00],\n",
      "         [ 1.1911e-02,  2.6763e-02, -1.4653e-01,  ...,  4.2189e-02,\n",
      "           6.0128e-01,  5.2357e-01]],\n",
      "\n",
      "        [[-1.1616e-02, -6.1826e-02, -3.8336e-02,  ..., -5.9149e-01,\n",
      "          -8.1644e-02, -6.8770e-01],\n",
      "         [ 6.7538e-04, -2.9846e-02, -1.8166e-01,  ...,  2.9109e-01,\n",
      "          -8.5905e-01, -1.1663e+00]],\n",
      "\n",
      "        [[ 1.5706e-02,  3.8917e-02, -1.7215e-01,  ...,  3.2754e-02,\n",
      "           1.0328e+00,  1.2558e+00],\n",
      "         [ 5.9136e-02,  3.6691e-01,  7.7266e-01,  ..., -1.4283e+00,\n",
      "          -4.7198e-01,  7.5538e-01]],\n",
      "\n",
      "        ...,\n",
      "\n",
      "        [[-8.5233e-03, -4.1693e-02, -2.6346e-02,  ...,  5.0865e-01,\n",
      "          -3.7409e-01, -5.2455e-01],\n",
      "         [ 2.3297e-02,  1.6469e-01,  4.3264e-01,  ..., -3.1132e-01,\n",
      "          -7.3132e-02,  3.0786e-01]],\n",
      "\n",
      "        [[-1.5099e-04,  1.2531e-02,  7.1010e-02,  ..., -2.7501e-01,\n",
      "          -3.2690e-01,  2.9311e-01],\n",
      "         [-1.9628e-03, -3.3838e-02, -1.8146e-01,  ...,  3.2336e-01,\n",
      "           4.4396e-01,  1.7906e-01]],\n",
      "\n",
      "        [[-5.4951e-03, -2.7521e-02, -2.6343e-02,  ...,  2.4736e-01,\n",
      "           1.0934e+00,  5.4176e-01],\n",
      "         [-2.0245e-03, -1.0862e-02, -1.6630e-02,  ...,  1.5046e+00,\n",
      "           3.7645e-01, -3.5324e-02]]])\n"
     ]
    }
   ],
   "source": [
    "from steves_utils.transforms import get_average_magnitude, get_average_power\n",
    "\n",
    "print(set([u for u,_ in val_original_source]))\n",
    "print(set([u for u,_ in val_original_target]))\n",
    "\n",
    "s_x, s_y, q_x, q_y, _ = next(iter(train_processed_source))\n",
    "print(s_x)\n",
    "\n",
    "# for ds in [\n",
    "#     train_processed_source,\n",
    "#     val_processed_source,\n",
    "#     test_processed_source,\n",
    "#     train_processed_target,\n",
    "#     val_processed_target,\n",
    "#     test_processed_target\n",
    "# ]:\n",
    "#     for s_x, s_y, q_x, q_y, _ in ds:\n",
    "#         for X in (s_x, q_x):\n",
    "#             for x in X:\n",
    "#                 assert np.isclose(get_average_magnitude(x.numpy()), 1.0)\n",
    "#                 assert np.isclose(get_average_power(x.numpy()), 1.0)\n",
    "                "
   ]
  },
  {
   "cell_type": "code",
   "execution_count": 21,
   "id": "bbdacba1",
   "metadata": {
    "execution": {
     "iopub.execute_input": "2022-03-25T17:18:05.160161Z",
     "iopub.status.busy": "2022-03-25T17:18:05.159888Z",
     "iopub.status.idle": "2022-03-25T17:18:05.212146Z",
     "shell.execute_reply": "2022-03-25T17:18:05.212591Z"
    },
    "papermill": {
     "duration": 0.071872,
     "end_time": "2022-03-25T17:18:05.212731",
     "exception": false,
     "start_time": "2022-03-25T17:18:05.140859",
     "status": "completed"
    },
    "tags": []
   },
   "outputs": [
    {
     "name": "stdout",
     "output_type": "stream",
     "text": [
      "(2, 200)\n"
     ]
    }
   ],
   "source": [
    "###################################\n",
    "# Build the model\n",
    "###################################\n",
    "# easfsl only wants a tuple for the shape\n",
    "model = Steves_Prototypical_Network(x_net, device=p.device, x_shape=tuple(p.x_shape))\n",
    "optimizer = Adam(params=model.parameters(), lr=p.lr)"
   ]
  },
  {
   "cell_type": "code",
   "execution_count": 22,
   "id": "22b39ac5",
   "metadata": {
    "execution": {
     "iopub.execute_input": "2022-03-25T17:18:05.252619Z",
     "iopub.status.busy": "2022-03-25T17:18:05.252350Z",
     "iopub.status.idle": "2022-03-25T17:54:51.455722Z",
     "shell.execute_reply": "2022-03-25T17:54:51.455475Z"
    },
    "papermill": {
     "duration": 2206.222361,
     "end_time": "2022-03-25T17:54:51.455783",
     "exception": false,
     "start_time": "2022-03-25T17:18:05.233422",
     "status": "completed"
    },
    "tags": []
   },
   "outputs": [
    {
     "name": "stdout",
     "output_type": "stream",
     "text": [
      "epoch: 1, [batch: 1 / 6297], examples_per_second: 48.9537, train_label_loss: 2.5129, \n"
     ]
    },
    {
     "name": "stdout",
     "output_type": "stream",
     "text": [
      "epoch: 1, [batch: 630 / 6297], examples_per_second: 1868.6799, train_label_loss: 0.0802, \n"
     ]
    },
    {
     "name": "stdout",
     "output_type": "stream",
     "text": [
      "epoch: 1, [batch: 1260 / 6297], examples_per_second: 1865.3972, train_label_loss: 0.0136, \n"
     ]
    },
    {
     "name": "stdout",
     "output_type": "stream",
     "text": [
      "epoch: 1, [batch: 1889 / 6297], examples_per_second: 1865.0298, train_label_loss: 0.0017, \n"
     ]
    },
    {
     "name": "stdout",
     "output_type": "stream",
     "text": [
      "epoch: 1, [batch: 2519 / 6297], examples_per_second: 1862.0514, train_label_loss: 0.0020, \n"
     ]
    },
    {
     "name": "stdout",
     "output_type": "stream",
     "text": [
      "epoch: 1, [batch: 3149 / 6297], examples_per_second: 2158.0212, train_label_loss: 0.0190, \n"
     ]
    },
    {
     "name": "stdout",
     "output_type": "stream",
     "text": [
      "epoch: 1, [batch: 3778 / 6297], examples_per_second: 2471.2005, train_label_loss: 0.0007, \n"
     ]
    },
    {
     "name": "stdout",
     "output_type": "stream",
     "text": [
      "epoch: 1, [batch: 4408 / 6297], examples_per_second: 1862.5151, train_label_loss: 0.0001, \n"
     ]
    },
    {
     "name": "stdout",
     "output_type": "stream",
     "text": [
      "epoch: 1, [batch: 5037 / 6297], examples_per_second: 1862.8328, train_label_loss: 0.0002, \n"
     ]
    },
    {
     "name": "stdout",
     "output_type": "stream",
     "text": [
      "epoch: 1, [batch: 5667 / 6297], examples_per_second: 1865.3039, train_label_loss: 0.0124, \n"
     ]
    },
    {
     "name": "stdout",
     "output_type": "stream",
     "text": [
      "=============================================================\n",
      "epoch: 1, source_val_acc_label: 0.9980, target_val_acc_label: 0.2453, source_val_label_loss: 0.0098, target_val_label_loss: 2.2820, \n",
      "=============================================================\n"
     ]
    },
    {
     "name": "stdout",
     "output_type": "stream",
     "text": [
      "New best\n"
     ]
    },
    {
     "name": "stdout",
     "output_type": "stream",
     "text": [
      "epoch: 2, [batch: 1 / 6333], examples_per_second: 2.8276, train_label_loss: 0.0000, \n"
     ]
    },
    {
     "name": "stdout",
     "output_type": "stream",
     "text": [
      "epoch: 2, [batch: 634 / 6333], examples_per_second: 1867.8874, train_label_loss: 0.0000, \n"
     ]
    },
    {
     "name": "stdout",
     "output_type": "stream",
     "text": [
      "epoch: 2, [batch: 1267 / 6333], examples_per_second: 1871.2843, train_label_loss: 0.0009, \n"
     ]
    },
    {
     "name": "stdout",
     "output_type": "stream",
     "text": [
      "epoch: 2, [batch: 1900 / 6333], examples_per_second: 1867.6856, train_label_loss: 0.0001, \n"
     ]
    },
    {
     "name": "stdout",
     "output_type": "stream",
     "text": [
      "epoch: 2, [batch: 2533 / 6333], examples_per_second: 1865.1480, train_label_loss: 0.0000, \n"
     ]
    },
    {
     "name": "stdout",
     "output_type": "stream",
     "text": [
      "epoch: 2, [batch: 3167 / 6333], examples_per_second: 2122.4241, train_label_loss: 0.0000, \n"
     ]
    },
    {
     "name": "stdout",
     "output_type": "stream",
     "text": [
      "epoch: 2, [batch: 3800 / 6333], examples_per_second: 2447.5156, train_label_loss: 0.0000, \n"
     ]
    },
    {
     "name": "stdout",
     "output_type": "stream",
     "text": [
      "epoch: 2, [batch: 4433 / 6333], examples_per_second: 1865.1368, train_label_loss: 0.0000, \n"
     ]
    },
    {
     "name": "stdout",
     "output_type": "stream",
     "text": [
      "epoch: 2, [batch: 5066 / 6333], examples_per_second: 1867.7685, train_label_loss: 0.0076, \n"
     ]
    },
    {
     "name": "stdout",
     "output_type": "stream",
     "text": [
      "epoch: 2, [batch: 5699 / 6333], examples_per_second: 1867.1463, train_label_loss: 0.0000, \n"
     ]
    },
    {
     "name": "stdout",
     "output_type": "stream",
     "text": [
      "=============================================================\n",
      "epoch: 2, source_val_acc_label: 0.9991, target_val_acc_label: 0.2353, source_val_label_loss: 0.0093, target_val_label_loss: 3.2646, \n",
      "=============================================================\n"
     ]
    },
    {
     "name": "stdout",
     "output_type": "stream",
     "text": [
      "epoch: 3, [batch: 1 / 6305], examples_per_second: 2.8130, train_label_loss: 0.0001, \n"
     ]
    },
    {
     "name": "stdout",
     "output_type": "stream",
     "text": [
      "epoch: 3, [batch: 631 / 6305], examples_per_second: 1867.6667, train_label_loss: 0.0000, \n"
     ]
    },
    {
     "name": "stdout",
     "output_type": "stream",
     "text": [
      "epoch: 3, [batch: 1261 / 6305], examples_per_second: 1870.3302, train_label_loss: 0.0000, \n"
     ]
    },
    {
     "name": "stdout",
     "output_type": "stream",
     "text": [
      "epoch: 3, [batch: 1892 / 6305], examples_per_second: 1867.0463, train_label_loss: 0.0000, \n"
     ]
    },
    {
     "name": "stdout",
     "output_type": "stream",
     "text": [
      "epoch: 3, [batch: 2522 / 6305], examples_per_second: 1863.5470, train_label_loss: 0.0050, \n"
     ]
    },
    {
     "name": "stdout",
     "output_type": "stream",
     "text": [
      "epoch: 3, [batch: 3153 / 6305], examples_per_second: 2153.4758, train_label_loss: 0.0000, \n"
     ]
    },
    {
     "name": "stdout",
     "output_type": "stream",
     "text": [
      "epoch: 3, [batch: 3783 / 6305], examples_per_second: 2346.8792, train_label_loss: 0.0000, \n"
     ]
    },
    {
     "name": "stdout",
     "output_type": "stream",
     "text": [
      "epoch: 3, [batch: 4413 / 6305], examples_per_second: 2326.0875, train_label_loss: 0.0000, \n"
     ]
    },
    {
     "name": "stdout",
     "output_type": "stream",
     "text": [
      "epoch: 3, [batch: 5044 / 6305], examples_per_second: 2306.1695, train_label_loss: 0.0001, \n"
     ]
    },
    {
     "name": "stdout",
     "output_type": "stream",
     "text": [
      "epoch: 3, [batch: 5674 / 6305], examples_per_second: 2268.5687, train_label_loss: 0.0000, \n"
     ]
    },
    {
     "name": "stdout",
     "output_type": "stream",
     "text": [
      "=============================================================\n",
      "epoch: 3, source_val_acc_label: 0.9958, target_val_acc_label: 0.2430, source_val_label_loss: 0.0214, target_val_label_loss: 3.0122, \n",
      "=============================================================\n"
     ]
    },
    {
     "name": "stdout",
     "output_type": "stream",
     "text": [
      "epoch: 4, [batch: 1 / 6323], examples_per_second: 3.9900, train_label_loss: 0.0000, \n"
     ]
    },
    {
     "name": "stdout",
     "output_type": "stream",
     "text": [
      "epoch: 4, [batch: 633 / 6323], examples_per_second: 3551.2914, train_label_loss: 0.0000, \n"
     ]
    },
    {
     "name": "stdout",
     "output_type": "stream",
     "text": [
      "epoch: 4, [batch: 1265 / 6323], examples_per_second: 3586.0317, train_label_loss: 0.0000, \n"
     ]
    },
    {
     "name": "stdout",
     "output_type": "stream",
     "text": [
      "epoch: 4, [batch: 1897 / 6323], examples_per_second: 3568.7735, train_label_loss: 0.0000, \n"
     ]
    },
    {
     "name": "stdout",
     "output_type": "stream",
     "text": [
      "epoch: 4, [batch: 2529 / 6323], examples_per_second: 3583.1608, train_label_loss: 0.0001, \n"
     ]
    },
    {
     "name": "stdout",
     "output_type": "stream",
     "text": [
      "epoch: 4, [batch: 3162 / 6323], examples_per_second: 3591.3920, train_label_loss: 0.0000, \n"
     ]
    },
    {
     "name": "stdout",
     "output_type": "stream",
     "text": [
      "epoch: 4, [batch: 3794 / 6323], examples_per_second: 3619.7294, train_label_loss: 0.0000, \n"
     ]
    },
    {
     "name": "stdout",
     "output_type": "stream",
     "text": [
      "epoch: 4, [batch: 4426 / 6323], examples_per_second: 3567.4864, train_label_loss: 0.0002, \n"
     ]
    },
    {
     "name": "stdout",
     "output_type": "stream",
     "text": [
      "epoch: 4, [batch: 5058 / 6323], examples_per_second: 2129.6478, train_label_loss: 0.0000, \n"
     ]
    },
    {
     "name": "stdout",
     "output_type": "stream",
     "text": [
      "epoch: 4, [batch: 5690 / 6323], examples_per_second: 1871.6983, train_label_loss: 0.0000, \n"
     ]
    },
    {
     "name": "stdout",
     "output_type": "stream",
     "text": [
      "=============================================================\n",
      "epoch: 4, source_val_acc_label: 0.9997, target_val_acc_label: 0.3354, source_val_label_loss: 0.0063, target_val_label_loss: 2.1538, \n",
      "=============================================================\n"
     ]
    },
    {
     "name": "stdout",
     "output_type": "stream",
     "text": [
      "New best\n"
     ]
    },
    {
     "name": "stdout",
     "output_type": "stream",
     "text": [
      "epoch: 5, [batch: 1 / 6317], examples_per_second: 2.8170, train_label_loss: 0.0000, \n"
     ]
    },
    {
     "name": "stdout",
     "output_type": "stream",
     "text": [
      "epoch: 5, [batch: 632 / 6317], examples_per_second: 1873.3593, train_label_loss: 0.0000, \n"
     ]
    },
    {
     "name": "stdout",
     "output_type": "stream",
     "text": [
      "epoch: 5, [batch: 1264 / 6317], examples_per_second: 1874.0811, train_label_loss: 0.0000, \n"
     ]
    },
    {
     "name": "stdout",
     "output_type": "stream",
     "text": [
      "epoch: 5, [batch: 1895 / 6317], examples_per_second: 1876.6377, train_label_loss: 0.0000, \n"
     ]
    },
    {
     "name": "stdout",
     "output_type": "stream",
     "text": [
      "epoch: 5, [batch: 2527 / 6317], examples_per_second: 1870.0047, train_label_loss: 0.0000, \n"
     ]
    },
    {
     "name": "stdout",
     "output_type": "stream",
     "text": [
      "epoch: 5, [batch: 3159 / 6317], examples_per_second: 1871.9048, train_label_loss: 0.0001, \n"
     ]
    },
    {
     "name": "stdout",
     "output_type": "stream",
     "text": [
      "epoch: 5, [batch: 3790 / 6317], examples_per_second: 1961.7633, train_label_loss: 0.0000, \n"
     ]
    },
    {
     "name": "stdout",
     "output_type": "stream",
     "text": [
      "epoch: 5, [batch: 4422 / 6317], examples_per_second: 2356.3540, train_label_loss: 0.0028, \n"
     ]
    },
    {
     "name": "stdout",
     "output_type": "stream",
     "text": [
      "epoch: 5, [batch: 5053 / 6317], examples_per_second: 2059.4669, train_label_loss: 0.0000, \n"
     ]
    },
    {
     "name": "stdout",
     "output_type": "stream",
     "text": [
      "epoch: 5, [batch: 5685 / 6317], examples_per_second: 1875.3672, train_label_loss: 0.0000, \n"
     ]
    },
    {
     "name": "stdout",
     "output_type": "stream",
     "text": [
      "=============================================================\n",
      "epoch: 5, source_val_acc_label: 0.9995, target_val_acc_label: 0.2600, source_val_label_loss: 0.0062, target_val_label_loss: 2.9558, \n",
      "=============================================================\n"
     ]
    },
    {
     "name": "stdout",
     "output_type": "stream",
     "text": [
      "epoch: 6, [batch: 1 / 6329], examples_per_second: 2.8262, train_label_loss: 0.0000, \n"
     ]
    },
    {
     "name": "stdout",
     "output_type": "stream",
     "text": [
      "epoch: 6, [batch: 633 / 6329], examples_per_second: 1874.1097, train_label_loss: 0.0000, \n"
     ]
    },
    {
     "name": "stdout",
     "output_type": "stream",
     "text": [
      "epoch: 6, [batch: 1266 / 6329], examples_per_second: 1875.1352, train_label_loss: 0.0000, \n"
     ]
    },
    {
     "name": "stdout",
     "output_type": "stream",
     "text": [
      "epoch: 6, [batch: 1899 / 6329], examples_per_second: 1878.8464, train_label_loss: 0.0000, \n"
     ]
    },
    {
     "name": "stdout",
     "output_type": "stream",
     "text": [
      "epoch: 6, [batch: 2532 / 6329], examples_per_second: 1870.4513, train_label_loss: 0.0000, \n"
     ]
    },
    {
     "name": "stdout",
     "output_type": "stream",
     "text": [
      "epoch: 6, [batch: 3165 / 6329], examples_per_second: 1875.4919, train_label_loss: 0.0000, \n"
     ]
    },
    {
     "name": "stdout",
     "output_type": "stream",
     "text": [
      "epoch: 6, [batch: 3797 / 6329], examples_per_second: 1968.4201, train_label_loss: 0.0000, \n"
     ]
    },
    {
     "name": "stdout",
     "output_type": "stream",
     "text": [
      "epoch: 6, [batch: 4430 / 6329], examples_per_second: 2371.7417, train_label_loss: 0.0000, \n"
     ]
    },
    {
     "name": "stdout",
     "output_type": "stream",
     "text": [
      "epoch: 6, [batch: 5063 / 6329], examples_per_second: 2051.2033, train_label_loss: 0.0000, \n"
     ]
    },
    {
     "name": "stdout",
     "output_type": "stream",
     "text": [
      "epoch: 6, [batch: 5696 / 6329], examples_per_second: 1874.2773, train_label_loss: 0.0007, \n"
     ]
    },
    {
     "name": "stdout",
     "output_type": "stream",
     "text": [
      "=============================================================\n",
      "epoch: 6, source_val_acc_label: 0.9994, target_val_acc_label: 0.2788, source_val_label_loss: 0.0085, target_val_label_loss: 3.2403, \n",
      "=============================================================\n"
     ]
    },
    {
     "name": "stdout",
     "output_type": "stream",
     "text": [
      "epoch: 7, [batch: 1 / 6316], examples_per_second: 2.8345, train_label_loss: 0.0000, \n"
     ]
    },
    {
     "name": "stdout",
     "output_type": "stream",
     "text": [
      "epoch: 7, [batch: 632 / 6316], examples_per_second: 1871.9897, train_label_loss: 0.0005, \n"
     ]
    },
    {
     "name": "stdout",
     "output_type": "stream",
     "text": [
      "epoch: 7, [batch: 1264 / 6316], examples_per_second: 1874.4100, train_label_loss: 0.0000, \n"
     ]
    },
    {
     "name": "stdout",
     "output_type": "stream",
     "text": [
      "epoch: 7, [batch: 1895 / 6316], examples_per_second: 1878.4076, train_label_loss: 0.0000, \n"
     ]
    },
    {
     "name": "stdout",
     "output_type": "stream",
     "text": [
      "epoch: 7, [batch: 2527 / 6316], examples_per_second: 1871.7618, train_label_loss: 0.0000, \n"
     ]
    },
    {
     "name": "stdout",
     "output_type": "stream",
     "text": [
      "epoch: 7, [batch: 3158 / 6316], examples_per_second: 1873.8893, train_label_loss: 0.0000, \n"
     ]
    },
    {
     "name": "stdout",
     "output_type": "stream",
     "text": [
      "epoch: 7, [batch: 3790 / 6316], examples_per_second: 1979.7983, train_label_loss: 0.0000, \n"
     ]
    },
    {
     "name": "stdout",
     "output_type": "stream",
     "text": [
      "epoch: 7, [batch: 4421 / 6316], examples_per_second: 2402.7635, train_label_loss: 0.0000, \n"
     ]
    },
    {
     "name": "stdout",
     "output_type": "stream",
     "text": [
      "epoch: 7, [batch: 5053 / 6316], examples_per_second: 2035.3629, train_label_loss: 0.0000, \n"
     ]
    },
    {
     "name": "stdout",
     "output_type": "stream",
     "text": [
      "epoch: 7, [batch: 5684 / 6316], examples_per_second: 1873.1231, train_label_loss: 0.0169, \n"
     ]
    },
    {
     "name": "stdout",
     "output_type": "stream",
     "text": [
      "=============================================================\n",
      "epoch: 7, source_val_acc_label: 0.9995, target_val_acc_label: 0.2701, source_val_label_loss: 0.0101, target_val_label_loss: 3.4609, \n",
      "=============================================================\n"
     ]
    },
    {
     "name": "stdout",
     "output_type": "stream",
     "text": [
      "epoch: 8, [batch: 1 / 6315], examples_per_second: 2.8197, train_label_loss: 0.0000, \n"
     ]
    },
    {
     "name": "stdout",
     "output_type": "stream",
     "text": [
      "epoch: 8, [batch: 632 / 6315], examples_per_second: 1874.5993, train_label_loss: 0.0000, \n"
     ]
    },
    {
     "name": "stdout",
     "output_type": "stream",
     "text": [
      "epoch: 8, [batch: 1263 / 6315], examples_per_second: 1875.1092, train_label_loss: 0.0000, \n"
     ]
    },
    {
     "name": "stdout",
     "output_type": "stream",
     "text": [
      "epoch: 8, [batch: 1895 / 6315], examples_per_second: 1878.5594, train_label_loss: 0.0000, \n"
     ]
    },
    {
     "name": "stdout",
     "output_type": "stream",
     "text": [
      "epoch: 8, [batch: 2526 / 6315], examples_per_second: 1870.8533, train_label_loss: 0.0000, \n"
     ]
    },
    {
     "name": "stdout",
     "output_type": "stream",
     "text": [
      "epoch: 8, [batch: 3158 / 6315], examples_per_second: 1874.1044, train_label_loss: 0.0000, \n"
     ]
    },
    {
     "name": "stdout",
     "output_type": "stream",
     "text": [
      "epoch: 8, [batch: 3789 / 6315], examples_per_second: 1983.9508, train_label_loss: 0.0000, \n"
     ]
    },
    {
     "name": "stdout",
     "output_type": "stream",
     "text": [
      "epoch: 8, [batch: 4420 / 6315], examples_per_second: 2405.7510, train_label_loss: 0.0000, \n"
     ]
    },
    {
     "name": "stdout",
     "output_type": "stream",
     "text": [
      "epoch: 8, [batch: 5052 / 6315], examples_per_second: 2006.9322, train_label_loss: 0.0000, \n"
     ]
    },
    {
     "name": "stdout",
     "output_type": "stream",
     "text": [
      "epoch: 8, [batch: 5683 / 6315], examples_per_second: 1873.2153, train_label_loss: 0.0000, \n"
     ]
    },
    {
     "name": "stdout",
     "output_type": "stream",
     "text": [
      "=============================================================\n",
      "epoch: 8, source_val_acc_label: 0.9996, target_val_acc_label: 0.2922, source_val_label_loss: 0.0071, target_val_label_loss: 3.5378, \n",
      "=============================================================\n"
     ]
    },
    {
     "name": "stdout",
     "output_type": "stream",
     "text": [
      "Patience (3) exhausted\n"
     ]
    }
   ],
   "source": [
    "###################################\n",
    "# train\n",
    "###################################\n",
    "jig = PTN_Train_Eval_Test_Jig(model, p.BEST_MODEL_PATH, p.device)\n",
    "\n",
    "jig.train(\n",
    "    train_iterable=datasets.source.processed.train,\n",
    "    source_val_iterable=datasets.source.processed.val,\n",
    "    target_val_iterable=datasets.target.processed.val,\n",
    "    num_epochs=p.n_epoch,\n",
    "    num_logs_per_epoch=p.NUM_LOGS_PER_EPOCH,\n",
    "    patience=p.patience,\n",
    "    optimizer=optimizer,\n",
    "    criteria_for_best=p.criteria_for_best,\n",
    ")"
   ]
  },
  {
   "cell_type": "code",
   "execution_count": 23,
   "id": "31e8fabf",
   "metadata": {
    "execution": {
     "iopub.execute_input": "2022-03-25T17:54:51.528313Z",
     "iopub.status.busy": "2022-03-25T17:54:51.528048Z",
     "iopub.status.idle": "2022-03-25T17:54:51.546026Z",
     "shell.execute_reply": "2022-03-25T17:54:51.545629Z"
    },
    "papermill": {
     "duration": 0.054847,
     "end_time": "2022-03-25T17:54:51.546126",
     "exception": false,
     "start_time": "2022-03-25T17:54:51.491279",
     "status": "completed"
    },
    "tags": []
   },
   "outputs": [],
   "source": [
    "total_experiment_time_secs = time.time() - start_time_secs"
   ]
  },
  {
   "cell_type": "code",
   "execution_count": 24,
   "id": "87b9595b",
   "metadata": {
    "execution": {
     "iopub.execute_input": "2022-03-25T17:54:51.619822Z",
     "iopub.status.busy": "2022-03-25T17:54:51.619432Z",
     "iopub.status.idle": "2022-03-25T17:57:21.748384Z",
     "shell.execute_reply": "2022-03-25T17:57:21.748780Z"
    },
    "papermill": {
     "duration": 150.165821,
     "end_time": "2022-03-25T17:57:21.748910",
     "exception": false,
     "start_time": "2022-03-25T17:54:51.583089",
     "status": "completed"
    },
    "tags": []
   },
   "outputs": [],
   "source": [
    "###################################\n",
    "# Evaluate the model\n",
    "###################################\n",
    "source_test_label_accuracy, source_test_label_loss = jig.test(datasets.source.processed.test)\n",
    "target_test_label_accuracy, target_test_label_loss = jig.test(datasets.target.processed.test)\n",
    "\n",
    "source_val_label_accuracy, source_val_label_loss = jig.test(datasets.source.processed.val)\n",
    "target_val_label_accuracy, target_val_label_loss = jig.test(datasets.target.processed.val)\n",
    "\n",
    "history = jig.get_history()\n",
    "\n",
    "total_epochs_trained = len(history[\"epoch_indices\"])\n",
    "\n",
    "val_dl = Iterable_Aggregator((datasets.source.original.val,datasets.target.original.val))\n",
    "\n",
    "confusion = ptn_confusion_by_domain_over_dataloader(model, p.device, val_dl)\n",
    "per_domain_accuracy = per_domain_accuracy_from_confusion(confusion)\n",
    "\n",
    "# Add a key to per_domain_accuracy for if it was a source domain\n",
    "for domain, accuracy in per_domain_accuracy.items():\n",
    "    per_domain_accuracy[domain] = {\n",
    "        \"accuracy\": accuracy,\n",
    "        \"source?\": domain in p.domains_source\n",
    "    }\n",
    "\n",
    "# Do an independent accuracy assesment JUST TO BE SURE!\n",
    "# _source_test_label_accuracy = independent_accuracy_assesment(model, datasets.source.processed.test, p.device)\n",
    "# _target_test_label_accuracy = independent_accuracy_assesment(model, datasets.target.processed.test, p.device)\n",
    "# _source_val_label_accuracy = independent_accuracy_assesment(model, datasets.source.processed.val, p.device)\n",
    "# _target_val_label_accuracy = independent_accuracy_assesment(model, datasets.target.processed.val, p.device)\n",
    "\n",
    "# assert(_source_test_label_accuracy == source_test_label_accuracy)\n",
    "# assert(_target_test_label_accuracy == target_test_label_accuracy)\n",
    "# assert(_source_val_label_accuracy == source_val_label_accuracy)\n",
    "# assert(_target_val_label_accuracy == target_val_label_accuracy)\n",
    "\n",
    "experiment = {\n",
    "    \"experiment_name\": p.experiment_name,\n",
    "    \"parameters\": dict(p),\n",
    "    \"results\": {\n",
    "        \"source_test_label_accuracy\": source_test_label_accuracy,\n",
    "        \"source_test_label_loss\": source_test_label_loss,\n",
    "        \"target_test_label_accuracy\": target_test_label_accuracy,\n",
    "        \"target_test_label_loss\": target_test_label_loss,\n",
    "        \"source_val_label_accuracy\": source_val_label_accuracy,\n",
    "        \"source_val_label_loss\": source_val_label_loss,\n",
    "        \"target_val_label_accuracy\": target_val_label_accuracy,\n",
    "        \"target_val_label_loss\": target_val_label_loss,\n",
    "        \"total_epochs_trained\": total_epochs_trained,\n",
    "        \"total_experiment_time_secs\": total_experiment_time_secs,\n",
    "        \"confusion\": confusion,\n",
    "        \"per_domain_accuracy\": per_domain_accuracy,\n",
    "    },\n",
    "    \"history\": history,\n",
    "    \"dataset_metrics\": get_dataset_metrics(datasets, \"ptn\"),\n",
    "}"
   ]
  },
  {
   "cell_type": "code",
   "execution_count": 25,
   "id": "54a21829",
   "metadata": {
    "execution": {
     "iopub.execute_input": "2022-03-25T17:57:21.815543Z",
     "iopub.status.busy": "2022-03-25T17:57:21.815283Z",
     "iopub.status.idle": "2022-03-25T17:57:21.961015Z",
     "shell.execute_reply": "2022-03-25T17:57:21.961422Z"
    },
    "papermill": {
     "duration": 0.179251,
     "end_time": "2022-03-25T17:57:21.961552",
     "exception": false,
     "start_time": "2022-03-25T17:57:21.782301",
     "status": "completed"
    },
    "tags": []
   },
   "outputs": [
    {
     "data": {
      "image/png": "[encoded data removed]",
      "text/plain": [
       "<Figure size 1080x504 with 1 Axes>"
      ]
     },
     "metadata": {
      "needs_background": "light"
     },
     "output_type": "display_data"
    }
   ],
   "source": [
    "ax = get_loss_curve(experiment)\n",
    "plt.show()"
   ]
  },
  {
   "cell_type": "code",
   "execution_count": 26,
   "id": "fd8a0f60",
   "metadata": {
    "execution": {
     "iopub.execute_input": "2022-03-25T17:57:22.039757Z",
     "iopub.status.busy": "2022-03-25T17:57:22.035826Z",
     "iopub.status.idle": "2022-03-25T17:57:22.202994Z",
     "shell.execute_reply": "2022-03-25T17:57:22.203366Z"
    },
    "papermill": {
     "duration": 0.202069,
     "end_time": "2022-03-25T17:57:22.203488",
     "exception": false,
     "start_time": "2022-03-25T17:57:22.001419",
     "status": "completed"
    },
    "tags": []
   },
   "outputs": [
    {
     "data": {
      "text/plain": [
       "<AxesSubplot:title={'center':'Results'}>"
      ]
     },
     "execution_count": 26,
     "metadata": {},
     "output_type": "execute_result"
    },
    {
     "data": {
      "image/png": "[encoded data removed]",
      "text/plain": [
       "<Figure size 1080x504 with 1 Axes>"
      ]
     },
     "metadata": {
      "needs_background": "light"
     },
     "output_type": "display_data"
    }
   ],
   "source": [
    "get_results_table(experiment)"
   ]
  },
  {
   "cell_type": "code",
   "execution_count": 27,
   "id": "cf8dc689",
   "metadata": {
    "execution": {
     "iopub.execute_input": "2022-03-25T17:57:22.276563Z",
     "iopub.status.busy": "2022-03-25T17:57:22.276302Z",
     "iopub.status.idle": "2022-03-25T17:57:22.418605Z",
     "shell.execute_reply": "2022-03-25T17:57:22.418985Z"
    },
    "papermill": {
     "duration": 0.177907,
     "end_time": "2022-03-25T17:57:22.419103",
     "exception": false,
     "start_time": "2022-03-25T17:57:22.241196",
     "status": "completed"
    },
    "tags": []
   },
   "outputs": [
    {
     "data": {
      "text/plain": [
       "<AxesSubplot:title={'center':'Per Domain Validation Accuracy'}, xlabel='domain'>"
      ]
     },
     "execution_count": 27,
     "metadata": {},
     "output_type": "execute_result"
    },
    {
     "data": {
      "image/png": "[encoded data removed]",
      "text/plain": [
       "<Figure size 1080x504 with 1 Axes>"
      ]
     },
     "metadata": {
      "needs_background": "light"
     },
     "output_type": "display_data"
    }
   ],
   "source": [
    "get_domain_accuracies(experiment)"
   ]
  },
  {
   "cell_type": "code",
   "execution_count": 28,
   "id": "a74ae082",
   "metadata": {
    "execution": {
     "iopub.execute_input": "2022-03-25T17:57:22.499291Z",
     "iopub.status.busy": "2022-03-25T17:57:22.499017Z",
     "iopub.status.idle": "2022-03-25T17:57:22.515189Z",
     "shell.execute_reply": "2022-03-25T17:57:22.515486Z"
    },
    "papermill": {
     "duration": 0.055804,
     "end_time": "2022-03-25T17:57:22.515594",
     "exception": false,
     "start_time": "2022-03-25T17:57:22.459790",
     "status": "completed"
    },
    "tags": []
   },
   "outputs": [
    {
     "name": "stdout",
     "output_type": "stream",
     "text": [
      "Source Test Label Accuracy: 0.9993701007838746 Target Test Label Accuracy: 0.33795572916666666\n",
      "Source Val Label Accuracy: 0.9997139588100686 Target Val Label Accuracy: 0.33538411458333334\n"
     ]
    }
   ],
   "source": [
    "print(\"Source Test Label Accuracy:\", experiment[\"results\"][\"source_test_label_accuracy\"], \"Target Test Label Accuracy:\", experiment[\"results\"][\"target_test_label_accuracy\"])\n",
    "print(\"Source Val Label Accuracy:\", experiment[\"results\"][\"source_val_label_accuracy\"], \"Target Val Label Accuracy:\", experiment[\"results\"][\"target_val_label_accuracy\"])"
   ]
  },
  {
   "cell_type": "code",
   "execution_count": 29,
   "id": "dacca602",
   "metadata": {
    "execution": {
     "iopub.execute_input": "2022-03-25T17:57:22.589776Z",
     "iopub.status.busy": "2022-03-25T17:57:22.589513Z",
     "iopub.status.idle": "2022-03-25T17:57:22.607117Z",
     "shell.execute_reply": "2022-03-25T17:57:22.607438Z"
    },
    "papermill": {
     "duration": 0.053881,
     "end_time": "2022-03-25T17:57:22.607543",
     "exception": false,
     "start_time": "2022-03-25T17:57:22.553662",
     "status": "completed"
    },
    "tags": [
     "experiment_json"
    ]
   },
   "outputs": [
    {
     "data": {
      "text/plain": [
       "'{\"experiment_name\": \"tl_3-filterv2:cores -> oracle.run1.framed\", \"parameters\": {\"experiment_name\": \"tl_3-filterv2:cores -> oracle.run1.framed\", \"device\": \"cuda\", \"lr\": 0.0001, \"x_shape\": [2, 200], \"n_shot\": 3, \"n_query\": 2, \"train_k_factor\": 3, \"val_k_factor\": 2, \"test_k_factor\": 2, \"torch_default_dtype\": \"torch.float32\", \"n_epoch\": 50, \"patience\": 3, \"criteria_for_best\": \"target_accuracy\", \"x_net\": [{\"class\": \"nnReshape\", \"kargs\": {\"shape\": [-1, 1, 2, 200]}}, {\"class\": \"Conv2d\", \"kargs\": {\"in_channels\": 1, \"out_channels\": 256, \"kernel_size\": [1, 7], \"bias\": false, \"padding\": [0, 3]}}, {\"class\": \"ReLU\", \"kargs\": {\"inplace\": true}}, {\"class\": \"BatchNorm2d\", \"kargs\": {\"num_features\": 256}}, {\"class\": \"Conv2d\", \"kargs\": {\"in_channels\": 256, \"out_channels\": 80, \"kernel_size\": [2, 7], \"bias\": true, \"padding\": [0, 3]}}, {\"class\": \"ReLU\", \"kargs\": {\"inplace\": true}}, {\"class\": \"BatchNorm2d\", \"kargs\": {\"num_features\": 80}}, {\"class\": \"Flatten\", \"kargs\": {}}, {\"class\": \"Linear\", \"kargs\": {\"in_features\": 16000, \"out_features\": 256}}, {\"class\": \"ReLU\", \"kargs\": {\"inplace\": true}}, {\"class\": \"BatchNorm1d\", \"kargs\": {\"num_features\": 256}}, {\"class\": \"Linear\", \"kargs\": {\"in_features\": 256, \"out_features\": 256}}], \"NUM_LOGS_PER_EPOCH\": 10, \"BEST_MODEL_PATH\": \"./best_model.pth\", \"n_way\": 16, \"datasets\": [{\"labels\": [\"1-10.\", \"1-11.\", \"1-15.\", \"1-16.\", \"1-17.\", \"1-18.\", \"1-19.\", \"10-4.\", \"10-7.\", \"11-1.\", \"11-14.\", \"11-17.\", \"11-20.\", \"11-7.\", \"13-20.\", \"13-8.\", \"14-10.\", \"14-11.\", \"14-14.\", \"14-7.\", \"15-1.\", \"15-20.\", \"16-1.\", \"16-16.\", \"17-10.\", \"17-11.\", \"17-2.\", \"19-1.\", \"19-16.\", \"19-19.\", \"19-20.\", \"19-3.\", \"2-10.\", \"2-11.\", \"2-17.\", \"2-18.\", \"2-20.\", \"2-3.\", \"2-4.\", \"2-5.\", \"2-6.\", \"2-7.\", \"2-8.\", \"3-13.\", \"3-18.\", \"3-3.\", \"4-1.\", \"4-10.\", \"4-11.\", \"4-19.\", \"5-5.\", \"6-15.\", \"7-10.\", \"7-14.\", \"8-18.\", \"8-20.\", \"8-3.\", \"8-8.\"], \"domains\": [1, 2, 3, 4, 5], \"num_examples_per_domain_per_label\": -1, \"pickle_path\": \"/mnt/wd500GB/CSC500/csc500-main/datasets/cores.stratified_ds.2022A.pkl\", \"source_or_target_dataset\": \"source\", \"x_transforms\": [\"unit_power\", \"lowpass_+/-10MHz\", \"take_200\"], \"episode_transforms\": [], \"domain_prefix\": \"C_\"}, {\"labels\": [\"3123D52\", \"3123D65\", \"3123D79\", \"3123D80\", \"3123D54\", \"3123D70\", \"3123D7B\", \"3123D89\", \"3123D58\", \"3123D76\", \"3123D7D\", \"3123EFE\", \"3123D64\", \"3123D78\", \"3123D7E\", \"3124E4A\"], \"domains\": [32, 38, 8, 44, 14, 50, 20, 26], \"num_examples_per_domain_per_label\": 2000, \"pickle_path\": \"/mnt/wd500GB/CSC500/csc500-main/datasets/oracle.Run1_framed_2000Examples_stratified_ds.2022A.pkl\", \"source_or_target_dataset\": \"target\", \"x_transforms\": [\"unit_power\", \"take_200\", \"resample_20Msps_to_25Msps\"], \"episode_transforms\": [], \"domain_prefix\": \"O_\"}], \"seed\": 154325, \"dataset_seed\": 154325, \"domains_source\": [\"C_1\", \"C_2\", \"C_3\", \"C_4\", \"C_5\"], \"domains_target\": [\"O_32\", \"O_38\", \"O_8\", \"O_44\", \"O_14\", \"O_50\", \"O_20\", \"O_26\"]}, \"results\": {\"source_test_label_accuracy\": 0.9993701007838746, \"source_test_label_loss\": 0.004866789095103741, \"target_test_label_accuracy\": 0.33795572916666666, \"target_test_label_loss\": 2.1468505859375, \"source_val_label_accuracy\": 0.9997139588100686, \"source_val_label_loss\": 0.006321449764072895, \"target_val_label_accuracy\": 0.33538411458333334, \"target_val_label_loss\": 2.1538267135620117, \"total_epochs_trained\": 8, \"total_experiment_time_secs\": 2267.6077315807343, \"confusion\": {\"C_2\": {\"21\": {\"21\": 120}, \"4\": {\"4\": 130}, \"6\": {\"6\": 124}, \"10\": {\"10\": 112}, \"33\": {\"33\": 28}, \"56\": {\"56\": 122}, \"20\": {\"20\": 132}, \"24\": {\"24\": 96}, \"45\": {\"45\": 127, \"17\": 1}, \"32\": {\"32\": 28}, \"27\": {\"27\": 148}, \"53\": {\"53\": 136}, \"8\": {\"8\": 160}, \"54\": {\"54\": 108}, \"50\": {\"50\": 134}, \"44\": {\"44\": 100}, \"5\": {\"5\": 120}, \"38\": {\"38\": 20}, \"19\": {\"19\": 132}, \"1\": {\"1\": 112}, \"30\": {\"30\": 144}, \"15\": {\"15\": 144}, \"23\": {\"23\": 146}, \"35\": {\"35\": 32}, \"22\": {\"22\": 128}, \"40\": {\"40\": 140}, \"46\": {\"46\": 126}, \"3\": {\"3\": 92}, \"48\": {\"48\": 148}, \"52\": {\"52\": 124}, \"2\": {\"2\": 32}, \"26\": {\"26\": 24}, \"17\": {\"17\": 104}, \"55\": {\"55\": 144}, \"51\": {\"51\": 122}, \"42\": {\"42\": 36}, \"41\": {\"41\": 20}, \"31\": {\"31\": 28}, \"16\": {\"16\": 138}, \"36\": {\"36\": 116}, \"49\": {\"49\": 24}, \"0\": {\"0\": 48}, \"18\": {\"18\": 48}, \"25\": {\"25\": 146}, \"9\": {\"9\": 122}, \"47\": {\"47\": 132}, \"7\": {\"7\": 36}, \"37\": {\"37\": 36}, \"13\": {\"13\": 116}, \"14\": {\"14\": 24}, \"34\": {\"34\": 28}, \"57\": {\"57\": 140}, \"11\": {\"11\": 138}, \"39\": {\"39\": 28}, \"12\": {\"12\": 92}, \"28\": {\"28\": 28}, \"29\": {\"29\": 128}, \"43\": {\"43\": 140}}, \"C_5\": {\"12\": {\"12\": 96}, \"8\": {\"8\": 142}, \"29\": {\"29\": 132}, \"57\": {\"57\": 126}, \"38\": {\"38\": 32}, \"23\": {\"23\": 124}, \"56\": {\"56\": 138}, \"49\": {\"49\": 36}, \"4\": {\"4\": 100}, \"48\": {\"48\": 136}, \"21\": {\"21\": 144}, \"30\": {\"30\": 128}, \"1\": {\"1\": 148}, \"34\": {\"34\": 36}, \"35\": {\"35\": 36}, \"55\": {\"55\": 152}, \"5\": {\"5\": 122}, \"52\": {\"52\": 126}, \"6\": {\"6\": 127, \"50\": 1}, \"36\": {\"36\": 92}, \"41\": {\"41\": 28}, \"3\": {\"3\": 100}, \"28\": {\"28\": 32}, \"18\": {\"18\": 64}, \"25\": {\"25\": 136}, \"47\": {\"47\": 100}, \"13\": {\"13\": 160}, \"11\": {\"11\": 144}, \"53\": {\"53\": 144}, \"33\": {\"33\": 32}, \"46\": {\"46\": 148}, \"50\": {\"50\": 147, \"25\": 1}, \"10\": {\"10\": 68}, \"15\": {\"15\": 138}, \"44\": {\"44\": 140}, \"2\": {\"2\": 28}, \"7\": {\"7\": 32}, \"43\": {\"43\": 138}, \"32\": {\"32\": 32}, \"0\": {\"0\": 124}, \"39\": {\"39\": 20}, \"26\": {\"26\": 24}, \"27\": {\"27\": 112}, \"54\": {\"54\": 112}, \"17\": {\"17\": 116}, \"14\": {\"14\": 44}, \"16\": {\"16\": 148}, \"9\": {\"9\": 148}, \"19\": {\"19\": 152}, \"20\": {\"20\": 138}, \"37\": {\"37\": 24}, \"24\": {\"24\": 80}, \"40\": {\"40\": 122}, \"45\": {\"45\": 124}, \"22\": {\"22\": 28}, \"42\": {\"42\": 38, \"22\": 1, \"56\": 1}, \"51\": {\"51\": 118}, \"31\": {\"31\": 36}}, \"C_1\": {\"27\": {\"27\": 142}, \"2\": {\"2\": 36}, \"33\": {\"33\": 32}, \"45\": {\"45\": 156}, \"38\": {\"38\": 24}, \"4\": {\"4\": 132}, \"31\": {\"31\": 28}, \"55\": {\"55\": 140}, \"32\": {\"32\": 32}, \"57\": {\"57\": 140}, \"14\": {\"14\": 24}, \"16\": {\"16\": 140}, \"34\": {\"34\": 24}, \"56\": {\"56\": 126}, \"24\": {\"24\": 108}, \"30\": {\"30\": 112}, \"17\": {\"17\": 64}, \"13\": {\"13\": 138}, \"39\": {\"39\": 28}, \"50\": {\"50\": 146}, \"20\": {\"20\": 140}, \"41\": {\"41\": 24}, \"53\": {\"53\": 126}, \"48\": {\"48\": 142}, \"36\": {\"36\": 64}, \"8\": {\"8\": 140}, \"15\": {\"15\": 132}, \"40\": {\"40\": 156}, \"37\": {\"37\": 32}, \"21\": {\"21\": 120}, \"35\": {\"35\": 36}, \"49\": {\"49\": 32}, \"26\": {\"26\": 24}, \"28\": {\"28\": 28}, \"12\": {\"12\": 116}, \"5\": {\"5\": 152}, \"29\": {\"29\": 140}, \"47\": {\"47\": 140}, \"10\": {\"10\": 96}, \"18\": {\"18\": 71, \"48\": 1}, \"9\": {\"9\": 126}, \"3\": {\"3\": 140}, \"52\": {\"52\": 132}, \"25\": {\"25\": 136}, \"19\": {\"19\": 156}, \"11\": {\"11\": 136}, \"7\": {\"7\": 28}, \"23\": {\"23\": 136}, \"44\": {\"44\": 132}, \"42\": {\"42\": 40}, \"54\": {\"54\": 104}, \"1\": {\"1\": 100}, \"46\": {\"46\": 128}, \"6\": {\"6\": 96}, \"43\": {\"43\": 144}, \"51\": {\"51\": 142}, \"22\": {\"22\": 136}, \"0\": {\"0\": 128}}, \"C_4\": {\"32\": {\"32\": 24}, \"2\": {\"2\": 36}, \"41\": {\"41\": 36}, \"11\": {\"11\": 102}, \"57\": {\"57\": 100}, \"6\": {\"6\": 112}, \"23\": {\"23\": 136}, \"52\": {\"52\": 116}, \"38\": {\"38\": 40}, \"50\": {\"50\": 132}, \"55\": {\"55\": 152}, \"46\": {\"46\": 154}, \"37\": {\"37\": 24}, \"20\": {\"20\": 118}, \"49\": {\"49\": 20}, \"45\": {\"45\": 96}, \"54\": {\"54\": 108}, \"3\": {\"3\": 124}, \"13\": {\"13\": 152}, \"18\": {\"18\": 108}, \"21\": {\"21\": 126}, \"43\": {\"43\": 144}, \"47\": {\"47\": 120}, \"4\": {\"4\": 132}, \"12\": {\"12\": 92}, \"9\": {\"9\": 128}, \"7\": {\"7\": 24}, \"56\": {\"56\": 112}, \"28\": {\"28\": 32}, \"44\": {\"44\": 132}, \"24\": {\"24\": 56}, \"33\": {\"33\": 36}, \"35\": {\"35\": 40}, \"51\": {\"51\": 138}, \"39\": {\"39\": 20}, \"36\": {\"36\": 92}, \"19\": {\"19\": 140}, \"0\": {\"0\": 80}, \"15\": {\"15\": 136}, \"29\": {\"29\": 124}, \"30\": {\"30\": 44}, \"1\": {\"1\": 40}, \"22\": {\"22\": 128}, \"40\": {\"40\": 146}, \"8\": {\"8\": 128}, \"53\": {\"53\": 138}, \"34\": {\"34\": 24}, \"10\": {\"10\": 122}, \"31\": {\"31\": 28}, \"17\": {\"17\": 80}, \"16\": {\"16\": 96}, \"42\": {\"42\": 32}, \"27\": {\"27\": 142}, \"14\": {\"14\": 16}, \"25\": {\"25\": 122}, \"48\": {\"48\": 132}, \"26\": {\"26\": 24}, \"5\": {\"5\": 108}}, \"C_3\": {\"14\": {\"14\": 40}, \"18\": {\"18\": 84}, \"30\": {\"30\": 120}, \"16\": {\"16\": 156}, \"1\": {\"1\": 100}, \"20\": {\"20\": 132}, \"7\": {\"7\": 36}, \"52\": {\"52\": 130}, \"9\": {\"9\": 140}, \"23\": {\"23\": 144}, \"55\": {\"55\": 164}, \"29\": {\"29\": 126}, \"56\": {\"56\": 134}, \"3\": {\"3\": 124}, \"42\": {\"42\": 28}, \"6\": {\"6\": 88}, \"5\": {\"5\": 115, \"3\": 1}, \"27\": {\"27\": 144}, \"47\": {\"47\": 92}, \"39\": {\"39\": 16}, \"34\": {\"34\": 32}, \"4\": {\"4\": 126}, \"24\": {\"24\": 104}, \"46\": {\"46\": 118}, \"50\": {\"50\": 126}, \"38\": {\"38\": 28}, \"54\": {\"54\": 100}, \"35\": {\"35\": 28}, \"2\": {\"2\": 32}, \"41\": {\"41\": 28}, \"57\": {\"57\": 118}, \"25\": {\"25\": 150}, \"48\": {\"48\": 116}, \"33\": {\"33\": 28}, \"45\": {\"45\": 60}, \"13\": {\"13\": 126}, \"36\": {\"36\": 100}, \"43\": {\"43\": 132}, \"28\": {\"28\": 28}, \"0\": {\"0\": 124}, \"12\": {\"12\": 92}, \"31\": {\"31\": 28}, \"40\": {\"40\": 116}, \"44\": {\"44\": 87, \"40\": 1}, \"32\": {\"32\": 28}, \"26\": {\"26\": 24}, \"8\": {\"8\": 116}, \"10\": {\"10\": 64}, \"15\": {\"15\": 142}, \"21\": {\"21\": 128}, \"37\": {\"37\": 28}, \"17\": {\"17\": 108}, \"51\": {\"51\": 124}, \"53\": {\"53\": 144}, \"19\": {\"19\": 136}, \"49\": {\"49\": 20}, \"11\": {\"11\": 138}, \"22\": {\"22\": 130}}, \"O_8\": {\"13\": {\"14\": 23, \"4\": 29, \"13\": 45, \"6\": 21, \"7\": 27, \"1\": 10, \"5\": 10, \"0\": 32, \"10\": 28, \"15\": 1, \"2\": 5, \"8\": 4, \"12\": 1, \"3\": 2, \"11\": 2}, \"9\": {\"9\": 237, \"4\": 1, \"5\": 1, \"0\": 1}, \"15\": {\"2\": 11, \"15\": 65, \"3\": 28, \"6\": 19, \"7\": 10, \"0\": 5, \"8\": 36, \"12\": 57, \"13\": 4, \"14\": 1, \"4\": 1, \"11\": 1, \"1\": 2}, \"2\": {\"3\": 64, \"2\": 72, \"7\": 18, \"4\": 6, \"15\": 21, \"10\": 2, \"6\": 11, \"13\": 7, \"0\": 8, \"12\": 21, \"14\": 3, \"8\": 7}, \"3\": {\"15\": 28, \"3\": 82, \"2\": 53, \"6\": 5, \"12\": 48, \"7\": 7, \"0\": 4, \"8\": 13}, \"8\": {\"0\": 5, \"6\": 25, \"8\": 52, \"14\": 7, \"12\": 29, \"4\": 12, \"7\": 23, \"15\": 36, \"1\": 12, \"11\": 17, \"10\": 1, \"3\": 9, \"13\": 5, \"2\": 6, \"5\": 1}, \"5\": {\"11\": 30, \"5\": 76, \"14\": 33, \"0\": 9, \"1\": 34, \"10\": 36, \"6\": 2, \"4\": 14, \"13\": 5, \"8\": 1}, \"14\": {\"0\": 21, \"11\": 24, \"14\": 23, \"6\": 16, \"1\": 25, \"10\": 39, \"5\": 17, \"13\": 22, \"4\": 25, \"8\": 7, \"7\": 20, \"2\": 1}, \"1\": {\"5\": 23, \"4\": 22, \"14\": 36, \"10\": 14, \"8\": 12, \"1\": 50, \"7\": 7, \"11\": 55, \"6\": 11, \"0\": 2, \"13\": 8}, \"0\": {\"7\": 24, \"0\": 48, \"10\": 26, \"2\": 13, \"6\": 33, \"4\": 32, \"13\": 26, \"5\": 2, \"1\": 3, \"11\": 5, \"14\": 25, \"3\": 1, \"8\": 1, \"12\": 1}, \"10\": {\"7\": 11, \"11\": 11, \"10\": 37, \"14\": 28, \"0\": 30, \"13\": 31, \"5\": 30, \"1\": 27, \"4\": 20, \"6\": 14, \"8\": 1}, \"6\": {\"13\": 26, \"6\": 41, \"14\": 15, \"8\": 23, \"7\": 28, \"4\": 26, \"1\": 14, \"11\": 9, \"0\": 24, \"10\": 18, \"15\": 6, \"3\": 1, \"2\": 6, \"12\": 2, \"5\": 1}, \"11\": {\"8\": 9, \"11\": 93, \"1\": 50, \"14\": 31, \"10\": 13, \"7\": 2, \"13\": 2, \"4\": 7, \"5\": 24, \"6\": 9}, \"7\": {\"13\": 24, \"4\": 27, \"14\": 13, \"2\": 19, \"0\": 34, \"7\": 36, \"6\": 40, \"8\": 17, \"15\": 8, \"10\": 6, \"3\": 4, \"12\": 7, \"1\": 4, \"11\": 1}, \"4\": {\"11\": 8, \"13\": 36, \"0\": 32, \"14\": 21, \"10\": 23, \"7\": 21, \"4\": 28, \"1\": 23, \"6\": 26, \"15\": 2, \"2\": 3, \"8\": 11, \"5\": 5, \"3\": 1}, \"12\": {\"12\": 67, \"8\": 26, \"15\": 65, \"14\": 1, \"6\": 8, \"3\": 40, \"2\": 14, \"1\": 1, \"7\": 12, \"0\": 1, \"11\": 3, \"13\": 1, \"4\": 1}}, \"O_38\": {\"13\": {\"8\": 8, \"13\": 84, \"10\": 22, \"11\": 1, \"2\": 38, \"5\": 3, \"15\": 45, \"1\": 26, \"7\": 1, \"14\": 5, \"12\": 1, \"0\": 6}, \"12\": {\"12\": 164, \"4\": 54, \"10\": 10, \"11\": 3, \"14\": 5, \"0\": 1, \"2\": 1, \"15\": 1, \"7\": 1}, \"2\": {\"2\": 118, \"13\": 34, \"14\": 39, \"11\": 24, \"10\": 12, \"1\": 3, \"15\": 9, \"8\": 1}, \"9\": {\"6\": 80, \"9\": 96, \"3\": 38, \"1\": 10, \"5\": 6, \"7\": 3, \"0\": 7}, \"15\": {\"15\": 83, \"1\": 31, \"13\": 49, \"0\": 4, \"5\": 12, \"10\": 25, \"8\": 19, \"7\": 3, \"9\": 2, \"6\": 2, \"2\": 7, \"14\": 2, \"11\": 1}, \"5\": {\"5\": 44, \"8\": 41, \"9\": 14, \"6\": 24, \"1\": 22, \"0\": 31, \"7\": 29, \"10\": 8, \"15\": 17, \"3\": 6, \"13\": 4}, \"14\": {\"11\": 66, \"14\": 110, \"2\": 35, \"10\": 10, \"15\": 5, \"12\": 10, \"13\": 4}, \"0\": {\"10\": 5, \"0\": 72, \"5\": 21, \"1\": 5, \"15\": 11, \"8\": 38, \"7\": 49, \"3\": 14, \"9\": 5, \"6\": 6, \"12\": 7, \"13\": 7}, \"3\": {\"3\": 159, \"9\": 41, \"0\": 15, \"7\": 6, \"8\": 1, \"6\": 11, \"5\": 7}, \"1\": {\"1\": 103, \"6\": 19, \"5\": 19, \"9\": 10, \"15\": 42, \"10\": 4, \"0\": 9, \"8\": 16, \"13\": 17, \"7\": 1}, \"11\": {\"14\": 77, \"10\": 13, \"11\": 90, \"4\": 4, \"2\": 27, \"12\": 15, \"13\": 7, \"15\": 5, \"7\": 1, \"8\": 1}, \"7\": {\"7\": 94, \"8\": 34, \"0\": 56, \"6\": 7, \"5\": 24, \"15\": 2, \"13\": 3, \"10\": 10, \"3\": 4, \"1\": 1, \"9\": 3, \"4\": 2}, \"8\": {\"7\": 27, \"1\": 14, \"13\": 23, \"8\": 51, \"10\": 16, \"5\": 34, \"0\": 40, \"6\": 3, \"15\": 27, \"9\": 2, \"2\": 1, \"12\": 2}, \"4\": {\"4\": 161, \"12\": 63, \"10\": 10, \"11\": 2, \"0\": 1, \"7\": 3}, \"10\": {\"13\": 34, \"8\": 21, \"15\": 27, \"11\": 13, \"10\": 74, \"5\": 10, \"12\": 6, \"0\": 9, \"6\": 1, \"7\": 11, \"14\": 14, \"2\": 10, \"1\": 6, \"4\": 4}, \"6\": {\"3\": 19, \"9\": 63, \"6\": 98, \"5\": 29, \"0\": 10, \"15\": 1, \"1\": 12, \"7\": 4, \"8\": 4}}, \"O_26\": {\"10\": {\"10\": 33, \"3\": 5, \"4\": 17, \"2\": 10, \"8\": 12, \"14\": 39, \"6\": 27, \"9\": 14, \"1\": 15, \"0\": 30, \"7\": 13, \"13\": 4, \"5\": 8, \"15\": 13}, \"12\": {\"12\": 179, \"9\": 6, \"6\": 9, \"11\": 40, \"15\": 1, \"13\": 1, \"10\": 1, \"0\": 1, \"8\": 2}, \"1\": {\"14\": 39, \"0\": 28, \"10\": 35, \"6\": 15, \"4\": 24, \"9\": 7, \"1\": 34, \"7\": 18, \"8\": 18, \"2\": 5, \"15\": 2, \"5\": 4, \"13\": 2, \"3\": 8, \"12\": 1}, \"0\": {\"0\": 31, \"4\": 29, \"15\": 3, \"10\": 31, \"6\": 18, \"5\": 5, \"1\": 30, \"8\": 17, \"2\": 11, \"14\": 25, \"7\": 14, \"9\": 13, \"3\": 9, \"13\": 4}, \"15\": {\"15\": 38, \"6\": 24, \"10\": 21, \"4\": 6, \"9\": 15, \"5\": 18, \"7\": 14, \"8\": 29, \"0\": 10, \"13\": 17, \"2\": 23, \"3\": 13, \"14\": 7, \"1\": 5}, \"13\": {\"5\": 61, \"15\": 25, \"0\": 4, \"8\": 11, \"13\": 43, \"6\": 18, \"11\": 2, \"9\": 30, \"12\": 5, \"2\": 20, \"7\": 6, \"3\": 7, \"10\": 6, \"4\": 1, \"14\": 1}, \"8\": {\"14\": 16, \"5\": 19, \"6\": 22, \"9\": 21, \"1\": 9, \"15\": 24, \"10\": 18, \"4\": 19, \"0\": 22, \"7\": 23, \"8\": 15, \"2\": 10, \"3\": 16, \"13\": 6}, \"3\": {\"2\": 56, \"1\": 6, \"8\": 19, \"7\": 34, \"5\": 18, \"3\": 39, \"0\": 7, \"10\": 11, \"6\": 6, \"13\": 8, \"15\": 14, \"14\": 4, \"9\": 10, \"4\": 8}, \"11\": {\"11\": 195, \"12\": 34, \"9\": 1, \"6\": 2, \"5\": 4, \"13\": 2, \"10\": 1, \"15\": 1}, \"4\": {\"5\": 7, \"3\": 10, \"7\": 25, \"14\": 38, \"4\": 34, \"6\": 6, \"0\": 24, \"8\": 26, \"2\": 13, \"10\": 20, \"1\": 19, \"15\": 8, \"9\": 10}, \"6\": {\"12\": 4, \"15\": 20, \"13\": 14, \"6\": 41, \"4\": 10, \"2\": 8, \"9\": 27, \"0\": 16, \"8\": 27, \"7\": 9, \"14\": 18, \"5\": 19, \"10\": 16, \"3\": 3, \"1\": 8}, \"7\": {\"15\": 17, \"3\": 24, \"0\": 19, \"4\": 21, \"1\": 16, \"10\": 25, \"14\": 16, \"7\": 28, \"2\": 19, \"9\": 8, \"8\": 24, \"5\": 8, \"6\": 9, \"13\": 6}, \"14\": {\"3\": 8, \"8\": 22, \"7\": 18, \"2\": 7, \"4\": 25, \"14\": 31, \"10\": 24, \"15\": 7, \"0\": 41, \"1\": 28, \"5\": 6, \"9\": 11, \"13\": 3, \"6\": 9}, \"2\": {\"13\": 16, \"2\": 41, \"5\": 24, \"4\": 7, \"3\": 36, \"15\": 22, \"6\": 12, \"8\": 18, \"10\": 14, \"7\": 22, \"9\": 15, \"14\": 7, \"1\": 4, \"0\": 2}, \"5\": {\"9\": 34, \"2\": 18, \"15\": 26, \"13\": 50, \"5\": 39, \"8\": 21, \"10\": 12, \"4\": 3, \"0\": 7, \"3\": 6, \"6\": 17, \"1\": 1, \"7\": 6}, \"9\": {\"14\": 7, \"12\": 3, \"15\": 18, \"4\": 5, \"5\": 26, \"6\": 28, \"9\": 44, \"0\": 9, \"13\": 26, \"10\": 19, \"1\": 10, \"8\": 15, \"7\": 9, \"2\": 16, \"3\": 5}}, \"O_20\": {\"5\": {\"12\": 26, \"3\": 14, \"6\": 1, \"4\": 18, \"5\": 26, \"9\": 23, \"1\": 29, \"0\": 37, \"13\": 13, \"15\": 18, \"2\": 12, \"10\": 3, \"7\": 8, \"8\": 10, \"14\": 2}, \"15\": {\"15\": 33, \"8\": 3, \"5\": 24, \"1\": 26, \"12\": 18, \"0\": 27, \"2\": 29, \"9\": 20, \"4\": 12, \"3\": 11, \"13\": 23, \"7\": 12, \"14\": 1, \"6\": 1}, \"9\": {\"1\": 19, \"15\": 14, \"9\": 26, \"0\": 14, \"5\": 18, \"13\": 24, \"12\": 22, \"2\": 25, \"8\": 12, \"7\": 20, \"4\": 15, \"3\": 22, \"10\": 3, \"14\": 2, \"11\": 2, \"6\": 2}, \"7\": {\"13\": 16, \"2\": 24, \"7\": 35, \"9\": 23, \"5\": 10, \"1\": 7, \"3\": 18, \"4\": 18, \"14\": 15, \"8\": 25, \"11\": 7, \"12\": 11, \"0\": 7, \"6\": 12, \"15\": 5, \"10\": 7}, \"3\": {\"9\": 17, \"8\": 11, \"1\": 17, \"7\": 18, \"0\": 17, \"13\": 9, \"4\": 23, \"3\": 19, \"2\": 27, \"12\": 24, \"5\": 28, \"15\": 14, \"14\": 9, \"10\": 5, \"11\": 1, \"6\": 1}, \"8\": {\"12\": 11, \"10\": 22, \"8\": 41, \"14\": 24, \"3\": 17, \"7\": 30, \"6\": 24, \"2\": 11, \"4\": 30, \"0\": 5, \"5\": 9, \"15\": 1, \"13\": 6, \"1\": 5, \"9\": 4}, \"4\": {\"14\": 17, \"3\": 26, \"4\": 38, \"9\": 19, \"10\": 23, \"12\": 17, \"8\": 29, \"7\": 18, \"5\": 17, \"0\": 9, \"2\": 10, \"6\": 6, \"13\": 4, \"1\": 5, \"15\": 2}, \"6\": {\"14\": 43, \"6\": 63, \"3\": 10, \"13\": 6, \"8\": 26, \"5\": 5, \"9\": 8, \"4\": 12, \"11\": 8, \"7\": 21, \"12\": 4, \"10\": 28, \"2\": 6}, \"2\": {\"2\": 31, \"8\": 14, \"3\": 21, \"1\": 12, \"4\": 15, \"6\": 4, \"15\": 13, \"9\": 25, \"12\": 27, \"13\": 23, \"5\": 19, \"0\": 8, \"7\": 19, \"11\": 6, \"14\": 2, \"10\": 1}, \"12\": {\"7\": 12, \"0\": 19, \"5\": 31, \"12\": 27, \"4\": 12, \"3\": 24, \"15\": 20, \"1\": 35, \"6\": 1, \"2\": 18, \"9\": 19, \"8\": 6, \"13\": 11, \"10\": 3, \"14\": 2}, \"0\": {\"12\": 27, \"1\": 24, \"4\": 14, \"0\": 45, \"3\": 18, \"5\": 39, \"7\": 6, \"15\": 22, \"8\": 14, \"9\": 15, \"13\": 9, \"2\": 6, \"10\": 1}, \"13\": {\"12\": 12, \"15\": 20, \"1\": 14, \"7\": 20, \"13\": 52, \"2\": 27, \"9\": 24, \"6\": 8, \"5\": 14, \"3\": 9, \"11\": 16, \"0\": 15, \"4\": 3, \"8\": 5, \"14\": 1}, \"10\": {\"14\": 43, \"4\": 40, \"10\": 47, \"12\": 12, \"9\": 5, \"2\": 17, \"6\": 15, \"7\": 15, \"3\": 8, \"8\": 24, \"5\": 8, \"1\": 3, \"0\": 2, \"13\": 1}, \"11\": {\"11\": 123, \"7\": 23, \"13\": 36, \"2\": 11, \"6\": 19, \"14\": 3, \"4\": 1, \"5\": 2, \"9\": 11, \"12\": 2, \"15\": 1, \"8\": 6, \"3\": 1, \"1\": 1}, \"14\": {\"6\": 47, \"10\": 30, \"9\": 8, \"8\": 37, \"14\": 51, \"3\": 8, \"2\": 6, \"4\": 21, \"7\": 26, \"12\": 2, \"0\": 1, \"13\": 1, \"5\": 2}, \"1\": {\"8\": 2, \"1\": 38, \"5\": 30, \"12\": 31, \"13\": 3, \"9\": 17, \"3\": 24, \"4\": 8, \"0\": 24, \"15\": 29, \"2\": 23, \"10\": 2, \"7\": 9}}, \"O_50\": {\"1\": {\"1\": 65, \"0\": 7, \"15\": 56, \"4\": 36, \"2\": 11, \"14\": 3, \"13\": 7, \"11\": 11, \"6\": 32, \"5\": 10, \"7\": 2}, \"2\": {\"2\": 137, \"0\": 62, \"14\": 10, \"10\": 7, \"1\": 10, \"6\": 4, \"13\": 5, \"11\": 2, \"8\": 1, \"5\": 2}, \"8\": {\"8\": 132, \"3\": 55, \"10\": 35, \"0\": 12, \"2\": 2, \"7\": 3, \"13\": 1}, \"7\": {\"5\": 45, \"7\": 80, \"0\": 8, \"13\": 56, \"10\": 20, \"6\": 9, \"1\": 3, \"4\": 10, \"8\": 4, \"3\": 4, \"2\": 1}, \"14\": {\"14\": 97, \"9\": 38, \"12\": 50, \"11\": 34, \"15\": 7, \"1\": 7, \"2\": 3, \"4\": 1, \"6\": 3}, \"6\": {\"0\": 10, \"15\": 22, \"6\": 61, \"1\": 37, \"4\": 34, \"13\": 30, \"5\": 23, \"7\": 11, \"11\": 2, \"2\": 4, \"10\": 4, \"14\": 1, \"8\": 1}, \"3\": {\"8\": 57, \"3\": 180, \"10\": 1, \"7\": 2}, \"4\": {\"4\": 45, \"6\": 33, \"5\": 24, \"1\": 48, \"14\": 3, \"15\": 32, \"0\": 5, \"2\": 2, \"13\": 24, \"11\": 8, \"7\": 13, \"10\": 2, \"9\": 1}, \"12\": {\"12\": 126, \"11\": 15, \"9\": 47, \"14\": 52}, \"15\": {\"11\": 33, \"6\": 33, \"15\": 84, \"1\": 33, \"13\": 8, \"9\": 5, \"4\": 30, \"14\": 7, \"7\": 1, \"5\": 4, \"2\": 1, \"10\": 1}, \"11\": {\"15\": 34, \"11\": 95, \"4\": 10, \"9\": 42, \"14\": 30, \"12\": 12, \"1\": 13, \"13\": 1, \"6\": 2, \"2\": 1}, \"0\": {\"10\": 32, \"2\": 58, \"13\": 9, \"7\": 8, \"15\": 1, \"0\": 100, \"8\": 5, \"6\": 8, \"1\": 8, \"5\": 7, \"4\": 3, \"14\": 1}, \"9\": {\"9\": 110, \"12\": 51, \"14\": 34, \"11\": 40, \"15\": 5}, \"10\": {\"0\": 43, \"10\": 79, \"13\": 25, \"8\": 36, \"5\": 25, \"7\": 24, \"2\": 5, \"4\": 1, \"6\": 2}, \"5\": {\"13\": 42, \"15\": 4, \"6\": 25, \"0\": 12, \"5\": 54, \"11\": 1, \"1\": 19, \"7\": 39, \"10\": 27, \"2\": 4, \"4\": 10, \"8\": 2, \"3\": 1}, \"13\": {\"13\": 52, \"5\": 47, \"7\": 48, \"0\": 18, \"4\": 19, \"1\": 11, \"10\": 17, \"6\": 24, \"15\": 3, \"2\": 1}}, \"O_32\": {\"2\": {\"11\": 8, \"4\": 43, \"0\": 25, \"14\": 19, \"5\": 24, \"13\": 15, \"2\": 75, \"7\": 18, \"9\": 3, \"8\": 10}, \"6\": {\"6\": 216, \"12\": 11, \"10\": 9, \"1\": 3, \"9\": 1}, \"5\": {\"8\": 19, \"11\": 15, \"0\": 10, \"4\": 31, \"5\": 46, \"13\": 27, \"14\": 28, \"3\": 23, \"7\": 24, \"2\": 17}, \"12\": {\"12\": 202, \"9\": 26, \"6\": 11, \"10\": 1}, \"13\": {\"2\": 9, \"14\": 17, \"3\": 34, \"13\": 54, \"0\": 16, \"5\": 32, \"8\": 19, \"4\": 31, \"11\": 13, \"7\": 15}, \"9\": {\"9\": 199, \"12\": 27, \"2\": 9, \"4\": 1, \"7\": 1, \"0\": 2, \"6\": 1}, \"11\": {\"11\": 88, \"7\": 40, \"13\": 17, \"14\": 57, \"3\": 11, \"2\": 7, \"0\": 3, \"4\": 9, \"5\": 7, \"8\": 1}, \"1\": {\"10\": 37, \"1\": 201, \"6\": 2}, \"3\": {\"11\": 26, \"3\": 105, \"13\": 36, \"8\": 24, \"5\": 23, \"14\": 9, \"2\": 1, \"0\": 4, \"15\": 3, \"4\": 3, \"7\": 6}, \"7\": {\"14\": 28, \"2\": 22, \"11\": 26, \"0\": 13, \"5\": 37, \"8\": 6, \"13\": 26, \"7\": 38, \"4\": 30, \"3\": 14}, \"14\": {\"14\": 59, \"11\": 57, \"7\": 39, \"8\": 4, \"0\": 15, \"3\": 6, \"13\": 21, \"2\": 17, \"5\": 12, \"4\": 10}, \"8\": {\"2\": 9, \"3\": 17, \"0\": 36, \"11\": 5, \"13\": 27, \"8\": 71, \"5\": 24, \"4\": 22, \"15\": 14, \"7\": 8, \"14\": 7}, \"4\": {\"5\": 34, \"2\": 39, \"13\": 32, \"4\": 41, \"7\": 26, \"14\": 11, \"0\": 26, \"11\": 8, \"8\": 21, \"3\": 2}, \"0\": {\"4\": 33, \"0\": 84, \"8\": 26, \"7\": 11, \"11\": 11, \"14\": 13, \"2\": 27, \"5\": 12, \"13\": 16, \"3\": 2, \"9\": 5}, \"10\": {\"10\": 198, \"1\": 35, \"6\": 4, \"12\": 3}, \"15\": {\"3\": 7, \"15\": 210, \"8\": 15, \"0\": 2, \"4\": 1, \"5\": 1, \"13\": 4}}, \"O_44\": {\"13\": {\"13\": 83, \"11\": 34, \"6\": 57, \"9\": 31, \"7\": 17, \"4\": 16, \"14\": 1, \"2\": 1}, \"4\": {\"4\": 102, \"14\": 66, \"0\": 2, \"15\": 16, \"13\": 19, \"6\": 6, \"5\": 17, \"11\": 4, \"9\": 5, \"7\": 3}, \"6\": {\"11\": 15, \"7\": 26, \"6\": 93, \"13\": 51, \"9\": 41, \"1\": 1, \"2\": 10, \"4\": 3}, \"0\": {\"15\": 59, \"0\": 82, \"8\": 44, \"14\": 18, \"4\": 5, \"5\": 32}, \"10\": {\"10\": 84, \"12\": 42, \"1\": 32, \"7\": 17, \"3\": 19, \"2\": 40, \"9\": 4, \"6\": 2}, \"7\": {\"7\": 65, \"6\": 33, \"2\": 49, \"3\": 13, \"10\": 9, \"13\": 15, \"9\": 41, \"11\": 5, \"1\": 8, \"14\": 1, \"12\": 1}, \"14\": {\"15\": 41, \"4\": 64, \"5\": 37, \"14\": 76, \"0\": 10, \"8\": 5, \"9\": 1, \"11\": 3, \"13\": 3}, \"15\": {\"15\": 79, \"4\": 20, \"8\": 44, \"5\": 24, \"14\": 40, \"0\": 32, \"9\": 1}, \"5\": {\"0\": 51, \"4\": 19, \"5\": 81, \"8\": 27, \"14\": 31, \"15\": 31}, \"2\": {\"10\": 36, \"3\": 15, \"2\": 81, \"6\": 8, \"1\": 25, \"9\": 15, \"7\": 48, \"13\": 3, \"12\": 9}, \"9\": {\"9\": 62, \"7\": 56, \"11\": 1, \"6\": 40, \"2\": 13, \"13\": 51, \"3\": 4, \"1\": 4, \"4\": 6, \"10\": 2, \"14\": 1}, \"12\": {\"12\": 88, \"3\": 37, \"1\": 65, \"10\": 38, \"2\": 8, \"7\": 4}, \"8\": {\"8\": 92, \"4\": 1, \"0\": 81, \"15\": 37, \"14\": 3, \"5\": 26}, \"3\": {\"3\": 91, \"1\": 63, \"12\": 35, \"2\": 16, \"10\": 24, \"7\": 8, \"9\": 3}, \"1\": {\"12\": 57, \"3\": 49, \"2\": 21, \"1\": 53, \"10\": 49, \"7\": 7, \"9\": 4}, \"11\": {\"13\": 45, \"11\": 136, \"6\": 38, \"9\": 12, \"14\": 2, \"4\": 1, \"7\": 4, \"2\": 1, \"5\": 1}}, \"O_14\": {\"1\": {\"3\": 14, \"5\": 61, \"15\": 17, \"1\": 84, \"7\": 19, \"4\": 19, \"2\": 14, \"6\": 1, \"13\": 1, \"8\": 8, \"14\": 1, \"10\": 1}, \"15\": {\"15\": 91, \"7\": 53, \"1\": 38, \"5\": 36, \"2\": 8, \"14\": 1, \"4\": 4, \"13\": 5, \"6\": 4}, \"10\": {\"10\": 77, \"4\": 9, \"11\": 37, \"0\": 61, \"6\": 9, \"9\": 6, \"3\": 18, \"13\": 9, \"14\": 11, \"2\": 2, \"12\": 1}, \"2\": {\"13\": 17, \"2\": 44, \"6\": 29, \"3\": 24, \"5\": 32, \"1\": 13, \"4\": 26, \"14\": 34, \"10\": 5, \"0\": 3, \"15\": 11, \"7\": 1, \"9\": 1}, \"9\": {\"9\": 130, \"0\": 17, \"11\": 30, \"12\": 49, \"3\": 2, \"8\": 5, \"10\": 5, \"4\": 2}, \"5\": {\"1\": 48, \"2\": 28, \"5\": 48, \"15\": 28, \"7\": 18, \"3\": 16, \"6\": 9, \"14\": 8, \"4\": 24, \"0\": 3, \"8\": 3, \"13\": 7}, \"7\": {\"7\": 109, \"15\": 77, \"5\": 19, \"2\": 5, \"1\": 26, \"4\": 3, \"3\": 1}, \"13\": {\"13\": 56, \"2\": 24, \"6\": 53, \"0\": 9, \"4\": 19, \"14\": 51, \"10\": 7, \"3\": 5, \"5\": 9, \"11\": 1, \"1\": 2, \"15\": 4}, \"8\": {\"8\": 138, \"5\": 19, \"9\": 4, \"1\": 30, \"4\": 19, \"0\": 14, \"2\": 1, \"7\": 3, \"3\": 8, \"11\": 1, \"10\": 2, \"13\": 1}, \"6\": {\"13\": 48, \"1\": 4, \"6\": 62, \"14\": 43, \"2\": 38, \"3\": 16, \"5\": 6, \"10\": 4, \"0\": 2, \"4\": 15, \"11\": 2}, \"3\": {\"10\": 11, \"4\": 43, \"2\": 27, \"3\": 51, \"6\": 12, \"15\": 1, \"5\": 26, \"14\": 22, \"0\": 16, \"13\": 16, \"1\": 11, \"8\": 3, \"9\": 1}, \"12\": {\"12\": 165, \"9\": 62, \"11\": 13}, \"0\": {\"3\": 24, \"11\": 33, \"0\": 73, \"10\": 53, \"4\": 10, \"9\": 16, \"14\": 16, \"13\": 6, \"8\": 3, \"5\": 2, \"6\": 1, \"2\": 3}, \"4\": {\"2\": 24, \"4\": 51, \"5\": 43, \"3\": 41, \"13\": 20, \"6\": 13, \"1\": 18, \"10\": 6, \"14\": 10, \"15\": 5, \"8\": 5, \"0\": 4}, \"14\": {\"13\": 28, \"4\": 15, \"6\": 61, \"0\": 14, \"14\": 62, \"2\": 24, \"5\": 6, \"3\": 21, \"10\": 6, \"1\": 1, \"11\": 2}, \"11\": {\"0\": 42, \"9\": 33, \"11\": 117, \"10\": 34, \"14\": 6, \"13\": 3, \"12\": 4, \"3\": 1}}}, \"per_domain_accuracy\": {\"C_2\": {\"accuracy\": 0.9998224431818182, \"source?\": true}, \"C_5\": {\"accuracy\": 0.9992977528089888, \"source?\": true}, \"C_1\": {\"accuracy\": 0.9998282967032966, \"source?\": true}, \"C_4\": {\"accuracy\": 1.0, \"source?\": true}, \"C_3\": {\"accuracy\": 0.9996345029239766, \"source?\": true}, \"O_8\": {\"accuracy\": 0.27395833333333336, \"source?\": false}, \"O_38\": {\"accuracy\": 0.41692708333333334, \"source?\": false}, \"O_26\": {\"accuracy\": 0.22526041666666666, \"source?\": false}, \"O_20\": {\"accuracy\": 0.18098958333333334, \"source?\": false}, \"O_50\": {\"accuracy\": 0.38984375, \"source?\": false}, \"O_32\": {\"accuracy\": 0.49140625, \"source?\": false}, \"O_44\": {\"accuracy\": 0.35104166666666664, \"source?\": false}, \"O_14\": {\"accuracy\": 0.3536458333333333, \"source?\": false}}}, \"history\": {\"epoch_indices\": [1, 2, 3, 4, 5, 6, 7, 8], \"train_label_loss\": [0.03234950696488772, 0.010789528948236775, 0.006092547461247368, 0.005122939164564988, 0.004053873280067568, 0.003090732065228324, 0.0031410312825938505, 0.0027739889886757092], \"source_val_label_loss\": [0.009841137565672398, 0.009338361211121082, 0.021425509825348854, 0.006321449764072895, 0.006155925337225199, 0.008524793200194836, 0.01010426227003336, 0.007061072159558535], \"target_val_label_loss\": [2.282034158706665, 3.264606475830078, 3.0121681690216064, 2.1538267135620117, 2.9558324813842773, 3.2402665615081787, 3.4608724117279053, 3.5377743244171143], \"source_val_acc_label\": [0.9979619565217391, 0.9990703661327232, 0.995816647597254, 0.9997139588100686, 0.9994994279176201, 0.9994279176201373, 0.9994994279176201, 0.999570938215103], \"target_val_acc_label\": [0.24527994791666666, 0.23525390625, 0.24296875, 0.33538411458333334, 0.2599609375, 0.27884114583333336, 0.2701497395833333, 0.29222005208333335]}, \"dataset_metrics\": {\"source\": {\"train\": {\"n_unique_x\": 175183, \"n_unique_y\": 58, \"n_batch/episode\": 6317}, \"val\": {\"n_unique_x\": 37135, \"n_unique_y\": 58, \"n_batch/episode\": 874}, \"test\": {\"n_unique_x\": 37673, \"n_unique_y\": 58, \"n_batch/episode\": 893}}, \"target\": {\"train\": {\"n_unique_x\": 179200, \"n_unique_y\": 16, \"n_batch/episode\": 6720}, \"val\": {\"n_unique_x\": 38400, \"n_unique_y\": 16, \"n_batch/episode\": 960}, \"test\": {\"n_unique_x\": 38400, \"n_unique_y\": 16, \"n_batch/episode\": 960}}}}'"
      ]
     },
     "execution_count": 29,
     "metadata": {},
     "output_type": "execute_result"
    }
   ],
   "source": [
    "json.dumps(experiment)"
   ]
  }
 ],
 "metadata": {
  "celltoolbar": "Tags",
  "kernelspec": {
   "display_name": "Python 3 (ipykernel)",
   "language": "python",
   "name": "python3"
  },
  "language_info": {
   "codemirror_mode": {
    "name": "ipython",
    "version": 3
   },
   "file_extension": ".py",
   "mimetype": "text/x-python",
   "name": "python",
   "nbconvert_exporter": "python",
   "pygments_lexer": "ipython3",
   "version": "3.8.10"
  },
  "papermill": {
   "default_parameters": {},
   "duration": 2422.334867,
   "end_time": "2022-03-25T17:57:23.959193",
   "environment_variables": {},
   "exception": null,
   "input_path": "/mnt/wd500GB/CSC500/csc500-main/csc500-notebooks/templates/tl_ptn_template.ipynb",
   "output_path": "trial.ipynb",
   "parameters": {
    "parameters": {
     "BEST_MODEL_PATH": "./best_model.pth",
     "NUM_LOGS_PER_EPOCH": 10,
     "criteria_for_best": "target_accuracy",
     "dataset_seed": 154325,
     "datasets": [
      {
       "domain_prefix": "C_",
       "domains": [
        1,
        2,
        3,
        4,
        5
       ],
       "episode_transforms": [],
       "labels": [
        "1-10.",
        "1-11.",
        "1-15.",
        "1-16.",
        "1-17.",
        "1-18.",
        "1-19.",
        "10-4.",
        "10-7.",
        "11-1.",
        "11-14.",
        "11-17.",
        "11-20.",
        "11-7.",
        "13-20.",
        "13-8.",
        "14-10.",
        "14-11.",
        "14-14.",
        "14-7.",
        "15-1.",
        "15-20.",
        "16-1.",
        "16-16.",
        "17-10.",
        "17-11.",
        "17-2.",
        "19-1.",
        "19-16.",
        "19-19.",
        "19-20.",
        "19-3.",
        "2-10.",
        "2-11.",
        "2-17.",
        "2-18.",
        "2-20.",
        "2-3.",
        "2-4.",
        "2-5.",
        "2-6.",
        "2-7.",
        "2-8.",
        "3-13.",
        "3-18.",
        "3-3.",
        "4-1.",
        "4-10.",
        "4-11.",
        "4-19.",
        "5-5.",
        "6-15.",
        "7-10.",
        "7-14.",
        "8-18.",
        "8-20.",
        "8-3.",
        "8-8."
       ],
       "num_examples_per_domain_per_label": -1,
       "pickle_path": "/mnt/wd500GB/CSC500/csc500-main/datasets/cores.stratified_ds.2022A.pkl",
       "source_or_target_dataset": "source",
       "x_transforms": [
        "unit_power",
        "lowpass_+/-10MHz",
        "take_200"
       ]
      },
      {
       "domain_prefix": "O_",
       "domains": [
        32,
        38,
        8,
        44,
        14,
        50,
        20,
        26
       ],
       "episode_transforms": [],
       "labels": [
        "3123D52",
        "3123D65",
        "3123D79",
        "3123D80",
        "3123D54",
        "3123D70",
        "3123D7B",
        "3123D89",
        "3123D58",
        "3123D76",
        "3123D7D",
        "3123EFE",
        "3123D64",
        "3123D78",
        "3123D7E",
        "3124E4A"
       ],
       "num_examples_per_domain_per_label": 2000,
       "pickle_path": "/mnt/wd500GB/CSC500/csc500-main/datasets/oracle.Run1_framed_2000Examples_stratified_ds.2022A.pkl",
       "source_or_target_dataset": "target",
       "x_transforms": [
        "unit_power",
        "take_200",
        "resample_20Msps_to_25Msps"
       ]
      }
     ],
     "device": "cuda",
     "experiment_name": "tl_3-filterv2:cores -> oracle.run1.framed",
     "lr": 0.0001,
     "n_epoch": 50,
     "n_query": 2,
     "n_shot": 3,
     "n_way": 16,
     "patience": 3,
     "seed": 154325,
     "test_k_factor": 2,
     "torch_default_dtype": "torch.float32",
     "train_k_factor": 3,
     "val_k_factor": 2,
     "x_net": [
      {
       "class": "nnReshape",
       "kargs": {
        "shape": [
         -1,
         1,
         2,
         200
        ]
       }
      },
      {
       "class": "Conv2d",
       "kargs": {
        "bias": false,
        "in_channels": 1,
        "kernel_size": [
         1,
         7
        ],
        "out_channels": 256,
        "padding": [
         0,
         3
        ]
       }
      },
      {
       "class": "ReLU",
       "kargs": {
        "inplace": true
       }
      },
      {
       "class": "BatchNorm2d",
       "kargs": {
        "num_features": 256
       }
      },
      {
       "class": "Conv2d",
       "kargs": {
        "bias": true,
        "in_channels": 256,
        "kernel_size": [
         2,
         7
        ],
        "out_channels": 80,
        "padding": [
         0,
         3
        ]
       }
      },
      {
       "class": "ReLU",
       "kargs": {
        "inplace": true
       }
      },
      {
       "class": "BatchNorm2d",
       "kargs": {
        "num_features": 80
       }
      },
      {
       "class": "Flatten",
       "kargs": {}
      },
      {
       "class": "Linear",
       "kargs": {
        "in_features": 16000,
        "out_features": 256
       }
      },
      {
       "class": "ReLU",
       "kargs": {
        "inplace": true
       }
      },
      {
       "class": "BatchNorm1d",
       "kargs": {
        "num_features": 256
       }
      },
      {
       "class": "Linear",
       "kargs": {
        "in_features": 256,
        "out_features": 256
       }
      }
     ],
     "x_shape": [
      2,
      200
     ]
    }
   },
   "start_time": "2022-03-25T17:17:01.624326",
   "version": "2.3.4"
  }
 },
 "nbformat": 4,
 "nbformat_minor": 5
}