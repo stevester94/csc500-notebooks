{
 "cells": [
  {
   "cell_type": "markdown",
   "id": "9fea5f46",
   "metadata": {
    "papermill": {
     "duration": 0.017535,
     "end_time": "2022-03-25T17:57:24.819324",
     "exception": false,
     "start_time": "2022-03-25T17:57:24.801789",
     "status": "completed"
    },
    "tags": []
   },
   "source": [
    "# Transfer Learning Template"
   ]
  },
  {
   "cell_type": "code",
   "execution_count": 1,
   "id": "0902182a",
   "metadata": {
    "execution": {
     "iopub.execute_input": "2022-03-25T17:57:24.855727Z",
     "iopub.status.busy": "2022-03-25T17:57:24.855112Z",
     "iopub.status.idle": "2022-03-25T17:57:25.828833Z",
     "shell.execute_reply": "2022-03-25T17:57:25.828403Z"
    },
    "papermill": {
     "duration": 0.996524,
     "end_time": "2022-03-25T17:57:25.828931",
     "exception": false,
     "start_time": "2022-03-25T17:57:24.832407",
     "status": "completed"
    },
    "tags": []
   },
   "outputs": [],
   "source": [
    "%load_ext autoreload\n",
    "%autoreload 2\n",
    "%matplotlib inline\n",
    "\n",
    "    \n",
    "import os, json, sys, time, random\n",
    "import numpy as np\n",
    "import torch\n",
    "from torch.optim import Adam\n",
    "from  easydict import EasyDict\n",
    "import matplotlib.pyplot as plt\n",
    "\n",
    "from steves_models.steves_ptn import Steves_Prototypical_Network\n",
    "\n",
    "from steves_utils.lazy_iterable_wrapper import Lazy_Iterable_Wrapper\n",
    "from steves_utils.iterable_aggregator import Iterable_Aggregator\n",
    "from steves_utils.ptn_train_eval_test_jig import  PTN_Train_Eval_Test_Jig\n",
    "from steves_utils.torch_sequential_builder import build_sequential\n",
    "from steves_utils.torch_utils import get_dataset_metrics, ptn_confusion_by_domain_over_dataloader\n",
    "from steves_utils.utils_v2 import (per_domain_accuracy_from_confusion, get_datasets_base_path)\n",
    "from steves_utils.PTN.utils import independent_accuracy_assesment\n",
    "\n",
    "from torch.utils.data import DataLoader\n",
    "\n",
    "from steves_utils.stratified_dataset.episodic_accessor import Episodic_Accessor_Factory\n",
    "\n",
    "from steves_utils.ptn_do_report import (\n",
    "    get_loss_curve,\n",
    "    get_results_table,\n",
    "    get_parameters_table,\n",
    "    get_domain_accuracies,\n",
    ")\n",
    "\n",
    "from steves_utils.transforms import get_chained_transform"
   ]
  },
  {
   "cell_type": "markdown",
   "id": "41c840b4",
   "metadata": {
    "papermill": {
     "duration": 0.012991,
     "end_time": "2022-03-25T17:57:25.860523",
     "exception": false,
     "start_time": "2022-03-25T17:57:25.847532",
     "status": "completed"
    },
    "tags": []
   },
   "source": [
    "# Allowed Parameters\n",
    "These are allowed parameters, not defaults\n",
    "Each of these values need to be present in the injected parameters (the notebook will raise an exception if they are not present)\n",
    "\n",
    "Papermill uses the cell tag \"parameters\" to inject the real parameters below this cell.\n",
    "Enable tags to see what I mean"
   ]
  },
  {
   "cell_type": "code",
   "execution_count": 2,
   "id": "fd44eb83",
   "metadata": {
    "execution": {
     "iopub.execute_input": "2022-03-25T17:57:25.891801Z",
     "iopub.status.busy": "2022-03-25T17:57:25.891513Z",
     "iopub.status.idle": "2022-03-25T17:57:25.906284Z",
     "shell.execute_reply": "2022-03-25T17:57:25.906576Z"
    },
    "papermill": {
     "duration": 0.032193,
     "end_time": "2022-03-25T17:57:25.906669",
     "exception": false,
     "start_time": "2022-03-25T17:57:25.874476",
     "status": "completed"
    },
    "tags": []
   },
   "outputs": [],
   "source": [
    "required_parameters = {\n",
    "    \"experiment_name\",\n",
    "    \"lr\",\n",
    "    \"device\",\n",
    "    \"seed\",\n",
    "    \"dataset_seed\",\n",
    "    \"n_shot\",\n",
    "    \"n_query\",\n",
    "    \"n_way\",\n",
    "    \"train_k_factor\",\n",
    "    \"val_k_factor\",\n",
    "    \"test_k_factor\",\n",
    "    \"n_epoch\",\n",
    "    \"patience\",\n",
    "    \"criteria_for_best\",\n",
    "    \"x_net\",\n",
    "    \"datasets\",\n",
    "    \"torch_default_dtype\",\n",
    "    \"NUM_LOGS_PER_EPOCH\",\n",
    "    \"BEST_MODEL_PATH\",\n",
    "    \"x_shape\",\n",
    "}"
   ]
  },
  {
   "cell_type": "code",
   "execution_count": 3,
   "id": "fa3f0049",
   "metadata": {
    "execution": {
     "iopub.execute_input": "2022-03-25T17:57:25.951254Z",
     "iopub.status.busy": "2022-03-25T17:57:25.950963Z",
     "iopub.status.idle": "2022-03-25T17:57:25.964268Z",
     "shell.execute_reply": "2022-03-25T17:57:25.963774Z"
    },
    "papermill": {
     "duration": 0.037836,
     "end_time": "2022-03-25T17:57:25.964372",
     "exception": false,
     "start_time": "2022-03-25T17:57:25.926536",
     "status": "completed"
    },
    "tags": [
     "parameters"
    ]
   },
   "outputs": [],
   "source": [
    "from steves_utils.CORES.utils import (\n",
    "    ALL_NODES,\n",
    "    ALL_NODES_MINIMUM_1000_EXAMPLES,\n",
    "    ALL_DAYS\n",
    ")\n",
    "\n",
    "from steves_utils.ORACLE.utils_v2 import (\n",
    "    ALL_DISTANCES_FEET_NARROWED,\n",
    "    ALL_RUNS,\n",
    "    ALL_SERIAL_NUMBERS,\n",
    ")\n",
    "\n",
    "standalone_parameters = {}\n",
    "standalone_parameters[\"experiment_name\"] = \"STANDALONE PTN\"\n",
    "standalone_parameters[\"lr\"] = 0.001\n",
    "standalone_parameters[\"device\"] = \"cuda\"\n",
    "\n",
    "standalone_parameters[\"seed\"] = 1337\n",
    "standalone_parameters[\"dataset_seed\"] = 1337\n",
    "\n",
    "standalone_parameters[\"n_way\"] = 8\n",
    "standalone_parameters[\"n_shot\"] = 3\n",
    "standalone_parameters[\"n_query\"]  = 2\n",
    "standalone_parameters[\"train_k_factor\"] = 1\n",
    "standalone_parameters[\"val_k_factor\"] = 2\n",
    "standalone_parameters[\"test_k_factor\"] = 2\n",
    "\n",
    "\n",
    "standalone_parameters[\"n_epoch\"] = 50\n",
    "\n",
    "standalone_parameters[\"patience\"] = 10\n",
    "standalone_parameters[\"criteria_for_best\"] = \"source_loss\"\n",
    "\n",
    "standalone_parameters[\"datasets\"] = [\n",
    "    {\n",
    "        \"labels\": ALL_SERIAL_NUMBERS,\n",
    "        \"domains\": ALL_DISTANCES_FEET_NARROWED,\n",
    "        \"num_examples_per_domain_per_label\": 100,\n",
    "        \"pickle_path\": os.path.join(get_datasets_base_path(), \"oracle.Run1_framed_2000Examples_stratified_ds.2022A.pkl\"),\n",
    "        \"source_or_target_dataset\": \"source\",\n",
    "        \"x_transforms\": [\"unit_mag\", \"minus_two\"],\n",
    "        \"episode_transforms\": [],\n",
    "        \"domain_prefix\": \"ORACLE_\"\n",
    "    },\n",
    "    {\n",
    "        \"labels\": ALL_NODES,\n",
    "        \"domains\": ALL_DAYS,\n",
    "        \"num_examples_per_domain_per_label\": 100,\n",
    "        \"pickle_path\": os.path.join(get_datasets_base_path(), \"cores.stratified_ds.2022A.pkl\"),\n",
    "        \"source_or_target_dataset\": \"target\",\n",
    "        \"x_transforms\": [\"unit_power\", \"times_zero\"],\n",
    "        \"episode_transforms\": [],\n",
    "        \"domain_prefix\": \"CORES_\"\n",
    "    }   \n",
    "]\n",
    "\n",
    "standalone_parameters[\"torch_default_dtype\"] = \"torch.float32\" \n",
    "\n",
    "\n",
    "\n",
    "standalone_parameters[\"x_net\"] =     [\n",
    "    {\"class\": \"nnReshape\", \"kargs\": {\"shape\":[-1, 1, 2, 256]}},\n",
    "    {\"class\": \"Conv2d\", \"kargs\": { \"in_channels\":1, \"out_channels\":256, \"kernel_size\":(1,7), \"bias\":False, \"padding\":(0,3), },},\n",
    "    {\"class\": \"ReLU\", \"kargs\": {\"inplace\": True}},\n",
    "    {\"class\": \"BatchNorm2d\", \"kargs\": {\"num_features\":256}},\n",
    "\n",
    "    {\"class\": \"Conv2d\", \"kargs\": { \"in_channels\":256, \"out_channels\":80, \"kernel_size\":(2,7), \"bias\":True, \"padding\":(0,3), },},\n",
    "    {\"class\": \"ReLU\", \"kargs\": {\"inplace\": True}},\n",
    "    {\"class\": \"BatchNorm2d\", \"kargs\": {\"num_features\":80}},\n",
    "    {\"class\": \"Flatten\", \"kargs\": {}},\n",
    "\n",
    "    {\"class\": \"Linear\", \"kargs\": {\"in_features\": 80*256, \"out_features\": 256}}, # 80 units per IQ pair\n",
    "    {\"class\": \"ReLU\", \"kargs\": {\"inplace\": True}},\n",
    "    {\"class\": \"BatchNorm1d\", \"kargs\": {\"num_features\":256}},\n",
    "\n",
    "    {\"class\": \"Linear\", \"kargs\": {\"in_features\": 256, \"out_features\": 256}},\n",
    "]\n",
    "\n",
    "# Parameters relevant to results\n",
    "# These parameters will basically never need to change\n",
    "standalone_parameters[\"NUM_LOGS_PER_EPOCH\"] = 10\n",
    "standalone_parameters[\"BEST_MODEL_PATH\"] = \"./best_model.pth\"\n",
    "\n",
    "\n",
    "\n",
    "\n"
   ]
  },
  {
   "cell_type": "code",
   "execution_count": 4,
   "id": "6d1ee95f",
   "metadata": {
    "execution": {
     "iopub.execute_input": "2022-03-25T17:57:26.006912Z",
     "iopub.status.busy": "2022-03-25T17:57:26.006383Z",
     "iopub.status.idle": "2022-03-25T17:57:26.019174Z",
     "shell.execute_reply": "2022-03-25T17:57:26.018720Z"
    },
    "papermill": {
     "duration": 0.037488,
     "end_time": "2022-03-25T17:57:26.019274",
     "exception": false,
     "start_time": "2022-03-25T17:57:25.981786",
     "status": "completed"
    },
    "tags": [
     "injected-parameters"
    ]
   },
   "outputs": [],
   "source": [
    "# Parameters\n",
    "parameters = {\n",
    "    \"experiment_name\": \"tl_3-filterv2:cores -> oracle.run1.framed\",\n",
    "    \"device\": \"cuda\",\n",
    "    \"lr\": 0.0001,\n",
    "    \"x_shape\": [2, 200],\n",
    "    \"n_shot\": 3,\n",
    "    \"n_query\": 2,\n",
    "    \"train_k_factor\": 3,\n",
    "    \"val_k_factor\": 2,\n",
    "    \"test_k_factor\": 2,\n",
    "    \"torch_default_dtype\": \"torch.float32\",\n",
    "    \"n_epoch\": 50,\n",
    "    \"patience\": 3,\n",
    "    \"criteria_for_best\": \"target_accuracy\",\n",
    "    \"x_net\": [\n",
    "        {\"class\": \"nnReshape\", \"kargs\": {\"shape\": [-1, 1, 2, 200]}},\n",
    "        {\n",
    "            \"class\": \"Conv2d\",\n",
    "            \"kargs\": {\n",
    "                \"in_channels\": 1,\n",
    "                \"out_channels\": 256,\n",
    "                \"kernel_size\": [1, 7],\n",
    "                \"bias\": False,\n",
    "                \"padding\": [0, 3],\n",
    "            },\n",
    "        },\n",
    "        {\"class\": \"ReLU\", \"kargs\": {\"inplace\": True}},\n",
    "        {\"class\": \"BatchNorm2d\", \"kargs\": {\"num_features\": 256}},\n",
    "        {\n",
    "            \"class\": \"Conv2d\",\n",
    "            \"kargs\": {\n",
    "                \"in_channels\": 256,\n",
    "                \"out_channels\": 80,\n",
    "                \"kernel_size\": [2, 7],\n",
    "                \"bias\": True,\n",
    "                \"padding\": [0, 3],\n",
    "            },\n",
    "        },\n",
    "        {\"class\": \"ReLU\", \"kargs\": {\"inplace\": True}},\n",
    "        {\"class\": \"BatchNorm2d\", \"kargs\": {\"num_features\": 80}},\n",
    "        {\"class\": \"Flatten\", \"kargs\": {}},\n",
    "        {\"class\": \"Linear\", \"kargs\": {\"in_features\": 16000, \"out_features\": 256}},\n",
    "        {\"class\": \"ReLU\", \"kargs\": {\"inplace\": True}},\n",
    "        {\"class\": \"BatchNorm1d\", \"kargs\": {\"num_features\": 256}},\n",
    "        {\"class\": \"Linear\", \"kargs\": {\"in_features\": 256, \"out_features\": 256}},\n",
    "    ],\n",
    "    \"NUM_LOGS_PER_EPOCH\": 10,\n",
    "    \"BEST_MODEL_PATH\": \"./best_model.pth\",\n",
    "    \"n_way\": 16,\n",
    "    \"datasets\": [\n",
    "        {\n",
    "            \"labels\": [\n",
    "                \"1-10.\",\n",
    "                \"1-11.\",\n",
    "                \"1-15.\",\n",
    "                \"1-16.\",\n",
    "                \"1-17.\",\n",
    "                \"1-18.\",\n",
    "                \"1-19.\",\n",
    "                \"10-4.\",\n",
    "                \"10-7.\",\n",
    "                \"11-1.\",\n",
    "                \"11-14.\",\n",
    "                \"11-17.\",\n",
    "                \"11-20.\",\n",
    "                \"11-7.\",\n",
    "                \"13-20.\",\n",
    "                \"13-8.\",\n",
    "                \"14-10.\",\n",
    "                \"14-11.\",\n",
    "                \"14-14.\",\n",
    "                \"14-7.\",\n",
    "                \"15-1.\",\n",
    "                \"15-20.\",\n",
    "                \"16-1.\",\n",
    "                \"16-16.\",\n",
    "                \"17-10.\",\n",
    "                \"17-11.\",\n",
    "                \"17-2.\",\n",
    "                \"19-1.\",\n",
    "                \"19-16.\",\n",
    "                \"19-19.\",\n",
    "                \"19-20.\",\n",
    "                \"19-3.\",\n",
    "                \"2-10.\",\n",
    "                \"2-11.\",\n",
    "                \"2-17.\",\n",
    "                \"2-18.\",\n",
    "                \"2-20.\",\n",
    "                \"2-3.\",\n",
    "                \"2-4.\",\n",
    "                \"2-5.\",\n",
    "                \"2-6.\",\n",
    "                \"2-7.\",\n",
    "                \"2-8.\",\n",
    "                \"3-13.\",\n",
    "                \"3-18.\",\n",
    "                \"3-3.\",\n",
    "                \"4-1.\",\n",
    "                \"4-10.\",\n",
    "                \"4-11.\",\n",
    "                \"4-19.\",\n",
    "                \"5-5.\",\n",
    "                \"6-15.\",\n",
    "                \"7-10.\",\n",
    "                \"7-14.\",\n",
    "                \"8-18.\",\n",
    "                \"8-20.\",\n",
    "                \"8-3.\",\n",
    "                \"8-8.\",\n",
    "            ],\n",
    "            \"domains\": [1, 2, 3, 4, 5],\n",
    "            \"num_examples_per_domain_per_label\": -1,\n",
    "            \"pickle_path\": \"/mnt/wd500GB/CSC500/csc500-main/datasets/cores.stratified_ds.2022A.pkl\",\n",
    "            \"source_or_target_dataset\": \"source\",\n",
    "            \"x_transforms\": [\"lowpass_+/-10MHz\", \"take_200\"],\n",
    "            \"episode_transforms\": [],\n",
    "            \"domain_prefix\": \"C_\",\n",
    "        },\n",
    "        {\n",
    "            \"labels\": [\n",
    "                \"3123D52\",\n",
    "                \"3123D65\",\n",
    "                \"3123D79\",\n",
    "                \"3123D80\",\n",
    "                \"3123D54\",\n",
    "                \"3123D70\",\n",
    "                \"3123D7B\",\n",
    "                \"3123D89\",\n",
    "                \"3123D58\",\n",
    "                \"3123D76\",\n",
    "                \"3123D7D\",\n",
    "                \"3123EFE\",\n",
    "                \"3123D64\",\n",
    "                \"3123D78\",\n",
    "                \"3123D7E\",\n",
    "                \"3124E4A\",\n",
    "            ],\n",
    "            \"domains\": [32, 38, 8, 44, 14, 50, 20, 26],\n",
    "            \"num_examples_per_domain_per_label\": 2000,\n",
    "            \"pickle_path\": \"/mnt/wd500GB/CSC500/csc500-main/datasets/oracle.Run1_framed_2000Examples_stratified_ds.2022A.pkl\",\n",
    "            \"source_or_target_dataset\": \"target\",\n",
    "            \"x_transforms\": [\"take_200\", \"resample_20Msps_to_25Msps\"],\n",
    "            \"episode_transforms\": [],\n",
    "            \"domain_prefix\": \"O_\",\n",
    "        },\n",
    "    ],\n",
    "    \"seed\": 154325,\n",
    "    \"dataset_seed\": 154325,\n",
    "}\n"
   ]
  },
  {
   "cell_type": "code",
   "execution_count": 5,
   "id": "8fa1cc33",
   "metadata": {
    "execution": {
     "iopub.execute_input": "2022-03-25T17:57:26.056314Z",
     "iopub.status.busy": "2022-03-25T17:57:26.056032Z",
     "iopub.status.idle": "2022-03-25T17:57:26.072663Z",
     "shell.execute_reply": "2022-03-25T17:57:26.072233Z"
    },
    "papermill": {
     "duration": 0.03405,
     "end_time": "2022-03-25T17:57:26.072764",
     "exception": false,
     "start_time": "2022-03-25T17:57:26.038714",
     "status": "completed"
    },
    "tags": []
   },
   "outputs": [],
   "source": [
    "# Set this to True if you want to run this template directly\n",
    "STANDALONE = False\n",
    "if STANDALONE:\n",
    "    print(\"parameters not injected, running with standalone_parameters\")\n",
    "    parameters = standalone_parameters\n",
    "\n",
    "if not 'parameters' in locals() and not 'parameters' in globals():\n",
    "    raise Exception(\"Parameter injection failed\")\n",
    "\n",
    "#Use an easy dict for all the parameters\n",
    "p = EasyDict(parameters)\n",
    "\n",
    "if \"x_shape\" not in p:\n",
    "    p.x_shape = [2,256] # Default to this if we dont supply x_shape\n",
    "\n",
    "\n",
    "supplied_keys = set(p.keys())\n",
    "\n",
    "if  supplied_keys != required_parameters:\n",
    "    print(\"Parameters are incorrect\")\n",
    "    if len(supplied_keys - required_parameters)>0: print(\"Shouldn't have:\", str(supplied_keys - required_parameters))\n",
    "    if len(required_parameters - supplied_keys)>0: print(\"Need to have:\", str(required_parameters - supplied_keys))\n",
    "    raise RuntimeError(\"Parameters are incorrect\")"
   ]
  },
  {
   "cell_type": "code",
   "execution_count": 6,
   "id": "3a028d58",
   "metadata": {
    "execution": {
     "iopub.execute_input": "2022-03-25T17:57:26.105729Z",
     "iopub.status.busy": "2022-03-25T17:57:26.105469Z",
     "iopub.status.idle": "2022-03-25T17:57:26.116750Z",
     "shell.execute_reply": "2022-03-25T17:57:26.116964Z"
    },
    "papermill": {
     "duration": 0.026604,
     "end_time": "2022-03-25T17:57:26.117041",
     "exception": false,
     "start_time": "2022-03-25T17:57:26.090437",
     "status": "completed"
    },
    "tags": []
   },
   "outputs": [],
   "source": [
    "###################################\n",
    "# Set the RNGs and make it all deterministic\n",
    "###################################\n",
    "np.random.seed(p.seed)\n",
    "random.seed(p.seed)\n",
    "torch.manual_seed(p.seed)\n",
    "\n",
    "torch.use_deterministic_algorithms(True) "
   ]
  },
  {
   "cell_type": "code",
   "execution_count": 7,
   "id": "b691acf6",
   "metadata": {
    "execution": {
     "iopub.execute_input": "2022-03-25T17:57:26.147026Z",
     "iopub.status.busy": "2022-03-25T17:57:26.146773Z",
     "iopub.status.idle": "2022-03-25T17:57:26.161600Z",
     "shell.execute_reply": "2022-03-25T17:57:26.161232Z"
    },
    "papermill": {
     "duration": 0.030147,
     "end_time": "2022-03-25T17:57:26.161681",
     "exception": false,
     "start_time": "2022-03-25T17:57:26.131534",
     "status": "completed"
    },
    "tags": []
   },
   "outputs": [],
   "source": [
    "###########################################\n",
    "# The stratified datasets honor this\n",
    "###########################################\n",
    "torch.set_default_dtype(eval(p.torch_default_dtype))"
   ]
  },
  {
   "cell_type": "code",
   "execution_count": 8,
   "id": "b5fba671",
   "metadata": {
    "execution": {
     "iopub.execute_input": "2022-03-25T17:57:26.197695Z",
     "iopub.status.busy": "2022-03-25T17:57:26.197344Z",
     "iopub.status.idle": "2022-03-25T17:57:26.232095Z",
     "shell.execute_reply": "2022-03-25T17:57:26.231632Z"
    },
    "papermill": {
     "duration": 0.0528,
     "end_time": "2022-03-25T17:57:26.232200",
     "exception": false,
     "start_time": "2022-03-25T17:57:26.179400",
     "status": "completed"
    },
    "tags": []
   },
   "outputs": [],
   "source": [
    "###################################\n",
    "# Build the network(s)\n",
    "# Note: It's critical to do this AFTER setting the RNG\n",
    "###################################\n",
    "x_net = build_sequential(p.x_net)"
   ]
  },
  {
   "cell_type": "code",
   "execution_count": 9,
   "id": "5d7e61cc",
   "metadata": {
    "execution": {
     "iopub.execute_input": "2022-03-25T17:57:26.266484Z",
     "iopub.status.busy": "2022-03-25T17:57:26.266220Z",
     "iopub.status.idle": "2022-03-25T17:57:26.277072Z",
     "shell.execute_reply": "2022-03-25T17:57:26.277470Z"
    },
    "papermill": {
     "duration": 0.026495,
     "end_time": "2022-03-25T17:57:26.277593",
     "exception": false,
     "start_time": "2022-03-25T17:57:26.251098",
     "status": "completed"
    },
    "tags": []
   },
   "outputs": [],
   "source": [
    "start_time_secs = time.time()"
   ]
  },
  {
   "cell_type": "code",
   "execution_count": 10,
   "id": "c6b67dfd",
   "metadata": {
    "execution": {
     "iopub.execute_input": "2022-03-25T17:57:26.310744Z",
     "iopub.status.busy": "2022-03-25T17:57:26.310488Z",
     "iopub.status.idle": "2022-03-25T17:57:26.322005Z",
     "shell.execute_reply": "2022-03-25T17:57:26.321557Z"
    },
    "papermill": {
     "duration": 0.026899,
     "end_time": "2022-03-25T17:57:26.322107",
     "exception": false,
     "start_time": "2022-03-25T17:57:26.295208",
     "status": "completed"
    },
    "tags": []
   },
   "outputs": [],
   "source": [
    "p.domains_source = []\n",
    "p.domains_target = []\n",
    "\n",
    "\n",
    "train_original_source = []\n",
    "val_original_source   = []\n",
    "test_original_source  = []\n",
    "\n",
    "train_original_target = []\n",
    "val_original_target   = []\n",
    "test_original_target  = []"
   ]
  },
  {
   "cell_type": "code",
   "execution_count": 11,
   "id": "e3d9c3d3",
   "metadata": {
    "execution": {
     "iopub.execute_input": "2022-03-25T17:57:26.354930Z",
     "iopub.status.busy": "2022-03-25T17:57:26.354676Z",
     "iopub.status.idle": "2022-03-25T17:57:26.365529Z",
     "shell.execute_reply": "2022-03-25T17:57:26.365296Z"
    },
    "papermill": {
     "duration": 0.025773,
     "end_time": "2022-03-25T17:57:26.365588",
     "exception": false,
     "start_time": "2022-03-25T17:57:26.339815",
     "status": "completed"
    },
    "tags": []
   },
   "outputs": [],
   "source": [
    "# global_x_transform_func = lambda x: normalize(x.to(torch.get_default_dtype()), \"unit_power\") # unit_power, unit_mag\n",
    "# global_x_transform_func = lambda x: normalize(x, \"unit_power\") # unit_power, unit_mag"
   ]
  },
  {
   "cell_type": "code",
   "execution_count": 12,
   "id": "acb78fd2",
   "metadata": {
    "execution": {
     "iopub.execute_input": "2022-03-25T17:57:26.397624Z",
     "iopub.status.busy": "2022-03-25T17:57:26.397355Z",
     "iopub.status.idle": "2022-03-25T17:57:26.408988Z",
     "shell.execute_reply": "2022-03-25T17:57:26.409380Z"
    },
    "papermill": {
     "duration": 0.030084,
     "end_time": "2022-03-25T17:57:26.409503",
     "exception": false,
     "start_time": "2022-03-25T17:57:26.379419",
     "status": "completed"
    },
    "tags": []
   },
   "outputs": [],
   "source": [
    "def add_dataset(\n",
    "    labels,\n",
    "    domains,\n",
    "    pickle_path,\n",
    "    x_transforms,\n",
    "    episode_transforms,\n",
    "    domain_prefix,\n",
    "    num_examples_per_domain_per_label,\n",
    "    source_or_target_dataset:str,\n",
    "    iterator_seed=p.seed,\n",
    "    dataset_seed=p.dataset_seed,\n",
    "    n_shot=p.n_shot,\n",
    "    n_way=p.n_way,\n",
    "    n_query=p.n_query,\n",
    "    train_val_test_k_factors=(p.train_k_factor,p.val_k_factor,p.test_k_factor),\n",
    "):\n",
    "   \n",
    "    if x_transforms == []: x_transform = None\n",
    "    else: x_transform = get_chained_transform(x_transforms)\n",
    "    \n",
    "    if episode_transforms == []: episode_transform = None\n",
    "    else: raise Exception(\"episode_transforms not implemented\")\n",
    "    \n",
    "    episode_transform = lambda tup, _prefix=domain_prefix: (_prefix + str(tup[0]), tup[1])\n",
    "\n",
    "\n",
    "    eaf = Episodic_Accessor_Factory(\n",
    "        labels=labels,\n",
    "        domains=domains,\n",
    "        num_examples_per_domain_per_label=num_examples_per_domain_per_label,\n",
    "        iterator_seed=iterator_seed,\n",
    "        dataset_seed=dataset_seed,\n",
    "        n_shot=n_shot,\n",
    "        n_way=n_way,\n",
    "        n_query=n_query,\n",
    "        train_val_test_k_factors=train_val_test_k_factors,\n",
    "        pickle_path=pickle_path,\n",
    "        x_transform_func=x_transform,\n",
    "    )\n",
    "\n",
    "    train, val, test = eaf.get_train(), eaf.get_val(), eaf.get_test()\n",
    "    train = Lazy_Iterable_Wrapper(train, episode_transform)\n",
    "    val = Lazy_Iterable_Wrapper(val, episode_transform)\n",
    "    test = Lazy_Iterable_Wrapper(test, episode_transform)\n",
    "\n",
    "    if source_or_target_dataset==\"source\":\n",
    "        train_original_source.append(train)\n",
    "        val_original_source.append(val)\n",
    "        test_original_source.append(test)\n",
    "\n",
    "        p.domains_source.extend(\n",
    "            [domain_prefix + str(u) for u in domains]\n",
    "        )\n",
    "    elif source_or_target_dataset==\"target\":\n",
    "        train_original_target.append(train)\n",
    "        val_original_target.append(val)\n",
    "        test_original_target.append(test)\n",
    "        p.domains_target.extend(\n",
    "            [domain_prefix + str(u) for u in domains]\n",
    "        )\n",
    "    else:\n",
    "        raise Exception(f\"invalid source_or_target_dataset: {source_or_target_dataset}\")\n",
    "    "
   ]
  },
  {
   "cell_type": "code",
   "execution_count": 13,
   "id": "fe266617",
   "metadata": {
    "execution": {
     "iopub.execute_input": "2022-03-25T17:57:26.443821Z",
     "iopub.status.busy": "2022-03-25T17:57:26.443570Z",
     "iopub.status.idle": "2022-03-25T17:57:44.785755Z",
     "shell.execute_reply": "2022-03-25T17:57:44.786165Z"
    },
    "papermill": {
     "duration": 18.358627,
     "end_time": "2022-03-25T17:57:44.786306",
     "exception": false,
     "start_time": "2022-03-25T17:57:26.427679",
     "status": "completed"
    },
    "tags": []
   },
   "outputs": [],
   "source": [
    "for ds in p.datasets:\n",
    "    add_dataset(**ds)"
   ]
  },
  {
   "cell_type": "code",
   "execution_count": 14,
   "id": "b90d65ac",
   "metadata": {
    "execution": {
     "iopub.execute_input": "2022-03-25T17:57:44.820974Z",
     "iopub.status.busy": "2022-03-25T17:57:44.820707Z",
     "iopub.status.idle": "2022-03-25T17:57:44.834696Z",
     "shell.execute_reply": "2022-03-25T17:57:44.834373Z"
    },
    "papermill": {
     "duration": 0.030265,
     "end_time": "2022-03-25T17:57:44.834778",
     "exception": false,
     "start_time": "2022-03-25T17:57:44.804513",
     "status": "completed"
    },
    "tags": []
   },
   "outputs": [],
   "source": [
    "# from steves_utils.CORES.utils import (\n",
    "#     ALL_NODES,\n",
    "#     ALL_NODES_MINIMUM_1000_EXAMPLES,\n",
    "#     ALL_DAYS\n",
    "# )\n",
    "\n",
    "# add_dataset(\n",
    "#     labels=ALL_NODES,\n",
    "#     domains = ALL_DAYS,\n",
    "#     num_examples_per_domain_per_label=100,\n",
    "#     pickle_path=os.path.join(get_datasets_base_path(), \"cores.stratified_ds.2022A.pkl\"),\n",
    "#     source_or_target_dataset=\"target\",\n",
    "#     x_transform_func=global_x_transform_func,\n",
    "#     domain_modifier=lambda u: f\"cores_{u}\"\n",
    "# )"
   ]
  },
  {
   "cell_type": "code",
   "execution_count": 15,
   "id": "76db484d",
   "metadata": {
    "execution": {
     "iopub.execute_input": "2022-03-25T17:57:44.875177Z",
     "iopub.status.busy": "2022-03-25T17:57:44.874814Z",
     "iopub.status.idle": "2022-03-25T17:57:44.884430Z",
     "shell.execute_reply": "2022-03-25T17:57:44.884050Z"
    },
    "papermill": {
     "duration": 0.030342,
     "end_time": "2022-03-25T17:57:44.884513",
     "exception": false,
     "start_time": "2022-03-25T17:57:44.854171",
     "status": "completed"
    },
    "tags": []
   },
   "outputs": [],
   "source": [
    "# from steves_utils.ORACLE.utils_v2 import (\n",
    "#     ALL_DISTANCES_FEET,\n",
    "#     ALL_RUNS,\n",
    "#     ALL_SERIAL_NUMBERS,\n",
    "# )\n",
    "\n",
    "\n",
    "# add_dataset(\n",
    "#     labels=ALL_SERIAL_NUMBERS,\n",
    "#     domains = list(set(ALL_DISTANCES_FEET) - {2,62}),\n",
    "#     num_examples_per_domain_per_label=100,\n",
    "#     pickle_path=os.path.join(get_datasets_base_path(), \"oracle.Run2_framed_2000Examples_stratified_ds.2022A.pkl\"),\n",
    "#     source_or_target_dataset=\"source\",\n",
    "#     x_transform_func=global_x_transform_func,\n",
    "#     domain_modifier=lambda u: f\"oracle1_{u}\"\n",
    "# )\n"
   ]
  },
  {
   "cell_type": "code",
   "execution_count": 16,
   "id": "97dea9d2",
   "metadata": {
    "execution": {
     "iopub.execute_input": "2022-03-25T17:57:44.917045Z",
     "iopub.status.busy": "2022-03-25T17:57:44.916792Z",
     "iopub.status.idle": "2022-03-25T17:57:44.928013Z",
     "shell.execute_reply": "2022-03-25T17:57:44.927582Z"
    },
    "papermill": {
     "duration": 0.026192,
     "end_time": "2022-03-25T17:57:44.928116",
     "exception": false,
     "start_time": "2022-03-25T17:57:44.901924",
     "status": "completed"
    },
    "tags": []
   },
   "outputs": [],
   "source": [
    "# from steves_utils.ORACLE.utils_v2 import (\n",
    "#     ALL_DISTANCES_FEET,\n",
    "#     ALL_RUNS,\n",
    "#     ALL_SERIAL_NUMBERS,\n",
    "# )\n",
    "\n",
    "\n",
    "# add_dataset(\n",
    "#     labels=ALL_SERIAL_NUMBERS,\n",
    "#     domains = list(set(ALL_DISTANCES_FEET) - {2,62,56}),\n",
    "#     num_examples_per_domain_per_label=100,\n",
    "#     pickle_path=os.path.join(get_datasets_base_path(), \"oracle.Run2_framed_2000Examples_stratified_ds.2022A.pkl\"),\n",
    "#     source_or_target_dataset=\"source\",\n",
    "#     x_transform_func=global_x_transform_func,\n",
    "#     domain_modifier=lambda u: f\"oracle2_{u}\"\n",
    "# )"
   ]
  },
  {
   "cell_type": "code",
   "execution_count": 17,
   "id": "6f289866",
   "metadata": {
    "execution": {
     "iopub.execute_input": "2022-03-25T17:57:44.963224Z",
     "iopub.status.busy": "2022-03-25T17:57:44.962962Z",
     "iopub.status.idle": "2022-03-25T17:57:44.974749Z",
     "shell.execute_reply": "2022-03-25T17:57:44.974953Z"
    },
    "papermill": {
     "duration": 0.029542,
     "end_time": "2022-03-25T17:57:44.975028",
     "exception": false,
     "start_time": "2022-03-25T17:57:44.945486",
     "status": "completed"
    },
    "tags": []
   },
   "outputs": [],
   "source": [
    "# add_dataset(\n",
    "#     labels=list(range(19)),\n",
    "#     domains = [0,1,2],\n",
    "#     num_examples_per_domain_per_label=100,\n",
    "#     pickle_path=os.path.join(get_datasets_base_path(), \"metehan.stratified_ds.2022A.pkl\"),\n",
    "#     source_or_target_dataset=\"target\",\n",
    "#     x_transform_func=global_x_transform_func,\n",
    "#     domain_modifier=lambda u: f\"met_{u}\"\n",
    "# )"
   ]
  },
  {
   "cell_type": "code",
   "execution_count": 18,
   "id": "86a863c3",
   "metadata": {
    "execution": {
     "iopub.execute_input": "2022-03-25T17:57:45.011167Z",
     "iopub.status.busy": "2022-03-25T17:57:45.010911Z",
     "iopub.status.idle": "2022-03-25T17:57:45.025894Z",
     "shell.execute_reply": "2022-03-25T17:57:45.025400Z"
    },
    "papermill": {
     "duration": 0.031144,
     "end_time": "2022-03-25T17:57:45.026027",
     "exception": false,
     "start_time": "2022-03-25T17:57:44.994883",
     "status": "completed"
    },
    "tags": []
   },
   "outputs": [],
   "source": [
    "# # from steves_utils.wisig.utils import (\n",
    "# #     ALL_NODES_MINIMUM_100_EXAMPLES,\n",
    "# #     ALL_NODES_MINIMUM_500_EXAMPLES,\n",
    "# #     ALL_NODES_MINIMUM_1000_EXAMPLES,\n",
    "# #     ALL_DAYS\n",
    "# # )\n",
    "\n",
    "# import steves_utils.wisig.utils as wisig\n",
    "\n",
    "\n",
    "# add_dataset(\n",
    "#     labels=wisig.ALL_NODES_MINIMUM_100_EXAMPLES,\n",
    "#     domains = wisig.ALL_DAYS,\n",
    "#     num_examples_per_domain_per_label=100,\n",
    "#     pickle_path=os.path.join(get_datasets_base_path(), \"wisig.node3-19.stratified_ds.2022A.pkl\"),\n",
    "#     source_or_target_dataset=\"target\",\n",
    "#     x_transform_func=global_x_transform_func,\n",
    "#     domain_modifier=lambda u: f\"wisig_{u}\"\n",
    "# )"
   ]
  },
  {
   "cell_type": "code",
   "execution_count": 19,
   "id": "fd5442bc",
   "metadata": {
    "execution": {
     "iopub.execute_input": "2022-03-25T17:57:45.071471Z",
     "iopub.status.busy": "2022-03-25T17:57:45.071199Z",
     "iopub.status.idle": "2022-03-25T17:57:45.085719Z",
     "shell.execute_reply": "2022-03-25T17:57:45.085268Z"
    },
    "papermill": {
     "duration": 0.041538,
     "end_time": "2022-03-25T17:57:45.085827",
     "exception": false,
     "start_time": "2022-03-25T17:57:45.044289",
     "status": "completed"
    },
    "tags": []
   },
   "outputs": [],
   "source": [
    "###################################\n",
    "# Build the dataset\n",
    "###################################\n",
    "train_original_source = Iterable_Aggregator(train_original_source, p.seed)\n",
    "val_original_source = Iterable_Aggregator(val_original_source, p.seed)\n",
    "test_original_source = Iterable_Aggregator(test_original_source, p.seed)\n",
    "\n",
    "\n",
    "train_original_target = Iterable_Aggregator(train_original_target, p.seed)\n",
    "val_original_target = Iterable_Aggregator(val_original_target, p.seed)\n",
    "test_original_target = Iterable_Aggregator(test_original_target, p.seed)\n",
    "\n",
    "# For CNN We only use X and Y. And we only train on the source.\n",
    "# Properly form the data using a transform lambda and Lazy_Iterable_Wrapper. Finally wrap them in a dataloader\n",
    "\n",
    "transform_lambda = lambda ex: ex[1] # Original is (<domain>, <episode>) so we strip down to episode only\n",
    "\n",
    "train_processed_source = Lazy_Iterable_Wrapper(train_original_source, transform_lambda)\n",
    "val_processed_source   = Lazy_Iterable_Wrapper(val_original_source, transform_lambda)\n",
    "test_processed_source  = Lazy_Iterable_Wrapper(test_original_source, transform_lambda)\n",
    "\n",
    "train_processed_target = Lazy_Iterable_Wrapper(train_original_target, transform_lambda)\n",
    "val_processed_target   = Lazy_Iterable_Wrapper(val_original_target, transform_lambda)\n",
    "test_processed_target  = Lazy_Iterable_Wrapper(test_original_target, transform_lambda)\n",
    "\n",
    "datasets = EasyDict({\n",
    "    \"source\": {\n",
    "        \"original\": {\"train\":train_original_source, \"val\":val_original_source, \"test\":test_original_source},\n",
    "        \"processed\": {\"train\":train_processed_source, \"val\":val_processed_source, \"test\":test_processed_source}\n",
    "    },\n",
    "    \"target\": {\n",
    "        \"original\": {\"train\":train_original_target, \"val\":val_original_target, \"test\":test_original_target},\n",
    "        \"processed\": {\"train\":train_processed_target, \"val\":val_processed_target, \"test\":test_processed_target}\n",
    "    },\n",
    "})"
   ]
  },
  {
   "cell_type": "code",
   "execution_count": 20,
   "id": "5b3c01fc",
   "metadata": {
    "execution": {
     "iopub.execute_input": "2022-03-25T17:57:45.124478Z",
     "iopub.status.busy": "2022-03-25T17:57:45.124207Z",
     "iopub.status.idle": "2022-03-25T17:57:52.125175Z",
     "shell.execute_reply": "2022-03-25T17:57:52.124863Z"
    },
    "papermill": {
     "duration": 7.019119,
     "end_time": "2022-03-25T17:57:52.125241",
     "exception": false,
     "start_time": "2022-03-25T17:57:45.106122",
     "status": "completed"
    },
    "tags": []
   },
   "outputs": [
    {
     "name": "stdout",
     "output_type": "stream",
     "text": [
      "{'C_2', 'C_3', 'C_5', 'C_1', 'C_4'}\n"
     ]
    },
    {
     "name": "stdout",
     "output_type": "stream",
     "text": [
      "{'O_50', 'O_32', 'O_14', 'O_44', 'O_20', 'O_26', 'O_38', 'O_8'}\n"
     ]
    },
    {
     "name": "stdout",
     "output_type": "stream",
     "text": [
      "tensor([[[-2.6983e-04, -1.7795e-03, -3.7279e-03,  ..., -6.1332e-03,\n",
      "          -1.1843e-02, -1.1462e-02],\n",
      "         [ 1.2432e-04,  2.7934e-04, -1.5294e-03,  ...,  4.4035e-04,\n",
      "           6.2759e-03,  5.4648e-03]],\n",
      "\n",
      "        [[-1.2149e-04, -6.4663e-04, -4.0095e-04,  ..., -6.1864e-03,\n",
      "          -8.5391e-04, -7.1926e-03],\n",
      "         [ 7.0637e-06, -3.1216e-04, -1.9000e-03,  ...,  3.0445e-03,\n",
      "          -8.9847e-03, -1.2198e-02]],\n",
      "\n",
      "        [[ 1.6246e-04,  4.0256e-04, -1.7807e-03,  ...,  3.3881e-04,\n",
      "           1.0684e-02,  1.2991e-02],\n",
      "         [ 6.1171e-04,  3.7954e-03,  7.9925e-03,  ..., -1.4774e-02,\n",
      "          -4.8823e-03,  7.8138e-03]],\n",
      "\n",
      "        ...,\n",
      "\n",
      "        [[-8.4764e-05, -4.1463e-04, -2.6201e-04,  ...,  5.0585e-03,\n",
      "          -3.7203e-03, -5.2167e-03],\n",
      "         [ 2.3169e-04,  1.6379e-03,  4.3026e-03,  ..., -3.0961e-03,\n",
      "          -7.2730e-04,  3.0617e-03]],\n",
      "\n",
      "        [[-1.4127e-06,  1.1725e-04,  6.6441e-04,  ..., -2.5731e-03,\n",
      "          -3.0587e-03,  2.7425e-03],\n",
      "         [-1.8366e-05, -3.1660e-04, -1.6979e-03,  ...,  3.0256e-03,\n",
      "           4.1539e-03,  1.6754e-03]],\n",
      "\n",
      "        [[-5.3684e-05, -2.6886e-04, -2.5735e-04,  ...,  2.4165e-03,\n",
      "           1.0682e-02,  5.2927e-03],\n",
      "         [-1.9778e-05, -1.0612e-04, -1.6246e-04,  ...,  1.4699e-02,\n",
      "           3.6777e-03, -3.4509e-04]]])\n"
     ]
    }
   ],
   "source": [
    "from steves_utils.transforms import get_average_magnitude, get_average_power\n",
    "\n",
    "print(set([u for u,_ in val_original_source]))\n",
    "print(set([u for u,_ in val_original_target]))\n",
    "\n",
    "s_x, s_y, q_x, q_y, _ = next(iter(train_processed_source))\n",
    "print(s_x)\n",
    "\n",
    "# for ds in [\n",
    "#     train_processed_source,\n",
    "#     val_processed_source,\n",
    "#     test_processed_source,\n",
    "#     train_processed_target,\n",
    "#     val_processed_target,\n",
    "#     test_processed_target\n",
    "# ]:\n",
    "#     for s_x, s_y, q_x, q_y, _ in ds:\n",
    "#         for X in (s_x, q_x):\n",
    "#             for x in X:\n",
    "#                 assert np.isclose(get_average_magnitude(x.numpy()), 1.0)\n",
    "#                 assert np.isclose(get_average_power(x.numpy()), 1.0)\n",
    "                "
   ]
  },
  {
   "cell_type": "code",
   "execution_count": 21,
   "id": "bbdacba1",
   "metadata": {
    "execution": {
     "iopub.execute_input": "2022-03-25T17:57:52.160063Z",
     "iopub.status.busy": "2022-03-25T17:57:52.159651Z",
     "iopub.status.idle": "2022-03-25T17:57:52.210336Z",
     "shell.execute_reply": "2022-03-25T17:57:52.210556Z"
    },
    "papermill": {
     "duration": 0.06872,
     "end_time": "2022-03-25T17:57:52.210637",
     "exception": false,
     "start_time": "2022-03-25T17:57:52.141917",
     "status": "completed"
    },
    "tags": []
   },
   "outputs": [
    {
     "name": "stdout",
     "output_type": "stream",
     "text": [
      "(2, 200)\n"
     ]
    }
   ],
   "source": [
    "###################################\n",
    "# Build the model\n",
    "###################################\n",
    "# easfsl only wants a tuple for the shape\n",
    "model = Steves_Prototypical_Network(x_net, device=p.device, x_shape=tuple(p.x_shape))\n",
    "optimizer = Adam(params=model.parameters(), lr=p.lr)"
   ]
  },
  {
   "cell_type": "code",
   "execution_count": 22,
   "id": "22b39ac5",
   "metadata": {
    "execution": {
     "iopub.execute_input": "2022-03-25T17:57:52.243656Z",
     "iopub.status.busy": "2022-03-25T17:57:52.243391Z",
     "iopub.status.idle": "2022-03-25T18:29:43.086387Z",
     "shell.execute_reply": "2022-03-25T18:29:43.086136Z"
    },
    "papermill": {
     "duration": 1910.860568,
     "end_time": "2022-03-25T18:29:43.086451",
     "exception": false,
     "start_time": "2022-03-25T17:57:52.225883",
     "status": "completed"
    },
    "tags": []
   },
   "outputs": [
    {
     "name": "stdout",
     "output_type": "stream",
     "text": [
      "epoch: 1, [batch: 1 / 6297], examples_per_second: 48.5297, train_label_loss: 2.0562, \n"
     ]
    },
    {
     "name": "stdout",
     "output_type": "stream",
     "text": [
      "epoch: 1, [batch: 630 / 6297], examples_per_second: 1873.7692, train_label_loss: 0.1375, \n"
     ]
    },
    {
     "name": "stdout",
     "output_type": "stream",
     "text": [
      "epoch: 1, [batch: 1260 / 6297], examples_per_second: 1874.1256, train_label_loss: 0.0060, \n"
     ]
    },
    {
     "name": "stdout",
     "output_type": "stream",
     "text": [
      "epoch: 1, [batch: 1889 / 6297], examples_per_second: 1873.3202, train_label_loss: 0.0040, \n"
     ]
    },
    {
     "name": "stdout",
     "output_type": "stream",
     "text": [
      "epoch: 1, [batch: 2519 / 6297], examples_per_second: 1874.8681, train_label_loss: 0.0002, \n"
     ]
    },
    {
     "name": "stdout",
     "output_type": "stream",
     "text": [
      "epoch: 1, [batch: 3149 / 6297], examples_per_second: 1872.9788, train_label_loss: 0.0002, \n"
     ]
    },
    {
     "name": "stdout",
     "output_type": "stream",
     "text": [
      "epoch: 1, [batch: 3778 / 6297], examples_per_second: 1871.9258, train_label_loss: 0.0023, \n"
     ]
    },
    {
     "name": "stdout",
     "output_type": "stream",
     "text": [
      "epoch: 1, [batch: 4408 / 6297], examples_per_second: 2011.0733, train_label_loss: 0.0438, \n"
     ]
    },
    {
     "name": "stdout",
     "output_type": "stream",
     "text": [
      "epoch: 1, [batch: 5037 / 6297], examples_per_second: 2343.1119, train_label_loss: 0.0000, \n"
     ]
    },
    {
     "name": "stdout",
     "output_type": "stream",
     "text": [
      "epoch: 1, [batch: 5667 / 6297], examples_per_second: 2324.4749, train_label_loss: 0.0001, \n"
     ]
    },
    {
     "name": "stdout",
     "output_type": "stream",
     "text": [
      "=============================================================\n",
      "epoch: 1, source_val_acc_label: 0.9984, target_val_acc_label: 0.4258, source_val_label_loss: 0.0090, target_val_label_loss: 2.0458, \n",
      "=============================================================\n"
     ]
    },
    {
     "name": "stdout",
     "output_type": "stream",
     "text": [
      "New best\n"
     ]
    },
    {
     "name": "stdout",
     "output_type": "stream",
     "text": [
      "epoch: 2, [batch: 1 / 6333], examples_per_second: 3.5285, train_label_loss: 0.0004, \n"
     ]
    },
    {
     "name": "stdout",
     "output_type": "stream",
     "text": [
      "epoch: 2, [batch: 634 / 6333], examples_per_second: 2303.6963, train_label_loss: 0.0000, \n"
     ]
    },
    {
     "name": "stdout",
     "output_type": "stream",
     "text": [
      "epoch: 2, [batch: 1267 / 6333], examples_per_second: 3606.1974, train_label_loss: 0.0010, \n"
     ]
    },
    {
     "name": "stdout",
     "output_type": "stream",
     "text": [
      "epoch: 2, [batch: 1900 / 6333], examples_per_second: 3567.5801, train_label_loss: 0.0000, \n"
     ]
    },
    {
     "name": "stdout",
     "output_type": "stream",
     "text": [
      "epoch: 2, [batch: 2533 / 6333], examples_per_second: 3557.3316, train_label_loss: 0.0000, \n"
     ]
    },
    {
     "name": "stdout",
     "output_type": "stream",
     "text": [
      "epoch: 2, [batch: 3167 / 6333], examples_per_second: 3585.6694, train_label_loss: 0.0087, \n"
     ]
    },
    {
     "name": "stdout",
     "output_type": "stream",
     "text": [
      "epoch: 2, [batch: 3800 / 6333], examples_per_second: 3615.4939, train_label_loss: 0.0000, \n"
     ]
    },
    {
     "name": "stdout",
     "output_type": "stream",
     "text": [
      "epoch: 2, [batch: 4433 / 6333], examples_per_second: 3609.1110, train_label_loss: 0.0000, \n"
     ]
    },
    {
     "name": "stdout",
     "output_type": "stream",
     "text": [
      "epoch: 2, [batch: 5066 / 6333], examples_per_second: 3609.6502, train_label_loss: 0.0000, \n"
     ]
    },
    {
     "name": "stdout",
     "output_type": "stream",
     "text": [
      "epoch: 2, [batch: 5699 / 6333], examples_per_second: 3586.4864, train_label_loss: 0.0003, \n"
     ]
    },
    {
     "name": "stdout",
     "output_type": "stream",
     "text": [
      "=============================================================\n",
      "epoch: 2, source_val_acc_label: 0.9975, target_val_acc_label: 0.4142, source_val_label_loss: 0.0127, target_val_label_loss: 1.9990, \n",
      "=============================================================\n"
     ]
    },
    {
     "name": "stdout",
     "output_type": "stream",
     "text": [
      "epoch: 3, [batch: 1 / 6305], examples_per_second: 2.9498, train_label_loss: 0.0073, \n"
     ]
    },
    {
     "name": "stdout",
     "output_type": "stream",
     "text": [
      "epoch: 3, [batch: 631 / 6305], examples_per_second: 1871.4372, train_label_loss: 0.0000, \n"
     ]
    },
    {
     "name": "stdout",
     "output_type": "stream",
     "text": [
      "epoch: 3, [batch: 1261 / 6305], examples_per_second: 1876.7784, train_label_loss: 0.0001, \n"
     ]
    },
    {
     "name": "stdout",
     "output_type": "stream",
     "text": [
      "epoch: 3, [batch: 1892 / 6305], examples_per_second: 1873.3725, train_label_loss: 0.0000, \n"
     ]
    },
    {
     "name": "stdout",
     "output_type": "stream",
     "text": [
      "epoch: 3, [batch: 2522 / 6305], examples_per_second: 1868.1616, train_label_loss: 0.0000, \n"
     ]
    },
    {
     "name": "stdout",
     "output_type": "stream",
     "text": [
      "epoch: 3, [batch: 3153 / 6305], examples_per_second: 1877.1959, train_label_loss: 0.0003, \n"
     ]
    },
    {
     "name": "stdout",
     "output_type": "stream",
     "text": [
      "epoch: 3, [batch: 3783 / 6305], examples_per_second: 1872.5783, train_label_loss: 0.0000, \n"
     ]
    },
    {
     "name": "stdout",
     "output_type": "stream",
     "text": [
      "epoch: 3, [batch: 4413 / 6305], examples_per_second: 1869.5151, train_label_loss: 0.0000, \n"
     ]
    },
    {
     "name": "stdout",
     "output_type": "stream",
     "text": [
      "epoch: 3, [batch: 5044 / 6305], examples_per_second: 1965.0076, train_label_loss: 0.0009, \n"
     ]
    },
    {
     "name": "stdout",
     "output_type": "stream",
     "text": [
      "epoch: 3, [batch: 5674 / 6305], examples_per_second: 2368.0090, train_label_loss: 0.0001, \n"
     ]
    },
    {
     "name": "stdout",
     "output_type": "stream",
     "text": [
      "=============================================================\n",
      "epoch: 3, source_val_acc_label: 0.9982, target_val_acc_label: 0.5031, source_val_label_loss: 0.0134, target_val_label_loss: 1.6300, \n",
      "=============================================================\n"
     ]
    },
    {
     "name": "stdout",
     "output_type": "stream",
     "text": [
      "New best\n"
     ]
    },
    {
     "name": "stdout",
     "output_type": "stream",
     "text": [
      "epoch: 4, [batch: 1 / 6323], examples_per_second: 2.9804, train_label_loss: 0.0001, \n"
     ]
    },
    {
     "name": "stdout",
     "output_type": "stream",
     "text": [
      "epoch: 4, [batch: 633 / 6323], examples_per_second: 1873.3712, train_label_loss: 0.0001, \n"
     ]
    },
    {
     "name": "stdout",
     "output_type": "stream",
     "text": [
      "epoch: 4, [batch: 1265 / 6323], examples_per_second: 1877.3138, train_label_loss: 0.0000, \n"
     ]
    },
    {
     "name": "stdout",
     "output_type": "stream",
     "text": [
      "epoch: 4, [batch: 1897 / 6323], examples_per_second: 1874.7510, train_label_loss: 0.0000, \n"
     ]
    },
    {
     "name": "stdout",
     "output_type": "stream",
     "text": [
      "epoch: 4, [batch: 2529 / 6323], examples_per_second: 1871.8287, train_label_loss: 0.0006, \n"
     ]
    },
    {
     "name": "stdout",
     "output_type": "stream",
     "text": [
      "epoch: 4, [batch: 3162 / 6323], examples_per_second: 1878.7490, train_label_loss: 0.0000, \n"
     ]
    },
    {
     "name": "stdout",
     "output_type": "stream",
     "text": [
      "epoch: 4, [batch: 3794 / 6323], examples_per_second: 1875.2714, train_label_loss: 0.0000, \n"
     ]
    },
    {
     "name": "stdout",
     "output_type": "stream",
     "text": [
      "epoch: 4, [batch: 4426 / 6323], examples_per_second: 1871.2139, train_label_loss: 0.0052, \n"
     ]
    },
    {
     "name": "stdout",
     "output_type": "stream",
     "text": [
      "epoch: 4, [batch: 5058 / 6323], examples_per_second: 1975.7996, train_label_loss: 0.0183, \n"
     ]
    },
    {
     "name": "stdout",
     "output_type": "stream",
     "text": [
      "epoch: 4, [batch: 5690 / 6323], examples_per_second: 2384.0485, train_label_loss: 0.0012, \n"
     ]
    },
    {
     "name": "stdout",
     "output_type": "stream",
     "text": [
      "=============================================================\n",
      "epoch: 4, source_val_acc_label: 0.9993, target_val_acc_label: 0.4185, source_val_label_loss: 0.0071, target_val_label_loss: 1.8507, \n",
      "=============================================================\n"
     ]
    },
    {
     "name": "stdout",
     "output_type": "stream",
     "text": [
      "epoch: 5, [batch: 1 / 6317], examples_per_second: 2.9580, train_label_loss: 0.0000, \n"
     ]
    },
    {
     "name": "stdout",
     "output_type": "stream",
     "text": [
      "epoch: 5, [batch: 632 / 6317], examples_per_second: 1873.5356, train_label_loss: 0.0000, \n"
     ]
    },
    {
     "name": "stdout",
     "output_type": "stream",
     "text": [
      "epoch: 5, [batch: 1264 / 6317], examples_per_second: 1879.6084, train_label_loss: 0.0000, \n"
     ]
    },
    {
     "name": "stdout",
     "output_type": "stream",
     "text": [
      "epoch: 5, [batch: 1895 / 6317], examples_per_second: 1876.1941, train_label_loss: 0.0000, \n"
     ]
    },
    {
     "name": "stdout",
     "output_type": "stream",
     "text": [
      "epoch: 5, [batch: 2527 / 6317], examples_per_second: 1870.1525, train_label_loss: 0.0000, \n"
     ]
    },
    {
     "name": "stdout",
     "output_type": "stream",
     "text": [
      "epoch: 5, [batch: 3159 / 6317], examples_per_second: 1876.9184, train_label_loss: 0.0000, \n"
     ]
    },
    {
     "name": "stdout",
     "output_type": "stream",
     "text": [
      "epoch: 5, [batch: 3790 / 6317], examples_per_second: 1875.5619, train_label_loss: 0.0000, \n"
     ]
    },
    {
     "name": "stdout",
     "output_type": "stream",
     "text": [
      "epoch: 5, [batch: 4422 / 6317], examples_per_second: 1871.4788, train_label_loss: 0.0016, \n"
     ]
    },
    {
     "name": "stdout",
     "output_type": "stream",
     "text": [
      "epoch: 5, [batch: 5053 / 6317], examples_per_second: 1985.6018, train_label_loss: 0.0006, \n"
     ]
    },
    {
     "name": "stdout",
     "output_type": "stream",
     "text": [
      "epoch: 5, [batch: 5685 / 6317], examples_per_second: 2399.3149, train_label_loss: 0.0000, \n"
     ]
    },
    {
     "name": "stdout",
     "output_type": "stream",
     "text": [
      "=============================================================\n",
      "epoch: 5, source_val_acc_label: 0.9992, target_val_acc_label: 0.4553, source_val_label_loss: 0.0065, target_val_label_loss: 1.5781, \n",
      "=============================================================\n"
     ]
    },
    {
     "name": "stdout",
     "output_type": "stream",
     "text": [
      "epoch: 6, [batch: 1 / 6329], examples_per_second: 2.9447, train_label_loss: 0.0010, \n"
     ]
    },
    {
     "name": "stdout",
     "output_type": "stream",
     "text": [
      "epoch: 6, [batch: 633 / 6329], examples_per_second: 1875.5168, train_label_loss: 0.0000, \n"
     ]
    },
    {
     "name": "stdout",
     "output_type": "stream",
     "text": [
      "epoch: 6, [batch: 1266 / 6329], examples_per_second: 1878.3808, train_label_loss: 0.0000, \n"
     ]
    },
    {
     "name": "stdout",
     "output_type": "stream",
     "text": [
      "epoch: 6, [batch: 1899 / 6329], examples_per_second: 1873.3086, train_label_loss: 0.0000, \n"
     ]
    },
    {
     "name": "stdout",
     "output_type": "stream",
     "text": [
      "epoch: 6, [batch: 2532 / 6329], examples_per_second: 1870.2849, train_label_loss: 0.0000, \n"
     ]
    },
    {
     "name": "stdout",
     "output_type": "stream",
     "text": [
      "epoch: 6, [batch: 3165 / 6329], examples_per_second: 1878.5436, train_label_loss: 0.0000, \n"
     ]
    },
    {
     "name": "stdout",
     "output_type": "stream",
     "text": [
      "epoch: 6, [batch: 3797 / 6329], examples_per_second: 1876.0962, train_label_loss: 0.0000, \n"
     ]
    },
    {
     "name": "stdout",
     "output_type": "stream",
     "text": [
      "epoch: 6, [batch: 4430 / 6329], examples_per_second: 1871.2239, train_label_loss: 0.0001, \n"
     ]
    },
    {
     "name": "stdout",
     "output_type": "stream",
     "text": [
      "epoch: 6, [batch: 5063 / 6329], examples_per_second: 1991.2477, train_label_loss: 0.0001, \n"
     ]
    },
    {
     "name": "stdout",
     "output_type": "stream",
     "text": [
      "epoch: 6, [batch: 5696 / 6329], examples_per_second: 2415.3676, train_label_loss: 0.0000, \n"
     ]
    },
    {
     "name": "stdout",
     "output_type": "stream",
     "text": [
      "=============================================================\n",
      "epoch: 6, source_val_acc_label: 0.9994, target_val_acc_label: 0.4299, source_val_label_loss: 0.0065, target_val_label_loss: 1.6175, \n",
      "=============================================================\n"
     ]
    },
    {
     "name": "stdout",
     "output_type": "stream",
     "text": [
      "epoch: 7, [batch: 1 / 6316], examples_per_second: 2.9659, train_label_loss: 0.0000, \n"
     ]
    },
    {
     "name": "stdout",
     "output_type": "stream",
     "text": [
      "epoch: 7, [batch: 632 / 6316], examples_per_second: 1873.7289, train_label_loss: 0.0000, \n"
     ]
    },
    {
     "name": "stdout",
     "output_type": "stream",
     "text": [
      "epoch: 7, [batch: 1264 / 6316], examples_per_second: 1880.2682, train_label_loss: 0.0000, \n"
     ]
    },
    {
     "name": "stdout",
     "output_type": "stream",
     "text": [
      "epoch: 7, [batch: 1895 / 6316], examples_per_second: 1875.3839, train_label_loss: 0.0000, \n"
     ]
    },
    {
     "name": "stdout",
     "output_type": "stream",
     "text": [
      "epoch: 7, [batch: 2527 / 6316], examples_per_second: 1870.1205, train_label_loss: 0.2306, \n"
     ]
    },
    {
     "name": "stdout",
     "output_type": "stream",
     "text": [
      "epoch: 7, [batch: 3158 / 6316], examples_per_second: 1878.2971, train_label_loss: 0.0007, \n"
     ]
    },
    {
     "name": "stdout",
     "output_type": "stream",
     "text": [
      "epoch: 7, [batch: 3790 / 6316], examples_per_second: 1874.8754, train_label_loss: 0.0000, \n"
     ]
    },
    {
     "name": "stdout",
     "output_type": "stream",
     "text": [
      "epoch: 7, [batch: 4421 / 6316], examples_per_second: 1870.3249, train_label_loss: 0.0006, \n"
     ]
    },
    {
     "name": "stdout",
     "output_type": "stream",
     "text": [
      "epoch: 7, [batch: 5053 / 6316], examples_per_second: 1971.1480, train_label_loss: 0.0001, \n"
     ]
    },
    {
     "name": "stdout",
     "output_type": "stream",
     "text": [
      "epoch: 7, [batch: 5684 / 6316], examples_per_second: 2374.3579, train_label_loss: 0.1502, \n"
     ]
    },
    {
     "name": "stdout",
     "output_type": "stream",
     "text": [
      "=============================================================\n",
      "epoch: 7, source_val_acc_label: 0.9992, target_val_acc_label: 0.4377, source_val_label_loss: 0.0125, target_val_label_loss: 1.7421, \n",
      "=============================================================\n"
     ]
    },
    {
     "name": "stdout",
     "output_type": "stream",
     "text": [
      "Patience (3) exhausted\n"
     ]
    }
   ],
   "source": [
    "###################################\n",
    "# train\n",
    "###################################\n",
    "jig = PTN_Train_Eval_Test_Jig(model, p.BEST_MODEL_PATH, p.device)\n",
    "\n",
    "jig.train(\n",
    "    train_iterable=datasets.source.processed.train,\n",
    "    source_val_iterable=datasets.source.processed.val,\n",
    "    target_val_iterable=datasets.target.processed.val,\n",
    "    num_epochs=p.n_epoch,\n",
    "    num_logs_per_epoch=p.NUM_LOGS_PER_EPOCH,\n",
    "    patience=p.patience,\n",
    "    optimizer=optimizer,\n",
    "    criteria_for_best=p.criteria_for_best,\n",
    ")"
   ]
  },
  {
   "cell_type": "code",
   "execution_count": 23,
   "id": "31e8fabf",
   "metadata": {
    "execution": {
     "iopub.execute_input": "2022-03-25T18:29:43.146957Z",
     "iopub.status.busy": "2022-03-25T18:29:43.146674Z",
     "iopub.status.idle": "2022-03-25T18:29:43.162474Z",
     "shell.execute_reply": "2022-03-25T18:29:43.162866Z"
    },
    "papermill": {
     "duration": 0.047312,
     "end_time": "2022-03-25T18:29:43.163005",
     "exception": false,
     "start_time": "2022-03-25T18:29:43.115693",
     "status": "completed"
    },
    "tags": []
   },
   "outputs": [],
   "source": [
    "total_experiment_time_secs = time.time() - start_time_secs"
   ]
  },
  {
   "cell_type": "code",
   "execution_count": 24,
   "id": "87b9595b",
   "metadata": {
    "execution": {
     "iopub.execute_input": "2022-03-25T18:29:43.231836Z",
     "iopub.status.busy": "2022-03-25T18:29:43.231564Z",
     "iopub.status.idle": "2022-03-25T18:32:12.028197Z",
     "shell.execute_reply": "2022-03-25T18:32:12.027733Z"
    },
    "papermill": {
     "duration": 148.830332,
     "end_time": "2022-03-25T18:32:12.028308",
     "exception": false,
     "start_time": "2022-03-25T18:29:43.197976",
     "status": "completed"
    },
    "tags": []
   },
   "outputs": [],
   "source": [
    "###################################\n",
    "# Evaluate the model\n",
    "###################################\n",
    "source_test_label_accuracy, source_test_label_loss = jig.test(datasets.source.processed.test)\n",
    "target_test_label_accuracy, target_test_label_loss = jig.test(datasets.target.processed.test)\n",
    "\n",
    "source_val_label_accuracy, source_val_label_loss = jig.test(datasets.source.processed.val)\n",
    "target_val_label_accuracy, target_val_label_loss = jig.test(datasets.target.processed.val)\n",
    "\n",
    "history = jig.get_history()\n",
    "\n",
    "total_epochs_trained = len(history[\"epoch_indices\"])\n",
    "\n",
    "val_dl = Iterable_Aggregator((datasets.source.original.val,datasets.target.original.val))\n",
    "\n",
    "confusion = ptn_confusion_by_domain_over_dataloader(model, p.device, val_dl)\n",
    "per_domain_accuracy = per_domain_accuracy_from_confusion(confusion)\n",
    "\n",
    "# Add a key to per_domain_accuracy for if it was a source domain\n",
    "for domain, accuracy in per_domain_accuracy.items():\n",
    "    per_domain_accuracy[domain] = {\n",
    "        \"accuracy\": accuracy,\n",
    "        \"source?\": domain in p.domains_source\n",
    "    }\n",
    "\n",
    "# Do an independent accuracy assesment JUST TO BE SURE!\n",
    "# _source_test_label_accuracy = independent_accuracy_assesment(model, datasets.source.processed.test, p.device)\n",
    "# _target_test_label_accuracy = independent_accuracy_assesment(model, datasets.target.processed.test, p.device)\n",
    "# _source_val_label_accuracy = independent_accuracy_assesment(model, datasets.source.processed.val, p.device)\n",
    "# _target_val_label_accuracy = independent_accuracy_assesment(model, datasets.target.processed.val, p.device)\n",
    "\n",
    "# assert(_source_test_label_accuracy == source_test_label_accuracy)\n",
    "# assert(_target_test_label_accuracy == target_test_label_accuracy)\n",
    "# assert(_source_val_label_accuracy == source_val_label_accuracy)\n",
    "# assert(_target_val_label_accuracy == target_val_label_accuracy)\n",
    "\n",
    "experiment = {\n",
    "    \"experiment_name\": p.experiment_name,\n",
    "    \"parameters\": dict(p),\n",
    "    \"results\": {\n",
    "        \"source_test_label_accuracy\": source_test_label_accuracy,\n",
    "        \"source_test_label_loss\": source_test_label_loss,\n",
    "        \"target_test_label_accuracy\": target_test_label_accuracy,\n",
    "        \"target_test_label_loss\": target_test_label_loss,\n",
    "        \"source_val_label_accuracy\": source_val_label_accuracy,\n",
    "        \"source_val_label_loss\": source_val_label_loss,\n",
    "        \"target_val_label_accuracy\": target_val_label_accuracy,\n",
    "        \"target_val_label_loss\": target_val_label_loss,\n",
    "        \"total_epochs_trained\": total_epochs_trained,\n",
    "        \"total_experiment_time_secs\": total_experiment_time_secs,\n",
    "        \"confusion\": confusion,\n",
    "        \"per_domain_accuracy\": per_domain_accuracy,\n",
    "    },\n",
    "    \"history\": history,\n",
    "    \"dataset_metrics\": get_dataset_metrics(datasets, \"ptn\"),\n",
    "}"
   ]
  },
  {
   "cell_type": "code",
   "execution_count": 25,
   "id": "54a21829",
   "metadata": {
    "execution": {
     "iopub.execute_input": "2022-03-25T18:32:12.101241Z",
     "iopub.status.busy": "2022-03-25T18:32:12.092726Z",
     "iopub.status.idle": "2022-03-25T18:32:12.232378Z",
     "shell.execute_reply": "2022-03-25T18:32:12.232938Z"
    },
    "papermill": {
     "duration": 0.172407,
     "end_time": "2022-03-25T18:32:12.233136",
     "exception": false,
     "start_time": "2022-03-25T18:32:12.060729",
     "status": "completed"
    },
    "tags": []
   },
   "outputs": [
    {
     "data": {
      "image/png": "[encoded data removed]",
      "text/plain": [
       "<Figure size 1080x504 with 1 Axes>"
      ]
     },
     "metadata": {
      "needs_background": "light"
     },
     "output_type": "display_data"
    }
   ],
   "source": [
    "ax = get_loss_curve(experiment)\n",
    "plt.show()"
   ]
  },
  {
   "cell_type": "code",
   "execution_count": 26,
   "id": "fd8a0f60",
   "metadata": {
    "execution": {
     "iopub.execute_input": "2022-03-25T18:32:12.303253Z",
     "iopub.status.busy": "2022-03-25T18:32:12.302496Z",
     "iopub.status.idle": "2022-03-25T18:32:12.471670Z",
     "shell.execute_reply": "2022-03-25T18:32:12.471894Z"
    },
    "papermill": {
     "duration": 0.202653,
     "end_time": "2022-03-25T18:32:12.471976",
     "exception": false,
     "start_time": "2022-03-25T18:32:12.269323",
     "status": "completed"
    },
    "tags": []
   },
   "outputs": [
    {
     "data": {
      "text/plain": [
       "<AxesSubplot:title={'center':'Results'}>"
      ]
     },
     "execution_count": 26,
     "metadata": {},
     "output_type": "execute_result"
    },
    {
     "data": {
      "image/png": "[encoded data removed]",
      "text/plain": [
       "<Figure size 1080x504 with 1 Axes>"
      ]
     },
     "metadata": {
      "needs_background": "light"
     },
     "output_type": "display_data"
    }
   ],
   "source": [
    "get_results_table(experiment)"
   ]
  },
  {
   "cell_type": "code",
   "execution_count": 27,
   "id": "cf8dc689",
   "metadata": {
    "execution": {
     "iopub.execute_input": "2022-03-25T18:32:12.539450Z",
     "iopub.status.busy": "2022-03-25T18:32:12.539183Z",
     "iopub.status.idle": "2022-03-25T18:32:12.678899Z",
     "shell.execute_reply": "2022-03-25T18:32:12.679309Z"
    },
    "papermill": {
     "duration": 0.173473,
     "end_time": "2022-03-25T18:32:12.679443",
     "exception": false,
     "start_time": "2022-03-25T18:32:12.505970",
     "status": "completed"
    },
    "tags": []
   },
   "outputs": [
    {
     "data": {
      "text/plain": [
       "<AxesSubplot:title={'center':'Per Domain Validation Accuracy'}, xlabel='domain'>"
      ]
     },
     "execution_count": 27,
     "metadata": {},
     "output_type": "execute_result"
    },
    {
     "data": {
      "image/png": "[encoded data removed]",
      "text/plain": [
       "<Figure size 1080x504 with 1 Axes>"
      ]
     },
     "metadata": {
      "needs_background": "light"
     },
     "output_type": "display_data"
    }
   ],
   "source": [
    "get_domain_accuracies(experiment)"
   ]
  },
  {
   "cell_type": "code",
   "execution_count": 28,
   "id": "a74ae082",
   "metadata": {
    "execution": {
     "iopub.execute_input": "2022-03-25T18:32:12.756786Z",
     "iopub.status.busy": "2022-03-25T18:32:12.756255Z",
     "iopub.status.idle": "2022-03-25T18:32:12.771941Z",
     "shell.execute_reply": "2022-03-25T18:32:12.771474Z"
    },
    "papermill": {
     "duration": 0.055264,
     "end_time": "2022-03-25T18:32:12.772044",
     "exception": false,
     "start_time": "2022-03-25T18:32:12.716780",
     "status": "completed"
    },
    "tags": []
   },
   "outputs": [
    {
     "name": "stdout",
     "output_type": "stream",
     "text": [
      "Source Test Label Accuracy: 0.997795352743561 Target Test Label Accuracy: 0.507421875\n",
      "Source Val Label Accuracy: 0.9982122425629291 Target Val Label Accuracy: 0.5030598958333333\n"
     ]
    }
   ],
   "source": [
    "print(\"Source Test Label Accuracy:\", experiment[\"results\"][\"source_test_label_accuracy\"], \"Target Test Label Accuracy:\", experiment[\"results\"][\"target_test_label_accuracy\"])\n",
    "print(\"Source Val Label Accuracy:\", experiment[\"results\"][\"source_val_label_accuracy\"], \"Target Val Label Accuracy:\", experiment[\"results\"][\"target_val_label_accuracy\"])"
   ]
  },
  {
   "cell_type": "code",
   "execution_count": 29,
   "id": "dacca602",
   "metadata": {
    "execution": {
     "iopub.execute_input": "2022-03-25T18:32:12.844222Z",
     "iopub.status.busy": "2022-03-25T18:32:12.843421Z",
     "iopub.status.idle": "2022-03-25T18:32:12.859377Z",
     "shell.execute_reply": "2022-03-25T18:32:12.859596Z"
    },
    "papermill": {
     "duration": 0.051973,
     "end_time": "2022-03-25T18:32:12.859673",
     "exception": false,
     "start_time": "2022-03-25T18:32:12.807700",
     "status": "completed"
    },
    "tags": [
     "experiment_json"
    ]
   },
   "outputs": [
    {
     "data": {
      "text/plain": [
       "'{\"experiment_name\": \"tl_3-filterv2:cores -> oracle.run1.framed\", \"parameters\": {\"experiment_name\": \"tl_3-filterv2:cores -> oracle.run1.framed\", \"device\": \"cuda\", \"lr\": 0.0001, \"x_shape\": [2, 200], \"n_shot\": 3, \"n_query\": 2, \"train_k_factor\": 3, \"val_k_factor\": 2, \"test_k_factor\": 2, \"torch_default_dtype\": \"torch.float32\", \"n_epoch\": 50, \"patience\": 3, \"criteria_for_best\": \"target_accuracy\", \"x_net\": [{\"class\": \"nnReshape\", \"kargs\": {\"shape\": [-1, 1, 2, 200]}}, {\"class\": \"Conv2d\", \"kargs\": {\"in_channels\": 1, \"out_channels\": 256, \"kernel_size\": [1, 7], \"bias\": false, \"padding\": [0, 3]}}, {\"class\": \"ReLU\", \"kargs\": {\"inplace\": true}}, {\"class\": \"BatchNorm2d\", \"kargs\": {\"num_features\": 256}}, {\"class\": \"Conv2d\", \"kargs\": {\"in_channels\": 256, \"out_channels\": 80, \"kernel_size\": [2, 7], \"bias\": true, \"padding\": [0, 3]}}, {\"class\": \"ReLU\", \"kargs\": {\"inplace\": true}}, {\"class\": \"BatchNorm2d\", \"kargs\": {\"num_features\": 80}}, {\"class\": \"Flatten\", \"kargs\": {}}, {\"class\": \"Linear\", \"kargs\": {\"in_features\": 16000, \"out_features\": 256}}, {\"class\": \"ReLU\", \"kargs\": {\"inplace\": true}}, {\"class\": \"BatchNorm1d\", \"kargs\": {\"num_features\": 256}}, {\"class\": \"Linear\", \"kargs\": {\"in_features\": 256, \"out_features\": 256}}], \"NUM_LOGS_PER_EPOCH\": 10, \"BEST_MODEL_PATH\": \"./best_model.pth\", \"n_way\": 16, \"datasets\": [{\"labels\": [\"1-10.\", \"1-11.\", \"1-15.\", \"1-16.\", \"1-17.\", \"1-18.\", \"1-19.\", \"10-4.\", \"10-7.\", \"11-1.\", \"11-14.\", \"11-17.\", \"11-20.\", \"11-7.\", \"13-20.\", \"13-8.\", \"14-10.\", \"14-11.\", \"14-14.\", \"14-7.\", \"15-1.\", \"15-20.\", \"16-1.\", \"16-16.\", \"17-10.\", \"17-11.\", \"17-2.\", \"19-1.\", \"19-16.\", \"19-19.\", \"19-20.\", \"19-3.\", \"2-10.\", \"2-11.\", \"2-17.\", \"2-18.\", \"2-20.\", \"2-3.\", \"2-4.\", \"2-5.\", \"2-6.\", \"2-7.\", \"2-8.\", \"3-13.\", \"3-18.\", \"3-3.\", \"4-1.\", \"4-10.\", \"4-11.\", \"4-19.\", \"5-5.\", \"6-15.\", \"7-10.\", \"7-14.\", \"8-18.\", \"8-20.\", \"8-3.\", \"8-8.\"], \"domains\": [1, 2, 3, 4, 5], \"num_examples_per_domain_per_label\": -1, \"pickle_path\": \"/mnt/wd500GB/CSC500/csc500-main/datasets/cores.stratified_ds.2022A.pkl\", \"source_or_target_dataset\": \"source\", \"x_transforms\": [\"lowpass_+/-10MHz\", \"take_200\"], \"episode_transforms\": [], \"domain_prefix\": \"C_\"}, {\"labels\": [\"3123D52\", \"3123D65\", \"3123D79\", \"3123D80\", \"3123D54\", \"3123D70\", \"3123D7B\", \"3123D89\", \"3123D58\", \"3123D76\", \"3123D7D\", \"3123EFE\", \"3123D64\", \"3123D78\", \"3123D7E\", \"3124E4A\"], \"domains\": [32, 38, 8, 44, 14, 50, 20, 26], \"num_examples_per_domain_per_label\": 2000, \"pickle_path\": \"/mnt/wd500GB/CSC500/csc500-main/datasets/oracle.Run1_framed_2000Examples_stratified_ds.2022A.pkl\", \"source_or_target_dataset\": \"target\", \"x_transforms\": [\"take_200\", \"resample_20Msps_to_25Msps\"], \"episode_transforms\": [], \"domain_prefix\": \"O_\"}], \"seed\": 154325, \"dataset_seed\": 154325, \"domains_source\": [\"C_1\", \"C_2\", \"C_3\", \"C_4\", \"C_5\"], \"domains_target\": [\"O_32\", \"O_38\", \"O_8\", \"O_44\", \"O_14\", \"O_50\", \"O_20\", \"O_26\"]}, \"results\": {\"source_test_label_accuracy\": 0.997795352743561, \"source_test_label_loss\": 0.012133161537349224, \"target_test_label_accuracy\": 0.507421875, \"target_test_label_loss\": 1.6301970481872559, \"source_val_label_accuracy\": 0.9982122425629291, \"source_val_label_loss\": 0.01340507809072733, \"target_val_label_accuracy\": 0.5030598958333333, \"target_val_label_loss\": 1.6300156116485596, \"total_epochs_trained\": 7, \"total_experiment_time_secs\": 1936.8849792480469, \"confusion\": {\"C_2\": {\"21\": {\"21\": 120}, \"4\": {\"4\": 130}, \"6\": {\"6\": 124}, \"10\": {\"10\": 112}, \"33\": {\"33\": 28}, \"56\": {\"56\": 121, \"22\": 1}, \"20\": {\"20\": 132}, \"24\": {\"24\": 96}, \"45\": {\"45\": 128}, \"32\": {\"32\": 28}, \"27\": {\"32\": 1, \"27\": 147}, \"53\": {\"53\": 136}, \"8\": {\"8\": 160}, \"54\": {\"54\": 108}, \"50\": {\"50\": 134}, \"44\": {\"44\": 100}, \"5\": {\"5\": 120}, \"38\": {\"38\": 20}, \"19\": {\"19\": 132}, \"1\": {\"1\": 112}, \"30\": {\"30\": 144}, \"15\": {\"15\": 144}, \"23\": {\"23\": 146}, \"35\": {\"35\": 32}, \"22\": {\"22\": 127, \"56\": 1}, \"40\": {\"40\": 140}, \"46\": {\"46\": 126}, \"3\": {\"3\": 92}, \"48\": {\"48\": 147, \"52\": 1}, \"52\": {\"52\": 124}, \"2\": {\"2\": 32}, \"26\": {\"26\": 24}, \"17\": {\"17\": 104}, \"55\": {\"55\": 144}, \"51\": {\"51\": 122}, \"42\": {\"42\": 36}, \"41\": {\"41\": 20}, \"31\": {\"31\": 28}, \"16\": {\"16\": 138}, \"36\": {\"36\": 116}, \"49\": {\"49\": 23, \"33\": 1}, \"0\": {\"0\": 48}, \"18\": {\"18\": 48}, \"25\": {\"25\": 146}, \"9\": {\"9\": 122}, \"47\": {\"47\": 132}, \"7\": {\"7\": 36}, \"37\": {\"37\": 36}, \"13\": {\"13\": 116}, \"14\": {\"14\": 24}, \"34\": {\"34\": 28}, \"57\": {\"57\": 140}, \"11\": {\"11\": 138}, \"39\": {\"39\": 28}, \"12\": {\"12\": 92}, \"28\": {\"28\": 28}, \"29\": {\"29\": 127, \"2\": 1}, \"43\": {\"43\": 140}}, \"C_5\": {\"12\": {\"12\": 96}, \"8\": {\"8\": 142}, \"29\": {\"29\": 132}, \"57\": {\"57\": 126}, \"38\": {\"38\": 32}, \"23\": {\"23\": 124}, \"56\": {\"56\": 138}, \"49\": {\"49\": 36}, \"4\": {\"4\": 100}, \"48\": {\"48\": 135, \"1\": 1}, \"21\": {\"21\": 144}, \"30\": {\"30\": 128}, \"1\": {\"1\": 147, \"48\": 1}, \"34\": {\"34\": 36}, \"35\": {\"35\": 36}, \"55\": {\"55\": 152}, \"5\": {\"5\": 122}, \"52\": {\"52\": 126}, \"6\": {\"6\": 124, \"50\": 4}, \"36\": {\"36\": 92}, \"41\": {\"41\": 28}, \"3\": {\"3\": 100}, \"28\": {\"28\": 32}, \"18\": {\"18\": 64}, \"25\": {\"25\": 136}, \"47\": {\"47\": 100}, \"13\": {\"13\": 160}, \"11\": {\"11\": 139, \"15\": 5}, \"53\": {\"53\": 144}, \"33\": {\"33\": 32}, \"46\": {\"46\": 148}, \"50\": {\"50\": 148}, \"10\": {\"10\": 68}, \"15\": {\"15\": 137, \"11\": 1}, \"44\": {\"44\": 140}, \"2\": {\"2\": 28}, \"7\": {\"7\": 32}, \"43\": {\"43\": 138}, \"32\": {\"32\": 32}, \"0\": {\"0\": 124}, \"39\": {\"39\": 20}, \"26\": {\"26\": 24}, \"27\": {\"27\": 112}, \"54\": {\"54\": 112}, \"17\": {\"17\": 114, \"53\": 2}, \"14\": {\"14\": 44}, \"16\": {\"16\": 148}, \"9\": {\"9\": 148}, \"19\": {\"19\": 152}, \"20\": {\"20\": 138}, \"37\": {\"37\": 24}, \"24\": {\"24\": 80}, \"40\": {\"40\": 122}, \"45\": {\"45\": 124}, \"22\": {\"22\": 28}, \"42\": {\"42\": 38, \"52\": 1, \"2\": 1}, \"51\": {\"51\": 118}, \"31\": {\"31\": 36}}, \"C_1\": {\"27\": {\"27\": 142}, \"2\": {\"2\": 36}, \"33\": {\"33\": 32}, \"45\": {\"45\": 156}, \"38\": {\"38\": 23, \"36\": 1}, \"4\": {\"4\": 132}, \"31\": {\"31\": 28}, \"55\": {\"55\": 140}, \"32\": {\"32\": 32}, \"57\": {\"57\": 140}, \"14\": {\"14\": 23, \"30\": 1}, \"16\": {\"16\": 140}, \"34\": {\"34\": 24}, \"56\": {\"56\": 126}, \"24\": {\"24\": 108}, \"30\": {\"30\": 112}, \"17\": {\"17\": 64}, \"13\": {\"13\": 138}, \"39\": {\"39\": 28}, \"50\": {\"50\": 146}, \"20\": {\"20\": 139, \"12\": 1}, \"41\": {\"41\": 24}, \"53\": {\"53\": 126}, \"48\": {\"48\": 142}, \"36\": {\"36\": 64}, \"8\": {\"8\": 140}, \"15\": {\"15\": 132}, \"40\": {\"40\": 156}, \"37\": {\"37\": 32}, \"21\": {\"21\": 120}, \"35\": {\"35\": 36}, \"49\": {\"49\": 32}, \"26\": {\"26\": 24}, \"28\": {\"28\": 28}, \"12\": {\"12\": 116}, \"5\": {\"5\": 152}, \"29\": {\"29\": 140}, \"47\": {\"47\": 140}, \"10\": {\"10\": 94, \"11\": 1, \"31\": 1}, \"18\": {\"18\": 71, \"50\": 1}, \"9\": {\"9\": 126}, \"3\": {\"3\": 140}, \"52\": {\"52\": 132}, \"25\": {\"25\": 136}, \"19\": {\"19\": 156}, \"11\": {\"11\": 133, \"13\": 2, \"12\": 1}, \"7\": {\"7\": 28}, \"23\": {\"23\": 136}, \"44\": {\"44\": 132}, \"42\": {\"42\": 40}, \"54\": {\"54\": 104}, \"1\": {\"1\": 100}, \"46\": {\"46\": 128}, \"6\": {\"6\": 96}, \"43\": {\"43\": 144}, \"51\": {\"51\": 142}, \"22\": {\"22\": 136}, \"0\": {\"0\": 128}}, \"C_4\": {\"32\": {\"32\": 24}, \"2\": {\"2\": 36}, \"41\": {\"41\": 36}, \"11\": {\"11\": 100, \"15\": 2}, \"57\": {\"57\": 100}, \"6\": {\"6\": 112}, \"23\": {\"23\": 135, \"54\": 1}, \"52\": {\"52\": 116}, \"38\": {\"38\": 40}, \"50\": {\"50\": 132}, \"55\": {\"55\": 152}, \"46\": {\"46\": 154}, \"37\": {\"37\": 24}, \"20\": {\"20\": 118}, \"49\": {\"49\": 20}, \"45\": {\"45\": 96}, \"54\": {\"54\": 107, \"23\": 1}, \"3\": {\"3\": 121, \"50\": 2, \"6\": 1}, \"13\": {\"13\": 152}, \"18\": {\"18\": 108}, \"21\": {\"21\": 126}, \"43\": {\"43\": 144}, \"47\": {\"47\": 120}, \"4\": {\"4\": 132}, \"12\": {\"12\": 92}, \"9\": {\"9\": 127, \"27\": 1}, \"7\": {\"7\": 24}, \"56\": {\"56\": 112}, \"28\": {\"28\": 30, \"34\": 2}, \"44\": {\"44\": 132}, \"24\": {\"24\": 56}, \"33\": {\"33\": 36}, \"35\": {\"35\": 40}, \"51\": {\"51\": 138}, \"39\": {\"39\": 20}, \"36\": {\"36\": 91, \"16\": 1}, \"19\": {\"19\": 140}, \"0\": {\"0\": 80}, \"15\": {\"15\": 136}, \"29\": {\"29\": 124}, \"30\": {\"30\": 44}, \"1\": {\"1\": 40}, \"22\": {\"22\": 128}, \"40\": {\"40\": 146}, \"8\": {\"8\": 128}, \"53\": {\"53\": 138}, \"34\": {\"34\": 24}, \"10\": {\"10\": 122}, \"31\": {\"31\": 28}, \"17\": {\"17\": 79, \"53\": 1}, \"16\": {\"16\": 96}, \"42\": {\"42\": 32}, \"27\": {\"27\": 142}, \"14\": {\"14\": 16}, \"25\": {\"25\": 122}, \"48\": {\"48\": 132}, \"26\": {\"26\": 24}, \"5\": {\"5\": 108}}, \"C_3\": {\"14\": {\"14\": 40}, \"18\": {\"18\": 84}, \"30\": {\"30\": 120}, \"16\": {\"16\": 156}, \"1\": {\"1\": 100}, \"20\": {\"20\": 132}, \"7\": {\"7\": 36}, \"52\": {\"52\": 130}, \"9\": {\"9\": 140}, \"23\": {\"23\": 144}, \"55\": {\"55\": 164}, \"29\": {\"29\": 126}, \"56\": {\"56\": 134}, \"3\": {\"3\": 124}, \"42\": {\"42\": 28}, \"6\": {\"6\": 88}, \"5\": {\"5\": 116}, \"27\": {\"27\": 144}, \"47\": {\"47\": 92}, \"39\": {\"39\": 16}, \"34\": {\"34\": 30, \"23\": 2}, \"4\": {\"4\": 126}, \"24\": {\"24\": 104}, \"46\": {\"46\": 117, \"21\": 1}, \"50\": {\"50\": 124, \"3\": 1, \"6\": 1}, \"38\": {\"38\": 28}, \"54\": {\"54\": 100}, \"35\": {\"35\": 28}, \"2\": {\"2\": 32}, \"41\": {\"41\": 28}, \"57\": {\"57\": 118}, \"25\": {\"25\": 150}, \"48\": {\"48\": 116}, \"33\": {\"33\": 28}, \"45\": {\"45\": 60}, \"13\": {\"13\": 126}, \"36\": {\"36\": 100}, \"43\": {\"43\": 132}, \"28\": {\"28\": 28}, \"0\": {\"0\": 124}, \"12\": {\"12\": 91, \"50\": 1}, \"31\": {\"31\": 28}, \"40\": {\"40\": 116}, \"44\": {\"44\": 88}, \"32\": {\"32\": 28}, \"26\": {\"26\": 24}, \"8\": {\"8\": 116}, \"10\": {\"10\": 64}, \"15\": {\"15\": 142}, \"21\": {\"21\": 128}, \"37\": {\"37\": 28}, \"17\": {\"17\": 107, \"53\": 1}, \"51\": {\"51\": 124}, \"53\": {\"53\": 144}, \"19\": {\"19\": 136}, \"49\": {\"49\": 20}, \"11\": {\"11\": 138}, \"22\": {\"22\": 130}}, \"O_8\": {\"13\": {\"13\": 59, \"1\": 19, \"5\": 36, \"10\": 66, \"6\": 20, \"7\": 35, \"11\": 1, \"4\": 3, \"12\": 1}, \"9\": {\"9\": 239, \"3\": 1}, \"15\": {\"15\": 117, \"12\": 72, \"2\": 51}, \"2\": {\"2\": 113, \"12\": 34, \"15\": 51, \"10\": 1, \"3\": 40, \"13\": 1}, \"3\": {\"3\": 219, \"2\": 19, \"15\": 2}, \"8\": {\"11\": 33, \"4\": 44, \"8\": 102, \"1\": 14, \"13\": 1, \"14\": 14, \"5\": 4, \"7\": 8, \"6\": 20}, \"5\": {\"7\": 7, \"1\": 42, \"10\": 43, \"13\": 36, \"5\": 79, \"11\": 12, \"6\": 11, \"4\": 6, \"8\": 1, \"15\": 1, \"14\": 1, \"12\": 1}, \"14\": {\"4\": 69, \"8\": 16, \"14\": 141, \"11\": 11, \"13\": 1, \"6\": 1, \"10\": 1}, \"1\": {\"5\": 31, \"13\": 19, \"1\": 59, \"11\": 58, \"6\": 16, \"8\": 14, \"7\": 16, \"10\": 19, \"4\": 8}, \"0\": {\"0\": 240}, \"10\": {\"10\": 60, \"5\": 30, \"7\": 26, \"1\": 38, \"13\": 45, \"6\": 25, \"4\": 7, \"8\": 1, \"11\": 7, \"14\": 1}, \"6\": {\"13\": 19, \"7\": 53, \"6\": 49, \"1\": 34, \"10\": 12, \"11\": 24, \"8\": 15, \"4\": 29, \"5\": 5}, \"11\": {\"1\": 51, \"5\": 14, \"11\": 63, \"4\": 12, \"8\": 31, \"10\": 8, \"13\": 7, \"6\": 26, \"7\": 17, \"14\": 11}, \"7\": {\"10\": 27, \"13\": 44, \"1\": 21, \"7\": 58, \"11\": 5, \"6\": 69, \"4\": 7, \"5\": 7, \"8\": 2}, \"4\": {\"14\": 53, \"11\": 20, \"6\": 25, \"8\": 27, \"4\": 90, \"7\": 8, \"1\": 5, \"13\": 3, \"10\": 6, \"5\": 3}, \"12\": {\"12\": 131, \"15\": 91, \"2\": 18}}, \"O_38\": {\"13\": {\"10\": 16, \"13\": 150, \"14\": 10, \"0\": 52, \"7\": 5, \"2\": 6, \"5\": 1}, \"12\": {\"12\": 210, \"8\": 24, \"5\": 5, \"14\": 1}, \"2\": {\"2\": 143, \"8\": 12, \"14\": 43, \"7\": 23, \"0\": 1, \"9\": 5, \"13\": 8, \"5\": 5}, \"9\": {\"9\": 176, \"8\": 18, \"0\": 3, \"5\": 34, \"7\": 5, \"15\": 2, \"2\": 2}, \"15\": {\"15\": 178, \"5\": 32, \"8\": 17, \"1\": 7, \"6\": 2, \"9\": 3, \"12\": 1}, \"5\": {\"5\": 62, \"8\": 71, \"7\": 15, \"9\": 41, \"15\": 35, \"2\": 10, \"12\": 4, \"13\": 2}, \"14\": {\"14\": 185, \"10\": 2, \"0\": 6, \"13\": 7, \"2\": 26, \"7\": 6, \"4\": 7, \"8\": 1}, \"0\": {\"7\": 15, \"10\": 73, \"13\": 48, \"0\": 73, \"3\": 11, \"9\": 3, \"14\": 10, \"8\": 2, \"4\": 2, \"2\": 2, \"5\": 1}, \"3\": {\"3\": 237, \"11\": 3}, \"1\": {\"1\": 145, \"6\": 92, \"15\": 3}, \"11\": {\"11\": 238, \"3\": 2}, \"7\": {\"7\": 137, \"14\": 39, \"0\": 13, \"2\": 30, \"5\": 2, \"8\": 9, \"9\": 6, \"13\": 3, \"12\": 1}, \"8\": {\"2\": 27, \"8\": 56, \"5\": 60, \"9\": 21, \"15\": 34, \"0\": 1, \"12\": 14, \"7\": 22, \"14\": 5}, \"4\": {\"4\": 218, \"10\": 15, \"0\": 6, \"14\": 1}, \"10\": {\"13\": 14, \"0\": 50, \"10\": 155, \"4\": 16, \"14\": 1, \"3\": 4}, \"6\": {\"1\": 104, \"6\": 135, \"15\": 1}}, \"O_26\": {\"10\": {\"8\": 1, \"15\": 24, \"0\": 44, \"14\": 67, \"5\": 15, \"1\": 16, \"10\": 48, \"6\": 22, \"2\": 3}, \"12\": {\"12\": 134, \"3\": 7, \"9\": 36, \"7\": 9, \"8\": 35, \"0\": 2, \"13\": 7, \"2\": 8, \"4\": 1, \"10\": 1}, \"1\": {\"10\": 21, \"1\": 131, \"15\": 7, \"6\": 27, \"14\": 31, \"5\": 16, \"0\": 5, \"11\": 2}, \"0\": {\"0\": 80, \"14\": 30, \"2\": 17, \"15\": 11, \"10\": 56, \"7\": 7, \"1\": 12, \"8\": 10, \"6\": 7, \"12\": 4, \"5\": 4, \"9\": 2}, \"15\": {\"6\": 46, \"15\": 62, \"0\": 10, \"2\": 7, \"5\": 51, \"14\": 21, \"10\": 27, \"11\": 1, \"1\": 13, \"9\": 1, \"8\": 1}, \"13\": {\"4\": 23, \"9\": 33, \"13\": 118, \"3\": 35, \"2\": 14, \"8\": 7, \"12\": 4, \"7\": 6}, \"8\": {\"7\": 34, \"14\": 2, \"3\": 14, \"8\": 55, \"12\": 30, \"2\": 41, \"9\": 45, \"13\": 2, \"0\": 14, \"10\": 1, \"15\": 2}, \"3\": {\"2\": 17, \"4\": 21, \"3\": 86, \"13\": 40, \"9\": 30, \"8\": 12, \"7\": 32, \"12\": 1, \"0\": 1}, \"11\": {\"11\": 177, \"6\": 13, \"5\": 30, \"1\": 8, \"15\": 6, \"10\": 4, \"14\": 1, \"12\": 1}, \"4\": {\"3\": 33, \"4\": 179, \"13\": 22, \"8\": 2, \"9\": 2, \"12\": 1, \"7\": 1}, \"6\": {\"1\": 30, \"6\": 68, \"5\": 49, \"15\": 41, \"10\": 21, \"0\": 9, \"14\": 17, \"11\": 5}, \"7\": {\"7\": 61, \"8\": 43, \"3\": 31, \"12\": 19, \"2\": 33, \"9\": 33, \"13\": 10, \"0\": 9, \"4\": 1}, \"14\": {\"6\": 22, \"1\": 38, \"15\": 24, \"0\": 41, \"10\": 41, \"5\": 10, \"14\": 62, \"2\": 2}, \"2\": {\"7\": 39, \"2\": 63, \"9\": 30, \"0\": 14, \"13\": 14, \"3\": 17, \"8\": 42, \"15\": 7, \"12\": 6, \"14\": 3, \"10\": 3, \"5\": 2}, \"5\": {\"15\": 60, \"5\": 76, \"10\": 20, \"6\": 49, \"14\": 8, \"11\": 10, \"1\": 14, \"0\": 3}, \"9\": {\"8\": 33, \"3\": 22, \"12\": 25, \"9\": 52, \"7\": 31, \"0\": 12, \"13\": 22, \"2\": 36, \"4\": 4, \"14\": 3}}, \"O_20\": {\"5\": {\"14\": 16, \"5\": 36, \"9\": 35, \"12\": 12, \"7\": 13, \"8\": 19, \"1\": 35, \"3\": 32, \"0\": 9, \"2\": 8, \"15\": 19, \"6\": 2, \"4\": 4}, \"15\": {\"2\": 32, \"15\": 46, \"12\": 19, \"1\": 27, \"7\": 16, \"8\": 1, \"5\": 23, \"3\": 6, \"13\": 32, \"9\": 20, \"4\": 15, \"6\": 2, \"10\": 1}, \"9\": {\"1\": 28, \"2\": 15, \"3\": 29, \"4\": 8, \"0\": 2, \"5\": 22, \"12\": 26, \"15\": 23, \"8\": 17, \"7\": 18, \"14\": 12, \"9\": 29, \"6\": 5, \"13\": 6}, \"7\": {\"6\": 18, \"1\": 20, \"12\": 16, \"9\": 20, \"2\": 32, \"4\": 21, \"3\": 9, \"13\": 13, \"5\": 17, \"7\": 39, \"15\": 16, \"8\": 10, \"14\": 7, \"10\": 2}, \"3\": {\"8\": 46, \"1\": 26, \"9\": 26, \"3\": 40, \"5\": 28, \"2\": 6, \"7\": 17, \"0\": 9, \"14\": 19, \"12\": 6, \"6\": 1, \"15\": 10, \"4\": 3, \"11\": 1, \"13\": 2}, \"8\": {\"4\": 1, \"5\": 16, \"8\": 69, \"3\": 36, \"14\": 67, \"9\": 9, \"1\": 6, \"0\": 11, \"11\": 8, \"6\": 5, \"7\": 9, \"15\": 3}, \"4\": {\"10\": 41, \"2\": 18, \"4\": 57, \"9\": 7, \"8\": 3, \"12\": 23, \"7\": 22, \"6\": 20, \"15\": 8, \"13\": 14, \"3\": 3, \"5\": 7, \"14\": 16, \"1\": 1}, \"6\": {\"4\": 38, \"6\": 73, \"7\": 29, \"13\": 10, \"12\": 8, \"10\": 11, \"15\": 7, \"14\": 21, \"9\": 9, \"8\": 6, \"3\": 3, \"2\": 18, \"5\": 7}, \"2\": {\"1\": 14, \"13\": 47, \"6\": 16, \"2\": 27, \"7\": 23, \"4\": 16, \"15\": 25, \"9\": 18, \"12\": 42, \"3\": 3, \"10\": 8, \"5\": 1}, \"12\": {\"15\": 34, \"13\": 18, \"10\": 14, \"5\": 7, \"1\": 16, \"2\": 30, \"4\": 28, \"7\": 28, \"9\": 18, \"12\": 30, \"3\": 5, \"6\": 9, \"14\": 2, \"8\": 1}, \"0\": {\"0\": 152, \"11\": 34, \"8\": 23, \"14\": 7, \"5\": 3, \"3\": 16, \"1\": 2, \"9\": 3}, \"13\": {\"12\": 18, \"13\": 115, \"2\": 34, \"10\": 12, \"15\": 24, \"4\": 8, \"9\": 3, \"7\": 16, \"5\": 2, \"1\": 2, \"6\": 6}, \"10\": {\"4\": 46, \"10\": 139, \"13\": 19, \"12\": 11, \"7\": 3, \"6\": 14, \"1\": 1, \"2\": 5, \"15\": 2}, \"11\": {\"11\": 191, \"0\": 43, \"8\": 2, \"3\": 2, \"14\": 1, \"5\": 1}, \"14\": {\"14\": 103, \"5\": 11, \"7\": 12, \"6\": 11, \"2\": 2, \"8\": 52, \"1\": 6, \"9\": 11, \"15\": 2, \"3\": 22, \"4\": 5, \"0\": 2, \"12\": 1}, \"1\": {\"5\": 25, \"1\": 46, \"9\": 29, \"7\": 17, \"12\": 18, \"3\": 32, \"15\": 33, \"14\": 6, \"8\": 10, \"2\": 12, \"4\": 9, \"13\": 2, \"6\": 1}}, \"O_50\": {\"1\": {\"10\": 22, \"11\": 13, \"12\": 5, \"1\": 113, \"13\": 64, \"8\": 19, \"0\": 4}, \"2\": {\"2\": 141, \"14\": 52, \"0\": 47}, \"8\": {\"8\": 163, \"13\": 14, \"10\": 35, \"1\": 25, \"0\": 3}, \"7\": {\"7\": 117, \"4\": 87, \"5\": 34, \"6\": 2}, \"14\": {\"14\": 161, \"2\": 64, \"0\": 15}, \"6\": {\"6\": 71, \"15\": 70, \"9\": 43, \"5\": 35, \"11\": 11, \"4\": 2, \"3\": 6, \"12\": 2}, \"3\": {\"3\": 177, \"5\": 27, \"13\": 10, \"12\": 1, \"6\": 14, \"9\": 3, \"15\": 4, \"11\": 3, \"8\": 1}, \"4\": {\"7\": 100, \"4\": 91, \"15\": 9, \"5\": 29, \"6\": 5, \"9\": 6}, \"12\": {\"12\": 167, \"11\": 32, \"9\": 38, \"15\": 2, \"6\": 1}, \"15\": {\"15\": 90, \"6\": 75, \"5\": 30, \"9\": 24, \"12\": 2, \"3\": 2, \"4\": 4, \"11\": 8, \"13\": 4, \"7\": 1}, \"11\": {\"13\": 18, \"11\": 129, \"9\": 32, \"12\": 34, \"6\": 14, \"15\": 12, \"1\": 1}, \"0\": {\"0\": 142, \"2\": 49, \"10\": 36, \"14\": 12, \"8\": 1}, \"9\": {\"12\": 36, \"11\": 30, \"15\": 36, \"9\": 113, \"5\": 6, \"6\": 18, \"4\": 1}, \"10\": {\"8\": 42, \"10\": 142, \"0\": 37, \"1\": 17, \"2\": 2}, \"5\": {\"13\": 12, \"1\": 2, \"7\": 56, \"9\": 5, \"15\": 18, \"5\": 69, \"11\": 5, \"6\": 21, \"4\": 39, \"8\": 1, \"3\": 11, \"12\": 1}, \"13\": {\"13\": 169, \"11\": 33, \"1\": 23, \"8\": 5, \"3\": 4, \"12\": 2, \"6\": 1, \"5\": 2, \"15\": 1}}, \"O_32\": {\"2\": {\"14\": 17, \"4\": 87, \"9\": 3, \"13\": 6, \"3\": 11, \"0\": 3, \"2\": 108, \"8\": 3, \"7\": 2}, \"6\": {\"6\": 237, \"10\": 3}, \"5\": {\"8\": 38, \"5\": 92, \"14\": 19, \"7\": 50, \"0\": 38, \"15\": 2, \"2\": 1}, \"12\": {\"12\": 177, \"9\": 38, \"10\": 21, \"11\": 4}, \"13\": {\"13\": 101, \"9\": 12, \"11\": 13, \"3\": 65, \"4\": 30, \"2\": 19}, \"9\": {\"13\": 13, \"9\": 141, \"12\": 33, \"11\": 16, \"4\": 20, \"3\": 9, \"2\": 6, \"0\": 1, \"8\": 1}, \"11\": {\"11\": 206, \"9\": 7, \"13\": 19, \"3\": 7, \"4\": 1}, \"1\": {\"1\": 238, \"2\": 2}, \"3\": {\"2\": 12, \"3\": 140, \"13\": 55, \"4\": 25, \"8\": 4, \"11\": 4}, \"7\": {\"7\": 80, \"0\": 41, \"8\": 18, \"5\": 45, \"14\": 55, \"2\": 1}, \"14\": {\"4\": 10, \"14\": 70, \"0\": 30, \"8\": 15, \"7\": 55, \"2\": 39, \"5\": 21}, \"8\": {\"0\": 42, \"8\": 104, \"5\": 39, \"7\": 15, \"14\": 25, \"15\": 8, \"2\": 4, \"3\": 1, \"4\": 2}, \"4\": {\"4\": 81, \"3\": 41, \"13\": 29, \"2\": 82, \"9\": 3, \"7\": 1, \"8\": 1, \"14\": 2}, \"0\": {\"0\": 77, \"5\": 42, \"8\": 43, \"7\": 45, \"14\": 27, \"2\": 6}, \"10\": {\"10\": 211, \"12\": 28, \"6\": 1}, \"15\": {\"8\": 6, \"15\": 223, \"5\": 9, \"0\": 2}}, \"O_44\": {\"13\": {\"13\": 134, \"6\": 90, \"4\": 1, \"9\": 14, \"11\": 1}, \"4\": {\"4\": 54, \"15\": 25, \"10\": 7, \"9\": 32, \"5\": 31, \"14\": 49, \"7\": 32, \"6\": 2, \"0\": 2, \"2\": 5, \"1\": 1}, \"6\": {\"6\": 133, \"13\": 70, \"9\": 32, \"7\": 5}, \"0\": {\"8\": 74, \"15\": 10, \"0\": 149, \"2\": 3, \"1\": 3, \"5\": 1}, \"10\": {\"2\": 19, \"14\": 14, \"10\": 105, \"7\": 66, \"15\": 4, \"9\": 20, \"4\": 5, \"1\": 5, \"5\": 2}, \"7\": {\"10\": 40, \"13\": 1, \"9\": 52, \"15\": 1, \"14\": 10, \"7\": 103, \"5\": 4, \"6\": 2, \"4\": 27}, \"14\": {\"14\": 79, \"5\": 67, \"15\": 31, \"7\": 10, \"4\": 47, \"10\": 2, \"9\": 4}, \"15\": {\"15\": 108, \"14\": 32, \"8\": 57, \"5\": 30, \"0\": 6, \"4\": 6, \"1\": 1}, \"5\": {\"14\": 61, \"5\": 86, \"4\": 39, \"7\": 5, \"15\": 38, \"9\": 4, \"8\": 6, \"0\": 1}, \"2\": {\"10\": 19, \"1\": 58, \"14\": 7, \"2\": 147, \"7\": 2, \"4\": 2, \"5\": 2, \"9\": 2, \"8\": 1}, \"9\": {\"4\": 21, \"9\": 59, \"6\": 35, \"7\": 48, \"13\": 23, \"5\": 6, \"10\": 30, \"14\": 10, \"2\": 7, \"15\": 1}, \"12\": {\"12\": 158, \"3\": 82}, \"8\": {\"5\": 7, \"8\": 88, \"0\": 77, \"15\": 61, \"1\": 1, \"14\": 6}, \"3\": {\"12\": 97, \"3\": 143}, \"1\": {\"1\": 178, \"0\": 9, \"2\": 43, \"3\": 1, \"8\": 5, \"15\": 3, \"10\": 1}, \"11\": {\"11\": 239, \"13\": 1}}, \"O_14\": {\"1\": {\"9\": 16, \"1\": 217, \"10\": 6, \"4\": 1}, \"15\": {\"15\": 240}, \"10\": {\"10\": 164, \"4\": 40, \"12\": 4, \"9\": 22, \"5\": 4, \"2\": 4, \"0\": 1, \"1\": 1}, \"2\": {\"2\": 62, \"0\": 18, \"4\": 24, \"5\": 38, \"7\": 22, \"14\": 38, \"8\": 5, \"10\": 3, \"6\": 8, \"12\": 1, \"3\": 15, \"13\": 6}, \"9\": {\"9\": 167, \"1\": 34, \"10\": 24, \"4\": 13, \"12\": 2}, \"5\": {\"5\": 89, \"4\": 24, \"7\": 30, \"8\": 14, \"2\": 53, \"3\": 6, \"14\": 13, \"0\": 10, \"13\": 1}, \"7\": {\"7\": 157, \"5\": 25, \"3\": 12, \"8\": 26, \"2\": 12, \"4\": 2, \"0\": 2, \"14\": 3, \"6\": 1}, \"13\": {\"14\": 45, \"6\": 72, \"13\": 55, \"15\": 18, \"2\": 16, \"5\": 3, \"10\": 7, \"4\": 3, \"3\": 9, \"0\": 10, \"7\": 2}, \"8\": {\"8\": 162, \"7\": 32, \"5\": 28, \"12\": 6, \"4\": 2, \"2\": 6, \"3\": 3, \"14\": 1}, \"6\": {\"13\": 59, \"6\": 100, \"14\": 36, \"3\": 30, \"0\": 6, \"2\": 6, \"7\": 3}, \"3\": {\"3\": 99, \"0\": 43, \"2\": 9, \"5\": 2, \"6\": 22, \"7\": 27, \"14\": 24, \"13\": 13, \"8\": 1}, \"12\": {\"12\": 176, \"8\": 31, \"0\": 22, \"5\": 3, \"14\": 2, \"10\": 4, \"2\": 2}, \"0\": {\"6\": 18, \"3\": 44, \"5\": 13, \"14\": 31, \"0\": 73, \"2\": 23, \"12\": 14, \"4\": 5, \"13\": 9, \"8\": 4, \"10\": 2, \"7\": 4}, \"4\": {\"4\": 102, \"5\": 52, \"9\": 9, \"10\": 42, \"2\": 17, \"0\": 3, \"1\": 3, \"8\": 7, \"12\": 2, \"7\": 1, \"14\": 2}, \"14\": {\"3\": 10, \"6\": 30, \"14\": 87, \"13\": 26, \"0\": 39, \"2\": 33, \"7\": 8, \"5\": 6, \"12\": 1}, \"11\": {\"11\": 239, \"1\": 1}}}, \"per_domain_accuracy\": {\"C_2\": {\"accuracy\": 0.9989346590909091, \"source?\": true}, \"C_5\": {\"accuracy\": 0.9971910112359551, \"source?\": true}, \"C_1\": {\"accuracy\": 0.9984546703296703, \"source?\": true}, \"C_4\": {\"accuracy\": 0.9977544910179641, \"source?\": true}, \"C_3\": {\"accuracy\": 0.9987207602339181, \"source?\": true}, \"O_8\": {\"accuracy\": 0.47369791666666666, \"source?\": false}, \"O_38\": {\"accuracy\": 0.6505208333333333, \"source?\": false}, \"O_26\": {\"accuracy\": 0.378125, \"source?\": false}, \"O_20\": {\"accuracy\": 0.3104166666666667, \"source?\": false}, \"O_50\": {\"accuracy\": 0.53515625, \"source?\": false}, \"O_32\": {\"accuracy\": 0.5953125, \"source?\": false}, \"O_44\": {\"accuracy\": 0.5111979166666667, \"source?\": false}, \"O_14\": {\"accuracy\": 0.5700520833333333, \"source?\": false}}}, \"history\": {\"epoch_indices\": [1, 2, 3, 4, 5, 6, 7], \"train_label_loss\": [0.037046801151854616, 0.009654056644172362, 0.007233194791356729, 0.005537667260899525, 0.005389255903397159, 0.0036794213853965285, 0.004351257885874738], \"source_val_label_loss\": [0.008977524004876614, 0.012654357589781284, 0.01340507809072733, 0.007058023475110531, 0.006484511308372021, 0.006535633467137814, 0.01245072577148676], \"target_val_label_loss\": [2.045785427093506, 1.9989784955978394, 1.6300156116485596, 1.8507308959960938, 1.5780589580535889, 1.6175293922424316, 1.7421199083328247], \"source_val_acc_label\": [0.9983552631578947, 0.9975328947368421, 0.9982122425629291, 0.9993206521739131, 0.9991776315789473, 0.9994279176201373, 0.9992133867276888], \"target_val_acc_label\": [0.42578125, 0.4142252604166667, 0.5030598958333333, 0.41852213541666666, 0.4552734375, 0.42994791666666665, 0.43772786458333335]}, \"dataset_metrics\": {\"source\": {\"train\": {\"n_unique_x\": 175167, \"n_unique_y\": 58, \"n_batch/episode\": 6315}, \"val\": {\"n_unique_x\": 37135, \"n_unique_y\": 58, \"n_batch/episode\": 874}, \"test\": {\"n_unique_x\": 37673, \"n_unique_y\": 58, \"n_batch/episode\": 893}}, \"target\": {\"train\": {\"n_unique_x\": 179200, \"n_unique_y\": 16, \"n_batch/episode\": 6720}, \"val\": {\"n_unique_x\": 38400, \"n_unique_y\": 16, \"n_batch/episode\": 960}, \"test\": {\"n_unique_x\": 38400, \"n_unique_y\": 16, \"n_batch/episode\": 960}}}}'"
      ]
     },
     "execution_count": 29,
     "metadata": {},
     "output_type": "execute_result"
    }
   ],
   "source": [
    "json.dumps(experiment)"
   ]
  }
 ],
 "metadata": {
  "celltoolbar": "Tags",
  "kernelspec": {
   "display_name": "Python 3 (ipykernel)",
   "language": "python",
   "name": "python3"
  },
  "language_info": {
   "codemirror_mode": {
    "name": "ipython",
    "version": 3
   },
   "file_extension": ".py",
   "mimetype": "text/x-python",
   "name": "python",
   "nbconvert_exporter": "python",
   "pygments_lexer": "ipython3",
   "version": "3.8.10"
  },
  "papermill": {
   "default_parameters": {},
   "duration": 2090.234741,
   "end_time": "2022-03-25T18:32:14.307167",
   "environment_variables": {},
   "exception": null,
   "input_path": "/mnt/wd500GB/CSC500/csc500-main/csc500-notebooks/templates/tl_ptn_template.ipynb",
   "output_path": "trial.ipynb",
   "parameters": {
    "parameters": {
     "BEST_MODEL_PATH": "./best_model.pth",
     "NUM_LOGS_PER_EPOCH": 10,
     "criteria_for_best": "target_accuracy",
     "dataset_seed": 154325,
     "datasets": [
      {
       "domain_prefix": "C_",
       "domains": [
        1,
        2,
        3,
        4,
        5
       ],
       "episode_transforms": [],
       "labels": [
        "1-10.",
        "1-11.",
        "1-15.",
        "1-16.",
        "1-17.",
        "1-18.",
        "1-19.",
        "10-4.",
        "10-7.",
        "11-1.",
        "11-14.",
        "11-17.",
        "11-20.",
        "11-7.",
        "13-20.",
        "13-8.",
        "14-10.",
        "14-11.",
        "14-14.",
        "14-7.",
        "15-1.",
        "15-20.",
        "16-1.",
        "16-16.",
        "17-10.",
        "17-11.",
        "17-2.",
        "19-1.",
        "19-16.",
        "19-19.",
        "19-20.",
        "19-3.",
        "2-10.",
        "2-11.",
        "2-17.",
        "2-18.",
        "2-20.",
        "2-3.",
        "2-4.",
        "2-5.",
        "2-6.",
        "2-7.",
        "2-8.",
        "3-13.",
        "3-18.",
        "3-3.",
        "4-1.",
        "4-10.",
        "4-11.",
        "4-19.",
        "5-5.",
        "6-15.",
        "7-10.",
        "7-14.",
        "8-18.",
        "8-20.",
        "8-3.",
        "8-8."
       ],
       "num_examples_per_domain_per_label": -1,
       "pickle_path": "/mnt/wd500GB/CSC500/csc500-main/datasets/cores.stratified_ds.2022A.pkl",
       "source_or_target_dataset": "source",
       "x_transforms": [
        "lowpass_+/-10MHz",
        "take_200"
       ]
      },
      {
       "domain_prefix": "O_",
       "domains": [
        32,
        38,
        8,
        44,
        14,
        50,
        20,
        26
       ],
       "episode_transforms": [],
       "labels": [
        "3123D52",
        "3123D65",
        "3123D79",
        "3123D80",
        "3123D54",
        "3123D70",
        "3123D7B",
        "3123D89",
        "3123D58",
        "3123D76",
        "3123D7D",
        "3123EFE",
        "3123D64",
        "3123D78",
        "3123D7E",
        "3124E4A"
       ],
       "num_examples_per_domain_per_label": 2000,
       "pickle_path": "/mnt/wd500GB/CSC500/csc500-main/datasets/oracle.Run1_framed_2000Examples_stratified_ds.2022A.pkl",
       "source_or_target_dataset": "target",
       "x_transforms": [
        "take_200",
        "resample_20Msps_to_25Msps"
       ]
      }
     ],
     "device": "cuda",
     "experiment_name": "tl_3-filterv2:cores -> oracle.run1.framed",
     "lr": 0.0001,
     "n_epoch": 50,
     "n_query": 2,
     "n_shot": 3,
     "n_way": 16,
     "patience": 3,
     "seed": 154325,
     "test_k_factor": 2,
     "torch_default_dtype": "torch.float32",
     "train_k_factor": 3,
     "val_k_factor": 2,
     "x_net": [
      {
       "class": "nnReshape",
       "kargs": {
        "shape": [
         -1,
         1,
         2,
         200
        ]
       }
      },
      {
       "class": "Conv2d",
       "kargs": {
        "bias": false,
        "in_channels": 1,
        "kernel_size": [
         1,
         7
        ],
        "out_channels": 256,
        "padding": [
         0,
         3
        ]
       }
      },
      {
       "class": "ReLU",
       "kargs": {
        "inplace": true
       }
      },
      {
       "class": "BatchNorm2d",
       "kargs": {
        "num_features": 256
       }
      },
      {
       "class": "Conv2d",
       "kargs": {
        "bias": true,
        "in_channels": 256,
        "kernel_size": [
         2,
         7
        ],
        "out_channels": 80,
        "padding": [
         0,
         3
        ]
       }
      },
      {
       "class": "ReLU",
       "kargs": {
        "inplace": true
       }
      },
      {
       "class": "BatchNorm2d",
       "kargs": {
        "num_features": 80
       }
      },
      {
       "class": "Flatten",
       "kargs": {}
      },
      {
       "class": "Linear",
       "kargs": {
        "in_features": 16000,
        "out_features": 256
       }
      },
      {
       "class": "ReLU",
       "kargs": {
        "inplace": true
       }
      },
      {
       "class": "BatchNorm1d",
       "kargs": {
        "num_features": 256
       }
      },
      {
       "class": "Linear",
       "kargs": {
        "in_features": 256,
        "out_features": 256
       }
      }
     ],
     "x_shape": [
      2,
      200
     ]
    }
   },
   "start_time": "2022-03-25T17:57:24.072426",
   "version": "2.3.4"
  }
 },
 "nbformat": 4,
 "nbformat_minor": 5
}