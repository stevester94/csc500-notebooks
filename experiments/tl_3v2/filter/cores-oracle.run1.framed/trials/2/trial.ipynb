{
 "cells": [
  {
   "cell_type": "markdown",
   "id": "9fea5f46",
   "metadata": {
    "papermill": {
     "duration": 0.019097,
     "end_time": "2022-03-25T15:49:29.542026",
     "exception": false,
     "start_time": "2022-03-25T15:49:29.522929",
     "status": "completed"
    },
    "tags": []
   },
   "source": [
    "# Transfer Learning Template"
   ]
  },
  {
   "cell_type": "code",
   "execution_count": 1,
   "id": "0902182a",
   "metadata": {
    "execution": {
     "iopub.execute_input": "2022-03-25T15:49:29.581429Z",
     "iopub.status.busy": "2022-03-25T15:49:29.581126Z",
     "iopub.status.idle": "2022-03-25T15:49:30.592765Z",
     "shell.execute_reply": "2022-03-25T15:49:30.592203Z"
    },
    "papermill": {
     "duration": 1.037932,
     "end_time": "2022-03-25T15:49:30.592882",
     "exception": false,
     "start_time": "2022-03-25T15:49:29.554950",
     "status": "completed"
    },
    "tags": []
   },
   "outputs": [],
   "source": [
    "%load_ext autoreload\n",
    "%autoreload 2\n",
    "%matplotlib inline\n",
    "\n",
    "    \n",
    "import os, json, sys, time, random\n",
    "import numpy as np\n",
    "import torch\n",
    "from torch.optim import Adam\n",
    "from  easydict import EasyDict\n",
    "import matplotlib.pyplot as plt\n",
    "\n",
    "from steves_models.steves_ptn import Steves_Prototypical_Network\n",
    "\n",
    "from steves_utils.lazy_iterable_wrapper import Lazy_Iterable_Wrapper\n",
    "from steves_utils.iterable_aggregator import Iterable_Aggregator\n",
    "from steves_utils.ptn_train_eval_test_jig import  PTN_Train_Eval_Test_Jig\n",
    "from steves_utils.torch_sequential_builder import build_sequential\n",
    "from steves_utils.torch_utils import get_dataset_metrics, ptn_confusion_by_domain_over_dataloader\n",
    "from steves_utils.utils_v2 import (per_domain_accuracy_from_confusion, get_datasets_base_path)\n",
    "from steves_utils.PTN.utils import independent_accuracy_assesment\n",
    "\n",
    "from torch.utils.data import DataLoader\n",
    "\n",
    "from steves_utils.stratified_dataset.episodic_accessor import Episodic_Accessor_Factory\n",
    "\n",
    "from steves_utils.ptn_do_report import (\n",
    "    get_loss_curve,\n",
    "    get_results_table,\n",
    "    get_parameters_table,\n",
    "    get_domain_accuracies,\n",
    ")\n",
    "\n",
    "from steves_utils.transforms import get_chained_transform"
   ]
  },
  {
   "cell_type": "markdown",
   "id": "41c840b4",
   "metadata": {
    "papermill": {
     "duration": 0.012652,
     "end_time": "2022-03-25T15:49:30.624888",
     "exception": false,
     "start_time": "2022-03-25T15:49:30.612236",
     "status": "completed"
    },
    "tags": []
   },
   "source": [
    "# Allowed Parameters\n",
    "These are allowed parameters, not defaults\n",
    "Each of these values need to be present in the injected parameters (the notebook will raise an exception if they are not present)\n",
    "\n",
    "Papermill uses the cell tag \"parameters\" to inject the real parameters below this cell.\n",
    "Enable tags to see what I mean"
   ]
  },
  {
   "cell_type": "code",
   "execution_count": 2,
   "id": "fd44eb83",
   "metadata": {
    "execution": {
     "iopub.execute_input": "2022-03-25T15:49:30.653480Z",
     "iopub.status.busy": "2022-03-25T15:49:30.653051Z",
     "iopub.status.idle": "2022-03-25T15:49:30.668605Z",
     "shell.execute_reply": "2022-03-25T15:49:30.668368Z"
    },
    "papermill": {
     "duration": 0.031112,
     "end_time": "2022-03-25T15:49:30.668664",
     "exception": false,
     "start_time": "2022-03-25T15:49:30.637552",
     "status": "completed"
    },
    "tags": []
   },
   "outputs": [],
   "source": [
    "required_parameters = {\n",
    "    \"experiment_name\",\n",
    "    \"lr\",\n",
    "    \"device\",\n",
    "    \"seed\",\n",
    "    \"dataset_seed\",\n",
    "    \"n_shot\",\n",
    "    \"n_query\",\n",
    "    \"n_way\",\n",
    "    \"train_k_factor\",\n",
    "    \"val_k_factor\",\n",
    "    \"test_k_factor\",\n",
    "    \"n_epoch\",\n",
    "    \"patience\",\n",
    "    \"criteria_for_best\",\n",
    "    \"x_net\",\n",
    "    \"datasets\",\n",
    "    \"torch_default_dtype\",\n",
    "    \"NUM_LOGS_PER_EPOCH\",\n",
    "    \"BEST_MODEL_PATH\",\n",
    "    \"x_shape\",\n",
    "}"
   ]
  },
  {
   "cell_type": "code",
   "execution_count": 3,
   "id": "fa3f0049",
   "metadata": {
    "execution": {
     "iopub.execute_input": "2022-03-25T15:49:30.700807Z",
     "iopub.status.busy": "2022-03-25T15:49:30.700514Z",
     "iopub.status.idle": "2022-03-25T15:49:30.713299Z",
     "shell.execute_reply": "2022-03-25T15:49:30.713061Z"
    },
    "papermill": {
     "duration": 0.031818,
     "end_time": "2022-03-25T15:49:30.713360",
     "exception": false,
     "start_time": "2022-03-25T15:49:30.681542",
     "status": "completed"
    },
    "tags": [
     "parameters"
    ]
   },
   "outputs": [],
   "source": [
    "from steves_utils.CORES.utils import (\n",
    "    ALL_NODES,\n",
    "    ALL_NODES_MINIMUM_1000_EXAMPLES,\n",
    "    ALL_DAYS\n",
    ")\n",
    "\n",
    "from steves_utils.ORACLE.utils_v2 import (\n",
    "    ALL_DISTANCES_FEET_NARROWED,\n",
    "    ALL_RUNS,\n",
    "    ALL_SERIAL_NUMBERS,\n",
    ")\n",
    "\n",
    "standalone_parameters = {}\n",
    "standalone_parameters[\"experiment_name\"] = \"STANDALONE PTN\"\n",
    "standalone_parameters[\"lr\"] = 0.001\n",
    "standalone_parameters[\"device\"] = \"cuda\"\n",
    "\n",
    "standalone_parameters[\"seed\"] = 1337\n",
    "standalone_parameters[\"dataset_seed\"] = 1337\n",
    "\n",
    "standalone_parameters[\"n_way\"] = 8\n",
    "standalone_parameters[\"n_shot\"] = 3\n",
    "standalone_parameters[\"n_query\"]  = 2\n",
    "standalone_parameters[\"train_k_factor\"] = 1\n",
    "standalone_parameters[\"val_k_factor\"] = 2\n",
    "standalone_parameters[\"test_k_factor\"] = 2\n",
    "\n",
    "\n",
    "standalone_parameters[\"n_epoch\"] = 50\n",
    "\n",
    "standalone_parameters[\"patience\"] = 10\n",
    "standalone_parameters[\"criteria_for_best\"] = \"source_loss\"\n",
    "\n",
    "standalone_parameters[\"datasets\"] = [\n",
    "    {\n",
    "        \"labels\": ALL_SERIAL_NUMBERS,\n",
    "        \"domains\": ALL_DISTANCES_FEET_NARROWED,\n",
    "        \"num_examples_per_domain_per_label\": 100,\n",
    "        \"pickle_path\": os.path.join(get_datasets_base_path(), \"oracle.Run1_framed_2000Examples_stratified_ds.2022A.pkl\"),\n",
    "        \"source_or_target_dataset\": \"source\",\n",
    "        \"x_transforms\": [\"unit_mag\", \"minus_two\"],\n",
    "        \"episode_transforms\": [],\n",
    "        \"domain_prefix\": \"ORACLE_\"\n",
    "    },\n",
    "    {\n",
    "        \"labels\": ALL_NODES,\n",
    "        \"domains\": ALL_DAYS,\n",
    "        \"num_examples_per_domain_per_label\": 100,\n",
    "        \"pickle_path\": os.path.join(get_datasets_base_path(), \"cores.stratified_ds.2022A.pkl\"),\n",
    "        \"source_or_target_dataset\": \"target\",\n",
    "        \"x_transforms\": [\"unit_power\", \"times_zero\"],\n",
    "        \"episode_transforms\": [],\n",
    "        \"domain_prefix\": \"CORES_\"\n",
    "    }   \n",
    "]\n",
    "\n",
    "standalone_parameters[\"torch_default_dtype\"] = \"torch.float32\" \n",
    "\n",
    "\n",
    "\n",
    "standalone_parameters[\"x_net\"] =     [\n",
    "    {\"class\": \"nnReshape\", \"kargs\": {\"shape\":[-1, 1, 2, 256]}},\n",
    "    {\"class\": \"Conv2d\", \"kargs\": { \"in_channels\":1, \"out_channels\":256, \"kernel_size\":(1,7), \"bias\":False, \"padding\":(0,3), },},\n",
    "    {\"class\": \"ReLU\", \"kargs\": {\"inplace\": True}},\n",
    "    {\"class\": \"BatchNorm2d\", \"kargs\": {\"num_features\":256}},\n",
    "\n",
    "    {\"class\": \"Conv2d\", \"kargs\": { \"in_channels\":256, \"out_channels\":80, \"kernel_size\":(2,7), \"bias\":True, \"padding\":(0,3), },},\n",
    "    {\"class\": \"ReLU\", \"kargs\": {\"inplace\": True}},\n",
    "    {\"class\": \"BatchNorm2d\", \"kargs\": {\"num_features\":80}},\n",
    "    {\"class\": \"Flatten\", \"kargs\": {}},\n",
    "\n",
    "    {\"class\": \"Linear\", \"kargs\": {\"in_features\": 80*256, \"out_features\": 256}}, # 80 units per IQ pair\n",
    "    {\"class\": \"ReLU\", \"kargs\": {\"inplace\": True}},\n",
    "    {\"class\": \"BatchNorm1d\", \"kargs\": {\"num_features\":256}},\n",
    "\n",
    "    {\"class\": \"Linear\", \"kargs\": {\"in_features\": 256, \"out_features\": 256}},\n",
    "]\n",
    "\n",
    "# Parameters relevant to results\n",
    "# These parameters will basically never need to change\n",
    "standalone_parameters[\"NUM_LOGS_PER_EPOCH\"] = 10\n",
    "standalone_parameters[\"BEST_MODEL_PATH\"] = \"./best_model.pth\"\n",
    "\n",
    "\n",
    "\n",
    "\n"
   ]
  },
  {
   "cell_type": "code",
   "execution_count": 4,
   "id": "dad313ef",
   "metadata": {
    "execution": {
     "iopub.execute_input": "2022-03-25T15:49:30.751921Z",
     "iopub.status.busy": "2022-03-25T15:49:30.750876Z",
     "iopub.status.idle": "2022-03-25T15:49:30.764820Z",
     "shell.execute_reply": "2022-03-25T15:49:30.764355Z"
    },
    "papermill": {
     "duration": 0.036968,
     "end_time": "2022-03-25T15:49:30.764932",
     "exception": false,
     "start_time": "2022-03-25T15:49:30.727964",
     "status": "completed"
    },
    "tags": [
     "injected-parameters"
    ]
   },
   "outputs": [],
   "source": [
    "# Parameters\n",
    "parameters = {\n",
    "    \"experiment_name\": \"tl_3-filterv2:cores -> oracle.run1.framed\",\n",
    "    \"device\": \"cuda\",\n",
    "    \"lr\": 0.0001,\n",
    "    \"x_shape\": [2, 200],\n",
    "    \"n_shot\": 3,\n",
    "    \"n_query\": 2,\n",
    "    \"train_k_factor\": 3,\n",
    "    \"val_k_factor\": 2,\n",
    "    \"test_k_factor\": 2,\n",
    "    \"torch_default_dtype\": \"torch.float32\",\n",
    "    \"n_epoch\": 50,\n",
    "    \"patience\": 3,\n",
    "    \"criteria_for_best\": \"target_accuracy\",\n",
    "    \"x_net\": [\n",
    "        {\"class\": \"nnReshape\", \"kargs\": {\"shape\": [-1, 1, 2, 200]}},\n",
    "        {\n",
    "            \"class\": \"Conv2d\",\n",
    "            \"kargs\": {\n",
    "                \"in_channels\": 1,\n",
    "                \"out_channels\": 256,\n",
    "                \"kernel_size\": [1, 7],\n",
    "                \"bias\": False,\n",
    "                \"padding\": [0, 3],\n",
    "            },\n",
    "        },\n",
    "        {\"class\": \"ReLU\", \"kargs\": {\"inplace\": True}},\n",
    "        {\"class\": \"BatchNorm2d\", \"kargs\": {\"num_features\": 256}},\n",
    "        {\n",
    "            \"class\": \"Conv2d\",\n",
    "            \"kargs\": {\n",
    "                \"in_channels\": 256,\n",
    "                \"out_channels\": 80,\n",
    "                \"kernel_size\": [2, 7],\n",
    "                \"bias\": True,\n",
    "                \"padding\": [0, 3],\n",
    "            },\n",
    "        },\n",
    "        {\"class\": \"ReLU\", \"kargs\": {\"inplace\": True}},\n",
    "        {\"class\": \"BatchNorm2d\", \"kargs\": {\"num_features\": 80}},\n",
    "        {\"class\": \"Flatten\", \"kargs\": {}},\n",
    "        {\"class\": \"Linear\", \"kargs\": {\"in_features\": 16000, \"out_features\": 256}},\n",
    "        {\"class\": \"ReLU\", \"kargs\": {\"inplace\": True}},\n",
    "        {\"class\": \"BatchNorm1d\", \"kargs\": {\"num_features\": 256}},\n",
    "        {\"class\": \"Linear\", \"kargs\": {\"in_features\": 256, \"out_features\": 256}},\n",
    "    ],\n",
    "    \"NUM_LOGS_PER_EPOCH\": 10,\n",
    "    \"BEST_MODEL_PATH\": \"./best_model.pth\",\n",
    "    \"n_way\": 16,\n",
    "    \"datasets\": [\n",
    "        {\n",
    "            \"labels\": [\n",
    "                \"1-10.\",\n",
    "                \"1-11.\",\n",
    "                \"1-15.\",\n",
    "                \"1-16.\",\n",
    "                \"1-17.\",\n",
    "                \"1-18.\",\n",
    "                \"1-19.\",\n",
    "                \"10-4.\",\n",
    "                \"10-7.\",\n",
    "                \"11-1.\",\n",
    "                \"11-14.\",\n",
    "                \"11-17.\",\n",
    "                \"11-20.\",\n",
    "                \"11-7.\",\n",
    "                \"13-20.\",\n",
    "                \"13-8.\",\n",
    "                \"14-10.\",\n",
    "                \"14-11.\",\n",
    "                \"14-14.\",\n",
    "                \"14-7.\",\n",
    "                \"15-1.\",\n",
    "                \"15-20.\",\n",
    "                \"16-1.\",\n",
    "                \"16-16.\",\n",
    "                \"17-10.\",\n",
    "                \"17-11.\",\n",
    "                \"17-2.\",\n",
    "                \"19-1.\",\n",
    "                \"19-16.\",\n",
    "                \"19-19.\",\n",
    "                \"19-20.\",\n",
    "                \"19-3.\",\n",
    "                \"2-10.\",\n",
    "                \"2-11.\",\n",
    "                \"2-17.\",\n",
    "                \"2-18.\",\n",
    "                \"2-20.\",\n",
    "                \"2-3.\",\n",
    "                \"2-4.\",\n",
    "                \"2-5.\",\n",
    "                \"2-6.\",\n",
    "                \"2-7.\",\n",
    "                \"2-8.\",\n",
    "                \"3-13.\",\n",
    "                \"3-18.\",\n",
    "                \"3-3.\",\n",
    "                \"4-1.\",\n",
    "                \"4-10.\",\n",
    "                \"4-11.\",\n",
    "                \"4-19.\",\n",
    "                \"5-5.\",\n",
    "                \"6-15.\",\n",
    "                \"7-10.\",\n",
    "                \"7-14.\",\n",
    "                \"8-18.\",\n",
    "                \"8-20.\",\n",
    "                \"8-3.\",\n",
    "                \"8-8.\",\n",
    "            ],\n",
    "            \"domains\": [1, 2, 3, 4, 5],\n",
    "            \"num_examples_per_domain_per_label\": -1,\n",
    "            \"pickle_path\": \"/mnt/wd500GB/CSC500/csc500-main/datasets/cores.stratified_ds.2022A.pkl\",\n",
    "            \"source_or_target_dataset\": \"source\",\n",
    "            \"x_transforms\": [\"lowpass_+/-10MHz\", \"take_200\"],\n",
    "            \"episode_transforms\": [],\n",
    "            \"domain_prefix\": \"C_\",\n",
    "        },\n",
    "        {\n",
    "            \"labels\": [\n",
    "                \"3123D52\",\n",
    "                \"3123D65\",\n",
    "                \"3123D79\",\n",
    "                \"3123D80\",\n",
    "                \"3123D54\",\n",
    "                \"3123D70\",\n",
    "                \"3123D7B\",\n",
    "                \"3123D89\",\n",
    "                \"3123D58\",\n",
    "                \"3123D76\",\n",
    "                \"3123D7D\",\n",
    "                \"3123EFE\",\n",
    "                \"3123D64\",\n",
    "                \"3123D78\",\n",
    "                \"3123D7E\",\n",
    "                \"3124E4A\",\n",
    "            ],\n",
    "            \"domains\": [32, 38, 8, 44, 14, 50, 20, 26],\n",
    "            \"num_examples_per_domain_per_label\": 2000,\n",
    "            \"pickle_path\": \"/mnt/wd500GB/CSC500/csc500-main/datasets/oracle.Run1_framed_2000Examples_stratified_ds.2022A.pkl\",\n",
    "            \"source_or_target_dataset\": \"target\",\n",
    "            \"x_transforms\": [\"take_200\", \"resample_20Msps_to_25Msps\"],\n",
    "            \"episode_transforms\": [],\n",
    "            \"domain_prefix\": \"O_\",\n",
    "        },\n",
    "    ],\n",
    "    \"seed\": 1337,\n",
    "    \"dataset_seed\": 1337,\n",
    "}\n"
   ]
  },
  {
   "cell_type": "code",
   "execution_count": 5,
   "id": "8fa1cc33",
   "metadata": {
    "execution": {
     "iopub.execute_input": "2022-03-25T15:49:30.801553Z",
     "iopub.status.busy": "2022-03-25T15:49:30.801268Z",
     "iopub.status.idle": "2022-03-25T15:49:30.815707Z",
     "shell.execute_reply": "2022-03-25T15:49:30.815255Z"
    },
    "papermill": {
     "duration": 0.032876,
     "end_time": "2022-03-25T15:49:30.815812",
     "exception": false,
     "start_time": "2022-03-25T15:49:30.782936",
     "status": "completed"
    },
    "tags": []
   },
   "outputs": [],
   "source": [
    "# Set this to True if you want to run this template directly\n",
    "STANDALONE = False\n",
    "if STANDALONE:\n",
    "    print(\"parameters not injected, running with standalone_parameters\")\n",
    "    parameters = standalone_parameters\n",
    "\n",
    "if not 'parameters' in locals() and not 'parameters' in globals():\n",
    "    raise Exception(\"Parameter injection failed\")\n",
    "\n",
    "#Use an easy dict for all the parameters\n",
    "p = EasyDict(parameters)\n",
    "\n",
    "if \"x_shape\" not in p:\n",
    "    p.x_shape = [2,256] # Default to this if we dont supply x_shape\n",
    "\n",
    "\n",
    "supplied_keys = set(p.keys())\n",
    "\n",
    "if  supplied_keys != required_parameters:\n",
    "    print(\"Parameters are incorrect\")\n",
    "    if len(supplied_keys - required_parameters)>0: print(\"Shouldn't have:\", str(supplied_keys - required_parameters))\n",
    "    if len(required_parameters - supplied_keys)>0: print(\"Need to have:\", str(required_parameters - supplied_keys))\n",
    "    raise RuntimeError(\"Parameters are incorrect\")"
   ]
  },
  {
   "cell_type": "code",
   "execution_count": 6,
   "id": "3a028d58",
   "metadata": {
    "execution": {
     "iopub.execute_input": "2022-03-25T15:49:30.855424Z",
     "iopub.status.busy": "2022-03-25T15:49:30.850141Z",
     "iopub.status.idle": "2022-03-25T15:49:30.864116Z",
     "shell.execute_reply": "2022-03-25T15:49:30.864422Z"
    },
    "papermill": {
     "duration": 0.030192,
     "end_time": "2022-03-25T15:49:30.864518",
     "exception": false,
     "start_time": "2022-03-25T15:49:30.834326",
     "status": "completed"
    },
    "tags": []
   },
   "outputs": [],
   "source": [
    "###################################\n",
    "# Set the RNGs and make it all deterministic\n",
    "###################################\n",
    "np.random.seed(p.seed)\n",
    "random.seed(p.seed)\n",
    "torch.manual_seed(p.seed)\n",
    "\n",
    "torch.use_deterministic_algorithms(True) "
   ]
  },
  {
   "cell_type": "code",
   "execution_count": 7,
   "id": "b691acf6",
   "metadata": {
    "execution": {
     "iopub.execute_input": "2022-03-25T15:49:30.912578Z",
     "iopub.status.busy": "2022-03-25T15:49:30.904382Z",
     "iopub.status.idle": "2022-03-25T15:49:30.919935Z",
     "shell.execute_reply": "2022-03-25T15:49:30.919507Z"
    },
    "papermill": {
     "duration": 0.032551,
     "end_time": "2022-03-25T15:49:30.920036",
     "exception": false,
     "start_time": "2022-03-25T15:49:30.887485",
     "status": "completed"
    },
    "tags": []
   },
   "outputs": [],
   "source": [
    "###########################################\n",
    "# The stratified datasets honor this\n",
    "###########################################\n",
    "torch.set_default_dtype(eval(p.torch_default_dtype))"
   ]
  },
  {
   "cell_type": "code",
   "execution_count": 8,
   "id": "b5fba671",
   "metadata": {
    "execution": {
     "iopub.execute_input": "2022-03-25T15:49:30.955304Z",
     "iopub.status.busy": "2022-03-25T15:49:30.954221Z",
     "iopub.status.idle": "2022-03-25T15:49:30.988254Z",
     "shell.execute_reply": "2022-03-25T15:49:30.988645Z"
    },
    "papermill": {
     "duration": 0.04997,
     "end_time": "2022-03-25T15:49:30.988782",
     "exception": false,
     "start_time": "2022-03-25T15:49:30.938812",
     "status": "completed"
    },
    "tags": []
   },
   "outputs": [],
   "source": [
    "###################################\n",
    "# Build the network(s)\n",
    "# Note: It's critical to do this AFTER setting the RNG\n",
    "###################################\n",
    "x_net = build_sequential(p.x_net)"
   ]
  },
  {
   "cell_type": "code",
   "execution_count": 9,
   "id": "5d7e61cc",
   "metadata": {
    "execution": {
     "iopub.execute_input": "2022-03-25T15:49:31.021734Z",
     "iopub.status.busy": "2022-03-25T15:49:31.021482Z",
     "iopub.status.idle": "2022-03-25T15:49:31.037184Z",
     "shell.execute_reply": "2022-03-25T15:49:31.036812Z"
    },
    "papermill": {
     "duration": 0.031343,
     "end_time": "2022-03-25T15:49:31.037262",
     "exception": false,
     "start_time": "2022-03-25T15:49:31.005919",
     "status": "completed"
    },
    "tags": []
   },
   "outputs": [],
   "source": [
    "start_time_secs = time.time()"
   ]
  },
  {
   "cell_type": "code",
   "execution_count": 10,
   "id": "c6b67dfd",
   "metadata": {
    "execution": {
     "iopub.execute_input": "2022-03-25T15:49:31.071555Z",
     "iopub.status.busy": "2022-03-25T15:49:31.070646Z",
     "iopub.status.idle": "2022-03-25T15:49:31.085673Z",
     "shell.execute_reply": "2022-03-25T15:49:31.085410Z"
    },
    "papermill": {
     "duration": 0.031542,
     "end_time": "2022-03-25T15:49:31.085731",
     "exception": false,
     "start_time": "2022-03-25T15:49:31.054189",
     "status": "completed"
    },
    "tags": []
   },
   "outputs": [],
   "source": [
    "p.domains_source = []\n",
    "p.domains_target = []\n",
    "\n",
    "\n",
    "train_original_source = []\n",
    "val_original_source   = []\n",
    "test_original_source  = []\n",
    "\n",
    "train_original_target = []\n",
    "val_original_target   = []\n",
    "test_original_target  = []"
   ]
  },
  {
   "cell_type": "code",
   "execution_count": 11,
   "id": "e3d9c3d3",
   "metadata": {
    "execution": {
     "iopub.execute_input": "2022-03-25T15:49:31.114248Z",
     "iopub.status.busy": "2022-03-25T15:49:31.113984Z",
     "iopub.status.idle": "2022-03-25T15:49:31.125185Z",
     "shell.execute_reply": "2022-03-25T15:49:31.124692Z"
    },
    "papermill": {
     "duration": 0.026119,
     "end_time": "2022-03-25T15:49:31.125287",
     "exception": false,
     "start_time": "2022-03-25T15:49:31.099168",
     "status": "completed"
    },
    "tags": []
   },
   "outputs": [],
   "source": [
    "# global_x_transform_func = lambda x: normalize(x.to(torch.get_default_dtype()), \"unit_power\") # unit_power, unit_mag\n",
    "# global_x_transform_func = lambda x: normalize(x, \"unit_power\") # unit_power, unit_mag"
   ]
  },
  {
   "cell_type": "code",
   "execution_count": 12,
   "id": "acb78fd2",
   "metadata": {
    "execution": {
     "iopub.execute_input": "2022-03-25T15:49:31.170954Z",
     "iopub.status.busy": "2022-03-25T15:49:31.169870Z",
     "iopub.status.idle": "2022-03-25T15:49:31.174531Z",
     "shell.execute_reply": "2022-03-25T15:49:31.174121Z"
    },
    "papermill": {
     "duration": 0.031445,
     "end_time": "2022-03-25T15:49:31.174634",
     "exception": false,
     "start_time": "2022-03-25T15:49:31.143189",
     "status": "completed"
    },
    "tags": []
   },
   "outputs": [],
   "source": [
    "def add_dataset(\n",
    "    labels,\n",
    "    domains,\n",
    "    pickle_path,\n",
    "    x_transforms,\n",
    "    episode_transforms,\n",
    "    domain_prefix,\n",
    "    num_examples_per_domain_per_label,\n",
    "    source_or_target_dataset:str,\n",
    "    iterator_seed=p.seed,\n",
    "    dataset_seed=p.dataset_seed,\n",
    "    n_shot=p.n_shot,\n",
    "    n_way=p.n_way,\n",
    "    n_query=p.n_query,\n",
    "    train_val_test_k_factors=(p.train_k_factor,p.val_k_factor,p.test_k_factor),\n",
    "):\n",
    "   \n",
    "    if x_transforms == []: x_transform = None\n",
    "    else: x_transform = get_chained_transform(x_transforms)\n",
    "    \n",
    "    if episode_transforms == []: episode_transform = None\n",
    "    else: raise Exception(\"episode_transforms not implemented\")\n",
    "    \n",
    "    episode_transform = lambda tup, _prefix=domain_prefix: (_prefix + str(tup[0]), tup[1])\n",
    "\n",
    "\n",
    "    eaf = Episodic_Accessor_Factory(\n",
    "        labels=labels,\n",
    "        domains=domains,\n",
    "        num_examples_per_domain_per_label=num_examples_per_domain_per_label,\n",
    "        iterator_seed=iterator_seed,\n",
    "        dataset_seed=dataset_seed,\n",
    "        n_shot=n_shot,\n",
    "        n_way=n_way,\n",
    "        n_query=n_query,\n",
    "        train_val_test_k_factors=train_val_test_k_factors,\n",
    "        pickle_path=pickle_path,\n",
    "        x_transform_func=x_transform,\n",
    "    )\n",
    "\n",
    "    train, val, test = eaf.get_train(), eaf.get_val(), eaf.get_test()\n",
    "    train = Lazy_Iterable_Wrapper(train, episode_transform)\n",
    "    val = Lazy_Iterable_Wrapper(val, episode_transform)\n",
    "    test = Lazy_Iterable_Wrapper(test, episode_transform)\n",
    "\n",
    "    if source_or_target_dataset==\"source\":\n",
    "        train_original_source.append(train)\n",
    "        val_original_source.append(val)\n",
    "        test_original_source.append(test)\n",
    "\n",
    "        p.domains_source.extend(\n",
    "            [domain_prefix + str(u) for u in domains]\n",
    "        )\n",
    "    elif source_or_target_dataset==\"target\":\n",
    "        train_original_target.append(train)\n",
    "        val_original_target.append(val)\n",
    "        test_original_target.append(test)\n",
    "        p.domains_target.extend(\n",
    "            [domain_prefix + str(u) for u in domains]\n",
    "        )\n",
    "    else:\n",
    "        raise Exception(f\"invalid source_or_target_dataset: {source_or_target_dataset}\")\n",
    "    "
   ]
  },
  {
   "cell_type": "code",
   "execution_count": 13,
   "id": "fe266617",
   "metadata": {
    "execution": {
     "iopub.execute_input": "2022-03-25T15:49:31.214550Z",
     "iopub.status.busy": "2022-03-25T15:49:31.214129Z",
     "iopub.status.idle": "2022-03-25T15:49:49.623775Z",
     "shell.execute_reply": "2022-03-25T15:49:49.623326Z"
    },
    "papermill": {
     "duration": 18.429827,
     "end_time": "2022-03-25T15:49:49.623890",
     "exception": false,
     "start_time": "2022-03-25T15:49:31.194063",
     "status": "completed"
    },
    "tags": []
   },
   "outputs": [],
   "source": [
    "for ds in p.datasets:\n",
    "    add_dataset(**ds)"
   ]
  },
  {
   "cell_type": "code",
   "execution_count": 14,
   "id": "b90d65ac",
   "metadata": {
    "execution": {
     "iopub.execute_input": "2022-03-25T15:49:49.659333Z",
     "iopub.status.busy": "2022-03-25T15:49:49.658995Z",
     "iopub.status.idle": "2022-03-25T15:49:49.670842Z",
     "shell.execute_reply": "2022-03-25T15:49:49.670468Z"
    },
    "papermill": {
     "duration": 0.027478,
     "end_time": "2022-03-25T15:49:49.670923",
     "exception": false,
     "start_time": "2022-03-25T15:49:49.643445",
     "status": "completed"
    },
    "tags": []
   },
   "outputs": [],
   "source": [
    "# from steves_utils.CORES.utils import (\n",
    "#     ALL_NODES,\n",
    "#     ALL_NODES_MINIMUM_1000_EXAMPLES,\n",
    "#     ALL_DAYS\n",
    "# )\n",
    "\n",
    "# add_dataset(\n",
    "#     labels=ALL_NODES,\n",
    "#     domains = ALL_DAYS,\n",
    "#     num_examples_per_domain_per_label=100,\n",
    "#     pickle_path=os.path.join(get_datasets_base_path(), \"cores.stratified_ds.2022A.pkl\"),\n",
    "#     source_or_target_dataset=\"target\",\n",
    "#     x_transform_func=global_x_transform_func,\n",
    "#     domain_modifier=lambda u: f\"cores_{u}\"\n",
    "# )"
   ]
  },
  {
   "cell_type": "code",
   "execution_count": 15,
   "id": "76db484d",
   "metadata": {
    "execution": {
     "iopub.execute_input": "2022-03-25T15:49:49.705179Z",
     "iopub.status.busy": "2022-03-25T15:49:49.704917Z",
     "iopub.status.idle": "2022-03-25T15:49:49.720955Z",
     "shell.execute_reply": "2022-03-25T15:49:49.720520Z"
    },
    "papermill": {
     "duration": 0.031673,
     "end_time": "2022-03-25T15:49:49.721059",
     "exception": false,
     "start_time": "2022-03-25T15:49:49.689386",
     "status": "completed"
    },
    "tags": []
   },
   "outputs": [],
   "source": [
    "# from steves_utils.ORACLE.utils_v2 import (\n",
    "#     ALL_DISTANCES_FEET,\n",
    "#     ALL_RUNS,\n",
    "#     ALL_SERIAL_NUMBERS,\n",
    "# )\n",
    "\n",
    "\n",
    "# add_dataset(\n",
    "#     labels=ALL_SERIAL_NUMBERS,\n",
    "#     domains = list(set(ALL_DISTANCES_FEET) - {2,62}),\n",
    "#     num_examples_per_domain_per_label=100,\n",
    "#     pickle_path=os.path.join(get_datasets_base_path(), \"oracle.Run2_framed_2000Examples_stratified_ds.2022A.pkl\"),\n",
    "#     source_or_target_dataset=\"source\",\n",
    "#     x_transform_func=global_x_transform_func,\n",
    "#     domain_modifier=lambda u: f\"oracle1_{u}\"\n",
    "# )\n"
   ]
  },
  {
   "cell_type": "code",
   "execution_count": 16,
   "id": "97dea9d2",
   "metadata": {
    "execution": {
     "iopub.execute_input": "2022-03-25T15:49:49.755684Z",
     "iopub.status.busy": "2022-03-25T15:49:49.755428Z",
     "iopub.status.idle": "2022-03-25T15:49:49.767857Z",
     "shell.execute_reply": "2022-03-25T15:49:49.767483Z"
    },
    "papermill": {
     "duration": 0.028106,
     "end_time": "2022-03-25T15:49:49.767936",
     "exception": false,
     "start_time": "2022-03-25T15:49:49.739830",
     "status": "completed"
    },
    "tags": []
   },
   "outputs": [],
   "source": [
    "# from steves_utils.ORACLE.utils_v2 import (\n",
    "#     ALL_DISTANCES_FEET,\n",
    "#     ALL_RUNS,\n",
    "#     ALL_SERIAL_NUMBERS,\n",
    "# )\n",
    "\n",
    "\n",
    "# add_dataset(\n",
    "#     labels=ALL_SERIAL_NUMBERS,\n",
    "#     domains = list(set(ALL_DISTANCES_FEET) - {2,62,56}),\n",
    "#     num_examples_per_domain_per_label=100,\n",
    "#     pickle_path=os.path.join(get_datasets_base_path(), \"oracle.Run2_framed_2000Examples_stratified_ds.2022A.pkl\"),\n",
    "#     source_or_target_dataset=\"source\",\n",
    "#     x_transform_func=global_x_transform_func,\n",
    "#     domain_modifier=lambda u: f\"oracle2_{u}\"\n",
    "# )"
   ]
  },
  {
   "cell_type": "code",
   "execution_count": 17,
   "id": "6f289866",
   "metadata": {
    "execution": {
     "iopub.execute_input": "2022-03-25T15:49:49.801393Z",
     "iopub.status.busy": "2022-03-25T15:49:49.801135Z",
     "iopub.status.idle": "2022-03-25T15:49:49.812659Z",
     "shell.execute_reply": "2022-03-25T15:49:49.812285Z"
    },
    "papermill": {
     "duration": 0.026997,
     "end_time": "2022-03-25T15:49:49.812739",
     "exception": false,
     "start_time": "2022-03-25T15:49:49.785742",
     "status": "completed"
    },
    "tags": []
   },
   "outputs": [],
   "source": [
    "# add_dataset(\n",
    "#     labels=list(range(19)),\n",
    "#     domains = [0,1,2],\n",
    "#     num_examples_per_domain_per_label=100,\n",
    "#     pickle_path=os.path.join(get_datasets_base_path(), \"metehan.stratified_ds.2022A.pkl\"),\n",
    "#     source_or_target_dataset=\"target\",\n",
    "#     x_transform_func=global_x_transform_func,\n",
    "#     domain_modifier=lambda u: f\"met_{u}\"\n",
    "# )"
   ]
  },
  {
   "cell_type": "code",
   "execution_count": 18,
   "id": "86a863c3",
   "metadata": {
    "execution": {
     "iopub.execute_input": "2022-03-25T15:49:49.847403Z",
     "iopub.status.busy": "2022-03-25T15:49:49.847145Z",
     "iopub.status.idle": "2022-03-25T15:49:49.858205Z",
     "shell.execute_reply": "2022-03-25T15:49:49.857942Z"
    },
    "papermill": {
     "duration": 0.026749,
     "end_time": "2022-03-25T15:49:49.858262",
     "exception": false,
     "start_time": "2022-03-25T15:49:49.831513",
     "status": "completed"
    },
    "tags": []
   },
   "outputs": [],
   "source": [
    "# # from steves_utils.wisig.utils import (\n",
    "# #     ALL_NODES_MINIMUM_100_EXAMPLES,\n",
    "# #     ALL_NODES_MINIMUM_500_EXAMPLES,\n",
    "# #     ALL_NODES_MINIMUM_1000_EXAMPLES,\n",
    "# #     ALL_DAYS\n",
    "# # )\n",
    "\n",
    "# import steves_utils.wisig.utils as wisig\n",
    "\n",
    "\n",
    "# add_dataset(\n",
    "#     labels=wisig.ALL_NODES_MINIMUM_100_EXAMPLES,\n",
    "#     domains = wisig.ALL_DAYS,\n",
    "#     num_examples_per_domain_per_label=100,\n",
    "#     pickle_path=os.path.join(get_datasets_base_path(), \"wisig.node3-19.stratified_ds.2022A.pkl\"),\n",
    "#     source_or_target_dataset=\"target\",\n",
    "#     x_transform_func=global_x_transform_func,\n",
    "#     domain_modifier=lambda u: f\"wisig_{u}\"\n",
    "# )"
   ]
  },
  {
   "cell_type": "code",
   "execution_count": 19,
   "id": "fd5442bc",
   "metadata": {
    "execution": {
     "iopub.execute_input": "2022-03-25T15:49:49.893846Z",
     "iopub.status.busy": "2022-03-25T15:49:49.893547Z",
     "iopub.status.idle": "2022-03-25T15:49:49.905842Z",
     "shell.execute_reply": "2022-03-25T15:49:49.905344Z"
    },
    "papermill": {
     "duration": 0.029749,
     "end_time": "2022-03-25T15:49:49.905946",
     "exception": false,
     "start_time": "2022-03-25T15:49:49.876197",
     "status": "completed"
    },
    "tags": []
   },
   "outputs": [],
   "source": [
    "###################################\n",
    "# Build the dataset\n",
    "###################################\n",
    "train_original_source = Iterable_Aggregator(train_original_source, p.seed)\n",
    "val_original_source = Iterable_Aggregator(val_original_source, p.seed)\n",
    "test_original_source = Iterable_Aggregator(test_original_source, p.seed)\n",
    "\n",
    "\n",
    "train_original_target = Iterable_Aggregator(train_original_target, p.seed)\n",
    "val_original_target = Iterable_Aggregator(val_original_target, p.seed)\n",
    "test_original_target = Iterable_Aggregator(test_original_target, p.seed)\n",
    "\n",
    "# For CNN We only use X and Y. And we only train on the source.\n",
    "# Properly form the data using a transform lambda and Lazy_Iterable_Wrapper. Finally wrap them in a dataloader\n",
    "\n",
    "transform_lambda = lambda ex: ex[1] # Original is (<domain>, <episode>) so we strip down to episode only\n",
    "\n",
    "train_processed_source = Lazy_Iterable_Wrapper(train_original_source, transform_lambda)\n",
    "val_processed_source   = Lazy_Iterable_Wrapper(val_original_source, transform_lambda)\n",
    "test_processed_source  = Lazy_Iterable_Wrapper(test_original_source, transform_lambda)\n",
    "\n",
    "train_processed_target = Lazy_Iterable_Wrapper(train_original_target, transform_lambda)\n",
    "val_processed_target   = Lazy_Iterable_Wrapper(val_original_target, transform_lambda)\n",
    "test_processed_target  = Lazy_Iterable_Wrapper(test_original_target, transform_lambda)\n",
    "\n",
    "datasets = EasyDict({\n",
    "    \"source\": {\n",
    "        \"original\": {\"train\":train_original_source, \"val\":val_original_source, \"test\":test_original_source},\n",
    "        \"processed\": {\"train\":train_processed_source, \"val\":val_processed_source, \"test\":test_processed_source}\n",
    "    },\n",
    "    \"target\": {\n",
    "        \"original\": {\"train\":train_original_target, \"val\":val_original_target, \"test\":test_original_target},\n",
    "        \"processed\": {\"train\":train_processed_target, \"val\":val_processed_target, \"test\":test_processed_target}\n",
    "    },\n",
    "})"
   ]
  },
  {
   "cell_type": "code",
   "execution_count": 20,
   "id": "5b3c01fc",
   "metadata": {
    "execution": {
     "iopub.execute_input": "2022-03-25T15:49:49.944696Z",
     "iopub.status.busy": "2022-03-25T15:49:49.944437Z",
     "iopub.status.idle": "2022-03-25T15:49:56.713922Z",
     "shell.execute_reply": "2022-03-25T15:49:56.714503Z"
    },
    "papermill": {
     "duration": 6.786442,
     "end_time": "2022-03-25T15:49:56.714624",
     "exception": false,
     "start_time": "2022-03-25T15:49:49.928182",
     "status": "completed"
    },
    "tags": []
   },
   "outputs": [
    {
     "name": "stdout",
     "output_type": "stream",
     "text": [
      "{'C_2', 'C_5', 'C_1', 'C_3', 'C_4'}\n"
     ]
    },
    {
     "name": "stdout",
     "output_type": "stream",
     "text": [
      "{'O_20', 'O_8', 'O_32', 'O_50', 'O_38', 'O_44', 'O_26', 'O_14'}\n"
     ]
    },
    {
     "name": "stdout",
     "output_type": "stream",
     "text": [
      "tensor([[[-0.0006, -0.0044, -0.0125,  ...,  0.0002, -0.0006, -0.0225],\n",
      "         [ 0.0002, -0.0003, -0.0069,  ...,  0.0399,  0.0094, -0.0316]],\n",
      "\n",
      "        [[-0.0008, -0.0059, -0.0144,  ...,  0.0048, -0.0055, -0.0320],\n",
      "         [-0.0002, -0.0024, -0.0115,  ...,  0.0322, -0.0017, -0.0423]],\n",
      "\n",
      "        [[-0.0004, -0.0030, -0.0080,  ..., -0.0211, -0.0080, -0.0061],\n",
      "         [ 0.0002,  0.0002, -0.0057,  ...,  0.0420,  0.0207, -0.0208]],\n",
      "\n",
      "        ...,\n",
      "\n",
      "        [[ 0.0006,  0.0041,  0.0122,  ...,  0.0017,  0.0095, -0.0048],\n",
      "         [ 0.0004,  0.0033,  0.0097,  ...,  0.0295,  0.0225,  0.0101]],\n",
      "\n",
      "        [[ 0.0004,  0.0027,  0.0070,  ...,  0.0021, -0.0083, -0.0149],\n",
      "         [ 0.0001,  0.0009,  0.0018,  ..., -0.0090,  0.0060, -0.0004]],\n",
      "\n",
      "        [[ 0.0003,  0.0025,  0.0082,  ..., -0.0038, -0.0066, -0.0079],\n",
      "         [ 0.0009,  0.0065,  0.0162,  ...,  0.0289,  0.0169, -0.0015]]])\n"
     ]
    }
   ],
   "source": [
    "from steves_utils.transforms import get_average_magnitude, get_average_power\n",
    "\n",
    "print(set([u for u,_ in val_original_source]))\n",
    "print(set([u for u,_ in val_original_target]))\n",
    "\n",
    "s_x, s_y, q_x, q_y, _ = next(iter(train_processed_source))\n",
    "print(s_x)\n",
    "\n",
    "# for ds in [\n",
    "#     train_processed_source,\n",
    "#     val_processed_source,\n",
    "#     test_processed_source,\n",
    "#     train_processed_target,\n",
    "#     val_processed_target,\n",
    "#     test_processed_target\n",
    "# ]:\n",
    "#     for s_x, s_y, q_x, q_y, _ in ds:\n",
    "#         for X in (s_x, q_x):\n",
    "#             for x in X:\n",
    "#                 assert np.isclose(get_average_magnitude(x.numpy()), 1.0)\n",
    "#                 assert np.isclose(get_average_power(x.numpy()), 1.0)\n",
    "                "
   ]
  },
  {
   "cell_type": "code",
   "execution_count": 21,
   "id": "bbdacba1",
   "metadata": {
    "execution": {
     "iopub.execute_input": "2022-03-25T15:49:56.752110Z",
     "iopub.status.busy": "2022-03-25T15:49:56.750874Z",
     "iopub.status.idle": "2022-03-25T15:49:56.802492Z",
     "shell.execute_reply": "2022-03-25T15:49:56.802914Z"
    },
    "papermill": {
     "duration": 0.069462,
     "end_time": "2022-03-25T15:49:56.803049",
     "exception": false,
     "start_time": "2022-03-25T15:49:56.733587",
     "status": "completed"
    },
    "tags": []
   },
   "outputs": [
    {
     "name": "stdout",
     "output_type": "stream",
     "text": [
      "(2, 200)\n"
     ]
    }
   ],
   "source": [
    "###################################\n",
    "# Build the model\n",
    "###################################\n",
    "# easfsl only wants a tuple for the shape\n",
    "model = Steves_Prototypical_Network(x_net, device=p.device, x_shape=tuple(p.x_shape))\n",
    "optimizer = Adam(params=model.parameters(), lr=p.lr)"
   ]
  },
  {
   "cell_type": "code",
   "execution_count": 22,
   "id": "22b39ac5",
   "metadata": {
    "execution": {
     "iopub.execute_input": "2022-03-25T15:49:56.841641Z",
     "iopub.status.busy": "2022-03-25T15:49:56.841120Z",
     "iopub.status.idle": "2022-03-25T16:40:59.139155Z",
     "shell.execute_reply": "2022-03-25T16:40:59.138916Z"
    },
    "papermill": {
     "duration": 3062.315275,
     "end_time": "2022-03-25T16:40:59.139219",
     "exception": false,
     "start_time": "2022-03-25T15:49:56.823944",
     "status": "completed"
    },
    "tags": []
   },
   "outputs": [
    {
     "name": "stdout",
     "output_type": "stream",
     "text": [
      "epoch: 1, [batch: 1 / 6320], examples_per_second: 51.1586, train_label_loss: 2.2080, \n"
     ]
    },
    {
     "name": "stdout",
     "output_type": "stream",
     "text": [
      "epoch: 1, [batch: 632 / 6320], examples_per_second: 1876.9433, train_label_loss: 0.0399, \n"
     ]
    },
    {
     "name": "stdout",
     "output_type": "stream",
     "text": [
      "epoch: 1, [batch: 1264 / 6320], examples_per_second: 1878.1707, train_label_loss: 0.0114, \n"
     ]
    },
    {
     "name": "stdout",
     "output_type": "stream",
     "text": [
      "epoch: 1, [batch: 1896 / 6320], examples_per_second: 1877.1526, train_label_loss: 0.0034, \n"
     ]
    },
    {
     "name": "stdout",
     "output_type": "stream",
     "text": [
      "epoch: 1, [batch: 2528 / 6320], examples_per_second: 1874.7426, train_label_loss: 0.0006, \n"
     ]
    },
    {
     "name": "stdout",
     "output_type": "stream",
     "text": [
      "epoch: 1, [batch: 3160 / 6320], examples_per_second: 1876.7074, train_label_loss: 0.0235, \n"
     ]
    },
    {
     "name": "stdout",
     "output_type": "stream",
     "text": [
      "epoch: 1, [batch: 3792 / 6320], examples_per_second: 2067.7981, train_label_loss: 0.0005, \n"
     ]
    },
    {
     "name": "stdout",
     "output_type": "stream",
     "text": [
      "epoch: 1, [batch: 4424 / 6320], examples_per_second: 2396.2220, train_label_loss: 0.0056, \n"
     ]
    },
    {
     "name": "stdout",
     "output_type": "stream",
     "text": [
      "epoch: 1, [batch: 5056 / 6320], examples_per_second: 2328.2486, train_label_loss: 0.0003, \n"
     ]
    },
    {
     "name": "stdout",
     "output_type": "stream",
     "text": [
      "epoch: 1, [batch: 5688 / 6320], examples_per_second: 2359.8795, train_label_loss: 0.0021, \n"
     ]
    },
    {
     "name": "stdout",
     "output_type": "stream",
     "text": [
      "=============================================================\n",
      "epoch: 1, source_val_acc_label: 0.9983, target_val_acc_label: 0.4851, source_val_label_loss: 0.0110, target_val_label_loss: 2.0988, \n",
      "=============================================================\n"
     ]
    },
    {
     "name": "stdout",
     "output_type": "stream",
     "text": [
      "New best\n"
     ]
    },
    {
     "name": "stdout",
     "output_type": "stream",
     "text": [
      "epoch: 2, [batch: 1 / 6305], examples_per_second: 3.4403, train_label_loss: 0.0020, \n"
     ]
    },
    {
     "name": "stdout",
     "output_type": "stream",
     "text": [
      "epoch: 2, [batch: 631 / 6305], examples_per_second: 3578.8027, train_label_loss: 0.0001, \n"
     ]
    },
    {
     "name": "stdout",
     "output_type": "stream",
     "text": [
      "epoch: 2, [batch: 1261 / 6305], examples_per_second: 3629.2007, train_label_loss: 0.0015, \n"
     ]
    },
    {
     "name": "stdout",
     "output_type": "stream",
     "text": [
      "epoch: 2, [batch: 1892 / 6305], examples_per_second: 3563.8985, train_label_loss: 0.0001, \n"
     ]
    },
    {
     "name": "stdout",
     "output_type": "stream",
     "text": [
      "epoch: 2, [batch: 2522 / 6305], examples_per_second: 3604.9583, train_label_loss: 0.0004, \n"
     ]
    },
    {
     "name": "stdout",
     "output_type": "stream",
     "text": [
      "epoch: 2, [batch: 3153 / 6305], examples_per_second: 3637.4278, train_label_loss: 0.0000, \n"
     ]
    },
    {
     "name": "stdout",
     "output_type": "stream",
     "text": [
      "epoch: 2, [batch: 3783 / 6305], examples_per_second: 3639.4233, train_label_loss: 0.0018, \n"
     ]
    },
    {
     "name": "stdout",
     "output_type": "stream",
     "text": [
      "epoch: 2, [batch: 4413 / 6305], examples_per_second: 3572.6134, train_label_loss: 0.0000, \n"
     ]
    },
    {
     "name": "stdout",
     "output_type": "stream",
     "text": [
      "epoch: 2, [batch: 5044 / 6305], examples_per_second: 3571.2064, train_label_loss: 0.0001, \n"
     ]
    },
    {
     "name": "stdout",
     "output_type": "stream",
     "text": [
      "epoch: 2, [batch: 5674 / 6305], examples_per_second: 2133.4945, train_label_loss: 0.0003, \n"
     ]
    },
    {
     "name": "stdout",
     "output_type": "stream",
     "text": [
      "=============================================================\n",
      "epoch: 2, source_val_acc_label: 0.9976, target_val_acc_label: 0.4895, source_val_label_loss: 0.0216, target_val_label_loss: 1.9523, \n",
      "=============================================================\n"
     ]
    },
    {
     "name": "stdout",
     "output_type": "stream",
     "text": [
      "New best\n"
     ]
    },
    {
     "name": "stdout",
     "output_type": "stream",
     "text": [
      "epoch: 3, [batch: 1 / 6307], examples_per_second: 2.8226, train_label_loss: 0.0002, \n"
     ]
    },
    {
     "name": "stdout",
     "output_type": "stream",
     "text": [
      "epoch: 3, [batch: 631 / 6307], examples_per_second: 1881.2026, train_label_loss: 0.0000, \n"
     ]
    },
    {
     "name": "stdout",
     "output_type": "stream",
     "text": [
      "epoch: 3, [batch: 1262 / 6307], examples_per_second: 1877.4201, train_label_loss: 0.0566, \n"
     ]
    },
    {
     "name": "stdout",
     "output_type": "stream",
     "text": [
      "epoch: 3, [batch: 1892 / 6307], examples_per_second: 1875.8612, train_label_loss: 0.0000, \n"
     ]
    },
    {
     "name": "stdout",
     "output_type": "stream",
     "text": [
      "epoch: 3, [batch: 2523 / 6307], examples_per_second: 1876.7473, train_label_loss: 0.0000, \n"
     ]
    },
    {
     "name": "stdout",
     "output_type": "stream",
     "text": [
      "epoch: 3, [batch: 3154 / 6307], examples_per_second: 1873.4564, train_label_loss: 0.0000, \n"
     ]
    },
    {
     "name": "stdout",
     "output_type": "stream",
     "text": [
      "epoch: 3, [batch: 3784 / 6307], examples_per_second: 1877.3828, train_label_loss: 0.0018, \n"
     ]
    },
    {
     "name": "stdout",
     "output_type": "stream",
     "text": [
      "epoch: 3, [batch: 4415 / 6307], examples_per_second: 1951.5132, train_label_loss: 0.0000, \n"
     ]
    },
    {
     "name": "stdout",
     "output_type": "stream",
     "text": [
      "epoch: 3, [batch: 5045 / 6307], examples_per_second: 2330.8683, train_label_loss: 0.0000, \n"
     ]
    },
    {
     "name": "stdout",
     "output_type": "stream",
     "text": [
      "epoch: 3, [batch: 5676 / 6307], examples_per_second: 2132.9023, train_label_loss: 0.0002, \n"
     ]
    },
    {
     "name": "stdout",
     "output_type": "stream",
     "text": [
      "=============================================================\n",
      "epoch: 3, source_val_acc_label: 0.9993, target_val_acc_label: 0.4898, source_val_label_loss: 0.0082, target_val_label_loss: 1.8152, \n",
      "=============================================================\n"
     ]
    },
    {
     "name": "stdout",
     "output_type": "stream",
     "text": [
      "New best\n"
     ]
    },
    {
     "name": "stdout",
     "output_type": "stream",
     "text": [
      "epoch: 4, [batch: 1 / 6315], examples_per_second: 2.8419, train_label_loss: 0.0000, \n"
     ]
    },
    {
     "name": "stdout",
     "output_type": "stream",
     "text": [
      "epoch: 4, [batch: 632 / 6315], examples_per_second: 1882.5611, train_label_loss: 0.0000, \n"
     ]
    },
    {
     "name": "stdout",
     "output_type": "stream",
     "text": [
      "epoch: 4, [batch: 1263 / 6315], examples_per_second: 1879.2438, train_label_loss: 0.0003, \n"
     ]
    },
    {
     "name": "stdout",
     "output_type": "stream",
     "text": [
      "epoch: 4, [batch: 1895 / 6315], examples_per_second: 1878.4092, train_label_loss: 0.0015, \n"
     ]
    },
    {
     "name": "stdout",
     "output_type": "stream",
     "text": [
      "epoch: 4, [batch: 2526 / 6315], examples_per_second: 1878.4329, train_label_loss: 0.0000, \n"
     ]
    },
    {
     "name": "stdout",
     "output_type": "stream",
     "text": [
      "epoch: 4, [batch: 3158 / 6315], examples_per_second: 1880.0623, train_label_loss: 0.0015, \n"
     ]
    },
    {
     "name": "stdout",
     "output_type": "stream",
     "text": [
      "epoch: 4, [batch: 3789 / 6315], examples_per_second: 1875.5390, train_label_loss: 0.0000, \n"
     ]
    },
    {
     "name": "stdout",
     "output_type": "stream",
     "text": [
      "epoch: 4, [batch: 4420 / 6315], examples_per_second: 1946.7067, train_label_loss: 0.0000, \n"
     ]
    },
    {
     "name": "stdout",
     "output_type": "stream",
     "text": [
      "epoch: 4, [batch: 5052 / 6315], examples_per_second: 2341.5719, train_label_loss: 0.0000, \n"
     ]
    },
    {
     "name": "stdout",
     "output_type": "stream",
     "text": [
      "epoch: 4, [batch: 5683 / 6315], examples_per_second: 2115.4956, train_label_loss: 0.0000, \n"
     ]
    },
    {
     "name": "stdout",
     "output_type": "stream",
     "text": [
      "=============================================================\n",
      "epoch: 4, source_val_acc_label: 0.9989, target_val_acc_label: 0.4452, source_val_label_loss: 0.0132, target_val_label_loss: 2.0651, \n",
      "=============================================================\n"
     ]
    },
    {
     "name": "stdout",
     "output_type": "stream",
     "text": [
      "epoch: 5, [batch: 1 / 6313], examples_per_second: 2.8180, train_label_loss: 0.0005, \n"
     ]
    },
    {
     "name": "stdout",
     "output_type": "stream",
     "text": [
      "epoch: 5, [batch: 632 / 6313], examples_per_second: 1883.1371, train_label_loss: 0.0000, \n"
     ]
    },
    {
     "name": "stdout",
     "output_type": "stream",
     "text": [
      "epoch: 5, [batch: 1263 / 6313], examples_per_second: 1879.1116, train_label_loss: 0.0000, \n"
     ]
    },
    {
     "name": "stdout",
     "output_type": "stream",
     "text": [
      "epoch: 5, [batch: 1894 / 6313], examples_per_second: 1878.1998, train_label_loss: 0.0000, \n"
     ]
    },
    {
     "name": "stdout",
     "output_type": "stream",
     "text": [
      "epoch: 5, [batch: 2525 / 6313], examples_per_second: 1879.0953, train_label_loss: 0.0000, \n"
     ]
    },
    {
     "name": "stdout",
     "output_type": "stream",
     "text": [
      "epoch: 5, [batch: 3157 / 6313], examples_per_second: 1879.4418, train_label_loss: 0.0000, \n"
     ]
    },
    {
     "name": "stdout",
     "output_type": "stream",
     "text": [
      "epoch: 5, [batch: 3788 / 6313], examples_per_second: 1877.6420, train_label_loss: 0.0000, \n"
     ]
    },
    {
     "name": "stdout",
     "output_type": "stream",
     "text": [
      "epoch: 5, [batch: 4419 / 6313], examples_per_second: 1947.5927, train_label_loss: 0.0026, \n"
     ]
    },
    {
     "name": "stdout",
     "output_type": "stream",
     "text": [
      "epoch: 5, [batch: 5050 / 6313], examples_per_second: 2350.0376, train_label_loss: 0.0000, \n"
     ]
    },
    {
     "name": "stdout",
     "output_type": "stream",
     "text": [
      "epoch: 5, [batch: 5681 / 6313], examples_per_second: 2125.4515, train_label_loss: 0.0107, \n"
     ]
    },
    {
     "name": "stdout",
     "output_type": "stream",
     "text": [
      "=============================================================\n",
      "epoch: 5, source_val_acc_label: 0.9995, target_val_acc_label: 0.5173, source_val_label_loss: 0.0090, target_val_label_loss: 1.5558, \n",
      "=============================================================\n"
     ]
    },
    {
     "name": "stdout",
     "output_type": "stream",
     "text": [
      "New best\n"
     ]
    },
    {
     "name": "stdout",
     "output_type": "stream",
     "text": [
      "epoch: 6, [batch: 1 / 6317], examples_per_second: 2.8196, train_label_loss: 0.0000, \n"
     ]
    },
    {
     "name": "stdout",
     "output_type": "stream",
     "text": [
      "epoch: 6, [batch: 632 / 6317], examples_per_second: 1881.3433, train_label_loss: 0.0000, \n"
     ]
    },
    {
     "name": "stdout",
     "output_type": "stream",
     "text": [
      "epoch: 6, [batch: 1264 / 6317], examples_per_second: 1877.3675, train_label_loss: 0.0002, \n"
     ]
    },
    {
     "name": "stdout",
     "output_type": "stream",
     "text": [
      "epoch: 6, [batch: 1895 / 6317], examples_per_second: 1879.8974, train_label_loss: 0.0041, \n"
     ]
    },
    {
     "name": "stdout",
     "output_type": "stream",
     "text": [
      "epoch: 6, [batch: 2527 / 6317], examples_per_second: 1878.0544, train_label_loss: 0.0002, \n"
     ]
    },
    {
     "name": "stdout",
     "output_type": "stream",
     "text": [
      "epoch: 6, [batch: 3159 / 6317], examples_per_second: 1878.6138, train_label_loss: 0.0112, \n"
     ]
    },
    {
     "name": "stdout",
     "output_type": "stream",
     "text": [
      "epoch: 6, [batch: 3790 / 6317], examples_per_second: 1877.0063, train_label_loss: 0.0000, \n"
     ]
    },
    {
     "name": "stdout",
     "output_type": "stream",
     "text": [
      "epoch: 6, [batch: 4422 / 6317], examples_per_second: 1965.4310, train_label_loss: 0.0000, \n"
     ]
    },
    {
     "name": "stdout",
     "output_type": "stream",
     "text": [
      "epoch: 6, [batch: 5053 / 6317], examples_per_second: 2387.0506, train_label_loss: 0.0000, \n"
     ]
    },
    {
     "name": "stdout",
     "output_type": "stream",
     "text": [
      "epoch: 6, [batch: 5685 / 6317], examples_per_second: 2081.0649, train_label_loss: 0.0000, \n"
     ]
    },
    {
     "name": "stdout",
     "output_type": "stream",
     "text": [
      "=============================================================\n",
      "epoch: 6, source_val_acc_label: 0.9951, target_val_acc_label: 0.4400, source_val_label_loss: 0.0330, target_val_label_loss: 2.0310, \n",
      "=============================================================\n"
     ]
    },
    {
     "name": "stdout",
     "output_type": "stream",
     "text": [
      "epoch: 7, [batch: 1 / 6322], examples_per_second: 2.8243, train_label_loss: 0.0000, \n"
     ]
    },
    {
     "name": "stdout",
     "output_type": "stream",
     "text": [
      "epoch: 7, [batch: 633 / 6322], examples_per_second: 1881.0002, train_label_loss: 0.0000, \n"
     ]
    },
    {
     "name": "stdout",
     "output_type": "stream",
     "text": [
      "epoch: 7, [batch: 1265 / 6322], examples_per_second: 1879.6432, train_label_loss: 0.0001, \n"
     ]
    },
    {
     "name": "stdout",
     "output_type": "stream",
     "text": [
      "epoch: 7, [batch: 1897 / 6322], examples_per_second: 1879.6873, train_label_loss: 0.0000, \n"
     ]
    },
    {
     "name": "stdout",
     "output_type": "stream",
     "text": [
      "epoch: 7, [batch: 2529 / 6322], examples_per_second: 1877.7916, train_label_loss: 0.0000, \n"
     ]
    },
    {
     "name": "stdout",
     "output_type": "stream",
     "text": [
      "epoch: 7, [batch: 3161 / 6322], examples_per_second: 1879.4193, train_label_loss: 0.0012, \n"
     ]
    },
    {
     "name": "stdout",
     "output_type": "stream",
     "text": [
      "epoch: 7, [batch: 3793 / 6322], examples_per_second: 1879.9613, train_label_loss: 0.0000, \n"
     ]
    },
    {
     "name": "stdout",
     "output_type": "stream",
     "text": [
      "epoch: 7, [batch: 4425 / 6322], examples_per_second: 1972.2434, train_label_loss: 0.0000, \n"
     ]
    },
    {
     "name": "stdout",
     "output_type": "stream",
     "text": [
      "epoch: 7, [batch: 5057 / 6322], examples_per_second: 2386.9039, train_label_loss: 0.0000, \n"
     ]
    },
    {
     "name": "stdout",
     "output_type": "stream",
     "text": [
      "epoch: 7, [batch: 5689 / 6322], examples_per_second: 2093.9495, train_label_loss: 0.0000, \n"
     ]
    },
    {
     "name": "stdout",
     "output_type": "stream",
     "text": [
      "=============================================================\n",
      "epoch: 7, source_val_acc_label: 0.9991, target_val_acc_label: 0.5531, source_val_label_loss: 0.0134, target_val_label_loss: 1.4396, \n",
      "=============================================================\n"
     ]
    },
    {
     "name": "stdout",
     "output_type": "stream",
     "text": [
      "New best\n"
     ]
    },
    {
     "name": "stdout",
     "output_type": "stream",
     "text": [
      "epoch: 8, [batch: 1 / 6297], examples_per_second: 2.8291, train_label_loss: 0.0000, \n"
     ]
    },
    {
     "name": "stdout",
     "output_type": "stream",
     "text": [
      "epoch: 8, [batch: 630 / 6297], examples_per_second: 1880.2115, train_label_loss: 0.0000, \n"
     ]
    },
    {
     "name": "stdout",
     "output_type": "stream",
     "text": [
      "epoch: 8, [batch: 1260 / 6297], examples_per_second: 1878.9591, train_label_loss: 0.0000, \n"
     ]
    },
    {
     "name": "stdout",
     "output_type": "stream",
     "text": [
      "epoch: 8, [batch: 1889 / 6297], examples_per_second: 1878.1223, train_label_loss: 0.0000, \n"
     ]
    },
    {
     "name": "stdout",
     "output_type": "stream",
     "text": [
      "epoch: 8, [batch: 2519 / 6297], examples_per_second: 1877.7461, train_label_loss: 0.0008, \n"
     ]
    },
    {
     "name": "stdout",
     "output_type": "stream",
     "text": [
      "epoch: 8, [batch: 3149 / 6297], examples_per_second: 1878.4363, train_label_loss: 0.0000, \n"
     ]
    },
    {
     "name": "stdout",
     "output_type": "stream",
     "text": [
      "epoch: 8, [batch: 3778 / 6297], examples_per_second: 1877.5113, train_label_loss: 0.0000, \n"
     ]
    },
    {
     "name": "stdout",
     "output_type": "stream",
     "text": [
      "epoch: 8, [batch: 4408 / 6297], examples_per_second: 1956.3793, train_label_loss: 0.0000, \n"
     ]
    },
    {
     "name": "stdout",
     "output_type": "stream",
     "text": [
      "epoch: 8, [batch: 5037 / 6297], examples_per_second: 2342.1750, train_label_loss: 0.0003, \n"
     ]
    },
    {
     "name": "stdout",
     "output_type": "stream",
     "text": [
      "epoch: 8, [batch: 5667 / 6297], examples_per_second: 2147.1331, train_label_loss: 0.0004, \n"
     ]
    },
    {
     "name": "stdout",
     "output_type": "stream",
     "text": [
      "=============================================================\n",
      "epoch: 8, source_val_acc_label: 0.9994, target_val_acc_label: 0.5136, source_val_label_loss: 0.0103, target_val_label_loss: 1.5672, \n",
      "=============================================================\n"
     ]
    },
    {
     "name": "stdout",
     "output_type": "stream",
     "text": [
      "epoch: 9, [batch: 1 / 6315], examples_per_second: 2.8469, train_label_loss: 0.0001, \n"
     ]
    },
    {
     "name": "stdout",
     "output_type": "stream",
     "text": [
      "epoch: 9, [batch: 632 / 6315], examples_per_second: 1880.8000, train_label_loss: 1.2311, \n"
     ]
    },
    {
     "name": "stdout",
     "output_type": "stream",
     "text": [
      "epoch: 9, [batch: 1263 / 6315], examples_per_second: 1875.6728, train_label_loss: 0.0000, \n"
     ]
    },
    {
     "name": "stdout",
     "output_type": "stream",
     "text": [
      "epoch: 9, [batch: 1895 / 6315], examples_per_second: 1877.9454, train_label_loss: 0.0000, \n"
     ]
    },
    {
     "name": "stdout",
     "output_type": "stream",
     "text": [
      "epoch: 9, [batch: 2526 / 6315], examples_per_second: 1879.2367, train_label_loss: 0.0005, \n"
     ]
    },
    {
     "name": "stdout",
     "output_type": "stream",
     "text": [
      "epoch: 9, [batch: 3158 / 6315], examples_per_second: 1876.4329, train_label_loss: 0.0000, \n"
     ]
    },
    {
     "name": "stdout",
     "output_type": "stream",
     "text": [
      "epoch: 9, [batch: 3789 / 6315], examples_per_second: 1878.0504, train_label_loss: 0.0000, \n"
     ]
    },
    {
     "name": "stdout",
     "output_type": "stream",
     "text": [
      "epoch: 9, [batch: 4420 / 6315], examples_per_second: 1948.2586, train_label_loss: 0.0000, \n"
     ]
    },
    {
     "name": "stdout",
     "output_type": "stream",
     "text": [
      "epoch: 9, [batch: 5052 / 6315], examples_per_second: 2331.9339, train_label_loss: 0.0000, \n"
     ]
    },
    {
     "name": "stdout",
     "output_type": "stream",
     "text": [
      "epoch: 9, [batch: 5683 / 6315], examples_per_second: 2141.7055, train_label_loss: 0.0000, \n"
     ]
    },
    {
     "name": "stdout",
     "output_type": "stream",
     "text": [
      "=============================================================\n",
      "epoch: 9, source_val_acc_label: 0.9995, target_val_acc_label: 0.4677, source_val_label_loss: 0.0090, target_val_label_loss: 1.5696, \n",
      "=============================================================\n"
     ]
    },
    {
     "name": "stdout",
     "output_type": "stream",
     "text": [
      "epoch: 10, [batch: 1 / 6284], examples_per_second: 2.8117, train_label_loss: 0.0000, \n"
     ]
    },
    {
     "name": "stdout",
     "output_type": "stream",
     "text": [
      "epoch: 10, [batch: 629 / 6284], examples_per_second: 1880.2871, train_label_loss: 0.0000, \n"
     ]
    },
    {
     "name": "stdout",
     "output_type": "stream",
     "text": [
      "epoch: 10, [batch: 1257 / 6284], examples_per_second: 1877.2755, train_label_loss: 0.0000, \n"
     ]
    },
    {
     "name": "stdout",
     "output_type": "stream",
     "text": [
      "epoch: 10, [batch: 1885 / 6284], examples_per_second: 1878.3730, train_label_loss: 0.0000, \n"
     ]
    },
    {
     "name": "stdout",
     "output_type": "stream",
     "text": [
      "epoch: 10, [batch: 2514 / 6284], examples_per_second: 1878.8940, train_label_loss: 0.0000, \n"
     ]
    },
    {
     "name": "stdout",
     "output_type": "stream",
     "text": [
      "epoch: 10, [batch: 3142 / 6284], examples_per_second: 1877.0034, train_label_loss: 0.0000, \n"
     ]
    },
    {
     "name": "stdout",
     "output_type": "stream",
     "text": [
      "epoch: 10, [batch: 3770 / 6284], examples_per_second: 1878.1789, train_label_loss: 0.0001, \n"
     ]
    },
    {
     "name": "stdout",
     "output_type": "stream",
     "text": [
      "epoch: 10, [batch: 4399 / 6284], examples_per_second: 1957.7994, train_label_loss: 0.0000, \n"
     ]
    },
    {
     "name": "stdout",
     "output_type": "stream",
     "text": [
      "epoch: 10, [batch: 5027 / 6284], examples_per_second: 2352.8890, train_label_loss: 0.0000, \n"
     ]
    },
    {
     "name": "stdout",
     "output_type": "stream",
     "text": [
      "epoch: 10, [batch: 5655 / 6284], examples_per_second: 2156.7704, train_label_loss: 0.0000, \n"
     ]
    },
    {
     "name": "stdout",
     "output_type": "stream",
     "text": [
      "=============================================================\n",
      "epoch: 10, source_val_acc_label: 0.9992, target_val_acc_label: 0.4859, source_val_label_loss: 0.0122, target_val_label_loss: 1.5775, \n",
      "=============================================================\n"
     ]
    },
    {
     "name": "stdout",
     "output_type": "stream",
     "text": [
      "epoch: 11, [batch: 1 / 6335], examples_per_second: 2.8314, train_label_loss: 0.0000, \n"
     ]
    },
    {
     "name": "stdout",
     "output_type": "stream",
     "text": [
      "epoch: 11, [batch: 634 / 6335], examples_per_second: 1880.7061, train_label_loss: 0.0000, \n"
     ]
    },
    {
     "name": "stdout",
     "output_type": "stream",
     "text": [
      "epoch: 11, [batch: 1267 / 6335], examples_per_second: 1878.3495, train_label_loss: 0.0001, \n"
     ]
    },
    {
     "name": "stdout",
     "output_type": "stream",
     "text": [
      "epoch: 11, [batch: 1901 / 6335], examples_per_second: 1878.9741, train_label_loss: 0.0002, \n"
     ]
    },
    {
     "name": "stdout",
     "output_type": "stream",
     "text": [
      "epoch: 11, [batch: 2534 / 6335], examples_per_second: 1877.7380, train_label_loss: 0.0000, \n"
     ]
    },
    {
     "name": "stdout",
     "output_type": "stream",
     "text": [
      "epoch: 11, [batch: 3168 / 6335], examples_per_second: 1877.4315, train_label_loss: 0.0000, \n"
     ]
    },
    {
     "name": "stdout",
     "output_type": "stream",
     "text": [
      "epoch: 11, [batch: 3801 / 6335], examples_per_second: 1878.4171, train_label_loss: 0.0000, \n"
     ]
    },
    {
     "name": "stdout",
     "output_type": "stream",
     "text": [
      "epoch: 11, [batch: 4434 / 6335], examples_per_second: 1952.7136, train_label_loss: 0.0000, \n"
     ]
    },
    {
     "name": "stdout",
     "output_type": "stream",
     "text": [
      "epoch: 11, [batch: 5068 / 6335], examples_per_second: 2343.7732, train_label_loss: 0.0000, \n"
     ]
    },
    {
     "name": "stdout",
     "output_type": "stream",
     "text": [
      "epoch: 11, [batch: 5701 / 6335], examples_per_second: 2105.5561, train_label_loss: 0.0000, \n"
     ]
    },
    {
     "name": "stdout",
     "output_type": "stream",
     "text": [
      "=============================================================\n",
      "epoch: 11, source_val_acc_label: 0.9997, target_val_acc_label: 0.5086, source_val_label_loss: 0.0078, target_val_label_loss: 1.5965, \n",
      "=============================================================\n"
     ]
    },
    {
     "name": "stdout",
     "output_type": "stream",
     "text": [
      "Patience (3) exhausted\n"
     ]
    }
   ],
   "source": [
    "###################################\n",
    "# train\n",
    "###################################\n",
    "jig = PTN_Train_Eval_Test_Jig(model, p.BEST_MODEL_PATH, p.device)\n",
    "\n",
    "jig.train(\n",
    "    train_iterable=datasets.source.processed.train,\n",
    "    source_val_iterable=datasets.source.processed.val,\n",
    "    target_val_iterable=datasets.target.processed.val,\n",
    "    num_epochs=p.n_epoch,\n",
    "    num_logs_per_epoch=p.NUM_LOGS_PER_EPOCH,\n",
    "    patience=p.patience,\n",
    "    optimizer=optimizer,\n",
    "    criteria_for_best=p.criteria_for_best,\n",
    ")"
   ]
  },
  {
   "cell_type": "code",
   "execution_count": 23,
   "id": "31e8fabf",
   "metadata": {
    "execution": {
     "iopub.execute_input": "2022-03-25T16:40:59.232057Z",
     "iopub.status.busy": "2022-03-25T16:40:59.231647Z",
     "iopub.status.idle": "2022-03-25T16:40:59.250992Z",
     "shell.execute_reply": "2022-03-25T16:40:59.250582Z"
    },
    "papermill": {
     "duration": 0.067406,
     "end_time": "2022-03-25T16:40:59.251099",
     "exception": false,
     "start_time": "2022-03-25T16:40:59.183693",
     "status": "completed"
    },
    "tags": []
   },
   "outputs": [],
   "source": [
    "total_experiment_time_secs = time.time() - start_time_secs"
   ]
  },
  {
   "cell_type": "code",
   "execution_count": 24,
   "id": "87b9595b",
   "metadata": {
    "execution": {
     "iopub.execute_input": "2022-03-25T16:40:59.351782Z",
     "iopub.status.busy": "2022-03-25T16:40:59.349087Z",
     "iopub.status.idle": "2022-03-25T16:43:26.943467Z",
     "shell.execute_reply": "2022-03-25T16:43:26.943946Z"
    },
    "papermill": {
     "duration": 147.645841,
     "end_time": "2022-03-25T16:43:26.944097",
     "exception": false,
     "start_time": "2022-03-25T16:40:59.298256",
     "status": "completed"
    },
    "tags": []
   },
   "outputs": [],
   "source": [
    "###################################\n",
    "# Evaluate the model\n",
    "###################################\n",
    "source_test_label_accuracy, source_test_label_loss = jig.test(datasets.source.processed.test)\n",
    "target_test_label_accuracy, target_test_label_loss = jig.test(datasets.target.processed.test)\n",
    "\n",
    "source_val_label_accuracy, source_val_label_loss = jig.test(datasets.source.processed.val)\n",
    "target_val_label_accuracy, target_val_label_loss = jig.test(datasets.target.processed.val)\n",
    "\n",
    "history = jig.get_history()\n",
    "\n",
    "total_epochs_trained = len(history[\"epoch_indices\"])\n",
    "\n",
    "val_dl = Iterable_Aggregator((datasets.source.original.val,datasets.target.original.val))\n",
    "\n",
    "confusion = ptn_confusion_by_domain_over_dataloader(model, p.device, val_dl)\n",
    "per_domain_accuracy = per_domain_accuracy_from_confusion(confusion)\n",
    "\n",
    "# Add a key to per_domain_accuracy for if it was a source domain\n",
    "for domain, accuracy in per_domain_accuracy.items():\n",
    "    per_domain_accuracy[domain] = {\n",
    "        \"accuracy\": accuracy,\n",
    "        \"source?\": domain in p.domains_source\n",
    "    }\n",
    "\n",
    "# Do an independent accuracy assesment JUST TO BE SURE!\n",
    "# _source_test_label_accuracy = independent_accuracy_assesment(model, datasets.source.processed.test, p.device)\n",
    "# _target_test_label_accuracy = independent_accuracy_assesment(model, datasets.target.processed.test, p.device)\n",
    "# _source_val_label_accuracy = independent_accuracy_assesment(model, datasets.source.processed.val, p.device)\n",
    "# _target_val_label_accuracy = independent_accuracy_assesment(model, datasets.target.processed.val, p.device)\n",
    "\n",
    "# assert(_source_test_label_accuracy == source_test_label_accuracy)\n",
    "# assert(_target_test_label_accuracy == target_test_label_accuracy)\n",
    "# assert(_source_val_label_accuracy == source_val_label_accuracy)\n",
    "# assert(_target_val_label_accuracy == target_val_label_accuracy)\n",
    "\n",
    "experiment = {\n",
    "    \"experiment_name\": p.experiment_name,\n",
    "    \"parameters\": dict(p),\n",
    "    \"results\": {\n",
    "        \"source_test_label_accuracy\": source_test_label_accuracy,\n",
    "        \"source_test_label_loss\": source_test_label_loss,\n",
    "        \"target_test_label_accuracy\": target_test_label_accuracy,\n",
    "        \"target_test_label_loss\": target_test_label_loss,\n",
    "        \"source_val_label_accuracy\": source_val_label_accuracy,\n",
    "        \"source_val_label_loss\": source_val_label_loss,\n",
    "        \"target_val_label_accuracy\": target_val_label_accuracy,\n",
    "        \"target_val_label_loss\": target_val_label_loss,\n",
    "        \"total_epochs_trained\": total_epochs_trained,\n",
    "        \"total_experiment_time_secs\": total_experiment_time_secs,\n",
    "        \"confusion\": confusion,\n",
    "        \"per_domain_accuracy\": per_domain_accuracy,\n",
    "    },\n",
    "    \"history\": history,\n",
    "    \"dataset_metrics\": get_dataset_metrics(datasets, \"ptn\"),\n",
    "}"
   ]
  },
  {
   "cell_type": "code",
   "execution_count": 25,
   "id": "54a21829",
   "metadata": {
    "execution": {
     "iopub.execute_input": "2022-03-25T16:43:27.029080Z",
     "iopub.status.busy": "2022-03-25T16:43:27.027760Z",
     "iopub.status.idle": "2022-03-25T16:43:27.147587Z",
     "shell.execute_reply": "2022-03-25T16:43:27.147307Z"
    },
    "papermill": {
     "duration": 0.158859,
     "end_time": "2022-03-25T16:43:27.147660",
     "exception": false,
     "start_time": "2022-03-25T16:43:26.988801",
     "status": "completed"
    },
    "tags": []
   },
   "outputs": [
    {
     "data": {
      "image/png": "[encoded data removed]",
      "text/plain": [
       "<Figure size 1080x504 with 1 Axes>"
      ]
     },
     "metadata": {
      "needs_background": "light"
     },
     "output_type": "display_data"
    }
   ],
   "source": [
    "ax = get_loss_curve(experiment)\n",
    "plt.show()"
   ]
  },
  {
   "cell_type": "code",
   "execution_count": 26,
   "id": "fd8a0f60",
   "metadata": {
    "execution": {
     "iopub.execute_input": "2022-03-25T16:43:27.230614Z",
     "iopub.status.busy": "2022-03-25T16:43:27.230197Z",
     "iopub.status.idle": "2022-03-25T16:43:27.392252Z",
     "shell.execute_reply": "2022-03-25T16:43:27.392489Z"
    },
    "papermill": {
     "duration": 0.20332,
     "end_time": "2022-03-25T16:43:27.392573",
     "exception": false,
     "start_time": "2022-03-25T16:43:27.189253",
     "status": "completed"
    },
    "tags": []
   },
   "outputs": [
    {
     "data": {
      "text/plain": [
       "<AxesSubplot:title={'center':'Results'}>"
      ]
     },
     "execution_count": 26,
     "metadata": {},
     "output_type": "execute_result"
    },
    {
     "data": {
      "image/png": "[encoded data removed]",
      "text/plain": [
       "<Figure size 1080x504 with 1 Axes>"
      ]
     },
     "metadata": {
      "needs_background": "light"
     },
     "output_type": "display_data"
    }
   ],
   "source": [
    "get_results_table(experiment)"
   ]
  },
  {
   "cell_type": "code",
   "execution_count": 27,
   "id": "cf8dc689",
   "metadata": {
    "execution": {
     "iopub.execute_input": "2022-03-25T16:43:27.480238Z",
     "iopub.status.busy": "2022-03-25T16:43:27.479820Z",
     "iopub.status.idle": "2022-03-25T16:43:27.619771Z",
     "shell.execute_reply": "2022-03-25T16:43:27.620006Z"
    },
    "papermill": {
     "duration": 0.18399,
     "end_time": "2022-03-25T16:43:27.620089",
     "exception": false,
     "start_time": "2022-03-25T16:43:27.436099",
     "status": "completed"
    },
    "tags": []
   },
   "outputs": [
    {
     "data": {
      "text/plain": [
       "<AxesSubplot:title={'center':'Per Domain Validation Accuracy'}, xlabel='domain'>"
      ]
     },
     "execution_count": 27,
     "metadata": {},
     "output_type": "execute_result"
    },
    {
     "data": {
      "image/png": "[encoded data removed]",
      "text/plain": [
       "<Figure size 1080x504 with 1 Axes>"
      ]
     },
     "metadata": {
      "needs_background": "light"
     },
     "output_type": "display_data"
    }
   ],
   "source": [
    "get_domain_accuracies(experiment)"
   ]
  },
  {
   "cell_type": "code",
   "execution_count": 28,
   "id": "a74ae082",
   "metadata": {
    "execution": {
     "iopub.execute_input": "2022-03-25T16:43:27.709759Z",
     "iopub.status.busy": "2022-03-25T16:43:27.709341Z",
     "iopub.status.idle": "2022-03-25T16:43:27.722036Z",
     "shell.execute_reply": "2022-03-25T16:43:27.722267Z"
    },
    "papermill": {
     "duration": 0.05872,
     "end_time": "2022-03-25T16:43:27.722344",
     "exception": false,
     "start_time": "2022-03-25T16:43:27.663624",
     "status": "completed"
    },
    "tags": []
   },
   "outputs": [
    {
     "name": "stdout",
     "output_type": "stream",
     "text": [
      "Source Test Label Accuracy: 0.9989127384960719 Target Test Label Accuracy: 0.5582682291666666\n",
      "Source Val Label Accuracy: 0.9991081621004566 Target Val Label Accuracy: 0.5530924479166667\n"
     ]
    }
   ],
   "source": [
    "print(\"Source Test Label Accuracy:\", experiment[\"results\"][\"source_test_label_accuracy\"], \"Target Test Label Accuracy:\", experiment[\"results\"][\"target_test_label_accuracy\"])\n",
    "print(\"Source Val Label Accuracy:\", experiment[\"results\"][\"source_val_label_accuracy\"], \"Target Val Label Accuracy:\", experiment[\"results\"][\"target_val_label_accuracy\"])"
   ]
  },
  {
   "cell_type": "code",
   "execution_count": 29,
   "id": "dacca602",
   "metadata": {
    "execution": {
     "iopub.execute_input": "2022-03-25T16:43:27.810230Z",
     "iopub.status.busy": "2022-03-25T16:43:27.809810Z",
     "iopub.status.idle": "2022-03-25T16:43:27.824398Z",
     "shell.execute_reply": "2022-03-25T16:43:27.824141Z"
    },
    "papermill": {
     "duration": 0.058714,
     "end_time": "2022-03-25T16:43:27.824462",
     "exception": false,
     "start_time": "2022-03-25T16:43:27.765748",
     "status": "completed"
    },
    "tags": [
     "experiment_json"
    ]
   },
   "outputs": [
    {
     "data": {
      "text/plain": [
       "'{\"experiment_name\": \"tl_3-filterv2:cores -> oracle.run1.framed\", \"parameters\": {\"experiment_name\": \"tl_3-filterv2:cores -> oracle.run1.framed\", \"device\": \"cuda\", \"lr\": 0.0001, \"x_shape\": [2, 200], \"n_shot\": 3, \"n_query\": 2, \"train_k_factor\": 3, \"val_k_factor\": 2, \"test_k_factor\": 2, \"torch_default_dtype\": \"torch.float32\", \"n_epoch\": 50, \"patience\": 3, \"criteria_for_best\": \"target_accuracy\", \"x_net\": [{\"class\": \"nnReshape\", \"kargs\": {\"shape\": [-1, 1, 2, 200]}}, {\"class\": \"Conv2d\", \"kargs\": {\"in_channels\": 1, \"out_channels\": 256, \"kernel_size\": [1, 7], \"bias\": false, \"padding\": [0, 3]}}, {\"class\": \"ReLU\", \"kargs\": {\"inplace\": true}}, {\"class\": \"BatchNorm2d\", \"kargs\": {\"num_features\": 256}}, {\"class\": \"Conv2d\", \"kargs\": {\"in_channels\": 256, \"out_channels\": 80, \"kernel_size\": [2, 7], \"bias\": true, \"padding\": [0, 3]}}, {\"class\": \"ReLU\", \"kargs\": {\"inplace\": true}}, {\"class\": \"BatchNorm2d\", \"kargs\": {\"num_features\": 80}}, {\"class\": \"Flatten\", \"kargs\": {}}, {\"class\": \"Linear\", \"kargs\": {\"in_features\": 16000, \"out_features\": 256}}, {\"class\": \"ReLU\", \"kargs\": {\"inplace\": true}}, {\"class\": \"BatchNorm1d\", \"kargs\": {\"num_features\": 256}}, {\"class\": \"Linear\", \"kargs\": {\"in_features\": 256, \"out_features\": 256}}], \"NUM_LOGS_PER_EPOCH\": 10, \"BEST_MODEL_PATH\": \"./best_model.pth\", \"n_way\": 16, \"datasets\": [{\"labels\": [\"1-10.\", \"1-11.\", \"1-15.\", \"1-16.\", \"1-17.\", \"1-18.\", \"1-19.\", \"10-4.\", \"10-7.\", \"11-1.\", \"11-14.\", \"11-17.\", \"11-20.\", \"11-7.\", \"13-20.\", \"13-8.\", \"14-10.\", \"14-11.\", \"14-14.\", \"14-7.\", \"15-1.\", \"15-20.\", \"16-1.\", \"16-16.\", \"17-10.\", \"17-11.\", \"17-2.\", \"19-1.\", \"19-16.\", \"19-19.\", \"19-20.\", \"19-3.\", \"2-10.\", \"2-11.\", \"2-17.\", \"2-18.\", \"2-20.\", \"2-3.\", \"2-4.\", \"2-5.\", \"2-6.\", \"2-7.\", \"2-8.\", \"3-13.\", \"3-18.\", \"3-3.\", \"4-1.\", \"4-10.\", \"4-11.\", \"4-19.\", \"5-5.\", \"6-15.\", \"7-10.\", \"7-14.\", \"8-18.\", \"8-20.\", \"8-3.\", \"8-8.\"], \"domains\": [1, 2, 3, 4, 5], \"num_examples_per_domain_per_label\": -1, \"pickle_path\": \"/mnt/wd500GB/CSC500/csc500-main/datasets/cores.stratified_ds.2022A.pkl\", \"source_or_target_dataset\": \"source\", \"x_transforms\": [\"lowpass_+/-10MHz\", \"take_200\"], \"episode_transforms\": [], \"domain_prefix\": \"C_\"}, {\"labels\": [\"3123D52\", \"3123D65\", \"3123D79\", \"3123D80\", \"3123D54\", \"3123D70\", \"3123D7B\", \"3123D89\", \"3123D58\", \"3123D76\", \"3123D7D\", \"3123EFE\", \"3123D64\", \"3123D78\", \"3123D7E\", \"3124E4A\"], \"domains\": [32, 38, 8, 44, 14, 50, 20, 26], \"num_examples_per_domain_per_label\": 2000, \"pickle_path\": \"/mnt/wd500GB/CSC500/csc500-main/datasets/oracle.Run1_framed_2000Examples_stratified_ds.2022A.pkl\", \"source_or_target_dataset\": \"target\", \"x_transforms\": [\"take_200\", \"resample_20Msps_to_25Msps\"], \"episode_transforms\": [], \"domain_prefix\": \"O_\"}], \"seed\": 1337, \"dataset_seed\": 1337, \"domains_source\": [\"C_1\", \"C_2\", \"C_3\", \"C_4\", \"C_5\"], \"domains_target\": [\"O_32\", \"O_38\", \"O_8\", \"O_44\", \"O_14\", \"O_50\", \"O_20\", \"O_26\"]}, \"results\": {\"source_test_label_accuracy\": 0.9989127384960719, \"source_test_label_loss\": 0.014988466165959835, \"target_test_label_accuracy\": 0.5582682291666666, \"target_test_label_loss\": 1.4375765323638916, \"source_val_label_accuracy\": 0.9991081621004566, \"source_val_label_loss\": 0.013407100923359394, \"target_val_label_accuracy\": 0.5530924479166667, \"target_val_label_loss\": 1.4395842552185059, \"total_epochs_trained\": 11, \"total_experiment_time_secs\": 3088.2130970954895, \"confusion\": {\"C_3\": {\"43\": {\"43\": 128}, \"9\": {\"9\": 150}, \"6\": {\"6\": 88}, \"3\": {\"3\": 144}, \"16\": {\"16\": 134}, \"51\": {\"51\": 128}, \"31\": {\"31\": 28}, \"46\": {\"46\": 134}, \"19\": {\"19\": 124}, \"8\": {\"8\": 152}, \"18\": {\"18\": 84}, \"37\": {\"37\": 28}, \"24\": {\"24\": 104}, \"10\": {\"10\": 64}, \"44\": {\"44\": 88}, \"14\": {\"14\": 40}, \"38\": {\"38\": 28}, \"53\": {\"53\": 140}, \"20\": {\"20\": 132}, \"32\": {\"32\": 28}, \"36\": {\"36\": 100}, \"33\": {\"33\": 28}, \"56\": {\"56\": 136}, \"23\": {\"23\": 130}, \"54\": {\"54\": 100}, \"21\": {\"21\": 126}, \"28\": {\"28\": 28}, \"26\": {\"26\": 24}, \"48\": {\"48\": 116}, \"52\": {\"52\": 118}, \"39\": {\"39\": 16}, \"22\": {\"22\": 140}, \"13\": {\"13\": 128}, \"2\": {\"2\": 32}, \"34\": {\"34\": 32}, \"27\": {\"27\": 132}, \"45\": {\"45\": 60}, \"35\": {\"35\": 28}, \"29\": {\"29\": 128}, \"25\": {\"25\": 144}, \"0\": {\"0\": 124}, \"41\": {\"41\": 28}, \"11\": {\"11\": 142}, \"5\": {\"5\": 108}, \"1\": {\"1\": 100}, \"57\": {\"57\": 116}, \"17\": {\"17\": 106, \"26\": 1, \"55\": 1}, \"7\": {\"7\": 36}, \"12\": {\"12\": 92}, \"47\": {\"47\": 92}, \"40\": {\"40\": 136}, \"15\": {\"15\": 142}, \"42\": {\"42\": 28}, \"55\": {\"55\": 150}, \"49\": {\"49\": 20}, \"30\": {\"30\": 120}, \"50\": {\"50\": 134}, \"4\": {\"4\": 136}}, \"C_4\": {\"35\": {\"35\": 40}, \"25\": {\"25\": 134}, \"24\": {\"24\": 56}, \"48\": {\"48\": 138}, \"51\": {\"51\": 144}, \"13\": {\"13\": 120}, \"14\": {\"14\": 15, \"46\": 1}, \"32\": {\"32\": 24}, \"30\": {\"30\": 44}, \"34\": {\"34\": 23, \"28\": 1}, \"9\": {\"9\": 136}, \"1\": {\"1\": 40}, \"0\": {\"0\": 80}, \"38\": {\"38\": 40}, \"22\": {\"22\": 128}, \"40\": {\"40\": 120}, \"6\": {\"6\": 112}, \"16\": {\"16\": 96}, \"11\": {\"11\": 104}, \"20\": {\"20\": 122}, \"17\": {\"17\": 80}, \"26\": {\"26\": 24}, \"54\": {\"54\": 108}, \"55\": {\"55\": 154}, \"50\": {\"50\": 129, \"18\": 1, \"3\": 2}, \"19\": {\"19\": 142}, \"44\": {\"44\": 122}, \"47\": {\"47\": 120}, \"33\": {\"33\": 36}, \"5\": {\"5\": 108}, \"18\": {\"18\": 108}, \"21\": {\"21\": 123, \"30\": 1}, \"41\": {\"41\": 36}, \"23\": {\"23\": 128}, \"39\": {\"39\": 20}, \"37\": {\"37\": 24}, \"8\": {\"8\": 144}, \"49\": {\"49\": 20}, \"53\": {\"53\": 140}, \"31\": {\"31\": 28}, \"28\": {\"28\": 32}, \"3\": {\"3\": 123, \"50\": 1}, \"27\": {\"27\": 138}, \"46\": {\"46\": 126, \"22\": 2}, \"12\": {\"12\": 92}, \"7\": {\"7\": 24}, \"4\": {\"4\": 132}, \"42\": {\"42\": 32}, \"43\": {\"43\": 130}, \"29\": {\"29\": 120}, \"57\": {\"57\": 100}, \"52\": {\"52\": 104}, \"45\": {\"45\": 96}, \"36\": {\"36\": 92}, \"10\": {\"10\": 126}, \"15\": {\"15\": 134}, \"56\": {\"56\": 124}, \"2\": {\"2\": 36}}, \"C_5\": {\"47\": {\"47\": 100}, \"53\": {\"53\": 150}, \"29\": {\"29\": 126}, \"52\": {\"52\": 130}, \"55\": {\"55\": 144}, \"17\": {\"17\": 116}, \"42\": {\"42\": 40}, \"33\": {\"33\": 32}, \"11\": {\"11\": 148}, \"19\": {\"19\": 118}, \"1\": {\"1\": 144}, \"44\": {\"44\": 142}, \"49\": {\"49\": 36}, \"4\": {\"4\": 100}, \"6\": {\"6\": 116}, \"39\": {\"39\": 20}, \"50\": {\"50\": 147, \"6\": 1}, \"56\": {\"56\": 130}, \"25\": {\"25\": 144}, \"28\": {\"28\": 32}, \"35\": {\"35\": 36}, \"24\": {\"24\": 80}, \"21\": {\"21\": 132}, \"45\": {\"45\": 124}, \"16\": {\"16\": 144}, \"37\": {\"37\": 23, \"14\": 1}, \"57\": {\"57\": 132}, \"34\": {\"34\": 35, \"49\": 1}, \"38\": {\"38\": 32}, \"48\": {\"48\": 130}, \"26\": {\"26\": 24}, \"9\": {\"9\": 152}, \"18\": {\"18\": 64}, \"3\": {\"3\": 99, \"5\": 1}, \"23\": {\"23\": 124}, \"15\": {\"15\": 154}, \"10\": {\"10\": 68}, \"46\": {\"46\": 148}, \"22\": {\"22\": 27, \"56\": 1}, \"54\": {\"54\": 112}, \"27\": {\"27\": 160}, \"41\": {\"41\": 28}, \"31\": {\"31\": 36}, \"0\": {\"0\": 124}, \"7\": {\"7\": 32}, \"2\": {\"2\": 28}, \"14\": {\"14\": 44}, \"40\": {\"40\": 124}, \"5\": {\"5\": 128}, \"12\": {\"12\": 96}, \"43\": {\"43\": 142}, \"13\": {\"13\": 148}, \"36\": {\"36\": 91, \"41\": 1}, \"8\": {\"8\": 150}, \"32\": {\"32\": 32}, \"30\": {\"30\": 128}, \"51\": {\"51\": 138}, \"20\": {\"20\": 138}}, \"C_1\": {\"46\": {\"46\": 140}, \"16\": {\"16\": 134}, \"26\": {\"26\": 24}, \"10\": {\"10\": 96}, \"9\": {\"9\": 155, \"53\": 1}, \"28\": {\"28\": 28}, \"51\": {\"51\": 156}, \"1\": {\"1\": 100}, \"55\": {\"55\": 148}, \"27\": {\"27\": 124}, \"22\": {\"22\": 124}, \"52\": {\"52\": 126}, \"3\": {\"3\": 140}, \"33\": {\"33\": 32}, \"47\": {\"47\": 120}, \"42\": {\"42\": 40}, \"12\": {\"12\": 116}, \"23\": {\"23\": 132}, \"49\": {\"49\": 31, \"43\": 1}, \"7\": {\"7\": 28}, \"4\": {\"4\": 132}, \"50\": {\"50\": 134}, \"19\": {\"19\": 154}, \"11\": {\"11\": 140}, \"31\": {\"31\": 28}, \"41\": {\"41\": 24}, \"56\": {\"56\": 138}, \"0\": {\"0\": 148}, \"57\": {\"57\": 128}, \"53\": {\"53\": 140}, \"43\": {\"43\": 144}, \"37\": {\"37\": 32}, \"2\": {\"2\": 36}, \"6\": {\"6\": 96}, \"13\": {\"13\": 150}, \"18\": {\"18\": 72}, \"36\": {\"36\": 64}, \"29\": {\"29\": 140}, \"39\": {\"39\": 28}, \"17\": {\"17\": 64}, \"21\": {\"21\": 124}, \"25\": {\"25\": 132}, \"45\": {\"45\": 142}, \"38\": {\"21\": 2, \"38\": 20, \"36\": 2}, \"30\": {\"30\": 120}, \"24\": {\"24\": 108}, \"20\": {\"20\": 140}, \"8\": {\"8\": 140}, \"35\": {\"35\": 36}, \"54\": {\"54\": 104}, \"5\": {\"5\": 148}, \"48\": {\"48\": 144}, \"15\": {\"15\": 142}, \"34\": {\"34\": 24}, \"14\": {\"14\": 24}, \"32\": {\"32\": 32}, \"40\": {\"40\": 148}, \"44\": {\"44\": 136}}, \"C_2\": {\"36\": {\"36\": 116}, \"5\": {\"5\": 120}, \"45\": {\"45\": 128}, \"49\": {\"49\": 23, \"54\": 1}, \"50\": {\"50\": 136}, \"4\": {\"4\": 138}, \"43\": {\"43\": 148}, \"41\": {\"41\": 19, \"9\": 1}, \"37\": {\"37\": 36}, \"12\": {\"12\": 92}, \"33\": {\"33\": 28}, \"7\": {\"7\": 36}, \"56\": {\"56\": 140}, \"14\": {\"14\": 24}, \"52\": {\"52\": 124}, \"44\": {\"44\": 96}, \"48\": {\"48\": 144}, \"20\": {\"20\": 128}, \"55\": {\"55\": 144}, \"32\": {\"32\": 28}, \"40\": {\"40\": 136}, \"54\": {\"54\": 108}, \"17\": {\"17\": 104}, \"38\": {\"38\": 20}, \"24\": {\"24\": 96}, \"1\": {\"1\": 112}, \"6\": {\"6\": 124}, \"34\": {\"34\": 28}, \"11\": {\"11\": 136}, \"9\": {\"9\": 150}, \"8\": {\"8\": 152}, \"22\": {\"22\": 136}, \"26\": {\"26\": 24}, \"23\": {\"23\": 146}, \"10\": {\"10\": 112}, \"18\": {\"18\": 48}, \"13\": {\"13\": 116}, \"30\": {\"30\": 128}, \"42\": {\"42\": 36}, \"31\": {\"31\": 28}, \"46\": {\"46\": 128}, \"57\": {\"57\": 142}, \"47\": {\"47\": 138}, \"35\": {\"35\": 32}, \"15\": {\"15\": 132}, \"25\": {\"25\": 136}, \"19\": {\"19\": 136}, \"51\": {\"51\": 128}, \"53\": {\"53\": 134}, \"21\": {\"21\": 120}, \"39\": {\"39\": 28}, \"2\": {\"2\": 32}, \"16\": {\"16\": 150}, \"0\": {\"0\": 48}, \"3\": {\"3\": 92}, \"27\": {\"27\": 142}, \"28\": {\"28\": 28}, \"29\": {\"29\": 128}}, \"O_14\": {\"15\": {\"15\": 240}, \"3\": {\"6\": 39, \"14\": 30, \"3\": 124, \"13\": 15, \"0\": 15, \"7\": 4, \"2\": 9, \"5\": 3, \"8\": 1}, \"6\": {\"14\": 22, \"6\": 117, \"3\": 30, \"13\": 67, \"2\": 3, \"0\": 1}, \"1\": {\"1\": 235, \"4\": 1, \"9\": 4}, \"8\": {\"8\": 177, \"0\": 9, \"4\": 15, \"5\": 32, \"2\": 2, \"14\": 3, \"7\": 1, \"3\": 1}, \"10\": {\"10\": 191, \"4\": 17, \"9\": 21, \"12\": 9, \"0\": 2}, \"9\": {\"9\": 215, \"10\": 17, \"1\": 8}, \"13\": {\"13\": 54, \"4\": 12, \"14\": 34, \"2\": 20, \"15\": 22, \"6\": 62, \"0\": 19, \"3\": 10, \"5\": 6, \"10\": 1}, \"12\": {\"12\": 218, \"10\": 12, \"0\": 7, \"8\": 3}, \"5\": {\"5\": 102, \"4\": 21, \"2\": 52, \"8\": 20, \"14\": 14, \"13\": 3, \"7\": 18, \"0\": 8, \"3\": 2}, \"0\": {\"0\": 102, \"3\": 38, \"2\": 18, \"4\": 6, \"5\": 8, \"12\": 6, \"14\": 25, \"13\": 17, \"8\": 9, \"6\": 8, \"10\": 3}, \"2\": {\"4\": 28, \"2\": 59, \"14\": 36, \"6\": 11, \"8\": 4, \"5\": 52, \"3\": 25, \"13\": 11, \"7\": 9, \"0\": 5}, \"11\": {\"11\": 238, \"9\": 2}, \"14\": {\"2\": 32, \"14\": 83, \"13\": 30, \"6\": 19, \"3\": 37, \"5\": 15, \"0\": 24}, \"7\": {\"2\": 14, \"7\": 194, \"5\": 21, \"4\": 1, \"3\": 4, \"14\": 5, \"8\": 1}, \"4\": {\"4\": 164, \"10\": 15, \"8\": 13, \"5\": 26, \"14\": 1, \"2\": 16, \"0\": 4, \"1\": 1}}, \"O_20\": {\"3\": {\"4\": 2, \"5\": 45, \"3\": 55, \"14\": 18, \"9\": 48, \"8\": 25, \"15\": 4, \"0\": 7, \"2\": 3, \"12\": 7, \"7\": 7, \"1\": 19}, \"15\": {\"15\": 48, \"9\": 18, \"13\": 24, \"12\": 40, \"2\": 39, \"1\": 24, \"3\": 8, \"10\": 6, \"7\": 9, \"4\": 12, \"5\": 12}, \"8\": {\"8\": 78, \"3\": 35, \"9\": 10, \"14\": 69, \"0\": 12, \"5\": 14, \"6\": 10, \"2\": 1, \"7\": 8, \"1\": 3}, \"4\": {\"10\": 27, \"1\": 10, \"12\": 39, \"2\": 23, \"6\": 4, \"5\": 8, \"4\": 64, \"15\": 20, \"7\": 18, \"9\": 12, \"13\": 10, \"3\": 5}, \"14\": {\"14\": 111, \"3\": 14, \"8\": 76, \"0\": 4, \"7\": 6, \"6\": 16, \"2\": 2, \"5\": 7, \"9\": 2, \"1\": 1, \"11\": 1}, \"0\": {\"0\": 174, \"14\": 12, \"11\": 9, \"3\": 14, \"1\": 1, \"8\": 17, \"5\": 13}, \"7\": {\"9\": 26, \"2\": 26, \"7\": 65, \"3\": 19, \"6\": 31, \"10\": 7, \"1\": 3, \"5\": 10, \"4\": 12, \"13\": 12, \"12\": 11, \"15\": 9, \"8\": 3, \"14\": 6}, \"6\": {\"2\": 22, \"6\": 113, \"14\": 18, \"7\": 48, \"4\": 12, \"12\": 1, \"10\": 5, \"13\": 5, \"9\": 2, \"8\": 8, \"3\": 3, \"15\": 2, \"5\": 1}, \"10\": {\"13\": 22, \"10\": 142, \"12\": 18, \"2\": 8, \"4\": 37, \"7\": 5, \"15\": 4, \"6\": 3, \"1\": 1}, \"5\": {\"3\": 49, \"15\": 15, \"7\": 8, \"9\": 31, \"2\": 7, \"1\": 34, \"5\": 60, \"4\": 9, \"8\": 9, \"12\": 6, \"14\": 6, \"0\": 4, \"6\": 2}, \"2\": {\"13\": 53, \"2\": 56, \"15\": 18, \"5\": 6, \"7\": 20, \"9\": 24, \"12\": 29, \"10\": 5, \"6\": 8, \"4\": 11, \"14\": 1, \"1\": 4, \"3\": 5}, \"12\": {\"12\": 41, \"2\": 39, \"13\": 32, \"1\": 15, \"15\": 34, \"4\": 19, \"7\": 19, \"5\": 7, \"10\": 9, \"9\": 19, \"6\": 2, \"3\": 4}, \"9\": {\"3\": 38, \"15\": 23, \"5\": 50, \"2\": 15, \"1\": 31, \"9\": 33, \"12\": 11, \"14\": 6, \"7\": 13, \"4\": 6, \"8\": 9, \"0\": 1, \"13\": 2, \"6\": 2}, \"1\": {\"1\": 44, \"15\": 38, \"3\": 37, \"2\": 12, \"9\": 31, \"4\": 13, \"12\": 19, \"10\": 1, \"5\": 30, \"14\": 4, \"7\": 5, \"13\": 2, \"8\": 3, \"0\": 1}, \"11\": {\"11\": 225, \"8\": 6, \"0\": 7, \"14\": 2}, \"13\": {\"2\": 36, \"15\": 19, \"7\": 10, \"13\": 124, \"9\": 3, \"1\": 2, \"10\": 21, \"12\": 17, \"4\": 6, \"6\": 2}}, \"O_38\": {\"5\": {\"5\": 64, \"8\": 86, \"9\": 40, \"2\": 7, \"15\": 28, \"12\": 5, \"7\": 10}, \"8\": {\"9\": 31, \"8\": 60, \"15\": 27, \"7\": 21, \"5\": 67, \"12\": 10, \"2\": 21, \"14\": 2, \"13\": 1}, \"11\": {\"11\": 239, \"3\": 1}, \"1\": {\"1\": 185, \"6\": 55}, \"10\": {\"0\": 39, \"10\": 127, \"13\": 24, \"3\": 12, \"4\": 38}, \"15\": {\"15\": 189, \"1\": 9, \"5\": 21, \"8\": 16, \"6\": 3, \"12\": 2}, \"3\": {\"3\": 229, \"10\": 4, \"11\": 6, \"0\": 1}, \"7\": {\"8\": 23, \"13\": 16, \"7\": 140, \"14\": 11, \"2\": 21, \"5\": 3, \"12\": 2, \"9\": 6, \"0\": 17, \"10\": 1}, \"4\": {\"10\": 35, \"4\": 197, \"0\": 8}, \"14\": {\"2\": 57, \"14\": 142, \"0\": 4, \"13\": 17, \"4\": 3, \"10\": 1, \"7\": 14, \"12\": 2}, \"9\": {\"9\": 148, \"8\": 32, \"5\": 42, \"2\": 7, \"7\": 10, \"0\": 1}, \"12\": {\"12\": 204, \"8\": 17, \"5\": 16, \"14\": 2, \"7\": 1}, \"6\": {\"6\": 176, \"1\": 63, \"15\": 1}, \"2\": {\"14\": 43, \"2\": 152, \"8\": 16, \"9\": 8, \"13\": 7, \"7\": 10, \"5\": 2, \"12\": 2}, \"0\": {\"7\": 35, \"8\": 3, \"0\": 72, \"10\": 59, \"13\": 42, \"3\": 14, \"4\": 10, \"9\": 1, \"5\": 1, \"2\": 3}, \"13\": {\"13\": 136, \"14\": 23, \"2\": 11, \"10\": 13, \"0\": 40, \"7\": 17}}, \"O_8\": {\"9\": {\"9\": 240}, \"10\": {\"13\": 45, \"5\": 31, \"6\": 29, \"11\": 15, \"10\": 72, \"1\": 29, \"7\": 11, \"4\": 4, \"8\": 3, \"14\": 1}, \"13\": {\"7\": 47, \"13\": 74, \"5\": 19, \"6\": 25, \"10\": 55, \"1\": 14, \"8\": 2, \"11\": 4}, \"0\": {\"0\": 239, \"14\": 1}, \"1\": {\"1\": 71, \"11\": 46, \"4\": 8, \"6\": 23, \"13\": 10, \"5\": 46, \"10\": 25, \"8\": 6, \"7\": 5}, \"15\": {\"15\": 147, \"2\": 34, \"12\": 59}, \"5\": {\"11\": 17, \"5\": 100, \"10\": 50, \"13\": 25, \"1\": 35, \"6\": 4, \"7\": 5, \"4\": 4}, \"3\": {\"3\": 230, \"2\": 10}, \"6\": {\"6\": 81, \"13\": 20, \"4\": 19, \"7\": 51, \"8\": 22, \"1\": 19, \"10\": 11, \"11\": 15, \"5\": 2}, \"11\": {\"5\": 22, \"1\": 56, \"11\": 72, \"6\": 16, \"4\": 21, \"10\": 15, \"8\": 20, \"14\": 11, \"7\": 4, \"13\": 3}, \"8\": {\"8\": 108, \"14\": 9, \"6\": 31, \"4\": 47, \"11\": 26, \"1\": 11, \"5\": 2, \"13\": 2, \"7\": 4}, \"4\": {\"4\": 125, \"11\": 24, \"8\": 30, \"14\": 28, \"1\": 5, \"6\": 19, \"10\": 2, \"7\": 4, \"13\": 1, \"5\": 2}, \"12\": {\"12\": 160, \"15\": 61, \"2\": 19}, \"14\": {\"14\": 165, \"4\": 60, \"8\": 8, \"1\": 2, \"6\": 2, \"11\": 3}, \"2\": {\"3\": 46, \"12\": 25, \"2\": 138, \"15\": 31}, \"7\": {\"13\": 39, \"6\": 64, \"7\": 94, \"10\": 20, \"11\": 5, \"8\": 5, \"1\": 9, \"4\": 3, \"5\": 1}}, \"O_50\": {\"7\": {\"5\": 27, \"4\": 78, \"7\": 134, \"6\": 1}, \"3\": {\"3\": 207, \"5\": 19, \"13\": 10, \"6\": 3, \"15\": 1}, \"8\": {\"8\": 174, \"13\": 10, \"1\": 8, \"10\": 48}, \"2\": {\"2\": 157, \"14\": 23, \"0\": 59, \"10\": 1}, \"14\": {\"14\": 201, \"0\": 7, \"2\": 32}, \"4\": {\"4\": 104, \"7\": 97, \"15\": 7, \"5\": 27, \"6\": 5}, \"6\": {\"15\": 59, \"5\": 39, \"9\": 20, \"11\": 15, \"6\": 99, \"13\": 3, \"4\": 2, \"7\": 2, \"3\": 1}, \"15\": {\"15\": 105, \"9\": 29, \"6\": 66, \"5\": 20, \"11\": 17, \"4\": 3}, \"10\": {\"8\": 53, \"10\": 152, \"0\": 35}, \"11\": {\"11\": 110, \"12\": 51, \"6\": 8, \"9\": 48, \"13\": 3, \"15\": 17, \"5\": 2, \"1\": 1}, \"13\": {\"13\": 189, \"1\": 30, \"5\": 2, \"3\": 4, \"11\": 9, \"8\": 2, \"6\": 4}, \"9\": {\"6\": 12, \"11\": 44, \"9\": 113, \"12\": 28, \"15\": 39, \"5\": 3, \"4\": 1}, \"0\": {\"0\": 162, \"2\": 42, \"10\": 34, \"14\": 2}, \"1\": {\"1\": 155, \"13\": 50, \"8\": 5, \"10\": 22, \"0\": 4, \"11\": 2, \"2\": 1, \"12\": 1}, \"12\": {\"12\": 158, \"9\": 29, \"11\": 50, \"6\": 1, \"1\": 1, \"15\": 1}, \"5\": {\"4\": 34, \"5\": 77, \"6\": 32, \"13\": 12, \"7\": 51, \"11\": 11, \"15\": 19, \"9\": 1, \"3\": 1, \"1\": 2}}, \"O_32\": {\"8\": {\"2\": 10, \"14\": 33, \"8\": 83, \"4\": 3, \"5\": 30, \"0\": 43, \"7\": 33, \"15\": 4, \"3\": 1}, \"14\": {\"0\": 28, \"14\": 95, \"7\": 42, \"4\": 14, \"2\": 30, \"8\": 20, \"5\": 10, \"3\": 1}, \"2\": {\"4\": 76, \"2\": 130, \"14\": 13, \"3\": 5, \"7\": 2, \"13\": 9, \"8\": 3, \"0\": 1, \"9\": 1}, \"0\": {\"0\": 85, \"14\": 27, \"7\": 44, \"5\": 25, \"8\": 55, \"4\": 1, \"2\": 3}, \"1\": {\"1\": 240}, \"10\": {\"10\": 239, \"6\": 1}, \"11\": {\"11\": 220, \"9\": 2, \"13\": 13, \"4\": 3, \"3\": 2}, \"5\": {\"0\": 24, \"5\": 99, \"15\": 13, \"8\": 32, \"7\": 51, \"14\": 20, \"2\": 1}, \"15\": {\"15\": 217, \"7\": 3, \"8\": 4, \"0\": 6, \"5\": 10}, \"3\": {\"3\": 142, \"13\": 56, \"4\": 34, \"2\": 4, \"14\": 3, \"8\": 1}, \"12\": {\"12\": 232, \"9\": 8}, \"7\": {\"5\": 53, \"7\": 74, \"0\": 41, \"8\": 26, \"14\": 44, \"2\": 2}, \"13\": {\"3\": 56, \"13\": 108, \"4\": 45, \"11\": 15, \"2\": 12, \"8\": 1, \"9\": 3}, \"6\": {\"6\": 238, \"10\": 2}, \"4\": {\"2\": 76, \"14\": 5, \"4\": 92, \"3\": 34, \"13\": 31, \"8\": 2}, \"9\": {\"9\": 181, \"12\": 39, \"2\": 10, \"4\": 4, \"13\": 4, \"11\": 1, \"0\": 1}}, \"O_26\": {\"4\": {\"4\": 217, \"7\": 1, \"13\": 14, \"3\": 7, \"9\": 1}, \"12\": {\"12\": 189, \"8\": 15, \"9\": 19, \"3\": 1, \"2\": 2, \"13\": 10, \"7\": 3, \"4\": 1}, \"10\": {\"14\": 41, \"10\": 53, \"15\": 32, \"0\": 54, \"1\": 10, \"2\": 1, \"6\": 36, \"5\": 12, \"8\": 1}, \"0\": {\"7\": 9, \"14\": 50, \"0\": 75, \"10\": 42, \"8\": 20, \"2\": 19, \"15\": 9, \"12\": 1, \"6\": 7, \"3\": 1, \"1\": 3, \"9\": 3, \"5\": 1}, \"13\": {\"13\": 117, \"4\": 26, \"9\": 30, \"3\": 39, \"2\": 6, \"7\": 7, \"12\": 6, \"15\": 1, \"8\": 8}, \"9\": {\"8\": 38, \"3\": 27, \"9\": 65, \"13\": 29, \"2\": 36, \"0\": 13, \"7\": 24, \"15\": 2, \"12\": 1, \"10\": 3, \"4\": 1, \"14\": 1}, \"3\": {\"3\": 97, \"4\": 8, \"7\": 44, \"13\": 36, \"2\": 11, \"8\": 22, \"9\": 22}, \"2\": {\"2\": 73, \"0\": 20, \"3\": 26, \"8\": 34, \"7\": 44, \"13\": 6, \"9\": 27, \"14\": 3, \"10\": 3, \"15\": 4}, \"5\": {\"6\": 40, \"15\": 59, \"5\": 105, \"10\": 11, \"1\": 12, \"14\": 7, \"0\": 5, \"11\": 1}, \"14\": {\"14\": 61, \"0\": 34, \"10\": 58, \"6\": 31, \"1\": 19, \"15\": 30, \"5\": 6, \"2\": 1}, \"8\": {\"3\": 12, \"7\": 51, \"10\": 2, \"8\": 59, \"9\": 53, \"2\": 31, \"13\": 11, \"0\": 18, \"12\": 1, \"5\": 1, \"15\": 1}, \"7\": {\"3\": 52, \"7\": 57, \"2\": 39, \"8\": 48, \"9\": 39, \"13\": 3, \"0\": 1, \"12\": 1}, \"6\": {\"6\": 61, \"1\": 40, \"5\": 38, \"10\": 19, \"14\": 24, \"15\": 55, \"0\": 3}, \"11\": {\"11\": 213, \"1\": 8, \"6\": 7, \"5\": 6, \"10\": 3, \"14\": 1, \"15\": 2}, \"15\": {\"15\": 63, \"6\": 35, \"0\": 18, \"5\": 53, \"1\": 18, \"14\": 15, \"10\": 36, \"9\": 1, \"2\": 1}, \"1\": {\"1\": 145, \"5\": 13, \"14\": 25, \"6\": 35, \"15\": 5, \"10\": 12, \"0\": 5}}, \"O_44\": {\"12\": {\"12\": 130, \"3\": 110}, \"7\": {\"7\": 115, \"10\": 45, \"9\": 54, \"2\": 3, \"4\": 14, \"13\": 2, \"14\": 4, \"6\": 3}, \"5\": {\"5\": 88, \"14\": 51, \"15\": 49, \"4\": 39, \"8\": 8, \"7\": 1, \"2\": 2, \"9\": 2}, \"15\": {\"14\": 34, \"5\": 37, \"15\": 112, \"8\": 34, \"4\": 11, \"2\": 1, \"0\": 10, \"1\": 1}, \"8\": {\"0\": 91, \"8\": 103, \"15\": 38, \"4\": 2, \"5\": 3, \"14\": 3}, \"2\": {\"2\": 152, \"1\": 52, \"10\": 25, \"14\": 3, \"7\": 2, \"15\": 2, \"4\": 2, \"5\": 1, \"9\": 1}, \"13\": {\"13\": 149, \"6\": 78, \"11\": 2, \"9\": 11}, \"4\": {\"7\": 33, \"4\": 74, \"9\": 33, \"5\": 26, \"15\": 21, \"14\": 44, \"2\": 3, \"10\": 4, \"6\": 1, \"8\": 1}, \"0\": {\"8\": 70, \"0\": 166, \"1\": 1, \"15\": 3}, \"6\": {\"13\": 79, \"6\": 131, \"9\": 25, \"7\": 4, \"4\": 1}, \"9\": {\"7\": 79, \"4\": 21, \"10\": 19, \"6\": 38, \"9\": 53, \"13\": 19, \"5\": 3, \"14\": 4, \"2\": 3, \"1\": 1}, \"11\": {\"11\": 238, \"13\": 2}, \"10\": {\"7\": 55, \"10\": 124, \"2\": 23, \"9\": 26, \"1\": 5, \"6\": 2, \"4\": 4, \"14\": 1}, \"14\": {\"7\": 6, \"5\": 49, \"14\": 85, \"4\": 67, \"15\": 26, \"0\": 1, \"10\": 1, \"9\": 5}, \"1\": {\"1\": 184, \"2\": 48, \"3\": 1, \"8\": 1, \"15\": 3, \"4\": 1, \"0\": 1, \"12\": 1}, \"3\": {\"3\": 143, \"12\": 96, \"1\": 1}}}, \"per_domain_accuracy\": {\"C_3\": {\"accuracy\": 0.9996366279069767, \"source?\": true}, \"C_4\": {\"accuracy\": 0.9982954545454545, \"source?\": true}, \"C_5\": {\"accuracy\": 0.9989525139664804, \"source?\": true}, \"C_1\": {\"accuracy\": 0.9989754098360656, \"source?\": true}, \"C_2\": {\"accuracy\": 0.9996468926553672, \"source?\": true}, \"O_14\": {\"accuracy\": 0.6544270833333333, \"source?\": false}, \"O_20\": {\"accuracy\": 0.3731770833333333, \"source?\": false}, \"O_38\": {\"accuracy\": 0.640625, \"source?\": false}, \"O_8\": {\"accuracy\": 0.5510416666666667, \"source?\": false}, \"O_50\": {\"accuracy\": 0.5981770833333333, \"source?\": false}, \"O_32\": {\"accuracy\": 0.64453125, \"source?\": false}, \"O_26\": {\"accuracy\": 0.4296875, \"source?\": false}, \"O_44\": {\"accuracy\": 0.5330729166666667, \"source?\": false}}}, \"history\": {\"epoch_indices\": [1, 2, 3, 4, 5, 6, 7, 8, 9, 10, 11], \"train_label_loss\": [0.031012926562820266, 0.011128335230317137, 0.009619671636399369, 0.007020373027956039, 0.0058479165387772414, 0.004534645199028108, 0.004834903785035613, 0.004454467505742987, 0.004010211487085587, 0.004632112182447868, 0.003896302930231235], \"source_val_label_loss\": [0.011042657308280468, 0.021627774462103844, 0.008178889751434326, 0.013165381737053394, 0.009014621376991272, 0.033034179359674454, 0.013407100923359394, 0.010265099816024303, 0.009048259817063808, 0.012215093709528446, 0.007767366245388985], \"target_val_label_loss\": [2.0987730026245117, 1.9523165225982666, 1.8152066469192505, 2.0650529861450195, 1.5557957887649536, 2.031031847000122, 1.4395842552185059, 1.5672191381454468, 1.5695786476135254, 1.5774517059326172, 1.5964802503585815], \"source_val_acc_label\": [0.9982876712328768, 0.9976098744292238, 0.999322203196347, 0.9988584474885844, 0.999464897260274, 0.995148401826484, 0.9991081621004566, 0.9994292237442922, 0.9995005707762558, 0.9992151826484018, 0.9996789383561644], \"target_val_acc_label\": [0.48505859375, 0.489453125, 0.48981119791666666, 0.4451822916666667, 0.5173177083333333, 0.4400390625, 0.5530924479166667, 0.5136393229166667, 0.46767578125, 0.48590494791666666, 0.5085611979166667]}, \"dataset_metrics\": {\"source\": {\"train\": {\"n_unique_x\": 175173, \"n_unique_y\": 58, \"n_batch/episode\": 6325}, \"val\": {\"n_unique_x\": 37196, \"n_unique_y\": 58, \"n_batch/episode\": 876}, \"test\": {\"n_unique_x\": 37634, \"n_unique_y\": 58, \"n_batch/episode\": 891}}, \"target\": {\"train\": {\"n_unique_x\": 179200, \"n_unique_y\": 16, \"n_batch/episode\": 6720}, \"val\": {\"n_unique_x\": 38400, \"n_unique_y\": 16, \"n_batch/episode\": 960}, \"test\": {\"n_unique_x\": 38400, \"n_unique_y\": 16, \"n_batch/episode\": 960}}}}'"
      ]
     },
     "execution_count": 29,
     "metadata": {},
     "output_type": "execute_result"
    }
   ],
   "source": [
    "json.dumps(experiment)"
   ]
  }
 ],
 "metadata": {
  "celltoolbar": "Tags",
  "kernelspec": {
   "display_name": "Python 3 (ipykernel)",
   "language": "python",
   "name": "python3"
  },
  "language_info": {
   "codemirror_mode": {
    "name": "ipython",
    "version": 3
   },
   "file_extension": ".py",
   "mimetype": "text/x-python",
   "name": "python",
   "nbconvert_exporter": "python",
   "pygments_lexer": "ipython3",
   "version": "3.8.10"
  },
  "papermill": {
   "default_parameters": {},
   "duration": 3240.596606,
   "end_time": "2022-03-25T16:43:29.282087",
   "environment_variables": {},
   "exception": null,
   "input_path": "/mnt/wd500GB/CSC500/csc500-main/csc500-notebooks/templates/tl_ptn_template.ipynb",
   "output_path": "trial.ipynb",
   "parameters": {
    "parameters": {
     "BEST_MODEL_PATH": "./best_model.pth",
     "NUM_LOGS_PER_EPOCH": 10,
     "criteria_for_best": "target_accuracy",
     "dataset_seed": 1337,
     "datasets": [
      {
       "domain_prefix": "C_",
       "domains": [
        1,
        2,
        3,
        4,
        5
       ],
       "episode_transforms": [],
       "labels": [
        "1-10.",
        "1-11.",
        "1-15.",
        "1-16.",
        "1-17.",
        "1-18.",
        "1-19.",
        "10-4.",
        "10-7.",
        "11-1.",
        "11-14.",
        "11-17.",
        "11-20.",
        "11-7.",
        "13-20.",
        "13-8.",
        "14-10.",
        "14-11.",
        "14-14.",
        "14-7.",
        "15-1.",
        "15-20.",
        "16-1.",
        "16-16.",
        "17-10.",
        "17-11.",
        "17-2.",
        "19-1.",
        "19-16.",
        "19-19.",
        "19-20.",
        "19-3.",
        "2-10.",
        "2-11.",
        "2-17.",
        "2-18.",
        "2-20.",
        "2-3.",
        "2-4.",
        "2-5.",
        "2-6.",
        "2-7.",
        "2-8.",
        "3-13.",
        "3-18.",
        "3-3.",
        "4-1.",
        "4-10.",
        "4-11.",
        "4-19.",
        "5-5.",
        "6-15.",
        "7-10.",
        "7-14.",
        "8-18.",
        "8-20.",
        "8-3.",
        "8-8."
       ],
       "num_examples_per_domain_per_label": -1,
       "pickle_path": "/mnt/wd500GB/CSC500/csc500-main/datasets/cores.stratified_ds.2022A.pkl",
       "source_or_target_dataset": "source",
       "x_transforms": [
        "lowpass_+/-10MHz",
        "take_200"
       ]
      },
      {
       "domain_prefix": "O_",
       "domains": [
        32,
        38,
        8,
        44,
        14,
        50,
        20,
        26
       ],
       "episode_transforms": [],
       "labels": [
        "3123D52",
        "3123D65",
        "3123D79",
        "3123D80",
        "3123D54",
        "3123D70",
        "3123D7B",
        "3123D89",
        "3123D58",
        "3123D76",
        "3123D7D",
        "3123EFE",
        "3123D64",
        "3123D78",
        "3123D7E",
        "3124E4A"
       ],
       "num_examples_per_domain_per_label": 2000,
       "pickle_path": "/mnt/wd500GB/CSC500/csc500-main/datasets/oracle.Run1_framed_2000Examples_stratified_ds.2022A.pkl",
       "source_or_target_dataset": "target",
       "x_transforms": [
        "take_200",
        "resample_20Msps_to_25Msps"
       ]
      }
     ],
     "device": "cuda",
     "experiment_name": "tl_3-filterv2:cores -> oracle.run1.framed",
     "lr": 0.0001,
     "n_epoch": 50,
     "n_query": 2,
     "n_shot": 3,
     "n_way": 16,
     "patience": 3,
     "seed": 1337,
     "test_k_factor": 2,
     "torch_default_dtype": "torch.float32",
     "train_k_factor": 3,
     "val_k_factor": 2,
     "x_net": [
      {
       "class": "nnReshape",
       "kargs": {
        "shape": [
         -1,
         1,
         2,
         200
        ]
       }
      },
      {
       "class": "Conv2d",
       "kargs": {
        "bias": false,
        "in_channels": 1,
        "kernel_size": [
         1,
         7
        ],
        "out_channels": 256,
        "padding": [
         0,
         3
        ]
       }
      },
      {
       "class": "ReLU",
       "kargs": {
        "inplace": true
       }
      },
      {
       "class": "BatchNorm2d",
       "kargs": {
        "num_features": 256
       }
      },
      {
       "class": "Conv2d",
       "kargs": {
        "bias": true,
        "in_channels": 256,
        "kernel_size": [
         2,
         7
        ],
        "out_channels": 80,
        "padding": [
         0,
         3
        ]
       }
      },
      {
       "class": "ReLU",
       "kargs": {
        "inplace": true
       }
      },
      {
       "class": "BatchNorm2d",
       "kargs": {
        "num_features": 80
       }
      },
      {
       "class": "Flatten",
       "kargs": {}
      },
      {
       "class": "Linear",
       "kargs": {
        "in_features": 16000,
        "out_features": 256
       }
      },
      {
       "class": "ReLU",
       "kargs": {
        "inplace": true
       }
      },
      {
       "class": "BatchNorm1d",
       "kargs": {
        "num_features": 256
       }
      },
      {
       "class": "Linear",
       "kargs": {
        "in_features": 256,
        "out_features": 256
       }
      }
     ],
     "x_shape": [
      2,
      200
     ]
    }
   },
   "start_time": "2022-03-25T15:49:28.685481",
   "version": "2.3.4"
  }
 },
 "nbformat": 4,
 "nbformat_minor": 5
}