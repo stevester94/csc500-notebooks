{
 "cells": [
  {
   "cell_type": "markdown",
   "id": "9fea5f46",
   "metadata": {
    "papermill": {
     "duration": 0.017844,
     "end_time": "2022-03-25T19:27:32.314218",
     "exception": false,
     "start_time": "2022-03-25T19:27:32.296374",
     "status": "completed"
    },
    "tags": []
   },
   "source": [
    "# Transfer Learning Template"
   ]
  },
  {
   "cell_type": "code",
   "execution_count": 1,
   "id": "0902182a",
   "metadata": {
    "execution": {
     "iopub.execute_input": "2022-03-25T19:27:32.348606Z",
     "iopub.status.busy": "2022-03-25T19:27:32.348232Z",
     "iopub.status.idle": "2022-03-25T19:27:33.326845Z",
     "shell.execute_reply": "2022-03-25T19:27:33.326545Z"
    },
    "papermill": {
     "duration": 1.000017,
     "end_time": "2022-03-25T19:27:33.326916",
     "exception": false,
     "start_time": "2022-03-25T19:27:32.326899",
     "status": "completed"
    },
    "tags": []
   },
   "outputs": [],
   "source": [
    "%load_ext autoreload\n",
    "%autoreload 2\n",
    "%matplotlib inline\n",
    "\n",
    "    \n",
    "import os, json, sys, time, random\n",
    "import numpy as np\n",
    "import torch\n",
    "from torch.optim import Adam\n",
    "from  easydict import EasyDict\n",
    "import matplotlib.pyplot as plt\n",
    "\n",
    "from steves_models.steves_ptn import Steves_Prototypical_Network\n",
    "\n",
    "from steves_utils.lazy_iterable_wrapper import Lazy_Iterable_Wrapper\n",
    "from steves_utils.iterable_aggregator import Iterable_Aggregator\n",
    "from steves_utils.ptn_train_eval_test_jig import  PTN_Train_Eval_Test_Jig\n",
    "from steves_utils.torch_sequential_builder import build_sequential\n",
    "from steves_utils.torch_utils import get_dataset_metrics, ptn_confusion_by_domain_over_dataloader\n",
    "from steves_utils.utils_v2 import (per_domain_accuracy_from_confusion, get_datasets_base_path)\n",
    "from steves_utils.PTN.utils import independent_accuracy_assesment\n",
    "\n",
    "from torch.utils.data import DataLoader\n",
    "\n",
    "from steves_utils.stratified_dataset.episodic_accessor import Episodic_Accessor_Factory\n",
    "\n",
    "from steves_utils.ptn_do_report import (\n",
    "    get_loss_curve,\n",
    "    get_results_table,\n",
    "    get_parameters_table,\n",
    "    get_domain_accuracies,\n",
    ")\n",
    "\n",
    "from steves_utils.transforms import get_chained_transform"
   ]
  },
  {
   "cell_type": "markdown",
   "id": "41c840b4",
   "metadata": {
    "papermill": {
     "duration": 0.013538,
     "end_time": "2022-03-25T19:27:33.357126",
     "exception": false,
     "start_time": "2022-03-25T19:27:33.343588",
     "status": "completed"
    },
    "tags": []
   },
   "source": [
    "# Allowed Parameters\n",
    "These are allowed parameters, not defaults\n",
    "Each of these values need to be present in the injected parameters (the notebook will raise an exception if they are not present)\n",
    "\n",
    "Papermill uses the cell tag \"parameters\" to inject the real parameters below this cell.\n",
    "Enable tags to see what I mean"
   ]
  },
  {
   "cell_type": "code",
   "execution_count": 2,
   "id": "fd44eb83",
   "metadata": {
    "execution": {
     "iopub.execute_input": "2022-03-25T19:27:33.386569Z",
     "iopub.status.busy": "2022-03-25T19:27:33.386300Z",
     "iopub.status.idle": "2022-03-25T19:27:33.400199Z",
     "shell.execute_reply": "2022-03-25T19:27:33.399853Z"
    },
    "papermill": {
     "duration": 0.030286,
     "end_time": "2022-03-25T19:27:33.400281",
     "exception": false,
     "start_time": "2022-03-25T19:27:33.369995",
     "status": "completed"
    },
    "tags": []
   },
   "outputs": [],
   "source": [
    "required_parameters = {\n",
    "    \"experiment_name\",\n",
    "    \"lr\",\n",
    "    \"device\",\n",
    "    \"seed\",\n",
    "    \"dataset_seed\",\n",
    "    \"n_shot\",\n",
    "    \"n_query\",\n",
    "    \"n_way\",\n",
    "    \"train_k_factor\",\n",
    "    \"val_k_factor\",\n",
    "    \"test_k_factor\",\n",
    "    \"n_epoch\",\n",
    "    \"patience\",\n",
    "    \"criteria_for_best\",\n",
    "    \"x_net\",\n",
    "    \"datasets\",\n",
    "    \"torch_default_dtype\",\n",
    "    \"NUM_LOGS_PER_EPOCH\",\n",
    "    \"BEST_MODEL_PATH\",\n",
    "    \"x_shape\",\n",
    "}"
   ]
  },
  {
   "cell_type": "code",
   "execution_count": 3,
   "id": "fa3f0049",
   "metadata": {
    "execution": {
     "iopub.execute_input": "2022-03-25T19:27:33.439872Z",
     "iopub.status.busy": "2022-03-25T19:27:33.439584Z",
     "iopub.status.idle": "2022-03-25T19:27:33.453826Z",
     "shell.execute_reply": "2022-03-25T19:27:33.453384Z"
    },
    "papermill": {
     "duration": 0.035785,
     "end_time": "2022-03-25T19:27:33.453928",
     "exception": false,
     "start_time": "2022-03-25T19:27:33.418143",
     "status": "completed"
    },
    "tags": [
     "parameters"
    ]
   },
   "outputs": [],
   "source": [
    "from steves_utils.CORES.utils import (\n",
    "    ALL_NODES,\n",
    "    ALL_NODES_MINIMUM_1000_EXAMPLES,\n",
    "    ALL_DAYS\n",
    ")\n",
    "\n",
    "from steves_utils.ORACLE.utils_v2 import (\n",
    "    ALL_DISTANCES_FEET_NARROWED,\n",
    "    ALL_RUNS,\n",
    "    ALL_SERIAL_NUMBERS,\n",
    ")\n",
    "\n",
    "standalone_parameters = {}\n",
    "standalone_parameters[\"experiment_name\"] = \"STANDALONE PTN\"\n",
    "standalone_parameters[\"lr\"] = 0.001\n",
    "standalone_parameters[\"device\"] = \"cuda\"\n",
    "\n",
    "standalone_parameters[\"seed\"] = 1337\n",
    "standalone_parameters[\"dataset_seed\"] = 1337\n",
    "\n",
    "standalone_parameters[\"n_way\"] = 8\n",
    "standalone_parameters[\"n_shot\"] = 3\n",
    "standalone_parameters[\"n_query\"]  = 2\n",
    "standalone_parameters[\"train_k_factor\"] = 1\n",
    "standalone_parameters[\"val_k_factor\"] = 2\n",
    "standalone_parameters[\"test_k_factor\"] = 2\n",
    "\n",
    "\n",
    "standalone_parameters[\"n_epoch\"] = 50\n",
    "\n",
    "standalone_parameters[\"patience\"] = 10\n",
    "standalone_parameters[\"criteria_for_best\"] = \"source_loss\"\n",
    "\n",
    "standalone_parameters[\"datasets\"] = [\n",
    "    {\n",
    "        \"labels\": ALL_SERIAL_NUMBERS,\n",
    "        \"domains\": ALL_DISTANCES_FEET_NARROWED,\n",
    "        \"num_examples_per_domain_per_label\": 100,\n",
    "        \"pickle_path\": os.path.join(get_datasets_base_path(), \"oracle.Run1_framed_2000Examples_stratified_ds.2022A.pkl\"),\n",
    "        \"source_or_target_dataset\": \"source\",\n",
    "        \"x_transforms\": [\"unit_mag\", \"minus_two\"],\n",
    "        \"episode_transforms\": [],\n",
    "        \"domain_prefix\": \"ORACLE_\"\n",
    "    },\n",
    "    {\n",
    "        \"labels\": ALL_NODES,\n",
    "        \"domains\": ALL_DAYS,\n",
    "        \"num_examples_per_domain_per_label\": 100,\n",
    "        \"pickle_path\": os.path.join(get_datasets_base_path(), \"cores.stratified_ds.2022A.pkl\"),\n",
    "        \"source_or_target_dataset\": \"target\",\n",
    "        \"x_transforms\": [\"unit_power\", \"times_zero\"],\n",
    "        \"episode_transforms\": [],\n",
    "        \"domain_prefix\": \"CORES_\"\n",
    "    }   \n",
    "]\n",
    "\n",
    "standalone_parameters[\"torch_default_dtype\"] = \"torch.float32\" \n",
    "\n",
    "\n",
    "\n",
    "standalone_parameters[\"x_net\"] =     [\n",
    "    {\"class\": \"nnReshape\", \"kargs\": {\"shape\":[-1, 1, 2, 256]}},\n",
    "    {\"class\": \"Conv2d\", \"kargs\": { \"in_channels\":1, \"out_channels\":256, \"kernel_size\":(1,7), \"bias\":False, \"padding\":(0,3), },},\n",
    "    {\"class\": \"ReLU\", \"kargs\": {\"inplace\": True}},\n",
    "    {\"class\": \"BatchNorm2d\", \"kargs\": {\"num_features\":256}},\n",
    "\n",
    "    {\"class\": \"Conv2d\", \"kargs\": { \"in_channels\":256, \"out_channels\":80, \"kernel_size\":(2,7), \"bias\":True, \"padding\":(0,3), },},\n",
    "    {\"class\": \"ReLU\", \"kargs\": {\"inplace\": True}},\n",
    "    {\"class\": \"BatchNorm2d\", \"kargs\": {\"num_features\":80}},\n",
    "    {\"class\": \"Flatten\", \"kargs\": {}},\n",
    "\n",
    "    {\"class\": \"Linear\", \"kargs\": {\"in_features\": 80*256, \"out_features\": 256}}, # 80 units per IQ pair\n",
    "    {\"class\": \"ReLU\", \"kargs\": {\"inplace\": True}},\n",
    "    {\"class\": \"BatchNorm1d\", \"kargs\": {\"num_features\":256}},\n",
    "\n",
    "    {\"class\": \"Linear\", \"kargs\": {\"in_features\": 256, \"out_features\": 256}},\n",
    "]\n",
    "\n",
    "# Parameters relevant to results\n",
    "# These parameters will basically never need to change\n",
    "standalone_parameters[\"NUM_LOGS_PER_EPOCH\"] = 10\n",
    "standalone_parameters[\"BEST_MODEL_PATH\"] = \"./best_model.pth\"\n",
    "\n",
    "\n",
    "\n",
    "\n"
   ]
  },
  {
   "cell_type": "code",
   "execution_count": 4,
   "id": "89f04fb1",
   "metadata": {
    "execution": {
     "iopub.execute_input": "2022-03-25T19:27:33.496901Z",
     "iopub.status.busy": "2022-03-25T19:27:33.494152Z",
     "iopub.status.idle": "2022-03-25T19:27:33.507895Z",
     "shell.execute_reply": "2022-03-25T19:27:33.507403Z"
    },
    "papermill": {
     "duration": 0.036118,
     "end_time": "2022-03-25T19:27:33.508000",
     "exception": false,
     "start_time": "2022-03-25T19:27:33.471882",
     "status": "completed"
    },
    "tags": [
     "injected-parameters"
    ]
   },
   "outputs": [],
   "source": [
    "# Parameters\n",
    "parameters = {\n",
    "    \"experiment_name\": \"tl_3-filterv2:cores -> oracle.run1.framed\",\n",
    "    \"device\": \"cuda\",\n",
    "    \"lr\": 0.0001,\n",
    "    \"x_shape\": [2, 200],\n",
    "    \"n_shot\": 3,\n",
    "    \"n_query\": 2,\n",
    "    \"train_k_factor\": 3,\n",
    "    \"val_k_factor\": 2,\n",
    "    \"test_k_factor\": 2,\n",
    "    \"torch_default_dtype\": \"torch.float32\",\n",
    "    \"n_epoch\": 50,\n",
    "    \"patience\": 3,\n",
    "    \"criteria_for_best\": \"target_accuracy\",\n",
    "    \"x_net\": [\n",
    "        {\"class\": \"nnReshape\", \"kargs\": {\"shape\": [-1, 1, 2, 200]}},\n",
    "        {\n",
    "            \"class\": \"Conv2d\",\n",
    "            \"kargs\": {\n",
    "                \"in_channels\": 1,\n",
    "                \"out_channels\": 256,\n",
    "                \"kernel_size\": [1, 7],\n",
    "                \"bias\": False,\n",
    "                \"padding\": [0, 3],\n",
    "            },\n",
    "        },\n",
    "        {\"class\": \"ReLU\", \"kargs\": {\"inplace\": True}},\n",
    "        {\"class\": \"BatchNorm2d\", \"kargs\": {\"num_features\": 256}},\n",
    "        {\n",
    "            \"class\": \"Conv2d\",\n",
    "            \"kargs\": {\n",
    "                \"in_channels\": 256,\n",
    "                \"out_channels\": 80,\n",
    "                \"kernel_size\": [2, 7],\n",
    "                \"bias\": True,\n",
    "                \"padding\": [0, 3],\n",
    "            },\n",
    "        },\n",
    "        {\"class\": \"ReLU\", \"kargs\": {\"inplace\": True}},\n",
    "        {\"class\": \"BatchNorm2d\", \"kargs\": {\"num_features\": 80}},\n",
    "        {\"class\": \"Flatten\", \"kargs\": {}},\n",
    "        {\"class\": \"Linear\", \"kargs\": {\"in_features\": 16000, \"out_features\": 256}},\n",
    "        {\"class\": \"ReLU\", \"kargs\": {\"inplace\": True}},\n",
    "        {\"class\": \"BatchNorm1d\", \"kargs\": {\"num_features\": 256}},\n",
    "        {\"class\": \"Linear\", \"kargs\": {\"in_features\": 256, \"out_features\": 256}},\n",
    "    ],\n",
    "    \"NUM_LOGS_PER_EPOCH\": 10,\n",
    "    \"BEST_MODEL_PATH\": \"./best_model.pth\",\n",
    "    \"n_way\": 16,\n",
    "    \"datasets\": [\n",
    "        {\n",
    "            \"labels\": [\n",
    "                \"1-10.\",\n",
    "                \"1-11.\",\n",
    "                \"1-15.\",\n",
    "                \"1-16.\",\n",
    "                \"1-17.\",\n",
    "                \"1-18.\",\n",
    "                \"1-19.\",\n",
    "                \"10-4.\",\n",
    "                \"10-7.\",\n",
    "                \"11-1.\",\n",
    "                \"11-14.\",\n",
    "                \"11-17.\",\n",
    "                \"11-20.\",\n",
    "                \"11-7.\",\n",
    "                \"13-20.\",\n",
    "                \"13-8.\",\n",
    "                \"14-10.\",\n",
    "                \"14-11.\",\n",
    "                \"14-14.\",\n",
    "                \"14-7.\",\n",
    "                \"15-1.\",\n",
    "                \"15-20.\",\n",
    "                \"16-1.\",\n",
    "                \"16-16.\",\n",
    "                \"17-10.\",\n",
    "                \"17-11.\",\n",
    "                \"17-2.\",\n",
    "                \"19-1.\",\n",
    "                \"19-16.\",\n",
    "                \"19-19.\",\n",
    "                \"19-20.\",\n",
    "                \"19-3.\",\n",
    "                \"2-10.\",\n",
    "                \"2-11.\",\n",
    "                \"2-17.\",\n",
    "                \"2-18.\",\n",
    "                \"2-20.\",\n",
    "                \"2-3.\",\n",
    "                \"2-4.\",\n",
    "                \"2-5.\",\n",
    "                \"2-6.\",\n",
    "                \"2-7.\",\n",
    "                \"2-8.\",\n",
    "                \"3-13.\",\n",
    "                \"3-18.\",\n",
    "                \"3-3.\",\n",
    "                \"4-1.\",\n",
    "                \"4-10.\",\n",
    "                \"4-11.\",\n",
    "                \"4-19.\",\n",
    "                \"5-5.\",\n",
    "                \"6-15.\",\n",
    "                \"7-10.\",\n",
    "                \"7-14.\",\n",
    "                \"8-18.\",\n",
    "                \"8-20.\",\n",
    "                \"8-3.\",\n",
    "                \"8-8.\",\n",
    "            ],\n",
    "            \"domains\": [1, 2, 3, 4, 5],\n",
    "            \"num_examples_per_domain_per_label\": -1,\n",
    "            \"pickle_path\": \"/mnt/wd500GB/CSC500/csc500-main/datasets/cores.stratified_ds.2022A.pkl\",\n",
    "            \"source_or_target_dataset\": \"source\",\n",
    "            \"x_transforms\": [\"unit_power\", \"lowpass_+/-10MHz\", \"take_200\"],\n",
    "            \"episode_transforms\": [],\n",
    "            \"domain_prefix\": \"C_\",\n",
    "        },\n",
    "        {\n",
    "            \"labels\": [\n",
    "                \"3123D52\",\n",
    "                \"3123D65\",\n",
    "                \"3123D79\",\n",
    "                \"3123D80\",\n",
    "                \"3123D54\",\n",
    "                \"3123D70\",\n",
    "                \"3123D7B\",\n",
    "                \"3123D89\",\n",
    "                \"3123D58\",\n",
    "                \"3123D76\",\n",
    "                \"3123D7D\",\n",
    "                \"3123EFE\",\n",
    "                \"3123D64\",\n",
    "                \"3123D78\",\n",
    "                \"3123D7E\",\n",
    "                \"3124E4A\",\n",
    "            ],\n",
    "            \"domains\": [32, 38, 8, 44, 14, 50, 20, 26],\n",
    "            \"num_examples_per_domain_per_label\": 2000,\n",
    "            \"pickle_path\": \"/mnt/wd500GB/CSC500/csc500-main/datasets/oracle.Run1_framed_2000Examples_stratified_ds.2022A.pkl\",\n",
    "            \"source_or_target_dataset\": \"target\",\n",
    "            \"x_transforms\": [\"unit_power\", \"take_200\", \"resample_20Msps_to_25Msps\"],\n",
    "            \"episode_transforms\": [],\n",
    "            \"domain_prefix\": \"O_\",\n",
    "        },\n",
    "    ],\n",
    "    \"seed\": 500,\n",
    "    \"dataset_seed\": 500,\n",
    "}\n"
   ]
  },
  {
   "cell_type": "code",
   "execution_count": 5,
   "id": "8fa1cc33",
   "metadata": {
    "execution": {
     "iopub.execute_input": "2022-03-25T19:27:33.542118Z",
     "iopub.status.busy": "2022-03-25T19:27:33.541823Z",
     "iopub.status.idle": "2022-03-25T19:27:33.556562Z",
     "shell.execute_reply": "2022-03-25T19:27:33.555965Z"
    },
    "papermill": {
     "duration": 0.032035,
     "end_time": "2022-03-25T19:27:33.556713",
     "exception": false,
     "start_time": "2022-03-25T19:27:33.524678",
     "status": "completed"
    },
    "tags": []
   },
   "outputs": [],
   "source": [
    "# Set this to True if you want to run this template directly\n",
    "STANDALONE = False\n",
    "if STANDALONE:\n",
    "    print(\"parameters not injected, running with standalone_parameters\")\n",
    "    parameters = standalone_parameters\n",
    "\n",
    "if not 'parameters' in locals() and not 'parameters' in globals():\n",
    "    raise Exception(\"Parameter injection failed\")\n",
    "\n",
    "#Use an easy dict for all the parameters\n",
    "p = EasyDict(parameters)\n",
    "\n",
    "if \"x_shape\" not in p:\n",
    "    p.x_shape = [2,256] # Default to this if we dont supply x_shape\n",
    "\n",
    "\n",
    "supplied_keys = set(p.keys())\n",
    "\n",
    "if  supplied_keys != required_parameters:\n",
    "    print(\"Parameters are incorrect\")\n",
    "    if len(supplied_keys - required_parameters)>0: print(\"Shouldn't have:\", str(supplied_keys - required_parameters))\n",
    "    if len(required_parameters - supplied_keys)>0: print(\"Need to have:\", str(required_parameters - supplied_keys))\n",
    "    raise RuntimeError(\"Parameters are incorrect\")"
   ]
  },
  {
   "cell_type": "code",
   "execution_count": 6,
   "id": "3a028d58",
   "metadata": {
    "execution": {
     "iopub.execute_input": "2022-03-25T19:27:33.589161Z",
     "iopub.status.busy": "2022-03-25T19:27:33.588907Z",
     "iopub.status.idle": "2022-03-25T19:27:33.600266Z",
     "shell.execute_reply": "2022-03-25T19:27:33.600666Z"
    },
    "papermill": {
     "duration": 0.026824,
     "end_time": "2022-03-25T19:27:33.600786",
     "exception": false,
     "start_time": "2022-03-25T19:27:33.573962",
     "status": "completed"
    },
    "tags": []
   },
   "outputs": [],
   "source": [
    "###################################\n",
    "# Set the RNGs and make it all deterministic\n",
    "###################################\n",
    "np.random.seed(p.seed)\n",
    "random.seed(p.seed)\n",
    "torch.manual_seed(p.seed)\n",
    "\n",
    "torch.use_deterministic_algorithms(True) "
   ]
  },
  {
   "cell_type": "code",
   "execution_count": 7,
   "id": "b691acf6",
   "metadata": {
    "execution": {
     "iopub.execute_input": "2022-03-25T19:27:33.634311Z",
     "iopub.status.busy": "2022-03-25T19:27:33.634055Z",
     "iopub.status.idle": "2022-03-25T19:27:33.651567Z",
     "shell.execute_reply": "2022-03-25T19:27:33.651076Z"
    },
    "papermill": {
     "duration": 0.032713,
     "end_time": "2022-03-25T19:27:33.651668",
     "exception": false,
     "start_time": "2022-03-25T19:27:33.618955",
     "status": "completed"
    },
    "tags": []
   },
   "outputs": [],
   "source": [
    "###########################################\n",
    "# The stratified datasets honor this\n",
    "###########################################\n",
    "torch.set_default_dtype(eval(p.torch_default_dtype))"
   ]
  },
  {
   "cell_type": "code",
   "execution_count": 8,
   "id": "b5fba671",
   "metadata": {
    "execution": {
     "iopub.execute_input": "2022-03-25T19:27:33.686673Z",
     "iopub.status.busy": "2022-03-25T19:27:33.686418Z",
     "iopub.status.idle": "2022-03-25T19:27:33.718721Z",
     "shell.execute_reply": "2022-03-25T19:27:33.719130Z"
    },
    "papermill": {
     "duration": 0.048816,
     "end_time": "2022-03-25T19:27:33.719260",
     "exception": false,
     "start_time": "2022-03-25T19:27:33.670444",
     "status": "completed"
    },
    "tags": []
   },
   "outputs": [],
   "source": [
    "###################################\n",
    "# Build the network(s)\n",
    "# Note: It's critical to do this AFTER setting the RNG\n",
    "###################################\n",
    "x_net = build_sequential(p.x_net)"
   ]
  },
  {
   "cell_type": "code",
   "execution_count": 9,
   "id": "5d7e61cc",
   "metadata": {
    "execution": {
     "iopub.execute_input": "2022-03-25T19:27:33.753535Z",
     "iopub.status.busy": "2022-03-25T19:27:33.753284Z",
     "iopub.status.idle": "2022-03-25T19:27:33.764382Z",
     "shell.execute_reply": "2022-03-25T19:27:33.764596Z"
    },
    "papermill": {
     "duration": 0.026275,
     "end_time": "2022-03-25T19:27:33.764669",
     "exception": false,
     "start_time": "2022-03-25T19:27:33.738394",
     "status": "completed"
    },
    "tags": []
   },
   "outputs": [],
   "source": [
    "start_time_secs = time.time()"
   ]
  },
  {
   "cell_type": "code",
   "execution_count": 10,
   "id": "c6b67dfd",
   "metadata": {
    "execution": {
     "iopub.execute_input": "2022-03-25T19:27:33.796272Z",
     "iopub.status.busy": "2022-03-25T19:27:33.796020Z",
     "iopub.status.idle": "2022-03-25T19:27:33.807152Z",
     "shell.execute_reply": "2022-03-25T19:27:33.806892Z"
    },
    "papermill": {
     "duration": 0.026189,
     "end_time": "2022-03-25T19:27:33.807210",
     "exception": false,
     "start_time": "2022-03-25T19:27:33.781021",
     "status": "completed"
    },
    "tags": []
   },
   "outputs": [],
   "source": [
    "p.domains_source = []\n",
    "p.domains_target = []\n",
    "\n",
    "\n",
    "train_original_source = []\n",
    "val_original_source   = []\n",
    "test_original_source  = []\n",
    "\n",
    "train_original_target = []\n",
    "val_original_target   = []\n",
    "test_original_target  = []"
   ]
  },
  {
   "cell_type": "code",
   "execution_count": 11,
   "id": "e3d9c3d3",
   "metadata": {
    "execution": {
     "iopub.execute_input": "2022-03-25T19:27:33.841165Z",
     "iopub.status.busy": "2022-03-25T19:27:33.840912Z",
     "iopub.status.idle": "2022-03-25T19:27:33.851547Z",
     "shell.execute_reply": "2022-03-25T19:27:33.851932Z"
    },
    "papermill": {
     "duration": 0.026039,
     "end_time": "2022-03-25T19:27:33.852060",
     "exception": false,
     "start_time": "2022-03-25T19:27:33.826021",
     "status": "completed"
    },
    "tags": []
   },
   "outputs": [],
   "source": [
    "# global_x_transform_func = lambda x: normalize(x.to(torch.get_default_dtype()), \"unit_power\") # unit_power, unit_mag\n",
    "# global_x_transform_func = lambda x: normalize(x, \"unit_power\") # unit_power, unit_mag"
   ]
  },
  {
   "cell_type": "code",
   "execution_count": 12,
   "id": "acb78fd2",
   "metadata": {
    "execution": {
     "iopub.execute_input": "2022-03-25T19:27:33.889241Z",
     "iopub.status.busy": "2022-03-25T19:27:33.888979Z",
     "iopub.status.idle": "2022-03-25T19:27:33.900599Z",
     "shell.execute_reply": "2022-03-25T19:27:33.901010Z"
    },
    "papermill": {
     "duration": 0.030337,
     "end_time": "2022-03-25T19:27:33.901135",
     "exception": false,
     "start_time": "2022-03-25T19:27:33.870798",
     "status": "completed"
    },
    "tags": []
   },
   "outputs": [],
   "source": [
    "def add_dataset(\n",
    "    labels,\n",
    "    domains,\n",
    "    pickle_path,\n",
    "    x_transforms,\n",
    "    episode_transforms,\n",
    "    domain_prefix,\n",
    "    num_examples_per_domain_per_label,\n",
    "    source_or_target_dataset:str,\n",
    "    iterator_seed=p.seed,\n",
    "    dataset_seed=p.dataset_seed,\n",
    "    n_shot=p.n_shot,\n",
    "    n_way=p.n_way,\n",
    "    n_query=p.n_query,\n",
    "    train_val_test_k_factors=(p.train_k_factor,p.val_k_factor,p.test_k_factor),\n",
    "):\n",
    "   \n",
    "    if x_transforms == []: x_transform = None\n",
    "    else: x_transform = get_chained_transform(x_transforms)\n",
    "    \n",
    "    if episode_transforms == []: episode_transform = None\n",
    "    else: raise Exception(\"episode_transforms not implemented\")\n",
    "    \n",
    "    episode_transform = lambda tup, _prefix=domain_prefix: (_prefix + str(tup[0]), tup[1])\n",
    "\n",
    "\n",
    "    eaf = Episodic_Accessor_Factory(\n",
    "        labels=labels,\n",
    "        domains=domains,\n",
    "        num_examples_per_domain_per_label=num_examples_per_domain_per_label,\n",
    "        iterator_seed=iterator_seed,\n",
    "        dataset_seed=dataset_seed,\n",
    "        n_shot=n_shot,\n",
    "        n_way=n_way,\n",
    "        n_query=n_query,\n",
    "        train_val_test_k_factors=train_val_test_k_factors,\n",
    "        pickle_path=pickle_path,\n",
    "        x_transform_func=x_transform,\n",
    "    )\n",
    "\n",
    "    train, val, test = eaf.get_train(), eaf.get_val(), eaf.get_test()\n",
    "    train = Lazy_Iterable_Wrapper(train, episode_transform)\n",
    "    val = Lazy_Iterable_Wrapper(val, episode_transform)\n",
    "    test = Lazy_Iterable_Wrapper(test, episode_transform)\n",
    "\n",
    "    if source_or_target_dataset==\"source\":\n",
    "        train_original_source.append(train)\n",
    "        val_original_source.append(val)\n",
    "        test_original_source.append(test)\n",
    "\n",
    "        p.domains_source.extend(\n",
    "            [domain_prefix + str(u) for u in domains]\n",
    "        )\n",
    "    elif source_or_target_dataset==\"target\":\n",
    "        train_original_target.append(train)\n",
    "        val_original_target.append(val)\n",
    "        test_original_target.append(test)\n",
    "        p.domains_target.extend(\n",
    "            [domain_prefix + str(u) for u in domains]\n",
    "        )\n",
    "    else:\n",
    "        raise Exception(f\"invalid source_or_target_dataset: {source_or_target_dataset}\")\n",
    "    "
   ]
  },
  {
   "cell_type": "code",
   "execution_count": 13,
   "id": "fe266617",
   "metadata": {
    "execution": {
     "iopub.execute_input": "2022-03-25T19:27:33.934526Z",
     "iopub.status.busy": "2022-03-25T19:27:33.934277Z",
     "iopub.status.idle": "2022-03-25T19:28:27.313273Z",
     "shell.execute_reply": "2022-03-25T19:28:27.312950Z"
    },
    "papermill": {
     "duration": 53.394154,
     "end_time": "2022-03-25T19:28:27.313343",
     "exception": false,
     "start_time": "2022-03-25T19:27:33.919189",
     "status": "completed"
    },
    "tags": []
   },
   "outputs": [],
   "source": [
    "for ds in p.datasets:\n",
    "    add_dataset(**ds)"
   ]
  },
  {
   "cell_type": "code",
   "execution_count": 14,
   "id": "b90d65ac",
   "metadata": {
    "execution": {
     "iopub.execute_input": "2022-03-25T19:28:27.351463Z",
     "iopub.status.busy": "2022-03-25T19:28:27.351103Z",
     "iopub.status.idle": "2022-03-25T19:28:27.365218Z",
     "shell.execute_reply": "2022-03-25T19:28:27.364969Z"
    },
    "papermill": {
     "duration": 0.033573,
     "end_time": "2022-03-25T19:28:27.365280",
     "exception": false,
     "start_time": "2022-03-25T19:28:27.331707",
     "status": "completed"
    },
    "tags": []
   },
   "outputs": [],
   "source": [
    "# from steves_utils.CORES.utils import (\n",
    "#     ALL_NODES,\n",
    "#     ALL_NODES_MINIMUM_1000_EXAMPLES,\n",
    "#     ALL_DAYS\n",
    "# )\n",
    "\n",
    "# add_dataset(\n",
    "#     labels=ALL_NODES,\n",
    "#     domains = ALL_DAYS,\n",
    "#     num_examples_per_domain_per_label=100,\n",
    "#     pickle_path=os.path.join(get_datasets_base_path(), \"cores.stratified_ds.2022A.pkl\"),\n",
    "#     source_or_target_dataset=\"target\",\n",
    "#     x_transform_func=global_x_transform_func,\n",
    "#     domain_modifier=lambda u: f\"cores_{u}\"\n",
    "# )"
   ]
  },
  {
   "cell_type": "code",
   "execution_count": 15,
   "id": "76db484d",
   "metadata": {
    "execution": {
     "iopub.execute_input": "2022-03-25T19:28:27.412862Z",
     "iopub.status.busy": "2022-03-25T19:28:27.410624Z",
     "iopub.status.idle": "2022-03-25T19:28:27.421405Z",
     "shell.execute_reply": "2022-03-25T19:28:27.421052Z"
    },
    "papermill": {
     "duration": 0.035083,
     "end_time": "2022-03-25T19:28:27.421477",
     "exception": false,
     "start_time": "2022-03-25T19:28:27.386394",
     "status": "completed"
    },
    "tags": []
   },
   "outputs": [],
   "source": [
    "# from steves_utils.ORACLE.utils_v2 import (\n",
    "#     ALL_DISTANCES_FEET,\n",
    "#     ALL_RUNS,\n",
    "#     ALL_SERIAL_NUMBERS,\n",
    "# )\n",
    "\n",
    "\n",
    "# add_dataset(\n",
    "#     labels=ALL_SERIAL_NUMBERS,\n",
    "#     domains = list(set(ALL_DISTANCES_FEET) - {2,62}),\n",
    "#     num_examples_per_domain_per_label=100,\n",
    "#     pickle_path=os.path.join(get_datasets_base_path(), \"oracle.Run2_framed_2000Examples_stratified_ds.2022A.pkl\"),\n",
    "#     source_or_target_dataset=\"source\",\n",
    "#     x_transform_func=global_x_transform_func,\n",
    "#     domain_modifier=lambda u: f\"oracle1_{u}\"\n",
    "# )\n"
   ]
  },
  {
   "cell_type": "code",
   "execution_count": 16,
   "id": "97dea9d2",
   "metadata": {
    "execution": {
     "iopub.execute_input": "2022-03-25T19:28:27.459755Z",
     "iopub.status.busy": "2022-03-25T19:28:27.459479Z",
     "iopub.status.idle": "2022-03-25T19:28:27.471846Z",
     "shell.execute_reply": "2022-03-25T19:28:27.471513Z"
    },
    "papermill": {
     "duration": 0.033313,
     "end_time": "2022-03-25T19:28:27.471926",
     "exception": false,
     "start_time": "2022-03-25T19:28:27.438613",
     "status": "completed"
    },
    "tags": []
   },
   "outputs": [],
   "source": [
    "# from steves_utils.ORACLE.utils_v2 import (\n",
    "#     ALL_DISTANCES_FEET,\n",
    "#     ALL_RUNS,\n",
    "#     ALL_SERIAL_NUMBERS,\n",
    "# )\n",
    "\n",
    "\n",
    "# add_dataset(\n",
    "#     labels=ALL_SERIAL_NUMBERS,\n",
    "#     domains = list(set(ALL_DISTANCES_FEET) - {2,62,56}),\n",
    "#     num_examples_per_domain_per_label=100,\n",
    "#     pickle_path=os.path.join(get_datasets_base_path(), \"oracle.Run2_framed_2000Examples_stratified_ds.2022A.pkl\"),\n",
    "#     source_or_target_dataset=\"source\",\n",
    "#     x_transform_func=global_x_transform_func,\n",
    "#     domain_modifier=lambda u: f\"oracle2_{u}\"\n",
    "# )"
   ]
  },
  {
   "cell_type": "code",
   "execution_count": 17,
   "id": "6f289866",
   "metadata": {
    "execution": {
     "iopub.execute_input": "2022-03-25T19:28:27.509542Z",
     "iopub.status.busy": "2022-03-25T19:28:27.509189Z",
     "iopub.status.idle": "2022-03-25T19:28:27.524613Z",
     "shell.execute_reply": "2022-03-25T19:28:27.524235Z"
    },
    "papermill": {
     "duration": 0.035353,
     "end_time": "2022-03-25T19:28:27.524706",
     "exception": false,
     "start_time": "2022-03-25T19:28:27.489353",
     "status": "completed"
    },
    "tags": []
   },
   "outputs": [],
   "source": [
    "# add_dataset(\n",
    "#     labels=list(range(19)),\n",
    "#     domains = [0,1,2],\n",
    "#     num_examples_per_domain_per_label=100,\n",
    "#     pickle_path=os.path.join(get_datasets_base_path(), \"metehan.stratified_ds.2022A.pkl\"),\n",
    "#     source_or_target_dataset=\"target\",\n",
    "#     x_transform_func=global_x_transform_func,\n",
    "#     domain_modifier=lambda u: f\"met_{u}\"\n",
    "# )"
   ]
  },
  {
   "cell_type": "code",
   "execution_count": 18,
   "id": "86a863c3",
   "metadata": {
    "execution": {
     "iopub.execute_input": "2022-03-25T19:28:27.563045Z",
     "iopub.status.busy": "2022-03-25T19:28:27.562778Z",
     "iopub.status.idle": "2022-03-25T19:28:27.577244Z",
     "shell.execute_reply": "2022-03-25T19:28:27.576863Z"
    },
    "papermill": {
     "duration": 0.030726,
     "end_time": "2022-03-25T19:28:27.577324",
     "exception": false,
     "start_time": "2022-03-25T19:28:27.546598",
     "status": "completed"
    },
    "tags": []
   },
   "outputs": [],
   "source": [
    "# # from steves_utils.wisig.utils import (\n",
    "# #     ALL_NODES_MINIMUM_100_EXAMPLES,\n",
    "# #     ALL_NODES_MINIMUM_500_EXAMPLES,\n",
    "# #     ALL_NODES_MINIMUM_1000_EXAMPLES,\n",
    "# #     ALL_DAYS\n",
    "# # )\n",
    "\n",
    "# import steves_utils.wisig.utils as wisig\n",
    "\n",
    "\n",
    "# add_dataset(\n",
    "#     labels=wisig.ALL_NODES_MINIMUM_100_EXAMPLES,\n",
    "#     domains = wisig.ALL_DAYS,\n",
    "#     num_examples_per_domain_per_label=100,\n",
    "#     pickle_path=os.path.join(get_datasets_base_path(), \"wisig.node3-19.stratified_ds.2022A.pkl\"),\n",
    "#     source_or_target_dataset=\"target\",\n",
    "#     x_transform_func=global_x_transform_func,\n",
    "#     domain_modifier=lambda u: f\"wisig_{u}\"\n",
    "# )"
   ]
  },
  {
   "cell_type": "code",
   "execution_count": 19,
   "id": "fd5442bc",
   "metadata": {
    "execution": {
     "iopub.execute_input": "2022-03-25T19:28:27.615872Z",
     "iopub.status.busy": "2022-03-25T19:28:27.615591Z",
     "iopub.status.idle": "2022-03-25T19:28:27.627348Z",
     "shell.execute_reply": "2022-03-25T19:28:27.626827Z"
    },
    "papermill": {
     "duration": 0.029495,
     "end_time": "2022-03-25T19:28:27.627452",
     "exception": false,
     "start_time": "2022-03-25T19:28:27.597957",
     "status": "completed"
    },
    "tags": []
   },
   "outputs": [],
   "source": [
    "###################################\n",
    "# Build the dataset\n",
    "###################################\n",
    "train_original_source = Iterable_Aggregator(train_original_source, p.seed)\n",
    "val_original_source = Iterable_Aggregator(val_original_source, p.seed)\n",
    "test_original_source = Iterable_Aggregator(test_original_source, p.seed)\n",
    "\n",
    "\n",
    "train_original_target = Iterable_Aggregator(train_original_target, p.seed)\n",
    "val_original_target = Iterable_Aggregator(val_original_target, p.seed)\n",
    "test_original_target = Iterable_Aggregator(test_original_target, p.seed)\n",
    "\n",
    "# For CNN We only use X and Y. And we only train on the source.\n",
    "# Properly form the data using a transform lambda and Lazy_Iterable_Wrapper. Finally wrap them in a dataloader\n",
    "\n",
    "transform_lambda = lambda ex: ex[1] # Original is (<domain>, <episode>) so we strip down to episode only\n",
    "\n",
    "train_processed_source = Lazy_Iterable_Wrapper(train_original_source, transform_lambda)\n",
    "val_processed_source   = Lazy_Iterable_Wrapper(val_original_source, transform_lambda)\n",
    "test_processed_source  = Lazy_Iterable_Wrapper(test_original_source, transform_lambda)\n",
    "\n",
    "train_processed_target = Lazy_Iterable_Wrapper(train_original_target, transform_lambda)\n",
    "val_processed_target   = Lazy_Iterable_Wrapper(val_original_target, transform_lambda)\n",
    "test_processed_target  = Lazy_Iterable_Wrapper(test_original_target, transform_lambda)\n",
    "\n",
    "datasets = EasyDict({\n",
    "    \"source\": {\n",
    "        \"original\": {\"train\":train_original_source, \"val\":val_original_source, \"test\":test_original_source},\n",
    "        \"processed\": {\"train\":train_processed_source, \"val\":val_processed_source, \"test\":test_processed_source}\n",
    "    },\n",
    "    \"target\": {\n",
    "        \"original\": {\"train\":train_original_target, \"val\":val_original_target, \"test\":test_original_target},\n",
    "        \"processed\": {\"train\":train_processed_target, \"val\":val_processed_target, \"test\":test_processed_target}\n",
    "    },\n",
    "})"
   ]
  },
  {
   "cell_type": "code",
   "execution_count": 20,
   "id": "5b3c01fc",
   "metadata": {
    "execution": {
     "iopub.execute_input": "2022-03-25T19:28:27.664699Z",
     "iopub.status.busy": "2022-03-25T19:28:27.664441Z",
     "iopub.status.idle": "2022-03-25T19:28:34.486892Z",
     "shell.execute_reply": "2022-03-25T19:28:34.487153Z"
    },
    "papermill": {
     "duration": 6.839795,
     "end_time": "2022-03-25T19:28:34.487236",
     "exception": false,
     "start_time": "2022-03-25T19:28:27.647441",
     "status": "completed"
    },
    "tags": []
   },
   "outputs": [
    {
     "name": "stdout",
     "output_type": "stream",
     "text": [
      "{'C_4', 'C_5', 'C_2', 'C_3', 'C_1'}\n"
     ]
    },
    {
     "name": "stdout",
     "output_type": "stream",
     "text": [
      "{'O_44', 'O_8', 'O_32', 'O_38', 'O_50', 'O_20', 'O_26', 'O_14'}\n"
     ]
    },
    {
     "name": "stdout",
     "output_type": "stream",
     "text": [
      "tensor([[[-8.2449e-03, -5.6984e-02, -1.7804e-01,  ...,  6.6895e-01,\n",
      "           1.4752e+00,  1.4240e+00],\n",
      "         [-4.8376e-03, -2.7551e-02, -2.7325e-02,  ..., -9.8363e-01,\n",
      "          -1.3979e+00, -3.6603e-01]],\n",
      "\n",
      "        [[-1.4078e-02, -1.2472e-01, -4.4165e-01,  ...,  1.6712e+00,\n",
      "           4.4646e-01, -3.0270e-01],\n",
      "         [-7.0389e-03, -6.9333e-02, -2.9272e-01,  ...,  1.0178e+00,\n",
      "           9.4269e-01, -1.5473e-01]],\n",
      "\n",
      "        [[-9.1247e-03, -5.9923e-02, -1.5930e-01,  ..., -8.6033e-02,\n",
      "           5.1155e-01,  8.8912e-01],\n",
      "         [-5.8147e-04,  7.5991e-03,  1.0272e-01,  ..., -1.4512e+00,\n",
      "          -1.9324e+00, -8.1009e-01]],\n",
      "\n",
      "        ...,\n",
      "\n",
      "        [[-7.8357e-03, -8.0454e-02, -2.5645e-01,  ...,  2.2459e-01,\n",
      "           3.4344e-01,  4.5013e-01],\n",
      "         [ 1.8670e-02,  8.0253e-02,  1.1799e-02,  ..., -5.9698e-01,\n",
      "          -8.0395e-02, -5.8197e-01]],\n",
      "\n",
      "        [[-2.2848e-02, -1.3037e-01, -1.9438e-01,  ...,  4.5695e-01,\n",
      "           3.1804e-01,  8.1920e-01],\n",
      "         [-3.1112e-03, -6.4875e-02, -2.9185e-01,  ..., -3.5851e-01,\n",
      "           1.9872e-01, -3.6124e-01]],\n",
      "\n",
      "        [[ 0.0000e+00, -1.5103e-03, -1.1879e-02,  ..., -2.2897e-01,\n",
      "          -1.0568e+00, -4.9690e-01],\n",
      "         [-4.5308e-03, -2.9488e-02, -7.5771e-02,  ...,  1.6006e+00,\n",
      "           4.8152e-01, -1.2122e+00]]])\n"
     ]
    }
   ],
   "source": [
    "from steves_utils.transforms import get_average_magnitude, get_average_power\n",
    "\n",
    "print(set([u for u,_ in val_original_source]))\n",
    "print(set([u for u,_ in val_original_target]))\n",
    "\n",
    "s_x, s_y, q_x, q_y, _ = next(iter(train_processed_source))\n",
    "print(s_x)\n",
    "\n",
    "# for ds in [\n",
    "#     train_processed_source,\n",
    "#     val_processed_source,\n",
    "#     test_processed_source,\n",
    "#     train_processed_target,\n",
    "#     val_processed_target,\n",
    "#     test_processed_target\n",
    "# ]:\n",
    "#     for s_x, s_y, q_x, q_y, _ in ds:\n",
    "#         for X in (s_x, q_x):\n",
    "#             for x in X:\n",
    "#                 assert np.isclose(get_average_magnitude(x.numpy()), 1.0)\n",
    "#                 assert np.isclose(get_average_power(x.numpy()), 1.0)\n",
    "                "
   ]
  },
  {
   "cell_type": "code",
   "execution_count": 21,
   "id": "bbdacba1",
   "metadata": {
    "execution": {
     "iopub.execute_input": "2022-03-25T19:28:34.535315Z",
     "iopub.status.busy": "2022-03-25T19:28:34.534616Z",
     "iopub.status.idle": "2022-03-25T19:28:34.584010Z",
     "shell.execute_reply": "2022-03-25T19:28:34.583468Z"
    },
    "papermill": {
     "duration": 0.076345,
     "end_time": "2022-03-25T19:28:34.584124",
     "exception": false,
     "start_time": "2022-03-25T19:28:34.507779",
     "status": "completed"
    },
    "tags": []
   },
   "outputs": [
    {
     "name": "stdout",
     "output_type": "stream",
     "text": [
      "(2, 200)\n"
     ]
    }
   ],
   "source": [
    "###################################\n",
    "# Build the model\n",
    "###################################\n",
    "# easfsl only wants a tuple for the shape\n",
    "model = Steves_Prototypical_Network(x_net, device=p.device, x_shape=tuple(p.x_shape))\n",
    "optimizer = Adam(params=model.parameters(), lr=p.lr)"
   ]
  },
  {
   "cell_type": "code",
   "execution_count": 22,
   "id": "22b39ac5",
   "metadata": {
    "execution": {
     "iopub.execute_input": "2022-03-25T19:28:34.621932Z",
     "iopub.status.busy": "2022-03-25T19:28:34.621664Z",
     "iopub.status.idle": "2022-03-25T20:19:43.485298Z",
     "shell.execute_reply": "2022-03-25T20:19:43.485066Z"
    },
    "papermill": {
     "duration": 3068.882234,
     "end_time": "2022-03-25T20:19:43.485356",
     "exception": false,
     "start_time": "2022-03-25T19:28:34.603122",
     "status": "completed"
    },
    "tags": []
   },
   "outputs": [
    {
     "name": "stdout",
     "output_type": "stream",
     "text": [
      "epoch: 1, [batch: 1 / 6317], examples_per_second: 49.1001, train_label_loss: 2.5972, \n"
     ]
    },
    {
     "name": "stdout",
     "output_type": "stream",
     "text": [
      "epoch: 1, [batch: 632 / 6317], examples_per_second: 1874.7421, train_label_loss: 0.0227, \n"
     ]
    },
    {
     "name": "stdout",
     "output_type": "stream",
     "text": [
      "epoch: 1, [batch: 1264 / 6317], examples_per_second: 1871.2554, train_label_loss: 0.0027, \n"
     ]
    },
    {
     "name": "stdout",
     "output_type": "stream",
     "text": [
      "epoch: 1, [batch: 1895 / 6317], examples_per_second: 1871.7310, train_label_loss: 0.0073, \n"
     ]
    },
    {
     "name": "stdout",
     "output_type": "stream",
     "text": [
      "epoch: 1, [batch: 2527 / 6317], examples_per_second: 1984.9396, train_label_loss: 0.0408, \n"
     ]
    },
    {
     "name": "stdout",
     "output_type": "stream",
     "text": [
      "epoch: 1, [batch: 3159 / 6317], examples_per_second: 2416.0188, train_label_loss: 0.0039, \n"
     ]
    },
    {
     "name": "stdout",
     "output_type": "stream",
     "text": [
      "epoch: 1, [batch: 3790 / 6317], examples_per_second: 2046.9986, train_label_loss: 0.0004, \n"
     ]
    },
    {
     "name": "stdout",
     "output_type": "stream",
     "text": [
      "epoch: 1, [batch: 4422 / 6317], examples_per_second: 1867.6437, train_label_loss: 0.0006, \n"
     ]
    },
    {
     "name": "stdout",
     "output_type": "stream",
     "text": [
      "epoch: 1, [batch: 5053 / 6317], examples_per_second: 1872.6236, train_label_loss: 0.0008, \n"
     ]
    },
    {
     "name": "stdout",
     "output_type": "stream",
     "text": [
      "epoch: 1, [batch: 5685 / 6317], examples_per_second: 1874.7725, train_label_loss: 0.0191, \n"
     ]
    },
    {
     "name": "stdout",
     "output_type": "stream",
     "text": [
      "=============================================================\n",
      "epoch: 1, source_val_acc_label: 0.9981, target_val_acc_label: 0.2612, source_val_label_loss: 0.0067, target_val_label_loss: 2.3922, \n",
      "=============================================================\n"
     ]
    },
    {
     "name": "stdout",
     "output_type": "stream",
     "text": [
      "New best\n"
     ]
    },
    {
     "name": "stdout",
     "output_type": "stream",
     "text": [
      "epoch: 2, [batch: 1 / 6315], examples_per_second: 2.8230, train_label_loss: 0.0008, \n"
     ]
    },
    {
     "name": "stdout",
     "output_type": "stream",
     "text": [
      "epoch: 2, [batch: 632 / 6315], examples_per_second: 1876.1446, train_label_loss: 0.0000, \n"
     ]
    },
    {
     "name": "stdout",
     "output_type": "stream",
     "text": [
      "epoch: 2, [batch: 1263 / 6315], examples_per_second: 1872.0134, train_label_loss: 0.0002, \n"
     ]
    },
    {
     "name": "stdout",
     "output_type": "stream",
     "text": [
      "epoch: 2, [batch: 1895 / 6315], examples_per_second: 1873.6621, train_label_loss: 0.0032, \n"
     ]
    },
    {
     "name": "stdout",
     "output_type": "stream",
     "text": [
      "epoch: 2, [batch: 2526 / 6315], examples_per_second: 1989.8817, train_label_loss: 0.0018, \n"
     ]
    },
    {
     "name": "stdout",
     "output_type": "stream",
     "text": [
      "epoch: 2, [batch: 3158 / 6315], examples_per_second: 2390.0807, train_label_loss: 0.0000, \n"
     ]
    },
    {
     "name": "stdout",
     "output_type": "stream",
     "text": [
      "epoch: 2, [batch: 3789 / 6315], examples_per_second: 2071.9012, train_label_loss: 0.0001, \n"
     ]
    },
    {
     "name": "stdout",
     "output_type": "stream",
     "text": [
      "epoch: 2, [batch: 4420 / 6315], examples_per_second: 1868.4357, train_label_loss: 0.0000, \n"
     ]
    },
    {
     "name": "stdout",
     "output_type": "stream",
     "text": [
      "epoch: 2, [batch: 5052 / 6315], examples_per_second: 1872.7115, train_label_loss: 0.0000, \n"
     ]
    },
    {
     "name": "stdout",
     "output_type": "stream",
     "text": [
      "epoch: 2, [batch: 5683 / 6315], examples_per_second: 1876.1468, train_label_loss: 0.0000, \n"
     ]
    },
    {
     "name": "stdout",
     "output_type": "stream",
     "text": [
      "=============================================================\n",
      "epoch: 2, source_val_acc_label: 0.9990, target_val_acc_label: 0.3008, source_val_label_loss: 0.0049, target_val_label_loss: 2.4315, \n",
      "=============================================================\n"
     ]
    },
    {
     "name": "stdout",
     "output_type": "stream",
     "text": [
      "New best\n"
     ]
    },
    {
     "name": "stdout",
     "output_type": "stream",
     "text": [
      "epoch: 3, [batch: 1 / 6325], examples_per_second: 2.7918, train_label_loss: 0.0000, \n"
     ]
    },
    {
     "name": "stdout",
     "output_type": "stream",
     "text": [
      "epoch: 3, [batch: 633 / 6325], examples_per_second: 1873.5829, train_label_loss: 0.0000, \n"
     ]
    },
    {
     "name": "stdout",
     "output_type": "stream",
     "text": [
      "epoch: 3, [batch: 1265 / 6325], examples_per_second: 1873.0790, train_label_loss: 0.0114, \n"
     ]
    },
    {
     "name": "stdout",
     "output_type": "stream",
     "text": [
      "epoch: 3, [batch: 1898 / 6325], examples_per_second: 1874.5273, train_label_loss: 0.0067, \n"
     ]
    },
    {
     "name": "stdout",
     "output_type": "stream",
     "text": [
      "epoch: 3, [batch: 2530 / 6325], examples_per_second: 1996.5356, train_label_loss: 0.0000, \n"
     ]
    },
    {
     "name": "stdout",
     "output_type": "stream",
     "text": [
      "epoch: 3, [batch: 3163 / 6325], examples_per_second: 2441.4843, train_label_loss: 0.0000, \n"
     ]
    },
    {
     "name": "stdout",
     "output_type": "stream",
     "text": [
      "epoch: 3, [batch: 3795 / 6325], examples_per_second: 2014.0198, train_label_loss: 0.0000, \n"
     ]
    },
    {
     "name": "stdout",
     "output_type": "stream",
     "text": [
      "epoch: 3, [batch: 4427 / 6325], examples_per_second: 1867.9264, train_label_loss: 0.0000, \n"
     ]
    },
    {
     "name": "stdout",
     "output_type": "stream",
     "text": [
      "epoch: 3, [batch: 5060 / 6325], examples_per_second: 1871.0279, train_label_loss: 0.0000, \n"
     ]
    },
    {
     "name": "stdout",
     "output_type": "stream",
     "text": [
      "epoch: 3, [batch: 5692 / 6325], examples_per_second: 1875.5002, train_label_loss: 0.0000, \n"
     ]
    },
    {
     "name": "stdout",
     "output_type": "stream",
     "text": [
      "=============================================================\n",
      "epoch: 3, source_val_acc_label: 0.9993, target_val_acc_label: 0.3082, source_val_label_loss: 0.0052, target_val_label_loss: 2.5877, \n",
      "=============================================================\n"
     ]
    },
    {
     "name": "stdout",
     "output_type": "stream",
     "text": [
      "New best\n"
     ]
    },
    {
     "name": "stdout",
     "output_type": "stream",
     "text": [
      "epoch: 4, [batch: 1 / 6307], examples_per_second: 2.8057, train_label_loss: 0.0000, \n"
     ]
    },
    {
     "name": "stdout",
     "output_type": "stream",
     "text": [
      "epoch: 4, [batch: 631 / 6307], examples_per_second: 1877.5528, train_label_loss: 0.0000, \n"
     ]
    },
    {
     "name": "stdout",
     "output_type": "stream",
     "text": [
      "epoch: 4, [batch: 1262 / 6307], examples_per_second: 1872.2189, train_label_loss: 0.0009, \n"
     ]
    },
    {
     "name": "stdout",
     "output_type": "stream",
     "text": [
      "epoch: 4, [batch: 1892 / 6307], examples_per_second: 1873.8476, train_label_loss: 0.0000, \n"
     ]
    },
    {
     "name": "stdout",
     "output_type": "stream",
     "text": [
      "epoch: 4, [batch: 2523 / 6307], examples_per_second: 2014.3047, train_label_loss: 0.0000, \n"
     ]
    },
    {
     "name": "stdout",
     "output_type": "stream",
     "text": [
      "epoch: 4, [batch: 3154 / 6307], examples_per_second: 2485.6929, train_label_loss: 0.0000, \n"
     ]
    },
    {
     "name": "stdout",
     "output_type": "stream",
     "text": [
      "epoch: 4, [batch: 3784 / 6307], examples_per_second: 1940.0861, train_label_loss: 0.0001, \n"
     ]
    },
    {
     "name": "stdout",
     "output_type": "stream",
     "text": [
      "epoch: 4, [batch: 4415 / 6307], examples_per_second: 1869.7246, train_label_loss: 0.0000, \n"
     ]
    },
    {
     "name": "stdout",
     "output_type": "stream",
     "text": [
      "epoch: 4, [batch: 5045 / 6307], examples_per_second: 1872.9902, train_label_loss: 0.0000, \n"
     ]
    },
    {
     "name": "stdout",
     "output_type": "stream",
     "text": [
      "epoch: 4, [batch: 5676 / 6307], examples_per_second: 1876.8529, train_label_loss: 0.0000, \n"
     ]
    },
    {
     "name": "stdout",
     "output_type": "stream",
     "text": [
      "=============================================================\n",
      "epoch: 4, source_val_acc_label: 0.9964, target_val_acc_label: 0.2285, source_val_label_loss: 0.0164, target_val_label_loss: 3.8013, \n",
      "=============================================================\n"
     ]
    },
    {
     "name": "stdout",
     "output_type": "stream",
     "text": [
      "epoch: 5, [batch: 1 / 6302], examples_per_second: 2.8262, train_label_loss: 0.0272, \n"
     ]
    },
    {
     "name": "stdout",
     "output_type": "stream",
     "text": [
      "epoch: 5, [batch: 631 / 6302], examples_per_second: 1875.1365, train_label_loss: 0.0000, \n"
     ]
    },
    {
     "name": "stdout",
     "output_type": "stream",
     "text": [
      "epoch: 5, [batch: 1261 / 6302], examples_per_second: 1871.1583, train_label_loss: 0.0000, \n"
     ]
    },
    {
     "name": "stdout",
     "output_type": "stream",
     "text": [
      "epoch: 5, [batch: 1891 / 6302], examples_per_second: 1873.6711, train_label_loss: 0.0000, \n"
     ]
    },
    {
     "name": "stdout",
     "output_type": "stream",
     "text": [
      "epoch: 5, [batch: 2521 / 6302], examples_per_second: 2010.8596, train_label_loss: 0.0000, \n"
     ]
    },
    {
     "name": "stdout",
     "output_type": "stream",
     "text": [
      "epoch: 5, [batch: 3151 / 6302], examples_per_second: 2501.1921, train_label_loss: 0.0000, \n"
     ]
    },
    {
     "name": "stdout",
     "output_type": "stream",
     "text": [
      "epoch: 5, [batch: 3781 / 6302], examples_per_second: 1971.1982, train_label_loss: 0.0000, \n"
     ]
    },
    {
     "name": "stdout",
     "output_type": "stream",
     "text": [
      "epoch: 5, [batch: 4411 / 6302], examples_per_second: 1866.4168, train_label_loss: 0.0008, \n"
     ]
    },
    {
     "name": "stdout",
     "output_type": "stream",
     "text": [
      "epoch: 5, [batch: 5041 / 6302], examples_per_second: 1872.8825, train_label_loss: 0.0000, \n"
     ]
    },
    {
     "name": "stdout",
     "output_type": "stream",
     "text": [
      "epoch: 5, [batch: 5671 / 6302], examples_per_second: 1876.2218, train_label_loss: 0.0000, \n"
     ]
    },
    {
     "name": "stdout",
     "output_type": "stream",
     "text": [
      "=============================================================\n",
      "epoch: 5, source_val_acc_label: 0.9994, target_val_acc_label: 0.2891, source_val_label_loss: 0.0048, target_val_label_loss: 2.9070, \n",
      "=============================================================\n"
     ]
    },
    {
     "name": "stdout",
     "output_type": "stream",
     "text": [
      "epoch: 6, [batch: 1 / 6311], examples_per_second: 2.8138, train_label_loss: 0.0000, \n"
     ]
    },
    {
     "name": "stdout",
     "output_type": "stream",
     "text": [
      "epoch: 6, [batch: 632 / 6311], examples_per_second: 1876.6248, train_label_loss: 0.0000, \n"
     ]
    },
    {
     "name": "stdout",
     "output_type": "stream",
     "text": [
      "epoch: 6, [batch: 1263 / 6311], examples_per_second: 1871.4936, train_label_loss: 0.0001, \n"
     ]
    },
    {
     "name": "stdout",
     "output_type": "stream",
     "text": [
      "epoch: 6, [batch: 1894 / 6311], examples_per_second: 1871.9198, train_label_loss: 0.0000, \n"
     ]
    },
    {
     "name": "stdout",
     "output_type": "stream",
     "text": [
      "epoch: 6, [batch: 2525 / 6311], examples_per_second: 2009.7568, train_label_loss: 0.0012, \n"
     ]
    },
    {
     "name": "stdout",
     "output_type": "stream",
     "text": [
      "epoch: 6, [batch: 3156 / 6311], examples_per_second: 2492.1976, train_label_loss: 0.0000, \n"
     ]
    },
    {
     "name": "stdout",
     "output_type": "stream",
     "text": [
      "epoch: 6, [batch: 3787 / 6311], examples_per_second: 1959.1105, train_label_loss: 0.0000, \n"
     ]
    },
    {
     "name": "stdout",
     "output_type": "stream",
     "text": [
      "epoch: 6, [batch: 4418 / 6311], examples_per_second: 1868.8805, train_label_loss: 0.0000, \n"
     ]
    },
    {
     "name": "stdout",
     "output_type": "stream",
     "text": [
      "epoch: 6, [batch: 5049 / 6311], examples_per_second: 1871.6185, train_label_loss: 0.0000, \n"
     ]
    },
    {
     "name": "stdout",
     "output_type": "stream",
     "text": [
      "epoch: 6, [batch: 5680 / 6311], examples_per_second: 1879.5709, train_label_loss: 0.0000, \n"
     ]
    },
    {
     "name": "stdout",
     "output_type": "stream",
     "text": [
      "=============================================================\n",
      "epoch: 6, source_val_acc_label: 0.9996, target_val_acc_label: 0.2970, source_val_label_loss: 0.0050, target_val_label_loss: 2.8365, \n",
      "=============================================================\n"
     ]
    },
    {
     "name": "stdout",
     "output_type": "stream",
     "text": [
      "epoch: 7, [batch: 1 / 6310], examples_per_second: 2.8152, train_label_loss: 0.0000, \n"
     ]
    },
    {
     "name": "stdout",
     "output_type": "stream",
     "text": [
      "epoch: 7, [batch: 631 / 6310], examples_per_second: 1877.3205, train_label_loss: 0.0000, \n"
     ]
    },
    {
     "name": "stdout",
     "output_type": "stream",
     "text": [
      "epoch: 7, [batch: 1262 / 6310], examples_per_second: 1871.3243, train_label_loss: 0.0000, \n"
     ]
    },
    {
     "name": "stdout",
     "output_type": "stream",
     "text": [
      "epoch: 7, [batch: 1893 / 6310], examples_per_second: 1872.1514, train_label_loss: 0.0000, \n"
     ]
    },
    {
     "name": "stdout",
     "output_type": "stream",
     "text": [
      "epoch: 7, [batch: 2524 / 6310], examples_per_second: 2003.4888, train_label_loss: 0.0000, \n"
     ]
    },
    {
     "name": "stdout",
     "output_type": "stream",
     "text": [
      "epoch: 7, [batch: 3155 / 6310], examples_per_second: 2467.9763, train_label_loss: 0.0000, \n"
     ]
    },
    {
     "name": "stdout",
     "output_type": "stream",
     "text": [
      "epoch: 7, [batch: 3786 / 6310], examples_per_second: 1989.3029, train_label_loss: 0.0000, \n"
     ]
    },
    {
     "name": "stdout",
     "output_type": "stream",
     "text": [
      "epoch: 7, [batch: 4417 / 6310], examples_per_second: 1869.3013, train_label_loss: 0.0000, \n"
     ]
    },
    {
     "name": "stdout",
     "output_type": "stream",
     "text": [
      "epoch: 7, [batch: 5048 / 6310], examples_per_second: 1874.3375, train_label_loss: 0.0000, \n"
     ]
    },
    {
     "name": "stdout",
     "output_type": "stream",
     "text": [
      "epoch: 7, [batch: 5679 / 6310], examples_per_second: 1874.6589, train_label_loss: 0.0000, \n"
     ]
    },
    {
     "name": "stdout",
     "output_type": "stream",
     "text": [
      "=============================================================\n",
      "epoch: 7, source_val_acc_label: 0.9986, target_val_acc_label: 0.3208, source_val_label_loss: 0.0093, target_val_label_loss: 2.9818, \n",
      "=============================================================\n"
     ]
    },
    {
     "name": "stdout",
     "output_type": "stream",
     "text": [
      "New best\n"
     ]
    },
    {
     "name": "stdout",
     "output_type": "stream",
     "text": [
      "epoch: 8, [batch: 1 / 6331], examples_per_second: 2.8597, train_label_loss: 0.0000, \n"
     ]
    },
    {
     "name": "stdout",
     "output_type": "stream",
     "text": [
      "epoch: 8, [batch: 634 / 6331], examples_per_second: 1874.8250, train_label_loss: 0.0000, \n"
     ]
    },
    {
     "name": "stdout",
     "output_type": "stream",
     "text": [
      "epoch: 8, [batch: 1267 / 6331], examples_per_second: 1873.2924, train_label_loss: 0.0000, \n"
     ]
    },
    {
     "name": "stdout",
     "output_type": "stream",
     "text": [
      "epoch: 8, [batch: 1900 / 6331], examples_per_second: 1872.9337, train_label_loss: 0.0000, \n"
     ]
    },
    {
     "name": "stdout",
     "output_type": "stream",
     "text": [
      "epoch: 8, [batch: 2533 / 6331], examples_per_second: 1968.7118, train_label_loss: 0.0000, \n"
     ]
    },
    {
     "name": "stdout",
     "output_type": "stream",
     "text": [
      "epoch: 8, [batch: 3166 / 6331], examples_per_second: 2383.7458, train_label_loss: 0.0000, \n"
     ]
    },
    {
     "name": "stdout",
     "output_type": "stream",
     "text": [
      "epoch: 8, [batch: 3799 / 6331], examples_per_second: 2315.9613, train_label_loss: 0.0000, \n"
     ]
    },
    {
     "name": "stdout",
     "output_type": "stream",
     "text": [
      "epoch: 8, [batch: 4432 / 6331], examples_per_second: 2373.4956, train_label_loss: 0.0000, \n"
     ]
    },
    {
     "name": "stdout",
     "output_type": "stream",
     "text": [
      "epoch: 8, [batch: 5065 / 6331], examples_per_second: 2305.3833, train_label_loss: 0.0000, \n"
     ]
    },
    {
     "name": "stdout",
     "output_type": "stream",
     "text": [
      "epoch: 8, [batch: 5698 / 6331], examples_per_second: 2243.6797, train_label_loss: 0.0000, \n"
     ]
    },
    {
     "name": "stdout",
     "output_type": "stream",
     "text": [
      "=============================================================\n",
      "epoch: 8, source_val_acc_label: 0.9995, target_val_acc_label: 0.2596, source_val_label_loss: 0.0066, target_val_label_loss: 4.6370, \n",
      "=============================================================\n"
     ]
    },
    {
     "name": "stdout",
     "output_type": "stream",
     "text": [
      "epoch: 9, [batch: 1 / 6311], examples_per_second: 4.5185, train_label_loss: 0.0000, \n"
     ]
    },
    {
     "name": "stdout",
     "output_type": "stream",
     "text": [
      "epoch: 9, [batch: 632 / 6311], examples_per_second: 3548.5382, train_label_loss: 0.0000, \n"
     ]
    },
    {
     "name": "stdout",
     "output_type": "stream",
     "text": [
      "epoch: 9, [batch: 1263 / 6311], examples_per_second: 3566.0653, train_label_loss: 0.0000, \n"
     ]
    },
    {
     "name": "stdout",
     "output_type": "stream",
     "text": [
      "epoch: 9, [batch: 1894 / 6311], examples_per_second: 3614.7752, train_label_loss: 0.0000, \n"
     ]
    },
    {
     "name": "stdout",
     "output_type": "stream",
     "text": [
      "epoch: 9, [batch: 2525 / 6311], examples_per_second: 3632.4805, train_label_loss: 0.0000, \n"
     ]
    },
    {
     "name": "stdout",
     "output_type": "stream",
     "text": [
      "epoch: 9, [batch: 3156 / 6311], examples_per_second: 3638.4717, train_label_loss: 0.0000, \n"
     ]
    },
    {
     "name": "stdout",
     "output_type": "stream",
     "text": [
      "epoch: 9, [batch: 3787 / 6311], examples_per_second: 3632.3057, train_label_loss: 0.0000, \n"
     ]
    },
    {
     "name": "stdout",
     "output_type": "stream",
     "text": [
      "epoch: 9, [batch: 4418 / 6311], examples_per_second: 2802.1801, train_label_loss: 0.0000, \n"
     ]
    },
    {
     "name": "stdout",
     "output_type": "stream",
     "text": [
      "epoch: 9, [batch: 5049 / 6311], examples_per_second: 1874.6290, train_label_loss: 0.0000, \n"
     ]
    },
    {
     "name": "stdout",
     "output_type": "stream",
     "text": [
      "epoch: 9, [batch: 5680 / 6311], examples_per_second: 1874.6601, train_label_loss: 0.0000, \n"
     ]
    },
    {
     "name": "stdout",
     "output_type": "stream",
     "text": [
      "=============================================================\n",
      "epoch: 9, source_val_acc_label: 0.9989, target_val_acc_label: 0.3141, source_val_label_loss: 0.0138, target_val_label_loss: 3.2606, \n",
      "=============================================================\n"
     ]
    },
    {
     "name": "stdout",
     "output_type": "stream",
     "text": [
      "epoch: 10, [batch: 1 / 6309], examples_per_second: 2.8106, train_label_loss: 0.0000, \n"
     ]
    },
    {
     "name": "stdout",
     "output_type": "stream",
     "text": [
      "epoch: 10, [batch: 631 / 6309], examples_per_second: 1875.1011, train_label_loss: 0.0000, \n"
     ]
    },
    {
     "name": "stdout",
     "output_type": "stream",
     "text": [
      "epoch: 10, [batch: 1262 / 6309], examples_per_second: 1880.7364, train_label_loss: 0.0000, \n"
     ]
    },
    {
     "name": "stdout",
     "output_type": "stream",
     "text": [
      "epoch: 10, [batch: 1893 / 6309], examples_per_second: 1874.2244, train_label_loss: 0.0000, \n"
     ]
    },
    {
     "name": "stdout",
     "output_type": "stream",
     "text": [
      "epoch: 10, [batch: 2524 / 6309], examples_per_second: 1871.6282, train_label_loss: 0.0000, \n"
     ]
    },
    {
     "name": "stdout",
     "output_type": "stream",
     "text": [
      "epoch: 10, [batch: 3155 / 6309], examples_per_second: 1875.5652, train_label_loss: 0.0000, \n"
     ]
    },
    {
     "name": "stdout",
     "output_type": "stream",
     "text": [
      "epoch: 10, [batch: 3785 / 6309], examples_per_second: 2233.3576, train_label_loss: 0.0127, \n"
     ]
    },
    {
     "name": "stdout",
     "output_type": "stream",
     "text": [
      "epoch: 10, [batch: 4416 / 6309], examples_per_second: 2361.2890, train_label_loss: 0.0000, \n"
     ]
    },
    {
     "name": "stdout",
     "output_type": "stream",
     "text": [
      "epoch: 10, [batch: 5047 / 6309], examples_per_second: 1876.3355, train_label_loss: 0.0000, \n"
     ]
    },
    {
     "name": "stdout",
     "output_type": "stream",
     "text": [
      "epoch: 10, [batch: 5678 / 6309], examples_per_second: 1874.4727, train_label_loss: 0.0000, \n"
     ]
    },
    {
     "name": "stdout",
     "output_type": "stream",
     "text": [
      "=============================================================\n",
      "epoch: 10, source_val_acc_label: 0.9994, target_val_acc_label: 0.2833, source_val_label_loss: 0.0075, target_val_label_loss: 4.5760, \n",
      "=============================================================\n"
     ]
    },
    {
     "name": "stdout",
     "output_type": "stream",
     "text": [
      "epoch: 11, [batch: 1 / 6319], examples_per_second: 2.8205, train_label_loss: 0.0000, \n"
     ]
    },
    {
     "name": "stdout",
     "output_type": "stream",
     "text": [
      "epoch: 11, [batch: 632 / 6319], examples_per_second: 1874.8016, train_label_loss: 0.0000, \n"
     ]
    },
    {
     "name": "stdout",
     "output_type": "stream",
     "text": [
      "epoch: 11, [batch: 1264 / 6319], examples_per_second: 1878.1880, train_label_loss: 0.0000, \n"
     ]
    },
    {
     "name": "stdout",
     "output_type": "stream",
     "text": [
      "epoch: 11, [batch: 1896 / 6319], examples_per_second: 1878.3935, train_label_loss: 0.0000, \n"
     ]
    },
    {
     "name": "stdout",
     "output_type": "stream",
     "text": [
      "epoch: 11, [batch: 2528 / 6319], examples_per_second: 1875.1075, train_label_loss: 0.0000, \n"
     ]
    },
    {
     "name": "stdout",
     "output_type": "stream",
     "text": [
      "epoch: 11, [batch: 3160 / 6319], examples_per_second: 1877.0601, train_label_loss: 0.1220, \n"
     ]
    },
    {
     "name": "stdout",
     "output_type": "stream",
     "text": [
      "epoch: 11, [batch: 3791 / 6319], examples_per_second: 2215.4668, train_label_loss: 0.0000, \n"
     ]
    },
    {
     "name": "stdout",
     "output_type": "stream",
     "text": [
      "epoch: 11, [batch: 4423 / 6319], examples_per_second: 2367.0950, train_label_loss: 0.0000, \n"
     ]
    },
    {
     "name": "stdout",
     "output_type": "stream",
     "text": [
      "epoch: 11, [batch: 5055 / 6319], examples_per_second: 1878.5237, train_label_loss: 0.0000, \n"
     ]
    },
    {
     "name": "stdout",
     "output_type": "stream",
     "text": [
      "epoch: 11, [batch: 5687 / 6319], examples_per_second: 1876.2102, train_label_loss: 0.0000, \n"
     ]
    },
    {
     "name": "stdout",
     "output_type": "stream",
     "text": [
      "=============================================================\n",
      "epoch: 11, source_val_acc_label: 0.9995, target_val_acc_label: 0.2906, source_val_label_loss: 0.0081, target_val_label_loss: 4.4986, \n",
      "=============================================================\n"
     ]
    },
    {
     "name": "stdout",
     "output_type": "stream",
     "text": [
      "Patience (3) exhausted\n"
     ]
    }
   ],
   "source": [
    "###################################\n",
    "# train\n",
    "###################################\n",
    "jig = PTN_Train_Eval_Test_Jig(model, p.BEST_MODEL_PATH, p.device)\n",
    "\n",
    "jig.train(\n",
    "    train_iterable=datasets.source.processed.train,\n",
    "    source_val_iterable=datasets.source.processed.val,\n",
    "    target_val_iterable=datasets.target.processed.val,\n",
    "    num_epochs=p.n_epoch,\n",
    "    num_logs_per_epoch=p.NUM_LOGS_PER_EPOCH,\n",
    "    patience=p.patience,\n",
    "    optimizer=optimizer,\n",
    "    criteria_for_best=p.criteria_for_best,\n",
    ")"
   ]
  },
  {
   "cell_type": "code",
   "execution_count": 23,
   "id": "31e8fabf",
   "metadata": {
    "execution": {
     "iopub.execute_input": "2022-03-25T20:19:43.562588Z",
     "iopub.status.busy": "2022-03-25T20:19:43.562326Z",
     "iopub.status.idle": "2022-03-25T20:19:43.580031Z",
     "shell.execute_reply": "2022-03-25T20:19:43.580247Z"
    },
    "papermill": {
     "duration": 0.058299,
     "end_time": "2022-03-25T20:19:43.580331",
     "exception": false,
     "start_time": "2022-03-25T20:19:43.522032",
     "status": "completed"
    },
    "tags": []
   },
   "outputs": [],
   "source": [
    "total_experiment_time_secs = time.time() - start_time_secs"
   ]
  },
  {
   "cell_type": "code",
   "execution_count": 24,
   "id": "87b9595b",
   "metadata": {
    "execution": {
     "iopub.execute_input": "2022-03-25T20:19:43.659760Z",
     "iopub.status.busy": "2022-03-25T20:19:43.656080Z",
     "iopub.status.idle": "2022-03-25T20:22:13.879971Z",
     "shell.execute_reply": "2022-03-25T20:22:13.879624Z"
    },
    "papermill": {
     "duration": 150.262683,
     "end_time": "2022-03-25T20:22:13.880058",
     "exception": false,
     "start_time": "2022-03-25T20:19:43.617375",
     "status": "completed"
    },
    "tags": []
   },
   "outputs": [],
   "source": [
    "###################################\n",
    "# Evaluate the model\n",
    "###################################\n",
    "source_test_label_accuracy, source_test_label_loss = jig.test(datasets.source.processed.test)\n",
    "target_test_label_accuracy, target_test_label_loss = jig.test(datasets.target.processed.test)\n",
    "\n",
    "source_val_label_accuracy, source_val_label_loss = jig.test(datasets.source.processed.val)\n",
    "target_val_label_accuracy, target_val_label_loss = jig.test(datasets.target.processed.val)\n",
    "\n",
    "history = jig.get_history()\n",
    "\n",
    "total_epochs_trained = len(history[\"epoch_indices\"])\n",
    "\n",
    "val_dl = Iterable_Aggregator((datasets.source.original.val,datasets.target.original.val))\n",
    "\n",
    "confusion = ptn_confusion_by_domain_over_dataloader(model, p.device, val_dl)\n",
    "per_domain_accuracy = per_domain_accuracy_from_confusion(confusion)\n",
    "\n",
    "# Add a key to per_domain_accuracy for if it was a source domain\n",
    "for domain, accuracy in per_domain_accuracy.items():\n",
    "    per_domain_accuracy[domain] = {\n",
    "        \"accuracy\": accuracy,\n",
    "        \"source?\": domain in p.domains_source\n",
    "    }\n",
    "\n",
    "# Do an independent accuracy assesment JUST TO BE SURE!\n",
    "# _source_test_label_accuracy = independent_accuracy_assesment(model, datasets.source.processed.test, p.device)\n",
    "# _target_test_label_accuracy = independent_accuracy_assesment(model, datasets.target.processed.test, p.device)\n",
    "# _source_val_label_accuracy = independent_accuracy_assesment(model, datasets.source.processed.val, p.device)\n",
    "# _target_val_label_accuracy = independent_accuracy_assesment(model, datasets.target.processed.val, p.device)\n",
    "\n",
    "# assert(_source_test_label_accuracy == source_test_label_accuracy)\n",
    "# assert(_target_test_label_accuracy == target_test_label_accuracy)\n",
    "# assert(_source_val_label_accuracy == source_val_label_accuracy)\n",
    "# assert(_target_val_label_accuracy == target_val_label_accuracy)\n",
    "\n",
    "experiment = {\n",
    "    \"experiment_name\": p.experiment_name,\n",
    "    \"parameters\": dict(p),\n",
    "    \"results\": {\n",
    "        \"source_test_label_accuracy\": source_test_label_accuracy,\n",
    "        \"source_test_label_loss\": source_test_label_loss,\n",
    "        \"target_test_label_accuracy\": target_test_label_accuracy,\n",
    "        \"target_test_label_loss\": target_test_label_loss,\n",
    "        \"source_val_label_accuracy\": source_val_label_accuracy,\n",
    "        \"source_val_label_loss\": source_val_label_loss,\n",
    "        \"target_val_label_accuracy\": target_val_label_accuracy,\n",
    "        \"target_val_label_loss\": target_val_label_loss,\n",
    "        \"total_epochs_trained\": total_epochs_trained,\n",
    "        \"total_experiment_time_secs\": total_experiment_time_secs,\n",
    "        \"confusion\": confusion,\n",
    "        \"per_domain_accuracy\": per_domain_accuracy,\n",
    "    },\n",
    "    \"history\": history,\n",
    "    \"dataset_metrics\": get_dataset_metrics(datasets, \"ptn\"),\n",
    "}"
   ]
  },
  {
   "cell_type": "code",
   "execution_count": 25,
   "id": "54a21829",
   "metadata": {
    "execution": {
     "iopub.execute_input": "2022-03-25T20:22:13.963940Z",
     "iopub.status.busy": "2022-03-25T20:22:13.963671Z",
     "iopub.status.idle": "2022-03-25T20:22:14.082604Z",
     "shell.execute_reply": "2022-03-25T20:22:14.082984Z"
    },
    "papermill": {
     "duration": 0.161687,
     "end_time": "2022-03-25T20:22:14.083106",
     "exception": false,
     "start_time": "2022-03-25T20:22:13.921419",
     "status": "completed"
    },
    "tags": []
   },
   "outputs": [
    {
     "data": {
      "image/png": "[encoded data removed]",
      "text/plain": [
       "<Figure size 1080x504 with 1 Axes>"
      ]
     },
     "metadata": {
      "needs_background": "light"
     },
     "output_type": "display_data"
    }
   ],
   "source": [
    "ax = get_loss_curve(experiment)\n",
    "plt.show()"
   ]
  },
  {
   "cell_type": "code",
   "execution_count": 26,
   "id": "fd8a0f60",
   "metadata": {
    "execution": {
     "iopub.execute_input": "2022-03-25T20:22:14.167509Z",
     "iopub.status.busy": "2022-03-25T20:22:14.166854Z",
     "iopub.status.idle": "2022-03-25T20:22:14.310948Z",
     "shell.execute_reply": "2022-03-25T20:22:14.310607Z"
    },
    "papermill": {
     "duration": 0.184892,
     "end_time": "2022-03-25T20:22:14.311032",
     "exception": false,
     "start_time": "2022-03-25T20:22:14.126140",
     "status": "completed"
    },
    "tags": []
   },
   "outputs": [
    {
     "data": {
      "text/plain": [
       "<AxesSubplot:title={'center':'Results'}>"
      ]
     },
     "execution_count": 26,
     "metadata": {},
     "output_type": "execute_result"
    },
    {
     "data": {
      "image/png": "[encoded data removed]",
      "text/plain": [
       "<Figure size 1080x504 with 1 Axes>"
      ]
     },
     "metadata": {
      "needs_background": "light"
     },
     "output_type": "display_data"
    }
   ],
   "source": [
    "get_results_table(experiment)"
   ]
  },
  {
   "cell_type": "code",
   "execution_count": 27,
   "id": "cf8dc689",
   "metadata": {
    "execution": {
     "iopub.execute_input": "2022-03-25T20:22:14.396750Z",
     "iopub.status.busy": "2022-03-25T20:22:14.396484Z",
     "iopub.status.idle": "2022-03-25T20:22:14.539846Z",
     "shell.execute_reply": "2022-03-25T20:22:14.540251Z"
    },
    "papermill": {
     "duration": 0.185753,
     "end_time": "2022-03-25T20:22:14.540376",
     "exception": false,
     "start_time": "2022-03-25T20:22:14.354623",
     "status": "completed"
    },
    "tags": []
   },
   "outputs": [
    {
     "data": {
      "text/plain": [
       "<AxesSubplot:title={'center':'Per Domain Validation Accuracy'}, xlabel='domain'>"
      ]
     },
     "execution_count": 27,
     "metadata": {},
     "output_type": "execute_result"
    },
    {
     "data": {
      "image/png": "[encoded data removed]",
      "text/plain": [
       "<Figure size 1080x504 with 1 Axes>"
      ]
     },
     "metadata": {
      "needs_background": "light"
     },
     "output_type": "display_data"
    }
   ],
   "source": [
    "get_domain_accuracies(experiment)"
   ]
  },
  {
   "cell_type": "code",
   "execution_count": 28,
   "id": "a74ae082",
   "metadata": {
    "execution": {
     "iopub.execute_input": "2022-03-25T20:22:14.630189Z",
     "iopub.status.busy": "2022-03-25T20:22:14.629908Z",
     "iopub.status.idle": "2022-03-25T20:22:14.646901Z",
     "shell.execute_reply": "2022-03-25T20:22:14.647268Z"
    },
    "papermill": {
     "duration": 0.060216,
     "end_time": "2022-03-25T20:22:14.647378",
     "exception": false,
     "start_time": "2022-03-25T20:22:14.587162",
     "status": "completed"
    },
    "tags": []
   },
   "outputs": [
    {
     "name": "stdout",
     "output_type": "stream",
     "text": [
      "Source Test Label Accuracy: 0.9989466292134831 Target Test Label Accuracy: 0.3229166666666667\n",
      "Source Val Label Accuracy: 0.9986428571428572 Target Val Label Accuracy: 0.32076822916666664\n"
     ]
    }
   ],
   "source": [
    "print(\"Source Test Label Accuracy:\", experiment[\"results\"][\"source_test_label_accuracy\"], \"Target Test Label Accuracy:\", experiment[\"results\"][\"target_test_label_accuracy\"])\n",
    "print(\"Source Val Label Accuracy:\", experiment[\"results\"][\"source_val_label_accuracy\"], \"Target Val Label Accuracy:\", experiment[\"results\"][\"target_val_label_accuracy\"])"
   ]
  },
  {
   "cell_type": "code",
   "execution_count": 29,
   "id": "dacca602",
   "metadata": {
    "execution": {
     "iopub.execute_input": "2022-03-25T20:22:14.736698Z",
     "iopub.status.busy": "2022-03-25T20:22:14.736444Z",
     "iopub.status.idle": "2022-03-25T20:22:14.754587Z",
     "shell.execute_reply": "2022-03-25T20:22:14.754987Z"
    },
    "papermill": {
     "duration": 0.061954,
     "end_time": "2022-03-25T20:22:14.755105",
     "exception": false,
     "start_time": "2022-03-25T20:22:14.693151",
     "status": "completed"
    },
    "tags": [
     "experiment_json"
    ]
   },
   "outputs": [
    {
     "data": {
      "text/plain": [
       "'{\"experiment_name\": \"tl_3-filterv2:cores -> oracle.run1.framed\", \"parameters\": {\"experiment_name\": \"tl_3-filterv2:cores -> oracle.run1.framed\", \"device\": \"cuda\", \"lr\": 0.0001, \"x_shape\": [2, 200], \"n_shot\": 3, \"n_query\": 2, \"train_k_factor\": 3, \"val_k_factor\": 2, \"test_k_factor\": 2, \"torch_default_dtype\": \"torch.float32\", \"n_epoch\": 50, \"patience\": 3, \"criteria_for_best\": \"target_accuracy\", \"x_net\": [{\"class\": \"nnReshape\", \"kargs\": {\"shape\": [-1, 1, 2, 200]}}, {\"class\": \"Conv2d\", \"kargs\": {\"in_channels\": 1, \"out_channels\": 256, \"kernel_size\": [1, 7], \"bias\": false, \"padding\": [0, 3]}}, {\"class\": \"ReLU\", \"kargs\": {\"inplace\": true}}, {\"class\": \"BatchNorm2d\", \"kargs\": {\"num_features\": 256}}, {\"class\": \"Conv2d\", \"kargs\": {\"in_channels\": 256, \"out_channels\": 80, \"kernel_size\": [2, 7], \"bias\": true, \"padding\": [0, 3]}}, {\"class\": \"ReLU\", \"kargs\": {\"inplace\": true}}, {\"class\": \"BatchNorm2d\", \"kargs\": {\"num_features\": 80}}, {\"class\": \"Flatten\", \"kargs\": {}}, {\"class\": \"Linear\", \"kargs\": {\"in_features\": 16000, \"out_features\": 256}}, {\"class\": \"ReLU\", \"kargs\": {\"inplace\": true}}, {\"class\": \"BatchNorm1d\", \"kargs\": {\"num_features\": 256}}, {\"class\": \"Linear\", \"kargs\": {\"in_features\": 256, \"out_features\": 256}}], \"NUM_LOGS_PER_EPOCH\": 10, \"BEST_MODEL_PATH\": \"./best_model.pth\", \"n_way\": 16, \"datasets\": [{\"labels\": [\"1-10.\", \"1-11.\", \"1-15.\", \"1-16.\", \"1-17.\", \"1-18.\", \"1-19.\", \"10-4.\", \"10-7.\", \"11-1.\", \"11-14.\", \"11-17.\", \"11-20.\", \"11-7.\", \"13-20.\", \"13-8.\", \"14-10.\", \"14-11.\", \"14-14.\", \"14-7.\", \"15-1.\", \"15-20.\", \"16-1.\", \"16-16.\", \"17-10.\", \"17-11.\", \"17-2.\", \"19-1.\", \"19-16.\", \"19-19.\", \"19-20.\", \"19-3.\", \"2-10.\", \"2-11.\", \"2-17.\", \"2-18.\", \"2-20.\", \"2-3.\", \"2-4.\", \"2-5.\", \"2-6.\", \"2-7.\", \"2-8.\", \"3-13.\", \"3-18.\", \"3-3.\", \"4-1.\", \"4-10.\", \"4-11.\", \"4-19.\", \"5-5.\", \"6-15.\", \"7-10.\", \"7-14.\", \"8-18.\", \"8-20.\", \"8-3.\", \"8-8.\"], \"domains\": [1, 2, 3, 4, 5], \"num_examples_per_domain_per_label\": -1, \"pickle_path\": \"/mnt/wd500GB/CSC500/csc500-main/datasets/cores.stratified_ds.2022A.pkl\", \"source_or_target_dataset\": \"source\", \"x_transforms\": [\"unit_power\", \"lowpass_+/-10MHz\", \"take_200\"], \"episode_transforms\": [], \"domain_prefix\": \"C_\"}, {\"labels\": [\"3123D52\", \"3123D65\", \"3123D79\", \"3123D80\", \"3123D54\", \"3123D70\", \"3123D7B\", \"3123D89\", \"3123D58\", \"3123D76\", \"3123D7D\", \"3123EFE\", \"3123D64\", \"3123D78\", \"3123D7E\", \"3124E4A\"], \"domains\": [32, 38, 8, 44, 14, 50, 20, 26], \"num_examples_per_domain_per_label\": 2000, \"pickle_path\": \"/mnt/wd500GB/CSC500/csc500-main/datasets/oracle.Run1_framed_2000Examples_stratified_ds.2022A.pkl\", \"source_or_target_dataset\": \"target\", \"x_transforms\": [\"unit_power\", \"take_200\", \"resample_20Msps_to_25Msps\"], \"episode_transforms\": [], \"domain_prefix\": \"O_\"}], \"seed\": 500, \"dataset_seed\": 500, \"domains_source\": [\"C_1\", \"C_2\", \"C_3\", \"C_4\", \"C_5\"], \"domains_target\": [\"O_32\", \"O_38\", \"O_8\", \"O_44\", \"O_14\", \"O_50\", \"O_20\", \"O_26\"]}, \"results\": {\"source_test_label_accuracy\": 0.9989466292134831, \"source_test_label_loss\": 0.012040854431688786, \"target_test_label_accuracy\": 0.3229166666666667, \"target_test_label_loss\": 2.985399007797241, \"source_val_label_accuracy\": 0.9986428571428572, \"source_val_label_loss\": 0.009259222075343132, \"target_val_label_accuracy\": 0.32076822916666664, \"target_val_label_loss\": 2.981795072555542, \"total_epochs_trained\": 11, \"total_experiment_time_secs\": 3129.8153948783875, \"confusion\": {\"C_4\": {\"38\": {\"38\": 40}, \"3\": {\"3\": 124}, \"24\": {\"24\": 56}, \"49\": {\"49\": 20}, \"7\": {\"7\": 24}, \"17\": {\"17\": 80}, \"43\": {\"43\": 148}, \"30\": {\"30\": 44}, \"44\": {\"44\": 128, \"19\": 2, \"40\": 2}, \"23\": {\"23\": 144}, \"37\": {\"37\": 24}, \"4\": {\"4\": 132}, \"57\": {\"57\": 100}, \"16\": {\"16\": 96}, \"18\": {\"18\": 107, \"10\": 1}, \"20\": {\"20\": 124}, \"45\": {\"45\": 96}, \"15\": {\"15\": 132}, \"52\": {\"52\": 116}, \"19\": {\"19\": 139, \"44\": 1}, \"54\": {\"54\": 108}, \"56\": {\"56\": 130}, \"40\": {\"40\": 134}, \"28\": {\"28\": 31, \"26\": 1}, \"2\": {\"2\": 36}, \"9\": {\"9\": 119, \"27\": 1}, \"0\": {\"0\": 80}, \"36\": {\"36\": 92}, \"55\": {\"55\": 130}, \"35\": {\"35\": 40}, \"39\": {\"39\": 20}, \"31\": {\"31\": 28}, \"14\": {\"14\": 16}, \"12\": {\"12\": 92}, \"6\": {\"6\": 111, \"5\": 1}, \"26\": {\"26\": 24}, \"50\": {\"50\": 132}, \"21\": {\"21\": 121, \"50\": 1}, \"46\": {\"46\": 140}, \"51\": {\"51\": 140}, \"41\": {\"41\": 36}, \"34\": {\"34\": 24}, \"47\": {\"47\": 120}, \"5\": {\"5\": 108}, \"1\": {\"1\": 40}, \"48\": {\"48\": 134}, \"29\": {\"29\": 118}, \"22\": {\"22\": 127, \"7\": 1}, \"10\": {\"10\": 132}, \"32\": {\"32\": 24}, \"13\": {\"13\": 112}, \"42\": {\"42\": 32}, \"27\": {\"27\": 138}, \"8\": {\"8\": 142}, \"33\": {\"33\": 36}, \"25\": {\"25\": 132}, \"11\": {\"11\": 104}, \"53\": {\"53\": 112}}, \"C_2\": {\"32\": {\"32\": 28}, \"17\": {\"17\": 104}, \"38\": {\"38\": 20}, \"2\": {\"2\": 32}, \"43\": {\"43\": 144}, \"56\": {\"56\": 144}, \"37\": {\"37\": 36}, \"49\": {\"49\": 24}, \"0\": {\"0\": 44, \"57\": 4}, \"29\": {\"29\": 127, \"44\": 1}, \"35\": {\"35\": 32}, \"18\": {\"18\": 48}, \"25\": {\"25\": 136}, \"23\": {\"23\": 124}, \"15\": {\"15\": 146}, \"21\": {\"21\": 120}, \"51\": {\"51\": 128}, \"20\": {\"20\": 138}, \"7\": {\"7\": 36}, \"50\": {\"50\": 136}, \"31\": {\"31\": 28}, \"30\": {\"30\": 140}, \"19\": {\"19\": 156}, \"9\": {\"9\": 144}, \"52\": {\"52\": 124}, \"45\": {\"45\": 128}, \"8\": {\"8\": 154}, \"55\": {\"55\": 160}, \"12\": {\"12\": 92}, \"40\": {\"40\": 140}, \"28\": {\"28\": 28}, \"36\": {\"36\": 116}, \"39\": {\"39\": 28}, \"46\": {\"46\": 122}, \"14\": {\"14\": 24}, \"57\": {\"57\": 142}, \"34\": {\"34\": 28}, \"1\": {\"1\": 112}, \"53\": {\"53\": 136}, \"48\": {\"48\": 130}, \"3\": {\"3\": 92}, \"16\": {\"16\": 152}, \"6\": {\"6\": 124}, \"10\": {\"10\": 112}, \"13\": {\"13\": 116}, \"26\": {\"26\": 24}, \"24\": {\"24\": 96}, \"44\": {\"44\": 100}, \"27\": {\"27\": 150}, \"22\": {\"22\": 128}, \"33\": {\"33\": 28}, \"47\": {\"47\": 118}, \"5\": {\"5\": 120}, \"4\": {\"4\": 138}, \"41\": {\"41\": 20}, \"11\": {\"11\": 150}, \"54\": {\"54\": 108}, \"42\": {\"42\": 36}}, \"C_3\": {\"5\": {\"5\": 116}, \"32\": {\"32\": 28}, \"33\": {\"33\": 28}, \"49\": {\"49\": 20}, \"39\": {\"39\": 16}, \"11\": {\"11\": 142}, \"8\": {\"8\": 116}, \"26\": {\"26\": 24}, \"51\": {\"51\": 122}, \"4\": {\"4\": 146}, \"52\": {\"52\": 118}, \"47\": {\"47\": 92}, \"17\": {\"17\": 106, \"50\": 1, \"24\": 1}, \"53\": {\"53\": 136}, \"2\": {\"2\": 32}, \"12\": {\"12\": 92}, \"37\": {\"37\": 28}, \"9\": {\"9\": 148}, \"13\": {\"13\": 128}, \"54\": {\"54\": 100}, \"31\": {\"31\": 28}, \"34\": {\"34\": 32}, \"24\": {\"24\": 104}, \"7\": {\"7\": 36}, \"50\": {\"50\": 117, \"3\": 1}, \"46\": {\"46\": 128}, \"44\": {\"44\": 88}, \"40\": {\"40\": 116}, \"21\": {\"21\": 128}, \"45\": {\"45\": 60}, \"16\": {\"16\": 126}, \"14\": {\"14\": 39, \"28\": 1}, \"36\": {\"36\": 100}, \"56\": {\"56\": 114}, \"10\": {\"10\": 64}, \"18\": {\"18\": 84}, \"48\": {\"48\": 116}, \"38\": {\"38\": 28}, \"27\": {\"27\": 130}, \"42\": {\"42\": 28}, \"15\": {\"15\": 134}, \"1\": {\"1\": 100}, \"28\": {\"28\": 28}, \"43\": {\"43\": 136}, \"0\": {\"0\": 122, \"57\": 2}, \"57\": {\"57\": 124}, \"3\": {\"3\": 148}, \"29\": {\"29\": 124}, \"41\": {\"41\": 28}, \"25\": {\"25\": 146}, \"6\": {\"6\": 88}, \"35\": {\"35\": 28}, \"20\": {\"20\": 126}, \"23\": {\"23\": 134}, \"22\": {\"22\": 139, \"56\": 1}, \"19\": {\"19\": 116}, \"55\": {\"55\": 124}, \"30\": {\"30\": 120}}, \"C_1\": {\"24\": {\"24\": 108}, \"25\": {\"25\": 140}, \"45\": {\"45\": 144}, \"42\": {\"42\": 40}, \"2\": {\"2\": 36}, \"9\": {\"9\": 150}, \"21\": {\"21\": 124}, \"26\": {\"26\": 24}, \"49\": {\"49\": 32}, \"39\": {\"39\": 28}, \"46\": {\"46\": 136}, \"17\": {\"17\": 64}, \"19\": {\"19\": 156}, \"23\": {\"23\": 132}, \"1\": {\"1\": 98, \"57\": 2}, \"29\": {\"29\": 138, \"56\": 1, \"40\": 1}, \"56\": {\"56\": 150}, \"37\": {\"37\": 32}, \"33\": {\"33\": 32}, \"55\": {\"55\": 142}, \"30\": {\"30\": 120}, \"0\": {\"0\": 152}, \"36\": {\"36\": 64}, \"32\": {\"32\": 32}, \"31\": {\"31\": 28}, \"15\": {\"15\": 138}, \"12\": {\"12\": 116}, \"38\": {\"38\": 24}, \"40\": {\"40\": 146}, \"14\": {\"14\": 24}, \"13\": {\"13\": 150}, \"48\": {\"48\": 148}, \"34\": {\"34\": 24}, \"44\": {\"44\": 130}, \"5\": {\"5\": 152}, \"11\": {\"11\": 140}, \"7\": {\"7\": 28}, \"18\": {\"18\": 72}, \"52\": {\"52\": 132}, \"51\": {\"51\": 142}, \"41\": {\"41\": 24}, \"16\": {\"16\": 140}, \"22\": {\"22\": 134}, \"3\": {\"3\": 138, \"36\": 1, \"22\": 1}, \"54\": {\"54\": 104}, \"27\": {\"27\": 144}, \"20\": {\"20\": 140}, \"8\": {\"8\": 138}, \"50\": {\"50\": 144}, \"57\": {\"57\": 139, \"56\": 1}, \"4\": {\"4\": 132}, \"47\": {\"47\": 146}, \"10\": {\"10\": 95, \"11\": 1}, \"35\": {\"35\": 36}, \"53\": {\"53\": 126}, \"6\": {\"6\": 95, \"8\": 1}, \"43\": {\"43\": 140}, \"28\": {\"28\": 28}}, \"C_5\": {\"35\": {\"35\": 36}, \"57\": {\"57\": 132}, \"20\": {\"20\": 144}, \"12\": {\"12\": 96}, \"32\": {\"32\": 32}, \"25\": {\"25\": 138}, \"44\": {\"44\": 148}, \"31\": {\"31\": 36}, \"11\": {\"11\": 150}, \"47\": {\"47\": 100}, \"23\": {\"23\": 124}, \"43\": {\"43\": 144}, \"37\": {\"37\": 24}, \"5\": {\"5\": 128}, \"45\": {\"45\": 123, \"50\": 1}, \"7\": {\"7\": 32}, \"13\": {\"13\": 136}, \"49\": {\"49\": 36}, \"46\": {\"46\": 148}, \"16\": {\"16\": 136}, \"54\": {\"54\": 112}, \"19\": {\"19\": 152}, \"55\": {\"55\": 150}, \"30\": {\"30\": 128}, \"34\": {\"34\": 36}, \"50\": {\"50\": 134}, \"3\": {\"3\": 100}, \"10\": {\"10\": 68}, \"27\": {\"27\": 141, \"9\": 1}, \"33\": {\"33\": 32}, \"56\": {\"56\": 142}, \"9\": {\"9\": 150}, \"14\": {\"14\": 44}, \"4\": {\"4\": 100}, \"42\": {\"42\": 40}, \"24\": {\"24\": 80}, \"39\": {\"39\": 20}, \"52\": {\"52\": 130}, \"2\": {\"2\": 28}, \"28\": {\"28\": 32}, \"53\": {\"53\": 122}, \"17\": {\"17\": 116}, \"29\": {\"29\": 132}, \"38\": {\"38\": 32}, \"15\": {\"15\": 144}, \"26\": {\"26\": 24}, \"21\": {\"21\": 144}, \"41\": {\"41\": 28}, \"48\": {\"48\": 136}, \"22\": {\"22\": 28}, \"8\": {\"8\": 148}, \"18\": {\"18\": 64}, \"0\": {\"0\": 122}, \"1\": {\"1\": 138}, \"40\": {\"40\": 124}, \"6\": {\"6\": 124, \"50\": 2, \"45\": 2}, \"51\": {\"51\": 142}, \"36\": {\"36\": 92}}, \"O_50\": {\"7\": {\"7\": 62, \"10\": 26, \"13\": 58, \"5\": 46, \"6\": 12, \"0\": 2, \"1\": 4, \"4\": 9, \"3\": 5, \"8\": 13, \"2\": 1, \"15\": 2}, \"10\": {\"8\": 40, \"4\": 4, \"2\": 7, \"5\": 18, \"7\": 28, \"10\": 73, \"13\": 31, \"0\": 33, \"6\": 2, \"1\": 1, \"3\": 3}, \"0\": {\"2\": 60, \"0\": 77, \"6\": 9, \"10\": 34, \"5\": 16, \"13\": 7, \"4\": 8, \"1\": 15, \"8\": 8, \"7\": 4, \"14\": 2}, \"11\": {\"11\": 94, \"14\": 32, \"9\": 53, \"2\": 4, \"1\": 13, \"12\": 13, \"15\": 18, \"4\": 10, \"5\": 2, \"6\": 1}, \"2\": {\"2\": 126, \"0\": 52, \"14\": 15, \"1\": 23, \"6\": 6, \"5\": 1, \"15\": 3, \"12\": 2, \"8\": 2, \"10\": 8, \"11\": 1, \"4\": 1}, \"14\": {\"12\": 45, \"14\": 100, \"2\": 21, \"9\": 35, \"15\": 6, \"1\": 4, \"11\": 25, \"0\": 3, \"6\": 1}, \"9\": {\"12\": 43, \"9\": 98, \"11\": 56, \"14\": 33, \"15\": 4, \"1\": 2, \"2\": 3, \"4\": 1}, \"13\": {\"7\": 38, \"10\": 26, \"5\": 56, \"13\": 50, \"2\": 4, \"1\": 12, \"0\": 7, \"6\": 22, \"4\": 14, \"8\": 6, \"15\": 4, \"3\": 1}, \"8\": {\"8\": 146, \"10\": 36, \"7\": 6, \"0\": 3, \"3\": 43, \"2\": 1, \"5\": 2, \"13\": 3}, \"15\": {\"6\": 27, \"4\": 34, \"15\": 76, \"1\": 37, \"13\": 6, \"5\": 14, \"9\": 5, \"0\": 4, \"11\": 26, \"7\": 3, \"2\": 4, \"10\": 1, \"14\": 3}, \"4\": {\"4\": 47, \"1\": 35, \"15\": 35, \"2\": 6, \"13\": 28, \"5\": 32, \"0\": 8, \"6\": 19, \"14\": 4, \"7\": 14, \"11\": 7, \"10\": 4, \"9\": 1}, \"5\": {\"4\": 33, \"7\": 48, \"0\": 11, \"13\": 47, \"5\": 48, \"15\": 4, \"2\": 4, \"10\": 11, \"11\": 4, \"1\": 11, \"6\": 13, \"3\": 2, \"8\": 4}, \"3\": {\"3\": 191, \"8\": 45, \"7\": 2, \"10\": 2}, \"1\": {\"15\": 41, \"1\": 59, \"11\": 17, \"4\": 36, \"5\": 15, \"14\": 6, \"2\": 11, \"9\": 3, \"6\": 23, \"0\": 16, \"13\": 9, \"10\": 4}, \"6\": {\"1\": 27, \"4\": 30, \"15\": 31, \"6\": 62, \"0\": 10, \"13\": 30, \"5\": 20, \"2\": 10, \"11\": 2, \"7\": 12, \"10\": 5, \"14\": 1}, \"12\": {\"12\": 124, \"14\": 42, \"11\": 17, \"9\": 54, \"2\": 3}}, \"O_14\": {\"14\": {\"14\": 51, \"6\": 41, \"0\": 26, \"5\": 14, \"13\": 24, \"3\": 23, \"2\": 26, \"4\": 11, \"11\": 9, \"10\": 10, \"8\": 1, \"1\": 2, \"12\": 1, \"15\": 1}, \"6\": {\"14\": 39, \"13\": 65, \"6\": 54, \"2\": 22, \"0\": 9, \"11\": 1, \"3\": 10, \"10\": 9, \"5\": 13, \"4\": 12, \"9\": 1, \"15\": 5}, \"5\": {\"1\": 41, \"4\": 33, \"6\": 10, \"5\": 34, \"3\": 26, \"8\": 14, \"2\": 26, \"15\": 21, \"13\": 6, \"14\": 8, \"7\": 16, \"0\": 3, \"10\": 2}, \"15\": {\"2\": 15, \"15\": 98, \"7\": 51, \"1\": 23, \"5\": 27, \"4\": 7, \"13\": 5, \"14\": 6, \"6\": 7, \"3\": 1}, \"11\": {\"0\": 41, \"11\": 108, \"10\": 18, \"9\": 30, \"13\": 4, \"12\": 27, \"6\": 2, \"14\": 7, \"3\": 2, \"8\": 1}, \"8\": {\"5\": 18, \"8\": 134, \"4\": 11, \"1\": 49, \"3\": 11, \"9\": 7, \"7\": 2, \"2\": 2, \"12\": 3, \"0\": 3}, \"12\": {\"9\": 55, \"12\": 164, \"11\": 15, \"8\": 2, \"0\": 2, \"10\": 2}, \"1\": {\"8\": 29, \"7\": 21, \"3\": 13, \"5\": 45, \"2\": 8, \"15\": 20, \"6\": 1, \"1\": 73, \"4\": 24, \"0\": 3, \"14\": 3}, \"2\": {\"2\": 42, \"15\": 6, \"7\": 6, \"0\": 10, \"13\": 27, \"4\": 21, \"3\": 31, \"6\": 28, \"14\": 21, \"11\": 2, \"5\": 29, \"1\": 10, \"10\": 5, \"8\": 2}, \"13\": {\"14\": 32, \"13\": 61, \"6\": 61, \"5\": 5, \"4\": 7, \"1\": 2, \"15\": 7, \"0\": 11, \"2\": 25, \"10\": 16, \"3\": 5, \"11\": 8}, \"3\": {\"5\": 28, \"3\": 52, \"4\": 27, \"14\": 21, \"0\": 15, \"8\": 13, \"2\": 23, \"11\": 3, \"13\": 15, \"9\": 9, \"10\": 7, \"7\": 1, \"6\": 13, \"1\": 11, \"15\": 2}, \"0\": {\"0\": 65, \"5\": 3, \"10\": 36, \"11\": 44, \"13\": 6, \"14\": 16, \"6\": 4, \"1\": 4, \"9\": 25, \"3\": 12, \"8\": 5, \"4\": 10, \"12\": 4, \"2\": 6}, \"9\": {\"9\": 108, \"12\": 49, \"11\": 32, \"8\": 23, \"0\": 20, \"10\": 7, \"4\": 1}, \"4\": {\"1\": 23, \"14\": 20, \"0\": 11, \"2\": 28, \"4\": 43, \"5\": 27, \"13\": 16, \"3\": 33, \"6\": 13, \"15\": 6, \"11\": 1, \"8\": 11, \"9\": 3, \"10\": 5}, \"7\": {\"1\": 30, \"5\": 19, \"7\": 117, \"2\": 3, \"15\": 61, \"8\": 2, \"14\": 1, \"3\": 4, \"4\": 3}, \"10\": {\"0\": 41, \"10\": 88, \"3\": 11, \"9\": 16, \"14\": 9, \"13\": 18, \"6\": 17, \"4\": 14, \"11\": 17, \"5\": 2, \"8\": 3, \"12\": 3, \"2\": 1}}, \"O_32\": {\"4\": {\"0\": 28, \"9\": 3, \"3\": 5, \"2\": 51, \"13\": 24, \"14\": 17, \"5\": 20, \"8\": 15, \"7\": 26, \"4\": 40, \"11\": 10, \"15\": 1}, \"14\": {\"13\": 19, \"7\": 36, \"11\": 45, \"8\": 20, \"2\": 17, \"0\": 15, \"14\": 36, \"3\": 15, \"4\": 21, \"9\": 1, \"5\": 14, \"15\": 1}, \"5\": {\"2\": 20, \"11\": 13, \"13\": 32, \"0\": 12, \"5\": 38, \"8\": 18, \"7\": 27, \"14\": 24, \"4\": 24, \"3\": 30, \"9\": 1, \"15\": 1}, \"10\": {\"1\": 42, \"10\": 189, \"6\": 8, \"12\": 1}, \"13\": {\"4\": 20, \"3\": 32, \"0\": 11, \"7\": 33, \"13\": 41, \"5\": 26, \"8\": 20, \"2\": 19, \"11\": 15, \"14\": 22, \"15\": 1}, \"9\": {\"9\": 204, \"12\": 24, \"0\": 5, \"6\": 3, \"2\": 4}, \"6\": {\"6\": 213, \"12\": 20, \"1\": 3, \"10\": 4}, \"3\": {\"8\": 27, \"3\": 102, \"13\": 40, \"5\": 25, \"11\": 10, \"7\": 14, \"14\": 12, \"4\": 7, \"15\": 1, \"2\": 2}, \"15\": {\"15\": 213, \"3\": 9, \"8\": 10, \"0\": 5, \"2\": 1, \"9\": 1, \"14\": 1}, \"7\": {\"8\": 12, \"2\": 27, \"13\": 26, \"7\": 39, \"5\": 31, \"4\": 27, \"3\": 10, \"14\": 26, \"11\": 30, \"0\": 12}, \"12\": {\"12\": 192, \"6\": 27, \"9\": 19, \"10\": 2}, \"8\": {\"0\": 32, \"13\": 21, \"15\": 23, \"14\": 11, \"2\": 12, \"8\": 64, \"7\": 8, \"4\": 22, \"5\": 12, \"3\": 25, \"9\": 4, \"11\": 6}, \"11\": {\"2\": 11, \"8\": 10, \"14\": 52, \"4\": 10, \"11\": 68, \"5\": 13, \"7\": 24, \"0\": 6, \"13\": 27, \"3\": 19}, \"2\": {\"2\": 83, \"0\": 29, \"8\": 14, \"4\": 44, \"5\": 9, \"13\": 10, \"7\": 26, \"11\": 4, \"9\": 6, \"14\": 12, \"3\": 3}, \"1\": {\"1\": 202, \"10\": 38}, \"0\": {\"2\": 36, \"8\": 39, \"14\": 21, \"7\": 11, \"13\": 11, \"0\": 68, \"4\": 25, \"5\": 10, \"9\": 5, \"15\": 3, \"3\": 4, \"11\": 7}}, \"O_44\": {\"8\": {\"8\": 89, \"0\": 75, \"15\": 37, \"5\": 30, \"4\": 3, \"14\": 6}, \"11\": {\"11\": 148, \"6\": 29, \"13\": 48, \"9\": 6, \"14\": 3, \"7\": 4, \"4\": 1, \"2\": 1}, \"14\": {\"0\": 19, \"14\": 54, \"8\": 6, \"5\": 30, \"15\": 54, \"4\": 70, \"13\": 5, \"11\": 1, \"3\": 1}, \"10\": {\"1\": 33, \"10\": 82, \"7\": 15, \"12\": 45, \"3\": 21, \"2\": 41, \"9\": 2, \"6\": 1}, \"3\": {\"12\": 35, \"3\": 116, \"1\": 57, \"7\": 15, \"2\": 7, \"10\": 8, \"14\": 2}, \"15\": {\"15\": 93, \"8\": 36, \"4\": 29, \"0\": 38, \"14\": 30, \"5\": 14}, \"2\": {\"3\": 15, \"9\": 21, \"2\": 69, \"10\": 46, \"6\": 11, \"7\": 53, \"1\": 17, \"13\": 3, \"12\": 5}, \"12\": {\"1\": 47, \"3\": 45, \"2\": 9, \"10\": 51, \"12\": 86, \"9\": 1, \"7\": 1}, \"4\": {\"4\": 91, \"14\": 61, \"9\": 8, \"5\": 20, \"15\": 26, \"0\": 10, \"11\": 2, \"8\": 6, \"13\": 10, \"7\": 4, \"3\": 1, \"6\": 1}, \"1\": {\"3\": 49, \"12\": 57, \"2\": 23, \"1\": 58, \"10\": 38, \"7\": 12, \"9\": 3}, \"0\": {\"5\": 51, \"0\": 59, \"8\": 67, \"15\": 49, \"4\": 5, \"14\": 9}, \"9\": {\"13\": 25, \"7\": 48, \"11\": 6, \"2\": 20, \"6\": 47, \"4\": 11, \"9\": 65, \"1\": 4, \"10\": 7, \"3\": 5, \"15\": 1, \"14\": 1}, \"5\": {\"0\": 37, \"5\": 95, \"8\": 29, \"14\": 37, \"15\": 14, \"4\": 27, \"13\": 1}, \"6\": {\"6\": 103, \"9\": 35, \"11\": 8, \"7\": 21, \"13\": 56, \"4\": 8, \"2\": 7, \"1\": 1, \"3\": 1}, \"7\": {\"13\": 12, \"10\": 14, \"9\": 42, \"6\": 19, \"2\": 45, \"7\": 79, \"1\": 9, \"14\": 5, \"4\": 6, \"12\": 5, \"3\": 4}, \"13\": {\"7\": 21, \"13\": 73, \"11\": 39, \"6\": 54, \"9\": 31, \"14\": 7, \"4\": 12, \"15\": 1, \"2\": 2}}, \"O_8\": {\"13\": {\"8\": 13, \"13\": 36, \"4\": 35, \"14\": 27, \"7\": 24, \"15\": 4, \"0\": 29, \"5\": 9, \"10\": 21, \"6\": 25, \"11\": 5, \"2\": 4, \"1\": 4, \"9\": 1, \"3\": 2, \"12\": 1}, \"3\": {\"2\": 62, \"3\": 69, \"12\": 42, \"7\": 13, \"15\": 26, \"0\": 7, \"6\": 10, \"4\": 3, \"13\": 5, \"8\": 2, \"10\": 1}, \"15\": {\"8\": 36, \"12\": 54, \"15\": 55, \"14\": 7, \"7\": 16, \"11\": 2, \"3\": 14, \"2\": 10, \"6\": 19, \"10\": 6, \"4\": 5, \"1\": 2, \"13\": 8, \"0\": 6}, \"4\": {\"6\": 27, \"5\": 14, \"4\": 28, \"7\": 15, \"0\": 27, \"10\": 21, \"2\": 3, \"14\": 27, \"13\": 28, \"8\": 21, \"1\": 11, \"11\": 6, \"15\": 5, \"12\": 5, \"3\": 2}, \"7\": {\"13\": 25, \"6\": 23, \"7\": 34, \"0\": 33, \"10\": 10, \"2\": 14, \"8\": 17, \"12\": 16, \"3\": 10, \"14\": 17, \"4\": 16, \"15\": 22, \"5\": 2, \"11\": 1}, \"2\": {\"2\": 52, \"7\": 27, \"3\": 68, \"12\": 29, \"0\": 10, \"8\": 3, \"15\": 27, \"6\": 12, \"13\": 7, \"10\": 2, \"4\": 2, \"14\": 1}, \"1\": {\"10\": 9, \"5\": 38, \"14\": 30, \"11\": 51, \"4\": 20, \"6\": 5, \"1\": 48, \"8\": 17, \"0\": 6, \"13\": 11, \"15\": 1, \"7\": 4}, \"0\": {\"6\": 25, \"0\": 32, \"10\": 18, \"7\": 31, \"4\": 34, \"12\": 4, \"15\": 7, \"13\": 30, \"8\": 9, \"11\": 1, \"5\": 13, \"3\": 4, \"14\": 25, \"2\": 6, \"1\": 1}, \"12\": {\"15\": 42, \"2\": 25, \"12\": 65, \"3\": 27, \"10\": 4, \"4\": 8, \"14\": 4, \"8\": 25, \"7\": 17, \"13\": 5, \"6\": 14, \"0\": 4}, \"6\": {\"0\": 28, \"8\": 22, \"13\": 21, \"4\": 23, \"7\": 23, \"5\": 6, \"12\": 9, \"2\": 12, \"14\": 17, \"6\": 25, \"10\": 20, \"15\": 25, \"3\": 4, \"11\": 2, \"1\": 3}, \"11\": {\"11\": 91, \"1\": 57, \"5\": 28, \"10\": 9, \"13\": 3, \"8\": 20, \"14\": 17, \"15\": 3, \"4\": 6, \"6\": 3, \"7\": 2, \"0\": 1}, \"9\": {\"9\": 224, \"5\": 7, \"10\": 6, \"14\": 1, \"0\": 2}, \"5\": {\"0\": 10, \"5\": 66, \"10\": 33, \"13\": 15, \"8\": 4, \"1\": 38, \"14\": 28, \"6\": 5, \"11\": 22, \"4\": 10, \"9\": 8, \"7\": 1}, \"10\": {\"0\": 20, \"4\": 31, \"8\": 16, \"13\": 30, \"14\": 29, \"5\": 32, \"6\": 11, \"1\": 14, \"3\": 1, \"10\": 40, \"7\": 10, \"11\": 5, \"2\": 1}, \"14\": {\"1\": 28, \"4\": 29, \"6\": 11, \"7\": 10, \"8\": 21, \"13\": 20, \"10\": 32, \"5\": 18, \"11\": 14, \"15\": 7, \"14\": 30, \"0\": 17, \"12\": 2, \"2\": 1}, \"8\": {\"12\": 23, \"5\": 4, \"7\": 16, \"8\": 70, \"15\": 36, \"4\": 18, \"6\": 14, \"1\": 17, \"14\": 11, \"3\": 5, \"11\": 10, \"10\": 9, \"2\": 1, \"0\": 4, \"13\": 2}}, \"O_20\": {\"6\": {\"6\": 37, \"4\": 7, \"11\": 31, \"14\": 52, \"7\": 16, \"2\": 14, \"3\": 9, \"12\": 4, \"10\": 22, \"5\": 5, \"8\": 25, \"9\": 5, \"13\": 8, \"15\": 1, \"1\": 2, \"0\": 2}, \"11\": {\"11\": 140, \"6\": 30, \"2\": 10, \"13\": 20, \"7\": 14, \"8\": 2, \"9\": 6, \"3\": 6, \"15\": 4, \"10\": 1, \"14\": 4, \"12\": 2, \"1\": 1}, \"5\": {\"4\": 23, \"0\": 24, \"5\": 28, \"15\": 23, \"6\": 5, \"10\": 13, \"13\": 12, \"3\": 19, \"9\": 13, \"12\": 16, \"11\": 4, \"2\": 13, \"14\": 12, \"7\": 8, \"8\": 13, \"1\": 14}, \"14\": {\"14\": 57, \"8\": 26, \"4\": 29, \"7\": 13, \"10\": 35, \"11\": 9, \"12\": 8, \"6\": 30, \"2\": 8, \"3\": 7, \"1\": 3, \"5\": 7, \"15\": 3, \"0\": 3, \"9\": 1, \"13\": 1}, \"2\": {\"15\": 16, \"1\": 19, \"9\": 24, \"6\": 16, \"13\": 18, \"12\": 16, \"2\": 22, \"7\": 25, \"3\": 19, \"4\": 8, \"5\": 14, \"0\": 4, \"11\": 14, \"10\": 13, \"8\": 6, \"14\": 6}, \"7\": {\"8\": 13, \"3\": 19, \"15\": 17, \"2\": 28, \"12\": 11, \"7\": 17, \"9\": 14, \"6\": 17, \"4\": 14, \"5\": 16, \"0\": 8, \"14\": 16, \"10\": 14, \"11\": 12, \"13\": 15, \"1\": 9}, \"3\": {\"6\": 11, \"0\": 12, \"15\": 19, \"9\": 22, \"1\": 16, \"8\": 12, \"12\": 21, \"11\": 8, \"2\": 22, \"3\": 22, \"4\": 17, \"13\": 9, \"7\": 11, \"14\": 11, \"5\": 13, \"10\": 14}, \"4\": {\"10\": 27, \"12\": 18, \"0\": 21, \"8\": 25, \"5\": 13, \"14\": 12, \"1\": 12, \"2\": 6, \"3\": 15, \"9\": 10, \"4\": 46, \"15\": 9, \"7\": 12, \"6\": 10, \"11\": 2, \"13\": 2}, \"9\": {\"5\": 10, \"12\": 22, \"9\": 24, \"7\": 18, \"4\": 17, \"1\": 17, \"2\": 15, \"15\": 17, \"13\": 24, \"14\": 7, \"8\": 7, \"10\": 25, \"0\": 4, \"3\": 26, \"11\": 4, \"6\": 3}, \"12\": {\"7\": 14, \"10\": 19, \"4\": 16, \"15\": 26, \"3\": 22, \"8\": 11, \"2\": 10, \"1\": 19, \"13\": 7, \"12\": 30, \"11\": 3, \"5\": 24, \"0\": 12, \"9\": 21, \"14\": 6}, \"0\": {\"5\": 28, \"15\": 34, \"0\": 43, \"8\": 26, \"2\": 8, \"4\": 21, \"1\": 18, \"13\": 7, \"7\": 6, \"12\": 12, \"3\": 9, \"9\": 10, \"10\": 4, \"14\": 7, \"6\": 4, \"11\": 3}, \"10\": {\"2\": 14, \"10\": 49, \"4\": 36, \"14\": 41, \"7\": 16, \"8\": 14, \"1\": 7, \"12\": 12, \"13\": 4, \"6\": 12, \"15\": 4, \"9\": 5, \"3\": 12, \"5\": 8, \"0\": 5, \"11\": 1}, \"8\": {\"2\": 6, \"6\": 16, \"4\": 24, \"5\": 15, \"14\": 33, \"8\": 34, \"15\": 7, \"0\": 27, \"7\": 17, \"10\": 28, \"13\": 6, \"3\": 6, \"11\": 4, \"1\": 4, \"12\": 8, \"9\": 5}, \"13\": {\"13\": 42, \"0\": 14, \"12\": 12, \"11\": 22, \"6\": 11, \"2\": 39, \"15\": 17, \"3\": 13, \"5\": 6, \"7\": 28, \"1\": 11, \"10\": 3, \"9\": 16, \"8\": 3, \"4\": 1, \"14\": 2}, \"1\": {\"12\": 22, \"5\": 25, \"15\": 30, \"9\": 30, \"10\": 11, \"7\": 12, \"0\": 19, \"3\": 19, \"13\": 10, \"4\": 16, \"1\": 21, \"2\": 15, \"8\": 3, \"6\": 3, \"11\": 3, \"14\": 1}, \"15\": {\"15\": 36, \"7\": 14, \"9\": 16, \"10\": 6, \"12\": 19, \"0\": 20, \"1\": 24, \"4\": 12, \"13\": 21, \"5\": 27, \"3\": 18, \"2\": 16, \"8\": 5, \"14\": 3, \"6\": 2, \"11\": 1}}, \"O_38\": {\"3\": {\"7\": 20, \"1\": 3, \"6\": 28, \"3\": 125, \"9\": 37, \"5\": 7, \"8\": 4, \"0\": 16}, \"8\": {\"7\": 34, \"10\": 19, \"8\": 47, \"9\": 6, \"0\": 30, \"1\": 16, \"15\": 22, \"5\": 40, \"13\": 18, \"12\": 1, \"2\": 2, \"6\": 4, \"4\": 1}, \"0\": {\"10\": 10, \"8\": 34, \"0\": 43, \"12\": 5, \"6\": 9, \"7\": 45, \"5\": 39, \"1\": 11, \"9\": 8, \"3\": 9, \"4\": 2, \"13\": 7, \"15\": 16, \"11\": 1, \"14\": 1}, \"2\": {\"10\": 21, \"2\": 125, \"11\": 15, \"13\": 32, \"14\": 27, \"15\": 13, \"1\": 5, \"8\": 2}, \"4\": {\"12\": 56, \"4\": 174, \"10\": 5, \"7\": 1, \"0\": 2, \"11\": 2}, \"7\": {\"3\": 2, \"0\": 39, \"13\": 4, \"8\": 33, \"5\": 30, \"7\": 100, \"10\": 11, \"15\": 6, \"6\": 2, \"4\": 3, \"1\": 3, \"12\": 1, \"9\": 6}, \"12\": {\"12\": 159, \"14\": 7, \"4\": 58, \"10\": 8, \"8\": 2, \"0\": 3, \"11\": 3}, \"6\": {\"9\": 85, \"6\": 86, \"8\": 5, \"1\": 22, \"3\": 15, \"5\": 19, \"15\": 2, \"0\": 3, \"7\": 3}, \"15\": {\"10\": 24, \"0\": 6, \"5\": 17, \"15\": 49, \"8\": 26, \"1\": 47, \"13\": 44, \"2\": 19, \"7\": 3, \"6\": 5}, \"11\": {\"14\": 79, \"10\": 15, \"2\": 31, \"11\": 98, \"13\": 4, \"12\": 9, \"4\": 2, \"15\": 2}, \"9\": {\"9\": 99, \"6\": 83, \"7\": 7, \"1\": 8, \"3\": 25, \"5\": 14, \"8\": 2, \"0\": 1, \"15\": 1}, \"14\": {\"14\": 101, \"11\": 66, \"12\": 10, \"10\": 21, \"2\": 35, \"4\": 4, \"13\": 2, \"5\": 1}, \"10\": {\"11\": 7, \"10\": 80, \"13\": 25, \"15\": 18, \"8\": 19, \"2\": 20, \"5\": 7, \"7\": 17, \"14\": 14, \"0\": 6, \"12\": 17, \"4\": 8, \"6\": 1, \"1\": 1}, \"5\": {\"8\": 29, \"6\": 25, \"0\": 32, \"15\": 18, \"13\": 15, \"5\": 42, \"1\": 21, \"7\": 25, \"9\": 17, \"12\": 1, \"10\": 10, \"2\": 1, \"3\": 4}, \"1\": {\"1\": 120, \"0\": 6, \"13\": 18, \"2\": 3, \"5\": 16, \"15\": 32, \"6\": 28, \"8\": 10, \"3\": 1, \"10\": 1, \"9\": 5}, \"13\": {\"10\": 44, \"15\": 37, \"13\": 70, \"1\": 14, \"2\": 32, \"0\": 4, \"6\": 6, \"5\": 12, \"8\": 16, \"7\": 3, \"14\": 1, \"11\": 1}}, \"O_26\": {\"5\": {\"8\": 17, \"4\": 10, \"3\": 18, \"12\": 4, \"6\": 12, \"9\": 15, \"2\": 21, \"15\": 24, \"14\": 6, \"1\": 5, \"11\": 6, \"13\": 36, \"5\": 28, \"10\": 11, \"7\": 23, \"0\": 4}, \"8\": {\"5\": 8, \"14\": 23, \"10\": 28, \"4\": 12, \"15\": 12, \"13\": 16, \"8\": 21, \"6\": 16, \"7\": 22, \"12\": 5, \"1\": 21, \"2\": 11, \"0\": 17, \"3\": 14, \"9\": 13, \"11\": 1}, \"4\": {\"3\": 14, \"14\": 33, \"1\": 21, \"7\": 21, \"4\": 22, \"8\": 20, \"6\": 20, \"2\": 15, \"13\": 3, \"12\": 5, \"10\": 22, \"0\": 20, \"5\": 4, \"15\": 11, \"9\": 9}, \"12\": {\"12\": 176, \"11\": 18, \"1\": 6, \"13\": 2, \"0\": 5, \"14\": 5, \"10\": 11, \"9\": 5, \"4\": 3, \"6\": 5, \"5\": 1, \"8\": 2, \"15\": 1}, \"6\": {\"0\": 21, \"15\": 17, \"8\": 20, \"5\": 6, \"10\": 23, \"7\": 7, \"6\": 42, \"12\": 11, \"9\": 26, \"1\": 10, \"4\": 16, \"14\": 22, \"13\": 12, \"11\": 2, \"3\": 2, \"2\": 3}, \"7\": {\"10\": 12, \"6\": 11, \"3\": 20, \"15\": 16, \"14\": 18, \"4\": 25, \"2\": 22, \"8\": 14, \"13\": 11, \"0\": 16, \"1\": 15, \"7\": 33, \"9\": 15, \"5\": 12}, \"10\": {\"2\": 6, \"6\": 31, \"4\": 28, \"12\": 7, \"9\": 12, \"13\": 8, \"8\": 20, \"10\": 20, \"1\": 31, \"7\": 7, \"15\": 10, \"0\": 22, \"14\": 21, \"5\": 11, \"3\": 5, \"11\": 1}, \"0\": {\"10\": 33, \"14\": 40, \"7\": 11, \"11\": 2, \"6\": 21, \"2\": 8, \"0\": 30, \"1\": 27, \"4\": 25, \"8\": 10, \"9\": 8, \"15\": 6, \"13\": 6, \"5\": 3, \"12\": 6, \"3\": 4}, \"15\": {\"15\": 35, \"9\": 21, \"13\": 36, \"8\": 16, \"0\": 13, \"6\": 15, \"2\": 13, \"4\": 13, \"7\": 21, \"3\": 13, \"10\": 12, \"5\": 21, \"1\": 3, \"12\": 2, \"11\": 2, \"14\": 4}, \"9\": {\"7\": 21, \"6\": 28, \"5\": 18, \"9\": 28, \"2\": 11, \"0\": 22, \"13\": 22, \"12\": 4, \"15\": 17, \"4\": 11, \"10\": 16, \"3\": 9, \"14\": 13, \"1\": 6, \"8\": 11, \"11\": 3}, \"11\": {\"12\": 29, \"11\": 192, \"13\": 6, \"4\": 1, \"6\": 3, \"15\": 1, \"10\": 3, \"14\": 2, \"8\": 1, \"5\": 1, \"1\": 1}, \"14\": {\"1\": 30, \"6\": 20, \"12\": 6, \"8\": 15, \"7\": 17, \"10\": 29, \"0\": 23, \"14\": 29, \"4\": 29, \"3\": 9, \"13\": 5, \"5\": 6, \"9\": 11, \"2\": 5, \"15\": 6}, \"2\": {\"2\": 29, \"6\": 10, \"3\": 36, \"5\": 21, \"13\": 30, \"15\": 26, \"10\": 9, \"8\": 14, \"12\": 2, \"7\": 27, \"1\": 4, \"0\": 4, \"9\": 12, \"4\": 10, \"11\": 1, \"14\": 5}, \"13\": {\"0\": 3, \"11\": 9, \"5\": 38, \"15\": 36, \"1\": 3, \"3\": 16, \"13\": 51, \"2\": 22, \"4\": 7, \"6\": 10, \"12\": 2, \"9\": 15, \"8\": 9, \"7\": 10, \"10\": 8, \"14\": 1}, \"3\": {\"14\": 11, \"9\": 10, \"3\": 55, \"0\": 8, \"15\": 23, \"7\": 35, \"4\": 7, \"10\": 7, \"13\": 18, \"2\": 22, \"8\": 7, \"5\": 22, \"6\": 5, \"1\": 10}, \"1\": {\"5\": 9, \"1\": 55, \"4\": 42, \"7\": 15, \"14\": 28, \"10\": 23, \"0\": 17, \"6\": 7, \"8\": 14, \"9\": 12, \"3\": 3, \"15\": 5, \"2\": 3, \"13\": 5, \"12\": 2}}}, \"per_domain_accuracy\": {\"C_4\": {\"accuracy\": 0.9979166666666667, \"source?\": true}, \"C_2\": {\"accuracy\": 0.999122191011236, \"source?\": true}, \"C_3\": {\"accuracy\": 0.9986979166666666, \"source?\": true}, \"C_1\": {\"accuracy\": 0.9984797297297298, \"source?\": true}, \"C_5\": {\"accuracy\": 0.9989525139664804, \"source?\": true}, \"O_50\": {\"accuracy\": 0.3731770833333333, \"source?\": false}, \"O_14\": {\"accuracy\": 0.33645833333333336, \"source?\": false}, \"O_32\": {\"accuracy\": 0.4666666666666667, \"source?\": false}, \"O_44\": {\"accuracy\": 0.3541666666666667, \"source?\": false}, \"O_8\": {\"accuracy\": 0.2513020833333333, \"source?\": false}, \"O_20\": {\"accuracy\": 0.16875, \"source?\": false}, \"O_38\": {\"accuracy\": 0.3953125, \"source?\": false}, \"O_26\": {\"accuracy\": 0.2203125, \"source?\": false}}}, \"history\": {\"epoch_indices\": [1, 2, 3, 4, 5, 6, 7, 8, 9, 10, 11], \"train_label_loss\": [0.03153617612938056, 0.008805789246125536, 0.004978593706901364, 0.004446343120103591, 0.004022432183722423, 0.0032623311801968586, 0.0030690293466477557, 0.002442302430510354, 0.0023848033527072974, 0.0025794967180501217, 0.002096956195619615], \"source_val_label_loss\": [0.006671455223113298, 0.004914041608572006, 0.005186387337744236, 0.016449760645627975, 0.00475662387907505, 0.005008672829717398, 0.009259222075343132, 0.006552096921950579, 0.013797815889120102, 0.007450664881616831, 0.008123922161757946], \"target_val_label_loss\": [2.3922388553619385, 2.4314703941345215, 2.5877184867858887, 3.8012619018554688, 2.907041072845459, 2.8364505767822266, 2.981795072555542, 4.63701057434082, 3.260575771331787, 4.5759758949279785, 4.498597145080566], \"source_val_acc_label\": [0.9981071428571429, 0.9990357142857142, 0.9992857142857143, 0.9964285714285714, 0.9993928571428572, 0.9995714285714286, 0.9986428571428572, 0.9994642857142857, 0.9989285714285714, 0.9994285714285714, 0.9994642857142857], \"target_val_acc_label\": [0.26116536458333334, 0.30084635416666666, 0.308203125, 0.22848307291666667, 0.2890625, 0.2970052083333333, 0.32076822916666664, 0.2596028645833333, 0.3140625, 0.28326822916666666, 0.29059244791666666]}, \"dataset_metrics\": {\"source\": {\"train\": {\"n_unique_x\": 175222, \"n_unique_y\": 58, \"n_batch/episode\": 6329}, \"val\": {\"n_unique_x\": 37166, \"n_unique_y\": 58, \"n_batch/episode\": 875}, \"test\": {\"n_unique_x\": 37642, \"n_unique_y\": 58, \"n_batch/episode\": 890}}, \"target\": {\"train\": {\"n_unique_x\": 179200, \"n_unique_y\": 16, \"n_batch/episode\": 6720}, \"val\": {\"n_unique_x\": 38400, \"n_unique_y\": 16, \"n_batch/episode\": 960}, \"test\": {\"n_unique_x\": 38400, \"n_unique_y\": 16, \"n_batch/episode\": 960}}}}'"
      ]
     },
     "execution_count": 29,
     "metadata": {},
     "output_type": "execute_result"
    }
   ],
   "source": [
    "json.dumps(experiment)"
   ]
  }
 ],
 "metadata": {
  "celltoolbar": "Tags",
  "kernelspec": {
   "display_name": "Python 3 (ipykernel)",
   "language": "python",
   "name": "python3"
  },
  "language_info": {
   "codemirror_mode": {
    "name": "ipython",
    "version": 3
   },
   "file_extension": ".py",
   "mimetype": "text/x-python",
   "name": "python",
   "nbconvert_exporter": "python",
   "pygments_lexer": "ipython3",
   "version": "3.8.10"
  },
  "papermill": {
   "default_parameters": {},
   "duration": 3284.565854,
   "end_time": "2022-03-25T20:22:16.113901",
   "environment_variables": {},
   "exception": null,
   "input_path": "/mnt/wd500GB/CSC500/csc500-main/csc500-notebooks/templates/tl_ptn_template.ipynb",
   "output_path": "trial.ipynb",
   "parameters": {
    "parameters": {
     "BEST_MODEL_PATH": "./best_model.pth",
     "NUM_LOGS_PER_EPOCH": 10,
     "criteria_for_best": "target_accuracy",
     "dataset_seed": 500,
     "datasets": [
      {
       "domain_prefix": "C_",
       "domains": [
        1,
        2,
        3,
        4,
        5
       ],
       "episode_transforms": [],
       "labels": [
        "1-10.",
        "1-11.",
        "1-15.",
        "1-16.",
        "1-17.",
        "1-18.",
        "1-19.",
        "10-4.",
        "10-7.",
        "11-1.",
        "11-14.",
        "11-17.",
        "11-20.",
        "11-7.",
        "13-20.",
        "13-8.",
        "14-10.",
        "14-11.",
        "14-14.",
        "14-7.",
        "15-1.",
        "15-20.",
        "16-1.",
        "16-16.",
        "17-10.",
        "17-11.",
        "17-2.",
        "19-1.",
        "19-16.",
        "19-19.",
        "19-20.",
        "19-3.",
        "2-10.",
        "2-11.",
        "2-17.",
        "2-18.",
        "2-20.",
        "2-3.",
        "2-4.",
        "2-5.",
        "2-6.",
        "2-7.",
        "2-8.",
        "3-13.",
        "3-18.",
        "3-3.",
        "4-1.",
        "4-10.",
        "4-11.",
        "4-19.",
        "5-5.",
        "6-15.",
        "7-10.",
        "7-14.",
        "8-18.",
        "8-20.",
        "8-3.",
        "8-8."
       ],
       "num_examples_per_domain_per_label": -1,
       "pickle_path": "/mnt/wd500GB/CSC500/csc500-main/datasets/cores.stratified_ds.2022A.pkl",
       "source_or_target_dataset": "source",
       "x_transforms": [
        "unit_power",
        "lowpass_+/-10MHz",
        "take_200"
       ]
      },
      {
       "domain_prefix": "O_",
       "domains": [
        32,
        38,
        8,
        44,
        14,
        50,
        20,
        26
       ],
       "episode_transforms": [],
       "labels": [
        "3123D52",
        "3123D65",
        "3123D79",
        "3123D80",
        "3123D54",
        "3123D70",
        "3123D7B",
        "3123D89",
        "3123D58",
        "3123D76",
        "3123D7D",
        "3123EFE",
        "3123D64",
        "3123D78",
        "3123D7E",
        "3124E4A"
       ],
       "num_examples_per_domain_per_label": 2000,
       "pickle_path": "/mnt/wd500GB/CSC500/csc500-main/datasets/oracle.Run1_framed_2000Examples_stratified_ds.2022A.pkl",
       "source_or_target_dataset": "target",
       "x_transforms": [
        "unit_power",
        "take_200",
        "resample_20Msps_to_25Msps"
       ]
      }
     ],
     "device": "cuda",
     "experiment_name": "tl_3-filterv2:cores -> oracle.run1.framed",
     "lr": 0.0001,
     "n_epoch": 50,
     "n_query": 2,
     "n_shot": 3,
     "n_way": 16,
     "patience": 3,
     "seed": 500,
     "test_k_factor": 2,
     "torch_default_dtype": "torch.float32",
     "train_k_factor": 3,
     "val_k_factor": 2,
     "x_net": [
      {
       "class": "nnReshape",
       "kargs": {
        "shape": [
         -1,
         1,
         2,
         200
        ]
       }
      },
      {
       "class": "Conv2d",
       "kargs": {
        "bias": false,
        "in_channels": 1,
        "kernel_size": [
         1,
         7
        ],
        "out_channels": 256,
        "padding": [
         0,
         3
        ]
       }
      },
      {
       "class": "ReLU",
       "kargs": {
        "inplace": true
       }
      },
      {
       "class": "BatchNorm2d",
       "kargs": {
        "num_features": 256
       }
      },
      {
       "class": "Conv2d",
       "kargs": {
        "bias": true,
        "in_channels": 256,
        "kernel_size": [
         2,
         7
        ],
        "out_channels": 80,
        "padding": [
         0,
         3
        ]
       }
      },
      {
       "class": "ReLU",
       "kargs": {
        "inplace": true
       }
      },
      {
       "class": "BatchNorm2d",
       "kargs": {
        "num_features": 80
       }
      },
      {
       "class": "Flatten",
       "kargs": {}
      },
      {
       "class": "Linear",
       "kargs": {
        "in_features": 16000,
        "out_features": 256
       }
      },
      {
       "class": "ReLU",
       "kargs": {
        "inplace": true
       }
      },
      {
       "class": "BatchNorm1d",
       "kargs": {
        "num_features": 256
       }
      },
      {
       "class": "Linear",
       "kargs": {
        "in_features": 256,
        "out_features": 256
       }
      }
     ],
     "x_shape": [
      2,
      200
     ]
    }
   },
   "start_time": "2022-03-25T19:27:31.548047",
   "version": "2.3.4"
  }
 },
 "nbformat": 4,
 "nbformat_minor": 5
}