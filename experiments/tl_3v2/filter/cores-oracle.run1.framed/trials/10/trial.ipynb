{
 "cells": [
  {
   "cell_type": "markdown",
   "id": "9fea5f46",
   "metadata": {
    "papermill": {
     "duration": 0.019948,
     "end_time": "2022-03-25T18:32:15.010786",
     "exception": false,
     "start_time": "2022-03-25T18:32:14.990838",
     "status": "completed"
    },
    "tags": []
   },
   "source": [
    "# Transfer Learning Template"
   ]
  },
  {
   "cell_type": "code",
   "execution_count": 1,
   "id": "0902182a",
   "metadata": {
    "execution": {
     "iopub.execute_input": "2022-03-25T18:32:15.054477Z",
     "iopub.status.busy": "2022-03-25T18:32:15.054181Z",
     "iopub.status.idle": "2022-03-25T18:32:16.036668Z",
     "shell.execute_reply": "2022-03-25T18:32:16.037005Z"
    },
    "papermill": {
     "duration": 1.010652,
     "end_time": "2022-03-25T18:32:16.037164",
     "exception": false,
     "start_time": "2022-03-25T18:32:15.026512",
     "status": "completed"
    },
    "tags": []
   },
   "outputs": [],
   "source": [
    "%load_ext autoreload\n",
    "%autoreload 2\n",
    "%matplotlib inline\n",
    "\n",
    "    \n",
    "import os, json, sys, time, random\n",
    "import numpy as np\n",
    "import torch\n",
    "from torch.optim import Adam\n",
    "from  easydict import EasyDict\n",
    "import matplotlib.pyplot as plt\n",
    "\n",
    "from steves_models.steves_ptn import Steves_Prototypical_Network\n",
    "\n",
    "from steves_utils.lazy_iterable_wrapper import Lazy_Iterable_Wrapper\n",
    "from steves_utils.iterable_aggregator import Iterable_Aggregator\n",
    "from steves_utils.ptn_train_eval_test_jig import  PTN_Train_Eval_Test_Jig\n",
    "from steves_utils.torch_sequential_builder import build_sequential\n",
    "from steves_utils.torch_utils import get_dataset_metrics, ptn_confusion_by_domain_over_dataloader\n",
    "from steves_utils.utils_v2 import (per_domain_accuracy_from_confusion, get_datasets_base_path)\n",
    "from steves_utils.PTN.utils import independent_accuracy_assesment\n",
    "\n",
    "from torch.utils.data import DataLoader\n",
    "\n",
    "from steves_utils.stratified_dataset.episodic_accessor import Episodic_Accessor_Factory\n",
    "\n",
    "from steves_utils.ptn_do_report import (\n",
    "    get_loss_curve,\n",
    "    get_results_table,\n",
    "    get_parameters_table,\n",
    "    get_domain_accuracies,\n",
    ")\n",
    "\n",
    "from steves_utils.transforms import get_chained_transform"
   ]
  },
  {
   "cell_type": "markdown",
   "id": "41c840b4",
   "metadata": {
    "papermill": {
     "duration": 0.013824,
     "end_time": "2022-03-25T18:32:16.069786",
     "exception": false,
     "start_time": "2022-03-25T18:32:16.055962",
     "status": "completed"
    },
    "tags": []
   },
   "source": [
    "# Allowed Parameters\n",
    "These are allowed parameters, not defaults\n",
    "Each of these values need to be present in the injected parameters (the notebook will raise an exception if they are not present)\n",
    "\n",
    "Papermill uses the cell tag \"parameters\" to inject the real parameters below this cell.\n",
    "Enable tags to see what I mean"
   ]
  },
  {
   "cell_type": "code",
   "execution_count": 2,
   "id": "fd44eb83",
   "metadata": {
    "execution": {
     "iopub.execute_input": "2022-03-25T18:32:16.100628Z",
     "iopub.status.busy": "2022-03-25T18:32:16.100349Z",
     "iopub.status.idle": "2022-03-25T18:32:16.114160Z",
     "shell.execute_reply": "2022-03-25T18:32:16.114648Z"
    },
    "papermill": {
     "duration": 0.031063,
     "end_time": "2022-03-25T18:32:16.114829",
     "exception": false,
     "start_time": "2022-03-25T18:32:16.083766",
     "status": "completed"
    },
    "tags": []
   },
   "outputs": [],
   "source": [
    "required_parameters = {\n",
    "    \"experiment_name\",\n",
    "    \"lr\",\n",
    "    \"device\",\n",
    "    \"seed\",\n",
    "    \"dataset_seed\",\n",
    "    \"n_shot\",\n",
    "    \"n_query\",\n",
    "    \"n_way\",\n",
    "    \"train_k_factor\",\n",
    "    \"val_k_factor\",\n",
    "    \"test_k_factor\",\n",
    "    \"n_epoch\",\n",
    "    \"patience\",\n",
    "    \"criteria_for_best\",\n",
    "    \"x_net\",\n",
    "    \"datasets\",\n",
    "    \"torch_default_dtype\",\n",
    "    \"NUM_LOGS_PER_EPOCH\",\n",
    "    \"BEST_MODEL_PATH\",\n",
    "    \"x_shape\",\n",
    "}"
   ]
  },
  {
   "cell_type": "code",
   "execution_count": 3,
   "id": "fa3f0049",
   "metadata": {
    "execution": {
     "iopub.execute_input": "2022-03-25T18:32:16.156917Z",
     "iopub.status.busy": "2022-03-25T18:32:16.156333Z",
     "iopub.status.idle": "2022-03-25T18:32:16.169738Z",
     "shell.execute_reply": "2022-03-25T18:32:16.169196Z"
    },
    "papermill": {
     "duration": 0.038977,
     "end_time": "2022-03-25T18:32:16.169898",
     "exception": false,
     "start_time": "2022-03-25T18:32:16.130921",
     "status": "completed"
    },
    "tags": [
     "parameters"
    ]
   },
   "outputs": [],
   "source": [
    "from steves_utils.CORES.utils import (\n",
    "    ALL_NODES,\n",
    "    ALL_NODES_MINIMUM_1000_EXAMPLES,\n",
    "    ALL_DAYS\n",
    ")\n",
    "\n",
    "from steves_utils.ORACLE.utils_v2 import (\n",
    "    ALL_DISTANCES_FEET_NARROWED,\n",
    "    ALL_RUNS,\n",
    "    ALL_SERIAL_NUMBERS,\n",
    ")\n",
    "\n",
    "standalone_parameters = {}\n",
    "standalone_parameters[\"experiment_name\"] = \"STANDALONE PTN\"\n",
    "standalone_parameters[\"lr\"] = 0.001\n",
    "standalone_parameters[\"device\"] = \"cuda\"\n",
    "\n",
    "standalone_parameters[\"seed\"] = 1337\n",
    "standalone_parameters[\"dataset_seed\"] = 1337\n",
    "\n",
    "standalone_parameters[\"n_way\"] = 8\n",
    "standalone_parameters[\"n_shot\"] = 3\n",
    "standalone_parameters[\"n_query\"]  = 2\n",
    "standalone_parameters[\"train_k_factor\"] = 1\n",
    "standalone_parameters[\"val_k_factor\"] = 2\n",
    "standalone_parameters[\"test_k_factor\"] = 2\n",
    "\n",
    "\n",
    "standalone_parameters[\"n_epoch\"] = 50\n",
    "\n",
    "standalone_parameters[\"patience\"] = 10\n",
    "standalone_parameters[\"criteria_for_best\"] = \"source_loss\"\n",
    "\n",
    "standalone_parameters[\"datasets\"] = [\n",
    "    {\n",
    "        \"labels\": ALL_SERIAL_NUMBERS,\n",
    "        \"domains\": ALL_DISTANCES_FEET_NARROWED,\n",
    "        \"num_examples_per_domain_per_label\": 100,\n",
    "        \"pickle_path\": os.path.join(get_datasets_base_path(), \"oracle.Run1_framed_2000Examples_stratified_ds.2022A.pkl\"),\n",
    "        \"source_or_target_dataset\": \"source\",\n",
    "        \"x_transforms\": [\"unit_mag\", \"minus_two\"],\n",
    "        \"episode_transforms\": [],\n",
    "        \"domain_prefix\": \"ORACLE_\"\n",
    "    },\n",
    "    {\n",
    "        \"labels\": ALL_NODES,\n",
    "        \"domains\": ALL_DAYS,\n",
    "        \"num_examples_per_domain_per_label\": 100,\n",
    "        \"pickle_path\": os.path.join(get_datasets_base_path(), \"cores.stratified_ds.2022A.pkl\"),\n",
    "        \"source_or_target_dataset\": \"target\",\n",
    "        \"x_transforms\": [\"unit_power\", \"times_zero\"],\n",
    "        \"episode_transforms\": [],\n",
    "        \"domain_prefix\": \"CORES_\"\n",
    "    }   \n",
    "]\n",
    "\n",
    "standalone_parameters[\"torch_default_dtype\"] = \"torch.float32\" \n",
    "\n",
    "\n",
    "\n",
    "standalone_parameters[\"x_net\"] =     [\n",
    "    {\"class\": \"nnReshape\", \"kargs\": {\"shape\":[-1, 1, 2, 256]}},\n",
    "    {\"class\": \"Conv2d\", \"kargs\": { \"in_channels\":1, \"out_channels\":256, \"kernel_size\":(1,7), \"bias\":False, \"padding\":(0,3), },},\n",
    "    {\"class\": \"ReLU\", \"kargs\": {\"inplace\": True}},\n",
    "    {\"class\": \"BatchNorm2d\", \"kargs\": {\"num_features\":256}},\n",
    "\n",
    "    {\"class\": \"Conv2d\", \"kargs\": { \"in_channels\":256, \"out_channels\":80, \"kernel_size\":(2,7), \"bias\":True, \"padding\":(0,3), },},\n",
    "    {\"class\": \"ReLU\", \"kargs\": {\"inplace\": True}},\n",
    "    {\"class\": \"BatchNorm2d\", \"kargs\": {\"num_features\":80}},\n",
    "    {\"class\": \"Flatten\", \"kargs\": {}},\n",
    "\n",
    "    {\"class\": \"Linear\", \"kargs\": {\"in_features\": 80*256, \"out_features\": 256}}, # 80 units per IQ pair\n",
    "    {\"class\": \"ReLU\", \"kargs\": {\"inplace\": True}},\n",
    "    {\"class\": \"BatchNorm1d\", \"kargs\": {\"num_features\":256}},\n",
    "\n",
    "    {\"class\": \"Linear\", \"kargs\": {\"in_features\": 256, \"out_features\": 256}},\n",
    "]\n",
    "\n",
    "# Parameters relevant to results\n",
    "# These parameters will basically never need to change\n",
    "standalone_parameters[\"NUM_LOGS_PER_EPOCH\"] = 10\n",
    "standalone_parameters[\"BEST_MODEL_PATH\"] = \"./best_model.pth\"\n",
    "\n",
    "\n",
    "\n",
    "\n"
   ]
  },
  {
   "cell_type": "code",
   "execution_count": 4,
   "id": "af27d39e",
   "metadata": {
    "execution": {
     "iopub.execute_input": "2022-03-25T18:32:16.224733Z",
     "iopub.status.busy": "2022-03-25T18:32:16.224293Z",
     "iopub.status.idle": "2022-03-25T18:32:16.236584Z",
     "shell.execute_reply": "2022-03-25T18:32:16.236215Z"
    },
    "papermill": {
     "duration": 0.042231,
     "end_time": "2022-03-25T18:32:16.236663",
     "exception": false,
     "start_time": "2022-03-25T18:32:16.194432",
     "status": "completed"
    },
    "tags": [
     "injected-parameters"
    ]
   },
   "outputs": [],
   "source": [
    "# Parameters\n",
    "parameters = {\n",
    "    \"experiment_name\": \"tl_3-filterv2:cores -> oracle.run1.framed\",\n",
    "    \"device\": \"cuda\",\n",
    "    \"lr\": 0.0001,\n",
    "    \"x_shape\": [2, 200],\n",
    "    \"n_shot\": 3,\n",
    "    \"n_query\": 2,\n",
    "    \"train_k_factor\": 3,\n",
    "    \"val_k_factor\": 2,\n",
    "    \"test_k_factor\": 2,\n",
    "    \"torch_default_dtype\": \"torch.float32\",\n",
    "    \"n_epoch\": 50,\n",
    "    \"patience\": 3,\n",
    "    \"criteria_for_best\": \"target_accuracy\",\n",
    "    \"x_net\": [\n",
    "        {\"class\": \"nnReshape\", \"kargs\": {\"shape\": [-1, 1, 2, 200]}},\n",
    "        {\n",
    "            \"class\": \"Conv2d\",\n",
    "            \"kargs\": {\n",
    "                \"in_channels\": 1,\n",
    "                \"out_channels\": 256,\n",
    "                \"kernel_size\": [1, 7],\n",
    "                \"bias\": False,\n",
    "                \"padding\": [0, 3],\n",
    "            },\n",
    "        },\n",
    "        {\"class\": \"ReLU\", \"kargs\": {\"inplace\": True}},\n",
    "        {\"class\": \"BatchNorm2d\", \"kargs\": {\"num_features\": 256}},\n",
    "        {\n",
    "            \"class\": \"Conv2d\",\n",
    "            \"kargs\": {\n",
    "                \"in_channels\": 256,\n",
    "                \"out_channels\": 80,\n",
    "                \"kernel_size\": [2, 7],\n",
    "                \"bias\": True,\n",
    "                \"padding\": [0, 3],\n",
    "            },\n",
    "        },\n",
    "        {\"class\": \"ReLU\", \"kargs\": {\"inplace\": True}},\n",
    "        {\"class\": \"BatchNorm2d\", \"kargs\": {\"num_features\": 80}},\n",
    "        {\"class\": \"Flatten\", \"kargs\": {}},\n",
    "        {\"class\": \"Linear\", \"kargs\": {\"in_features\": 16000, \"out_features\": 256}},\n",
    "        {\"class\": \"ReLU\", \"kargs\": {\"inplace\": True}},\n",
    "        {\"class\": \"BatchNorm1d\", \"kargs\": {\"num_features\": 256}},\n",
    "        {\"class\": \"Linear\", \"kargs\": {\"in_features\": 256, \"out_features\": 256}},\n",
    "    ],\n",
    "    \"NUM_LOGS_PER_EPOCH\": 10,\n",
    "    \"BEST_MODEL_PATH\": \"./best_model.pth\",\n",
    "    \"n_way\": 16,\n",
    "    \"datasets\": [\n",
    "        {\n",
    "            \"labels\": [\n",
    "                \"1-10.\",\n",
    "                \"1-11.\",\n",
    "                \"1-15.\",\n",
    "                \"1-16.\",\n",
    "                \"1-17.\",\n",
    "                \"1-18.\",\n",
    "                \"1-19.\",\n",
    "                \"10-4.\",\n",
    "                \"10-7.\",\n",
    "                \"11-1.\",\n",
    "                \"11-14.\",\n",
    "                \"11-17.\",\n",
    "                \"11-20.\",\n",
    "                \"11-7.\",\n",
    "                \"13-20.\",\n",
    "                \"13-8.\",\n",
    "                \"14-10.\",\n",
    "                \"14-11.\",\n",
    "                \"14-14.\",\n",
    "                \"14-7.\",\n",
    "                \"15-1.\",\n",
    "                \"15-20.\",\n",
    "                \"16-1.\",\n",
    "                \"16-16.\",\n",
    "                \"17-10.\",\n",
    "                \"17-11.\",\n",
    "                \"17-2.\",\n",
    "                \"19-1.\",\n",
    "                \"19-16.\",\n",
    "                \"19-19.\",\n",
    "                \"19-20.\",\n",
    "                \"19-3.\",\n",
    "                \"2-10.\",\n",
    "                \"2-11.\",\n",
    "                \"2-17.\",\n",
    "                \"2-18.\",\n",
    "                \"2-20.\",\n",
    "                \"2-3.\",\n",
    "                \"2-4.\",\n",
    "                \"2-5.\",\n",
    "                \"2-6.\",\n",
    "                \"2-7.\",\n",
    "                \"2-8.\",\n",
    "                \"3-13.\",\n",
    "                \"3-18.\",\n",
    "                \"3-3.\",\n",
    "                \"4-1.\",\n",
    "                \"4-10.\",\n",
    "                \"4-11.\",\n",
    "                \"4-19.\",\n",
    "                \"5-5.\",\n",
    "                \"6-15.\",\n",
    "                \"7-10.\",\n",
    "                \"7-14.\",\n",
    "                \"8-18.\",\n",
    "                \"8-20.\",\n",
    "                \"8-3.\",\n",
    "                \"8-8.\",\n",
    "            ],\n",
    "            \"domains\": [1, 2, 3, 4, 5],\n",
    "            \"num_examples_per_domain_per_label\": -1,\n",
    "            \"pickle_path\": \"/mnt/wd500GB/CSC500/csc500-main/datasets/cores.stratified_ds.2022A.pkl\",\n",
    "            \"source_or_target_dataset\": \"source\",\n",
    "            \"x_transforms\": [\"unit_mag\", \"lowpass_+/-10MHz\", \"take_200\"],\n",
    "            \"episode_transforms\": [],\n",
    "            \"domain_prefix\": \"C_\",\n",
    "        },\n",
    "        {\n",
    "            \"labels\": [\n",
    "                \"3123D52\",\n",
    "                \"3123D65\",\n",
    "                \"3123D79\",\n",
    "                \"3123D80\",\n",
    "                \"3123D54\",\n",
    "                \"3123D70\",\n",
    "                \"3123D7B\",\n",
    "                \"3123D89\",\n",
    "                \"3123D58\",\n",
    "                \"3123D76\",\n",
    "                \"3123D7D\",\n",
    "                \"3123EFE\",\n",
    "                \"3123D64\",\n",
    "                \"3123D78\",\n",
    "                \"3123D7E\",\n",
    "                \"3124E4A\",\n",
    "            ],\n",
    "            \"domains\": [32, 38, 8, 44, 14, 50, 20, 26],\n",
    "            \"num_examples_per_domain_per_label\": 2000,\n",
    "            \"pickle_path\": \"/mnt/wd500GB/CSC500/csc500-main/datasets/oracle.Run1_framed_2000Examples_stratified_ds.2022A.pkl\",\n",
    "            \"source_or_target_dataset\": \"target\",\n",
    "            \"x_transforms\": [\"unit_mag\", \"take_200\", \"resample_20Msps_to_25Msps\"],\n",
    "            \"episode_transforms\": [],\n",
    "            \"domain_prefix\": \"O_\",\n",
    "        },\n",
    "    ],\n",
    "    \"seed\": 7,\n",
    "    \"dataset_seed\": 7,\n",
    "}\n"
   ]
  },
  {
   "cell_type": "code",
   "execution_count": 5,
   "id": "8fa1cc33",
   "metadata": {
    "execution": {
     "iopub.execute_input": "2022-03-25T18:32:16.278145Z",
     "iopub.status.busy": "2022-03-25T18:32:16.277849Z",
     "iopub.status.idle": "2022-03-25T18:32:16.291519Z",
     "shell.execute_reply": "2022-03-25T18:32:16.291018Z"
    },
    "papermill": {
     "duration": 0.033856,
     "end_time": "2022-03-25T18:32:16.291625",
     "exception": false,
     "start_time": "2022-03-25T18:32:16.257769",
     "status": "completed"
    },
    "tags": []
   },
   "outputs": [],
   "source": [
    "# Set this to True if you want to run this template directly\n",
    "STANDALONE = False\n",
    "if STANDALONE:\n",
    "    print(\"parameters not injected, running with standalone_parameters\")\n",
    "    parameters = standalone_parameters\n",
    "\n",
    "if not 'parameters' in locals() and not 'parameters' in globals():\n",
    "    raise Exception(\"Parameter injection failed\")\n",
    "\n",
    "#Use an easy dict for all the parameters\n",
    "p = EasyDict(parameters)\n",
    "\n",
    "if \"x_shape\" not in p:\n",
    "    p.x_shape = [2,256] # Default to this if we dont supply x_shape\n",
    "\n",
    "\n",
    "supplied_keys = set(p.keys())\n",
    "\n",
    "if  supplied_keys != required_parameters:\n",
    "    print(\"Parameters are incorrect\")\n",
    "    if len(supplied_keys - required_parameters)>0: print(\"Shouldn't have:\", str(supplied_keys - required_parameters))\n",
    "    if len(required_parameters - supplied_keys)>0: print(\"Need to have:\", str(required_parameters - supplied_keys))\n",
    "    raise RuntimeError(\"Parameters are incorrect\")"
   ]
  },
  {
   "cell_type": "code",
   "execution_count": 6,
   "id": "3a028d58",
   "metadata": {
    "execution": {
     "iopub.execute_input": "2022-03-25T18:32:16.326155Z",
     "iopub.status.busy": "2022-03-25T18:32:16.325885Z",
     "iopub.status.idle": "2022-03-25T18:32:16.340906Z",
     "shell.execute_reply": "2022-03-25T18:32:16.340405Z"
    },
    "papermill": {
     "duration": 0.030808,
     "end_time": "2022-03-25T18:32:16.341011",
     "exception": false,
     "start_time": "2022-03-25T18:32:16.310203",
     "status": "completed"
    },
    "tags": []
   },
   "outputs": [],
   "source": [
    "###################################\n",
    "# Set the RNGs and make it all deterministic\n",
    "###################################\n",
    "np.random.seed(p.seed)\n",
    "random.seed(p.seed)\n",
    "torch.manual_seed(p.seed)\n",
    "\n",
    "torch.use_deterministic_algorithms(True) "
   ]
  },
  {
   "cell_type": "code",
   "execution_count": 7,
   "id": "b691acf6",
   "metadata": {
    "execution": {
     "iopub.execute_input": "2022-03-25T18:32:16.373434Z",
     "iopub.status.busy": "2022-03-25T18:32:16.373168Z",
     "iopub.status.idle": "2022-03-25T18:32:16.387148Z",
     "shell.execute_reply": "2022-03-25T18:32:16.386648Z"
    },
    "papermill": {
     "duration": 0.029929,
     "end_time": "2022-03-25T18:32:16.387252",
     "exception": false,
     "start_time": "2022-03-25T18:32:16.357323",
     "status": "completed"
    },
    "tags": []
   },
   "outputs": [],
   "source": [
    "###########################################\n",
    "# The stratified datasets honor this\n",
    "###########################################\n",
    "torch.set_default_dtype(eval(p.torch_default_dtype))"
   ]
  },
  {
   "cell_type": "code",
   "execution_count": 8,
   "id": "b5fba671",
   "metadata": {
    "execution": {
     "iopub.execute_input": "2022-03-25T18:32:16.422294Z",
     "iopub.status.busy": "2022-03-25T18:32:16.422034Z",
     "iopub.status.idle": "2022-03-25T18:32:16.455721Z",
     "shell.execute_reply": "2022-03-25T18:32:16.455271Z"
    },
    "papermill": {
     "duration": 0.049491,
     "end_time": "2022-03-25T18:32:16.455827",
     "exception": false,
     "start_time": "2022-03-25T18:32:16.406336",
     "status": "completed"
    },
    "tags": []
   },
   "outputs": [],
   "source": [
    "###################################\n",
    "# Build the network(s)\n",
    "# Note: It's critical to do this AFTER setting the RNG\n",
    "###################################\n",
    "x_net = build_sequential(p.x_net)"
   ]
  },
  {
   "cell_type": "code",
   "execution_count": 9,
   "id": "5d7e61cc",
   "metadata": {
    "execution": {
     "iopub.execute_input": "2022-03-25T18:32:16.491882Z",
     "iopub.status.busy": "2022-03-25T18:32:16.491622Z",
     "iopub.status.idle": "2022-03-25T18:32:16.504392Z",
     "shell.execute_reply": "2022-03-25T18:32:16.504155Z"
    },
    "papermill": {
     "duration": 0.029005,
     "end_time": "2022-03-25T18:32:16.504452",
     "exception": false,
     "start_time": "2022-03-25T18:32:16.475447",
     "status": "completed"
    },
    "tags": []
   },
   "outputs": [],
   "source": [
    "start_time_secs = time.time()"
   ]
  },
  {
   "cell_type": "code",
   "execution_count": 10,
   "id": "c6b67dfd",
   "metadata": {
    "execution": {
     "iopub.execute_input": "2022-03-25T18:32:16.539911Z",
     "iopub.status.busy": "2022-03-25T18:32:16.539646Z",
     "iopub.status.idle": "2022-03-25T18:32:16.550486Z",
     "shell.execute_reply": "2022-03-25T18:32:16.549742Z"
    },
    "papermill": {
     "duration": 0.027258,
     "end_time": "2022-03-25T18:32:16.550626",
     "exception": false,
     "start_time": "2022-03-25T18:32:16.523368",
     "status": "completed"
    },
    "tags": []
   },
   "outputs": [],
   "source": [
    "p.domains_source = []\n",
    "p.domains_target = []\n",
    "\n",
    "\n",
    "train_original_source = []\n",
    "val_original_source   = []\n",
    "test_original_source  = []\n",
    "\n",
    "train_original_target = []\n",
    "val_original_target   = []\n",
    "test_original_target  = []"
   ]
  },
  {
   "cell_type": "code",
   "execution_count": 11,
   "id": "e3d9c3d3",
   "metadata": {
    "execution": {
     "iopub.execute_input": "2022-03-25T18:32:16.585099Z",
     "iopub.status.busy": "2022-03-25T18:32:16.584675Z",
     "iopub.status.idle": "2022-03-25T18:32:16.595081Z",
     "shell.execute_reply": "2022-03-25T18:32:16.594721Z"
    },
    "papermill": {
     "duration": 0.026369,
     "end_time": "2022-03-25T18:32:16.595162",
     "exception": false,
     "start_time": "2022-03-25T18:32:16.568793",
     "status": "completed"
    },
    "tags": []
   },
   "outputs": [],
   "source": [
    "# global_x_transform_func = lambda x: normalize(x.to(torch.get_default_dtype()), \"unit_power\") # unit_power, unit_mag\n",
    "# global_x_transform_func = lambda x: normalize(x, \"unit_power\") # unit_power, unit_mag"
   ]
  },
  {
   "cell_type": "code",
   "execution_count": 12,
   "id": "acb78fd2",
   "metadata": {
    "execution": {
     "iopub.execute_input": "2022-03-25T18:32:16.632427Z",
     "iopub.status.busy": "2022-03-25T18:32:16.632142Z",
     "iopub.status.idle": "2022-03-25T18:32:16.643615Z",
     "shell.execute_reply": "2022-03-25T18:32:16.643098Z"
    },
    "papermill": {
     "duration": 0.030222,
     "end_time": "2022-03-25T18:32:16.643722",
     "exception": false,
     "start_time": "2022-03-25T18:32:16.613500",
     "status": "completed"
    },
    "tags": []
   },
   "outputs": [],
   "source": [
    "def add_dataset(\n",
    "    labels,\n",
    "    domains,\n",
    "    pickle_path,\n",
    "    x_transforms,\n",
    "    episode_transforms,\n",
    "    domain_prefix,\n",
    "    num_examples_per_domain_per_label,\n",
    "    source_or_target_dataset:str,\n",
    "    iterator_seed=p.seed,\n",
    "    dataset_seed=p.dataset_seed,\n",
    "    n_shot=p.n_shot,\n",
    "    n_way=p.n_way,\n",
    "    n_query=p.n_query,\n",
    "    train_val_test_k_factors=(p.train_k_factor,p.val_k_factor,p.test_k_factor),\n",
    "):\n",
    "   \n",
    "    if x_transforms == []: x_transform = None\n",
    "    else: x_transform = get_chained_transform(x_transforms)\n",
    "    \n",
    "    if episode_transforms == []: episode_transform = None\n",
    "    else: raise Exception(\"episode_transforms not implemented\")\n",
    "    \n",
    "    episode_transform = lambda tup, _prefix=domain_prefix: (_prefix + str(tup[0]), tup[1])\n",
    "\n",
    "\n",
    "    eaf = Episodic_Accessor_Factory(\n",
    "        labels=labels,\n",
    "        domains=domains,\n",
    "        num_examples_per_domain_per_label=num_examples_per_domain_per_label,\n",
    "        iterator_seed=iterator_seed,\n",
    "        dataset_seed=dataset_seed,\n",
    "        n_shot=n_shot,\n",
    "        n_way=n_way,\n",
    "        n_query=n_query,\n",
    "        train_val_test_k_factors=train_val_test_k_factors,\n",
    "        pickle_path=pickle_path,\n",
    "        x_transform_func=x_transform,\n",
    "    )\n",
    "\n",
    "    train, val, test = eaf.get_train(), eaf.get_val(), eaf.get_test()\n",
    "    train = Lazy_Iterable_Wrapper(train, episode_transform)\n",
    "    val = Lazy_Iterable_Wrapper(val, episode_transform)\n",
    "    test = Lazy_Iterable_Wrapper(test, episode_transform)\n",
    "\n",
    "    if source_or_target_dataset==\"source\":\n",
    "        train_original_source.append(train)\n",
    "        val_original_source.append(val)\n",
    "        test_original_source.append(test)\n",
    "\n",
    "        p.domains_source.extend(\n",
    "            [domain_prefix + str(u) for u in domains]\n",
    "        )\n",
    "    elif source_or_target_dataset==\"target\":\n",
    "        train_original_target.append(train)\n",
    "        val_original_target.append(val)\n",
    "        test_original_target.append(test)\n",
    "        p.domains_target.extend(\n",
    "            [domain_prefix + str(u) for u in domains]\n",
    "        )\n",
    "    else:\n",
    "        raise Exception(f\"invalid source_or_target_dataset: {source_or_target_dataset}\")\n",
    "    "
   ]
  },
  {
   "cell_type": "code",
   "execution_count": 13,
   "id": "fe266617",
   "metadata": {
    "execution": {
     "iopub.execute_input": "2022-03-25T18:32:16.681392Z",
     "iopub.status.busy": "2022-03-25T18:32:16.681125Z",
     "iopub.status.idle": "2022-03-25T18:33:09.663690Z",
     "shell.execute_reply": "2022-03-25T18:33:09.663213Z"
    },
    "papermill": {
     "duration": 53.0003,
     "end_time": "2022-03-25T18:33:09.663853",
     "exception": false,
     "start_time": "2022-03-25T18:32:16.663553",
     "status": "completed"
    },
    "tags": []
   },
   "outputs": [],
   "source": [
    "for ds in p.datasets:\n",
    "    add_dataset(**ds)"
   ]
  },
  {
   "cell_type": "code",
   "execution_count": 14,
   "id": "b90d65ac",
   "metadata": {
    "execution": {
     "iopub.execute_input": "2022-03-25T18:33:09.700922Z",
     "iopub.status.busy": "2022-03-25T18:33:09.700661Z",
     "iopub.status.idle": "2022-03-25T18:33:09.712606Z",
     "shell.execute_reply": "2022-03-25T18:33:09.712147Z"
    },
    "papermill": {
     "duration": 0.02766,
     "end_time": "2022-03-25T18:33:09.712709",
     "exception": false,
     "start_time": "2022-03-25T18:33:09.685049",
     "status": "completed"
    },
    "tags": []
   },
   "outputs": [],
   "source": [
    "# from steves_utils.CORES.utils import (\n",
    "#     ALL_NODES,\n",
    "#     ALL_NODES_MINIMUM_1000_EXAMPLES,\n",
    "#     ALL_DAYS\n",
    "# )\n",
    "\n",
    "# add_dataset(\n",
    "#     labels=ALL_NODES,\n",
    "#     domains = ALL_DAYS,\n",
    "#     num_examples_per_domain_per_label=100,\n",
    "#     pickle_path=os.path.join(get_datasets_base_path(), \"cores.stratified_ds.2022A.pkl\"),\n",
    "#     source_or_target_dataset=\"target\",\n",
    "#     x_transform_func=global_x_transform_func,\n",
    "#     domain_modifier=lambda u: f\"cores_{u}\"\n",
    "# )"
   ]
  },
  {
   "cell_type": "code",
   "execution_count": 15,
   "id": "76db484d",
   "metadata": {
    "execution": {
     "iopub.execute_input": "2022-03-25T18:33:09.750473Z",
     "iopub.status.busy": "2022-03-25T18:33:09.750215Z",
     "iopub.status.idle": "2022-03-25T18:33:09.759118Z",
     "shell.execute_reply": "2022-03-25T18:33:09.758730Z"
    },
    "papermill": {
     "duration": 0.027188,
     "end_time": "2022-03-25T18:33:09.759198",
     "exception": false,
     "start_time": "2022-03-25T18:33:09.732010",
     "status": "completed"
    },
    "tags": []
   },
   "outputs": [],
   "source": [
    "# from steves_utils.ORACLE.utils_v2 import (\n",
    "#     ALL_DISTANCES_FEET,\n",
    "#     ALL_RUNS,\n",
    "#     ALL_SERIAL_NUMBERS,\n",
    "# )\n",
    "\n",
    "\n",
    "# add_dataset(\n",
    "#     labels=ALL_SERIAL_NUMBERS,\n",
    "#     domains = list(set(ALL_DISTANCES_FEET) - {2,62}),\n",
    "#     num_examples_per_domain_per_label=100,\n",
    "#     pickle_path=os.path.join(get_datasets_base_path(), \"oracle.Run2_framed_2000Examples_stratified_ds.2022A.pkl\"),\n",
    "#     source_or_target_dataset=\"source\",\n",
    "#     x_transform_func=global_x_transform_func,\n",
    "#     domain_modifier=lambda u: f\"oracle1_{u}\"\n",
    "# )\n"
   ]
  },
  {
   "cell_type": "code",
   "execution_count": 16,
   "id": "97dea9d2",
   "metadata": {
    "execution": {
     "iopub.execute_input": "2022-03-25T18:33:09.795520Z",
     "iopub.status.busy": "2022-03-25T18:33:09.795196Z",
     "iopub.status.idle": "2022-03-25T18:33:09.811409Z",
     "shell.execute_reply": "2022-03-25T18:33:09.810947Z"
    },
    "papermill": {
     "duration": 0.032283,
     "end_time": "2022-03-25T18:33:09.811512",
     "exception": false,
     "start_time": "2022-03-25T18:33:09.779229",
     "status": "completed"
    },
    "tags": []
   },
   "outputs": [],
   "source": [
    "# from steves_utils.ORACLE.utils_v2 import (\n",
    "#     ALL_DISTANCES_FEET,\n",
    "#     ALL_RUNS,\n",
    "#     ALL_SERIAL_NUMBERS,\n",
    "# )\n",
    "\n",
    "\n",
    "# add_dataset(\n",
    "#     labels=ALL_SERIAL_NUMBERS,\n",
    "#     domains = list(set(ALL_DISTANCES_FEET) - {2,62,56}),\n",
    "#     num_examples_per_domain_per_label=100,\n",
    "#     pickle_path=os.path.join(get_datasets_base_path(), \"oracle.Run2_framed_2000Examples_stratified_ds.2022A.pkl\"),\n",
    "#     source_or_target_dataset=\"source\",\n",
    "#     x_transform_func=global_x_transform_func,\n",
    "#     domain_modifier=lambda u: f\"oracle2_{u}\"\n",
    "# )"
   ]
  },
  {
   "cell_type": "code",
   "execution_count": 17,
   "id": "6f289866",
   "metadata": {
    "execution": {
     "iopub.execute_input": "2022-03-25T18:33:09.847198Z",
     "iopub.status.busy": "2022-03-25T18:33:09.846936Z",
     "iopub.status.idle": "2022-03-25T18:33:09.863255Z",
     "shell.execute_reply": "2022-03-25T18:33:09.862785Z"
    },
    "papermill": {
     "duration": 0.033293,
     "end_time": "2022-03-25T18:33:09.863397",
     "exception": false,
     "start_time": "2022-03-25T18:33:09.830104",
     "status": "completed"
    },
    "tags": []
   },
   "outputs": [],
   "source": [
    "# add_dataset(\n",
    "#     labels=list(range(19)),\n",
    "#     domains = [0,1,2],\n",
    "#     num_examples_per_domain_per_label=100,\n",
    "#     pickle_path=os.path.join(get_datasets_base_path(), \"metehan.stratified_ds.2022A.pkl\"),\n",
    "#     source_or_target_dataset=\"target\",\n",
    "#     x_transform_func=global_x_transform_func,\n",
    "#     domain_modifier=lambda u: f\"met_{u}\"\n",
    "# )"
   ]
  },
  {
   "cell_type": "code",
   "execution_count": 18,
   "id": "86a863c3",
   "metadata": {
    "execution": {
     "iopub.execute_input": "2022-03-25T18:33:09.900251Z",
     "iopub.status.busy": "2022-03-25T18:33:09.899989Z",
     "iopub.status.idle": "2022-03-25T18:33:09.915081Z",
     "shell.execute_reply": "2022-03-25T18:33:09.915464Z"
    },
    "papermill": {
     "duration": 0.031866,
     "end_time": "2022-03-25T18:33:09.915592",
     "exception": false,
     "start_time": "2022-03-25T18:33:09.883726",
     "status": "completed"
    },
    "tags": []
   },
   "outputs": [],
   "source": [
    "# # from steves_utils.wisig.utils import (\n",
    "# #     ALL_NODES_MINIMUM_100_EXAMPLES,\n",
    "# #     ALL_NODES_MINIMUM_500_EXAMPLES,\n",
    "# #     ALL_NODES_MINIMUM_1000_EXAMPLES,\n",
    "# #     ALL_DAYS\n",
    "# # )\n",
    "\n",
    "# import steves_utils.wisig.utils as wisig\n",
    "\n",
    "\n",
    "# add_dataset(\n",
    "#     labels=wisig.ALL_NODES_MINIMUM_100_EXAMPLES,\n",
    "#     domains = wisig.ALL_DAYS,\n",
    "#     num_examples_per_domain_per_label=100,\n",
    "#     pickle_path=os.path.join(get_datasets_base_path(), \"wisig.node3-19.stratified_ds.2022A.pkl\"),\n",
    "#     source_or_target_dataset=\"target\",\n",
    "#     x_transform_func=global_x_transform_func,\n",
    "#     domain_modifier=lambda u: f\"wisig_{u}\"\n",
    "# )"
   ]
  },
  {
   "cell_type": "code",
   "execution_count": 19,
   "id": "fd5442bc",
   "metadata": {
    "execution": {
     "iopub.execute_input": "2022-03-25T18:33:09.955990Z",
     "iopub.status.busy": "2022-03-25T18:33:09.955713Z",
     "iopub.status.idle": "2022-03-25T18:33:09.969179Z",
     "shell.execute_reply": "2022-03-25T18:33:09.969482Z"
    },
    "papermill": {
     "duration": 0.033368,
     "end_time": "2022-03-25T18:33:09.969577",
     "exception": false,
     "start_time": "2022-03-25T18:33:09.936209",
     "status": "completed"
    },
    "tags": []
   },
   "outputs": [],
   "source": [
    "###################################\n",
    "# Build the dataset\n",
    "###################################\n",
    "train_original_source = Iterable_Aggregator(train_original_source, p.seed)\n",
    "val_original_source = Iterable_Aggregator(val_original_source, p.seed)\n",
    "test_original_source = Iterable_Aggregator(test_original_source, p.seed)\n",
    "\n",
    "\n",
    "train_original_target = Iterable_Aggregator(train_original_target, p.seed)\n",
    "val_original_target = Iterable_Aggregator(val_original_target, p.seed)\n",
    "test_original_target = Iterable_Aggregator(test_original_target, p.seed)\n",
    "\n",
    "# For CNN We only use X and Y. And we only train on the source.\n",
    "# Properly form the data using a transform lambda and Lazy_Iterable_Wrapper. Finally wrap them in a dataloader\n",
    "\n",
    "transform_lambda = lambda ex: ex[1] # Original is (<domain>, <episode>) so we strip down to episode only\n",
    "\n",
    "train_processed_source = Lazy_Iterable_Wrapper(train_original_source, transform_lambda)\n",
    "val_processed_source   = Lazy_Iterable_Wrapper(val_original_source, transform_lambda)\n",
    "test_processed_source  = Lazy_Iterable_Wrapper(test_original_source, transform_lambda)\n",
    "\n",
    "train_processed_target = Lazy_Iterable_Wrapper(train_original_target, transform_lambda)\n",
    "val_processed_target   = Lazy_Iterable_Wrapper(val_original_target, transform_lambda)\n",
    "test_processed_target  = Lazy_Iterable_Wrapper(test_original_target, transform_lambda)\n",
    "\n",
    "datasets = EasyDict({\n",
    "    \"source\": {\n",
    "        \"original\": {\"train\":train_original_source, \"val\":val_original_source, \"test\":test_original_source},\n",
    "        \"processed\": {\"train\":train_processed_source, \"val\":val_processed_source, \"test\":test_processed_source}\n",
    "    },\n",
    "    \"target\": {\n",
    "        \"original\": {\"train\":train_original_target, \"val\":val_original_target, \"test\":test_original_target},\n",
    "        \"processed\": {\"train\":train_processed_target, \"val\":val_processed_target, \"test\":test_processed_target}\n",
    "    },\n",
    "})"
   ]
  },
  {
   "cell_type": "code",
   "execution_count": 20,
   "id": "5b3c01fc",
   "metadata": {
    "execution": {
     "iopub.execute_input": "2022-03-25T18:33:10.007033Z",
     "iopub.status.busy": "2022-03-25T18:33:10.006772Z",
     "iopub.status.idle": "2022-03-25T18:33:16.911691Z",
     "shell.execute_reply": "2022-03-25T18:33:16.912071Z"
    },
    "papermill": {
     "duration": 6.923672,
     "end_time": "2022-03-25T18:33:16.912180",
     "exception": false,
     "start_time": "2022-03-25T18:33:09.988508",
     "status": "completed"
    },
    "tags": []
   },
   "outputs": [
    {
     "name": "stdout",
     "output_type": "stream",
     "text": [
      "{'C_3', 'C_1', 'C_5', 'C_4', 'C_2'}\n"
     ]
    },
    {
     "name": "stdout",
     "output_type": "stream",
     "text": [
      "{'O_26', 'O_8', 'O_50', 'O_20', 'O_44', 'O_38', 'O_14', 'O_32'}\n"
     ]
    },
    {
     "name": "stdout",
     "output_type": "stream",
     "text": [
      "tensor([[[ 2.7407e-03,  1.5461e-02,  4.0764e-02,  ...,  1.4968e+00,\n",
      "           7.1028e-01, -3.3686e-01],\n",
      "         [ 1.9115e-02,  8.7132e-02,  1.0211e-02,  ..., -3.3760e-01,\n",
      "           1.0135e-01,  1.1421e+00]],\n",
      "\n",
      "        [[ 2.9209e-03,  1.6420e-02, -8.6348e-03,  ..., -6.8063e-01,\n",
      "          -1.2173e+00,  4.6956e-01],\n",
      "         [-1.7642e-02, -1.0783e-01, -1.9527e-01,  ..., -1.0917e+00,\n",
      "          -4.7785e-01, -7.5604e-01]],\n",
      "\n",
      "        [[-7.2710e-03, -6.1718e-02, -1.6638e-01,  ..., -8.2853e-01,\n",
      "           7.5200e-01, -6.9141e-02],\n",
      "         [ 9.6770e-03,  6.7475e-02,  1.7278e-01,  ...,  8.3983e-01,\n",
      "           1.3629e+00,  6.6000e-01]],\n",
      "\n",
      "        ...,\n",
      "\n",
      "        [[-1.5621e-02, -1.0032e-01, -1.9318e-01,  ..., -1.4652e+00,\n",
      "          -4.4947e-01,  2.6434e-01],\n",
      "         [-2.4408e-04, -3.5760e-02, -2.1603e-01,  ...,  6.7381e-01,\n",
      "           9.2634e-01,  2.1914e-01]],\n",
      "\n",
      "        [[ 1.4722e-02,  1.1072e-01,  2.8845e-01,  ...,  4.9840e-01,\n",
      "          -3.4191e-01, -4.0033e-01],\n",
      "         [-1.0533e-02, -3.6355e-02,  6.2923e-02,  ..., -1.5168e+00,\n",
      "          -9.1700e-01,  1.5776e-01]],\n",
      "\n",
      "        [[-6.3747e-03, -4.4921e-02, -8.4833e-02,  ..., -1.0545e+00,\n",
      "          -1.4568e+00, -7.7331e-01],\n",
      "         [ 2.3292e-03, -6.1102e-03, -1.0471e-01,  ..., -1.5077e+00,\n",
      "          -3.2870e-01,  3.3217e-01]]])\n"
     ]
    }
   ],
   "source": [
    "from steves_utils.transforms import get_average_magnitude, get_average_power\n",
    "\n",
    "print(set([u for u,_ in val_original_source]))\n",
    "print(set([u for u,_ in val_original_target]))\n",
    "\n",
    "s_x, s_y, q_x, q_y, _ = next(iter(train_processed_source))\n",
    "print(s_x)\n",
    "\n",
    "# for ds in [\n",
    "#     train_processed_source,\n",
    "#     val_processed_source,\n",
    "#     test_processed_source,\n",
    "#     train_processed_target,\n",
    "#     val_processed_target,\n",
    "#     test_processed_target\n",
    "# ]:\n",
    "#     for s_x, s_y, q_x, q_y, _ in ds:\n",
    "#         for X in (s_x, q_x):\n",
    "#             for x in X:\n",
    "#                 assert np.isclose(get_average_magnitude(x.numpy()), 1.0)\n",
    "#                 assert np.isclose(get_average_power(x.numpy()), 1.0)\n",
    "                "
   ]
  },
  {
   "cell_type": "code",
   "execution_count": 21,
   "id": "bbdacba1",
   "metadata": {
    "execution": {
     "iopub.execute_input": "2022-03-25T18:33:16.950528Z",
     "iopub.status.busy": "2022-03-25T18:33:16.950131Z",
     "iopub.status.idle": "2022-03-25T18:33:17.000904Z",
     "shell.execute_reply": "2022-03-25T18:33:17.001314Z"
    },
    "papermill": {
     "duration": 0.069884,
     "end_time": "2022-03-25T18:33:17.001442",
     "exception": false,
     "start_time": "2022-03-25T18:33:16.931558",
     "status": "completed"
    },
    "tags": []
   },
   "outputs": [
    {
     "name": "stdout",
     "output_type": "stream",
     "text": [
      "(2, 200)\n"
     ]
    }
   ],
   "source": [
    "###################################\n",
    "# Build the model\n",
    "###################################\n",
    "# easfsl only wants a tuple for the shape\n",
    "model = Steves_Prototypical_Network(x_net, device=p.device, x_shape=tuple(p.x_shape))\n",
    "optimizer = Adam(params=model.parameters(), lr=p.lr)"
   ]
  },
  {
   "cell_type": "code",
   "execution_count": 22,
   "id": "22b39ac5",
   "metadata": {
    "execution": {
     "iopub.execute_input": "2022-03-25T18:33:17.037159Z",
     "iopub.status.busy": "2022-03-25T18:33:17.036897Z",
     "iopub.status.idle": "2022-03-25T19:24:59.422798Z",
     "shell.execute_reply": "2022-03-25T19:24:59.422553Z"
    },
    "papermill": {
     "duration": 3102.404026,
     "end_time": "2022-03-25T19:24:59.422860",
     "exception": false,
     "start_time": "2022-03-25T18:33:17.018834",
     "status": "completed"
    },
    "tags": []
   },
   "outputs": [
    {
     "name": "stdout",
     "output_type": "stream",
     "text": [
      "epoch: 1, [batch: 1 / 6316], examples_per_second: 46.2292, train_label_loss: 2.5722, \n"
     ]
    },
    {
     "name": "stdout",
     "output_type": "stream",
     "text": [
      "epoch: 1, [batch: 632 / 6316], examples_per_second: 1868.9591, train_label_loss: 0.0431, \n"
     ]
    },
    {
     "name": "stdout",
     "output_type": "stream",
     "text": [
      "epoch: 1, [batch: 1264 / 6316], examples_per_second: 1867.1914, train_label_loss: 0.0135, \n"
     ]
    },
    {
     "name": "stdout",
     "output_type": "stream",
     "text": [
      "epoch: 1, [batch: 1895 / 6316], examples_per_second: 1871.2637, train_label_loss: 0.0032, \n"
     ]
    },
    {
     "name": "stdout",
     "output_type": "stream",
     "text": [
      "epoch: 1, [batch: 2527 / 6316], examples_per_second: 1863.9370, train_label_loss: 0.0020, \n"
     ]
    },
    {
     "name": "stdout",
     "output_type": "stream",
     "text": [
      "epoch: 1, [batch: 3158 / 6316], examples_per_second: 1869.3118, train_label_loss: 0.3331, \n"
     ]
    },
    {
     "name": "stdout",
     "output_type": "stream",
     "text": [
      "epoch: 1, [batch: 3790 / 6316], examples_per_second: 1867.4951, train_label_loss: 0.0001, \n"
     ]
    },
    {
     "name": "stdout",
     "output_type": "stream",
     "text": [
      "epoch: 1, [batch: 4421 / 6316], examples_per_second: 2213.7475, train_label_loss: 0.0005, \n"
     ]
    },
    {
     "name": "stdout",
     "output_type": "stream",
     "text": [
      "epoch: 1, [batch: 5053 / 6316], examples_per_second: 2356.2363, train_label_loss: 0.3174, \n"
     ]
    },
    {
     "name": "stdout",
     "output_type": "stream",
     "text": [
      "epoch: 1, [batch: 5684 / 6316], examples_per_second: 1869.7439, train_label_loss: 0.0007, \n"
     ]
    },
    {
     "name": "stdout",
     "output_type": "stream",
     "text": [
      "=============================================================\n",
      "epoch: 1, source_val_acc_label: 0.9979, target_val_acc_label: 0.3311, source_val_label_loss: 0.0091, target_val_label_loss: 1.9394, \n",
      "=============================================================\n"
     ]
    },
    {
     "name": "stdout",
     "output_type": "stream",
     "text": [
      "New best\n"
     ]
    },
    {
     "name": "stdout",
     "output_type": "stream",
     "text": [
      "epoch: 2, [batch: 1 / 6296], examples_per_second: 2.8187, train_label_loss: 0.0011, \n"
     ]
    },
    {
     "name": "stdout",
     "output_type": "stream",
     "text": [
      "epoch: 2, [batch: 630 / 6296], examples_per_second: 1868.1315, train_label_loss: 0.0009, \n"
     ]
    },
    {
     "name": "stdout",
     "output_type": "stream",
     "text": [
      "epoch: 2, [batch: 1260 / 6296], examples_per_second: 1869.9382, train_label_loss: 0.0000, \n"
     ]
    },
    {
     "name": "stdout",
     "output_type": "stream",
     "text": [
      "epoch: 2, [batch: 1889 / 6296], examples_per_second: 1874.8598, train_label_loss: 0.0003, \n"
     ]
    },
    {
     "name": "stdout",
     "output_type": "stream",
     "text": [
      "epoch: 2, [batch: 2519 / 6296], examples_per_second: 1865.9503, train_label_loss: 0.0003, \n"
     ]
    },
    {
     "name": "stdout",
     "output_type": "stream",
     "text": [
      "epoch: 2, [batch: 3148 / 6296], examples_per_second: 1869.8849, train_label_loss: 0.0017, \n"
     ]
    },
    {
     "name": "stdout",
     "output_type": "stream",
     "text": [
      "epoch: 2, [batch: 3778 / 6296], examples_per_second: 1871.0859, train_label_loss: 0.0000, \n"
     ]
    },
    {
     "name": "stdout",
     "output_type": "stream",
     "text": [
      "epoch: 2, [batch: 4407 / 6296], examples_per_second: 2239.0832, train_label_loss: 0.0000, \n"
     ]
    },
    {
     "name": "stdout",
     "output_type": "stream",
     "text": [
      "epoch: 2, [batch: 5037 / 6296], examples_per_second: 2375.6481, train_label_loss: 0.0000, \n"
     ]
    },
    {
     "name": "stdout",
     "output_type": "stream",
     "text": [
      "epoch: 2, [batch: 5666 / 6296], examples_per_second: 1869.8494, train_label_loss: 0.0000, \n"
     ]
    },
    {
     "name": "stdout",
     "output_type": "stream",
     "text": [
      "=============================================================\n",
      "epoch: 2, source_val_acc_label: 0.9994, target_val_acc_label: 0.2851, source_val_label_loss: 0.0057, target_val_label_loss: 2.4586, \n",
      "=============================================================\n"
     ]
    },
    {
     "name": "stdout",
     "output_type": "stream",
     "text": [
      "epoch: 3, [batch: 1 / 6299], examples_per_second: 2.8221, train_label_loss: 0.0000, \n"
     ]
    },
    {
     "name": "stdout",
     "output_type": "stream",
     "text": [
      "epoch: 3, [batch: 630 / 6299], examples_per_second: 1870.8391, train_label_loss: 0.0007, \n"
     ]
    },
    {
     "name": "stdout",
     "output_type": "stream",
     "text": [
      "epoch: 3, [batch: 1260 / 6299], examples_per_second: 1870.0341, train_label_loss: 0.0000, \n"
     ]
    },
    {
     "name": "stdout",
     "output_type": "stream",
     "text": [
      "epoch: 3, [batch: 1890 / 6299], examples_per_second: 1875.5964, train_label_loss: 0.0000, \n"
     ]
    },
    {
     "name": "stdout",
     "output_type": "stream",
     "text": [
      "epoch: 3, [batch: 2520 / 6299], examples_per_second: 1868.7707, train_label_loss: 0.0000, \n"
     ]
    },
    {
     "name": "stdout",
     "output_type": "stream",
     "text": [
      "epoch: 3, [batch: 3150 / 6299], examples_per_second: 1872.8175, train_label_loss: 0.0002, \n"
     ]
    },
    {
     "name": "stdout",
     "output_type": "stream",
     "text": [
      "epoch: 3, [batch: 3779 / 6299], examples_per_second: 1871.6665, train_label_loss: 0.0000, \n"
     ]
    },
    {
     "name": "stdout",
     "output_type": "stream",
     "text": [
      "epoch: 3, [batch: 4409 / 6299], examples_per_second: 2188.9535, train_label_loss: 0.0004, \n"
     ]
    },
    {
     "name": "stdout",
     "output_type": "stream",
     "text": [
      "epoch: 3, [batch: 5039 / 6299], examples_per_second: 2395.1955, train_label_loss: 0.0000, \n"
     ]
    },
    {
     "name": "stdout",
     "output_type": "stream",
     "text": [
      "epoch: 3, [batch: 5669 / 6299], examples_per_second: 1871.5616, train_label_loss: 0.0094, \n"
     ]
    },
    {
     "name": "stdout",
     "output_type": "stream",
     "text": [
      "=============================================================\n",
      "epoch: 3, source_val_acc_label: 0.9994, target_val_acc_label: 0.3007, source_val_label_loss: 0.0056, target_val_label_loss: 2.3085, \n",
      "=============================================================\n"
     ]
    },
    {
     "name": "stdout",
     "output_type": "stream",
     "text": [
      "epoch: 4, [batch: 1 / 6316], examples_per_second: 2.8308, train_label_loss: 0.0000, \n"
     ]
    },
    {
     "name": "stdout",
     "output_type": "stream",
     "text": [
      "epoch: 4, [batch: 632 / 6316], examples_per_second: 1870.6479, train_label_loss: 0.0022, \n"
     ]
    },
    {
     "name": "stdout",
     "output_type": "stream",
     "text": [
      "epoch: 4, [batch: 1264 / 6316], examples_per_second: 1873.7629, train_label_loss: 0.0000, \n"
     ]
    },
    {
     "name": "stdout",
     "output_type": "stream",
     "text": [
      "epoch: 4, [batch: 1895 / 6316], examples_per_second: 1875.1809, train_label_loss: 0.0002, \n"
     ]
    },
    {
     "name": "stdout",
     "output_type": "stream",
     "text": [
      "epoch: 4, [batch: 2527 / 6316], examples_per_second: 1867.7164, train_label_loss: 0.0000, \n"
     ]
    },
    {
     "name": "stdout",
     "output_type": "stream",
     "text": [
      "epoch: 4, [batch: 3158 / 6316], examples_per_second: 1871.6043, train_label_loss: 0.0000, \n"
     ]
    },
    {
     "name": "stdout",
     "output_type": "stream",
     "text": [
      "epoch: 4, [batch: 3790 / 6316], examples_per_second: 1872.3619, train_label_loss: 0.0000, \n"
     ]
    },
    {
     "name": "stdout",
     "output_type": "stream",
     "text": [
      "epoch: 4, [batch: 4421 / 6316], examples_per_second: 2212.2825, train_label_loss: 0.0000, \n"
     ]
    },
    {
     "name": "stdout",
     "output_type": "stream",
     "text": [
      "epoch: 4, [batch: 5053 / 6316], examples_per_second: 2389.9694, train_label_loss: 0.0000, \n"
     ]
    },
    {
     "name": "stdout",
     "output_type": "stream",
     "text": [
      "epoch: 4, [batch: 5684 / 6316], examples_per_second: 1871.0503, train_label_loss: 0.0001, \n"
     ]
    },
    {
     "name": "stdout",
     "output_type": "stream",
     "text": [
      "=============================================================\n",
      "epoch: 4, source_val_acc_label: 0.9985, target_val_acc_label: 0.3335, source_val_label_loss: 0.0091, target_val_label_loss: 2.0777, \n",
      "=============================================================\n"
     ]
    },
    {
     "name": "stdout",
     "output_type": "stream",
     "text": [
      "New best\n"
     ]
    },
    {
     "name": "stdout",
     "output_type": "stream",
     "text": [
      "epoch: 5, [batch: 1 / 6313], examples_per_second: 2.8472, train_label_loss: 0.0000, \n"
     ]
    },
    {
     "name": "stdout",
     "output_type": "stream",
     "text": [
      "epoch: 5, [batch: 632 / 6313], examples_per_second: 1868.6561, train_label_loss: 0.0000, \n"
     ]
    },
    {
     "name": "stdout",
     "output_type": "stream",
     "text": [
      "epoch: 5, [batch: 1263 / 6313], examples_per_second: 1872.0254, train_label_loss: 0.0000, \n"
     ]
    },
    {
     "name": "stdout",
     "output_type": "stream",
     "text": [
      "epoch: 5, [batch: 1894 / 6313], examples_per_second: 1875.3343, train_label_loss: 0.0000, \n"
     ]
    },
    {
     "name": "stdout",
     "output_type": "stream",
     "text": [
      "epoch: 5, [batch: 2525 / 6313], examples_per_second: 1866.9352, train_label_loss: 0.0000, \n"
     ]
    },
    {
     "name": "stdout",
     "output_type": "stream",
     "text": [
      "epoch: 5, [batch: 3157 / 6313], examples_per_second: 1870.6269, train_label_loss: 0.0000, \n"
     ]
    },
    {
     "name": "stdout",
     "output_type": "stream",
     "text": [
      "epoch: 5, [batch: 3788 / 6313], examples_per_second: 1870.7167, train_label_loss: 0.0000, \n"
     ]
    },
    {
     "name": "stdout",
     "output_type": "stream",
     "text": [
      "epoch: 5, [batch: 4419 / 6313], examples_per_second: 2153.0281, train_label_loss: 0.0000, \n"
     ]
    },
    {
     "name": "stdout",
     "output_type": "stream",
     "text": [
      "epoch: 5, [batch: 5050 / 6313], examples_per_second: 2411.9233, train_label_loss: 0.0000, \n"
     ]
    },
    {
     "name": "stdout",
     "output_type": "stream",
     "text": [
      "epoch: 5, [batch: 5681 / 6313], examples_per_second: 1871.6472, train_label_loss: 0.0000, \n"
     ]
    },
    {
     "name": "stdout",
     "output_type": "stream",
     "text": [
      "=============================================================\n",
      "epoch: 5, source_val_acc_label: 0.9996, target_val_acc_label: 0.2859, source_val_label_loss: 0.0057, target_val_label_loss: 2.8614, \n",
      "=============================================================\n"
     ]
    },
    {
     "name": "stdout",
     "output_type": "stream",
     "text": [
      "epoch: 6, [batch: 1 / 6307], examples_per_second: 2.8339, train_label_loss: 0.0000, \n"
     ]
    },
    {
     "name": "stdout",
     "output_type": "stream",
     "text": [
      "epoch: 6, [batch: 631 / 6307], examples_per_second: 1869.3800, train_label_loss: 0.0000, \n"
     ]
    },
    {
     "name": "stdout",
     "output_type": "stream",
     "text": [
      "epoch: 6, [batch: 1262 / 6307], examples_per_second: 1870.4283, train_label_loss: 0.0000, \n"
     ]
    },
    {
     "name": "stdout",
     "output_type": "stream",
     "text": [
      "epoch: 6, [batch: 1892 / 6307], examples_per_second: 1869.8581, train_label_loss: 0.0000, \n"
     ]
    },
    {
     "name": "stdout",
     "output_type": "stream",
     "text": [
      "epoch: 6, [batch: 2523 / 6307], examples_per_second: 1870.3934, train_label_loss: 0.0000, \n"
     ]
    },
    {
     "name": "stdout",
     "output_type": "stream",
     "text": [
      "epoch: 6, [batch: 3154 / 6307], examples_per_second: 1869.8735, train_label_loss: 0.0000, \n"
     ]
    },
    {
     "name": "stdout",
     "output_type": "stream",
     "text": [
      "epoch: 6, [batch: 3784 / 6307], examples_per_second: 1870.7453, train_label_loss: 0.0000, \n"
     ]
    },
    {
     "name": "stdout",
     "output_type": "stream",
     "text": [
      "epoch: 6, [batch: 4415 / 6307], examples_per_second: 2130.4955, train_label_loss: 0.0000, \n"
     ]
    },
    {
     "name": "stdout",
     "output_type": "stream",
     "text": [
      "epoch: 6, [batch: 5045 / 6307], examples_per_second: 2415.7642, train_label_loss: 0.0000, \n"
     ]
    },
    {
     "name": "stdout",
     "output_type": "stream",
     "text": [
      "epoch: 6, [batch: 5676 / 6307], examples_per_second: 1872.8551, train_label_loss: 0.0000, \n"
     ]
    },
    {
     "name": "stdout",
     "output_type": "stream",
     "text": [
      "=============================================================\n",
      "epoch: 6, source_val_acc_label: 0.9995, target_val_acc_label: 0.3220, source_val_label_loss: 0.0046, target_val_label_loss: 2.6213, \n",
      "=============================================================\n"
     ]
    },
    {
     "name": "stdout",
     "output_type": "stream",
     "text": [
      "epoch: 7, [batch: 1 / 6303], examples_per_second: 2.8393, train_label_loss: 0.0000, \n"
     ]
    },
    {
     "name": "stdout",
     "output_type": "stream",
     "text": [
      "epoch: 7, [batch: 631 / 6303], examples_per_second: 1869.8670, train_label_loss: 0.0000, \n"
     ]
    },
    {
     "name": "stdout",
     "output_type": "stream",
     "text": [
      "epoch: 7, [batch: 1261 / 6303], examples_per_second: 1872.9428, train_label_loss: 0.0000, \n"
     ]
    },
    {
     "name": "stdout",
     "output_type": "stream",
     "text": [
      "epoch: 7, [batch: 1891 / 6303], examples_per_second: 1870.5866, train_label_loss: 0.0000, \n"
     ]
    },
    {
     "name": "stdout",
     "output_type": "stream",
     "text": [
      "epoch: 7, [batch: 2521 / 6303], examples_per_second: 1871.9272, train_label_loss: 0.0000, \n"
     ]
    },
    {
     "name": "stdout",
     "output_type": "stream",
     "text": [
      "epoch: 7, [batch: 3152 / 6303], examples_per_second: 1872.1829, train_label_loss: 0.0000, \n"
     ]
    },
    {
     "name": "stdout",
     "output_type": "stream",
     "text": [
      "epoch: 7, [batch: 3782 / 6303], examples_per_second: 1871.5047, train_label_loss: 0.0004, \n"
     ]
    },
    {
     "name": "stdout",
     "output_type": "stream",
     "text": [
      "epoch: 7, [batch: 4412 / 6303], examples_per_second: 2096.8343, train_label_loss: 0.0000, \n"
     ]
    },
    {
     "name": "stdout",
     "output_type": "stream",
     "text": [
      "epoch: 7, [batch: 5042 / 6303], examples_per_second: 2347.3368, train_label_loss: 0.0000, \n"
     ]
    },
    {
     "name": "stdout",
     "output_type": "stream",
     "text": [
      "epoch: 7, [batch: 5672 / 6303], examples_per_second: 2350.6243, train_label_loss: 0.0003, \n"
     ]
    },
    {
     "name": "stdout",
     "output_type": "stream",
     "text": [
      "=============================================================\n",
      "epoch: 7, source_val_acc_label: 0.9973, target_val_acc_label: 0.3498, source_val_label_loss: 0.0182, target_val_label_loss: 2.5028, \n",
      "=============================================================\n"
     ]
    },
    {
     "name": "stdout",
     "output_type": "stream",
     "text": [
      "New best\n"
     ]
    },
    {
     "name": "stdout",
     "output_type": "stream",
     "text": [
      "epoch: 8, [batch: 1 / 6292], examples_per_second: 3.4908, train_label_loss: 0.0003, \n"
     ]
    },
    {
     "name": "stdout",
     "output_type": "stream",
     "text": [
      "epoch: 8, [batch: 630 / 6292], examples_per_second: 2416.5415, train_label_loss: 0.0000, \n"
     ]
    },
    {
     "name": "stdout",
     "output_type": "stream",
     "text": [
      "epoch: 8, [batch: 1259 / 6292], examples_per_second: 3541.6755, train_label_loss: 0.0000, \n"
     ]
    },
    {
     "name": "stdout",
     "output_type": "stream",
     "text": [
      "epoch: 8, [batch: 1888 / 6292], examples_per_second: 3511.3445, train_label_loss: 0.0000, \n"
     ]
    },
    {
     "name": "stdout",
     "output_type": "stream",
     "text": [
      "epoch: 8, [batch: 2517 / 6292], examples_per_second: 3599.1296, train_label_loss: 0.0000, \n"
     ]
    },
    {
     "name": "stdout",
     "output_type": "stream",
     "text": [
      "epoch: 8, [batch: 3146 / 6292], examples_per_second: 3608.3388, train_label_loss: 0.0000, \n"
     ]
    },
    {
     "name": "stdout",
     "output_type": "stream",
     "text": [
      "epoch: 8, [batch: 3775 / 6292], examples_per_second: 3593.4608, train_label_loss: 0.0000, \n"
     ]
    },
    {
     "name": "stdout",
     "output_type": "stream",
     "text": [
      "epoch: 8, [batch: 4404 / 6292], examples_per_second: 2621.3607, train_label_loss: 0.0000, \n"
     ]
    },
    {
     "name": "stdout",
     "output_type": "stream",
     "text": [
      "epoch: 8, [batch: 5033 / 6292], examples_per_second: 1866.3733, train_label_loss: 0.0000, \n"
     ]
    },
    {
     "name": "stdout",
     "output_type": "stream",
     "text": [
      "epoch: 8, [batch: 5662 / 6292], examples_per_second: 1864.9899, train_label_loss: 0.0000, \n"
     ]
    },
    {
     "name": "stdout",
     "output_type": "stream",
     "text": [
      "=============================================================\n",
      "epoch: 8, source_val_acc_label: 0.9997, target_val_acc_label: 0.3367, source_val_label_loss: 0.0056, target_val_label_loss: 2.6188, \n",
      "=============================================================\n"
     ]
    },
    {
     "name": "stdout",
     "output_type": "stream",
     "text": [
      "epoch: 9, [batch: 1 / 6305], examples_per_second: 2.8268, train_label_loss: 0.0000, \n"
     ]
    },
    {
     "name": "stdout",
     "output_type": "stream",
     "text": [
      "epoch: 9, [batch: 631 / 6305], examples_per_second: 1864.1507, train_label_loss: 0.0000, \n"
     ]
    },
    {
     "name": "stdout",
     "output_type": "stream",
     "text": [
      "epoch: 9, [batch: 1261 / 6305], examples_per_second: 1868.8901, train_label_loss: 0.0000, \n"
     ]
    },
    {
     "name": "stdout",
     "output_type": "stream",
     "text": [
      "epoch: 9, [batch: 1892 / 6305], examples_per_second: 1863.8012, train_label_loss: 0.0000, \n"
     ]
    },
    {
     "name": "stdout",
     "output_type": "stream",
     "text": [
      "epoch: 9, [batch: 2522 / 6305], examples_per_second: 1861.0681, train_label_loss: 0.0000, \n"
     ]
    },
    {
     "name": "stdout",
     "output_type": "stream",
     "text": [
      "epoch: 9, [batch: 3153 / 6305], examples_per_second: 1865.5326, train_label_loss: 0.0000, \n"
     ]
    },
    {
     "name": "stdout",
     "output_type": "stream",
     "text": [
      "epoch: 9, [batch: 3783 / 6305], examples_per_second: 2240.1148, train_label_loss: 0.0001, \n"
     ]
    },
    {
     "name": "stdout",
     "output_type": "stream",
     "text": [
      "epoch: 9, [batch: 4413 / 6305], examples_per_second: 2341.7894, train_label_loss: 0.0000, \n"
     ]
    },
    {
     "name": "stdout",
     "output_type": "stream",
     "text": [
      "epoch: 9, [batch: 5044 / 6305], examples_per_second: 1866.2428, train_label_loss: 0.0000, \n"
     ]
    },
    {
     "name": "stdout",
     "output_type": "stream",
     "text": [
      "epoch: 9, [batch: 5674 / 6305], examples_per_second: 1867.4139, train_label_loss: 0.0000, \n"
     ]
    },
    {
     "name": "stdout",
     "output_type": "stream",
     "text": [
      "=============================================================\n",
      "epoch: 9, source_val_acc_label: 0.9996, target_val_acc_label: 0.2805, source_val_label_loss: 0.0070, target_val_label_loss: 3.7647, \n",
      "=============================================================\n"
     ]
    },
    {
     "name": "stdout",
     "output_type": "stream",
     "text": [
      "epoch: 10, [batch: 1 / 6298], examples_per_second: 2.8355, train_label_loss: 0.0000, \n"
     ]
    },
    {
     "name": "stdout",
     "output_type": "stream",
     "text": [
      "epoch: 10, [batch: 630 / 6298], examples_per_second: 1866.7035, train_label_loss: 0.0000, \n"
     ]
    },
    {
     "name": "stdout",
     "output_type": "stream",
     "text": [
      "epoch: 10, [batch: 1260 / 6298], examples_per_second: 1871.0682, train_label_loss: 0.0000, \n"
     ]
    },
    {
     "name": "stdout",
     "output_type": "stream",
     "text": [
      "epoch: 10, [batch: 1890 / 6298], examples_per_second: 1868.5630, train_label_loss: 0.0000, \n"
     ]
    },
    {
     "name": "stdout",
     "output_type": "stream",
     "text": [
      "epoch: 10, [batch: 2519 / 6298], examples_per_second: 1864.5443, train_label_loss: 0.0000, \n"
     ]
    },
    {
     "name": "stdout",
     "output_type": "stream",
     "text": [
      "epoch: 10, [batch: 3149 / 6298], examples_per_second: 1867.5520, train_label_loss: 0.0000, \n"
     ]
    },
    {
     "name": "stdout",
     "output_type": "stream",
     "text": [
      "epoch: 10, [batch: 3779 / 6298], examples_per_second: 2214.6943, train_label_loss: 0.0000, \n"
     ]
    },
    {
     "name": "stdout",
     "output_type": "stream",
     "text": [
      "epoch: 10, [batch: 4408 / 6298], examples_per_second: 2365.4415, train_label_loss: 0.0000, \n"
     ]
    },
    {
     "name": "stdout",
     "output_type": "stream",
     "text": [
      "epoch: 10, [batch: 5038 / 6298], examples_per_second: 1866.0631, train_label_loss: 0.0000, \n"
     ]
    },
    {
     "name": "stdout",
     "output_type": "stream",
     "text": [
      "epoch: 10, [batch: 5668 / 6298], examples_per_second: 1867.8307, train_label_loss: 0.0000, \n"
     ]
    },
    {
     "name": "stdout",
     "output_type": "stream",
     "text": [
      "=============================================================\n",
      "epoch: 10, source_val_acc_label: 0.9997, target_val_acc_label: 0.3161, source_val_label_loss: 0.0076, target_val_label_loss: 3.1483, \n",
      "=============================================================\n"
     ]
    },
    {
     "name": "stdout",
     "output_type": "stream",
     "text": [
      "epoch: 11, [batch: 1 / 6323], examples_per_second: 2.8178, train_label_loss: 0.0000, \n"
     ]
    },
    {
     "name": "stdout",
     "output_type": "stream",
     "text": [
      "epoch: 11, [batch: 633 / 6323], examples_per_second: 1867.0447, train_label_loss: 0.0000, \n"
     ]
    },
    {
     "name": "stdout",
     "output_type": "stream",
     "text": [
      "epoch: 11, [batch: 1265 / 6323], examples_per_second: 1868.7245, train_label_loss: 0.0000, \n"
     ]
    },
    {
     "name": "stdout",
     "output_type": "stream",
     "text": [
      "epoch: 11, [batch: 1897 / 6323], examples_per_second: 1865.6371, train_label_loss: 0.0000, \n"
     ]
    },
    {
     "name": "stdout",
     "output_type": "stream",
     "text": [
      "epoch: 11, [batch: 2529 / 6323], examples_per_second: 1862.8620, train_label_loss: 0.0000, \n"
     ]
    },
    {
     "name": "stdout",
     "output_type": "stream",
     "text": [
      "epoch: 11, [batch: 3162 / 6323], examples_per_second: 1867.8770, train_label_loss: 0.0000, \n"
     ]
    },
    {
     "name": "stdout",
     "output_type": "stream",
     "text": [
      "epoch: 11, [batch: 3794 / 6323], examples_per_second: 2209.0377, train_label_loss: 0.0222, \n"
     ]
    },
    {
     "name": "stdout",
     "output_type": "stream",
     "text": [
      "epoch: 11, [batch: 4426 / 6323], examples_per_second: 2351.1239, train_label_loss: 0.0039, \n"
     ]
    },
    {
     "name": "stdout",
     "output_type": "stream",
     "text": [
      "epoch: 11, [batch: 5058 / 6323], examples_per_second: 1868.4677, train_label_loss: 0.0001, \n"
     ]
    },
    {
     "name": "stdout",
     "output_type": "stream",
     "text": [
      "epoch: 11, [batch: 5690 / 6323], examples_per_second: 1865.8998, train_label_loss: 0.0000, \n"
     ]
    },
    {
     "name": "stdout",
     "output_type": "stream",
     "text": [
      "=============================================================\n",
      "epoch: 11, source_val_acc_label: 0.9995, target_val_acc_label: 0.3268, source_val_label_loss: 0.0055, target_val_label_loss: 3.8489, \n",
      "=============================================================\n"
     ]
    },
    {
     "name": "stdout",
     "output_type": "stream",
     "text": [
      "Patience (3) exhausted\n"
     ]
    }
   ],
   "source": [
    "###################################\n",
    "# train\n",
    "###################################\n",
    "jig = PTN_Train_Eval_Test_Jig(model, p.BEST_MODEL_PATH, p.device)\n",
    "\n",
    "jig.train(\n",
    "    train_iterable=datasets.source.processed.train,\n",
    "    source_val_iterable=datasets.source.processed.val,\n",
    "    target_val_iterable=datasets.target.processed.val,\n",
    "    num_epochs=p.n_epoch,\n",
    "    num_logs_per_epoch=p.NUM_LOGS_PER_EPOCH,\n",
    "    patience=p.patience,\n",
    "    optimizer=optimizer,\n",
    "    criteria_for_best=p.criteria_for_best,\n",
    ")"
   ]
  },
  {
   "cell_type": "code",
   "execution_count": 23,
   "id": "31e8fabf",
   "metadata": {
    "execution": {
     "iopub.execute_input": "2022-03-25T19:24:59.508668Z",
     "iopub.status.busy": "2022-03-25T19:24:59.508401Z",
     "iopub.status.idle": "2022-03-25T19:24:59.527782Z",
     "shell.execute_reply": "2022-03-25T19:24:59.527310Z"
    },
    "papermill": {
     "duration": 0.06171,
     "end_time": "2022-03-25T19:24:59.527896",
     "exception": false,
     "start_time": "2022-03-25T19:24:59.466186",
     "status": "completed"
    },
    "tags": []
   },
   "outputs": [],
   "source": [
    "total_experiment_time_secs = time.time() - start_time_secs"
   ]
  },
  {
   "cell_type": "code",
   "execution_count": 24,
   "id": "87b9595b",
   "metadata": {
    "execution": {
     "iopub.execute_input": "2022-03-25T19:24:59.614478Z",
     "iopub.status.busy": "2022-03-25T19:24:59.614181Z",
     "iopub.status.idle": "2022-03-25T19:27:29.187499Z",
     "shell.execute_reply": "2022-03-25T19:27:29.187026Z"
    },
    "papermill": {
     "duration": 149.615034,
     "end_time": "2022-03-25T19:27:29.187610",
     "exception": false,
     "start_time": "2022-03-25T19:24:59.572576",
     "status": "completed"
    },
    "tags": []
   },
   "outputs": [],
   "source": [
    "###################################\n",
    "# Evaluate the model\n",
    "###################################\n",
    "source_test_label_accuracy, source_test_label_loss = jig.test(datasets.source.processed.test)\n",
    "target_test_label_accuracy, target_test_label_loss = jig.test(datasets.target.processed.test)\n",
    "\n",
    "source_val_label_accuracy, source_val_label_loss = jig.test(datasets.source.processed.val)\n",
    "target_val_label_accuracy, target_val_label_loss = jig.test(datasets.target.processed.val)\n",
    "\n",
    "history = jig.get_history()\n",
    "\n",
    "total_epochs_trained = len(history[\"epoch_indices\"])\n",
    "\n",
    "val_dl = Iterable_Aggregator((datasets.source.original.val,datasets.target.original.val))\n",
    "\n",
    "confusion = ptn_confusion_by_domain_over_dataloader(model, p.device, val_dl)\n",
    "per_domain_accuracy = per_domain_accuracy_from_confusion(confusion)\n",
    "\n",
    "# Add a key to per_domain_accuracy for if it was a source domain\n",
    "for domain, accuracy in per_domain_accuracy.items():\n",
    "    per_domain_accuracy[domain] = {\n",
    "        \"accuracy\": accuracy,\n",
    "        \"source?\": domain in p.domains_source\n",
    "    }\n",
    "\n",
    "# Do an independent accuracy assesment JUST TO BE SURE!\n",
    "# _source_test_label_accuracy = independent_accuracy_assesment(model, datasets.source.processed.test, p.device)\n",
    "# _target_test_label_accuracy = independent_accuracy_assesment(model, datasets.target.processed.test, p.device)\n",
    "# _source_val_label_accuracy = independent_accuracy_assesment(model, datasets.source.processed.val, p.device)\n",
    "# _target_val_label_accuracy = independent_accuracy_assesment(model, datasets.target.processed.val, p.device)\n",
    "\n",
    "# assert(_source_test_label_accuracy == source_test_label_accuracy)\n",
    "# assert(_target_test_label_accuracy == target_test_label_accuracy)\n",
    "# assert(_source_val_label_accuracy == source_val_label_accuracy)\n",
    "# assert(_target_val_label_accuracy == target_val_label_accuracy)\n",
    "\n",
    "experiment = {\n",
    "    \"experiment_name\": p.experiment_name,\n",
    "    \"parameters\": dict(p),\n",
    "    \"results\": {\n",
    "        \"source_test_label_accuracy\": source_test_label_accuracy,\n",
    "        \"source_test_label_loss\": source_test_label_loss,\n",
    "        \"target_test_label_accuracy\": target_test_label_accuracy,\n",
    "        \"target_test_label_loss\": target_test_label_loss,\n",
    "        \"source_val_label_accuracy\": source_val_label_accuracy,\n",
    "        \"source_val_label_loss\": source_val_label_loss,\n",
    "        \"target_val_label_accuracy\": target_val_label_accuracy,\n",
    "        \"target_val_label_loss\": target_val_label_loss,\n",
    "        \"total_epochs_trained\": total_epochs_trained,\n",
    "        \"total_experiment_time_secs\": total_experiment_time_secs,\n",
    "        \"confusion\": confusion,\n",
    "        \"per_domain_accuracy\": per_domain_accuracy,\n",
    "    },\n",
    "    \"history\": history,\n",
    "    \"dataset_metrics\": get_dataset_metrics(datasets, \"ptn\"),\n",
    "}"
   ]
  },
  {
   "cell_type": "code",
   "execution_count": 25,
   "id": "54a21829",
   "metadata": {
    "execution": {
     "iopub.execute_input": "2022-03-25T19:27:29.269223Z",
     "iopub.status.busy": "2022-03-25T19:27:29.268881Z",
     "iopub.status.idle": "2022-03-25T19:27:29.396982Z",
     "shell.execute_reply": "2022-03-25T19:27:29.397402Z"
    },
    "papermill": {
     "duration": 0.167598,
     "end_time": "2022-03-25T19:27:29.397535",
     "exception": false,
     "start_time": "2022-03-25T19:27:29.229937",
     "status": "completed"
    },
    "tags": []
   },
   "outputs": [
    {
     "data": {
      "image/png": "[encoded data removed]",
      "text/plain": [
       "<Figure size 1080x504 with 1 Axes>"
      ]
     },
     "metadata": {
      "needs_background": "light"
     },
     "output_type": "display_data"
    }
   ],
   "source": [
    "ax = get_loss_curve(experiment)\n",
    "plt.show()"
   ]
  },
  {
   "cell_type": "code",
   "execution_count": 26,
   "id": "fd8a0f60",
   "metadata": {
    "execution": {
     "iopub.execute_input": "2022-03-25T19:27:29.480661Z",
     "iopub.status.busy": "2022-03-25T19:27:29.480082Z",
     "iopub.status.idle": "2022-03-25T19:27:29.639627Z",
     "shell.execute_reply": "2022-03-25T19:27:29.639389Z"
    },
    "papermill": {
     "duration": 0.198271,
     "end_time": "2022-03-25T19:27:29.639690",
     "exception": false,
     "start_time": "2022-03-25T19:27:29.441419",
     "status": "completed"
    },
    "tags": []
   },
   "outputs": [
    {
     "data": {
      "text/plain": [
       "<AxesSubplot:title={'center':'Results'}>"
      ]
     },
     "execution_count": 26,
     "metadata": {},
     "output_type": "execute_result"
    },
    {
     "data": {
      "image/png": "[encoded data removed]",
      "text/plain": [
       "<Figure size 1080x504 with 1 Axes>"
      ]
     },
     "metadata": {
      "needs_background": "light"
     },
     "output_type": "display_data"
    }
   ],
   "source": [
    "get_results_table(experiment)"
   ]
  },
  {
   "cell_type": "code",
   "execution_count": 27,
   "id": "cf8dc689",
   "metadata": {
    "execution": {
     "iopub.execute_input": "2022-03-25T19:27:29.721598Z",
     "iopub.status.busy": "2022-03-25T19:27:29.721312Z",
     "iopub.status.idle": "2022-03-25T19:27:29.860798Z",
     "shell.execute_reply": "2022-03-25T19:27:29.861205Z"
    },
    "papermill": {
     "duration": 0.181679,
     "end_time": "2022-03-25T19:27:29.861325",
     "exception": false,
     "start_time": "2022-03-25T19:27:29.679646",
     "status": "completed"
    },
    "tags": []
   },
   "outputs": [
    {
     "data": {
      "text/plain": [
       "<AxesSubplot:title={'center':'Per Domain Validation Accuracy'}, xlabel='domain'>"
      ]
     },
     "execution_count": 27,
     "metadata": {},
     "output_type": "execute_result"
    },
    {
     "data": {
      "image/png": "[encoded data removed]",
      "text/plain": [
       "<Figure size 1080x504 with 1 Axes>"
      ]
     },
     "metadata": {
      "needs_background": "light"
     },
     "output_type": "display_data"
    }
   ],
   "source": [
    "get_domain_accuracies(experiment)"
   ]
  },
  {
   "cell_type": "code",
   "execution_count": 28,
   "id": "a74ae082",
   "metadata": {
    "execution": {
     "iopub.execute_input": "2022-03-25T19:27:29.949159Z",
     "iopub.status.busy": "2022-03-25T19:27:29.947821Z",
     "iopub.status.idle": "2022-03-25T19:27:29.965838Z",
     "shell.execute_reply": "2022-03-25T19:27:29.966051Z"
    },
    "papermill": {
     "duration": 0.058897,
     "end_time": "2022-03-25T19:27:29.966116",
     "exception": false,
     "start_time": "2022-03-25T19:27:29.907219",
     "status": "completed"
    },
    "tags": []
   },
   "outputs": [
    {
     "name": "stdout",
     "output_type": "stream",
     "text": [
      "Source Test Label Accuracy: 0.9968926553672316 Target Test Label Accuracy: 0.3483072916666667\n",
      "Source Val Label Accuracy: 0.9973214285714286 Target Val Label Accuracy: 0.3498046875\n"
     ]
    }
   ],
   "source": [
    "print(\"Source Test Label Accuracy:\", experiment[\"results\"][\"source_test_label_accuracy\"], \"Target Test Label Accuracy:\", experiment[\"results\"][\"target_test_label_accuracy\"])\n",
    "print(\"Source Val Label Accuracy:\", experiment[\"results\"][\"source_val_label_accuracy\"], \"Target Val Label Accuracy:\", experiment[\"results\"][\"target_val_label_accuracy\"])"
   ]
  },
  {
   "cell_type": "code",
   "execution_count": 29,
   "id": "dacca602",
   "metadata": {
    "execution": {
     "iopub.execute_input": "2022-03-25T19:27:30.048937Z",
     "iopub.status.busy": "2022-03-25T19:27:30.048682Z",
     "iopub.status.idle": "2022-03-25T19:27:30.067628Z",
     "shell.execute_reply": "2022-03-25T19:27:30.068035Z"
    },
    "papermill": {
     "duration": 0.061842,
     "end_time": "2022-03-25T19:27:30.068150",
     "exception": false,
     "start_time": "2022-03-25T19:27:30.006308",
     "status": "completed"
    },
    "tags": [
     "experiment_json"
    ]
   },
   "outputs": [
    {
     "data": {
      "text/plain": [
       "'{\"experiment_name\": \"tl_3-filterv2:cores -> oracle.run1.framed\", \"parameters\": {\"experiment_name\": \"tl_3-filterv2:cores -> oracle.run1.framed\", \"device\": \"cuda\", \"lr\": 0.0001, \"x_shape\": [2, 200], \"n_shot\": 3, \"n_query\": 2, \"train_k_factor\": 3, \"val_k_factor\": 2, \"test_k_factor\": 2, \"torch_default_dtype\": \"torch.float32\", \"n_epoch\": 50, \"patience\": 3, \"criteria_for_best\": \"target_accuracy\", \"x_net\": [{\"class\": \"nnReshape\", \"kargs\": {\"shape\": [-1, 1, 2, 200]}}, {\"class\": \"Conv2d\", \"kargs\": {\"in_channels\": 1, \"out_channels\": 256, \"kernel_size\": [1, 7], \"bias\": false, \"padding\": [0, 3]}}, {\"class\": \"ReLU\", \"kargs\": {\"inplace\": true}}, {\"class\": \"BatchNorm2d\", \"kargs\": {\"num_features\": 256}}, {\"class\": \"Conv2d\", \"kargs\": {\"in_channels\": 256, \"out_channels\": 80, \"kernel_size\": [2, 7], \"bias\": true, \"padding\": [0, 3]}}, {\"class\": \"ReLU\", \"kargs\": {\"inplace\": true}}, {\"class\": \"BatchNorm2d\", \"kargs\": {\"num_features\": 80}}, {\"class\": \"Flatten\", \"kargs\": {}}, {\"class\": \"Linear\", \"kargs\": {\"in_features\": 16000, \"out_features\": 256}}, {\"class\": \"ReLU\", \"kargs\": {\"inplace\": true}}, {\"class\": \"BatchNorm1d\", \"kargs\": {\"num_features\": 256}}, {\"class\": \"Linear\", \"kargs\": {\"in_features\": 256, \"out_features\": 256}}], \"NUM_LOGS_PER_EPOCH\": 10, \"BEST_MODEL_PATH\": \"./best_model.pth\", \"n_way\": 16, \"datasets\": [{\"labels\": [\"1-10.\", \"1-11.\", \"1-15.\", \"1-16.\", \"1-17.\", \"1-18.\", \"1-19.\", \"10-4.\", \"10-7.\", \"11-1.\", \"11-14.\", \"11-17.\", \"11-20.\", \"11-7.\", \"13-20.\", \"13-8.\", \"14-10.\", \"14-11.\", \"14-14.\", \"14-7.\", \"15-1.\", \"15-20.\", \"16-1.\", \"16-16.\", \"17-10.\", \"17-11.\", \"17-2.\", \"19-1.\", \"19-16.\", \"19-19.\", \"19-20.\", \"19-3.\", \"2-10.\", \"2-11.\", \"2-17.\", \"2-18.\", \"2-20.\", \"2-3.\", \"2-4.\", \"2-5.\", \"2-6.\", \"2-7.\", \"2-8.\", \"3-13.\", \"3-18.\", \"3-3.\", \"4-1.\", \"4-10.\", \"4-11.\", \"4-19.\", \"5-5.\", \"6-15.\", \"7-10.\", \"7-14.\", \"8-18.\", \"8-20.\", \"8-3.\", \"8-8.\"], \"domains\": [1, 2, 3, 4, 5], \"num_examples_per_domain_per_label\": -1, \"pickle_path\": \"/mnt/wd500GB/CSC500/csc500-main/datasets/cores.stratified_ds.2022A.pkl\", \"source_or_target_dataset\": \"source\", \"x_transforms\": [\"unit_mag\", \"lowpass_+/-10MHz\", \"take_200\"], \"episode_transforms\": [], \"domain_prefix\": \"C_\"}, {\"labels\": [\"3123D52\", \"3123D65\", \"3123D79\", \"3123D80\", \"3123D54\", \"3123D70\", \"3123D7B\", \"3123D89\", \"3123D58\", \"3123D76\", \"3123D7D\", \"3123EFE\", \"3123D64\", \"3123D78\", \"3123D7E\", \"3124E4A\"], \"domains\": [32, 38, 8, 44, 14, 50, 20, 26], \"num_examples_per_domain_per_label\": 2000, \"pickle_path\": \"/mnt/wd500GB/CSC500/csc500-main/datasets/oracle.Run1_framed_2000Examples_stratified_ds.2022A.pkl\", \"source_or_target_dataset\": \"target\", \"x_transforms\": [\"unit_mag\", \"take_200\", \"resample_20Msps_to_25Msps\"], \"episode_transforms\": [], \"domain_prefix\": \"O_\"}], \"seed\": 7, \"dataset_seed\": 7, \"domains_source\": [\"C_1\", \"C_2\", \"C_3\", \"C_4\", \"C_5\"], \"domains_target\": [\"O_32\", \"O_38\", \"O_8\", \"O_44\", \"O_14\", \"O_50\", \"O_20\", \"O_26\"]}, \"results\": {\"source_test_label_accuracy\": 0.9968926553672316, \"source_test_label_loss\": 0.02105857990682125, \"target_test_label_accuracy\": 0.3483072916666667, \"target_test_label_loss\": 2.500436782836914, \"source_val_label_accuracy\": 0.9973214285714286, \"source_val_label_loss\": 0.018205292522907257, \"target_val_label_accuracy\": 0.3498046875, \"target_val_label_loss\": 2.502837657928467, \"total_epochs_trained\": 11, \"total_experiment_time_secs\": 3163.0228350162506, \"confusion\": {\"C_5\": {\"26\": {\"26\": 24}, \"7\": {\"7\": 32}, \"56\": {\"56\": 142}, \"36\": {\"36\": 92}, \"47\": {\"47\": 100}, \"2\": {\"2\": 28}, \"15\": {\"15\": 145, \"11\": 4, \"3\": 3}, \"14\": {\"14\": 40, \"50\": 1, \"47\": 1, \"29\": 1, \"5\": 1}, \"27\": {\"27\": 146}, \"40\": {\"40\": 124}, \"49\": {\"49\": 36}, \"45\": {\"45\": 124}, \"46\": {\"46\": 136}, \"11\": {\"11\": 128, \"15\": 2}, \"30\": {\"30\": 112}, \"0\": {\"0\": 124}, \"10\": {\"10\": 68}, \"1\": {\"1\": 148}, \"42\": {\"42\": 38, \"3\": 1, \"5\": 1}, \"54\": {\"54\": 112}, \"55\": {\"55\": 152}, \"23\": {\"23\": 124}, \"25\": {\"25\": 152}, \"28\": {\"28\": 32}, \"32\": {\"32\": 32}, \"9\": {\"9\": 138, \"30\": 1, \"27\": 3}, \"39\": {\"39\": 20}, \"3\": {\"3\": 99, \"15\": 1}, \"29\": {\"29\": 117, \"44\": 1}, \"17\": {\"17\": 116}, \"35\": {\"35\": 36}, \"44\": {\"44\": 152}, \"5\": {\"5\": 128}, \"33\": {\"33\": 32}, \"34\": {\"34\": 36}, \"13\": {\"13\": 138}, \"41\": {\"41\": 28}, \"6\": {\"6\": 125, \"17\": 1, \"9\": 1, \"50\": 1}, \"51\": {\"51\": 138}, \"50\": {\"50\": 143, \"18\": 1}, \"37\": {\"37\": 24}, \"19\": {\"19\": 144}, \"57\": {\"57\": 132}, \"21\": {\"21\": 144}, \"24\": {\"24\": 80}, \"8\": {\"8\": 130}, \"12\": {\"12\": 96}, \"48\": {\"48\": 132}, \"43\": {\"43\": 150}, \"53\": {\"53\": 148}, \"38\": {\"38\": 32}, \"16\": {\"16\": 142}, \"22\": {\"22\": 28}, \"4\": {\"4\": 100}, \"18\": {\"18\": 64}, \"20\": {\"20\": 144}, \"52\": {\"52\": 140}, \"31\": {\"31\": 36}}, \"C_1\": {\"41\": {\"41\": 24}, \"40\": {\"40\": 110}, \"45\": {\"45\": 138}, \"51\": {\"51\": 148}, \"5\": {\"5\": 153, \"9\": 1}, \"30\": {\"30\": 120}, \"42\": {\"42\": 40}, \"46\": {\"46\": 136}, \"48\": {\"48\": 134}, \"53\": {\"53\": 144}, \"47\": {\"47\": 152}, \"49\": {\"49\": 32}, \"36\": {\"36\": 64}, \"32\": {\"32\": 32}, \"34\": {\"34\": 24}, \"29\": {\"29\": 138, \"56\": 2}, \"35\": {\"35\": 36}, \"3\": {\"3\": 134}, \"16\": {\"16\": 140}, \"26\": {\"26\": 24}, \"57\": {\"57\": 140, \"56\": 3, \"1\": 1}, \"44\": {\"44\": 128}, \"0\": {\"0\": 152}, \"4\": {\"4\": 132}, \"31\": {\"31\": 28}, \"11\": {\"11\": 140}, \"6\": {\"6\": 96}, \"54\": {\"54\": 104}, \"17\": {\"17\": 64}, \"20\": {\"20\": 128}, \"13\": {\"13\": 150}, \"33\": {\"33\": 32}, \"24\": {\"24\": 108}, \"52\": {\"52\": 132}, \"2\": {\"2\": 36}, \"19\": {\"19\": 156}, \"39\": {\"39\": 28}, \"8\": {\"8\": 140}, \"21\": {\"21\": 121, \"24\": 3}, \"10\": {\"10\": 95, \"11\": 1}, \"37\": {\"37\": 32}, \"25\": {\"25\": 144}, \"27\": {\"27\": 130}, \"23\": {\"23\": 136}, \"1\": {\"1\": 100}, \"50\": {\"50\": 152}, \"12\": {\"12\": 116}, \"18\": {\"18\": 72}, \"38\": {\"38\": 24}, \"14\": {\"14\": 24}, \"56\": {\"56\": 141, \"57\": 1}, \"55\": {\"55\": 160}, \"9\": {\"9\": 138}, \"15\": {\"15\": 146}, \"28\": {\"28\": 28}, \"7\": {\"7\": 28}, \"43\": {\"43\": 136}, \"22\": {\"22\": 136}}, \"C_3\": {\"1\": {\"1\": 100}, \"9\": {\"9\": 122, \"54\": 2}, \"22\": {\"22\": 136}, \"43\": {\"43\": 136}, \"49\": {\"49\": 20}, \"50\": {\"50\": 138}, \"53\": {\"53\": 136}, \"10\": {\"10\": 64}, \"48\": {\"48\": 116}, \"8\": {\"8\": 138}, \"31\": {\"31\": 28}, \"56\": {\"56\": 134}, \"25\": {\"25\": 142}, \"28\": {\"28\": 28}, \"38\": {\"38\": 28}, \"5\": {\"5\": 116}, \"12\": {\"12\": 91, \"6\": 1}, \"6\": {\"6\": 88}, \"19\": {\"19\": 152}, \"26\": {\"26\": 24}, \"32\": {\"32\": 28}, \"33\": {\"33\": 28}, \"3\": {\"3\": 118}, \"51\": {\"51\": 128}, \"16\": {\"16\": 138}, \"46\": {\"46\": 140}, \"7\": {\"7\": 36}, \"47\": {\"47\": 92}, \"39\": {\"39\": 16}, \"40\": {\"40\": 135, \"44\": 1}, \"14\": {\"14\": 40}, \"37\": {\"37\": 28}, \"2\": {\"2\": 32}, \"21\": {\"21\": 120}, \"35\": {\"35\": 28}, \"54\": {\"54\": 100}, \"52\": {\"52\": 116}, \"29\": {\"29\": 116, \"57\": 2}, \"20\": {\"20\": 132}, \"18\": {\"18\": 84}, \"11\": {\"11\": 142}, \"0\": {\"0\": 124}, \"36\": {\"36\": 100}, \"17\": {\"17\": 108}, \"30\": {\"30\": 114}, \"42\": {\"42\": 28}, \"45\": {\"45\": 60}, \"4\": {\"4\": 148}, \"23\": {\"23\": 134}, \"13\": {\"13\": 128}, \"15\": {\"15\": 124, \"11\": 2, \"26\": 2}, \"57\": {\"57\": 119, \"29\": 5}, \"27\": {\"27\": 134}, \"44\": {\"44\": 88}, \"34\": {\"34\": 32}, \"41\": {\"41\": 28}, \"24\": {\"24\": 104}, \"55\": {\"55\": 118}}, \"C_4\": {\"52\": {\"52\": 116}, \"6\": {\"6\": 112}, \"14\": {\"14\": 16}, \"49\": {\"49\": 20}, \"0\": {\"0\": 80}, \"46\": {\"46\": 156}, \"41\": {\"41\": 36}, \"24\": {\"24\": 56}, \"25\": {\"25\": 152}, \"40\": {\"40\": 137, \"4\": 1}, \"38\": {\"38\": 40}, \"13\": {\"13\": 152}, \"9\": {\"9\": 108}, \"45\": {\"45\": 96}, \"43\": {\"43\": 144}, \"10\": {\"10\": 130}, \"15\": {\"15\": 121, \"11\": 7}, \"39\": {\"39\": 20}, \"4\": {\"4\": 132}, \"53\": {\"53\": 132}, \"1\": {\"1\": 39, \"32\": 1}, \"28\": {\"28\": 32}, \"54\": {\"54\": 108}, \"21\": {\"21\": 132}, \"7\": {\"7\": 24}, \"8\": {\"8\": 136}, \"42\": {\"42\": 32}, \"11\": {\"11\": 101, \"15\": 3}, \"33\": {\"33\": 36}, \"27\": {\"27\": 142}, \"19\": {\"19\": 143, \"44\": 1}, \"2\": {\"2\": 36}, \"3\": {\"3\": 120}, \"57\": {\"57\": 100}, \"20\": {\"20\": 112}, \"23\": {\"23\": 128}, \"22\": {\"22\": 128}, \"29\": {\"29\": 123, \"57\": 1}, \"36\": {\"36\": 92}, \"51\": {\"51\": 132}, \"31\": {\"31\": 28}, \"12\": {\"12\": 92}, \"56\": {\"56\": 138}, \"5\": {\"5\": 106, \"16\": 2}, \"35\": {\"35\": 40}, \"17\": {\"17\": 80}, \"32\": {\"32\": 24}, \"47\": {\"47\": 120}, \"18\": {\"18\": 107, \"3\": 1}, \"26\": {\"26\": 24}, \"50\": {\"50\": 122}, \"55\": {\"55\": 124}, \"34\": {\"34\": 24}, \"30\": {\"30\": 44}, \"37\": {\"37\": 24}, \"44\": {\"44\": 131, \"4\": 1}, \"48\": {\"48\": 118}, \"16\": {\"16\": 96}}, \"C_2\": {\"11\": {\"11\": 130}, \"21\": {\"21\": 120}, \"19\": {\"19\": 140}, \"20\": {\"20\": 128}, \"9\": {\"9\": 140}, \"10\": {\"10\": 112}, \"37\": {\"37\": 36}, \"32\": {\"32\": 28}, \"3\": {\"3\": 92}, \"39\": {\"39\": 28}, \"45\": {\"45\": 128}, \"50\": {\"50\": 136}, \"40\": {\"40\": 140}, \"46\": {\"46\": 128}, \"12\": {\"12\": 92}, \"13\": {\"13\": 116}, \"47\": {\"15\": 2, \"47\": 130}, \"15\": {\"15\": 142}, \"54\": {\"54\": 108}, \"48\": {\"48\": 148}, \"23\": {\"23\": 142}, \"29\": {\"29\": 128}, \"38\": {\"38\": 20}, \"53\": {\"53\": 136}, \"27\": {\"27\": 150}, \"43\": {\"43\": 144}, \"35\": {\"35\": 32}, \"0\": {\"0\": 48}, \"52\": {\"52\": 124}, \"8\": {\"8\": 128}, \"24\": {\"24\": 96}, \"18\": {\"18\": 48}, \"25\": {\"25\": 148}, \"57\": {\"57\": 136}, \"55\": {\"55\": 134}, \"36\": {\"36\": 116}, \"17\": {\"17\": 104}, \"2\": {\"2\": 32}, \"34\": {\"34\": 28}, \"1\": {\"1\": 111, \"42\": 1}, \"51\": {\"51\": 136}, \"31\": {\"31\": 28}, \"49\": {\"49\": 24}, \"14\": {\"14\": 24}, \"33\": {\"33\": 28}, \"41\": {\"41\": 20}, \"28\": {\"28\": 28}, \"5\": {\"5\": 120}, \"16\": {\"16\": 150}, \"4\": {\"4\": 128}, \"22\": {\"22\": 135, \"56\": 1}, \"6\": {\"6\": 117, \"15\": 1}, \"30\": {\"30\": 124}, \"26\": {\"26\": 24}, \"56\": {\"56\": 142}, \"42\": {\"42\": 36}, \"44\": {\"44\": 100}, \"7\": {\"7\": 36}}, \"O_26\": {\"0\": {\"10\": 30, \"6\": 14, \"13\": 2, \"7\": 16, \"9\": 20, \"0\": 34, \"14\": 32, \"8\": 22, \"15\": 13, \"4\": 25, \"1\": 16, \"3\": 7, \"2\": 5, \"5\": 2, \"12\": 2}, \"4\": {\"8\": 20, \"4\": 29, \"10\": 26, \"13\": 2, \"1\": 32, \"7\": 12, \"3\": 14, \"14\": 41, \"6\": 9, \"0\": 34, \"2\": 3, \"5\": 1, \"9\": 9, \"12\": 1, \"15\": 7}, \"14\": {\"4\": 43, \"10\": 23, \"8\": 17, \"13\": 3, \"1\": 35, \"0\": 29, \"7\": 19, \"14\": 30, \"15\": 4, \"9\": 12, \"2\": 4, \"5\": 2, \"6\": 5, \"3\": 13, \"12\": 1}, \"12\": {\"12\": 166, \"4\": 3, \"0\": 7, \"11\": 20, \"6\": 23, \"1\": 2, \"10\": 6, \"13\": 1, \"15\": 4, \"14\": 3, \"8\": 2, \"5\": 1, \"9\": 2}, \"8\": {\"2\": 8, \"4\": 16, \"6\": 14, \"8\": 31, \"1\": 8, \"3\": 20, \"7\": 21, \"15\": 29, \"10\": 16, \"9\": 26, \"14\": 18, \"0\": 16, \"5\": 11, \"13\": 5, \"12\": 1}, \"7\": {\"0\": 22, \"8\": 23, \"3\": 34, \"7\": 29, \"1\": 15, \"6\": 11, \"14\": 14, \"9\": 16, \"15\": 22, \"5\": 8, \"2\": 19, \"10\": 10, \"4\": 16, \"13\": 1}, \"13\": {\"5\": 49, \"9\": 13, \"15\": 23, \"3\": 4, \"13\": 93, \"6\": 10, \"2\": 24, \"0\": 3, \"7\": 2, \"8\": 6, \"10\": 2, \"11\": 8, \"12\": 2, \"4\": 1}, \"5\": {\"13\": 60, \"5\": 54, \"4\": 3, \"2\": 33, \"8\": 11, \"11\": 3, \"9\": 19, \"15\": 12, \"3\": 22, \"7\": 7, \"6\": 7, \"14\": 4, \"1\": 3, \"12\": 1, \"10\": 1}, \"15\": {\"8\": 19, \"9\": 21, \"3\": 13, \"15\": 32, \"6\": 25, \"7\": 14, \"13\": 38, \"10\": 9, \"4\": 11, \"5\": 24, \"14\": 4, \"2\": 18, \"0\": 6, \"1\": 3, \"11\": 2, \"12\": 1}, \"10\": {\"6\": 23, \"14\": 27, \"13\": 1, \"8\": 23, \"1\": 20, \"7\": 14, \"4\": 28, \"9\": 11, \"3\": 9, \"10\": 39, \"0\": 21, \"2\": 5, \"15\": 18, \"12\": 1}, \"3\": {\"15\": 13, \"8\": 17, \"10\": 9, \"7\": 27, \"5\": 19, \"3\": 55, \"2\": 37, \"14\": 9, \"6\": 2, \"0\": 4, \"9\": 14, \"13\": 5, \"1\": 17, \"4\": 12}, \"9\": {\"8\": 16, \"6\": 30, \"3\": 14, \"2\": 19, \"0\": 8, \"7\": 9, \"5\": 26, \"13\": 19, \"10\": 14, \"12\": 4, \"9\": 40, \"15\": 19, \"1\": 6, \"4\": 8, \"14\": 8}, \"6\": {\"6\": 40, \"15\": 30, \"9\": 25, \"7\": 10, \"0\": 18, \"8\": 20, \"2\": 6, \"10\": 22, \"14\": 15, \"4\": 8, \"1\": 6, \"12\": 13, \"5\": 11, \"13\": 15, \"3\": 1}, \"1\": {\"0\": 19, \"3\": 10, \"10\": 28, \"14\": 41, \"1\": 62, \"5\": 3, \"4\": 34, \"6\": 4, \"2\": 4, \"9\": 6, \"8\": 12, \"7\": 12, \"13\": 1, \"15\": 4}, \"11\": {\"11\": 197, \"13\": 13, \"8\": 1, \"12\": 14, \"5\": 4, \"10\": 1, \"6\": 3, \"9\": 1, \"15\": 4, \"14\": 1, \"3\": 1}, \"2\": {\"14\": 5, \"2\": 42, \"6\": 7, \"7\": 23, \"0\": 4, \"3\": 33, \"13\": 26, \"9\": 15, \"8\": 15, \"5\": 40, \"15\": 18, \"4\": 3, \"1\": 5, \"10\": 4}}, \"O_44\": {\"1\": {\"12\": 60, \"3\": 66, \"1\": 56, \"10\": 31, \"7\": 7, \"2\": 14, \"4\": 1, \"9\": 5}, \"11\": {\"6\": 28, \"11\": 162, \"13\": 34, \"7\": 7, \"9\": 7, \"4\": 2}, \"3\": {\"3\": 136, \"12\": 29, \"1\": 48, \"10\": 8, \"9\": 4, \"2\": 4, \"7\": 7, \"15\": 2, \"14\": 1, \"4\": 1}, \"6\": {\"7\": 18, \"6\": 101, \"13\": 58, \"11\": 15, \"9\": 37, \"2\": 8, \"4\": 2, \"10\": 1}, \"7\": {\"9\": 55, \"14\": 1, \"11\": 3, \"1\": 14, \"10\": 15, \"7\": 55, \"6\": 22, \"2\": 43, \"4\": 3, \"3\": 10, \"13\": 15, \"12\": 4}, \"5\": {\"4\": 20, \"5\": 89, \"15\": 18, \"14\": 36, \"8\": 26, \"0\": 51}, \"2\": {\"10\": 41, \"7\": 59, \"11\": 1, \"2\": 58, \"9\": 26, \"6\": 20, \"13\": 3, \"3\": 7, \"1\": 16, \"12\": 9}, \"15\": {\"14\": 39, \"15\": 76, \"4\": 14, \"5\": 26, \"0\": 50, \"8\": 35}, \"10\": {\"7\": 19, \"3\": 11, \"12\": 30, \"2\": 54, \"9\": 9, \"10\": 86, \"1\": 28, \"6\": 3}, \"13\": {\"7\": 19, \"13\": 83, \"11\": 26, \"6\": 66, \"9\": 31, \"4\": 9, \"2\": 3, \"10\": 2, \"14\": 1}, \"8\": {\"15\": 44, \"0\": 72, \"5\": 10, \"8\": 109, \"14\": 5}, \"4\": {\"14\": 65, \"4\": 107, \"5\": 22, \"13\": 11, \"12\": 1, \"9\": 13, \"15\": 14, \"0\": 1, \"7\": 3, \"11\": 1, \"6\": 2}, \"9\": {\"9\": 60, \"13\": 31, \"7\": 58, \"4\": 14, \"1\": 6, \"2\": 27, \"3\": 4, \"6\": 20, \"10\": 10, \"11\": 9, \"12\": 1}, \"14\": {\"4\": 61, \"15\": 31, \"5\": 37, \"14\": 81, \"13\": 4, \"0\": 15, \"8\": 5, \"6\": 1, \"9\": 1, \"7\": 3, \"11\": 1}, \"0\": {\"4\": 3, \"15\": 47, \"5\": 29, \"0\": 79, \"14\": 20, \"8\": 62}, \"12\": {\"12\": 99, \"1\": 61, \"10\": 26, \"3\": 41, \"2\": 9, \"7\": 3, \"9\": 1}}, \"O_50\": {\"15\": {\"15\": 66, \"5\": 7, \"4\": 34, \"1\": 41, \"11\": 36, \"6\": 40, \"14\": 2, \"10\": 2, \"9\": 3, \"13\": 7, \"7\": 2}, \"4\": {\"5\": 27, \"4\": 49, \"13\": 21, \"6\": 24, \"7\": 14, \"15\": 36, \"14\": 5, \"1\": 47, \"9\": 2, \"11\": 8, \"10\": 4, \"0\": 2, \"2\": 1}, \"6\": {\"13\": 29, \"6\": 61, \"4\": 30, \"0\": 11, \"10\": 11, \"15\": 35, \"1\": 26, \"5\": 11, \"7\": 19, \"2\": 2, \"11\": 3, \"14\": 2}, \"2\": {\"2\": 134, \"14\": 23, \"0\": 66, \"10\": 6, \"8\": 2, \"11\": 3, \"1\": 2, \"9\": 1, \"4\": 1, \"13\": 1, \"12\": 1}, \"5\": {\"13\": 54, \"7\": 34, \"1\": 15, \"6\": 22, \"5\": 45, \"0\": 4, \"10\": 13, \"15\": 9, \"4\": 31, \"3\": 3, \"9\": 1, \"14\": 1, \"8\": 5, \"2\": 3}, \"9\": {\"14\": 31, \"11\": 63, \"9\": 88, \"15\": 7, \"12\": 37, \"1\": 13, \"2\": 1}, \"8\": {\"8\": 141, \"3\": 33, \"10\": 42, \"0\": 13, \"5\": 5, \"2\": 3, \"7\": 2, \"13\": 1}, \"12\": {\"13\": 1, \"14\": 51, \"12\": 137, \"9\": 30, \"1\": 1, \"11\": 15, \"2\": 5}, \"10\": {\"0\": 38, \"8\": 50, \"13\": 23, \"5\": 10, \"7\": 14, \"10\": 91, \"2\": 7, \"1\": 3, \"6\": 2, \"4\": 2}, \"1\": {\"4\": 34, \"1\": 62, \"6\": 20, \"5\": 14, \"11\": 33, \"13\": 14, \"9\": 9, \"15\": 31, \"14\": 5, \"7\": 2, \"0\": 9, \"2\": 6, \"10\": 1}, \"0\": {\"13\": 7, \"14\": 5, \"0\": 109, \"1\": 8, \"2\": 52, \"8\": 15, \"10\": 26, \"5\": 10, \"7\": 1, \"6\": 3, \"11\": 1, \"4\": 3}, \"3\": {\"3\": 164, \"5\": 3, \"8\": 51, \"10\": 11, \"7\": 10, \"13\": 1}, \"13\": {\"7\": 50, \"15\": 5, \"6\": 28, \"13\": 44, \"10\": 30, \"5\": 39, \"1\": 15, \"0\": 5, \"4\": 20, \"8\": 1, \"2\": 3}, \"11\": {\"14\": 29, \"11\": 80, \"9\": 52, \"15\": 24, \"1\": 20, \"6\": 7, \"4\": 13, \"12\": 14, \"0\": 1}, \"7\": {\"7\": 87, \"13\": 46, \"6\": 21, \"0\": 4, \"4\": 17, \"5\": 40, \"10\": 18, \"8\": 3, \"15\": 3, \"2\": 1}, \"14\": {\"9\": 17, \"11\": 28, \"12\": 38, \"14\": 123, \"1\": 8, \"2\": 21, \"0\": 2, \"6\": 1, \"13\": 1, \"15\": 1}}, \"O_38\": {\"15\": {\"8\": 26, \"6\": 3, \"15\": 89, \"13\": 36, \"5\": 19, \"2\": 13, \"1\": 29, \"10\": 13, \"7\": 5, \"9\": 3, \"0\": 4}, \"11\": {\"10\": 16, \"14\": 96, \"11\": 89, \"2\": 21, \"12\": 10, \"4\": 6, \"15\": 1, \"13\": 1}, \"10\": {\"11\": 18, \"15\": 22, \"8\": 19, \"2\": 7, \"10\": 81, \"14\": 20, \"0\": 14, \"7\": 27, \"1\": 1, \"5\": 4, \"13\": 14, \"12\": 7, \"4\": 6}, \"14\": {\"11\": 74, \"14\": 113, \"2\": 22, \"10\": 26, \"12\": 4, \"15\": 1}, \"6\": {\"6\": 98, \"9\": 68, \"1\": 25, \"8\": 8, \"5\": 23, \"0\": 3, \"3\": 5, \"15\": 7, \"7\": 2, \"13\": 1}, \"4\": {\"4\": 180, \"12\": 55, \"7\": 3, \"10\": 1, \"0\": 1}, \"13\": {\"10\": 25, \"1\": 32, \"13\": 58, \"0\": 8, \"7\": 3, \"15\": 42, \"8\": 25, \"5\": 12, \"6\": 2, \"2\": 27, \"9\": 4, \"14\": 2}, \"3\": {\"9\": 36, \"6\": 23, \"3\": 138, \"0\": 15, \"8\": 8, \"7\": 11, \"12\": 1, \"5\": 8}, \"7\": {\"5\": 24, \"7\": 102, \"10\": 18, \"8\": 32, \"0\": 40, \"15\": 3, \"4\": 2, \"12\": 2, \"6\": 6, \"3\": 4, \"9\": 5, \"1\": 2}, \"8\": {\"0\": 26, \"5\": 51, \"8\": 42, \"10\": 20, \"9\": 7, \"7\": 35, \"1\": 7, \"2\": 1, \"15\": 26, \"13\": 12, \"6\": 8, \"3\": 3, \"12\": 1, \"11\": 1}, \"1\": {\"6\": 34, \"1\": 121, \"15\": 36, \"5\": 16, \"13\": 12, \"9\": 9, \"2\": 5, \"10\": 1, \"8\": 5, \"0\": 1}, \"5\": {\"9\": 14, \"10\": 10, \"8\": 33, \"0\": 29, \"5\": 43, \"7\": 28, \"15\": 29, \"13\": 19, \"6\": 13, \"1\": 16, \"2\": 1, \"3\": 4, \"11\": 1}, \"0\": {\"7\": 41, \"8\": 47, \"15\": 11, \"0\": 70, \"5\": 21, \"6\": 6, \"3\": 14, \"12\": 5, \"13\": 4, \"11\": 1, \"10\": 8, \"9\": 8, \"1\": 4}, \"2\": {\"13\": 33, \"11\": 8, \"2\": 118, \"10\": 17, \"15\": 28, \"8\": 2, \"14\": 22, \"1\": 11, \"5\": 1}, \"12\": {\"12\": 175, \"10\": 3, \"4\": 46, \"14\": 7, \"11\": 6, \"7\": 2, \"0\": 1}, \"9\": {\"9\": 102, \"3\": 17, \"6\": 82, \"15\": 2, \"7\": 5, \"1\": 11, \"5\": 13, \"13\": 1, \"0\": 3, \"8\": 4}}, \"O_20\": {\"10\": {\"10\": 62, \"8\": 20, \"4\": 45, \"14\": 35, \"7\": 15, \"12\": 10, \"9\": 10, \"6\": 23, \"5\": 6, \"0\": 1, \"3\": 8, \"1\": 1, \"13\": 1, \"2\": 2, \"15\": 1}, \"7\": {\"5\": 13, \"7\": 38, \"0\": 9, \"12\": 18, \"4\": 11, \"2\": 24, \"15\": 11, \"3\": 16, \"8\": 10, \"13\": 16, \"6\": 21, \"10\": 17, \"9\": 14, \"14\": 9, \"11\": 5, \"1\": 8}, \"4\": {\"14\": 18, \"4\": 50, \"10\": 36, \"12\": 11, \"3\": 11, \"15\": 3, \"6\": 9, \"8\": 24, \"5\": 23, \"2\": 5, \"9\": 6, \"0\": 21, \"1\": 5, \"7\": 17, \"13\": 1}, \"13\": {\"13\": 58, \"11\": 22, \"15\": 27, \"3\": 10, \"7\": 20, \"8\": 1, \"1\": 22, \"5\": 7, \"12\": 15, \"2\": 28, \"9\": 14, \"0\": 9, \"6\": 6, \"4\": 1}, \"1\": {\"12\": 30, \"13\": 14, \"5\": 24, \"15\": 31, \"3\": 25, \"7\": 13, \"0\": 12, \"10\": 6, \"1\": 34, \"9\": 22, \"8\": 3, \"2\": 19, \"4\": 6, \"11\": 1}, \"0\": {\"3\": 23, \"7\": 9, \"9\": 6, \"6\": 7, \"15\": 25, \"0\": 53, \"4\": 16, \"1\": 16, \"2\": 12, \"5\": 28, \"8\": 15, \"13\": 10, \"12\": 11, \"10\": 5, \"11\": 1, \"14\": 3}, \"12\": {\"13\": 14, \"3\": 23, \"15\": 23, \"4\": 9, \"0\": 11, \"9\": 32, \"5\": 25, \"12\": 29, \"10\": 8, \"14\": 2, \"2\": 18, \"1\": 26, \"7\": 14, \"6\": 1, \"8\": 4, \"11\": 1}, \"5\": {\"3\": 24, \"1\": 26, \"15\": 26, \"13\": 13, \"4\": 14, \"7\": 13, \"5\": 27, \"0\": 24, \"9\": 13, \"2\": 9, \"12\": 26, \"10\": 7, \"8\": 9, \"6\": 8, \"14\": 1}, \"6\": {\"14\": 47, \"10\": 18, \"8\": 33, \"6\": 62, \"7\": 28, \"9\": 8, \"11\": 8, \"3\": 4, \"4\": 12, \"12\": 2, \"0\": 5, \"2\": 4, \"5\": 5, \"1\": 1, \"13\": 3}, \"2\": {\"2\": 34, \"11\": 14, \"1\": 18, \"7\": 25, \"15\": 15, \"9\": 31, \"6\": 6, \"3\": 17, \"14\": 5, \"4\": 6, \"13\": 31, \"0\": 6, \"12\": 13, \"8\": 5, \"5\": 9, \"10\": 5}, \"8\": {\"13\": 1, \"7\": 21, \"4\": 27, \"6\": 27, \"8\": 38, \"5\": 14, \"10\": 28, \"9\": 10, \"14\": 35, \"0\": 16, \"15\": 3, \"12\": 9, \"3\": 6, \"2\": 4, \"1\": 1}, \"11\": {\"7\": 14, \"11\": 145, \"6\": 16, \"2\": 14, \"3\": 4, \"9\": 5, \"5\": 3, \"8\": 2, \"12\": 2, \"13\": 30, \"14\": 1, \"1\": 1, \"15\": 2, \"4\": 1}, \"9\": {\"2\": 29, \"13\": 15, \"9\": 41, \"5\": 19, \"10\": 13, \"7\": 14, \"8\": 5, \"15\": 19, \"1\": 14, \"12\": 27, \"4\": 6, \"0\": 5, \"3\": 23, \"14\": 5, \"6\": 4, \"11\": 1}, \"14\": {\"8\": 38, \"10\": 40, \"6\": 50, \"4\": 28, \"7\": 5, \"2\": 2, \"14\": 57, \"0\": 7, \"5\": 4, \"12\": 3, \"9\": 3, \"3\": 2, \"13\": 1}, \"15\": {\"3\": 21, \"9\": 22, \"13\": 26, \"1\": 23, \"15\": 40, \"0\": 20, \"7\": 10, \"2\": 19, \"4\": 6, \"5\": 22, \"12\": 24, \"10\": 4, \"8\": 2, \"14\": 1}, \"3\": {\"3\": 26, \"13\": 9, \"1\": 22, \"10\": 23, \"7\": 14, \"15\": 16, \"9\": 26, \"5\": 15, \"2\": 15, \"12\": 25, \"0\": 11, \"6\": 8, \"4\": 17, \"14\": 5, \"8\": 7, \"11\": 1}}, \"O_14\": {\"14\": {\"13\": 33, \"14\": 60, \"2\": 41, \"6\": 48, \"4\": 9, \"0\": 17, \"5\": 2, \"3\": 18, \"11\": 8, \"10\": 4}, \"0\": {\"10\": 25, \"0\": 58, \"3\": 40, \"5\": 6, \"4\": 10, \"2\": 10, \"11\": 45, \"13\": 3, \"9\": 20, \"6\": 3, \"14\": 15, \"1\": 3, \"8\": 2}, \"4\": {\"0\": 14, \"4\": 59, \"6\": 26, \"15\": 6, \"5\": 33, \"1\": 19, \"3\": 32, \"14\": 7, \"2\": 20, \"11\": 2, \"8\": 5, \"10\": 9, \"13\": 5, \"7\": 2, \"9\": 1}, \"11\": {\"11\": 106, \"0\": 47, \"3\": 3, \"10\": 19, \"9\": 27, \"14\": 19, \"6\": 3, \"2\": 2, \"12\": 11, \"13\": 2, \"4\": 1}, \"13\": {\"13\": 63, \"2\": 32, \"10\": 8, \"6\": 58, \"14\": 36, \"1\": 2, \"3\": 7, \"5\": 7, \"7\": 3, \"4\": 11, \"15\": 10, \"0\": 3}, \"9\": {\"12\": 73, \"9\": 103, \"0\": 26, \"8\": 9, \"11\": 23, \"4\": 1, \"10\": 3, \"3\": 2}, \"3\": {\"14\": 15, \"0\": 29, \"3\": 45, \"10\": 16, \"1\": 27, \"4\": 31, \"5\": 13, \"6\": 14, \"2\": 35, \"8\": 4, \"7\": 2, \"11\": 6, \"13\": 1, \"9\": 2}, \"6\": {\"2\": 17, \"5\": 6, \"15\": 5, \"14\": 39, \"6\": 82, \"13\": 61, \"1\": 1, \"10\": 6, \"3\": 8, \"4\": 12, \"11\": 1, \"0\": 1, \"7\": 1}, \"1\": {\"1\": 104, \"8\": 35, \"7\": 21, \"4\": 19, \"5\": 37, \"3\": 14, \"15\": 4, \"2\": 2, \"10\": 1, \"0\": 3}, \"5\": {\"0\": 6, \"3\": 29, \"5\": 50, \"1\": 33, \"4\": 27, \"14\": 6, \"2\": 27, \"8\": 12, \"6\": 6, \"7\": 23, \"15\": 12, \"13\": 5, \"10\": 3, \"9\": 1}, \"12\": {\"9\": 75, \"11\": 11, \"12\": 153, \"0\": 1}, \"10\": {\"10\": 103, \"0\": 34, \"4\": 22, \"11\": 18, \"6\": 15, \"14\": 10, \"3\": 20, \"13\": 9, \"2\": 5, \"9\": 4}, \"8\": {\"8\": 176, \"9\": 13, \"5\": 8, \"2\": 1, \"1\": 24, \"4\": 6, \"12\": 5, \"0\": 5, \"3\": 2}, \"7\": {\"7\": 128, \"1\": 28, \"15\": 53, \"8\": 1, \"5\": 19, \"13\": 1, \"14\": 2, \"2\": 5, \"4\": 3}, \"15\": {\"15\": 132, \"4\": 8, \"13\": 7, \"7\": 45, \"3\": 2, \"5\": 14, \"6\": 8, \"1\": 8, \"2\": 13, \"14\": 3}, \"2\": {\"2\": 41, \"0\": 8, \"4\": 22, \"15\": 20, \"6\": 32, \"14\": 27, \"13\": 27, \"5\": 21, \"3\": 25, \"7\": 10, \"1\": 4, \"10\": 2, \"11\": 1}}, \"O_32\": {\"11\": {\"14\": 54, \"11\": 99, \"7\": 27, \"3\": 8, \"2\": 6, \"8\": 10, \"4\": 9, \"13\": 7, \"0\": 7, \"5\": 13}, \"1\": {\"1\": 187, \"10\": 52, \"6\": 1}, \"2\": {\"5\": 14, \"7\": 22, \"4\": 37, \"2\": 87, \"0\": 23, \"14\": 17, \"8\": 5, \"9\": 12, \"11\": 8, \"13\": 14, \"3\": 1}, \"0\": {\"0\": 68, \"8\": 38, \"2\": 32, \"7\": 17, \"4\": 26, \"13\": 16, \"5\": 12, \"14\": 20, \"11\": 7, \"9\": 3, \"3\": 1}, \"3\": {\"14\": 5, \"8\": 35, \"3\": 120, \"15\": 3, \"13\": 22, \"5\": 28, \"11\": 9, \"7\": 8, \"0\": 4, \"4\": 6}, \"8\": {\"3\": 34, \"13\": 33, \"11\": 8, \"8\": 75, \"0\": 26, \"5\": 24, \"7\": 3, \"4\": 11, \"15\": 13, \"14\": 11, \"2\": 2}, \"12\": {\"12\": 187, \"6\": 20, \"9\": 32, \"10\": 1}, \"5\": {\"3\": 48, \"4\": 21, \"13\": 34, \"7\": 23, \"14\": 11, \"0\": 8, \"5\": 37, \"8\": 26, \"11\": 11, \"2\": 21}, \"15\": {\"15\": 223, \"3\": 5, \"8\": 10, \"0\": 1, \"13\": 1}, \"7\": {\"14\": 28, \"2\": 27, \"7\": 44, \"4\": 31, \"11\": 31, \"0\": 11, \"5\": 23, \"13\": 22, \"8\": 12, \"3\": 11}, \"4\": {\"8\": 28, \"4\": 56, \"14\": 17, \"7\": 24, \"2\": 46, \"5\": 18, \"13\": 25, \"0\": 18, \"11\": 4, \"3\": 4}, \"14\": {\"3\": 10, \"2\": 15, \"11\": 75, \"14\": 48, \"7\": 35, \"13\": 9, \"5\": 10, \"4\": 9, \"0\": 16, \"9\": 1, \"8\": 12}, \"10\": {\"10\": 199, \"1\": 35, \"12\": 6}, \"6\": {\"6\": 221, \"1\": 2, \"12\": 10, \"10\": 6, \"9\": 1}, \"13\": {\"3\": 25, \"8\": 35, \"2\": 14, \"7\": 28, \"4\": 30, \"13\": 50, \"5\": 36, \"0\": 11, \"14\": 5, \"11\": 5, \"15\": 1}, \"9\": {\"12\": 40, \"9\": 181, \"4\": 1, \"2\": 12, \"0\": 4, \"6\": 2}}, \"O_8\": {\"9\": {\"9\": 233, \"0\": 2, \"10\": 3, \"5\": 2}, \"11\": {\"1\": 51, \"8\": 30, \"11\": 85, \"12\": 4, \"10\": 7, \"4\": 9, \"0\": 1, \"5\": 20, \"15\": 8, \"14\": 13, \"6\": 6, \"13\": 5, \"7\": 1}, \"8\": {\"15\": 50, \"12\": 32, \"8\": 60, \"5\": 3, \"2\": 2, \"1\": 24, \"11\": 18, \"6\": 19, \"10\": 2, \"4\": 12, \"14\": 5, \"3\": 3, \"7\": 6, \"13\": 4}, \"4\": {\"8\": 17, \"5\": 13, \"10\": 32, \"7\": 18, \"4\": 35, \"13\": 23, \"12\": 2, \"6\": 31, \"14\": 27, \"15\": 8, \"0\": 20, \"1\": 11, \"11\": 1, \"2\": 1, \"3\": 1}, \"13\": {\"4\": 26, \"10\": 22, \"0\": 39, \"6\": 26, \"14\": 26, \"7\": 30, \"13\": 42, \"1\": 9, \"15\": 4, \"5\": 6, \"2\": 6, \"8\": 2, \"3\": 1, \"9\": 1}, \"14\": {\"15\": 7, \"10\": 40, \"6\": 19, \"4\": 23, \"5\": 30, \"13\": 21, \"14\": 45, \"0\": 19, \"7\": 14, \"8\": 9, \"1\": 11, \"11\": 2}, \"2\": {\"3\": 64, \"8\": 8, \"12\": 16, \"6\": 13, \"0\": 17, \"13\": 6, \"2\": 82, \"7\": 23, \"15\": 9, \"4\": 1, \"10\": 1}, \"3\": {\"2\": 55, \"3\": 67, \"15\": 28, \"12\": 46, \"7\": 16, \"8\": 8, \"13\": 3, \"0\": 6, \"4\": 2, \"6\": 9}, \"1\": {\"1\": 63, \"10\": 13, \"5\": 34, \"11\": 59, \"8\": 17, \"13\": 6, \"7\": 7, \"4\": 11, \"15\": 5, \"14\": 19, \"12\": 1, \"6\": 4, \"0\": 1}, \"0\": {\"5\": 5, \"2\": 8, \"6\": 29, \"7\": 33, \"4\": 21, \"1\": 4, \"0\": 56, \"15\": 3, \"14\": 21, \"13\": 29, \"10\": 21, \"8\": 2, \"12\": 2, \"9\": 1, \"3\": 5}, \"5\": {\"10\": 35, \"5\": 73, \"14\": 31, \"4\": 16, \"9\": 5, \"0\": 8, \"13\": 10, \"11\": 17, \"1\": 34, \"6\": 6, \"8\": 1, \"7\": 3, \"15\": 1}, \"15\": {\"8\": 40, \"12\": 42, \"0\": 1, \"15\": 76, \"7\": 19, \"3\": 25, \"1\": 4, \"2\": 13, \"6\": 9, \"4\": 6, \"11\": 2, \"13\": 2, \"14\": 1}, \"10\": {\"14\": 42, \"5\": 23, \"1\": 13, \"0\": 23, \"10\": 37, \"13\": 33, \"4\": 21, \"7\": 8, \"11\": 6, \"6\": 29, \"8\": 5}, \"12\": {\"2\": 19, \"15\": 61, \"8\": 27, \"3\": 45, \"12\": 69, \"7\": 8, \"6\": 4, \"14\": 1, \"10\": 1, \"0\": 1, \"4\": 2, \"11\": 1, \"1\": 1}, \"6\": {\"7\": 28, \"14\": 26, \"0\": 29, \"13\": 21, \"6\": 33, \"2\": 7, \"3\": 7, \"11\": 1, \"1\": 8, \"15\": 17, \"8\": 8, \"4\": 30, \"12\": 5, \"10\": 16, \"5\": 4}, \"7\": {\"8\": 12, \"4\": 14, \"0\": 35, \"12\": 8, \"2\": 23, \"3\": 8, \"14\": 16, \"7\": 41, \"6\": 31, \"15\": 10, \"13\": 21, \"5\": 4, \"10\": 13, \"1\": 4}}}, \"per_domain_accuracy\": {\"C_5\": {\"accuracy\": 0.9956354748603352, \"source?\": true}, \"C_1\": {\"accuracy\": 0.9979619565217391, \"source?\": true}, \"C_3\": {\"accuracy\": 0.9972426470588235, \"source?\": true}, \"C_4\": {\"accuracy\": 0.9966114457831325, \"source?\": true}, \"C_2\": {\"accuracy\": 0.9991122159090909, \"source?\": true}, \"O_26\": {\"accuracy\": 0.25338541666666664, \"source?\": false}, \"O_44\": {\"accuracy\": 0.37421875, \"source?\": false}, \"O_50\": {\"accuracy\": 0.38567708333333334, \"source?\": false}, \"O_38\": {\"accuracy\": 0.42161458333333335, \"source?\": false}, \"O_20\": {\"accuracy\": 0.20677083333333332, \"source?\": false}, \"O_14\": {\"accuracy\": 0.3809895833333333, \"source?\": false}, \"O_32\": {\"accuracy\": 0.4901041666666667, \"source?\": false}, \"O_8\": {\"accuracy\": 0.28567708333333336, \"source?\": false}}}, \"history\": {\"epoch_indices\": [1, 2, 3, 4, 5, 6, 7, 8, 9, 10, 11], \"train_label_loss\": [0.03176393286728382, 0.007893557265919728, 0.005760121030462438, 0.004493366363998733, 0.0031653612759965444, 0.0034127774127905015, 0.003223411753979391, 0.0027572794092127688, 0.002697620085055092, 0.0018458564853358062, 0.0024320550228098202], \"source_val_label_loss\": [0.009102732874453068, 0.00569256441667676, 0.005605756305158138, 0.00906673725694418, 0.005670124664902687, 0.004606905858963728, 0.018205292522907257, 0.005629789084196091, 0.006981987971812487, 0.007624863181263208, 0.005454446654766798], \"target_val_label_loss\": [1.9393939971923828, 2.4585764408111572, 2.308462381362915, 2.0777382850646973, 2.861442804336548, 2.621306896209717, 2.502837657928467, 2.6187846660614014, 3.7646684646606445, 3.1482601165771484, 3.8489181995391846], \"source_val_acc_label\": [0.9978571428571429, 0.9994285714285714, 0.9994285714285714, 0.9985, 0.9996428571428572, 0.9995, 0.9973214285714286, 0.9996785714285714, 0.9995714285714286, 0.9996785714285714, 0.9995357142857143], \"target_val_acc_label\": [0.33111979166666666, 0.28505859375, 0.30071614583333334, 0.33346354166666664, 0.28587239583333335, 0.32200520833333335, 0.3498046875, 0.33665364583333335, 0.28050130208333335, 0.3160807291666667, 0.3268229166666667]}, \"dataset_metrics\": {\"source\": {\"train\": {\"n_unique_x\": 175203, \"n_unique_y\": 58, \"n_batch/episode\": 6325}, \"val\": {\"n_unique_x\": 37151, \"n_unique_y\": 58, \"n_batch/episode\": 875}, \"test\": {\"n_unique_x\": 37548, \"n_unique_y\": 58, \"n_batch/episode\": 885}}, \"target\": {\"train\": {\"n_unique_x\": 179200, \"n_unique_y\": 16, \"n_batch/episode\": 6720}, \"val\": {\"n_unique_x\": 38400, \"n_unique_y\": 16, \"n_batch/episode\": 960}, \"test\": {\"n_unique_x\": 38400, \"n_unique_y\": 16, \"n_batch/episode\": 960}}}}'"
      ]
     },
     "execution_count": 29,
     "metadata": {},
     "output_type": "execute_result"
    }
   ],
   "source": [
    "json.dumps(experiment)"
   ]
  }
 ],
 "metadata": {
  "celltoolbar": "Tags",
  "kernelspec": {
   "display_name": "Python 3 (ipykernel)",
   "language": "python",
   "name": "python3"
  },
  "language_info": {
   "codemirror_mode": {
    "name": "ipython",
    "version": 3
   },
   "file_extension": ".py",
   "mimetype": "text/x-python",
   "name": "python",
   "nbconvert_exporter": "python",
   "pygments_lexer": "ipython3",
   "version": "3.8.10"
  },
  "papermill": {
   "default_parameters": {},
   "duration": 3316.984789,
   "end_time": "2022-03-25T19:27:31.425232",
   "environment_variables": {},
   "exception": null,
   "input_path": "/mnt/wd500GB/CSC500/csc500-main/csc500-notebooks/templates/tl_ptn_template.ipynb",
   "output_path": "trial.ipynb",
   "parameters": {
    "parameters": {
     "BEST_MODEL_PATH": "./best_model.pth",
     "NUM_LOGS_PER_EPOCH": 10,
     "criteria_for_best": "target_accuracy",
     "dataset_seed": 7,
     "datasets": [
      {
       "domain_prefix": "C_",
       "domains": [
        1,
        2,
        3,
        4,
        5
       ],
       "episode_transforms": [],
       "labels": [
        "1-10.",
        "1-11.",
        "1-15.",
        "1-16.",
        "1-17.",
        "1-18.",
        "1-19.",
        "10-4.",
        "10-7.",
        "11-1.",
        "11-14.",
        "11-17.",
        "11-20.",
        "11-7.",
        "13-20.",
        "13-8.",
        "14-10.",
        "14-11.",
        "14-14.",
        "14-7.",
        "15-1.",
        "15-20.",
        "16-1.",
        "16-16.",
        "17-10.",
        "17-11.",
        "17-2.",
        "19-1.",
        "19-16.",
        "19-19.",
        "19-20.",
        "19-3.",
        "2-10.",
        "2-11.",
        "2-17.",
        "2-18.",
        "2-20.",
        "2-3.",
        "2-4.",
        "2-5.",
        "2-6.",
        "2-7.",
        "2-8.",
        "3-13.",
        "3-18.",
        "3-3.",
        "4-1.",
        "4-10.",
        "4-11.",
        "4-19.",
        "5-5.",
        "6-15.",
        "7-10.",
        "7-14.",
        "8-18.",
        "8-20.",
        "8-3.",
        "8-8."
       ],
       "num_examples_per_domain_per_label": -1,
       "pickle_path": "/mnt/wd500GB/CSC500/csc500-main/datasets/cores.stratified_ds.2022A.pkl",
       "source_or_target_dataset": "source",
       "x_transforms": [
        "unit_mag",
        "lowpass_+/-10MHz",
        "take_200"
       ]
      },
      {
       "domain_prefix": "O_",
       "domains": [
        32,
        38,
        8,
        44,
        14,
        50,
        20,
        26
       ],
       "episode_transforms": [],
       "labels": [
        "3123D52",
        "3123D65",
        "3123D79",
        "3123D80",
        "3123D54",
        "3123D70",
        "3123D7B",
        "3123D89",
        "3123D58",
        "3123D76",
        "3123D7D",
        "3123EFE",
        "3123D64",
        "3123D78",
        "3123D7E",
        "3124E4A"
       ],
       "num_examples_per_domain_per_label": 2000,
       "pickle_path": "/mnt/wd500GB/CSC500/csc500-main/datasets/oracle.Run1_framed_2000Examples_stratified_ds.2022A.pkl",
       "source_or_target_dataset": "target",
       "x_transforms": [
        "unit_mag",
        "take_200",
        "resample_20Msps_to_25Msps"
       ]
      }
     ],
     "device": "cuda",
     "experiment_name": "tl_3-filterv2:cores -> oracle.run1.framed",
     "lr": 0.0001,
     "n_epoch": 50,
     "n_query": 2,
     "n_shot": 3,
     "n_way": 16,
     "patience": 3,
     "seed": 7,
     "test_k_factor": 2,
     "torch_default_dtype": "torch.float32",
     "train_k_factor": 3,
     "val_k_factor": 2,
     "x_net": [
      {
       "class": "nnReshape",
       "kargs": {
        "shape": [
         -1,
         1,
         2,
         200
        ]
       }
      },
      {
       "class": "Conv2d",
       "kargs": {
        "bias": false,
        "in_channels": 1,
        "kernel_size": [
         1,
         7
        ],
        "out_channels": 256,
        "padding": [
         0,
         3
        ]
       }
      },
      {
       "class": "ReLU",
       "kargs": {
        "inplace": true
       }
      },
      {
       "class": "BatchNorm2d",
       "kargs": {
        "num_features": 256
       }
      },
      {
       "class": "Conv2d",
       "kargs": {
        "bias": true,
        "in_channels": 256,
        "kernel_size": [
         2,
         7
        ],
        "out_channels": 80,
        "padding": [
         0,
         3
        ]
       }
      },
      {
       "class": "ReLU",
       "kargs": {
        "inplace": true
       }
      },
      {
       "class": "BatchNorm2d",
       "kargs": {
        "num_features": 80
       }
      },
      {
       "class": "Flatten",
       "kargs": {}
      },
      {
       "class": "Linear",
       "kargs": {
        "in_features": 16000,
        "out_features": 256
       }
      },
      {
       "class": "ReLU",
       "kargs": {
        "inplace": true
       }
      },
      {
       "class": "BatchNorm1d",
       "kargs": {
        "num_features": 256
       }
      },
      {
       "class": "Linear",
       "kargs": {
        "in_features": 256,
        "out_features": 256
       }
      }
     ],
     "x_shape": [
      2,
      200
     ]
    }
   },
   "start_time": "2022-03-25T18:32:14.440443",
   "version": "2.3.4"
  }
 },
 "nbformat": 4,
 "nbformat_minor": 5
}