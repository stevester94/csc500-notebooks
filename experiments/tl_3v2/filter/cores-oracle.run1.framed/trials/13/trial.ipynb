{
 "cells": [
  {
   "cell_type": "markdown",
   "id": "9fea5f46",
   "metadata": {
    "papermill": {
     "duration": 0.022748,
     "end_time": "2022-03-25T20:07:05.068635",
     "exception": false,
     "start_time": "2022-03-25T20:07:05.045887",
     "status": "completed"
    },
    "tags": []
   },
   "source": [
    "# Transfer Learning Template"
   ]
  },
  {
   "cell_type": "code",
   "execution_count": 1,
   "id": "0902182a",
   "metadata": {
    "execution": {
     "iopub.execute_input": "2022-03-25T20:07:05.104469Z",
     "iopub.status.busy": "2022-03-25T20:07:05.103938Z",
     "iopub.status.idle": "2022-03-25T20:07:06.095255Z",
     "shell.execute_reply": "2022-03-25T20:07:06.094957Z"
    },
    "papermill": {
     "duration": 1.013994,
     "end_time": "2022-03-25T20:07:06.095359",
     "exception": false,
     "start_time": "2022-03-25T20:07:05.081365",
     "status": "completed"
    },
    "tags": []
   },
   "outputs": [],
   "source": [
    "%load_ext autoreload\n",
    "%autoreload 2\n",
    "%matplotlib inline\n",
    "\n",
    "    \n",
    "import os, json, sys, time, random\n",
    "import numpy as np\n",
    "import torch\n",
    "from torch.optim import Adam\n",
    "from  easydict import EasyDict\n",
    "import matplotlib.pyplot as plt\n",
    "\n",
    "from steves_models.steves_ptn import Steves_Prototypical_Network\n",
    "\n",
    "from steves_utils.lazy_iterable_wrapper import Lazy_Iterable_Wrapper\n",
    "from steves_utils.iterable_aggregator import Iterable_Aggregator\n",
    "from steves_utils.ptn_train_eval_test_jig import  PTN_Train_Eval_Test_Jig\n",
    "from steves_utils.torch_sequential_builder import build_sequential\n",
    "from steves_utils.torch_utils import get_dataset_metrics, ptn_confusion_by_domain_over_dataloader\n",
    "from steves_utils.utils_v2 import (per_domain_accuracy_from_confusion, get_datasets_base_path)\n",
    "from steves_utils.PTN.utils import independent_accuracy_assesment\n",
    "\n",
    "from torch.utils.data import DataLoader\n",
    "\n",
    "from steves_utils.stratified_dataset.episodic_accessor import Episodic_Accessor_Factory\n",
    "\n",
    "from steves_utils.ptn_do_report import (\n",
    "    get_loss_curve,\n",
    "    get_results_table,\n",
    "    get_parameters_table,\n",
    "    get_domain_accuracies,\n",
    ")\n",
    "\n",
    "from steves_utils.transforms import get_chained_transform"
   ]
  },
  {
   "cell_type": "markdown",
   "id": "41c840b4",
   "metadata": {
    "papermill": {
     "duration": 0.012629,
     "end_time": "2022-03-25T20:07:06.121406",
     "exception": false,
     "start_time": "2022-03-25T20:07:06.108777",
     "status": "completed"
    },
    "tags": []
   },
   "source": [
    "# Allowed Parameters\n",
    "These are allowed parameters, not defaults\n",
    "Each of these values need to be present in the injected parameters (the notebook will raise an exception if they are not present)\n",
    "\n",
    "Papermill uses the cell tag \"parameters\" to inject the real parameters below this cell.\n",
    "Enable tags to see what I mean"
   ]
  },
  {
   "cell_type": "code",
   "execution_count": 2,
   "id": "fd44eb83",
   "metadata": {
    "execution": {
     "iopub.execute_input": "2022-03-25T20:07:06.150701Z",
     "iopub.status.busy": "2022-03-25T20:07:06.150397Z",
     "iopub.status.idle": "2022-03-25T20:07:06.165921Z",
     "shell.execute_reply": "2022-03-25T20:07:06.165519Z"
    },
    "papermill": {
     "duration": 0.031947,
     "end_time": "2022-03-25T20:07:06.166046",
     "exception": false,
     "start_time": "2022-03-25T20:07:06.134099",
     "status": "completed"
    },
    "tags": []
   },
   "outputs": [],
   "source": [
    "required_parameters = {\n",
    "    \"experiment_name\",\n",
    "    \"lr\",\n",
    "    \"device\",\n",
    "    \"seed\",\n",
    "    \"dataset_seed\",\n",
    "    \"n_shot\",\n",
    "    \"n_query\",\n",
    "    \"n_way\",\n",
    "    \"train_k_factor\",\n",
    "    \"val_k_factor\",\n",
    "    \"test_k_factor\",\n",
    "    \"n_epoch\",\n",
    "    \"patience\",\n",
    "    \"criteria_for_best\",\n",
    "    \"x_net\",\n",
    "    \"datasets\",\n",
    "    \"torch_default_dtype\",\n",
    "    \"NUM_LOGS_PER_EPOCH\",\n",
    "    \"BEST_MODEL_PATH\",\n",
    "    \"x_shape\",\n",
    "}"
   ]
  },
  {
   "cell_type": "code",
   "execution_count": 3,
   "id": "fa3f0049",
   "metadata": {
    "execution": {
     "iopub.execute_input": "2022-03-25T20:07:06.203899Z",
     "iopub.status.busy": "2022-03-25T20:07:06.203605Z",
     "iopub.status.idle": "2022-03-25T20:07:06.217429Z",
     "shell.execute_reply": "2022-03-25T20:07:06.217108Z"
    },
    "papermill": {
     "duration": 0.036379,
     "end_time": "2022-03-25T20:07:06.217506",
     "exception": false,
     "start_time": "2022-03-25T20:07:06.181127",
     "status": "completed"
    },
    "tags": [
     "parameters"
    ]
   },
   "outputs": [],
   "source": [
    "from steves_utils.CORES.utils import (\n",
    "    ALL_NODES,\n",
    "    ALL_NODES_MINIMUM_1000_EXAMPLES,\n",
    "    ALL_DAYS\n",
    ")\n",
    "\n",
    "from steves_utils.ORACLE.utils_v2 import (\n",
    "    ALL_DISTANCES_FEET_NARROWED,\n",
    "    ALL_RUNS,\n",
    "    ALL_SERIAL_NUMBERS,\n",
    ")\n",
    "\n",
    "standalone_parameters = {}\n",
    "standalone_parameters[\"experiment_name\"] = \"STANDALONE PTN\"\n",
    "standalone_parameters[\"lr\"] = 0.001\n",
    "standalone_parameters[\"device\"] = \"cuda\"\n",
    "\n",
    "standalone_parameters[\"seed\"] = 1337\n",
    "standalone_parameters[\"dataset_seed\"] = 1337\n",
    "\n",
    "standalone_parameters[\"n_way\"] = 8\n",
    "standalone_parameters[\"n_shot\"] = 3\n",
    "standalone_parameters[\"n_query\"]  = 2\n",
    "standalone_parameters[\"train_k_factor\"] = 1\n",
    "standalone_parameters[\"val_k_factor\"] = 2\n",
    "standalone_parameters[\"test_k_factor\"] = 2\n",
    "\n",
    "\n",
    "standalone_parameters[\"n_epoch\"] = 50\n",
    "\n",
    "standalone_parameters[\"patience\"] = 10\n",
    "standalone_parameters[\"criteria_for_best\"] = \"source_loss\"\n",
    "\n",
    "standalone_parameters[\"datasets\"] = [\n",
    "    {\n",
    "        \"labels\": ALL_SERIAL_NUMBERS,\n",
    "        \"domains\": ALL_DISTANCES_FEET_NARROWED,\n",
    "        \"num_examples_per_domain_per_label\": 100,\n",
    "        \"pickle_path\": os.path.join(get_datasets_base_path(), \"oracle.Run1_framed_2000Examples_stratified_ds.2022A.pkl\"),\n",
    "        \"source_or_target_dataset\": \"source\",\n",
    "        \"x_transforms\": [\"unit_mag\", \"minus_two\"],\n",
    "        \"episode_transforms\": [],\n",
    "        \"domain_prefix\": \"ORACLE_\"\n",
    "    },\n",
    "    {\n",
    "        \"labels\": ALL_NODES,\n",
    "        \"domains\": ALL_DAYS,\n",
    "        \"num_examples_per_domain_per_label\": 100,\n",
    "        \"pickle_path\": os.path.join(get_datasets_base_path(), \"cores.stratified_ds.2022A.pkl\"),\n",
    "        \"source_or_target_dataset\": \"target\",\n",
    "        \"x_transforms\": [\"unit_power\", \"times_zero\"],\n",
    "        \"episode_transforms\": [],\n",
    "        \"domain_prefix\": \"CORES_\"\n",
    "    }   \n",
    "]\n",
    "\n",
    "standalone_parameters[\"torch_default_dtype\"] = \"torch.float32\" \n",
    "\n",
    "\n",
    "\n",
    "standalone_parameters[\"x_net\"] =     [\n",
    "    {\"class\": \"nnReshape\", \"kargs\": {\"shape\":[-1, 1, 2, 256]}},\n",
    "    {\"class\": \"Conv2d\", \"kargs\": { \"in_channels\":1, \"out_channels\":256, \"kernel_size\":(1,7), \"bias\":False, \"padding\":(0,3), },},\n",
    "    {\"class\": \"ReLU\", \"kargs\": {\"inplace\": True}},\n",
    "    {\"class\": \"BatchNorm2d\", \"kargs\": {\"num_features\":256}},\n",
    "\n",
    "    {\"class\": \"Conv2d\", \"kargs\": { \"in_channels\":256, \"out_channels\":80, \"kernel_size\":(2,7), \"bias\":True, \"padding\":(0,3), },},\n",
    "    {\"class\": \"ReLU\", \"kargs\": {\"inplace\": True}},\n",
    "    {\"class\": \"BatchNorm2d\", \"kargs\": {\"num_features\":80}},\n",
    "    {\"class\": \"Flatten\", \"kargs\": {}},\n",
    "\n",
    "    {\"class\": \"Linear\", \"kargs\": {\"in_features\": 80*256, \"out_features\": 256}}, # 80 units per IQ pair\n",
    "    {\"class\": \"ReLU\", \"kargs\": {\"inplace\": True}},\n",
    "    {\"class\": \"BatchNorm1d\", \"kargs\": {\"num_features\":256}},\n",
    "\n",
    "    {\"class\": \"Linear\", \"kargs\": {\"in_features\": 256, \"out_features\": 256}},\n",
    "]\n",
    "\n",
    "# Parameters relevant to results\n",
    "# These parameters will basically never need to change\n",
    "standalone_parameters[\"NUM_LOGS_PER_EPOCH\"] = 10\n",
    "standalone_parameters[\"BEST_MODEL_PATH\"] = \"./best_model.pth\"\n",
    "\n",
    "\n",
    "\n",
    "\n"
   ]
  },
  {
   "cell_type": "code",
   "execution_count": 4,
   "id": "8fd62abf",
   "metadata": {
    "execution": {
     "iopub.execute_input": "2022-03-25T20:07:06.262484Z",
     "iopub.status.busy": "2022-03-25T20:07:06.257441Z",
     "iopub.status.idle": "2022-03-25T20:07:06.275474Z",
     "shell.execute_reply": "2022-03-25T20:07:06.275252Z"
    },
    "papermill": {
     "duration": 0.038154,
     "end_time": "2022-03-25T20:07:06.275527",
     "exception": false,
     "start_time": "2022-03-25T20:07:06.237373",
     "status": "completed"
    },
    "tags": [
     "injected-parameters"
    ]
   },
   "outputs": [],
   "source": [
    "# Parameters\n",
    "parameters = {\n",
    "    \"experiment_name\": \"tl_3-filterv2:cores -> oracle.run1.framed\",\n",
    "    \"device\": \"cuda\",\n",
    "    \"lr\": 0.0001,\n",
    "    \"x_shape\": [2, 200],\n",
    "    \"n_shot\": 3,\n",
    "    \"n_query\": 2,\n",
    "    \"train_k_factor\": 3,\n",
    "    \"val_k_factor\": 2,\n",
    "    \"test_k_factor\": 2,\n",
    "    \"torch_default_dtype\": \"torch.float32\",\n",
    "    \"n_epoch\": 50,\n",
    "    \"patience\": 3,\n",
    "    \"criteria_for_best\": \"target_accuracy\",\n",
    "    \"x_net\": [\n",
    "        {\"class\": \"nnReshape\", \"kargs\": {\"shape\": [-1, 1, 2, 200]}},\n",
    "        {\n",
    "            \"class\": \"Conv2d\",\n",
    "            \"kargs\": {\n",
    "                \"in_channels\": 1,\n",
    "                \"out_channels\": 256,\n",
    "                \"kernel_size\": [1, 7],\n",
    "                \"bias\": False,\n",
    "                \"padding\": [0, 3],\n",
    "            },\n",
    "        },\n",
    "        {\"class\": \"ReLU\", \"kargs\": {\"inplace\": True}},\n",
    "        {\"class\": \"BatchNorm2d\", \"kargs\": {\"num_features\": 256}},\n",
    "        {\n",
    "            \"class\": \"Conv2d\",\n",
    "            \"kargs\": {\n",
    "                \"in_channels\": 256,\n",
    "                \"out_channels\": 80,\n",
    "                \"kernel_size\": [2, 7],\n",
    "                \"bias\": True,\n",
    "                \"padding\": [0, 3],\n",
    "            },\n",
    "        },\n",
    "        {\"class\": \"ReLU\", \"kargs\": {\"inplace\": True}},\n",
    "        {\"class\": \"BatchNorm2d\", \"kargs\": {\"num_features\": 80}},\n",
    "        {\"class\": \"Flatten\", \"kargs\": {}},\n",
    "        {\"class\": \"Linear\", \"kargs\": {\"in_features\": 16000, \"out_features\": 256}},\n",
    "        {\"class\": \"ReLU\", \"kargs\": {\"inplace\": True}},\n",
    "        {\"class\": \"BatchNorm1d\", \"kargs\": {\"num_features\": 256}},\n",
    "        {\"class\": \"Linear\", \"kargs\": {\"in_features\": 256, \"out_features\": 256}},\n",
    "    ],\n",
    "    \"NUM_LOGS_PER_EPOCH\": 10,\n",
    "    \"BEST_MODEL_PATH\": \"./best_model.pth\",\n",
    "    \"n_way\": 16,\n",
    "    \"datasets\": [\n",
    "        {\n",
    "            \"labels\": [\n",
    "                \"1-10.\",\n",
    "                \"1-11.\",\n",
    "                \"1-15.\",\n",
    "                \"1-16.\",\n",
    "                \"1-17.\",\n",
    "                \"1-18.\",\n",
    "                \"1-19.\",\n",
    "                \"10-4.\",\n",
    "                \"10-7.\",\n",
    "                \"11-1.\",\n",
    "                \"11-14.\",\n",
    "                \"11-17.\",\n",
    "                \"11-20.\",\n",
    "                \"11-7.\",\n",
    "                \"13-20.\",\n",
    "                \"13-8.\",\n",
    "                \"14-10.\",\n",
    "                \"14-11.\",\n",
    "                \"14-14.\",\n",
    "                \"14-7.\",\n",
    "                \"15-1.\",\n",
    "                \"15-20.\",\n",
    "                \"16-1.\",\n",
    "                \"16-16.\",\n",
    "                \"17-10.\",\n",
    "                \"17-11.\",\n",
    "                \"17-2.\",\n",
    "                \"19-1.\",\n",
    "                \"19-16.\",\n",
    "                \"19-19.\",\n",
    "                \"19-20.\",\n",
    "                \"19-3.\",\n",
    "                \"2-10.\",\n",
    "                \"2-11.\",\n",
    "                \"2-17.\",\n",
    "                \"2-18.\",\n",
    "                \"2-20.\",\n",
    "                \"2-3.\",\n",
    "                \"2-4.\",\n",
    "                \"2-5.\",\n",
    "                \"2-6.\",\n",
    "                \"2-7.\",\n",
    "                \"2-8.\",\n",
    "                \"3-13.\",\n",
    "                \"3-18.\",\n",
    "                \"3-3.\",\n",
    "                \"4-1.\",\n",
    "                \"4-10.\",\n",
    "                \"4-11.\",\n",
    "                \"4-19.\",\n",
    "                \"5-5.\",\n",
    "                \"6-15.\",\n",
    "                \"7-10.\",\n",
    "                \"7-14.\",\n",
    "                \"8-18.\",\n",
    "                \"8-20.\",\n",
    "                \"8-3.\",\n",
    "                \"8-8.\",\n",
    "            ],\n",
    "            \"domains\": [1, 2, 3, 4, 5],\n",
    "            \"num_examples_per_domain_per_label\": -1,\n",
    "            \"pickle_path\": \"/mnt/wd500GB/CSC500/csc500-main/datasets/cores.stratified_ds.2022A.pkl\",\n",
    "            \"source_or_target_dataset\": \"source\",\n",
    "            \"x_transforms\": [\"unit_mag\", \"lowpass_+/-10MHz\", \"take_200\"],\n",
    "            \"episode_transforms\": [],\n",
    "            \"domain_prefix\": \"C_\",\n",
    "        },\n",
    "        {\n",
    "            \"labels\": [\n",
    "                \"3123D52\",\n",
    "                \"3123D65\",\n",
    "                \"3123D79\",\n",
    "                \"3123D80\",\n",
    "                \"3123D54\",\n",
    "                \"3123D70\",\n",
    "                \"3123D7B\",\n",
    "                \"3123D89\",\n",
    "                \"3123D58\",\n",
    "                \"3123D76\",\n",
    "                \"3123D7D\",\n",
    "                \"3123EFE\",\n",
    "                \"3123D64\",\n",
    "                \"3123D78\",\n",
    "                \"3123D7E\",\n",
    "                \"3124E4A\",\n",
    "            ],\n",
    "            \"domains\": [32, 38, 8, 44, 14, 50, 20, 26],\n",
    "            \"num_examples_per_domain_per_label\": 2000,\n",
    "            \"pickle_path\": \"/mnt/wd500GB/CSC500/csc500-main/datasets/oracle.Run1_framed_2000Examples_stratified_ds.2022A.pkl\",\n",
    "            \"source_or_target_dataset\": \"target\",\n",
    "            \"x_transforms\": [\"unit_mag\", \"take_200\", \"resample_20Msps_to_25Msps\"],\n",
    "            \"episode_transforms\": [],\n",
    "            \"domain_prefix\": \"O_\",\n",
    "        },\n",
    "    ],\n",
    "    \"seed\": 500,\n",
    "    \"dataset_seed\": 500,\n",
    "}\n"
   ]
  },
  {
   "cell_type": "code",
   "execution_count": 5,
   "id": "8fa1cc33",
   "metadata": {
    "execution": {
     "iopub.execute_input": "2022-03-25T20:07:06.307330Z",
     "iopub.status.busy": "2022-03-25T20:07:06.307069Z",
     "iopub.status.idle": "2022-03-25T20:07:06.323030Z",
     "shell.execute_reply": "2022-03-25T20:07:06.322640Z"
    },
    "papermill": {
     "duration": 0.034284,
     "end_time": "2022-03-25T20:07:06.323121",
     "exception": false,
     "start_time": "2022-03-25T20:07:06.288837",
     "status": "completed"
    },
    "tags": []
   },
   "outputs": [],
   "source": [
    "# Set this to True if you want to run this template directly\n",
    "STANDALONE = False\n",
    "if STANDALONE:\n",
    "    print(\"parameters not injected, running with standalone_parameters\")\n",
    "    parameters = standalone_parameters\n",
    "\n",
    "if not 'parameters' in locals() and not 'parameters' in globals():\n",
    "    raise Exception(\"Parameter injection failed\")\n",
    "\n",
    "#Use an easy dict for all the parameters\n",
    "p = EasyDict(parameters)\n",
    "\n",
    "if \"x_shape\" not in p:\n",
    "    p.x_shape = [2,256] # Default to this if we dont supply x_shape\n",
    "\n",
    "\n",
    "supplied_keys = set(p.keys())\n",
    "\n",
    "if  supplied_keys != required_parameters:\n",
    "    print(\"Parameters are incorrect\")\n",
    "    if len(supplied_keys - required_parameters)>0: print(\"Shouldn't have:\", str(supplied_keys - required_parameters))\n",
    "    if len(required_parameters - supplied_keys)>0: print(\"Need to have:\", str(required_parameters - supplied_keys))\n",
    "    raise RuntimeError(\"Parameters are incorrect\")"
   ]
  },
  {
   "cell_type": "code",
   "execution_count": 6,
   "id": "3a028d58",
   "metadata": {
    "execution": {
     "iopub.execute_input": "2022-03-25T20:07:06.356402Z",
     "iopub.status.busy": "2022-03-25T20:07:06.356140Z",
     "iopub.status.idle": "2022-03-25T20:07:06.367693Z",
     "shell.execute_reply": "2022-03-25T20:07:06.367891Z"
    },
    "papermill": {
     "duration": 0.026587,
     "end_time": "2022-03-25T20:07:06.368002",
     "exception": false,
     "start_time": "2022-03-25T20:07:06.341415",
     "status": "completed"
    },
    "tags": []
   },
   "outputs": [],
   "source": [
    "###################################\n",
    "# Set the RNGs and make it all deterministic\n",
    "###################################\n",
    "np.random.seed(p.seed)\n",
    "random.seed(p.seed)\n",
    "torch.manual_seed(p.seed)\n",
    "\n",
    "torch.use_deterministic_algorithms(True) "
   ]
  },
  {
   "cell_type": "code",
   "execution_count": 7,
   "id": "b691acf6",
   "metadata": {
    "execution": {
     "iopub.execute_input": "2022-03-25T20:07:06.401313Z",
     "iopub.status.busy": "2022-03-25T20:07:06.400720Z",
     "iopub.status.idle": "2022-03-25T20:07:06.417597Z",
     "shell.execute_reply": "2022-03-25T20:07:06.417963Z"
    },
    "papermill": {
     "duration": 0.032213,
     "end_time": "2022-03-25T20:07:06.418075",
     "exception": false,
     "start_time": "2022-03-25T20:07:06.385862",
     "status": "completed"
    },
    "tags": []
   },
   "outputs": [],
   "source": [
    "###########################################\n",
    "# The stratified datasets honor this\n",
    "###########################################\n",
    "torch.set_default_dtype(eval(p.torch_default_dtype))"
   ]
  },
  {
   "cell_type": "code",
   "execution_count": 8,
   "id": "b5fba671",
   "metadata": {
    "execution": {
     "iopub.execute_input": "2022-03-25T20:07:06.450393Z",
     "iopub.status.busy": "2022-03-25T20:07:06.450143Z",
     "iopub.status.idle": "2022-03-25T20:07:06.487122Z",
     "shell.execute_reply": "2022-03-25T20:07:06.487490Z"
    },
    "papermill": {
     "duration": 0.052618,
     "end_time": "2022-03-25T20:07:06.487594",
     "exception": false,
     "start_time": "2022-03-25T20:07:06.434976",
     "status": "completed"
    },
    "tags": []
   },
   "outputs": [],
   "source": [
    "###################################\n",
    "# Build the network(s)\n",
    "# Note: It's critical to do this AFTER setting the RNG\n",
    "###################################\n",
    "x_net = build_sequential(p.x_net)"
   ]
  },
  {
   "cell_type": "code",
   "execution_count": 9,
   "id": "5d7e61cc",
   "metadata": {
    "execution": {
     "iopub.execute_input": "2022-03-25T20:07:06.521589Z",
     "iopub.status.busy": "2022-03-25T20:07:06.521339Z",
     "iopub.status.idle": "2022-03-25T20:07:06.537739Z",
     "shell.execute_reply": "2022-03-25T20:07:06.537352Z"
    },
    "papermill": {
     "duration": 0.031815,
     "end_time": "2022-03-25T20:07:06.537826",
     "exception": false,
     "start_time": "2022-03-25T20:07:06.506011",
     "status": "completed"
    },
    "tags": []
   },
   "outputs": [],
   "source": [
    "start_time_secs = time.time()"
   ]
  },
  {
   "cell_type": "code",
   "execution_count": 10,
   "id": "c6b67dfd",
   "metadata": {
    "execution": {
     "iopub.execute_input": "2022-03-25T20:07:06.570842Z",
     "iopub.status.busy": "2022-03-25T20:07:06.570589Z",
     "iopub.status.idle": "2022-03-25T20:07:06.585044Z",
     "shell.execute_reply": "2022-03-25T20:07:06.584675Z"
    },
    "papermill": {
     "duration": 0.029839,
     "end_time": "2022-03-25T20:07:06.585125",
     "exception": false,
     "start_time": "2022-03-25T20:07:06.555286",
     "status": "completed"
    },
    "tags": []
   },
   "outputs": [],
   "source": [
    "p.domains_source = []\n",
    "p.domains_target = []\n",
    "\n",
    "\n",
    "train_original_source = []\n",
    "val_original_source   = []\n",
    "test_original_source  = []\n",
    "\n",
    "train_original_target = []\n",
    "val_original_target   = []\n",
    "test_original_target  = []"
   ]
  },
  {
   "cell_type": "code",
   "execution_count": 11,
   "id": "e3d9c3d3",
   "metadata": {
    "execution": {
     "iopub.execute_input": "2022-03-25T20:07:06.615697Z",
     "iopub.status.busy": "2022-03-25T20:07:06.615293Z",
     "iopub.status.idle": "2022-03-25T20:07:06.630795Z",
     "shell.execute_reply": "2022-03-25T20:07:06.630342Z"
    },
    "papermill": {
     "duration": 0.030334,
     "end_time": "2022-03-25T20:07:06.630894",
     "exception": false,
     "start_time": "2022-03-25T20:07:06.600560",
     "status": "completed"
    },
    "tags": []
   },
   "outputs": [],
   "source": [
    "# global_x_transform_func = lambda x: normalize(x.to(torch.get_default_dtype()), \"unit_power\") # unit_power, unit_mag\n",
    "# global_x_transform_func = lambda x: normalize(x, \"unit_power\") # unit_power, unit_mag"
   ]
  },
  {
   "cell_type": "code",
   "execution_count": 12,
   "id": "acb78fd2",
   "metadata": {
    "execution": {
     "iopub.execute_input": "2022-03-25T20:07:06.671512Z",
     "iopub.status.busy": "2022-03-25T20:07:06.671133Z",
     "iopub.status.idle": "2022-03-25T20:07:06.683241Z",
     "shell.execute_reply": "2022-03-25T20:07:06.682754Z"
    },
    "papermill": {
     "duration": 0.03329,
     "end_time": "2022-03-25T20:07:06.683344",
     "exception": false,
     "start_time": "2022-03-25T20:07:06.650054",
     "status": "completed"
    },
    "tags": []
   },
   "outputs": [],
   "source": [
    "def add_dataset(\n",
    "    labels,\n",
    "    domains,\n",
    "    pickle_path,\n",
    "    x_transforms,\n",
    "    episode_transforms,\n",
    "    domain_prefix,\n",
    "    num_examples_per_domain_per_label,\n",
    "    source_or_target_dataset:str,\n",
    "    iterator_seed=p.seed,\n",
    "    dataset_seed=p.dataset_seed,\n",
    "    n_shot=p.n_shot,\n",
    "    n_way=p.n_way,\n",
    "    n_query=p.n_query,\n",
    "    train_val_test_k_factors=(p.train_k_factor,p.val_k_factor,p.test_k_factor),\n",
    "):\n",
    "   \n",
    "    if x_transforms == []: x_transform = None\n",
    "    else: x_transform = get_chained_transform(x_transforms)\n",
    "    \n",
    "    if episode_transforms == []: episode_transform = None\n",
    "    else: raise Exception(\"episode_transforms not implemented\")\n",
    "    \n",
    "    episode_transform = lambda tup, _prefix=domain_prefix: (_prefix + str(tup[0]), tup[1])\n",
    "\n",
    "\n",
    "    eaf = Episodic_Accessor_Factory(\n",
    "        labels=labels,\n",
    "        domains=domains,\n",
    "        num_examples_per_domain_per_label=num_examples_per_domain_per_label,\n",
    "        iterator_seed=iterator_seed,\n",
    "        dataset_seed=dataset_seed,\n",
    "        n_shot=n_shot,\n",
    "        n_way=n_way,\n",
    "        n_query=n_query,\n",
    "        train_val_test_k_factors=train_val_test_k_factors,\n",
    "        pickle_path=pickle_path,\n",
    "        x_transform_func=x_transform,\n",
    "    )\n",
    "\n",
    "    train, val, test = eaf.get_train(), eaf.get_val(), eaf.get_test()\n",
    "    train = Lazy_Iterable_Wrapper(train, episode_transform)\n",
    "    val = Lazy_Iterable_Wrapper(val, episode_transform)\n",
    "    test = Lazy_Iterable_Wrapper(test, episode_transform)\n",
    "\n",
    "    if source_or_target_dataset==\"source\":\n",
    "        train_original_source.append(train)\n",
    "        val_original_source.append(val)\n",
    "        test_original_source.append(test)\n",
    "\n",
    "        p.domains_source.extend(\n",
    "            [domain_prefix + str(u) for u in domains]\n",
    "        )\n",
    "    elif source_or_target_dataset==\"target\":\n",
    "        train_original_target.append(train)\n",
    "        val_original_target.append(val)\n",
    "        test_original_target.append(test)\n",
    "        p.domains_target.extend(\n",
    "            [domain_prefix + str(u) for u in domains]\n",
    "        )\n",
    "    else:\n",
    "        raise Exception(f\"invalid source_or_target_dataset: {source_or_target_dataset}\")\n",
    "    "
   ]
  },
  {
   "cell_type": "code",
   "execution_count": 13,
   "id": "fe266617",
   "metadata": {
    "execution": {
     "iopub.execute_input": "2022-03-25T20:07:06.718480Z",
     "iopub.status.busy": "2022-03-25T20:07:06.718231Z",
     "iopub.status.idle": "2022-03-25T20:07:59.238829Z",
     "shell.execute_reply": "2022-03-25T20:07:59.238386Z"
    },
    "papermill": {
     "duration": 52.536251,
     "end_time": "2022-03-25T20:07:59.238923",
     "exception": false,
     "start_time": "2022-03-25T20:07:06.702672",
     "status": "completed"
    },
    "tags": []
   },
   "outputs": [],
   "source": [
    "for ds in p.datasets:\n",
    "    add_dataset(**ds)"
   ]
  },
  {
   "cell_type": "code",
   "execution_count": 14,
   "id": "b90d65ac",
   "metadata": {
    "execution": {
     "iopub.execute_input": "2022-03-25T20:07:59.272447Z",
     "iopub.status.busy": "2022-03-25T20:07:59.272054Z",
     "iopub.status.idle": "2022-03-25T20:07:59.283685Z",
     "shell.execute_reply": "2022-03-25T20:07:59.283155Z"
    },
    "papermill": {
     "duration": 0.027844,
     "end_time": "2022-03-25T20:07:59.283799",
     "exception": false,
     "start_time": "2022-03-25T20:07:59.255955",
     "status": "completed"
    },
    "tags": []
   },
   "outputs": [],
   "source": [
    "# from steves_utils.CORES.utils import (\n",
    "#     ALL_NODES,\n",
    "#     ALL_NODES_MINIMUM_1000_EXAMPLES,\n",
    "#     ALL_DAYS\n",
    "# )\n",
    "\n",
    "# add_dataset(\n",
    "#     labels=ALL_NODES,\n",
    "#     domains = ALL_DAYS,\n",
    "#     num_examples_per_domain_per_label=100,\n",
    "#     pickle_path=os.path.join(get_datasets_base_path(), \"cores.stratified_ds.2022A.pkl\"),\n",
    "#     source_or_target_dataset=\"target\",\n",
    "#     x_transform_func=global_x_transform_func,\n",
    "#     domain_modifier=lambda u: f\"cores_{u}\"\n",
    "# )"
   ]
  },
  {
   "cell_type": "code",
   "execution_count": 15,
   "id": "76db484d",
   "metadata": {
    "execution": {
     "iopub.execute_input": "2022-03-25T20:07:59.319685Z",
     "iopub.status.busy": "2022-03-25T20:07:59.319416Z",
     "iopub.status.idle": "2022-03-25T20:07:59.335373Z",
     "shell.execute_reply": "2022-03-25T20:07:59.334859Z"
    },
    "papermill": {
     "duration": 0.031936,
     "end_time": "2022-03-25T20:07:59.335483",
     "exception": false,
     "start_time": "2022-03-25T20:07:59.303547",
     "status": "completed"
    },
    "tags": []
   },
   "outputs": [],
   "source": [
    "# from steves_utils.ORACLE.utils_v2 import (\n",
    "#     ALL_DISTANCES_FEET,\n",
    "#     ALL_RUNS,\n",
    "#     ALL_SERIAL_NUMBERS,\n",
    "# )\n",
    "\n",
    "\n",
    "# add_dataset(\n",
    "#     labels=ALL_SERIAL_NUMBERS,\n",
    "#     domains = list(set(ALL_DISTANCES_FEET) - {2,62}),\n",
    "#     num_examples_per_domain_per_label=100,\n",
    "#     pickle_path=os.path.join(get_datasets_base_path(), \"oracle.Run2_framed_2000Examples_stratified_ds.2022A.pkl\"),\n",
    "#     source_or_target_dataset=\"source\",\n",
    "#     x_transform_func=global_x_transform_func,\n",
    "#     domain_modifier=lambda u: f\"oracle1_{u}\"\n",
    "# )\n"
   ]
  },
  {
   "cell_type": "code",
   "execution_count": 16,
   "id": "97dea9d2",
   "metadata": {
    "execution": {
     "iopub.execute_input": "2022-03-25T20:07:59.369625Z",
     "iopub.status.busy": "2022-03-25T20:07:59.369366Z",
     "iopub.status.idle": "2022-03-25T20:07:59.383547Z",
     "shell.execute_reply": "2022-03-25T20:07:59.383091Z"
    },
    "papermill": {
     "duration": 0.030343,
     "end_time": "2022-03-25T20:07:59.383689",
     "exception": false,
     "start_time": "2022-03-25T20:07:59.353346",
     "status": "completed"
    },
    "tags": []
   },
   "outputs": [],
   "source": [
    "# from steves_utils.ORACLE.utils_v2 import (\n",
    "#     ALL_DISTANCES_FEET,\n",
    "#     ALL_RUNS,\n",
    "#     ALL_SERIAL_NUMBERS,\n",
    "# )\n",
    "\n",
    "\n",
    "# add_dataset(\n",
    "#     labels=ALL_SERIAL_NUMBERS,\n",
    "#     domains = list(set(ALL_DISTANCES_FEET) - {2,62,56}),\n",
    "#     num_examples_per_domain_per_label=100,\n",
    "#     pickle_path=os.path.join(get_datasets_base_path(), \"oracle.Run2_framed_2000Examples_stratified_ds.2022A.pkl\"),\n",
    "#     source_or_target_dataset=\"source\",\n",
    "#     x_transform_func=global_x_transform_func,\n",
    "#     domain_modifier=lambda u: f\"oracle2_{u}\"\n",
    "# )"
   ]
  },
  {
   "cell_type": "code",
   "execution_count": 17,
   "id": "6f289866",
   "metadata": {
    "execution": {
     "iopub.execute_input": "2022-03-25T20:07:59.421269Z",
     "iopub.status.busy": "2022-03-25T20:07:59.420718Z",
     "iopub.status.idle": "2022-03-25T20:07:59.435110Z",
     "shell.execute_reply": "2022-03-25T20:07:59.434663Z"
    },
    "papermill": {
     "duration": 0.032398,
     "end_time": "2022-03-25T20:07:59.435218",
     "exception": false,
     "start_time": "2022-03-25T20:07:59.402820",
     "status": "completed"
    },
    "tags": []
   },
   "outputs": [],
   "source": [
    "# add_dataset(\n",
    "#     labels=list(range(19)),\n",
    "#     domains = [0,1,2],\n",
    "#     num_examples_per_domain_per_label=100,\n",
    "#     pickle_path=os.path.join(get_datasets_base_path(), \"metehan.stratified_ds.2022A.pkl\"),\n",
    "#     source_or_target_dataset=\"target\",\n",
    "#     x_transform_func=global_x_transform_func,\n",
    "#     domain_modifier=lambda u: f\"met_{u}\"\n",
    "# )"
   ]
  },
  {
   "cell_type": "code",
   "execution_count": 18,
   "id": "86a863c3",
   "metadata": {
    "execution": {
     "iopub.execute_input": "2022-03-25T20:07:59.473229Z",
     "iopub.status.busy": "2022-03-25T20:07:59.472972Z",
     "iopub.status.idle": "2022-03-25T20:07:59.488508Z",
     "shell.execute_reply": "2022-03-25T20:07:59.488894Z"
    },
    "papermill": {
     "duration": 0.034047,
     "end_time": "2022-03-25T20:07:59.489020",
     "exception": false,
     "start_time": "2022-03-25T20:07:59.454973",
     "status": "completed"
    },
    "tags": []
   },
   "outputs": [],
   "source": [
    "# # from steves_utils.wisig.utils import (\n",
    "# #     ALL_NODES_MINIMUM_100_EXAMPLES,\n",
    "# #     ALL_NODES_MINIMUM_500_EXAMPLES,\n",
    "# #     ALL_NODES_MINIMUM_1000_EXAMPLES,\n",
    "# #     ALL_DAYS\n",
    "# # )\n",
    "\n",
    "# import steves_utils.wisig.utils as wisig\n",
    "\n",
    "\n",
    "# add_dataset(\n",
    "#     labels=wisig.ALL_NODES_MINIMUM_100_EXAMPLES,\n",
    "#     domains = wisig.ALL_DAYS,\n",
    "#     num_examples_per_domain_per_label=100,\n",
    "#     pickle_path=os.path.join(get_datasets_base_path(), \"wisig.node3-19.stratified_ds.2022A.pkl\"),\n",
    "#     source_or_target_dataset=\"target\",\n",
    "#     x_transform_func=global_x_transform_func,\n",
    "#     domain_modifier=lambda u: f\"wisig_{u}\"\n",
    "# )"
   ]
  },
  {
   "cell_type": "code",
   "execution_count": 19,
   "id": "fd5442bc",
   "metadata": {
    "execution": {
     "iopub.execute_input": "2022-03-25T20:07:59.527126Z",
     "iopub.status.busy": "2022-03-25T20:07:59.526858Z",
     "iopub.status.idle": "2022-03-25T20:07:59.543883Z",
     "shell.execute_reply": "2022-03-25T20:07:59.544099Z"
    },
    "papermill": {
     "duration": 0.036703,
     "end_time": "2022-03-25T20:07:59.544171",
     "exception": false,
     "start_time": "2022-03-25T20:07:59.507468",
     "status": "completed"
    },
    "tags": []
   },
   "outputs": [],
   "source": [
    "###################################\n",
    "# Build the dataset\n",
    "###################################\n",
    "train_original_source = Iterable_Aggregator(train_original_source, p.seed)\n",
    "val_original_source = Iterable_Aggregator(val_original_source, p.seed)\n",
    "test_original_source = Iterable_Aggregator(test_original_source, p.seed)\n",
    "\n",
    "\n",
    "train_original_target = Iterable_Aggregator(train_original_target, p.seed)\n",
    "val_original_target = Iterable_Aggregator(val_original_target, p.seed)\n",
    "test_original_target = Iterable_Aggregator(test_original_target, p.seed)\n",
    "\n",
    "# For CNN We only use X and Y. And we only train on the source.\n",
    "# Properly form the data using a transform lambda and Lazy_Iterable_Wrapper. Finally wrap them in a dataloader\n",
    "\n",
    "transform_lambda = lambda ex: ex[1] # Original is (<domain>, <episode>) so we strip down to episode only\n",
    "\n",
    "train_processed_source = Lazy_Iterable_Wrapper(train_original_source, transform_lambda)\n",
    "val_processed_source   = Lazy_Iterable_Wrapper(val_original_source, transform_lambda)\n",
    "test_processed_source  = Lazy_Iterable_Wrapper(test_original_source, transform_lambda)\n",
    "\n",
    "train_processed_target = Lazy_Iterable_Wrapper(train_original_target, transform_lambda)\n",
    "val_processed_target   = Lazy_Iterable_Wrapper(val_original_target, transform_lambda)\n",
    "test_processed_target  = Lazy_Iterable_Wrapper(test_original_target, transform_lambda)\n",
    "\n",
    "datasets = EasyDict({\n",
    "    \"source\": {\n",
    "        \"original\": {\"train\":train_original_source, \"val\":val_original_source, \"test\":test_original_source},\n",
    "        \"processed\": {\"train\":train_processed_source, \"val\":val_processed_source, \"test\":test_processed_source}\n",
    "    },\n",
    "    \"target\": {\n",
    "        \"original\": {\"train\":train_original_target, \"val\":val_original_target, \"test\":test_original_target},\n",
    "        \"processed\": {\"train\":train_processed_target, \"val\":val_processed_target, \"test\":test_processed_target}\n",
    "    },\n",
    "})"
   ]
  },
  {
   "cell_type": "code",
   "execution_count": 20,
   "id": "5b3c01fc",
   "metadata": {
    "execution": {
     "iopub.execute_input": "2022-03-25T20:07:59.575541Z",
     "iopub.status.busy": "2022-03-25T20:07:59.575280Z",
     "iopub.status.idle": "2022-03-25T20:08:06.528286Z",
     "shell.execute_reply": "2022-03-25T20:08:06.528634Z"
    },
    "papermill": {
     "duration": 6.97055,
     "end_time": "2022-03-25T20:08:06.528745",
     "exception": false,
     "start_time": "2022-03-25T20:07:59.558195",
     "status": "completed"
    },
    "tags": []
   },
   "outputs": [
    {
     "name": "stdout",
     "output_type": "stream",
     "text": [
      "{'C_3', 'C_2', 'C_5', 'C_1', 'C_4'}\n"
     ]
    },
    {
     "name": "stdout",
     "output_type": "stream",
     "text": [
      "{'O_32', 'O_20', 'O_8', 'O_26', 'O_14', 'O_38', 'O_44', 'O_50'}\n"
     ]
    },
    {
     "name": "stdout",
     "output_type": "stream",
     "text": [
      "tensor([[[-9.3106e-03, -6.4349e-02, -2.0105e-01,  ...,  7.5541e-01,\n",
      "           1.6659e+00,  1.6080e+00],\n",
      "         [-5.4628e-03, -3.1112e-02, -3.0857e-02,  ..., -1.1108e+00,\n",
      "          -1.5786e+00, -4.1334e-01]],\n",
      "\n",
      "        [[-1.5968e-02, -1.4147e-01, -5.0094e-01,  ...,  1.8956e+00,\n",
      "           5.0639e-01, -3.4334e-01],\n",
      "         [-7.9839e-03, -7.8642e-02, -3.3202e-01,  ...,  1.1545e+00,\n",
      "           1.0692e+00, -1.7551e-01]],\n",
      "\n",
      "        [[-1.0347e-02, -6.7947e-02, -1.8063e-01,  ..., -9.7554e-02,\n",
      "           5.8005e-01,  1.0082e+00],\n",
      "         [-6.5934e-04,  8.6167e-03,  1.1647e-01,  ..., -1.6455e+00,\n",
      "          -2.1912e+00, -9.1857e-01]],\n",
      "\n",
      "        ...,\n",
      "\n",
      "        [[-8.4850e-03, -8.7120e-02, -2.7770e-01,  ...,  2.4320e-01,\n",
      "           3.7190e-01,  4.8743e-01],\n",
      "         [ 2.0217e-02,  8.6903e-02,  1.2777e-02,  ..., -6.4645e-01,\n",
      "          -8.7056e-02, -6.3019e-01]],\n",
      "\n",
      "        [[-2.4689e-02, -1.4088e-01, -2.1005e-01,  ...,  4.9378e-01,\n",
      "           3.4367e-01,  8.8522e-01],\n",
      "         [-3.3619e-03, -7.0103e-02, -3.1537e-01,  ..., -3.8740e-01,\n",
      "           2.1473e-01, -3.9035e-01]],\n",
      "\n",
      "        [[ 0.0000e+00, -1.7810e-03, -1.4009e-02,  ..., -2.7003e-01,\n",
      "          -1.2463e+00, -5.8599e-01],\n",
      "         [-5.3431e-03, -3.4775e-02, -8.9356e-02,  ...,  1.8876e+00,\n",
      "           5.6786e-01, -1.4295e+00]]])\n"
     ]
    }
   ],
   "source": [
    "from steves_utils.transforms import get_average_magnitude, get_average_power\n",
    "\n",
    "print(set([u for u,_ in val_original_source]))\n",
    "print(set([u for u,_ in val_original_target]))\n",
    "\n",
    "s_x, s_y, q_x, q_y, _ = next(iter(train_processed_source))\n",
    "print(s_x)\n",
    "\n",
    "# for ds in [\n",
    "#     train_processed_source,\n",
    "#     val_processed_source,\n",
    "#     test_processed_source,\n",
    "#     train_processed_target,\n",
    "#     val_processed_target,\n",
    "#     test_processed_target\n",
    "# ]:\n",
    "#     for s_x, s_y, q_x, q_y, _ in ds:\n",
    "#         for X in (s_x, q_x):\n",
    "#             for x in X:\n",
    "#                 assert np.isclose(get_average_magnitude(x.numpy()), 1.0)\n",
    "#                 assert np.isclose(get_average_power(x.numpy()), 1.0)\n",
    "                "
   ]
  },
  {
   "cell_type": "code",
   "execution_count": 21,
   "id": "bbdacba1",
   "metadata": {
    "execution": {
     "iopub.execute_input": "2022-03-25T20:08:06.564585Z",
     "iopub.status.busy": "2022-03-25T20:08:06.564314Z",
     "iopub.status.idle": "2022-03-25T20:08:06.616186Z",
     "shell.execute_reply": "2022-03-25T20:08:06.616617Z"
    },
    "papermill": {
     "duration": 0.070505,
     "end_time": "2022-03-25T20:08:06.616755",
     "exception": false,
     "start_time": "2022-03-25T20:08:06.546250",
     "status": "completed"
    },
    "tags": []
   },
   "outputs": [
    {
     "name": "stdout",
     "output_type": "stream",
     "text": [
      "(2, 200)\n"
     ]
    }
   ],
   "source": [
    "###################################\n",
    "# Build the model\n",
    "###################################\n",
    "# easfsl only wants a tuple for the shape\n",
    "model = Steves_Prototypical_Network(x_net, device=p.device, x_shape=tuple(p.x_shape))\n",
    "optimizer = Adam(params=model.parameters(), lr=p.lr)"
   ]
  },
  {
   "cell_type": "code",
   "execution_count": 22,
   "id": "22b39ac5",
   "metadata": {
    "execution": {
     "iopub.execute_input": "2022-03-25T20:08:06.654765Z",
     "iopub.status.busy": "2022-03-25T20:08:06.654500Z",
     "iopub.status.idle": "2022-03-25T20:53:08.533958Z",
     "shell.execute_reply": "2022-03-25T20:53:08.533717Z"
    },
    "papermill": {
     "duration": 2701.897484,
     "end_time": "2022-03-25T20:53:08.534024",
     "exception": false,
     "start_time": "2022-03-25T20:08:06.636540",
     "status": "completed"
    },
    "tags": []
   },
   "outputs": [
    {
     "name": "stdout",
     "output_type": "stream",
     "text": [
      "epoch: 1, [batch: 1 / 6317], examples_per_second: 48.9953, train_label_loss: 2.5957, \n"
     ]
    },
    {
     "name": "stdout",
     "output_type": "stream",
     "text": [
      "epoch: 1, [batch: 632 / 6317], examples_per_second: 1875.5719, train_label_loss: 0.0200, \n"
     ]
    },
    {
     "name": "stdout",
     "output_type": "stream",
     "text": [
      "epoch: 1, [batch: 1264 / 6317], examples_per_second: 1873.7879, train_label_loss: 0.0025, \n"
     ]
    },
    {
     "name": "stdout",
     "output_type": "stream",
     "text": [
      "epoch: 1, [batch: 1895 / 6317], examples_per_second: 1875.1148, train_label_loss: 0.0061, \n"
     ]
    },
    {
     "name": "stdout",
     "output_type": "stream",
     "text": [
      "epoch: 1, [batch: 2527 / 6317], examples_per_second: 2196.1708, train_label_loss: 0.0151, \n"
     ]
    },
    {
     "name": "stdout",
     "output_type": "stream",
     "text": [
      "epoch: 1, [batch: 3159 / 6317], examples_per_second: 2402.7889, train_label_loss: 0.0023, \n"
     ]
    },
    {
     "name": "stdout",
     "output_type": "stream",
     "text": [
      "epoch: 1, [batch: 3790 / 6317], examples_per_second: 1875.6617, train_label_loss: 0.0003, \n"
     ]
    },
    {
     "name": "stdout",
     "output_type": "stream",
     "text": [
      "epoch: 1, [batch: 4422 / 6317], examples_per_second: 1871.0645, train_label_loss: 0.0001, \n"
     ]
    },
    {
     "name": "stdout",
     "output_type": "stream",
     "text": [
      "epoch: 1, [batch: 5053 / 6317], examples_per_second: 1875.4673, train_label_loss: 0.0013, \n"
     ]
    },
    {
     "name": "stdout",
     "output_type": "stream",
     "text": [
      "epoch: 1, [batch: 5685 / 6317], examples_per_second: 1879.5013, train_label_loss: 0.0049, \n"
     ]
    },
    {
     "name": "stdout",
     "output_type": "stream",
     "text": [
      "=============================================================\n",
      "epoch: 1, source_val_acc_label: 0.9988, target_val_acc_label: 0.2505, source_val_label_loss: 0.0054, target_val_label_loss: 2.5644, \n",
      "=============================================================\n"
     ]
    },
    {
     "name": "stdout",
     "output_type": "stream",
     "text": [
      "New best\n"
     ]
    },
    {
     "name": "stdout",
     "output_type": "stream",
     "text": [
      "epoch: 2, [batch: 1 / 6315], examples_per_second: 2.8100, train_label_loss: 0.0000, \n"
     ]
    },
    {
     "name": "stdout",
     "output_type": "stream",
     "text": [
      "epoch: 2, [batch: 632 / 6315], examples_per_second: 1875.5615, train_label_loss: 0.0132, \n"
     ]
    },
    {
     "name": "stdout",
     "output_type": "stream",
     "text": [
      "epoch: 2, [batch: 1263 / 6315], examples_per_second: 1876.6785, train_label_loss: 0.0004, \n"
     ]
    },
    {
     "name": "stdout",
     "output_type": "stream",
     "text": [
      "epoch: 2, [batch: 1895 / 6315], examples_per_second: 1877.3464, train_label_loss: 0.0000, \n"
     ]
    },
    {
     "name": "stdout",
     "output_type": "stream",
     "text": [
      "epoch: 2, [batch: 2526 / 6315], examples_per_second: 2191.9905, train_label_loss: 0.0005, \n"
     ]
    },
    {
     "name": "stdout",
     "output_type": "stream",
     "text": [
      "epoch: 2, [batch: 3158 / 6315], examples_per_second: 2406.1055, train_label_loss: 0.0000, \n"
     ]
    },
    {
     "name": "stdout",
     "output_type": "stream",
     "text": [
      "epoch: 2, [batch: 3789 / 6315], examples_per_second: 1876.1228, train_label_loss: 0.0000, \n"
     ]
    },
    {
     "name": "stdout",
     "output_type": "stream",
     "text": [
      "epoch: 2, [batch: 4420 / 6315], examples_per_second: 1872.0165, train_label_loss: 0.0002, \n"
     ]
    },
    {
     "name": "stdout",
     "output_type": "stream",
     "text": [
      "epoch: 2, [batch: 5052 / 6315], examples_per_second: 1878.1551, train_label_loss: 0.0000, \n"
     ]
    },
    {
     "name": "stdout",
     "output_type": "stream",
     "text": [
      "epoch: 2, [batch: 5683 / 6315], examples_per_second: 1882.2219, train_label_loss: 0.0000, \n"
     ]
    },
    {
     "name": "stdout",
     "output_type": "stream",
     "text": [
      "=============================================================\n",
      "epoch: 2, source_val_acc_label: 0.9987, target_val_acc_label: 0.2756, source_val_label_loss: 0.0078, target_val_label_loss: 2.6347, \n",
      "=============================================================\n"
     ]
    },
    {
     "name": "stdout",
     "output_type": "stream",
     "text": [
      "New best\n"
     ]
    },
    {
     "name": "stdout",
     "output_type": "stream",
     "text": [
      "epoch: 3, [batch: 1 / 6325], examples_per_second: 2.8187, train_label_loss: 0.0000, \n"
     ]
    },
    {
     "name": "stdout",
     "output_type": "stream",
     "text": [
      "epoch: 3, [batch: 633 / 6325], examples_per_second: 1876.9233, train_label_loss: 0.0000, \n"
     ]
    },
    {
     "name": "stdout",
     "output_type": "stream",
     "text": [
      "epoch: 3, [batch: 1265 / 6325], examples_per_second: 1877.7218, train_label_loss: 0.1379, \n"
     ]
    },
    {
     "name": "stdout",
     "output_type": "stream",
     "text": [
      "epoch: 3, [batch: 1898 / 6325], examples_per_second: 1875.3766, train_label_loss: 0.0000, \n"
     ]
    },
    {
     "name": "stdout",
     "output_type": "stream",
     "text": [
      "epoch: 3, [batch: 2530 / 6325], examples_per_second: 2167.1061, train_label_loss: 0.0001, \n"
     ]
    },
    {
     "name": "stdout",
     "output_type": "stream",
     "text": [
      "epoch: 3, [batch: 3163 / 6325], examples_per_second: 2333.7438, train_label_loss: 0.0000, \n"
     ]
    },
    {
     "name": "stdout",
     "output_type": "stream",
     "text": [
      "epoch: 3, [batch: 3795 / 6325], examples_per_second: 2373.0174, train_label_loss: 0.0000, \n"
     ]
    },
    {
     "name": "stdout",
     "output_type": "stream",
     "text": [
      "epoch: 3, [batch: 4427 / 6325], examples_per_second: 2371.1775, train_label_loss: 0.0000, \n"
     ]
    },
    {
     "name": "stdout",
     "output_type": "stream",
     "text": [
      "epoch: 3, [batch: 5060 / 6325], examples_per_second: 2244.2641, train_label_loss: 0.0000, \n"
     ]
    },
    {
     "name": "stdout",
     "output_type": "stream",
     "text": [
      "epoch: 3, [batch: 5692 / 6325], examples_per_second: 2236.1378, train_label_loss: 0.0000, \n"
     ]
    },
    {
     "name": "stdout",
     "output_type": "stream",
     "text": [
      "=============================================================\n",
      "epoch: 3, source_val_acc_label: 0.9993, target_val_acc_label: 0.3094, source_val_label_loss: 0.0055, target_val_label_loss: 2.4492, \n",
      "=============================================================\n"
     ]
    },
    {
     "name": "stdout",
     "output_type": "stream",
     "text": [
      "New best\n"
     ]
    },
    {
     "name": "stdout",
     "output_type": "stream",
     "text": [
      "epoch: 4, [batch: 1 / 6307], examples_per_second: 5.0862, train_label_loss: 0.0000, \n"
     ]
    },
    {
     "name": "stdout",
     "output_type": "stream",
     "text": [
      "epoch: 4, [batch: 631 / 6307], examples_per_second: 3600.4910, train_label_loss: 0.0000, \n"
     ]
    },
    {
     "name": "stdout",
     "output_type": "stream",
     "text": [
      "epoch: 4, [batch: 1262 / 6307], examples_per_second: 3590.1948, train_label_loss: 0.0000, \n"
     ]
    },
    {
     "name": "stdout",
     "output_type": "stream",
     "text": [
      "epoch: 4, [batch: 1892 / 6307], examples_per_second: 3626.3445, train_label_loss: 0.0000, \n"
     ]
    },
    {
     "name": "stdout",
     "output_type": "stream",
     "text": [
      "epoch: 4, [batch: 2523 / 6307], examples_per_second: 3140.3054, train_label_loss: 0.0000, \n"
     ]
    },
    {
     "name": "stdout",
     "output_type": "stream",
     "text": [
      "epoch: 4, [batch: 3154 / 6307], examples_per_second: 1873.9619, train_label_loss: 0.0000, \n"
     ]
    },
    {
     "name": "stdout",
     "output_type": "stream",
     "text": [
      "epoch: 4, [batch: 3784 / 6307], examples_per_second: 1876.4012, train_label_loss: 0.0000, \n"
     ]
    },
    {
     "name": "stdout",
     "output_type": "stream",
     "text": [
      "epoch: 4, [batch: 4415 / 6307], examples_per_second: 1871.2048, train_label_loss: 0.0004, \n"
     ]
    },
    {
     "name": "stdout",
     "output_type": "stream",
     "text": [
      "epoch: 4, [batch: 5045 / 6307], examples_per_second: 1880.0623, train_label_loss: 0.0000, \n"
     ]
    },
    {
     "name": "stdout",
     "output_type": "stream",
     "text": [
      "epoch: 4, [batch: 5676 / 6307], examples_per_second: 1873.2912, train_label_loss: 0.0000, \n"
     ]
    },
    {
     "name": "stdout",
     "output_type": "stream",
     "text": [
      "=============================================================\n",
      "epoch: 4, source_val_acc_label: 0.9989, target_val_acc_label: 0.2650, source_val_label_loss: 0.0069, target_val_label_loss: 3.1697, \n",
      "=============================================================\n"
     ]
    },
    {
     "name": "stdout",
     "output_type": "stream",
     "text": [
      "epoch: 5, [batch: 1 / 6302], examples_per_second: 2.7893, train_label_loss: 0.0011, \n"
     ]
    },
    {
     "name": "stdout",
     "output_type": "stream",
     "text": [
      "epoch: 5, [batch: 631 / 6302], examples_per_second: 1823.6144, train_label_loss: 0.0000, \n"
     ]
    },
    {
     "name": "stdout",
     "output_type": "stream",
     "text": [
      "epoch: 5, [batch: 1261 / 6302], examples_per_second: 1812.7036, train_label_loss: 0.0002, \n"
     ]
    },
    {
     "name": "stdout",
     "output_type": "stream",
     "text": [
      "epoch: 5, [batch: 1891 / 6302], examples_per_second: 2048.2128, train_label_loss: 0.0000, \n"
     ]
    },
    {
     "name": "stdout",
     "output_type": "stream",
     "text": [
      "epoch: 5, [batch: 2521 / 6302], examples_per_second: 2462.5098, train_label_loss: 0.0000, \n"
     ]
    },
    {
     "name": "stdout",
     "output_type": "stream",
     "text": [
      "epoch: 5, [batch: 3151 / 6302], examples_per_second: 1853.5460, train_label_loss: 0.0000, \n"
     ]
    },
    {
     "name": "stdout",
     "output_type": "stream",
     "text": [
      "epoch: 5, [batch: 3781 / 6302], examples_per_second: 1854.0997, train_label_loss: 0.0002, \n"
     ]
    },
    {
     "name": "stdout",
     "output_type": "stream",
     "text": [
      "epoch: 5, [batch: 4411 / 6302], examples_per_second: 1853.7832, train_label_loss: 0.0007, \n"
     ]
    },
    {
     "name": "stdout",
     "output_type": "stream",
     "text": [
      "epoch: 5, [batch: 5041 / 6302], examples_per_second: 1854.3293, train_label_loss: 0.0007, \n"
     ]
    },
    {
     "name": "stdout",
     "output_type": "stream",
     "text": [
      "epoch: 5, [batch: 5671 / 6302], examples_per_second: 1823.4352, train_label_loss: 0.0000, \n"
     ]
    },
    {
     "name": "stdout",
     "output_type": "stream",
     "text": [
      "=============================================================\n",
      "epoch: 5, source_val_acc_label: 0.9995, target_val_acc_label: 0.2952, source_val_label_loss: 0.0047, target_val_label_loss: 2.8308, \n",
      "=============================================================\n"
     ]
    },
    {
     "name": "stdout",
     "output_type": "stream",
     "text": [
      "epoch: 6, [batch: 1 / 6311], examples_per_second: 2.7354, train_label_loss: 0.0000, \n"
     ]
    },
    {
     "name": "stdout",
     "output_type": "stream",
     "text": [
      "epoch: 6, [batch: 632 / 6311], examples_per_second: 1815.5027, train_label_loss: 0.0000, \n"
     ]
    },
    {
     "name": "stdout",
     "output_type": "stream",
     "text": [
      "epoch: 6, [batch: 1263 / 6311], examples_per_second: 1835.5500, train_label_loss: 0.0000, \n"
     ]
    },
    {
     "name": "stdout",
     "output_type": "stream",
     "text": [
      "epoch: 6, [batch: 1894 / 6311], examples_per_second: 2056.9419, train_label_loss: 0.0000, \n"
     ]
    },
    {
     "name": "stdout",
     "output_type": "stream",
     "text": [
      "epoch: 6, [batch: 2525 / 6311], examples_per_second: 2504.5897, train_label_loss: 0.0000, \n"
     ]
    },
    {
     "name": "stdout",
     "output_type": "stream",
     "text": [
      "epoch: 6, [batch: 3156 / 6311], examples_per_second: 1846.1865, train_label_loss: 0.0000, \n"
     ]
    },
    {
     "name": "stdout",
     "output_type": "stream",
     "text": [
      "epoch: 6, [batch: 3787 / 6311], examples_per_second: 1839.3429, train_label_loss: 0.0000, \n"
     ]
    },
    {
     "name": "stdout",
     "output_type": "stream",
     "text": [
      "epoch: 6, [batch: 4418 / 6311], examples_per_second: 1837.7222, train_label_loss: 0.0000, \n"
     ]
    },
    {
     "name": "stdout",
     "output_type": "stream",
     "text": [
      "epoch: 6, [batch: 5049 / 6311], examples_per_second: 1857.7339, train_label_loss: 0.0001, \n"
     ]
    },
    {
     "name": "stdout",
     "output_type": "stream",
     "text": [
      "epoch: 6, [batch: 5680 / 6311], examples_per_second: 1854.2371, train_label_loss: 0.0000, \n"
     ]
    },
    {
     "name": "stdout",
     "output_type": "stream",
     "text": [
      "=============================================================\n",
      "epoch: 6, source_val_acc_label: 0.9994, target_val_acc_label: 0.3201, source_val_label_loss: 0.0051, target_val_label_loss: 2.5697, \n",
      "=============================================================\n"
     ]
    },
    {
     "name": "stdout",
     "output_type": "stream",
     "text": [
      "New best\n"
     ]
    },
    {
     "name": "stdout",
     "output_type": "stream",
     "text": [
      "epoch: 7, [batch: 1 / 6310], examples_per_second: 2.7914, train_label_loss: 0.0000, \n"
     ]
    },
    {
     "name": "stdout",
     "output_type": "stream",
     "text": [
      "epoch: 7, [batch: 631 / 6310], examples_per_second: 1854.1756, train_label_loss: 0.0000, \n"
     ]
    },
    {
     "name": "stdout",
     "output_type": "stream",
     "text": [
      "epoch: 7, [batch: 1262 / 6310], examples_per_second: 1849.2568, train_label_loss: 0.0000, \n"
     ]
    },
    {
     "name": "stdout",
     "output_type": "stream",
     "text": [
      "epoch: 7, [batch: 1893 / 6310], examples_per_second: 2055.7865, train_label_loss: 0.0000, \n"
     ]
    },
    {
     "name": "stdout",
     "output_type": "stream",
     "text": [
      "epoch: 7, [batch: 2524 / 6310], examples_per_second: 2505.5158, train_label_loss: 0.0000, \n"
     ]
    },
    {
     "name": "stdout",
     "output_type": "stream",
     "text": [
      "epoch: 7, [batch: 3155 / 6310], examples_per_second: 1841.9079, train_label_loss: 0.0000, \n"
     ]
    },
    {
     "name": "stdout",
     "output_type": "stream",
     "text": [
      "epoch: 7, [batch: 3786 / 6310], examples_per_second: 1843.7540, train_label_loss: 0.0000, \n"
     ]
    },
    {
     "name": "stdout",
     "output_type": "stream",
     "text": [
      "epoch: 7, [batch: 4417 / 6310], examples_per_second: 1853.4806, train_label_loss: 0.0000, \n"
     ]
    },
    {
     "name": "stdout",
     "output_type": "stream",
     "text": [
      "epoch: 7, [batch: 5048 / 6310], examples_per_second: 1861.1360, train_label_loss: 0.0000, \n"
     ]
    },
    {
     "name": "stdout",
     "output_type": "stream",
     "text": [
      "epoch: 7, [batch: 5679 / 6310], examples_per_second: 1854.1873, train_label_loss: 0.0000, \n"
     ]
    },
    {
     "name": "stdout",
     "output_type": "stream",
     "text": [
      "=============================================================\n",
      "epoch: 7, source_val_acc_label: 0.9995, target_val_acc_label: 0.2837, source_val_label_loss: 0.0053, target_val_label_loss: 3.6073, \n",
      "=============================================================\n"
     ]
    },
    {
     "name": "stdout",
     "output_type": "stream",
     "text": [
      "epoch: 8, [batch: 1 / 6331], examples_per_second: 2.7963, train_label_loss: 0.0000, \n"
     ]
    },
    {
     "name": "stdout",
     "output_type": "stream",
     "text": [
      "epoch: 8, [batch: 634 / 6331], examples_per_second: 1855.2324, train_label_loss: 0.0000, \n"
     ]
    },
    {
     "name": "stdout",
     "output_type": "stream",
     "text": [
      "epoch: 8, [batch: 1267 / 6331], examples_per_second: 1856.0984, train_label_loss: 0.0000, \n"
     ]
    },
    {
     "name": "stdout",
     "output_type": "stream",
     "text": [
      "epoch: 8, [batch: 1900 / 6331], examples_per_second: 2065.8799, train_label_loss: 0.0000, \n"
     ]
    },
    {
     "name": "stdout",
     "output_type": "stream",
     "text": [
      "epoch: 8, [batch: 2533 / 6331], examples_per_second: 2507.1523, train_label_loss: 0.0000, \n"
     ]
    },
    {
     "name": "stdout",
     "output_type": "stream",
     "text": [
      "epoch: 8, [batch: 3166 / 6331], examples_per_second: 1857.8882, train_label_loss: 0.0000, \n"
     ]
    },
    {
     "name": "stdout",
     "output_type": "stream",
     "text": [
      "epoch: 8, [batch: 3799 / 6331], examples_per_second: 1837.8388, train_label_loss: 0.0000, \n"
     ]
    },
    {
     "name": "stdout",
     "output_type": "stream",
     "text": [
      "epoch: 8, [batch: 4432 / 6331], examples_per_second: 1874.0760, train_label_loss: 0.1741, \n"
     ]
    },
    {
     "name": "stdout",
     "output_type": "stream",
     "text": [
      "epoch: 8, [batch: 5065 / 6331], examples_per_second: 1882.1611, train_label_loss: 0.0000, \n"
     ]
    },
    {
     "name": "stdout",
     "output_type": "stream",
     "text": [
      "epoch: 8, [batch: 5698 / 6331], examples_per_second: 1879.8674, train_label_loss: 0.0000, \n"
     ]
    },
    {
     "name": "stdout",
     "output_type": "stream",
     "text": [
      "=============================================================\n",
      "epoch: 8, source_val_acc_label: 0.9994, target_val_acc_label: 0.2858, source_val_label_loss: 0.0074, target_val_label_loss: 3.7504, \n",
      "=============================================================\n"
     ]
    },
    {
     "name": "stdout",
     "output_type": "stream",
     "text": [
      "epoch: 9, [batch: 1 / 6311], examples_per_second: 2.8501, train_label_loss: 0.0000, \n"
     ]
    },
    {
     "name": "stdout",
     "output_type": "stream",
     "text": [
      "epoch: 9, [batch: 632 / 6311], examples_per_second: 1878.2144, train_label_loss: 0.0000, \n"
     ]
    },
    {
     "name": "stdout",
     "output_type": "stream",
     "text": [
      "epoch: 9, [batch: 1263 / 6311], examples_per_second: 1876.0076, train_label_loss: 0.0000, \n"
     ]
    },
    {
     "name": "stdout",
     "output_type": "stream",
     "text": [
      "epoch: 9, [batch: 1894 / 6311], examples_per_second: 2077.9904, train_label_loss: 0.0000, \n"
     ]
    },
    {
     "name": "stdout",
     "output_type": "stream",
     "text": [
      "epoch: 9, [batch: 2525 / 6311], examples_per_second: 2371.6697, train_label_loss: 0.0000, \n"
     ]
    },
    {
     "name": "stdout",
     "output_type": "stream",
     "text": [
      "epoch: 9, [batch: 3156 / 6311], examples_per_second: 2379.0188, train_label_loss: 0.0000, \n"
     ]
    },
    {
     "name": "stdout",
     "output_type": "stream",
     "text": [
      "epoch: 9, [batch: 3787 / 6311], examples_per_second: 2341.8221, train_label_loss: 0.0000, \n"
     ]
    },
    {
     "name": "stdout",
     "output_type": "stream",
     "text": [
      "epoch: 9, [batch: 4418 / 6311], examples_per_second: 2247.7123, train_label_loss: 0.0000, \n"
     ]
    },
    {
     "name": "stdout",
     "output_type": "stream",
     "text": [
      "epoch: 9, [batch: 5049 / 6311], examples_per_second: 2224.5379, train_label_loss: 0.0000, \n"
     ]
    },
    {
     "name": "stdout",
     "output_type": "stream",
     "text": [
      "epoch: 9, [batch: 5680 / 6311], examples_per_second: 3028.2076, train_label_loss: 0.0000, \n"
     ]
    },
    {
     "name": "stdout",
     "output_type": "stream",
     "text": [
      "=============================================================\n",
      "epoch: 9, source_val_acc_label: 0.9993, target_val_acc_label: 0.2776, source_val_label_loss: 0.0071, target_val_label_loss: 4.0525, \n",
      "=============================================================\n"
     ]
    },
    {
     "name": "stdout",
     "output_type": "stream",
     "text": [
      "epoch: 10, [batch: 1 / 6309], examples_per_second: 5.3247, train_label_loss: 0.0000, \n"
     ]
    },
    {
     "name": "stdout",
     "output_type": "stream",
     "text": [
      "epoch: 10, [batch: 631 / 6309], examples_per_second: 3593.1954, train_label_loss: 0.0000, \n"
     ]
    },
    {
     "name": "stdout",
     "output_type": "stream",
     "text": [
      "epoch: 10, [batch: 1262 / 6309], examples_per_second: 3820.0575, train_label_loss: 0.0000, \n"
     ]
    },
    {
     "name": "stdout",
     "output_type": "stream",
     "text": [
      "epoch: 10, [batch: 1893 / 6309], examples_per_second: 3840.2439, train_label_loss: 0.0000, \n"
     ]
    },
    {
     "name": "stdout",
     "output_type": "stream",
     "text": [
      "epoch: 10, [batch: 2524 / 6309], examples_per_second: 3827.5499, train_label_loss: 0.0000, \n"
     ]
    },
    {
     "name": "stdout",
     "output_type": "stream",
     "text": [
      "epoch: 10, [batch: 3155 / 6309], examples_per_second: 3854.5320, train_label_loss: 0.0000, \n"
     ]
    },
    {
     "name": "stdout",
     "output_type": "stream",
     "text": [
      "epoch: 10, [batch: 3785 / 6309], examples_per_second: 3010.9096, train_label_loss: 0.0000, \n"
     ]
    },
    {
     "name": "stdout",
     "output_type": "stream",
     "text": [
      "epoch: 10, [batch: 4416 / 6309], examples_per_second: 1865.0226, train_label_loss: 0.0000, \n"
     ]
    },
    {
     "name": "stdout",
     "output_type": "stream",
     "text": [
      "epoch: 10, [batch: 5047 / 6309], examples_per_second: 1868.3725, train_label_loss: 0.0000, \n"
     ]
    },
    {
     "name": "stdout",
     "output_type": "stream",
     "text": [
      "epoch: 10, [batch: 5678 / 6309], examples_per_second: 1868.6378, train_label_loss: 0.0000, \n"
     ]
    },
    {
     "name": "stdout",
     "output_type": "stream",
     "text": [
      "=============================================================\n",
      "epoch: 10, source_val_acc_label: 0.9994, target_val_acc_label: 0.2504, source_val_label_loss: 0.0076, target_val_label_loss: 5.3403, \n",
      "=============================================================\n"
     ]
    },
    {
     "name": "stdout",
     "output_type": "stream",
     "text": [
      "Patience (3) exhausted\n"
     ]
    }
   ],
   "source": [
    "###################################\n",
    "# train\n",
    "###################################\n",
    "jig = PTN_Train_Eval_Test_Jig(model, p.BEST_MODEL_PATH, p.device)\n",
    "\n",
    "jig.train(\n",
    "    train_iterable=datasets.source.processed.train,\n",
    "    source_val_iterable=datasets.source.processed.val,\n",
    "    target_val_iterable=datasets.target.processed.val,\n",
    "    num_epochs=p.n_epoch,\n",
    "    num_logs_per_epoch=p.NUM_LOGS_PER_EPOCH,\n",
    "    patience=p.patience,\n",
    "    optimizer=optimizer,\n",
    "    criteria_for_best=p.criteria_for_best,\n",
    ")"
   ]
  },
  {
   "cell_type": "code",
   "execution_count": 23,
   "id": "31e8fabf",
   "metadata": {
    "execution": {
     "iopub.execute_input": "2022-03-25T20:53:08.606706Z",
     "iopub.status.busy": "2022-03-25T20:53:08.605598Z",
     "iopub.status.idle": "2022-03-25T20:53:08.623387Z",
     "shell.execute_reply": "2022-03-25T20:53:08.623093Z"
    },
    "papermill": {
     "duration": 0.054619,
     "end_time": "2022-03-25T20:53:08.623457",
     "exception": false,
     "start_time": "2022-03-25T20:53:08.568838",
     "status": "completed"
    },
    "tags": []
   },
   "outputs": [],
   "source": [
    "total_experiment_time_secs = time.time() - start_time_secs"
   ]
  },
  {
   "cell_type": "code",
   "execution_count": 24,
   "id": "87b9595b",
   "metadata": {
    "execution": {
     "iopub.execute_input": "2022-03-25T20:53:08.697921Z",
     "iopub.status.busy": "2022-03-25T20:53:08.697489Z",
     "iopub.status.idle": "2022-03-25T20:55:39.460187Z",
     "shell.execute_reply": "2022-03-25T20:55:39.459887Z"
    },
    "papermill": {
     "duration": 150.801269,
     "end_time": "2022-03-25T20:55:39.460255",
     "exception": false,
     "start_time": "2022-03-25T20:53:08.658986",
     "status": "completed"
    },
    "tags": []
   },
   "outputs": [],
   "source": [
    "###################################\n",
    "# Evaluate the model\n",
    "###################################\n",
    "source_test_label_accuracy, source_test_label_loss = jig.test(datasets.source.processed.test)\n",
    "target_test_label_accuracy, target_test_label_loss = jig.test(datasets.target.processed.test)\n",
    "\n",
    "source_val_label_accuracy, source_val_label_loss = jig.test(datasets.source.processed.val)\n",
    "target_val_label_accuracy, target_val_label_loss = jig.test(datasets.target.processed.val)\n",
    "\n",
    "history = jig.get_history()\n",
    "\n",
    "total_epochs_trained = len(history[\"epoch_indices\"])\n",
    "\n",
    "val_dl = Iterable_Aggregator((datasets.source.original.val,datasets.target.original.val))\n",
    "\n",
    "confusion = ptn_confusion_by_domain_over_dataloader(model, p.device, val_dl)\n",
    "per_domain_accuracy = per_domain_accuracy_from_confusion(confusion)\n",
    "\n",
    "# Add a key to per_domain_accuracy for if it was a source domain\n",
    "for domain, accuracy in per_domain_accuracy.items():\n",
    "    per_domain_accuracy[domain] = {\n",
    "        \"accuracy\": accuracy,\n",
    "        \"source?\": domain in p.domains_source\n",
    "    }\n",
    "\n",
    "# Do an independent accuracy assesment JUST TO BE SURE!\n",
    "# _source_test_label_accuracy = independent_accuracy_assesment(model, datasets.source.processed.test, p.device)\n",
    "# _target_test_label_accuracy = independent_accuracy_assesment(model, datasets.target.processed.test, p.device)\n",
    "# _source_val_label_accuracy = independent_accuracy_assesment(model, datasets.source.processed.val, p.device)\n",
    "# _target_val_label_accuracy = independent_accuracy_assesment(model, datasets.target.processed.val, p.device)\n",
    "\n",
    "# assert(_source_test_label_accuracy == source_test_label_accuracy)\n",
    "# assert(_target_test_label_accuracy == target_test_label_accuracy)\n",
    "# assert(_source_val_label_accuracy == source_val_label_accuracy)\n",
    "# assert(_target_val_label_accuracy == target_val_label_accuracy)\n",
    "\n",
    "experiment = {\n",
    "    \"experiment_name\": p.experiment_name,\n",
    "    \"parameters\": dict(p),\n",
    "    \"results\": {\n",
    "        \"source_test_label_accuracy\": source_test_label_accuracy,\n",
    "        \"source_test_label_loss\": source_test_label_loss,\n",
    "        \"target_test_label_accuracy\": target_test_label_accuracy,\n",
    "        \"target_test_label_loss\": target_test_label_loss,\n",
    "        \"source_val_label_accuracy\": source_val_label_accuracy,\n",
    "        \"source_val_label_loss\": source_val_label_loss,\n",
    "        \"target_val_label_accuracy\": target_val_label_accuracy,\n",
    "        \"target_val_label_loss\": target_val_label_loss,\n",
    "        \"total_epochs_trained\": total_epochs_trained,\n",
    "        \"total_experiment_time_secs\": total_experiment_time_secs,\n",
    "        \"confusion\": confusion,\n",
    "        \"per_domain_accuracy\": per_domain_accuracy,\n",
    "    },\n",
    "    \"history\": history,\n",
    "    \"dataset_metrics\": get_dataset_metrics(datasets, \"ptn\"),\n",
    "}"
   ]
  },
  {
   "cell_type": "code",
   "execution_count": 25,
   "id": "54a21829",
   "metadata": {
    "execution": {
     "iopub.execute_input": "2022-03-25T20:55:39.536891Z",
     "iopub.status.busy": "2022-03-25T20:55:39.535757Z",
     "iopub.status.idle": "2022-03-25T20:55:39.661146Z",
     "shell.execute_reply": "2022-03-25T20:55:39.660710Z"
    },
    "papermill": {
     "duration": 0.163362,
     "end_time": "2022-03-25T20:55:39.661259",
     "exception": false,
     "start_time": "2022-03-25T20:55:39.497897",
     "status": "completed"
    },
    "tags": []
   },
   "outputs": [
    {
     "data": {
      "image/png": "[encoded data removed]",
      "text/plain": [
       "<Figure size 1080x504 with 1 Axes>"
      ]
     },
     "metadata": {
      "needs_background": "light"
     },
     "output_type": "display_data"
    }
   ],
   "source": [
    "ax = get_loss_curve(experiment)\n",
    "plt.show()"
   ]
  },
  {
   "cell_type": "code",
   "execution_count": 26,
   "id": "fd8a0f60",
   "metadata": {
    "execution": {
     "iopub.execute_input": "2022-03-25T20:55:39.744802Z",
     "iopub.status.busy": "2022-03-25T20:55:39.744532Z",
     "iopub.status.idle": "2022-03-25T20:55:39.889872Z",
     "shell.execute_reply": "2022-03-25T20:55:39.889543Z"
    },
    "papermill": {
     "duration": 0.186431,
     "end_time": "2022-03-25T20:55:39.889951",
     "exception": false,
     "start_time": "2022-03-25T20:55:39.703520",
     "status": "completed"
    },
    "tags": []
   },
   "outputs": [
    {
     "data": {
      "text/plain": [
       "<AxesSubplot:title={'center':'Results'}>"
      ]
     },
     "execution_count": 26,
     "metadata": {},
     "output_type": "execute_result"
    },
    {
     "data": {
      "image/png": "[encoded data removed]",
      "text/plain": [
       "<Figure size 1080x504 with 1 Axes>"
      ]
     },
     "metadata": {
      "needs_background": "light"
     },
     "output_type": "display_data"
    }
   ],
   "source": [
    "get_results_table(experiment)"
   ]
  },
  {
   "cell_type": "code",
   "execution_count": 27,
   "id": "cf8dc689",
   "metadata": {
    "execution": {
     "iopub.execute_input": "2022-03-25T20:55:39.978437Z",
     "iopub.status.busy": "2022-03-25T20:55:39.978075Z",
     "iopub.status.idle": "2022-03-25T20:55:40.122229Z",
     "shell.execute_reply": "2022-03-25T20:55:40.121688Z"
    },
    "papermill": {
     "duration": 0.184246,
     "end_time": "2022-03-25T20:55:40.122340",
     "exception": false,
     "start_time": "2022-03-25T20:55:39.938094",
     "status": "completed"
    },
    "tags": []
   },
   "outputs": [
    {
     "data": {
      "text/plain": [
       "<AxesSubplot:title={'center':'Per Domain Validation Accuracy'}, xlabel='domain'>"
      ]
     },
     "execution_count": 27,
     "metadata": {},
     "output_type": "execute_result"
    },
    {
     "data": {
      "image/png": "[encoded data removed]",
      "text/plain": [
       "<Figure size 1080x504 with 1 Axes>"
      ]
     },
     "metadata": {
      "needs_background": "light"
     },
     "output_type": "display_data"
    }
   ],
   "source": [
    "get_domain_accuracies(experiment)"
   ]
  },
  {
   "cell_type": "code",
   "execution_count": 28,
   "id": "a74ae082",
   "metadata": {
    "execution": {
     "iopub.execute_input": "2022-03-25T20:55:40.206379Z",
     "iopub.status.busy": "2022-03-25T20:55:40.202428Z",
     "iopub.status.idle": "2022-03-25T20:55:40.220551Z",
     "shell.execute_reply": "2022-03-25T20:55:40.221005Z"
    },
    "papermill": {
     "duration": 0.058353,
     "end_time": "2022-03-25T20:55:40.221142",
     "exception": false,
     "start_time": "2022-03-25T20:55:40.162789",
     "status": "completed"
    },
    "tags": []
   },
   "outputs": [
    {
     "name": "stdout",
     "output_type": "stream",
     "text": [
      "Source Test Label Accuracy: 0.9994733146067416 Target Test Label Accuracy: 0.3214192708333333\n",
      "Source Val Label Accuracy: 0.9994285714285714 Target Val Label Accuracy: 0.32008463541666665\n"
     ]
    }
   ],
   "source": [
    "print(\"Source Test Label Accuracy:\", experiment[\"results\"][\"source_test_label_accuracy\"], \"Target Test Label Accuracy:\", experiment[\"results\"][\"target_test_label_accuracy\"])\n",
    "print(\"Source Val Label Accuracy:\", experiment[\"results\"][\"source_val_label_accuracy\"], \"Target Val Label Accuracy:\", experiment[\"results\"][\"target_val_label_accuracy\"])"
   ]
  },
  {
   "cell_type": "code",
   "execution_count": 29,
   "id": "dacca602",
   "metadata": {
    "execution": {
     "iopub.execute_input": "2022-03-25T20:55:40.303673Z",
     "iopub.status.busy": "2022-03-25T20:55:40.302493Z",
     "iopub.status.idle": "2022-03-25T20:55:40.325498Z",
     "shell.execute_reply": "2022-03-25T20:55:40.325720Z"
    },
    "papermill": {
     "duration": 0.062849,
     "end_time": "2022-03-25T20:55:40.325788",
     "exception": false,
     "start_time": "2022-03-25T20:55:40.262939",
     "status": "completed"
    },
    "tags": [
     "experiment_json"
    ]
   },
   "outputs": [
    {
     "data": {
      "text/plain": [
       "'{\"experiment_name\": \"tl_3-filterv2:cores -> oracle.run1.framed\", \"parameters\": {\"experiment_name\": \"tl_3-filterv2:cores -> oracle.run1.framed\", \"device\": \"cuda\", \"lr\": 0.0001, \"x_shape\": [2, 200], \"n_shot\": 3, \"n_query\": 2, \"train_k_factor\": 3, \"val_k_factor\": 2, \"test_k_factor\": 2, \"torch_default_dtype\": \"torch.float32\", \"n_epoch\": 50, \"patience\": 3, \"criteria_for_best\": \"target_accuracy\", \"x_net\": [{\"class\": \"nnReshape\", \"kargs\": {\"shape\": [-1, 1, 2, 200]}}, {\"class\": \"Conv2d\", \"kargs\": {\"in_channels\": 1, \"out_channels\": 256, \"kernel_size\": [1, 7], \"bias\": false, \"padding\": [0, 3]}}, {\"class\": \"ReLU\", \"kargs\": {\"inplace\": true}}, {\"class\": \"BatchNorm2d\", \"kargs\": {\"num_features\": 256}}, {\"class\": \"Conv2d\", \"kargs\": {\"in_channels\": 256, \"out_channels\": 80, \"kernel_size\": [2, 7], \"bias\": true, \"padding\": [0, 3]}}, {\"class\": \"ReLU\", \"kargs\": {\"inplace\": true}}, {\"class\": \"BatchNorm2d\", \"kargs\": {\"num_features\": 80}}, {\"class\": \"Flatten\", \"kargs\": {}}, {\"class\": \"Linear\", \"kargs\": {\"in_features\": 16000, \"out_features\": 256}}, {\"class\": \"ReLU\", \"kargs\": {\"inplace\": true}}, {\"class\": \"BatchNorm1d\", \"kargs\": {\"num_features\": 256}}, {\"class\": \"Linear\", \"kargs\": {\"in_features\": 256, \"out_features\": 256}}], \"NUM_LOGS_PER_EPOCH\": 10, \"BEST_MODEL_PATH\": \"./best_model.pth\", \"n_way\": 16, \"datasets\": [{\"labels\": [\"1-10.\", \"1-11.\", \"1-15.\", \"1-16.\", \"1-17.\", \"1-18.\", \"1-19.\", \"10-4.\", \"10-7.\", \"11-1.\", \"11-14.\", \"11-17.\", \"11-20.\", \"11-7.\", \"13-20.\", \"13-8.\", \"14-10.\", \"14-11.\", \"14-14.\", \"14-7.\", \"15-1.\", \"15-20.\", \"16-1.\", \"16-16.\", \"17-10.\", \"17-11.\", \"17-2.\", \"19-1.\", \"19-16.\", \"19-19.\", \"19-20.\", \"19-3.\", \"2-10.\", \"2-11.\", \"2-17.\", \"2-18.\", \"2-20.\", \"2-3.\", \"2-4.\", \"2-5.\", \"2-6.\", \"2-7.\", \"2-8.\", \"3-13.\", \"3-18.\", \"3-3.\", \"4-1.\", \"4-10.\", \"4-11.\", \"4-19.\", \"5-5.\", \"6-15.\", \"7-10.\", \"7-14.\", \"8-18.\", \"8-20.\", \"8-3.\", \"8-8.\"], \"domains\": [1, 2, 3, 4, 5], \"num_examples_per_domain_per_label\": -1, \"pickle_path\": \"/mnt/wd500GB/CSC500/csc500-main/datasets/cores.stratified_ds.2022A.pkl\", \"source_or_target_dataset\": \"source\", \"x_transforms\": [\"unit_mag\", \"lowpass_+/-10MHz\", \"take_200\"], \"episode_transforms\": [], \"domain_prefix\": \"C_\"}, {\"labels\": [\"3123D52\", \"3123D65\", \"3123D79\", \"3123D80\", \"3123D54\", \"3123D70\", \"3123D7B\", \"3123D89\", \"3123D58\", \"3123D76\", \"3123D7D\", \"3123EFE\", \"3123D64\", \"3123D78\", \"3123D7E\", \"3124E4A\"], \"domains\": [32, 38, 8, 44, 14, 50, 20, 26], \"num_examples_per_domain_per_label\": 2000, \"pickle_path\": \"/mnt/wd500GB/CSC500/csc500-main/datasets/oracle.Run1_framed_2000Examples_stratified_ds.2022A.pkl\", \"source_or_target_dataset\": \"target\", \"x_transforms\": [\"unit_mag\", \"take_200\", \"resample_20Msps_to_25Msps\"], \"episode_transforms\": [], \"domain_prefix\": \"O_\"}], \"seed\": 500, \"dataset_seed\": 500, \"domains_source\": [\"C_1\", \"C_2\", \"C_3\", \"C_4\", \"C_5\"], \"domains_target\": [\"O_32\", \"O_38\", \"O_8\", \"O_44\", \"O_14\", \"O_50\", \"O_20\", \"O_26\"]}, \"results\": {\"source_test_label_accuracy\": 0.9994733146067416, \"source_test_label_loss\": 0.00966340396553278, \"target_test_label_accuracy\": 0.3214192708333333, \"target_test_label_loss\": 2.551896810531616, \"source_val_label_accuracy\": 0.9994285714285714, \"source_val_label_loss\": 0.005143188871443272, \"target_val_label_accuracy\": 0.32008463541666665, \"target_val_label_loss\": 2.5696823596954346, \"total_epochs_trained\": 10, \"total_experiment_time_secs\": 2762.085514307022, \"confusion\": {\"C_4\": {\"38\": {\"38\": 40}, \"3\": {\"3\": 124}, \"24\": {\"24\": 56}, \"49\": {\"49\": 20}, \"7\": {\"7\": 24}, \"17\": {\"17\": 80}, \"43\": {\"43\": 148}, \"30\": {\"30\": 44}, \"44\": {\"44\": 132}, \"23\": {\"23\": 144}, \"37\": {\"37\": 24}, \"4\": {\"4\": 132}, \"57\": {\"57\": 100}, \"16\": {\"16\": 96}, \"18\": {\"18\": 107, \"3\": 1}, \"20\": {\"20\": 124}, \"45\": {\"45\": 96}, \"15\": {\"15\": 132}, \"52\": {\"52\": 116}, \"19\": {\"19\": 140}, \"54\": {\"54\": 108}, \"56\": {\"56\": 130}, \"40\": {\"40\": 134}, \"28\": {\"28\": 32}, \"2\": {\"2\": 36}, \"9\": {\"9\": 120}, \"0\": {\"0\": 80}, \"36\": {\"36\": 92}, \"55\": {\"55\": 130}, \"35\": {\"35\": 40}, \"39\": {\"39\": 20}, \"31\": {\"31\": 28}, \"14\": {\"14\": 16}, \"12\": {\"12\": 92}, \"6\": {\"6\": 111, \"3\": 1}, \"26\": {\"26\": 24}, \"50\": {\"50\": 130, \"3\": 2}, \"21\": {\"21\": 121, \"50\": 1}, \"46\": {\"46\": 140}, \"51\": {\"51\": 140}, \"41\": {\"41\": 36}, \"34\": {\"34\": 24}, \"47\": {\"47\": 120}, \"5\": {\"5\": 108}, \"1\": {\"1\": 40}, \"48\": {\"48\": 134}, \"29\": {\"29\": 118}, \"22\": {\"22\": 127, \"7\": 1}, \"10\": {\"10\": 132}, \"32\": {\"32\": 24}, \"13\": {\"13\": 112}, \"42\": {\"42\": 32}, \"27\": {\"27\": 138}, \"8\": {\"8\": 142}, \"33\": {\"33\": 36}, \"25\": {\"25\": 132}, \"11\": {\"11\": 104}, \"53\": {\"53\": 112}}, \"C_2\": {\"32\": {\"32\": 28}, \"17\": {\"17\": 104}, \"38\": {\"38\": 20}, \"2\": {\"2\": 32}, \"43\": {\"43\": 144}, \"56\": {\"56\": 144}, \"37\": {\"37\": 36}, \"49\": {\"49\": 24}, \"0\": {\"0\": 48}, \"29\": {\"29\": 128}, \"35\": {\"35\": 32}, \"18\": {\"18\": 48}, \"25\": {\"25\": 136}, \"23\": {\"23\": 124}, \"15\": {\"15\": 146}, \"21\": {\"21\": 120}, \"51\": {\"51\": 128}, \"20\": {\"20\": 138}, \"7\": {\"7\": 36}, \"50\": {\"50\": 136}, \"31\": {\"31\": 28}, \"30\": {\"30\": 140}, \"19\": {\"19\": 156}, \"9\": {\"9\": 144}, \"52\": {\"52\": 124}, \"45\": {\"45\": 128}, \"8\": {\"8\": 154}, \"55\": {\"55\": 160}, \"12\": {\"12\": 92}, \"40\": {\"40\": 140}, \"28\": {\"28\": 28}, \"36\": {\"36\": 116}, \"39\": {\"39\": 28}, \"46\": {\"46\": 122}, \"14\": {\"14\": 24}, \"57\": {\"57\": 142}, \"34\": {\"34\": 28}, \"1\": {\"1\": 112}, \"53\": {\"53\": 136}, \"48\": {\"48\": 130}, \"3\": {\"3\": 92}, \"16\": {\"16\": 152}, \"6\": {\"6\": 124}, \"10\": {\"10\": 112}, \"13\": {\"13\": 116}, \"26\": {\"26\": 24}, \"24\": {\"24\": 95, \"13\": 1}, \"44\": {\"44\": 100}, \"27\": {\"27\": 150}, \"22\": {\"22\": 128}, \"33\": {\"33\": 28}, \"47\": {\"47\": 118}, \"5\": {\"5\": 120}, \"4\": {\"4\": 138}, \"41\": {\"41\": 20}, \"11\": {\"11\": 150}, \"54\": {\"54\": 108}, \"42\": {\"42\": 36}}, \"C_3\": {\"5\": {\"5\": 116}, \"32\": {\"32\": 28}, \"33\": {\"33\": 28}, \"49\": {\"49\": 20}, \"39\": {\"39\": 16}, \"11\": {\"11\": 142}, \"8\": {\"8\": 116}, \"26\": {\"26\": 24}, \"51\": {\"51\": 122}, \"4\": {\"4\": 146}, \"52\": {\"52\": 118}, \"47\": {\"47\": 92}, \"17\": {\"17\": 107, \"24\": 1}, \"53\": {\"53\": 136}, \"2\": {\"2\": 32}, \"12\": {\"12\": 92}, \"37\": {\"37\": 28}, \"9\": {\"9\": 148}, \"13\": {\"13\": 128}, \"54\": {\"54\": 100}, \"31\": {\"31\": 28}, \"34\": {\"34\": 32}, \"24\": {\"24\": 104}, \"7\": {\"7\": 36}, \"50\": {\"50\": 118}, \"46\": {\"46\": 128}, \"44\": {\"44\": 88}, \"40\": {\"40\": 116}, \"21\": {\"21\": 128}, \"45\": {\"45\": 60}, \"16\": {\"16\": 126}, \"14\": {\"14\": 40}, \"36\": {\"36\": 100}, \"56\": {\"56\": 114}, \"10\": {\"10\": 64}, \"18\": {\"18\": 84}, \"48\": {\"48\": 116}, \"38\": {\"38\": 28}, \"27\": {\"27\": 130}, \"42\": {\"42\": 28}, \"15\": {\"15\": 134}, \"1\": {\"1\": 100}, \"28\": {\"28\": 28}, \"43\": {\"43\": 136}, \"0\": {\"0\": 124}, \"57\": {\"57\": 124}, \"3\": {\"3\": 148}, \"29\": {\"29\": 124}, \"41\": {\"41\": 28}, \"25\": {\"25\": 146}, \"6\": {\"6\": 88}, \"35\": {\"35\": 28}, \"20\": {\"20\": 126}, \"23\": {\"23\": 134}, \"22\": {\"22\": 140}, \"19\": {\"19\": 116}, \"55\": {\"55\": 124}, \"30\": {\"30\": 120}}, \"C_1\": {\"24\": {\"24\": 108}, \"25\": {\"25\": 140}, \"45\": {\"45\": 144}, \"42\": {\"42\": 40}, \"2\": {\"2\": 36}, \"9\": {\"9\": 150}, \"21\": {\"21\": 124}, \"26\": {\"26\": 24}, \"49\": {\"49\": 32}, \"39\": {\"39\": 28}, \"46\": {\"46\": 136}, \"17\": {\"17\": 64}, \"19\": {\"19\": 156}, \"23\": {\"23\": 132}, \"1\": {\"1\": 100}, \"29\": {\"29\": 140}, \"56\": {\"56\": 150}, \"37\": {\"37\": 32}, \"33\": {\"33\": 32}, \"55\": {\"55\": 142}, \"30\": {\"30\": 120}, \"0\": {\"0\": 152}, \"36\": {\"36\": 64}, \"32\": {\"32\": 32}, \"31\": {\"31\": 28}, \"15\": {\"15\": 138}, \"12\": {\"12\": 116}, \"38\": {\"38\": 24}, \"40\": {\"40\": 146}, \"14\": {\"14\": 23, \"30\": 1}, \"13\": {\"13\": 150}, \"48\": {\"48\": 148}, \"34\": {\"34\": 24}, \"44\": {\"44\": 130}, \"5\": {\"5\": 152}, \"11\": {\"11\": 140}, \"7\": {\"7\": 28}, \"18\": {\"18\": 72}, \"52\": {\"52\": 132}, \"51\": {\"51\": 142}, \"41\": {\"41\": 24}, \"16\": {\"16\": 140}, \"22\": {\"22\": 134}, \"3\": {\"3\": 138, \"24\": 1, \"22\": 1}, \"54\": {\"54\": 104}, \"27\": {\"27\": 144}, \"20\": {\"20\": 140}, \"8\": {\"8\": 138}, \"50\": {\"50\": 144}, \"57\": {\"57\": 140}, \"4\": {\"4\": 132}, \"47\": {\"47\": 146}, \"10\": {\"10\": 96}, \"35\": {\"35\": 36}, \"53\": {\"53\": 126}, \"6\": {\"6\": 96}, \"43\": {\"43\": 140}, \"28\": {\"28\": 28}}, \"C_5\": {\"35\": {\"35\": 36}, \"57\": {\"57\": 132}, \"20\": {\"20\": 144}, \"12\": {\"12\": 96}, \"32\": {\"32\": 32}, \"25\": {\"25\": 138}, \"44\": {\"44\": 148}, \"31\": {\"31\": 36}, \"11\": {\"11\": 150}, \"47\": {\"47\": 100}, \"23\": {\"23\": 124}, \"43\": {\"43\": 144}, \"37\": {\"37\": 24}, \"5\": {\"5\": 128}, \"45\": {\"45\": 123, \"50\": 1}, \"7\": {\"7\": 32}, \"13\": {\"13\": 136}, \"49\": {\"49\": 36}, \"46\": {\"46\": 148}, \"16\": {\"16\": 136}, \"54\": {\"54\": 112}, \"19\": {\"19\": 152}, \"55\": {\"55\": 150}, \"30\": {\"30\": 128}, \"34\": {\"34\": 36}, \"50\": {\"50\": 134}, \"3\": {\"3\": 99, \"46\": 1}, \"10\": {\"10\": 68}, \"27\": {\"27\": 142}, \"33\": {\"33\": 32}, \"56\": {\"56\": 142}, \"9\": {\"9\": 150}, \"14\": {\"14\": 43, \"50\": 1}, \"4\": {\"4\": 100}, \"42\": {\"42\": 40}, \"24\": {\"24\": 80}, \"39\": {\"39\": 20}, \"52\": {\"52\": 130}, \"2\": {\"2\": 28}, \"28\": {\"28\": 32}, \"53\": {\"53\": 122}, \"17\": {\"17\": 116}, \"29\": {\"29\": 132}, \"38\": {\"38\": 32}, \"15\": {\"15\": 144}, \"26\": {\"26\": 24}, \"21\": {\"21\": 144}, \"41\": {\"41\": 28}, \"48\": {\"48\": 136}, \"22\": {\"22\": 28}, \"8\": {\"8\": 148}, \"18\": {\"18\": 64}, \"0\": {\"0\": 122}, \"1\": {\"1\": 138}, \"40\": {\"40\": 124}, \"6\": {\"6\": 126, \"50\": 2}, \"51\": {\"51\": 142}, \"36\": {\"36\": 92}}, \"O_50\": {\"7\": {\"4\": 12, \"10\": 38, \"13\": 50, \"7\": 66, \"5\": 43, \"0\": 12, \"8\": 6, \"6\": 9, \"1\": 3, \"2\": 1}, \"10\": {\"13\": 32, \"10\": 61, \"5\": 22, \"0\": 35, \"7\": 37, \"8\": 41, \"4\": 1, \"6\": 3, \"3\": 1, \"2\": 7}, \"0\": {\"10\": 51, \"0\": 88, \"2\": 48, \"13\": 15, \"7\": 8, \"6\": 9, \"4\": 4, \"1\": 4, \"5\": 9, \"8\": 3, \"15\": 1}, \"11\": {\"15\": 21, \"11\": 96, \"1\": 16, \"9\": 49, \"12\": 23, \"4\": 6, \"14\": 25, \"6\": 2, \"2\": 2}, \"2\": {\"2\": 112, \"0\": 75, \"10\": 7, \"1\": 13, \"8\": 1, \"5\": 3, \"4\": 3, \"6\": 8, \"14\": 12, \"7\": 2, \"11\": 2, \"13\": 2}, \"14\": {\"12\": 42, \"14\": 81, \"9\": 41, \"11\": 35, \"1\": 8, \"2\": 15, \"15\": 9, \"6\": 5, \"0\": 1, \"4\": 3}, \"9\": {\"12\": 49, \"14\": 34, \"11\": 57, \"9\": 90, \"15\": 6, \"1\": 3, \"0\": 1}, \"13\": {\"7\": 45, \"6\": 17, \"4\": 26, \"13\": 48, \"10\": 26, \"5\": 51, \"8\": 3, \"0\": 13, \"15\": 3, \"1\": 8}, \"8\": {\"8\": 144, \"10\": 32, \"5\": 2, \"3\": 51, \"7\": 3, \"0\": 5, \"13\": 3}, \"15\": {\"9\": 9, \"6\": 27, \"15\": 68, \"5\": 4, \"1\": 51, \"13\": 5, \"7\": 3, \"11\": 34, \"14\": 6, \"4\": 33}, \"4\": {\"4\": 51, \"15\": 29, \"1\": 44, \"2\": 3, \"5\": 20, \"13\": 26, \"6\": 29, \"11\": 12, \"10\": 4, \"9\": 2, \"7\": 13, \"14\": 3, \"0\": 3, \"12\": 1}, \"5\": {\"13\": 52, \"4\": 23, \"0\": 16, \"10\": 21, \"15\": 5, \"7\": 45, \"1\": 14, \"5\": 39, \"6\": 15, \"2\": 6, \"8\": 4}, \"3\": {\"3\": 190, \"8\": 44, \"10\": 3, \"7\": 3}, \"1\": {\"15\": 57, \"1\": 64, \"4\": 32, \"5\": 12, \"2\": 8, \"11\": 12, \"6\": 32, \"13\": 13, \"7\": 1, \"14\": 2, \"0\": 6, \"10\": 1}, \"6\": {\"6\": 68, \"5\": 16, \"7\": 17, \"1\": 33, \"15\": 27, \"0\": 3, \"13\": 33, \"14\": 2, \"4\": 36, \"11\": 2, \"10\": 1, \"2\": 2}, \"12\": {\"12\": 111, \"14\": 63, \"9\": 52, \"11\": 14}}, \"O_14\": {\"14\": {\"3\": 30, \"2\": 30, \"5\": 12, \"6\": 45, \"0\": 15, \"4\": 16, \"14\": 42, \"10\": 8, \"13\": 36, \"11\": 4, \"1\": 2}, \"6\": {\"3\": 21, \"6\": 48, \"14\": 52, \"13\": 47, \"2\": 31, \"0\": 8, \"5\": 11, \"11\": 2, \"4\": 8, \"15\": 1, \"10\": 9, \"1\": 2}, \"5\": {\"1\": 40, \"15\": 12, \"4\": 33, \"5\": 46, \"2\": 38, \"3\": 18, \"14\": 13, \"6\": 11, \"11\": 1, \"0\": 4, \"8\": 7, \"13\": 7, \"7\": 10}, \"15\": {\"15\": 102, \"7\": 81, \"13\": 3, \"5\": 26, \"2\": 9, \"1\": 10, \"4\": 8, \"14\": 1}, \"11\": {\"9\": 33, \"11\": 94, \"0\": 50, \"10\": 36, \"12\": 7, \"3\": 5, \"14\": 9, \"13\": 3, \"6\": 1, \"2\": 1, \"4\": 1}, \"8\": {\"8\": 140, \"1\": 31, \"5\": 16, \"3\": 8, \"9\": 19, \"4\": 18, \"0\": 6, \"11\": 1, \"7\": 1}, \"12\": {\"12\": 169, \"9\": 53, \"11\": 17, \"10\": 1}, \"1\": {\"1\": 71, \"8\": 21, \"15\": 15, \"7\": 20, \"3\": 21, \"4\": 20, \"5\": 53, \"14\": 2, \"2\": 9, \"13\": 4, \"0\": 4}, \"2\": {\"13\": 23, \"1\": 17, \"15\": 5, \"14\": 31, \"2\": 42, \"6\": 33, \"5\": 40, \"0\": 5, \"3\": 23, \"4\": 14, \"7\": 3, \"11\": 3, \"8\": 1}, \"13\": {\"6\": 51, \"13\": 63, \"14\": 31, \"4\": 17, \"2\": 27, \"3\": 15, \"0\": 7, \"10\": 8, \"1\": 6, \"11\": 6, \"5\": 6, \"15\": 2, \"7\": 1}, \"3\": {\"11\": 6, \"3\": 53, \"4\": 38, \"6\": 19, \"14\": 17, \"10\": 10, \"8\": 7, \"13\": 15, \"2\": 16, \"1\": 18, \"0\": 17, \"5\": 18, \"9\": 5, \"15\": 1}, \"0\": {\"0\": 67, \"3\": 16, \"11\": 38, \"14\": 16, \"2\": 4, \"8\": 10, \"10\": 38, \"4\": 6, \"9\": 18, \"13\": 6, \"6\": 17, \"1\": 2, \"12\": 1, \"5\": 1}, \"9\": {\"9\": 101, \"0\": 24, \"12\": 55, \"3\": 2, \"11\": 32, \"10\": 14, \"8\": 11, \"4\": 1}, \"4\": {\"8\": 12, \"3\": 32, \"6\": 18, \"2\": 32, \"5\": 29, \"4\": 51, \"13\": 12, \"1\": 19, \"0\": 9, \"14\": 18, \"10\": 5, \"11\": 2, \"15\": 1}, \"7\": {\"7\": 111, \"15\": 91, \"1\": 14, \"5\": 18, \"3\": 2, \"2\": 3, \"4\": 1}, \"10\": {\"0\": 50, \"10\": 95, \"14\": 5, \"3\": 10, \"13\": 11, \"11\": 39, \"8\": 2, \"4\": 4, \"9\": 10, \"6\": 14}}, \"O_32\": {\"4\": {\"7\": 25, \"2\": 43, \"5\": 28, \"4\": 54, \"8\": 15, \"14\": 14, \"13\": 30, \"11\": 9, \"0\": 18, \"3\": 4}, \"14\": {\"2\": 15, \"8\": 10, \"11\": 47, \"5\": 20, \"7\": 32, \"14\": 49, \"4\": 22, \"13\": 17, \"3\": 14, \"0\": 13, \"15\": 1}, \"5\": {\"2\": 10, \"13\": 38, \"11\": 16, \"3\": 39, \"7\": 33, \"0\": 12, \"14\": 23, \"5\": 32, \"4\": 20, \"8\": 16, \"15\": 1}, \"10\": {\"6\": 4, \"10\": 204, \"1\": 32}, \"13\": {\"5\": 31, \"3\": 28, \"7\": 33, \"13\": 41, \"0\": 16, \"14\": 17, \"8\": 25, \"4\": 18, \"11\": 13, \"2\": 18}, \"9\": {\"9\": 207, \"12\": 20, \"2\": 2, \"0\": 10, \"8\": 1}, \"6\": {\"6\": 208, \"1\": 3, \"12\": 19, \"10\": 9, \"9\": 1}, \"3\": {\"8\": 11, \"14\": 17, \"5\": 42, \"11\": 16, \"13\": 25, \"3\": 116, \"7\": 9, \"4\": 3, \"2\": 1}, \"15\": {\"15\": 194, \"8\": 23, \"3\": 11, \"0\": 2, \"13\": 4, \"14\": 2, \"5\": 3, \"7\": 1}, \"7\": {\"7\": 32, \"2\": 24, \"11\": 37, \"5\": 33, \"4\": 29, \"8\": 13, \"3\": 20, \"14\": 27, \"13\": 15, \"0\": 10}, \"12\": {\"6\": 17, \"12\": 188, \"9\": 34, \"10\": 1}, \"8\": {\"7\": 16, \"15\": 21, \"13\": 29, \"0\": 38, \"8\": 55, \"4\": 21, \"5\": 15, \"3\": 16, \"14\": 14, \"2\": 9, \"11\": 6}, \"11\": {\"2\": 5, \"11\": 85, \"14\": 40, \"5\": 22, \"7\": 42, \"13\": 8, \"3\": 16, \"4\": 14, \"8\": 6, \"0\": 2}, \"2\": {\"2\": 73, \"0\": 42, \"8\": 12, \"4\": 45, \"14\": 14, \"5\": 10, \"13\": 9, \"7\": 26, \"11\": 4, \"9\": 5}, \"1\": {\"10\": 49, \"1\": 188, \"6\": 3}, \"0\": {\"8\": 30, \"5\": 13, \"4\": 32, \"0\": 74, \"13\": 14, \"15\": 9, \"14\": 14, \"2\": 37, \"7\": 9, \"9\": 7, \"11\": 1}}, \"O_44\": {\"8\": {\"0\": 85, \"8\": 82, \"15\": 36, \"5\": 28, \"14\": 7, \"4\": 2}, \"11\": {\"11\": 138, \"13\": 45, \"6\": 34, \"4\": 9, \"9\": 9, \"7\": 2, \"2\": 1, \"15\": 1, \"14\": 1}, \"14\": {\"4\": 68, \"14\": 66, \"15\": 40, \"0\": 18, \"8\": 9, \"5\": 36, \"13\": 3}, \"10\": {\"1\": 40, \"10\": 102, \"12\": 42, \"2\": 35, \"3\": 12, \"7\": 7, \"6\": 1, \"9\": 1}, \"3\": {\"12\": 27, \"3\": 108, \"2\": 19, \"1\": 54, \"7\": 15, \"10\": 12, \"9\": 4, \"15\": 1}, \"15\": {\"15\": 68, \"14\": 47, \"8\": 30, \"4\": 26, \"0\": 44, \"5\": 25}, \"2\": {\"9\": 28, \"2\": 70, \"7\": 51, \"10\": 36, \"12\": 11, \"1\": 18, \"3\": 12, \"6\": 10, \"13\": 4}, \"12\": {\"1\": 58, \"3\": 30, \"12\": 85, \"10\": 56, \"2\": 9, \"7\": 2}, \"4\": {\"14\": 82, \"9\": 11, \"4\": 105, \"5\": 11, \"13\": 13, \"15\": 13, \"7\": 2, \"11\": 2, \"8\": 1}, \"1\": {\"12\": 67, \"2\": 19, \"10\": 37, \"3\": 48, \"1\": 61, \"7\": 7, \"9\": 1}, \"0\": {\"8\": 78, \"14\": 17, \"4\": 6, \"15\": 42, \"5\": 34, \"0\": 63}, \"9\": {\"13\": 46, \"10\": 4, \"2\": 25, \"7\": 49, \"1\": 10, \"9\": 60, \"4\": 7, \"14\": 3, \"6\": 31, \"11\": 3, \"3\": 2}, \"5\": {\"0\": 50, \"5\": 87, \"15\": 21, \"8\": 43, \"14\": 27, \"4\": 12}, \"6\": {\"9\": 38, \"6\": 94, \"2\": 13, \"13\": 62, \"7\": 19, \"11\": 13, \"4\": 1}, \"7\": {\"9\": 32, \"7\": 71, \"6\": 24, \"2\": 51, \"10\": 6, \"13\": 26, \"4\": 2, \"1\": 14, \"3\": 11, \"12\": 2, \"14\": 1}, \"13\": {\"11\": 29, \"13\": 80, \"4\": 17, \"9\": 33, \"6\": 53, \"7\": 21, \"14\": 3, \"2\": 4}}, \"O_8\": {\"13\": {\"0\": 31, \"14\": 22, \"4\": 36, \"8\": 8, \"10\": 32, \"13\": 33, \"7\": 22, \"1\": 11, \"11\": 6, \"6\": 21, \"5\": 8, \"15\": 5, \"2\": 3, \"3\": 1, \"12\": 1}, \"3\": {\"8\": 8, \"12\": 39, \"2\": 75, \"3\": 78, \"15\": 22, \"7\": 11, \"0\": 2, \"6\": 4, \"13\": 1}, \"15\": {\"15\": 56, \"8\": 42, \"12\": 34, \"7\": 27, \"3\": 24, \"6\": 16, \"2\": 22, \"14\": 3, \"13\": 5, \"11\": 4, \"4\": 5, \"0\": 2}, \"4\": {\"10\": 24, \"7\": 18, \"4\": 38, \"11\": 14, \"0\": 24, \"1\": 16, \"6\": 22, \"13\": 19, \"8\": 13, \"14\": 32, \"2\": 1, \"15\": 9, \"5\": 7, \"3\": 3}, \"7\": {\"8\": 14, \"5\": 1, \"11\": 3, \"7\": 45, \"3\": 12, \"14\": 8, \"13\": 33, \"0\": 24, \"1\": 10, \"2\": 14, \"12\": 3, \"6\": 31, \"10\": 9, \"15\": 15, \"4\": 18}, \"2\": {\"2\": 68, \"3\": 61, \"6\": 11, \"7\": 20, \"12\": 25, \"0\": 13, \"8\": 8, \"15\": 24, \"13\": 5, \"14\": 1, \"4\": 3, \"11\": 1}, \"1\": {\"10\": 25, \"5\": 32, \"15\": 5, \"6\": 12, \"14\": 28, \"1\": 49, \"11\": 45, \"4\": 13, \"8\": 18, \"13\": 7, \"0\": 5, \"7\": 1}, \"0\": {\"7\": 38, \"6\": 23, \"1\": 9, \"10\": 16, \"0\": 43, \"4\": 26, \"14\": 23, \"2\": 9, \"5\": 8, \"15\": 3, \"13\": 29, \"11\": 3, \"3\": 3, \"8\": 4, \"12\": 3}, \"12\": {\"2\": 46, \"15\": 42, \"7\": 16, \"12\": 63, \"3\": 43, \"6\": 9, \"8\": 14, \"13\": 2, \"4\": 3, \"0\": 1, \"14\": 1}, \"6\": {\"0\": 40, \"8\": 15, \"13\": 29, \"4\": 30, \"10\": 15, \"7\": 31, \"15\": 12, \"12\": 8, \"14\": 14, \"6\": 29, \"2\": 3, \"1\": 7, \"11\": 4, \"3\": 3}, \"11\": {\"1\": 50, \"11\": 62, \"4\": 16, \"6\": 12, \"7\": 3, \"15\": 4, \"14\": 18, \"8\": 27, \"10\": 14, \"5\": 19, \"13\": 10, \"0\": 4, \"12\": 1}, \"9\": {\"9\": 222, \"10\": 6, \"5\": 11, \"14\": 1}, \"5\": {\"4\": 16, \"5\": 80, \"1\": 38, \"10\": 34, \"13\": 8, \"14\": 20, \"11\": 31, \"8\": 3, \"6\": 2, \"7\": 3, \"0\": 3, \"9\": 2}, \"10\": {\"0\": 19, \"4\": 25, \"10\": 45, \"14\": 23, \"6\": 8, \"11\": 18, \"13\": 26, \"5\": 34, \"15\": 3, \"1\": 16, \"8\": 12, \"7\": 11}, \"14\": {\"11\": 12, \"1\": 21, \"4\": 33, \"0\": 23, \"6\": 14, \"10\": 34, \"15\": 2, \"13\": 30, \"7\": 14, \"14\": 29, \"5\": 17, \"8\": 7, \"2\": 2, \"3\": 1, \"12\": 1}, \"8\": {\"6\": 17, \"1\": 19, \"15\": 38, \"8\": 50, \"2\": 8, \"14\": 11, \"12\": 22, \"13\": 7, \"11\": 19, \"3\": 5, \"4\": 16, \"7\": 18, \"0\": 7, \"10\": 2, \"5\": 1}}, \"O_20\": {\"6\": {\"7\": 27, \"13\": 4, \"14\": 64, \"8\": 32, \"11\": 13, \"12\": 3, \"4\": 15, \"3\": 8, \"10\": 14, \"9\": 6, \"6\": 40, \"2\": 10, \"5\": 1, \"1\": 1, \"0\": 2}, \"11\": {\"11\": 136, \"13\": 16, \"8\": 9, \"6\": 23, \"7\": 22, \"2\": 11, \"0\": 4, \"1\": 4, \"3\": 2, \"9\": 5, \"5\": 1, \"15\": 2, \"14\": 4, \"10\": 1}, \"5\": {\"15\": 37, \"13\": 18, \"5\": 26, \"9\": 12, \"10\": 8, \"12\": 24, \"8\": 13, \"4\": 20, \"3\": 24, \"0\": 27, \"14\": 3, \"7\": 6, \"1\": 14, \"2\": 8}, \"14\": {\"14\": 56, \"8\": 32, \"13\": 6, \"6\": 38, \"10\": 25, \"9\": 6, \"4\": 20, \"2\": 10, \"3\": 10, \"7\": 24, \"11\": 4, \"5\": 1, \"0\": 5, \"12\": 2, \"1\": 1}, \"2\": {\"3\": 18, \"5\": 19, \"6\": 10, \"9\": 24, \"10\": 9, \"1\": 17, \"2\": 26, \"13\": 24, \"15\": 15, \"12\": 16, \"4\": 10, \"7\": 19, \"11\": 6, \"8\": 11, \"14\": 10, \"0\": 6}, \"7\": {\"8\": 30, \"2\": 15, \"6\": 26, \"7\": 28, \"15\": 12, \"13\": 17, \"4\": 15, \"14\": 16, \"9\": 10, \"11\": 9, \"3\": 15, \"10\": 13, \"12\": 9, \"1\": 5, \"0\": 13, \"5\": 7}, \"3\": {\"0\": 15, \"8\": 10, \"13\": 14, \"4\": 15, \"12\": 26, \"5\": 24, \"15\": 15, \"14\": 7, \"3\": 25, \"2\": 23, \"9\": 16, \"11\": 2, \"10\": 16, \"1\": 20, \"7\": 10, \"6\": 2}, \"4\": {\"5\": 26, \"0\": 20, \"9\": 10, \"8\": 25, \"2\": 12, \"3\": 21, \"6\": 6, \"4\": 34, \"14\": 15, \"7\": 13, \"15\": 12, \"10\": 18, \"1\": 13, \"13\": 5, \"12\": 10}, \"9\": {\"3\": 33, \"12\": 32, \"9\": 24, \"2\": 27, \"4\": 12, \"1\": 15, \"14\": 4, \"13\": 21, \"7\": 13, \"10\": 16, \"11\": 1, \"8\": 5, \"15\": 14, \"5\": 10, \"0\": 8, \"6\": 5}, \"12\": {\"0\": 24, \"1\": 25, \"3\": 28, \"4\": 21, \"2\": 15, \"13\": 14, \"10\": 11, \"12\": 23, \"7\": 10, \"5\": 23, \"15\": 18, \"9\": 15, \"6\": 1, \"8\": 10, \"11\": 1, \"14\": 1}, \"0\": {\"0\": 38, \"9\": 14, \"5\": 27, \"15\": 34, \"13\": 15, \"12\": 21, \"1\": 13, \"2\": 7, \"7\": 10, \"4\": 12, \"8\": 19, \"3\": 15, \"6\": 2, \"14\": 6, \"10\": 6, \"11\": 1}, \"10\": {\"9\": 12, \"14\": 36, \"4\": 33, \"2\": 8, \"8\": 34, \"6\": 13, \"3\": 13, \"12\": 16, \"10\": 36, \"0\": 9, \"7\": 14, \"5\": 10, \"13\": 3, \"1\": 3}, \"8\": {\"9\": 6, \"4\": 21, \"6\": 21, \"5\": 12, \"2\": 7, \"8\": 28, \"0\": 17, \"15\": 7, \"14\": 37, \"12\": 8, \"7\": 29, \"13\": 14, \"3\": 12, \"10\": 15, \"1\": 6}, \"13\": {\"5\": 20, \"3\": 14, \"2\": 24, \"1\": 13, \"13\": 38, \"15\": 24, \"0\": 16, \"12\": 18, \"7\": 23, \"10\": 2, \"14\": 5, \"6\": 10, \"8\": 9, \"11\": 11, \"9\": 13}, \"1\": {\"12\": 22, \"5\": 27, \"4\": 14, \"2\": 27, \"1\": 28, \"0\": 22, \"9\": 18, \"13\": 10, \"3\": 20, \"15\": 30, \"14\": 2, \"7\": 9, \"10\": 6, \"8\": 5}, \"15\": {\"5\": 26, \"2\": 19, \"1\": 27, \"9\": 17, \"15\": 47, \"4\": 6, \"0\": 24, \"10\": 2, \"13\": 27, \"3\": 19, \"12\": 18, \"7\": 6, \"8\": 2}}, \"O_38\": {\"3\": {\"9\": 40, \"3\": 141, \"6\": 25, \"0\": 13, \"5\": 6, \"7\": 12, \"8\": 3}, \"8\": {\"15\": 23, \"7\": 32, \"5\": 40, \"6\": 4, \"8\": 67, \"0\": 28, \"10\": 17, \"1\": 14, \"13\": 8, \"14\": 1, \"12\": 2, \"9\": 3, \"2\": 1}, \"0\": {\"10\": 11, \"7\": 51, \"0\": 55, \"8\": 38, \"3\": 11, \"5\": 33, \"6\": 12, \"15\": 5, \"12\": 7, \"1\": 8, \"9\": 3, \"14\": 1, \"13\": 3, \"4\": 2}, \"2\": {\"11\": 16, \"10\": 19, \"15\": 9, \"2\": 128, \"14\": 41, \"13\": 23, \"8\": 2, \"1\": 2}, \"4\": {\"12\": 60, \"4\": 168, \"10\": 7, \"7\": 3, \"0\": 1, \"11\": 1}, \"7\": {\"12\": 7, \"8\": 27, \"7\": 91, \"3\": 3, \"0\": 54, \"6\": 9, \"15\": 5, \"5\": 28, \"10\": 8, \"1\": 2, \"13\": 1, \"4\": 1, \"9\": 4}, \"12\": {\"4\": 65, \"12\": 148, \"14\": 2, \"11\": 4, \"10\": 12, \"15\": 2, \"8\": 1, \"7\": 2, \"13\": 1, \"0\": 3}, \"6\": {\"1\": 17, \"8\": 9, \"9\": 81, \"6\": 79, \"3\": 13, \"5\": 20, \"7\": 8, \"0\": 13}, \"15\": {\"2\": 11, \"0\": 15, \"7\": 9, \"1\": 37, \"15\": 56, \"14\": 5, \"13\": 39, \"5\": 15, \"8\": 26, \"10\": 25, \"6\": 1, \"9\": 1}, \"11\": {\"14\": 88, \"11\": 101, \"12\": 13, \"10\": 13, \"2\": 17, \"8\": 2, \"15\": 3, \"4\": 1, \"13\": 2}, \"9\": {\"9\": 87, \"1\": 9, \"6\": 80, \"0\": 12, \"3\": 29, \"5\": 17, \"7\": 3, \"8\": 3}, \"14\": {\"14\": 108, \"11\": 59, \"10\": 21, \"12\": 10, \"2\": 38, \"4\": 2, \"15\": 2}, \"10\": {\"13\": 24, \"10\": 74, \"8\": 21, \"15\": 24, \"7\": 8, \"5\": 8, \"14\": 24, \"1\": 1, \"0\": 5, \"11\": 10, \"12\": 14, \"2\": 20, \"4\": 7}, \"5\": {\"8\": 34, \"5\": 52, \"0\": 24, \"9\": 16, \"6\": 25, \"13\": 7, \"1\": 19, \"7\": 31, \"3\": 6, \"15\": 21, \"10\": 4, \"4\": 1}, \"1\": {\"6\": 16, \"10\": 5, \"1\": 109, \"9\": 9, \"15\": 35, \"7\": 4, \"8\": 21, \"13\": 20, \"5\": 17, \"0\": 3, \"2\": 1}, \"13\": {\"10\": 48, \"13\": 56, \"15\": 49, \"8\": 12, \"1\": 15, \"0\": 6, \"9\": 2, \"5\": 7, \"2\": 37, \"14\": 5, \"6\": 1, \"7\": 1, \"11\": 1}}, \"O_26\": {\"5\": {\"9\": 24, \"5\": 32, \"13\": 38, \"2\": 26, \"0\": 8, \"15\": 20, \"7\": 16, \"4\": 7, \"3\": 16, \"6\": 19, \"8\": 8, \"12\": 4, \"10\": 13, \"11\": 1, \"14\": 4, \"1\": 4}, \"8\": {\"4\": 18, \"10\": 29, \"13\": 7, \"15\": 16, \"7\": 29, \"14\": 19, \"6\": 20, \"2\": 15, \"8\": 21, \"0\": 20, \"1\": 17, \"9\": 14, \"3\": 9, \"5\": 6}, \"4\": {\"10\": 26, \"0\": 25, \"1\": 25, \"4\": 30, \"15\": 10, \"14\": 26, \"7\": 26, \"9\": 9, \"2\": 11, \"8\": 21, \"13\": 3, \"3\": 15, \"5\": 4, \"6\": 9}, \"12\": {\"6\": 10, \"13\": 1, \"12\": 165, \"8\": 4, \"11\": 42, \"10\": 6, \"1\": 3, \"14\": 4, \"9\": 2, \"0\": 2, \"5\": 1}, \"6\": {\"15\": 13, \"8\": 17, \"1\": 13, \"13\": 19, \"6\": 35, \"10\": 25, \"7\": 12, \"9\": 33, \"12\": 7, \"4\": 14, \"3\": 7, \"5\": 12, \"2\": 5, \"0\": 13, \"14\": 15}, \"7\": {\"10\": 14, \"15\": 26, \"7\": 38, \"9\": 10, \"4\": 28, \"5\": 7, \"2\": 20, \"14\": 24, \"8\": 12, \"1\": 9, \"3\": 26, \"0\": 16, \"6\": 5, \"13\": 5}, \"10\": {\"6\": 35, \"13\": 13, \"1\": 24, \"12\": 4, \"14\": 19, \"4\": 22, \"0\": 25, \"5\": 8, \"2\": 10, \"7\": 9, \"10\": 30, \"9\": 13, \"8\": 10, \"15\": 10, \"3\": 8}, \"0\": {\"0\": 30, \"10\": 33, \"14\": 27, \"15\": 14, \"7\": 18, \"8\": 21, \"4\": 27, \"1\": 21, \"9\": 10, \"3\": 7, \"13\": 5, \"2\": 8, \"6\": 14, \"5\": 4, \"12\": 1}, \"15\": {\"10\": 10, \"14\": 7, \"7\": 18, \"2\": 11, \"8\": 18, \"6\": 22, \"5\": 22, \"15\": 37, \"13\": 26, \"3\": 21, \"0\": 15, \"1\": 7, \"9\": 18, \"4\": 8}, \"9\": {\"5\": 21, \"13\": 20, \"8\": 11, \"7\": 15, \"9\": 36, \"6\": 26, \"0\": 12, \"2\": 15, \"4\": 5, \"15\": 20, \"3\": 14, \"14\": 11, \"1\": 8, \"10\": 19, \"12\": 7}, \"11\": {\"11\": 197, \"12\": 41, \"13\": 1, \"4\": 1}, \"14\": {\"1\": 27, \"13\": 5, \"12\": 2, \"7\": 19, \"8\": 19, \"0\": 31, \"10\": 29, \"4\": 31, \"5\": 4, \"3\": 13, \"6\": 13, \"14\": 26, \"15\": 8, \"9\": 8, \"2\": 5}, \"2\": {\"4\": 9, \"1\": 11, \"2\": 37, \"5\": 18, \"8\": 13, \"13\": 27, \"7\": 19, \"3\": 46, \"15\": 22, \"6\": 5, \"14\": 6, \"9\": 12, \"0\": 11, \"10\": 4}, \"13\": {\"14\": 1, \"10\": 11, \"0\": 6, \"5\": 41, \"6\": 14, \"2\": 18, \"13\": 54, \"15\": 26, \"9\": 30, \"7\": 8, \"4\": 3, \"3\": 15, \"8\": 8, \"11\": 3, \"12\": 2}, \"3\": {\"3\": 55, \"5\": 19, \"2\": 29, \"0\": 16, \"9\": 15, \"7\": 33, \"15\": 17, \"10\": 8, \"1\": 8, \"14\": 10, \"13\": 9, \"8\": 7, \"6\": 3, \"4\": 11}, \"1\": {\"10\": 30, \"5\": 2, \"1\": 55, \"0\": 27, \"4\": 30, \"2\": 12, \"8\": 14, \"14\": 25, \"12\": 2, \"7\": 12, \"13\": 3, \"9\": 10, \"6\": 9, \"15\": 8, \"3\": 1}}}, \"per_domain_accuracy\": {\"C_4\": {\"accuracy\": 0.9988636363636364, \"source?\": true}, \"C_2\": {\"accuracy\": 0.9998244382022472, \"source?\": true}, \"C_3\": {\"accuracy\": 0.9998139880952381, \"source?\": true}, \"C_1\": {\"accuracy\": 0.9994932432432433, \"source?\": true}, \"C_5\": {\"accuracy\": 0.9991270949720671, \"source?\": true}, \"O_50\": {\"accuracy\": 0.35859375, \"source?\": false}, \"O_14\": {\"accuracy\": 0.3372395833333333, \"source?\": false}, \"O_32\": {\"accuracy\": 0.46875, \"source?\": false}, \"O_44\": {\"accuracy\": 0.3489583333333333, \"source?\": false}, \"O_8\": {\"accuracy\": 0.2578125, \"source?\": false}, \"O_20\": {\"accuracy\": 0.16484375, \"source?\": false}, \"O_38\": {\"accuracy\": 0.3958333333333333, \"source?\": false}, \"O_26\": {\"accuracy\": 0.22864583333333333, \"source?\": false}}}, \"history\": {\"epoch_indices\": [1, 2, 3, 4, 5, 6, 7, 8, 9, 10], \"train_label_loss\": [0.03150522865942876, 0.009212885800531005, 0.004874922380311387, 0.0050205120870072985, 0.004259070282117501, 0.00329398750462331, 0.003227256057499224, 0.0023546889231337445, 0.0019770437072196704, 0.0026743252000446427], \"source_val_label_loss\": [0.0054227751679718494, 0.007813523523509502, 0.005489763338118792, 0.00689142569899559, 0.0047037359327077866, 0.005143188871443272, 0.005285526625812054, 0.0073529258370399475, 0.007116090040653944, 0.007631932385265827], \"target_val_label_loss\": [2.564448118209839, 2.6346943378448486, 2.4491848945617676, 3.1697139739990234, 2.8307600021362305, 2.5696823596954346, 3.607326030731201, 3.750401496887207, 4.052468776702881, 5.340298175811768], \"source_val_acc_label\": [0.99875, 0.9986785714285714, 0.9993214285714286, 0.9988571428571429, 0.9995357142857143, 0.9994285714285714, 0.9995, 0.9993928571428572, 0.9993214285714286, 0.9993571428571428], \"target_val_acc_label\": [0.25052083333333336, 0.27561848958333335, 0.309375, 0.2650390625, 0.29521484375, 0.32008463541666665, 0.28369140625, 0.2858072916666667, 0.27763671875, 0.2503580729166667]}, \"dataset_metrics\": {\"source\": {\"train\": {\"n_unique_x\": 175173, \"n_unique_y\": 58, \"n_batch/episode\": 6319}, \"val\": {\"n_unique_x\": 37166, \"n_unique_y\": 58, \"n_batch/episode\": 875}, \"test\": {\"n_unique_x\": 37642, \"n_unique_y\": 58, \"n_batch/episode\": 890}}, \"target\": {\"train\": {\"n_unique_x\": 179200, \"n_unique_y\": 16, \"n_batch/episode\": 6720}, \"val\": {\"n_unique_x\": 38400, \"n_unique_y\": 16, \"n_batch/episode\": 960}, \"test\": {\"n_unique_x\": 38400, \"n_unique_y\": 16, \"n_batch/episode\": 960}}}}'"
      ]
     },
     "execution_count": 29,
     "metadata": {},
     "output_type": "execute_result"
    }
   ],
   "source": [
    "json.dumps(experiment)"
   ]
  }
 ],
 "metadata": {
  "celltoolbar": "Tags",
  "kernelspec": {
   "display_name": "Python 3 (ipykernel)",
   "language": "python",
   "name": "python3"
  },
  "language_info": {
   "codemirror_mode": {
    "name": "ipython",
    "version": 3
   },
   "file_extension": ".py",
   "mimetype": "text/x-python",
   "name": "python",
   "nbconvert_exporter": "python",
   "pygments_lexer": "ipython3",
   "version": "3.8.10"
  },
  "papermill": {
   "default_parameters": {},
   "duration": 2917.37509,
   "end_time": "2022-03-25T20:55:41.678571",
   "environment_variables": {},
   "exception": null,
   "input_path": "/mnt/wd500GB/CSC500/csc500-main/csc500-notebooks/templates/tl_ptn_template.ipynb",
   "output_path": "trial.ipynb",
   "parameters": {
    "parameters": {
     "BEST_MODEL_PATH": "./best_model.pth",
     "NUM_LOGS_PER_EPOCH": 10,
     "criteria_for_best": "target_accuracy",
     "dataset_seed": 500,
     "datasets": [
      {
       "domain_prefix": "C_",
       "domains": [
        1,
        2,
        3,
        4,
        5
       ],
       "episode_transforms": [],
       "labels": [
        "1-10.",
        "1-11.",
        "1-15.",
        "1-16.",
        "1-17.",
        "1-18.",
        "1-19.",
        "10-4.",
        "10-7.",
        "11-1.",
        "11-14.",
        "11-17.",
        "11-20.",
        "11-7.",
        "13-20.",
        "13-8.",
        "14-10.",
        "14-11.",
        "14-14.",
        "14-7.",
        "15-1.",
        "15-20.",
        "16-1.",
        "16-16.",
        "17-10.",
        "17-11.",
        "17-2.",
        "19-1.",
        "19-16.",
        "19-19.",
        "19-20.",
        "19-3.",
        "2-10.",
        "2-11.",
        "2-17.",
        "2-18.",
        "2-20.",
        "2-3.",
        "2-4.",
        "2-5.",
        "2-6.",
        "2-7.",
        "2-8.",
        "3-13.",
        "3-18.",
        "3-3.",
        "4-1.",
        "4-10.",
        "4-11.",
        "4-19.",
        "5-5.",
        "6-15.",
        "7-10.",
        "7-14.",
        "8-18.",
        "8-20.",
        "8-3.",
        "8-8."
       ],
       "num_examples_per_domain_per_label": -1,
       "pickle_path": "/mnt/wd500GB/CSC500/csc500-main/datasets/cores.stratified_ds.2022A.pkl",
       "source_or_target_dataset": "source",
       "x_transforms": [
        "unit_mag",
        "lowpass_+/-10MHz",
        "take_200"
       ]
      },
      {
       "domain_prefix": "O_",
       "domains": [
        32,
        38,
        8,
        44,
        14,
        50,
        20,
        26
       ],
       "episode_transforms": [],
       "labels": [
        "3123D52",
        "3123D65",
        "3123D79",
        "3123D80",
        "3123D54",
        "3123D70",
        "3123D7B",
        "3123D89",
        "3123D58",
        "3123D76",
        "3123D7D",
        "3123EFE",
        "3123D64",
        "3123D78",
        "3123D7E",
        "3124E4A"
       ],
       "num_examples_per_domain_per_label": 2000,
       "pickle_path": "/mnt/wd500GB/CSC500/csc500-main/datasets/oracle.Run1_framed_2000Examples_stratified_ds.2022A.pkl",
       "source_or_target_dataset": "target",
       "x_transforms": [
        "unit_mag",
        "take_200",
        "resample_20Msps_to_25Msps"
       ]
      }
     ],
     "device": "cuda",
     "experiment_name": "tl_3-filterv2:cores -> oracle.run1.framed",
     "lr": 0.0001,
     "n_epoch": 50,
     "n_query": 2,
     "n_shot": 3,
     "n_way": 16,
     "patience": 3,
     "seed": 500,
     "test_k_factor": 2,
     "torch_default_dtype": "torch.float32",
     "train_k_factor": 3,
     "val_k_factor": 2,
     "x_net": [
      {
       "class": "nnReshape",
       "kargs": {
        "shape": [
         -1,
         1,
         2,
         200
        ]
       }
      },
      {
       "class": "Conv2d",
       "kargs": {
        "bias": false,
        "in_channels": 1,
        "kernel_size": [
         1,
         7
        ],
        "out_channels": 256,
        "padding": [
         0,
         3
        ]
       }
      },
      {
       "class": "ReLU",
       "kargs": {
        "inplace": true
       }
      },
      {
       "class": "BatchNorm2d",
       "kargs": {
        "num_features": 256
       }
      },
      {
       "class": "Conv2d",
       "kargs": {
        "bias": true,
        "in_channels": 256,
        "kernel_size": [
         2,
         7
        ],
        "out_channels": 80,
        "padding": [
         0,
         3
        ]
       }
      },
      {
       "class": "ReLU",
       "kargs": {
        "inplace": true
       }
      },
      {
       "class": "BatchNorm2d",
       "kargs": {
        "num_features": 80
       }
      },
      {
       "class": "Flatten",
       "kargs": {}
      },
      {
       "class": "Linear",
       "kargs": {
        "in_features": 16000,
        "out_features": 256
       }
      },
      {
       "class": "ReLU",
       "kargs": {
        "inplace": true
       }
      },
      {
       "class": "BatchNorm1d",
       "kargs": {
        "num_features": 256
       }
      },
      {
       "class": "Linear",
       "kargs": {
        "in_features": 256,
        "out_features": 256
       }
      }
     ],
     "x_shape": [
      2,
      200
     ]
    }
   },
   "start_time": "2022-03-25T20:07:04.303481",
   "version": "2.3.4"
  }
 },
 "nbformat": 4,
 "nbformat_minor": 5
}