{
 "cells": [
  {
   "cell_type": "markdown",
   "id": "9fea5f46",
   "metadata": {
    "papermill": {
     "duration": 0.017732,
     "end_time": "2022-03-25T16:43:30.214328",
     "exception": false,
     "start_time": "2022-03-25T16:43:30.196596",
     "status": "completed"
    },
    "tags": []
   },
   "source": [
    "# Transfer Learning Template"
   ]
  },
  {
   "cell_type": "code",
   "execution_count": 1,
   "id": "0902182a",
   "metadata": {
    "execution": {
     "iopub.execute_input": "2022-03-25T16:43:30.253455Z",
     "iopub.status.busy": "2022-03-25T16:43:30.251544Z",
     "iopub.status.idle": "2022-03-25T16:43:31.237315Z",
     "shell.execute_reply": "2022-03-25T16:43:31.237013Z"
    },
    "papermill": {
     "duration": 1.01036,
     "end_time": "2022-03-25T16:43:31.237384",
     "exception": false,
     "start_time": "2022-03-25T16:43:30.227024",
     "status": "completed"
    },
    "tags": []
   },
   "outputs": [],
   "source": [
    "%load_ext autoreload\n",
    "%autoreload 2\n",
    "%matplotlib inline\n",
    "\n",
    "    \n",
    "import os, json, sys, time, random\n",
    "import numpy as np\n",
    "import torch\n",
    "from torch.optim import Adam\n",
    "from  easydict import EasyDict\n",
    "import matplotlib.pyplot as plt\n",
    "\n",
    "from steves_models.steves_ptn import Steves_Prototypical_Network\n",
    "\n",
    "from steves_utils.lazy_iterable_wrapper import Lazy_Iterable_Wrapper\n",
    "from steves_utils.iterable_aggregator import Iterable_Aggregator\n",
    "from steves_utils.ptn_train_eval_test_jig import  PTN_Train_Eval_Test_Jig\n",
    "from steves_utils.torch_sequential_builder import build_sequential\n",
    "from steves_utils.torch_utils import get_dataset_metrics, ptn_confusion_by_domain_over_dataloader\n",
    "from steves_utils.utils_v2 import (per_domain_accuracy_from_confusion, get_datasets_base_path)\n",
    "from steves_utils.PTN.utils import independent_accuracy_assesment\n",
    "\n",
    "from torch.utils.data import DataLoader\n",
    "\n",
    "from steves_utils.stratified_dataset.episodic_accessor import Episodic_Accessor_Factory\n",
    "\n",
    "from steves_utils.ptn_do_report import (\n",
    "    get_loss_curve,\n",
    "    get_results_table,\n",
    "    get_parameters_table,\n",
    "    get_domain_accuracies,\n",
    ")\n",
    "\n",
    "from steves_utils.transforms import get_chained_transform"
   ]
  },
  {
   "cell_type": "markdown",
   "id": "41c840b4",
   "metadata": {
    "papermill": {
     "duration": 0.012782,
     "end_time": "2022-03-25T16:43:31.271834",
     "exception": false,
     "start_time": "2022-03-25T16:43:31.259052",
     "status": "completed"
    },
    "tags": []
   },
   "source": [
    "# Allowed Parameters\n",
    "These are allowed parameters, not defaults\n",
    "Each of these values need to be present in the injected parameters (the notebook will raise an exception if they are not present)\n",
    "\n",
    "Papermill uses the cell tag \"parameters\" to inject the real parameters below this cell.\n",
    "Enable tags to see what I mean"
   ]
  },
  {
   "cell_type": "code",
   "execution_count": 2,
   "id": "fd44eb83",
   "metadata": {
    "execution": {
     "iopub.execute_input": "2022-03-25T16:43:31.300597Z",
     "iopub.status.busy": "2022-03-25T16:43:31.300331Z",
     "iopub.status.idle": "2022-03-25T16:43:31.316169Z",
     "shell.execute_reply": "2022-03-25T16:43:31.316380Z"
    },
    "papermill": {
     "duration": 0.031837,
     "end_time": "2022-03-25T16:43:31.316450",
     "exception": false,
     "start_time": "2022-03-25T16:43:31.284613",
     "status": "completed"
    },
    "tags": []
   },
   "outputs": [],
   "source": [
    "required_parameters = {\n",
    "    \"experiment_name\",\n",
    "    \"lr\",\n",
    "    \"device\",\n",
    "    \"seed\",\n",
    "    \"dataset_seed\",\n",
    "    \"n_shot\",\n",
    "    \"n_query\",\n",
    "    \"n_way\",\n",
    "    \"train_k_factor\",\n",
    "    \"val_k_factor\",\n",
    "    \"test_k_factor\",\n",
    "    \"n_epoch\",\n",
    "    \"patience\",\n",
    "    \"criteria_for_best\",\n",
    "    \"x_net\",\n",
    "    \"datasets\",\n",
    "    \"torch_default_dtype\",\n",
    "    \"NUM_LOGS_PER_EPOCH\",\n",
    "    \"BEST_MODEL_PATH\",\n",
    "    \"x_shape\",\n",
    "}"
   ]
  },
  {
   "cell_type": "code",
   "execution_count": 3,
   "id": "fa3f0049",
   "metadata": {
    "execution": {
     "iopub.execute_input": "2022-03-25T16:43:31.353685Z",
     "iopub.status.busy": "2022-03-25T16:43:31.353394Z",
     "iopub.status.idle": "2022-03-25T16:43:31.365895Z",
     "shell.execute_reply": "2022-03-25T16:43:31.366318Z"
    },
    "papermill": {
     "duration": 0.036869,
     "end_time": "2022-03-25T16:43:31.366445",
     "exception": false,
     "start_time": "2022-03-25T16:43:31.329576",
     "status": "completed"
    },
    "tags": [
     "parameters"
    ]
   },
   "outputs": [],
   "source": [
    "from steves_utils.CORES.utils import (\n",
    "    ALL_NODES,\n",
    "    ALL_NODES_MINIMUM_1000_EXAMPLES,\n",
    "    ALL_DAYS\n",
    ")\n",
    "\n",
    "from steves_utils.ORACLE.utils_v2 import (\n",
    "    ALL_DISTANCES_FEET_NARROWED,\n",
    "    ALL_RUNS,\n",
    "    ALL_SERIAL_NUMBERS,\n",
    ")\n",
    "\n",
    "standalone_parameters = {}\n",
    "standalone_parameters[\"experiment_name\"] = \"STANDALONE PTN\"\n",
    "standalone_parameters[\"lr\"] = 0.001\n",
    "standalone_parameters[\"device\"] = \"cuda\"\n",
    "\n",
    "standalone_parameters[\"seed\"] = 1337\n",
    "standalone_parameters[\"dataset_seed\"] = 1337\n",
    "\n",
    "standalone_parameters[\"n_way\"] = 8\n",
    "standalone_parameters[\"n_shot\"] = 3\n",
    "standalone_parameters[\"n_query\"]  = 2\n",
    "standalone_parameters[\"train_k_factor\"] = 1\n",
    "standalone_parameters[\"val_k_factor\"] = 2\n",
    "standalone_parameters[\"test_k_factor\"] = 2\n",
    "\n",
    "\n",
    "standalone_parameters[\"n_epoch\"] = 50\n",
    "\n",
    "standalone_parameters[\"patience\"] = 10\n",
    "standalone_parameters[\"criteria_for_best\"] = \"source_loss\"\n",
    "\n",
    "standalone_parameters[\"datasets\"] = [\n",
    "    {\n",
    "        \"labels\": ALL_SERIAL_NUMBERS,\n",
    "        \"domains\": ALL_DISTANCES_FEET_NARROWED,\n",
    "        \"num_examples_per_domain_per_label\": 100,\n",
    "        \"pickle_path\": os.path.join(get_datasets_base_path(), \"oracle.Run1_framed_2000Examples_stratified_ds.2022A.pkl\"),\n",
    "        \"source_or_target_dataset\": \"source\",\n",
    "        \"x_transforms\": [\"unit_mag\", \"minus_two\"],\n",
    "        \"episode_transforms\": [],\n",
    "        \"domain_prefix\": \"ORACLE_\"\n",
    "    },\n",
    "    {\n",
    "        \"labels\": ALL_NODES,\n",
    "        \"domains\": ALL_DAYS,\n",
    "        \"num_examples_per_domain_per_label\": 100,\n",
    "        \"pickle_path\": os.path.join(get_datasets_base_path(), \"cores.stratified_ds.2022A.pkl\"),\n",
    "        \"source_or_target_dataset\": \"target\",\n",
    "        \"x_transforms\": [\"unit_power\", \"times_zero\"],\n",
    "        \"episode_transforms\": [],\n",
    "        \"domain_prefix\": \"CORES_\"\n",
    "    }   \n",
    "]\n",
    "\n",
    "standalone_parameters[\"torch_default_dtype\"] = \"torch.float32\" \n",
    "\n",
    "\n",
    "\n",
    "standalone_parameters[\"x_net\"] =     [\n",
    "    {\"class\": \"nnReshape\", \"kargs\": {\"shape\":[-1, 1, 2, 256]}},\n",
    "    {\"class\": \"Conv2d\", \"kargs\": { \"in_channels\":1, \"out_channels\":256, \"kernel_size\":(1,7), \"bias\":False, \"padding\":(0,3), },},\n",
    "    {\"class\": \"ReLU\", \"kargs\": {\"inplace\": True}},\n",
    "    {\"class\": \"BatchNorm2d\", \"kargs\": {\"num_features\":256}},\n",
    "\n",
    "    {\"class\": \"Conv2d\", \"kargs\": { \"in_channels\":256, \"out_channels\":80, \"kernel_size\":(2,7), \"bias\":True, \"padding\":(0,3), },},\n",
    "    {\"class\": \"ReLU\", \"kargs\": {\"inplace\": True}},\n",
    "    {\"class\": \"BatchNorm2d\", \"kargs\": {\"num_features\":80}},\n",
    "    {\"class\": \"Flatten\", \"kargs\": {}},\n",
    "\n",
    "    {\"class\": \"Linear\", \"kargs\": {\"in_features\": 80*256, \"out_features\": 256}}, # 80 units per IQ pair\n",
    "    {\"class\": \"ReLU\", \"kargs\": {\"inplace\": True}},\n",
    "    {\"class\": \"BatchNorm1d\", \"kargs\": {\"num_features\":256}},\n",
    "\n",
    "    {\"class\": \"Linear\", \"kargs\": {\"in_features\": 256, \"out_features\": 256}},\n",
    "]\n",
    "\n",
    "# Parameters relevant to results\n",
    "# These parameters will basically never need to change\n",
    "standalone_parameters[\"NUM_LOGS_PER_EPOCH\"] = 10\n",
    "standalone_parameters[\"BEST_MODEL_PATH\"] = \"./best_model.pth\"\n",
    "\n",
    "\n",
    "\n",
    "\n"
   ]
  },
  {
   "cell_type": "code",
   "execution_count": 4,
   "id": "2ee778ff",
   "metadata": {
    "execution": {
     "iopub.execute_input": "2022-03-25T16:43:31.408623Z",
     "iopub.status.busy": "2022-03-25T16:43:31.408318Z",
     "iopub.status.idle": "2022-03-25T16:43:31.421137Z",
     "shell.execute_reply": "2022-03-25T16:43:31.421353Z"
    },
    "papermill": {
     "duration": 0.035762,
     "end_time": "2022-03-25T16:43:31.421423",
     "exception": false,
     "start_time": "2022-03-25T16:43:31.385661",
     "status": "completed"
    },
    "tags": [
     "injected-parameters"
    ]
   },
   "outputs": [],
   "source": [
    "# Parameters\n",
    "parameters = {\n",
    "    \"experiment_name\": \"tl_3-filterv2:cores -> oracle.run1.framed\",\n",
    "    \"device\": \"cuda\",\n",
    "    \"lr\": 0.0001,\n",
    "    \"x_shape\": [2, 200],\n",
    "    \"n_shot\": 3,\n",
    "    \"n_query\": 2,\n",
    "    \"train_k_factor\": 3,\n",
    "    \"val_k_factor\": 2,\n",
    "    \"test_k_factor\": 2,\n",
    "    \"torch_default_dtype\": \"torch.float32\",\n",
    "    \"n_epoch\": 50,\n",
    "    \"patience\": 3,\n",
    "    \"criteria_for_best\": \"target_accuracy\",\n",
    "    \"x_net\": [\n",
    "        {\"class\": \"nnReshape\", \"kargs\": {\"shape\": [-1, 1, 2, 200]}},\n",
    "        {\n",
    "            \"class\": \"Conv2d\",\n",
    "            \"kargs\": {\n",
    "                \"in_channels\": 1,\n",
    "                \"out_channels\": 256,\n",
    "                \"kernel_size\": [1, 7],\n",
    "                \"bias\": False,\n",
    "                \"padding\": [0, 3],\n",
    "            },\n",
    "        },\n",
    "        {\"class\": \"ReLU\", \"kargs\": {\"inplace\": True}},\n",
    "        {\"class\": \"BatchNorm2d\", \"kargs\": {\"num_features\": 256}},\n",
    "        {\n",
    "            \"class\": \"Conv2d\",\n",
    "            \"kargs\": {\n",
    "                \"in_channels\": 256,\n",
    "                \"out_channels\": 80,\n",
    "                \"kernel_size\": [2, 7],\n",
    "                \"bias\": True,\n",
    "                \"padding\": [0, 3],\n",
    "            },\n",
    "        },\n",
    "        {\"class\": \"ReLU\", \"kargs\": {\"inplace\": True}},\n",
    "        {\"class\": \"BatchNorm2d\", \"kargs\": {\"num_features\": 80}},\n",
    "        {\"class\": \"Flatten\", \"kargs\": {}},\n",
    "        {\"class\": \"Linear\", \"kargs\": {\"in_features\": 16000, \"out_features\": 256}},\n",
    "        {\"class\": \"ReLU\", \"kargs\": {\"inplace\": True}},\n",
    "        {\"class\": \"BatchNorm1d\", \"kargs\": {\"num_features\": 256}},\n",
    "        {\"class\": \"Linear\", \"kargs\": {\"in_features\": 256, \"out_features\": 256}},\n",
    "    ],\n",
    "    \"NUM_LOGS_PER_EPOCH\": 10,\n",
    "    \"BEST_MODEL_PATH\": \"./best_model.pth\",\n",
    "    \"n_way\": 16,\n",
    "    \"datasets\": [\n",
    "        {\n",
    "            \"labels\": [\n",
    "                \"1-10.\",\n",
    "                \"1-11.\",\n",
    "                \"1-15.\",\n",
    "                \"1-16.\",\n",
    "                \"1-17.\",\n",
    "                \"1-18.\",\n",
    "                \"1-19.\",\n",
    "                \"10-4.\",\n",
    "                \"10-7.\",\n",
    "                \"11-1.\",\n",
    "                \"11-14.\",\n",
    "                \"11-17.\",\n",
    "                \"11-20.\",\n",
    "                \"11-7.\",\n",
    "                \"13-20.\",\n",
    "                \"13-8.\",\n",
    "                \"14-10.\",\n",
    "                \"14-11.\",\n",
    "                \"14-14.\",\n",
    "                \"14-7.\",\n",
    "                \"15-1.\",\n",
    "                \"15-20.\",\n",
    "                \"16-1.\",\n",
    "                \"16-16.\",\n",
    "                \"17-10.\",\n",
    "                \"17-11.\",\n",
    "                \"17-2.\",\n",
    "                \"19-1.\",\n",
    "                \"19-16.\",\n",
    "                \"19-19.\",\n",
    "                \"19-20.\",\n",
    "                \"19-3.\",\n",
    "                \"2-10.\",\n",
    "                \"2-11.\",\n",
    "                \"2-17.\",\n",
    "                \"2-18.\",\n",
    "                \"2-20.\",\n",
    "                \"2-3.\",\n",
    "                \"2-4.\",\n",
    "                \"2-5.\",\n",
    "                \"2-6.\",\n",
    "                \"2-7.\",\n",
    "                \"2-8.\",\n",
    "                \"3-13.\",\n",
    "                \"3-18.\",\n",
    "                \"3-3.\",\n",
    "                \"4-1.\",\n",
    "                \"4-10.\",\n",
    "                \"4-11.\",\n",
    "                \"4-19.\",\n",
    "                \"5-5.\",\n",
    "                \"6-15.\",\n",
    "                \"7-10.\",\n",
    "                \"7-14.\",\n",
    "                \"8-18.\",\n",
    "                \"8-20.\",\n",
    "                \"8-3.\",\n",
    "                \"8-8.\",\n",
    "            ],\n",
    "            \"domains\": [1, 2, 3, 4, 5],\n",
    "            \"num_examples_per_domain_per_label\": -1,\n",
    "            \"pickle_path\": \"/mnt/wd500GB/CSC500/csc500-main/datasets/cores.stratified_ds.2022A.pkl\",\n",
    "            \"source_or_target_dataset\": \"source\",\n",
    "            \"x_transforms\": [\"unit_mag\", \"lowpass_+/-10MHz\", \"take_200\"],\n",
    "            \"episode_transforms\": [],\n",
    "            \"domain_prefix\": \"C_\",\n",
    "        },\n",
    "        {\n",
    "            \"labels\": [\n",
    "                \"3123D52\",\n",
    "                \"3123D65\",\n",
    "                \"3123D79\",\n",
    "                \"3123D80\",\n",
    "                \"3123D54\",\n",
    "                \"3123D70\",\n",
    "                \"3123D7B\",\n",
    "                \"3123D89\",\n",
    "                \"3123D58\",\n",
    "                \"3123D76\",\n",
    "                \"3123D7D\",\n",
    "                \"3123EFE\",\n",
    "                \"3123D64\",\n",
    "                \"3123D78\",\n",
    "                \"3123D7E\",\n",
    "                \"3124E4A\",\n",
    "            ],\n",
    "            \"domains\": [32, 38, 8, 44, 14, 50, 20, 26],\n",
    "            \"num_examples_per_domain_per_label\": 2000,\n",
    "            \"pickle_path\": \"/mnt/wd500GB/CSC500/csc500-main/datasets/oracle.Run1_framed_2000Examples_stratified_ds.2022A.pkl\",\n",
    "            \"source_or_target_dataset\": \"target\",\n",
    "            \"x_transforms\": [\"unit_mag\", \"take_200\", \"resample_20Msps_to_25Msps\"],\n",
    "            \"episode_transforms\": [],\n",
    "            \"domain_prefix\": \"O_\",\n",
    "        },\n",
    "    ],\n",
    "    \"seed\": 420,\n",
    "    \"dataset_seed\": 420,\n",
    "}\n"
   ]
  },
  {
   "cell_type": "code",
   "execution_count": 5,
   "id": "8fa1cc33",
   "metadata": {
    "execution": {
     "iopub.execute_input": "2022-03-25T16:43:31.451892Z",
     "iopub.status.busy": "2022-03-25T16:43:31.449084Z",
     "iopub.status.idle": "2022-03-25T16:43:31.466368Z",
     "shell.execute_reply": "2022-03-25T16:43:31.466798Z"
    },
    "papermill": {
     "duration": 0.03211,
     "end_time": "2022-03-25T16:43:31.466924",
     "exception": false,
     "start_time": "2022-03-25T16:43:31.434814",
     "status": "completed"
    },
    "tags": []
   },
   "outputs": [],
   "source": [
    "# Set this to True if you want to run this template directly\n",
    "STANDALONE = False\n",
    "if STANDALONE:\n",
    "    print(\"parameters not injected, running with standalone_parameters\")\n",
    "    parameters = standalone_parameters\n",
    "\n",
    "if not 'parameters' in locals() and not 'parameters' in globals():\n",
    "    raise Exception(\"Parameter injection failed\")\n",
    "\n",
    "#Use an easy dict for all the parameters\n",
    "p = EasyDict(parameters)\n",
    "\n",
    "if \"x_shape\" not in p:\n",
    "    p.x_shape = [2,256] # Default to this if we dont supply x_shape\n",
    "\n",
    "\n",
    "supplied_keys = set(p.keys())\n",
    "\n",
    "if  supplied_keys != required_parameters:\n",
    "    print(\"Parameters are incorrect\")\n",
    "    if len(supplied_keys - required_parameters)>0: print(\"Shouldn't have:\", str(supplied_keys - required_parameters))\n",
    "    if len(required_parameters - supplied_keys)>0: print(\"Need to have:\", str(required_parameters - supplied_keys))\n",
    "    raise RuntimeError(\"Parameters are incorrect\")"
   ]
  },
  {
   "cell_type": "code",
   "execution_count": 6,
   "id": "3a028d58",
   "metadata": {
    "execution": {
     "iopub.execute_input": "2022-03-25T16:43:31.500750Z",
     "iopub.status.busy": "2022-03-25T16:43:31.500447Z",
     "iopub.status.idle": "2022-03-25T16:43:31.514168Z",
     "shell.execute_reply": "2022-03-25T16:43:31.514488Z"
    },
    "papermill": {
     "duration": 0.028758,
     "end_time": "2022-03-25T16:43:31.514610",
     "exception": false,
     "start_time": "2022-03-25T16:43:31.485852",
     "status": "completed"
    },
    "tags": []
   },
   "outputs": [],
   "source": [
    "###################################\n",
    "# Set the RNGs and make it all deterministic\n",
    "###################################\n",
    "np.random.seed(p.seed)\n",
    "random.seed(p.seed)\n",
    "torch.manual_seed(p.seed)\n",
    "\n",
    "torch.use_deterministic_algorithms(True) "
   ]
  },
  {
   "cell_type": "code",
   "execution_count": 7,
   "id": "b691acf6",
   "metadata": {
    "execution": {
     "iopub.execute_input": "2022-03-25T16:43:31.549179Z",
     "iopub.status.busy": "2022-03-25T16:43:31.548563Z",
     "iopub.status.idle": "2022-03-25T16:43:31.564494Z",
     "shell.execute_reply": "2022-03-25T16:43:31.564259Z"
    },
    "papermill": {
     "duration": 0.030743,
     "end_time": "2022-03-25T16:43:31.564553",
     "exception": false,
     "start_time": "2022-03-25T16:43:31.533810",
     "status": "completed"
    },
    "tags": []
   },
   "outputs": [],
   "source": [
    "###########################################\n",
    "# The stratified datasets honor this\n",
    "###########################################\n",
    "torch.set_default_dtype(eval(p.torch_default_dtype))"
   ]
  },
  {
   "cell_type": "code",
   "execution_count": 8,
   "id": "b5fba671",
   "metadata": {
    "execution": {
     "iopub.execute_input": "2022-03-25T16:43:31.593128Z",
     "iopub.status.busy": "2022-03-25T16:43:31.592728Z",
     "iopub.status.idle": "2022-03-25T16:43:31.627710Z",
     "shell.execute_reply": "2022-03-25T16:43:31.627260Z"
    },
    "papermill": {
     "duration": 0.049891,
     "end_time": "2022-03-25T16:43:31.627820",
     "exception": false,
     "start_time": "2022-03-25T16:43:31.577929",
     "status": "completed"
    },
    "tags": []
   },
   "outputs": [],
   "source": [
    "###################################\n",
    "# Build the network(s)\n",
    "# Note: It's critical to do this AFTER setting the RNG\n",
    "###################################\n",
    "x_net = build_sequential(p.x_net)"
   ]
  },
  {
   "cell_type": "code",
   "execution_count": 9,
   "id": "5d7e61cc",
   "metadata": {
    "execution": {
     "iopub.execute_input": "2022-03-25T16:43:31.666213Z",
     "iopub.status.busy": "2022-03-25T16:43:31.665905Z",
     "iopub.status.idle": "2022-03-25T16:43:31.676922Z",
     "shell.execute_reply": "2022-03-25T16:43:31.676687Z"
    },
    "papermill": {
     "duration": 0.026293,
     "end_time": "2022-03-25T16:43:31.676981",
     "exception": false,
     "start_time": "2022-03-25T16:43:31.650688",
     "status": "completed"
    },
    "tags": []
   },
   "outputs": [],
   "source": [
    "start_time_secs = time.time()"
   ]
  },
  {
   "cell_type": "code",
   "execution_count": 10,
   "id": "c6b67dfd",
   "metadata": {
    "execution": {
     "iopub.execute_input": "2022-03-25T16:43:31.708446Z",
     "iopub.status.busy": "2022-03-25T16:43:31.708180Z",
     "iopub.status.idle": "2022-03-25T16:43:31.719668Z",
     "shell.execute_reply": "2022-03-25T16:43:31.719172Z"
    },
    "papermill": {
     "duration": 0.02658,
     "end_time": "2022-03-25T16:43:31.719770",
     "exception": false,
     "start_time": "2022-03-25T16:43:31.693190",
     "status": "completed"
    },
    "tags": []
   },
   "outputs": [],
   "source": [
    "p.domains_source = []\n",
    "p.domains_target = []\n",
    "\n",
    "\n",
    "train_original_source = []\n",
    "val_original_source   = []\n",
    "test_original_source  = []\n",
    "\n",
    "train_original_target = []\n",
    "val_original_target   = []\n",
    "test_original_target  = []"
   ]
  },
  {
   "cell_type": "code",
   "execution_count": 11,
   "id": "e3d9c3d3",
   "metadata": {
    "execution": {
     "iopub.execute_input": "2022-03-25T16:43:31.755727Z",
     "iopub.status.busy": "2022-03-25T16:43:31.755468Z",
     "iopub.status.idle": "2022-03-25T16:43:31.766677Z",
     "shell.execute_reply": "2022-03-25T16:43:31.766182Z"
    },
    "papermill": {
     "duration": 0.028054,
     "end_time": "2022-03-25T16:43:31.766779",
     "exception": false,
     "start_time": "2022-03-25T16:43:31.738725",
     "status": "completed"
    },
    "tags": []
   },
   "outputs": [],
   "source": [
    "# global_x_transform_func = lambda x: normalize(x.to(torch.get_default_dtype()), \"unit_power\") # unit_power, unit_mag\n",
    "# global_x_transform_func = lambda x: normalize(x, \"unit_power\") # unit_power, unit_mag"
   ]
  },
  {
   "cell_type": "code",
   "execution_count": 12,
   "id": "acb78fd2",
   "metadata": {
    "execution": {
     "iopub.execute_input": "2022-03-25T16:43:31.805368Z",
     "iopub.status.busy": "2022-03-25T16:43:31.805100Z",
     "iopub.status.idle": "2022-03-25T16:43:31.820220Z",
     "shell.execute_reply": "2022-03-25T16:43:31.819689Z"
    },
    "papermill": {
     "duration": 0.035779,
     "end_time": "2022-03-25T16:43:31.820328",
     "exception": false,
     "start_time": "2022-03-25T16:43:31.784549",
     "status": "completed"
    },
    "tags": []
   },
   "outputs": [],
   "source": [
    "def add_dataset(\n",
    "    labels,\n",
    "    domains,\n",
    "    pickle_path,\n",
    "    x_transforms,\n",
    "    episode_transforms,\n",
    "    domain_prefix,\n",
    "    num_examples_per_domain_per_label,\n",
    "    source_or_target_dataset:str,\n",
    "    iterator_seed=p.seed,\n",
    "    dataset_seed=p.dataset_seed,\n",
    "    n_shot=p.n_shot,\n",
    "    n_way=p.n_way,\n",
    "    n_query=p.n_query,\n",
    "    train_val_test_k_factors=(p.train_k_factor,p.val_k_factor,p.test_k_factor),\n",
    "):\n",
    "   \n",
    "    if x_transforms == []: x_transform = None\n",
    "    else: x_transform = get_chained_transform(x_transforms)\n",
    "    \n",
    "    if episode_transforms == []: episode_transform = None\n",
    "    else: raise Exception(\"episode_transforms not implemented\")\n",
    "    \n",
    "    episode_transform = lambda tup, _prefix=domain_prefix: (_prefix + str(tup[0]), tup[1])\n",
    "\n",
    "\n",
    "    eaf = Episodic_Accessor_Factory(\n",
    "        labels=labels,\n",
    "        domains=domains,\n",
    "        num_examples_per_domain_per_label=num_examples_per_domain_per_label,\n",
    "        iterator_seed=iterator_seed,\n",
    "        dataset_seed=dataset_seed,\n",
    "        n_shot=n_shot,\n",
    "        n_way=n_way,\n",
    "        n_query=n_query,\n",
    "        train_val_test_k_factors=train_val_test_k_factors,\n",
    "        pickle_path=pickle_path,\n",
    "        x_transform_func=x_transform,\n",
    "    )\n",
    "\n",
    "    train, val, test = eaf.get_train(), eaf.get_val(), eaf.get_test()\n",
    "    train = Lazy_Iterable_Wrapper(train, episode_transform)\n",
    "    val = Lazy_Iterable_Wrapper(val, episode_transform)\n",
    "    test = Lazy_Iterable_Wrapper(test, episode_transform)\n",
    "\n",
    "    if source_or_target_dataset==\"source\":\n",
    "        train_original_source.append(train)\n",
    "        val_original_source.append(val)\n",
    "        test_original_source.append(test)\n",
    "\n",
    "        p.domains_source.extend(\n",
    "            [domain_prefix + str(u) for u in domains]\n",
    "        )\n",
    "    elif source_or_target_dataset==\"target\":\n",
    "        train_original_target.append(train)\n",
    "        val_original_target.append(val)\n",
    "        test_original_target.append(test)\n",
    "        p.domains_target.extend(\n",
    "            [domain_prefix + str(u) for u in domains]\n",
    "        )\n",
    "    else:\n",
    "        raise Exception(f\"invalid source_or_target_dataset: {source_or_target_dataset}\")\n",
    "    "
   ]
  },
  {
   "cell_type": "code",
   "execution_count": 13,
   "id": "fe266617",
   "metadata": {
    "execution": {
     "iopub.execute_input": "2022-03-25T16:43:31.857668Z",
     "iopub.status.busy": "2022-03-25T16:43:31.857410Z",
     "iopub.status.idle": "2022-03-25T16:44:25.167239Z",
     "shell.execute_reply": "2022-03-25T16:44:25.166761Z"
    },
    "papermill": {
     "duration": 53.328095,
     "end_time": "2022-03-25T16:44:25.167352",
     "exception": false,
     "start_time": "2022-03-25T16:43:31.839257",
     "status": "completed"
    },
    "tags": []
   },
   "outputs": [],
   "source": [
    "for ds in p.datasets:\n",
    "    add_dataset(**ds)"
   ]
  },
  {
   "cell_type": "code",
   "execution_count": 14,
   "id": "b90d65ac",
   "metadata": {
    "execution": {
     "iopub.execute_input": "2022-03-25T16:44:25.203497Z",
     "iopub.status.busy": "2022-03-25T16:44:25.203092Z",
     "iopub.status.idle": "2022-03-25T16:44:25.218449Z",
     "shell.execute_reply": "2022-03-25T16:44:25.217986Z"
    },
    "papermill": {
     "duration": 0.031473,
     "end_time": "2022-03-25T16:44:25.218553",
     "exception": false,
     "start_time": "2022-03-25T16:44:25.187080",
     "status": "completed"
    },
    "tags": []
   },
   "outputs": [],
   "source": [
    "# from steves_utils.CORES.utils import (\n",
    "#     ALL_NODES,\n",
    "#     ALL_NODES_MINIMUM_1000_EXAMPLES,\n",
    "#     ALL_DAYS\n",
    "# )\n",
    "\n",
    "# add_dataset(\n",
    "#     labels=ALL_NODES,\n",
    "#     domains = ALL_DAYS,\n",
    "#     num_examples_per_domain_per_label=100,\n",
    "#     pickle_path=os.path.join(get_datasets_base_path(), \"cores.stratified_ds.2022A.pkl\"),\n",
    "#     source_or_target_dataset=\"target\",\n",
    "#     x_transform_func=global_x_transform_func,\n",
    "#     domain_modifier=lambda u: f\"cores_{u}\"\n",
    "# )"
   ]
  },
  {
   "cell_type": "code",
   "execution_count": 15,
   "id": "76db484d",
   "metadata": {
    "execution": {
     "iopub.execute_input": "2022-03-25T16:44:25.255175Z",
     "iopub.status.busy": "2022-03-25T16:44:25.254583Z",
     "iopub.status.idle": "2022-03-25T16:44:25.269460Z",
     "shell.execute_reply": "2022-03-25T16:44:25.269006Z"
    },
    "papermill": {
     "duration": 0.031274,
     "end_time": "2022-03-25T16:44:25.269561",
     "exception": false,
     "start_time": "2022-03-25T16:44:25.238287",
     "status": "completed"
    },
    "tags": []
   },
   "outputs": [],
   "source": [
    "# from steves_utils.ORACLE.utils_v2 import (\n",
    "#     ALL_DISTANCES_FEET,\n",
    "#     ALL_RUNS,\n",
    "#     ALL_SERIAL_NUMBERS,\n",
    "# )\n",
    "\n",
    "\n",
    "# add_dataset(\n",
    "#     labels=ALL_SERIAL_NUMBERS,\n",
    "#     domains = list(set(ALL_DISTANCES_FEET) - {2,62}),\n",
    "#     num_examples_per_domain_per_label=100,\n",
    "#     pickle_path=os.path.join(get_datasets_base_path(), \"oracle.Run2_framed_2000Examples_stratified_ds.2022A.pkl\"),\n",
    "#     source_or_target_dataset=\"source\",\n",
    "#     x_transform_func=global_x_transform_func,\n",
    "#     domain_modifier=lambda u: f\"oracle1_{u}\"\n",
    "# )\n"
   ]
  },
  {
   "cell_type": "code",
   "execution_count": 16,
   "id": "97dea9d2",
   "metadata": {
    "execution": {
     "iopub.execute_input": "2022-03-25T16:44:25.306479Z",
     "iopub.status.busy": "2022-03-25T16:44:25.305654Z",
     "iopub.status.idle": "2022-03-25T16:44:25.318716Z",
     "shell.execute_reply": "2022-03-25T16:44:25.318938Z"
    },
    "papermill": {
     "duration": 0.031124,
     "end_time": "2022-03-25T16:44:25.319016",
     "exception": false,
     "start_time": "2022-03-25T16:44:25.287892",
     "status": "completed"
    },
    "tags": []
   },
   "outputs": [],
   "source": [
    "# from steves_utils.ORACLE.utils_v2 import (\n",
    "#     ALL_DISTANCES_FEET,\n",
    "#     ALL_RUNS,\n",
    "#     ALL_SERIAL_NUMBERS,\n",
    "# )\n",
    "\n",
    "\n",
    "# add_dataset(\n",
    "#     labels=ALL_SERIAL_NUMBERS,\n",
    "#     domains = list(set(ALL_DISTANCES_FEET) - {2,62,56}),\n",
    "#     num_examples_per_domain_per_label=100,\n",
    "#     pickle_path=os.path.join(get_datasets_base_path(), \"oracle.Run2_framed_2000Examples_stratified_ds.2022A.pkl\"),\n",
    "#     source_or_target_dataset=\"source\",\n",
    "#     x_transform_func=global_x_transform_func,\n",
    "#     domain_modifier=lambda u: f\"oracle2_{u}\"\n",
    "# )"
   ]
  },
  {
   "cell_type": "code",
   "execution_count": 17,
   "id": "6f289866",
   "metadata": {
    "execution": {
     "iopub.execute_input": "2022-03-25T16:44:25.351299Z",
     "iopub.status.busy": "2022-03-25T16:44:25.350891Z",
     "iopub.status.idle": "2022-03-25T16:44:25.361599Z",
     "shell.execute_reply": "2022-03-25T16:44:25.361811Z"
    },
    "papermill": {
     "duration": 0.026375,
     "end_time": "2022-03-25T16:44:25.361887",
     "exception": false,
     "start_time": "2022-03-25T16:44:25.335512",
     "status": "completed"
    },
    "tags": []
   },
   "outputs": [],
   "source": [
    "# add_dataset(\n",
    "#     labels=list(range(19)),\n",
    "#     domains = [0,1,2],\n",
    "#     num_examples_per_domain_per_label=100,\n",
    "#     pickle_path=os.path.join(get_datasets_base_path(), \"metehan.stratified_ds.2022A.pkl\"),\n",
    "#     source_or_target_dataset=\"target\",\n",
    "#     x_transform_func=global_x_transform_func,\n",
    "#     domain_modifier=lambda u: f\"met_{u}\"\n",
    "# )"
   ]
  },
  {
   "cell_type": "code",
   "execution_count": 18,
   "id": "86a863c3",
   "metadata": {
    "execution": {
     "iopub.execute_input": "2022-03-25T16:44:25.394072Z",
     "iopub.status.busy": "2022-03-25T16:44:25.393656Z",
     "iopub.status.idle": "2022-03-25T16:44:25.405769Z",
     "shell.execute_reply": "2022-03-25T16:44:25.405493Z"
    },
    "papermill": {
     "duration": 0.028118,
     "end_time": "2022-03-25T16:44:25.405834",
     "exception": false,
     "start_time": "2022-03-25T16:44:25.377716",
     "status": "completed"
    },
    "tags": []
   },
   "outputs": [],
   "source": [
    "# # from steves_utils.wisig.utils import (\n",
    "# #     ALL_NODES_MINIMUM_100_EXAMPLES,\n",
    "# #     ALL_NODES_MINIMUM_500_EXAMPLES,\n",
    "# #     ALL_NODES_MINIMUM_1000_EXAMPLES,\n",
    "# #     ALL_DAYS\n",
    "# # )\n",
    "\n",
    "# import steves_utils.wisig.utils as wisig\n",
    "\n",
    "\n",
    "# add_dataset(\n",
    "#     labels=wisig.ALL_NODES_MINIMUM_100_EXAMPLES,\n",
    "#     domains = wisig.ALL_DAYS,\n",
    "#     num_examples_per_domain_per_label=100,\n",
    "#     pickle_path=os.path.join(get_datasets_base_path(), \"wisig.node3-19.stratified_ds.2022A.pkl\"),\n",
    "#     source_or_target_dataset=\"target\",\n",
    "#     x_transform_func=global_x_transform_func,\n",
    "#     domain_modifier=lambda u: f\"wisig_{u}\"\n",
    "# )"
   ]
  },
  {
   "cell_type": "code",
   "execution_count": 19,
   "id": "fd5442bc",
   "metadata": {
    "execution": {
     "iopub.execute_input": "2022-03-25T16:44:25.441824Z",
     "iopub.status.busy": "2022-03-25T16:44:25.441402Z",
     "iopub.status.idle": "2022-03-25T16:44:25.453342Z",
     "shell.execute_reply": "2022-03-25T16:44:25.453552Z"
    },
    "papermill": {
     "duration": 0.031248,
     "end_time": "2022-03-25T16:44:25.453632",
     "exception": false,
     "start_time": "2022-03-25T16:44:25.422384",
     "status": "completed"
    },
    "tags": []
   },
   "outputs": [],
   "source": [
    "###################################\n",
    "# Build the dataset\n",
    "###################################\n",
    "train_original_source = Iterable_Aggregator(train_original_source, p.seed)\n",
    "val_original_source = Iterable_Aggregator(val_original_source, p.seed)\n",
    "test_original_source = Iterable_Aggregator(test_original_source, p.seed)\n",
    "\n",
    "\n",
    "train_original_target = Iterable_Aggregator(train_original_target, p.seed)\n",
    "val_original_target = Iterable_Aggregator(val_original_target, p.seed)\n",
    "test_original_target = Iterable_Aggregator(test_original_target, p.seed)\n",
    "\n",
    "# For CNN We only use X and Y. And we only train on the source.\n",
    "# Properly form the data using a transform lambda and Lazy_Iterable_Wrapper. Finally wrap them in a dataloader\n",
    "\n",
    "transform_lambda = lambda ex: ex[1] # Original is (<domain>, <episode>) so we strip down to episode only\n",
    "\n",
    "train_processed_source = Lazy_Iterable_Wrapper(train_original_source, transform_lambda)\n",
    "val_processed_source   = Lazy_Iterable_Wrapper(val_original_source, transform_lambda)\n",
    "test_processed_source  = Lazy_Iterable_Wrapper(test_original_source, transform_lambda)\n",
    "\n",
    "train_processed_target = Lazy_Iterable_Wrapper(train_original_target, transform_lambda)\n",
    "val_processed_target   = Lazy_Iterable_Wrapper(val_original_target, transform_lambda)\n",
    "test_processed_target  = Lazy_Iterable_Wrapper(test_original_target, transform_lambda)\n",
    "\n",
    "datasets = EasyDict({\n",
    "    \"source\": {\n",
    "        \"original\": {\"train\":train_original_source, \"val\":val_original_source, \"test\":test_original_source},\n",
    "        \"processed\": {\"train\":train_processed_source, \"val\":val_processed_source, \"test\":test_processed_source}\n",
    "    },\n",
    "    \"target\": {\n",
    "        \"original\": {\"train\":train_original_target, \"val\":val_original_target, \"test\":test_original_target},\n",
    "        \"processed\": {\"train\":train_processed_target, \"val\":val_processed_target, \"test\":test_processed_target}\n",
    "    },\n",
    "})"
   ]
  },
  {
   "cell_type": "code",
   "execution_count": 20,
   "id": "5b3c01fc",
   "metadata": {
    "execution": {
     "iopub.execute_input": "2022-03-25T16:44:25.486244Z",
     "iopub.status.busy": "2022-03-25T16:44:25.485951Z",
     "iopub.status.idle": "2022-03-25T16:44:31.763491Z",
     "shell.execute_reply": "2022-03-25T16:44:31.763757Z"
    },
    "papermill": {
     "duration": 6.294503,
     "end_time": "2022-03-25T16:44:31.763860",
     "exception": false,
     "start_time": "2022-03-25T16:44:25.469357",
     "status": "completed"
    },
    "tags": []
   },
   "outputs": [
    {
     "name": "stdout",
     "output_type": "stream",
     "text": [
      "{'C_5', 'C_4', 'C_2', 'C_1', 'C_3'}\n"
     ]
    },
    {
     "name": "stdout",
     "output_type": "stream",
     "text": [
      "{'O_38', 'O_8', 'O_44', 'O_32', 'O_50', 'O_20', 'O_26', 'O_14'}\n"
     ]
    },
    {
     "name": "stdout",
     "output_type": "stream",
     "text": [
      "tensor([[[ 1.0202e-02,  1.9907e-02, -1.8723e-01,  ..., -3.4205e-02,\n",
      "           7.8744e-01,  4.5212e-01],\n",
      "         [ 2.3771e-02,  1.6852e-01,  4.4876e-01,  ..., -7.5041e-01,\n",
      "          -1.2421e-02,  2.8145e-02]],\n",
      "\n",
      "        [[ 1.7975e-02,  1.1225e-01,  1.9772e-01,  ..., -5.5879e-01,\n",
      "           1.9893e-01,  8.1374e-01],\n",
      "         [ 6.4527e-03,  6.7971e-02,  2.9137e-01,  ..., -1.3703e+00,\n",
      "          -3.1686e-01, -2.6358e-01]],\n",
      "\n",
      "        [[-2.4312e-02, -1.5352e-01, -3.1693e-01,  ...,  8.3975e-01,\n",
      "          -3.4149e-01, -3.8622e-01],\n",
      "         [-5.8040e-04, -4.0504e-02, -2.8683e-01,  ...,  4.8998e-01,\n",
      "           5.5355e-01,  5.0753e-01]],\n",
      "\n",
      "        ...,\n",
      "\n",
      "        [[ 4.0259e-03,  2.9069e-02,  9.1759e-02,  ...,  2.3680e-01,\n",
      "          -2.3040e-01, -8.9997e-02],\n",
      "         [-4.2699e-04, -3.6025e-03,  1.9814e-02,  ..., -5.5575e-01,\n",
      "           1.0434e+00,  1.4519e+00]],\n",
      "\n",
      "        [[-2.2325e-02, -1.6859e-01, -4.3342e-01,  ..., -1.2617e+00,\n",
      "          -9.0425e-01, -5.6096e-01],\n",
      "         [ 8.2059e-03,  4.4123e-03, -2.0667e-01,  ..., -8.7835e-01,\n",
      "          -3.0384e-01, -6.0561e-01]],\n",
      "\n",
      "        [[-3.8625e-02, -2.2596e-01, -3.7483e-01,  ..., -1.1608e+00,\n",
      "          -6.9851e-01, -2.9315e-01],\n",
      "         [-1.3629e-02, -1.4074e-01, -5.1060e-01,  ..., -6.6125e-01,\n",
      "          -3.1984e-01, -1.0880e+00]]])\n"
     ]
    }
   ],
   "source": [
    "from steves_utils.transforms import get_average_magnitude, get_average_power\n",
    "\n",
    "print(set([u for u,_ in val_original_source]))\n",
    "print(set([u for u,_ in val_original_target]))\n",
    "\n",
    "s_x, s_y, q_x, q_y, _ = next(iter(train_processed_source))\n",
    "print(s_x)\n",
    "\n",
    "# for ds in [\n",
    "#     train_processed_source,\n",
    "#     val_processed_source,\n",
    "#     test_processed_source,\n",
    "#     train_processed_target,\n",
    "#     val_processed_target,\n",
    "#     test_processed_target\n",
    "# ]:\n",
    "#     for s_x, s_y, q_x, q_y, _ in ds:\n",
    "#         for X in (s_x, q_x):\n",
    "#             for x in X:\n",
    "#                 assert np.isclose(get_average_magnitude(x.numpy()), 1.0)\n",
    "#                 assert np.isclose(get_average_power(x.numpy()), 1.0)\n",
    "                "
   ]
  },
  {
   "cell_type": "code",
   "execution_count": 21,
   "id": "bbdacba1",
   "metadata": {
    "execution": {
     "iopub.execute_input": "2022-03-25T16:44:31.801836Z",
     "iopub.status.busy": "2022-03-25T16:44:31.801567Z",
     "iopub.status.idle": "2022-03-25T16:44:31.854637Z",
     "shell.execute_reply": "2022-03-25T16:44:31.855037Z"
    },
    "papermill": {
     "duration": 0.074406,
     "end_time": "2022-03-25T16:44:31.855183",
     "exception": false,
     "start_time": "2022-03-25T16:44:31.780777",
     "status": "completed"
    },
    "tags": []
   },
   "outputs": [
    {
     "name": "stdout",
     "output_type": "stream",
     "text": [
      "(2, 200)\n"
     ]
    }
   ],
   "source": [
    "###################################\n",
    "# Build the model\n",
    "###################################\n",
    "# easfsl only wants a tuple for the shape\n",
    "model = Steves_Prototypical_Network(x_net, device=p.device, x_shape=tuple(p.x_shape))\n",
    "optimizer = Adam(params=model.parameters(), lr=p.lr)"
   ]
  },
  {
   "cell_type": "code",
   "execution_count": 22,
   "id": "22b39ac5",
   "metadata": {
    "execution": {
     "iopub.execute_input": "2022-03-25T16:44:31.892623Z",
     "iopub.status.busy": "2022-03-25T16:44:31.892145Z",
     "iopub.status.idle": "2022-03-25T17:30:13.845230Z",
     "shell.execute_reply": "2022-03-25T17:30:13.844994Z"
    },
    "papermill": {
     "duration": 2741.971265,
     "end_time": "2022-03-25T17:30:13.845292",
     "exception": false,
     "start_time": "2022-03-25T16:44:31.874027",
     "status": "completed"
    },
    "tags": []
   },
   "outputs": [
    {
     "name": "stdout",
     "output_type": "stream",
     "text": [
      "epoch: 1, [batch: 1 / 6315], examples_per_second: 48.1487, train_label_loss: 2.6411, \n"
     ]
    },
    {
     "name": "stdout",
     "output_type": "stream",
     "text": [
      "epoch: 1, [batch: 632 / 6315], examples_per_second: 3526.3650, train_label_loss: 0.0099, \n"
     ]
    },
    {
     "name": "stdout",
     "output_type": "stream",
     "text": [
      "epoch: 1, [batch: 1263 / 6315], examples_per_second: 3570.6971, train_label_loss: 0.0648, \n"
     ]
    },
    {
     "name": "stdout",
     "output_type": "stream",
     "text": [
      "epoch: 1, [batch: 1895 / 6315], examples_per_second: 3603.3438, train_label_loss: 0.0023, \n"
     ]
    },
    {
     "name": "stdout",
     "output_type": "stream",
     "text": [
      "epoch: 1, [batch: 2526 / 6315], examples_per_second: 3556.1299, train_label_loss: 0.0178, \n"
     ]
    },
    {
     "name": "stdout",
     "output_type": "stream",
     "text": [
      "epoch: 1, [batch: 3158 / 6315], examples_per_second: 2132.4953, train_label_loss: 0.0031, \n"
     ]
    },
    {
     "name": "stdout",
     "output_type": "stream",
     "text": [
      "epoch: 1, [batch: 3789 / 6315], examples_per_second: 1867.9538, train_label_loss: 0.0282, \n"
     ]
    },
    {
     "name": "stdout",
     "output_type": "stream",
     "text": [
      "epoch: 1, [batch: 4420 / 6315], examples_per_second: 1865.2546, train_label_loss: 0.0028, \n"
     ]
    },
    {
     "name": "stdout",
     "output_type": "stream",
     "text": [
      "epoch: 1, [batch: 5052 / 6315], examples_per_second: 1871.0531, train_label_loss: 0.0014, \n"
     ]
    },
    {
     "name": "stdout",
     "output_type": "stream",
     "text": [
      "epoch: 1, [batch: 5683 / 6315], examples_per_second: 1868.5780, train_label_loss: 0.0010, \n"
     ]
    },
    {
     "name": "stdout",
     "output_type": "stream",
     "text": [
      "=============================================================\n",
      "epoch: 1, source_val_acc_label: 0.9965, target_val_acc_label: 0.3340, source_val_label_loss: 0.0143, target_val_label_loss: 1.9439, \n",
      "=============================================================\n"
     ]
    },
    {
     "name": "stdout",
     "output_type": "stream",
     "text": [
      "New best\n"
     ]
    },
    {
     "name": "stdout",
     "output_type": "stream",
     "text": [
      "epoch: 2, [batch: 1 / 6307], examples_per_second: 2.8264, train_label_loss: 0.0112, \n"
     ]
    },
    {
     "name": "stdout",
     "output_type": "stream",
     "text": [
      "epoch: 2, [batch: 631 / 6307], examples_per_second: 1867.8700, train_label_loss: 0.0002, \n"
     ]
    },
    {
     "name": "stdout",
     "output_type": "stream",
     "text": [
      "epoch: 2, [batch: 1262 / 6307], examples_per_second: 1868.4826, train_label_loss: 0.0001, \n"
     ]
    },
    {
     "name": "stdout",
     "output_type": "stream",
     "text": [
      "epoch: 2, [batch: 1892 / 6307], examples_per_second: 1937.9441, train_label_loss: 0.0000, \n"
     ]
    },
    {
     "name": "stdout",
     "output_type": "stream",
     "text": [
      "epoch: 2, [batch: 2523 / 6307], examples_per_second: 2305.6444, train_label_loss: 0.0005, \n"
     ]
    },
    {
     "name": "stdout",
     "output_type": "stream",
     "text": [
      "epoch: 2, [batch: 3154 / 6307], examples_per_second: 2132.6217, train_label_loss: 0.0000, \n"
     ]
    },
    {
     "name": "stdout",
     "output_type": "stream",
     "text": [
      "epoch: 2, [batch: 3784 / 6307], examples_per_second: 1872.0882, train_label_loss: 0.0000, \n"
     ]
    },
    {
     "name": "stdout",
     "output_type": "stream",
     "text": [
      "epoch: 2, [batch: 4415 / 6307], examples_per_second: 1868.8289, train_label_loss: 0.0002, \n"
     ]
    },
    {
     "name": "stdout",
     "output_type": "stream",
     "text": [
      "epoch: 2, [batch: 5045 / 6307], examples_per_second: 1874.3125, train_label_loss: 0.0001, \n"
     ]
    },
    {
     "name": "stdout",
     "output_type": "stream",
     "text": [
      "epoch: 2, [batch: 5676 / 6307], examples_per_second: 1870.7611, train_label_loss: 0.0000, \n"
     ]
    },
    {
     "name": "stdout",
     "output_type": "stream",
     "text": [
      "=============================================================\n",
      "epoch: 2, source_val_acc_label: 0.9988, target_val_acc_label: 0.2878, source_val_label_loss: 0.0084, target_val_label_loss: 2.5581, \n",
      "=============================================================\n"
     ]
    },
    {
     "name": "stdout",
     "output_type": "stream",
     "text": [
      "epoch: 3, [batch: 1 / 6326], examples_per_second: 2.8237, train_label_loss: 0.0000, \n"
     ]
    },
    {
     "name": "stdout",
     "output_type": "stream",
     "text": [
      "epoch: 3, [batch: 633 / 6326], examples_per_second: 1868.9649, train_label_loss: 0.0000, \n"
     ]
    },
    {
     "name": "stdout",
     "output_type": "stream",
     "text": [
      "epoch: 3, [batch: 1266 / 6326], examples_per_second: 1870.6571, train_label_loss: 0.0054, \n"
     ]
    },
    {
     "name": "stdout",
     "output_type": "stream",
     "text": [
      "epoch: 3, [batch: 1898 / 6326], examples_per_second: 1952.7985, train_label_loss: 0.0020, \n"
     ]
    },
    {
     "name": "stdout",
     "output_type": "stream",
     "text": [
      "epoch: 3, [batch: 2531 / 6326], examples_per_second: 2339.4589, train_label_loss: 0.0000, \n"
     ]
    },
    {
     "name": "stdout",
     "output_type": "stream",
     "text": [
      "epoch: 3, [batch: 3163 / 6326], examples_per_second: 2094.7357, train_label_loss: 0.0000, \n"
     ]
    },
    {
     "name": "stdout",
     "output_type": "stream",
     "text": [
      "epoch: 3, [batch: 3796 / 6326], examples_per_second: 1872.9748, train_label_loss: 0.0000, \n"
     ]
    },
    {
     "name": "stdout",
     "output_type": "stream",
     "text": [
      "epoch: 3, [batch: 4428 / 6326], examples_per_second: 1867.3799, train_label_loss: 0.0000, \n"
     ]
    },
    {
     "name": "stdout",
     "output_type": "stream",
     "text": [
      "epoch: 3, [batch: 5061 / 6326], examples_per_second: 1875.4004, train_label_loss: 0.0000, \n"
     ]
    },
    {
     "name": "stdout",
     "output_type": "stream",
     "text": [
      "epoch: 3, [batch: 5693 / 6326], examples_per_second: 1874.7898, train_label_loss: 0.0000, \n"
     ]
    },
    {
     "name": "stdout",
     "output_type": "stream",
     "text": [
      "=============================================================\n",
      "epoch: 3, source_val_acc_label: 0.9993, target_val_acc_label: 0.3107, source_val_label_loss: 0.0059, target_val_label_loss: 2.6127, \n",
      "=============================================================\n"
     ]
    },
    {
     "name": "stdout",
     "output_type": "stream",
     "text": [
      "epoch: 4, [batch: 1 / 6302], examples_per_second: 2.8127, train_label_loss: 0.0000, \n"
     ]
    },
    {
     "name": "stdout",
     "output_type": "stream",
     "text": [
      "epoch: 4, [batch: 631 / 6302], examples_per_second: 1872.7622, train_label_loss: 0.0000, \n"
     ]
    },
    {
     "name": "stdout",
     "output_type": "stream",
     "text": [
      "epoch: 4, [batch: 1261 / 6302], examples_per_second: 1872.3477, train_label_loss: 0.0000, \n"
     ]
    },
    {
     "name": "stdout",
     "output_type": "stream",
     "text": [
      "epoch: 4, [batch: 1891 / 6302], examples_per_second: 1960.4681, train_label_loss: 0.0000, \n"
     ]
    },
    {
     "name": "stdout",
     "output_type": "stream",
     "text": [
      "epoch: 4, [batch: 2521 / 6302], examples_per_second: 2347.1197, train_label_loss: 0.0000, \n"
     ]
    },
    {
     "name": "stdout",
     "output_type": "stream",
     "text": [
      "epoch: 4, [batch: 3151 / 6302], examples_per_second: 2060.5340, train_label_loss: 0.0000, \n"
     ]
    },
    {
     "name": "stdout",
     "output_type": "stream",
     "text": [
      "epoch: 4, [batch: 3781 / 6302], examples_per_second: 1871.7758, train_label_loss: 0.0000, \n"
     ]
    },
    {
     "name": "stdout",
     "output_type": "stream",
     "text": [
      "epoch: 4, [batch: 4411 / 6302], examples_per_second: 1867.5593, train_label_loss: 0.0000, \n"
     ]
    },
    {
     "name": "stdout",
     "output_type": "stream",
     "text": [
      "epoch: 4, [batch: 5041 / 6302], examples_per_second: 1874.2575, train_label_loss: 0.0001, \n"
     ]
    },
    {
     "name": "stdout",
     "output_type": "stream",
     "text": [
      "epoch: 4, [batch: 5671 / 6302], examples_per_second: 1873.7898, train_label_loss: 0.0001, \n"
     ]
    },
    {
     "name": "stdout",
     "output_type": "stream",
     "text": [
      "=============================================================\n",
      "epoch: 4, source_val_acc_label: 0.9991, target_val_acc_label: 0.3188, source_val_label_loss: 0.0078, target_val_label_loss: 2.2827, \n",
      "=============================================================\n"
     ]
    },
    {
     "name": "stdout",
     "output_type": "stream",
     "text": [
      "epoch: 5, [batch: 1 / 6324], examples_per_second: 2.8124, train_label_loss: 0.0000, \n"
     ]
    },
    {
     "name": "stdout",
     "output_type": "stream",
     "text": [
      "epoch: 5, [batch: 633 / 6324], examples_per_second: 1871.0262, train_label_loss: 0.0001, \n"
     ]
    },
    {
     "name": "stdout",
     "output_type": "stream",
     "text": [
      "epoch: 5, [batch: 1265 / 6324], examples_per_second: 1871.6579, train_label_loss: 0.0000, \n"
     ]
    },
    {
     "name": "stdout",
     "output_type": "stream",
     "text": [
      "epoch: 5, [batch: 1897 / 6324], examples_per_second: 1988.5561, train_label_loss: 0.0000, \n"
     ]
    },
    {
     "name": "stdout",
     "output_type": "stream",
     "text": [
      "epoch: 5, [batch: 2530 / 6324], examples_per_second: 2397.4393, train_label_loss: 0.0000, \n"
     ]
    },
    {
     "name": "stdout",
     "output_type": "stream",
     "text": [
      "epoch: 5, [batch: 3162 / 6324], examples_per_second: 2012.0222, train_label_loss: 0.0010, \n"
     ]
    },
    {
     "name": "stdout",
     "output_type": "stream",
     "text": [
      "epoch: 5, [batch: 3794 / 6324], examples_per_second: 1871.0576, train_label_loss: 0.0000, \n"
     ]
    },
    {
     "name": "stdout",
     "output_type": "stream",
     "text": [
      "epoch: 5, [batch: 4427 / 6324], examples_per_second: 1867.7366, train_label_loss: 0.0000, \n"
     ]
    },
    {
     "name": "stdout",
     "output_type": "stream",
     "text": [
      "epoch: 5, [batch: 5059 / 6324], examples_per_second: 1874.8885, train_label_loss: 0.0000, \n"
     ]
    },
    {
     "name": "stdout",
     "output_type": "stream",
     "text": [
      "epoch: 5, [batch: 5691 / 6324], examples_per_second: 1870.1482, train_label_loss: 0.0000, \n"
     ]
    },
    {
     "name": "stdout",
     "output_type": "stream",
     "text": [
      "=============================================================\n",
      "epoch: 5, source_val_acc_label: 0.9993, target_val_acc_label: 0.3393, source_val_label_loss: 0.0067, target_val_label_loss: 2.4781, \n",
      "=============================================================\n"
     ]
    },
    {
     "name": "stdout",
     "output_type": "stream",
     "text": [
      "New best\n"
     ]
    },
    {
     "name": "stdout",
     "output_type": "stream",
     "text": [
      "epoch: 6, [batch: 1 / 6313], examples_per_second: 2.8402, train_label_loss: 0.0000, \n"
     ]
    },
    {
     "name": "stdout",
     "output_type": "stream",
     "text": [
      "epoch: 6, [batch: 632 / 6313], examples_per_second: 1870.9079, train_label_loss: 0.0000, \n"
     ]
    },
    {
     "name": "stdout",
     "output_type": "stream",
     "text": [
      "epoch: 6, [batch: 1263 / 6313], examples_per_second: 1872.3845, train_label_loss: 0.0000, \n"
     ]
    },
    {
     "name": "stdout",
     "output_type": "stream",
     "text": [
      "epoch: 6, [batch: 1894 / 6313], examples_per_second: 1972.6135, train_label_loss: 0.0000, \n"
     ]
    },
    {
     "name": "stdout",
     "output_type": "stream",
     "text": [
      "epoch: 6, [batch: 2525 / 6313], examples_per_second: 2373.4333, train_label_loss: 0.0000, \n"
     ]
    },
    {
     "name": "stdout",
     "output_type": "stream",
     "text": [
      "epoch: 6, [batch: 3157 / 6313], examples_per_second: 2036.3190, train_label_loss: 0.0000, \n"
     ]
    },
    {
     "name": "stdout",
     "output_type": "stream",
     "text": [
      "epoch: 6, [batch: 3788 / 6313], examples_per_second: 1871.6190, train_label_loss: 0.0000, \n"
     ]
    },
    {
     "name": "stdout",
     "output_type": "stream",
     "text": [
      "epoch: 6, [batch: 4419 / 6313], examples_per_second: 1867.8398, train_label_loss: 0.0000, \n"
     ]
    },
    {
     "name": "stdout",
     "output_type": "stream",
     "text": [
      "epoch: 6, [batch: 5050 / 6313], examples_per_second: 1875.7580, train_label_loss: 0.0000, \n"
     ]
    },
    {
     "name": "stdout",
     "output_type": "stream",
     "text": [
      "epoch: 6, [batch: 5681 / 6313], examples_per_second: 1873.1169, train_label_loss: 0.0000, \n"
     ]
    },
    {
     "name": "stdout",
     "output_type": "stream",
     "text": [
      "=============================================================\n",
      "epoch: 6, source_val_acc_label: 0.9990, target_val_acc_label: 0.3449, source_val_label_loss: 0.0113, target_val_label_loss: 2.5871, \n",
      "=============================================================\n"
     ]
    },
    {
     "name": "stdout",
     "output_type": "stream",
     "text": [
      "New best\n"
     ]
    },
    {
     "name": "stdout",
     "output_type": "stream",
     "text": [
      "epoch: 7, [batch: 1 / 6295], examples_per_second: 2.8272, train_label_loss: 0.0000, \n"
     ]
    },
    {
     "name": "stdout",
     "output_type": "stream",
     "text": [
      "epoch: 7, [batch: 630 / 6295], examples_per_second: 1870.0412, train_label_loss: 0.0003, \n"
     ]
    },
    {
     "name": "stdout",
     "output_type": "stream",
     "text": [
      "epoch: 7, [batch: 1259 / 6295], examples_per_second: 1871.5606, train_label_loss: 0.0000, \n"
     ]
    },
    {
     "name": "stdout",
     "output_type": "stream",
     "text": [
      "epoch: 7, [batch: 1889 / 6295], examples_per_second: 1967.6243, train_label_loss: 0.0000, \n"
     ]
    },
    {
     "name": "stdout",
     "output_type": "stream",
     "text": [
      "epoch: 7, [batch: 2518 / 6295], examples_per_second: 2354.8931, train_label_loss: 0.0000, \n"
     ]
    },
    {
     "name": "stdout",
     "output_type": "stream",
     "text": [
      "epoch: 7, [batch: 3148 / 6295], examples_per_second: 2323.3888, train_label_loss: 0.0000, \n"
     ]
    },
    {
     "name": "stdout",
     "output_type": "stream",
     "text": [
      "epoch: 7, [batch: 3777 / 6295], examples_per_second: 2334.3753, train_label_loss: 0.0000, \n"
     ]
    },
    {
     "name": "stdout",
     "output_type": "stream",
     "text": [
      "epoch: 7, [batch: 4406 / 6295], examples_per_second: 2280.2482, train_label_loss: 0.0000, \n"
     ]
    },
    {
     "name": "stdout",
     "output_type": "stream",
     "text": [
      "epoch: 7, [batch: 5036 / 6295], examples_per_second: 2222.3401, train_label_loss: 0.0000, \n"
     ]
    },
    {
     "name": "stdout",
     "output_type": "stream",
     "text": [
      "epoch: 7, [batch: 5665 / 6295], examples_per_second: 2685.4358, train_label_loss: 0.0000, \n"
     ]
    },
    {
     "name": "stdout",
     "output_type": "stream",
     "text": [
      "=============================================================\n",
      "epoch: 7, source_val_acc_label: 0.9995, target_val_acc_label: 0.2775, source_val_label_loss: 0.0062, target_val_label_loss: 3.5303, \n",
      "=============================================================\n"
     ]
    },
    {
     "name": "stdout",
     "output_type": "stream",
     "text": [
      "epoch: 8, [batch: 1 / 6293], examples_per_second: 5.3147, train_label_loss: 0.0000, \n"
     ]
    },
    {
     "name": "stdout",
     "output_type": "stream",
     "text": [
      "epoch: 8, [batch: 630 / 6293], examples_per_second: 3553.7151, train_label_loss: 0.0000, \n"
     ]
    },
    {
     "name": "stdout",
     "output_type": "stream",
     "text": [
      "epoch: 8, [batch: 1259 / 6293], examples_per_second: 3584.2604, train_label_loss: 0.0000, \n"
     ]
    },
    {
     "name": "stdout",
     "output_type": "stream",
     "text": [
      "epoch: 8, [batch: 1888 / 6293], examples_per_second: 3614.8316, train_label_loss: 0.0000, \n"
     ]
    },
    {
     "name": "stdout",
     "output_type": "stream",
     "text": [
      "epoch: 8, [batch: 2517 / 6293], examples_per_second: 3608.8159, train_label_loss: 0.0000, \n"
     ]
    },
    {
     "name": "stdout",
     "output_type": "stream",
     "text": [
      "epoch: 8, [batch: 3147 / 6293], examples_per_second: 3587.8076, train_label_loss: 0.0000, \n"
     ]
    },
    {
     "name": "stdout",
     "output_type": "stream",
     "text": [
      "epoch: 8, [batch: 3776 / 6293], examples_per_second: 2722.5816, train_label_loss: 0.0000, \n"
     ]
    },
    {
     "name": "stdout",
     "output_type": "stream",
     "text": [
      "epoch: 8, [batch: 4405 / 6293], examples_per_second: 1861.8571, train_label_loss: 0.0000, \n"
     ]
    },
    {
     "name": "stdout",
     "output_type": "stream",
     "text": [
      "epoch: 8, [batch: 5034 / 6293], examples_per_second: 1866.4092, train_label_loss: 0.0000, \n"
     ]
    },
    {
     "name": "stdout",
     "output_type": "stream",
     "text": [
      "epoch: 8, [batch: 5663 / 6293], examples_per_second: 1867.3670, train_label_loss: 0.0000, \n"
     ]
    },
    {
     "name": "stdout",
     "output_type": "stream",
     "text": [
      "=============================================================\n",
      "epoch: 8, source_val_acc_label: 0.9995, target_val_acc_label: 0.3122, source_val_label_loss: 0.0083, target_val_label_loss: 3.0487, \n",
      "=============================================================\n"
     ]
    },
    {
     "name": "stdout",
     "output_type": "stream",
     "text": [
      "epoch: 9, [batch: 1 / 6315], examples_per_second: 2.7928, train_label_loss: 0.0000, \n"
     ]
    },
    {
     "name": "stdout",
     "output_type": "stream",
     "text": [
      "epoch: 9, [batch: 632 / 6315], examples_per_second: 1869.4010, train_label_loss: 0.0000, \n"
     ]
    },
    {
     "name": "stdout",
     "output_type": "stream",
     "text": [
      "epoch: 9, [batch: 1263 / 6315], examples_per_second: 1863.6860, train_label_loss: 0.0000, \n"
     ]
    },
    {
     "name": "stdout",
     "output_type": "stream",
     "text": [
      "epoch: 9, [batch: 1895 / 6315], examples_per_second: 1864.5869, train_label_loss: 0.0000, \n"
     ]
    },
    {
     "name": "stdout",
     "output_type": "stream",
     "text": [
      "epoch: 9, [batch: 2526 / 6315], examples_per_second: 1861.5883, train_label_loss: 0.0000, \n"
     ]
    },
    {
     "name": "stdout",
     "output_type": "stream",
     "text": [
      "epoch: 9, [batch: 3158 / 6315], examples_per_second: 2228.5047, train_label_loss: 0.0000, \n"
     ]
    },
    {
     "name": "stdout",
     "output_type": "stream",
     "text": [
      "epoch: 9, [batch: 3789 / 6315], examples_per_second: 2299.9316, train_label_loss: 0.0000, \n"
     ]
    },
    {
     "name": "stdout",
     "output_type": "stream",
     "text": [
      "epoch: 9, [batch: 4420 / 6315], examples_per_second: 1863.6513, train_label_loss: 0.0000, \n"
     ]
    },
    {
     "name": "stdout",
     "output_type": "stream",
     "text": [
      "epoch: 9, [batch: 5052 / 6315], examples_per_second: 1868.1729, train_label_loss: 0.0000, \n"
     ]
    },
    {
     "name": "stdout",
     "output_type": "stream",
     "text": [
      "epoch: 9, [batch: 5683 / 6315], examples_per_second: 1870.6195, train_label_loss: 0.0000, \n"
     ]
    },
    {
     "name": "stdout",
     "output_type": "stream",
     "text": [
      "=============================================================\n",
      "epoch: 9, source_val_acc_label: 0.9990, target_val_acc_label: 0.3204, source_val_label_loss: 0.0094, target_val_label_loss: 3.0989, \n",
      "=============================================================\n"
     ]
    },
    {
     "name": "stdout",
     "output_type": "stream",
     "text": [
      "epoch: 10, [batch: 1 / 6306], examples_per_second: 2.8212, train_label_loss: 0.0000, \n"
     ]
    },
    {
     "name": "stdout",
     "output_type": "stream",
     "text": [
      "epoch: 10, [batch: 631 / 6306], examples_per_second: 1873.0987, train_label_loss: 0.0000, \n"
     ]
    },
    {
     "name": "stdout",
     "output_type": "stream",
     "text": [
      "epoch: 10, [batch: 1262 / 6306], examples_per_second: 1867.6300, train_label_loss: 0.0000, \n"
     ]
    },
    {
     "name": "stdout",
     "output_type": "stream",
     "text": [
      "epoch: 10, [batch: 1892 / 6306], examples_per_second: 1867.4514, train_label_loss: 0.0000, \n"
     ]
    },
    {
     "name": "stdout",
     "output_type": "stream",
     "text": [
      "epoch: 10, [batch: 2523 / 6306], examples_per_second: 1863.8460, train_label_loss: 0.0000, \n"
     ]
    },
    {
     "name": "stdout",
     "output_type": "stream",
     "text": [
      "epoch: 10, [batch: 3153 / 6306], examples_per_second: 2229.4589, train_label_loss: 0.0000, \n"
     ]
    },
    {
     "name": "stdout",
     "output_type": "stream",
     "text": [
      "epoch: 10, [batch: 3784 / 6306], examples_per_second: 2321.1815, train_label_loss: 0.0000, \n"
     ]
    },
    {
     "name": "stdout",
     "output_type": "stream",
     "text": [
      "epoch: 10, [batch: 4414 / 6306], examples_per_second: 1865.0014, train_label_loss: 0.0000, \n"
     ]
    },
    {
     "name": "stdout",
     "output_type": "stream",
     "text": [
      "epoch: 10, [batch: 5045 / 6306], examples_per_second: 1866.2430, train_label_loss: 0.0000, \n"
     ]
    },
    {
     "name": "stdout",
     "output_type": "stream",
     "text": [
      "epoch: 10, [batch: 5675 / 6306], examples_per_second: 1870.2628, train_label_loss: 0.0000, \n"
     ]
    },
    {
     "name": "stdout",
     "output_type": "stream",
     "text": [
      "=============================================================\n",
      "epoch: 10, source_val_acc_label: 0.9992, target_val_acc_label: 0.2458, source_val_label_loss: 0.0084, target_val_label_loss: 4.2349, \n",
      "=============================================================\n"
     ]
    },
    {
     "name": "stdout",
     "output_type": "stream",
     "text": [
      "Patience (3) exhausted\n"
     ]
    }
   ],
   "source": [
    "###################################\n",
    "# train\n",
    "###################################\n",
    "jig = PTN_Train_Eval_Test_Jig(model, p.BEST_MODEL_PATH, p.device)\n",
    "\n",
    "jig.train(\n",
    "    train_iterable=datasets.source.processed.train,\n",
    "    source_val_iterable=datasets.source.processed.val,\n",
    "    target_val_iterable=datasets.target.processed.val,\n",
    "    num_epochs=p.n_epoch,\n",
    "    num_logs_per_epoch=p.NUM_LOGS_PER_EPOCH,\n",
    "    patience=p.patience,\n",
    "    optimizer=optimizer,\n",
    "    criteria_for_best=p.criteria_for_best,\n",
    ")"
   ]
  },
  {
   "cell_type": "code",
   "execution_count": 23,
   "id": "31e8fabf",
   "metadata": {
    "execution": {
     "iopub.execute_input": "2022-03-25T17:30:13.919924Z",
     "iopub.status.busy": "2022-03-25T17:30:13.919608Z",
     "iopub.status.idle": "2022-03-25T17:30:13.937522Z",
     "shell.execute_reply": "2022-03-25T17:30:13.937081Z"
    },
    "papermill": {
     "duration": 0.056124,
     "end_time": "2022-03-25T17:30:13.937629",
     "exception": false,
     "start_time": "2022-03-25T17:30:13.881505",
     "status": "completed"
    },
    "tags": []
   },
   "outputs": [],
   "source": [
    "total_experiment_time_secs = time.time() - start_time_secs"
   ]
  },
  {
   "cell_type": "code",
   "execution_count": 24,
   "id": "87b9595b",
   "metadata": {
    "execution": {
     "iopub.execute_input": "2022-03-25T17:30:14.019967Z",
     "iopub.status.busy": "2022-03-25T17:30:14.019689Z",
     "iopub.status.idle": "2022-03-25T17:32:41.483455Z",
     "shell.execute_reply": "2022-03-25T17:32:41.483687Z"
    },
    "papermill": {
     "duration": 147.504263,
     "end_time": "2022-03-25T17:32:41.483771",
     "exception": false,
     "start_time": "2022-03-25T17:30:13.979508",
     "status": "completed"
    },
    "tags": []
   },
   "outputs": [],
   "source": [
    "###################################\n",
    "# Evaluate the model\n",
    "###################################\n",
    "source_test_label_accuracy, source_test_label_loss = jig.test(datasets.source.processed.test)\n",
    "target_test_label_accuracy, target_test_label_loss = jig.test(datasets.target.processed.test)\n",
    "\n",
    "source_val_label_accuracy, source_val_label_loss = jig.test(datasets.source.processed.val)\n",
    "target_val_label_accuracy, target_val_label_loss = jig.test(datasets.target.processed.val)\n",
    "\n",
    "history = jig.get_history()\n",
    "\n",
    "total_epochs_trained = len(history[\"epoch_indices\"])\n",
    "\n",
    "val_dl = Iterable_Aggregator((datasets.source.original.val,datasets.target.original.val))\n",
    "\n",
    "confusion = ptn_confusion_by_domain_over_dataloader(model, p.device, val_dl)\n",
    "per_domain_accuracy = per_domain_accuracy_from_confusion(confusion)\n",
    "\n",
    "# Add a key to per_domain_accuracy for if it was a source domain\n",
    "for domain, accuracy in per_domain_accuracy.items():\n",
    "    per_domain_accuracy[domain] = {\n",
    "        \"accuracy\": accuracy,\n",
    "        \"source?\": domain in p.domains_source\n",
    "    }\n",
    "\n",
    "# Do an independent accuracy assesment JUST TO BE SURE!\n",
    "# _source_test_label_accuracy = independent_accuracy_assesment(model, datasets.source.processed.test, p.device)\n",
    "# _target_test_label_accuracy = independent_accuracy_assesment(model, datasets.target.processed.test, p.device)\n",
    "# _source_val_label_accuracy = independent_accuracy_assesment(model, datasets.source.processed.val, p.device)\n",
    "# _target_val_label_accuracy = independent_accuracy_assesment(model, datasets.target.processed.val, p.device)\n",
    "\n",
    "# assert(_source_test_label_accuracy == source_test_label_accuracy)\n",
    "# assert(_target_test_label_accuracy == target_test_label_accuracy)\n",
    "# assert(_source_val_label_accuracy == source_val_label_accuracy)\n",
    "# assert(_target_val_label_accuracy == target_val_label_accuracy)\n",
    "\n",
    "experiment = {\n",
    "    \"experiment_name\": p.experiment_name,\n",
    "    \"parameters\": dict(p),\n",
    "    \"results\": {\n",
    "        \"source_test_label_accuracy\": source_test_label_accuracy,\n",
    "        \"source_test_label_loss\": source_test_label_loss,\n",
    "        \"target_test_label_accuracy\": target_test_label_accuracy,\n",
    "        \"target_test_label_loss\": target_test_label_loss,\n",
    "        \"source_val_label_accuracy\": source_val_label_accuracy,\n",
    "        \"source_val_label_loss\": source_val_label_loss,\n",
    "        \"target_val_label_accuracy\": target_val_label_accuracy,\n",
    "        \"target_val_label_loss\": target_val_label_loss,\n",
    "        \"total_epochs_trained\": total_epochs_trained,\n",
    "        \"total_experiment_time_secs\": total_experiment_time_secs,\n",
    "        \"confusion\": confusion,\n",
    "        \"per_domain_accuracy\": per_domain_accuracy,\n",
    "    },\n",
    "    \"history\": history,\n",
    "    \"dataset_metrics\": get_dataset_metrics(datasets, \"ptn\"),\n",
    "}"
   ]
  },
  {
   "cell_type": "code",
   "execution_count": 25,
   "id": "54a21829",
   "metadata": {
    "execution": {
     "iopub.execute_input": "2022-03-25T17:32:41.562937Z",
     "iopub.status.busy": "2022-03-25T17:32:41.562658Z",
     "iopub.status.idle": "2022-03-25T17:32:41.679191Z",
     "shell.execute_reply": "2022-03-25T17:32:41.679670Z"
    },
    "papermill": {
     "duration": 0.154454,
     "end_time": "2022-03-25T17:32:41.679810",
     "exception": false,
     "start_time": "2022-03-25T17:32:41.525356",
     "status": "completed"
    },
    "tags": []
   },
   "outputs": [
    {
     "data": {
      "image/png": "[encoded data removed]",
      "text/plain": [
       "<Figure size 1080x504 with 1 Axes>"
      ]
     },
     "metadata": {
      "needs_background": "light"
     },
     "output_type": "display_data"
    }
   ],
   "source": [
    "ax = get_loss_curve(experiment)\n",
    "plt.show()"
   ]
  },
  {
   "cell_type": "code",
   "execution_count": 26,
   "id": "fd8a0f60",
   "metadata": {
    "execution": {
     "iopub.execute_input": "2022-03-25T17:32:41.768839Z",
     "iopub.status.busy": "2022-03-25T17:32:41.768017Z",
     "iopub.status.idle": "2022-03-25T17:32:41.918091Z",
     "shell.execute_reply": "2022-03-25T17:32:41.917797Z"
    },
    "papermill": {
     "duration": 0.190743,
     "end_time": "2022-03-25T17:32:41.918162",
     "exception": false,
     "start_time": "2022-03-25T17:32:41.727419",
     "status": "completed"
    },
    "tags": []
   },
   "outputs": [
    {
     "data": {
      "text/plain": [
       "<AxesSubplot:title={'center':'Results'}>"
      ]
     },
     "execution_count": 26,
     "metadata": {},
     "output_type": "execute_result"
    },
    {
     "data": {
      "image/png": "[encoded data removed]",
      "text/plain": [
       "<Figure size 1080x504 with 1 Axes>"
      ]
     },
     "metadata": {
      "needs_background": "light"
     },
     "output_type": "display_data"
    }
   ],
   "source": [
    "get_results_table(experiment)"
   ]
  },
  {
   "cell_type": "code",
   "execution_count": 27,
   "id": "cf8dc689",
   "metadata": {
    "execution": {
     "iopub.execute_input": "2022-03-25T17:32:41.996874Z",
     "iopub.status.busy": "2022-03-25T17:32:41.996601Z",
     "iopub.status.idle": "2022-03-25T17:32:42.148589Z",
     "shell.execute_reply": "2022-03-25T17:32:42.148924Z"
    },
    "papermill": {
     "duration": 0.192757,
     "end_time": "2022-03-25T17:32:42.149034",
     "exception": false,
     "start_time": "2022-03-25T17:32:41.956277",
     "status": "completed"
    },
    "tags": []
   },
   "outputs": [
    {
     "data": {
      "text/plain": [
       "<AxesSubplot:title={'center':'Per Domain Validation Accuracy'}, xlabel='domain'>"
      ]
     },
     "execution_count": 27,
     "metadata": {},
     "output_type": "execute_result"
    },
    {
     "data": {
      "image/png": "[encoded data removed]",
      "text/plain": [
       "<Figure size 1080x504 with 1 Axes>"
      ]
     },
     "metadata": {
      "needs_background": "light"
     },
     "output_type": "display_data"
    }
   ],
   "source": [
    "get_domain_accuracies(experiment)"
   ]
  },
  {
   "cell_type": "code",
   "execution_count": 28,
   "id": "a74ae082",
   "metadata": {
    "execution": {
     "iopub.execute_input": "2022-03-25T17:32:42.234654Z",
     "iopub.status.busy": "2022-03-25T17:32:42.234238Z",
     "iopub.status.idle": "2022-03-25T17:32:42.246601Z",
     "shell.execute_reply": "2022-03-25T17:32:42.246833Z"
    },
    "papermill": {
     "duration": 0.054469,
     "end_time": "2022-03-25T17:32:42.246914",
     "exception": false,
     "start_time": "2022-03-25T17:32:42.192445",
     "status": "completed"
    },
    "tags": []
   },
   "outputs": [
    {
     "name": "stdout",
     "output_type": "stream",
     "text": [
      "Source Test Label Accuracy: 0.9989066027088036 Target Test Label Accuracy: 0.34254557291666665\n",
      "Source Val Label Accuracy: 0.999 Target Val Label Accuracy: 0.3448567708333333\n"
     ]
    }
   ],
   "source": [
    "print(\"Source Test Label Accuracy:\", experiment[\"results\"][\"source_test_label_accuracy\"], \"Target Test Label Accuracy:\", experiment[\"results\"][\"target_test_label_accuracy\"])\n",
    "print(\"Source Val Label Accuracy:\", experiment[\"results\"][\"source_val_label_accuracy\"], \"Target Val Label Accuracy:\", experiment[\"results\"][\"target_val_label_accuracy\"])"
   ]
  },
  {
   "cell_type": "code",
   "execution_count": 29,
   "id": "dacca602",
   "metadata": {
    "execution": {
     "iopub.execute_input": "2022-03-25T17:32:42.328889Z",
     "iopub.status.busy": "2022-03-25T17:32:42.328079Z",
     "iopub.status.idle": "2022-03-25T17:32:42.345773Z",
     "shell.execute_reply": "2022-03-25T17:32:42.345319Z"
    },
    "papermill": {
     "duration": 0.058887,
     "end_time": "2022-03-25T17:32:42.345883",
     "exception": false,
     "start_time": "2022-03-25T17:32:42.286996",
     "status": "completed"
    },
    "tags": [
     "experiment_json"
    ]
   },
   "outputs": [
    {
     "data": {
      "text/plain": [
       "'{\"experiment_name\": \"tl_3-filterv2:cores -> oracle.run1.framed\", \"parameters\": {\"experiment_name\": \"tl_3-filterv2:cores -> oracle.run1.framed\", \"device\": \"cuda\", \"lr\": 0.0001, \"x_shape\": [2, 200], \"n_shot\": 3, \"n_query\": 2, \"train_k_factor\": 3, \"val_k_factor\": 2, \"test_k_factor\": 2, \"torch_default_dtype\": \"torch.float32\", \"n_epoch\": 50, \"patience\": 3, \"criteria_for_best\": \"target_accuracy\", \"x_net\": [{\"class\": \"nnReshape\", \"kargs\": {\"shape\": [-1, 1, 2, 200]}}, {\"class\": \"Conv2d\", \"kargs\": {\"in_channels\": 1, \"out_channels\": 256, \"kernel_size\": [1, 7], \"bias\": false, \"padding\": [0, 3]}}, {\"class\": \"ReLU\", \"kargs\": {\"inplace\": true}}, {\"class\": \"BatchNorm2d\", \"kargs\": {\"num_features\": 256}}, {\"class\": \"Conv2d\", \"kargs\": {\"in_channels\": 256, \"out_channels\": 80, \"kernel_size\": [2, 7], \"bias\": true, \"padding\": [0, 3]}}, {\"class\": \"ReLU\", \"kargs\": {\"inplace\": true}}, {\"class\": \"BatchNorm2d\", \"kargs\": {\"num_features\": 80}}, {\"class\": \"Flatten\", \"kargs\": {}}, {\"class\": \"Linear\", \"kargs\": {\"in_features\": 16000, \"out_features\": 256}}, {\"class\": \"ReLU\", \"kargs\": {\"inplace\": true}}, {\"class\": \"BatchNorm1d\", \"kargs\": {\"num_features\": 256}}, {\"class\": \"Linear\", \"kargs\": {\"in_features\": 256, \"out_features\": 256}}], \"NUM_LOGS_PER_EPOCH\": 10, \"BEST_MODEL_PATH\": \"./best_model.pth\", \"n_way\": 16, \"datasets\": [{\"labels\": [\"1-10.\", \"1-11.\", \"1-15.\", \"1-16.\", \"1-17.\", \"1-18.\", \"1-19.\", \"10-4.\", \"10-7.\", \"11-1.\", \"11-14.\", \"11-17.\", \"11-20.\", \"11-7.\", \"13-20.\", \"13-8.\", \"14-10.\", \"14-11.\", \"14-14.\", \"14-7.\", \"15-1.\", \"15-20.\", \"16-1.\", \"16-16.\", \"17-10.\", \"17-11.\", \"17-2.\", \"19-1.\", \"19-16.\", \"19-19.\", \"19-20.\", \"19-3.\", \"2-10.\", \"2-11.\", \"2-17.\", \"2-18.\", \"2-20.\", \"2-3.\", \"2-4.\", \"2-5.\", \"2-6.\", \"2-7.\", \"2-8.\", \"3-13.\", \"3-18.\", \"3-3.\", \"4-1.\", \"4-10.\", \"4-11.\", \"4-19.\", \"5-5.\", \"6-15.\", \"7-10.\", \"7-14.\", \"8-18.\", \"8-20.\", \"8-3.\", \"8-8.\"], \"domains\": [1, 2, 3, 4, 5], \"num_examples_per_domain_per_label\": -1, \"pickle_path\": \"/mnt/wd500GB/CSC500/csc500-main/datasets/cores.stratified_ds.2022A.pkl\", \"source_or_target_dataset\": \"source\", \"x_transforms\": [\"unit_mag\", \"lowpass_+/-10MHz\", \"take_200\"], \"episode_transforms\": [], \"domain_prefix\": \"C_\"}, {\"labels\": [\"3123D52\", \"3123D65\", \"3123D79\", \"3123D80\", \"3123D54\", \"3123D70\", \"3123D7B\", \"3123D89\", \"3123D58\", \"3123D76\", \"3123D7D\", \"3123EFE\", \"3123D64\", \"3123D78\", \"3123D7E\", \"3124E4A\"], \"domains\": [32, 38, 8, 44, 14, 50, 20, 26], \"num_examples_per_domain_per_label\": 2000, \"pickle_path\": \"/mnt/wd500GB/CSC500/csc500-main/datasets/oracle.Run1_framed_2000Examples_stratified_ds.2022A.pkl\", \"source_or_target_dataset\": \"target\", \"x_transforms\": [\"unit_mag\", \"take_200\", \"resample_20Msps_to_25Msps\"], \"episode_transforms\": [], \"domain_prefix\": \"O_\"}], \"seed\": 420, \"dataset_seed\": 420, \"domains_source\": [\"C_1\", \"C_2\", \"C_3\", \"C_4\", \"C_5\"], \"domains_target\": [\"O_32\", \"O_38\", \"O_8\", \"O_44\", \"O_14\", \"O_50\", \"O_20\", \"O_26\"]}, \"results\": {\"source_test_label_accuracy\": 0.9989066027088036, \"source_test_label_loss\": 0.010841777548193932, \"target_test_label_accuracy\": 0.34254557291666665, \"target_test_label_loss\": 2.604649305343628, \"source_val_label_accuracy\": 0.999, \"source_val_label_loss\": 0.01132955588400364, \"target_val_label_accuracy\": 0.3448567708333333, \"target_val_label_loss\": 2.5871055126190186, \"total_epochs_trained\": 10, \"total_experiment_time_secs\": 2802.25989317894, \"confusion\": {\"C_4\": {\"42\": {\"42\": 32}, \"0\": {\"0\": 80}, \"1\": {\"1\": 40}, \"39\": {\"39\": 20}, \"28\": {\"28\": 32}, \"53\": {\"53\": 124}, \"19\": {\"19\": 144}, \"34\": {\"34\": 24}, \"33\": {\"33\": 36}, \"32\": {\"32\": 24}, \"10\": {\"10\": 136}, \"46\": {\"46\": 134}, \"20\": {\"20\": 122}, \"5\": {\"5\": 108}, \"40\": {\"40\": 124}, \"51\": {\"51\": 144}, \"37\": {\"37\": 24}, \"17\": {\"17\": 80}, \"45\": {\"45\": 96}, \"13\": {\"13\": 142}, \"27\": {\"27\": 144}, \"24\": {\"24\": 56}, \"30\": {\"30\": 44}, \"31\": {\"31\": 28}, \"41\": {\"41\": 34, \"10\": 1, \"13\": 1}, \"36\": {\"36\": 92}, \"16\": {\"16\": 96}, \"22\": {\"22\": 128}, \"44\": {\"44\": 130, \"34\": 1, \"29\": 1}, \"9\": {\"9\": 140}, \"57\": {\"57\": 100}, \"8\": {\"8\": 138}, \"23\": {\"23\": 132}, \"47\": {\"47\": 120}, \"43\": {\"43\": 138}, \"49\": {\"49\": 20}, \"3\": {\"3\": 120, \"5\": 1, \"50\": 2, \"53\": 1}, \"12\": {\"12\": 92}, \"38\": {\"38\": 40}, \"7\": {\"7\": 24}, \"14\": {\"14\": 15, \"0\": 1}, \"15\": {\"15\": 146}, \"25\": {\"25\": 128}, \"26\": {\"26\": 24}, \"21\": {\"21\": 132}, \"48\": {\"48\": 144}, \"56\": {\"56\": 134}, \"11\": {\"11\": 104}, \"2\": {\"2\": 36}, \"6\": {\"6\": 111, \"3\": 1}, \"55\": {\"55\": 140}, \"54\": {\"54\": 108}, \"29\": {\"29\": 124}, \"50\": {\"50\": 120, \"3\": 2}, \"52\": {\"52\": 116}, \"35\": {\"35\": 40}, \"4\": {\"4\": 120}, \"18\": {\"18\": 108}}, \"C_5\": {\"43\": {\"43\": 152}, \"35\": {\"35\": 36}, \"54\": {\"54\": 112}, \"22\": {\"22\": 28}, \"16\": {\"16\": 146}, \"5\": {\"5\": 128}, \"28\": {\"28\": 32}, \"14\": {\"14\": 44}, \"51\": {\"51\": 128}, \"19\": {\"19\": 140}, \"31\": {\"31\": 36}, \"10\": {\"10\": 68}, \"21\": {\"21\": 136}, \"3\": {\"3\": 100}, \"57\": {\"57\": 132}, \"9\": {\"9\": 146}, \"8\": {\"8\": 132}, \"46\": {\"46\": 140}, \"23\": {\"23\": 124}, \"37\": {\"37\": 24}, \"34\": {\"34\": 36}, \"4\": {\"4\": 100}, \"6\": {\"6\": 124, \"3\": 1, \"17\": 2, \"9\": 1}, \"48\": {\"48\": 136}, \"44\": {\"44\": 138}, \"40\": {\"40\": 124}, \"12\": {\"12\": 96}, \"30\": {\"30\": 128}, \"39\": {\"39\": 20}, \"45\": {\"45\": 124}, \"36\": {\"36\": 92}, \"27\": {\"27\": 140}, \"32\": {\"32\": 32}, \"52\": {\"52\": 130}, \"0\": {\"0\": 124}, \"26\": {\"26\": 24}, \"1\": {\"1\": 148}, \"53\": {\"53\": 145, \"21\": 1}, \"25\": {\"25\": 144}, \"24\": {\"24\": 80}, \"7\": {\"7\": 32}, \"18\": {\"18\": 64}, \"20\": {\"20\": 144}, \"33\": {\"33\": 32}, \"55\": {\"55\": 140}, \"41\": {\"41\": 28}, \"42\": {\"42\": 39, \"43\": 1}, \"49\": {\"49\": 36}, \"13\": {\"13\": 148}, \"38\": {\"38\": 32}, \"2\": {\"2\": 28}, \"47\": {\"47\": 100}, \"17\": {\"17\": 116}, \"11\": {\"11\": 154}, \"29\": {\"29\": 132}, \"50\": {\"50\": 138}, \"56\": {\"56\": 148}, \"15\": {\"15\": 142}}, \"C_2\": {\"49\": {\"49\": 24}, \"13\": {\"13\": 116}, \"37\": {\"37\": 36}, \"41\": {\"41\": 20}, \"15\": {\"15\": 142}, \"56\": {\"56\": 141, \"5\": 1}, \"14\": {\"14\": 23, \"56\": 1}, \"3\": {\"3\": 92}, \"38\": {\"38\": 20}, \"43\": {\"43\": 138}, \"33\": {\"33\": 28}, \"47\": {\"47\": 138}, \"30\": {\"30\": 144}, \"39\": {\"39\": 28}, \"12\": {\"12\": 92}, \"6\": {\"6\": 124}, \"51\": {\"51\": 134}, \"5\": {\"5\": 120}, \"34\": {\"34\": 28}, \"35\": {\"35\": 32}, \"0\": {\"0\": 48}, \"7\": {\"7\": 36}, \"24\": {\"24\": 96}, \"8\": {\"8\": 136}, \"20\": {\"20\": 124}, \"36\": {\"36\": 116}, \"42\": {\"42\": 36}, \"1\": {\"1\": 112}, \"4\": {\"4\": 148}, \"28\": {\"28\": 28}, \"50\": {\"50\": 136}, \"45\": {\"45\": 128}, \"18\": {\"18\": 48}, \"57\": {\"57\": 120}, \"46\": {\"46\": 128}, \"23\": {\"23\": 148}, \"27\": {\"27\": 138}, \"19\": {\"19\": 134}, \"22\": {\"22\": 136}, \"17\": {\"17\": 104}, \"55\": {\"55\": 136}, \"44\": {\"44\": 100}, \"26\": {\"26\": 24}, \"31\": {\"31\": 28}, \"16\": {\"16\": 130}, \"11\": {\"11\": 128}, \"25\": {\"25\": 126}, \"54\": {\"54\": 108}, \"32\": {\"32\": 28}, \"52\": {\"52\": 124}, \"40\": {\"40\": 132}, \"2\": {\"2\": 32}, \"10\": {\"10\": 110}, \"53\": {\"53\": 136}, \"9\": {\"9\": 150}, \"21\": {\"21\": 120}, \"48\": {\"48\": 138}, \"29\": {\"29\": 128}}, \"C_1\": {\"9\": {\"9\": 142}, \"25\": {\"25\": 128}, \"41\": {\"41\": 24}, \"29\": {\"29\": 140}, \"46\": {\"46\": 128}, \"4\": {\"4\": 132}, \"31\": {\"31\": 28}, \"36\": {\"36\": 64}, \"20\": {\"20\": 128}, \"7\": {\"7\": 28}, \"6\": {\"6\": 95, \"5\": 1}, \"16\": {\"16\": 138}, \"17\": {\"17\": 64}, \"50\": {\"50\": 148}, \"57\": {\"57\": 144}, \"23\": {\"23\": 136}, \"3\": {\"3\": 126}, \"53\": {\"53\": 140}, \"49\": {\"49\": 32}, \"56\": {\"56\": 152}, \"51\": {\"51\": 142}, \"26\": {\"26\": 24}, \"43\": {\"43\": 144}, \"22\": {\"22\": 136}, \"45\": {\"45\": 146}, \"13\": {\"13\": 152}, \"12\": {\"12\": 116}, \"54\": {\"54\": 104}, \"24\": {\"24\": 108}, \"44\": {\"44\": 136}, \"28\": {\"28\": 28}, \"33\": {\"33\": 32}, \"38\": {\"38\": 24}, \"0\": {\"0\": 144}, \"47\": {\"47\": 154}, \"42\": {\"42\": 40}, \"34\": {\"34\": 24}, \"48\": {\"48\": 141, \"50\": 1}, \"35\": {\"35\": 36}, \"2\": {\"2\": 36}, \"30\": {\"30\": 120}, \"18\": {\"18\": 72}, \"37\": {\"37\": 32}, \"1\": {\"1\": 100}, \"11\": {\"11\": 138}, \"55\": {\"55\": 130}, \"15\": {\"15\": 150}, \"10\": {\"10\": 96}, \"27\": {\"27\": 160}, \"19\": {\"19\": 146}, \"14\": {\"14\": 24}, \"8\": {\"8\": 140}, \"5\": {\"5\": 136}, \"39\": {\"39\": 28}, \"52\": {\"52\": 122}, \"21\": {\"21\": 124}, \"40\": {\"40\": 152}, \"32\": {\"32\": 32}}, \"C_3\": {\"56\": {\"56\": 120}, \"4\": {\"4\": 146}, \"34\": {\"34\": 32}, \"52\": {\"52\": 135, \"50\": 1}, \"32\": {\"32\": 28}, \"46\": {\"46\": 136}, \"12\": {\"12\": 92}, \"20\": {\"20\": 132}, \"54\": {\"54\": 100}, \"22\": {\"22\": 140}, \"26\": {\"26\": 24}, \"31\": {\"31\": 28}, \"10\": {\"10\": 64}, \"27\": {\"27\": 144}, \"40\": {\"40\": 136}, \"28\": {\"28\": 28}, \"5\": {\"5\": 116}, \"30\": {\"30\": 120}, \"7\": {\"7\": 36}, \"18\": {\"18\": 84}, \"39\": {\"39\": 16}, \"50\": {\"50\": 136}, \"49\": {\"49\": 20}, \"43\": {\"43\": 122}, \"29\": {\"29\": 114}, \"35\": {\"35\": 28}, \"13\": {\"13\": 124}, \"36\": {\"36\": 99, \"3\": 1}, \"11\": {\"11\": 146}, \"57\": {\"57\": 124}, \"9\": {\"9\": 130}, \"25\": {\"25\": 130}, \"16\": {\"16\": 126}, \"53\": {\"53\": 118}, \"33\": {\"33\": 28}, \"51\": {\"51\": 128}, \"44\": {\"44\": 88}, \"48\": {\"48\": 114}, \"6\": {\"6\": 87, \"53\": 1}, \"23\": {\"23\": 144}, \"1\": {\"1\": 100}, \"17\": {\"41\": 1, \"38\": 1, \"17\": 106}, \"21\": {\"21\": 122}, \"14\": {\"14\": 39, \"55\": 1}, \"55\": {\"55\": 144}, \"41\": {\"41\": 28}, \"3\": {\"3\": 138}, \"38\": {\"38\": 28}, \"2\": {\"2\": 32}, \"8\": {\"8\": 142}, \"37\": {\"37\": 28}, \"45\": {\"45\": 60}, \"42\": {\"42\": 28}, \"24\": {\"24\": 104}, \"15\": {\"15\": 136}, \"0\": {\"0\": 124}, \"47\": {\"47\": 92}, \"19\": {\"19\": 120}}, \"O_14\": {\"15\": {\"7\": 56, \"15\": 101, \"5\": 28, \"14\": 1, \"2\": 20, \"1\": 19, \"10\": 1, \"3\": 1, \"13\": 4, \"4\": 8, \"6\": 1}, \"5\": {\"4\": 43, \"2\": 20, \"5\": 47, \"14\": 5, \"0\": 4, \"3\": 21, \"7\": 14, \"1\": 38, \"15\": 29, \"6\": 9, \"13\": 6, \"8\": 4}, \"7\": {\"15\": 63, \"7\": 107, \"1\": 32, \"14\": 1, \"5\": 27, \"4\": 4, \"2\": 6}, \"4\": {\"15\": 6, \"0\": 18, \"4\": 49, \"5\": 33, \"3\": 42, \"10\": 7, \"1\": 11, \"2\": 23, \"14\": 10, \"13\": 19, \"6\": 9, \"7\": 4, \"8\": 9}, \"10\": {\"11\": 34, \"0\": 45, \"10\": 93, \"13\": 15, \"5\": 3, \"9\": 7, \"3\": 11, \"14\": 15, \"4\": 6, \"6\": 7, \"8\": 1, \"2\": 3}, \"11\": {\"12\": 17, \"11\": 117, \"6\": 2, \"0\": 39, \"3\": 5, \"10\": 21, \"9\": 26, \"14\": 8, \"2\": 1, \"13\": 3, \"8\": 1}, \"12\": {\"12\": 176, \"11\": 14, \"9\": 49, \"10\": 1}, \"0\": {\"9\": 22, \"13\": 13, \"3\": 21, \"0\": 58, \"2\": 10, \"10\": 36, \"11\": 31, \"4\": 10, \"8\": 5, \"14\": 24, \"5\": 6, \"12\": 1, \"6\": 3}, \"14\": {\"5\": 10, \"14\": 42, \"6\": 51, \"0\": 26, \"4\": 12, \"3\": 26, \"10\": 8, \"2\": 30, \"13\": 30, \"11\": 1, \"15\": 3, \"7\": 1}, \"8\": {\"8\": 154, \"1\": 39, \"4\": 9, \"7\": 5, \"9\": 11, \"5\": 13, \"0\": 3, \"3\": 6}, \"13\": {\"10\": 19, \"13\": 66, \"6\": 61, \"14\": 38, \"2\": 19, \"3\": 9, \"5\": 9, \"15\": 2, \"4\": 9, \"11\": 2, \"0\": 6}, \"6\": {\"6\": 71, \"0\": 5, \"10\": 11, \"13\": 47, \"2\": 28, \"14\": 47, \"4\": 10, \"5\": 6, \"3\": 11, \"15\": 4}, \"1\": {\"1\": 79, \"4\": 17, \"7\": 24, \"8\": 30, \"5\": 45, \"15\": 19, \"2\": 13, \"3\": 11, \"14\": 1, \"0\": 1}, \"3\": {\"10\": 12, \"14\": 23, \"5\": 27, \"0\": 37, \"3\": 57, \"4\": 27, \"6\": 7, \"2\": 28, \"13\": 7, \"15\": 4, \"8\": 3, \"1\": 4, \"9\": 3, \"7\": 1}, \"9\": {\"9\": 112, \"12\": 55, \"11\": 29, \"10\": 3, \"0\": 22, \"3\": 7, \"8\": 10, \"5\": 1, \"14\": 1}, \"2\": {\"13\": 26, \"10\": 4, \"6\": 26, \"5\": 32, \"14\": 27, \"7\": 6, \"3\": 29, \"2\": 36, \"15\": 11, \"4\": 27, \"0\": 11, \"1\": 5}}, \"O_20\": {\"4\": {\"5\": 12, \"14\": 32, \"3\": 17, \"4\": 50, \"8\": 22, \"9\": 5, \"6\": 8, \"10\": 41, \"7\": 9, \"2\": 5, \"1\": 10, \"12\": 9, \"0\": 13, \"15\": 7}, \"10\": {\"6\": 20, \"4\": 36, \"5\": 11, \"14\": 38, \"9\": 8, \"7\": 5, \"10\": 58, \"8\": 26, \"3\": 22, \"12\": 7, \"2\": 6, \"0\": 1, \"1\": 1, \"15\": 1}, \"15\": {\"4\": 5, \"7\": 14, \"5\": 27, \"1\": 27, \"13\": 20, \"9\": 17, \"12\": 22, \"3\": 14, \"0\": 20, \"2\": 22, \"10\": 3, \"15\": 41, \"11\": 1, \"14\": 1, \"8\": 5, \"6\": 1}, \"0\": {\"9\": 12, \"1\": 16, \"0\": 46, \"6\": 6, \"15\": 37, \"5\": 32, \"4\": 13, \"3\": 15, \"7\": 10, \"8\": 12, \"13\": 11, \"12\": 9, \"10\": 6, \"14\": 3, \"11\": 3, \"2\": 9}, \"6\": {\"2\": 10, \"6\": 59, \"7\": 30, \"8\": 29, \"11\": 9, \"14\": 44, \"13\": 6, \"10\": 25, \"4\": 9, \"5\": 2, \"9\": 7, \"0\": 1, \"3\": 7, \"15\": 1, \"12\": 1}, \"3\": {\"6\": 7, \"1\": 29, \"5\": 31, \"4\": 16, \"7\": 17, \"2\": 23, \"9\": 24, \"15\": 15, \"0\": 17, \"8\": 7, \"3\": 13, \"10\": 13, \"12\": 18, \"11\": 3, \"14\": 7}, \"7\": {\"6\": 26, \"7\": 31, \"2\": 28, \"3\": 24, \"10\": 14, \"9\": 20, \"14\": 10, \"13\": 11, \"8\": 16, \"5\": 14, \"12\": 10, \"15\": 9, \"11\": 8, \"1\": 9, \"0\": 5, \"4\": 5}, \"2\": {\"2\": 30, \"9\": 19, \"7\": 24, \"3\": 25, \"14\": 3, \"6\": 9, \"8\": 5, \"12\": 19, \"13\": 16, \"1\": 18, \"5\": 11, \"0\": 9, \"15\": 21, \"10\": 16, \"11\": 6, \"4\": 9}, \"8\": {\"8\": 36, \"12\": 9, \"0\": 16, \"14\": 31, \"7\": 11, \"4\": 28, \"3\": 20, \"6\": 29, \"10\": 25, \"5\": 12, \"2\": 6, \"15\": 5, \"1\": 3, \"9\": 6, \"11\": 1, \"13\": 2}, \"11\": {\"11\": 138, \"3\": 3, \"13\": 34, \"2\": 15, \"6\": 17, \"7\": 15, \"1\": 2, \"9\": 5, \"8\": 1, \"15\": 1, \"12\": 1, \"10\": 1, \"0\": 1, \"14\": 4, \"4\": 1, \"5\": 1}, \"14\": {\"10\": 33, \"7\": 19, \"6\": 46, \"4\": 21, \"14\": 50, \"8\": 48, \"3\": 10, \"5\": 1, \"2\": 4, \"12\": 3, \"11\": 1, \"9\": 3, \"0\": 1}, \"12\": {\"6\": 7, \"1\": 22, \"12\": 23, \"5\": 28, \"3\": 25, \"14\": 1, \"15\": 18, \"10\": 12, \"9\": 18, \"7\": 15, \"2\": 20, \"4\": 18, \"0\": 18, \"8\": 7, \"13\": 5, \"11\": 3}, \"13\": {\"3\": 15, \"13\": 62, \"1\": 22, \"2\": 23, \"6\": 6, \"12\": 13, \"11\": 13, \"4\": 2, \"5\": 12, \"7\": 19, \"15\": 24, \"8\": 3, \"0\": 4, \"9\": 17, \"10\": 3, \"14\": 2}, \"9\": {\"9\": 30, \"7\": 14, \"15\": 20, \"12\": 26, \"1\": 31, \"2\": 24, \"14\": 3, \"4\": 6, \"5\": 9, \"10\": 9, \"3\": 16, \"0\": 12, \"6\": 9, \"11\": 10, \"13\": 13, \"8\": 8}, \"5\": {\"7\": 8, \"0\": 33, \"5\": 33, \"3\": 17, \"10\": 17, \"13\": 5, \"15\": 43, \"12\": 12, \"4\": 11, \"1\": 26, \"9\": 12, \"8\": 5, \"2\": 14, \"6\": 3, \"14\": 1}, \"1\": {\"2\": 16, \"1\": 35, \"15\": 43, \"13\": 14, \"9\": 29, \"5\": 29, \"8\": 2, \"3\": 14, \"0\": 22, \"12\": 13, \"7\": 14, \"6\": 2, \"10\": 4, \"11\": 1, \"4\": 2}}, \"O_50\": {\"5\": {\"5\": 48, \"7\": 36, \"6\": 17, \"10\": 32, \"13\": 43, \"1\": 15, \"4\": 23, \"11\": 3, \"0\": 13, \"2\": 1, \"8\": 1, \"15\": 8}, \"12\": {\"9\": 45, \"12\": 116, \"11\": 18, \"14\": 59, \"1\": 1, \"2\": 1}, \"14\": {\"14\": 99, \"1\": 7, \"11\": 32, \"12\": 33, \"2\": 19, \"9\": 44, \"15\": 2, \"0\": 1, \"6\": 1, \"4\": 2}, \"4\": {\"13\": 16, \"10\": 5, \"4\": 51, \"15\": 33, \"11\": 15, \"6\": 23, \"5\": 25, \"1\": 50, \"0\": 4, \"7\": 11, \"2\": 1, \"9\": 3, \"14\": 3}, \"13\": {\"10\": 29, \"7\": 46, \"1\": 7, \"13\": 75, \"0\": 2, \"6\": 21, \"5\": 41, \"4\": 16, \"11\": 1, \"15\": 2}, \"10\": {\"10\": 100, \"8\": 47, \"7\": 27, \"0\": 28, \"13\": 18, \"2\": 3, \"6\": 1, \"5\": 11, \"1\": 2, \"4\": 1, \"3\": 2}, \"9\": {\"9\": 91, \"12\": 36, \"11\": 66, \"14\": 36, \"15\": 8, \"1\": 2, \"4\": 1}, \"15\": {\"11\": 35, \"13\": 4, \"15\": 89, \"1\": 47, \"4\": 28, \"6\": 24, \"9\": 7, \"5\": 3, \"14\": 2, \"7\": 1}, \"6\": {\"15\": 30, \"6\": 69, \"4\": 25, \"13\": 28, \"0\": 8, \"5\": 19, \"7\": 13, \"2\": 5, \"1\": 37, \"11\": 2, \"10\": 2, \"9\": 1, \"14\": 1}, \"2\": {\"2\": 132, \"1\": 8, \"0\": 68, \"10\": 4, \"14\": 14, \"11\": 3, \"4\": 5, \"12\": 2, \"6\": 2, \"5\": 2}, \"0\": {\"2\": 59, \"7\": 4, \"0\": 109, \"13\": 4, \"10\": 35, \"1\": 7, \"14\": 2, \"5\": 11, \"8\": 4, \"4\": 2, \"6\": 3}, \"11\": {\"11\": 77, \"14\": 35, \"1\": 19, \"9\": 52, \"4\": 6, \"15\": 32, \"12\": 17, \"2\": 1, \"6\": 1}, \"3\": {\"3\": 202, \"8\": 36, \"7\": 2}, \"8\": {\"8\": 170, \"0\": 5, \"3\": 33, \"7\": 4, \"10\": 25, \"2\": 1, \"13\": 1, \"6\": 1}, \"7\": {\"10\": 40, \"7\": 73, \"5\": 23, \"13\": 59, \"6\": 12, \"0\": 11, \"8\": 7, \"4\": 10, \"3\": 4, \"15\": 1}, \"1\": {\"6\": 44, \"1\": 71, \"11\": 17, \"4\": 35, \"15\": 33, \"5\": 14, \"13\": 6, \"0\": 8, \"9\": 3, \"2\": 4, \"14\": 3, \"7\": 2}}, \"O_26\": {\"7\": {\"3\": 22, \"7\": 26, \"15\": 17, \"9\": 16, \"4\": 18, \"10\": 15, \"8\": 27, \"14\": 25, \"1\": 11, \"0\": 16, \"2\": 22, \"5\": 7, \"6\": 13, \"13\": 5}, \"6\": {\"15\": 19, \"14\": 18, \"1\": 6, \"8\": 31, \"10\": 19, \"9\": 30, \"5\": 12, \"7\": 5, \"6\": 43, \"2\": 7, \"13\": 14, \"3\": 7, \"0\": 17, \"4\": 10, \"11\": 1, \"12\": 1}, \"14\": {\"1\": 43, \"4\": 40, \"12\": 1, \"14\": 31, \"0\": 28, \"6\": 17, \"10\": 21, \"2\": 3, \"15\": 5, \"7\": 18, \"8\": 20, \"13\": 2, \"3\": 3, \"5\": 1, \"9\": 7}, \"15\": {\"6\": 28, \"15\": 36, \"9\": 17, \"1\": 5, \"5\": 17, \"0\": 11, \"4\": 11, \"2\": 30, \"3\": 15, \"13\": 21, \"10\": 5, \"14\": 10, \"8\": 22, \"7\": 12}, \"5\": {\"15\": 18, \"8\": 8, \"13\": 57, \"5\": 48, \"7\": 7, \"14\": 5, \"3\": 12, \"9\": 30, \"2\": 18, \"6\": 18, \"4\": 6, \"1\": 6, \"11\": 1, \"0\": 1, \"10\": 4, \"12\": 1}, \"10\": {\"8\": 34, \"6\": 25, \"14\": 28, \"1\": 25, \"2\": 4, \"15\": 10, \"9\": 12, \"10\": 36, \"7\": 12, \"0\": 21, \"13\": 6, \"4\": 17, \"5\": 2, \"3\": 7, \"11\": 1}, \"4\": {\"14\": 32, \"3\": 14, \"8\": 24, \"1\": 25, \"10\": 35, \"0\": 23, \"9\": 6, \"6\": 18, \"15\": 6, \"7\": 15, \"4\": 30, \"13\": 1, \"2\": 9, \"5\": 2}, \"11\": {\"11\": 200, \"12\": 27, \"13\": 6, \"6\": 3, \"5\": 3, \"9\": 1}, \"13\": {\"13\": 73, \"15\": 22, \"5\": 41, \"2\": 28, \"9\": 25, \"14\": 4, \"11\": 6, \"7\": 7, \"6\": 14, \"3\": 7, \"8\": 7, \"10\": 2, \"4\": 2, \"12\": 1, \"1\": 1}, \"2\": {\"13\": 17, \"2\": 39, \"7\": 26, \"5\": 20, \"15\": 23, \"4\": 14, \"0\": 3, \"3\": 45, \"9\": 18, \"1\": 6, \"8\": 13, \"14\": 10, \"6\": 4, \"10\": 2}, \"0\": {\"8\": 16, \"15\": 11, \"1\": 18, \"3\": 14, \"10\": 34, \"6\": 21, \"4\": 25, \"7\": 15, \"0\": 30, \"14\": 38, \"9\": 8, \"2\": 8, \"5\": 2}, \"12\": {\"12\": 185, \"11\": 24, \"4\": 1, \"6\": 9, \"10\": 6, \"0\": 4, \"1\": 5, \"13\": 1, \"5\": 1, \"9\": 2, \"8\": 1, \"15\": 1}, \"3\": {\"7\": 35, \"1\": 11, \"3\": 55, \"8\": 12, \"5\": 17, \"6\": 4, \"14\": 14, \"2\": 36, \"15\": 20, \"10\": 7, \"4\": 7, \"13\": 4, \"0\": 7, \"9\": 11}, \"9\": {\"4\": 16, \"8\": 16, \"0\": 13, \"14\": 8, \"7\": 16, \"9\": 42, \"13\": 23, \"5\": 21, \"6\": 32, \"2\": 15, \"3\": 10, \"10\": 10, \"15\": 12, \"1\": 6}, \"8\": {\"15\": 24, \"8\": 26, \"4\": 17, \"7\": 19, \"14\": 16, \"6\": 24, \"5\": 9, \"13\": 11, \"10\": 21, \"9\": 16, \"0\": 21, \"3\": 12, \"1\": 10, \"2\": 14}, \"1\": {\"8\": 12, \"14\": 31, \"4\": 35, \"3\": 12, \"1\": 50, \"7\": 19, \"10\": 23, \"0\": 26, \"5\": 3, \"9\": 8, \"15\": 4, \"13\": 2, \"6\": 8, \"2\": 7}}, \"O_32\": {\"7\": {\"5\": 24, \"7\": 33, \"11\": 33, \"0\": 17, \"4\": 27, \"14\": 41, \"3\": 17, \"8\": 5, \"2\": 31, \"13\": 12}, \"2\": {\"2\": 69, \"7\": 23, \"0\": 48, \"5\": 12, \"8\": 14, \"4\": 33, \"9\": 7, \"14\": 13, \"11\": 12, \"13\": 9}, \"5\": {\"13\": 30, \"3\": 30, \"0\": 11, \"4\": 31, \"14\": 16, \"2\": 21, \"7\": 25, \"5\": 47, \"8\": 23, \"11\": 6}, \"6\": {\"6\": 228, \"12\": 10, \"9\": 1, \"10\": 1}, \"13\": {\"11\": 12, \"13\": 43, \"0\": 19, \"3\": 40, \"4\": 31, \"7\": 22, \"8\": 22, \"5\": 30, \"14\": 10, \"2\": 11}, \"4\": {\"13\": 24, \"5\": 27, \"0\": 23, \"3\": 11, \"2\": 54, \"7\": 25, \"4\": 35, \"14\": 17, \"8\": 14, \"11\": 10}, \"3\": {\"5\": 32, \"3\": 96, \"4\": 5, \"13\": 50, \"11\": 11, \"8\": 14, \"7\": 13, \"14\": 10, \"2\": 2, \"15\": 4, \"0\": 3}, \"0\": {\"0\": 67, \"3\": 2, \"8\": 34, \"7\": 18, \"4\": 32, \"5\": 16, \"11\": 6, \"2\": 32, \"13\": 13, \"9\": 3, \"14\": 16, \"15\": 1}, \"9\": {\"2\": 6, \"9\": 193, \"12\": 34, \"0\": 5, \"6\": 1, \"4\": 1}, \"12\": {\"12\": 197, \"6\": 15, \"9\": 28}, \"8\": {\"8\": 60, \"13\": 28, \"0\": 43, \"5\": 30, \"14\": 7, \"7\": 9, \"3\": 23, \"15\": 4, \"2\": 12, \"4\": 19, \"11\": 5}, \"14\": {\"13\": 10, \"14\": 45, \"2\": 23, \"0\": 13, \"8\": 11, \"11\": 58, \"4\": 12, \"7\": 35, \"3\": 17, \"5\": 16}, \"15\": {\"5\": 5, \"8\": 16, \"15\": 204, \"13\": 1, \"0\": 5, \"3\": 9}, \"11\": {\"11\": 73, \"14\": 54, \"13\": 12, \"7\": 44, \"5\": 14, \"4\": 6, \"8\": 7, \"2\": 8, \"0\": 8, \"3\": 14}, \"10\": {\"10\": 223, \"1\": 16, \"6\": 1}, \"1\": {\"1\": 214, \"10\": 26}}, \"O_44\": {\"11\": {\"11\": 131, \"13\": 51, \"6\": 26, \"9\": 17, \"2\": 2, \"4\": 5, \"7\": 5, \"10\": 1, \"14\": 1, \"15\": 1}, \"7\": {\"7\": 77, \"2\": 40, \"6\": 26, \"13\": 16, \"10\": 15, \"3\": 3, \"9\": 40, \"1\": 9, \"4\": 2, \"12\": 7, \"11\": 4, \"14\": 1}, \"6\": {\"6\": 89, \"9\": 31, \"7\": 32, \"13\": 52, \"2\": 11, \"10\": 5, \"11\": 19, \"12\": 1}, \"12\": {\"12\": 82, \"3\": 30, \"2\": 11, \"1\": 64, \"10\": 52, \"7\": 1}, \"4\": {\"4\": 106, \"14\": 71, \"5\": 10, \"8\": 1, \"15\": 16, \"7\": 4, \"9\": 14, \"6\": 2, \"13\": 13, \"0\": 2, \"11\": 1}, \"13\": {\"9\": 37, \"13\": 72, \"6\": 56, \"7\": 11, \"4\": 18, \"2\": 7, \"11\": 36, \"1\": 2, \"14\": 1}, \"8\": {\"0\": 82, \"8\": 99, \"14\": 3, \"5\": 25, \"15\": 30, \"4\": 1}, \"5\": {\"5\": 101, \"14\": 35, \"0\": 44, \"8\": 28, \"4\": 17, \"15\": 15}, \"14\": {\"4\": 52, \"14\": 81, \"15\": 45, \"5\": 25, \"0\": 20, \"9\": 8, \"8\": 5, \"13\": 3, \"11\": 1}, \"3\": {\"2\": 9, \"10\": 10, \"3\": 92, \"12\": 43, \"1\": 76, \"7\": 6, \"9\": 4}, \"10\": {\"10\": 74, \"12\": 62, \"2\": 42, \"1\": 31, \"7\": 14, \"3\": 11, \"9\": 5, \"6\": 1}, \"1\": {\"12\": 65, \"3\": 47, \"1\": 65, \"9\": 4, \"2\": 19, \"10\": 34, \"7\": 6}, \"2\": {\"9\": 31, \"2\": 69, \"10\": 40, \"12\": 18, \"1\": 19, \"7\": 44, \"3\": 10, \"6\": 9}, \"15\": {\"14\": 44, \"5\": 25, \"15\": 70, \"4\": 25, \"0\": 36, \"8\": 38, \"3\": 2}, \"9\": {\"9\": 71, \"2\": 28, \"6\": 28, \"11\": 16, \"7\": 30, \"13\": 41, \"4\": 12, \"10\": 4, \"1\": 6, \"12\": 2, \"3\": 1, \"14\": 1}, \"0\": {\"15\": 44, \"5\": 51, \"8\": 70, \"0\": 61, \"4\": 4, \"14\": 10}}, \"O_8\": {\"10\": {\"13\": 37, \"6\": 19, \"10\": 57, \"7\": 9, \"4\": 25, \"14\": 27, \"1\": 17, \"8\": 4, \"0\": 14, \"5\": 27, \"11\": 4}, \"6\": {\"0\": 24, \"2\": 7, \"14\": 31, \"4\": 35, \"15\": 16, \"6\": 39, \"8\": 16, \"13\": 27, \"7\": 23, \"10\": 11, \"1\": 8, \"12\": 1, \"5\": 1, \"3\": 1}, \"13\": {\"4\": 27, \"13\": 46, \"1\": 7, \"6\": 31, \"0\": 28, \"10\": 31, \"14\": 31, \"15\": 4, \"2\": 3, \"7\": 21, \"12\": 1, \"5\": 4, \"3\": 2, \"8\": 3, \"11\": 1}, \"3\": {\"3\": 69, \"12\": 42, \"15\": 22, \"7\": 20, \"2\": 70, \"6\": 5, \"0\": 6, \"8\": 3, \"14\": 1, \"13\": 1, \"10\": 1}, \"9\": {\"9\": 234, \"5\": 4, \"10\": 2}, \"1\": {\"11\": 59, \"1\": 68, \"8\": 13, \"5\": 39, \"10\": 17, \"15\": 2, \"14\": 16, \"4\": 12, \"13\": 6, \"12\": 1, \"6\": 5, \"7\": 2}, \"5\": {\"5\": 106, \"9\": 3, \"11\": 30, \"0\": 2, \"1\": 31, \"14\": 24, \"10\": 26, \"4\": 3, \"6\": 6, \"8\": 3, \"13\": 6}, \"11\": {\"1\": 61, \"11\": 96, \"5\": 22, \"6\": 3, \"14\": 13, \"10\": 10, \"8\": 15, \"15\": 6, \"0\": 2, \"4\": 8, \"13\": 3, \"7\": 1}, \"4\": {\"15\": 9, \"7\": 21, \"8\": 11, \"6\": 30, \"14\": 33, \"2\": 4, \"10\": 31, \"13\": 26, \"4\": 24, \"5\": 3, \"0\": 28, \"11\": 4, \"1\": 14, \"12\": 1, \"3\": 1}, \"14\": {\"6\": 18, \"14\": 40, \"0\": 14, \"7\": 7, \"1\": 25, \"8\": 10, \"11\": 11, \"13\": 17, \"5\": 22, \"15\": 4, \"4\": 30, \"10\": 41, \"2\": 1}, \"12\": {\"12\": 65, \"8\": 30, \"7\": 10, \"3\": 36, \"15\": 64, \"6\": 4, \"2\": 22, \"13\": 1, \"4\": 2, \"0\": 4, \"10\": 1, \"14\": 1}, \"7\": {\"4\": 20, \"7\": 47, \"6\": 33, \"14\": 13, \"12\": 5, \"13\": 24, \"3\": 14, \"0\": 32, \"8\": 14, \"15\": 12, \"2\": 17, \"10\": 7, \"11\": 1, \"1\": 1}, \"0\": {\"0\": 45, \"4\": 24, \"7\": 33, \"3\": 5, \"6\": 30, \"13\": 44, \"8\": 3, \"5\": 4, \"2\": 6, \"10\": 22, \"14\": 21, \"15\": 3}, \"15\": {\"15\": 56, \"2\": 16, \"6\": 15, \"8\": 43, \"12\": 59, \"3\": 18, \"7\": 18, \"4\": 7, \"13\": 3, \"14\": 2, \"0\": 2, \"11\": 1}, \"2\": {\"2\": 82, \"0\": 13, \"6\": 12, \"15\": 14, \"3\": 66, \"7\": 27, \"12\": 16, \"8\": 2, \"13\": 6, \"4\": 1, \"10\": 1}, \"8\": {\"12\": 34, \"0\": 6, \"6\": 13, \"15\": 41, \"11\": 7, \"14\": 18, \"7\": 12, \"8\": 69, \"4\": 14, \"10\": 8, \"13\": 1, \"1\": 8, \"3\": 4, \"2\": 4, \"5\": 1}}, \"O_38\": {\"4\": {\"4\": 176, \"12\": 56, \"7\": 3, \"10\": 3, \"0\": 1, \"11\": 1}, \"7\": {\"8\": 41, \"5\": 34, \"7\": 93, \"3\": 12, \"0\": 38, \"6\": 5, \"9\": 3, \"12\": 3, \"10\": 4, \"15\": 2, \"1\": 2, \"13\": 3}, \"12\": {\"12\": 163, \"4\": 65, \"14\": 8, \"11\": 1, \"0\": 1, \"10\": 2}, \"10\": {\"7\": 13, \"10\": 69, \"8\": 21, \"14\": 18, \"15\": 31, \"13\": 27, \"0\": 16, \"4\": 3, \"2\": 15, \"5\": 10, \"6\": 2, \"12\": 7, \"1\": 1, \"11\": 7}, \"0\": {\"8\": 36, \"0\": 52, \"7\": 52, \"12\": 7, \"5\": 35, \"10\": 8, \"6\": 5, \"13\": 5, \"9\": 3, \"3\": 25, \"4\": 3, \"1\": 3, \"15\": 6}, \"1\": {\"8\": 15, \"9\": 8, \"13\": 15, \"15\": 31, \"6\": 19, \"1\": 137, \"5\": 11, \"0\": 2, \"10\": 1, \"2\": 1}, \"5\": {\"8\": 41, \"6\": 26, \"1\": 17, \"3\": 12, \"0\": 32, \"10\": 5, \"7\": 22, \"5\": 44, \"9\": 19, \"15\": 13, \"13\": 9}, \"15\": {\"5\": 22, \"8\": 26, \"15\": 56, \"13\": 53, \"1\": 36, \"10\": 22, \"6\": 8, \"2\": 5, \"0\": 9, \"7\": 3}, \"9\": {\"6\": 82, \"9\": 84, \"3\": 34, \"15\": 1, \"0\": 10, \"5\": 16, \"7\": 4, \"1\": 8, \"8\": 1}, \"11\": {\"10\": 9, \"11\": 117, \"14\": 84, \"2\": 19, \"13\": 3, \"12\": 5, \"15\": 1, \"4\": 2}, \"14\": {\"14\": 120, \"10\": 22, \"11\": 50, \"2\": 40, \"15\": 2, \"8\": 1, \"13\": 2, \"12\": 3}, \"6\": {\"9\": 75, \"3\": 12, \"6\": 112, \"5\": 17, \"1\": 12, \"15\": 1, \"7\": 3, \"8\": 4, \"0\": 3, \"13\": 1}, \"8\": {\"8\": 59, \"7\": 33, \"6\": 7, \"15\": 25, \"10\": 19, \"5\": 39, \"0\": 29, \"1\": 4, \"13\": 18, \"9\": 4, \"3\": 2, \"2\": 1}, \"3\": {\"6\": 26, \"3\": 141, \"0\": 24, \"9\": 30, \"7\": 6, \"8\": 4, \"15\": 1, \"5\": 7, \"4\": 1}, \"2\": {\"2\": 161, \"10\": 12, \"11\": 13, \"13\": 25, \"14\": 16, \"15\": 11, \"8\": 1, \"1\": 1}, \"13\": {\"13\": 78, \"0\": 4, \"1\": 24, \"10\": 23, \"15\": 50, \"2\": 39, \"5\": 6, \"8\": 7, \"14\": 5, \"7\": 2, \"11\": 1, \"9\": 1}}}, \"per_domain_accuracy\": {\"C_4\": {\"accuracy\": 0.9977544910179641, \"source?\": true}, \"C_5\": {\"accuracy\": 0.9989525139664804, \"source?\": true}, \"C_2\": {\"accuracy\": 0.9996428571428572, \"source?\": true}, \"C_1\": {\"accuracy\": 0.9996603260869565, \"source?\": true}, \"C_3\": {\"accuracy\": 0.9988970588235294, \"source?\": true}, \"O_14\": {\"accuracy\": 0.35546875, \"source?\": false}, \"O_20\": {\"accuracy\": 0.19140625, \"source?\": false}, \"O_50\": {\"accuracy\": 0.409375, \"source?\": false}, \"O_26\": {\"accuracy\": 0.24739583333333334, \"source?\": false}, \"O_32\": {\"accuracy\": 0.47578125, \"source?\": false}, \"O_44\": {\"accuracy\": 0.3489583333333333, \"source?\": false}, \"O_8\": {\"accuracy\": 0.29765625, \"source?\": false}, \"O_38\": {\"accuracy\": 0.4328125, \"source?\": false}}}, \"history\": {\"epoch_indices\": [1, 2, 3, 4, 5, 6, 7, 8, 9, 10], \"train_label_loss\": [0.031001587150237493, 0.008302812158707467, 0.005704000995374719, 0.004094118380756353, 0.0034463485082439605, 0.002893968463039822, 0.0027306882190039103, 0.0027975903786471236, 0.0034118885443586247, 0.0023698458789979805], \"source_val_label_loss\": [0.014273829758167267, 0.00837696623057127, 0.005916075315326452, 0.007800376042723656, 0.00669939024373889, 0.01132955588400364, 0.0061597153544425964, 0.008316868916153908, 0.009357919916510582, 0.008353730663657188], \"target_val_label_loss\": [1.9438666105270386, 2.558082103729248, 2.6127376556396484, 2.282674789428711, 2.4780776500701904, 2.5871055126190186, 3.5303401947021484, 3.0486536026000977, 3.0989456176757812, 4.234864711761475], \"source_val_acc_label\": [0.9964642857142857, 0.9988214285714285, 0.9992857142857143, 0.9991071428571429, 0.9992857142857143, 0.999, 0.9995, 0.9994642857142857, 0.9989642857142857, 0.99925], \"target_val_acc_label\": [0.333984375, 0.2877604166666667, 0.3107096354166667, 0.31881510416666664, 0.33932291666666664, 0.3448567708333333, 0.2775390625, 0.31220703125, 0.3204427083333333, 0.24580078125]}, \"dataset_metrics\": {\"source\": {\"train\": {\"n_unique_x\": 175182, \"n_unique_y\": 58, \"n_batch/episode\": 6303}, \"val\": {\"n_unique_x\": 37216, \"n_unique_y\": 58, \"n_batch/episode\": 875}, \"test\": {\"n_unique_x\": 37596, \"n_unique_y\": 58, \"n_batch/episode\": 886}}, \"target\": {\"train\": {\"n_unique_x\": 179200, \"n_unique_y\": 16, \"n_batch/episode\": 6720}, \"val\": {\"n_unique_x\": 38400, \"n_unique_y\": 16, \"n_batch/episode\": 960}, \"test\": {\"n_unique_x\": 38400, \"n_unique_y\": 16, \"n_batch/episode\": 960}}}}'"
      ]
     },
     "execution_count": 29,
     "metadata": {},
     "output_type": "execute_result"
    }
   ],
   "source": [
    "json.dumps(experiment)"
   ]
  }
 ],
 "metadata": {
  "celltoolbar": "Tags",
  "kernelspec": {
   "display_name": "Python 3 (ipykernel)",
   "language": "python",
   "name": "python3"
  },
  "language_info": {
   "codemirror_mode": {
    "name": "ipython",
    "version": 3
   },
   "file_extension": ".py",
   "mimetype": "text/x-python",
   "name": "python",
   "nbconvert_exporter": "python",
   "pygments_lexer": "ipython3",
   "version": "3.8.10"
  },
  "papermill": {
   "default_parameters": {},
   "duration": 2954.290407,
   "end_time": "2022-03-25T17:32:43.701698",
   "environment_variables": {},
   "exception": null,
   "input_path": "/mnt/wd500GB/CSC500/csc500-main/csc500-notebooks/templates/tl_ptn_template.ipynb",
   "output_path": "trial.ipynb",
   "parameters": {
    "parameters": {
     "BEST_MODEL_PATH": "./best_model.pth",
     "NUM_LOGS_PER_EPOCH": 10,
     "criteria_for_best": "target_accuracy",
     "dataset_seed": 420,
     "datasets": [
      {
       "domain_prefix": "C_",
       "domains": [
        1,
        2,
        3,
        4,
        5
       ],
       "episode_transforms": [],
       "labels": [
        "1-10.",
        "1-11.",
        "1-15.",
        "1-16.",
        "1-17.",
        "1-18.",
        "1-19.",
        "10-4.",
        "10-7.",
        "11-1.",
        "11-14.",
        "11-17.",
        "11-20.",
        "11-7.",
        "13-20.",
        "13-8.",
        "14-10.",
        "14-11.",
        "14-14.",
        "14-7.",
        "15-1.",
        "15-20.",
        "16-1.",
        "16-16.",
        "17-10.",
        "17-11.",
        "17-2.",
        "19-1.",
        "19-16.",
        "19-19.",
        "19-20.",
        "19-3.",
        "2-10.",
        "2-11.",
        "2-17.",
        "2-18.",
        "2-20.",
        "2-3.",
        "2-4.",
        "2-5.",
        "2-6.",
        "2-7.",
        "2-8.",
        "3-13.",
        "3-18.",
        "3-3.",
        "4-1.",
        "4-10.",
        "4-11.",
        "4-19.",
        "5-5.",
        "6-15.",
        "7-10.",
        "7-14.",
        "8-18.",
        "8-20.",
        "8-3.",
        "8-8."
       ],
       "num_examples_per_domain_per_label": -1,
       "pickle_path": "/mnt/wd500GB/CSC500/csc500-main/datasets/cores.stratified_ds.2022A.pkl",
       "source_or_target_dataset": "source",
       "x_transforms": [
        "unit_mag",
        "lowpass_+/-10MHz",
        "take_200"
       ]
      },
      {
       "domain_prefix": "O_",
       "domains": [
        32,
        38,
        8,
        44,
        14,
        50,
        20,
        26
       ],
       "episode_transforms": [],
       "labels": [
        "3123D52",
        "3123D65",
        "3123D79",
        "3123D80",
        "3123D54",
        "3123D70",
        "3123D7B",
        "3123D89",
        "3123D58",
        "3123D76",
        "3123D7D",
        "3123EFE",
        "3123D64",
        "3123D78",
        "3123D7E",
        "3124E4A"
       ],
       "num_examples_per_domain_per_label": 2000,
       "pickle_path": "/mnt/wd500GB/CSC500/csc500-main/datasets/oracle.Run1_framed_2000Examples_stratified_ds.2022A.pkl",
       "source_or_target_dataset": "target",
       "x_transforms": [
        "unit_mag",
        "take_200",
        "resample_20Msps_to_25Msps"
       ]
      }
     ],
     "device": "cuda",
     "experiment_name": "tl_3-filterv2:cores -> oracle.run1.framed",
     "lr": 0.0001,
     "n_epoch": 50,
     "n_query": 2,
     "n_shot": 3,
     "n_way": 16,
     "patience": 3,
     "seed": 420,
     "test_k_factor": 2,
     "torch_default_dtype": "torch.float32",
     "train_k_factor": 3,
     "val_k_factor": 2,
     "x_net": [
      {
       "class": "nnReshape",
       "kargs": {
        "shape": [
         -1,
         1,
         2,
         200
        ]
       }
      },
      {
       "class": "Conv2d",
       "kargs": {
        "bias": false,
        "in_channels": 1,
        "kernel_size": [
         1,
         7
        ],
        "out_channels": 256,
        "padding": [
         0,
         3
        ]
       }
      },
      {
       "class": "ReLU",
       "kargs": {
        "inplace": true
       }
      },
      {
       "class": "BatchNorm2d",
       "kargs": {
        "num_features": 256
       }
      },
      {
       "class": "Conv2d",
       "kargs": {
        "bias": true,
        "in_channels": 256,
        "kernel_size": [
         2,
         7
        ],
        "out_channels": 80,
        "padding": [
         0,
         3
        ]
       }
      },
      {
       "class": "ReLU",
       "kargs": {
        "inplace": true
       }
      },
      {
       "class": "BatchNorm2d",
       "kargs": {
        "num_features": 80
       }
      },
      {
       "class": "Flatten",
       "kargs": {}
      },
      {
       "class": "Linear",
       "kargs": {
        "in_features": 16000,
        "out_features": 256
       }
      },
      {
       "class": "ReLU",
       "kargs": {
        "inplace": true
       }
      },
      {
       "class": "BatchNorm1d",
       "kargs": {
        "num_features": 256
       }
      },
      {
       "class": "Linear",
       "kargs": {
        "in_features": 256,
        "out_features": 256
       }
      }
     ],
     "x_shape": [
      2,
      200
     ]
    }
   },
   "start_time": "2022-03-25T16:43:29.411291",
   "version": "2.3.4"
  }
 },
 "nbformat": 4,
 "nbformat_minor": 5
}