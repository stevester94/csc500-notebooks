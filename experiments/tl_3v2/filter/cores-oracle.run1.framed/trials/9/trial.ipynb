{
 "cells": [
  {
   "cell_type": "markdown",
   "id": "9fea5f46",
   "metadata": {
    "papermill": {
     "duration": 0.018101,
     "end_time": "2022-03-25T18:03:42.255339",
     "exception": false,
     "start_time": "2022-03-25T18:03:42.237238",
     "status": "completed"
    },
    "tags": []
   },
   "source": [
    "# Transfer Learning Template"
   ]
  },
  {
   "cell_type": "code",
   "execution_count": 1,
   "id": "0902182a",
   "metadata": {
    "execution": {
     "iopub.execute_input": "2022-03-25T18:03:42.294437Z",
     "iopub.status.busy": "2022-03-25T18:03:42.294029Z",
     "iopub.status.idle": "2022-03-25T18:03:43.288104Z",
     "shell.execute_reply": "2022-03-25T18:03:43.287575Z"
    },
    "papermill": {
     "duration": 1.019494,
     "end_time": "2022-03-25T18:03:43.288221",
     "exception": false,
     "start_time": "2022-03-25T18:03:42.268727",
     "status": "completed"
    },
    "tags": []
   },
   "outputs": [],
   "source": [
    "%load_ext autoreload\n",
    "%autoreload 2\n",
    "%matplotlib inline\n",
    "\n",
    "    \n",
    "import os, json, sys, time, random\n",
    "import numpy as np\n",
    "import torch\n",
    "from torch.optim import Adam\n",
    "from  easydict import EasyDict\n",
    "import matplotlib.pyplot as plt\n",
    "\n",
    "from steves_models.steves_ptn import Steves_Prototypical_Network\n",
    "\n",
    "from steves_utils.lazy_iterable_wrapper import Lazy_Iterable_Wrapper\n",
    "from steves_utils.iterable_aggregator import Iterable_Aggregator\n",
    "from steves_utils.ptn_train_eval_test_jig import  PTN_Train_Eval_Test_Jig\n",
    "from steves_utils.torch_sequential_builder import build_sequential\n",
    "from steves_utils.torch_utils import get_dataset_metrics, ptn_confusion_by_domain_over_dataloader\n",
    "from steves_utils.utils_v2 import (per_domain_accuracy_from_confusion, get_datasets_base_path)\n",
    "from steves_utils.PTN.utils import independent_accuracy_assesment\n",
    "\n",
    "from torch.utils.data import DataLoader\n",
    "\n",
    "from steves_utils.stratified_dataset.episodic_accessor import Episodic_Accessor_Factory\n",
    "\n",
    "from steves_utils.ptn_do_report import (\n",
    "    get_loss_curve,\n",
    "    get_results_table,\n",
    "    get_parameters_table,\n",
    "    get_domain_accuracies,\n",
    ")\n",
    "\n",
    "from steves_utils.transforms import get_chained_transform"
   ]
  },
  {
   "cell_type": "markdown",
   "id": "41c840b4",
   "metadata": {
    "papermill": {
     "duration": 0.013185,
     "end_time": "2022-03-25T18:03:43.316354",
     "exception": false,
     "start_time": "2022-03-25T18:03:43.303169",
     "status": "completed"
    },
    "tags": []
   },
   "source": [
    "# Allowed Parameters\n",
    "These are allowed parameters, not defaults\n",
    "Each of these values need to be present in the injected parameters (the notebook will raise an exception if they are not present)\n",
    "\n",
    "Papermill uses the cell tag \"parameters\" to inject the real parameters below this cell.\n",
    "Enable tags to see what I mean"
   ]
  },
  {
   "cell_type": "code",
   "execution_count": 2,
   "id": "fd44eb83",
   "metadata": {
    "execution": {
     "iopub.execute_input": "2022-03-25T18:03:43.345345Z",
     "iopub.status.busy": "2022-03-25T18:03:43.345078Z",
     "iopub.status.idle": "2022-03-25T18:03:43.361165Z",
     "shell.execute_reply": "2022-03-25T18:03:43.360716Z"
    },
    "papermill": {
     "duration": 0.031873,
     "end_time": "2022-03-25T18:03:43.361273",
     "exception": false,
     "start_time": "2022-03-25T18:03:43.329400",
     "status": "completed"
    },
    "tags": []
   },
   "outputs": [],
   "source": [
    "required_parameters = {\n",
    "    \"experiment_name\",\n",
    "    \"lr\",\n",
    "    \"device\",\n",
    "    \"seed\",\n",
    "    \"dataset_seed\",\n",
    "    \"n_shot\",\n",
    "    \"n_query\",\n",
    "    \"n_way\",\n",
    "    \"train_k_factor\",\n",
    "    \"val_k_factor\",\n",
    "    \"test_k_factor\",\n",
    "    \"n_epoch\",\n",
    "    \"patience\",\n",
    "    \"criteria_for_best\",\n",
    "    \"x_net\",\n",
    "    \"datasets\",\n",
    "    \"torch_default_dtype\",\n",
    "    \"NUM_LOGS_PER_EPOCH\",\n",
    "    \"BEST_MODEL_PATH\",\n",
    "    \"x_shape\",\n",
    "}"
   ]
  },
  {
   "cell_type": "code",
   "execution_count": 3,
   "id": "fa3f0049",
   "metadata": {
    "execution": {
     "iopub.execute_input": "2022-03-25T18:03:43.401975Z",
     "iopub.status.busy": "2022-03-25T18:03:43.401535Z",
     "iopub.status.idle": "2022-03-25T18:03:43.416566Z",
     "shell.execute_reply": "2022-03-25T18:03:43.416169Z"
    },
    "papermill": {
     "duration": 0.037395,
     "end_time": "2022-03-25T18:03:43.416666",
     "exception": false,
     "start_time": "2022-03-25T18:03:43.379271",
     "status": "completed"
    },
    "tags": [
     "parameters"
    ]
   },
   "outputs": [],
   "source": [
    "from steves_utils.CORES.utils import (\n",
    "    ALL_NODES,\n",
    "    ALL_NODES_MINIMUM_1000_EXAMPLES,\n",
    "    ALL_DAYS\n",
    ")\n",
    "\n",
    "from steves_utils.ORACLE.utils_v2 import (\n",
    "    ALL_DISTANCES_FEET_NARROWED,\n",
    "    ALL_RUNS,\n",
    "    ALL_SERIAL_NUMBERS,\n",
    ")\n",
    "\n",
    "standalone_parameters = {}\n",
    "standalone_parameters[\"experiment_name\"] = \"STANDALONE PTN\"\n",
    "standalone_parameters[\"lr\"] = 0.001\n",
    "standalone_parameters[\"device\"] = \"cuda\"\n",
    "\n",
    "standalone_parameters[\"seed\"] = 1337\n",
    "standalone_parameters[\"dataset_seed\"] = 1337\n",
    "\n",
    "standalone_parameters[\"n_way\"] = 8\n",
    "standalone_parameters[\"n_shot\"] = 3\n",
    "standalone_parameters[\"n_query\"]  = 2\n",
    "standalone_parameters[\"train_k_factor\"] = 1\n",
    "standalone_parameters[\"val_k_factor\"] = 2\n",
    "standalone_parameters[\"test_k_factor\"] = 2\n",
    "\n",
    "\n",
    "standalone_parameters[\"n_epoch\"] = 50\n",
    "\n",
    "standalone_parameters[\"patience\"] = 10\n",
    "standalone_parameters[\"criteria_for_best\"] = \"source_loss\"\n",
    "\n",
    "standalone_parameters[\"datasets\"] = [\n",
    "    {\n",
    "        \"labels\": ALL_SERIAL_NUMBERS,\n",
    "        \"domains\": ALL_DISTANCES_FEET_NARROWED,\n",
    "        \"num_examples_per_domain_per_label\": 100,\n",
    "        \"pickle_path\": os.path.join(get_datasets_base_path(), \"oracle.Run1_framed_2000Examples_stratified_ds.2022A.pkl\"),\n",
    "        \"source_or_target_dataset\": \"source\",\n",
    "        \"x_transforms\": [\"unit_mag\", \"minus_two\"],\n",
    "        \"episode_transforms\": [],\n",
    "        \"domain_prefix\": \"ORACLE_\"\n",
    "    },\n",
    "    {\n",
    "        \"labels\": ALL_NODES,\n",
    "        \"domains\": ALL_DAYS,\n",
    "        \"num_examples_per_domain_per_label\": 100,\n",
    "        \"pickle_path\": os.path.join(get_datasets_base_path(), \"cores.stratified_ds.2022A.pkl\"),\n",
    "        \"source_or_target_dataset\": \"target\",\n",
    "        \"x_transforms\": [\"unit_power\", \"times_zero\"],\n",
    "        \"episode_transforms\": [],\n",
    "        \"domain_prefix\": \"CORES_\"\n",
    "    }   \n",
    "]\n",
    "\n",
    "standalone_parameters[\"torch_default_dtype\"] = \"torch.float32\" \n",
    "\n",
    "\n",
    "\n",
    "standalone_parameters[\"x_net\"] =     [\n",
    "    {\"class\": \"nnReshape\", \"kargs\": {\"shape\":[-1, 1, 2, 256]}},\n",
    "    {\"class\": \"Conv2d\", \"kargs\": { \"in_channels\":1, \"out_channels\":256, \"kernel_size\":(1,7), \"bias\":False, \"padding\":(0,3), },},\n",
    "    {\"class\": \"ReLU\", \"kargs\": {\"inplace\": True}},\n",
    "    {\"class\": \"BatchNorm2d\", \"kargs\": {\"num_features\":256}},\n",
    "\n",
    "    {\"class\": \"Conv2d\", \"kargs\": { \"in_channels\":256, \"out_channels\":80, \"kernel_size\":(2,7), \"bias\":True, \"padding\":(0,3), },},\n",
    "    {\"class\": \"ReLU\", \"kargs\": {\"inplace\": True}},\n",
    "    {\"class\": \"BatchNorm2d\", \"kargs\": {\"num_features\":80}},\n",
    "    {\"class\": \"Flatten\", \"kargs\": {}},\n",
    "\n",
    "    {\"class\": \"Linear\", \"kargs\": {\"in_features\": 80*256, \"out_features\": 256}}, # 80 units per IQ pair\n",
    "    {\"class\": \"ReLU\", \"kargs\": {\"inplace\": True}},\n",
    "    {\"class\": \"BatchNorm1d\", \"kargs\": {\"num_features\":256}},\n",
    "\n",
    "    {\"class\": \"Linear\", \"kargs\": {\"in_features\": 256, \"out_features\": 256}},\n",
    "]\n",
    "\n",
    "# Parameters relevant to results\n",
    "# These parameters will basically never need to change\n",
    "standalone_parameters[\"NUM_LOGS_PER_EPOCH\"] = 10\n",
    "standalone_parameters[\"BEST_MODEL_PATH\"] = \"./best_model.pth\"\n",
    "\n",
    "\n",
    "\n",
    "\n"
   ]
  },
  {
   "cell_type": "code",
   "execution_count": 4,
   "id": "c731e02d",
   "metadata": {
    "execution": {
     "iopub.execute_input": "2022-03-25T18:03:43.456339Z",
     "iopub.status.busy": "2022-03-25T18:03:43.448339Z",
     "iopub.status.idle": "2022-03-25T18:03:43.471064Z",
     "shell.execute_reply": "2022-03-25T18:03:43.471395Z"
    },
    "papermill": {
     "duration": 0.037931,
     "end_time": "2022-03-25T18:03:43.471502",
     "exception": false,
     "start_time": "2022-03-25T18:03:43.433571",
     "status": "completed"
    },
    "tags": [
     "injected-parameters"
    ]
   },
   "outputs": [],
   "source": [
    "# Parameters\n",
    "parameters = {\n",
    "    \"experiment_name\": \"tl_3-filterv2:cores -> oracle.run1.framed\",\n",
    "    \"device\": \"cuda\",\n",
    "    \"lr\": 0.0001,\n",
    "    \"x_shape\": [2, 200],\n",
    "    \"n_shot\": 3,\n",
    "    \"n_query\": 2,\n",
    "    \"train_k_factor\": 3,\n",
    "    \"val_k_factor\": 2,\n",
    "    \"test_k_factor\": 2,\n",
    "    \"torch_default_dtype\": \"torch.float32\",\n",
    "    \"n_epoch\": 50,\n",
    "    \"patience\": 3,\n",
    "    \"criteria_for_best\": \"target_accuracy\",\n",
    "    \"x_net\": [\n",
    "        {\"class\": \"nnReshape\", \"kargs\": {\"shape\": [-1, 1, 2, 200]}},\n",
    "        {\n",
    "            \"class\": \"Conv2d\",\n",
    "            \"kargs\": {\n",
    "                \"in_channels\": 1,\n",
    "                \"out_channels\": 256,\n",
    "                \"kernel_size\": [1, 7],\n",
    "                \"bias\": False,\n",
    "                \"padding\": [0, 3],\n",
    "            },\n",
    "        },\n",
    "        {\"class\": \"ReLU\", \"kargs\": {\"inplace\": True}},\n",
    "        {\"class\": \"BatchNorm2d\", \"kargs\": {\"num_features\": 256}},\n",
    "        {\n",
    "            \"class\": \"Conv2d\",\n",
    "            \"kargs\": {\n",
    "                \"in_channels\": 256,\n",
    "                \"out_channels\": 80,\n",
    "                \"kernel_size\": [2, 7],\n",
    "                \"bias\": True,\n",
    "                \"padding\": [0, 3],\n",
    "            },\n",
    "        },\n",
    "        {\"class\": \"ReLU\", \"kargs\": {\"inplace\": True}},\n",
    "        {\"class\": \"BatchNorm2d\", \"kargs\": {\"num_features\": 80}},\n",
    "        {\"class\": \"Flatten\", \"kargs\": {}},\n",
    "        {\"class\": \"Linear\", \"kargs\": {\"in_features\": 16000, \"out_features\": 256}},\n",
    "        {\"class\": \"ReLU\", \"kargs\": {\"inplace\": True}},\n",
    "        {\"class\": \"BatchNorm1d\", \"kargs\": {\"num_features\": 256}},\n",
    "        {\"class\": \"Linear\", \"kargs\": {\"in_features\": 256, \"out_features\": 256}},\n",
    "    ],\n",
    "    \"NUM_LOGS_PER_EPOCH\": 10,\n",
    "    \"BEST_MODEL_PATH\": \"./best_model.pth\",\n",
    "    \"n_way\": 16,\n",
    "    \"datasets\": [\n",
    "        {\n",
    "            \"labels\": [\n",
    "                \"1-10.\",\n",
    "                \"1-11.\",\n",
    "                \"1-15.\",\n",
    "                \"1-16.\",\n",
    "                \"1-17.\",\n",
    "                \"1-18.\",\n",
    "                \"1-19.\",\n",
    "                \"10-4.\",\n",
    "                \"10-7.\",\n",
    "                \"11-1.\",\n",
    "                \"11-14.\",\n",
    "                \"11-17.\",\n",
    "                \"11-20.\",\n",
    "                \"11-7.\",\n",
    "                \"13-20.\",\n",
    "                \"13-8.\",\n",
    "                \"14-10.\",\n",
    "                \"14-11.\",\n",
    "                \"14-14.\",\n",
    "                \"14-7.\",\n",
    "                \"15-1.\",\n",
    "                \"15-20.\",\n",
    "                \"16-1.\",\n",
    "                \"16-16.\",\n",
    "                \"17-10.\",\n",
    "                \"17-11.\",\n",
    "                \"17-2.\",\n",
    "                \"19-1.\",\n",
    "                \"19-16.\",\n",
    "                \"19-19.\",\n",
    "                \"19-20.\",\n",
    "                \"19-3.\",\n",
    "                \"2-10.\",\n",
    "                \"2-11.\",\n",
    "                \"2-17.\",\n",
    "                \"2-18.\",\n",
    "                \"2-20.\",\n",
    "                \"2-3.\",\n",
    "                \"2-4.\",\n",
    "                \"2-5.\",\n",
    "                \"2-6.\",\n",
    "                \"2-7.\",\n",
    "                \"2-8.\",\n",
    "                \"3-13.\",\n",
    "                \"3-18.\",\n",
    "                \"3-3.\",\n",
    "                \"4-1.\",\n",
    "                \"4-10.\",\n",
    "                \"4-11.\",\n",
    "                \"4-19.\",\n",
    "                \"5-5.\",\n",
    "                \"6-15.\",\n",
    "                \"7-10.\",\n",
    "                \"7-14.\",\n",
    "                \"8-18.\",\n",
    "                \"8-20.\",\n",
    "                \"8-3.\",\n",
    "                \"8-8.\",\n",
    "            ],\n",
    "            \"domains\": [1, 2, 3, 4, 5],\n",
    "            \"num_examples_per_domain_per_label\": -1,\n",
    "            \"pickle_path\": \"/mnt/wd500GB/CSC500/csc500-main/datasets/cores.stratified_ds.2022A.pkl\",\n",
    "            \"source_or_target_dataset\": \"source\",\n",
    "            \"x_transforms\": [\"unit_power\", \"lowpass_+/-10MHz\", \"take_200\"],\n",
    "            \"episode_transforms\": [],\n",
    "            \"domain_prefix\": \"C_\",\n",
    "        },\n",
    "        {\n",
    "            \"labels\": [\n",
    "                \"3123D52\",\n",
    "                \"3123D65\",\n",
    "                \"3123D79\",\n",
    "                \"3123D80\",\n",
    "                \"3123D54\",\n",
    "                \"3123D70\",\n",
    "                \"3123D7B\",\n",
    "                \"3123D89\",\n",
    "                \"3123D58\",\n",
    "                \"3123D76\",\n",
    "                \"3123D7D\",\n",
    "                \"3123EFE\",\n",
    "                \"3123D64\",\n",
    "                \"3123D78\",\n",
    "                \"3123D7E\",\n",
    "                \"3124E4A\",\n",
    "            ],\n",
    "            \"domains\": [32, 38, 8, 44, 14, 50, 20, 26],\n",
    "            \"num_examples_per_domain_per_label\": 2000,\n",
    "            \"pickle_path\": \"/mnt/wd500GB/CSC500/csc500-main/datasets/oracle.Run1_framed_2000Examples_stratified_ds.2022A.pkl\",\n",
    "            \"source_or_target_dataset\": \"target\",\n",
    "            \"x_transforms\": [\"unit_power\", \"take_200\", \"resample_20Msps_to_25Msps\"],\n",
    "            \"episode_transforms\": [],\n",
    "            \"domain_prefix\": \"O_\",\n",
    "        },\n",
    "    ],\n",
    "    \"seed\": 7,\n",
    "    \"dataset_seed\": 7,\n",
    "}\n"
   ]
  },
  {
   "cell_type": "code",
   "execution_count": 5,
   "id": "8fa1cc33",
   "metadata": {
    "execution": {
     "iopub.execute_input": "2022-03-25T18:03:43.508678Z",
     "iopub.status.busy": "2022-03-25T18:03:43.508272Z",
     "iopub.status.idle": "2022-03-25T18:03:43.523227Z",
     "shell.execute_reply": "2022-03-25T18:03:43.522739Z"
    },
    "papermill": {
     "duration": 0.032491,
     "end_time": "2022-03-25T18:03:43.523338",
     "exception": false,
     "start_time": "2022-03-25T18:03:43.490847",
     "status": "completed"
    },
    "tags": []
   },
   "outputs": [],
   "source": [
    "# Set this to True if you want to run this template directly\n",
    "STANDALONE = False\n",
    "if STANDALONE:\n",
    "    print(\"parameters not injected, running with standalone_parameters\")\n",
    "    parameters = standalone_parameters\n",
    "\n",
    "if not 'parameters' in locals() and not 'parameters' in globals():\n",
    "    raise Exception(\"Parameter injection failed\")\n",
    "\n",
    "#Use an easy dict for all the parameters\n",
    "p = EasyDict(parameters)\n",
    "\n",
    "if \"x_shape\" not in p:\n",
    "    p.x_shape = [2,256] # Default to this if we dont supply x_shape\n",
    "\n",
    "\n",
    "supplied_keys = set(p.keys())\n",
    "\n",
    "if  supplied_keys != required_parameters:\n",
    "    print(\"Parameters are incorrect\")\n",
    "    if len(supplied_keys - required_parameters)>0: print(\"Shouldn't have:\", str(supplied_keys - required_parameters))\n",
    "    if len(required_parameters - supplied_keys)>0: print(\"Need to have:\", str(required_parameters - supplied_keys))\n",
    "    raise RuntimeError(\"Parameters are incorrect\")"
   ]
  },
  {
   "cell_type": "code",
   "execution_count": 6,
   "id": "3a028d58",
   "metadata": {
    "execution": {
     "iopub.execute_input": "2022-03-25T18:03:43.558030Z",
     "iopub.status.busy": "2022-03-25T18:03:43.557756Z",
     "iopub.status.idle": "2022-03-25T18:03:43.572734Z",
     "shell.execute_reply": "2022-03-25T18:03:43.572304Z"
    },
    "papermill": {
     "duration": 0.030536,
     "end_time": "2022-03-25T18:03:43.572837",
     "exception": false,
     "start_time": "2022-03-25T18:03:43.542301",
     "status": "completed"
    },
    "tags": []
   },
   "outputs": [],
   "source": [
    "###################################\n",
    "# Set the RNGs and make it all deterministic\n",
    "###################################\n",
    "np.random.seed(p.seed)\n",
    "random.seed(p.seed)\n",
    "torch.manual_seed(p.seed)\n",
    "\n",
    "torch.use_deterministic_algorithms(True) "
   ]
  },
  {
   "cell_type": "code",
   "execution_count": 7,
   "id": "b691acf6",
   "metadata": {
    "execution": {
     "iopub.execute_input": "2022-03-25T18:03:43.608245Z",
     "iopub.status.busy": "2022-03-25T18:03:43.607980Z",
     "iopub.status.idle": "2022-03-25T18:03:43.623897Z",
     "shell.execute_reply": "2022-03-25T18:03:43.624307Z"
    },
    "papermill": {
     "duration": 0.033213,
     "end_time": "2022-03-25T18:03:43.624432",
     "exception": false,
     "start_time": "2022-03-25T18:03:43.591219",
     "status": "completed"
    },
    "tags": []
   },
   "outputs": [],
   "source": [
    "###########################################\n",
    "# The stratified datasets honor this\n",
    "###########################################\n",
    "torch.set_default_dtype(eval(p.torch_default_dtype))"
   ]
  },
  {
   "cell_type": "code",
   "execution_count": 8,
   "id": "b5fba671",
   "metadata": {
    "execution": {
     "iopub.execute_input": "2022-03-25T18:03:43.659989Z",
     "iopub.status.busy": "2022-03-25T18:03:43.659724Z",
     "iopub.status.idle": "2022-03-25T18:03:43.695514Z",
     "shell.execute_reply": "2022-03-25T18:03:43.695058Z"
    },
    "papermill": {
     "duration": 0.052802,
     "end_time": "2022-03-25T18:03:43.695635",
     "exception": false,
     "start_time": "2022-03-25T18:03:43.642833",
     "status": "completed"
    },
    "tags": []
   },
   "outputs": [],
   "source": [
    "###################################\n",
    "# Build the network(s)\n",
    "# Note: It's critical to do this AFTER setting the RNG\n",
    "###################################\n",
    "x_net = build_sequential(p.x_net)"
   ]
  },
  {
   "cell_type": "code",
   "execution_count": 9,
   "id": "5d7e61cc",
   "metadata": {
    "execution": {
     "iopub.execute_input": "2022-03-25T18:03:43.730539Z",
     "iopub.status.busy": "2022-03-25T18:03:43.730285Z",
     "iopub.status.idle": "2022-03-25T18:03:43.745786Z",
     "shell.execute_reply": "2022-03-25T18:03:43.745319Z"
    },
    "papermill": {
     "duration": 0.031013,
     "end_time": "2022-03-25T18:03:43.745897",
     "exception": false,
     "start_time": "2022-03-25T18:03:43.714884",
     "status": "completed"
    },
    "tags": []
   },
   "outputs": [],
   "source": [
    "start_time_secs = time.time()"
   ]
  },
  {
   "cell_type": "code",
   "execution_count": 10,
   "id": "c6b67dfd",
   "metadata": {
    "execution": {
     "iopub.execute_input": "2022-03-25T18:03:43.779527Z",
     "iopub.status.busy": "2022-03-25T18:03:43.779265Z",
     "iopub.status.idle": "2022-03-25T18:03:43.793084Z",
     "shell.execute_reply": "2022-03-25T18:03:43.793294Z"
    },
    "papermill": {
     "duration": 0.029945,
     "end_time": "2022-03-25T18:03:43.793366",
     "exception": false,
     "start_time": "2022-03-25T18:03:43.763421",
     "status": "completed"
    },
    "tags": []
   },
   "outputs": [],
   "source": [
    "p.domains_source = []\n",
    "p.domains_target = []\n",
    "\n",
    "\n",
    "train_original_source = []\n",
    "val_original_source   = []\n",
    "test_original_source  = []\n",
    "\n",
    "train_original_target = []\n",
    "val_original_target   = []\n",
    "test_original_target  = []"
   ]
  },
  {
   "cell_type": "code",
   "execution_count": 11,
   "id": "e3d9c3d3",
   "metadata": {
    "execution": {
     "iopub.execute_input": "2022-03-25T18:03:43.822207Z",
     "iopub.status.busy": "2022-03-25T18:03:43.821926Z",
     "iopub.status.idle": "2022-03-25T18:03:43.836486Z",
     "shell.execute_reply": "2022-03-25T18:03:43.836252Z"
    },
    "papermill": {
     "duration": 0.029641,
     "end_time": "2022-03-25T18:03:43.836545",
     "exception": false,
     "start_time": "2022-03-25T18:03:43.806904",
     "status": "completed"
    },
    "tags": []
   },
   "outputs": [],
   "source": [
    "# global_x_transform_func = lambda x: normalize(x.to(torch.get_default_dtype()), \"unit_power\") # unit_power, unit_mag\n",
    "# global_x_transform_func = lambda x: normalize(x, \"unit_power\") # unit_power, unit_mag"
   ]
  },
  {
   "cell_type": "code",
   "execution_count": 12,
   "id": "acb78fd2",
   "metadata": {
    "execution": {
     "iopub.execute_input": "2022-03-25T18:03:43.869234Z",
     "iopub.status.busy": "2022-03-25T18:03:43.868963Z",
     "iopub.status.idle": "2022-03-25T18:03:43.883527Z",
     "shell.execute_reply": "2022-03-25T18:03:43.883879Z"
    },
    "papermill": {
     "duration": 0.033975,
     "end_time": "2022-03-25T18:03:43.883998",
     "exception": false,
     "start_time": "2022-03-25T18:03:43.850023",
     "status": "completed"
    },
    "tags": []
   },
   "outputs": [],
   "source": [
    "def add_dataset(\n",
    "    labels,\n",
    "    domains,\n",
    "    pickle_path,\n",
    "    x_transforms,\n",
    "    episode_transforms,\n",
    "    domain_prefix,\n",
    "    num_examples_per_domain_per_label,\n",
    "    source_or_target_dataset:str,\n",
    "    iterator_seed=p.seed,\n",
    "    dataset_seed=p.dataset_seed,\n",
    "    n_shot=p.n_shot,\n",
    "    n_way=p.n_way,\n",
    "    n_query=p.n_query,\n",
    "    train_val_test_k_factors=(p.train_k_factor,p.val_k_factor,p.test_k_factor),\n",
    "):\n",
    "   \n",
    "    if x_transforms == []: x_transform = None\n",
    "    else: x_transform = get_chained_transform(x_transforms)\n",
    "    \n",
    "    if episode_transforms == []: episode_transform = None\n",
    "    else: raise Exception(\"episode_transforms not implemented\")\n",
    "    \n",
    "    episode_transform = lambda tup, _prefix=domain_prefix: (_prefix + str(tup[0]), tup[1])\n",
    "\n",
    "\n",
    "    eaf = Episodic_Accessor_Factory(\n",
    "        labels=labels,\n",
    "        domains=domains,\n",
    "        num_examples_per_domain_per_label=num_examples_per_domain_per_label,\n",
    "        iterator_seed=iterator_seed,\n",
    "        dataset_seed=dataset_seed,\n",
    "        n_shot=n_shot,\n",
    "        n_way=n_way,\n",
    "        n_query=n_query,\n",
    "        train_val_test_k_factors=train_val_test_k_factors,\n",
    "        pickle_path=pickle_path,\n",
    "        x_transform_func=x_transform,\n",
    "    )\n",
    "\n",
    "    train, val, test = eaf.get_train(), eaf.get_val(), eaf.get_test()\n",
    "    train = Lazy_Iterable_Wrapper(train, episode_transform)\n",
    "    val = Lazy_Iterable_Wrapper(val, episode_transform)\n",
    "    test = Lazy_Iterable_Wrapper(test, episode_transform)\n",
    "\n",
    "    if source_or_target_dataset==\"source\":\n",
    "        train_original_source.append(train)\n",
    "        val_original_source.append(val)\n",
    "        test_original_source.append(test)\n",
    "\n",
    "        p.domains_source.extend(\n",
    "            [domain_prefix + str(u) for u in domains]\n",
    "        )\n",
    "    elif source_or_target_dataset==\"target\":\n",
    "        train_original_target.append(train)\n",
    "        val_original_target.append(val)\n",
    "        test_original_target.append(test)\n",
    "        p.domains_target.extend(\n",
    "            [domain_prefix + str(u) for u in domains]\n",
    "        )\n",
    "    else:\n",
    "        raise Exception(f\"invalid source_or_target_dataset: {source_or_target_dataset}\")\n",
    "    "
   ]
  },
  {
   "cell_type": "code",
   "execution_count": 13,
   "id": "fe266617",
   "metadata": {
    "execution": {
     "iopub.execute_input": "2022-03-25T18:03:43.917840Z",
     "iopub.status.busy": "2022-03-25T18:03:43.917589Z",
     "iopub.status.idle": "2022-03-25T18:04:37.145099Z",
     "shell.execute_reply": "2022-03-25T18:04:37.144664Z"
    },
    "papermill": {
     "duration": 53.242482,
     "end_time": "2022-03-25T18:04:37.145211",
     "exception": false,
     "start_time": "2022-03-25T18:03:43.902729",
     "status": "completed"
    },
    "tags": []
   },
   "outputs": [],
   "source": [
    "for ds in p.datasets:\n",
    "    add_dataset(**ds)"
   ]
  },
  {
   "cell_type": "code",
   "execution_count": 14,
   "id": "b90d65ac",
   "metadata": {
    "execution": {
     "iopub.execute_input": "2022-03-25T18:04:37.182459Z",
     "iopub.status.busy": "2022-03-25T18:04:37.179773Z",
     "iopub.status.idle": "2022-03-25T18:04:37.192952Z",
     "shell.execute_reply": "2022-03-25T18:04:37.192458Z"
    },
    "papermill": {
     "duration": 0.029296,
     "end_time": "2022-03-25T18:04:37.193056",
     "exception": false,
     "start_time": "2022-03-25T18:04:37.163760",
     "status": "completed"
    },
    "tags": []
   },
   "outputs": [],
   "source": [
    "# from steves_utils.CORES.utils import (\n",
    "#     ALL_NODES,\n",
    "#     ALL_NODES_MINIMUM_1000_EXAMPLES,\n",
    "#     ALL_DAYS\n",
    "# )\n",
    "\n",
    "# add_dataset(\n",
    "#     labels=ALL_NODES,\n",
    "#     domains = ALL_DAYS,\n",
    "#     num_examples_per_domain_per_label=100,\n",
    "#     pickle_path=os.path.join(get_datasets_base_path(), \"cores.stratified_ds.2022A.pkl\"),\n",
    "#     source_or_target_dataset=\"target\",\n",
    "#     x_transform_func=global_x_transform_func,\n",
    "#     domain_modifier=lambda u: f\"cores_{u}\"\n",
    "# )"
   ]
  },
  {
   "cell_type": "code",
   "execution_count": 15,
   "id": "76db484d",
   "metadata": {
    "execution": {
     "iopub.execute_input": "2022-03-25T18:04:37.226736Z",
     "iopub.status.busy": "2022-03-25T18:04:37.226327Z",
     "iopub.status.idle": "2022-03-25T18:04:37.237335Z",
     "shell.execute_reply": "2022-03-25T18:04:37.237080Z"
    },
    "papermill": {
     "duration": 0.026103,
     "end_time": "2022-03-25T18:04:37.237391",
     "exception": false,
     "start_time": "2022-03-25T18:04:37.211288",
     "status": "completed"
    },
    "tags": []
   },
   "outputs": [],
   "source": [
    "# from steves_utils.ORACLE.utils_v2 import (\n",
    "#     ALL_DISTANCES_FEET,\n",
    "#     ALL_RUNS,\n",
    "#     ALL_SERIAL_NUMBERS,\n",
    "# )\n",
    "\n",
    "\n",
    "# add_dataset(\n",
    "#     labels=ALL_SERIAL_NUMBERS,\n",
    "#     domains = list(set(ALL_DISTANCES_FEET) - {2,62}),\n",
    "#     num_examples_per_domain_per_label=100,\n",
    "#     pickle_path=os.path.join(get_datasets_base_path(), \"oracle.Run2_framed_2000Examples_stratified_ds.2022A.pkl\"),\n",
    "#     source_or_target_dataset=\"source\",\n",
    "#     x_transform_func=global_x_transform_func,\n",
    "#     domain_modifier=lambda u: f\"oracle1_{u}\"\n",
    "# )\n"
   ]
  },
  {
   "cell_type": "code",
   "execution_count": 16,
   "id": "97dea9d2",
   "metadata": {
    "execution": {
     "iopub.execute_input": "2022-03-25T18:04:37.269851Z",
     "iopub.status.busy": "2022-03-25T18:04:37.269592Z",
     "iopub.status.idle": "2022-03-25T18:04:37.280575Z",
     "shell.execute_reply": "2022-03-25T18:04:37.280204Z"
    },
    "papermill": {
     "duration": 0.026338,
     "end_time": "2022-03-25T18:04:37.280653",
     "exception": false,
     "start_time": "2022-03-25T18:04:37.254315",
     "status": "completed"
    },
    "tags": []
   },
   "outputs": [],
   "source": [
    "# from steves_utils.ORACLE.utils_v2 import (\n",
    "#     ALL_DISTANCES_FEET,\n",
    "#     ALL_RUNS,\n",
    "#     ALL_SERIAL_NUMBERS,\n",
    "# )\n",
    "\n",
    "\n",
    "# add_dataset(\n",
    "#     labels=ALL_SERIAL_NUMBERS,\n",
    "#     domains = list(set(ALL_DISTANCES_FEET) - {2,62,56}),\n",
    "#     num_examples_per_domain_per_label=100,\n",
    "#     pickle_path=os.path.join(get_datasets_base_path(), \"oracle.Run2_framed_2000Examples_stratified_ds.2022A.pkl\"),\n",
    "#     source_or_target_dataset=\"source\",\n",
    "#     x_transform_func=global_x_transform_func,\n",
    "#     domain_modifier=lambda u: f\"oracle2_{u}\"\n",
    "# )"
   ]
  },
  {
   "cell_type": "code",
   "execution_count": 17,
   "id": "6f289866",
   "metadata": {
    "execution": {
     "iopub.execute_input": "2022-03-25T18:04:37.313593Z",
     "iopub.status.busy": "2022-03-25T18:04:37.313340Z",
     "iopub.status.idle": "2022-03-25T18:04:37.324613Z",
     "shell.execute_reply": "2022-03-25T18:04:37.324237Z"
    },
    "papermill": {
     "duration": 0.026618,
     "end_time": "2022-03-25T18:04:37.324692",
     "exception": false,
     "start_time": "2022-03-25T18:04:37.298074",
     "status": "completed"
    },
    "tags": []
   },
   "outputs": [],
   "source": [
    "# add_dataset(\n",
    "#     labels=list(range(19)),\n",
    "#     domains = [0,1,2],\n",
    "#     num_examples_per_domain_per_label=100,\n",
    "#     pickle_path=os.path.join(get_datasets_base_path(), \"metehan.stratified_ds.2022A.pkl\"),\n",
    "#     source_or_target_dataset=\"target\",\n",
    "#     x_transform_func=global_x_transform_func,\n",
    "#     domain_modifier=lambda u: f\"met_{u}\"\n",
    "# )"
   ]
  },
  {
   "cell_type": "code",
   "execution_count": 18,
   "id": "86a863c3",
   "metadata": {
    "execution": {
     "iopub.execute_input": "2022-03-25T18:04:37.359196Z",
     "iopub.status.busy": "2022-03-25T18:04:37.358911Z",
     "iopub.status.idle": "2022-03-25T18:04:37.371911Z",
     "shell.execute_reply": "2022-03-25T18:04:37.372318Z"
    },
    "papermill": {
     "duration": 0.028925,
     "end_time": "2022-03-25T18:04:37.372440",
     "exception": false,
     "start_time": "2022-03-25T18:04:37.343515",
     "status": "completed"
    },
    "tags": []
   },
   "outputs": [],
   "source": [
    "# # from steves_utils.wisig.utils import (\n",
    "# #     ALL_NODES_MINIMUM_100_EXAMPLES,\n",
    "# #     ALL_NODES_MINIMUM_500_EXAMPLES,\n",
    "# #     ALL_NODES_MINIMUM_1000_EXAMPLES,\n",
    "# #     ALL_DAYS\n",
    "# # )\n",
    "\n",
    "# import steves_utils.wisig.utils as wisig\n",
    "\n",
    "\n",
    "# add_dataset(\n",
    "#     labels=wisig.ALL_NODES_MINIMUM_100_EXAMPLES,\n",
    "#     domains = wisig.ALL_DAYS,\n",
    "#     num_examples_per_domain_per_label=100,\n",
    "#     pickle_path=os.path.join(get_datasets_base_path(), \"wisig.node3-19.stratified_ds.2022A.pkl\"),\n",
    "#     source_or_target_dataset=\"target\",\n",
    "#     x_transform_func=global_x_transform_func,\n",
    "#     domain_modifier=lambda u: f\"wisig_{u}\"\n",
    "# )"
   ]
  },
  {
   "cell_type": "code",
   "execution_count": 19,
   "id": "fd5442bc",
   "metadata": {
    "execution": {
     "iopub.execute_input": "2022-03-25T18:04:37.410282Z",
     "iopub.status.busy": "2022-03-25T18:04:37.406532Z",
     "iopub.status.idle": "2022-03-25T18:04:37.426523Z",
     "shell.execute_reply": "2022-03-25T18:04:37.426090Z"
    },
    "papermill": {
     "duration": 0.035186,
     "end_time": "2022-03-25T18:04:37.426627",
     "exception": false,
     "start_time": "2022-03-25T18:04:37.391441",
     "status": "completed"
    },
    "tags": []
   },
   "outputs": [],
   "source": [
    "###################################\n",
    "# Build the dataset\n",
    "###################################\n",
    "train_original_source = Iterable_Aggregator(train_original_source, p.seed)\n",
    "val_original_source = Iterable_Aggregator(val_original_source, p.seed)\n",
    "test_original_source = Iterable_Aggregator(test_original_source, p.seed)\n",
    "\n",
    "\n",
    "train_original_target = Iterable_Aggregator(train_original_target, p.seed)\n",
    "val_original_target = Iterable_Aggregator(val_original_target, p.seed)\n",
    "test_original_target = Iterable_Aggregator(test_original_target, p.seed)\n",
    "\n",
    "# For CNN We only use X and Y. And we only train on the source.\n",
    "# Properly form the data using a transform lambda and Lazy_Iterable_Wrapper. Finally wrap them in a dataloader\n",
    "\n",
    "transform_lambda = lambda ex: ex[1] # Original is (<domain>, <episode>) so we strip down to episode only\n",
    "\n",
    "train_processed_source = Lazy_Iterable_Wrapper(train_original_source, transform_lambda)\n",
    "val_processed_source   = Lazy_Iterable_Wrapper(val_original_source, transform_lambda)\n",
    "test_processed_source  = Lazy_Iterable_Wrapper(test_original_source, transform_lambda)\n",
    "\n",
    "train_processed_target = Lazy_Iterable_Wrapper(train_original_target, transform_lambda)\n",
    "val_processed_target   = Lazy_Iterable_Wrapper(val_original_target, transform_lambda)\n",
    "test_processed_target  = Lazy_Iterable_Wrapper(test_original_target, transform_lambda)\n",
    "\n",
    "datasets = EasyDict({\n",
    "    \"source\": {\n",
    "        \"original\": {\"train\":train_original_source, \"val\":val_original_source, \"test\":test_original_source},\n",
    "        \"processed\": {\"train\":train_processed_source, \"val\":val_processed_source, \"test\":test_processed_source}\n",
    "    },\n",
    "    \"target\": {\n",
    "        \"original\": {\"train\":train_original_target, \"val\":val_original_target, \"test\":test_original_target},\n",
    "        \"processed\": {\"train\":train_processed_target, \"val\":val_processed_target, \"test\":test_processed_target}\n",
    "    },\n",
    "})"
   ]
  },
  {
   "cell_type": "code",
   "execution_count": 20,
   "id": "5b3c01fc",
   "metadata": {
    "execution": {
     "iopub.execute_input": "2022-03-25T18:04:37.465111Z",
     "iopub.status.busy": "2022-03-25T18:04:37.464856Z",
     "iopub.status.idle": "2022-03-25T18:04:44.448941Z",
     "shell.execute_reply": "2022-03-25T18:04:44.448599Z"
    },
    "papermill": {
     "duration": 7.002202,
     "end_time": "2022-03-25T18:04:44.449030",
     "exception": false,
     "start_time": "2022-03-25T18:04:37.446828",
     "status": "completed"
    },
    "tags": []
   },
   "outputs": [
    {
     "name": "stdout",
     "output_type": "stream",
     "text": [
      "{'C_5', 'C_1', 'C_2', 'C_3', 'C_4'}\n"
     ]
    },
    {
     "name": "stdout",
     "output_type": "stream",
     "text": [
      "{'O_20', 'O_14', 'O_50', 'O_32', 'O_44', 'O_38', 'O_26', 'O_8'}\n"
     ]
    },
    {
     "name": "stdout",
     "output_type": "stream",
     "text": [
      "tensor([[[ 2.4656e-03,  1.3909e-02,  3.6673e-02,  ...,  1.3466e+00,\n",
      "           6.3900e-01, -3.0305e-01],\n",
      "         [ 1.7197e-02,  7.8388e-02,  9.1867e-03,  ..., -3.0372e-01,\n",
      "           9.1183e-02,  1.0275e+00]],\n",
      "\n",
      "        [[ 2.6910e-03,  1.5128e-02, -7.9552e-03,  ..., -6.2706e-01,\n",
      "          -1.1215e+00,  4.3260e-01],\n",
      "         [-1.6254e-02, -9.9345e-02, -1.7990e-01,  ..., -1.0058e+00,\n",
      "          -4.4024e-01, -6.9654e-01]],\n",
      "\n",
      "        [[-6.6062e-03, -5.6075e-02, -1.5117e-01,  ..., -7.5278e-01,\n",
      "           6.8325e-01, -6.2820e-02],\n",
      "         [ 8.7923e-03,  6.1306e-02,  1.5698e-01,  ...,  7.6305e-01,\n",
      "           1.2383e+00,  5.9966e-01]],\n",
      "\n",
      "        ...,\n",
      "\n",
      "        [[-1.4499e-02, -9.3116e-02, -1.7930e-01,  ..., -1.3599e+00,\n",
      "          -4.1717e-01,  2.4535e-01],\n",
      "         [-2.2654e-04, -3.3190e-02, -2.0051e-01,  ...,  6.2540e-01,\n",
      "           8.5979e-01,  2.0339e-01]],\n",
      "\n",
      "        [[ 1.3775e-02,  1.0359e-01,  2.6988e-01,  ...,  4.6632e-01,\n",
      "          -3.1991e-01, -3.7457e-01],\n",
      "         [-9.8551e-03, -3.4015e-02,  5.8873e-02,  ..., -1.4192e+00,\n",
      "          -8.5798e-01,  1.4760e-01]],\n",
      "\n",
      "        [[-5.9786e-03, -4.2130e-02, -7.9561e-02,  ..., -9.8897e-01,\n",
      "          -1.3663e+00, -7.2526e-01],\n",
      "         [ 2.1845e-03, -5.7305e-03, -9.8201e-02,  ..., -1.4140e+00,\n",
      "          -3.0827e-01,  3.1153e-01]]])\n"
     ]
    }
   ],
   "source": [
    "from steves_utils.transforms import get_average_magnitude, get_average_power\n",
    "\n",
    "print(set([u for u,_ in val_original_source]))\n",
    "print(set([u for u,_ in val_original_target]))\n",
    "\n",
    "s_x, s_y, q_x, q_y, _ = next(iter(train_processed_source))\n",
    "print(s_x)\n",
    "\n",
    "# for ds in [\n",
    "#     train_processed_source,\n",
    "#     val_processed_source,\n",
    "#     test_processed_source,\n",
    "#     train_processed_target,\n",
    "#     val_processed_target,\n",
    "#     test_processed_target\n",
    "# ]:\n",
    "#     for s_x, s_y, q_x, q_y, _ in ds:\n",
    "#         for X in (s_x, q_x):\n",
    "#             for x in X:\n",
    "#                 assert np.isclose(get_average_magnitude(x.numpy()), 1.0)\n",
    "#                 assert np.isclose(get_average_power(x.numpy()), 1.0)\n",
    "                "
   ]
  },
  {
   "cell_type": "code",
   "execution_count": 21,
   "id": "bbdacba1",
   "metadata": {
    "execution": {
     "iopub.execute_input": "2022-03-25T18:04:44.489376Z",
     "iopub.status.busy": "2022-03-25T18:04:44.489104Z",
     "iopub.status.idle": "2022-03-25T18:04:44.544730Z",
     "shell.execute_reply": "2022-03-25T18:04:44.544268Z"
    },
    "papermill": {
     "duration": 0.073639,
     "end_time": "2022-03-25T18:04:44.544826",
     "exception": false,
     "start_time": "2022-03-25T18:04:44.471187",
     "status": "completed"
    },
    "tags": []
   },
   "outputs": [
    {
     "name": "stdout",
     "output_type": "stream",
     "text": [
      "(2, 200)\n"
     ]
    }
   ],
   "source": [
    "###################################\n",
    "# Build the model\n",
    "###################################\n",
    "# easfsl only wants a tuple for the shape\n",
    "model = Steves_Prototypical_Network(x_net, device=p.device, x_shape=tuple(p.x_shape))\n",
    "optimizer = Adam(params=model.parameters(), lr=p.lr)"
   ]
  },
  {
   "cell_type": "code",
   "execution_count": 22,
   "id": "22b39ac5",
   "metadata": {
    "execution": {
     "iopub.execute_input": "2022-03-25T18:04:44.582613Z",
     "iopub.status.busy": "2022-03-25T18:04:44.582350Z",
     "iopub.status.idle": "2022-03-25T19:05:36.860287Z",
     "shell.execute_reply": "2022-03-25T19:05:36.860050Z"
    },
    "papermill": {
     "duration": 3652.295633,
     "end_time": "2022-03-25T19:05:36.860349",
     "exception": false,
     "start_time": "2022-03-25T18:04:44.564716",
     "status": "completed"
    },
    "tags": []
   },
   "outputs": [
    {
     "name": "stdout",
     "output_type": "stream",
     "text": [
      "epoch: 1, [batch: 1 / 6316], examples_per_second: 46.2852, train_label_loss: 2.5767, \n"
     ]
    },
    {
     "name": "stdout",
     "output_type": "stream",
     "text": [
      "epoch: 1, [batch: 632 / 6316], examples_per_second: 1943.7446, train_label_loss: 0.0169, \n"
     ]
    },
    {
     "name": "stdout",
     "output_type": "stream",
     "text": [
      "epoch: 1, [batch: 1264 / 6316], examples_per_second: 2326.1866, train_label_loss: 0.0049, \n"
     ]
    },
    {
     "name": "stdout",
     "output_type": "stream",
     "text": [
      "epoch: 1, [batch: 1895 / 6316], examples_per_second: 2135.0294, train_label_loss: 0.0080, \n"
     ]
    },
    {
     "name": "stdout",
     "output_type": "stream",
     "text": [
      "epoch: 1, [batch: 2527 / 6316], examples_per_second: 1869.1415, train_label_loss: 0.0039, \n"
     ]
    },
    {
     "name": "stdout",
     "output_type": "stream",
     "text": [
      "epoch: 1, [batch: 3158 / 6316], examples_per_second: 1873.3498, train_label_loss: 0.1457, \n"
     ]
    },
    {
     "name": "stdout",
     "output_type": "stream",
     "text": [
      "epoch: 1, [batch: 3790 / 6316], examples_per_second: 1875.6332, train_label_loss: 0.0000, \n"
     ]
    },
    {
     "name": "stdout",
     "output_type": "stream",
     "text": [
      "epoch: 1, [batch: 4421 / 6316], examples_per_second: 1869.2685, train_label_loss: 0.0015, \n"
     ]
    },
    {
     "name": "stdout",
     "output_type": "stream",
     "text": [
      "epoch: 1, [batch: 5053 / 6316], examples_per_second: 1873.7717, train_label_loss: 0.0115, \n"
     ]
    },
    {
     "name": "stdout",
     "output_type": "stream",
     "text": [
      "epoch: 1, [batch: 5684 / 6316], examples_per_second: 1876.2763, train_label_loss: 0.0061, \n"
     ]
    },
    {
     "name": "stdout",
     "output_type": "stream",
     "text": [
      "=============================================================\n",
      "epoch: 1, source_val_acc_label: 0.9959, target_val_acc_label: 0.2856, source_val_label_loss: 0.0143, target_val_label_loss: 2.1893, \n",
      "=============================================================\n"
     ]
    },
    {
     "name": "stdout",
     "output_type": "stream",
     "text": [
      "New best\n"
     ]
    },
    {
     "name": "stdout",
     "output_type": "stream",
     "text": [
      "epoch: 2, [batch: 1 / 6296], examples_per_second: 2.8063, train_label_loss: 0.0012, \n"
     ]
    },
    {
     "name": "stdout",
     "output_type": "stream",
     "text": [
      "epoch: 2, [batch: 630 / 6296], examples_per_second: 1963.2315, train_label_loss: 0.0162, \n"
     ]
    },
    {
     "name": "stdout",
     "output_type": "stream",
     "text": [
      "epoch: 2, [batch: 1260 / 6296], examples_per_second: 2360.7166, train_label_loss: 0.0003, \n"
     ]
    },
    {
     "name": "stdout",
     "output_type": "stream",
     "text": [
      "epoch: 2, [batch: 1889 / 6296], examples_per_second: 2110.5547, train_label_loss: 0.0877, \n"
     ]
    },
    {
     "name": "stdout",
     "output_type": "stream",
     "text": [
      "epoch: 2, [batch: 2519 / 6296], examples_per_second: 1868.8345, train_label_loss: 0.0001, \n"
     ]
    },
    {
     "name": "stdout",
     "output_type": "stream",
     "text": [
      "epoch: 2, [batch: 3148 / 6296], examples_per_second: 1874.9950, train_label_loss: 0.0012, \n"
     ]
    },
    {
     "name": "stdout",
     "output_type": "stream",
     "text": [
      "epoch: 2, [batch: 3778 / 6296], examples_per_second: 1879.9860, train_label_loss: 0.0004, \n"
     ]
    },
    {
     "name": "stdout",
     "output_type": "stream",
     "text": [
      "epoch: 2, [batch: 4407 / 6296], examples_per_second: 1870.3420, train_label_loss: 0.0000, \n"
     ]
    },
    {
     "name": "stdout",
     "output_type": "stream",
     "text": [
      "epoch: 2, [batch: 5037 / 6296], examples_per_second: 1876.0984, train_label_loss: 0.0000, \n"
     ]
    },
    {
     "name": "stdout",
     "output_type": "stream",
     "text": [
      "epoch: 2, [batch: 5666 / 6296], examples_per_second: 1878.3061, train_label_loss: 0.0000, \n"
     ]
    },
    {
     "name": "stdout",
     "output_type": "stream",
     "text": [
      "=============================================================\n",
      "epoch: 2, source_val_acc_label: 0.9985, target_val_acc_label: 0.2885, source_val_label_loss: 0.0103, target_val_label_loss: 2.4681, \n",
      "=============================================================\n"
     ]
    },
    {
     "name": "stdout",
     "output_type": "stream",
     "text": [
      "New best\n"
     ]
    },
    {
     "name": "stdout",
     "output_type": "stream",
     "text": [
      "epoch: 3, [batch: 1 / 6299], examples_per_second: 2.8423, train_label_loss: 0.0002, \n"
     ]
    },
    {
     "name": "stdout",
     "output_type": "stream",
     "text": [
      "epoch: 3, [batch: 630 / 6299], examples_per_second: 1928.7697, train_label_loss: 0.0000, \n"
     ]
    },
    {
     "name": "stdout",
     "output_type": "stream",
     "text": [
      "epoch: 3, [batch: 1260 / 6299], examples_per_second: 2298.5078, train_label_loss: 0.0000, \n"
     ]
    },
    {
     "name": "stdout",
     "output_type": "stream",
     "text": [
      "epoch: 3, [batch: 1890 / 6299], examples_per_second: 2142.6146, train_label_loss: 0.0000, \n"
     ]
    },
    {
     "name": "stdout",
     "output_type": "stream",
     "text": [
      "epoch: 3, [batch: 2520 / 6299], examples_per_second: 1871.3601, train_label_loss: 0.0005, \n"
     ]
    },
    {
     "name": "stdout",
     "output_type": "stream",
     "text": [
      "epoch: 3, [batch: 3150 / 6299], examples_per_second: 1876.5218, train_label_loss: 0.2082, \n"
     ]
    },
    {
     "name": "stdout",
     "output_type": "stream",
     "text": [
      "epoch: 3, [batch: 3779 / 6299], examples_per_second: 1878.2150, train_label_loss: 0.0073, \n"
     ]
    },
    {
     "name": "stdout",
     "output_type": "stream",
     "text": [
      "epoch: 3, [batch: 4409 / 6299], examples_per_second: 1868.8219, train_label_loss: 0.0000, \n"
     ]
    },
    {
     "name": "stdout",
     "output_type": "stream",
     "text": [
      "epoch: 3, [batch: 5039 / 6299], examples_per_second: 1875.4303, train_label_loss: 0.0000, \n"
     ]
    },
    {
     "name": "stdout",
     "output_type": "stream",
     "text": [
      "epoch: 3, [batch: 5669 / 6299], examples_per_second: 1879.7894, train_label_loss: 0.0004, \n"
     ]
    },
    {
     "name": "stdout",
     "output_type": "stream",
     "text": [
      "=============================================================\n",
      "epoch: 3, source_val_acc_label: 0.9992, target_val_acc_label: 0.3034, source_val_label_loss: 0.0046, target_val_label_loss: 2.4289, \n",
      "=============================================================\n"
     ]
    },
    {
     "name": "stdout",
     "output_type": "stream",
     "text": [
      "New best\n"
     ]
    },
    {
     "name": "stdout",
     "output_type": "stream",
     "text": [
      "epoch: 4, [batch: 1 / 6316], examples_per_second: 2.8243, train_label_loss: 0.0030, \n"
     ]
    },
    {
     "name": "stdout",
     "output_type": "stream",
     "text": [
      "epoch: 4, [batch: 632 / 6316], examples_per_second: 1945.0217, train_label_loss: 0.0000, \n"
     ]
    },
    {
     "name": "stdout",
     "output_type": "stream",
     "text": [
      "epoch: 4, [batch: 1264 / 6316], examples_per_second: 2320.5559, train_label_loss: 0.0000, \n"
     ]
    },
    {
     "name": "stdout",
     "output_type": "stream",
     "text": [
      "epoch: 4, [batch: 1895 / 6316], examples_per_second: 2161.0609, train_label_loss: 0.0002, \n"
     ]
    },
    {
     "name": "stdout",
     "output_type": "stream",
     "text": [
      "epoch: 4, [batch: 2527 / 6316], examples_per_second: 1871.5736, train_label_loss: 0.0003, \n"
     ]
    },
    {
     "name": "stdout",
     "output_type": "stream",
     "text": [
      "epoch: 4, [batch: 3158 / 6316], examples_per_second: 1875.2283, train_label_loss: 0.0000, \n"
     ]
    },
    {
     "name": "stdout",
     "output_type": "stream",
     "text": [
      "epoch: 4, [batch: 3790 / 6316], examples_per_second: 1876.8864, train_label_loss: 0.0014, \n"
     ]
    },
    {
     "name": "stdout",
     "output_type": "stream",
     "text": [
      "epoch: 4, [batch: 4421 / 6316], examples_per_second: 1871.3691, train_label_loss: 0.0000, \n"
     ]
    },
    {
     "name": "stdout",
     "output_type": "stream",
     "text": [
      "epoch: 4, [batch: 5053 / 6316], examples_per_second: 1874.3988, train_label_loss: 0.0000, \n"
     ]
    },
    {
     "name": "stdout",
     "output_type": "stream",
     "text": [
      "epoch: 4, [batch: 5684 / 6316], examples_per_second: 1878.5331, train_label_loss: 0.0000, \n"
     ]
    },
    {
     "name": "stdout",
     "output_type": "stream",
     "text": [
      "=============================================================\n",
      "epoch: 4, source_val_acc_label: 0.9993, target_val_acc_label: 0.3082, source_val_label_loss: 0.0060, target_val_label_loss: 2.7250, \n",
      "=============================================================\n"
     ]
    },
    {
     "name": "stdout",
     "output_type": "stream",
     "text": [
      "New best\n"
     ]
    },
    {
     "name": "stdout",
     "output_type": "stream",
     "text": [
      "epoch: 5, [batch: 1 / 6313], examples_per_second: 2.7907, train_label_loss: 0.0000, \n"
     ]
    },
    {
     "name": "stdout",
     "output_type": "stream",
     "text": [
      "epoch: 5, [batch: 632 / 6313], examples_per_second: 1954.3495, train_label_loss: 0.0000, \n"
     ]
    },
    {
     "name": "stdout",
     "output_type": "stream",
     "text": [
      "epoch: 5, [batch: 1263 / 6313], examples_per_second: 2337.6863, train_label_loss: 0.0000, \n"
     ]
    },
    {
     "name": "stdout",
     "output_type": "stream",
     "text": [
      "epoch: 5, [batch: 1894 / 6313], examples_per_second: 2131.8903, train_label_loss: 0.0000, \n"
     ]
    },
    {
     "name": "stdout",
     "output_type": "stream",
     "text": [
      "epoch: 5, [batch: 2525 / 6313], examples_per_second: 1871.7779, train_label_loss: 0.0000, \n"
     ]
    },
    {
     "name": "stdout",
     "output_type": "stream",
     "text": [
      "epoch: 5, [batch: 3157 / 6313], examples_per_second: 1876.0069, train_label_loss: 0.0000, \n"
     ]
    },
    {
     "name": "stdout",
     "output_type": "stream",
     "text": [
      "epoch: 5, [batch: 3788 / 6313], examples_per_second: 1877.8593, train_label_loss: 0.0000, \n"
     ]
    },
    {
     "name": "stdout",
     "output_type": "stream",
     "text": [
      "epoch: 5, [batch: 4419 / 6313], examples_per_second: 1871.4415, train_label_loss: 0.0000, \n"
     ]
    },
    {
     "name": "stdout",
     "output_type": "stream",
     "text": [
      "epoch: 5, [batch: 5050 / 6313], examples_per_second: 1874.3586, train_label_loss: 0.0000, \n"
     ]
    },
    {
     "name": "stdout",
     "output_type": "stream",
     "text": [
      "epoch: 5, [batch: 5681 / 6313], examples_per_second: 1878.3203, train_label_loss: 0.0004, \n"
     ]
    },
    {
     "name": "stdout",
     "output_type": "stream",
     "text": [
      "=============================================================\n",
      "epoch: 5, source_val_acc_label: 0.9996, target_val_acc_label: 0.2693, source_val_label_loss: 0.0052, target_val_label_loss: 3.5345, \n",
      "=============================================================\n"
     ]
    },
    {
     "name": "stdout",
     "output_type": "stream",
     "text": [
      "epoch: 6, [batch: 1 / 6307], examples_per_second: 2.8103, train_label_loss: 0.0000, \n"
     ]
    },
    {
     "name": "stdout",
     "output_type": "stream",
     "text": [
      "epoch: 6, [batch: 631 / 6307], examples_per_second: 1956.4636, train_label_loss: 0.0000, \n"
     ]
    },
    {
     "name": "stdout",
     "output_type": "stream",
     "text": [
      "epoch: 6, [batch: 1262 / 6307], examples_per_second: 2345.2815, train_label_loss: 0.0000, \n"
     ]
    },
    {
     "name": "stdout",
     "output_type": "stream",
     "text": [
      "epoch: 6, [batch: 1892 / 6307], examples_per_second: 2333.8686, train_label_loss: 0.0011, \n"
     ]
    },
    {
     "name": "stdout",
     "output_type": "stream",
     "text": [
      "epoch: 6, [batch: 2523 / 6307], examples_per_second: 2346.7147, train_label_loss: 0.0000, \n"
     ]
    },
    {
     "name": "stdout",
     "output_type": "stream",
     "text": [
      "epoch: 6, [batch: 3154 / 6307], examples_per_second: 2295.5090, train_label_loss: 0.0003, \n"
     ]
    },
    {
     "name": "stdout",
     "output_type": "stream",
     "text": [
      "epoch: 6, [batch: 3784 / 6307], examples_per_second: 2248.5932, train_label_loss: 0.0000, \n"
     ]
    },
    {
     "name": "stdout",
     "output_type": "stream",
     "text": [
      "epoch: 6, [batch: 4415 / 6307], examples_per_second: 2617.3993, train_label_loss: 0.0000, \n"
     ]
    },
    {
     "name": "stdout",
     "output_type": "stream",
     "text": [
      "epoch: 6, [batch: 5045 / 6307], examples_per_second: 3610.1670, train_label_loss: 0.0000, \n"
     ]
    },
    {
     "name": "stdout",
     "output_type": "stream",
     "text": [
      "epoch: 6, [batch: 5676 / 6307], examples_per_second: 3602.5056, train_label_loss: 0.0000, \n"
     ]
    },
    {
     "name": "stdout",
     "output_type": "stream",
     "text": [
      "=============================================================\n",
      "epoch: 6, source_val_acc_label: 0.9995, target_val_acc_label: 0.3213, source_val_label_loss: 0.0054, target_val_label_loss: 2.7878, \n",
      "=============================================================\n"
     ]
    },
    {
     "name": "stdout",
     "output_type": "stream",
     "text": [
      "New best\n"
     ]
    },
    {
     "name": "stdout",
     "output_type": "stream",
     "text": [
      "epoch: 7, [batch: 1 / 6303], examples_per_second: 5.3271, train_label_loss: 0.0000, \n"
     ]
    },
    {
     "name": "stdout",
     "output_type": "stream",
     "text": [
      "epoch: 7, [batch: 631 / 6303], examples_per_second: 3586.8734, train_label_loss: 0.0000, \n"
     ]
    },
    {
     "name": "stdout",
     "output_type": "stream",
     "text": [
      "epoch: 7, [batch: 1261 / 6303], examples_per_second: 3629.4741, train_label_loss: 0.0000, \n"
     ]
    },
    {
     "name": "stdout",
     "output_type": "stream",
     "text": [
      "epoch: 7, [batch: 1891 / 6303], examples_per_second: 3644.0591, train_label_loss: 0.0000, \n"
     ]
    },
    {
     "name": "stdout",
     "output_type": "stream",
     "text": [
      "epoch: 7, [batch: 2521 / 6303], examples_per_second: 2929.4591, train_label_loss: 0.0000, \n"
     ]
    },
    {
     "name": "stdout",
     "output_type": "stream",
     "text": [
      "epoch: 7, [batch: 3152 / 6303], examples_per_second: 1869.3194, train_label_loss: 0.0000, \n"
     ]
    },
    {
     "name": "stdout",
     "output_type": "stream",
     "text": [
      "epoch: 7, [batch: 3782 / 6303], examples_per_second: 1866.2395, train_label_loss: 0.0000, \n"
     ]
    },
    {
     "name": "stdout",
     "output_type": "stream",
     "text": [
      "epoch: 7, [batch: 4412 / 6303], examples_per_second: 1863.4604, train_label_loss: 0.0000, \n"
     ]
    },
    {
     "name": "stdout",
     "output_type": "stream",
     "text": [
      "epoch: 7, [batch: 5042 / 6303], examples_per_second: 1872.5587, train_label_loss: 0.0000, \n"
     ]
    },
    {
     "name": "stdout",
     "output_type": "stream",
     "text": [
      "epoch: 7, [batch: 5672 / 6303], examples_per_second: 1868.5190, train_label_loss: 0.0000, \n"
     ]
    },
    {
     "name": "stdout",
     "output_type": "stream",
     "text": [
      "=============================================================\n",
      "epoch: 7, source_val_acc_label: 0.9992, target_val_acc_label: 0.2757, source_val_label_loss: 0.0083, target_val_label_loss: 4.5254, \n",
      "=============================================================\n"
     ]
    },
    {
     "name": "stdout",
     "output_type": "stream",
     "text": [
      "epoch: 8, [batch: 1 / 6292], examples_per_second: 2.8048, train_label_loss: 0.0000, \n"
     ]
    },
    {
     "name": "stdout",
     "output_type": "stream",
     "text": [
      "epoch: 8, [batch: 630 / 6292], examples_per_second: 1867.6332, train_label_loss: 0.0000, \n"
     ]
    },
    {
     "name": "stdout",
     "output_type": "stream",
     "text": [
      "epoch: 8, [batch: 1259 / 6292], examples_per_second: 1869.0679, train_label_loss: 0.0000, \n"
     ]
    },
    {
     "name": "stdout",
     "output_type": "stream",
     "text": [
      "epoch: 8, [batch: 1888 / 6292], examples_per_second: 2184.0562, train_label_loss: 0.0000, \n"
     ]
    },
    {
     "name": "stdout",
     "output_type": "stream",
     "text": [
      "epoch: 8, [batch: 2517 / 6292], examples_per_second: 2394.1221, train_label_loss: 0.0000, \n"
     ]
    },
    {
     "name": "stdout",
     "output_type": "stream",
     "text": [
      "epoch: 8, [batch: 3146 / 6292], examples_per_second: 1868.4010, train_label_loss: 0.0000, \n"
     ]
    },
    {
     "name": "stdout",
     "output_type": "stream",
     "text": [
      "epoch: 8, [batch: 3775 / 6292], examples_per_second: 1870.2217, train_label_loss: 0.0000, \n"
     ]
    },
    {
     "name": "stdout",
     "output_type": "stream",
     "text": [
      "epoch: 8, [batch: 4404 / 6292], examples_per_second: 1867.3300, train_label_loss: 0.0000, \n"
     ]
    },
    {
     "name": "stdout",
     "output_type": "stream",
     "text": [
      "epoch: 8, [batch: 5033 / 6292], examples_per_second: 1874.2092, train_label_loss: 0.0000, \n"
     ]
    },
    {
     "name": "stdout",
     "output_type": "stream",
     "text": [
      "epoch: 8, [batch: 5662 / 6292], examples_per_second: 1871.0344, train_label_loss: 0.0000, \n"
     ]
    },
    {
     "name": "stdout",
     "output_type": "stream",
     "text": [
      "=============================================================\n",
      "epoch: 8, source_val_acc_label: 0.9995, target_val_acc_label: 0.2874, source_val_label_loss: 0.0087, target_val_label_loss: 3.1443, \n",
      "=============================================================\n"
     ]
    },
    {
     "name": "stdout",
     "output_type": "stream",
     "text": [
      "epoch: 9, [batch: 1 / 6305], examples_per_second: 2.7950, train_label_loss: 0.0000, \n"
     ]
    },
    {
     "name": "stdout",
     "output_type": "stream",
     "text": [
      "epoch: 9, [batch: 631 / 6305], examples_per_second: 1870.7722, train_label_loss: 0.0001, \n"
     ]
    },
    {
     "name": "stdout",
     "output_type": "stream",
     "text": [
      "epoch: 9, [batch: 1261 / 6305], examples_per_second: 1870.1474, train_label_loss: 0.0000, \n"
     ]
    },
    {
     "name": "stdout",
     "output_type": "stream",
     "text": [
      "epoch: 9, [batch: 1892 / 6305], examples_per_second: 2193.9809, train_label_loss: 0.0000, \n"
     ]
    },
    {
     "name": "stdout",
     "output_type": "stream",
     "text": [
      "epoch: 9, [batch: 2522 / 6305], examples_per_second: 2389.4654, train_label_loss: 0.0019, \n"
     ]
    },
    {
     "name": "stdout",
     "output_type": "stream",
     "text": [
      "epoch: 9, [batch: 3153 / 6305], examples_per_second: 1872.0893, train_label_loss: 0.0000, \n"
     ]
    },
    {
     "name": "stdout",
     "output_type": "stream",
     "text": [
      "epoch: 9, [batch: 3783 / 6305], examples_per_second: 1869.8308, train_label_loss: 0.0000, \n"
     ]
    },
    {
     "name": "stdout",
     "output_type": "stream",
     "text": [
      "epoch: 9, [batch: 4413 / 6305], examples_per_second: 1866.3612, train_label_loss: 0.0000, \n"
     ]
    },
    {
     "name": "stdout",
     "output_type": "stream",
     "text": [
      "epoch: 9, [batch: 5044 / 6305], examples_per_second: 1875.4817, train_label_loss: 0.0000, \n"
     ]
    },
    {
     "name": "stdout",
     "output_type": "stream",
     "text": [
      "epoch: 9, [batch: 5674 / 6305], examples_per_second: 1872.1579, train_label_loss: 0.0000, \n"
     ]
    },
    {
     "name": "stdout",
     "output_type": "stream",
     "text": [
      "=============================================================\n",
      "epoch: 9, source_val_acc_label: 0.9995, target_val_acc_label: 0.3402, source_val_label_loss: 0.0061, target_val_label_loss: 2.8256, \n",
      "=============================================================\n"
     ]
    },
    {
     "name": "stdout",
     "output_type": "stream",
     "text": [
      "New best\n"
     ]
    },
    {
     "name": "stdout",
     "output_type": "stream",
     "text": [
      "epoch: 10, [batch: 1 / 6298], examples_per_second: 2.8062, train_label_loss: 0.0000, \n"
     ]
    },
    {
     "name": "stdout",
     "output_type": "stream",
     "text": [
      "epoch: 10, [batch: 630 / 6298], examples_per_second: 1871.2055, train_label_loss: 0.0000, \n"
     ]
    },
    {
     "name": "stdout",
     "output_type": "stream",
     "text": [
      "epoch: 10, [batch: 1260 / 6298], examples_per_second: 1873.3023, train_label_loss: 0.0000, \n"
     ]
    },
    {
     "name": "stdout",
     "output_type": "stream",
     "text": [
      "epoch: 10, [batch: 1890 / 6298], examples_per_second: 2196.0300, train_label_loss: 0.0000, \n"
     ]
    },
    {
     "name": "stdout",
     "output_type": "stream",
     "text": [
      "epoch: 10, [batch: 2519 / 6298], examples_per_second: 2363.3095, train_label_loss: 0.0000, \n"
     ]
    },
    {
     "name": "stdout",
     "output_type": "stream",
     "text": [
      "epoch: 10, [batch: 3149 / 6298], examples_per_second: 1870.6693, train_label_loss: 0.0000, \n"
     ]
    },
    {
     "name": "stdout",
     "output_type": "stream",
     "text": [
      "epoch: 10, [batch: 3779 / 6298], examples_per_second: 1871.8907, train_label_loss: 0.0000, \n"
     ]
    },
    {
     "name": "stdout",
     "output_type": "stream",
     "text": [
      "epoch: 10, [batch: 4408 / 6298], examples_per_second: 1868.3549, train_label_loss: 0.0000, \n"
     ]
    },
    {
     "name": "stdout",
     "output_type": "stream",
     "text": [
      "epoch: 10, [batch: 5038 / 6298], examples_per_second: 1875.2900, train_label_loss: 0.0000, \n"
     ]
    },
    {
     "name": "stdout",
     "output_type": "stream",
     "text": [
      "epoch: 10, [batch: 5668 / 6298], examples_per_second: 1871.6300, train_label_loss: 0.0000, \n"
     ]
    },
    {
     "name": "stdout",
     "output_type": "stream",
     "text": [
      "=============================================================\n",
      "epoch: 10, source_val_acc_label: 0.9996, target_val_acc_label: 0.3329, source_val_label_loss: 0.0074, target_val_label_loss: 3.4305, \n",
      "=============================================================\n"
     ]
    },
    {
     "name": "stdout",
     "output_type": "stream",
     "text": [
      "epoch: 11, [batch: 1 / 6323], examples_per_second: 2.8007, train_label_loss: 0.0000, \n"
     ]
    },
    {
     "name": "stdout",
     "output_type": "stream",
     "text": [
      "epoch: 11, [batch: 633 / 6323], examples_per_second: 1870.8804, train_label_loss: 0.0000, \n"
     ]
    },
    {
     "name": "stdout",
     "output_type": "stream",
     "text": [
      "epoch: 11, [batch: 1265 / 6323], examples_per_second: 1867.6496, train_label_loss: 0.0000, \n"
     ]
    },
    {
     "name": "stdout",
     "output_type": "stream",
     "text": [
      "epoch: 11, [batch: 1897 / 6323], examples_per_second: 2178.4275, train_label_loss: 0.0000, \n"
     ]
    },
    {
     "name": "stdout",
     "output_type": "stream",
     "text": [
      "epoch: 11, [batch: 2529 / 6323], examples_per_second: 2334.0175, train_label_loss: 0.0000, \n"
     ]
    },
    {
     "name": "stdout",
     "output_type": "stream",
     "text": [
      "epoch: 11, [batch: 3162 / 6323], examples_per_second: 1869.8253, train_label_loss: 0.0000, \n"
     ]
    },
    {
     "name": "stdout",
     "output_type": "stream",
     "text": [
      "epoch: 11, [batch: 3794 / 6323], examples_per_second: 1872.5136, train_label_loss: 0.0000, \n"
     ]
    },
    {
     "name": "stdout",
     "output_type": "stream",
     "text": [
      "epoch: 11, [batch: 4426 / 6323], examples_per_second: 1869.2299, train_label_loss: 0.0000, \n"
     ]
    },
    {
     "name": "stdout",
     "output_type": "stream",
     "text": [
      "epoch: 11, [batch: 5058 / 6323], examples_per_second: 1870.5876, train_label_loss: 0.0000, \n"
     ]
    },
    {
     "name": "stdout",
     "output_type": "stream",
     "text": [
      "epoch: 11, [batch: 5690 / 6323], examples_per_second: 1870.8364, train_label_loss: 0.0000, \n"
     ]
    },
    {
     "name": "stdout",
     "output_type": "stream",
     "text": [
      "=============================================================\n",
      "epoch: 11, source_val_acc_label: 0.9994, target_val_acc_label: 0.2503, source_val_label_loss: 0.0072, target_val_label_loss: 5.1454, \n",
      "=============================================================\n"
     ]
    },
    {
     "name": "stdout",
     "output_type": "stream",
     "text": [
      "epoch: 12, [batch: 1 / 6325], examples_per_second: 2.8131, train_label_loss: 0.0000, \n"
     ]
    },
    {
     "name": "stdout",
     "output_type": "stream",
     "text": [
      "epoch: 12, [batch: 633 / 6325], examples_per_second: 1869.7347, train_label_loss: 0.0000, \n"
     ]
    },
    {
     "name": "stdout",
     "output_type": "stream",
     "text": [
      "epoch: 12, [batch: 1265 / 6325], examples_per_second: 1870.7608, train_label_loss: 0.0000, \n"
     ]
    },
    {
     "name": "stdout",
     "output_type": "stream",
     "text": [
      "epoch: 12, [batch: 1898 / 6325], examples_per_second: 2220.3408, train_label_loss: 0.0000, \n"
     ]
    },
    {
     "name": "stdout",
     "output_type": "stream",
     "text": [
      "epoch: 12, [batch: 2530 / 6325], examples_per_second: 2307.6288, train_label_loss: 0.0000, \n"
     ]
    },
    {
     "name": "stdout",
     "output_type": "stream",
     "text": [
      "epoch: 12, [batch: 3163 / 6325], examples_per_second: 1871.0075, train_label_loss: 0.0000, \n"
     ]
    },
    {
     "name": "stdout",
     "output_type": "stream",
     "text": [
      "epoch: 12, [batch: 3795 / 6325], examples_per_second: 1870.5322, train_label_loss: 0.0000, \n"
     ]
    },
    {
     "name": "stdout",
     "output_type": "stream",
     "text": [
      "epoch: 12, [batch: 4427 / 6325], examples_per_second: 1868.6493, train_label_loss: 0.0000, \n"
     ]
    },
    {
     "name": "stdout",
     "output_type": "stream",
     "text": [
      "epoch: 12, [batch: 5060 / 6325], examples_per_second: 1871.3942, train_label_loss: 0.0000, \n"
     ]
    },
    {
     "name": "stdout",
     "output_type": "stream",
     "text": [
      "epoch: 12, [batch: 5692 / 6325], examples_per_second: 1869.5737, train_label_loss: 0.0000, \n"
     ]
    },
    {
     "name": "stdout",
     "output_type": "stream",
     "text": [
      "=============================================================\n",
      "epoch: 12, source_val_acc_label: 0.9995, target_val_acc_label: 0.2595, source_val_label_loss: 0.0083, target_val_label_loss: 5.0399, \n",
      "=============================================================\n"
     ]
    },
    {
     "name": "stdout",
     "output_type": "stream",
     "text": [
      "epoch: 13, [batch: 1 / 6318], examples_per_second: 2.8187, train_label_loss: 0.0000, \n"
     ]
    },
    {
     "name": "stdout",
     "output_type": "stream",
     "text": [
      "epoch: 13, [batch: 632 / 6318], examples_per_second: 1872.7059, train_label_loss: 0.0000, \n"
     ]
    },
    {
     "name": "stdout",
     "output_type": "stream",
     "text": [
      "epoch: 13, [batch: 1264 / 6318], examples_per_second: 1871.5125, train_label_loss: 0.0059, \n"
     ]
    },
    {
     "name": "stdout",
     "output_type": "stream",
     "text": [
      "epoch: 13, [batch: 1896 / 6318], examples_per_second: 2242.4235, train_label_loss: 0.0000, \n"
     ]
    },
    {
     "name": "stdout",
     "output_type": "stream",
     "text": [
      "epoch: 13, [batch: 2527 / 6318], examples_per_second: 2278.0961, train_label_loss: 0.0000, \n"
     ]
    },
    {
     "name": "stdout",
     "output_type": "stream",
     "text": [
      "epoch: 13, [batch: 3159 / 6318], examples_per_second: 1871.6318, train_label_loss: 0.0000, \n"
     ]
    },
    {
     "name": "stdout",
     "output_type": "stream",
     "text": [
      "epoch: 13, [batch: 3791 / 6318], examples_per_second: 1872.1940, train_label_loss: 0.0000, \n"
     ]
    },
    {
     "name": "stdout",
     "output_type": "stream",
     "text": [
      "epoch: 13, [batch: 4422 / 6318], examples_per_second: 1870.9001, train_label_loss: 0.0000, \n"
     ]
    },
    {
     "name": "stdout",
     "output_type": "stream",
     "text": [
      "epoch: 13, [batch: 5054 / 6318], examples_per_second: 1872.3282, train_label_loss: 0.0000, \n"
     ]
    },
    {
     "name": "stdout",
     "output_type": "stream",
     "text": [
      "epoch: 13, [batch: 5686 / 6318], examples_per_second: 1870.8211, train_label_loss: 0.0000, \n"
     ]
    },
    {
     "name": "stdout",
     "output_type": "stream",
     "text": [
      "=============================================================\n",
      "epoch: 13, source_val_acc_label: 0.9997, target_val_acc_label: 0.2882, source_val_label_loss: 0.0099, target_val_label_loss: 4.2816, \n",
      "=============================================================\n"
     ]
    },
    {
     "name": "stdout",
     "output_type": "stream",
     "text": [
      "Patience (3) exhausted\n"
     ]
    }
   ],
   "source": [
    "###################################\n",
    "# train\n",
    "###################################\n",
    "jig = PTN_Train_Eval_Test_Jig(model, p.BEST_MODEL_PATH, p.device)\n",
    "\n",
    "jig.train(\n",
    "    train_iterable=datasets.source.processed.train,\n",
    "    source_val_iterable=datasets.source.processed.val,\n",
    "    target_val_iterable=datasets.target.processed.val,\n",
    "    num_epochs=p.n_epoch,\n",
    "    num_logs_per_epoch=p.NUM_LOGS_PER_EPOCH,\n",
    "    patience=p.patience,\n",
    "    optimizer=optimizer,\n",
    "    criteria_for_best=p.criteria_for_best,\n",
    ")"
   ]
  },
  {
   "cell_type": "code",
   "execution_count": 23,
   "id": "31e8fabf",
   "metadata": {
    "execution": {
     "iopub.execute_input": "2022-03-25T19:05:36.949126Z",
     "iopub.status.busy": "2022-03-25T19:05:36.948765Z",
     "iopub.status.idle": "2022-03-25T19:05:36.967831Z",
     "shell.execute_reply": "2022-03-25T19:05:36.967299Z"
    },
    "papermill": {
     "duration": 0.065629,
     "end_time": "2022-03-25T19:05:36.967942",
     "exception": false,
     "start_time": "2022-03-25T19:05:36.902313",
     "status": "completed"
    },
    "tags": []
   },
   "outputs": [],
   "source": [
    "total_experiment_time_secs = time.time() - start_time_secs"
   ]
  },
  {
   "cell_type": "code",
   "execution_count": 24,
   "id": "87b9595b",
   "metadata": {
    "execution": {
     "iopub.execute_input": "2022-03-25T19:05:37.061344Z",
     "iopub.status.busy": "2022-03-25T19:05:37.061063Z",
     "iopub.status.idle": "2022-03-25T19:07:57.243351Z",
     "shell.execute_reply": "2022-03-25T19:07:57.243817Z"
    },
    "papermill": {
     "duration": 140.23039,
     "end_time": "2022-03-25T19:07:57.243965",
     "exception": false,
     "start_time": "2022-03-25T19:05:37.013575",
     "status": "completed"
    },
    "tags": []
   },
   "outputs": [],
   "source": [
    "###################################\n",
    "# Evaluate the model\n",
    "###################################\n",
    "source_test_label_accuracy, source_test_label_loss = jig.test(datasets.source.processed.test)\n",
    "target_test_label_accuracy, target_test_label_loss = jig.test(datasets.target.processed.test)\n",
    "\n",
    "source_val_label_accuracy, source_val_label_loss = jig.test(datasets.source.processed.val)\n",
    "target_val_label_accuracy, target_val_label_loss = jig.test(datasets.target.processed.val)\n",
    "\n",
    "history = jig.get_history()\n",
    "\n",
    "total_epochs_trained = len(history[\"epoch_indices\"])\n",
    "\n",
    "val_dl = Iterable_Aggregator((datasets.source.original.val,datasets.target.original.val))\n",
    "\n",
    "confusion = ptn_confusion_by_domain_over_dataloader(model, p.device, val_dl)\n",
    "per_domain_accuracy = per_domain_accuracy_from_confusion(confusion)\n",
    "\n",
    "# Add a key to per_domain_accuracy for if it was a source domain\n",
    "for domain, accuracy in per_domain_accuracy.items():\n",
    "    per_domain_accuracy[domain] = {\n",
    "        \"accuracy\": accuracy,\n",
    "        \"source?\": domain in p.domains_source\n",
    "    }\n",
    "\n",
    "# Do an independent accuracy assesment JUST TO BE SURE!\n",
    "# _source_test_label_accuracy = independent_accuracy_assesment(model, datasets.source.processed.test, p.device)\n",
    "# _target_test_label_accuracy = independent_accuracy_assesment(model, datasets.target.processed.test, p.device)\n",
    "# _source_val_label_accuracy = independent_accuracy_assesment(model, datasets.source.processed.val, p.device)\n",
    "# _target_val_label_accuracy = independent_accuracy_assesment(model, datasets.target.processed.val, p.device)\n",
    "\n",
    "# assert(_source_test_label_accuracy == source_test_label_accuracy)\n",
    "# assert(_target_test_label_accuracy == target_test_label_accuracy)\n",
    "# assert(_source_val_label_accuracy == source_val_label_accuracy)\n",
    "# assert(_target_val_label_accuracy == target_val_label_accuracy)\n",
    "\n",
    "experiment = {\n",
    "    \"experiment_name\": p.experiment_name,\n",
    "    \"parameters\": dict(p),\n",
    "    \"results\": {\n",
    "        \"source_test_label_accuracy\": source_test_label_accuracy,\n",
    "        \"source_test_label_loss\": source_test_label_loss,\n",
    "        \"target_test_label_accuracy\": target_test_label_accuracy,\n",
    "        \"target_test_label_loss\": target_test_label_loss,\n",
    "        \"source_val_label_accuracy\": source_val_label_accuracy,\n",
    "        \"source_val_label_loss\": source_val_label_loss,\n",
    "        \"target_val_label_accuracy\": target_val_label_accuracy,\n",
    "        \"target_val_label_loss\": target_val_label_loss,\n",
    "        \"total_epochs_trained\": total_epochs_trained,\n",
    "        \"total_experiment_time_secs\": total_experiment_time_secs,\n",
    "        \"confusion\": confusion,\n",
    "        \"per_domain_accuracy\": per_domain_accuracy,\n",
    "    },\n",
    "    \"history\": history,\n",
    "    \"dataset_metrics\": get_dataset_metrics(datasets, \"ptn\"),\n",
    "}"
   ]
  },
  {
   "cell_type": "code",
   "execution_count": 25,
   "id": "54a21829",
   "metadata": {
    "execution": {
     "iopub.execute_input": "2022-03-25T19:07:57.335841Z",
     "iopub.status.busy": "2022-03-25T19:07:57.335580Z",
     "iopub.status.idle": "2022-03-25T19:07:57.459396Z",
     "shell.execute_reply": "2022-03-25T19:07:57.459819Z"
    },
    "papermill": {
     "duration": 0.168836,
     "end_time": "2022-03-25T19:07:57.459949",
     "exception": false,
     "start_time": "2022-03-25T19:07:57.291113",
     "status": "completed"
    },
    "tags": []
   },
   "outputs": [
    {
     "data": {
      "image/png": "[encoded data removed]",
      "text/plain": [
       "<Figure size 1080x504 with 1 Axes>"
      ]
     },
     "metadata": {
      "needs_background": "light"
     },
     "output_type": "display_data"
    }
   ],
   "source": [
    "ax = get_loss_curve(experiment)\n",
    "plt.show()"
   ]
  },
  {
   "cell_type": "code",
   "execution_count": 26,
   "id": "fd8a0f60",
   "metadata": {
    "execution": {
     "iopub.execute_input": "2022-03-25T19:07:57.553215Z",
     "iopub.status.busy": "2022-03-25T19:07:57.552958Z",
     "iopub.status.idle": "2022-03-25T19:07:57.722409Z",
     "shell.execute_reply": "2022-03-25T19:07:57.722634Z"
    },
    "papermill": {
     "duration": 0.214401,
     "end_time": "2022-03-25T19:07:57.722717",
     "exception": false,
     "start_time": "2022-03-25T19:07:57.508316",
     "status": "completed"
    },
    "tags": []
   },
   "outputs": [
    {
     "data": {
      "text/plain": [
       "<AxesSubplot:title={'center':'Results'}>"
      ]
     },
     "execution_count": 26,
     "metadata": {},
     "output_type": "execute_result"
    },
    {
     "data": {
      "image/png": "[encoded data removed]",
      "text/plain": [
       "<Figure size 1080x504 with 1 Axes>"
      ]
     },
     "metadata": {
      "needs_background": "light"
     },
     "output_type": "display_data"
    }
   ],
   "source": [
    "get_results_table(experiment)"
   ]
  },
  {
   "cell_type": "code",
   "execution_count": 27,
   "id": "cf8dc689",
   "metadata": {
    "execution": {
     "iopub.execute_input": "2022-03-25T19:07:57.842724Z",
     "iopub.status.busy": "2022-03-25T19:07:57.842458Z",
     "iopub.status.idle": "2022-03-25T19:07:57.980339Z",
     "shell.execute_reply": "2022-03-25T19:07:57.979867Z"
    },
    "papermill": {
     "duration": 0.200822,
     "end_time": "2022-03-25T19:07:57.980451",
     "exception": false,
     "start_time": "2022-03-25T19:07:57.779629",
     "status": "completed"
    },
    "tags": []
   },
   "outputs": [
    {
     "data": {
      "text/plain": [
       "<AxesSubplot:title={'center':'Per Domain Validation Accuracy'}, xlabel='domain'>"
      ]
     },
     "execution_count": 27,
     "metadata": {},
     "output_type": "execute_result"
    },
    {
     "data": {
      "image/png": "[encoded data removed]",
      "text/plain": [
       "<Figure size 1080x504 with 1 Axes>"
      ]
     },
     "metadata": {
      "needs_background": "light"
     },
     "output_type": "display_data"
    }
   ],
   "source": [
    "get_domain_accuracies(experiment)"
   ]
  },
  {
   "cell_type": "code",
   "execution_count": 28,
   "id": "a74ae082",
   "metadata": {
    "execution": {
     "iopub.execute_input": "2022-03-25T19:07:58.086433Z",
     "iopub.status.busy": "2022-03-25T19:07:58.086075Z",
     "iopub.status.idle": "2022-03-25T19:07:58.102354Z",
     "shell.execute_reply": "2022-03-25T19:07:58.102086Z"
    },
    "papermill": {
     "duration": 0.068486,
     "end_time": "2022-03-25T19:07:58.102416",
     "exception": false,
     "start_time": "2022-03-25T19:07:58.033930",
     "status": "completed"
    },
    "tags": []
   },
   "outputs": [
    {
     "name": "stdout",
     "output_type": "stream",
     "text": [
      "Source Test Label Accuracy: 0.9996468926553672 Target Test Label Accuracy: 0.338671875\n",
      "Source Val Label Accuracy: 0.9995357142857143 Target Val Label Accuracy: 0.3401692708333333\n"
     ]
    }
   ],
   "source": [
    "print(\"Source Test Label Accuracy:\", experiment[\"results\"][\"source_test_label_accuracy\"], \"Target Test Label Accuracy:\", experiment[\"results\"][\"target_test_label_accuracy\"])\n",
    "print(\"Source Val Label Accuracy:\", experiment[\"results\"][\"source_val_label_accuracy\"], \"Target Val Label Accuracy:\", experiment[\"results\"][\"target_val_label_accuracy\"])"
   ]
  },
  {
   "cell_type": "code",
   "execution_count": 29,
   "id": "dacca602",
   "metadata": {
    "execution": {
     "iopub.execute_input": "2022-03-25T19:07:58.202367Z",
     "iopub.status.busy": "2022-03-25T19:07:58.202105Z",
     "iopub.status.idle": "2022-03-25T19:07:58.219857Z",
     "shell.execute_reply": "2022-03-25T19:07:58.220265Z"
    },
    "papermill": {
     "duration": 0.065006,
     "end_time": "2022-03-25T19:07:58.220398",
     "exception": false,
     "start_time": "2022-03-25T19:07:58.155392",
     "status": "completed"
    },
    "tags": [
     "experiment_json"
    ]
   },
   "outputs": [
    {
     "data": {
      "text/plain": [
       "'{\"experiment_name\": \"tl_3-filterv2:cores -> oracle.run1.framed\", \"parameters\": {\"experiment_name\": \"tl_3-filterv2:cores -> oracle.run1.framed\", \"device\": \"cuda\", \"lr\": 0.0001, \"x_shape\": [2, 200], \"n_shot\": 3, \"n_query\": 2, \"train_k_factor\": 3, \"val_k_factor\": 2, \"test_k_factor\": 2, \"torch_default_dtype\": \"torch.float32\", \"n_epoch\": 50, \"patience\": 3, \"criteria_for_best\": \"target_accuracy\", \"x_net\": [{\"class\": \"nnReshape\", \"kargs\": {\"shape\": [-1, 1, 2, 200]}}, {\"class\": \"Conv2d\", \"kargs\": {\"in_channels\": 1, \"out_channels\": 256, \"kernel_size\": [1, 7], \"bias\": false, \"padding\": [0, 3]}}, {\"class\": \"ReLU\", \"kargs\": {\"inplace\": true}}, {\"class\": \"BatchNorm2d\", \"kargs\": {\"num_features\": 256}}, {\"class\": \"Conv2d\", \"kargs\": {\"in_channels\": 256, \"out_channels\": 80, \"kernel_size\": [2, 7], \"bias\": true, \"padding\": [0, 3]}}, {\"class\": \"ReLU\", \"kargs\": {\"inplace\": true}}, {\"class\": \"BatchNorm2d\", \"kargs\": {\"num_features\": 80}}, {\"class\": \"Flatten\", \"kargs\": {}}, {\"class\": \"Linear\", \"kargs\": {\"in_features\": 16000, \"out_features\": 256}}, {\"class\": \"ReLU\", \"kargs\": {\"inplace\": true}}, {\"class\": \"BatchNorm1d\", \"kargs\": {\"num_features\": 256}}, {\"class\": \"Linear\", \"kargs\": {\"in_features\": 256, \"out_features\": 256}}], \"NUM_LOGS_PER_EPOCH\": 10, \"BEST_MODEL_PATH\": \"./best_model.pth\", \"n_way\": 16, \"datasets\": [{\"labels\": [\"1-10.\", \"1-11.\", \"1-15.\", \"1-16.\", \"1-17.\", \"1-18.\", \"1-19.\", \"10-4.\", \"10-7.\", \"11-1.\", \"11-14.\", \"11-17.\", \"11-20.\", \"11-7.\", \"13-20.\", \"13-8.\", \"14-10.\", \"14-11.\", \"14-14.\", \"14-7.\", \"15-1.\", \"15-20.\", \"16-1.\", \"16-16.\", \"17-10.\", \"17-11.\", \"17-2.\", \"19-1.\", \"19-16.\", \"19-19.\", \"19-20.\", \"19-3.\", \"2-10.\", \"2-11.\", \"2-17.\", \"2-18.\", \"2-20.\", \"2-3.\", \"2-4.\", \"2-5.\", \"2-6.\", \"2-7.\", \"2-8.\", \"3-13.\", \"3-18.\", \"3-3.\", \"4-1.\", \"4-10.\", \"4-11.\", \"4-19.\", \"5-5.\", \"6-15.\", \"7-10.\", \"7-14.\", \"8-18.\", \"8-20.\", \"8-3.\", \"8-8.\"], \"domains\": [1, 2, 3, 4, 5], \"num_examples_per_domain_per_label\": -1, \"pickle_path\": \"/mnt/wd500GB/CSC500/csc500-main/datasets/cores.stratified_ds.2022A.pkl\", \"source_or_target_dataset\": \"source\", \"x_transforms\": [\"unit_power\", \"lowpass_+/-10MHz\", \"take_200\"], \"episode_transforms\": [], \"domain_prefix\": \"C_\"}, {\"labels\": [\"3123D52\", \"3123D65\", \"3123D79\", \"3123D80\", \"3123D54\", \"3123D70\", \"3123D7B\", \"3123D89\", \"3123D58\", \"3123D76\", \"3123D7D\", \"3123EFE\", \"3123D64\", \"3123D78\", \"3123D7E\", \"3124E4A\"], \"domains\": [32, 38, 8, 44, 14, 50, 20, 26], \"num_examples_per_domain_per_label\": 2000, \"pickle_path\": \"/mnt/wd500GB/CSC500/csc500-main/datasets/oracle.Run1_framed_2000Examples_stratified_ds.2022A.pkl\", \"source_or_target_dataset\": \"target\", \"x_transforms\": [\"unit_power\", \"take_200\", \"resample_20Msps_to_25Msps\"], \"episode_transforms\": [], \"domain_prefix\": \"O_\"}], \"seed\": 7, \"dataset_seed\": 7, \"domains_source\": [\"C_1\", \"C_2\", \"C_3\", \"C_4\", \"C_5\"], \"domains_target\": [\"O_32\", \"O_38\", \"O_8\", \"O_44\", \"O_14\", \"O_50\", \"O_20\", \"O_26\"]}, \"results\": {\"source_test_label_accuracy\": 0.9996468926553672, \"source_test_label_loss\": 0.005555454175919294, \"target_test_label_accuracy\": 0.338671875, \"target_test_label_loss\": 2.828921318054199, \"source_val_label_accuracy\": 0.9995357142857143, \"source_val_label_loss\": 0.006077242083847523, \"target_val_label_accuracy\": 0.3401692708333333, \"target_val_label_loss\": 2.825578451156616, \"total_epochs_trained\": 13, \"total_experiment_time_secs\": 3713.2216713428497, \"confusion\": {\"C_5\": {\"26\": {\"26\": 24}, \"7\": {\"7\": 32}, \"56\": {\"56\": 142}, \"36\": {\"36\": 92}, \"47\": {\"47\": 100}, \"2\": {\"2\": 28}, \"15\": {\"15\": 152}, \"14\": {\"14\": 44}, \"27\": {\"27\": 146}, \"40\": {\"40\": 124}, \"49\": {\"49\": 36}, \"45\": {\"45\": 122, \"4\": 1, \"55\": 1}, \"46\": {\"46\": 136}, \"11\": {\"11\": 130}, \"30\": {\"30\": 112}, \"0\": {\"0\": 124}, \"10\": {\"10\": 68}, \"1\": {\"1\": 148}, \"42\": {\"42\": 38, \"3\": 2}, \"54\": {\"54\": 112}, \"55\": {\"55\": 152}, \"23\": {\"23\": 124}, \"25\": {\"25\": 152}, \"28\": {\"28\": 32}, \"32\": {\"32\": 32}, \"9\": {\"9\": 142}, \"39\": {\"39\": 20}, \"3\": {\"3\": 100}, \"29\": {\"29\": 118}, \"17\": {\"17\": 116}, \"35\": {\"35\": 36}, \"44\": {\"44\": 152}, \"5\": {\"5\": 128}, \"33\": {\"33\": 32}, \"34\": {\"34\": 36}, \"13\": {\"13\": 138}, \"41\": {\"41\": 28}, \"6\": {\"6\": 125, \"17\": 1, \"20\": 2}, \"51\": {\"51\": 138}, \"50\": {\"50\": 144}, \"37\": {\"37\": 24}, \"19\": {\"19\": 144}, \"57\": {\"57\": 132}, \"21\": {\"21\": 144}, \"24\": {\"24\": 80}, \"8\": {\"8\": 130}, \"12\": {\"12\": 96}, \"48\": {\"48\": 132}, \"43\": {\"43\": 150}, \"53\": {\"53\": 148}, \"38\": {\"38\": 32}, \"16\": {\"16\": 142}, \"22\": {\"22\": 28}, \"4\": {\"4\": 100}, \"18\": {\"18\": 64}, \"20\": {\"20\": 144}, \"52\": {\"52\": 140}, \"31\": {\"31\": 36}}, \"C_1\": {\"41\": {\"41\": 24}, \"40\": {\"40\": 110}, \"45\": {\"45\": 138}, \"51\": {\"51\": 148}, \"5\": {\"5\": 154}, \"30\": {\"30\": 120}, \"42\": {\"42\": 40}, \"46\": {\"46\": 136}, \"48\": {\"48\": 134}, \"53\": {\"53\": 144}, \"47\": {\"47\": 152}, \"49\": {\"49\": 32}, \"36\": {\"36\": 64}, \"32\": {\"32\": 32}, \"34\": {\"34\": 24}, \"29\": {\"29\": 140}, \"35\": {\"35\": 36}, \"3\": {\"3\": 134}, \"16\": {\"16\": 140}, \"26\": {\"26\": 24}, \"57\": {\"57\": 144}, \"44\": {\"44\": 128}, \"0\": {\"0\": 152}, \"4\": {\"4\": 132}, \"31\": {\"31\": 28}, \"11\": {\"11\": 140}, \"6\": {\"6\": 96}, \"54\": {\"54\": 104}, \"17\": {\"17\": 64}, \"20\": {\"20\": 128}, \"13\": {\"13\": 150}, \"33\": {\"33\": 32}, \"24\": {\"24\": 107, \"22\": 1}, \"52\": {\"52\": 132}, \"2\": {\"2\": 36}, \"19\": {\"19\": 156}, \"39\": {\"39\": 28}, \"8\": {\"8\": 140}, \"21\": {\"21\": 123, \"36\": 1}, \"10\": {\"10\": 96}, \"37\": {\"37\": 32}, \"25\": {\"25\": 144}, \"27\": {\"27\": 130}, \"23\": {\"23\": 136}, \"1\": {\"1\": 100}, \"50\": {\"50\": 152}, \"12\": {\"12\": 116}, \"18\": {\"18\": 72}, \"38\": {\"38\": 24}, \"14\": {\"14\": 24}, \"56\": {\"56\": 142}, \"55\": {\"55\": 160}, \"9\": {\"9\": 138}, \"15\": {\"15\": 146}, \"28\": {\"28\": 28}, \"7\": {\"7\": 28}, \"43\": {\"43\": 136}, \"22\": {\"22\": 136}}, \"C_3\": {\"1\": {\"1\": 100}, \"9\": {\"9\": 124}, \"22\": {\"22\": 136}, \"43\": {\"43\": 136}, \"49\": {\"49\": 20}, \"50\": {\"50\": 138}, \"53\": {\"53\": 136}, \"10\": {\"10\": 64}, \"48\": {\"48\": 116}, \"8\": {\"8\": 138}, \"31\": {\"31\": 28}, \"56\": {\"56\": 134}, \"25\": {\"25\": 142}, \"28\": {\"28\": 28}, \"38\": {\"38\": 28}, \"5\": {\"5\": 116}, \"12\": {\"12\": 92}, \"6\": {\"6\": 88}, \"19\": {\"19\": 152}, \"26\": {\"26\": 24}, \"32\": {\"32\": 28}, \"33\": {\"33\": 28}, \"3\": {\"3\": 118}, \"51\": {\"51\": 128}, \"16\": {\"16\": 138}, \"46\": {\"46\": 140}, \"7\": {\"7\": 36}, \"47\": {\"47\": 92}, \"39\": {\"39\": 16}, \"40\": {\"40\": 136}, \"14\": {\"14\": 40}, \"37\": {\"37\": 28}, \"2\": {\"2\": 32}, \"21\": {\"21\": 120}, \"35\": {\"35\": 28}, \"54\": {\"54\": 100}, \"52\": {\"52\": 116}, \"29\": {\"29\": 118}, \"20\": {\"20\": 132}, \"18\": {\"18\": 84}, \"11\": {\"11\": 142}, \"0\": {\"0\": 124}, \"36\": {\"36\": 100}, \"17\": {\"17\": 108}, \"30\": {\"30\": 114}, \"42\": {\"42\": 28}, \"45\": {\"45\": 60}, \"4\": {\"4\": 148}, \"23\": {\"23\": 134}, \"13\": {\"13\": 128}, \"15\": {\"15\": 128}, \"57\": {\"57\": 124}, \"27\": {\"27\": 134}, \"44\": {\"44\": 88}, \"34\": {\"34\": 32}, \"41\": {\"41\": 28}, \"24\": {\"24\": 104}, \"55\": {\"55\": 118}}, \"C_4\": {\"52\": {\"52\": 116}, \"6\": {\"6\": 112}, \"14\": {\"14\": 16}, \"49\": {\"49\": 20}, \"0\": {\"0\": 80}, \"46\": {\"46\": 156}, \"41\": {\"41\": 36}, \"24\": {\"24\": 56}, \"25\": {\"25\": 152}, \"40\": {\"40\": 138}, \"38\": {\"38\": 40}, \"13\": {\"13\": 152}, \"9\": {\"9\": 108}, \"45\": {\"45\": 96}, \"43\": {\"43\": 144}, \"10\": {\"10\": 130}, \"15\": {\"15\": 128}, \"39\": {\"39\": 20}, \"4\": {\"4\": 132}, \"53\": {\"53\": 131, \"51\": 1}, \"1\": {\"1\": 39, \"32\": 1}, \"28\": {\"28\": 32}, \"54\": {\"54\": 108}, \"21\": {\"21\": 132}, \"7\": {\"7\": 24}, \"8\": {\"8\": 136}, \"42\": {\"42\": 32}, \"11\": {\"11\": 104}, \"33\": {\"33\": 36}, \"27\": {\"27\": 142}, \"19\": {\"19\": 144}, \"2\": {\"2\": 36}, \"3\": {\"3\": 120}, \"57\": {\"57\": 100}, \"20\": {\"20\": 112}, \"23\": {\"23\": 128}, \"22\": {\"22\": 128}, \"29\": {\"29\": 124}, \"36\": {\"36\": 92}, \"51\": {\"51\": 132}, \"31\": {\"31\": 28}, \"12\": {\"12\": 92}, \"56\": {\"56\": 138}, \"5\": {\"5\": 108}, \"35\": {\"35\": 40}, \"17\": {\"17\": 80}, \"32\": {\"32\": 24}, \"47\": {\"47\": 120}, \"18\": {\"18\": 107, \"22\": 1}, \"26\": {\"26\": 24}, \"50\": {\"50\": 122}, \"55\": {\"55\": 124}, \"34\": {\"34\": 24}, \"30\": {\"30\": 43, \"12\": 1}, \"37\": {\"37\": 24}, \"44\": {\"44\": 132}, \"48\": {\"48\": 118}, \"16\": {\"16\": 96}}, \"C_2\": {\"11\": {\"11\": 130}, \"21\": {\"21\": 120}, \"19\": {\"19\": 140}, \"20\": {\"20\": 128}, \"9\": {\"9\": 140}, \"10\": {\"10\": 112}, \"37\": {\"37\": 36}, \"32\": {\"32\": 28}, \"3\": {\"3\": 92}, \"39\": {\"39\": 28}, \"45\": {\"45\": 128}, \"50\": {\"50\": 136}, \"40\": {\"40\": 140}, \"46\": {\"46\": 128}, \"12\": {\"12\": 92}, \"13\": {\"13\": 116}, \"47\": {\"47\": 132}, \"15\": {\"15\": 142}, \"54\": {\"54\": 108}, \"48\": {\"48\": 148}, \"23\": {\"23\": 142}, \"29\": {\"29\": 128}, \"38\": {\"38\": 20}, \"53\": {\"53\": 136}, \"27\": {\"27\": 150}, \"43\": {\"43\": 144}, \"35\": {\"35\": 32}, \"0\": {\"0\": 48}, \"52\": {\"52\": 124}, \"8\": {\"8\": 128}, \"24\": {\"24\": 96}, \"18\": {\"18\": 48}, \"25\": {\"25\": 148}, \"57\": {\"57\": 136}, \"55\": {\"55\": 134}, \"36\": {\"36\": 116}, \"17\": {\"17\": 104}, \"2\": {\"2\": 32}, \"34\": {\"34\": 28}, \"1\": {\"1\": 112}, \"51\": {\"51\": 136}, \"31\": {\"31\": 28}, \"49\": {\"49\": 24}, \"14\": {\"14\": 24}, \"33\": {\"33\": 28}, \"41\": {\"41\": 20}, \"28\": {\"28\": 28}, \"5\": {\"5\": 120}, \"16\": {\"16\": 150}, \"4\": {\"4\": 128}, \"22\": {\"22\": 136}, \"6\": {\"6\": 118}, \"30\": {\"30\": 124}, \"26\": {\"26\": 24}, \"56\": {\"56\": 142}, \"42\": {\"42\": 36}, \"44\": {\"44\": 100}, \"7\": {\"7\": 36}}, \"O_26\": {\"0\": {\"9\": 19, \"8\": 24, \"6\": 15, \"15\": 14, \"3\": 5, \"7\": 16, \"10\": 24, \"13\": 6, \"0\": 32, \"4\": 28, \"2\": 12, \"1\": 19, \"14\": 19, \"5\": 7}, \"4\": {\"8\": 18, \"14\": 34, \"10\": 27, \"15\": 9, \"7\": 14, \"6\": 14, \"1\": 28, \"4\": 25, \"2\": 10, \"0\": 26, \"9\": 5, \"3\": 20, \"5\": 8, \"13\": 2}, \"14\": {\"4\": 35, \"3\": 10, \"8\": 17, \"1\": 35, \"0\": 27, \"15\": 9, \"5\": 9, \"10\": 17, \"13\": 2, \"14\": 35, \"7\": 17, \"6\": 9, \"2\": 4, \"9\": 14}, \"12\": {\"12\": 184, \"11\": 26, \"10\": 5, \"4\": 1, \"6\": 9, \"14\": 2, \"13\": 1, \"8\": 1, \"0\": 7, \"9\": 3, \"5\": 1}, \"8\": {\"13\": 13, \"4\": 25, \"15\": 17, \"0\": 17, \"1\": 7, \"9\": 27, \"8\": 20, \"5\": 14, \"7\": 15, \"6\": 17, \"10\": 22, \"14\": 21, \"3\": 12, \"2\": 13}, \"7\": {\"2\": 20, \"8\": 21, \"7\": 33, \"0\": 10, \"15\": 20, \"6\": 5, \"1\": 17, \"14\": 15, \"3\": 31, \"4\": 13, \"10\": 23, \"13\": 6, \"5\": 17, \"9\": 9}, \"13\": {\"11\": 2, \"9\": 21, \"5\": 38, \"13\": 67, \"2\": 15, \"15\": 27, \"8\": 16, \"7\": 16, \"0\": 7, \"6\": 15, \"3\": 10, \"10\": 2, \"14\": 3, \"4\": 1}, \"5\": {\"13\": 42, \"4\": 3, \"3\": 22, \"5\": 32, \"10\": 13, \"2\": 24, \"0\": 5, \"9\": 20, \"15\": 20, \"6\": 16, \"14\": 2, \"8\": 20, \"7\": 13, \"1\": 8}, \"15\": {\"7\": 14, \"6\": 24, \"8\": 28, \"2\": 14, \"15\": 45, \"3\": 15, \"5\": 17, \"0\": 14, \"10\": 8, \"14\": 5, \"4\": 12, \"1\": 2, \"9\": 18, \"13\": 24}, \"10\": {\"1\": 19, \"9\": 24, \"6\": 23, \"0\": 17, \"8\": 22, \"15\": 14, \"14\": 23, \"4\": 22, \"2\": 10, \"3\": 12, \"5\": 9, \"7\": 17, \"10\": 25, \"13\": 3}, \"3\": {\"15\": 18, \"7\": 26, \"3\": 48, \"4\": 20, \"2\": 35, \"14\": 16, \"5\": 16, \"0\": 9, \"10\": 9, \"1\": 10, \"13\": 7, \"8\": 14, \"6\": 6, \"9\": 6}, \"9\": {\"3\": 9, \"6\": 27, \"5\": 18, \"13\": 17, \"0\": 15, \"2\": 16, \"15\": 15, \"7\": 12, \"9\": 35, \"4\": 15, \"8\": 19, \"1\": 5, \"10\": 19, \"14\": 17, \"12\": 1}, \"6\": {\"9\": 22, \"15\": 30, \"6\": 50, \"14\": 8, \"3\": 3, \"2\": 7, \"10\": 28, \"13\": 12, \"8\": 20, \"0\": 17, \"5\": 16, \"4\": 15, \"12\": 2, \"7\": 4, \"11\": 1, \"1\": 5}, \"1\": {\"3\": 13, \"1\": 68, \"14\": 34, \"10\": 24, \"6\": 5, \"4\": 30, \"8\": 9, \"0\": 15, \"7\": 22, \"5\": 4, \"9\": 10, \"2\": 4, \"13\": 1, \"15\": 1}, \"11\": {\"12\": 24, \"11\": 195, \"10\": 1, \"5\": 5, \"13\": 8, \"6\": 3, \"9\": 3, \"14\": 1}, \"2\": {\"14\": 9, \"7\": 26, \"2\": 44, \"15\": 20, \"5\": 28, \"3\": 32, \"1\": 8, \"9\": 10, \"13\": 23, \"0\": 2, \"8\": 13, \"10\": 11, \"4\": 10, \"6\": 4}}, \"O_44\": {\"1\": {\"12\": 64, \"3\": 57, \"1\": 55, \"2\": 19, \"10\": 35, \"9\": 2, \"7\": 8}, \"11\": {\"13\": 37, \"11\": 158, \"7\": 5, \"4\": 2, \"2\": 3, \"6\": 23, \"9\": 12}, \"3\": {\"12\": 34, \"7\": 8, \"3\": 117, \"1\": 59, \"10\": 10, \"9\": 1, \"13\": 1, \"2\": 9, \"15\": 1}, \"6\": {\"9\": 33, \"6\": 86, \"11\": 27, \"13\": 66, \"2\": 9, \"4\": 2, \"7\": 17}, \"7\": {\"7\": 69, \"3\": 10, \"6\": 27, \"2\": 52, \"9\": 37, \"10\": 12, \"13\": 19, \"14\": 1, \"4\": 2, \"1\": 4, \"12\": 6, \"11\": 1}, \"5\": {\"5\": 95, \"8\": 36, \"0\": 48, \"15\": 14, \"4\": 17, \"14\": 30}, \"2\": {\"10\": 31, \"12\": 22, \"6\": 10, \"2\": 64, \"1\": 24, \"9\": 18, \"13\": 5, \"7\": 58, \"3\": 8}, \"15\": {\"8\": 30, \"15\": 83, \"5\": 24, \"0\": 41, \"14\": 43, \"4\": 19}, \"10\": {\"10\": 77, \"3\": 12, \"2\": 43, \"1\": 41, \"7\": 19, \"9\": 4, \"12\": 40, \"6\": 3, \"13\": 1}, \"13\": {\"11\": 33, \"13\": 70, \"6\": 59, \"7\": 22, \"4\": 15, \"2\": 5, \"9\": 30, \"14\": 5, \"10\": 1}, \"8\": {\"15\": 31, \"5\": 30, \"8\": 87, \"0\": 87, \"14\": 4, \"4\": 1}, \"4\": {\"14\": 77, \"4\": 94, \"15\": 20, \"13\": 20, \"9\": 12, \"5\": 9, \"3\": 1, \"7\": 3, \"8\": 1, \"6\": 1, \"11\": 2}, \"9\": {\"9\": 63, \"7\": 57, \"13\": 48, \"2\": 19, \"6\": 29, \"10\": 5, \"4\": 8, \"12\": 1, \"3\": 1, \"1\": 5, \"14\": 1, \"11\": 3}, \"14\": {\"11\": 4, \"4\": 53, \"14\": 85, \"5\": 35, \"9\": 1, \"8\": 5, \"15\": 35, \"13\": 9, \"0\": 12, \"3\": 1}, \"0\": {\"5\": 39, \"15\": 44, \"0\": 69, \"4\": 6, \"8\": 63, \"14\": 19}, \"12\": {\"3\": 33, \"1\": 61, \"12\": 91, \"10\": 36, \"2\": 18, \"7\": 1}}, \"O_50\": {\"15\": {\"15\": 91, \"4\": 37, \"11\": 27, \"1\": 39, \"6\": 35, \"14\": 2, \"9\": 2, \"2\": 1, \"5\": 4, \"13\": 2}, \"4\": {\"5\": 38, \"11\": 7, \"10\": 4, \"4\": 50, \"6\": 25, \"1\": 42, \"14\": 3, \"2\": 4, \"13\": 19, \"15\": 34, \"0\": 4, \"7\": 9, \"9\": 1}, \"6\": {\"6\": 69, \"13\": 20, \"7\": 26, \"5\": 14, \"10\": 5, \"1\": 41, \"4\": 23, \"15\": 24, \"14\": 2, \"0\": 9, \"2\": 6, \"11\": 1}, \"2\": {\"2\": 129, \"6\": 6, \"0\": 73, \"11\": 7, \"14\": 11, \"13\": 2, \"10\": 1, \"1\": 6, \"9\": 1, \"12\": 2, \"5\": 2}, \"5\": {\"5\": 39, \"7\": 30, \"13\": 56, \"10\": 22, \"4\": 38, \"6\": 22, \"15\": 9, \"0\": 7, \"1\": 13, \"2\": 1, \"8\": 3}, \"9\": {\"11\": 59, \"9\": 100, \"12\": 47, \"14\": 24, \"15\": 5, \"4\": 2, \"2\": 1, \"1\": 2}, \"8\": {\"10\": 49, \"8\": 132, \"3\": 49, \"0\": 7, \"7\": 2, \"13\": 1}, \"12\": {\"14\": 57, \"12\": 114, \"9\": 45, \"11\": 23, \"2\": 1}, \"10\": {\"8\": 43, \"0\": 25, \"10\": 84, \"5\": 16, \"13\": 36, \"6\": 4, \"7\": 15, \"4\": 3, \"2\": 8, \"1\": 4, \"3\": 2}, \"1\": {\"15\": 60, \"4\": 30, \"1\": 71, \"13\": 10, \"6\": 23, \"2\": 9, \"10\": 2, \"11\": 17, \"5\": 7, \"9\": 3, \"0\": 5, \"7\": 2, \"14\": 1}, \"0\": {\"0\": 99, \"14\": 3, \"6\": 4, \"2\": 66, \"13\": 8, \"4\": 8, \"10\": 29, \"5\": 7, \"1\": 10, \"7\": 3, \"8\": 3}, \"3\": {\"8\": 51, \"3\": 178, \"7\": 6, \"13\": 1, \"10\": 4}, \"13\": {\"13\": 66, \"7\": 58, \"10\": 31, \"6\": 18, \"5\": 33, \"0\": 5, \"1\": 7, \"8\": 4, \"4\": 14, \"2\": 3, \"15\": 1}, \"11\": {\"14\": 31, \"15\": 35, \"11\": 87, \"9\": 50, \"1\": 17, \"4\": 6, \"12\": 9, \"13\": 1, \"2\": 2, \"6\": 2}, \"7\": {\"7\": 78, \"10\": 30, \"13\": 47, \"6\": 11, \"4\": 11, \"5\": 48, \"0\": 5, \"2\": 1, \"8\": 4, \"1\": 1, \"3\": 4}, \"14\": {\"12\": 48, \"11\": 32, \"9\": 25, \"14\": 119, \"2\": 8, \"1\": 6, \"15\": 1, \"6\": 1}}, \"O_38\": {\"15\": {\"7\": 3, \"5\": 15, \"8\": 27, \"13\": 45, \"15\": 74, \"1\": 37, \"10\": 17, \"2\": 13, \"0\": 6, \"6\": 2, \"9\": 1}, \"11\": {\"14\": 79, \"2\": 37, \"10\": 21, \"11\": 91, \"13\": 4, \"1\": 1, \"4\": 3, \"12\": 4}, \"10\": {\"13\": 32, \"10\": 85, \"14\": 13, \"11\": 15, \"0\": 16, \"8\": 16, \"2\": 10, \"12\": 7, \"7\": 14, \"15\": 16, \"5\": 10, \"4\": 3, \"1\": 3}, \"14\": {\"14\": 116, \"11\": 64, \"2\": 36, \"10\": 13, \"13\": 4, \"4\": 1, \"12\": 6}, \"6\": {\"9\": 78, \"6\": 105, \"5\": 23, \"1\": 16, \"0\": 4, \"8\": 3, \"7\": 3, \"3\": 7, \"15\": 1}, \"4\": {\"4\": 183, \"0\": 1, \"10\": 6, \"12\": 48, \"7\": 2}, \"13\": {\"5\": 12, \"0\": 7, \"13\": 63, \"7\": 4, \"8\": 19, \"1\": 15, \"15\": 44, \"6\": 3, \"2\": 35, \"10\": 36, \"14\": 2}, \"3\": {\"9\": 38, \"7\": 22, \"3\": 115, \"6\": 24, \"5\": 12, \"0\": 20, \"8\": 7, \"12\": 1, \"1\": 1}, \"7\": {\"5\": 24, \"7\": 94, \"15\": 6, \"0\": 47, \"3\": 7, \"9\": 10, \"10\": 6, \"8\": 38, \"6\": 6, \"13\": 2}, \"8\": {\"10\": 16, \"5\": 47, \"8\": 61, \"13\": 14, \"15\": 26, \"7\": 24, \"1\": 12, \"0\": 35, \"9\": 1, \"6\": 2, \"3\": 2}, \"1\": {\"6\": 29, \"1\": 122, \"15\": 34, \"8\": 11, \"13\": 11, \"5\": 15, \"2\": 1, \"9\": 16, \"0\": 1}, \"5\": {\"5\": 44, \"10\": 7, \"9\": 11, \"13\": 10, \"8\": 53, \"0\": 23, \"15\": 25, \"6\": 17, \"7\": 23, \"1\": 20, \"3\": 7}, \"0\": {\"7\": 44, \"5\": 26, \"9\": 7, \"0\": 71, \"8\": 39, \"13\": 5, \"15\": 9, \"3\": 13, \"6\": 7, \"12\": 5, \"4\": 3, \"10\": 9, \"1\": 2}, \"2\": {\"11\": 17, \"14\": 32, \"13\": 42, \"2\": 110, \"10\": 25, \"15\": 10, \"1\": 2, \"8\": 1, \"5\": 1}, \"12\": {\"12\": 182, \"4\": 37, \"11\": 5, \"10\": 7, \"14\": 5, \"0\": 1, \"7\": 1, \"15\": 1, \"2\": 1}, \"9\": {\"3\": 18, \"5\": 14, \"6\": 96, \"9\": 92, \"8\": 3, \"7\": 7, \"1\": 7, \"0\": 3}}, \"O_20\": {\"10\": {\"7\": 15, \"12\": 13, \"8\": 21, \"3\": 17, \"4\": 29, \"10\": 53, \"14\": 30, \"9\": 7, \"0\": 3, \"6\": 26, \"5\": 9, \"2\": 10, \"15\": 3, \"11\": 1, \"13\": 1, \"1\": 2}, \"7\": {\"6\": 19, \"7\": 33, \"15\": 14, \"5\": 15, \"12\": 12, \"2\": 25, \"3\": 14, \"0\": 16, \"4\": 10, \"13\": 11, \"10\": 16, \"8\": 15, \"11\": 13, \"9\": 12, \"14\": 7, \"1\": 8}, \"4\": {\"8\": 35, \"4\": 40, \"5\": 15, \"14\": 16, \"15\": 7, \"10\": 28, \"3\": 14, \"9\": 14, \"12\": 19, \"0\": 20, \"6\": 11, \"7\": 6, \"1\": 9, \"2\": 5, \"13\": 1}, \"13\": {\"13\": 52, \"12\": 15, \"5\": 12, \"10\": 1, \"9\": 18, \"11\": 18, \"1\": 15, \"2\": 31, \"15\": 28, \"7\": 23, \"6\": 5, \"3\": 9, \"8\": 3, \"0\": 10}, \"1\": {\"13\": 7, \"1\": 33, \"15\": 31, \"5\": 28, \"12\": 24, \"0\": 23, \"2\": 18, \"3\": 24, \"4\": 6, \"9\": 20, \"8\": 7, \"6\": 1, \"7\": 11, \"10\": 6, \"11\": 1}, \"0\": {\"8\": 17, \"12\": 13, \"1\": 24, \"4\": 20, \"0\": 57, \"5\": 23, \"15\": 26, \"13\": 3, \"14\": 3, \"10\": 2, \"3\": 18, \"6\": 7, \"7\": 14, \"9\": 10, \"2\": 3}, \"12\": {\"9\": 29, \"14\": 1, \"15\": 17, \"5\": 28, \"0\": 10, \"7\": 12, \"4\": 17, \"12\": 24, \"1\": 27, \"8\": 8, \"3\": 21, \"2\": 16, \"10\": 13, \"13\": 12, \"6\": 4, \"11\": 1}, \"5\": {\"0\": 29, \"13\": 8, \"15\": 22, \"1\": 28, \"2\": 18, \"7\": 11, \"5\": 20, \"9\": 13, \"12\": 26, \"8\": 6, \"4\": 23, \"3\": 23, \"10\": 4, \"6\": 4, \"11\": 1, \"14\": 4}, \"6\": {\"7\": 21, \"10\": 24, \"5\": 6, \"4\": 12, \"8\": 25, \"3\": 6, \"14\": 44, \"6\": 58, \"12\": 5, \"11\": 13, \"2\": 17, \"0\": 2, \"9\": 5, \"1\": 1, \"13\": 1}, \"2\": {\"0\": 8, \"12\": 17, \"3\": 20, \"7\": 21, \"10\": 9, \"13\": 18, \"5\": 16, \"9\": 27, \"11\": 11, \"14\": 3, \"2\": 30, \"15\": 20, \"4\": 9, \"1\": 14, \"6\": 12, \"8\": 5}, \"8\": {\"9\": 14, \"8\": 52, \"10\": 21, \"7\": 15, \"6\": 20, \"14\": 29, \"5\": 12, \"0\": 21, \"4\": 22, \"12\": 7, \"15\": 8, \"3\": 8, \"1\": 7, \"13\": 1, \"2\": 3}, \"11\": {\"14\": 3, \"11\": 125, \"6\": 27, \"2\": 19, \"7\": 18, \"13\": 26, \"9\": 6, \"12\": 2, \"8\": 2, \"3\": 2, \"1\": 2, \"5\": 1, \"10\": 3, \"0\": 2, \"15\": 2}, \"9\": {\"5\": 21, \"13\": 13, \"9\": 27, \"3\": 16, \"7\": 21, \"10\": 12, \"4\": 15, \"2\": 28, \"6\": 9, \"15\": 20, \"1\": 14, \"0\": 9, \"12\": 24, \"8\": 7, \"14\": 4}, \"14\": {\"10\": 47, \"7\": 13, \"8\": 31, \"0\": 5, \"5\": 5, \"14\": 51, \"6\": 37, \"4\": 30, \"9\": 3, \"2\": 5, \"3\": 4, \"13\": 1, \"1\": 2, \"11\": 5, \"12\": 1}, \"15\": {\"12\": 22, \"13\": 24, \"1\": 24, \"5\": 32, \"15\": 37, \"9\": 21, \"0\": 24, \"2\": 17, \"11\": 4, \"3\": 18, \"4\": 4, \"7\": 7, \"8\": 3, \"14\": 2, \"10\": 1}, \"3\": {\"3\": 28, \"1\": 25, \"5\": 22, \"10\": 13, \"14\": 10, \"8\": 9, \"0\": 8, \"15\": 12, \"7\": 10, \"9\": 17, \"12\": 23, \"4\": 22, \"6\": 11, \"2\": 24, \"11\": 1, \"13\": 5}}, \"O_14\": {\"14\": {\"10\": 13, \"11\": 5, \"3\": 19, \"14\": 50, \"2\": 33, \"4\": 23, \"0\": 26, \"6\": 37, \"5\": 12, \"13\": 20, \"15\": 1, \"7\": 1}, \"0\": {\"0\": 69, \"3\": 29, \"10\": 38, \"2\": 9, \"9\": 24, \"14\": 14, \"11\": 41, \"1\": 2, \"4\": 6, \"8\": 4, \"6\": 2, \"5\": 2}, \"4\": {\"0\": 11, \"3\": 52, \"5\": 28, \"2\": 25, \"1\": 13, \"4\": 51, \"15\": 10, \"14\": 18, \"6\": 13, \"8\": 3, \"7\": 4, \"10\": 6, \"13\": 5, \"11\": 1}, \"11\": {\"9\": 37, \"11\": 126, \"3\": 5, \"0\": 33, \"10\": 18, \"4\": 1, \"2\": 1, \"13\": 3, \"14\": 4, \"12\": 11, \"6\": 1}, \"13\": {\"13\": 65, \"6\": 69, \"14\": 37, \"10\": 8, \"11\": 1, \"2\": 21, \"15\": 7, \"3\": 8, \"0\": 2, \"5\": 7, \"4\": 14, \"7\": 1}, \"9\": {\"9\": 103, \"8\": 14, \"11\": 29, \"12\": 56, \"0\": 29, \"10\": 5, \"3\": 3, \"14\": 1}, \"3\": {\"3\": 53, \"0\": 25, \"4\": 29, \"6\": 9, \"2\": 30, \"13\": 9, \"10\": 14, \"8\": 8, \"1\": 17, \"5\": 22, \"9\": 5, \"14\": 19}, \"6\": {\"2\": 16, \"15\": 4, \"6\": 79, \"13\": 62, \"5\": 7, \"14\": 36, \"10\": 7, \"4\": 12, \"3\": 13, \"1\": 1, \"0\": 3}, \"1\": {\"3\": 21, \"7\": 18, \"4\": 21, \"5\": 42, \"1\": 86, \"15\": 13, \"2\": 10, \"8\": 27, \"13\": 2}, \"5\": {\"3\": 34, \"4\": 26, \"5\": 49, \"2\": 32, \"1\": 35, \"13\": 3, \"6\": 10, \"15\": 23, \"14\": 5, \"7\": 13, \"9\": 1, \"8\": 6, \"10\": 1, \"0\": 2}, \"12\": {\"12\": 152, \"9\": 66, \"11\": 17, \"0\": 3, \"10\": 2}, \"10\": {\"10\": 111, \"13\": 15, \"3\": 13, \"14\": 12, \"6\": 11, \"0\": 34, \"11\": 20, \"5\": 2, \"4\": 10, \"2\": 6, \"9\": 4, \"8\": 1, \"1\": 1}, \"8\": {\"1\": 27, \"4\": 11, \"8\": 155, \"5\": 16, \"3\": 16, \"9\": 11, \"7\": 1, \"2\": 2, \"0\": 1}, \"7\": {\"7\": 99, \"15\": 71, \"5\": 23, \"1\": 34, \"4\": 4, \"6\": 2, \"8\": 2, \"2\": 3, \"13\": 1, \"3\": 1}, \"15\": {\"6\": 4, \"15\": 125, \"7\": 48, \"5\": 25, \"4\": 4, \"1\": 16, \"13\": 5, \"3\": 3, \"2\": 9, \"14\": 1}, \"2\": {\"2\": 43, \"0\": 7, \"13\": 21, \"6\": 30, \"4\": 29, \"5\": 26, \"14\": 27, \"1\": 12, \"15\": 11, \"3\": 19, \"7\": 12, \"10\": 3}}, \"O_32\": {\"11\": {\"14\": 59, \"2\": 5, \"11\": 88, \"7\": 33, \"3\": 12, \"13\": 12, \"8\": 5, \"5\": 14, \"4\": 8, \"0\": 4}, \"1\": {\"1\": 181, \"10\": 59}, \"2\": {\"5\": 15, \"2\": 71, \"4\": 56, \"0\": 22, \"7\": 25, \"11\": 8, \"8\": 6, \"13\": 16, \"14\": 14, \"9\": 6, \"3\": 1}, \"0\": {\"0\": 67, \"8\": 44, \"5\": 6, \"7\": 18, \"4\": 27, \"14\": 19, \"13\": 15, \"15\": 4, \"2\": 26, \"3\": 5, \"11\": 5, \"9\": 4}, \"3\": {\"3\": 105, \"14\": 6, \"5\": 26, \"7\": 20, \"8\": 26, \"13\": 25, \"11\": 14, \"15\": 3, \"0\": 3, \"4\": 9, \"2\": 3}, \"8\": {\"8\": 81, \"3\": 19, \"13\": 22, \"4\": 26, \"14\": 11, \"11\": 2, \"5\": 25, \"15\": 9, \"0\": 33, \"7\": 8, \"2\": 4}, \"12\": {\"12\": 200, \"9\": 23, \"6\": 16, \"10\": 1}, \"5\": {\"13\": 42, \"7\": 24, \"8\": 24, \"11\": 9, \"4\": 25, \"3\": 26, \"5\": 49, \"0\": 10, \"2\": 15, \"14\": 16}, \"15\": {\"15\": 220, \"8\": 15, \"5\": 1, \"0\": 3, \"3\": 1}, \"7\": {\"14\": 39, \"2\": 27, \"13\": 24, \"3\": 13, \"8\": 14, \"5\": 33, \"11\": 16, \"0\": 15, \"7\": 27, \"4\": 32}, \"4\": {\"4\": 54, \"13\": 32, \"7\": 28, \"8\": 14, \"2\": 44, \"14\": 10, \"0\": 23, \"5\": 26, \"11\": 3, \"3\": 6}, \"14\": {\"14\": 52, \"2\": 13, \"13\": 12, \"5\": 14, \"11\": 63, \"7\": 36, \"8\": 5, \"3\": 13, \"4\": 14, \"0\": 18}, \"10\": {\"10\": 195, \"1\": 42, \"6\": 2, \"12\": 1}, \"6\": {\"6\": 217, \"12\": 18, \"10\": 4, \"1\": 1}, \"13\": {\"5\": 31, \"3\": 22, \"13\": 40, \"2\": 16, \"4\": 33, \"0\": 20, \"7\": 17, \"14\": 13, \"11\": 10, \"8\": 38}, \"9\": {\"9\": 189, \"12\": 37, \"2\": 6, \"4\": 4, \"5\": 1, \"0\": 3}}, \"O_8\": {\"9\": {\"5\": 10, \"9\": 225, \"10\": 4, \"14\": 1}, \"11\": {\"1\": 48, \"11\": 95, \"8\": 29, \"10\": 10, \"5\": 20, \"13\": 3, \"4\": 7, \"14\": 20, \"6\": 3, \"15\": 4, \"7\": 1}, \"8\": {\"8\": 64, \"15\": 35, \"1\": 20, \"11\": 15, \"0\": 8, \"2\": 8, \"7\": 17, \"13\": 5, \"12\": 24, \"6\": 12, \"4\": 9, \"14\": 13, \"5\": 2, \"10\": 4, \"3\": 4}, \"4\": {\"4\": 32, \"14\": 31, \"10\": 21, \"7\": 30, \"0\": 27, \"6\": 26, \"13\": 23, \"11\": 7, \"15\": 5, \"5\": 13, \"8\": 7, \"1\": 13, \"2\": 3, \"3\": 2}, \"13\": {\"4\": 36, \"0\": 44, \"14\": 19, \"6\": 33, \"3\": 1, \"8\": 8, \"1\": 6, \"13\": 41, \"7\": 16, \"5\": 6, \"10\": 24, \"15\": 4, \"2\": 2}, \"14\": {\"14\": 34, \"0\": 17, \"5\": 23, \"10\": 34, \"4\": 32, \"13\": 22, \"6\": 16, \"8\": 10, \"1\": 33, \"11\": 9, \"7\": 7, \"12\": 1, \"3\": 1, \"15\": 1}, \"2\": {\"2\": 64, \"12\": 32, \"3\": 64, \"15\": 19, \"7\": 23, \"8\": 10, \"13\": 4, \"0\": 8, \"4\": 3, \"6\": 12, \"14\": 1}, \"3\": {\"3\": 86, \"2\": 65, \"12\": 35, \"8\": 9, \"15\": 25, \"6\": 6, \"7\": 6, \"0\": 5, \"10\": 1, \"13\": 2}, \"1\": {\"1\": 62, \"0\": 4, \"5\": 26, \"10\": 21, \"11\": 46, \"14\": 22, \"8\": 17, \"6\": 8, \"4\": 20, \"15\": 2, \"7\": 6, \"12\": 1, \"13\": 5}, \"0\": {\"4\": 24, \"6\": 38, \"10\": 18, \"7\": 31, \"0\": 28, \"12\": 1, \"14\": 23, \"13\": 39, \"15\": 4, \"2\": 12, \"1\": 9, \"5\": 5, \"3\": 6, \"8\": 2}, \"5\": {\"5\": 79, \"14\": 30, \"10\": 37, \"1\": 37, \"4\": 14, \"13\": 2, \"7\": 3, \"6\": 3, \"11\": 28, \"0\": 2, \"8\": 4, \"9\": 1}, \"15\": {\"4\": 5, \"12\": 44, \"3\": 26, \"2\": 16, \"15\": 61, \"1\": 2, \"7\": 24, \"8\": 33, \"6\": 16, \"0\": 5, \"10\": 2, \"14\": 4, \"13\": 2}, \"10\": {\"14\": 43, \"4\": 22, \"1\": 19, \"0\": 17, \"13\": 34, \"10\": 37, \"8\": 4, \"5\": 26, \"6\": 20, \"11\": 11, \"7\": 7}, \"12\": {\"2\": 35, \"15\": 51, \"12\": 79, \"3\": 43, \"8\": 19, \"6\": 2, \"7\": 7, \"4\": 2, \"11\": 1, \"13\": 1}, \"6\": {\"0\": 30, \"2\": 5, \"14\": 18, \"4\": 36, \"13\": 20, \"10\": 14, \"15\": 14, \"6\": 32, \"7\": 38, \"8\": 17, \"1\": 5, \"5\": 3, \"3\": 5, \"12\": 3}, \"7\": {\"4\": 21, \"0\": 32, \"1\": 3, \"2\": 18, \"13\": 21, \"3\": 10, \"10\": 11, \"14\": 17, \"7\": 44, \"8\": 9, \"12\": 9, \"15\": 14, \"6\": 31}}}, \"per_domain_accuracy\": {\"C_5\": {\"accuracy\": 0.9987779329608939, \"source?\": true}, \"C_1\": {\"accuracy\": 0.9996603260869565, \"source?\": true}, \"C_3\": {\"accuracy\": 1.0, \"source?\": true}, \"C_4\": {\"accuracy\": 0.9992469879518072, \"source?\": true}, \"C_2\": {\"accuracy\": 1.0, \"source?\": true}, \"O_26\": {\"accuracy\": 0.24427083333333333, \"source?\": false}, \"O_44\": {\"accuracy\": 0.35494791666666664, \"source?\": false}, \"O_50\": {\"accuracy\": 0.3921875, \"source?\": false}, \"O_38\": {\"accuracy\": 0.41875, \"source?\": false}, \"O_20\": {\"accuracy\": 0.1875, \"source?\": false}, \"O_14\": {\"accuracy\": 0.36875, \"source?\": false}, \"O_32\": {\"accuracy\": 0.478125, \"source?\": false}, \"O_8\": {\"accuracy\": 0.27682291666666664, \"source?\": false}}}, \"history\": {\"epoch_indices\": [1, 2, 3, 4, 5, 6, 7, 8, 9, 10, 11, 12, 13], \"train_label_loss\": [0.03220213012446405, 0.008172090171069605, 0.00586352142485281, 0.0042612553061463845, 0.0033497271637399763, 0.003847876944272665, 0.002456238672981394, 0.0036482545742246935, 0.001807394904187337, 0.0025240943496362004, 0.0018755057504368552, 0.0028823707540532135, 0.002282986976004205], \"source_val_label_loss\": [0.01430447492748499, 0.010283920913934708, 0.004579032771289349, 0.006043482571840286, 0.005225763656198978, 0.005383230280131102, 0.008259174413979053, 0.008669107221066952, 0.006077242083847523, 0.007447325624525547, 0.007163581438362598, 0.008269558660686016, 0.009927661158144474], \"target_val_label_loss\": [2.189340591430664, 2.468127965927124, 2.4288570880889893, 2.72501540184021, 3.5345394611358643, 2.787806510925293, 4.525445461273193, 3.144331932067871, 2.825578451156616, 3.4304850101470947, 5.145441055297852, 5.039883613586426, 4.2816057205200195], \"source_val_acc_label\": [0.9958571428571429, 0.9984642857142857, 0.9991785714285715, 0.9993214285714286, 0.9995714285714286, 0.9995, 0.99925, 0.9994642857142857, 0.9995357142857143, 0.9996071428571428, 0.9993928571428572, 0.9995357142857143, 0.9996785714285714], \"target_val_acc_label\": [0.28564453125, 0.28854166666666664, 0.30341796875, 0.3082356770833333, 0.26927083333333335, 0.32132161458333336, 0.2757486979166667, 0.28740234375, 0.3401692708333333, 0.33294270833333334, 0.25026041666666665, 0.25953776041666665, 0.2882161458333333]}, \"dataset_metrics\": {\"source\": {\"train\": {\"n_unique_x\": 175173, \"n_unique_y\": 58, \"n_batch/episode\": 6312}, \"val\": {\"n_unique_x\": 37151, \"n_unique_y\": 58, \"n_batch/episode\": 875}, \"test\": {\"n_unique_x\": 37548, \"n_unique_y\": 58, \"n_batch/episode\": 885}}, \"target\": {\"train\": {\"n_unique_x\": 179200, \"n_unique_y\": 16, \"n_batch/episode\": 6720}, \"val\": {\"n_unique_x\": 38400, \"n_unique_y\": 16, \"n_batch/episode\": 960}, \"test\": {\"n_unique_x\": 38400, \"n_unique_y\": 16, \"n_batch/episode\": 960}}}}'"
      ]
     },
     "execution_count": 29,
     "metadata": {},
     "output_type": "execute_result"
    }
   ],
   "source": [
    "json.dumps(experiment)"
   ]
  }
 ],
 "metadata": {
  "celltoolbar": "Tags",
  "kernelspec": {
   "display_name": "Python 3 (ipykernel)",
   "language": "python",
   "name": "python3"
  },
  "language_info": {
   "codemirror_mode": {
    "name": "ipython",
    "version": 3
   },
   "file_extension": ".py",
   "mimetype": "text/x-python",
   "name": "python",
   "nbconvert_exporter": "python",
   "pygments_lexer": "ipython3",
   "version": "3.8.10"
  },
  "papermill": {
   "default_parameters": {},
   "duration": 3857.911743,
   "end_time": "2022-03-25T19:07:59.585830",
   "environment_variables": {},
   "exception": null,
   "input_path": "/mnt/wd500GB/CSC500/csc500-main/csc500-notebooks/templates/tl_ptn_template.ipynb",
   "output_path": "trial.ipynb",
   "parameters": {
    "parameters": {
     "BEST_MODEL_PATH": "./best_model.pth",
     "NUM_LOGS_PER_EPOCH": 10,
     "criteria_for_best": "target_accuracy",
     "dataset_seed": 7,
     "datasets": [
      {
       "domain_prefix": "C_",
       "domains": [
        1,
        2,
        3,
        4,
        5
       ],
       "episode_transforms": [],
       "labels": [
        "1-10.",
        "1-11.",
        "1-15.",
        "1-16.",
        "1-17.",
        "1-18.",
        "1-19.",
        "10-4.",
        "10-7.",
        "11-1.",
        "11-14.",
        "11-17.",
        "11-20.",
        "11-7.",
        "13-20.",
        "13-8.",
        "14-10.",
        "14-11.",
        "14-14.",
        "14-7.",
        "15-1.",
        "15-20.",
        "16-1.",
        "16-16.",
        "17-10.",
        "17-11.",
        "17-2.",
        "19-1.",
        "19-16.",
        "19-19.",
        "19-20.",
        "19-3.",
        "2-10.",
        "2-11.",
        "2-17.",
        "2-18.",
        "2-20.",
        "2-3.",
        "2-4.",
        "2-5.",
        "2-6.",
        "2-7.",
        "2-8.",
        "3-13.",
        "3-18.",
        "3-3.",
        "4-1.",
        "4-10.",
        "4-11.",
        "4-19.",
        "5-5.",
        "6-15.",
        "7-10.",
        "7-14.",
        "8-18.",
        "8-20.",
        "8-3.",
        "8-8."
       ],
       "num_examples_per_domain_per_label": -1,
       "pickle_path": "/mnt/wd500GB/CSC500/csc500-main/datasets/cores.stratified_ds.2022A.pkl",
       "source_or_target_dataset": "source",
       "x_transforms": [
        "unit_power",
        "lowpass_+/-10MHz",
        "take_200"
       ]
      },
      {
       "domain_prefix": "O_",
       "domains": [
        32,
        38,
        8,
        44,
        14,
        50,
        20,
        26
       ],
       "episode_transforms": [],
       "labels": [
        "3123D52",
        "3123D65",
        "3123D79",
        "3123D80",
        "3123D54",
        "3123D70",
        "3123D7B",
        "3123D89",
        "3123D58",
        "3123D76",
        "3123D7D",
        "3123EFE",
        "3123D64",
        "3123D78",
        "3123D7E",
        "3124E4A"
       ],
       "num_examples_per_domain_per_label": 2000,
       "pickle_path": "/mnt/wd500GB/CSC500/csc500-main/datasets/oracle.Run1_framed_2000Examples_stratified_ds.2022A.pkl",
       "source_or_target_dataset": "target",
       "x_transforms": [
        "unit_power",
        "take_200",
        "resample_20Msps_to_25Msps"
       ]
      }
     ],
     "device": "cuda",
     "experiment_name": "tl_3-filterv2:cores -> oracle.run1.framed",
     "lr": 0.0001,
     "n_epoch": 50,
     "n_query": 2,
     "n_shot": 3,
     "n_way": 16,
     "patience": 3,
     "seed": 7,
     "test_k_factor": 2,
     "torch_default_dtype": "torch.float32",
     "train_k_factor": 3,
     "val_k_factor": 2,
     "x_net": [
      {
       "class": "nnReshape",
       "kargs": {
        "shape": [
         -1,
         1,
         2,
         200
        ]
       }
      },
      {
       "class": "Conv2d",
       "kargs": {
        "bias": false,
        "in_channels": 1,
        "kernel_size": [
         1,
         7
        ],
        "out_channels": 256,
        "padding": [
         0,
         3
        ]
       }
      },
      {
       "class": "ReLU",
       "kargs": {
        "inplace": true
       }
      },
      {
       "class": "BatchNorm2d",
       "kargs": {
        "num_features": 256
       }
      },
      {
       "class": "Conv2d",
       "kargs": {
        "bias": true,
        "in_channels": 256,
        "kernel_size": [
         2,
         7
        ],
        "out_channels": 80,
        "padding": [
         0,
         3
        ]
       }
      },
      {
       "class": "ReLU",
       "kargs": {
        "inplace": true
       }
      },
      {
       "class": "BatchNorm2d",
       "kargs": {
        "num_features": 80
       }
      },
      {
       "class": "Flatten",
       "kargs": {}
      },
      {
       "class": "Linear",
       "kargs": {
        "in_features": 16000,
        "out_features": 256
       }
      },
      {
       "class": "ReLU",
       "kargs": {
        "inplace": true
       }
      },
      {
       "class": "BatchNorm1d",
       "kargs": {
        "num_features": 256
       }
      },
      {
       "class": "Linear",
       "kargs": {
        "in_features": 256,
        "out_features": 256
       }
      }
     ],
     "x_shape": [
      2,
      200
     ]
    }
   },
   "start_time": "2022-03-25T18:03:41.674087",
   "version": "2.3.4"
  }
 },
 "nbformat": 4,
 "nbformat_minor": 5
}