{
 "cells": [
  {
   "cell_type": "markdown",
   "id": "9fea5f46",
   "metadata": {
    "papermill": {
     "duration": 0.016747,
     "end_time": "2022-03-25T19:08:00.374654",
     "exception": false,
     "start_time": "2022-03-25T19:08:00.357907",
     "status": "completed"
    },
    "tags": []
   },
   "source": [
    "# Transfer Learning Template"
   ]
  },
  {
   "cell_type": "code",
   "execution_count": 1,
   "id": "0902182a",
   "metadata": {
    "execution": {
     "iopub.execute_input": "2022-03-25T19:08:00.407471Z",
     "iopub.status.busy": "2022-03-25T19:08:00.407084Z",
     "iopub.status.idle": "2022-03-25T19:08:01.370362Z",
     "shell.execute_reply": "2022-03-25T19:08:01.370775Z"
    },
    "papermill": {
     "duration": 0.983613,
     "end_time": "2022-03-25T19:08:01.370973",
     "exception": false,
     "start_time": "2022-03-25T19:08:00.387360",
     "status": "completed"
    },
    "tags": []
   },
   "outputs": [],
   "source": [
    "%load_ext autoreload\n",
    "%autoreload 2\n",
    "%matplotlib inline\n",
    "\n",
    "    \n",
    "import os, json, sys, time, random\n",
    "import numpy as np\n",
    "import torch\n",
    "from torch.optim import Adam\n",
    "from  easydict import EasyDict\n",
    "import matplotlib.pyplot as plt\n",
    "\n",
    "from steves_models.steves_ptn import Steves_Prototypical_Network\n",
    "\n",
    "from steves_utils.lazy_iterable_wrapper import Lazy_Iterable_Wrapper\n",
    "from steves_utils.iterable_aggregator import Iterable_Aggregator\n",
    "from steves_utils.ptn_train_eval_test_jig import  PTN_Train_Eval_Test_Jig\n",
    "from steves_utils.torch_sequential_builder import build_sequential\n",
    "from steves_utils.torch_utils import get_dataset_metrics, ptn_confusion_by_domain_over_dataloader\n",
    "from steves_utils.utils_v2 import (per_domain_accuracy_from_confusion, get_datasets_base_path)\n",
    "from steves_utils.PTN.utils import independent_accuracy_assesment\n",
    "\n",
    "from torch.utils.data import DataLoader\n",
    "\n",
    "from steves_utils.stratified_dataset.episodic_accessor import Episodic_Accessor_Factory\n",
    "\n",
    "from steves_utils.ptn_do_report import (\n",
    "    get_loss_curve,\n",
    "    get_results_table,\n",
    "    get_parameters_table,\n",
    "    get_domain_accuracies,\n",
    ")\n",
    "\n",
    "from steves_utils.transforms import get_chained_transform"
   ]
  },
  {
   "cell_type": "markdown",
   "id": "41c840b4",
   "metadata": {
    "papermill": {
     "duration": 0.012835,
     "end_time": "2022-03-25T19:08:01.401054",
     "exception": false,
     "start_time": "2022-03-25T19:08:01.388219",
     "status": "completed"
    },
    "tags": []
   },
   "source": [
    "# Allowed Parameters\n",
    "These are allowed parameters, not defaults\n",
    "Each of these values need to be present in the injected parameters (the notebook will raise an exception if they are not present)\n",
    "\n",
    "Papermill uses the cell tag \"parameters\" to inject the real parameters below this cell.\n",
    "Enable tags to see what I mean"
   ]
  },
  {
   "cell_type": "code",
   "execution_count": 2,
   "id": "fd44eb83",
   "metadata": {
    "execution": {
     "iopub.execute_input": "2022-03-25T19:08:01.429963Z",
     "iopub.status.busy": "2022-03-25T19:08:01.429681Z",
     "iopub.status.idle": "2022-03-25T19:08:01.443575Z",
     "shell.execute_reply": "2022-03-25T19:08:01.443966Z"
    },
    "papermill": {
     "duration": 0.030176,
     "end_time": "2022-03-25T19:08:01.444096",
     "exception": false,
     "start_time": "2022-03-25T19:08:01.413920",
     "status": "completed"
    },
    "tags": []
   },
   "outputs": [],
   "source": [
    "required_parameters = {\n",
    "    \"experiment_name\",\n",
    "    \"lr\",\n",
    "    \"device\",\n",
    "    \"seed\",\n",
    "    \"dataset_seed\",\n",
    "    \"n_shot\",\n",
    "    \"n_query\",\n",
    "    \"n_way\",\n",
    "    \"train_k_factor\",\n",
    "    \"val_k_factor\",\n",
    "    \"test_k_factor\",\n",
    "    \"n_epoch\",\n",
    "    \"patience\",\n",
    "    \"criteria_for_best\",\n",
    "    \"x_net\",\n",
    "    \"datasets\",\n",
    "    \"torch_default_dtype\",\n",
    "    \"NUM_LOGS_PER_EPOCH\",\n",
    "    \"BEST_MODEL_PATH\",\n",
    "    \"x_shape\",\n",
    "}"
   ]
  },
  {
   "cell_type": "code",
   "execution_count": 3,
   "id": "fa3f0049",
   "metadata": {
    "execution": {
     "iopub.execute_input": "2022-03-25T19:08:01.484160Z",
     "iopub.status.busy": "2022-03-25T19:08:01.476557Z",
     "iopub.status.idle": "2022-03-25T19:08:01.496705Z",
     "shell.execute_reply": "2022-03-25T19:08:01.497113Z"
    },
    "papermill": {
     "duration": 0.035214,
     "end_time": "2022-03-25T19:08:01.497242",
     "exception": false,
     "start_time": "2022-03-25T19:08:01.462028",
     "status": "completed"
    },
    "tags": [
     "parameters"
    ]
   },
   "outputs": [],
   "source": [
    "from steves_utils.CORES.utils import (\n",
    "    ALL_NODES,\n",
    "    ALL_NODES_MINIMUM_1000_EXAMPLES,\n",
    "    ALL_DAYS\n",
    ")\n",
    "\n",
    "from steves_utils.ORACLE.utils_v2 import (\n",
    "    ALL_DISTANCES_FEET_NARROWED,\n",
    "    ALL_RUNS,\n",
    "    ALL_SERIAL_NUMBERS,\n",
    ")\n",
    "\n",
    "standalone_parameters = {}\n",
    "standalone_parameters[\"experiment_name\"] = \"STANDALONE PTN\"\n",
    "standalone_parameters[\"lr\"] = 0.001\n",
    "standalone_parameters[\"device\"] = \"cuda\"\n",
    "\n",
    "standalone_parameters[\"seed\"] = 1337\n",
    "standalone_parameters[\"dataset_seed\"] = 1337\n",
    "\n",
    "standalone_parameters[\"n_way\"] = 8\n",
    "standalone_parameters[\"n_shot\"] = 3\n",
    "standalone_parameters[\"n_query\"]  = 2\n",
    "standalone_parameters[\"train_k_factor\"] = 1\n",
    "standalone_parameters[\"val_k_factor\"] = 2\n",
    "standalone_parameters[\"test_k_factor\"] = 2\n",
    "\n",
    "\n",
    "standalone_parameters[\"n_epoch\"] = 50\n",
    "\n",
    "standalone_parameters[\"patience\"] = 10\n",
    "standalone_parameters[\"criteria_for_best\"] = \"source_loss\"\n",
    "\n",
    "standalone_parameters[\"datasets\"] = [\n",
    "    {\n",
    "        \"labels\": ALL_SERIAL_NUMBERS,\n",
    "        \"domains\": ALL_DISTANCES_FEET_NARROWED,\n",
    "        \"num_examples_per_domain_per_label\": 100,\n",
    "        \"pickle_path\": os.path.join(get_datasets_base_path(), \"oracle.Run1_framed_2000Examples_stratified_ds.2022A.pkl\"),\n",
    "        \"source_or_target_dataset\": \"source\",\n",
    "        \"x_transforms\": [\"unit_mag\", \"minus_two\"],\n",
    "        \"episode_transforms\": [],\n",
    "        \"domain_prefix\": \"ORACLE_\"\n",
    "    },\n",
    "    {\n",
    "        \"labels\": ALL_NODES,\n",
    "        \"domains\": ALL_DAYS,\n",
    "        \"num_examples_per_domain_per_label\": 100,\n",
    "        \"pickle_path\": os.path.join(get_datasets_base_path(), \"cores.stratified_ds.2022A.pkl\"),\n",
    "        \"source_or_target_dataset\": \"target\",\n",
    "        \"x_transforms\": [\"unit_power\", \"times_zero\"],\n",
    "        \"episode_transforms\": [],\n",
    "        \"domain_prefix\": \"CORES_\"\n",
    "    }   \n",
    "]\n",
    "\n",
    "standalone_parameters[\"torch_default_dtype\"] = \"torch.float32\" \n",
    "\n",
    "\n",
    "\n",
    "standalone_parameters[\"x_net\"] =     [\n",
    "    {\"class\": \"nnReshape\", \"kargs\": {\"shape\":[-1, 1, 2, 256]}},\n",
    "    {\"class\": \"Conv2d\", \"kargs\": { \"in_channels\":1, \"out_channels\":256, \"kernel_size\":(1,7), \"bias\":False, \"padding\":(0,3), },},\n",
    "    {\"class\": \"ReLU\", \"kargs\": {\"inplace\": True}},\n",
    "    {\"class\": \"BatchNorm2d\", \"kargs\": {\"num_features\":256}},\n",
    "\n",
    "    {\"class\": \"Conv2d\", \"kargs\": { \"in_channels\":256, \"out_channels\":80, \"kernel_size\":(2,7), \"bias\":True, \"padding\":(0,3), },},\n",
    "    {\"class\": \"ReLU\", \"kargs\": {\"inplace\": True}},\n",
    "    {\"class\": \"BatchNorm2d\", \"kargs\": {\"num_features\":80}},\n",
    "    {\"class\": \"Flatten\", \"kargs\": {}},\n",
    "\n",
    "    {\"class\": \"Linear\", \"kargs\": {\"in_features\": 80*256, \"out_features\": 256}}, # 80 units per IQ pair\n",
    "    {\"class\": \"ReLU\", \"kargs\": {\"inplace\": True}},\n",
    "    {\"class\": \"BatchNorm1d\", \"kargs\": {\"num_features\":256}},\n",
    "\n",
    "    {\"class\": \"Linear\", \"kargs\": {\"in_features\": 256, \"out_features\": 256}},\n",
    "]\n",
    "\n",
    "# Parameters relevant to results\n",
    "# These parameters will basically never need to change\n",
    "standalone_parameters[\"NUM_LOGS_PER_EPOCH\"] = 10\n",
    "standalone_parameters[\"BEST_MODEL_PATH\"] = \"./best_model.pth\"\n",
    "\n",
    "\n",
    "\n",
    "\n"
   ]
  },
  {
   "cell_type": "code",
   "execution_count": 4,
   "id": "d0b2abbf",
   "metadata": {
    "execution": {
     "iopub.execute_input": "2022-03-25T19:08:01.537903Z",
     "iopub.status.busy": "2022-03-25T19:08:01.534558Z",
     "iopub.status.idle": "2022-03-25T19:08:01.552477Z",
     "shell.execute_reply": "2022-03-25T19:08:01.552893Z"
    },
    "papermill": {
     "duration": 0.038083,
     "end_time": "2022-03-25T19:08:01.553019",
     "exception": false,
     "start_time": "2022-03-25T19:08:01.514936",
     "status": "completed"
    },
    "tags": [
     "injected-parameters"
    ]
   },
   "outputs": [],
   "source": [
    "# Parameters\n",
    "parameters = {\n",
    "    \"experiment_name\": \"tl_3-filterv2:cores -> oracle.run1.framed\",\n",
    "    \"device\": \"cuda\",\n",
    "    \"lr\": 0.0001,\n",
    "    \"x_shape\": [2, 200],\n",
    "    \"n_shot\": 3,\n",
    "    \"n_query\": 2,\n",
    "    \"train_k_factor\": 3,\n",
    "    \"val_k_factor\": 2,\n",
    "    \"test_k_factor\": 2,\n",
    "    \"torch_default_dtype\": \"torch.float32\",\n",
    "    \"n_epoch\": 50,\n",
    "    \"patience\": 3,\n",
    "    \"criteria_for_best\": \"target_accuracy\",\n",
    "    \"x_net\": [\n",
    "        {\"class\": \"nnReshape\", \"kargs\": {\"shape\": [-1, 1, 2, 200]}},\n",
    "        {\n",
    "            \"class\": \"Conv2d\",\n",
    "            \"kargs\": {\n",
    "                \"in_channels\": 1,\n",
    "                \"out_channels\": 256,\n",
    "                \"kernel_size\": [1, 7],\n",
    "                \"bias\": False,\n",
    "                \"padding\": [0, 3],\n",
    "            },\n",
    "        },\n",
    "        {\"class\": \"ReLU\", \"kargs\": {\"inplace\": True}},\n",
    "        {\"class\": \"BatchNorm2d\", \"kargs\": {\"num_features\": 256}},\n",
    "        {\n",
    "            \"class\": \"Conv2d\",\n",
    "            \"kargs\": {\n",
    "                \"in_channels\": 256,\n",
    "                \"out_channels\": 80,\n",
    "                \"kernel_size\": [2, 7],\n",
    "                \"bias\": True,\n",
    "                \"padding\": [0, 3],\n",
    "            },\n",
    "        },\n",
    "        {\"class\": \"ReLU\", \"kargs\": {\"inplace\": True}},\n",
    "        {\"class\": \"BatchNorm2d\", \"kargs\": {\"num_features\": 80}},\n",
    "        {\"class\": \"Flatten\", \"kargs\": {}},\n",
    "        {\"class\": \"Linear\", \"kargs\": {\"in_features\": 16000, \"out_features\": 256}},\n",
    "        {\"class\": \"ReLU\", \"kargs\": {\"inplace\": True}},\n",
    "        {\"class\": \"BatchNorm1d\", \"kargs\": {\"num_features\": 256}},\n",
    "        {\"class\": \"Linear\", \"kargs\": {\"in_features\": 256, \"out_features\": 256}},\n",
    "    ],\n",
    "    \"NUM_LOGS_PER_EPOCH\": 10,\n",
    "    \"BEST_MODEL_PATH\": \"./best_model.pth\",\n",
    "    \"n_way\": 16,\n",
    "    \"datasets\": [\n",
    "        {\n",
    "            \"labels\": [\n",
    "                \"1-10.\",\n",
    "                \"1-11.\",\n",
    "                \"1-15.\",\n",
    "                \"1-16.\",\n",
    "                \"1-17.\",\n",
    "                \"1-18.\",\n",
    "                \"1-19.\",\n",
    "                \"10-4.\",\n",
    "                \"10-7.\",\n",
    "                \"11-1.\",\n",
    "                \"11-14.\",\n",
    "                \"11-17.\",\n",
    "                \"11-20.\",\n",
    "                \"11-7.\",\n",
    "                \"13-20.\",\n",
    "                \"13-8.\",\n",
    "                \"14-10.\",\n",
    "                \"14-11.\",\n",
    "                \"14-14.\",\n",
    "                \"14-7.\",\n",
    "                \"15-1.\",\n",
    "                \"15-20.\",\n",
    "                \"16-1.\",\n",
    "                \"16-16.\",\n",
    "                \"17-10.\",\n",
    "                \"17-11.\",\n",
    "                \"17-2.\",\n",
    "                \"19-1.\",\n",
    "                \"19-16.\",\n",
    "                \"19-19.\",\n",
    "                \"19-20.\",\n",
    "                \"19-3.\",\n",
    "                \"2-10.\",\n",
    "                \"2-11.\",\n",
    "                \"2-17.\",\n",
    "                \"2-18.\",\n",
    "                \"2-20.\",\n",
    "                \"2-3.\",\n",
    "                \"2-4.\",\n",
    "                \"2-5.\",\n",
    "                \"2-6.\",\n",
    "                \"2-7.\",\n",
    "                \"2-8.\",\n",
    "                \"3-13.\",\n",
    "                \"3-18.\",\n",
    "                \"3-3.\",\n",
    "                \"4-1.\",\n",
    "                \"4-10.\",\n",
    "                \"4-11.\",\n",
    "                \"4-19.\",\n",
    "                \"5-5.\",\n",
    "                \"6-15.\",\n",
    "                \"7-10.\",\n",
    "                \"7-14.\",\n",
    "                \"8-18.\",\n",
    "                \"8-20.\",\n",
    "                \"8-3.\",\n",
    "                \"8-8.\",\n",
    "            ],\n",
    "            \"domains\": [1, 2, 3, 4, 5],\n",
    "            \"num_examples_per_domain_per_label\": -1,\n",
    "            \"pickle_path\": \"/mnt/wd500GB/CSC500/csc500-main/datasets/cores.stratified_ds.2022A.pkl\",\n",
    "            \"source_or_target_dataset\": \"source\",\n",
    "            \"x_transforms\": [\"lowpass_+/-10MHz\", \"take_200\"],\n",
    "            \"episode_transforms\": [],\n",
    "            \"domain_prefix\": \"C_\",\n",
    "        },\n",
    "        {\n",
    "            \"labels\": [\n",
    "                \"3123D52\",\n",
    "                \"3123D65\",\n",
    "                \"3123D79\",\n",
    "                \"3123D80\",\n",
    "                \"3123D54\",\n",
    "                \"3123D70\",\n",
    "                \"3123D7B\",\n",
    "                \"3123D89\",\n",
    "                \"3123D58\",\n",
    "                \"3123D76\",\n",
    "                \"3123D7D\",\n",
    "                \"3123EFE\",\n",
    "                \"3123D64\",\n",
    "                \"3123D78\",\n",
    "                \"3123D7E\",\n",
    "                \"3124E4A\",\n",
    "            ],\n",
    "            \"domains\": [32, 38, 8, 44, 14, 50, 20, 26],\n",
    "            \"num_examples_per_domain_per_label\": 2000,\n",
    "            \"pickle_path\": \"/mnt/wd500GB/CSC500/csc500-main/datasets/oracle.Run1_framed_2000Examples_stratified_ds.2022A.pkl\",\n",
    "            \"source_or_target_dataset\": \"target\",\n",
    "            \"x_transforms\": [\"take_200\", \"resample_20Msps_to_25Msps\"],\n",
    "            \"episode_transforms\": [],\n",
    "            \"domain_prefix\": \"O_\",\n",
    "        },\n",
    "    ],\n",
    "    \"seed\": 7,\n",
    "    \"dataset_seed\": 7,\n",
    "}\n"
   ]
  },
  {
   "cell_type": "code",
   "execution_count": 5,
   "id": "8fa1cc33",
   "metadata": {
    "execution": {
     "iopub.execute_input": "2022-03-25T19:08:01.586216Z",
     "iopub.status.busy": "2022-03-25T19:08:01.583588Z",
     "iopub.status.idle": "2022-03-25T19:08:01.601540Z",
     "shell.execute_reply": "2022-03-25T19:08:01.601929Z"
    },
    "papermill": {
     "duration": 0.032926,
     "end_time": "2022-03-25T19:08:01.602070",
     "exception": false,
     "start_time": "2022-03-25T19:08:01.569144",
     "status": "completed"
    },
    "tags": []
   },
   "outputs": [],
   "source": [
    "# Set this to True if you want to run this template directly\n",
    "STANDALONE = False\n",
    "if STANDALONE:\n",
    "    print(\"parameters not injected, running with standalone_parameters\")\n",
    "    parameters = standalone_parameters\n",
    "\n",
    "if not 'parameters' in locals() and not 'parameters' in globals():\n",
    "    raise Exception(\"Parameter injection failed\")\n",
    "\n",
    "#Use an easy dict for all the parameters\n",
    "p = EasyDict(parameters)\n",
    "\n",
    "if \"x_shape\" not in p:\n",
    "    p.x_shape = [2,256] # Default to this if we dont supply x_shape\n",
    "\n",
    "\n",
    "supplied_keys = set(p.keys())\n",
    "\n",
    "if  supplied_keys != required_parameters:\n",
    "    print(\"Parameters are incorrect\")\n",
    "    if len(supplied_keys - required_parameters)>0: print(\"Shouldn't have:\", str(supplied_keys - required_parameters))\n",
    "    if len(required_parameters - supplied_keys)>0: print(\"Need to have:\", str(required_parameters - supplied_keys))\n",
    "    raise RuntimeError(\"Parameters are incorrect\")"
   ]
  },
  {
   "cell_type": "code",
   "execution_count": 6,
   "id": "3a028d58",
   "metadata": {
    "execution": {
     "iopub.execute_input": "2022-03-25T19:08:01.635499Z",
     "iopub.status.busy": "2022-03-25T19:08:01.635231Z",
     "iopub.status.idle": "2022-03-25T19:08:01.651281Z",
     "shell.execute_reply": "2022-03-25T19:08:01.651669Z"
    },
    "papermill": {
     "duration": 0.032148,
     "end_time": "2022-03-25T19:08:01.651801",
     "exception": false,
     "start_time": "2022-03-25T19:08:01.619653",
     "status": "completed"
    },
    "tags": []
   },
   "outputs": [],
   "source": [
    "###################################\n",
    "# Set the RNGs and make it all deterministic\n",
    "###################################\n",
    "np.random.seed(p.seed)\n",
    "random.seed(p.seed)\n",
    "torch.manual_seed(p.seed)\n",
    "\n",
    "torch.use_deterministic_algorithms(True) "
   ]
  },
  {
   "cell_type": "code",
   "execution_count": 7,
   "id": "b691acf6",
   "metadata": {
    "execution": {
     "iopub.execute_input": "2022-03-25T19:08:01.685642Z",
     "iopub.status.busy": "2022-03-25T19:08:01.685373Z",
     "iopub.status.idle": "2022-03-25T19:08:01.700391Z",
     "shell.execute_reply": "2022-03-25T19:08:01.700795Z"
    },
    "papermill": {
     "duration": 0.030511,
     "end_time": "2022-03-25T19:08:01.700918",
     "exception": false,
     "start_time": "2022-03-25T19:08:01.670407",
     "status": "completed"
    },
    "tags": []
   },
   "outputs": [],
   "source": [
    "###########################################\n",
    "# The stratified datasets honor this\n",
    "###########################################\n",
    "torch.set_default_dtype(eval(p.torch_default_dtype))"
   ]
  },
  {
   "cell_type": "code",
   "execution_count": 8,
   "id": "b5fba671",
   "metadata": {
    "execution": {
     "iopub.execute_input": "2022-03-25T19:08:01.734747Z",
     "iopub.status.busy": "2022-03-25T19:08:01.734480Z",
     "iopub.status.idle": "2022-03-25T19:08:01.770265Z",
     "shell.execute_reply": "2022-03-25T19:08:01.770663Z"
    },
    "papermill": {
     "duration": 0.051741,
     "end_time": "2022-03-25T19:08:01.770802",
     "exception": false,
     "start_time": "2022-03-25T19:08:01.719061",
     "status": "completed"
    },
    "tags": []
   },
   "outputs": [],
   "source": [
    "###################################\n",
    "# Build the network(s)\n",
    "# Note: It's critical to do this AFTER setting the RNG\n",
    "###################################\n",
    "x_net = build_sequential(p.x_net)"
   ]
  },
  {
   "cell_type": "code",
   "execution_count": 9,
   "id": "5d7e61cc",
   "metadata": {
    "execution": {
     "iopub.execute_input": "2022-03-25T19:08:01.805812Z",
     "iopub.status.busy": "2022-03-25T19:08:01.805542Z",
     "iopub.status.idle": "2022-03-25T19:08:01.816736Z",
     "shell.execute_reply": "2022-03-25T19:08:01.817030Z"
    },
    "papermill": {
     "duration": 0.026544,
     "end_time": "2022-03-25T19:08:01.817130",
     "exception": false,
     "start_time": "2022-03-25T19:08:01.790586",
     "status": "completed"
    },
    "tags": []
   },
   "outputs": [],
   "source": [
    "start_time_secs = time.time()"
   ]
  },
  {
   "cell_type": "code",
   "execution_count": 10,
   "id": "c6b67dfd",
   "metadata": {
    "execution": {
     "iopub.execute_input": "2022-03-25T19:08:01.850871Z",
     "iopub.status.busy": "2022-03-25T19:08:01.850598Z",
     "iopub.status.idle": "2022-03-25T19:08:01.861927Z",
     "shell.execute_reply": "2022-03-25T19:08:01.862336Z"
    },
    "papermill": {
     "duration": 0.027008,
     "end_time": "2022-03-25T19:08:01.862464",
     "exception": false,
     "start_time": "2022-03-25T19:08:01.835456",
     "status": "completed"
    },
    "tags": []
   },
   "outputs": [],
   "source": [
    "p.domains_source = []\n",
    "p.domains_target = []\n",
    "\n",
    "\n",
    "train_original_source = []\n",
    "val_original_source   = []\n",
    "test_original_source  = []\n",
    "\n",
    "train_original_target = []\n",
    "val_original_target   = []\n",
    "test_original_target  = []"
   ]
  },
  {
   "cell_type": "code",
   "execution_count": 11,
   "id": "e3d9c3d3",
   "metadata": {
    "execution": {
     "iopub.execute_input": "2022-03-25T19:08:01.895413Z",
     "iopub.status.busy": "2022-03-25T19:08:01.894991Z",
     "iopub.status.idle": "2022-03-25T19:08:01.911872Z",
     "shell.execute_reply": "2022-03-25T19:08:01.911420Z"
    },
    "papermill": {
     "duration": 0.031736,
     "end_time": "2022-03-25T19:08:01.911973",
     "exception": false,
     "start_time": "2022-03-25T19:08:01.880237",
     "status": "completed"
    },
    "tags": []
   },
   "outputs": [],
   "source": [
    "# global_x_transform_func = lambda x: normalize(x.to(torch.get_default_dtype()), \"unit_power\") # unit_power, unit_mag\n",
    "# global_x_transform_func = lambda x: normalize(x, \"unit_power\") # unit_power, unit_mag"
   ]
  },
  {
   "cell_type": "code",
   "execution_count": 12,
   "id": "acb78fd2",
   "metadata": {
    "execution": {
     "iopub.execute_input": "2022-03-25T19:08:01.950743Z",
     "iopub.status.busy": "2022-03-25T19:08:01.950475Z",
     "iopub.status.idle": "2022-03-25T19:08:01.964852Z",
     "shell.execute_reply": "2022-03-25T19:08:01.964418Z"
    },
    "papermill": {
     "duration": 0.035681,
     "end_time": "2022-03-25T19:08:01.964955",
     "exception": false,
     "start_time": "2022-03-25T19:08:01.929274",
     "status": "completed"
    },
    "tags": []
   },
   "outputs": [],
   "source": [
    "def add_dataset(\n",
    "    labels,\n",
    "    domains,\n",
    "    pickle_path,\n",
    "    x_transforms,\n",
    "    episode_transforms,\n",
    "    domain_prefix,\n",
    "    num_examples_per_domain_per_label,\n",
    "    source_or_target_dataset:str,\n",
    "    iterator_seed=p.seed,\n",
    "    dataset_seed=p.dataset_seed,\n",
    "    n_shot=p.n_shot,\n",
    "    n_way=p.n_way,\n",
    "    n_query=p.n_query,\n",
    "    train_val_test_k_factors=(p.train_k_factor,p.val_k_factor,p.test_k_factor),\n",
    "):\n",
    "   \n",
    "    if x_transforms == []: x_transform = None\n",
    "    else: x_transform = get_chained_transform(x_transforms)\n",
    "    \n",
    "    if episode_transforms == []: episode_transform = None\n",
    "    else: raise Exception(\"episode_transforms not implemented\")\n",
    "    \n",
    "    episode_transform = lambda tup, _prefix=domain_prefix: (_prefix + str(tup[0]), tup[1])\n",
    "\n",
    "\n",
    "    eaf = Episodic_Accessor_Factory(\n",
    "        labels=labels,\n",
    "        domains=domains,\n",
    "        num_examples_per_domain_per_label=num_examples_per_domain_per_label,\n",
    "        iterator_seed=iterator_seed,\n",
    "        dataset_seed=dataset_seed,\n",
    "        n_shot=n_shot,\n",
    "        n_way=n_way,\n",
    "        n_query=n_query,\n",
    "        train_val_test_k_factors=train_val_test_k_factors,\n",
    "        pickle_path=pickle_path,\n",
    "        x_transform_func=x_transform,\n",
    "    )\n",
    "\n",
    "    train, val, test = eaf.get_train(), eaf.get_val(), eaf.get_test()\n",
    "    train = Lazy_Iterable_Wrapper(train, episode_transform)\n",
    "    val = Lazy_Iterable_Wrapper(val, episode_transform)\n",
    "    test = Lazy_Iterable_Wrapper(test, episode_transform)\n",
    "\n",
    "    if source_or_target_dataset==\"source\":\n",
    "        train_original_source.append(train)\n",
    "        val_original_source.append(val)\n",
    "        test_original_source.append(test)\n",
    "\n",
    "        p.domains_source.extend(\n",
    "            [domain_prefix + str(u) for u in domains]\n",
    "        )\n",
    "    elif source_or_target_dataset==\"target\":\n",
    "        train_original_target.append(train)\n",
    "        val_original_target.append(val)\n",
    "        test_original_target.append(test)\n",
    "        p.domains_target.extend(\n",
    "            [domain_prefix + str(u) for u in domains]\n",
    "        )\n",
    "    else:\n",
    "        raise Exception(f\"invalid source_or_target_dataset: {source_or_target_dataset}\")\n",
    "    "
   ]
  },
  {
   "cell_type": "code",
   "execution_count": 13,
   "id": "fe266617",
   "metadata": {
    "execution": {
     "iopub.execute_input": "2022-03-25T19:08:01.999389Z",
     "iopub.status.busy": "2022-03-25T19:08:01.999134Z",
     "iopub.status.idle": "2022-03-25T19:08:20.744447Z",
     "shell.execute_reply": "2022-03-25T19:08:20.743991Z"
    },
    "papermill": {
     "duration": 18.76132,
     "end_time": "2022-03-25T19:08:20.744566",
     "exception": false,
     "start_time": "2022-03-25T19:08:01.983246",
     "status": "completed"
    },
    "tags": []
   },
   "outputs": [],
   "source": [
    "for ds in p.datasets:\n",
    "    add_dataset(**ds)"
   ]
  },
  {
   "cell_type": "code",
   "execution_count": 14,
   "id": "b90d65ac",
   "metadata": {
    "execution": {
     "iopub.execute_input": "2022-03-25T19:08:20.780622Z",
     "iopub.status.busy": "2022-03-25T19:08:20.780354Z",
     "iopub.status.idle": "2022-03-25T19:08:20.791942Z",
     "shell.execute_reply": "2022-03-25T19:08:20.791591Z"
    },
    "papermill": {
     "duration": 0.027874,
     "end_time": "2022-03-25T19:08:20.792028",
     "exception": false,
     "start_time": "2022-03-25T19:08:20.764154",
     "status": "completed"
    },
    "tags": []
   },
   "outputs": [],
   "source": [
    "# from steves_utils.CORES.utils import (\n",
    "#     ALL_NODES,\n",
    "#     ALL_NODES_MINIMUM_1000_EXAMPLES,\n",
    "#     ALL_DAYS\n",
    "# )\n",
    "\n",
    "# add_dataset(\n",
    "#     labels=ALL_NODES,\n",
    "#     domains = ALL_DAYS,\n",
    "#     num_examples_per_domain_per_label=100,\n",
    "#     pickle_path=os.path.join(get_datasets_base_path(), \"cores.stratified_ds.2022A.pkl\"),\n",
    "#     source_or_target_dataset=\"target\",\n",
    "#     x_transform_func=global_x_transform_func,\n",
    "#     domain_modifier=lambda u: f\"cores_{u}\"\n",
    "# )"
   ]
  },
  {
   "cell_type": "code",
   "execution_count": 15,
   "id": "76db484d",
   "metadata": {
    "execution": {
     "iopub.execute_input": "2022-03-25T19:08:20.827292Z",
     "iopub.status.busy": "2022-03-25T19:08:20.827029Z",
     "iopub.status.idle": "2022-03-25T19:08:20.838358Z",
     "shell.execute_reply": "2022-03-25T19:08:20.837920Z"
    },
    "papermill": {
     "duration": 0.027079,
     "end_time": "2022-03-25T19:08:20.838470",
     "exception": false,
     "start_time": "2022-03-25T19:08:20.811391",
     "status": "completed"
    },
    "tags": []
   },
   "outputs": [],
   "source": [
    "# from steves_utils.ORACLE.utils_v2 import (\n",
    "#     ALL_DISTANCES_FEET,\n",
    "#     ALL_RUNS,\n",
    "#     ALL_SERIAL_NUMBERS,\n",
    "# )\n",
    "\n",
    "\n",
    "# add_dataset(\n",
    "#     labels=ALL_SERIAL_NUMBERS,\n",
    "#     domains = list(set(ALL_DISTANCES_FEET) - {2,62}),\n",
    "#     num_examples_per_domain_per_label=100,\n",
    "#     pickle_path=os.path.join(get_datasets_base_path(), \"oracle.Run2_framed_2000Examples_stratified_ds.2022A.pkl\"),\n",
    "#     source_or_target_dataset=\"source\",\n",
    "#     x_transform_func=global_x_transform_func,\n",
    "#     domain_modifier=lambda u: f\"oracle1_{u}\"\n",
    "# )\n"
   ]
  },
  {
   "cell_type": "code",
   "execution_count": 16,
   "id": "97dea9d2",
   "metadata": {
    "execution": {
     "iopub.execute_input": "2022-03-25T19:08:20.872310Z",
     "iopub.status.busy": "2022-03-25T19:08:20.872052Z",
     "iopub.status.idle": "2022-03-25T19:08:20.882369Z",
     "shell.execute_reply": "2022-03-25T19:08:20.882024Z"
    },
    "papermill": {
     "duration": 0.02589,
     "end_time": "2022-03-25T19:08:20.882454",
     "exception": false,
     "start_time": "2022-03-25T19:08:20.856564",
     "status": "completed"
    },
    "tags": []
   },
   "outputs": [],
   "source": [
    "# from steves_utils.ORACLE.utils_v2 import (\n",
    "#     ALL_DISTANCES_FEET,\n",
    "#     ALL_RUNS,\n",
    "#     ALL_SERIAL_NUMBERS,\n",
    "# )\n",
    "\n",
    "\n",
    "# add_dataset(\n",
    "#     labels=ALL_SERIAL_NUMBERS,\n",
    "#     domains = list(set(ALL_DISTANCES_FEET) - {2,62,56}),\n",
    "#     num_examples_per_domain_per_label=100,\n",
    "#     pickle_path=os.path.join(get_datasets_base_path(), \"oracle.Run2_framed_2000Examples_stratified_ds.2022A.pkl\"),\n",
    "#     source_or_target_dataset=\"source\",\n",
    "#     x_transform_func=global_x_transform_func,\n",
    "#     domain_modifier=lambda u: f\"oracle2_{u}\"\n",
    "# )"
   ]
  },
  {
   "cell_type": "code",
   "execution_count": 17,
   "id": "6f289866",
   "metadata": {
    "execution": {
     "iopub.execute_input": "2022-03-25T19:08:20.913742Z",
     "iopub.status.busy": "2022-03-25T19:08:20.913390Z",
     "iopub.status.idle": "2022-03-25T19:08:20.924232Z",
     "shell.execute_reply": "2022-03-25T19:08:20.923900Z"
    },
    "papermill": {
     "duration": 0.026087,
     "end_time": "2022-03-25T19:08:20.924320",
     "exception": false,
     "start_time": "2022-03-25T19:08:20.898233",
     "status": "completed"
    },
    "tags": []
   },
   "outputs": [],
   "source": [
    "# add_dataset(\n",
    "#     labels=list(range(19)),\n",
    "#     domains = [0,1,2],\n",
    "#     num_examples_per_domain_per_label=100,\n",
    "#     pickle_path=os.path.join(get_datasets_base_path(), \"metehan.stratified_ds.2022A.pkl\"),\n",
    "#     source_or_target_dataset=\"target\",\n",
    "#     x_transform_func=global_x_transform_func,\n",
    "#     domain_modifier=lambda u: f\"met_{u}\"\n",
    "# )"
   ]
  },
  {
   "cell_type": "code",
   "execution_count": 18,
   "id": "86a863c3",
   "metadata": {
    "execution": {
     "iopub.execute_input": "2022-03-25T19:08:20.968205Z",
     "iopub.status.busy": "2022-03-25T19:08:20.959832Z",
     "iopub.status.idle": "2022-03-25T19:08:20.974325Z",
     "shell.execute_reply": "2022-03-25T19:08:20.974708Z"
    },
    "papermill": {
     "duration": 0.031467,
     "end_time": "2022-03-25T19:08:20.974839",
     "exception": false,
     "start_time": "2022-03-25T19:08:20.943372",
     "status": "completed"
    },
    "tags": []
   },
   "outputs": [],
   "source": [
    "# # from steves_utils.wisig.utils import (\n",
    "# #     ALL_NODES_MINIMUM_100_EXAMPLES,\n",
    "# #     ALL_NODES_MINIMUM_500_EXAMPLES,\n",
    "# #     ALL_NODES_MINIMUM_1000_EXAMPLES,\n",
    "# #     ALL_DAYS\n",
    "# # )\n",
    "\n",
    "# import steves_utils.wisig.utils as wisig\n",
    "\n",
    "\n",
    "# add_dataset(\n",
    "#     labels=wisig.ALL_NODES_MINIMUM_100_EXAMPLES,\n",
    "#     domains = wisig.ALL_DAYS,\n",
    "#     num_examples_per_domain_per_label=100,\n",
    "#     pickle_path=os.path.join(get_datasets_base_path(), \"wisig.node3-19.stratified_ds.2022A.pkl\"),\n",
    "#     source_or_target_dataset=\"target\",\n",
    "#     x_transform_func=global_x_transform_func,\n",
    "#     domain_modifier=lambda u: f\"wisig_{u}\"\n",
    "# )"
   ]
  },
  {
   "cell_type": "code",
   "execution_count": 19,
   "id": "fd5442bc",
   "metadata": {
    "execution": {
     "iopub.execute_input": "2022-03-25T19:08:21.014714Z",
     "iopub.status.busy": "2022-03-25T19:08:21.014439Z",
     "iopub.status.idle": "2022-03-25T19:08:21.028422Z",
     "shell.execute_reply": "2022-03-25T19:08:21.027933Z"
    },
    "papermill": {
     "duration": 0.033271,
     "end_time": "2022-03-25T19:08:21.028527",
     "exception": false,
     "start_time": "2022-03-25T19:08:20.995256",
     "status": "completed"
    },
    "tags": []
   },
   "outputs": [],
   "source": [
    "###################################\n",
    "# Build the dataset\n",
    "###################################\n",
    "train_original_source = Iterable_Aggregator(train_original_source, p.seed)\n",
    "val_original_source = Iterable_Aggregator(val_original_source, p.seed)\n",
    "test_original_source = Iterable_Aggregator(test_original_source, p.seed)\n",
    "\n",
    "\n",
    "train_original_target = Iterable_Aggregator(train_original_target, p.seed)\n",
    "val_original_target = Iterable_Aggregator(val_original_target, p.seed)\n",
    "test_original_target = Iterable_Aggregator(test_original_target, p.seed)\n",
    "\n",
    "# For CNN We only use X and Y. And we only train on the source.\n",
    "# Properly form the data using a transform lambda and Lazy_Iterable_Wrapper. Finally wrap them in a dataloader\n",
    "\n",
    "transform_lambda = lambda ex: ex[1] # Original is (<domain>, <episode>) so we strip down to episode only\n",
    "\n",
    "train_processed_source = Lazy_Iterable_Wrapper(train_original_source, transform_lambda)\n",
    "val_processed_source   = Lazy_Iterable_Wrapper(val_original_source, transform_lambda)\n",
    "test_processed_source  = Lazy_Iterable_Wrapper(test_original_source, transform_lambda)\n",
    "\n",
    "train_processed_target = Lazy_Iterable_Wrapper(train_original_target, transform_lambda)\n",
    "val_processed_target   = Lazy_Iterable_Wrapper(val_original_target, transform_lambda)\n",
    "test_processed_target  = Lazy_Iterable_Wrapper(test_original_target, transform_lambda)\n",
    "\n",
    "datasets = EasyDict({\n",
    "    \"source\": {\n",
    "        \"original\": {\"train\":train_original_source, \"val\":val_original_source, \"test\":test_original_source},\n",
    "        \"processed\": {\"train\":train_processed_source, \"val\":val_processed_source, \"test\":test_processed_source}\n",
    "    },\n",
    "    \"target\": {\n",
    "        \"original\": {\"train\":train_original_target, \"val\":val_original_target, \"test\":test_original_target},\n",
    "        \"processed\": {\"train\":train_processed_target, \"val\":val_processed_target, \"test\":test_processed_target}\n",
    "    },\n",
    "})"
   ]
  },
  {
   "cell_type": "code",
   "execution_count": 20,
   "id": "5b3c01fc",
   "metadata": {
    "execution": {
     "iopub.execute_input": "2022-03-25T19:08:21.066118Z",
     "iopub.status.busy": "2022-03-25T19:08:21.065836Z",
     "iopub.status.idle": "2022-03-25T19:08:28.058574Z",
     "shell.execute_reply": "2022-03-25T19:08:28.058887Z"
    },
    "papermill": {
     "duration": 7.01058,
     "end_time": "2022-03-25T19:08:28.058995",
     "exception": false,
     "start_time": "2022-03-25T19:08:21.048415",
     "status": "completed"
    },
    "tags": []
   },
   "outputs": [
    {
     "name": "stdout",
     "output_type": "stream",
     "text": [
      "{'C_5', 'C_4', 'C_1', 'C_3', 'C_2'}\n"
     ]
    },
    {
     "name": "stdout",
     "output_type": "stream",
     "text": [
      "{'O_14', 'O_44', 'O_8', 'O_20', 'O_50', 'O_26', 'O_32', 'O_38'}\n"
     ]
    },
    {
     "name": "stdout",
     "output_type": "stream",
     "text": [
      "tensor([[[ 1.1161e-04,  6.2959e-04,  1.6600e-03,  ...,  6.0954e-02,\n",
      "           2.8924e-02, -1.3718e-02],\n",
      "         [ 7.7842e-04,  3.5482e-03,  4.1583e-04,  ..., -1.3748e-02,\n",
      "           4.1273e-03,  4.6509e-02]],\n",
      "\n",
      "        [[ 1.0595e-04,  5.9564e-04, -3.1322e-04,  ..., -2.4689e-02,\n",
      "          -4.4155e-02,  1.7033e-02],\n",
      "         [-6.3997e-04, -3.9115e-03, -7.0832e-03,  ..., -3.9600e-02,\n",
      "          -1.7334e-02, -2.7425e-02]],\n",
      "\n",
      "        [[-3.8850e-04, -3.2977e-03, -8.8902e-03,  ..., -4.4270e-02,\n",
      "           4.0181e-02, -3.6943e-03],\n",
      "         [ 5.1706e-04,  3.6053e-03,  9.2317e-03,  ...,  4.4874e-02,\n",
      "           7.2825e-02,  3.5265e-02]],\n",
      "\n",
      "        ...,\n",
      "\n",
      "        [[-1.8083e-04, -1.1614e-03, -2.2363e-03,  ..., -1.6961e-02,\n",
      "          -5.2030e-03,  3.0600e-03],\n",
      "         [-2.8255e-06, -4.1395e-04, -2.5008e-03,  ...,  7.8000e-03,\n",
      "           1.0723e-02,  2.5367e-03]],\n",
      "\n",
      "        [[ 1.7377e-04,  1.3068e-03,  3.4045e-03,  ...,  5.8826e-03,\n",
      "          -4.0356e-03, -4.7251e-03],\n",
      "         [-1.2432e-04, -4.2909e-04,  7.4267e-04,  ..., -1.7902e-02,\n",
      "          -1.0823e-02,  1.8620e-03]],\n",
      "\n",
      "        [[-7.3462e-05, -5.1767e-04, -9.7761e-04,  ..., -1.2152e-02,\n",
      "          -1.6789e-02, -8.9116e-03],\n",
      "         [ 2.6842e-05, -7.0414e-05, -1.2066e-03,  ..., -1.7375e-02,\n",
      "          -3.7879e-03,  3.8280e-03]]])\n"
     ]
    }
   ],
   "source": [
    "from steves_utils.transforms import get_average_magnitude, get_average_power\n",
    "\n",
    "print(set([u for u,_ in val_original_source]))\n",
    "print(set([u for u,_ in val_original_target]))\n",
    "\n",
    "s_x, s_y, q_x, q_y, _ = next(iter(train_processed_source))\n",
    "print(s_x)\n",
    "\n",
    "# for ds in [\n",
    "#     train_processed_source,\n",
    "#     val_processed_source,\n",
    "#     test_processed_source,\n",
    "#     train_processed_target,\n",
    "#     val_processed_target,\n",
    "#     test_processed_target\n",
    "# ]:\n",
    "#     for s_x, s_y, q_x, q_y, _ in ds:\n",
    "#         for X in (s_x, q_x):\n",
    "#             for x in X:\n",
    "#                 assert np.isclose(get_average_magnitude(x.numpy()), 1.0)\n",
    "#                 assert np.isclose(get_average_power(x.numpy()), 1.0)\n",
    "                "
   ]
  },
  {
   "cell_type": "code",
   "execution_count": 21,
   "id": "bbdacba1",
   "metadata": {
    "execution": {
     "iopub.execute_input": "2022-03-25T19:08:28.096164Z",
     "iopub.status.busy": "2022-03-25T19:08:28.095892Z",
     "iopub.status.idle": "2022-03-25T19:08:28.146074Z",
     "shell.execute_reply": "2022-03-25T19:08:28.145533Z"
    },
    "papermill": {
     "duration": 0.069033,
     "end_time": "2022-03-25T19:08:28.146186",
     "exception": false,
     "start_time": "2022-03-25T19:08:28.077153",
     "status": "completed"
    },
    "tags": []
   },
   "outputs": [
    {
     "name": "stdout",
     "output_type": "stream",
     "text": [
      "(2, 200)\n"
     ]
    }
   ],
   "source": [
    "###################################\n",
    "# Build the model\n",
    "###################################\n",
    "# easfsl only wants a tuple for the shape\n",
    "model = Steves_Prototypical_Network(x_net, device=p.device, x_shape=tuple(p.x_shape))\n",
    "optimizer = Adam(params=model.parameters(), lr=p.lr)"
   ]
  },
  {
   "cell_type": "code",
   "execution_count": 22,
   "id": "22b39ac5",
   "metadata": {
    "execution": {
     "iopub.execute_input": "2022-03-25T19:08:28.184323Z",
     "iopub.status.busy": "2022-03-25T19:08:28.184053Z",
     "iopub.status.idle": "2022-03-25T20:04:32.478971Z",
     "shell.execute_reply": "2022-03-25T20:04:32.478732Z"
    },
    "papermill": {
     "duration": 3364.312389,
     "end_time": "2022-03-25T20:04:32.479034",
     "exception": false,
     "start_time": "2022-03-25T19:08:28.166645",
     "status": "completed"
    },
    "tags": []
   },
   "outputs": [
    {
     "name": "stdout",
     "output_type": "stream",
     "text": [
      "epoch: 1, [batch: 1 / 6316], examples_per_second: 45.9446, train_label_loss: 2.0315, \n"
     ]
    },
    {
     "name": "stdout",
     "output_type": "stream",
     "text": [
      "epoch: 1, [batch: 632 / 6316], examples_per_second: 1867.2915, train_label_loss: 0.0300, \n"
     ]
    },
    {
     "name": "stdout",
     "output_type": "stream",
     "text": [
      "epoch: 1, [batch: 1264 / 6316], examples_per_second: 1865.4141, train_label_loss: 0.0086, \n"
     ]
    },
    {
     "name": "stdout",
     "output_type": "stream",
     "text": [
      "epoch: 1, [batch: 1895 / 6316], examples_per_second: 1864.0432, train_label_loss: 0.0047, \n"
     ]
    },
    {
     "name": "stdout",
     "output_type": "stream",
     "text": [
      "epoch: 1, [batch: 2527 / 6316], examples_per_second: 2124.9864, train_label_loss: 0.0057, \n"
     ]
    },
    {
     "name": "stdout",
     "output_type": "stream",
     "text": [
      "epoch: 1, [batch: 3158 / 6316], examples_per_second: 2411.8885, train_label_loss: 0.0011, \n"
     ]
    },
    {
     "name": "stdout",
     "output_type": "stream",
     "text": [
      "epoch: 1, [batch: 3790 / 6316], examples_per_second: 1864.2867, train_label_loss: 0.0000, \n"
     ]
    },
    {
     "name": "stdout",
     "output_type": "stream",
     "text": [
      "epoch: 1, [batch: 4421 / 6316], examples_per_second: 1861.4123, train_label_loss: 0.0139, \n"
     ]
    },
    {
     "name": "stdout",
     "output_type": "stream",
     "text": [
      "epoch: 1, [batch: 5053 / 6316], examples_per_second: 1863.1426, train_label_loss: 0.0550, \n"
     ]
    },
    {
     "name": "stdout",
     "output_type": "stream",
     "text": [
      "epoch: 1, [batch: 5684 / 6316], examples_per_second: 1869.0570, train_label_loss: 0.0027, \n"
     ]
    },
    {
     "name": "stdout",
     "output_type": "stream",
     "text": [
      "=============================================================\n",
      "epoch: 1, source_val_acc_label: 0.9964, target_val_acc_label: 0.4213, source_val_label_loss: 0.0140, target_val_label_loss: 2.0586, \n",
      "=============================================================\n"
     ]
    },
    {
     "name": "stdout",
     "output_type": "stream",
     "text": [
      "New best\n"
     ]
    },
    {
     "name": "stdout",
     "output_type": "stream",
     "text": [
      "epoch: 2, [batch: 1 / 6296], examples_per_second: 2.7942, train_label_loss: 0.0043, \n"
     ]
    },
    {
     "name": "stdout",
     "output_type": "stream",
     "text": [
      "epoch: 2, [batch: 630 / 6296], examples_per_second: 1865.7443, train_label_loss: 0.0026, \n"
     ]
    },
    {
     "name": "stdout",
     "output_type": "stream",
     "text": [
      "epoch: 2, [batch: 1260 / 6296], examples_per_second: 1866.9683, train_label_loss: 0.0001, \n"
     ]
    },
    {
     "name": "stdout",
     "output_type": "stream",
     "text": [
      "epoch: 2, [batch: 1889 / 6296], examples_per_second: 1867.3545, train_label_loss: 0.0017, \n"
     ]
    },
    {
     "name": "stdout",
     "output_type": "stream",
     "text": [
      "epoch: 2, [batch: 2519 / 6296], examples_per_second: 2144.2679, train_label_loss: 0.0010, \n"
     ]
    },
    {
     "name": "stdout",
     "output_type": "stream",
     "text": [
      "epoch: 2, [batch: 3148 / 6296], examples_per_second: 2388.8862, train_label_loss: 0.0021, \n"
     ]
    },
    {
     "name": "stdout",
     "output_type": "stream",
     "text": [
      "epoch: 2, [batch: 3778 / 6296], examples_per_second: 1867.1706, train_label_loss: 0.0002, \n"
     ]
    },
    {
     "name": "stdout",
     "output_type": "stream",
     "text": [
      "epoch: 2, [batch: 4407 / 6296], examples_per_second: 1863.2002, train_label_loss: 0.0000, \n"
     ]
    },
    {
     "name": "stdout",
     "output_type": "stream",
     "text": [
      "epoch: 2, [batch: 5037 / 6296], examples_per_second: 1868.0326, train_label_loss: 0.2792, \n"
     ]
    },
    {
     "name": "stdout",
     "output_type": "stream",
     "text": [
      "epoch: 2, [batch: 5666 / 6296], examples_per_second: 1871.2082, train_label_loss: 0.0000, \n"
     ]
    },
    {
     "name": "stdout",
     "output_type": "stream",
     "text": [
      "=============================================================\n",
      "epoch: 2, source_val_acc_label: 0.9965, target_val_acc_label: 0.4228, source_val_label_loss: 0.0199, target_val_label_loss: 1.7545, \n",
      "=============================================================\n"
     ]
    },
    {
     "name": "stdout",
     "output_type": "stream",
     "text": [
      "New best\n"
     ]
    },
    {
     "name": "stdout",
     "output_type": "stream",
     "text": [
      "epoch: 3, [batch: 1 / 6299], examples_per_second: 2.8006, train_label_loss: 2.3514, \n"
     ]
    },
    {
     "name": "stdout",
     "output_type": "stream",
     "text": [
      "epoch: 3, [batch: 630 / 6299], examples_per_second: 1867.2442, train_label_loss: 0.0710, \n"
     ]
    },
    {
     "name": "stdout",
     "output_type": "stream",
     "text": [
      "epoch: 3, [batch: 1260 / 6299], examples_per_second: 1865.9665, train_label_loss: 0.0000, \n"
     ]
    },
    {
     "name": "stdout",
     "output_type": "stream",
     "text": [
      "epoch: 3, [batch: 1890 / 6299], examples_per_second: 1867.7197, train_label_loss: 0.0000, \n"
     ]
    },
    {
     "name": "stdout",
     "output_type": "stream",
     "text": [
      "epoch: 3, [batch: 2520 / 6299], examples_per_second: 2185.9175, train_label_loss: 0.0005, \n"
     ]
    },
    {
     "name": "stdout",
     "output_type": "stream",
     "text": [
      "epoch: 3, [batch: 3150 / 6299], examples_per_second: 2381.5036, train_label_loss: 0.0000, \n"
     ]
    },
    {
     "name": "stdout",
     "output_type": "stream",
     "text": [
      "epoch: 3, [batch: 3779 / 6299], examples_per_second: 1867.8999, train_label_loss: 0.0006, \n"
     ]
    },
    {
     "name": "stdout",
     "output_type": "stream",
     "text": [
      "epoch: 3, [batch: 4409 / 6299], examples_per_second: 1861.2947, train_label_loss: 0.0000, \n"
     ]
    },
    {
     "name": "stdout",
     "output_type": "stream",
     "text": [
      "epoch: 3, [batch: 5039 / 6299], examples_per_second: 1865.6890, train_label_loss: 0.0001, \n"
     ]
    },
    {
     "name": "stdout",
     "output_type": "stream",
     "text": [
      "epoch: 3, [batch: 5669 / 6299], examples_per_second: 1870.6306, train_label_loss: 0.0001, \n"
     ]
    },
    {
     "name": "stdout",
     "output_type": "stream",
     "text": [
      "=============================================================\n",
      "epoch: 3, source_val_acc_label: 0.9964, target_val_acc_label: 0.4411, source_val_label_loss: 0.0319, target_val_label_loss: 1.9977, \n",
      "=============================================================\n"
     ]
    },
    {
     "name": "stdout",
     "output_type": "stream",
     "text": [
      "New best\n"
     ]
    },
    {
     "name": "stdout",
     "output_type": "stream",
     "text": [
      "epoch: 4, [batch: 1 / 6316], examples_per_second: 2.8099, train_label_loss: 0.0029, \n"
     ]
    },
    {
     "name": "stdout",
     "output_type": "stream",
     "text": [
      "epoch: 4, [batch: 632 / 6316], examples_per_second: 1868.2223, train_label_loss: 0.1291, \n"
     ]
    },
    {
     "name": "stdout",
     "output_type": "stream",
     "text": [
      "epoch: 4, [batch: 1264 / 6316], examples_per_second: 1866.7270, train_label_loss: 0.0020, \n"
     ]
    },
    {
     "name": "stdout",
     "output_type": "stream",
     "text": [
      "epoch: 4, [batch: 1895 / 6316], examples_per_second: 1866.7491, train_label_loss: 0.0000, \n"
     ]
    },
    {
     "name": "stdout",
     "output_type": "stream",
     "text": [
      "epoch: 4, [batch: 2527 / 6316], examples_per_second: 2160.8286, train_label_loss: 0.0025, \n"
     ]
    },
    {
     "name": "stdout",
     "output_type": "stream",
     "text": [
      "epoch: 4, [batch: 3158 / 6316], examples_per_second: 2329.4756, train_label_loss: 0.0000, \n"
     ]
    },
    {
     "name": "stdout",
     "output_type": "stream",
     "text": [
      "epoch: 4, [batch: 3790 / 6316], examples_per_second: 2309.2712, train_label_loss: 0.0000, \n"
     ]
    },
    {
     "name": "stdout",
     "output_type": "stream",
     "text": [
      "epoch: 4, [batch: 4421 / 6316], examples_per_second: 2305.9651, train_label_loss: 0.0000, \n"
     ]
    },
    {
     "name": "stdout",
     "output_type": "stream",
     "text": [
      "epoch: 4, [batch: 5053 / 6316], examples_per_second: 2246.9355, train_label_loss: 0.0001, \n"
     ]
    },
    {
     "name": "stdout",
     "output_type": "stream",
     "text": [
      "epoch: 4, [batch: 5684 / 6316], examples_per_second: 2264.5373, train_label_loss: 0.0001, \n"
     ]
    },
    {
     "name": "stdout",
     "output_type": "stream",
     "text": [
      "=============================================================\n",
      "epoch: 4, source_val_acc_label: 0.9992, target_val_acc_label: 0.5170, source_val_label_loss: 0.0081, target_val_label_loss: 1.7942, \n",
      "=============================================================\n"
     ]
    },
    {
     "name": "stdout",
     "output_type": "stream",
     "text": [
      "New best\n"
     ]
    },
    {
     "name": "stdout",
     "output_type": "stream",
     "text": [
      "epoch: 5, [batch: 1 / 6313], examples_per_second: 5.1989, train_label_loss: 0.0001, \n"
     ]
    },
    {
     "name": "stdout",
     "output_type": "stream",
     "text": [
      "epoch: 5, [batch: 632 / 6313], examples_per_second: 3556.7111, train_label_loss: 0.0288, \n"
     ]
    },
    {
     "name": "stdout",
     "output_type": "stream",
     "text": [
      "epoch: 5, [batch: 1263 / 6313], examples_per_second: 3569.2843, train_label_loss: 0.0000, \n"
     ]
    },
    {
     "name": "stdout",
     "output_type": "stream",
     "text": [
      "epoch: 5, [batch: 1894 / 6313], examples_per_second: 3613.6908, train_label_loss: 0.0001, \n"
     ]
    },
    {
     "name": "stdout",
     "output_type": "stream",
     "text": [
      "epoch: 5, [batch: 2525 / 6313], examples_per_second: 3611.0768, train_label_loss: 0.0001, \n"
     ]
    },
    {
     "name": "stdout",
     "output_type": "stream",
     "text": [
      "epoch: 5, [batch: 3157 / 6313], examples_per_second: 3626.0637, train_label_loss: 0.0001, \n"
     ]
    },
    {
     "name": "stdout",
     "output_type": "stream",
     "text": [
      "epoch: 5, [batch: 3788 / 6313], examples_per_second: 3588.3026, train_label_loss: 0.0010, \n"
     ]
    },
    {
     "name": "stdout",
     "output_type": "stream",
     "text": [
      "epoch: 5, [batch: 4419 / 6313], examples_per_second: 2176.5239, train_label_loss: 0.0000, \n"
     ]
    },
    {
     "name": "stdout",
     "output_type": "stream",
     "text": [
      "epoch: 5, [batch: 5050 / 6313], examples_per_second: 1871.3516, train_label_loss: 0.0000, \n"
     ]
    },
    {
     "name": "stdout",
     "output_type": "stream",
     "text": [
      "epoch: 5, [batch: 5681 / 6313], examples_per_second: 1871.6051, train_label_loss: 0.0005, \n"
     ]
    },
    {
     "name": "stdout",
     "output_type": "stream",
     "text": [
      "=============================================================\n",
      "epoch: 5, source_val_acc_label: 0.9981, target_val_acc_label: 0.3505, source_val_label_loss: 0.0112, target_val_label_loss: 2.0381, \n",
      "=============================================================\n"
     ]
    },
    {
     "name": "stdout",
     "output_type": "stream",
     "text": [
      "epoch: 6, [batch: 1 / 6307], examples_per_second: 2.8108, train_label_loss: 0.0000, \n"
     ]
    },
    {
     "name": "stdout",
     "output_type": "stream",
     "text": [
      "epoch: 6, [batch: 631 / 6307], examples_per_second: 1870.8703, train_label_loss: 0.0000, \n"
     ]
    },
    {
     "name": "stdout",
     "output_type": "stream",
     "text": [
      "epoch: 6, [batch: 1262 / 6307], examples_per_second: 1875.2515, train_label_loss: 0.0016, \n"
     ]
    },
    {
     "name": "stdout",
     "output_type": "stream",
     "text": [
      "epoch: 6, [batch: 1892 / 6307], examples_per_second: 1872.5513, train_label_loss: 0.0000, \n"
     ]
    },
    {
     "name": "stdout",
     "output_type": "stream",
     "text": [
      "epoch: 6, [batch: 2523 / 6307], examples_per_second: 1867.3047, train_label_loss: 0.0000, \n"
     ]
    },
    {
     "name": "stdout",
     "output_type": "stream",
     "text": [
      "epoch: 6, [batch: 3154 / 6307], examples_per_second: 1932.1404, train_label_loss: 0.0000, \n"
     ]
    },
    {
     "name": "stdout",
     "output_type": "stream",
     "text": [
      "epoch: 6, [batch: 3784 / 6307], examples_per_second: 2313.3734, train_label_loss: 0.0015, \n"
     ]
    },
    {
     "name": "stdout",
     "output_type": "stream",
     "text": [
      "epoch: 6, [batch: 4415 / 6307], examples_per_second: 2145.6974, train_label_loss: 0.0000, \n"
     ]
    },
    {
     "name": "stdout",
     "output_type": "stream",
     "text": [
      "epoch: 6, [batch: 5045 / 6307], examples_per_second: 1872.3516, train_label_loss: 0.0000, \n"
     ]
    },
    {
     "name": "stdout",
     "output_type": "stream",
     "text": [
      "epoch: 6, [batch: 5676 / 6307], examples_per_second: 1871.2413, train_label_loss: 0.0000, \n"
     ]
    },
    {
     "name": "stdout",
     "output_type": "stream",
     "text": [
      "=============================================================\n",
      "epoch: 6, source_val_acc_label: 0.9989, target_val_acc_label: 0.5058, source_val_label_loss: 0.0090, target_val_label_loss: 1.8513, \n",
      "=============================================================\n"
     ]
    },
    {
     "name": "stdout",
     "output_type": "stream",
     "text": [
      "epoch: 7, [batch: 1 / 6303], examples_per_second: 2.8127, train_label_loss: 0.0001, \n"
     ]
    },
    {
     "name": "stdout",
     "output_type": "stream",
     "text": [
      "epoch: 7, [batch: 631 / 6303], examples_per_second: 1873.4668, train_label_loss: 0.0001, \n"
     ]
    },
    {
     "name": "stdout",
     "output_type": "stream",
     "text": [
      "epoch: 7, [batch: 1261 / 6303], examples_per_second: 1876.2592, train_label_loss: 0.0000, \n"
     ]
    },
    {
     "name": "stdout",
     "output_type": "stream",
     "text": [
      "epoch: 7, [batch: 1891 / 6303], examples_per_second: 1873.5625, train_label_loss: 0.0000, \n"
     ]
    },
    {
     "name": "stdout",
     "output_type": "stream",
     "text": [
      "epoch: 7, [batch: 2521 / 6303], examples_per_second: 1870.0014, train_label_loss: 0.0000, \n"
     ]
    },
    {
     "name": "stdout",
     "output_type": "stream",
     "text": [
      "epoch: 7, [batch: 3152 / 6303], examples_per_second: 1945.7498, train_label_loss: 0.0000, \n"
     ]
    },
    {
     "name": "stdout",
     "output_type": "stream",
     "text": [
      "epoch: 7, [batch: 3782 / 6303], examples_per_second: 2332.6609, train_label_loss: 0.0000, \n"
     ]
    },
    {
     "name": "stdout",
     "output_type": "stream",
     "text": [
      "epoch: 7, [batch: 4412 / 6303], examples_per_second: 2175.9971, train_label_loss: 0.0009, \n"
     ]
    },
    {
     "name": "stdout",
     "output_type": "stream",
     "text": [
      "epoch: 7, [batch: 5042 / 6303], examples_per_second: 1872.1928, train_label_loss: 0.0000, \n"
     ]
    },
    {
     "name": "stdout",
     "output_type": "stream",
     "text": [
      "epoch: 7, [batch: 5672 / 6303], examples_per_second: 1874.1252, train_label_loss: 0.0000, \n"
     ]
    },
    {
     "name": "stdout",
     "output_type": "stream",
     "text": [
      "=============================================================\n",
      "epoch: 7, source_val_acc_label: 0.9982, target_val_acc_label: 0.3758, source_val_label_loss: 0.0130, target_val_label_loss: 2.0744, \n",
      "=============================================================\n"
     ]
    },
    {
     "name": "stdout",
     "output_type": "stream",
     "text": [
      "epoch: 8, [batch: 1 / 6292], examples_per_second: 2.8206, train_label_loss: 0.0017, \n"
     ]
    },
    {
     "name": "stdout",
     "output_type": "stream",
     "text": [
      "epoch: 8, [batch: 630 / 6292], examples_per_second: 1872.5567, train_label_loss: 0.0000, \n"
     ]
    },
    {
     "name": "stdout",
     "output_type": "stream",
     "text": [
      "epoch: 8, [batch: 1259 / 6292], examples_per_second: 1875.8599, train_label_loss: 0.0000, \n"
     ]
    },
    {
     "name": "stdout",
     "output_type": "stream",
     "text": [
      "epoch: 8, [batch: 1888 / 6292], examples_per_second: 1872.2056, train_label_loss: 0.0000, \n"
     ]
    },
    {
     "name": "stdout",
     "output_type": "stream",
     "text": [
      "epoch: 8, [batch: 2517 / 6292], examples_per_second: 1867.9072, train_label_loss: 0.0000, \n"
     ]
    },
    {
     "name": "stdout",
     "output_type": "stream",
     "text": [
      "epoch: 8, [batch: 3146 / 6292], examples_per_second: 1923.5151, train_label_loss: 0.0000, \n"
     ]
    },
    {
     "name": "stdout",
     "output_type": "stream",
     "text": [
      "epoch: 8, [batch: 3775 / 6292], examples_per_second: 2333.7869, train_label_loss: 0.0000, \n"
     ]
    },
    {
     "name": "stdout",
     "output_type": "stream",
     "text": [
      "epoch: 8, [batch: 4404 / 6292], examples_per_second: 2192.2254, train_label_loss: 0.0000, \n"
     ]
    },
    {
     "name": "stdout",
     "output_type": "stream",
     "text": [
      "epoch: 8, [batch: 5033 / 6292], examples_per_second: 1873.2660, train_label_loss: 0.0000, \n"
     ]
    },
    {
     "name": "stdout",
     "output_type": "stream",
     "text": [
      "epoch: 8, [batch: 5662 / 6292], examples_per_second: 1872.0494, train_label_loss: 0.0002, \n"
     ]
    },
    {
     "name": "stdout",
     "output_type": "stream",
     "text": [
      "=============================================================\n",
      "epoch: 8, source_val_acc_label: 0.9994, target_val_acc_label: 0.5669, source_val_label_loss: 0.0067, target_val_label_loss: 1.4617, \n",
      "=============================================================\n"
     ]
    },
    {
     "name": "stdout",
     "output_type": "stream",
     "text": [
      "New best\n"
     ]
    },
    {
     "name": "stdout",
     "output_type": "stream",
     "text": [
      "epoch: 9, [batch: 1 / 6305], examples_per_second: 2.8393, train_label_loss: 0.0001, \n"
     ]
    },
    {
     "name": "stdout",
     "output_type": "stream",
     "text": [
      "epoch: 9, [batch: 631 / 6305], examples_per_second: 1874.0624, train_label_loss: 0.0000, \n"
     ]
    },
    {
     "name": "stdout",
     "output_type": "stream",
     "text": [
      "epoch: 9, [batch: 1261 / 6305], examples_per_second: 1877.0591, train_label_loss: 0.0007, \n"
     ]
    },
    {
     "name": "stdout",
     "output_type": "stream",
     "text": [
      "epoch: 9, [batch: 1892 / 6305], examples_per_second: 1872.9799, train_label_loss: 0.0000, \n"
     ]
    },
    {
     "name": "stdout",
     "output_type": "stream",
     "text": [
      "epoch: 9, [batch: 2522 / 6305], examples_per_second: 1869.4182, train_label_loss: 0.0002, \n"
     ]
    },
    {
     "name": "stdout",
     "output_type": "stream",
     "text": [
      "epoch: 9, [batch: 3153 / 6305], examples_per_second: 1897.3521, train_label_loss: 0.0000, \n"
     ]
    },
    {
     "name": "stdout",
     "output_type": "stream",
     "text": [
      "epoch: 9, [batch: 3783 / 6305], examples_per_second: 2321.2641, train_label_loss: 0.0000, \n"
     ]
    },
    {
     "name": "stdout",
     "output_type": "stream",
     "text": [
      "epoch: 9, [batch: 4413 / 6305], examples_per_second: 2186.1247, train_label_loss: 0.0000, \n"
     ]
    },
    {
     "name": "stdout",
     "output_type": "stream",
     "text": [
      "epoch: 9, [batch: 5044 / 6305], examples_per_second: 1873.0973, train_label_loss: 0.0000, \n"
     ]
    },
    {
     "name": "stdout",
     "output_type": "stream",
     "text": [
      "epoch: 9, [batch: 5674 / 6305], examples_per_second: 1872.6600, train_label_loss: 0.0000, \n"
     ]
    },
    {
     "name": "stdout",
     "output_type": "stream",
     "text": [
      "=============================================================\n",
      "epoch: 9, source_val_acc_label: 0.9993, target_val_acc_label: 0.4590, source_val_label_loss: 0.0062, target_val_label_loss: 1.6615, \n",
      "=============================================================\n"
     ]
    },
    {
     "name": "stdout",
     "output_type": "stream",
     "text": [
      "epoch: 10, [batch: 1 / 6298], examples_per_second: 2.8126, train_label_loss: 0.0000, \n"
     ]
    },
    {
     "name": "stdout",
     "output_type": "stream",
     "text": [
      "epoch: 10, [batch: 630 / 6298], examples_per_second: 1871.7672, train_label_loss: 0.0001, \n"
     ]
    },
    {
     "name": "stdout",
     "output_type": "stream",
     "text": [
      "epoch: 10, [batch: 1260 / 6298], examples_per_second: 1874.3611, train_label_loss: 0.0000, \n"
     ]
    },
    {
     "name": "stdout",
     "output_type": "stream",
     "text": [
      "epoch: 10, [batch: 1890 / 6298], examples_per_second: 1872.4646, train_label_loss: 0.0002, \n"
     ]
    },
    {
     "name": "stdout",
     "output_type": "stream",
     "text": [
      "epoch: 10, [batch: 2519 / 6298], examples_per_second: 1868.1445, train_label_loss: 0.0000, \n"
     ]
    },
    {
     "name": "stdout",
     "output_type": "stream",
     "text": [
      "epoch: 10, [batch: 3149 / 6298], examples_per_second: 1911.7481, train_label_loss: 0.0000, \n"
     ]
    },
    {
     "name": "stdout",
     "output_type": "stream",
     "text": [
      "epoch: 10, [batch: 3779 / 6298], examples_per_second: 2318.1537, train_label_loss: 0.0000, \n"
     ]
    },
    {
     "name": "stdout",
     "output_type": "stream",
     "text": [
      "epoch: 10, [batch: 4408 / 6298], examples_per_second: 2190.0935, train_label_loss: 0.0000, \n"
     ]
    },
    {
     "name": "stdout",
     "output_type": "stream",
     "text": [
      "epoch: 10, [batch: 5038 / 6298], examples_per_second: 1872.1710, train_label_loss: 0.0000, \n"
     ]
    },
    {
     "name": "stdout",
     "output_type": "stream",
     "text": [
      "epoch: 10, [batch: 5668 / 6298], examples_per_second: 1871.3936, train_label_loss: 0.0000, \n"
     ]
    },
    {
     "name": "stdout",
     "output_type": "stream",
     "text": [
      "=============================================================\n",
      "epoch: 10, source_val_acc_label: 0.9994, target_val_acc_label: 0.5627, source_val_label_loss: 0.0059, target_val_label_loss: 1.4556, \n",
      "=============================================================\n"
     ]
    },
    {
     "name": "stdout",
     "output_type": "stream",
     "text": [
      "epoch: 11, [batch: 1 / 6323], examples_per_second: 2.8207, train_label_loss: 0.0000, \n"
     ]
    },
    {
     "name": "stdout",
     "output_type": "stream",
     "text": [
      "epoch: 11, [batch: 633 / 6323], examples_per_second: 1871.8510, train_label_loss: 0.0000, \n"
     ]
    },
    {
     "name": "stdout",
     "output_type": "stream",
     "text": [
      "epoch: 11, [batch: 1265 / 6323], examples_per_second: 1876.9308, train_label_loss: 0.0000, \n"
     ]
    },
    {
     "name": "stdout",
     "output_type": "stream",
     "text": [
      "epoch: 11, [batch: 1897 / 6323], examples_per_second: 1871.4719, train_label_loss: 0.0000, \n"
     ]
    },
    {
     "name": "stdout",
     "output_type": "stream",
     "text": [
      "epoch: 11, [batch: 2529 / 6323], examples_per_second: 1871.9940, train_label_loss: 0.0000, \n"
     ]
    },
    {
     "name": "stdout",
     "output_type": "stream",
     "text": [
      "epoch: 11, [batch: 3162 / 6323], examples_per_second: 1912.8716, train_label_loss: 0.0000, \n"
     ]
    },
    {
     "name": "stdout",
     "output_type": "stream",
     "text": [
      "epoch: 11, [batch: 3794 / 6323], examples_per_second: 2322.0292, train_label_loss: 0.0000, \n"
     ]
    },
    {
     "name": "stdout",
     "output_type": "stream",
     "text": [
      "epoch: 11, [batch: 4426 / 6323], examples_per_second: 2188.0504, train_label_loss: 0.0000, \n"
     ]
    },
    {
     "name": "stdout",
     "output_type": "stream",
     "text": [
      "epoch: 11, [batch: 5058 / 6323], examples_per_second: 1871.1575, train_label_loss: 0.0000, \n"
     ]
    },
    {
     "name": "stdout",
     "output_type": "stream",
     "text": [
      "epoch: 11, [batch: 5690 / 6323], examples_per_second: 1872.4907, train_label_loss: 0.0000, \n"
     ]
    },
    {
     "name": "stdout",
     "output_type": "stream",
     "text": [
      "=============================================================\n",
      "epoch: 11, source_val_acc_label: 0.9992, target_val_acc_label: 0.3855, source_val_label_loss: 0.0071, target_val_label_loss: 1.7674, \n",
      "=============================================================\n"
     ]
    },
    {
     "name": "stdout",
     "output_type": "stream",
     "text": [
      "epoch: 12, [batch: 1 / 6325], examples_per_second: 2.8068, train_label_loss: 0.0000, \n"
     ]
    },
    {
     "name": "stdout",
     "output_type": "stream",
     "text": [
      "epoch: 12, [batch: 633 / 6325], examples_per_second: 1869.6645, train_label_loss: 0.0000, \n"
     ]
    },
    {
     "name": "stdout",
     "output_type": "stream",
     "text": [
      "epoch: 12, [batch: 1265 / 6325], examples_per_second: 1875.1337, train_label_loss: 0.0000, \n"
     ]
    },
    {
     "name": "stdout",
     "output_type": "stream",
     "text": [
      "epoch: 12, [batch: 1898 / 6325], examples_per_second: 1874.9851, train_label_loss: 0.0000, \n"
     ]
    },
    {
     "name": "stdout",
     "output_type": "stream",
     "text": [
      "epoch: 12, [batch: 2530 / 6325], examples_per_second: 1867.5365, train_label_loss: 0.0000, \n"
     ]
    },
    {
     "name": "stdout",
     "output_type": "stream",
     "text": [
      "epoch: 12, [batch: 3163 / 6325], examples_per_second: 1926.4611, train_label_loss: 0.0000, \n"
     ]
    },
    {
     "name": "stdout",
     "output_type": "stream",
     "text": [
      "epoch: 12, [batch: 3795 / 6325], examples_per_second: 2269.4284, train_label_loss: 0.0000, \n"
     ]
    },
    {
     "name": "stdout",
     "output_type": "stream",
     "text": [
      "epoch: 12, [batch: 4427 / 6325], examples_per_second: 2121.3243, train_label_loss: 0.0000, \n"
     ]
    },
    {
     "name": "stdout",
     "output_type": "stream",
     "text": [
      "epoch: 12, [batch: 5060 / 6325], examples_per_second: 1873.2771, train_label_loss: 0.0000, \n"
     ]
    },
    {
     "name": "stdout",
     "output_type": "stream",
     "text": [
      "epoch: 12, [batch: 5692 / 6325], examples_per_second: 1873.0619, train_label_loss: 0.0000, \n"
     ]
    },
    {
     "name": "stdout",
     "output_type": "stream",
     "text": [
      "=============================================================\n",
      "epoch: 12, source_val_acc_label: 0.9995, target_val_acc_label: 0.5003, source_val_label_loss: 0.0080, target_val_label_loss: 1.4791, \n",
      "=============================================================\n"
     ]
    },
    {
     "name": "stdout",
     "output_type": "stream",
     "text": [
      "Patience (3) exhausted\n"
     ]
    }
   ],
   "source": [
    "###################################\n",
    "# train\n",
    "###################################\n",
    "jig = PTN_Train_Eval_Test_Jig(model, p.BEST_MODEL_PATH, p.device)\n",
    "\n",
    "jig.train(\n",
    "    train_iterable=datasets.source.processed.train,\n",
    "    source_val_iterable=datasets.source.processed.val,\n",
    "    target_val_iterable=datasets.target.processed.val,\n",
    "    num_epochs=p.n_epoch,\n",
    "    num_logs_per_epoch=p.NUM_LOGS_PER_EPOCH,\n",
    "    patience=p.patience,\n",
    "    optimizer=optimizer,\n",
    "    criteria_for_best=p.criteria_for_best,\n",
    ")"
   ]
  },
  {
   "cell_type": "code",
   "execution_count": 23,
   "id": "31e8fabf",
   "metadata": {
    "execution": {
     "iopub.execute_input": "2022-03-25T20:04:32.560804Z",
     "iopub.status.busy": "2022-03-25T20:04:32.560545Z",
     "iopub.status.idle": "2022-03-25T20:04:32.575811Z",
     "shell.execute_reply": "2022-03-25T20:04:32.575588Z"
    },
    "papermill": {
     "duration": 0.057066,
     "end_time": "2022-03-25T20:04:32.575868",
     "exception": false,
     "start_time": "2022-03-25T20:04:32.518802",
     "status": "completed"
    },
    "tags": []
   },
   "outputs": [],
   "source": [
    "total_experiment_time_secs = time.time() - start_time_secs"
   ]
  },
  {
   "cell_type": "code",
   "execution_count": 24,
   "id": "87b9595b",
   "metadata": {
    "execution": {
     "iopub.execute_input": "2022-03-25T20:04:32.663493Z",
     "iopub.status.busy": "2022-03-25T20:04:32.658327Z",
     "iopub.status.idle": "2022-03-25T20:07:01.729901Z",
     "shell.execute_reply": "2022-03-25T20:07:01.730354Z"
    },
    "papermill": {
     "duration": 149.112996,
     "end_time": "2022-03-25T20:07:01.730501",
     "exception": false,
     "start_time": "2022-03-25T20:04:32.617505",
     "status": "completed"
    },
    "tags": []
   },
   "outputs": [],
   "source": [
    "###################################\n",
    "# Evaluate the model\n",
    "###################################\n",
    "source_test_label_accuracy, source_test_label_loss = jig.test(datasets.source.processed.test)\n",
    "target_test_label_accuracy, target_test_label_loss = jig.test(datasets.target.processed.test)\n",
    "\n",
    "source_val_label_accuracy, source_val_label_loss = jig.test(datasets.source.processed.val)\n",
    "target_val_label_accuracy, target_val_label_loss = jig.test(datasets.target.processed.val)\n",
    "\n",
    "history = jig.get_history()\n",
    "\n",
    "total_epochs_trained = len(history[\"epoch_indices\"])\n",
    "\n",
    "val_dl = Iterable_Aggregator((datasets.source.original.val,datasets.target.original.val))\n",
    "\n",
    "confusion = ptn_confusion_by_domain_over_dataloader(model, p.device, val_dl)\n",
    "per_domain_accuracy = per_domain_accuracy_from_confusion(confusion)\n",
    "\n",
    "# Add a key to per_domain_accuracy for if it was a source domain\n",
    "for domain, accuracy in per_domain_accuracy.items():\n",
    "    per_domain_accuracy[domain] = {\n",
    "        \"accuracy\": accuracy,\n",
    "        \"source?\": domain in p.domains_source\n",
    "    }\n",
    "\n",
    "# Do an independent accuracy assesment JUST TO BE SURE!\n",
    "# _source_test_label_accuracy = independent_accuracy_assesment(model, datasets.source.processed.test, p.device)\n",
    "# _target_test_label_accuracy = independent_accuracy_assesment(model, datasets.target.processed.test, p.device)\n",
    "# _source_val_label_accuracy = independent_accuracy_assesment(model, datasets.source.processed.val, p.device)\n",
    "# _target_val_label_accuracy = independent_accuracy_assesment(model, datasets.target.processed.val, p.device)\n",
    "\n",
    "# assert(_source_test_label_accuracy == source_test_label_accuracy)\n",
    "# assert(_target_test_label_accuracy == target_test_label_accuracy)\n",
    "# assert(_source_val_label_accuracy == source_val_label_accuracy)\n",
    "# assert(_target_val_label_accuracy == target_val_label_accuracy)\n",
    "\n",
    "experiment = {\n",
    "    \"experiment_name\": p.experiment_name,\n",
    "    \"parameters\": dict(p),\n",
    "    \"results\": {\n",
    "        \"source_test_label_accuracy\": source_test_label_accuracy,\n",
    "        \"source_test_label_loss\": source_test_label_loss,\n",
    "        \"target_test_label_accuracy\": target_test_label_accuracy,\n",
    "        \"target_test_label_loss\": target_test_label_loss,\n",
    "        \"source_val_label_accuracy\": source_val_label_accuracy,\n",
    "        \"source_val_label_loss\": source_val_label_loss,\n",
    "        \"target_val_label_accuracy\": target_val_label_accuracy,\n",
    "        \"target_val_label_loss\": target_val_label_loss,\n",
    "        \"total_epochs_trained\": total_epochs_trained,\n",
    "        \"total_experiment_time_secs\": total_experiment_time_secs,\n",
    "        \"confusion\": confusion,\n",
    "        \"per_domain_accuracy\": per_domain_accuracy,\n",
    "    },\n",
    "    \"history\": history,\n",
    "    \"dataset_metrics\": get_dataset_metrics(datasets, \"ptn\"),\n",
    "}"
   ]
  },
  {
   "cell_type": "code",
   "execution_count": 25,
   "id": "54a21829",
   "metadata": {
    "execution": {
     "iopub.execute_input": "2022-03-25T20:07:01.823686Z",
     "iopub.status.busy": "2022-03-25T20:07:01.823412Z",
     "iopub.status.idle": "2022-03-25T20:07:01.953883Z",
     "shell.execute_reply": "2022-03-25T20:07:01.954273Z"
    },
    "papermill": {
     "duration": 0.175334,
     "end_time": "2022-03-25T20:07:01.954391",
     "exception": false,
     "start_time": "2022-03-25T20:07:01.779057",
     "status": "completed"
    },
    "tags": []
   },
   "outputs": [
    {
     "data": {
      "image/png": "[encoded data removed]",
      "text/plain": [
       "<Figure size 1080x504 with 1 Axes>"
      ]
     },
     "metadata": {
      "needs_background": "light"
     },
     "output_type": "display_data"
    }
   ],
   "source": [
    "ax = get_loss_curve(experiment)\n",
    "plt.show()"
   ]
  },
  {
   "cell_type": "code",
   "execution_count": 26,
   "id": "fd8a0f60",
   "metadata": {
    "execution": {
     "iopub.execute_input": "2022-03-25T20:07:02.067613Z",
     "iopub.status.busy": "2022-03-25T20:07:02.067267Z",
     "iopub.status.idle": "2022-03-25T20:07:02.234235Z",
     "shell.execute_reply": "2022-03-25T20:07:02.234611Z"
    },
    "papermill": {
     "duration": 0.237471,
     "end_time": "2022-03-25T20:07:02.234734",
     "exception": false,
     "start_time": "2022-03-25T20:07:01.997263",
     "status": "completed"
    },
    "tags": []
   },
   "outputs": [
    {
     "data": {
      "text/plain": [
       "<AxesSubplot:title={'center':'Results'}>"
      ]
     },
     "execution_count": 26,
     "metadata": {},
     "output_type": "execute_result"
    },
    {
     "data": {
      "image/png": "[encoded data removed]",
      "text/plain": [
       "<Figure size 1080x504 with 1 Axes>"
      ]
     },
     "metadata": {
      "needs_background": "light"
     },
     "output_type": "display_data"
    }
   ],
   "source": [
    "get_results_table(experiment)"
   ]
  },
  {
   "cell_type": "code",
   "execution_count": 27,
   "id": "cf8dc689",
   "metadata": {
    "execution": {
     "iopub.execute_input": "2022-03-25T20:07:02.331459Z",
     "iopub.status.busy": "2022-03-25T20:07:02.330696Z",
     "iopub.status.idle": "2022-03-25T20:07:02.478705Z",
     "shell.execute_reply": "2022-03-25T20:07:02.479116Z"
    },
    "papermill": {
     "duration": 0.192224,
     "end_time": "2022-03-25T20:07:02.479242",
     "exception": false,
     "start_time": "2022-03-25T20:07:02.287018",
     "status": "completed"
    },
    "tags": []
   },
   "outputs": [
    {
     "data": {
      "text/plain": [
       "<AxesSubplot:title={'center':'Per Domain Validation Accuracy'}, xlabel='domain'>"
      ]
     },
     "execution_count": 27,
     "metadata": {},
     "output_type": "execute_result"
    },
    {
     "data": {
      "image/png": "[encoded data removed]",
      "text/plain": [
       "<Figure size 1080x504 with 1 Axes>"
      ]
     },
     "metadata": {
      "needs_background": "light"
     },
     "output_type": "display_data"
    }
   ],
   "source": [
    "get_domain_accuracies(experiment)"
   ]
  },
  {
   "cell_type": "code",
   "execution_count": 28,
   "id": "a74ae082",
   "metadata": {
    "execution": {
     "iopub.execute_input": "2022-03-25T20:07:02.572328Z",
     "iopub.status.busy": "2022-03-25T20:07:02.572067Z",
     "iopub.status.idle": "2022-03-25T20:07:02.590132Z",
     "shell.execute_reply": "2022-03-25T20:07:02.589599Z"
    },
    "papermill": {
     "duration": 0.064289,
     "end_time": "2022-03-25T20:07:02.590238",
     "exception": false,
     "start_time": "2022-03-25T20:07:02.525949",
     "status": "completed"
    },
    "tags": []
   },
   "outputs": [
    {
     "name": "stdout",
     "output_type": "stream",
     "text": [
      "Source Test Label Accuracy: 0.9995056497175141 Target Test Label Accuracy: 0.5675130208333333\n",
      "Source Val Label Accuracy: 0.9994285714285714 Target Val Label Accuracy: 0.5668619791666667\n"
     ]
    }
   ],
   "source": [
    "print(\"Source Test Label Accuracy:\", experiment[\"results\"][\"source_test_label_accuracy\"], \"Target Test Label Accuracy:\", experiment[\"results\"][\"target_test_label_accuracy\"])\n",
    "print(\"Source Val Label Accuracy:\", experiment[\"results\"][\"source_val_label_accuracy\"], \"Target Val Label Accuracy:\", experiment[\"results\"][\"target_val_label_accuracy\"])"
   ]
  },
  {
   "cell_type": "code",
   "execution_count": 29,
   "id": "dacca602",
   "metadata": {
    "execution": {
     "iopub.execute_input": "2022-03-25T20:07:02.683923Z",
     "iopub.status.busy": "2022-03-25T20:07:02.683671Z",
     "iopub.status.idle": "2022-03-25T20:07:02.699850Z",
     "shell.execute_reply": "2022-03-25T20:07:02.700235Z"
    },
    "papermill": {
     "duration": 0.062523,
     "end_time": "2022-03-25T20:07:02.700347",
     "exception": false,
     "start_time": "2022-03-25T20:07:02.637824",
     "status": "completed"
    },
    "tags": [
     "experiment_json"
    ]
   },
   "outputs": [
    {
     "data": {
      "text/plain": [
       "'{\"experiment_name\": \"tl_3-filterv2:cores -> oracle.run1.framed\", \"parameters\": {\"experiment_name\": \"tl_3-filterv2:cores -> oracle.run1.framed\", \"device\": \"cuda\", \"lr\": 0.0001, \"x_shape\": [2, 200], \"n_shot\": 3, \"n_query\": 2, \"train_k_factor\": 3, \"val_k_factor\": 2, \"test_k_factor\": 2, \"torch_default_dtype\": \"torch.float32\", \"n_epoch\": 50, \"patience\": 3, \"criteria_for_best\": \"target_accuracy\", \"x_net\": [{\"class\": \"nnReshape\", \"kargs\": {\"shape\": [-1, 1, 2, 200]}}, {\"class\": \"Conv2d\", \"kargs\": {\"in_channels\": 1, \"out_channels\": 256, \"kernel_size\": [1, 7], \"bias\": false, \"padding\": [0, 3]}}, {\"class\": \"ReLU\", \"kargs\": {\"inplace\": true}}, {\"class\": \"BatchNorm2d\", \"kargs\": {\"num_features\": 256}}, {\"class\": \"Conv2d\", \"kargs\": {\"in_channels\": 256, \"out_channels\": 80, \"kernel_size\": [2, 7], \"bias\": true, \"padding\": [0, 3]}}, {\"class\": \"ReLU\", \"kargs\": {\"inplace\": true}}, {\"class\": \"BatchNorm2d\", \"kargs\": {\"num_features\": 80}}, {\"class\": \"Flatten\", \"kargs\": {}}, {\"class\": \"Linear\", \"kargs\": {\"in_features\": 16000, \"out_features\": 256}}, {\"class\": \"ReLU\", \"kargs\": {\"inplace\": true}}, {\"class\": \"BatchNorm1d\", \"kargs\": {\"num_features\": 256}}, {\"class\": \"Linear\", \"kargs\": {\"in_features\": 256, \"out_features\": 256}}], \"NUM_LOGS_PER_EPOCH\": 10, \"BEST_MODEL_PATH\": \"./best_model.pth\", \"n_way\": 16, \"datasets\": [{\"labels\": [\"1-10.\", \"1-11.\", \"1-15.\", \"1-16.\", \"1-17.\", \"1-18.\", \"1-19.\", \"10-4.\", \"10-7.\", \"11-1.\", \"11-14.\", \"11-17.\", \"11-20.\", \"11-7.\", \"13-20.\", \"13-8.\", \"14-10.\", \"14-11.\", \"14-14.\", \"14-7.\", \"15-1.\", \"15-20.\", \"16-1.\", \"16-16.\", \"17-10.\", \"17-11.\", \"17-2.\", \"19-1.\", \"19-16.\", \"19-19.\", \"19-20.\", \"19-3.\", \"2-10.\", \"2-11.\", \"2-17.\", \"2-18.\", \"2-20.\", \"2-3.\", \"2-4.\", \"2-5.\", \"2-6.\", \"2-7.\", \"2-8.\", \"3-13.\", \"3-18.\", \"3-3.\", \"4-1.\", \"4-10.\", \"4-11.\", \"4-19.\", \"5-5.\", \"6-15.\", \"7-10.\", \"7-14.\", \"8-18.\", \"8-20.\", \"8-3.\", \"8-8.\"], \"domains\": [1, 2, 3, 4, 5], \"num_examples_per_domain_per_label\": -1, \"pickle_path\": \"/mnt/wd500GB/CSC500/csc500-main/datasets/cores.stratified_ds.2022A.pkl\", \"source_or_target_dataset\": \"source\", \"x_transforms\": [\"lowpass_+/-10MHz\", \"take_200\"], \"episode_transforms\": [], \"domain_prefix\": \"C_\"}, {\"labels\": [\"3123D52\", \"3123D65\", \"3123D79\", \"3123D80\", \"3123D54\", \"3123D70\", \"3123D7B\", \"3123D89\", \"3123D58\", \"3123D76\", \"3123D7D\", \"3123EFE\", \"3123D64\", \"3123D78\", \"3123D7E\", \"3124E4A\"], \"domains\": [32, 38, 8, 44, 14, 50, 20, 26], \"num_examples_per_domain_per_label\": 2000, \"pickle_path\": \"/mnt/wd500GB/CSC500/csc500-main/datasets/oracle.Run1_framed_2000Examples_stratified_ds.2022A.pkl\", \"source_or_target_dataset\": \"target\", \"x_transforms\": [\"take_200\", \"resample_20Msps_to_25Msps\"], \"episode_transforms\": [], \"domain_prefix\": \"O_\"}], \"seed\": 7, \"dataset_seed\": 7, \"domains_source\": [\"C_1\", \"C_2\", \"C_3\", \"C_4\", \"C_5\"], \"domains_target\": [\"O_32\", \"O_38\", \"O_8\", \"O_44\", \"O_14\", \"O_50\", \"O_20\", \"O_26\"]}, \"results\": {\"source_test_label_accuracy\": 0.9995056497175141, \"source_test_label_loss\": 0.004070912953466177, \"target_test_label_accuracy\": 0.5675130208333333, \"target_test_label_loss\": 1.4624965190887451, \"source_val_label_accuracy\": 0.9994285714285714, \"source_val_label_loss\": 0.006738185882568359, \"target_val_label_accuracy\": 0.5668619791666667, \"target_val_label_loss\": 1.461652398109436, \"total_epochs_trained\": 12, \"total_experiment_time_secs\": 3390.758717060089, \"confusion\": {\"C_5\": {\"26\": {\"26\": 24}, \"7\": {\"7\": 32}, \"56\": {\"56\": 142}, \"36\": {\"36\": 92}, \"47\": {\"47\": 100}, \"2\": {\"2\": 28}, \"15\": {\"15\": 152}, \"14\": {\"14\": 44}, \"27\": {\"27\": 146}, \"40\": {\"40\": 124}, \"49\": {\"49\": 36}, \"45\": {\"45\": 124}, \"46\": {\"46\": 136}, \"11\": {\"11\": 130}, \"30\": {\"30\": 112}, \"0\": {\"0\": 124}, \"10\": {\"10\": 68}, \"1\": {\"1\": 148}, \"42\": {\"42\": 38, \"6\": 1, \"50\": 1}, \"54\": {\"54\": 112}, \"55\": {\"55\": 152}, \"23\": {\"23\": 124}, \"25\": {\"25\": 152}, \"28\": {\"28\": 32}, \"32\": {\"32\": 32}, \"9\": {\"9\": 142}, \"39\": {\"39\": 20}, \"3\": {\"3\": 100}, \"29\": {\"29\": 118}, \"17\": {\"17\": 116}, \"35\": {\"35\": 36}, \"44\": {\"44\": 152}, \"5\": {\"5\": 128}, \"33\": {\"33\": 32}, \"34\": {\"34\": 36}, \"13\": {\"13\": 138}, \"41\": {\"41\": 28}, \"6\": {\"6\": 128}, \"51\": {\"51\": 138}, \"50\": {\"50\": 144}, \"37\": {\"37\": 24}, \"19\": {\"19\": 144}, \"57\": {\"57\": 132}, \"21\": {\"21\": 144}, \"24\": {\"24\": 80}, \"8\": {\"8\": 130}, \"12\": {\"12\": 96}, \"48\": {\"48\": 132}, \"43\": {\"43\": 150}, \"53\": {\"53\": 147, \"25\": 1}, \"38\": {\"38\": 32}, \"16\": {\"16\": 142}, \"22\": {\"22\": 28}, \"4\": {\"4\": 100}, \"18\": {\"18\": 64}, \"20\": {\"20\": 144}, \"52\": {\"52\": 140}, \"31\": {\"31\": 36}}, \"C_1\": {\"41\": {\"41\": 24}, \"40\": {\"40\": 110}, \"45\": {\"45\": 138}, \"51\": {\"51\": 148}, \"5\": {\"5\": 154}, \"30\": {\"30\": 120}, \"42\": {\"42\": 40}, \"46\": {\"46\": 136}, \"48\": {\"48\": 134}, \"53\": {\"53\": 144}, \"47\": {\"47\": 152}, \"49\": {\"49\": 32}, \"36\": {\"36\": 64}, \"32\": {\"32\": 31, \"42\": 1}, \"34\": {\"34\": 24}, \"29\": {\"29\": 140}, \"35\": {\"35\": 36}, \"3\": {\"3\": 134}, \"16\": {\"16\": 140}, \"26\": {\"26\": 24}, \"57\": {\"57\": 144}, \"44\": {\"44\": 128}, \"0\": {\"0\": 151, \"22\": 1}, \"4\": {\"4\": 132}, \"31\": {\"31\": 28}, \"11\": {\"11\": 140}, \"6\": {\"6\": 96}, \"54\": {\"54\": 104}, \"17\": {\"17\": 64}, \"20\": {\"20\": 128}, \"13\": {\"13\": 150}, \"33\": {\"33\": 32}, \"24\": {\"24\": 108}, \"52\": {\"52\": 132}, \"2\": {\"2\": 35, \"48\": 1}, \"19\": {\"19\": 156}, \"39\": {\"39\": 28}, \"8\": {\"8\": 140}, \"21\": {\"21\": 124}, \"10\": {\"10\": 96}, \"37\": {\"37\": 32}, \"25\": {\"25\": 144}, \"27\": {\"27\": 130}, \"23\": {\"23\": 136}, \"1\": {\"1\": 100}, \"50\": {\"50\": 152}, \"12\": {\"12\": 116}, \"18\": {\"18\": 72}, \"38\": {\"38\": 24}, \"14\": {\"14\": 24}, \"56\": {\"56\": 142}, \"55\": {\"55\": 160}, \"9\": {\"9\": 138}, \"15\": {\"15\": 146}, \"28\": {\"28\": 28}, \"7\": {\"7\": 28}, \"43\": {\"43\": 136}, \"22\": {\"22\": 136}}, \"C_3\": {\"1\": {\"1\": 100}, \"9\": {\"9\": 124}, \"22\": {\"22\": 136}, \"43\": {\"43\": 136}, \"49\": {\"49\": 20}, \"50\": {\"50\": 137, \"21\": 1}, \"53\": {\"53\": 136}, \"10\": {\"10\": 64}, \"48\": {\"48\": 115, \"41\": 1}, \"8\": {\"8\": 138}, \"31\": {\"31\": 28}, \"56\": {\"56\": 134}, \"25\": {\"25\": 142}, \"28\": {\"28\": 28}, \"38\": {\"38\": 28}, \"5\": {\"5\": 116}, \"12\": {\"12\": 92}, \"6\": {\"6\": 88}, \"19\": {\"19\": 152}, \"26\": {\"26\": 24}, \"32\": {\"32\": 28}, \"33\": {\"33\": 28}, \"3\": {\"3\": 118}, \"51\": {\"51\": 128}, \"16\": {\"16\": 138}, \"46\": {\"46\": 140}, \"7\": {\"7\": 36}, \"47\": {\"47\": 92}, \"39\": {\"39\": 16}, \"40\": {\"40\": 136}, \"14\": {\"14\": 40}, \"37\": {\"37\": 28}, \"2\": {\"2\": 32}, \"21\": {\"21\": 120}, \"35\": {\"35\": 28}, \"54\": {\"54\": 100}, \"52\": {\"52\": 116}, \"29\": {\"29\": 118}, \"20\": {\"20\": 132}, \"18\": {\"18\": 84}, \"11\": {\"11\": 142}, \"0\": {\"0\": 124}, \"36\": {\"36\": 100}, \"17\": {\"17\": 108}, \"30\": {\"30\": 114}, \"42\": {\"42\": 28}, \"45\": {\"45\": 60}, \"4\": {\"4\": 148}, \"23\": {\"23\": 134}, \"13\": {\"13\": 128}, \"15\": {\"15\": 128}, \"57\": {\"57\": 124}, \"27\": {\"27\": 134}, \"44\": {\"44\": 88}, \"34\": {\"34\": 32}, \"41\": {\"41\": 28}, \"24\": {\"24\": 104}, \"55\": {\"55\": 118}}, \"C_4\": {\"52\": {\"52\": 116}, \"6\": {\"6\": 112}, \"14\": {\"14\": 15, \"43\": 1}, \"49\": {\"49\": 20}, \"0\": {\"0\": 80}, \"46\": {\"46\": 154, \"22\": 2}, \"41\": {\"41\": 36}, \"24\": {\"24\": 56}, \"25\": {\"25\": 152}, \"40\": {\"40\": 138}, \"38\": {\"38\": 40}, \"13\": {\"13\": 152}, \"9\": {\"9\": 108}, \"45\": {\"45\": 96}, \"43\": {\"43\": 144}, \"10\": {\"10\": 130}, \"15\": {\"15\": 128}, \"39\": {\"39\": 20}, \"4\": {\"4\": 132}, \"53\": {\"53\": 132}, \"1\": {\"1\": 39, \"47\": 1}, \"28\": {\"28\": 32}, \"54\": {\"54\": 108}, \"21\": {\"21\": 132}, \"7\": {\"7\": 24}, \"8\": {\"8\": 136}, \"42\": {\"42\": 32}, \"11\": {\"11\": 104}, \"33\": {\"33\": 36}, \"27\": {\"27\": 142}, \"19\": {\"19\": 144}, \"2\": {\"2\": 36}, \"3\": {\"3\": 119, \"50\": 1}, \"57\": {\"57\": 100}, \"20\": {\"20\": 112}, \"23\": {\"23\": 128}, \"22\": {\"22\": 128}, \"29\": {\"29\": 124}, \"36\": {\"36\": 92}, \"51\": {\"51\": 132}, \"31\": {\"31\": 28}, \"12\": {\"12\": 92}, \"56\": {\"56\": 138}, \"5\": {\"5\": 108}, \"35\": {\"35\": 40}, \"17\": {\"17\": 80}, \"32\": {\"32\": 24}, \"47\": {\"47\": 120}, \"18\": {\"18\": 107, \"3\": 1}, \"26\": {\"26\": 23, \"28\": 1}, \"50\": {\"50\": 121, \"3\": 1}, \"55\": {\"55\": 124}, \"34\": {\"34\": 24}, \"30\": {\"30\": 44}, \"37\": {\"37\": 24}, \"44\": {\"44\": 132}, \"48\": {\"48\": 118}, \"16\": {\"16\": 96}}, \"C_2\": {\"11\": {\"11\": 130}, \"21\": {\"21\": 120}, \"19\": {\"19\": 140}, \"20\": {\"20\": 128}, \"9\": {\"9\": 140}, \"10\": {\"10\": 112}, \"37\": {\"37\": 36}, \"32\": {\"32\": 28}, \"3\": {\"3\": 92}, \"39\": {\"39\": 28}, \"45\": {\"45\": 128}, \"50\": {\"50\": 136}, \"40\": {\"40\": 140}, \"46\": {\"46\": 128}, \"12\": {\"12\": 92}, \"13\": {\"13\": 116}, \"47\": {\"47\": 132}, \"15\": {\"15\": 142}, \"54\": {\"54\": 108}, \"48\": {\"48\": 148}, \"23\": {\"23\": 142}, \"29\": {\"29\": 128}, \"38\": {\"38\": 20}, \"53\": {\"53\": 136}, \"27\": {\"27\": 150}, \"43\": {\"43\": 144}, \"35\": {\"35\": 32}, \"0\": {\"0\": 48}, \"52\": {\"52\": 124}, \"8\": {\"8\": 128}, \"24\": {\"24\": 96}, \"18\": {\"18\": 48}, \"25\": {\"25\": 148}, \"57\": {\"57\": 136}, \"55\": {\"55\": 134}, \"36\": {\"36\": 116}, \"17\": {\"17\": 104}, \"2\": {\"2\": 32}, \"34\": {\"34\": 28}, \"1\": {\"1\": 112}, \"51\": {\"51\": 136}, \"31\": {\"31\": 28}, \"49\": {\"49\": 24}, \"14\": {\"14\": 24}, \"33\": {\"33\": 28}, \"41\": {\"41\": 20}, \"28\": {\"28\": 28}, \"5\": {\"5\": 120}, \"16\": {\"16\": 150}, \"4\": {\"4\": 128}, \"22\": {\"22\": 136}, \"6\": {\"6\": 118}, \"30\": {\"30\": 124}, \"26\": {\"26\": 24}, \"56\": {\"56\": 142}, \"42\": {\"42\": 36}, \"44\": {\"44\": 100}, \"7\": {\"7\": 36}}, \"O_26\": {\"0\": {\"15\": 11, \"14\": 39, \"0\": 90, \"8\": 12, \"9\": 4, \"10\": 43, \"1\": 2, \"2\": 22, \"7\": 7, \"5\": 3, \"6\": 7}, \"4\": {\"4\": 217, \"3\": 11, \"7\": 1, \"13\": 8, \"8\": 2, \"12\": 1}, \"14\": {\"10\": 56, \"15\": 15, \"0\": 48, \"14\": 59, \"6\": 26, \"1\": 25, \"5\": 9, \"2\": 2}, \"12\": {\"12\": 186, \"9\": 18, \"8\": 14, \"7\": 2, \"13\": 11, \"4\": 2, \"0\": 2, \"3\": 2, \"2\": 3}, \"8\": {\"13\": 7, \"8\": 42, \"7\": 53, \"0\": 7, \"9\": 40, \"3\": 33, \"2\": 44, \"12\": 14}, \"7\": {\"3\": 39, \"2\": 36, \"7\": 60, \"10\": 1, \"8\": 57, \"9\": 34, \"13\": 6, \"14\": 1, \"0\": 6}, \"13\": {\"13\": 137, \"4\": 20, \"7\": 4, \"9\": 29, \"12\": 15, \"3\": 20, \"8\": 11, \"2\": 4}, \"5\": {\"5\": 90, \"6\": 65, \"15\": 43, \"0\": 2, \"10\": 15, \"14\": 5, \"2\": 2, \"1\": 14, \"11\": 4}, \"15\": {\"15\": 77, \"5\": 54, \"6\": 58, \"0\": 10, \"1\": 7, \"10\": 17, \"14\": 11, \"2\": 6}, \"10\": {\"0\": 49, \"15\": 29, \"10\": 57, \"14\": 58, \"6\": 25, \"1\": 5, \"2\": 7, \"5\": 9, \"7\": 1}, \"3\": {\"4\": 9, \"2\": 13, \"8\": 38, \"7\": 33, \"3\": 94, \"9\": 29, \"13\": 23, \"12\": 1}, \"9\": {\"7\": 30, \"2\": 39, \"3\": 29, \"9\": 55, \"8\": 35, \"13\": 24, \"4\": 2, \"0\": 10, \"12\": 14, \"10\": 2}, \"6\": {\"5\": 47, \"6\": 55, \"0\": 7, \"14\": 22, \"15\": 46, \"10\": 35, \"1\": 27, \"11\": 1}, \"1\": {\"15\": 5, \"1\": 147, \"14\": 32, \"6\": 24, \"10\": 16, \"0\": 3, \"5\": 13}, \"11\": {\"11\": 202, \"14\": 4, \"15\": 2, \"1\": 4, \"5\": 11, \"6\": 12, \"10\": 5}, \"2\": {\"10\": 8, \"9\": 40, \"2\": 65, \"0\": 23, \"7\": 34, \"3\": 21, \"8\": 34, \"12\": 2, \"15\": 2, \"13\": 9, \"6\": 1, \"5\": 1}}, \"O_44\": {\"1\": {\"1\": 190, \"0\": 2, \"2\": 42, \"15\": 4, \"10\": 1, \"12\": 1}, \"11\": {\"11\": 239, \"13\": 1}, \"3\": {\"12\": 81, \"3\": 159}, \"6\": {\"9\": 21, \"13\": 75, \"6\": 142, \"10\": 1, \"7\": 1}, \"7\": {\"9\": 58, \"10\": 58, \"7\": 109, \"4\": 9, \"2\": 3, \"6\": 2, \"13\": 1}, \"5\": {\"5\": 106, \"14\": 64, \"4\": 30, \"15\": 34, \"8\": 5, \"0\": 1}, \"2\": {\"4\": 4, \"2\": 163, \"1\": 49, \"10\": 19, \"7\": 2, \"9\": 2, \"14\": 1}, \"15\": {\"15\": 125, \"8\": 30, \"5\": 46, \"14\": 23, \"0\": 7, \"4\": 8, \"1\": 1}, \"10\": {\"7\": 65, \"10\": 127, \"9\": 25, \"2\": 16, \"1\": 4, \"6\": 1, \"14\": 1, \"4\": 1}, \"13\": {\"13\": 144, \"6\": 78, \"11\": 10, \"9\": 8}, \"8\": {\"0\": 66, \"8\": 129, \"15\": 42, \"5\": 2, \"14\": 1}, \"4\": {\"4\": 70, \"5\": 24, \"9\": 36, \"7\": 24, \"14\": 57, \"15\": 16, \"1\": 4, \"2\": 7, \"6\": 1, \"8\": 1}, \"9\": {\"7\": 48, \"6\": 33, \"9\": 61, \"2\": 10, \"14\": 5, \"4\": 19, \"10\": 25, \"13\": 38, \"5\": 1}, \"14\": {\"9\": 2, \"4\": 64, \"15\": 19, \"14\": 104, \"5\": 48, \"7\": 3}, \"0\": {\"8\": 59, \"0\": 175, \"15\": 6}, \"12\": {\"12\": 157, \"3\": 83}}, \"O_50\": {\"15\": {\"9\": 39, \"5\": 18, \"15\": 107, \"6\": 58, \"4\": 6, \"11\": 10, \"7\": 2}, \"4\": {\"7\": 70, \"4\": 142, \"5\": 19, \"6\": 5, \"15\": 4}, \"6\": {\"11\": 11, \"6\": 94, \"15\": 62, \"9\": 21, \"5\": 43, \"4\": 4, \"3\": 2, \"12\": 2, \"7\": 1}, \"2\": {\"2\": 154, \"0\": 55, \"14\": 31}, \"5\": {\"4\": 23, \"7\": 43, \"6\": 50, \"5\": 83, \"13\": 18, \"15\": 12, \"11\": 8, \"3\": 1, \"12\": 1, \"9\": 1}, \"9\": {\"6\": 15, \"9\": 125, \"15\": 41, \"12\": 29, \"11\": 28, \"5\": 1, \"4\": 1}, \"8\": {\"8\": 201, \"10\": 36, \"1\": 3}, \"12\": {\"11\": 32, \"12\": 176, \"9\": 31, \"6\": 1}, \"10\": {\"10\": 183, \"0\": 24, \"8\": 32, \"2\": 1}, \"1\": {\"1\": 153, \"13\": 66, \"10\": 12, \"0\": 3, \"11\": 2, \"8\": 4}, \"0\": {\"2\": 55, \"14\": 5, \"0\": 165, \"10\": 15}, \"3\": {\"3\": 233, \"5\": 4, \"13\": 2, \"6\": 1}, \"13\": {\"13\": 198, \"1\": 32, \"15\": 1, \"3\": 3, \"11\": 5, \"8\": 1}, \"11\": {\"12\": 40, \"11\": 130, \"6\": 11, \"9\": 38, \"15\": 10, \"13\": 3, \"1\": 6, \"5\": 2}, \"7\": {\"7\": 139, \"4\": 70, \"5\": 29, \"6\": 1, \"15\": 1}, \"14\": {\"14\": 182, \"2\": 51, \"0\": 7}}, \"O_38\": {\"15\": {\"15\": 183, \"8\": 21, \"5\": 18, \"6\": 12, \"1\": 6}, \"11\": {\"11\": 238, \"3\": 2}, \"10\": {\"10\": 163, \"13\": 22, \"0\": 39, \"4\": 15, \"3\": 1}, \"14\": {\"2\": 43, \"14\": 170, \"13\": 10, \"7\": 13, \"4\": 2, \"12\": 1, \"0\": 1}, \"6\": {\"1\": 70, \"6\": 170}, \"4\": {\"4\": 218, \"10\": 15, \"13\": 1, \"0\": 5, \"7\": 1}, \"13\": {\"13\": 153, \"0\": 31, \"2\": 7, \"10\": 27, \"7\": 8, \"14\": 13, \"4\": 1}, \"3\": {\"3\": 239, \"11\": 1}, \"7\": {\"2\": 6, \"7\": 182, \"13\": 9, \"8\": 6, \"9\": 12, \"14\": 14, \"0\": 7, \"5\": 4}, \"8\": {\"8\": 77, \"5\": 71, \"12\": 11, \"14\": 10, \"9\": 18, \"2\": 18, \"7\": 26, \"15\": 8, \"13\": 1}, \"1\": {\"1\": 155, \"6\": 85}, \"5\": {\"5\": 74, \"15\": 30, \"8\": 68, \"9\": 34, \"7\": 14, \"12\": 6, \"2\": 13, \"13\": 1}, \"0\": {\"3\": 21, \"2\": 2, \"13\": 35, \"0\": 100, \"10\": 47, \"7\": 28, \"4\": 5, \"14\": 2}, \"2\": {\"14\": 45, \"2\": 178, \"8\": 7, \"5\": 5, \"13\": 2, \"7\": 2, \"9\": 1}, \"12\": {\"12\": 213, \"8\": 15, \"5\": 6, \"7\": 3, \"9\": 1, \"14\": 2}, \"9\": {\"8\": 27, \"9\": 143, \"5\": 53, \"7\": 11, \"2\": 6}}, \"O_20\": {\"10\": {\"10\": 135, \"12\": 12, \"4\": 61, \"15\": 4, \"6\": 6, \"2\": 5, \"13\": 13, \"7\": 4}, \"7\": {\"2\": 25, \"7\": 48, \"3\": 16, \"9\": 23, \"6\": 34, \"1\": 20, \"5\": 19, \"15\": 14, \"12\": 17, \"4\": 11, \"8\": 4, \"14\": 5, \"13\": 4}, \"4\": {\"7\": 18, \"4\": 80, \"12\": 39, \"9\": 9, \"10\": 37, \"2\": 21, \"6\": 14, \"15\": 8, \"3\": 2, \"1\": 6, \"5\": 5, \"14\": 1}, \"13\": {\"13\": 104, \"12\": 35, \"2\": 42, \"10\": 3, \"6\": 9, \"15\": 29, \"4\": 7, \"1\": 1, \"7\": 9, \"5\": 1}, \"1\": {\"15\": 34, \"9\": 38, \"1\": 44, \"5\": 40, \"3\": 31, \"7\": 11, \"8\": 2, \"12\": 21, \"2\": 10, \"6\": 3, \"4\": 2, \"13\": 3, \"14\": 1}, \"0\": {\"0\": 171, \"3\": 11, \"5\": 4, \"8\": 26, \"11\": 24, \"14\": 2, \"1\": 2}, \"12\": {\"15\": 46, \"2\": 33, \"7\": 16, \"10\": 5, \"4\": 30, \"1\": 14, \"12\": 53, \"9\": 13, \"13\": 14, \"3\": 6, \"5\": 7, \"6\": 3}, \"5\": {\"14\": 14, \"9\": 37, \"3\": 44, \"1\": 42, \"12\": 12, \"6\": 5, \"5\": 38, \"15\": 8, \"4\": 2, \"8\": 15, \"7\": 10, \"2\": 10, \"0\": 2, \"13\": 1}, \"6\": {\"2\": 10, \"8\": 9, \"6\": 104, \"7\": 52, \"1\": 6, \"4\": 11, \"14\": 25, \"9\": 8, \"15\": 2, \"3\": 6, \"5\": 3, \"12\": 3, \"10\": 1}, \"2\": {\"2\": 46, \"12\": 36, \"4\": 15, \"15\": 33, \"13\": 21, \"9\": 19, \"7\": 33, \"1\": 18, \"10\": 1, \"6\": 10, \"3\": 3, \"5\": 5}, \"8\": {\"14\": 63, \"8\": 85, \"9\": 15, \"1\": 3, \"0\": 23, \"6\": 6, \"5\": 6, \"3\": 36, \"7\": 3}, \"11\": {\"11\": 223, \"0\": 16, \"8\": 1}, \"9\": {\"2\": 19, \"15\": 17, \"9\": 47, \"5\": 35, \"14\": 11, \"7\": 14, \"1\": 32, \"8\": 8, \"12\": 10, \"3\": 32, \"6\": 12, \"4\": 2, \"0\": 1}, \"14\": {\"8\": 68, \"14\": 111, \"3\": 22, \"5\": 6, \"6\": 16, \"7\": 3, \"0\": 6, \"1\": 2, \"9\": 5, \"12\": 1}, \"15\": {\"12\": 38, \"15\": 59, \"2\": 25, \"9\": 19, \"1\": 21, \"13\": 27, \"4\": 10, \"5\": 13, \"7\": 16, \"3\": 7, \"6\": 5}, \"3\": {\"5\": 38, \"9\": 31, \"3\": 52, \"6\": 7, \"1\": 29, \"8\": 22, \"15\": 5, \"7\": 16, \"14\": 26, \"2\": 5, \"4\": 2, \"0\": 5, \"12\": 2}}, \"O_14\": {\"14\": {\"13\": 27, \"6\": 20, \"5\": 8, \"0\": 36, \"14\": 81, \"2\": 38, \"4\": 3, \"7\": 6, \"3\": 21}, \"0\": {\"0\": 88, \"4\": 26, \"8\": 5, \"3\": 43, \"5\": 16, \"14\": 24, \"13\": 4, \"2\": 19, \"12\": 5, \"6\": 4, \"10\": 6}, \"4\": {\"4\": 177, \"14\": 1, \"2\": 23, \"10\": 12, \"0\": 8, \"5\": 13, \"12\": 1, \"1\": 1, \"8\": 4}, \"11\": {\"11\": 240}, \"13\": {\"6\": 82, \"14\": 32, \"3\": 7, \"4\": 7, \"13\": 63, \"2\": 18, \"15\": 16, \"0\": 14, \"5\": 1}, \"9\": {\"9\": 200, \"10\": 29, \"1\": 11}, \"3\": {\"3\": 119, \"6\": 28, \"14\": 10, \"2\": 18, \"0\": 30, \"7\": 18, \"5\": 10, \"13\": 6, \"8\": 1}, \"6\": {\"6\": 119, \"13\": 68, \"3\": 20, \"14\": 23, \"0\": 3, \"7\": 2, \"2\": 5}, \"1\": {\"1\": 225, \"4\": 3, \"9\": 11, \"10\": 1}, \"5\": {\"0\": 23, \"8\": 18, \"5\": 105, \"7\": 15, \"2\": 39, \"3\": 7, \"4\": 23, \"14\": 9, \"6\": 1}, \"12\": {\"12\": 212, \"10\": 6, \"8\": 10, \"4\": 3, \"0\": 6, \"9\": 3}, \"10\": {\"10\": 209, \"4\": 13, \"1\": 2, \"9\": 13, \"12\": 3}, \"8\": {\"7\": 2, \"8\": 189, \"5\": 32, \"2\": 5, \"3\": 2, \"4\": 6, \"0\": 4}, \"7\": {\"7\": 197, \"3\": 20, \"5\": 11, \"2\": 6, \"8\": 5, \"14\": 1}, \"15\": {\"15\": 240}, \"2\": {\"6\": 24, \"5\": 51, \"3\": 17, \"0\": 12, \"2\": 52, \"7\": 8, \"14\": 33, \"4\": 34, \"13\": 8, \"10\": 1}}, \"O_32\": {\"11\": {\"11\": 220, \"13\": 19, \"9\": 1}, \"1\": {\"1\": 240}, \"2\": {\"13\": 8, \"2\": 136, \"4\": 69, \"3\": 8, \"14\": 13, \"0\": 4, \"8\": 1, \"7\": 1}, \"0\": {\"7\": 49, \"0\": 102, \"14\": 28, \"8\": 33, \"5\": 23, \"2\": 4, \"15\": 1}, \"3\": {\"3\": 151, \"4\": 38, \"13\": 41, \"14\": 2, \"2\": 5, \"8\": 3}, \"8\": {\"7\": 14, \"14\": 34, \"0\": 52, \"8\": 86, \"3\": 7, \"5\": 35, \"4\": 3, \"15\": 3, \"2\": 6}, \"12\": {\"12\": 227, \"9\": 11, \"10\": 2}, \"5\": {\"5\": 109, \"0\": 25, \"7\": 62, \"8\": 22, \"15\": 8, \"14\": 14}, \"15\": {\"15\": 228, \"8\": 6, \"5\": 2, \"0\": 4}, \"7\": {\"7\": 84, \"0\": 41, \"5\": 49, \"14\": 53, \"8\": 12, \"2\": 1}, \"4\": {\"3\": 42, \"13\": 35, \"4\": 96, \"2\": 63, \"8\": 1, \"14\": 2, \"0\": 1}, \"14\": {\"7\": 51, \"14\": 77, \"5\": 16, \"0\": 45, \"4\": 11, \"2\": 24, \"8\": 16}, \"10\": {\"10\": 239, \"12\": 1}, \"6\": {\"6\": 237, \"10\": 3}, \"13\": {\"4\": 40, \"13\": 125, \"3\": 42, \"2\": 10, \"11\": 20, \"9\": 3}, \"9\": {\"12\": 26, \"9\": 177, \"4\": 14, \"13\": 13, \"2\": 7, \"11\": 3}}, \"O_8\": {\"9\": {\"9\": 239, \"2\": 1}, \"11\": {\"8\": 37, \"11\": 56, \"4\": 27, \"14\": 24, \"1\": 46, \"6\": 12, \"5\": 13, \"13\": 3, \"10\": 14, \"7\": 8}, \"8\": {\"8\": 111, \"1\": 23, \"4\": 31, \"11\": 35, \"7\": 9, \"6\": 17, \"14\": 10, \"13\": 1, \"10\": 3}, \"4\": {\"4\": 105, \"6\": 16, \"8\": 37, \"11\": 24, \"14\": 38, \"1\": 11, \"10\": 7, \"7\": 2}, \"13\": {\"10\": 44, \"7\": 53, \"13\": 98, \"6\": 28, \"5\": 15, \"1\": 1, \"8\": 1}, \"14\": {\"14\": 166, \"4\": 41, \"8\": 8, \"11\": 16, \"6\": 3, \"0\": 3, \"10\": 2, \"1\": 1}, \"2\": {\"2\": 141, \"15\": 36, \"3\": 37, \"12\": 26}, \"3\": {\"3\": 221, \"2\": 19}, \"1\": {\"1\": 68, \"4\": 24, \"10\": 25, \"11\": 48, \"8\": 7, \"6\": 13, \"7\": 13, \"5\": 35, \"13\": 6, \"14\": 1}, \"0\": {\"0\": 233, \"14\": 7}, \"5\": {\"13\": 38, \"5\": 72, \"4\": 9, \"10\": 50, \"11\": 13, \"1\": 38, \"7\": 6, \"6\": 5, \"14\": 6, \"8\": 2, \"12\": 1}, \"15\": {\"15\": 138, \"12\": 79, \"2\": 23}, \"10\": {\"5\": 43, \"4\": 12, \"13\": 44, \"10\": 65, \"7\": 23, \"11\": 6, \"6\": 32, \"1\": 15}, \"12\": {\"12\": 137, \"15\": 94, \"2\": 9}, \"6\": {\"7\": 52, \"8\": 14, \"6\": 71, \"10\": 37, \"13\": 19, \"4\": 19, \"11\": 5, \"1\": 15, \"5\": 8}, \"7\": {\"1\": 4, \"13\": 52, \"10\": 30, \"6\": 54, \"7\": 89, \"4\": 4, \"5\": 4, \"11\": 1, \"8\": 2}}}, \"per_domain_accuracy\": {\"C_5\": {\"accuracy\": 0.9994762569832403, \"source?\": true}, \"C_1\": {\"accuracy\": 0.9994904891304348, \"source?\": true}, \"C_3\": {\"accuracy\": 0.9996323529411765, \"source?\": true}, \"C_4\": {\"accuracy\": 0.9984939759036144, \"source?\": true}, \"C_2\": {\"accuracy\": 1.0, \"source?\": true}, \"O_26\": {\"accuracy\": 0.42526041666666664, \"source?\": false}, \"O_44\": {\"accuracy\": 0.5729166666666666, \"source?\": false}, \"O_50\": {\"accuracy\": 0.6419270833333334, \"source?\": false}, \"O_38\": {\"accuracy\": 0.6916666666666667, \"source?\": false}, \"O_20\": {\"accuracy\": 0.3645833333333333, \"source?\": false}, \"O_14\": {\"accuracy\": 0.6552083333333333, \"source?\": false}, \"O_32\": {\"accuracy\": 0.6598958333333333, \"source?\": false}, \"O_8\": {\"accuracy\": 0.5234375, \"source?\": false}}}, \"history\": {\"epoch_indices\": [1, 2, 3, 4, 5, 6, 7, 8, 9, 10, 11, 12], \"train_label_loss\": [0.03231620987088026, 0.010745579132679258, 0.009274163155014505, 0.0076210275489085304, 0.004385134797402802, 0.00557068554573603, 0.005723816788458274, 0.004046173840692916, 0.0037034139604047137, 0.004489926058528436, 0.002376019367360011, 0.004397056840732597], \"source_val_label_loss\": [0.014009295962750912, 0.019873548299074173, 0.03193064033985138, 0.008148969151079655, 0.011188923381268978, 0.009044072590768337, 0.012985223904252052, 0.006738185882568359, 0.006193355657160282, 0.005865372251719236, 0.007079864386469126, 0.007975507527589798], \"target_val_label_loss\": [2.0585851669311523, 1.7545051574707031, 1.9976509809494019, 1.7942241430282593, 2.0380704402923584, 1.8513263463974, 2.0744423866271973, 1.461652398109436, 1.6614707708358765, 1.4555997848510742, 1.7674145698547363, 1.4791141748428345], \"source_val_acc_label\": [0.9963571428571428, 0.9965, 0.9963928571428572, 0.9991785714285715, 0.9981428571428571, 0.9988928571428571, 0.9982142857142857, 0.9994285714285714, 0.9993214285714286, 0.9994285714285714, 0.99925, 0.9995357142857143], \"target_val_acc_label\": [0.4212565104166667, 0.42278645833333334, 0.44114583333333335, 0.5169596354166667, 0.3504557291666667, 0.5057942708333333, 0.3758138020833333, 0.5668619791666667, 0.45901692708333336, 0.5626953125, 0.385546875, 0.5003255208333334]}, \"dataset_metrics\": {\"source\": {\"train\": {\"n_unique_x\": 175219, \"n_unique_y\": 58, \"n_batch/episode\": 6318}, \"val\": {\"n_unique_x\": 37151, \"n_unique_y\": 58, \"n_batch/episode\": 875}, \"test\": {\"n_unique_x\": 37548, \"n_unique_y\": 58, \"n_batch/episode\": 885}}, \"target\": {\"train\": {\"n_unique_x\": 179200, \"n_unique_y\": 16, \"n_batch/episode\": 6720}, \"val\": {\"n_unique_x\": 38400, \"n_unique_y\": 16, \"n_batch/episode\": 960}, \"test\": {\"n_unique_x\": 38400, \"n_unique_y\": 16, \"n_batch/episode\": 960}}}}'"
      ]
     },
     "execution_count": 29,
     "metadata": {},
     "output_type": "execute_result"
    }
   ],
   "source": [
    "json.dumps(experiment)"
   ]
  }
 ],
 "metadata": {
  "celltoolbar": "Tags",
  "kernelspec": {
   "display_name": "Python 3 (ipykernel)",
   "language": "python",
   "name": "python3"
  },
  "language_info": {
   "codemirror_mode": {
    "name": "ipython",
    "version": 3
   },
   "file_extension": ".py",
   "mimetype": "text/x-python",
   "name": "python",
   "nbconvert_exporter": "python",
   "pygments_lexer": "ipython3",
   "version": "3.8.10"
  },
  "papermill": {
   "default_parameters": {},
   "duration": 3544.440874,
   "end_time": "2022-03-25T20:07:04.163282",
   "environment_variables": {},
   "exception": null,
   "input_path": "/mnt/wd500GB/CSC500/csc500-main/csc500-notebooks/templates/tl_ptn_template.ipynb",
   "output_path": "trial.ipynb",
   "parameters": {
    "parameters": {
     "BEST_MODEL_PATH": "./best_model.pth",
     "NUM_LOGS_PER_EPOCH": 10,
     "criteria_for_best": "target_accuracy",
     "dataset_seed": 7,
     "datasets": [
      {
       "domain_prefix": "C_",
       "domains": [
        1,
        2,
        3,
        4,
        5
       ],
       "episode_transforms": [],
       "labels": [
        "1-10.",
        "1-11.",
        "1-15.",
        "1-16.",
        "1-17.",
        "1-18.",
        "1-19.",
        "10-4.",
        "10-7.",
        "11-1.",
        "11-14.",
        "11-17.",
        "11-20.",
        "11-7.",
        "13-20.",
        "13-8.",
        "14-10.",
        "14-11.",
        "14-14.",
        "14-7.",
        "15-1.",
        "15-20.",
        "16-1.",
        "16-16.",
        "17-10.",
        "17-11.",
        "17-2.",
        "19-1.",
        "19-16.",
        "19-19.",
        "19-20.",
        "19-3.",
        "2-10.",
        "2-11.",
        "2-17.",
        "2-18.",
        "2-20.",
        "2-3.",
        "2-4.",
        "2-5.",
        "2-6.",
        "2-7.",
        "2-8.",
        "3-13.",
        "3-18.",
        "3-3.",
        "4-1.",
        "4-10.",
        "4-11.",
        "4-19.",
        "5-5.",
        "6-15.",
        "7-10.",
        "7-14.",
        "8-18.",
        "8-20.",
        "8-3.",
        "8-8."
       ],
       "num_examples_per_domain_per_label": -1,
       "pickle_path": "/mnt/wd500GB/CSC500/csc500-main/datasets/cores.stratified_ds.2022A.pkl",
       "source_or_target_dataset": "source",
       "x_transforms": [
        "lowpass_+/-10MHz",
        "take_200"
       ]
      },
      {
       "domain_prefix": "O_",
       "domains": [
        32,
        38,
        8,
        44,
        14,
        50,
        20,
        26
       ],
       "episode_transforms": [],
       "labels": [
        "3123D52",
        "3123D65",
        "3123D79",
        "3123D80",
        "3123D54",
        "3123D70",
        "3123D7B",
        "3123D89",
        "3123D58",
        "3123D76",
        "3123D7D",
        "3123EFE",
        "3123D64",
        "3123D78",
        "3123D7E",
        "3124E4A"
       ],
       "num_examples_per_domain_per_label": 2000,
       "pickle_path": "/mnt/wd500GB/CSC500/csc500-main/datasets/oracle.Run1_framed_2000Examples_stratified_ds.2022A.pkl",
       "source_or_target_dataset": "target",
       "x_transforms": [
        "take_200",
        "resample_20Msps_to_25Msps"
       ]
      }
     ],
     "device": "cuda",
     "experiment_name": "tl_3-filterv2:cores -> oracle.run1.framed",
     "lr": 0.0001,
     "n_epoch": 50,
     "n_query": 2,
     "n_shot": 3,
     "n_way": 16,
     "patience": 3,
     "seed": 7,
     "test_k_factor": 2,
     "torch_default_dtype": "torch.float32",
     "train_k_factor": 3,
     "val_k_factor": 2,
     "x_net": [
      {
       "class": "nnReshape",
       "kargs": {
        "shape": [
         -1,
         1,
         2,
         200
        ]
       }
      },
      {
       "class": "Conv2d",
       "kargs": {
        "bias": false,
        "in_channels": 1,
        "kernel_size": [
         1,
         7
        ],
        "out_channels": 256,
        "padding": [
         0,
         3
        ]
       }
      },
      {
       "class": "ReLU",
       "kargs": {
        "inplace": true
       }
      },
      {
       "class": "BatchNorm2d",
       "kargs": {
        "num_features": 256
       }
      },
      {
       "class": "Conv2d",
       "kargs": {
        "bias": true,
        "in_channels": 256,
        "kernel_size": [
         2,
         7
        ],
        "out_channels": 80,
        "padding": [
         0,
         3
        ]
       }
      },
      {
       "class": "ReLU",
       "kargs": {
        "inplace": true
       }
      },
      {
       "class": "BatchNorm2d",
       "kargs": {
        "num_features": 80
       }
      },
      {
       "class": "Flatten",
       "kargs": {}
      },
      {
       "class": "Linear",
       "kargs": {
        "in_features": 16000,
        "out_features": 256
       }
      },
      {
       "class": "ReLU",
       "kargs": {
        "inplace": true
       }
      },
      {
       "class": "BatchNorm1d",
       "kargs": {
        "num_features": 256
       }
      },
      {
       "class": "Linear",
       "kargs": {
        "in_features": 256,
        "out_features": 256
       }
      }
     ],
     "x_shape": [
      2,
      200
     ]
    }
   },
   "start_time": "2022-03-25T19:07:59.722408",
   "version": "2.3.4"
  }
 },
 "nbformat": 4,
 "nbformat_minor": 5
}