{
 "cells": [
  {
   "cell_type": "markdown",
   "id": "9fea5f46",
   "metadata": {
    "papermill": {
     "duration": 0.016335,
     "end_time": "2022-03-25T15:22:11.423698",
     "exception": false,
     "start_time": "2022-03-25T15:22:11.407363",
     "status": "completed"
    },
    "tags": []
   },
   "source": [
    "# Transfer Learning Template"
   ]
  },
  {
   "cell_type": "code",
   "execution_count": 1,
   "id": "0902182a",
   "metadata": {
    "execution": {
     "iopub.execute_input": "2022-03-25T15:22:11.462212Z",
     "iopub.status.busy": "2022-03-25T15:22:11.461801Z",
     "iopub.status.idle": "2022-03-25T15:22:12.348914Z",
     "shell.execute_reply": "2022-03-25T15:22:12.349314Z"
    },
    "papermill": {
     "duration": 0.913493,
     "end_time": "2022-03-25T15:22:12.349516",
     "exception": false,
     "start_time": "2022-03-25T15:22:11.436023",
     "status": "completed"
    },
    "tags": []
   },
   "outputs": [],
   "source": [
    "%load_ext autoreload\n",
    "%autoreload 2\n",
    "%matplotlib inline\n",
    "\n",
    "    \n",
    "import os, json, sys, time, random\n",
    "import numpy as np\n",
    "import torch\n",
    "from torch.optim import Adam\n",
    "from  easydict import EasyDict\n",
    "import matplotlib.pyplot as plt\n",
    "\n",
    "from steves_models.steves_ptn import Steves_Prototypical_Network\n",
    "\n",
    "from steves_utils.lazy_iterable_wrapper import Lazy_Iterable_Wrapper\n",
    "from steves_utils.iterable_aggregator import Iterable_Aggregator\n",
    "from steves_utils.ptn_train_eval_test_jig import  PTN_Train_Eval_Test_Jig\n",
    "from steves_utils.torch_sequential_builder import build_sequential\n",
    "from steves_utils.torch_utils import get_dataset_metrics, ptn_confusion_by_domain_over_dataloader\n",
    "from steves_utils.utils_v2 import (per_domain_accuracy_from_confusion, get_datasets_base_path)\n",
    "from steves_utils.PTN.utils import independent_accuracy_assesment\n",
    "\n",
    "from torch.utils.data import DataLoader\n",
    "\n",
    "from steves_utils.stratified_dataset.episodic_accessor import Episodic_Accessor_Factory\n",
    "\n",
    "from steves_utils.ptn_do_report import (\n",
    "    get_loss_curve,\n",
    "    get_results_table,\n",
    "    get_parameters_table,\n",
    "    get_domain_accuracies,\n",
    ")\n",
    "\n",
    "from steves_utils.transforms import get_chained_transform"
   ]
  },
  {
   "cell_type": "markdown",
   "id": "41c840b4",
   "metadata": {
    "papermill": {
     "duration": 0.012267,
     "end_time": "2022-03-25T15:22:12.379130",
     "exception": false,
     "start_time": "2022-03-25T15:22:12.366863",
     "status": "completed"
    },
    "tags": []
   },
   "source": [
    "# Allowed Parameters\n",
    "These are allowed parameters, not defaults\n",
    "Each of these values need to be present in the injected parameters (the notebook will raise an exception if they are not present)\n",
    "\n",
    "Papermill uses the cell tag \"parameters\" to inject the real parameters below this cell.\n",
    "Enable tags to see what I mean"
   ]
  },
  {
   "cell_type": "code",
   "execution_count": 2,
   "id": "fd44eb83",
   "metadata": {
    "execution": {
     "iopub.execute_input": "2022-03-25T15:22:12.406040Z",
     "iopub.status.busy": "2022-03-25T15:22:12.405770Z",
     "iopub.status.idle": "2022-03-25T15:22:12.420464Z",
     "shell.execute_reply": "2022-03-25T15:22:12.420766Z"
    },
    "papermill": {
     "duration": 0.029241,
     "end_time": "2022-03-25T15:22:12.420857",
     "exception": false,
     "start_time": "2022-03-25T15:22:12.391616",
     "status": "completed"
    },
    "tags": []
   },
   "outputs": [],
   "source": [
    "required_parameters = {\n",
    "    \"experiment_name\",\n",
    "    \"lr\",\n",
    "    \"device\",\n",
    "    \"seed\",\n",
    "    \"dataset_seed\",\n",
    "    \"n_shot\",\n",
    "    \"n_query\",\n",
    "    \"n_way\",\n",
    "    \"train_k_factor\",\n",
    "    \"val_k_factor\",\n",
    "    \"test_k_factor\",\n",
    "    \"n_epoch\",\n",
    "    \"patience\",\n",
    "    \"criteria_for_best\",\n",
    "    \"x_net\",\n",
    "    \"datasets\",\n",
    "    \"torch_default_dtype\",\n",
    "    \"NUM_LOGS_PER_EPOCH\",\n",
    "    \"BEST_MODEL_PATH\",\n",
    "    \"x_shape\",\n",
    "}"
   ]
  },
  {
   "cell_type": "code",
   "execution_count": 3,
   "id": "fa3f0049",
   "metadata": {
    "execution": {
     "iopub.execute_input": "2022-03-25T15:22:12.454985Z",
     "iopub.status.busy": "2022-03-25T15:22:12.454697Z",
     "iopub.status.idle": "2022-03-25T15:22:12.469579Z",
     "shell.execute_reply": "2022-03-25T15:22:12.469994Z"
    },
    "papermill": {
     "duration": 0.033704,
     "end_time": "2022-03-25T15:22:12.470135",
     "exception": false,
     "start_time": "2022-03-25T15:22:12.436431",
     "status": "completed"
    },
    "tags": [
     "parameters"
    ]
   },
   "outputs": [],
   "source": [
    "from steves_utils.CORES.utils import (\n",
    "    ALL_NODES,\n",
    "    ALL_NODES_MINIMUM_1000_EXAMPLES,\n",
    "    ALL_DAYS\n",
    ")\n",
    "\n",
    "from steves_utils.ORACLE.utils_v2 import (\n",
    "    ALL_DISTANCES_FEET_NARROWED,\n",
    "    ALL_RUNS,\n",
    "    ALL_SERIAL_NUMBERS,\n",
    ")\n",
    "\n",
    "standalone_parameters = {}\n",
    "standalone_parameters[\"experiment_name\"] = \"STANDALONE PTN\"\n",
    "standalone_parameters[\"lr\"] = 0.001\n",
    "standalone_parameters[\"device\"] = \"cuda\"\n",
    "\n",
    "standalone_parameters[\"seed\"] = 1337\n",
    "standalone_parameters[\"dataset_seed\"] = 1337\n",
    "\n",
    "standalone_parameters[\"n_way\"] = 8\n",
    "standalone_parameters[\"n_shot\"] = 3\n",
    "standalone_parameters[\"n_query\"]  = 2\n",
    "standalone_parameters[\"train_k_factor\"] = 1\n",
    "standalone_parameters[\"val_k_factor\"] = 2\n",
    "standalone_parameters[\"test_k_factor\"] = 2\n",
    "\n",
    "\n",
    "standalone_parameters[\"n_epoch\"] = 50\n",
    "\n",
    "standalone_parameters[\"patience\"] = 10\n",
    "standalone_parameters[\"criteria_for_best\"] = \"source_loss\"\n",
    "\n",
    "standalone_parameters[\"datasets\"] = [\n",
    "    {\n",
    "        \"labels\": ALL_SERIAL_NUMBERS,\n",
    "        \"domains\": ALL_DISTANCES_FEET_NARROWED,\n",
    "        \"num_examples_per_domain_per_label\": 100,\n",
    "        \"pickle_path\": os.path.join(get_datasets_base_path(), \"oracle.Run1_framed_2000Examples_stratified_ds.2022A.pkl\"),\n",
    "        \"source_or_target_dataset\": \"source\",\n",
    "        \"x_transforms\": [\"unit_mag\", \"minus_two\"],\n",
    "        \"episode_transforms\": [],\n",
    "        \"domain_prefix\": \"ORACLE_\"\n",
    "    },\n",
    "    {\n",
    "        \"labels\": ALL_NODES,\n",
    "        \"domains\": ALL_DAYS,\n",
    "        \"num_examples_per_domain_per_label\": 100,\n",
    "        \"pickle_path\": os.path.join(get_datasets_base_path(), \"cores.stratified_ds.2022A.pkl\"),\n",
    "        \"source_or_target_dataset\": \"target\",\n",
    "        \"x_transforms\": [\"unit_power\", \"times_zero\"],\n",
    "        \"episode_transforms\": [],\n",
    "        \"domain_prefix\": \"CORES_\"\n",
    "    }   \n",
    "]\n",
    "\n",
    "standalone_parameters[\"torch_default_dtype\"] = \"torch.float32\" \n",
    "\n",
    "\n",
    "\n",
    "standalone_parameters[\"x_net\"] =     [\n",
    "    {\"class\": \"nnReshape\", \"kargs\": {\"shape\":[-1, 1, 2, 256]}},\n",
    "    {\"class\": \"Conv2d\", \"kargs\": { \"in_channels\":1, \"out_channels\":256, \"kernel_size\":(1,7), \"bias\":False, \"padding\":(0,3), },},\n",
    "    {\"class\": \"ReLU\", \"kargs\": {\"inplace\": True}},\n",
    "    {\"class\": \"BatchNorm2d\", \"kargs\": {\"num_features\":256}},\n",
    "\n",
    "    {\"class\": \"Conv2d\", \"kargs\": { \"in_channels\":256, \"out_channels\":80, \"kernel_size\":(2,7), \"bias\":True, \"padding\":(0,3), },},\n",
    "    {\"class\": \"ReLU\", \"kargs\": {\"inplace\": True}},\n",
    "    {\"class\": \"BatchNorm2d\", \"kargs\": {\"num_features\":80}},\n",
    "    {\"class\": \"Flatten\", \"kargs\": {}},\n",
    "\n",
    "    {\"class\": \"Linear\", \"kargs\": {\"in_features\": 80*256, \"out_features\": 256}}, # 80 units per IQ pair\n",
    "    {\"class\": \"ReLU\", \"kargs\": {\"inplace\": True}},\n",
    "    {\"class\": \"BatchNorm1d\", \"kargs\": {\"num_features\":256}},\n",
    "\n",
    "    {\"class\": \"Linear\", \"kargs\": {\"in_features\": 256, \"out_features\": 256}},\n",
    "]\n",
    "\n",
    "# Parameters relevant to results\n",
    "# These parameters will basically never need to change\n",
    "standalone_parameters[\"NUM_LOGS_PER_EPOCH\"] = 10\n",
    "standalone_parameters[\"BEST_MODEL_PATH\"] = \"./best_model.pth\"\n",
    "\n",
    "\n",
    "\n",
    "\n"
   ]
  },
  {
   "cell_type": "code",
   "execution_count": 4,
   "id": "501ef1fa",
   "metadata": {
    "execution": {
     "iopub.execute_input": "2022-03-25T15:22:12.509889Z",
     "iopub.status.busy": "2022-03-25T15:22:12.503114Z",
     "iopub.status.idle": "2022-03-25T15:22:12.521950Z",
     "shell.execute_reply": "2022-03-25T15:22:12.522355Z"
    },
    "papermill": {
     "duration": 0.033734,
     "end_time": "2022-03-25T15:22:12.522480",
     "exception": false,
     "start_time": "2022-03-25T15:22:12.488746",
     "status": "completed"
    },
    "tags": [
     "injected-parameters"
    ]
   },
   "outputs": [],
   "source": [
    "# Parameters\n",
    "parameters = {\n",
    "    \"experiment_name\": \"tl_3-filterv2:cores -> oracle.run1.framed\",\n",
    "    \"device\": \"cuda\",\n",
    "    \"lr\": 0.0001,\n",
    "    \"x_shape\": [2, 200],\n",
    "    \"n_shot\": 3,\n",
    "    \"n_query\": 2,\n",
    "    \"train_k_factor\": 3,\n",
    "    \"val_k_factor\": 2,\n",
    "    \"test_k_factor\": 2,\n",
    "    \"torch_default_dtype\": \"torch.float32\",\n",
    "    \"n_epoch\": 50,\n",
    "    \"patience\": 3,\n",
    "    \"criteria_for_best\": \"target_accuracy\",\n",
    "    \"x_net\": [\n",
    "        {\"class\": \"nnReshape\", \"kargs\": {\"shape\": [-1, 1, 2, 200]}},\n",
    "        {\n",
    "            \"class\": \"Conv2d\",\n",
    "            \"kargs\": {\n",
    "                \"in_channels\": 1,\n",
    "                \"out_channels\": 256,\n",
    "                \"kernel_size\": [1, 7],\n",
    "                \"bias\": False,\n",
    "                \"padding\": [0, 3],\n",
    "            },\n",
    "        },\n",
    "        {\"class\": \"ReLU\", \"kargs\": {\"inplace\": True}},\n",
    "        {\"class\": \"BatchNorm2d\", \"kargs\": {\"num_features\": 256}},\n",
    "        {\n",
    "            \"class\": \"Conv2d\",\n",
    "            \"kargs\": {\n",
    "                \"in_channels\": 256,\n",
    "                \"out_channels\": 80,\n",
    "                \"kernel_size\": [2, 7],\n",
    "                \"bias\": True,\n",
    "                \"padding\": [0, 3],\n",
    "            },\n",
    "        },\n",
    "        {\"class\": \"ReLU\", \"kargs\": {\"inplace\": True}},\n",
    "        {\"class\": \"BatchNorm2d\", \"kargs\": {\"num_features\": 80}},\n",
    "        {\"class\": \"Flatten\", \"kargs\": {}},\n",
    "        {\"class\": \"Linear\", \"kargs\": {\"in_features\": 16000, \"out_features\": 256}},\n",
    "        {\"class\": \"ReLU\", \"kargs\": {\"inplace\": True}},\n",
    "        {\"class\": \"BatchNorm1d\", \"kargs\": {\"num_features\": 256}},\n",
    "        {\"class\": \"Linear\", \"kargs\": {\"in_features\": 256, \"out_features\": 256}},\n",
    "    ],\n",
    "    \"NUM_LOGS_PER_EPOCH\": 10,\n",
    "    \"BEST_MODEL_PATH\": \"./best_model.pth\",\n",
    "    \"n_way\": 16,\n",
    "    \"datasets\": [\n",
    "        {\n",
    "            \"labels\": [\n",
    "                \"1-10.\",\n",
    "                \"1-11.\",\n",
    "                \"1-15.\",\n",
    "                \"1-16.\",\n",
    "                \"1-17.\",\n",
    "                \"1-18.\",\n",
    "                \"1-19.\",\n",
    "                \"10-4.\",\n",
    "                \"10-7.\",\n",
    "                \"11-1.\",\n",
    "                \"11-14.\",\n",
    "                \"11-17.\",\n",
    "                \"11-20.\",\n",
    "                \"11-7.\",\n",
    "                \"13-20.\",\n",
    "                \"13-8.\",\n",
    "                \"14-10.\",\n",
    "                \"14-11.\",\n",
    "                \"14-14.\",\n",
    "                \"14-7.\",\n",
    "                \"15-1.\",\n",
    "                \"15-20.\",\n",
    "                \"16-1.\",\n",
    "                \"16-16.\",\n",
    "                \"17-10.\",\n",
    "                \"17-11.\",\n",
    "                \"17-2.\",\n",
    "                \"19-1.\",\n",
    "                \"19-16.\",\n",
    "                \"19-19.\",\n",
    "                \"19-20.\",\n",
    "                \"19-3.\",\n",
    "                \"2-10.\",\n",
    "                \"2-11.\",\n",
    "                \"2-17.\",\n",
    "                \"2-18.\",\n",
    "                \"2-20.\",\n",
    "                \"2-3.\",\n",
    "                \"2-4.\",\n",
    "                \"2-5.\",\n",
    "                \"2-6.\",\n",
    "                \"2-7.\",\n",
    "                \"2-8.\",\n",
    "                \"3-13.\",\n",
    "                \"3-18.\",\n",
    "                \"3-3.\",\n",
    "                \"4-1.\",\n",
    "                \"4-10.\",\n",
    "                \"4-11.\",\n",
    "                \"4-19.\",\n",
    "                \"5-5.\",\n",
    "                \"6-15.\",\n",
    "                \"7-10.\",\n",
    "                \"7-14.\",\n",
    "                \"8-18.\",\n",
    "                \"8-20.\",\n",
    "                \"8-3.\",\n",
    "                \"8-8.\",\n",
    "            ],\n",
    "            \"domains\": [1, 2, 3, 4, 5],\n",
    "            \"num_examples_per_domain_per_label\": -1,\n",
    "            \"pickle_path\": \"/mnt/wd500GB/CSC500/csc500-main/datasets/cores.stratified_ds.2022A.pkl\",\n",
    "            \"source_or_target_dataset\": \"source\",\n",
    "            \"x_transforms\": [\"unit_power\", \"lowpass_+/-10MHz\", \"take_200\"],\n",
    "            \"episode_transforms\": [],\n",
    "            \"domain_prefix\": \"C_\",\n",
    "        },\n",
    "        {\n",
    "            \"labels\": [\n",
    "                \"3123D52\",\n",
    "                \"3123D65\",\n",
    "                \"3123D79\",\n",
    "                \"3123D80\",\n",
    "                \"3123D54\",\n",
    "                \"3123D70\",\n",
    "                \"3123D7B\",\n",
    "                \"3123D89\",\n",
    "                \"3123D58\",\n",
    "                \"3123D76\",\n",
    "                \"3123D7D\",\n",
    "                \"3123EFE\",\n",
    "                \"3123D64\",\n",
    "                \"3123D78\",\n",
    "                \"3123D7E\",\n",
    "                \"3124E4A\",\n",
    "            ],\n",
    "            \"domains\": [32, 38, 8, 44, 14, 50, 20, 26],\n",
    "            \"num_examples_per_domain_per_label\": 2000,\n",
    "            \"pickle_path\": \"/mnt/wd500GB/CSC500/csc500-main/datasets/oracle.Run1_framed_2000Examples_stratified_ds.2022A.pkl\",\n",
    "            \"source_or_target_dataset\": \"target\",\n",
    "            \"x_transforms\": [\"unit_power\", \"take_200\", \"resample_20Msps_to_25Msps\"],\n",
    "            \"episode_transforms\": [],\n",
    "            \"domain_prefix\": \"O_\",\n",
    "        },\n",
    "    ],\n",
    "    \"seed\": 1337,\n",
    "    \"dataset_seed\": 1337,\n",
    "}\n"
   ]
  },
  {
   "cell_type": "code",
   "execution_count": 5,
   "id": "8fa1cc33",
   "metadata": {
    "execution": {
     "iopub.execute_input": "2022-03-25T15:22:12.558092Z",
     "iopub.status.busy": "2022-03-25T15:22:12.557830Z",
     "iopub.status.idle": "2022-03-25T15:22:12.572961Z",
     "shell.execute_reply": "2022-03-25T15:22:12.573330Z"
    },
    "papermill": {
     "duration": 0.032585,
     "end_time": "2022-03-25T15:22:12.573435",
     "exception": false,
     "start_time": "2022-03-25T15:22:12.540850",
     "status": "completed"
    },
    "tags": []
   },
   "outputs": [],
   "source": [
    "# Set this to True if you want to run this template directly\n",
    "STANDALONE = False\n",
    "if STANDALONE:\n",
    "    print(\"parameters not injected, running with standalone_parameters\")\n",
    "    parameters = standalone_parameters\n",
    "\n",
    "if not 'parameters' in locals() and not 'parameters' in globals():\n",
    "    raise Exception(\"Parameter injection failed\")\n",
    "\n",
    "#Use an easy dict for all the parameters\n",
    "p = EasyDict(parameters)\n",
    "\n",
    "if \"x_shape\" not in p:\n",
    "    p.x_shape = [2,256] # Default to this if we dont supply x_shape\n",
    "\n",
    "\n",
    "supplied_keys = set(p.keys())\n",
    "\n",
    "if  supplied_keys != required_parameters:\n",
    "    print(\"Parameters are incorrect\")\n",
    "    if len(supplied_keys - required_parameters)>0: print(\"Shouldn't have:\", str(supplied_keys - required_parameters))\n",
    "    if len(required_parameters - supplied_keys)>0: print(\"Need to have:\", str(required_parameters - supplied_keys))\n",
    "    raise RuntimeError(\"Parameters are incorrect\")"
   ]
  },
  {
   "cell_type": "code",
   "execution_count": 6,
   "id": "3a028d58",
   "metadata": {
    "execution": {
     "iopub.execute_input": "2022-03-25T15:22:12.605387Z",
     "iopub.status.busy": "2022-03-25T15:22:12.605143Z",
     "iopub.status.idle": "2022-03-25T15:22:12.618632Z",
     "shell.execute_reply": "2022-03-25T15:22:12.618985Z"
    },
    "papermill": {
     "duration": 0.028606,
     "end_time": "2022-03-25T15:22:12.619092",
     "exception": false,
     "start_time": "2022-03-25T15:22:12.590486",
     "status": "completed"
    },
    "tags": []
   },
   "outputs": [],
   "source": [
    "###################################\n",
    "# Set the RNGs and make it all deterministic\n",
    "###################################\n",
    "np.random.seed(p.seed)\n",
    "random.seed(p.seed)\n",
    "torch.manual_seed(p.seed)\n",
    "\n",
    "torch.use_deterministic_algorithms(True) "
   ]
  },
  {
   "cell_type": "code",
   "execution_count": 7,
   "id": "b691acf6",
   "metadata": {
    "execution": {
     "iopub.execute_input": "2022-03-25T15:22:12.651772Z",
     "iopub.status.busy": "2022-03-25T15:22:12.651285Z",
     "iopub.status.idle": "2022-03-25T15:22:12.665588Z",
     "shell.execute_reply": "2022-03-25T15:22:12.665788Z"
    },
    "papermill": {
     "duration": 0.028553,
     "end_time": "2022-03-25T15:22:12.665845",
     "exception": false,
     "start_time": "2022-03-25T15:22:12.637292",
     "status": "completed"
    },
    "tags": []
   },
   "outputs": [],
   "source": [
    "###########################################\n",
    "# The stratified datasets honor this\n",
    "###########################################\n",
    "torch.set_default_dtype(eval(p.torch_default_dtype))"
   ]
  },
  {
   "cell_type": "code",
   "execution_count": 8,
   "id": "b5fba671",
   "metadata": {
    "execution": {
     "iopub.execute_input": "2022-03-25T15:22:12.698369Z",
     "iopub.status.busy": "2022-03-25T15:22:12.698122Z",
     "iopub.status.idle": "2022-03-25T15:22:12.731325Z",
     "shell.execute_reply": "2022-03-25T15:22:12.731695Z"
    },
    "papermill": {
     "duration": 0.047684,
     "end_time": "2022-03-25T15:22:12.731797",
     "exception": false,
     "start_time": "2022-03-25T15:22:12.684113",
     "status": "completed"
    },
    "tags": []
   },
   "outputs": [],
   "source": [
    "###################################\n",
    "# Build the network(s)\n",
    "# Note: It's critical to do this AFTER setting the RNG\n",
    "###################################\n",
    "x_net = build_sequential(p.x_net)"
   ]
  },
  {
   "cell_type": "code",
   "execution_count": 9,
   "id": "5d7e61cc",
   "metadata": {
    "execution": {
     "iopub.execute_input": "2022-03-25T15:22:12.764561Z",
     "iopub.status.busy": "2022-03-25T15:22:12.764321Z",
     "iopub.status.idle": "2022-03-25T15:22:12.778666Z",
     "shell.execute_reply": "2022-03-25T15:22:12.779029Z"
    },
    "papermill": {
     "duration": 0.029418,
     "end_time": "2022-03-25T15:22:12.779133",
     "exception": false,
     "start_time": "2022-03-25T15:22:12.749715",
     "status": "completed"
    },
    "tags": []
   },
   "outputs": [],
   "source": [
    "start_time_secs = time.time()"
   ]
  },
  {
   "cell_type": "code",
   "execution_count": 10,
   "id": "c6b67dfd",
   "metadata": {
    "execution": {
     "iopub.execute_input": "2022-03-25T15:22:12.812919Z",
     "iopub.status.busy": "2022-03-25T15:22:12.812672Z",
     "iopub.status.idle": "2022-03-25T15:22:12.826765Z",
     "shell.execute_reply": "2022-03-25T15:22:12.827112Z"
    },
    "papermill": {
     "duration": 0.030331,
     "end_time": "2022-03-25T15:22:12.827217",
     "exception": false,
     "start_time": "2022-03-25T15:22:12.796886",
     "status": "completed"
    },
    "tags": []
   },
   "outputs": [],
   "source": [
    "p.domains_source = []\n",
    "p.domains_target = []\n",
    "\n",
    "\n",
    "train_original_source = []\n",
    "val_original_source   = []\n",
    "test_original_source  = []\n",
    "\n",
    "train_original_target = []\n",
    "val_original_target   = []\n",
    "test_original_target  = []"
   ]
  },
  {
   "cell_type": "code",
   "execution_count": 11,
   "id": "e3d9c3d3",
   "metadata": {
    "execution": {
     "iopub.execute_input": "2022-03-25T15:22:12.859979Z",
     "iopub.status.busy": "2022-03-25T15:22:12.859738Z",
     "iopub.status.idle": "2022-03-25T15:22:12.873047Z",
     "shell.execute_reply": "2022-03-25T15:22:12.872801Z"
    },
    "papermill": {
     "duration": 0.027861,
     "end_time": "2022-03-25T15:22:12.873094",
     "exception": false,
     "start_time": "2022-03-25T15:22:12.845233",
     "status": "completed"
    },
    "tags": []
   },
   "outputs": [],
   "source": [
    "# global_x_transform_func = lambda x: normalize(x.to(torch.get_default_dtype()), \"unit_power\") # unit_power, unit_mag\n",
    "# global_x_transform_func = lambda x: normalize(x, \"unit_power\") # unit_power, unit_mag"
   ]
  },
  {
   "cell_type": "code",
   "execution_count": 12,
   "id": "acb78fd2",
   "metadata": {
    "execution": {
     "iopub.execute_input": "2022-03-25T15:22:12.909717Z",
     "iopub.status.busy": "2022-03-25T15:22:12.909423Z",
     "iopub.status.idle": "2022-03-25T15:22:12.923244Z",
     "shell.execute_reply": "2022-03-25T15:22:12.922854Z"
    },
    "papermill": {
     "duration": 0.033601,
     "end_time": "2022-03-25T15:22:12.923333",
     "exception": false,
     "start_time": "2022-03-25T15:22:12.889732",
     "status": "completed"
    },
    "tags": []
   },
   "outputs": [],
   "source": [
    "def add_dataset(\n",
    "    labels,\n",
    "    domains,\n",
    "    pickle_path,\n",
    "    x_transforms,\n",
    "    episode_transforms,\n",
    "    domain_prefix,\n",
    "    num_examples_per_domain_per_label,\n",
    "    source_or_target_dataset:str,\n",
    "    iterator_seed=p.seed,\n",
    "    dataset_seed=p.dataset_seed,\n",
    "    n_shot=p.n_shot,\n",
    "    n_way=p.n_way,\n",
    "    n_query=p.n_query,\n",
    "    train_val_test_k_factors=(p.train_k_factor,p.val_k_factor,p.test_k_factor),\n",
    "):\n",
    "   \n",
    "    if x_transforms == []: x_transform = None\n",
    "    else: x_transform = get_chained_transform(x_transforms)\n",
    "    \n",
    "    if episode_transforms == []: episode_transform = None\n",
    "    else: raise Exception(\"episode_transforms not implemented\")\n",
    "    \n",
    "    episode_transform = lambda tup, _prefix=domain_prefix: (_prefix + str(tup[0]), tup[1])\n",
    "\n",
    "\n",
    "    eaf = Episodic_Accessor_Factory(\n",
    "        labels=labels,\n",
    "        domains=domains,\n",
    "        num_examples_per_domain_per_label=num_examples_per_domain_per_label,\n",
    "        iterator_seed=iterator_seed,\n",
    "        dataset_seed=dataset_seed,\n",
    "        n_shot=n_shot,\n",
    "        n_way=n_way,\n",
    "        n_query=n_query,\n",
    "        train_val_test_k_factors=train_val_test_k_factors,\n",
    "        pickle_path=pickle_path,\n",
    "        x_transform_func=x_transform,\n",
    "    )\n",
    "\n",
    "    train, val, test = eaf.get_train(), eaf.get_val(), eaf.get_test()\n",
    "    train = Lazy_Iterable_Wrapper(train, episode_transform)\n",
    "    val = Lazy_Iterable_Wrapper(val, episode_transform)\n",
    "    test = Lazy_Iterable_Wrapper(test, episode_transform)\n",
    "\n",
    "    if source_or_target_dataset==\"source\":\n",
    "        train_original_source.append(train)\n",
    "        val_original_source.append(val)\n",
    "        test_original_source.append(test)\n",
    "\n",
    "        p.domains_source.extend(\n",
    "            [domain_prefix + str(u) for u in domains]\n",
    "        )\n",
    "    elif source_or_target_dataset==\"target\":\n",
    "        train_original_target.append(train)\n",
    "        val_original_target.append(val)\n",
    "        test_original_target.append(test)\n",
    "        p.domains_target.extend(\n",
    "            [domain_prefix + str(u) for u in domains]\n",
    "        )\n",
    "    else:\n",
    "        raise Exception(f\"invalid source_or_target_dataset: {source_or_target_dataset}\")\n",
    "    "
   ]
  },
  {
   "cell_type": "code",
   "execution_count": 13,
   "id": "fe266617",
   "metadata": {
    "execution": {
     "iopub.execute_input": "2022-03-25T15:22:12.954703Z",
     "iopub.status.busy": "2022-03-25T15:22:12.954462Z",
     "iopub.status.idle": "2022-03-25T15:23:05.783314Z",
     "shell.execute_reply": "2022-03-25T15:23:05.782871Z"
    },
    "papermill": {
     "duration": 52.843964,
     "end_time": "2022-03-25T15:23:05.783418",
     "exception": false,
     "start_time": "2022-03-25T15:22:12.939454",
     "status": "completed"
    },
    "tags": []
   },
   "outputs": [],
   "source": [
    "for ds in p.datasets:\n",
    "    add_dataset(**ds)"
   ]
  },
  {
   "cell_type": "code",
   "execution_count": 14,
   "id": "b90d65ac",
   "metadata": {
    "execution": {
     "iopub.execute_input": "2022-03-25T15:23:05.819288Z",
     "iopub.status.busy": "2022-03-25T15:23:05.819036Z",
     "iopub.status.idle": "2022-03-25T15:23:05.830458Z",
     "shell.execute_reply": "2022-03-25T15:23:05.829969Z"
    },
    "papermill": {
     "duration": 0.026176,
     "end_time": "2022-03-25T15:23:05.830556",
     "exception": false,
     "start_time": "2022-03-25T15:23:05.804380",
     "status": "completed"
    },
    "tags": []
   },
   "outputs": [],
   "source": [
    "# from steves_utils.CORES.utils import (\n",
    "#     ALL_NODES,\n",
    "#     ALL_NODES_MINIMUM_1000_EXAMPLES,\n",
    "#     ALL_DAYS\n",
    "# )\n",
    "\n",
    "# add_dataset(\n",
    "#     labels=ALL_NODES,\n",
    "#     domains = ALL_DAYS,\n",
    "#     num_examples_per_domain_per_label=100,\n",
    "#     pickle_path=os.path.join(get_datasets_base_path(), \"cores.stratified_ds.2022A.pkl\"),\n",
    "#     source_or_target_dataset=\"target\",\n",
    "#     x_transform_func=global_x_transform_func,\n",
    "#     domain_modifier=lambda u: f\"cores_{u}\"\n",
    "# )"
   ]
  },
  {
   "cell_type": "code",
   "execution_count": 15,
   "id": "76db484d",
   "metadata": {
    "execution": {
     "iopub.execute_input": "2022-03-25T15:23:05.861816Z",
     "iopub.status.busy": "2022-03-25T15:23:05.861208Z",
     "iopub.status.idle": "2022-03-25T15:23:05.876846Z",
     "shell.execute_reply": "2022-03-25T15:23:05.876377Z"
    },
    "papermill": {
     "duration": 0.031098,
     "end_time": "2022-03-25T15:23:05.876945",
     "exception": false,
     "start_time": "2022-03-25T15:23:05.845847",
     "status": "completed"
    },
    "tags": []
   },
   "outputs": [],
   "source": [
    "# from steves_utils.ORACLE.utils_v2 import (\n",
    "#     ALL_DISTANCES_FEET,\n",
    "#     ALL_RUNS,\n",
    "#     ALL_SERIAL_NUMBERS,\n",
    "# )\n",
    "\n",
    "\n",
    "# add_dataset(\n",
    "#     labels=ALL_SERIAL_NUMBERS,\n",
    "#     domains = list(set(ALL_DISTANCES_FEET) - {2,62}),\n",
    "#     num_examples_per_domain_per_label=100,\n",
    "#     pickle_path=os.path.join(get_datasets_base_path(), \"oracle.Run2_framed_2000Examples_stratified_ds.2022A.pkl\"),\n",
    "#     source_or_target_dataset=\"source\",\n",
    "#     x_transform_func=global_x_transform_func,\n",
    "#     domain_modifier=lambda u: f\"oracle1_{u}\"\n",
    "# )\n"
   ]
  },
  {
   "cell_type": "code",
   "execution_count": 16,
   "id": "97dea9d2",
   "metadata": {
    "execution": {
     "iopub.execute_input": "2022-03-25T15:23:05.910293Z",
     "iopub.status.busy": "2022-03-25T15:23:05.909867Z",
     "iopub.status.idle": "2022-03-25T15:23:05.920825Z",
     "shell.execute_reply": "2022-03-25T15:23:05.921037Z"
    },
    "papermill": {
     "duration": 0.025982,
     "end_time": "2022-03-25T15:23:05.921109",
     "exception": false,
     "start_time": "2022-03-25T15:23:05.895127",
     "status": "completed"
    },
    "tags": []
   },
   "outputs": [],
   "source": [
    "# from steves_utils.ORACLE.utils_v2 import (\n",
    "#     ALL_DISTANCES_FEET,\n",
    "#     ALL_RUNS,\n",
    "#     ALL_SERIAL_NUMBERS,\n",
    "# )\n",
    "\n",
    "\n",
    "# add_dataset(\n",
    "#     labels=ALL_SERIAL_NUMBERS,\n",
    "#     domains = list(set(ALL_DISTANCES_FEET) - {2,62,56}),\n",
    "#     num_examples_per_domain_per_label=100,\n",
    "#     pickle_path=os.path.join(get_datasets_base_path(), \"oracle.Run2_framed_2000Examples_stratified_ds.2022A.pkl\"),\n",
    "#     source_or_target_dataset=\"source\",\n",
    "#     x_transform_func=global_x_transform_func,\n",
    "#     domain_modifier=lambda u: f\"oracle2_{u}\"\n",
    "# )"
   ]
  },
  {
   "cell_type": "code",
   "execution_count": 17,
   "id": "6f289866",
   "metadata": {
    "execution": {
     "iopub.execute_input": "2022-03-25T15:23:05.950762Z",
     "iopub.status.busy": "2022-03-25T15:23:05.950507Z",
     "iopub.status.idle": "2022-03-25T15:23:05.964913Z",
     "shell.execute_reply": "2022-03-25T15:23:05.964599Z"
    },
    "papermill": {
     "duration": 0.029085,
     "end_time": "2022-03-25T15:23:05.964987",
     "exception": false,
     "start_time": "2022-03-25T15:23:05.935902",
     "status": "completed"
    },
    "tags": []
   },
   "outputs": [],
   "source": [
    "# add_dataset(\n",
    "#     labels=list(range(19)),\n",
    "#     domains = [0,1,2],\n",
    "#     num_examples_per_domain_per_label=100,\n",
    "#     pickle_path=os.path.join(get_datasets_base_path(), \"metehan.stratified_ds.2022A.pkl\"),\n",
    "#     source_or_target_dataset=\"target\",\n",
    "#     x_transform_func=global_x_transform_func,\n",
    "#     domain_modifier=lambda u: f\"met_{u}\"\n",
    "# )"
   ]
  },
  {
   "cell_type": "code",
   "execution_count": 18,
   "id": "86a863c3",
   "metadata": {
    "execution": {
     "iopub.execute_input": "2022-03-25T15:23:05.995640Z",
     "iopub.status.busy": "2022-03-25T15:23:05.995389Z",
     "iopub.status.idle": "2022-03-25T15:23:06.011775Z",
     "shell.execute_reply": "2022-03-25T15:23:06.011308Z"
    },
    "papermill": {
     "duration": 0.031544,
     "end_time": "2022-03-25T15:23:06.011871",
     "exception": false,
     "start_time": "2022-03-25T15:23:05.980327",
     "status": "completed"
    },
    "tags": []
   },
   "outputs": [],
   "source": [
    "# # from steves_utils.wisig.utils import (\n",
    "# #     ALL_NODES_MINIMUM_100_EXAMPLES,\n",
    "# #     ALL_NODES_MINIMUM_500_EXAMPLES,\n",
    "# #     ALL_NODES_MINIMUM_1000_EXAMPLES,\n",
    "# #     ALL_DAYS\n",
    "# # )\n",
    "\n",
    "# import steves_utils.wisig.utils as wisig\n",
    "\n",
    "\n",
    "# add_dataset(\n",
    "#     labels=wisig.ALL_NODES_MINIMUM_100_EXAMPLES,\n",
    "#     domains = wisig.ALL_DAYS,\n",
    "#     num_examples_per_domain_per_label=100,\n",
    "#     pickle_path=os.path.join(get_datasets_base_path(), \"wisig.node3-19.stratified_ds.2022A.pkl\"),\n",
    "#     source_or_target_dataset=\"target\",\n",
    "#     x_transform_func=global_x_transform_func,\n",
    "#     domain_modifier=lambda u: f\"wisig_{u}\"\n",
    "# )"
   ]
  },
  {
   "cell_type": "code",
   "execution_count": 19,
   "id": "fd5442bc",
   "metadata": {
    "execution": {
     "iopub.execute_input": "2022-03-25T15:23:06.048346Z",
     "iopub.status.busy": "2022-03-25T15:23:06.048085Z",
     "iopub.status.idle": "2022-03-25T15:23:06.061484Z",
     "shell.execute_reply": "2022-03-25T15:23:06.061779Z"
    },
    "papermill": {
     "duration": 0.031403,
     "end_time": "2022-03-25T15:23:06.061874",
     "exception": false,
     "start_time": "2022-03-25T15:23:06.030471",
     "status": "completed"
    },
    "tags": []
   },
   "outputs": [],
   "source": [
    "###################################\n",
    "# Build the dataset\n",
    "###################################\n",
    "train_original_source = Iterable_Aggregator(train_original_source, p.seed)\n",
    "val_original_source = Iterable_Aggregator(val_original_source, p.seed)\n",
    "test_original_source = Iterable_Aggregator(test_original_source, p.seed)\n",
    "\n",
    "\n",
    "train_original_target = Iterable_Aggregator(train_original_target, p.seed)\n",
    "val_original_target = Iterable_Aggregator(val_original_target, p.seed)\n",
    "test_original_target = Iterable_Aggregator(test_original_target, p.seed)\n",
    "\n",
    "# For CNN We only use X and Y. And we only train on the source.\n",
    "# Properly form the data using a transform lambda and Lazy_Iterable_Wrapper. Finally wrap them in a dataloader\n",
    "\n",
    "transform_lambda = lambda ex: ex[1] # Original is (<domain>, <episode>) so we strip down to episode only\n",
    "\n",
    "train_processed_source = Lazy_Iterable_Wrapper(train_original_source, transform_lambda)\n",
    "val_processed_source   = Lazy_Iterable_Wrapper(val_original_source, transform_lambda)\n",
    "test_processed_source  = Lazy_Iterable_Wrapper(test_original_source, transform_lambda)\n",
    "\n",
    "train_processed_target = Lazy_Iterable_Wrapper(train_original_target, transform_lambda)\n",
    "val_processed_target   = Lazy_Iterable_Wrapper(val_original_target, transform_lambda)\n",
    "test_processed_target  = Lazy_Iterable_Wrapper(test_original_target, transform_lambda)\n",
    "\n",
    "datasets = EasyDict({\n",
    "    \"source\": {\n",
    "        \"original\": {\"train\":train_original_source, \"val\":val_original_source, \"test\":test_original_source},\n",
    "        \"processed\": {\"train\":train_processed_source, \"val\":val_processed_source, \"test\":test_processed_source}\n",
    "    },\n",
    "    \"target\": {\n",
    "        \"original\": {\"train\":train_original_target, \"val\":val_original_target, \"test\":test_original_target},\n",
    "        \"processed\": {\"train\":train_processed_target, \"val\":val_processed_target, \"test\":test_processed_target}\n",
    "    },\n",
    "})"
   ]
  },
  {
   "cell_type": "code",
   "execution_count": 20,
   "id": "5b3c01fc",
   "metadata": {
    "execution": {
     "iopub.execute_input": "2022-03-25T15:23:06.097558Z",
     "iopub.status.busy": "2022-03-25T15:23:06.097306Z",
     "iopub.status.idle": "2022-03-25T15:23:12.296692Z",
     "shell.execute_reply": "2022-03-25T15:23:12.297067Z"
    },
    "papermill": {
     "duration": 6.215866,
     "end_time": "2022-03-25T15:23:12.297174",
     "exception": false,
     "start_time": "2022-03-25T15:23:06.081308",
     "status": "completed"
    },
    "tags": []
   },
   "outputs": [
    {
     "name": "stdout",
     "output_type": "stream",
     "text": [
      "{'C_1', 'C_3', 'C_2', 'C_5', 'C_4'}\n"
     ]
    },
    {
     "name": "stdout",
     "output_type": "stream",
     "text": [
      "{'O_8', 'O_44', 'O_20', 'O_50', 'O_38', 'O_26', 'O_14', 'O_32'}\n"
     ]
    },
    {
     "name": "stdout",
     "output_type": "stream",
     "text": [
      "tensor([[[-0.0147, -0.1155, -0.3270,  ...,  0.0060, -0.0170, -0.5900],\n",
      "         [ 0.0046, -0.0077, -0.1809,  ...,  1.0465,  0.2459, -0.8292]],\n",
      "\n",
      "        [[-0.0220, -0.1549, -0.3762,  ...,  0.1259, -0.1432, -0.8385],\n",
      "         [-0.0041, -0.0635, -0.3000,  ...,  0.8437, -0.0446, -1.1066]],\n",
      "\n",
      "        [[-0.0105, -0.0786, -0.2096,  ..., -0.5523, -0.2088, -0.1584],\n",
      "         [ 0.0064,  0.0063, -0.1479,  ...,  1.0984,  0.5415, -0.5456]],\n",
      "\n",
      "        ...,\n",
      "\n",
      "        [[ 0.0252,  0.1846,  0.5500,  ...,  0.0782,  0.4293, -0.2171],\n",
      "         [ 0.0188,  0.1478,  0.4393,  ...,  1.3337,  1.0188,  0.4576]],\n",
      "\n",
      "        [[ 0.0167,  0.1168,  0.3002,  ...,  0.0915, -0.3559, -0.6378],\n",
      "         [ 0.0064,  0.0405,  0.0792,  ..., -0.3877,  0.2567, -0.0188]],\n",
      "\n",
      "        [[ 0.0139,  0.1083,  0.3539,  ..., -0.1648, -0.2858, -0.3417],\n",
      "         [ 0.0408,  0.2799,  0.7001,  ...,  1.2520,  0.7295, -0.0662]]])\n"
     ]
    }
   ],
   "source": [
    "from steves_utils.transforms import get_average_magnitude, get_average_power\n",
    "\n",
    "print(set([u for u,_ in val_original_source]))\n",
    "print(set([u for u,_ in val_original_target]))\n",
    "\n",
    "s_x, s_y, q_x, q_y, _ = next(iter(train_processed_source))\n",
    "print(s_x)\n",
    "\n",
    "# for ds in [\n",
    "#     train_processed_source,\n",
    "#     val_processed_source,\n",
    "#     test_processed_source,\n",
    "#     train_processed_target,\n",
    "#     val_processed_target,\n",
    "#     test_processed_target\n",
    "# ]:\n",
    "#     for s_x, s_y, q_x, q_y, _ in ds:\n",
    "#         for X in (s_x, q_x):\n",
    "#             for x in X:\n",
    "#                 assert np.isclose(get_average_magnitude(x.numpy()), 1.0)\n",
    "#                 assert np.isclose(get_average_power(x.numpy()), 1.0)\n",
    "                "
   ]
  },
  {
   "cell_type": "code",
   "execution_count": 21,
   "id": "bbdacba1",
   "metadata": {
    "execution": {
     "iopub.execute_input": "2022-03-25T15:23:12.331977Z",
     "iopub.status.busy": "2022-03-25T15:23:12.331721Z",
     "iopub.status.idle": "2022-03-25T15:23:12.382629Z",
     "shell.execute_reply": "2022-03-25T15:23:12.383039Z"
    },
    "papermill": {
     "duration": 0.068657,
     "end_time": "2022-03-25T15:23:12.383172",
     "exception": false,
     "start_time": "2022-03-25T15:23:12.314515",
     "status": "completed"
    },
    "tags": []
   },
   "outputs": [
    {
     "name": "stdout",
     "output_type": "stream",
     "text": [
      "(2, 200)\n"
     ]
    }
   ],
   "source": [
    "###################################\n",
    "# Build the model\n",
    "###################################\n",
    "# easfsl only wants a tuple for the shape\n",
    "model = Steves_Prototypical_Network(x_net, device=p.device, x_shape=tuple(p.x_shape))\n",
    "optimizer = Adam(params=model.parameters(), lr=p.lr)"
   ]
  },
  {
   "cell_type": "code",
   "execution_count": 22,
   "id": "22b39ac5",
   "metadata": {
    "execution": {
     "iopub.execute_input": "2022-03-25T15:23:12.416762Z",
     "iopub.status.busy": "2022-03-25T15:23:12.416505Z",
     "iopub.status.idle": "2022-03-25T15:52:55.493743Z",
     "shell.execute_reply": "2022-03-25T15:52:55.493422Z"
    },
    "papermill": {
     "duration": 1783.09434,
     "end_time": "2022-03-25T15:52:55.493819",
     "exception": false,
     "start_time": "2022-03-25T15:23:12.399479",
     "status": "completed"
    },
    "tags": []
   },
   "outputs": [
    {
     "name": "stdout",
     "output_type": "stream",
     "text": [
      "epoch: 1, [batch: 1 / 6320], examples_per_second: 52.0666, train_label_loss: 2.6985, \n"
     ]
    },
    {
     "name": "stdout",
     "output_type": "stream",
     "text": [
      "epoch: 1, [batch: 632 / 6320], examples_per_second: 3771.5864, train_label_loss: 0.0072, \n"
     ]
    },
    {
     "name": "stdout",
     "output_type": "stream",
     "text": [
      "epoch: 1, [batch: 1264 / 6320], examples_per_second: 3840.1942, train_label_loss: 0.0029, \n"
     ]
    },
    {
     "name": "stdout",
     "output_type": "stream",
     "text": [
      "epoch: 1, [batch: 1896 / 6320], examples_per_second: 3821.9755, train_label_loss: 0.0014, \n"
     ]
    },
    {
     "name": "stdout",
     "output_type": "stream",
     "text": [
      "epoch: 1, [batch: 2528 / 6320], examples_per_second: 3811.9935, train_label_loss: 0.0072, \n"
     ]
    },
    {
     "name": "stdout",
     "output_type": "stream",
     "text": [
      "epoch: 1, [batch: 3160 / 6320], examples_per_second: 3760.2836, train_label_loss: 0.0004, \n"
     ]
    },
    {
     "name": "stdout",
     "output_type": "stream",
     "text": [
      "epoch: 1, [batch: 3792 / 6320], examples_per_second: 2182.4147, train_label_loss: 0.0003, \n"
     ]
    },
    {
     "name": "stdout",
     "output_type": "stream",
     "text": [
      "epoch: 1, [batch: 4424 / 6320], examples_per_second: 1970.1942, train_label_loss: 0.0032, \n"
     ]
    },
    {
     "name": "stdout",
     "output_type": "stream",
     "text": [
      "epoch: 1, [batch: 5056 / 6320], examples_per_second: 1970.7853, train_label_loss: 0.0033, \n"
     ]
    },
    {
     "name": "stdout",
     "output_type": "stream",
     "text": [
      "epoch: 1, [batch: 5688 / 6320], examples_per_second: 1973.1399, train_label_loss: 0.0013, \n"
     ]
    },
    {
     "name": "stdout",
     "output_type": "stream",
     "text": [
      "=============================================================\n",
      "epoch: 1, source_val_acc_label: 0.9985, target_val_acc_label: 0.3042, source_val_label_loss: 0.0075, target_val_label_loss: 2.0097, \n",
      "=============================================================\n"
     ]
    },
    {
     "name": "stdout",
     "output_type": "stream",
     "text": [
      "New best\n"
     ]
    },
    {
     "name": "stdout",
     "output_type": "stream",
     "text": [
      "epoch: 2, [batch: 1 / 6305], examples_per_second: 2.9714, train_label_loss: 0.0025, \n"
     ]
    },
    {
     "name": "stdout",
     "output_type": "stream",
     "text": [
      "epoch: 2, [batch: 631 / 6305], examples_per_second: 1980.5974, train_label_loss: 0.0000, \n"
     ]
    },
    {
     "name": "stdout",
     "output_type": "stream",
     "text": [
      "epoch: 2, [batch: 1261 / 6305], examples_per_second: 1978.3677, train_label_loss: 0.0253, \n"
     ]
    },
    {
     "name": "stdout",
     "output_type": "stream",
     "text": [
      "epoch: 2, [batch: 1892 / 6305], examples_per_second: 1977.6498, train_label_loss: 0.0001, \n"
     ]
    },
    {
     "name": "stdout",
     "output_type": "stream",
     "text": [
      "epoch: 2, [batch: 2522 / 6305], examples_per_second: 2041.3503, train_label_loss: 0.0003, \n"
     ]
    },
    {
     "name": "stdout",
     "output_type": "stream",
     "text": [
      "epoch: 2, [batch: 3153 / 6305], examples_per_second: 2513.2754, train_label_loss: 0.0001, \n"
     ]
    },
    {
     "name": "stdout",
     "output_type": "stream",
     "text": [
      "epoch: 2, [batch: 3783 / 6305], examples_per_second: 2259.2242, train_label_loss: 0.0000, \n"
     ]
    },
    {
     "name": "stdout",
     "output_type": "stream",
     "text": [
      "epoch: 2, [batch: 4413 / 6305], examples_per_second: 1994.9251, train_label_loss: 0.0000, \n"
     ]
    },
    {
     "name": "stdout",
     "output_type": "stream",
     "text": [
      "epoch: 2, [batch: 5044 / 6305], examples_per_second: 2002.0465, train_label_loss: 0.0001, \n"
     ]
    },
    {
     "name": "stdout",
     "output_type": "stream",
     "text": [
      "epoch: 2, [batch: 5674 / 6305], examples_per_second: 2009.4655, train_label_loss: 0.0006, \n"
     ]
    },
    {
     "name": "stdout",
     "output_type": "stream",
     "text": [
      "=============================================================\n",
      "epoch: 2, source_val_acc_label: 0.9966, target_val_acc_label: 0.2785, source_val_label_loss: 0.0180, target_val_label_loss: 2.9131, \n",
      "=============================================================\n"
     ]
    },
    {
     "name": "stdout",
     "output_type": "stream",
     "text": [
      "epoch: 3, [batch: 1 / 6307], examples_per_second: 3.0065, train_label_loss: 0.0000, \n"
     ]
    },
    {
     "name": "stdout",
     "output_type": "stream",
     "text": [
      "epoch: 3, [batch: 631 / 6307], examples_per_second: 2006.7084, train_label_loss: 0.0000, \n"
     ]
    },
    {
     "name": "stdout",
     "output_type": "stream",
     "text": [
      "epoch: 3, [batch: 1262 / 6307], examples_per_second: 2000.3146, train_label_loss: 0.0001, \n"
     ]
    },
    {
     "name": "stdout",
     "output_type": "stream",
     "text": [
      "epoch: 3, [batch: 1892 / 6307], examples_per_second: 2001.3484, train_label_loss: 0.0000, \n"
     ]
    },
    {
     "name": "stdout",
     "output_type": "stream",
     "text": [
      "epoch: 3, [batch: 2523 / 6307], examples_per_second: 2078.7099, train_label_loss: 0.0000, \n"
     ]
    },
    {
     "name": "stdout",
     "output_type": "stream",
     "text": [
      "epoch: 3, [batch: 3154 / 6307], examples_per_second: 2504.7131, train_label_loss: 0.0001, \n"
     ]
    },
    {
     "name": "stdout",
     "output_type": "stream",
     "text": [
      "epoch: 3, [batch: 3784 / 6307], examples_per_second: 2239.8846, train_label_loss: 0.0009, \n"
     ]
    },
    {
     "name": "stdout",
     "output_type": "stream",
     "text": [
      "epoch: 3, [batch: 4415 / 6307], examples_per_second: 1999.8058, train_label_loss: 0.0000, \n"
     ]
    },
    {
     "name": "stdout",
     "output_type": "stream",
     "text": [
      "epoch: 3, [batch: 5045 / 6307], examples_per_second: 2002.4757, train_label_loss: 0.0003, \n"
     ]
    },
    {
     "name": "stdout",
     "output_type": "stream",
     "text": [
      "epoch: 3, [batch: 5676 / 6307], examples_per_second: 2007.1153, train_label_loss: 0.0000, \n"
     ]
    },
    {
     "name": "stdout",
     "output_type": "stream",
     "text": [
      "=============================================================\n",
      "epoch: 3, source_val_acc_label: 0.9991, target_val_acc_label: 0.3199, source_val_label_loss: 0.0089, target_val_label_loss: 2.2855, \n",
      "=============================================================\n"
     ]
    },
    {
     "name": "stdout",
     "output_type": "stream",
     "text": [
      "New best\n"
     ]
    },
    {
     "name": "stdout",
     "output_type": "stream",
     "text": [
      "epoch: 4, [batch: 1 / 6315], examples_per_second: 3.0166, train_label_loss: 0.0000, \n"
     ]
    },
    {
     "name": "stdout",
     "output_type": "stream",
     "text": [
      "epoch: 4, [batch: 632 / 6315], examples_per_second: 2005.6272, train_label_loss: 0.0000, \n"
     ]
    },
    {
     "name": "stdout",
     "output_type": "stream",
     "text": [
      "epoch: 4, [batch: 1263 / 6315], examples_per_second: 2001.6013, train_label_loss: 0.0000, \n"
     ]
    },
    {
     "name": "stdout",
     "output_type": "stream",
     "text": [
      "epoch: 4, [batch: 1895 / 6315], examples_per_second: 2003.4644, train_label_loss: 0.0000, \n"
     ]
    },
    {
     "name": "stdout",
     "output_type": "stream",
     "text": [
      "epoch: 4, [batch: 2526 / 6315], examples_per_second: 2079.4351, train_label_loss: 0.0003, \n"
     ]
    },
    {
     "name": "stdout",
     "output_type": "stream",
     "text": [
      "epoch: 4, [batch: 3158 / 6315], examples_per_second: 2505.3485, train_label_loss: 0.0000, \n"
     ]
    },
    {
     "name": "stdout",
     "output_type": "stream",
     "text": [
      "epoch: 4, [batch: 3789 / 6315], examples_per_second: 2240.9853, train_label_loss: 0.0113, \n"
     ]
    },
    {
     "name": "stdout",
     "output_type": "stream",
     "text": [
      "epoch: 4, [batch: 4420 / 6315], examples_per_second: 1998.9616, train_label_loss: 0.0003, \n"
     ]
    },
    {
     "name": "stdout",
     "output_type": "stream",
     "text": [
      "epoch: 4, [batch: 5052 / 6315], examples_per_second: 2001.5956, train_label_loss: 0.0000, \n"
     ]
    },
    {
     "name": "stdout",
     "output_type": "stream",
     "text": [
      "epoch: 4, [batch: 5683 / 6315], examples_per_second: 2005.4825, train_label_loss: 0.0000, \n"
     ]
    },
    {
     "name": "stdout",
     "output_type": "stream",
     "text": [
      "=============================================================\n",
      "epoch: 4, source_val_acc_label: 0.9982, target_val_acc_label: 0.2558, source_val_label_loss: 0.0139, target_val_label_loss: 3.2898, \n",
      "=============================================================\n"
     ]
    },
    {
     "name": "stdout",
     "output_type": "stream",
     "text": [
      "epoch: 5, [batch: 1 / 6313], examples_per_second: 3.0064, train_label_loss: 0.0000, \n"
     ]
    },
    {
     "name": "stdout",
     "output_type": "stream",
     "text": [
      "epoch: 5, [batch: 632 / 6313], examples_per_second: 2005.2913, train_label_loss: 0.0000, \n"
     ]
    },
    {
     "name": "stdout",
     "output_type": "stream",
     "text": [
      "epoch: 5, [batch: 1263 / 6313], examples_per_second: 1999.0587, train_label_loss: 0.0003, \n"
     ]
    },
    {
     "name": "stdout",
     "output_type": "stream",
     "text": [
      "epoch: 5, [batch: 1894 / 6313], examples_per_second: 2001.0489, train_label_loss: 0.0000, \n"
     ]
    },
    {
     "name": "stdout",
     "output_type": "stream",
     "text": [
      "epoch: 5, [batch: 2525 / 6313], examples_per_second: 2089.5263, train_label_loss: 0.0000, \n"
     ]
    },
    {
     "name": "stdout",
     "output_type": "stream",
     "text": [
      "epoch: 5, [batch: 3157 / 6313], examples_per_second: 2503.5797, train_label_loss: 0.0011, \n"
     ]
    },
    {
     "name": "stdout",
     "output_type": "stream",
     "text": [
      "epoch: 5, [batch: 3788 / 6313], examples_per_second: 2243.5074, train_label_loss: 0.0000, \n"
     ]
    },
    {
     "name": "stdout",
     "output_type": "stream",
     "text": [
      "epoch: 5, [batch: 4419 / 6313], examples_per_second: 1997.2011, train_label_loss: 0.0000, \n"
     ]
    },
    {
     "name": "stdout",
     "output_type": "stream",
     "text": [
      "epoch: 5, [batch: 5050 / 6313], examples_per_second: 2000.5529, train_label_loss: 0.0000, \n"
     ]
    },
    {
     "name": "stdout",
     "output_type": "stream",
     "text": [
      "epoch: 5, [batch: 5681 / 6313], examples_per_second: 2006.4431, train_label_loss: 0.0001, \n"
     ]
    },
    {
     "name": "stdout",
     "output_type": "stream",
     "text": [
      "=============================================================\n",
      "epoch: 5, source_val_acc_label: 0.9993, target_val_acc_label: 0.2839, source_val_label_loss: 0.0099, target_val_label_loss: 3.3795, \n",
      "=============================================================\n"
     ]
    },
    {
     "name": "stdout",
     "output_type": "stream",
     "text": [
      "epoch: 6, [batch: 1 / 6317], examples_per_second: 3.0091, train_label_loss: 0.0000, \n"
     ]
    },
    {
     "name": "stdout",
     "output_type": "stream",
     "text": [
      "epoch: 6, [batch: 632 / 6317], examples_per_second: 2002.6160, train_label_loss: 0.0000, \n"
     ]
    },
    {
     "name": "stdout",
     "output_type": "stream",
     "text": [
      "epoch: 6, [batch: 1264 / 6317], examples_per_second: 2001.3687, train_label_loss: 0.0000, \n"
     ]
    },
    {
     "name": "stdout",
     "output_type": "stream",
     "text": [
      "epoch: 6, [batch: 1895 / 6317], examples_per_second: 2002.7093, train_label_loss: 0.0000, \n"
     ]
    },
    {
     "name": "stdout",
     "output_type": "stream",
     "text": [
      "epoch: 6, [batch: 2527 / 6317], examples_per_second: 2088.0212, train_label_loss: 0.0000, \n"
     ]
    },
    {
     "name": "stdout",
     "output_type": "stream",
     "text": [
      "epoch: 6, [batch: 3159 / 6317], examples_per_second: 2497.6184, train_label_loss: 0.0000, \n"
     ]
    },
    {
     "name": "stdout",
     "output_type": "stream",
     "text": [
      "epoch: 6, [batch: 3790 / 6317], examples_per_second: 2492.0579, train_label_loss: 0.0000, \n"
     ]
    },
    {
     "name": "stdout",
     "output_type": "stream",
     "text": [
      "epoch: 6, [batch: 4422 / 6317], examples_per_second: 2503.5282, train_label_loss: 0.0000, \n"
     ]
    },
    {
     "name": "stdout",
     "output_type": "stream",
     "text": [
      "epoch: 6, [batch: 5053 / 6317], examples_per_second: 2461.8437, train_label_loss: 0.0000, \n"
     ]
    },
    {
     "name": "stdout",
     "output_type": "stream",
     "text": [
      "epoch: 6, [batch: 5685 / 6317], examples_per_second: 2408.2570, train_label_loss: 0.0118, \n"
     ]
    },
    {
     "name": "stdout",
     "output_type": "stream",
     "text": [
      "=============================================================\n",
      "epoch: 6, source_val_acc_label: 0.9990, target_val_acc_label: 0.3076, source_val_label_loss: 0.0109, target_val_label_loss: 2.9389, \n",
      "=============================================================\n"
     ]
    },
    {
     "name": "stdout",
     "output_type": "stream",
     "text": [
      "epoch: 7, [batch: 1 / 6322], examples_per_second: 4.6639, train_label_loss: 0.0000, \n"
     ]
    },
    {
     "name": "stdout",
     "output_type": "stream",
     "text": [
      "epoch: 7, [batch: 633 / 6322], examples_per_second: 3782.9400, train_label_loss: 0.0000, \n"
     ]
    },
    {
     "name": "stdout",
     "output_type": "stream",
     "text": [
      "epoch: 7, [batch: 1265 / 6322], examples_per_second: 3815.4466, train_label_loss: 0.0000, \n"
     ]
    },
    {
     "name": "stdout",
     "output_type": "stream",
     "text": [
      "epoch: 7, [batch: 1897 / 6322], examples_per_second: 3649.9424, train_label_loss: 0.0000, \n"
     ]
    },
    {
     "name": "stdout",
     "output_type": "stream",
     "text": [
      "epoch: 7, [batch: 2529 / 6322], examples_per_second: 3570.8658, train_label_loss: 0.0004, \n"
     ]
    },
    {
     "name": "stdout",
     "output_type": "stream",
     "text": [
      "epoch: 7, [batch: 3161 / 6322], examples_per_second: 2438.5510, train_label_loss: 0.0000, \n"
     ]
    },
    {
     "name": "stdout",
     "output_type": "stream",
     "text": [
      "epoch: 7, [batch: 3793 / 6322], examples_per_second: 1878.0843, train_label_loss: 0.0000, \n"
     ]
    },
    {
     "name": "stdout",
     "output_type": "stream",
     "text": [
      "epoch: 7, [batch: 4425 / 6322], examples_per_second: 1872.5784, train_label_loss: 0.0001, \n"
     ]
    },
    {
     "name": "stdout",
     "output_type": "stream",
     "text": [
      "epoch: 7, [batch: 5057 / 6322], examples_per_second: 1878.8458, train_label_loss: 0.0000, \n"
     ]
    },
    {
     "name": "stdout",
     "output_type": "stream",
     "text": [
      "epoch: 7, [batch: 5689 / 6322], examples_per_second: 1877.6641, train_label_loss: 0.0000, \n"
     ]
    },
    {
     "name": "stdout",
     "output_type": "stream",
     "text": [
      "=============================================================\n",
      "epoch: 7, source_val_acc_label: 0.9993, target_val_acc_label: 0.3124, source_val_label_loss: 0.0097, target_val_label_loss: 2.9136, \n",
      "=============================================================\n"
     ]
    },
    {
     "name": "stdout",
     "output_type": "stream",
     "text": [
      "Patience (3) exhausted\n"
     ]
    }
   ],
   "source": [
    "###################################\n",
    "# train\n",
    "###################################\n",
    "jig = PTN_Train_Eval_Test_Jig(model, p.BEST_MODEL_PATH, p.device)\n",
    "\n",
    "jig.train(\n",
    "    train_iterable=datasets.source.processed.train,\n",
    "    source_val_iterable=datasets.source.processed.val,\n",
    "    target_val_iterable=datasets.target.processed.val,\n",
    "    num_epochs=p.n_epoch,\n",
    "    num_logs_per_epoch=p.NUM_LOGS_PER_EPOCH,\n",
    "    patience=p.patience,\n",
    "    optimizer=optimizer,\n",
    "    criteria_for_best=p.criteria_for_best,\n",
    ")"
   ]
  },
  {
   "cell_type": "code",
   "execution_count": 23,
   "id": "31e8fabf",
   "metadata": {
    "execution": {
     "iopub.execute_input": "2022-03-25T15:52:55.575366Z",
     "iopub.status.busy": "2022-03-25T15:52:55.574923Z",
     "iopub.status.idle": "2022-03-25T15:52:55.590777Z",
     "shell.execute_reply": "2022-03-25T15:52:55.590527Z"
    },
    "papermill": {
     "duration": 0.059518,
     "end_time": "2022-03-25T15:52:55.590841",
     "exception": false,
     "start_time": "2022-03-25T15:52:55.531323",
     "status": "completed"
    },
    "tags": []
   },
   "outputs": [],
   "source": [
    "total_experiment_time_secs = time.time() - start_time_secs"
   ]
  },
  {
   "cell_type": "code",
   "execution_count": 24,
   "id": "87b9595b",
   "metadata": {
    "execution": {
     "iopub.execute_input": "2022-03-25T15:52:55.654388Z",
     "iopub.status.busy": "2022-03-25T15:52:55.653959Z",
     "iopub.status.idle": "2022-03-25T15:55:16.614845Z",
     "shell.execute_reply": "2022-03-25T15:55:16.615319Z"
    },
    "papermill": {
     "duration": 140.994117,
     "end_time": "2022-03-25T15:55:16.615468",
     "exception": false,
     "start_time": "2022-03-25T15:52:55.621351",
     "status": "completed"
    },
    "tags": []
   },
   "outputs": [],
   "source": [
    "###################################\n",
    "# Evaluate the model\n",
    "###################################\n",
    "source_test_label_accuracy, source_test_label_loss = jig.test(datasets.source.processed.test)\n",
    "target_test_label_accuracy, target_test_label_loss = jig.test(datasets.target.processed.test)\n",
    "\n",
    "source_val_label_accuracy, source_val_label_loss = jig.test(datasets.source.processed.val)\n",
    "target_val_label_accuracy, target_val_label_loss = jig.test(datasets.target.processed.val)\n",
    "\n",
    "history = jig.get_history()\n",
    "\n",
    "total_epochs_trained = len(history[\"epoch_indices\"])\n",
    "\n",
    "val_dl = Iterable_Aggregator((datasets.source.original.val,datasets.target.original.val))\n",
    "\n",
    "confusion = ptn_confusion_by_domain_over_dataloader(model, p.device, val_dl)\n",
    "per_domain_accuracy = per_domain_accuracy_from_confusion(confusion)\n",
    "\n",
    "# Add a key to per_domain_accuracy for if it was a source domain\n",
    "for domain, accuracy in per_domain_accuracy.items():\n",
    "    per_domain_accuracy[domain] = {\n",
    "        \"accuracy\": accuracy,\n",
    "        \"source?\": domain in p.domains_source\n",
    "    }\n",
    "\n",
    "# Do an independent accuracy assesment JUST TO BE SURE!\n",
    "# _source_test_label_accuracy = independent_accuracy_assesment(model, datasets.source.processed.test, p.device)\n",
    "# _target_test_label_accuracy = independent_accuracy_assesment(model, datasets.target.processed.test, p.device)\n",
    "# _source_val_label_accuracy = independent_accuracy_assesment(model, datasets.source.processed.val, p.device)\n",
    "# _target_val_label_accuracy = independent_accuracy_assesment(model, datasets.target.processed.val, p.device)\n",
    "\n",
    "# assert(_source_test_label_accuracy == source_test_label_accuracy)\n",
    "# assert(_target_test_label_accuracy == target_test_label_accuracy)\n",
    "# assert(_source_val_label_accuracy == source_val_label_accuracy)\n",
    "# assert(_target_val_label_accuracy == target_val_label_accuracy)\n",
    "\n",
    "experiment = {\n",
    "    \"experiment_name\": p.experiment_name,\n",
    "    \"parameters\": dict(p),\n",
    "    \"results\": {\n",
    "        \"source_test_label_accuracy\": source_test_label_accuracy,\n",
    "        \"source_test_label_loss\": source_test_label_loss,\n",
    "        \"target_test_label_accuracy\": target_test_label_accuracy,\n",
    "        \"target_test_label_loss\": target_test_label_loss,\n",
    "        \"source_val_label_accuracy\": source_val_label_accuracy,\n",
    "        \"source_val_label_loss\": source_val_label_loss,\n",
    "        \"target_val_label_accuracy\": target_val_label_accuracy,\n",
    "        \"target_val_label_loss\": target_val_label_loss,\n",
    "        \"total_epochs_trained\": total_epochs_trained,\n",
    "        \"total_experiment_time_secs\": total_experiment_time_secs,\n",
    "        \"confusion\": confusion,\n",
    "        \"per_domain_accuracy\": per_domain_accuracy,\n",
    "    },\n",
    "    \"history\": history,\n",
    "    \"dataset_metrics\": get_dataset_metrics(datasets, \"ptn\"),\n",
    "}"
   ]
  },
  {
   "cell_type": "code",
   "execution_count": 25,
   "id": "54a21829",
   "metadata": {
    "execution": {
     "iopub.execute_input": "2022-03-25T15:55:16.677884Z",
     "iopub.status.busy": "2022-03-25T15:55:16.677474Z",
     "iopub.status.idle": "2022-03-25T15:55:16.815579Z",
     "shell.execute_reply": "2022-03-25T15:55:16.816000Z"
    },
    "papermill": {
     "duration": 0.169272,
     "end_time": "2022-03-25T15:55:16.816130",
     "exception": false,
     "start_time": "2022-03-25T15:55:16.646858",
     "status": "completed"
    },
    "tags": []
   },
   "outputs": [
    {
     "data": {
      "image/png": "[encoded data removed]",
      "text/plain": [
       "<Figure size 1080x504 with 1 Axes>"
      ]
     },
     "metadata": {
      "needs_background": "light"
     },
     "output_type": "display_data"
    }
   ],
   "source": [
    "ax = get_loss_curve(experiment)\n",
    "plt.show()"
   ]
  },
  {
   "cell_type": "code",
   "execution_count": 26,
   "id": "fd8a0f60",
   "metadata": {
    "execution": {
     "iopub.execute_input": "2022-03-25T15:55:16.883526Z",
     "iopub.status.busy": "2022-03-25T15:55:16.882830Z",
     "iopub.status.idle": "2022-03-25T15:55:17.049582Z",
     "shell.execute_reply": "2022-03-25T15:55:17.049808Z"
    },
    "papermill": {
     "duration": 0.198597,
     "end_time": "2022-03-25T15:55:17.049889",
     "exception": false,
     "start_time": "2022-03-25T15:55:16.851292",
     "status": "completed"
    },
    "tags": []
   },
   "outputs": [
    {
     "data": {
      "text/plain": [
       "<AxesSubplot:title={'center':'Results'}>"
      ]
     },
     "execution_count": 26,
     "metadata": {},
     "output_type": "execute_result"
    },
    {
     "data": {
      "image/png": "[encoded data removed]",
      "text/plain": [
       "<Figure size 1080x504 with 1 Axes>"
      ]
     },
     "metadata": {
      "needs_background": "light"
     },
     "output_type": "display_data"
    }
   ],
   "source": [
    "get_results_table(experiment)"
   ]
  },
  {
   "cell_type": "code",
   "execution_count": 27,
   "id": "cf8dc689",
   "metadata": {
    "execution": {
     "iopub.execute_input": "2022-03-25T15:55:17.114568Z",
     "iopub.status.busy": "2022-03-25T15:55:17.114161Z",
     "iopub.status.idle": "2022-03-25T15:55:17.248633Z",
     "shell.execute_reply": "2022-03-25T15:55:17.248363Z"
    },
    "papermill": {
     "duration": 0.167281,
     "end_time": "2022-03-25T15:55:17.248693",
     "exception": false,
     "start_time": "2022-03-25T15:55:17.081412",
     "status": "completed"
    },
    "tags": []
   },
   "outputs": [
    {
     "data": {
      "text/plain": [
       "<AxesSubplot:title={'center':'Per Domain Validation Accuracy'}, xlabel='domain'>"
      ]
     },
     "execution_count": 27,
     "metadata": {},
     "output_type": "execute_result"
    },
    {
     "data": {
      "image/png": "[encoded data removed]",
      "text/plain": [
       "<Figure size 1080x504 with 1 Axes>"
      ]
     },
     "metadata": {
      "needs_background": "light"
     },
     "output_type": "display_data"
    }
   ],
   "source": [
    "get_domain_accuracies(experiment)"
   ]
  },
  {
   "cell_type": "code",
   "execution_count": 28,
   "id": "a74ae082",
   "metadata": {
    "execution": {
     "iopub.execute_input": "2022-03-25T15:55:17.316221Z",
     "iopub.status.busy": "2022-03-25T15:55:17.315705Z",
     "iopub.status.idle": "2022-03-25T15:55:17.328579Z",
     "shell.execute_reply": "2022-03-25T15:55:17.328975Z"
    },
    "papermill": {
     "duration": 0.048345,
     "end_time": "2022-03-25T15:55:17.329110",
     "exception": false,
     "start_time": "2022-03-25T15:55:17.280765",
     "status": "completed"
    },
    "tags": []
   },
   "outputs": [
    {
     "name": "stdout",
     "output_type": "stream",
     "text": [
      "Source Test Label Accuracy: 0.9992985409652076 Target Test Label Accuracy: 0.3214518229166667\n",
      "Source Val Label Accuracy: 0.9991438356164384 Target Val Label Accuracy: 0.319921875\n"
     ]
    }
   ],
   "source": [
    "print(\"Source Test Label Accuracy:\", experiment[\"results\"][\"source_test_label_accuracy\"], \"Target Test Label Accuracy:\", experiment[\"results\"][\"target_test_label_accuracy\"])\n",
    "print(\"Source Val Label Accuracy:\", experiment[\"results\"][\"source_val_label_accuracy\"], \"Target Val Label Accuracy:\", experiment[\"results\"][\"target_val_label_accuracy\"])"
   ]
  },
  {
   "cell_type": "code",
   "execution_count": 29,
   "id": "dacca602",
   "metadata": {
    "execution": {
     "iopub.execute_input": "2022-03-25T15:55:17.398387Z",
     "iopub.status.busy": "2022-03-25T15:55:17.398127Z",
     "iopub.status.idle": "2022-03-25T15:55:17.411363Z",
     "shell.execute_reply": "2022-03-25T15:55:17.411764Z"
    },
    "papermill": {
     "duration": 0.046956,
     "end_time": "2022-03-25T15:55:17.411888",
     "exception": false,
     "start_time": "2022-03-25T15:55:17.364932",
     "status": "completed"
    },
    "tags": [
     "experiment_json"
    ]
   },
   "outputs": [
    {
     "data": {
      "text/plain": [
       "'{\"experiment_name\": \"tl_3-filterv2:cores -> oracle.run1.framed\", \"parameters\": {\"experiment_name\": \"tl_3-filterv2:cores -> oracle.run1.framed\", \"device\": \"cuda\", \"lr\": 0.0001, \"x_shape\": [2, 200], \"n_shot\": 3, \"n_query\": 2, \"train_k_factor\": 3, \"val_k_factor\": 2, \"test_k_factor\": 2, \"torch_default_dtype\": \"torch.float32\", \"n_epoch\": 50, \"patience\": 3, \"criteria_for_best\": \"target_accuracy\", \"x_net\": [{\"class\": \"nnReshape\", \"kargs\": {\"shape\": [-1, 1, 2, 200]}}, {\"class\": \"Conv2d\", \"kargs\": {\"in_channels\": 1, \"out_channels\": 256, \"kernel_size\": [1, 7], \"bias\": false, \"padding\": [0, 3]}}, {\"class\": \"ReLU\", \"kargs\": {\"inplace\": true}}, {\"class\": \"BatchNorm2d\", \"kargs\": {\"num_features\": 256}}, {\"class\": \"Conv2d\", \"kargs\": {\"in_channels\": 256, \"out_channels\": 80, \"kernel_size\": [2, 7], \"bias\": true, \"padding\": [0, 3]}}, {\"class\": \"ReLU\", \"kargs\": {\"inplace\": true}}, {\"class\": \"BatchNorm2d\", \"kargs\": {\"num_features\": 80}}, {\"class\": \"Flatten\", \"kargs\": {}}, {\"class\": \"Linear\", \"kargs\": {\"in_features\": 16000, \"out_features\": 256}}, {\"class\": \"ReLU\", \"kargs\": {\"inplace\": true}}, {\"class\": \"BatchNorm1d\", \"kargs\": {\"num_features\": 256}}, {\"class\": \"Linear\", \"kargs\": {\"in_features\": 256, \"out_features\": 256}}], \"NUM_LOGS_PER_EPOCH\": 10, \"BEST_MODEL_PATH\": \"./best_model.pth\", \"n_way\": 16, \"datasets\": [{\"labels\": [\"1-10.\", \"1-11.\", \"1-15.\", \"1-16.\", \"1-17.\", \"1-18.\", \"1-19.\", \"10-4.\", \"10-7.\", \"11-1.\", \"11-14.\", \"11-17.\", \"11-20.\", \"11-7.\", \"13-20.\", \"13-8.\", \"14-10.\", \"14-11.\", \"14-14.\", \"14-7.\", \"15-1.\", \"15-20.\", \"16-1.\", \"16-16.\", \"17-10.\", \"17-11.\", \"17-2.\", \"19-1.\", \"19-16.\", \"19-19.\", \"19-20.\", \"19-3.\", \"2-10.\", \"2-11.\", \"2-17.\", \"2-18.\", \"2-20.\", \"2-3.\", \"2-4.\", \"2-5.\", \"2-6.\", \"2-7.\", \"2-8.\", \"3-13.\", \"3-18.\", \"3-3.\", \"4-1.\", \"4-10.\", \"4-11.\", \"4-19.\", \"5-5.\", \"6-15.\", \"7-10.\", \"7-14.\", \"8-18.\", \"8-20.\", \"8-3.\", \"8-8.\"], \"domains\": [1, 2, 3, 4, 5], \"num_examples_per_domain_per_label\": -1, \"pickle_path\": \"/mnt/wd500GB/CSC500/csc500-main/datasets/cores.stratified_ds.2022A.pkl\", \"source_or_target_dataset\": \"source\", \"x_transforms\": [\"unit_power\", \"lowpass_+/-10MHz\", \"take_200\"], \"episode_transforms\": [], \"domain_prefix\": \"C_\"}, {\"labels\": [\"3123D52\", \"3123D65\", \"3123D79\", \"3123D80\", \"3123D54\", \"3123D70\", \"3123D7B\", \"3123D89\", \"3123D58\", \"3123D76\", \"3123D7D\", \"3123EFE\", \"3123D64\", \"3123D78\", \"3123D7E\", \"3124E4A\"], \"domains\": [32, 38, 8, 44, 14, 50, 20, 26], \"num_examples_per_domain_per_label\": 2000, \"pickle_path\": \"/mnt/wd500GB/CSC500/csc500-main/datasets/oracle.Run1_framed_2000Examples_stratified_ds.2022A.pkl\", \"source_or_target_dataset\": \"target\", \"x_transforms\": [\"unit_power\", \"take_200\", \"resample_20Msps_to_25Msps\"], \"episode_transforms\": [], \"domain_prefix\": \"O_\"}], \"seed\": 1337, \"dataset_seed\": 1337, \"domains_source\": [\"C_1\", \"C_2\", \"C_3\", \"C_4\", \"C_5\"], \"domains_target\": [\"O_32\", \"O_38\", \"O_8\", \"O_44\", \"O_14\", \"O_50\", \"O_20\", \"O_26\"]}, \"results\": {\"source_test_label_accuracy\": 0.9992985409652076, \"source_test_label_loss\": 0.005866941064596176, \"target_test_label_accuracy\": 0.3214518229166667, \"target_test_label_loss\": 2.265885353088379, \"source_val_label_accuracy\": 0.9991438356164384, \"source_val_label_loss\": 0.008884113281965256, \"target_val_label_accuracy\": 0.319921875, \"target_val_label_loss\": 2.2855215072631836, \"total_epochs_trained\": 7, \"total_experiment_time_secs\": 1842.8115265369415, \"confusion\": {\"C_3\": {\"43\": {\"43\": 128}, \"9\": {\"9\": 150}, \"6\": {\"6\": 87, \"38\": 1}, \"3\": {\"3\": 144}, \"16\": {\"16\": 134}, \"51\": {\"51\": 128}, \"31\": {\"31\": 28}, \"46\": {\"46\": 134}, \"19\": {\"19\": 124}, \"8\": {\"8\": 152}, \"18\": {\"18\": 84}, \"37\": {\"37\": 28}, \"24\": {\"24\": 104}, \"10\": {\"10\": 64}, \"44\": {\"44\": 88}, \"14\": {\"14\": 40}, \"38\": {\"38\": 28}, \"53\": {\"53\": 140}, \"20\": {\"20\": 132}, \"32\": {\"32\": 28}, \"36\": {\"36\": 100}, \"33\": {\"33\": 28}, \"56\": {\"56\": 136}, \"23\": {\"23\": 130}, \"54\": {\"54\": 100}, \"21\": {\"21\": 126}, \"28\": {\"28\": 28}, \"26\": {\"26\": 24}, \"48\": {\"48\": 116}, \"52\": {\"52\": 118}, \"39\": {\"39\": 16}, \"22\": {\"22\": 140}, \"13\": {\"13\": 128}, \"2\": {\"2\": 32}, \"34\": {\"34\": 32}, \"27\": {\"27\": 132}, \"45\": {\"45\": 60}, \"35\": {\"35\": 28}, \"29\": {\"29\": 128}, \"25\": {\"25\": 144}, \"0\": {\"0\": 124}, \"41\": {\"41\": 28}, \"11\": {\"11\": 142}, \"5\": {\"5\": 108}, \"1\": {\"1\": 100}, \"57\": {\"57\": 116}, \"17\": {\"17\": 106, \"10\": 1, \"24\": 1}, \"7\": {\"7\": 36}, \"12\": {\"12\": 92}, \"47\": {\"47\": 92}, \"40\": {\"40\": 136}, \"15\": {\"15\": 142}, \"42\": {\"42\": 28}, \"55\": {\"55\": 150}, \"49\": {\"49\": 20}, \"30\": {\"30\": 120}, \"50\": {\"50\": 134}, \"4\": {\"4\": 136}}, \"C_4\": {\"35\": {\"35\": 40}, \"25\": {\"25\": 134}, \"24\": {\"24\": 56}, \"48\": {\"48\": 138}, \"51\": {\"51\": 144}, \"13\": {\"13\": 120}, \"14\": {\"14\": 11, \"57\": 2, \"0\": 3}, \"32\": {\"32\": 24}, \"30\": {\"30\": 44}, \"34\": {\"34\": 24}, \"9\": {\"9\": 136}, \"1\": {\"1\": 40}, \"0\": {\"0\": 80}, \"38\": {\"38\": 40}, \"22\": {\"22\": 128}, \"40\": {\"40\": 120}, \"6\": {\"6\": 111, \"3\": 1}, \"16\": {\"16\": 96}, \"11\": {\"11\": 104}, \"20\": {\"20\": 122}, \"17\": {\"17\": 80}, \"26\": {\"26\": 24}, \"54\": {\"54\": 108}, \"55\": {\"55\": 154}, \"50\": {\"50\": 129, \"22\": 1, \"3\": 2}, \"19\": {\"19\": 142}, \"44\": {\"44\": 122}, \"47\": {\"47\": 120}, \"33\": {\"33\": 36}, \"5\": {\"5\": 108}, \"18\": {\"18\": 108}, \"21\": {\"21\": 124}, \"41\": {\"41\": 36}, \"23\": {\"23\": 128}, \"39\": {\"39\": 20}, \"37\": {\"37\": 24}, \"8\": {\"8\": 144}, \"49\": {\"49\": 20}, \"53\": {\"53\": 140}, \"31\": {\"31\": 28}, \"28\": {\"28\": 32}, \"3\": {\"3\": 124}, \"27\": {\"27\": 138}, \"46\": {\"46\": 128}, \"12\": {\"12\": 92}, \"7\": {\"7\": 24}, \"4\": {\"4\": 132}, \"42\": {\"42\": 32}, \"43\": {\"43\": 130}, \"29\": {\"29\": 120}, \"57\": {\"57\": 100}, \"52\": {\"52\": 104}, \"45\": {\"45\": 96}, \"36\": {\"36\": 92}, \"10\": {\"10\": 126}, \"15\": {\"15\": 134}, \"56\": {\"56\": 124}, \"2\": {\"2\": 36}}, \"C_5\": {\"47\": {\"47\": 100}, \"53\": {\"53\": 150}, \"29\": {\"29\": 126}, \"52\": {\"52\": 130}, \"55\": {\"55\": 144}, \"17\": {\"17\": 116}, \"42\": {\"42\": 40}, \"33\": {\"33\": 32}, \"11\": {\"11\": 147, \"15\": 1}, \"19\": {\"19\": 118}, \"1\": {\"1\": 144}, \"44\": {\"44\": 142}, \"49\": {\"49\": 36}, \"4\": {\"4\": 100}, \"6\": {\"6\": 116}, \"39\": {\"39\": 20}, \"50\": {\"50\": 147, \"18\": 1}, \"56\": {\"56\": 130}, \"25\": {\"25\": 144}, \"28\": {\"28\": 32}, \"35\": {\"35\": 36}, \"24\": {\"24\": 80}, \"21\": {\"21\": 132}, \"45\": {\"45\": 120, \"17\": 2, \"55\": 1, \"4\": 1}, \"16\": {\"16\": 144}, \"37\": {\"37\": 24}, \"57\": {\"57\": 132}, \"34\": {\"34\": 36}, \"38\": {\"38\": 32}, \"48\": {\"48\": 130}, \"26\": {\"26\": 24}, \"9\": {\"9\": 152}, \"18\": {\"18\": 64}, \"3\": {\"3\": 100}, \"23\": {\"23\": 124}, \"15\": {\"15\": 154}, \"10\": {\"10\": 68}, \"46\": {\"46\": 148}, \"22\": {\"22\": 28}, \"54\": {\"54\": 112}, \"27\": {\"27\": 160}, \"41\": {\"41\": 28}, \"31\": {\"31\": 36}, \"0\": {\"0\": 124}, \"7\": {\"7\": 32}, \"2\": {\"2\": 28}, \"14\": {\"14\": 43, \"5\": 1}, \"40\": {\"40\": 124}, \"5\": {\"5\": 128}, \"12\": {\"12\": 96}, \"43\": {\"43\": 142}, \"13\": {\"13\": 148}, \"36\": {\"36\": 92}, \"8\": {\"8\": 150}, \"32\": {\"32\": 32}, \"30\": {\"30\": 128}, \"51\": {\"51\": 138}, \"20\": {\"20\": 138}}, \"C_1\": {\"46\": {\"46\": 140}, \"16\": {\"16\": 134}, \"26\": {\"26\": 24}, \"10\": {\"10\": 96}, \"9\": {\"9\": 156}, \"28\": {\"28\": 28}, \"51\": {\"51\": 156}, \"1\": {\"1\": 100}, \"55\": {\"55\": 148}, \"27\": {\"27\": 124}, \"22\": {\"22\": 122, \"21\": 1, \"24\": 1}, \"52\": {\"52\": 126}, \"3\": {\"3\": 140}, \"33\": {\"33\": 32}, \"47\": {\"47\": 120}, \"42\": {\"42\": 40}, \"12\": {\"12\": 116}, \"23\": {\"23\": 132}, \"49\": {\"49\": 32}, \"7\": {\"7\": 28}, \"4\": {\"4\": 132}, \"50\": {\"50\": 134}, \"19\": {\"19\": 154}, \"11\": {\"11\": 140}, \"31\": {\"31\": 28}, \"41\": {\"41\": 24}, \"56\": {\"56\": 138}, \"0\": {\"0\": 148}, \"57\": {\"57\": 128}, \"53\": {\"53\": 140}, \"43\": {\"43\": 144}, \"37\": {\"37\": 32}, \"2\": {\"2\": 36}, \"6\": {\"6\": 96}, \"13\": {\"13\": 150}, \"18\": {\"18\": 72}, \"36\": {\"36\": 64}, \"29\": {\"29\": 140}, \"39\": {\"39\": 28}, \"17\": {\"17\": 64}, \"21\": {\"21\": 124}, \"25\": {\"25\": 132}, \"45\": {\"45\": 142}, \"38\": {\"38\": 24}, \"30\": {\"30\": 120}, \"24\": {\"24\": 108}, \"20\": {\"20\": 140}, \"8\": {\"8\": 140}, \"35\": {\"35\": 36}, \"54\": {\"54\": 104}, \"5\": {\"5\": 148}, \"48\": {\"48\": 144}, \"15\": {\"15\": 142}, \"34\": {\"34\": 24}, \"14\": {\"14\": 23, \"8\": 1}, \"32\": {\"32\": 32}, \"40\": {\"40\": 148}, \"44\": {\"44\": 136}}, \"C_2\": {\"36\": {\"36\": 116}, \"5\": {\"5\": 120}, \"45\": {\"45\": 127, \"17\": 1}, \"49\": {\"49\": 24}, \"50\": {\"50\": 136}, \"4\": {\"4\": 138}, \"43\": {\"43\": 148}, \"41\": {\"41\": 20}, \"37\": {\"37\": 36}, \"12\": {\"12\": 92}, \"33\": {\"33\": 28}, \"7\": {\"7\": 36}, \"56\": {\"56\": 140}, \"14\": {\"14\": 23, \"57\": 1}, \"52\": {\"52\": 124}, \"44\": {\"44\": 96}, \"48\": {\"48\": 144}, \"20\": {\"20\": 128}, \"55\": {\"55\": 144}, \"32\": {\"32\": 28}, \"40\": {\"40\": 136}, \"54\": {\"54\": 108}, \"17\": {\"17\": 104}, \"38\": {\"38\": 20}, \"24\": {\"24\": 96}, \"1\": {\"1\": 112}, \"6\": {\"6\": 124}, \"34\": {\"34\": 28}, \"11\": {\"11\": 136}, \"9\": {\"9\": 150}, \"8\": {\"8\": 152}, \"22\": {\"22\": 136}, \"26\": {\"26\": 24}, \"23\": {\"23\": 146}, \"10\": {\"10\": 112}, \"18\": {\"18\": 48}, \"13\": {\"13\": 116}, \"30\": {\"30\": 128}, \"42\": {\"42\": 36}, \"31\": {\"31\": 28}, \"46\": {\"46\": 128}, \"57\": {\"57\": 142}, \"47\": {\"47\": 138}, \"35\": {\"35\": 32}, \"15\": {\"15\": 132}, \"25\": {\"25\": 136}, \"19\": {\"19\": 136}, \"51\": {\"51\": 128}, \"53\": {\"53\": 134}, \"21\": {\"21\": 120}, \"39\": {\"39\": 28}, \"2\": {\"2\": 32}, \"16\": {\"16\": 150}, \"0\": {\"0\": 48}, \"3\": {\"3\": 92}, \"27\": {\"27\": 142}, \"28\": {\"28\": 28}, \"29\": {\"29\": 128}}, \"O_14\": {\"15\": {\"5\": 36, \"15\": 92, \"7\": 76, \"1\": 14, \"4\": 6, \"6\": 2, \"2\": 10, \"13\": 2, \"8\": 1, \"3\": 1}, \"3\": {\"14\": 17, \"4\": 41, \"5\": 23, \"6\": 20, \"2\": 26, \"3\": 52, \"0\": 23, \"13\": 9, \"11\": 4, \"8\": 11, \"1\": 9, \"10\": 3, \"9\": 2}, \"6\": {\"4\": 18, \"2\": 27, \"6\": 52, \"13\": 53, \"3\": 21, \"0\": 15, \"14\": 33, \"11\": 5, \"8\": 1, \"10\": 8, \"5\": 6, \"1\": 1}, \"1\": {\"1\": 81, \"15\": 20, \"5\": 41, \"8\": 32, \"7\": 14, \"4\": 14, \"3\": 15, \"2\": 17, \"6\": 2, \"14\": 3, \"0\": 1}, \"8\": {\"8\": 121, \"9\": 9, \"0\": 9, \"4\": 26, \"3\": 15, \"1\": 41, \"10\": 2, \"5\": 17}, \"10\": {\"10\": 85, \"0\": 54, \"11\": 25, \"13\": 17, \"14\": 8, \"6\": 10, \"9\": 15, \"4\": 8, \"3\": 13, \"12\": 2, \"5\": 1, \"2\": 2}, \"9\": {\"9\": 90, \"10\": 25, \"12\": 51, \"0\": 45, \"11\": 23, \"8\": 5, \"3\": 1}, \"13\": {\"13\": 54, \"10\": 5, \"6\": 58, \"11\": 19, \"2\": 20, \"3\": 11, \"14\": 32, \"9\": 1, \"0\": 15, \"5\": 7, \"4\": 15, \"15\": 3}, \"12\": {\"12\": 161, \"9\": 43, \"11\": 20, \"10\": 11, \"0\": 5}, \"5\": {\"8\": 12, \"1\": 54, \"5\": 49, \"2\": 32, \"3\": 28, \"4\": 23, \"15\": 15, \"13\": 3, \"14\": 10, \"7\": 8, \"6\": 5, \"0\": 1}, \"0\": {\"9\": 35, \"0\": 63, \"11\": 29, \"14\": 18, \"4\": 7, \"10\": 40, \"3\": 17, \"13\": 9, \"12\": 3, \"6\": 7, \"2\": 6, \"8\": 5, \"5\": 1}, \"2\": {\"4\": 25, \"2\": 30, \"5\": 30, \"3\": 29, \"14\": 40, \"11\": 3, \"13\": 24, \"1\": 5, \"15\": 12, \"6\": 30, \"7\": 1, \"0\": 6, \"8\": 5}, \"11\": {\"11\": 112, \"10\": 34, \"9\": 27, \"0\": 26, \"12\": 28, \"13\": 7, \"14\": 5, \"6\": 1}, \"14\": {\"5\": 5, \"13\": 32, \"6\": 47, \"14\": 60, \"2\": 31, \"0\": 16, \"3\": 23, \"4\": 12, \"11\": 8, \"10\": 6}, \"7\": {\"5\": 21, \"7\": 99, \"15\": 79, \"2\": 7, \"1\": 29, \"4\": 3, \"6\": 1, \"3\": 1}, \"4\": {\"6\": 13, \"2\": 30, \"3\": 30, \"4\": 51, \"14\": 12, \"0\": 13, \"5\": 33, \"13\": 18, \"8\": 25, \"15\": 1, \"1\": 14}}, \"O_20\": {\"3\": {\"2\": 20, \"9\": 29, \"14\": 12, \"7\": 18, \"4\": 11, \"3\": 20, \"13\": 10, \"6\": 8, \"5\": 15, \"10\": 16, \"15\": 18, \"1\": 16, \"12\": 24, \"8\": 7, \"0\": 16}, \"15\": {\"5\": 29, \"0\": 32, \"2\": 13, \"1\": 32, \"3\": 26, \"4\": 6, \"12\": 26, \"15\": 36, \"8\": 2, \"13\": 12, \"9\": 18, \"10\": 5, \"6\": 2, \"7\": 1}, \"8\": {\"14\": 38, \"9\": 8, \"0\": 26, \"8\": 36, \"3\": 14, \"10\": 27, \"5\": 13, \"7\": 16, \"15\": 2, \"12\": 6, \"4\": 18, \"6\": 24, \"2\": 9, \"1\": 1, \"13\": 2}, \"4\": {\"4\": 37, \"3\": 19, \"8\": 27, \"10\": 29, \"7\": 11, \"0\": 29, \"14\": 20, \"5\": 24, \"12\": 14, \"9\": 6, \"6\": 4, \"15\": 7, \"2\": 7, \"1\": 5, \"13\": 1}, \"14\": {\"14\": 48, \"6\": 45, \"7\": 16, \"8\": 40, \"10\": 37, \"5\": 6, \"15\": 3, \"12\": 2, \"2\": 7, \"3\": 8, \"0\": 7, \"9\": 5, \"11\": 2, \"4\": 12, \"13\": 1, \"1\": 1}, \"0\": {\"9\": 9, \"5\": 33, \"4\": 24, \"7\": 13, \"3\": 21, \"1\": 16, \"6\": 6, \"15\": 16, \"10\": 15, \"2\": 12, \"12\": 11, \"0\": 39, \"14\": 7, \"8\": 14, \"11\": 1, \"13\": 3}, \"7\": {\"3\": 23, \"9\": 14, \"15\": 10, \"6\": 18, \"1\": 16, \"12\": 13, \"13\": 21, \"4\": 10, \"10\": 23, \"5\": 10, \"7\": 26, \"8\": 11, \"0\": 12, \"2\": 15, \"11\": 5, \"14\": 13}, \"6\": {\"8\": 32, \"6\": 52, \"14\": 45, \"3\": 4, \"15\": 4, \"11\": 17, \"7\": 22, \"12\": 4, \"10\": 18, \"13\": 4, \"4\": 9, \"0\": 8, \"2\": 7, \"5\": 7, \"9\": 4, \"1\": 3}, \"10\": {\"9\": 13, \"4\": 24, \"14\": 24, \"7\": 19, \"5\": 14, \"6\": 14, \"10\": 36, \"3\": 15, \"8\": 35, \"12\": 12, \"15\": 3, \"0\": 10, \"2\": 11, \"13\": 2, \"1\": 8}, \"5\": {\"10\": 11, \"0\": 29, \"9\": 17, \"5\": 28, \"4\": 17, \"3\": 24, \"12\": 18, \"15\": 26, \"1\": 26, \"8\": 9, \"13\": 7, \"7\": 14, \"2\": 10, \"6\": 1, \"14\": 3}, \"2\": {\"13\": 25, \"8\": 9, \"3\": 20, \"7\": 20, \"1\": 21, \"12\": 25, \"9\": 18, \"4\": 6, \"10\": 13, \"15\": 25, \"5\": 11, \"0\": 8, \"2\": 25, \"14\": 4, \"11\": 3, \"6\": 7}, \"12\": {\"8\": 2, \"0\": 28, \"3\": 23, \"1\": 30, \"10\": 6, \"4\": 11, \"15\": 21, \"14\": 8, \"9\": 25, \"7\": 11, \"12\": 25, \"5\": 18, \"2\": 22, \"13\": 7, \"6\": 3}, \"9\": {\"2\": 28, \"13\": 21, \"14\": 4, \"0\": 10, \"1\": 20, \"9\": 21, \"12\": 28, \"10\": 8, \"7\": 19, \"5\": 18, \"6\": 7, \"15\": 19, \"3\": 23, \"8\": 8, \"4\": 4, \"11\": 2}, \"1\": {\"9\": 22, \"5\": 20, \"3\": 27, \"0\": 31, \"1\": 35, \"10\": 5, \"7\": 12, \"15\": 32, \"12\": 24, \"2\": 13, \"13\": 11, \"8\": 2, \"14\": 2, \"4\": 4}, \"11\": {\"13\": 30, \"11\": 139, \"2\": 10, \"7\": 17, \"1\": 1, \"6\": 25, \"3\": 2, \"8\": 2, \"14\": 5, \"9\": 4, \"4\": 1, \"10\": 2, \"15\": 1, \"0\": 1}, \"13\": {\"2\": 29, \"0\": 5, \"9\": 31, \"12\": 11, \"13\": 49, \"3\": 19, \"5\": 6, \"7\": 23, \"4\": 5, \"11\": 8, \"8\": 4, \"15\": 21, \"10\": 4, \"1\": 20, \"6\": 5}}, \"O_38\": {\"5\": {\"8\": 29, \"1\": 29, \"5\": 49, \"0\": 22, \"6\": 27, \"9\": 13, \"7\": 30, \"15\": 18, \"13\": 13, \"10\": 4, \"2\": 2, \"3\": 4}, \"8\": {\"8\": 69, \"7\": 31, \"5\": 34, \"0\": 38, \"13\": 14, \"2\": 2, \"1\": 6, \"6\": 2, \"10\": 18, \"15\": 24, \"9\": 2}, \"11\": {\"12\": 13, \"14\": 79, \"11\": 91, \"2\": 29, \"10\": 18, \"15\": 3, \"4\": 3, \"13\": 3, \"8\": 1}, \"1\": {\"1\": 123, \"15\": 39, \"8\": 9, \"7\": 2, \"9\": 4, \"5\": 23, \"13\": 19, \"6\": 16, \"10\": 2, \"0\": 2, \"2\": 1}, \"10\": {\"14\": 15, \"15\": 29, \"13\": 35, \"10\": 68, \"12\": 3, \"2\": 40, \"7\": 6, \"8\": 21, \"0\": 5, \"5\": 7, \"11\": 8, \"1\": 2, \"4\": 1}, \"15\": {\"10\": 27, \"15\": 71, \"1\": 33, \"8\": 22, \"13\": 46, \"5\": 17, \"2\": 12, \"7\": 6, \"9\": 2, \"0\": 3, \"14\": 1}, \"3\": {\"3\": 142, \"9\": 36, \"0\": 27, \"6\": 12, \"5\": 7, \"8\": 6, \"7\": 8, \"1\": 1, \"13\": 1}, \"7\": {\"6\": 9, \"8\": 44, \"0\": 53, \"7\": 75, \"5\": 26, \"15\": 4, \"13\": 6, \"3\": 5, \"9\": 4, \"2\": 1, \"10\": 8, \"1\": 4, \"14\": 1}, \"4\": {\"12\": 85, \"4\": 135, \"7\": 3, \"10\": 9, \"14\": 5, \"13\": 1, \"8\": 2}, \"14\": {\"11\": 50, \"2\": 29, \"14\": 120, \"13\": 5, \"10\": 21, \"7\": 1, \"4\": 3, \"12\": 8, \"15\": 1, \"8\": 1, \"0\": 1}, \"9\": {\"5\": 13, \"6\": 77, \"9\": 99, \"0\": 7, \"1\": 12, \"3\": 29, \"8\": 1, \"7\": 2}, \"12\": {\"4\": 61, \"12\": 168, \"10\": 1, \"14\": 5, \"11\": 4, \"0\": 1}, \"6\": {\"5\": 26, \"6\": 102, \"1\": 22, \"9\": 77, \"7\": 5, \"3\": 4, \"8\": 2, \"15\": 1, \"0\": 1}, \"2\": {\"14\": 41, \"13\": 23, \"10\": 34, \"2\": 103, \"15\": 14, \"11\": 21, \"1\": 1, \"4\": 1, \"8\": 2}, \"0\": {\"7\": 58, \"8\": 32, \"2\": 1, \"0\": 63, \"5\": 28, \"15\": 14, \"3\": 12, \"13\": 9, \"6\": 7, \"12\": 2, \"10\": 9, \"9\": 3, \"1\": 1, \"14\": 1}, \"13\": {\"13\": 78, \"15\": 45, \"10\": 22, \"1\": 25, \"8\": 14, \"6\": 1, \"2\": 32, \"5\": 19, \"7\": 4}}, \"O_8\": {\"9\": {\"9\": 218, \"5\": 10, \"0\": 5, \"4\": 1, \"13\": 2, \"6\": 1, \"14\": 1, \"10\": 1, \"7\": 1}, \"10\": {\"1\": 20, \"10\": 36, \"14\": 46, \"7\": 11, \"6\": 18, \"12\": 1, \"5\": 28, \"4\": 30, \"0\": 17, \"8\": 2, \"11\": 6, \"13\": 24, \"15\": 1}, \"13\": {\"0\": 37, \"4\": 31, \"13\": 38, \"10\": 28, \"14\": 20, \"6\": 19, \"11\": 1, \"1\": 6, \"5\": 5, \"7\": 25, \"2\": 7, \"15\": 8, \"8\": 11, \"12\": 2, \"3\": 2}, \"0\": {\"6\": 34, \"13\": 38, \"2\": 9, \"10\": 13, \"0\": 47, \"14\": 21, \"4\": 19, \"7\": 30, \"15\": 10, \"12\": 3, \"8\": 5, \"5\": 2, \"3\": 7, \"1\": 2}, \"1\": {\"1\": 53, \"5\": 46, \"11\": 52, \"8\": 22, \"13\": 7, \"14\": 30, \"10\": 13, \"4\": 13, \"15\": 3, \"7\": 1}, \"15\": {\"15\": 58, \"8\": 35, \"4\": 16, \"12\": 53, \"7\": 13, \"14\": 10, \"3\": 16, \"6\": 13, \"1\": 2, \"10\": 2, \"2\": 10, \"13\": 5, \"11\": 3, \"0\": 4}, \"5\": {\"4\": 13, \"5\": 66, \"10\": 37, \"1\": 58, \"14\": 27, \"6\": 3, \"11\": 19, \"9\": 5, \"0\": 3, \"13\": 6, \"8\": 1, \"7\": 1, \"15\": 1}, \"3\": {\"15\": 26, \"3\": 70, \"2\": 66, \"12\": 37, \"7\": 20, \"0\": 7, \"8\": 4, \"10\": 1, \"4\": 3, \"6\": 5, \"13\": 1}, \"6\": {\"4\": 23, \"1\": 7, \"15\": 18, \"14\": 11, \"0\": 26, \"7\": 34, \"8\": 18, \"2\": 11, \"13\": 21, \"6\": 30, \"10\": 21, \"12\": 9, \"5\": 4, \"3\": 6, \"11\": 1}, \"11\": {\"5\": 22, \"11\": 111, \"10\": 4, \"1\": 55, \"14\": 6, \"8\": 24, \"12\": 3, \"15\": 3, \"13\": 4, \"4\": 4, \"6\": 3, \"7\": 1}, \"8\": {\"12\": 24, \"14\": 15, \"8\": 68, \"1\": 16, \"10\": 7, \"15\": 34, \"7\": 12, \"6\": 13, \"11\": 23, \"4\": 17, \"2\": 2, \"5\": 2, \"3\": 3, \"13\": 4}, \"4\": {\"13\": 29, \"10\": 28, \"14\": 29, \"1\": 18, \"0\": 15, \"6\": 29, \"7\": 20, \"4\": 35, \"15\": 6, \"8\": 14, \"12\": 4, \"11\": 4, \"5\": 5, \"2\": 3, \"3\": 1}, \"12\": {\"3\": 34, \"12\": 68, \"15\": 46, \"6\": 6, \"7\": 13, \"2\": 22, \"8\": 35, \"0\": 2, \"10\": 2, \"13\": 1, \"1\": 1, \"4\": 3, \"5\": 1, \"11\": 3, \"14\": 3}, \"14\": {\"7\": 14, \"1\": 20, \"6\": 29, \"14\": 27, \"5\": 23, \"8\": 14, \"10\": 37, \"0\": 14, \"4\": 31, \"13\": 17, \"15\": 3, \"11\": 9, \"3\": 1, \"12\": 1}, \"2\": {\"3\": 71, \"2\": 77, \"0\": 14, \"12\": 25, \"6\": 8, \"15\": 10, \"13\": 3, \"7\": 23, \"4\": 5, \"10\": 1, \"14\": 2, \"8\": 1}, \"7\": {\"13\": 22, \"6\": 26, \"14\": 18, \"0\": 43, \"8\": 13, \"2\": 14, \"10\": 9, \"12\": 11, \"7\": 36, \"15\": 15, \"3\": 17, \"4\": 14, \"1\": 1, \"11\": 1}}, \"O_50\": {\"7\": {\"10\": 32, \"13\": 48, \"5\": 48, \"7\": 76, \"4\": 13, \"6\": 14, \"3\": 4, \"8\": 3, \"0\": 2}, \"3\": {\"3\": 184, \"13\": 3, \"8\": 41, \"10\": 8, \"7\": 3, \"5\": 1}, \"8\": {\"8\": 119, \"10\": 50, \"13\": 6, \"0\": 9, \"3\": 31, \"5\": 13, \"4\": 1, \"7\": 10, \"6\": 1}, \"2\": {\"0\": 68, \"2\": 126, \"1\": 12, \"4\": 6, \"14\": 11, \"15\": 2, \"10\": 4, \"11\": 3, \"8\": 1, \"6\": 4, \"13\": 3}, \"14\": {\"11\": 33, \"12\": 29, \"9\": 38, \"14\": 110, \"2\": 21, \"15\": 1, \"1\": 5, \"6\": 1, \"4\": 2}, \"4\": {\"15\": 36, \"0\": 4, \"1\": 41, \"9\": 2, \"7\": 12, \"5\": 22, \"6\": 32, \"4\": 45, \"13\": 29, \"11\": 8, \"10\": 1, \"2\": 4, \"14\": 4}, \"6\": {\"5\": 20, \"15\": 21, \"6\": 65, \"13\": 31, \"1\": 34, \"4\": 39, \"2\": 5, \"7\": 15, \"0\": 6, \"10\": 3, \"8\": 1}, \"15\": {\"15\": 68, \"1\": 47, \"6\": 37, \"5\": 8, \"11\": 27, \"9\": 2, \"13\": 6, \"4\": 31, \"7\": 3, \"0\": 4, \"14\": 3, \"2\": 4}, \"10\": {\"13\": 21, \"8\": 55, \"5\": 28, \"10\": 79, \"0\": 25, \"4\": 2, \"7\": 20, \"3\": 2, \"6\": 7, \"1\": 1}, \"11\": {\"1\": 23, \"4\": 6, \"9\": 52, \"11\": 89, \"15\": 26, \"6\": 6, \"14\": 26, \"12\": 8, \"2\": 4}, \"13\": {\"5\": 41, \"6\": 22, \"4\": 28, \"7\": 44, \"1\": 8, \"13\": 56, \"0\": 9, \"10\": 27, \"15\": 4, \"8\": 1}, \"9\": {\"1\": 2, \"9\": 107, \"14\": 42, \"12\": 42, \"11\": 39, \"15\": 4, \"2\": 3, \"6\": 1}, \"0\": {\"2\": 55, \"0\": 92, \"15\": 8, \"5\": 9, \"13\": 6, \"4\": 11, \"14\": 2, \"6\": 5, \"10\": 30, \"1\": 13, \"8\": 7, \"11\": 2}, \"1\": {\"15\": 41, \"1\": 62, \"6\": 36, \"11\": 12, \"4\": 40, \"2\": 15, \"9\": 4, \"0\": 6, \"13\": 12, \"5\": 6, \"14\": 4, \"7\": 2}, \"12\": {\"12\": 121, \"14\": 48, \"9\": 63, \"11\": 8}, \"5\": {\"13\": 46, \"10\": 21, \"6\": 19, \"7\": 35, \"5\": 41, \"8\": 5, \"4\": 34, \"1\": 13, \"15\": 5, \"3\": 3, \"0\": 16, \"2\": 2}}, \"O_32\": {\"8\": {\"7\": 14, \"2\": 18, \"15\": 22, \"8\": 56, \"13\": 36, \"5\": 29, \"0\": 32, \"4\": 19, \"14\": 7, \"3\": 7}, \"14\": {\"11\": 55, \"13\": 18, \"4\": 12, \"7\": 36, \"14\": 60, \"5\": 17, \"0\": 8, \"3\": 7, \"2\": 19, \"8\": 8}, \"2\": {\"5\": 9, \"2\": 63, \"13\": 21, \"4\": 50, \"14\": 7, \"7\": 22, \"0\": 37, \"8\": 23, \"9\": 5, \"11\": 3}, \"0\": {\"13\": 22, \"9\": 5, \"0\": 76, \"2\": 36, \"8\": 39, \"14\": 10, \"4\": 24, \"7\": 12, \"5\": 8, \"15\": 1, \"11\": 7}, \"1\": {\"1\": 191, \"10\": 47, \"6\": 2}, \"10\": {\"10\": 182, \"1\": 51, \"6\": 4, \"12\": 3}, \"11\": {\"4\": 9, \"11\": 90, \"2\": 3, \"14\": 48, \"7\": 43, \"5\": 14, \"3\": 17, \"13\": 12, \"8\": 3, \"0\": 1}, \"5\": {\"5\": 46, \"4\": 24, \"8\": 24, \"7\": 31, \"14\": 11, \"3\": 31, \"2\": 13, \"13\": 35, \"0\": 9, \"11\": 14, \"15\": 2}, \"15\": {\"8\": 22, \"15\": 197, \"3\": 7, \"0\": 2, \"4\": 6, \"5\": 3, \"14\": 1, \"13\": 2}, \"3\": {\"3\": 93, \"13\": 34, \"4\": 6, \"0\": 1, \"5\": 45, \"7\": 18, \"8\": 11, \"11\": 20, \"14\": 10, \"15\": 2}, \"12\": {\"9\": 24, \"12\": 195, \"6\": 20, \"10\": 1}, \"7\": {\"4\": 22, \"13\": 38, \"5\": 23, \"11\": 40, \"7\": 26, \"8\": 18, \"3\": 12, \"0\": 13, \"2\": 25, \"14\": 23}, \"13\": {\"13\": 46, \"3\": 28, \"8\": 21, \"4\": 33, \"7\": 33, \"2\": 16, \"0\": 13, \"5\": 27, \"14\": 11, \"11\": 10, \"9\": 1, \"15\": 1}, \"6\": {\"6\": 217, \"12\": 17, \"1\": 1, \"10\": 4, \"9\": 1}, \"4\": {\"8\": 29, \"5\": 23, \"4\": 50, \"7\": 30, \"13\": 32, \"2\": 36, \"0\": 20, \"15\": 1, \"14\": 12, \"11\": 4, \"3\": 3}, \"9\": {\"9\": 199, \"12\": 27, \"2\": 4, \"0\": 9, \"4\": 1}}, \"O_26\": {\"4\": {\"0\": 23, \"4\": 28, \"8\": 22, \"10\": 21, \"9\": 19, \"14\": 31, \"2\": 4, \"1\": 28, \"5\": 7, \"7\": 23, \"3\": 8, \"13\": 6, \"6\": 14, \"15\": 6}, \"12\": {\"12\": 185, \"11\": 13, \"10\": 11, \"6\": 7, \"0\": 7, \"14\": 11, \"1\": 2, \"9\": 1, \"8\": 2, \"4\": 1}, \"10\": {\"4\": 25, \"9\": 15, \"10\": 19, \"0\": 25, \"14\": 31, \"8\": 23, \"1\": 29, \"13\": 4, \"15\": 11, \"5\": 8, \"7\": 15, \"6\": 26, \"12\": 2, \"3\": 4, \"2\": 3}, \"0\": {\"1\": 20, \"14\": 33, \"9\": 14, \"12\": 9, \"4\": 26, \"8\": 23, \"10\": 19, \"5\": 5, \"0\": 32, \"6\": 28, \"3\": 8, \"7\": 11, \"15\": 4, \"13\": 5, \"2\": 3}, \"13\": {\"2\": 26, \"15\": 24, \"13\": 53, \"3\": 21, \"11\": 7, \"6\": 10, \"0\": 5, \"5\": 44, \"7\": 7, \"14\": 3, \"9\": 15, \"8\": 11, \"4\": 7, \"1\": 4, \"10\": 2, \"12\": 1}, \"9\": {\"13\": 8, \"2\": 12, \"9\": 36, \"15\": 20, \"4\": 16, \"8\": 21, \"14\": 13, \"3\": 14, \"0\": 20, \"7\": 19, \"5\": 16, \"6\": 15, \"1\": 16, \"10\": 12, \"12\": 1, \"11\": 1}, \"3\": {\"2\": 48, \"7\": 27, \"9\": 18, \"6\": 4, \"5\": 17, \"10\": 6, \"15\": 16, \"13\": 13, \"8\": 21, \"1\": 6, \"14\": 8, \"3\": 42, \"0\": 3, \"4\": 11}, \"2\": {\"3\": 57, \"2\": 50, \"7\": 23, \"5\": 17, \"9\": 17, \"4\": 5, \"0\": 3, \"15\": 25, \"13\": 18, \"10\": 3, \"8\": 9, \"6\": 6, \"14\": 6, \"1\": 1}, \"5\": {\"8\": 16, \"2\": 29, \"3\": 32, \"4\": 2, \"5\": 50, \"13\": 37, \"7\": 16, \"14\": 5, \"15\": 20, \"6\": 8, \"10\": 6, \"9\": 14, \"0\": 3, \"1\": 2}, \"14\": {\"1\": 27, \"9\": 17, \"0\": 25, \"14\": 27, \"8\": 19, \"6\": 20, \"4\": 20, \"7\": 15, \"13\": 3, \"15\": 14, \"10\": 27, \"2\": 6, \"5\": 5, \"12\": 8, \"3\": 7}, \"8\": {\"1\": 15, \"7\": 18, \"8\": 24, \"5\": 9, \"0\": 19, \"4\": 15, \"2\": 16, \"13\": 15, \"10\": 16, \"9\": 18, \"6\": 28, \"14\": 12, \"3\": 14, \"15\": 18, \"12\": 3}, \"7\": {\"9\": 25, \"2\": 27, \"8\": 19, \"1\": 13, \"6\": 10, \"3\": 31, \"7\": 21, \"0\": 14, \"4\": 21, \"10\": 11, \"5\": 12, \"14\": 9, \"13\": 7, \"15\": 20}, \"6\": {\"6\": 31, \"1\": 14, \"10\": 28, \"0\": 23, \"9\": 23, \"13\": 9, \"12\": 17, \"5\": 12, \"14\": 17, \"8\": 22, \"11\": 6, \"2\": 2, \"15\": 17, \"4\": 15, \"7\": 3, \"3\": 1}, \"11\": {\"11\": 199, \"12\": 12, \"9\": 2, \"13\": 10, \"5\": 6, \"0\": 2, \"8\": 3, \"6\": 4, \"10\": 1, \"1\": 1}, \"15\": {\"6\": 24, \"8\": 20, \"5\": 24, \"13\": 31, \"1\": 7, \"4\": 12, \"7\": 18, \"3\": 17, \"0\": 11, \"15\": 24, \"2\": 18, \"10\": 13, \"9\": 14, \"14\": 6, \"11\": 1}, \"1\": {\"1\": 38, \"5\": 6, \"8\": 13, \"10\": 23, \"14\": 30, \"6\": 10, \"4\": 36, \"9\": 15, \"0\": 28, \"15\": 7, \"3\": 7, \"2\": 7, \"12\": 1, \"7\": 17, \"13\": 2}}, \"O_44\": {\"12\": {\"12\": 80, \"2\": 17, \"1\": 66, \"10\": 50, \"3\": 23, \"7\": 4}, \"7\": {\"7\": 62, \"1\": 15, \"2\": 50, \"10\": 14, \"9\": 47, \"3\": 6, \"6\": 27, \"13\": 15, \"12\": 1, \"14\": 2, \"4\": 1}, \"5\": {\"5\": 107, \"0\": 42, \"15\": 14, \"8\": 30, \"14\": 26, \"4\": 17, \"11\": 2, \"13\": 2}, \"15\": {\"15\": 73, \"14\": 35, \"8\": 52, \"4\": 19, \"0\": 39, \"5\": 21, \"11\": 1}, \"8\": {\"15\": 41, \"8\": 93, \"5\": 20, \"0\": 74, \"14\": 6, \"4\": 6}, \"2\": {\"2\": 60, \"9\": 31, \"10\": 34, \"12\": 20, \"1\": 23, \"13\": 4, \"6\": 7, \"7\": 41, \"3\": 20}, \"13\": {\"13\": 70, \"11\": 44, \"9\": 33, \"6\": 50, \"4\": 20, \"14\": 4, \"2\": 5, \"7\": 14}, \"4\": {\"4\": 67, \"14\": 67, \"5\": 18, \"15\": 25, \"0\": 12, \"8\": 3, \"13\": 24, \"11\": 7, \"7\": 6, \"2\": 1, \"9\": 7, \"6\": 3}, \"0\": {\"8\": 87, \"4\": 9, \"0\": 63, \"15\": 35, \"14\": 12, \"5\": 34}, \"6\": {\"6\": 95, \"13\": 52, \"2\": 10, \"11\": 17, \"7\": 23, \"4\": 9, \"9\": 33, \"10\": 1}, \"9\": {\"9\": 54, \"7\": 52, \"2\": 31, \"13\": 34, \"6\": 40, \"14\": 4, \"4\": 13, \"10\": 4, \"11\": 5, \"3\": 3}, \"11\": {\"11\": 124, \"13\": 56, \"6\": 28, \"4\": 10, \"9\": 12, \"7\": 4, \"14\": 5, \"5\": 1}, \"10\": {\"9\": 5, \"10\": 77, \"12\": 49, \"2\": 40, \"1\": 41, \"3\": 17, \"7\": 11}, \"14\": {\"11\": 7, \"15\": 31, \"14\": 65, \"0\": 21, \"5\": 24, \"4\": 52, \"8\": 21, \"9\": 3, \"13\": 13, \"7\": 3}, \"1\": {\"12\": 81, \"2\": 19, \"1\": 60, \"3\": 37, \"10\": 28, \"7\": 14, \"9\": 1}, \"3\": {\"1\": 49, \"3\": 94, \"12\": 42, \"2\": 18, \"10\": 19, \"7\": 12, \"9\": 6}}}, \"per_domain_accuracy\": {\"C_3\": {\"accuracy\": 0.9994549418604651, \"source?\": true}, \"C_4\": {\"accuracy\": 0.9982954545454545, \"source?\": true}, \"C_5\": {\"accuracy\": 0.9987779329608939, \"source?\": true}, \"C_1\": {\"accuracy\": 0.9994877049180327, \"source?\": true}, \"C_2\": {\"accuracy\": 0.9996468926553672, \"source?\": true}, \"O_14\": {\"accuracy\": 0.3260416666666667, \"source?\": false}, \"O_20\": {\"accuracy\": 0.16979166666666667, \"source?\": false}, \"O_38\": {\"accuracy\": 0.40520833333333334, \"source?\": false}, \"O_8\": {\"accuracy\": 0.2703125, \"source?\": false}, \"O_50\": {\"accuracy\": 0.375, \"source?\": false}, \"O_32\": {\"accuracy\": 0.46536458333333336, \"source?\": false}, \"O_26\": {\"accuracy\": 0.22369791666666666, \"source?\": false}, \"O_44\": {\"accuracy\": 0.32395833333333335, \"source?\": false}}}, \"history\": {\"epoch_indices\": [1, 2, 3, 4, 5, 6, 7], \"train_label_loss\": [0.031103257826591124, 0.008325710118969971, 0.005869564551327701, 0.004420616232783579, 0.0034194028344452787, 0.003529551406528734, 0.003887800177759156], \"source_val_label_loss\": [0.0075055756606161594, 0.018010687083005905, 0.008884113281965256, 0.013872107490897179, 0.009923585690557957, 0.010874217376112938, 0.009735136292874813], \"target_val_label_loss\": [2.0097405910491943, 2.913104772567749, 2.2855215072631836, 3.2897870540618896, 3.3794732093811035, 2.9389445781707764, 2.9136481285095215], \"source_val_acc_label\": [0.9985373858447488, 0.9965753424657534, 0.9991438356164384, 0.9982163242009132, 0.9992508561643836, 0.9990011415525114, 0.9992865296803652], \"target_val_acc_label\": [0.30423177083333336, 0.278515625, 0.319921875, 0.25582682291666664, 0.28391927083333335, 0.3076171875, 0.31243489583333334]}, \"dataset_metrics\": {\"source\": {\"train\": {\"n_unique_x\": 175189, \"n_unique_y\": 58, \"n_batch/episode\": 6297}, \"val\": {\"n_unique_x\": 37196, \"n_unique_y\": 58, \"n_batch/episode\": 876}, \"test\": {\"n_unique_x\": 37634, \"n_unique_y\": 58, \"n_batch/episode\": 891}}, \"target\": {\"train\": {\"n_unique_x\": 179200, \"n_unique_y\": 16, \"n_batch/episode\": 6720}, \"val\": {\"n_unique_x\": 38400, \"n_unique_y\": 16, \"n_batch/episode\": 960}, \"test\": {\"n_unique_x\": 38400, \"n_unique_y\": 16, \"n_batch/episode\": 960}}}}'"
      ]
     },
     "execution_count": 29,
     "metadata": {},
     "output_type": "execute_result"
    }
   ],
   "source": [
    "json.dumps(experiment)"
   ]
  }
 ],
 "metadata": {
  "celltoolbar": "Tags",
  "kernelspec": {
   "display_name": "Python 3 (ipykernel)",
   "language": "python",
   "name": "python3"
  },
  "language_info": {
   "codemirror_mode": {
    "name": "ipython",
    "version": 3
   },
   "file_extension": ".py",
   "mimetype": "text/x-python",
   "name": "python",
   "nbconvert_exporter": "python",
   "pygments_lexer": "ipython3",
   "version": "3.8.10"
  },
  "papermill": {
   "default_parameters": {},
   "duration": 1988.089533,
   "end_time": "2022-03-25T15:55:18.758820",
   "environment_variables": {},
   "exception": null,
   "input_path": "/mnt/wd500GB/CSC500/csc500-main/csc500-notebooks/templates/tl_ptn_template.ipynb",
   "output_path": "trial.ipynb",
   "parameters": {
    "parameters": {
     "BEST_MODEL_PATH": "./best_model.pth",
     "NUM_LOGS_PER_EPOCH": 10,
     "criteria_for_best": "target_accuracy",
     "dataset_seed": 1337,
     "datasets": [
      {
       "domain_prefix": "C_",
       "domains": [
        1,
        2,
        3,
        4,
        5
       ],
       "episode_transforms": [],
       "labels": [
        "1-10.",
        "1-11.",
        "1-15.",
        "1-16.",
        "1-17.",
        "1-18.",
        "1-19.",
        "10-4.",
        "10-7.",
        "11-1.",
        "11-14.",
        "11-17.",
        "11-20.",
        "11-7.",
        "13-20.",
        "13-8.",
        "14-10.",
        "14-11.",
        "14-14.",
        "14-7.",
        "15-1.",
        "15-20.",
        "16-1.",
        "16-16.",
        "17-10.",
        "17-11.",
        "17-2.",
        "19-1.",
        "19-16.",
        "19-19.",
        "19-20.",
        "19-3.",
        "2-10.",
        "2-11.",
        "2-17.",
        "2-18.",
        "2-20.",
        "2-3.",
        "2-4.",
        "2-5.",
        "2-6.",
        "2-7.",
        "2-8.",
        "3-13.",
        "3-18.",
        "3-3.",
        "4-1.",
        "4-10.",
        "4-11.",
        "4-19.",
        "5-5.",
        "6-15.",
        "7-10.",
        "7-14.",
        "8-18.",
        "8-20.",
        "8-3.",
        "8-8."
       ],
       "num_examples_per_domain_per_label": -1,
       "pickle_path": "/mnt/wd500GB/CSC500/csc500-main/datasets/cores.stratified_ds.2022A.pkl",
       "source_or_target_dataset": "source",
       "x_transforms": [
        "unit_power",
        "lowpass_+/-10MHz",
        "take_200"
       ]
      },
      {
       "domain_prefix": "O_",
       "domains": [
        32,
        38,
        8,
        44,
        14,
        50,
        20,
        26
       ],
       "episode_transforms": [],
       "labels": [
        "3123D52",
        "3123D65",
        "3123D79",
        "3123D80",
        "3123D54",
        "3123D70",
        "3123D7B",
        "3123D89",
        "3123D58",
        "3123D76",
        "3123D7D",
        "3123EFE",
        "3123D64",
        "3123D78",
        "3123D7E",
        "3124E4A"
       ],
       "num_examples_per_domain_per_label": 2000,
       "pickle_path": "/mnt/wd500GB/CSC500/csc500-main/datasets/oracle.Run1_framed_2000Examples_stratified_ds.2022A.pkl",
       "source_or_target_dataset": "target",
       "x_transforms": [
        "unit_power",
        "take_200",
        "resample_20Msps_to_25Msps"
       ]
      }
     ],
     "device": "cuda",
     "experiment_name": "tl_3-filterv2:cores -> oracle.run1.framed",
     "lr": 0.0001,
     "n_epoch": 50,
     "n_query": 2,
     "n_shot": 3,
     "n_way": 16,
     "patience": 3,
     "seed": 1337,
     "test_k_factor": 2,
     "torch_default_dtype": "torch.float32",
     "train_k_factor": 3,
     "val_k_factor": 2,
     "x_net": [
      {
       "class": "nnReshape",
       "kargs": {
        "shape": [
         -1,
         1,
         2,
         200
        ]
       }
      },
      {
       "class": "Conv2d",
       "kargs": {
        "bias": false,
        "in_channels": 1,
        "kernel_size": [
         1,
         7
        ],
        "out_channels": 256,
        "padding": [
         0,
         3
        ]
       }
      },
      {
       "class": "ReLU",
       "kargs": {
        "inplace": true
       }
      },
      {
       "class": "BatchNorm2d",
       "kargs": {
        "num_features": 256
       }
      },
      {
       "class": "Conv2d",
       "kargs": {
        "bias": true,
        "in_channels": 256,
        "kernel_size": [
         2,
         7
        ],
        "out_channels": 80,
        "padding": [
         0,
         3
        ]
       }
      },
      {
       "class": "ReLU",
       "kargs": {
        "inplace": true
       }
      },
      {
       "class": "BatchNorm2d",
       "kargs": {
        "num_features": 80
       }
      },
      {
       "class": "Flatten",
       "kargs": {}
      },
      {
       "class": "Linear",
       "kargs": {
        "in_features": 16000,
        "out_features": 256
       }
      },
      {
       "class": "ReLU",
       "kargs": {
        "inplace": true
       }
      },
      {
       "class": "BatchNorm1d",
       "kargs": {
        "num_features": 256
       }
      },
      {
       "class": "Linear",
       "kargs": {
        "in_features": 256,
        "out_features": 256
       }
      }
     ],
     "x_shape": [
      2,
      200
     ]
    }
   },
   "start_time": "2022-03-25T15:22:10.669287",
   "version": "2.3.4"
  }
 },
 "nbformat": 4,
 "nbformat_minor": 5
}