{
 "cells": [
  {
   "cell_type": "markdown",
   "id": "9fea5f46",
   "metadata": {
    "papermill": {
     "duration": 0.017787,
     "end_time": "2022-03-25T15:23:20.300034",
     "exception": false,
     "start_time": "2022-03-25T15:23:20.282247",
     "status": "completed"
    },
    "tags": []
   },
   "source": [
    "# Transfer Learning Template"
   ]
  },
  {
   "cell_type": "code",
   "execution_count": 1,
   "id": "0902182a",
   "metadata": {
    "execution": {
     "iopub.execute_input": "2022-03-25T15:23:20.337311Z",
     "iopub.status.busy": "2022-03-25T15:23:20.332221Z",
     "iopub.status.idle": "2022-03-25T15:23:21.307135Z",
     "shell.execute_reply": "2022-03-25T15:23:21.306708Z"
    },
    "papermill": {
     "duration": 0.994653,
     "end_time": "2022-03-25T15:23:21.307235",
     "exception": false,
     "start_time": "2022-03-25T15:23:20.312582",
     "status": "completed"
    },
    "tags": []
   },
   "outputs": [],
   "source": [
    "%load_ext autoreload\n",
    "%autoreload 2\n",
    "%matplotlib inline\n",
    "\n",
    "    \n",
    "import os, json, sys, time, random\n",
    "import numpy as np\n",
    "import torch\n",
    "from torch.optim import Adam\n",
    "from  easydict import EasyDict\n",
    "import matplotlib.pyplot as plt\n",
    "\n",
    "from steves_models.steves_ptn import Steves_Prototypical_Network\n",
    "\n",
    "from steves_utils.lazy_iterable_wrapper import Lazy_Iterable_Wrapper\n",
    "from steves_utils.iterable_aggregator import Iterable_Aggregator\n",
    "from steves_utils.ptn_train_eval_test_jig import  PTN_Train_Eval_Test_Jig\n",
    "from steves_utils.torch_sequential_builder import build_sequential\n",
    "from steves_utils.torch_utils import get_dataset_metrics, ptn_confusion_by_domain_over_dataloader\n",
    "from steves_utils.utils_v2 import (per_domain_accuracy_from_confusion, get_datasets_base_path)\n",
    "from steves_utils.PTN.utils import independent_accuracy_assesment\n",
    "\n",
    "from torch.utils.data import DataLoader\n",
    "\n",
    "from steves_utils.stratified_dataset.episodic_accessor import Episodic_Accessor_Factory\n",
    "\n",
    "from steves_utils.ptn_do_report import (\n",
    "    get_loss_curve,\n",
    "    get_results_table,\n",
    "    get_parameters_table,\n",
    "    get_domain_accuracies,\n",
    ")\n",
    "\n",
    "from steves_utils.transforms import get_chained_transform"
   ]
  },
  {
   "cell_type": "markdown",
   "id": "41c840b4",
   "metadata": {
    "papermill": {
     "duration": 0.013073,
     "end_time": "2022-03-25T15:23:21.335237",
     "exception": false,
     "start_time": "2022-03-25T15:23:21.322164",
     "status": "completed"
    },
    "tags": []
   },
   "source": [
    "# Allowed Parameters\n",
    "These are allowed parameters, not defaults\n",
    "Each of these values need to be present in the injected parameters (the notebook will raise an exception if they are not present)\n",
    "\n",
    "Papermill uses the cell tag \"parameters\" to inject the real parameters below this cell.\n",
    "Enable tags to see what I mean"
   ]
  },
  {
   "cell_type": "code",
   "execution_count": 2,
   "id": "fd44eb83",
   "metadata": {
    "execution": {
     "iopub.execute_input": "2022-03-25T15:23:21.364369Z",
     "iopub.status.busy": "2022-03-25T15:23:21.362892Z",
     "iopub.status.idle": "2022-03-25T15:23:21.379017Z",
     "shell.execute_reply": "2022-03-25T15:23:21.378589Z"
    },
    "papermill": {
     "duration": 0.031046,
     "end_time": "2022-03-25T15:23:21.379126",
     "exception": false,
     "start_time": "2022-03-25T15:23:21.348080",
     "status": "completed"
    },
    "tags": []
   },
   "outputs": [],
   "source": [
    "required_parameters = {\n",
    "    \"experiment_name\",\n",
    "    \"lr\",\n",
    "    \"device\",\n",
    "    \"seed\",\n",
    "    \"dataset_seed\",\n",
    "    \"n_shot\",\n",
    "    \"n_query\",\n",
    "    \"n_way\",\n",
    "    \"train_k_factor\",\n",
    "    \"val_k_factor\",\n",
    "    \"test_k_factor\",\n",
    "    \"n_epoch\",\n",
    "    \"patience\",\n",
    "    \"criteria_for_best\",\n",
    "    \"x_net\",\n",
    "    \"datasets\",\n",
    "    \"torch_default_dtype\",\n",
    "    \"NUM_LOGS_PER_EPOCH\",\n",
    "    \"BEST_MODEL_PATH\",\n",
    "    \"x_shape\",\n",
    "}"
   ]
  },
  {
   "cell_type": "code",
   "execution_count": 3,
   "id": "fa3f0049",
   "metadata": {
    "execution": {
     "iopub.execute_input": "2022-03-25T15:23:21.415627Z",
     "iopub.status.busy": "2022-03-25T15:23:21.415347Z",
     "iopub.status.idle": "2022-03-25T15:23:21.428033Z",
     "shell.execute_reply": "2022-03-25T15:23:21.428448Z"
    },
    "papermill": {
     "duration": 0.034969,
     "end_time": "2022-03-25T15:23:21.428575",
     "exception": false,
     "start_time": "2022-03-25T15:23:21.393606",
     "status": "completed"
    },
    "tags": [
     "parameters"
    ]
   },
   "outputs": [],
   "source": [
    "from steves_utils.CORES.utils import (\n",
    "    ALL_NODES,\n",
    "    ALL_NODES_MINIMUM_1000_EXAMPLES,\n",
    "    ALL_DAYS\n",
    ")\n",
    "\n",
    "from steves_utils.ORACLE.utils_v2 import (\n",
    "    ALL_DISTANCES_FEET_NARROWED,\n",
    "    ALL_RUNS,\n",
    "    ALL_SERIAL_NUMBERS,\n",
    ")\n",
    "\n",
    "standalone_parameters = {}\n",
    "standalone_parameters[\"experiment_name\"] = \"STANDALONE PTN\"\n",
    "standalone_parameters[\"lr\"] = 0.001\n",
    "standalone_parameters[\"device\"] = \"cuda\"\n",
    "\n",
    "standalone_parameters[\"seed\"] = 1337\n",
    "standalone_parameters[\"dataset_seed\"] = 1337\n",
    "\n",
    "standalone_parameters[\"n_way\"] = 8\n",
    "standalone_parameters[\"n_shot\"] = 3\n",
    "standalone_parameters[\"n_query\"]  = 2\n",
    "standalone_parameters[\"train_k_factor\"] = 1\n",
    "standalone_parameters[\"val_k_factor\"] = 2\n",
    "standalone_parameters[\"test_k_factor\"] = 2\n",
    "\n",
    "\n",
    "standalone_parameters[\"n_epoch\"] = 50\n",
    "\n",
    "standalone_parameters[\"patience\"] = 10\n",
    "standalone_parameters[\"criteria_for_best\"] = \"source_loss\"\n",
    "\n",
    "standalone_parameters[\"datasets\"] = [\n",
    "    {\n",
    "        \"labels\": ALL_SERIAL_NUMBERS,\n",
    "        \"domains\": ALL_DISTANCES_FEET_NARROWED,\n",
    "        \"num_examples_per_domain_per_label\": 100,\n",
    "        \"pickle_path\": os.path.join(get_datasets_base_path(), \"oracle.Run1_framed_2000Examples_stratified_ds.2022A.pkl\"),\n",
    "        \"source_or_target_dataset\": \"source\",\n",
    "        \"x_transforms\": [\"unit_mag\", \"minus_two\"],\n",
    "        \"episode_transforms\": [],\n",
    "        \"domain_prefix\": \"ORACLE_\"\n",
    "    },\n",
    "    {\n",
    "        \"labels\": ALL_NODES,\n",
    "        \"domains\": ALL_DAYS,\n",
    "        \"num_examples_per_domain_per_label\": 100,\n",
    "        \"pickle_path\": os.path.join(get_datasets_base_path(), \"cores.stratified_ds.2022A.pkl\"),\n",
    "        \"source_or_target_dataset\": \"target\",\n",
    "        \"x_transforms\": [\"unit_power\", \"times_zero\"],\n",
    "        \"episode_transforms\": [],\n",
    "        \"domain_prefix\": \"CORES_\"\n",
    "    }   \n",
    "]\n",
    "\n",
    "standalone_parameters[\"torch_default_dtype\"] = \"torch.float32\" \n",
    "\n",
    "\n",
    "\n",
    "standalone_parameters[\"x_net\"] =     [\n",
    "    {\"class\": \"nnReshape\", \"kargs\": {\"shape\":[-1, 1, 2, 256]}},\n",
    "    {\"class\": \"Conv2d\", \"kargs\": { \"in_channels\":1, \"out_channels\":256, \"kernel_size\":(1,7), \"bias\":False, \"padding\":(0,3), },},\n",
    "    {\"class\": \"ReLU\", \"kargs\": {\"inplace\": True}},\n",
    "    {\"class\": \"BatchNorm2d\", \"kargs\": {\"num_features\":256}},\n",
    "\n",
    "    {\"class\": \"Conv2d\", \"kargs\": { \"in_channels\":256, \"out_channels\":80, \"kernel_size\":(2,7), \"bias\":True, \"padding\":(0,3), },},\n",
    "    {\"class\": \"ReLU\", \"kargs\": {\"inplace\": True}},\n",
    "    {\"class\": \"BatchNorm2d\", \"kargs\": {\"num_features\":80}},\n",
    "    {\"class\": \"Flatten\", \"kargs\": {}},\n",
    "\n",
    "    {\"class\": \"Linear\", \"kargs\": {\"in_features\": 80*256, \"out_features\": 256}}, # 80 units per IQ pair\n",
    "    {\"class\": \"ReLU\", \"kargs\": {\"inplace\": True}},\n",
    "    {\"class\": \"BatchNorm1d\", \"kargs\": {\"num_features\":256}},\n",
    "\n",
    "    {\"class\": \"Linear\", \"kargs\": {\"in_features\": 256, \"out_features\": 256}},\n",
    "]\n",
    "\n",
    "# Parameters relevant to results\n",
    "# These parameters will basically never need to change\n",
    "standalone_parameters[\"NUM_LOGS_PER_EPOCH\"] = 10\n",
    "standalone_parameters[\"BEST_MODEL_PATH\"] = \"./best_model.pth\"\n",
    "\n",
    "\n",
    "\n",
    "\n"
   ]
  },
  {
   "cell_type": "code",
   "execution_count": 4,
   "id": "2330e967",
   "metadata": {
    "execution": {
     "iopub.execute_input": "2022-03-25T15:23:21.467212Z",
     "iopub.status.busy": "2022-03-25T15:23:21.466864Z",
     "iopub.status.idle": "2022-03-25T15:23:21.480867Z",
     "shell.execute_reply": "2022-03-25T15:23:21.480378Z"
    },
    "papermill": {
     "duration": 0.03652,
     "end_time": "2022-03-25T15:23:21.480980",
     "exception": false,
     "start_time": "2022-03-25T15:23:21.444460",
     "status": "completed"
    },
    "tags": [
     "injected-parameters"
    ]
   },
   "outputs": [],
   "source": [
    "# Parameters\n",
    "parameters = {\n",
    "    \"experiment_name\": \"tl_3-filterv2:cores -> oracle.run1.framed\",\n",
    "    \"device\": \"cuda\",\n",
    "    \"lr\": 0.0001,\n",
    "    \"x_shape\": [2, 200],\n",
    "    \"n_shot\": 3,\n",
    "    \"n_query\": 2,\n",
    "    \"train_k_factor\": 3,\n",
    "    \"val_k_factor\": 2,\n",
    "    \"test_k_factor\": 2,\n",
    "    \"torch_default_dtype\": \"torch.float32\",\n",
    "    \"n_epoch\": 50,\n",
    "    \"patience\": 3,\n",
    "    \"criteria_for_best\": \"target_accuracy\",\n",
    "    \"x_net\": [\n",
    "        {\"class\": \"nnReshape\", \"kargs\": {\"shape\": [-1, 1, 2, 200]}},\n",
    "        {\n",
    "            \"class\": \"Conv2d\",\n",
    "            \"kargs\": {\n",
    "                \"in_channels\": 1,\n",
    "                \"out_channels\": 256,\n",
    "                \"kernel_size\": [1, 7],\n",
    "                \"bias\": False,\n",
    "                \"padding\": [0, 3],\n",
    "            },\n",
    "        },\n",
    "        {\"class\": \"ReLU\", \"kargs\": {\"inplace\": True}},\n",
    "        {\"class\": \"BatchNorm2d\", \"kargs\": {\"num_features\": 256}},\n",
    "        {\n",
    "            \"class\": \"Conv2d\",\n",
    "            \"kargs\": {\n",
    "                \"in_channels\": 256,\n",
    "                \"out_channels\": 80,\n",
    "                \"kernel_size\": [2, 7],\n",
    "                \"bias\": True,\n",
    "                \"padding\": [0, 3],\n",
    "            },\n",
    "        },\n",
    "        {\"class\": \"ReLU\", \"kargs\": {\"inplace\": True}},\n",
    "        {\"class\": \"BatchNorm2d\", \"kargs\": {\"num_features\": 80}},\n",
    "        {\"class\": \"Flatten\", \"kargs\": {}},\n",
    "        {\"class\": \"Linear\", \"kargs\": {\"in_features\": 16000, \"out_features\": 256}},\n",
    "        {\"class\": \"ReLU\", \"kargs\": {\"inplace\": True}},\n",
    "        {\"class\": \"BatchNorm1d\", \"kargs\": {\"num_features\": 256}},\n",
    "        {\"class\": \"Linear\", \"kargs\": {\"in_features\": 256, \"out_features\": 256}},\n",
    "    ],\n",
    "    \"NUM_LOGS_PER_EPOCH\": 10,\n",
    "    \"BEST_MODEL_PATH\": \"./best_model.pth\",\n",
    "    \"n_way\": 16,\n",
    "    \"datasets\": [\n",
    "        {\n",
    "            \"labels\": [\n",
    "                \"1-10.\",\n",
    "                \"1-11.\",\n",
    "                \"1-15.\",\n",
    "                \"1-16.\",\n",
    "                \"1-17.\",\n",
    "                \"1-18.\",\n",
    "                \"1-19.\",\n",
    "                \"10-4.\",\n",
    "                \"10-7.\",\n",
    "                \"11-1.\",\n",
    "                \"11-14.\",\n",
    "                \"11-17.\",\n",
    "                \"11-20.\",\n",
    "                \"11-7.\",\n",
    "                \"13-20.\",\n",
    "                \"13-8.\",\n",
    "                \"14-10.\",\n",
    "                \"14-11.\",\n",
    "                \"14-14.\",\n",
    "                \"14-7.\",\n",
    "                \"15-1.\",\n",
    "                \"15-20.\",\n",
    "                \"16-1.\",\n",
    "                \"16-16.\",\n",
    "                \"17-10.\",\n",
    "                \"17-11.\",\n",
    "                \"17-2.\",\n",
    "                \"19-1.\",\n",
    "                \"19-16.\",\n",
    "                \"19-19.\",\n",
    "                \"19-20.\",\n",
    "                \"19-3.\",\n",
    "                \"2-10.\",\n",
    "                \"2-11.\",\n",
    "                \"2-17.\",\n",
    "                \"2-18.\",\n",
    "                \"2-20.\",\n",
    "                \"2-3.\",\n",
    "                \"2-4.\",\n",
    "                \"2-5.\",\n",
    "                \"2-6.\",\n",
    "                \"2-7.\",\n",
    "                \"2-8.\",\n",
    "                \"3-13.\",\n",
    "                \"3-18.\",\n",
    "                \"3-3.\",\n",
    "                \"4-1.\",\n",
    "                \"4-10.\",\n",
    "                \"4-11.\",\n",
    "                \"4-19.\",\n",
    "                \"5-5.\",\n",
    "                \"6-15.\",\n",
    "                \"7-10.\",\n",
    "                \"7-14.\",\n",
    "                \"8-18.\",\n",
    "                \"8-20.\",\n",
    "                \"8-3.\",\n",
    "                \"8-8.\",\n",
    "            ],\n",
    "            \"domains\": [1, 2, 3, 4, 5],\n",
    "            \"num_examples_per_domain_per_label\": -1,\n",
    "            \"pickle_path\": \"/mnt/wd500GB/CSC500/csc500-main/datasets/cores.stratified_ds.2022A.pkl\",\n",
    "            \"source_or_target_dataset\": \"source\",\n",
    "            \"x_transforms\": [\"unit_mag\", \"lowpass_+/-10MHz\", \"take_200\"],\n",
    "            \"episode_transforms\": [],\n",
    "            \"domain_prefix\": \"C_\",\n",
    "        },\n",
    "        {\n",
    "            \"labels\": [\n",
    "                \"3123D52\",\n",
    "                \"3123D65\",\n",
    "                \"3123D79\",\n",
    "                \"3123D80\",\n",
    "                \"3123D54\",\n",
    "                \"3123D70\",\n",
    "                \"3123D7B\",\n",
    "                \"3123D89\",\n",
    "                \"3123D58\",\n",
    "                \"3123D76\",\n",
    "                \"3123D7D\",\n",
    "                \"3123EFE\",\n",
    "                \"3123D64\",\n",
    "                \"3123D78\",\n",
    "                \"3123D7E\",\n",
    "                \"3124E4A\",\n",
    "            ],\n",
    "            \"domains\": [32, 38, 8, 44, 14, 50, 20, 26],\n",
    "            \"num_examples_per_domain_per_label\": 2000,\n",
    "            \"pickle_path\": \"/mnt/wd500GB/CSC500/csc500-main/datasets/oracle.Run1_framed_2000Examples_stratified_ds.2022A.pkl\",\n",
    "            \"source_or_target_dataset\": \"target\",\n",
    "            \"x_transforms\": [\"unit_mag\", \"take_200\", \"resample_20Msps_to_25Msps\"],\n",
    "            \"episode_transforms\": [],\n",
    "            \"domain_prefix\": \"O_\",\n",
    "        },\n",
    "    ],\n",
    "    \"seed\": 1337,\n",
    "    \"dataset_seed\": 1337,\n",
    "}\n"
   ]
  },
  {
   "cell_type": "code",
   "execution_count": 5,
   "id": "8fa1cc33",
   "metadata": {
    "execution": {
     "iopub.execute_input": "2022-03-25T15:23:21.514315Z",
     "iopub.status.busy": "2022-03-25T15:23:21.514057Z",
     "iopub.status.idle": "2022-03-25T15:23:21.524936Z",
     "shell.execute_reply": "2022-03-25T15:23:21.525129Z"
    },
    "papermill": {
     "duration": 0.026318,
     "end_time": "2022-03-25T15:23:21.525194",
     "exception": false,
     "start_time": "2022-03-25T15:23:21.498876",
     "status": "completed"
    },
    "tags": []
   },
   "outputs": [],
   "source": [
    "# Set this to True if you want to run this template directly\n",
    "STANDALONE = False\n",
    "if STANDALONE:\n",
    "    print(\"parameters not injected, running with standalone_parameters\")\n",
    "    parameters = standalone_parameters\n",
    "\n",
    "if not 'parameters' in locals() and not 'parameters' in globals():\n",
    "    raise Exception(\"Parameter injection failed\")\n",
    "\n",
    "#Use an easy dict for all the parameters\n",
    "p = EasyDict(parameters)\n",
    "\n",
    "if \"x_shape\" not in p:\n",
    "    p.x_shape = [2,256] # Default to this if we dont supply x_shape\n",
    "\n",
    "\n",
    "supplied_keys = set(p.keys())\n",
    "\n",
    "if  supplied_keys != required_parameters:\n",
    "    print(\"Parameters are incorrect\")\n",
    "    if len(supplied_keys - required_parameters)>0: print(\"Shouldn't have:\", str(supplied_keys - required_parameters))\n",
    "    if len(required_parameters - supplied_keys)>0: print(\"Need to have:\", str(required_parameters - supplied_keys))\n",
    "    raise RuntimeError(\"Parameters are incorrect\")"
   ]
  },
  {
   "cell_type": "code",
   "execution_count": 6,
   "id": "3a028d58",
   "metadata": {
    "execution": {
     "iopub.execute_input": "2022-03-25T15:23:21.564014Z",
     "iopub.status.busy": "2022-03-25T15:23:21.563751Z",
     "iopub.status.idle": "2022-03-25T15:23:21.579850Z",
     "shell.execute_reply": "2022-03-25T15:23:21.580065Z"
    },
    "papermill": {
     "duration": 0.03731,
     "end_time": "2022-03-25T15:23:21.580144",
     "exception": false,
     "start_time": "2022-03-25T15:23:21.542834",
     "status": "completed"
    },
    "tags": []
   },
   "outputs": [],
   "source": [
    "###################################\n",
    "# Set the RNGs and make it all deterministic\n",
    "###################################\n",
    "np.random.seed(p.seed)\n",
    "random.seed(p.seed)\n",
    "torch.manual_seed(p.seed)\n",
    "\n",
    "torch.use_deterministic_algorithms(True) "
   ]
  },
  {
   "cell_type": "code",
   "execution_count": 7,
   "id": "b691acf6",
   "metadata": {
    "execution": {
     "iopub.execute_input": "2022-03-25T15:23:21.608576Z",
     "iopub.status.busy": "2022-03-25T15:23:21.608315Z",
     "iopub.status.idle": "2022-03-25T15:23:21.624463Z",
     "shell.execute_reply": "2022-03-25T15:23:21.624117Z"
    },
    "papermill": {
     "duration": 0.031127,
     "end_time": "2022-03-25T15:23:21.624550",
     "exception": false,
     "start_time": "2022-03-25T15:23:21.593423",
     "status": "completed"
    },
    "tags": []
   },
   "outputs": [],
   "source": [
    "###########################################\n",
    "# The stratified datasets honor this\n",
    "###########################################\n",
    "torch.set_default_dtype(eval(p.torch_default_dtype))"
   ]
  },
  {
   "cell_type": "code",
   "execution_count": 8,
   "id": "b5fba671",
   "metadata": {
    "execution": {
     "iopub.execute_input": "2022-03-25T15:23:21.657082Z",
     "iopub.status.busy": "2022-03-25T15:23:21.656821Z",
     "iopub.status.idle": "2022-03-25T15:23:21.692124Z",
     "shell.execute_reply": "2022-03-25T15:23:21.692344Z"
    },
    "papermill": {
     "duration": 0.050516,
     "end_time": "2022-03-25T15:23:21.692427",
     "exception": false,
     "start_time": "2022-03-25T15:23:21.641911",
     "status": "completed"
    },
    "tags": []
   },
   "outputs": [],
   "source": [
    "###################################\n",
    "# Build the network(s)\n",
    "# Note: It's critical to do this AFTER setting the RNG\n",
    "###################################\n",
    "x_net = build_sequential(p.x_net)"
   ]
  },
  {
   "cell_type": "code",
   "execution_count": 9,
   "id": "5d7e61cc",
   "metadata": {
    "execution": {
     "iopub.execute_input": "2022-03-25T15:23:21.728784Z",
     "iopub.status.busy": "2022-03-25T15:23:21.728523Z",
     "iopub.status.idle": "2022-03-25T15:23:21.745066Z",
     "shell.execute_reply": "2022-03-25T15:23:21.745623Z"
    },
    "papermill": {
     "duration": 0.034785,
     "end_time": "2022-03-25T15:23:21.745795",
     "exception": false,
     "start_time": "2022-03-25T15:23:21.711010",
     "status": "completed"
    },
    "tags": []
   },
   "outputs": [],
   "source": [
    "start_time_secs = time.time()"
   ]
  },
  {
   "cell_type": "code",
   "execution_count": 10,
   "id": "c6b67dfd",
   "metadata": {
    "execution": {
     "iopub.execute_input": "2022-03-25T15:23:21.780765Z",
     "iopub.status.busy": "2022-03-25T15:23:21.780507Z",
     "iopub.status.idle": "2022-03-25T15:23:21.794624Z",
     "shell.execute_reply": "2022-03-25T15:23:21.794927Z"
    },
    "papermill": {
     "duration": 0.033369,
     "end_time": "2022-03-25T15:23:21.795028",
     "exception": false,
     "start_time": "2022-03-25T15:23:21.761659",
     "status": "completed"
    },
    "tags": []
   },
   "outputs": [],
   "source": [
    "p.domains_source = []\n",
    "p.domains_target = []\n",
    "\n",
    "\n",
    "train_original_source = []\n",
    "val_original_source   = []\n",
    "test_original_source  = []\n",
    "\n",
    "train_original_target = []\n",
    "val_original_target   = []\n",
    "test_original_target  = []"
   ]
  },
  {
   "cell_type": "code",
   "execution_count": 11,
   "id": "e3d9c3d3",
   "metadata": {
    "execution": {
     "iopub.execute_input": "2022-03-25T15:23:21.831171Z",
     "iopub.status.busy": "2022-03-25T15:23:21.830824Z",
     "iopub.status.idle": "2022-03-25T15:23:21.845879Z",
     "shell.execute_reply": "2022-03-25T15:23:21.846264Z"
    },
    "papermill": {
     "duration": 0.031534,
     "end_time": "2022-03-25T15:23:21.846371",
     "exception": false,
     "start_time": "2022-03-25T15:23:21.814837",
     "status": "completed"
    },
    "tags": []
   },
   "outputs": [],
   "source": [
    "# global_x_transform_func = lambda x: normalize(x.to(torch.get_default_dtype()), \"unit_power\") # unit_power, unit_mag\n",
    "# global_x_transform_func = lambda x: normalize(x, \"unit_power\") # unit_power, unit_mag"
   ]
  },
  {
   "cell_type": "code",
   "execution_count": 12,
   "id": "acb78fd2",
   "metadata": {
    "execution": {
     "iopub.execute_input": "2022-03-25T15:23:21.884521Z",
     "iopub.status.busy": "2022-03-25T15:23:21.884244Z",
     "iopub.status.idle": "2022-03-25T15:23:21.897524Z",
     "shell.execute_reply": "2022-03-25T15:23:21.897283Z"
    },
    "papermill": {
     "duration": 0.033669,
     "end_time": "2022-03-25T15:23:21.897588",
     "exception": false,
     "start_time": "2022-03-25T15:23:21.863919",
     "status": "completed"
    },
    "tags": []
   },
   "outputs": [],
   "source": [
    "def add_dataset(\n",
    "    labels,\n",
    "    domains,\n",
    "    pickle_path,\n",
    "    x_transforms,\n",
    "    episode_transforms,\n",
    "    domain_prefix,\n",
    "    num_examples_per_domain_per_label,\n",
    "    source_or_target_dataset:str,\n",
    "    iterator_seed=p.seed,\n",
    "    dataset_seed=p.dataset_seed,\n",
    "    n_shot=p.n_shot,\n",
    "    n_way=p.n_way,\n",
    "    n_query=p.n_query,\n",
    "    train_val_test_k_factors=(p.train_k_factor,p.val_k_factor,p.test_k_factor),\n",
    "):\n",
    "   \n",
    "    if x_transforms == []: x_transform = None\n",
    "    else: x_transform = get_chained_transform(x_transforms)\n",
    "    \n",
    "    if episode_transforms == []: episode_transform = None\n",
    "    else: raise Exception(\"episode_transforms not implemented\")\n",
    "    \n",
    "    episode_transform = lambda tup, _prefix=domain_prefix: (_prefix + str(tup[0]), tup[1])\n",
    "\n",
    "\n",
    "    eaf = Episodic_Accessor_Factory(\n",
    "        labels=labels,\n",
    "        domains=domains,\n",
    "        num_examples_per_domain_per_label=num_examples_per_domain_per_label,\n",
    "        iterator_seed=iterator_seed,\n",
    "        dataset_seed=dataset_seed,\n",
    "        n_shot=n_shot,\n",
    "        n_way=n_way,\n",
    "        n_query=n_query,\n",
    "        train_val_test_k_factors=train_val_test_k_factors,\n",
    "        pickle_path=pickle_path,\n",
    "        x_transform_func=x_transform,\n",
    "    )\n",
    "\n",
    "    train, val, test = eaf.get_train(), eaf.get_val(), eaf.get_test()\n",
    "    train = Lazy_Iterable_Wrapper(train, episode_transform)\n",
    "    val = Lazy_Iterable_Wrapper(val, episode_transform)\n",
    "    test = Lazy_Iterable_Wrapper(test, episode_transform)\n",
    "\n",
    "    if source_or_target_dataset==\"source\":\n",
    "        train_original_source.append(train)\n",
    "        val_original_source.append(val)\n",
    "        test_original_source.append(test)\n",
    "\n",
    "        p.domains_source.extend(\n",
    "            [domain_prefix + str(u) for u in domains]\n",
    "        )\n",
    "    elif source_or_target_dataset==\"target\":\n",
    "        train_original_target.append(train)\n",
    "        val_original_target.append(val)\n",
    "        test_original_target.append(test)\n",
    "        p.domains_target.extend(\n",
    "            [domain_prefix + str(u) for u in domains]\n",
    "        )\n",
    "    else:\n",
    "        raise Exception(f\"invalid source_or_target_dataset: {source_or_target_dataset}\")\n",
    "    "
   ]
  },
  {
   "cell_type": "code",
   "execution_count": 13,
   "id": "fe266617",
   "metadata": {
    "execution": {
     "iopub.execute_input": "2022-03-25T15:23:21.926353Z",
     "iopub.status.busy": "2022-03-25T15:23:21.925539Z",
     "iopub.status.idle": "2022-03-25T15:24:14.252549Z",
     "shell.execute_reply": "2022-03-25T15:24:14.252228Z"
    },
    "papermill": {
     "duration": 52.341472,
     "end_time": "2022-03-25T15:24:14.252637",
     "exception": false,
     "start_time": "2022-03-25T15:23:21.911165",
     "status": "completed"
    },
    "tags": []
   },
   "outputs": [],
   "source": [
    "for ds in p.datasets:\n",
    "    add_dataset(**ds)"
   ]
  },
  {
   "cell_type": "code",
   "execution_count": 14,
   "id": "b90d65ac",
   "metadata": {
    "execution": {
     "iopub.execute_input": "2022-03-25T15:24:14.285904Z",
     "iopub.status.busy": "2022-03-25T15:24:14.285630Z",
     "iopub.status.idle": "2022-03-25T15:24:14.301647Z",
     "shell.execute_reply": "2022-03-25T15:24:14.301197Z"
    },
    "papermill": {
     "duration": 0.031598,
     "end_time": "2022-03-25T15:24:14.301756",
     "exception": false,
     "start_time": "2022-03-25T15:24:14.270158",
     "status": "completed"
    },
    "tags": []
   },
   "outputs": [],
   "source": [
    "# from steves_utils.CORES.utils import (\n",
    "#     ALL_NODES,\n",
    "#     ALL_NODES_MINIMUM_1000_EXAMPLES,\n",
    "#     ALL_DAYS\n",
    "# )\n",
    "\n",
    "# add_dataset(\n",
    "#     labels=ALL_NODES,\n",
    "#     domains = ALL_DAYS,\n",
    "#     num_examples_per_domain_per_label=100,\n",
    "#     pickle_path=os.path.join(get_datasets_base_path(), \"cores.stratified_ds.2022A.pkl\"),\n",
    "#     source_or_target_dataset=\"target\",\n",
    "#     x_transform_func=global_x_transform_func,\n",
    "#     domain_modifier=lambda u: f\"cores_{u}\"\n",
    "# )"
   ]
  },
  {
   "cell_type": "code",
   "execution_count": 15,
   "id": "76db484d",
   "metadata": {
    "execution": {
     "iopub.execute_input": "2022-03-25T15:24:14.335843Z",
     "iopub.status.busy": "2022-03-25T15:24:14.335581Z",
     "iopub.status.idle": "2022-03-25T15:24:14.352554Z",
     "shell.execute_reply": "2022-03-25T15:24:14.352083Z"
    },
    "papermill": {
     "duration": 0.032671,
     "end_time": "2022-03-25T15:24:14.352659",
     "exception": false,
     "start_time": "2022-03-25T15:24:14.319988",
     "status": "completed"
    },
    "tags": []
   },
   "outputs": [],
   "source": [
    "# from steves_utils.ORACLE.utils_v2 import (\n",
    "#     ALL_DISTANCES_FEET,\n",
    "#     ALL_RUNS,\n",
    "#     ALL_SERIAL_NUMBERS,\n",
    "# )\n",
    "\n",
    "\n",
    "# add_dataset(\n",
    "#     labels=ALL_SERIAL_NUMBERS,\n",
    "#     domains = list(set(ALL_DISTANCES_FEET) - {2,62}),\n",
    "#     num_examples_per_domain_per_label=100,\n",
    "#     pickle_path=os.path.join(get_datasets_base_path(), \"oracle.Run2_framed_2000Examples_stratified_ds.2022A.pkl\"),\n",
    "#     source_or_target_dataset=\"source\",\n",
    "#     x_transform_func=global_x_transform_func,\n",
    "#     domain_modifier=lambda u: f\"oracle1_{u}\"\n",
    "# )\n"
   ]
  },
  {
   "cell_type": "code",
   "execution_count": 16,
   "id": "97dea9d2",
   "metadata": {
    "execution": {
     "iopub.execute_input": "2022-03-25T15:24:14.384680Z",
     "iopub.status.busy": "2022-03-25T15:24:14.384397Z",
     "iopub.status.idle": "2022-03-25T15:24:14.395301Z",
     "shell.execute_reply": "2022-03-25T15:24:14.394924Z"
    },
    "papermill": {
     "duration": 0.026238,
     "end_time": "2022-03-25T15:24:14.395381",
     "exception": false,
     "start_time": "2022-03-25T15:24:14.369143",
     "status": "completed"
    },
    "tags": []
   },
   "outputs": [],
   "source": [
    "# from steves_utils.ORACLE.utils_v2 import (\n",
    "#     ALL_DISTANCES_FEET,\n",
    "#     ALL_RUNS,\n",
    "#     ALL_SERIAL_NUMBERS,\n",
    "# )\n",
    "\n",
    "\n",
    "# add_dataset(\n",
    "#     labels=ALL_SERIAL_NUMBERS,\n",
    "#     domains = list(set(ALL_DISTANCES_FEET) - {2,62,56}),\n",
    "#     num_examples_per_domain_per_label=100,\n",
    "#     pickle_path=os.path.join(get_datasets_base_path(), \"oracle.Run2_framed_2000Examples_stratified_ds.2022A.pkl\"),\n",
    "#     source_or_target_dataset=\"source\",\n",
    "#     x_transform_func=global_x_transform_func,\n",
    "#     domain_modifier=lambda u: f\"oracle2_{u}\"\n",
    "# )"
   ]
  },
  {
   "cell_type": "code",
   "execution_count": 17,
   "id": "6f289866",
   "metadata": {
    "execution": {
     "iopub.execute_input": "2022-03-25T15:24:14.430553Z",
     "iopub.status.busy": "2022-03-25T15:24:14.430220Z",
     "iopub.status.idle": "2022-03-25T15:24:14.445014Z",
     "shell.execute_reply": "2022-03-25T15:24:14.444593Z"
    },
    "papermill": {
     "duration": 0.030887,
     "end_time": "2022-03-25T15:24:14.445121",
     "exception": false,
     "start_time": "2022-03-25T15:24:14.414234",
     "status": "completed"
    },
    "tags": []
   },
   "outputs": [],
   "source": [
    "# add_dataset(\n",
    "#     labels=list(range(19)),\n",
    "#     domains = [0,1,2],\n",
    "#     num_examples_per_domain_per_label=100,\n",
    "#     pickle_path=os.path.join(get_datasets_base_path(), \"metehan.stratified_ds.2022A.pkl\"),\n",
    "#     source_or_target_dataset=\"target\",\n",
    "#     x_transform_func=global_x_transform_func,\n",
    "#     domain_modifier=lambda u: f\"met_{u}\"\n",
    "# )"
   ]
  },
  {
   "cell_type": "code",
   "execution_count": 18,
   "id": "86a863c3",
   "metadata": {
    "execution": {
     "iopub.execute_input": "2022-03-25T15:24:14.477494Z",
     "iopub.status.busy": "2022-03-25T15:24:14.477181Z",
     "iopub.status.idle": "2022-03-25T15:24:14.493158Z",
     "shell.execute_reply": "2022-03-25T15:24:14.492661Z"
    },
    "papermill": {
     "duration": 0.031808,
     "end_time": "2022-03-25T15:24:14.493262",
     "exception": false,
     "start_time": "2022-03-25T15:24:14.461454",
     "status": "completed"
    },
    "tags": []
   },
   "outputs": [],
   "source": [
    "# # from steves_utils.wisig.utils import (\n",
    "# #     ALL_NODES_MINIMUM_100_EXAMPLES,\n",
    "# #     ALL_NODES_MINIMUM_500_EXAMPLES,\n",
    "# #     ALL_NODES_MINIMUM_1000_EXAMPLES,\n",
    "# #     ALL_DAYS\n",
    "# # )\n",
    "\n",
    "# import steves_utils.wisig.utils as wisig\n",
    "\n",
    "\n",
    "# add_dataset(\n",
    "#     labels=wisig.ALL_NODES_MINIMUM_100_EXAMPLES,\n",
    "#     domains = wisig.ALL_DAYS,\n",
    "#     num_examples_per_domain_per_label=100,\n",
    "#     pickle_path=os.path.join(get_datasets_base_path(), \"wisig.node3-19.stratified_ds.2022A.pkl\"),\n",
    "#     source_or_target_dataset=\"target\",\n",
    "#     x_transform_func=global_x_transform_func,\n",
    "#     domain_modifier=lambda u: f\"wisig_{u}\"\n",
    "# )"
   ]
  },
  {
   "cell_type": "code",
   "execution_count": 19,
   "id": "fd5442bc",
   "metadata": {
    "execution": {
     "iopub.execute_input": "2022-03-25T15:24:14.529204Z",
     "iopub.status.busy": "2022-03-25T15:24:14.528941Z",
     "iopub.status.idle": "2022-03-25T15:24:14.541298Z",
     "shell.execute_reply": "2022-03-25T15:24:14.541079Z"
    },
    "papermill": {
     "duration": 0.029842,
     "end_time": "2022-03-25T15:24:14.541352",
     "exception": false,
     "start_time": "2022-03-25T15:24:14.511510",
     "status": "completed"
    },
    "tags": []
   },
   "outputs": [],
   "source": [
    "###################################\n",
    "# Build the dataset\n",
    "###################################\n",
    "train_original_source = Iterable_Aggregator(train_original_source, p.seed)\n",
    "val_original_source = Iterable_Aggregator(val_original_source, p.seed)\n",
    "test_original_source = Iterable_Aggregator(test_original_source, p.seed)\n",
    "\n",
    "\n",
    "train_original_target = Iterable_Aggregator(train_original_target, p.seed)\n",
    "val_original_target = Iterable_Aggregator(val_original_target, p.seed)\n",
    "test_original_target = Iterable_Aggregator(test_original_target, p.seed)\n",
    "\n",
    "# For CNN We only use X and Y. And we only train on the source.\n",
    "# Properly form the data using a transform lambda and Lazy_Iterable_Wrapper. Finally wrap them in a dataloader\n",
    "\n",
    "transform_lambda = lambda ex: ex[1] # Original is (<domain>, <episode>) so we strip down to episode only\n",
    "\n",
    "train_processed_source = Lazy_Iterable_Wrapper(train_original_source, transform_lambda)\n",
    "val_processed_source   = Lazy_Iterable_Wrapper(val_original_source, transform_lambda)\n",
    "test_processed_source  = Lazy_Iterable_Wrapper(test_original_source, transform_lambda)\n",
    "\n",
    "train_processed_target = Lazy_Iterable_Wrapper(train_original_target, transform_lambda)\n",
    "val_processed_target   = Lazy_Iterable_Wrapper(val_original_target, transform_lambda)\n",
    "test_processed_target  = Lazy_Iterable_Wrapper(test_original_target, transform_lambda)\n",
    "\n",
    "datasets = EasyDict({\n",
    "    \"source\": {\n",
    "        \"original\": {\"train\":train_original_source, \"val\":val_original_source, \"test\":test_original_source},\n",
    "        \"processed\": {\"train\":train_processed_source, \"val\":val_processed_source, \"test\":test_processed_source}\n",
    "    },\n",
    "    \"target\": {\n",
    "        \"original\": {\"train\":train_original_target, \"val\":val_original_target, \"test\":test_original_target},\n",
    "        \"processed\": {\"train\":train_processed_target, \"val\":val_processed_target, \"test\":test_processed_target}\n",
    "    },\n",
    "})"
   ]
  },
  {
   "cell_type": "code",
   "execution_count": 20,
   "id": "5b3c01fc",
   "metadata": {
    "execution": {
     "iopub.execute_input": "2022-03-25T15:24:14.572175Z",
     "iopub.status.busy": "2022-03-25T15:24:14.571916Z",
     "iopub.status.idle": "2022-03-25T15:24:21.289301Z",
     "shell.execute_reply": "2022-03-25T15:24:21.289623Z"
    },
    "papermill": {
     "duration": 6.734567,
     "end_time": "2022-03-25T15:24:21.289730",
     "exception": false,
     "start_time": "2022-03-25T15:24:14.555163",
     "status": "completed"
    },
    "tags": []
   },
   "outputs": [
    {
     "name": "stdout",
     "output_type": "stream",
     "text": [
      "{'C_3', 'C_2', 'C_5', 'C_4', 'C_1'}\n"
     ]
    },
    {
     "name": "stdout",
     "output_type": "stream",
     "text": [
      "{'O_14', 'O_26', 'O_38', 'O_50', 'O_32', 'O_44', 'O_20', 'O_8'}\n"
     ]
    },
    {
     "name": "stdout",
     "output_type": "stream",
     "text": [
      "tensor([[[-0.0165, -0.1299, -0.3679,  ...,  0.0068, -0.0191, -0.6637],\n",
      "         [ 0.0051, -0.0086, -0.2035,  ...,  1.1773,  0.2766, -0.9329]],\n",
      "\n",
      "        [[-0.0248, -0.1750, -0.4248,  ...,  0.1422, -0.1617, -0.9469],\n",
      "         [-0.0047, -0.0717, -0.3387,  ...,  0.9528, -0.0503, -1.2497]],\n",
      "\n",
      "        [[-0.0118, -0.0885, -0.2359,  ..., -0.6216, -0.2350, -0.1783],\n",
      "         [ 0.0072,  0.0071, -0.1665,  ...,  1.2362,  0.6094, -0.6140]],\n",
      "\n",
      "        ...,\n",
      "\n",
      "        [[ 0.0281,  0.2061,  0.6139,  ...,  0.0873,  0.4792, -0.2423],\n",
      "         [ 0.0209,  0.1650,  0.4903,  ...,  1.4886,  1.1372,  0.5108]],\n",
      "\n",
      "        [[ 0.0199,  0.1393,  0.3581,  ...,  0.1091, -0.4246, -0.7608],\n",
      "         [ 0.0076,  0.0483,  0.0944,  ..., -0.4625,  0.3062, -0.0225]],\n",
      "\n",
      "        [[ 0.0156,  0.1215,  0.3968,  ..., -0.1847, -0.3204, -0.3830],\n",
      "         [ 0.0457,  0.3138,  0.7848,  ...,  1.4036,  0.8178, -0.0742]]])\n"
     ]
    }
   ],
   "source": [
    "from steves_utils.transforms import get_average_magnitude, get_average_power\n",
    "\n",
    "print(set([u for u,_ in val_original_source]))\n",
    "print(set([u for u,_ in val_original_target]))\n",
    "\n",
    "s_x, s_y, q_x, q_y, _ = next(iter(train_processed_source))\n",
    "print(s_x)\n",
    "\n",
    "# for ds in [\n",
    "#     train_processed_source,\n",
    "#     val_processed_source,\n",
    "#     test_processed_source,\n",
    "#     train_processed_target,\n",
    "#     val_processed_target,\n",
    "#     test_processed_target\n",
    "# ]:\n",
    "#     for s_x, s_y, q_x, q_y, _ in ds:\n",
    "#         for X in (s_x, q_x):\n",
    "#             for x in X:\n",
    "#                 assert np.isclose(get_average_magnitude(x.numpy()), 1.0)\n",
    "#                 assert np.isclose(get_average_power(x.numpy()), 1.0)\n",
    "                "
   ]
  },
  {
   "cell_type": "code",
   "execution_count": 21,
   "id": "bbdacba1",
   "metadata": {
    "execution": {
     "iopub.execute_input": "2022-03-25T15:24:21.326860Z",
     "iopub.status.busy": "2022-03-25T15:24:21.326596Z",
     "iopub.status.idle": "2022-03-25T15:24:21.379182Z",
     "shell.execute_reply": "2022-03-25T15:24:21.379502Z"
    },
    "papermill": {
     "duration": 0.074022,
     "end_time": "2022-03-25T15:24:21.379611",
     "exception": false,
     "start_time": "2022-03-25T15:24:21.305589",
     "status": "completed"
    },
    "tags": []
   },
   "outputs": [
    {
     "name": "stdout",
     "output_type": "stream",
     "text": [
      "(2, 200)\n"
     ]
    }
   ],
   "source": [
    "###################################\n",
    "# Build the model\n",
    "###################################\n",
    "# easfsl only wants a tuple for the shape\n",
    "model = Steves_Prototypical_Network(x_net, device=p.device, x_shape=tuple(p.x_shape))\n",
    "optimizer = Adam(params=model.parameters(), lr=p.lr)"
   ]
  },
  {
   "cell_type": "code",
   "execution_count": 22,
   "id": "22b39ac5",
   "metadata": {
    "execution": {
     "iopub.execute_input": "2022-03-25T15:24:21.417486Z",
     "iopub.status.busy": "2022-03-25T15:24:21.417218Z",
     "iopub.status.idle": "2022-03-25T15:47:02.489951Z",
     "shell.execute_reply": "2022-03-25T15:47:02.489573Z"
    },
    "papermill": {
     "duration": 1361.090767,
     "end_time": "2022-03-25T15:47:02.490041",
     "exception": false,
     "start_time": "2022-03-25T15:24:21.399274",
     "status": "completed"
    },
    "tags": []
   },
   "outputs": [
    {
     "name": "stdout",
     "output_type": "stream",
     "text": [
      "epoch: 1, [batch: 1 / 6320], examples_per_second: 49.9113, train_label_loss: 2.6930, \n"
     ]
    },
    {
     "name": "stdout",
     "output_type": "stream",
     "text": [
      "epoch: 1, [batch: 632 / 6320], examples_per_second: 1972.5445, train_label_loss: 0.0074, \n"
     ]
    },
    {
     "name": "stdout",
     "output_type": "stream",
     "text": [
      "epoch: 1, [batch: 1264 / 6320], examples_per_second: 1978.0747, train_label_loss: 0.0032, \n"
     ]
    },
    {
     "name": "stdout",
     "output_type": "stream",
     "text": [
      "epoch: 1, [batch: 1896 / 6320], examples_per_second: 1968.2845, train_label_loss: 0.0057, \n"
     ]
    },
    {
     "name": "stdout",
     "output_type": "stream",
     "text": [
      "epoch: 1, [batch: 2528 / 6320], examples_per_second: 1965.9531, train_label_loss: 0.0085, \n"
     ]
    },
    {
     "name": "stdout",
     "output_type": "stream",
     "text": [
      "epoch: 1, [batch: 3160 / 6320], examples_per_second: 2048.0506, train_label_loss: 0.0028, \n"
     ]
    },
    {
     "name": "stdout",
     "output_type": "stream",
     "text": [
      "epoch: 1, [batch: 3792 / 6320], examples_per_second: 2443.6682, train_label_loss: 0.0005, \n"
     ]
    },
    {
     "name": "stdout",
     "output_type": "stream",
     "text": [
      "epoch: 1, [batch: 4424 / 6320], examples_per_second: 2221.2078, train_label_loss: 0.0034, \n"
     ]
    },
    {
     "name": "stdout",
     "output_type": "stream",
     "text": [
      "epoch: 1, [batch: 5056 / 6320], examples_per_second: 1978.5625, train_label_loss: 0.0029, \n"
     ]
    },
    {
     "name": "stdout",
     "output_type": "stream",
     "text": [
      "epoch: 1, [batch: 5688 / 6320], examples_per_second: 1977.6050, train_label_loss: 0.0001, \n"
     ]
    },
    {
     "name": "stdout",
     "output_type": "stream",
     "text": [
      "=============================================================\n",
      "epoch: 1, source_val_acc_label: 0.9988, target_val_acc_label: 0.3349, source_val_label_loss: 0.0071, target_val_label_loss: 1.9023, \n",
      "=============================================================\n"
     ]
    },
    {
     "name": "stdout",
     "output_type": "stream",
     "text": [
      "New best\n"
     ]
    },
    {
     "name": "stdout",
     "output_type": "stream",
     "text": [
      "epoch: 2, [batch: 1 / 6305], examples_per_second: 2.9627, train_label_loss: 0.0340, \n"
     ]
    },
    {
     "name": "stdout",
     "output_type": "stream",
     "text": [
      "epoch: 2, [batch: 631 / 6305], examples_per_second: 2002.0339, train_label_loss: 0.0000, \n"
     ]
    },
    {
     "name": "stdout",
     "output_type": "stream",
     "text": [
      "epoch: 2, [batch: 1261 / 6305], examples_per_second: 2003.9862, train_label_loss: 0.0002, \n"
     ]
    },
    {
     "name": "stdout",
     "output_type": "stream",
     "text": [
      "epoch: 2, [batch: 1892 / 6305], examples_per_second: 1999.3350, train_label_loss: 0.0020, \n"
     ]
    },
    {
     "name": "stdout",
     "output_type": "stream",
     "text": [
      "epoch: 2, [batch: 2522 / 6305], examples_per_second: 2000.3609, train_label_loss: 0.0000, \n"
     ]
    },
    {
     "name": "stdout",
     "output_type": "stream",
     "text": [
      "epoch: 2, [batch: 3153 / 6305], examples_per_second: 2096.0523, train_label_loss: 0.0002, \n"
     ]
    },
    {
     "name": "stdout",
     "output_type": "stream",
     "text": [
      "epoch: 2, [batch: 3783 / 6305], examples_per_second: 2526.4646, train_label_loss: 0.0000, \n"
     ]
    },
    {
     "name": "stdout",
     "output_type": "stream",
     "text": [
      "epoch: 2, [batch: 4413 / 6305], examples_per_second: 2234.3421, train_label_loss: 0.0000, \n"
     ]
    },
    {
     "name": "stdout",
     "output_type": "stream",
     "text": [
      "epoch: 2, [batch: 5044 / 6305], examples_per_second: 2001.1814, train_label_loss: 0.0000, \n"
     ]
    },
    {
     "name": "stdout",
     "output_type": "stream",
     "text": [
      "epoch: 2, [batch: 5674 / 6305], examples_per_second: 1999.6444, train_label_loss: 0.0003, \n"
     ]
    },
    {
     "name": "stdout",
     "output_type": "stream",
     "text": [
      "=============================================================\n",
      "epoch: 2, source_val_acc_label: 0.9980, target_val_acc_label: 0.2707, source_val_label_loss: 0.0099, target_val_label_loss: 2.4678, \n",
      "=============================================================\n"
     ]
    },
    {
     "name": "stdout",
     "output_type": "stream",
     "text": [
      "epoch: 3, [batch: 1 / 6307], examples_per_second: 3.0168, train_label_loss: 0.0000, \n"
     ]
    },
    {
     "name": "stdout",
     "output_type": "stream",
     "text": [
      "epoch: 3, [batch: 631 / 6307], examples_per_second: 1999.1431, train_label_loss: 0.0000, \n"
     ]
    },
    {
     "name": "stdout",
     "output_type": "stream",
     "text": [
      "epoch: 3, [batch: 1262 / 6307], examples_per_second: 2007.1645, train_label_loss: 0.0000, \n"
     ]
    },
    {
     "name": "stdout",
     "output_type": "stream",
     "text": [
      "epoch: 3, [batch: 1892 / 6307], examples_per_second: 2002.1993, train_label_loss: 0.0216, \n"
     ]
    },
    {
     "name": "stdout",
     "output_type": "stream",
     "text": [
      "epoch: 3, [batch: 2523 / 6307], examples_per_second: 1999.1505, train_label_loss: 0.0000, \n"
     ]
    },
    {
     "name": "stdout",
     "output_type": "stream",
     "text": [
      "epoch: 3, [batch: 3154 / 6307], examples_per_second: 2086.0104, train_label_loss: 0.0000, \n"
     ]
    },
    {
     "name": "stdout",
     "output_type": "stream",
     "text": [
      "epoch: 3, [batch: 3784 / 6307], examples_per_second: 2506.7139, train_label_loss: 0.0000, \n"
     ]
    },
    {
     "name": "stdout",
     "output_type": "stream",
     "text": [
      "epoch: 3, [batch: 4415 / 6307], examples_per_second: 2227.3548, train_label_loss: 0.0000, \n"
     ]
    },
    {
     "name": "stdout",
     "output_type": "stream",
     "text": [
      "epoch: 3, [batch: 5045 / 6307], examples_per_second: 2001.9648, train_label_loss: 0.0149, \n"
     ]
    },
    {
     "name": "stdout",
     "output_type": "stream",
     "text": [
      "epoch: 3, [batch: 5676 / 6307], examples_per_second: 2000.2725, train_label_loss: 0.0365, \n"
     ]
    },
    {
     "name": "stdout",
     "output_type": "stream",
     "text": [
      "=============================================================\n",
      "epoch: 3, source_val_acc_label: 0.9993, target_val_acc_label: 0.2716, source_val_label_loss: 0.0063, target_val_label_loss: 2.8050, \n",
      "=============================================================\n"
     ]
    },
    {
     "name": "stdout",
     "output_type": "stream",
     "text": [
      "epoch: 4, [batch: 1 / 6315], examples_per_second: 3.0177, train_label_loss: 0.0000, \n"
     ]
    },
    {
     "name": "stdout",
     "output_type": "stream",
     "text": [
      "epoch: 4, [batch: 632 / 6315], examples_per_second: 2001.6282, train_label_loss: 0.0002, \n"
     ]
    },
    {
     "name": "stdout",
     "output_type": "stream",
     "text": [
      "epoch: 4, [batch: 1263 / 6315], examples_per_second: 2005.2010, train_label_loss: 0.0000, \n"
     ]
    },
    {
     "name": "stdout",
     "output_type": "stream",
     "text": [
      "epoch: 4, [batch: 1895 / 6315], examples_per_second: 2001.2063, train_label_loss: 0.0156, \n"
     ]
    },
    {
     "name": "stdout",
     "output_type": "stream",
     "text": [
      "epoch: 4, [batch: 2526 / 6315], examples_per_second: 1997.9348, train_label_loss: 0.0000, \n"
     ]
    },
    {
     "name": "stdout",
     "output_type": "stream",
     "text": [
      "epoch: 4, [batch: 3158 / 6315], examples_per_second: 2094.7647, train_label_loss: 0.0000, \n"
     ]
    },
    {
     "name": "stdout",
     "output_type": "stream",
     "text": [
      "epoch: 4, [batch: 3789 / 6315], examples_per_second: 2497.0900, train_label_loss: 0.0006, \n"
     ]
    },
    {
     "name": "stdout",
     "output_type": "stream",
     "text": [
      "epoch: 4, [batch: 4420 / 6315], examples_per_second: 2242.4182, train_label_loss: 0.0004, \n"
     ]
    },
    {
     "name": "stdout",
     "output_type": "stream",
     "text": [
      "epoch: 4, [batch: 5052 / 6315], examples_per_second: 2000.8703, train_label_loss: 0.0000, \n"
     ]
    },
    {
     "name": "stdout",
     "output_type": "stream",
     "text": [
      "epoch: 4, [batch: 5683 / 6315], examples_per_second: 2000.6654, train_label_loss: 0.0000, \n"
     ]
    },
    {
     "name": "stdout",
     "output_type": "stream",
     "text": [
      "=============================================================\n",
      "epoch: 4, source_val_acc_label: 0.9992, target_val_acc_label: 0.2775, source_val_label_loss: 0.0064, target_val_label_loss: 2.8719, \n",
      "=============================================================\n"
     ]
    },
    {
     "name": "stdout",
     "output_type": "stream",
     "text": [
      "epoch: 5, [batch: 1 / 6313], examples_per_second: 3.0067, train_label_loss: 0.0000, \n"
     ]
    },
    {
     "name": "stdout",
     "output_type": "stream",
     "text": [
      "epoch: 5, [batch: 632 / 6313], examples_per_second: 2002.1252, train_label_loss: 0.0001, \n"
     ]
    },
    {
     "name": "stdout",
     "output_type": "stream",
     "text": [
      "epoch: 5, [batch: 1263 / 6313], examples_per_second: 2005.4901, train_label_loss: 0.0000, \n"
     ]
    },
    {
     "name": "stdout",
     "output_type": "stream",
     "text": [
      "epoch: 5, [batch: 1894 / 6313], examples_per_second: 2000.7571, train_label_loss: 0.0047, \n"
     ]
    },
    {
     "name": "stdout",
     "output_type": "stream",
     "text": [
      "epoch: 5, [batch: 2525 / 6313], examples_per_second: 1995.8799, train_label_loss: 0.0000, \n"
     ]
    },
    {
     "name": "stdout",
     "output_type": "stream",
     "text": [
      "epoch: 5, [batch: 3157 / 6313], examples_per_second: 2087.9333, train_label_loss: 0.0000, \n"
     ]
    },
    {
     "name": "stdout",
     "output_type": "stream",
     "text": [
      "epoch: 5, [batch: 3788 / 6313], examples_per_second: 2511.4020, train_label_loss: 0.0000, \n"
     ]
    },
    {
     "name": "stdout",
     "output_type": "stream",
     "text": [
      "epoch: 5, [batch: 4419 / 6313], examples_per_second: 2223.9362, train_label_loss: 0.0000, \n"
     ]
    },
    {
     "name": "stdout",
     "output_type": "stream",
     "text": [
      "epoch: 5, [batch: 5050 / 6313], examples_per_second: 1999.3642, train_label_loss: 0.0000, \n"
     ]
    },
    {
     "name": "stdout",
     "output_type": "stream",
     "text": [
      "epoch: 5, [batch: 5681 / 6313], examples_per_second: 2002.2466, train_label_loss: 0.0060, \n"
     ]
    },
    {
     "name": "stdout",
     "output_type": "stream",
     "text": [
      "=============================================================\n",
      "epoch: 5, source_val_acc_label: 0.9991, target_val_acc_label: 0.2774, source_val_label_loss: 0.0078, target_val_label_loss: 3.0020, \n",
      "=============================================================\n"
     ]
    },
    {
     "name": "stdout",
     "output_type": "stream",
     "text": [
      "Patience (3) exhausted\n"
     ]
    }
   ],
   "source": [
    "###################################\n",
    "# train\n",
    "###################################\n",
    "jig = PTN_Train_Eval_Test_Jig(model, p.BEST_MODEL_PATH, p.device)\n",
    "\n",
    "jig.train(\n",
    "    train_iterable=datasets.source.processed.train,\n",
    "    source_val_iterable=datasets.source.processed.val,\n",
    "    target_val_iterable=datasets.target.processed.val,\n",
    "    num_epochs=p.n_epoch,\n",
    "    num_logs_per_epoch=p.NUM_LOGS_PER_EPOCH,\n",
    "    patience=p.patience,\n",
    "    optimizer=optimizer,\n",
    "    criteria_for_best=p.criteria_for_best,\n",
    ")"
   ]
  },
  {
   "cell_type": "code",
   "execution_count": 23,
   "id": "31e8fabf",
   "metadata": {
    "execution": {
     "iopub.execute_input": "2022-03-25T15:47:02.552295Z",
     "iopub.status.busy": "2022-03-25T15:47:02.552032Z",
     "iopub.status.idle": "2022-03-25T15:47:02.572431Z",
     "shell.execute_reply": "2022-03-25T15:47:02.571966Z"
    },
    "papermill": {
     "duration": 0.049053,
     "end_time": "2022-03-25T15:47:02.572542",
     "exception": false,
     "start_time": "2022-03-25T15:47:02.523489",
     "status": "completed"
    },
    "tags": []
   },
   "outputs": [],
   "source": [
    "total_experiment_time_secs = time.time() - start_time_secs"
   ]
  },
  {
   "cell_type": "code",
   "execution_count": 24,
   "id": "87b9595b",
   "metadata": {
    "execution": {
     "iopub.execute_input": "2022-03-25T15:47:02.633820Z",
     "iopub.status.busy": "2022-03-25T15:47:02.633547Z",
     "iopub.status.idle": "2022-03-25T15:49:26.566081Z",
     "shell.execute_reply": "2022-03-25T15:49:26.565592Z"
    },
    "papermill": {
     "duration": 143.963498,
     "end_time": "2022-03-25T15:49:26.566193",
     "exception": false,
     "start_time": "2022-03-25T15:47:02.602695",
     "status": "completed"
    },
    "tags": []
   },
   "outputs": [],
   "source": [
    "###################################\n",
    "# Evaluate the model\n",
    "###################################\n",
    "source_test_label_accuracy, source_test_label_loss = jig.test(datasets.source.processed.test)\n",
    "target_test_label_accuracy, target_test_label_loss = jig.test(datasets.target.processed.test)\n",
    "\n",
    "source_val_label_accuracy, source_val_label_loss = jig.test(datasets.source.processed.val)\n",
    "target_val_label_accuracy, target_val_label_loss = jig.test(datasets.target.processed.val)\n",
    "\n",
    "history = jig.get_history()\n",
    "\n",
    "total_epochs_trained = len(history[\"epoch_indices\"])\n",
    "\n",
    "val_dl = Iterable_Aggregator((datasets.source.original.val,datasets.target.original.val))\n",
    "\n",
    "confusion = ptn_confusion_by_domain_over_dataloader(model, p.device, val_dl)\n",
    "per_domain_accuracy = per_domain_accuracy_from_confusion(confusion)\n",
    "\n",
    "# Add a key to per_domain_accuracy for if it was a source domain\n",
    "for domain, accuracy in per_domain_accuracy.items():\n",
    "    per_domain_accuracy[domain] = {\n",
    "        \"accuracy\": accuracy,\n",
    "        \"source?\": domain in p.domains_source\n",
    "    }\n",
    "\n",
    "# Do an independent accuracy assesment JUST TO BE SURE!\n",
    "# _source_test_label_accuracy = independent_accuracy_assesment(model, datasets.source.processed.test, p.device)\n",
    "# _target_test_label_accuracy = independent_accuracy_assesment(model, datasets.target.processed.test, p.device)\n",
    "# _source_val_label_accuracy = independent_accuracy_assesment(model, datasets.source.processed.val, p.device)\n",
    "# _target_val_label_accuracy = independent_accuracy_assesment(model, datasets.target.processed.val, p.device)\n",
    "\n",
    "# assert(_source_test_label_accuracy == source_test_label_accuracy)\n",
    "# assert(_target_test_label_accuracy == target_test_label_accuracy)\n",
    "# assert(_source_val_label_accuracy == source_val_label_accuracy)\n",
    "# assert(_target_val_label_accuracy == target_val_label_accuracy)\n",
    "\n",
    "experiment = {\n",
    "    \"experiment_name\": p.experiment_name,\n",
    "    \"parameters\": dict(p),\n",
    "    \"results\": {\n",
    "        \"source_test_label_accuracy\": source_test_label_accuracy,\n",
    "        \"source_test_label_loss\": source_test_label_loss,\n",
    "        \"target_test_label_accuracy\": target_test_label_accuracy,\n",
    "        \"target_test_label_loss\": target_test_label_loss,\n",
    "        \"source_val_label_accuracy\": source_val_label_accuracy,\n",
    "        \"source_val_label_loss\": source_val_label_loss,\n",
    "        \"target_val_label_accuracy\": target_val_label_accuracy,\n",
    "        \"target_val_label_loss\": target_val_label_loss,\n",
    "        \"total_epochs_trained\": total_epochs_trained,\n",
    "        \"total_experiment_time_secs\": total_experiment_time_secs,\n",
    "        \"confusion\": confusion,\n",
    "        \"per_domain_accuracy\": per_domain_accuracy,\n",
    "    },\n",
    "    \"history\": history,\n",
    "    \"dataset_metrics\": get_dataset_metrics(datasets, \"ptn\"),\n",
    "}"
   ]
  },
  {
   "cell_type": "code",
   "execution_count": 25,
   "id": "54a21829",
   "metadata": {
    "execution": {
     "iopub.execute_input": "2022-03-25T15:49:26.626349Z",
     "iopub.status.busy": "2022-03-25T15:49:26.626080Z",
     "iopub.status.idle": "2022-03-25T15:49:26.756337Z",
     "shell.execute_reply": "2022-03-25T15:49:26.756756Z"
    },
    "papermill": {
     "duration": 0.159278,
     "end_time": "2022-03-25T15:49:26.756878",
     "exception": false,
     "start_time": "2022-03-25T15:49:26.597600",
     "status": "completed"
    },
    "tags": []
   },
   "outputs": [
    {
     "data": {
      "image/png": "[encoded data removed]",
      "text/plain": [
       "<Figure size 1080x504 with 1 Axes>"
      ]
     },
     "metadata": {
      "needs_background": "light"
     },
     "output_type": "display_data"
    }
   ],
   "source": [
    "ax = get_loss_curve(experiment)\n",
    "plt.show()"
   ]
  },
  {
   "cell_type": "code",
   "execution_count": 26,
   "id": "fd8a0f60",
   "metadata": {
    "execution": {
     "iopub.execute_input": "2022-03-25T15:49:26.821155Z",
     "iopub.status.busy": "2022-03-25T15:49:26.820891Z",
     "iopub.status.idle": "2022-03-25T15:49:26.969088Z",
     "shell.execute_reply": "2022-03-25T15:49:26.969414Z"
    },
    "papermill": {
     "duration": 0.17838,
     "end_time": "2022-03-25T15:49:26.969512",
     "exception": false,
     "start_time": "2022-03-25T15:49:26.791132",
     "status": "completed"
    },
    "tags": []
   },
   "outputs": [
    {
     "data": {
      "text/plain": [
       "<AxesSubplot:title={'center':'Results'}>"
      ]
     },
     "execution_count": 26,
     "metadata": {},
     "output_type": "execute_result"
    },
    {
     "data": {
      "image/png": "[encoded data removed]",
      "text/plain": [
       "<Figure size 1080x504 with 1 Axes>"
      ]
     },
     "metadata": {
      "needs_background": "light"
     },
     "output_type": "display_data"
    }
   ],
   "source": [
    "get_results_table(experiment)"
   ]
  },
  {
   "cell_type": "code",
   "execution_count": 27,
   "id": "cf8dc689",
   "metadata": {
    "execution": {
     "iopub.execute_input": "2022-03-25T15:49:27.026837Z",
     "iopub.status.busy": "2022-03-25T15:49:27.026241Z",
     "iopub.status.idle": "2022-03-25T15:49:27.174086Z",
     "shell.execute_reply": "2022-03-25T15:49:27.173553Z"
    },
    "papermill": {
     "duration": 0.176718,
     "end_time": "2022-03-25T15:49:27.174196",
     "exception": false,
     "start_time": "2022-03-25T15:49:26.997478",
     "status": "completed"
    },
    "tags": []
   },
   "outputs": [
    {
     "data": {
      "text/plain": [
       "<AxesSubplot:title={'center':'Per Domain Validation Accuracy'}, xlabel='domain'>"
      ]
     },
     "execution_count": 27,
     "metadata": {},
     "output_type": "execute_result"
    },
    {
     "data": {
      "image/png": "[encoded data removed]",
      "text/plain": [
       "<Figure size 1080x504 with 1 Axes>"
      ]
     },
     "metadata": {
      "needs_background": "light"
     },
     "output_type": "display_data"
    }
   ],
   "source": [
    "get_domain_accuracies(experiment)"
   ]
  },
  {
   "cell_type": "code",
   "execution_count": 28,
   "id": "a74ae082",
   "metadata": {
    "execution": {
     "iopub.execute_input": "2022-03-25T15:49:27.244694Z",
     "iopub.status.busy": "2022-03-25T15:49:27.244423Z",
     "iopub.status.idle": "2022-03-25T15:49:27.258012Z",
     "shell.execute_reply": "2022-03-25T15:49:27.257560Z"
    },
    "papermill": {
     "duration": 0.048237,
     "end_time": "2022-03-25T15:49:27.258118",
     "exception": false,
     "start_time": "2022-03-25T15:49:27.209881",
     "status": "completed"
    },
    "tags": []
   },
   "outputs": [
    {
     "name": "stdout",
     "output_type": "stream",
     "text": [
      "Source Test Label Accuracy: 0.9983866442199776 Target Test Label Accuracy: 0.33688151041666664\n",
      "Source Val Label Accuracy: 0.9987514269406392 Target Val Label Accuracy: 0.33492838541666664\n"
     ]
    }
   ],
   "source": [
    "print(\"Source Test Label Accuracy:\", experiment[\"results\"][\"source_test_label_accuracy\"], \"Target Test Label Accuracy:\", experiment[\"results\"][\"target_test_label_accuracy\"])\n",
    "print(\"Source Val Label Accuracy:\", experiment[\"results\"][\"source_val_label_accuracy\"], \"Target Val Label Accuracy:\", experiment[\"results\"][\"target_val_label_accuracy\"])"
   ]
  },
  {
   "cell_type": "code",
   "execution_count": 29,
   "id": "dacca602",
   "metadata": {
    "execution": {
     "iopub.execute_input": "2022-03-25T15:49:27.321753Z",
     "iopub.status.busy": "2022-03-25T15:49:27.321404Z",
     "iopub.status.idle": "2022-03-25T15:49:27.337717Z",
     "shell.execute_reply": "2022-03-25T15:49:27.338159Z"
    },
    "papermill": {
     "duration": 0.047439,
     "end_time": "2022-03-25T15:49:27.338290",
     "exception": false,
     "start_time": "2022-03-25T15:49:27.290851",
     "status": "completed"
    },
    "tags": [
     "experiment_json"
    ]
   },
   "outputs": [
    {
     "data": {
      "text/plain": [
       "'{\"experiment_name\": \"tl_3-filterv2:cores -> oracle.run1.framed\", \"parameters\": {\"experiment_name\": \"tl_3-filterv2:cores -> oracle.run1.framed\", \"device\": \"cuda\", \"lr\": 0.0001, \"x_shape\": [2, 200], \"n_shot\": 3, \"n_query\": 2, \"train_k_factor\": 3, \"val_k_factor\": 2, \"test_k_factor\": 2, \"torch_default_dtype\": \"torch.float32\", \"n_epoch\": 50, \"patience\": 3, \"criteria_for_best\": \"target_accuracy\", \"x_net\": [{\"class\": \"nnReshape\", \"kargs\": {\"shape\": [-1, 1, 2, 200]}}, {\"class\": \"Conv2d\", \"kargs\": {\"in_channels\": 1, \"out_channels\": 256, \"kernel_size\": [1, 7], \"bias\": false, \"padding\": [0, 3]}}, {\"class\": \"ReLU\", \"kargs\": {\"inplace\": true}}, {\"class\": \"BatchNorm2d\", \"kargs\": {\"num_features\": 256}}, {\"class\": \"Conv2d\", \"kargs\": {\"in_channels\": 256, \"out_channels\": 80, \"kernel_size\": [2, 7], \"bias\": true, \"padding\": [0, 3]}}, {\"class\": \"ReLU\", \"kargs\": {\"inplace\": true}}, {\"class\": \"BatchNorm2d\", \"kargs\": {\"num_features\": 80}}, {\"class\": \"Flatten\", \"kargs\": {}}, {\"class\": \"Linear\", \"kargs\": {\"in_features\": 16000, \"out_features\": 256}}, {\"class\": \"ReLU\", \"kargs\": {\"inplace\": true}}, {\"class\": \"BatchNorm1d\", \"kargs\": {\"num_features\": 256}}, {\"class\": \"Linear\", \"kargs\": {\"in_features\": 256, \"out_features\": 256}}], \"NUM_LOGS_PER_EPOCH\": 10, \"BEST_MODEL_PATH\": \"./best_model.pth\", \"n_way\": 16, \"datasets\": [{\"labels\": [\"1-10.\", \"1-11.\", \"1-15.\", \"1-16.\", \"1-17.\", \"1-18.\", \"1-19.\", \"10-4.\", \"10-7.\", \"11-1.\", \"11-14.\", \"11-17.\", \"11-20.\", \"11-7.\", \"13-20.\", \"13-8.\", \"14-10.\", \"14-11.\", \"14-14.\", \"14-7.\", \"15-1.\", \"15-20.\", \"16-1.\", \"16-16.\", \"17-10.\", \"17-11.\", \"17-2.\", \"19-1.\", \"19-16.\", \"19-19.\", \"19-20.\", \"19-3.\", \"2-10.\", \"2-11.\", \"2-17.\", \"2-18.\", \"2-20.\", \"2-3.\", \"2-4.\", \"2-5.\", \"2-6.\", \"2-7.\", \"2-8.\", \"3-13.\", \"3-18.\", \"3-3.\", \"4-1.\", \"4-10.\", \"4-11.\", \"4-19.\", \"5-5.\", \"6-15.\", \"7-10.\", \"7-14.\", \"8-18.\", \"8-20.\", \"8-3.\", \"8-8.\"], \"domains\": [1, 2, 3, 4, 5], \"num_examples_per_domain_per_label\": -1, \"pickle_path\": \"/mnt/wd500GB/CSC500/csc500-main/datasets/cores.stratified_ds.2022A.pkl\", \"source_or_target_dataset\": \"source\", \"x_transforms\": [\"unit_mag\", \"lowpass_+/-10MHz\", \"take_200\"], \"episode_transforms\": [], \"domain_prefix\": \"C_\"}, {\"labels\": [\"3123D52\", \"3123D65\", \"3123D79\", \"3123D80\", \"3123D54\", \"3123D70\", \"3123D7B\", \"3123D89\", \"3123D58\", \"3123D76\", \"3123D7D\", \"3123EFE\", \"3123D64\", \"3123D78\", \"3123D7E\", \"3124E4A\"], \"domains\": [32, 38, 8, 44, 14, 50, 20, 26], \"num_examples_per_domain_per_label\": 2000, \"pickle_path\": \"/mnt/wd500GB/CSC500/csc500-main/datasets/oracle.Run1_framed_2000Examples_stratified_ds.2022A.pkl\", \"source_or_target_dataset\": \"target\", \"x_transforms\": [\"unit_mag\", \"take_200\", \"resample_20Msps_to_25Msps\"], \"episode_transforms\": [], \"domain_prefix\": \"O_\"}], \"seed\": 1337, \"dataset_seed\": 1337, \"domains_source\": [\"C_1\", \"C_2\", \"C_3\", \"C_4\", \"C_5\"], \"domains_target\": [\"O_32\", \"O_38\", \"O_8\", \"O_44\", \"O_14\", \"O_50\", \"O_20\", \"O_26\"]}, \"results\": {\"source_test_label_accuracy\": 0.9983866442199776, \"source_test_label_loss\": 0.007423252798616886, \"target_test_label_accuracy\": 0.33688151041666664, \"target_test_label_loss\": 1.8933250904083252, \"source_val_label_accuracy\": 0.9987514269406392, \"source_val_label_loss\": 0.007118136156350374, \"target_val_label_accuracy\": 0.33492838541666664, \"target_val_label_loss\": 1.9022853374481201, \"total_epochs_trained\": 5, \"total_experiment_time_secs\": 1420.827032327652, \"confusion\": {\"C_3\": {\"43\": {\"43\": 128}, \"9\": {\"9\": 150}, \"6\": {\"6\": 88}, \"3\": {\"3\": 144}, \"16\": {\"16\": 134}, \"51\": {\"51\": 128}, \"31\": {\"31\": 28}, \"46\": {\"46\": 134}, \"19\": {\"19\": 124}, \"8\": {\"8\": 152}, \"18\": {\"18\": 84}, \"37\": {\"37\": 28}, \"24\": {\"24\": 104}, \"10\": {\"10\": 64}, \"44\": {\"44\": 88}, \"14\": {\"14\": 39, \"55\": 1}, \"38\": {\"38\": 28}, \"53\": {\"53\": 140}, \"20\": {\"20\": 132}, \"32\": {\"32\": 28}, \"36\": {\"36\": 100}, \"33\": {\"33\": 28}, \"56\": {\"56\": 136}, \"23\": {\"23\": 130}, \"54\": {\"54\": 100}, \"21\": {\"21\": 126}, \"28\": {\"28\": 28}, \"26\": {\"26\": 24}, \"48\": {\"48\": 116}, \"52\": {\"52\": 118}, \"39\": {\"39\": 16}, \"22\": {\"22\": 140}, \"13\": {\"13\": 128}, \"2\": {\"2\": 32}, \"34\": {\"34\": 32}, \"27\": {\"27\": 132}, \"45\": {\"45\": 60}, \"35\": {\"35\": 28}, \"29\": {\"29\": 128}, \"25\": {\"25\": 144}, \"0\": {\"0\": 124}, \"41\": {\"41\": 28}, \"11\": {\"11\": 142}, \"5\": {\"5\": 108}, \"1\": {\"1\": 100}, \"57\": {\"57\": 116}, \"17\": {\"17\": 106, \"10\": 1, \"24\": 1}, \"7\": {\"7\": 36}, \"12\": {\"12\": 92}, \"47\": {\"47\": 92}, \"40\": {\"40\": 136}, \"15\": {\"15\": 142}, \"42\": {\"42\": 28}, \"55\": {\"55\": 149, \"47\": 1}, \"49\": {\"49\": 20}, \"30\": {\"30\": 119, \"18\": 1}, \"50\": {\"50\": 134}, \"4\": {\"4\": 136}}, \"C_4\": {\"35\": {\"35\": 40}, \"25\": {\"25\": 134}, \"24\": {\"24\": 56}, \"48\": {\"48\": 138}, \"51\": {\"51\": 144}, \"13\": {\"13\": 120}, \"14\": {\"14\": 14, \"40\": 1, \"57\": 1}, \"32\": {\"32\": 24}, \"30\": {\"30\": 44}, \"34\": {\"34\": 24}, \"9\": {\"9\": 136}, \"1\": {\"1\": 40}, \"0\": {\"0\": 80}, \"38\": {\"38\": 40}, \"22\": {\"22\": 128}, \"40\": {\"40\": 120}, \"6\": {\"6\": 111, \"3\": 1}, \"16\": {\"16\": 96}, \"11\": {\"11\": 104}, \"20\": {\"20\": 122}, \"17\": {\"17\": 80}, \"26\": {\"26\": 24}, \"54\": {\"54\": 108}, \"55\": {\"55\": 154}, \"50\": {\"50\": 128, \"3\": 3, \"55\": 1}, \"19\": {\"19\": 142}, \"44\": {\"44\": 122}, \"47\": {\"47\": 120}, \"33\": {\"33\": 36}, \"5\": {\"5\": 108}, \"18\": {\"18\": 108}, \"21\": {\"21\": 124}, \"41\": {\"41\": 36}, \"23\": {\"23\": 128}, \"39\": {\"39\": 20}, \"37\": {\"37\": 24}, \"8\": {\"8\": 144}, \"49\": {\"49\": 20}, \"53\": {\"53\": 140}, \"31\": {\"31\": 28}, \"28\": {\"28\": 32}, \"3\": {\"3\": 124}, \"27\": {\"27\": 138}, \"46\": {\"46\": 127, \"32\": 1}, \"12\": {\"12\": 92}, \"7\": {\"7\": 24}, \"4\": {\"4\": 132}, \"42\": {\"42\": 32}, \"43\": {\"43\": 130}, \"29\": {\"29\": 120}, \"57\": {\"57\": 100}, \"52\": {\"52\": 104}, \"45\": {\"45\": 96}, \"36\": {\"36\": 92}, \"10\": {\"10\": 126}, \"15\": {\"15\": 134}, \"56\": {\"56\": 124}, \"2\": {\"2\": 36}}, \"C_5\": {\"47\": {\"47\": 100}, \"53\": {\"53\": 150}, \"29\": {\"29\": 126}, \"52\": {\"52\": 130}, \"55\": {\"55\": 144}, \"17\": {\"17\": 116}, \"42\": {\"42\": 40}, \"33\": {\"33\": 32}, \"11\": {\"11\": 148}, \"19\": {\"19\": 118}, \"1\": {\"1\": 144}, \"44\": {\"44\": 142}, \"49\": {\"49\": 36}, \"4\": {\"4\": 100}, \"6\": {\"6\": 116}, \"39\": {\"39\": 20}, \"50\": {\"50\": 148}, \"56\": {\"56\": 130}, \"25\": {\"25\": 144}, \"28\": {\"28\": 32}, \"35\": {\"35\": 36}, \"24\": {\"24\": 80}, \"21\": {\"21\": 132}, \"45\": {\"45\": 121, \"55\": 1, \"9\": 2}, \"16\": {\"16\": 144}, \"37\": {\"37\": 24}, \"57\": {\"57\": 132}, \"34\": {\"34\": 36}, \"38\": {\"38\": 32}, \"48\": {\"48\": 130}, \"26\": {\"26\": 24}, \"9\": {\"9\": 152}, \"18\": {\"18\": 64}, \"3\": {\"3\": 99, \"46\": 1}, \"23\": {\"23\": 124}, \"15\": {\"15\": 154}, \"10\": {\"10\": 68}, \"46\": {\"46\": 148}, \"22\": {\"22\": 28}, \"54\": {\"54\": 112}, \"27\": {\"27\": 160}, \"41\": {\"41\": 28}, \"31\": {\"31\": 36}, \"0\": {\"0\": 124}, \"7\": {\"7\": 32}, \"2\": {\"2\": 28}, \"14\": {\"14\": 39, \"50\": 2, \"54\": 1, \"5\": 1, \"46\": 1}, \"40\": {\"40\": 124}, \"5\": {\"5\": 128}, \"12\": {\"12\": 96}, \"43\": {\"43\": 142}, \"13\": {\"13\": 148}, \"36\": {\"36\": 92}, \"8\": {\"8\": 150}, \"32\": {\"32\": 32}, \"30\": {\"30\": 128}, \"51\": {\"51\": 137, \"7\": 1}, \"20\": {\"20\": 138}}, \"C_1\": {\"46\": {\"46\": 140}, \"16\": {\"16\": 134}, \"26\": {\"26\": 24}, \"10\": {\"10\": 96}, \"9\": {\"9\": 156}, \"28\": {\"28\": 28}, \"51\": {\"51\": 156}, \"1\": {\"1\": 100}, \"55\": {\"55\": 148}, \"27\": {\"27\": 124}, \"22\": {\"22\": 121, \"24\": 2, \"21\": 1}, \"52\": {\"52\": 126}, \"3\": {\"3\": 140}, \"33\": {\"33\": 32}, \"47\": {\"47\": 120}, \"42\": {\"42\": 40}, \"12\": {\"12\": 116}, \"23\": {\"23\": 132}, \"49\": {\"49\": 32}, \"7\": {\"7\": 28}, \"4\": {\"4\": 132}, \"50\": {\"50\": 134}, \"19\": {\"19\": 154}, \"11\": {\"11\": 140}, \"31\": {\"31\": 28}, \"41\": {\"41\": 24}, \"56\": {\"56\": 138}, \"0\": {\"0\": 148}, \"57\": {\"57\": 128}, \"53\": {\"53\": 140}, \"43\": {\"43\": 144}, \"37\": {\"37\": 32}, \"2\": {\"2\": 36}, \"6\": {\"2\": 1, \"6\": 95}, \"13\": {\"13\": 150}, \"18\": {\"18\": 72}, \"36\": {\"36\": 64}, \"29\": {\"29\": 140}, \"39\": {\"39\": 28}, \"17\": {\"17\": 64}, \"21\": {\"21\": 124}, \"25\": {\"25\": 132}, \"45\": {\"45\": 142}, \"38\": {\"38\": 23, \"21\": 1}, \"30\": {\"30\": 120}, \"24\": {\"24\": 107, \"22\": 1}, \"20\": {\"20\": 140}, \"8\": {\"8\": 140}, \"35\": {\"35\": 36}, \"54\": {\"54\": 104}, \"5\": {\"5\": 148}, \"48\": {\"48\": 144}, \"15\": {\"15\": 142}, \"34\": {\"34\": 24}, \"14\": {\"14\": 23, \"8\": 1}, \"32\": {\"32\": 32}, \"40\": {\"40\": 148}, \"44\": {\"44\": 136}}, \"C_2\": {\"36\": {\"36\": 116}, \"5\": {\"5\": 120}, \"45\": {\"45\": 126, \"17\": 2}, \"49\": {\"49\": 24}, \"50\": {\"50\": 135, \"17\": 1}, \"4\": {\"4\": 138}, \"43\": {\"43\": 148}, \"41\": {\"41\": 20}, \"37\": {\"37\": 36}, \"12\": {\"12\": 92}, \"33\": {\"33\": 28}, \"7\": {\"7\": 36}, \"56\": {\"56\": 140}, \"14\": {\"14\": 23, \"57\": 1}, \"52\": {\"52\": 124}, \"44\": {\"44\": 96}, \"48\": {\"48\": 144}, \"20\": {\"20\": 127, \"8\": 1}, \"55\": {\"55\": 144}, \"32\": {\"32\": 28}, \"40\": {\"40\": 136}, \"54\": {\"54\": 108}, \"17\": {\"17\": 104}, \"38\": {\"38\": 20}, \"24\": {\"24\": 96}, \"1\": {\"1\": 112}, \"6\": {\"6\": 124}, \"34\": {\"34\": 28}, \"11\": {\"11\": 136}, \"9\": {\"9\": 150}, \"8\": {\"8\": 152}, \"22\": {\"22\": 136}, \"26\": {\"26\": 24}, \"23\": {\"23\": 146}, \"10\": {\"10\": 112}, \"18\": {\"18\": 48}, \"13\": {\"13\": 116}, \"30\": {\"30\": 128}, \"42\": {\"42\": 36}, \"31\": {\"31\": 28}, \"46\": {\"46\": 128}, \"57\": {\"57\": 142}, \"47\": {\"47\": 138}, \"35\": {\"35\": 32}, \"15\": {\"15\": 132}, \"25\": {\"25\": 136}, \"19\": {\"19\": 136}, \"51\": {\"51\": 128}, \"53\": {\"53\": 134}, \"21\": {\"21\": 120}, \"39\": {\"39\": 28}, \"2\": {\"2\": 32}, \"16\": {\"16\": 150}, \"0\": {\"0\": 48}, \"3\": {\"3\": 92}, \"27\": {\"27\": 142}, \"28\": {\"28\": 28}, \"29\": {\"29\": 128}}, \"O_14\": {\"15\": {\"5\": 30, \"3\": 2, \"7\": 77, \"1\": 15, \"15\": 103, \"2\": 6, \"4\": 4, \"6\": 2, \"13\": 1}, \"3\": {\"2\": 18, \"4\": 34, \"14\": 27, \"6\": 19, \"3\": 59, \"0\": 22, \"13\": 7, \"5\": 27, \"11\": 1, \"10\": 10, \"8\": 4, \"9\": 3, \"15\": 1, \"1\": 8}, \"6\": {\"4\": 12, \"2\": 35, \"14\": 47, \"13\": 49, \"5\": 6, \"0\": 7, \"3\": 14, \"10\": 13, \"15\": 2, \"6\": 54, \"11\": 1}, \"1\": {\"1\": 86, \"8\": 28, \"7\": 34, \"5\": 36, \"4\": 18, \"3\": 14, \"15\": 16, \"2\": 8}, \"8\": {\"8\": 153, \"9\": 9, \"1\": 43, \"4\": 14, \"2\": 3, \"3\": 10, \"7\": 2, \"5\": 6}, \"10\": {\"2\": 3, \"10\": 80, \"0\": 45, \"13\": 17, \"6\": 10, \"3\": 14, \"11\": 30, \"14\": 18, \"9\": 5, \"4\": 14, \"12\": 2, \"5\": 2}, \"9\": {\"10\": 11, \"9\": 112, \"3\": 5, \"11\": 19, \"0\": 30, \"8\": 12, \"4\": 3, \"12\": 48}, \"13\": {\"14\": 35, \"13\": 59, \"10\": 19, \"0\": 15, \"1\": 1, \"3\": 9, \"6\": 56, \"2\": 26, \"5\": 4, \"4\": 8, \"11\": 3, \"15\": 3, \"7\": 2}, \"12\": {\"9\": 61, \"12\": 166, \"10\": 1, \"11\": 11, \"0\": 1}, \"5\": {\"8\": 6, \"3\": 29, \"5\": 47, \"2\": 25, \"7\": 26, \"1\": 38, \"4\": 40, \"6\": 4, \"14\": 6, \"15\": 15, \"13\": 1, \"0\": 1, \"10\": 2}, \"0\": {\"10\": 55, \"0\": 60, \"9\": 21, \"3\": 24, \"4\": 18, \"14\": 14, \"11\": 29, \"13\": 9, \"8\": 3, \"5\": 4, \"1\": 1, \"2\": 2}, \"2\": {\"4\": 23, \"13\": 27, \"2\": 36, \"5\": 28, \"3\": 29, \"14\": 39, \"0\": 9, \"10\": 4, \"6\": 29, \"7\": 6, \"15\": 6, \"1\": 4}, \"11\": {\"3\": 5, \"10\": 29, \"11\": 126, \"9\": 29, \"14\": 5, \"0\": 27, \"13\": 6, \"12\": 12, \"2\": 1}, \"14\": {\"14\": 54, \"13\": 26, \"6\": 48, \"3\": 18, \"0\": 19, \"10\": 16, \"2\": 34, \"4\": 17, \"11\": 7, \"5\": 1}, \"7\": {\"5\": 29, \"15\": 69, \"7\": 91, \"1\": 39, \"3\": 2, \"8\": 5, \"4\": 2, \"6\": 1, \"2\": 2}, \"4\": {\"6\": 10, \"2\": 26, \"3\": 42, \"5\": 38, \"10\": 9, \"4\": 51, \"14\": 14, \"8\": 7, \"0\": 10, \"15\": 8, \"13\": 6, \"1\": 11, \"7\": 8}}, \"O_20\": {\"3\": {\"2\": 18, \"9\": 31, \"8\": 17, \"7\": 11, \"5\": 17, \"10\": 11, \"4\": 17, \"15\": 17, \"12\": 25, \"3\": 14, \"6\": 10, \"1\": 17, \"13\": 11, \"0\": 15, \"14\": 8, \"11\": 1}, \"15\": {\"9\": 20, \"15\": 60, \"0\": 23, \"1\": 24, \"12\": 23, \"3\": 19, \"5\": 17, \"7\": 9, \"2\": 13, \"8\": 8, \"13\": 19, \"6\": 1, \"14\": 1, \"11\": 2, \"4\": 1}, \"8\": {\"8\": 37, \"4\": 35, \"0\": 17, \"12\": 9, \"6\": 22, \"2\": 7, \"13\": 2, \"10\": 29, \"1\": 4, \"5\": 16, \"15\": 4, \"9\": 9, \"14\": 24, \"7\": 14, \"3\": 11}, \"4\": {\"2\": 6, \"9\": 6, \"3\": 20, \"5\": 20, \"4\": 45, \"7\": 4, \"14\": 19, \"0\": 20, \"8\": 32, \"12\": 15, \"15\": 7, \"10\": 29, \"6\": 14, \"1\": 3}, \"14\": {\"4\": 28, \"6\": 45, \"7\": 11, \"14\": 46, \"2\": 4, \"8\": 30, \"10\": 40, \"5\": 4, \"0\": 1, \"12\": 7, \"9\": 6, \"15\": 2, \"3\": 9, \"1\": 5, \"11\": 2}, \"0\": {\"9\": 11, \"5\": 35, \"3\": 25, \"6\": 4, \"4\": 27, \"2\": 7, \"0\": 42, \"7\": 9, \"15\": 20, \"12\": 16, \"8\": 16, \"10\": 3, \"13\": 4, \"14\": 2, \"1\": 19}, \"7\": {\"11\": 17, \"9\": 19, \"15\": 8, \"3\": 19, \"5\": 11, \"7\": 30, \"13\": 15, \"4\": 12, \"2\": 21, \"8\": 10, \"6\": 24, \"10\": 11, \"12\": 17, \"1\": 19, \"0\": 1, \"14\": 6}, \"6\": {\"7\": 25, \"6\": 51, \"4\": 13, \"8\": 29, \"10\": 15, \"3\": 12, \"11\": 22, \"1\": 3, \"9\": 10, \"14\": 38, \"2\": 10, \"15\": 3, \"0\": 4, \"12\": 2, \"5\": 2, \"13\": 1}, \"10\": {\"4\": 34, \"8\": 29, \"5\": 2, \"14\": 35, \"6\": 29, \"7\": 14, \"10\": 53, \"0\": 2, \"12\": 12, \"2\": 6, \"13\": 1, \"3\": 11, \"9\": 7, \"15\": 2, \"1\": 3}, \"5\": {\"11\": 1, \"0\": 33, \"15\": 30, \"9\": 19, \"1\": 23, \"2\": 10, \"5\": 36, \"7\": 13, \"13\": 10, \"3\": 15, \"14\": 6, \"4\": 9, \"8\": 11, \"12\": 15, \"6\": 6, \"10\": 3}, \"2\": {\"3\": 21, \"1\": 27, \"0\": 5, \"7\": 21, \"5\": 9, \"14\": 2, \"12\": 14, \"4\": 11, \"9\": 28, \"11\": 18, \"13\": 25, \"15\": 18, \"2\": 29, \"6\": 4, \"10\": 5, \"8\": 3}, \"12\": {\"8\": 10, \"15\": 19, \"1\": 32, \"9\": 24, \"2\": 18, \"7\": 17, \"0\": 24, \"5\": 16, \"4\": 12, \"3\": 27, \"11\": 2, \"10\": 3, \"12\": 25, \"13\": 5, \"14\": 2, \"6\": 4}, \"9\": {\"9\": 22, \"11\": 7, \"8\": 8, \"15\": 25, \"7\": 20, \"1\": 24, \"13\": 17, \"3\": 25, \"14\": 4, \"4\": 10, \"6\": 11, \"12\": 19, \"2\": 23, \"10\": 8, \"5\": 11, \"0\": 6}, \"1\": {\"2\": 14, \"9\": 19, \"8\": 6, \"15\": 33, \"5\": 25, \"1\": 29, \"0\": 18, \"6\": 3, \"7\": 14, \"12\": 25, \"13\": 12, \"4\": 13, \"3\": 26, \"11\": 2, \"14\": 1}, \"11\": {\"13\": 40, \"11\": 127, \"9\": 18, \"2\": 18, \"6\": 5, \"8\": 2, \"7\": 22, \"12\": 2, \"3\": 2, \"10\": 1, \"15\": 2, \"14\": 1}, \"13\": {\"2\": 25, \"3\": 14, \"11\": 44, \"15\": 19, \"13\": 53, \"7\": 13, \"10\": 2, \"14\": 1, \"5\": 11, \"9\": 24, \"1\": 15, \"12\": 14, \"8\": 1, \"6\": 3, \"4\": 1}}, \"O_38\": {\"5\": {\"13\": 11, \"7\": 28, \"5\": 44, \"0\": 26, \"6\": 25, \"8\": 33, \"15\": 21, \"2\": 1, \"1\": 21, \"9\": 11, \"10\": 10, \"3\": 9}, \"8\": {\"13\": 14, \"8\": 66, \"5\": 44, \"10\": 27, \"0\": 28, \"7\": 26, \"14\": 1, \"9\": 5, \"2\": 3, \"15\": 18, \"3\": 3, \"1\": 4, \"6\": 1}, \"11\": {\"14\": 96, \"11\": 95, \"2\": 17, \"12\": 12, \"10\": 12, \"4\": 4, \"13\": 3, \"8\": 1}, \"1\": {\"5\": 18, \"13\": 16, \"1\": 130, \"15\": 45, \"10\": 1, \"6\": 23, \"8\": 4, \"9\": 2, \"0\": 1}, \"10\": {\"15\": 21, \"5\": 9, \"10\": 73, \"12\": 10, \"14\": 12, \"7\": 11, \"11\": 11, \"0\": 16, \"2\": 17, \"13\": 33, \"1\": 3, \"4\": 5, \"8\": 18, \"6\": 1}, \"15\": {\"8\": 24, \"15\": 65, \"13\": 40, \"10\": 24, \"2\": 18, \"1\": 37, \"5\": 17, \"6\": 4, \"3\": 1, \"7\": 2, \"0\": 5, \"9\": 2, \"14\": 1}, \"3\": {\"3\": 126, \"5\": 20, \"8\": 3, \"6\": 15, \"7\": 20, \"9\": 30, \"0\": 24, \"1\": 1, \"13\": 1}, \"7\": {\"13\": 5, \"8\": 40, \"0\": 39, \"7\": 79, \"10\": 25, \"5\": 26, \"1\": 1, \"6\": 5, \"3\": 10, \"15\": 3, \"4\": 2, \"12\": 1, \"9\": 4}, \"4\": {\"4\": 156, \"12\": 80, \"7\": 2, \"8\": 1, \"14\": 1}, \"14\": {\"14\": 113, \"15\": 1, \"2\": 39, \"11\": 61, \"12\": 10, \"10\": 13, \"4\": 2, \"13\": 1}, \"9\": {\"13\": 3, \"9\": 85, \"6\": 73, \"5\": 24, \"1\": 5, \"3\": 40, \"15\": 2, \"0\": 3, \"7\": 4, \"8\": 1}, \"12\": {\"4\": 58, \"12\": 160, \"14\": 11, \"7\": 2, \"8\": 1, \"10\": 3, \"11\": 4, \"0\": 1}, \"6\": {\"9\": 71, \"6\": 106, \"1\": 28, \"15\": 4, \"5\": 20, \"7\": 2, \"0\": 3, \"13\": 1, \"8\": 2, \"3\": 3}, \"2\": {\"14\": 31, \"10\": 21, \"2\": 123, \"13\": 36, \"15\": 8, \"1\": 3, \"11\": 17, \"8\": 1}, \"0\": {\"5\": 27, \"8\": 28, \"10\": 22, \"0\": 48, \"7\": 56, \"13\": 8, \"3\": 23, \"9\": 3, \"1\": 3, \"12\": 2, \"6\": 8, \"15\": 10, \"11\": 1, \"14\": 1}, \"13\": {\"13\": 71, \"15\": 42, \"1\": 23, \"10\": 19, \"0\": 8, \"5\": 13, \"2\": 34, \"8\": 16, \"6\": 6, \"14\": 3, \"7\": 2, \"11\": 1, \"3\": 2}}, \"O_8\": {\"9\": {\"9\": 233, \"0\": 1, \"14\": 1, \"5\": 3, \"13\": 2}, \"10\": {\"5\": 36, \"10\": 44, \"4\": 38, \"13\": 31, \"1\": 15, \"14\": 30, \"0\": 15, \"7\": 6, \"6\": 15, \"11\": 5, \"8\": 4, \"2\": 1}, \"13\": {\"7\": 28, \"13\": 37, \"14\": 21, \"8\": 3, \"6\": 25, \"5\": 13, \"10\": 30, \"15\": 6, \"0\": 37, \"3\": 2, \"1\": 5, \"4\": 26, \"2\": 4, \"12\": 2, \"11\": 1}, \"0\": {\"2\": 21, \"5\": 8, \"4\": 21, \"13\": 38, \"10\": 20, \"6\": 29, \"14\": 17, \"0\": 45, \"15\": 6, \"7\": 27, \"3\": 4, \"11\": 1, \"12\": 2, \"8\": 1}, \"1\": {\"1\": 71, \"10\": 15, \"14\": 34, \"5\": 30, \"8\": 15, \"11\": 55, \"6\": 3, \"7\": 2, \"4\": 7, \"13\": 4, \"15\": 2, \"0\": 2}, \"15\": {\"2\": 13, \"12\": 44, \"15\": 66, \"7\": 8, \"13\": 6, \"3\": 29, \"8\": 42, \"6\": 17, \"14\": 4, \"4\": 4, \"1\": 2, \"0\": 3, \"10\": 1, \"11\": 1}, \"5\": {\"1\": 42, \"5\": 96, \"4\": 11, \"11\": 22, \"10\": 35, \"14\": 18, \"0\": 5, \"13\": 6, \"9\": 2, \"6\": 2, \"7\": 1}, \"3\": {\"2\": 62, \"3\": 85, \"7\": 12, \"12\": 25, \"8\": 4, \"0\": 7, \"15\": 32, \"6\": 7, \"14\": 1, \"4\": 4, \"13\": 1}, \"6\": {\"15\": 16, \"4\": 25, \"10\": 23, \"13\": 21, \"3\": 5, \"12\": 8, \"7\": 28, \"6\": 37, \"14\": 17, \"8\": 14, \"0\": 22, \"2\": 17, \"5\": 4, \"11\": 2, \"1\": 1}, \"11\": {\"11\": 101, \"1\": 69, \"8\": 22, \"5\": 20, \"14\": 13, \"6\": 2, \"10\": 5, \"4\": 4, \"13\": 2, \"0\": 1, \"12\": 1}, \"8\": {\"12\": 27, \"14\": 8, \"8\": 68, \"15\": 37, \"11\": 17, \"10\": 8, \"6\": 19, \"7\": 10, \"2\": 2, \"1\": 23, \"13\": 3, \"4\": 10, \"3\": 4, \"0\": 3, \"5\": 1}, \"4\": {\"14\": 25, \"6\": 40, \"5\": 13, \"1\": 11, \"7\": 21, \"13\": 29, \"4\": 30, \"10\": 24, \"0\": 22, \"12\": 5, \"8\": 14, \"11\": 1, \"3\": 2, \"15\": 3}, \"12\": {\"2\": 25, \"12\": 68, \"8\": 25, \"7\": 11, \"15\": 60, \"3\": 36, \"4\": 6, \"6\": 6, \"10\": 1, \"0\": 1, \"13\": 1}, \"14\": {\"14\": 38, \"5\": 24, \"10\": 32, \"11\": 14, \"4\": 31, \"13\": 20, \"6\": 20, \"1\": 27, \"2\": 2, \"8\": 10, \"15\": 3, \"0\": 13, \"12\": 1, \"7\": 5}, \"2\": {\"3\": 75, \"7\": 26, \"2\": 71, \"6\": 11, \"0\": 10, \"13\": 15, \"8\": 1, \"15\": 10, \"4\": 6, \"12\": 13, \"14\": 1, \"5\": 1}, \"7\": {\"0\": 34, \"10\": 13, \"14\": 15, \"6\": 31, \"4\": 22, \"5\": 4, \"12\": 7, \"2\": 21, \"7\": 29, \"13\": 24, \"15\": 12, \"8\": 11, \"3\": 13, \"1\": 4}}, \"O_50\": {\"7\": {\"5\": 40, \"6\": 24, \"10\": 25, \"7\": 79, \"13\": 46, \"8\": 4, \"4\": 9, \"3\": 5, \"15\": 3, \"1\": 2, \"0\": 3}, \"3\": {\"3\": 201, \"8\": 34, \"10\": 2, \"13\": 1, \"7\": 2}, \"8\": {\"8\": 143, \"3\": 25, \"10\": 43, \"0\": 17, \"6\": 1, \"7\": 7, \"2\": 2, \"5\": 2}, \"2\": {\"2\": 128, \"0\": 72, \"12\": 4, \"11\": 1, \"1\": 5, \"14\": 20, \"13\": 2, \"4\": 1, \"6\": 3, \"5\": 1, \"8\": 2, \"10\": 1}, \"14\": {\"9\": 33, \"12\": 37, \"14\": 118, \"2\": 19, \"11\": 26, \"1\": 3, \"0\": 3, \"4\": 1}, \"4\": {\"15\": 36, \"6\": 33, \"4\": 49, \"1\": 34, \"7\": 8, \"5\": 27, \"13\": 17, \"11\": 16, \"10\": 3, \"14\": 9, \"9\": 2, \"2\": 4, \"0\": 2}, \"6\": {\"5\": 25, \"1\": 30, \"4\": 46, \"14\": 1, \"6\": 57, \"2\": 4, \"15\": 16, \"13\": 20, \"7\": 16, \"0\": 13, \"11\": 4, \"10\": 8}, \"15\": {\"15\": 76, \"6\": 29, \"11\": 27, \"13\": 8, \"5\": 15, \"9\": 7, \"1\": 42, \"4\": 31, \"14\": 2, \"0\": 2, \"2\": 1}, \"10\": {\"13\": 31, \"8\": 41, \"10\": 89, \"0\": 38, \"5\": 9, \"7\": 23, \"6\": 5, \"3\": 3, \"2\": 1}, \"11\": {\"15\": 22, \"11\": 92, \"14\": 26, \"9\": 49, \"4\": 10, \"1\": 26, \"12\": 12, \"6\": 2, \"0\": 1}, \"13\": {\"5\": 51, \"13\": 52, \"7\": 39, \"1\": 14, \"0\": 7, \"6\": 39, \"10\": 25, \"4\": 9, \"8\": 1, \"15\": 3}, \"9\": {\"11\": 49, \"9\": 103, \"14\": 43, \"12\": 41, \"1\": 1, \"15\": 3}, \"0\": {\"0\": 104, \"14\": 4, \"10\": 29, \"8\": 7, \"2\": 57, \"1\": 10, \"6\": 9, \"13\": 10, \"5\": 6, \"11\": 1, \"7\": 1, \"4\": 2}, \"1\": {\"4\": 39, \"1\": 62, \"14\": 5, \"15\": 39, \"0\": 12, \"11\": 25, \"13\": 9, \"6\": 23, \"2\": 9, \"5\": 17}, \"12\": {\"12\": 123, \"14\": 59, \"9\": 46, \"11\": 10, \"2\": 2}, \"5\": {\"13\": 41, \"7\": 43, \"5\": 50, \"1\": 15, \"4\": 26, \"15\": 8, \"10\": 16, \"0\": 9, \"6\": 27, \"11\": 3, \"14\": 1, \"2\": 1}}, \"O_32\": {\"8\": {\"0\": 42, \"4\": 21, \"15\": 19, \"13\": 21, \"8\": 66, \"5\": 35, \"3\": 17, \"7\": 6, \"2\": 10, \"14\": 3}, \"14\": {\"11\": 66, \"5\": 16, \"14\": 49, \"7\": 44, \"13\": 17, \"8\": 4, \"3\": 8, \"4\": 12, \"0\": 11, \"2\": 13}, \"2\": {\"2\": 72, \"4\": 44, \"7\": 20, \"9\": 11, \"5\": 13, \"14\": 13, \"8\": 12, \"11\": 8, \"0\": 36, \"13\": 11}, \"0\": {\"13\": 18, \"8\": 27, \"0\": 68, \"2\": 39, \"9\": 5, \"7\": 21, \"4\": 26, \"5\": 20, \"11\": 9, \"15\": 1, \"14\": 6}, \"1\": {\"1\": 200, \"10\": 37, \"6\": 3}, \"10\": {\"10\": 206, \"6\": 8, \"1\": 26}, \"11\": {\"14\": 52, \"7\": 46, \"11\": 89, \"13\": 17, \"3\": 11, \"4\": 5, \"0\": 5, \"5\": 8, \"8\": 2, \"2\": 5}, \"5\": {\"0\": 20, \"8\": 25, \"7\": 29, \"13\": 27, \"5\": 39, \"4\": 32, \"3\": 26, \"2\": 15, \"14\": 17, \"11\": 10}, \"15\": {\"15\": 204, \"8\": 18, \"3\": 14, \"5\": 2, \"4\": 1, \"0\": 1}, \"3\": {\"3\": 108, \"8\": 17, \"14\": 14, \"13\": 33, \"5\": 33, \"11\": 16, \"0\": 3, \"2\": 1, \"15\": 3, \"7\": 10, \"4\": 2}, \"12\": {\"12\": 206, \"6\": 8, \"9\": 22, \"10\": 4}, \"7\": {\"7\": 37, \"2\": 19, \"4\": 25, \"11\": 35, \"13\": 29, \"8\": 16, \"0\": 19, \"5\": 24, \"14\": 28, \"3\": 8}, \"13\": {\"7\": 27, \"3\": 25, \"13\": 46, \"5\": 34, \"14\": 16, \"2\": 18, \"8\": 28, \"4\": 26, \"11\": 7, \"0\": 11, \"15\": 2}, \"6\": {\"6\": 226, \"12\": 5, \"9\": 4, \"10\": 2, \"1\": 3}, \"4\": {\"0\": 23, \"8\": 28, \"4\": 54, \"3\": 6, \"5\": 21, \"2\": 39, \"13\": 28, \"7\": 28, \"11\": 4, \"14\": 9}, \"9\": {\"9\": 179, \"0\": 12, \"12\": 33, \"2\": 14, \"5\": 1, \"4\": 1}}, \"O_26\": {\"4\": {\"9\": 17, \"2\": 14, \"4\": 17, \"15\": 8, \"8\": 13, \"0\": 20, \"3\": 20, \"10\": 26, \"1\": 33, \"14\": 32, \"6\": 14, \"7\": 20, \"5\": 5, \"13\": 1}, \"12\": {\"12\": 193, \"11\": 15, \"6\": 12, \"5\": 1, \"10\": 3, \"14\": 4, \"13\": 2, \"8\": 3, \"9\": 5, \"0\": 1, \"1\": 1}, \"10\": {\"0\": 22, \"2\": 11, \"10\": 26, \"14\": 33, \"4\": 24, \"3\": 10, \"8\": 27, \"1\": 25, \"7\": 17, \"9\": 10, \"6\": 19, \"15\": 10, \"12\": 2, \"5\": 3, \"13\": 1}, \"0\": {\"2\": 11, \"14\": 34, \"10\": 28, \"9\": 8, \"7\": 18, \"3\": 10, \"1\": 26, \"4\": 29, \"6\": 16, \"8\": 22, \"0\": 25, \"12\": 3, \"5\": 4, \"13\": 2, \"15\": 4}, \"13\": {\"5\": 39, \"13\": 71, \"2\": 24, \"3\": 17, \"11\": 9, \"9\": 23, \"14\": 2, \"8\": 6, \"10\": 4, \"6\": 12, \"15\": 25, \"7\": 4, \"4\": 4}, \"9\": {\"13\": 18, \"1\": 9, \"9\": 33, \"15\": 18, \"6\": 28, \"8\": 25, \"0\": 12, \"14\": 8, \"3\": 15, \"4\": 10, \"2\": 15, \"10\": 19, \"7\": 7, \"5\": 22, \"12\": 1}, \"3\": {\"2\": 35, \"9\": 11, \"0\": 12, \"15\": 19, \"6\": 14, \"3\": 51, \"7\": 26, \"1\": 9, \"14\": 10, \"13\": 13, \"5\": 19, \"4\": 12, \"8\": 7, \"10\": 2}, \"2\": {\"15\": 24, \"3\": 48, \"2\": 39, \"9\": 11, \"8\": 13, \"5\": 21, \"4\": 15, \"13\": 16, \"7\": 25, \"0\": 10, \"14\": 5, \"10\": 4, \"1\": 5, \"6\": 4}, \"5\": {\"6\": 17, \"15\": 21, \"3\": 22, \"5\": 45, \"9\": 18, \"13\": 35, \"0\": 4, \"2\": 31, \"7\": 14, \"4\": 3, \"10\": 8, \"14\": 4, \"11\": 6, \"8\": 10, \"1\": 2}, \"14\": {\"8\": 15, \"10\": 28, \"0\": 33, \"2\": 5, \"1\": 42, \"3\": 12, \"9\": 13, \"4\": 23, \"15\": 4, \"14\": 31, \"6\": 15, \"7\": 17, \"13\": 1, \"5\": 1}, \"8\": {\"8\": 23, \"14\": 21, \"2\": 16, \"10\": 28, \"4\": 20, \"7\": 13, \"6\": 29, \"3\": 12, \"9\": 14, \"13\": 11, \"15\": 16, \"1\": 17, \"0\": 13, \"5\": 6, \"12\": 1}, \"7\": {\"4\": 23, \"3\": 33, \"2\": 30, \"14\": 13, \"8\": 20, \"15\": 17, \"7\": 18, \"6\": 15, \"10\": 14, \"5\": 17, \"0\": 17, \"9\": 8, \"1\": 7, \"13\": 7, \"11\": 1}, \"6\": {\"14\": 12, \"6\": 39, \"9\": 28, \"7\": 10, \"3\": 7, \"0\": 13, \"10\": 31, \"8\": 19, \"15\": 12, \"1\": 13, \"13\": 14, \"5\": 19, \"2\": 7, \"4\": 8, \"12\": 6, \"11\": 2}, \"11\": {\"11\": 179, \"12\": 28, \"6\": 7, \"13\": 15, \"8\": 1, \"5\": 6, \"15\": 2, \"9\": 1, \"10\": 1}, \"15\": {\"6\": 23, \"2\": 22, \"10\": 9, \"13\": 33, \"15\": 26, \"14\": 10, \"3\": 14, \"7\": 20, \"8\": 20, \"5\": 23, \"9\": 16, \"4\": 10, \"0\": 7, \"1\": 7}, \"1\": {\"1\": 64, \"0\": 22, \"2\": 9, \"10\": 32, \"8\": 14, \"7\": 11, \"9\": 14, \"14\": 29, \"4\": 19, \"6\": 7, \"15\": 2, \"3\": 14, \"5\": 2, \"12\": 1}}, \"O_44\": {\"12\": {\"12\": 83, \"3\": 39, \"1\": 73, \"10\": 38, \"2\": 6, \"7\": 1}, \"7\": {\"1\": 8, \"2\": 45, \"9\": 53, \"7\": 73, \"10\": 13, \"6\": 20, \"3\": 6, \"13\": 17, \"12\": 2, \"11\": 2, \"14\": 1}, \"5\": {\"5\": 103, \"15\": 21, \"14\": 42, \"8\": 24, \"0\": 35, \"4\": 15}, \"15\": {\"14\": 39, \"15\": 72, \"5\": 20, \"4\": 22, \"8\": 40, \"0\": 46, \"9\": 1}, \"8\": {\"15\": 34, \"8\": 108, \"0\": 82, \"5\": 10, \"14\": 5, \"4\": 1}, \"2\": {\"2\": 76, \"7\": 43, \"12\": 12, \"3\": 14, \"9\": 31, \"1\": 21, \"10\": 34, \"6\": 8, \"13\": 1}, \"13\": {\"13\": 78, \"7\": 22, \"6\": 53, \"9\": 36, \"4\": 8, \"11\": 37, \"1\": 1, \"2\": 2, \"14\": 3}, \"4\": {\"4\": 94, \"5\": 21, \"14\": 67, \"15\": 19, \"9\": 13, \"0\": 4, \"13\": 13, \"7\": 3, \"6\": 2, \"11\": 2, \"3\": 1, \"8\": 1}, \"0\": {\"0\": 79, \"5\": 44, \"15\": 31, \"14\": 9, \"8\": 75, \"4\": 2}, \"6\": {\"6\": 75, \"9\": 33, \"13\": 52, \"7\": 29, \"2\": 15, \"11\": 36}, \"9\": {\"9\": 50, \"1\": 2, \"2\": 30, \"7\": 47, \"4\": 10, \"11\": 11, \"6\": 38, \"13\": 39, \"10\": 2, \"3\": 4, \"12\": 1, \"14\": 6}, \"11\": {\"6\": 41, \"13\": 47, \"11\": 133, \"14\": 1, \"4\": 2, \"7\": 4, \"9\": 12}, \"10\": {\"1\": 36, \"10\": 73, \"2\": 47, \"3\": 13, \"9\": 3, \"12\": 60, \"7\": 7, \"6\": 1}, \"14\": {\"4\": 74, \"14\": 83, \"5\": 30, \"15\": 24, \"0\": 12, \"13\": 5, \"9\": 5, \"8\": 4, \"7\": 1, \"11\": 1, \"6\": 1}, \"1\": {\"3\": 49, \"1\": 66, \"12\": 65, \"10\": 28, \"2\": 25, \"7\": 7}, \"3\": {\"1\": 56, \"12\": 42, \"3\": 93, \"10\": 21, \"7\": 6, \"2\": 20, \"9\": 2}}}, \"per_domain_accuracy\": {\"C_3\": {\"accuracy\": 0.9990915697674418, \"source?\": true}, \"C_4\": {\"accuracy\": 0.9984848484848485, \"source?\": true}, \"C_5\": {\"accuracy\": 0.9982541899441341, \"source?\": true}, \"C_1\": {\"accuracy\": 0.9988046448087432, \"source?\": true}, \"C_2\": {\"accuracy\": 0.999117231638418, \"source?\": true}, \"O_14\": {\"accuracy\": 0.34817708333333336, \"source?\": false}, \"O_20\": {\"accuracy\": 0.18203125, \"source?\": false}, \"O_38\": {\"accuracy\": 0.4010416666666667, \"source?\": false}, \"O_8\": {\"accuracy\": 0.29140625, \"source?\": false}, \"O_50\": {\"accuracy\": 0.39739583333333334, \"source?\": false}, \"O_32\": {\"accuracy\": 0.48151041666666666, \"source?\": false}, \"O_26\": {\"accuracy\": 0.22916666666666666, \"source?\": false}, \"O_44\": {\"accuracy\": 0.34869791666666666, \"source?\": false}}}, \"history\": {\"epoch_indices\": [1, 2, 3, 4, 5], \"train_label_loss\": [0.03168732889713424, 0.008488869772554121, 0.006636287542407434, 0.003994171682775657, 0.0035710519401961427], \"source_val_label_loss\": [0.007118136156350374, 0.009871660731732845, 0.006294557824730873, 0.006421184167265892, 0.007836293429136276], \"target_val_label_loss\": [1.9022853374481201, 2.467829465866089, 2.805039405822754, 2.8718860149383545, 3.001981735229492], \"source_val_acc_label\": [0.9987514269406392, 0.9980379566210046, 0.9992508561643836, 0.9992151826484018, 0.9991081621004566], \"target_val_acc_label\": [0.33492838541666664, 0.27073567708333335, 0.27158203125, 0.2774739583333333, 0.27744140625]}, \"dataset_metrics\": {\"source\": {\"train\": {\"n_unique_x\": 175169, \"n_unique_y\": 58, \"n_batch/episode\": 6317}, \"val\": {\"n_unique_x\": 37196, \"n_unique_y\": 58, \"n_batch/episode\": 876}, \"test\": {\"n_unique_x\": 37634, \"n_unique_y\": 58, \"n_batch/episode\": 891}}, \"target\": {\"train\": {\"n_unique_x\": 179200, \"n_unique_y\": 16, \"n_batch/episode\": 6720}, \"val\": {\"n_unique_x\": 38400, \"n_unique_y\": 16, \"n_batch/episode\": 960}, \"test\": {\"n_unique_x\": 38400, \"n_unique_y\": 16, \"n_batch/episode\": 960}}}}'"
      ]
     },
     "execution_count": 29,
     "metadata": {},
     "output_type": "execute_result"
    }
   ],
   "source": [
    "json.dumps(experiment)"
   ]
  }
 ],
 "metadata": {
  "celltoolbar": "Tags",
  "kernelspec": {
   "display_name": "Python 3 (ipykernel)",
   "language": "python",
   "name": "python3"
  },
  "language_info": {
   "codemirror_mode": {
    "name": "ipython",
    "version": 3
   },
   "file_extension": ".py",
   "mimetype": "text/x-python",
   "name": "python",
   "nbconvert_exporter": "python",
   "pygments_lexer": "ipython3",
   "version": "3.8.10"
  },
  "papermill": {
   "default_parameters": {},
   "duration": 1569.035321,
   "end_time": "2022-03-25T15:49:28.583511",
   "environment_variables": {},
   "exception": null,
   "input_path": "/mnt/wd500GB/CSC500/csc500-main/csc500-notebooks/templates/tl_ptn_template.ipynb",
   "output_path": "trial.ipynb",
   "parameters": {
    "parameters": {
     "BEST_MODEL_PATH": "./best_model.pth",
     "NUM_LOGS_PER_EPOCH": 10,
     "criteria_for_best": "target_accuracy",
     "dataset_seed": 1337,
     "datasets": [
      {
       "domain_prefix": "C_",
       "domains": [
        1,
        2,
        3,
        4,
        5
       ],
       "episode_transforms": [],
       "labels": [
        "1-10.",
        "1-11.",
        "1-15.",
        "1-16.",
        "1-17.",
        "1-18.",
        "1-19.",
        "10-4.",
        "10-7.",
        "11-1.",
        "11-14.",
        "11-17.",
        "11-20.",
        "11-7.",
        "13-20.",
        "13-8.",
        "14-10.",
        "14-11.",
        "14-14.",
        "14-7.",
        "15-1.",
        "15-20.",
        "16-1.",
        "16-16.",
        "17-10.",
        "17-11.",
        "17-2.",
        "19-1.",
        "19-16.",
        "19-19.",
        "19-20.",
        "19-3.",
        "2-10.",
        "2-11.",
        "2-17.",
        "2-18.",
        "2-20.",
        "2-3.",
        "2-4.",
        "2-5.",
        "2-6.",
        "2-7.",
        "2-8.",
        "3-13.",
        "3-18.",
        "3-3.",
        "4-1.",
        "4-10.",
        "4-11.",
        "4-19.",
        "5-5.",
        "6-15.",
        "7-10.",
        "7-14.",
        "8-18.",
        "8-20.",
        "8-3.",
        "8-8."
       ],
       "num_examples_per_domain_per_label": -1,
       "pickle_path": "/mnt/wd500GB/CSC500/csc500-main/datasets/cores.stratified_ds.2022A.pkl",
       "source_or_target_dataset": "source",
       "x_transforms": [
        "unit_mag",
        "lowpass_+/-10MHz",
        "take_200"
       ]
      },
      {
       "domain_prefix": "O_",
       "domains": [
        32,
        38,
        8,
        44,
        14,
        50,
        20,
        26
       ],
       "episode_transforms": [],
       "labels": [
        "3123D52",
        "3123D65",
        "3123D79",
        "3123D80",
        "3123D54",
        "3123D70",
        "3123D7B",
        "3123D89",
        "3123D58",
        "3123D76",
        "3123D7D",
        "3123EFE",
        "3123D64",
        "3123D78",
        "3123D7E",
        "3124E4A"
       ],
       "num_examples_per_domain_per_label": 2000,
       "pickle_path": "/mnt/wd500GB/CSC500/csc500-main/datasets/oracle.Run1_framed_2000Examples_stratified_ds.2022A.pkl",
       "source_or_target_dataset": "target",
       "x_transforms": [
        "unit_mag",
        "take_200",
        "resample_20Msps_to_25Msps"
       ]
      }
     ],
     "device": "cuda",
     "experiment_name": "tl_3-filterv2:cores -> oracle.run1.framed",
     "lr": 0.0001,
     "n_epoch": 50,
     "n_query": 2,
     "n_shot": 3,
     "n_way": 16,
     "patience": 3,
     "seed": 1337,
     "test_k_factor": 2,
     "torch_default_dtype": "torch.float32",
     "train_k_factor": 3,
     "val_k_factor": 2,
     "x_net": [
      {
       "class": "nnReshape",
       "kargs": {
        "shape": [
         -1,
         1,
         2,
         200
        ]
       }
      },
      {
       "class": "Conv2d",
       "kargs": {
        "bias": false,
        "in_channels": 1,
        "kernel_size": [
         1,
         7
        ],
        "out_channels": 256,
        "padding": [
         0,
         3
        ]
       }
      },
      {
       "class": "ReLU",
       "kargs": {
        "inplace": true
       }
      },
      {
       "class": "BatchNorm2d",
       "kargs": {
        "num_features": 256
       }
      },
      {
       "class": "Conv2d",
       "kargs": {
        "bias": true,
        "in_channels": 256,
        "kernel_size": [
         2,
         7
        ],
        "out_channels": 80,
        "padding": [
         0,
         3
        ]
       }
      },
      {
       "class": "ReLU",
       "kargs": {
        "inplace": true
       }
      },
      {
       "class": "BatchNorm2d",
       "kargs": {
        "num_features": 80
       }
      },
      {
       "class": "Flatten",
       "kargs": {}
      },
      {
       "class": "Linear",
       "kargs": {
        "in_features": 16000,
        "out_features": 256
       }
      },
      {
       "class": "ReLU",
       "kargs": {
        "inplace": true
       }
      },
      {
       "class": "BatchNorm1d",
       "kargs": {
        "num_features": 256
       }
      },
      {
       "class": "Linear",
       "kargs": {
        "in_features": 256,
        "out_features": 256
       }
      }
     ],
     "x_shape": [
      2,
      200
     ]
    }
   },
   "start_time": "2022-03-25T15:23:19.548190",
   "version": "2.3.4"
  }
 },
 "nbformat": 4,
 "nbformat_minor": 5
}