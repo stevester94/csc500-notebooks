{
 "cells": [
  {
   "cell_type": "markdown",
   "id": "9fea5f46",
   "metadata": {
    "papermill": {
     "duration": 0.014191,
     "end_time": "2022-03-25T15:55:19.459404",
     "exception": false,
     "start_time": "2022-03-25T15:55:19.445213",
     "status": "completed"
    },
    "tags": []
   },
   "source": [
    "# Transfer Learning Template"
   ]
  },
  {
   "cell_type": "code",
   "execution_count": 1,
   "id": "0902182a",
   "metadata": {
    "execution": {
     "iopub.execute_input": "2022-03-25T15:55:19.502887Z",
     "iopub.status.busy": "2022-03-25T15:55:19.502362Z",
     "iopub.status.idle": "2022-03-25T15:55:20.508080Z",
     "shell.execute_reply": "2022-03-25T15:55:20.508311Z"
    },
    "papermill": {
     "duration": 1.035682,
     "end_time": "2022-03-25T15:55:20.508436",
     "exception": false,
     "start_time": "2022-03-25T15:55:19.472754",
     "status": "completed"
    },
    "tags": []
   },
   "outputs": [],
   "source": [
    "%load_ext autoreload\n",
    "%autoreload 2\n",
    "%matplotlib inline\n",
    "\n",
    "    \n",
    "import os, json, sys, time, random\n",
    "import numpy as np\n",
    "import torch\n",
    "from torch.optim import Adam\n",
    "from  easydict import EasyDict\n",
    "import matplotlib.pyplot as plt\n",
    "\n",
    "from steves_models.steves_ptn import Steves_Prototypical_Network\n",
    "\n",
    "from steves_utils.lazy_iterable_wrapper import Lazy_Iterable_Wrapper\n",
    "from steves_utils.iterable_aggregator import Iterable_Aggregator\n",
    "from steves_utils.ptn_train_eval_test_jig import  PTN_Train_Eval_Test_Jig\n",
    "from steves_utils.torch_sequential_builder import build_sequential\n",
    "from steves_utils.torch_utils import get_dataset_metrics, ptn_confusion_by_domain_over_dataloader\n",
    "from steves_utils.utils_v2 import (per_domain_accuracy_from_confusion, get_datasets_base_path)\n",
    "from steves_utils.PTN.utils import independent_accuracy_assesment\n",
    "\n",
    "from torch.utils.data import DataLoader\n",
    "\n",
    "from steves_utils.stratified_dataset.episodic_accessor import Episodic_Accessor_Factory\n",
    "\n",
    "from steves_utils.ptn_do_report import (\n",
    "    get_loss_curve,\n",
    "    get_results_table,\n",
    "    get_parameters_table,\n",
    "    get_domain_accuracies,\n",
    ")\n",
    "\n",
    "from steves_utils.transforms import get_chained_transform"
   ]
  },
  {
   "cell_type": "markdown",
   "id": "41c840b4",
   "metadata": {
    "papermill": {
     "duration": 0.013145,
     "end_time": "2022-03-25T15:55:20.535123",
     "exception": false,
     "start_time": "2022-03-25T15:55:20.521978",
     "status": "completed"
    },
    "tags": []
   },
   "source": [
    "# Allowed Parameters\n",
    "These are allowed parameters, not defaults\n",
    "Each of these values need to be present in the injected parameters (the notebook will raise an exception if they are not present)\n",
    "\n",
    "Papermill uses the cell tag \"parameters\" to inject the real parameters below this cell.\n",
    "Enable tags to see what I mean"
   ]
  },
  {
   "cell_type": "code",
   "execution_count": 2,
   "id": "fd44eb83",
   "metadata": {
    "execution": {
     "iopub.execute_input": "2022-03-25T15:55:20.564009Z",
     "iopub.status.busy": "2022-03-25T15:55:20.563586Z",
     "iopub.status.idle": "2022-03-25T15:55:20.575499Z",
     "shell.execute_reply": "2022-03-25T15:55:20.575211Z"
    },
    "papermill": {
     "duration": 0.027169,
     "end_time": "2022-03-25T15:55:20.575561",
     "exception": false,
     "start_time": "2022-03-25T15:55:20.548392",
     "status": "completed"
    },
    "tags": []
   },
   "outputs": [],
   "source": [
    "required_parameters = {\n",
    "    \"experiment_name\",\n",
    "    \"lr\",\n",
    "    \"device\",\n",
    "    \"seed\",\n",
    "    \"dataset_seed\",\n",
    "    \"n_shot\",\n",
    "    \"n_query\",\n",
    "    \"n_way\",\n",
    "    \"train_k_factor\",\n",
    "    \"val_k_factor\",\n",
    "    \"test_k_factor\",\n",
    "    \"n_epoch\",\n",
    "    \"patience\",\n",
    "    \"criteria_for_best\",\n",
    "    \"x_net\",\n",
    "    \"datasets\",\n",
    "    \"torch_default_dtype\",\n",
    "    \"NUM_LOGS_PER_EPOCH\",\n",
    "    \"BEST_MODEL_PATH\",\n",
    "    \"x_shape\",\n",
    "}"
   ]
  },
  {
   "cell_type": "code",
   "execution_count": 3,
   "id": "fa3f0049",
   "metadata": {
    "execution": {
     "iopub.execute_input": "2022-03-25T15:55:20.610259Z",
     "iopub.status.busy": "2022-03-25T15:55:20.609653Z",
     "iopub.status.idle": "2022-03-25T15:55:20.623284Z",
     "shell.execute_reply": "2022-03-25T15:55:20.622741Z"
    },
    "papermill": {
     "duration": 0.034479,
     "end_time": "2022-03-25T15:55:20.623397",
     "exception": false,
     "start_time": "2022-03-25T15:55:20.588918",
     "status": "completed"
    },
    "tags": [
     "parameters"
    ]
   },
   "outputs": [],
   "source": [
    "from steves_utils.CORES.utils import (\n",
    "    ALL_NODES,\n",
    "    ALL_NODES_MINIMUM_1000_EXAMPLES,\n",
    "    ALL_DAYS\n",
    ")\n",
    "\n",
    "from steves_utils.ORACLE.utils_v2 import (\n",
    "    ALL_DISTANCES_FEET_NARROWED,\n",
    "    ALL_RUNS,\n",
    "    ALL_SERIAL_NUMBERS,\n",
    ")\n",
    "\n",
    "standalone_parameters = {}\n",
    "standalone_parameters[\"experiment_name\"] = \"STANDALONE PTN\"\n",
    "standalone_parameters[\"lr\"] = 0.001\n",
    "standalone_parameters[\"device\"] = \"cuda\"\n",
    "\n",
    "standalone_parameters[\"seed\"] = 1337\n",
    "standalone_parameters[\"dataset_seed\"] = 1337\n",
    "\n",
    "standalone_parameters[\"n_way\"] = 8\n",
    "standalone_parameters[\"n_shot\"] = 3\n",
    "standalone_parameters[\"n_query\"]  = 2\n",
    "standalone_parameters[\"train_k_factor\"] = 1\n",
    "standalone_parameters[\"val_k_factor\"] = 2\n",
    "standalone_parameters[\"test_k_factor\"] = 2\n",
    "\n",
    "\n",
    "standalone_parameters[\"n_epoch\"] = 50\n",
    "\n",
    "standalone_parameters[\"patience\"] = 10\n",
    "standalone_parameters[\"criteria_for_best\"] = \"source_loss\"\n",
    "\n",
    "standalone_parameters[\"datasets\"] = [\n",
    "    {\n",
    "        \"labels\": ALL_SERIAL_NUMBERS,\n",
    "        \"domains\": ALL_DISTANCES_FEET_NARROWED,\n",
    "        \"num_examples_per_domain_per_label\": 100,\n",
    "        \"pickle_path\": os.path.join(get_datasets_base_path(), \"oracle.Run1_framed_2000Examples_stratified_ds.2022A.pkl\"),\n",
    "        \"source_or_target_dataset\": \"source\",\n",
    "        \"x_transforms\": [\"unit_mag\", \"minus_two\"],\n",
    "        \"episode_transforms\": [],\n",
    "        \"domain_prefix\": \"ORACLE_\"\n",
    "    },\n",
    "    {\n",
    "        \"labels\": ALL_NODES,\n",
    "        \"domains\": ALL_DAYS,\n",
    "        \"num_examples_per_domain_per_label\": 100,\n",
    "        \"pickle_path\": os.path.join(get_datasets_base_path(), \"cores.stratified_ds.2022A.pkl\"),\n",
    "        \"source_or_target_dataset\": \"target\",\n",
    "        \"x_transforms\": [\"unit_power\", \"times_zero\"],\n",
    "        \"episode_transforms\": [],\n",
    "        \"domain_prefix\": \"CORES_\"\n",
    "    }   \n",
    "]\n",
    "\n",
    "standalone_parameters[\"torch_default_dtype\"] = \"torch.float32\" \n",
    "\n",
    "\n",
    "\n",
    "standalone_parameters[\"x_net\"] =     [\n",
    "    {\"class\": \"nnReshape\", \"kargs\": {\"shape\":[-1, 1, 2, 256]}},\n",
    "    {\"class\": \"Conv2d\", \"kargs\": { \"in_channels\":1, \"out_channels\":256, \"kernel_size\":(1,7), \"bias\":False, \"padding\":(0,3), },},\n",
    "    {\"class\": \"ReLU\", \"kargs\": {\"inplace\": True}},\n",
    "    {\"class\": \"BatchNorm2d\", \"kargs\": {\"num_features\":256}},\n",
    "\n",
    "    {\"class\": \"Conv2d\", \"kargs\": { \"in_channels\":256, \"out_channels\":80, \"kernel_size\":(2,7), \"bias\":True, \"padding\":(0,3), },},\n",
    "    {\"class\": \"ReLU\", \"kargs\": {\"inplace\": True}},\n",
    "    {\"class\": \"BatchNorm2d\", \"kargs\": {\"num_features\":80}},\n",
    "    {\"class\": \"Flatten\", \"kargs\": {}},\n",
    "\n",
    "    {\"class\": \"Linear\", \"kargs\": {\"in_features\": 80*256, \"out_features\": 256}}, # 80 units per IQ pair\n",
    "    {\"class\": \"ReLU\", \"kargs\": {\"inplace\": True}},\n",
    "    {\"class\": \"BatchNorm1d\", \"kargs\": {\"num_features\":256}},\n",
    "\n",
    "    {\"class\": \"Linear\", \"kargs\": {\"in_features\": 256, \"out_features\": 256}},\n",
    "]\n",
    "\n",
    "# Parameters relevant to results\n",
    "# These parameters will basically never need to change\n",
    "standalone_parameters[\"NUM_LOGS_PER_EPOCH\"] = 10\n",
    "standalone_parameters[\"BEST_MODEL_PATH\"] = \"./best_model.pth\"\n",
    "\n",
    "\n",
    "\n",
    "\n"
   ]
  },
  {
   "cell_type": "code",
   "execution_count": 4,
   "id": "fe28b86c",
   "metadata": {
    "execution": {
     "iopub.execute_input": "2022-03-25T15:55:20.663857Z",
     "iopub.status.busy": "2022-03-25T15:55:20.663547Z",
     "iopub.status.idle": "2022-03-25T15:55:20.677447Z",
     "shell.execute_reply": "2022-03-25T15:55:20.677012Z"
    },
    "papermill": {
     "duration": 0.035655,
     "end_time": "2022-03-25T15:55:20.677557",
     "exception": false,
     "start_time": "2022-03-25T15:55:20.641902",
     "status": "completed"
    },
    "tags": [
     "injected-parameters"
    ]
   },
   "outputs": [],
   "source": [
    "# Parameters\n",
    "parameters = {\n",
    "    \"experiment_name\": \"tl_3-filterv2:cores -> oracle.run1.framed\",\n",
    "    \"device\": \"cuda\",\n",
    "    \"lr\": 0.0001,\n",
    "    \"x_shape\": [2, 200],\n",
    "    \"n_shot\": 3,\n",
    "    \"n_query\": 2,\n",
    "    \"train_k_factor\": 3,\n",
    "    \"val_k_factor\": 2,\n",
    "    \"test_k_factor\": 2,\n",
    "    \"torch_default_dtype\": \"torch.float32\",\n",
    "    \"n_epoch\": 50,\n",
    "    \"patience\": 3,\n",
    "    \"criteria_for_best\": \"target_accuracy\",\n",
    "    \"x_net\": [\n",
    "        {\"class\": \"nnReshape\", \"kargs\": {\"shape\": [-1, 1, 2, 200]}},\n",
    "        {\n",
    "            \"class\": \"Conv2d\",\n",
    "            \"kargs\": {\n",
    "                \"in_channels\": 1,\n",
    "                \"out_channels\": 256,\n",
    "                \"kernel_size\": [1, 7],\n",
    "                \"bias\": False,\n",
    "                \"padding\": [0, 3],\n",
    "            },\n",
    "        },\n",
    "        {\"class\": \"ReLU\", \"kargs\": {\"inplace\": True}},\n",
    "        {\"class\": \"BatchNorm2d\", \"kargs\": {\"num_features\": 256}},\n",
    "        {\n",
    "            \"class\": \"Conv2d\",\n",
    "            \"kargs\": {\n",
    "                \"in_channels\": 256,\n",
    "                \"out_channels\": 80,\n",
    "                \"kernel_size\": [2, 7],\n",
    "                \"bias\": True,\n",
    "                \"padding\": [0, 3],\n",
    "            },\n",
    "        },\n",
    "        {\"class\": \"ReLU\", \"kargs\": {\"inplace\": True}},\n",
    "        {\"class\": \"BatchNorm2d\", \"kargs\": {\"num_features\": 80}},\n",
    "        {\"class\": \"Flatten\", \"kargs\": {}},\n",
    "        {\"class\": \"Linear\", \"kargs\": {\"in_features\": 16000, \"out_features\": 256}},\n",
    "        {\"class\": \"ReLU\", \"kargs\": {\"inplace\": True}},\n",
    "        {\"class\": \"BatchNorm1d\", \"kargs\": {\"num_features\": 256}},\n",
    "        {\"class\": \"Linear\", \"kargs\": {\"in_features\": 256, \"out_features\": 256}},\n",
    "    ],\n",
    "    \"NUM_LOGS_PER_EPOCH\": 10,\n",
    "    \"BEST_MODEL_PATH\": \"./best_model.pth\",\n",
    "    \"n_way\": 16,\n",
    "    \"datasets\": [\n",
    "        {\n",
    "            \"labels\": [\n",
    "                \"1-10.\",\n",
    "                \"1-11.\",\n",
    "                \"1-15.\",\n",
    "                \"1-16.\",\n",
    "                \"1-17.\",\n",
    "                \"1-18.\",\n",
    "                \"1-19.\",\n",
    "                \"10-4.\",\n",
    "                \"10-7.\",\n",
    "                \"11-1.\",\n",
    "                \"11-14.\",\n",
    "                \"11-17.\",\n",
    "                \"11-20.\",\n",
    "                \"11-7.\",\n",
    "                \"13-20.\",\n",
    "                \"13-8.\",\n",
    "                \"14-10.\",\n",
    "                \"14-11.\",\n",
    "                \"14-14.\",\n",
    "                \"14-7.\",\n",
    "                \"15-1.\",\n",
    "                \"15-20.\",\n",
    "                \"16-1.\",\n",
    "                \"16-16.\",\n",
    "                \"17-10.\",\n",
    "                \"17-11.\",\n",
    "                \"17-2.\",\n",
    "                \"19-1.\",\n",
    "                \"19-16.\",\n",
    "                \"19-19.\",\n",
    "                \"19-20.\",\n",
    "                \"19-3.\",\n",
    "                \"2-10.\",\n",
    "                \"2-11.\",\n",
    "                \"2-17.\",\n",
    "                \"2-18.\",\n",
    "                \"2-20.\",\n",
    "                \"2-3.\",\n",
    "                \"2-4.\",\n",
    "                \"2-5.\",\n",
    "                \"2-6.\",\n",
    "                \"2-7.\",\n",
    "                \"2-8.\",\n",
    "                \"3-13.\",\n",
    "                \"3-18.\",\n",
    "                \"3-3.\",\n",
    "                \"4-1.\",\n",
    "                \"4-10.\",\n",
    "                \"4-11.\",\n",
    "                \"4-19.\",\n",
    "                \"5-5.\",\n",
    "                \"6-15.\",\n",
    "                \"7-10.\",\n",
    "                \"7-14.\",\n",
    "                \"8-18.\",\n",
    "                \"8-20.\",\n",
    "                \"8-3.\",\n",
    "                \"8-8.\",\n",
    "            ],\n",
    "            \"domains\": [1, 2, 3, 4, 5],\n",
    "            \"num_examples_per_domain_per_label\": -1,\n",
    "            \"pickle_path\": \"/mnt/wd500GB/CSC500/csc500-main/datasets/cores.stratified_ds.2022A.pkl\",\n",
    "            \"source_or_target_dataset\": \"source\",\n",
    "            \"x_transforms\": [\"unit_power\", \"lowpass_+/-10MHz\", \"take_200\"],\n",
    "            \"episode_transforms\": [],\n",
    "            \"domain_prefix\": \"C_\",\n",
    "        },\n",
    "        {\n",
    "            \"labels\": [\n",
    "                \"3123D52\",\n",
    "                \"3123D65\",\n",
    "                \"3123D79\",\n",
    "                \"3123D80\",\n",
    "                \"3123D54\",\n",
    "                \"3123D70\",\n",
    "                \"3123D7B\",\n",
    "                \"3123D89\",\n",
    "                \"3123D58\",\n",
    "                \"3123D76\",\n",
    "                \"3123D7D\",\n",
    "                \"3123EFE\",\n",
    "                \"3123D64\",\n",
    "                \"3123D78\",\n",
    "                \"3123D7E\",\n",
    "                \"3124E4A\",\n",
    "            ],\n",
    "            \"domains\": [32, 38, 8, 44, 14, 50, 20, 26],\n",
    "            \"num_examples_per_domain_per_label\": 2000,\n",
    "            \"pickle_path\": \"/mnt/wd500GB/CSC500/csc500-main/datasets/oracle.Run1_framed_2000Examples_stratified_ds.2022A.pkl\",\n",
    "            \"source_or_target_dataset\": \"target\",\n",
    "            \"x_transforms\": [\"unit_power\", \"take_200\", \"resample_20Msps_to_25Msps\"],\n",
    "            \"episode_transforms\": [],\n",
    "            \"domain_prefix\": \"O_\",\n",
    "        },\n",
    "    ],\n",
    "    \"seed\": 420,\n",
    "    \"dataset_seed\": 420,\n",
    "}\n"
   ]
  },
  {
   "cell_type": "code",
   "execution_count": 5,
   "id": "8fa1cc33",
   "metadata": {
    "execution": {
     "iopub.execute_input": "2022-03-25T15:55:20.711168Z",
     "iopub.status.busy": "2022-03-25T15:55:20.710896Z",
     "iopub.status.idle": "2022-03-25T15:55:20.722813Z",
     "shell.execute_reply": "2022-03-25T15:55:20.722543Z"
    },
    "papermill": {
     "duration": 0.027967,
     "end_time": "2022-03-25T15:55:20.722873",
     "exception": false,
     "start_time": "2022-03-25T15:55:20.694906",
     "status": "completed"
    },
    "tags": []
   },
   "outputs": [],
   "source": [
    "# Set this to True if you want to run this template directly\n",
    "STANDALONE = False\n",
    "if STANDALONE:\n",
    "    print(\"parameters not injected, running with standalone_parameters\")\n",
    "    parameters = standalone_parameters\n",
    "\n",
    "if not 'parameters' in locals() and not 'parameters' in globals():\n",
    "    raise Exception(\"Parameter injection failed\")\n",
    "\n",
    "#Use an easy dict for all the parameters\n",
    "p = EasyDict(parameters)\n",
    "\n",
    "if \"x_shape\" not in p:\n",
    "    p.x_shape = [2,256] # Default to this if we dont supply x_shape\n",
    "\n",
    "\n",
    "supplied_keys = set(p.keys())\n",
    "\n",
    "if  supplied_keys != required_parameters:\n",
    "    print(\"Parameters are incorrect\")\n",
    "    if len(supplied_keys - required_parameters)>0: print(\"Shouldn't have:\", str(supplied_keys - required_parameters))\n",
    "    if len(required_parameters - supplied_keys)>0: print(\"Need to have:\", str(required_parameters - supplied_keys))\n",
    "    raise RuntimeError(\"Parameters are incorrect\")"
   ]
  },
  {
   "cell_type": "code",
   "execution_count": 6,
   "id": "3a028d58",
   "metadata": {
    "execution": {
     "iopub.execute_input": "2022-03-25T15:55:20.752584Z",
     "iopub.status.busy": "2022-03-25T15:55:20.751270Z",
     "iopub.status.idle": "2022-03-25T15:55:20.766366Z",
     "shell.execute_reply": "2022-03-25T15:55:20.765893Z"
    },
    "papermill": {
     "duration": 0.030422,
     "end_time": "2022-03-25T15:55:20.766475",
     "exception": false,
     "start_time": "2022-03-25T15:55:20.736053",
     "status": "completed"
    },
    "tags": []
   },
   "outputs": [],
   "source": [
    "###################################\n",
    "# Set the RNGs and make it all deterministic\n",
    "###################################\n",
    "np.random.seed(p.seed)\n",
    "random.seed(p.seed)\n",
    "torch.manual_seed(p.seed)\n",
    "\n",
    "torch.use_deterministic_algorithms(True) "
   ]
  },
  {
   "cell_type": "code",
   "execution_count": 7,
   "id": "b691acf6",
   "metadata": {
    "execution": {
     "iopub.execute_input": "2022-03-25T15:55:20.804040Z",
     "iopub.status.busy": "2022-03-25T15:55:20.802374Z",
     "iopub.status.idle": "2022-03-25T15:55:20.814172Z",
     "shell.execute_reply": "2022-03-25T15:55:20.814567Z"
    },
    "papermill": {
     "duration": 0.031024,
     "end_time": "2022-03-25T15:55:20.814695",
     "exception": false,
     "start_time": "2022-03-25T15:55:20.783671",
     "status": "completed"
    },
    "tags": []
   },
   "outputs": [],
   "source": [
    "###########################################\n",
    "# The stratified datasets honor this\n",
    "###########################################\n",
    "torch.set_default_dtype(eval(p.torch_default_dtype))"
   ]
  },
  {
   "cell_type": "code",
   "execution_count": 8,
   "id": "b5fba671",
   "metadata": {
    "execution": {
     "iopub.execute_input": "2022-03-25T15:55:20.852953Z",
     "iopub.status.busy": "2022-03-25T15:55:20.846687Z",
     "iopub.status.idle": "2022-03-25T15:55:20.883730Z",
     "shell.execute_reply": "2022-03-25T15:55:20.883275Z"
    },
    "papermill": {
     "duration": 0.052103,
     "end_time": "2022-03-25T15:55:20.883842",
     "exception": false,
     "start_time": "2022-03-25T15:55:20.831739",
     "status": "completed"
    },
    "tags": []
   },
   "outputs": [],
   "source": [
    "###################################\n",
    "# Build the network(s)\n",
    "# Note: It's critical to do this AFTER setting the RNG\n",
    "###################################\n",
    "x_net = build_sequential(p.x_net)"
   ]
  },
  {
   "cell_type": "code",
   "execution_count": 9,
   "id": "5d7e61cc",
   "metadata": {
    "execution": {
     "iopub.execute_input": "2022-03-25T15:55:20.926222Z",
     "iopub.status.busy": "2022-03-25T15:55:20.918510Z",
     "iopub.status.idle": "2022-03-25T15:55:20.933412Z",
     "shell.execute_reply": "2022-03-25T15:55:20.932959Z"
    },
    "papermill": {
     "duration": 0.030384,
     "end_time": "2022-03-25T15:55:20.933512",
     "exception": false,
     "start_time": "2022-03-25T15:55:20.903128",
     "status": "completed"
    },
    "tags": []
   },
   "outputs": [],
   "source": [
    "start_time_secs = time.time()"
   ]
  },
  {
   "cell_type": "code",
   "execution_count": 10,
   "id": "c6b67dfd",
   "metadata": {
    "execution": {
     "iopub.execute_input": "2022-03-25T15:55:20.967997Z",
     "iopub.status.busy": "2022-03-25T15:55:20.967192Z",
     "iopub.status.idle": "2022-03-25T15:55:20.982678Z",
     "shell.execute_reply": "2022-03-25T15:55:20.982186Z"
    },
    "papermill": {
     "duration": 0.031395,
     "end_time": "2022-03-25T15:55:20.982779",
     "exception": false,
     "start_time": "2022-03-25T15:55:20.951384",
     "status": "completed"
    },
    "tags": []
   },
   "outputs": [],
   "source": [
    "p.domains_source = []\n",
    "p.domains_target = []\n",
    "\n",
    "\n",
    "train_original_source = []\n",
    "val_original_source   = []\n",
    "test_original_source  = []\n",
    "\n",
    "train_original_target = []\n",
    "val_original_target   = []\n",
    "test_original_target  = []"
   ]
  },
  {
   "cell_type": "code",
   "execution_count": 11,
   "id": "e3d9c3d3",
   "metadata": {
    "execution": {
     "iopub.execute_input": "2022-03-25T15:55:21.019293Z",
     "iopub.status.busy": "2022-03-25T15:55:21.017040Z",
     "iopub.status.idle": "2022-03-25T15:55:21.032537Z",
     "shell.execute_reply": "2022-03-25T15:55:21.032310Z"
    },
    "papermill": {
     "duration": 0.030536,
     "end_time": "2022-03-25T15:55:21.032592",
     "exception": false,
     "start_time": "2022-03-25T15:55:21.002056",
     "status": "completed"
    },
    "tags": []
   },
   "outputs": [],
   "source": [
    "# global_x_transform_func = lambda x: normalize(x.to(torch.get_default_dtype()), \"unit_power\") # unit_power, unit_mag\n",
    "# global_x_transform_func = lambda x: normalize(x, \"unit_power\") # unit_power, unit_mag"
   ]
  },
  {
   "cell_type": "code",
   "execution_count": 12,
   "id": "acb78fd2",
   "metadata": {
    "execution": {
     "iopub.execute_input": "2022-03-25T15:55:21.067772Z",
     "iopub.status.busy": "2022-03-25T15:55:21.067505Z",
     "iopub.status.idle": "2022-03-25T15:55:21.081103Z",
     "shell.execute_reply": "2022-03-25T15:55:21.080839Z"
    },
    "papermill": {
     "duration": 0.034942,
     "end_time": "2022-03-25T15:55:21.081160",
     "exception": false,
     "start_time": "2022-03-25T15:55:21.046218",
     "status": "completed"
    },
    "tags": []
   },
   "outputs": [],
   "source": [
    "def add_dataset(\n",
    "    labels,\n",
    "    domains,\n",
    "    pickle_path,\n",
    "    x_transforms,\n",
    "    episode_transforms,\n",
    "    domain_prefix,\n",
    "    num_examples_per_domain_per_label,\n",
    "    source_or_target_dataset:str,\n",
    "    iterator_seed=p.seed,\n",
    "    dataset_seed=p.dataset_seed,\n",
    "    n_shot=p.n_shot,\n",
    "    n_way=p.n_way,\n",
    "    n_query=p.n_query,\n",
    "    train_val_test_k_factors=(p.train_k_factor,p.val_k_factor,p.test_k_factor),\n",
    "):\n",
    "   \n",
    "    if x_transforms == []: x_transform = None\n",
    "    else: x_transform = get_chained_transform(x_transforms)\n",
    "    \n",
    "    if episode_transforms == []: episode_transform = None\n",
    "    else: raise Exception(\"episode_transforms not implemented\")\n",
    "    \n",
    "    episode_transform = lambda tup, _prefix=domain_prefix: (_prefix + str(tup[0]), tup[1])\n",
    "\n",
    "\n",
    "    eaf = Episodic_Accessor_Factory(\n",
    "        labels=labels,\n",
    "        domains=domains,\n",
    "        num_examples_per_domain_per_label=num_examples_per_domain_per_label,\n",
    "        iterator_seed=iterator_seed,\n",
    "        dataset_seed=dataset_seed,\n",
    "        n_shot=n_shot,\n",
    "        n_way=n_way,\n",
    "        n_query=n_query,\n",
    "        train_val_test_k_factors=train_val_test_k_factors,\n",
    "        pickle_path=pickle_path,\n",
    "        x_transform_func=x_transform,\n",
    "    )\n",
    "\n",
    "    train, val, test = eaf.get_train(), eaf.get_val(), eaf.get_test()\n",
    "    train = Lazy_Iterable_Wrapper(train, episode_transform)\n",
    "    val = Lazy_Iterable_Wrapper(val, episode_transform)\n",
    "    test = Lazy_Iterable_Wrapper(test, episode_transform)\n",
    "\n",
    "    if source_or_target_dataset==\"source\":\n",
    "        train_original_source.append(train)\n",
    "        val_original_source.append(val)\n",
    "        test_original_source.append(test)\n",
    "\n",
    "        p.domains_source.extend(\n",
    "            [domain_prefix + str(u) for u in domains]\n",
    "        )\n",
    "    elif source_or_target_dataset==\"target\":\n",
    "        train_original_target.append(train)\n",
    "        val_original_target.append(val)\n",
    "        test_original_target.append(test)\n",
    "        p.domains_target.extend(\n",
    "            [domain_prefix + str(u) for u in domains]\n",
    "        )\n",
    "    else:\n",
    "        raise Exception(f\"invalid source_or_target_dataset: {source_or_target_dataset}\")\n",
    "    "
   ]
  },
  {
   "cell_type": "code",
   "execution_count": 13,
   "id": "fe266617",
   "metadata": {
    "execution": {
     "iopub.execute_input": "2022-03-25T15:55:21.115722Z",
     "iopub.status.busy": "2022-03-25T15:55:21.111068Z",
     "iopub.status.idle": "2022-03-25T15:56:14.833065Z",
     "shell.execute_reply": "2022-03-25T15:56:14.832813Z"
    },
    "papermill": {
     "duration": 53.738417,
     "end_time": "2022-03-25T15:56:14.833131",
     "exception": false,
     "start_time": "2022-03-25T15:55:21.094714",
     "status": "completed"
    },
    "tags": []
   },
   "outputs": [],
   "source": [
    "for ds in p.datasets:\n",
    "    add_dataset(**ds)"
   ]
  },
  {
   "cell_type": "code",
   "execution_count": 14,
   "id": "b90d65ac",
   "metadata": {
    "execution": {
     "iopub.execute_input": "2022-03-25T15:56:14.873906Z",
     "iopub.status.busy": "2022-03-25T15:56:14.873630Z",
     "iopub.status.idle": "2022-03-25T15:56:14.889470Z",
     "shell.execute_reply": "2022-03-25T15:56:14.888786Z"
    },
    "papermill": {
     "duration": 0.036363,
     "end_time": "2022-03-25T15:56:14.889633",
     "exception": false,
     "start_time": "2022-03-25T15:56:14.853270",
     "status": "completed"
    },
    "tags": []
   },
   "outputs": [],
   "source": [
    "# from steves_utils.CORES.utils import (\n",
    "#     ALL_NODES,\n",
    "#     ALL_NODES_MINIMUM_1000_EXAMPLES,\n",
    "#     ALL_DAYS\n",
    "# )\n",
    "\n",
    "# add_dataset(\n",
    "#     labels=ALL_NODES,\n",
    "#     domains = ALL_DAYS,\n",
    "#     num_examples_per_domain_per_label=100,\n",
    "#     pickle_path=os.path.join(get_datasets_base_path(), \"cores.stratified_ds.2022A.pkl\"),\n",
    "#     source_or_target_dataset=\"target\",\n",
    "#     x_transform_func=global_x_transform_func,\n",
    "#     domain_modifier=lambda u: f\"cores_{u}\"\n",
    "# )"
   ]
  },
  {
   "cell_type": "code",
   "execution_count": 15,
   "id": "76db484d",
   "metadata": {
    "execution": {
     "iopub.execute_input": "2022-03-25T15:56:14.924796Z",
     "iopub.status.busy": "2022-03-25T15:56:14.924434Z",
     "iopub.status.idle": "2022-03-25T15:56:14.935229Z",
     "shell.execute_reply": "2022-03-25T15:56:14.934801Z"
    },
    "papermill": {
     "duration": 0.029859,
     "end_time": "2022-03-25T15:56:14.935319",
     "exception": false,
     "start_time": "2022-03-25T15:56:14.905460",
     "status": "completed"
    },
    "tags": []
   },
   "outputs": [],
   "source": [
    "# from steves_utils.ORACLE.utils_v2 import (\n",
    "#     ALL_DISTANCES_FEET,\n",
    "#     ALL_RUNS,\n",
    "#     ALL_SERIAL_NUMBERS,\n",
    "# )\n",
    "\n",
    "\n",
    "# add_dataset(\n",
    "#     labels=ALL_SERIAL_NUMBERS,\n",
    "#     domains = list(set(ALL_DISTANCES_FEET) - {2,62}),\n",
    "#     num_examples_per_domain_per_label=100,\n",
    "#     pickle_path=os.path.join(get_datasets_base_path(), \"oracle.Run2_framed_2000Examples_stratified_ds.2022A.pkl\"),\n",
    "#     source_or_target_dataset=\"source\",\n",
    "#     x_transform_func=global_x_transform_func,\n",
    "#     domain_modifier=lambda u: f\"oracle1_{u}\"\n",
    "# )\n"
   ]
  },
  {
   "cell_type": "code",
   "execution_count": 16,
   "id": "97dea9d2",
   "metadata": {
    "execution": {
     "iopub.execute_input": "2022-03-25T15:56:14.970752Z",
     "iopub.status.busy": "2022-03-25T15:56:14.970388Z",
     "iopub.status.idle": "2022-03-25T15:56:14.984549Z",
     "shell.execute_reply": "2022-03-25T15:56:14.984065Z"
    },
    "papermill": {
     "duration": 0.03323,
     "end_time": "2022-03-25T15:56:14.984632",
     "exception": false,
     "start_time": "2022-03-25T15:56:14.951402",
     "status": "completed"
    },
    "tags": []
   },
   "outputs": [],
   "source": [
    "# from steves_utils.ORACLE.utils_v2 import (\n",
    "#     ALL_DISTANCES_FEET,\n",
    "#     ALL_RUNS,\n",
    "#     ALL_SERIAL_NUMBERS,\n",
    "# )\n",
    "\n",
    "\n",
    "# add_dataset(\n",
    "#     labels=ALL_SERIAL_NUMBERS,\n",
    "#     domains = list(set(ALL_DISTANCES_FEET) - {2,62,56}),\n",
    "#     num_examples_per_domain_per_label=100,\n",
    "#     pickle_path=os.path.join(get_datasets_base_path(), \"oracle.Run2_framed_2000Examples_stratified_ds.2022A.pkl\"),\n",
    "#     source_or_target_dataset=\"source\",\n",
    "#     x_transform_func=global_x_transform_func,\n",
    "#     domain_modifier=lambda u: f\"oracle2_{u}\"\n",
    "# )"
   ]
  },
  {
   "cell_type": "code",
   "execution_count": 17,
   "id": "6f289866",
   "metadata": {
    "execution": {
     "iopub.execute_input": "2022-03-25T15:56:15.020120Z",
     "iopub.status.busy": "2022-03-25T15:56:15.019852Z",
     "iopub.status.idle": "2022-03-25T15:56:15.032503Z",
     "shell.execute_reply": "2022-03-25T15:56:15.032243Z"
    },
    "papermill": {
     "duration": 0.030749,
     "end_time": "2022-03-25T15:56:15.032560",
     "exception": false,
     "start_time": "2022-03-25T15:56:15.001811",
     "status": "completed"
    },
    "tags": []
   },
   "outputs": [],
   "source": [
    "# add_dataset(\n",
    "#     labels=list(range(19)),\n",
    "#     domains = [0,1,2],\n",
    "#     num_examples_per_domain_per_label=100,\n",
    "#     pickle_path=os.path.join(get_datasets_base_path(), \"metehan.stratified_ds.2022A.pkl\"),\n",
    "#     source_or_target_dataset=\"target\",\n",
    "#     x_transform_func=global_x_transform_func,\n",
    "#     domain_modifier=lambda u: f\"met_{u}\"\n",
    "# )"
   ]
  },
  {
   "cell_type": "code",
   "execution_count": 18,
   "id": "86a863c3",
   "metadata": {
    "execution": {
     "iopub.execute_input": "2022-03-25T15:56:15.066779Z",
     "iopub.status.busy": "2022-03-25T15:56:15.066421Z",
     "iopub.status.idle": "2022-03-25T15:56:15.078750Z",
     "shell.execute_reply": "2022-03-25T15:56:15.078972Z"
    },
    "papermill": {
     "duration": 0.030215,
     "end_time": "2022-03-25T15:56:15.079039",
     "exception": false,
     "start_time": "2022-03-25T15:56:15.048824",
     "status": "completed"
    },
    "tags": []
   },
   "outputs": [],
   "source": [
    "# # from steves_utils.wisig.utils import (\n",
    "# #     ALL_NODES_MINIMUM_100_EXAMPLES,\n",
    "# #     ALL_NODES_MINIMUM_500_EXAMPLES,\n",
    "# #     ALL_NODES_MINIMUM_1000_EXAMPLES,\n",
    "# #     ALL_DAYS\n",
    "# # )\n",
    "\n",
    "# import steves_utils.wisig.utils as wisig\n",
    "\n",
    "\n",
    "# add_dataset(\n",
    "#     labels=wisig.ALL_NODES_MINIMUM_100_EXAMPLES,\n",
    "#     domains = wisig.ALL_DAYS,\n",
    "#     num_examples_per_domain_per_label=100,\n",
    "#     pickle_path=os.path.join(get_datasets_base_path(), \"wisig.node3-19.stratified_ds.2022A.pkl\"),\n",
    "#     source_or_target_dataset=\"target\",\n",
    "#     x_transform_func=global_x_transform_func,\n",
    "#     domain_modifier=lambda u: f\"wisig_{u}\"\n",
    "# )"
   ]
  },
  {
   "cell_type": "code",
   "execution_count": 19,
   "id": "fd5442bc",
   "metadata": {
    "execution": {
     "iopub.execute_input": "2022-03-25T15:56:15.119035Z",
     "iopub.status.busy": "2022-03-25T15:56:15.118753Z",
     "iopub.status.idle": "2022-03-25T15:56:15.137758Z",
     "shell.execute_reply": "2022-03-25T15:56:15.137154Z"
    },
    "papermill": {
     "duration": 0.038601,
     "end_time": "2022-03-25T15:56:15.137905",
     "exception": false,
     "start_time": "2022-03-25T15:56:15.099304",
     "status": "completed"
    },
    "tags": []
   },
   "outputs": [],
   "source": [
    "###################################\n",
    "# Build the dataset\n",
    "###################################\n",
    "train_original_source = Iterable_Aggregator(train_original_source, p.seed)\n",
    "val_original_source = Iterable_Aggregator(val_original_source, p.seed)\n",
    "test_original_source = Iterable_Aggregator(test_original_source, p.seed)\n",
    "\n",
    "\n",
    "train_original_target = Iterable_Aggregator(train_original_target, p.seed)\n",
    "val_original_target = Iterable_Aggregator(val_original_target, p.seed)\n",
    "test_original_target = Iterable_Aggregator(test_original_target, p.seed)\n",
    "\n",
    "# For CNN We only use X and Y. And we only train on the source.\n",
    "# Properly form the data using a transform lambda and Lazy_Iterable_Wrapper. Finally wrap them in a dataloader\n",
    "\n",
    "transform_lambda = lambda ex: ex[1] # Original is (<domain>, <episode>) so we strip down to episode only\n",
    "\n",
    "train_processed_source = Lazy_Iterable_Wrapper(train_original_source, transform_lambda)\n",
    "val_processed_source   = Lazy_Iterable_Wrapper(val_original_source, transform_lambda)\n",
    "test_processed_source  = Lazy_Iterable_Wrapper(test_original_source, transform_lambda)\n",
    "\n",
    "train_processed_target = Lazy_Iterable_Wrapper(train_original_target, transform_lambda)\n",
    "val_processed_target   = Lazy_Iterable_Wrapper(val_original_target, transform_lambda)\n",
    "test_processed_target  = Lazy_Iterable_Wrapper(test_original_target, transform_lambda)\n",
    "\n",
    "datasets = EasyDict({\n",
    "    \"source\": {\n",
    "        \"original\": {\"train\":train_original_source, \"val\":val_original_source, \"test\":test_original_source},\n",
    "        \"processed\": {\"train\":train_processed_source, \"val\":val_processed_source, \"test\":test_processed_source}\n",
    "    },\n",
    "    \"target\": {\n",
    "        \"original\": {\"train\":train_original_target, \"val\":val_original_target, \"test\":test_original_target},\n",
    "        \"processed\": {\"train\":train_processed_target, \"val\":val_processed_target, \"test\":test_processed_target}\n",
    "    },\n",
    "})"
   ]
  },
  {
   "cell_type": "code",
   "execution_count": 20,
   "id": "5b3c01fc",
   "metadata": {
    "execution": {
     "iopub.execute_input": "2022-03-25T15:56:15.175640Z",
     "iopub.status.busy": "2022-03-25T15:56:15.175365Z",
     "iopub.status.idle": "2022-03-25T15:56:22.084785Z",
     "shell.execute_reply": "2022-03-25T15:56:22.085171Z"
    },
    "papermill": {
     "duration": 6.929963,
     "end_time": "2022-03-25T15:56:22.085280",
     "exception": false,
     "start_time": "2022-03-25T15:56:15.155317",
     "status": "completed"
    },
    "tags": []
   },
   "outputs": [
    {
     "name": "stdout",
     "output_type": "stream",
     "text": [
      "{'C_2', 'C_5', 'C_4', 'C_1', 'C_3'}\n"
     ]
    },
    {
     "name": "stdout",
     "output_type": "stream",
     "text": [
      "{'O_32', 'O_26', 'O_20', 'O_14', 'O_8', 'O_44', 'O_50', 'O_38'}\n"
     ]
    },
    {
     "name": "stdout",
     "output_type": "stream",
     "text": [
      "tensor([[[ 9.5654e-03,  1.8664e-02, -1.7554e-01,  ..., -3.2070e-02,\n",
      "           7.3829e-01,  4.2390e-01],\n",
      "         [ 2.2288e-02,  1.5800e-01,  4.2075e-01,  ..., -7.0357e-01,\n",
      "          -1.1646e-02,  2.6388e-02]],\n",
      "\n",
      "        [[ 1.6562e-02,  1.0342e-01,  1.8218e-01,  ..., -5.1486e-01,\n",
      "           1.8329e-01,  7.4977e-01],\n",
      "         [ 5.9453e-03,  6.2627e-02,  2.6846e-01,  ..., -1.2626e+00,\n",
      "          -2.9195e-01, -2.4286e-01]],\n",
      "\n",
      "        [[-2.2872e-02, -1.4443e-01, -2.9816e-01,  ...,  7.9001e-01,\n",
      "          -3.2126e-01, -3.6335e-01],\n",
      "         [-5.4602e-04, -3.8105e-02, -2.6984e-01,  ...,  4.6096e-01,\n",
      "           5.2076e-01,  4.7746e-01]],\n",
      "\n",
      "        ...,\n",
      "\n",
      "        [[ 3.7393e-03,  2.6999e-02,  8.5228e-02,  ...,  2.1995e-01,\n",
      "          -2.1400e-01, -8.3591e-02],\n",
      "         [-3.9659e-04, -3.3460e-03,  1.8403e-02,  ..., -5.1619e-01,\n",
      "           9.6911e-01,  1.3485e+00]],\n",
      "\n",
      "        [[-2.0737e-02, -1.5660e-01, -4.0260e-01,  ..., -1.1720e+00,\n",
      "          -8.3995e-01, -5.2107e-01],\n",
      "         [ 7.6224e-03,  4.0986e-03, -1.9197e-01,  ..., -8.1589e-01,\n",
      "          -2.8223e-01, -5.6254e-01]],\n",
      "\n",
      "        [[-3.5611e-02, -2.0833e-01, -3.4559e-01,  ..., -1.0702e+00,\n",
      "          -6.4401e-01, -2.7027e-01],\n",
      "         [-1.2565e-02, -1.2976e-01, -4.7076e-01,  ..., -6.0966e-01,\n",
      "          -2.9489e-01, -1.0031e+00]]])\n"
     ]
    }
   ],
   "source": [
    "from steves_utils.transforms import get_average_magnitude, get_average_power\n",
    "\n",
    "print(set([u for u,_ in val_original_source]))\n",
    "print(set([u for u,_ in val_original_target]))\n",
    "\n",
    "s_x, s_y, q_x, q_y, _ = next(iter(train_processed_source))\n",
    "print(s_x)\n",
    "\n",
    "# for ds in [\n",
    "#     train_processed_source,\n",
    "#     val_processed_source,\n",
    "#     test_processed_source,\n",
    "#     train_processed_target,\n",
    "#     val_processed_target,\n",
    "#     test_processed_target\n",
    "# ]:\n",
    "#     for s_x, s_y, q_x, q_y, _ in ds:\n",
    "#         for X in (s_x, q_x):\n",
    "#             for x in X:\n",
    "#                 assert np.isclose(get_average_magnitude(x.numpy()), 1.0)\n",
    "#                 assert np.isclose(get_average_power(x.numpy()), 1.0)\n",
    "                "
   ]
  },
  {
   "cell_type": "code",
   "execution_count": 21,
   "id": "bbdacba1",
   "metadata": {
    "execution": {
     "iopub.execute_input": "2022-03-25T15:56:22.123218Z",
     "iopub.status.busy": "2022-03-25T15:56:22.122942Z",
     "iopub.status.idle": "2022-03-25T15:56:22.175829Z",
     "shell.execute_reply": "2022-03-25T15:56:22.175391Z"
    },
    "papermill": {
     "duration": 0.071215,
     "end_time": "2022-03-25T15:56:22.175930",
     "exception": false,
     "start_time": "2022-03-25T15:56:22.104715",
     "status": "completed"
    },
    "tags": []
   },
   "outputs": [
    {
     "name": "stdout",
     "output_type": "stream",
     "text": [
      "(2, 200)\n"
     ]
    }
   ],
   "source": [
    "###################################\n",
    "# Build the model\n",
    "###################################\n",
    "# easfsl only wants a tuple for the shape\n",
    "model = Steves_Prototypical_Network(x_net, device=p.device, x_shape=tuple(p.x_shape))\n",
    "optimizer = Adam(params=model.parameters(), lr=p.lr)"
   ]
  },
  {
   "cell_type": "code",
   "execution_count": 22,
   "id": "22b39ac5",
   "metadata": {
    "execution": {
     "iopub.execute_input": "2022-03-25T15:56:22.218333Z",
     "iopub.status.busy": "2022-03-25T15:56:22.214935Z",
     "iopub.status.idle": "2022-03-25T16:43:26.462577Z",
     "shell.execute_reply": "2022-03-25T16:43:26.462293Z"
    },
    "papermill": {
     "duration": 2824.266052,
     "end_time": "2022-03-25T16:43:26.462646",
     "exception": false,
     "start_time": "2022-03-25T15:56:22.196594",
     "status": "completed"
    },
    "tags": []
   },
   "outputs": [
    {
     "name": "stdout",
     "output_type": "stream",
     "text": [
      "epoch: 1, [batch: 1 / 6315], examples_per_second: 48.7992, train_label_loss: 2.6423, \n"
     ]
    },
    {
     "name": "stdout",
     "output_type": "stream",
     "text": [
      "epoch: 1, [batch: 632 / 6315], examples_per_second: 1876.4125, train_label_loss: 0.0059, \n"
     ]
    },
    {
     "name": "stdout",
     "output_type": "stream",
     "text": [
      "epoch: 1, [batch: 1263 / 6315], examples_per_second: 1973.0540, train_label_loss: 0.0443, \n"
     ]
    },
    {
     "name": "stdout",
     "output_type": "stream",
     "text": [
      "epoch: 1, [batch: 1895 / 6315], examples_per_second: 2381.9750, train_label_loss: 0.0007, \n"
     ]
    },
    {
     "name": "stdout",
     "output_type": "stream",
     "text": [
      "epoch: 1, [batch: 2526 / 6315], examples_per_second: 2084.4140, train_label_loss: 0.0005, \n"
     ]
    },
    {
     "name": "stdout",
     "output_type": "stream",
     "text": [
      "epoch: 1, [batch: 3158 / 6315], examples_per_second: 1877.0595, train_label_loss: 0.0002, \n"
     ]
    },
    {
     "name": "stdout",
     "output_type": "stream",
     "text": [
      "epoch: 1, [batch: 3789 / 6315], examples_per_second: 1876.4213, train_label_loss: 0.0045, \n"
     ]
    },
    {
     "name": "stdout",
     "output_type": "stream",
     "text": [
      "epoch: 1, [batch: 4420 / 6315], examples_per_second: 1876.3225, train_label_loss: 0.0030, \n"
     ]
    },
    {
     "name": "stdout",
     "output_type": "stream",
     "text": [
      "epoch: 1, [batch: 5052 / 6315], examples_per_second: 1874.9523, train_label_loss: 0.0004, \n"
     ]
    },
    {
     "name": "stdout",
     "output_type": "stream",
     "text": [
      "epoch: 1, [batch: 5683 / 6315], examples_per_second: 1874.6053, train_label_loss: 0.0002, \n"
     ]
    },
    {
     "name": "stdout",
     "output_type": "stream",
     "text": [
      "=============================================================\n",
      "epoch: 1, source_val_acc_label: 0.9976, target_val_acc_label: 0.2841, source_val_label_loss: 0.0113, target_val_label_loss: 2.1607, \n",
      "=============================================================\n"
     ]
    },
    {
     "name": "stdout",
     "output_type": "stream",
     "text": [
      "New best\n"
     ]
    },
    {
     "name": "stdout",
     "output_type": "stream",
     "text": [
      "epoch: 2, [batch: 1 / 6307], examples_per_second: 2.8383, train_label_loss: 0.0005, \n"
     ]
    },
    {
     "name": "stdout",
     "output_type": "stream",
     "text": [
      "epoch: 2, [batch: 631 / 6307], examples_per_second: 1877.6841, train_label_loss: 0.0001, \n"
     ]
    },
    {
     "name": "stdout",
     "output_type": "stream",
     "text": [
      "epoch: 2, [batch: 1262 / 6307], examples_per_second: 1975.0411, train_label_loss: 0.0000, \n"
     ]
    },
    {
     "name": "stdout",
     "output_type": "stream",
     "text": [
      "epoch: 2, [batch: 1892 / 6307], examples_per_second: 2371.0889, train_label_loss: 0.0000, \n"
     ]
    },
    {
     "name": "stdout",
     "output_type": "stream",
     "text": [
      "epoch: 2, [batch: 2523 / 6307], examples_per_second: 2071.9251, train_label_loss: 0.0002, \n"
     ]
    },
    {
     "name": "stdout",
     "output_type": "stream",
     "text": [
      "epoch: 2, [batch: 3154 / 6307], examples_per_second: 1879.9004, train_label_loss: 0.0000, \n"
     ]
    },
    {
     "name": "stdout",
     "output_type": "stream",
     "text": [
      "epoch: 2, [batch: 3784 / 6307], examples_per_second: 1877.9489, train_label_loss: 0.0000, \n"
     ]
    },
    {
     "name": "stdout",
     "output_type": "stream",
     "text": [
      "epoch: 2, [batch: 4415 / 6307], examples_per_second: 1878.5300, train_label_loss: 0.0062, \n"
     ]
    },
    {
     "name": "stdout",
     "output_type": "stream",
     "text": [
      "epoch: 2, [batch: 5045 / 6307], examples_per_second: 1880.2014, train_label_loss: 0.0007, \n"
     ]
    },
    {
     "name": "stdout",
     "output_type": "stream",
     "text": [
      "epoch: 2, [batch: 5676 / 6307], examples_per_second: 1875.4561, train_label_loss: 0.0001, \n"
     ]
    },
    {
     "name": "stdout",
     "output_type": "stream",
     "text": [
      "=============================================================\n",
      "epoch: 2, source_val_acc_label: 0.9977, target_val_acc_label: 0.2977, source_val_label_loss: 0.0142, target_val_label_loss: 2.2838, \n",
      "=============================================================\n"
     ]
    },
    {
     "name": "stdout",
     "output_type": "stream",
     "text": [
      "New best\n"
     ]
    },
    {
     "name": "stdout",
     "output_type": "stream",
     "text": [
      "epoch: 3, [batch: 1 / 6326], examples_per_second: 2.8412, train_label_loss: 0.0000, \n"
     ]
    },
    {
     "name": "stdout",
     "output_type": "stream",
     "text": [
      "epoch: 3, [batch: 633 / 6326], examples_per_second: 1877.7793, train_label_loss: 0.0000, \n"
     ]
    },
    {
     "name": "stdout",
     "output_type": "stream",
     "text": [
      "epoch: 3, [batch: 1266 / 6326], examples_per_second: 1967.7497, train_label_loss: 0.0001, \n"
     ]
    },
    {
     "name": "stdout",
     "output_type": "stream",
     "text": [
      "epoch: 3, [batch: 1898 / 6326], examples_per_second: 2363.4567, train_label_loss: 0.0717, \n"
     ]
    },
    {
     "name": "stdout",
     "output_type": "stream",
     "text": [
      "epoch: 3, [batch: 2531 / 6326], examples_per_second: 2105.3721, train_label_loss: 0.0000, \n"
     ]
    },
    {
     "name": "stdout",
     "output_type": "stream",
     "text": [
      "epoch: 3, [batch: 3163 / 6326], examples_per_second: 1879.2681, train_label_loss: 0.0000, \n"
     ]
    },
    {
     "name": "stdout",
     "output_type": "stream",
     "text": [
      "epoch: 3, [batch: 3796 / 6326], examples_per_second: 1878.8342, train_label_loss: 0.0016, \n"
     ]
    },
    {
     "name": "stdout",
     "output_type": "stream",
     "text": [
      "epoch: 3, [batch: 4428 / 6326], examples_per_second: 1877.1815, train_label_loss: 0.0000, \n"
     ]
    },
    {
     "name": "stdout",
     "output_type": "stream",
     "text": [
      "epoch: 3, [batch: 5061 / 6326], examples_per_second: 1879.3954, train_label_loss: 0.0000, \n"
     ]
    },
    {
     "name": "stdout",
     "output_type": "stream",
     "text": [
      "epoch: 3, [batch: 5693 / 6326], examples_per_second: 1878.7666, train_label_loss: 0.0000, \n"
     ]
    },
    {
     "name": "stdout",
     "output_type": "stream",
     "text": [
      "=============================================================\n",
      "epoch: 3, source_val_acc_label: 0.9994, target_val_acc_label: 0.2881, source_val_label_loss: 0.0059, target_val_label_loss: 2.8367, \n",
      "=============================================================\n"
     ]
    },
    {
     "name": "stdout",
     "output_type": "stream",
     "text": [
      "epoch: 4, [batch: 1 / 6302], examples_per_second: 2.8283, train_label_loss: 0.0000, \n"
     ]
    },
    {
     "name": "stdout",
     "output_type": "stream",
     "text": [
      "epoch: 4, [batch: 631 / 6302], examples_per_second: 1877.9623, train_label_loss: 0.0000, \n"
     ]
    },
    {
     "name": "stdout",
     "output_type": "stream",
     "text": [
      "epoch: 4, [batch: 1261 / 6302], examples_per_second: 1972.9748, train_label_loss: 0.0000, \n"
     ]
    },
    {
     "name": "stdout",
     "output_type": "stream",
     "text": [
      "epoch: 4, [batch: 1891 / 6302], examples_per_second: 2360.5196, train_label_loss: 0.0000, \n"
     ]
    },
    {
     "name": "stdout",
     "output_type": "stream",
     "text": [
      "epoch: 4, [batch: 2521 / 6302], examples_per_second: 2110.5001, train_label_loss: 0.0000, \n"
     ]
    },
    {
     "name": "stdout",
     "output_type": "stream",
     "text": [
      "epoch: 4, [batch: 3151 / 6302], examples_per_second: 1877.5898, train_label_loss: 0.0000, \n"
     ]
    },
    {
     "name": "stdout",
     "output_type": "stream",
     "text": [
      "epoch: 4, [batch: 3781 / 6302], examples_per_second: 1880.7198, train_label_loss: 0.0000, \n"
     ]
    },
    {
     "name": "stdout",
     "output_type": "stream",
     "text": [
      "epoch: 4, [batch: 4411 / 6302], examples_per_second: 1879.6859, train_label_loss: 0.0000, \n"
     ]
    },
    {
     "name": "stdout",
     "output_type": "stream",
     "text": [
      "epoch: 4, [batch: 5041 / 6302], examples_per_second: 1878.4747, train_label_loss: 0.0003, \n"
     ]
    },
    {
     "name": "stdout",
     "output_type": "stream",
     "text": [
      "epoch: 4, [batch: 5671 / 6302], examples_per_second: 1877.6150, train_label_loss: 0.0000, \n"
     ]
    },
    {
     "name": "stdout",
     "output_type": "stream",
     "text": [
      "=============================================================\n",
      "epoch: 4, source_val_acc_label: 0.9989, target_val_acc_label: 0.3053, source_val_label_loss: 0.0096, target_val_label_loss: 2.4227, \n",
      "=============================================================\n"
     ]
    },
    {
     "name": "stdout",
     "output_type": "stream",
     "text": [
      "New best\n"
     ]
    },
    {
     "name": "stdout",
     "output_type": "stream",
     "text": [
      "epoch: 5, [batch: 1 / 6324], examples_per_second: 2.8356, train_label_loss: 0.0000, \n"
     ]
    },
    {
     "name": "stdout",
     "output_type": "stream",
     "text": [
      "epoch: 5, [batch: 633 / 6324], examples_per_second: 1879.5779, train_label_loss: 0.0000, \n"
     ]
    },
    {
     "name": "stdout",
     "output_type": "stream",
     "text": [
      "epoch: 5, [batch: 1265 / 6324], examples_per_second: 1954.2949, train_label_loss: 0.0001, \n"
     ]
    },
    {
     "name": "stdout",
     "output_type": "stream",
     "text": [
      "epoch: 5, [batch: 1897 / 6324], examples_per_second: 2340.4362, train_label_loss: 0.0000, \n"
     ]
    },
    {
     "name": "stdout",
     "output_type": "stream",
     "text": [
      "epoch: 5, [batch: 2530 / 6324], examples_per_second: 2145.5971, train_label_loss: 0.0018, \n"
     ]
    },
    {
     "name": "stdout",
     "output_type": "stream",
     "text": [
      "epoch: 5, [batch: 3162 / 6324], examples_per_second: 1879.5969, train_label_loss: 0.0000, \n"
     ]
    },
    {
     "name": "stdout",
     "output_type": "stream",
     "text": [
      "epoch: 5, [batch: 3794 / 6324], examples_per_second: 1879.4407, train_label_loss: 0.0000, \n"
     ]
    },
    {
     "name": "stdout",
     "output_type": "stream",
     "text": [
      "epoch: 5, [batch: 4427 / 6324], examples_per_second: 1879.0008, train_label_loss: 0.0000, \n"
     ]
    },
    {
     "name": "stdout",
     "output_type": "stream",
     "text": [
      "epoch: 5, [batch: 5059 / 6324], examples_per_second: 1879.3313, train_label_loss: 0.0000, \n"
     ]
    },
    {
     "name": "stdout",
     "output_type": "stream",
     "text": [
      "epoch: 5, [batch: 5691 / 6324], examples_per_second: 1879.8404, train_label_loss: 0.0000, \n"
     ]
    },
    {
     "name": "stdout",
     "output_type": "stream",
     "text": [
      "=============================================================\n",
      "epoch: 5, source_val_acc_label: 0.9992, target_val_acc_label: 0.3195, source_val_label_loss: 0.0078, target_val_label_loss: 2.6234, \n",
      "=============================================================\n"
     ]
    },
    {
     "name": "stdout",
     "output_type": "stream",
     "text": [
      "New best\n"
     ]
    },
    {
     "name": "stdout",
     "output_type": "stream",
     "text": [
      "epoch: 6, [batch: 1 / 6313], examples_per_second: 2.8131, train_label_loss: 0.0000, \n"
     ]
    },
    {
     "name": "stdout",
     "output_type": "stream",
     "text": [
      "epoch: 6, [batch: 632 / 6313], examples_per_second: 1875.5582, train_label_loss: 0.0000, \n"
     ]
    },
    {
     "name": "stdout",
     "output_type": "stream",
     "text": [
      "epoch: 6, [batch: 1263 / 6313], examples_per_second: 1957.8445, train_label_loss: 0.0000, \n"
     ]
    },
    {
     "name": "stdout",
     "output_type": "stream",
     "text": [
      "epoch: 6, [batch: 1894 / 6313], examples_per_second: 2344.7667, train_label_loss: 0.0000, \n"
     ]
    },
    {
     "name": "stdout",
     "output_type": "stream",
     "text": [
      "epoch: 6, [batch: 2525 / 6313], examples_per_second: 2109.0735, train_label_loss: 0.0000, \n"
     ]
    },
    {
     "name": "stdout",
     "output_type": "stream",
     "text": [
      "epoch: 6, [batch: 3157 / 6313], examples_per_second: 1878.7481, train_label_loss: 0.0000, \n"
     ]
    },
    {
     "name": "stdout",
     "output_type": "stream",
     "text": [
      "epoch: 6, [batch: 3788 / 6313], examples_per_second: 1877.6515, train_label_loss: 0.0001, \n"
     ]
    },
    {
     "name": "stdout",
     "output_type": "stream",
     "text": [
      "epoch: 6, [batch: 4419 / 6313], examples_per_second: 1878.1541, train_label_loss: 0.0000, \n"
     ]
    },
    {
     "name": "stdout",
     "output_type": "stream",
     "text": [
      "epoch: 6, [batch: 5050 / 6313], examples_per_second: 1878.4356, train_label_loss: 0.0000, \n"
     ]
    },
    {
     "name": "stdout",
     "output_type": "stream",
     "text": [
      "epoch: 6, [batch: 5681 / 6313], examples_per_second: 1878.9313, train_label_loss: 0.0000, \n"
     ]
    },
    {
     "name": "stdout",
     "output_type": "stream",
     "text": [
      "=============================================================\n",
      "epoch: 6, source_val_acc_label: 0.9991, target_val_acc_label: 0.3312, source_val_label_loss: 0.0094, target_val_label_loss: 2.8830, \n",
      "=============================================================\n"
     ]
    },
    {
     "name": "stdout",
     "output_type": "stream",
     "text": [
      "New best\n"
     ]
    },
    {
     "name": "stdout",
     "output_type": "stream",
     "text": [
      "epoch: 7, [batch: 1 / 6295], examples_per_second: 2.8180, train_label_loss: 0.0000, \n"
     ]
    },
    {
     "name": "stdout",
     "output_type": "stream",
     "text": [
      "epoch: 7, [batch: 630 / 6295], examples_per_second: 1879.1428, train_label_loss: 0.0000, \n"
     ]
    },
    {
     "name": "stdout",
     "output_type": "stream",
     "text": [
      "epoch: 7, [batch: 1259 / 6295], examples_per_second: 1973.1801, train_label_loss: 0.0000, \n"
     ]
    },
    {
     "name": "stdout",
     "output_type": "stream",
     "text": [
      "epoch: 7, [batch: 1889 / 6295], examples_per_second: 2383.5688, train_label_loss: 0.0000, \n"
     ]
    },
    {
     "name": "stdout",
     "output_type": "stream",
     "text": [
      "epoch: 7, [batch: 2518 / 6295], examples_per_second: 2049.3975, train_label_loss: 0.0000, \n"
     ]
    },
    {
     "name": "stdout",
     "output_type": "stream",
     "text": [
      "epoch: 7, [batch: 3148 / 6295], examples_per_second: 1875.1820, train_label_loss: 0.0000, \n"
     ]
    },
    {
     "name": "stdout",
     "output_type": "stream",
     "text": [
      "epoch: 7, [batch: 3777 / 6295], examples_per_second: 1878.2672, train_label_loss: 0.0000, \n"
     ]
    },
    {
     "name": "stdout",
     "output_type": "stream",
     "text": [
      "epoch: 7, [batch: 4406 / 6295], examples_per_second: 1877.9236, train_label_loss: 0.0000, \n"
     ]
    },
    {
     "name": "stdout",
     "output_type": "stream",
     "text": [
      "epoch: 7, [batch: 5036 / 6295], examples_per_second: 1877.8286, train_label_loss: 0.0000, \n"
     ]
    },
    {
     "name": "stdout",
     "output_type": "stream",
     "text": [
      "epoch: 7, [batch: 5665 / 6295], examples_per_second: 1876.8223, train_label_loss: 0.0000, \n"
     ]
    },
    {
     "name": "stdout",
     "output_type": "stream",
     "text": [
      "=============================================================\n",
      "epoch: 7, source_val_acc_label: 0.9990, target_val_acc_label: 0.3289, source_val_label_loss: 0.0088, target_val_label_loss: 2.8646, \n",
      "=============================================================\n"
     ]
    },
    {
     "name": "stdout",
     "output_type": "stream",
     "text": [
      "epoch: 8, [batch: 1 / 6293], examples_per_second: 2.8346, train_label_loss: 0.0000, \n"
     ]
    },
    {
     "name": "stdout",
     "output_type": "stream",
     "text": [
      "epoch: 8, [batch: 630 / 6293], examples_per_second: 1878.0853, train_label_loss: 0.0000, \n"
     ]
    },
    {
     "name": "stdout",
     "output_type": "stream",
     "text": [
      "epoch: 8, [batch: 1259 / 6293], examples_per_second: 1971.8021, train_label_loss: 0.0000, \n"
     ]
    },
    {
     "name": "stdout",
     "output_type": "stream",
     "text": [
      "epoch: 8, [batch: 1888 / 6293], examples_per_second: 2370.8750, train_label_loss: 0.0000, \n"
     ]
    },
    {
     "name": "stdout",
     "output_type": "stream",
     "text": [
      "epoch: 8, [batch: 2517 / 6293], examples_per_second: 2109.3143, train_label_loss: 0.0000, \n"
     ]
    },
    {
     "name": "stdout",
     "output_type": "stream",
     "text": [
      "epoch: 8, [batch: 3147 / 6293], examples_per_second: 1876.9296, train_label_loss: 0.0000, \n"
     ]
    },
    {
     "name": "stdout",
     "output_type": "stream",
     "text": [
      "epoch: 8, [batch: 3776 / 6293], examples_per_second: 1878.4086, train_label_loss: 0.0000, \n"
     ]
    },
    {
     "name": "stdout",
     "output_type": "stream",
     "text": [
      "epoch: 8, [batch: 4405 / 6293], examples_per_second: 1878.4024, train_label_loss: 0.0000, \n"
     ]
    },
    {
     "name": "stdout",
     "output_type": "stream",
     "text": [
      "epoch: 8, [batch: 5034 / 6293], examples_per_second: 1876.9076, train_label_loss: 0.0000, \n"
     ]
    },
    {
     "name": "stdout",
     "output_type": "stream",
     "text": [
      "epoch: 8, [batch: 5663 / 6293], examples_per_second: 1878.3752, train_label_loss: 0.0015, \n"
     ]
    },
    {
     "name": "stdout",
     "output_type": "stream",
     "text": [
      "=============================================================\n",
      "epoch: 8, source_val_acc_label: 0.9991, target_val_acc_label: 0.2923, source_val_label_loss: 0.0076, target_val_label_loss: 2.9453, \n",
      "=============================================================\n"
     ]
    },
    {
     "name": "stdout",
     "output_type": "stream",
     "text": [
      "epoch: 9, [batch: 1 / 6315], examples_per_second: 2.8194, train_label_loss: 0.0000, \n"
     ]
    },
    {
     "name": "stdout",
     "output_type": "stream",
     "text": [
      "epoch: 9, [batch: 632 / 6315], examples_per_second: 1878.8206, train_label_loss: 0.0000, \n"
     ]
    },
    {
     "name": "stdout",
     "output_type": "stream",
     "text": [
      "epoch: 9, [batch: 1263 / 6315], examples_per_second: 1979.5717, train_label_loss: 0.0000, \n"
     ]
    },
    {
     "name": "stdout",
     "output_type": "stream",
     "text": [
      "epoch: 9, [batch: 1895 / 6315], examples_per_second: 2400.8083, train_label_loss: 0.0000, \n"
     ]
    },
    {
     "name": "stdout",
     "output_type": "stream",
     "text": [
      "epoch: 9, [batch: 2526 / 6315], examples_per_second: 2057.0731, train_label_loss: 0.0000, \n"
     ]
    },
    {
     "name": "stdout",
     "output_type": "stream",
     "text": [
      "epoch: 9, [batch: 3158 / 6315], examples_per_second: 1878.1417, train_label_loss: 0.0000, \n"
     ]
    },
    {
     "name": "stdout",
     "output_type": "stream",
     "text": [
      "epoch: 9, [batch: 3789 / 6315], examples_per_second: 1879.0647, train_label_loss: 0.0000, \n"
     ]
    },
    {
     "name": "stdout",
     "output_type": "stream",
     "text": [
      "epoch: 9, [batch: 4420 / 6315], examples_per_second: 1878.7463, train_label_loss: 0.0000, \n"
     ]
    },
    {
     "name": "stdout",
     "output_type": "stream",
     "text": [
      "epoch: 9, [batch: 5052 / 6315], examples_per_second: 1878.4574, train_label_loss: 0.0000, \n"
     ]
    },
    {
     "name": "stdout",
     "output_type": "stream",
     "text": [
      "epoch: 9, [batch: 5683 / 6315], examples_per_second: 1877.5031, train_label_loss: 0.0000, \n"
     ]
    },
    {
     "name": "stdout",
     "output_type": "stream",
     "text": [
      "=============================================================\n",
      "epoch: 9, source_val_acc_label: 0.9989, target_val_acc_label: 0.2852, source_val_label_loss: 0.0128, target_val_label_loss: 3.6488, \n",
      "=============================================================\n"
     ]
    },
    {
     "name": "stdout",
     "output_type": "stream",
     "text": [
      "epoch: 10, [batch: 1 / 6306], examples_per_second: 2.8458, train_label_loss: 0.0000, \n"
     ]
    },
    {
     "name": "stdout",
     "output_type": "stream",
     "text": [
      "epoch: 10, [batch: 631 / 6306], examples_per_second: 1878.2786, train_label_loss: 0.0000, \n"
     ]
    },
    {
     "name": "stdout",
     "output_type": "stream",
     "text": [
      "epoch: 10, [batch: 1262 / 6306], examples_per_second: 1961.4276, train_label_loss: 0.0000, \n"
     ]
    },
    {
     "name": "stdout",
     "output_type": "stream",
     "text": [
      "epoch: 10, [batch: 1892 / 6306], examples_per_second: 2346.5243, train_label_loss: 0.0000, \n"
     ]
    },
    {
     "name": "stdout",
     "output_type": "stream",
     "text": [
      "epoch: 10, [batch: 2523 / 6306], examples_per_second: 2345.1398, train_label_loss: 0.0000, \n"
     ]
    },
    {
     "name": "stdout",
     "output_type": "stream",
     "text": [
      "epoch: 10, [batch: 3153 / 6306], examples_per_second: 2339.6468, train_label_loss: 0.0000, \n"
     ]
    },
    {
     "name": "stdout",
     "output_type": "stream",
     "text": [
      "epoch: 10, [batch: 3784 / 6306], examples_per_second: 2257.3837, train_label_loss: 0.0000, \n"
     ]
    },
    {
     "name": "stdout",
     "output_type": "stream",
     "text": [
      "epoch: 10, [batch: 4414 / 6306], examples_per_second: 2219.8044, train_label_loss: 0.0000, \n"
     ]
    },
    {
     "name": "stdout",
     "output_type": "stream",
     "text": [
      "epoch: 10, [batch: 5045 / 6306], examples_per_second: 2689.7868, train_label_loss: 0.0000, \n"
     ]
    },
    {
     "name": "stdout",
     "output_type": "stream",
     "text": [
      "epoch: 10, [batch: 5675 / 6306], examples_per_second: 3602.5100, train_label_loss: 0.0000, \n"
     ]
    },
    {
     "name": "stdout",
     "output_type": "stream",
     "text": [
      "=============================================================\n",
      "epoch: 10, source_val_acc_label: 0.9995, target_val_acc_label: 0.3059, source_val_label_loss: 0.0080, target_val_label_loss: 3.8609, \n",
      "=============================================================\n"
     ]
    },
    {
     "name": "stdout",
     "output_type": "stream",
     "text": [
      "Patience (3) exhausted\n"
     ]
    }
   ],
   "source": [
    "###################################\n",
    "# train\n",
    "###################################\n",
    "jig = PTN_Train_Eval_Test_Jig(model, p.BEST_MODEL_PATH, p.device)\n",
    "\n",
    "jig.train(\n",
    "    train_iterable=datasets.source.processed.train,\n",
    "    source_val_iterable=datasets.source.processed.val,\n",
    "    target_val_iterable=datasets.target.processed.val,\n",
    "    num_epochs=p.n_epoch,\n",
    "    num_logs_per_epoch=p.NUM_LOGS_PER_EPOCH,\n",
    "    patience=p.patience,\n",
    "    optimizer=optimizer,\n",
    "    criteria_for_best=p.criteria_for_best,\n",
    ")"
   ]
  },
  {
   "cell_type": "code",
   "execution_count": 23,
   "id": "31e8fabf",
   "metadata": {
    "execution": {
     "iopub.execute_input": "2022-03-25T16:43:26.553275Z",
     "iopub.status.busy": "2022-03-25T16:43:26.552961Z",
     "iopub.status.idle": "2022-03-25T16:43:26.575175Z",
     "shell.execute_reply": "2022-03-25T16:43:26.575563Z"
    },
    "papermill": {
     "duration": 0.069168,
     "end_time": "2022-03-25T16:43:26.575705",
     "exception": false,
     "start_time": "2022-03-25T16:43:26.506537",
     "status": "completed"
    },
    "tags": []
   },
   "outputs": [],
   "source": [
    "total_experiment_time_secs = time.time() - start_time_secs"
   ]
  },
  {
   "cell_type": "code",
   "execution_count": 24,
   "id": "87b9595b",
   "metadata": {
    "execution": {
     "iopub.execute_input": "2022-03-25T16:43:26.663255Z",
     "iopub.status.busy": "2022-03-25T16:43:26.659320Z",
     "iopub.status.idle": "2022-03-25T16:45:01.573947Z",
     "shell.execute_reply": "2022-03-25T16:45:01.573686Z"
    },
    "papermill": {
     "duration": 94.954389,
     "end_time": "2022-03-25T16:45:01.574022",
     "exception": false,
     "start_time": "2022-03-25T16:43:26.619633",
     "status": "completed"
    },
    "tags": []
   },
   "outputs": [],
   "source": [
    "###################################\n",
    "# Evaluate the model\n",
    "###################################\n",
    "source_test_label_accuracy, source_test_label_loss = jig.test(datasets.source.processed.test)\n",
    "target_test_label_accuracy, target_test_label_loss = jig.test(datasets.target.processed.test)\n",
    "\n",
    "source_val_label_accuracy, source_val_label_loss = jig.test(datasets.source.processed.val)\n",
    "target_val_label_accuracy, target_val_label_loss = jig.test(datasets.target.processed.val)\n",
    "\n",
    "history = jig.get_history()\n",
    "\n",
    "total_epochs_trained = len(history[\"epoch_indices\"])\n",
    "\n",
    "val_dl = Iterable_Aggregator((datasets.source.original.val,datasets.target.original.val))\n",
    "\n",
    "confusion = ptn_confusion_by_domain_over_dataloader(model, p.device, val_dl)\n",
    "per_domain_accuracy = per_domain_accuracy_from_confusion(confusion)\n",
    "\n",
    "# Add a key to per_domain_accuracy for if it was a source domain\n",
    "for domain, accuracy in per_domain_accuracy.items():\n",
    "    per_domain_accuracy[domain] = {\n",
    "        \"accuracy\": accuracy,\n",
    "        \"source?\": domain in p.domains_source\n",
    "    }\n",
    "\n",
    "# Do an independent accuracy assesment JUST TO BE SURE!\n",
    "# _source_test_label_accuracy = independent_accuracy_assesment(model, datasets.source.processed.test, p.device)\n",
    "# _target_test_label_accuracy = independent_accuracy_assesment(model, datasets.target.processed.test, p.device)\n",
    "# _source_val_label_accuracy = independent_accuracy_assesment(model, datasets.source.processed.val, p.device)\n",
    "# _target_val_label_accuracy = independent_accuracy_assesment(model, datasets.target.processed.val, p.device)\n",
    "\n",
    "# assert(_source_test_label_accuracy == source_test_label_accuracy)\n",
    "# assert(_target_test_label_accuracy == target_test_label_accuracy)\n",
    "# assert(_source_val_label_accuracy == source_val_label_accuracy)\n",
    "# assert(_target_val_label_accuracy == target_val_label_accuracy)\n",
    "\n",
    "experiment = {\n",
    "    \"experiment_name\": p.experiment_name,\n",
    "    \"parameters\": dict(p),\n",
    "    \"results\": {\n",
    "        \"source_test_label_accuracy\": source_test_label_accuracy,\n",
    "        \"source_test_label_loss\": source_test_label_loss,\n",
    "        \"target_test_label_accuracy\": target_test_label_accuracy,\n",
    "        \"target_test_label_loss\": target_test_label_loss,\n",
    "        \"source_val_label_accuracy\": source_val_label_accuracy,\n",
    "        \"source_val_label_loss\": source_val_label_loss,\n",
    "        \"target_val_label_accuracy\": target_val_label_accuracy,\n",
    "        \"target_val_label_loss\": target_val_label_loss,\n",
    "        \"total_epochs_trained\": total_epochs_trained,\n",
    "        \"total_experiment_time_secs\": total_experiment_time_secs,\n",
    "        \"confusion\": confusion,\n",
    "        \"per_domain_accuracy\": per_domain_accuracy,\n",
    "    },\n",
    "    \"history\": history,\n",
    "    \"dataset_metrics\": get_dataset_metrics(datasets, \"ptn\"),\n",
    "}"
   ]
  },
  {
   "cell_type": "code",
   "execution_count": 25,
   "id": "54a21829",
   "metadata": {
    "execution": {
     "iopub.execute_input": "2022-03-25T16:45:01.647341Z",
     "iopub.status.busy": "2022-03-25T16:45:01.646765Z",
     "iopub.status.idle": "2022-03-25T16:45:01.806877Z",
     "shell.execute_reply": "2022-03-25T16:45:01.806398Z"
    },
    "papermill": {
     "duration": 0.197561,
     "end_time": "2022-03-25T16:45:01.806979",
     "exception": false,
     "start_time": "2022-03-25T16:45:01.609418",
     "status": "completed"
    },
    "tags": []
   },
   "outputs": [
    {
     "data": {
      "image/png": "[encoded data removed]",
      "text/plain": [
       "<Figure size 1080x504 with 1 Axes>"
      ]
     },
     "metadata": {
      "needs_background": "light"
     },
     "output_type": "display_data"
    }
   ],
   "source": [
    "ax = get_loss_curve(experiment)\n",
    "plt.show()"
   ]
  },
  {
   "cell_type": "code",
   "execution_count": 26,
   "id": "fd8a0f60",
   "metadata": {
    "execution": {
     "iopub.execute_input": "2022-03-25T16:45:01.885099Z",
     "iopub.status.busy": "2022-03-25T16:45:01.884839Z",
     "iopub.status.idle": "2022-03-25T16:45:02.040582Z",
     "shell.execute_reply": "2022-03-25T16:45:02.040313Z"
    },
    "papermill": {
     "duration": 0.194207,
     "end_time": "2022-03-25T16:45:02.040637",
     "exception": false,
     "start_time": "2022-03-25T16:45:01.846430",
     "status": "completed"
    },
    "tags": []
   },
   "outputs": [
    {
     "data": {
      "text/plain": [
       "<AxesSubplot:title={'center':'Results'}>"
      ]
     },
     "execution_count": 26,
     "metadata": {},
     "output_type": "execute_result"
    },
    {
     "data": {
      "image/png": "[encoded data removed]",
      "text/plain": [
       "<Figure size 1080x504 with 1 Axes>"
      ]
     },
     "metadata": {
      "needs_background": "light"
     },
     "output_type": "display_data"
    }
   ],
   "source": [
    "get_results_table(experiment)"
   ]
  },
  {
   "cell_type": "code",
   "execution_count": 27,
   "id": "cf8dc689",
   "metadata": {
    "execution": {
     "iopub.execute_input": "2022-03-25T16:45:02.123996Z",
     "iopub.status.busy": "2022-03-25T16:45:02.122855Z",
     "iopub.status.idle": "2022-03-25T16:45:02.268108Z",
     "shell.execute_reply": "2022-03-25T16:45:02.268339Z"
    },
    "papermill": {
     "duration": 0.185321,
     "end_time": "2022-03-25T16:45:02.268423",
     "exception": false,
     "start_time": "2022-03-25T16:45:02.083102",
     "status": "completed"
    },
    "tags": []
   },
   "outputs": [
    {
     "data": {
      "text/plain": [
       "<AxesSubplot:title={'center':'Per Domain Validation Accuracy'}, xlabel='domain'>"
      ]
     },
     "execution_count": 27,
     "metadata": {},
     "output_type": "execute_result"
    },
    {
     "data": {
      "image/png": "[encoded data removed]",
      "text/plain": [
       "<Figure size 1080x504 with 1 Axes>"
      ]
     },
     "metadata": {
      "needs_background": "light"
     },
     "output_type": "display_data"
    }
   ],
   "source": [
    "get_domain_accuracies(experiment)"
   ]
  },
  {
   "cell_type": "code",
   "execution_count": 28,
   "id": "a74ae082",
   "metadata": {
    "execution": {
     "iopub.execute_input": "2022-03-25T16:45:02.348349Z",
     "iopub.status.busy": "2022-03-25T16:45:02.347939Z",
     "iopub.status.idle": "2022-03-25T16:45:02.360439Z",
     "shell.execute_reply": "2022-03-25T16:45:02.360667Z"
    },
    "papermill": {
     "duration": 0.052662,
     "end_time": "2022-03-25T16:45:02.360744",
     "exception": false,
     "start_time": "2022-03-25T16:45:02.308082",
     "status": "completed"
    },
    "tags": []
   },
   "outputs": [
    {
     "name": "stdout",
     "output_type": "stream",
     "text": [
      "Source Test Label Accuracy: 0.9992240406320542 Target Test Label Accuracy: 0.32903645833333334\n",
      "Source Val Label Accuracy: 0.9991428571428571 Target Val Label Accuracy: 0.33125\n"
     ]
    }
   ],
   "source": [
    "print(\"Source Test Label Accuracy:\", experiment[\"results\"][\"source_test_label_accuracy\"], \"Target Test Label Accuracy:\", experiment[\"results\"][\"target_test_label_accuracy\"])\n",
    "print(\"Source Val Label Accuracy:\", experiment[\"results\"][\"source_val_label_accuracy\"], \"Target Val Label Accuracy:\", experiment[\"results\"][\"target_val_label_accuracy\"])"
   ]
  },
  {
   "cell_type": "code",
   "execution_count": 29,
   "id": "dacca602",
   "metadata": {
    "execution": {
     "iopub.execute_input": "2022-03-25T16:45:02.440648Z",
     "iopub.status.busy": "2022-03-25T16:45:02.440129Z",
     "iopub.status.idle": "2022-03-25T16:45:02.454495Z",
     "shell.execute_reply": "2022-03-25T16:45:02.454904Z"
    },
    "papermill": {
     "duration": 0.054857,
     "end_time": "2022-03-25T16:45:02.455031",
     "exception": false,
     "start_time": "2022-03-25T16:45:02.400174",
     "status": "completed"
    },
    "tags": [
     "experiment_json"
    ]
   },
   "outputs": [
    {
     "data": {
      "text/plain": [
       "'{\"experiment_name\": \"tl_3-filterv2:cores -> oracle.run1.framed\", \"parameters\": {\"experiment_name\": \"tl_3-filterv2:cores -> oracle.run1.framed\", \"device\": \"cuda\", \"lr\": 0.0001, \"x_shape\": [2, 200], \"n_shot\": 3, \"n_query\": 2, \"train_k_factor\": 3, \"val_k_factor\": 2, \"test_k_factor\": 2, \"torch_default_dtype\": \"torch.float32\", \"n_epoch\": 50, \"patience\": 3, \"criteria_for_best\": \"target_accuracy\", \"x_net\": [{\"class\": \"nnReshape\", \"kargs\": {\"shape\": [-1, 1, 2, 200]}}, {\"class\": \"Conv2d\", \"kargs\": {\"in_channels\": 1, \"out_channels\": 256, \"kernel_size\": [1, 7], \"bias\": false, \"padding\": [0, 3]}}, {\"class\": \"ReLU\", \"kargs\": {\"inplace\": true}}, {\"class\": \"BatchNorm2d\", \"kargs\": {\"num_features\": 256}}, {\"class\": \"Conv2d\", \"kargs\": {\"in_channels\": 256, \"out_channels\": 80, \"kernel_size\": [2, 7], \"bias\": true, \"padding\": [0, 3]}}, {\"class\": \"ReLU\", \"kargs\": {\"inplace\": true}}, {\"class\": \"BatchNorm2d\", \"kargs\": {\"num_features\": 80}}, {\"class\": \"Flatten\", \"kargs\": {}}, {\"class\": \"Linear\", \"kargs\": {\"in_features\": 16000, \"out_features\": 256}}, {\"class\": \"ReLU\", \"kargs\": {\"inplace\": true}}, {\"class\": \"BatchNorm1d\", \"kargs\": {\"num_features\": 256}}, {\"class\": \"Linear\", \"kargs\": {\"in_features\": 256, \"out_features\": 256}}], \"NUM_LOGS_PER_EPOCH\": 10, \"BEST_MODEL_PATH\": \"./best_model.pth\", \"n_way\": 16, \"datasets\": [{\"labels\": [\"1-10.\", \"1-11.\", \"1-15.\", \"1-16.\", \"1-17.\", \"1-18.\", \"1-19.\", \"10-4.\", \"10-7.\", \"11-1.\", \"11-14.\", \"11-17.\", \"11-20.\", \"11-7.\", \"13-20.\", \"13-8.\", \"14-10.\", \"14-11.\", \"14-14.\", \"14-7.\", \"15-1.\", \"15-20.\", \"16-1.\", \"16-16.\", \"17-10.\", \"17-11.\", \"17-2.\", \"19-1.\", \"19-16.\", \"19-19.\", \"19-20.\", \"19-3.\", \"2-10.\", \"2-11.\", \"2-17.\", \"2-18.\", \"2-20.\", \"2-3.\", \"2-4.\", \"2-5.\", \"2-6.\", \"2-7.\", \"2-8.\", \"3-13.\", \"3-18.\", \"3-3.\", \"4-1.\", \"4-10.\", \"4-11.\", \"4-19.\", \"5-5.\", \"6-15.\", \"7-10.\", \"7-14.\", \"8-18.\", \"8-20.\", \"8-3.\", \"8-8.\"], \"domains\": [1, 2, 3, 4, 5], \"num_examples_per_domain_per_label\": -1, \"pickle_path\": \"/mnt/wd500GB/CSC500/csc500-main/datasets/cores.stratified_ds.2022A.pkl\", \"source_or_target_dataset\": \"source\", \"x_transforms\": [\"unit_power\", \"lowpass_+/-10MHz\", \"take_200\"], \"episode_transforms\": [], \"domain_prefix\": \"C_\"}, {\"labels\": [\"3123D52\", \"3123D65\", \"3123D79\", \"3123D80\", \"3123D54\", \"3123D70\", \"3123D7B\", \"3123D89\", \"3123D58\", \"3123D76\", \"3123D7D\", \"3123EFE\", \"3123D64\", \"3123D78\", \"3123D7E\", \"3124E4A\"], \"domains\": [32, 38, 8, 44, 14, 50, 20, 26], \"num_examples_per_domain_per_label\": 2000, \"pickle_path\": \"/mnt/wd500GB/CSC500/csc500-main/datasets/oracle.Run1_framed_2000Examples_stratified_ds.2022A.pkl\", \"source_or_target_dataset\": \"target\", \"x_transforms\": [\"unit_power\", \"take_200\", \"resample_20Msps_to_25Msps\"], \"episode_transforms\": [], \"domain_prefix\": \"O_\"}], \"seed\": 420, \"dataset_seed\": 420, \"domains_source\": [\"C_1\", \"C_2\", \"C_3\", \"C_4\", \"C_5\"], \"domains_target\": [\"O_32\", \"O_38\", \"O_8\", \"O_44\", \"O_14\", \"O_50\", \"O_20\", \"O_26\"]}, \"results\": {\"source_test_label_accuracy\": 0.9992240406320542, \"source_test_label_loss\": 0.008265851065516472, \"target_test_label_accuracy\": 0.32903645833333334, \"target_test_label_loss\": 2.9020259380340576, \"source_val_label_accuracy\": 0.9991428571428571, \"source_val_label_loss\": 0.009398936294019222, \"target_val_label_accuracy\": 0.33125, \"target_val_label_loss\": 2.882951259613037, \"total_epochs_trained\": 10, \"total_experiment_time_secs\": 2885.641799926758, \"confusion\": {\"C_4\": {\"42\": {\"42\": 32}, \"0\": {\"0\": 80}, \"1\": {\"1\": 40}, \"39\": {\"39\": 20}, \"28\": {\"28\": 32}, \"53\": {\"53\": 124}, \"19\": {\"19\": 144}, \"34\": {\"34\": 24}, \"33\": {\"33\": 36}, \"32\": {\"32\": 24}, \"10\": {\"10\": 136}, \"46\": {\"46\": 134}, \"20\": {\"20\": 122}, \"5\": {\"5\": 106, \"3\": 1, \"16\": 1}, \"40\": {\"40\": 124}, \"51\": {\"51\": 144}, \"37\": {\"37\": 24}, \"17\": {\"17\": 80}, \"45\": {\"45\": 96}, \"13\": {\"13\": 142}, \"27\": {\"27\": 144}, \"24\": {\"24\": 56}, \"30\": {\"30\": 44}, \"31\": {\"31\": 28}, \"41\": {\"41\": 34, \"10\": 1, \"13\": 1}, \"36\": {\"36\": 92}, \"16\": {\"16\": 96}, \"22\": {\"22\": 128}, \"44\": {\"44\": 131, \"29\": 1}, \"9\": {\"9\": 140}, \"57\": {\"57\": 100}, \"8\": {\"8\": 138}, \"23\": {\"23\": 132}, \"47\": {\"47\": 120}, \"43\": {\"43\": 138}, \"49\": {\"49\": 20}, \"3\": {\"3\": 121, \"5\": 1, \"50\": 2}, \"12\": {\"12\": 92}, \"38\": {\"38\": 40}, \"7\": {\"7\": 24}, \"14\": {\"14\": 16}, \"15\": {\"15\": 146}, \"25\": {\"25\": 128}, \"26\": {\"26\": 24}, \"21\": {\"21\": 132}, \"48\": {\"48\": 144}, \"56\": {\"56\": 134}, \"11\": {\"11\": 104}, \"2\": {\"2\": 36}, \"6\": {\"6\": 111, \"3\": 1}, \"55\": {\"55\": 140}, \"54\": {\"54\": 108}, \"29\": {\"29\": 124}, \"50\": {\"50\": 119, \"3\": 3}, \"52\": {\"52\": 116}, \"35\": {\"35\": 40}, \"4\": {\"4\": 120}, \"18\": {\"18\": 108}}, \"C_5\": {\"43\": {\"43\": 152}, \"35\": {\"35\": 36}, \"54\": {\"54\": 112}, \"22\": {\"22\": 28}, \"16\": {\"16\": 146}, \"5\": {\"5\": 128}, \"28\": {\"28\": 32}, \"14\": {\"14\": 43, \"57\": 1}, \"51\": {\"51\": 128}, \"19\": {\"19\": 140}, \"31\": {\"31\": 36}, \"10\": {\"10\": 67, \"24\": 1}, \"21\": {\"21\": 136}, \"3\": {\"3\": 100}, \"57\": {\"57\": 132}, \"9\": {\"9\": 146}, \"8\": {\"8\": 132}, \"46\": {\"46\": 139, \"14\": 1}, \"23\": {\"23\": 124}, \"37\": {\"37\": 24}, \"34\": {\"34\": 36}, \"4\": {\"4\": 100}, \"6\": {\"6\": 127, \"9\": 1}, \"48\": {\"48\": 136}, \"44\": {\"44\": 138}, \"40\": {\"40\": 124}, \"12\": {\"12\": 96}, \"30\": {\"30\": 128}, \"39\": {\"39\": 20}, \"45\": {\"45\": 124}, \"36\": {\"36\": 92}, \"27\": {\"27\": 140}, \"32\": {\"32\": 32}, \"52\": {\"52\": 130}, \"0\": {\"0\": 124}, \"26\": {\"26\": 24}, \"1\": {\"1\": 148}, \"53\": {\"53\": 146}, \"25\": {\"25\": 144}, \"24\": {\"24\": 80}, \"7\": {\"7\": 32}, \"18\": {\"18\": 64}, \"20\": {\"20\": 144}, \"33\": {\"33\": 32}, \"55\": {\"55\": 140}, \"41\": {\"41\": 28}, \"42\": {\"42\": 39, \"14\": 1}, \"49\": {\"49\": 36}, \"13\": {\"13\": 148}, \"38\": {\"38\": 32}, \"2\": {\"2\": 28}, \"47\": {\"47\": 100}, \"17\": {\"17\": 116}, \"11\": {\"11\": 154}, \"29\": {\"29\": 132}, \"50\": {\"50\": 138}, \"56\": {\"56\": 148}, \"15\": {\"15\": 142}}, \"C_2\": {\"49\": {\"49\": 24}, \"13\": {\"13\": 116}, \"37\": {\"37\": 36}, \"41\": {\"41\": 20}, \"15\": {\"15\": 142}, \"56\": {\"56\": 142}, \"14\": {\"14\": 23, \"29\": 1}, \"3\": {\"3\": 92}, \"38\": {\"38\": 20}, \"43\": {\"43\": 138}, \"33\": {\"33\": 28}, \"47\": {\"47\": 138}, \"30\": {\"30\": 144}, \"39\": {\"39\": 28}, \"12\": {\"12\": 92}, \"6\": {\"6\": 124}, \"51\": {\"51\": 134}, \"5\": {\"5\": 120}, \"34\": {\"34\": 28}, \"35\": {\"35\": 32}, \"0\": {\"0\": 48}, \"7\": {\"7\": 36}, \"24\": {\"24\": 96}, \"8\": {\"8\": 136}, \"20\": {\"20\": 124}, \"36\": {\"36\": 116}, \"42\": {\"42\": 36}, \"1\": {\"1\": 112}, \"4\": {\"4\": 148}, \"28\": {\"28\": 28}, \"50\": {\"50\": 136}, \"45\": {\"45\": 128}, \"18\": {\"18\": 48}, \"57\": {\"57\": 120}, \"46\": {\"46\": 128}, \"23\": {\"23\": 148}, \"27\": {\"27\": 138}, \"19\": {\"19\": 134}, \"22\": {\"22\": 136}, \"17\": {\"17\": 104}, \"55\": {\"55\": 136}, \"44\": {\"44\": 100}, \"26\": {\"26\": 24}, \"31\": {\"31\": 28}, \"16\": {\"16\": 130}, \"11\": {\"11\": 128}, \"25\": {\"25\": 126}, \"54\": {\"54\": 108}, \"32\": {\"32\": 28}, \"52\": {\"52\": 124}, \"40\": {\"40\": 132}, \"2\": {\"2\": 32}, \"10\": {\"10\": 110}, \"53\": {\"53\": 136}, \"9\": {\"9\": 150}, \"21\": {\"21\": 120}, \"48\": {\"48\": 138}, \"29\": {\"29\": 128}}, \"C_1\": {\"9\": {\"9\": 142}, \"25\": {\"25\": 128}, \"41\": {\"41\": 24}, \"29\": {\"29\": 140}, \"46\": {\"46\": 128}, \"4\": {\"4\": 132}, \"31\": {\"31\": 28}, \"36\": {\"36\": 64}, \"20\": {\"20\": 128}, \"7\": {\"7\": 28}, \"6\": {\"6\": 96}, \"16\": {\"16\": 138}, \"17\": {\"17\": 64}, \"50\": {\"50\": 148}, \"57\": {\"57\": 144}, \"23\": {\"23\": 136}, \"3\": {\"3\": 126}, \"53\": {\"53\": 140}, \"49\": {\"49\": 32}, \"56\": {\"56\": 152}, \"51\": {\"51\": 141, \"13\": 1}, \"26\": {\"26\": 24}, \"43\": {\"43\": 144}, \"22\": {\"22\": 136}, \"45\": {\"45\": 146}, \"13\": {\"13\": 152}, \"12\": {\"12\": 116}, \"54\": {\"54\": 104}, \"24\": {\"24\": 108}, \"44\": {\"44\": 136}, \"28\": {\"28\": 28}, \"33\": {\"33\": 32}, \"38\": {\"38\": 24}, \"0\": {\"0\": 144}, \"47\": {\"47\": 154}, \"42\": {\"42\": 40}, \"34\": {\"34\": 24}, \"48\": {\"48\": 142}, \"35\": {\"35\": 36}, \"2\": {\"2\": 36}, \"30\": {\"30\": 120}, \"18\": {\"18\": 72}, \"37\": {\"37\": 32}, \"1\": {\"1\": 100}, \"11\": {\"11\": 138}, \"55\": {\"55\": 130}, \"15\": {\"15\": 150}, \"10\": {\"10\": 96}, \"27\": {\"27\": 160}, \"19\": {\"19\": 146}, \"14\": {\"8\": 1, \"14\": 23}, \"8\": {\"8\": 140}, \"5\": {\"5\": 136}, \"39\": {\"39\": 28}, \"52\": {\"52\": 122}, \"21\": {\"21\": 124}, \"40\": {\"40\": 152}, \"32\": {\"32\": 32}}, \"C_3\": {\"56\": {\"56\": 120}, \"4\": {\"4\": 146}, \"34\": {\"34\": 32}, \"52\": {\"52\": 136}, \"32\": {\"32\": 28}, \"46\": {\"46\": 136}, \"12\": {\"12\": 92}, \"20\": {\"20\": 132}, \"54\": {\"54\": 100}, \"22\": {\"22\": 139, \"56\": 1}, \"26\": {\"26\": 24}, \"31\": {\"31\": 28}, \"10\": {\"10\": 64}, \"27\": {\"27\": 144}, \"40\": {\"40\": 136}, \"28\": {\"28\": 28}, \"5\": {\"5\": 116}, \"30\": {\"30\": 119, \"18\": 1}, \"7\": {\"7\": 36}, \"18\": {\"18\": 84}, \"39\": {\"39\": 16}, \"50\": {\"50\": 136}, \"49\": {\"49\": 20}, \"43\": {\"43\": 122}, \"29\": {\"29\": 114}, \"35\": {\"35\": 28}, \"13\": {\"13\": 124}, \"36\": {\"36\": 100}, \"11\": {\"11\": 146}, \"57\": {\"57\": 124}, \"9\": {\"9\": 130}, \"25\": {\"25\": 130}, \"16\": {\"16\": 126}, \"53\": {\"53\": 118}, \"33\": {\"33\": 28}, \"51\": {\"51\": 128}, \"44\": {\"44\": 88}, \"48\": {\"48\": 114}, \"6\": {\"6\": 88}, \"23\": {\"23\": 144}, \"1\": {\"1\": 100}, \"17\": {\"38\": 1, \"33\": 1, \"17\": 106}, \"21\": {\"21\": 122}, \"14\": {\"14\": 40}, \"55\": {\"55\": 144}, \"41\": {\"41\": 28}, \"3\": {\"3\": 138}, \"38\": {\"38\": 28}, \"2\": {\"2\": 32}, \"8\": {\"8\": 142}, \"37\": {\"37\": 28}, \"45\": {\"45\": 60}, \"42\": {\"42\": 28}, \"24\": {\"24\": 104}, \"15\": {\"15\": 136}, \"0\": {\"0\": 124}, \"47\": {\"47\": 92}, \"19\": {\"19\": 120}}, \"O_14\": {\"15\": {\"7\": 77, \"5\": 18, \"2\": 8, \"15\": 114, \"4\": 5, \"13\": 4, \"6\": 3, \"1\": 8, \"14\": 3}, \"5\": {\"1\": 41, \"5\": 33, \"2\": 34, \"13\": 11, \"4\": 35, \"3\": 22, \"14\": 23, \"0\": 3, \"7\": 6, \"8\": 10, \"6\": 13, \"15\": 9}, \"7\": {\"15\": 75, \"7\": 121, \"5\": 19, \"2\": 5, \"1\": 12, \"4\": 4, \"3\": 1, \"14\": 1, \"13\": 1, \"6\": 1}, \"4\": {\"14\": 16, \"15\": 9, \"4\": 40, \"3\": 49, \"2\": 27, \"5\": 35, \"6\": 11, \"13\": 15, \"1\": 16, \"10\": 7, \"8\": 7, \"7\": 3, \"0\": 4, \"11\": 1}, \"10\": {\"0\": 58, \"10\": 85, \"4\": 4, \"8\": 5, \"6\": 10, \"3\": 17, \"11\": 28, \"9\": 8, \"13\": 7, \"2\": 6, \"14\": 10, \"5\": 1, \"1\": 1}, \"11\": {\"9\": 52, \"10\": 35, \"0\": 49, \"11\": 88, \"13\": 3, \"14\": 4, \"12\": 6, \"3\": 1, \"8\": 1, \"2\": 1}, \"12\": {\"12\": 187, \"11\": 14, \"9\": 38, \"10\": 1}, \"0\": {\"0\": 76, \"11\": 28, \"10\": 44, \"3\": 23, \"9\": 21, \"6\": 6, \"14\": 16, \"8\": 9, \"13\": 2, \"5\": 2, \"4\": 8, \"1\": 1, \"2\": 4}, \"14\": {\"3\": 20, \"14\": 56, \"13\": 35, \"2\": 35, \"6\": 46, \"5\": 11, \"0\": 5, \"11\": 6, \"8\": 1, \"4\": 19, \"10\": 3, \"1\": 3}, \"8\": {\"1\": 20, \"4\": 10, \"8\": 155, \"5\": 11, \"0\": 15, \"9\": 14, \"3\": 12, \"10\": 1, \"11\": 1, \"14\": 1}, \"13\": {\"6\": 52, \"14\": 36, \"2\": 29, \"13\": 68, \"4\": 17, \"3\": 12, \"11\": 2, \"0\": 4, \"7\": 2, \"5\": 9, \"10\": 7, \"1\": 2}, \"6\": {\"6\": 58, \"2\": 34, \"14\": 40, \"5\": 9, \"3\": 12, \"13\": 61, \"4\": 15, \"0\": 3, \"11\": 2, \"15\": 3, \"10\": 1, \"1\": 2}, \"1\": {\"1\": 83, \"7\": 12, \"5\": 47, \"2\": 14, \"3\": 21, \"8\": 26, \"14\": 4, \"0\": 3, \"4\": 23, \"15\": 3, \"13\": 3, \"6\": 1}, \"3\": {\"5\": 23, \"3\": 56, \"1\": 10, \"4\": 33, \"2\": 25, \"0\": 24, \"10\": 14, \"6\": 10, \"14\": 24, \"8\": 12, \"11\": 4, \"13\": 5}, \"9\": {\"0\": 25, \"9\": 117, \"10\": 15, \"11\": 33, \"12\": 44, \"8\": 5, \"3\": 1}, \"2\": {\"1\": 10, \"13\": 25, \"6\": 28, \"2\": 53, \"5\": 31, \"0\": 8, \"3\": 13, \"15\": 11, \"14\": 32, \"4\": 23, \"7\": 4, \"11\": 1, \"8\": 1}}, \"O_20\": {\"4\": {\"13\": 2, \"8\": 24, \"7\": 16, \"6\": 8, \"4\": 42, \"0\": 17, \"5\": 15, \"10\": 31, \"12\": 15, \"3\": 14, \"14\": 20, \"2\": 13, \"9\": 9, \"1\": 9, \"15\": 4, \"11\": 1}, \"10\": {\"10\": 49, \"4\": 30, \"12\": 6, \"14\": 43, \"7\": 11, \"3\": 16, \"9\": 13, \"8\": 23, \"6\": 21, \"2\": 14, \"1\": 2, \"0\": 3, \"5\": 5, \"13\": 2, \"11\": 1, \"15\": 1}, \"15\": {\"15\": 32, \"5\": 23, \"0\": 32, \"2\": 22, \"9\": 19, \"7\": 14, \"13\": 14, \"12\": 22, \"3\": 17, \"8\": 4, \"1\": 32, \"10\": 2, \"6\": 1, \"4\": 5, \"11\": 1}, \"0\": {\"14\": 1, \"3\": 20, \"12\": 25, \"0\": 36, \"1\": 25, \"6\": 1, \"9\": 12, \"15\": 28, \"4\": 19, \"5\": 28, \"8\": 10, \"13\": 7, \"7\": 11, \"2\": 15, \"10\": 2}, \"6\": {\"6\": 58, \"14\": 45, \"4\": 12, \"10\": 31, \"0\": 3, \"3\": 11, \"7\": 18, \"8\": 28, \"2\": 5, \"9\": 9, \"11\": 16, \"5\": 2, \"12\": 1, \"13\": 1}, \"3\": {\"3\": 28, \"2\": 18, \"15\": 13, \"7\": 16, \"14\": 10, \"9\": 24, \"6\": 7, \"12\": 18, \"13\": 11, \"4\": 18, \"1\": 22, \"0\": 10, \"10\": 19, \"5\": 19, \"8\": 7}, \"7\": {\"10\": 16, \"4\": 18, \"2\": 34, \"1\": 9, \"14\": 12, \"3\": 21, \"9\": 14, \"13\": 16, \"8\": 21, \"6\": 20, \"7\": 22, \"5\": 11, \"0\": 13, \"11\": 4, \"12\": 6, \"15\": 3}, \"2\": {\"4\": 12, \"12\": 23, \"2\": 29, \"1\": 15, \"8\": 6, \"0\": 12, \"9\": 19, \"6\": 6, \"7\": 20, \"13\": 22, \"5\": 15, \"3\": 21, \"11\": 5, \"10\": 15, \"15\": 15, \"14\": 5}, \"8\": {\"15\": 5, \"9\": 11, \"12\": 14, \"14\": 27, \"2\": 11, \"8\": 40, \"6\": 18, \"10\": 30, \"4\": 25, \"7\": 20, \"3\": 10, \"0\": 8, \"5\": 11, \"13\": 5, \"11\": 3, \"1\": 2}, \"11\": {\"11\": 113, \"7\": 25, \"2\": 13, \"14\": 6, \"6\": 32, \"8\": 14, \"1\": 3, \"9\": 3, \"13\": 16, \"3\": 8, \"5\": 1, \"0\": 2, \"4\": 1, \"10\": 1, \"12\": 2}, \"14\": {\"4\": 20, \"7\": 21, \"14\": 51, \"6\": 41, \"3\": 5, \"10\": 35, \"2\": 10, \"8\": 34, \"11\": 7, \"5\": 5, \"12\": 1, \"0\": 2, \"9\": 5, \"13\": 1, \"15\": 2}, \"12\": {\"0\": 26, \"1\": 25, \"12\": 18, \"13\": 10, \"2\": 20, \"14\": 3, \"7\": 12, \"9\": 14, \"3\": 24, \"15\": 10, \"5\": 35, \"4\": 23, \"8\": 9, \"11\": 1, \"10\": 9, \"6\": 1}, \"13\": {\"0\": 11, \"12\": 9, \"13\": 56, \"3\": 18, \"7\": 24, \"11\": 12, \"2\": 24, \"1\": 18, \"5\": 16, \"4\": 3, \"9\": 21, \"8\": 6, \"6\": 5, \"14\": 2, \"15\": 11, \"10\": 4}, \"9\": {\"12\": 25, \"15\": 10, \"7\": 19, \"6\": 5, \"14\": 7, \"2\": 35, \"9\": 25, \"0\": 15, \"10\": 5, \"13\": 19, \"11\": 5, \"4\": 12, \"1\": 20, \"3\": 18, \"5\": 11, \"8\": 9}, \"5\": {\"15\": 25, \"2\": 10, \"7\": 10, \"9\": 15, \"5\": 37, \"1\": 38, \"4\": 14, \"14\": 3, \"10\": 7, \"13\": 9, \"3\": 16, \"12\": 20, \"8\": 8, \"0\": 28}, \"1\": {\"5\": 32, \"13\": 17, \"12\": 14, \"0\": 30, \"2\": 20, \"1\": 35, \"15\": 30, \"3\": 16, \"9\": 22, \"10\": 4, \"4\": 8, \"7\": 10, \"6\": 1, \"8\": 1}}, \"O_50\": {\"5\": {\"7\": 35, \"2\": 6, \"5\": 41, \"1\": 8, \"4\": 28, \"10\": 21, \"13\": 51, \"6\": 24, \"0\": 10, \"14\": 1, \"15\": 10, \"3\": 1, \"8\": 4}, \"12\": {\"9\": 58, \"11\": 32, \"14\": 44, \"12\": 104, \"15\": 1, \"1\": 1}, \"14\": {\"9\": 19, \"14\": 109, \"11\": 32, \"12\": 47, \"2\": 5, \"1\": 10, \"6\": 1, \"15\": 13, \"4\": 4}, \"4\": {\"13\": 21, \"5\": 28, \"1\": 52, \"15\": 41, \"12\": 1, \"4\": 46, \"6\": 32, \"7\": 3, \"11\": 6, \"0\": 5, \"10\": 2, \"14\": 1, \"9\": 2}, \"13\": {\"7\": 48, \"5\": 61, \"4\": 19, \"13\": 50, \"1\": 8, \"6\": 14, \"15\": 4, \"10\": 24, \"0\": 9, \"8\": 1, \"2\": 2}, \"10\": {\"5\": 22, \"0\": 46, \"8\": 27, \"7\": 38, \"10\": 81, \"4\": 2, \"13\": 18, \"2\": 6}, \"9\": {\"12\": 49, \"9\": 95, \"6\": 1, \"14\": 33, \"11\": 53, \"15\": 8, \"1\": 1}, \"15\": {\"12\": 2, \"4\": 25, \"15\": 88, \"11\": 23, \"6\": 33, \"1\": 53, \"5\": 4, \"14\": 5, \"9\": 4, \"13\": 2, \"7\": 1}, \"6\": {\"7\": 11, \"1\": 33, \"6\": 71, \"5\": 17, \"4\": 45, \"2\": 2, \"0\": 6, \"13\": 28, \"11\": 2, \"15\": 21, \"10\": 3, \"14\": 1}, \"2\": {\"2\": 138, \"5\": 9, \"1\": 10, \"10\": 5, \"14\": 3, \"0\": 63, \"4\": 6, \"8\": 1, \"6\": 4, \"7\": 1}, \"0\": {\"0\": 96, \"2\": 59, \"10\": 39, \"6\": 6, \"7\": 11, \"13\": 12, \"5\": 7, \"1\": 5, \"8\": 3, \"4\": 2}, \"11\": {\"11\": 89, \"9\": 52, \"4\": 8, \"14\": 28, \"12\": 17, \"1\": 14, \"15\": 26, \"6\": 6}, \"3\": {\"3\": 166, \"8\": 73, \"10\": 1}, \"8\": {\"0\": 5, \"8\": 139, \"10\": 44, \"3\": 44, \"7\": 5, \"5\": 2, \"2\": 1}, \"7\": {\"13\": 55, \"7\": 82, \"4\": 10, \"5\": 33, \"6\": 7, \"0\": 13, \"10\": 28, \"2\": 4, \"8\": 6, \"1\": 1, \"3\": 1}, \"1\": {\"1\": 84, \"15\": 39, \"11\": 14, \"5\": 8, \"6\": 25, \"4\": 37, \"2\": 12, \"7\": 4, \"14\": 8, \"10\": 1, \"0\": 2, \"13\": 4, \"9\": 2}}, \"O_26\": {\"7\": {\"3\": 36, \"10\": 21, \"8\": 10, \"5\": 19, \"15\": 22, \"1\": 13, \"4\": 22, \"2\": 24, \"13\": 4, \"14\": 15, \"0\": 13, \"6\": 6, \"7\": 19, \"9\": 16}, \"6\": {\"0\": 22, \"2\": 9, \"10\": 22, \"7\": 8, \"6\": 38, \"15\": 21, \"13\": 16, \"5\": 16, \"14\": 17, \"4\": 7, \"1\": 8, \"9\": 21, \"12\": 7, \"8\": 24, \"3\": 4}, \"14\": {\"1\": 20, \"7\": 20, \"0\": 20, \"6\": 13, \"15\": 12, \"4\": 30, \"10\": 33, \"9\": 16, \"5\": 7, \"14\": 28, \"8\": 17, \"3\": 10, \"13\": 6, \"2\": 8}, \"15\": {\"15\": 33, \"8\": 22, \"9\": 19, \"7\": 13, \"10\": 11, \"13\": 20, \"5\": 16, \"0\": 12, \"1\": 6, \"14\": 23, \"2\": 17, \"6\": 18, \"3\": 15, \"4\": 14, \"12\": 1}, \"5\": {\"8\": 9, \"15\": 21, \"5\": 40, \"13\": 53, \"9\": 29, \"10\": 9, \"1\": 5, \"2\": 18, \"6\": 13, \"7\": 7, \"14\": 8, \"3\": 11, \"4\": 7, \"0\": 8, \"11\": 1, \"12\": 1}, \"10\": {\"14\": 29, \"7\": 9, \"4\": 31, \"10\": 30, \"9\": 13, \"8\": 25, \"0\": 30, \"1\": 21, \"3\": 6, \"5\": 5, \"12\": 3, \"15\": 12, \"2\": 6, \"13\": 5, \"6\": 15}, \"4\": {\"10\": 22, \"0\": 21, \"3\": 17, \"6\": 19, \"1\": 26, \"15\": 8, \"9\": 14, \"13\": 2, \"7\": 16, \"4\": 33, \"5\": 7, \"8\": 17, \"2\": 11, \"14\": 27}, \"11\": {\"11\": 192, \"12\": 40, \"6\": 2, \"13\": 3, \"10\": 2, \"5\": 1}, \"13\": {\"13\": 53, \"8\": 15, \"15\": 26, \"6\": 22, \"5\": 54, \"9\": 18, \"14\": 3, \"7\": 8, \"11\": 3, \"2\": 14, \"0\": 2, \"4\": 4, \"10\": 7, \"3\": 7, \"12\": 1, \"1\": 3}, \"2\": {\"15\": 26, \"9\": 16, \"7\": 35, \"2\": 23, \"1\": 9, \"3\": 35, \"14\": 11, \"10\": 9, \"4\": 12, \"0\": 11, \"5\": 23, \"8\": 16, \"6\": 6, \"13\": 8}, \"0\": {\"4\": 23, \"5\": 12, \"15\": 10, \"0\": 28, \"10\": 30, \"8\": 15, \"14\": 27, \"6\": 22, \"9\": 9, \"1\": 28, \"7\": 8, \"3\": 13, \"2\": 11, \"13\": 4}, \"12\": {\"12\": 167, \"13\": 2, \"6\": 7, \"11\": 47, \"10\": 6, \"9\": 5, \"15\": 1, \"0\": 3, \"8\": 1, \"14\": 1}, \"3\": {\"3\": 48, \"8\": 14, \"15\": 14, \"7\": 23, \"14\": 19, \"5\": 15, \"4\": 15, \"1\": 21, \"9\": 16, \"2\": 33, \"0\": 8, \"10\": 9, \"13\": 4, \"6\": 1}, \"9\": {\"4\": 15, \"15\": 18, \"0\": 13, \"14\": 12, \"13\": 28, \"10\": 18, \"9\": 37, \"8\": 20, \"5\": 23, \"3\": 8, \"6\": 18, \"2\": 11, \"7\": 10, \"12\": 1, \"1\": 8}, \"8\": {\"14\": 15, \"5\": 16, \"8\": 29, \"10\": 27, \"6\": 19, \"2\": 16, \"1\": 15, \"13\": 10, \"15\": 17, \"9\": 14, \"4\": 16, \"0\": 23, \"7\": 13, \"3\": 10}, \"1\": {\"9\": 11, \"4\": 30, \"1\": 47, \"8\": 14, \"3\": 14, \"6\": 11, \"10\": 24, \"14\": 28, \"2\": 9, \"0\": 23, \"5\": 5, \"15\": 4, \"7\": 15, \"13\": 5}}, \"O_32\": {\"7\": {\"11\": 24, \"14\": 41, \"2\": 24, \"5\": 22, \"4\": 29, \"0\": 10, \"8\": 7, \"7\": 50, \"13\": 25, \"3\": 8}, \"2\": {\"2\": 97, \"4\": 37, \"8\": 15, \"0\": 39, \"13\": 9, \"5\": 8, \"14\": 12, \"7\": 21, \"11\": 1, \"9\": 1}, \"5\": {\"5\": 45, \"3\": 27, \"13\": 25, \"2\": 16, \"14\": 17, \"0\": 18, \"4\": 30, \"8\": 19, \"7\": 29, \"11\": 13, \"15\": 1}, \"6\": {\"6\": 205, \"10\": 26, \"12\": 9}, \"13\": {\"8\": 29, \"3\": 40, \"13\": 54, \"7\": 17, \"5\": 17, \"4\": 31, \"0\": 14, \"14\": 16, \"11\": 9, \"2\": 10, \"15\": 3}, \"4\": {\"7\": 26, \"4\": 57, \"2\": 31, \"5\": 28, \"0\": 32, \"13\": 25, \"8\": 14, \"11\": 9, \"3\": 3, \"14\": 14, \"15\": 1}, \"3\": {\"4\": 6, \"0\": 1, \"3\": 130, \"13\": 28, \"11\": 20, \"14\": 1, \"5\": 27, \"8\": 11, \"15\": 6, \"7\": 10}, \"0\": {\"4\": 34, \"2\": 55, \"0\": 58, \"11\": 6, \"7\": 9, \"5\": 17, \"8\": 28, \"14\": 8, \"13\": 22, \"3\": 2, \"15\": 1}, \"9\": {\"9\": 198, \"2\": 8, \"12\": 27, \"0\": 6, \"8\": 1}, \"12\": {\"12\": 215, \"9\": 17, \"6\": 8}, \"8\": {\"8\": 52, \"2\": 14, \"4\": 26, \"13\": 34, \"0\": 25, \"14\": 9, \"5\": 27, \"7\": 12, \"15\": 13, \"3\": 23, \"11\": 5}, \"14\": {\"14\": 48, \"7\": 42, \"8\": 5, \"5\": 20, \"11\": 52, \"13\": 17, \"4\": 9, \"3\": 12, \"2\": 20, \"0\": 15}, \"15\": {\"5\": 5, \"4\": 3, \"15\": 186, \"13\": 3, \"8\": 25, \"3\": 13, \"0\": 4, \"7\": 1}, \"11\": {\"14\": 53, \"7\": 40, \"11\": 64, \"2\": 5, \"3\": 17, \"13\": 18, \"5\": 20, \"8\": 12, \"4\": 7, \"0\": 4}, \"10\": {\"10\": 197, \"6\": 11, \"12\": 1, \"1\": 31}, \"1\": {\"1\": 205, \"10\": 34, \"6\": 1}}, \"O_44\": {\"11\": {\"7\": 7, \"11\": 110, \"6\": 32, \"13\": 71, \"9\": 15, \"4\": 1, \"14\": 1, \"2\": 3}, \"7\": {\"7\": 75, \"6\": 30, \"2\": 46, \"9\": 46, \"3\": 11, \"4\": 1, \"10\": 12, \"1\": 8, \"14\": 1, \"11\": 1, \"13\": 8, \"12\": 1}, \"6\": {\"13\": 38, \"6\": 80, \"9\": 45, \"7\": 37, \"4\": 2, \"11\": 21, \"2\": 14, \"14\": 1, \"10\": 2}, \"12\": {\"10\": 56, \"12\": 87, \"1\": 57, \"3\": 23, \"2\": 14, \"7\": 3}, \"4\": {\"4\": 114, \"14\": 63, \"13\": 11, \"5\": 15, \"0\": 6, \"15\": 19, \"6\": 2, \"9\": 4, \"3\": 2, \"11\": 3, \"7\": 1}, \"13\": {\"9\": 49, \"6\": 44, \"11\": 43, \"4\": 15, \"13\": 70, \"7\": 13, \"2\": 4, \"14\": 2}, \"8\": {\"5\": 36, \"8\": 104, \"0\": 76, \"14\": 3, \"15\": 20, \"4\": 1}, \"5\": {\"4\": 16, \"5\": 98, \"14\": 25, \"8\": 30, \"15\": 20, \"0\": 51}, \"14\": {\"14\": 90, \"4\": 75, \"15\": 37, \"11\": 2, \"5\": 15, \"0\": 12, \"9\": 1, \"13\": 4, \"8\": 3, \"7\": 1}, \"3\": {\"2\": 19, \"1\": 62, \"9\": 4, \"3\": 110, \"7\": 13, \"10\": 11, \"12\": 20, \"4\": 1}, \"10\": {\"10\": 102, \"12\": 45, \"1\": 36, \"2\": 38, \"11\": 1, \"3\": 6, \"6\": 2, \"7\": 9, \"9\": 1}, \"1\": {\"2\": 19, \"12\": 67, \"10\": 40, \"3\": 49, \"1\": 55, \"7\": 9, \"6\": 1}, \"2\": {\"10\": 44, \"12\": 12, \"3\": 17, \"2\": 65, \"1\": 28, \"7\": 48, \"6\": 10, \"9\": 16}, \"15\": {\"14\": 46, \"0\": 38, \"5\": 29, \"4\": 29, \"15\": 80, \"8\": 18}, \"9\": {\"7\": 45, \"1\": 4, \"6\": 40, \"9\": 58, \"2\": 24, \"4\": 8, \"11\": 15, \"13\": 35, \"10\": 2, \"12\": 1, \"3\": 7, \"14\": 1}, \"0\": {\"0\": 70, \"15\": 37, \"8\": 61, \"5\": 52, \"4\": 6, \"14\": 14}}, \"O_8\": {\"10\": {\"0\": 21, \"5\": 27, \"14\": 44, \"6\": 15, \"4\": 21, \"11\": 13, \"1\": 23, \"15\": 1, \"13\": 23, \"10\": 39, \"8\": 3, \"7\": 10}, \"6\": {\"0\": 41, \"6\": 35, \"15\": 16, \"13\": 30, \"7\": 26, \"4\": 21, \"5\": 2, \"11\": 5, \"8\": 20, \"2\": 17, \"1\": 4, \"3\": 2, \"14\": 12, \"12\": 5, \"10\": 4}, \"13\": {\"5\": 9, \"0\": 36, \"14\": 22, \"1\": 12, \"6\": 37, \"13\": 37, \"7\": 20, \"11\": 4, \"15\": 5, \"4\": 28, \"8\": 6, \"3\": 1, \"10\": 22, \"2\": 1}, \"3\": {\"3\": 82, \"12\": 43, \"15\": 24, \"2\": 60, \"4\": 3, \"6\": 6, \"0\": 6, \"8\": 6, \"13\": 1, \"7\": 9}, \"9\": {\"9\": 233, \"5\": 6, \"10\": 1}, \"1\": {\"6\": 11, \"13\": 14, \"14\": 35, \"11\": 39, \"1\": 47, \"5\": 28, \"4\": 17, \"10\": 23, \"0\": 12, \"15\": 2, \"7\": 4, \"8\": 7, \"3\": 1}, \"5\": {\"5\": 75, \"14\": 31, \"10\": 44, \"1\": 38, \"11\": 27, \"13\": 10, \"4\": 8, \"0\": 2, \"9\": 2, \"8\": 2, \"7\": 1}, \"11\": {\"10\": 15, \"11\": 64, \"1\": 58, \"14\": 37, \"13\": 10, \"5\": 17, \"8\": 14, \"6\": 5, \"0\": 7, \"4\": 11, \"15\": 1, \"7\": 1}, \"4\": {\"6\": 33, \"4\": 31, \"8\": 13, \"13\": 24, \"0\": 29, \"10\": 24, \"14\": 26, \"11\": 10, \"5\": 6, \"7\": 17, \"2\": 2, \"1\": 18, \"15\": 4, \"3\": 3}, \"14\": {\"5\": 14, \"6\": 17, \"1\": 23, \"4\": 30, \"13\": 19, \"11\": 24, \"0\": 24, \"14\": 40, \"10\": 29, \"7\": 12, \"8\": 6, \"15\": 1, \"12\": 1}, \"12\": {\"8\": 30, \"12\": 65, \"15\": 44, \"2\": 31, \"3\": 51, \"7\": 2, \"1\": 2, \"6\": 6, \"13\": 1, \"0\": 5, \"11\": 3}, \"7\": {\"4\": 21, \"7\": 45, \"2\": 13, \"6\": 28, \"3\": 9, \"1\": 5, \"13\": 19, \"8\": 27, \"15\": 12, \"0\": 30, \"12\": 8, \"11\": 12, \"14\": 10, \"10\": 1}, \"0\": {\"0\": 47, \"14\": 17, \"6\": 39, \"7\": 30, \"2\": 7, \"10\": 16, \"4\": 25, \"13\": 37, \"11\": 6, \"1\": 6, \"15\": 4, \"3\": 2, \"8\": 2, \"12\": 1, \"5\": 1}, \"15\": {\"12\": 44, \"15\": 49, \"3\": 31, \"4\": 7, \"2\": 35, \"7\": 13, \"11\": 3, \"6\": 9, \"8\": 41, \"0\": 6, \"13\": 1, \"1\": 1}, \"2\": {\"0\": 12, \"2\": 78, \"15\": 27, \"12\": 24, \"8\": 13, \"7\": 18, \"3\": 43, \"6\": 12, \"13\": 6, \"14\": 1, \"10\": 1, \"4\": 5}, \"8\": {\"4\": 17, \"0\": 7, \"6\": 27, \"1\": 7, \"15\": 39, \"8\": 46, \"7\": 26, \"11\": 16, \"12\": 24, \"13\": 9, \"2\": 10, \"14\": 6, \"3\": 4, \"10\": 2}}, \"O_38\": {\"4\": {\"12\": 51, \"4\": 179, \"7\": 5, \"11\": 1, \"0\": 3, \"10\": 1}, \"7\": {\"8\": 35, \"9\": 9, \"7\": 95, \"3\": 8, \"0\": 40, \"4\": 10, \"6\": 6, \"5\": 34, \"10\": 2, \"12\": 1}, \"12\": {\"12\": 154, \"4\": 62, \"14\": 5, \"10\": 7, \"15\": 1, \"7\": 1, \"0\": 7, \"13\": 1, \"8\": 2}, \"10\": {\"12\": 18, \"15\": 31, \"8\": 29, \"14\": 20, \"10\": 65, \"13\": 24, \"2\": 10, \"7\": 11, \"11\": 10, \"0\": 7, \"1\": 4, \"5\": 10, \"6\": 1}, \"0\": {\"8\": 26, \"0\": 65, \"3\": 19, \"7\": 51, \"5\": 37, \"6\": 9, \"9\": 3, \"4\": 5, \"12\": 5, \"10\": 10, \"15\": 4, \"13\": 3, \"1\": 3}, \"1\": {\"8\": 13, \"1\": 111, \"15\": 51, \"6\": 13, \"13\": 24, \"5\": 13, \"10\": 5, \"7\": 1, \"9\": 5, \"0\": 1, \"2\": 3}, \"5\": {\"8\": 45, \"13\": 10, \"1\": 19, \"3\": 5, \"0\": 22, \"7\": 34, \"5\": 41, \"6\": 32, \"9\": 11, \"15\": 17, \"10\": 4}, \"15\": {\"1\": 50, \"0\": 10, \"8\": 25, \"13\": 47, \"5\": 13, \"10\": 24, \"15\": 55, \"11\": 3, \"14\": 3, \"7\": 4, \"2\": 4, \"12\": 1, \"6\": 1}, \"9\": {\"9\": 88, \"6\": 75, \"7\": 9, \"1\": 10, \"3\": 29, \"5\": 18, \"8\": 3, \"0\": 8}, \"11\": {\"10\": 19, \"11\": 111, \"14\": 70, \"2\": 20, \"13\": 7, \"12\": 9, \"15\": 2, \"0\": 1, \"4\": 1}, \"14\": {\"14\": 107, \"11\": 57, \"2\": 44, \"13\": 11, \"15\": 5, \"10\": 13, \"12\": 3}, \"6\": {\"9\": 66, \"6\": 93, \"1\": 17, \"0\": 9, \"3\": 10, \"5\": 24, \"7\": 8, \"8\": 13}, \"8\": {\"7\": 39, \"5\": 40, \"8\": 60, \"1\": 7, \"9\": 5, \"0\": 29, \"15\": 20, \"10\": 18, \"13\": 8, \"6\": 8, \"12\": 3, \"2\": 2, \"3\": 1}, \"3\": {\"3\": 132, \"7\": 17, \"0\": 24, \"6\": 20, \"5\": 8, \"9\": 38, \"8\": 1}, \"2\": {\"13\": 39, \"2\": 121, \"14\": 35, \"11\": 16, \"15\": 13, \"1\": 2, \"10\": 12, \"8\": 2}, \"13\": {\"1\": 38, \"12\": 1, \"13\": 72, \"15\": 43, \"5\": 10, \"14\": 6, \"10\": 22, \"2\": 27, \"8\": 14, \"0\": 1, \"6\": 1, \"11\": 5}}}, \"per_domain_accuracy\": {\"C_4\": {\"accuracy\": 0.9977544910179641, \"source?\": true}, \"C_5\": {\"accuracy\": 0.9991270949720671, \"source?\": true}, \"C_2\": {\"accuracy\": 0.9998214285714285, \"source?\": true}, \"C_1\": {\"accuracy\": 0.9996603260869565, \"source?\": true}, \"C_3\": {\"accuracy\": 0.9992647058823529, \"source?\": true}, \"O_14\": {\"accuracy\": 0.3619791666666667, \"source?\": false}, \"O_20\": {\"accuracy\": 0.17473958333333334, \"source?\": false}, \"O_50\": {\"accuracy\": 0.38515625, \"source?\": false}, \"O_26\": {\"accuracy\": 0.22005208333333334, \"source?\": false}, \"O_32\": {\"accuracy\": 0.48463541666666665, \"source?\": false}, \"O_44\": {\"accuracy\": 0.35625, \"source?\": false}, \"O_8\": {\"accuracy\": 0.2638020833333333, \"source?\": false}, \"O_38\": {\"accuracy\": 0.40338541666666666, \"source?\": false}}}, \"history\": {\"epoch_indices\": [1, 2, 3, 4, 5, 6, 7, 8, 9, 10], \"train_label_loss\": [0.031665682436104424, 0.008324054717829247, 0.005548554333571763, 0.004178528053704261, 0.003507743120694865, 0.00303829143333435, 0.0028784696917502563, 0.002248151479030875, 0.00235545740318164, 0.001553471806069397], \"source_val_label_loss\": [0.011313401162624359, 0.01415899209678173, 0.005906958598643541, 0.009573565796017647, 0.007824047468602657, 0.009398936294019222, 0.008824016898870468, 0.007620645221322775, 0.012795155867934227, 0.007966991513967514], \"target_val_label_loss\": [2.1607491970062256, 2.2837700843811035, 2.8366637229919434, 2.422685146331787, 2.623430013656616, 2.882951259613037, 2.8645734786987305, 2.94530987739563, 3.648848295211792, 3.860928535461426], \"source_val_acc_label\": [0.9976428571428572, 0.9976785714285714, 0.9994285714285714, 0.9989285714285714, 0.99925, 0.9991428571428571, 0.9989642857142857, 0.9990714285714286, 0.9989285714285714, 0.9994642857142857], \"target_val_acc_label\": [0.28408203125, 0.2976888020833333, 0.28805338541666664, 0.3052734375, 0.3194986979166667, 0.33125, 0.32890625, 0.29228515625, 0.28515625, 0.30592447916666665]}, \"dataset_metrics\": {\"source\": {\"train\": {\"n_unique_x\": 175182, \"n_unique_y\": 58, \"n_batch/episode\": 6303}, \"val\": {\"n_unique_x\": 37216, \"n_unique_y\": 58, \"n_batch/episode\": 875}, \"test\": {\"n_unique_x\": 37596, \"n_unique_y\": 58, \"n_batch/episode\": 886}}, \"target\": {\"train\": {\"n_unique_x\": 179200, \"n_unique_y\": 16, \"n_batch/episode\": 6720}, \"val\": {\"n_unique_x\": 38400, \"n_unique_y\": 16, \"n_batch/episode\": 960}, \"test\": {\"n_unique_x\": 38400, \"n_unique_y\": 16, \"n_batch/episode\": 960}}}}'"
      ]
     },
     "execution_count": 29,
     "metadata": {},
     "output_type": "execute_result"
    }
   ],
   "source": [
    "json.dumps(experiment)"
   ]
  }
 ],
 "metadata": {
  "celltoolbar": "Tags",
  "kernelspec": {
   "display_name": "Python 3 (ipykernel)",
   "language": "python",
   "name": "python3"
  },
  "language_info": {
   "codemirror_mode": {
    "name": "ipython",
    "version": 3
   },
   "file_extension": ".py",
   "mimetype": "text/x-python",
   "name": "python",
   "nbconvert_exporter": "python",
   "pygments_lexer": "ipython3",
   "version": "3.8.10"
  },
  "papermill": {
   "default_parameters": {},
   "duration": 2984.922228,
   "end_time": "2022-03-25T16:45:03.808968",
   "environment_variables": {},
   "exception": null,
   "input_path": "/mnt/wd500GB/CSC500/csc500-main/csc500-notebooks/templates/tl_ptn_template.ipynb",
   "output_path": "trial.ipynb",
   "parameters": {
    "parameters": {
     "BEST_MODEL_PATH": "./best_model.pth",
     "NUM_LOGS_PER_EPOCH": 10,
     "criteria_for_best": "target_accuracy",
     "dataset_seed": 420,
     "datasets": [
      {
       "domain_prefix": "C_",
       "domains": [
        1,
        2,
        3,
        4,
        5
       ],
       "episode_transforms": [],
       "labels": [
        "1-10.",
        "1-11.",
        "1-15.",
        "1-16.",
        "1-17.",
        "1-18.",
        "1-19.",
        "10-4.",
        "10-7.",
        "11-1.",
        "11-14.",
        "11-17.",
        "11-20.",
        "11-7.",
        "13-20.",
        "13-8.",
        "14-10.",
        "14-11.",
        "14-14.",
        "14-7.",
        "15-1.",
        "15-20.",
        "16-1.",
        "16-16.",
        "17-10.",
        "17-11.",
        "17-2.",
        "19-1.",
        "19-16.",
        "19-19.",
        "19-20.",
        "19-3.",
        "2-10.",
        "2-11.",
        "2-17.",
        "2-18.",
        "2-20.",
        "2-3.",
        "2-4.",
        "2-5.",
        "2-6.",
        "2-7.",
        "2-8.",
        "3-13.",
        "3-18.",
        "3-3.",
        "4-1.",
        "4-10.",
        "4-11.",
        "4-19.",
        "5-5.",
        "6-15.",
        "7-10.",
        "7-14.",
        "8-18.",
        "8-20.",
        "8-3.",
        "8-8."
       ],
       "num_examples_per_domain_per_label": -1,
       "pickle_path": "/mnt/wd500GB/CSC500/csc500-main/datasets/cores.stratified_ds.2022A.pkl",
       "source_or_target_dataset": "source",
       "x_transforms": [
        "unit_power",
        "lowpass_+/-10MHz",
        "take_200"
       ]
      },
      {
       "domain_prefix": "O_",
       "domains": [
        32,
        38,
        8,
        44,
        14,
        50,
        20,
        26
       ],
       "episode_transforms": [],
       "labels": [
        "3123D52",
        "3123D65",
        "3123D79",
        "3123D80",
        "3123D54",
        "3123D70",
        "3123D7B",
        "3123D89",
        "3123D58",
        "3123D76",
        "3123D7D",
        "3123EFE",
        "3123D64",
        "3123D78",
        "3123D7E",
        "3124E4A"
       ],
       "num_examples_per_domain_per_label": 2000,
       "pickle_path": "/mnt/wd500GB/CSC500/csc500-main/datasets/oracle.Run1_framed_2000Examples_stratified_ds.2022A.pkl",
       "source_or_target_dataset": "target",
       "x_transforms": [
        "unit_power",
        "take_200",
        "resample_20Msps_to_25Msps"
       ]
      }
     ],
     "device": "cuda",
     "experiment_name": "tl_3-filterv2:cores -> oracle.run1.framed",
     "lr": 0.0001,
     "n_epoch": 50,
     "n_query": 2,
     "n_shot": 3,
     "n_way": 16,
     "patience": 3,
     "seed": 420,
     "test_k_factor": 2,
     "torch_default_dtype": "torch.float32",
     "train_k_factor": 3,
     "val_k_factor": 2,
     "x_net": [
      {
       "class": "nnReshape",
       "kargs": {
        "shape": [
         -1,
         1,
         2,
         200
        ]
       }
      },
      {
       "class": "Conv2d",
       "kargs": {
        "bias": false,
        "in_channels": 1,
        "kernel_size": [
         1,
         7
        ],
        "out_channels": 256,
        "padding": [
         0,
         3
        ]
       }
      },
      {
       "class": "ReLU",
       "kargs": {
        "inplace": true
       }
      },
      {
       "class": "BatchNorm2d",
       "kargs": {
        "num_features": 256
       }
      },
      {
       "class": "Conv2d",
       "kargs": {
        "bias": true,
        "in_channels": 256,
        "kernel_size": [
         2,
         7
        ],
        "out_channels": 80,
        "padding": [
         0,
         3
        ]
       }
      },
      {
       "class": "ReLU",
       "kargs": {
        "inplace": true
       }
      },
      {
       "class": "BatchNorm2d",
       "kargs": {
        "num_features": 80
       }
      },
      {
       "class": "Flatten",
       "kargs": {}
      },
      {
       "class": "Linear",
       "kargs": {
        "in_features": 16000,
        "out_features": 256
       }
      },
      {
       "class": "ReLU",
       "kargs": {
        "inplace": true
       }
      },
      {
       "class": "BatchNorm1d",
       "kargs": {
        "num_features": 256
       }
      },
      {
       "class": "Linear",
       "kargs": {
        "in_features": 256,
        "out_features": 256
       }
      }
     ],
     "x_shape": [
      2,
      200
     ]
    }
   },
   "start_time": "2022-03-25T15:55:18.886740",
   "version": "2.3.4"
  }
 },
 "nbformat": 4,
 "nbformat_minor": 5
}