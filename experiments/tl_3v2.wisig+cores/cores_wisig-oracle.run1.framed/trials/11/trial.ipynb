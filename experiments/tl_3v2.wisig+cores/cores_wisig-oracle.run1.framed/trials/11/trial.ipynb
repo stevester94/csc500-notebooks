{
 "cells": [
  {
   "cell_type": "markdown",
   "id": "9fea5f46",
   "metadata": {
    "papermill": {
     "duration": 0.017523,
     "end_time": "2022-03-20T17:40:28.528455",
     "exception": false,
     "start_time": "2022-03-20T17:40:28.510932",
     "status": "completed"
    },
    "tags": []
   },
   "source": [
    "# Transfer Learning Template"
   ]
  },
  {
   "cell_type": "code",
   "execution_count": 1,
   "id": "0902182a",
   "metadata": {
    "execution": {
     "iopub.execute_input": "2022-03-20T17:40:28.568298Z",
     "iopub.status.busy": "2022-03-20T17:40:28.556111Z",
     "iopub.status.idle": "2022-03-20T17:40:29.473328Z",
     "shell.execute_reply": "2022-03-20T17:40:29.472792Z"
    },
    "papermill": {
     "duration": 0.932197,
     "end_time": "2022-03-20T17:40:29.473449",
     "exception": false,
     "start_time": "2022-03-20T17:40:28.541252",
     "status": "completed"
    },
    "tags": []
   },
   "outputs": [],
   "source": [
    "%load_ext autoreload\n",
    "%autoreload 2\n",
    "%matplotlib inline\n",
    "\n",
    "    \n",
    "import os, json, sys, time, random\n",
    "import numpy as np\n",
    "import torch\n",
    "from torch.optim import Adam\n",
    "from  easydict import EasyDict\n",
    "import matplotlib.pyplot as plt\n",
    "\n",
    "from steves_models.steves_ptn import Steves_Prototypical_Network\n",
    "\n",
    "from steves_utils.lazy_iterable_wrapper import Lazy_Iterable_Wrapper\n",
    "from steves_utils.iterable_aggregator import Iterable_Aggregator\n",
    "from steves_utils.ptn_train_eval_test_jig import  PTN_Train_Eval_Test_Jig\n",
    "from steves_utils.torch_sequential_builder import build_sequential\n",
    "from steves_utils.torch_utils import get_dataset_metrics, ptn_confusion_by_domain_over_dataloader\n",
    "from steves_utils.utils_v2 import (per_domain_accuracy_from_confusion, get_datasets_base_path)\n",
    "from steves_utils.PTN.utils import independent_accuracy_assesment\n",
    "\n",
    "from torch.utils.data import DataLoader\n",
    "\n",
    "from steves_utils.stratified_dataset.episodic_accessor import Episodic_Accessor_Factory\n",
    "\n",
    "from steves_utils.ptn_do_report import (\n",
    "    get_loss_curve,\n",
    "    get_results_table,\n",
    "    get_parameters_table,\n",
    "    get_domain_accuracies,\n",
    ")\n",
    "\n",
    "from steves_utils.transforms import get_chained_transform"
   ]
  },
  {
   "cell_type": "markdown",
   "id": "41c840b4",
   "metadata": {
    "papermill": {
     "duration": 0.012838,
     "end_time": "2022-03-20T17:40:29.504899",
     "exception": false,
     "start_time": "2022-03-20T17:40:29.492061",
     "status": "completed"
    },
    "tags": []
   },
   "source": [
    "# Allowed Parameters\n",
    "These are allowed parameters, not defaults\n",
    "Each of these values need to be present in the injected parameters (the notebook will raise an exception if they are not present)\n",
    "\n",
    "Papermill uses the cell tag \"parameters\" to inject the real parameters below this cell.\n",
    "Enable tags to see what I mean"
   ]
  },
  {
   "cell_type": "code",
   "execution_count": 2,
   "id": "fd44eb83",
   "metadata": {
    "execution": {
     "iopub.execute_input": "2022-03-20T17:40:29.538459Z",
     "iopub.status.busy": "2022-03-20T17:40:29.533534Z",
     "iopub.status.idle": "2022-03-20T17:40:29.547047Z",
     "shell.execute_reply": "2022-03-20T17:40:29.547292Z"
    },
    "papermill": {
     "duration": 0.02949,
     "end_time": "2022-03-20T17:40:29.547361",
     "exception": false,
     "start_time": "2022-03-20T17:40:29.517871",
     "status": "completed"
    },
    "tags": []
   },
   "outputs": [],
   "source": [
    "required_parameters = {\n",
    "    \"experiment_name\",\n",
    "    \"lr\",\n",
    "    \"device\",\n",
    "    \"seed\",\n",
    "    \"dataset_seed\",\n",
    "    \"n_shot\",\n",
    "    \"n_query\",\n",
    "    \"n_way\",\n",
    "    \"train_k_factor\",\n",
    "    \"val_k_factor\",\n",
    "    \"test_k_factor\",\n",
    "    \"n_epoch\",\n",
    "    \"patience\",\n",
    "    \"criteria_for_best\",\n",
    "    \"x_net\",\n",
    "    \"datasets\",\n",
    "    \"torch_default_dtype\",\n",
    "    \"NUM_LOGS_PER_EPOCH\",\n",
    "    \"BEST_MODEL_PATH\",\n",
    "    \"x_shape\",\n",
    "}"
   ]
  },
  {
   "cell_type": "code",
   "execution_count": 3,
   "id": "fa3f0049",
   "metadata": {
    "execution": {
     "iopub.execute_input": "2022-03-20T17:40:29.589071Z",
     "iopub.status.busy": "2022-03-20T17:40:29.588192Z",
     "iopub.status.idle": "2022-03-20T17:40:29.600902Z",
     "shell.execute_reply": "2022-03-20T17:40:29.600453Z"
    },
    "papermill": {
     "duration": 0.035043,
     "end_time": "2022-03-20T17:40:29.600991",
     "exception": false,
     "start_time": "2022-03-20T17:40:29.565948",
     "status": "completed"
    },
    "tags": [
     "parameters"
    ]
   },
   "outputs": [],
   "source": [
    "from steves_utils.CORES.utils import (\n",
    "    ALL_NODES,\n",
    "    ALL_NODES_MINIMUM_1000_EXAMPLES,\n",
    "    ALL_DAYS\n",
    ")\n",
    "\n",
    "from steves_utils.ORACLE.utils_v2 import (\n",
    "    ALL_DISTANCES_FEET_NARROWED,\n",
    "    ALL_RUNS,\n",
    "    ALL_SERIAL_NUMBERS,\n",
    ")\n",
    "\n",
    "standalone_parameters = {}\n",
    "standalone_parameters[\"experiment_name\"] = \"STANDALONE PTN\"\n",
    "standalone_parameters[\"lr\"] = 0.001\n",
    "standalone_parameters[\"device\"] = \"cuda\"\n",
    "\n",
    "standalone_parameters[\"seed\"] = 1337\n",
    "standalone_parameters[\"dataset_seed\"] = 1337\n",
    "\n",
    "standalone_parameters[\"n_way\"] = 8\n",
    "standalone_parameters[\"n_shot\"] = 3\n",
    "standalone_parameters[\"n_query\"]  = 2\n",
    "standalone_parameters[\"train_k_factor\"] = 1\n",
    "standalone_parameters[\"val_k_factor\"] = 2\n",
    "standalone_parameters[\"test_k_factor\"] = 2\n",
    "\n",
    "\n",
    "standalone_parameters[\"n_epoch\"] = 50\n",
    "\n",
    "standalone_parameters[\"patience\"] = 10\n",
    "standalone_parameters[\"criteria_for_best\"] = \"source_loss\"\n",
    "\n",
    "standalone_parameters[\"datasets\"] = [\n",
    "    {\n",
    "        \"labels\": ALL_SERIAL_NUMBERS,\n",
    "        \"domains\": ALL_DISTANCES_FEET_NARROWED,\n",
    "        \"num_examples_per_domain_per_label\": 100,\n",
    "        \"pickle_path\": os.path.join(get_datasets_base_path(), \"oracle.Run1_framed_2000Examples_stratified_ds.2022A.pkl\"),\n",
    "        \"source_or_target_dataset\": \"source\",\n",
    "        \"x_transforms\": [\"unit_mag\", \"minus_two\"],\n",
    "        \"episode_transforms\": [],\n",
    "        \"domain_prefix\": \"ORACLE_\"\n",
    "    },\n",
    "    {\n",
    "        \"labels\": ALL_NODES,\n",
    "        \"domains\": ALL_DAYS,\n",
    "        \"num_examples_per_domain_per_label\": 100,\n",
    "        \"pickle_path\": os.path.join(get_datasets_base_path(), \"cores.stratified_ds.2022A.pkl\"),\n",
    "        \"source_or_target_dataset\": \"target\",\n",
    "        \"x_transforms\": [\"unit_power\", \"times_zero\"],\n",
    "        \"episode_transforms\": [],\n",
    "        \"domain_prefix\": \"CORES_\"\n",
    "    }   \n",
    "]\n",
    "\n",
    "standalone_parameters[\"torch_default_dtype\"] = \"torch.float32\" \n",
    "\n",
    "\n",
    "\n",
    "standalone_parameters[\"x_net\"] =     [\n",
    "    {\"class\": \"nnReshape\", \"kargs\": {\"shape\":[-1, 1, 2, 256]}},\n",
    "    {\"class\": \"Conv2d\", \"kargs\": { \"in_channels\":1, \"out_channels\":256, \"kernel_size\":(1,7), \"bias\":False, \"padding\":(0,3), },},\n",
    "    {\"class\": \"ReLU\", \"kargs\": {\"inplace\": True}},\n",
    "    {\"class\": \"BatchNorm2d\", \"kargs\": {\"num_features\":256}},\n",
    "\n",
    "    {\"class\": \"Conv2d\", \"kargs\": { \"in_channels\":256, \"out_channels\":80, \"kernel_size\":(2,7), \"bias\":True, \"padding\":(0,3), },},\n",
    "    {\"class\": \"ReLU\", \"kargs\": {\"inplace\": True}},\n",
    "    {\"class\": \"BatchNorm2d\", \"kargs\": {\"num_features\":80}},\n",
    "    {\"class\": \"Flatten\", \"kargs\": {}},\n",
    "\n",
    "    {\"class\": \"Linear\", \"kargs\": {\"in_features\": 80*256, \"out_features\": 256}}, # 80 units per IQ pair\n",
    "    {\"class\": \"ReLU\", \"kargs\": {\"inplace\": True}},\n",
    "    {\"class\": \"BatchNorm1d\", \"kargs\": {\"num_features\":256}},\n",
    "\n",
    "    {\"class\": \"Linear\", \"kargs\": {\"in_features\": 256, \"out_features\": 256}},\n",
    "]\n",
    "\n",
    "# Parameters relevant to results\n",
    "# These parameters will basically never need to change\n",
    "standalone_parameters[\"NUM_LOGS_PER_EPOCH\"] = 10\n",
    "standalone_parameters[\"BEST_MODEL_PATH\"] = \"./best_model.pth\"\n",
    "\n",
    "\n",
    "\n",
    "\n"
   ]
  },
  {
   "cell_type": "code",
   "execution_count": 4,
   "id": "129951fa",
   "metadata": {
    "execution": {
     "iopub.execute_input": "2022-03-20T17:40:29.644115Z",
     "iopub.status.busy": "2022-03-20T17:40:29.633656Z",
     "iopub.status.idle": "2022-03-20T17:40:29.658419Z",
     "shell.execute_reply": "2022-03-20T17:40:29.658064Z"
    },
    "papermill": {
     "duration": 0.039568,
     "end_time": "2022-03-20T17:40:29.658491",
     "exception": false,
     "start_time": "2022-03-20T17:40:29.618923",
     "status": "completed"
    },
    "tags": [
     "injected-parameters"
    ]
   },
   "outputs": [],
   "source": [
    "# Parameters\n",
    "parameters = {\n",
    "    \"experiment_name\": \"tl_3Av2:cores+wisig -> oracle.run1.framed\",\n",
    "    \"device\": \"cuda\",\n",
    "    \"lr\": 0.0001,\n",
    "    \"x_shape\": [2, 200],\n",
    "    \"n_shot\": 3,\n",
    "    \"n_query\": 2,\n",
    "    \"train_k_factor\": 3,\n",
    "    \"val_k_factor\": 2,\n",
    "    \"test_k_factor\": 2,\n",
    "    \"torch_default_dtype\": \"torch.float32\",\n",
    "    \"n_epoch\": 50,\n",
    "    \"patience\": 3,\n",
    "    \"criteria_for_best\": \"target_accuracy\",\n",
    "    \"x_net\": [\n",
    "        {\"class\": \"nnReshape\", \"kargs\": {\"shape\": [-1, 1, 2, 200]}},\n",
    "        {\n",
    "            \"class\": \"Conv2d\",\n",
    "            \"kargs\": {\n",
    "                \"in_channels\": 1,\n",
    "                \"out_channels\": 256,\n",
    "                \"kernel_size\": [1, 7],\n",
    "                \"bias\": False,\n",
    "                \"padding\": [0, 3],\n",
    "            },\n",
    "        },\n",
    "        {\"class\": \"ReLU\", \"kargs\": {\"inplace\": True}},\n",
    "        {\"class\": \"BatchNorm2d\", \"kargs\": {\"num_features\": 256}},\n",
    "        {\n",
    "            \"class\": \"Conv2d\",\n",
    "            \"kargs\": {\n",
    "                \"in_channels\": 256,\n",
    "                \"out_channels\": 80,\n",
    "                \"kernel_size\": [2, 7],\n",
    "                \"bias\": True,\n",
    "                \"padding\": [0, 3],\n",
    "            },\n",
    "        },\n",
    "        {\"class\": \"ReLU\", \"kargs\": {\"inplace\": True}},\n",
    "        {\"class\": \"BatchNorm2d\", \"kargs\": {\"num_features\": 80}},\n",
    "        {\"class\": \"Flatten\", \"kargs\": {}},\n",
    "        {\"class\": \"Linear\", \"kargs\": {\"in_features\": 16000, \"out_features\": 256}},\n",
    "        {\"class\": \"ReLU\", \"kargs\": {\"inplace\": True}},\n",
    "        {\"class\": \"BatchNorm1d\", \"kargs\": {\"num_features\": 256}},\n",
    "        {\"class\": \"Linear\", \"kargs\": {\"in_features\": 256, \"out_features\": 256}},\n",
    "    ],\n",
    "    \"NUM_LOGS_PER_EPOCH\": 10,\n",
    "    \"BEST_MODEL_PATH\": \"./best_model.pth\",\n",
    "    \"n_way\": 16,\n",
    "    \"datasets\": [\n",
    "        {\n",
    "            \"labels\": [\n",
    "                \"1-10.\",\n",
    "                \"1-11.\",\n",
    "                \"1-15.\",\n",
    "                \"1-16.\",\n",
    "                \"1-17.\",\n",
    "                \"1-18.\",\n",
    "                \"1-19.\",\n",
    "                \"10-4.\",\n",
    "                \"10-7.\",\n",
    "                \"11-1.\",\n",
    "                \"11-14.\",\n",
    "                \"11-17.\",\n",
    "                \"11-20.\",\n",
    "                \"11-7.\",\n",
    "                \"13-20.\",\n",
    "                \"13-8.\",\n",
    "                \"14-10.\",\n",
    "                \"14-11.\",\n",
    "                \"14-14.\",\n",
    "                \"14-7.\",\n",
    "                \"15-1.\",\n",
    "                \"15-20.\",\n",
    "                \"16-1.\",\n",
    "                \"16-16.\",\n",
    "                \"17-10.\",\n",
    "                \"17-11.\",\n",
    "                \"17-2.\",\n",
    "                \"19-1.\",\n",
    "                \"19-16.\",\n",
    "                \"19-19.\",\n",
    "                \"19-20.\",\n",
    "                \"19-3.\",\n",
    "                \"2-10.\",\n",
    "                \"2-11.\",\n",
    "                \"2-17.\",\n",
    "                \"2-18.\",\n",
    "                \"2-20.\",\n",
    "                \"2-3.\",\n",
    "                \"2-4.\",\n",
    "                \"2-5.\",\n",
    "                \"2-6.\",\n",
    "                \"2-7.\",\n",
    "                \"2-8.\",\n",
    "                \"3-13.\",\n",
    "                \"3-18.\",\n",
    "                \"3-3.\",\n",
    "                \"4-1.\",\n",
    "                \"4-10.\",\n",
    "                \"4-11.\",\n",
    "                \"4-19.\",\n",
    "                \"5-5.\",\n",
    "                \"6-15.\",\n",
    "                \"7-10.\",\n",
    "                \"7-14.\",\n",
    "                \"8-18.\",\n",
    "                \"8-20.\",\n",
    "                \"8-3.\",\n",
    "                \"8-8.\",\n",
    "            ],\n",
    "            \"domains\": [1, 2, 3, 4, 5],\n",
    "            \"num_examples_per_domain_per_label\": -1,\n",
    "            \"pickle_path\": \"/mnt/wd500GB/CSC500/csc500-main/datasets/cores.stratified_ds.2022A.pkl\",\n",
    "            \"source_or_target_dataset\": \"source\",\n",
    "            \"x_transforms\": [\"take_200\"],\n",
    "            \"episode_transforms\": [],\n",
    "            \"domain_prefix\": \"C_\",\n",
    "        },\n",
    "        {\n",
    "            \"labels\": [\n",
    "                \"1-10\",\n",
    "                \"1-12\",\n",
    "                \"1-14\",\n",
    "                \"1-16\",\n",
    "                \"1-18\",\n",
    "                \"1-19\",\n",
    "                \"1-8\",\n",
    "                \"10-11\",\n",
    "                \"10-17\",\n",
    "                \"10-4\",\n",
    "                \"10-7\",\n",
    "                \"11-1\",\n",
    "                \"11-10\",\n",
    "                \"11-19\",\n",
    "                \"11-20\",\n",
    "                \"11-4\",\n",
    "                \"11-7\",\n",
    "                \"12-19\",\n",
    "                \"12-20\",\n",
    "                \"12-7\",\n",
    "                \"13-14\",\n",
    "                \"13-18\",\n",
    "                \"13-19\",\n",
    "                \"13-20\",\n",
    "                \"13-3\",\n",
    "                \"13-7\",\n",
    "                \"14-10\",\n",
    "                \"14-11\",\n",
    "                \"14-12\",\n",
    "                \"14-13\",\n",
    "                \"14-14\",\n",
    "                \"14-19\",\n",
    "                \"14-20\",\n",
    "                \"14-7\",\n",
    "                \"14-8\",\n",
    "                \"14-9\",\n",
    "                \"15-1\",\n",
    "                \"15-19\",\n",
    "                \"15-6\",\n",
    "                \"16-1\",\n",
    "                \"16-16\",\n",
    "                \"16-19\",\n",
    "                \"16-20\",\n",
    "                \"17-10\",\n",
    "                \"17-11\",\n",
    "                \"18-1\",\n",
    "                \"18-10\",\n",
    "                \"18-11\",\n",
    "                \"18-12\",\n",
    "                \"18-13\",\n",
    "                \"18-14\",\n",
    "                \"18-15\",\n",
    "                \"18-16\",\n",
    "                \"18-17\",\n",
    "                \"18-19\",\n",
    "                \"18-2\",\n",
    "                \"18-20\",\n",
    "                \"18-4\",\n",
    "                \"18-5\",\n",
    "                \"18-7\",\n",
    "                \"18-8\",\n",
    "                \"18-9\",\n",
    "                \"19-1\",\n",
    "                \"19-10\",\n",
    "                \"19-11\",\n",
    "                \"19-12\",\n",
    "                \"19-13\",\n",
    "                \"19-14\",\n",
    "                \"19-15\",\n",
    "                \"19-19\",\n",
    "                \"19-2\",\n",
    "                \"19-20\",\n",
    "                \"19-3\",\n",
    "                \"19-4\",\n",
    "                \"19-6\",\n",
    "                \"19-7\",\n",
    "                \"19-8\",\n",
    "                \"19-9\",\n",
    "                \"2-1\",\n",
    "                \"2-13\",\n",
    "                \"2-15\",\n",
    "                \"2-3\",\n",
    "                \"2-4\",\n",
    "                \"2-5\",\n",
    "                \"2-6\",\n",
    "                \"2-7\",\n",
    "                \"2-8\",\n",
    "                \"20-1\",\n",
    "                \"20-12\",\n",
    "                \"20-14\",\n",
    "                \"20-15\",\n",
    "                \"20-16\",\n",
    "                \"20-18\",\n",
    "                \"20-19\",\n",
    "                \"20-20\",\n",
    "                \"20-3\",\n",
    "                \"20-4\",\n",
    "                \"20-5\",\n",
    "                \"20-7\",\n",
    "                \"20-8\",\n",
    "                \"3-1\",\n",
    "                \"3-13\",\n",
    "                \"3-18\",\n",
    "                \"3-2\",\n",
    "                \"3-8\",\n",
    "                \"4-1\",\n",
    "                \"4-10\",\n",
    "                \"4-11\",\n",
    "                \"5-1\",\n",
    "                \"5-5\",\n",
    "                \"6-1\",\n",
    "                \"6-15\",\n",
    "                \"6-6\",\n",
    "                \"7-10\",\n",
    "                \"7-11\",\n",
    "                \"7-12\",\n",
    "                \"7-13\",\n",
    "                \"7-14\",\n",
    "                \"7-7\",\n",
    "                \"7-8\",\n",
    "                \"7-9\",\n",
    "                \"8-1\",\n",
    "                \"8-13\",\n",
    "                \"8-14\",\n",
    "                \"8-18\",\n",
    "                \"8-20\",\n",
    "                \"8-3\",\n",
    "                \"8-8\",\n",
    "                \"9-1\",\n",
    "                \"9-7\",\n",
    "            ],\n",
    "            \"domains\": [1, 2, 3, 4],\n",
    "            \"num_examples_per_domain_per_label\": -1,\n",
    "            \"pickle_path\": \"/mnt/wd500GB/CSC500/csc500-main/datasets/wisig.node3-19.stratified_ds.2022A.pkl\",\n",
    "            \"source_or_target_dataset\": \"source\",\n",
    "            \"x_transforms\": [\"take_200\"],\n",
    "            \"episode_transforms\": [],\n",
    "            \"domain_prefix\": \"W_\",\n",
    "        },\n",
    "        {\n",
    "            \"labels\": [\n",
    "                \"3123D52\",\n",
    "                \"3123D65\",\n",
    "                \"3123D79\",\n",
    "                \"3123D80\",\n",
    "                \"3123D54\",\n",
    "                \"3123D70\",\n",
    "                \"3123D7B\",\n",
    "                \"3123D89\",\n",
    "                \"3123D58\",\n",
    "                \"3123D76\",\n",
    "                \"3123D7D\",\n",
    "                \"3123EFE\",\n",
    "                \"3123D64\",\n",
    "                \"3123D78\",\n",
    "                \"3123D7E\",\n",
    "                \"3124E4A\",\n",
    "            ],\n",
    "            \"domains\": [32, 38, 8, 44, 14, 50, 20, 26],\n",
    "            \"num_examples_per_domain_per_label\": 2000,\n",
    "            \"pickle_path\": \"/mnt/wd500GB/CSC500/csc500-main/datasets/oracle.Run1_framed_2000Examples_stratified_ds.2022A.pkl\",\n",
    "            \"source_or_target_dataset\": \"target\",\n",
    "            \"x_transforms\": [\"take_200\", \"resample_20Msps_to_25Msps\"],\n",
    "            \"episode_transforms\": [],\n",
    "            \"domain_prefix\": \"O_\",\n",
    "        },\n",
    "    ],\n",
    "    \"seed\": 7,\n",
    "    \"dataset_seed\": 7,\n",
    "}\n"
   ]
  },
  {
   "cell_type": "code",
   "execution_count": 5,
   "id": "8fa1cc33",
   "metadata": {
    "execution": {
     "iopub.execute_input": "2022-03-20T17:40:29.696801Z",
     "iopub.status.busy": "2022-03-20T17:40:29.692116Z",
     "iopub.status.idle": "2022-03-20T17:40:29.706664Z",
     "shell.execute_reply": "2022-03-20T17:40:29.706955Z"
    },
    "papermill": {
     "duration": 0.031561,
     "end_time": "2022-03-20T17:40:29.707037",
     "exception": false,
     "start_time": "2022-03-20T17:40:29.675476",
     "status": "completed"
    },
    "tags": []
   },
   "outputs": [],
   "source": [
    "# Set this to True if you want to run this template directly\n",
    "STANDALONE = False\n",
    "if STANDALONE:\n",
    "    print(\"parameters not injected, running with standalone_parameters\")\n",
    "    parameters = standalone_parameters\n",
    "\n",
    "if not 'parameters' in locals() and not 'parameters' in globals():\n",
    "    raise Exception(\"Parameter injection failed\")\n",
    "\n",
    "#Use an easy dict for all the parameters\n",
    "p = EasyDict(parameters)\n",
    "\n",
    "if \"x_shape\" not in p:\n",
    "    p.x_shape = [2,256] # Default to this if we dont supply x_shape\n",
    "\n",
    "\n",
    "supplied_keys = set(p.keys())\n",
    "\n",
    "if  supplied_keys != required_parameters:\n",
    "    print(\"Parameters are incorrect\")\n",
    "    if len(supplied_keys - required_parameters)>0: print(\"Shouldn't have:\", str(supplied_keys - required_parameters))\n",
    "    if len(required_parameters - supplied_keys)>0: print(\"Need to have:\", str(required_parameters - supplied_keys))\n",
    "    raise RuntimeError(\"Parameters are incorrect\")"
   ]
  },
  {
   "cell_type": "code",
   "execution_count": 6,
   "id": "3a028d58",
   "metadata": {
    "execution": {
     "iopub.execute_input": "2022-03-20T17:40:29.741341Z",
     "iopub.status.busy": "2022-03-20T17:40:29.740407Z",
     "iopub.status.idle": "2022-03-20T17:40:29.756902Z",
     "shell.execute_reply": "2022-03-20T17:40:29.757330Z"
    },
    "papermill": {
     "duration": 0.031368,
     "end_time": "2022-03-20T17:40:29.757451",
     "exception": false,
     "start_time": "2022-03-20T17:40:29.726083",
     "status": "completed"
    },
    "tags": []
   },
   "outputs": [],
   "source": [
    "###################################\n",
    "# Set the RNGs and make it all deterministic\n",
    "###################################\n",
    "np.random.seed(p.seed)\n",
    "random.seed(p.seed)\n",
    "torch.manual_seed(p.seed)\n",
    "\n",
    "torch.use_deterministic_algorithms(True) "
   ]
  },
  {
   "cell_type": "code",
   "execution_count": 7,
   "id": "b691acf6",
   "metadata": {
    "execution": {
     "iopub.execute_input": "2022-03-20T17:40:29.789781Z",
     "iopub.status.busy": "2022-03-20T17:40:29.789534Z",
     "iopub.status.idle": "2022-03-20T17:40:29.799685Z",
     "shell.execute_reply": "2022-03-20T17:40:29.799336Z"
    },
    "papermill": {
     "duration": 0.024559,
     "end_time": "2022-03-20T17:40:29.799755",
     "exception": false,
     "start_time": "2022-03-20T17:40:29.775196",
     "status": "completed"
    },
    "tags": []
   },
   "outputs": [],
   "source": [
    "###########################################\n",
    "# The stratified datasets honor this\n",
    "###########################################\n",
    "torch.set_default_dtype(eval(p.torch_default_dtype))"
   ]
  },
  {
   "cell_type": "code",
   "execution_count": 8,
   "id": "b5fba671",
   "metadata": {
    "execution": {
     "iopub.execute_input": "2022-03-20T17:40:29.839994Z",
     "iopub.status.busy": "2022-03-20T17:40:29.839628Z",
     "iopub.status.idle": "2022-03-20T17:40:29.866848Z",
     "shell.execute_reply": "2022-03-20T17:40:29.866458Z"
    },
    "papermill": {
     "duration": 0.051626,
     "end_time": "2022-03-20T17:40:29.866937",
     "exception": false,
     "start_time": "2022-03-20T17:40:29.815311",
     "status": "completed"
    },
    "tags": []
   },
   "outputs": [],
   "source": [
    "###################################\n",
    "# Build the network(s)\n",
    "# Note: It's critical to do this AFTER setting the RNG\n",
    "###################################\n",
    "x_net = build_sequential(p.x_net)"
   ]
  },
  {
   "cell_type": "code",
   "execution_count": 9,
   "id": "5d7e61cc",
   "metadata": {
    "execution": {
     "iopub.execute_input": "2022-03-20T17:40:29.901184Z",
     "iopub.status.busy": "2022-03-20T17:40:29.900940Z",
     "iopub.status.idle": "2022-03-20T17:40:29.912455Z",
     "shell.execute_reply": "2022-03-20T17:40:29.912032Z"
    },
    "papermill": {
     "duration": 0.026442,
     "end_time": "2022-03-20T17:40:29.912555",
     "exception": false,
     "start_time": "2022-03-20T17:40:29.886113",
     "status": "completed"
    },
    "tags": []
   },
   "outputs": [],
   "source": [
    "start_time_secs = time.time()"
   ]
  },
  {
   "cell_type": "code",
   "execution_count": 10,
   "id": "c6b67dfd",
   "metadata": {
    "execution": {
     "iopub.execute_input": "2022-03-20T17:40:29.958431Z",
     "iopub.status.busy": "2022-03-20T17:40:29.953783Z",
     "iopub.status.idle": "2022-03-20T17:40:29.961731Z",
     "shell.execute_reply": "2022-03-20T17:40:29.961314Z"
    },
    "papermill": {
     "duration": 0.030613,
     "end_time": "2022-03-20T17:40:29.961825",
     "exception": false,
     "start_time": "2022-03-20T17:40:29.931212",
     "status": "completed"
    },
    "tags": []
   },
   "outputs": [],
   "source": [
    "p.domains_source = []\n",
    "p.domains_target = []\n",
    "\n",
    "\n",
    "train_original_source = []\n",
    "val_original_source   = []\n",
    "test_original_source  = []\n",
    "\n",
    "train_original_target = []\n",
    "val_original_target   = []\n",
    "test_original_target  = []"
   ]
  },
  {
   "cell_type": "code",
   "execution_count": 11,
   "id": "e3d9c3d3",
   "metadata": {
    "execution": {
     "iopub.execute_input": "2022-03-20T17:40:30.002810Z",
     "iopub.status.busy": "2022-03-20T17:40:29.997511Z",
     "iopub.status.idle": "2022-03-20T17:40:30.008057Z",
     "shell.execute_reply": "2022-03-20T17:40:30.008449Z"
    },
    "papermill": {
     "duration": 0.030167,
     "end_time": "2022-03-20T17:40:30.008559",
     "exception": false,
     "start_time": "2022-03-20T17:40:29.978392",
     "status": "completed"
    },
    "tags": []
   },
   "outputs": [],
   "source": [
    "# global_x_transform_func = lambda x: normalize(x.to(torch.get_default_dtype()), \"unit_power\") # unit_power, unit_mag\n",
    "# global_x_transform_func = lambda x: normalize(x, \"unit_power\") # unit_power, unit_mag"
   ]
  },
  {
   "cell_type": "code",
   "execution_count": 12,
   "id": "acb78fd2",
   "metadata": {
    "execution": {
     "iopub.execute_input": "2022-03-20T17:40:30.051325Z",
     "iopub.status.busy": "2022-03-20T17:40:30.047979Z",
     "iopub.status.idle": "2022-03-20T17:40:30.060303Z",
     "shell.execute_reply": "2022-03-20T17:40:30.060681Z"
    },
    "papermill": {
     "duration": 0.032744,
     "end_time": "2022-03-20T17:40:30.060785",
     "exception": false,
     "start_time": "2022-03-20T17:40:30.028041",
     "status": "completed"
    },
    "tags": []
   },
   "outputs": [],
   "source": [
    "def add_dataset(\n",
    "    labels,\n",
    "    domains,\n",
    "    pickle_path,\n",
    "    x_transforms,\n",
    "    episode_transforms,\n",
    "    domain_prefix,\n",
    "    num_examples_per_domain_per_label,\n",
    "    source_or_target_dataset:str,\n",
    "    iterator_seed=p.seed,\n",
    "    dataset_seed=p.dataset_seed,\n",
    "    n_shot=p.n_shot,\n",
    "    n_way=p.n_way,\n",
    "    n_query=p.n_query,\n",
    "    train_val_test_k_factors=(p.train_k_factor,p.val_k_factor,p.test_k_factor),\n",
    "):\n",
    "   \n",
    "    if x_transforms == []: x_transform = None\n",
    "    else: x_transform = get_chained_transform(x_transforms)\n",
    "    \n",
    "    if episode_transforms == []: episode_transform = None\n",
    "    else: raise Exception(\"episode_transforms not implemented\")\n",
    "    \n",
    "    episode_transform = lambda tup, _prefix=domain_prefix: (_prefix + str(tup[0]), tup[1])\n",
    "\n",
    "\n",
    "    eaf = Episodic_Accessor_Factory(\n",
    "        labels=labels,\n",
    "        domains=domains,\n",
    "        num_examples_per_domain_per_label=num_examples_per_domain_per_label,\n",
    "        iterator_seed=iterator_seed,\n",
    "        dataset_seed=dataset_seed,\n",
    "        n_shot=n_shot,\n",
    "        n_way=n_way,\n",
    "        n_query=n_query,\n",
    "        train_val_test_k_factors=train_val_test_k_factors,\n",
    "        pickle_path=pickle_path,\n",
    "        x_transform_func=x_transform,\n",
    "    )\n",
    "\n",
    "    train, val, test = eaf.get_train(), eaf.get_val(), eaf.get_test()\n",
    "    train = Lazy_Iterable_Wrapper(train, episode_transform)\n",
    "    val = Lazy_Iterable_Wrapper(val, episode_transform)\n",
    "    test = Lazy_Iterable_Wrapper(test, episode_transform)\n",
    "\n",
    "    if source_or_target_dataset==\"source\":\n",
    "        train_original_source.append(train)\n",
    "        val_original_source.append(val)\n",
    "        test_original_source.append(test)\n",
    "\n",
    "        p.domains_source.extend(\n",
    "            [domain_prefix + str(u) for u in domains]\n",
    "        )\n",
    "    elif source_or_target_dataset==\"target\":\n",
    "        train_original_target.append(train)\n",
    "        val_original_target.append(val)\n",
    "        test_original_target.append(test)\n",
    "        p.domains_target.extend(\n",
    "            [domain_prefix + str(u) for u in domains]\n",
    "        )\n",
    "    else:\n",
    "        raise Exception(f\"invalid source_or_target_dataset: {source_or_target_dataset}\")\n",
    "    "
   ]
  },
  {
   "cell_type": "code",
   "execution_count": 13,
   "id": "fe266617",
   "metadata": {
    "execution": {
     "iopub.execute_input": "2022-03-20T17:40:30.094680Z",
     "iopub.status.busy": "2022-03-20T17:40:30.094050Z",
     "iopub.status.idle": "2022-03-20T17:40:48.222880Z",
     "shell.execute_reply": "2022-03-20T17:40:48.222428Z"
    },
    "papermill": {
     "duration": 18.143546,
     "end_time": "2022-03-20T17:40:48.222981",
     "exception": false,
     "start_time": "2022-03-20T17:40:30.079435",
     "status": "completed"
    },
    "tags": []
   },
   "outputs": [],
   "source": [
    "for ds in p.datasets:\n",
    "    add_dataset(**ds)"
   ]
  },
  {
   "cell_type": "code",
   "execution_count": 14,
   "id": "b90d65ac",
   "metadata": {
    "execution": {
     "iopub.execute_input": "2022-03-20T17:40:48.267253Z",
     "iopub.status.busy": "2022-03-20T17:40:48.263879Z",
     "iopub.status.idle": "2022-03-20T17:40:48.277846Z",
     "shell.execute_reply": "2022-03-20T17:40:48.277453Z"
    },
    "papermill": {
     "duration": 0.035252,
     "end_time": "2022-03-20T17:40:48.277936",
     "exception": false,
     "start_time": "2022-03-20T17:40:48.242684",
     "status": "completed"
    },
    "tags": []
   },
   "outputs": [],
   "source": [
    "# from steves_utils.CORES.utils import (\n",
    "#     ALL_NODES,\n",
    "#     ALL_NODES_MINIMUM_1000_EXAMPLES,\n",
    "#     ALL_DAYS\n",
    "# )\n",
    "\n",
    "# add_dataset(\n",
    "#     labels=ALL_NODES,\n",
    "#     domains = ALL_DAYS,\n",
    "#     num_examples_per_domain_per_label=100,\n",
    "#     pickle_path=os.path.join(get_datasets_base_path(), \"cores.stratified_ds.2022A.pkl\"),\n",
    "#     source_or_target_dataset=\"target\",\n",
    "#     x_transform_func=global_x_transform_func,\n",
    "#     domain_modifier=lambda u: f\"cores_{u}\"\n",
    "# )"
   ]
  },
  {
   "cell_type": "code",
   "execution_count": 15,
   "id": "76db484d",
   "metadata": {
    "execution": {
     "iopub.execute_input": "2022-03-20T17:40:48.312209Z",
     "iopub.status.busy": "2022-03-20T17:40:48.311956Z",
     "iopub.status.idle": "2022-03-20T17:40:48.325760Z",
     "shell.execute_reply": "2022-03-20T17:40:48.325308Z"
    },
    "papermill": {
     "duration": 0.029874,
     "end_time": "2022-03-20T17:40:48.325862",
     "exception": false,
     "start_time": "2022-03-20T17:40:48.295988",
     "status": "completed"
    },
    "tags": []
   },
   "outputs": [],
   "source": [
    "# from steves_utils.ORACLE.utils_v2 import (\n",
    "#     ALL_DISTANCES_FEET,\n",
    "#     ALL_RUNS,\n",
    "#     ALL_SERIAL_NUMBERS,\n",
    "# )\n",
    "\n",
    "\n",
    "# add_dataset(\n",
    "#     labels=ALL_SERIAL_NUMBERS,\n",
    "#     domains = list(set(ALL_DISTANCES_FEET) - {2,62}),\n",
    "#     num_examples_per_domain_per_label=100,\n",
    "#     pickle_path=os.path.join(get_datasets_base_path(), \"oracle.Run2_framed_2000Examples_stratified_ds.2022A.pkl\"),\n",
    "#     source_or_target_dataset=\"source\",\n",
    "#     x_transform_func=global_x_transform_func,\n",
    "#     domain_modifier=lambda u: f\"oracle1_{u}\"\n",
    "# )\n"
   ]
  },
  {
   "cell_type": "code",
   "execution_count": 16,
   "id": "97dea9d2",
   "metadata": {
    "execution": {
     "iopub.execute_input": "2022-03-20T17:40:48.367746Z",
     "iopub.status.busy": "2022-03-20T17:40:48.366173Z",
     "iopub.status.idle": "2022-03-20T17:40:48.372933Z",
     "shell.execute_reply": "2022-03-20T17:40:48.372496Z"
    },
    "papermill": {
     "duration": 0.030207,
     "end_time": "2022-03-20T17:40:48.373026",
     "exception": false,
     "start_time": "2022-03-20T17:40:48.342819",
     "status": "completed"
    },
    "tags": []
   },
   "outputs": [],
   "source": [
    "# from steves_utils.ORACLE.utils_v2 import (\n",
    "#     ALL_DISTANCES_FEET,\n",
    "#     ALL_RUNS,\n",
    "#     ALL_SERIAL_NUMBERS,\n",
    "# )\n",
    "\n",
    "\n",
    "# add_dataset(\n",
    "#     labels=ALL_SERIAL_NUMBERS,\n",
    "#     domains = list(set(ALL_DISTANCES_FEET) - {2,62,56}),\n",
    "#     num_examples_per_domain_per_label=100,\n",
    "#     pickle_path=os.path.join(get_datasets_base_path(), \"oracle.Run2_framed_2000Examples_stratified_ds.2022A.pkl\"),\n",
    "#     source_or_target_dataset=\"source\",\n",
    "#     x_transform_func=global_x_transform_func,\n",
    "#     domain_modifier=lambda u: f\"oracle2_{u}\"\n",
    "# )"
   ]
  },
  {
   "cell_type": "code",
   "execution_count": 17,
   "id": "6f289866",
   "metadata": {
    "execution": {
     "iopub.execute_input": "2022-03-20T17:40:48.412163Z",
     "iopub.status.busy": "2022-03-20T17:40:48.407172Z",
     "iopub.status.idle": "2022-03-20T17:40:48.421798Z",
     "shell.execute_reply": "2022-03-20T17:40:48.421293Z"
    },
    "papermill": {
     "duration": 0.029544,
     "end_time": "2022-03-20T17:40:48.421900",
     "exception": false,
     "start_time": "2022-03-20T17:40:48.392356",
     "status": "completed"
    },
    "tags": []
   },
   "outputs": [],
   "source": [
    "# add_dataset(\n",
    "#     labels=list(range(19)),\n",
    "#     domains = [0,1,2],\n",
    "#     num_examples_per_domain_per_label=100,\n",
    "#     pickle_path=os.path.join(get_datasets_base_path(), \"metehan.stratified_ds.2022A.pkl\"),\n",
    "#     source_or_target_dataset=\"target\",\n",
    "#     x_transform_func=global_x_transform_func,\n",
    "#     domain_modifier=lambda u: f\"met_{u}\"\n",
    "# )"
   ]
  },
  {
   "cell_type": "code",
   "execution_count": 18,
   "id": "86a863c3",
   "metadata": {
    "execution": {
     "iopub.execute_input": "2022-03-20T17:40:48.463787Z",
     "iopub.status.busy": "2022-03-20T17:40:48.456167Z",
     "iopub.status.idle": "2022-03-20T17:40:48.470215Z",
     "shell.execute_reply": "2022-03-20T17:40:48.469806Z"
    },
    "papermill": {
     "duration": 0.029589,
     "end_time": "2022-03-20T17:40:48.470307",
     "exception": false,
     "start_time": "2022-03-20T17:40:48.440718",
     "status": "completed"
    },
    "tags": []
   },
   "outputs": [],
   "source": [
    "# # from steves_utils.wisig.utils import (\n",
    "# #     ALL_NODES_MINIMUM_100_EXAMPLES,\n",
    "# #     ALL_NODES_MINIMUM_500_EXAMPLES,\n",
    "# #     ALL_NODES_MINIMUM_1000_EXAMPLES,\n",
    "# #     ALL_DAYS\n",
    "# # )\n",
    "\n",
    "# import steves_utils.wisig.utils as wisig\n",
    "\n",
    "\n",
    "# add_dataset(\n",
    "#     labels=wisig.ALL_NODES_MINIMUM_100_EXAMPLES,\n",
    "#     domains = wisig.ALL_DAYS,\n",
    "#     num_examples_per_domain_per_label=100,\n",
    "#     pickle_path=os.path.join(get_datasets_base_path(), \"wisig.node3-19.stratified_ds.2022A.pkl\"),\n",
    "#     source_or_target_dataset=\"target\",\n",
    "#     x_transform_func=global_x_transform_func,\n",
    "#     domain_modifier=lambda u: f\"wisig_{u}\"\n",
    "# )"
   ]
  },
  {
   "cell_type": "code",
   "execution_count": 19,
   "id": "fd5442bc",
   "metadata": {
    "execution": {
     "iopub.execute_input": "2022-03-20T17:40:48.508463Z",
     "iopub.status.busy": "2022-03-20T17:40:48.506776Z",
     "iopub.status.idle": "2022-03-20T17:40:48.520132Z",
     "shell.execute_reply": "2022-03-20T17:40:48.519684Z"
    },
    "papermill": {
     "duration": 0.031451,
     "end_time": "2022-03-20T17:40:48.520222",
     "exception": false,
     "start_time": "2022-03-20T17:40:48.488771",
     "status": "completed"
    },
    "tags": []
   },
   "outputs": [],
   "source": [
    "###################################\n",
    "# Build the dataset\n",
    "###################################\n",
    "train_original_source = Iterable_Aggregator(train_original_source, p.seed)\n",
    "val_original_source = Iterable_Aggregator(val_original_source, p.seed)\n",
    "test_original_source = Iterable_Aggregator(test_original_source, p.seed)\n",
    "\n",
    "\n",
    "train_original_target = Iterable_Aggregator(train_original_target, p.seed)\n",
    "val_original_target = Iterable_Aggregator(val_original_target, p.seed)\n",
    "test_original_target = Iterable_Aggregator(test_original_target, p.seed)\n",
    "\n",
    "# For CNN We only use X and Y. And we only train on the source.\n",
    "# Properly form the data using a transform lambda and Lazy_Iterable_Wrapper. Finally wrap them in a dataloader\n",
    "\n",
    "transform_lambda = lambda ex: ex[1] # Original is (<domain>, <episode>) so we strip down to episode only\n",
    "\n",
    "train_processed_source = Lazy_Iterable_Wrapper(train_original_source, transform_lambda)\n",
    "val_processed_source   = Lazy_Iterable_Wrapper(val_original_source, transform_lambda)\n",
    "test_processed_source  = Lazy_Iterable_Wrapper(test_original_source, transform_lambda)\n",
    "\n",
    "train_processed_target = Lazy_Iterable_Wrapper(train_original_target, transform_lambda)\n",
    "val_processed_target   = Lazy_Iterable_Wrapper(val_original_target, transform_lambda)\n",
    "test_processed_target  = Lazy_Iterable_Wrapper(test_original_target, transform_lambda)\n",
    "\n",
    "datasets = EasyDict({\n",
    "    \"source\": {\n",
    "        \"original\": {\"train\":train_original_source, \"val\":val_original_source, \"test\":test_original_source},\n",
    "        \"processed\": {\"train\":train_processed_source, \"val\":val_processed_source, \"test\":test_processed_source}\n",
    "    },\n",
    "    \"target\": {\n",
    "        \"original\": {\"train\":train_original_target, \"val\":val_original_target, \"test\":test_original_target},\n",
    "        \"processed\": {\"train\":train_processed_target, \"val\":val_processed_target, \"test\":test_processed_target}\n",
    "    },\n",
    "})"
   ]
  },
  {
   "cell_type": "code",
   "execution_count": 20,
   "id": "5b3c01fc",
   "metadata": {
    "execution": {
     "iopub.execute_input": "2022-03-20T17:40:48.564042Z",
     "iopub.status.busy": "2022-03-20T17:40:48.556009Z",
     "iopub.status.idle": "2022-03-20T17:40:57.893473Z",
     "shell.execute_reply": "2022-03-20T17:40:57.893881Z"
    },
    "papermill": {
     "duration": 9.354346,
     "end_time": "2022-03-20T17:40:57.894007",
     "exception": false,
     "start_time": "2022-03-20T17:40:48.539661",
     "status": "completed"
    },
    "tags": []
   },
   "outputs": [
    {
     "name": "stdout",
     "output_type": "stream",
     "text": [
      "{'C_5', 'W_4', 'W_1', 'W_3', 'W_2', 'C_4', 'C_3', 'C_2', 'C_1'}\n"
     ]
    },
    {
     "name": "stdout",
     "output_type": "stream",
     "text": [
      "{'O_50', 'O_26', 'O_32', 'O_20', 'O_38', 'O_44', 'O_8', 'O_14'}\n"
     ]
    },
    {
     "name": "stdout",
     "output_type": "stream",
     "text": [
      "tensor([[[-0.0147,  0.0202,  0.0417,  ..., -0.0327,  0.0291,  0.0313],\n",
      "         [-0.0173, -0.0375,  0.0094,  ..., -0.0527, -0.0396,  0.0188]],\n",
      "\n",
      "        [[-0.0135,  0.0282,  0.0431,  ..., -0.0114,  0.0415,  0.0203],\n",
      "         [-0.0328, -0.0323,  0.0211,  ..., -0.0527, -0.0349,  0.0242]],\n",
      "\n",
      "        [[-0.0215,  0.0303,  0.0365,  ..., -0.0181,  0.0275, -0.0161],\n",
      "         [-0.0286, -0.0385,  0.0156,  ..., -0.0407, -0.0204, -0.0202]],\n",
      "\n",
      "        ...,\n",
      "\n",
      "        [[-0.0038,  0.0216,  0.0331,  ...,  0.0112,  0.0224,  0.0013],\n",
      "         [-0.0052, -0.0221, -0.0073,  ..., -0.0361, -0.0130, -0.0089]],\n",
      "\n",
      "        [[-0.0124,  0.0220,  0.0363,  ...,  0.0286,  0.0305,  0.0139],\n",
      "         [-0.0026, -0.0047,  0.0099,  ..., -0.0214, -0.0069,  0.0110]],\n",
      "\n",
      "        [[ 0.0071, -0.0016, -0.0258,  ..., -0.0041, -0.0211, -0.0180],\n",
      "         [-0.0027,  0.0172,  0.0197,  ...,  0.0257,  0.0297,  0.0123]]])\n"
     ]
    }
   ],
   "source": [
    "from steves_utils.transforms import get_average_magnitude, get_average_power\n",
    "\n",
    "print(set([u for u,_ in val_original_source]))\n",
    "print(set([u for u,_ in val_original_target]))\n",
    "\n",
    "s_x, s_y, q_x, q_y, _ = next(iter(train_processed_source))\n",
    "print(s_x)\n",
    "\n",
    "# for ds in [\n",
    "#     train_processed_source,\n",
    "#     val_processed_source,\n",
    "#     test_processed_source,\n",
    "#     train_processed_target,\n",
    "#     val_processed_target,\n",
    "#     test_processed_target\n",
    "# ]:\n",
    "#     for s_x, s_y, q_x, q_y, _ in ds:\n",
    "#         for X in (s_x, q_x):\n",
    "#             for x in X:\n",
    "#                 assert np.isclose(get_average_magnitude(x.numpy()), 1.0)\n",
    "#                 assert np.isclose(get_average_power(x.numpy()), 1.0)\n",
    "                "
   ]
  },
  {
   "cell_type": "code",
   "execution_count": 21,
   "id": "bbdacba1",
   "metadata": {
    "execution": {
     "iopub.execute_input": "2022-03-20T17:40:57.933862Z",
     "iopub.status.busy": "2022-03-20T17:40:57.933347Z",
     "iopub.status.idle": "2022-03-20T17:40:57.980971Z",
     "shell.execute_reply": "2022-03-20T17:40:57.980502Z"
    },
    "papermill": {
     "duration": 0.066424,
     "end_time": "2022-03-20T17:40:57.981073",
     "exception": false,
     "start_time": "2022-03-20T17:40:57.914649",
     "status": "completed"
    },
    "tags": []
   },
   "outputs": [
    {
     "name": "stdout",
     "output_type": "stream",
     "text": [
      "(2, 200)\n"
     ]
    }
   ],
   "source": [
    "###################################\n",
    "# Build the model\n",
    "###################################\n",
    "# easfsl only wants a tuple for the shape\n",
    "model = Steves_Prototypical_Network(x_net, device=p.device, x_shape=tuple(p.x_shape))\n",
    "optimizer = Adam(params=model.parameters(), lr=p.lr)"
   ]
  },
  {
   "cell_type": "code",
   "execution_count": 22,
   "id": "22b39ac5",
   "metadata": {
    "execution": {
     "iopub.execute_input": "2022-03-20T17:40:58.016926Z",
     "iopub.status.busy": "2022-03-20T17:40:58.016674Z",
     "iopub.status.idle": "2022-03-20T18:41:02.013547Z",
     "shell.execute_reply": "2022-03-20T18:41:02.013268Z"
    },
    "papermill": {
     "duration": 3604.014519,
     "end_time": "2022-03-20T18:41:02.013608",
     "exception": false,
     "start_time": "2022-03-20T17:40:57.999089",
     "status": "completed"
    },
    "tags": []
   },
   "outputs": [
    {
     "name": "stdout",
     "output_type": "stream",
     "text": [
      "epoch: 1, [batch: 1 / 13150], examples_per_second: 24.3311, train_label_loss: 2.2853, \n"
     ]
    },
    {
     "name": "stdout",
     "output_type": "stream",
     "text": [
      "epoch: 1, [batch: 1315 / 13150], examples_per_second: 3633.2879, train_label_loss: 0.0241, \n"
     ]
    },
    {
     "name": "stdout",
     "output_type": "stream",
     "text": [
      "epoch: 1, [batch: 2630 / 13150], examples_per_second: 3639.3215, train_label_loss: 0.0066, \n"
     ]
    },
    {
     "name": "stdout",
     "output_type": "stream",
     "text": [
      "epoch: 1, [batch: 3945 / 13150], examples_per_second: 3628.0017, train_label_loss: 0.0296, \n"
     ]
    },
    {
     "name": "stdout",
     "output_type": "stream",
     "text": [
      "epoch: 1, [batch: 5260 / 13150], examples_per_second: 3579.7372, train_label_loss: 0.2188, \n"
     ]
    },
    {
     "name": "stdout",
     "output_type": "stream",
     "text": [
      "epoch: 1, [batch: 6575 / 13150], examples_per_second: 3566.1718, train_label_loss: 0.0068, \n"
     ]
    },
    {
     "name": "stdout",
     "output_type": "stream",
     "text": [
      "epoch: 1, [batch: 7890 / 13150], examples_per_second: 3582.2459, train_label_loss: 0.2506, \n"
     ]
    },
    {
     "name": "stdout",
     "output_type": "stream",
     "text": [
      "epoch: 1, [batch: 9205 / 13150], examples_per_second: 3598.5419, train_label_loss: 0.0085, \n"
     ]
    },
    {
     "name": "stdout",
     "output_type": "stream",
     "text": [
      "epoch: 1, [batch: 10520 / 13150], examples_per_second: 3452.7358, train_label_loss: 0.4323, \n"
     ]
    },
    {
     "name": "stdout",
     "output_type": "stream",
     "text": [
      "epoch: 1, [batch: 11835 / 13150], examples_per_second: 3396.3498, train_label_loss: 0.0208, \n"
     ]
    },
    {
     "name": "stdout",
     "output_type": "stream",
     "text": [
      "=============================================================\n",
      "epoch: 1, source_val_acc_label: 0.9761, target_val_acc_label: 0.4177, source_val_label_loss: 0.1231, target_val_label_loss: 2.4891, \n",
      "=============================================================\n"
     ]
    },
    {
     "name": "stdout",
     "output_type": "stream",
     "text": [
      "New best\n"
     ]
    },
    {
     "name": "stdout",
     "output_type": "stream",
     "text": [
      "epoch: 2, [batch: 1 / 13146], examples_per_second: 2.8599, train_label_loss: 0.0438, \n"
     ]
    },
    {
     "name": "stdout",
     "output_type": "stream",
     "text": [
      "epoch: 2, [batch: 1315 / 13146], examples_per_second: 3549.7580, train_label_loss: 0.0558, \n"
     ]
    },
    {
     "name": "stdout",
     "output_type": "stream",
     "text": [
      "epoch: 2, [batch: 2630 / 13146], examples_per_second: 3538.9825, train_label_loss: 0.1095, \n"
     ]
    },
    {
     "name": "stdout",
     "output_type": "stream",
     "text": [
      "epoch: 2, [batch: 3944 / 13146], examples_per_second: 3578.2354, train_label_loss: 0.0166, \n"
     ]
    },
    {
     "name": "stdout",
     "output_type": "stream",
     "text": [
      "epoch: 2, [batch: 5259 / 13146], examples_per_second: 3510.3859, train_label_loss: 0.0366, \n"
     ]
    },
    {
     "name": "stdout",
     "output_type": "stream",
     "text": [
      "epoch: 2, [batch: 6573 / 13146], examples_per_second: 3531.8070, train_label_loss: 0.0122, \n"
     ]
    },
    {
     "name": "stdout",
     "output_type": "stream",
     "text": [
      "epoch: 2, [batch: 7888 / 13146], examples_per_second: 3565.4825, train_label_loss: 0.0113, \n"
     ]
    },
    {
     "name": "stdout",
     "output_type": "stream",
     "text": [
      "epoch: 2, [batch: 9202 / 13146], examples_per_second: 3464.2954, train_label_loss: 0.0012, \n"
     ]
    },
    {
     "name": "stdout",
     "output_type": "stream",
     "text": [
      "epoch: 2, [batch: 10517 / 13146], examples_per_second: 3376.2692, train_label_loss: 0.2649, \n"
     ]
    },
    {
     "name": "stdout",
     "output_type": "stream",
     "text": [
      "epoch: 2, [batch: 11831 / 13146], examples_per_second: 3503.1428, train_label_loss: 0.1647, \n"
     ]
    },
    {
     "name": "stdout",
     "output_type": "stream",
     "text": [
      "=============================================================\n",
      "epoch: 2, source_val_acc_label: 0.9826, target_val_acc_label: 0.4749, source_val_label_loss: 0.0801, target_val_label_loss: 2.2959, \n",
      "=============================================================\n"
     ]
    },
    {
     "name": "stdout",
     "output_type": "stream",
     "text": [
      "New best\n"
     ]
    },
    {
     "name": "stdout",
     "output_type": "stream",
     "text": [
      "epoch: 3, [batch: 1 / 13172], examples_per_second: 2.8690, train_label_loss: 0.1231, \n"
     ]
    },
    {
     "name": "stdout",
     "output_type": "stream",
     "text": [
      "epoch: 3, [batch: 1318 / 13172], examples_per_second: 3513.4138, train_label_loss: 0.0046, \n"
     ]
    },
    {
     "name": "stdout",
     "output_type": "stream",
     "text": [
      "epoch: 3, [batch: 2635 / 13172], examples_per_second: 3531.8532, train_label_loss: 0.0005, \n"
     ]
    },
    {
     "name": "stdout",
     "output_type": "stream",
     "text": [
      "epoch: 3, [batch: 3952 / 13172], examples_per_second: 2465.8157, train_label_loss: 0.0420, \n"
     ]
    },
    {
     "name": "stdout",
     "output_type": "stream",
     "text": [
      "epoch: 3, [batch: 5269 / 13172], examples_per_second: 3676.1405, train_label_loss: 0.0054, \n"
     ]
    },
    {
     "name": "stdout",
     "output_type": "stream",
     "text": [
      "epoch: 3, [batch: 6586 / 13172], examples_per_second: 3680.3579, train_label_loss: 0.0036, \n"
     ]
    },
    {
     "name": "stdout",
     "output_type": "stream",
     "text": [
      "epoch: 3, [batch: 7903 / 13172], examples_per_second: 3725.3820, train_label_loss: 0.0004, \n"
     ]
    },
    {
     "name": "stdout",
     "output_type": "stream",
     "text": [
      "epoch: 3, [batch: 9220 / 13172], examples_per_second: 3663.0097, train_label_loss: 0.2680, \n"
     ]
    },
    {
     "name": "stdout",
     "output_type": "stream",
     "text": [
      "epoch: 3, [batch: 10537 / 13172], examples_per_second: 3669.8762, train_label_loss: 0.0005, \n"
     ]
    },
    {
     "name": "stdout",
     "output_type": "stream",
     "text": [
      "epoch: 3, [batch: 11854 / 13172], examples_per_second: 3682.4795, train_label_loss: 0.0020, \n"
     ]
    },
    {
     "name": "stdout",
     "output_type": "stream",
     "text": [
      "=============================================================\n",
      "epoch: 3, source_val_acc_label: 0.9849, target_val_acc_label: 0.4608, source_val_label_loss: 0.0684, target_val_label_loss: 2.3237, \n",
      "=============================================================\n"
     ]
    },
    {
     "name": "stdout",
     "output_type": "stream",
     "text": [
      "epoch: 4, [batch: 1 / 13145], examples_per_second: 2.9298, train_label_loss: 0.0254, \n"
     ]
    },
    {
     "name": "stdout",
     "output_type": "stream",
     "text": [
      "epoch: 4, [batch: 1315 / 13145], examples_per_second: 3669.4015, train_label_loss: 0.0006, \n"
     ]
    },
    {
     "name": "stdout",
     "output_type": "stream",
     "text": [
      "epoch: 4, [batch: 2629 / 13145], examples_per_second: 3684.0818, train_label_loss: 0.0004, \n"
     ]
    },
    {
     "name": "stdout",
     "output_type": "stream",
     "text": [
      "epoch: 4, [batch: 3944 / 13145], examples_per_second: 3681.0523, train_label_loss: 0.0027, \n"
     ]
    },
    {
     "name": "stdout",
     "output_type": "stream",
     "text": [
      "epoch: 4, [batch: 5258 / 13145], examples_per_second: 3746.5247, train_label_loss: 0.0110, \n"
     ]
    },
    {
     "name": "stdout",
     "output_type": "stream",
     "text": [
      "epoch: 4, [batch: 6573 / 13145], examples_per_second: 3687.2366, train_label_loss: 0.0398, \n"
     ]
    },
    {
     "name": "stdout",
     "output_type": "stream",
     "text": [
      "epoch: 4, [batch: 7887 / 13145], examples_per_second: 3789.9320, train_label_loss: 0.0094, \n"
     ]
    },
    {
     "name": "stdout",
     "output_type": "stream",
     "text": [
      "epoch: 4, [batch: 9201 / 13145], examples_per_second: 3709.1824, train_label_loss: 0.0016, \n"
     ]
    },
    {
     "name": "stdout",
     "output_type": "stream",
     "text": [
      "epoch: 4, [batch: 10516 / 13145], examples_per_second: 3743.1421, train_label_loss: 0.0001, \n"
     ]
    },
    {
     "name": "stdout",
     "output_type": "stream",
     "text": [
      "epoch: 4, [batch: 11830 / 13145], examples_per_second: 3771.3393, train_label_loss: 0.0137, \n"
     ]
    },
    {
     "name": "stdout",
     "output_type": "stream",
     "text": [
      "=============================================================\n",
      "epoch: 4, source_val_acc_label: 0.9856, target_val_acc_label: 0.4388, source_val_label_loss: 0.0630, target_val_label_loss: 2.2927, \n",
      "=============================================================\n"
     ]
    },
    {
     "name": "stdout",
     "output_type": "stream",
     "text": [
      "epoch: 5, [batch: 1 / 13163], examples_per_second: 3.0197, train_label_loss: 0.0004, \n"
     ]
    },
    {
     "name": "stdout",
     "output_type": "stream",
     "text": [
      "epoch: 5, [batch: 1317 / 13163], examples_per_second: 3702.3967, train_label_loss: 0.2244, \n"
     ]
    },
    {
     "name": "stdout",
     "output_type": "stream",
     "text": [
      "epoch: 5, [batch: 2633 / 13163], examples_per_second: 3763.4779, train_label_loss: 0.0336, \n"
     ]
    },
    {
     "name": "stdout",
     "output_type": "stream",
     "text": [
      "epoch: 5, [batch: 3949 / 13163], examples_per_second: 3711.6293, train_label_loss: 0.0050, \n"
     ]
    },
    {
     "name": "stdout",
     "output_type": "stream",
     "text": [
      "epoch: 5, [batch: 5265 / 13163], examples_per_second: 3755.6675, train_label_loss: 0.4448, \n"
     ]
    },
    {
     "name": "stdout",
     "output_type": "stream",
     "text": [
      "epoch: 5, [batch: 6582 / 13163], examples_per_second: 3802.5747, train_label_loss: 0.2661, \n"
     ]
    },
    {
     "name": "stdout",
     "output_type": "stream",
     "text": [
      "epoch: 5, [batch: 7898 / 13163], examples_per_second: 3695.3531, train_label_loss: 0.0081, \n"
     ]
    },
    {
     "name": "stdout",
     "output_type": "stream",
     "text": [
      "epoch: 5, [batch: 9214 / 13163], examples_per_second: 3746.5736, train_label_loss: 0.2123, \n"
     ]
    },
    {
     "name": "stdout",
     "output_type": "stream",
     "text": [
      "epoch: 5, [batch: 10530 / 13163], examples_per_second: 3770.4678, train_label_loss: 0.0015, \n"
     ]
    },
    {
     "name": "stdout",
     "output_type": "stream",
     "text": [
      "epoch: 5, [batch: 11846 / 13163], examples_per_second: 3774.1169, train_label_loss: 0.0009, \n"
     ]
    },
    {
     "name": "stdout",
     "output_type": "stream",
     "text": [
      "=============================================================\n",
      "epoch: 5, source_val_acc_label: 0.9857, target_val_acc_label: 0.4761, source_val_label_loss: 0.0621, target_val_label_loss: 2.1315, \n",
      "=============================================================\n"
     ]
    },
    {
     "name": "stdout",
     "output_type": "stream",
     "text": [
      "New best\n"
     ]
    },
    {
     "name": "stdout",
     "output_type": "stream",
     "text": [
      "epoch: 6, [batch: 1 / 13152], examples_per_second: 3.0354, train_label_loss: 0.1973, \n"
     ]
    },
    {
     "name": "stdout",
     "output_type": "stream",
     "text": [
      "epoch: 6, [batch: 1316 / 13152], examples_per_second: 3765.9719, train_label_loss: 0.0455, \n"
     ]
    },
    {
     "name": "stdout",
     "output_type": "stream",
     "text": [
      "epoch: 6, [batch: 2631 / 13152], examples_per_second: 3786.8907, train_label_loss: 0.0074, \n"
     ]
    },
    {
     "name": "stdout",
     "output_type": "stream",
     "text": [
      "epoch: 6, [batch: 3946 / 13152], examples_per_second: 3795.5900, train_label_loss: 0.0005, \n"
     ]
    },
    {
     "name": "stdout",
     "output_type": "stream",
     "text": [
      "epoch: 6, [batch: 5261 / 13152], examples_per_second: 3774.8979, train_label_loss: 0.0449, \n"
     ]
    },
    {
     "name": "stdout",
     "output_type": "stream",
     "text": [
      "epoch: 6, [batch: 6576 / 13152], examples_per_second: 3818.3328, train_label_loss: 0.0387, \n"
     ]
    },
    {
     "name": "stdout",
     "output_type": "stream",
     "text": [
      "epoch: 6, [batch: 7891 / 13152], examples_per_second: 3794.9511, train_label_loss: 0.0001, \n"
     ]
    },
    {
     "name": "stdout",
     "output_type": "stream",
     "text": [
      "epoch: 6, [batch: 9206 / 13152], examples_per_second: 3782.8346, train_label_loss: 0.0002, \n"
     ]
    },
    {
     "name": "stdout",
     "output_type": "stream",
     "text": [
      "epoch: 6, [batch: 10521 / 13152], examples_per_second: 3787.2821, train_label_loss: 0.0227, \n"
     ]
    },
    {
     "name": "stdout",
     "output_type": "stream",
     "text": [
      "epoch: 6, [batch: 11836 / 13152], examples_per_second: 3820.0986, train_label_loss: 0.0019, \n"
     ]
    },
    {
     "name": "stdout",
     "output_type": "stream",
     "text": [
      "=============================================================\n",
      "epoch: 6, source_val_acc_label: 0.9862, target_val_acc_label: 0.4585, source_val_label_loss: 0.0590, target_val_label_loss: 2.0448, \n",
      "=============================================================\n"
     ]
    },
    {
     "name": "stdout",
     "output_type": "stream",
     "text": [
      "epoch: 7, [batch: 1 / 13174], examples_per_second: 3.0394, train_label_loss: 0.0688, \n"
     ]
    },
    {
     "name": "stdout",
     "output_type": "stream",
     "text": [
      "epoch: 7, [batch: 1318 / 13174], examples_per_second: 3746.5013, train_label_loss: 0.0007, \n"
     ]
    },
    {
     "name": "stdout",
     "output_type": "stream",
     "text": [
      "epoch: 7, [batch: 2635 / 13174], examples_per_second: 3766.3730, train_label_loss: 0.0005, \n"
     ]
    },
    {
     "name": "stdout",
     "output_type": "stream",
     "text": [
      "epoch: 7, [batch: 3952 / 13174], examples_per_second: 3784.3741, train_label_loss: 0.0003, \n"
     ]
    },
    {
     "name": "stdout",
     "output_type": "stream",
     "text": [
      "epoch: 7, [batch: 5270 / 13174], examples_per_second: 3766.6270, train_label_loss: 0.0527, \n"
     ]
    },
    {
     "name": "stdout",
     "output_type": "stream",
     "text": [
      "epoch: 7, [batch: 6587 / 13174], examples_per_second: 3685.8296, train_label_loss: 0.3106, \n"
     ]
    },
    {
     "name": "stdout",
     "output_type": "stream",
     "text": [
      "epoch: 7, [batch: 7904 / 13174], examples_per_second: 3611.5042, train_label_loss: 0.0780, \n"
     ]
    },
    {
     "name": "stdout",
     "output_type": "stream",
     "text": [
      "epoch: 7, [batch: 9222 / 13174], examples_per_second: 3689.8574, train_label_loss: 0.2022, \n"
     ]
    },
    {
     "name": "stdout",
     "output_type": "stream",
     "text": [
      "epoch: 7, [batch: 10539 / 13174], examples_per_second: 3684.6586, train_label_loss: 0.0924, \n"
     ]
    },
    {
     "name": "stdout",
     "output_type": "stream",
     "text": [
      "epoch: 7, [batch: 11856 / 13174], examples_per_second: 3625.5058, train_label_loss: 0.4016, \n"
     ]
    },
    {
     "name": "stdout",
     "output_type": "stream",
     "text": [
      "=============================================================\n",
      "epoch: 7, source_val_acc_label: 0.9860, target_val_acc_label: 0.4894, source_val_label_loss: 0.0580, target_val_label_loss: 2.0007, \n",
      "=============================================================\n"
     ]
    },
    {
     "name": "stdout",
     "output_type": "stream",
     "text": [
      "New best\n"
     ]
    },
    {
     "name": "stdout",
     "output_type": "stream",
     "text": [
      "epoch: 8, [batch: 1 / 13140], examples_per_second: 2.8831, train_label_loss: 0.0001, \n"
     ]
    },
    {
     "name": "stdout",
     "output_type": "stream",
     "text": [
      "epoch: 8, [batch: 1314 / 13140], examples_per_second: 3616.1418, train_label_loss: 0.0001, \n"
     ]
    },
    {
     "name": "stdout",
     "output_type": "stream",
     "text": [
      "epoch: 8, [batch: 2628 / 13140], examples_per_second: 3625.5130, train_label_loss: 0.0002, \n"
     ]
    },
    {
     "name": "stdout",
     "output_type": "stream",
     "text": [
      "epoch: 8, [batch: 3942 / 13140], examples_per_second: 3688.8914, train_label_loss: 0.0000, \n"
     ]
    },
    {
     "name": "stdout",
     "output_type": "stream",
     "text": [
      "epoch: 8, [batch: 5256 / 13140], examples_per_second: 3641.8265, train_label_loss: 0.0001, \n"
     ]
    },
    {
     "name": "stdout",
     "output_type": "stream",
     "text": [
      "epoch: 8, [batch: 6570 / 13140], examples_per_second: 3690.6663, train_label_loss: 0.0020, \n"
     ]
    },
    {
     "name": "stdout",
     "output_type": "stream",
     "text": [
      "epoch: 8, [batch: 7884 / 13140], examples_per_second: 3018.6007, train_label_loss: 0.0810, \n"
     ]
    },
    {
     "name": "stdout",
     "output_type": "stream",
     "text": [
      "epoch: 8, [batch: 9198 / 13140], examples_per_second: 1399.6257, train_label_loss: 0.0002, \n"
     ]
    },
    {
     "name": "stdout",
     "output_type": "stream",
     "text": [
      "epoch: 8, [batch: 10512 / 13140], examples_per_second: 3736.2032, train_label_loss: 0.0005, \n"
     ]
    },
    {
     "name": "stdout",
     "output_type": "stream",
     "text": [
      "epoch: 8, [batch: 11826 / 13140], examples_per_second: 3703.2592, train_label_loss: 0.0000, \n"
     ]
    },
    {
     "name": "stdout",
     "output_type": "stream",
     "text": [
      "=============================================================\n",
      "epoch: 8, source_val_acc_label: 0.9861, target_val_acc_label: 0.4085, source_val_label_loss: 0.0584, target_val_label_loss: 2.1123, \n",
      "=============================================================\n"
     ]
    },
    {
     "name": "stdout",
     "output_type": "stream",
     "text": [
      "epoch: 9, [batch: 1 / 13153], examples_per_second: 1.5747, train_label_loss: 0.0001, \n"
     ]
    },
    {
     "name": "stdout",
     "output_type": "stream",
     "text": [
      "epoch: 9, [batch: 1316 / 13153], examples_per_second: 3753.5406, train_label_loss: 0.1974, \n"
     ]
    },
    {
     "name": "stdout",
     "output_type": "stream",
     "text": [
      "epoch: 9, [batch: 2631 / 13153], examples_per_second: 3719.6934, train_label_loss: 0.0009, \n"
     ]
    },
    {
     "name": "stdout",
     "output_type": "stream",
     "text": [
      "epoch: 9, [batch: 3946 / 13153], examples_per_second: 3712.3384, train_label_loss: 0.0000, \n"
     ]
    },
    {
     "name": "stdout",
     "output_type": "stream",
     "text": [
      "epoch: 9, [batch: 5261 / 13153], examples_per_second: 3652.4731, train_label_loss: 0.0010, \n"
     ]
    },
    {
     "name": "stdout",
     "output_type": "stream",
     "text": [
      "epoch: 9, [batch: 6577 / 13153], examples_per_second: 3748.2469, train_label_loss: 0.0002, \n"
     ]
    },
    {
     "name": "stdout",
     "output_type": "stream",
     "text": [
      "epoch: 9, [batch: 7892 / 13153], examples_per_second: 3730.8190, train_label_loss: 0.1600, \n"
     ]
    },
    {
     "name": "stdout",
     "output_type": "stream",
     "text": [
      "epoch: 9, [batch: 9207 / 13153], examples_per_second: 3628.2161, train_label_loss: 0.3089, \n"
     ]
    },
    {
     "name": "stdout",
     "output_type": "stream",
     "text": [
      "epoch: 9, [batch: 10522 / 13153], examples_per_second: 3614.6049, train_label_loss: 0.0000, \n"
     ]
    },
    {
     "name": "stdout",
     "output_type": "stream",
     "text": [
      "epoch: 9, [batch: 11837 / 13153], examples_per_second: 3666.2491, train_label_loss: 0.0002, \n"
     ]
    },
    {
     "name": "stdout",
     "output_type": "stream",
     "text": [
      "=============================================================\n",
      "epoch: 9, source_val_acc_label: 0.9867, target_val_acc_label: 0.4356, source_val_label_loss: 0.0571, target_val_label_loss: 2.0123, \n",
      "=============================================================\n"
     ]
    },
    {
     "name": "stdout",
     "output_type": "stream",
     "text": [
      "epoch: 10, [batch: 1 / 13150], examples_per_second: 2.9669, train_label_loss: 0.0001, \n"
     ]
    },
    {
     "name": "stdout",
     "output_type": "stream",
     "text": [
      "epoch: 10, [batch: 1315 / 13150], examples_per_second: 3690.7784, train_label_loss: 0.1601, \n"
     ]
    },
    {
     "name": "stdout",
     "output_type": "stream",
     "text": [
      "epoch: 10, [batch: 2630 / 13150], examples_per_second: 3758.7010, train_label_loss: 0.0040, \n"
     ]
    },
    {
     "name": "stdout",
     "output_type": "stream",
     "text": [
      "epoch: 10, [batch: 3945 / 13150], examples_per_second: 3730.3631, train_label_loss: 0.1757, \n"
     ]
    },
    {
     "name": "stdout",
     "output_type": "stream",
     "text": [
      "epoch: 10, [batch: 5260 / 13150], examples_per_second: 3619.1260, train_label_loss: 0.1866, \n"
     ]
    },
    {
     "name": "stdout",
     "output_type": "stream",
     "text": [
      "epoch: 10, [batch: 6575 / 13150], examples_per_second: 3627.1793, train_label_loss: 0.0007, \n"
     ]
    },
    {
     "name": "stdout",
     "output_type": "stream",
     "text": [
      "epoch: 10, [batch: 7890 / 13150], examples_per_second: 3634.0340, train_label_loss: 0.0000, \n"
     ]
    },
    {
     "name": "stdout",
     "output_type": "stream",
     "text": [
      "epoch: 10, [batch: 9205 / 13150], examples_per_second: 3666.6560, train_label_loss: 0.0860, \n"
     ]
    },
    {
     "name": "stdout",
     "output_type": "stream",
     "text": [
      "epoch: 10, [batch: 10520 / 13150], examples_per_second: 3693.3985, train_label_loss: 0.0010, \n"
     ]
    },
    {
     "name": "stdout",
     "output_type": "stream",
     "text": [
      "epoch: 10, [batch: 11835 / 13150], examples_per_second: 3698.0917, train_label_loss: 0.0001, \n"
     ]
    },
    {
     "name": "stdout",
     "output_type": "stream",
     "text": [
      "=============================================================\n",
      "epoch: 10, source_val_acc_label: 0.9871, target_val_acc_label: 0.3723, source_val_label_loss: 0.0550, target_val_label_loss: 2.1215, \n",
      "=============================================================\n"
     ]
    },
    {
     "name": "stdout",
     "output_type": "stream",
     "text": [
      "epoch: 11, [batch: 1 / 13148], examples_per_second: 2.9703, train_label_loss: 0.0007, \n"
     ]
    },
    {
     "name": "stdout",
     "output_type": "stream",
     "text": [
      "epoch: 11, [batch: 1315 / 13148], examples_per_second: 3601.2064, train_label_loss: 0.0033, \n"
     ]
    },
    {
     "name": "stdout",
     "output_type": "stream",
     "text": [
      "epoch: 11, [batch: 2630 / 13148], examples_per_second: 3649.9121, train_label_loss: 0.0000, \n"
     ]
    },
    {
     "name": "stdout",
     "output_type": "stream",
     "text": [
      "epoch: 11, [batch: 3945 / 13148], examples_per_second: 2681.1681, train_label_loss: 0.0001, \n"
     ]
    },
    {
     "name": "stdout",
     "output_type": "stream",
     "text": [
      "epoch: 11, [batch: 5259 / 13148], examples_per_second: 1379.9129, train_label_loss: 0.1965, \n"
     ]
    },
    {
     "name": "stdout",
     "output_type": "stream",
     "text": [
      "epoch: 11, [batch: 6574 / 13148], examples_per_second: 3685.6893, train_label_loss: 0.0004, \n"
     ]
    },
    {
     "name": "stdout",
     "output_type": "stream",
     "text": [
      "epoch: 11, [batch: 7889 / 13148], examples_per_second: 3760.1036, train_label_loss: 0.0000, \n"
     ]
    },
    {
     "name": "stdout",
     "output_type": "stream",
     "text": [
      "epoch: 11, [batch: 9203 / 13148], examples_per_second: 3738.3599, train_label_loss: 0.0002, \n"
     ]
    },
    {
     "name": "stdout",
     "output_type": "stream",
     "text": [
      "epoch: 11, [batch: 10518 / 13148], examples_per_second: 3656.0910, train_label_loss: 0.1244, \n"
     ]
    },
    {
     "name": "stdout",
     "output_type": "stream",
     "text": [
      "epoch: 11, [batch: 11833 / 13148], examples_per_second: 3778.2452, train_label_loss: 0.0035, \n"
     ]
    },
    {
     "name": "stdout",
     "output_type": "stream",
     "text": [
      "=============================================================\n",
      "epoch: 11, source_val_acc_label: 0.9871, target_val_acc_label: 0.3986, source_val_label_loss: 0.0567, target_val_label_loss: 1.9727, \n",
      "=============================================================\n"
     ]
    },
    {
     "name": "stdout",
     "output_type": "stream",
     "text": [
      "Patience (3) exhausted\n"
     ]
    }
   ],
   "source": [
    "###################################\n",
    "# train\n",
    "###################################\n",
    "jig = PTN_Train_Eval_Test_Jig(model, p.BEST_MODEL_PATH, p.device)\n",
    "\n",
    "jig.train(\n",
    "    train_iterable=datasets.source.processed.train,\n",
    "    source_val_iterable=datasets.source.processed.val,\n",
    "    target_val_iterable=datasets.target.processed.val,\n",
    "    num_epochs=p.n_epoch,\n",
    "    num_logs_per_epoch=p.NUM_LOGS_PER_EPOCH,\n",
    "    patience=p.patience,\n",
    "    optimizer=optimizer,\n",
    "    criteria_for_best=p.criteria_for_best,\n",
    ")"
   ]
  },
  {
   "cell_type": "code",
   "execution_count": 23,
   "id": "31e8fabf",
   "metadata": {
    "execution": {
     "iopub.execute_input": "2022-03-20T18:41:02.091863Z",
     "iopub.status.busy": "2022-03-20T18:41:02.091609Z",
     "iopub.status.idle": "2022-03-20T18:41:02.107037Z",
     "shell.execute_reply": "2022-03-20T18:41:02.107429Z"
    },
    "papermill": {
     "duration": 0.056635,
     "end_time": "2022-03-20T18:41:02.107536",
     "exception": false,
     "start_time": "2022-03-20T18:41:02.050901",
     "status": "completed"
    },
    "tags": []
   },
   "outputs": [],
   "source": [
    "total_experiment_time_secs = time.time() - start_time_secs"
   ]
  },
  {
   "cell_type": "code",
   "execution_count": 24,
   "id": "87b9595b",
   "metadata": {
    "execution": {
     "iopub.execute_input": "2022-03-20T18:41:02.192283Z",
     "iopub.status.busy": "2022-03-20T18:41:02.191966Z",
     "iopub.status.idle": "2022-03-20T18:43:23.289654Z",
     "shell.execute_reply": "2022-03-20T18:43:23.290040Z"
    },
    "papermill": {
     "duration": 141.141659,
     "end_time": "2022-03-20T18:43:23.290178",
     "exception": false,
     "start_time": "2022-03-20T18:41:02.148519",
     "status": "completed"
    },
    "tags": []
   },
   "outputs": [],
   "source": [
    "###################################\n",
    "# Evaluate the model\n",
    "###################################\n",
    "source_test_label_accuracy, source_test_label_loss = jig.test(datasets.source.processed.test)\n",
    "target_test_label_accuracy, target_test_label_loss = jig.test(datasets.target.processed.test)\n",
    "\n",
    "source_val_label_accuracy, source_val_label_loss = jig.test(datasets.source.processed.val)\n",
    "target_val_label_accuracy, target_val_label_loss = jig.test(datasets.target.processed.val)\n",
    "\n",
    "history = jig.get_history()\n",
    "\n",
    "total_epochs_trained = len(history[\"epoch_indices\"])\n",
    "\n",
    "val_dl = Iterable_Aggregator((datasets.source.original.val,datasets.target.original.val))\n",
    "\n",
    "confusion = ptn_confusion_by_domain_over_dataloader(model, p.device, val_dl)\n",
    "per_domain_accuracy = per_domain_accuracy_from_confusion(confusion)\n",
    "\n",
    "# Add a key to per_domain_accuracy for if it was a source domain\n",
    "for domain, accuracy in per_domain_accuracy.items():\n",
    "    per_domain_accuracy[domain] = {\n",
    "        \"accuracy\": accuracy,\n",
    "        \"source?\": domain in p.domains_source\n",
    "    }\n",
    "\n",
    "# Do an independent accuracy assesment JUST TO BE SURE!\n",
    "# _source_test_label_accuracy = independent_accuracy_assesment(model, datasets.source.processed.test, p.device)\n",
    "# _target_test_label_accuracy = independent_accuracy_assesment(model, datasets.target.processed.test, p.device)\n",
    "# _source_val_label_accuracy = independent_accuracy_assesment(model, datasets.source.processed.val, p.device)\n",
    "# _target_val_label_accuracy = independent_accuracy_assesment(model, datasets.target.processed.val, p.device)\n",
    "\n",
    "# assert(_source_test_label_accuracy == source_test_label_accuracy)\n",
    "# assert(_target_test_label_accuracy == target_test_label_accuracy)\n",
    "# assert(_source_val_label_accuracy == source_val_label_accuracy)\n",
    "# assert(_target_val_label_accuracy == target_val_label_accuracy)\n",
    "\n",
    "experiment = {\n",
    "    \"experiment_name\": p.experiment_name,\n",
    "    \"parameters\": dict(p),\n",
    "    \"results\": {\n",
    "        \"source_test_label_accuracy\": source_test_label_accuracy,\n",
    "        \"source_test_label_loss\": source_test_label_loss,\n",
    "        \"target_test_label_accuracy\": target_test_label_accuracy,\n",
    "        \"target_test_label_loss\": target_test_label_loss,\n",
    "        \"source_val_label_accuracy\": source_val_label_accuracy,\n",
    "        \"source_val_label_loss\": source_val_label_loss,\n",
    "        \"target_val_label_accuracy\": target_val_label_accuracy,\n",
    "        \"target_val_label_loss\": target_val_label_loss,\n",
    "        \"total_epochs_trained\": total_epochs_trained,\n",
    "        \"total_experiment_time_secs\": total_experiment_time_secs,\n",
    "        \"confusion\": confusion,\n",
    "        \"per_domain_accuracy\": per_domain_accuracy,\n",
    "    },\n",
    "    \"history\": history,\n",
    "    \"dataset_metrics\": get_dataset_metrics(datasets, \"ptn\"),\n",
    "}"
   ]
  },
  {
   "cell_type": "code",
   "execution_count": 25,
   "id": "54a21829",
   "metadata": {
    "execution": {
     "iopub.execute_input": "2022-03-20T18:43:23.374825Z",
     "iopub.status.busy": "2022-03-20T18:43:23.374551Z",
     "iopub.status.idle": "2022-03-20T18:43:23.495757Z",
     "shell.execute_reply": "2022-03-20T18:43:23.495324Z"
    },
    "papermill": {
     "duration": 0.165476,
     "end_time": "2022-03-20T18:43:23.495862",
     "exception": false,
     "start_time": "2022-03-20T18:43:23.330386",
     "status": "completed"
    },
    "tags": []
   },
   "outputs": [
    {
     "data": {
      "image/png": "[encoded data removed]",
      "text/plain": [
       "<Figure size 1080x504 with 1 Axes>"
      ]
     },
     "metadata": {
      "needs_background": "light"
     },
     "output_type": "display_data"
    }
   ],
   "source": [
    "ax = get_loss_curve(experiment)\n",
    "plt.show()"
   ]
  },
  {
   "cell_type": "code",
   "execution_count": 26,
   "id": "fd8a0f60",
   "metadata": {
    "execution": {
     "iopub.execute_input": "2022-03-20T18:43:23.578817Z",
     "iopub.status.busy": "2022-03-20T18:43:23.577434Z",
     "iopub.status.idle": "2022-03-20T18:43:23.723792Z",
     "shell.execute_reply": "2022-03-20T18:43:23.724212Z"
    },
    "papermill": {
     "duration": 0.186208,
     "end_time": "2022-03-20T18:43:23.724349",
     "exception": false,
     "start_time": "2022-03-20T18:43:23.538141",
     "status": "completed"
    },
    "tags": []
   },
   "outputs": [
    {
     "data": {
      "text/plain": [
       "<AxesSubplot:title={'center':'Results'}>"
      ]
     },
     "execution_count": 26,
     "metadata": {},
     "output_type": "execute_result"
    },
    {
     "data": {
      "image/png": "[encoded data removed]",
      "text/plain": [
       "<Figure size 1080x504 with 1 Axes>"
      ]
     },
     "metadata": {
      "needs_background": "light"
     },
     "output_type": "display_data"
    }
   ],
   "source": [
    "get_results_table(experiment)"
   ]
  },
  {
   "cell_type": "code",
   "execution_count": 27,
   "id": "cf8dc689",
   "metadata": {
    "execution": {
     "iopub.execute_input": "2022-03-20T18:43:23.816958Z",
     "iopub.status.busy": "2022-03-20T18:43:23.816698Z",
     "iopub.status.idle": "2022-03-20T18:43:23.965806Z",
     "shell.execute_reply": "2022-03-20T18:43:23.966190Z"
    },
    "papermill": {
     "duration": 0.193944,
     "end_time": "2022-03-20T18:43:23.966316",
     "exception": false,
     "start_time": "2022-03-20T18:43:23.772372",
     "status": "completed"
    },
    "tags": []
   },
   "outputs": [
    {
     "data": {
      "text/plain": [
       "<AxesSubplot:title={'center':'Per Domain Validation Accuracy'}, xlabel='domain'>"
      ]
     },
     "execution_count": 27,
     "metadata": {},
     "output_type": "execute_result"
    },
    {
     "data": {
      "image/png": "[encoded data removed]",
      "text/plain": [
       "<Figure size 1080x504 with 1 Axes>"
      ]
     },
     "metadata": {
      "needs_background": "light"
     },
     "output_type": "display_data"
    }
   ],
   "source": [
    "get_domain_accuracies(experiment)"
   ]
  },
  {
   "cell_type": "code",
   "execution_count": 28,
   "id": "a74ae082",
   "metadata": {
    "execution": {
     "iopub.execute_input": "2022-03-20T18:43:24.057313Z",
     "iopub.status.busy": "2022-03-20T18:43:24.057013Z",
     "iopub.status.idle": "2022-03-20T18:43:24.072837Z",
     "shell.execute_reply": "2022-03-20T18:43:24.072365Z"
    },
    "papermill": {
     "duration": 0.059386,
     "end_time": "2022-03-20T18:43:24.072934",
     "exception": false,
     "start_time": "2022-03-20T18:43:24.013548",
     "status": "completed"
    },
    "tags": []
   },
   "outputs": [
    {
     "name": "stdout",
     "output_type": "stream",
     "text": [
      "Source Test Label Accuracy: 0.9861785329018339 Target Test Label Accuracy: 0.48733723958333336\n",
      "Source Val Label Accuracy: 0.9860043907793633 Target Val Label Accuracy: 0.48935546875\n"
     ]
    }
   ],
   "source": [
    "print(\"Source Test Label Accuracy:\", experiment[\"results\"][\"source_test_label_accuracy\"], \"Target Test Label Accuracy:\", experiment[\"results\"][\"target_test_label_accuracy\"])\n",
    "print(\"Source Val Label Accuracy:\", experiment[\"results\"][\"source_val_label_accuracy\"], \"Target Val Label Accuracy:\", experiment[\"results\"][\"target_val_label_accuracy\"])"
   ]
  },
  {
   "cell_type": "code",
   "execution_count": 29,
   "id": "dacca602",
   "metadata": {
    "execution": {
     "iopub.execute_input": "2022-03-20T18:43:24.161997Z",
     "iopub.status.busy": "2022-03-20T18:43:24.161746Z",
     "iopub.status.idle": "2022-03-20T18:43:24.179828Z",
     "shell.execute_reply": "2022-03-20T18:43:24.180123Z"
    },
    "papermill": {
     "duration": 0.064044,
     "end_time": "2022-03-20T18:43:24.180213",
     "exception": false,
     "start_time": "2022-03-20T18:43:24.116169",
     "status": "completed"
    },
    "tags": [
     "experiment_json"
    ]
   },
   "outputs": [
    {
     "data": {
      "text/plain": [
       "'{\"experiment_name\": \"tl_3Av2:cores+wisig -> oracle.run1.framed\", \"parameters\": {\"experiment_name\": \"tl_3Av2:cores+wisig -> oracle.run1.framed\", \"device\": \"cuda\", \"lr\": 0.0001, \"x_shape\": [2, 200], \"n_shot\": 3, \"n_query\": 2, \"train_k_factor\": 3, \"val_k_factor\": 2, \"test_k_factor\": 2, \"torch_default_dtype\": \"torch.float32\", \"n_epoch\": 50, \"patience\": 3, \"criteria_for_best\": \"target_accuracy\", \"x_net\": [{\"class\": \"nnReshape\", \"kargs\": {\"shape\": [-1, 1, 2, 200]}}, {\"class\": \"Conv2d\", \"kargs\": {\"in_channels\": 1, \"out_channels\": 256, \"kernel_size\": [1, 7], \"bias\": false, \"padding\": [0, 3]}}, {\"class\": \"ReLU\", \"kargs\": {\"inplace\": true}}, {\"class\": \"BatchNorm2d\", \"kargs\": {\"num_features\": 256}}, {\"class\": \"Conv2d\", \"kargs\": {\"in_channels\": 256, \"out_channels\": 80, \"kernel_size\": [2, 7], \"bias\": true, \"padding\": [0, 3]}}, {\"class\": \"ReLU\", \"kargs\": {\"inplace\": true}}, {\"class\": \"BatchNorm2d\", \"kargs\": {\"num_features\": 80}}, {\"class\": \"Flatten\", \"kargs\": {}}, {\"class\": \"Linear\", \"kargs\": {\"in_features\": 16000, \"out_features\": 256}}, {\"class\": \"ReLU\", \"kargs\": {\"inplace\": true}}, {\"class\": \"BatchNorm1d\", \"kargs\": {\"num_features\": 256}}, {\"class\": \"Linear\", \"kargs\": {\"in_features\": 256, \"out_features\": 256}}], \"NUM_LOGS_PER_EPOCH\": 10, \"BEST_MODEL_PATH\": \"./best_model.pth\", \"n_way\": 16, \"datasets\": [{\"labels\": [\"1-10.\", \"1-11.\", \"1-15.\", \"1-16.\", \"1-17.\", \"1-18.\", \"1-19.\", \"10-4.\", \"10-7.\", \"11-1.\", \"11-14.\", \"11-17.\", \"11-20.\", \"11-7.\", \"13-20.\", \"13-8.\", \"14-10.\", \"14-11.\", \"14-14.\", \"14-7.\", \"15-1.\", \"15-20.\", \"16-1.\", \"16-16.\", \"17-10.\", \"17-11.\", \"17-2.\", \"19-1.\", \"19-16.\", \"19-19.\", \"19-20.\", \"19-3.\", \"2-10.\", \"2-11.\", \"2-17.\", \"2-18.\", \"2-20.\", \"2-3.\", \"2-4.\", \"2-5.\", \"2-6.\", \"2-7.\", \"2-8.\", \"3-13.\", \"3-18.\", \"3-3.\", \"4-1.\", \"4-10.\", \"4-11.\", \"4-19.\", \"5-5.\", \"6-15.\", \"7-10.\", \"7-14.\", \"8-18.\", \"8-20.\", \"8-3.\", \"8-8.\"], \"domains\": [1, 2, 3, 4, 5], \"num_examples_per_domain_per_label\": -1, \"pickle_path\": \"/mnt/wd500GB/CSC500/csc500-main/datasets/cores.stratified_ds.2022A.pkl\", \"source_or_target_dataset\": \"source\", \"x_transforms\": [\"take_200\"], \"episode_transforms\": [], \"domain_prefix\": \"C_\"}, {\"labels\": [\"1-10\", \"1-12\", \"1-14\", \"1-16\", \"1-18\", \"1-19\", \"1-8\", \"10-11\", \"10-17\", \"10-4\", \"10-7\", \"11-1\", \"11-10\", \"11-19\", \"11-20\", \"11-4\", \"11-7\", \"12-19\", \"12-20\", \"12-7\", \"13-14\", \"13-18\", \"13-19\", \"13-20\", \"13-3\", \"13-7\", \"14-10\", \"14-11\", \"14-12\", \"14-13\", \"14-14\", \"14-19\", \"14-20\", \"14-7\", \"14-8\", \"14-9\", \"15-1\", \"15-19\", \"15-6\", \"16-1\", \"16-16\", \"16-19\", \"16-20\", \"17-10\", \"17-11\", \"18-1\", \"18-10\", \"18-11\", \"18-12\", \"18-13\", \"18-14\", \"18-15\", \"18-16\", \"18-17\", \"18-19\", \"18-2\", \"18-20\", \"18-4\", \"18-5\", \"18-7\", \"18-8\", \"18-9\", \"19-1\", \"19-10\", \"19-11\", \"19-12\", \"19-13\", \"19-14\", \"19-15\", \"19-19\", \"19-2\", \"19-20\", \"19-3\", \"19-4\", \"19-6\", \"19-7\", \"19-8\", \"19-9\", \"2-1\", \"2-13\", \"2-15\", \"2-3\", \"2-4\", \"2-5\", \"2-6\", \"2-7\", \"2-8\", \"20-1\", \"20-12\", \"20-14\", \"20-15\", \"20-16\", \"20-18\", \"20-19\", \"20-20\", \"20-3\", \"20-4\", \"20-5\", \"20-7\", \"20-8\", \"3-1\", \"3-13\", \"3-18\", \"3-2\", \"3-8\", \"4-1\", \"4-10\", \"4-11\", \"5-1\", \"5-5\", \"6-1\", \"6-15\", \"6-6\", \"7-10\", \"7-11\", \"7-12\", \"7-13\", \"7-14\", \"7-7\", \"7-8\", \"7-9\", \"8-1\", \"8-13\", \"8-14\", \"8-18\", \"8-20\", \"8-3\", \"8-8\", \"9-1\", \"9-7\"], \"domains\": [1, 2, 3, 4], \"num_examples_per_domain_per_label\": -1, \"pickle_path\": \"/mnt/wd500GB/CSC500/csc500-main/datasets/wisig.node3-19.stratified_ds.2022A.pkl\", \"source_or_target_dataset\": \"source\", \"x_transforms\": [\"take_200\"], \"episode_transforms\": [], \"domain_prefix\": \"W_\"}, {\"labels\": [\"3123D52\", \"3123D65\", \"3123D79\", \"3123D80\", \"3123D54\", \"3123D70\", \"3123D7B\", \"3123D89\", \"3123D58\", \"3123D76\", \"3123D7D\", \"3123EFE\", \"3123D64\", \"3123D78\", \"3123D7E\", \"3124E4A\"], \"domains\": [32, 38, 8, 44, 14, 50, 20, 26], \"num_examples_per_domain_per_label\": 2000, \"pickle_path\": \"/mnt/wd500GB/CSC500/csc500-main/datasets/oracle.Run1_framed_2000Examples_stratified_ds.2022A.pkl\", \"source_or_target_dataset\": \"target\", \"x_transforms\": [\"take_200\", \"resample_20Msps_to_25Msps\"], \"episode_transforms\": [], \"domain_prefix\": \"O_\"}], \"seed\": 7, \"dataset_seed\": 7, \"domains_source\": [\"C_1\", \"C_2\", \"C_3\", \"C_4\", \"C_5\", \"W_1\", \"W_2\", \"W_3\", \"W_4\"], \"domains_target\": [\"O_32\", \"O_38\", \"O_8\", \"O_44\", \"O_14\", \"O_50\", \"O_20\", \"O_26\"]}, \"results\": {\"source_test_label_accuracy\": 0.9861785329018339, \"source_test_label_loss\": 0.05820426717400551, \"target_test_label_accuracy\": 0.48733723958333336, \"target_test_label_loss\": 2.001981735229492, \"source_val_label_accuracy\": 0.9860043907793633, \"source_val_label_loss\": 0.05800654739141464, \"target_val_label_accuracy\": 0.48935546875, \"target_val_label_loss\": 2.000659942626953, \"total_epochs_trained\": 11, \"total_experiment_time_secs\": 3632.1948187351227, \"confusion\": {\"W_4\": {\"71\": {\"71\": 102, \"70\": 1, \"98\": 1}, \"17\": {\"17\": 20}, \"105\": {\"105\": 89, \"12\": 1, \"82\": 1, \"14\": 1, \"0\": 2, \"108\": 1, \"111\": 1, \"126\": 1, \"113\": 1, \"87\": 1, \"36\": 1}, \"92\": {\"92\": 27, \"15\": 1}, \"100\": {\"100\": 20}, \"6\": {\"6\": 24}, \"36\": {\"36\": 126, \"84\": 1, \"1\": 1}, \"35\": {\"35\": 12}, \"63\": {\"63\": 16}, \"104\": {\"104\": 16}, \"114\": {\"114\": 124, \"3\": 1, \"4\": 1, \"10\": 1, \"105\": 1}, \"68\": {\"68\": 16}, \"109\": {\"109\": 114, \"118\": 1, \"27\": 1}, \"27\": {\"27\": 93, \"111\": 2, \"78\": 1, \"108\": 1, \"95\": 1, \"11\": 1, \"71\": 1}, \"79\": {\"79\": 16}, \"0\": {\"0\": 99, \"4\": 1, \"11\": 1, \"118\": 2, \"107\": 1, \"15\": 1, \"12\": 1}, \"28\": {\"28\": 19, \"108\": 1}, \"4\": {\"4\": 103, \"21\": 1}, \"106\": {\"106\": 99, \"113\": 1, \"108\": 1, \"11\": 1}, \"40\": {\"40\": 131, \"15\": 1, \"69\": 1, \"12\": 1}, \"127\": {\"127\": 104, \"71\": 1, \"12\": 1, \"95\": 2}, \"57\": {\"57\": 14, \"51\": 1, \"73\": 1}, \"60\": {\"60\": 32}, \"69\": {\"69\": 120, \"84\": 1, \"11\": 1, \"126\": 1, \"3\": 1}, \"84\": {\"84\": 128, \"1\": 1, \"78\": 1, \"44\": 1, \"3\": 1}, \"24\": {\"24\": 113, \"10\": 2, \"40\": 1, \"113\": 1, \"105\": 1, \"4\": 1, \"127\": 1}, \"94\": {\"84\": 1, \"94\": 85, \"12\": 1, \"3\": 1}, \"7\": {\"7\": 114, \"4\": 1, \"113\": 1, \"3\": 1, \"11\": 1, \"103\": 1, \"5\": 1}, \"96\": {\"96\": 16, \"124\": 1, \"54\": 1, \"82\": 1, \"21\": 1}, \"116\": {\"116\": 28}, \"47\": {\"47\": 9, \"68\": 2, \"17\": 1}, \"119\": {\"119\": 15, \"91\": 1}, \"74\": {\"74\": 15, \"113\": 1}, \"93\": {\"93\": 151, \"0\": 1}, \"2\": {\"2\": 28}, \"37\": {\"37\": 15, \"51\": 1}, \"15\": {\"15\": 125, \"26\": 1, \"69\": 1, \"11\": 1}, \"102\": {\"102\": 136}, \"87\": {\"87\": 118, \"111\": 1, \"36\": 1, \"118\": 1, \"43\": 1}, \"107\": {\"107\": 142, \"98\": 1, \"7\": 1}, \"61\": {\"61\": 14, \"96\": 1, \"21\": 1}, \"78\": {\"78\": 32, \"70\": 1, \"4\": 1, \"27\": 1, \"21\": 1}, \"9\": {\"9\": 28}, \"32\": {\"32\": 28}, \"14\": {\"14\": 111, \"9\": 1}, \"62\": {\"62\": 55, \"30\": 1, \"88\": 1, \"111\": 1, \"15\": 1, \"127\": 1}, \"1\": {\"25\": 1, \"1\": 98, \"0\": 1, \"24\": 1, \"84\": 1}, \"23\": {\"23\": 10, \"111\": 1, \"113\": 1, \"110\": 1, \"106\": 1, \"35\": 1, \"51\": 1}, \"95\": {\"95\": 31, \"76\": 1}, \"56\": {\"56\": 12}, \"91\": {\"91\": 24}, \"34\": {\"34\": 29, \"85\": 2, \"108\": 1}, \"25\": {\"25\": 16}, \"33\": {\"33\": 123, \"62\": 1}, \"16\": {\"16\": 119, \"8\": 2, \"18\": 1, \"87\": 1, \"33\": 1}, \"26\": {\"26\": 123, \"1\": 1, \"3\": 1, \"43\": 1}, \"5\": {\"5\": 130, \"3\": 2, \"36\": 1, \"113\": 1, \"43\": 1, \"24\": 1}, \"123\": {\"123\": 15, \"34\": 1}, \"8\": {\"8\": 118}, \"83\": {\"83\": 28}, \"125\": {\"125\": 134}, \"51\": {\"51\": 12, \"47\": 1, \"13\": 1, \"78\": 1, \"49\": 1}, \"22\": {\"22\": 16}, \"54\": {\"54\": 16}, \"66\": {\"66\": 16}, \"59\": {\"59\": 9, \"6\": 1, \"46\": 1, \"82\": 1}, \"111\": {\"111\": 126, \"5\": 1, \"11\": 1}, \"77\": {\"77\": 12}, \"103\": {\"103\": 16}, \"20\": {\"20\": 15, \"12\": 1}, \"124\": {\"124\": 117, \"98\": 2, \"0\": 1}, \"99\": {\"99\": 39, \"69\": 1}, \"120\": {\"118\": 1, \"120\": 18, \"21\": 1}, \"76\": {\"76\": 15, \"12\": 1}, \"110\": {\"110\": 111, \"8\": 1, \"12\": 1, \"71\": 1, \"36\": 1, \"117\": 1}, \"29\": {\"29\": 31, \"106\": 1}, \"118\": {\"118\": 105, \"12\": 1, \"4\": 2, \"106\": 1, \"13\": 1, \"122\": 1, \"21\": 1}, \"58\": {\"58\": 14, \"52\": 1, \"88\": 1}, \"13\": {\"13\": 15, \"85\": 1}, \"89\": {\"89\": 32}, \"31\": {\"31\": 15, \"95\": 1}, \"64\": {\"64\": 15, \"106\": 1}, \"65\": {\"65\": 12}, \"101\": {\"101\": 129, \"55\": 1, \"14\": 1, \"88\": 1}, \"126\": {\"126\": 116, \"111\": 1, \"94\": 1}, \"108\": {\"108\": 80, \"88\": 2, \"23\": 1, \"70\": 1, \"5\": 1, \"4\": 1, \"109\": 2, \"3\": 1, \"30\": 1, \"18\": 1, \"107\": 1}, \"45\": {\"45\": 16}, \"21\": {\"21\": 36, \"1\": 2, \"4\": 1, \"118\": 1}, \"30\": {\"30\": 74, \"24\": 1, \"5\": 1}, \"82\": {\"82\": 30, \"107\": 1, \"124\": 1}, \"85\": {\"85\": 28}, \"88\": {\"88\": 123, \"12\": 1, \"71\": 1, \"113\": 1, \"122\": 1, \"118\": 2, \"15\": 1, \"105\": 1, \"3\": 1}, \"41\": {\"41\": 15, \"12\": 1}, \"128\": {\"128\": 24}, \"39\": {\"39\": 95, \"3\": 1, \"4\": 1, \"118\": 1, \"122\": 1, \"108\": 1}, \"18\": {\"18\": 113, \"69\": 1, \"27\": 1, \"5\": 1, \"108\": 1, \"122\": 1, \"126\": 1, \"3\": 1}, \"113\": {\"113\": 122, \"114\": 1, \"4\": 1, \"0\": 1, \"41\": 1, \"71\": 1, \"43\": 1}, \"11\": {\"11\": 134, \"90\": 1, \"118\": 1, \"1\": 1, \"3\": 1}, \"43\": {\"43\": 115, \"70\": 2, \"27\": 1, \"118\": 1, \"105\": 1}, \"12\": {\"12\": 97, \"46\": 1, \"0\": 1, \"84\": 1}, \"122\": {\"122\": 81, \"94\": 1, \"5\": 1, \"109\": 1}, \"52\": {\"52\": 20}, \"44\": {\"44\": 64}, \"90\": {\"90\": 133, \"0\": 1}, \"112\": {\"112\": 16}, \"86\": {\"86\": 28}, \"3\": {\"3\": 115, \"101\": 1}, \"38\": {\"38\": 16}, \"121\": {\"121\": 32}, \"46\": {\"46\": 19, \"59\": 1}, \"70\": {\"70\": 121, \"88\": 1, \"8\": 1, \"90\": 1}, \"67\": {\"67\": 16}, \"53\": {\"53\": 16}, \"49\": {\"49\": 32}, \"42\": {\"42\": 28}, \"10\": {\"10\": 112, \"24\": 2, \"3\": 1, \"35\": 1, \"122\": 1, \"127\": 1}, \"50\": {\"50\": 16}, \"73\": {\"73\": 23, \"62\": 1}, \"115\": {\"115\": 16}, \"80\": {\"80\": 15, \"106\": 1}, \"19\": {\"19\": 26, \"48\": 1, \"27\": 1}, \"55\": {\"55\": 16}, \"72\": {\"72\": 31, \"27\": 1}, \"117\": {\"117\": 116}, \"81\": {\"81\": 33, \"51\": 1, \"69\": 1, \"78\": 1}, \"75\": {\"75\": 16}, \"98\": {\"98\": 116, \"88\": 1, \"109\": 1, \"25\": 1, \"1\": 1}, \"48\": {\"48\": 16}, \"129\": {\"129\": 27, \"108\": 1}, \"97\": {\"97\": 17, \"24\": 2, \"15\": 1}}, \"W_1\": {\"105\": {\"105\": 83, \"40\": 1}, \"100\": {\"100\": 16}, \"112\": {\"112\": 16}, \"123\": {\"123\": 16}, \"13\": {\"13\": 16}, \"81\": {\"81\": 28}, \"124\": {\"124\": 119, \"4\": 1}, \"122\": {\"122\": 87, \"43\": 1}, \"111\": {\"111\": 118, \"3\": 1, \"114\": 1}, \"93\": {\"93\": 156, \"21\": 1, \"43\": 1}, \"106\": {\"106\": 115, \"5\": 2, \"4\": 1}, \"113\": {\"113\": 123, \"3\": 1}, \"95\": {\"95\": 36}, \"87\": {\"87\": 105, \"0\": 1, \"43\": 1, \"18\": 1}, \"86\": {\"86\": 34, \"91\": 1, \"24\": 1}, \"67\": {\"67\": 16}, \"85\": {\"85\": 32}, \"82\": {\"82\": 36}, \"115\": {\"115\": 12}, \"7\": {\"7\": 142}, \"44\": {\"44\": 76}, \"65\": {\"65\": 10, \"63\": 2}, \"129\": {\"129\": 26, \"27\": 1, \"95\": 1}, \"42\": {\"42\": 28}, \"28\": {\"88\": 1, \"28\": 18, \"24\": 1}, \"0\": {\"0\": 83, \"99\": 1}, \"10\": {\"10\": 119, \"101\": 1}, \"76\": {\"76\": 15, \"3\": 1}, \"88\": {\"88\": 126}, \"29\": {\"29\": 28}, \"16\": {\"16\": 105, \"107\": 2, \"3\": 1}, \"41\": {\"41\": 16}, \"27\": {\"27\": 92}, \"33\": {\"33\": 118, \"32\": 1, \"54\": 1}, \"75\": {\"75\": 16}, \"48\": {\"48\": 12}, \"56\": {\"56\": 11, \"71\": 1}, \"9\": {\"9\": 31, \"87\": 1}, \"1\": {\"1\": 125, \"88\": 1}, \"39\": {\"39\": 103, \"43\": 1}, \"50\": {\"27\": 2, \"50\": 12, \"102\": 1, \"63\": 1}, \"99\": {\"99\": 23, \"4\": 1}, \"90\": {\"90\": 122}, \"45\": {\"45\": 10, \"100\": 1, \"126\": 1}, \"5\": {\"5\": 88}, \"128\": {\"128\": 22, \"114\": 1, \"72\": 1}, \"2\": {\"2\": 30, \"96\": 1, \"72\": 1}, \"53\": {\"53\": 20}, \"104\": {\"104\": 16}, \"32\": {\"32\": 32}, \"92\": {\"92\": 28}, \"78\": {\"45\": 1, \"78\": 13, \"35\": 1, \"110\": 1}, \"19\": {\"19\": 28}, \"120\": {\"120\": 19, \"14\": 1}, \"43\": {\"43\": 123, \"107\": 2, \"106\": 1, \"12\": 2}, \"74\": {\"74\": 16}, \"11\": {\"11\": 129, \"106\": 1}, \"26\": {\"26\": 129, \"107\": 1, \"88\": 1, \"69\": 1}, \"125\": {\"125\": 132}, \"64\": {\"64\": 16}, \"127\": {\"127\": 105, \"114\": 2, \"69\": 1}, \"83\": {\"83\": 27, \"12\": 1}, \"118\": {\"118\": 83, \"94\": 1}, \"103\": {\"103\": 15, \"123\": 1}, \"55\": {\"55\": 12}, \"110\": {\"110\": 126}, \"30\": {\"30\": 51, \"11\": 1}, \"51\": {\"51\": 15, \"34\": 1}, \"6\": {\"6\": 28, \"91\": 2, \"34\": 2}, \"96\": {\"96\": 19, \"30\": 1}, \"114\": {\"114\": 142, \"71\": 1, \"69\": 1}, \"69\": {\"69\": 108}, \"60\": {\"60\": 15, \"17\": 1}, \"94\": {\"94\": 91, \"5\": 1}, \"79\": {\"79\": 12}, \"126\": {\"126\": 132, \"12\": 1, \"60\": 1}, \"68\": {\"68\": 16}, \"72\": {\"72\": 32}, \"63\": {\"63\": 16}, \"22\": {\"22\": 15, \"96\": 1}, \"121\": {\"121\": 30, \"83\": 1, \"110\": 1}, \"71\": {\"71\": 102, \"86\": 1, \"16\": 1, \"24\": 1, \"12\": 1, \"82\": 1, \"125\": 1}, \"54\": {\"54\": 16}, \"102\": {\"102\": 120}, \"73\": {\"73\": 17, \"54\": 1, \"98\": 1, \"104\": 1}, \"38\": {\"38\": 16}, \"4\": {\"4\": 97, \"3\": 2, \"102\": 1}, \"52\": {\"52\": 20}, \"70\": {\"70\": 127, \"40\": 1}, \"91\": {\"91\": 28}, \"77\": {\"77\": 14, \"61\": 1, \"91\": 1}, \"20\": {\"20\": 16}, \"59\": {\"59\": 12}, \"40\": {\"40\": 134, \"118\": 1, \"88\": 1}, \"98\": {\"98\": 108}, \"46\": {\"46\": 12}, \"34\": {\"34\": 32}, \"24\": {\"24\": 89, \"97\": 1, \"3\": 1, \"106\": 1}, \"62\": {\"62\": 117, \"101\": 1, \"15\": 1, \"7\": 1}, \"14\": {\"14\": 96}, \"12\": {\"12\": 102, \"3\": 1, \"122\": 1}, \"84\": {\"84\": 131, \"107\": 1, \"12\": 1, \"27\": 1}, \"37\": {\"37\": 16}, \"97\": {\"27\": 1, \"97\": 19}, \"57\": {\"57\": 11, \"55\": 1}, \"49\": {\"49\": 20}, \"17\": {\"17\": 14, \"2\": 1, \"49\": 1}, \"109\": {\"109\": 106}, \"80\": {\"80\": 16}, \"66\": {\"66\": 16}, \"101\": {\"101\": 123, \"71\": 1}, \"89\": {\"89\": 34, \"46\": 1, \"42\": 1}, \"31\": {\"53\": 1, \"31\": 15}, \"21\": {\"21\": 34, \"3\": 1, \"106\": 2, \"73\": 1, \"94\": 1, \"109\": 1}, \"23\": {\"23\": 23, \"18\": 1}, \"25\": {\"25\": 15, \"30\": 1}, \"107\": {\"107\": 110, \"5\": 2}, \"3\": {\"3\": 86, \"102\": 1, \"88\": 1}, \"61\": {\"61\": 11, \"122\": 1}, \"117\": {\"117\": 125, \"62\": 1}, \"119\": {\"119\": 15, \"40\": 1}, \"58\": {\"58\": 12}, \"47\": {\"47\": 12}, \"116\": {\"116\": 32}, \"18\": {\"18\": 122, \"113\": 1, \"122\": 1}, \"36\": {\"36\": 119, \"118\": 1, \"71\": 1, \"10\": 1}, \"108\": {\"108\": 110, \"36\": 2}, \"15\": {\"15\": 103, \"87\": 1}, \"8\": {\"8\": 114}, \"35\": {\"35\": 12}}, \"W_2\": {\"3\": {\"3\": 127, \"70\": 2, \"71\": 1, \"43\": 1, \"24\": 1}, \"127\": {\"127\": 119, \"110\": 1}, \"58\": {\"58\": 20}, \"114\": {\"114\": 109, \"71\": 2, \"46\": 1}, \"111\": {\"111\": 142, \"15\": 1, \"40\": 1}, \"105\": {\"105\": 131, \"122\": 1}, \"118\": {\"114\": 1, \"118\": 64, \"127\": 1, \"94\": 1, \"36\": 1}, \"23\": {\"23\": 44}, \"21\": {\"21\": 42, \"23\": 1, \"78\": 1, \"17\": 1, \"5\": 1, \"85\": 1, \"71\": 1}, \"20\": {\"20\": 15, \"21\": 1}, \"75\": {\"75\": 15, \"115\": 1}, \"86\": {\"86\": 32}, \"60\": {\"60\": 27, \"81\": 1}, \"69\": {\"69\": 130, \"87\": 1, \"12\": 1, \"30\": 1, \"43\": 1, \"117\": 1, \"39\": 1, \"5\": 1, \"62\": 1, \"24\": 1, \"36\": 1}, \"99\": {\"99\": 31, \"66\": 1}, \"14\": {\"14\": 38, \"116\": 2, \"72\": 2, \"105\": 1, \"67\": 1, \"94\": 1, \"71\": 2, \"117\": 1}, \"25\": {\"25\": 15, \"97\": 1}, \"52\": {\"52\": 19, \"128\": 1}, \"47\": {\"47\": 11, \"72\": 1}, \"48\": {\"48\": 19, \"15\": 1}, \"27\": {\"27\": 60, \"87\": 1, \"24\": 2, \"11\": 1, \"39\": 1, \"0\": 1, \"18\": 1, \"62\": 1}, \"78\": {\"78\": 46, \"10\": 1, \"5\": 1}, \"8\": {\"8\": 119, \"10\": 1, \"108\": 1, \"30\": 1}, \"90\": {\"90\": 156, \"4\": 1, \"39\": 1, \"61\": 1, \"109\": 1}, \"103\": {\"103\": 16}, \"120\": {\"120\": 20}, \"96\": {\"96\": 20}, \"30\": {\"30\": 101, \"69\": 1, \"67\": 1, \"27\": 1}, \"33\": {\"33\": 146}, \"35\": {\"35\": 12}, \"108\": {\"108\": 116}, \"112\": {\"112\": 16}, \"40\": {\"40\": 131, \"21\": 1, \"4\": 1, \"16\": 1, \"94\": 1, \"70\": 1, \"12\": 3, \"18\": 1}, \"102\": {\"102\": 113, \"30\": 1, \"122\": 1, \"16\": 1}, \"56\": {\"56\": 12}, \"93\": {\"93\": 134, \"39\": 2}, \"68\": {\"68\": 15, \"107\": 1}, \"70\": {\"70\": 116, \"87\": 2, \"40\": 1, \"15\": 1, \"78\": 2, \"109\": 1, \"36\": 1}, \"7\": {\"7\": 123, \"118\": 1}, \"87\": {\"87\": 106, \"4\": 1, \"24\": 1, \"5\": 1, \"40\": 1, \"114\": 1, \"16\": 1}, \"54\": {\"68\": 1, \"54\": 19}, \"71\": {\"71\": 95, \"16\": 1, \"36\": 1, \"4\": 1, \"21\": 1, \"109\": 1}, \"80\": {\"80\": 16}, \"18\": {\"18\": 121, \"30\": 1}, \"101\": {\"101\": 121, \"71\": 1}, \"92\": {\"92\": 27, \"71\": 1}, \"32\": {\"32\": 35, \"1\": 1}, \"128\": {\"128\": 23, \"101\": 1}, \"6\": {\"6\": 32}, \"51\": {\"51\": 19, \"27\": 1}, \"85\": {\"85\": 30, \"45\": 1, \"21\": 1}, \"46\": {\"46\": 16}, \"22\": {\"22\": 20}, \"1\": {\"1\": 117, \"78\": 1, \"71\": 1, \"30\": 1, \"87\": 1, \"69\": 1}, \"37\": {\"37\": 16}, \"44\": {\"44\": 98, \"109\": 1, \"0\": 1}, \"24\": {\"24\": 105, \"118\": 1, \"62\": 1, \"106\": 1, \"21\": 1, \"8\": 1, \"16\": 1, \"122\": 1}, \"9\": {\"9\": 32}, \"116\": {\"116\": 27, \"60\": 1}, \"64\": {\"64\": 16}, \"129\": {\"129\": 32}, \"42\": {\"112\": 1, \"44\": 1, \"42\": 23, \"69\": 1, \"46\": 1, \"66\": 1}, \"117\": {\"117\": 119, \"93\": 1}, \"88\": {\"88\": 119, \"21\": 1, \"111\": 1, \"71\": 1, \"36\": 1, \"87\": 1}, \"31\": {\"31\": 20}, \"113\": {\"113\": 71, \"63\": 1}, \"38\": {\"38\": 16}, \"83\": {\"83\": 37, \"47\": 1, \"98\": 1, \"36\": 1}, \"49\": {\"49\": 23, \"71\": 1}, \"97\": {\"97\": 15, \"94\": 1, \"38\": 1, \"15\": 2, \"127\": 1}, \"76\": {\"76\": 16}, \"29\": {\"29\": 32}, \"61\": {\"61\": 19, \"23\": 1}, \"125\": {\"125\": 147, \"121\": 1}, \"126\": {\"126\": 118, \"118\": 1, \"26\": 1}, \"55\": {\"55\": 16}, \"0\": {\"0\": 103, \"27\": 1, \"101\": 2, \"118\": 1, \"23\": 1}, \"15\": {\"15\": 113, \"51\": 1, \"118\": 1, \"40\": 1, \"7\": 1, \"106\": 3}, \"26\": {\"26\": 133, \"70\": 1, \"40\": 1, \"36\": 1, \"0\": 1, \"122\": 1}, \"63\": {\"63\": 20}, \"57\": {\"57\": 20}, \"39\": {\"39\": 106, \"27\": 1, \"88\": 1, \"4\": 1, \"109\": 2, \"12\": 1}, \"62\": {\"62\": 135, \"39\": 1, \"16\": 1, \"60\": 1, \"12\": 1, \"43\": 1}, \"82\": {\"82\": 33, \"55\": 1, \"87\": 1, \"4\": 1}, \"11\": {\"11\": 78, \"12\": 1, \"102\": 1}, \"4\": {\"4\": 87, \"53\": 1}, \"41\": {\"41\": 20}, \"72\": {\"72\": 27, \"14\": 1}, \"16\": {\"16\": 122, \"67\": 1, \"39\": 1}, \"81\": {\"81\": 22, \"54\": 1, \"92\": 1}, \"67\": {\"67\": 16}, \"123\": {\"123\": 16}, \"66\": {\"66\": 19, \"86\": 1}, \"36\": {\"36\": 121, \"14\": 1, \"122\": 1, \"3\": 1, \"12\": 1, \"21\": 1, \"49\": 1, \"69\": 1}, \"115\": {\"115\": 11, \"21\": 1}, \"77\": {\"77\": 15, \"91\": 1}, \"119\": {\"119\": 20}, \"65\": {\"65\": 19, \"49\": 1}, \"34\": {\"34\": 32}, \"107\": {\"107\": 61, \"71\": 1, \"10\": 1, \"70\": 1}, \"13\": {\"13\": 16}, \"110\": {\"57\": 1, \"110\": 37, \"0\": 1, \"106\": 1}, \"106\": {\"106\": 116, \"98\": 1, \"71\": 1}, \"89\": {\"89\": 36}, \"94\": {\"94\": 57, \"122\": 1, \"12\": 1, \"71\": 2, \"21\": 1, \"107\": 1, \"49\": 1}, \"98\": {\"98\": 109, \"121\": 1, \"43\": 1, \"21\": 1}, \"91\": {\"91\": 25, \"77\": 1, \"49\": 1, \"17\": 1}, \"84\": {\"84\": 89, \"33\": 2, \"88\": 1}, \"73\": {\"104\": 1, \"73\": 27}, \"104\": {\"104\": 17, \"52\": 1, \"46\": 1, \"30\": 1}, \"59\": {\"59\": 15, \"41\": 1}, \"74\": {\"74\": 16}, \"28\": {\"28\": 19, \"59\": 1}, \"95\": {\"95\": 35, \"66\": 1}, \"2\": {\"2\": 31, \"40\": 1}, \"5\": {\"5\": 110, \"10\": 1, \"4\": 1}, \"50\": {\"50\": 15, \"69\": 1}, \"109\": {\"109\": 94, \"27\": 1, \"94\": 1, \"69\": 1, \"26\": 1, \"4\": 1, \"107\": 1}, \"10\": {\"10\": 57, \"0\": 1, \"26\": 1, \"62\": 1}, \"45\": {\"45\": 14, \"110\": 1, \"84\": 1}, \"121\": {\"121\": 31, \"18\": 2, \"37\": 1, \"95\": 1, \"100\": 1}, \"124\": {\"124\": 110}, \"53\": {\"55\": 1, \"53\": 13, \"98\": 1, \"67\": 1}, \"79\": {\"79\": 16}, \"43\": {\"43\": 109, \"4\": 1, \"87\": 1, \"122\": 1, \"3\": 1, \"16\": 1}, \"122\": {\"122\": 134, \"118\": 2, \"88\": 1, \"71\": 1}, \"100\": {\"100\": 15, \"83\": 1}, \"19\": {\"19\": 28}, \"12\": {\"12\": 87, \"24\": 1}, \"17\": {\"17\": 15, \"24\": 1}}, \"C_5\": {\"26\": {\"26\": 24}, \"7\": {\"7\": 32}, \"56\": {\"56\": 142}, \"36\": {\"36\": 92}, \"47\": {\"47\": 100}, \"2\": {\"2\": 28}, \"15\": {\"15\": 152}, \"14\": {\"14\": 43, \"47\": 1}, \"27\": {\"27\": 146}, \"40\": {\"40\": 124}, \"49\": {\"49\": 36}, \"45\": {\"45\": 124}, \"46\": {\"46\": 136}, \"11\": {\"11\": 130}, \"30\": {\"30\": 112}, \"0\": {\"0\": 124}, \"10\": {\"10\": 68}, \"1\": {\"1\": 148}, \"42\": {\"42\": 38, \"37\": 1, \"50\": 1}, \"54\": {\"54\": 112}, \"55\": {\"55\": 152}, \"23\": {\"23\": 124}, \"25\": {\"25\": 152}, \"28\": {\"28\": 32}, \"32\": {\"32\": 32}, \"9\": {\"9\": 142}, \"39\": {\"39\": 20}, \"3\": {\"3\": 100}, \"29\": {\"29\": 118}, \"17\": {\"17\": 116}, \"35\": {\"35\": 36}, \"44\": {\"44\": 152}, \"5\": {\"5\": 128}, \"33\": {\"33\": 32}, \"34\": {\"34\": 36}, \"13\": {\"13\": 138}, \"41\": {\"41\": 28}, \"6\": {\"6\": 127, \"45\": 1}, \"51\": {\"51\": 138}, \"50\": {\"50\": 144}, \"37\": {\"37\": 24}, \"19\": {\"19\": 144}, \"57\": {\"57\": 132}, \"21\": {\"21\": 144}, \"24\": {\"24\": 80}, \"8\": {\"8\": 130}, \"12\": {\"12\": 96}, \"48\": {\"48\": 132}, \"43\": {\"43\": 150}, \"53\": {\"53\": 148}, \"38\": {\"38\": 32}, \"16\": {\"16\": 142}, \"22\": {\"22\": 28}, \"4\": {\"4\": 100}, \"18\": {\"18\": 64}, \"20\": {\"20\": 144}, \"52\": {\"52\": 140}, \"31\": {\"31\": 36}}, \"C_1\": {\"41\": {\"41\": 24}, \"40\": {\"40\": 110}, \"45\": {\"45\": 138}, \"51\": {\"51\": 148}, \"5\": {\"5\": 154}, \"30\": {\"30\": 120}, \"42\": {\"42\": 40}, \"46\": {\"46\": 135, \"50\": 1}, \"48\": {\"48\": 134}, \"53\": {\"53\": 144}, \"47\": {\"47\": 152}, \"49\": {\"49\": 32}, \"36\": {\"36\": 64}, \"32\": {\"32\": 32}, \"34\": {\"34\": 24}, \"29\": {\"29\": 140}, \"35\": {\"35\": 36}, \"3\": {\"3\": 134}, \"16\": {\"16\": 140}, \"26\": {\"26\": 24}, \"57\": {\"57\": 144}, \"44\": {\"44\": 128}, \"0\": {\"0\": 152}, \"4\": {\"4\": 132}, \"31\": {\"31\": 28}, \"11\": {\"11\": 140}, \"6\": {\"6\": 96}, \"54\": {\"54\": 104}, \"17\": {\"17\": 64}, \"20\": {\"20\": 128}, \"13\": {\"13\": 150}, \"33\": {\"33\": 32}, \"24\": {\"24\": 108}, \"52\": {\"52\": 132}, \"2\": {\"2\": 36}, \"19\": {\"19\": 156}, \"39\": {\"39\": 28}, \"8\": {\"8\": 140}, \"21\": {\"21\": 124}, \"10\": {\"10\": 96}, \"37\": {\"37\": 32}, \"25\": {\"25\": 144}, \"27\": {\"27\": 130}, \"23\": {\"23\": 136}, \"1\": {\"1\": 100}, \"50\": {\"50\": 152}, \"12\": {\"12\": 116}, \"18\": {\"18\": 72}, \"38\": {\"38\": 24}, \"14\": {\"14\": 24}, \"56\": {\"56\": 142}, \"55\": {\"55\": 160}, \"9\": {\"9\": 138}, \"15\": {\"15\": 146}, \"28\": {\"28\": 28}, \"7\": {\"7\": 28}, \"43\": {\"43\": 136}, \"22\": {\"22\": 136}}, \"C_3\": {\"1\": {\"1\": 100}, \"9\": {\"9\": 124}, \"22\": {\"22\": 136}, \"43\": {\"43\": 136}, \"49\": {\"49\": 20}, \"50\": {\"50\": 138}, \"53\": {\"53\": 136}, \"10\": {\"10\": 64}, \"48\": {\"48\": 116}, \"8\": {\"8\": 138}, \"31\": {\"31\": 28}, \"56\": {\"56\": 134}, \"25\": {\"25\": 142}, \"28\": {\"28\": 28}, \"38\": {\"38\": 28}, \"5\": {\"5\": 116}, \"12\": {\"12\": 92}, \"6\": {\"6\": 88}, \"19\": {\"19\": 152}, \"26\": {\"26\": 24}, \"32\": {\"32\": 28}, \"33\": {\"33\": 28}, \"3\": {\"3\": 118}, \"51\": {\"51\": 128}, \"16\": {\"16\": 138}, \"46\": {\"46\": 140}, \"7\": {\"7\": 36}, \"47\": {\"47\": 92}, \"39\": {\"39\": 16}, \"40\": {\"40\": 136}, \"14\": {\"14\": 40}, \"37\": {\"37\": 28}, \"2\": {\"2\": 32}, \"21\": {\"21\": 120}, \"35\": {\"35\": 28}, \"54\": {\"54\": 100}, \"52\": {\"52\": 116}, \"29\": {\"29\": 118}, \"20\": {\"20\": 132}, \"18\": {\"18\": 84}, \"11\": {\"11\": 142}, \"0\": {\"0\": 124}, \"36\": {\"36\": 100}, \"17\": {\"17\": 108}, \"30\": {\"30\": 114}, \"42\": {\"42\": 28}, \"45\": {\"45\": 60}, \"4\": {\"4\": 148}, \"23\": {\"23\": 134}, \"13\": {\"13\": 128}, \"15\": {\"15\": 128}, \"57\": {\"57\": 124}, \"27\": {\"27\": 134}, \"44\": {\"44\": 88}, \"34\": {\"34\": 32}, \"41\": {\"41\": 28}, \"24\": {\"24\": 104}, \"55\": {\"55\": 118}}, \"W_3\": {\"38\": {\"38\": 16}, \"88\": {\"88\": 108, \"107\": 1, \"28\": 1, \"51\": 1, \"36\": 1}, \"104\": {\"104\": 16}, \"11\": {\"11\": 140}, \"103\": {\"103\": 15, \"12\": 1}, \"124\": {\"124\": 116}, \"3\": {\"3\": 112, \"101\": 2, \"27\": 1, \"12\": 1}, \"74\": {\"74\": 15, \"21\": 1}, \"126\": {\"126\": 119, \"5\": 1, \"39\": 1, \"1\": 1}, \"123\": {\"123\": 16}, \"51\": {\"51\": 16}, \"14\": {\"14\": 80}, \"16\": {\"16\": 113, \"110\": 1, \"108\": 1, \"0\": 1}, \"22\": {\"22\": 16}, \"109\": {\"109\": 122}, \"27\": {\"27\": 95, \"113\": 1}, \"75\": {\"75\": 16}, \"66\": {\"66\": 16}, \"48\": {\"48\": 16}, \"6\": {\"6\": 32}, \"10\": {\"10\": 110, \"16\": 1, \"71\": 1}, \"99\": {\"99\": 35, \"54\": 1}, \"50\": {\"50\": 16}, \"54\": {\"54\": 16}, \"55\": {\"55\": 16}, \"53\": {\"53\": 20}, \"72\": {\"72\": 28}, \"64\": {\"64\": 20}, \"115\": {\"54\": 1, \"115\": 15}, \"23\": {\"23\": 32}, \"32\": {\"32\": 32}, \"15\": {\"15\": 101, \"12\": 1, \"111\": 1, \"5\": 1}, \"43\": {\"43\": 55, \"21\": 1}, \"114\": {\"114\": 121, \"12\": 2, \"62\": 1}, \"121\": {\"121\": 31, \"28\": 1}, \"79\": {\"79\": 12}, \"81\": {\"81\": 32}, \"8\": {\"8\": 127, \"108\": 1}, \"13\": {\"13\": 14, \"116\": 1, \"113\": 1}, \"90\": {\"90\": 156}, \"41\": {\"81\": 1, \"41\": 15}, \"107\": {\"107\": 136}, \"57\": {\"57\": 20}, \"33\": {\"33\": 119, \"98\": 1}, \"35\": {\"35\": 12}, \"29\": {\"29\": 32}, \"70\": {\"70\": 68, \"23\": 1, \"12\": 1, \"30\": 2}, \"42\": {\"1\": 1, \"42\": 26, \"5\": 1}, \"93\": {\"93\": 126}, \"86\": {\"86\": 28}, \"28\": {\"28\": 16}, \"1\": {\"1\": 105, \"87\": 1, \"101\": 1, \"40\": 1}, \"125\": {\"125\": 121, \"30\": 1, \"5\": 1, \"88\": 1}, \"69\": {\"69\": 81, \"4\": 1, \"10\": 1, \"70\": 1}, \"97\": {\"97\": 20}, \"117\": {\"117\": 112}, \"68\": {\"68\": 16}, \"30\": {\"30\": 81, \"36\": 1, \"21\": 1, \"8\": 1}, \"111\": {\"111\": 132}, \"47\": {\"47\": 12}, \"102\": {\"102\": 124}, \"65\": {\"65\": 12}, \"113\": {\"113\": 117, \"106\": 1, \"69\": 1, \"126\": 1}, \"36\": {\"36\": 111, \"24\": 1, \"27\": 1, \"71\": 1}, \"119\": {\"119\": 16}, \"46\": {\"46\": 16}, \"49\": {\"49\": 22, \"30\": 1, \"19\": 1}, \"0\": {\"0\": 115, \"113\": 1}, \"58\": {\"58\": 15, \"15\": 1}, \"63\": {\"63\": 16}, \"94\": {\"94\": 84}, \"17\": {\"17\": 10, \"94\": 1, \"113\": 1, \"36\": 1, \"51\": 1, \"86\": 1, \"112\": 1}, \"9\": {\"9\": 31, \"124\": 1}, \"87\": {\"87\": 120}, \"59\": {\"59\": 12}, \"105\": {\"105\": 120}, \"80\": {\"80\": 15, \"87\": 1}, \"120\": {\"120\": 19, \"81\": 1}, \"18\": {\"18\": 129, \"93\": 1, \"127\": 1, \"124\": 1}, \"78\": {\"18\": 1, \"78\": 13, \"21\": 1, \"7\": 1}, \"25\": {\"25\": 16}, \"19\": {\"19\": 32}, \"122\": {\"122\": 56, \"113\": 1, \"110\": 1, \"71\": 1, \"12\": 1}, \"39\": {\"39\": 107, \"126\": 1}, \"76\": {\"76\": 15, \"69\": 1}, \"89\": {\"89\": 28}, \"129\": {\"129\": 32}, \"26\": {\"26\": 96, \"108\": 2, \"10\": 1, \"70\": 1}, \"85\": {\"85\": 36}, \"71\": {\"71\": 67, \"5\": 1}, \"77\": {\"77\": 16}, \"128\": {\"128\": 32}, \"2\": {\"2\": 28}, \"56\": {\"56\": 12}, \"24\": {\"24\": 48}, \"101\": {\"23\": 1, \"101\": 49, \"43\": 1, \"99\": 1}, \"52\": {\"52\": 16}, \"84\": {\"84\": 107, \"39\": 1}, \"7\": {\"7\": 109, \"117\": 1, \"16\": 1, \"114\": 1}, \"82\": {\"82\": 28}, \"60\": {\"60\": 27, \"113\": 1}, \"45\": {\"4\": 1, \"45\": 12, \"8\": 1, \"34\": 1, \"5\": 1}, \"40\": {\"40\": 124}, \"20\": {\"20\": 16}, \"4\": {\"4\": 96}, \"116\": {\"116\": 28}, \"61\": {\"61\": 16}, \"5\": {\"5\": 110, \"70\": 1, \"39\": 1}, \"106\": {\"106\": 99, \"73\": 1}, \"12\": {\"12\": 104}, \"62\": {\"62\": 118, \"81\": 1, \"110\": 1}, \"34\": {\"34\": 32}, \"91\": {\"91\": 24}, \"112\": {\"112\": 15, \"8\": 1}, \"92\": {\"92\": 32}, \"95\": {\"95\": 32}, \"96\": {\"96\": 20}, \"127\": {\"127\": 103, \"12\": 1, \"106\": 1, \"84\": 1, \"110\": 1, \"40\": 1}, \"67\": {\"67\": 15, \"53\": 1}, \"83\": {\"83\": 24}, \"21\": {\"78\": 3, \"21\": 36, \"100\": 1, \"70\": 1, \"12\": 1, \"5\": 1, \"117\": 1, \"59\": 1, \"69\": 1, \"43\": 1, \"10\": 1}, \"98\": {\"98\": 124}, \"108\": {\"108\": 130, \"8\": 1, \"4\": 1}, \"31\": {\"31\": 20}, \"118\": {\"118\": 99, \"109\": 1}, \"110\": {\"110\": 92}, \"73\": {\"73\": 40}, \"44\": {\"44\": 72}, \"37\": {\"37\": 15, \"95\": 1}, \"100\": {\"100\": 16}}, \"C_4\": {\"52\": {\"52\": 116}, \"6\": {\"6\": 112}, \"14\": {\"14\": 16}, \"49\": {\"49\": 20}, \"0\": {\"0\": 79, \"46\": 1}, \"46\": {\"46\": 156}, \"41\": {\"41\": 36}, \"24\": {\"24\": 56}, \"25\": {\"25\": 152}, \"40\": {\"40\": 138}, \"38\": {\"38\": 40}, \"13\": {\"13\": 152}, \"9\": {\"9\": 108}, \"45\": {\"45\": 96}, \"43\": {\"43\": 144}, \"10\": {\"10\": 130}, \"15\": {\"15\": 127, \"11\": 1}, \"39\": {\"39\": 20}, \"4\": {\"4\": 132}, \"53\": {\"53\": 132}, \"1\": {\"1\": 40}, \"28\": {\"28\": 32}, \"54\": {\"54\": 108}, \"21\": {\"21\": 132}, \"7\": {\"7\": 24}, \"8\": {\"8\": 136}, \"42\": {\"42\": 32}, \"11\": {\"11\": 104}, \"33\": {\"33\": 36}, \"27\": {\"27\": 142}, \"19\": {\"19\": 144}, \"2\": {\"2\": 36}, \"3\": {\"3\": 120}, \"57\": {\"57\": 100}, \"20\": {\"20\": 112}, \"23\": {\"23\": 128}, \"22\": {\"22\": 128}, \"29\": {\"29\": 124}, \"36\": {\"36\": 92}, \"51\": {\"51\": 132}, \"31\": {\"31\": 28}, \"12\": {\"12\": 92}, \"56\": {\"56\": 138}, \"5\": {\"5\": 108}, \"35\": {\"35\": 40}, \"17\": {\"17\": 80}, \"32\": {\"32\": 24}, \"47\": {\"47\": 120}, \"18\": {\"18\": 107, \"22\": 1}, \"26\": {\"26\": 24}, \"50\": {\"50\": 122}, \"55\": {\"55\": 124}, \"34\": {\"34\": 24}, \"30\": {\"30\": 43, \"12\": 1}, \"37\": {\"37\": 24}, \"44\": {\"44\": 132}, \"48\": {\"48\": 118}, \"16\": {\"16\": 96}}, \"C_2\": {\"11\": {\"11\": 130}, \"21\": {\"21\": 120}, \"19\": {\"19\": 140}, \"20\": {\"20\": 128}, \"9\": {\"9\": 140}, \"10\": {\"10\": 112}, \"37\": {\"37\": 36}, \"32\": {\"32\": 28}, \"3\": {\"3\": 92}, \"39\": {\"39\": 28}, \"45\": {\"45\": 128}, \"50\": {\"50\": 136}, \"40\": {\"40\": 139, \"9\": 1}, \"46\": {\"46\": 128}, \"12\": {\"12\": 92}, \"13\": {\"13\": 116}, \"47\": {\"47\": 132}, \"15\": {\"15\": 141, \"11\": 1}, \"54\": {\"54\": 108}, \"48\": {\"48\": 148}, \"23\": {\"23\": 142}, \"29\": {\"29\": 128}, \"38\": {\"38\": 20}, \"53\": {\"53\": 136}, \"27\": {\"27\": 150}, \"43\": {\"43\": 144}, \"35\": {\"35\": 32}, \"0\": {\"0\": 48}, \"52\": {\"52\": 124}, \"8\": {\"8\": 128}, \"24\": {\"24\": 96}, \"18\": {\"18\": 48}, \"25\": {\"25\": 148}, \"57\": {\"57\": 136}, \"55\": {\"55\": 134}, \"36\": {\"36\": 116}, \"17\": {\"17\": 104}, \"2\": {\"2\": 32}, \"34\": {\"34\": 28}, \"1\": {\"1\": 112}, \"51\": {\"51\": 136}, \"31\": {\"31\": 28}, \"49\": {\"49\": 24}, \"14\": {\"14\": 24}, \"33\": {\"33\": 28}, \"41\": {\"41\": 20}, \"28\": {\"28\": 27, \"15\": 1}, \"5\": {\"5\": 120}, \"16\": {\"16\": 150}, \"4\": {\"4\": 128}, \"22\": {\"22\": 136}, \"6\": {\"6\": 118}, \"30\": {\"30\": 124}, \"26\": {\"26\": 24}, \"56\": {\"56\": 142}, \"42\": {\"42\": 36}, \"44\": {\"44\": 100}, \"7\": {\"7\": 36}}, \"O_26\": {\"0\": {\"6\": 17, \"5\": 3, \"2\": 39, \"15\": 27, \"0\": 68, \"14\": 25, \"10\": 47, \"8\": 8, \"7\": 3, \"9\": 3}, \"4\": {\"4\": 170, \"7\": 3, \"13\": 49, \"3\": 10, \"9\": 6, \"12\": 2}, \"14\": {\"14\": 60, \"15\": 32, \"1\": 15, \"5\": 17, \"6\": 31, \"0\": 33, \"10\": 51, \"2\": 1}, \"12\": {\"9\": 27, \"8\": 10, \"12\": 167, \"13\": 33, \"7\": 3}, \"8\": {\"9\": 42, \"8\": 54, \"2\": 41, \"7\": 47, \"12\": 7, \"13\": 10, \"3\": 25, \"10\": 3, \"0\": 11}, \"7\": {\"8\": 49, \"2\": 34, \"7\": 67, \"9\": 26, \"3\": 46, \"0\": 8, \"13\": 8, \"15\": 1, \"10\": 1}, \"13\": {\"13\": 105, \"4\": 30, \"12\": 40, \"9\": 29, \"8\": 10, \"3\": 13, \"2\": 6, \"7\": 7}, \"5\": {\"10\": 17, \"5\": 89, \"14\": 16, \"6\": 40, \"1\": 38, \"15\": 37, \"11\": 2, \"0\": 1}, \"15\": {\"6\": 39, \"10\": 43, \"14\": 40, \"15\": 45, \"2\": 8, \"1\": 9, \"5\": 36, \"0\": 16, \"8\": 2, \"11\": 1, \"7\": 1}, \"10\": {\"10\": 62, \"14\": 56, \"1\": 3, \"15\": 32, \"6\": 39, \"0\": 37, \"5\": 7, \"2\": 4}, \"3\": {\"3\": 68, \"7\": 51, \"2\": 24, \"13\": 16, \"8\": 29, \"9\": 43, \"4\": 4, \"12\": 5}, \"9\": {\"8\": 43, \"3\": 28, \"12\": 11, \"0\": 8, \"7\": 40, \"9\": 55, \"2\": 31, \"13\": 21, \"15\": 1, \"4\": 1, \"10\": 1}, \"6\": {\"10\": 35, \"15\": 57, \"6\": 67, \"14\": 27, \"5\": 31, \"1\": 11, \"2\": 1, \"0\": 9, \"11\": 2}, \"1\": {\"1\": 123, \"14\": 21, \"5\": 45, \"15\": 18, \"10\": 9, \"11\": 2, \"6\": 21, \"0\": 1}, \"11\": {\"6\": 29, \"11\": 170, \"15\": 10, \"5\": 21, \"1\": 5, \"10\": 3, \"14\": 2}, \"2\": {\"8\": 30, \"2\": 61, \"7\": 52, \"0\": 25, \"3\": 20, \"14\": 4, \"9\": 30, \"10\": 5, \"13\": 8, \"12\": 2, \"6\": 1, \"15\": 2}}, \"O_44\": {\"1\": {\"2\": 76, \"1\": 156, \"3\": 1, \"10\": 5, \"7\": 1, \"15\": 1}, \"11\": {\"11\": 238, \"13\": 2}, \"3\": {\"12\": 85, \"3\": 154, \"0\": 1}, \"6\": {\"6\": 114, \"9\": 34, \"13\": 81, \"7\": 8, \"11\": 1, \"10\": 2}, \"7\": {\"7\": 104, \"10\": 59, \"2\": 5, \"9\": 54, \"14\": 2, \"4\": 5, \"6\": 11}, \"5\": {\"4\": 35, \"5\": 94, \"14\": 59, \"15\": 39, \"8\": 11, \"0\": 1, \"9\": 1}, \"2\": {\"1\": 63, \"2\": 131, \"10\": 22, \"7\": 9, \"4\": 6, \"9\": 5, \"14\": 3, \"15\": 1}, \"15\": {\"8\": 38, \"14\": 46, \"15\": 82, \"5\": 50, \"0\": 9, \"4\": 13, \"9\": 2}, \"10\": {\"7\": 60, \"10\": 113, \"9\": 37, \"2\": 19, \"6\": 6, \"1\": 2, \"4\": 2, \"14\": 1}, \"13\": {\"13\": 137, \"6\": 84, \"7\": 2, \"9\": 13, \"11\": 3, \"10\": 1}, \"8\": {\"0\": 74, \"15\": 44, \"8\": 111, \"5\": 8, \"4\": 1, \"14\": 2}, \"4\": {\"5\": 36, \"4\": 71, \"14\": 65, \"7\": 15, \"2\": 5, \"15\": 20, \"13\": 4, \"9\": 18, \"1\": 1, \"8\": 2, \"6\": 2, \"10\": 1}, \"9\": {\"7\": 45, \"6\": 40, \"9\": 58, \"2\": 13, \"13\": 34, \"10\": 24, \"4\": 19, \"14\": 7}, \"14\": {\"9\": 3, \"4\": 69, \"14\": 91, \"5\": 52, \"7\": 8, \"15\": 14, \"2\": 1, \"10\": 1, \"8\": 1}, \"0\": {\"8\": 85, \"0\": 141, \"15\": 9, \"5\": 3, \"4\": 2}, \"12\": {\"12\": 154, \"3\": 85, \"1\": 1}}, \"O_50\": {\"15\": {\"12\": 17, \"9\": 54, \"15\": 75, \"6\": 55, \"5\": 18, \"11\": 15, \"7\": 3, \"4\": 3}, \"4\": {\"4\": 128, \"7\": 78, \"5\": 21, \"9\": 3, \"15\": 7, \"6\": 3}, \"6\": {\"6\": 85, \"5\": 31, \"7\": 3, \"15\": 64, \"12\": 12, \"4\": 3, \"11\": 16, \"3\": 4, \"9\": 21, \"13\": 1}, \"2\": {\"2\": 119, \"14\": 46, \"0\": 73, \"10\": 2}, \"5\": {\"7\": 42, \"11\": 8, \"5\": 73, \"6\": 38, \"12\": 2, \"15\": 31, \"4\": 30, \"13\": 8, \"9\": 6, \"3\": 2}, \"9\": {\"9\": 115, \"15\": 49, \"6\": 13, \"5\": 8, \"11\": 23, \"12\": 30, \"4\": 2}, \"8\": {\"8\": 170, \"0\": 3, \"10\": 58, \"13\": 4, \"1\": 5}, \"12\": {\"11\": 65, \"12\": 107, \"9\": 28, \"6\": 13, \"15\": 21, \"13\": 4, \"1\": 2}, \"10\": {\"10\": 127, \"0\": 51, \"8\": 51, \"2\": 7, \"1\": 3, \"14\": 1}, \"1\": {\"1\": 144, \"13\": 64, \"8\": 11, \"10\": 8, \"12\": 2, \"11\": 8, \"6\": 1, \"0\": 2}, \"0\": {\"0\": 113, \"14\": 16, \"2\": 66, \"10\": 45}, \"3\": {\"3\": 219, \"6\": 7, \"5\": 7, \"13\": 3, \"11\": 2, \"9\": 1, \"8\": 1}, \"13\": {\"1\": 56, \"13\": 150, \"11\": 11, \"3\": 6, \"12\": 3, \"6\": 3, \"10\": 3, \"5\": 2, \"8\": 6}, \"11\": {\"12\": 63, \"15\": 24, \"11\": 90, \"6\": 27, \"5\": 5, \"9\": 27, \"1\": 2, \"13\": 2}, \"7\": {\"7\": 116, \"4\": 79, \"5\": 40, \"15\": 2, \"6\": 3}, \"14\": {\"2\": 65, \"0\": 24, \"14\": 149, \"10\": 2}}, \"O_38\": {\"15\": {\"15\": 168, \"8\": 19, \"12\": 11, \"5\": 13, \"6\": 12, \"1\": 15, \"9\": 2}, \"11\": {\"11\": 234, \"3\": 6}, \"10\": {\"10\": 139, \"13\": 30, \"0\": 40, \"4\": 25, \"3\": 5, \"11\": 1}, \"14\": {\"14\": 123, \"2\": 77, \"7\": 15, \"13\": 15, \"4\": 2, \"0\": 5, \"8\": 3}, \"6\": {\"1\": 79, \"6\": 159, \"15\": 1, \"5\": 1}, \"4\": {\"4\": 148, \"0\": 43, \"10\": 37, \"13\": 8, \"3\": 1, \"7\": 3}, \"13\": {\"10\": 35, \"0\": 41, \"13\": 128, \"14\": 12, \"4\": 8, \"7\": 8, \"2\": 8}, \"3\": {\"3\": 230, \"11\": 6, \"0\": 3, \"10\": 1}, \"7\": {\"7\": 155, \"9\": 21, \"8\": 10, \"13\": 10, \"0\": 16, \"2\": 7, \"4\": 5, \"14\": 9, \"5\": 7}, \"8\": {\"8\": 53, \"5\": 71, \"12\": 23, \"2\": 21, \"9\": 28, \"7\": 20, \"14\": 11, \"0\": 1, \"15\": 11, \"13\": 1}, \"1\": {\"1\": 160, \"6\": 74, \"15\": 6}, \"5\": {\"5\": 68, \"15\": 17, \"7\": 12, \"12\": 30, \"8\": 64, \"9\": 36, \"2\": 7, \"14\": 6}, \"0\": {\"10\": 42, \"4\": 20, \"14\": 8, \"13\": 38, \"7\": 31, \"0\": 81, \"3\": 17, \"8\": 1, \"9\": 1, \"11\": 1}, \"2\": {\"2\": 129, \"14\": 77, \"9\": 5, \"5\": 5, \"12\": 1, \"13\": 12, \"8\": 6, \"7\": 5}, \"12\": {\"12\": 173, \"8\": 36, \"5\": 23, \"15\": 3, \"9\": 2, \"2\": 1, \"14\": 2}, \"9\": {\"5\": 35, \"9\": 132, \"8\": 40, \"7\": 26, \"13\": 1, \"14\": 2, \"12\": 1, \"2\": 3}}, \"O_20\": {\"10\": {\"10\": 89, \"12\": 11, \"4\": 50, \"13\": 28, \"7\": 13, \"2\": 13, \"15\": 19, \"6\": 16, \"5\": 1}, \"7\": {\"6\": 22, \"8\": 7, \"7\": 49, \"12\": 25, \"2\": 31, \"4\": 22, \"5\": 20, \"14\": 3, \"15\": 10, \"3\": 7, \"1\": 19, \"9\": 25}, \"4\": {\"10\": 25, \"4\": 39, \"2\": 30, \"8\": 1, \"13\": 10, \"12\": 36, \"15\": 15, \"7\": 29, \"9\": 9, \"6\": 33, \"5\": 5, \"3\": 3, \"1\": 5}, \"13\": {\"13\": 70, \"4\": 25, \"7\": 4, \"10\": 23, \"15\": 45, \"1\": 2, \"2\": 32, \"6\": 3, \"12\": 34, \"5\": 1, \"9\": 1}, \"1\": {\"7\": 26, \"1\": 48, \"15\": 15, \"8\": 5, \"9\": 32, \"2\": 15, \"5\": 45, \"3\": 17, \"12\": 20, \"4\": 8, \"6\": 6, \"14\": 2, \"13\": 1}, \"0\": {\"8\": 24, \"0\": 147, \"11\": 40, \"14\": 9, \"1\": 3, \"9\": 2, \"5\": 4, \"3\": 10, \"7\": 1}, \"12\": {\"13\": 19, \"4\": 25, \"15\": 37, \"5\": 9, \"9\": 17, \"2\": 38, \"1\": 14, \"7\": 31, \"12\": 36, \"6\": 7, \"10\": 7}, \"5\": {\"14\": 10, \"1\": 43, \"9\": 42, \"8\": 14, \"4\": 5, \"15\": 5, \"5\": 36, \"7\": 12, \"12\": 17, \"3\": 39, \"2\": 11, \"6\": 5, \"13\": 1}, \"6\": {\"12\": 15, \"10\": 8, \"9\": 11, \"2\": 24, \"6\": 72, \"4\": 32, \"3\": 7, \"7\": 38, \"14\": 11, \"13\": 2, \"5\": 5, \"1\": 6, \"8\": 8, \"15\": 1}, \"2\": {\"1\": 14, \"12\": 45, \"15\": 35, \"9\": 14, \"2\": 40, \"4\": 29, \"7\": 28, \"13\": 10, \"10\": 5, \"5\": 13, \"6\": 6, \"3\": 1}, \"8\": {\"14\": 55, \"1\": 7, \"8\": 75, \"0\": 13, \"9\": 25, \"5\": 13, \"3\": 40, \"7\": 7, \"11\": 1, \"6\": 4}, \"11\": {\"11\": 191, \"3\": 1, \"0\": 46, \"8\": 2}, \"9\": {\"6\": 16, \"1\": 33, \"9\": 43, \"5\": 33, \"7\": 20, \"13\": 1, \"2\": 15, \"3\": 31, \"8\": 21, \"12\": 8, \"15\": 6, \"4\": 5, \"14\": 7, \"0\": 1}, \"14\": {\"14\": 82, \"8\": 76, \"11\": 1, \"3\": 32, \"5\": 8, \"9\": 19, \"6\": 9, \"1\": 3, \"7\": 3, \"2\": 1, \"0\": 6}, \"15\": {\"12\": 46, \"13\": 24, \"9\": 11, \"4\": 23, \"15\": 40, \"1\": 17, \"2\": 37, \"7\": 22, \"10\": 2, \"5\": 14, \"6\": 3, \"3\": 1}, \"3\": {\"5\": 23, \"1\": 29, \"9\": 35, \"3\": 52, \"6\": 6, \"14\": 31, \"7\": 15, \"8\": 32, \"2\": 5, \"12\": 4, \"15\": 1, \"0\": 6, \"4\": 1}}, \"O_14\": {\"14\": {\"13\": 16, \"0\": 30, \"5\": 28, \"14\": 77, \"2\": 40, \"3\": 33, \"7\": 9, \"6\": 5, \"8\": 2}, \"0\": {\"0\": 64, \"5\": 28, \"8\": 35, \"2\": 18, \"6\": 1, \"3\": 31, \"14\": 36, \"12\": 4, \"4\": 14, \"10\": 6, \"7\": 1, \"13\": 2}, \"4\": {\"5\": 29, \"2\": 26, \"10\": 29, \"4\": 133, \"14\": 3, \"0\": 3, \"8\": 14, \"1\": 1, \"13\": 1, \"3\": 1}, \"11\": {\"11\": 238, \"9\": 2}, \"13\": {\"6\": 94, \"7\": 10, \"0\": 4, \"14\": 18, \"3\": 19, \"13\": 44, \"5\": 11, \"15\": 15, \"2\": 19, \"4\": 3, \"8\": 3}, \"9\": {\"9\": 210, \"1\": 21, \"12\": 3, \"10\": 6}, \"3\": {\"0\": 36, \"3\": 83, \"2\": 18, \"14\": 49, \"5\": 9, \"6\": 18, \"13\": 11, \"7\": 15, \"8\": 1}, \"6\": {\"6\": 124, \"3\": 22, \"7\": 14, \"13\": 59, \"14\": 10, \"2\": 8, \"0\": 2, \"5\": 1}, \"1\": {\"1\": 202, \"9\": 15, \"10\": 22, \"4\": 1}, \"5\": {\"14\": 21, \"4\": 24, \"5\": 77, \"2\": 60, \"7\": 14, \"8\": 19, \"0\": 16, \"3\": 6, \"13\": 3}, \"12\": {\"12\": 219, \"8\": 16, \"10\": 2, \"9\": 1, \"0\": 2}, \"10\": {\"10\": 175, \"1\": 15, \"9\": 1, \"4\": 31, \"12\": 9, \"5\": 1, \"0\": 1, \"8\": 6, \"2\": 1}, \"8\": {\"8\": 146, \"4\": 14, \"0\": 35, \"5\": 22, \"10\": 2, \"12\": 11, \"14\": 4, \"2\": 5, \"3\": 1}, \"7\": {\"14\": 11, \"7\": 140, \"5\": 22, \"2\": 15, \"6\": 14, \"13\": 18, \"3\": 18, \"8\": 2}, \"15\": {\"15\": 240}, \"2\": {\"3\": 15, \"5\": 48, \"7\": 15, \"13\": 12, \"6\": 25, \"4\": 29, \"14\": 35, \"2\": 39, \"8\": 7, \"0\": 13, \"10\": 2}}, \"O_32\": {\"11\": {\"13\": 33, \"11\": 202, \"4\": 1, \"3\": 2, \"9\": 1, \"2\": 1}, \"1\": {\"1\": 240}, \"2\": {\"2\": 120, \"4\": 83, \"0\": 3, \"7\": 1, \"8\": 3, \"13\": 19, \"3\": 8, \"14\": 3}, \"0\": {\"0\": 75, \"7\": 46, \"14\": 33, \"5\": 35, \"8\": 48, \"2\": 3}, \"3\": {\"13\": 41, \"3\": 147, \"8\": 3, \"4\": 31, \"14\": 3, \"2\": 13, \"11\": 2}, \"8\": {\"7\": 40, \"2\": 5, \"5\": 31, \"14\": 45, \"8\": 66, \"0\": 46, \"3\": 4, \"15\": 1, \"4\": 1, \"13\": 1}, \"12\": {\"12\": 206, \"9\": 28, \"10\": 6}, \"5\": {\"5\": 70, \"7\": 62, \"14\": 26, \"8\": 26, \"0\": 43, \"15\": 12, \"2\": 1}, \"15\": {\"15\": 218, \"7\": 4, \"5\": 11, \"8\": 6, \"0\": 1}, \"7\": {\"15\": 3, \"5\": 44, \"14\": 44, \"8\": 44, \"7\": 50, \"0\": 54, \"2\": 1}, \"4\": {\"4\": 90, \"13\": 57, \"3\": 19, \"2\": 72, \"8\": 2}, \"14\": {\"0\": 51, \"5\": 15, \"2\": 8, \"14\": 69, \"8\": 36, \"7\": 53, \"4\": 5, \"3\": 3}, \"10\": {\"10\": 223, \"12\": 11, \"6\": 6}, \"6\": {\"6\": 228, \"10\": 12}, \"13\": {\"11\": 26, \"13\": 106, \"2\": 26, \"3\": 36, \"4\": 46}, \"9\": {\"12\": 39, \"9\": 182, \"2\": 5, \"10\": 1, \"13\": 7, \"4\": 6}}, \"O_8\": {\"9\": {\"9\": 240}, \"11\": {\"8\": 29, \"1\": 30, \"11\": 59, \"14\": 13, \"4\": 40, \"6\": 21, \"7\": 19, \"10\": 17, \"5\": 6, \"13\": 6}, \"8\": {\"8\": 87, \"6\": 30, \"4\": 29, \"11\": 50, \"1\": 18, \"7\": 13, \"14\": 6, \"5\": 1, \"10\": 5, \"13\": 1}, \"4\": {\"8\": 36, \"14\": 47, \"4\": 81, \"11\": 38, \"1\": 9, \"10\": 4, \"6\": 24, \"5\": 1}, \"13\": {\"10\": 45, \"7\": 38, \"5\": 21, \"6\": 22, \"13\": 74, \"1\": 36, \"11\": 4}, \"14\": {\"14\": 129, \"4\": 72, \"8\": 19, \"11\": 16, \"6\": 2, \"1\": 1, \"0\": 1}, \"2\": {\"2\": 116, \"12\": 36, \"3\": 39, \"15\": 49}, \"3\": {\"3\": 226, \"2\": 13, \"9\": 1}, \"1\": {\"1\": 53, \"7\": 21, \"6\": 29, \"11\": 40, \"10\": 45, \"5\": 16, \"13\": 16, \"8\": 8, \"4\": 12}, \"0\": {\"0\": 237, \"14\": 3}, \"5\": {\"6\": 19, \"5\": 65, \"1\": 25, \"4\": 7, \"13\": 42, \"7\": 12, \"10\": 53, \"11\": 11, \"14\": 6}, \"15\": {\"2\": 38, \"12\": 73, \"15\": 128, \"3\": 1}, \"10\": {\"5\": 46, \"7\": 22, \"1\": 31, \"10\": 39, \"13\": 50, \"6\": 33, \"4\": 5, \"11\": 14}, \"12\": {\"15\": 101, \"12\": 120, \"2\": 19}, \"6\": {\"8\": 20, \"11\": 17, \"10\": 30, \"6\": 52, \"7\": 51, \"4\": 12, \"14\": 1, \"1\": 38, \"13\": 17, \"5\": 2}, \"7\": {\"10\": 29, \"1\": 32, \"6\": 43, \"11\": 10, \"13\": 35, \"7\": 75, \"5\": 8, \"8\": 7, \"4\": 1}}}, \"per_domain_accuracy\": {\"W_4\": {\"accuracy\": 0.9656635802469136, \"source?\": true}, \"W_1\": {\"accuracy\": 0.981594279661017, \"source?\": true}, \"W_2\": {\"accuracy\": 0.9646966527196653, \"source?\": true}, \"C_5\": {\"accuracy\": 0.9993016759776536, \"source?\": true}, \"C_1\": {\"accuracy\": 0.9998301630434783, \"source?\": true}, \"C_3\": {\"accuracy\": 1.0, \"source?\": true}, \"W_3\": {\"accuracy\": 0.982532751091703, \"source?\": true}, \"C_4\": {\"accuracy\": 0.9992469879518072, \"source?\": true}, \"C_2\": {\"accuracy\": 0.9994673295454546, \"source?\": true}, \"O_26\": {\"accuracy\": 0.37265625, \"source?\": false}, \"O_44\": {\"accuracy\": 0.5075520833333333, \"source?\": false}, \"O_50\": {\"accuracy\": 0.515625, \"source?\": false}, \"O_38\": {\"accuracy\": 0.59375, \"source?\": false}, \"O_20\": {\"accuracy\": 0.28880208333333335, \"source?\": false}, \"O_14\": {\"accuracy\": 0.57578125, \"source?\": false}, \"O_32\": {\"accuracy\": 0.596875, \"source?\": false}, \"O_8\": {\"accuracy\": 0.46380208333333334, \"source?\": false}}}, \"history\": {\"epoch_indices\": [1, 2, 3, 4, 5, 6, 7, 8, 9, 10, 11], \"train_label_loss\": [0.12689513712845205, 0.07985675443014864, 0.06422681894295014, 0.05673007848896957, 0.052537515934382224, 0.049123085828978154, 0.04511493118869205, 0.04208992080870489, 0.040812088042839915, 0.03778805804523957, 0.035349534395215154], \"source_val_label_loss\": [0.12309671938419342, 0.08006604760885239, 0.06842309981584549, 0.06295321881771088, 0.06208929419517517, 0.05904826149344444, 0.05800654739141464, 0.0583844892680645, 0.05707019940018654, 0.055018406361341476, 0.056700676679611206], \"target_val_label_loss\": [2.4890646934509277, 2.295894145965576, 2.3236515522003174, 2.292689323425293, 2.1314823627471924, 2.0447587966918945, 2.000659942626953, 2.112316370010376, 2.012331962585449, 2.1214942932128906, 1.9726580381393433], \"source_val_acc_label\": [0.9761251372118551, 0.9826255488474204, 0.984889544456641, 0.9855927552140505, 0.9856613611416026, 0.9862445115257958, 0.9860043907793633, 0.9861072996706916, 0.9866732985729967, 0.9870506311745335, 0.9870506311745335], \"target_val_acc_label\": [0.41767578125, 0.47490234375, 0.46083984375, 0.4388020833333333, 0.47613932291666666, 0.45849609375, 0.48935546875, 0.40846354166666665, 0.43557942708333336, 0.372265625, 0.3986328125]}, \"dataset_metrics\": {\"source\": {\"train\": {\"n_unique_x\": 364209, \"n_unique_y\": 130, \"n_batch/episode\": 13152}, \"val\": {\"n_unique_x\": 77221, \"n_unique_y\": 130, \"n_batch/episode\": 1822}, \"test\": {\"n_unique_x\": 78360, \"n_unique_y\": 130, \"n_batch/episode\": 1854}}, \"target\": {\"train\": {\"n_unique_x\": 179200, \"n_unique_y\": 16, \"n_batch/episode\": 6720}, \"val\": {\"n_unique_x\": 38400, \"n_unique_y\": 16, \"n_batch/episode\": 960}, \"test\": {\"n_unique_x\": 38400, \"n_unique_y\": 16, \"n_batch/episode\": 960}}}}'"
      ]
     },
     "execution_count": 29,
     "metadata": {},
     "output_type": "execute_result"
    }
   ],
   "source": [
    "json.dumps(experiment)"
   ]
  }
 ],
 "metadata": {
  "celltoolbar": "Tags",
  "kernelspec": {
   "display_name": "Python 3 (ipykernel)",
   "language": "python",
   "name": "python3"
  },
  "language_info": {
   "codemirror_mode": {
    "name": "ipython",
    "version": 3
   },
   "file_extension": ".py",
   "mimetype": "text/x-python",
   "name": "python",
   "nbconvert_exporter": "python",
   "pygments_lexer": "ipython3",
   "version": "3.8.10"
  },
  "papermill": {
   "default_parameters": {},
   "duration": 3778.048238,
   "end_time": "2022-03-20T18:43:25.938177",
   "environment_variables": {},
   "exception": null,
   "input_path": "/mnt/wd500GB/CSC500/csc500-main/csc500-notebooks/templates/tl_ptn_template.ipynb",
   "output_path": "trial.ipynb",
   "parameters": {
    "parameters": {
     "BEST_MODEL_PATH": "./best_model.pth",
     "NUM_LOGS_PER_EPOCH": 10,
     "criteria_for_best": "target_accuracy",
     "dataset_seed": 7,
     "datasets": [
      {
       "domain_prefix": "C_",
       "domains": [
        1,
        2,
        3,
        4,
        5
       ],
       "episode_transforms": [],
       "labels": [
        "1-10.",
        "1-11.",
        "1-15.",
        "1-16.",
        "1-17.",
        "1-18.",
        "1-19.",
        "10-4.",
        "10-7.",
        "11-1.",
        "11-14.",
        "11-17.",
        "11-20.",
        "11-7.",
        "13-20.",
        "13-8.",
        "14-10.",
        "14-11.",
        "14-14.",
        "14-7.",
        "15-1.",
        "15-20.",
        "16-1.",
        "16-16.",
        "17-10.",
        "17-11.",
        "17-2.",
        "19-1.",
        "19-16.",
        "19-19.",
        "19-20.",
        "19-3.",
        "2-10.",
        "2-11.",
        "2-17.",
        "2-18.",
        "2-20.",
        "2-3.",
        "2-4.",
        "2-5.",
        "2-6.",
        "2-7.",
        "2-8.",
        "3-13.",
        "3-18.",
        "3-3.",
        "4-1.",
        "4-10.",
        "4-11.",
        "4-19.",
        "5-5.",
        "6-15.",
        "7-10.",
        "7-14.",
        "8-18.",
        "8-20.",
        "8-3.",
        "8-8."
       ],
       "num_examples_per_domain_per_label": -1,
       "pickle_path": "/mnt/wd500GB/CSC500/csc500-main/datasets/cores.stratified_ds.2022A.pkl",
       "source_or_target_dataset": "source",
       "x_transforms": [
        "take_200"
       ]
      },
      {
       "domain_prefix": "W_",
       "domains": [
        1,
        2,
        3,
        4
       ],
       "episode_transforms": [],
       "labels": [
        "1-10",
        "1-12",
        "1-14",
        "1-16",
        "1-18",
        "1-19",
        "1-8",
        "10-11",
        "10-17",
        "10-4",
        "10-7",
        "11-1",
        "11-10",
        "11-19",
        "11-20",
        "11-4",
        "11-7",
        "12-19",
        "12-20",
        "12-7",
        "13-14",
        "13-18",
        "13-19",
        "13-20",
        "13-3",
        "13-7",
        "14-10",
        "14-11",
        "14-12",
        "14-13",
        "14-14",
        "14-19",
        "14-20",
        "14-7",
        "14-8",
        "14-9",
        "15-1",
        "15-19",
        "15-6",
        "16-1",
        "16-16",
        "16-19",
        "16-20",
        "17-10",
        "17-11",
        "18-1",
        "18-10",
        "18-11",
        "18-12",
        "18-13",
        "18-14",
        "18-15",
        "18-16",
        "18-17",
        "18-19",
        "18-2",
        "18-20",
        "18-4",
        "18-5",
        "18-7",
        "18-8",
        "18-9",
        "19-1",
        "19-10",
        "19-11",
        "19-12",
        "19-13",
        "19-14",
        "19-15",
        "19-19",
        "19-2",
        "19-20",
        "19-3",
        "19-4",
        "19-6",
        "19-7",
        "19-8",
        "19-9",
        "2-1",
        "2-13",
        "2-15",
        "2-3",
        "2-4",
        "2-5",
        "2-6",
        "2-7",
        "2-8",
        "20-1",
        "20-12",
        "20-14",
        "20-15",
        "20-16",
        "20-18",
        "20-19",
        "20-20",
        "20-3",
        "20-4",
        "20-5",
        "20-7",
        "20-8",
        "3-1",
        "3-13",
        "3-18",
        "3-2",
        "3-8",
        "4-1",
        "4-10",
        "4-11",
        "5-1",
        "5-5",
        "6-1",
        "6-15",
        "6-6",
        "7-10",
        "7-11",
        "7-12",
        "7-13",
        "7-14",
        "7-7",
        "7-8",
        "7-9",
        "8-1",
        "8-13",
        "8-14",
        "8-18",
        "8-20",
        "8-3",
        "8-8",
        "9-1",
        "9-7"
       ],
       "num_examples_per_domain_per_label": -1,
       "pickle_path": "/mnt/wd500GB/CSC500/csc500-main/datasets/wisig.node3-19.stratified_ds.2022A.pkl",
       "source_or_target_dataset": "source",
       "x_transforms": [
        "take_200"
       ]
      },
      {
       "domain_prefix": "O_",
       "domains": [
        32,
        38,
        8,
        44,
        14,
        50,
        20,
        26
       ],
       "episode_transforms": [],
       "labels": [
        "3123D52",
        "3123D65",
        "3123D79",
        "3123D80",
        "3123D54",
        "3123D70",
        "3123D7B",
        "3123D89",
        "3123D58",
        "3123D76",
        "3123D7D",
        "3123EFE",
        "3123D64",
        "3123D78",
        "3123D7E",
        "3124E4A"
       ],
       "num_examples_per_domain_per_label": 2000,
       "pickle_path": "/mnt/wd500GB/CSC500/csc500-main/datasets/oracle.Run1_framed_2000Examples_stratified_ds.2022A.pkl",
       "source_or_target_dataset": "target",
       "x_transforms": [
        "take_200",
        "resample_20Msps_to_25Msps"
       ]
      }
     ],
     "device": "cuda",
     "experiment_name": "tl_3Av2:cores+wisig -> oracle.run1.framed",
     "lr": 0.0001,
     "n_epoch": 50,
     "n_query": 2,
     "n_shot": 3,
     "n_way": 16,
     "patience": 3,
     "seed": 7,
     "test_k_factor": 2,
     "torch_default_dtype": "torch.float32",
     "train_k_factor": 3,
     "val_k_factor": 2,
     "x_net": [
      {
       "class": "nnReshape",
       "kargs": {
        "shape": [
         -1,
         1,
         2,
         200
        ]
       }
      },
      {
       "class": "Conv2d",
       "kargs": {
        "bias": false,
        "in_channels": 1,
        "kernel_size": [
         1,
         7
        ],
        "out_channels": 256,
        "padding": [
         0,
         3
        ]
       }
      },
      {
       "class": "ReLU",
       "kargs": {
        "inplace": true
       }
      },
      {
       "class": "BatchNorm2d",
       "kargs": {
        "num_features": 256
       }
      },
      {
       "class": "Conv2d",
       "kargs": {
        "bias": true,
        "in_channels": 256,
        "kernel_size": [
         2,
         7
        ],
        "out_channels": 80,
        "padding": [
         0,
         3
        ]
       }
      },
      {
       "class": "ReLU",
       "kargs": {
        "inplace": true
       }
      },
      {
       "class": "BatchNorm2d",
       "kargs": {
        "num_features": 80
       }
      },
      {
       "class": "Flatten",
       "kargs": {}
      },
      {
       "class": "Linear",
       "kargs": {
        "in_features": 16000,
        "out_features": 256
       }
      },
      {
       "class": "ReLU",
       "kargs": {
        "inplace": true
       }
      },
      {
       "class": "BatchNorm1d",
       "kargs": {
        "num_features": 256
       }
      },
      {
       "class": "Linear",
       "kargs": {
        "in_features": 256,
        "out_features": 256
       }
      }
     ],
     "x_shape": [
      2,
      200
     ]
    }
   },
   "start_time": "2022-03-20T17:40:27.889939",
   "version": "2.3.4"
  }
 },
 "nbformat": 4,
 "nbformat_minor": 5
}