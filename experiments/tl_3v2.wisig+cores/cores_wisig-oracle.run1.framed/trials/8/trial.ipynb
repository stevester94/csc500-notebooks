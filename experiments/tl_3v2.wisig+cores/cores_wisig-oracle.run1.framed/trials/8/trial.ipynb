{
 "cells": [
  {
   "cell_type": "markdown",
   "id": "9fea5f46",
   "metadata": {
    "papermill": {
     "duration": 0.017754,
     "end_time": "2022-03-20T14:57:49.408802",
     "exception": false,
     "start_time": "2022-03-20T14:57:49.391048",
     "status": "completed"
    },
    "tags": []
   },
   "source": [
    "# Transfer Learning Template"
   ]
  },
  {
   "cell_type": "code",
   "execution_count": 1,
   "id": "0902182a",
   "metadata": {
    "execution": {
     "iopub.execute_input": "2022-03-20T14:57:49.444504Z",
     "iopub.status.busy": "2022-03-20T14:57:49.444000Z",
     "iopub.status.idle": "2022-03-20T14:57:50.396005Z",
     "shell.execute_reply": "2022-03-20T14:57:50.395484Z"
    },
    "papermill": {
     "duration": 0.97444,
     "end_time": "2022-03-20T14:57:50.396121",
     "exception": false,
     "start_time": "2022-03-20T14:57:49.421681",
     "status": "completed"
    },
    "tags": []
   },
   "outputs": [],
   "source": [
    "%load_ext autoreload\n",
    "%autoreload 2\n",
    "%matplotlib inline\n",
    "\n",
    "    \n",
    "import os, json, sys, time, random\n",
    "import numpy as np\n",
    "import torch\n",
    "from torch.optim import Adam\n",
    "from  easydict import EasyDict\n",
    "import matplotlib.pyplot as plt\n",
    "\n",
    "from steves_models.steves_ptn import Steves_Prototypical_Network\n",
    "\n",
    "from steves_utils.lazy_iterable_wrapper import Lazy_Iterable_Wrapper\n",
    "from steves_utils.iterable_aggregator import Iterable_Aggregator\n",
    "from steves_utils.ptn_train_eval_test_jig import  PTN_Train_Eval_Test_Jig\n",
    "from steves_utils.torch_sequential_builder import build_sequential\n",
    "from steves_utils.torch_utils import get_dataset_metrics, ptn_confusion_by_domain_over_dataloader\n",
    "from steves_utils.utils_v2 import (per_domain_accuracy_from_confusion, get_datasets_base_path)\n",
    "from steves_utils.PTN.utils import independent_accuracy_assesment\n",
    "\n",
    "from torch.utils.data import DataLoader\n",
    "\n",
    "from steves_utils.stratified_dataset.episodic_accessor import Episodic_Accessor_Factory\n",
    "\n",
    "from steves_utils.ptn_do_report import (\n",
    "    get_loss_curve,\n",
    "    get_results_table,\n",
    "    get_parameters_table,\n",
    "    get_domain_accuracies,\n",
    ")\n",
    "\n",
    "from steves_utils.transforms import get_chained_transform"
   ]
  },
  {
   "cell_type": "markdown",
   "id": "41c840b4",
   "metadata": {
    "papermill": {
     "duration": 0.013029,
     "end_time": "2022-03-20T14:57:50.427102",
     "exception": false,
     "start_time": "2022-03-20T14:57:50.414073",
     "status": "completed"
    },
    "tags": []
   },
   "source": [
    "# Allowed Parameters\n",
    "These are allowed parameters, not defaults\n",
    "Each of these values need to be present in the injected parameters (the notebook will raise an exception if they are not present)\n",
    "\n",
    "Papermill uses the cell tag \"parameters\" to inject the real parameters below this cell.\n",
    "Enable tags to see what I mean"
   ]
  },
  {
   "cell_type": "code",
   "execution_count": 2,
   "id": "fd44eb83",
   "metadata": {
    "execution": {
     "iopub.execute_input": "2022-03-20T14:57:50.456693Z",
     "iopub.status.busy": "2022-03-20T14:57:50.456411Z",
     "iopub.status.idle": "2022-03-20T14:57:50.471200Z",
     "shell.execute_reply": "2022-03-20T14:57:50.470759Z"
    },
    "papermill": {
     "duration": 0.031119,
     "end_time": "2022-03-20T14:57:50.471319",
     "exception": false,
     "start_time": "2022-03-20T14:57:50.440200",
     "status": "completed"
    },
    "tags": []
   },
   "outputs": [],
   "source": [
    "required_parameters = {\n",
    "    \"experiment_name\",\n",
    "    \"lr\",\n",
    "    \"device\",\n",
    "    \"seed\",\n",
    "    \"dataset_seed\",\n",
    "    \"n_shot\",\n",
    "    \"n_query\",\n",
    "    \"n_way\",\n",
    "    \"train_k_factor\",\n",
    "    \"val_k_factor\",\n",
    "    \"test_k_factor\",\n",
    "    \"n_epoch\",\n",
    "    \"patience\",\n",
    "    \"criteria_for_best\",\n",
    "    \"x_net\",\n",
    "    \"datasets\",\n",
    "    \"torch_default_dtype\",\n",
    "    \"NUM_LOGS_PER_EPOCH\",\n",
    "    \"BEST_MODEL_PATH\",\n",
    "    \"x_shape\",\n",
    "}"
   ]
  },
  {
   "cell_type": "code",
   "execution_count": 3,
   "id": "fa3f0049",
   "metadata": {
    "execution": {
     "iopub.execute_input": "2022-03-20T14:57:50.513371Z",
     "iopub.status.busy": "2022-03-20T14:57:50.512787Z",
     "iopub.status.idle": "2022-03-20T14:57:50.525034Z",
     "shell.execute_reply": "2022-03-20T14:57:50.525434Z"
    },
    "papermill": {
     "duration": 0.036526,
     "end_time": "2022-03-20T14:57:50.525565",
     "exception": false,
     "start_time": "2022-03-20T14:57:50.489039",
     "status": "completed"
    },
    "tags": [
     "parameters"
    ]
   },
   "outputs": [],
   "source": [
    "from steves_utils.CORES.utils import (\n",
    "    ALL_NODES,\n",
    "    ALL_NODES_MINIMUM_1000_EXAMPLES,\n",
    "    ALL_DAYS\n",
    ")\n",
    "\n",
    "from steves_utils.ORACLE.utils_v2 import (\n",
    "    ALL_DISTANCES_FEET_NARROWED,\n",
    "    ALL_RUNS,\n",
    "    ALL_SERIAL_NUMBERS,\n",
    ")\n",
    "\n",
    "standalone_parameters = {}\n",
    "standalone_parameters[\"experiment_name\"] = \"STANDALONE PTN\"\n",
    "standalone_parameters[\"lr\"] = 0.001\n",
    "standalone_parameters[\"device\"] = \"cuda\"\n",
    "\n",
    "standalone_parameters[\"seed\"] = 1337\n",
    "standalone_parameters[\"dataset_seed\"] = 1337\n",
    "\n",
    "standalone_parameters[\"n_way\"] = 8\n",
    "standalone_parameters[\"n_shot\"] = 3\n",
    "standalone_parameters[\"n_query\"]  = 2\n",
    "standalone_parameters[\"train_k_factor\"] = 1\n",
    "standalone_parameters[\"val_k_factor\"] = 2\n",
    "standalone_parameters[\"test_k_factor\"] = 2\n",
    "\n",
    "\n",
    "standalone_parameters[\"n_epoch\"] = 50\n",
    "\n",
    "standalone_parameters[\"patience\"] = 10\n",
    "standalone_parameters[\"criteria_for_best\"] = \"source_loss\"\n",
    "\n",
    "standalone_parameters[\"datasets\"] = [\n",
    "    {\n",
    "        \"labels\": ALL_SERIAL_NUMBERS,\n",
    "        \"domains\": ALL_DISTANCES_FEET_NARROWED,\n",
    "        \"num_examples_per_domain_per_label\": 100,\n",
    "        \"pickle_path\": os.path.join(get_datasets_base_path(), \"oracle.Run1_framed_2000Examples_stratified_ds.2022A.pkl\"),\n",
    "        \"source_or_target_dataset\": \"source\",\n",
    "        \"x_transforms\": [\"unit_mag\", \"minus_two\"],\n",
    "        \"episode_transforms\": [],\n",
    "        \"domain_prefix\": \"ORACLE_\"\n",
    "    },\n",
    "    {\n",
    "        \"labels\": ALL_NODES,\n",
    "        \"domains\": ALL_DAYS,\n",
    "        \"num_examples_per_domain_per_label\": 100,\n",
    "        \"pickle_path\": os.path.join(get_datasets_base_path(), \"cores.stratified_ds.2022A.pkl\"),\n",
    "        \"source_or_target_dataset\": \"target\",\n",
    "        \"x_transforms\": [\"unit_power\", \"times_zero\"],\n",
    "        \"episode_transforms\": [],\n",
    "        \"domain_prefix\": \"CORES_\"\n",
    "    }   \n",
    "]\n",
    "\n",
    "standalone_parameters[\"torch_default_dtype\"] = \"torch.float32\" \n",
    "\n",
    "\n",
    "\n",
    "standalone_parameters[\"x_net\"] =     [\n",
    "    {\"class\": \"nnReshape\", \"kargs\": {\"shape\":[-1, 1, 2, 256]}},\n",
    "    {\"class\": \"Conv2d\", \"kargs\": { \"in_channels\":1, \"out_channels\":256, \"kernel_size\":(1,7), \"bias\":False, \"padding\":(0,3), },},\n",
    "    {\"class\": \"ReLU\", \"kargs\": {\"inplace\": True}},\n",
    "    {\"class\": \"BatchNorm2d\", \"kargs\": {\"num_features\":256}},\n",
    "\n",
    "    {\"class\": \"Conv2d\", \"kargs\": { \"in_channels\":256, \"out_channels\":80, \"kernel_size\":(2,7), \"bias\":True, \"padding\":(0,3), },},\n",
    "    {\"class\": \"ReLU\", \"kargs\": {\"inplace\": True}},\n",
    "    {\"class\": \"BatchNorm2d\", \"kargs\": {\"num_features\":80}},\n",
    "    {\"class\": \"Flatten\", \"kargs\": {}},\n",
    "\n",
    "    {\"class\": \"Linear\", \"kargs\": {\"in_features\": 80*256, \"out_features\": 256}}, # 80 units per IQ pair\n",
    "    {\"class\": \"ReLU\", \"kargs\": {\"inplace\": True}},\n",
    "    {\"class\": \"BatchNorm1d\", \"kargs\": {\"num_features\":256}},\n",
    "\n",
    "    {\"class\": \"Linear\", \"kargs\": {\"in_features\": 256, \"out_features\": 256}},\n",
    "]\n",
    "\n",
    "# Parameters relevant to results\n",
    "# These parameters will basically never need to change\n",
    "standalone_parameters[\"NUM_LOGS_PER_EPOCH\"] = 10\n",
    "standalone_parameters[\"BEST_MODEL_PATH\"] = \"./best_model.pth\"\n",
    "\n",
    "\n",
    "\n",
    "\n"
   ]
  },
  {
   "cell_type": "code",
   "execution_count": 4,
   "id": "6424c6e9",
   "metadata": {
    "execution": {
     "iopub.execute_input": "2022-03-20T14:57:50.566147Z",
     "iopub.status.busy": "2022-03-20T14:57:50.565802Z",
     "iopub.status.idle": "2022-03-20T14:57:50.579111Z",
     "shell.execute_reply": "2022-03-20T14:57:50.579515Z"
    },
    "papermill": {
     "duration": 0.035806,
     "end_time": "2022-03-20T14:57:50.579646",
     "exception": false,
     "start_time": "2022-03-20T14:57:50.543840",
     "status": "completed"
    },
    "tags": [
     "injected-parameters"
    ]
   },
   "outputs": [],
   "source": [
    "# Parameters\n",
    "parameters = {\n",
    "    \"experiment_name\": \"tl_3Av2:cores+wisig -> oracle.run1.framed\",\n",
    "    \"device\": \"cuda\",\n",
    "    \"lr\": 0.0001,\n",
    "    \"x_shape\": [2, 200],\n",
    "    \"n_shot\": 3,\n",
    "    \"n_query\": 2,\n",
    "    \"train_k_factor\": 3,\n",
    "    \"val_k_factor\": 2,\n",
    "    \"test_k_factor\": 2,\n",
    "    \"torch_default_dtype\": \"torch.float32\",\n",
    "    \"n_epoch\": 50,\n",
    "    \"patience\": 3,\n",
    "    \"criteria_for_best\": \"target_accuracy\",\n",
    "    \"x_net\": [\n",
    "        {\"class\": \"nnReshape\", \"kargs\": {\"shape\": [-1, 1, 2, 200]}},\n",
    "        {\n",
    "            \"class\": \"Conv2d\",\n",
    "            \"kargs\": {\n",
    "                \"in_channels\": 1,\n",
    "                \"out_channels\": 256,\n",
    "                \"kernel_size\": [1, 7],\n",
    "                \"bias\": False,\n",
    "                \"padding\": [0, 3],\n",
    "            },\n",
    "        },\n",
    "        {\"class\": \"ReLU\", \"kargs\": {\"inplace\": True}},\n",
    "        {\"class\": \"BatchNorm2d\", \"kargs\": {\"num_features\": 256}},\n",
    "        {\n",
    "            \"class\": \"Conv2d\",\n",
    "            \"kargs\": {\n",
    "                \"in_channels\": 256,\n",
    "                \"out_channels\": 80,\n",
    "                \"kernel_size\": [2, 7],\n",
    "                \"bias\": True,\n",
    "                \"padding\": [0, 3],\n",
    "            },\n",
    "        },\n",
    "        {\"class\": \"ReLU\", \"kargs\": {\"inplace\": True}},\n",
    "        {\"class\": \"BatchNorm2d\", \"kargs\": {\"num_features\": 80}},\n",
    "        {\"class\": \"Flatten\", \"kargs\": {}},\n",
    "        {\"class\": \"Linear\", \"kargs\": {\"in_features\": 16000, \"out_features\": 256}},\n",
    "        {\"class\": \"ReLU\", \"kargs\": {\"inplace\": True}},\n",
    "        {\"class\": \"BatchNorm1d\", \"kargs\": {\"num_features\": 256}},\n",
    "        {\"class\": \"Linear\", \"kargs\": {\"in_features\": 256, \"out_features\": 256}},\n",
    "    ],\n",
    "    \"NUM_LOGS_PER_EPOCH\": 10,\n",
    "    \"BEST_MODEL_PATH\": \"./best_model.pth\",\n",
    "    \"n_way\": 16,\n",
    "    \"datasets\": [\n",
    "        {\n",
    "            \"labels\": [\n",
    "                \"1-10.\",\n",
    "                \"1-11.\",\n",
    "                \"1-15.\",\n",
    "                \"1-16.\",\n",
    "                \"1-17.\",\n",
    "                \"1-18.\",\n",
    "                \"1-19.\",\n",
    "                \"10-4.\",\n",
    "                \"10-7.\",\n",
    "                \"11-1.\",\n",
    "                \"11-14.\",\n",
    "                \"11-17.\",\n",
    "                \"11-20.\",\n",
    "                \"11-7.\",\n",
    "                \"13-20.\",\n",
    "                \"13-8.\",\n",
    "                \"14-10.\",\n",
    "                \"14-11.\",\n",
    "                \"14-14.\",\n",
    "                \"14-7.\",\n",
    "                \"15-1.\",\n",
    "                \"15-20.\",\n",
    "                \"16-1.\",\n",
    "                \"16-16.\",\n",
    "                \"17-10.\",\n",
    "                \"17-11.\",\n",
    "                \"17-2.\",\n",
    "                \"19-1.\",\n",
    "                \"19-16.\",\n",
    "                \"19-19.\",\n",
    "                \"19-20.\",\n",
    "                \"19-3.\",\n",
    "                \"2-10.\",\n",
    "                \"2-11.\",\n",
    "                \"2-17.\",\n",
    "                \"2-18.\",\n",
    "                \"2-20.\",\n",
    "                \"2-3.\",\n",
    "                \"2-4.\",\n",
    "                \"2-5.\",\n",
    "                \"2-6.\",\n",
    "                \"2-7.\",\n",
    "                \"2-8.\",\n",
    "                \"3-13.\",\n",
    "                \"3-18.\",\n",
    "                \"3-3.\",\n",
    "                \"4-1.\",\n",
    "                \"4-10.\",\n",
    "                \"4-11.\",\n",
    "                \"4-19.\",\n",
    "                \"5-5.\",\n",
    "                \"6-15.\",\n",
    "                \"7-10.\",\n",
    "                \"7-14.\",\n",
    "                \"8-18.\",\n",
    "                \"8-20.\",\n",
    "                \"8-3.\",\n",
    "                \"8-8.\",\n",
    "            ],\n",
    "            \"domains\": [1, 2, 3, 4, 5],\n",
    "            \"num_examples_per_domain_per_label\": -1,\n",
    "            \"pickle_path\": \"/mnt/wd500GB/CSC500/csc500-main/datasets/cores.stratified_ds.2022A.pkl\",\n",
    "            \"source_or_target_dataset\": \"source\",\n",
    "            \"x_transforms\": [\"take_200\"],\n",
    "            \"episode_transforms\": [],\n",
    "            \"domain_prefix\": \"C_\",\n",
    "        },\n",
    "        {\n",
    "            \"labels\": [\n",
    "                \"1-10\",\n",
    "                \"1-12\",\n",
    "                \"1-14\",\n",
    "                \"1-16\",\n",
    "                \"1-18\",\n",
    "                \"1-19\",\n",
    "                \"1-8\",\n",
    "                \"10-11\",\n",
    "                \"10-17\",\n",
    "                \"10-4\",\n",
    "                \"10-7\",\n",
    "                \"11-1\",\n",
    "                \"11-10\",\n",
    "                \"11-19\",\n",
    "                \"11-20\",\n",
    "                \"11-4\",\n",
    "                \"11-7\",\n",
    "                \"12-19\",\n",
    "                \"12-20\",\n",
    "                \"12-7\",\n",
    "                \"13-14\",\n",
    "                \"13-18\",\n",
    "                \"13-19\",\n",
    "                \"13-20\",\n",
    "                \"13-3\",\n",
    "                \"13-7\",\n",
    "                \"14-10\",\n",
    "                \"14-11\",\n",
    "                \"14-12\",\n",
    "                \"14-13\",\n",
    "                \"14-14\",\n",
    "                \"14-19\",\n",
    "                \"14-20\",\n",
    "                \"14-7\",\n",
    "                \"14-8\",\n",
    "                \"14-9\",\n",
    "                \"15-1\",\n",
    "                \"15-19\",\n",
    "                \"15-6\",\n",
    "                \"16-1\",\n",
    "                \"16-16\",\n",
    "                \"16-19\",\n",
    "                \"16-20\",\n",
    "                \"17-10\",\n",
    "                \"17-11\",\n",
    "                \"18-1\",\n",
    "                \"18-10\",\n",
    "                \"18-11\",\n",
    "                \"18-12\",\n",
    "                \"18-13\",\n",
    "                \"18-14\",\n",
    "                \"18-15\",\n",
    "                \"18-16\",\n",
    "                \"18-17\",\n",
    "                \"18-19\",\n",
    "                \"18-2\",\n",
    "                \"18-20\",\n",
    "                \"18-4\",\n",
    "                \"18-5\",\n",
    "                \"18-7\",\n",
    "                \"18-8\",\n",
    "                \"18-9\",\n",
    "                \"19-1\",\n",
    "                \"19-10\",\n",
    "                \"19-11\",\n",
    "                \"19-12\",\n",
    "                \"19-13\",\n",
    "                \"19-14\",\n",
    "                \"19-15\",\n",
    "                \"19-19\",\n",
    "                \"19-2\",\n",
    "                \"19-20\",\n",
    "                \"19-3\",\n",
    "                \"19-4\",\n",
    "                \"19-6\",\n",
    "                \"19-7\",\n",
    "                \"19-8\",\n",
    "                \"19-9\",\n",
    "                \"2-1\",\n",
    "                \"2-13\",\n",
    "                \"2-15\",\n",
    "                \"2-3\",\n",
    "                \"2-4\",\n",
    "                \"2-5\",\n",
    "                \"2-6\",\n",
    "                \"2-7\",\n",
    "                \"2-8\",\n",
    "                \"20-1\",\n",
    "                \"20-12\",\n",
    "                \"20-14\",\n",
    "                \"20-15\",\n",
    "                \"20-16\",\n",
    "                \"20-18\",\n",
    "                \"20-19\",\n",
    "                \"20-20\",\n",
    "                \"20-3\",\n",
    "                \"20-4\",\n",
    "                \"20-5\",\n",
    "                \"20-7\",\n",
    "                \"20-8\",\n",
    "                \"3-1\",\n",
    "                \"3-13\",\n",
    "                \"3-18\",\n",
    "                \"3-2\",\n",
    "                \"3-8\",\n",
    "                \"4-1\",\n",
    "                \"4-10\",\n",
    "                \"4-11\",\n",
    "                \"5-1\",\n",
    "                \"5-5\",\n",
    "                \"6-1\",\n",
    "                \"6-15\",\n",
    "                \"6-6\",\n",
    "                \"7-10\",\n",
    "                \"7-11\",\n",
    "                \"7-12\",\n",
    "                \"7-13\",\n",
    "                \"7-14\",\n",
    "                \"7-7\",\n",
    "                \"7-8\",\n",
    "                \"7-9\",\n",
    "                \"8-1\",\n",
    "                \"8-13\",\n",
    "                \"8-14\",\n",
    "                \"8-18\",\n",
    "                \"8-20\",\n",
    "                \"8-3\",\n",
    "                \"8-8\",\n",
    "                \"9-1\",\n",
    "                \"9-7\",\n",
    "            ],\n",
    "            \"domains\": [1, 2, 3, 4],\n",
    "            \"num_examples_per_domain_per_label\": -1,\n",
    "            \"pickle_path\": \"/mnt/wd500GB/CSC500/csc500-main/datasets/wisig.node3-19.stratified_ds.2022A.pkl\",\n",
    "            \"source_or_target_dataset\": \"source\",\n",
    "            \"x_transforms\": [\"take_200\"],\n",
    "            \"episode_transforms\": [],\n",
    "            \"domain_prefix\": \"W_\",\n",
    "        },\n",
    "        {\n",
    "            \"labels\": [\n",
    "                \"3123D52\",\n",
    "                \"3123D65\",\n",
    "                \"3123D79\",\n",
    "                \"3123D80\",\n",
    "                \"3123D54\",\n",
    "                \"3123D70\",\n",
    "                \"3123D7B\",\n",
    "                \"3123D89\",\n",
    "                \"3123D58\",\n",
    "                \"3123D76\",\n",
    "                \"3123D7D\",\n",
    "                \"3123EFE\",\n",
    "                \"3123D64\",\n",
    "                \"3123D78\",\n",
    "                \"3123D7E\",\n",
    "                \"3124E4A\",\n",
    "            ],\n",
    "            \"domains\": [32, 38, 8, 44, 14, 50, 20, 26],\n",
    "            \"num_examples_per_domain_per_label\": 2000,\n",
    "            \"pickle_path\": \"/mnt/wd500GB/CSC500/csc500-main/datasets/oracle.Run1_framed_2000Examples_stratified_ds.2022A.pkl\",\n",
    "            \"source_or_target_dataset\": \"target\",\n",
    "            \"x_transforms\": [\"take_200\", \"resample_20Msps_to_25Msps\"],\n",
    "            \"episode_transforms\": [],\n",
    "            \"domain_prefix\": \"O_\",\n",
    "        },\n",
    "    ],\n",
    "    \"seed\": 154325,\n",
    "    \"dataset_seed\": 154325,\n",
    "}\n"
   ]
  },
  {
   "cell_type": "code",
   "execution_count": 5,
   "id": "8fa1cc33",
   "metadata": {
    "execution": {
     "iopub.execute_input": "2022-03-20T14:57:50.611683Z",
     "iopub.status.busy": "2022-03-20T14:57:50.611426Z",
     "iopub.status.idle": "2022-03-20T14:57:50.625314Z",
     "shell.execute_reply": "2022-03-20T14:57:50.624841Z"
    },
    "papermill": {
     "duration": 0.03062,
     "end_time": "2022-03-20T14:57:50.625415",
     "exception": false,
     "start_time": "2022-03-20T14:57:50.594795",
     "status": "completed"
    },
    "tags": []
   },
   "outputs": [],
   "source": [
    "# Set this to True if you want to run this template directly\n",
    "STANDALONE = False\n",
    "if STANDALONE:\n",
    "    print(\"parameters not injected, running with standalone_parameters\")\n",
    "    parameters = standalone_parameters\n",
    "\n",
    "if not 'parameters' in locals() and not 'parameters' in globals():\n",
    "    raise Exception(\"Parameter injection failed\")\n",
    "\n",
    "#Use an easy dict for all the parameters\n",
    "p = EasyDict(parameters)\n",
    "\n",
    "if \"x_shape\" not in p:\n",
    "    p.x_shape = [2,256] # Default to this if we dont supply x_shape\n",
    "\n",
    "\n",
    "supplied_keys = set(p.keys())\n",
    "\n",
    "if  supplied_keys != required_parameters:\n",
    "    print(\"Parameters are incorrect\")\n",
    "    if len(supplied_keys - required_parameters)>0: print(\"Shouldn't have:\", str(supplied_keys - required_parameters))\n",
    "    if len(required_parameters - supplied_keys)>0: print(\"Need to have:\", str(required_parameters - supplied_keys))\n",
    "    raise RuntimeError(\"Parameters are incorrect\")"
   ]
  },
  {
   "cell_type": "code",
   "execution_count": 6,
   "id": "3a028d58",
   "metadata": {
    "execution": {
     "iopub.execute_input": "2022-03-20T14:57:50.659676Z",
     "iopub.status.busy": "2022-03-20T14:57:50.659419Z",
     "iopub.status.idle": "2022-03-20T14:57:50.670525Z",
     "shell.execute_reply": "2022-03-20T14:57:50.670733Z"
    },
    "papermill": {
     "duration": 0.026457,
     "end_time": "2022-03-20T14:57:50.670808",
     "exception": false,
     "start_time": "2022-03-20T14:57:50.644351",
     "status": "completed"
    },
    "tags": []
   },
   "outputs": [],
   "source": [
    "###################################\n",
    "# Set the RNGs and make it all deterministic\n",
    "###################################\n",
    "np.random.seed(p.seed)\n",
    "random.seed(p.seed)\n",
    "torch.manual_seed(p.seed)\n",
    "\n",
    "torch.use_deterministic_algorithms(True) "
   ]
  },
  {
   "cell_type": "code",
   "execution_count": 7,
   "id": "b691acf6",
   "metadata": {
    "execution": {
     "iopub.execute_input": "2022-03-20T14:57:50.703601Z",
     "iopub.status.busy": "2022-03-20T14:57:50.703350Z",
     "iopub.status.idle": "2022-03-20T14:57:50.718295Z",
     "shell.execute_reply": "2022-03-20T14:57:50.718602Z"
    },
    "papermill": {
     "duration": 0.029922,
     "end_time": "2022-03-20T14:57:50.718702",
     "exception": false,
     "start_time": "2022-03-20T14:57:50.688780",
     "status": "completed"
    },
    "tags": []
   },
   "outputs": [],
   "source": [
    "###########################################\n",
    "# The stratified datasets honor this\n",
    "###########################################\n",
    "torch.set_default_dtype(eval(p.torch_default_dtype))"
   ]
  },
  {
   "cell_type": "code",
   "execution_count": 8,
   "id": "b5fba671",
   "metadata": {
    "execution": {
     "iopub.execute_input": "2022-03-20T14:57:50.751810Z",
     "iopub.status.busy": "2022-03-20T14:57:50.751562Z",
     "iopub.status.idle": "2022-03-20T14:57:50.785966Z",
     "shell.execute_reply": "2022-03-20T14:57:50.785511Z"
    },
    "papermill": {
     "duration": 0.049838,
     "end_time": "2022-03-20T14:57:50.786076",
     "exception": false,
     "start_time": "2022-03-20T14:57:50.736238",
     "status": "completed"
    },
    "tags": []
   },
   "outputs": [],
   "source": [
    "###################################\n",
    "# Build the network(s)\n",
    "# Note: It's critical to do this AFTER setting the RNG\n",
    "###################################\n",
    "x_net = build_sequential(p.x_net)"
   ]
  },
  {
   "cell_type": "code",
   "execution_count": 9,
   "id": "5d7e61cc",
   "metadata": {
    "execution": {
     "iopub.execute_input": "2022-03-20T14:57:50.821198Z",
     "iopub.status.busy": "2022-03-20T14:57:50.820942Z",
     "iopub.status.idle": "2022-03-20T14:57:50.835121Z",
     "shell.execute_reply": "2022-03-20T14:57:50.835472Z"
    },
    "papermill": {
     "duration": 0.030799,
     "end_time": "2022-03-20T14:57:50.835579",
     "exception": false,
     "start_time": "2022-03-20T14:57:50.804780",
     "status": "completed"
    },
    "tags": []
   },
   "outputs": [],
   "source": [
    "start_time_secs = time.time()"
   ]
  },
  {
   "cell_type": "code",
   "execution_count": 10,
   "id": "c6b67dfd",
   "metadata": {
    "execution": {
     "iopub.execute_input": "2022-03-20T14:57:50.872649Z",
     "iopub.status.busy": "2022-03-20T14:57:50.872394Z",
     "iopub.status.idle": "2022-03-20T14:57:50.889428Z",
     "shell.execute_reply": "2022-03-20T14:57:50.888953Z"
    },
    "papermill": {
     "duration": 0.033556,
     "end_time": "2022-03-20T14:57:50.889535",
     "exception": false,
     "start_time": "2022-03-20T14:57:50.855979",
     "status": "completed"
    },
    "tags": []
   },
   "outputs": [],
   "source": [
    "p.domains_source = []\n",
    "p.domains_target = []\n",
    "\n",
    "\n",
    "train_original_source = []\n",
    "val_original_source   = []\n",
    "test_original_source  = []\n",
    "\n",
    "train_original_target = []\n",
    "val_original_target   = []\n",
    "test_original_target  = []"
   ]
  },
  {
   "cell_type": "code",
   "execution_count": 11,
   "id": "e3d9c3d3",
   "metadata": {
    "execution": {
     "iopub.execute_input": "2022-03-20T14:57:50.922383Z",
     "iopub.status.busy": "2022-03-20T14:57:50.922119Z",
     "iopub.status.idle": "2022-03-20T14:57:50.933108Z",
     "shell.execute_reply": "2022-03-20T14:57:50.932833Z"
    },
    "papermill": {
     "duration": 0.025696,
     "end_time": "2022-03-20T14:57:50.933170",
     "exception": false,
     "start_time": "2022-03-20T14:57:50.907474",
     "status": "completed"
    },
    "tags": []
   },
   "outputs": [],
   "source": [
    "# global_x_transform_func = lambda x: normalize(x.to(torch.get_default_dtype()), \"unit_power\") # unit_power, unit_mag\n",
    "# global_x_transform_func = lambda x: normalize(x, \"unit_power\") # unit_power, unit_mag"
   ]
  },
  {
   "cell_type": "code",
   "execution_count": 12,
   "id": "acb78fd2",
   "metadata": {
    "execution": {
     "iopub.execute_input": "2022-03-20T14:57:50.970258Z",
     "iopub.status.busy": "2022-03-20T14:57:50.964099Z",
     "iopub.status.idle": "2022-03-20T14:57:50.982805Z",
     "shell.execute_reply": "2022-03-20T14:57:50.983256Z"
    },
    "papermill": {
     "duration": 0.034254,
     "end_time": "2022-03-20T14:57:50.983400",
     "exception": false,
     "start_time": "2022-03-20T14:57:50.949146",
     "status": "completed"
    },
    "tags": []
   },
   "outputs": [],
   "source": [
    "def add_dataset(\n",
    "    labels,\n",
    "    domains,\n",
    "    pickle_path,\n",
    "    x_transforms,\n",
    "    episode_transforms,\n",
    "    domain_prefix,\n",
    "    num_examples_per_domain_per_label,\n",
    "    source_or_target_dataset:str,\n",
    "    iterator_seed=p.seed,\n",
    "    dataset_seed=p.dataset_seed,\n",
    "    n_shot=p.n_shot,\n",
    "    n_way=p.n_way,\n",
    "    n_query=p.n_query,\n",
    "    train_val_test_k_factors=(p.train_k_factor,p.val_k_factor,p.test_k_factor),\n",
    "):\n",
    "   \n",
    "    if x_transforms == []: x_transform = None\n",
    "    else: x_transform = get_chained_transform(x_transforms)\n",
    "    \n",
    "    if episode_transforms == []: episode_transform = None\n",
    "    else: raise Exception(\"episode_transforms not implemented\")\n",
    "    \n",
    "    episode_transform = lambda tup, _prefix=domain_prefix: (_prefix + str(tup[0]), tup[1])\n",
    "\n",
    "\n",
    "    eaf = Episodic_Accessor_Factory(\n",
    "        labels=labels,\n",
    "        domains=domains,\n",
    "        num_examples_per_domain_per_label=num_examples_per_domain_per_label,\n",
    "        iterator_seed=iterator_seed,\n",
    "        dataset_seed=dataset_seed,\n",
    "        n_shot=n_shot,\n",
    "        n_way=n_way,\n",
    "        n_query=n_query,\n",
    "        train_val_test_k_factors=train_val_test_k_factors,\n",
    "        pickle_path=pickle_path,\n",
    "        x_transform_func=x_transform,\n",
    "    )\n",
    "\n",
    "    train, val, test = eaf.get_train(), eaf.get_val(), eaf.get_test()\n",
    "    train = Lazy_Iterable_Wrapper(train, episode_transform)\n",
    "    val = Lazy_Iterable_Wrapper(val, episode_transform)\n",
    "    test = Lazy_Iterable_Wrapper(test, episode_transform)\n",
    "\n",
    "    if source_or_target_dataset==\"source\":\n",
    "        train_original_source.append(train)\n",
    "        val_original_source.append(val)\n",
    "        test_original_source.append(test)\n",
    "\n",
    "        p.domains_source.extend(\n",
    "            [domain_prefix + str(u) for u in domains]\n",
    "        )\n",
    "    elif source_or_target_dataset==\"target\":\n",
    "        train_original_target.append(train)\n",
    "        val_original_target.append(val)\n",
    "        test_original_target.append(test)\n",
    "        p.domains_target.extend(\n",
    "            [domain_prefix + str(u) for u in domains]\n",
    "        )\n",
    "    else:\n",
    "        raise Exception(f\"invalid source_or_target_dataset: {source_or_target_dataset}\")\n",
    "    "
   ]
  },
  {
   "cell_type": "code",
   "execution_count": 13,
   "id": "fe266617",
   "metadata": {
    "execution": {
     "iopub.execute_input": "2022-03-20T14:57:51.019067Z",
     "iopub.status.busy": "2022-03-20T14:57:51.018811Z",
     "iopub.status.idle": "2022-03-20T14:58:08.875364Z",
     "shell.execute_reply": "2022-03-20T14:58:08.875833Z"
    },
    "papermill": {
     "duration": 17.8733,
     "end_time": "2022-03-20T14:58:08.875971",
     "exception": false,
     "start_time": "2022-03-20T14:57:51.002671",
     "status": "completed"
    },
    "tags": []
   },
   "outputs": [],
   "source": [
    "for ds in p.datasets:\n",
    "    add_dataset(**ds)"
   ]
  },
  {
   "cell_type": "code",
   "execution_count": 14,
   "id": "b90d65ac",
   "metadata": {
    "execution": {
     "iopub.execute_input": "2022-03-20T14:58:08.912535Z",
     "iopub.status.busy": "2022-03-20T14:58:08.912272Z",
     "iopub.status.idle": "2022-03-20T14:58:08.925559Z",
     "shell.execute_reply": "2022-03-20T14:58:08.925865Z"
    },
    "papermill": {
     "duration": 0.029629,
     "end_time": "2022-03-20T14:58:08.925963",
     "exception": false,
     "start_time": "2022-03-20T14:58:08.896334",
     "status": "completed"
    },
    "tags": []
   },
   "outputs": [],
   "source": [
    "# from steves_utils.CORES.utils import (\n",
    "#     ALL_NODES,\n",
    "#     ALL_NODES_MINIMUM_1000_EXAMPLES,\n",
    "#     ALL_DAYS\n",
    "# )\n",
    "\n",
    "# add_dataset(\n",
    "#     labels=ALL_NODES,\n",
    "#     domains = ALL_DAYS,\n",
    "#     num_examples_per_domain_per_label=100,\n",
    "#     pickle_path=os.path.join(get_datasets_base_path(), \"cores.stratified_ds.2022A.pkl\"),\n",
    "#     source_or_target_dataset=\"target\",\n",
    "#     x_transform_func=global_x_transform_func,\n",
    "#     domain_modifier=lambda u: f\"cores_{u}\"\n",
    "# )"
   ]
  },
  {
   "cell_type": "code",
   "execution_count": 15,
   "id": "76db484d",
   "metadata": {
    "execution": {
     "iopub.execute_input": "2022-03-20T14:58:08.960424Z",
     "iopub.status.busy": "2022-03-20T14:58:08.960159Z",
     "iopub.status.idle": "2022-03-20T14:58:08.974551Z",
     "shell.execute_reply": "2022-03-20T14:58:08.974956Z"
    },
    "papermill": {
     "duration": 0.0307,
     "end_time": "2022-03-20T14:58:08.975077",
     "exception": false,
     "start_time": "2022-03-20T14:58:08.944377",
     "status": "completed"
    },
    "tags": []
   },
   "outputs": [],
   "source": [
    "# from steves_utils.ORACLE.utils_v2 import (\n",
    "#     ALL_DISTANCES_FEET,\n",
    "#     ALL_RUNS,\n",
    "#     ALL_SERIAL_NUMBERS,\n",
    "# )\n",
    "\n",
    "\n",
    "# add_dataset(\n",
    "#     labels=ALL_SERIAL_NUMBERS,\n",
    "#     domains = list(set(ALL_DISTANCES_FEET) - {2,62}),\n",
    "#     num_examples_per_domain_per_label=100,\n",
    "#     pickle_path=os.path.join(get_datasets_base_path(), \"oracle.Run2_framed_2000Examples_stratified_ds.2022A.pkl\"),\n",
    "#     source_or_target_dataset=\"source\",\n",
    "#     x_transform_func=global_x_transform_func,\n",
    "#     domain_modifier=lambda u: f\"oracle1_{u}\"\n",
    "# )\n"
   ]
  },
  {
   "cell_type": "code",
   "execution_count": 16,
   "id": "97dea9d2",
   "metadata": {
    "execution": {
     "iopub.execute_input": "2022-03-20T14:58:09.009368Z",
     "iopub.status.busy": "2022-03-20T14:58:09.009108Z",
     "iopub.status.idle": "2022-03-20T14:58:09.025408Z",
     "shell.execute_reply": "2022-03-20T14:58:09.024983Z"
    },
    "papermill": {
     "duration": 0.032027,
     "end_time": "2022-03-20T14:58:09.025507",
     "exception": false,
     "start_time": "2022-03-20T14:58:08.993480",
     "status": "completed"
    },
    "tags": []
   },
   "outputs": [],
   "source": [
    "# from steves_utils.ORACLE.utils_v2 import (\n",
    "#     ALL_DISTANCES_FEET,\n",
    "#     ALL_RUNS,\n",
    "#     ALL_SERIAL_NUMBERS,\n",
    "# )\n",
    "\n",
    "\n",
    "# add_dataset(\n",
    "#     labels=ALL_SERIAL_NUMBERS,\n",
    "#     domains = list(set(ALL_DISTANCES_FEET) - {2,62,56}),\n",
    "#     num_examples_per_domain_per_label=100,\n",
    "#     pickle_path=os.path.join(get_datasets_base_path(), \"oracle.Run2_framed_2000Examples_stratified_ds.2022A.pkl\"),\n",
    "#     source_or_target_dataset=\"source\",\n",
    "#     x_transform_func=global_x_transform_func,\n",
    "#     domain_modifier=lambda u: f\"oracle2_{u}\"\n",
    "# )"
   ]
  },
  {
   "cell_type": "code",
   "execution_count": 17,
   "id": "6f289866",
   "metadata": {
    "execution": {
     "iopub.execute_input": "2022-03-20T14:58:09.060376Z",
     "iopub.status.busy": "2022-03-20T14:58:09.060123Z",
     "iopub.status.idle": "2022-03-20T14:58:09.075813Z",
     "shell.execute_reply": "2022-03-20T14:58:09.076195Z"
    },
    "papermill": {
     "duration": 0.031801,
     "end_time": "2022-03-20T14:58:09.076321",
     "exception": false,
     "start_time": "2022-03-20T14:58:09.044520",
     "status": "completed"
    },
    "tags": []
   },
   "outputs": [],
   "source": [
    "# add_dataset(\n",
    "#     labels=list(range(19)),\n",
    "#     domains = [0,1,2],\n",
    "#     num_examples_per_domain_per_label=100,\n",
    "#     pickle_path=os.path.join(get_datasets_base_path(), \"metehan.stratified_ds.2022A.pkl\"),\n",
    "#     source_or_target_dataset=\"target\",\n",
    "#     x_transform_func=global_x_transform_func,\n",
    "#     domain_modifier=lambda u: f\"met_{u}\"\n",
    "# )"
   ]
  },
  {
   "cell_type": "code",
   "execution_count": 18,
   "id": "86a863c3",
   "metadata": {
    "execution": {
     "iopub.execute_input": "2022-03-20T14:58:09.111001Z",
     "iopub.status.busy": "2022-03-20T14:58:09.110749Z",
     "iopub.status.idle": "2022-03-20T14:58:09.121092Z",
     "shell.execute_reply": "2022-03-20T14:58:09.121394Z"
    },
    "papermill": {
     "duration": 0.025784,
     "end_time": "2022-03-20T14:58:09.121488",
     "exception": false,
     "start_time": "2022-03-20T14:58:09.095704",
     "status": "completed"
    },
    "tags": []
   },
   "outputs": [],
   "source": [
    "# # from steves_utils.wisig.utils import (\n",
    "# #     ALL_NODES_MINIMUM_100_EXAMPLES,\n",
    "# #     ALL_NODES_MINIMUM_500_EXAMPLES,\n",
    "# #     ALL_NODES_MINIMUM_1000_EXAMPLES,\n",
    "# #     ALL_DAYS\n",
    "# # )\n",
    "\n",
    "# import steves_utils.wisig.utils as wisig\n",
    "\n",
    "\n",
    "# add_dataset(\n",
    "#     labels=wisig.ALL_NODES_MINIMUM_100_EXAMPLES,\n",
    "#     domains = wisig.ALL_DAYS,\n",
    "#     num_examples_per_domain_per_label=100,\n",
    "#     pickle_path=os.path.join(get_datasets_base_path(), \"wisig.node3-19.stratified_ds.2022A.pkl\"),\n",
    "#     source_or_target_dataset=\"target\",\n",
    "#     x_transform_func=global_x_transform_func,\n",
    "#     domain_modifier=lambda u: f\"wisig_{u}\"\n",
    "# )"
   ]
  },
  {
   "cell_type": "code",
   "execution_count": 19,
   "id": "fd5442bc",
   "metadata": {
    "execution": {
     "iopub.execute_input": "2022-03-20T14:58:09.159828Z",
     "iopub.status.busy": "2022-03-20T14:58:09.156101Z",
     "iopub.status.idle": "2022-03-20T14:58:09.173559Z",
     "shell.execute_reply": "2022-03-20T14:58:09.173132Z"
    },
    "papermill": {
     "duration": 0.034604,
     "end_time": "2022-03-20T14:58:09.173660",
     "exception": false,
     "start_time": "2022-03-20T14:58:09.139056",
     "status": "completed"
    },
    "tags": []
   },
   "outputs": [],
   "source": [
    "###################################\n",
    "# Build the dataset\n",
    "###################################\n",
    "train_original_source = Iterable_Aggregator(train_original_source, p.seed)\n",
    "val_original_source = Iterable_Aggregator(val_original_source, p.seed)\n",
    "test_original_source = Iterable_Aggregator(test_original_source, p.seed)\n",
    "\n",
    "\n",
    "train_original_target = Iterable_Aggregator(train_original_target, p.seed)\n",
    "val_original_target = Iterable_Aggregator(val_original_target, p.seed)\n",
    "test_original_target = Iterable_Aggregator(test_original_target, p.seed)\n",
    "\n",
    "# For CNN We only use X and Y. And we only train on the source.\n",
    "# Properly form the data using a transform lambda and Lazy_Iterable_Wrapper. Finally wrap them in a dataloader\n",
    "\n",
    "transform_lambda = lambda ex: ex[1] # Original is (<domain>, <episode>) so we strip down to episode only\n",
    "\n",
    "train_processed_source = Lazy_Iterable_Wrapper(train_original_source, transform_lambda)\n",
    "val_processed_source   = Lazy_Iterable_Wrapper(val_original_source, transform_lambda)\n",
    "test_processed_source  = Lazy_Iterable_Wrapper(test_original_source, transform_lambda)\n",
    "\n",
    "train_processed_target = Lazy_Iterable_Wrapper(train_original_target, transform_lambda)\n",
    "val_processed_target   = Lazy_Iterable_Wrapper(val_original_target, transform_lambda)\n",
    "test_processed_target  = Lazy_Iterable_Wrapper(test_original_target, transform_lambda)\n",
    "\n",
    "datasets = EasyDict({\n",
    "    \"source\": {\n",
    "        \"original\": {\"train\":train_original_source, \"val\":val_original_source, \"test\":test_original_source},\n",
    "        \"processed\": {\"train\":train_processed_source, \"val\":val_processed_source, \"test\":test_processed_source}\n",
    "    },\n",
    "    \"target\": {\n",
    "        \"original\": {\"train\":train_original_target, \"val\":val_original_target, \"test\":test_original_target},\n",
    "        \"processed\": {\"train\":train_processed_target, \"val\":val_processed_target, \"test\":test_processed_target}\n",
    "    },\n",
    "})"
   ]
  },
  {
   "cell_type": "code",
   "execution_count": 20,
   "id": "5b3c01fc",
   "metadata": {
    "execution": {
     "iopub.execute_input": "2022-03-20T14:58:09.210184Z",
     "iopub.status.busy": "2022-03-20T14:58:09.209923Z",
     "iopub.status.idle": "2022-03-20T14:58:19.225169Z",
     "shell.execute_reply": "2022-03-20T14:58:19.225691Z"
    },
    "papermill": {
     "duration": 10.032829,
     "end_time": "2022-03-20T14:58:19.225856",
     "exception": false,
     "start_time": "2022-03-20T14:58:09.193027",
     "status": "completed"
    },
    "tags": []
   },
   "outputs": [
    {
     "name": "stdout",
     "output_type": "stream",
     "text": [
      "{'C_5', 'C_3', 'W_2', 'W_4', 'C_1', 'C_4', 'W_3', 'W_1', 'C_2'}\n"
     ]
    },
    {
     "name": "stdout",
     "output_type": "stream",
     "text": [
      "{'O_8', 'O_50', 'O_38', 'O_20', 'O_44', 'O_32', 'O_26', 'O_14'}\n"
     ]
    },
    {
     "name": "stdout",
     "output_type": "stream",
     "text": [
      "tensor([[[-5.8290e-03, -3.4181e-03,  1.2482e-02,  ..., -1.4923e-02,\n",
      "          -1.0559e-02,  5.3712e-03],\n",
      "         [ 2.6856e-03, -1.0102e-02, -5.7374e-03,  ...,  6.4699e-03,\n",
      "          -1.4649e-02, -7.7517e-03]],\n",
      "\n",
      "        [[-2.6246e-03,  1.8006e-03,  1.3153e-02,  ..., -1.1872e-02,\n",
      "          -3.0518e-05,  1.7334e-02],\n",
      "         [ 1.5259e-04, -7.6601e-03,  3.0824e-03,  ..., -9.8574e-03,\n",
      "          -1.6480e-02, -5.0660e-03]],\n",
      "\n",
      "        [[ 3.5096e-03, -1.2390e-02, -7.6601e-03,  ...,  1.0132e-02,\n",
      "          -4.9745e-03,  1.1689e-02],\n",
      "         [ 1.3214e-02,  2.5941e-03, -7.2328e-03,  ...,  9.3081e-03,\n",
      "          -1.6175e-03,  3.0518e-04]],\n",
      "\n",
      "        ...,\n",
      "\n",
      "        [[-1.8311e-03,  2.0447e-03,  4.8219e-03,  ..., -3.9979e-03,\n",
      "          -3.0518e-05,  1.3733e-03],\n",
      "         [ 5.0050e-03,  5.3102e-03, -1.1902e-03,  ...,  7.0192e-04,\n",
      "           5.4323e-03, -2.7772e-03]],\n",
      "\n",
      "        [[-3.0518e-05,  2.7161e-03, -1.5870e-03,  ...,  2.4109e-03,\n",
      "           4.3336e-03, -2.7467e-04],\n",
      "         [-3.9674e-04, -4.4557e-03, -4.9745e-03,  ...,  4.8829e-04,\n",
      "          -2.8992e-03, -3.9063e-03]],\n",
      "\n",
      "        [[-1.1597e-03,  1.1597e-03,  1.8921e-03,  ...,  6.3173e-03,\n",
      "           7.9958e-03,  2.8992e-03],\n",
      "         [-4.2726e-04,  2.7467e-04,  1.5259e-04,  ...,  3.2349e-03,\n",
      "           1.8311e-03, -2.1058e-03]]])\n"
     ]
    }
   ],
   "source": [
    "from steves_utils.transforms import get_average_magnitude, get_average_power\n",
    "\n",
    "print(set([u for u,_ in val_original_source]))\n",
    "print(set([u for u,_ in val_original_target]))\n",
    "\n",
    "s_x, s_y, q_x, q_y, _ = next(iter(train_processed_source))\n",
    "print(s_x)\n",
    "\n",
    "# for ds in [\n",
    "#     train_processed_source,\n",
    "#     val_processed_source,\n",
    "#     test_processed_source,\n",
    "#     train_processed_target,\n",
    "#     val_processed_target,\n",
    "#     test_processed_target\n",
    "# ]:\n",
    "#     for s_x, s_y, q_x, q_y, _ in ds:\n",
    "#         for X in (s_x, q_x):\n",
    "#             for x in X:\n",
    "#                 assert np.isclose(get_average_magnitude(x.numpy()), 1.0)\n",
    "#                 assert np.isclose(get_average_power(x.numpy()), 1.0)\n",
    "                "
   ]
  },
  {
   "cell_type": "code",
   "execution_count": 21,
   "id": "bbdacba1",
   "metadata": {
    "execution": {
     "iopub.execute_input": "2022-03-20T14:58:19.265592Z",
     "iopub.status.busy": "2022-03-20T14:58:19.265325Z",
     "iopub.status.idle": "2022-03-20T14:58:19.313075Z",
     "shell.execute_reply": "2022-03-20T14:58:19.313585Z"
    },
    "papermill": {
     "duration": 0.066195,
     "end_time": "2022-03-20T14:58:19.313741",
     "exception": false,
     "start_time": "2022-03-20T14:58:19.247546",
     "status": "completed"
    },
    "tags": []
   },
   "outputs": [
    {
     "name": "stdout",
     "output_type": "stream",
     "text": [
      "(2, 200)\n"
     ]
    }
   ],
   "source": [
    "###################################\n",
    "# Build the model\n",
    "###################################\n",
    "# easfsl only wants a tuple for the shape\n",
    "model = Steves_Prototypical_Network(x_net, device=p.device, x_shape=tuple(p.x_shape))\n",
    "optimizer = Adam(params=model.parameters(), lr=p.lr)"
   ]
  },
  {
   "cell_type": "code",
   "execution_count": 22,
   "id": "22b39ac5",
   "metadata": {
    "execution": {
     "iopub.execute_input": "2022-03-20T14:58:19.354372Z",
     "iopub.status.busy": "2022-03-20T14:58:19.354106Z",
     "iopub.status.idle": "2022-03-20T15:59:50.372016Z",
     "shell.execute_reply": "2022-03-20T15:59:50.371788Z"
    },
    "papermill": {
     "duration": 3691.040055,
     "end_time": "2022-03-20T15:59:50.372075",
     "exception": false,
     "start_time": "2022-03-20T14:58:19.332020",
     "status": "completed"
    },
    "tags": []
   },
   "outputs": [
    {
     "name": "stdout",
     "output_type": "stream",
     "text": [
      "epoch: 1, [batch: 1 / 13145], examples_per_second: 24.3424, train_label_loss: 2.0895, \n"
     ]
    },
    {
     "name": "stdout",
     "output_type": "stream",
     "text": [
      "epoch: 1, [batch: 1315 / 13145], examples_per_second: 1741.4735, train_label_loss: 0.0423, \n"
     ]
    },
    {
     "name": "stdout",
     "output_type": "stream",
     "text": [
      "epoch: 1, [batch: 2629 / 13145], examples_per_second: 1744.6553, train_label_loss: 0.0094, \n"
     ]
    },
    {
     "name": "stdout",
     "output_type": "stream",
     "text": [
      "epoch: 1, [batch: 3944 / 13145], examples_per_second: 1738.8065, train_label_loss: 0.1233, \n"
     ]
    },
    {
     "name": "stdout",
     "output_type": "stream",
     "text": [
      "epoch: 1, [batch: 5258 / 13145], examples_per_second: 1736.6373, train_label_loss: 0.0029, \n"
     ]
    },
    {
     "name": "stdout",
     "output_type": "stream",
     "text": [
      "epoch: 1, [batch: 6573 / 13145], examples_per_second: 1742.6959, train_label_loss: 0.1743, \n"
     ]
    },
    {
     "name": "stdout",
     "output_type": "stream",
     "text": [
      "epoch: 1, [batch: 7887 / 13145], examples_per_second: 1742.3684, train_label_loss: 0.1039, \n"
     ]
    },
    {
     "name": "stdout",
     "output_type": "stream",
     "text": [
      "epoch: 1, [batch: 9201 / 13145], examples_per_second: 1737.8179, train_label_loss: 0.3949, \n"
     ]
    },
    {
     "name": "stdout",
     "output_type": "stream",
     "text": [
      "epoch: 1, [batch: 10516 / 13145], examples_per_second: 1743.3730, train_label_loss: 0.0722, \n"
     ]
    },
    {
     "name": "stdout",
     "output_type": "stream",
     "text": [
      "epoch: 1, [batch: 11830 / 13145], examples_per_second: 2162.3979, train_label_loss: 0.0029, \n"
     ]
    },
    {
     "name": "stdout",
     "output_type": "stream",
     "text": [
      "=============================================================\n",
      "epoch: 1, source_val_acc_label: 0.9789, target_val_acc_label: 0.3880, source_val_label_loss: 0.1140, target_val_label_loss: 2.5356, \n",
      "=============================================================\n"
     ]
    },
    {
     "name": "stdout",
     "output_type": "stream",
     "text": [
      "New best\n"
     ]
    },
    {
     "name": "stdout",
     "output_type": "stream",
     "text": [
      "epoch: 2, [batch: 1 / 13179], examples_per_second: 1.8892, train_label_loss: 0.0408, \n"
     ]
    },
    {
     "name": "stdout",
     "output_type": "stream",
     "text": [
      "epoch: 2, [batch: 1318 / 13179], examples_per_second: 2134.8588, train_label_loss: 0.0286, \n"
     ]
    },
    {
     "name": "stdout",
     "output_type": "stream",
     "text": [
      "epoch: 2, [batch: 2636 / 13179], examples_per_second: 3108.3986, train_label_loss: 0.0172, \n"
     ]
    },
    {
     "name": "stdout",
     "output_type": "stream",
     "text": [
      "epoch: 2, [batch: 3954 / 13179], examples_per_second: 3591.3333, train_label_loss: 0.1010, \n"
     ]
    },
    {
     "name": "stdout",
     "output_type": "stream",
     "text": [
      "epoch: 2, [batch: 5272 / 13179], examples_per_second: 3567.5020, train_label_loss: 0.2948, \n"
     ]
    },
    {
     "name": "stdout",
     "output_type": "stream",
     "text": [
      "epoch: 2, [batch: 6590 / 13179], examples_per_second: 2345.1084, train_label_loss: 0.0056, \n"
     ]
    },
    {
     "name": "stdout",
     "output_type": "stream",
     "text": [
      "epoch: 2, [batch: 7907 / 13179], examples_per_second: 1729.7029, train_label_loss: 0.0004, \n"
     ]
    },
    {
     "name": "stdout",
     "output_type": "stream",
     "text": [
      "epoch: 2, [batch: 9225 / 13179], examples_per_second: 1726.7467, train_label_loss: 0.0278, \n"
     ]
    },
    {
     "name": "stdout",
     "output_type": "stream",
     "text": [
      "epoch: 2, [batch: 10543 / 13179], examples_per_second: 1732.7291, train_label_loss: 0.0830, \n"
     ]
    },
    {
     "name": "stdout",
     "output_type": "stream",
     "text": [
      "epoch: 2, [batch: 11861 / 13179], examples_per_second: 1730.0460, train_label_loss: 0.0012, \n"
     ]
    },
    {
     "name": "stdout",
     "output_type": "stream",
     "text": [
      "=============================================================\n",
      "epoch: 2, source_val_acc_label: 0.9840, target_val_acc_label: 0.5193, source_val_label_loss: 0.0801, target_val_label_loss: 2.3069, \n",
      "=============================================================\n"
     ]
    },
    {
     "name": "stdout",
     "output_type": "stream",
     "text": [
      "New best\n"
     ]
    },
    {
     "name": "stdout",
     "output_type": "stream",
     "text": [
      "epoch: 3, [batch: 1 / 13166], examples_per_second: 1.4616, train_label_loss: 0.3951, \n"
     ]
    },
    {
     "name": "stdout",
     "output_type": "stream",
     "text": [
      "epoch: 3, [batch: 1317 / 13166], examples_per_second: 1730.6004, train_label_loss: 0.0019, \n"
     ]
    },
    {
     "name": "stdout",
     "output_type": "stream",
     "text": [
      "epoch: 3, [batch: 2634 / 13166], examples_per_second: 1728.2237, train_label_loss: 0.0484, \n"
     ]
    },
    {
     "name": "stdout",
     "output_type": "stream",
     "text": [
      "epoch: 3, [batch: 3950 / 13166], examples_per_second: 1728.9403, train_label_loss: 0.0065, \n"
     ]
    },
    {
     "name": "stdout",
     "output_type": "stream",
     "text": [
      "epoch: 3, [batch: 5267 / 13166], examples_per_second: 1955.4232, train_label_loss: 0.0380, \n"
     ]
    },
    {
     "name": "stdout",
     "output_type": "stream",
     "text": [
      "epoch: 3, [batch: 6583 / 13166], examples_per_second: 2203.2616, train_label_loss: 0.0077, \n"
     ]
    },
    {
     "name": "stdout",
     "output_type": "stream",
     "text": [
      "epoch: 3, [batch: 7900 / 13166], examples_per_second: 1743.6258, train_label_loss: 0.0048, \n"
     ]
    },
    {
     "name": "stdout",
     "output_type": "stream",
     "text": [
      "epoch: 3, [batch: 9216 / 13166], examples_per_second: 1741.1981, train_label_loss: 0.0001, \n"
     ]
    },
    {
     "name": "stdout",
     "output_type": "stream",
     "text": [
      "epoch: 3, [batch: 10533 / 13166], examples_per_second: 1747.4029, train_label_loss: 0.2555, \n"
     ]
    },
    {
     "name": "stdout",
     "output_type": "stream",
     "text": [
      "epoch: 3, [batch: 11849 / 13166], examples_per_second: 1742.8553, train_label_loss: 0.0062, \n"
     ]
    },
    {
     "name": "stdout",
     "output_type": "stream",
     "text": [
      "=============================================================\n",
      "epoch: 3, source_val_acc_label: 0.9866, target_val_acc_label: 0.4255, source_val_label_loss: 0.0617, target_val_label_loss: 2.3600, \n",
      "=============================================================\n"
     ]
    },
    {
     "name": "stdout",
     "output_type": "stream",
     "text": [
      "epoch: 4, [batch: 1 / 13172], examples_per_second: 1.4728, train_label_loss: 0.0009, \n"
     ]
    },
    {
     "name": "stdout",
     "output_type": "stream",
     "text": [
      "epoch: 4, [batch: 1318 / 13172], examples_per_second: 1746.9849, train_label_loss: 0.1613, \n"
     ]
    },
    {
     "name": "stdout",
     "output_type": "stream",
     "text": [
      "epoch: 4, [batch: 2635 / 13172], examples_per_second: 1743.5488, train_label_loss: 0.0007, \n"
     ]
    },
    {
     "name": "stdout",
     "output_type": "stream",
     "text": [
      "epoch: 4, [batch: 3952 / 13172], examples_per_second: 1743.1584, train_label_loss: 0.0003, \n"
     ]
    },
    {
     "name": "stdout",
     "output_type": "stream",
     "text": [
      "epoch: 4, [batch: 5269 / 13172], examples_per_second: 1933.3618, train_label_loss: 0.1791, \n"
     ]
    },
    {
     "name": "stdout",
     "output_type": "stream",
     "text": [
      "epoch: 4, [batch: 6586 / 13172], examples_per_second: 2240.7044, train_label_loss: 0.0033, \n"
     ]
    },
    {
     "name": "stdout",
     "output_type": "stream",
     "text": [
      "epoch: 4, [batch: 7903 / 13172], examples_per_second: 1742.6842, train_label_loss: 0.1859, \n"
     ]
    },
    {
     "name": "stdout",
     "output_type": "stream",
     "text": [
      "epoch: 4, [batch: 9220 / 13172], examples_per_second: 1739.8195, train_label_loss: 0.0790, \n"
     ]
    },
    {
     "name": "stdout",
     "output_type": "stream",
     "text": [
      "epoch: 4, [batch: 10537 / 13172], examples_per_second: 1745.2527, train_label_loss: 0.0105, \n"
     ]
    },
    {
     "name": "stdout",
     "output_type": "stream",
     "text": [
      "epoch: 4, [batch: 11854 / 13172], examples_per_second: 1744.8316, train_label_loss: 0.0006, \n"
     ]
    },
    {
     "name": "stdout",
     "output_type": "stream",
     "text": [
      "=============================================================\n",
      "epoch: 4, source_val_acc_label: 0.9870, target_val_acc_label: 0.4914, source_val_label_loss: 0.0573, target_val_label_loss: 2.2438, \n",
      "=============================================================\n"
     ]
    },
    {
     "name": "stdout",
     "output_type": "stream",
     "text": [
      "epoch: 5, [batch: 1 / 13165], examples_per_second: 1.4736, train_label_loss: 0.0090, \n"
     ]
    },
    {
     "name": "stdout",
     "output_type": "stream",
     "text": [
      "epoch: 5, [batch: 1317 / 13165], examples_per_second: 1746.5385, train_label_loss: 0.0018, \n"
     ]
    },
    {
     "name": "stdout",
     "output_type": "stream",
     "text": [
      "epoch: 5, [batch: 2633 / 13165], examples_per_second: 1743.5050, train_label_loss: 0.1358, \n"
     ]
    },
    {
     "name": "stdout",
     "output_type": "stream",
     "text": [
      "epoch: 5, [batch: 3950 / 13165], examples_per_second: 1743.4708, train_label_loss: 0.0008, \n"
     ]
    },
    {
     "name": "stdout",
     "output_type": "stream",
     "text": [
      "epoch: 5, [batch: 5266 / 13165], examples_per_second: 1891.3097, train_label_loss: 0.0116, \n"
     ]
    },
    {
     "name": "stdout",
     "output_type": "stream",
     "text": [
      "epoch: 5, [batch: 6583 / 13165], examples_per_second: 2298.0947, train_label_loss: 0.0007, \n"
     ]
    },
    {
     "name": "stdout",
     "output_type": "stream",
     "text": [
      "epoch: 5, [batch: 7899 / 13165], examples_per_second: 1742.9246, train_label_loss: 0.1291, \n"
     ]
    },
    {
     "name": "stdout",
     "output_type": "stream",
     "text": [
      "epoch: 5, [batch: 9215 / 13165], examples_per_second: 1739.7427, train_label_loss: 0.0007, \n"
     ]
    },
    {
     "name": "stdout",
     "output_type": "stream",
     "text": [
      "epoch: 5, [batch: 10532 / 13165], examples_per_second: 1744.4247, train_label_loss: 0.0007, \n"
     ]
    },
    {
     "name": "stdout",
     "output_type": "stream",
     "text": [
      "epoch: 5, [batch: 11848 / 13165], examples_per_second: 1744.3310, train_label_loss: 0.0032, \n"
     ]
    },
    {
     "name": "stdout",
     "output_type": "stream",
     "text": [
      "=============================================================\n",
      "epoch: 5, source_val_acc_label: 0.9873, target_val_acc_label: 0.4226, source_val_label_loss: 0.0541, target_val_label_loss: 2.2698, \n",
      "=============================================================\n"
     ]
    },
    {
     "name": "stdout",
     "output_type": "stream",
     "text": [
      "epoch: 6, [batch: 1 / 13167], examples_per_second: 1.4696, train_label_loss: 0.0191, \n"
     ]
    },
    {
     "name": "stdout",
     "output_type": "stream",
     "text": [
      "epoch: 6, [batch: 1317 / 13167], examples_per_second: 1747.0335, train_label_loss: 0.0013, \n"
     ]
    },
    {
     "name": "stdout",
     "output_type": "stream",
     "text": [
      "epoch: 6, [batch: 2634 / 13167], examples_per_second: 1743.6235, train_label_loss: 0.0002, \n"
     ]
    },
    {
     "name": "stdout",
     "output_type": "stream",
     "text": [
      "epoch: 6, [batch: 3950 / 13167], examples_per_second: 1744.3963, train_label_loss: 0.0118, \n"
     ]
    },
    {
     "name": "stdout",
     "output_type": "stream",
     "text": [
      "epoch: 6, [batch: 5267 / 13167], examples_per_second: 1864.1598, train_label_loss: 0.0002, \n"
     ]
    },
    {
     "name": "stdout",
     "output_type": "stream",
     "text": [
      "epoch: 6, [batch: 6584 / 13167], examples_per_second: 2342.5874, train_label_loss: 0.0000, \n"
     ]
    },
    {
     "name": "stdout",
     "output_type": "stream",
     "text": [
      "epoch: 6, [batch: 7900 / 13167], examples_per_second: 1741.0549, train_label_loss: 0.0011, \n"
     ]
    },
    {
     "name": "stdout",
     "output_type": "stream",
     "text": [
      "epoch: 6, [batch: 9217 / 13167], examples_per_second: 1738.2858, train_label_loss: 0.0142, \n"
     ]
    },
    {
     "name": "stdout",
     "output_type": "stream",
     "text": [
      "epoch: 6, [batch: 10533 / 13167], examples_per_second: 1745.4034, train_label_loss: 0.0683, \n"
     ]
    },
    {
     "name": "stdout",
     "output_type": "stream",
     "text": [
      "epoch: 6, [batch: 11850 / 13167], examples_per_second: 1746.0723, train_label_loss: 0.0002, \n"
     ]
    },
    {
     "name": "stdout",
     "output_type": "stream",
     "text": [
      "=============================================================\n",
      "epoch: 6, source_val_acc_label: 0.9872, target_val_acc_label: 0.4183, source_val_label_loss: 0.0539, target_val_label_loss: 2.2441, \n",
      "=============================================================\n"
     ]
    },
    {
     "name": "stdout",
     "output_type": "stream",
     "text": [
      "Patience (3) exhausted\n"
     ]
    }
   ],
   "source": [
    "###################################\n",
    "# train\n",
    "###################################\n",
    "jig = PTN_Train_Eval_Test_Jig(model, p.BEST_MODEL_PATH, p.device)\n",
    "\n",
    "jig.train(\n",
    "    train_iterable=datasets.source.processed.train,\n",
    "    source_val_iterable=datasets.source.processed.val,\n",
    "    target_val_iterable=datasets.target.processed.val,\n",
    "    num_epochs=p.n_epoch,\n",
    "    num_logs_per_epoch=p.NUM_LOGS_PER_EPOCH,\n",
    "    patience=p.patience,\n",
    "    optimizer=optimizer,\n",
    "    criteria_for_best=p.criteria_for_best,\n",
    ")"
   ]
  },
  {
   "cell_type": "code",
   "execution_count": 23,
   "id": "31e8fabf",
   "metadata": {
    "execution": {
     "iopub.execute_input": "2022-03-20T15:59:50.428778Z",
     "iopub.status.busy": "2022-03-20T15:59:50.428525Z",
     "iopub.status.idle": "2022-03-20T15:59:50.447664Z",
     "shell.execute_reply": "2022-03-20T15:59:50.447205Z"
    },
    "papermill": {
     "duration": 0.048861,
     "end_time": "2022-03-20T15:59:50.447772",
     "exception": false,
     "start_time": "2022-03-20T15:59:50.398911",
     "status": "completed"
    },
    "tags": []
   },
   "outputs": [],
   "source": [
    "total_experiment_time_secs = time.time() - start_time_secs"
   ]
  },
  {
   "cell_type": "code",
   "execution_count": 24,
   "id": "87b9595b",
   "metadata": {
    "execution": {
     "iopub.execute_input": "2022-03-20T15:59:50.510917Z",
     "iopub.status.busy": "2022-03-20T15:59:50.510580Z",
     "iopub.status.idle": "2022-03-20T16:03:41.850482Z",
     "shell.execute_reply": "2022-03-20T16:03:41.850830Z"
    },
    "papermill": {
     "duration": 231.372154,
     "end_time": "2022-03-20T16:03:41.850946",
     "exception": false,
     "start_time": "2022-03-20T15:59:50.478792",
     "status": "completed"
    },
    "tags": []
   },
   "outputs": [],
   "source": [
    "###################################\n",
    "# Evaluate the model\n",
    "###################################\n",
    "source_test_label_accuracy, source_test_label_loss = jig.test(datasets.source.processed.test)\n",
    "target_test_label_accuracy, target_test_label_loss = jig.test(datasets.target.processed.test)\n",
    "\n",
    "source_val_label_accuracy, source_val_label_loss = jig.test(datasets.source.processed.val)\n",
    "target_val_label_accuracy, target_val_label_loss = jig.test(datasets.target.processed.val)\n",
    "\n",
    "history = jig.get_history()\n",
    "\n",
    "total_epochs_trained = len(history[\"epoch_indices\"])\n",
    "\n",
    "val_dl = Iterable_Aggregator((datasets.source.original.val,datasets.target.original.val))\n",
    "\n",
    "confusion = ptn_confusion_by_domain_over_dataloader(model, p.device, val_dl)\n",
    "per_domain_accuracy = per_domain_accuracy_from_confusion(confusion)\n",
    "\n",
    "# Add a key to per_domain_accuracy for if it was a source domain\n",
    "for domain, accuracy in per_domain_accuracy.items():\n",
    "    per_domain_accuracy[domain] = {\n",
    "        \"accuracy\": accuracy,\n",
    "        \"source?\": domain in p.domains_source\n",
    "    }\n",
    "\n",
    "# Do an independent accuracy assesment JUST TO BE SURE!\n",
    "# _source_test_label_accuracy = independent_accuracy_assesment(model, datasets.source.processed.test, p.device)\n",
    "# _target_test_label_accuracy = independent_accuracy_assesment(model, datasets.target.processed.test, p.device)\n",
    "# _source_val_label_accuracy = independent_accuracy_assesment(model, datasets.source.processed.val, p.device)\n",
    "# _target_val_label_accuracy = independent_accuracy_assesment(model, datasets.target.processed.val, p.device)\n",
    "\n",
    "# assert(_source_test_label_accuracy == source_test_label_accuracy)\n",
    "# assert(_target_test_label_accuracy == target_test_label_accuracy)\n",
    "# assert(_source_val_label_accuracy == source_val_label_accuracy)\n",
    "# assert(_target_val_label_accuracy == target_val_label_accuracy)\n",
    "\n",
    "experiment = {\n",
    "    \"experiment_name\": p.experiment_name,\n",
    "    \"parameters\": dict(p),\n",
    "    \"results\": {\n",
    "        \"source_test_label_accuracy\": source_test_label_accuracy,\n",
    "        \"source_test_label_loss\": source_test_label_loss,\n",
    "        \"target_test_label_accuracy\": target_test_label_accuracy,\n",
    "        \"target_test_label_loss\": target_test_label_loss,\n",
    "        \"source_val_label_accuracy\": source_val_label_accuracy,\n",
    "        \"source_val_label_loss\": source_val_label_loss,\n",
    "        \"target_val_label_accuracy\": target_val_label_accuracy,\n",
    "        \"target_val_label_loss\": target_val_label_loss,\n",
    "        \"total_epochs_trained\": total_epochs_trained,\n",
    "        \"total_experiment_time_secs\": total_experiment_time_secs,\n",
    "        \"confusion\": confusion,\n",
    "        \"per_domain_accuracy\": per_domain_accuracy,\n",
    "    },\n",
    "    \"history\": history,\n",
    "    \"dataset_metrics\": get_dataset_metrics(datasets, \"ptn\"),\n",
    "}"
   ]
  },
  {
   "cell_type": "code",
   "execution_count": 25,
   "id": "54a21829",
   "metadata": {
    "execution": {
     "iopub.execute_input": "2022-03-20T16:03:41.921884Z",
     "iopub.status.busy": "2022-03-20T16:03:41.919918Z",
     "iopub.status.idle": "2022-03-20T16:03:42.049640Z",
     "shell.execute_reply": "2022-03-20T16:03:42.050062Z"
    },
    "papermill": {
     "duration": 0.161081,
     "end_time": "2022-03-20T16:03:42.050195",
     "exception": false,
     "start_time": "2022-03-20T16:03:41.889114",
     "status": "completed"
    },
    "tags": []
   },
   "outputs": [
    {
     "data": {
      "image/png": "[encoded data removed]",
      "text/plain": [
       "<Figure size 1080x504 with 1 Axes>"
      ]
     },
     "metadata": {
      "needs_background": "light"
     },
     "output_type": "display_data"
    }
   ],
   "source": [
    "ax = get_loss_curve(experiment)\n",
    "plt.show()"
   ]
  },
  {
   "cell_type": "code",
   "execution_count": 26,
   "id": "fd8a0f60",
   "metadata": {
    "execution": {
     "iopub.execute_input": "2022-03-20T16:03:42.120280Z",
     "iopub.status.busy": "2022-03-20T16:03:42.114867Z",
     "iopub.status.idle": "2022-03-20T16:03:42.259351Z",
     "shell.execute_reply": "2022-03-20T16:03:42.258990Z"
    },
    "papermill": {
     "duration": 0.175696,
     "end_time": "2022-03-20T16:03:42.259450",
     "exception": false,
     "start_time": "2022-03-20T16:03:42.083754",
     "status": "completed"
    },
    "tags": []
   },
   "outputs": [
    {
     "data": {
      "text/plain": [
       "<AxesSubplot:title={'center':'Results'}>"
      ]
     },
     "execution_count": 26,
     "metadata": {},
     "output_type": "execute_result"
    },
    {
     "data": {
      "image/png": "[encoded data removed]",
      "text/plain": [
       "<Figure size 1080x504 with 1 Axes>"
      ]
     },
     "metadata": {
      "needs_background": "light"
     },
     "output_type": "display_data"
    }
   ],
   "source": [
    "get_results_table(experiment)"
   ]
  },
  {
   "cell_type": "code",
   "execution_count": 27,
   "id": "cf8dc689",
   "metadata": {
    "execution": {
     "iopub.execute_input": "2022-03-20T16:03:42.335689Z",
     "iopub.status.busy": "2022-03-20T16:03:42.335176Z",
     "iopub.status.idle": "2022-03-20T16:03:42.486869Z",
     "shell.execute_reply": "2022-03-20T16:03:42.486454Z"
    },
    "papermill": {
     "duration": 0.187319,
     "end_time": "2022-03-20T16:03:42.486975",
     "exception": false,
     "start_time": "2022-03-20T16:03:42.299656",
     "status": "completed"
    },
    "tags": []
   },
   "outputs": [
    {
     "data": {
      "text/plain": [
       "<AxesSubplot:title={'center':'Per Domain Validation Accuracy'}, xlabel='domain'>"
      ]
     },
     "execution_count": 27,
     "metadata": {},
     "output_type": "execute_result"
    },
    {
     "data": {
      "image/png": "[encoded data removed]",
      "text/plain": [
       "<Figure size 1080x504 with 1 Axes>"
      ]
     },
     "metadata": {
      "needs_background": "light"
     },
     "output_type": "display_data"
    }
   ],
   "source": [
    "get_domain_accuracies(experiment)"
   ]
  },
  {
   "cell_type": "code",
   "execution_count": 28,
   "id": "a74ae082",
   "metadata": {
    "execution": {
     "iopub.execute_input": "2022-03-20T16:03:42.557501Z",
     "iopub.status.busy": "2022-03-20T16:03:42.557238Z",
     "iopub.status.idle": "2022-03-20T16:03:42.572998Z",
     "shell.execute_reply": "2022-03-20T16:03:42.572536Z"
    },
    "papermill": {
     "duration": 0.049519,
     "end_time": "2022-03-20T16:03:42.573095",
     "exception": false,
     "start_time": "2022-03-20T16:03:42.523576",
     "status": "completed"
    },
    "tags": []
   },
   "outputs": [
    {
     "name": "stdout",
     "output_type": "stream",
     "text": [
      "Source Test Label Accuracy: 0.9827475715056665 Target Test Label Accuracy: 0.5175455729166667\n",
      "Source Val Label Accuracy: 0.9839708310401761 Target Val Label Accuracy: 0.5192708333333333\n"
     ]
    }
   ],
   "source": [
    "print(\"Source Test Label Accuracy:\", experiment[\"results\"][\"source_test_label_accuracy\"], \"Target Test Label Accuracy:\", experiment[\"results\"][\"target_test_label_accuracy\"])\n",
    "print(\"Source Val Label Accuracy:\", experiment[\"results\"][\"source_val_label_accuracy\"], \"Target Val Label Accuracy:\", experiment[\"results\"][\"target_val_label_accuracy\"])"
   ]
  },
  {
   "cell_type": "code",
   "execution_count": 29,
   "id": "dacca602",
   "metadata": {
    "execution": {
     "iopub.execute_input": "2022-03-20T16:03:42.641595Z",
     "iopub.status.busy": "2022-03-20T16:03:42.641338Z",
     "iopub.status.idle": "2022-03-20T16:03:42.655463Z",
     "shell.execute_reply": "2022-03-20T16:03:42.655854Z"
    },
    "papermill": {
     "duration": 0.047262,
     "end_time": "2022-03-20T16:03:42.655981",
     "exception": false,
     "start_time": "2022-03-20T16:03:42.608719",
     "status": "completed"
    },
    "tags": [
     "experiment_json"
    ]
   },
   "outputs": [
    {
     "data": {
      "text/plain": [
       "'{\"experiment_name\": \"tl_3Av2:cores+wisig -> oracle.run1.framed\", \"parameters\": {\"experiment_name\": \"tl_3Av2:cores+wisig -> oracle.run1.framed\", \"device\": \"cuda\", \"lr\": 0.0001, \"x_shape\": [2, 200], \"n_shot\": 3, \"n_query\": 2, \"train_k_factor\": 3, \"val_k_factor\": 2, \"test_k_factor\": 2, \"torch_default_dtype\": \"torch.float32\", \"n_epoch\": 50, \"patience\": 3, \"criteria_for_best\": \"target_accuracy\", \"x_net\": [{\"class\": \"nnReshape\", \"kargs\": {\"shape\": [-1, 1, 2, 200]}}, {\"class\": \"Conv2d\", \"kargs\": {\"in_channels\": 1, \"out_channels\": 256, \"kernel_size\": [1, 7], \"bias\": false, \"padding\": [0, 3]}}, {\"class\": \"ReLU\", \"kargs\": {\"inplace\": true}}, {\"class\": \"BatchNorm2d\", \"kargs\": {\"num_features\": 256}}, {\"class\": \"Conv2d\", \"kargs\": {\"in_channels\": 256, \"out_channels\": 80, \"kernel_size\": [2, 7], \"bias\": true, \"padding\": [0, 3]}}, {\"class\": \"ReLU\", \"kargs\": {\"inplace\": true}}, {\"class\": \"BatchNorm2d\", \"kargs\": {\"num_features\": 80}}, {\"class\": \"Flatten\", \"kargs\": {}}, {\"class\": \"Linear\", \"kargs\": {\"in_features\": 16000, \"out_features\": 256}}, {\"class\": \"ReLU\", \"kargs\": {\"inplace\": true}}, {\"class\": \"BatchNorm1d\", \"kargs\": {\"num_features\": 256}}, {\"class\": \"Linear\", \"kargs\": {\"in_features\": 256, \"out_features\": 256}}], \"NUM_LOGS_PER_EPOCH\": 10, \"BEST_MODEL_PATH\": \"./best_model.pth\", \"n_way\": 16, \"datasets\": [{\"labels\": [\"1-10.\", \"1-11.\", \"1-15.\", \"1-16.\", \"1-17.\", \"1-18.\", \"1-19.\", \"10-4.\", \"10-7.\", \"11-1.\", \"11-14.\", \"11-17.\", \"11-20.\", \"11-7.\", \"13-20.\", \"13-8.\", \"14-10.\", \"14-11.\", \"14-14.\", \"14-7.\", \"15-1.\", \"15-20.\", \"16-1.\", \"16-16.\", \"17-10.\", \"17-11.\", \"17-2.\", \"19-1.\", \"19-16.\", \"19-19.\", \"19-20.\", \"19-3.\", \"2-10.\", \"2-11.\", \"2-17.\", \"2-18.\", \"2-20.\", \"2-3.\", \"2-4.\", \"2-5.\", \"2-6.\", \"2-7.\", \"2-8.\", \"3-13.\", \"3-18.\", \"3-3.\", \"4-1.\", \"4-10.\", \"4-11.\", \"4-19.\", \"5-5.\", \"6-15.\", \"7-10.\", \"7-14.\", \"8-18.\", \"8-20.\", \"8-3.\", \"8-8.\"], \"domains\": [1, 2, 3, 4, 5], \"num_examples_per_domain_per_label\": -1, \"pickle_path\": \"/mnt/wd500GB/CSC500/csc500-main/datasets/cores.stratified_ds.2022A.pkl\", \"source_or_target_dataset\": \"source\", \"x_transforms\": [\"take_200\"], \"episode_transforms\": [], \"domain_prefix\": \"C_\"}, {\"labels\": [\"1-10\", \"1-12\", \"1-14\", \"1-16\", \"1-18\", \"1-19\", \"1-8\", \"10-11\", \"10-17\", \"10-4\", \"10-7\", \"11-1\", \"11-10\", \"11-19\", \"11-20\", \"11-4\", \"11-7\", \"12-19\", \"12-20\", \"12-7\", \"13-14\", \"13-18\", \"13-19\", \"13-20\", \"13-3\", \"13-7\", \"14-10\", \"14-11\", \"14-12\", \"14-13\", \"14-14\", \"14-19\", \"14-20\", \"14-7\", \"14-8\", \"14-9\", \"15-1\", \"15-19\", \"15-6\", \"16-1\", \"16-16\", \"16-19\", \"16-20\", \"17-10\", \"17-11\", \"18-1\", \"18-10\", \"18-11\", \"18-12\", \"18-13\", \"18-14\", \"18-15\", \"18-16\", \"18-17\", \"18-19\", \"18-2\", \"18-20\", \"18-4\", \"18-5\", \"18-7\", \"18-8\", \"18-9\", \"19-1\", \"19-10\", \"19-11\", \"19-12\", \"19-13\", \"19-14\", \"19-15\", \"19-19\", \"19-2\", \"19-20\", \"19-3\", \"19-4\", \"19-6\", \"19-7\", \"19-8\", \"19-9\", \"2-1\", \"2-13\", \"2-15\", \"2-3\", \"2-4\", \"2-5\", \"2-6\", \"2-7\", \"2-8\", \"20-1\", \"20-12\", \"20-14\", \"20-15\", \"20-16\", \"20-18\", \"20-19\", \"20-20\", \"20-3\", \"20-4\", \"20-5\", \"20-7\", \"20-8\", \"3-1\", \"3-13\", \"3-18\", \"3-2\", \"3-8\", \"4-1\", \"4-10\", \"4-11\", \"5-1\", \"5-5\", \"6-1\", \"6-15\", \"6-6\", \"7-10\", \"7-11\", \"7-12\", \"7-13\", \"7-14\", \"7-7\", \"7-8\", \"7-9\", \"8-1\", \"8-13\", \"8-14\", \"8-18\", \"8-20\", \"8-3\", \"8-8\", \"9-1\", \"9-7\"], \"domains\": [1, 2, 3, 4], \"num_examples_per_domain_per_label\": -1, \"pickle_path\": \"/mnt/wd500GB/CSC500/csc500-main/datasets/wisig.node3-19.stratified_ds.2022A.pkl\", \"source_or_target_dataset\": \"source\", \"x_transforms\": [\"take_200\"], \"episode_transforms\": [], \"domain_prefix\": \"W_\"}, {\"labels\": [\"3123D52\", \"3123D65\", \"3123D79\", \"3123D80\", \"3123D54\", \"3123D70\", \"3123D7B\", \"3123D89\", \"3123D58\", \"3123D76\", \"3123D7D\", \"3123EFE\", \"3123D64\", \"3123D78\", \"3123D7E\", \"3124E4A\"], \"domains\": [32, 38, 8, 44, 14, 50, 20, 26], \"num_examples_per_domain_per_label\": 2000, \"pickle_path\": \"/mnt/wd500GB/CSC500/csc500-main/datasets/oracle.Run1_framed_2000Examples_stratified_ds.2022A.pkl\", \"source_or_target_dataset\": \"target\", \"x_transforms\": [\"take_200\", \"resample_20Msps_to_25Msps\"], \"episode_transforms\": [], \"domain_prefix\": \"O_\"}], \"seed\": 154325, \"dataset_seed\": 154325, \"domains_source\": [\"C_1\", \"C_2\", \"C_3\", \"C_4\", \"C_5\", \"W_1\", \"W_2\", \"W_3\", \"W_4\"], \"domains_target\": [\"O_32\", \"O_38\", \"O_8\", \"O_44\", \"O_14\", \"O_50\", \"O_20\", \"O_26\"]}, \"results\": {\"source_test_label_accuracy\": 0.9827475715056665, \"source_test_label_loss\": 0.08591645210981369, \"target_test_label_accuracy\": 0.5175455729166667, \"target_test_label_loss\": 2.306661605834961, \"source_val_label_accuracy\": 0.9839708310401761, \"source_val_label_loss\": 0.08007197082042694, \"target_val_label_accuracy\": 0.5192708333333333, \"target_val_label_loss\": 2.3068912029266357, \"total_epochs_trained\": 6, \"total_experiment_time_secs\": 3719.6116268634796, \"confusion\": {\"C_2\": {\"21\": {\"21\": 120}, \"4\": {\"4\": 130}, \"6\": {\"6\": 124}, \"10\": {\"10\": 112}, \"33\": {\"33\": 28}, \"56\": {\"56\": 120, \"22\": 2}, \"20\": {\"20\": 132}, \"24\": {\"24\": 96}, \"45\": {\"45\": 128}, \"32\": {\"32\": 28}, \"27\": {\"27\": 148}, \"53\": {\"53\": 136}, \"8\": {\"8\": 160}, \"54\": {\"54\": 108}, \"50\": {\"50\": 133, \"3\": 1}, \"44\": {\"44\": 100}, \"5\": {\"5\": 120}, \"38\": {\"38\": 20}, \"19\": {\"19\": 132}, \"1\": {\"1\": 112}, \"30\": {\"30\": 144}, \"15\": {\"15\": 144}, \"23\": {\"23\": 146}, \"35\": {\"35\": 32}, \"22\": {\"22\": 128}, \"40\": {\"40\": 140}, \"46\": {\"46\": 126}, \"3\": {\"3\": 92}, \"48\": {\"48\": 148}, \"52\": {\"52\": 124}, \"2\": {\"2\": 32}, \"26\": {\"26\": 24}, \"17\": {\"17\": 104}, \"55\": {\"55\": 144}, \"51\": {\"51\": 122}, \"42\": {\"42\": 36}, \"41\": {\"41\": 20}, \"31\": {\"31\": 28}, \"16\": {\"16\": 138}, \"36\": {\"36\": 116}, \"49\": {\"49\": 24}, \"0\": {\"0\": 48}, \"18\": {\"18\": 48}, \"25\": {\"25\": 146}, \"9\": {\"9\": 122}, \"47\": {\"47\": 132}, \"7\": {\"7\": 36}, \"37\": {\"37\": 36}, \"13\": {\"13\": 116}, \"14\": {\"14\": 20, \"56\": 1, \"48\": 3}, \"34\": {\"34\": 28}, \"57\": {\"57\": 140}, \"11\": {\"11\": 138}, \"39\": {\"39\": 28}, \"12\": {\"12\": 92}, \"28\": {\"28\": 28}, \"29\": {\"29\": 128}, \"43\": {\"43\": 140}}, \"W_2\": {\"56\": {\"56\": 12}, \"12\": {\"12\": 84, \"94\": 2, \"78\": 1, \"70\": 1}, \"15\": {\"15\": 113, \"26\": 1, \"44\": 1, \"3\": 1}, \"26\": {\"26\": 128, \"24\": 2, \"21\": 1, \"71\": 1}, \"82\": {\"82\": 36}, \"9\": {\"9\": 32}, \"49\": {\"49\": 23, \"98\": 1}, \"55\": {\"55\": 16}, \"102\": {\"102\": 124}, \"85\": {\"85\": 32}, \"73\": {\"73\": 28}, \"47\": {\"47\": 9, \"15\": 1, \"84\": 1, \"71\": 1}, \"20\": {\"20\": 15, \"88\": 1}, \"117\": {\"117\": 111, \"87\": 1, \"0\": 1, \"26\": 1, \"21\": 1, \"70\": 1}, \"122\": {\"122\": 133, \"21\": 1, \"7\": 1, \"71\": 1, \"70\": 1, \"39\": 1, \"36\": 2}, \"113\": {\"113\": 70, \"90\": 1, \"121\": 1}, \"87\": {\"94\": 1, \"87\": 102, \"126\": 1, \"69\": 2, \"88\": 1, \"21\": 1, \"24\": 1, \"26\": 1, \"43\": 1, \"127\": 1}, \"21\": {\"21\": 48}, \"106\": {\"106\": 115, \"12\": 1, \"70\": 1, \"62\": 1, \"21\": 1, \"127\": 1}, \"3\": {\"3\": 133, \"18\": 1, \"7\": 1, \"26\": 1}, \"126\": {\"126\": 120}, \"41\": {\"41\": 19, \"65\": 1}, \"76\": {\"76\": 16}, \"60\": {\"60\": 27, \"12\": 1}, \"94\": {\"94\": 58, \"88\": 1, \"18\": 1, \"24\": 1, \"27\": 1, \"36\": 2}, \"50\": {\"50\": 16}, \"97\": {\"97\": 19, \"12\": 1}, \"115\": {\"115\": 12}, \"38\": {\"38\": 16}, \"43\": {\"43\": 114, \"71\": 1, \"94\": 1, \"106\": 1, \"113\": 1, \"5\": 1, \"87\": 3, \"78\": 1, \"109\": 1}, \"67\": {\"67\": 15, \"63\": 1}, \"18\": {\"18\": 122, \"21\": 1, \"36\": 1, \"27\": 1, \"62\": 1, \"94\": 1, \"88\": 1}, \"23\": {\"23\": 39, \"60\": 1, \"122\": 3, \"38\": 1}, \"63\": {\"63\": 20}, \"127\": {\"127\": 119, \"36\": 1, \"8\": 1, \"121\": 1, \"26\": 1, \"88\": 1}, \"72\": {\"72\": 26, \"27\": 1, \"117\": 1}, \"128\": {\"128\": 21, \"52\": 1, \"54\": 1, \"47\": 1}, \"7\": {\"7\": 124, \"88\": 1, \"26\": 1, \"127\": 1, \"33\": 1}, \"108\": {\"108\": 134}, \"16\": {\"16\": 103, \"88\": 2, \"93\": 2, \"115\": 1, \"84\": 1, \"59\": 1, \"77\": 1, \"21\": 2, \"70\": 1}, \"29\": {\"29\": 32}, \"61\": {\"61\": 19, \"27\": 1}, \"104\": {\"104\": 19, \"86\": 1}, \"120\": {\"120\": 20}, \"124\": {\"124\": 123, \"82\": 1}, \"34\": {\"34\": 31, \"45\": 1}, \"84\": {\"84\": 88, \"75\": 1, \"18\": 1, \"109\": 2}, \"103\": {\"103\": 16}, \"100\": {\"100\": 16}, \"40\": {\"40\": 129, \"11\": 1, \"33\": 2, \"21\": 2, \"113\": 1, \"109\": 1, \"95\": 1, \"39\": 2, \"36\": 1}, \"35\": {\"35\": 12}, \"96\": {\"96\": 20}, \"101\": {\"101\": 119, \"98\": 1}, \"71\": {\"71\": 95, \"107\": 1, \"0\": 1, \"108\": 1, \"62\": 1, \"105\": 1}, \"81\": {\"81\": 22, \"65\": 1, \"77\": 1}, \"74\": {\"74\": 14, \"36\": 1, \"18\": 1}, \"119\": {\"119\": 19, \"116\": 1}, \"5\": {\"5\": 109, \"106\": 1, \"109\": 1, \"18\": 1}, \"68\": {\"68\": 16}, \"37\": {\"35\": 1, \"37\": 14, \"124\": 1}, \"58\": {\"58\": 20}, \"109\": {\"109\": 92, \"78\": 1, \"39\": 3, \"18\": 1, \"118\": 1, \"94\": 1, \"26\": 1}, \"107\": {\"107\": 58, \"117\": 1, \"36\": 1, \"3\": 1, \"18\": 1, \"56\": 2}, \"13\": {\"13\": 13, \"18\": 1, \"118\": 1, \"87\": 1}, \"52\": {\"52\": 19, \"112\": 1}, \"77\": {\"77\": 13, \"22\": 1, \"91\": 2}, \"95\": {\"95\": 36}, \"44\": {\"44\": 100}, \"88\": {\"88\": 119, \"3\": 1, \"70\": 1, \"109\": 1}, \"91\": {\"91\": 26, \"5\": 1, \"77\": 1}, \"93\": {\"93\": 134, \"21\": 1, \"16\": 2, \"36\": 1}, \"8\": {\"8\": 121, \"26\": 2, \"18\": 1}, \"1\": {\"1\": 111, \"24\": 1, \"18\": 1, \"39\": 1}, \"45\": {\"45\": 15, \"21\": 1}, \"111\": {\"111\": 124, \"62\": 1, \"21\": 1}, \"116\": {\"116\": 28}, \"48\": {\"48\": 20}, \"57\": {\"57\": 18, \"68\": 1, \"88\": 1}, \"10\": {\"10\": 58, \"12\": 1, \"26\": 1}, \"129\": {\"129\": 32}, \"98\": {\"98\": 115, \"26\": 1, \"18\": 1, \"94\": 1}, \"65\": {\"65\": 19, \"71\": 1}, \"6\": {\"6\": 32}, \"75\": {\"75\": 16}, \"14\": {\"14\": 46, \"51\": 1, \"0\": 1}, \"30\": {\"30\": 105, \"109\": 1, \"88\": 1, \"93\": 1, \"24\": 1, \"59\": 2, \"39\": 1}, \"83\": {\"83\": 40}, \"69\": {\"69\": 122, \"109\": 1, \"7\": 1, \"72\": 2, \"26\": 1, \"88\": 1}, \"125\": {\"125\": 145, \"98\": 1}, \"31\": {\"31\": 16, \"81\": 1, \"102\": 1, \"72\": 1, \"89\": 1}, \"118\": {\"118\": 67, \"43\": 1}, \"53\": {\"53\": 16}, \"54\": {\"54\": 18, \"59\": 1, \"103\": 1}, \"92\": {\"92\": 28}, \"19\": {\"19\": 28}, \"27\": {\"27\": 63, \"77\": 2, \"36\": 3}, \"17\": {\"17\": 14, \"21\": 1, \"106\": 1}, \"4\": {\"4\": 87, \"36\": 1}, \"36\": {\"27\": 2, \"36\": 120, \"94\": 1, \"3\": 2, \"117\": 1, \"127\": 1, \"43\": 1}, \"90\": {\"90\": 134, \"2\": 1, \"117\": 1}, \"64\": {\"64\": 15, \"24\": 1}, \"66\": {\"66\": 20}, \"46\": {\"46\": 14, \"16\": 1, \"24\": 1}, \"86\": {\"86\": 32}, \"114\": {\"114\": 108, \"71\": 1, \"18\": 1}, \"32\": {\"74\": 1, \"32\": 32, \"75\": 1, \"34\": 1, \"88\": 1}, \"78\": {\"78\": 47, \"109\": 1}, \"33\": {\"33\": 136, \"93\": 1, \"3\": 1}, \"70\": {\"70\": 112, \"116\": 1, \"88\": 5, \"18\": 1, \"109\": 2, \"24\": 1, \"16\": 1, \"1\": 1}, \"0\": {\"0\": 113, \"12\": 1, \"117\": 1, \"69\": 1}, \"110\": {\"110\": 38, \"70\": 1, \"51\": 1}, \"2\": {\"2\": 23, \"117\": 1, \"80\": 1, \"46\": 2, \"42\": 1, \"116\": 1, \"67\": 1, \"55\": 1, \"81\": 1}, \"28\": {\"28\": 16, \"110\": 1, \"91\": 2, \"62\": 1}, \"51\": {\"51\": 18, \"75\": 1, \"9\": 1}, \"79\": {\"79\": 16}, \"42\": {\"42\": 28}, \"112\": {\"112\": 14, \"73\": 1, \"85\": 1}, \"89\": {\"89\": 34, \"92\": 2}, \"59\": {\"59\": 16}, \"105\": {\"105\": 126, \"24\": 1, \"62\": 1}, \"121\": {\"38\": 2, \"121\": 30, \"90\": 1, \"36\": 1, \"116\": 1, \"45\": 1}, \"11\": {\"11\": 75, \"93\": 1, \"7\": 1, \"88\": 1, \"108\": 1, \"94\": 1}, \"99\": {\"99\": 30, \"12\": 1, \"33\": 1}, \"25\": {\"25\": 16}, \"62\": {\"62\": 122, \"94\": 1, \"113\": 2, \"24\": 2, \"127\": 1}, \"123\": {\"123\": 16}, \"24\": {\"24\": 108, \"12\": 1, \"71\": 1, \"36\": 1, \"109\": 1}, \"80\": {\"80\": 16}, \"39\": {\"39\": 87, \"117\": 1, \"36\": 1, \"109\": 7, \"24\": 1, \"88\": 2, \"26\": 1}, \"22\": {\"22\": 19, \"118\": 1}}, \"C_5\": {\"12\": {\"12\": 96}, \"8\": {\"8\": 142}, \"29\": {\"29\": 132}, \"57\": {\"57\": 126}, \"38\": {\"38\": 32}, \"23\": {\"23\": 124}, \"56\": {\"56\": 138}, \"49\": {\"49\": 36}, \"4\": {\"4\": 100}, \"48\": {\"48\": 136}, \"21\": {\"21\": 144}, \"30\": {\"30\": 128}, \"1\": {\"1\": 148}, \"34\": {\"34\": 36}, \"35\": {\"35\": 36}, \"55\": {\"55\": 152}, \"5\": {\"5\": 122}, \"52\": {\"52\": 126}, \"6\": {\"6\": 128}, \"36\": {\"36\": 92}, \"41\": {\"41\": 28}, \"3\": {\"3\": 100}, \"28\": {\"28\": 32}, \"18\": {\"18\": 64}, \"25\": {\"25\": 136}, \"47\": {\"47\": 100}, \"13\": {\"13\": 160}, \"11\": {\"11\": 144}, \"53\": {\"53\": 144}, \"33\": {\"33\": 32}, \"46\": {\"46\": 148}, \"50\": {\"50\": 148}, \"10\": {\"10\": 68}, \"15\": {\"15\": 138}, \"44\": {\"44\": 140}, \"2\": {\"2\": 28}, \"7\": {\"7\": 32}, \"43\": {\"43\": 138}, \"32\": {\"32\": 32}, \"0\": {\"0\": 124}, \"39\": {\"39\": 20}, \"26\": {\"26\": 24}, \"27\": {\"27\": 112}, \"54\": {\"54\": 112}, \"17\": {\"17\": 116}, \"14\": {\"14\": 34, \"1\": 1, \"43\": 2, \"48\": 2, \"29\": 1, \"47\": 4}, \"16\": {\"16\": 148}, \"9\": {\"9\": 148}, \"19\": {\"19\": 152}, \"20\": {\"20\": 138}, \"37\": {\"37\": 24}, \"24\": {\"24\": 80}, \"40\": {\"40\": 122}, \"45\": {\"45\": 124}, \"22\": {\"22\": 28}, \"42\": {\"42\": 38, \"53\": 1, \"2\": 1}, \"51\": {\"51\": 118}, \"31\": {\"31\": 36}}, \"W_4\": {\"32\": {\"32\": 25, \"95\": 1, \"66\": 1, \"82\": 1}, \"22\": {\"22\": 15, \"88\": 1}, \"69\": {\"69\": 113, \"122\": 1, \"24\": 2, \"113\": 1, \"36\": 1, \"70\": 1, \"126\": 1}, \"65\": {\"65\": 12}, \"91\": {\"91\": 22, \"77\": 1, \"42\": 1}, \"63\": {\"63\": 16}, \"127\": {\"3\": 2, \"127\": 105, \"118\": 1}, \"11\": {\"11\": 136, \"36\": 1, \"81\": 1}, \"12\": {\"12\": 93, \"78\": 1, \"3\": 2, \"106\": 1, \"5\": 1, \"105\": 1, \"26\": 1}, \"111\": {\"111\": 124, \"68\": 2, \"3\": 2}, \"53\": {\"53\": 15, \"121\": 1}, \"73\": {\"73\": 20, \"51\": 1, \"112\": 2, \"81\": 1}, \"3\": {\"3\": 132, \"21\": 1, \"71\": 1, \"49\": 1, \"101\": 1}, \"83\": {\"83\": 27, \"19\": 1}, \"88\": {\"88\": 129, \"70\": 1}, \"87\": {\"87\": 131, \"71\": 1}, \"2\": {\"2\": 27, \"116\": 1}, \"86\": {\"86\": 28}, \"16\": {\"16\": 119, \"21\": 1, \"3\": 1, \"127\": 1}, \"21\": {\"21\": 36, \"88\": 1, \"62\": 1, \"26\": 1, \"51\": 1}, \"96\": {\"96\": 17, \"58\": 1, \"110\": 1, \"108\": 1}, \"100\": {\"100\": 19, \"53\": 1}, \"7\": {\"7\": 118, \"71\": 1, \"16\": 1}, \"75\": {\"75\": 15, \"21\": 1}, \"10\": {\"10\": 115, \"108\": 1, \"5\": 1, \"24\": 4, \"1\": 1, \"36\": 1, \"88\": 1}, \"43\": {\"43\": 116, \"87\": 1, \"71\": 1, \"118\": 1, \"14\": 1}, \"92\": {\"92\": 26, \"67\": 1, \"124\": 1}, \"62\": {\"62\": 58, \"88\": 1, \"84\": 1}, \"31\": {\"31\": 15, \"45\": 1}, \"0\": {\"0\": 112, \"113\": 1, \"122\": 1}, \"45\": {\"45\": 16}, \"85\": {\"85\": 27, \"54\": 1}, \"119\": {\"119\": 16}, \"46\": {\"46\": 20}, \"71\": {\"71\": 103, \"109\": 1}, \"8\": {\"8\": 130, \"16\": 1, \"118\": 1, \"36\": 1, \"71\": 1}, \"118\": {\"118\": 106, \"90\": 1, \"39\": 1, \"18\": 1, \"101\": 1, \"15\": 1, \"16\": 1}, \"1\": {\"1\": 99, \"34\": 1, \"108\": 1, \"126\": 1, \"16\": 1, \"18\": 1, \"21\": 1, \"71\": 2, \"15\": 1}, \"38\": {\"38\": 15, \"118\": 1}, \"30\": {\"30\": 72, \"24\": 1, \"51\": 1, \"87\": 1, \"71\": 1}, \"66\": {\"66\": 14, \"67\": 1, \"116\": 1}, \"9\": {\"9\": 27, \"129\": 1}, \"5\": {\"5\": 135, \"97\": 1}, \"24\": {\"24\": 109, \"97\": 2, \"71\": 1, \"10\": 6, \"3\": 1, \"118\": 1}, \"97\": {\"97\": 19, \"24\": 1}, \"67\": {\"67\": 11, \"92\": 1, \"48\": 1, \"123\": 1, \"2\": 1, \"42\": 1}, \"19\": {\"19\": 26, \"48\": 1, \"119\": 1}, \"77\": {\"77\": 12}, \"26\": {\"26\": 116, \"78\": 1, \"71\": 1}, \"115\": {\"97\": 1, \"115\": 14, \"63\": 1}, \"50\": {\"50\": 16}, \"120\": {\"120\": 19, \"37\": 1}, \"102\": {\"102\": 127, \"118\": 1}, \"29\": {\"29\": 32}, \"44\": {\"44\": 64}, \"124\": {\"124\": 117, \"103\": 1}, \"78\": {\"78\": 28, \"118\": 1, \"21\": 2, \"36\": 1, \"71\": 1, \"84\": 1, \"111\": 1, \"88\": 1}, \"104\": {\"104\": 16}, \"105\": {\"105\": 92, \"40\": 1, \"122\": 1, \"84\": 2, \"78\": 1, \"87\": 1, \"101\": 1, \"36\": 1}, \"28\": {\"28\": 20}, \"37\": {\"37\": 16}, \"107\": {\"107\": 127, \"117\": 1, \"3\": 1, \"40\": 1, \"84\": 1, \"88\": 1}, \"6\": {\"6\": 24}, \"17\": {\"17\": 17, \"104\": 3}, \"57\": {\"57\": 16}, \"121\": {\"121\": 29, \"46\": 1, \"21\": 1, \"92\": 1}, \"58\": {\"58\": 16}, \"64\": {\"64\": 16}, \"82\": {\"82\": 32}, \"39\": {\"39\": 99, \"84\": 1}, \"110\": {\"110\": 115, \"96\": 1, \"61\": 1, \"16\": 1, \"39\": 1, \"21\": 1, \"70\": 1, \"0\": 1, \"8\": 1, \"88\": 1}, \"114\": {\"114\": 127, \"109\": 1}, \"20\": {\"20\": 16}, \"117\": {\"117\": 114}, \"18\": {\"18\": 119, \"88\": 1}, \"99\": {\"99\": 40}, \"23\": {\"23\": 8, \"122\": 1, \"118\": 2, \"78\": 1, \"72\": 1, \"51\": 1, \"7\": 1, \"70\": 1}, \"128\": {\"128\": 22, \"101\": 1, \"118\": 1}, \"60\": {\"60\": 32}, \"70\": {\"70\": 113, \"3\": 1, \"11\": 1, \"0\": 1, \"69\": 1, \"27\": 2, \"88\": 1}, \"122\": {\"122\": 80, \"126\": 1, \"18\": 1, \"109\": 1, \"43\": 1}, \"101\": {\"101\": 129, \"78\": 1, \"113\": 1, \"88\": 1}, \"33\": {\"33\": 129, \"67\": 1, \"116\": 1, \"98\": 1}, \"40\": {\"40\": 122, \"71\": 2, \"1\": 2, \"114\": 1, \"16\": 1, \"88\": 1, \"113\": 1}, \"41\": {\"41\": 13, \"43\": 1, \"129\": 1, \"21\": 1}, \"59\": {\"59\": 12}, \"4\": {\"4\": 94, \"39\": 2, \"71\": 2, \"62\": 1, \"86\": 2, \"26\": 1, \"3\": 1, \"88\": 1}, \"112\": {\"112\": 15, \"101\": 1}, \"36\": {\"36\": 126, \"1\": 1, \"3\": 1}, \"48\": {\"48\": 13, \"42\": 2, \"23\": 1}, \"126\": {\"122\": 1, \"126\": 113, \"10\": 1, \"101\": 1}, \"125\": {\"125\": 119, \"107\": 2, \"98\": 1}, \"84\": {\"84\": 117, \"21\": 1, \"88\": 4, \"118\": 2, \"3\": 1, \"126\": 1, \"1\": 1, \"101\": 1}, \"80\": {\"80\": 16}, \"49\": {\"49\": 32}, \"47\": {\"25\": 1, \"47\": 11}, \"95\": {\"95\": 32}, \"54\": {\"54\": 16}, \"25\": {\"25\": 16}, \"116\": {\"116\": 26, \"92\": 1, \"121\": 1}, \"74\": {\"74\": 16}, \"35\": {\"35\": 12}, \"15\": {\"15\": 125, \"0\": 1, \"118\": 1, \"88\": 1}, \"108\": {\"108\": 81, \"71\": 1, \"88\": 1, \"26\": 1, \"3\": 1, \"70\": 3, \"19\": 1, \"51\": 1, \"84\": 1, \"9\": 1}, \"34\": {\"34\": 31, \"103\": 1}, \"81\": {\"81\": 35, \"73\": 1}, \"93\": {\"93\": 128}, \"55\": {\"55\": 16}, \"27\": {\"27\": 94, \"122\": 2, \"108\": 1, \"109\": 1, \"3\": 2}, \"109\": {\"109\": 107, \"16\": 1, \"90\": 1, \"108\": 1}, \"106\": {\"106\": 108, \"8\": 1, \"16\": 1, \"12\": 1, \"127\": 1, \"118\": 1, \"62\": 1, \"3\": 1, \"24\": 1}, \"68\": {\"68\": 14, \"111\": 1, \"62\": 1}, \"76\": {\"18\": 1, \"76\": 14, \"78\": 1}, \"103\": {\"103\": 15, \"118\": 1}, \"42\": {\"42\": 27, \"79\": 1}, \"129\": {\"129\": 28}, \"94\": {\"94\": 81, \"39\": 1, \"3\": 2, \"21\": 1, \"118\": 2, \"109\": 1}, \"123\": {\"123\": 16}, \"61\": {\"61\": 16}, \"51\": {\"39\": 1, \"51\": 6, \"71\": 2, \"5\": 1, \"21\": 1, \"55\": 1, \"23\": 1, \"98\": 1, \"12\": 2}, \"98\": {\"98\": 115, \"85\": 1, \"121\": 1, \"90\": 1}, \"56\": {\"56\": 11, \"22\": 1}, \"14\": {\"14\": 109, \"16\": 1, \"23\": 1, \"3\": 1}, \"90\": {\"90\": 138}, \"13\": {\"13\": 16}, \"89\": {\"89\": 31, \"5\": 1}, \"52\": {\"52\": 19, \"102\": 1}, \"72\": {\"72\": 31, \"116\": 1}, \"79\": {\"79\": 16}, \"113\": {\"113\": 122, \"70\": 1, \"108\": 1, \"16\": 2}}, \"C_1\": {\"27\": {\"27\": 142}, \"2\": {\"2\": 36}, \"33\": {\"33\": 32}, \"45\": {\"45\": 156}, \"38\": {\"38\": 23, \"36\": 1}, \"4\": {\"4\": 132}, \"31\": {\"31\": 28}, \"55\": {\"55\": 140}, \"32\": {\"32\": 32}, \"57\": {\"57\": 140}, \"14\": {\"14\": 20, \"30\": 1, \"8\": 3}, \"16\": {\"16\": 140}, \"34\": {\"34\": 24}, \"56\": {\"56\": 126}, \"24\": {\"24\": 108}, \"30\": {\"30\": 112}, \"17\": {\"17\": 64}, \"13\": {\"13\": 138}, \"39\": {\"39\": 28}, \"50\": {\"50\": 146}, \"20\": {\"20\": 140}, \"41\": {\"41\": 24}, \"53\": {\"53\": 126}, \"48\": {\"48\": 142}, \"36\": {\"36\": 64}, \"8\": {\"8\": 140}, \"15\": {\"15\": 132}, \"40\": {\"40\": 156}, \"37\": {\"37\": 32}, \"21\": {\"21\": 120}, \"35\": {\"35\": 36}, \"49\": {\"49\": 32}, \"26\": {\"26\": 24}, \"28\": {\"28\": 28}, \"12\": {\"12\": 116}, \"5\": {\"5\": 152}, \"29\": {\"29\": 140}, \"47\": {\"47\": 140}, \"10\": {\"10\": 96}, \"18\": {\"18\": 71, \"50\": 1}, \"9\": {\"9\": 126}, \"3\": {\"3\": 140}, \"52\": {\"52\": 132}, \"25\": {\"25\": 136}, \"19\": {\"19\": 156}, \"11\": {\"11\": 136}, \"7\": {\"7\": 28}, \"23\": {\"23\": 136}, \"44\": {\"44\": 131, \"56\": 1}, \"42\": {\"42\": 40}, \"54\": {\"54\": 104}, \"1\": {\"1\": 100}, \"46\": {\"46\": 128}, \"6\": {\"6\": 96}, \"43\": {\"43\": 144}, \"51\": {\"51\": 142}, \"22\": {\"22\": 136}, \"0\": {\"0\": 128}}, \"C_4\": {\"32\": {\"32\": 24}, \"2\": {\"2\": 36}, \"41\": {\"41\": 36}, \"11\": {\"11\": 101, \"15\": 1}, \"57\": {\"57\": 100}, \"6\": {\"6\": 112}, \"23\": {\"23\": 136}, \"52\": {\"52\": 116}, \"38\": {\"38\": 40}, \"50\": {\"50\": 132}, \"55\": {\"55\": 152}, \"46\": {\"46\": 154}, \"37\": {\"37\": 24}, \"20\": {\"20\": 118}, \"49\": {\"49\": 20}, \"45\": {\"45\": 96}, \"54\": {\"54\": 108}, \"3\": {\"3\": 123, \"50\": 1}, \"13\": {\"13\": 152}, \"18\": {\"18\": 108}, \"21\": {\"21\": 126}, \"43\": {\"43\": 144}, \"47\": {\"47\": 120}, \"4\": {\"4\": 132}, \"12\": {\"12\": 92}, \"9\": {\"9\": 127, \"27\": 1}, \"7\": {\"7\": 24}, \"56\": {\"56\": 112}, \"28\": {\"28\": 32}, \"44\": {\"44\": 132}, \"24\": {\"24\": 56}, \"33\": {\"33\": 36}, \"35\": {\"35\": 40}, \"51\": {\"51\": 138}, \"39\": {\"39\": 20}, \"36\": {\"36\": 91, \"23\": 1}, \"19\": {\"19\": 140}, \"0\": {\"0\": 80}, \"15\": {\"15\": 134, \"11\": 2}, \"29\": {\"29\": 124}, \"30\": {\"30\": 44}, \"1\": {\"1\": 40}, \"22\": {\"22\": 128}, \"40\": {\"40\": 146}, \"8\": {\"8\": 128}, \"53\": {\"53\": 138}, \"34\": {\"34\": 24}, \"10\": {\"10\": 122}, \"31\": {\"31\": 28}, \"17\": {\"17\": 80}, \"16\": {\"16\": 96}, \"42\": {\"42\": 32}, \"27\": {\"27\": 142}, \"14\": {\"14\": 16}, \"25\": {\"25\": 122}, \"48\": {\"48\": 132}, \"26\": {\"26\": 24}, \"5\": {\"5\": 108}}, \"C_3\": {\"14\": {\"14\": 38, \"55\": 1, \"56\": 1}, \"18\": {\"18\": 84}, \"30\": {\"30\": 120}, \"16\": {\"16\": 156}, \"1\": {\"1\": 100}, \"20\": {\"20\": 132}, \"7\": {\"7\": 36}, \"52\": {\"52\": 130}, \"9\": {\"9\": 140}, \"23\": {\"23\": 144}, \"55\": {\"55\": 164}, \"29\": {\"29\": 126}, \"56\": {\"56\": 134}, \"3\": {\"3\": 122, \"50\": 1, \"6\": 1}, \"42\": {\"42\": 28}, \"6\": {\"6\": 88}, \"5\": {\"5\": 116}, \"27\": {\"27\": 144}, \"47\": {\"47\": 92}, \"39\": {\"39\": 16}, \"34\": {\"34\": 32}, \"4\": {\"4\": 126}, \"24\": {\"24\": 104}, \"46\": {\"46\": 118}, \"50\": {\"50\": 126}, \"38\": {\"38\": 28}, \"54\": {\"54\": 100}, \"35\": {\"35\": 28}, \"2\": {\"2\": 32}, \"41\": {\"41\": 28}, \"57\": {\"57\": 118}, \"25\": {\"25\": 150}, \"48\": {\"48\": 116}, \"33\": {\"33\": 28}, \"45\": {\"45\": 59, \"6\": 1}, \"13\": {\"13\": 126}, \"36\": {\"36\": 100}, \"43\": {\"43\": 132}, \"28\": {\"28\": 28}, \"0\": {\"0\": 124}, \"12\": {\"12\": 92}, \"31\": {\"31\": 28}, \"40\": {\"40\": 116}, \"44\": {\"44\": 88}, \"32\": {\"32\": 28}, \"26\": {\"26\": 24}, \"8\": {\"8\": 116}, \"10\": {\"10\": 64}, \"15\": {\"15\": 142}, \"21\": {\"21\": 128}, \"37\": {\"37\": 28}, \"17\": {\"17\": 108}, \"51\": {\"51\": 124}, \"53\": {\"53\": 144}, \"19\": {\"19\": 136}, \"49\": {\"49\": 20}, \"11\": {\"11\": 138}, \"22\": {\"22\": 130}}, \"W_1\": {\"68\": {\"68\": 16}, \"7\": {\"7\": 142}, \"125\": {\"125\": 118}, \"111\": {\"111\": 115, \"68\": 2, \"116\": 1, \"26\": 1, \"21\": 1}, \"101\": {\"101\": 123, \"122\": 1}, \"11\": {\"11\": 136}, \"76\": {\"76\": 15, \"41\": 1}, \"5\": {\"5\": 86, \"111\": 1, \"16\": 1}, \"123\": {\"123\": 16}, \"85\": {\"85\": 31, \"92\": 1}, \"34\": {\"34\": 27, \"83\": 1, \"14\": 4}, \"42\": {\"42\": 26, \"91\": 2}, \"81\": {\"81\": 28}, \"127\": {\"127\": 106, \"71\": 1, \"88\": 1}, \"60\": {\"60\": 15, \"34\": 1}, \"77\": {\"77\": 16}, \"65\": {\"65\": 11, \"116\": 1}, \"44\": {\"44\": 76}, \"100\": {\"100\": 16}, \"80\": {\"80\": 16}, \"83\": {\"83\": 26, \"88\": 1, \"0\": 1}, \"51\": {\"51\": 16}, \"93\": {\"93\": 131, \"69\": 1, \"43\": 1, \"87\": 1}, \"31\": {\"31\": 16}, \"33\": {\"33\": 124, \"2\": 1, \"45\": 1}, \"113\": {\"113\": 121, \"69\": 1, \"16\": 1, \"43\": 1}, \"126\": {\"126\": 122, \"118\": 1, \"26\": 1}, \"10\": {\"10\": 120}, \"21\": {\"21\": 39, \"118\": 1}, \"90\": {\"90\": 131, \"124\": 1}, \"38\": {\"38\": 16}, \"96\": {\"96\": 19, \"127\": 1}, \"6\": {\"6\": 32}, \"121\": {\"121\": 31, \"95\": 1}, \"37\": {\"37\": 16}, \"88\": {\"88\": 126}, \"54\": {\"54\": 16}, \"92\": {\"92\": 28}, \"19\": {\"19\": 27, \"34\": 1}, \"47\": {\"47\": 12}, \"94\": {\"94\": 89, \"36\": 1, \"16\": 1, \"113\": 1}, \"66\": {\"66\": 16}, \"73\": {\"73\": 19, \"43\": 1}, \"75\": {\"75\": 16}, \"28\": {\"28\": 17, \"50\": 1, \"113\": 1, \"116\": 1}, \"20\": {\"20\": 16}, \"78\": {\"21\": 1, \"78\": 15}, \"71\": {\"71\": 103, \"21\": 1}, \"13\": {\"13\": 16}, \"118\": {\"118\": 84}, \"72\": {\"72\": 32}, \"24\": {\"24\": 87, \"10\": 1, \"109\": 1, \"12\": 1, \"108\": 2}, \"41\": {\"41\": 16}, \"102\": {\"102\": 119, \"108\": 1}, \"8\": {\"71\": 1, \"8\": 137}, \"39\": {\"39\": 93, \"16\": 1, \"69\": 1, \"110\": 1}, \"97\": {\"97\": 18, \"24\": 1, \"2\": 1}, \"48\": {\"48\": 12}, \"57\": {\"57\": 12}, \"29\": {\"29\": 28}, \"119\": {\"119\": 16}, \"89\": {\"89\": 36}, \"40\": {\"40\": 140}, \"22\": {\"66\": 1, \"22\": 14, \"45\": 1}, \"53\": {\"53\": 18, \"24\": 1, \"109\": 1}, \"108\": {\"108\": 124}, \"23\": {\"23\": 20, \"127\": 1, \"31\": 1, \"110\": 1, \"30\": 1}, \"109\": {\"109\": 113, \"70\": 3}, \"112\": {\"112\": 16}, \"35\": {\"35\": 12}, \"3\": {\"3\": 84, \"117\": 1, \"122\": 1, \"11\": 1, \"84\": 1}, \"103\": {\"103\": 14, \"127\": 1, \"83\": 1}, \"4\": {\"4\": 98, \"109\": 1, \"25\": 1}, \"87\": {\"87\": 107, \"69\": 1}, \"25\": {\"127\": 1, \"100\": 1, \"25\": 13, \"73\": 1}, \"15\": {\"15\": 101, \"69\": 1, \"21\": 1, \"71\": 1}, \"95\": {\"95\": 36}, \"120\": {\"120\": 18, \"41\": 1, \"71\": 1}, \"59\": {\"59\": 11, \"83\": 1}, \"49\": {\"49\": 19, \"85\": 1}, \"52\": {\"52\": 18, \"70\": 1, \"24\": 1}, \"45\": {\"45\": 8, \"65\": 1, \"46\": 1, \"59\": 1, \"122\": 1}, \"107\": {\"107\": 124}, \"106\": {\"106\": 133, \"10\": 1}, \"18\": {\"18\": 124}, \"64\": {\"64\": 16}, \"86\": {\"86\": 35, \"127\": 1}, \"14\": {\"14\": 96}, \"115\": {\"115\": 12}, \"0\": {\"0\": 84}, \"104\": {\"104\": 16}, \"61\": {\"61\": 12}, \"129\": {\"129\": 26, \"46\": 2}, \"122\": {\"122\": 86, \"36\": 2}, \"67\": {\"67\": 14, \"21\": 1, \"62\": 1}, \"128\": {\"128\": 23, \"72\": 1}, \"26\": {\"26\": 131, \"105\": 1, \"71\": 1, \"12\": 1}, \"117\": {\"117\": 136}, \"91\": {\"91\": 26, \"98\": 1, \"58\": 1}, \"12\": {\"12\": 99, \"70\": 2, \"113\": 1, \"71\": 1, \"88\": 1}, \"50\": {\"50\": 16}, \"99\": {\"99\": 24}, \"110\": {\"110\": 104}, \"43\": {\"43\": 112, \"70\": 1, \"36\": 1, \"94\": 1, \"69\": 1}, \"82\": {\"82\": 36}, \"1\": {\"1\": 96}, \"46\": {\"46\": 12}, \"16\": {\"16\": 106, \"94\": 1, \"26\": 1}, \"74\": {\"74\": 16}, \"32\": {\"32\": 32}, \"62\": {\"62\": 118, \"70\": 1, \"11\": 1}, \"27\": {\"27\": 90, \"69\": 1, \"21\": 1}, \"17\": {\"17\": 16}, \"36\": {\"36\": 133, \"118\": 1}, \"2\": {\"2\": 30, \"129\": 2}, \"70\": {\"70\": 125, \"36\": 1, \"108\": 1, \"69\": 1}, \"9\": {\"9\": 32}, \"114\": {\"114\": 130}, \"79\": {\"79\": 12}, \"56\": {\"56\": 11, \"112\": 1}, \"124\": {\"124\": 102}, \"84\": {\"84\": 134}, \"69\": {\"69\": 107, \"118\": 1}, \"58\": {\"58\": 11, \"111\": 1}, \"30\": {\"30\": 52}, \"55\": {\"55\": 12}, \"105\": {\"105\": 84}, \"63\": {\"63\": 16}, \"98\": {\"98\": 107, \"71\": 1}, \"116\": {\"116\": 29, \"21\": 1, \"28\": 1, \"129\": 1}}, \"W_3\": {\"76\": {\"76\": 16}, \"6\": {\"6\": 31, \"3\": 1}, \"108\": {\"108\": 106}, \"29\": {\"29\": 29, \"116\": 1, \"88\": 1, \"46\": 1}, \"83\": {\"83\": 24}, \"18\": {\"18\": 126, \"88\": 1, \"78\": 1}, \"54\": {\"54\": 16}, \"15\": {\"15\": 104}, \"100\": {\"100\": 16}, \"90\": {\"90\": 134, \"86\": 1, \"94\": 1}, \"26\": {\"26\": 129, \"18\": 1, \"118\": 1, \"90\": 1}, \"115\": {\"115\": 16}, \"94\": {\"94\": 83, \"30\": 1}, \"46\": {\"46\": 16}, \"121\": {\"121\": 32}, \"109\": {\"109\": 126, \"118\": 2}, \"101\": {\"101\": 51, \"88\": 1}, \"99\": {\"99\": 36}, \"8\": {\"8\": 126, \"5\": 1, \"27\": 1}, \"102\": {\"102\": 104}, \"122\": {\"54\": 1, \"122\": 55, \"2\": 1, \"71\": 2, \"84\": 1}, \"36\": {\"36\": 115, \"124\": 1}, \"113\": {\"113\": 119, \"7\": 1}, \"123\": {\"123\": 16}, \"120\": {\"120\": 20}, \"125\": {\"125\": 107, \"124\": 1}, \"89\": {\"89\": 27, \"73\": 1}, \"9\": {\"9\": 32}, \"31\": {\"31\": 20}, \"62\": {\"62\": 112, \"94\": 1, \"110\": 1}, \"49\": {\"49\": 23, \"29\": 1}, \"23\": {\"23\": 30, \"30\": 1, \"60\": 1}, \"55\": {\"55\": 16}, \"128\": {\"128\": 32}, \"71\": {\"71\": 67, \"122\": 1}, \"51\": {\"51\": 16}, \"7\": {\"7\": 106}, \"117\": {\"117\": 104}, \"28\": {\"28\": 16}, \"127\": {\"127\": 127, \"17\": 1}, \"57\": {\"57\": 20}, \"78\": {\"78\": 15, \"54\": 1}, \"87\": {\"87\": 119, \"27\": 1}, \"40\": {\"40\": 126, \"26\": 1, \"69\": 1}, \"81\": {\"81\": 32}, \"2\": {\"2\": 28}, \"58\": {\"58\": 16}, \"68\": {\"68\": 13, \"86\": 2, \"62\": 1}, \"20\": {\"20\": 15, \"36\": 1}, \"35\": {\"35\": 12}, \"96\": {\"96\": 20}, \"84\": {\"84\": 108}, \"13\": {\"88\": 1, \"118\": 1, \"13\": 10, \"63\": 1, \"116\": 1, \"43\": 1, \"69\": 1}, \"64\": {\"64\": 20}, \"112\": {\"112\": 11, \"42\": 3, \"47\": 1, \"26\": 1}, \"103\": {\"103\": 16}, \"65\": {\"65\": 11, \"63\": 1}, \"118\": {\"118\": 100}, \"88\": {\"88\": 110, \"70\": 1, \"26\": 1}, \"85\": {\"85\": 36}, \"5\": {\"5\": 107, \"21\": 1, \"84\": 1, \"88\": 1, \"1\": 2}, \"93\": {\"93\": 137, \"90\": 1}, \"43\": {\"43\": 50, \"62\": 1, \"71\": 1, \"69\": 1, \"36\": 1, \"11\": 2}, \"67\": {\"67\": 15, \"3\": 1}, \"48\": {\"48\": 15, \"67\": 1}, \"73\": {\"73\": 38, \"34\": 1, \"62\": 1}, \"34\": {\"28\": 1, \"34\": 31}, \"91\": {\"91\": 23, \"68\": 1}, \"105\": {\"105\": 124}, \"10\": {\"10\": 105, \"5\": 1}, \"61\": {\"61\": 16}, \"74\": {\"74\": 15, \"19\": 1}, \"4\": {\"4\": 95, \"113\": 1}, \"37\": {\"37\": 16}, \"19\": {\"19\": 32}, \"44\": {\"44\": 72}, \"52\": {\"52\": 16}, \"92\": {\"92\": 32}, \"33\": {\"33\": 128}, \"45\": {\"45\": 16}, \"11\": {\"11\": 127, \"81\": 1}, \"129\": {\"129\": 32}, \"116\": {\"116\": 28}, \"75\": {\"75\": 16}, \"41\": {\"41\": 16}, \"21\": {\"21\": 45, \"121\": 1, \"101\": 1, \"70\": 1}, \"69\": {\"69\": 82, \"97\": 1, \"94\": 1}, \"16\": {\"16\": 107, \"3\": 1}, \"25\": {\"25\": 16}, \"12\": {\"12\": 103, \"88\": 1}, \"72\": {\"72\": 28}, \"0\": {\"0\": 115, \"71\": 1}, \"50\": {\"50\": 16}, \"107\": {\"107\": 140}, \"124\": {\"124\": 124}, \"53\": {\"53\": 18, \"85\": 1, \"127\": 1}, \"66\": {\"66\": 16}, \"47\": {\"47\": 12}, \"24\": {\"24\": 45, \"27\": 2, \"118\": 1}, \"95\": {\"95\": 31, \"25\": 1}, \"98\": {\"98\": 106}, \"63\": {\"63\": 16}, \"3\": {\"3\": 115, \"36\": 1}, \"14\": {\"14\": 80}, \"1\": {\"1\": 108}, \"38\": {\"38\": 16}, \"110\": {\"110\": 86, \"88\": 1, \"118\": 1, \"94\": 1, \"84\": 1, \"11\": 1, \"3\": 1}, \"17\": {\"109\": 1, \"17\": 10, \"95\": 2, \"2\": 1, \"41\": 2}, \"30\": {\"30\": 83, \"107\": 1}, \"56\": {\"56\": 12}, \"27\": {\"27\": 93, \"3\": 1, \"24\": 1, \"101\": 1}, \"104\": {\"104\": 16}, \"97\": {\"97\": 20}, \"42\": {\"42\": 27, \"88\": 1}, \"39\": {\"39\": 107, \"118\": 1}, \"70\": {\"70\": 68, \"71\": 1, \"88\": 2, \"21\": 1}, \"86\": {\"86\": 28}, \"119\": {\"119\": 16}, \"77\": {\"77\": 16}, \"59\": {\"59\": 12}, \"22\": {\"22\": 16}, \"79\": {\"79\": 12}, \"80\": {\"80\": 16}, \"111\": {\"111\": 130, \"49\": 1, \"114\": 1}, \"82\": {\"82\": 27, \"107\": 1}, \"126\": {\"126\": 122, \"69\": 1, \"94\": 1}, \"32\": {\"32\": 30, \"26\": 1, \"9\": 1}, \"106\": {\"106\": 98, \"94\": 1, \"26\": 1}, \"60\": {\"60\": 24, \"122\": 1, \"110\": 3}, \"114\": {\"114\": 106, \"84\": 1, \"62\": 1}}, \"O_8\": {\"13\": {\"13\": 64, \"10\": 58, \"1\": 32, \"7\": 37, \"5\": 29, \"6\": 18, \"11\": 2}, \"9\": {\"9\": 240}, \"15\": {\"12\": 99, \"15\": 107, \"2\": 33, \"3\": 1}, \"2\": {\"2\": 109, \"3\": 39, \"5\": 2, \"15\": 54, \"12\": 36}, \"3\": {\"3\": 231, \"9\": 1, \"2\": 8}, \"8\": {\"4\": 30, \"11\": 38, \"8\": 101, \"6\": 25, \"14\": 17, \"7\": 9, \"1\": 15, \"13\": 2, \"10\": 3}, \"5\": {\"7\": 13, \"1\": 33, \"13\": 48, \"10\": 65, \"5\": 58, \"4\": 5, \"11\": 8, \"6\": 7, \"15\": 1, \"12\": 1, \"8\": 1}, \"14\": {\"4\": 82, \"14\": 134, \"8\": 11, \"11\": 11, \"6\": 2}, \"1\": {\"1\": 71, \"13\": 27, \"11\": 37, \"6\": 23, \"10\": 29, \"7\": 24, \"5\": 22, \"4\": 3, \"8\": 4}, \"0\": {\"0\": 240}, \"10\": {\"10\": 58, \"7\": 27, \"13\": 58, \"6\": 23, \"5\": 42, \"11\": 6, \"1\": 21, \"4\": 4, \"8\": 1}, \"6\": {\"1\": 29, \"6\": 70, \"13\": 18, \"7\": 46, \"10\": 21, \"8\": 15, \"11\": 23, \"4\": 11, \"5\": 7}, \"11\": {\"13\": 8, \"6\": 32, \"11\": 63, \"8\": 29, \"10\": 13, \"1\": 49, \"4\": 17, \"5\": 9, \"7\": 18, \"14\": 2}, \"7\": {\"6\": 71, \"13\": 22, \"7\": 72, \"10\": 29, \"8\": 3, \"5\": 11, \"11\": 9, \"1\": 20, \"4\": 3}, \"4\": {\"14\": 56, \"8\": 36, \"6\": 22, \"4\": 88, \"10\": 3, \"11\": 26, \"7\": 3, \"1\": 3, \"5\": 2, \"13\": 1}, \"12\": {\"15\": 96, \"2\": 24, \"12\": 120}}, \"O_38\": {\"13\": {\"13\": 150, \"10\": 18, \"0\": 40, \"2\": 15, \"14\": 17}, \"12\": {\"12\": 215, \"7\": 1, \"5\": 6, \"8\": 16, \"9\": 1, \"15\": 1}, \"2\": {\"2\": 170, \"7\": 12, \"14\": 34, \"9\": 2, \"8\": 8, \"5\": 5, \"13\": 9}, \"9\": {\"9\": 152, \"5\": 41, \"8\": 38, \"7\": 7, \"2\": 2}, \"15\": {\"6\": 2, \"15\": 186, \"5\": 32, \"9\": 3, \"8\": 10, \"12\": 1, \"1\": 6}, \"5\": {\"15\": 30, \"8\": 73, \"7\": 23, \"9\": 40, \"5\": 67, \"12\": 5, \"14\": 1, \"2\": 1}, \"14\": {\"14\": 171, \"2\": 29, \"13\": 16, \"7\": 12, \"0\": 10, \"4\": 1, \"10\": 1}, \"0\": {\"7\": 24, \"13\": 38, \"0\": 87, \"4\": 8, \"10\": 54, \"14\": 9, \"3\": 13, \"8\": 1, \"2\": 6}, \"3\": {\"3\": 233, \"10\": 6, \"0\": 1}, \"1\": {\"1\": 145, \"6\": 95}, \"11\": {\"11\": 240}, \"7\": {\"7\": 175, \"0\": 13, \"14\": 14, \"2\": 17, \"9\": 5, \"4\": 2, \"8\": 6, \"5\": 6, \"13\": 2}, \"8\": {\"7\": 20, \"2\": 27, \"15\": 34, \"8\": 60, \"0\": 1, \"5\": 63, \"9\": 24, \"12\": 8, \"14\": 3}, \"4\": {\"4\": 216, \"0\": 10, \"10\": 12, \"7\": 1, \"14\": 1}, \"10\": {\"10\": 165, \"0\": 44, \"3\": 11, \"4\": 5, \"14\": 3, \"13\": 12}, \"6\": {\"6\": 166, \"1\": 74}}, \"O_26\": {\"10\": {\"14\": 55, \"0\": 37, \"10\": 67, \"5\": 9, \"6\": 32, \"15\": 31, \"1\": 6, \"11\": 1, \"2\": 2}, \"12\": {\"12\": 145, \"9\": 34, \"8\": 23, \"2\": 10, \"0\": 2, \"7\": 19, \"13\": 5, \"3\": 2}, \"1\": {\"14\": 32, \"1\": 109, \"6\": 49, \"5\": 13, \"10\": 16, \"15\": 20, \"0\": 1}, \"0\": {\"14\": 46, \"10\": 53, \"0\": 85, \"15\": 20, \"8\": 14, \"5\": 1, \"6\": 7, \"1\": 1, \"2\": 11, \"7\": 1, \"9\": 1}, \"15\": {\"10\": 33, \"6\": 51, \"0\": 21, \"5\": 32, \"14\": 31, \"1\": 15, \"15\": 53, \"8\": 1, \"11\": 3}, \"13\": {\"13\": 136, \"12\": 12, \"4\": 11, \"3\": 35, \"9\": 23, \"7\": 9, \"2\": 7, \"8\": 7}, \"8\": {\"2\": 44, \"7\": 52, \"8\": 78, \"0\": 8, \"12\": 14, \"3\": 13, \"9\": 27, \"13\": 2, \"10\": 1, \"15\": 1}, \"3\": {\"2\": 20, \"4\": 8, \"3\": 94, \"8\": 14, \"9\": 40, \"13\": 30, \"7\": 33, \"12\": 1}, \"11\": {\"11\": 190, \"5\": 24, \"1\": 4, \"6\": 16, \"15\": 5, \"10\": 1}, \"4\": {\"4\": 186, \"13\": 23, \"3\": 24, \"8\": 3, \"7\": 4}, \"6\": {\"15\": 56, \"10\": 33, \"6\": 65, \"5\": 41, \"14\": 22, \"1\": 14, \"11\": 2, \"0\": 7}, \"7\": {\"8\": 49, \"7\": 72, \"3\": 31, \"2\": 31, \"9\": 43, \"0\": 5, \"12\": 5, \"13\": 3, \"10\": 1}, \"14\": {\"1\": 21, \"10\": 66, \"15\": 34, \"5\": 6, \"14\": 57, \"0\": 34, \"6\": 21, \"11\": 1}, \"2\": {\"8\": 35, \"2\": 73, \"12\": 7, \"7\": 47, \"15\": 2, \"3\": 17, \"9\": 41, \"13\": 4, \"0\": 11, \"10\": 3}, \"5\": {\"15\": 56, \"5\": 99, \"6\": 37, \"10\": 18, \"11\": 6, \"1\": 16, \"0\": 2, \"14\": 6}, \"9\": {\"7\": 30, \"9\": 66, \"3\": 30, \"13\": 26, \"2\": 48, \"8\": 20, \"12\": 13, \"0\": 5, \"10\": 2}}, \"O_20\": {\"5\": {\"5\": 48, \"14\": 8, \"1\": 51, \"7\": 11, \"9\": 43, \"3\": 44, \"15\": 4, \"2\": 4, \"8\": 16, \"0\": 2, \"12\": 6, \"4\": 1, \"6\": 2}, \"15\": {\"15\": 55, \"13\": 18, \"9\": 16, \"1\": 22, \"2\": 38, \"12\": 40, \"4\": 15, \"7\": 17, \"6\": 2, \"5\": 12, \"14\": 2, \"10\": 1, \"3\": 2}, \"9\": {\"9\": 40, \"15\": 16, \"1\": 39, \"5\": 45, \"3\": 24, \"12\": 8, \"6\": 9, \"14\": 6, \"7\": 20, \"4\": 9, \"8\": 12, \"2\": 12}, \"7\": {\"5\": 19, \"6\": 30, \"12\": 36, \"9\": 29, \"7\": 33, \"3\": 7, \"2\": 28, \"4\": 16, \"1\": 19, \"14\": 3, \"15\": 15, \"8\": 2, \"10\": 1, \"13\": 2}, \"3\": {\"5\": 49, \"8\": 31, \"3\": 51, \"1\": 28, \"7\": 13, \"14\": 18, \"6\": 4, \"9\": 34, \"4\": 2, \"15\": 2, \"12\": 4, \"0\": 2, \"2\": 2}, \"8\": {\"9\": 11, \"14\": 66, \"5\": 18, \"8\": 80, \"1\": 9, \"0\": 13, \"3\": 34, \"11\": 4, \"6\": 4, \"4\": 1}, \"4\": {\"4\": 55, \"7\": 33, \"12\": 31, \"6\": 38, \"1\": 12, \"9\": 11, \"2\": 14, \"15\": 9, \"10\": 20, \"8\": 2, \"5\": 6, \"13\": 3, \"3\": 3, \"14\": 3}, \"6\": {\"7\": 41, \"6\": 76, \"4\": 35, \"14\": 15, \"2\": 17, \"10\": 7, \"9\": 20, \"1\": 4, \"15\": 4, \"8\": 5, \"12\": 11, \"3\": 3, \"5\": 2}, \"2\": {\"2\": 43, \"15\": 35, \"9\": 19, \"12\": 41, \"7\": 30, \"4\": 29, \"13\": 16, \"6\": 13, \"1\": 9, \"10\": 4, \"5\": 1}, \"12\": {\"7\": 32, \"15\": 38, \"12\": 42, \"13\": 10, \"2\": 33, \"4\": 26, \"5\": 9, \"1\": 16, \"9\": 18, \"6\": 8, \"10\": 6, \"3\": 2}, \"0\": {\"8\": 22, \"0\": 136, \"11\": 68, \"5\": 3, \"14\": 2, \"2\": 1, \"1\": 3, \"3\": 5}, \"13\": {\"12\": 35, \"13\": 96, \"15\": 33, \"1\": 3, \"2\": 47, \"4\": 5, \"6\": 4, \"7\": 6, \"10\": 8, \"9\": 3}, \"10\": {\"4\": 46, \"12\": 15, \"6\": 33, \"10\": 92, \"2\": 22, \"15\": 3, \"13\": 12, \"7\": 17}, \"11\": {\"11\": 173, \"0\": 53, \"8\": 10, \"3\": 1, \"5\": 1, \"14\": 1, \"9\": 1}, \"14\": {\"8\": 78, \"14\": 99, \"3\": 17, \"5\": 9, \"7\": 2, \"4\": 7, \"9\": 5, \"0\": 4, \"6\": 14, \"1\": 4, \"15\": 1}, \"1\": {\"5\": 37, \"7\": 19, \"1\": 55, \"3\": 29, \"12\": 17, \"6\": 7, \"2\": 11, \"15\": 29, \"9\": 28, \"4\": 5, \"14\": 1, \"8\": 2}}, \"O_50\": {\"1\": {\"1\": 144, \"13\": 61, \"12\": 5, \"10\": 17, \"11\": 8, \"8\": 3, \"0\": 1, \"15\": 1}, \"2\": {\"2\": 146, \"14\": 41, \"0\": 53}, \"8\": {\"8\": 190, \"10\": 33, \"1\": 10, \"13\": 7}, \"7\": {\"7\": 129, \"4\": 77, \"5\": 31, \"6\": 2, \"3\": 1}, \"14\": {\"0\": 19, \"2\": 54, \"14\": 167}, \"6\": {\"11\": 4, \"15\": 78, \"6\": 83, \"5\": 37, \"9\": 24, \"3\": 10, \"12\": 3, \"13\": 1}, \"3\": {\"3\": 209, \"12\": 4, \"6\": 7, \"5\": 14, \"15\": 3, \"13\": 2, \"9\": 1}, \"4\": {\"5\": 33, \"4\": 93, \"7\": 105, \"15\": 6, \"6\": 2, \"9\": 1}, \"12\": {\"12\": 147, \"11\": 34, \"6\": 5, \"9\": 46, \"13\": 7, \"15\": 1}, \"15\": {\"15\": 102, \"6\": 65, \"5\": 30, \"9\": 29, \"12\": 3, \"11\": 9, \"7\": 2}, \"11\": {\"11\": 117, \"9\": 36, \"12\": 49, \"13\": 16, \"1\": 1, \"15\": 14, \"6\": 7}, \"0\": {\"0\": 159, \"2\": 47, \"10\": 23, \"14\": 11}, \"9\": {\"11\": 33, \"12\": 38, \"9\": 100, \"15\": 39, \"6\": 26, \"5\": 4}, \"10\": {\"10\": 165, \"0\": 28, \"8\": 30, \"1\": 17}, \"5\": {\"12\": 7, \"15\": 27, \"4\": 51, \"5\": 70, \"7\": 45, \"6\": 15, \"3\": 8, \"11\": 8, \"13\": 6, \"9\": 3}, \"13\": {\"13\": 132, \"1\": 24, \"11\": 53, \"9\": 1, \"8\": 12, \"15\": 5, \"6\": 4, \"12\": 7, \"3\": 1, \"5\": 1}}, \"O_32\": {\"2\": {\"2\": 124, \"4\": 83, \"13\": 13, \"14\": 9, \"9\": 4, \"3\": 6, \"8\": 1}, \"6\": {\"6\": 239, \"10\": 1}, \"5\": {\"8\": 29, \"5\": 93, \"7\": 50, \"0\": 46, \"15\": 6, \"14\": 16}, \"12\": {\"12\": 180, \"10\": 31, \"9\": 29}, \"13\": {\"2\": 18, \"3\": 42, \"13\": 123, \"11\": 15, \"4\": 33, \"9\": 8, \"8\": 1}, \"9\": {\"9\": 139, \"12\": 55, \"13\": 10, \"2\": 15, \"4\": 14, \"11\": 5, \"10\": 2}, \"11\": {\"11\": 219, \"13\": 13, \"9\": 4, \"3\": 3, \"12\": 1}, \"1\": {\"1\": 240}, \"3\": {\"3\": 150, \"13\": 46, \"11\": 2, \"8\": 3, \"4\": 29, \"2\": 10}, \"7\": {\"14\": 35, \"5\": 58, \"0\": 49, \"7\": 69, \"8\": 29}, \"14\": {\"14\": 75, \"7\": 54, \"0\": 43, \"5\": 17, \"2\": 22, \"3\": 1, \"8\": 22, \"4\": 6}, \"8\": {\"0\": 51, \"8\": 101, \"5\": 30, \"7\": 26, \"14\": 22, \"15\": 2, \"4\": 3, \"2\": 3, \"3\": 2}, \"4\": {\"2\": 86, \"13\": 33, \"4\": 94, \"3\": 23, \"9\": 1, \"8\": 2, \"14\": 1}, \"0\": {\"0\": 78, \"14\": 31, \"5\": 34, \"7\": 61, \"8\": 36}, \"10\": {\"10\": 211, \"12\": 28, \"6\": 1}, \"15\": {\"15\": 222, \"8\": 3, \"5\": 15}}, \"O_44\": {\"13\": {\"13\": 140, \"6\": 78, \"9\": 20, \"11\": 2}, \"4\": {\"4\": 80, \"15\": 21, \"14\": 53, \"5\": 34, \"9\": 22, \"7\": 20, \"2\": 3, \"10\": 2, \"6\": 2, \"0\": 1, \"13\": 1, \"8\": 1}, \"6\": {\"6\": 132, \"13\": 69, \"9\": 36, \"10\": 1, \"7\": 2}, \"0\": {\"0\": 158, \"15\": 10, \"1\": 1, \"8\": 70, \"2\": 1}, \"10\": {\"7\": 70, \"5\": 1, \"10\": 115, \"9\": 25, \"4\": 6, \"6\": 4, \"1\": 4, \"2\": 14, \"14\": 1}, \"7\": {\"9\": 53, \"7\": 103, \"14\": 8, \"10\": 53, \"4\": 17, \"6\": 4, \"2\": 1, \"5\": 1}, \"14\": {\"5\": 61, \"14\": 88, \"4\": 45, \"15\": 34, \"9\": 4, \"10\": 1, \"7\": 6, \"8\": 1}, \"15\": {\"15\": 94, \"5\": 31, \"8\": 59, \"4\": 13, \"14\": 31, \"0\": 11, \"2\": 1}, \"5\": {\"4\": 44, \"14\": 75, \"5\": 74, \"15\": 35, \"8\": 10, \"7\": 1, \"9\": 1}, \"2\": {\"10\": 15, \"2\": 160, \"15\": 2, \"1\": 54, \"4\": 1, \"7\": 6, \"0\": 1, \"5\": 1}, \"9\": {\"7\": 60, \"13\": 28, \"9\": 62, \"10\": 30, \"6\": 30, \"4\": 10, \"14\": 9, \"2\": 9, \"15\": 1, \"1\": 1}, \"12\": {\"3\": 84, \"12\": 156}, \"8\": {\"0\": 79, \"8\": 109, \"5\": 6, \"15\": 41, \"14\": 4, \"4\": 1}, \"3\": {\"3\": 146, \"12\": 94}, \"1\": {\"2\": 52, \"1\": 180, \"10\": 1, \"8\": 2, \"15\": 3, \"5\": 1, \"0\": 1}, \"11\": {\"11\": 239, \"13\": 1}}, \"O_14\": {\"1\": {\"1\": 204, \"9\": 27, \"10\": 7, \"4\": 2}, \"15\": {\"15\": 240}, \"10\": {\"10\": 157, \"4\": 63, \"9\": 7, \"5\": 6, \"2\": 4, \"1\": 2, \"12\": 1}, \"2\": {\"5\": 59, \"13\": 13, \"6\": 13, \"4\": 19, \"14\": 27, \"3\": 18, \"0\": 21, \"2\": 62, \"7\": 6, \"10\": 2}, \"9\": {\"9\": 213, \"1\": 21, \"10\": 6}, \"5\": {\"5\": 84, \"2\": 53, \"6\": 1, \"14\": 16, \"4\": 32, \"0\": 25, \"7\": 17, \"8\": 9, \"13\": 2, \"12\": 1}, \"7\": {\"2\": 20, \"5\": 27, \"7\": 157, \"3\": 8, \"8\": 1, \"14\": 11, \"13\": 12, \"4\": 2, \"0\": 1, \"6\": 1}, \"13\": {\"14\": 34, \"6\": 72, \"13\": 48, \"15\": 18, \"2\": 17, \"5\": 13, \"3\": 20, \"7\": 10, \"0\": 6, \"4\": 2}, \"8\": {\"5\": 33, \"8\": 147, \"12\": 31, \"0\": 12, \"2\": 3, \"7\": 2, \"4\": 7, \"10\": 5}, \"6\": {\"13\": 83, \"6\": 102, \"3\": 25, \"2\": 7, \"14\": 21, \"7\": 2}, \"3\": {\"3\": 111, \"0\": 42, \"6\": 24, \"14\": 27, \"13\": 13, \"2\": 16, \"7\": 7}, \"12\": {\"12\": 185, \"8\": 46, \"5\": 3, \"0\": 3, \"10\": 2, \"2\": 1}, \"0\": {\"3\": 52, \"14\": 30, \"5\": 28, \"0\": 88, \"6\": 2, \"8\": 5, \"13\": 6, \"2\": 18, \"7\": 3, \"4\": 7, \"10\": 1}, \"4\": {\"5\": 39, \"4\": 121, \"10\": 60, \"2\": 11, \"8\": 6, \"0\": 3}, \"14\": {\"3\": 39, \"6\": 19, \"0\": 26, \"13\": 17, \"2\": 43, \"14\": 82, \"7\": 7, \"5\": 7}, \"11\": {\"11\": 232, \"1\": 8}}}, \"per_domain_accuracy\": {\"C_2\": {\"accuracy\": 0.9987571022727273, \"source?\": true}, \"W_2\": {\"accuracy\": 0.9587710084033614, \"source?\": true}, \"C_5\": {\"accuracy\": 0.9978932584269663, \"source?\": true}, \"W_4\": {\"accuracy\": 0.9594907407407407, \"source?\": true}, \"C_1\": {\"accuracy\": 0.9987980769230769, \"source?\": true}, \"C_4\": {\"accuracy\": 0.998877245508982, \"source?\": true}, \"C_3\": {\"accuracy\": 0.9990862573099415, \"source?\": true}, \"W_1\": {\"accuracy\": 0.981781914893617, \"source?\": true}, \"W_3\": {\"accuracy\": 0.9822411894273128, \"source?\": true}, \"O_8\": {\"accuracy\": 0.47552083333333334, \"source?\": false}, \"O_38\": {\"accuracy\": 0.6765625, \"source?\": false}, \"O_26\": {\"accuracy\": 0.41015625, \"source?\": false}, \"O_20\": {\"accuracy\": 0.30572916666666666, \"source?\": false}, \"O_50\": {\"accuracy\": 0.5606770833333333, \"source?\": false}, \"O_32\": {\"accuracy\": 0.6138020833333333, \"source?\": false}, \"O_44\": {\"accuracy\": 0.5302083333333333, \"source?\": false}, \"O_14\": {\"accuracy\": 0.5815104166666667, \"source?\": false}}}, \"history\": {\"epoch_indices\": [1, 2, 3, 4, 5, 6], \"train_label_loss\": [0.12818524737900344, 0.08025136857101726, 0.06523709910678033, 0.05731387332771693, 0.05332540178616773, 0.05000634019731945], \"source_val_label_loss\": [0.11404097825288773, 0.08007197082042694, 0.06166922301054001, 0.057291898876428604, 0.05405885726213455, 0.05389833450317383], \"target_val_label_loss\": [2.5356030464172363, 2.3068912029266357, 2.3599605560302734, 2.243804693222046, 2.269807815551758, 2.244084358215332], \"source_val_acc_label\": [0.9789488167308751, 0.9839708310401761, 0.9865678315905339, 0.9870149972482113, 0.9873245734727573, 0.9872385800770501], \"target_val_acc_label\": [0.38795572916666665, 0.5192708333333333, 0.42548828125, 0.4913736979166667, 0.42255859375, 0.4182942708333333]}, \"dataset_metrics\": {\"source\": {\"train\": {\"n_unique_x\": 364154, \"n_unique_y\": 130, \"n_batch/episode\": 13157}, \"val\": {\"n_unique_x\": 77154, \"n_unique_y\": 130, \"n_batch/episode\": 1817}, \"test\": {\"n_unique_x\": 78411, \"n_unique_y\": 130, \"n_batch/episode\": 1853}}, \"target\": {\"train\": {\"n_unique_x\": 179200, \"n_unique_y\": 16, \"n_batch/episode\": 6720}, \"val\": {\"n_unique_x\": 38400, \"n_unique_y\": 16, \"n_batch/episode\": 960}, \"test\": {\"n_unique_x\": 38400, \"n_unique_y\": 16, \"n_batch/episode\": 960}}}}'"
      ]
     },
     "execution_count": 29,
     "metadata": {},
     "output_type": "execute_result"
    }
   ],
   "source": [
    "json.dumps(experiment)"
   ]
  }
 ],
 "metadata": {
  "celltoolbar": "Tags",
  "kernelspec": {
   "display_name": "Python 3 (ipykernel)",
   "language": "python",
   "name": "python3"
  },
  "language_info": {
   "codemirror_mode": {
    "name": "ipython",
    "version": 3
   },
   "file_extension": ".py",
   "mimetype": "text/x-python",
   "name": "python",
   "nbconvert_exporter": "python",
   "pygments_lexer": "ipython3",
   "version": "3.8.10"
  },
  "papermill": {
   "default_parameters": {},
   "duration": 3955.756293,
   "end_time": "2022-03-20T16:03:44.408377",
   "environment_variables": {},
   "exception": null,
   "input_path": "/mnt/wd500GB/CSC500/csc500-main/csc500-notebooks/templates/tl_ptn_template.ipynb",
   "output_path": "trial.ipynb",
   "parameters": {
    "parameters": {
     "BEST_MODEL_PATH": "./best_model.pth",
     "NUM_LOGS_PER_EPOCH": 10,
     "criteria_for_best": "target_accuracy",
     "dataset_seed": 154325,
     "datasets": [
      {
       "domain_prefix": "C_",
       "domains": [
        1,
        2,
        3,
        4,
        5
       ],
       "episode_transforms": [],
       "labels": [
        "1-10.",
        "1-11.",
        "1-15.",
        "1-16.",
        "1-17.",
        "1-18.",
        "1-19.",
        "10-4.",
        "10-7.",
        "11-1.",
        "11-14.",
        "11-17.",
        "11-20.",
        "11-7.",
        "13-20.",
        "13-8.",
        "14-10.",
        "14-11.",
        "14-14.",
        "14-7.",
        "15-1.",
        "15-20.",
        "16-1.",
        "16-16.",
        "17-10.",
        "17-11.",
        "17-2.",
        "19-1.",
        "19-16.",
        "19-19.",
        "19-20.",
        "19-3.",
        "2-10.",
        "2-11.",
        "2-17.",
        "2-18.",
        "2-20.",
        "2-3.",
        "2-4.",
        "2-5.",
        "2-6.",
        "2-7.",
        "2-8.",
        "3-13.",
        "3-18.",
        "3-3.",
        "4-1.",
        "4-10.",
        "4-11.",
        "4-19.",
        "5-5.",
        "6-15.",
        "7-10.",
        "7-14.",
        "8-18.",
        "8-20.",
        "8-3.",
        "8-8."
       ],
       "num_examples_per_domain_per_label": -1,
       "pickle_path": "/mnt/wd500GB/CSC500/csc500-main/datasets/cores.stratified_ds.2022A.pkl",
       "source_or_target_dataset": "source",
       "x_transforms": [
        "take_200"
       ]
      },
      {
       "domain_prefix": "W_",
       "domains": [
        1,
        2,
        3,
        4
       ],
       "episode_transforms": [],
       "labels": [
        "1-10",
        "1-12",
        "1-14",
        "1-16",
        "1-18",
        "1-19",
        "1-8",
        "10-11",
        "10-17",
        "10-4",
        "10-7",
        "11-1",
        "11-10",
        "11-19",
        "11-20",
        "11-4",
        "11-7",
        "12-19",
        "12-20",
        "12-7",
        "13-14",
        "13-18",
        "13-19",
        "13-20",
        "13-3",
        "13-7",
        "14-10",
        "14-11",
        "14-12",
        "14-13",
        "14-14",
        "14-19",
        "14-20",
        "14-7",
        "14-8",
        "14-9",
        "15-1",
        "15-19",
        "15-6",
        "16-1",
        "16-16",
        "16-19",
        "16-20",
        "17-10",
        "17-11",
        "18-1",
        "18-10",
        "18-11",
        "18-12",
        "18-13",
        "18-14",
        "18-15",
        "18-16",
        "18-17",
        "18-19",
        "18-2",
        "18-20",
        "18-4",
        "18-5",
        "18-7",
        "18-8",
        "18-9",
        "19-1",
        "19-10",
        "19-11",
        "19-12",
        "19-13",
        "19-14",
        "19-15",
        "19-19",
        "19-2",
        "19-20",
        "19-3",
        "19-4",
        "19-6",
        "19-7",
        "19-8",
        "19-9",
        "2-1",
        "2-13",
        "2-15",
        "2-3",
        "2-4",
        "2-5",
        "2-6",
        "2-7",
        "2-8",
        "20-1",
        "20-12",
        "20-14",
        "20-15",
        "20-16",
        "20-18",
        "20-19",
        "20-20",
        "20-3",
        "20-4",
        "20-5",
        "20-7",
        "20-8",
        "3-1",
        "3-13",
        "3-18",
        "3-2",
        "3-8",
        "4-1",
        "4-10",
        "4-11",
        "5-1",
        "5-5",
        "6-1",
        "6-15",
        "6-6",
        "7-10",
        "7-11",
        "7-12",
        "7-13",
        "7-14",
        "7-7",
        "7-8",
        "7-9",
        "8-1",
        "8-13",
        "8-14",
        "8-18",
        "8-20",
        "8-3",
        "8-8",
        "9-1",
        "9-7"
       ],
       "num_examples_per_domain_per_label": -1,
       "pickle_path": "/mnt/wd500GB/CSC500/csc500-main/datasets/wisig.node3-19.stratified_ds.2022A.pkl",
       "source_or_target_dataset": "source",
       "x_transforms": [
        "take_200"
       ]
      },
      {
       "domain_prefix": "O_",
       "domains": [
        32,
        38,
        8,
        44,
        14,
        50,
        20,
        26
       ],
       "episode_transforms": [],
       "labels": [
        "3123D52",
        "3123D65",
        "3123D79",
        "3123D80",
        "3123D54",
        "3123D70",
        "3123D7B",
        "3123D89",
        "3123D58",
        "3123D76",
        "3123D7D",
        "3123EFE",
        "3123D64",
        "3123D78",
        "3123D7E",
        "3124E4A"
       ],
       "num_examples_per_domain_per_label": 2000,
       "pickle_path": "/mnt/wd500GB/CSC500/csc500-main/datasets/oracle.Run1_framed_2000Examples_stratified_ds.2022A.pkl",
       "source_or_target_dataset": "target",
       "x_transforms": [
        "take_200",
        "resample_20Msps_to_25Msps"
       ]
      }
     ],
     "device": "cuda",
     "experiment_name": "tl_3Av2:cores+wisig -> oracle.run1.framed",
     "lr": 0.0001,
     "n_epoch": 50,
     "n_query": 2,
     "n_shot": 3,
     "n_way": 16,
     "patience": 3,
     "seed": 154325,
     "test_k_factor": 2,
     "torch_default_dtype": "torch.float32",
     "train_k_factor": 3,
     "val_k_factor": 2,
     "x_net": [
      {
       "class": "nnReshape",
       "kargs": {
        "shape": [
         -1,
         1,
         2,
         200
        ]
       }
      },
      {
       "class": "Conv2d",
       "kargs": {
        "bias": false,
        "in_channels": 1,
        "kernel_size": [
         1,
         7
        ],
        "out_channels": 256,
        "padding": [
         0,
         3
        ]
       }
      },
      {
       "class": "ReLU",
       "kargs": {
        "inplace": true
       }
      },
      {
       "class": "BatchNorm2d",
       "kargs": {
        "num_features": 256
       }
      },
      {
       "class": "Conv2d",
       "kargs": {
        "bias": true,
        "in_channels": 256,
        "kernel_size": [
         2,
         7
        ],
        "out_channels": 80,
        "padding": [
         0,
         3
        ]
       }
      },
      {
       "class": "ReLU",
       "kargs": {
        "inplace": true
       }
      },
      {
       "class": "BatchNorm2d",
       "kargs": {
        "num_features": 80
       }
      },
      {
       "class": "Flatten",
       "kargs": {}
      },
      {
       "class": "Linear",
       "kargs": {
        "in_features": 16000,
        "out_features": 256
       }
      },
      {
       "class": "ReLU",
       "kargs": {
        "inplace": true
       }
      },
      {
       "class": "BatchNorm1d",
       "kargs": {
        "num_features": 256
       }
      },
      {
       "class": "Linear",
       "kargs": {
        "in_features": 256,
        "out_features": 256
       }
      }
     ],
     "x_shape": [
      2,
      200
     ]
    }
   },
   "start_time": "2022-03-20T14:57:48.652084",
   "version": "2.3.4"
  }
 },
 "nbformat": 4,
 "nbformat_minor": 5
}