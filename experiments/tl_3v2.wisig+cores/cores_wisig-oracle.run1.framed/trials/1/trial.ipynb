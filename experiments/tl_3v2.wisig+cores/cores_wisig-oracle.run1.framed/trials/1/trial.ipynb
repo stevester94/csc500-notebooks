{
 "cells": [
  {
   "cell_type": "markdown",
   "id": "9fea5f46",
   "metadata": {
    "papermill": {
     "duration": 0.019776,
     "end_time": "2022-03-20T06:34:23.477302",
     "exception": false,
     "start_time": "2022-03-20T06:34:23.457526",
     "status": "completed"
    },
    "tags": []
   },
   "source": [
    "# Transfer Learning Template"
   ]
  },
  {
   "cell_type": "code",
   "execution_count": 1,
   "id": "0902182a",
   "metadata": {
    "execution": {
     "iopub.execute_input": "2022-03-20T06:34:23.519463Z",
     "iopub.status.busy": "2022-03-20T06:34:23.514672Z",
     "iopub.status.idle": "2022-03-20T06:34:24.526684Z",
     "shell.execute_reply": "2022-03-20T06:34:24.527144Z"
    },
    "papermill": {
     "duration": 1.033223,
     "end_time": "2022-03-20T06:34:24.527350",
     "exception": false,
     "start_time": "2022-03-20T06:34:23.494127",
     "status": "completed"
    },
    "tags": []
   },
   "outputs": [],
   "source": [
    "%load_ext autoreload\n",
    "%autoreload 2\n",
    "%matplotlib inline\n",
    "\n",
    "    \n",
    "import os, json, sys, time, random\n",
    "import numpy as np\n",
    "import torch\n",
    "from torch.optim import Adam\n",
    "from  easydict import EasyDict\n",
    "import matplotlib.pyplot as plt\n",
    "\n",
    "from steves_models.steves_ptn import Steves_Prototypical_Network\n",
    "\n",
    "from steves_utils.lazy_iterable_wrapper import Lazy_Iterable_Wrapper\n",
    "from steves_utils.iterable_aggregator import Iterable_Aggregator\n",
    "from steves_utils.ptn_train_eval_test_jig import  PTN_Train_Eval_Test_Jig\n",
    "from steves_utils.torch_sequential_builder import build_sequential\n",
    "from steves_utils.torch_utils import get_dataset_metrics, ptn_confusion_by_domain_over_dataloader\n",
    "from steves_utils.utils_v2 import (per_domain_accuracy_from_confusion, get_datasets_base_path)\n",
    "from steves_utils.PTN.utils import independent_accuracy_assesment\n",
    "\n",
    "from torch.utils.data import DataLoader\n",
    "\n",
    "from steves_utils.stratified_dataset.episodic_accessor import Episodic_Accessor_Factory\n",
    "\n",
    "from steves_utils.ptn_do_report import (\n",
    "    get_loss_curve,\n",
    "    get_results_table,\n",
    "    get_parameters_table,\n",
    "    get_domain_accuracies,\n",
    ")\n",
    "\n",
    "from steves_utils.transforms import get_chained_transform"
   ]
  },
  {
   "cell_type": "markdown",
   "id": "41c840b4",
   "metadata": {
    "papermill": {
     "duration": 0.013597,
     "end_time": "2022-03-20T06:34:24.559535",
     "exception": false,
     "start_time": "2022-03-20T06:34:24.545938",
     "status": "completed"
    },
    "tags": []
   },
   "source": [
    "# Allowed Parameters\n",
    "These are allowed parameters, not defaults\n",
    "Each of these values need to be present in the injected parameters (the notebook will raise an exception if they are not present)\n",
    "\n",
    "Papermill uses the cell tag \"parameters\" to inject the real parameters below this cell.\n",
    "Enable tags to see what I mean"
   ]
  },
  {
   "cell_type": "code",
   "execution_count": 2,
   "id": "fd44eb83",
   "metadata": {
    "execution": {
     "iopub.execute_input": "2022-03-20T06:34:24.590559Z",
     "iopub.status.busy": "2022-03-20T06:34:24.590274Z",
     "iopub.status.idle": "2022-03-20T06:34:24.605892Z",
     "shell.execute_reply": "2022-03-20T06:34:24.606290Z"
    },
    "papermill": {
     "duration": 0.033219,
     "end_time": "2022-03-20T06:34:24.606424",
     "exception": false,
     "start_time": "2022-03-20T06:34:24.573205",
     "status": "completed"
    },
    "tags": []
   },
   "outputs": [],
   "source": [
    "required_parameters = {\n",
    "    \"experiment_name\",\n",
    "    \"lr\",\n",
    "    \"device\",\n",
    "    \"seed\",\n",
    "    \"dataset_seed\",\n",
    "    \"n_shot\",\n",
    "    \"n_query\",\n",
    "    \"n_way\",\n",
    "    \"train_k_factor\",\n",
    "    \"val_k_factor\",\n",
    "    \"test_k_factor\",\n",
    "    \"n_epoch\",\n",
    "    \"patience\",\n",
    "    \"criteria_for_best\",\n",
    "    \"x_net\",\n",
    "    \"datasets\",\n",
    "    \"torch_default_dtype\",\n",
    "    \"NUM_LOGS_PER_EPOCH\",\n",
    "    \"BEST_MODEL_PATH\",\n",
    "    \"x_shape\",\n",
    "}"
   ]
  },
  {
   "cell_type": "code",
   "execution_count": 3,
   "id": "fa3f0049",
   "metadata": {
    "execution": {
     "iopub.execute_input": "2022-03-20T06:34:24.644717Z",
     "iopub.status.busy": "2022-03-20T06:34:24.644393Z",
     "iopub.status.idle": "2022-03-20T06:34:24.657586Z",
     "shell.execute_reply": "2022-03-20T06:34:24.658005Z"
    },
    "papermill": {
     "duration": 0.033002,
     "end_time": "2022-03-20T06:34:24.658151",
     "exception": false,
     "start_time": "2022-03-20T06:34:24.625149",
     "status": "completed"
    },
    "tags": [
     "parameters"
    ]
   },
   "outputs": [],
   "source": [
    "from steves_utils.CORES.utils import (\n",
    "    ALL_NODES,\n",
    "    ALL_NODES_MINIMUM_1000_EXAMPLES,\n",
    "    ALL_DAYS\n",
    ")\n",
    "\n",
    "from steves_utils.ORACLE.utils_v2 import (\n",
    "    ALL_DISTANCES_FEET_NARROWED,\n",
    "    ALL_RUNS,\n",
    "    ALL_SERIAL_NUMBERS,\n",
    ")\n",
    "\n",
    "standalone_parameters = {}\n",
    "standalone_parameters[\"experiment_name\"] = \"STANDALONE PTN\"\n",
    "standalone_parameters[\"lr\"] = 0.001\n",
    "standalone_parameters[\"device\"] = \"cuda\"\n",
    "\n",
    "standalone_parameters[\"seed\"] = 1337\n",
    "standalone_parameters[\"dataset_seed\"] = 1337\n",
    "\n",
    "standalone_parameters[\"n_way\"] = 8\n",
    "standalone_parameters[\"n_shot\"] = 3\n",
    "standalone_parameters[\"n_query\"]  = 2\n",
    "standalone_parameters[\"train_k_factor\"] = 1\n",
    "standalone_parameters[\"val_k_factor\"] = 2\n",
    "standalone_parameters[\"test_k_factor\"] = 2\n",
    "\n",
    "\n",
    "standalone_parameters[\"n_epoch\"] = 50\n",
    "\n",
    "standalone_parameters[\"patience\"] = 10\n",
    "standalone_parameters[\"criteria_for_best\"] = \"source_loss\"\n",
    "\n",
    "standalone_parameters[\"datasets\"] = [\n",
    "    {\n",
    "        \"labels\": ALL_SERIAL_NUMBERS,\n",
    "        \"domains\": ALL_DISTANCES_FEET_NARROWED,\n",
    "        \"num_examples_per_domain_per_label\": 100,\n",
    "        \"pickle_path\": os.path.join(get_datasets_base_path(), \"oracle.Run1_framed_2000Examples_stratified_ds.2022A.pkl\"),\n",
    "        \"source_or_target_dataset\": \"source\",\n",
    "        \"x_transforms\": [\"unit_mag\", \"minus_two\"],\n",
    "        \"episode_transforms\": [],\n",
    "        \"domain_prefix\": \"ORACLE_\"\n",
    "    },\n",
    "    {\n",
    "        \"labels\": ALL_NODES,\n",
    "        \"domains\": ALL_DAYS,\n",
    "        \"num_examples_per_domain_per_label\": 100,\n",
    "        \"pickle_path\": os.path.join(get_datasets_base_path(), \"cores.stratified_ds.2022A.pkl\"),\n",
    "        \"source_or_target_dataset\": \"target\",\n",
    "        \"x_transforms\": [\"unit_power\", \"times_zero\"],\n",
    "        \"episode_transforms\": [],\n",
    "        \"domain_prefix\": \"CORES_\"\n",
    "    }   \n",
    "]\n",
    "\n",
    "standalone_parameters[\"torch_default_dtype\"] = \"torch.float32\" \n",
    "\n",
    "\n",
    "\n",
    "standalone_parameters[\"x_net\"] =     [\n",
    "    {\"class\": \"nnReshape\", \"kargs\": {\"shape\":[-1, 1, 2, 256]}},\n",
    "    {\"class\": \"Conv2d\", \"kargs\": { \"in_channels\":1, \"out_channels\":256, \"kernel_size\":(1,7), \"bias\":False, \"padding\":(0,3), },},\n",
    "    {\"class\": \"ReLU\", \"kargs\": {\"inplace\": True}},\n",
    "    {\"class\": \"BatchNorm2d\", \"kargs\": {\"num_features\":256}},\n",
    "\n",
    "    {\"class\": \"Conv2d\", \"kargs\": { \"in_channels\":256, \"out_channels\":80, \"kernel_size\":(2,7), \"bias\":True, \"padding\":(0,3), },},\n",
    "    {\"class\": \"ReLU\", \"kargs\": {\"inplace\": True}},\n",
    "    {\"class\": \"BatchNorm2d\", \"kargs\": {\"num_features\":80}},\n",
    "    {\"class\": \"Flatten\", \"kargs\": {}},\n",
    "\n",
    "    {\"class\": \"Linear\", \"kargs\": {\"in_features\": 80*256, \"out_features\": 256}}, # 80 units per IQ pair\n",
    "    {\"class\": \"ReLU\", \"kargs\": {\"inplace\": True}},\n",
    "    {\"class\": \"BatchNorm1d\", \"kargs\": {\"num_features\":256}},\n",
    "\n",
    "    {\"class\": \"Linear\", \"kargs\": {\"in_features\": 256, \"out_features\": 256}},\n",
    "]\n",
    "\n",
    "# Parameters relevant to results\n",
    "# These parameters will basically never need to change\n",
    "standalone_parameters[\"NUM_LOGS_PER_EPOCH\"] = 10\n",
    "standalone_parameters[\"BEST_MODEL_PATH\"] = \"./best_model.pth\"\n",
    "\n",
    "\n",
    "\n",
    "\n"
   ]
  },
  {
   "cell_type": "code",
   "execution_count": 4,
   "id": "37b20d06",
   "metadata": {
    "execution": {
     "iopub.execute_input": "2022-03-20T06:34:24.703504Z",
     "iopub.status.busy": "2022-03-20T06:34:24.692892Z",
     "iopub.status.idle": "2022-03-20T06:34:24.718876Z",
     "shell.execute_reply": "2022-03-20T06:34:24.719316Z"
    },
    "papermill": {
     "duration": 0.04231,
     "end_time": "2022-03-20T06:34:24.719462",
     "exception": false,
     "start_time": "2022-03-20T06:34:24.677152",
     "status": "completed"
    },
    "tags": [
     "injected-parameters"
    ]
   },
   "outputs": [],
   "source": [
    "# Parameters\n",
    "parameters = {\n",
    "    \"experiment_name\": \"tl_3Av2:cores+wisig -> oracle.run1.framed\",\n",
    "    \"device\": \"cuda\",\n",
    "    \"lr\": 0.0001,\n",
    "    \"x_shape\": [2, 200],\n",
    "    \"n_shot\": 3,\n",
    "    \"n_query\": 2,\n",
    "    \"train_k_factor\": 3,\n",
    "    \"val_k_factor\": 2,\n",
    "    \"test_k_factor\": 2,\n",
    "    \"torch_default_dtype\": \"torch.float32\",\n",
    "    \"n_epoch\": 50,\n",
    "    \"patience\": 3,\n",
    "    \"criteria_for_best\": \"target_accuracy\",\n",
    "    \"x_net\": [\n",
    "        {\"class\": \"nnReshape\", \"kargs\": {\"shape\": [-1, 1, 2, 200]}},\n",
    "        {\n",
    "            \"class\": \"Conv2d\",\n",
    "            \"kargs\": {\n",
    "                \"in_channels\": 1,\n",
    "                \"out_channels\": 256,\n",
    "                \"kernel_size\": [1, 7],\n",
    "                \"bias\": False,\n",
    "                \"padding\": [0, 3],\n",
    "            },\n",
    "        },\n",
    "        {\"class\": \"ReLU\", \"kargs\": {\"inplace\": True}},\n",
    "        {\"class\": \"BatchNorm2d\", \"kargs\": {\"num_features\": 256}},\n",
    "        {\n",
    "            \"class\": \"Conv2d\",\n",
    "            \"kargs\": {\n",
    "                \"in_channels\": 256,\n",
    "                \"out_channels\": 80,\n",
    "                \"kernel_size\": [2, 7],\n",
    "                \"bias\": True,\n",
    "                \"padding\": [0, 3],\n",
    "            },\n",
    "        },\n",
    "        {\"class\": \"ReLU\", \"kargs\": {\"inplace\": True}},\n",
    "        {\"class\": \"BatchNorm2d\", \"kargs\": {\"num_features\": 80}},\n",
    "        {\"class\": \"Flatten\", \"kargs\": {}},\n",
    "        {\"class\": \"Linear\", \"kargs\": {\"in_features\": 16000, \"out_features\": 256}},\n",
    "        {\"class\": \"ReLU\", \"kargs\": {\"inplace\": True}},\n",
    "        {\"class\": \"BatchNorm1d\", \"kargs\": {\"num_features\": 256}},\n",
    "        {\"class\": \"Linear\", \"kargs\": {\"in_features\": 256, \"out_features\": 256}},\n",
    "    ],\n",
    "    \"NUM_LOGS_PER_EPOCH\": 10,\n",
    "    \"BEST_MODEL_PATH\": \"./best_model.pth\",\n",
    "    \"n_way\": 16,\n",
    "    \"datasets\": [\n",
    "        {\n",
    "            \"labels\": [\n",
    "                \"1-10.\",\n",
    "                \"1-11.\",\n",
    "                \"1-15.\",\n",
    "                \"1-16.\",\n",
    "                \"1-17.\",\n",
    "                \"1-18.\",\n",
    "                \"1-19.\",\n",
    "                \"10-4.\",\n",
    "                \"10-7.\",\n",
    "                \"11-1.\",\n",
    "                \"11-14.\",\n",
    "                \"11-17.\",\n",
    "                \"11-20.\",\n",
    "                \"11-7.\",\n",
    "                \"13-20.\",\n",
    "                \"13-8.\",\n",
    "                \"14-10.\",\n",
    "                \"14-11.\",\n",
    "                \"14-14.\",\n",
    "                \"14-7.\",\n",
    "                \"15-1.\",\n",
    "                \"15-20.\",\n",
    "                \"16-1.\",\n",
    "                \"16-16.\",\n",
    "                \"17-10.\",\n",
    "                \"17-11.\",\n",
    "                \"17-2.\",\n",
    "                \"19-1.\",\n",
    "                \"19-16.\",\n",
    "                \"19-19.\",\n",
    "                \"19-20.\",\n",
    "                \"19-3.\",\n",
    "                \"2-10.\",\n",
    "                \"2-11.\",\n",
    "                \"2-17.\",\n",
    "                \"2-18.\",\n",
    "                \"2-20.\",\n",
    "                \"2-3.\",\n",
    "                \"2-4.\",\n",
    "                \"2-5.\",\n",
    "                \"2-6.\",\n",
    "                \"2-7.\",\n",
    "                \"2-8.\",\n",
    "                \"3-13.\",\n",
    "                \"3-18.\",\n",
    "                \"3-3.\",\n",
    "                \"4-1.\",\n",
    "                \"4-10.\",\n",
    "                \"4-11.\",\n",
    "                \"4-19.\",\n",
    "                \"5-5.\",\n",
    "                \"6-15.\",\n",
    "                \"7-10.\",\n",
    "                \"7-14.\",\n",
    "                \"8-18.\",\n",
    "                \"8-20.\",\n",
    "                \"8-3.\",\n",
    "                \"8-8.\",\n",
    "            ],\n",
    "            \"domains\": [1, 2, 3, 4, 5],\n",
    "            \"num_examples_per_domain_per_label\": -1,\n",
    "            \"pickle_path\": \"/mnt/wd500GB/CSC500/csc500-main/datasets/cores.stratified_ds.2022A.pkl\",\n",
    "            \"source_or_target_dataset\": \"source\",\n",
    "            \"x_transforms\": [\"unit_mag\", \"take_200\"],\n",
    "            \"episode_transforms\": [],\n",
    "            \"domain_prefix\": \"C_\",\n",
    "        },\n",
    "        {\n",
    "            \"labels\": [\n",
    "                \"1-10\",\n",
    "                \"1-12\",\n",
    "                \"1-14\",\n",
    "                \"1-16\",\n",
    "                \"1-18\",\n",
    "                \"1-19\",\n",
    "                \"1-8\",\n",
    "                \"10-11\",\n",
    "                \"10-17\",\n",
    "                \"10-4\",\n",
    "                \"10-7\",\n",
    "                \"11-1\",\n",
    "                \"11-10\",\n",
    "                \"11-19\",\n",
    "                \"11-20\",\n",
    "                \"11-4\",\n",
    "                \"11-7\",\n",
    "                \"12-19\",\n",
    "                \"12-20\",\n",
    "                \"12-7\",\n",
    "                \"13-14\",\n",
    "                \"13-18\",\n",
    "                \"13-19\",\n",
    "                \"13-20\",\n",
    "                \"13-3\",\n",
    "                \"13-7\",\n",
    "                \"14-10\",\n",
    "                \"14-11\",\n",
    "                \"14-12\",\n",
    "                \"14-13\",\n",
    "                \"14-14\",\n",
    "                \"14-19\",\n",
    "                \"14-20\",\n",
    "                \"14-7\",\n",
    "                \"14-8\",\n",
    "                \"14-9\",\n",
    "                \"15-1\",\n",
    "                \"15-19\",\n",
    "                \"15-6\",\n",
    "                \"16-1\",\n",
    "                \"16-16\",\n",
    "                \"16-19\",\n",
    "                \"16-20\",\n",
    "                \"17-10\",\n",
    "                \"17-11\",\n",
    "                \"18-1\",\n",
    "                \"18-10\",\n",
    "                \"18-11\",\n",
    "                \"18-12\",\n",
    "                \"18-13\",\n",
    "                \"18-14\",\n",
    "                \"18-15\",\n",
    "                \"18-16\",\n",
    "                \"18-17\",\n",
    "                \"18-19\",\n",
    "                \"18-2\",\n",
    "                \"18-20\",\n",
    "                \"18-4\",\n",
    "                \"18-5\",\n",
    "                \"18-7\",\n",
    "                \"18-8\",\n",
    "                \"18-9\",\n",
    "                \"19-1\",\n",
    "                \"19-10\",\n",
    "                \"19-11\",\n",
    "                \"19-12\",\n",
    "                \"19-13\",\n",
    "                \"19-14\",\n",
    "                \"19-15\",\n",
    "                \"19-19\",\n",
    "                \"19-2\",\n",
    "                \"19-20\",\n",
    "                \"19-3\",\n",
    "                \"19-4\",\n",
    "                \"19-6\",\n",
    "                \"19-7\",\n",
    "                \"19-8\",\n",
    "                \"19-9\",\n",
    "                \"2-1\",\n",
    "                \"2-13\",\n",
    "                \"2-15\",\n",
    "                \"2-3\",\n",
    "                \"2-4\",\n",
    "                \"2-5\",\n",
    "                \"2-6\",\n",
    "                \"2-7\",\n",
    "                \"2-8\",\n",
    "                \"20-1\",\n",
    "                \"20-12\",\n",
    "                \"20-14\",\n",
    "                \"20-15\",\n",
    "                \"20-16\",\n",
    "                \"20-18\",\n",
    "                \"20-19\",\n",
    "                \"20-20\",\n",
    "                \"20-3\",\n",
    "                \"20-4\",\n",
    "                \"20-5\",\n",
    "                \"20-7\",\n",
    "                \"20-8\",\n",
    "                \"3-1\",\n",
    "                \"3-13\",\n",
    "                \"3-18\",\n",
    "                \"3-2\",\n",
    "                \"3-8\",\n",
    "                \"4-1\",\n",
    "                \"4-10\",\n",
    "                \"4-11\",\n",
    "                \"5-1\",\n",
    "                \"5-5\",\n",
    "                \"6-1\",\n",
    "                \"6-15\",\n",
    "                \"6-6\",\n",
    "                \"7-10\",\n",
    "                \"7-11\",\n",
    "                \"7-12\",\n",
    "                \"7-13\",\n",
    "                \"7-14\",\n",
    "                \"7-7\",\n",
    "                \"7-8\",\n",
    "                \"7-9\",\n",
    "                \"8-1\",\n",
    "                \"8-13\",\n",
    "                \"8-14\",\n",
    "                \"8-18\",\n",
    "                \"8-20\",\n",
    "                \"8-3\",\n",
    "                \"8-8\",\n",
    "                \"9-1\",\n",
    "                \"9-7\",\n",
    "            ],\n",
    "            \"domains\": [1, 2, 3, 4],\n",
    "            \"num_examples_per_domain_per_label\": -1,\n",
    "            \"pickle_path\": \"/mnt/wd500GB/CSC500/csc500-main/datasets/wisig.node3-19.stratified_ds.2022A.pkl\",\n",
    "            \"source_or_target_dataset\": \"source\",\n",
    "            \"x_transforms\": [\"unit_mag\", \"take_200\"],\n",
    "            \"episode_transforms\": [],\n",
    "            \"domain_prefix\": \"W_\",\n",
    "        },\n",
    "        {\n",
    "            \"labels\": [\n",
    "                \"3123D52\",\n",
    "                \"3123D65\",\n",
    "                \"3123D79\",\n",
    "                \"3123D80\",\n",
    "                \"3123D54\",\n",
    "                \"3123D70\",\n",
    "                \"3123D7B\",\n",
    "                \"3123D89\",\n",
    "                \"3123D58\",\n",
    "                \"3123D76\",\n",
    "                \"3123D7D\",\n",
    "                \"3123EFE\",\n",
    "                \"3123D64\",\n",
    "                \"3123D78\",\n",
    "                \"3123D7E\",\n",
    "                \"3124E4A\",\n",
    "            ],\n",
    "            \"domains\": [32, 38, 8, 44, 14, 50, 20, 26],\n",
    "            \"num_examples_per_domain_per_label\": 2000,\n",
    "            \"pickle_path\": \"/mnt/wd500GB/CSC500/csc500-main/datasets/oracle.Run1_framed_2000Examples_stratified_ds.2022A.pkl\",\n",
    "            \"source_or_target_dataset\": \"target\",\n",
    "            \"x_transforms\": [\"unit_mag\", \"take_200\", \"resample_20Msps_to_25Msps\"],\n",
    "            \"episode_transforms\": [],\n",
    "            \"domain_prefix\": \"O_\",\n",
    "        },\n",
    "    ],\n",
    "    \"seed\": 1337,\n",
    "    \"dataset_seed\": 1337,\n",
    "}\n"
   ]
  },
  {
   "cell_type": "code",
   "execution_count": 5,
   "id": "8fa1cc33",
   "metadata": {
    "execution": {
     "iopub.execute_input": "2022-03-20T06:34:24.755433Z",
     "iopub.status.busy": "2022-03-20T06:34:24.755127Z",
     "iopub.status.idle": "2022-03-20T06:34:24.771792Z",
     "shell.execute_reply": "2022-03-20T06:34:24.771330Z"
    },
    "papermill": {
     "duration": 0.033804,
     "end_time": "2022-03-20T06:34:24.771910",
     "exception": false,
     "start_time": "2022-03-20T06:34:24.738106",
     "status": "completed"
    },
    "tags": []
   },
   "outputs": [],
   "source": [
    "# Set this to True if you want to run this template directly\n",
    "STANDALONE = False\n",
    "if STANDALONE:\n",
    "    print(\"parameters not injected, running with standalone_parameters\")\n",
    "    parameters = standalone_parameters\n",
    "\n",
    "if not 'parameters' in locals() and not 'parameters' in globals():\n",
    "    raise Exception(\"Parameter injection failed\")\n",
    "\n",
    "#Use an easy dict for all the parameters\n",
    "p = EasyDict(parameters)\n",
    "\n",
    "if \"x_shape\" not in p:\n",
    "    p.x_shape = [2,256] # Default to this if we dont supply x_shape\n",
    "\n",
    "\n",
    "supplied_keys = set(p.keys())\n",
    "\n",
    "if  supplied_keys != required_parameters:\n",
    "    print(\"Parameters are incorrect\")\n",
    "    if len(supplied_keys - required_parameters)>0: print(\"Shouldn't have:\", str(supplied_keys - required_parameters))\n",
    "    if len(required_parameters - supplied_keys)>0: print(\"Need to have:\", str(required_parameters - supplied_keys))\n",
    "    raise RuntimeError(\"Parameters are incorrect\")"
   ]
  },
  {
   "cell_type": "code",
   "execution_count": 6,
   "id": "3a028d58",
   "metadata": {
    "execution": {
     "iopub.execute_input": "2022-03-20T06:34:24.805376Z",
     "iopub.status.busy": "2022-03-20T06:34:24.804396Z",
     "iopub.status.idle": "2022-03-20T06:34:24.818408Z",
     "shell.execute_reply": "2022-03-20T06:34:24.818120Z"
    },
    "papermill": {
     "duration": 0.030137,
     "end_time": "2022-03-20T06:34:24.818474",
     "exception": false,
     "start_time": "2022-03-20T06:34:24.788337",
     "status": "completed"
    },
    "tags": []
   },
   "outputs": [],
   "source": [
    "###################################\n",
    "# Set the RNGs and make it all deterministic\n",
    "###################################\n",
    "np.random.seed(p.seed)\n",
    "random.seed(p.seed)\n",
    "torch.manual_seed(p.seed)\n",
    "\n",
    "torch.use_deterministic_algorithms(True) "
   ]
  },
  {
   "cell_type": "code",
   "execution_count": 7,
   "id": "b691acf6",
   "metadata": {
    "execution": {
     "iopub.execute_input": "2022-03-20T06:34:24.854546Z",
     "iopub.status.busy": "2022-03-20T06:34:24.854003Z",
     "iopub.status.idle": "2022-03-20T06:34:24.868927Z",
     "shell.execute_reply": "2022-03-20T06:34:24.869351Z"
    },
    "papermill": {
     "duration": 0.032457,
     "end_time": "2022-03-20T06:34:24.869500",
     "exception": false,
     "start_time": "2022-03-20T06:34:24.837043",
     "status": "completed"
    },
    "tags": []
   },
   "outputs": [],
   "source": [
    "###########################################\n",
    "# The stratified datasets honor this\n",
    "###########################################\n",
    "torch.set_default_dtype(eval(p.torch_default_dtype))"
   ]
  },
  {
   "cell_type": "code",
   "execution_count": 8,
   "id": "b5fba671",
   "metadata": {
    "execution": {
     "iopub.execute_input": "2022-03-20T06:34:24.905197Z",
     "iopub.status.busy": "2022-03-20T06:34:24.904925Z",
     "iopub.status.idle": "2022-03-20T06:34:24.941882Z",
     "shell.execute_reply": "2022-03-20T06:34:24.942323Z"
    },
    "papermill": {
     "duration": 0.05357,
     "end_time": "2022-03-20T06:34:24.942461",
     "exception": false,
     "start_time": "2022-03-20T06:34:24.888891",
     "status": "completed"
    },
    "tags": []
   },
   "outputs": [],
   "source": [
    "###################################\n",
    "# Build the network(s)\n",
    "# Note: It's critical to do this AFTER setting the RNG\n",
    "###################################\n",
    "x_net = build_sequential(p.x_net)"
   ]
  },
  {
   "cell_type": "code",
   "execution_count": 9,
   "id": "5d7e61cc",
   "metadata": {
    "execution": {
     "iopub.execute_input": "2022-03-20T06:34:24.978066Z",
     "iopub.status.busy": "2022-03-20T06:34:24.977795Z",
     "iopub.status.idle": "2022-03-20T06:34:24.994068Z",
     "shell.execute_reply": "2022-03-20T06:34:24.994656Z"
    },
    "papermill": {
     "duration": 0.033206,
     "end_time": "2022-03-20T06:34:24.994805",
     "exception": false,
     "start_time": "2022-03-20T06:34:24.961599",
     "status": "completed"
    },
    "tags": []
   },
   "outputs": [],
   "source": [
    "start_time_secs = time.time()"
   ]
  },
  {
   "cell_type": "code",
   "execution_count": 10,
   "id": "c6b67dfd",
   "metadata": {
    "execution": {
     "iopub.execute_input": "2022-03-20T06:34:25.029661Z",
     "iopub.status.busy": "2022-03-20T06:34:25.029396Z",
     "iopub.status.idle": "2022-03-20T06:34:25.043923Z",
     "shell.execute_reply": "2022-03-20T06:34:25.044492Z"
    },
    "papermill": {
     "duration": 0.031464,
     "end_time": "2022-03-20T06:34:25.044678",
     "exception": false,
     "start_time": "2022-03-20T06:34:25.013214",
     "status": "completed"
    },
    "tags": []
   },
   "outputs": [],
   "source": [
    "p.domains_source = []\n",
    "p.domains_target = []\n",
    "\n",
    "\n",
    "train_original_source = []\n",
    "val_original_source   = []\n",
    "test_original_source  = []\n",
    "\n",
    "train_original_target = []\n",
    "val_original_target   = []\n",
    "test_original_target  = []"
   ]
  },
  {
   "cell_type": "code",
   "execution_count": 11,
   "id": "e3d9c3d3",
   "metadata": {
    "execution": {
     "iopub.execute_input": "2022-03-20T06:34:25.080360Z",
     "iopub.status.busy": "2022-03-20T06:34:25.080093Z",
     "iopub.status.idle": "2022-03-20T06:34:25.096739Z",
     "shell.execute_reply": "2022-03-20T06:34:25.097162Z"
    },
    "papermill": {
     "duration": 0.032863,
     "end_time": "2022-03-20T06:34:25.097297",
     "exception": false,
     "start_time": "2022-03-20T06:34:25.064434",
     "status": "completed"
    },
    "tags": []
   },
   "outputs": [],
   "source": [
    "# global_x_transform_func = lambda x: normalize(x.to(torch.get_default_dtype()), \"unit_power\") # unit_power, unit_mag\n",
    "# global_x_transform_func = lambda x: normalize(x, \"unit_power\") # unit_power, unit_mag"
   ]
  },
  {
   "cell_type": "code",
   "execution_count": 12,
   "id": "acb78fd2",
   "metadata": {
    "execution": {
     "iopub.execute_input": "2022-03-20T06:34:25.137570Z",
     "iopub.status.busy": "2022-03-20T06:34:25.131994Z",
     "iopub.status.idle": "2022-03-20T06:34:25.151453Z",
     "shell.execute_reply": "2022-03-20T06:34:25.151886Z"
    },
    "papermill": {
     "duration": 0.034804,
     "end_time": "2022-03-20T06:34:25.152023",
     "exception": false,
     "start_time": "2022-03-20T06:34:25.117219",
     "status": "completed"
    },
    "tags": []
   },
   "outputs": [],
   "source": [
    "def add_dataset(\n",
    "    labels,\n",
    "    domains,\n",
    "    pickle_path,\n",
    "    x_transforms,\n",
    "    episode_transforms,\n",
    "    domain_prefix,\n",
    "    num_examples_per_domain_per_label,\n",
    "    source_or_target_dataset:str,\n",
    "    iterator_seed=p.seed,\n",
    "    dataset_seed=p.dataset_seed,\n",
    "    n_shot=p.n_shot,\n",
    "    n_way=p.n_way,\n",
    "    n_query=p.n_query,\n",
    "    train_val_test_k_factors=(p.train_k_factor,p.val_k_factor,p.test_k_factor),\n",
    "):\n",
    "   \n",
    "    if x_transforms == []: x_transform = None\n",
    "    else: x_transform = get_chained_transform(x_transforms)\n",
    "    \n",
    "    if episode_transforms == []: episode_transform = None\n",
    "    else: raise Exception(\"episode_transforms not implemented\")\n",
    "    \n",
    "    episode_transform = lambda tup, _prefix=domain_prefix: (_prefix + str(tup[0]), tup[1])\n",
    "\n",
    "\n",
    "    eaf = Episodic_Accessor_Factory(\n",
    "        labels=labels,\n",
    "        domains=domains,\n",
    "        num_examples_per_domain_per_label=num_examples_per_domain_per_label,\n",
    "        iterator_seed=iterator_seed,\n",
    "        dataset_seed=dataset_seed,\n",
    "        n_shot=n_shot,\n",
    "        n_way=n_way,\n",
    "        n_query=n_query,\n",
    "        train_val_test_k_factors=train_val_test_k_factors,\n",
    "        pickle_path=pickle_path,\n",
    "        x_transform_func=x_transform,\n",
    "    )\n",
    "\n",
    "    train, val, test = eaf.get_train(), eaf.get_val(), eaf.get_test()\n",
    "    train = Lazy_Iterable_Wrapper(train, episode_transform)\n",
    "    val = Lazy_Iterable_Wrapper(val, episode_transform)\n",
    "    test = Lazy_Iterable_Wrapper(test, episode_transform)\n",
    "\n",
    "    if source_or_target_dataset==\"source\":\n",
    "        train_original_source.append(train)\n",
    "        val_original_source.append(val)\n",
    "        test_original_source.append(test)\n",
    "\n",
    "        p.domains_source.extend(\n",
    "            [domain_prefix + str(u) for u in domains]\n",
    "        )\n",
    "    elif source_or_target_dataset==\"target\":\n",
    "        train_original_target.append(train)\n",
    "        val_original_target.append(val)\n",
    "        test_original_target.append(test)\n",
    "        p.domains_target.extend(\n",
    "            [domain_prefix + str(u) for u in domains]\n",
    "        )\n",
    "    else:\n",
    "        raise Exception(f\"invalid source_or_target_dataset: {source_or_target_dataset}\")\n",
    "    "
   ]
  },
  {
   "cell_type": "code",
   "execution_count": 13,
   "id": "fe266617",
   "metadata": {
    "execution": {
     "iopub.execute_input": "2022-03-20T06:34:25.186049Z",
     "iopub.status.busy": "2022-03-20T06:34:25.185788Z",
     "iopub.status.idle": "2022-03-20T06:35:34.352855Z",
     "shell.execute_reply": "2022-03-20T06:35:34.352589Z"
    },
    "papermill": {
     "duration": 69.182962,
     "end_time": "2022-03-20T06:35:34.352921",
     "exception": false,
     "start_time": "2022-03-20T06:34:25.169959",
     "status": "completed"
    },
    "tags": []
   },
   "outputs": [],
   "source": [
    "for ds in p.datasets:\n",
    "    add_dataset(**ds)"
   ]
  },
  {
   "cell_type": "code",
   "execution_count": 14,
   "id": "b90d65ac",
   "metadata": {
    "execution": {
     "iopub.execute_input": "2022-03-20T06:35:34.384526Z",
     "iopub.status.busy": "2022-03-20T06:35:34.384108Z",
     "iopub.status.idle": "2022-03-20T06:35:34.395704Z",
     "shell.execute_reply": "2022-03-20T06:35:34.395420Z"
    },
    "papermill": {
     "duration": 0.027086,
     "end_time": "2022-03-20T06:35:34.395765",
     "exception": false,
     "start_time": "2022-03-20T06:35:34.368679",
     "status": "completed"
    },
    "tags": []
   },
   "outputs": [],
   "source": [
    "# from steves_utils.CORES.utils import (\n",
    "#     ALL_NODES,\n",
    "#     ALL_NODES_MINIMUM_1000_EXAMPLES,\n",
    "#     ALL_DAYS\n",
    "# )\n",
    "\n",
    "# add_dataset(\n",
    "#     labels=ALL_NODES,\n",
    "#     domains = ALL_DAYS,\n",
    "#     num_examples_per_domain_per_label=100,\n",
    "#     pickle_path=os.path.join(get_datasets_base_path(), \"cores.stratified_ds.2022A.pkl\"),\n",
    "#     source_or_target_dataset=\"target\",\n",
    "#     x_transform_func=global_x_transform_func,\n",
    "#     domain_modifier=lambda u: f\"cores_{u}\"\n",
    "# )"
   ]
  },
  {
   "cell_type": "code",
   "execution_count": 15,
   "id": "76db484d",
   "metadata": {
    "execution": {
     "iopub.execute_input": "2022-03-20T06:35:34.425497Z",
     "iopub.status.busy": "2022-03-20T06:35:34.425090Z",
     "iopub.status.idle": "2022-03-20T06:35:34.436150Z",
     "shell.execute_reply": "2022-03-20T06:35:34.435873Z"
    },
    "papermill": {
     "duration": 0.026566,
     "end_time": "2022-03-20T06:35:34.436208",
     "exception": false,
     "start_time": "2022-03-20T06:35:34.409642",
     "status": "completed"
    },
    "tags": []
   },
   "outputs": [],
   "source": [
    "# from steves_utils.ORACLE.utils_v2 import (\n",
    "#     ALL_DISTANCES_FEET,\n",
    "#     ALL_RUNS,\n",
    "#     ALL_SERIAL_NUMBERS,\n",
    "# )\n",
    "\n",
    "\n",
    "# add_dataset(\n",
    "#     labels=ALL_SERIAL_NUMBERS,\n",
    "#     domains = list(set(ALL_DISTANCES_FEET) - {2,62}),\n",
    "#     num_examples_per_domain_per_label=100,\n",
    "#     pickle_path=os.path.join(get_datasets_base_path(), \"oracle.Run2_framed_2000Examples_stratified_ds.2022A.pkl\"),\n",
    "#     source_or_target_dataset=\"source\",\n",
    "#     x_transform_func=global_x_transform_func,\n",
    "#     domain_modifier=lambda u: f\"oracle1_{u}\"\n",
    "# )\n"
   ]
  },
  {
   "cell_type": "code",
   "execution_count": 16,
   "id": "97dea9d2",
   "metadata": {
    "execution": {
     "iopub.execute_input": "2022-03-20T06:35:34.466772Z",
     "iopub.status.busy": "2022-03-20T06:35:34.465947Z",
     "iopub.status.idle": "2022-03-20T06:35:34.478156Z",
     "shell.execute_reply": "2022-03-20T06:35:34.477883Z"
    },
    "papermill": {
     "duration": 0.027677,
     "end_time": "2022-03-20T06:35:34.478215",
     "exception": false,
     "start_time": "2022-03-20T06:35:34.450538",
     "status": "completed"
    },
    "tags": []
   },
   "outputs": [],
   "source": [
    "# from steves_utils.ORACLE.utils_v2 import (\n",
    "#     ALL_DISTANCES_FEET,\n",
    "#     ALL_RUNS,\n",
    "#     ALL_SERIAL_NUMBERS,\n",
    "# )\n",
    "\n",
    "\n",
    "# add_dataset(\n",
    "#     labels=ALL_SERIAL_NUMBERS,\n",
    "#     domains = list(set(ALL_DISTANCES_FEET) - {2,62,56}),\n",
    "#     num_examples_per_domain_per_label=100,\n",
    "#     pickle_path=os.path.join(get_datasets_base_path(), \"oracle.Run2_framed_2000Examples_stratified_ds.2022A.pkl\"),\n",
    "#     source_or_target_dataset=\"source\",\n",
    "#     x_transform_func=global_x_transform_func,\n",
    "#     domain_modifier=lambda u: f\"oracle2_{u}\"\n",
    "# )"
   ]
  },
  {
   "cell_type": "code",
   "execution_count": 17,
   "id": "6f289866",
   "metadata": {
    "execution": {
     "iopub.execute_input": "2022-03-20T06:35:34.509912Z",
     "iopub.status.busy": "2022-03-20T06:35:34.509502Z",
     "iopub.status.idle": "2022-03-20T06:35:34.520700Z",
     "shell.execute_reply": "2022-03-20T06:35:34.520424Z"
    },
    "papermill": {
     "duration": 0.026814,
     "end_time": "2022-03-20T06:35:34.520760",
     "exception": false,
     "start_time": "2022-03-20T06:35:34.493946",
     "status": "completed"
    },
    "tags": []
   },
   "outputs": [],
   "source": [
    "# add_dataset(\n",
    "#     labels=list(range(19)),\n",
    "#     domains = [0,1,2],\n",
    "#     num_examples_per_domain_per_label=100,\n",
    "#     pickle_path=os.path.join(get_datasets_base_path(), \"metehan.stratified_ds.2022A.pkl\"),\n",
    "#     source_or_target_dataset=\"target\",\n",
    "#     x_transform_func=global_x_transform_func,\n",
    "#     domain_modifier=lambda u: f\"met_{u}\"\n",
    "# )"
   ]
  },
  {
   "cell_type": "code",
   "execution_count": 18,
   "id": "86a863c3",
   "metadata": {
    "execution": {
     "iopub.execute_input": "2022-03-20T06:35:34.553303Z",
     "iopub.status.busy": "2022-03-20T06:35:34.552278Z",
     "iopub.status.idle": "2022-03-20T06:35:34.563584Z",
     "shell.execute_reply": "2022-03-20T06:35:34.563311Z"
    },
    "papermill": {
     "duration": 0.026791,
     "end_time": "2022-03-20T06:35:34.563643",
     "exception": false,
     "start_time": "2022-03-20T06:35:34.536852",
     "status": "completed"
    },
    "tags": []
   },
   "outputs": [],
   "source": [
    "# # from steves_utils.wisig.utils import (\n",
    "# #     ALL_NODES_MINIMUM_100_EXAMPLES,\n",
    "# #     ALL_NODES_MINIMUM_500_EXAMPLES,\n",
    "# #     ALL_NODES_MINIMUM_1000_EXAMPLES,\n",
    "# #     ALL_DAYS\n",
    "# # )\n",
    "\n",
    "# import steves_utils.wisig.utils as wisig\n",
    "\n",
    "\n",
    "# add_dataset(\n",
    "#     labels=wisig.ALL_NODES_MINIMUM_100_EXAMPLES,\n",
    "#     domains = wisig.ALL_DAYS,\n",
    "#     num_examples_per_domain_per_label=100,\n",
    "#     pickle_path=os.path.join(get_datasets_base_path(), \"wisig.node3-19.stratified_ds.2022A.pkl\"),\n",
    "#     source_or_target_dataset=\"target\",\n",
    "#     x_transform_func=global_x_transform_func,\n",
    "#     domain_modifier=lambda u: f\"wisig_{u}\"\n",
    "# )"
   ]
  },
  {
   "cell_type": "code",
   "execution_count": 19,
   "id": "fd5442bc",
   "metadata": {
    "execution": {
     "iopub.execute_input": "2022-03-20T06:35:34.598761Z",
     "iopub.status.busy": "2022-03-20T06:35:34.598342Z",
     "iopub.status.idle": "2022-03-20T06:35:34.610136Z",
     "shell.execute_reply": "2022-03-20T06:35:34.609858Z"
    },
    "papermill": {
     "duration": 0.030419,
     "end_time": "2022-03-20T06:35:34.610198",
     "exception": false,
     "start_time": "2022-03-20T06:35:34.579779",
     "status": "completed"
    },
    "tags": []
   },
   "outputs": [],
   "source": [
    "###################################\n",
    "# Build the dataset\n",
    "###################################\n",
    "train_original_source = Iterable_Aggregator(train_original_source, p.seed)\n",
    "val_original_source = Iterable_Aggregator(val_original_source, p.seed)\n",
    "test_original_source = Iterable_Aggregator(test_original_source, p.seed)\n",
    "\n",
    "\n",
    "train_original_target = Iterable_Aggregator(train_original_target, p.seed)\n",
    "val_original_target = Iterable_Aggregator(val_original_target, p.seed)\n",
    "test_original_target = Iterable_Aggregator(test_original_target, p.seed)\n",
    "\n",
    "# For CNN We only use X and Y. And we only train on the source.\n",
    "# Properly form the data using a transform lambda and Lazy_Iterable_Wrapper. Finally wrap them in a dataloader\n",
    "\n",
    "transform_lambda = lambda ex: ex[1] # Original is (<domain>, <episode>) so we strip down to episode only\n",
    "\n",
    "train_processed_source = Lazy_Iterable_Wrapper(train_original_source, transform_lambda)\n",
    "val_processed_source   = Lazy_Iterable_Wrapper(val_original_source, transform_lambda)\n",
    "test_processed_source  = Lazy_Iterable_Wrapper(test_original_source, transform_lambda)\n",
    "\n",
    "train_processed_target = Lazy_Iterable_Wrapper(train_original_target, transform_lambda)\n",
    "val_processed_target   = Lazy_Iterable_Wrapper(val_original_target, transform_lambda)\n",
    "test_processed_target  = Lazy_Iterable_Wrapper(test_original_target, transform_lambda)\n",
    "\n",
    "datasets = EasyDict({\n",
    "    \"source\": {\n",
    "        \"original\": {\"train\":train_original_source, \"val\":val_original_source, \"test\":test_original_source},\n",
    "        \"processed\": {\"train\":train_processed_source, \"val\":val_processed_source, \"test\":test_processed_source}\n",
    "    },\n",
    "    \"target\": {\n",
    "        \"original\": {\"train\":train_original_target, \"val\":val_original_target, \"test\":test_original_target},\n",
    "        \"processed\": {\"train\":train_processed_target, \"val\":val_processed_target, \"test\":test_processed_target}\n",
    "    },\n",
    "})"
   ]
  },
  {
   "cell_type": "code",
   "execution_count": 20,
   "id": "5b3c01fc",
   "metadata": {
    "execution": {
     "iopub.execute_input": "2022-03-20T06:35:34.642665Z",
     "iopub.status.busy": "2022-03-20T06:35:34.641998Z",
     "iopub.status.idle": "2022-03-20T06:35:44.175564Z",
     "shell.execute_reply": "2022-03-20T06:35:44.176077Z"
    },
    "papermill": {
     "duration": 9.551335,
     "end_time": "2022-03-20T06:35:44.176216",
     "exception": false,
     "start_time": "2022-03-20T06:35:34.624881",
     "status": "completed"
    },
    "tags": []
   },
   "outputs": [
    {
     "name": "stdout",
     "output_type": "stream",
     "text": [
      "{'C_5', 'C_3', 'W_2', 'W_1', 'C_1', 'C_2', 'W_4', 'W_3', 'C_4'}\n"
     ]
    },
    {
     "name": "stdout",
     "output_type": "stream",
     "text": [
      "{'O_38', 'O_32', 'O_14', 'O_44', 'O_8', 'O_26', 'O_20', 'O_50'}\n"
     ]
    },
    {
     "name": "stdout",
     "output_type": "stream",
     "text": [
      "tensor([[[-0.0560,  1.4274,  0.0560,  ...,  1.4325,  1.2671, -0.9261],\n",
      "         [-1.0813,  0.1425,  1.7225,  ..., -0.3180,  1.6564,  0.5750]],\n",
      "\n",
      "        [[ 0.5573,  0.8886, -1.2225,  ...,  0.6024, -0.9037, -1.9052],\n",
      "         [-0.6677,  0.5623,  1.0919,  ...,  0.4644,  1.5262,  0.1330]],\n",
      "\n",
      "        [[ 0.4213,  1.5446,  0.4940,  ...,  1.8656,  0.7171, -0.9880],\n",
      "         [-1.0732,  0.4639,  1.4092,  ..., -0.7773,  1.1785, -1.1384]],\n",
      "\n",
      "        ...,\n",
      "\n",
      "        [[-0.7825, -0.7964,  0.1242,  ...,  0.3968,  0.6025,  0.2153],\n",
      "         [ 0.8031, -0.0331, -1.1719,  ..., -1.0396, -0.6995,  0.4430]],\n",
      "\n",
      "        [[-0.0519, -0.0541, -0.0689,  ..., -0.9213, -0.4203,  0.4084],\n",
      "         [-0.0852, -0.0949, -0.0074,  ..., -0.8049, -1.3223, -0.7264]],\n",
      "\n",
      "        [[-0.1092, -0.3671,  0.0022,  ..., -0.5211,  0.5555, -0.1376],\n",
      "         [-0.1862, -0.1929, -0.8374,  ..., -1.0610, -0.0957,  1.0968]]])\n"
     ]
    }
   ],
   "source": [
    "from steves_utils.transforms import get_average_magnitude, get_average_power\n",
    "\n",
    "print(set([u for u,_ in val_original_source]))\n",
    "print(set([u for u,_ in val_original_target]))\n",
    "\n",
    "s_x, s_y, q_x, q_y, _ = next(iter(train_processed_source))\n",
    "print(s_x)\n",
    "\n",
    "# for ds in [\n",
    "#     train_processed_source,\n",
    "#     val_processed_source,\n",
    "#     test_processed_source,\n",
    "#     train_processed_target,\n",
    "#     val_processed_target,\n",
    "#     test_processed_target\n",
    "# ]:\n",
    "#     for s_x, s_y, q_x, q_y, _ in ds:\n",
    "#         for X in (s_x, q_x):\n",
    "#             for x in X:\n",
    "#                 assert np.isclose(get_average_magnitude(x.numpy()), 1.0)\n",
    "#                 assert np.isclose(get_average_power(x.numpy()), 1.0)\n",
    "                "
   ]
  },
  {
   "cell_type": "code",
   "execution_count": 21,
   "id": "bbdacba1",
   "metadata": {
    "execution": {
     "iopub.execute_input": "2022-03-20T06:35:44.221337Z",
     "iopub.status.busy": "2022-03-20T06:35:44.221068Z",
     "iopub.status.idle": "2022-03-20T06:35:44.272422Z",
     "shell.execute_reply": "2022-03-20T06:35:44.272176Z"
    },
    "papermill": {
     "duration": 0.076164,
     "end_time": "2022-03-20T06:35:44.272485",
     "exception": false,
     "start_time": "2022-03-20T06:35:44.196321",
     "status": "completed"
    },
    "tags": []
   },
   "outputs": [
    {
     "name": "stdout",
     "output_type": "stream",
     "text": [
      "(2, 200)\n"
     ]
    }
   ],
   "source": [
    "###################################\n",
    "# Build the model\n",
    "###################################\n",
    "# easfsl only wants a tuple for the shape\n",
    "model = Steves_Prototypical_Network(x_net, device=p.device, x_shape=tuple(p.x_shape))\n",
    "optimizer = Adam(params=model.parameters(), lr=p.lr)"
   ]
  },
  {
   "cell_type": "code",
   "execution_count": 22,
   "id": "22b39ac5",
   "metadata": {
    "execution": {
     "iopub.execute_input": "2022-03-20T06:35:44.309599Z",
     "iopub.status.busy": "2022-03-20T06:35:44.309336Z",
     "iopub.status.idle": "2022-03-20T07:46:37.680346Z",
     "shell.execute_reply": "2022-03-20T07:46:37.680106Z"
    },
    "papermill": {
     "duration": 4253.390012,
     "end_time": "2022-03-20T07:46:37.680408",
     "exception": false,
     "start_time": "2022-03-20T06:35:44.290396",
     "status": "completed"
    },
    "tags": []
   },
   "outputs": [
    {
     "name": "stdout",
     "output_type": "stream",
     "text": [
      "epoch: 1, [batch: 1 / 13178], examples_per_second: 23.4641, train_label_loss: 2.5590, \n"
     ]
    },
    {
     "name": "stdout",
     "output_type": "stream",
     "text": [
      "epoch: 1, [batch: 1318 / 13178], examples_per_second: 1825.5427, train_label_loss: 0.0059, \n"
     ]
    },
    {
     "name": "stdout",
     "output_type": "stream",
     "text": [
      "epoch: 1, [batch: 2636 / 13178], examples_per_second: 2433.4852, train_label_loss: 0.3432, \n"
     ]
    },
    {
     "name": "stdout",
     "output_type": "stream",
     "text": [
      "epoch: 1, [batch: 3954 / 13178], examples_per_second: 1735.8654, train_label_loss: 0.3582, \n"
     ]
    },
    {
     "name": "stdout",
     "output_type": "stream",
     "text": [
      "epoch: 1, [batch: 5271 / 13178], examples_per_second: 1730.7130, train_label_loss: 0.0202, \n"
     ]
    },
    {
     "name": "stdout",
     "output_type": "stream",
     "text": [
      "epoch: 1, [batch: 6589 / 13178], examples_per_second: 1736.9577, train_label_loss: 0.0347, \n"
     ]
    },
    {
     "name": "stdout",
     "output_type": "stream",
     "text": [
      "epoch: 1, [batch: 7907 / 13178], examples_per_second: 1740.4059, train_label_loss: 0.1207, \n"
     ]
    },
    {
     "name": "stdout",
     "output_type": "stream",
     "text": [
      "epoch: 1, [batch: 9224 / 13178], examples_per_second: 1735.9294, train_label_loss: 0.0013, \n"
     ]
    },
    {
     "name": "stdout",
     "output_type": "stream",
     "text": [
      "epoch: 1, [batch: 10542 / 13178], examples_per_second: 1734.9654, train_label_loss: 0.0965, \n"
     ]
    },
    {
     "name": "stdout",
     "output_type": "stream",
     "text": [
      "epoch: 1, [batch: 11860 / 13178], examples_per_second: 1739.7285, train_label_loss: 0.0589, \n"
     ]
    },
    {
     "name": "stdout",
     "output_type": "stream",
     "text": [
      "=============================================================\n",
      "epoch: 1, source_val_acc_label: 0.9762, target_val_acc_label: 0.2179, source_val_label_loss: 0.1180, target_val_label_loss: 2.3825, \n",
      "=============================================================\n"
     ]
    },
    {
     "name": "stdout",
     "output_type": "stream",
     "text": [
      "New best\n"
     ]
    },
    {
     "name": "stdout",
     "output_type": "stream",
     "text": [
      "epoch: 2, [batch: 1 / 13164], examples_per_second: 1.4723, train_label_loss: 0.0456, \n"
     ]
    },
    {
     "name": "stdout",
     "output_type": "stream",
     "text": [
      "epoch: 2, [batch: 1317 / 13164], examples_per_second: 1778.1788, train_label_loss: 0.0289, \n"
     ]
    },
    {
     "name": "stdout",
     "output_type": "stream",
     "text": [
      "epoch: 2, [batch: 2633 / 13164], examples_per_second: 2448.5090, train_label_loss: 0.0704, \n"
     ]
    },
    {
     "name": "stdout",
     "output_type": "stream",
     "text": [
      "epoch: 2, [batch: 3949 / 13164], examples_per_second: 1781.3834, train_label_loss: 0.0022, \n"
     ]
    },
    {
     "name": "stdout",
     "output_type": "stream",
     "text": [
      "epoch: 2, [batch: 5266 / 13164], examples_per_second: 1734.1359, train_label_loss: 0.0205, \n"
     ]
    },
    {
     "name": "stdout",
     "output_type": "stream",
     "text": [
      "epoch: 2, [batch: 6582 / 13164], examples_per_second: 1739.2601, train_label_loss: 0.0021, \n"
     ]
    },
    {
     "name": "stdout",
     "output_type": "stream",
     "text": [
      "epoch: 2, [batch: 7898 / 13164], examples_per_second: 1743.1226, train_label_loss: 0.0072, \n"
     ]
    },
    {
     "name": "stdout",
     "output_type": "stream",
     "text": [
      "epoch: 2, [batch: 9215 / 13164], examples_per_second: 1733.9408, train_label_loss: 0.0014, \n"
     ]
    },
    {
     "name": "stdout",
     "output_type": "stream",
     "text": [
      "epoch: 2, [batch: 10531 / 13164], examples_per_second: 1737.7195, train_label_loss: 0.0001, \n"
     ]
    },
    {
     "name": "stdout",
     "output_type": "stream",
     "text": [
      "epoch: 2, [batch: 11847 / 13164], examples_per_second: 1739.5935, train_label_loss: 0.0883, \n"
     ]
    },
    {
     "name": "stdout",
     "output_type": "stream",
     "text": [
      "=============================================================\n",
      "epoch: 2, source_val_acc_label: 0.9834, target_val_acc_label: 0.2401, source_val_label_loss: 0.0744, target_val_label_loss: 2.2976, \n",
      "=============================================================\n"
     ]
    },
    {
     "name": "stdout",
     "output_type": "stream",
     "text": [
      "New best\n"
     ]
    },
    {
     "name": "stdout",
     "output_type": "stream",
     "text": [
      "epoch: 3, [batch: 1 / 13141], examples_per_second: 1.4708, train_label_loss: 0.2882, \n"
     ]
    },
    {
     "name": "stdout",
     "output_type": "stream",
     "text": [
      "epoch: 3, [batch: 1315 / 13141], examples_per_second: 1742.3133, train_label_loss: 0.0051, \n"
     ]
    },
    {
     "name": "stdout",
     "output_type": "stream",
     "text": [
      "epoch: 3, [batch: 2629 / 13141], examples_per_second: 2294.0219, train_label_loss: 0.2569, \n"
     ]
    },
    {
     "name": "stdout",
     "output_type": "stream",
     "text": [
      "epoch: 3, [batch: 3943 / 13141], examples_per_second: 1899.6487, train_label_loss: 0.3532, \n"
     ]
    },
    {
     "name": "stdout",
     "output_type": "stream",
     "text": [
      "epoch: 3, [batch: 5257 / 13141], examples_per_second: 1727.1630, train_label_loss: 0.0002, \n"
     ]
    },
    {
     "name": "stdout",
     "output_type": "stream",
     "text": [
      "epoch: 3, [batch: 6571 / 13141], examples_per_second: 1739.4927, train_label_loss: 0.0011, \n"
     ]
    },
    {
     "name": "stdout",
     "output_type": "stream",
     "text": [
      "epoch: 3, [batch: 7885 / 13141], examples_per_second: 1741.7313, train_label_loss: 0.0008, \n"
     ]
    },
    {
     "name": "stdout",
     "output_type": "stream",
     "text": [
      "epoch: 3, [batch: 9199 / 13141], examples_per_second: 1737.3762, train_label_loss: 0.1794, \n"
     ]
    },
    {
     "name": "stdout",
     "output_type": "stream",
     "text": [
      "epoch: 3, [batch: 10513 / 13141], examples_per_second: 1737.3831, train_label_loss: 0.2100, \n"
     ]
    },
    {
     "name": "stdout",
     "output_type": "stream",
     "text": [
      "epoch: 3, [batch: 11827 / 13141], examples_per_second: 1739.0498, train_label_loss: 0.3766, \n"
     ]
    },
    {
     "name": "stdout",
     "output_type": "stream",
     "text": [
      "=============================================================\n",
      "epoch: 3, source_val_acc_label: 0.9850, target_val_acc_label: 0.2520, source_val_label_loss: 0.0638, target_val_label_loss: 2.2479, \n",
      "=============================================================\n"
     ]
    },
    {
     "name": "stdout",
     "output_type": "stream",
     "text": [
      "New best\n"
     ]
    },
    {
     "name": "stdout",
     "output_type": "stream",
     "text": [
      "epoch: 4, [batch: 1 / 13165], examples_per_second: 1.4694, train_label_loss: 0.0030, \n"
     ]
    },
    {
     "name": "stdout",
     "output_type": "stream",
     "text": [
      "epoch: 4, [batch: 1317 / 13165], examples_per_second: 1739.3860, train_label_loss: 0.0356, \n"
     ]
    },
    {
     "name": "stdout",
     "output_type": "stream",
     "text": [
      "epoch: 4, [batch: 2633 / 13165], examples_per_second: 2155.0161, train_label_loss: 0.0002, \n"
     ]
    },
    {
     "name": "stdout",
     "output_type": "stream",
     "text": [
      "epoch: 4, [batch: 3950 / 13165], examples_per_second: 2281.7245, train_label_loss: 0.0002, \n"
     ]
    },
    {
     "name": "stdout",
     "output_type": "stream",
     "text": [
      "epoch: 4, [batch: 5266 / 13165], examples_per_second: 2279.0775, train_label_loss: 0.1092, \n"
     ]
    },
    {
     "name": "stdout",
     "output_type": "stream",
     "text": [
      "epoch: 4, [batch: 6583 / 13165], examples_per_second: 2155.5247, train_label_loss: 0.0006, \n"
     ]
    },
    {
     "name": "stdout",
     "output_type": "stream",
     "text": [
      "epoch: 4, [batch: 7899 / 13165], examples_per_second: 2820.9749, train_label_loss: 0.2645, \n"
     ]
    },
    {
     "name": "stdout",
     "output_type": "stream",
     "text": [
      "epoch: 4, [batch: 9215 / 13165], examples_per_second: 3541.0209, train_label_loss: 0.0823, \n"
     ]
    },
    {
     "name": "stdout",
     "output_type": "stream",
     "text": [
      "epoch: 4, [batch: 10532 / 13165], examples_per_second: 3613.6856, train_label_loss: 0.0003, \n"
     ]
    },
    {
     "name": "stdout",
     "output_type": "stream",
     "text": [
      "epoch: 4, [batch: 11848 / 13165], examples_per_second: 3612.8066, train_label_loss: 0.1121, \n"
     ]
    },
    {
     "name": "stdout",
     "output_type": "stream",
     "text": [
      "=============================================================\n",
      "epoch: 4, source_val_acc_label: 0.9850, target_val_acc_label: 0.2216, source_val_label_loss: 0.0653, target_val_label_loss: 2.4018, \n",
      "=============================================================\n"
     ]
    },
    {
     "name": "stdout",
     "output_type": "stream",
     "text": [
      "epoch: 5, [batch: 1 / 13180], examples_per_second: 2.2633, train_label_loss: 0.0005, \n"
     ]
    },
    {
     "name": "stdout",
     "output_type": "stream",
     "text": [
      "epoch: 5, [batch: 1318 / 13180], examples_per_second: 1724.9172, train_label_loss: 0.0005, \n"
     ]
    },
    {
     "name": "stdout",
     "output_type": "stream",
     "text": [
      "epoch: 5, [batch: 2636 / 13180], examples_per_second: 1725.2110, train_label_loss: 0.3201, \n"
     ]
    },
    {
     "name": "stdout",
     "output_type": "stream",
     "text": [
      "epoch: 5, [batch: 3954 / 13180], examples_per_second: 1730.9960, train_label_loss: 0.0000, \n"
     ]
    },
    {
     "name": "stdout",
     "output_type": "stream",
     "text": [
      "epoch: 5, [batch: 5272 / 13180], examples_per_second: 1723.1954, train_label_loss: 0.0001, \n"
     ]
    },
    {
     "name": "stdout",
     "output_type": "stream",
     "text": [
      "epoch: 5, [batch: 6590 / 13180], examples_per_second: 1726.1083, train_label_loss: 0.0004, \n"
     ]
    },
    {
     "name": "stdout",
     "output_type": "stream",
     "text": [
      "epoch: 5, [batch: 7908 / 13180], examples_per_second: 1728.5598, train_label_loss: 0.1869, \n"
     ]
    },
    {
     "name": "stdout",
     "output_type": "stream",
     "text": [
      "epoch: 5, [batch: 9226 / 13180], examples_per_second: 1725.9032, train_label_loss: 0.1035, \n"
     ]
    },
    {
     "name": "stdout",
     "output_type": "stream",
     "text": [
      "epoch: 5, [batch: 10544 / 13180], examples_per_second: 1727.8940, train_label_loss: 0.0000, \n"
     ]
    },
    {
     "name": "stdout",
     "output_type": "stream",
     "text": [
      "epoch: 5, [batch: 11862 / 13180], examples_per_second: 1730.3703, train_label_loss: 0.0106, \n"
     ]
    },
    {
     "name": "stdout",
     "output_type": "stream",
     "text": [
      "=============================================================\n",
      "epoch: 5, source_val_acc_label: 0.9845, target_val_acc_label: 0.1991, source_val_label_loss: 0.0693, target_val_label_loss: 2.6879, \n",
      "=============================================================\n"
     ]
    },
    {
     "name": "stdout",
     "output_type": "stream",
     "text": [
      "epoch: 6, [batch: 1 / 13166], examples_per_second: 1.8165, train_label_loss: 0.0003, \n"
     ]
    },
    {
     "name": "stdout",
     "output_type": "stream",
     "text": [
      "epoch: 6, [batch: 1317 / 13166], examples_per_second: 1739.4901, train_label_loss: 0.0002, \n"
     ]
    },
    {
     "name": "stdout",
     "output_type": "stream",
     "text": [
      "epoch: 6, [batch: 2634 / 13166], examples_per_second: 1739.9080, train_label_loss: 0.0209, \n"
     ]
    },
    {
     "name": "stdout",
     "output_type": "stream",
     "text": [
      "epoch: 6, [batch: 3950 / 13166], examples_per_second: 1743.7286, train_label_loss: 0.0001, \n"
     ]
    },
    {
     "name": "stdout",
     "output_type": "stream",
     "text": [
      "epoch: 6, [batch: 5267 / 13166], examples_per_second: 1736.6679, train_label_loss: 0.0068, \n"
     ]
    },
    {
     "name": "stdout",
     "output_type": "stream",
     "text": [
      "epoch: 6, [batch: 6583 / 13166], examples_per_second: 1740.8143, train_label_loss: 0.0353, \n"
     ]
    },
    {
     "name": "stdout",
     "output_type": "stream",
     "text": [
      "epoch: 6, [batch: 7900 / 13166], examples_per_second: 1740.6942, train_label_loss: 0.1383, \n"
     ]
    },
    {
     "name": "stdout",
     "output_type": "stream",
     "text": [
      "epoch: 6, [batch: 9216 / 13166], examples_per_second: 1738.4653, train_label_loss: 0.0000, \n"
     ]
    },
    {
     "name": "stdout",
     "output_type": "stream",
     "text": [
      "epoch: 6, [batch: 10533 / 13166], examples_per_second: 1738.6494, train_label_loss: 0.0004, \n"
     ]
    },
    {
     "name": "stdout",
     "output_type": "stream",
     "text": [
      "epoch: 6, [batch: 11849 / 13166], examples_per_second: 1743.9042, train_label_loss: 0.0003, \n"
     ]
    },
    {
     "name": "stdout",
     "output_type": "stream",
     "text": [
      "=============================================================\n",
      "epoch: 6, source_val_acc_label: 0.9848, target_val_acc_label: 0.2283, source_val_label_loss: 0.0689, target_val_label_loss: 2.4792, \n",
      "=============================================================\n"
     ]
    },
    {
     "name": "stdout",
     "output_type": "stream",
     "text": [
      "epoch: 7, [batch: 1 / 13148], examples_per_second: 1.7921, train_label_loss: 0.0006, \n"
     ]
    },
    {
     "name": "stdout",
     "output_type": "stream",
     "text": [
      "epoch: 7, [batch: 1315 / 13148], examples_per_second: 1740.6012, train_label_loss: 0.0001, \n"
     ]
    },
    {
     "name": "stdout",
     "output_type": "stream",
     "text": [
      "epoch: 7, [batch: 2630 / 13148], examples_per_second: 1741.2899, train_label_loss: 0.0001, \n"
     ]
    },
    {
     "name": "stdout",
     "output_type": "stream",
     "text": [
      "epoch: 7, [batch: 3945 / 13148], examples_per_second: 1744.0963, train_label_loss: 0.0020, \n"
     ]
    },
    {
     "name": "stdout",
     "output_type": "stream",
     "text": [
      "epoch: 7, [batch: 5259 / 13148], examples_per_second: 1737.1813, train_label_loss: 0.0000, \n"
     ]
    },
    {
     "name": "stdout",
     "output_type": "stream",
     "text": [
      "epoch: 7, [batch: 6574 / 13148], examples_per_second: 1739.7400, train_label_loss: 0.0005, \n"
     ]
    },
    {
     "name": "stdout",
     "output_type": "stream",
     "text": [
      "epoch: 7, [batch: 7889 / 13148], examples_per_second: 1741.3229, train_label_loss: 0.0298, \n"
     ]
    },
    {
     "name": "stdout",
     "output_type": "stream",
     "text": [
      "epoch: 7, [batch: 9203 / 13148], examples_per_second: 1739.7251, train_label_loss: 0.0031, \n"
     ]
    },
    {
     "name": "stdout",
     "output_type": "stream",
     "text": [
      "epoch: 7, [batch: 10518 / 13148], examples_per_second: 1739.5783, train_label_loss: 0.0008, \n"
     ]
    },
    {
     "name": "stdout",
     "output_type": "stream",
     "text": [
      "epoch: 7, [batch: 11833 / 13148], examples_per_second: 1740.7739, train_label_loss: 0.0071, \n"
     ]
    },
    {
     "name": "stdout",
     "output_type": "stream",
     "text": [
      "=============================================================\n",
      "epoch: 7, source_val_acc_label: 0.9855, target_val_acc_label: 0.2349, source_val_label_loss: 0.0710, target_val_label_loss: 2.4646, \n",
      "=============================================================\n"
     ]
    },
    {
     "name": "stdout",
     "output_type": "stream",
     "text": [
      "Patience (3) exhausted\n"
     ]
    }
   ],
   "source": [
    "###################################\n",
    "# train\n",
    "###################################\n",
    "jig = PTN_Train_Eval_Test_Jig(model, p.BEST_MODEL_PATH, p.device)\n",
    "\n",
    "jig.train(\n",
    "    train_iterable=datasets.source.processed.train,\n",
    "    source_val_iterable=datasets.source.processed.val,\n",
    "    target_val_iterable=datasets.target.processed.val,\n",
    "    num_epochs=p.n_epoch,\n",
    "    num_logs_per_epoch=p.NUM_LOGS_PER_EPOCH,\n",
    "    patience=p.patience,\n",
    "    optimizer=optimizer,\n",
    "    criteria_for_best=p.criteria_for_best,\n",
    ")"
   ]
  },
  {
   "cell_type": "code",
   "execution_count": 23,
   "id": "31e8fabf",
   "metadata": {
    "execution": {
     "iopub.execute_input": "2022-03-20T07:46:37.743516Z",
     "iopub.status.busy": "2022-03-20T07:46:37.743039Z",
     "iopub.status.idle": "2022-03-20T07:46:37.760035Z",
     "shell.execute_reply": "2022-03-20T07:46:37.759774Z"
    },
    "papermill": {
     "duration": 0.050136,
     "end_time": "2022-03-20T07:46:37.760093",
     "exception": false,
     "start_time": "2022-03-20T07:46:37.709957",
     "status": "completed"
    },
    "tags": []
   },
   "outputs": [],
   "source": [
    "total_experiment_time_secs = time.time() - start_time_secs"
   ]
  },
  {
   "cell_type": "code",
   "execution_count": 24,
   "id": "87b9595b",
   "metadata": {
    "execution": {
     "iopub.execute_input": "2022-03-20T07:46:37.829065Z",
     "iopub.status.busy": "2022-03-20T07:46:37.828784Z",
     "iopub.status.idle": "2022-03-20T07:50:28.763055Z",
     "shell.execute_reply": "2022-03-20T07:50:28.763498Z"
    },
    "papermill": {
     "duration": 230.974017,
     "end_time": "2022-03-20T07:50:28.763646",
     "exception": false,
     "start_time": "2022-03-20T07:46:37.789629",
     "status": "completed"
    },
    "tags": []
   },
   "outputs": [],
   "source": [
    "###################################\n",
    "# Evaluate the model\n",
    "###################################\n",
    "source_test_label_accuracy, source_test_label_loss = jig.test(datasets.source.processed.test)\n",
    "target_test_label_accuracy, target_test_label_loss = jig.test(datasets.target.processed.test)\n",
    "\n",
    "source_val_label_accuracy, source_val_label_loss = jig.test(datasets.source.processed.val)\n",
    "target_val_label_accuracy, target_val_label_loss = jig.test(datasets.target.processed.val)\n",
    "\n",
    "history = jig.get_history()\n",
    "\n",
    "total_epochs_trained = len(history[\"epoch_indices\"])\n",
    "\n",
    "val_dl = Iterable_Aggregator((datasets.source.original.val,datasets.target.original.val))\n",
    "\n",
    "confusion = ptn_confusion_by_domain_over_dataloader(model, p.device, val_dl)\n",
    "per_domain_accuracy = per_domain_accuracy_from_confusion(confusion)\n",
    "\n",
    "# Add a key to per_domain_accuracy for if it was a source domain\n",
    "for domain, accuracy in per_domain_accuracy.items():\n",
    "    per_domain_accuracy[domain] = {\n",
    "        \"accuracy\": accuracy,\n",
    "        \"source?\": domain in p.domains_source\n",
    "    }\n",
    "\n",
    "# Do an independent accuracy assesment JUST TO BE SURE!\n",
    "# _source_test_label_accuracy = independent_accuracy_assesment(model, datasets.source.processed.test, p.device)\n",
    "# _target_test_label_accuracy = independent_accuracy_assesment(model, datasets.target.processed.test, p.device)\n",
    "# _source_val_label_accuracy = independent_accuracy_assesment(model, datasets.source.processed.val, p.device)\n",
    "# _target_val_label_accuracy = independent_accuracy_assesment(model, datasets.target.processed.val, p.device)\n",
    "\n",
    "# assert(_source_test_label_accuracy == source_test_label_accuracy)\n",
    "# assert(_target_test_label_accuracy == target_test_label_accuracy)\n",
    "# assert(_source_val_label_accuracy == source_val_label_accuracy)\n",
    "# assert(_target_val_label_accuracy == target_val_label_accuracy)\n",
    "\n",
    "experiment = {\n",
    "    \"experiment_name\": p.experiment_name,\n",
    "    \"parameters\": dict(p),\n",
    "    \"results\": {\n",
    "        \"source_test_label_accuracy\": source_test_label_accuracy,\n",
    "        \"source_test_label_loss\": source_test_label_loss,\n",
    "        \"target_test_label_accuracy\": target_test_label_accuracy,\n",
    "        \"target_test_label_loss\": target_test_label_loss,\n",
    "        \"source_val_label_accuracy\": source_val_label_accuracy,\n",
    "        \"source_val_label_loss\": source_val_label_loss,\n",
    "        \"target_val_label_accuracy\": target_val_label_accuracy,\n",
    "        \"target_val_label_loss\": target_val_label_loss,\n",
    "        \"total_epochs_trained\": total_epochs_trained,\n",
    "        \"total_experiment_time_secs\": total_experiment_time_secs,\n",
    "        \"confusion\": confusion,\n",
    "        \"per_domain_accuracy\": per_domain_accuracy,\n",
    "    },\n",
    "    \"history\": history,\n",
    "    \"dataset_metrics\": get_dataset_metrics(datasets, \"ptn\"),\n",
    "}"
   ]
  },
  {
   "cell_type": "code",
   "execution_count": 25,
   "id": "54a21829",
   "metadata": {
    "execution": {
     "iopub.execute_input": "2022-03-20T07:50:28.829587Z",
     "iopub.status.busy": "2022-03-20T07:50:28.829165Z",
     "iopub.status.idle": "2022-03-20T07:50:28.955183Z",
     "shell.execute_reply": "2022-03-20T07:50:28.954934Z"
    },
    "papermill": {
     "duration": 0.1578,
     "end_time": "2022-03-20T07:50:28.955259",
     "exception": false,
     "start_time": "2022-03-20T07:50:28.797459",
     "status": "completed"
    },
    "tags": []
   },
   "outputs": [
    {
     "data": {
      "image/png": "[encoded data removed]",
      "text/plain": [
       "<Figure size 1080x504 with 1 Axes>"
      ]
     },
     "metadata": {
      "needs_background": "light"
     },
     "output_type": "display_data"
    }
   ],
   "source": [
    "ax = get_loss_curve(experiment)\n",
    "plt.show()"
   ]
  },
  {
   "cell_type": "code",
   "execution_count": 26,
   "id": "fd8a0f60",
   "metadata": {
    "execution": {
     "iopub.execute_input": "2022-03-20T07:50:29.022790Z",
     "iopub.status.busy": "2022-03-20T07:50:29.022515Z",
     "iopub.status.idle": "2022-03-20T07:50:29.187897Z",
     "shell.execute_reply": "2022-03-20T07:50:29.188125Z"
    },
    "papermill": {
     "duration": 0.200317,
     "end_time": "2022-03-20T07:50:29.188206",
     "exception": false,
     "start_time": "2022-03-20T07:50:28.987889",
     "status": "completed"
    },
    "tags": []
   },
   "outputs": [
    {
     "data": {
      "text/plain": [
       "<AxesSubplot:title={'center':'Results'}>"
      ]
     },
     "execution_count": 26,
     "metadata": {},
     "output_type": "execute_result"
    },
    {
     "data": {
      "image/png": "[encoded data removed]",
      "text/plain": [
       "<Figure size 1080x504 with 1 Axes>"
      ]
     },
     "metadata": {
      "needs_background": "light"
     },
     "output_type": "display_data"
    }
   ],
   "source": [
    "get_results_table(experiment)"
   ]
  },
  {
   "cell_type": "code",
   "execution_count": 27,
   "id": "cf8dc689",
   "metadata": {
    "execution": {
     "iopub.execute_input": "2022-03-20T07:50:29.259862Z",
     "iopub.status.busy": "2022-03-20T07:50:29.259438Z",
     "iopub.status.idle": "2022-03-20T07:50:29.412785Z",
     "shell.execute_reply": "2022-03-20T07:50:29.413017Z"
    },
    "papermill": {
     "duration": 0.189977,
     "end_time": "2022-03-20T07:50:29.413101",
     "exception": false,
     "start_time": "2022-03-20T07:50:29.223124",
     "status": "completed"
    },
    "tags": []
   },
   "outputs": [
    {
     "data": {
      "text/plain": [
       "<AxesSubplot:title={'center':'Per Domain Validation Accuracy'}, xlabel='domain'>"
      ]
     },
     "execution_count": 27,
     "metadata": {},
     "output_type": "execute_result"
    },
    {
     "data": {
      "image/png": "[encoded data removed]",
      "text/plain": [
       "<Figure size 1080x504 with 1 Axes>"
      ]
     },
     "metadata": {
      "needs_background": "light"
     },
     "output_type": "display_data"
    }
   ],
   "source": [
    "get_domain_accuracies(experiment)"
   ]
  },
  {
   "cell_type": "code",
   "execution_count": 28,
   "id": "a74ae082",
   "metadata": {
    "execution": {
     "iopub.execute_input": "2022-03-20T07:50:29.484293Z",
     "iopub.status.busy": "2022-03-20T07:50:29.484030Z",
     "iopub.status.idle": "2022-03-20T07:50:29.499553Z",
     "shell.execute_reply": "2022-03-20T07:50:29.499970Z"
    },
    "papermill": {
     "duration": 0.052841,
     "end_time": "2022-03-20T07:50:29.500099",
     "exception": false,
     "start_time": "2022-03-20T07:50:29.447258",
     "status": "completed"
    },
    "tags": []
   },
   "outputs": [
    {
     "name": "stdout",
     "output_type": "stream",
     "text": [
      "Source Test Label Accuracy: 0.986307123655914 Target Test Label Accuracy: 0.25146484375\n",
      "Source Val Label Accuracy: 0.9849759615384616 Target Val Label Accuracy: 0.25198567708333336\n"
     ]
    }
   ],
   "source": [
    "print(\"Source Test Label Accuracy:\", experiment[\"results\"][\"source_test_label_accuracy\"], \"Target Test Label Accuracy:\", experiment[\"results\"][\"target_test_label_accuracy\"])\n",
    "print(\"Source Val Label Accuracy:\", experiment[\"results\"][\"source_val_label_accuracy\"], \"Target Val Label Accuracy:\", experiment[\"results\"][\"target_val_label_accuracy\"])"
   ]
  },
  {
   "cell_type": "code",
   "execution_count": 29,
   "id": "dacca602",
   "metadata": {
    "execution": {
     "iopub.execute_input": "2022-03-20T07:50:29.572591Z",
     "iopub.status.busy": "2022-03-20T07:50:29.572335Z",
     "iopub.status.idle": "2022-03-20T07:50:29.589911Z",
     "shell.execute_reply": "2022-03-20T07:50:29.590325Z"
    },
    "papermill": {
     "duration": 0.051941,
     "end_time": "2022-03-20T07:50:29.590454",
     "exception": false,
     "start_time": "2022-03-20T07:50:29.538513",
     "status": "completed"
    },
    "tags": [
     "experiment_json"
    ]
   },
   "outputs": [
    {
     "data": {
      "text/plain": [
       "'{\"experiment_name\": \"tl_3Av2:cores+wisig -> oracle.run1.framed\", \"parameters\": {\"experiment_name\": \"tl_3Av2:cores+wisig -> oracle.run1.framed\", \"device\": \"cuda\", \"lr\": 0.0001, \"x_shape\": [2, 200], \"n_shot\": 3, \"n_query\": 2, \"train_k_factor\": 3, \"val_k_factor\": 2, \"test_k_factor\": 2, \"torch_default_dtype\": \"torch.float32\", \"n_epoch\": 50, \"patience\": 3, \"criteria_for_best\": \"target_accuracy\", \"x_net\": [{\"class\": \"nnReshape\", \"kargs\": {\"shape\": [-1, 1, 2, 200]}}, {\"class\": \"Conv2d\", \"kargs\": {\"in_channels\": 1, \"out_channels\": 256, \"kernel_size\": [1, 7], \"bias\": false, \"padding\": [0, 3]}}, {\"class\": \"ReLU\", \"kargs\": {\"inplace\": true}}, {\"class\": \"BatchNorm2d\", \"kargs\": {\"num_features\": 256}}, {\"class\": \"Conv2d\", \"kargs\": {\"in_channels\": 256, \"out_channels\": 80, \"kernel_size\": [2, 7], \"bias\": true, \"padding\": [0, 3]}}, {\"class\": \"ReLU\", \"kargs\": {\"inplace\": true}}, {\"class\": \"BatchNorm2d\", \"kargs\": {\"num_features\": 80}}, {\"class\": \"Flatten\", \"kargs\": {}}, {\"class\": \"Linear\", \"kargs\": {\"in_features\": 16000, \"out_features\": 256}}, {\"class\": \"ReLU\", \"kargs\": {\"inplace\": true}}, {\"class\": \"BatchNorm1d\", \"kargs\": {\"num_features\": 256}}, {\"class\": \"Linear\", \"kargs\": {\"in_features\": 256, \"out_features\": 256}}], \"NUM_LOGS_PER_EPOCH\": 10, \"BEST_MODEL_PATH\": \"./best_model.pth\", \"n_way\": 16, \"datasets\": [{\"labels\": [\"1-10.\", \"1-11.\", \"1-15.\", \"1-16.\", \"1-17.\", \"1-18.\", \"1-19.\", \"10-4.\", \"10-7.\", \"11-1.\", \"11-14.\", \"11-17.\", \"11-20.\", \"11-7.\", \"13-20.\", \"13-8.\", \"14-10.\", \"14-11.\", \"14-14.\", \"14-7.\", \"15-1.\", \"15-20.\", \"16-1.\", \"16-16.\", \"17-10.\", \"17-11.\", \"17-2.\", \"19-1.\", \"19-16.\", \"19-19.\", \"19-20.\", \"19-3.\", \"2-10.\", \"2-11.\", \"2-17.\", \"2-18.\", \"2-20.\", \"2-3.\", \"2-4.\", \"2-5.\", \"2-6.\", \"2-7.\", \"2-8.\", \"3-13.\", \"3-18.\", \"3-3.\", \"4-1.\", \"4-10.\", \"4-11.\", \"4-19.\", \"5-5.\", \"6-15.\", \"7-10.\", \"7-14.\", \"8-18.\", \"8-20.\", \"8-3.\", \"8-8.\"], \"domains\": [1, 2, 3, 4, 5], \"num_examples_per_domain_per_label\": -1, \"pickle_path\": \"/mnt/wd500GB/CSC500/csc500-main/datasets/cores.stratified_ds.2022A.pkl\", \"source_or_target_dataset\": \"source\", \"x_transforms\": [\"unit_mag\", \"take_200\"], \"episode_transforms\": [], \"domain_prefix\": \"C_\"}, {\"labels\": [\"1-10\", \"1-12\", \"1-14\", \"1-16\", \"1-18\", \"1-19\", \"1-8\", \"10-11\", \"10-17\", \"10-4\", \"10-7\", \"11-1\", \"11-10\", \"11-19\", \"11-20\", \"11-4\", \"11-7\", \"12-19\", \"12-20\", \"12-7\", \"13-14\", \"13-18\", \"13-19\", \"13-20\", \"13-3\", \"13-7\", \"14-10\", \"14-11\", \"14-12\", \"14-13\", \"14-14\", \"14-19\", \"14-20\", \"14-7\", \"14-8\", \"14-9\", \"15-1\", \"15-19\", \"15-6\", \"16-1\", \"16-16\", \"16-19\", \"16-20\", \"17-10\", \"17-11\", \"18-1\", \"18-10\", \"18-11\", \"18-12\", \"18-13\", \"18-14\", \"18-15\", \"18-16\", \"18-17\", \"18-19\", \"18-2\", \"18-20\", \"18-4\", \"18-5\", \"18-7\", \"18-8\", \"18-9\", \"19-1\", \"19-10\", \"19-11\", \"19-12\", \"19-13\", \"19-14\", \"19-15\", \"19-19\", \"19-2\", \"19-20\", \"19-3\", \"19-4\", \"19-6\", \"19-7\", \"19-8\", \"19-9\", \"2-1\", \"2-13\", \"2-15\", \"2-3\", \"2-4\", \"2-5\", \"2-6\", \"2-7\", \"2-8\", \"20-1\", \"20-12\", \"20-14\", \"20-15\", \"20-16\", \"20-18\", \"20-19\", \"20-20\", \"20-3\", \"20-4\", \"20-5\", \"20-7\", \"20-8\", \"3-1\", \"3-13\", \"3-18\", \"3-2\", \"3-8\", \"4-1\", \"4-10\", \"4-11\", \"5-1\", \"5-5\", \"6-1\", \"6-15\", \"6-6\", \"7-10\", \"7-11\", \"7-12\", \"7-13\", \"7-14\", \"7-7\", \"7-8\", \"7-9\", \"8-1\", \"8-13\", \"8-14\", \"8-18\", \"8-20\", \"8-3\", \"8-8\", \"9-1\", \"9-7\"], \"domains\": [1, 2, 3, 4], \"num_examples_per_domain_per_label\": -1, \"pickle_path\": \"/mnt/wd500GB/CSC500/csc500-main/datasets/wisig.node3-19.stratified_ds.2022A.pkl\", \"source_or_target_dataset\": \"source\", \"x_transforms\": [\"unit_mag\", \"take_200\"], \"episode_transforms\": [], \"domain_prefix\": \"W_\"}, {\"labels\": [\"3123D52\", \"3123D65\", \"3123D79\", \"3123D80\", \"3123D54\", \"3123D70\", \"3123D7B\", \"3123D89\", \"3123D58\", \"3123D76\", \"3123D7D\", \"3123EFE\", \"3123D64\", \"3123D78\", \"3123D7E\", \"3124E4A\"], \"domains\": [32, 38, 8, 44, 14, 50, 20, 26], \"num_examples_per_domain_per_label\": 2000, \"pickle_path\": \"/mnt/wd500GB/CSC500/csc500-main/datasets/oracle.Run1_framed_2000Examples_stratified_ds.2022A.pkl\", \"source_or_target_dataset\": \"target\", \"x_transforms\": [\"unit_mag\", \"take_200\", \"resample_20Msps_to_25Msps\"], \"episode_transforms\": [], \"domain_prefix\": \"O_\"}], \"seed\": 1337, \"dataset_seed\": 1337, \"domains_source\": [\"C_1\", \"C_2\", \"C_3\", \"C_4\", \"C_5\", \"W_1\", \"W_2\", \"W_3\", \"W_4\"], \"domains_target\": [\"O_32\", \"O_38\", \"O_8\", \"O_44\", \"O_14\", \"O_50\", \"O_20\", \"O_26\"]}, \"results\": {\"source_test_label_accuracy\": 0.986307123655914, \"source_test_label_loss\": 0.05968067795038223, \"target_test_label_accuracy\": 0.25146484375, \"target_test_label_loss\": 2.2375285625457764, \"source_val_label_accuracy\": 0.9849759615384616, \"source_val_label_loss\": 0.0637543648481369, \"target_val_label_accuracy\": 0.25198567708333336, \"target_val_label_loss\": 2.2479023933410645, \"total_epochs_trained\": 7, \"total_experiment_time_secs\": 4332.766387224197, \"confusion\": {\"W_3\": {\"109\": {\"109\": 127, \"71\": 1}, \"127\": {\"127\": 126, \"18\": 1, \"69\": 1}, \"14\": {\"14\": 80}, \"7\": {\"7\": 111, \"26\": 1}, \"129\": {\"129\": 31, \"70\": 1}, \"57\": {\"57\": 20}, \"84\": {\"84\": 106, \"118\": 1, \"26\": 1}, \"114\": {\"114\": 121, \"29\": 1, \"28\": 1, \"127\": 1}, \"44\": {\"44\": 71, \"65\": 1}, \"21\": {\"21\": 43, \"90\": 1, \"88\": 1, \"92\": 1, \"84\": 1, \"87\": 1}, \"46\": {\"46\": 16}, \"100\": {\"100\": 16}, \"63\": {\"63\": 15, \"122\": 1}, \"24\": {\"24\": 48}, \"107\": {\"107\": 117, \"11\": 1}, \"35\": {\"35\": 11, \"76\": 1}, \"81\": {\"81\": 32}, \"64\": {\"64\": 20}, \"59\": {\"59\": 12}, \"33\": {\"33\": 112, \"117\": 1, \"8\": 1}, \"34\": {\"34\": 32}, \"36\": {\"36\": 118, \"98\": 1, \"0\": 1}, \"79\": {\"79\": 12}, \"80\": {\"80\": 16}, \"77\": {\"77\": 15, \"2\": 1}, \"22\": {\"22\": 16}, \"124\": {\"124\": 122, \"98\": 1, \"60\": 1}, \"2\": {\"2\": 28}, \"87\": {\"87\": 111, \"127\": 1}, \"105\": {\"105\": 122}, \"95\": {\"95\": 32}, \"43\": {\"43\": 51, \"12\": 1, \"122\": 1, \"102\": 1, \"113\": 1, \"78\": 1}, \"56\": {\"56\": 12}, \"18\": {\"18\": 121, \"110\": 1, \"21\": 1, \"87\": 1}, \"85\": {\"85\": 36}, \"113\": {\"113\": 119, \"105\": 1}, \"97\": {\"97\": 18, \"5\": 1, \"13\": 1}, \"86\": {\"86\": 25, \"24\": 1, \"34\": 1, \"23\": 1}, \"128\": {\"128\": 31, \"43\": 1}, \"123\": {\"123\": 16}, \"8\": {\"8\": 130}, \"110\": {\"110\": 83, \"67\": 1, \"63\": 1, \"78\": 1, \"71\": 1, \"101\": 1, \"69\": 1, \"87\": 1}, \"126\": {\"43\": 1, \"126\": 99, \"94\": 1, \"39\": 2, \"5\": 1}, \"42\": {\"42\": 24, \"8\": 2, \"83\": 1, \"124\": 1}, \"96\": {\"96\": 20}, \"83\": {\"83\": 24}, \"54\": {\"54\": 16}, \"65\": {\"65\": 12}, \"30\": {\"30\": 81, \"36\": 1, \"69\": 1, \"70\": 1}, \"121\": {\"121\": 26, \"45\": 1, \"11\": 1, \"86\": 1, \"85\": 1, \"127\": 1, \"93\": 1}, \"68\": {\"68\": 15, \"5\": 1}, \"45\": {\"45\": 15, \"76\": 1}, \"48\": {\"48\": 16}, \"4\": {\"4\": 94, \"39\": 1, \"87\": 1}, \"67\": {\"67\": 16}, \"103\": {\"103\": 15, \"31\": 1}, \"74\": {\"74\": 16}, \"1\": {\"1\": 106, \"16\": 1, \"101\": 1}, \"61\": {\"61\": 16}, \"101\": {\"101\": 48, \"37\": 1, \"30\": 1, \"6\": 1, \"25\": 1}, \"93\": {\"93\": 138}, \"26\": {\"26\": 130}, \"71\": {\"71\": 67, \"6\": 1}, \"15\": {\"15\": 102, \"18\": 2}, \"55\": {\"55\": 16}, \"104\": {\"104\": 16}, \"112\": {\"112\": 15, \"5\": 1}, \"102\": {\"102\": 122}, \"117\": {\"117\": 112}, \"119\": {\"119\": 16}, \"20\": {\"20\": 15, \"43\": 1}, \"120\": {\"120\": 20}, \"39\": {\"39\": 102, \"18\": 1, \"4\": 1, \"127\": 1, \"97\": 1, \"24\": 1, \"26\": 1}, \"49\": {\"49\": 24}, \"53\": {\"53\": 20}, \"92\": {\"92\": 31, \"114\": 1}, \"3\": {\"3\": 116}, \"47\": {\"47\": 12}, \"115\": {\"115\": 16}, \"58\": {\"58\": 16}, \"29\": {\"29\": 32}, \"12\": {\"12\": 104}, \"62\": {\"62\": 116, \"14\": 1, \"16\": 1}, \"11\": {\"11\": 140}, \"72\": {\"72\": 28}, \"98\": {\"98\": 106}, \"122\": {\"122\": 57, \"24\": 1, \"42\": 1, \"21\": 1}, \"17\": {\"98\": 1, \"17\": 9, \"129\": 1, \"63\": 1, \"26\": 1, \"68\": 1, \"43\": 1, \"122\": 1}, \"94\": {\"94\": 84}, \"106\": {\"106\": 88, \"94\": 1, \"88\": 1}, \"28\": {\"28\": 16}, \"69\": {\"69\": 78, \"87\": 2, \"106\": 1, \"10\": 1, \"70\": 1, \"7\": 1}, \"125\": {\"125\": 112, \"98\": 1, \"110\": 1}, \"19\": {\"19\": 32}, \"41\": {\"41\": 16}, \"60\": {\"60\": 27, \"122\": 1}, \"70\": {\"70\": 67, \"6\": 1, \"56\": 1, \"92\": 1, \"106\": 1, \"10\": 1}, \"27\": {\"27\": 95, \"23\": 1}, \"10\": {\"10\": 115, \"3\": 1, \"92\": 1, \"0\": 1}, \"108\": {\"108\": 137, \"39\": 1, \"87\": 1, \"88\": 1}, \"9\": {\"9\": 32}, \"25\": {\"25\": 16}, \"37\": {\"37\": 15, \"73\": 1}, \"0\": {\"101\": 2, \"0\": 114}, \"66\": {\"66\": 16}, \"51\": {\"51\": 16}, \"76\": {\"76\": 16}, \"32\": {\"32\": 31, \"49\": 1}, \"88\": {\"88\": 107, \"108\": 1, \"85\": 1, \"113\": 1, \"11\": 1, \"105\": 1}, \"31\": {\"31\": 20}, \"91\": {\"91\": 22, \"103\": 1, \"19\": 1}, \"90\": {\"90\": 125, \"3\": 1}, \"13\": {\"13\": 14, \"26\": 1, \"92\": 1}, \"50\": {\"50\": 16}, \"78\": {\"78\": 15, \"87\": 1}, \"116\": {\"116\": 26, \"16\": 2}, \"5\": {\"5\": 110, \"127\": 1, \"24\": 1}, \"75\": {\"75\": 16}, \"89\": {\"89\": 28}, \"16\": {\"16\": 115, \"71\": 1}, \"38\": {\"38\": 15, \"89\": 1}, \"118\": {\"118\": 97, \"89\": 1, \"87\": 1, \"71\": 1}, \"99\": {\"99\": 35, \"36\": 1}, \"52\": {\"52\": 16}, \"111\": {\"111\": 128}, \"23\": {\"23\": 32}, \"73\": {\"73\": 39, \"30\": 1}, \"82\": {\"82\": 26, \"9\": 1, \"122\": 1}, \"40\": {\"40\": 127, \"26\": 1}, \"6\": {\"6\": 32}}, \"C_3\": {\"43\": {\"43\": 128}, \"9\": {\"9\": 150}, \"6\": {\"6\": 88}, \"3\": {\"3\": 144}, \"16\": {\"16\": 134}, \"51\": {\"51\": 128}, \"31\": {\"31\": 28}, \"46\": {\"46\": 134}, \"19\": {\"19\": 124}, \"8\": {\"8\": 152}, \"18\": {\"18\": 84}, \"37\": {\"37\": 28}, \"24\": {\"24\": 104}, \"10\": {\"10\": 64}, \"44\": {\"44\": 87, \"54\": 1}, \"14\": {\"14\": 40}, \"38\": {\"38\": 28}, \"53\": {\"53\": 140}, \"20\": {\"20\": 132}, \"32\": {\"32\": 28}, \"36\": {\"36\": 100}, \"33\": {\"33\": 28}, \"56\": {\"56\": 136}, \"23\": {\"23\": 130}, \"54\": {\"54\": 100}, \"21\": {\"21\": 126}, \"28\": {\"28\": 28}, \"26\": {\"26\": 24}, \"48\": {\"48\": 116}, \"52\": {\"52\": 118}, \"39\": {\"39\": 16}, \"22\": {\"22\": 140}, \"13\": {\"13\": 128}, \"2\": {\"2\": 32}, \"34\": {\"34\": 32}, \"27\": {\"27\": 132}, \"45\": {\"45\": 60}, \"35\": {\"35\": 28}, \"29\": {\"29\": 128}, \"25\": {\"25\": 144}, \"0\": {\"0\": 124}, \"41\": {\"41\": 28}, \"11\": {\"11\": 142}, \"5\": {\"5\": 108}, \"1\": {\"1\": 100}, \"57\": {\"57\": 116}, \"17\": {\"17\": 106, \"50\": 1, \"56\": 1}, \"7\": {\"7\": 36}, \"12\": {\"12\": 92}, \"47\": {\"47\": 92}, \"40\": {\"40\": 136}, \"15\": {\"15\": 142}, \"42\": {\"42\": 28}, \"55\": {\"55\": 150}, \"49\": {\"49\": 20}, \"30\": {\"30\": 118, \"3\": 2}, \"50\": {\"50\": 134}, \"4\": {\"4\": 136}}, \"W_4\": {\"28\": {\"28\": 20}, \"4\": {\"4\": 100, \"63\": 1, \"24\": 1, \"86\": 1, \"39\": 1}, \"72\": {\"72\": 31, \"115\": 1}, \"111\": {\"111\": 132, \"24\": 1, \"16\": 1, \"0\": 1, \"113\": 1}, \"108\": {\"108\": 85, \"122\": 1, \"27\": 2, \"39\": 1, \"88\": 1, \"109\": 1, \"12\": 1}, \"43\": {\"43\": 113, \"99\": 2, \"87\": 4, \"10\": 1}, \"96\": {\"96\": 20}, \"89\": {\"89\": 29, \"1\": 1, \"8\": 1, \"115\": 1}, \"31\": {\"31\": 16}, \"45\": {\"45\": 16}, \"2\": {\"2\": 27, \"26\": 1}, \"114\": {\"114\": 126, \"12\": 1, \"27\": 1}, \"11\": {\"11\": 135, \"2\": 1}, \"12\": {\"12\": 97, \"87\": 1, \"84\": 1, \"72\": 1}, \"14\": {\"14\": 111, \"8\": 1}, \"90\": {\"90\": 154}, \"10\": {\"10\": 116, \"8\": 1, \"24\": 1, \"84\": 1, \"88\": 1, \"18\": 1, \"30\": 1}, \"63\": {\"63\": 16}, \"85\": {\"85\": 27, \"78\": 1}, \"64\": {\"64\": 14, \"67\": 1, \"129\": 1}, \"82\": {\"82\": 32}, \"58\": {\"58\": 15, \"27\": 1}, \"3\": {\"3\": 131, \"47\": 1, \"10\": 1, \"88\": 1, \"21\": 1, \"27\": 1}, \"54\": {\"54\": 16}, \"121\": {\"121\": 31, \"90\": 1}, \"42\": {\"42\": 26, \"119\": 1, \"8\": 1}, \"98\": {\"98\": 117, \"84\": 1, \"81\": 1, \"27\": 1}, \"123\": {\"123\": 16}, \"91\": {\"91\": 24}, \"83\": {\"83\": 26, \"100\": 1, \"106\": 1}, \"99\": {\"99\": 40}, \"112\": {\"112\": 16}, \"119\": {\"119\": 16}, \"70\": {\"70\": 115, \"88\": 6, \"11\": 1, \"73\": 1, \"101\": 1}, \"20\": {\"20\": 15, \"1\": 1}, \"120\": {\"120\": 20}, \"7\": {\"7\": 122, \"108\": 1, \"1\": 1}, \"60\": {\"60\": 31, \"19\": 1}, \"113\": {\"113\": 115, \"60\": 1, \"118\": 1, \"108\": 1}, \"37\": {\"37\": 14, \"67\": 1, \"9\": 1}, \"124\": {\"124\": 110}, \"27\": {\"27\": 96, \"111\": 1, \"48\": 1, \"122\": 1, \"108\": 1}, \"86\": {\"86\": 28}, \"127\": {\"127\": 101, \"107\": 1, \"122\": 2, \"126\": 1, \"39\": 2, \"95\": 1}, \"62\": {\"62\": 55, \"71\": 1, \"122\": 1, \"39\": 1, \"129\": 1, \"110\": 1}, \"122\": {\"122\": 81, \"2\": 1, \"121\": 1, \"84\": 1}, \"51\": {\"51\": 12, \"84\": 1, \"21\": 1, \"23\": 1, \"86\": 1}, \"109\": {\"109\": 113, \"100\": 1}, \"106\": {\"106\": 106, \"97\": 1, \"111\": 1, \"113\": 1, \"78\": 1, \"1\": 1, \"39\": 1, \"12\": 1, \"88\": 1}, \"94\": {\"94\": 87, \"10\": 1}, \"38\": {\"38\": 15, \"66\": 1}, \"129\": {\"129\": 27, \"110\": 1}, \"116\": {\"116\": 28}, \"107\": {\"107\": 118}, \"30\": {\"30\": 73, \"39\": 1, \"105\": 1, \"27\": 1}, \"102\": {\"102\": 131, \"62\": 1}, \"74\": {\"74\": 15, \"99\": 1}, \"101\": {\"101\": 131, \"24\": 1}, \"117\": {\"117\": 119, \"26\": 1, \"74\": 1, \"16\": 1, \"14\": 1, \"81\": 1}, \"1\": {\"1\": 98, \"88\": 1, \"48\": 1, \"122\": 1, \"24\": 2, \"126\": 1, \"0\": 1, \"21\": 1, \"84\": 2}, \"84\": {\"84\": 128, \"0\": 1, \"105\": 1, \"14\": 1, \"4\": 1}, \"17\": {\"17\": 20}, \"6\": {\"6\": 24}, \"110\": {\"110\": 122, \"84\": 1, \"1\": 1}, \"77\": {\"77\": 12}, \"8\": {\"8\": 128, \"2\": 1, \"73\": 1, \"127\": 1, \"4\": 1}, \"73\": {\"73\": 22, \"69\": 1, \"7\": 1}, \"126\": {\"126\": 121, \"43\": 1, \"70\": 1, \"88\": 1}, \"57\": {\"57\": 16}, \"95\": {\"95\": 31, \"8\": 1}, \"103\": {\"103\": 16}, \"97\": {\"97\": 19, \"89\": 1}, \"39\": {\"97\": 1, \"39\": 91, \"84\": 3, \"113\": 1, \"21\": 2, \"24\": 1, \"12\": 1}, \"100\": {\"100\": 20}, \"40\": {\"40\": 109, \"69\": 1}, \"36\": {\"36\": 124, \"84\": 1, \"21\": 1}, \"19\": {\"19\": 28}, \"118\": {\"118\": 109, \"3\": 1, \"108\": 1, \"28\": 1}, \"56\": {\"56\": 12}, \"26\": {\"26\": 125, \"84\": 1}, \"5\": {\"5\": 134, \"106\": 1, \"4\": 1}, \"21\": {\"21\": 36, \"23\": 1, \"78\": 2, \"84\": 1}, \"22\": {\"22\": 15, \"2\": 1}, \"68\": {\"68\": 16}, \"9\": {\"9\": 28}, \"66\": {\"66\": 14, \"23\": 1, \"44\": 1}, \"87\": {\"87\": 119, \"105\": 2, \"43\": 2, \"84\": 1}, \"71\": {\"71\": 101, \"10\": 1, \"21\": 1, \"39\": 1}, \"115\": {\"115\": 15, \"72\": 1}, \"23\": {\"85\": 1, \"23\": 8, \"51\": 3, \"80\": 1, \"105\": 1, \"118\": 1, \"123\": 1}, \"33\": {\"33\": 116, \"0\": 1, \"98\": 1}, \"35\": {\"35\": 11, \"33\": 1}, \"125\": {\"125\": 127, \"3\": 1, \"98\": 1, \"117\": 2, \"7\": 1}, \"47\": {\"54\": 2, \"47\": 10}, \"79\": {\"79\": 16}, \"53\": {\"53\": 16}, \"67\": {\"67\": 14, \"33\": 1, \"22\": 1}, \"80\": {\"80\": 16}, \"105\": {\"105\": 93, \"2\": 1, \"78\": 1, \"87\": 2, \"15\": 1, \"72\": 1, \"39\": 1}, \"76\": {\"76\": 16}, \"46\": {\"46\": 20}, \"34\": {\"34\": 31, \"75\": 1}, \"32\": {\"32\": 26, \"20\": 1, \"128\": 1}, \"13\": {\"13\": 16}, \"78\": {\"78\": 32, \"21\": 1, \"4\": 1, \"1\": 1, \"107\": 1}, \"41\": {\"41\": 16}, \"69\": {\"69\": 124, \"88\": 1, \"4\": 1, \"71\": 1, \"118\": 1}, \"88\": {\"88\": 120, \"59\": 1, \"74\": 1, \"70\": 6, \"124\": 1, \"12\": 1, \"27\": 1, \"0\": 1}, \"15\": {\"15\": 122, \"122\": 1, \"118\": 1, \"21\": 1, \"10\": 2, \"24\": 1}, \"61\": {\"61\": 16}, \"0\": {\"0\": 110, \"101\": 3, \"24\": 1, \"105\": 1, \"4\": 1}, \"104\": {\"104\": 15, \"70\": 1}, \"48\": {\"48\": 15, \"74\": 1}, \"25\": {\"25\": 16}, \"75\": {\"75\": 16}, \"81\": {\"81\": 34, \"72\": 1, \"27\": 1}, \"50\": {\"50\": 16}, \"52\": {\"52\": 20}, \"16\": {\"16\": 117, \"102\": 1, \"88\": 1, \"114\": 1}, \"44\": {\"44\": 63, \"2\": 1}, \"29\": {\"29\": 30, \"21\": 1, \"1\": 1}, \"93\": {\"93\": 123, \"124\": 1}, \"18\": {\"18\": 114}, \"49\": {\"49\": 31, \"80\": 1}, \"55\": {\"55\": 16}, \"59\": {\"59\": 11, \"129\": 1}, \"128\": {\"128\": 17, \"98\": 4, \"9\": 1, \"91\": 1, \"8\": 1}, \"24\": {\"24\": 116, \"0\": 1, \"7\": 1, \"12\": 1, \"10\": 1}, \"65\": {\"65\": 12}, \"92\": {\"92\": 28}}, \"C_4\": {\"35\": {\"35\": 40}, \"25\": {\"25\": 134}, \"24\": {\"24\": 56}, \"48\": {\"48\": 138}, \"51\": {\"51\": 144}, \"13\": {\"13\": 120}, \"14\": {\"14\": 16}, \"32\": {\"32\": 24}, \"30\": {\"30\": 44}, \"34\": {\"34\": 24}, \"9\": {\"9\": 136}, \"1\": {\"1\": 40}, \"0\": {\"0\": 80}, \"38\": {\"38\": 40}, \"22\": {\"22\": 128}, \"40\": {\"40\": 120}, \"6\": {\"6\": 112}, \"16\": {\"16\": 96}, \"11\": {\"11\": 104}, \"20\": {\"20\": 122}, \"17\": {\"17\": 80}, \"26\": {\"26\": 24}, \"54\": {\"54\": 108}, \"55\": {\"55\": 154}, \"50\": {\"50\": 131, \"22\": 1}, \"19\": {\"19\": 142}, \"44\": {\"44\": 122}, \"47\": {\"47\": 120}, \"33\": {\"33\": 36}, \"5\": {\"5\": 107, \"50\": 1}, \"18\": {\"18\": 108}, \"21\": {\"21\": 124}, \"41\": {\"41\": 36}, \"23\": {\"23\": 128}, \"39\": {\"39\": 20}, \"37\": {\"37\": 24}, \"8\": {\"8\": 144}, \"49\": {\"49\": 20}, \"53\": {\"53\": 140}, \"31\": {\"31\": 28}, \"28\": {\"28\": 32}, \"3\": {\"3\": 123, \"50\": 1}, \"27\": {\"27\": 138}, \"46\": {\"46\": 126, \"22\": 1, \"47\": 1}, \"12\": {\"12\": 92}, \"7\": {\"7\": 24}, \"4\": {\"4\": 132}, \"42\": {\"42\": 32}, \"43\": {\"43\": 130}, \"29\": {\"29\": 120}, \"57\": {\"57\": 100}, \"52\": {\"52\": 104}, \"45\": {\"45\": 95, \"21\": 1}, \"36\": {\"36\": 92}, \"10\": {\"10\": 126}, \"15\": {\"15\": 134}, \"56\": {\"56\": 124}, \"2\": {\"2\": 36}}, \"C_5\": {\"47\": {\"47\": 100}, \"53\": {\"53\": 150}, \"29\": {\"29\": 126}, \"52\": {\"52\": 130}, \"55\": {\"55\": 144}, \"17\": {\"17\": 116}, \"42\": {\"42\": 40}, \"33\": {\"33\": 32}, \"11\": {\"11\": 148}, \"19\": {\"19\": 118}, \"1\": {\"1\": 144}, \"44\": {\"44\": 142}, \"49\": {\"49\": 36}, \"4\": {\"4\": 100}, \"6\": {\"6\": 116}, \"39\": {\"39\": 20}, \"50\": {\"50\": 148}, \"56\": {\"56\": 130}, \"25\": {\"25\": 144}, \"28\": {\"28\": 32}, \"35\": {\"35\": 36}, \"24\": {\"24\": 80}, \"21\": {\"21\": 132}, \"45\": {\"45\": 124}, \"16\": {\"16\": 144}, \"37\": {\"37\": 24}, \"57\": {\"57\": 132}, \"34\": {\"34\": 36}, \"38\": {\"38\": 32}, \"48\": {\"48\": 130}, \"26\": {\"26\": 24}, \"9\": {\"9\": 152}, \"18\": {\"18\": 64}, \"3\": {\"3\": 100}, \"23\": {\"23\": 124}, \"15\": {\"15\": 154}, \"10\": {\"10\": 68}, \"46\": {\"46\": 148}, \"22\": {\"22\": 28}, \"54\": {\"54\": 112}, \"27\": {\"27\": 160}, \"41\": {\"41\": 28}, \"31\": {\"31\": 36}, \"0\": {\"0\": 124}, \"7\": {\"7\": 32}, \"2\": {\"2\": 28}, \"14\": {\"14\": 44}, \"40\": {\"40\": 124}, \"5\": {\"5\": 128}, \"12\": {\"12\": 96}, \"43\": {\"43\": 142}, \"13\": {\"13\": 148}, \"36\": {\"36\": 92}, \"8\": {\"8\": 150}, \"32\": {\"32\": 32}, \"30\": {\"30\": 128}, \"51\": {\"51\": 138}, \"20\": {\"20\": 138}}, \"C_1\": {\"46\": {\"46\": 140}, \"16\": {\"16\": 134}, \"26\": {\"26\": 24}, \"10\": {\"10\": 96}, \"9\": {\"9\": 156}, \"28\": {\"28\": 28}, \"51\": {\"51\": 156}, \"1\": {\"1\": 100}, \"55\": {\"55\": 148}, \"27\": {\"27\": 124}, \"22\": {\"22\": 124}, \"52\": {\"52\": 126}, \"3\": {\"3\": 140}, \"33\": {\"33\": 32}, \"47\": {\"47\": 120}, \"42\": {\"42\": 40}, \"12\": {\"12\": 116}, \"23\": {\"23\": 132}, \"49\": {\"49\": 32}, \"7\": {\"7\": 28}, \"4\": {\"4\": 132}, \"50\": {\"50\": 134}, \"19\": {\"19\": 154}, \"11\": {\"11\": 140}, \"31\": {\"31\": 28}, \"41\": {\"41\": 24}, \"56\": {\"56\": 138}, \"0\": {\"0\": 148}, \"57\": {\"57\": 128}, \"53\": {\"53\": 140}, \"43\": {\"43\": 144}, \"37\": {\"37\": 32}, \"2\": {\"2\": 36}, \"6\": {\"6\": 96}, \"13\": {\"13\": 150}, \"18\": {\"18\": 72}, \"36\": {\"36\": 64}, \"29\": {\"29\": 140}, \"39\": {\"39\": 28}, \"17\": {\"17\": 64}, \"21\": {\"21\": 124}, \"25\": {\"25\": 132}, \"45\": {\"45\": 142}, \"38\": {\"38\": 24}, \"30\": {\"30\": 120}, \"24\": {\"24\": 108}, \"20\": {\"20\": 140}, \"8\": {\"8\": 140}, \"35\": {\"35\": 36}, \"54\": {\"54\": 104}, \"5\": {\"5\": 148}, \"48\": {\"48\": 144}, \"15\": {\"15\": 142}, \"34\": {\"34\": 24}, \"14\": {\"14\": 24}, \"32\": {\"32\": 32}, \"40\": {\"40\": 148}, \"44\": {\"44\": 136}}, \"W_1\": {\"108\": {\"108\": 124}, \"40\": {\"40\": 136}, \"68\": {\"68\": 15, \"23\": 1}, \"23\": {\"23\": 17, \"3\": 2, \"127\": 1, \"32\": 2, \"66\": 2}, \"26\": {\"26\": 119, \"24\": 1}, \"64\": {\"64\": 16}, \"22\": {\"22\": 14, \"86\": 1, \"43\": 1}, \"3\": {\"3\": 84, \"33\": 1, \"102\": 1, \"15\": 1, \"5\": 1}, \"4\": {\"4\": 99, \"94\": 1}, \"70\": {\"70\": 117, \"102\": 1, \"24\": 1, \"39\": 1}, \"57\": {\"57\": 11, \"53\": 1}, \"79\": {\"79\": 12}, \"9\": {\"9\": 32}, \"89\": {\"89\": 36}, \"110\": {\"110\": 128}, \"102\": {\"102\": 118, \"14\": 1, \"105\": 1}, \"31\": {\"31\": 16}, \"58\": {\"58\": 12}, \"47\": {\"47\": 12}, \"24\": {\"24\": 89, \"12\": 2, \"94\": 1}, \"19\": {\"19\": 28}, \"11\": {\"11\": 132}, \"52\": {\"52\": 20}, \"17\": {\"17\": 14, \"68\": 1, \"0\": 1}, \"25\": {\"25\": 16}, \"69\": {\"69\": 107, \"39\": 1}, \"96\": {\"96\": 16, \"17\": 1, \"21\": 1, \"33\": 1, \"119\": 1}, \"109\": {\"109\": 111, \"3\": 1, \"126\": 1, \"27\": 1}, \"115\": {\"115\": 12}, \"83\": {\"83\": 27, \"121\": 1}, \"84\": {\"84\": 126, \"88\": 1, \"39\": 1}, \"119\": {\"119\": 16}, \"122\": {\"122\": 83, \"102\": 1, \"39\": 2, \"21\": 2}, \"99\": {\"99\": 24}, \"1\": {\"1\": 133, \"129\": 1, \"39\": 1, \"69\": 1}, \"74\": {\"74\": 16}, \"85\": {\"85\": 32}, \"127\": {\"127\": 106, \"39\": 1, \"94\": 1}, \"111\": {\"111\": 119, \"24\": 1}, \"53\": {\"53\": 20}, \"88\": {\"88\": 128, \"97\": 1, \"36\": 2, \"126\": 1}, \"65\": {\"65\": 10, \"21\": 1, \"67\": 1}, \"7\": {\"7\": 134}, \"16\": {\"16\": 107, \"69\": 1}, \"128\": {\"128\": 21, \"86\": 1, \"72\": 1, \"70\": 1}, \"34\": {\"34\": 31, \"129\": 1}, \"129\": {\"129\": 28}, \"43\": {\"43\": 126, \"33\": 1, \"102\": 1}, \"92\": {\"92\": 28}, \"28\": {\"28\": 18, \"104\": 1, \"71\": 1}, \"27\": {\"27\": 92}, \"114\": {\"114\": 123, \"69\": 1}, \"73\": {\"73\": 20}, \"0\": {\"0\": 84}, \"104\": {\"104\": 16}, \"118\": {\"118\": 84}, \"41\": {\"41\": 16}, \"91\": {\"91\": 27, \"17\": 1}, \"124\": {\"124\": 122}, \"81\": {\"81\": 28}, \"63\": {\"63\": 16}, \"76\": {\"76\": 16}, \"10\": {\"10\": 117, \"51\": 1, \"0\": 1, \"43\": 1}, \"51\": {\"51\": 15, \"121\": 1}, \"82\": {\"82\": 36}, \"56\": {\"56\": 11, \"17\": 1}, \"30\": {\"30\": 52}, \"21\": {\"21\": 31, \"83\": 1, \"113\": 2, \"39\": 1, \"23\": 1, \"49\": 1, \"112\": 1, \"84\": 1, \"70\": 1}, \"46\": {\"46\": 11, \"83\": 1}, \"33\": {\"33\": 138}, \"101\": {\"101\": 121, \"62\": 1, \"125\": 1, \"98\": 1}, \"105\": {\"105\": 84}, \"50\": {\"50\": 15, \"10\": 1}, \"116\": {\"116\": 32}, \"77\": {\"77\": 16}, \"75\": {\"75\": 16}, \"95\": {\"95\": 36}, \"120\": {\"120\": 20}, \"18\": {\"18\": 108}, \"14\": {\"14\": 96}, \"44\": {\"44\": 76}, \"98\": {\"98\": 96}, \"121\": {\"121\": 32}, \"113\": {\"113\": 108}, \"103\": {\"103\": 16}, \"62\": {\"62\": 116, \"21\": 1, \"15\": 1, \"107\": 1, \"39\": 1}, \"32\": {\"32\": 30, \"23\": 2}, \"71\": {\"71\": 103, \"127\": 2, \"84\": 1, \"70\": 1, \"95\": 1}, \"94\": {\"94\": 90, \"12\": 1, \"88\": 1}, \"49\": {\"49\": 18, \"111\": 1, \"34\": 1}, \"12\": {\"12\": 100, \"40\": 2, \"105\": 1, \"70\": 1}, \"90\": {\"90\": 124}, \"93\": {\"93\": 122, \"7\": 1, \"43\": 1}, \"13\": {\"13\": 16}, \"67\": {\"23\": 1, \"67\": 15}, \"20\": {\"20\": 14, \"22\": 1, \"122\": 1}, \"2\": {\"2\": 32}, \"5\": {\"5\": 86, \"108\": 1, \"21\": 1}, \"54\": {\"54\": 15, \"28\": 1}, \"37\": {\"37\": 16}, \"38\": {\"38\": 16}, \"86\": {\"86\": 33, \"2\": 1, \"35\": 1, \"87\": 1}, \"55\": {\"55\": 12}, \"97\": {\"97\": 18, \"122\": 1, \"42\": 1}, \"29\": {\"29\": 28}, \"48\": {\"55\": 1, \"48\": 11}, \"60\": {\"60\": 15, \"80\": 1}, \"36\": {\"36\": 118, \"88\": 3, \"113\": 1}, \"42\": {\"42\": 25, \"91\": 2, \"18\": 1}, \"66\": {\"66\": 16}, \"126\": {\"126\": 127, \"5\": 1}, \"39\": {\"39\": 104}, \"107\": {\"107\": 123, \"39\": 1}, \"59\": {\"59\": 10, \"95\": 1, \"66\": 1}, \"117\": {\"117\": 138}, \"6\": {\"6\": 30, \"34\": 1, \"71\": 1}, \"123\": {\"123\": 16}, \"8\": {\"8\": 123, \"21\": 1}, \"112\": {\"112\": 15, \"86\": 1}, \"80\": {\"80\": 16}, \"125\": {\"125\": 136}, \"61\": {\"61\": 12}, \"45\": {\"45\": 8, \"86\": 2, \"64\": 2}, \"72\": {\"72\": 32}, \"87\": {\"87\": 107, \"71\": 1}, \"106\": {\"106\": 123, \"102\": 1}, \"35\": {\"35\": 9, \"30\": 1, \"96\": 1, \"6\": 1}, \"78\": {\"78\": 13, \"87\": 1, \"122\": 1, \"105\": 1}, \"15\": {\"15\": 96, \"39\": 1, \"40\": 1, \"111\": 1, \"70\": 1, \"95\": 1, \"21\": 1, \"127\": 2}, \"100\": {\"100\": 16}}, \"C_2\": {\"36\": {\"36\": 116}, \"5\": {\"5\": 120}, \"45\": {\"45\": 128}, \"49\": {\"49\": 24}, \"50\": {\"50\": 136}, \"4\": {\"4\": 138}, \"43\": {\"43\": 148}, \"41\": {\"41\": 20}, \"37\": {\"37\": 36}, \"12\": {\"12\": 92}, \"33\": {\"33\": 28}, \"7\": {\"7\": 36}, \"56\": {\"56\": 140}, \"14\": {\"14\": 24}, \"52\": {\"52\": 124}, \"44\": {\"44\": 96}, \"48\": {\"48\": 144}, \"20\": {\"20\": 127, \"8\": 1}, \"55\": {\"55\": 144}, \"32\": {\"32\": 28}, \"40\": {\"40\": 136}, \"54\": {\"54\": 108}, \"17\": {\"17\": 104}, \"38\": {\"38\": 20}, \"24\": {\"24\": 96}, \"1\": {\"1\": 112}, \"6\": {\"6\": 124}, \"34\": {\"34\": 28}, \"11\": {\"11\": 136}, \"9\": {\"9\": 150}, \"8\": {\"8\": 152}, \"22\": {\"22\": 136}, \"26\": {\"26\": 24}, \"23\": {\"23\": 146}, \"10\": {\"10\": 112}, \"18\": {\"18\": 48}, \"13\": {\"13\": 116}, \"30\": {\"30\": 128}, \"42\": {\"42\": 36}, \"31\": {\"31\": 28}, \"46\": {\"46\": 128}, \"57\": {\"57\": 142}, \"47\": {\"47\": 138}, \"35\": {\"35\": 32}, \"15\": {\"15\": 132}, \"25\": {\"25\": 136}, \"19\": {\"19\": 136}, \"51\": {\"51\": 128}, \"53\": {\"53\": 134}, \"21\": {\"21\": 120}, \"39\": {\"39\": 28}, \"2\": {\"2\": 32}, \"16\": {\"16\": 150}, \"0\": {\"0\": 48}, \"3\": {\"3\": 92}, \"27\": {\"27\": 142}, \"28\": {\"28\": 28}, \"29\": {\"29\": 128}}, \"W_2\": {\"91\": {\"91\": 26, \"14\": 1, \"23\": 1}, \"12\": {\"12\": 83, \"87\": 1, \"16\": 1, \"122\": 1, \"118\": 1, \"10\": 1}, \"101\": {\"101\": 147, \"94\": 1}, \"121\": {\"121\": 35, \"43\": 1}, \"118\": {\"118\": 67, \"87\": 1}, \"10\": {\"10\": 55, \"84\": 1, \"70\": 1, \"39\": 1, \"47\": 1, \"24\": 1}, \"117\": {\"117\": 118, \"31\": 1, \"44\": 1}, \"110\": {\"110\": 33, \"75\": 1, \"70\": 2, \"14\": 1, \"98\": 1, \"42\": 1, \"95\": 1}, \"97\": {\"97\": 19, \"15\": 1}, \"28\": {\"28\": 20}, \"88\": {\"88\": 119, \"118\": 1, \"24\": 1, \"26\": 1, \"3\": 1, \"1\": 1}, \"17\": {\"17\": 14, \"23\": 2}, \"126\": {\"126\": 111, \"98\": 1, \"47\": 1, \"88\": 1}, \"33\": {\"33\": 125, \"4\": 1, \"70\": 2}, \"86\": {\"86\": 32}, \"106\": {\"106\": 114, \"75\": 1, \"88\": 1, \"78\": 1, \"27\": 1, \"70\": 1, \"26\": 1}, \"54\": {\"54\": 20}, \"125\": {\"125\": 131, \"98\": 1}, \"83\": {\"83\": 39, \"36\": 1}, \"98\": {\"98\": 119, \"26\": 1}, \"11\": {\"11\": 76, \"113\": 2, \"94\": 1, \"24\": 1}, \"32\": {\"32\": 34, \"62\": 1, \"60\": 1}, \"42\": {\"42\": 28}, \"103\": {\"103\": 16}, \"87\": {\"87\": 104, \"39\": 1, \"36\": 1, \"122\": 1, \"94\": 2, \"27\": 1, \"84\": 1, \"24\": 1}, \"61\": {\"61\": 16, \"87\": 1, \"69\": 1, \"39\": 1, \"21\": 1}, \"13\": {\"13\": 12, \"31\": 1, \"36\": 1, \"47\": 1, \"18\": 1}, \"4\": {\"4\": 83, \"39\": 1, \"69\": 1, \"109\": 1}, \"15\": {\"15\": 116, \"36\": 1, \"0\": 2, \"105\": 1}, \"120\": {\"120\": 20}, \"80\": {\"80\": 16}, \"72\": {\"72\": 28}, \"64\": {\"64\": 15, \"129\": 1}, \"81\": {\"81\": 22, \"88\": 1, \"113\": 1}, \"102\": {\"102\": 111, \"69\": 1}, \"76\": {\"76\": 16}, \"49\": {\"49\": 18, \"114\": 1, \"77\": 1, \"75\": 1, \"7\": 1, \"85\": 1, \"98\": 1}, \"129\": {\"129\": 32}, \"89\": {\"89\": 34, \"118\": 1, \"82\": 1}, \"52\": {\"52\": 18, \"120\": 1, \"10\": 1}, \"35\": {\"35\": 12}, \"53\": {\"53\": 16}, \"26\": {\"26\": 125, \"87\": 1, \"129\": 1, \"84\": 1}, \"96\": {\"96\": 20}, \"27\": {\"27\": 57, \"94\": 2, \"10\": 1, \"26\": 1, \"84\": 1, \"62\": 1, \"113\": 1, \"21\": 2, \"7\": 1, \"78\": 1}, \"24\": {\"27\": 1, \"24\": 102, \"71\": 1, \"69\": 1, \"39\": 1, \"70\": 2, \"107\": 1, \"10\": 1, \"12\": 1, \"78\": 1}, \"82\": {\"82\": 32, \"68\": 1, \"15\": 1, \"87\": 1, \"107\": 1}, \"18\": {\"18\": 123, \"91\": 1, \"78\": 1, \"16\": 1, \"39\": 1, \"26\": 1}, \"69\": {\"69\": 119, \"70\": 1, \"87\": 1, \"26\": 1}, \"47\": {\"47\": 12}, \"85\": {\"85\": 32}, \"2\": {\"67\": 1, \"2\": 31}, \"67\": {\"67\": 15, \"24\": 1}, \"39\": {\"39\": 109, \"21\": 1, \"18\": 1, \"70\": 1}, \"99\": {\"99\": 32}, \"74\": {\"74\": 13, \"24\": 1, \"75\": 1, \"14\": 1}, \"105\": {\"105\": 128, \"5\": 1, \"26\": 1, \"18\": 1, \"87\": 1}, \"70\": {\"70\": 114, \"21\": 1, \"88\": 1, \"0\": 1, \"84\": 1, \"39\": 1, \"122\": 1, \"90\": 1, \"40\": 1}, \"55\": {\"55\": 16}, \"30\": {\"30\": 108, \"70\": 1, \"61\": 1, \"6\": 1, \"18\": 1}, \"60\": {\"60\": 27, \"87\": 1}, \"92\": {\"92\": 24, \"60\": 1, \"75\": 1, \"30\": 1, \"76\": 1}, \"45\": {\"45\": 15, \"127\": 1}, \"127\": {\"127\": 111, \"41\": 1}, \"9\": {\"115\": 1, \"9\": 30, \"12\": 1}, \"115\": {\"115\": 12}, \"73\": {\"73\": 28}, \"108\": {\"108\": 138}, \"114\": {\"114\": 113, \"10\": 1, \"94\": 1, \"39\": 1}, \"63\": {\"63\": 19, \"100\": 1}, \"93\": {\"93\": 127, \"16\": 1}, \"7\": {\"7\": 132}, \"31\": {\"31\": 19, \"36\": 1}, \"123\": {\"123\": 16}, \"128\": {\"128\": 22, \"54\": 1, \"114\": 1}, \"0\": {\"0\": 110, \"26\": 1, \"98\": 1, \"69\": 1, \"24\": 1, \"83\": 1, \"70\": 1}, \"3\": {\"3\": 134, \"18\": 1, \"39\": 1}, \"19\": {\"19\": 28}, \"57\": {\"57\": 19, \"84\": 1}, \"78\": {\"78\": 43, \"70\": 1, \"39\": 2, \"43\": 1, \"84\": 1}, \"95\": {\"95\": 35, \"70\": 1}, \"40\": {\"40\": 132, \"39\": 2, \"96\": 1, \"5\": 1, \"94\": 1, \"0\": 1, \"98\": 1, \"26\": 1}, \"14\": {\"78\": 1, \"14\": 40, \"57\": 1, \"70\": 1, \"18\": 2, \"88\": 1, \"94\": 1, \"118\": 1}, \"36\": {\"36\": 122, \"21\": 1, \"118\": 1, \"70\": 1, \"107\": 1, \"87\": 1, \"18\": 1}, \"56\": {\"56\": 12}, \"111\": {\"111\": 127, \"122\": 1}, \"59\": {\"59\": 14, \"80\": 1, \"118\": 1}, \"79\": {\"79\": 14, \"98\": 2}, \"62\": {\"62\": 121, \"39\": 1}, \"21\": {\"21\": 44, \"87\": 1, \"17\": 1, \"5\": 1, \"40\": 1}, \"48\": {\"48\": 20}, \"16\": {\"16\": 117, \"57\": 1, \"26\": 1, \"24\": 1, \"93\": 2, \"18\": 1, \"1\": 1}, \"50\": {\"50\": 15, \"121\": 1}, \"44\": {\"44\": 95, \"98\": 1}, \"5\": {\"5\": 108, \"26\": 1, \"12\": 1}, \"20\": {\"20\": 15, \"24\": 1}, \"1\": {\"1\": 118, \"12\": 1, \"88\": 1}, \"65\": {\"65\": 18, \"27\": 1, \"71\": 1}, \"116\": {\"116\": 28}, \"51\": {\"51\": 19, \"36\": 1}, \"75\": {\"75\": 15, \"71\": 1}, \"100\": {\"100\": 16}, \"113\": {\"113\": 72}, \"41\": {\"41\": 20}, \"29\": {\"29\": 32}, \"23\": {\"23\": 44}, \"124\": {\"124\": 123, \"21\": 1}, \"68\": {\"68\": 15, \"10\": 1}, \"71\": {\"71\": 99, \"94\": 1}, \"107\": {\"107\": 55, \"51\": 1, \"15\": 1, \"25\": 1, \"42\": 1, \"26\": 2, \"98\": 1, \"10\": 1, \"91\": 1}, \"94\": {\"94\": 61, \"118\": 2, \"110\": 1}, \"77\": {\"77\": 15, \"39\": 1}, \"8\": {\"8\": 120, \"18\": 1, \"12\": 1}, \"46\": {\"46\": 16}, \"25\": {\"25\": 14, \"6\": 1, \"61\": 1}, \"122\": {\"122\": 134, \"11\": 1, \"70\": 2, \"39\": 1, \"81\": 1, \"87\": 1}, \"58\": {\"58\": 16, \"77\": 1, \"39\": 1, \"110\": 1, \"24\": 1}, \"6\": {\"6\": 31, \"51\": 1}, \"109\": {\"109\": 96, \"84\": 1, \"24\": 1, \"70\": 2}, \"119\": {\"119\": 19, \"24\": 1}, \"34\": {\"34\": 30, \"40\": 1, \"13\": 1}, \"90\": {\"90\": 138, \"6\": 1, \"98\": 1}, \"38\": {\"38\": 16}, \"104\": {\"84\": 1, \"104\": 17, \"26\": 1, \"92\": 1}, \"84\": {\"84\": 90, \"18\": 1, \"106\": 1}, \"112\": {\"112\": 16}, \"66\": {\"66\": 17, \"75\": 1, \"13\": 1, \"27\": 1}, \"22\": {\"22\": 20}, \"37\": {\"37\": 16}, \"43\": {\"43\": 117, \"39\": 1, \"8\": 1, \"36\": 1, \"84\": 1, \"70\": 3}}, \"O_14\": {\"15\": {\"15\": 108, \"2\": 8, \"5\": 25, \"4\": 9, \"7\": 66, \"1\": 9, \"14\": 1, \"13\": 8, \"8\": 2, \"6\": 3, \"3\": 1}, \"3\": {\"1\": 19, \"0\": 29, \"8\": 12, \"3\": 36, \"5\": 20, \"4\": 25, \"14\": 22, \"6\": 10, \"2\": 24, \"10\": 22, \"13\": 9, \"9\": 5, \"11\": 7}, \"6\": {\"4\": 13, \"5\": 10, \"2\": 29, \"6\": 53, \"13\": 44, \"3\": 17, \"14\": 38, \"1\": 11, \"8\": 2, \"11\": 2, \"10\": 11, \"0\": 5, \"15\": 3, \"7\": 2}, \"1\": {\"15\": 9, \"1\": 58, \"10\": 6, \"4\": 37, \"7\": 12, \"5\": 42, \"13\": 5, \"8\": 18, \"2\": 17, \"3\": 22, \"14\": 3, \"0\": 7, \"6\": 3, \"9\": 1}, \"8\": {\"8\": 95, \"10\": 7, \"3\": 27, \"4\": 17, \"11\": 4, \"9\": 14, \"7\": 4, \"12\": 2, \"1\": 30, \"0\": 19, \"5\": 11, \"2\": 9, \"13\": 1}, \"10\": {\"3\": 27, \"0\": 27, \"1\": 7, \"5\": 6, \"8\": 10, \"14\": 15, \"10\": 62, \"4\": 19, \"2\": 20, \"12\": 2, \"6\": 9, \"11\": 19, \"13\": 11, \"9\": 6}, \"9\": {\"12\": 58, \"9\": 71, \"0\": 26, \"8\": 21, \"11\": 41, \"10\": 16, \"2\": 2, \"3\": 3, \"6\": 1, \"5\": 1}, \"13\": {\"4\": 13, \"10\": 12, \"6\": 35, \"13\": 56, \"5\": 15, \"15\": 13, \"14\": 33, \"2\": 31, \"1\": 7, \"7\": 8, \"11\": 3, \"3\": 12, \"0\": 2}, \"12\": {\"9\": 93, \"11\": 27, \"12\": 99, \"0\": 8, \"8\": 7, \"10\": 4, \"5\": 1, \"14\": 1}, \"5\": {\"8\": 12, \"15\": 12, \"5\": 31, \"1\": 35, \"6\": 12, \"7\": 23, \"3\": 21, \"4\": 26, \"13\": 16, \"14\": 18, \"2\": 22, \"0\": 4, \"9\": 1, \"10\": 7}, \"0\": {\"3\": 22, \"11\": 35, \"10\": 43, \"0\": 41, \"8\": 14, \"9\": 22, \"14\": 18, \"6\": 7, \"1\": 4, \"2\": 8, \"4\": 5, \"13\": 9, \"12\": 9, \"5\": 3}, \"2\": {\"14\": 29, \"2\": 31, \"4\": 22, \"5\": 18, \"1\": 23, \"0\": 12, \"6\": 38, \"13\": 29, \"8\": 2, \"10\": 12, \"7\": 4, \"3\": 18, \"11\": 1, \"15\": 1}, \"11\": {\"11\": 72, \"12\": 25, \"10\": 21, \"0\": 39, \"14\": 16, \"6\": 7, \"3\": 9, \"9\": 40, \"5\": 1, \"8\": 7, \"1\": 1, \"2\": 1, \"13\": 1}, \"14\": {\"4\": 13, \"13\": 26, \"10\": 17, \"3\": 20, \"14\": 48, \"6\": 24, \"1\": 13, \"2\": 28, \"5\": 11, \"11\": 18, \"9\": 2, \"0\": 17, \"8\": 3}, \"7\": {\"15\": 64, \"7\": 93, \"8\": 3, \"1\": 24, \"13\": 7, \"4\": 12, \"5\": 21, \"3\": 6, \"6\": 4, \"2\": 6}, \"4\": {\"1\": 29, \"2\": 26, \"6\": 8, \"5\": 32, \"7\": 17, \"4\": 32, \"13\": 18, \"3\": 33, \"14\": 18, \"15\": 4, \"10\": 7, \"8\": 7, \"0\": 8, \"9\": 1}}, \"O_20\": {\"3\": {\"13\": 19, \"11\": 3, \"9\": 35, \"2\": 14, \"15\": 24, \"1\": 19, \"5\": 13, \"8\": 9, \"10\": 9, \"14\": 10, \"12\": 22, \"4\": 14, \"3\": 16, \"7\": 10, \"0\": 11, \"6\": 12}, \"15\": {\"15\": 37, \"7\": 16, \"8\": 9, \"12\": 19, \"2\": 24, \"0\": 20, \"13\": 15, \"3\": 20, \"5\": 17, \"6\": 7, \"1\": 18, \"9\": 18, \"14\": 3, \"4\": 9, \"10\": 7, \"11\": 1}, \"8\": {\"4\": 19, \"10\": 10, \"15\": 14, \"0\": 19, \"12\": 13, \"14\": 25, \"2\": 15, \"3\": 19, \"8\": 27, \"6\": 24, \"7\": 16, \"9\": 8, \"13\": 10, \"5\": 12, \"1\": 7, \"11\": 2}, \"4\": {\"2\": 8, \"13\": 14, \"4\": 35, \"1\": 11, \"10\": 25, \"9\": 19, \"0\": 15, \"8\": 13, \"14\": 15, \"15\": 13, \"7\": 8, \"6\": 16, \"3\": 18, \"12\": 17, \"5\": 12, \"11\": 1}, \"14\": {\"8\": 25, \"9\": 10, \"11\": 8, \"7\": 12, \"13\": 5, \"14\": 39, \"10\": 21, \"6\": 35, \"3\": 10, \"4\": 28, \"12\": 16, \"5\": 9, \"2\": 10, \"0\": 7, \"1\": 4, \"15\": 1}, \"0\": {\"5\": 32, \"15\": 24, \"2\": 11, \"0\": 30, \"4\": 16, \"3\": 19, \"1\": 12, \"13\": 19, \"9\": 12, \"8\": 14, \"12\": 10, \"10\": 7, \"7\": 14, \"6\": 7, \"14\": 8, \"11\": 5}, \"7\": {\"5\": 18, \"11\": 8, \"15\": 13, \"7\": 19, \"10\": 9, \"13\": 20, \"9\": 18, \"12\": 23, \"1\": 12, \"6\": 16, \"0\": 14, \"4\": 15, \"3\": 16, \"8\": 11, \"14\": 8, \"2\": 20}, \"6\": {\"11\": 20, \"8\": 26, \"14\": 30, \"6\": 32, \"1\": 7, \"10\": 17, \"2\": 7, \"13\": 8, \"0\": 10, \"9\": 19, \"5\": 9, \"7\": 19, \"4\": 17, \"3\": 10, \"12\": 6, \"15\": 3}, \"10\": {\"14\": 28, \"9\": 13, \"10\": 30, \"7\": 13, \"2\": 19, \"4\": 27, \"3\": 23, \"15\": 11, \"8\": 11, \"13\": 2, \"6\": 15, \"12\": 22, \"0\": 8, \"5\": 11, \"1\": 7}, \"5\": {\"3\": 15, \"7\": 14, \"12\": 18, \"4\": 15, \"14\": 11, \"9\": 15, \"8\": 16, \"5\": 23, \"1\": 19, \"2\": 16, \"13\": 14, \"0\": 18, \"6\": 6, \"15\": 22, \"10\": 17, \"11\": 1}, \"2\": {\"1\": 16, \"14\": 6, \"12\": 26, \"7\": 17, \"10\": 6, \"9\": 25, \"11\": 14, \"8\": 13, \"4\": 12, \"13\": 15, \"5\": 17, \"6\": 10, \"2\": 24, \"3\": 15, \"15\": 12, \"0\": 12}, \"12\": {\"14\": 6, \"11\": 8, \"15\": 16, \"0\": 11, \"10\": 10, \"3\": 18, \"13\": 18, \"1\": 22, \"2\": 20, \"12\": 20, \"6\": 12, \"5\": 15, \"7\": 23, \"9\": 21, \"8\": 11, \"4\": 9}, \"9\": {\"5\": 14, \"15\": 22, \"7\": 17, \"6\": 7, \"1\": 18, \"9\": 22, \"14\": 7, \"12\": 29, \"10\": 11, \"4\": 12, \"2\": 19, \"3\": 21, \"13\": 16, \"0\": 11, \"11\": 9, \"8\": 5}, \"1\": {\"2\": 19, \"9\": 21, \"3\": 21, \"15\": 24, \"12\": 21, \"5\": 20, \"10\": 9, \"4\": 14, \"11\": 4, \"14\": 4, \"7\": 17, \"13\": 18, \"0\": 15, \"8\": 12, \"6\": 3, \"1\": 18}, \"11\": {\"11\": 92, \"13\": 18, \"1\": 6, \"7\": 22, \"0\": 4, \"5\": 3, \"2\": 19, \"3\": 13, \"10\": 1, \"6\": 21, \"8\": 12, \"9\": 12, \"12\": 8, \"14\": 6, \"15\": 2, \"4\": 1}, \"13\": {\"13\": 38, \"6\": 8, \"0\": 7, \"9\": 24, \"12\": 19, \"2\": 20, \"3\": 25, \"15\": 19, \"5\": 18, \"8\": 5, \"1\": 25, \"7\": 15, \"11\": 14, \"14\": 1, \"4\": 1, \"10\": 1}}, \"O_38\": {\"5\": {\"5\": 35, \"8\": 32, \"13\": 20, \"10\": 11, \"0\": 17, \"3\": 4, \"1\": 13, \"15\": 23, \"6\": 45, \"9\": 12, \"7\": 25, \"2\": 2, \"14\": 1}, \"8\": {\"6\": 20, \"10\": 21, \"0\": 25, \"5\": 34, \"15\": 19, \"8\": 39, \"13\": 26, \"1\": 10, \"7\": 26, \"12\": 1, \"3\": 6, \"9\": 8, \"2\": 4, \"4\": 1}, \"11\": {\"11\": 116, \"10\": 13, \"4\": 13, \"14\": 65, \"13\": 1, \"12\": 11, \"2\": 20, \"7\": 1}, \"1\": {\"13\": 29, \"1\": 88, \"15\": 48, \"0\": 5, \"6\": 23, \"2\": 5, \"10\": 2, \"8\": 15, \"5\": 18, \"7\": 2, \"9\": 5}, \"10\": {\"13\": 39, \"14\": 16, \"5\": 8, \"0\": 13, \"10\": 51, \"7\": 19, \"2\": 27, \"1\": 6, \"15\": 19, \"8\": 19, \"12\": 12, \"11\": 5, \"4\": 4, \"9\": 1, \"6\": 1}, \"15\": {\"13\": 43, \"8\": 26, \"15\": 58, \"5\": 16, \"1\": 32, \"6\": 8, \"2\": 26, \"0\": 7, \"10\": 14, \"7\": 5, \"14\": 2, \"9\": 3}, \"3\": {\"9\": 37, \"3\": 153, \"7\": 16, \"5\": 6, \"0\": 17, \"6\": 5, \"8\": 4, \"10\": 1, \"13\": 1}, \"7\": {\"6\": 7, \"5\": 33, \"8\": 32, \"0\": 45, \"10\": 21, \"15\": 4, \"7\": 62, \"9\": 11, \"13\": 10, \"3\": 9, \"12\": 3, \"4\": 2, \"1\": 1}, \"4\": {\"10\": 7, \"4\": 147, \"12\": 55, \"11\": 13, \"7\": 4, \"2\": 1, \"14\": 9, \"0\": 3, \"8\": 1}, \"14\": {\"11\": 38, \"10\": 23, \"14\": 100, \"4\": 5, \"2\": 38, \"15\": 6, \"12\": 20, \"13\": 5, \"5\": 1, \"8\": 3, \"7\": 1}, \"9\": {\"9\": 93, \"5\": 26, \"15\": 1, \"1\": 12, \"3\": 25, \"0\": 6, \"8\": 5, \"6\": 59, \"7\": 11, \"10\": 1, \"13\": 1}, \"12\": {\"4\": 58, \"12\": 138, \"10\": 12, \"14\": 16, \"11\": 5, \"13\": 1, \"0\": 2, \"8\": 2, \"7\": 3, \"15\": 1, \"2\": 2}, \"6\": {\"6\": 84, \"3\": 3, \"5\": 36, \"13\": 6, \"0\": 7, \"9\": 59, \"15\": 7, \"8\": 12, \"7\": 6, \"1\": 20}, \"2\": {\"14\": 32, \"2\": 74, \"13\": 27, \"15\": 45, \"0\": 2, \"5\": 3, \"10\": 29, \"8\": 6, \"11\": 7, \"12\": 6, \"1\": 8, \"7\": 1}, \"0\": {\"5\": 26, \"8\": 31, \"0\": 59, \"2\": 2, \"7\": 46, \"3\": 11, \"15\": 15, \"4\": 4, \"12\": 5, \"10\": 10, \"1\": 5, \"13\": 12, \"6\": 6, \"9\": 6, \"14\": 2}, \"13\": {\"13\": 53, \"0\": 8, \"8\": 22, \"5\": 20, \"7\": 12, \"1\": 31, \"10\": 17, \"15\": 37, \"6\": 9, \"2\": 26, \"9\": 4, \"3\": 1}}, \"O_8\": {\"9\": {\"9\": 111, \"10\": 27, \"5\": 26, \"14\": 16, \"6\": 8, \"4\": 14, \"1\": 4, \"0\": 9, \"8\": 1, \"11\": 1, \"13\": 17, \"7\": 5, \"2\": 1}, \"10\": {\"13\": 26, \"10\": 30, \"14\": 31, \"7\": 13, \"1\": 15, \"8\": 7, \"5\": 19, \"4\": 34, \"15\": 8, \"11\": 13, \"12\": 2, \"6\": 23, \"9\": 5, \"0\": 12, \"2\": 2}, \"13\": {\"6\": 24, \"13\": 29, \"1\": 6, \"14\": 22, \"10\": 26, \"8\": 13, \"0\": 29, \"7\": 29, \"2\": 4, \"11\": 2, \"15\": 14, \"4\": 19, \"5\": 10, \"3\": 5, \"12\": 6, \"9\": 2}, \"0\": {\"14\": 21, \"7\": 27, \"2\": 10, \"13\": 26, \"0\": 34, \"10\": 23, \"15\": 9, \"6\": 31, \"4\": 18, \"8\": 7, \"12\": 6, \"5\": 10, \"9\": 4, \"3\": 12, \"1\": 1, \"11\": 1}, \"1\": {\"11\": 30, \"15\": 10, \"6\": 13, \"1\": 57, \"5\": 34, \"14\": 29, \"8\": 14, \"4\": 16, \"13\": 10, \"10\": 12, \"0\": 4, \"7\": 9, \"12\": 2}, \"15\": {\"15\": 36, \"6\": 13, \"3\": 16, \"0\": 13, \"10\": 6, \"12\": 35, \"5\": 4, \"8\": 23, \"2\": 11, \"1\": 12, \"4\": 15, \"14\": 8, \"13\": 17, \"7\": 16, \"11\": 15}, \"5\": {\"6\": 26, \"1\": 27, \"5\": 42, \"13\": 20, \"10\": 23, \"7\": 10, \"14\": 22, \"4\": 16, \"15\": 5, \"11\": 23, \"9\": 6, \"0\": 11, \"8\": 9}, \"3\": {\"6\": 13, \"3\": 50, \"2\": 45, \"12\": 41, \"10\": 2, \"13\": 9, \"8\": 10, \"0\": 10, \"7\": 22, \"15\": 28, \"14\": 4, \"4\": 6}, \"6\": {\"4\": 21, \"0\": 24, \"13\": 32, \"6\": 26, \"3\": 6, \"1\": 10, \"11\": 5, \"15\": 10, \"2\": 8, \"7\": 20, \"5\": 16, \"14\": 21, \"12\": 11, \"10\": 19, \"8\": 9, \"9\": 2}, \"11\": {\"11\": 58, \"1\": 48, \"5\": 28, \"14\": 27, \"8\": 21, \"13\": 8, \"6\": 7, \"15\": 5, \"10\": 12, \"7\": 4, \"0\": 5, \"4\": 12, \"12\": 5}, \"8\": {\"12\": 15, \"14\": 20, \"7\": 14, \"8\": 38, \"11\": 19, \"10\": 15, \"6\": 12, \"15\": 20, \"4\": 18, \"13\": 19, \"5\": 12, \"1\": 22, \"2\": 4, \"3\": 6, \"0\": 6}, \"4\": {\"3\": 3, \"12\": 10, \"5\": 19, \"14\": 20, \"7\": 26, \"0\": 18, \"13\": 26, \"10\": 18, \"1\": 16, \"6\": 15, \"11\": 12, \"2\": 8, \"4\": 25, \"15\": 11, \"8\": 12, \"9\": 1}, \"12\": {\"6\": 20, \"12\": 48, \"2\": 28, \"7\": 11, \"11\": 3, \"0\": 13, \"10\": 6, \"3\": 32, \"4\": 10, \"15\": 26, \"13\": 8, \"8\": 28, \"14\": 6, \"1\": 1}, \"14\": {\"13\": 19, \"6\": 20, \"0\": 17, \"5\": 22, \"10\": 24, \"11\": 18, \"14\": 27, \"15\": 13, \"1\": 20, \"7\": 13, \"4\": 22, \"8\": 22, \"12\": 2, \"2\": 1}, \"2\": {\"3\": 60, \"2\": 62, \"10\": 5, \"12\": 19, \"11\": 1, \"7\": 24, \"4\": 10, \"13\": 11, \"15\": 9, \"6\": 16, \"8\": 5, \"14\": 5, \"0\": 12, \"1\": 1}, \"7\": {\"12\": 12, \"7\": 29, \"13\": 18, \"6\": 23, \"10\": 21, \"3\": 15, \"2\": 19, \"0\": 34, \"8\": 12, \"15\": 14, \"4\": 22, \"14\": 7, \"1\": 4, \"11\": 4, \"5\": 6}}, \"O_50\": {\"7\": {\"7\": 44, \"5\": 36, \"1\": 9, \"13\": 41, \"10\": 27, \"4\": 17, \"6\": 33, \"0\": 5, \"8\": 13, \"15\": 10, \"3\": 4, \"2\": 1}, \"3\": {\"8\": 45, \"7\": 13, \"3\": 156, \"0\": 1, \"5\": 8, \"10\": 11, \"13\": 6}, \"8\": {\"8\": 81, \"10\": 60, \"3\": 30, \"0\": 27, \"7\": 16, \"13\": 12, \"5\": 6, \"6\": 4, \"1\": 1, \"2\": 2, \"4\": 1}, \"2\": {\"0\": 57, \"14\": 32, \"1\": 19, \"10\": 12, \"2\": 82, \"4\": 4, \"13\": 6, \"11\": 7, \"12\": 3, \"15\": 3, \"7\": 5, \"8\": 1, \"6\": 6, \"9\": 3}, \"14\": {\"9\": 29, \"11\": 31, \"1\": 16, \"2\": 20, \"14\": 89, \"15\": 10, \"12\": 35, \"4\": 4, \"0\": 4, \"10\": 1, \"6\": 1}, \"4\": {\"15\": 36, \"1\": 40, \"13\": 15, \"5\": 24, \"11\": 12, \"4\": 36, \"7\": 19, \"2\": 4, \"6\": 21, \"12\": 4, \"14\": 12, \"9\": 5, \"10\": 5, \"0\": 6, \"8\": 1}, \"6\": {\"1\": 29, \"6\": 45, \"13\": 23, \"4\": 27, \"10\": 15, \"7\": 21, \"0\": 9, \"15\": 23, \"14\": 8, \"8\": 4, \"2\": 9, \"3\": 1, \"5\": 22, \"11\": 4}, \"15\": {\"15\": 49, \"12\": 3, \"7\": 10, \"14\": 8, \"11\": 25, \"1\": 47, \"6\": 33, \"5\": 16, \"9\": 9, \"4\": 29, \"13\": 6, \"0\": 2, \"2\": 1, \"10\": 2}, \"10\": {\"8\": 24, \"2\": 15, \"13\": 41, \"10\": 46, \"4\": 4, \"3\": 2, \"5\": 25, \"0\": 43, \"6\": 15, \"7\": 19, \"1\": 4, \"15\": 1, \"14\": 1}, \"11\": {\"1\": 29, \"4\": 19, \"14\": 26, \"11\": 62, \"9\": 37, \"15\": 23, \"6\": 4, \"12\": 38, \"7\": 1, \"13\": 1}, \"13\": {\"15\": 17, \"13\": 40, \"5\": 38, \"0\": 11, \"2\": 8, \"7\": 33, \"1\": 17, \"10\": 18, \"4\": 12, \"8\": 13, \"6\": 30, \"11\": 2, \"3\": 1}, \"9\": {\"6\": 4, \"11\": 63, \"9\": 72, \"14\": 22, \"12\": 47, \"2\": 7, \"15\": 11, \"4\": 7, \"1\": 5, \"5\": 2}, \"0\": {\"14\": 7, \"0\": 65, \"10\": 34, \"1\": 16, \"5\": 10, \"2\": 41, \"11\": 3, \"6\": 9, \"13\": 19, \"4\": 5, \"12\": 1, \"15\": 4, \"8\": 16, \"7\": 10}, \"1\": {\"15\": 42, \"6\": 33, \"14\": 11, \"4\": 23, \"11\": 18, \"1\": 41, \"12\": 2, \"13\": 15, \"5\": 8, \"0\": 11, \"2\": 10, \"9\": 9, \"10\": 13, \"7\": 4}, \"12\": {\"12\": 97, \"9\": 65, \"14\": 37, \"4\": 3, \"1\": 6, \"11\": 27, \"2\": 3, \"15\": 1, \"0\": 1}, \"5\": {\"13\": 31, \"2\": 12, \"7\": 40, \"5\": 39, \"6\": 23, \"8\": 9, \"15\": 11, \"10\": 19, \"0\": 12, \"1\": 23, \"4\": 17, \"11\": 3, \"14\": 1}}, \"O_32\": {\"8\": {\"5\": 30, \"4\": 17, \"3\": 31, \"13\": 40, \"8\": 41, \"14\": 11, \"0\": 27, \"7\": 16, \"15\": 2, \"11\": 18, \"2\": 6, \"9\": 1}, \"14\": {\"7\": 26, \"11\": 60, \"5\": 9, \"14\": 56, \"8\": 18, \"13\": 14, \"3\": 9, \"0\": 20, \"4\": 15, \"2\": 13}, \"2\": {\"8\": 9, \"4\": 45, \"2\": 64, \"5\": 19, \"13\": 16, \"7\": 35, \"0\": 23, \"14\": 17, \"9\": 3, \"11\": 9}, \"0\": {\"13\": 23, \"4\": 27, \"0\": 49, \"14\": 17, \"2\": 28, \"11\": 18, \"3\": 5, \"8\": 26, \"5\": 13, \"7\": 26, \"9\": 7, \"12\": 1}, \"1\": {\"10\": 89, \"1\": 142, \"6\": 9}, \"10\": {\"10\": 127, \"1\": 90, \"12\": 9, \"6\": 14}, \"11\": {\"14\": 54, \"11\": 75, \"8\": 24, \"7\": 27, \"3\": 11, \"0\": 15, \"5\": 11, \"2\": 10, \"4\": 5, \"13\": 8}, \"5\": {\"0\": 17, \"3\": 24, \"8\": 22, \"14\": 16, \"15\": 4, \"11\": 17, \"7\": 30, \"5\": 44, \"2\": 12, \"4\": 21, \"13\": 33}, \"15\": {\"3\": 37, \"15\": 174, \"8\": 23, \"5\": 2, \"13\": 4}, \"3\": {\"3\": 88, \"5\": 39, \"11\": 17, \"13\": 25, \"14\": 12, \"8\": 29, \"15\": 12, \"0\": 5, \"4\": 5, \"7\": 8}, \"12\": {\"9\": 49, \"6\": 40, \"12\": 142, \"1\": 1, \"10\": 8}, \"7\": {\"4\": 29, \"0\": 19, \"11\": 31, \"2\": 36, \"7\": 34, \"5\": 22, \"3\": 6, \"14\": 26, \"8\": 13, \"13\": 23, \"9\": 1}, \"13\": {\"13\": 44, \"4\": 33, \"5\": 31, \"8\": 43, \"3\": 20, \"14\": 12, \"0\": 14, \"2\": 14, \"7\": 17, \"11\": 12}, \"6\": {\"12\": 54, \"6\": 166, \"10\": 13, \"9\": 6, \"1\": 1}, \"4\": {\"13\": 29, \"7\": 27, \"4\": 48, \"0\": 35, \"2\": 35, \"5\": 21, \"8\": 21, \"11\": 8, \"14\": 11, \"9\": 3, \"3\": 2}, \"9\": {\"9\": 143, \"2\": 16, \"6\": 15, \"12\": 51, \"4\": 6, \"0\": 8, \"13\": 1}}, \"O_26\": {\"4\": {\"1\": 27, \"2\": 12, \"4\": 26, \"6\": 12, \"8\": 26, \"14\": 23, \"15\": 9, \"0\": 20, \"3\": 12, \"10\": 25, \"9\": 13, \"13\": 8, \"5\": 5, \"12\": 2, \"7\": 20}, \"12\": {\"12\": 93, \"15\": 11, \"10\": 19, \"0\": 21, \"6\": 24, \"9\": 9, \"11\": 19, \"8\": 13, \"2\": 2, \"1\": 4, \"14\": 9, \"13\": 6, \"5\": 2, \"4\": 6, \"7\": 2}, \"10\": {\"4\": 24, \"9\": 9, \"15\": 15, \"14\": 27, \"3\": 7, \"5\": 10, \"0\": 23, \"1\": 24, \"10\": 15, \"13\": 11, \"7\": 20, \"8\": 24, \"2\": 12, \"6\": 11, \"12\": 7, \"11\": 1}, \"0\": {\"9\": 14, \"4\": 30, \"2\": 12, \"10\": 19, \"15\": 11, \"14\": 26, \"1\": 17, \"7\": 9, \"8\": 25, \"12\": 6, \"0\": 25, \"3\": 10, \"5\": 7, \"6\": 25, \"11\": 1, \"13\": 3}, \"13\": {\"5\": 32, \"9\": 23, \"7\": 12, \"8\": 13, \"13\": 48, \"3\": 15, \"6\": 21, \"15\": 25, \"2\": 22, \"14\": 4, \"0\": 4, \"4\": 9, \"11\": 2, \"10\": 8, \"1\": 1, \"12\": 1}, \"9\": {\"13\": 19, \"4\": 14, \"3\": 22, \"15\": 16, \"7\": 21, \"5\": 19, \"6\": 18, \"14\": 13, \"1\": 8, \"2\": 18, \"8\": 16, \"0\": 9, \"9\": 34, \"12\": 6, \"10\": 5, \"11\": 2}, \"3\": {\"1\": 17, \"5\": 25, \"7\": 30, \"3\": 38, \"4\": 12, \"2\": 31, \"10\": 9, \"15\": 11, \"8\": 14, \"13\": 20, \"14\": 6, \"9\": 17, \"6\": 4, \"0\": 6}, \"2\": {\"2\": 31, \"3\": 33, \"13\": 22, \"7\": 30, \"9\": 18, \"14\": 8, \"10\": 11, \"15\": 16, \"5\": 26, \"0\": 5, \"1\": 8, \"8\": 20, \"4\": 6, \"6\": 6}, \"5\": {\"8\": 17, \"2\": 32, \"15\": 12, \"3\": 20, \"4\": 13, \"5\": 39, \"14\": 4, \"9\": 17, \"13\": 32, \"10\": 13, \"0\": 5, \"7\": 19, \"6\": 13, \"1\": 3, \"11\": 1}, \"14\": {\"9\": 7, \"8\": 27, \"4\": 23, \"2\": 7, \"1\": 31, \"0\": 26, \"10\": 27, \"14\": 34, \"7\": 12, \"6\": 12, \"15\": 9, \"11\": 3, \"3\": 7, \"5\": 9, \"13\": 4, \"12\": 2}, \"8\": {\"10\": 21, \"4\": 12, \"13\": 16, \"8\": 23, \"6\": 29, \"9\": 13, \"2\": 14, \"5\": 12, \"12\": 4, \"7\": 12, \"14\": 30, \"15\": 14, \"1\": 19, \"0\": 16, \"3\": 5}, \"7\": {\"2\": 19, \"4\": 17, \"12\": 1, \"6\": 7, \"3\": 26, \"15\": 15, \"10\": 19, \"1\": 18, \"7\": 23, \"9\": 24, \"0\": 15, \"13\": 10, \"8\": 22, \"14\": 17, \"5\": 7}, \"6\": {\"12\": 16, \"6\": 29, \"4\": 18, \"2\": 10, \"11\": 6, \"9\": 14, \"5\": 11, \"15\": 21, \"13\": 16, \"1\": 9, \"8\": 21, \"10\": 13, \"14\": 13, \"0\": 25, \"7\": 11, \"3\": 7}, \"11\": {\"11\": 108, \"14\": 4, \"0\": 14, \"12\": 36, \"8\": 10, \"1\": 1, \"4\": 4, \"5\": 5, \"15\": 7, \"13\": 18, \"6\": 12, \"7\": 3, \"3\": 1, \"9\": 5, \"10\": 8, \"2\": 4}, \"15\": {\"8\": 22, \"13\": 24, \"5\": 19, \"9\": 18, \"7\": 19, \"3\": 9, \"15\": 32, \"6\": 23, \"12\": 5, \"4\": 14, \"10\": 11, \"0\": 16, \"14\": 6, \"1\": 9, \"2\": 13}, \"1\": {\"1\": 40, \"0\": 27, \"8\": 20, \"10\": 28, \"4\": 28, \"2\": 13, \"6\": 15, \"9\": 7, \"14\": 20, \"13\": 6, \"15\": 3, \"7\": 20, \"5\": 4, \"3\": 7, \"12\": 2}}, \"O_44\": {\"12\": {\"12\": 83, \"3\": 33, \"10\": 30, \"2\": 13, \"1\": 66, \"7\": 10, \"9\": 4, \"11\": 1}, \"7\": {\"1\": 9, \"13\": 28, \"11\": 8, \"9\": 37, \"10\": 22, \"3\": 14, \"2\": 41, \"7\": 44, \"12\": 15, \"6\": 19, \"14\": 1, \"4\": 2}, \"5\": {\"5\": 67, \"0\": 49, \"8\": 36, \"14\": 34, \"4\": 29, \"15\": 24, \"13\": 1}, \"15\": {\"7\": 1, \"5\": 31, \"15\": 63, \"8\": 42, \"4\": 26, \"0\": 42, \"14\": 34, \"3\": 1}, \"8\": {\"0\": 67, \"8\": 71, \"15\": 43, \"5\": 34, \"14\": 16, \"4\": 9}, \"2\": {\"10\": 27, \"9\": 36, \"12\": 15, \"3\": 8, \"1\": 22, \"2\": 60, \"7\": 39, \"6\": 16, \"13\": 13, \"11\": 4}, \"13\": {\"13\": 52, \"7\": 27, \"11\": 30, \"6\": 48, \"14\": 7, \"9\": 49, \"2\": 12, \"4\": 11, \"1\": 2, \"10\": 2}, \"4\": {\"13\": 10, \"14\": 48, \"5\": 33, \"4\": 85, \"0\": 16, \"1\": 1, \"8\": 8, \"15\": 26, \"7\": 4, \"3\": 3, \"9\": 5, \"2\": 1}, \"0\": {\"0\": 76, \"14\": 21, \"15\": 36, \"8\": 54, \"5\": 39, \"4\": 14}, \"6\": {\"7\": 23, \"6\": 79, \"9\": 30, \"2\": 21, \"4\": 2, \"13\": 62, \"10\": 2, \"11\": 18, \"1\": 1, \"12\": 2}, \"9\": {\"9\": 42, \"3\": 11, \"1\": 6, \"4\": 9, \"7\": 43, \"2\": 38, \"6\": 30, \"12\": 6, \"13\": 33, \"11\": 10, \"10\": 8, \"14\": 3, \"15\": 1}, \"11\": {\"11\": 106, \"6\": 33, \"10\": 6, \"9\": 18, \"13\": 43, \"2\": 11, \"7\": 14, \"14\": 1, \"3\": 4, \"1\": 2, \"5\": 2}, \"10\": {\"3\": 11, \"10\": 64, \"2\": 44, \"6\": 7, \"7\": 16, \"1\": 42, \"12\": 41, \"14\": 1, \"9\": 6, \"13\": 6, \"11\": 2}, \"14\": {\"5\": 36, \"15\": 26, \"14\": 57, \"0\": 36, \"8\": 18, \"4\": 57, \"9\": 5, \"13\": 4, \"7\": 1}, \"1\": {\"3\": 40, \"9\": 7, \"12\": 61, \"1\": 56, \"10\": 34, \"4\": 1, \"2\": 21, \"7\": 17, \"6\": 2, \"13\": 1}, \"3\": {\"1\": 64, \"15\": 1, \"9\": 11, \"3\": 77, \"7\": 11, \"13\": 3, \"10\": 17, \"14\": 1, \"12\": 35, \"2\": 17, \"4\": 3}}}, \"per_domain_accuracy\": {\"W_3\": {\"accuracy\": 0.9788925438596491, \"source?\": true}, \"C_3\": {\"accuracy\": 0.9990915697674418, \"source?\": true}, \"W_4\": {\"accuracy\": 0.9655349794238683, \"source?\": true}, \"C_4\": {\"accuracy\": 0.9988636363636364, \"source?\": true}, \"C_5\": {\"accuracy\": 1.0, \"source?\": true}, \"C_1\": {\"accuracy\": 1.0, \"source?\": true}, \"W_1\": {\"accuracy\": 0.9795212765957447, \"source?\": true}, \"C_2\": {\"accuracy\": 0.9998234463276836, \"source?\": true}, \"W_2\": {\"accuracy\": 0.9623161764705882, \"source?\": true}, \"O_14\": {\"accuracy\": 0.25677083333333334, \"source?\": false}, \"O_20\": {\"accuracy\": 0.13072916666666667, \"source?\": false}, \"O_38\": {\"accuracy\": 0.3515625, \"source?\": false}, \"O_8\": {\"accuracy\": 0.1828125, \"source?\": false}, \"O_50\": {\"accuracy\": 0.271875, \"source?\": false}, \"O_32\": {\"accuracy\": 0.37421875, \"source?\": false}, \"O_26\": {\"accuracy\": 0.16614583333333333, \"source?\": false}, \"O_44\": {\"accuracy\": 0.28177083333333336, \"source?\": false}}}, \"history\": {\"epoch_indices\": [1, 2, 3, 4, 5, 6, 7], \"train_label_loss\": [0.1202062121354384, 0.0704028966319259, 0.056261550992782065, 0.0475877010909278, 0.0410091436030508, 0.034527951675351436, 0.028781442514225607], \"source_val_label_loss\": [0.1179814338684082, 0.07440049201250076, 0.0637543648481369, 0.06530707329511642, 0.0693497434258461, 0.06889057159423828, 0.07103303074836731], \"target_val_label_loss\": [2.382519006729126, 2.297619104385376, 2.2479023933410645, 2.4018008708953857, 2.687877655029297, 2.4792025089263916, 2.4646334648132324], \"source_val_acc_label\": [0.9762362637362637, 0.9833791208791208, 0.9849759615384616, 0.9850274725274726, 0.9844951923076923, 0.9848214285714286, 0.9855082417582418], \"target_val_acc_label\": [0.21790364583333333, 0.24007161458333334, 0.25198567708333336, 0.22161458333333334, 0.19912109375, 0.2283203125, 0.23489583333333333]}, \"dataset_metrics\": {\"source\": {\"train\": {\"n_unique_x\": 364217, \"n_unique_y\": 130, \"n_batch/episode\": 13157}, \"val\": {\"n_unique_x\": 77264, \"n_unique_y\": 130, \"n_batch/episode\": 1820}, \"test\": {\"n_unique_x\": 78450, \"n_unique_y\": 130, \"n_batch/episode\": 1860}}, \"target\": {\"train\": {\"n_unique_x\": 179200, \"n_unique_y\": 16, \"n_batch/episode\": 6720}, \"val\": {\"n_unique_x\": 38400, \"n_unique_y\": 16, \"n_batch/episode\": 960}, \"test\": {\"n_unique_x\": 38400, \"n_unique_y\": 16, \"n_batch/episode\": 960}}}}'"
      ]
     },
     "execution_count": 29,
     "metadata": {},
     "output_type": "execute_result"
    }
   ],
   "source": [
    "json.dumps(experiment)"
   ]
  }
 ],
 "metadata": {
  "celltoolbar": "Tags",
  "kernelspec": {
   "display_name": "Python 3 (ipykernel)",
   "language": "python",
   "name": "python3"
  },
  "language_info": {
   "codemirror_mode": {
    "name": "ipython",
    "version": 3
   },
   "file_extension": ".py",
   "mimetype": "text/x-python",
   "name": "python",
   "nbconvert_exporter": "python",
   "pygments_lexer": "ipython3",
   "version": "3.8.10"
  },
  "papermill": {
   "default_parameters": {},
   "duration": 4568.639622,
   "end_time": "2022-03-20T07:50:31.344238",
   "environment_variables": {},
   "exception": null,
   "input_path": "/mnt/wd500GB/CSC500/csc500-main/csc500-notebooks/templates/tl_ptn_template.ipynb",
   "output_path": "trial.ipynb",
   "parameters": {
    "parameters": {
     "BEST_MODEL_PATH": "./best_model.pth",
     "NUM_LOGS_PER_EPOCH": 10,
     "criteria_for_best": "target_accuracy",
     "dataset_seed": 1337,
     "datasets": [
      {
       "domain_prefix": "C_",
       "domains": [
        1,
        2,
        3,
        4,
        5
       ],
       "episode_transforms": [],
       "labels": [
        "1-10.",
        "1-11.",
        "1-15.",
        "1-16.",
        "1-17.",
        "1-18.",
        "1-19.",
        "10-4.",
        "10-7.",
        "11-1.",
        "11-14.",
        "11-17.",
        "11-20.",
        "11-7.",
        "13-20.",
        "13-8.",
        "14-10.",
        "14-11.",
        "14-14.",
        "14-7.",
        "15-1.",
        "15-20.",
        "16-1.",
        "16-16.",
        "17-10.",
        "17-11.",
        "17-2.",
        "19-1.",
        "19-16.",
        "19-19.",
        "19-20.",
        "19-3.",
        "2-10.",
        "2-11.",
        "2-17.",
        "2-18.",
        "2-20.",
        "2-3.",
        "2-4.",
        "2-5.",
        "2-6.",
        "2-7.",
        "2-8.",
        "3-13.",
        "3-18.",
        "3-3.",
        "4-1.",
        "4-10.",
        "4-11.",
        "4-19.",
        "5-5.",
        "6-15.",
        "7-10.",
        "7-14.",
        "8-18.",
        "8-20.",
        "8-3.",
        "8-8."
       ],
       "num_examples_per_domain_per_label": -1,
       "pickle_path": "/mnt/wd500GB/CSC500/csc500-main/datasets/cores.stratified_ds.2022A.pkl",
       "source_or_target_dataset": "source",
       "x_transforms": [
        "unit_mag",
        "take_200"
       ]
      },
      {
       "domain_prefix": "W_",
       "domains": [
        1,
        2,
        3,
        4
       ],
       "episode_transforms": [],
       "labels": [
        "1-10",
        "1-12",
        "1-14",
        "1-16",
        "1-18",
        "1-19",
        "1-8",
        "10-11",
        "10-17",
        "10-4",
        "10-7",
        "11-1",
        "11-10",
        "11-19",
        "11-20",
        "11-4",
        "11-7",
        "12-19",
        "12-20",
        "12-7",
        "13-14",
        "13-18",
        "13-19",
        "13-20",
        "13-3",
        "13-7",
        "14-10",
        "14-11",
        "14-12",
        "14-13",
        "14-14",
        "14-19",
        "14-20",
        "14-7",
        "14-8",
        "14-9",
        "15-1",
        "15-19",
        "15-6",
        "16-1",
        "16-16",
        "16-19",
        "16-20",
        "17-10",
        "17-11",
        "18-1",
        "18-10",
        "18-11",
        "18-12",
        "18-13",
        "18-14",
        "18-15",
        "18-16",
        "18-17",
        "18-19",
        "18-2",
        "18-20",
        "18-4",
        "18-5",
        "18-7",
        "18-8",
        "18-9",
        "19-1",
        "19-10",
        "19-11",
        "19-12",
        "19-13",
        "19-14",
        "19-15",
        "19-19",
        "19-2",
        "19-20",
        "19-3",
        "19-4",
        "19-6",
        "19-7",
        "19-8",
        "19-9",
        "2-1",
        "2-13",
        "2-15",
        "2-3",
        "2-4",
        "2-5",
        "2-6",
        "2-7",
        "2-8",
        "20-1",
        "20-12",
        "20-14",
        "20-15",
        "20-16",
        "20-18",
        "20-19",
        "20-20",
        "20-3",
        "20-4",
        "20-5",
        "20-7",
        "20-8",
        "3-1",
        "3-13",
        "3-18",
        "3-2",
        "3-8",
        "4-1",
        "4-10",
        "4-11",
        "5-1",
        "5-5",
        "6-1",
        "6-15",
        "6-6",
        "7-10",
        "7-11",
        "7-12",
        "7-13",
        "7-14",
        "7-7",
        "7-8",
        "7-9",
        "8-1",
        "8-13",
        "8-14",
        "8-18",
        "8-20",
        "8-3",
        "8-8",
        "9-1",
        "9-7"
       ],
       "num_examples_per_domain_per_label": -1,
       "pickle_path": "/mnt/wd500GB/CSC500/csc500-main/datasets/wisig.node3-19.stratified_ds.2022A.pkl",
       "source_or_target_dataset": "source",
       "x_transforms": [
        "unit_mag",
        "take_200"
       ]
      },
      {
       "domain_prefix": "O_",
       "domains": [
        32,
        38,
        8,
        44,
        14,
        50,
        20,
        26
       ],
       "episode_transforms": [],
       "labels": [
        "3123D52",
        "3123D65",
        "3123D79",
        "3123D80",
        "3123D54",
        "3123D70",
        "3123D7B",
        "3123D89",
        "3123D58",
        "3123D76",
        "3123D7D",
        "3123EFE",
        "3123D64",
        "3123D78",
        "3123D7E",
        "3124E4A"
       ],
       "num_examples_per_domain_per_label": 2000,
       "pickle_path": "/mnt/wd500GB/CSC500/csc500-main/datasets/oracle.Run1_framed_2000Examples_stratified_ds.2022A.pkl",
       "source_or_target_dataset": "target",
       "x_transforms": [
        "unit_mag",
        "take_200",
        "resample_20Msps_to_25Msps"
       ]
      }
     ],
     "device": "cuda",
     "experiment_name": "tl_3Av2:cores+wisig -> oracle.run1.framed",
     "lr": 0.0001,
     "n_epoch": 50,
     "n_query": 2,
     "n_shot": 3,
     "n_way": 16,
     "patience": 3,
     "seed": 1337,
     "test_k_factor": 2,
     "torch_default_dtype": "torch.float32",
     "train_k_factor": 3,
     "val_k_factor": 2,
     "x_net": [
      {
       "class": "nnReshape",
       "kargs": {
        "shape": [
         -1,
         1,
         2,
         200
        ]
       }
      },
      {
       "class": "Conv2d",
       "kargs": {
        "bias": false,
        "in_channels": 1,
        "kernel_size": [
         1,
         7
        ],
        "out_channels": 256,
        "padding": [
         0,
         3
        ]
       }
      },
      {
       "class": "ReLU",
       "kargs": {
        "inplace": true
       }
      },
      {
       "class": "BatchNorm2d",
       "kargs": {
        "num_features": 256
       }
      },
      {
       "class": "Conv2d",
       "kargs": {
        "bias": true,
        "in_channels": 256,
        "kernel_size": [
         2,
         7
        ],
        "out_channels": 80,
        "padding": [
         0,
         3
        ]
       }
      },
      {
       "class": "ReLU",
       "kargs": {
        "inplace": true
       }
      },
      {
       "class": "BatchNorm2d",
       "kargs": {
        "num_features": 80
       }
      },
      {
       "class": "Flatten",
       "kargs": {}
      },
      {
       "class": "Linear",
       "kargs": {
        "in_features": 16000,
        "out_features": 256
       }
      },
      {
       "class": "ReLU",
       "kargs": {
        "inplace": true
       }
      },
      {
       "class": "BatchNorm1d",
       "kargs": {
        "num_features": 256
       }
      },
      {
       "class": "Linear",
       "kargs": {
        "in_features": 256,
        "out_features": 256
       }
      }
     ],
     "x_shape": [
      2,
      200
     ]
    }
   },
   "start_time": "2022-03-20T06:34:22.704616",
   "version": "2.3.4"
  }
 },
 "nbformat": 4,
 "nbformat_minor": 5
}