{
 "cells": [
  {
   "cell_type": "markdown",
   "id": "9fea5f46",
   "metadata": {
    "papermill": {
     "duration": 0.018676,
     "end_time": "2022-03-20T05:10:15.211526",
     "exception": false,
     "start_time": "2022-03-20T05:10:15.192850",
     "status": "completed"
    },
    "tags": []
   },
   "source": [
    "# Transfer Learning Template"
   ]
  },
  {
   "cell_type": "code",
   "execution_count": 1,
   "id": "0902182a",
   "metadata": {
    "execution": {
     "iopub.execute_input": "2022-03-20T05:10:15.253365Z",
     "iopub.status.busy": "2022-03-20T05:10:15.252566Z",
     "iopub.status.idle": "2022-03-20T05:10:16.235788Z",
     "shell.execute_reply": "2022-03-20T05:10:16.236109Z"
    },
    "papermill": {
     "duration": 1.011935,
     "end_time": "2022-03-20T05:10:16.236274",
     "exception": false,
     "start_time": "2022-03-20T05:10:15.224339",
     "status": "completed"
    },
    "tags": []
   },
   "outputs": [],
   "source": [
    "%load_ext autoreload\n",
    "%autoreload 2\n",
    "%matplotlib inline\n",
    "\n",
    "    \n",
    "import os, json, sys, time, random\n",
    "import numpy as np\n",
    "import torch\n",
    "from torch.optim import Adam\n",
    "from  easydict import EasyDict\n",
    "import matplotlib.pyplot as plt\n",
    "\n",
    "from steves_models.steves_ptn import Steves_Prototypical_Network\n",
    "\n",
    "from steves_utils.lazy_iterable_wrapper import Lazy_Iterable_Wrapper\n",
    "from steves_utils.iterable_aggregator import Iterable_Aggregator\n",
    "from steves_utils.ptn_train_eval_test_jig import  PTN_Train_Eval_Test_Jig\n",
    "from steves_utils.torch_sequential_builder import build_sequential\n",
    "from steves_utils.torch_utils import get_dataset_metrics, ptn_confusion_by_domain_over_dataloader\n",
    "from steves_utils.utils_v2 import (per_domain_accuracy_from_confusion, get_datasets_base_path)\n",
    "from steves_utils.PTN.utils import independent_accuracy_assesment\n",
    "\n",
    "from torch.utils.data import DataLoader\n",
    "\n",
    "from steves_utils.stratified_dataset.episodic_accessor import Episodic_Accessor_Factory\n",
    "\n",
    "from steves_utils.ptn_do_report import (\n",
    "    get_loss_curve,\n",
    "    get_results_table,\n",
    "    get_parameters_table,\n",
    "    get_domain_accuracies,\n",
    ")\n",
    "\n",
    "from steves_utils.transforms import get_chained_transform"
   ]
  },
  {
   "cell_type": "markdown",
   "id": "41c840b4",
   "metadata": {
    "papermill": {
     "duration": 0.012777,
     "end_time": "2022-03-20T05:10:16.266844",
     "exception": false,
     "start_time": "2022-03-20T05:10:16.254067",
     "status": "completed"
    },
    "tags": []
   },
   "source": [
    "# Allowed Parameters\n",
    "These are allowed parameters, not defaults\n",
    "Each of these values need to be present in the injected parameters (the notebook will raise an exception if they are not present)\n",
    "\n",
    "Papermill uses the cell tag \"parameters\" to inject the real parameters below this cell.\n",
    "Enable tags to see what I mean"
   ]
  },
  {
   "cell_type": "code",
   "execution_count": 2,
   "id": "fd44eb83",
   "metadata": {
    "execution": {
     "iopub.execute_input": "2022-03-20T05:10:16.295670Z",
     "iopub.status.busy": "2022-03-20T05:10:16.295378Z",
     "iopub.status.idle": "2022-03-20T05:10:16.312069Z",
     "shell.execute_reply": "2022-03-20T05:10:16.311669Z"
    },
    "papermill": {
     "duration": 0.032606,
     "end_time": "2022-03-20T05:10:16.312161",
     "exception": false,
     "start_time": "2022-03-20T05:10:16.279555",
     "status": "completed"
    },
    "tags": []
   },
   "outputs": [],
   "source": [
    "required_parameters = {\n",
    "    \"experiment_name\",\n",
    "    \"lr\",\n",
    "    \"device\",\n",
    "    \"seed\",\n",
    "    \"dataset_seed\",\n",
    "    \"n_shot\",\n",
    "    \"n_query\",\n",
    "    \"n_way\",\n",
    "    \"train_k_factor\",\n",
    "    \"val_k_factor\",\n",
    "    \"test_k_factor\",\n",
    "    \"n_epoch\",\n",
    "    \"patience\",\n",
    "    \"criteria_for_best\",\n",
    "    \"x_net\",\n",
    "    \"datasets\",\n",
    "    \"torch_default_dtype\",\n",
    "    \"NUM_LOGS_PER_EPOCH\",\n",
    "    \"BEST_MODEL_PATH\",\n",
    "    \"x_shape\",\n",
    "}"
   ]
  },
  {
   "cell_type": "code",
   "execution_count": 3,
   "id": "fa3f0049",
   "metadata": {
    "execution": {
     "iopub.execute_input": "2022-03-20T05:10:16.353009Z",
     "iopub.status.busy": "2022-03-20T05:10:16.352727Z",
     "iopub.status.idle": "2022-03-20T05:10:16.367808Z",
     "shell.execute_reply": "2022-03-20T05:10:16.367347Z"
    },
    "papermill": {
     "duration": 0.037481,
     "end_time": "2022-03-20T05:10:16.367938",
     "exception": false,
     "start_time": "2022-03-20T05:10:16.330457",
     "status": "completed"
    },
    "tags": [
     "parameters"
    ]
   },
   "outputs": [],
   "source": [
    "from steves_utils.CORES.utils import (\n",
    "    ALL_NODES,\n",
    "    ALL_NODES_MINIMUM_1000_EXAMPLES,\n",
    "    ALL_DAYS\n",
    ")\n",
    "\n",
    "from steves_utils.ORACLE.utils_v2 import (\n",
    "    ALL_DISTANCES_FEET_NARROWED,\n",
    "    ALL_RUNS,\n",
    "    ALL_SERIAL_NUMBERS,\n",
    ")\n",
    "\n",
    "standalone_parameters = {}\n",
    "standalone_parameters[\"experiment_name\"] = \"STANDALONE PTN\"\n",
    "standalone_parameters[\"lr\"] = 0.001\n",
    "standalone_parameters[\"device\"] = \"cuda\"\n",
    "\n",
    "standalone_parameters[\"seed\"] = 1337\n",
    "standalone_parameters[\"dataset_seed\"] = 1337\n",
    "\n",
    "standalone_parameters[\"n_way\"] = 8\n",
    "standalone_parameters[\"n_shot\"] = 3\n",
    "standalone_parameters[\"n_query\"]  = 2\n",
    "standalone_parameters[\"train_k_factor\"] = 1\n",
    "standalone_parameters[\"val_k_factor\"] = 2\n",
    "standalone_parameters[\"test_k_factor\"] = 2\n",
    "\n",
    "\n",
    "standalone_parameters[\"n_epoch\"] = 50\n",
    "\n",
    "standalone_parameters[\"patience\"] = 10\n",
    "standalone_parameters[\"criteria_for_best\"] = \"source_loss\"\n",
    "\n",
    "standalone_parameters[\"datasets\"] = [\n",
    "    {\n",
    "        \"labels\": ALL_SERIAL_NUMBERS,\n",
    "        \"domains\": ALL_DISTANCES_FEET_NARROWED,\n",
    "        \"num_examples_per_domain_per_label\": 100,\n",
    "        \"pickle_path\": os.path.join(get_datasets_base_path(), \"oracle.Run1_framed_2000Examples_stratified_ds.2022A.pkl\"),\n",
    "        \"source_or_target_dataset\": \"source\",\n",
    "        \"x_transforms\": [\"unit_mag\", \"minus_two\"],\n",
    "        \"episode_transforms\": [],\n",
    "        \"domain_prefix\": \"ORACLE_\"\n",
    "    },\n",
    "    {\n",
    "        \"labels\": ALL_NODES,\n",
    "        \"domains\": ALL_DAYS,\n",
    "        \"num_examples_per_domain_per_label\": 100,\n",
    "        \"pickle_path\": os.path.join(get_datasets_base_path(), \"cores.stratified_ds.2022A.pkl\"),\n",
    "        \"source_or_target_dataset\": \"target\",\n",
    "        \"x_transforms\": [\"unit_power\", \"times_zero\"],\n",
    "        \"episode_transforms\": [],\n",
    "        \"domain_prefix\": \"CORES_\"\n",
    "    }   \n",
    "]\n",
    "\n",
    "standalone_parameters[\"torch_default_dtype\"] = \"torch.float32\" \n",
    "\n",
    "\n",
    "\n",
    "standalone_parameters[\"x_net\"] =     [\n",
    "    {\"class\": \"nnReshape\", \"kargs\": {\"shape\":[-1, 1, 2, 256]}},\n",
    "    {\"class\": \"Conv2d\", \"kargs\": { \"in_channels\":1, \"out_channels\":256, \"kernel_size\":(1,7), \"bias\":False, \"padding\":(0,3), },},\n",
    "    {\"class\": \"ReLU\", \"kargs\": {\"inplace\": True}},\n",
    "    {\"class\": \"BatchNorm2d\", \"kargs\": {\"num_features\":256}},\n",
    "\n",
    "    {\"class\": \"Conv2d\", \"kargs\": { \"in_channels\":256, \"out_channels\":80, \"kernel_size\":(2,7), \"bias\":True, \"padding\":(0,3), },},\n",
    "    {\"class\": \"ReLU\", \"kargs\": {\"inplace\": True}},\n",
    "    {\"class\": \"BatchNorm2d\", \"kargs\": {\"num_features\":80}},\n",
    "    {\"class\": \"Flatten\", \"kargs\": {}},\n",
    "\n",
    "    {\"class\": \"Linear\", \"kargs\": {\"in_features\": 80*256, \"out_features\": 256}}, # 80 units per IQ pair\n",
    "    {\"class\": \"ReLU\", \"kargs\": {\"inplace\": True}},\n",
    "    {\"class\": \"BatchNorm1d\", \"kargs\": {\"num_features\":256}},\n",
    "\n",
    "    {\"class\": \"Linear\", \"kargs\": {\"in_features\": 256, \"out_features\": 256}},\n",
    "]\n",
    "\n",
    "# Parameters relevant to results\n",
    "# These parameters will basically never need to change\n",
    "standalone_parameters[\"NUM_LOGS_PER_EPOCH\"] = 10\n",
    "standalone_parameters[\"BEST_MODEL_PATH\"] = \"./best_model.pth\"\n",
    "\n",
    "\n",
    "\n",
    "\n"
   ]
  },
  {
   "cell_type": "code",
   "execution_count": 4,
   "id": "1abc4a0f",
   "metadata": {
    "execution": {
     "iopub.execute_input": "2022-03-20T05:10:16.412267Z",
     "iopub.status.busy": "2022-03-20T05:10:16.411654Z",
     "iopub.status.idle": "2022-03-20T05:10:16.426536Z",
     "shell.execute_reply": "2022-03-20T05:10:16.426126Z"
    },
    "papermill": {
     "duration": 0.041659,
     "end_time": "2022-03-20T05:10:16.426629",
     "exception": false,
     "start_time": "2022-03-20T05:10:16.384970",
     "status": "completed"
    },
    "tags": [
     "injected-parameters"
    ]
   },
   "outputs": [],
   "source": [
    "# Parameters\n",
    "parameters = {\n",
    "    \"experiment_name\": \"tl_3Av2:cores+wisig -> oracle.run1.framed\",\n",
    "    \"device\": \"cuda\",\n",
    "    \"lr\": 0.0001,\n",
    "    \"x_shape\": [2, 200],\n",
    "    \"n_shot\": 3,\n",
    "    \"n_query\": 2,\n",
    "    \"train_k_factor\": 3,\n",
    "    \"val_k_factor\": 2,\n",
    "    \"test_k_factor\": 2,\n",
    "    \"torch_default_dtype\": \"torch.float32\",\n",
    "    \"n_epoch\": 50,\n",
    "    \"patience\": 3,\n",
    "    \"criteria_for_best\": \"target_accuracy\",\n",
    "    \"x_net\": [\n",
    "        {\"class\": \"nnReshape\", \"kargs\": {\"shape\": [-1, 1, 2, 200]}},\n",
    "        {\n",
    "            \"class\": \"Conv2d\",\n",
    "            \"kargs\": {\n",
    "                \"in_channels\": 1,\n",
    "                \"out_channels\": 256,\n",
    "                \"kernel_size\": [1, 7],\n",
    "                \"bias\": False,\n",
    "                \"padding\": [0, 3],\n",
    "            },\n",
    "        },\n",
    "        {\"class\": \"ReLU\", \"kargs\": {\"inplace\": True}},\n",
    "        {\"class\": \"BatchNorm2d\", \"kargs\": {\"num_features\": 256}},\n",
    "        {\n",
    "            \"class\": \"Conv2d\",\n",
    "            \"kargs\": {\n",
    "                \"in_channels\": 256,\n",
    "                \"out_channels\": 80,\n",
    "                \"kernel_size\": [2, 7],\n",
    "                \"bias\": True,\n",
    "                \"padding\": [0, 3],\n",
    "            },\n",
    "        },\n",
    "        {\"class\": \"ReLU\", \"kargs\": {\"inplace\": True}},\n",
    "        {\"class\": \"BatchNorm2d\", \"kargs\": {\"num_features\": 80}},\n",
    "        {\"class\": \"Flatten\", \"kargs\": {}},\n",
    "        {\"class\": \"Linear\", \"kargs\": {\"in_features\": 16000, \"out_features\": 256}},\n",
    "        {\"class\": \"ReLU\", \"kargs\": {\"inplace\": True}},\n",
    "        {\"class\": \"BatchNorm1d\", \"kargs\": {\"num_features\": 256}},\n",
    "        {\"class\": \"Linear\", \"kargs\": {\"in_features\": 256, \"out_features\": 256}},\n",
    "    ],\n",
    "    \"NUM_LOGS_PER_EPOCH\": 10,\n",
    "    \"BEST_MODEL_PATH\": \"./best_model.pth\",\n",
    "    \"n_way\": 16,\n",
    "    \"datasets\": [\n",
    "        {\n",
    "            \"labels\": [\n",
    "                \"1-10.\",\n",
    "                \"1-11.\",\n",
    "                \"1-15.\",\n",
    "                \"1-16.\",\n",
    "                \"1-17.\",\n",
    "                \"1-18.\",\n",
    "                \"1-19.\",\n",
    "                \"10-4.\",\n",
    "                \"10-7.\",\n",
    "                \"11-1.\",\n",
    "                \"11-14.\",\n",
    "                \"11-17.\",\n",
    "                \"11-20.\",\n",
    "                \"11-7.\",\n",
    "                \"13-20.\",\n",
    "                \"13-8.\",\n",
    "                \"14-10.\",\n",
    "                \"14-11.\",\n",
    "                \"14-14.\",\n",
    "                \"14-7.\",\n",
    "                \"15-1.\",\n",
    "                \"15-20.\",\n",
    "                \"16-1.\",\n",
    "                \"16-16.\",\n",
    "                \"17-10.\",\n",
    "                \"17-11.\",\n",
    "                \"17-2.\",\n",
    "                \"19-1.\",\n",
    "                \"19-16.\",\n",
    "                \"19-19.\",\n",
    "                \"19-20.\",\n",
    "                \"19-3.\",\n",
    "                \"2-10.\",\n",
    "                \"2-11.\",\n",
    "                \"2-17.\",\n",
    "                \"2-18.\",\n",
    "                \"2-20.\",\n",
    "                \"2-3.\",\n",
    "                \"2-4.\",\n",
    "                \"2-5.\",\n",
    "                \"2-6.\",\n",
    "                \"2-7.\",\n",
    "                \"2-8.\",\n",
    "                \"3-13.\",\n",
    "                \"3-18.\",\n",
    "                \"3-3.\",\n",
    "                \"4-1.\",\n",
    "                \"4-10.\",\n",
    "                \"4-11.\",\n",
    "                \"4-19.\",\n",
    "                \"5-5.\",\n",
    "                \"6-15.\",\n",
    "                \"7-10.\",\n",
    "                \"7-14.\",\n",
    "                \"8-18.\",\n",
    "                \"8-20.\",\n",
    "                \"8-3.\",\n",
    "                \"8-8.\",\n",
    "            ],\n",
    "            \"domains\": [1, 2, 3, 4, 5],\n",
    "            \"num_examples_per_domain_per_label\": -1,\n",
    "            \"pickle_path\": \"/mnt/wd500GB/CSC500/csc500-main/datasets/cores.stratified_ds.2022A.pkl\",\n",
    "            \"source_or_target_dataset\": \"source\",\n",
    "            \"x_transforms\": [\"unit_power\", \"take_200\"],\n",
    "            \"episode_transforms\": [],\n",
    "            \"domain_prefix\": \"C_\",\n",
    "        },\n",
    "        {\n",
    "            \"labels\": [\n",
    "                \"1-10\",\n",
    "                \"1-12\",\n",
    "                \"1-14\",\n",
    "                \"1-16\",\n",
    "                \"1-18\",\n",
    "                \"1-19\",\n",
    "                \"1-8\",\n",
    "                \"10-11\",\n",
    "                \"10-17\",\n",
    "                \"10-4\",\n",
    "                \"10-7\",\n",
    "                \"11-1\",\n",
    "                \"11-10\",\n",
    "                \"11-19\",\n",
    "                \"11-20\",\n",
    "                \"11-4\",\n",
    "                \"11-7\",\n",
    "                \"12-19\",\n",
    "                \"12-20\",\n",
    "                \"12-7\",\n",
    "                \"13-14\",\n",
    "                \"13-18\",\n",
    "                \"13-19\",\n",
    "                \"13-20\",\n",
    "                \"13-3\",\n",
    "                \"13-7\",\n",
    "                \"14-10\",\n",
    "                \"14-11\",\n",
    "                \"14-12\",\n",
    "                \"14-13\",\n",
    "                \"14-14\",\n",
    "                \"14-19\",\n",
    "                \"14-20\",\n",
    "                \"14-7\",\n",
    "                \"14-8\",\n",
    "                \"14-9\",\n",
    "                \"15-1\",\n",
    "                \"15-19\",\n",
    "                \"15-6\",\n",
    "                \"16-1\",\n",
    "                \"16-16\",\n",
    "                \"16-19\",\n",
    "                \"16-20\",\n",
    "                \"17-10\",\n",
    "                \"17-11\",\n",
    "                \"18-1\",\n",
    "                \"18-10\",\n",
    "                \"18-11\",\n",
    "                \"18-12\",\n",
    "                \"18-13\",\n",
    "                \"18-14\",\n",
    "                \"18-15\",\n",
    "                \"18-16\",\n",
    "                \"18-17\",\n",
    "                \"18-19\",\n",
    "                \"18-2\",\n",
    "                \"18-20\",\n",
    "                \"18-4\",\n",
    "                \"18-5\",\n",
    "                \"18-7\",\n",
    "                \"18-8\",\n",
    "                \"18-9\",\n",
    "                \"19-1\",\n",
    "                \"19-10\",\n",
    "                \"19-11\",\n",
    "                \"19-12\",\n",
    "                \"19-13\",\n",
    "                \"19-14\",\n",
    "                \"19-15\",\n",
    "                \"19-19\",\n",
    "                \"19-2\",\n",
    "                \"19-20\",\n",
    "                \"19-3\",\n",
    "                \"19-4\",\n",
    "                \"19-6\",\n",
    "                \"19-7\",\n",
    "                \"19-8\",\n",
    "                \"19-9\",\n",
    "                \"2-1\",\n",
    "                \"2-13\",\n",
    "                \"2-15\",\n",
    "                \"2-3\",\n",
    "                \"2-4\",\n",
    "                \"2-5\",\n",
    "                \"2-6\",\n",
    "                \"2-7\",\n",
    "                \"2-8\",\n",
    "                \"20-1\",\n",
    "                \"20-12\",\n",
    "                \"20-14\",\n",
    "                \"20-15\",\n",
    "                \"20-16\",\n",
    "                \"20-18\",\n",
    "                \"20-19\",\n",
    "                \"20-20\",\n",
    "                \"20-3\",\n",
    "                \"20-4\",\n",
    "                \"20-5\",\n",
    "                \"20-7\",\n",
    "                \"20-8\",\n",
    "                \"3-1\",\n",
    "                \"3-13\",\n",
    "                \"3-18\",\n",
    "                \"3-2\",\n",
    "                \"3-8\",\n",
    "                \"4-1\",\n",
    "                \"4-10\",\n",
    "                \"4-11\",\n",
    "                \"5-1\",\n",
    "                \"5-5\",\n",
    "                \"6-1\",\n",
    "                \"6-15\",\n",
    "                \"6-6\",\n",
    "                \"7-10\",\n",
    "                \"7-11\",\n",
    "                \"7-12\",\n",
    "                \"7-13\",\n",
    "                \"7-14\",\n",
    "                \"7-7\",\n",
    "                \"7-8\",\n",
    "                \"7-9\",\n",
    "                \"8-1\",\n",
    "                \"8-13\",\n",
    "                \"8-14\",\n",
    "                \"8-18\",\n",
    "                \"8-20\",\n",
    "                \"8-3\",\n",
    "                \"8-8\",\n",
    "                \"9-1\",\n",
    "                \"9-7\",\n",
    "            ],\n",
    "            \"domains\": [1, 2, 3, 4],\n",
    "            \"num_examples_per_domain_per_label\": -1,\n",
    "            \"pickle_path\": \"/mnt/wd500GB/CSC500/csc500-main/datasets/wisig.node3-19.stratified_ds.2022A.pkl\",\n",
    "            \"source_or_target_dataset\": \"source\",\n",
    "            \"x_transforms\": [\"unit_power\", \"take_200\"],\n",
    "            \"episode_transforms\": [],\n",
    "            \"domain_prefix\": \"W_\",\n",
    "        },\n",
    "        {\n",
    "            \"labels\": [\n",
    "                \"3123D52\",\n",
    "                \"3123D65\",\n",
    "                \"3123D79\",\n",
    "                \"3123D80\",\n",
    "                \"3123D54\",\n",
    "                \"3123D70\",\n",
    "                \"3123D7B\",\n",
    "                \"3123D89\",\n",
    "                \"3123D58\",\n",
    "                \"3123D76\",\n",
    "                \"3123D7D\",\n",
    "                \"3123EFE\",\n",
    "                \"3123D64\",\n",
    "                \"3123D78\",\n",
    "                \"3123D7E\",\n",
    "                \"3124E4A\",\n",
    "            ],\n",
    "            \"domains\": [32, 38, 8, 44, 14, 50, 20, 26],\n",
    "            \"num_examples_per_domain_per_label\": 2000,\n",
    "            \"pickle_path\": \"/mnt/wd500GB/CSC500/csc500-main/datasets/oracle.Run1_framed_2000Examples_stratified_ds.2022A.pkl\",\n",
    "            \"source_or_target_dataset\": \"target\",\n",
    "            \"x_transforms\": [\"unit_power\", \"take_200\", \"resample_20Msps_to_25Msps\"],\n",
    "            \"episode_transforms\": [],\n",
    "            \"domain_prefix\": \"O_\",\n",
    "        },\n",
    "    ],\n",
    "    \"seed\": 1337,\n",
    "    \"dataset_seed\": 1337,\n",
    "}\n"
   ]
  },
  {
   "cell_type": "code",
   "execution_count": 5,
   "id": "8fa1cc33",
   "metadata": {
    "execution": {
     "iopub.execute_input": "2022-03-20T05:10:16.462273Z",
     "iopub.status.busy": "2022-03-20T05:10:16.462013Z",
     "iopub.status.idle": "2022-03-20T05:10:16.478105Z",
     "shell.execute_reply": "2022-03-20T05:10:16.478485Z"
    },
    "papermill": {
     "duration": 0.034691,
     "end_time": "2022-03-20T05:10:16.478590",
     "exception": false,
     "start_time": "2022-03-20T05:10:16.443899",
     "status": "completed"
    },
    "tags": []
   },
   "outputs": [],
   "source": [
    "# Set this to True if you want to run this template directly\n",
    "STANDALONE = False\n",
    "if STANDALONE:\n",
    "    print(\"parameters not injected, running with standalone_parameters\")\n",
    "    parameters = standalone_parameters\n",
    "\n",
    "if not 'parameters' in locals() and not 'parameters' in globals():\n",
    "    raise Exception(\"Parameter injection failed\")\n",
    "\n",
    "#Use an easy dict for all the parameters\n",
    "p = EasyDict(parameters)\n",
    "\n",
    "if \"x_shape\" not in p:\n",
    "    p.x_shape = [2,256] # Default to this if we dont supply x_shape\n",
    "\n",
    "\n",
    "supplied_keys = set(p.keys())\n",
    "\n",
    "if  supplied_keys != required_parameters:\n",
    "    print(\"Parameters are incorrect\")\n",
    "    if len(supplied_keys - required_parameters)>0: print(\"Shouldn't have:\", str(supplied_keys - required_parameters))\n",
    "    if len(required_parameters - supplied_keys)>0: print(\"Need to have:\", str(required_parameters - supplied_keys))\n",
    "    raise RuntimeError(\"Parameters are incorrect\")"
   ]
  },
  {
   "cell_type": "code",
   "execution_count": 6,
   "id": "3a028d58",
   "metadata": {
    "execution": {
     "iopub.execute_input": "2022-03-20T05:10:16.512791Z",
     "iopub.status.busy": "2022-03-20T05:10:16.512538Z",
     "iopub.status.idle": "2022-03-20T05:10:16.526719Z",
     "shell.execute_reply": "2022-03-20T05:10:16.527016Z"
    },
    "papermill": {
     "duration": 0.030565,
     "end_time": "2022-03-20T05:10:16.527103",
     "exception": false,
     "start_time": "2022-03-20T05:10:16.496538",
     "status": "completed"
    },
    "tags": []
   },
   "outputs": [],
   "source": [
    "###################################\n",
    "# Set the RNGs and make it all deterministic\n",
    "###################################\n",
    "np.random.seed(p.seed)\n",
    "random.seed(p.seed)\n",
    "torch.manual_seed(p.seed)\n",
    "\n",
    "torch.use_deterministic_algorithms(True) "
   ]
  },
  {
   "cell_type": "code",
   "execution_count": 7,
   "id": "b691acf6",
   "metadata": {
    "execution": {
     "iopub.execute_input": "2022-03-20T05:10:16.560511Z",
     "iopub.status.busy": "2022-03-20T05:10:16.560243Z",
     "iopub.status.idle": "2022-03-20T05:10:16.575493Z",
     "shell.execute_reply": "2022-03-20T05:10:16.575912Z"
    },
    "papermill": {
     "duration": 0.031321,
     "end_time": "2022-03-20T05:10:16.576041",
     "exception": false,
     "start_time": "2022-03-20T05:10:16.544720",
     "status": "completed"
    },
    "tags": []
   },
   "outputs": [],
   "source": [
    "###########################################\n",
    "# The stratified datasets honor this\n",
    "###########################################\n",
    "torch.set_default_dtype(eval(p.torch_default_dtype))"
   ]
  },
  {
   "cell_type": "code",
   "execution_count": 8,
   "id": "b5fba671",
   "metadata": {
    "execution": {
     "iopub.execute_input": "2022-03-20T05:10:16.609689Z",
     "iopub.status.busy": "2022-03-20T05:10:16.609431Z",
     "iopub.status.idle": "2022-03-20T05:10:16.646520Z",
     "shell.execute_reply": "2022-03-20T05:10:16.646877Z"
    },
    "papermill": {
     "duration": 0.053848,
     "end_time": "2022-03-20T05:10:16.646984",
     "exception": false,
     "start_time": "2022-03-20T05:10:16.593136",
     "status": "completed"
    },
    "tags": []
   },
   "outputs": [],
   "source": [
    "###################################\n",
    "# Build the network(s)\n",
    "# Note: It's critical to do this AFTER setting the RNG\n",
    "###################################\n",
    "x_net = build_sequential(p.x_net)"
   ]
  },
  {
   "cell_type": "code",
   "execution_count": 9,
   "id": "5d7e61cc",
   "metadata": {
    "execution": {
     "iopub.execute_input": "2022-03-20T05:10:16.682706Z",
     "iopub.status.busy": "2022-03-20T05:10:16.682449Z",
     "iopub.status.idle": "2022-03-20T05:10:16.698198Z",
     "shell.execute_reply": "2022-03-20T05:10:16.697802Z"
    },
    "papermill": {
     "duration": 0.032155,
     "end_time": "2022-03-20T05:10:16.698288",
     "exception": false,
     "start_time": "2022-03-20T05:10:16.666133",
     "status": "completed"
    },
    "tags": []
   },
   "outputs": [],
   "source": [
    "start_time_secs = time.time()"
   ]
  },
  {
   "cell_type": "code",
   "execution_count": 10,
   "id": "c6b67dfd",
   "metadata": {
    "execution": {
     "iopub.execute_input": "2022-03-20T05:10:16.733109Z",
     "iopub.status.busy": "2022-03-20T05:10:16.732830Z",
     "iopub.status.idle": "2022-03-20T05:10:16.747263Z",
     "shell.execute_reply": "2022-03-20T05:10:16.747646Z"
    },
    "papermill": {
     "duration": 0.031876,
     "end_time": "2022-03-20T05:10:16.747755",
     "exception": false,
     "start_time": "2022-03-20T05:10:16.715879",
     "status": "completed"
    },
    "tags": []
   },
   "outputs": [],
   "source": [
    "p.domains_source = []\n",
    "p.domains_target = []\n",
    "\n",
    "\n",
    "train_original_source = []\n",
    "val_original_source   = []\n",
    "test_original_source  = []\n",
    "\n",
    "train_original_target = []\n",
    "val_original_target   = []\n",
    "test_original_target  = []"
   ]
  },
  {
   "cell_type": "code",
   "execution_count": 11,
   "id": "e3d9c3d3",
   "metadata": {
    "execution": {
     "iopub.execute_input": "2022-03-20T05:10:16.779951Z",
     "iopub.status.busy": "2022-03-20T05:10:16.779697Z",
     "iopub.status.idle": "2022-03-20T05:10:16.794214Z",
     "shell.execute_reply": "2022-03-20T05:10:16.794511Z"
    },
    "papermill": {
     "duration": 0.031519,
     "end_time": "2022-03-20T05:10:16.794594",
     "exception": false,
     "start_time": "2022-03-20T05:10:16.763075",
     "status": "completed"
    },
    "tags": []
   },
   "outputs": [],
   "source": [
    "# global_x_transform_func = lambda x: normalize(x.to(torch.get_default_dtype()), \"unit_power\") # unit_power, unit_mag\n",
    "# global_x_transform_func = lambda x: normalize(x, \"unit_power\") # unit_power, unit_mag"
   ]
  },
  {
   "cell_type": "code",
   "execution_count": 12,
   "id": "acb78fd2",
   "metadata": {
    "execution": {
     "iopub.execute_input": "2022-03-20T05:10:16.836402Z",
     "iopub.status.busy": "2022-03-20T05:10:16.835923Z",
     "iopub.status.idle": "2022-03-20T05:10:16.848220Z",
     "shell.execute_reply": "2022-03-20T05:10:16.848599Z"
    },
    "papermill": {
     "duration": 0.034706,
     "end_time": "2022-03-20T05:10:16.848706",
     "exception": false,
     "start_time": "2022-03-20T05:10:16.814000",
     "status": "completed"
    },
    "tags": []
   },
   "outputs": [],
   "source": [
    "def add_dataset(\n",
    "    labels,\n",
    "    domains,\n",
    "    pickle_path,\n",
    "    x_transforms,\n",
    "    episode_transforms,\n",
    "    domain_prefix,\n",
    "    num_examples_per_domain_per_label,\n",
    "    source_or_target_dataset:str,\n",
    "    iterator_seed=p.seed,\n",
    "    dataset_seed=p.dataset_seed,\n",
    "    n_shot=p.n_shot,\n",
    "    n_way=p.n_way,\n",
    "    n_query=p.n_query,\n",
    "    train_val_test_k_factors=(p.train_k_factor,p.val_k_factor,p.test_k_factor),\n",
    "):\n",
    "   \n",
    "    if x_transforms == []: x_transform = None\n",
    "    else: x_transform = get_chained_transform(x_transforms)\n",
    "    \n",
    "    if episode_transforms == []: episode_transform = None\n",
    "    else: raise Exception(\"episode_transforms not implemented\")\n",
    "    \n",
    "    episode_transform = lambda tup, _prefix=domain_prefix: (_prefix + str(tup[0]), tup[1])\n",
    "\n",
    "\n",
    "    eaf = Episodic_Accessor_Factory(\n",
    "        labels=labels,\n",
    "        domains=domains,\n",
    "        num_examples_per_domain_per_label=num_examples_per_domain_per_label,\n",
    "        iterator_seed=iterator_seed,\n",
    "        dataset_seed=dataset_seed,\n",
    "        n_shot=n_shot,\n",
    "        n_way=n_way,\n",
    "        n_query=n_query,\n",
    "        train_val_test_k_factors=train_val_test_k_factors,\n",
    "        pickle_path=pickle_path,\n",
    "        x_transform_func=x_transform,\n",
    "    )\n",
    "\n",
    "    train, val, test = eaf.get_train(), eaf.get_val(), eaf.get_test()\n",
    "    train = Lazy_Iterable_Wrapper(train, episode_transform)\n",
    "    val = Lazy_Iterable_Wrapper(val, episode_transform)\n",
    "    test = Lazy_Iterable_Wrapper(test, episode_transform)\n",
    "\n",
    "    if source_or_target_dataset==\"source\":\n",
    "        train_original_source.append(train)\n",
    "        val_original_source.append(val)\n",
    "        test_original_source.append(test)\n",
    "\n",
    "        p.domains_source.extend(\n",
    "            [domain_prefix + str(u) for u in domains]\n",
    "        )\n",
    "    elif source_or_target_dataset==\"target\":\n",
    "        train_original_target.append(train)\n",
    "        val_original_target.append(val)\n",
    "        test_original_target.append(test)\n",
    "        p.domains_target.extend(\n",
    "            [domain_prefix + str(u) for u in domains]\n",
    "        )\n",
    "    else:\n",
    "        raise Exception(f\"invalid source_or_target_dataset: {source_or_target_dataset}\")\n",
    "    "
   ]
  },
  {
   "cell_type": "code",
   "execution_count": 13,
   "id": "fe266617",
   "metadata": {
    "execution": {
     "iopub.execute_input": "2022-03-20T05:10:16.883808Z",
     "iopub.status.busy": "2022-03-20T05:10:16.883556Z",
     "iopub.status.idle": "2022-03-20T05:11:28.386488Z",
     "shell.execute_reply": "2022-03-20T05:11:28.386018Z"
    },
    "papermill": {
     "duration": 71.518999,
     "end_time": "2022-03-20T05:11:28.386597",
     "exception": false,
     "start_time": "2022-03-20T05:10:16.867598",
     "status": "completed"
    },
    "tags": []
   },
   "outputs": [],
   "source": [
    "for ds in p.datasets:\n",
    "    add_dataset(**ds)"
   ]
  },
  {
   "cell_type": "code",
   "execution_count": 14,
   "id": "b90d65ac",
   "metadata": {
    "execution": {
     "iopub.execute_input": "2022-03-20T05:11:28.419863Z",
     "iopub.status.busy": "2022-03-20T05:11:28.419592Z",
     "iopub.status.idle": "2022-03-20T05:11:28.435858Z",
     "shell.execute_reply": "2022-03-20T05:11:28.436274Z"
    },
    "papermill": {
     "duration": 0.033226,
     "end_time": "2022-03-20T05:11:28.436404",
     "exception": false,
     "start_time": "2022-03-20T05:11:28.403178",
     "status": "completed"
    },
    "tags": []
   },
   "outputs": [],
   "source": [
    "# from steves_utils.CORES.utils import (\n",
    "#     ALL_NODES,\n",
    "#     ALL_NODES_MINIMUM_1000_EXAMPLES,\n",
    "#     ALL_DAYS\n",
    "# )\n",
    "\n",
    "# add_dataset(\n",
    "#     labels=ALL_NODES,\n",
    "#     domains = ALL_DAYS,\n",
    "#     num_examples_per_domain_per_label=100,\n",
    "#     pickle_path=os.path.join(get_datasets_base_path(), \"cores.stratified_ds.2022A.pkl\"),\n",
    "#     source_or_target_dataset=\"target\",\n",
    "#     x_transform_func=global_x_transform_func,\n",
    "#     domain_modifier=lambda u: f\"cores_{u}\"\n",
    "# )"
   ]
  },
  {
   "cell_type": "code",
   "execution_count": 15,
   "id": "76db484d",
   "metadata": {
    "execution": {
     "iopub.execute_input": "2022-03-20T05:11:28.472262Z",
     "iopub.status.busy": "2022-03-20T05:11:28.472008Z",
     "iopub.status.idle": "2022-03-20T05:11:28.486925Z",
     "shell.execute_reply": "2022-03-20T05:11:28.487413Z"
    },
    "papermill": {
     "duration": 0.031488,
     "end_time": "2022-03-20T05:11:28.487553",
     "exception": false,
     "start_time": "2022-03-20T05:11:28.456065",
     "status": "completed"
    },
    "tags": []
   },
   "outputs": [],
   "source": [
    "# from steves_utils.ORACLE.utils_v2 import (\n",
    "#     ALL_DISTANCES_FEET,\n",
    "#     ALL_RUNS,\n",
    "#     ALL_SERIAL_NUMBERS,\n",
    "# )\n",
    "\n",
    "\n",
    "# add_dataset(\n",
    "#     labels=ALL_SERIAL_NUMBERS,\n",
    "#     domains = list(set(ALL_DISTANCES_FEET) - {2,62}),\n",
    "#     num_examples_per_domain_per_label=100,\n",
    "#     pickle_path=os.path.join(get_datasets_base_path(), \"oracle.Run2_framed_2000Examples_stratified_ds.2022A.pkl\"),\n",
    "#     source_or_target_dataset=\"source\",\n",
    "#     x_transform_func=global_x_transform_func,\n",
    "#     domain_modifier=lambda u: f\"oracle1_{u}\"\n",
    "# )\n"
   ]
  },
  {
   "cell_type": "code",
   "execution_count": 16,
   "id": "97dea9d2",
   "metadata": {
    "execution": {
     "iopub.execute_input": "2022-03-20T05:11:28.520606Z",
     "iopub.status.busy": "2022-03-20T05:11:28.520184Z",
     "iopub.status.idle": "2022-03-20T05:11:28.533086Z",
     "shell.execute_reply": "2022-03-20T05:11:28.532847Z"
    },
    "papermill": {
     "duration": 0.028566,
     "end_time": "2022-03-20T05:11:28.533145",
     "exception": false,
     "start_time": "2022-03-20T05:11:28.504579",
     "status": "completed"
    },
    "tags": []
   },
   "outputs": [],
   "source": [
    "# from steves_utils.ORACLE.utils_v2 import (\n",
    "#     ALL_DISTANCES_FEET,\n",
    "#     ALL_RUNS,\n",
    "#     ALL_SERIAL_NUMBERS,\n",
    "# )\n",
    "\n",
    "\n",
    "# add_dataset(\n",
    "#     labels=ALL_SERIAL_NUMBERS,\n",
    "#     domains = list(set(ALL_DISTANCES_FEET) - {2,62,56}),\n",
    "#     num_examples_per_domain_per_label=100,\n",
    "#     pickle_path=os.path.join(get_datasets_base_path(), \"oracle.Run2_framed_2000Examples_stratified_ds.2022A.pkl\"),\n",
    "#     source_or_target_dataset=\"source\",\n",
    "#     x_transform_func=global_x_transform_func,\n",
    "#     domain_modifier=lambda u: f\"oracle2_{u}\"\n",
    "# )"
   ]
  },
  {
   "cell_type": "code",
   "execution_count": 17,
   "id": "6f289866",
   "metadata": {
    "execution": {
     "iopub.execute_input": "2022-03-20T05:11:28.563515Z",
     "iopub.status.busy": "2022-03-20T05:11:28.563258Z",
     "iopub.status.idle": "2022-03-20T05:11:28.574998Z",
     "shell.execute_reply": "2022-03-20T05:11:28.574503Z"
    },
    "papermill": {
     "duration": 0.027383,
     "end_time": "2022-03-20T05:11:28.575102",
     "exception": false,
     "start_time": "2022-03-20T05:11:28.547719",
     "status": "completed"
    },
    "tags": []
   },
   "outputs": [],
   "source": [
    "# add_dataset(\n",
    "#     labels=list(range(19)),\n",
    "#     domains = [0,1,2],\n",
    "#     num_examples_per_domain_per_label=100,\n",
    "#     pickle_path=os.path.join(get_datasets_base_path(), \"metehan.stratified_ds.2022A.pkl\"),\n",
    "#     source_or_target_dataset=\"target\",\n",
    "#     x_transform_func=global_x_transform_func,\n",
    "#     domain_modifier=lambda u: f\"met_{u}\"\n",
    "# )"
   ]
  },
  {
   "cell_type": "code",
   "execution_count": 18,
   "id": "86a863c3",
   "metadata": {
    "execution": {
     "iopub.execute_input": "2022-03-20T05:11:28.615897Z",
     "iopub.status.busy": "2022-03-20T05:11:28.615638Z",
     "iopub.status.idle": "2022-03-20T05:11:28.623010Z",
     "shell.execute_reply": "2022-03-20T05:11:28.623503Z"
    },
    "papermill": {
     "duration": 0.031893,
     "end_time": "2022-03-20T05:11:28.623633",
     "exception": false,
     "start_time": "2022-03-20T05:11:28.591740",
     "status": "completed"
    },
    "tags": []
   },
   "outputs": [],
   "source": [
    "# # from steves_utils.wisig.utils import (\n",
    "# #     ALL_NODES_MINIMUM_100_EXAMPLES,\n",
    "# #     ALL_NODES_MINIMUM_500_EXAMPLES,\n",
    "# #     ALL_NODES_MINIMUM_1000_EXAMPLES,\n",
    "# #     ALL_DAYS\n",
    "# # )\n",
    "\n",
    "# import steves_utils.wisig.utils as wisig\n",
    "\n",
    "\n",
    "# add_dataset(\n",
    "#     labels=wisig.ALL_NODES_MINIMUM_100_EXAMPLES,\n",
    "#     domains = wisig.ALL_DAYS,\n",
    "#     num_examples_per_domain_per_label=100,\n",
    "#     pickle_path=os.path.join(get_datasets_base_path(), \"wisig.node3-19.stratified_ds.2022A.pkl\"),\n",
    "#     source_or_target_dataset=\"target\",\n",
    "#     x_transform_func=global_x_transform_func,\n",
    "#     domain_modifier=lambda u: f\"wisig_{u}\"\n",
    "# )"
   ]
  },
  {
   "cell_type": "code",
   "execution_count": 19,
   "id": "fd5442bc",
   "metadata": {
    "execution": {
     "iopub.execute_input": "2022-03-20T05:11:28.661816Z",
     "iopub.status.busy": "2022-03-20T05:11:28.661548Z",
     "iopub.status.idle": "2022-03-20T05:11:28.674467Z",
     "shell.execute_reply": "2022-03-20T05:11:28.673835Z"
    },
    "papermill": {
     "duration": 0.030815,
     "end_time": "2022-03-20T05:11:28.674616",
     "exception": false,
     "start_time": "2022-03-20T05:11:28.643801",
     "status": "completed"
    },
    "tags": []
   },
   "outputs": [],
   "source": [
    "###################################\n",
    "# Build the dataset\n",
    "###################################\n",
    "train_original_source = Iterable_Aggregator(train_original_source, p.seed)\n",
    "val_original_source = Iterable_Aggregator(val_original_source, p.seed)\n",
    "test_original_source = Iterable_Aggregator(test_original_source, p.seed)\n",
    "\n",
    "\n",
    "train_original_target = Iterable_Aggregator(train_original_target, p.seed)\n",
    "val_original_target = Iterable_Aggregator(val_original_target, p.seed)\n",
    "test_original_target = Iterable_Aggregator(test_original_target, p.seed)\n",
    "\n",
    "# For CNN We only use X and Y. And we only train on the source.\n",
    "# Properly form the data using a transform lambda and Lazy_Iterable_Wrapper. Finally wrap them in a dataloader\n",
    "\n",
    "transform_lambda = lambda ex: ex[1] # Original is (<domain>, <episode>) so we strip down to episode only\n",
    "\n",
    "train_processed_source = Lazy_Iterable_Wrapper(train_original_source, transform_lambda)\n",
    "val_processed_source   = Lazy_Iterable_Wrapper(val_original_source, transform_lambda)\n",
    "test_processed_source  = Lazy_Iterable_Wrapper(test_original_source, transform_lambda)\n",
    "\n",
    "train_processed_target = Lazy_Iterable_Wrapper(train_original_target, transform_lambda)\n",
    "val_processed_target   = Lazy_Iterable_Wrapper(val_original_target, transform_lambda)\n",
    "test_processed_target  = Lazy_Iterable_Wrapper(test_original_target, transform_lambda)\n",
    "\n",
    "datasets = EasyDict({\n",
    "    \"source\": {\n",
    "        \"original\": {\"train\":train_original_source, \"val\":val_original_source, \"test\":test_original_source},\n",
    "        \"processed\": {\"train\":train_processed_source, \"val\":val_processed_source, \"test\":test_processed_source}\n",
    "    },\n",
    "    \"target\": {\n",
    "        \"original\": {\"train\":train_original_target, \"val\":val_original_target, \"test\":test_original_target},\n",
    "        \"processed\": {\"train\":train_processed_target, \"val\":val_processed_target, \"test\":test_processed_target}\n",
    "    },\n",
    "})"
   ]
  },
  {
   "cell_type": "code",
   "execution_count": 20,
   "id": "5b3c01fc",
   "metadata": {
    "execution": {
     "iopub.execute_input": "2022-03-20T05:11:28.712948Z",
     "iopub.status.busy": "2022-03-20T05:11:28.710036Z",
     "iopub.status.idle": "2022-03-20T05:11:38.429700Z",
     "shell.execute_reply": "2022-03-20T05:11:38.430090Z"
    },
    "papermill": {
     "duration": 9.736413,
     "end_time": "2022-03-20T05:11:38.430202",
     "exception": false,
     "start_time": "2022-03-20T05:11:28.693789",
     "status": "completed"
    },
    "tags": []
   },
   "outputs": [
    {
     "name": "stdout",
     "output_type": "stream",
     "text": [
      "{'C_2', 'W_4', 'W_3', 'C_4', 'C_5', 'W_2', 'C_3', 'C_1', 'W_1'}\n"
     ]
    },
    {
     "name": "stdout",
     "output_type": "stream",
     "text": [
      "{'O_32', 'O_14', 'O_26', 'O_8', 'O_50', 'O_38', 'O_20', 'O_44'}\n"
     ]
    },
    {
     "name": "stdout",
     "output_type": "stream",
     "text": [
      "tensor([[[-0.0477,  1.2174,  0.0477,  ...,  1.2217,  1.0807, -0.7899],\n",
      "         [-0.9222,  0.1215,  1.4691,  ..., -0.2712,  1.4127,  0.4904]],\n",
      "\n",
      "        [[ 0.4785,  0.7630, -1.0496,  ...,  0.5173, -0.7759, -1.6358],\n",
      "         [-0.5733,  0.4828,  0.9375,  ...,  0.3987,  1.3104,  0.1142]],\n",
      "\n",
      "        [[ 0.3634,  1.3323,  0.4261,  ...,  1.6091,  0.6186, -0.8522],\n",
      "         [-0.9257,  0.4001,  1.2155,  ..., -0.6705,  1.0165, -0.9819]],\n",
      "\n",
      "        ...,\n",
      "\n",
      "        [[-0.7304, -0.7434,  0.1159,  ...,  0.3703,  0.5623,  0.2009],\n",
      "         [ 0.7496, -0.0309, -1.0938,  ..., -0.9704, -0.6529,  0.4135]],\n",
      "\n",
      "        [[-0.0426, -0.0444, -0.0566,  ..., -0.7564, -0.3450,  0.3353],\n",
      "         [-0.0700, -0.0779, -0.0061,  ..., -0.6608, -1.0856, -0.5963]],\n",
      "\n",
      "        [[-0.1019, -0.3426,  0.0021,  ..., -0.4863,  0.5184, -0.1284],\n",
      "         [-0.1737, -0.1800, -0.7815,  ..., -0.9901, -0.0893,  1.0236]]])\n"
     ]
    }
   ],
   "source": [
    "from steves_utils.transforms import get_average_magnitude, get_average_power\n",
    "\n",
    "print(set([u for u,_ in val_original_source]))\n",
    "print(set([u for u,_ in val_original_target]))\n",
    "\n",
    "s_x, s_y, q_x, q_y, _ = next(iter(train_processed_source))\n",
    "print(s_x)\n",
    "\n",
    "# for ds in [\n",
    "#     train_processed_source,\n",
    "#     val_processed_source,\n",
    "#     test_processed_source,\n",
    "#     train_processed_target,\n",
    "#     val_processed_target,\n",
    "#     test_processed_target\n",
    "# ]:\n",
    "#     for s_x, s_y, q_x, q_y, _ in ds:\n",
    "#         for X in (s_x, q_x):\n",
    "#             for x in X:\n",
    "#                 assert np.isclose(get_average_magnitude(x.numpy()), 1.0)\n",
    "#                 assert np.isclose(get_average_power(x.numpy()), 1.0)\n",
    "                "
   ]
  },
  {
   "cell_type": "code",
   "execution_count": 21,
   "id": "bbdacba1",
   "metadata": {
    "execution": {
     "iopub.execute_input": "2022-03-20T05:11:38.468173Z",
     "iopub.status.busy": "2022-03-20T05:11:38.467899Z",
     "iopub.status.idle": "2022-03-20T05:11:38.519815Z",
     "shell.execute_reply": "2022-03-20T05:11:38.520236Z"
    },
    "papermill": {
     "duration": 0.071417,
     "end_time": "2022-03-20T05:11:38.520371",
     "exception": false,
     "start_time": "2022-03-20T05:11:38.448954",
     "status": "completed"
    },
    "tags": []
   },
   "outputs": [
    {
     "name": "stdout",
     "output_type": "stream",
     "text": [
      "(2, 200)\n"
     ]
    }
   ],
   "source": [
    "###################################\n",
    "# Build the model\n",
    "###################################\n",
    "# easfsl only wants a tuple for the shape\n",
    "model = Steves_Prototypical_Network(x_net, device=p.device, x_shape=tuple(p.x_shape))\n",
    "optimizer = Adam(params=model.parameters(), lr=p.lr)"
   ]
  },
  {
   "cell_type": "code",
   "execution_count": 22,
   "id": "22b39ac5",
   "metadata": {
    "execution": {
     "iopub.execute_input": "2022-03-20T05:11:38.560515Z",
     "iopub.status.busy": "2022-03-20T05:11:38.560244Z",
     "iopub.status.idle": "2022-03-20T06:30:28.317087Z",
     "shell.execute_reply": "2022-03-20T06:30:28.316843Z"
    },
    "papermill": {
     "duration": 4729.775288,
     "end_time": "2022-03-20T06:30:28.317149",
     "exception": false,
     "start_time": "2022-03-20T05:11:38.541861",
     "status": "completed"
    },
    "tags": []
   },
   "outputs": [
    {
     "name": "stdout",
     "output_type": "stream",
     "text": [
      "epoch: 1, [batch: 1 / 13178], examples_per_second: 22.7659, train_label_loss: 2.5541, \n"
     ]
    },
    {
     "name": "stdout",
     "output_type": "stream",
     "text": [
      "epoch: 1, [batch: 1318 / 13178], examples_per_second: 2479.1360, train_label_loss: 0.0057, \n"
     ]
    },
    {
     "name": "stdout",
     "output_type": "stream",
     "text": [
      "epoch: 1, [batch: 2636 / 13178], examples_per_second: 1946.5436, train_label_loss: 0.3520, \n"
     ]
    },
    {
     "name": "stdout",
     "output_type": "stream",
     "text": [
      "epoch: 1, [batch: 3954 / 13178], examples_per_second: 1832.4565, train_label_loss: 0.3378, \n"
     ]
    },
    {
     "name": "stdout",
     "output_type": "stream",
     "text": [
      "epoch: 1, [batch: 5271 / 13178], examples_per_second: 1833.8486, train_label_loss: 0.0051, \n"
     ]
    },
    {
     "name": "stdout",
     "output_type": "stream",
     "text": [
      "epoch: 1, [batch: 6589 / 13178], examples_per_second: 1852.6127, train_label_loss: 0.0623, \n"
     ]
    },
    {
     "name": "stdout",
     "output_type": "stream",
     "text": [
      "epoch: 1, [batch: 7907 / 13178], examples_per_second: 1849.1422, train_label_loss: 0.0904, \n"
     ]
    },
    {
     "name": "stdout",
     "output_type": "stream",
     "text": [
      "epoch: 1, [batch: 9224 / 13178], examples_per_second: 1846.3843, train_label_loss: 0.0013, \n"
     ]
    },
    {
     "name": "stdout",
     "output_type": "stream",
     "text": [
      "epoch: 1, [batch: 10542 / 13178], examples_per_second: 1847.3841, train_label_loss: 0.1605, \n"
     ]
    },
    {
     "name": "stdout",
     "output_type": "stream",
     "text": [
      "epoch: 1, [batch: 11860 / 13178], examples_per_second: 1850.6975, train_label_loss: 0.0660, \n"
     ]
    },
    {
     "name": "stdout",
     "output_type": "stream",
     "text": [
      "=============================================================\n",
      "epoch: 1, source_val_acc_label: 0.9771, target_val_acc_label: 0.2143, source_val_label_loss: 0.1150, target_val_label_loss: 2.3936, \n",
      "=============================================================\n"
     ]
    },
    {
     "name": "stdout",
     "output_type": "stream",
     "text": [
      "New best\n"
     ]
    },
    {
     "name": "stdout",
     "output_type": "stream",
     "text": [
      "epoch: 2, [batch: 1 / 13164], examples_per_second: 1.5131, train_label_loss: 0.0362, \n"
     ]
    },
    {
     "name": "stdout",
     "output_type": "stream",
     "text": [
      "epoch: 2, [batch: 1317 / 13164], examples_per_second: 2513.2393, train_label_loss: 0.0786, \n"
     ]
    },
    {
     "name": "stdout",
     "output_type": "stream",
     "text": [
      "epoch: 2, [batch: 2633 / 13164], examples_per_second: 1978.2658, train_label_loss: 0.0838, \n"
     ]
    },
    {
     "name": "stdout",
     "output_type": "stream",
     "text": [
      "epoch: 2, [batch: 3949 / 13164], examples_per_second: 1854.2220, train_label_loss: 0.0011, \n"
     ]
    },
    {
     "name": "stdout",
     "output_type": "stream",
     "text": [
      "epoch: 2, [batch: 5266 / 13164], examples_per_second: 1850.9938, train_label_loss: 0.0137, \n"
     ]
    },
    {
     "name": "stdout",
     "output_type": "stream",
     "text": [
      "epoch: 2, [batch: 6582 / 13164], examples_per_second: 1859.8590, train_label_loss: 0.0023, \n"
     ]
    },
    {
     "name": "stdout",
     "output_type": "stream",
     "text": [
      "epoch: 2, [batch: 7898 / 13164], examples_per_second: 1855.8620, train_label_loss: 0.0104, \n"
     ]
    },
    {
     "name": "stdout",
     "output_type": "stream",
     "text": [
      "epoch: 2, [batch: 9215 / 13164], examples_per_second: 1850.7205, train_label_loss: 0.0015, \n"
     ]
    },
    {
     "name": "stdout",
     "output_type": "stream",
     "text": [
      "epoch: 2, [batch: 10531 / 13164], examples_per_second: 1857.2730, train_label_loss: 0.0001, \n"
     ]
    },
    {
     "name": "stdout",
     "output_type": "stream",
     "text": [
      "epoch: 2, [batch: 11847 / 13164], examples_per_second: 1857.6998, train_label_loss: 0.0334, \n"
     ]
    },
    {
     "name": "stdout",
     "output_type": "stream",
     "text": [
      "=============================================================\n",
      "epoch: 2, source_val_acc_label: 0.9830, target_val_acc_label: 0.2340, source_val_label_loss: 0.0746, target_val_label_loss: 2.3171, \n",
      "=============================================================\n"
     ]
    },
    {
     "name": "stdout",
     "output_type": "stream",
     "text": [
      "New best\n"
     ]
    },
    {
     "name": "stdout",
     "output_type": "stream",
     "text": [
      "epoch: 3, [batch: 1 / 13141], examples_per_second: 1.5231, train_label_loss: 0.2454, \n"
     ]
    },
    {
     "name": "stdout",
     "output_type": "stream",
     "text": [
      "epoch: 3, [batch: 1315 / 13141], examples_per_second: 2505.9754, train_label_loss: 0.0012, \n"
     ]
    },
    {
     "name": "stdout",
     "output_type": "stream",
     "text": [
      "epoch: 3, [batch: 2629 / 13141], examples_per_second: 1977.4097, train_label_loss: 0.2445, \n"
     ]
    },
    {
     "name": "stdout",
     "output_type": "stream",
     "text": [
      "epoch: 3, [batch: 3943 / 13141], examples_per_second: 1856.2822, train_label_loss: 0.3055, \n"
     ]
    },
    {
     "name": "stdout",
     "output_type": "stream",
     "text": [
      "epoch: 3, [batch: 5257 / 13141], examples_per_second: 1851.6685, train_label_loss: 0.0002, \n"
     ]
    },
    {
     "name": "stdout",
     "output_type": "stream",
     "text": [
      "epoch: 3, [batch: 6571 / 13141], examples_per_second: 1858.8607, train_label_loss: 0.0007, \n"
     ]
    },
    {
     "name": "stdout",
     "output_type": "stream",
     "text": [
      "epoch: 3, [batch: 7885 / 13141], examples_per_second: 1855.6500, train_label_loss: 0.0014, \n"
     ]
    },
    {
     "name": "stdout",
     "output_type": "stream",
     "text": [
      "epoch: 3, [batch: 9199 / 13141], examples_per_second: 1853.6003, train_label_loss: 0.1485, \n"
     ]
    },
    {
     "name": "stdout",
     "output_type": "stream",
     "text": [
      "epoch: 3, [batch: 10513 / 13141], examples_per_second: 1854.9851, train_label_loss: 0.2174, \n"
     ]
    },
    {
     "name": "stdout",
     "output_type": "stream",
     "text": [
      "epoch: 3, [batch: 11827 / 13141], examples_per_second: 1857.1415, train_label_loss: 0.3855, \n"
     ]
    },
    {
     "name": "stdout",
     "output_type": "stream",
     "text": [
      "=============================================================\n",
      "epoch: 3, source_val_acc_label: 0.9851, target_val_acc_label: 0.2174, source_val_label_loss: 0.0647, target_val_label_loss: 2.4282, \n",
      "=============================================================\n"
     ]
    },
    {
     "name": "stdout",
     "output_type": "stream",
     "text": [
      "epoch: 4, [batch: 1 / 13165], examples_per_second: 1.5243, train_label_loss: 0.0049, \n"
     ]
    },
    {
     "name": "stdout",
     "output_type": "stream",
     "text": [
      "epoch: 4, [batch: 1317 / 13165], examples_per_second: 2461.4492, train_label_loss: 0.0440, \n"
     ]
    },
    {
     "name": "stdout",
     "output_type": "stream",
     "text": [
      "epoch: 4, [batch: 2633 / 13165], examples_per_second: 1997.0133, train_label_loss: 0.0006, \n"
     ]
    },
    {
     "name": "stdout",
     "output_type": "stream",
     "text": [
      "epoch: 4, [batch: 3950 / 13165], examples_per_second: 1854.7856, train_label_loss: 0.0002, \n"
     ]
    },
    {
     "name": "stdout",
     "output_type": "stream",
     "text": [
      "epoch: 4, [batch: 5266 / 13165], examples_per_second: 1851.2739, train_label_loss: 0.1417, \n"
     ]
    },
    {
     "name": "stdout",
     "output_type": "stream",
     "text": [
      "epoch: 4, [batch: 6583 / 13165], examples_per_second: 1858.9392, train_label_loss: 0.0007, \n"
     ]
    },
    {
     "name": "stdout",
     "output_type": "stream",
     "text": [
      "epoch: 4, [batch: 7899 / 13165], examples_per_second: 1855.1882, train_label_loss: 0.2907, \n"
     ]
    },
    {
     "name": "stdout",
     "output_type": "stream",
     "text": [
      "epoch: 4, [batch: 9215 / 13165], examples_per_second: 1851.3672, train_label_loss: 0.0408, \n"
     ]
    },
    {
     "name": "stdout",
     "output_type": "stream",
     "text": [
      "epoch: 4, [batch: 10532 / 13165], examples_per_second: 1857.7747, train_label_loss: 0.0005, \n"
     ]
    },
    {
     "name": "stdout",
     "output_type": "stream",
     "text": [
      "epoch: 4, [batch: 11848 / 13165], examples_per_second: 1857.5294, train_label_loss: 0.1539, \n"
     ]
    },
    {
     "name": "stdout",
     "output_type": "stream",
     "text": [
      "=============================================================\n",
      "epoch: 4, source_val_acc_label: 0.9853, target_val_acc_label: 0.2402, source_val_label_loss: 0.0654, target_val_label_loss: 2.2991, \n",
      "=============================================================\n"
     ]
    },
    {
     "name": "stdout",
     "output_type": "stream",
     "text": [
      "New best\n"
     ]
    },
    {
     "name": "stdout",
     "output_type": "stream",
     "text": [
      "epoch: 5, [batch: 1 / 13180], examples_per_second: 1.5197, train_label_loss: 0.0012, \n"
     ]
    },
    {
     "name": "stdout",
     "output_type": "stream",
     "text": [
      "epoch: 5, [batch: 1318 / 13180], examples_per_second: 2400.6941, train_label_loss: 0.0005, \n"
     ]
    },
    {
     "name": "stdout",
     "output_type": "stream",
     "text": [
      "epoch: 5, [batch: 2636 / 13180], examples_per_second: 2404.5470, train_label_loss: 0.2292, \n"
     ]
    },
    {
     "name": "stdout",
     "output_type": "stream",
     "text": [
      "epoch: 5, [batch: 3954 / 13180], examples_per_second: 2389.9717, train_label_loss: 0.0000, \n"
     ]
    },
    {
     "name": "stdout",
     "output_type": "stream",
     "text": [
      "epoch: 5, [batch: 5272 / 13180], examples_per_second: 2287.7685, train_label_loss: 0.0001, \n"
     ]
    },
    {
     "name": "stdout",
     "output_type": "stream",
     "text": [
      "epoch: 5, [batch: 6590 / 13180], examples_per_second: 3232.3373, train_label_loss: 0.0001, \n"
     ]
    },
    {
     "name": "stdout",
     "output_type": "stream",
     "text": [
      "epoch: 5, [batch: 7908 / 13180], examples_per_second: 3736.9008, train_label_loss: 0.1421, \n"
     ]
    },
    {
     "name": "stdout",
     "output_type": "stream",
     "text": [
      "epoch: 5, [batch: 9226 / 13180], examples_per_second: 3728.4827, train_label_loss: 0.1266, \n"
     ]
    },
    {
     "name": "stdout",
     "output_type": "stream",
     "text": [
      "epoch: 5, [batch: 10544 / 13180], examples_per_second: 3632.3838, train_label_loss: 0.0000, \n"
     ]
    },
    {
     "name": "stdout",
     "output_type": "stream",
     "text": [
      "epoch: 5, [batch: 11862 / 13180], examples_per_second: 3587.5023, train_label_loss: 0.0105, \n"
     ]
    },
    {
     "name": "stdout",
     "output_type": "stream",
     "text": [
      "=============================================================\n",
      "epoch: 5, source_val_acc_label: 0.9851, target_val_acc_label: 0.2181, source_val_label_loss: 0.0660, target_val_label_loss: 2.4688, \n",
      "=============================================================\n"
     ]
    },
    {
     "name": "stdout",
     "output_type": "stream",
     "text": [
      "epoch: 6, [batch: 1 / 13166], examples_per_second: 1.5440, train_label_loss: 0.0001, \n"
     ]
    },
    {
     "name": "stdout",
     "output_type": "stream",
     "text": [
      "epoch: 6, [batch: 1317 / 13166], examples_per_second: 1724.5551, train_label_loss: 0.0002, \n"
     ]
    },
    {
     "name": "stdout",
     "output_type": "stream",
     "text": [
      "epoch: 6, [batch: 2634 / 13166], examples_per_second: 1728.3051, train_label_loss: 0.0617, \n"
     ]
    },
    {
     "name": "stdout",
     "output_type": "stream",
     "text": [
      "epoch: 6, [batch: 3950 / 13166], examples_per_second: 1721.9943, train_label_loss: 0.0001, \n"
     ]
    },
    {
     "name": "stdout",
     "output_type": "stream",
     "text": [
      "epoch: 6, [batch: 5267 / 13166], examples_per_second: 1718.7339, train_label_loss: 0.0021, \n"
     ]
    },
    {
     "name": "stdout",
     "output_type": "stream",
     "text": [
      "epoch: 6, [batch: 6583 / 13166], examples_per_second: 1726.7089, train_label_loss: 0.0112, \n"
     ]
    },
    {
     "name": "stdout",
     "output_type": "stream",
     "text": [
      "epoch: 6, [batch: 7900 / 13166], examples_per_second: 1726.0521, train_label_loss: 0.2718, \n"
     ]
    },
    {
     "name": "stdout",
     "output_type": "stream",
     "text": [
      "epoch: 6, [batch: 9216 / 13166], examples_per_second: 1721.8729, train_label_loss: 0.0002, \n"
     ]
    },
    {
     "name": "stdout",
     "output_type": "stream",
     "text": [
      "epoch: 6, [batch: 10533 / 13166], examples_per_second: 1726.9570, train_label_loss: 0.0008, \n"
     ]
    },
    {
     "name": "stdout",
     "output_type": "stream",
     "text": [
      "epoch: 6, [batch: 11849 / 13166], examples_per_second: 2149.0845, train_label_loss: 0.0001, \n"
     ]
    },
    {
     "name": "stdout",
     "output_type": "stream",
     "text": [
      "=============================================================\n",
      "epoch: 6, source_val_acc_label: 0.9859, target_val_acc_label: 0.2318, source_val_label_loss: 0.0648, target_val_label_loss: 2.3820, \n",
      "=============================================================\n"
     ]
    },
    {
     "name": "stdout",
     "output_type": "stream",
     "text": [
      "epoch: 7, [batch: 1 / 13148], examples_per_second: 1.5740, train_label_loss: 0.0008, \n"
     ]
    },
    {
     "name": "stdout",
     "output_type": "stream",
     "text": [
      "epoch: 7, [batch: 1315 / 13148], examples_per_second: 1738.1612, train_label_loss: 0.0001, \n"
     ]
    },
    {
     "name": "stdout",
     "output_type": "stream",
     "text": [
      "epoch: 7, [batch: 2630 / 13148], examples_per_second: 1740.4112, train_label_loss: 0.0001, \n"
     ]
    },
    {
     "name": "stdout",
     "output_type": "stream",
     "text": [
      "epoch: 7, [batch: 3945 / 13148], examples_per_second: 1737.8650, train_label_loss: 0.0053, \n"
     ]
    },
    {
     "name": "stdout",
     "output_type": "stream",
     "text": [
      "epoch: 7, [batch: 5259 / 13148], examples_per_second: 1734.3136, train_label_loss: 0.0000, \n"
     ]
    },
    {
     "name": "stdout",
     "output_type": "stream",
     "text": [
      "epoch: 7, [batch: 6574 / 13148], examples_per_second: 1738.7969, train_label_loss: 0.0001, \n"
     ]
    },
    {
     "name": "stdout",
     "output_type": "stream",
     "text": [
      "epoch: 7, [batch: 7889 / 13148], examples_per_second: 1740.5150, train_label_loss: 0.2190, \n"
     ]
    },
    {
     "name": "stdout",
     "output_type": "stream",
     "text": [
      "epoch: 7, [batch: 9203 / 13148], examples_per_second: 1735.1382, train_label_loss: 0.0114, \n"
     ]
    },
    {
     "name": "stdout",
     "output_type": "stream",
     "text": [
      "epoch: 7, [batch: 10518 / 13148], examples_per_second: 1741.3830, train_label_loss: 0.0007, \n"
     ]
    },
    {
     "name": "stdout",
     "output_type": "stream",
     "text": [
      "epoch: 7, [batch: 11833 / 13148], examples_per_second: 2109.6312, train_label_loss: 0.0009, \n"
     ]
    },
    {
     "name": "stdout",
     "output_type": "stream",
     "text": [
      "=============================================================\n",
      "epoch: 7, source_val_acc_label: 0.9855, target_val_acc_label: 0.1792, source_val_label_loss: 0.0697, target_val_label_loss: 3.1541, \n",
      "=============================================================\n"
     ]
    },
    {
     "name": "stdout",
     "output_type": "stream",
     "text": [
      "epoch: 8, [batch: 1 / 13157], examples_per_second: 1.6203, train_label_loss: 0.1299, \n"
     ]
    },
    {
     "name": "stdout",
     "output_type": "stream",
     "text": [
      "epoch: 8, [batch: 1316 / 13157], examples_per_second: 1738.6719, train_label_loss: 0.0000, \n"
     ]
    },
    {
     "name": "stdout",
     "output_type": "stream",
     "text": [
      "epoch: 8, [batch: 2632 / 13157], examples_per_second: 1742.4460, train_label_loss: 0.0126, \n"
     ]
    },
    {
     "name": "stdout",
     "output_type": "stream",
     "text": [
      "epoch: 8, [batch: 3947 / 13157], examples_per_second: 1738.5196, train_label_loss: 0.0002, \n"
     ]
    },
    {
     "name": "stdout",
     "output_type": "stream",
     "text": [
      "epoch: 8, [batch: 5263 / 13157], examples_per_second: 1734.5389, train_label_loss: 0.1550, \n"
     ]
    },
    {
     "name": "stdout",
     "output_type": "stream",
     "text": [
      "epoch: 8, [batch: 6579 / 13157], examples_per_second: 1740.1328, train_label_loss: 0.0006, \n"
     ]
    },
    {
     "name": "stdout",
     "output_type": "stream",
     "text": [
      "epoch: 8, [batch: 7894 / 13157], examples_per_second: 1739.0946, train_label_loss: 0.0002, \n"
     ]
    },
    {
     "name": "stdout",
     "output_type": "stream",
     "text": [
      "epoch: 8, [batch: 9210 / 13157], examples_per_second: 1735.1418, train_label_loss: 0.0000, \n"
     ]
    },
    {
     "name": "stdout",
     "output_type": "stream",
     "text": [
      "epoch: 8, [batch: 10525 / 13157], examples_per_second: 1741.4847, train_label_loss: 0.0001, \n"
     ]
    },
    {
     "name": "stdout",
     "output_type": "stream",
     "text": [
      "epoch: 8, [batch: 11841 / 13157], examples_per_second: 2020.6746, train_label_loss: 0.0032, \n"
     ]
    },
    {
     "name": "stdout",
     "output_type": "stream",
     "text": [
      "=============================================================\n",
      "epoch: 8, source_val_acc_label: 0.9854, target_val_acc_label: 0.2211, source_val_label_loss: 0.0708, target_val_label_loss: 2.6739, \n",
      "=============================================================\n"
     ]
    },
    {
     "name": "stdout",
     "output_type": "stream",
     "text": [
      "Patience (3) exhausted\n"
     ]
    }
   ],
   "source": [
    "###################################\n",
    "# train\n",
    "###################################\n",
    "jig = PTN_Train_Eval_Test_Jig(model, p.BEST_MODEL_PATH, p.device)\n",
    "\n",
    "jig.train(\n",
    "    train_iterable=datasets.source.processed.train,\n",
    "    source_val_iterable=datasets.source.processed.val,\n",
    "    target_val_iterable=datasets.target.processed.val,\n",
    "    num_epochs=p.n_epoch,\n",
    "    num_logs_per_epoch=p.NUM_LOGS_PER_EPOCH,\n",
    "    patience=p.patience,\n",
    "    optimizer=optimizer,\n",
    "    criteria_for_best=p.criteria_for_best,\n",
    ")"
   ]
  },
  {
   "cell_type": "code",
   "execution_count": 23,
   "id": "31e8fabf",
   "metadata": {
    "execution": {
     "iopub.execute_input": "2022-03-20T06:30:28.384362Z",
     "iopub.status.busy": "2022-03-20T06:30:28.384093Z",
     "iopub.status.idle": "2022-03-20T06:30:28.403002Z",
     "shell.execute_reply": "2022-03-20T06:30:28.402537Z"
    },
    "papermill": {
     "duration": 0.053982,
     "end_time": "2022-03-20T06:30:28.403111",
     "exception": false,
     "start_time": "2022-03-20T06:30:28.349129",
     "status": "completed"
    },
    "tags": []
   },
   "outputs": [],
   "source": [
    "total_experiment_time_secs = time.time() - start_time_secs"
   ]
  },
  {
   "cell_type": "code",
   "execution_count": 24,
   "id": "87b9595b",
   "metadata": {
    "execution": {
     "iopub.execute_input": "2022-03-20T06:30:28.478811Z",
     "iopub.status.busy": "2022-03-20T06:30:28.478164Z",
     "iopub.status.idle": "2022-03-20T06:34:19.924896Z",
     "shell.execute_reply": "2022-03-20T06:34:19.925338Z"
    },
    "papermill": {
     "duration": 231.484034,
     "end_time": "2022-03-20T06:34:19.925478",
     "exception": false,
     "start_time": "2022-03-20T06:30:28.441444",
     "status": "completed"
    },
    "tags": []
   },
   "outputs": [],
   "source": [
    "###################################\n",
    "# Evaluate the model\n",
    "###################################\n",
    "source_test_label_accuracy, source_test_label_loss = jig.test(datasets.source.processed.test)\n",
    "target_test_label_accuracy, target_test_label_loss = jig.test(datasets.target.processed.test)\n",
    "\n",
    "source_val_label_accuracy, source_val_label_loss = jig.test(datasets.source.processed.val)\n",
    "target_val_label_accuracy, target_val_label_loss = jig.test(datasets.target.processed.val)\n",
    "\n",
    "history = jig.get_history()\n",
    "\n",
    "total_epochs_trained = len(history[\"epoch_indices\"])\n",
    "\n",
    "val_dl = Iterable_Aggregator((datasets.source.original.val,datasets.target.original.val))\n",
    "\n",
    "confusion = ptn_confusion_by_domain_over_dataloader(model, p.device, val_dl)\n",
    "per_domain_accuracy = per_domain_accuracy_from_confusion(confusion)\n",
    "\n",
    "# Add a key to per_domain_accuracy for if it was a source domain\n",
    "for domain, accuracy in per_domain_accuracy.items():\n",
    "    per_domain_accuracy[domain] = {\n",
    "        \"accuracy\": accuracy,\n",
    "        \"source?\": domain in p.domains_source\n",
    "    }\n",
    "\n",
    "# Do an independent accuracy assesment JUST TO BE SURE!\n",
    "# _source_test_label_accuracy = independent_accuracy_assesment(model, datasets.source.processed.test, p.device)\n",
    "# _target_test_label_accuracy = independent_accuracy_assesment(model, datasets.target.processed.test, p.device)\n",
    "# _source_val_label_accuracy = independent_accuracy_assesment(model, datasets.source.processed.val, p.device)\n",
    "# _target_val_label_accuracy = independent_accuracy_assesment(model, datasets.target.processed.val, p.device)\n",
    "\n",
    "# assert(_source_test_label_accuracy == source_test_label_accuracy)\n",
    "# assert(_target_test_label_accuracy == target_test_label_accuracy)\n",
    "# assert(_source_val_label_accuracy == source_val_label_accuracy)\n",
    "# assert(_target_val_label_accuracy == target_val_label_accuracy)\n",
    "\n",
    "experiment = {\n",
    "    \"experiment_name\": p.experiment_name,\n",
    "    \"parameters\": dict(p),\n",
    "    \"results\": {\n",
    "        \"source_test_label_accuracy\": source_test_label_accuracy,\n",
    "        \"source_test_label_loss\": source_test_label_loss,\n",
    "        \"target_test_label_accuracy\": target_test_label_accuracy,\n",
    "        \"target_test_label_loss\": target_test_label_loss,\n",
    "        \"source_val_label_accuracy\": source_val_label_accuracy,\n",
    "        \"source_val_label_loss\": source_val_label_loss,\n",
    "        \"target_val_label_accuracy\": target_val_label_accuracy,\n",
    "        \"target_val_label_loss\": target_val_label_loss,\n",
    "        \"total_epochs_trained\": total_epochs_trained,\n",
    "        \"total_experiment_time_secs\": total_experiment_time_secs,\n",
    "        \"confusion\": confusion,\n",
    "        \"per_domain_accuracy\": per_domain_accuracy,\n",
    "    },\n",
    "    \"history\": history,\n",
    "    \"dataset_metrics\": get_dataset_metrics(datasets, \"ptn\"),\n",
    "}"
   ]
  },
  {
   "cell_type": "code",
   "execution_count": 25,
   "id": "54a21829",
   "metadata": {
    "execution": {
     "iopub.execute_input": "2022-03-20T06:34:19.999286Z",
     "iopub.status.busy": "2022-03-20T06:34:19.998994Z",
     "iopub.status.idle": "2022-03-20T06:34:20.125258Z",
     "shell.execute_reply": "2022-03-20T06:34:20.125683Z"
    },
    "papermill": {
     "duration": 0.162005,
     "end_time": "2022-03-20T06:34:20.125818",
     "exception": false,
     "start_time": "2022-03-20T06:34:19.963813",
     "status": "completed"
    },
    "tags": []
   },
   "outputs": [
    {
     "data": {
      "image/png": "[encoded data removed]",
      "text/plain": [
       "<Figure size 1080x504 with 1 Axes>"
      ]
     },
     "metadata": {
      "needs_background": "light"
     },
     "output_type": "display_data"
    }
   ],
   "source": [
    "ax = get_loss_curve(experiment)\n",
    "plt.show()"
   ]
  },
  {
   "cell_type": "code",
   "execution_count": 26,
   "id": "fd8a0f60",
   "metadata": {
    "execution": {
     "iopub.execute_input": "2022-03-20T06:34:20.198810Z",
     "iopub.status.busy": "2022-03-20T06:34:20.198539Z",
     "iopub.status.idle": "2022-03-20T06:34:20.341462Z",
     "shell.execute_reply": "2022-03-20T06:34:20.342011Z"
    },
    "papermill": {
     "duration": 0.179492,
     "end_time": "2022-03-20T06:34:20.342161",
     "exception": false,
     "start_time": "2022-03-20T06:34:20.162669",
     "status": "completed"
    },
    "tags": []
   },
   "outputs": [
    {
     "data": {
      "text/plain": [
       "<AxesSubplot:title={'center':'Results'}>"
      ]
     },
     "execution_count": 26,
     "metadata": {},
     "output_type": "execute_result"
    },
    {
     "data": {
      "image/png": "[encoded data removed]",
      "text/plain": [
       "<Figure size 1080x504 with 1 Axes>"
      ]
     },
     "metadata": {
      "needs_background": "light"
     },
     "output_type": "display_data"
    }
   ],
   "source": [
    "get_results_table(experiment)"
   ]
  },
  {
   "cell_type": "code",
   "execution_count": 27,
   "id": "cf8dc689",
   "metadata": {
    "execution": {
     "iopub.execute_input": "2022-03-20T06:34:20.454534Z",
     "iopub.status.busy": "2022-03-20T06:34:20.454248Z",
     "iopub.status.idle": "2022-03-20T06:34:20.608979Z",
     "shell.execute_reply": "2022-03-20T06:34:20.608508Z"
    },
    "papermill": {
     "duration": 0.192824,
     "end_time": "2022-03-20T06:34:20.609091",
     "exception": false,
     "start_time": "2022-03-20T06:34:20.416267",
     "status": "completed"
    },
    "tags": []
   },
   "outputs": [
    {
     "data": {
      "text/plain": [
       "<AxesSubplot:title={'center':'Per Domain Validation Accuracy'}, xlabel='domain'>"
      ]
     },
     "execution_count": 27,
     "metadata": {},
     "output_type": "execute_result"
    },
    {
     "data": {
      "image/png": "[encoded data removed]",
      "text/plain": [
       "<Figure size 1080x504 with 1 Axes>"
      ]
     },
     "metadata": {
      "needs_background": "light"
     },
     "output_type": "display_data"
    }
   ],
   "source": [
    "get_domain_accuracies(experiment)"
   ]
  },
  {
   "cell_type": "code",
   "execution_count": 28,
   "id": "a74ae082",
   "metadata": {
    "execution": {
     "iopub.execute_input": "2022-03-20T06:34:20.698990Z",
     "iopub.status.busy": "2022-03-20T06:34:20.698698Z",
     "iopub.status.idle": "2022-03-20T06:34:20.714759Z",
     "shell.execute_reply": "2022-03-20T06:34:20.715301Z"
    },
    "papermill": {
     "duration": 0.06329,
     "end_time": "2022-03-20T06:34:20.715457",
     "exception": false,
     "start_time": "2022-03-20T06:34:20.652167",
     "status": "completed"
    },
    "tags": []
   },
   "outputs": [
    {
     "name": "stdout",
     "output_type": "stream",
     "text": [
      "Source Test Label Accuracy: 0.986122311827957 Target Test Label Accuracy: 0.24039713541666666\n",
      "Source Val Label Accuracy: 0.9852506868131868 Target Val Label Accuracy: 0.24016927083333334\n"
     ]
    }
   ],
   "source": [
    "print(\"Source Test Label Accuracy:\", experiment[\"results\"][\"source_test_label_accuracy\"], \"Target Test Label Accuracy:\", experiment[\"results\"][\"target_test_label_accuracy\"])\n",
    "print(\"Source Val Label Accuracy:\", experiment[\"results\"][\"source_val_label_accuracy\"], \"Target Val Label Accuracy:\", experiment[\"results\"][\"target_val_label_accuracy\"])"
   ]
  },
  {
   "cell_type": "code",
   "execution_count": 29,
   "id": "dacca602",
   "metadata": {
    "execution": {
     "iopub.execute_input": "2022-03-20T06:34:20.800274Z",
     "iopub.status.busy": "2022-03-20T06:34:20.799996Z",
     "iopub.status.idle": "2022-03-20T06:34:20.814218Z",
     "shell.execute_reply": "2022-03-20T06:34:20.814547Z"
    },
    "papermill": {
     "duration": 0.057642,
     "end_time": "2022-03-20T06:34:20.814657",
     "exception": false,
     "start_time": "2022-03-20T06:34:20.757015",
     "status": "completed"
    },
    "tags": [
     "experiment_json"
    ]
   },
   "outputs": [
    {
     "data": {
      "text/plain": [
       "'{\"experiment_name\": \"tl_3Av2:cores+wisig -> oracle.run1.framed\", \"parameters\": {\"experiment_name\": \"tl_3Av2:cores+wisig -> oracle.run1.framed\", \"device\": \"cuda\", \"lr\": 0.0001, \"x_shape\": [2, 200], \"n_shot\": 3, \"n_query\": 2, \"train_k_factor\": 3, \"val_k_factor\": 2, \"test_k_factor\": 2, \"torch_default_dtype\": \"torch.float32\", \"n_epoch\": 50, \"patience\": 3, \"criteria_for_best\": \"target_accuracy\", \"x_net\": [{\"class\": \"nnReshape\", \"kargs\": {\"shape\": [-1, 1, 2, 200]}}, {\"class\": \"Conv2d\", \"kargs\": {\"in_channels\": 1, \"out_channels\": 256, \"kernel_size\": [1, 7], \"bias\": false, \"padding\": [0, 3]}}, {\"class\": \"ReLU\", \"kargs\": {\"inplace\": true}}, {\"class\": \"BatchNorm2d\", \"kargs\": {\"num_features\": 256}}, {\"class\": \"Conv2d\", \"kargs\": {\"in_channels\": 256, \"out_channels\": 80, \"kernel_size\": [2, 7], \"bias\": true, \"padding\": [0, 3]}}, {\"class\": \"ReLU\", \"kargs\": {\"inplace\": true}}, {\"class\": \"BatchNorm2d\", \"kargs\": {\"num_features\": 80}}, {\"class\": \"Flatten\", \"kargs\": {}}, {\"class\": \"Linear\", \"kargs\": {\"in_features\": 16000, \"out_features\": 256}}, {\"class\": \"ReLU\", \"kargs\": {\"inplace\": true}}, {\"class\": \"BatchNorm1d\", \"kargs\": {\"num_features\": 256}}, {\"class\": \"Linear\", \"kargs\": {\"in_features\": 256, \"out_features\": 256}}], \"NUM_LOGS_PER_EPOCH\": 10, \"BEST_MODEL_PATH\": \"./best_model.pth\", \"n_way\": 16, \"datasets\": [{\"labels\": [\"1-10.\", \"1-11.\", \"1-15.\", \"1-16.\", \"1-17.\", \"1-18.\", \"1-19.\", \"10-4.\", \"10-7.\", \"11-1.\", \"11-14.\", \"11-17.\", \"11-20.\", \"11-7.\", \"13-20.\", \"13-8.\", \"14-10.\", \"14-11.\", \"14-14.\", \"14-7.\", \"15-1.\", \"15-20.\", \"16-1.\", \"16-16.\", \"17-10.\", \"17-11.\", \"17-2.\", \"19-1.\", \"19-16.\", \"19-19.\", \"19-20.\", \"19-3.\", \"2-10.\", \"2-11.\", \"2-17.\", \"2-18.\", \"2-20.\", \"2-3.\", \"2-4.\", \"2-5.\", \"2-6.\", \"2-7.\", \"2-8.\", \"3-13.\", \"3-18.\", \"3-3.\", \"4-1.\", \"4-10.\", \"4-11.\", \"4-19.\", \"5-5.\", \"6-15.\", \"7-10.\", \"7-14.\", \"8-18.\", \"8-20.\", \"8-3.\", \"8-8.\"], \"domains\": [1, 2, 3, 4, 5], \"num_examples_per_domain_per_label\": -1, \"pickle_path\": \"/mnt/wd500GB/CSC500/csc500-main/datasets/cores.stratified_ds.2022A.pkl\", \"source_or_target_dataset\": \"source\", \"x_transforms\": [\"unit_power\", \"take_200\"], \"episode_transforms\": [], \"domain_prefix\": \"C_\"}, {\"labels\": [\"1-10\", \"1-12\", \"1-14\", \"1-16\", \"1-18\", \"1-19\", \"1-8\", \"10-11\", \"10-17\", \"10-4\", \"10-7\", \"11-1\", \"11-10\", \"11-19\", \"11-20\", \"11-4\", \"11-7\", \"12-19\", \"12-20\", \"12-7\", \"13-14\", \"13-18\", \"13-19\", \"13-20\", \"13-3\", \"13-7\", \"14-10\", \"14-11\", \"14-12\", \"14-13\", \"14-14\", \"14-19\", \"14-20\", \"14-7\", \"14-8\", \"14-9\", \"15-1\", \"15-19\", \"15-6\", \"16-1\", \"16-16\", \"16-19\", \"16-20\", \"17-10\", \"17-11\", \"18-1\", \"18-10\", \"18-11\", \"18-12\", \"18-13\", \"18-14\", \"18-15\", \"18-16\", \"18-17\", \"18-19\", \"18-2\", \"18-20\", \"18-4\", \"18-5\", \"18-7\", \"18-8\", \"18-9\", \"19-1\", \"19-10\", \"19-11\", \"19-12\", \"19-13\", \"19-14\", \"19-15\", \"19-19\", \"19-2\", \"19-20\", \"19-3\", \"19-4\", \"19-6\", \"19-7\", \"19-8\", \"19-9\", \"2-1\", \"2-13\", \"2-15\", \"2-3\", \"2-4\", \"2-5\", \"2-6\", \"2-7\", \"2-8\", \"20-1\", \"20-12\", \"20-14\", \"20-15\", \"20-16\", \"20-18\", \"20-19\", \"20-20\", \"20-3\", \"20-4\", \"20-5\", \"20-7\", \"20-8\", \"3-1\", \"3-13\", \"3-18\", \"3-2\", \"3-8\", \"4-1\", \"4-10\", \"4-11\", \"5-1\", \"5-5\", \"6-1\", \"6-15\", \"6-6\", \"7-10\", \"7-11\", \"7-12\", \"7-13\", \"7-14\", \"7-7\", \"7-8\", \"7-9\", \"8-1\", \"8-13\", \"8-14\", \"8-18\", \"8-20\", \"8-3\", \"8-8\", \"9-1\", \"9-7\"], \"domains\": [1, 2, 3, 4], \"num_examples_per_domain_per_label\": -1, \"pickle_path\": \"/mnt/wd500GB/CSC500/csc500-main/datasets/wisig.node3-19.stratified_ds.2022A.pkl\", \"source_or_target_dataset\": \"source\", \"x_transforms\": [\"unit_power\", \"take_200\"], \"episode_transforms\": [], \"domain_prefix\": \"W_\"}, {\"labels\": [\"3123D52\", \"3123D65\", \"3123D79\", \"3123D80\", \"3123D54\", \"3123D70\", \"3123D7B\", \"3123D89\", \"3123D58\", \"3123D76\", \"3123D7D\", \"3123EFE\", \"3123D64\", \"3123D78\", \"3123D7E\", \"3124E4A\"], \"domains\": [32, 38, 8, 44, 14, 50, 20, 26], \"num_examples_per_domain_per_label\": 2000, \"pickle_path\": \"/mnt/wd500GB/CSC500/csc500-main/datasets/oracle.Run1_framed_2000Examples_stratified_ds.2022A.pkl\", \"source_or_target_dataset\": \"target\", \"x_transforms\": [\"unit_power\", \"take_200\", \"resample_20Msps_to_25Msps\"], \"episode_transforms\": [], \"domain_prefix\": \"O_\"}], \"seed\": 1337, \"dataset_seed\": 1337, \"domains_source\": [\"C_1\", \"C_2\", \"C_3\", \"C_4\", \"C_5\", \"W_1\", \"W_2\", \"W_3\", \"W_4\"], \"domains_target\": [\"O_32\", \"O_38\", \"O_8\", \"O_44\", \"O_14\", \"O_50\", \"O_20\", \"O_26\"]}, \"results\": {\"source_test_label_accuracy\": 0.986122311827957, \"source_test_label_loss\": 0.05956096574664116, \"target_test_label_accuracy\": 0.24039713541666666, \"target_test_label_loss\": 2.291011333465576, \"source_val_label_accuracy\": 0.9852506868131868, \"source_val_label_loss\": 0.06544221937656403, \"target_val_label_accuracy\": 0.24016927083333334, \"target_val_label_loss\": 2.299107789993286, \"total_epochs_trained\": 8, \"total_experiment_time_secs\": 4811.704767227173, \"confusion\": {\"C_3\": {\"43\": {\"43\": 128}, \"9\": {\"9\": 150}, \"6\": {\"6\": 88}, \"3\": {\"3\": 144}, \"16\": {\"16\": 134}, \"51\": {\"51\": 128}, \"31\": {\"31\": 28}, \"46\": {\"46\": 134}, \"19\": {\"19\": 124}, \"8\": {\"8\": 152}, \"18\": {\"18\": 84}, \"37\": {\"37\": 28}, \"24\": {\"24\": 104}, \"10\": {\"10\": 64}, \"44\": {\"44\": 87, \"54\": 1}, \"14\": {\"14\": 39, \"42\": 1}, \"38\": {\"38\": 28}, \"53\": {\"53\": 140}, \"20\": {\"20\": 132}, \"32\": {\"32\": 28}, \"36\": {\"36\": 100}, \"33\": {\"33\": 28}, \"56\": {\"56\": 136}, \"23\": {\"23\": 130}, \"54\": {\"54\": 100}, \"21\": {\"21\": 126}, \"28\": {\"28\": 28}, \"26\": {\"26\": 24}, \"48\": {\"48\": 116}, \"52\": {\"52\": 118}, \"39\": {\"39\": 16}, \"22\": {\"22\": 140}, \"13\": {\"13\": 128}, \"2\": {\"2\": 32}, \"34\": {\"34\": 32}, \"27\": {\"27\": 132}, \"45\": {\"45\": 60}, \"35\": {\"35\": 28}, \"29\": {\"29\": 128}, \"25\": {\"25\": 144}, \"0\": {\"0\": 124}, \"41\": {\"41\": 28}, \"11\": {\"11\": 142}, \"5\": {\"5\": 108}, \"1\": {\"1\": 100}, \"57\": {\"57\": 116}, \"17\": {\"17\": 106, \"50\": 1, \"52\": 1}, \"7\": {\"7\": 36}, \"12\": {\"12\": 92}, \"47\": {\"47\": 92}, \"40\": {\"40\": 136}, \"15\": {\"15\": 141, \"11\": 1}, \"42\": {\"42\": 28}, \"55\": {\"55\": 149, \"5\": 1}, \"49\": {\"49\": 20}, \"30\": {\"30\": 118, \"3\": 2}, \"50\": {\"50\": 134}, \"4\": {\"4\": 136}}, \"W_3\": {\"109\": {\"109\": 127, \"18\": 1}, \"127\": {\"127\": 126, \"39\": 1, \"69\": 1}, \"14\": {\"14\": 80}, \"7\": {\"7\": 111, \"111\": 1}, \"129\": {\"129\": 32}, \"57\": {\"57\": 20}, \"84\": {\"84\": 108}, \"114\": {\"114\": 121, \"29\": 1, \"28\": 1, \"127\": 1}, \"44\": {\"44\": 71, \"113\": 1}, \"21\": {\"21\": 46, \"101\": 1, \"73\": 1}, \"46\": {\"46\": 16}, \"100\": {\"100\": 16}, \"63\": {\"63\": 15, \"122\": 1}, \"24\": {\"24\": 46, \"116\": 1, \"27\": 1}, \"107\": {\"107\": 117, \"90\": 1}, \"35\": {\"35\": 11, \"69\": 1}, \"81\": {\"81\": 32}, \"64\": {\"64\": 20}, \"59\": {\"59\": 12}, \"33\": {\"33\": 112, \"114\": 1, \"43\": 1}, \"34\": {\"34\": 31, \"28\": 1}, \"36\": {\"36\": 117, \"27\": 1, \"98\": 1, \"124\": 1}, \"79\": {\"79\": 12}, \"80\": {\"80\": 16}, \"77\": {\"77\": 15, \"81\": 1}, \"22\": {\"22\": 16}, \"124\": {\"124\": 122, \"110\": 1, \"32\": 1}, \"2\": {\"2\": 27, \"93\": 1}, \"87\": {\"87\": 111, \"69\": 1}, \"105\": {\"105\": 122}, \"95\": {\"95\": 32}, \"43\": {\"43\": 49, \"27\": 2, \"82\": 1, \"122\": 2, \"69\": 1, \"78\": 1}, \"56\": {\"56\": 12}, \"18\": {\"18\": 121, \"30\": 1, \"21\": 1, \"87\": 1}, \"85\": {\"85\": 36}, \"113\": {\"113\": 119, \"127\": 1}, \"97\": {\"97\": 17, \"5\": 1, \"15\": 1, \"13\": 1}, \"86\": {\"86\": 26, \"24\": 1, \"55\": 1}, \"128\": {\"128\": 31, \"122\": 1}, \"123\": {\"123\": 16}, \"8\": {\"8\": 130}, \"110\": {\"110\": 83, \"17\": 1, \"63\": 1, \"70\": 1, \"8\": 1, \"101\": 1, \"69\": 1, \"87\": 1}, \"126\": {\"18\": 1, \"126\": 100, \"111\": 1, \"5\": 1, \"110\": 1}, \"42\": {\"42\": 26, \"112\": 2}, \"96\": {\"96\": 20}, \"83\": {\"83\": 24}, \"54\": {\"54\": 16}, \"65\": {\"65\": 12}, \"30\": {\"30\": 81, \"36\": 1, \"69\": 1, \"24\": 1}, \"121\": {\"121\": 27, \"122\": 1, \"43\": 1, \"85\": 1, \"127\": 1, \"84\": 1}, \"68\": {\"68\": 15, \"9\": 1}, \"45\": {\"45\": 15, \"63\": 1}, \"48\": {\"48\": 16}, \"4\": {\"4\": 94, \"26\": 1, \"87\": 1}, \"67\": {\"67\": 16}, \"103\": {\"103\": 15, \"31\": 1}, \"74\": {\"74\": 16}, \"1\": {\"1\": 106, \"40\": 2}, \"61\": {\"61\": 16}, \"101\": {\"101\": 48, \"9\": 1, \"23\": 1, \"127\": 1, \"25\": 1}, \"93\": {\"93\": 138}, \"26\": {\"26\": 130}, \"71\": {\"71\": 66, \"113\": 1, \"18\": 1}, \"15\": {\"15\": 102, \"40\": 2}, \"55\": {\"55\": 16}, \"104\": {\"104\": 16}, \"112\": {\"112\": 15, \"40\": 1}, \"102\": {\"102\": 122}, \"117\": {\"117\": 112}, \"119\": {\"119\": 16}, \"20\": {\"20\": 15, \"68\": 1}, \"120\": {\"120\": 20}, \"39\": {\"39\": 101, \"18\": 1, \"127\": 3, \"13\": 1, \"70\": 1, \"24\": 1}, \"49\": {\"49\": 24}, \"53\": {\"53\": 20}, \"92\": {\"92\": 31, \"39\": 1}, \"3\": {\"3\": 116}, \"47\": {\"47\": 12}, \"115\": {\"115\": 16}, \"58\": {\"58\": 16}, \"29\": {\"29\": 32}, \"12\": {\"12\": 104}, \"62\": {\"62\": 116, \"5\": 1, \"87\": 1}, \"11\": {\"11\": 140}, \"72\": {\"72\": 28}, \"98\": {\"98\": 106}, \"122\": {\"122\": 57, \"24\": 1, \"110\": 1, \"21\": 1}, \"17\": {\"122\": 1, \"17\": 12, \"26\": 1, \"68\": 1, \"43\": 1}, \"94\": {\"94\": 84}, \"106\": {\"106\": 88, \"94\": 1, \"114\": 1}, \"28\": {\"28\": 16}, \"69\": {\"69\": 80, \"127\": 1, \"87\": 1, \"117\": 1, \"110\": 1}, \"125\": {\"125\": 111, \"70\": 1, \"124\": 1, \"110\": 1}, \"19\": {\"19\": 32}, \"41\": {\"41\": 16}, \"60\": {\"60\": 28}, \"70\": {\"70\": 66, \"84\": 1, \"112\": 1, \"18\": 2, \"92\": 1, \"27\": 1}, \"27\": {\"27\": 93, \"69\": 1, \"40\": 1, \"24\": 1}, \"10\": {\"10\": 116, \"39\": 1, \"113\": 1}, \"108\": {\"108\": 137, \"27\": 1, \"88\": 1, \"110\": 1}, \"9\": {\"9\": 32}, \"25\": {\"25\": 15, \"39\": 1}, \"37\": {\"37\": 15, \"73\": 1}, \"0\": {\"101\": 2, \"0\": 113, \"10\": 1}, \"66\": {\"66\": 16}, \"51\": {\"51\": 16}, \"76\": {\"76\": 16}, \"32\": {\"32\": 30, \"49\": 1, \"11\": 1}, \"88\": {\"88\": 107, \"69\": 1, \"108\": 1, \"29\": 1, \"84\": 1, \"36\": 1}, \"31\": {\"31\": 20}, \"91\": {\"91\": 22, \"103\": 1, \"4\": 1}, \"90\": {\"90\": 125, \"124\": 1}, \"13\": {\"13\": 14, \"43\": 1, \"3\": 1}, \"50\": {\"50\": 16}, \"78\": {\"78\": 16}, \"116\": {\"116\": 27, \"16\": 1}, \"5\": {\"5\": 110, \"40\": 1, \"24\": 1}, \"75\": {\"75\": 16}, \"89\": {\"89\": 27, \"69\": 1}, \"16\": {\"16\": 114, \"3\": 1, \"93\": 1}, \"38\": {\"38\": 15, \"94\": 1}, \"118\": {\"118\": 97, \"24\": 1, \"87\": 1, \"127\": 1}, \"99\": {\"99\": 35, \"36\": 1}, \"52\": {\"52\": 16}, \"111\": {\"111\": 128}, \"23\": {\"23\": 30, \"99\": 1, \"73\": 1}, \"73\": {\"73\": 39, \"30\": 1}, \"82\": {\"82\": 26, \"9\": 1, \"40\": 1}, \"40\": {\"40\": 127, \"5\": 1}, \"6\": {\"6\": 32}}, \"C_4\": {\"35\": {\"35\": 40}, \"25\": {\"25\": 134}, \"24\": {\"24\": 56}, \"48\": {\"48\": 138}, \"51\": {\"51\": 144}, \"13\": {\"13\": 120}, \"14\": {\"14\": 16}, \"32\": {\"32\": 24}, \"30\": {\"30\": 44}, \"34\": {\"34\": 24}, \"9\": {\"9\": 136}, \"1\": {\"1\": 40}, \"0\": {\"0\": 80}, \"38\": {\"38\": 40}, \"22\": {\"22\": 128}, \"40\": {\"40\": 120}, \"6\": {\"6\": 112}, \"16\": {\"16\": 96}, \"11\": {\"11\": 104}, \"20\": {\"20\": 122}, \"17\": {\"17\": 80}, \"26\": {\"26\": 24}, \"54\": {\"54\": 108}, \"55\": {\"55\": 154}, \"50\": {\"50\": 129, \"3\": 1, \"6\": 1, \"22\": 1}, \"19\": {\"19\": 142}, \"44\": {\"44\": 122}, \"47\": {\"47\": 120}, \"33\": {\"33\": 36}, \"5\": {\"5\": 108}, \"18\": {\"18\": 108}, \"21\": {\"21\": 124}, \"41\": {\"41\": 36}, \"23\": {\"23\": 128}, \"39\": {\"39\": 20}, \"37\": {\"37\": 24}, \"8\": {\"8\": 144}, \"49\": {\"49\": 20}, \"53\": {\"53\": 140}, \"31\": {\"31\": 28}, \"28\": {\"28\": 32}, \"3\": {\"3\": 124}, \"27\": {\"27\": 138}, \"46\": {\"46\": 127, \"22\": 1}, \"12\": {\"12\": 92}, \"7\": {\"7\": 24}, \"4\": {\"4\": 132}, \"42\": {\"42\": 32}, \"43\": {\"43\": 130}, \"29\": {\"29\": 120}, \"57\": {\"57\": 100}, \"52\": {\"52\": 104}, \"45\": {\"45\": 96}, \"36\": {\"36\": 92}, \"10\": {\"10\": 126}, \"15\": {\"15\": 134}, \"56\": {\"56\": 124}, \"2\": {\"2\": 36}}, \"C_5\": {\"47\": {\"47\": 100}, \"53\": {\"53\": 150}, \"29\": {\"29\": 126}, \"52\": {\"52\": 130}, \"55\": {\"55\": 144}, \"17\": {\"17\": 116}, \"42\": {\"42\": 40}, \"33\": {\"33\": 32}, \"11\": {\"11\": 148}, \"19\": {\"19\": 118}, \"1\": {\"1\": 144}, \"44\": {\"44\": 142}, \"49\": {\"49\": 36}, \"4\": {\"4\": 100}, \"6\": {\"6\": 116}, \"39\": {\"39\": 20}, \"50\": {\"50\": 148}, \"56\": {\"56\": 130}, \"25\": {\"25\": 144}, \"28\": {\"28\": 32}, \"35\": {\"35\": 36}, \"24\": {\"24\": 80}, \"21\": {\"21\": 132}, \"45\": {\"45\": 124}, \"16\": {\"16\": 144}, \"37\": {\"37\": 24}, \"57\": {\"57\": 132}, \"34\": {\"34\": 36}, \"38\": {\"38\": 32}, \"48\": {\"48\": 130}, \"26\": {\"26\": 24}, \"9\": {\"9\": 152}, \"18\": {\"18\": 64}, \"3\": {\"3\": 100}, \"23\": {\"23\": 124}, \"15\": {\"15\": 154}, \"10\": {\"10\": 68}, \"46\": {\"46\": 148}, \"22\": {\"22\": 28}, \"54\": {\"54\": 112}, \"27\": {\"27\": 160}, \"41\": {\"41\": 28}, \"31\": {\"31\": 36}, \"0\": {\"0\": 124}, \"7\": {\"7\": 32}, \"2\": {\"2\": 28}, \"14\": {\"14\": 44}, \"40\": {\"40\": 124}, \"5\": {\"5\": 128}, \"12\": {\"12\": 96}, \"43\": {\"43\": 142}, \"13\": {\"13\": 148}, \"36\": {\"36\": 92}, \"8\": {\"8\": 150}, \"32\": {\"32\": 32}, \"30\": {\"30\": 128}, \"51\": {\"51\": 138}, \"20\": {\"20\": 138}}, \"C_1\": {\"46\": {\"46\": 140}, \"16\": {\"16\": 134}, \"26\": {\"26\": 24}, \"10\": {\"10\": 96}, \"9\": {\"9\": 156}, \"28\": {\"28\": 28}, \"51\": {\"51\": 156}, \"1\": {\"1\": 100}, \"55\": {\"55\": 148}, \"27\": {\"27\": 124}, \"22\": {\"22\": 124}, \"52\": {\"52\": 126}, \"3\": {\"3\": 140}, \"33\": {\"33\": 32}, \"47\": {\"47\": 120}, \"42\": {\"42\": 40}, \"12\": {\"12\": 116}, \"23\": {\"23\": 132}, \"49\": {\"49\": 32}, \"7\": {\"7\": 28}, \"4\": {\"4\": 132}, \"50\": {\"50\": 134}, \"19\": {\"19\": 154}, \"11\": {\"11\": 140}, \"31\": {\"31\": 28}, \"41\": {\"41\": 24}, \"56\": {\"56\": 138}, \"0\": {\"0\": 148}, \"57\": {\"57\": 128}, \"53\": {\"53\": 140}, \"43\": {\"43\": 144}, \"37\": {\"37\": 32}, \"2\": {\"2\": 36}, \"6\": {\"6\": 96}, \"13\": {\"13\": 150}, \"18\": {\"18\": 72}, \"36\": {\"36\": 64}, \"29\": {\"29\": 140}, \"39\": {\"39\": 28}, \"17\": {\"17\": 64}, \"21\": {\"21\": 124}, \"25\": {\"25\": 132}, \"45\": {\"45\": 142}, \"38\": {\"38\": 24}, \"30\": {\"30\": 120}, \"24\": {\"24\": 108}, \"20\": {\"20\": 140}, \"8\": {\"8\": 140}, \"35\": {\"35\": 36}, \"54\": {\"54\": 104}, \"5\": {\"5\": 148}, \"48\": {\"48\": 144}, \"15\": {\"15\": 142}, \"34\": {\"34\": 24}, \"14\": {\"14\": 24}, \"32\": {\"32\": 32}, \"40\": {\"40\": 148}, \"44\": {\"44\": 136}}, \"W_4\": {\"28\": {\"28\": 20}, \"4\": {\"4\": 101, \"3\": 1, \"27\": 1, \"5\": 1}, \"72\": {\"72\": 30, \"115\": 1, \"27\": 1}, \"111\": {\"111\": 132, \"24\": 1, \"18\": 1, \"0\": 1, \"40\": 1}, \"108\": {\"108\": 81, \"129\": 1, \"122\": 1, \"88\": 2, \"5\": 1, \"27\": 2, \"125\": 1, \"46\": 1, \"109\": 1, \"84\": 1}, \"43\": {\"43\": 115, \"87\": 4, \"10\": 1}, \"96\": {\"96\": 20}, \"89\": {\"89\": 29, \"1\": 1, \"27\": 1, \"115\": 1}, \"31\": {\"31\": 16}, \"45\": {\"45\": 16}, \"2\": {\"2\": 28}, \"114\": {\"114\": 126, \"43\": 1, \"84\": 1}, \"11\": {\"11\": 135, \"112\": 1}, \"12\": {\"12\": 96, \"87\": 1, \"122\": 1, \"72\": 1, \"127\": 1}, \"14\": {\"14\": 111, \"8\": 1}, \"90\": {\"90\": 154}, \"10\": {\"10\": 120, \"84\": 1, \"27\": 1}, \"63\": {\"63\": 16}, \"85\": {\"85\": 27, \"78\": 1}, \"64\": {\"64\": 14, \"84\": 1, \"129\": 1}, \"82\": {\"82\": 31, \"122\": 1}, \"58\": {\"58\": 15, \"27\": 1}, \"3\": {\"3\": 132, \"40\": 1, \"10\": 1, \"21\": 1, \"27\": 1}, \"54\": {\"54\": 16}, \"121\": {\"121\": 31, \"44\": 1}, \"42\": {\"42\": 27, \"8\": 1}, \"98\": {\"98\": 115, \"121\": 2, \"18\": 1, \"81\": 2}, \"123\": {\"123\": 16}, \"91\": {\"91\": 24}, \"83\": {\"83\": 26, \"119\": 1, \"5\": 1}, \"99\": {\"99\": 40}, \"112\": {\"112\": 16}, \"119\": {\"119\": 16}, \"70\": {\"70\": 115, \"27\": 2, \"88\": 5, \"84\": 1, \"39\": 1}, \"20\": {\"20\": 15, \"1\": 1}, \"120\": {\"120\": 20}, \"7\": {\"7\": 122, \"27\": 1, \"1\": 1}, \"60\": {\"60\": 32}, \"113\": {\"113\": 116, \"39\": 1, \"4\": 1}, \"37\": {\"37\": 14, \"23\": 1, \"43\": 1}, \"124\": {\"124\": 110}, \"27\": {\"27\": 98, \"111\": 1, \"48\": 1}, \"86\": {\"86\": 28}, \"127\": {\"127\": 102, \"105\": 1, \"3\": 1, \"126\": 1, \"26\": 1, \"122\": 1, \"1\": 1}, \"62\": {\"62\": 55, \"71\": 1, \"109\": 1, \"39\": 1, \"69\": 1, \"110\": 1}, \"122\": {\"122\": 80, \"69\": 1, \"33\": 1, \"121\": 1, \"84\": 1}, \"51\": {\"51\": 12, \"84\": 1, \"21\": 1, \"23\": 1, \"55\": 1}, \"109\": {\"109\": 113, \"82\": 1}, \"106\": {\"106\": 106, \"97\": 1, \"122\": 1, \"33\": 1, \"78\": 1, \"1\": 2, \"24\": 1, \"84\": 1}, \"94\": {\"94\": 87, \"24\": 1}, \"38\": {\"38\": 15, \"66\": 1}, \"129\": {\"129\": 27, \"21\": 1}, \"116\": {\"116\": 28}, \"107\": {\"107\": 118}, \"30\": {\"6\": 1, \"30\": 72, \"24\": 1, \"105\": 1, \"27\": 1}, \"102\": {\"102\": 131, \"69\": 1}, \"74\": {\"74\": 16}, \"101\": {\"101\": 131, \"24\": 1}, \"117\": {\"117\": 119, \"71\": 1, \"1\": 1, \"24\": 1, \"0\": 1, \"81\": 1}, \"1\": {\"1\": 97, \"78\": 1, \"3\": 2, \"122\": 1, \"70\": 1, \"84\": 1, \"127\": 1, \"113\": 1, \"21\": 1, \"126\": 1, \"118\": 1}, \"84\": {\"84\": 128, \"102\": 1, \"105\": 1, \"14\": 1, \"4\": 1}, \"17\": {\"17\": 20}, \"6\": {\"85\": 1, \"6\": 23}, \"110\": {\"110\": 122, \"84\": 2}, \"77\": {\"77\": 12}, \"8\": {\"8\": 128, \"84\": 1, \"3\": 1, \"127\": 1, \"10\": 1}, \"73\": {\"73\": 21, \"10\": 1, \"3\": 1, \"27\": 1}, \"126\": {\"126\": 121, \"27\": 1, \"40\": 1, \"88\": 1}, \"57\": {\"57\": 16}, \"95\": {\"95\": 31, \"73\": 1}, \"103\": {\"103\": 16}, \"97\": {\"97\": 18, \"78\": 1, \"94\": 1}, \"39\": {\"97\": 1, \"39\": 89, \"126\": 2, \"81\": 1, \"118\": 2, \"10\": 1, \"21\": 2, \"24\": 2}, \"100\": {\"100\": 20}, \"40\": {\"40\": 109, \"69\": 1}, \"36\": {\"36\": 124, \"84\": 1, \"21\": 1}, \"19\": {\"19\": 28}, \"118\": {\"118\": 109, \"84\": 1, \"24\": 1, \"42\": 1}, \"56\": {\"56\": 12}, \"26\": {\"26\": 125, \"84\": 1}, \"5\": {\"5\": 134, \"110\": 1, \"1\": 1}, \"21\": {\"21\": 37, \"97\": 1, \"78\": 1, \"84\": 1}, \"22\": {\"22\": 15, \"40\": 1}, \"68\": {\"68\": 16}, \"9\": {\"9\": 28}, \"66\": {\"66\": 15, \"23\": 1}, \"87\": {\"87\": 122, \"43\": 1, \"24\": 1}, \"71\": {\"71\": 101, \"10\": 1, \"21\": 1, \"24\": 1}, \"115\": {\"115\": 15, \"32\": 1}, \"23\": {\"89\": 1, \"23\": 10, \"97\": 1, \"129\": 1, \"105\": 1, \"16\": 1, \"40\": 1}, \"33\": {\"33\": 116, \"0\": 1, \"90\": 1}, \"35\": {\"35\": 11, \"3\": 1}, \"125\": {\"125\": 127, \"110\": 1, \"90\": 1, \"78\": 1, \"43\": 1, \"4\": 1}, \"47\": {\"125\": 1, \"95\": 1, \"47\": 10}, \"79\": {\"79\": 16}, \"53\": {\"53\": 16}, \"67\": {\"67\": 14, \"22\": 1, \"104\": 1}, \"80\": {\"80\": 16}, \"105\": {\"105\": 95, \"39\": 1, \"69\": 2, \"15\": 1, \"43\": 1}, \"76\": {\"76\": 16}, \"46\": {\"46\": 20}, \"34\": {\"34\": 32}, \"32\": {\"32\": 27, \"128\": 1}, \"13\": {\"13\": 16}, \"78\": {\"78\": 30, \"56\": 1, \"1\": 2, \"43\": 1, \"4\": 1, \"18\": 1}, \"41\": {\"41\": 16}, \"69\": {\"69\": 124, \"88\": 1, \"4\": 1, \"43\": 1, \"1\": 1}, \"88\": {\"88\": 118, \"59\": 1, \"74\": 1, \"70\": 8, \"84\": 1, \"126\": 1, \"27\": 1, \"90\": 1}, \"15\": {\"15\": 122, \"105\": 1, \"87\": 1, \"108\": 1, \"21\": 1, \"10\": 1, \"113\": 1}, \"61\": {\"61\": 16}, \"0\": {\"0\": 110, \"24\": 1, \"105\": 2, \"4\": 2, \"101\": 1}, \"104\": {\"104\": 15, \"70\": 1}, \"48\": {\"48\": 15, \"99\": 1}, \"25\": {\"25\": 16}, \"75\": {\"75\": 16}, \"81\": {\"81\": 34, \"72\": 1, \"127\": 1}, \"50\": {\"50\": 16}, \"52\": {\"52\": 20}, \"16\": {\"16\": 117, \"70\": 1, \"84\": 1, \"0\": 1}, \"44\": {\"44\": 63, \"29\": 1}, \"29\": {\"29\": 30, \"21\": 1, \"1\": 1}, \"93\": {\"93\": 123, \"27\": 1}, \"18\": {\"18\": 114}, \"49\": {\"49\": 30, \"80\": 2}, \"55\": {\"55\": 16}, \"59\": {\"59\": 11, \"21\": 1}, \"128\": {\"128\": 21, \"41\": 1, \"91\": 2}, \"24\": {\"24\": 113, \"10\": 3, \"36\": 4}, \"65\": {\"65\": 12}, \"92\": {\"92\": 28}}, \"W_1\": {\"108\": {\"108\": 123, \"36\": 1}, \"40\": {\"40\": 136}, \"68\": {\"68\": 15, \"4\": 1}, \"23\": {\"23\": 23, \"32\": 1}, \"26\": {\"26\": 118, \"12\": 1, \"116\": 1}, \"64\": {\"64\": 16}, \"22\": {\"22\": 14, \"86\": 1, \"43\": 1}, \"3\": {\"3\": 85, \"94\": 1, \"84\": 1, \"15\": 1}, \"4\": {\"4\": 99, \"88\": 1}, \"70\": {\"70\": 116, \"36\": 2, \"24\": 1, \"107\": 1}, \"57\": {\"57\": 11, \"53\": 1}, \"79\": {\"79\": 12}, \"9\": {\"9\": 32}, \"89\": {\"89\": 36}, \"110\": {\"110\": 128}, \"102\": {\"102\": 118, \"126\": 1, \"107\": 1}, \"31\": {\"31\": 16}, \"58\": {\"58\": 12}, \"47\": {\"47\": 12}, \"24\": {\"24\": 90, \"97\": 1, \"102\": 1}, \"19\": {\"19\": 28}, \"11\": {\"11\": 132}, \"52\": {\"52\": 20}, \"17\": {\"17\": 15, \"43\": 1}, \"25\": {\"25\": 16}, \"69\": {\"69\": 105, \"15\": 1, \"43\": 1, \"4\": 1}, \"96\": {\"96\": 15, \"17\": 1, \"21\": 1, \"49\": 1, \"26\": 1, \"5\": 1}, \"109\": {\"109\": 111, \"3\": 1, \"126\": 1, \"43\": 1}, \"115\": {\"115\": 12}, \"83\": {\"83\": 27, \"62\": 1}, \"84\": {\"84\": 126, \"88\": 1, \"43\": 1}, \"119\": {\"119\": 16}, \"122\": {\"122\": 83, \"24\": 1, \"88\": 1, \"4\": 1, \"21\": 1, \"36\": 1}, \"99\": {\"99\": 24}, \"1\": {\"1\": 133, \"27\": 1, \"36\": 1, \"127\": 1}, \"74\": {\"74\": 16}, \"85\": {\"85\": 32}, \"127\": {\"127\": 106, \"39\": 1, \"105\": 1}, \"111\": {\"111\": 119, \"36\": 1}, \"53\": {\"53\": 20}, \"88\": {\"88\": 128, \"36\": 3, \"126\": 1}, \"65\": {\"65\": 11, \"43\": 1}, \"7\": {\"7\": 134}, \"16\": {\"16\": 107, \"127\": 1}, \"128\": {\"128\": 23, \"86\": 1}, \"34\": {\"129\": 1, \"34\": 31}, \"129\": {\"129\": 28}, \"43\": {\"43\": 125, \"78\": 2, \"36\": 1}, \"92\": {\"92\": 28}, \"28\": {\"28\": 18, \"17\": 1, \"111\": 1}, \"27\": {\"27\": 92}, \"114\": {\"114\": 123, \"36\": 1}, \"73\": {\"73\": 20}, \"0\": {\"0\": 84}, \"104\": {\"104\": 16}, \"118\": {\"118\": 83, \"43\": 1}, \"41\": {\"41\": 16}, \"91\": {\"91\": 28}, \"124\": {\"124\": 122}, \"81\": {\"81\": 28}, \"63\": {\"63\": 16}, \"76\": {\"76\": 16}, \"10\": {\"10\": 117, \"53\": 1, \"85\": 1, \"24\": 1}, \"51\": {\"51\": 15, \"26\": 1}, \"82\": {\"82\": 36}, \"56\": {\"56\": 11, \"53\": 1}, \"30\": {\"30\": 52}, \"21\": {\"21\": 31, \"22\": 1, \"15\": 1, \"49\": 1, \"100\": 1, \"43\": 1, \"78\": 1, \"26\": 1, \"84\": 2}, \"46\": {\"46\": 12}, \"33\": {\"33\": 138}, \"101\": {\"101\": 121, \"5\": 1, \"108\": 1, \"98\": 1}, \"105\": {\"105\": 81, \"36\": 1, \"40\": 2}, \"50\": {\"50\": 15, \"43\": 1}, \"116\": {\"116\": 32}, \"77\": {\"77\": 16}, \"75\": {\"75\": 16}, \"95\": {\"95\": 36}, \"120\": {\"120\": 20}, \"18\": {\"18\": 108}, \"14\": {\"14\": 96}, \"44\": {\"44\": 76}, \"98\": {\"98\": 96}, \"121\": {\"121\": 32}, \"113\": {\"113\": 108}, \"103\": {\"103\": 16}, \"62\": {\"62\": 116, \"10\": 1, \"24\": 1, \"107\": 1, \"15\": 1}, \"32\": {\"32\": 32}, \"71\": {\"71\": 103, \"127\": 2, \"24\": 1, \"70\": 1, \"69\": 1}, \"94\": {\"94\": 89, \"88\": 1, \"4\": 1, \"36\": 1}, \"49\": {\"49\": 19, \"26\": 1}, \"12\": {\"12\": 100, \"88\": 1, \"44\": 1, \"70\": 1, \"40\": 1}, \"90\": {\"90\": 124}, \"93\": {\"93\": 122, \"127\": 1, \"43\": 1}, \"13\": {\"13\": 16}, \"67\": {\"63\": 1, \"67\": 15}, \"20\": {\"20\": 14, \"27\": 1, \"122\": 1}, \"2\": {\"2\": 32}, \"5\": {\"5\": 86, \"101\": 1, \"26\": 1}, \"54\": {\"54\": 15, \"122\": 1}, \"37\": {\"37\": 16}, \"38\": {\"38\": 16}, \"86\": {\"86\": 33, \"84\": 2, \"118\": 1}, \"55\": {\"55\": 12}, \"97\": {\"97\": 18, \"19\": 1, \"128\": 1}, \"29\": {\"29\": 28}, \"48\": {\"63\": 1, \"48\": 11}, \"60\": {\"60\": 16}, \"36\": {\"36\": 120, \"4\": 1, \"88\": 1}, \"42\": {\"42\": 25, \"120\": 1, \"91\": 1, \"40\": 1}, \"66\": {\"66\": 16}, \"126\": {\"126\": 127, \"5\": 1}, \"39\": {\"39\": 104}, \"107\": {\"107\": 123, \"4\": 1}, \"59\": {\"59\": 10, \"95\": 1, \"66\": 1}, \"117\": {\"117\": 138}, \"6\": {\"6\": 32}, \"123\": {\"123\": 16}, \"8\": {\"8\": 123, \"15\": 1}, \"112\": {\"112\": 15, \"72\": 1}, \"80\": {\"80\": 15, \"82\": 1}, \"125\": {\"125\": 136}, \"61\": {\"61\": 12}, \"45\": {\"45\": 8, \"73\": 1, \"86\": 1, \"64\": 2}, \"72\": {\"72\": 32}, \"87\": {\"87\": 107, \"84\": 1}, \"106\": {\"106\": 123, \"36\": 1}, \"35\": {\"35\": 9, \"4\": 1, \"96\": 1, \"110\": 1}, \"78\": {\"78\": 14, \"3\": 1, \"44\": 1}, \"15\": {\"15\": 98, \"18\": 1, \"127\": 1, \"111\": 1, \"43\": 1, \"107\": 1, \"21\": 1}, \"100\": {\"100\": 16}}, \"W_2\": {\"91\": {\"91\": 26, \"14\": 1, \"94\": 1}, \"12\": {\"12\": 83, \"87\": 1, \"40\": 1, \"122\": 1, \"24\": 2}, \"101\": {\"101\": 147, \"87\": 1}, \"121\": {\"121\": 34, \"120\": 1, \"122\": 1}, \"118\": {\"118\": 67, \"87\": 1}, \"10\": {\"10\": 53, \"122\": 1, \"43\": 1, \"78\": 1, \"69\": 1, \"27\": 1, \"47\": 1, \"24\": 1}, \"117\": {\"117\": 118, \"40\": 1, \"124\": 1}, \"110\": {\"110\": 34, \"120\": 1, \"70\": 1, \"5\": 1, \"4\": 1, \"45\": 1, \"84\": 1}, \"97\": {\"97\": 20}, \"28\": {\"28\": 20}, \"88\": {\"88\": 118, \"118\": 1, \"24\": 1, \"43\": 2, \"62\": 1, \"60\": 1}, \"17\": {\"17\": 15, \"23\": 1}, \"126\": {\"126\": 112, \"0\": 1, \"34\": 1}, \"33\": {\"33\": 125, \"43\": 1, \"69\": 1, \"70\": 1}, \"86\": {\"86\": 32}, \"106\": {\"106\": 113, \"40\": 1, \"84\": 1, \"24\": 1, \"78\": 1, \"27\": 1, \"70\": 1, \"62\": 1}, \"54\": {\"54\": 20}, \"125\": {\"125\": 131, \"3\": 1}, \"83\": {\"83\": 39, \"18\": 1}, \"98\": {\"98\": 116, \"44\": 1, \"40\": 1, \"90\": 1, \"87\": 1}, \"11\": {\"11\": 76, \"95\": 1, \"69\": 1, \"43\": 1, \"87\": 1}, \"32\": {\"32\": 35, \"12\": 1}, \"42\": {\"42\": 28}, \"103\": {\"103\": 16}, \"87\": {\"87\": 100, \"60\": 1, \"39\": 2, \"5\": 2, \"43\": 1, \"24\": 2, \"8\": 1, \"81\": 1, \"94\": 1, \"93\": 1}, \"61\": {\"61\": 16, \"87\": 1, \"53\": 1, \"108\": 1, \"21\": 1}, \"13\": {\"13\": 12, \"31\": 1, \"14\": 1, \"47\": 1, \"18\": 1}, \"4\": {\"4\": 83, \"0\": 1, \"39\": 1, \"24\": 1}, \"15\": {\"15\": 116, \"40\": 1, \"0\": 2, \"36\": 1}, \"120\": {\"120\": 20}, \"80\": {\"80\": 16}, \"72\": {\"72\": 28}, \"64\": {\"64\": 15, \"3\": 1}, \"81\": {\"81\": 22, \"1\": 1, \"43\": 1}, \"102\": {\"102\": 112}, \"76\": {\"76\": 16}, \"49\": {\"49\": 19, \"84\": 1, \"59\": 1, \"117\": 1, \"85\": 1, \"98\": 1}, \"129\": {\"129\": 32}, \"89\": {\"89\": 34, \"15\": 1, \"41\": 1}, \"52\": {\"52\": 19, \"72\": 1}, \"35\": {\"35\": 12}, \"53\": {\"53\": 16}, \"26\": {\"26\": 126, \"18\": 1, \"24\": 1}, \"96\": {\"96\": 20}, \"27\": {\"27\": 57, \"21\": 3, \"10\": 1, \"122\": 1, \"84\": 2, \"62\": 1, \"24\": 1, \"40\": 1, \"39\": 1}, \"24\": {\"27\": 1, \"24\": 105, \"69\": 1, \"39\": 1, \"70\": 1, \"107\": 1, \"78\": 1, \"94\": 1}, \"82\": {\"82\": 32, \"15\": 1, \"104\": 1, \"21\": 1, \"107\": 1}, \"18\": {\"18\": 123, \"40\": 1, \"39\": 2, \"4\": 1, \"24\": 1}, \"69\": {\"69\": 118, \"12\": 1, \"27\": 1, \"24\": 1, \"26\": 1}, \"47\": {\"47\": 12}, \"85\": {\"85\": 32}, \"2\": {\"2\": 32}, \"67\": {\"67\": 15, \"24\": 1}, \"39\": {\"39\": 107, \"47\": 1, \"70\": 1, \"24\": 1, \"5\": 1, \"18\": 1}, \"99\": {\"99\": 32}, \"74\": {\"74\": 13, \"24\": 1, \"107\": 1, \"14\": 1}, \"105\": {\"105\": 128, \"40\": 1, \"5\": 1, \"43\": 1, \"87\": 1}, \"70\": {\"70\": 114, \"78\": 2, \"84\": 1, \"39\": 1, \"122\": 1, \"40\": 2, \"69\": 1}, \"55\": {\"55\": 16}, \"30\": {\"30\": 109, \"70\": 1, \"61\": 1, \"5\": 1}, \"60\": {\"60\": 26, \"24\": 1, \"57\": 1}, \"92\": {\"92\": 25, \"65\": 1, \"71\": 1, \"69\": 1}, \"45\": {\"45\": 16}, \"127\": {\"127\": 111, \"89\": 1}, \"9\": {\"115\": 1, \"9\": 30, \"18\": 1}, \"115\": {\"115\": 12}, \"73\": {\"73\": 28}, \"108\": {\"108\": 138}, \"114\": {\"114\": 113, \"10\": 1, \"94\": 1, \"113\": 1}, \"63\": {\"63\": 19, \"10\": 1}, \"93\": {\"93\": 128}, \"7\": {\"7\": 132}, \"31\": {\"31\": 19, \"14\": 1}, \"123\": {\"123\": 15, \"70\": 1}, \"128\": {\"128\": 23, \"30\": 1}, \"0\": {\"0\": 111, \"24\": 3, \"39\": 1, \"8\": 1}, \"3\": {\"3\": 134, \"18\": 1, \"39\": 1}, \"19\": {\"19\": 28}, \"57\": {\"57\": 19, \"84\": 1}, \"78\": {\"78\": 46, \"39\": 1, \"27\": 1}, \"95\": {\"95\": 35, \"84\": 1}, \"40\": {\"40\": 133, \"69\": 2, \"39\": 1, \"4\": 1, \"5\": 1, \"122\": 1, \"18\": 1}, \"14\": {\"40\": 1, \"14\": 40, \"57\": 1, \"69\": 1, \"18\": 1, \"122\": 1, \"78\": 1, \"94\": 2}, \"36\": {\"36\": 120, \"78\": 1, \"118\": 1, \"24\": 2, \"40\": 1, \"107\": 1, \"87\": 1, \"18\": 1}, \"56\": {\"56\": 12}, \"111\": {\"111\": 127, \"122\": 1}, \"59\": {\"59\": 14, \"15\": 1, \"24\": 1}, \"79\": {\"79\": 14, \"122\": 1, \"107\": 1}, \"62\": {\"62\": 121, \"40\": 1}, \"21\": {\"21\": 43, \"24\": 2, \"5\": 2, \"40\": 1}, \"48\": {\"48\": 20}, \"16\": {\"16\": 116, \"57\": 1, \"43\": 1, \"83\": 1, \"24\": 1, \"88\": 1, \"5\": 1, \"1\": 1, \"70\": 1}, \"50\": {\"50\": 15, \"94\": 1}, \"44\": {\"44\": 95, \"30\": 1}, \"5\": {\"5\": 109, \"12\": 1}, \"20\": {\"20\": 15, \"24\": 1}, \"1\": {\"1\": 118, \"3\": 1, \"70\": 1}, \"65\": {\"65\": 18, \"49\": 1, \"71\": 1}, \"116\": {\"116\": 28}, \"51\": {\"51\": 19, \"36\": 1}, \"75\": {\"75\": 15, \"24\": 1}, \"100\": {\"100\": 16}, \"113\": {\"113\": 72}, \"41\": {\"41\": 20}, \"29\": {\"29\": 32}, \"23\": {\"23\": 43, \"110\": 1}, \"124\": {\"124\": 123, \"21\": 1}, \"68\": {\"68\": 15, \"24\": 1}, \"71\": {\"71\": 99, \"94\": 1}, \"107\": {\"107\": 54, \"15\": 1, \"84\": 1, \"40\": 1, \"113\": 1, \"78\": 1, \"26\": 1, \"129\": 1, \"24\": 1, \"10\": 1, \"36\": 1}, \"94\": {\"94\": 62, \"36\": 1, \"87\": 1}, \"77\": {\"77\": 15, \"39\": 1}, \"8\": {\"8\": 120, \"24\": 1, \"15\": 1}, \"46\": {\"46\": 16}, \"25\": {\"25\": 14, \"113\": 1, \"18\": 1}, \"122\": {\"122\": 135, \"40\": 1, \"39\": 1, \"26\": 1, \"43\": 1, \"70\": 1}, \"58\": {\"58\": 16, \"77\": 1, \"17\": 1, \"87\": 1, \"103\": 1}, \"6\": {\"6\": 30, \"51\": 1, \"79\": 1}, \"109\": {\"109\": 95, \"87\": 1, \"24\": 2, \"70\": 1, \"11\": 1}, \"119\": {\"119\": 19, \"24\": 1}, \"34\": {\"34\": 30, \"40\": 1, \"120\": 1}, \"90\": {\"90\": 138, \"26\": 1, \"62\": 1}, \"38\": {\"38\": 16}, \"104\": {\"84\": 1, \"104\": 17, \"26\": 1, \"122\": 1}, \"84\": {\"84\": 90, \"18\": 1, \"105\": 1}, \"112\": {\"112\": 16}, \"66\": {\"66\": 17, \"39\": 1, \"47\": 1, \"27\": 1}, \"22\": {\"22\": 20}, \"37\": {\"37\": 16}, \"43\": {\"43\": 117, \"84\": 2, \"69\": 2, \"70\": 3}}, \"C_2\": {\"36\": {\"36\": 116}, \"5\": {\"5\": 120}, \"45\": {\"45\": 127, \"50\": 1}, \"49\": {\"49\": 24}, \"50\": {\"50\": 136}, \"4\": {\"4\": 138}, \"43\": {\"43\": 148}, \"41\": {\"41\": 20}, \"37\": {\"37\": 36}, \"12\": {\"12\": 92}, \"33\": {\"33\": 28}, \"7\": {\"7\": 36}, \"56\": {\"56\": 140}, \"14\": {\"14\": 24}, \"52\": {\"52\": 124}, \"44\": {\"44\": 96}, \"48\": {\"48\": 144}, \"20\": {\"20\": 128}, \"55\": {\"55\": 144}, \"32\": {\"32\": 28}, \"40\": {\"40\": 136}, \"54\": {\"54\": 108}, \"17\": {\"17\": 104}, \"38\": {\"38\": 20}, \"24\": {\"24\": 96}, \"1\": {\"1\": 112}, \"6\": {\"6\": 124}, \"34\": {\"34\": 28}, \"11\": {\"11\": 136}, \"9\": {\"9\": 150}, \"8\": {\"8\": 152}, \"22\": {\"22\": 136}, \"26\": {\"26\": 24}, \"23\": {\"23\": 146}, \"10\": {\"10\": 112}, \"18\": {\"18\": 48}, \"13\": {\"13\": 116}, \"30\": {\"30\": 128}, \"42\": {\"42\": 36}, \"31\": {\"31\": 28}, \"46\": {\"46\": 128}, \"57\": {\"57\": 142}, \"47\": {\"47\": 138}, \"35\": {\"35\": 32}, \"15\": {\"15\": 131, \"46\": 1}, \"25\": {\"25\": 136}, \"19\": {\"19\": 136}, \"51\": {\"51\": 128}, \"53\": {\"53\": 134}, \"21\": {\"21\": 120}, \"39\": {\"39\": 28}, \"2\": {\"2\": 32}, \"16\": {\"16\": 150}, \"0\": {\"0\": 48}, \"3\": {\"3\": 92}, \"27\": {\"27\": 142}, \"28\": {\"28\": 28}, \"29\": {\"29\": 128}}, \"O_14\": {\"15\": {\"3\": 2, \"15\": 91, \"5\": 22, \"4\": 19, \"7\": 56, \"13\": 10, \"1\": 14, \"2\": 10, \"6\": 12, \"14\": 4}, \"3\": {\"5\": 28, \"1\": 19, \"4\": 30, \"10\": 22, \"3\": 41, \"8\": 4, \"14\": 16, \"13\": 10, \"6\": 11, \"0\": 23, \"11\": 9, \"2\": 20, \"7\": 5, \"9\": 2}, \"6\": {\"3\": 20, \"15\": 11, \"2\": 27, \"4\": 19, \"6\": 41, \"13\": 45, \"14\": 37, \"5\": 15, \"1\": 4, \"10\": 8, \"0\": 5, \"7\": 7, \"11\": 1}, \"1\": {\"3\": 27, \"1\": 47, \"0\": 6, \"8\": 18, \"7\": 24, \"5\": 30, \"10\": 11, \"14\": 7, \"2\": 16, \"4\": 32, \"15\": 15, \"13\": 4, \"6\": 3}, \"8\": {\"8\": 92, \"0\": 21, \"11\": 6, \"4\": 16, \"3\": 27, \"9\": 19, \"1\": 30, \"10\": 4, \"7\": 4, \"5\": 8, \"2\": 4, \"15\": 1, \"12\": 7, \"14\": 1}, \"10\": {\"2\": 14, \"0\": 36, \"9\": 13, \"10\": 49, \"11\": 25, \"6\": 9, \"1\": 12, \"13\": 13, \"4\": 17, \"14\": 12, \"3\": 29, \"5\": 9, \"8\": 2}, \"9\": {\"12\": 64, \"10\": 11, \"0\": 23, \"8\": 15, \"9\": 82, \"11\": 36, \"3\": 7, \"14\": 1, \"1\": 1}, \"13\": {\"4\": 10, \"6\": 35, \"13\": 41, \"1\": 12, \"14\": 29, \"3\": 18, \"5\": 17, \"2\": 36, \"7\": 11, \"10\": 7, \"0\": 11, \"15\": 10, \"11\": 3}, \"12\": {\"9\": 81, \"8\": 5, \"12\": 117, \"11\": 29, \"0\": 4, \"10\": 3, \"3\": 1}, \"5\": {\"3\": 25, \"15\": 14, \"2\": 16, \"7\": 30, \"10\": 9, \"5\": 32, \"4\": 27, \"13\": 10, \"1\": 33, \"6\": 16, \"14\": 20, \"0\": 4, \"8\": 4}, \"0\": {\"11\": 37, \"0\": 45, \"4\": 16, \"8\": 7, \"3\": 26, \"13\": 5, \"2\": 13, \"1\": 12, \"10\": 32, \"9\": 20, \"12\": 1, \"14\": 13, \"5\": 7, \"6\": 6}, \"2\": {\"7\": 11, \"13\": 34, \"10\": 7, \"4\": 22, \"5\": 21, \"0\": 10, \"3\": 16, \"11\": 3, \"2\": 34, \"6\": 29, \"1\": 14, \"14\": 35, \"15\": 4}, \"11\": {\"0\": 46, \"12\": 19, \"10\": 21, \"9\": 39, \"14\": 11, \"11\": 72, \"3\": 12, \"2\": 3, \"8\": 7, \"13\": 3, \"5\": 1, \"4\": 2, \"1\": 3, \"6\": 1}, \"14\": {\"5\": 18, \"13\": 29, \"10\": 22, \"0\": 21, \"3\": 15, \"14\": 51, \"2\": 25, \"6\": 22, \"4\": 21, \"15\": 2, \"11\": 4, \"1\": 6, \"7\": 4}, \"7\": {\"4\": 21, \"3\": 4, \"13\": 10, \"15\": 42, \"1\": 51, \"7\": 61, \"5\": 32, \"6\": 6, \"8\": 3, \"2\": 9, \"14\": 1}, \"4\": {\"6\": 15, \"5\": 29, \"3\": 28, \"1\": 23, \"0\": 6, \"13\": 15, \"4\": 37, \"2\": 27, \"10\": 20, \"14\": 12, \"7\": 17, \"15\": 8, \"11\": 2, \"8\": 1}}, \"O_20\": {\"3\": {\"13\": 19, \"9\": 32, \"2\": 18, \"4\": 20, \"1\": 16, \"8\": 8, \"15\": 14, \"10\": 10, \"3\": 19, \"12\": 16, \"11\": 5, \"14\": 11, \"5\": 17, \"0\": 17, \"7\": 9, \"6\": 9}, \"15\": {\"9\": 20, \"15\": 32, \"2\": 22, \"10\": 3, \"12\": 24, \"1\": 26, \"0\": 21, \"6\": 6, \"5\": 12, \"8\": 10, \"3\": 17, \"13\": 13, \"4\": 14, \"7\": 17, \"11\": 2, \"14\": 1}, \"8\": {\"7\": 17, \"14\": 23, \"15\": 15, \"6\": 27, \"4\": 14, \"5\": 7, \"8\": 27, \"12\": 16, \"0\": 15, \"2\": 21, \"3\": 19, \"9\": 8, \"10\": 16, \"13\": 7, \"1\": 6, \"11\": 2}, \"4\": {\"2\": 9, \"0\": 12, \"1\": 14, \"15\": 9, \"6\": 15, \"9\": 18, \"4\": 36, \"10\": 23, \"14\": 17, \"12\": 24, \"5\": 19, \"8\": 16, \"13\": 8, \"3\": 14, \"7\": 5, \"11\": 1}, \"14\": {\"10\": 28, \"6\": 26, \"1\": 5, \"12\": 9, \"14\": 53, \"2\": 9, \"8\": 24, \"15\": 2, \"0\": 11, \"9\": 9, \"4\": 25, \"5\": 4, \"3\": 12, \"13\": 3, \"7\": 16, \"11\": 4}, \"0\": {\"3\": 20, \"9\": 17, \"12\": 17, \"2\": 14, \"1\": 15, \"13\": 9, \"5\": 29, \"15\": 34, \"4\": 15, \"7\": 11, \"14\": 5, \"0\": 22, \"8\": 18, \"6\": 5, \"11\": 5, \"10\": 4}, \"7\": {\"5\": 15, \"9\": 21, \"15\": 12, \"0\": 15, \"12\": 18, \"13\": 16, \"7\": 18, \"11\": 9, \"4\": 16, \"1\": 18, \"8\": 13, \"10\": 10, \"3\": 18, \"2\": 21, \"14\": 9, \"6\": 11}, \"6\": {\"0\": 8, \"10\": 26, \"1\": 7, \"12\": 7, \"14\": 24, \"4\": 18, \"7\": 19, \"8\": 21, \"2\": 16, \"5\": 11, \"3\": 13, \"9\": 15, \"6\": 32, \"13\": 6, \"11\": 13, \"15\": 4}, \"10\": {\"1\": 8, \"4\": 23, \"12\": 19, \"9\": 10, \"5\": 8, \"3\": 23, \"10\": 32, \"6\": 20, \"8\": 21, \"2\": 14, \"15\": 5, \"14\": 30, \"7\": 17, \"0\": 3, \"13\": 5, \"11\": 2}, \"5\": {\"3\": 15, \"15\": 22, \"10\": 14, \"9\": 20, \"12\": 18, \"0\": 24, \"6\": 3, \"2\": 18, \"1\": 22, \"8\": 18, \"5\": 21, \"13\": 18, \"4\": 10, \"7\": 11, \"14\": 4, \"11\": 2}, \"2\": {\"9\": 21, \"11\": 19, \"2\": 29, \"7\": 16, \"12\": 26, \"5\": 10, \"8\": 8, \"4\": 14, \"1\": 20, \"3\": 15, \"13\": 21, \"6\": 5, \"0\": 10, \"10\": 8, \"15\": 15, \"14\": 3}, \"12\": {\"8\": 16, \"9\": 25, \"15\": 15, \"10\": 12, \"1\": 26, \"3\": 20, \"2\": 20, \"13\": 18, \"12\": 18, \"7\": 22, \"4\": 8, \"0\": 7, \"6\": 8, \"5\": 17, \"14\": 2, \"11\": 6}, \"9\": {\"3\": 20, \"9\": 26, \"15\": 30, \"1\": 28, \"10\": 11, \"13\": 22, \"12\": 17, \"4\": 13, \"14\": 6, \"5\": 13, \"0\": 7, \"8\": 7, \"2\": 13, \"7\": 16, \"6\": 6, \"11\": 5}, \"1\": {\"2\": 17, \"9\": 21, \"12\": 27, \"8\": 8, \"1\": 23, \"10\": 8, \"3\": 17, \"5\": 17, \"4\": 18, \"13\": 17, \"0\": 17, \"6\": 5, \"15\": 24, \"7\": 15, \"14\": 4, \"11\": 2}, \"11\": {\"0\": 11, \"11\": 70, \"7\": 27, \"13\": 26, \"9\": 13, \"2\": 22, \"1\": 8, \"10\": 3, \"6\": 17, \"3\": 9, \"8\": 7, \"5\": 3, \"15\": 4, \"14\": 9, \"4\": 2, \"12\": 9}, \"13\": {\"13\": 28, \"3\": 23, \"0\": 13, \"9\": 30, \"12\": 22, \"2\": 22, \"6\": 4, \"15\": 14, \"5\": 19, \"7\": 13, \"8\": 10, \"11\": 9, \"14\": 3, \"1\": 25, \"4\": 3, \"10\": 2}}, \"O_38\": {\"5\": {\"5\": 37, \"7\": 17, \"6\": 45, \"8\": 38, \"15\": 19, \"9\": 14, \"10\": 13, \"13\": 14, \"0\": 22, \"1\": 15, \"2\": 2, \"11\": 1, \"3\": 3}, \"8\": {\"6\": 13, \"10\": 21, \"13\": 18, \"15\": 20, \"5\": 34, \"8\": 49, \"9\": 9, \"1\": 11, \"7\": 32, \"3\": 9, \"0\": 19, \"12\": 1, \"14\": 1, \"2\": 2, \"4\": 1}, \"11\": {\"11\": 128, \"10\": 13, \"14\": 60, \"5\": 1, \"12\": 9, \"2\": 19, \"13\": 2, \"7\": 2, \"4\": 4, \"15\": 1, \"0\": 1}, \"1\": {\"13\": 27, \"1\": 78, \"15\": 32, \"8\": 20, \"6\": 27, \"2\": 9, \"10\": 7, \"5\": 27, \"0\": 3, \"7\": 1, \"9\": 8, \"3\": 1}, \"10\": {\"5\": 17, \"10\": 49, \"9\": 3, \"15\": 14, \"13\": 27, \"12\": 9, \"7\": 21, \"0\": 11, \"8\": 28, \"14\": 20, \"2\": 23, \"11\": 7, \"6\": 3, \"1\": 3, \"4\": 4, \"3\": 1}, \"15\": {\"13\": 43, \"5\": 24, \"8\": 33, \"0\": 4, \"10\": 14, \"2\": 19, \"15\": 51, \"1\": 30, \"9\": 5, \"6\": 6, \"14\": 3, \"7\": 6, \"11\": 1, \"12\": 1}, \"3\": {\"3\": 98, \"6\": 21, \"7\": 27, \"5\": 16, \"0\": 29, \"8\": 10, \"9\": 32, \"15\": 2, \"10\": 2, \"1\": 1, \"13\": 2}, \"7\": {\"6\": 5, \"5\": 29, \"13\": 9, \"7\": 71, \"8\": 24, \"0\": 39, \"15\": 9, \"10\": 16, \"12\": 5, \"3\": 13, \"9\": 8, \"1\": 2, \"4\": 7, \"2\": 1, \"11\": 1, \"14\": 1}, \"4\": {\"12\": 64, \"4\": 149, \"7\": 11, \"14\": 4, \"0\": 7, \"10\": 4, \"11\": 1}, \"14\": {\"14\": 87, \"15\": 8, \"2\": 47, \"11\": 31, \"10\": 22, \"12\": 24, \"7\": 1, \"5\": 1, \"8\": 3, \"13\": 12, \"1\": 1, \"4\": 3}, \"9\": {\"1\": 11, \"6\": 68, \"9\": 81, \"5\": 26, \"3\": 23, \"15\": 4, \"0\": 6, \"7\": 8, \"13\": 3, \"8\": 9, \"10\": 1}, \"12\": {\"4\": 48, \"12\": 136, \"14\": 22, \"7\": 5, \"10\": 12, \"8\": 5, \"2\": 1, \"5\": 2, \"11\": 2, \"0\": 4, \"15\": 3}, \"6\": {\"6\": 79, \"1\": 18, \"5\": 44, \"0\": 6, \"9\": 61, \"8\": 7, \"7\": 4, \"15\": 9, \"13\": 6, \"3\": 5, \"2\": 1}, \"2\": {\"14\": 46, \"11\": 9, \"13\": 42, \"2\": 72, \"1\": 13, \"5\": 3, \"10\": 22, \"15\": 29, \"12\": 1, \"6\": 1, \"8\": 1, \"4\": 1}, \"0\": {\"5\": 27, \"8\": 35, \"0\": 52, \"2\": 1, \"3\": 19, \"7\": 34, \"12\": 8, \"13\": 10, \"6\": 7, \"10\": 12, \"1\": 3, \"11\": 3, \"4\": 4, \"9\": 9, \"15\": 16}, \"13\": {\"13\": 50, \"10\": 22, \"0\": 8, \"8\": 22, \"5\": 16, \"1\": 36, \"2\": 23, \"7\": 2, \"14\": 1, \"15\": 40, \"6\": 11, \"9\": 5, \"12\": 2, \"3\": 1, \"11\": 1}}, \"O_8\": {\"9\": {\"9\": 141, \"10\": 24, \"13\": 13, \"5\": 34, \"1\": 4, \"0\": 7, \"4\": 5, \"14\": 8, \"7\": 2, \"11\": 2}, \"10\": {\"1\": 23, \"10\": 21, \"4\": 30, \"14\": 26, \"7\": 15, \"13\": 34, \"5\": 19, \"11\": 14, \"8\": 5, \"0\": 19, \"2\": 4, \"15\": 5, \"6\": 21, \"9\": 3, \"12\": 1}, \"13\": {\"6\": 22, \"13\": 30, \"7\": 28, \"10\": 27, \"2\": 6, \"14\": 27, \"4\": 24, \"0\": 26, \"1\": 11, \"15\": 10, \"11\": 5, \"5\": 11, \"9\": 4, \"8\": 5, \"3\": 3, \"12\": 1}, \"0\": {\"3\": 13, \"6\": 26, \"7\": 27, \"2\": 9, \"10\": 17, \"13\": 38, \"4\": 24, \"14\": 20, \"9\": 1, \"1\": 6, \"15\": 6, \"11\": 4, \"8\": 8, \"0\": 30, \"5\": 8, \"12\": 3}, \"1\": {\"11\": 35, \"5\": 32, \"4\": 18, \"6\": 11, \"1\": 42, \"7\": 6, \"10\": 18, \"8\": 18, \"14\": 29, \"13\": 14, \"12\": 4, \"15\": 7, \"0\": 6}, \"15\": {\"15\": 56, \"10\": 4, \"3\": 14, \"0\": 9, \"7\": 17, \"1\": 6, \"6\": 10, \"11\": 13, \"4\": 16, \"14\": 12, \"13\": 17, \"12\": 27, \"8\": 25, \"5\": 2, \"2\": 12}, \"5\": {\"6\": 15, \"1\": 24, \"5\": 45, \"11\": 30, \"8\": 6, \"10\": 27, \"13\": 18, \"9\": 7, \"14\": 19, \"0\": 20, \"7\": 11, \"4\": 17, \"15\": 1}, \"3\": {\"2\": 43, \"6\": 15, \"12\": 32, \"10\": 3, \"3\": 58, \"15\": 27, \"13\": 9, \"8\": 13, \"7\": 18, \"4\": 7, \"1\": 2, \"0\": 10, \"14\": 3}, \"6\": {\"4\": 15, \"6\": 32, \"0\": 21, \"13\": 27, \"3\": 7, \"15\": 7, \"11\": 7, \"7\": 28, \"14\": 21, \"10\": 17, \"12\": 9, \"8\": 17, \"5\": 9, \"1\": 14, \"2\": 9}, \"11\": {\"10\": 18, \"1\": 24, \"5\": 23, \"0\": 8, \"8\": 24, \"13\": 18, \"9\": 2, \"11\": 54, \"14\": 23, \"7\": 7, \"6\": 12, \"4\": 17, \"15\": 9, \"12\": 1}, \"8\": {\"10\": 11, \"0\": 13, \"7\": 19, \"1\": 18, \"15\": 20, \"11\": 21, \"8\": 29, \"12\": 26, \"6\": 15, \"3\": 9, \"14\": 14, \"4\": 19, \"13\": 18, \"2\": 6, \"5\": 2}, \"4\": {\"1\": 25, \"5\": 13, \"15\": 8, \"7\": 28, \"13\": 26, \"9\": 2, \"11\": 11, \"3\": 4, \"10\": 15, \"14\": 17, \"0\": 19, \"4\": 32, \"6\": 25, \"2\": 4, \"12\": 6, \"8\": 5}, \"12\": {\"15\": 35, \"12\": 38, \"2\": 24, \"8\": 31, \"3\": 35, \"14\": 9, \"7\": 22, \"11\": 7, \"0\": 7, \"6\": 16, \"13\": 7, \"4\": 7, \"1\": 2}, \"14\": {\"15\": 6, \"8\": 7, \"0\": 21, \"1\": 24, \"5\": 15, \"10\": 26, \"14\": 27, \"6\": 12, \"9\": 1, \"13\": 23, \"4\": 31, \"7\": 14, \"2\": 5, \"11\": 22, \"12\": 5, \"3\": 1}, \"2\": {\"3\": 47, \"12\": 26, \"0\": 17, \"15\": 8, \"6\": 22, \"2\": 56, \"4\": 12, \"14\": 5, \"7\": 22, \"13\": 9, \"8\": 10, \"10\": 5, \"1\": 1}, \"7\": {\"13\": 27, \"12\": 9, \"8\": 12, \"7\": 24, \"10\": 20, \"6\": 25, \"14\": 12, \"3\": 12, \"0\": 25, \"1\": 7, \"15\": 15, \"2\": 14, \"4\": 24, \"11\": 5, \"5\": 9}}, \"O_50\": {\"7\": {\"10\": 26, \"5\": 31, \"0\": 16, \"13\": 40, \"7\": 50, \"3\": 7, \"1\": 6, \"6\": 25, \"4\": 17, \"8\": 10, \"2\": 1, \"15\": 10, \"14\": 1}, \"3\": {\"8\": 49, \"3\": 153, \"10\": 17, \"0\": 3, \"13\": 2, \"5\": 3, \"7\": 13}, \"8\": {\"8\": 75, \"13\": 9, \"10\": 57, \"0\": 38, \"7\": 14, \"6\": 6, \"3\": 24, \"5\": 7, \"2\": 9, \"1\": 1}, \"2\": {\"0\": 67, \"14\": 31, \"2\": 62, \"4\": 3, \"1\": 15, \"12\": 5, \"5\": 6, \"11\": 5, \"10\": 18, \"15\": 2, \"8\": 9, \"13\": 11, \"7\": 3, \"6\": 2, \"9\": 1}, \"14\": {\"9\": 32, \"11\": 32, \"14\": 73, \"15\": 10, \"12\": 34, \"2\": 26, \"5\": 6, \"1\": 13, \"0\": 5, \"6\": 4, \"4\": 3, \"13\": 2}, \"4\": {\"15\": 32, \"1\": 28, \"4\": 38, \"9\": 5, \"5\": 25, \"13\": 25, \"0\": 5, \"11\": 18, \"7\": 17, \"10\": 6, \"14\": 5, \"6\": 22, \"2\": 4, \"12\": 9, \"8\": 1}, \"6\": {\"1\": 31, \"13\": 27, \"6\": 37, \"15\": 26, \"7\": 28, \"4\": 24, \"2\": 6, \"0\": 12, \"5\": 18, \"10\": 17, \"11\": 7, \"14\": 5, \"8\": 1, \"12\": 1}, \"15\": {\"15\": 54, \"4\": 30, \"13\": 16, \"11\": 21, \"9\": 8, \"6\": 36, \"1\": 39, \"5\": 14, \"0\": 2, \"7\": 7, \"14\": 10, \"10\": 2, \"12\": 1}, \"10\": {\"8\": 30, \"10\": 54, \"2\": 21, \"7\": 26, \"13\": 24, \"15\": 1, \"6\": 7, \"0\": 50, \"5\": 17, \"4\": 4, \"1\": 4, \"3\": 2}, \"11\": {\"1\": 24, \"4\": 17, \"9\": 47, \"15\": 24, \"11\": 50, \"13\": 4, \"6\": 8, \"14\": 23, \"12\": 35, \"2\": 1, \"5\": 6, \"7\": 1}, \"13\": {\"6\": 25, \"13\": 36, \"0\": 20, \"2\": 7, \"7\": 45, \"10\": 30, \"1\": 19, \"5\": 31, \"4\": 13, \"3\": 2, \"11\": 1, \"15\": 7, \"8\": 3, \"14\": 1}, \"9\": {\"15\": 11, \"9\": 83, \"11\": 65, \"14\": 15, \"12\": 44, \"1\": 10, \"5\": 1, \"4\": 7, \"2\": 2, \"6\": 1, \"13\": 1}, \"0\": {\"2\": 43, \"10\": 42, \"0\": 57, \"8\": 16, \"1\": 11, \"13\": 27, \"5\": 6, \"14\": 8, \"6\": 6, \"4\": 5, \"15\": 4, \"7\": 14, \"9\": 1}, \"1\": {\"4\": 22, \"1\": 49, \"14\": 27, \"15\": 20, \"2\": 16, \"13\": 16, \"5\": 15, \"0\": 14, \"11\": 12, \"9\": 6, \"6\": 27, \"12\": 4, \"10\": 4, \"7\": 8}, \"12\": {\"12\": 80, \"14\": 60, \"9\": 42, \"1\": 8, \"11\": 31, \"2\": 9, \"15\": 3, \"4\": 3, \"0\": 2, \"6\": 2}, \"5\": {\"13\": 33, \"10\": 14, \"1\": 25, \"5\": 40, \"6\": 17, \"3\": 2, \"0\": 12, \"15\": 16, \"7\": 30, \"2\": 8, \"8\": 5, \"4\": 30, \"11\": 4, \"14\": 3, \"12\": 1}}, \"O_32\": {\"8\": {\"14\": 11, \"4\": 13, \"13\": 35, \"0\": 27, \"5\": 41, \"11\": 13, \"8\": 47, \"15\": 7, \"7\": 17, \"3\": 22, \"2\": 6, \"9\": 1}, \"14\": {\"11\": 52, \"3\": 10, \"5\": 18, \"13\": 27, \"0\": 22, \"14\": 53, \"8\": 10, \"2\": 14, \"4\": 16, \"7\": 18}, \"2\": {\"5\": 26, \"4\": 39, \"0\": 28, \"2\": 60, \"13\": 13, \"11\": 15, \"8\": 13, \"7\": 28, \"14\": 10, \"9\": 7, \"3\": 1}, \"0\": {\"13\": 23, \"4\": 21, \"0\": 46, \"14\": 23, \"2\": 22, \"11\": 24, \"8\": 20, \"7\": 33, \"15\": 2, \"5\": 23, \"3\": 3}, \"1\": {\"1\": 150, \"6\": 16, \"10\": 74}, \"10\": {\"10\": 130, \"1\": 75, \"6\": 26, \"12\": 9}, \"11\": {\"14\": 49, \"5\": 17, \"11\": 58, \"8\": 20, \"2\": 5, \"3\": 13, \"0\": 10, \"13\": 24, \"4\": 14, \"7\": 30}, \"5\": {\"5\": 38, \"0\": 28, \"7\": 22, \"8\": 23, \"4\": 29, \"3\": 20, \"2\": 21, \"11\": 19, \"14\": 12, \"13\": 27, \"15\": 1}, \"15\": {\"15\": 161, \"3\": 46, \"8\": 17, \"5\": 5, \"11\": 1, \"13\": 7, \"0\": 2, \"4\": 1}, \"3\": {\"3\": 67, \"0\": 10, \"8\": 42, \"14\": 13, \"13\": 39, \"7\": 9, \"15\": 16, \"5\": 28, \"11\": 15, \"4\": 1}, \"12\": {\"12\": 148, \"6\": 30, \"9\": 55, \"10\": 7}, \"7\": {\"4\": 23, \"0\": 28, \"13\": 27, \"11\": 24, \"2\": 22, \"5\": 31, \"14\": 23, \"8\": 22, \"7\": 35, \"3\": 5}, \"13\": {\"7\": 19, \"3\": 30, \"13\": 28, \"8\": 43, \"5\": 38, \"14\": 12, \"4\": 29, \"0\": 15, \"11\": 14, \"2\": 8, \"15\": 4}, \"6\": {\"6\": 172, \"12\": 47, \"1\": 3, \"10\": 12, \"9\": 6}, \"4\": {\"7\": 30, \"8\": 25, \"4\": 50, \"5\": 26, \"14\": 11, \"0\": 32, \"11\": 19, \"13\": 22, \"2\": 21, \"3\": 3, \"9\": 1}, \"9\": {\"9\": 132, \"4\": 7, \"6\": 9, \"7\": 2, \"2\": 22, \"12\": 47, \"0\": 16, \"8\": 3, \"13\": 1, \"11\": 1}}, \"O_26\": {\"4\": {\"5\": 7, \"4\": 30, \"1\": 25, \"2\": 16, \"12\": 3, \"8\": 18, \"7\": 24, \"14\": 15, \"15\": 5, \"3\": 18, \"10\": 27, \"0\": 26, \"13\": 7, \"9\": 12, \"6\": 7}, \"12\": {\"13\": 14, \"11\": 29, \"12\": 104, \"0\": 12, \"6\": 21, \"10\": 12, \"8\": 9, \"9\": 16, \"15\": 7, \"5\": 6, \"7\": 2, \"14\": 2, \"1\": 4, \"3\": 1, \"4\": 1}, \"10\": {\"0\": 21, \"4\": 19, \"10\": 24, \"3\": 8, \"14\": 21, \"8\": 26, \"9\": 11, \"7\": 23, \"1\": 27, \"6\": 16, \"12\": 6, \"15\": 11, \"2\": 6, \"13\": 9, \"5\": 12}, \"0\": {\"8\": 28, \"4\": 24, \"7\": 16, \"10\": 27, \"9\": 12, \"14\": 22, \"3\": 12, \"1\": 16, \"2\": 14, \"0\": 29, \"15\": 11, \"12\": 1, \"5\": 5, \"6\": 18, \"13\": 5}, \"13\": {\"8\": 12, \"2\": 25, \"15\": 28, \"13\": 46, \"5\": 43, \"7\": 10, \"9\": 19, \"14\": 7, \"6\": 13, \"0\": 5, \"3\": 13, \"12\": 3, \"11\": 4, \"1\": 1, \"10\": 7, \"4\": 4}, \"9\": {\"13\": 30, \"8\": 19, \"6\": 14, \"15\": 22, \"9\": 31, \"1\": 14, \"12\": 4, \"5\": 26, \"14\": 7, \"0\": 11, \"2\": 14, \"10\": 12, \"7\": 15, \"4\": 8, \"3\": 11, \"11\": 2}, \"3\": {\"8\": 15, \"5\": 15, \"15\": 16, \"3\": 30, \"4\": 16, \"7\": 22, \"10\": 16, \"13\": 18, \"2\": 31, \"1\": 22, \"14\": 10, \"0\": 9, \"6\": 9, \"9\": 11}, \"2\": {\"2\": 33, \"3\": 27, \"1\": 12, \"15\": 14, \"14\": 13, \"8\": 26, \"13\": 16, \"10\": 12, \"5\": 20, \"6\": 7, \"9\": 18, \"7\": 20, \"4\": 10, \"0\": 11, \"12\": 1}, \"5\": {\"13\": 25, \"2\": 33, \"15\": 19, \"9\": 19, \"5\": 41, \"8\": 7, \"4\": 11, \"6\": 18, \"14\": 10, \"0\": 11, \"3\": 19, \"7\": 13, \"1\": 3, \"11\": 3, \"10\": 8}, \"14\": {\"8\": 23, \"0\": 32, \"5\": 13, \"15\": 9, \"10\": 18, \"6\": 14, \"7\": 21, \"1\": 22, \"14\": 35, \"4\": 19, \"3\": 14, \"2\": 11, \"9\": 7, \"13\": 1, \"12\": 1}, \"8\": {\"8\": 24, \"14\": 22, \"1\": 20, \"12\": 1, \"6\": 20, \"9\": 20, \"2\": 14, \"0\": 19, \"5\": 10, \"4\": 11, \"7\": 17, \"10\": 16, \"15\": 18, \"3\": 12, \"13\": 15, \"11\": 1}, \"7\": {\"13\": 6, \"2\": 18, \"1\": 16, \"0\": 19, \"15\": 16, \"9\": 26, \"8\": 23, \"4\": 20, \"7\": 21, \"3\": 28, \"10\": 15, \"5\": 11, \"6\": 10, \"14\": 11}, \"6\": {\"14\": 11, \"5\": 20, \"1\": 10, \"6\": 20, \"4\": 15, \"9\": 15, \"15\": 23, \"0\": 22, \"8\": 22, \"10\": 20, \"13\": 23, \"2\": 10, \"7\": 15, \"11\": 5, \"3\": 7, \"12\": 2}, \"11\": {\"12\": 45, \"11\": 112, \"6\": 16, \"9\": 7, \"10\": 5, \"15\": 8, \"5\": 13, \"13\": 26, \"0\": 1, \"8\": 2, \"2\": 2, \"1\": 1, \"7\": 2}, \"15\": {\"13\": 26, \"5\": 16, \"1\": 10, \"10\": 10, \"9\": 15, \"6\": 25, \"7\": 15, \"0\": 25, \"14\": 9, \"2\": 12, \"15\": 30, \"8\": 21, \"3\": 6, \"4\": 15, \"12\": 5}, \"1\": {\"1\": 34, \"0\": 30, \"2\": 15, \"10\": 29, \"8\": 13, \"3\": 18, \"9\": 12, \"14\": 18, \"15\": 4, \"6\": 8, \"4\": 30, \"7\": 21, \"5\": 4, \"13\": 3, \"12\": 1}}, \"O_44\": {\"12\": {\"12\": 67, \"10\": 39, \"3\": 46, \"1\": 56, \"2\": 17, \"9\": 5, \"7\": 9, \"13\": 1}, \"7\": {\"1\": 20, \"3\": 10, \"12\": 17, \"6\": 25, \"13\": 28, \"7\": 47, \"9\": 33, \"2\": 36, \"11\": 7, \"10\": 12, \"14\": 3, \"4\": 2}, \"5\": {\"5\": 64, \"4\": 27, \"8\": 28, \"0\": 44, \"15\": 33, \"14\": 44}, \"15\": {\"14\": 37, \"5\": 42, \"4\": 23, \"0\": 41, \"8\": 46, \"15\": 51}, \"8\": {\"5\": 32, \"8\": 76, \"15\": 42, \"0\": 71, \"14\": 12, \"4\": 7}, \"2\": {\"2\": 46, \"10\": 32, \"1\": 27, \"7\": 45, \"3\": 15, \"13\": 9, \"11\": 4, \"12\": 19, \"9\": 28, \"6\": 15}, \"13\": {\"13\": 53, \"7\": 36, \"11\": 19, \"9\": 45, \"10\": 4, \"2\": 19, \"6\": 48, \"4\": 6, \"14\": 6, \"12\": 3, \"1\": 1}, \"4\": {\"14\": 59, \"7\": 4, \"13\": 6, \"4\": 72, \"0\": 18, \"1\": 1, \"11\": 1, \"5\": 28, \"9\": 7, \"8\": 9, \"2\": 3, \"6\": 3, \"15\": 26, \"12\": 1, \"3\": 2}, \"0\": {\"14\": 16, \"5\": 48, \"15\": 47, \"8\": 61, \"4\": 11, \"0\": 57}, \"6\": {\"6\": 63, \"10\": 4, \"13\": 54, \"2\": 18, \"9\": 40, \"3\": 2, \"11\": 25, \"7\": 28, \"4\": 5, \"14\": 1}, \"9\": {\"9\": 43, \"3\": 7, \"13\": 45, \"12\": 8, \"7\": 42, \"11\": 10, \"2\": 25, \"10\": 7, \"4\": 8, \"6\": 32, \"14\": 4, \"15\": 1, \"1\": 8}, \"11\": {\"11\": 95, \"6\": 44, \"2\": 18, \"7\": 22, \"9\": 19, \"13\": 33, \"3\": 3, \"10\": 4, \"1\": 2}, \"10\": {\"3\": 8, \"9\": 12, \"10\": 58, \"13\": 5, \"12\": 44, \"7\": 17, \"1\": 34, \"2\": 51, \"6\": 9, \"11\": 2}, \"14\": {\"6\": 2, \"15\": 34, \"14\": 58, \"13\": 5, \"4\": 60, \"5\": 34, \"8\": 14, \"0\": 23, \"9\": 7, \"3\": 3}, \"1\": {\"3\": 45, \"10\": 30, \"13\": 1, \"1\": 55, \"12\": 55, \"7\": 16, \"11\": 1, \"2\": 27, \"9\": 9, \"14\": 1}, \"3\": {\"1\": 55, \"12\": 41, \"3\": 62, \"10\": 23, \"2\": 27, \"7\": 12, \"9\": 9, \"13\": 4, \"14\": 4, \"4\": 2, \"15\": 1}}}, \"per_domain_accuracy\": {\"C_3\": {\"accuracy\": 0.998546511627907, \"source?\": true}, \"W_3\": {\"accuracy\": 0.9787554824561403, \"source?\": true}, \"C_4\": {\"accuracy\": 0.9992424242424243, \"source?\": true}, \"C_5\": {\"accuracy\": 1.0, \"source?\": true}, \"C_1\": {\"accuracy\": 1.0, \"source?\": true}, \"W_4\": {\"accuracy\": 0.9663065843621399, \"source?\": true}, \"W_1\": {\"accuracy\": 0.9811170212765957, \"source?\": true}, \"W_2\": {\"accuracy\": 0.9624474789915967, \"source?\": true}, \"C_2\": {\"accuracy\": 0.9996468926553672, \"source?\": true}, \"O_14\": {\"accuracy\": 0.24296875, \"source?\": false}, \"O_20\": {\"accuracy\": 0.1265625, \"source?\": false}, \"O_38\": {\"accuracy\": 0.3299479166666667, \"source?\": false}, \"O_8\": {\"accuracy\": 0.18619791666666666, \"source?\": false}, \"O_50\": {\"accuracy\": 0.25807291666666665, \"source?\": false}, \"O_32\": {\"accuracy\": 0.3580729166666667, \"source?\": false}, \"O_26\": {\"accuracy\": 0.16770833333333332, \"source?\": false}, \"O_44\": {\"accuracy\": 0.2518229166666667, \"source?\": false}}}, \"history\": {\"epoch_indices\": [1, 2, 3, 4, 5, 6, 7, 8], \"train_label_loss\": [0.12142215637530711, 0.07139624415851148, 0.05706252346032541, 0.048582257250451566, 0.042082772637991976, 0.03551738544387105, 0.02957537291520371, 0.02531066699562648], \"source_val_label_loss\": [0.11501241475343704, 0.07462653517723083, 0.06465483456850052, 0.06544223427772522, 0.06602432578802109, 0.0647965520620346, 0.06967845559120178, 0.07081439346075058], \"target_val_label_loss\": [2.393571138381958, 2.3171117305755615, 2.4282121658325195, 2.299107789993286, 2.468761920928955, 2.3820416927337646, 3.154101610183716, 2.6739282608032227], \"source_val_acc_label\": [0.9770604395604395, 0.9830013736263736, 0.9850789835164835, 0.9852506868131868, 0.9850961538461539, 0.9859203296703297, 0.9855425824175824, 0.9853880494505495], \"target_val_acc_label\": [0.2142578125, 0.233984375, 0.21744791666666666, 0.24016927083333334, 0.21806640625, 0.23180338541666667, 0.17923177083333333, 0.22112630208333334]}, \"dataset_metrics\": {\"source\": {\"train\": {\"n_unique_x\": 364173, \"n_unique_y\": 130, \"n_batch/episode\": 13146}, \"val\": {\"n_unique_x\": 77264, \"n_unique_y\": 130, \"n_batch/episode\": 1820}, \"test\": {\"n_unique_x\": 78450, \"n_unique_y\": 130, \"n_batch/episode\": 1860}}, \"target\": {\"train\": {\"n_unique_x\": 179200, \"n_unique_y\": 16, \"n_batch/episode\": 6720}, \"val\": {\"n_unique_x\": 38400, \"n_unique_y\": 16, \"n_batch/episode\": 960}, \"test\": {\"n_unique_x\": 38400, \"n_unique_y\": 16, \"n_batch/episode\": 960}}}}'"
      ]
     },
     "execution_count": 29,
     "metadata": {},
     "output_type": "execute_result"
    }
   ],
   "source": [
    "json.dumps(experiment)"
   ]
  }
 ],
 "metadata": {
  "celltoolbar": "Tags",
  "kernelspec": {
   "display_name": "Python 3 (ipykernel)",
   "language": "python",
   "name": "python3"
  },
  "language_info": {
   "codemirror_mode": {
    "name": "ipython",
    "version": 3
   },
   "file_extension": ".py",
   "mimetype": "text/x-python",
   "name": "python",
   "nbconvert_exporter": "python",
   "pygments_lexer": "ipython3",
   "version": "3.8.10"
  },
  "papermill": {
   "default_parameters": {},
   "duration": 5048.334315,
   "end_time": "2022-03-20T06:34:22.569875",
   "environment_variables": {},
   "exception": null,
   "input_path": "/mnt/wd500GB/CSC500/csc500-main/csc500-notebooks/templates/tl_ptn_template.ipynb",
   "output_path": "trial.ipynb",
   "parameters": {
    "parameters": {
     "BEST_MODEL_PATH": "./best_model.pth",
     "NUM_LOGS_PER_EPOCH": 10,
     "criteria_for_best": "target_accuracy",
     "dataset_seed": 1337,
     "datasets": [
      {
       "domain_prefix": "C_",
       "domains": [
        1,
        2,
        3,
        4,
        5
       ],
       "episode_transforms": [],
       "labels": [
        "1-10.",
        "1-11.",
        "1-15.",
        "1-16.",
        "1-17.",
        "1-18.",
        "1-19.",
        "10-4.",
        "10-7.",
        "11-1.",
        "11-14.",
        "11-17.",
        "11-20.",
        "11-7.",
        "13-20.",
        "13-8.",
        "14-10.",
        "14-11.",
        "14-14.",
        "14-7.",
        "15-1.",
        "15-20.",
        "16-1.",
        "16-16.",
        "17-10.",
        "17-11.",
        "17-2.",
        "19-1.",
        "19-16.",
        "19-19.",
        "19-20.",
        "19-3.",
        "2-10.",
        "2-11.",
        "2-17.",
        "2-18.",
        "2-20.",
        "2-3.",
        "2-4.",
        "2-5.",
        "2-6.",
        "2-7.",
        "2-8.",
        "3-13.",
        "3-18.",
        "3-3.",
        "4-1.",
        "4-10.",
        "4-11.",
        "4-19.",
        "5-5.",
        "6-15.",
        "7-10.",
        "7-14.",
        "8-18.",
        "8-20.",
        "8-3.",
        "8-8."
       ],
       "num_examples_per_domain_per_label": -1,
       "pickle_path": "/mnt/wd500GB/CSC500/csc500-main/datasets/cores.stratified_ds.2022A.pkl",
       "source_or_target_dataset": "source",
       "x_transforms": [
        "unit_power",
        "take_200"
       ]
      },
      {
       "domain_prefix": "W_",
       "domains": [
        1,
        2,
        3,
        4
       ],
       "episode_transforms": [],
       "labels": [
        "1-10",
        "1-12",
        "1-14",
        "1-16",
        "1-18",
        "1-19",
        "1-8",
        "10-11",
        "10-17",
        "10-4",
        "10-7",
        "11-1",
        "11-10",
        "11-19",
        "11-20",
        "11-4",
        "11-7",
        "12-19",
        "12-20",
        "12-7",
        "13-14",
        "13-18",
        "13-19",
        "13-20",
        "13-3",
        "13-7",
        "14-10",
        "14-11",
        "14-12",
        "14-13",
        "14-14",
        "14-19",
        "14-20",
        "14-7",
        "14-8",
        "14-9",
        "15-1",
        "15-19",
        "15-6",
        "16-1",
        "16-16",
        "16-19",
        "16-20",
        "17-10",
        "17-11",
        "18-1",
        "18-10",
        "18-11",
        "18-12",
        "18-13",
        "18-14",
        "18-15",
        "18-16",
        "18-17",
        "18-19",
        "18-2",
        "18-20",
        "18-4",
        "18-5",
        "18-7",
        "18-8",
        "18-9",
        "19-1",
        "19-10",
        "19-11",
        "19-12",
        "19-13",
        "19-14",
        "19-15",
        "19-19",
        "19-2",
        "19-20",
        "19-3",
        "19-4",
        "19-6",
        "19-7",
        "19-8",
        "19-9",
        "2-1",
        "2-13",
        "2-15",
        "2-3",
        "2-4",
        "2-5",
        "2-6",
        "2-7",
        "2-8",
        "20-1",
        "20-12",
        "20-14",
        "20-15",
        "20-16",
        "20-18",
        "20-19",
        "20-20",
        "20-3",
        "20-4",
        "20-5",
        "20-7",
        "20-8",
        "3-1",
        "3-13",
        "3-18",
        "3-2",
        "3-8",
        "4-1",
        "4-10",
        "4-11",
        "5-1",
        "5-5",
        "6-1",
        "6-15",
        "6-6",
        "7-10",
        "7-11",
        "7-12",
        "7-13",
        "7-14",
        "7-7",
        "7-8",
        "7-9",
        "8-1",
        "8-13",
        "8-14",
        "8-18",
        "8-20",
        "8-3",
        "8-8",
        "9-1",
        "9-7"
       ],
       "num_examples_per_domain_per_label": -1,
       "pickle_path": "/mnt/wd500GB/CSC500/csc500-main/datasets/wisig.node3-19.stratified_ds.2022A.pkl",
       "source_or_target_dataset": "source",
       "x_transforms": [
        "unit_power",
        "take_200"
       ]
      },
      {
       "domain_prefix": "O_",
       "domains": [
        32,
        38,
        8,
        44,
        14,
        50,
        20,
        26
       ],
       "episode_transforms": [],
       "labels": [
        "3123D52",
        "3123D65",
        "3123D79",
        "3123D80",
        "3123D54",
        "3123D70",
        "3123D7B",
        "3123D89",
        "3123D58",
        "3123D76",
        "3123D7D",
        "3123EFE",
        "3123D64",
        "3123D78",
        "3123D7E",
        "3124E4A"
       ],
       "num_examples_per_domain_per_label": 2000,
       "pickle_path": "/mnt/wd500GB/CSC500/csc500-main/datasets/oracle.Run1_framed_2000Examples_stratified_ds.2022A.pkl",
       "source_or_target_dataset": "target",
       "x_transforms": [
        "unit_power",
        "take_200",
        "resample_20Msps_to_25Msps"
       ]
      }
     ],
     "device": "cuda",
     "experiment_name": "tl_3Av2:cores+wisig -> oracle.run1.framed",
     "lr": 0.0001,
     "n_epoch": 50,
     "n_query": 2,
     "n_shot": 3,
     "n_way": 16,
     "patience": 3,
     "seed": 1337,
     "test_k_factor": 2,
     "torch_default_dtype": "torch.float32",
     "train_k_factor": 3,
     "val_k_factor": 2,
     "x_net": [
      {
       "class": "nnReshape",
       "kargs": {
        "shape": [
         -1,
         1,
         2,
         200
        ]
       }
      },
      {
       "class": "Conv2d",
       "kargs": {
        "bias": false,
        "in_channels": 1,
        "kernel_size": [
         1,
         7
        ],
        "out_channels": 256,
        "padding": [
         0,
         3
        ]
       }
      },
      {
       "class": "ReLU",
       "kargs": {
        "inplace": true
       }
      },
      {
       "class": "BatchNorm2d",
       "kargs": {
        "num_features": 256
       }
      },
      {
       "class": "Conv2d",
       "kargs": {
        "bias": true,
        "in_channels": 256,
        "kernel_size": [
         2,
         7
        ],
        "out_channels": 80,
        "padding": [
         0,
         3
        ]
       }
      },
      {
       "class": "ReLU",
       "kargs": {
        "inplace": true
       }
      },
      {
       "class": "BatchNorm2d",
       "kargs": {
        "num_features": 80
       }
      },
      {
       "class": "Flatten",
       "kargs": {}
      },
      {
       "class": "Linear",
       "kargs": {
        "in_features": 16000,
        "out_features": 256
       }
      },
      {
       "class": "ReLU",
       "kargs": {
        "inplace": true
       }
      },
      {
       "class": "BatchNorm1d",
       "kargs": {
        "num_features": 256
       }
      },
      {
       "class": "Linear",
       "kargs": {
        "in_features": 256,
        "out_features": 256
       }
      }
     ],
     "x_shape": [
      2,
      200
     ]
    }
   },
   "start_time": "2022-03-20T05:10:14.235560",
   "version": "2.3.4"
  }
 },
 "nbformat": 4,
 "nbformat_minor": 5
}