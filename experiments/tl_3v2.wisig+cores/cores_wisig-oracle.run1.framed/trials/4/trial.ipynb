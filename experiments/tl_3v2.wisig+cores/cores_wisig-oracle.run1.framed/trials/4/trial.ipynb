{
 "cells": [
  {
   "cell_type": "markdown",
   "id": "9fea5f46",
   "metadata": {
    "papermill": {
     "duration": 0.018877,
     "end_time": "2022-03-20T10:24:11.371535",
     "exception": false,
     "start_time": "2022-03-20T10:24:11.352658",
     "status": "completed"
    },
    "tags": []
   },
   "source": [
    "# Transfer Learning Template"
   ]
  },
  {
   "cell_type": "code",
   "execution_count": 1,
   "id": "0902182a",
   "metadata": {
    "execution": {
     "iopub.execute_input": "2022-03-20T10:24:11.411164Z",
     "iopub.status.busy": "2022-03-20T10:24:11.409487Z",
     "iopub.status.idle": "2022-03-20T10:24:12.403334Z",
     "shell.execute_reply": "2022-03-20T10:24:12.403783Z"
    },
    "papermill": {
     "duration": 1.019342,
     "end_time": "2022-03-20T10:24:12.403999",
     "exception": false,
     "start_time": "2022-03-20T10:24:11.384657",
     "status": "completed"
    },
    "tags": []
   },
   "outputs": [],
   "source": [
    "%load_ext autoreload\n",
    "%autoreload 2\n",
    "%matplotlib inline\n",
    "\n",
    "    \n",
    "import os, json, sys, time, random\n",
    "import numpy as np\n",
    "import torch\n",
    "from torch.optim import Adam\n",
    "from  easydict import EasyDict\n",
    "import matplotlib.pyplot as plt\n",
    "\n",
    "from steves_models.steves_ptn import Steves_Prototypical_Network\n",
    "\n",
    "from steves_utils.lazy_iterable_wrapper import Lazy_Iterable_Wrapper\n",
    "from steves_utils.iterable_aggregator import Iterable_Aggregator\n",
    "from steves_utils.ptn_train_eval_test_jig import  PTN_Train_Eval_Test_Jig\n",
    "from steves_utils.torch_sequential_builder import build_sequential\n",
    "from steves_utils.torch_utils import get_dataset_metrics, ptn_confusion_by_domain_over_dataloader\n",
    "from steves_utils.utils_v2 import (per_domain_accuracy_from_confusion, get_datasets_base_path)\n",
    "from steves_utils.PTN.utils import independent_accuracy_assesment\n",
    "\n",
    "from torch.utils.data import DataLoader\n",
    "\n",
    "from steves_utils.stratified_dataset.episodic_accessor import Episodic_Accessor_Factory\n",
    "\n",
    "from steves_utils.ptn_do_report import (\n",
    "    get_loss_curve,\n",
    "    get_results_table,\n",
    "    get_parameters_table,\n",
    "    get_domain_accuracies,\n",
    ")\n",
    "\n",
    "from steves_utils.transforms import get_chained_transform"
   ]
  },
  {
   "cell_type": "markdown",
   "id": "41c840b4",
   "metadata": {
    "papermill": {
     "duration": 0.013682,
     "end_time": "2022-03-20T10:24:12.435531",
     "exception": false,
     "start_time": "2022-03-20T10:24:12.421849",
     "status": "completed"
    },
    "tags": []
   },
   "source": [
    "# Allowed Parameters\n",
    "These are allowed parameters, not defaults\n",
    "Each of these values need to be present in the injected parameters (the notebook will raise an exception if they are not present)\n",
    "\n",
    "Papermill uses the cell tag \"parameters\" to inject the real parameters below this cell.\n",
    "Enable tags to see what I mean"
   ]
  },
  {
   "cell_type": "code",
   "execution_count": 2,
   "id": "fd44eb83",
   "metadata": {
    "execution": {
     "iopub.execute_input": "2022-03-20T10:24:12.469068Z",
     "iopub.status.busy": "2022-03-20T10:24:12.468800Z",
     "iopub.status.idle": "2022-03-20T10:24:12.481331Z",
     "shell.execute_reply": "2022-03-20T10:24:12.481736Z"
    },
    "papermill": {
     "duration": 0.033216,
     "end_time": "2022-03-20T10:24:12.481864",
     "exception": false,
     "start_time": "2022-03-20T10:24:12.448648",
     "status": "completed"
    },
    "tags": []
   },
   "outputs": [],
   "source": [
    "required_parameters = {\n",
    "    \"experiment_name\",\n",
    "    \"lr\",\n",
    "    \"device\",\n",
    "    \"seed\",\n",
    "    \"dataset_seed\",\n",
    "    \"n_shot\",\n",
    "    \"n_query\",\n",
    "    \"n_way\",\n",
    "    \"train_k_factor\",\n",
    "    \"val_k_factor\",\n",
    "    \"test_k_factor\",\n",
    "    \"n_epoch\",\n",
    "    \"patience\",\n",
    "    \"criteria_for_best\",\n",
    "    \"x_net\",\n",
    "    \"datasets\",\n",
    "    \"torch_default_dtype\",\n",
    "    \"NUM_LOGS_PER_EPOCH\",\n",
    "    \"BEST_MODEL_PATH\",\n",
    "    \"x_shape\",\n",
    "}"
   ]
  },
  {
   "cell_type": "code",
   "execution_count": 3,
   "id": "fa3f0049",
   "metadata": {
    "execution": {
     "iopub.execute_input": "2022-03-20T10:24:12.519362Z",
     "iopub.status.busy": "2022-03-20T10:24:12.514131Z",
     "iopub.status.idle": "2022-03-20T10:24:12.536644Z",
     "shell.execute_reply": "2022-03-20T10:24:12.536203Z"
    },
    "papermill": {
     "duration": 0.036967,
     "end_time": "2022-03-20T10:24:12.536754",
     "exception": false,
     "start_time": "2022-03-20T10:24:12.499787",
     "status": "completed"
    },
    "tags": [
     "parameters"
    ]
   },
   "outputs": [],
   "source": [
    "from steves_utils.CORES.utils import (\n",
    "    ALL_NODES,\n",
    "    ALL_NODES_MINIMUM_1000_EXAMPLES,\n",
    "    ALL_DAYS\n",
    ")\n",
    "\n",
    "from steves_utils.ORACLE.utils_v2 import (\n",
    "    ALL_DISTANCES_FEET_NARROWED,\n",
    "    ALL_RUNS,\n",
    "    ALL_SERIAL_NUMBERS,\n",
    ")\n",
    "\n",
    "standalone_parameters = {}\n",
    "standalone_parameters[\"experiment_name\"] = \"STANDALONE PTN\"\n",
    "standalone_parameters[\"lr\"] = 0.001\n",
    "standalone_parameters[\"device\"] = \"cuda\"\n",
    "\n",
    "standalone_parameters[\"seed\"] = 1337\n",
    "standalone_parameters[\"dataset_seed\"] = 1337\n",
    "\n",
    "standalone_parameters[\"n_way\"] = 8\n",
    "standalone_parameters[\"n_shot\"] = 3\n",
    "standalone_parameters[\"n_query\"]  = 2\n",
    "standalone_parameters[\"train_k_factor\"] = 1\n",
    "standalone_parameters[\"val_k_factor\"] = 2\n",
    "standalone_parameters[\"test_k_factor\"] = 2\n",
    "\n",
    "\n",
    "standalone_parameters[\"n_epoch\"] = 50\n",
    "\n",
    "standalone_parameters[\"patience\"] = 10\n",
    "standalone_parameters[\"criteria_for_best\"] = \"source_loss\"\n",
    "\n",
    "standalone_parameters[\"datasets\"] = [\n",
    "    {\n",
    "        \"labels\": ALL_SERIAL_NUMBERS,\n",
    "        \"domains\": ALL_DISTANCES_FEET_NARROWED,\n",
    "        \"num_examples_per_domain_per_label\": 100,\n",
    "        \"pickle_path\": os.path.join(get_datasets_base_path(), \"oracle.Run1_framed_2000Examples_stratified_ds.2022A.pkl\"),\n",
    "        \"source_or_target_dataset\": \"source\",\n",
    "        \"x_transforms\": [\"unit_mag\", \"minus_two\"],\n",
    "        \"episode_transforms\": [],\n",
    "        \"domain_prefix\": \"ORACLE_\"\n",
    "    },\n",
    "    {\n",
    "        \"labels\": ALL_NODES,\n",
    "        \"domains\": ALL_DAYS,\n",
    "        \"num_examples_per_domain_per_label\": 100,\n",
    "        \"pickle_path\": os.path.join(get_datasets_base_path(), \"cores.stratified_ds.2022A.pkl\"),\n",
    "        \"source_or_target_dataset\": \"target\",\n",
    "        \"x_transforms\": [\"unit_power\", \"times_zero\"],\n",
    "        \"episode_transforms\": [],\n",
    "        \"domain_prefix\": \"CORES_\"\n",
    "    }   \n",
    "]\n",
    "\n",
    "standalone_parameters[\"torch_default_dtype\"] = \"torch.float32\" \n",
    "\n",
    "\n",
    "\n",
    "standalone_parameters[\"x_net\"] =     [\n",
    "    {\"class\": \"nnReshape\", \"kargs\": {\"shape\":[-1, 1, 2, 256]}},\n",
    "    {\"class\": \"Conv2d\", \"kargs\": { \"in_channels\":1, \"out_channels\":256, \"kernel_size\":(1,7), \"bias\":False, \"padding\":(0,3), },},\n",
    "    {\"class\": \"ReLU\", \"kargs\": {\"inplace\": True}},\n",
    "    {\"class\": \"BatchNorm2d\", \"kargs\": {\"num_features\":256}},\n",
    "\n",
    "    {\"class\": \"Conv2d\", \"kargs\": { \"in_channels\":256, \"out_channels\":80, \"kernel_size\":(2,7), \"bias\":True, \"padding\":(0,3), },},\n",
    "    {\"class\": \"ReLU\", \"kargs\": {\"inplace\": True}},\n",
    "    {\"class\": \"BatchNorm2d\", \"kargs\": {\"num_features\":80}},\n",
    "    {\"class\": \"Flatten\", \"kargs\": {}},\n",
    "\n",
    "    {\"class\": \"Linear\", \"kargs\": {\"in_features\": 80*256, \"out_features\": 256}}, # 80 units per IQ pair\n",
    "    {\"class\": \"ReLU\", \"kargs\": {\"inplace\": True}},\n",
    "    {\"class\": \"BatchNorm1d\", \"kargs\": {\"num_features\":256}},\n",
    "\n",
    "    {\"class\": \"Linear\", \"kargs\": {\"in_features\": 256, \"out_features\": 256}},\n",
    "]\n",
    "\n",
    "# Parameters relevant to results\n",
    "# These parameters will basically never need to change\n",
    "standalone_parameters[\"NUM_LOGS_PER_EPOCH\"] = 10\n",
    "standalone_parameters[\"BEST_MODEL_PATH\"] = \"./best_model.pth\"\n",
    "\n",
    "\n",
    "\n",
    "\n"
   ]
  },
  {
   "cell_type": "code",
   "execution_count": 4,
   "id": "99733e7f",
   "metadata": {
    "execution": {
     "iopub.execute_input": "2022-03-20T10:24:12.582988Z",
     "iopub.status.busy": "2022-03-20T10:24:12.582646Z",
     "iopub.status.idle": "2022-03-20T10:24:12.596830Z",
     "shell.execute_reply": "2022-03-20T10:24:12.596337Z"
    },
    "papermill": {
     "duration": 0.041232,
     "end_time": "2022-03-20T10:24:12.596934",
     "exception": false,
     "start_time": "2022-03-20T10:24:12.555702",
     "status": "completed"
    },
    "tags": [
     "injected-parameters"
    ]
   },
   "outputs": [],
   "source": [
    "# Parameters\n",
    "parameters = {\n",
    "    \"experiment_name\": \"tl_3Av2:cores+wisig -> oracle.run1.framed\",\n",
    "    \"device\": \"cuda\",\n",
    "    \"lr\": 0.0001,\n",
    "    \"x_shape\": [2, 200],\n",
    "    \"n_shot\": 3,\n",
    "    \"n_query\": 2,\n",
    "    \"train_k_factor\": 3,\n",
    "    \"val_k_factor\": 2,\n",
    "    \"test_k_factor\": 2,\n",
    "    \"torch_default_dtype\": \"torch.float32\",\n",
    "    \"n_epoch\": 50,\n",
    "    \"patience\": 3,\n",
    "    \"criteria_for_best\": \"target_accuracy\",\n",
    "    \"x_net\": [\n",
    "        {\"class\": \"nnReshape\", \"kargs\": {\"shape\": [-1, 1, 2, 200]}},\n",
    "        {\n",
    "            \"class\": \"Conv2d\",\n",
    "            \"kargs\": {\n",
    "                \"in_channels\": 1,\n",
    "                \"out_channels\": 256,\n",
    "                \"kernel_size\": [1, 7],\n",
    "                \"bias\": False,\n",
    "                \"padding\": [0, 3],\n",
    "            },\n",
    "        },\n",
    "        {\"class\": \"ReLU\", \"kargs\": {\"inplace\": True}},\n",
    "        {\"class\": \"BatchNorm2d\", \"kargs\": {\"num_features\": 256}},\n",
    "        {\n",
    "            \"class\": \"Conv2d\",\n",
    "            \"kargs\": {\n",
    "                \"in_channels\": 256,\n",
    "                \"out_channels\": 80,\n",
    "                \"kernel_size\": [2, 7],\n",
    "                \"bias\": True,\n",
    "                \"padding\": [0, 3],\n",
    "            },\n",
    "        },\n",
    "        {\"class\": \"ReLU\", \"kargs\": {\"inplace\": True}},\n",
    "        {\"class\": \"BatchNorm2d\", \"kargs\": {\"num_features\": 80}},\n",
    "        {\"class\": \"Flatten\", \"kargs\": {}},\n",
    "        {\"class\": \"Linear\", \"kargs\": {\"in_features\": 16000, \"out_features\": 256}},\n",
    "        {\"class\": \"ReLU\", \"kargs\": {\"inplace\": True}},\n",
    "        {\"class\": \"BatchNorm1d\", \"kargs\": {\"num_features\": 256}},\n",
    "        {\"class\": \"Linear\", \"kargs\": {\"in_features\": 256, \"out_features\": 256}},\n",
    "    ],\n",
    "    \"NUM_LOGS_PER_EPOCH\": 10,\n",
    "    \"BEST_MODEL_PATH\": \"./best_model.pth\",\n",
    "    \"n_way\": 16,\n",
    "    \"datasets\": [\n",
    "        {\n",
    "            \"labels\": [\n",
    "                \"1-10.\",\n",
    "                \"1-11.\",\n",
    "                \"1-15.\",\n",
    "                \"1-16.\",\n",
    "                \"1-17.\",\n",
    "                \"1-18.\",\n",
    "                \"1-19.\",\n",
    "                \"10-4.\",\n",
    "                \"10-7.\",\n",
    "                \"11-1.\",\n",
    "                \"11-14.\",\n",
    "                \"11-17.\",\n",
    "                \"11-20.\",\n",
    "                \"11-7.\",\n",
    "                \"13-20.\",\n",
    "                \"13-8.\",\n",
    "                \"14-10.\",\n",
    "                \"14-11.\",\n",
    "                \"14-14.\",\n",
    "                \"14-7.\",\n",
    "                \"15-1.\",\n",
    "                \"15-20.\",\n",
    "                \"16-1.\",\n",
    "                \"16-16.\",\n",
    "                \"17-10.\",\n",
    "                \"17-11.\",\n",
    "                \"17-2.\",\n",
    "                \"19-1.\",\n",
    "                \"19-16.\",\n",
    "                \"19-19.\",\n",
    "                \"19-20.\",\n",
    "                \"19-3.\",\n",
    "                \"2-10.\",\n",
    "                \"2-11.\",\n",
    "                \"2-17.\",\n",
    "                \"2-18.\",\n",
    "                \"2-20.\",\n",
    "                \"2-3.\",\n",
    "                \"2-4.\",\n",
    "                \"2-5.\",\n",
    "                \"2-6.\",\n",
    "                \"2-7.\",\n",
    "                \"2-8.\",\n",
    "                \"3-13.\",\n",
    "                \"3-18.\",\n",
    "                \"3-3.\",\n",
    "                \"4-1.\",\n",
    "                \"4-10.\",\n",
    "                \"4-11.\",\n",
    "                \"4-19.\",\n",
    "                \"5-5.\",\n",
    "                \"6-15.\",\n",
    "                \"7-10.\",\n",
    "                \"7-14.\",\n",
    "                \"8-18.\",\n",
    "                \"8-20.\",\n",
    "                \"8-3.\",\n",
    "                \"8-8.\",\n",
    "            ],\n",
    "            \"domains\": [1, 2, 3, 4, 5],\n",
    "            \"num_examples_per_domain_per_label\": -1,\n",
    "            \"pickle_path\": \"/mnt/wd500GB/CSC500/csc500-main/datasets/cores.stratified_ds.2022A.pkl\",\n",
    "            \"source_or_target_dataset\": \"source\",\n",
    "            \"x_transforms\": [\"unit_mag\", \"take_200\"],\n",
    "            \"episode_transforms\": [],\n",
    "            \"domain_prefix\": \"C_\",\n",
    "        },\n",
    "        {\n",
    "            \"labels\": [\n",
    "                \"1-10\",\n",
    "                \"1-12\",\n",
    "                \"1-14\",\n",
    "                \"1-16\",\n",
    "                \"1-18\",\n",
    "                \"1-19\",\n",
    "                \"1-8\",\n",
    "                \"10-11\",\n",
    "                \"10-17\",\n",
    "                \"10-4\",\n",
    "                \"10-7\",\n",
    "                \"11-1\",\n",
    "                \"11-10\",\n",
    "                \"11-19\",\n",
    "                \"11-20\",\n",
    "                \"11-4\",\n",
    "                \"11-7\",\n",
    "                \"12-19\",\n",
    "                \"12-20\",\n",
    "                \"12-7\",\n",
    "                \"13-14\",\n",
    "                \"13-18\",\n",
    "                \"13-19\",\n",
    "                \"13-20\",\n",
    "                \"13-3\",\n",
    "                \"13-7\",\n",
    "                \"14-10\",\n",
    "                \"14-11\",\n",
    "                \"14-12\",\n",
    "                \"14-13\",\n",
    "                \"14-14\",\n",
    "                \"14-19\",\n",
    "                \"14-20\",\n",
    "                \"14-7\",\n",
    "                \"14-8\",\n",
    "                \"14-9\",\n",
    "                \"15-1\",\n",
    "                \"15-19\",\n",
    "                \"15-6\",\n",
    "                \"16-1\",\n",
    "                \"16-16\",\n",
    "                \"16-19\",\n",
    "                \"16-20\",\n",
    "                \"17-10\",\n",
    "                \"17-11\",\n",
    "                \"18-1\",\n",
    "                \"18-10\",\n",
    "                \"18-11\",\n",
    "                \"18-12\",\n",
    "                \"18-13\",\n",
    "                \"18-14\",\n",
    "                \"18-15\",\n",
    "                \"18-16\",\n",
    "                \"18-17\",\n",
    "                \"18-19\",\n",
    "                \"18-2\",\n",
    "                \"18-20\",\n",
    "                \"18-4\",\n",
    "                \"18-5\",\n",
    "                \"18-7\",\n",
    "                \"18-8\",\n",
    "                \"18-9\",\n",
    "                \"19-1\",\n",
    "                \"19-10\",\n",
    "                \"19-11\",\n",
    "                \"19-12\",\n",
    "                \"19-13\",\n",
    "                \"19-14\",\n",
    "                \"19-15\",\n",
    "                \"19-19\",\n",
    "                \"19-2\",\n",
    "                \"19-20\",\n",
    "                \"19-3\",\n",
    "                \"19-4\",\n",
    "                \"19-6\",\n",
    "                \"19-7\",\n",
    "                \"19-8\",\n",
    "                \"19-9\",\n",
    "                \"2-1\",\n",
    "                \"2-13\",\n",
    "                \"2-15\",\n",
    "                \"2-3\",\n",
    "                \"2-4\",\n",
    "                \"2-5\",\n",
    "                \"2-6\",\n",
    "                \"2-7\",\n",
    "                \"2-8\",\n",
    "                \"20-1\",\n",
    "                \"20-12\",\n",
    "                \"20-14\",\n",
    "                \"20-15\",\n",
    "                \"20-16\",\n",
    "                \"20-18\",\n",
    "                \"20-19\",\n",
    "                \"20-20\",\n",
    "                \"20-3\",\n",
    "                \"20-4\",\n",
    "                \"20-5\",\n",
    "                \"20-7\",\n",
    "                \"20-8\",\n",
    "                \"3-1\",\n",
    "                \"3-13\",\n",
    "                \"3-18\",\n",
    "                \"3-2\",\n",
    "                \"3-8\",\n",
    "                \"4-1\",\n",
    "                \"4-10\",\n",
    "                \"4-11\",\n",
    "                \"5-1\",\n",
    "                \"5-5\",\n",
    "                \"6-1\",\n",
    "                \"6-15\",\n",
    "                \"6-6\",\n",
    "                \"7-10\",\n",
    "                \"7-11\",\n",
    "                \"7-12\",\n",
    "                \"7-13\",\n",
    "                \"7-14\",\n",
    "                \"7-7\",\n",
    "                \"7-8\",\n",
    "                \"7-9\",\n",
    "                \"8-1\",\n",
    "                \"8-13\",\n",
    "                \"8-14\",\n",
    "                \"8-18\",\n",
    "                \"8-20\",\n",
    "                \"8-3\",\n",
    "                \"8-8\",\n",
    "                \"9-1\",\n",
    "                \"9-7\",\n",
    "            ],\n",
    "            \"domains\": [1, 2, 3, 4],\n",
    "            \"num_examples_per_domain_per_label\": -1,\n",
    "            \"pickle_path\": \"/mnt/wd500GB/CSC500/csc500-main/datasets/wisig.node3-19.stratified_ds.2022A.pkl\",\n",
    "            \"source_or_target_dataset\": \"source\",\n",
    "            \"x_transforms\": [\"unit_mag\", \"take_200\"],\n",
    "            \"episode_transforms\": [],\n",
    "            \"domain_prefix\": \"W_\",\n",
    "        },\n",
    "        {\n",
    "            \"labels\": [\n",
    "                \"3123D52\",\n",
    "                \"3123D65\",\n",
    "                \"3123D79\",\n",
    "                \"3123D80\",\n",
    "                \"3123D54\",\n",
    "                \"3123D70\",\n",
    "                \"3123D7B\",\n",
    "                \"3123D89\",\n",
    "                \"3123D58\",\n",
    "                \"3123D76\",\n",
    "                \"3123D7D\",\n",
    "                \"3123EFE\",\n",
    "                \"3123D64\",\n",
    "                \"3123D78\",\n",
    "                \"3123D7E\",\n",
    "                \"3124E4A\",\n",
    "            ],\n",
    "            \"domains\": [32, 38, 8, 44, 14, 50, 20, 26],\n",
    "            \"num_examples_per_domain_per_label\": 2000,\n",
    "            \"pickle_path\": \"/mnt/wd500GB/CSC500/csc500-main/datasets/oracle.Run1_framed_2000Examples_stratified_ds.2022A.pkl\",\n",
    "            \"source_or_target_dataset\": \"target\",\n",
    "            \"x_transforms\": [\"unit_mag\", \"take_200\", \"resample_20Msps_to_25Msps\"],\n",
    "            \"episode_transforms\": [],\n",
    "            \"domain_prefix\": \"O_\",\n",
    "        },\n",
    "    ],\n",
    "    \"seed\": 420,\n",
    "    \"dataset_seed\": 420,\n",
    "}\n"
   ]
  },
  {
   "cell_type": "code",
   "execution_count": 5,
   "id": "8fa1cc33",
   "metadata": {
    "execution": {
     "iopub.execute_input": "2022-03-20T10:24:12.634599Z",
     "iopub.status.busy": "2022-03-20T10:24:12.634091Z",
     "iopub.status.idle": "2022-03-20T10:24:12.647966Z",
     "shell.execute_reply": "2022-03-20T10:24:12.647495Z"
    },
    "papermill": {
     "duration": 0.031437,
     "end_time": "2022-03-20T10:24:12.648074",
     "exception": false,
     "start_time": "2022-03-20T10:24:12.616637",
     "status": "completed"
    },
    "tags": []
   },
   "outputs": [],
   "source": [
    "# Set this to True if you want to run this template directly\n",
    "STANDALONE = False\n",
    "if STANDALONE:\n",
    "    print(\"parameters not injected, running with standalone_parameters\")\n",
    "    parameters = standalone_parameters\n",
    "\n",
    "if not 'parameters' in locals() and not 'parameters' in globals():\n",
    "    raise Exception(\"Parameter injection failed\")\n",
    "\n",
    "#Use an easy dict for all the parameters\n",
    "p = EasyDict(parameters)\n",
    "\n",
    "if \"x_shape\" not in p:\n",
    "    p.x_shape = [2,256] # Default to this if we dont supply x_shape\n",
    "\n",
    "\n",
    "supplied_keys = set(p.keys())\n",
    "\n",
    "if  supplied_keys != required_parameters:\n",
    "    print(\"Parameters are incorrect\")\n",
    "    if len(supplied_keys - required_parameters)>0: print(\"Shouldn't have:\", str(supplied_keys - required_parameters))\n",
    "    if len(required_parameters - supplied_keys)>0: print(\"Need to have:\", str(required_parameters - supplied_keys))\n",
    "    raise RuntimeError(\"Parameters are incorrect\")"
   ]
  },
  {
   "cell_type": "code",
   "execution_count": 6,
   "id": "3a028d58",
   "metadata": {
    "execution": {
     "iopub.execute_input": "2022-03-20T10:24:12.682390Z",
     "iopub.status.busy": "2022-03-20T10:24:12.682124Z",
     "iopub.status.idle": "2022-03-20T10:24:12.693541Z",
     "shell.execute_reply": "2022-03-20T10:24:12.693961Z"
    },
    "papermill": {
     "duration": 0.026735,
     "end_time": "2022-03-20T10:24:12.694096",
     "exception": false,
     "start_time": "2022-03-20T10:24:12.667361",
     "status": "completed"
    },
    "tags": []
   },
   "outputs": [],
   "source": [
    "###################################\n",
    "# Set the RNGs and make it all deterministic\n",
    "###################################\n",
    "np.random.seed(p.seed)\n",
    "random.seed(p.seed)\n",
    "torch.manual_seed(p.seed)\n",
    "\n",
    "torch.use_deterministic_algorithms(True) "
   ]
  },
  {
   "cell_type": "code",
   "execution_count": 7,
   "id": "b691acf6",
   "metadata": {
    "execution": {
     "iopub.execute_input": "2022-03-20T10:24:12.727270Z",
     "iopub.status.busy": "2022-03-20T10:24:12.726413Z",
     "iopub.status.idle": "2022-03-20T10:24:12.745793Z",
     "shell.execute_reply": "2022-03-20T10:24:12.745356Z"
    },
    "papermill": {
     "duration": 0.034767,
     "end_time": "2022-03-20T10:24:12.745896",
     "exception": false,
     "start_time": "2022-03-20T10:24:12.711129",
     "status": "completed"
    },
    "tags": []
   },
   "outputs": [],
   "source": [
    "###########################################\n",
    "# The stratified datasets honor this\n",
    "###########################################\n",
    "torch.set_default_dtype(eval(p.torch_default_dtype))"
   ]
  },
  {
   "cell_type": "code",
   "execution_count": 8,
   "id": "b5fba671",
   "metadata": {
    "execution": {
     "iopub.execute_input": "2022-03-20T10:24:12.782212Z",
     "iopub.status.busy": "2022-03-20T10:24:12.781952Z",
     "iopub.status.idle": "2022-03-20T10:24:12.816789Z",
     "shell.execute_reply": "2022-03-20T10:24:12.816265Z"
    },
    "papermill": {
     "duration": 0.051347,
     "end_time": "2022-03-20T10:24:12.816898",
     "exception": false,
     "start_time": "2022-03-20T10:24:12.765551",
     "status": "completed"
    },
    "tags": []
   },
   "outputs": [],
   "source": [
    "###################################\n",
    "# Build the network(s)\n",
    "# Note: It's critical to do this AFTER setting the RNG\n",
    "###################################\n",
    "x_net = build_sequential(p.x_net)"
   ]
  },
  {
   "cell_type": "code",
   "execution_count": 9,
   "id": "5d7e61cc",
   "metadata": {
    "execution": {
     "iopub.execute_input": "2022-03-20T10:24:12.851911Z",
     "iopub.status.busy": "2022-03-20T10:24:12.851646Z",
     "iopub.status.idle": "2022-03-20T10:24:12.865297Z",
     "shell.execute_reply": "2022-03-20T10:24:12.865711Z"
    },
    "papermill": {
     "duration": 0.029536,
     "end_time": "2022-03-20T10:24:12.865837",
     "exception": false,
     "start_time": "2022-03-20T10:24:12.836301",
     "status": "completed"
    },
    "tags": []
   },
   "outputs": [],
   "source": [
    "start_time_secs = time.time()"
   ]
  },
  {
   "cell_type": "code",
   "execution_count": 10,
   "id": "c6b67dfd",
   "metadata": {
    "execution": {
     "iopub.execute_input": "2022-03-20T10:24:12.899063Z",
     "iopub.status.busy": "2022-03-20T10:24:12.898799Z",
     "iopub.status.idle": "2022-03-20T10:24:12.914497Z",
     "shell.execute_reply": "2022-03-20T10:24:12.914066Z"
    },
    "papermill": {
     "duration": 0.031756,
     "end_time": "2022-03-20T10:24:12.914598",
     "exception": false,
     "start_time": "2022-03-20T10:24:12.882842",
     "status": "completed"
    },
    "tags": []
   },
   "outputs": [],
   "source": [
    "p.domains_source = []\n",
    "p.domains_target = []\n",
    "\n",
    "\n",
    "train_original_source = []\n",
    "val_original_source   = []\n",
    "test_original_source  = []\n",
    "\n",
    "train_original_target = []\n",
    "val_original_target   = []\n",
    "test_original_target  = []"
   ]
  },
  {
   "cell_type": "code",
   "execution_count": 11,
   "id": "e3d9c3d3",
   "metadata": {
    "execution": {
     "iopub.execute_input": "2022-03-20T10:24:12.949050Z",
     "iopub.status.busy": "2022-03-20T10:24:12.948792Z",
     "iopub.status.idle": "2022-03-20T10:24:12.964192Z",
     "shell.execute_reply": "2022-03-20T10:24:12.963952Z"
    },
    "papermill": {
     "duration": 0.030742,
     "end_time": "2022-03-20T10:24:12.964255",
     "exception": false,
     "start_time": "2022-03-20T10:24:12.933513",
     "status": "completed"
    },
    "tags": []
   },
   "outputs": [],
   "source": [
    "# global_x_transform_func = lambda x: normalize(x.to(torch.get_default_dtype()), \"unit_power\") # unit_power, unit_mag\n",
    "# global_x_transform_func = lambda x: normalize(x, \"unit_power\") # unit_power, unit_mag"
   ]
  },
  {
   "cell_type": "code",
   "execution_count": 12,
   "id": "acb78fd2",
   "metadata": {
    "execution": {
     "iopub.execute_input": "2022-03-20T10:24:12.998173Z",
     "iopub.status.busy": "2022-03-20T10:24:12.993494Z",
     "iopub.status.idle": "2022-03-20T10:24:13.011654Z",
     "shell.execute_reply": "2022-03-20T10:24:13.012084Z"
    },
    "papermill": {
     "duration": 0.034008,
     "end_time": "2022-03-20T10:24:13.012216",
     "exception": false,
     "start_time": "2022-03-20T10:24:12.978208",
     "status": "completed"
    },
    "tags": []
   },
   "outputs": [],
   "source": [
    "def add_dataset(\n",
    "    labels,\n",
    "    domains,\n",
    "    pickle_path,\n",
    "    x_transforms,\n",
    "    episode_transforms,\n",
    "    domain_prefix,\n",
    "    num_examples_per_domain_per_label,\n",
    "    source_or_target_dataset:str,\n",
    "    iterator_seed=p.seed,\n",
    "    dataset_seed=p.dataset_seed,\n",
    "    n_shot=p.n_shot,\n",
    "    n_way=p.n_way,\n",
    "    n_query=p.n_query,\n",
    "    train_val_test_k_factors=(p.train_k_factor,p.val_k_factor,p.test_k_factor),\n",
    "):\n",
    "   \n",
    "    if x_transforms == []: x_transform = None\n",
    "    else: x_transform = get_chained_transform(x_transforms)\n",
    "    \n",
    "    if episode_transforms == []: episode_transform = None\n",
    "    else: raise Exception(\"episode_transforms not implemented\")\n",
    "    \n",
    "    episode_transform = lambda tup, _prefix=domain_prefix: (_prefix + str(tup[0]), tup[1])\n",
    "\n",
    "\n",
    "    eaf = Episodic_Accessor_Factory(\n",
    "        labels=labels,\n",
    "        domains=domains,\n",
    "        num_examples_per_domain_per_label=num_examples_per_domain_per_label,\n",
    "        iterator_seed=iterator_seed,\n",
    "        dataset_seed=dataset_seed,\n",
    "        n_shot=n_shot,\n",
    "        n_way=n_way,\n",
    "        n_query=n_query,\n",
    "        train_val_test_k_factors=train_val_test_k_factors,\n",
    "        pickle_path=pickle_path,\n",
    "        x_transform_func=x_transform,\n",
    "    )\n",
    "\n",
    "    train, val, test = eaf.get_train(), eaf.get_val(), eaf.get_test()\n",
    "    train = Lazy_Iterable_Wrapper(train, episode_transform)\n",
    "    val = Lazy_Iterable_Wrapper(val, episode_transform)\n",
    "    test = Lazy_Iterable_Wrapper(test, episode_transform)\n",
    "\n",
    "    if source_or_target_dataset==\"source\":\n",
    "        train_original_source.append(train)\n",
    "        val_original_source.append(val)\n",
    "        test_original_source.append(test)\n",
    "\n",
    "        p.domains_source.extend(\n",
    "            [domain_prefix + str(u) for u in domains]\n",
    "        )\n",
    "    elif source_or_target_dataset==\"target\":\n",
    "        train_original_target.append(train)\n",
    "        val_original_target.append(val)\n",
    "        test_original_target.append(test)\n",
    "        p.domains_target.extend(\n",
    "            [domain_prefix + str(u) for u in domains]\n",
    "        )\n",
    "    else:\n",
    "        raise Exception(f\"invalid source_or_target_dataset: {source_or_target_dataset}\")\n",
    "    "
   ]
  },
  {
   "cell_type": "code",
   "execution_count": 13,
   "id": "fe266617",
   "metadata": {
    "execution": {
     "iopub.execute_input": "2022-03-20T10:24:13.047736Z",
     "iopub.status.busy": "2022-03-20T10:24:13.047147Z",
     "iopub.status.idle": "2022-03-20T10:25:21.354617Z",
     "shell.execute_reply": "2022-03-20T10:25:21.354158Z"
    },
    "papermill": {
     "duration": 68.322881,
     "end_time": "2022-03-20T10:25:21.354728",
     "exception": false,
     "start_time": "2022-03-20T10:24:13.031847",
     "status": "completed"
    },
    "tags": []
   },
   "outputs": [],
   "source": [
    "for ds in p.datasets:\n",
    "    add_dataset(**ds)"
   ]
  },
  {
   "cell_type": "code",
   "execution_count": 14,
   "id": "b90d65ac",
   "metadata": {
    "execution": {
     "iopub.execute_input": "2022-03-20T10:25:21.391069Z",
     "iopub.status.busy": "2022-03-20T10:25:21.390717Z",
     "iopub.status.idle": "2022-03-20T10:25:21.406244Z",
     "shell.execute_reply": "2022-03-20T10:25:21.405719Z"
    },
    "papermill": {
     "duration": 0.032369,
     "end_time": "2022-03-20T10:25:21.406360",
     "exception": false,
     "start_time": "2022-03-20T10:25:21.373991",
     "status": "completed"
    },
    "tags": []
   },
   "outputs": [],
   "source": [
    "# from steves_utils.CORES.utils import (\n",
    "#     ALL_NODES,\n",
    "#     ALL_NODES_MINIMUM_1000_EXAMPLES,\n",
    "#     ALL_DAYS\n",
    "# )\n",
    "\n",
    "# add_dataset(\n",
    "#     labels=ALL_NODES,\n",
    "#     domains = ALL_DAYS,\n",
    "#     num_examples_per_domain_per_label=100,\n",
    "#     pickle_path=os.path.join(get_datasets_base_path(), \"cores.stratified_ds.2022A.pkl\"),\n",
    "#     source_or_target_dataset=\"target\",\n",
    "#     x_transform_func=global_x_transform_func,\n",
    "#     domain_modifier=lambda u: f\"cores_{u}\"\n",
    "# )"
   ]
  },
  {
   "cell_type": "code",
   "execution_count": 15,
   "id": "76db484d",
   "metadata": {
    "execution": {
     "iopub.execute_input": "2022-03-20T10:25:21.446270Z",
     "iopub.status.busy": "2022-03-20T10:25:21.444253Z",
     "iopub.status.idle": "2022-03-20T10:25:21.457248Z",
     "shell.execute_reply": "2022-03-20T10:25:21.456895Z"
    },
    "papermill": {
     "duration": 0.031598,
     "end_time": "2022-03-20T10:25:21.457331",
     "exception": false,
     "start_time": "2022-03-20T10:25:21.425733",
     "status": "completed"
    },
    "tags": []
   },
   "outputs": [],
   "source": [
    "# from steves_utils.ORACLE.utils_v2 import (\n",
    "#     ALL_DISTANCES_FEET,\n",
    "#     ALL_RUNS,\n",
    "#     ALL_SERIAL_NUMBERS,\n",
    "# )\n",
    "\n",
    "\n",
    "# add_dataset(\n",
    "#     labels=ALL_SERIAL_NUMBERS,\n",
    "#     domains = list(set(ALL_DISTANCES_FEET) - {2,62}),\n",
    "#     num_examples_per_domain_per_label=100,\n",
    "#     pickle_path=os.path.join(get_datasets_base_path(), \"oracle.Run2_framed_2000Examples_stratified_ds.2022A.pkl\"),\n",
    "#     source_or_target_dataset=\"source\",\n",
    "#     x_transform_func=global_x_transform_func,\n",
    "#     domain_modifier=lambda u: f\"oracle1_{u}\"\n",
    "# )\n"
   ]
  },
  {
   "cell_type": "code",
   "execution_count": 16,
   "id": "97dea9d2",
   "metadata": {
    "execution": {
     "iopub.execute_input": "2022-03-20T10:25:21.494702Z",
     "iopub.status.busy": "2022-03-20T10:25:21.494253Z",
     "iopub.status.idle": "2022-03-20T10:25:21.508702Z",
     "shell.execute_reply": "2022-03-20T10:25:21.508347Z"
    },
    "papermill": {
     "duration": 0.031413,
     "end_time": "2022-03-20T10:25:21.508804",
     "exception": false,
     "start_time": "2022-03-20T10:25:21.477391",
     "status": "completed"
    },
    "tags": []
   },
   "outputs": [],
   "source": [
    "# from steves_utils.ORACLE.utils_v2 import (\n",
    "#     ALL_DISTANCES_FEET,\n",
    "#     ALL_RUNS,\n",
    "#     ALL_SERIAL_NUMBERS,\n",
    "# )\n",
    "\n",
    "\n",
    "# add_dataset(\n",
    "#     labels=ALL_SERIAL_NUMBERS,\n",
    "#     domains = list(set(ALL_DISTANCES_FEET) - {2,62,56}),\n",
    "#     num_examples_per_domain_per_label=100,\n",
    "#     pickle_path=os.path.join(get_datasets_base_path(), \"oracle.Run2_framed_2000Examples_stratified_ds.2022A.pkl\"),\n",
    "#     source_or_target_dataset=\"source\",\n",
    "#     x_transform_func=global_x_transform_func,\n",
    "#     domain_modifier=lambda u: f\"oracle2_{u}\"\n",
    "# )"
   ]
  },
  {
   "cell_type": "code",
   "execution_count": 17,
   "id": "6f289866",
   "metadata": {
    "execution": {
     "iopub.execute_input": "2022-03-20T10:25:21.546607Z",
     "iopub.status.busy": "2022-03-20T10:25:21.546337Z",
     "iopub.status.idle": "2022-03-20T10:25:21.560117Z",
     "shell.execute_reply": "2022-03-20T10:25:21.560552Z"
    },
    "papermill": {
     "duration": 0.031332,
     "end_time": "2022-03-20T10:25:21.560679",
     "exception": false,
     "start_time": "2022-03-20T10:25:21.529347",
     "status": "completed"
    },
    "tags": []
   },
   "outputs": [],
   "source": [
    "# add_dataset(\n",
    "#     labels=list(range(19)),\n",
    "#     domains = [0,1,2],\n",
    "#     num_examples_per_domain_per_label=100,\n",
    "#     pickle_path=os.path.join(get_datasets_base_path(), \"metehan.stratified_ds.2022A.pkl\"),\n",
    "#     source_or_target_dataset=\"target\",\n",
    "#     x_transform_func=global_x_transform_func,\n",
    "#     domain_modifier=lambda u: f\"met_{u}\"\n",
    "# )"
   ]
  },
  {
   "cell_type": "code",
   "execution_count": 18,
   "id": "86a863c3",
   "metadata": {
    "execution": {
     "iopub.execute_input": "2022-03-20T10:25:21.599626Z",
     "iopub.status.busy": "2022-03-20T10:25:21.598055Z",
     "iopub.status.idle": "2022-03-20T10:25:21.612853Z",
     "shell.execute_reply": "2022-03-20T10:25:21.612407Z"
    },
    "papermill": {
     "duration": 0.03171,
     "end_time": "2022-03-20T10:25:21.612958",
     "exception": false,
     "start_time": "2022-03-20T10:25:21.581248",
     "status": "completed"
    },
    "tags": []
   },
   "outputs": [],
   "source": [
    "# # from steves_utils.wisig.utils import (\n",
    "# #     ALL_NODES_MINIMUM_100_EXAMPLES,\n",
    "# #     ALL_NODES_MINIMUM_500_EXAMPLES,\n",
    "# #     ALL_NODES_MINIMUM_1000_EXAMPLES,\n",
    "# #     ALL_DAYS\n",
    "# # )\n",
    "\n",
    "# import steves_utils.wisig.utils as wisig\n",
    "\n",
    "\n",
    "# add_dataset(\n",
    "#     labels=wisig.ALL_NODES_MINIMUM_100_EXAMPLES,\n",
    "#     domains = wisig.ALL_DAYS,\n",
    "#     num_examples_per_domain_per_label=100,\n",
    "#     pickle_path=os.path.join(get_datasets_base_path(), \"wisig.node3-19.stratified_ds.2022A.pkl\"),\n",
    "#     source_or_target_dataset=\"target\",\n",
    "#     x_transform_func=global_x_transform_func,\n",
    "#     domain_modifier=lambda u: f\"wisig_{u}\"\n",
    "# )"
   ]
  },
  {
   "cell_type": "code",
   "execution_count": 19,
   "id": "fd5442bc",
   "metadata": {
    "execution": {
     "iopub.execute_input": "2022-03-20T10:25:21.659632Z",
     "iopub.status.busy": "2022-03-20T10:25:21.657271Z",
     "iopub.status.idle": "2022-03-20T10:25:21.667064Z",
     "shell.execute_reply": "2022-03-20T10:25:21.666652Z"
    },
    "papermill": {
     "duration": 0.033925,
     "end_time": "2022-03-20T10:25:21.667155",
     "exception": false,
     "start_time": "2022-03-20T10:25:21.633230",
     "status": "completed"
    },
    "tags": []
   },
   "outputs": [],
   "source": [
    "###################################\n",
    "# Build the dataset\n",
    "###################################\n",
    "train_original_source = Iterable_Aggregator(train_original_source, p.seed)\n",
    "val_original_source = Iterable_Aggregator(val_original_source, p.seed)\n",
    "test_original_source = Iterable_Aggregator(test_original_source, p.seed)\n",
    "\n",
    "\n",
    "train_original_target = Iterable_Aggregator(train_original_target, p.seed)\n",
    "val_original_target = Iterable_Aggregator(val_original_target, p.seed)\n",
    "test_original_target = Iterable_Aggregator(test_original_target, p.seed)\n",
    "\n",
    "# For CNN We only use X and Y. And we only train on the source.\n",
    "# Properly form the data using a transform lambda and Lazy_Iterable_Wrapper. Finally wrap them in a dataloader\n",
    "\n",
    "transform_lambda = lambda ex: ex[1] # Original is (<domain>, <episode>) so we strip down to episode only\n",
    "\n",
    "train_processed_source = Lazy_Iterable_Wrapper(train_original_source, transform_lambda)\n",
    "val_processed_source   = Lazy_Iterable_Wrapper(val_original_source, transform_lambda)\n",
    "test_processed_source  = Lazy_Iterable_Wrapper(test_original_source, transform_lambda)\n",
    "\n",
    "train_processed_target = Lazy_Iterable_Wrapper(train_original_target, transform_lambda)\n",
    "val_processed_target   = Lazy_Iterable_Wrapper(val_original_target, transform_lambda)\n",
    "test_processed_target  = Lazy_Iterable_Wrapper(test_original_target, transform_lambda)\n",
    "\n",
    "datasets = EasyDict({\n",
    "    \"source\": {\n",
    "        \"original\": {\"train\":train_original_source, \"val\":val_original_source, \"test\":test_original_source},\n",
    "        \"processed\": {\"train\":train_processed_source, \"val\":val_processed_source, \"test\":test_processed_source}\n",
    "    },\n",
    "    \"target\": {\n",
    "        \"original\": {\"train\":train_original_target, \"val\":val_original_target, \"test\":test_original_target},\n",
    "        \"processed\": {\"train\":train_processed_target, \"val\":val_processed_target, \"test\":test_processed_target}\n",
    "    },\n",
    "})"
   ]
  },
  {
   "cell_type": "code",
   "execution_count": 20,
   "id": "5b3c01fc",
   "metadata": {
    "execution": {
     "iopub.execute_input": "2022-03-20T10:25:21.704594Z",
     "iopub.status.busy": "2022-03-20T10:25:21.704317Z",
     "iopub.status.idle": "2022-03-20T10:25:31.358500Z",
     "shell.execute_reply": "2022-03-20T10:25:31.358820Z"
    },
    "papermill": {
     "duration": 9.673978,
     "end_time": "2022-03-20T10:25:31.358926",
     "exception": false,
     "start_time": "2022-03-20T10:25:21.684948",
     "status": "completed"
    },
    "tags": []
   },
   "outputs": [
    {
     "name": "stdout",
     "output_type": "stream",
     "text": [
      "{'W_2', 'C_1', 'W_3', 'C_2', 'C_5', 'C_4', 'C_3', 'W_4', 'W_1'}\n"
     ]
    },
    {
     "name": "stdout",
     "output_type": "stream",
     "text": [
      "{'O_38', 'O_14', 'O_44', 'O_8', 'O_26', 'O_32', 'O_50', 'O_20'}\n"
     ]
    },
    {
     "name": "stdout",
     "output_type": "stream",
     "text": [
      "tensor([[[-0.4585,  1.2188,  0.6022,  ..., -0.6917,  0.7540, -0.2316],\n",
      "         [-0.8243, -0.8578,  1.0160,  ..., -1.4409, -0.1821,  1.2779]],\n",
      "\n",
      "        [[-1.4999, -1.9527,  0.0980,  ...,  0.5765, -0.3822, -0.4063],\n",
      "         [ 0.2826, -1.3955, -1.0679,  ..., -0.5267,  0.6327, -0.2955]],\n",
      "\n",
      "        [[ 0.1606, -1.2787, -0.6902,  ..., -0.4485, -1.0115,  1.1833],\n",
      "         [ 1.2819,  0.1781, -1.0004,  ...,  0.8779, -0.7761,  0.5073]],\n",
      "\n",
      "        ...,\n",
      "\n",
      "        [[-0.1109, -0.8049, -0.3455,  ..., -2.1086, -0.1576, -0.4802],\n",
      "         [ 0.6085, -0.3149, -0.8639,  ..., -0.2795, -1.4684,  0.8712]],\n",
      "\n",
      "        [[ 0.4891, -1.0875,  0.0768,  ..., -2.0888, -0.2520,  0.7519],\n",
      "         [ 0.7991, -0.0921, -1.3482,  ..., -0.0890, -2.0390, -0.1578]],\n",
      "\n",
      "        [[-0.7602,  0.8573,  0.0331,  ...,  2.1096,  0.5333, -0.0228],\n",
      "         [-0.5461, -0.0862,  1.3925,  ..., -0.0956,  1.7095, -0.5546]]])\n"
     ]
    }
   ],
   "source": [
    "from steves_utils.transforms import get_average_magnitude, get_average_power\n",
    "\n",
    "print(set([u for u,_ in val_original_source]))\n",
    "print(set([u for u,_ in val_original_target]))\n",
    "\n",
    "s_x, s_y, q_x, q_y, _ = next(iter(train_processed_source))\n",
    "print(s_x)\n",
    "\n",
    "# for ds in [\n",
    "#     train_processed_source,\n",
    "#     val_processed_source,\n",
    "#     test_processed_source,\n",
    "#     train_processed_target,\n",
    "#     val_processed_target,\n",
    "#     test_processed_target\n",
    "# ]:\n",
    "#     for s_x, s_y, q_x, q_y, _ in ds:\n",
    "#         for X in (s_x, q_x):\n",
    "#             for x in X:\n",
    "#                 assert np.isclose(get_average_magnitude(x.numpy()), 1.0)\n",
    "#                 assert np.isclose(get_average_power(x.numpy()), 1.0)\n",
    "                "
   ]
  },
  {
   "cell_type": "code",
   "execution_count": 21,
   "id": "bbdacba1",
   "metadata": {
    "execution": {
     "iopub.execute_input": "2022-03-20T10:25:31.403652Z",
     "iopub.status.busy": "2022-03-20T10:25:31.403383Z",
     "iopub.status.idle": "2022-03-20T10:25:31.454083Z",
     "shell.execute_reply": "2022-03-20T10:25:31.453644Z"
    },
    "papermill": {
     "duration": 0.075352,
     "end_time": "2022-03-20T10:25:31.454192",
     "exception": false,
     "start_time": "2022-03-20T10:25:31.378840",
     "status": "completed"
    },
    "tags": []
   },
   "outputs": [
    {
     "name": "stdout",
     "output_type": "stream",
     "text": [
      "(2, 200)\n"
     ]
    }
   ],
   "source": [
    "###################################\n",
    "# Build the model\n",
    "###################################\n",
    "# easfsl only wants a tuple for the shape\n",
    "model = Steves_Prototypical_Network(x_net, device=p.device, x_shape=tuple(p.x_shape))\n",
    "optimizer = Adam(params=model.parameters(), lr=p.lr)"
   ]
  },
  {
   "cell_type": "code",
   "execution_count": 22,
   "id": "22b39ac5",
   "metadata": {
    "execution": {
     "iopub.execute_input": "2022-03-20T10:25:31.493020Z",
     "iopub.status.busy": "2022-03-20T10:25:31.492758Z",
     "iopub.status.idle": "2022-03-20T11:15:42.740632Z",
     "shell.execute_reply": "2022-03-20T11:15:42.740382Z"
    },
    "papermill": {
     "duration": 3011.266393,
     "end_time": "2022-03-20T11:15:42.740696",
     "exception": false,
     "start_time": "2022-03-20T10:25:31.474303",
     "status": "completed"
    },
    "tags": []
   },
   "outputs": [
    {
     "name": "stdout",
     "output_type": "stream",
     "text": [
      "epoch: 1, [batch: 1 / 13172], examples_per_second: 23.8049, train_label_loss: 2.6012, \n"
     ]
    },
    {
     "name": "stdout",
     "output_type": "stream",
     "text": [
      "epoch: 1, [batch: 1318 / 13172], examples_per_second: 1737.5057, train_label_loss: 0.0858, \n"
     ]
    },
    {
     "name": "stdout",
     "output_type": "stream",
     "text": [
      "epoch: 1, [batch: 2635 / 13172], examples_per_second: 1739.6553, train_label_loss: 0.4449, \n"
     ]
    },
    {
     "name": "stdout",
     "output_type": "stream",
     "text": [
      "epoch: 1, [batch: 3952 / 13172], examples_per_second: 1742.4212, train_label_loss: 0.0043, \n"
     ]
    },
    {
     "name": "stdout",
     "output_type": "stream",
     "text": [
      "epoch: 1, [batch: 5269 / 13172], examples_per_second: 2246.1878, train_label_loss: 0.1759, \n"
     ]
    },
    {
     "name": "stdout",
     "output_type": "stream",
     "text": [
      "epoch: 1, [batch: 6586 / 13172], examples_per_second: 1921.0550, train_label_loss: 0.0019, \n"
     ]
    },
    {
     "name": "stdout",
     "output_type": "stream",
     "text": [
      "epoch: 1, [batch: 7903 / 13172], examples_per_second: 1738.8665, train_label_loss: 0.0028, \n"
     ]
    },
    {
     "name": "stdout",
     "output_type": "stream",
     "text": [
      "epoch: 1, [batch: 9220 / 13172], examples_per_second: 1735.2681, train_label_loss: 0.0007, \n"
     ]
    },
    {
     "name": "stdout",
     "output_type": "stream",
     "text": [
      "epoch: 1, [batch: 10537 / 13172], examples_per_second: 1742.2368, train_label_loss: 0.0575, \n"
     ]
    },
    {
     "name": "stdout",
     "output_type": "stream",
     "text": [
      "epoch: 1, [batch: 11854 / 13172], examples_per_second: 1737.4852, train_label_loss: 0.1089, \n"
     ]
    },
    {
     "name": "stdout",
     "output_type": "stream",
     "text": [
      "=============================================================\n",
      "epoch: 1, source_val_acc_label: 0.9765, target_val_acc_label: 0.2579, source_val_label_loss: 0.1062, target_val_label_loss: 2.2645, \n",
      "=============================================================\n"
     ]
    },
    {
     "name": "stdout",
     "output_type": "stream",
     "text": [
      "New best\n"
     ]
    },
    {
     "name": "stdout",
     "output_type": "stream",
     "text": [
      "epoch: 2, [batch: 1 / 13187], examples_per_second: 1.4630, train_label_loss: 0.0030, \n"
     ]
    },
    {
     "name": "stdout",
     "output_type": "stream",
     "text": [
      "epoch: 2, [batch: 1319 / 13187], examples_per_second: 1740.9888, train_label_loss: 0.2319, \n"
     ]
    },
    {
     "name": "stdout",
     "output_type": "stream",
     "text": [
      "epoch: 2, [batch: 2638 / 13187], examples_per_second: 1740.6100, train_label_loss: 0.0120, \n"
     ]
    },
    {
     "name": "stdout",
     "output_type": "stream",
     "text": [
      "epoch: 2, [batch: 3956 / 13187], examples_per_second: 1745.1015, train_label_loss: 0.0021, \n"
     ]
    },
    {
     "name": "stdout",
     "output_type": "stream",
     "text": [
      "epoch: 2, [batch: 5275 / 13187], examples_per_second: 2147.9083, train_label_loss: 0.0021, \n"
     ]
    },
    {
     "name": "stdout",
     "output_type": "stream",
     "text": [
      "epoch: 2, [batch: 6594 / 13187], examples_per_second: 2260.3491, train_label_loss: 0.0009, \n"
     ]
    },
    {
     "name": "stdout",
     "output_type": "stream",
     "text": [
      "epoch: 2, [batch: 7912 / 13187], examples_per_second: 2249.9982, train_label_loss: 0.0050, \n"
     ]
    },
    {
     "name": "stdout",
     "output_type": "stream",
     "text": [
      "epoch: 2, [batch: 9231 / 13187], examples_per_second: 2140.5502, train_label_loss: 0.3038, \n"
     ]
    },
    {
     "name": "stdout",
     "output_type": "stream",
     "text": [
      "epoch: 2, [batch: 10549 / 13187], examples_per_second: 2914.9055, train_label_loss: 0.0056, \n"
     ]
    },
    {
     "name": "stdout",
     "output_type": "stream",
     "text": [
      "epoch: 2, [batch: 11868 / 13187], examples_per_second: 3576.6385, train_label_loss: 0.0009, \n"
     ]
    },
    {
     "name": "stdout",
     "output_type": "stream",
     "text": [
      "=============================================================\n",
      "epoch: 2, source_val_acc_label: 0.9841, target_val_acc_label: 0.2176, source_val_label_loss: 0.0694, target_val_label_loss: 2.3995, \n",
      "=============================================================\n"
     ]
    },
    {
     "name": "stdout",
     "output_type": "stream",
     "text": [
      "epoch: 3, [batch: 1 / 13151], examples_per_second: 2.8833, train_label_loss: 0.0021, \n"
     ]
    },
    {
     "name": "stdout",
     "output_type": "stream",
     "text": [
      "epoch: 3, [batch: 1316 / 13151], examples_per_second: 3589.8013, train_label_loss: 0.0054, \n"
     ]
    },
    {
     "name": "stdout",
     "output_type": "stream",
     "text": [
      "epoch: 3, [batch: 2631 / 13151], examples_per_second: 2111.7648, train_label_loss: 0.0076, \n"
     ]
    },
    {
     "name": "stdout",
     "output_type": "stream",
     "text": [
      "epoch: 3, [batch: 3946 / 13151], examples_per_second: 1725.5282, train_label_loss: 0.0021, \n"
     ]
    },
    {
     "name": "stdout",
     "output_type": "stream",
     "text": [
      "epoch: 3, [batch: 5261 / 13151], examples_per_second: 1723.3199, train_label_loss: 0.0320, \n"
     ]
    },
    {
     "name": "stdout",
     "output_type": "stream",
     "text": [
      "epoch: 3, [batch: 6576 / 13151], examples_per_second: 1729.9399, train_label_loss: 0.4432, \n"
     ]
    },
    {
     "name": "stdout",
     "output_type": "stream",
     "text": [
      "epoch: 3, [batch: 7891 / 13151], examples_per_second: 1728.0546, train_label_loss: 0.0017, \n"
     ]
    },
    {
     "name": "stdout",
     "output_type": "stream",
     "text": [
      "epoch: 3, [batch: 9206 / 13151], examples_per_second: 1723.7463, train_label_loss: 0.0039, \n"
     ]
    },
    {
     "name": "stdout",
     "output_type": "stream",
     "text": [
      "epoch: 3, [batch: 10521 / 13151], examples_per_second: 1728.2553, train_label_loss: 0.0002, \n"
     ]
    },
    {
     "name": "stdout",
     "output_type": "stream",
     "text": [
      "epoch: 3, [batch: 11836 / 13151], examples_per_second: 1730.2191, train_label_loss: 0.0004, \n"
     ]
    },
    {
     "name": "stdout",
     "output_type": "stream",
     "text": [
      "=============================================================\n",
      "epoch: 3, source_val_acc_label: 0.9852, target_val_acc_label: 0.2263, source_val_label_loss: 0.0635, target_val_label_loss: 2.3500, \n",
      "=============================================================\n"
     ]
    },
    {
     "name": "stdout",
     "output_type": "stream",
     "text": [
      "epoch: 4, [batch: 1 / 13164], examples_per_second: 1.4630, train_label_loss: 0.0000, \n"
     ]
    },
    {
     "name": "stdout",
     "output_type": "stream",
     "text": [
      "epoch: 4, [batch: 1317 / 13164], examples_per_second: 2050.4811, train_label_loss: 0.0056, \n"
     ]
    },
    {
     "name": "stdout",
     "output_type": "stream",
     "text": [
      "epoch: 4, [batch: 2633 / 13164], examples_per_second: 2122.5486, train_label_loss: 0.1155, \n"
     ]
    },
    {
     "name": "stdout",
     "output_type": "stream",
     "text": [
      "epoch: 4, [batch: 3949 / 13164], examples_per_second: 1739.8762, train_label_loss: 0.0003, \n"
     ]
    },
    {
     "name": "stdout",
     "output_type": "stream",
     "text": [
      "epoch: 4, [batch: 5266 / 13164], examples_per_second: 1739.2836, train_label_loss: 0.0991, \n"
     ]
    },
    {
     "name": "stdout",
     "output_type": "stream",
     "text": [
      "epoch: 4, [batch: 6582 / 13164], examples_per_second: 1743.0772, train_label_loss: 0.0106, \n"
     ]
    },
    {
     "name": "stdout",
     "output_type": "stream",
     "text": [
      "epoch: 4, [batch: 7898 / 13164], examples_per_second: 1737.4252, train_label_loss: 0.1513, \n"
     ]
    },
    {
     "name": "stdout",
     "output_type": "stream",
     "text": [
      "epoch: 4, [batch: 9215 / 13164], examples_per_second: 1735.7932, train_label_loss: 0.0081, \n"
     ]
    },
    {
     "name": "stdout",
     "output_type": "stream",
     "text": [
      "epoch: 4, [batch: 10531 / 13164], examples_per_second: 1741.6589, train_label_loss: 0.0033, \n"
     ]
    },
    {
     "name": "stdout",
     "output_type": "stream",
     "text": [
      "epoch: 4, [batch: 11847 / 13164], examples_per_second: 1741.6646, train_label_loss: 0.0796, \n"
     ]
    },
    {
     "name": "stdout",
     "output_type": "stream",
     "text": [
      "=============================================================\n",
      "epoch: 4, source_val_acc_label: 0.9856, target_val_acc_label: 0.2444, source_val_label_loss: 0.0638, target_val_label_loss: 2.2873, \n",
      "=============================================================\n"
     ]
    },
    {
     "name": "stdout",
     "output_type": "stream",
     "text": [
      "epoch: 5, [batch: 1 / 13144], examples_per_second: 1.4630, train_label_loss: 0.0095, \n"
     ]
    },
    {
     "name": "stdout",
     "output_type": "stream",
     "text": [
      "epoch: 5, [batch: 1315 / 13144], examples_per_second: 1998.0831, train_label_loss: 0.0002, \n"
     ]
    },
    {
     "name": "stdout",
     "output_type": "stream",
     "text": [
      "epoch: 5, [batch: 2629 / 13144], examples_per_second: 2178.4752, train_label_loss: 0.0011, \n"
     ]
    },
    {
     "name": "stdout",
     "output_type": "stream",
     "text": [
      "epoch: 5, [batch: 3943 / 13144], examples_per_second: 1739.8804, train_label_loss: 0.0002, \n"
     ]
    },
    {
     "name": "stdout",
     "output_type": "stream",
     "text": [
      "epoch: 5, [batch: 5258 / 13144], examples_per_second: 1736.0230, train_label_loss: 0.0068, \n"
     ]
    },
    {
     "name": "stdout",
     "output_type": "stream",
     "text": [
      "epoch: 5, [batch: 6572 / 13144], examples_per_second: 1742.4492, train_label_loss: 0.1483, \n"
     ]
    },
    {
     "name": "stdout",
     "output_type": "stream",
     "text": [
      "epoch: 5, [batch: 7886 / 13144], examples_per_second: 1740.4586, train_label_loss: 0.3118, \n"
     ]
    },
    {
     "name": "stdout",
     "output_type": "stream",
     "text": [
      "epoch: 5, [batch: 9201 / 13144], examples_per_second: 1734.8703, train_label_loss: 0.0001, \n"
     ]
    },
    {
     "name": "stdout",
     "output_type": "stream",
     "text": [
      "epoch: 5, [batch: 10515 / 13144], examples_per_second: 1736.9753, train_label_loss: 0.0006, \n"
     ]
    },
    {
     "name": "stdout",
     "output_type": "stream",
     "text": [
      "epoch: 5, [batch: 11829 / 13144], examples_per_second: 1744.3874, train_label_loss: 0.1696, \n"
     ]
    },
    {
     "name": "stdout",
     "output_type": "stream",
     "text": [
      "=============================================================\n",
      "epoch: 5, source_val_acc_label: 0.9861, target_val_acc_label: 0.2276, source_val_label_loss: 0.0632, target_val_label_loss: 2.4515, \n",
      "=============================================================\n"
     ]
    },
    {
     "name": "stdout",
     "output_type": "stream",
     "text": [
      "Patience (3) exhausted\n"
     ]
    }
   ],
   "source": [
    "###################################\n",
    "# train\n",
    "###################################\n",
    "jig = PTN_Train_Eval_Test_Jig(model, p.BEST_MODEL_PATH, p.device)\n",
    "\n",
    "jig.train(\n",
    "    train_iterable=datasets.source.processed.train,\n",
    "    source_val_iterable=datasets.source.processed.val,\n",
    "    target_val_iterable=datasets.target.processed.val,\n",
    "    num_epochs=p.n_epoch,\n",
    "    num_logs_per_epoch=p.NUM_LOGS_PER_EPOCH,\n",
    "    patience=p.patience,\n",
    "    optimizer=optimizer,\n",
    "    criteria_for_best=p.criteria_for_best,\n",
    ")"
   ]
  },
  {
   "cell_type": "code",
   "execution_count": 23,
   "id": "31e8fabf",
   "metadata": {
    "execution": {
     "iopub.execute_input": "2022-03-20T11:15:42.797091Z",
     "iopub.status.busy": "2022-03-20T11:15:42.796735Z",
     "iopub.status.idle": "2022-03-20T11:15:42.814718Z",
     "shell.execute_reply": "2022-03-20T11:15:42.814439Z"
    },
    "papermill": {
     "duration": 0.047216,
     "end_time": "2022-03-20T11:15:42.814781",
     "exception": false,
     "start_time": "2022-03-20T11:15:42.767565",
     "status": "completed"
    },
    "tags": []
   },
   "outputs": [],
   "source": [
    "total_experiment_time_secs = time.time() - start_time_secs"
   ]
  },
  {
   "cell_type": "code",
   "execution_count": 24,
   "id": "87b9595b",
   "metadata": {
    "execution": {
     "iopub.execute_input": "2022-03-20T11:15:42.875429Z",
     "iopub.status.busy": "2022-03-20T11:15:42.875102Z",
     "iopub.status.idle": "2022-03-20T11:19:16.597009Z",
     "shell.execute_reply": "2022-03-20T11:19:16.596539Z"
    },
    "papermill": {
     "duration": 213.754144,
     "end_time": "2022-03-20T11:19:16.597121",
     "exception": false,
     "start_time": "2022-03-20T11:15:42.842977",
     "status": "completed"
    },
    "tags": []
   },
   "outputs": [],
   "source": [
    "###################################\n",
    "# Evaluate the model\n",
    "###################################\n",
    "source_test_label_accuracy, source_test_label_loss = jig.test(datasets.source.processed.test)\n",
    "target_test_label_accuracy, target_test_label_loss = jig.test(datasets.target.processed.test)\n",
    "\n",
    "source_val_label_accuracy, source_val_label_loss = jig.test(datasets.source.processed.val)\n",
    "target_val_label_accuracy, target_val_label_loss = jig.test(datasets.target.processed.val)\n",
    "\n",
    "history = jig.get_history()\n",
    "\n",
    "total_epochs_trained = len(history[\"epoch_indices\"])\n",
    "\n",
    "val_dl = Iterable_Aggregator((datasets.source.original.val,datasets.target.original.val))\n",
    "\n",
    "confusion = ptn_confusion_by_domain_over_dataloader(model, p.device, val_dl)\n",
    "per_domain_accuracy = per_domain_accuracy_from_confusion(confusion)\n",
    "\n",
    "# Add a key to per_domain_accuracy for if it was a source domain\n",
    "for domain, accuracy in per_domain_accuracy.items():\n",
    "    per_domain_accuracy[domain] = {\n",
    "        \"accuracy\": accuracy,\n",
    "        \"source?\": domain in p.domains_source\n",
    "    }\n",
    "\n",
    "# Do an independent accuracy assesment JUST TO BE SURE!\n",
    "# _source_test_label_accuracy = independent_accuracy_assesment(model, datasets.source.processed.test, p.device)\n",
    "# _target_test_label_accuracy = independent_accuracy_assesment(model, datasets.target.processed.test, p.device)\n",
    "# _source_val_label_accuracy = independent_accuracy_assesment(model, datasets.source.processed.val, p.device)\n",
    "# _target_val_label_accuracy = independent_accuracy_assesment(model, datasets.target.processed.val, p.device)\n",
    "\n",
    "# assert(_source_test_label_accuracy == source_test_label_accuracy)\n",
    "# assert(_target_test_label_accuracy == target_test_label_accuracy)\n",
    "# assert(_source_val_label_accuracy == source_val_label_accuracy)\n",
    "# assert(_target_val_label_accuracy == target_val_label_accuracy)\n",
    "\n",
    "experiment = {\n",
    "    \"experiment_name\": p.experiment_name,\n",
    "    \"parameters\": dict(p),\n",
    "    \"results\": {\n",
    "        \"source_test_label_accuracy\": source_test_label_accuracy,\n",
    "        \"source_test_label_loss\": source_test_label_loss,\n",
    "        \"target_test_label_accuracy\": target_test_label_accuracy,\n",
    "        \"target_test_label_loss\": target_test_label_loss,\n",
    "        \"source_val_label_accuracy\": source_val_label_accuracy,\n",
    "        \"source_val_label_loss\": source_val_label_loss,\n",
    "        \"target_val_label_accuracy\": target_val_label_accuracy,\n",
    "        \"target_val_label_loss\": target_val_label_loss,\n",
    "        \"total_epochs_trained\": total_epochs_trained,\n",
    "        \"total_experiment_time_secs\": total_experiment_time_secs,\n",
    "        \"confusion\": confusion,\n",
    "        \"per_domain_accuracy\": per_domain_accuracy,\n",
    "    },\n",
    "    \"history\": history,\n",
    "    \"dataset_metrics\": get_dataset_metrics(datasets, \"ptn\"),\n",
    "}"
   ]
  },
  {
   "cell_type": "code",
   "execution_count": 25,
   "id": "54a21829",
   "metadata": {
    "execution": {
     "iopub.execute_input": "2022-03-20T11:19:16.656015Z",
     "iopub.status.busy": "2022-03-20T11:19:16.655755Z",
     "iopub.status.idle": "2022-03-20T11:19:16.784011Z",
     "shell.execute_reply": "2022-03-20T11:19:16.784394Z"
    },
    "papermill": {
     "duration": 0.156384,
     "end_time": "2022-03-20T11:19:16.784521",
     "exception": false,
     "start_time": "2022-03-20T11:19:16.628137",
     "status": "completed"
    },
    "tags": []
   },
   "outputs": [
    {
     "data": {
      "image/png": "[encoded data removed]",
      "text/plain": [
       "<Figure size 1080x504 with 1 Axes>"
      ]
     },
     "metadata": {
      "needs_background": "light"
     },
     "output_type": "display_data"
    }
   ],
   "source": [
    "ax = get_loss_curve(experiment)\n",
    "plt.show()"
   ]
  },
  {
   "cell_type": "code",
   "execution_count": 26,
   "id": "fd8a0f60",
   "metadata": {
    "execution": {
     "iopub.execute_input": "2022-03-20T11:19:16.845882Z",
     "iopub.status.busy": "2022-03-20T11:19:16.845627Z",
     "iopub.status.idle": "2022-03-20T11:19:16.992160Z",
     "shell.execute_reply": "2022-03-20T11:19:16.992387Z"
    },
    "papermill": {
     "duration": 0.176314,
     "end_time": "2022-03-20T11:19:16.992467",
     "exception": false,
     "start_time": "2022-03-20T11:19:16.816153",
     "status": "completed"
    },
    "tags": []
   },
   "outputs": [
    {
     "data": {
      "text/plain": [
       "<AxesSubplot:title={'center':'Results'}>"
      ]
     },
     "execution_count": 26,
     "metadata": {},
     "output_type": "execute_result"
    },
    {
     "data": {
      "image/png": "[encoded data removed]",
      "text/plain": [
       "<Figure size 1080x504 with 1 Axes>"
      ]
     },
     "metadata": {
      "needs_background": "light"
     },
     "output_type": "display_data"
    }
   ],
   "source": [
    "get_results_table(experiment)"
   ]
  },
  {
   "cell_type": "code",
   "execution_count": 27,
   "id": "cf8dc689",
   "metadata": {
    "execution": {
     "iopub.execute_input": "2022-03-20T11:19:17.052792Z",
     "iopub.status.busy": "2022-03-20T11:19:17.052532Z",
     "iopub.status.idle": "2022-03-20T11:19:17.212790Z",
     "shell.execute_reply": "2022-03-20T11:19:17.213170Z"
    },
    "papermill": {
     "duration": 0.191404,
     "end_time": "2022-03-20T11:19:17.213295",
     "exception": false,
     "start_time": "2022-03-20T11:19:17.021891",
     "status": "completed"
    },
    "tags": []
   },
   "outputs": [
    {
     "data": {
      "text/plain": [
       "<AxesSubplot:title={'center':'Per Domain Validation Accuracy'}, xlabel='domain'>"
      ]
     },
     "execution_count": 27,
     "metadata": {},
     "output_type": "execute_result"
    },
    {
     "data": {
      "image/png": "[encoded data removed]",
      "text/plain": [
       "<Figure size 1080x504 with 1 Axes>"
      ]
     },
     "metadata": {
      "needs_background": "light"
     },
     "output_type": "display_data"
    }
   ],
   "source": [
    "get_domain_accuracies(experiment)"
   ]
  },
  {
   "cell_type": "code",
   "execution_count": 28,
   "id": "a74ae082",
   "metadata": {
    "execution": {
     "iopub.execute_input": "2022-03-20T11:19:17.277825Z",
     "iopub.status.busy": "2022-03-20T11:19:17.277542Z",
     "iopub.status.idle": "2022-03-20T11:19:17.294395Z",
     "shell.execute_reply": "2022-03-20T11:19:17.294768Z"
    },
    "papermill": {
     "duration": 0.048457,
     "end_time": "2022-03-20T11:19:17.294883",
     "exception": false,
     "start_time": "2022-03-20T11:19:17.246426",
     "status": "completed"
    },
    "tags": []
   },
   "outputs": [
    {
     "name": "stdout",
     "output_type": "stream",
     "text": [
      "Source Test Label Accuracy: 0.9765456263498921 Target Test Label Accuracy: 0.25908203125\n",
      "Source Val Label Accuracy: 0.9764895661724328 Target Val Label Accuracy: 0.25791015625\n"
     ]
    }
   ],
   "source": [
    "print(\"Source Test Label Accuracy:\", experiment[\"results\"][\"source_test_label_accuracy\"], \"Target Test Label Accuracy:\", experiment[\"results\"][\"target_test_label_accuracy\"])\n",
    "print(\"Source Val Label Accuracy:\", experiment[\"results\"][\"source_val_label_accuracy\"], \"Target Val Label Accuracy:\", experiment[\"results\"][\"target_val_label_accuracy\"])"
   ]
  },
  {
   "cell_type": "code",
   "execution_count": 29,
   "id": "dacca602",
   "metadata": {
    "execution": {
     "iopub.execute_input": "2022-03-20T11:19:17.358256Z",
     "iopub.status.busy": "2022-03-20T11:19:17.357558Z",
     "iopub.status.idle": "2022-03-20T11:19:17.377568Z",
     "shell.execute_reply": "2022-03-20T11:19:17.377946Z"
    },
    "papermill": {
     "duration": 0.050398,
     "end_time": "2022-03-20T11:19:17.378060",
     "exception": false,
     "start_time": "2022-03-20T11:19:17.327662",
     "status": "completed"
    },
    "tags": [
     "experiment_json"
    ]
   },
   "outputs": [
    {
     "data": {
      "text/plain": [
       "'{\"experiment_name\": \"tl_3Av2:cores+wisig -> oracle.run1.framed\", \"parameters\": {\"experiment_name\": \"tl_3Av2:cores+wisig -> oracle.run1.framed\", \"device\": \"cuda\", \"lr\": 0.0001, \"x_shape\": [2, 200], \"n_shot\": 3, \"n_query\": 2, \"train_k_factor\": 3, \"val_k_factor\": 2, \"test_k_factor\": 2, \"torch_default_dtype\": \"torch.float32\", \"n_epoch\": 50, \"patience\": 3, \"criteria_for_best\": \"target_accuracy\", \"x_net\": [{\"class\": \"nnReshape\", \"kargs\": {\"shape\": [-1, 1, 2, 200]}}, {\"class\": \"Conv2d\", \"kargs\": {\"in_channels\": 1, \"out_channels\": 256, \"kernel_size\": [1, 7], \"bias\": false, \"padding\": [0, 3]}}, {\"class\": \"ReLU\", \"kargs\": {\"inplace\": true}}, {\"class\": \"BatchNorm2d\", \"kargs\": {\"num_features\": 256}}, {\"class\": \"Conv2d\", \"kargs\": {\"in_channels\": 256, \"out_channels\": 80, \"kernel_size\": [2, 7], \"bias\": true, \"padding\": [0, 3]}}, {\"class\": \"ReLU\", \"kargs\": {\"inplace\": true}}, {\"class\": \"BatchNorm2d\", \"kargs\": {\"num_features\": 80}}, {\"class\": \"Flatten\", \"kargs\": {}}, {\"class\": \"Linear\", \"kargs\": {\"in_features\": 16000, \"out_features\": 256}}, {\"class\": \"ReLU\", \"kargs\": {\"inplace\": true}}, {\"class\": \"BatchNorm1d\", \"kargs\": {\"num_features\": 256}}, {\"class\": \"Linear\", \"kargs\": {\"in_features\": 256, \"out_features\": 256}}], \"NUM_LOGS_PER_EPOCH\": 10, \"BEST_MODEL_PATH\": \"./best_model.pth\", \"n_way\": 16, \"datasets\": [{\"labels\": [\"1-10.\", \"1-11.\", \"1-15.\", \"1-16.\", \"1-17.\", \"1-18.\", \"1-19.\", \"10-4.\", \"10-7.\", \"11-1.\", \"11-14.\", \"11-17.\", \"11-20.\", \"11-7.\", \"13-20.\", \"13-8.\", \"14-10.\", \"14-11.\", \"14-14.\", \"14-7.\", \"15-1.\", \"15-20.\", \"16-1.\", \"16-16.\", \"17-10.\", \"17-11.\", \"17-2.\", \"19-1.\", \"19-16.\", \"19-19.\", \"19-20.\", \"19-3.\", \"2-10.\", \"2-11.\", \"2-17.\", \"2-18.\", \"2-20.\", \"2-3.\", \"2-4.\", \"2-5.\", \"2-6.\", \"2-7.\", \"2-8.\", \"3-13.\", \"3-18.\", \"3-3.\", \"4-1.\", \"4-10.\", \"4-11.\", \"4-19.\", \"5-5.\", \"6-15.\", \"7-10.\", \"7-14.\", \"8-18.\", \"8-20.\", \"8-3.\", \"8-8.\"], \"domains\": [1, 2, 3, 4, 5], \"num_examples_per_domain_per_label\": -1, \"pickle_path\": \"/mnt/wd500GB/CSC500/csc500-main/datasets/cores.stratified_ds.2022A.pkl\", \"source_or_target_dataset\": \"source\", \"x_transforms\": [\"unit_mag\", \"take_200\"], \"episode_transforms\": [], \"domain_prefix\": \"C_\"}, {\"labels\": [\"1-10\", \"1-12\", \"1-14\", \"1-16\", \"1-18\", \"1-19\", \"1-8\", \"10-11\", \"10-17\", \"10-4\", \"10-7\", \"11-1\", \"11-10\", \"11-19\", \"11-20\", \"11-4\", \"11-7\", \"12-19\", \"12-20\", \"12-7\", \"13-14\", \"13-18\", \"13-19\", \"13-20\", \"13-3\", \"13-7\", \"14-10\", \"14-11\", \"14-12\", \"14-13\", \"14-14\", \"14-19\", \"14-20\", \"14-7\", \"14-8\", \"14-9\", \"15-1\", \"15-19\", \"15-6\", \"16-1\", \"16-16\", \"16-19\", \"16-20\", \"17-10\", \"17-11\", \"18-1\", \"18-10\", \"18-11\", \"18-12\", \"18-13\", \"18-14\", \"18-15\", \"18-16\", \"18-17\", \"18-19\", \"18-2\", \"18-20\", \"18-4\", \"18-5\", \"18-7\", \"18-8\", \"18-9\", \"19-1\", \"19-10\", \"19-11\", \"19-12\", \"19-13\", \"19-14\", \"19-15\", \"19-19\", \"19-2\", \"19-20\", \"19-3\", \"19-4\", \"19-6\", \"19-7\", \"19-8\", \"19-9\", \"2-1\", \"2-13\", \"2-15\", \"2-3\", \"2-4\", \"2-5\", \"2-6\", \"2-7\", \"2-8\", \"20-1\", \"20-12\", \"20-14\", \"20-15\", \"20-16\", \"20-18\", \"20-19\", \"20-20\", \"20-3\", \"20-4\", \"20-5\", \"20-7\", \"20-8\", \"3-1\", \"3-13\", \"3-18\", \"3-2\", \"3-8\", \"4-1\", \"4-10\", \"4-11\", \"5-1\", \"5-5\", \"6-1\", \"6-15\", \"6-6\", \"7-10\", \"7-11\", \"7-12\", \"7-13\", \"7-14\", \"7-7\", \"7-8\", \"7-9\", \"8-1\", \"8-13\", \"8-14\", \"8-18\", \"8-20\", \"8-3\", \"8-8\", \"9-1\", \"9-7\"], \"domains\": [1, 2, 3, 4], \"num_examples_per_domain_per_label\": -1, \"pickle_path\": \"/mnt/wd500GB/CSC500/csc500-main/datasets/wisig.node3-19.stratified_ds.2022A.pkl\", \"source_or_target_dataset\": \"source\", \"x_transforms\": [\"unit_mag\", \"take_200\"], \"episode_transforms\": [], \"domain_prefix\": \"W_\"}, {\"labels\": [\"3123D52\", \"3123D65\", \"3123D79\", \"3123D80\", \"3123D54\", \"3123D70\", \"3123D7B\", \"3123D89\", \"3123D58\", \"3123D76\", \"3123D7D\", \"3123EFE\", \"3123D64\", \"3123D78\", \"3123D7E\", \"3124E4A\"], \"domains\": [32, 38, 8, 44, 14, 50, 20, 26], \"num_examples_per_domain_per_label\": 2000, \"pickle_path\": \"/mnt/wd500GB/CSC500/csc500-main/datasets/oracle.Run1_framed_2000Examples_stratified_ds.2022A.pkl\", \"source_or_target_dataset\": \"target\", \"x_transforms\": [\"unit_mag\", \"take_200\", \"resample_20Msps_to_25Msps\"], \"episode_transforms\": [], \"domain_prefix\": \"O_\"}], \"seed\": 420, \"dataset_seed\": 420, \"domains_source\": [\"C_1\", \"C_2\", \"C_3\", \"C_4\", \"C_5\", \"W_1\", \"W_2\", \"W_3\", \"W_4\"], \"domains_target\": [\"O_32\", \"O_38\", \"O_8\", \"O_44\", \"O_14\", \"O_50\", \"O_20\", \"O_26\"]}, \"results\": {\"source_test_label_accuracy\": 0.9765456263498921, \"source_test_label_loss\": 0.10751468688249588, \"target_test_label_accuracy\": 0.25908203125, \"target_test_label_loss\": 2.2739861011505127, \"source_val_label_accuracy\": 0.9764895661724328, \"source_val_label_loss\": 0.10620224475860596, \"target_val_label_accuracy\": 0.25791015625, \"target_val_label_loss\": 2.2644705772399902, \"total_epochs_trained\": 5, \"total_experiment_time_secs\": 3089.9493496418, \"confusion\": {\"W_3\": {\"110\": {\"110\": 88, \"78\": 1, \"108\": 1, \"129\": 1, \"98\": 1}, \"1\": {\"1\": 107, \"69\": 1}, \"2\": {\"2\": 22, \"102\": 2, \"26\": 2, \"113\": 1, \"69\": 1}, \"94\": {\"94\": 80, \"27\": 1, \"70\": 1, \"122\": 1, \"39\": 1}, \"64\": {\"64\": 20}, \"78\": {\"78\": 14, \"4\": 1, \"21\": 1}, \"47\": {\"47\": 11, \"69\": 1}, \"127\": {\"127\": 127, \"26\": 1}, \"89\": {\"89\": 28}, \"79\": {\"79\": 12}, \"22\": {\"22\": 16}, \"117\": {\"117\": 112}, \"49\": {\"49\": 20, \"47\": 1, \"108\": 1, \"82\": 1, \"129\": 1}, \"14\": {\"14\": 80}, \"103\": {\"103\": 16}, \"123\": {\"123\": 16}, \"98\": {\"98\": 127, \"26\": 1}, \"18\": {\"18\": 108}, \"61\": {\"61\": 16}, \"108\": {\"108\": 120, \"88\": 2, \"110\": 1, \"70\": 2, \"40\": 1}, \"100\": {\"100\": 16}, \"0\": {\"0\": 115, \"10\": 1}, \"107\": {\"107\": 130}, \"58\": {\"58\": 16}, \"8\": {\"8\": 120}, \"85\": {\"85\": 36}, \"31\": {\"31\": 19, \"129\": 1}, \"81\": {\"81\": 32}, \"60\": {\"60\": 20, \"31\": 1, \"23\": 2, \"122\": 3, \"78\": 1, \"73\": 1}, \"102\": {\"102\": 116}, \"19\": {\"19\": 28, \"28\": 1, \"77\": 1, \"46\": 1, \"90\": 1}, \"23\": {\"60\": 1, \"19\": 1, \"23\": 23, \"4\": 1, \"67\": 1, \"122\": 1, \"73\": 1, \"123\": 1, \"97\": 2}, \"32\": {\"32\": 25, \"11\": 4, \"107\": 2, \"9\": 1}, \"39\": {\"39\": 106, \"21\": 1, \"126\": 1}, \"129\": {\"129\": 32}, \"71\": {\"71\": 67, \"84\": 1}, \"91\": {\"91\": 20, \"32\": 1, \"58\": 1, \"70\": 1, \"42\": 1}, \"101\": {\"101\": 50, \"21\": 1, \"113\": 1}, \"62\": {\"62\": 120, \"0\": 2}, \"63\": {\"63\": 16}, \"125\": {\"125\": 116, \"26\": 1, \"88\": 1, \"72\": 1, \"19\": 1}, \"57\": {\"57\": 20}, \"28\": {\"28\": 16}, \"70\": {\"70\": 61, \"25\": 1, \"39\": 1, \"21\": 1, \"122\": 1, \"94\": 2, \"105\": 1, \"69\": 2, \"33\": 1, \"8\": 1}, \"99\": {\"99\": 33, \"65\": 1, \"27\": 1, \"129\": 1}, \"121\": {\"121\": 25, \"60\": 1, \"61\": 1, \"126\": 1, \"80\": 1, \"16\": 1, \"19\": 1, \"122\": 1}, \"4\": {\"4\": 95, \"94\": 1}, \"80\": {\"80\": 16}, \"51\": {\"97\": 1, \"51\": 12, \"106\": 1, \"21\": 1, \"5\": 1}, \"3\": {\"3\": 113, \"13\": 1, \"70\": 1, \"8\": 1}, \"9\": {\"9\": 32}, \"53\": {\"53\": 19, \"40\": 1}, \"30\": {\"30\": 83, \"69\": 1}, \"33\": {\"33\": 122}, \"15\": {\"15\": 103, \"102\": 1}, \"97\": {\"30\": 1, \"97\": 19}, \"86\": {\"86\": 27, \"6\": 1}, \"20\": {\"20\": 16}, \"66\": {\"66\": 16}, \"10\": {\"10\": 121, \"43\": 1}, \"29\": {\"29\": 31, \"70\": 1}, \"109\": {\"109\": 112, \"5\": 1, \"98\": 1}, \"52\": {\"52\": 16}, \"67\": {\"67\": 15, \"23\": 1}, \"83\": {\"83\": 22, \"121\": 1, \"70\": 1}, \"72\": {\"72\": 28}, \"90\": {\"90\": 124, \"26\": 2}, \"69\": {\"69\": 83, \"90\": 1}, \"88\": {\"88\": 109, \"8\": 1, \"39\": 1, \"36\": 1}, \"115\": {\"115\": 16}, \"73\": {\"73\": 36, \"22\": 1, \"25\": 1, \"69\": 1, \"89\": 1}, \"34\": {\"34\": 22, \"122\": 1, \"11\": 1, \"14\": 3, \"110\": 1, \"17\": 1, \"28\": 2, \"48\": 1}, \"25\": {\"25\": 16}, \"44\": {\"44\": 70, \"90\": 1, \"113\": 1}, \"112\": {\"112\": 15, \"97\": 1}, \"37\": {\"37\": 16}, \"77\": {\"77\": 16}, \"111\": {\"111\": 120, \"127\": 1, \"8\": 1}, \"119\": {\"119\": 16}, \"56\": {\"56\": 12}, \"5\": {\"5\": 109, \"4\": 1, \"1\": 1, \"21\": 1}, \"122\": {\"122\": 57, \"6\": 1, \"21\": 2}, \"74\": {\"74\": 15, \"88\": 1}, \"11\": {\"11\": 150, \"107\": 1, \"110\": 1}, \"41\": {\"41\": 16}, \"104\": {\"104\": 16}, \"21\": {\"21\": 46, \"101\": 2}, \"118\": {\"118\": 99, \"90\": 1}, \"40\": {\"40\": 121, \"21\": 1}, \"6\": {\"6\": 32}, \"27\": {\"27\": 94, \"94\": 1, \"36\": 1}, \"113\": {\"113\": 117, \"70\": 1, \"43\": 1, \"126\": 1}, \"68\": {\"68\": 16}, \"12\": {\"12\": 99, \"30\": 1, \"94\": 1, \"23\": 1}, \"54\": {\"54\": 16}, \"24\": {\"24\": 45, \"86\": 1, \"8\": 1, \"36\": 1}, \"106\": {\"106\": 97, \"87\": 1, \"6\": 1, \"97\": 1}, \"128\": {\"128\": 29, \"122\": 3}, \"48\": {\"48\": 7, \"104\": 1, \"10\": 1, \"11\": 1, \"79\": 2, \"95\": 2, \"77\": 2}, \"92\": {\"92\": 32}, \"35\": {\"35\": 10, \"24\": 1, \"27\": 1}, \"116\": {\"116\": 23, \"39\": 1, \"82\": 3, \"92\": 1}, \"38\": {\"38\": 15, \"25\": 1}, \"126\": {\"126\": 122, \"17\": 1, \"39\": 1}, \"46\": {\"46\": 16}, \"120\": {\"120\": 20}, \"7\": {\"7\": 111, \"6\": 1}, \"13\": {\"13\": 7, \"83\": 1, \"11\": 2, \"70\": 1, \"82\": 1, \"122\": 1, \"98\": 1, \"92\": 1, \"17\": 1}, \"43\": {\"43\": 46, \"33\": 3, \"82\": 1, \"128\": 1, \"84\": 1, \"122\": 1, \"94\": 1, \"102\": 2}, \"93\": {\"93\": 131, \"109\": 1}, \"26\": {\"26\": 131, \"102\": 1}, \"76\": {\"76\": 16}, \"59\": {\"59\": 12}, \"65\": {\"65\": 11, \"17\": 1}, \"87\": {\"87\": 119, \"39\": 1}, \"124\": {\"124\": 122, \"17\": 1, \"98\": 1}, \"84\": {\"84\": 107, \"110\": 1}, \"82\": {\"82\": 28}, \"75\": {\"75\": 16}, \"17\": {\"37\": 2, \"17\": 6, \"116\": 2, \"104\": 1, \"55\": 1, \"106\": 1, \"7\": 1, \"129\": 1, \"51\": 1}, \"105\": {\"105\": 124}, \"95\": {\"95\": 32}, \"42\": {\"42\": 22, \"124\": 2, \"70\": 1, \"96\": 1, \"83\": 2}, \"55\": {\"55\": 16}, \"16\": {\"16\": 114, \"14\": 1, \"6\": 1}, \"50\": {\"50\": 16}, \"96\": {\"96\": 20}, \"45\": {\"45\": 16}, \"36\": {\"36\": 118, \"27\": 2}, \"114\": {\"114\": 119, \"102\": 1, \"122\": 1, \"39\": 1, \"106\": 1, \"117\": 1}}, \"W_4\": {\"113\": {\"113\": 122, \"69\": 2}, \"85\": {\"85\": 26, \"36\": 1, \"102\": 1}, \"34\": {\"34\": 21, \"107\": 1, \"115\": 2, \"32\": 1, \"8\": 1, \"75\": 1, \"47\": 2, \"91\": 1, \"120\": 2}, \"55\": {\"55\": 16}, \"42\": {\"42\": 18, \"20\": 2, \"8\": 2, \"91\": 1, \"9\": 1, \"34\": 1, \"79\": 2, \"112\": 1}, \"13\": {\"13\": 16}, \"69\": {\"69\": 118, \"70\": 1, \"8\": 1, \"1\": 1, \"21\": 1, \"40\": 1, \"16\": 1}, \"35\": {\"35\": 12}, \"83\": {\"83\": 26, \"21\": 1, \"89\": 1}, \"51\": {\"55\": 1, \"24\": 1, \"62\": 2, \"51\": 6, \"29\": 2, \"4\": 1, \"53\": 1, \"60\": 1, \"98\": 1}, \"72\": {\"72\": 32}, \"24\": {\"24\": 116, \"10\": 1, \"36\": 3}, \"53\": {\"53\": 15, \"92\": 1}, \"8\": {\"8\": 136, \"49\": 1, \"108\": 1, \"36\": 1, \"107\": 1, \"39\": 1, \"21\": 1, \"69\": 1, \"27\": 1}, \"49\": {\"49\": 28, \"88\": 1, \"25\": 2, \"70\": 1}, \"21\": {\"21\": 38, \"23\": 1, \"27\": 1}, \"18\": {\"18\": 118, \"94\": 1, \"39\": 1}, \"114\": {\"114\": 116, \"12\": 1, \"3\": 1}, \"58\": {\"58\": 15, \"21\": 1}, \"56\": {\"56\": 12}, \"80\": {\"80\": 16}, \"11\": {\"11\": 152, \"40\": 1, \"88\": 1}, \"15\": {\"15\": 124, \"105\": 1, \"10\": 1, \"40\": 1, \"69\": 1}, \"50\": {\"50\": 14, \"43\": 2}, \"111\": {\"111\": 137, \"27\": 1}, \"108\": {\"108\": 80, \"88\": 2, \"70\": 1, \"33\": 1, \"27\": 1, \"24\": 1, \"129\": 1, \"39\": 1, \"26\": 1, \"10\": 1, \"1\": 1, \"16\": 1}, \"104\": {\"104\": 16}, \"32\": {\"32\": 23, \"8\": 1, \"108\": 1, \"34\": 1, \"45\": 2}, \"68\": {\"68\": 15, \"51\": 1}, \"73\": {\"73\": 24}, \"92\": {\"92\": 28}, \"57\": {\"57\": 16}, \"40\": {\"40\": 132, \"94\": 1, \"8\": 1, \"77\": 1, \"126\": 1}, \"71\": {\"71\": 98, \"3\": 2, \"99\": 1, \"0\": 1, \"1\": 1, \"69\": 1}, \"121\": {\"121\": 23, \"80\": 1, \"21\": 1, \"41\": 2, \"116\": 1, \"63\": 1, \"115\": 1, \"37\": 1, \"67\": 1}, \"62\": {\"62\": 53, \"122\": 1, \"21\": 2, \"2\": 1, \"41\": 1, \"39\": 1, \"10\": 1}, \"39\": {\"39\": 93, \"88\": 1, \"67\": 1, \"117\": 1, \"10\": 1, \"126\": 1, \"105\": 1, \"94\": 1}, \"107\": {\"107\": 142, \"115\": 1, \"88\": 1}, \"60\": {\"60\": 29, \"122\": 1, \"21\": 1, \"1\": 1}, \"129\": {\"129\": 25, \"23\": 1, \"122\": 1, \"21\": 1}, \"84\": {\"84\": 127, \"88\": 2, \"106\": 2, \"122\": 1}, \"106\": {\"106\": 114, \"21\": 1, \"118\": 1}, \"87\": {\"87\": 129, \"105\": 2, \"43\": 1}, \"110\": {\"110\": 89, \"78\": 1, \"113\": 1, \"24\": 1, \"36\": 1, \"102\": 1}, \"118\": {\"118\": 107, \"100\": 1, \"62\": 1, \"107\": 1, \"129\": 1, \"40\": 1}, \"64\": {\"64\": 15, \"106\": 1}, \"82\": {\"60\": 1, \"82\": 30, \"17\": 1}, \"7\": {\"7\": 121, \"6\": 1, \"69\": 1, \"24\": 1}, \"0\": {\"0\": 110, \"84\": 1, \"107\": 1, \"101\": 2, \"21\": 2}, \"41\": {\"41\": 14, \"91\": 1, \"21\": 1}, \"102\": {\"102\": 127, \"118\": 1, \"127\": 1, \"19\": 1}, \"89\": {\"89\": 31, \"51\": 1}, \"26\": {\"26\": 125, \"69\": 1, \"40\": 1, \"8\": 1}, \"103\": {\"103\": 15, \"52\": 1}, \"90\": {\"90\": 113, \"66\": 1, \"98\": 1, \"121\": 1, \"117\": 1, \"88\": 1}, \"14\": {\"14\": 111, \"78\": 1}, \"9\": {\"9\": 28}, \"5\": {\"5\": 133, \"113\": 1, \"40\": 2}, \"22\": {\"22\": 14, \"89\": 2}, \"2\": {\"2\": 26, \"26\": 2}, \"77\": {\"77\": 12}, \"59\": {\"59\": 10, \"109\": 1, \"69\": 1}, \"127\": {\"127\": 95, \"23\": 1, \"97\": 1, \"8\": 1, \"105\": 2, \"122\": 1, \"69\": 1}, \"61\": {\"61\": 15, \"35\": 1}, \"17\": {\"17\": 19, \"116\": 1}, \"45\": {\"45\": 16}, \"19\": {\"19\": 27, \"100\": 1}, \"52\": {\"52\": 19, \"129\": 1}, \"123\": {\"84\": 1, \"123\": 13, \"24\": 1, \"23\": 1}, \"20\": {\"20\": 15, \"118\": 1}, \"112\": {\"112\": 14, \"53\": 1, \"2\": 1}, \"37\": {\"37\": 16}, \"29\": {\"29\": 32}, \"128\": {\"128\": 21, \"78\": 1, \"115\": 2}, \"100\": {\"100\": 20}, \"67\": {\"67\": 9, \"123\": 2, \"115\": 1, \"116\": 1, \"5\": 1, \"69\": 2}, \"12\": {\"12\": 96, \"106\": 1, \"70\": 1, \"16\": 1, \"118\": 1}, \"101\": {\"101\": 127, \"108\": 1}, \"76\": {\"76\": 16}, \"70\": {\"70\": 116, \"88\": 4, \"118\": 1, \"27\": 2, \"7\": 1}, \"31\": {\"70\": 1, \"31\": 15}, \"86\": {\"86\": 28}, \"88\": {\"70\": 2, \"88\": 128, \"69\": 1, \"94\": 1}, \"3\": {\"3\": 123, \"70\": 1, \"122\": 1, \"1\": 1}, \"117\": {\"117\": 117, \"122\": 1, \"114\": 1, \"69\": 1}, \"30\": {\"30\": 71, \"40\": 1, \"36\": 1, \"16\": 1, \"81\": 1, \"114\": 1}, \"96\": {\"96\": 20}, \"27\": {\"27\": 87, \"92\": 1, \"105\": 1, \"24\": 2, \"70\": 1, \"84\": 1, \"21\": 1, \"88\": 1, \"5\": 1, \"6\": 1, \"94\": 1, \"108\": 2}, \"122\": {\"122\": 84}, \"120\": {\"120\": 19, \"21\": 1}, \"44\": {\"44\": 60, \"21\": 1, \"90\": 1, \"121\": 1, \"98\": 1}, \"79\": {\"79\": 15, \"122\": 1}, \"105\": {\"105\": 94, \"122\": 1, \"102\": 1, \"87\": 2, \"108\": 1, \"16\": 1}, \"95\": {\"95\": 30, \"24\": 1, \"27\": 1}, \"109\": {\"96\": 2, \"109\": 109, \"88\": 1, \"14\": 2, \"78\": 1, \"110\": 1}, \"16\": {\"16\": 115, \"12\": 1, \"114\": 1, \"24\": 1}, \"36\": {\"36\": 86, \"113\": 1, \"24\": 7, \"105\": 1, \"21\": 1, \"27\": 2}, \"125\": {\"125\": 135, \"39\": 1}, \"97\": {\"36\": 1, \"97\": 16, \"10\": 2, \"24\": 1}, \"91\": {\"91\": 22, \"88\": 1, \"47\": 1}, \"28\": {\"28\": 20}, \"81\": {\"81\": 36}, \"126\": {\"126\": 114, \"69\": 1, \"78\": 1, \"106\": 1, \"107\": 1, \"113\": 1, \"39\": 3}, \"4\": {\"4\": 97, \"122\": 1, \"39\": 1, \"118\": 1, \"107\": 1, \"127\": 1, \"110\": 1, \"69\": 1}, \"10\": {\"10\": 117, \"94\": 1, \"30\": 4, \"106\": 1, \"8\": 1}, \"63\": {\"63\": 16}, \"43\": {\"43\": 118}, \"116\": {\"116\": 26, \"122\": 1, \"84\": 1}, \"1\": {\"1\": 101, \"69\": 1, \"10\": 1, \"110\": 1, \"40\": 1, \"122\": 1, \"88\": 1, \"12\": 1}, \"94\": {\"94\": 85, \"12\": 1, \"40\": 2}, \"38\": {\"38\": 16}, \"54\": {\"54\": 16}, \"74\": {\"74\": 16}, \"25\": {\"25\": 16}, \"75\": {\"75\": 16}, \"119\": {\"119\": 15, \"123\": 1}, \"46\": {\"46\": 18, \"31\": 1, \"122\": 1}, \"23\": {\"23\": 10, \"67\": 1, \"1\": 1, \"86\": 1, \"123\": 1, \"68\": 1, \"111\": 1}, \"99\": {\"99\": 40}, \"33\": {\"33\": 115, \"84\": 1, \"24\": 1, \"102\": 1}, \"47\": {\"47\": 9, \"112\": 1, \"49\": 1, \"83\": 1}, \"115\": {\"115\": 14, \"107\": 1, \"108\": 1}, \"6\": {\"85\": 1, \"6\": 20, \"58\": 2, \"122\": 1}, \"65\": {\"65\": 12}, \"66\": {\"66\": 12, \"90\": 1, \"44\": 3}, \"78\": {\"78\": 30, \"106\": 1, \"84\": 1, \"101\": 1, \"30\": 1, \"109\": 1, \"122\": 1}, \"98\": {\"98\": 116}, \"93\": {\"93\": 115, \"84\": 1}, \"48\": {\"48\": 15, \"62\": 1}, \"124\": {\"124\": 113, \"24\": 1}}, \"C_4\": {\"42\": {\"42\": 32}, \"0\": {\"0\": 80}, \"1\": {\"1\": 40}, \"39\": {\"39\": 20}, \"28\": {\"28\": 31, \"5\": 1}, \"53\": {\"53\": 124}, \"19\": {\"19\": 144}, \"34\": {\"34\": 24}, \"33\": {\"33\": 36}, \"32\": {\"32\": 24}, \"10\": {\"10\": 136}, \"46\": {\"46\": 122, \"47\": 3, \"15\": 2, \"11\": 3, \"3\": 1, \"1\": 1, \"5\": 1, \"52\": 1}, \"20\": {\"20\": 122}, \"5\": {\"5\": 104, \"16\": 4}, \"40\": {\"28\": 1, \"40\": 123}, \"51\": {\"51\": 144}, \"37\": {\"37\": 24}, \"17\": {\"17\": 80}, \"45\": {\"45\": 96}, \"13\": {\"13\": 142}, \"27\": {\"27\": 144}, \"24\": {\"24\": 56}, \"30\": {\"30\": 44}, \"31\": {\"31\": 28}, \"41\": {\"41\": 34, \"52\": 1, \"6\": 1}, \"36\": {\"36\": 92}, \"16\": {\"16\": 96}, \"22\": {\"22\": 128}, \"44\": {\"44\": 129, \"28\": 1, \"4\": 1, \"5\": 1}, \"9\": {\"9\": 139, \"8\": 1}, \"57\": {\"57\": 100}, \"8\": {\"8\": 138}, \"23\": {\"23\": 132}, \"47\": {\"47\": 120}, \"43\": {\"43\": 138}, \"49\": {\"49\": 20}, \"3\": {\"3\": 119, \"50\": 5}, \"12\": {\"12\": 92}, \"38\": {\"38\": 40}, \"7\": {\"7\": 24}, \"14\": {\"14\": 10, \"33\": 2, \"31\": 1, \"36\": 1, \"35\": 2}, \"15\": {\"15\": 145, \"16\": 1}, \"25\": {\"25\": 128}, \"26\": {\"26\": 24}, \"21\": {\"21\": 132}, \"48\": {\"48\": 144}, \"56\": {\"56\": 134}, \"11\": {\"11\": 104}, \"2\": {\"2\": 36}, \"6\": {\"6\": 112}, \"55\": {\"55\": 137, \"56\": 3}, \"54\": {\"54\": 108}, \"29\": {\"29\": 121, \"34\": 1, \"57\": 2}, \"50\": {\"50\": 119, \"3\": 3}, \"52\": {\"52\": 116}, \"35\": {\"35\": 40}, \"4\": {\"4\": 119, \"45\": 1}, \"18\": {\"18\": 108}}, \"C_5\": {\"43\": {\"43\": 152}, \"35\": {\"35\": 36}, \"54\": {\"54\": 112}, \"22\": {\"22\": 28}, \"16\": {\"16\": 146}, \"5\": {\"5\": 128}, \"28\": {\"28\": 32}, \"14\": {\"14\": 29, \"35\": 2, \"36\": 2, \"31\": 1, \"40\": 3, \"11\": 1, \"46\": 1, \"54\": 2, \"29\": 1, \"50\": 1, \"47\": 1}, \"51\": {\"51\": 128}, \"19\": {\"19\": 140}, \"31\": {\"31\": 36}, \"10\": {\"10\": 68}, \"21\": {\"21\": 136}, \"3\": {\"3\": 98, \"16\": 1, \"11\": 1}, \"57\": {\"57\": 132}, \"9\": {\"9\": 146}, \"8\": {\"8\": 132}, \"46\": {\"46\": 136, \"47\": 2, \"11\": 1, \"3\": 1}, \"23\": {\"23\": 124}, \"37\": {\"37\": 24}, \"34\": {\"34\": 36}, \"4\": {\"4\": 100}, \"6\": {\"6\": 116, \"21\": 8, \"20\": 2, \"51\": 1, \"17\": 1}, \"48\": {\"48\": 133, \"1\": 3}, \"44\": {\"44\": 137, \"45\": 1}, \"40\": {\"40\": 122, \"14\": 2}, \"12\": {\"12\": 96}, \"30\": {\"30\": 128}, \"39\": {\"39\": 20}, \"45\": {\"45\": 123, \"55\": 1}, \"36\": {\"36\": 92}, \"27\": {\"27\": 140}, \"32\": {\"32\": 32}, \"52\": {\"52\": 130}, \"0\": {\"0\": 124}, \"26\": {\"26\": 24}, \"1\": {\"1\": 147, \"48\": 1}, \"53\": {\"53\": 145, \"21\": 1}, \"25\": {\"25\": 144}, \"24\": {\"24\": 80}, \"7\": {\"7\": 32}, \"18\": {\"18\": 64}, \"20\": {\"20\": 144}, \"33\": {\"33\": 32}, \"55\": {\"55\": 140}, \"41\": {\"41\": 28}, \"42\": {\"42\": 39, \"45\": 1}, \"49\": {\"49\": 36}, \"13\": {\"13\": 148}, \"38\": {\"38\": 32}, \"2\": {\"2\": 28}, \"47\": {\"47\": 100}, \"17\": {\"17\": 116}, \"11\": {\"11\": 153, \"15\": 1}, \"29\": {\"29\": 132}, \"50\": {\"50\": 136, \"20\": 2}, \"56\": {\"56\": 148}, \"15\": {\"15\": 142}}, \"C_2\": {\"49\": {\"49\": 24}, \"13\": {\"13\": 116}, \"37\": {\"37\": 36}, \"41\": {\"41\": 20}, \"15\": {\"15\": 142}, \"56\": {\"56\": 141, \"45\": 1}, \"14\": {\"14\": 13, \"42\": 4, \"39\": 2, \"55\": 1, \"40\": 1, \"2\": 2, \"54\": 1}, \"3\": {\"3\": 91, \"16\": 1}, \"38\": {\"38\": 20}, \"43\": {\"43\": 138}, \"33\": {\"33\": 28}, \"47\": {\"47\": 138}, \"30\": {\"30\": 144}, \"39\": {\"39\": 28}, \"12\": {\"12\": 92}, \"6\": {\"6\": 124}, \"51\": {\"51\": 134}, \"5\": {\"5\": 119, \"16\": 1}, \"34\": {\"34\": 28}, \"35\": {\"35\": 32}, \"0\": {\"0\": 48}, \"7\": {\"7\": 36}, \"24\": {\"24\": 96}, \"8\": {\"8\": 136}, \"20\": {\"20\": 124}, \"36\": {\"36\": 116}, \"42\": {\"42\": 36}, \"1\": {\"1\": 112}, \"4\": {\"4\": 148}, \"28\": {\"28\": 27, \"43\": 1}, \"50\": {\"50\": 136}, \"45\": {\"45\": 128}, \"18\": {\"18\": 48}, \"57\": {\"57\": 120}, \"46\": {\"46\": 128}, \"23\": {\"23\": 148}, \"27\": {\"27\": 138}, \"19\": {\"19\": 134}, \"22\": {\"22\": 136}, \"17\": {\"17\": 104}, \"55\": {\"55\": 136}, \"44\": {\"44\": 99, \"29\": 1}, \"26\": {\"26\": 24}, \"31\": {\"31\": 28}, \"16\": {\"16\": 130}, \"11\": {\"11\": 128}, \"25\": {\"25\": 126}, \"54\": {\"54\": 108}, \"32\": {\"32\": 28}, \"52\": {\"52\": 124}, \"40\": {\"40\": 130, \"4\": 1, \"27\": 1}, \"2\": {\"2\": 32}, \"10\": {\"10\": 110}, \"53\": {\"53\": 136}, \"9\": {\"9\": 150}, \"21\": {\"21\": 120}, \"48\": {\"48\": 138}, \"29\": {\"29\": 127, \"57\": 1}}, \"W_2\": {\"115\": {\"115\": 12}, \"34\": {\"34\": 27, \"110\": 2, \"86\": 1, \"124\": 1, \"6\": 1}, \"97\": {\"97\": 16, \"15\": 1, \"14\": 1, \"101\": 2}, \"100\": {\"100\": 16}, \"129\": {\"129\": 31, \"118\": 1}, \"90\": {\"90\": 141, \"98\": 1}, \"125\": {\"125\": 131, \"2\": 1}, \"7\": {\"7\": 125, \"24\": 2, \"26\": 1}, \"92\": {\"92\": 26, \"89\": 2}, \"114\": {\"114\": 115, \"107\": 1}, \"80\": {\"80\": 15, \"41\": 1}, \"16\": {\"16\": 116, \"40\": 2, \"27\": 1, \"24\": 2, \"110\": 1}, \"69\": {\"69\": 113, \"24\": 1, \"70\": 1, \"87\": 1}, \"102\": {\"102\": 114}, \"33\": {\"33\": 130}, \"17\": {\"17\": 15, \"27\": 1}, \"27\": {\"27\": 63, \"36\": 2, \"24\": 2, \"26\": 1}, \"117\": {\"117\": 104, \"12\": 1, \"24\": 1}, \"14\": {\"14\": 46, \"80\": 1, \"21\": 1}, \"86\": {\"86\": 32}, \"0\": {\"0\": 113, \"21\": 1, \"69\": 1, \"24\": 1}, \"62\": {\"62\": 136, \"23\": 1, \"24\": 1}, \"39\": {\"39\": 104, \"110\": 1, \"1\": 1, \"94\": 2, \"69\": 2, \"70\": 1, \"18\": 1}, \"19\": {\"19\": 28}, \"44\": {\"44\": 100}, \"104\": {\"104\": 20}, \"3\": {\"3\": 125, \"87\": 1, \"24\": 1, \"62\": 1, \"21\": 1, \"36\": 1}, \"10\": {\"10\": 53, \"62\": 1, \"52\": 1, \"97\": 1, \"21\": 1, \"87\": 1, \"27\": 1, \"102\": 1}, \"61\": {\"61\": 16, \"51\": 1, \"70\": 1, \"80\": 2}, \"111\": {\"111\": 114}, \"68\": {\"68\": 16}, \"101\": {\"101\": 142, \"21\": 1, \"118\": 1}, \"36\": {\"36\": 119, \"51\": 1, \"18\": 1, \"24\": 1, \"106\": 1, \"70\": 1, \"73\": 1, \"4\": 1, \"40\": 1, \"30\": 1}, \"120\": {\"120\": 20}, \"103\": {\"103\": 16}, \"47\": {\"47\": 11, \"88\": 1}, \"98\": {\"98\": 120}, \"76\": {\"76\": 15, \"64\": 1}, \"88\": {\"88\": 120, \"126\": 2, \"47\": 1, \"27\": 1}, \"93\": {\"93\": 136, \"118\": 1, \"24\": 1}, \"23\": {\"23\": 34, \"4\": 3, \"19\": 1, \"70\": 1, \"111\": 1, \"116\": 2, \"60\": 1, \"99\": 1}, \"108\": {\"108\": 123, \"109\": 1}, \"51\": {\"51\": 15, \"14\": 1, \"41\": 1, \"58\": 1, \"70\": 1, \"24\": 1}, \"13\": {\"13\": 13, \"36\": 1, \"62\": 1, \"118\": 1}, \"77\": {\"77\": 15, \"66\": 1}, \"46\": {\"46\": 16}, \"96\": {\"96\": 20}, \"119\": {\"119\": 19, \"1\": 1}, \"121\": {\"121\": 33, \"65\": 2, \"41\": 1}, \"54\": {\"54\": 19, \"28\": 1}, \"82\": {\"82\": 35, \"78\": 1}, \"12\": {\"12\": 84, \"62\": 1, \"107\": 1, \"24\": 1, \"127\": 1}, \"74\": {\"74\": 15, \"22\": 1}, \"66\": {\"66\": 17, \"86\": 1, \"24\": 1, \"27\": 1}, \"28\": {\"28\": 20}, \"52\": {\"52\": 18, \"59\": 1, \"110\": 1}, \"41\": {\"41\": 18, \"15\": 1, \"110\": 1}, \"81\": {\"81\": 24}, \"48\": {\"48\": 20}, \"113\": {\"113\": 70, \"49\": 1, \"107\": 1}, \"53\": {\"53\": 16}, \"15\": {\"15\": 116, \"97\": 1, \"111\": 2, \"36\": 1}, \"30\": {\"30\": 108, \"24\": 1, \"12\": 1, \"107\": 1, \"36\": 1}, \"43\": {\"43\": 121, \"106\": 1, \"107\": 1, \"122\": 1}, \"29\": {\"29\": 31, \"110\": 1}, \"109\": {\"109\": 93, \"110\": 1, \"120\": 1, \"39\": 2, \"70\": 1, \"84\": 1, \"24\": 1}, \"60\": {\"43\": 1, \"70\": 1, \"60\": 19, \"122\": 2, \"87\": 1, \"21\": 2, \"27\": 1, \"46\": 1}, \"70\": {\"70\": 111, \"25\": 1, \"69\": 1, \"6\": 1, \"49\": 1, \"71\": 1, \"122\": 1, \"21\": 3, \"9\": 1, \"3\": 1}, \"127\": {\"127\": 120, \"97\": 2, \"16\": 1, \"111\": 1}, \"32\": {\"32\": 23, \"52\": 1, \"0\": 4, \"21\": 2, \"105\": 1, \"10\": 2, \"62\": 3}, \"73\": {\"73\": 27, \"88\": 1}, \"50\": {\"50\": 13, \"69\": 1, \"62\": 1, \"78\": 1}, \"1\": {\"1\": 119, \"105\": 1, \"12\": 1, \"87\": 1, \"36\": 1, \"24\": 1}, \"106\": {\"106\": 116, \"27\": 1, \"94\": 1, \"62\": 1, \"36\": 1}, \"123\": {\"123\": 16}, \"79\": {\"79\": 16}, \"4\": {\"4\": 85, \"94\": 1, \"129\": 1, \"102\": 1}, \"2\": {\"2\": 30, \"26\": 2}, \"8\": {\"8\": 124, \"69\": 2, \"12\": 1, \"84\": 1}, \"83\": {\"83\": 40}, \"105\": {\"105\": 129, \"21\": 1}, \"5\": {\"5\": 107, \"82\": 1, \"70\": 2, \"23\": 1, \"94\": 1}, \"99\": {\"99\": 32}, \"25\": {\"25\": 15, \"28\": 1}, \"59\": {\"59\": 13, \"62\": 1, \"95\": 1, \"69\": 1}, \"42\": {\"42\": 24, \"83\": 1, \"89\": 1, \"37\": 1, \"18\": 1}, \"55\": {\"55\": 16}, \"75\": {\"75\": 16}, \"118\": {\"118\": 67, \"36\": 1}, \"95\": {\"95\": 31, \"4\": 1, \"62\": 1, \"13\": 1, \"40\": 2}, \"122\": {\"122\": 116, \"24\": 1, \"111\": 1, \"70\": 1, \"5\": 1}, \"20\": {\"20\": 16}, \"110\": {\"110\": 36, \"34\": 1, \"21\": 1, \"107\": 1, \"69\": 1}, \"65\": {\"65\": 20}, \"37\": {\"79\": 1, \"37\": 12, \"64\": 1, \"95\": 1, \"124\": 1}, \"64\": {\"64\": 16}, \"63\": {\"63\": 19, \"93\": 1}, \"40\": {\"40\": 129, \"12\": 1, \"24\": 1, \"69\": 3, \"88\": 1, \"18\": 1, \"73\": 1, \"71\": 1, \"110\": 1, \"4\": 1}, \"21\": {\"21\": 42, \"70\": 2, \"82\": 1, \"62\": 1, \"39\": 1, \"73\": 1}, \"11\": {\"11\": 77, \"122\": 1, \"47\": 1, \"102\": 1}, \"67\": {\"67\": 16}, \"91\": {\"103\": 1, \"25\": 1, \"91\": 24, \"18\": 1, \"29\": 1}, \"87\": {\"87\": 101, \"116\": 2, \"1\": 1, \"102\": 2, \"24\": 1, \"110\": 1, \"84\": 2, \"94\": 1, \"69\": 1}, \"89\": {\"89\": 31, \"69\": 1, \"83\": 1, \"92\": 2, \"119\": 1}, \"9\": {\"9\": 32}, \"124\": {\"124\": 114}, \"56\": {\"56\": 10, \"12\": 1, \"30\": 1}, \"38\": {\"38\": 16}, \"94\": {\"94\": 58, \"27\": 1, \"102\": 2, \"12\": 1, \"36\": 1, \"39\": 1}, \"6\": {\"6\": 31, \"45\": 1}, \"58\": {\"58\": 19, \"42\": 1}, \"22\": {\"22\": 20}, \"24\": {\"24\": 99, \"118\": 1, \"107\": 1, \"36\": 1, \"27\": 2, \"70\": 1, \"69\": 4, \"16\": 1, \"109\": 1, \"101\": 1}, \"57\": {\"57\": 20}, \"112\": {\"112\": 8, \"53\": 1, \"11\": 2, \"111\": 1, \"49\": 1, \"44\": 2, \"94\": 1}, \"116\": {\"116\": 24, \"107\": 1, \"60\": 1, \"78\": 1, \"70\": 1}, \"18\": {\"18\": 120, \"42\": 1, \"117\": 1, \"94\": 1, \"69\": 1, \"24\": 2, \"27\": 1, \"39\": 1}, \"49\": {\"49\": 18, \"112\": 1, \"129\": 1, \"11\": 1, \"122\": 1, \"58\": 1, \"5\": 1}, \"45\": {\"45\": 16}, \"107\": {\"107\": 53, \"10\": 1, \"0\": 1, \"94\": 1, \"4\": 2, \"62\": 1, \"61\": 1, \"110\": 1, \"6\": 1, \"36\": 1, \"87\": 1}, \"35\": {\"35\": 12}, \"78\": {\"78\": 43, \"31\": 1, \"118\": 1, \"94\": 1, \"36\": 1, \"21\": 1}, \"126\": {\"126\": 120}, \"85\": {\"85\": 32}, \"72\": {\"72\": 27, \"36\": 1}, \"26\": {\"26\": 121, \"70\": 1, \"102\": 1, \"18\": 1}, \"84\": {\"84\": 89, \"118\": 1, \"87\": 1, \"2\": 1}, \"128\": {\"128\": 17, \"114\": 1, \"97\": 2, \"54\": 2, \"101\": 1, \"71\": 1}, \"31\": {\"31\": 20}, \"71\": {\"71\": 98, \"40\": 1, \"11\": 1}}, \"C_1\": {\"9\": {\"9\": 142}, \"25\": {\"25\": 128}, \"41\": {\"41\": 24}, \"29\": {\"29\": 140}, \"46\": {\"46\": 127, \"48\": 1}, \"4\": {\"4\": 132}, \"31\": {\"31\": 28}, \"36\": {\"36\": 64}, \"20\": {\"20\": 128}, \"7\": {\"7\": 28}, \"6\": {\"6\": 93, \"5\": 1, \"14\": 1, \"2\": 1}, \"16\": {\"16\": 138}, \"17\": {\"17\": 64}, \"50\": {\"50\": 148}, \"57\": {\"57\": 144}, \"23\": {\"23\": 136}, \"3\": {\"3\": 125, \"45\": 1}, \"53\": {\"53\": 140}, \"49\": {\"49\": 32}, \"56\": {\"56\": 152}, \"51\": {\"51\": 142}, \"26\": {\"26\": 24}, \"43\": {\"43\": 144}, \"22\": {\"22\": 136}, \"45\": {\"45\": 146}, \"13\": {\"13\": 152}, \"12\": {\"12\": 116}, \"54\": {\"54\": 104}, \"24\": {\"24\": 102, \"22\": 4, \"21\": 2}, \"44\": {\"44\": 136}, \"28\": {\"28\": 28}, \"33\": {\"33\": 32}, \"38\": {\"38\": 24}, \"0\": {\"0\": 144}, \"47\": {\"47\": 154}, \"42\": {\"42\": 40}, \"34\": {\"34\": 24}, \"48\": {\"48\": 142}, \"35\": {\"35\": 36}, \"2\": {\"2\": 36}, \"30\": {\"30\": 120}, \"18\": {\"18\": 72}, \"37\": {\"37\": 32}, \"1\": {\"1\": 100}, \"11\": {\"11\": 138}, \"55\": {\"55\": 130}, \"15\": {\"15\": 150}, \"10\": {\"10\": 96}, \"27\": {\"27\": 160}, \"19\": {\"19\": 146}, \"14\": {\"8\": 1, \"14\": 15, \"26\": 1, \"30\": 3, \"2\": 1, \"6\": 2, \"5\": 1}, \"8\": {\"8\": 140}, \"5\": {\"5\": 135, \"2\": 1}, \"39\": {\"39\": 28}, \"52\": {\"52\": 122}, \"21\": {\"21\": 123, \"24\": 1}, \"40\": {\"40\": 152}, \"32\": {\"32\": 32}}, \"C_3\": {\"56\": {\"56\": 120}, \"4\": {\"4\": 146}, \"34\": {\"34\": 32}, \"52\": {\"52\": 136}, \"32\": {\"32\": 28}, \"46\": {\"46\": 136}, \"12\": {\"12\": 92}, \"20\": {\"20\": 132}, \"54\": {\"54\": 100}, \"22\": {\"22\": 140}, \"26\": {\"26\": 24}, \"31\": {\"31\": 28}, \"10\": {\"10\": 64}, \"27\": {\"27\": 144}, \"40\": {\"40\": 134, \"8\": 1, \"9\": 1}, \"28\": {\"28\": 28}, \"5\": {\"5\": 111, \"50\": 2, \"55\": 1, \"43\": 2}, \"30\": {\"30\": 119, \"18\": 1}, \"7\": {\"7\": 36}, \"18\": {\"18\": 84}, \"39\": {\"39\": 16}, \"50\": {\"50\": 136}, \"49\": {\"49\": 20}, \"43\": {\"43\": 122}, \"29\": {\"29\": 113, \"57\": 1}, \"35\": {\"35\": 28}, \"13\": {\"13\": 124}, \"36\": {\"36\": 100}, \"11\": {\"11\": 146}, \"57\": {\"57\": 124}, \"9\": {\"9\": 130}, \"25\": {\"25\": 130}, \"16\": {\"16\": 126}, \"53\": {\"53\": 118}, \"33\": {\"33\": 28}, \"51\": {\"51\": 128}, \"44\": {\"44\": 85, \"40\": 3}, \"48\": {\"48\": 114}, \"6\": {\"6\": 87, \"38\": 1}, \"23\": {\"23\": 144}, \"1\": {\"1\": 100}, \"17\": {\"17\": 108}, \"21\": {\"21\": 122}, \"14\": {\"28\": 2, \"43\": 3, \"14\": 29, \"42\": 2, \"55\": 2, \"47\": 1, \"27\": 1}, \"55\": {\"55\": 144}, \"41\": {\"41\": 28}, \"3\": {\"3\": 138}, \"38\": {\"38\": 28}, \"2\": {\"2\": 32}, \"8\": {\"8\": 142}, \"37\": {\"37\": 28}, \"45\": {\"45\": 60}, \"42\": {\"42\": 28}, \"24\": {\"24\": 104}, \"15\": {\"15\": 136}, \"0\": {\"0\": 124}, \"47\": {\"47\": 92}, \"19\": {\"19\": 120}}, \"W_1\": {\"22\": {\"22\": 16}, \"58\": {\"58\": 10, \"112\": 1, \"8\": 1}, \"109\": {\"109\": 122, \"126\": 2}, \"77\": {\"77\": 16}, \"74\": {\"74\": 16}, \"10\": {\"10\": 119, \"109\": 1}, \"70\": {\"70\": 122, \"128\": 1, \"84\": 1, \"12\": 1, \"72\": 1, \"62\": 1, \"114\": 1}, \"84\": {\"84\": 108}, \"52\": {\"52\": 20}, \"20\": {\"20\": 15, \"102\": 1}, \"14\": {\"14\": 95, \"122\": 1}, \"37\": {\"37\": 16}, \"42\": {\"42\": 24, \"109\": 1, \"98\": 1, \"2\": 1, \"29\": 1}, \"99\": {\"99\": 24}, \"35\": {\"35\": 12}, \"62\": {\"62\": 119, \"26\": 1}, \"61\": {\"61\": 12}, \"7\": {\"7\": 141, \"43\": 1}, \"69\": {\"69\": 100, \"88\": 1, \"27\": 1, \"94\": 1, \"36\": 1}, \"55\": {\"55\": 12}, \"41\": {\"41\": 16}, \"120\": {\"120\": 18, \"8\": 1, \"34\": 1}, \"123\": {\"123\": 16}, \"97\": {\"97\": 14, \"78\": 1, \"47\": 1, \"42\": 1, \"24\": 1, \"102\": 1, \"95\": 1}, \"102\": {\"102\": 119, \"16\": 1}, \"60\": {\"120\": 2, \"60\": 7, \"40\": 1, \"42\": 2, \"21\": 1, \"55\": 1, \"8\": 1, \"106\": 1}, \"127\": {\"127\": 104, \"4\": 1, \"122\": 2, \"78\": 1}, \"32\": {\"32\": 30, \"127\": 2}, \"3\": {\"3\": 83, \"18\": 1, \"129\": 1, \"12\": 1, \"40\": 1, \"39\": 1}, \"8\": {\"8\": 120, \"29\": 2}, \"129\": {\"129\": 25, \"2\": 1, \"102\": 2}, \"119\": {\"119\": 16}, \"21\": {\"21\": 35, \"70\": 1, \"78\": 1, \"129\": 1, \"83\": 1, \"84\": 1}, \"53\": {\"53\": 20}, \"28\": {\"28\": 20}, \"117\": {\"117\": 144}, \"112\": {\"112\": 16}, \"126\": {\"126\": 131, \"109\": 1, \"107\": 1, \"122\": 1}, \"30\": {\"30\": 52}, \"105\": {\"105\": 79, \"102\": 1, \"6\": 2, \"40\": 2}, \"29\": {\"29\": 28}, \"57\": {\"57\": 12}, \"93\": {\"93\": 140}, \"17\": {\"17\": 15, \"78\": 1}, \"44\": {\"44\": 76}, \"63\": {\"63\": 16}, \"87\": {\"87\": 107, \"27\": 1}, \"0\": {\"0\": 83, \"122\": 1}, \"96\": {\"96\": 18, \"91\": 1, \"126\": 1}, \"98\": {\"98\": 108}, \"75\": {\"75\": 16}, \"78\": {\"78\": 11, \"43\": 3, \"21\": 1, \"110\": 1}, \"116\": {\"116\": 29, \"21\": 1, \"83\": 1, \"94\": 1}, \"114\": {\"114\": 126, \"3\": 1, \"94\": 1}, \"103\": {\"103\": 12, \"124\": 1, \"9\": 2, \"125\": 1}, \"50\": {\"50\": 16}, \"124\": {\"124\": 128}, \"5\": {\"5\": 86, \"27\": 1, \"14\": 1}, \"73\": {\"73\": 19, \"93\": 1}, \"81\": {\"81\": 28}, \"49\": {\"49\": 14, \"50\": 1, \"70\": 2, \"30\": 1, \"126\": 1, \"96\": 1}, \"16\": {\"16\": 105, \"102\": 1, \"107\": 1, \"34\": 1}, \"101\": {\"101\": 124}, \"125\": {\"125\": 118}, \"65\": {\"66\": 1, \"65\": 8, \"45\": 1, \"19\": 1, \"82\": 1}, \"66\": {\"66\": 16}, \"79\": {\"79\": 12}, \"39\": {\"39\": 103, \"6\": 1}, \"104\": {\"104\": 16}, \"91\": {\"91\": 27, \"51\": 1}, \"25\": {\"25\": 16}, \"64\": {\"64\": 16}, \"34\": {\"60\": 2, \"34\": 18, \"51\": 1, \"42\": 1, \"102\": 1, \"6\": 2, \"125\": 1, \"39\": 1, \"83\": 1, \"98\": 1, \"114\": 1, \"122\": 2}, \"82\": {\"82\": 36}, \"18\": {\"18\": 124}, \"43\": {\"43\": 127, \"6\": 1}, \"47\": {\"47\": 12}, \"108\": {\"108\": 120, \"24\": 2, \"70\": 1, \"87\": 1}, \"111\": {\"111\": 108}, \"23\": {\"23\": 11, \"4\": 1, \"66\": 1, \"95\": 2, \"110\": 3, \"32\": 1, \"7\": 1, \"53\": 2, \"107\": 2}, \"90\": {\"90\": 157, \"122\": 1, \"113\": 1, \"102\": 1}, \"4\": {\"4\": 99, \"27\": 1}, \"92\": {\"92\": 28}, \"2\": {\"45\": 1, \"2\": 21, \"54\": 1, \"42\": 1, \"82\": 4, \"11\": 3, \"43\": 1}, \"45\": {\"70\": 1, \"45\": 5, \"104\": 1, \"42\": 1, \"102\": 1, \"46\": 1, \"21\": 1, \"124\": 1}, \"68\": {\"68\": 16}, \"26\": {\"26\": 128}, \"38\": {\"38\": 16}, \"40\": {\"40\": 142}, \"80\": {\"80\": 14, \"52\": 1, \"73\": 1}, \"107\": {\"107\": 118, \"65\": 1, \"102\": 2, \"87\": 1}, \"94\": {\"94\": 92}, \"115\": {\"115\": 12}, \"46\": {\"46\": 7, \"30\": 1, \"52\": 2, \"62\": 1, \"6\": 1}, \"72\": {\"72\": 32}, \"19\": {\"19\": 28}, \"100\": {\"100\": 14, \"65\": 1, \"24\": 1}, \"76\": {\"76\": 15, \"88\": 1}, \"106\": {\"106\": 132}, \"88\": {\"88\": 127, \"27\": 2, \"36\": 1}, \"15\": {\"15\": 96, \"71\": 1, \"27\": 2, \"111\": 3, \"106\": 1, \"70\": 1}, \"54\": {\"54\": 14, \"60\": 1, \"21\": 1}, \"13\": {\"13\": 16}, \"51\": {\"51\": 16}, \"24\": {\"24\": 89, \"108\": 2, \"34\": 1}, \"48\": {\"48\": 12}, \"85\": {\"85\": 32}, \"33\": {\"33\": 140}, \"71\": {\"71\": 104, \"126\": 2, \"117\": 1, \"6\": 1}, \"6\": {\"6\": 30, \"98\": 1, \"52\": 1}, \"83\": {\"83\": 26, \"102\": 1, \"118\": 1}, \"121\": {\"121\": 32}, \"31\": {\"31\": 15, \"122\": 1}, \"67\": {\"65\": 1, \"67\": 13, \"80\": 2}, \"1\": {\"1\": 135, \"110\": 1}, \"27\": {\"27\": 91, \"107\": 1}, \"118\": {\"118\": 82, \"87\": 1, \"103\": 1}, \"56\": {\"56\": 12}, \"36\": {\"36\": 126, \"39\": 1, \"88\": 1}, \"11\": {\"11\": 125, \"88\": 1}, \"110\": {\"110\": 120, \"88\": 1, \"18\": 1}, \"89\": {\"89\": 36}, \"113\": {\"113\": 112, \"6\": 1, \"40\": 1, \"33\": 1, \"87\": 1, \"110\": 1, \"102\": 1}, \"59\": {\"59\": 12}, \"9\": {\"9\": 31, \"6\": 1}, \"86\": {\"86\": 34, \"94\": 1, \"10\": 1}, \"12\": {\"12\": 98, \"71\": 1, \"122\": 1, \"106\": 2, \"39\": 2}, \"122\": {\"122\": 86, \"87\": 1, \"70\": 1}, \"128\": {\"128\": 14, \"114\": 1, \"70\": 6, \"82\": 1, \"83\": 1, \"72\": 1}, \"95\": {\"59\": 1, \"95\": 34, \"102\": 1}}, \"O_14\": {\"15\": {\"1\": 3, \"15\": 100, \"2\": 9, \"7\": 65, \"13\": 24, \"6\": 11, \"4\": 14, \"5\": 11, \"14\": 2, \"8\": 1}, \"5\": {\"15\": 12, \"2\": 11, \"1\": 19, \"5\": 37, \"4\": 50, \"3\": 25, \"0\": 4, \"7\": 23, \"10\": 10, \"6\": 12, \"13\": 16, \"14\": 16, \"11\": 2, \"8\": 3}, \"7\": {\"15\": 48, \"1\": 16, \"5\": 24, \"7\": 78, \"6\": 9, \"4\": 19, \"8\": 2, \"14\": 5, \"3\": 5, \"13\": 16, \"2\": 18}, \"4\": {\"0\": 10, \"13\": 12, \"4\": 37, \"1\": 29, \"5\": 38, \"3\": 26, \"7\": 12, \"2\": 17, \"10\": 20, \"14\": 15, \"6\": 10, \"8\": 6, \"11\": 3, \"15\": 5}, \"10\": {\"13\": 3, \"4\": 30, \"0\": 37, \"10\": 46, \"11\": 19, \"2\": 15, \"1\": 11, \"3\": 38, \"14\": 17, \"8\": 8, \"6\": 5, \"5\": 5, \"9\": 6}, \"11\": {\"11\": 75, \"0\": 53, \"8\": 7, \"3\": 15, \"9\": 23, \"14\": 20, \"10\": 28, \"5\": 1, \"4\": 6, \"12\": 8, \"2\": 2, \"6\": 1, \"1\": 1}, \"12\": {\"12\": 128, \"8\": 13, \"9\": 66, \"11\": 24, \"0\": 8, \"10\": 1}, \"0\": {\"0\": 51, \"10\": 42, \"3\": 24, \"11\": 47, \"12\": 4, \"2\": 8, \"4\": 11, \"9\": 11, \"14\": 16, \"8\": 13, \"6\": 3, \"5\": 5, \"13\": 1, \"1\": 4}, \"14\": {\"11\": 4, \"14\": 60, \"1\": 9, \"0\": 12, \"5\": 19, \"6\": 30, \"2\": 34, \"10\": 15, \"3\": 14, \"13\": 24, \"7\": 2, \"4\": 17}, \"8\": {\"0\": 20, \"11\": 17, \"8\": 105, \"10\": 12, \"3\": 14, \"4\": 7, \"9\": 23, \"1\": 23, \"2\": 3, \"7\": 2, \"12\": 5, \"5\": 8, \"14\": 1}, \"13\": {\"15\": 10, \"7\": 9, \"4\": 14, \"6\": 49, \"13\": 63, \"2\": 30, \"5\": 15, \"14\": 25, \"0\": 5, \"10\": 3, \"3\": 9, \"1\": 7, \"11\": 1}, \"6\": {\"7\": 7, \"14\": 29, \"2\": 29, \"3\": 19, \"6\": 44, \"4\": 20, \"13\": 52, \"0\": 4, \"1\": 7, \"10\": 8, \"5\": 15, \"15\": 5, \"11\": 1}, \"1\": {\"1\": 60, \"5\": 34, \"4\": 29, \"13\": 4, \"2\": 19, \"0\": 9, \"8\": 23, \"3\": 28, \"14\": 10, \"6\": 4, \"10\": 8, \"7\": 7, \"11\": 1, \"15\": 4}, \"3\": {\"13\": 10, \"14\": 22, \"10\": 34, \"6\": 10, \"2\": 24, \"0\": 16, \"3\": 41, \"4\": 26, \"5\": 16, \"1\": 21, \"11\": 5, \"8\": 8, \"7\": 6, \"9\": 1}, \"9\": {\"11\": 41, \"9\": 73, \"8\": 16, \"12\": 62, \"0\": 34, \"10\": 8, \"2\": 2, \"1\": 2, \"4\": 2}, \"2\": {\"1\": 18, \"2\": 30, \"5\": 33, \"6\": 34, \"4\": 25, \"8\": 1, \"14\": 35, \"13\": 24, \"15\": 4, \"3\": 14, \"10\": 9, \"0\": 7, \"7\": 4, \"11\": 2}}, \"O_20\": {\"4\": {\"8\": 16, \"14\": 24, \"5\": 15, \"6\": 16, \"10\": 26, \"4\": 41, \"7\": 16, \"3\": 17, \"0\": 11, \"12\": 16, \"9\": 10, \"15\": 9, \"13\": 5, \"1\": 9, \"2\": 7, \"11\": 2}, \"10\": {\"2\": 14, \"10\": 49, \"12\": 12, \"0\": 6, \"6\": 24, \"14\": 30, \"13\": 4, \"7\": 14, \"3\": 12, \"9\": 7, \"8\": 28, \"4\": 26, \"1\": 7, \"15\": 1, \"11\": 2, \"5\": 4}, \"15\": {\"5\": 23, \"1\": 23, \"12\": 18, \"2\": 21, \"9\": 25, \"0\": 25, \"15\": 42, \"4\": 7, \"13\": 23, \"3\": 17, \"8\": 2, \"7\": 11, \"10\": 2, \"14\": 1}, \"0\": {\"9\": 18, \"0\": 37, \"5\": 22, \"13\": 19, \"7\": 11, \"8\": 20, \"12\": 13, \"2\": 14, \"3\": 16, \"1\": 17, \"15\": 22, \"4\": 12, \"6\": 8, \"10\": 6, \"14\": 4, \"11\": 1}, \"6\": {\"6\": 29, \"4\": 25, \"12\": 7, \"7\": 27, \"11\": 13, \"10\": 32, \"14\": 38, \"3\": 10, \"9\": 9, \"2\": 10, \"8\": 25, \"0\": 3, \"13\": 6, \"5\": 5, \"1\": 1}, \"3\": {\"2\": 23, \"9\": 25, \"5\": 15, \"4\": 19, \"12\": 22, \"13\": 16, \"14\": 9, \"0\": 21, \"10\": 10, \"6\": 5, \"3\": 15, \"1\": 16, \"8\": 10, \"15\": 13, \"7\": 18, \"11\": 3}, \"7\": {\"9\": 26, \"4\": 18, \"5\": 16, \"1\": 8, \"10\": 18, \"8\": 14, \"2\": 22, \"6\": 12, \"3\": 23, \"0\": 12, \"14\": 7, \"7\": 19, \"12\": 14, \"11\": 8, \"15\": 11, \"13\": 12}, \"2\": {\"4\": 5, \"6\": 10, \"13\": 20, \"9\": 29, \"8\": 17, \"2\": 23, \"10\": 5, \"11\": 14, \"15\": 15, \"7\": 18, \"3\": 14, \"1\": 19, \"12\": 24, \"14\": 5, \"0\": 11, \"5\": 11}, \"8\": {\"9\": 11, \"12\": 17, \"0\": 10, \"7\": 12, \"8\": 36, \"4\": 19, \"14\": 28, \"6\": 29, \"10\": 27, \"2\": 10, \"13\": 5, \"3\": 11, \"1\": 5, \"5\": 13, \"11\": 6, \"15\": 1}, \"11\": {\"9\": 18, \"7\": 23, \"12\": 17, \"11\": 78, \"2\": 24, \"3\": 5, \"0\": 4, \"13\": 17, \"8\": 13, \"14\": 7, \"1\": 10, \"6\": 9, \"5\": 6, \"10\": 2, \"4\": 4, \"15\": 3}, \"14\": {\"4\": 24, \"10\": 40, \"6\": 38, \"7\": 16, \"9\": 13, \"8\": 37, \"14\": 42, \"0\": 6, \"12\": 4, \"2\": 7, \"5\": 4, \"1\": 1, \"3\": 5, \"11\": 2, \"13\": 1}, \"12\": {\"13\": 20, \"12\": 19, \"5\": 25, \"1\": 20, \"3\": 23, \"7\": 13, \"8\": 12, \"4\": 13, \"15\": 21, \"2\": 22, \"9\": 13, \"10\": 7, \"0\": 12, \"11\": 10, \"14\": 5, \"6\": 5}, \"13\": {\"9\": 27, \"12\": 25, \"13\": 30, \"2\": 23, \"0\": 15, \"3\": 18, \"7\": 20, \"5\": 17, \"15\": 19, \"1\": 22, \"4\": 5, \"14\": 2, \"11\": 5, \"10\": 3, \"8\": 7, \"6\": 2}, \"9\": {\"12\": 32, \"7\": 22, \"6\": 12, \"5\": 12, \"2\": 21, \"4\": 12, \"13\": 21, \"1\": 18, \"8\": 13, \"0\": 10, \"9\": 26, \"3\": 18, \"15\": 8, \"10\": 6, \"11\": 5, \"14\": 4}, \"5\": {\"13\": 18, \"4\": 17, \"6\": 7, \"9\": 12, \"3\": 21, \"12\": 20, \"8\": 14, \"2\": 12, \"1\": 18, \"7\": 21, \"0\": 23, \"5\": 23, \"10\": 5, \"14\": 6, \"15\": 21, \"11\": 2}, \"1\": {\"2\": 20, \"0\": 18, \"12\": 22, \"13\": 36, \"3\": 19, \"7\": 14, \"1\": 20, \"9\": 22, \"5\": 27, \"15\": 23, \"6\": 3, \"8\": 3, \"10\": 5, \"14\": 3, \"4\": 4, \"11\": 1}}, \"O_50\": {\"5\": {\"7\": 36, \"5\": 46, \"1\": 14, \"10\": 21, \"13\": 32, \"12\": 1, \"11\": 8, \"4\": 15, \"0\": 13, \"6\": 20, \"15\": 20, \"8\": 3, \"14\": 7, \"2\": 2, \"3\": 2}, \"12\": {\"11\": 32, \"12\": 88, \"4\": 5, \"15\": 11, \"14\": 52, \"1\": 4, \"9\": 44, \"2\": 2, \"5\": 2}, \"14\": {\"6\": 9, \"14\": 68, \"11\": 26, \"1\": 25, \"9\": 13, \"2\": 19, \"12\": 39, \"5\": 6, \"0\": 10, \"15\": 8, \"4\": 11, \"13\": 4, \"7\": 2}, \"4\": {\"15\": 42, \"5\": 25, \"4\": 43, \"11\": 16, \"9\": 9, \"1\": 34, \"6\": 23, \"13\": 18, \"12\": 6, \"7\": 10, \"0\": 2, \"14\": 7, \"10\": 5}, \"13\": {\"7\": 34, \"5\": 39, \"0\": 14, \"13\": 43, \"4\": 21, \"6\": 22, \"15\": 16, \"1\": 20, \"10\": 14, \"2\": 3, \"3\": 2, \"11\": 2, \"8\": 3, \"12\": 1, \"14\": 6}, \"10\": {\"13\": 27, \"6\": 4, \"10\": 44, \"8\": 36, \"7\": 24, \"0\": 50, \"1\": 2, \"3\": 8, \"5\": 18, \"4\": 3, \"2\": 21, \"14\": 3}, \"9\": {\"15\": 17, \"12\": 49, \"9\": 67, \"14\": 32, \"11\": 43, \"6\": 2, \"1\": 12, \"4\": 15, \"5\": 3}, \"15\": {\"15\": 48, \"13\": 11, \"4\": 39, \"1\": 37, \"6\": 30, \"14\": 7, \"9\": 6, \"11\": 30, \"7\": 13, \"0\": 1, \"5\": 17, \"8\": 1}, \"6\": {\"2\": 5, \"1\": 32, \"13\": 32, \"6\": 41, \"14\": 4, \"15\": 27, \"11\": 14, \"10\": 6, \"4\": 33, \"5\": 14, \"7\": 27, \"0\": 4, \"9\": 1}, \"2\": {\"2\": 97, \"0\": 68, \"5\": 5, \"14\": 15, \"13\": 8, \"8\": 6, \"7\": 3, \"10\": 30, \"4\": 2, \"1\": 4, \"6\": 1, \"12\": 1}, \"0\": {\"10\": 40, \"2\": 53, \"0\": 74, \"13\": 16, \"8\": 25, \"14\": 3, \"7\": 10, \"4\": 3, \"5\": 7, \"1\": 2, \"9\": 1, \"6\": 4, \"3\": 2}, \"11\": {\"14\": 16, \"1\": 21, \"9\": 50, \"4\": 29, \"12\": 31, \"15\": 19, \"11\": 59, \"5\": 7, \"7\": 1, \"13\": 2, \"6\": 5}, \"3\": {\"10\": 22, \"3\": 130, \"7\": 12, \"8\": 62, \"0\": 5, \"13\": 5, \"2\": 3, \"5\": 1}, \"8\": {\"0\": 36, \"10\": 44, \"8\": 84, \"2\": 11, \"7\": 11, \"3\": 46, \"13\": 4, \"5\": 3, \"6\": 1}, \"7\": {\"7\": 56, \"15\": 9, \"4\": 17, \"5\": 20, \"13\": 44, \"1\": 17, \"14\": 2, \"0\": 15, \"6\": 25, \"10\": 21, \"8\": 4, \"2\": 4, \"3\": 2, \"11\": 4}, \"1\": {\"7\": 10, \"1\": 40, \"5\": 23, \"15\": 29, \"4\": 24, \"13\": 29, \"6\": 19, \"10\": 5, \"12\": 5, \"14\": 19, \"11\": 23, \"0\": 4, \"2\": 6, \"9\": 4}}, \"O_26\": {\"7\": {\"7\": 17, \"10\": 28, \"8\": 18, \"15\": 20, \"5\": 18, \"9\": 17, \"4\": 17, \"3\": 21, \"6\": 6, \"2\": 18, \"14\": 22, \"0\": 17, \"1\": 15, \"13\": 6}, \"6\": {\"9\": 19, \"0\": 20, \"7\": 13, \"10\": 21, \"12\": 16, \"6\": 32, \"8\": 17, \"15\": 24, \"5\": 10, \"3\": 4, \"1\": 7, \"2\": 13, \"13\": 13, \"14\": 12, \"4\": 16, \"11\": 3}, \"14\": {\"4\": 34, \"9\": 11, \"15\": 22, \"0\": 19, \"10\": 29, \"1\": 19, \"6\": 12, \"7\": 24, \"3\": 9, \"14\": 22, \"5\": 3, \"2\": 11, \"8\": 20, \"13\": 4, \"12\": 1}, \"15\": {\"13\": 20, \"1\": 6, \"8\": 19, \"15\": 33, \"5\": 18, \"0\": 14, \"4\": 14, \"9\": 22, \"10\": 19, \"7\": 13, \"2\": 11, \"3\": 8, \"14\": 12, \"6\": 20, \"12\": 11}, \"5\": {\"3\": 24, \"2\": 25, \"5\": 36, \"13\": 41, \"9\": 27, \"8\": 16, \"10\": 8, \"6\": 6, \"14\": 6, \"1\": 3, \"11\": 2, \"0\": 11, \"15\": 21, \"4\": 7, \"7\": 7}, \"10\": {\"14\": 20, \"7\": 18, \"0\": 21, \"10\": 25, \"13\": 5, \"15\": 22, \"9\": 11, \"8\": 23, \"6\": 19, \"12\": 11, \"3\": 10, \"4\": 22, \"1\": 19, \"2\": 6, \"5\": 8}, \"4\": {\"14\": 24, \"0\": 21, \"3\": 21, \"7\": 21, \"10\": 19, \"8\": 22, \"1\": 23, \"12\": 4, \"15\": 9, \"6\": 12, \"9\": 17, \"4\": 26, \"2\": 12, \"13\": 6, \"5\": 2, \"11\": 1}, \"11\": {\"11\": 159, \"12\": 35, \"5\": 4, \"13\": 19, \"15\": 12, \"6\": 6, \"10\": 2, \"8\": 2, \"0\": 1}, \"13\": {\"13\": 63, \"3\": 12, \"15\": 22, \"5\": 28, \"9\": 17, \"6\": 17, \"8\": 13, \"2\": 17, \"11\": 10, \"0\": 9, \"14\": 6, \"7\": 7, \"10\": 8, \"4\": 6, \"12\": 2, \"1\": 3}, \"2\": {\"12\": 1, \"2\": 37, \"15\": 18, \"7\": 24, \"5\": 28, \"1\": 14, \"3\": 27, \"10\": 11, \"8\": 18, \"13\": 18, \"4\": 16, \"6\": 5, \"0\": 6, \"14\": 5, \"9\": 12}, \"0\": {\"14\": 22, \"12\": 6, \"15\": 14, \"13\": 2, \"0\": 34, \"10\": 30, \"4\": 22, \"9\": 13, \"6\": 17, \"5\": 6, \"1\": 24, \"8\": 18, \"7\": 23, \"2\": 4, \"3\": 5}, \"12\": {\"12\": 89, \"6\": 43, \"10\": 9, \"11\": 21, \"15\": 12, \"14\": 7, \"1\": 2, \"9\": 12, \"4\": 5, \"13\": 8, \"8\": 17, \"0\": 10, \"5\": 4, \"2\": 1}, \"3\": {\"3\": 44, \"14\": 14, \"15\": 7, \"7\": 21, \"2\": 30, \"5\": 23, \"8\": 13, \"9\": 20, \"4\": 12, \"0\": 11, \"1\": 24, \"12\": 1, \"13\": 9, \"10\": 6, \"6\": 5}, \"9\": {\"7\": 15, \"8\": 17, \"1\": 9, \"14\": 9, \"9\": 26, \"13\": 19, \"3\": 14, \"0\": 14, \"4\": 19, \"10\": 10, \"5\": 29, \"6\": 16, \"2\": 18, \"15\": 20, \"12\": 4, \"11\": 1}, \"8\": {\"9\": 14, \"13\": 13, \"14\": 22, \"10\": 22, \"8\": 26, \"5\": 13, \"2\": 22, \"15\": 20, \"0\": 28, \"4\": 12, \"6\": 19, \"7\": 11, \"12\": 2, \"1\": 11, \"3\": 5}, \"1\": {\"14\": 28, \"4\": 25, \"0\": 19, \"6\": 10, \"3\": 30, \"10\": 25, \"5\": 5, \"7\": 21, \"8\": 10, \"9\": 10, \"1\": 30, \"2\": 11, \"15\": 15, \"13\": 1}}, \"O_32\": {\"7\": {\"0\": 21, \"14\": 29, \"7\": 36, \"5\": 30, \"4\": 26, \"2\": 25, \"8\": 19, \"13\": 24, \"11\": 26, \"3\": 4}, \"2\": {\"2\": 69, \"9\": 4, \"0\": 35, \"4\": 43, \"13\": 18, \"8\": 9, \"5\": 16, \"7\": 24, \"14\": 17, \"11\": 3, \"3\": 2}, \"5\": {\"15\": 3, \"8\": 35, \"7\": 27, \"0\": 17, \"11\": 14, \"13\": 29, \"2\": 9, \"5\": 38, \"3\": 36, \"4\": 17, \"14\": 15}, \"6\": {\"6\": 174, \"12\": 6, \"10\": 42, \"1\": 16, \"9\": 2}, \"13\": {\"8\": 45, \"3\": 21, \"13\": 35, \"5\": 24, \"7\": 19, \"0\": 27, \"2\": 16, \"4\": 28, \"14\": 12, \"11\": 7, \"15\": 6}, \"4\": {\"8\": 17, \"0\": 38, \"7\": 38, \"4\": 48, \"13\": 28, \"5\": 14, \"11\": 4, \"2\": 31, \"3\": 7, \"14\": 15}, \"3\": {\"14\": 11, \"15\": 26, \"11\": 16, \"5\": 34, \"3\": 78, \"8\": 35, \"13\": 23, \"0\": 3, \"2\": 1, \"7\": 9, \"4\": 4}, \"0\": {\"0\": 47, \"13\": 27, \"11\": 23, \"14\": 22, \"5\": 17, \"2\": 31, \"7\": 25, \"4\": 26, \"8\": 19, \"3\": 2, \"9\": 1}, \"9\": {\"9\": 146, \"12\": 77, \"4\": 6, \"6\": 6, \"2\": 5}, \"12\": {\"12\": 157, \"9\": 51, \"10\": 14, \"6\": 18}, \"8\": {\"13\": 40, \"11\": 12, \"8\": 32, \"3\": 30, \"5\": 39, \"14\": 13, \"2\": 10, \"7\": 22, \"0\": 15, \"15\": 6, \"4\": 21}, \"14\": {\"14\": 60, \"2\": 11, \"11\": 59, \"3\": 10, \"5\": 22, \"13\": 9, \"0\": 22, \"4\": 13, \"7\": 27, \"8\": 7}, \"15\": {\"5\": 6, \"15\": 157, \"8\": 11, \"3\": 53, \"13\": 8, \"4\": 2, \"7\": 1, \"0\": 1, \"14\": 1}, \"11\": {\"11\": 79, \"14\": 64, \"13\": 11, \"7\": 35, \"8\": 10, \"5\": 12, \"3\": 10, \"0\": 11, \"2\": 5, \"4\": 3}, \"10\": {\"1\": 54, \"10\": 157, \"6\": 21, \"12\": 8}, \"1\": {\"10\": 75, \"1\": 148, \"6\": 17}}, \"O_44\": {\"11\": {\"7\": 30, \"6\": 36, \"13\": 40, \"9\": 20, \"3\": 6, \"12\": 5, \"11\": 65, \"1\": 8, \"2\": 19, \"10\": 10, \"15\": 1}, \"7\": {\"10\": 18, \"9\": 35, \"13\": 27, \"2\": 33, \"7\": 42, \"3\": 12, \"12\": 14, \"4\": 2, \"6\": 26, \"11\": 19, \"1\": 11, \"15\": 1}, \"6\": {\"13\": 49, \"6\": 81, \"9\": 28, \"11\": 32, \"7\": 29, \"2\": 12, \"10\": 5, \"3\": 2, \"1\": 1, \"14\": 1}, \"12\": {\"7\": 12, \"12\": 71, \"10\": 41, \"1\": 53, \"2\": 23, \"3\": 30, \"9\": 7, \"13\": 1, \"6\": 2}, \"4\": {\"4\": 87, \"14\": 66, \"9\": 12, \"5\": 33, \"15\": 20, \"0\": 4, \"6\": 3, \"13\": 6, \"3\": 3, \"7\": 5, \"8\": 1}, \"13\": {\"7\": 40, \"6\": 54, \"9\": 46, \"3\": 5, \"11\": 23, \"13\": 33, \"2\": 19, \"1\": 4, \"4\": 8, \"12\": 2, \"14\": 2, \"10\": 4}, \"8\": {\"8\": 94, \"0\": 73, \"14\": 14, \"5\": 19, \"15\": 37, \"4\": 3}, \"5\": {\"4\": 29, \"0\": 45, \"14\": 41, \"8\": 29, \"5\": 68, \"15\": 28}, \"14\": {\"14\": 78, \"3\": 4, \"15\": 33, \"5\": 33, \"4\": 63, \"0\": 12, \"6\": 1, \"8\": 10, \"9\": 3, \"13\": 3}, \"3\": {\"2\": 19, \"3\": 84, \"1\": 52, \"12\": 40, \"9\": 17, \"7\": 11, \"10\": 8, \"6\": 2, \"13\": 3, \"4\": 3, \"14\": 1}, \"10\": {\"12\": 49, \"7\": 18, \"1\": 24, \"2\": 40, \"3\": 7, \"9\": 12, \"10\": 68, \"6\": 14, \"11\": 5, \"13\": 3}, \"1\": {\"2\": 26, \"7\": 20, \"12\": 60, \"10\": 21, \"1\": 61, \"9\": 10, \"3\": 35, \"13\": 3, \"6\": 2, \"11\": 2}, \"2\": {\"10\": 31, \"13\": 16, \"2\": 54, \"9\": 21, \"12\": 18, \"1\": 25, \"11\": 16, \"6\": 19, \"3\": 11, \"7\": 29}, \"15\": {\"5\": 39, \"0\": 42, \"8\": 34, \"15\": 73, \"14\": 34, \"4\": 18}, \"9\": {\"12\": 4, \"3\": 12, \"10\": 5, \"9\": 38, \"7\": 44, \"13\": 43, \"1\": 10, \"6\": 28, \"11\": 20, \"2\": 30, \"4\": 4, \"14\": 2}, \"0\": {\"8\": 58, \"14\": 18, \"5\": 37, \"15\": 47, \"0\": 73, \"4\": 7}}, \"O_8\": {\"10\": {\"0\": 30, \"4\": 22, \"8\": 6, \"6\": 31, \"1\": 15, \"13\": 27, \"5\": 16, \"7\": 17, \"11\": 13, \"14\": 21, \"10\": 34, \"9\": 5, \"2\": 1, \"12\": 1, \"3\": 1}, \"6\": {\"0\": 28, \"14\": 20, \"11\": 21, \"13\": 29, \"10\": 17, \"4\": 18, \"7\": 18, \"6\": 26, \"5\": 15, \"2\": 5, \"12\": 4, \"1\": 9, \"8\": 24, \"15\": 5, \"3\": 1}, \"13\": {\"10\": 24, \"7\": 20, \"4\": 25, \"1\": 14, \"6\": 25, \"13\": 26, \"5\": 19, \"11\": 14, \"15\": 4, \"2\": 2, \"14\": 29, \"0\": 29, \"8\": 6, \"9\": 2, \"12\": 1}, \"3\": {\"3\": 59, \"15\": 28, \"12\": 51, \"2\": 52, \"11\": 1, \"8\": 9, \"13\": 4, \"4\": 2, \"0\": 7, \"7\": 19, \"6\": 5, \"14\": 2, \"10\": 1}, \"9\": {\"5\": 19, \"9\": 180, \"10\": 14, \"14\": 3, \"0\": 8, \"1\": 5, \"13\": 7, \"6\": 1, \"4\": 3}, \"1\": {\"8\": 19, \"1\": 33, \"6\": 17, \"4\": 20, \"13\": 17, \"14\": 14, \"5\": 29, \"11\": 36, \"10\": 22, \"15\": 8, \"0\": 11, \"7\": 12, \"2\": 2}, \"5\": {\"10\": 33, \"7\": 6, \"5\": 45, \"13\": 31, \"11\": 16, \"9\": 7, \"14\": 21, \"0\": 11, \"4\": 25, \"6\": 10, \"1\": 32, \"15\": 1, \"8\": 2}, \"11\": {\"1\": 36, \"6\": 20, \"10\": 11, \"13\": 12, \"4\": 22, \"11\": 45, \"5\": 14, \"15\": 10, \"8\": 33, \"14\": 18, \"3\": 1, \"0\": 7, \"12\": 3, \"7\": 8}, \"4\": {\"14\": 20, \"13\": 16, \"8\": 16, \"5\": 17, \"10\": 30, \"11\": 16, \"0\": 17, \"15\": 6, \"4\": 22, \"7\": 20, \"12\": 3, \"6\": 25, \"2\": 3, \"1\": 27, \"3\": 1, \"9\": 1}, \"14\": {\"4\": 28, \"2\": 3, \"6\": 25, \"5\": 18, \"1\": 17, \"11\": 26, \"7\": 19, \"13\": 22, \"10\": 21, \"14\": 17, \"0\": 28, \"8\": 7, \"9\": 1, \"3\": 3, \"15\": 5}, \"12\": {\"7\": 13, \"15\": 40, \"8\": 35, \"13\": 2, \"2\": 20, \"12\": 63, \"3\": 36, \"11\": 6, \"4\": 4, \"0\": 4, \"6\": 9, \"14\": 2, \"1\": 3, \"10\": 2, \"5\": 1}, \"7\": {\"5\": 12, \"7\": 23, \"4\": 29, \"6\": 22, \"10\": 11, \"2\": 11, \"13\": 26, \"14\": 15, \"15\": 13, \"0\": 30, \"11\": 11, \"8\": 10, \"3\": 12, \"12\": 6, \"1\": 9}, \"0\": {\"0\": 37, \"14\": 17, \"4\": 27, \"5\": 14, \"7\": 32, \"1\": 9, \"11\": 9, \"3\": 5, \"6\": 28, \"13\": 27, \"2\": 8, \"10\": 20, \"8\": 5, \"15\": 2}, \"15\": {\"15\": 49, \"7\": 22, \"3\": 23, \"13\": 9, \"12\": 32, \"11\": 9, \"1\": 12, \"8\": 34, \"0\": 7, \"4\": 14, \"6\": 12, \"2\": 9, \"14\": 5, \"10\": 2, \"5\": 1}, \"2\": {\"13\": 9, \"2\": 69, \"15\": 16, \"6\": 14, \"12\": 24, \"8\": 16, \"7\": 16, \"3\": 44, \"10\": 2, \"0\": 12, \"14\": 8, \"4\": 5, \"11\": 2, \"1\": 3}, \"8\": {\"4\": 12, \"7\": 22, \"11\": 25, \"15\": 35, \"10\": 9, \"12\": 24, \"1\": 14, \"6\": 14, \"8\": 34, \"5\": 2, \"13\": 8, \"0\": 8, \"3\": 11, \"14\": 11, \"2\": 11}}, \"O_38\": {\"4\": {\"4\": 149, \"12\": 72, \"0\": 6, \"11\": 5, \"7\": 5, \"14\": 1, \"10\": 2}, \"7\": {\"7\": 65, \"6\": 8, \"10\": 15, \"8\": 36, \"5\": 22, \"14\": 2, \"9\": 20, \"0\": 45, \"12\": 9, \"13\": 2, \"3\": 6, \"15\": 4, \"4\": 4, \"11\": 2}, \"12\": {\"12\": 155, \"4\": 42, \"14\": 12, \"11\": 7, \"7\": 5, \"8\": 4, \"0\": 8, \"10\": 6, \"2\": 1}, \"10\": {\"10\": 52, \"15\": 22, \"11\": 18, \"0\": 18, \"7\": 24, \"14\": 10, \"5\": 19, \"2\": 11, \"12\": 7, \"8\": 26, \"1\": 6, \"13\": 17, \"6\": 3, \"9\": 3, \"3\": 1, \"4\": 3}, \"0\": {\"9\": 9, \"3\": 20, \"12\": 14, \"7\": 39, \"8\": 31, \"10\": 17, \"0\": 55, \"15\": 6, \"13\": 5, \"4\": 7, \"5\": 26, \"6\": 7, \"14\": 1, \"1\": 2, \"2\": 1}, \"1\": {\"13\": 36, \"1\": 67, \"6\": 25, \"5\": 9, \"15\": 50, \"2\": 20, \"9\": 6, \"10\": 7, \"0\": 1, \"8\": 16, \"14\": 2, \"7\": 1}, \"5\": {\"10\": 15, \"3\": 8, \"1\": 15, \"13\": 20, \"7\": 27, \"6\": 39, \"5\": 32, \"9\": 21, \"8\": 32, \"12\": 1, \"2\": 3, \"0\": 17, \"15\": 9, \"14\": 1}, \"15\": {\"1\": 31, \"10\": 15, \"13\": 40, \"15\": 55, \"2\": 38, \"8\": 16, \"9\": 2, \"5\": 9, \"6\": 17, \"0\": 2, \"14\": 13, \"11\": 1, \"7\": 1}, \"9\": {\"9\": 98, \"6\": 54, \"5\": 22, \"7\": 18, \"8\": 13, \"1\": 5, \"3\": 17, \"0\": 7, \"10\": 2, \"13\": 4}, \"11\": {\"15\": 6, \"11\": 106, \"14\": 48, \"10\": 24, \"4\": 6, \"12\": 14, \"7\": 7, \"0\": 5, \"2\": 12, \"6\": 1, \"8\": 3, \"5\": 2, \"13\": 5, \"1\": 1}, \"14\": {\"14\": 113, \"11\": 33, \"8\": 8, \"2\": 35, \"12\": 9, \"15\": 13, \"13\": 7, \"10\": 17, \"0\": 1, \"5\": 1, \"7\": 2, \"1\": 1}, \"6\": {\"6\": 79, \"5\": 20, \"9\": 49, \"8\": 19, \"13\": 15, \"1\": 29, \"7\": 7, \"15\": 12, \"0\": 5, \"2\": 1, \"10\": 3, \"3\": 1}, \"8\": {\"7\": 29, \"5\": 35, \"10\": 26, \"1\": 7, \"8\": 54, \"13\": 17, \"2\": 3, \"6\": 13, \"12\": 6, \"15\": 11, \"9\": 8, \"0\": 26, \"3\": 2, \"11\": 1, \"14\": 2}, \"3\": {\"0\": 31, \"9\": 29, \"3\": 134, \"7\": 20, \"8\": 6, \"10\": 2, \"5\": 11, \"6\": 5, \"12\": 1, \"4\": 1}, \"2\": {\"2\": 81, \"11\": 12, \"1\": 25, \"14\": 33, \"13\": 26, \"15\": 34, \"10\": 16, \"8\": 7, \"5\": 5, \"0\": 1}, \"13\": {\"1\": 38, \"15\": 32, \"13\": 51, \"5\": 17, \"8\": 21, \"6\": 16, \"7\": 3, \"2\": 17, \"0\": 9, \"9\": 9, \"10\": 19, \"14\": 8}}}, \"per_domain_accuracy\": {\"W_3\": {\"accuracy\": 0.9669759825327511, \"source?\": true}, \"W_4\": {\"accuracy\": 0.9519628099173554, \"source?\": true}, \"C_4\": {\"accuracy\": 0.9913922155688623, \"source?\": true}, \"C_5\": {\"accuracy\": 0.9919692737430168, \"source?\": true}, \"C_2\": {\"accuracy\": 0.9966071428571428, \"source?\": true}, \"W_2\": {\"accuracy\": 0.952795358649789, \"source?\": true}, \"C_1\": {\"accuracy\": 0.9962635869565217, \"source?\": true}, \"C_3\": {\"accuracy\": 0.9955882352941177, \"source?\": true}, \"W_1\": {\"accuracy\": 0.9683560924369747, \"source?\": true}, \"O_14\": {\"accuracy\": 0.2677083333333333, \"source?\": false}, \"O_20\": {\"accuracy\": 0.13776041666666666, \"source?\": false}, \"O_50\": {\"accuracy\": 0.2677083333333333, \"source?\": false}, \"O_26\": {\"accuracy\": 0.18203125, \"source?\": false}, \"O_32\": {\"accuracy\": 0.38046875, \"source?\": false}, \"O_44\": {\"accuracy\": 0.2786458333333333, \"source?\": false}, \"O_8\": {\"accuracy\": 0.1984375, \"source?\": false}, \"O_38\": {\"accuracy\": 0.35052083333333334, \"source?\": false}}}, \"history\": {\"epoch_indices\": [1, 2, 3, 4, 5], \"train_label_loss\": [0.11876929435353227, 0.06846739965175726, 0.0553143338316273, 0.047260188342440945, 0.0402070587372981], \"source_val_label_loss\": [0.10620224475860596, 0.06941930204629898, 0.06352610886096954, 0.06381627917289734, 0.06316428631544113], \"target_val_label_loss\": [2.2644705772399902, 2.399460554122925, 2.3500187397003174, 2.287256956100464, 2.4515039920806885], \"source_val_acc_label\": [0.9764895661724328, 0.9841433278418451, 0.9851558209774849, 0.9855676825919825, 0.9860653487095002], \"target_val_acc_label\": [0.25791015625, 0.217578125, 0.22633463541666668, 0.24436848958333332, 0.22757161458333333]}, \"dataset_metrics\": {\"source\": {\"train\": {\"n_unique_x\": 364219, \"n_unique_y\": 130, \"n_batch/episode\": 13141}, \"val\": {\"n_unique_x\": 77265, \"n_unique_y\": 130, \"n_batch/episode\": 1821}, \"test\": {\"n_unique_x\": 78390, \"n_unique_y\": 130, \"n_batch/episode\": 1852}}, \"target\": {\"train\": {\"n_unique_x\": 179200, \"n_unique_y\": 16, \"n_batch/episode\": 6720}, \"val\": {\"n_unique_x\": 38400, \"n_unique_y\": 16, \"n_batch/episode\": 960}, \"test\": {\"n_unique_x\": 38400, \"n_unique_y\": 16, \"n_batch/episode\": 960}}}}'"
      ]
     },
     "execution_count": 29,
     "metadata": {},
     "output_type": "execute_result"
    }
   ],
   "source": [
    "json.dumps(experiment)"
   ]
  }
 ],
 "metadata": {
  "celltoolbar": "Tags",
  "kernelspec": {
   "display_name": "Python 3 (ipykernel)",
   "language": "python",
   "name": "python3"
  },
  "language_info": {
   "codemirror_mode": {
    "name": "ipython",
    "version": 3
   },
   "file_extension": ".py",
   "mimetype": "text/x-python",
   "name": "python",
   "nbconvert_exporter": "python",
   "pygments_lexer": "ipython3",
   "version": "3.8.10"
  },
  "papermill": {
   "default_parameters": {},
   "duration": 3308.33754,
   "end_time": "2022-03-20T11:19:19.124108",
   "environment_variables": {},
   "exception": null,
   "input_path": "/mnt/wd500GB/CSC500/csc500-main/csc500-notebooks/templates/tl_ptn_template.ipynb",
   "output_path": "trial.ipynb",
   "parameters": {
    "parameters": {
     "BEST_MODEL_PATH": "./best_model.pth",
     "NUM_LOGS_PER_EPOCH": 10,
     "criteria_for_best": "target_accuracy",
     "dataset_seed": 420,
     "datasets": [
      {
       "domain_prefix": "C_",
       "domains": [
        1,
        2,
        3,
        4,
        5
       ],
       "episode_transforms": [],
       "labels": [
        "1-10.",
        "1-11.",
        "1-15.",
        "1-16.",
        "1-17.",
        "1-18.",
        "1-19.",
        "10-4.",
        "10-7.",
        "11-1.",
        "11-14.",
        "11-17.",
        "11-20.",
        "11-7.",
        "13-20.",
        "13-8.",
        "14-10.",
        "14-11.",
        "14-14.",
        "14-7.",
        "15-1.",
        "15-20.",
        "16-1.",
        "16-16.",
        "17-10.",
        "17-11.",
        "17-2.",
        "19-1.",
        "19-16.",
        "19-19.",
        "19-20.",
        "19-3.",
        "2-10.",
        "2-11.",
        "2-17.",
        "2-18.",
        "2-20.",
        "2-3.",
        "2-4.",
        "2-5.",
        "2-6.",
        "2-7.",
        "2-8.",
        "3-13.",
        "3-18.",
        "3-3.",
        "4-1.",
        "4-10.",
        "4-11.",
        "4-19.",
        "5-5.",
        "6-15.",
        "7-10.",
        "7-14.",
        "8-18.",
        "8-20.",
        "8-3.",
        "8-8."
       ],
       "num_examples_per_domain_per_label": -1,
       "pickle_path": "/mnt/wd500GB/CSC500/csc500-main/datasets/cores.stratified_ds.2022A.pkl",
       "source_or_target_dataset": "source",
       "x_transforms": [
        "unit_mag",
        "take_200"
       ]
      },
      {
       "domain_prefix": "W_",
       "domains": [
        1,
        2,
        3,
        4
       ],
       "episode_transforms": [],
       "labels": [
        "1-10",
        "1-12",
        "1-14",
        "1-16",
        "1-18",
        "1-19",
        "1-8",
        "10-11",
        "10-17",
        "10-4",
        "10-7",
        "11-1",
        "11-10",
        "11-19",
        "11-20",
        "11-4",
        "11-7",
        "12-19",
        "12-20",
        "12-7",
        "13-14",
        "13-18",
        "13-19",
        "13-20",
        "13-3",
        "13-7",
        "14-10",
        "14-11",
        "14-12",
        "14-13",
        "14-14",
        "14-19",
        "14-20",
        "14-7",
        "14-8",
        "14-9",
        "15-1",
        "15-19",
        "15-6",
        "16-1",
        "16-16",
        "16-19",
        "16-20",
        "17-10",
        "17-11",
        "18-1",
        "18-10",
        "18-11",
        "18-12",
        "18-13",
        "18-14",
        "18-15",
        "18-16",
        "18-17",
        "18-19",
        "18-2",
        "18-20",
        "18-4",
        "18-5",
        "18-7",
        "18-8",
        "18-9",
        "19-1",
        "19-10",
        "19-11",
        "19-12",
        "19-13",
        "19-14",
        "19-15",
        "19-19",
        "19-2",
        "19-20",
        "19-3",
        "19-4",
        "19-6",
        "19-7",
        "19-8",
        "19-9",
        "2-1",
        "2-13",
        "2-15",
        "2-3",
        "2-4",
        "2-5",
        "2-6",
        "2-7",
        "2-8",
        "20-1",
        "20-12",
        "20-14",
        "20-15",
        "20-16",
        "20-18",
        "20-19",
        "20-20",
        "20-3",
        "20-4",
        "20-5",
        "20-7",
        "20-8",
        "3-1",
        "3-13",
        "3-18",
        "3-2",
        "3-8",
        "4-1",
        "4-10",
        "4-11",
        "5-1",
        "5-5",
        "6-1",
        "6-15",
        "6-6",
        "7-10",
        "7-11",
        "7-12",
        "7-13",
        "7-14",
        "7-7",
        "7-8",
        "7-9",
        "8-1",
        "8-13",
        "8-14",
        "8-18",
        "8-20",
        "8-3",
        "8-8",
        "9-1",
        "9-7"
       ],
       "num_examples_per_domain_per_label": -1,
       "pickle_path": "/mnt/wd500GB/CSC500/csc500-main/datasets/wisig.node3-19.stratified_ds.2022A.pkl",
       "source_or_target_dataset": "source",
       "x_transforms": [
        "unit_mag",
        "take_200"
       ]
      },
      {
       "domain_prefix": "O_",
       "domains": [
        32,
        38,
        8,
        44,
        14,
        50,
        20,
        26
       ],
       "episode_transforms": [],
       "labels": [
        "3123D52",
        "3123D65",
        "3123D79",
        "3123D80",
        "3123D54",
        "3123D70",
        "3123D7B",
        "3123D89",
        "3123D58",
        "3123D76",
        "3123D7D",
        "3123EFE",
        "3123D64",
        "3123D78",
        "3123D7E",
        "3124E4A"
       ],
       "num_examples_per_domain_per_label": 2000,
       "pickle_path": "/mnt/wd500GB/CSC500/csc500-main/datasets/oracle.Run1_framed_2000Examples_stratified_ds.2022A.pkl",
       "source_or_target_dataset": "target",
       "x_transforms": [
        "unit_mag",
        "take_200",
        "resample_20Msps_to_25Msps"
       ]
      }
     ],
     "device": "cuda",
     "experiment_name": "tl_3Av2:cores+wisig -> oracle.run1.framed",
     "lr": 0.0001,
     "n_epoch": 50,
     "n_query": 2,
     "n_shot": 3,
     "n_way": 16,
     "patience": 3,
     "seed": 420,
     "test_k_factor": 2,
     "torch_default_dtype": "torch.float32",
     "train_k_factor": 3,
     "val_k_factor": 2,
     "x_net": [
      {
       "class": "nnReshape",
       "kargs": {
        "shape": [
         -1,
         1,
         2,
         200
        ]
       }
      },
      {
       "class": "Conv2d",
       "kargs": {
        "bias": false,
        "in_channels": 1,
        "kernel_size": [
         1,
         7
        ],
        "out_channels": 256,
        "padding": [
         0,
         3
        ]
       }
      },
      {
       "class": "ReLU",
       "kargs": {
        "inplace": true
       }
      },
      {
       "class": "BatchNorm2d",
       "kargs": {
        "num_features": 256
       }
      },
      {
       "class": "Conv2d",
       "kargs": {
        "bias": true,
        "in_channels": 256,
        "kernel_size": [
         2,
         7
        ],
        "out_channels": 80,
        "padding": [
         0,
         3
        ]
       }
      },
      {
       "class": "ReLU",
       "kargs": {
        "inplace": true
       }
      },
      {
       "class": "BatchNorm2d",
       "kargs": {
        "num_features": 80
       }
      },
      {
       "class": "Flatten",
       "kargs": {}
      },
      {
       "class": "Linear",
       "kargs": {
        "in_features": 16000,
        "out_features": 256
       }
      },
      {
       "class": "ReLU",
       "kargs": {
        "inplace": true
       }
      },
      {
       "class": "BatchNorm1d",
       "kargs": {
        "num_features": 256
       }
      },
      {
       "class": "Linear",
       "kargs": {
        "in_features": 256,
        "out_features": 256
       }
      }
     ],
     "x_shape": [
      2,
      200
     ]
    }
   },
   "start_time": "2022-03-20T10:24:10.786568",
   "version": "2.3.4"
  }
 },
 "nbformat": 4,
 "nbformat_minor": 5
}