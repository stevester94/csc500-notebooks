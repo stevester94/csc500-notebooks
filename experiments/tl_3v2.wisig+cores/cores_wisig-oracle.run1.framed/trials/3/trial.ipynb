{
 "cells": [
  {
   "cell_type": "markdown",
   "id": "9fea5f46",
   "metadata": {
    "papermill": {
     "duration": 0.02221,
     "end_time": "2022-03-20T08:56:54.065773",
     "exception": false,
     "start_time": "2022-03-20T08:56:54.043563",
     "status": "completed"
    },
    "tags": []
   },
   "source": [
    "# Transfer Learning Template"
   ]
  },
  {
   "cell_type": "code",
   "execution_count": 1,
   "id": "0902182a",
   "metadata": {
    "execution": {
     "iopub.execute_input": "2022-03-20T08:56:54.111485Z",
     "iopub.status.busy": "2022-03-20T08:56:54.111086Z",
     "iopub.status.idle": "2022-03-20T08:56:55.094082Z",
     "shell.execute_reply": "2022-03-20T08:56:55.093773Z"
    },
    "papermill": {
     "duration": 1.011327,
     "end_time": "2022-03-20T08:56:55.094155",
     "exception": false,
     "start_time": "2022-03-20T08:56:54.082828",
     "status": "completed"
    },
    "tags": []
   },
   "outputs": [],
   "source": [
    "%load_ext autoreload\n",
    "%autoreload 2\n",
    "%matplotlib inline\n",
    "\n",
    "    \n",
    "import os, json, sys, time, random\n",
    "import numpy as np\n",
    "import torch\n",
    "from torch.optim import Adam\n",
    "from  easydict import EasyDict\n",
    "import matplotlib.pyplot as plt\n",
    "\n",
    "from steves_models.steves_ptn import Steves_Prototypical_Network\n",
    "\n",
    "from steves_utils.lazy_iterable_wrapper import Lazy_Iterable_Wrapper\n",
    "from steves_utils.iterable_aggregator import Iterable_Aggregator\n",
    "from steves_utils.ptn_train_eval_test_jig import  PTN_Train_Eval_Test_Jig\n",
    "from steves_utils.torch_sequential_builder import build_sequential\n",
    "from steves_utils.torch_utils import get_dataset_metrics, ptn_confusion_by_domain_over_dataloader\n",
    "from steves_utils.utils_v2 import (per_domain_accuracy_from_confusion, get_datasets_base_path)\n",
    "from steves_utils.PTN.utils import independent_accuracy_assesment\n",
    "\n",
    "from torch.utils.data import DataLoader\n",
    "\n",
    "from steves_utils.stratified_dataset.episodic_accessor import Episodic_Accessor_Factory\n",
    "\n",
    "from steves_utils.ptn_do_report import (\n",
    "    get_loss_curve,\n",
    "    get_results_table,\n",
    "    get_parameters_table,\n",
    "    get_domain_accuracies,\n",
    ")\n",
    "\n",
    "from steves_utils.transforms import get_chained_transform"
   ]
  },
  {
   "cell_type": "markdown",
   "id": "41c840b4",
   "metadata": {
    "papermill": {
     "duration": 0.013234,
     "end_time": "2022-03-20T08:56:55.121118",
     "exception": false,
     "start_time": "2022-03-20T08:56:55.107884",
     "status": "completed"
    },
    "tags": []
   },
   "source": [
    "# Allowed Parameters\n",
    "These are allowed parameters, not defaults\n",
    "Each of these values need to be present in the injected parameters (the notebook will raise an exception if they are not present)\n",
    "\n",
    "Papermill uses the cell tag \"parameters\" to inject the real parameters below this cell.\n",
    "Enable tags to see what I mean"
   ]
  },
  {
   "cell_type": "code",
   "execution_count": 2,
   "id": "fd44eb83",
   "metadata": {
    "execution": {
     "iopub.execute_input": "2022-03-20T08:56:55.151478Z",
     "iopub.status.busy": "2022-03-20T08:56:55.151165Z",
     "iopub.status.idle": "2022-03-20T08:56:55.166966Z",
     "shell.execute_reply": "2022-03-20T08:56:55.167392Z"
    },
    "papermill": {
     "duration": 0.033324,
     "end_time": "2022-03-20T08:56:55.167535",
     "exception": false,
     "start_time": "2022-03-20T08:56:55.134211",
     "status": "completed"
    },
    "tags": []
   },
   "outputs": [],
   "source": [
    "required_parameters = {\n",
    "    \"experiment_name\",\n",
    "    \"lr\",\n",
    "    \"device\",\n",
    "    \"seed\",\n",
    "    \"dataset_seed\",\n",
    "    \"n_shot\",\n",
    "    \"n_query\",\n",
    "    \"n_way\",\n",
    "    \"train_k_factor\",\n",
    "    \"val_k_factor\",\n",
    "    \"test_k_factor\",\n",
    "    \"n_epoch\",\n",
    "    \"patience\",\n",
    "    \"criteria_for_best\",\n",
    "    \"x_net\",\n",
    "    \"datasets\",\n",
    "    \"torch_default_dtype\",\n",
    "    \"NUM_LOGS_PER_EPOCH\",\n",
    "    \"BEST_MODEL_PATH\",\n",
    "    \"x_shape\",\n",
    "}"
   ]
  },
  {
   "cell_type": "code",
   "execution_count": 3,
   "id": "fa3f0049",
   "metadata": {
    "execution": {
     "iopub.execute_input": "2022-03-20T08:56:55.209246Z",
     "iopub.status.busy": "2022-03-20T08:56:55.208819Z",
     "iopub.status.idle": "2022-03-20T08:56:55.222320Z",
     "shell.execute_reply": "2022-03-20T08:56:55.221874Z"
    },
    "papermill": {
     "duration": 0.037163,
     "end_time": "2022-03-20T08:56:55.222429",
     "exception": false,
     "start_time": "2022-03-20T08:56:55.185266",
     "status": "completed"
    },
    "tags": [
     "parameters"
    ]
   },
   "outputs": [],
   "source": [
    "from steves_utils.CORES.utils import (\n",
    "    ALL_NODES,\n",
    "    ALL_NODES_MINIMUM_1000_EXAMPLES,\n",
    "    ALL_DAYS\n",
    ")\n",
    "\n",
    "from steves_utils.ORACLE.utils_v2 import (\n",
    "    ALL_DISTANCES_FEET_NARROWED,\n",
    "    ALL_RUNS,\n",
    "    ALL_SERIAL_NUMBERS,\n",
    ")\n",
    "\n",
    "standalone_parameters = {}\n",
    "standalone_parameters[\"experiment_name\"] = \"STANDALONE PTN\"\n",
    "standalone_parameters[\"lr\"] = 0.001\n",
    "standalone_parameters[\"device\"] = \"cuda\"\n",
    "\n",
    "standalone_parameters[\"seed\"] = 1337\n",
    "standalone_parameters[\"dataset_seed\"] = 1337\n",
    "\n",
    "standalone_parameters[\"n_way\"] = 8\n",
    "standalone_parameters[\"n_shot\"] = 3\n",
    "standalone_parameters[\"n_query\"]  = 2\n",
    "standalone_parameters[\"train_k_factor\"] = 1\n",
    "standalone_parameters[\"val_k_factor\"] = 2\n",
    "standalone_parameters[\"test_k_factor\"] = 2\n",
    "\n",
    "\n",
    "standalone_parameters[\"n_epoch\"] = 50\n",
    "\n",
    "standalone_parameters[\"patience\"] = 10\n",
    "standalone_parameters[\"criteria_for_best\"] = \"source_loss\"\n",
    "\n",
    "standalone_parameters[\"datasets\"] = [\n",
    "    {\n",
    "        \"labels\": ALL_SERIAL_NUMBERS,\n",
    "        \"domains\": ALL_DISTANCES_FEET_NARROWED,\n",
    "        \"num_examples_per_domain_per_label\": 100,\n",
    "        \"pickle_path\": os.path.join(get_datasets_base_path(), \"oracle.Run1_framed_2000Examples_stratified_ds.2022A.pkl\"),\n",
    "        \"source_or_target_dataset\": \"source\",\n",
    "        \"x_transforms\": [\"unit_mag\", \"minus_two\"],\n",
    "        \"episode_transforms\": [],\n",
    "        \"domain_prefix\": \"ORACLE_\"\n",
    "    },\n",
    "    {\n",
    "        \"labels\": ALL_NODES,\n",
    "        \"domains\": ALL_DAYS,\n",
    "        \"num_examples_per_domain_per_label\": 100,\n",
    "        \"pickle_path\": os.path.join(get_datasets_base_path(), \"cores.stratified_ds.2022A.pkl\"),\n",
    "        \"source_or_target_dataset\": \"target\",\n",
    "        \"x_transforms\": [\"unit_power\", \"times_zero\"],\n",
    "        \"episode_transforms\": [],\n",
    "        \"domain_prefix\": \"CORES_\"\n",
    "    }   \n",
    "]\n",
    "\n",
    "standalone_parameters[\"torch_default_dtype\"] = \"torch.float32\" \n",
    "\n",
    "\n",
    "\n",
    "standalone_parameters[\"x_net\"] =     [\n",
    "    {\"class\": \"nnReshape\", \"kargs\": {\"shape\":[-1, 1, 2, 256]}},\n",
    "    {\"class\": \"Conv2d\", \"kargs\": { \"in_channels\":1, \"out_channels\":256, \"kernel_size\":(1,7), \"bias\":False, \"padding\":(0,3), },},\n",
    "    {\"class\": \"ReLU\", \"kargs\": {\"inplace\": True}},\n",
    "    {\"class\": \"BatchNorm2d\", \"kargs\": {\"num_features\":256}},\n",
    "\n",
    "    {\"class\": \"Conv2d\", \"kargs\": { \"in_channels\":256, \"out_channels\":80, \"kernel_size\":(2,7), \"bias\":True, \"padding\":(0,3), },},\n",
    "    {\"class\": \"ReLU\", \"kargs\": {\"inplace\": True}},\n",
    "    {\"class\": \"BatchNorm2d\", \"kargs\": {\"num_features\":80}},\n",
    "    {\"class\": \"Flatten\", \"kargs\": {}},\n",
    "\n",
    "    {\"class\": \"Linear\", \"kargs\": {\"in_features\": 80*256, \"out_features\": 256}}, # 80 units per IQ pair\n",
    "    {\"class\": \"ReLU\", \"kargs\": {\"inplace\": True}},\n",
    "    {\"class\": \"BatchNorm1d\", \"kargs\": {\"num_features\":256}},\n",
    "\n",
    "    {\"class\": \"Linear\", \"kargs\": {\"in_features\": 256, \"out_features\": 256}},\n",
    "]\n",
    "\n",
    "# Parameters relevant to results\n",
    "# These parameters will basically never need to change\n",
    "standalone_parameters[\"NUM_LOGS_PER_EPOCH\"] = 10\n",
    "standalone_parameters[\"BEST_MODEL_PATH\"] = \"./best_model.pth\"\n",
    "\n",
    "\n",
    "\n",
    "\n"
   ]
  },
  {
   "cell_type": "code",
   "execution_count": 4,
   "id": "f21dbf81",
   "metadata": {
    "execution": {
     "iopub.execute_input": "2022-03-20T08:56:55.267106Z",
     "iopub.status.busy": "2022-03-20T08:56:55.261747Z",
     "iopub.status.idle": "2022-03-20T08:56:55.281204Z",
     "shell.execute_reply": "2022-03-20T08:56:55.280734Z"
    },
    "papermill": {
     "duration": 0.040177,
     "end_time": "2022-03-20T08:56:55.281318",
     "exception": false,
     "start_time": "2022-03-20T08:56:55.241141",
     "status": "completed"
    },
    "tags": [
     "injected-parameters"
    ]
   },
   "outputs": [],
   "source": [
    "# Parameters\n",
    "parameters = {\n",
    "    \"experiment_name\": \"tl_3Av2:cores+wisig -> oracle.run1.framed\",\n",
    "    \"device\": \"cuda\",\n",
    "    \"lr\": 0.0001,\n",
    "    \"x_shape\": [2, 200],\n",
    "    \"n_shot\": 3,\n",
    "    \"n_query\": 2,\n",
    "    \"train_k_factor\": 3,\n",
    "    \"val_k_factor\": 2,\n",
    "    \"test_k_factor\": 2,\n",
    "    \"torch_default_dtype\": \"torch.float32\",\n",
    "    \"n_epoch\": 50,\n",
    "    \"patience\": 3,\n",
    "    \"criteria_for_best\": \"target_accuracy\",\n",
    "    \"x_net\": [\n",
    "        {\"class\": \"nnReshape\", \"kargs\": {\"shape\": [-1, 1, 2, 200]}},\n",
    "        {\n",
    "            \"class\": \"Conv2d\",\n",
    "            \"kargs\": {\n",
    "                \"in_channels\": 1,\n",
    "                \"out_channels\": 256,\n",
    "                \"kernel_size\": [1, 7],\n",
    "                \"bias\": False,\n",
    "                \"padding\": [0, 3],\n",
    "            },\n",
    "        },\n",
    "        {\"class\": \"ReLU\", \"kargs\": {\"inplace\": True}},\n",
    "        {\"class\": \"BatchNorm2d\", \"kargs\": {\"num_features\": 256}},\n",
    "        {\n",
    "            \"class\": \"Conv2d\",\n",
    "            \"kargs\": {\n",
    "                \"in_channels\": 256,\n",
    "                \"out_channels\": 80,\n",
    "                \"kernel_size\": [2, 7],\n",
    "                \"bias\": True,\n",
    "                \"padding\": [0, 3],\n",
    "            },\n",
    "        },\n",
    "        {\"class\": \"ReLU\", \"kargs\": {\"inplace\": True}},\n",
    "        {\"class\": \"BatchNorm2d\", \"kargs\": {\"num_features\": 80}},\n",
    "        {\"class\": \"Flatten\", \"kargs\": {}},\n",
    "        {\"class\": \"Linear\", \"kargs\": {\"in_features\": 16000, \"out_features\": 256}},\n",
    "        {\"class\": \"ReLU\", \"kargs\": {\"inplace\": True}},\n",
    "        {\"class\": \"BatchNorm1d\", \"kargs\": {\"num_features\": 256}},\n",
    "        {\"class\": \"Linear\", \"kargs\": {\"in_features\": 256, \"out_features\": 256}},\n",
    "    ],\n",
    "    \"NUM_LOGS_PER_EPOCH\": 10,\n",
    "    \"BEST_MODEL_PATH\": \"./best_model.pth\",\n",
    "    \"n_way\": 16,\n",
    "    \"datasets\": [\n",
    "        {\n",
    "            \"labels\": [\n",
    "                \"1-10.\",\n",
    "                \"1-11.\",\n",
    "                \"1-15.\",\n",
    "                \"1-16.\",\n",
    "                \"1-17.\",\n",
    "                \"1-18.\",\n",
    "                \"1-19.\",\n",
    "                \"10-4.\",\n",
    "                \"10-7.\",\n",
    "                \"11-1.\",\n",
    "                \"11-14.\",\n",
    "                \"11-17.\",\n",
    "                \"11-20.\",\n",
    "                \"11-7.\",\n",
    "                \"13-20.\",\n",
    "                \"13-8.\",\n",
    "                \"14-10.\",\n",
    "                \"14-11.\",\n",
    "                \"14-14.\",\n",
    "                \"14-7.\",\n",
    "                \"15-1.\",\n",
    "                \"15-20.\",\n",
    "                \"16-1.\",\n",
    "                \"16-16.\",\n",
    "                \"17-10.\",\n",
    "                \"17-11.\",\n",
    "                \"17-2.\",\n",
    "                \"19-1.\",\n",
    "                \"19-16.\",\n",
    "                \"19-19.\",\n",
    "                \"19-20.\",\n",
    "                \"19-3.\",\n",
    "                \"2-10.\",\n",
    "                \"2-11.\",\n",
    "                \"2-17.\",\n",
    "                \"2-18.\",\n",
    "                \"2-20.\",\n",
    "                \"2-3.\",\n",
    "                \"2-4.\",\n",
    "                \"2-5.\",\n",
    "                \"2-6.\",\n",
    "                \"2-7.\",\n",
    "                \"2-8.\",\n",
    "                \"3-13.\",\n",
    "                \"3-18.\",\n",
    "                \"3-3.\",\n",
    "                \"4-1.\",\n",
    "                \"4-10.\",\n",
    "                \"4-11.\",\n",
    "                \"4-19.\",\n",
    "                \"5-5.\",\n",
    "                \"6-15.\",\n",
    "                \"7-10.\",\n",
    "                \"7-14.\",\n",
    "                \"8-18.\",\n",
    "                \"8-20.\",\n",
    "                \"8-3.\",\n",
    "                \"8-8.\",\n",
    "            ],\n",
    "            \"domains\": [1, 2, 3, 4, 5],\n",
    "            \"num_examples_per_domain_per_label\": -1,\n",
    "            \"pickle_path\": \"/mnt/wd500GB/CSC500/csc500-main/datasets/cores.stratified_ds.2022A.pkl\",\n",
    "            \"source_or_target_dataset\": \"source\",\n",
    "            \"x_transforms\": [\"unit_power\", \"take_200\"],\n",
    "            \"episode_transforms\": [],\n",
    "            \"domain_prefix\": \"C_\",\n",
    "        },\n",
    "        {\n",
    "            \"labels\": [\n",
    "                \"1-10\",\n",
    "                \"1-12\",\n",
    "                \"1-14\",\n",
    "                \"1-16\",\n",
    "                \"1-18\",\n",
    "                \"1-19\",\n",
    "                \"1-8\",\n",
    "                \"10-11\",\n",
    "                \"10-17\",\n",
    "                \"10-4\",\n",
    "                \"10-7\",\n",
    "                \"11-1\",\n",
    "                \"11-10\",\n",
    "                \"11-19\",\n",
    "                \"11-20\",\n",
    "                \"11-4\",\n",
    "                \"11-7\",\n",
    "                \"12-19\",\n",
    "                \"12-20\",\n",
    "                \"12-7\",\n",
    "                \"13-14\",\n",
    "                \"13-18\",\n",
    "                \"13-19\",\n",
    "                \"13-20\",\n",
    "                \"13-3\",\n",
    "                \"13-7\",\n",
    "                \"14-10\",\n",
    "                \"14-11\",\n",
    "                \"14-12\",\n",
    "                \"14-13\",\n",
    "                \"14-14\",\n",
    "                \"14-19\",\n",
    "                \"14-20\",\n",
    "                \"14-7\",\n",
    "                \"14-8\",\n",
    "                \"14-9\",\n",
    "                \"15-1\",\n",
    "                \"15-19\",\n",
    "                \"15-6\",\n",
    "                \"16-1\",\n",
    "                \"16-16\",\n",
    "                \"16-19\",\n",
    "                \"16-20\",\n",
    "                \"17-10\",\n",
    "                \"17-11\",\n",
    "                \"18-1\",\n",
    "                \"18-10\",\n",
    "                \"18-11\",\n",
    "                \"18-12\",\n",
    "                \"18-13\",\n",
    "                \"18-14\",\n",
    "                \"18-15\",\n",
    "                \"18-16\",\n",
    "                \"18-17\",\n",
    "                \"18-19\",\n",
    "                \"18-2\",\n",
    "                \"18-20\",\n",
    "                \"18-4\",\n",
    "                \"18-5\",\n",
    "                \"18-7\",\n",
    "                \"18-8\",\n",
    "                \"18-9\",\n",
    "                \"19-1\",\n",
    "                \"19-10\",\n",
    "                \"19-11\",\n",
    "                \"19-12\",\n",
    "                \"19-13\",\n",
    "                \"19-14\",\n",
    "                \"19-15\",\n",
    "                \"19-19\",\n",
    "                \"19-2\",\n",
    "                \"19-20\",\n",
    "                \"19-3\",\n",
    "                \"19-4\",\n",
    "                \"19-6\",\n",
    "                \"19-7\",\n",
    "                \"19-8\",\n",
    "                \"19-9\",\n",
    "                \"2-1\",\n",
    "                \"2-13\",\n",
    "                \"2-15\",\n",
    "                \"2-3\",\n",
    "                \"2-4\",\n",
    "                \"2-5\",\n",
    "                \"2-6\",\n",
    "                \"2-7\",\n",
    "                \"2-8\",\n",
    "                \"20-1\",\n",
    "                \"20-12\",\n",
    "                \"20-14\",\n",
    "                \"20-15\",\n",
    "                \"20-16\",\n",
    "                \"20-18\",\n",
    "                \"20-19\",\n",
    "                \"20-20\",\n",
    "                \"20-3\",\n",
    "                \"20-4\",\n",
    "                \"20-5\",\n",
    "                \"20-7\",\n",
    "                \"20-8\",\n",
    "                \"3-1\",\n",
    "                \"3-13\",\n",
    "                \"3-18\",\n",
    "                \"3-2\",\n",
    "                \"3-8\",\n",
    "                \"4-1\",\n",
    "                \"4-10\",\n",
    "                \"4-11\",\n",
    "                \"5-1\",\n",
    "                \"5-5\",\n",
    "                \"6-1\",\n",
    "                \"6-15\",\n",
    "                \"6-6\",\n",
    "                \"7-10\",\n",
    "                \"7-11\",\n",
    "                \"7-12\",\n",
    "                \"7-13\",\n",
    "                \"7-14\",\n",
    "                \"7-7\",\n",
    "                \"7-8\",\n",
    "                \"7-9\",\n",
    "                \"8-1\",\n",
    "                \"8-13\",\n",
    "                \"8-14\",\n",
    "                \"8-18\",\n",
    "                \"8-20\",\n",
    "                \"8-3\",\n",
    "                \"8-8\",\n",
    "                \"9-1\",\n",
    "                \"9-7\",\n",
    "            ],\n",
    "            \"domains\": [1, 2, 3, 4],\n",
    "            \"num_examples_per_domain_per_label\": -1,\n",
    "            \"pickle_path\": \"/mnt/wd500GB/CSC500/csc500-main/datasets/wisig.node3-19.stratified_ds.2022A.pkl\",\n",
    "            \"source_or_target_dataset\": \"source\",\n",
    "            \"x_transforms\": [\"unit_power\", \"take_200\"],\n",
    "            \"episode_transforms\": [],\n",
    "            \"domain_prefix\": \"W_\",\n",
    "        },\n",
    "        {\n",
    "            \"labels\": [\n",
    "                \"3123D52\",\n",
    "                \"3123D65\",\n",
    "                \"3123D79\",\n",
    "                \"3123D80\",\n",
    "                \"3123D54\",\n",
    "                \"3123D70\",\n",
    "                \"3123D7B\",\n",
    "                \"3123D89\",\n",
    "                \"3123D58\",\n",
    "                \"3123D76\",\n",
    "                \"3123D7D\",\n",
    "                \"3123EFE\",\n",
    "                \"3123D64\",\n",
    "                \"3123D78\",\n",
    "                \"3123D7E\",\n",
    "                \"3124E4A\",\n",
    "            ],\n",
    "            \"domains\": [32, 38, 8, 44, 14, 50, 20, 26],\n",
    "            \"num_examples_per_domain_per_label\": 2000,\n",
    "            \"pickle_path\": \"/mnt/wd500GB/CSC500/csc500-main/datasets/oracle.Run1_framed_2000Examples_stratified_ds.2022A.pkl\",\n",
    "            \"source_or_target_dataset\": \"target\",\n",
    "            \"x_transforms\": [\"unit_power\", \"take_200\", \"resample_20Msps_to_25Msps\"],\n",
    "            \"episode_transforms\": [],\n",
    "            \"domain_prefix\": \"O_\",\n",
    "        },\n",
    "    ],\n",
    "    \"seed\": 420,\n",
    "    \"dataset_seed\": 420,\n",
    "}\n"
   ]
  },
  {
   "cell_type": "code",
   "execution_count": 5,
   "id": "8fa1cc33",
   "metadata": {
    "execution": {
     "iopub.execute_input": "2022-03-20T08:56:55.316616Z",
     "iopub.status.busy": "2022-03-20T08:56:55.316332Z",
     "iopub.status.idle": "2022-03-20T08:56:55.328314Z",
     "shell.execute_reply": "2022-03-20T08:56:55.328775Z"
    },
    "papermill": {
     "duration": 0.02976,
     "end_time": "2022-03-20T08:56:55.328909",
     "exception": false,
     "start_time": "2022-03-20T08:56:55.299149",
     "status": "completed"
    },
    "tags": []
   },
   "outputs": [],
   "source": [
    "# Set this to True if you want to run this template directly\n",
    "STANDALONE = False\n",
    "if STANDALONE:\n",
    "    print(\"parameters not injected, running with standalone_parameters\")\n",
    "    parameters = standalone_parameters\n",
    "\n",
    "if not 'parameters' in locals() and not 'parameters' in globals():\n",
    "    raise Exception(\"Parameter injection failed\")\n",
    "\n",
    "#Use an easy dict for all the parameters\n",
    "p = EasyDict(parameters)\n",
    "\n",
    "if \"x_shape\" not in p:\n",
    "    p.x_shape = [2,256] # Default to this if we dont supply x_shape\n",
    "\n",
    "\n",
    "supplied_keys = set(p.keys())\n",
    "\n",
    "if  supplied_keys != required_parameters:\n",
    "    print(\"Parameters are incorrect\")\n",
    "    if len(supplied_keys - required_parameters)>0: print(\"Shouldn't have:\", str(supplied_keys - required_parameters))\n",
    "    if len(required_parameters - supplied_keys)>0: print(\"Need to have:\", str(required_parameters - supplied_keys))\n",
    "    raise RuntimeError(\"Parameters are incorrect\")"
   ]
  },
  {
   "cell_type": "code",
   "execution_count": 6,
   "id": "3a028d58",
   "metadata": {
    "execution": {
     "iopub.execute_input": "2022-03-20T08:56:55.365230Z",
     "iopub.status.busy": "2022-03-20T08:56:55.364615Z",
     "iopub.status.idle": "2022-03-20T08:56:55.380286Z",
     "shell.execute_reply": "2022-03-20T08:56:55.380033Z"
    },
    "papermill": {
     "duration": 0.032945,
     "end_time": "2022-03-20T08:56:55.380351",
     "exception": false,
     "start_time": "2022-03-20T08:56:55.347406",
     "status": "completed"
    },
    "tags": []
   },
   "outputs": [],
   "source": [
    "###################################\n",
    "# Set the RNGs and make it all deterministic\n",
    "###################################\n",
    "np.random.seed(p.seed)\n",
    "random.seed(p.seed)\n",
    "torch.manual_seed(p.seed)\n",
    "\n",
    "torch.use_deterministic_algorithms(True) "
   ]
  },
  {
   "cell_type": "code",
   "execution_count": 7,
   "id": "b691acf6",
   "metadata": {
    "execution": {
     "iopub.execute_input": "2022-03-20T08:56:55.411225Z",
     "iopub.status.busy": "2022-03-20T08:56:55.410823Z",
     "iopub.status.idle": "2022-03-20T08:56:55.422077Z",
     "shell.execute_reply": "2022-03-20T08:56:55.422490Z"
    },
    "papermill": {
     "duration": 0.027274,
     "end_time": "2022-03-20T08:56:55.422616",
     "exception": false,
     "start_time": "2022-03-20T08:56:55.395342",
     "status": "completed"
    },
    "tags": []
   },
   "outputs": [],
   "source": [
    "###########################################\n",
    "# The stratified datasets honor this\n",
    "###########################################\n",
    "torch.set_default_dtype(eval(p.torch_default_dtype))"
   ]
  },
  {
   "cell_type": "code",
   "execution_count": 8,
   "id": "b5fba671",
   "metadata": {
    "execution": {
     "iopub.execute_input": "2022-03-20T08:56:55.457414Z",
     "iopub.status.busy": "2022-03-20T08:56:55.456886Z",
     "iopub.status.idle": "2022-03-20T08:56:55.490304Z",
     "shell.execute_reply": "2022-03-20T08:56:55.490631Z"
    },
    "papermill": {
     "duration": 0.049939,
     "end_time": "2022-03-20T08:56:55.490742",
     "exception": false,
     "start_time": "2022-03-20T08:56:55.440803",
     "status": "completed"
    },
    "tags": []
   },
   "outputs": [],
   "source": [
    "###################################\n",
    "# Build the network(s)\n",
    "# Note: It's critical to do this AFTER setting the RNG\n",
    "###################################\n",
    "x_net = build_sequential(p.x_net)"
   ]
  },
  {
   "cell_type": "code",
   "execution_count": 9,
   "id": "5d7e61cc",
   "metadata": {
    "execution": {
     "iopub.execute_input": "2022-03-20T08:56:55.527308Z",
     "iopub.status.busy": "2022-03-20T08:56:55.527026Z",
     "iopub.status.idle": "2022-03-20T08:56:55.542140Z",
     "shell.execute_reply": "2022-03-20T08:56:55.542549Z"
    },
    "papermill": {
     "duration": 0.031943,
     "end_time": "2022-03-20T08:56:55.542678",
     "exception": false,
     "start_time": "2022-03-20T08:56:55.510735",
     "status": "completed"
    },
    "tags": []
   },
   "outputs": [],
   "source": [
    "start_time_secs = time.time()"
   ]
  },
  {
   "cell_type": "code",
   "execution_count": 10,
   "id": "c6b67dfd",
   "metadata": {
    "execution": {
     "iopub.execute_input": "2022-03-20T08:56:55.577408Z",
     "iopub.status.busy": "2022-03-20T08:56:55.577144Z",
     "iopub.status.idle": "2022-03-20T08:56:55.592700Z",
     "shell.execute_reply": "2022-03-20T08:56:55.592249Z"
    },
    "papermill": {
     "duration": 0.031879,
     "end_time": "2022-03-20T08:56:55.592807",
     "exception": false,
     "start_time": "2022-03-20T08:56:55.560928",
     "status": "completed"
    },
    "tags": []
   },
   "outputs": [],
   "source": [
    "p.domains_source = []\n",
    "p.domains_target = []\n",
    "\n",
    "\n",
    "train_original_source = []\n",
    "val_original_source   = []\n",
    "test_original_source  = []\n",
    "\n",
    "train_original_target = []\n",
    "val_original_target   = []\n",
    "test_original_target  = []"
   ]
  },
  {
   "cell_type": "code",
   "execution_count": 11,
   "id": "e3d9c3d3",
   "metadata": {
    "execution": {
     "iopub.execute_input": "2022-03-20T08:56:55.628342Z",
     "iopub.status.busy": "2022-03-20T08:56:55.627973Z",
     "iopub.status.idle": "2022-03-20T08:56:55.642374Z",
     "shell.execute_reply": "2022-03-20T08:56:55.642783Z"
    },
    "papermill": {
     "duration": 0.030354,
     "end_time": "2022-03-20T08:56:55.642908",
     "exception": false,
     "start_time": "2022-03-20T08:56:55.612554",
     "status": "completed"
    },
    "tags": []
   },
   "outputs": [],
   "source": [
    "# global_x_transform_func = lambda x: normalize(x.to(torch.get_default_dtype()), \"unit_power\") # unit_power, unit_mag\n",
    "# global_x_transform_func = lambda x: normalize(x, \"unit_power\") # unit_power, unit_mag"
   ]
  },
  {
   "cell_type": "code",
   "execution_count": 12,
   "id": "acb78fd2",
   "metadata": {
    "execution": {
     "iopub.execute_input": "2022-03-20T08:56:55.681679Z",
     "iopub.status.busy": "2022-03-20T08:56:55.681308Z",
     "iopub.status.idle": "2022-03-20T08:56:55.696368Z",
     "shell.execute_reply": "2022-03-20T08:56:55.696778Z"
    },
    "papermill": {
     "duration": 0.035225,
     "end_time": "2022-03-20T08:56:55.696906",
     "exception": false,
     "start_time": "2022-03-20T08:56:55.661681",
     "status": "completed"
    },
    "tags": []
   },
   "outputs": [],
   "source": [
    "def add_dataset(\n",
    "    labels,\n",
    "    domains,\n",
    "    pickle_path,\n",
    "    x_transforms,\n",
    "    episode_transforms,\n",
    "    domain_prefix,\n",
    "    num_examples_per_domain_per_label,\n",
    "    source_or_target_dataset:str,\n",
    "    iterator_seed=p.seed,\n",
    "    dataset_seed=p.dataset_seed,\n",
    "    n_shot=p.n_shot,\n",
    "    n_way=p.n_way,\n",
    "    n_query=p.n_query,\n",
    "    train_val_test_k_factors=(p.train_k_factor,p.val_k_factor,p.test_k_factor),\n",
    "):\n",
    "   \n",
    "    if x_transforms == []: x_transform = None\n",
    "    else: x_transform = get_chained_transform(x_transforms)\n",
    "    \n",
    "    if episode_transforms == []: episode_transform = None\n",
    "    else: raise Exception(\"episode_transforms not implemented\")\n",
    "    \n",
    "    episode_transform = lambda tup, _prefix=domain_prefix: (_prefix + str(tup[0]), tup[1])\n",
    "\n",
    "\n",
    "    eaf = Episodic_Accessor_Factory(\n",
    "        labels=labels,\n",
    "        domains=domains,\n",
    "        num_examples_per_domain_per_label=num_examples_per_domain_per_label,\n",
    "        iterator_seed=iterator_seed,\n",
    "        dataset_seed=dataset_seed,\n",
    "        n_shot=n_shot,\n",
    "        n_way=n_way,\n",
    "        n_query=n_query,\n",
    "        train_val_test_k_factors=train_val_test_k_factors,\n",
    "        pickle_path=pickle_path,\n",
    "        x_transform_func=x_transform,\n",
    "    )\n",
    "\n",
    "    train, val, test = eaf.get_train(), eaf.get_val(), eaf.get_test()\n",
    "    train = Lazy_Iterable_Wrapper(train, episode_transform)\n",
    "    val = Lazy_Iterable_Wrapper(val, episode_transform)\n",
    "    test = Lazy_Iterable_Wrapper(test, episode_transform)\n",
    "\n",
    "    if source_or_target_dataset==\"source\":\n",
    "        train_original_source.append(train)\n",
    "        val_original_source.append(val)\n",
    "        test_original_source.append(test)\n",
    "\n",
    "        p.domains_source.extend(\n",
    "            [domain_prefix + str(u) for u in domains]\n",
    "        )\n",
    "    elif source_or_target_dataset==\"target\":\n",
    "        train_original_target.append(train)\n",
    "        val_original_target.append(val)\n",
    "        test_original_target.append(test)\n",
    "        p.domains_target.extend(\n",
    "            [domain_prefix + str(u) for u in domains]\n",
    "        )\n",
    "    else:\n",
    "        raise Exception(f\"invalid source_or_target_dataset: {source_or_target_dataset}\")\n",
    "    "
   ]
  },
  {
   "cell_type": "code",
   "execution_count": 13,
   "id": "fe266617",
   "metadata": {
    "execution": {
     "iopub.execute_input": "2022-03-20T08:56:55.731766Z",
     "iopub.status.busy": "2022-03-20T08:56:55.731507Z",
     "iopub.status.idle": "2022-03-20T08:58:04.886866Z",
     "shell.execute_reply": "2022-03-20T08:58:04.886085Z"
    },
    "papermill": {
     "duration": 69.171887,
     "end_time": "2022-03-20T08:58:04.887023",
     "exception": false,
     "start_time": "2022-03-20T08:56:55.715136",
     "status": "completed"
    },
    "tags": []
   },
   "outputs": [],
   "source": [
    "for ds in p.datasets:\n",
    "    add_dataset(**ds)"
   ]
  },
  {
   "cell_type": "code",
   "execution_count": 14,
   "id": "b90d65ac",
   "metadata": {
    "execution": {
     "iopub.execute_input": "2022-03-20T08:58:04.921658Z",
     "iopub.status.busy": "2022-03-20T08:58:04.921380Z",
     "iopub.status.idle": "2022-03-20T08:58:04.932888Z",
     "shell.execute_reply": "2022-03-20T08:58:04.932394Z"
    },
    "papermill": {
     "duration": 0.027902,
     "end_time": "2022-03-20T08:58:04.932990",
     "exception": false,
     "start_time": "2022-03-20T08:58:04.905088",
     "status": "completed"
    },
    "tags": []
   },
   "outputs": [],
   "source": [
    "# from steves_utils.CORES.utils import (\n",
    "#     ALL_NODES,\n",
    "#     ALL_NODES_MINIMUM_1000_EXAMPLES,\n",
    "#     ALL_DAYS\n",
    "# )\n",
    "\n",
    "# add_dataset(\n",
    "#     labels=ALL_NODES,\n",
    "#     domains = ALL_DAYS,\n",
    "#     num_examples_per_domain_per_label=100,\n",
    "#     pickle_path=os.path.join(get_datasets_base_path(), \"cores.stratified_ds.2022A.pkl\"),\n",
    "#     source_or_target_dataset=\"target\",\n",
    "#     x_transform_func=global_x_transform_func,\n",
    "#     domain_modifier=lambda u: f\"cores_{u}\"\n",
    "# )"
   ]
  },
  {
   "cell_type": "code",
   "execution_count": 15,
   "id": "76db484d",
   "metadata": {
    "execution": {
     "iopub.execute_input": "2022-03-20T08:58:04.968700Z",
     "iopub.status.busy": "2022-03-20T08:58:04.968424Z",
     "iopub.status.idle": "2022-03-20T08:58:04.982055Z",
     "shell.execute_reply": "2022-03-20T08:58:04.982439Z"
    },
    "papermill": {
     "duration": 0.031574,
     "end_time": "2022-03-20T08:58:04.982562",
     "exception": false,
     "start_time": "2022-03-20T08:58:04.950988",
     "status": "completed"
    },
    "tags": []
   },
   "outputs": [],
   "source": [
    "# from steves_utils.ORACLE.utils_v2 import (\n",
    "#     ALL_DISTANCES_FEET,\n",
    "#     ALL_RUNS,\n",
    "#     ALL_SERIAL_NUMBERS,\n",
    "# )\n",
    "\n",
    "\n",
    "# add_dataset(\n",
    "#     labels=ALL_SERIAL_NUMBERS,\n",
    "#     domains = list(set(ALL_DISTANCES_FEET) - {2,62}),\n",
    "#     num_examples_per_domain_per_label=100,\n",
    "#     pickle_path=os.path.join(get_datasets_base_path(), \"oracle.Run2_framed_2000Examples_stratified_ds.2022A.pkl\"),\n",
    "#     source_or_target_dataset=\"source\",\n",
    "#     x_transform_func=global_x_transform_func,\n",
    "#     domain_modifier=lambda u: f\"oracle1_{u}\"\n",
    "# )\n"
   ]
  },
  {
   "cell_type": "code",
   "execution_count": 16,
   "id": "97dea9d2",
   "metadata": {
    "execution": {
     "iopub.execute_input": "2022-03-20T08:58:05.018769Z",
     "iopub.status.busy": "2022-03-20T08:58:05.018497Z",
     "iopub.status.idle": "2022-03-20T08:58:05.032436Z",
     "shell.execute_reply": "2022-03-20T08:58:05.032119Z"
    },
    "papermill": {
     "duration": 0.030875,
     "end_time": "2022-03-20T08:58:05.032513",
     "exception": false,
     "start_time": "2022-03-20T08:58:05.001638",
     "status": "completed"
    },
    "tags": []
   },
   "outputs": [],
   "source": [
    "# from steves_utils.ORACLE.utils_v2 import (\n",
    "#     ALL_DISTANCES_FEET,\n",
    "#     ALL_RUNS,\n",
    "#     ALL_SERIAL_NUMBERS,\n",
    "# )\n",
    "\n",
    "\n",
    "# add_dataset(\n",
    "#     labels=ALL_SERIAL_NUMBERS,\n",
    "#     domains = list(set(ALL_DISTANCES_FEET) - {2,62,56}),\n",
    "#     num_examples_per_domain_per_label=100,\n",
    "#     pickle_path=os.path.join(get_datasets_base_path(), \"oracle.Run2_framed_2000Examples_stratified_ds.2022A.pkl\"),\n",
    "#     source_or_target_dataset=\"source\",\n",
    "#     x_transform_func=global_x_transform_func,\n",
    "#     domain_modifier=lambda u: f\"oracle2_{u}\"\n",
    "# )"
   ]
  },
  {
   "cell_type": "code",
   "execution_count": 17,
   "id": "6f289866",
   "metadata": {
    "execution": {
     "iopub.execute_input": "2022-03-20T08:58:05.069692Z",
     "iopub.status.busy": "2022-03-20T08:58:05.069417Z",
     "iopub.status.idle": "2022-03-20T08:58:05.082446Z",
     "shell.execute_reply": "2022-03-20T08:58:05.081953Z"
    },
    "papermill": {
     "duration": 0.030382,
     "end_time": "2022-03-20T08:58:05.082548",
     "exception": false,
     "start_time": "2022-03-20T08:58:05.052166",
     "status": "completed"
    },
    "tags": []
   },
   "outputs": [],
   "source": [
    "# add_dataset(\n",
    "#     labels=list(range(19)),\n",
    "#     domains = [0,1,2],\n",
    "#     num_examples_per_domain_per_label=100,\n",
    "#     pickle_path=os.path.join(get_datasets_base_path(), \"metehan.stratified_ds.2022A.pkl\"),\n",
    "#     source_or_target_dataset=\"target\",\n",
    "#     x_transform_func=global_x_transform_func,\n",
    "#     domain_modifier=lambda u: f\"met_{u}\"\n",
    "# )"
   ]
  },
  {
   "cell_type": "code",
   "execution_count": 18,
   "id": "86a863c3",
   "metadata": {
    "execution": {
     "iopub.execute_input": "2022-03-20T08:58:05.117911Z",
     "iopub.status.busy": "2022-03-20T08:58:05.117117Z",
     "iopub.status.idle": "2022-03-20T08:58:05.132490Z",
     "shell.execute_reply": "2022-03-20T08:58:05.132058Z"
    },
    "papermill": {
     "duration": 0.032593,
     "end_time": "2022-03-20T08:58:05.132594",
     "exception": false,
     "start_time": "2022-03-20T08:58:05.100001",
     "status": "completed"
    },
    "tags": []
   },
   "outputs": [],
   "source": [
    "# # from steves_utils.wisig.utils import (\n",
    "# #     ALL_NODES_MINIMUM_100_EXAMPLES,\n",
    "# #     ALL_NODES_MINIMUM_500_EXAMPLES,\n",
    "# #     ALL_NODES_MINIMUM_1000_EXAMPLES,\n",
    "# #     ALL_DAYS\n",
    "# # )\n",
    "\n",
    "# import steves_utils.wisig.utils as wisig\n",
    "\n",
    "\n",
    "# add_dataset(\n",
    "#     labels=wisig.ALL_NODES_MINIMUM_100_EXAMPLES,\n",
    "#     domains = wisig.ALL_DAYS,\n",
    "#     num_examples_per_domain_per_label=100,\n",
    "#     pickle_path=os.path.join(get_datasets_base_path(), \"wisig.node3-19.stratified_ds.2022A.pkl\"),\n",
    "#     source_or_target_dataset=\"target\",\n",
    "#     x_transform_func=global_x_transform_func,\n",
    "#     domain_modifier=lambda u: f\"wisig_{u}\"\n",
    "# )"
   ]
  },
  {
   "cell_type": "code",
   "execution_count": 19,
   "id": "fd5442bc",
   "metadata": {
    "execution": {
     "iopub.execute_input": "2022-03-20T08:58:05.176272Z",
     "iopub.status.busy": "2022-03-20T08:58:05.173959Z",
     "iopub.status.idle": "2022-03-20T08:58:05.187830Z",
     "shell.execute_reply": "2022-03-20T08:58:05.187401Z"
    },
    "papermill": {
     "duration": 0.034816,
     "end_time": "2022-03-20T08:58:05.187931",
     "exception": false,
     "start_time": "2022-03-20T08:58:05.153115",
     "status": "completed"
    },
    "tags": []
   },
   "outputs": [],
   "source": [
    "###################################\n",
    "# Build the dataset\n",
    "###################################\n",
    "train_original_source = Iterable_Aggregator(train_original_source, p.seed)\n",
    "val_original_source = Iterable_Aggregator(val_original_source, p.seed)\n",
    "test_original_source = Iterable_Aggregator(test_original_source, p.seed)\n",
    "\n",
    "\n",
    "train_original_target = Iterable_Aggregator(train_original_target, p.seed)\n",
    "val_original_target = Iterable_Aggregator(val_original_target, p.seed)\n",
    "test_original_target = Iterable_Aggregator(test_original_target, p.seed)\n",
    "\n",
    "# For CNN We only use X and Y. And we only train on the source.\n",
    "# Properly form the data using a transform lambda and Lazy_Iterable_Wrapper. Finally wrap them in a dataloader\n",
    "\n",
    "transform_lambda = lambda ex: ex[1] # Original is (<domain>, <episode>) so we strip down to episode only\n",
    "\n",
    "train_processed_source = Lazy_Iterable_Wrapper(train_original_source, transform_lambda)\n",
    "val_processed_source   = Lazy_Iterable_Wrapper(val_original_source, transform_lambda)\n",
    "test_processed_source  = Lazy_Iterable_Wrapper(test_original_source, transform_lambda)\n",
    "\n",
    "train_processed_target = Lazy_Iterable_Wrapper(train_original_target, transform_lambda)\n",
    "val_processed_target   = Lazy_Iterable_Wrapper(val_original_target, transform_lambda)\n",
    "test_processed_target  = Lazy_Iterable_Wrapper(test_original_target, transform_lambda)\n",
    "\n",
    "datasets = EasyDict({\n",
    "    \"source\": {\n",
    "        \"original\": {\"train\":train_original_source, \"val\":val_original_source, \"test\":test_original_source},\n",
    "        \"processed\": {\"train\":train_processed_source, \"val\":val_processed_source, \"test\":test_processed_source}\n",
    "    },\n",
    "    \"target\": {\n",
    "        \"original\": {\"train\":train_original_target, \"val\":val_original_target, \"test\":test_original_target},\n",
    "        \"processed\": {\"train\":train_processed_target, \"val\":val_processed_target, \"test\":test_processed_target}\n",
    "    },\n",
    "})"
   ]
  },
  {
   "cell_type": "code",
   "execution_count": 20,
   "id": "5b3c01fc",
   "metadata": {
    "execution": {
     "iopub.execute_input": "2022-03-20T08:58:05.224299Z",
     "iopub.status.busy": "2022-03-20T08:58:05.224029Z",
     "iopub.status.idle": "2022-03-20T08:58:14.963135Z",
     "shell.execute_reply": "2022-03-20T08:58:14.963550Z"
    },
    "papermill": {
     "duration": 9.757374,
     "end_time": "2022-03-20T08:58:14.963672",
     "exception": false,
     "start_time": "2022-03-20T08:58:05.206298",
     "status": "completed"
    },
    "tags": []
   },
   "outputs": [
    {
     "name": "stdout",
     "output_type": "stream",
     "text": [
      "{'C_1', 'W_3', 'W_1', 'C_3', 'C_2', 'C_5', 'W_4', 'C_4', 'W_2'}\n"
     ]
    },
    {
     "name": "stdout",
     "output_type": "stream",
     "text": [
      "{'O_14', 'O_50', 'O_8', 'O_20', 'O_44', 'O_38', 'O_32', 'O_26'}\n"
     ]
    },
    {
     "name": "stdout",
     "output_type": "stream",
     "text": [
      "tensor([[[-0.4289,  1.1402,  0.5634,  ..., -0.6471,  0.7054, -0.2167],\n",
      "         [-0.7711, -0.8025,  0.9505,  ..., -1.3480, -0.1704,  1.1955]],\n",
      "\n",
      "        [[-1.3184, -1.7164,  0.0861,  ...,  0.5067, -0.3359, -0.3571],\n",
      "         [ 0.2484, -1.2266, -0.9387,  ..., -0.4630,  0.5561, -0.2597]],\n",
      "\n",
      "        [[ 0.1502, -1.1960, -0.6456,  ..., -0.4195, -0.9461,  1.1068],\n",
      "         [ 1.1990,  0.1666, -0.9357,  ...,  0.8211, -0.7259,  0.4745]],\n",
      "\n",
      "        ...,\n",
      "\n",
      "        [[-0.0919, -0.6672, -0.2864,  ..., -1.7479, -0.1307, -0.3981],\n",
      "         [ 0.5044, -0.2611, -0.7161,  ..., -0.2317, -1.2172,  0.7222]],\n",
      "\n",
      "        [[ 0.4088, -0.9089,  0.0642,  ..., -1.7458, -0.2106,  0.6284],\n",
      "         [ 0.6679, -0.0769, -1.1267,  ..., -0.0744, -1.7041, -0.1319]],\n",
      "\n",
      "        [[-0.6331,  0.7139,  0.0275,  ...,  1.7567,  0.4441, -0.0189],\n",
      "         [-0.4547, -0.0717,  1.1595,  ..., -0.0796,  1.4235, -0.4618]]])\n"
     ]
    }
   ],
   "source": [
    "from steves_utils.transforms import get_average_magnitude, get_average_power\n",
    "\n",
    "print(set([u for u,_ in val_original_source]))\n",
    "print(set([u for u,_ in val_original_target]))\n",
    "\n",
    "s_x, s_y, q_x, q_y, _ = next(iter(train_processed_source))\n",
    "print(s_x)\n",
    "\n",
    "# for ds in [\n",
    "#     train_processed_source,\n",
    "#     val_processed_source,\n",
    "#     test_processed_source,\n",
    "#     train_processed_target,\n",
    "#     val_processed_target,\n",
    "#     test_processed_target\n",
    "# ]:\n",
    "#     for s_x, s_y, q_x, q_y, _ in ds:\n",
    "#         for X in (s_x, q_x):\n",
    "#             for x in X:\n",
    "#                 assert np.isclose(get_average_magnitude(x.numpy()), 1.0)\n",
    "#                 assert np.isclose(get_average_power(x.numpy()), 1.0)\n",
    "                "
   ]
  },
  {
   "cell_type": "code",
   "execution_count": 21,
   "id": "bbdacba1",
   "metadata": {
    "execution": {
     "iopub.execute_input": "2022-03-20T08:58:15.006564Z",
     "iopub.status.busy": "2022-03-20T08:58:15.006208Z",
     "iopub.status.idle": "2022-03-20T08:58:15.057476Z",
     "shell.execute_reply": "2022-03-20T08:58:15.057924Z"
    },
    "papermill": {
     "duration": 0.074628,
     "end_time": "2022-03-20T08:58:15.058065",
     "exception": false,
     "start_time": "2022-03-20T08:58:14.983437",
     "status": "completed"
    },
    "tags": []
   },
   "outputs": [
    {
     "name": "stdout",
     "output_type": "stream",
     "text": [
      "(2, 200)\n"
     ]
    }
   ],
   "source": [
    "###################################\n",
    "# Build the model\n",
    "###################################\n",
    "# easfsl only wants a tuple for the shape\n",
    "model = Steves_Prototypical_Network(x_net, device=p.device, x_shape=tuple(p.x_shape))\n",
    "optimizer = Adam(params=model.parameters(), lr=p.lr)"
   ]
  },
  {
   "cell_type": "code",
   "execution_count": 22,
   "id": "22b39ac5",
   "metadata": {
    "execution": {
     "iopub.execute_input": "2022-03-20T08:58:15.097445Z",
     "iopub.status.busy": "2022-03-20T08:58:15.097126Z",
     "iopub.status.idle": "2022-03-20T10:20:32.440341Z",
     "shell.execute_reply": "2022-03-20T10:20:32.440090Z"
    },
    "papermill": {
     "duration": 4937.362344,
     "end_time": "2022-03-20T10:20:32.440405",
     "exception": false,
     "start_time": "2022-03-20T08:58:15.078061",
     "status": "completed"
    },
    "tags": []
   },
   "outputs": [
    {
     "name": "stdout",
     "output_type": "stream",
     "text": [
      "epoch: 1, [batch: 1 / 13172], examples_per_second: 23.1441, train_label_loss: 2.6070, \n"
     ]
    },
    {
     "name": "stdout",
     "output_type": "stream",
     "text": [
      "epoch: 1, [batch: 1318 / 13172], examples_per_second: 1727.8916, train_label_loss: 0.0933, \n"
     ]
    },
    {
     "name": "stdout",
     "output_type": "stream",
     "text": [
      "epoch: 1, [batch: 2635 / 13172], examples_per_second: 1730.3479, train_label_loss: 0.5051, \n"
     ]
    },
    {
     "name": "stdout",
     "output_type": "stream",
     "text": [
      "epoch: 1, [batch: 3952 / 13172], examples_per_second: 1936.9995, train_label_loss: 0.0037, \n"
     ]
    },
    {
     "name": "stdout",
     "output_type": "stream",
     "text": [
      "epoch: 1, [batch: 5269 / 13172], examples_per_second: 2233.7503, train_label_loss: 0.1468, \n"
     ]
    },
    {
     "name": "stdout",
     "output_type": "stream",
     "text": [
      "epoch: 1, [batch: 6586 / 13172], examples_per_second: 1728.4711, train_label_loss: 0.0022, \n"
     ]
    },
    {
     "name": "stdout",
     "output_type": "stream",
     "text": [
      "epoch: 1, [batch: 7903 / 13172], examples_per_second: 1729.6745, train_label_loss: 0.0016, \n"
     ]
    },
    {
     "name": "stdout",
     "output_type": "stream",
     "text": [
      "epoch: 1, [batch: 9220 / 13172], examples_per_second: 1728.3018, train_label_loss: 0.0016, \n"
     ]
    },
    {
     "name": "stdout",
     "output_type": "stream",
     "text": [
      "epoch: 1, [batch: 10537 / 13172], examples_per_second: 1731.1017, train_label_loss: 0.0427, \n"
     ]
    },
    {
     "name": "stdout",
     "output_type": "stream",
     "text": [
      "epoch: 1, [batch: 11854 / 13172], examples_per_second: 1729.0949, train_label_loss: 0.1079, \n"
     ]
    },
    {
     "name": "stdout",
     "output_type": "stream",
     "text": [
      "=============================================================\n",
      "epoch: 1, source_val_acc_label: 0.9766, target_val_acc_label: 0.2089, source_val_label_loss: 0.1077, target_val_label_loss: 2.3955, \n",
      "=============================================================\n"
     ]
    },
    {
     "name": "stdout",
     "output_type": "stream",
     "text": [
      "New best\n"
     ]
    },
    {
     "name": "stdout",
     "output_type": "stream",
     "text": [
      "epoch: 2, [batch: 1 / 13187], examples_per_second: 1.4566, train_label_loss: 0.0047, \n"
     ]
    },
    {
     "name": "stdout",
     "output_type": "stream",
     "text": [
      "epoch: 2, [batch: 1319 / 13187], examples_per_second: 1729.0064, train_label_loss: 0.1715, \n"
     ]
    },
    {
     "name": "stdout",
     "output_type": "stream",
     "text": [
      "epoch: 2, [batch: 2638 / 13187], examples_per_second: 1732.0882, train_label_loss: 0.0474, \n"
     ]
    },
    {
     "name": "stdout",
     "output_type": "stream",
     "text": [
      "epoch: 2, [batch: 3956 / 13187], examples_per_second: 1893.0623, train_label_loss: 0.0028, \n"
     ]
    },
    {
     "name": "stdout",
     "output_type": "stream",
     "text": [
      "epoch: 2, [batch: 5275 / 13187], examples_per_second: 2278.6381, train_label_loss: 0.0006, \n"
     ]
    },
    {
     "name": "stdout",
     "output_type": "stream",
     "text": [
      "epoch: 2, [batch: 6594 / 13187], examples_per_second: 1729.9344, train_label_loss: 0.0014, \n"
     ]
    },
    {
     "name": "stdout",
     "output_type": "stream",
     "text": [
      "epoch: 2, [batch: 7912 / 13187], examples_per_second: 1731.7064, train_label_loss: 0.0058, \n"
     ]
    },
    {
     "name": "stdout",
     "output_type": "stream",
     "text": [
      "epoch: 2, [batch: 9231 / 13187], examples_per_second: 1729.3526, train_label_loss: 0.2564, \n"
     ]
    },
    {
     "name": "stdout",
     "output_type": "stream",
     "text": [
      "epoch: 2, [batch: 10549 / 13187], examples_per_second: 1731.6049, train_label_loss: 0.0046, \n"
     ]
    },
    {
     "name": "stdout",
     "output_type": "stream",
     "text": [
      "epoch: 2, [batch: 11868 / 13187], examples_per_second: 1730.5246, train_label_loss: 0.0007, \n"
     ]
    },
    {
     "name": "stdout",
     "output_type": "stream",
     "text": [
      "=============================================================\n",
      "epoch: 2, source_val_acc_label: 0.9834, target_val_acc_label: 0.2002, source_val_label_loss: 0.0734, target_val_label_loss: 2.5526, \n",
      "=============================================================\n"
     ]
    },
    {
     "name": "stdout",
     "output_type": "stream",
     "text": [
      "epoch: 3, [batch: 1 / 13151], examples_per_second: 1.4514, train_label_loss: 0.0012, \n"
     ]
    },
    {
     "name": "stdout",
     "output_type": "stream",
     "text": [
      "epoch: 3, [batch: 1316 / 13151], examples_per_second: 1726.9393, train_label_loss: 0.0036, \n"
     ]
    },
    {
     "name": "stdout",
     "output_type": "stream",
     "text": [
      "epoch: 3, [batch: 2631 / 13151], examples_per_second: 1728.8625, train_label_loss: 0.0174, \n"
     ]
    },
    {
     "name": "stdout",
     "output_type": "stream",
     "text": [
      "epoch: 3, [batch: 3946 / 13151], examples_per_second: 1876.2340, train_label_loss: 0.0019, \n"
     ]
    },
    {
     "name": "stdout",
     "output_type": "stream",
     "text": [
      "epoch: 3, [batch: 5261 / 13151], examples_per_second: 2259.8260, train_label_loss: 0.0548, \n"
     ]
    },
    {
     "name": "stdout",
     "output_type": "stream",
     "text": [
      "epoch: 3, [batch: 6576 / 13151], examples_per_second: 2255.9969, train_label_loss: 0.4617, \n"
     ]
    },
    {
     "name": "stdout",
     "output_type": "stream",
     "text": [
      "epoch: 3, [batch: 7891 / 13151], examples_per_second: 2212.1969, train_label_loss: 0.0027, \n"
     ]
    },
    {
     "name": "stdout",
     "output_type": "stream",
     "text": [
      "epoch: 3, [batch: 9206 / 13151], examples_per_second: 2247.1575, train_label_loss: 0.0044, \n"
     ]
    },
    {
     "name": "stdout",
     "output_type": "stream",
     "text": [
      "epoch: 3, [batch: 10521 / 13151], examples_per_second: 3569.9255, train_label_loss: 0.0007, \n"
     ]
    },
    {
     "name": "stdout",
     "output_type": "stream",
     "text": [
      "epoch: 3, [batch: 11836 / 13151], examples_per_second: 3561.3429, train_label_loss: 0.0004, \n"
     ]
    },
    {
     "name": "stdout",
     "output_type": "stream",
     "text": [
      "=============================================================\n",
      "epoch: 3, source_val_acc_label: 0.9851, target_val_acc_label: 0.2161, source_val_label_loss: 0.0640, target_val_label_loss: 2.4625, \n",
      "=============================================================\n"
     ]
    },
    {
     "name": "stdout",
     "output_type": "stream",
     "text": [
      "New best\n"
     ]
    },
    {
     "name": "stdout",
     "output_type": "stream",
     "text": [
      "epoch: 4, [batch: 1 / 13164], examples_per_second: 2.9084, train_label_loss: 0.0005, \n"
     ]
    },
    {
     "name": "stdout",
     "output_type": "stream",
     "text": [
      "epoch: 4, [batch: 1317 / 13164], examples_per_second: 2988.8641, train_label_loss: 0.0084, \n"
     ]
    },
    {
     "name": "stdout",
     "output_type": "stream",
     "text": [
      "epoch: 4, [batch: 2633 / 13164], examples_per_second: 1729.2876, train_label_loss: 0.0741, \n"
     ]
    },
    {
     "name": "stdout",
     "output_type": "stream",
     "text": [
      "epoch: 4, [batch: 3949 / 13164], examples_per_second: 1727.4872, train_label_loss: 0.0005, \n"
     ]
    },
    {
     "name": "stdout",
     "output_type": "stream",
     "text": [
      "epoch: 4, [batch: 5266 / 13164], examples_per_second: 1727.4446, train_label_loss: 0.1182, \n"
     ]
    },
    {
     "name": "stdout",
     "output_type": "stream",
     "text": [
      "epoch: 4, [batch: 6582 / 13164], examples_per_second: 1731.1335, train_label_loss: 0.0238, \n"
     ]
    },
    {
     "name": "stdout",
     "output_type": "stream",
     "text": [
      "epoch: 4, [batch: 7898 / 13164], examples_per_second: 1728.1431, train_label_loss: 0.1471, \n"
     ]
    },
    {
     "name": "stdout",
     "output_type": "stream",
     "text": [
      "epoch: 4, [batch: 9215 / 13164], examples_per_second: 1724.6543, train_label_loss: 0.0008, \n"
     ]
    },
    {
     "name": "stdout",
     "output_type": "stream",
     "text": [
      "epoch: 4, [batch: 10531 / 13164], examples_per_second: 1732.9132, train_label_loss: 0.0057, \n"
     ]
    },
    {
     "name": "stdout",
     "output_type": "stream",
     "text": [
      "epoch: 4, [batch: 11847 / 13164], examples_per_second: 1728.7478, train_label_loss: 0.0502, \n"
     ]
    },
    {
     "name": "stdout",
     "output_type": "stream",
     "text": [
      "=============================================================\n",
      "epoch: 4, source_val_acc_label: 0.9855, target_val_acc_label: 0.2395, source_val_label_loss: 0.0609, target_val_label_loss: 2.3740, \n",
      "=============================================================\n"
     ]
    },
    {
     "name": "stdout",
     "output_type": "stream",
     "text": [
      "New best\n"
     ]
    },
    {
     "name": "stdout",
     "output_type": "stream",
     "text": [
      "epoch: 5, [batch: 1 / 13144], examples_per_second: 1.4593, train_label_loss: 0.0053, \n"
     ]
    },
    {
     "name": "stdout",
     "output_type": "stream",
     "text": [
      "epoch: 5, [batch: 1315 / 13144], examples_per_second: 2328.1997, train_label_loss: 0.0001, \n"
     ]
    },
    {
     "name": "stdout",
     "output_type": "stream",
     "text": [
      "epoch: 5, [batch: 2629 / 13144], examples_per_second: 1742.3430, train_label_loss: 0.0004, \n"
     ]
    },
    {
     "name": "stdout",
     "output_type": "stream",
     "text": [
      "epoch: 5, [batch: 3943 / 13144], examples_per_second: 1742.3819, train_label_loss: 0.0001, \n"
     ]
    },
    {
     "name": "stdout",
     "output_type": "stream",
     "text": [
      "epoch: 5, [batch: 5258 / 13144], examples_per_second: 1737.7037, train_label_loss: 0.0007, \n"
     ]
    },
    {
     "name": "stdout",
     "output_type": "stream",
     "text": [
      "epoch: 5, [batch: 6572 / 13144], examples_per_second: 1745.5153, train_label_loss: 0.1696, \n"
     ]
    },
    {
     "name": "stdout",
     "output_type": "stream",
     "text": [
      "epoch: 5, [batch: 7886 / 13144], examples_per_second: 1740.8611, train_label_loss: 0.3717, \n"
     ]
    },
    {
     "name": "stdout",
     "output_type": "stream",
     "text": [
      "epoch: 5, [batch: 9201 / 13144], examples_per_second: 1738.0284, train_label_loss: 0.0001, \n"
     ]
    },
    {
     "name": "stdout",
     "output_type": "stream",
     "text": [
      "epoch: 5, [batch: 10515 / 13144], examples_per_second: 1744.7832, train_label_loss: 0.0001, \n"
     ]
    },
    {
     "name": "stdout",
     "output_type": "stream",
     "text": [
      "epoch: 5, [batch: 11829 / 13144], examples_per_second: 1740.4351, train_label_loss: 0.1244, \n"
     ]
    },
    {
     "name": "stdout",
     "output_type": "stream",
     "text": [
      "=============================================================\n",
      "epoch: 5, source_val_acc_label: 0.9863, target_val_acc_label: 0.2054, source_val_label_loss: 0.0615, target_val_label_loss: 2.5898, \n",
      "=============================================================\n"
     ]
    },
    {
     "name": "stdout",
     "output_type": "stream",
     "text": [
      "epoch: 6, [batch: 1 / 13141], examples_per_second: 1.4674, train_label_loss: 0.2825, \n"
     ]
    },
    {
     "name": "stdout",
     "output_type": "stream",
     "text": [
      "epoch: 6, [batch: 1315 / 13141], examples_per_second: 2300.2212, train_label_loss: 0.0350, \n"
     ]
    },
    {
     "name": "stdout",
     "output_type": "stream",
     "text": [
      "epoch: 6, [batch: 2629 / 13141], examples_per_second: 1742.1231, train_label_loss: 0.1210, \n"
     ]
    },
    {
     "name": "stdout",
     "output_type": "stream",
     "text": [
      "epoch: 6, [batch: 3943 / 13141], examples_per_second: 1741.5779, train_label_loss: 0.0574, \n"
     ]
    },
    {
     "name": "stdout",
     "output_type": "stream",
     "text": [
      "epoch: 6, [batch: 5257 / 13141], examples_per_second: 1740.4284, train_label_loss: 0.0001, \n"
     ]
    },
    {
     "name": "stdout",
     "output_type": "stream",
     "text": [
      "epoch: 6, [batch: 6571 / 13141], examples_per_second: 1744.7517, train_label_loss: 0.0009, \n"
     ]
    },
    {
     "name": "stdout",
     "output_type": "stream",
     "text": [
      "epoch: 6, [batch: 7885 / 13141], examples_per_second: 1741.5461, train_label_loss: 0.0019, \n"
     ]
    },
    {
     "name": "stdout",
     "output_type": "stream",
     "text": [
      "epoch: 6, [batch: 9199 / 13141], examples_per_second: 1739.7658, train_label_loss: 0.0004, \n"
     ]
    },
    {
     "name": "stdout",
     "output_type": "stream",
     "text": [
      "epoch: 6, [batch: 10513 / 13141], examples_per_second: 1744.8579, train_label_loss: 0.0002, \n"
     ]
    },
    {
     "name": "stdout",
     "output_type": "stream",
     "text": [
      "epoch: 6, [batch: 11827 / 13141], examples_per_second: 1741.2311, train_label_loss: 0.0229, \n"
     ]
    },
    {
     "name": "stdout",
     "output_type": "stream",
     "text": [
      "=============================================================\n",
      "epoch: 6, source_val_acc_label: 0.9860, target_val_acc_label: 0.2068, source_val_label_loss: 0.0652, target_val_label_loss: 2.6851, \n",
      "=============================================================\n"
     ]
    },
    {
     "name": "stdout",
     "output_type": "stream",
     "text": [
      "epoch: 7, [batch: 1 / 13152], examples_per_second: 1.4720, train_label_loss: 0.3485, \n"
     ]
    },
    {
     "name": "stdout",
     "output_type": "stream",
     "text": [
      "epoch: 7, [batch: 1316 / 13152], examples_per_second: 2297.3470, train_label_loss: 0.0001, \n"
     ]
    },
    {
     "name": "stdout",
     "output_type": "stream",
     "text": [
      "epoch: 7, [batch: 2631 / 13152], examples_per_second: 1740.6885, train_label_loss: 0.0000, \n"
     ]
    },
    {
     "name": "stdout",
     "output_type": "stream",
     "text": [
      "epoch: 7, [batch: 3946 / 13152], examples_per_second: 1741.4072, train_label_loss: 0.0018, \n"
     ]
    },
    {
     "name": "stdout",
     "output_type": "stream",
     "text": [
      "epoch: 7, [batch: 5261 / 13152], examples_per_second: 1739.3940, train_label_loss: 0.0002, \n"
     ]
    },
    {
     "name": "stdout",
     "output_type": "stream",
     "text": [
      "epoch: 7, [batch: 6576 / 13152], examples_per_second: 1744.2020, train_label_loss: 0.0118, \n"
     ]
    },
    {
     "name": "stdout",
     "output_type": "stream",
     "text": [
      "epoch: 7, [batch: 7891 / 13152], examples_per_second: 1742.5801, train_label_loss: 0.0001, \n"
     ]
    },
    {
     "name": "stdout",
     "output_type": "stream",
     "text": [
      "epoch: 7, [batch: 9206 / 13152], examples_per_second: 1738.2477, train_label_loss: 0.0056, \n"
     ]
    },
    {
     "name": "stdout",
     "output_type": "stream",
     "text": [
      "epoch: 7, [batch: 10521 / 13152], examples_per_second: 1746.7317, train_label_loss: 0.0996, \n"
     ]
    },
    {
     "name": "stdout",
     "output_type": "stream",
     "text": [
      "epoch: 7, [batch: 11836 / 13152], examples_per_second: 1742.7253, train_label_loss: 0.0748, \n"
     ]
    },
    {
     "name": "stdout",
     "output_type": "stream",
     "text": [
      "=============================================================\n",
      "epoch: 7, source_val_acc_label: 0.9863, target_val_acc_label: 0.2186, source_val_label_loss: 0.0655, target_val_label_loss: 2.7549, \n",
      "=============================================================\n"
     ]
    },
    {
     "name": "stdout",
     "output_type": "stream",
     "text": [
      "epoch: 8, [batch: 1 / 13156], examples_per_second: 1.4812, train_label_loss: 0.0017, \n"
     ]
    },
    {
     "name": "stdout",
     "output_type": "stream",
     "text": [
      "epoch: 8, [batch: 1316 / 13156], examples_per_second: 2278.2380, train_label_loss: 0.0001, \n"
     ]
    },
    {
     "name": "stdout",
     "output_type": "stream",
     "text": [
      "epoch: 8, [batch: 2632 / 13156], examples_per_second: 1740.1795, train_label_loss: 0.0000, \n"
     ]
    },
    {
     "name": "stdout",
     "output_type": "stream",
     "text": [
      "epoch: 8, [batch: 3947 / 13156], examples_per_second: 1741.5412, train_label_loss: 0.0043, \n"
     ]
    },
    {
     "name": "stdout",
     "output_type": "stream",
     "text": [
      "epoch: 8, [batch: 5263 / 13156], examples_per_second: 1738.0954, train_label_loss: 0.0001, \n"
     ]
    },
    {
     "name": "stdout",
     "output_type": "stream",
     "text": [
      "epoch: 8, [batch: 6578 / 13156], examples_per_second: 1746.7266, train_label_loss: 0.0058, \n"
     ]
    },
    {
     "name": "stdout",
     "output_type": "stream",
     "text": [
      "epoch: 8, [batch: 7894 / 13156], examples_per_second: 1740.5372, train_label_loss: 0.0882, \n"
     ]
    },
    {
     "name": "stdout",
     "output_type": "stream",
     "text": [
      "epoch: 8, [batch: 9209 / 13156], examples_per_second: 1737.7237, train_label_loss: 0.0033, \n"
     ]
    },
    {
     "name": "stdout",
     "output_type": "stream",
     "text": [
      "epoch: 8, [batch: 10525 / 13156], examples_per_second: 1745.4458, train_label_loss: 0.0008, \n"
     ]
    },
    {
     "name": "stdout",
     "output_type": "stream",
     "text": [
      "epoch: 8, [batch: 11840 / 13156], examples_per_second: 1742.1488, train_label_loss: 0.0001, \n"
     ]
    },
    {
     "name": "stdout",
     "output_type": "stream",
     "text": [
      "=============================================================\n",
      "epoch: 8, source_val_acc_label: 0.9860, target_val_acc_label: 0.1964, source_val_label_loss: 0.0672, target_val_label_loss: 3.1344, \n",
      "=============================================================\n"
     ]
    },
    {
     "name": "stdout",
     "output_type": "stream",
     "text": [
      "Patience (3) exhausted\n"
     ]
    }
   ],
   "source": [
    "###################################\n",
    "# train\n",
    "###################################\n",
    "jig = PTN_Train_Eval_Test_Jig(model, p.BEST_MODEL_PATH, p.device)\n",
    "\n",
    "jig.train(\n",
    "    train_iterable=datasets.source.processed.train,\n",
    "    source_val_iterable=datasets.source.processed.val,\n",
    "    target_val_iterable=datasets.target.processed.val,\n",
    "    num_epochs=p.n_epoch,\n",
    "    num_logs_per_epoch=p.NUM_LOGS_PER_EPOCH,\n",
    "    patience=p.patience,\n",
    "    optimizer=optimizer,\n",
    "    criteria_for_best=p.criteria_for_best,\n",
    ")"
   ]
  },
  {
   "cell_type": "code",
   "execution_count": 23,
   "id": "31e8fabf",
   "metadata": {
    "execution": {
     "iopub.execute_input": "2022-03-20T10:20:32.511828Z",
     "iopub.status.busy": "2022-03-20T10:20:32.511552Z",
     "iopub.status.idle": "2022-03-20T10:20:32.531504Z",
     "shell.execute_reply": "2022-03-20T10:20:32.530979Z"
    },
    "papermill": {
     "duration": 0.057175,
     "end_time": "2022-03-20T10:20:32.531622",
     "exception": false,
     "start_time": "2022-03-20T10:20:32.474447",
     "status": "completed"
    },
    "tags": []
   },
   "outputs": [],
   "source": [
    "total_experiment_time_secs = time.time() - start_time_secs"
   ]
  },
  {
   "cell_type": "code",
   "execution_count": 24,
   "id": "87b9595b",
   "metadata": {
    "execution": {
     "iopub.execute_input": "2022-03-20T10:20:32.605980Z",
     "iopub.status.busy": "2022-03-20T10:20:32.605690Z",
     "iopub.status.idle": "2022-03-20T10:24:08.069035Z",
     "shell.execute_reply": "2022-03-20T10:24:08.069274Z"
    },
    "papermill": {
     "duration": 215.501811,
     "end_time": "2022-03-20T10:24:08.069364",
     "exception": false,
     "start_time": "2022-03-20T10:20:32.567553",
     "status": "completed"
    },
    "tags": []
   },
   "outputs": [],
   "source": [
    "###################################\n",
    "# Evaluate the model\n",
    "###################################\n",
    "source_test_label_accuracy, source_test_label_loss = jig.test(datasets.source.processed.test)\n",
    "target_test_label_accuracy, target_test_label_loss = jig.test(datasets.target.processed.test)\n",
    "\n",
    "source_val_label_accuracy, source_val_label_loss = jig.test(datasets.source.processed.val)\n",
    "target_val_label_accuracy, target_val_label_loss = jig.test(datasets.target.processed.val)\n",
    "\n",
    "history = jig.get_history()\n",
    "\n",
    "total_epochs_trained = len(history[\"epoch_indices\"])\n",
    "\n",
    "val_dl = Iterable_Aggregator((datasets.source.original.val,datasets.target.original.val))\n",
    "\n",
    "confusion = ptn_confusion_by_domain_over_dataloader(model, p.device, val_dl)\n",
    "per_domain_accuracy = per_domain_accuracy_from_confusion(confusion)\n",
    "\n",
    "# Add a key to per_domain_accuracy for if it was a source domain\n",
    "for domain, accuracy in per_domain_accuracy.items():\n",
    "    per_domain_accuracy[domain] = {\n",
    "        \"accuracy\": accuracy,\n",
    "        \"source?\": domain in p.domains_source\n",
    "    }\n",
    "\n",
    "# Do an independent accuracy assesment JUST TO BE SURE!\n",
    "# _source_test_label_accuracy = independent_accuracy_assesment(model, datasets.source.processed.test, p.device)\n",
    "# _target_test_label_accuracy = independent_accuracy_assesment(model, datasets.target.processed.test, p.device)\n",
    "# _source_val_label_accuracy = independent_accuracy_assesment(model, datasets.source.processed.val, p.device)\n",
    "# _target_val_label_accuracy = independent_accuracy_assesment(model, datasets.target.processed.val, p.device)\n",
    "\n",
    "# assert(_source_test_label_accuracy == source_test_label_accuracy)\n",
    "# assert(_target_test_label_accuracy == target_test_label_accuracy)\n",
    "# assert(_source_val_label_accuracy == source_val_label_accuracy)\n",
    "# assert(_target_val_label_accuracy == target_val_label_accuracy)\n",
    "\n",
    "experiment = {\n",
    "    \"experiment_name\": p.experiment_name,\n",
    "    \"parameters\": dict(p),\n",
    "    \"results\": {\n",
    "        \"source_test_label_accuracy\": source_test_label_accuracy,\n",
    "        \"source_test_label_loss\": source_test_label_loss,\n",
    "        \"target_test_label_accuracy\": target_test_label_accuracy,\n",
    "        \"target_test_label_loss\": target_test_label_loss,\n",
    "        \"source_val_label_accuracy\": source_val_label_accuracy,\n",
    "        \"source_val_label_loss\": source_val_label_loss,\n",
    "        \"target_val_label_accuracy\": target_val_label_accuracy,\n",
    "        \"target_val_label_loss\": target_val_label_loss,\n",
    "        \"total_epochs_trained\": total_epochs_trained,\n",
    "        \"total_experiment_time_secs\": total_experiment_time_secs,\n",
    "        \"confusion\": confusion,\n",
    "        \"per_domain_accuracy\": per_domain_accuracy,\n",
    "    },\n",
    "    \"history\": history,\n",
    "    \"dataset_metrics\": get_dataset_metrics(datasets, \"ptn\"),\n",
    "}"
   ]
  },
  {
   "cell_type": "code",
   "execution_count": 25,
   "id": "54a21829",
   "metadata": {
    "execution": {
     "iopub.execute_input": "2022-03-20T10:24:08.137642Z",
     "iopub.status.busy": "2022-03-20T10:24:08.137374Z",
     "iopub.status.idle": "2022-03-20T10:24:08.264089Z",
     "shell.execute_reply": "2022-03-20T10:24:08.264307Z"
    },
    "papermill": {
     "duration": 0.162499,
     "end_time": "2022-03-20T10:24:08.264385",
     "exception": false,
     "start_time": "2022-03-20T10:24:08.101886",
     "status": "completed"
    },
    "tags": []
   },
   "outputs": [
    {
     "data": {
      "image/png": "[encoded data removed]",
      "text/plain": [
       "<Figure size 1080x504 with 1 Axes>"
      ]
     },
     "metadata": {
      "needs_background": "light"
     },
     "output_type": "display_data"
    }
   ],
   "source": [
    "ax = get_loss_curve(experiment)\n",
    "plt.show()"
   ]
  },
  {
   "cell_type": "code",
   "execution_count": 26,
   "id": "fd8a0f60",
   "metadata": {
    "execution": {
     "iopub.execute_input": "2022-03-20T10:24:08.341185Z",
     "iopub.status.busy": "2022-03-20T10:24:08.340892Z",
     "iopub.status.idle": "2022-03-20T10:24:08.483325Z",
     "shell.execute_reply": "2022-03-20T10:24:08.483616Z"
    },
    "papermill": {
     "duration": 0.178715,
     "end_time": "2022-03-20T10:24:08.483714",
     "exception": false,
     "start_time": "2022-03-20T10:24:08.304999",
     "status": "completed"
    },
    "tags": []
   },
   "outputs": [
    {
     "data": {
      "text/plain": [
       "<AxesSubplot:title={'center':'Results'}>"
      ]
     },
     "execution_count": 26,
     "metadata": {},
     "output_type": "execute_result"
    },
    {
     "data": {
      "image/png": "[encoded data removed]",
      "text/plain": [
       "<Figure size 1080x504 with 1 Axes>"
      ]
     },
     "metadata": {
      "needs_background": "light"
     },
     "output_type": "display_data"
    }
   ],
   "source": [
    "get_results_table(experiment)"
   ]
  },
  {
   "cell_type": "code",
   "execution_count": 27,
   "id": "cf8dc689",
   "metadata": {
    "execution": {
     "iopub.execute_input": "2022-03-20T10:24:08.564539Z",
     "iopub.status.busy": "2022-03-20T10:24:08.564286Z",
     "iopub.status.idle": "2022-03-20T10:24:08.720226Z",
     "shell.execute_reply": "2022-03-20T10:24:08.720634Z"
    },
    "papermill": {
     "duration": 0.19231,
     "end_time": "2022-03-20T10:24:08.720765",
     "exception": false,
     "start_time": "2022-03-20T10:24:08.528455",
     "status": "completed"
    },
    "tags": []
   },
   "outputs": [
    {
     "data": {
      "text/plain": [
       "<AxesSubplot:title={'center':'Per Domain Validation Accuracy'}, xlabel='domain'>"
      ]
     },
     "execution_count": 27,
     "metadata": {},
     "output_type": "execute_result"
    },
    {
     "data": {
      "image/png": "[encoded data removed]",
      "text/plain": [
       "<Figure size 1080x504 with 1 Axes>"
      ]
     },
     "metadata": {
      "needs_background": "light"
     },
     "output_type": "display_data"
    }
   ],
   "source": [
    "get_domain_accuracies(experiment)"
   ]
  },
  {
   "cell_type": "code",
   "execution_count": 28,
   "id": "a74ae082",
   "metadata": {
    "execution": {
     "iopub.execute_input": "2022-03-20T10:24:08.797877Z",
     "iopub.status.busy": "2022-03-20T10:24:08.797602Z",
     "iopub.status.idle": "2022-03-20T10:24:08.815160Z",
     "shell.execute_reply": "2022-03-20T10:24:08.815604Z"
    },
    "papermill": {
     "duration": 0.055154,
     "end_time": "2022-03-20T10:24:08.815724",
     "exception": false,
     "start_time": "2022-03-20T10:24:08.760570",
     "status": "completed"
    },
    "tags": []
   },
   "outputs": [
    {
     "name": "stdout",
     "output_type": "stream",
     "text": [
      "Source Test Label Accuracy: 0.9858430075593952 Target Test Label Accuracy: 0.23776041666666667\n",
      "Source Val Label Accuracy: 0.9854990389895661 Target Val Label Accuracy: 0.239453125\n"
     ]
    }
   ],
   "source": [
    "print(\"Source Test Label Accuracy:\", experiment[\"results\"][\"source_test_label_accuracy\"], \"Target Test Label Accuracy:\", experiment[\"results\"][\"target_test_label_accuracy\"])\n",
    "print(\"Source Val Label Accuracy:\", experiment[\"results\"][\"source_val_label_accuracy\"], \"Target Val Label Accuracy:\", experiment[\"results\"][\"target_val_label_accuracy\"])"
   ]
  },
  {
   "cell_type": "code",
   "execution_count": 29,
   "id": "dacca602",
   "metadata": {
    "execution": {
     "iopub.execute_input": "2022-03-20T10:24:08.892000Z",
     "iopub.status.busy": "2022-03-20T10:24:08.891738Z",
     "iopub.status.idle": "2022-03-20T10:24:08.910872Z",
     "shell.execute_reply": "2022-03-20T10:24:08.911319Z"
    },
    "papermill": {
     "duration": 0.057096,
     "end_time": "2022-03-20T10:24:08.911453",
     "exception": false,
     "start_time": "2022-03-20T10:24:08.854357",
     "status": "completed"
    },
    "tags": [
     "experiment_json"
    ]
   },
   "outputs": [
    {
     "data": {
      "text/plain": [
       "'{\"experiment_name\": \"tl_3Av2:cores+wisig -> oracle.run1.framed\", \"parameters\": {\"experiment_name\": \"tl_3Av2:cores+wisig -> oracle.run1.framed\", \"device\": \"cuda\", \"lr\": 0.0001, \"x_shape\": [2, 200], \"n_shot\": 3, \"n_query\": 2, \"train_k_factor\": 3, \"val_k_factor\": 2, \"test_k_factor\": 2, \"torch_default_dtype\": \"torch.float32\", \"n_epoch\": 50, \"patience\": 3, \"criteria_for_best\": \"target_accuracy\", \"x_net\": [{\"class\": \"nnReshape\", \"kargs\": {\"shape\": [-1, 1, 2, 200]}}, {\"class\": \"Conv2d\", \"kargs\": {\"in_channels\": 1, \"out_channels\": 256, \"kernel_size\": [1, 7], \"bias\": false, \"padding\": [0, 3]}}, {\"class\": \"ReLU\", \"kargs\": {\"inplace\": true}}, {\"class\": \"BatchNorm2d\", \"kargs\": {\"num_features\": 256}}, {\"class\": \"Conv2d\", \"kargs\": {\"in_channels\": 256, \"out_channels\": 80, \"kernel_size\": [2, 7], \"bias\": true, \"padding\": [0, 3]}}, {\"class\": \"ReLU\", \"kargs\": {\"inplace\": true}}, {\"class\": \"BatchNorm2d\", \"kargs\": {\"num_features\": 80}}, {\"class\": \"Flatten\", \"kargs\": {}}, {\"class\": \"Linear\", \"kargs\": {\"in_features\": 16000, \"out_features\": 256}}, {\"class\": \"ReLU\", \"kargs\": {\"inplace\": true}}, {\"class\": \"BatchNorm1d\", \"kargs\": {\"num_features\": 256}}, {\"class\": \"Linear\", \"kargs\": {\"in_features\": 256, \"out_features\": 256}}], \"NUM_LOGS_PER_EPOCH\": 10, \"BEST_MODEL_PATH\": \"./best_model.pth\", \"n_way\": 16, \"datasets\": [{\"labels\": [\"1-10.\", \"1-11.\", \"1-15.\", \"1-16.\", \"1-17.\", \"1-18.\", \"1-19.\", \"10-4.\", \"10-7.\", \"11-1.\", \"11-14.\", \"11-17.\", \"11-20.\", \"11-7.\", \"13-20.\", \"13-8.\", \"14-10.\", \"14-11.\", \"14-14.\", \"14-7.\", \"15-1.\", \"15-20.\", \"16-1.\", \"16-16.\", \"17-10.\", \"17-11.\", \"17-2.\", \"19-1.\", \"19-16.\", \"19-19.\", \"19-20.\", \"19-3.\", \"2-10.\", \"2-11.\", \"2-17.\", \"2-18.\", \"2-20.\", \"2-3.\", \"2-4.\", \"2-5.\", \"2-6.\", \"2-7.\", \"2-8.\", \"3-13.\", \"3-18.\", \"3-3.\", \"4-1.\", \"4-10.\", \"4-11.\", \"4-19.\", \"5-5.\", \"6-15.\", \"7-10.\", \"7-14.\", \"8-18.\", \"8-20.\", \"8-3.\", \"8-8.\"], \"domains\": [1, 2, 3, 4, 5], \"num_examples_per_domain_per_label\": -1, \"pickle_path\": \"/mnt/wd500GB/CSC500/csc500-main/datasets/cores.stratified_ds.2022A.pkl\", \"source_or_target_dataset\": \"source\", \"x_transforms\": [\"unit_power\", \"take_200\"], \"episode_transforms\": [], \"domain_prefix\": \"C_\"}, {\"labels\": [\"1-10\", \"1-12\", \"1-14\", \"1-16\", \"1-18\", \"1-19\", \"1-8\", \"10-11\", \"10-17\", \"10-4\", \"10-7\", \"11-1\", \"11-10\", \"11-19\", \"11-20\", \"11-4\", \"11-7\", \"12-19\", \"12-20\", \"12-7\", \"13-14\", \"13-18\", \"13-19\", \"13-20\", \"13-3\", \"13-7\", \"14-10\", \"14-11\", \"14-12\", \"14-13\", \"14-14\", \"14-19\", \"14-20\", \"14-7\", \"14-8\", \"14-9\", \"15-1\", \"15-19\", \"15-6\", \"16-1\", \"16-16\", \"16-19\", \"16-20\", \"17-10\", \"17-11\", \"18-1\", \"18-10\", \"18-11\", \"18-12\", \"18-13\", \"18-14\", \"18-15\", \"18-16\", \"18-17\", \"18-19\", \"18-2\", \"18-20\", \"18-4\", \"18-5\", \"18-7\", \"18-8\", \"18-9\", \"19-1\", \"19-10\", \"19-11\", \"19-12\", \"19-13\", \"19-14\", \"19-15\", \"19-19\", \"19-2\", \"19-20\", \"19-3\", \"19-4\", \"19-6\", \"19-7\", \"19-8\", \"19-9\", \"2-1\", \"2-13\", \"2-15\", \"2-3\", \"2-4\", \"2-5\", \"2-6\", \"2-7\", \"2-8\", \"20-1\", \"20-12\", \"20-14\", \"20-15\", \"20-16\", \"20-18\", \"20-19\", \"20-20\", \"20-3\", \"20-4\", \"20-5\", \"20-7\", \"20-8\", \"3-1\", \"3-13\", \"3-18\", \"3-2\", \"3-8\", \"4-1\", \"4-10\", \"4-11\", \"5-1\", \"5-5\", \"6-1\", \"6-15\", \"6-6\", \"7-10\", \"7-11\", \"7-12\", \"7-13\", \"7-14\", \"7-7\", \"7-8\", \"7-9\", \"8-1\", \"8-13\", \"8-14\", \"8-18\", \"8-20\", \"8-3\", \"8-8\", \"9-1\", \"9-7\"], \"domains\": [1, 2, 3, 4], \"num_examples_per_domain_per_label\": -1, \"pickle_path\": \"/mnt/wd500GB/CSC500/csc500-main/datasets/wisig.node3-19.stratified_ds.2022A.pkl\", \"source_or_target_dataset\": \"source\", \"x_transforms\": [\"unit_power\", \"take_200\"], \"episode_transforms\": [], \"domain_prefix\": \"W_\"}, {\"labels\": [\"3123D52\", \"3123D65\", \"3123D79\", \"3123D80\", \"3123D54\", \"3123D70\", \"3123D7B\", \"3123D89\", \"3123D58\", \"3123D76\", \"3123D7D\", \"3123EFE\", \"3123D64\", \"3123D78\", \"3123D7E\", \"3124E4A\"], \"domains\": [32, 38, 8, 44, 14, 50, 20, 26], \"num_examples_per_domain_per_label\": 2000, \"pickle_path\": \"/mnt/wd500GB/CSC500/csc500-main/datasets/oracle.Run1_framed_2000Examples_stratified_ds.2022A.pkl\", \"source_or_target_dataset\": \"target\", \"x_transforms\": [\"unit_power\", \"take_200\", \"resample_20Msps_to_25Msps\"], \"episode_transforms\": [], \"domain_prefix\": \"O_\"}], \"seed\": 420, \"dataset_seed\": 420, \"domains_source\": [\"C_1\", \"C_2\", \"C_3\", \"C_4\", \"C_5\", \"W_1\", \"W_2\", \"W_3\", \"W_4\"], \"domains_target\": [\"O_32\", \"O_38\", \"O_8\", \"O_44\", \"O_14\", \"O_50\", \"O_20\", \"O_26\"]}, \"results\": {\"source_test_label_accuracy\": 0.9858430075593952, \"source_test_label_loss\": 0.059491898864507675, \"target_test_label_accuracy\": 0.23776041666666667, \"target_test_label_loss\": 2.3639583587646484, \"source_val_label_accuracy\": 0.9854990389895661, \"source_val_label_loss\": 0.060922663658857346, \"target_val_label_accuracy\": 0.239453125, \"target_val_label_loss\": 2.374019145965576, \"total_epochs_trained\": 8, \"total_experiment_time_secs\": 5016.98845243454, \"confusion\": {\"C_4\": {\"42\": {\"42\": 32}, \"0\": {\"0\": 80}, \"1\": {\"1\": 40}, \"39\": {\"39\": 20}, \"28\": {\"28\": 32}, \"53\": {\"53\": 124}, \"19\": {\"19\": 144}, \"34\": {\"34\": 24}, \"33\": {\"33\": 36}, \"32\": {\"32\": 24}, \"10\": {\"10\": 136}, \"46\": {\"46\": 133, \"5\": 1}, \"20\": {\"20\": 122}, \"5\": {\"5\": 108}, \"40\": {\"40\": 124}, \"51\": {\"51\": 144}, \"37\": {\"37\": 24}, \"17\": {\"17\": 80}, \"45\": {\"45\": 96}, \"13\": {\"13\": 142}, \"27\": {\"27\": 144}, \"24\": {\"24\": 56}, \"30\": {\"30\": 44}, \"31\": {\"31\": 28}, \"41\": {\"41\": 34, \"3\": 1, \"6\": 1}, \"36\": {\"36\": 92}, \"16\": {\"16\": 96}, \"22\": {\"22\": 128}, \"44\": {\"44\": 131, \"57\": 1}, \"9\": {\"9\": 140}, \"57\": {\"57\": 100}, \"8\": {\"8\": 138}, \"23\": {\"23\": 132}, \"47\": {\"47\": 120}, \"43\": {\"43\": 138}, \"49\": {\"49\": 20}, \"3\": {\"3\": 123, \"50\": 1}, \"12\": {\"12\": 92}, \"38\": {\"38\": 40}, \"7\": {\"7\": 24}, \"14\": {\"14\": 16}, \"15\": {\"15\": 146}, \"25\": {\"25\": 128}, \"26\": {\"26\": 24}, \"21\": {\"21\": 132}, \"48\": {\"48\": 144}, \"56\": {\"56\": 134}, \"11\": {\"11\": 104}, \"2\": {\"2\": 36}, \"6\": {\"6\": 112}, \"55\": {\"55\": 140}, \"54\": {\"54\": 108}, \"29\": {\"29\": 124}, \"50\": {\"50\": 121, \"3\": 1}, \"52\": {\"52\": 116}, \"35\": {\"35\": 40}, \"4\": {\"4\": 120}, \"18\": {\"18\": 108}}, \"C_5\": {\"43\": {\"43\": 152}, \"35\": {\"35\": 36}, \"54\": {\"54\": 112}, \"22\": {\"22\": 28}, \"16\": {\"16\": 146}, \"5\": {\"5\": 128}, \"28\": {\"28\": 32}, \"14\": {\"14\": 44}, \"51\": {\"51\": 128}, \"19\": {\"19\": 140}, \"31\": {\"31\": 36}, \"10\": {\"10\": 68}, \"21\": {\"21\": 136}, \"3\": {\"3\": 100}, \"57\": {\"57\": 131, \"54\": 1}, \"9\": {\"9\": 146}, \"8\": {\"8\": 132}, \"46\": {\"46\": 140}, \"23\": {\"23\": 124}, \"37\": {\"37\": 24}, \"34\": {\"34\": 36}, \"4\": {\"4\": 100}, \"6\": {\"6\": 126, \"12\": 1, \"20\": 1}, \"48\": {\"48\": 136}, \"44\": {\"44\": 138}, \"40\": {\"40\": 124}, \"12\": {\"12\": 96}, \"30\": {\"30\": 128}, \"39\": {\"39\": 20}, \"45\": {\"45\": 123, \"55\": 1}, \"36\": {\"36\": 92}, \"27\": {\"27\": 140}, \"32\": {\"32\": 32}, \"52\": {\"52\": 130}, \"0\": {\"0\": 124}, \"26\": {\"26\": 24}, \"1\": {\"1\": 148}, \"53\": {\"53\": 146}, \"25\": {\"25\": 144}, \"24\": {\"24\": 80}, \"7\": {\"7\": 32}, \"18\": {\"18\": 64}, \"20\": {\"20\": 144}, \"33\": {\"33\": 32}, \"55\": {\"55\": 140}, \"41\": {\"41\": 28}, \"42\": {\"42\": 39, \"5\": 1}, \"49\": {\"49\": 36}, \"13\": {\"13\": 148}, \"38\": {\"38\": 32}, \"2\": {\"2\": 28}, \"47\": {\"47\": 100}, \"17\": {\"17\": 116}, \"11\": {\"11\": 154}, \"29\": {\"29\": 132}, \"50\": {\"50\": 138}, \"56\": {\"56\": 148}, \"15\": {\"15\": 142}}, \"W_3\": {\"110\": {\"110\": 89, \"44\": 1, \"8\": 1, \"98\": 1}, \"1\": {\"1\": 107, \"69\": 1}, \"2\": {\"2\": 28}, \"94\": {\"94\": 80, \"15\": 1, \"70\": 1, \"121\": 1, \"39\": 1}, \"64\": {\"64\": 20}, \"78\": {\"78\": 13, \"51\": 1, \"21\": 2}, \"47\": {\"47\": 11, \"100\": 1}, \"127\": {\"127\": 127, \"26\": 1}, \"89\": {\"89\": 28}, \"79\": {\"79\": 12}, \"22\": {\"22\": 16}, \"117\": {\"117\": 112}, \"49\": {\"49\": 23, \"74\": 1}, \"14\": {\"14\": 80}, \"103\": {\"103\": 16}, \"123\": {\"123\": 16}, \"98\": {\"98\": 127, \"125\": 1}, \"18\": {\"18\": 108}, \"61\": {\"61\": 16}, \"108\": {\"108\": 122, \"110\": 1, \"70\": 1, \"8\": 1, \"26\": 1}, \"100\": {\"100\": 16}, \"0\": {\"0\": 115, \"10\": 1}, \"107\": {\"107\": 130}, \"58\": {\"58\": 16}, \"8\": {\"8\": 120}, \"85\": {\"85\": 36}, \"31\": {\"31\": 19, \"1\": 1}, \"81\": {\"81\": 32}, \"60\": {\"60\": 28}, \"102\": {\"102\": 116}, \"19\": {\"19\": 30, \"28\": 1, \"77\": 1}, \"23\": {\"23\": 31, \"123\": 1}, \"32\": {\"32\": 32}, \"39\": {\"39\": 105, \"126\": 2, \"21\": 1}, \"129\": {\"100\": 1, \"129\": 31}, \"71\": {\"71\": 67, \"84\": 1}, \"91\": {\"91\": 21, \"57\": 1, \"58\": 1, \"70\": 1}, \"101\": {\"101\": 48, \"14\": 1, \"30\": 1, \"10\": 1, \"113\": 1}, \"62\": {\"62\": 120, \"8\": 1, \"110\": 1}, \"63\": {\"63\": 16}, \"125\": {\"125\": 118, \"8\": 1, \"18\": 1}, \"57\": {\"57\": 20}, \"28\": {\"28\": 16}, \"70\": {\"70\": 60, \"129\": 1, \"43\": 1, \"21\": 1, \"62\": 1, \"15\": 1, \"100\": 1, \"8\": 1, \"69\": 2, \"1\": 1, \"33\": 1, \"110\": 1}, \"99\": {\"99\": 33, \"17\": 1, \"27\": 1, \"7\": 1}, \"121\": {\"121\": 29, \"61\": 1, \"6\": 1, \"113\": 1}, \"4\": {\"4\": 94, \"127\": 1, \"94\": 1}, \"80\": {\"80\": 16}, \"51\": {\"51\": 14, \"39\": 1, \"57\": 1}, \"3\": {\"3\": 113, \"78\": 1, \"84\": 1, \"16\": 1}, \"9\": {\"9\": 32}, \"53\": {\"53\": 19, \"117\": 1}, \"30\": {\"30\": 83, \"86\": 1}, \"33\": {\"33\": 122}, \"15\": {\"15\": 103, \"8\": 1}, \"97\": {\"66\": 1, \"97\": 19}, \"86\": {\"86\": 27, \"8\": 1}, \"20\": {\"20\": 16}, \"66\": {\"66\": 16}, \"10\": {\"10\": 121, \"33\": 1}, \"29\": {\"29\": 31, \"18\": 1}, \"109\": {\"109\": 112, \"5\": 1, \"98\": 1}, \"52\": {\"52\": 16}, \"67\": {\"67\": 16}, \"83\": {\"83\": 22, \"78\": 1, \"18\": 1}, \"72\": {\"72\": 28}, \"90\": {\"90\": 124, \"125\": 1, \"44\": 1}, \"69\": {\"69\": 83, \"90\": 1}, \"88\": {\"88\": 109, \"5\": 1, \"107\": 1, \"11\": 1}, \"115\": {\"115\": 16}, \"73\": {\"73\": 35, \"126\": 1, \"16\": 1, \"122\": 1, \"69\": 1, \"89\": 1}, \"34\": {\"34\": 32}, \"25\": {\"25\": 16}, \"44\": {\"44\": 72}, \"112\": {\"112\": 15, \"127\": 1}, \"37\": {\"37\": 16}, \"77\": {\"77\": 16}, \"111\": {\"111\": 120, \"127\": 1, \"8\": 1}, \"119\": {\"119\": 16}, \"56\": {\"56\": 12}, \"5\": {\"5\": 110, \"4\": 1, \"21\": 1}, \"122\": {\"122\": 57, \"8\": 1, \"21\": 2}, \"74\": {\"74\": 16}, \"11\": {\"11\": 151, \"16\": 1}, \"41\": {\"41\": 16}, \"104\": {\"104\": 16}, \"21\": {\"62\": 1, \"21\": 44, \"101\": 2, \"2\": 1}, \"118\": {\"118\": 98, \"48\": 1, \"1\": 1}, \"40\": {\"40\": 121, \"21\": 1}, \"6\": {\"6\": 31, \"90\": 1}, \"27\": {\"27\": 89, \"36\": 6, \"94\": 1}, \"113\": {\"113\": 118, \"2\": 1, \"62\": 1}, \"68\": {\"68\": 16}, \"12\": {\"12\": 102}, \"54\": {\"54\": 16}, \"24\": {\"24\": 46, \"40\": 1, \"36\": 1}, \"106\": {\"106\": 98, \"117\": 1, \"26\": 1}, \"128\": {\"128\": 32}, \"48\": {\"48\": 15, \"79\": 1}, \"92\": {\"92\": 32}, \"35\": {\"35\": 10, \"54\": 1, \"27\": 1}, \"116\": {\"116\": 28}, \"38\": {\"38\": 15, \"6\": 1}, \"126\": {\"126\": 122, \"17\": 1, \"39\": 1}, \"46\": {\"46\": 16}, \"120\": {\"120\": 20}, \"7\": {\"7\": 111, \"26\": 1}, \"13\": {\"13\": 11, \"76\": 1, \"78\": 1, \"70\": 1, \"120\": 1, \"17\": 1}, \"43\": {\"43\": 52, \"84\": 1, \"16\": 2, \"62\": 1}, \"93\": {\"93\": 131, \"109\": 1}, \"26\": {\"26\": 131, \"118\": 1}, \"76\": {\"76\": 16}, \"59\": {\"59\": 12}, \"65\": {\"65\": 12}, \"87\": {\"87\": 119, \"117\": 1}, \"124\": {\"124\": 122, \"34\": 1, \"90\": 1}, \"84\": {\"84\": 107, \"16\": 1}, \"82\": {\"82\": 28}, \"75\": {\"75\": 16}, \"17\": {\"10\": 1, \"17\": 11, \"67\": 1, \"104\": 1, \"55\": 1, \"106\": 1}, \"105\": {\"105\": 124}, \"95\": {\"95\": 32}, \"42\": {\"42\": 28}, \"55\": {\"55\": 16}, \"16\": {\"16\": 115, \"6\": 1}, \"50\": {\"50\": 16}, \"96\": {\"96\": 20}, \"45\": {\"45\": 16}, \"36\": {\"36\": 117, \"27\": 3}, \"114\": {\"114\": 120, \"106\": 2, \"18\": 1, \"90\": 1}}, \"C_2\": {\"49\": {\"49\": 24}, \"13\": {\"13\": 116}, \"37\": {\"37\": 36}, \"41\": {\"41\": 20}, \"15\": {\"15\": 142}, \"56\": {\"56\": 141, \"45\": 1}, \"14\": {\"14\": 24}, \"3\": {\"3\": 92}, \"38\": {\"38\": 20}, \"43\": {\"43\": 138}, \"33\": {\"33\": 28}, \"47\": {\"47\": 138}, \"30\": {\"30\": 144}, \"39\": {\"39\": 28}, \"12\": {\"12\": 92}, \"6\": {\"6\": 124}, \"51\": {\"51\": 134}, \"5\": {\"5\": 120}, \"34\": {\"34\": 28}, \"35\": {\"35\": 32}, \"0\": {\"0\": 48}, \"7\": {\"7\": 36}, \"24\": {\"24\": 96}, \"8\": {\"8\": 136}, \"20\": {\"20\": 124}, \"36\": {\"36\": 116}, \"42\": {\"42\": 36}, \"1\": {\"1\": 112}, \"4\": {\"4\": 148}, \"28\": {\"28\": 28}, \"50\": {\"50\": 136}, \"45\": {\"45\": 128}, \"18\": {\"18\": 48}, \"57\": {\"57\": 120}, \"46\": {\"46\": 128}, \"23\": {\"23\": 148}, \"27\": {\"27\": 138}, \"19\": {\"19\": 134}, \"22\": {\"22\": 136}, \"17\": {\"17\": 104}, \"55\": {\"55\": 136}, \"44\": {\"44\": 100}, \"26\": {\"26\": 24}, \"31\": {\"31\": 28}, \"16\": {\"16\": 130}, \"11\": {\"11\": 128}, \"25\": {\"25\": 126}, \"54\": {\"54\": 108}, \"32\": {\"32\": 28}, \"52\": {\"52\": 124}, \"40\": {\"40\": 132}, \"2\": {\"2\": 32}, \"10\": {\"10\": 110}, \"53\": {\"53\": 136}, \"9\": {\"9\": 150}, \"21\": {\"21\": 120}, \"48\": {\"48\": 138}, \"29\": {\"29\": 128}}, \"W_4\": {\"113\": {\"113\": 122, \"0\": 1, \"106\": 1}, \"85\": {\"85\": 26, \"118\": 1, \"14\": 1}, \"34\": {\"34\": 32}, \"55\": {\"55\": 16}, \"42\": {\"42\": 26, \"128\": 1, \"112\": 1}, \"13\": {\"13\": 16}, \"69\": {\"69\": 117, \"70\": 1, \"8\": 1, \"107\": 1, \"26\": 1, \"78\": 1, \"113\": 1, \"71\": 1}, \"35\": {\"35\": 12}, \"83\": {\"83\": 26, \"21\": 1, \"89\": 1}, \"51\": {\"51\": 11, \"24\": 1, \"62\": 3, \"42\": 1}, \"72\": {\"72\": 32}, \"24\": {\"24\": 112, \"36\": 4, \"84\": 1, \"27\": 1, \"10\": 1, \"97\": 1}, \"53\": {\"53\": 15, \"92\": 1}, \"8\": {\"8\": 136, \"30\": 1, \"110\": 1, \"1\": 1, \"26\": 1, \"28\": 1, \"122\": 1, \"21\": 1, \"69\": 1}, \"49\": {\"49\": 32}, \"21\": {\"21\": 36, \"23\": 1, \"88\": 1, \"78\": 1, \"8\": 1}, \"18\": {\"18\": 118, \"94\": 1, \"122\": 1}, \"114\": {\"114\": 116, \"88\": 1, \"3\": 1}, \"58\": {\"58\": 15, \"21\": 1}, \"56\": {\"56\": 12}, \"80\": {\"80\": 16}, \"11\": {\"11\": 153, \"84\": 1}, \"15\": {\"15\": 124, \"105\": 1, \"30\": 1, \"40\": 1, \"84\": 1}, \"50\": {\"50\": 16}, \"111\": {\"111\": 137, \"27\": 1}, \"108\": {\"108\": 85, \"88\": 1, \"84\": 1, \"1\": 1, \"39\": 2, \"62\": 1, \"71\": 1}, \"104\": {\"104\": 16}, \"32\": {\"32\": 28}, \"68\": {\"68\": 15, \"51\": 1}, \"73\": {\"73\": 24}, \"92\": {\"92\": 28}, \"57\": {\"57\": 16}, \"40\": {\"40\": 132, \"94\": 1, \"8\": 1, \"26\": 1, \"122\": 1}, \"71\": {\"71\": 101, \"108\": 1, \"105\": 1, \"27\": 1}, \"121\": {\"121\": 30, \"27\": 1, \"38\": 1}, \"62\": {\"62\": 53, \"26\": 1, \"27\": 1, \"109\": 1, \"41\": 1, \"108\": 1, \"96\": 1, \"21\": 1}, \"39\": {\"39\": 96, \"88\": 1, \"69\": 1, \"105\": 1, \"0\": 1}, \"107\": {\"107\": 142, \"115\": 1, \"110\": 1}, \"60\": {\"60\": 30, \"110\": 1, \"23\": 1}, \"129\": {\"129\": 26, \"48\": 1, \"115\": 1}, \"84\": {\"84\": 128, \"78\": 1, \"106\": 2, \"88\": 1}, \"106\": {\"106\": 114, \"21\": 1, \"105\": 1}, \"87\": {\"87\": 130, \"43\": 2}, \"110\": {\"110\": 89, \"78\": 1, \"113\": 1, \"43\": 1, \"33\": 1, \"88\": 1}, \"118\": {\"118\": 108, \"59\": 1, \"107\": 1, \"88\": 1, \"0\": 1}, \"64\": {\"64\": 15, \"106\": 1}, \"82\": {\"32\": 1, \"82\": 30, \"45\": 1}, \"7\": {\"7\": 121, \"43\": 1, \"84\": 1, \"24\": 1}, \"0\": {\"0\": 108, \"101\": 4, \"4\": 1, \"84\": 1, \"21\": 2}, \"41\": {\"41\": 14, \"1\": 1, \"113\": 1}, \"102\": {\"102\": 127, \"98\": 1, \"126\": 1, \"96\": 1}, \"89\": {\"89\": 31, \"96\": 1}, \"26\": {\"26\": 125, \"113\": 1, \"18\": 1, \"44\": 1}, \"103\": {\"103\": 14, \"19\": 1, \"52\": 1}, \"90\": {\"90\": 115, \"98\": 3}, \"14\": {\"14\": 111, \"78\": 1}, \"9\": {\"9\": 28}, \"5\": {\"5\": 133, \"27\": 1, \"4\": 1, \"40\": 1}, \"22\": {\"22\": 14, \"89\": 2}, \"2\": {\"2\": 28}, \"77\": {\"77\": 12}, \"59\": {\"59\": 10, \"118\": 1, \"115\": 1}, \"127\": {\"127\": 95, \"84\": 1, \"82\": 1, \"8\": 1, \"105\": 3, \"30\": 1}, \"61\": {\"61\": 16}, \"17\": {\"17\": 19, \"48\": 1}, \"45\": {\"45\": 16}, \"19\": {\"19\": 28}, \"52\": {\"52\": 19, \"15\": 1}, \"123\": {\"32\": 1, \"123\": 13, \"23\": 1, \"41\": 1}, \"20\": {\"20\": 15, \"76\": 1}, \"112\": {\"112\": 14, \"13\": 1, \"35\": 1}, \"37\": {\"37\": 16}, \"29\": {\"29\": 32}, \"128\": {\"128\": 24}, \"100\": {\"100\": 20}, \"67\": {\"67\": 13, \"123\": 1, \"23\": 1, \"101\": 1}, \"12\": {\"12\": 96, \"106\": 1, \"3\": 1, \"71\": 1, \"105\": 1}, \"101\": {\"101\": 127, \"71\": 1}, \"76\": {\"76\": 16}, \"70\": {\"70\": 116, \"10\": 1, \"88\": 3, \"73\": 1, \"27\": 2, \"11\": 1}, \"31\": {\"70\": 1, \"31\": 15}, \"86\": {\"86\": 28}, \"88\": {\"70\": 5, \"88\": 125, \"69\": 1, \"36\": 1}, \"3\": {\"3\": 123, \"108\": 1, \"118\": 1, \"2\": 1}, \"117\": {\"117\": 117, \"115\": 1, \"10\": 1, \"8\": 1}, \"30\": {\"30\": 71, \"8\": 1, \"105\": 2, \"122\": 1, \"114\": 1}, \"96\": {\"96\": 20}, \"27\": {\"27\": 90, \"92\": 1, \"105\": 1, \"108\": 2, \"122\": 1, \"14\": 1, \"84\": 1, \"21\": 1, \"39\": 1, \"110\": 1}, \"122\": {\"122\": 83, \"8\": 1}, \"120\": {\"120\": 19, \"21\": 1}, \"44\": {\"44\": 61, \"85\": 1, \"90\": 1, \"98\": 1}, \"79\": {\"79\": 15, \"122\": 1}, \"105\": {\"105\": 94, \"93\": 1, \"36\": 1, \"87\": 1, \"17\": 1, \"19\": 1, \"16\": 1}, \"95\": {\"95\": 30, \"21\": 1, \"11\": 1}, \"109\": {\"109\": 114, \"30\": 1, \"78\": 1}, \"16\": {\"16\": 115, \"12\": 1, \"10\": 1, \"3\": 1}, \"36\": {\"36\": 91, \"113\": 1, \"108\": 1, \"24\": 2, \"21\": 1, \"27\": 2}, \"125\": {\"125\": 136}, \"97\": {\"36\": 1, \"15\": 1, \"97\": 16, \"10\": 1, \"24\": 1}, \"91\": {\"91\": 22, \"63\": 1, \"109\": 1}, \"28\": {\"28\": 20}, \"81\": {\"81\": 36}, \"126\": {\"126\": 114, \"88\": 1, \"78\": 1, \"106\": 1, \"127\": 1, \"62\": 1, \"39\": 3}, \"4\": {\"4\": 99, \"39\": 1, \"10\": 1, \"33\": 1, \"0\": 1, \"84\": 1}, \"10\": {\"10\": 119, \"94\": 1, \"30\": 3, \"109\": 1}, \"63\": {\"63\": 16}, \"43\": {\"43\": 118}, \"116\": {\"116\": 27, \"99\": 1}, \"1\": {\"1\": 100, \"21\": 1, \"87\": 1, \"24\": 1, \"108\": 1, \"122\": 1, \"4\": 1, \"27\": 1, \"12\": 1}, \"94\": {\"94\": 86, \"18\": 1, \"26\": 1}, \"38\": {\"38\": 16}, \"54\": {\"54\": 16}, \"74\": {\"74\": 16}, \"25\": {\"25\": 16}, \"75\": {\"75\": 16}, \"119\": {\"119\": 15, \"23\": 1}, \"46\": {\"46\": 18, \"23\": 1, \"19\": 1}, \"23\": {\"14\": 1, \"23\": 9, \"40\": 1, \"39\": 1, \"123\": 2, \"18\": 1, \"8\": 1}, \"99\": {\"99\": 40}, \"33\": {\"33\": 116, \"125\": 1, \"16\": 1}, \"47\": {\"47\": 10, \"118\": 1, \"78\": 1}, \"115\": {\"115\": 15, \"107\": 1}, \"6\": {\"6\": 23, \"122\": 1}, \"65\": {\"65\": 12}, \"66\": {\"66\": 14, \"44\": 2}, \"78\": {\"78\": 33, \"94\": 1, \"30\": 1, \"109\": 1}, \"98\": {\"98\": 116}, \"93\": {\"93\": 115, \"125\": 1}, \"48\": {\"48\": 15, \"113\": 1}, \"124\": {\"124\": 113, \"11\": 1}}, \"W_2\": {\"115\": {\"115\": 12}, \"34\": {\"34\": 31, \"8\": 1}, \"97\": {\"97\": 18, \"15\": 1, \"120\": 1}, \"100\": {\"100\": 16}, \"129\": {\"129\": 32}, \"90\": {\"90\": 141, \"125\": 1}, \"125\": {\"125\": 132}, \"7\": {\"7\": 125, \"84\": 1, \"24\": 2}, \"92\": {\"92\": 27, \"89\": 1}, \"114\": {\"114\": 115, \"10\": 1}, \"80\": {\"80\": 15, \"115\": 1}, \"16\": {\"16\": 117, \"40\": 1, \"70\": 2, \"110\": 1, \"94\": 1}, \"69\": {\"69\": 113, \"102\": 1, \"70\": 1, \"36\": 1}, \"102\": {\"102\": 114}, \"33\": {\"33\": 130}, \"17\": {\"17\": 15, \"27\": 1}, \"27\": {\"27\": 65, \"24\": 1, \"94\": 1, \"26\": 1}, \"117\": {\"117\": 104, \"12\": 1, \"24\": 1}, \"14\": {\"14\": 47, \"78\": 1}, \"86\": {\"86\": 32}, \"0\": {\"0\": 113, \"21\": 1, \"14\": 1, \"24\": 1}, \"62\": {\"62\": 136, \"36\": 1, \"24\": 1}, \"39\": {\"39\": 105, \"72\": 1, \"1\": 1, \"94\": 2, \"70\": 1, \"109\": 1, \"18\": 1}, \"19\": {\"19\": 28}, \"44\": {\"44\": 100}, \"104\": {\"104\": 20}, \"3\": {\"3\": 125, \"87\": 1, \"24\": 1, \"69\": 1, \"21\": 1, \"36\": 1}, \"10\": {\"10\": 55, \"21\": 1, \"7\": 1, \"87\": 2, \"88\": 1}, \"61\": {\"61\": 16, \"36\": 1, \"30\": 1, \"58\": 2}, \"111\": {\"111\": 114}, \"68\": {\"68\": 16}, \"101\": {\"101\": 142, \"21\": 1, \"118\": 1}, \"36\": {\"36\": 120, \"51\": 1, \"18\": 1, \"24\": 1, \"39\": 1, \"70\": 1, \"16\": 1, \"4\": 1, \"30\": 1}, \"120\": {\"120\": 20}, \"103\": {\"103\": 16}, \"47\": {\"47\": 12}, \"98\": {\"98\": 120}, \"76\": {\"76\": 16}, \"88\": {\"88\": 123, \"27\": 1}, \"93\": {\"93\": 135, \"10\": 1, \"88\": 1, \"24\": 1}, \"23\": {\"23\": 43, \"8\": 1}, \"108\": {\"108\": 123, \"39\": 1}, \"51\": {\"51\": 16, \"14\": 1, \"98\": 1, \"39\": 1, \"24\": 1}, \"13\": {\"13\": 14, \"51\": 1, \"55\": 1}, \"77\": {\"77\": 16}, \"46\": {\"46\": 16}, \"96\": {\"96\": 20}, \"119\": {\"119\": 19, \"109\": 1}, \"121\": {\"121\": 36}, \"54\": {\"54\": 17, \"28\": 1, \"10\": 1, \"30\": 1}, \"82\": {\"82\": 35, \"78\": 1}, \"12\": {\"12\": 85, \"122\": 1, \"106\": 1, \"24\": 1}, \"74\": {\"74\": 15, \"22\": 1}, \"66\": {\"66\": 18, \"118\": 1, \"28\": 1}, \"28\": {\"28\": 20}, \"52\": {\"52\": 18, \"21\": 1, \"110\": 1}, \"41\": {\"41\": 18, \"30\": 1, \"87\": 1}, \"81\": {\"81\": 24}, \"48\": {\"48\": 20}, \"113\": {\"113\": 70, \"78\": 1, \"126\": 1}, \"53\": {\"53\": 16}, \"15\": {\"15\": 119, \"36\": 1}, \"30\": {\"30\": 110, \"36\": 2}, \"43\": {\"43\": 121, \"93\": 2, \"42\": 1}, \"29\": {\"29\": 31, \"16\": 1}, \"109\": {\"39\": 1, \"109\": 95, \"26\": 1, \"16\": 1, \"70\": 1, \"84\": 1}, \"60\": {\"60\": 27, \"36\": 1}, \"70\": {\"70\": 117, \"16\": 2, \"95\": 1, \"78\": 1, \"27\": 1}, \"127\": {\"127\": 123, \"16\": 1}, \"32\": {\"32\": 36}, \"73\": {\"73\": 27, \"88\": 1}, \"50\": {\"50\": 13, \"16\": 1, \"62\": 1, \"123\": 1}, \"1\": {\"1\": 119, \"105\": 1, \"12\": 1, \"87\": 1, \"62\": 1, \"7\": 1}, \"106\": {\"106\": 116, \"82\": 1, \"94\": 1, \"62\": 1, \"36\": 1}, \"123\": {\"123\": 16}, \"79\": {\"79\": 16}, \"4\": {\"4\": 86, \"84\": 1, \"120\": 1}, \"2\": {\"2\": 32}, \"8\": {\"8\": 124, \"36\": 2, \"12\": 1, \"84\": 1}, \"83\": {\"83\": 40}, \"105\": {\"105\": 129, \"21\": 1}, \"5\": {\"5\": 107, \"82\": 1, \"70\": 1, \"26\": 2, \"87\": 1}, \"99\": {\"99\": 32}, \"25\": {\"25\": 15, \"73\": 1}, \"59\": {\"59\": 13, \"17\": 1, \"95\": 1, \"4\": 1}, \"42\": {\"42\": 25, \"83\": 1, \"18\": 1, \"1\": 1}, \"55\": {\"55\": 16}, \"75\": {\"75\": 16}, \"118\": {\"118\": 66, \"39\": 1, \"69\": 1}, \"95\": {\"95\": 34, \"52\": 1, \"45\": 1}, \"122\": {\"122\": 117, \"24\": 1, \"12\": 1, \"70\": 1}, \"20\": {\"20\": 15, \"23\": 1}, \"110\": {\"110\": 33, \"57\": 1, \"109\": 1, \"88\": 1, \"47\": 1, \"17\": 2, \"69\": 1}, \"65\": {\"65\": 20}, \"37\": {\"52\": 1, \"37\": 14, \"104\": 1}, \"64\": {\"64\": 16}, \"63\": {\"63\": 19, \"125\": 1}, \"40\": {\"40\": 129, \"14\": 1, \"24\": 1, \"4\": 2, \"88\": 1, \"18\": 1, \"16\": 2, \"71\": 1, \"36\": 1, \"69\": 1}, \"21\": {\"21\": 44, \"82\": 1, \"57\": 1, \"39\": 1, \"78\": 1}, \"11\": {\"11\": 77, \"97\": 1, \"47\": 1, \"18\": 1}, \"67\": {\"67\": 16}, \"91\": {\"91\": 26, \"16\": 1, \"18\": 1}, \"87\": {\"87\": 105, \"39\": 1, \"0\": 1, \"62\": 1, \"106\": 1, \"107\": 1, \"36\": 1, \"94\": 1}, \"89\": {\"89\": 34, \"125\": 1, \"75\": 1}, \"9\": {\"9\": 32}, \"124\": {\"124\": 114}, \"56\": {\"56\": 10, \"12\": 1, \"30\": 1}, \"38\": {\"38\": 16}, \"94\": {\"94\": 57, \"27\": 1, \"113\": 1, \"26\": 1, \"118\": 1, \"88\": 1, \"24\": 1, \"18\": 1}, \"6\": {\"6\": 32}, \"58\": {\"58\": 19, \"42\": 1}, \"22\": {\"22\": 20}, \"24\": {\"24\": 98, \"118\": 1, \"94\": 3, \"27\": 2, \"70\": 1, \"69\": 2, \"110\": 1, \"16\": 1, \"88\": 1, \"36\": 1, \"101\": 1}, \"57\": {\"57\": 20}, \"112\": {\"112\": 15, \"118\": 1}, \"116\": {\"116\": 26, \"72\": 1, \"78\": 1}, \"18\": {\"18\": 119, \"42\": 1, \"117\": 2, \"4\": 1, \"24\": 1, \"62\": 2, \"70\": 1, \"39\": 1}, \"49\": {\"49\": 19, \"51\": 1, \"11\": 2, \"39\": 1, \"78\": 1}, \"45\": {\"45\": 16}, \"107\": {\"107\": 52, \"8\": 1, \"40\": 1, \"78\": 1, \"4\": 2, \"33\": 1, \"118\": 1, \"24\": 1, \"43\": 1, \"87\": 2, \"36\": 1}, \"35\": {\"35\": 12}, \"78\": {\"78\": 44, \"11\": 1, \"10\": 1, \"94\": 1, \"36\": 1}, \"126\": {\"126\": 120}, \"85\": {\"85\": 32}, \"72\": {\"72\": 27, \"62\": 1}, \"26\": {\"26\": 122, \"70\": 1, \"36\": 1}, \"84\": {\"84\": 89, \"118\": 1, \"87\": 1, \"2\": 1}, \"128\": {\"128\": 22, \"97\": 1, \"91\": 1}, \"31\": {\"31\": 20}, \"71\": {\"71\": 98, \"40\": 1, \"11\": 1}}, \"C_1\": {\"9\": {\"9\": 142}, \"25\": {\"25\": 128}, \"41\": {\"41\": 24}, \"29\": {\"29\": 140}, \"46\": {\"46\": 128}, \"4\": {\"4\": 132}, \"31\": {\"31\": 28}, \"36\": {\"36\": 64}, \"20\": {\"20\": 128}, \"7\": {\"7\": 28}, \"6\": {\"6\": 94, \"46\": 1, \"2\": 1}, \"16\": {\"16\": 138}, \"17\": {\"17\": 64}, \"50\": {\"50\": 148}, \"57\": {\"57\": 144}, \"23\": {\"23\": 136}, \"3\": {\"3\": 126}, \"53\": {\"53\": 140}, \"49\": {\"49\": 32}, \"56\": {\"56\": 152}, \"51\": {\"51\": 142}, \"26\": {\"26\": 24}, \"43\": {\"43\": 144}, \"22\": {\"22\": 136}, \"45\": {\"45\": 146}, \"13\": {\"13\": 152}, \"12\": {\"12\": 116}, \"54\": {\"54\": 104}, \"24\": {\"24\": 108}, \"44\": {\"44\": 136}, \"28\": {\"28\": 28}, \"33\": {\"33\": 32}, \"38\": {\"38\": 24}, \"0\": {\"0\": 144}, \"47\": {\"47\": 154}, \"42\": {\"42\": 40}, \"34\": {\"34\": 24}, \"48\": {\"48\": 142}, \"35\": {\"35\": 36}, \"2\": {\"2\": 36}, \"30\": {\"30\": 120}, \"18\": {\"18\": 72}, \"37\": {\"37\": 32}, \"1\": {\"1\": 100}, \"11\": {\"11\": 138}, \"55\": {\"55\": 130}, \"15\": {\"15\": 150}, \"10\": {\"10\": 96}, \"27\": {\"27\": 160}, \"19\": {\"19\": 146}, \"14\": {\"14\": 22, \"6\": 1, \"2\": 1}, \"8\": {\"8\": 140}, \"5\": {\"5\": 136}, \"39\": {\"39\": 28}, \"52\": {\"52\": 122}, \"21\": {\"21\": 124}, \"40\": {\"40\": 152}, \"32\": {\"32\": 32}}, \"W_1\": {\"22\": {\"22\": 16}, \"58\": {\"58\": 12}, \"109\": {\"109\": 123, \"126\": 1}, \"77\": {\"77\": 16}, \"74\": {\"74\": 16}, \"10\": {\"10\": 120}, \"70\": {\"70\": 126, \"108\": 1, \"94\": 1}, \"84\": {\"84\": 108}, \"52\": {\"52\": 20}, \"20\": {\"20\": 15, \"3\": 1}, \"14\": {\"14\": 95, \"26\": 1}, \"37\": {\"37\": 16}, \"42\": {\"42\": 28}, \"99\": {\"99\": 24}, \"35\": {\"35\": 12}, \"62\": {\"62\": 119, \"26\": 1}, \"61\": {\"61\": 12}, \"7\": {\"7\": 141, \"107\": 1}, \"69\": {\"69\": 101, \"26\": 2, \"36\": 1}, \"55\": {\"55\": 12}, \"41\": {\"41\": 16}, \"120\": {\"120\": 20}, \"123\": {\"123\": 16}, \"97\": {\"97\": 16, \"96\": 1, \"91\": 1, \"59\": 1, \"49\": 1}, \"102\": {\"102\": 117, \"16\": 1, \"127\": 1, \"8\": 1}, \"60\": {\"120\": 1, \"60\": 12, \"21\": 1, \"19\": 1, \"103\": 1}, \"127\": {\"127\": 104, \"104\": 1, \"36\": 1, \"85\": 1, \"129\": 1}, \"32\": {\"32\": 32}, \"3\": {\"3\": 84, \"85\": 1, \"18\": 1, \"10\": 1, \"40\": 1}, \"8\": {\"8\": 122}, \"129\": {\"129\": 27, \"2\": 1}, \"119\": {\"119\": 16}, \"21\": {\"21\": 36, \"39\": 1, \"78\": 1, \"83\": 1, \"18\": 1}, \"53\": {\"53\": 20}, \"28\": {\"28\": 20}, \"117\": {\"117\": 144}, \"112\": {\"112\": 16}, \"126\": {\"126\": 131, \"109\": 1, \"114\": 1, \"33\": 1}, \"30\": {\"30\": 52}, \"105\": {\"105\": 81, \"102\": 1, \"18\": 1, \"129\": 1}, \"29\": {\"29\": 28}, \"57\": {\"57\": 12}, \"93\": {\"93\": 140}, \"17\": {\"17\": 15, \"96\": 1}, \"44\": {\"44\": 76}, \"63\": {\"63\": 16}, \"87\": {\"87\": 104, \"43\": 1, \"88\": 1, \"105\": 1, \"71\": 1}, \"0\": {\"0\": 83, \"14\": 1}, \"96\": {\"96\": 19, \"110\": 1}, \"98\": {\"98\": 108}, \"75\": {\"75\": 16}, \"78\": {\"78\": 12, \"43\": 3, \"110\": 1}, \"116\": {\"116\": 30, \"21\": 1, \"94\": 1}, \"114\": {\"114\": 126, \"3\": 1, \"94\": 1}, \"103\": {\"103\": 15, \"8\": 1}, \"50\": {\"50\": 16}, \"124\": {\"124\": 128}, \"5\": {\"5\": 86, \"18\": 1, \"127\": 1}, \"73\": {\"73\": 19, \"3\": 1}, \"81\": {\"81\": 28}, \"49\": {\"49\": 19, \"93\": 1}, \"16\": {\"16\": 105, \"18\": 1, \"107\": 1, \"81\": 1}, \"101\": {\"101\": 124}, \"125\": {\"125\": 117, \"103\": 1}, \"65\": {\"65\": 7, \"45\": 1, \"82\": 1, \"83\": 2, \"87\": 1}, \"66\": {\"66\": 16}, \"79\": {\"79\": 12}, \"39\": {\"39\": 102, \"33\": 1, \"108\": 1}, \"104\": {\"104\": 16}, \"91\": {\"91\": 28}, \"25\": {\"25\": 16}, \"64\": {\"64\": 16}, \"34\": {\"34\": 31, \"70\": 1}, \"82\": {\"82\": 36}, \"18\": {\"18\": 124}, \"43\": {\"43\": 127, \"78\": 1}, \"47\": {\"47\": 12}, \"108\": {\"108\": 122, \"50\": 1, \"69\": 1}, \"111\": {\"111\": 107, \"70\": 1}, \"23\": {\"23\": 22, \"34\": 2}, \"90\": {\"90\": 158, \"35\": 1, \"71\": 1}, \"4\": {\"4\": 100}, \"92\": {\"92\": 28}, \"2\": {\"2\": 31, \"87\": 1}, \"45\": {\"45\": 9, \"104\": 1, \"13\": 1, \"21\": 1}, \"68\": {\"68\": 16}, \"26\": {\"26\": 128}, \"38\": {\"38\": 16}, \"40\": {\"40\": 142}, \"80\": {\"80\": 14, \"58\": 1, \"86\": 1}, \"107\": {\"107\": 118, \"65\": 1, \"10\": 2, \"71\": 1}, \"94\": {\"94\": 92}, \"115\": {\"115\": 12}, \"46\": {\"46\": 11, \"10\": 1}, \"72\": {\"72\": 32}, \"19\": {\"19\": 28}, \"100\": {\"100\": 14, \"65\": 1, \"17\": 1}, \"76\": {\"76\": 15, \"88\": 1}, \"106\": {\"106\": 132}, \"88\": {\"88\": 129, \"27\": 1}, \"15\": {\"15\": 103, \"33\": 1}, \"54\": {\"54\": 14, \"2\": 1, \"13\": 1}, \"13\": {\"13\": 16}, \"51\": {\"51\": 16}, \"24\": {\"24\": 90, \"88\": 1, \"33\": 1}, \"48\": {\"48\": 12}, \"85\": {\"85\": 32}, \"33\": {\"33\": 140}, \"71\": {\"71\": 104, \"18\": 1, \"117\": 1, \"124\": 1, \"3\": 1}, \"6\": {\"6\": 31, \"46\": 1}, \"83\": {\"83\": 26, \"70\": 1, \"118\": 1}, \"121\": {\"121\": 32}, \"31\": {\"31\": 15, \"122\": 1}, \"67\": {\"65\": 1, \"67\": 14, \"80\": 1}, \"1\": {\"1\": 135, \"18\": 1}, \"27\": {\"27\": 91, \"107\": 1}, \"118\": {\"118\": 82, \"39\": 1, \"103\": 1}, \"56\": {\"56\": 12}, \"36\": {\"36\": 126, \"69\": 1, \"88\": 1}, \"11\": {\"11\": 125, \"88\": 1}, \"110\": {\"110\": 120, \"69\": 1, \"18\": 1}, \"89\": {\"89\": 36}, \"113\": {\"113\": 112, \"88\": 1, \"10\": 1, \"125\": 1, \"69\": 1, \"109\": 1, \"26\": 1}, \"59\": {\"59\": 12}, \"9\": {\"9\": 31, \"26\": 1}, \"86\": {\"86\": 34, \"89\": 1, \"20\": 1}, \"12\": {\"12\": 100, \"108\": 2, \"122\": 1, \"39\": 1}, \"122\": {\"122\": 85, \"114\": 1, \"14\": 1, \"62\": 1}, \"128\": {\"128\": 24}, \"95\": {\"95\": 35, \"113\": 1}}, \"C_3\": {\"56\": {\"56\": 120}, \"4\": {\"4\": 145, \"27\": 1}, \"34\": {\"34\": 32}, \"52\": {\"52\": 136}, \"32\": {\"32\": 28}, \"46\": {\"46\": 136}, \"12\": {\"12\": 92}, \"20\": {\"20\": 132}, \"54\": {\"54\": 100}, \"22\": {\"22\": 140}, \"26\": {\"26\": 24}, \"31\": {\"31\": 28}, \"10\": {\"10\": 64}, \"27\": {\"27\": 144}, \"40\": {\"40\": 136}, \"28\": {\"28\": 28}, \"5\": {\"5\": 116}, \"30\": {\"30\": 120}, \"7\": {\"7\": 36}, \"18\": {\"18\": 84}, \"39\": {\"39\": 16}, \"50\": {\"50\": 136}, \"49\": {\"49\": 20}, \"43\": {\"43\": 122}, \"29\": {\"29\": 114}, \"35\": {\"35\": 28}, \"13\": {\"13\": 124}, \"36\": {\"36\": 100}, \"11\": {\"11\": 146}, \"57\": {\"57\": 124}, \"9\": {\"9\": 130}, \"25\": {\"25\": 130}, \"16\": {\"16\": 126}, \"53\": {\"53\": 118}, \"33\": {\"33\": 28}, \"51\": {\"51\": 128}, \"44\": {\"44\": 88}, \"48\": {\"48\": 114}, \"6\": {\"6\": 88}, \"23\": {\"23\": 144}, \"1\": {\"1\": 100}, \"17\": {\"17\": 108}, \"21\": {\"21\": 122}, \"14\": {\"14\": 39, \"57\": 1}, \"55\": {\"55\": 144}, \"41\": {\"41\": 28}, \"3\": {\"3\": 138}, \"38\": {\"38\": 28}, \"2\": {\"2\": 32}, \"8\": {\"8\": 142}, \"37\": {\"37\": 28}, \"45\": {\"45\": 60}, \"42\": {\"42\": 28}, \"24\": {\"24\": 104}, \"15\": {\"15\": 136}, \"0\": {\"0\": 124}, \"47\": {\"47\": 92}, \"19\": {\"19\": 120}}, \"O_14\": {\"15\": {\"7\": 54, \"15\": 104, \"2\": 15, \"5\": 10, \"4\": 20, \"6\": 16, \"1\": 9, \"3\": 1, \"13\": 8, \"14\": 3}, \"5\": {\"1\": 28, \"2\": 25, \"6\": 12, \"5\": 27, \"13\": 16, \"14\": 14, \"15\": 11, \"3\": 19, \"0\": 8, \"4\": 43, \"10\": 8, \"8\": 6, \"7\": 21, \"9\": 1, \"11\": 1}, \"7\": {\"5\": 28, \"15\": 39, \"7\": 69, \"4\": 26, \"0\": 2, \"1\": 29, \"2\": 22, \"6\": 8, \"13\": 7, \"3\": 2, \"14\": 8}, \"4\": {\"8\": 4, \"2\": 17, \"1\": 30, \"4\": 33, \"5\": 34, \"3\": 28, \"14\": 27, \"13\": 14, \"10\": 12, \"6\": 13, \"7\": 18, \"15\": 6, \"0\": 4}, \"10\": {\"11\": 19, \"3\": 44, \"0\": 42, \"10\": 50, \"4\": 16, \"1\": 4, \"2\": 12, \"14\": 19, \"13\": 8, \"6\": 8, \"5\": 13, \"9\": 4, \"8\": 1}, \"11\": {\"11\": 73, \"9\": 40, \"14\": 15, \"0\": 57, \"8\": 5, \"10\": 27, \"3\": 12, \"6\": 2, \"12\": 5, \"13\": 2, \"1\": 1, \"4\": 1}, \"12\": {\"12\": 117, \"9\": 78, \"11\": 31, \"0\": 7, \"8\": 6, \"10\": 1}, \"0\": {\"0\": 36, \"8\": 12, \"14\": 21, \"10\": 37, \"11\": 42, \"3\": 27, \"12\": 3, \"9\": 12, \"4\": 12, \"2\": 14, \"6\": 7, \"1\": 7, \"5\": 8, \"13\": 2}, \"14\": {\"5\": 21, \"14\": 45, \"13\": 27, \"4\": 23, \"2\": 24, \"3\": 22, \"0\": 11, \"1\": 12, \"10\": 16, \"6\": 28, \"7\": 2, \"11\": 5, \"9\": 2, \"8\": 1, \"15\": 1}, \"8\": {\"8\": 106, \"4\": 11, \"3\": 24, \"10\": 5, \"11\": 14, \"14\": 3, \"1\": 25, \"9\": 18, \"5\": 12, \"0\": 16, \"7\": 2, \"2\": 4}, \"13\": {\"6\": 41, \"14\": 36, \"4\": 26, \"2\": 24, \"13\": 53, \"5\": 16, \"3\": 12, \"10\": 10, \"11\": 2, \"0\": 6, \"15\": 7, \"1\": 4, \"7\": 3}, \"6\": {\"6\": 59, \"14\": 33, \"5\": 13, \"13\": 47, \"2\": 36, \"0\": 5, \"3\": 16, \"4\": 12, \"1\": 3, \"7\": 4, \"10\": 6, \"15\": 6}, \"1\": {\"1\": 60, \"2\": 20, \"6\": 5, \"14\": 10, \"5\": 39, \"4\": 32, \"3\": 25, \"8\": 13, \"13\": 6, \"7\": 20, \"10\": 5, \"15\": 4, \"0\": 1}, \"3\": {\"2\": 26, \"14\": 31, \"10\": 21, \"5\": 29, \"3\": 36, \"0\": 15, \"6\": 11, \"1\": 18, \"4\": 29, \"13\": 12, \"8\": 6, \"11\": 4, \"7\": 1, \"9\": 1}, \"9\": {\"0\": 21, \"11\": 49, \"9\": 66, \"12\": 63, \"10\": 12, \"8\": 19, \"3\": 6, \"4\": 1, \"1\": 1, \"2\": 2}, \"2\": {\"1\": 27, \"13\": 27, \"6\": 33, \"5\": 31, \"2\": 30, \"4\": 21, \"15\": 4, \"3\": 13, \"14\": 29, \"10\": 8, \"0\": 14, \"7\": 3}}, \"O_20\": {\"4\": {\"13\": 7, \"8\": 23, \"15\": 12, \"6\": 17, \"5\": 14, \"10\": 20, \"12\": 10, \"9\": 17, \"1\": 7, \"14\": 21, \"7\": 23, \"3\": 17, \"4\": 35, \"0\": 7, \"2\": 9, \"11\": 1}, \"10\": {\"13\": 4, \"7\": 18, \"12\": 15, \"14\": 29, \"6\": 30, \"4\": 28, \"9\": 18, \"2\": 10, \"3\": 13, \"8\": 21, \"11\": 5, \"10\": 30, \"0\": 6, \"1\": 7, \"15\": 3, \"5\": 3}, \"15\": {\"5\": 15, \"7\": 9, \"13\": 18, \"12\": 23, \"15\": 34, \"10\": 3, \"0\": 22, \"1\": 17, \"2\": 19, \"8\": 13, \"3\": 15, \"4\": 24, \"9\": 21, \"11\": 2, \"14\": 2, \"6\": 3}, \"0\": {\"5\": 20, \"15\": 22, \"0\": 37, \"7\": 11, \"3\": 12, \"8\": 15, \"1\": 31, \"12\": 16, \"9\": 16, \"4\": 9, \"6\": 2, \"13\": 23, \"2\": 15, \"11\": 4, \"10\": 4, \"14\": 3}, \"6\": {\"9\": 11, \"6\": 29, \"11\": 16, \"15\": 5, \"10\": 35, \"0\": 3, \"3\": 12, \"7\": 27, \"2\": 12, \"14\": 24, \"4\": 14, \"12\": 7, \"5\": 5, \"8\": 29, \"1\": 7, \"13\": 4}, \"3\": {\"2\": 23, \"10\": 15, \"15\": 16, \"6\": 10, \"1\": 20, \"12\": 23, \"8\": 12, \"13\": 11, \"14\": 11, \"3\": 16, \"9\": 24, \"4\": 19, \"5\": 14, \"0\": 9, \"11\": 4, \"7\": 13}, \"7\": {\"2\": 21, \"4\": 15, \"15\": 14, \"1\": 9, \"14\": 7, \"3\": 18, \"6\": 17, \"8\": 24, \"9\": 32, \"5\": 13, \"0\": 7, \"7\": 15, \"13\": 13, \"10\": 13, \"11\": 8, \"12\": 14}, \"2\": {\"4\": 7, \"12\": 24, \"15\": 18, \"14\": 4, \"8\": 16, \"3\": 20, \"10\": 9, \"2\": 24, \"11\": 14, \"0\": 14, \"7\": 14, \"13\": 19, \"5\": 12, \"6\": 13, \"1\": 12, \"9\": 20}, \"8\": {\"5\": 20, \"1\": 10, \"12\": 22, \"10\": 19, \"7\": 18, \"8\": 22, \"14\": 17, \"4\": 19, \"6\": 20, \"9\": 19, \"2\": 10, \"13\": 7, \"3\": 17, \"15\": 9, \"0\": 10, \"11\": 1}, \"11\": {\"2\": 25, \"7\": 24, \"11\": 71, \"6\": 18, \"5\": 8, \"13\": 23, \"9\": 11, \"8\": 10, \"14\": 9, \"15\": 1, \"12\": 9, \"1\": 12, \"3\": 8, \"4\": 4, \"0\": 6, \"10\": 1}, \"14\": {\"4\": 20, \"7\": 20, \"10\": 25, \"6\": 32, \"12\": 7, \"8\": 28, \"9\": 13, \"2\": 19, \"13\": 3, \"14\": 31, \"1\": 4, \"11\": 5, \"15\": 6, \"3\": 15, \"0\": 7, \"5\": 5}, \"12\": {\"13\": 18, \"7\": 13, \"12\": 19, \"5\": 21, \"3\": 25, \"8\": 17, \"15\": 20, \"2\": 14, \"9\": 15, \"10\": 9, \"6\": 7, \"14\": 11, \"1\": 22, \"11\": 4, \"0\": 10, \"4\": 15}, \"13\": {\"12\": 19, \"9\": 22, \"2\": 20, \"8\": 14, \"10\": 4, \"0\": 17, \"1\": 18, \"13\": 30, \"5\": 19, \"3\": 19, \"11\": 5, \"7\": 17, \"6\": 11, \"15\": 15, \"4\": 3, \"14\": 7}, \"9\": {\"12\": 19, \"7\": 19, \"4\": 16, \"1\": 13, \"3\": 20, \"6\": 18, \"9\": 23, \"8\": 25, \"5\": 10, \"10\": 11, \"13\": 20, \"0\": 10, \"15\": 7, \"14\": 5, \"2\": 17, \"11\": 7}, \"5\": {\"5\": 22, \"4\": 21, \"3\": 14, \"7\": 14, \"8\": 21, \"10\": 7, \"15\": 23, \"13\": 16, \"2\": 15, \"0\": 28, \"12\": 16, \"9\": 9, \"1\": 24, \"14\": 9, \"11\": 1}, \"1\": {\"5\": 24, \"13\": 25, \"12\": 17, \"7\": 27, \"2\": 17, \"14\": 2, \"8\": 11, \"0\": 20, \"1\": 18, \"15\": 18, \"9\": 21, \"4\": 9, \"10\": 7, \"3\": 11, \"11\": 6, \"6\": 7}}, \"O_50\": {\"5\": {\"5\": 51, \"7\": 22, \"0\": 19, \"1\": 13, \"13\": 27, \"2\": 5, \"10\": 23, \"4\": 23, \"6\": 24, \"11\": 6, \"15\": 10, \"8\": 11, \"14\": 1, \"3\": 5}, \"12\": {\"14\": 46, \"12\": 97, \"9\": 45, \"1\": 5, \"11\": 31, \"4\": 6, \"0\": 1, \"6\": 2, \"2\": 3, \"15\": 3, \"5\": 1}, \"14\": {\"9\": 14, \"12\": 44, \"0\": 9, \"4\": 8, \"11\": 32, \"14\": 71, \"1\": 23, \"2\": 24, \"15\": 9, \"10\": 1, \"6\": 4, \"5\": 1}, \"4\": {\"15\": 40, \"10\": 7, \"9\": 7, \"1\": 34, \"6\": 31, \"5\": 16, \"4\": 35, \"12\": 2, \"13\": 18, \"14\": 8, \"11\": 12, \"0\": 11, \"7\": 14, \"2\": 4, \"8\": 1}, \"13\": {\"2\": 5, \"5\": 34, \"0\": 19, \"1\": 17, \"7\": 32, \"13\": 46, \"6\": 24, \"10\": 29, \"4\": 11, \"8\": 7, \"15\": 12, \"14\": 2, \"3\": 2}, \"10\": {\"8\": 37, \"6\": 9, \"0\": 32, \"1\": 6, \"13\": 23, \"10\": 44, \"7\": 25, \"2\": 27, \"3\": 10, \"5\": 25, \"4\": 2}, \"9\": {\"12\": 43, \"9\": 82, \"11\": 58, \"14\": 30, \"4\": 6, \"15\": 14, \"6\": 1, \"1\": 5, \"2\": 1}, \"15\": {\"15\": 61, \"4\": 39, \"13\": 9, \"1\": 43, \"10\": 3, \"11\": 26, \"6\": 16, \"9\": 5, \"5\": 13, \"14\": 12, \"2\": 6, \"7\": 5, \"0\": 1, \"12\": 1}, \"6\": {\"13\": 41, \"7\": 20, \"1\": 27, \"4\": 19, \"6\": 42, \"15\": 18, \"14\": 7, \"5\": 20, \"10\": 17, \"11\": 8, \"2\": 9, \"0\": 10, \"8\": 2}, \"2\": {\"2\": 69, \"7\": 5, \"5\": 5, \"0\": 62, \"14\": 21, \"10\": 20, \"15\": 3, \"6\": 16, \"13\": 9, \"11\": 3, \"1\": 17, \"4\": 3, \"8\": 2, \"12\": 5}, \"0\": {\"7\": 10, \"10\": 38, \"8\": 20, \"2\": 51, \"5\": 14, \"0\": 62, \"13\": 16, \"1\": 11, \"15\": 2, \"12\": 1, \"14\": 3, \"6\": 9, \"4\": 3}, \"11\": {\"11\": 50, \"14\": 25, \"9\": 46, \"4\": 16, \"12\": 42, \"2\": 5, \"6\": 5, \"1\": 21, \"15\": 25, \"5\": 3, \"0\": 1, \"7\": 1}, \"3\": {\"13\": 5, \"3\": 121, \"8\": 71, \"7\": 13, \"0\": 3, \"10\": 20, \"5\": 5, \"6\": 2}, \"8\": {\"0\": 23, \"10\": 48, \"8\": 74, \"2\": 11, \"7\": 20, \"5\": 9, \"3\": 38, \"13\": 12, \"6\": 5}, \"7\": {\"7\": 48, \"0\": 12, \"5\": 23, \"13\": 49, \"15\": 7, \"10\": 32, \"8\": 15, \"1\": 9, \"2\": 7, \"6\": 26, \"3\": 2, \"4\": 10}, \"1\": {\"6\": 23, \"15\": 39, \"1\": 46, \"4\": 24, \"5\": 19, \"13\": 14, \"10\": 6, \"2\": 17, \"11\": 14, \"0\": 16, \"14\": 12, \"7\": 6, \"12\": 1, \"9\": 3}}, \"O_26\": {\"7\": {\"7\": 25, \"10\": 25, \"6\": 7, \"5\": 17, \"15\": 17, \"9\": 15, \"0\": 17, \"8\": 16, \"3\": 17, \"4\": 20, \"2\": 24, \"14\": 17, \"13\": 8, \"1\": 15}, \"6\": {\"7\": 16, \"10\": 15, \"9\": 26, \"3\": 3, \"5\": 22, \"0\": 17, \"6\": 25, \"8\": 26, \"14\": 13, \"13\": 20, \"4\": 7, \"1\": 10, \"15\": 25, \"2\": 7, \"11\": 1, \"12\": 7}, \"14\": {\"0\": 23, \"7\": 23, \"9\": 9, \"6\": 11, \"15\": 11, \"10\": 24, \"3\": 16, \"14\": 20, \"5\": 8, \"1\": 27, \"4\": 34, \"8\": 19, \"2\": 11, \"13\": 4}, \"15\": {\"2\": 13, \"15\": 26, \"3\": 19, \"5\": 16, \"7\": 14, \"9\": 23, \"13\": 22, \"1\": 10, \"6\": 26, \"12\": 2, \"10\": 10, \"8\": 19, \"4\": 13, \"14\": 10, \"0\": 16, \"11\": 1}, \"5\": {\"4\": 12, \"2\": 23, \"6\": 19, \"5\": 24, \"10\": 17, \"9\": 26, \"3\": 19, \"7\": 14, \"8\": 13, \"13\": 33, \"0\": 11, \"14\": 7, \"15\": 14, \"1\": 5, \"11\": 3}, \"10\": {\"15\": 17, \"4\": 21, \"14\": 29, \"7\": 17, \"10\": 28, \"9\": 10, \"6\": 18, \"0\": 23, \"3\": 10, \"2\": 13, \"8\": 22, \"1\": 15, \"13\": 5, \"12\": 3, \"5\": 8, \"11\": 1}, \"4\": {\"0\": 18, \"5\": 8, \"3\": 22, \"14\": 29, \"1\": 16, \"15\": 10, \"9\": 21, \"4\": 27, \"13\": 5, \"6\": 9, \"10\": 24, \"2\": 19, \"7\": 13, \"8\": 19}, \"11\": {\"8\": 8, \"12\": 47, \"11\": 92, \"10\": 12, \"6\": 25, \"13\": 18, \"15\": 6, \"9\": 11, \"0\": 4, \"2\": 4, \"5\": 7, \"14\": 4, \"4\": 2}, \"13\": {\"13\": 50, \"2\": 13, \"15\": 21, \"14\": 6, \"5\": 27, \"6\": 21, \"8\": 12, \"10\": 14, \"7\": 10, \"9\": 18, \"0\": 11, \"3\": 15, \"1\": 7, \"11\": 4, \"4\": 10, \"12\": 1}, \"2\": {\"14\": 15, \"9\": 18, \"15\": 22, \"5\": 28, \"1\": 15, \"13\": 15, \"0\": 4, \"7\": 17, \"10\": 11, \"3\": 32, \"8\": 20, \"2\": 25, \"4\": 14, \"11\": 1, \"6\": 3}, \"0\": {\"14\": 23, \"8\": 22, \"7\": 14, \"2\": 14, \"0\": 25, \"10\": 34, \"15\": 10, \"4\": 24, \"9\": 12, \"5\": 8, \"13\": 10, \"1\": 18, \"6\": 11, \"3\": 13, \"12\": 2}, \"12\": {\"12\": 99, \"11\": 34, \"6\": 28, \"10\": 11, \"3\": 1, \"13\": 7, \"8\": 11, \"1\": 1, \"4\": 6, \"9\": 19, \"0\": 8, \"5\": 3, \"15\": 6, \"14\": 5, \"7\": 1}, \"3\": {\"7\": 24, \"15\": 17, \"3\": 29, \"2\": 22, \"5\": 29, \"9\": 21, \"14\": 17, \"1\": 21, \"8\": 14, \"4\": 12, \"6\": 6, \"10\": 8, \"0\": 16, \"13\": 4}, \"9\": {\"4\": 16, \"8\": 20, \"7\": 17, \"14\": 10, \"0\": 19, \"13\": 18, \"2\": 12, \"10\": 12, \"9\": 30, \"5\": 21, \"1\": 9, \"15\": 21, \"3\": 11, \"6\": 21, \"11\": 1, \"12\": 2}, \"8\": {\"14\": 21, \"7\": 17, \"10\": 19, \"2\": 24, \"6\": 12, \"5\": 14, \"13\": 15, \"9\": 12, \"15\": 14, \"0\": 21, \"1\": 20, \"8\": 25, \"4\": 22, \"3\": 4}, \"1\": {\"2\": 17, \"4\": 26, \"6\": 13, \"3\": 19, \"15\": 9, \"10\": 23, \"1\": 32, \"7\": 23, \"8\": 16, \"14\": 25, \"9\": 8, \"0\": 20, \"5\": 5, \"13\": 4}}, \"O_32\": {\"7\": {\"8\": 15, \"14\": 40, \"7\": 51, \"11\": 19, \"4\": 31, \"5\": 21, \"13\": 21, \"9\": 1, \"0\": 17, \"2\": 20, \"3\": 4}, \"2\": {\"2\": 59, \"9\": 3, \"0\": 23, \"4\": 57, \"13\": 14, \"7\": 33, \"8\": 12, \"5\": 14, \"11\": 12, \"14\": 13}, \"5\": {\"5\": 40, \"13\": 24, \"14\": 18, \"0\": 33, \"11\": 13, \"7\": 32, \"3\": 21, \"2\": 17, \"8\": 18, \"4\": 24}, \"6\": {\"6\": 146, \"12\": 51, \"9\": 7, \"10\": 25, \"1\": 11}, \"13\": {\"8\": 45, \"0\": 31, \"4\": 19, \"5\": 25, \"7\": 15, \"13\": 29, \"11\": 20, \"14\": 17, \"3\": 23, \"15\": 5, \"2\": 11}, \"4\": {\"2\": 38, \"4\": 51, \"0\": 29, \"7\": 38, \"3\": 2, \"5\": 27, \"8\": 8, \"11\": 11, \"13\": 24, \"14\": 11, \"9\": 1}, \"3\": {\"3\": 75, \"5\": 27, \"13\": 32, \"4\": 6, \"14\": 11, \"8\": 41, \"11\": 17, \"0\": 4, \"15\": 19, \"7\": 8}, \"0\": {\"0\": 41, \"4\": 31, \"11\": 20, \"14\": 18, \"7\": 32, \"5\": 21, \"13\": 26, \"2\": 19, \"8\": 20, \"3\": 12}, \"9\": {\"12\": 60, \"9\": 153, \"6\": 7, \"5\": 1, \"2\": 9, \"4\": 7, \"0\": 2, \"13\": 1}, \"12\": {\"12\": 129, \"10\": 11, \"9\": 45, \"6\": 51, \"1\": 3, \"4\": 1}, \"8\": {\"7\": 16, \"11\": 13, \"5\": 37, \"3\": 30, \"13\": 39, \"8\": 41, \"0\": 27, \"14\": 17, \"15\": 5, \"4\": 13, \"2\": 2}, \"14\": {\"7\": 30, \"2\": 6, \"11\": 53, \"0\": 13, \"5\": 29, \"8\": 15, \"14\": 53, \"4\": 8, \"3\": 14, \"13\": 18, \"15\": 1}, \"15\": {\"3\": 39, \"5\": 3, \"15\": 172, \"13\": 8, \"8\": 15, \"11\": 1, \"0\": 2}, \"11\": {\"11\": 69, \"3\": 20, \"14\": 52, \"2\": 6, \"0\": 14, \"5\": 21, \"7\": 24, \"13\": 14, \"8\": 17, \"4\": 3}, \"10\": {\"1\": 76, \"10\": 127, \"6\": 21, \"12\": 16}, \"1\": {\"10\": 84, \"1\": 143, \"6\": 13}}, \"O_44\": {\"11\": {\"7\": 17, \"13\": 45, \"11\": 90, \"6\": 44, \"9\": 16, \"12\": 1, \"2\": 17, \"10\": 8, \"3\": 1, \"1\": 1}, \"7\": {\"7\": 49, \"9\": 24, \"13\": 19, \"3\": 18, \"1\": 17, \"11\": 9, \"10\": 22, \"6\": 35, \"2\": 32, \"12\": 14, \"14\": 1}, \"6\": {\"6\": 56, \"9\": 33, \"7\": 38, \"13\": 61, \"11\": 28, \"2\": 17, \"12\": 1, \"10\": 1, \"4\": 3, \"14\": 1, \"1\": 1}, \"12\": {\"1\": 51, \"3\": 31, \"12\": 80, \"10\": 43, \"2\": 22, \"7\": 9, \"9\": 2, \"13\": 1, \"11\": 1}, \"4\": {\"4\": 76, \"14\": 52, \"15\": 38, \"9\": 11, \"0\": 18, \"5\": 24, \"8\": 5, \"13\": 7, \"11\": 1, \"7\": 6, \"6\": 2}, \"13\": {\"2\": 12, \"7\": 31, \"6\": 52, \"9\": 47, \"11\": 18, \"13\": 53, \"3\": 4, \"12\": 3, \"10\": 5, \"4\": 9, \"1\": 1, \"14\": 5}, \"8\": {\"8\": 72, \"0\": 60, \"14\": 22, \"5\": 39, \"15\": 35, \"4\": 11, \"9\": 1}, \"5\": {\"4\": 27, \"0\": 50, \"5\": 74, \"14\": 21, \"8\": 35, \"15\": 32, \"13\": 1}, \"14\": {\"14\": 59, \"4\": 59, \"5\": 42, \"0\": 22, \"15\": 33, \"11\": 1, \"8\": 14, \"13\": 3, \"9\": 3, \"3\": 2, \"7\": 2}, \"3\": {\"7\": 21, \"2\": 28, \"3\": 81, \"1\": 45, \"9\": 11, \"12\": 38, \"10\": 15, \"6\": 1}, \"10\": {\"12\": 44, \"7\": 16, \"10\": 61, \"2\": 45, \"1\": 38, \"9\": 9, \"3\": 12, \"11\": 3, \"6\": 11, \"13\": 1}, \"1\": {\"1\": 64, \"10\": 43, \"3\": 35, \"2\": 29, \"12\": 45, \"9\": 4, \"7\": 15, \"6\": 3, \"13\": 1, \"11\": 1}, \"2\": {\"12\": 29, \"2\": 64, \"10\": 27, \"1\": 23, \"6\": 20, \"13\": 11, \"7\": 22, \"3\": 20, \"11\": 5, \"9\": 19}, \"15\": {\"14\": 46, \"15\": 59, \"4\": 29, \"0\": 45, \"5\": 32, \"8\": 28, \"3\": 1}, \"9\": {\"12\": 6, \"7\": 27, \"10\": 7, \"9\": 57, \"6\": 31, \"3\": 16, \"13\": 55, \"2\": 20, \"1\": 3, \"11\": 11, \"5\": 1, \"4\": 3, \"14\": 3}, \"0\": {\"14\": 27, \"0\": 61, \"15\": 39, \"8\": 43, \"4\": 17, \"5\": 53}}, \"O_8\": {\"10\": {\"0\": 17, \"11\": 20, \"8\": 24, \"13\": 27, \"10\": 26, \"1\": 21, \"5\": 24, \"15\": 5, \"6\": 16, \"7\": 15, \"4\": 15, \"14\": 20, \"3\": 1, \"12\": 4, \"2\": 4, \"9\": 1}, \"6\": {\"0\": 36, \"14\": 19, \"5\": 6, \"4\": 22, \"10\": 10, \"1\": 9, \"15\": 11, \"8\": 27, \"6\": 26, \"7\": 15, \"13\": 27, \"2\": 10, \"12\": 6, \"11\": 11, \"3\": 5}, \"13\": {\"0\": 26, \"7\": 27, \"14\": 20, \"5\": 15, \"6\": 24, \"11\": 11, \"13\": 24, \"1\": 9, \"4\": 23, \"10\": 21, \"2\": 5, \"9\": 5, \"15\": 6, \"12\": 10, \"8\": 12, \"3\": 2}, \"3\": {\"8\": 12, \"12\": 40, \"15\": 29, \"6\": 8, \"2\": 52, \"11\": 1, \"3\": 56, \"0\": 11, \"13\": 9, \"14\": 3, \"10\": 2, \"7\": 14, \"4\": 3}, \"9\": {\"7\": 3, \"9\": 123, \"5\": 40, \"1\": 8, \"6\": 2, \"4\": 6, \"0\": 9, \"10\": 16, \"14\": 11, \"13\": 13, \"11\": 9}, \"1\": {\"6\": 9, \"7\": 13, \"10\": 19, \"15\": 7, \"12\": 2, \"1\": 36, \"11\": 35, \"9\": 2, \"5\": 28, \"8\": 22, \"14\": 20, \"4\": 19, \"13\": 18, \"0\": 10}, \"5\": {\"10\": 33, \"7\": 9, \"5\": 35, \"1\": 32, \"4\": 18, \"11\": 31, \"6\": 10, \"15\": 2, \"14\": 25, \"13\": 19, \"9\": 10, \"0\": 7, \"12\": 2, \"8\": 6, \"2\": 1}, \"11\": {\"7\": 7, \"6\": 18, \"5\": 24, \"8\": 18, \"1\": 39, \"14\": 29, \"13\": 13, \"11\": 35, \"4\": 18, \"15\": 10, \"10\": 19, \"0\": 4, \"12\": 5, \"3\": 1}, \"4\": {\"14\": 20, \"8\": 12, \"0\": 22, \"10\": 23, \"11\": 15, \"1\": 21, \"13\": 24, \"6\": 28, \"3\": 3, \"4\": 21, \"7\": 22, \"2\": 6, \"15\": 6, \"12\": 7, \"5\": 10}, \"14\": {\"11\": 24, \"4\": 31, \"6\": 16, \"5\": 12, \"10\": 20, \"1\": 25, \"12\": 8, \"15\": 4, \"7\": 19, \"13\": 22, \"14\": 23, \"8\": 13, \"0\": 17, \"9\": 2, \"2\": 3, \"3\": 1}, \"12\": {\"12\": 41, \"8\": 30, \"15\": 32, \"0\": 16, \"3\": 27, \"6\": 14, \"10\": 7, \"2\": 32, \"11\": 5, \"13\": 7, \"7\": 14, \"4\": 6, \"1\": 2, \"14\": 6, \"5\": 1}, \"7\": {\"2\": 13, \"7\": 29, \"5\": 11, \"10\": 21, \"14\": 18, \"8\": 18, \"3\": 11, \"4\": 21, \"0\": 24, \"13\": 16, \"12\": 15, \"15\": 14, \"1\": 6, \"11\": 8, \"6\": 15}, \"0\": {\"0\": 37, \"14\": 15, \"10\": 17, \"12\": 10, \"6\": 32, \"4\": 21, \"8\": 11, \"7\": 26, \"3\": 7, \"15\": 7, \"13\": 27, \"11\": 10, \"2\": 13, \"5\": 6, \"1\": 1}, \"15\": {\"12\": 34, \"7\": 24, \"3\": 22, \"1\": 7, \"15\": 29, \"13\": 9, \"6\": 22, \"11\": 5, \"0\": 16, \"8\": 24, \"2\": 16, \"10\": 3, \"14\": 9, \"4\": 19, \"5\": 1}, \"2\": {\"0\": 24, \"15\": 21, \"3\": 41, \"12\": 18, \"8\": 16, \"7\": 17, \"10\": 3, \"2\": 60, \"6\": 16, \"13\": 13, \"4\": 7, \"11\": 1, \"14\": 2, \"1\": 1}, \"8\": {\"3\": 10, \"7\": 13, \"6\": 19, \"5\": 10, \"8\": 35, \"14\": 15, \"11\": 17, \"12\": 14, \"10\": 21, \"0\": 8, \"15\": 24, \"4\": 13, \"1\": 18, \"13\": 16, \"2\": 7}}, \"O_38\": {\"4\": {\"4\": 152, \"14\": 4, \"7\": 11, \"12\": 56, \"0\": 4, \"10\": 7, \"11\": 4, \"5\": 1, \"8\": 1}, \"7\": {\"8\": 28, \"5\": 29, \"3\": 12, \"7\": 63, \"0\": 42, \"9\": 11, \"10\": 21, \"6\": 13, \"13\": 6, \"15\": 5, \"4\": 5, \"1\": 2, \"12\": 3}, \"12\": {\"14\": 25, \"15\": 7, \"12\": 122, \"10\": 24, \"4\": 31, \"0\": 4, \"2\": 9, \"13\": 4, \"11\": 6, \"5\": 2, \"7\": 1, \"8\": 5}, \"10\": {\"0\": 16, \"15\": 24, \"5\": 18, \"2\": 17, \"4\": 7, \"8\": 22, \"13\": 35, \"7\": 16, \"12\": 15, \"10\": 46, \"11\": 5, \"14\": 10, \"6\": 3, \"9\": 2, \"1\": 4}, \"0\": {\"8\": 35, \"3\": 18, \"6\": 15, \"10\": 11, \"7\": 31, \"0\": 44, \"5\": 25, \"1\": 9, \"13\": 16, \"4\": 6, \"9\": 16, \"15\": 6, \"12\": 6, \"2\": 2}, \"1\": {\"8\": 16, \"6\": 21, \"1\": 88, \"5\": 17, \"9\": 10, \"13\": 36, \"2\": 6, \"15\": 34, \"10\": 4, \"0\": 6, \"7\": 1, \"14\": 1}, \"5\": {\"8\": 29, \"1\": 17, \"13\": 21, \"7\": 28, \"5\": 32, \"10\": 12, \"6\": 27, \"15\": 15, \"0\": 30, \"9\": 17, \"3\": 8, \"12\": 2, \"2\": 2}, \"15\": {\"10\": 23, \"5\": 17, \"13\": 35, \"15\": 50, \"1\": 34, \"12\": 4, \"8\": 23, \"2\": 17, \"14\": 6, \"6\": 7, \"0\": 11, \"11\": 3, \"7\": 6, \"9\": 2, \"3\": 1, \"4\": 1}, \"9\": {\"9\": 80, \"13\": 1, \"6\": 67, \"5\": 19, \"15\": 2, \"3\": 24, \"7\": 14, \"0\": 13, \"1\": 10, \"8\": 10}, \"11\": {\"11\": 121, \"14\": 58, \"13\": 5, \"2\": 18, \"12\": 9, \"10\": 14, \"4\": 11, \"0\": 2, \"1\": 1, \"15\": 1}, \"14\": {\"2\": 43, \"11\": 32, \"14\": 99, \"12\": 32, \"10\": 14, \"13\": 10, \"15\": 8, \"1\": 1, \"4\": 1}, \"6\": {\"8\": 18, \"9\": 42, \"6\": 89, \"5\": 33, \"1\": 21, \"13\": 5, \"3\": 9, \"15\": 9, \"10\": 2, \"0\": 6, \"7\": 6}, \"8\": {\"1\": 16, \"9\": 2, \"5\": 31, \"8\": 52, \"2\": 4, \"15\": 24, \"0\": 25, \"13\": 18, \"6\": 17, \"7\": 28, \"10\": 17, \"12\": 2, \"3\": 3, \"14\": 1}, \"3\": {\"7\": 11, \"3\": 120, \"0\": 44, \"9\": 37, \"8\": 6, \"6\": 11, \"5\": 9, \"10\": 2}, \"2\": {\"13\": 31, \"2\": 81, \"11\": 9, \"14\": 37, \"10\": 23, \"15\": 24, \"8\": 11, \"1\": 12, \"12\": 8, \"4\": 1, \"0\": 2, \"5\": 1}, \"13\": {\"0\": 13, \"15\": 38, \"1\": 41, \"13\": 45, \"5\": 20, \"12\": 3, \"2\": 11, \"8\": 30, \"14\": 7, \"10\": 18, \"6\": 4, \"7\": 5, \"11\": 2, \"9\": 3}}}, \"per_domain_accuracy\": {\"C_4\": {\"accuracy\": 0.998877245508982, \"source?\": true}, \"C_5\": {\"accuracy\": 0.9991270949720671, \"source?\": true}, \"W_3\": {\"accuracy\": 0.9792576419213974, \"source?\": true}, \"C_2\": {\"accuracy\": 0.9998214285714285, \"source?\": true}, \"W_4\": {\"accuracy\": 0.9633264462809917, \"source?\": true}, \"W_2\": {\"accuracy\": 0.966376582278481, \"source?\": true}, \"C_1\": {\"accuracy\": 0.9993206521739131, \"source?\": true}, \"W_1\": {\"accuracy\": 0.9821428571428571, \"source?\": true}, \"C_3\": {\"accuracy\": 0.9996323529411765, \"source?\": true}, \"O_14\": {\"accuracy\": 0.25104166666666666, \"source?\": false}, \"O_20\": {\"accuracy\": 0.11875, \"source?\": false}, \"O_50\": {\"accuracy\": 0.26015625, \"source?\": false}, \"O_26\": {\"accuracy\": 0.1515625, \"source?\": false}, \"O_32\": {\"accuracy\": 0.35911458333333335, \"source?\": false}, \"O_44\": {\"accuracy\": 0.275, \"source?\": false}, \"O_8\": {\"accuracy\": 0.165625, \"source?\": false}, \"O_38\": {\"accuracy\": 0.334375, \"source?\": false}}}, \"history\": {\"epoch_indices\": [1, 2, 3, 4, 5, 6, 7, 8], \"train_label_loss\": [0.11976749322965537, 0.06883303090810268, 0.05600025446047716, 0.04743212464136825, 0.040631299268941434, 0.0341855807296261, 0.028266263099001737, 0.024165613560861783], \"source_val_label_loss\": [0.10773690044879913, 0.07337179780006409, 0.0639835000038147, 0.060922667384147644, 0.06154516711831093, 0.0651923418045044, 0.06550654023885727, 0.06723128259181976], \"target_val_label_loss\": [2.3955376148223877, 2.552633762359619, 2.462475538253784, 2.374019145965576, 2.5897819995880127, 2.6851394176483154, 2.754851818084717, 3.134380340576172], \"source_val_acc_label\": [0.976558209774849, 0.9834225700164745, 0.9851386600768809, 0.9854990389895661, 0.9863227622185612, 0.9859795442064799, 0.9863227622185612, 0.986013866007688], \"target_val_acc_label\": [0.20888671875, 0.20022786458333333, 0.21608072916666668, 0.239453125, 0.20543619791666667, 0.20680338541666668, 0.21861979166666667, 0.19635416666666666]}, \"dataset_metrics\": {\"source\": {\"train\": {\"n_unique_x\": 364185, \"n_unique_y\": 130, \"n_batch/episode\": 13162}, \"val\": {\"n_unique_x\": 77265, \"n_unique_y\": 130, \"n_batch/episode\": 1821}, \"test\": {\"n_unique_x\": 78390, \"n_unique_y\": 130, \"n_batch/episode\": 1852}}, \"target\": {\"train\": {\"n_unique_x\": 179200, \"n_unique_y\": 16, \"n_batch/episode\": 6720}, \"val\": {\"n_unique_x\": 38400, \"n_unique_y\": 16, \"n_batch/episode\": 960}, \"test\": {\"n_unique_x\": 38400, \"n_unique_y\": 16, \"n_batch/episode\": 960}}}}'"
      ]
     },
     "execution_count": 29,
     "metadata": {},
     "output_type": "execute_result"
    }
   ],
   "source": [
    "json.dumps(experiment)"
   ]
  }
 ],
 "metadata": {
  "celltoolbar": "Tags",
  "kernelspec": {
   "display_name": "Python 3 (ipykernel)",
   "language": "python",
   "name": "python3"
  },
  "language_info": {
   "codemirror_mode": {
    "name": "ipython",
    "version": 3
   },
   "file_extension": ".py",
   "mimetype": "text/x-python",
   "name": "python",
   "nbconvert_exporter": "python",
   "pygments_lexer": "ipython3",
   "version": "3.8.10"
  },
  "papermill": {
   "default_parameters": {},
   "duration": 5237.440879,
   "end_time": "2022-03-20T10:24:10.662772",
   "environment_variables": {},
   "exception": null,
   "input_path": "/mnt/wd500GB/CSC500/csc500-main/csc500-notebooks/templates/tl_ptn_template.ipynb",
   "output_path": "trial.ipynb",
   "parameters": {
    "parameters": {
     "BEST_MODEL_PATH": "./best_model.pth",
     "NUM_LOGS_PER_EPOCH": 10,
     "criteria_for_best": "target_accuracy",
     "dataset_seed": 420,
     "datasets": [
      {
       "domain_prefix": "C_",
       "domains": [
        1,
        2,
        3,
        4,
        5
       ],
       "episode_transforms": [],
       "labels": [
        "1-10.",
        "1-11.",
        "1-15.",
        "1-16.",
        "1-17.",
        "1-18.",
        "1-19.",
        "10-4.",
        "10-7.",
        "11-1.",
        "11-14.",
        "11-17.",
        "11-20.",
        "11-7.",
        "13-20.",
        "13-8.",
        "14-10.",
        "14-11.",
        "14-14.",
        "14-7.",
        "15-1.",
        "15-20.",
        "16-1.",
        "16-16.",
        "17-10.",
        "17-11.",
        "17-2.",
        "19-1.",
        "19-16.",
        "19-19.",
        "19-20.",
        "19-3.",
        "2-10.",
        "2-11.",
        "2-17.",
        "2-18.",
        "2-20.",
        "2-3.",
        "2-4.",
        "2-5.",
        "2-6.",
        "2-7.",
        "2-8.",
        "3-13.",
        "3-18.",
        "3-3.",
        "4-1.",
        "4-10.",
        "4-11.",
        "4-19.",
        "5-5.",
        "6-15.",
        "7-10.",
        "7-14.",
        "8-18.",
        "8-20.",
        "8-3.",
        "8-8."
       ],
       "num_examples_per_domain_per_label": -1,
       "pickle_path": "/mnt/wd500GB/CSC500/csc500-main/datasets/cores.stratified_ds.2022A.pkl",
       "source_or_target_dataset": "source",
       "x_transforms": [
        "unit_power",
        "take_200"
       ]
      },
      {
       "domain_prefix": "W_",
       "domains": [
        1,
        2,
        3,
        4
       ],
       "episode_transforms": [],
       "labels": [
        "1-10",
        "1-12",
        "1-14",
        "1-16",
        "1-18",
        "1-19",
        "1-8",
        "10-11",
        "10-17",
        "10-4",
        "10-7",
        "11-1",
        "11-10",
        "11-19",
        "11-20",
        "11-4",
        "11-7",
        "12-19",
        "12-20",
        "12-7",
        "13-14",
        "13-18",
        "13-19",
        "13-20",
        "13-3",
        "13-7",
        "14-10",
        "14-11",
        "14-12",
        "14-13",
        "14-14",
        "14-19",
        "14-20",
        "14-7",
        "14-8",
        "14-9",
        "15-1",
        "15-19",
        "15-6",
        "16-1",
        "16-16",
        "16-19",
        "16-20",
        "17-10",
        "17-11",
        "18-1",
        "18-10",
        "18-11",
        "18-12",
        "18-13",
        "18-14",
        "18-15",
        "18-16",
        "18-17",
        "18-19",
        "18-2",
        "18-20",
        "18-4",
        "18-5",
        "18-7",
        "18-8",
        "18-9",
        "19-1",
        "19-10",
        "19-11",
        "19-12",
        "19-13",
        "19-14",
        "19-15",
        "19-19",
        "19-2",
        "19-20",
        "19-3",
        "19-4",
        "19-6",
        "19-7",
        "19-8",
        "19-9",
        "2-1",
        "2-13",
        "2-15",
        "2-3",
        "2-4",
        "2-5",
        "2-6",
        "2-7",
        "2-8",
        "20-1",
        "20-12",
        "20-14",
        "20-15",
        "20-16",
        "20-18",
        "20-19",
        "20-20",
        "20-3",
        "20-4",
        "20-5",
        "20-7",
        "20-8",
        "3-1",
        "3-13",
        "3-18",
        "3-2",
        "3-8",
        "4-1",
        "4-10",
        "4-11",
        "5-1",
        "5-5",
        "6-1",
        "6-15",
        "6-6",
        "7-10",
        "7-11",
        "7-12",
        "7-13",
        "7-14",
        "7-7",
        "7-8",
        "7-9",
        "8-1",
        "8-13",
        "8-14",
        "8-18",
        "8-20",
        "8-3",
        "8-8",
        "9-1",
        "9-7"
       ],
       "num_examples_per_domain_per_label": -1,
       "pickle_path": "/mnt/wd500GB/CSC500/csc500-main/datasets/wisig.node3-19.stratified_ds.2022A.pkl",
       "source_or_target_dataset": "source",
       "x_transforms": [
        "unit_power",
        "take_200"
       ]
      },
      {
       "domain_prefix": "O_",
       "domains": [
        32,
        38,
        8,
        44,
        14,
        50,
        20,
        26
       ],
       "episode_transforms": [],
       "labels": [
        "3123D52",
        "3123D65",
        "3123D79",
        "3123D80",
        "3123D54",
        "3123D70",
        "3123D7B",
        "3123D89",
        "3123D58",
        "3123D76",
        "3123D7D",
        "3123EFE",
        "3123D64",
        "3123D78",
        "3123D7E",
        "3124E4A"
       ],
       "num_examples_per_domain_per_label": 2000,
       "pickle_path": "/mnt/wd500GB/CSC500/csc500-main/datasets/oracle.Run1_framed_2000Examples_stratified_ds.2022A.pkl",
       "source_or_target_dataset": "target",
       "x_transforms": [
        "unit_power",
        "take_200",
        "resample_20Msps_to_25Msps"
       ]
      }
     ],
     "device": "cuda",
     "experiment_name": "tl_3Av2:cores+wisig -> oracle.run1.framed",
     "lr": 0.0001,
     "n_epoch": 50,
     "n_query": 2,
     "n_shot": 3,
     "n_way": 16,
     "patience": 3,
     "seed": 420,
     "test_k_factor": 2,
     "torch_default_dtype": "torch.float32",
     "train_k_factor": 3,
     "val_k_factor": 2,
     "x_net": [
      {
       "class": "nnReshape",
       "kargs": {
        "shape": [
         -1,
         1,
         2,
         200
        ]
       }
      },
      {
       "class": "Conv2d",
       "kargs": {
        "bias": false,
        "in_channels": 1,
        "kernel_size": [
         1,
         7
        ],
        "out_channels": 256,
        "padding": [
         0,
         3
        ]
       }
      },
      {
       "class": "ReLU",
       "kargs": {
        "inplace": true
       }
      },
      {
       "class": "BatchNorm2d",
       "kargs": {
        "num_features": 256
       }
      },
      {
       "class": "Conv2d",
       "kargs": {
        "bias": true,
        "in_channels": 256,
        "kernel_size": [
         2,
         7
        ],
        "out_channels": 80,
        "padding": [
         0,
         3
        ]
       }
      },
      {
       "class": "ReLU",
       "kargs": {
        "inplace": true
       }
      },
      {
       "class": "BatchNorm2d",
       "kargs": {
        "num_features": 80
       }
      },
      {
       "class": "Flatten",
       "kargs": {}
      },
      {
       "class": "Linear",
       "kargs": {
        "in_features": 16000,
        "out_features": 256
       }
      },
      {
       "class": "ReLU",
       "kargs": {
        "inplace": true
       }
      },
      {
       "class": "BatchNorm1d",
       "kargs": {
        "num_features": 256
       }
      },
      {
       "class": "Linear",
       "kargs": {
        "in_features": 256,
        "out_features": 256
       }
      }
     ],
     "x_shape": [
      2,
      200
     ]
    }
   },
   "start_time": "2022-03-20T08:56:53.221893",
   "version": "2.3.4"
  }
 },
 "nbformat": 4,
 "nbformat_minor": 5
}