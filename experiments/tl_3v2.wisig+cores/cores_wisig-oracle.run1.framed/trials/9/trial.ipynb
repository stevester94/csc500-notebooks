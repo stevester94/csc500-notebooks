{
 "cells": [
  {
   "cell_type": "markdown",
   "id": "9fea5f46",
   "metadata": {
    "papermill": {
     "duration": 0.017239,
     "end_time": "2022-03-20T16:03:45.158618",
     "exception": false,
     "start_time": "2022-03-20T16:03:45.141379",
     "status": "completed"
    },
    "tags": []
   },
   "source": [
    "# Transfer Learning Template"
   ]
  },
  {
   "cell_type": "code",
   "execution_count": 1,
   "id": "0902182a",
   "metadata": {
    "execution": {
     "iopub.execute_input": "2022-03-20T16:03:45.198426Z",
     "iopub.status.busy": "2022-03-20T16:03:45.197900Z",
     "iopub.status.idle": "2022-03-20T16:03:46.196927Z",
     "shell.execute_reply": "2022-03-20T16:03:46.196628Z"
    },
    "papermill": {
     "duration": 1.02424,
     "end_time": "2022-03-20T16:03:46.196997",
     "exception": false,
     "start_time": "2022-03-20T16:03:45.172757",
     "status": "completed"
    },
    "tags": []
   },
   "outputs": [],
   "source": [
    "%load_ext autoreload\n",
    "%autoreload 2\n",
    "%matplotlib inline\n",
    "\n",
    "    \n",
    "import os, json, sys, time, random\n",
    "import numpy as np\n",
    "import torch\n",
    "from torch.optim import Adam\n",
    "from  easydict import EasyDict\n",
    "import matplotlib.pyplot as plt\n",
    "\n",
    "from steves_models.steves_ptn import Steves_Prototypical_Network\n",
    "\n",
    "from steves_utils.lazy_iterable_wrapper import Lazy_Iterable_Wrapper\n",
    "from steves_utils.iterable_aggregator import Iterable_Aggregator\n",
    "from steves_utils.ptn_train_eval_test_jig import  PTN_Train_Eval_Test_Jig\n",
    "from steves_utils.torch_sequential_builder import build_sequential\n",
    "from steves_utils.torch_utils import get_dataset_metrics, ptn_confusion_by_domain_over_dataloader\n",
    "from steves_utils.utils_v2 import (per_domain_accuracy_from_confusion, get_datasets_base_path)\n",
    "from steves_utils.PTN.utils import independent_accuracy_assesment\n",
    "\n",
    "from torch.utils.data import DataLoader\n",
    "\n",
    "from steves_utils.stratified_dataset.episodic_accessor import Episodic_Accessor_Factory\n",
    "\n",
    "from steves_utils.ptn_do_report import (\n",
    "    get_loss_curve,\n",
    "    get_results_table,\n",
    "    get_parameters_table,\n",
    "    get_domain_accuracies,\n",
    ")\n",
    "\n",
    "from steves_utils.transforms import get_chained_transform"
   ]
  },
  {
   "cell_type": "markdown",
   "id": "41c840b4",
   "metadata": {
    "papermill": {
     "duration": 0.01282,
     "end_time": "2022-03-20T16:03:46.224421",
     "exception": false,
     "start_time": "2022-03-20T16:03:46.211601",
     "status": "completed"
    },
    "tags": []
   },
   "source": [
    "# Allowed Parameters\n",
    "These are allowed parameters, not defaults\n",
    "Each of these values need to be present in the injected parameters (the notebook will raise an exception if they are not present)\n",
    "\n",
    "Papermill uses the cell tag \"parameters\" to inject the real parameters below this cell.\n",
    "Enable tags to see what I mean"
   ]
  },
  {
   "cell_type": "code",
   "execution_count": 2,
   "id": "fd44eb83",
   "metadata": {
    "execution": {
     "iopub.execute_input": "2022-03-20T16:03:46.253536Z",
     "iopub.status.busy": "2022-03-20T16:03:46.251593Z",
     "iopub.status.idle": "2022-03-20T16:03:46.267625Z",
     "shell.execute_reply": "2022-03-20T16:03:46.268030Z"
    },
    "papermill": {
     "duration": 0.030917,
     "end_time": "2022-03-20T16:03:46.268147",
     "exception": false,
     "start_time": "2022-03-20T16:03:46.237230",
     "status": "completed"
    },
    "tags": []
   },
   "outputs": [],
   "source": [
    "required_parameters = {\n",
    "    \"experiment_name\",\n",
    "    \"lr\",\n",
    "    \"device\",\n",
    "    \"seed\",\n",
    "    \"dataset_seed\",\n",
    "    \"n_shot\",\n",
    "    \"n_query\",\n",
    "    \"n_way\",\n",
    "    \"train_k_factor\",\n",
    "    \"val_k_factor\",\n",
    "    \"test_k_factor\",\n",
    "    \"n_epoch\",\n",
    "    \"patience\",\n",
    "    \"criteria_for_best\",\n",
    "    \"x_net\",\n",
    "    \"datasets\",\n",
    "    \"torch_default_dtype\",\n",
    "    \"NUM_LOGS_PER_EPOCH\",\n",
    "    \"BEST_MODEL_PATH\",\n",
    "    \"x_shape\",\n",
    "}"
   ]
  },
  {
   "cell_type": "code",
   "execution_count": 3,
   "id": "fa3f0049",
   "metadata": {
    "execution": {
     "iopub.execute_input": "2022-03-20T16:03:46.309486Z",
     "iopub.status.busy": "2022-03-20T16:03:46.308970Z",
     "iopub.status.idle": "2022-03-20T16:03:46.323505Z",
     "shell.execute_reply": "2022-03-20T16:03:46.323911Z"
    },
    "papermill": {
     "duration": 0.03842,
     "end_time": "2022-03-20T16:03:46.324023",
     "exception": false,
     "start_time": "2022-03-20T16:03:46.285603",
     "status": "completed"
    },
    "tags": [
     "parameters"
    ]
   },
   "outputs": [],
   "source": [
    "from steves_utils.CORES.utils import (\n",
    "    ALL_NODES,\n",
    "    ALL_NODES_MINIMUM_1000_EXAMPLES,\n",
    "    ALL_DAYS\n",
    ")\n",
    "\n",
    "from steves_utils.ORACLE.utils_v2 import (\n",
    "    ALL_DISTANCES_FEET_NARROWED,\n",
    "    ALL_RUNS,\n",
    "    ALL_SERIAL_NUMBERS,\n",
    ")\n",
    "\n",
    "standalone_parameters = {}\n",
    "standalone_parameters[\"experiment_name\"] = \"STANDALONE PTN\"\n",
    "standalone_parameters[\"lr\"] = 0.001\n",
    "standalone_parameters[\"device\"] = \"cuda\"\n",
    "\n",
    "standalone_parameters[\"seed\"] = 1337\n",
    "standalone_parameters[\"dataset_seed\"] = 1337\n",
    "\n",
    "standalone_parameters[\"n_way\"] = 8\n",
    "standalone_parameters[\"n_shot\"] = 3\n",
    "standalone_parameters[\"n_query\"]  = 2\n",
    "standalone_parameters[\"train_k_factor\"] = 1\n",
    "standalone_parameters[\"val_k_factor\"] = 2\n",
    "standalone_parameters[\"test_k_factor\"] = 2\n",
    "\n",
    "\n",
    "standalone_parameters[\"n_epoch\"] = 50\n",
    "\n",
    "standalone_parameters[\"patience\"] = 10\n",
    "standalone_parameters[\"criteria_for_best\"] = \"source_loss\"\n",
    "\n",
    "standalone_parameters[\"datasets\"] = [\n",
    "    {\n",
    "        \"labels\": ALL_SERIAL_NUMBERS,\n",
    "        \"domains\": ALL_DISTANCES_FEET_NARROWED,\n",
    "        \"num_examples_per_domain_per_label\": 100,\n",
    "        \"pickle_path\": os.path.join(get_datasets_base_path(), \"oracle.Run1_framed_2000Examples_stratified_ds.2022A.pkl\"),\n",
    "        \"source_or_target_dataset\": \"source\",\n",
    "        \"x_transforms\": [\"unit_mag\", \"minus_two\"],\n",
    "        \"episode_transforms\": [],\n",
    "        \"domain_prefix\": \"ORACLE_\"\n",
    "    },\n",
    "    {\n",
    "        \"labels\": ALL_NODES,\n",
    "        \"domains\": ALL_DAYS,\n",
    "        \"num_examples_per_domain_per_label\": 100,\n",
    "        \"pickle_path\": os.path.join(get_datasets_base_path(), \"cores.stratified_ds.2022A.pkl\"),\n",
    "        \"source_or_target_dataset\": \"target\",\n",
    "        \"x_transforms\": [\"unit_power\", \"times_zero\"],\n",
    "        \"episode_transforms\": [],\n",
    "        \"domain_prefix\": \"CORES_\"\n",
    "    }   \n",
    "]\n",
    "\n",
    "standalone_parameters[\"torch_default_dtype\"] = \"torch.float32\" \n",
    "\n",
    "\n",
    "\n",
    "standalone_parameters[\"x_net\"] =     [\n",
    "    {\"class\": \"nnReshape\", \"kargs\": {\"shape\":[-1, 1, 2, 256]}},\n",
    "    {\"class\": \"Conv2d\", \"kargs\": { \"in_channels\":1, \"out_channels\":256, \"kernel_size\":(1,7), \"bias\":False, \"padding\":(0,3), },},\n",
    "    {\"class\": \"ReLU\", \"kargs\": {\"inplace\": True}},\n",
    "    {\"class\": \"BatchNorm2d\", \"kargs\": {\"num_features\":256}},\n",
    "\n",
    "    {\"class\": \"Conv2d\", \"kargs\": { \"in_channels\":256, \"out_channels\":80, \"kernel_size\":(2,7), \"bias\":True, \"padding\":(0,3), },},\n",
    "    {\"class\": \"ReLU\", \"kargs\": {\"inplace\": True}},\n",
    "    {\"class\": \"BatchNorm2d\", \"kargs\": {\"num_features\":80}},\n",
    "    {\"class\": \"Flatten\", \"kargs\": {}},\n",
    "\n",
    "    {\"class\": \"Linear\", \"kargs\": {\"in_features\": 80*256, \"out_features\": 256}}, # 80 units per IQ pair\n",
    "    {\"class\": \"ReLU\", \"kargs\": {\"inplace\": True}},\n",
    "    {\"class\": \"BatchNorm1d\", \"kargs\": {\"num_features\":256}},\n",
    "\n",
    "    {\"class\": \"Linear\", \"kargs\": {\"in_features\": 256, \"out_features\": 256}},\n",
    "]\n",
    "\n",
    "# Parameters relevant to results\n",
    "# These parameters will basically never need to change\n",
    "standalone_parameters[\"NUM_LOGS_PER_EPOCH\"] = 10\n",
    "standalone_parameters[\"BEST_MODEL_PATH\"] = \"./best_model.pth\"\n",
    "\n",
    "\n",
    "\n",
    "\n"
   ]
  },
  {
   "cell_type": "code",
   "execution_count": 4,
   "id": "6a60ef35",
   "metadata": {
    "execution": {
     "iopub.execute_input": "2022-03-20T16:03:46.368447Z",
     "iopub.status.busy": "2022-03-20T16:03:46.356221Z",
     "iopub.status.idle": "2022-03-20T16:03:46.383693Z",
     "shell.execute_reply": "2022-03-20T16:03:46.383047Z"
    },
    "papermill": {
     "duration": 0.042839,
     "end_time": "2022-03-20T16:03:46.383838",
     "exception": false,
     "start_time": "2022-03-20T16:03:46.340999",
     "status": "completed"
    },
    "tags": [
     "injected-parameters"
    ]
   },
   "outputs": [],
   "source": [
    "# Parameters\n",
    "parameters = {\n",
    "    \"experiment_name\": \"tl_3Av2:cores+wisig -> oracle.run1.framed\",\n",
    "    \"device\": \"cuda\",\n",
    "    \"lr\": 0.0001,\n",
    "    \"x_shape\": [2, 200],\n",
    "    \"n_shot\": 3,\n",
    "    \"n_query\": 2,\n",
    "    \"train_k_factor\": 3,\n",
    "    \"val_k_factor\": 2,\n",
    "    \"test_k_factor\": 2,\n",
    "    \"torch_default_dtype\": \"torch.float32\",\n",
    "    \"n_epoch\": 50,\n",
    "    \"patience\": 3,\n",
    "    \"criteria_for_best\": \"target_accuracy\",\n",
    "    \"x_net\": [\n",
    "        {\"class\": \"nnReshape\", \"kargs\": {\"shape\": [-1, 1, 2, 200]}},\n",
    "        {\n",
    "            \"class\": \"Conv2d\",\n",
    "            \"kargs\": {\n",
    "                \"in_channels\": 1,\n",
    "                \"out_channels\": 256,\n",
    "                \"kernel_size\": [1, 7],\n",
    "                \"bias\": False,\n",
    "                \"padding\": [0, 3],\n",
    "            },\n",
    "        },\n",
    "        {\"class\": \"ReLU\", \"kargs\": {\"inplace\": True}},\n",
    "        {\"class\": \"BatchNorm2d\", \"kargs\": {\"num_features\": 256}},\n",
    "        {\n",
    "            \"class\": \"Conv2d\",\n",
    "            \"kargs\": {\n",
    "                \"in_channels\": 256,\n",
    "                \"out_channels\": 80,\n",
    "                \"kernel_size\": [2, 7],\n",
    "                \"bias\": True,\n",
    "                \"padding\": [0, 3],\n",
    "            },\n",
    "        },\n",
    "        {\"class\": \"ReLU\", \"kargs\": {\"inplace\": True}},\n",
    "        {\"class\": \"BatchNorm2d\", \"kargs\": {\"num_features\": 80}},\n",
    "        {\"class\": \"Flatten\", \"kargs\": {}},\n",
    "        {\"class\": \"Linear\", \"kargs\": {\"in_features\": 16000, \"out_features\": 256}},\n",
    "        {\"class\": \"ReLU\", \"kargs\": {\"inplace\": True}},\n",
    "        {\"class\": \"BatchNorm1d\", \"kargs\": {\"num_features\": 256}},\n",
    "        {\"class\": \"Linear\", \"kargs\": {\"in_features\": 256, \"out_features\": 256}},\n",
    "    ],\n",
    "    \"NUM_LOGS_PER_EPOCH\": 10,\n",
    "    \"BEST_MODEL_PATH\": \"./best_model.pth\",\n",
    "    \"n_way\": 16,\n",
    "    \"datasets\": [\n",
    "        {\n",
    "            \"labels\": [\n",
    "                \"1-10.\",\n",
    "                \"1-11.\",\n",
    "                \"1-15.\",\n",
    "                \"1-16.\",\n",
    "                \"1-17.\",\n",
    "                \"1-18.\",\n",
    "                \"1-19.\",\n",
    "                \"10-4.\",\n",
    "                \"10-7.\",\n",
    "                \"11-1.\",\n",
    "                \"11-14.\",\n",
    "                \"11-17.\",\n",
    "                \"11-20.\",\n",
    "                \"11-7.\",\n",
    "                \"13-20.\",\n",
    "                \"13-8.\",\n",
    "                \"14-10.\",\n",
    "                \"14-11.\",\n",
    "                \"14-14.\",\n",
    "                \"14-7.\",\n",
    "                \"15-1.\",\n",
    "                \"15-20.\",\n",
    "                \"16-1.\",\n",
    "                \"16-16.\",\n",
    "                \"17-10.\",\n",
    "                \"17-11.\",\n",
    "                \"17-2.\",\n",
    "                \"19-1.\",\n",
    "                \"19-16.\",\n",
    "                \"19-19.\",\n",
    "                \"19-20.\",\n",
    "                \"19-3.\",\n",
    "                \"2-10.\",\n",
    "                \"2-11.\",\n",
    "                \"2-17.\",\n",
    "                \"2-18.\",\n",
    "                \"2-20.\",\n",
    "                \"2-3.\",\n",
    "                \"2-4.\",\n",
    "                \"2-5.\",\n",
    "                \"2-6.\",\n",
    "                \"2-7.\",\n",
    "                \"2-8.\",\n",
    "                \"3-13.\",\n",
    "                \"3-18.\",\n",
    "                \"3-3.\",\n",
    "                \"4-1.\",\n",
    "                \"4-10.\",\n",
    "                \"4-11.\",\n",
    "                \"4-19.\",\n",
    "                \"5-5.\",\n",
    "                \"6-15.\",\n",
    "                \"7-10.\",\n",
    "                \"7-14.\",\n",
    "                \"8-18.\",\n",
    "                \"8-20.\",\n",
    "                \"8-3.\",\n",
    "                \"8-8.\",\n",
    "            ],\n",
    "            \"domains\": [1, 2, 3, 4, 5],\n",
    "            \"num_examples_per_domain_per_label\": -1,\n",
    "            \"pickle_path\": \"/mnt/wd500GB/CSC500/csc500-main/datasets/cores.stratified_ds.2022A.pkl\",\n",
    "            \"source_or_target_dataset\": \"source\",\n",
    "            \"x_transforms\": [\"unit_power\", \"take_200\"],\n",
    "            \"episode_transforms\": [],\n",
    "            \"domain_prefix\": \"C_\",\n",
    "        },\n",
    "        {\n",
    "            \"labels\": [\n",
    "                \"1-10\",\n",
    "                \"1-12\",\n",
    "                \"1-14\",\n",
    "                \"1-16\",\n",
    "                \"1-18\",\n",
    "                \"1-19\",\n",
    "                \"1-8\",\n",
    "                \"10-11\",\n",
    "                \"10-17\",\n",
    "                \"10-4\",\n",
    "                \"10-7\",\n",
    "                \"11-1\",\n",
    "                \"11-10\",\n",
    "                \"11-19\",\n",
    "                \"11-20\",\n",
    "                \"11-4\",\n",
    "                \"11-7\",\n",
    "                \"12-19\",\n",
    "                \"12-20\",\n",
    "                \"12-7\",\n",
    "                \"13-14\",\n",
    "                \"13-18\",\n",
    "                \"13-19\",\n",
    "                \"13-20\",\n",
    "                \"13-3\",\n",
    "                \"13-7\",\n",
    "                \"14-10\",\n",
    "                \"14-11\",\n",
    "                \"14-12\",\n",
    "                \"14-13\",\n",
    "                \"14-14\",\n",
    "                \"14-19\",\n",
    "                \"14-20\",\n",
    "                \"14-7\",\n",
    "                \"14-8\",\n",
    "                \"14-9\",\n",
    "                \"15-1\",\n",
    "                \"15-19\",\n",
    "                \"15-6\",\n",
    "                \"16-1\",\n",
    "                \"16-16\",\n",
    "                \"16-19\",\n",
    "                \"16-20\",\n",
    "                \"17-10\",\n",
    "                \"17-11\",\n",
    "                \"18-1\",\n",
    "                \"18-10\",\n",
    "                \"18-11\",\n",
    "                \"18-12\",\n",
    "                \"18-13\",\n",
    "                \"18-14\",\n",
    "                \"18-15\",\n",
    "                \"18-16\",\n",
    "                \"18-17\",\n",
    "                \"18-19\",\n",
    "                \"18-2\",\n",
    "                \"18-20\",\n",
    "                \"18-4\",\n",
    "                \"18-5\",\n",
    "                \"18-7\",\n",
    "                \"18-8\",\n",
    "                \"18-9\",\n",
    "                \"19-1\",\n",
    "                \"19-10\",\n",
    "                \"19-11\",\n",
    "                \"19-12\",\n",
    "                \"19-13\",\n",
    "                \"19-14\",\n",
    "                \"19-15\",\n",
    "                \"19-19\",\n",
    "                \"19-2\",\n",
    "                \"19-20\",\n",
    "                \"19-3\",\n",
    "                \"19-4\",\n",
    "                \"19-6\",\n",
    "                \"19-7\",\n",
    "                \"19-8\",\n",
    "                \"19-9\",\n",
    "                \"2-1\",\n",
    "                \"2-13\",\n",
    "                \"2-15\",\n",
    "                \"2-3\",\n",
    "                \"2-4\",\n",
    "                \"2-5\",\n",
    "                \"2-6\",\n",
    "                \"2-7\",\n",
    "                \"2-8\",\n",
    "                \"20-1\",\n",
    "                \"20-12\",\n",
    "                \"20-14\",\n",
    "                \"20-15\",\n",
    "                \"20-16\",\n",
    "                \"20-18\",\n",
    "                \"20-19\",\n",
    "                \"20-20\",\n",
    "                \"20-3\",\n",
    "                \"20-4\",\n",
    "                \"20-5\",\n",
    "                \"20-7\",\n",
    "                \"20-8\",\n",
    "                \"3-1\",\n",
    "                \"3-13\",\n",
    "                \"3-18\",\n",
    "                \"3-2\",\n",
    "                \"3-8\",\n",
    "                \"4-1\",\n",
    "                \"4-10\",\n",
    "                \"4-11\",\n",
    "                \"5-1\",\n",
    "                \"5-5\",\n",
    "                \"6-1\",\n",
    "                \"6-15\",\n",
    "                \"6-6\",\n",
    "                \"7-10\",\n",
    "                \"7-11\",\n",
    "                \"7-12\",\n",
    "                \"7-13\",\n",
    "                \"7-14\",\n",
    "                \"7-7\",\n",
    "                \"7-8\",\n",
    "                \"7-9\",\n",
    "                \"8-1\",\n",
    "                \"8-13\",\n",
    "                \"8-14\",\n",
    "                \"8-18\",\n",
    "                \"8-20\",\n",
    "                \"8-3\",\n",
    "                \"8-8\",\n",
    "                \"9-1\",\n",
    "                \"9-7\",\n",
    "            ],\n",
    "            \"domains\": [1, 2, 3, 4],\n",
    "            \"num_examples_per_domain_per_label\": -1,\n",
    "            \"pickle_path\": \"/mnt/wd500GB/CSC500/csc500-main/datasets/wisig.node3-19.stratified_ds.2022A.pkl\",\n",
    "            \"source_or_target_dataset\": \"source\",\n",
    "            \"x_transforms\": [\"unit_power\", \"take_200\"],\n",
    "            \"episode_transforms\": [],\n",
    "            \"domain_prefix\": \"W_\",\n",
    "        },\n",
    "        {\n",
    "            \"labels\": [\n",
    "                \"3123D52\",\n",
    "                \"3123D65\",\n",
    "                \"3123D79\",\n",
    "                \"3123D80\",\n",
    "                \"3123D54\",\n",
    "                \"3123D70\",\n",
    "                \"3123D7B\",\n",
    "                \"3123D89\",\n",
    "                \"3123D58\",\n",
    "                \"3123D76\",\n",
    "                \"3123D7D\",\n",
    "                \"3123EFE\",\n",
    "                \"3123D64\",\n",
    "                \"3123D78\",\n",
    "                \"3123D7E\",\n",
    "                \"3124E4A\",\n",
    "            ],\n",
    "            \"domains\": [32, 38, 8, 44, 14, 50, 20, 26],\n",
    "            \"num_examples_per_domain_per_label\": 2000,\n",
    "            \"pickle_path\": \"/mnt/wd500GB/CSC500/csc500-main/datasets/oracle.Run1_framed_2000Examples_stratified_ds.2022A.pkl\",\n",
    "            \"source_or_target_dataset\": \"target\",\n",
    "            \"x_transforms\": [\"unit_power\", \"take_200\", \"resample_20Msps_to_25Msps\"],\n",
    "            \"episode_transforms\": [],\n",
    "            \"domain_prefix\": \"O_\",\n",
    "        },\n",
    "    ],\n",
    "    \"seed\": 7,\n",
    "    \"dataset_seed\": 7,\n",
    "}\n"
   ]
  },
  {
   "cell_type": "code",
   "execution_count": 5,
   "id": "8fa1cc33",
   "metadata": {
    "execution": {
     "iopub.execute_input": "2022-03-20T16:03:46.420023Z",
     "iopub.status.busy": "2022-03-20T16:03:46.419759Z",
     "iopub.status.idle": "2022-03-20T16:03:46.435870Z",
     "shell.execute_reply": "2022-03-20T16:03:46.436273Z"
    },
    "papermill": {
     "duration": 0.034006,
     "end_time": "2022-03-20T16:03:46.436392",
     "exception": false,
     "start_time": "2022-03-20T16:03:46.402386",
     "status": "completed"
    },
    "tags": []
   },
   "outputs": [],
   "source": [
    "# Set this to True if you want to run this template directly\n",
    "STANDALONE = False\n",
    "if STANDALONE:\n",
    "    print(\"parameters not injected, running with standalone_parameters\")\n",
    "    parameters = standalone_parameters\n",
    "\n",
    "if not 'parameters' in locals() and not 'parameters' in globals():\n",
    "    raise Exception(\"Parameter injection failed\")\n",
    "\n",
    "#Use an easy dict for all the parameters\n",
    "p = EasyDict(parameters)\n",
    "\n",
    "if \"x_shape\" not in p:\n",
    "    p.x_shape = [2,256] # Default to this if we dont supply x_shape\n",
    "\n",
    "\n",
    "supplied_keys = set(p.keys())\n",
    "\n",
    "if  supplied_keys != required_parameters:\n",
    "    print(\"Parameters are incorrect\")\n",
    "    if len(supplied_keys - required_parameters)>0: print(\"Shouldn't have:\", str(supplied_keys - required_parameters))\n",
    "    if len(required_parameters - supplied_keys)>0: print(\"Need to have:\", str(required_parameters - supplied_keys))\n",
    "    raise RuntimeError(\"Parameters are incorrect\")"
   ]
  },
  {
   "cell_type": "code",
   "execution_count": 6,
   "id": "3a028d58",
   "metadata": {
    "execution": {
     "iopub.execute_input": "2022-03-20T16:03:46.469217Z",
     "iopub.status.busy": "2022-03-20T16:03:46.468962Z",
     "iopub.status.idle": "2022-03-20T16:03:46.485374Z",
     "shell.execute_reply": "2022-03-20T16:03:46.485579Z"
    },
    "papermill": {
     "duration": 0.032473,
     "end_time": "2022-03-20T16:03:46.485639",
     "exception": false,
     "start_time": "2022-03-20T16:03:46.453166",
     "status": "completed"
    },
    "tags": []
   },
   "outputs": [],
   "source": [
    "###################################\n",
    "# Set the RNGs and make it all deterministic\n",
    "###################################\n",
    "np.random.seed(p.seed)\n",
    "random.seed(p.seed)\n",
    "torch.manual_seed(p.seed)\n",
    "\n",
    "torch.use_deterministic_algorithms(True) "
   ]
  },
  {
   "cell_type": "code",
   "execution_count": 7,
   "id": "b691acf6",
   "metadata": {
    "execution": {
     "iopub.execute_input": "2022-03-20T16:03:46.513876Z",
     "iopub.status.busy": "2022-03-20T16:03:46.513624Z",
     "iopub.status.idle": "2022-03-20T16:03:46.530200Z",
     "shell.execute_reply": "2022-03-20T16:03:46.529809Z"
    },
    "papermill": {
     "duration": 0.031737,
     "end_time": "2022-03-20T16:03:46.530291",
     "exception": false,
     "start_time": "2022-03-20T16:03:46.498554",
     "status": "completed"
    },
    "tags": []
   },
   "outputs": [],
   "source": [
    "###########################################\n",
    "# The stratified datasets honor this\n",
    "###########################################\n",
    "torch.set_default_dtype(eval(p.torch_default_dtype))"
   ]
  },
  {
   "cell_type": "code",
   "execution_count": 8,
   "id": "b5fba671",
   "metadata": {
    "execution": {
     "iopub.execute_input": "2022-03-20T16:03:46.563482Z",
     "iopub.status.busy": "2022-03-20T16:03:46.563215Z",
     "iopub.status.idle": "2022-03-20T16:03:46.599335Z",
     "shell.execute_reply": "2022-03-20T16:03:46.599736Z"
    },
    "papermill": {
     "duration": 0.051936,
     "end_time": "2022-03-20T16:03:46.599847",
     "exception": false,
     "start_time": "2022-03-20T16:03:46.547911",
     "status": "completed"
    },
    "tags": []
   },
   "outputs": [],
   "source": [
    "###################################\n",
    "# Build the network(s)\n",
    "# Note: It's critical to do this AFTER setting the RNG\n",
    "###################################\n",
    "x_net = build_sequential(p.x_net)"
   ]
  },
  {
   "cell_type": "code",
   "execution_count": 9,
   "id": "5d7e61cc",
   "metadata": {
    "execution": {
     "iopub.execute_input": "2022-03-20T16:03:46.635010Z",
     "iopub.status.busy": "2022-03-20T16:03:46.633798Z",
     "iopub.status.idle": "2022-03-20T16:03:46.650660Z",
     "shell.execute_reply": "2022-03-20T16:03:46.651056Z"
    },
    "papermill": {
     "duration": 0.032048,
     "end_time": "2022-03-20T16:03:46.651168",
     "exception": false,
     "start_time": "2022-03-20T16:03:46.619120",
     "status": "completed"
    },
    "tags": []
   },
   "outputs": [],
   "source": [
    "start_time_secs = time.time()"
   ]
  },
  {
   "cell_type": "code",
   "execution_count": 10,
   "id": "c6b67dfd",
   "metadata": {
    "execution": {
     "iopub.execute_input": "2022-03-20T16:03:46.686495Z",
     "iopub.status.busy": "2022-03-20T16:03:46.686239Z",
     "iopub.status.idle": "2022-03-20T16:03:46.702419Z",
     "shell.execute_reply": "2022-03-20T16:03:46.702002Z"
    },
    "papermill": {
     "duration": 0.032789,
     "end_time": "2022-03-20T16:03:46.702515",
     "exception": false,
     "start_time": "2022-03-20T16:03:46.669726",
     "status": "completed"
    },
    "tags": []
   },
   "outputs": [],
   "source": [
    "p.domains_source = []\n",
    "p.domains_target = []\n",
    "\n",
    "\n",
    "train_original_source = []\n",
    "val_original_source   = []\n",
    "test_original_source  = []\n",
    "\n",
    "train_original_target = []\n",
    "val_original_target   = []\n",
    "test_original_target  = []"
   ]
  },
  {
   "cell_type": "code",
   "execution_count": 11,
   "id": "e3d9c3d3",
   "metadata": {
    "execution": {
     "iopub.execute_input": "2022-03-20T16:03:46.736764Z",
     "iopub.status.busy": "2022-03-20T16:03:46.736513Z",
     "iopub.status.idle": "2022-03-20T16:03:46.750006Z",
     "shell.execute_reply": "2022-03-20T16:03:46.749692Z"
    },
    "papermill": {
     "duration": 0.029053,
     "end_time": "2022-03-20T16:03:46.750077",
     "exception": false,
     "start_time": "2022-03-20T16:03:46.721024",
     "status": "completed"
    },
    "tags": []
   },
   "outputs": [],
   "source": [
    "# global_x_transform_func = lambda x: normalize(x.to(torch.get_default_dtype()), \"unit_power\") # unit_power, unit_mag\n",
    "# global_x_transform_func = lambda x: normalize(x, \"unit_power\") # unit_power, unit_mag"
   ]
  },
  {
   "cell_type": "code",
   "execution_count": 12,
   "id": "acb78fd2",
   "metadata": {
    "execution": {
     "iopub.execute_input": "2022-03-20T16:03:46.789613Z",
     "iopub.status.busy": "2022-03-20T16:03:46.789225Z",
     "iopub.status.idle": "2022-03-20T16:03:46.802437Z",
     "shell.execute_reply": "2022-03-20T16:03:46.802018Z"
    },
    "papermill": {
     "duration": 0.033499,
     "end_time": "2022-03-20T16:03:46.802531",
     "exception": false,
     "start_time": "2022-03-20T16:03:46.769032",
     "status": "completed"
    },
    "tags": []
   },
   "outputs": [],
   "source": [
    "def add_dataset(\n",
    "    labels,\n",
    "    domains,\n",
    "    pickle_path,\n",
    "    x_transforms,\n",
    "    episode_transforms,\n",
    "    domain_prefix,\n",
    "    num_examples_per_domain_per_label,\n",
    "    source_or_target_dataset:str,\n",
    "    iterator_seed=p.seed,\n",
    "    dataset_seed=p.dataset_seed,\n",
    "    n_shot=p.n_shot,\n",
    "    n_way=p.n_way,\n",
    "    n_query=p.n_query,\n",
    "    train_val_test_k_factors=(p.train_k_factor,p.val_k_factor,p.test_k_factor),\n",
    "):\n",
    "   \n",
    "    if x_transforms == []: x_transform = None\n",
    "    else: x_transform = get_chained_transform(x_transforms)\n",
    "    \n",
    "    if episode_transforms == []: episode_transform = None\n",
    "    else: raise Exception(\"episode_transforms not implemented\")\n",
    "    \n",
    "    episode_transform = lambda tup, _prefix=domain_prefix: (_prefix + str(tup[0]), tup[1])\n",
    "\n",
    "\n",
    "    eaf = Episodic_Accessor_Factory(\n",
    "        labels=labels,\n",
    "        domains=domains,\n",
    "        num_examples_per_domain_per_label=num_examples_per_domain_per_label,\n",
    "        iterator_seed=iterator_seed,\n",
    "        dataset_seed=dataset_seed,\n",
    "        n_shot=n_shot,\n",
    "        n_way=n_way,\n",
    "        n_query=n_query,\n",
    "        train_val_test_k_factors=train_val_test_k_factors,\n",
    "        pickle_path=pickle_path,\n",
    "        x_transform_func=x_transform,\n",
    "    )\n",
    "\n",
    "    train, val, test = eaf.get_train(), eaf.get_val(), eaf.get_test()\n",
    "    train = Lazy_Iterable_Wrapper(train, episode_transform)\n",
    "    val = Lazy_Iterable_Wrapper(val, episode_transform)\n",
    "    test = Lazy_Iterable_Wrapper(test, episode_transform)\n",
    "\n",
    "    if source_or_target_dataset==\"source\":\n",
    "        train_original_source.append(train)\n",
    "        val_original_source.append(val)\n",
    "        test_original_source.append(test)\n",
    "\n",
    "        p.domains_source.extend(\n",
    "            [domain_prefix + str(u) for u in domains]\n",
    "        )\n",
    "    elif source_or_target_dataset==\"target\":\n",
    "        train_original_target.append(train)\n",
    "        val_original_target.append(val)\n",
    "        test_original_target.append(test)\n",
    "        p.domains_target.extend(\n",
    "            [domain_prefix + str(u) for u in domains]\n",
    "        )\n",
    "    else:\n",
    "        raise Exception(f\"invalid source_or_target_dataset: {source_or_target_dataset}\")\n",
    "    "
   ]
  },
  {
   "cell_type": "code",
   "execution_count": 13,
   "id": "fe266617",
   "metadata": {
    "execution": {
     "iopub.execute_input": "2022-03-20T16:03:46.836847Z",
     "iopub.status.busy": "2022-03-20T16:03:46.835898Z",
     "iopub.status.idle": "2022-03-20T16:04:56.977496Z",
     "shell.execute_reply": "2022-03-20T16:04:56.977084Z"
    },
    "papermill": {
     "duration": 70.158324,
     "end_time": "2022-03-20T16:04:56.977584",
     "exception": false,
     "start_time": "2022-03-20T16:03:46.819260",
     "status": "completed"
    },
    "tags": []
   },
   "outputs": [],
   "source": [
    "for ds in p.datasets:\n",
    "    add_dataset(**ds)"
   ]
  },
  {
   "cell_type": "code",
   "execution_count": 14,
   "id": "b90d65ac",
   "metadata": {
    "execution": {
     "iopub.execute_input": "2022-03-20T16:04:57.013458Z",
     "iopub.status.busy": "2022-03-20T16:04:57.013188Z",
     "iopub.status.idle": "2022-03-20T16:04:57.026627Z",
     "shell.execute_reply": "2022-03-20T16:04:57.026835Z"
    },
    "papermill": {
     "duration": 0.029984,
     "end_time": "2022-03-20T16:04:57.026910",
     "exception": false,
     "start_time": "2022-03-20T16:04:56.996926",
     "status": "completed"
    },
    "tags": []
   },
   "outputs": [],
   "source": [
    "# from steves_utils.CORES.utils import (\n",
    "#     ALL_NODES,\n",
    "#     ALL_NODES_MINIMUM_1000_EXAMPLES,\n",
    "#     ALL_DAYS\n",
    "# )\n",
    "\n",
    "# add_dataset(\n",
    "#     labels=ALL_NODES,\n",
    "#     domains = ALL_DAYS,\n",
    "#     num_examples_per_domain_per_label=100,\n",
    "#     pickle_path=os.path.join(get_datasets_base_path(), \"cores.stratified_ds.2022A.pkl\"),\n",
    "#     source_or_target_dataset=\"target\",\n",
    "#     x_transform_func=global_x_transform_func,\n",
    "#     domain_modifier=lambda u: f\"cores_{u}\"\n",
    "# )"
   ]
  },
  {
   "cell_type": "code",
   "execution_count": 15,
   "id": "76db484d",
   "metadata": {
    "execution": {
     "iopub.execute_input": "2022-03-20T16:04:57.063010Z",
     "iopub.status.busy": "2022-03-20T16:04:57.062744Z",
     "iopub.status.idle": "2022-03-20T16:04:57.076674Z",
     "shell.execute_reply": "2022-03-20T16:04:57.076144Z"
    },
    "papermill": {
     "duration": 0.029657,
     "end_time": "2022-03-20T16:04:57.076788",
     "exception": false,
     "start_time": "2022-03-20T16:04:57.047131",
     "status": "completed"
    },
    "tags": []
   },
   "outputs": [],
   "source": [
    "# from steves_utils.ORACLE.utils_v2 import (\n",
    "#     ALL_DISTANCES_FEET,\n",
    "#     ALL_RUNS,\n",
    "#     ALL_SERIAL_NUMBERS,\n",
    "# )\n",
    "\n",
    "\n",
    "# add_dataset(\n",
    "#     labels=ALL_SERIAL_NUMBERS,\n",
    "#     domains = list(set(ALL_DISTANCES_FEET) - {2,62}),\n",
    "#     num_examples_per_domain_per_label=100,\n",
    "#     pickle_path=os.path.join(get_datasets_base_path(), \"oracle.Run2_framed_2000Examples_stratified_ds.2022A.pkl\"),\n",
    "#     source_or_target_dataset=\"source\",\n",
    "#     x_transform_func=global_x_transform_func,\n",
    "#     domain_modifier=lambda u: f\"oracle1_{u}\"\n",
    "# )\n"
   ]
  },
  {
   "cell_type": "code",
   "execution_count": 16,
   "id": "97dea9d2",
   "metadata": {
    "execution": {
     "iopub.execute_input": "2022-03-20T16:04:57.112785Z",
     "iopub.status.busy": "2022-03-20T16:04:57.112523Z",
     "iopub.status.idle": "2022-03-20T16:04:57.125832Z",
     "shell.execute_reply": "2022-03-20T16:04:57.125337Z"
    },
    "papermill": {
     "duration": 0.029384,
     "end_time": "2022-03-20T16:04:57.125937",
     "exception": false,
     "start_time": "2022-03-20T16:04:57.096553",
     "status": "completed"
    },
    "tags": []
   },
   "outputs": [],
   "source": [
    "# from steves_utils.ORACLE.utils_v2 import (\n",
    "#     ALL_DISTANCES_FEET,\n",
    "#     ALL_RUNS,\n",
    "#     ALL_SERIAL_NUMBERS,\n",
    "# )\n",
    "\n",
    "\n",
    "# add_dataset(\n",
    "#     labels=ALL_SERIAL_NUMBERS,\n",
    "#     domains = list(set(ALL_DISTANCES_FEET) - {2,62,56}),\n",
    "#     num_examples_per_domain_per_label=100,\n",
    "#     pickle_path=os.path.join(get_datasets_base_path(), \"oracle.Run2_framed_2000Examples_stratified_ds.2022A.pkl\"),\n",
    "#     source_or_target_dataset=\"source\",\n",
    "#     x_transform_func=global_x_transform_func,\n",
    "#     domain_modifier=lambda u: f\"oracle2_{u}\"\n",
    "# )"
   ]
  },
  {
   "cell_type": "code",
   "execution_count": 17,
   "id": "6f289866",
   "metadata": {
    "execution": {
     "iopub.execute_input": "2022-03-20T16:04:57.161500Z",
     "iopub.status.busy": "2022-03-20T16:04:57.161147Z",
     "iopub.status.idle": "2022-03-20T16:04:57.175609Z",
     "shell.execute_reply": "2022-03-20T16:04:57.175143Z"
    },
    "papermill": {
     "duration": 0.030374,
     "end_time": "2022-03-20T16:04:57.175713",
     "exception": false,
     "start_time": "2022-03-20T16:04:57.145339",
     "status": "completed"
    },
    "tags": []
   },
   "outputs": [],
   "source": [
    "# add_dataset(\n",
    "#     labels=list(range(19)),\n",
    "#     domains = [0,1,2],\n",
    "#     num_examples_per_domain_per_label=100,\n",
    "#     pickle_path=os.path.join(get_datasets_base_path(), \"metehan.stratified_ds.2022A.pkl\"),\n",
    "#     source_or_target_dataset=\"target\",\n",
    "#     x_transform_func=global_x_transform_func,\n",
    "#     domain_modifier=lambda u: f\"met_{u}\"\n",
    "# )"
   ]
  },
  {
   "cell_type": "code",
   "execution_count": 18,
   "id": "86a863c3",
   "metadata": {
    "execution": {
     "iopub.execute_input": "2022-03-20T16:04:57.210818Z",
     "iopub.status.busy": "2022-03-20T16:04:57.210551Z",
     "iopub.status.idle": "2022-03-20T16:04:57.223040Z",
     "shell.execute_reply": "2022-03-20T16:04:57.223263Z"
    },
    "papermill": {
     "duration": 0.029036,
     "end_time": "2022-03-20T16:04:57.223337",
     "exception": false,
     "start_time": "2022-03-20T16:04:57.194301",
     "status": "completed"
    },
    "tags": []
   },
   "outputs": [],
   "source": [
    "# # from steves_utils.wisig.utils import (\n",
    "# #     ALL_NODES_MINIMUM_100_EXAMPLES,\n",
    "# #     ALL_NODES_MINIMUM_500_EXAMPLES,\n",
    "# #     ALL_NODES_MINIMUM_1000_EXAMPLES,\n",
    "# #     ALL_DAYS\n",
    "# # )\n",
    "\n",
    "# import steves_utils.wisig.utils as wisig\n",
    "\n",
    "\n",
    "# add_dataset(\n",
    "#     labels=wisig.ALL_NODES_MINIMUM_100_EXAMPLES,\n",
    "#     domains = wisig.ALL_DAYS,\n",
    "#     num_examples_per_domain_per_label=100,\n",
    "#     pickle_path=os.path.join(get_datasets_base_path(), \"wisig.node3-19.stratified_ds.2022A.pkl\"),\n",
    "#     source_or_target_dataset=\"target\",\n",
    "#     x_transform_func=global_x_transform_func,\n",
    "#     domain_modifier=lambda u: f\"wisig_{u}\"\n",
    "# )"
   ]
  },
  {
   "cell_type": "code",
   "execution_count": 19,
   "id": "fd5442bc",
   "metadata": {
    "execution": {
     "iopub.execute_input": "2022-03-20T16:04:57.261804Z",
     "iopub.status.busy": "2022-03-20T16:04:57.261534Z",
     "iopub.status.idle": "2022-03-20T16:04:57.276682Z",
     "shell.execute_reply": "2022-03-20T16:04:57.277091Z"
    },
    "papermill": {
     "duration": 0.035432,
     "end_time": "2022-03-20T16:04:57.277215",
     "exception": false,
     "start_time": "2022-03-20T16:04:57.241783",
     "status": "completed"
    },
    "tags": []
   },
   "outputs": [],
   "source": [
    "###################################\n",
    "# Build the dataset\n",
    "###################################\n",
    "train_original_source = Iterable_Aggregator(train_original_source, p.seed)\n",
    "val_original_source = Iterable_Aggregator(val_original_source, p.seed)\n",
    "test_original_source = Iterable_Aggregator(test_original_source, p.seed)\n",
    "\n",
    "\n",
    "train_original_target = Iterable_Aggregator(train_original_target, p.seed)\n",
    "val_original_target = Iterable_Aggregator(val_original_target, p.seed)\n",
    "test_original_target = Iterable_Aggregator(test_original_target, p.seed)\n",
    "\n",
    "# For CNN We only use X and Y. And we only train on the source.\n",
    "# Properly form the data using a transform lambda and Lazy_Iterable_Wrapper. Finally wrap them in a dataloader\n",
    "\n",
    "transform_lambda = lambda ex: ex[1] # Original is (<domain>, <episode>) so we strip down to episode only\n",
    "\n",
    "train_processed_source = Lazy_Iterable_Wrapper(train_original_source, transform_lambda)\n",
    "val_processed_source   = Lazy_Iterable_Wrapper(val_original_source, transform_lambda)\n",
    "test_processed_source  = Lazy_Iterable_Wrapper(test_original_source, transform_lambda)\n",
    "\n",
    "train_processed_target = Lazy_Iterable_Wrapper(train_original_target, transform_lambda)\n",
    "val_processed_target   = Lazy_Iterable_Wrapper(val_original_target, transform_lambda)\n",
    "test_processed_target  = Lazy_Iterable_Wrapper(test_original_target, transform_lambda)\n",
    "\n",
    "datasets = EasyDict({\n",
    "    \"source\": {\n",
    "        \"original\": {\"train\":train_original_source, \"val\":val_original_source, \"test\":test_original_source},\n",
    "        \"processed\": {\"train\":train_processed_source, \"val\":val_processed_source, \"test\":test_processed_source}\n",
    "    },\n",
    "    \"target\": {\n",
    "        \"original\": {\"train\":train_original_target, \"val\":val_original_target, \"test\":test_original_target},\n",
    "        \"processed\": {\"train\":train_processed_target, \"val\":val_processed_target, \"test\":test_processed_target}\n",
    "    },\n",
    "})"
   ]
  },
  {
   "cell_type": "code",
   "execution_count": 20,
   "id": "5b3c01fc",
   "metadata": {
    "execution": {
     "iopub.execute_input": "2022-03-20T16:04:57.312686Z",
     "iopub.status.busy": "2022-03-20T16:04:57.312425Z",
     "iopub.status.idle": "2022-03-20T16:05:07.047640Z",
     "shell.execute_reply": "2022-03-20T16:05:07.048011Z"
    },
    "papermill": {
     "duration": 9.753037,
     "end_time": "2022-03-20T16:05:07.048143",
     "exception": false,
     "start_time": "2022-03-20T16:04:57.295106",
     "status": "completed"
    },
    "tags": []
   },
   "outputs": [
    {
     "name": "stdout",
     "output_type": "stream",
     "text": [
      "{'C_4', 'C_2', 'W_3', 'W_2', 'C_3', 'C_1', 'C_5', 'W_1', 'W_4'}\n"
     ]
    },
    {
     "name": "stdout",
     "output_type": "stream",
     "text": [
      "{'O_50', 'O_26', 'O_44', 'O_20', 'O_8', 'O_14', 'O_32', 'O_38'}\n"
     ]
    },
    {
     "name": "stdout",
     "output_type": "stream",
     "text": [
      "tensor([[[-0.3849,  0.5279,  1.0925,  ..., -0.8569,  0.7611,  0.8194],\n",
      "         [-0.4520, -0.9815,  0.2468,  ..., -1.3792, -1.0350,  0.4912]],\n",
      "\n",
      "        [[-0.3497,  0.7310,  1.1162,  ..., -0.2951,  1.0751,  0.5253],\n",
      "         [-0.8496, -0.8370,  0.5467,  ..., -1.3654, -0.9050,  0.6273]],\n",
      "\n",
      "        [[-0.5572,  0.7851,  0.9473,  ..., -0.4693,  0.7131, -0.4171],\n",
      "         [-0.7423, -0.9972,  0.4052,  ..., -1.0549, -0.5287, -0.5239]],\n",
      "\n",
      "        ...,\n",
      "\n",
      "        [[-0.1843,  1.0623,  1.6271,  ...,  0.5499,  1.1012,  0.0614],\n",
      "         [-0.2562, -1.0847, -0.3566,  ..., -1.7724, -0.6368, -0.4345]],\n",
      "\n",
      "        [[-0.5981,  1.0634,  1.7590,  ...,  1.3839,  1.4784,  0.6705],\n",
      "         [-0.1241, -0.2274,  0.4770,  ..., -1.0353, -0.3323,  0.5317]],\n",
      "\n",
      "        [[ 0.3587, -0.0812, -1.2938,  ..., -0.2039, -1.0623, -0.9029],\n",
      "         [-0.1380,  0.8661,  0.9872,  ...,  1.2922,  1.4931,  0.6193]]])\n"
     ]
    }
   ],
   "source": [
    "from steves_utils.transforms import get_average_magnitude, get_average_power\n",
    "\n",
    "print(set([u for u,_ in val_original_source]))\n",
    "print(set([u for u,_ in val_original_target]))\n",
    "\n",
    "s_x, s_y, q_x, q_y, _ = next(iter(train_processed_source))\n",
    "print(s_x)\n",
    "\n",
    "# for ds in [\n",
    "#     train_processed_source,\n",
    "#     val_processed_source,\n",
    "#     test_processed_source,\n",
    "#     train_processed_target,\n",
    "#     val_processed_target,\n",
    "#     test_processed_target\n",
    "# ]:\n",
    "#     for s_x, s_y, q_x, q_y, _ in ds:\n",
    "#         for X in (s_x, q_x):\n",
    "#             for x in X:\n",
    "#                 assert np.isclose(get_average_magnitude(x.numpy()), 1.0)\n",
    "#                 assert np.isclose(get_average_power(x.numpy()), 1.0)\n",
    "                "
   ]
  },
  {
   "cell_type": "code",
   "execution_count": 21,
   "id": "bbdacba1",
   "metadata": {
    "execution": {
     "iopub.execute_input": "2022-03-20T16:05:07.084745Z",
     "iopub.status.busy": "2022-03-20T16:05:07.084472Z",
     "iopub.status.idle": "2022-03-20T16:05:07.137235Z",
     "shell.execute_reply": "2022-03-20T16:05:07.137681Z"
    },
    "papermill": {
     "duration": 0.072332,
     "end_time": "2022-03-20T16:05:07.137821",
     "exception": false,
     "start_time": "2022-03-20T16:05:07.065489",
     "status": "completed"
    },
    "tags": []
   },
   "outputs": [
    {
     "name": "stdout",
     "output_type": "stream",
     "text": [
      "(2, 200)\n"
     ]
    }
   ],
   "source": [
    "###################################\n",
    "# Build the model\n",
    "###################################\n",
    "# easfsl only wants a tuple for the shape\n",
    "model = Steves_Prototypical_Network(x_net, device=p.device, x_shape=tuple(p.x_shape))\n",
    "optimizer = Adam(params=model.parameters(), lr=p.lr)"
   ]
  },
  {
   "cell_type": "code",
   "execution_count": 22,
   "id": "22b39ac5",
   "metadata": {
    "execution": {
     "iopub.execute_input": "2022-03-20T16:05:07.176688Z",
     "iopub.status.busy": "2022-03-20T16:05:07.176423Z",
     "iopub.status.idle": "2022-03-20T17:02:32.050230Z",
     "shell.execute_reply": "2022-03-20T17:02:32.050005Z"
    },
    "papermill": {
     "duration": 3444.891997,
     "end_time": "2022-03-20T17:02:32.050287",
     "exception": false,
     "start_time": "2022-03-20T16:05:07.158290",
     "status": "completed"
    },
    "tags": []
   },
   "outputs": [
    {
     "name": "stdout",
     "output_type": "stream",
     "text": [
      "epoch: 1, [batch: 1 / 13150], examples_per_second: 23.2618, train_label_loss: 2.5906, \n"
     ]
    },
    {
     "name": "stdout",
     "output_type": "stream",
     "text": [
      "epoch: 1, [batch: 1315 / 13150], examples_per_second: 1742.3310, train_label_loss: 0.0306, \n"
     ]
    },
    {
     "name": "stdout",
     "output_type": "stream",
     "text": [
      "epoch: 1, [batch: 2630 / 13150], examples_per_second: 1740.2150, train_label_loss: 0.0504, \n"
     ]
    },
    {
     "name": "stdout",
     "output_type": "stream",
     "text": [
      "epoch: 1, [batch: 3945 / 13150], examples_per_second: 1741.2830, train_label_loss: 0.0388, \n"
     ]
    },
    {
     "name": "stdout",
     "output_type": "stream",
     "text": [
      "epoch: 1, [batch: 5260 / 13150], examples_per_second: 1741.1421, train_label_loss: 0.1650, \n"
     ]
    },
    {
     "name": "stdout",
     "output_type": "stream",
     "text": [
      "epoch: 1, [batch: 6575 / 13150], examples_per_second: 1741.2899, train_label_loss: 0.0051, \n"
     ]
    },
    {
     "name": "stdout",
     "output_type": "stream",
     "text": [
      "epoch: 1, [batch: 7890 / 13150], examples_per_second: 1740.7102, train_label_loss: 0.2929, \n"
     ]
    },
    {
     "name": "stdout",
     "output_type": "stream",
     "text": [
      "epoch: 1, [batch: 9205 / 13150], examples_per_second: 1820.2713, train_label_loss: 0.0028, \n"
     ]
    },
    {
     "name": "stdout",
     "output_type": "stream",
     "text": [
      "epoch: 1, [batch: 10520 / 13150], examples_per_second: 2394.5238, train_label_loss: 0.4160, \n"
     ]
    },
    {
     "name": "stdout",
     "output_type": "stream",
     "text": [
      "epoch: 1, [batch: 11835 / 13150], examples_per_second: 1739.3541, train_label_loss: 0.0005, \n"
     ]
    },
    {
     "name": "stdout",
     "output_type": "stream",
     "text": [
      "=============================================================\n",
      "epoch: 1, source_val_acc_label: 0.9766, target_val_acc_label: 0.2224, source_val_label_loss: 0.1102, target_val_label_loss: 2.3925, \n",
      "=============================================================\n"
     ]
    },
    {
     "name": "stdout",
     "output_type": "stream",
     "text": [
      "New best\n"
     ]
    },
    {
     "name": "stdout",
     "output_type": "stream",
     "text": [
      "epoch: 2, [batch: 1 / 13146], examples_per_second: 1.4690, train_label_loss: 0.0852, \n"
     ]
    },
    {
     "name": "stdout",
     "output_type": "stream",
     "text": [
      "epoch: 2, [batch: 1315 / 13146], examples_per_second: 1743.8604, train_label_loss: 0.1121, \n"
     ]
    },
    {
     "name": "stdout",
     "output_type": "stream",
     "text": [
      "epoch: 2, [batch: 2630 / 13146], examples_per_second: 1741.3307, train_label_loss: 0.1442, \n"
     ]
    },
    {
     "name": "stdout",
     "output_type": "stream",
     "text": [
      "epoch: 2, [batch: 3944 / 13146], examples_per_second: 1740.5547, train_label_loss: 0.0018, \n"
     ]
    },
    {
     "name": "stdout",
     "output_type": "stream",
     "text": [
      "epoch: 2, [batch: 5259 / 13146], examples_per_second: 1741.2978, train_label_loss: 0.0103, \n"
     ]
    },
    {
     "name": "stdout",
     "output_type": "stream",
     "text": [
      "epoch: 2, [batch: 6573 / 13146], examples_per_second: 1740.8404, train_label_loss: 0.0004, \n"
     ]
    },
    {
     "name": "stdout",
     "output_type": "stream",
     "text": [
      "epoch: 2, [batch: 7888 / 13146], examples_per_second: 1742.4098, train_label_loss: 0.0008, \n"
     ]
    },
    {
     "name": "stdout",
     "output_type": "stream",
     "text": [
      "epoch: 2, [batch: 9202 / 13146], examples_per_second: 1788.8902, train_label_loss: 0.0020, \n"
     ]
    },
    {
     "name": "stdout",
     "output_type": "stream",
     "text": [
      "epoch: 2, [batch: 10517 / 13146], examples_per_second: 2276.3505, train_label_loss: 0.1024, \n"
     ]
    },
    {
     "name": "stdout",
     "output_type": "stream",
     "text": [
      "epoch: 2, [batch: 11831 / 13146], examples_per_second: 2265.8828, train_label_loss: 0.2769, \n"
     ]
    },
    {
     "name": "stdout",
     "output_type": "stream",
     "text": [
      "=============================================================\n",
      "epoch: 2, source_val_acc_label: 0.9824, target_val_acc_label: 0.2419, source_val_label_loss: 0.0771, target_val_label_loss: 2.3432, \n",
      "=============================================================\n"
     ]
    },
    {
     "name": "stdout",
     "output_type": "stream",
     "text": [
      "New best\n"
     ]
    },
    {
     "name": "stdout",
     "output_type": "stream",
     "text": [
      "epoch: 3, [batch: 1 / 13172], examples_per_second: 1.8284, train_label_loss: 0.0641, \n"
     ]
    },
    {
     "name": "stdout",
     "output_type": "stream",
     "text": [
      "epoch: 3, [batch: 1318 / 13172], examples_per_second: 3554.9039, train_label_loss: 0.0026, \n"
     ]
    },
    {
     "name": "stdout",
     "output_type": "stream",
     "text": [
      "epoch: 3, [batch: 2635 / 13172], examples_per_second: 3585.3053, train_label_loss: 0.0005, \n"
     ]
    },
    {
     "name": "stdout",
     "output_type": "stream",
     "text": [
      "epoch: 3, [batch: 3952 / 13172], examples_per_second: 3622.8475, train_label_loss: 0.0096, \n"
     ]
    },
    {
     "name": "stdout",
     "output_type": "stream",
     "text": [
      "epoch: 3, [batch: 5269 / 13172], examples_per_second: 3636.5033, train_label_loss: 0.0025, \n"
     ]
    },
    {
     "name": "stdout",
     "output_type": "stream",
     "text": [
      "epoch: 3, [batch: 6586 / 13172], examples_per_second: 3652.2328, train_label_loss: 0.0030, \n"
     ]
    },
    {
     "name": "stdout",
     "output_type": "stream",
     "text": [
      "epoch: 3, [batch: 7903 / 13172], examples_per_second: 3666.0154, train_label_loss: 0.0004, \n"
     ]
    },
    {
     "name": "stdout",
     "output_type": "stream",
     "text": [
      "epoch: 3, [batch: 9220 / 13172], examples_per_second: 3649.5931, train_label_loss: 0.1560, \n"
     ]
    },
    {
     "name": "stdout",
     "output_type": "stream",
     "text": [
      "epoch: 3, [batch: 10537 / 13172], examples_per_second: 3653.3325, train_label_loss: 0.0002, \n"
     ]
    },
    {
     "name": "stdout",
     "output_type": "stream",
     "text": [
      "epoch: 3, [batch: 11854 / 13172], examples_per_second: 3661.9977, train_label_loss: 0.0003, \n"
     ]
    },
    {
     "name": "stdout",
     "output_type": "stream",
     "text": [
      "=============================================================\n",
      "epoch: 3, source_val_acc_label: 0.9847, target_val_acc_label: 0.2341, source_val_label_loss: 0.0675, target_val_label_loss: 2.3535, \n",
      "=============================================================\n"
     ]
    },
    {
     "name": "stdout",
     "output_type": "stream",
     "text": [
      "epoch: 4, [batch: 1 / 13145], examples_per_second: 2.9291, train_label_loss: 0.0196, \n"
     ]
    },
    {
     "name": "stdout",
     "output_type": "stream",
     "text": [
      "epoch: 4, [batch: 1315 / 13145], examples_per_second: 3617.4868, train_label_loss: 0.0013, \n"
     ]
    },
    {
     "name": "stdout",
     "output_type": "stream",
     "text": [
      "epoch: 4, [batch: 2629 / 13145], examples_per_second: 3639.1022, train_label_loss: 0.0001, \n"
     ]
    },
    {
     "name": "stdout",
     "output_type": "stream",
     "text": [
      "epoch: 4, [batch: 3944 / 13145], examples_per_second: 3645.2477, train_label_loss: 0.0026, \n"
     ]
    },
    {
     "name": "stdout",
     "output_type": "stream",
     "text": [
      "epoch: 4, [batch: 5258 / 13145], examples_per_second: 3623.7567, train_label_loss: 0.0054, \n"
     ]
    },
    {
     "name": "stdout",
     "output_type": "stream",
     "text": [
      "epoch: 4, [batch: 6573 / 13145], examples_per_second: 3642.9553, train_label_loss: 0.0074, \n"
     ]
    },
    {
     "name": "stdout",
     "output_type": "stream",
     "text": [
      "epoch: 4, [batch: 7887 / 13145], examples_per_second: 3655.8433, train_label_loss: 0.0007, \n"
     ]
    },
    {
     "name": "stdout",
     "output_type": "stream",
     "text": [
      "epoch: 4, [batch: 9201 / 13145], examples_per_second: 3640.3045, train_label_loss: 0.0006, \n"
     ]
    },
    {
     "name": "stdout",
     "output_type": "stream",
     "text": [
      "epoch: 4, [batch: 10516 / 13145], examples_per_second: 3646.4891, train_label_loss: 0.0002, \n"
     ]
    },
    {
     "name": "stdout",
     "output_type": "stream",
     "text": [
      "epoch: 4, [batch: 11830 / 13145], examples_per_second: 3643.5971, train_label_loss: 0.0002, \n"
     ]
    },
    {
     "name": "stdout",
     "output_type": "stream",
     "text": [
      "=============================================================\n",
      "epoch: 4, source_val_acc_label: 0.9852, target_val_acc_label: 0.2206, source_val_label_loss: 0.0649, target_val_label_loss: 2.3792, \n",
      "=============================================================\n"
     ]
    },
    {
     "name": "stdout",
     "output_type": "stream",
     "text": [
      "epoch: 5, [batch: 1 / 13163], examples_per_second: 2.9558, train_label_loss: 0.0004, \n"
     ]
    },
    {
     "name": "stdout",
     "output_type": "stream",
     "text": [
      "epoch: 5, [batch: 1317 / 13163], examples_per_second: 3611.2380, train_label_loss: 0.0974, \n"
     ]
    },
    {
     "name": "stdout",
     "output_type": "stream",
     "text": [
      "epoch: 5, [batch: 2633 / 13163], examples_per_second: 3641.3507, train_label_loss: 0.0105, \n"
     ]
    },
    {
     "name": "stdout",
     "output_type": "stream",
     "text": [
      "epoch: 5, [batch: 3949 / 13163], examples_per_second: 3633.7144, train_label_loss: 0.0010, \n"
     ]
    },
    {
     "name": "stdout",
     "output_type": "stream",
     "text": [
      "epoch: 5, [batch: 5265 / 13163], examples_per_second: 3624.6182, train_label_loss: 0.1628, \n"
     ]
    },
    {
     "name": "stdout",
     "output_type": "stream",
     "text": [
      "epoch: 5, [batch: 6582 / 13163], examples_per_second: 3638.6019, train_label_loss: 0.2385, \n"
     ]
    },
    {
     "name": "stdout",
     "output_type": "stream",
     "text": [
      "epoch: 5, [batch: 7898 / 13163], examples_per_second: 3656.3782, train_label_loss: 0.0061, \n"
     ]
    },
    {
     "name": "stdout",
     "output_type": "stream",
     "text": [
      "epoch: 5, [batch: 9214 / 13163], examples_per_second: 3643.9713, train_label_loss: 0.0560, \n"
     ]
    },
    {
     "name": "stdout",
     "output_type": "stream",
     "text": [
      "epoch: 5, [batch: 10530 / 13163], examples_per_second: 3656.3862, train_label_loss: 0.0009, \n"
     ]
    },
    {
     "name": "stdout",
     "output_type": "stream",
     "text": [
      "epoch: 5, [batch: 11846 / 13163], examples_per_second: 3663.4786, train_label_loss: 0.0001, \n"
     ]
    },
    {
     "name": "stdout",
     "output_type": "stream",
     "text": [
      "=============================================================\n",
      "epoch: 5, source_val_acc_label: 0.9852, target_val_acc_label: 0.2563, source_val_label_loss: 0.0682, target_val_label_loss: 2.2661, \n",
      "=============================================================\n"
     ]
    },
    {
     "name": "stdout",
     "output_type": "stream",
     "text": [
      "New best\n"
     ]
    },
    {
     "name": "stdout",
     "output_type": "stream",
     "text": [
      "epoch: 6, [batch: 1 / 13152], examples_per_second: 2.9339, train_label_loss: 0.0258, \n"
     ]
    },
    {
     "name": "stdout",
     "output_type": "stream",
     "text": [
      "epoch: 6, [batch: 1316 / 13152], examples_per_second: 3605.1117, train_label_loss: 0.0005, \n"
     ]
    },
    {
     "name": "stdout",
     "output_type": "stream",
     "text": [
      "epoch: 6, [batch: 2631 / 13152], examples_per_second: 3638.7497, train_label_loss: 0.0057, \n"
     ]
    },
    {
     "name": "stdout",
     "output_type": "stream",
     "text": [
      "epoch: 6, [batch: 3946 / 13152], examples_per_second: 3633.7789, train_label_loss: 0.0000, \n"
     ]
    },
    {
     "name": "stdout",
     "output_type": "stream",
     "text": [
      "epoch: 6, [batch: 5261 / 13152], examples_per_second: 3606.9657, train_label_loss: 0.0584, \n"
     ]
    },
    {
     "name": "stdout",
     "output_type": "stream",
     "text": [
      "epoch: 6, [batch: 6576 / 13152], examples_per_second: 3656.4193, train_label_loss: 0.0052, \n"
     ]
    },
    {
     "name": "stdout",
     "output_type": "stream",
     "text": [
      "epoch: 6, [batch: 7891 / 13152], examples_per_second: 3657.5858, train_label_loss: 0.0000, \n"
     ]
    },
    {
     "name": "stdout",
     "output_type": "stream",
     "text": [
      "epoch: 6, [batch: 9206 / 13152], examples_per_second: 3620.0024, train_label_loss: 0.0002, \n"
     ]
    },
    {
     "name": "stdout",
     "output_type": "stream",
     "text": [
      "epoch: 6, [batch: 10521 / 13152], examples_per_second: 3650.0987, train_label_loss: 0.0327, \n"
     ]
    },
    {
     "name": "stdout",
     "output_type": "stream",
     "text": [
      "epoch: 6, [batch: 11836 / 13152], examples_per_second: 3645.8145, train_label_loss: 0.0001, \n"
     ]
    },
    {
     "name": "stdout",
     "output_type": "stream",
     "text": [
      "=============================================================\n",
      "epoch: 6, source_val_acc_label: 0.9853, target_val_acc_label: 0.2154, source_val_label_loss: 0.0667, target_val_label_loss: 2.7337, \n",
      "=============================================================\n"
     ]
    },
    {
     "name": "stdout",
     "output_type": "stream",
     "text": [
      "epoch: 7, [batch: 1 / 13174], examples_per_second: 2.9383, train_label_loss: 0.0102, \n"
     ]
    },
    {
     "name": "stdout",
     "output_type": "stream",
     "text": [
      "epoch: 7, [batch: 1318 / 13174], examples_per_second: 3617.3891, train_label_loss: 0.0007, \n"
     ]
    },
    {
     "name": "stdout",
     "output_type": "stream",
     "text": [
      "epoch: 7, [batch: 2635 / 13174], examples_per_second: 3650.4105, train_label_loss: 0.0010, \n"
     ]
    },
    {
     "name": "stdout",
     "output_type": "stream",
     "text": [
      "epoch: 7, [batch: 3952 / 13174], examples_per_second: 3647.6076, train_label_loss: 0.0001, \n"
     ]
    },
    {
     "name": "stdout",
     "output_type": "stream",
     "text": [
      "epoch: 7, [batch: 5270 / 13174], examples_per_second: 3608.7552, train_label_loss: 0.1446, \n"
     ]
    },
    {
     "name": "stdout",
     "output_type": "stream",
     "text": [
      "epoch: 7, [batch: 6587 / 13174], examples_per_second: 3636.4765, train_label_loss: 0.2663, \n"
     ]
    },
    {
     "name": "stdout",
     "output_type": "stream",
     "text": [
      "epoch: 7, [batch: 7904 / 13174], examples_per_second: 3656.1084, train_label_loss: 0.0913, \n"
     ]
    },
    {
     "name": "stdout",
     "output_type": "stream",
     "text": [
      "epoch: 7, [batch: 9222 / 13174], examples_per_second: 3633.9188, train_label_loss: 0.0501, \n"
     ]
    },
    {
     "name": "stdout",
     "output_type": "stream",
     "text": [
      "epoch: 7, [batch: 10539 / 13174], examples_per_second: 3651.7667, train_label_loss: 0.1502, \n"
     ]
    },
    {
     "name": "stdout",
     "output_type": "stream",
     "text": [
      "epoch: 7, [batch: 11856 / 13174], examples_per_second: 3667.4105, train_label_loss: 0.2881, \n"
     ]
    },
    {
     "name": "stdout",
     "output_type": "stream",
     "text": [
      "=============================================================\n",
      "epoch: 7, source_val_acc_label: 0.9856, target_val_acc_label: 0.2140, source_val_label_loss: 0.0684, target_val_label_loss: 2.5705, \n",
      "=============================================================\n"
     ]
    },
    {
     "name": "stdout",
     "output_type": "stream",
     "text": [
      "epoch: 8, [batch: 1 / 13140], examples_per_second: 2.9312, train_label_loss: 0.0016, \n"
     ]
    },
    {
     "name": "stdout",
     "output_type": "stream",
     "text": [
      "epoch: 8, [batch: 1314 / 13140], examples_per_second: 3608.3929, train_label_loss: 0.0000, \n"
     ]
    },
    {
     "name": "stdout",
     "output_type": "stream",
     "text": [
      "epoch: 8, [batch: 2628 / 13140], examples_per_second: 3649.4189, train_label_loss: 0.0000, \n"
     ]
    },
    {
     "name": "stdout",
     "output_type": "stream",
     "text": [
      "epoch: 8, [batch: 3942 / 13140], examples_per_second: 3634.1229, train_label_loss: 0.0000, \n"
     ]
    },
    {
     "name": "stdout",
     "output_type": "stream",
     "text": [
      "epoch: 8, [batch: 5256 / 13140], examples_per_second: 3632.3556, train_label_loss: 0.0003, \n"
     ]
    },
    {
     "name": "stdout",
     "output_type": "stream",
     "text": [
      "epoch: 8, [batch: 6570 / 13140], examples_per_second: 3631.0740, train_label_loss: 0.0030, \n"
     ]
    },
    {
     "name": "stdout",
     "output_type": "stream",
     "text": [
      "epoch: 8, [batch: 7884 / 13140], examples_per_second: 3657.5259, train_label_loss: 0.0158, \n"
     ]
    },
    {
     "name": "stdout",
     "output_type": "stream",
     "text": [
      "epoch: 8, [batch: 9198 / 13140], examples_per_second: 3604.3416, train_label_loss: 0.0002, \n"
     ]
    },
    {
     "name": "stdout",
     "output_type": "stream",
     "text": [
      "epoch: 8, [batch: 10512 / 13140], examples_per_second: 3518.2038, train_label_loss: 0.0001, \n"
     ]
    },
    {
     "name": "stdout",
     "output_type": "stream",
     "text": [
      "epoch: 8, [batch: 11826 / 13140], examples_per_second: 3533.6362, train_label_loss: 0.0000, \n"
     ]
    },
    {
     "name": "stdout",
     "output_type": "stream",
     "text": [
      "=============================================================\n",
      "epoch: 8, source_val_acc_label: 0.9856, target_val_acc_label: 0.2156, source_val_label_loss: 0.0713, target_val_label_loss: 2.6192, \n",
      "=============================================================\n"
     ]
    },
    {
     "name": "stdout",
     "output_type": "stream",
     "text": [
      "epoch: 9, [batch: 1 / 13153], examples_per_second: 2.9049, train_label_loss: 0.0001, \n"
     ]
    },
    {
     "name": "stdout",
     "output_type": "stream",
     "text": [
      "epoch: 9, [batch: 1316 / 13153], examples_per_second: 3579.4372, train_label_loss: 0.0599, \n"
     ]
    },
    {
     "name": "stdout",
     "output_type": "stream",
     "text": [
      "epoch: 9, [batch: 2631 / 13153], examples_per_second: 3607.0943, train_label_loss: 0.0000, \n"
     ]
    },
    {
     "name": "stdout",
     "output_type": "stream",
     "text": [
      "epoch: 9, [batch: 3946 / 13153], examples_per_second: 3611.3752, train_label_loss: 0.0000, \n"
     ]
    },
    {
     "name": "stdout",
     "output_type": "stream",
     "text": [
      "epoch: 9, [batch: 5261 / 13153], examples_per_second: 3596.9317, train_label_loss: 0.0002, \n"
     ]
    },
    {
     "name": "stdout",
     "output_type": "stream",
     "text": [
      "epoch: 9, [batch: 6577 / 13153], examples_per_second: 3608.5611, train_label_loss: 0.0000, \n"
     ]
    },
    {
     "name": "stdout",
     "output_type": "stream",
     "text": [
      "epoch: 9, [batch: 7892 / 13153], examples_per_second: 3608.8728, train_label_loss: 0.0637, \n"
     ]
    },
    {
     "name": "stdout",
     "output_type": "stream",
     "text": [
      "epoch: 9, [batch: 9207 / 13153], examples_per_second: 3600.8608, train_label_loss: 0.1745, \n"
     ]
    },
    {
     "name": "stdout",
     "output_type": "stream",
     "text": [
      "epoch: 9, [batch: 10522 / 13153], examples_per_second: 3607.9594, train_label_loss: 0.0000, \n"
     ]
    },
    {
     "name": "stdout",
     "output_type": "stream",
     "text": [
      "epoch: 9, [batch: 11837 / 13153], examples_per_second: 3569.5190, train_label_loss: 0.0000, \n"
     ]
    },
    {
     "name": "stdout",
     "output_type": "stream",
     "text": [
      "=============================================================\n",
      "epoch: 9, source_val_acc_label: 0.9858, target_val_acc_label: 0.2378, source_val_label_loss: 0.0753, target_val_label_loss: 2.5563, \n",
      "=============================================================\n"
     ]
    },
    {
     "name": "stdout",
     "output_type": "stream",
     "text": [
      "Patience (3) exhausted\n"
     ]
    }
   ],
   "source": [
    "###################################\n",
    "# train\n",
    "###################################\n",
    "jig = PTN_Train_Eval_Test_Jig(model, p.BEST_MODEL_PATH, p.device)\n",
    "\n",
    "jig.train(\n",
    "    train_iterable=datasets.source.processed.train,\n",
    "    source_val_iterable=datasets.source.processed.val,\n",
    "    target_val_iterable=datasets.target.processed.val,\n",
    "    num_epochs=p.n_epoch,\n",
    "    num_logs_per_epoch=p.NUM_LOGS_PER_EPOCH,\n",
    "    patience=p.patience,\n",
    "    optimizer=optimizer,\n",
    "    criteria_for_best=p.criteria_for_best,\n",
    ")"
   ]
  },
  {
   "cell_type": "code",
   "execution_count": 23,
   "id": "31e8fabf",
   "metadata": {
    "execution": {
     "iopub.execute_input": "2022-03-20T17:02:32.146566Z",
     "iopub.status.busy": "2022-03-20T17:02:32.146311Z",
     "iopub.status.idle": "2022-03-20T17:02:32.161616Z",
     "shell.execute_reply": "2022-03-20T17:02:32.161202Z"
    },
    "papermill": {
     "duration": 0.050763,
     "end_time": "2022-03-20T17:02:32.161711",
     "exception": false,
     "start_time": "2022-03-20T17:02:32.110948",
     "status": "completed"
    },
    "tags": []
   },
   "outputs": [],
   "source": [
    "total_experiment_time_secs = time.time() - start_time_secs"
   ]
  },
  {
   "cell_type": "code",
   "execution_count": 24,
   "id": "87b9595b",
   "metadata": {
    "execution": {
     "iopub.execute_input": "2022-03-20T17:02:32.236529Z",
     "iopub.status.busy": "2022-03-20T17:02:32.232469Z",
     "iopub.status.idle": "2022-03-20T17:04:53.644223Z",
     "shell.execute_reply": "2022-03-20T17:04:53.644652Z"
    },
    "papermill": {
     "duration": 141.446171,
     "end_time": "2022-03-20T17:04:53.644789",
     "exception": false,
     "start_time": "2022-03-20T17:02:32.198618",
     "status": "completed"
    },
    "tags": []
   },
   "outputs": [],
   "source": [
    "###################################\n",
    "# Evaluate the model\n",
    "###################################\n",
    "source_test_label_accuracy, source_test_label_loss = jig.test(datasets.source.processed.test)\n",
    "target_test_label_accuracy, target_test_label_loss = jig.test(datasets.target.processed.test)\n",
    "\n",
    "source_val_label_accuracy, source_val_label_loss = jig.test(datasets.source.processed.val)\n",
    "target_val_label_accuracy, target_val_label_loss = jig.test(datasets.target.processed.val)\n",
    "\n",
    "history = jig.get_history()\n",
    "\n",
    "total_epochs_trained = len(history[\"epoch_indices\"])\n",
    "\n",
    "val_dl = Iterable_Aggregator((datasets.source.original.val,datasets.target.original.val))\n",
    "\n",
    "confusion = ptn_confusion_by_domain_over_dataloader(model, p.device, val_dl)\n",
    "per_domain_accuracy = per_domain_accuracy_from_confusion(confusion)\n",
    "\n",
    "# Add a key to per_domain_accuracy for if it was a source domain\n",
    "for domain, accuracy in per_domain_accuracy.items():\n",
    "    per_domain_accuracy[domain] = {\n",
    "        \"accuracy\": accuracy,\n",
    "        \"source?\": domain in p.domains_source\n",
    "    }\n",
    "\n",
    "# Do an independent accuracy assesment JUST TO BE SURE!\n",
    "# _source_test_label_accuracy = independent_accuracy_assesment(model, datasets.source.processed.test, p.device)\n",
    "# _target_test_label_accuracy = independent_accuracy_assesment(model, datasets.target.processed.test, p.device)\n",
    "# _source_val_label_accuracy = independent_accuracy_assesment(model, datasets.source.processed.val, p.device)\n",
    "# _target_val_label_accuracy = independent_accuracy_assesment(model, datasets.target.processed.val, p.device)\n",
    "\n",
    "# assert(_source_test_label_accuracy == source_test_label_accuracy)\n",
    "# assert(_target_test_label_accuracy == target_test_label_accuracy)\n",
    "# assert(_source_val_label_accuracy == source_val_label_accuracy)\n",
    "# assert(_target_val_label_accuracy == target_val_label_accuracy)\n",
    "\n",
    "experiment = {\n",
    "    \"experiment_name\": p.experiment_name,\n",
    "    \"parameters\": dict(p),\n",
    "    \"results\": {\n",
    "        \"source_test_label_accuracy\": source_test_label_accuracy,\n",
    "        \"source_test_label_loss\": source_test_label_loss,\n",
    "        \"target_test_label_accuracy\": target_test_label_accuracy,\n",
    "        \"target_test_label_loss\": target_test_label_loss,\n",
    "        \"source_val_label_accuracy\": source_val_label_accuracy,\n",
    "        \"source_val_label_loss\": source_val_label_loss,\n",
    "        \"target_val_label_accuracy\": target_val_label_accuracy,\n",
    "        \"target_val_label_loss\": target_val_label_loss,\n",
    "        \"total_epochs_trained\": total_epochs_trained,\n",
    "        \"total_experiment_time_secs\": total_experiment_time_secs,\n",
    "        \"confusion\": confusion,\n",
    "        \"per_domain_accuracy\": per_domain_accuracy,\n",
    "    },\n",
    "    \"history\": history,\n",
    "    \"dataset_metrics\": get_dataset_metrics(datasets, \"ptn\"),\n",
    "}"
   ]
  },
  {
   "cell_type": "code",
   "execution_count": 25,
   "id": "54a21829",
   "metadata": {
    "execution": {
     "iopub.execute_input": "2022-03-20T17:04:53.720431Z",
     "iopub.status.busy": "2022-03-20T17:04:53.720177Z",
     "iopub.status.idle": "2022-03-20T17:04:53.849040Z",
     "shell.execute_reply": "2022-03-20T17:04:53.849453Z"
    },
    "papermill": {
     "duration": 0.16413,
     "end_time": "2022-03-20T17:04:53.849584",
     "exception": false,
     "start_time": "2022-03-20T17:04:53.685454",
     "status": "completed"
    },
    "tags": []
   },
   "outputs": [
    {
     "data": {
      "image/png": "[encoded data removed]",
      "text/plain": [
       "<Figure size 1080x504 with 1 Axes>"
      ]
     },
     "metadata": {
      "needs_background": "light"
     },
     "output_type": "display_data"
    }
   ],
   "source": [
    "ax = get_loss_curve(experiment)\n",
    "plt.show()"
   ]
  },
  {
   "cell_type": "code",
   "execution_count": 26,
   "id": "fd8a0f60",
   "metadata": {
    "execution": {
     "iopub.execute_input": "2022-03-20T17:04:53.922902Z",
     "iopub.status.busy": "2022-03-20T17:04:53.921983Z",
     "iopub.status.idle": "2022-03-20T17:04:54.066517Z",
     "shell.execute_reply": "2022-03-20T17:04:54.066170Z"
    },
    "papermill": {
     "duration": 0.179561,
     "end_time": "2022-03-20T17:04:54.066601",
     "exception": false,
     "start_time": "2022-03-20T17:04:53.887040",
     "status": "completed"
    },
    "tags": []
   },
   "outputs": [
    {
     "data": {
      "text/plain": [
       "<AxesSubplot:title={'center':'Results'}>"
      ]
     },
     "execution_count": 26,
     "metadata": {},
     "output_type": "execute_result"
    },
    {
     "data": {
      "image/png": "[encoded data removed]",
      "text/plain": [
       "<Figure size 1080x504 with 1 Axes>"
      ]
     },
     "metadata": {
      "needs_background": "light"
     },
     "output_type": "display_data"
    }
   ],
   "source": [
    "get_results_table(experiment)"
   ]
  },
  {
   "cell_type": "code",
   "execution_count": 27,
   "id": "cf8dc689",
   "metadata": {
    "execution": {
     "iopub.execute_input": "2022-03-20T17:04:54.144945Z",
     "iopub.status.busy": "2022-03-20T17:04:54.144688Z",
     "iopub.status.idle": "2022-03-20T17:04:54.296356Z",
     "shell.execute_reply": "2022-03-20T17:04:54.296780Z"
    },
    "papermill": {
     "duration": 0.18948,
     "end_time": "2022-03-20T17:04:54.296914",
     "exception": false,
     "start_time": "2022-03-20T17:04:54.107434",
     "status": "completed"
    },
    "tags": []
   },
   "outputs": [
    {
     "data": {
      "text/plain": [
       "<AxesSubplot:title={'center':'Per Domain Validation Accuracy'}, xlabel='domain'>"
      ]
     },
     "execution_count": 27,
     "metadata": {},
     "output_type": "execute_result"
    },
    {
     "data": {
      "image/png": "[encoded data removed]",
      "text/plain": [
       "<Figure size 1080x504 with 1 Axes>"
      ]
     },
     "metadata": {
      "needs_background": "light"
     },
     "output_type": "display_data"
    }
   ],
   "source": [
    "get_domain_accuracies(experiment)"
   ]
  },
  {
   "cell_type": "code",
   "execution_count": 28,
   "id": "a74ae082",
   "metadata": {
    "execution": {
     "iopub.execute_input": "2022-03-20T17:04:54.389990Z",
     "iopub.status.busy": "2022-03-20T17:04:54.389719Z",
     "iopub.status.idle": "2022-03-20T17:04:54.407061Z",
     "shell.execute_reply": "2022-03-20T17:04:54.407303Z"
    },
    "papermill": {
     "duration": 0.057105,
     "end_time": "2022-03-20T17:04:54.407384",
     "exception": false,
     "start_time": "2022-03-20T17:04:54.350279",
     "status": "completed"
    },
    "tags": []
   },
   "outputs": [
    {
     "name": "stdout",
     "output_type": "stream",
     "text": [
      "Source Test Label Accuracy: 0.9847289644012945 Target Test Label Accuracy: 0.25882161458333336\n",
      "Source Val Label Accuracy: 0.9852497255762898 Target Val Label Accuracy: 0.25634765625\n"
     ]
    }
   ],
   "source": [
    "print(\"Source Test Label Accuracy:\", experiment[\"results\"][\"source_test_label_accuracy\"], \"Target Test Label Accuracy:\", experiment[\"results\"][\"target_test_label_accuracy\"])\n",
    "print(\"Source Val Label Accuracy:\", experiment[\"results\"][\"source_val_label_accuracy\"], \"Target Val Label Accuracy:\", experiment[\"results\"][\"target_val_label_accuracy\"])"
   ]
  },
  {
   "cell_type": "code",
   "execution_count": 29,
   "id": "dacca602",
   "metadata": {
    "execution": {
     "iopub.execute_input": "2022-03-20T17:04:54.489394Z",
     "iopub.status.busy": "2022-03-20T17:04:54.488607Z",
     "iopub.status.idle": "2022-03-20T17:04:54.505709Z",
     "shell.execute_reply": "2022-03-20T17:04:54.505933Z"
    },
    "papermill": {
     "duration": 0.058265,
     "end_time": "2022-03-20T17:04:54.506014",
     "exception": false,
     "start_time": "2022-03-20T17:04:54.447749",
     "status": "completed"
    },
    "tags": [
     "experiment_json"
    ]
   },
   "outputs": [
    {
     "data": {
      "text/plain": [
       "'{\"experiment_name\": \"tl_3Av2:cores+wisig -> oracle.run1.framed\", \"parameters\": {\"experiment_name\": \"tl_3Av2:cores+wisig -> oracle.run1.framed\", \"device\": \"cuda\", \"lr\": 0.0001, \"x_shape\": [2, 200], \"n_shot\": 3, \"n_query\": 2, \"train_k_factor\": 3, \"val_k_factor\": 2, \"test_k_factor\": 2, \"torch_default_dtype\": \"torch.float32\", \"n_epoch\": 50, \"patience\": 3, \"criteria_for_best\": \"target_accuracy\", \"x_net\": [{\"class\": \"nnReshape\", \"kargs\": {\"shape\": [-1, 1, 2, 200]}}, {\"class\": \"Conv2d\", \"kargs\": {\"in_channels\": 1, \"out_channels\": 256, \"kernel_size\": [1, 7], \"bias\": false, \"padding\": [0, 3]}}, {\"class\": \"ReLU\", \"kargs\": {\"inplace\": true}}, {\"class\": \"BatchNorm2d\", \"kargs\": {\"num_features\": 256}}, {\"class\": \"Conv2d\", \"kargs\": {\"in_channels\": 256, \"out_channels\": 80, \"kernel_size\": [2, 7], \"bias\": true, \"padding\": [0, 3]}}, {\"class\": \"ReLU\", \"kargs\": {\"inplace\": true}}, {\"class\": \"BatchNorm2d\", \"kargs\": {\"num_features\": 80}}, {\"class\": \"Flatten\", \"kargs\": {}}, {\"class\": \"Linear\", \"kargs\": {\"in_features\": 16000, \"out_features\": 256}}, {\"class\": \"ReLU\", \"kargs\": {\"inplace\": true}}, {\"class\": \"BatchNorm1d\", \"kargs\": {\"num_features\": 256}}, {\"class\": \"Linear\", \"kargs\": {\"in_features\": 256, \"out_features\": 256}}], \"NUM_LOGS_PER_EPOCH\": 10, \"BEST_MODEL_PATH\": \"./best_model.pth\", \"n_way\": 16, \"datasets\": [{\"labels\": [\"1-10.\", \"1-11.\", \"1-15.\", \"1-16.\", \"1-17.\", \"1-18.\", \"1-19.\", \"10-4.\", \"10-7.\", \"11-1.\", \"11-14.\", \"11-17.\", \"11-20.\", \"11-7.\", \"13-20.\", \"13-8.\", \"14-10.\", \"14-11.\", \"14-14.\", \"14-7.\", \"15-1.\", \"15-20.\", \"16-1.\", \"16-16.\", \"17-10.\", \"17-11.\", \"17-2.\", \"19-1.\", \"19-16.\", \"19-19.\", \"19-20.\", \"19-3.\", \"2-10.\", \"2-11.\", \"2-17.\", \"2-18.\", \"2-20.\", \"2-3.\", \"2-4.\", \"2-5.\", \"2-6.\", \"2-7.\", \"2-8.\", \"3-13.\", \"3-18.\", \"3-3.\", \"4-1.\", \"4-10.\", \"4-11.\", \"4-19.\", \"5-5.\", \"6-15.\", \"7-10.\", \"7-14.\", \"8-18.\", \"8-20.\", \"8-3.\", \"8-8.\"], \"domains\": [1, 2, 3, 4, 5], \"num_examples_per_domain_per_label\": -1, \"pickle_path\": \"/mnt/wd500GB/CSC500/csc500-main/datasets/cores.stratified_ds.2022A.pkl\", \"source_or_target_dataset\": \"source\", \"x_transforms\": [\"unit_power\", \"take_200\"], \"episode_transforms\": [], \"domain_prefix\": \"C_\"}, {\"labels\": [\"1-10\", \"1-12\", \"1-14\", \"1-16\", \"1-18\", \"1-19\", \"1-8\", \"10-11\", \"10-17\", \"10-4\", \"10-7\", \"11-1\", \"11-10\", \"11-19\", \"11-20\", \"11-4\", \"11-7\", \"12-19\", \"12-20\", \"12-7\", \"13-14\", \"13-18\", \"13-19\", \"13-20\", \"13-3\", \"13-7\", \"14-10\", \"14-11\", \"14-12\", \"14-13\", \"14-14\", \"14-19\", \"14-20\", \"14-7\", \"14-8\", \"14-9\", \"15-1\", \"15-19\", \"15-6\", \"16-1\", \"16-16\", \"16-19\", \"16-20\", \"17-10\", \"17-11\", \"18-1\", \"18-10\", \"18-11\", \"18-12\", \"18-13\", \"18-14\", \"18-15\", \"18-16\", \"18-17\", \"18-19\", \"18-2\", \"18-20\", \"18-4\", \"18-5\", \"18-7\", \"18-8\", \"18-9\", \"19-1\", \"19-10\", \"19-11\", \"19-12\", \"19-13\", \"19-14\", \"19-15\", \"19-19\", \"19-2\", \"19-20\", \"19-3\", \"19-4\", \"19-6\", \"19-7\", \"19-8\", \"19-9\", \"2-1\", \"2-13\", \"2-15\", \"2-3\", \"2-4\", \"2-5\", \"2-6\", \"2-7\", \"2-8\", \"20-1\", \"20-12\", \"20-14\", \"20-15\", \"20-16\", \"20-18\", \"20-19\", \"20-20\", \"20-3\", \"20-4\", \"20-5\", \"20-7\", \"20-8\", \"3-1\", \"3-13\", \"3-18\", \"3-2\", \"3-8\", \"4-1\", \"4-10\", \"4-11\", \"5-1\", \"5-5\", \"6-1\", \"6-15\", \"6-6\", \"7-10\", \"7-11\", \"7-12\", \"7-13\", \"7-14\", \"7-7\", \"7-8\", \"7-9\", \"8-1\", \"8-13\", \"8-14\", \"8-18\", \"8-20\", \"8-3\", \"8-8\", \"9-1\", \"9-7\"], \"domains\": [1, 2, 3, 4], \"num_examples_per_domain_per_label\": -1, \"pickle_path\": \"/mnt/wd500GB/CSC500/csc500-main/datasets/wisig.node3-19.stratified_ds.2022A.pkl\", \"source_or_target_dataset\": \"source\", \"x_transforms\": [\"unit_power\", \"take_200\"], \"episode_transforms\": [], \"domain_prefix\": \"W_\"}, {\"labels\": [\"3123D52\", \"3123D65\", \"3123D79\", \"3123D80\", \"3123D54\", \"3123D70\", \"3123D7B\", \"3123D89\", \"3123D58\", \"3123D76\", \"3123D7D\", \"3123EFE\", \"3123D64\", \"3123D78\", \"3123D7E\", \"3124E4A\"], \"domains\": [32, 38, 8, 44, 14, 50, 20, 26], \"num_examples_per_domain_per_label\": 2000, \"pickle_path\": \"/mnt/wd500GB/CSC500/csc500-main/datasets/oracle.Run1_framed_2000Examples_stratified_ds.2022A.pkl\", \"source_or_target_dataset\": \"target\", \"x_transforms\": [\"unit_power\", \"take_200\", \"resample_20Msps_to_25Msps\"], \"episode_transforms\": [], \"domain_prefix\": \"O_\"}], \"seed\": 7, \"dataset_seed\": 7, \"domains_source\": [\"C_1\", \"C_2\", \"C_3\", \"C_4\", \"C_5\", \"W_1\", \"W_2\", \"W_3\", \"W_4\"], \"domains_target\": [\"O_32\", \"O_38\", \"O_8\", \"O_44\", \"O_14\", \"O_50\", \"O_20\", \"O_26\"]}, \"results\": {\"source_test_label_accuracy\": 0.9847289644012945, \"source_test_label_loss\": 0.07014863193035126, \"target_test_label_accuracy\": 0.25882161458333336, \"target_test_label_loss\": 2.256399631500244, \"source_val_label_accuracy\": 0.9852497255762898, \"source_val_label_loss\": 0.06822684407234192, \"target_val_label_accuracy\": 0.25634765625, \"target_val_label_loss\": 2.2660694122314453, \"total_epochs_trained\": 9, \"total_experiment_time_secs\": 3525.51038146019, \"confusion\": {\"W_4\": {\"71\": {\"71\": 103, \"105\": 1}, \"17\": {\"17\": 20}, \"105\": {\"105\": 82, \"12\": 1, \"98\": 2, \"1\": 2, \"43\": 2, \"40\": 3, \"88\": 1, \"111\": 1, \"126\": 1, \"3\": 1, \"87\": 2, \"27\": 1, \"36\": 1}, \"92\": {\"92\": 27, \"2\": 1}, \"100\": {\"100\": 20}, \"6\": {\"6\": 24}, \"36\": {\"36\": 124, \"3\": 1, \"1\": 1, \"24\": 2}, \"35\": {\"35\": 12}, \"63\": {\"63\": 16}, \"104\": {\"104\": 16}, \"114\": {\"114\": 124, \"113\": 2, \"3\": 1, \"105\": 1}, \"68\": {\"68\": 16}, \"109\": {\"109\": 114, \"96\": 1, \"27\": 1}, \"27\": {\"27\": 92, \"78\": 1, \"108\": 1, \"88\": 2, \"70\": 1, \"86\": 1, \"126\": 1, \"3\": 1}, \"79\": {\"79\": 16}, \"0\": {\"0\": 97, \"70\": 1, \"101\": 2, \"118\": 1, \"122\": 1, \"27\": 1, \"107\": 1, \"71\": 1, \"5\": 1}, \"28\": {\"28\": 19, \"108\": 1}, \"4\": {\"4\": 101, \"21\": 1, \"108\": 1, \"79\": 1}, \"106\": {\"106\": 98, \"21\": 1, \"39\": 2, \"108\": 1}, \"40\": {\"40\": 132, \"69\": 1, \"18\": 1}, \"127\": {\"127\": 106, \"71\": 1, \"27\": 1}, \"57\": {\"57\": 14, \"47\": 1, \"119\": 1}, \"60\": {\"60\": 31, \"110\": 1}, \"69\": {\"69\": 120, \"84\": 1, \"27\": 1, \"126\": 1, \"3\": 1}, \"84\": {\"84\": 128, \"30\": 1, \"78\": 1, \"44\": 1, \"118\": 1}, \"24\": {\"24\": 110, \"36\": 4, \"21\": 1, \"5\": 1, \"107\": 2, \"70\": 1, \"30\": 1}, \"94\": {\"24\": 1, \"94\": 85, \"12\": 1, \"126\": 1}, \"7\": {\"7\": 113, \"24\": 1, \"90\": 1, \"108\": 1, \"10\": 1, \"87\": 1, \"115\": 1, \"5\": 1}, \"96\": {\"96\": 17, \"91\": 1, \"77\": 1, \"109\": 1}, \"116\": {\"116\": 28}, \"47\": {\"47\": 7, \"7\": 1, \"127\": 2, \"65\": 1, \"105\": 1}, \"119\": {\"119\": 15, \"24\": 1}, \"74\": {\"74\": 15, \"113\": 1}, \"93\": {\"93\": 151, \"39\": 1}, \"2\": {\"2\": 28}, \"37\": {\"37\": 15, \"47\": 1}, \"15\": {\"15\": 125, \"26\": 1, \"5\": 2}, \"102\": {\"102\": 136}, \"87\": {\"87\": 114, \"71\": 1, \"126\": 1, \"43\": 3, \"122\": 1, \"105\": 2}, \"107\": {\"107\": 142, \"98\": 1, \"114\": 1}, \"61\": {\"61\": 14, \"91\": 1, \"21\": 1}, \"78\": {\"74\": 2, \"78\": 29, \"27\": 1, \"107\": 1, \"97\": 1, \"73\": 1, \"113\": 1}, \"9\": {\"9\": 28}, \"32\": {\"32\": 28}, \"14\": {\"14\": 111, \"31\": 1}, \"62\": {\"62\": 55, \"30\": 1, \"88\": 1, \"27\": 1, \"71\": 1, \"106\": 1}, \"1\": {\"24\": 2, \"1\": 98, \"0\": 1, \"8\": 1}, \"23\": {\"23\": 11, \"110\": 1, \"80\": 1, \"35\": 1, \"78\": 1, \"12\": 1}, \"95\": {\"95\": 31, \"24\": 1}, \"56\": {\"56\": 12}, \"91\": {\"91\": 23, \"85\": 1}, \"34\": {\"34\": 31, \"78\": 1}, \"25\": {\"25\": 16}, \"33\": {\"33\": 123, \"121\": 1}, \"16\": {\"16\": 118, \"69\": 1, \"39\": 1, \"118\": 1, \"18\": 1, \"2\": 1, \"90\": 1}, \"26\": {\"26\": 123, \"1\": 1, \"3\": 1, \"88\": 1}, \"5\": {\"5\": 130, \"8\": 1, \"93\": 1, \"15\": 1, \"108\": 1, \"26\": 1, \"3\": 1}, \"123\": {\"123\": 15, \"119\": 1}, \"8\": {\"8\": 118}, \"83\": {\"83\": 27, \"81\": 1}, \"125\": {\"125\": 134}, \"51\": {\"51\": 12, \"23\": 1, \"115\": 1, \"13\": 1, \"49\": 1}, \"22\": {\"22\": 16}, \"54\": {\"54\": 16}, \"66\": {\"66\": 16}, \"59\": {\"59\": 11, \"20\": 1}, \"111\": {\"111\": 126, \"5\": 1, \"11\": 1}, \"77\": {\"77\": 12}, \"103\": {\"103\": 16}, \"20\": {\"20\": 15, \"39\": 1}, \"124\": {\"124\": 118, \"90\": 1, \"70\": 1}, \"99\": {\"99\": 39, \"69\": 1}, \"120\": {\"110\": 1, \"120\": 18, \"0\": 1}, \"76\": {\"76\": 15, \"81\": 1}, \"110\": {\"110\": 112, \"14\": 1, \"65\": 1, \"36\": 2}, \"29\": {\"29\": 31, \"106\": 1}, \"118\": {\"118\": 103, \"67\": 1, \"71\": 1, \"106\": 1, \"97\": 1, \"122\": 1, \"123\": 1, \"78\": 1, \"8\": 1, \"11\": 1}, \"58\": {\"58\": 14, \"27\": 1, \"88\": 1}, \"13\": {\"13\": 15, \"119\": 1}, \"89\": {\"89\": 32}, \"31\": {\"31\": 15, \"95\": 1}, \"64\": {\"64\": 15, \"85\": 1}, \"65\": {\"65\": 12}, \"101\": {\"101\": 130, \"38\": 1, \"107\": 1}, \"126\": {\"126\": 115, \"111\": 1, \"0\": 1, \"39\": 1}, \"108\": {\"108\": 79, \"23\": 1, \"5\": 1, \"73\": 1, \"27\": 1, \"0\": 1, \"8\": 1, \"88\": 4, \"30\": 1, \"18\": 1, \"107\": 1}, \"45\": {\"45\": 16}, \"21\": {\"21\": 34, \"84\": 1, \"1\": 1, \"39\": 1, \"43\": 1, \"78\": 2}, \"30\": {\"30\": 74, \"24\": 1, \"5\": 1}, \"82\": {\"82\": 31, \"98\": 1}, \"85\": {\"85\": 28}, \"88\": {\"88\": 123, \"70\": 2, \"3\": 1, \"27\": 1, \"118\": 1, \"106\": 1, \"26\": 1, \"105\": 1, \"102\": 1}, \"41\": {\"41\": 15, \"98\": 1}, \"128\": {\"128\": 21, \"32\": 1, \"19\": 1, \"8\": 1}, \"39\": {\"39\": 95, \"3\": 1, \"110\": 1, \"118\": 1, \"122\": 1, \"116\": 1}, \"18\": {\"18\": 112, \"8\": 1, \"27\": 1, \"5\": 1, \"108\": 2, \"43\": 1, \"126\": 1, \"3\": 1}, \"113\": {\"113\": 122, \"8\": 2, \"3\": 2, \"0\": 1, \"70\": 1}, \"11\": {\"11\": 134, \"70\": 1, \"117\": 1, \"1\": 1, \"107\": 1}, \"43\": {\"43\": 116, \"27\": 1, \"10\": 1, \"84\": 1, \"105\": 1}, \"12\": {\"12\": 96, \"116\": 1, \"106\": 1, \"1\": 1, \"8\": 1}, \"122\": {\"122\": 80, \"3\": 1, \"126\": 2, \"115\": 1}, \"52\": {\"52\": 20}, \"44\": {\"44\": 62, \"65\": 1, \"3\": 1}, \"90\": {\"90\": 134}, \"112\": {\"112\": 16}, \"86\": {\"86\": 28}, \"3\": {\"3\": 114, \"78\": 1, \"1\": 1}, \"38\": {\"38\": 16}, \"121\": {\"121\": 32}, \"46\": {\"46\": 19, \"59\": 1}, \"70\": {\"70\": 122, \"117\": 1, \"90\": 1}, \"67\": {\"67\": 16}, \"53\": {\"53\": 16}, \"49\": {\"49\": 32}, \"42\": {\"42\": 28}, \"10\": {\"10\": 113, \"3\": 1, \"108\": 1, \"12\": 1, \"24\": 1, \"117\": 1}, \"50\": {\"50\": 16}, \"73\": {\"73\": 23, \"118\": 1}, \"115\": {\"115\": 16}, \"80\": {\"80\": 15, \"51\": 1}, \"19\": {\"19\": 26, \"48\": 1, \"0\": 1}, \"55\": {\"55\": 16}, \"72\": {\"72\": 31, \"51\": 1}, \"117\": {\"117\": 116}, \"81\": {\"81\": 33, \"98\": 1, \"113\": 1, \"78\": 1}, \"75\": {\"75\": 16}, \"98\": {\"98\": 115, \"30\": 1, \"14\": 1, \"3\": 1, \"1\": 1, \"32\": 1}, \"48\": {\"48\": 16}, \"129\": {\"129\": 27, \"89\": 1}, \"97\": {\"97\": 19, \"16\": 1}}, \"W_1\": {\"105\": {\"105\": 82, \"40\": 2}, \"100\": {\"100\": 16}, \"112\": {\"112\": 16}, \"123\": {\"123\": 16}, \"13\": {\"13\": 16}, \"81\": {\"81\": 28}, \"124\": {\"124\": 119, \"8\": 1}, \"122\": {\"122\": 88}, \"111\": {\"111\": 118, \"114\": 2}, \"93\": {\"93\": 155, \"94\": 1, \"114\": 1, \"87\": 1}, \"106\": {\"106\": 114, \"36\": 1, \"24\": 1, \"27\": 1, \"3\": 1}, \"113\": {\"113\": 122, \"109\": 1, \"16\": 1}, \"95\": {\"95\": 36}, \"87\": {\"87\": 105, \"16\": 1, \"105\": 1, \"5\": 1}, \"86\": {\"86\": 35, \"71\": 1}, \"67\": {\"67\": 16}, \"85\": {\"85\": 32}, \"82\": {\"82\": 36}, \"115\": {\"115\": 12}, \"7\": {\"7\": 142}, \"44\": {\"44\": 76}, \"65\": {\"65\": 11, \"74\": 1}, \"129\": {\"129\": 26, \"27\": 1, \"31\": 1}, \"42\": {\"42\": 28}, \"28\": {\"16\": 1, \"28\": 18, \"24\": 1}, \"0\": {\"0\": 82, \"27\": 1, \"23\": 1}, \"10\": {\"10\": 119, \"43\": 1}, \"76\": {\"76\": 15, \"36\": 1}, \"88\": {\"88\": 125, \"27\": 1}, \"29\": {\"29\": 28}, \"16\": {\"16\": 107, \"114\": 1}, \"41\": {\"41\": 16}, \"27\": {\"27\": 92}, \"33\": {\"33\": 118, \"32\": 1, \"21\": 1}, \"75\": {\"75\": 16}, \"48\": {\"48\": 12}, \"56\": {\"56\": 11, \"71\": 1}, \"9\": {\"9\": 31, \"102\": 1}, \"1\": {\"1\": 125, \"109\": 1}, \"39\": {\"39\": 104}, \"50\": {\"56\": 1, \"50\": 12, \"27\": 3}, \"99\": {\"99\": 23, \"39\": 1}, \"90\": {\"90\": 122}, \"45\": {\"45\": 11, \"21\": 1}, \"5\": {\"5\": 88}, \"128\": {\"128\": 24}, \"2\": {\"2\": 27, \"60\": 1, \"27\": 1, \"100\": 2, \"46\": 1}, \"53\": {\"53\": 20}, \"104\": {\"104\": 16}, \"32\": {\"32\": 31, \"58\": 1}, \"92\": {\"92\": 28}, \"78\": {\"129\": 1, \"78\": 13, \"16\": 1, \"110\": 1}, \"19\": {\"19\": 28}, \"120\": {\"120\": 19, \"121\": 1}, \"43\": {\"43\": 123, \"39\": 1, \"106\": 1, \"113\": 1, \"12\": 1, \"84\": 1}, \"74\": {\"74\": 16}, \"11\": {\"11\": 129, \"16\": 1}, \"26\": {\"26\": 129, \"70\": 1, \"39\": 1, \"21\": 1}, \"125\": {\"125\": 132}, \"64\": {\"64\": 16}, \"127\": {\"127\": 105, \"84\": 1, \"69\": 1, \"94\": 1}, \"83\": {\"83\": 25, \"57\": 1, \"12\": 1, \"13\": 1}, \"118\": {\"118\": 83, \"18\": 1}, \"103\": {\"103\": 15, \"104\": 1}, \"55\": {\"55\": 12}, \"110\": {\"110\": 126}, \"30\": {\"30\": 52}, \"51\": {\"51\": 16}, \"6\": {\"6\": 32}, \"96\": {\"96\": 17, \"12\": 1, \"126\": 2}, \"114\": {\"114\": 142, \"123\": 1, \"39\": 1}, \"69\": {\"69\": 107, \"108\": 1}, \"60\": {\"60\": 14, \"19\": 1, \"123\": 1}, \"94\": {\"94\": 92}, \"79\": {\"79\": 12}, \"126\": {\"126\": 132, \"12\": 1, \"21\": 1}, \"68\": {\"68\": 16}, \"72\": {\"72\": 32}, \"63\": {\"63\": 16}, \"22\": {\"22\": 15, \"96\": 1}, \"121\": {\"121\": 31, \"18\": 1}, \"71\": {\"71\": 101, \"85\": 2, \"102\": 2, \"24\": 1, \"43\": 1, \"16\": 1}, \"54\": {\"54\": 16}, \"102\": {\"102\": 119, \"114\": 1}, \"73\": {\"73\": 18, \"98\": 1, \"104\": 1}, \"38\": {\"38\": 16}, \"4\": {\"4\": 96, \"105\": 1, \"3\": 3}, \"52\": {\"52\": 20}, \"70\": {\"70\": 127, \"124\": 1}, \"91\": {\"91\": 26, \"58\": 2}, \"77\": {\"77\": 15, \"61\": 1}, \"20\": {\"20\": 16}, \"59\": {\"59\": 12}, \"40\": {\"40\": 134, \"109\": 2}, \"98\": {\"98\": 108}, \"46\": {\"13\": 1, \"46\": 8, \"94\": 1, \"30\": 2}, \"34\": {\"34\": 32}, \"24\": {\"24\": 91, \"3\": 1}, \"62\": {\"62\": 117, \"74\": 1, \"21\": 1, \"82\": 1}, \"14\": {\"14\": 96}, \"12\": {\"12\": 99, \"70\": 1, \"3\": 1, \"114\": 2, \"27\": 1}, \"84\": {\"84\": 131, \"18\": 2, \"114\": 1}, \"37\": {\"37\": 16}, \"97\": {\"97\": 20}, \"57\": {\"57\": 12}, \"49\": {\"49\": 20}, \"17\": {\"17\": 14, \"104\": 1, \"49\": 1}, \"109\": {\"109\": 106}, \"80\": {\"80\": 16}, \"66\": {\"66\": 16}, \"101\": {\"101\": 123, \"70\": 1}, \"89\": {\"89\": 34, \"21\": 1, \"84\": 1}, \"31\": {\"31\": 16}, \"21\": {\"46\": 1, \"21\": 35, \"3\": 1, \"73\": 1, \"94\": 1, \"108\": 1}, \"23\": {\"23\": 22, \"18\": 1, \"55\": 1}, \"25\": {\"25\": 15, \"16\": 1}, \"107\": {\"107\": 110, \"122\": 1, \"93\": 1}, \"3\": {\"3\": 85, \"71\": 1, \"0\": 1, \"42\": 1}, \"61\": {\"61\": 11, \"27\": 1}, \"117\": {\"117\": 125, \"114\": 1}, \"119\": {\"119\": 15, \"113\": 1}, \"58\": {\"58\": 12}, \"47\": {\"47\": 12}, \"116\": {\"116\": 29, \"82\": 2, \"33\": 1}, \"18\": {\"18\": 122, \"113\": 1, \"81\": 1}, \"36\": {\"36\": 119, \"101\": 1, \"114\": 1, \"71\": 1}, \"108\": {\"108\": 109, \"70\": 3}, \"15\": {\"15\": 103, \"24\": 1}, \"8\": {\"8\": 114}, \"35\": {\"35\": 12}}, \"C_5\": {\"26\": {\"26\": 24}, \"7\": {\"7\": 32}, \"56\": {\"56\": 142}, \"36\": {\"36\": 92}, \"47\": {\"47\": 100}, \"2\": {\"2\": 28}, \"15\": {\"15\": 152}, \"14\": {\"14\": 44}, \"27\": {\"27\": 146}, \"40\": {\"40\": 124}, \"49\": {\"49\": 36}, \"45\": {\"45\": 124}, \"46\": {\"46\": 136}, \"11\": {\"11\": 130}, \"30\": {\"30\": 112}, \"0\": {\"0\": 124}, \"10\": {\"10\": 68}, \"1\": {\"1\": 148}, \"42\": {\"42\": 38, \"6\": 1, \"52\": 1}, \"54\": {\"54\": 112}, \"55\": {\"55\": 152}, \"23\": {\"23\": 124}, \"25\": {\"25\": 152}, \"28\": {\"28\": 32}, \"32\": {\"32\": 32}, \"9\": {\"9\": 142}, \"39\": {\"39\": 20}, \"3\": {\"3\": 100}, \"29\": {\"29\": 118}, \"17\": {\"17\": 116}, \"35\": {\"35\": 36}, \"44\": {\"44\": 152}, \"5\": {\"5\": 128}, \"33\": {\"33\": 32}, \"34\": {\"34\": 36}, \"13\": {\"13\": 138}, \"41\": {\"41\": 28}, \"6\": {\"6\": 127, \"45\": 1}, \"51\": {\"51\": 138}, \"50\": {\"50\": 144}, \"37\": {\"37\": 24}, \"19\": {\"19\": 144}, \"57\": {\"57\": 132}, \"21\": {\"21\": 144}, \"24\": {\"24\": 80}, \"8\": {\"8\": 130}, \"12\": {\"12\": 96}, \"48\": {\"48\": 132}, \"43\": {\"43\": 150}, \"53\": {\"53\": 148}, \"38\": {\"38\": 32}, \"16\": {\"16\": 142}, \"22\": {\"22\": 27, \"3\": 1}, \"4\": {\"4\": 99, \"45\": 1}, \"18\": {\"18\": 64}, \"20\": {\"20\": 144}, \"52\": {\"52\": 140}, \"31\": {\"31\": 36}}, \"W_2\": {\"3\": {\"3\": 128, \"70\": 1, \"61\": 1, \"39\": 1, \"12\": 1}, \"127\": {\"127\": 119, \"110\": 1}, \"58\": {\"58\": 20}, \"114\": {\"114\": 111, \"10\": 1}, \"111\": {\"111\": 141, \"127\": 1, \"15\": 1, \"40\": 1}, \"105\": {\"105\": 131, \"16\": 1}, \"118\": {\"114\": 1, \"118\": 64, \"24\": 1, \"13\": 1, \"36\": 1}, \"23\": {\"23\": 44}, \"21\": {\"21\": 40, \"114\": 1, \"118\": 1, \"12\": 1, \"17\": 1, \"69\": 1, \"85\": 1, \"24\": 1, \"71\": 1}, \"20\": {\"20\": 15, \"21\": 1}, \"75\": {\"75\": 15, \"85\": 1}, \"86\": {\"86\": 32}, \"60\": {\"60\": 25, \"55\": 1, \"28\": 1, \"44\": 1}, \"69\": {\"69\": 129, \"5\": 2, \"26\": 2, \"43\": 1, \"117\": 1, \"94\": 1, \"39\": 1, \"8\": 1, \"70\": 2}, \"99\": {\"99\": 31, \"46\": 1}, \"14\": {\"14\": 40, \"116\": 2, \"36\": 1, \"129\": 1, \"92\": 1, \"71\": 1, \"113\": 1, \"16\": 1}, \"25\": {\"25\": 15, \"97\": 1}, \"52\": {\"52\": 20}, \"47\": {\"47\": 10, \"97\": 1, \"13\": 1}, \"48\": {\"48\": 19, \"101\": 1}, \"27\": {\"27\": 59, \"33\": 1, \"88\": 2, \"24\": 1, \"110\": 1, \"114\": 1, \"0\": 1, \"83\": 1, \"8\": 1}, \"78\": {\"78\": 45, \"10\": 1, \"110\": 1, \"19\": 1}, \"8\": {\"8\": 121, \"106\": 1}, \"90\": {\"90\": 158, \"16\": 1, \"61\": 1}, \"103\": {\"103\": 16}, \"120\": {\"120\": 20}, \"96\": {\"96\": 20}, \"30\": {\"30\": 101, \"8\": 1, \"93\": 1, \"27\": 1}, \"33\": {\"33\": 146}, \"35\": {\"35\": 12}, \"108\": {\"108\": 115, \"11\": 1}, \"112\": {\"112\": 16}, \"40\": {\"40\": 132, \"21\": 1, \"100\": 1, \"30\": 1, \"94\": 1, \"8\": 1, \"70\": 1, \"5\": 1, \"18\": 1}, \"102\": {\"102\": 113, \"30\": 1, \"122\": 1, \"24\": 1}, \"56\": {\"56\": 12}, \"93\": {\"93\": 135, \"114\": 1}, \"68\": {\"68\": 15, \"94\": 1}, \"70\": {\"70\": 120, \"88\": 2, \"16\": 1, \"107\": 1}, \"7\": {\"7\": 123, \"81\": 1}, \"87\": {\"87\": 103, \"28\": 1, \"2\": 1, \"3\": 1, \"86\": 1, \"107\": 1, \"16\": 2, \"40\": 1, \"70\": 1}, \"54\": {\"87\": 1, \"54\": 19}, \"71\": {\"71\": 95, \"88\": 2, \"36\": 1, \"106\": 1, \"2\": 1}, \"80\": {\"80\": 16}, \"18\": {\"18\": 121, \"16\": 1}, \"101\": {\"101\": 119, \"106\": 1, \"79\": 2}, \"92\": {\"92\": 27, \"71\": 1}, \"32\": {\"32\": 35, \"15\": 1}, \"128\": {\"128\": 23, \"30\": 1}, \"6\": {\"6\": 32}, \"51\": {\"6\": 1, \"51\": 18, \"10\": 1}, \"85\": {\"85\": 31, \"28\": 1}, \"46\": {\"46\": 16}, \"22\": {\"22\": 20}, \"1\": {\"1\": 117, \"78\": 1, \"71\": 1, \"16\": 1, \"87\": 1, \"69\": 1}, \"37\": {\"37\": 16}, \"44\": {\"44\": 97, \"73\": 1, \"106\": 1, \"23\": 1}, \"24\": {\"24\": 103, \"78\": 1, \"62\": 1, \"16\": 3, \"117\": 1, \"21\": 1, \"30\": 1, \"70\": 1}, \"9\": {\"9\": 32}, \"116\": {\"116\": 26, \"109\": 1, \"70\": 1}, \"64\": {\"64\": 16}, \"129\": {\"129\": 32}, \"42\": {\"42\": 25, \"44\": 1, \"46\": 2}, \"117\": {\"117\": 119, \"93\": 1}, \"88\": {\"88\": 118, \"70\": 1, \"122\": 1, \"71\": 1, \"72\": 1, \"126\": 1, \"16\": 1}, \"31\": {\"31\": 20}, \"113\": {\"113\": 71, \"63\": 1}, \"38\": {\"38\": 16}, \"83\": {\"83\": 37, \"49\": 1, \"98\": 1, \"30\": 1}, \"49\": {\"49\": 23, \"71\": 1}, \"97\": {\"97\": 15, \"15\": 2, \"94\": 1, \"127\": 2}, \"76\": {\"76\": 16}, \"29\": {\"29\": 32}, \"61\": {\"61\": 19, \"118\": 1}, \"125\": {\"125\": 147, \"121\": 1}, \"126\": {\"126\": 118, \"110\": 1, \"78\": 1}, \"55\": {\"55\": 16}, \"0\": {\"0\": 105, \"94\": 1, \"92\": 1, \"113\": 1}, \"15\": {\"15\": 117, \"3\": 1, \"40\": 1, \"7\": 1}, \"26\": {\"26\": 132, \"70\": 1, \"36\": 2, \"93\": 1, \"23\": 1, \"122\": 1}, \"63\": {\"63\": 20}, \"57\": {\"57\": 20}, \"39\": {\"39\": 110, \"27\": 1, \"1\": 1}, \"62\": {\"62\": 134, \"88\": 1, \"16\": 1, \"11\": 1, \"14\": 1, \"98\": 1, \"108\": 1}, \"82\": {\"82\": 32, \"83\": 1, \"49\": 1, \"87\": 1, \"53\": 1}, \"11\": {\"11\": 78, \"1\": 1, \"16\": 1}, \"4\": {\"4\": 87, \"53\": 1}, \"41\": {\"41\": 20}, \"72\": {\"72\": 27, \"14\": 1}, \"16\": {\"16\": 120, \"24\": 1, \"26\": 1, \"110\": 1, \"93\": 1}, \"81\": {\"81\": 22, \"122\": 1, \"92\": 1}, \"67\": {\"67\": 16}, \"123\": {\"123\": 16}, \"66\": {\"66\": 20}, \"36\": {\"36\": 119, \"129\": 2, \"128\": 1, \"43\": 1, \"5\": 1, \"93\": 1, \"117\": 1, \"88\": 1, \"69\": 1}, \"115\": {\"115\": 11, \"21\": 1}, \"77\": {\"77\": 16}, \"119\": {\"119\": 20}, \"65\": {\"65\": 19, \"129\": 1}, \"34\": {\"34\": 31, \"98\": 1}, \"107\": {\"107\": 60, \"71\": 1, \"5\": 1, \"113\": 1, \"39\": 1}, \"13\": {\"13\": 16}, \"110\": {\"25\": 1, \"110\": 36, \"68\": 1, \"8\": 1, \"106\": 1}, \"106\": {\"106\": 116, \"88\": 1, \"83\": 1}, \"89\": {\"89\": 36}, \"94\": {\"94\": 56, \"122\": 2, \"14\": 1, \"71\": 1, \"81\": 1, \"30\": 1, \"49\": 1, \"88\": 1}, \"98\": {\"98\": 109, \"121\": 1, \"122\": 1, \"21\": 1}, \"91\": {\"91\": 27, \"17\": 1}, \"84\": {\"84\": 89, \"43\": 2, \"88\": 1}, \"73\": {\"37\": 1, \"73\": 27}, \"104\": {\"104\": 17, \"8\": 2, \"59\": 1}, \"59\": {\"59\": 15, \"68\": 1}, \"74\": {\"74\": 16}, \"28\": {\"28\": 20}, \"95\": {\"95\": 35, \"52\": 1}, \"2\": {\"2\": 31, \"115\": 1}, \"5\": {\"5\": 110, \"8\": 1, \"26\": 1}, \"50\": {\"50\": 15, \"120\": 1}, \"109\": {\"109\": 95, \"21\": 1, \"8\": 1, \"88\": 1, \"12\": 1, \"39\": 1}, \"10\": {\"10\": 58, \"8\": 1, \"21\": 1}, \"45\": {\"45\": 14, \"87\": 1, \"21\": 1}, \"121\": {\"121\": 33, \"119\": 2, \"120\": 1}, \"124\": {\"124\": 110}, \"53\": {\"121\": 1, \"53\": 13, \"113\": 1, \"25\": 1}, \"79\": {\"79\": 16}, \"43\": {\"43\": 109, \"71\": 1, \"122\": 1, \"3\": 1, \"70\": 1, \"16\": 1}, \"122\": {\"122\": 129, \"88\": 2, \"70\": 4, \"71\": 1, \"39\": 1, \"5\": 1}, \"100\": {\"100\": 16}, \"19\": {\"19\": 28}, \"12\": {\"12\": 85, \"8\": 1, \"70\": 1, \"16\": 1}, \"17\": {\"17\": 15, \"92\": 1}}, \"C_1\": {\"41\": {\"41\": 24}, \"40\": {\"40\": 110}, \"45\": {\"45\": 138}, \"51\": {\"51\": 148}, \"5\": {\"5\": 154}, \"30\": {\"30\": 120}, \"42\": {\"42\": 40}, \"46\": {\"46\": 135, \"50\": 1}, \"48\": {\"48\": 134}, \"53\": {\"53\": 144}, \"47\": {\"47\": 152}, \"49\": {\"49\": 32}, \"36\": {\"36\": 64}, \"32\": {\"32\": 32}, \"34\": {\"34\": 24}, \"29\": {\"29\": 140}, \"35\": {\"35\": 36}, \"3\": {\"3\": 134}, \"16\": {\"16\": 140}, \"26\": {\"26\": 24}, \"57\": {\"57\": 144}, \"44\": {\"44\": 128}, \"0\": {\"0\": 152}, \"4\": {\"4\": 132}, \"31\": {\"31\": 28}, \"11\": {\"11\": 140}, \"6\": {\"6\": 96}, \"54\": {\"54\": 104}, \"17\": {\"17\": 64}, \"20\": {\"20\": 128}, \"13\": {\"13\": 150}, \"33\": {\"33\": 32}, \"24\": {\"24\": 108}, \"52\": {\"52\": 132}, \"2\": {\"2\": 36}, \"19\": {\"19\": 156}, \"39\": {\"39\": 28}, \"8\": {\"8\": 140}, \"21\": {\"21\": 124}, \"10\": {\"10\": 96}, \"37\": {\"37\": 32}, \"25\": {\"25\": 144}, \"27\": {\"27\": 130}, \"23\": {\"23\": 136}, \"1\": {\"1\": 100}, \"50\": {\"50\": 152}, \"12\": {\"12\": 116}, \"18\": {\"18\": 72}, \"38\": {\"38\": 24}, \"14\": {\"14\": 24}, \"56\": {\"56\": 142}, \"55\": {\"55\": 160}, \"9\": {\"9\": 138}, \"15\": {\"15\": 146}, \"28\": {\"28\": 28}, \"7\": {\"7\": 28}, \"43\": {\"43\": 136}, \"22\": {\"22\": 136}}, \"C_3\": {\"1\": {\"1\": 100}, \"9\": {\"9\": 124}, \"22\": {\"22\": 136}, \"43\": {\"43\": 136}, \"49\": {\"49\": 20}, \"50\": {\"50\": 138}, \"53\": {\"53\": 136}, \"10\": {\"10\": 64}, \"48\": {\"48\": 116}, \"8\": {\"8\": 138}, \"31\": {\"31\": 28}, \"56\": {\"56\": 134}, \"25\": {\"25\": 142}, \"28\": {\"28\": 28}, \"38\": {\"38\": 28}, \"5\": {\"5\": 116}, \"12\": {\"12\": 92}, \"6\": {\"6\": 88}, \"19\": {\"19\": 152}, \"26\": {\"26\": 24}, \"32\": {\"32\": 28}, \"33\": {\"33\": 28}, \"3\": {\"3\": 118}, \"51\": {\"51\": 128}, \"16\": {\"16\": 138}, \"46\": {\"46\": 140}, \"7\": {\"7\": 36}, \"47\": {\"47\": 92}, \"39\": {\"39\": 16}, \"40\": {\"40\": 136}, \"14\": {\"14\": 40}, \"37\": {\"37\": 28}, \"2\": {\"2\": 32}, \"21\": {\"21\": 120}, \"35\": {\"35\": 28}, \"54\": {\"54\": 100}, \"52\": {\"52\": 116}, \"29\": {\"29\": 118}, \"20\": {\"20\": 132}, \"18\": {\"18\": 84}, \"11\": {\"11\": 142}, \"0\": {\"0\": 124}, \"36\": {\"36\": 100}, \"17\": {\"17\": 108}, \"30\": {\"30\": 114}, \"42\": {\"42\": 28}, \"45\": {\"45\": 60}, \"4\": {\"4\": 148}, \"23\": {\"23\": 134}, \"13\": {\"13\": 128}, \"15\": {\"15\": 128}, \"57\": {\"57\": 124}, \"27\": {\"27\": 134}, \"44\": {\"44\": 88}, \"34\": {\"34\": 32}, \"41\": {\"41\": 28}, \"24\": {\"24\": 104}, \"55\": {\"55\": 118}}, \"C_4\": {\"52\": {\"52\": 116}, \"6\": {\"6\": 112}, \"14\": {\"14\": 16}, \"49\": {\"49\": 20}, \"0\": {\"0\": 80}, \"46\": {\"46\": 156}, \"41\": {\"41\": 36}, \"24\": {\"24\": 56}, \"25\": {\"25\": 152}, \"40\": {\"40\": 138}, \"38\": {\"38\": 40}, \"13\": {\"13\": 152}, \"9\": {\"9\": 108}, \"45\": {\"45\": 96}, \"43\": {\"43\": 144}, \"10\": {\"10\": 130}, \"15\": {\"15\": 128}, \"39\": {\"39\": 20}, \"4\": {\"4\": 132}, \"53\": {\"53\": 132}, \"1\": {\"1\": 40}, \"28\": {\"28\": 32}, \"54\": {\"54\": 108}, \"21\": {\"21\": 132}, \"7\": {\"7\": 24}, \"8\": {\"8\": 136}, \"42\": {\"42\": 32}, \"11\": {\"11\": 104}, \"33\": {\"33\": 36}, \"27\": {\"27\": 142}, \"19\": {\"19\": 144}, \"2\": {\"2\": 36}, \"3\": {\"3\": 120}, \"57\": {\"57\": 100}, \"20\": {\"20\": 112}, \"23\": {\"23\": 128}, \"22\": {\"22\": 128}, \"29\": {\"29\": 124}, \"36\": {\"36\": 92}, \"51\": {\"51\": 132}, \"31\": {\"31\": 28}, \"12\": {\"12\": 92}, \"56\": {\"56\": 138}, \"5\": {\"5\": 108}, \"35\": {\"35\": 40}, \"17\": {\"17\": 80}, \"32\": {\"32\": 24}, \"47\": {\"47\": 120}, \"18\": {\"18\": 107, \"3\": 1}, \"26\": {\"26\": 24}, \"50\": {\"50\": 122}, \"55\": {\"55\": 124}, \"34\": {\"34\": 24}, \"30\": {\"30\": 43, \"12\": 1}, \"37\": {\"37\": 24}, \"44\": {\"44\": 132}, \"48\": {\"48\": 118}, \"16\": {\"16\": 96}}, \"W_3\": {\"38\": {\"38\": 16}, \"88\": {\"88\": 108, \"37\": 1, \"11\": 1, \"28\": 1, \"36\": 1}, \"104\": {\"104\": 16}, \"11\": {\"11\": 138, \"70\": 1, \"107\": 1}, \"103\": {\"103\": 15, \"47\": 1}, \"124\": {\"124\": 116}, \"3\": {\"3\": 112, \"16\": 2, \"33\": 1, \"27\": 1}, \"74\": {\"74\": 15, \"25\": 1}, \"126\": {\"126\": 119, \"117\": 1, \"93\": 2}, \"123\": {\"123\": 16}, \"51\": {\"51\": 16}, \"14\": {\"14\": 80}, \"16\": {\"16\": 113, \"110\": 2, \"0\": 1}, \"22\": {\"22\": 16}, \"109\": {\"109\": 122}, \"27\": {\"27\": 94, \"36\": 1, \"93\": 1}, \"75\": {\"75\": 16}, \"66\": {\"66\": 16}, \"48\": {\"48\": 16}, \"6\": {\"6\": 29, \"34\": 2, \"58\": 1}, \"10\": {\"10\": 110, \"16\": 1, \"87\": 1}, \"99\": {\"99\": 35, \"35\": 1}, \"50\": {\"50\": 16}, \"54\": {\"54\": 16}, \"55\": {\"55\": 16}, \"53\": {\"53\": 20}, \"72\": {\"72\": 28}, \"64\": {\"64\": 20}, \"115\": {\"64\": 1, \"115\": 15}, \"23\": {\"23\": 29, \"52\": 1, \"114\": 1, \"41\": 1}, \"32\": {\"32\": 32}, \"15\": {\"15\": 101, \"16\": 2, \"39\": 1}, \"43\": {\"43\": 53, \"114\": 1, \"101\": 1, \"122\": 1}, \"114\": {\"114\": 121, \"106\": 1, \"27\": 1, \"12\": 1}, \"121\": {\"121\": 32}, \"79\": {\"79\": 12}, \"81\": {\"81\": 32}, \"8\": {\"8\": 127, \"108\": 1}, \"13\": {\"13\": 13, \"115\": 1, \"2\": 1, \"120\": 1}, \"90\": {\"90\": 156}, \"41\": {\"121\": 1, \"41\": 15}, \"107\": {\"107\": 136}, \"57\": {\"57\": 20}, \"33\": {\"33\": 119, \"92\": 1}, \"35\": {\"35\": 12}, \"29\": {\"29\": 32}, \"70\": {\"70\": 66, \"118\": 1, \"26\": 1, \"5\": 1, \"110\": 2, \"8\": 1}, \"42\": {\"43\": 1, \"42\": 25, \"5\": 1, \"49\": 1}, \"93\": {\"93\": 126}, \"86\": {\"86\": 28}, \"28\": {\"28\": 16}, \"1\": {\"1\": 105, \"102\": 1, \"101\": 1, \"125\": 1}, \"125\": {\"125\": 121, \"30\": 1, \"127\": 1, \"88\": 1}, \"69\": {\"69\": 81, \"114\": 1, \"117\": 1, \"70\": 1}, \"97\": {\"97\": 19, \"114\": 1}, \"117\": {\"117\": 112}, \"68\": {\"68\": 16}, \"30\": {\"30\": 82, \"21\": 1, \"8\": 1}, \"111\": {\"111\": 132}, \"47\": {\"47\": 12}, \"102\": {\"102\": 124}, \"65\": {\"65\": 12}, \"113\": {\"113\": 117, \"111\": 1, \"30\": 1, \"40\": 1}, \"36\": {\"36\": 113, \"71\": 1}, \"119\": {\"119\": 16}, \"46\": {\"46\": 16}, \"49\": {\"49\": 23, \"30\": 1}, \"0\": {\"0\": 115, \"8\": 1}, \"58\": {\"58\": 15, \"103\": 1}, \"63\": {\"63\": 16}, \"94\": {\"94\": 84}, \"17\": {\"23\": 1, \"94\": 1, \"114\": 1, \"104\": 1, \"93\": 1, \"17\": 6, \"16\": 1, \"116\": 1, \"86\": 1, \"112\": 1, \"127\": 1}, \"9\": {\"9\": 31, \"71\": 1}, \"87\": {\"87\": 120}, \"59\": {\"59\": 11, \"30\": 1}, \"105\": {\"105\": 120}, \"80\": {\"80\": 15, \"47\": 1}, \"120\": {\"120\": 19, \"81\": 1}, \"18\": {\"18\": 129, \"128\": 1, \"39\": 1, \"110\": 1}, \"78\": {\"78\": 16}, \"25\": {\"25\": 16}, \"19\": {\"19\": 32}, \"122\": {\"122\": 57, \"17\": 1, \"18\": 1, \"16\": 1}, \"39\": {\"39\": 106, \"126\": 2}, \"76\": {\"76\": 16}, \"89\": {\"89\": 28}, \"129\": {\"129\": 32}, \"26\": {\"26\": 96, \"117\": 1, \"53\": 1, \"70\": 1, \"108\": 1}, \"85\": {\"85\": 36}, \"71\": {\"71\": 67, \"5\": 1}, \"77\": {\"77\": 16}, \"128\": {\"128\": 32}, \"2\": {\"2\": 28}, \"56\": {\"56\": 10, \"4\": 2}, \"24\": {\"24\": 48}, \"101\": {\"23\": 1, \"101\": 49, \"2\": 1, \"124\": 1}, \"52\": {\"52\": 16}, \"84\": {\"84\": 107, \"124\": 1}, \"7\": {\"7\": 109, \"117\": 1, \"16\": 1, \"121\": 1}, \"82\": {\"82\": 28}, \"60\": {\"60\": 28}, \"45\": {\"114\": 1, \"45\": 13, \"18\": 1, \"40\": 1}, \"40\": {\"40\": 124}, \"20\": {\"20\": 16}, \"4\": {\"4\": 96}, \"116\": {\"116\": 28}, \"61\": {\"61\": 16}, \"5\": {\"5\": 110, \"93\": 1, \"126\": 1}, \"106\": {\"106\": 99, \"19\": 1}, \"12\": {\"12\": 103, \"73\": 1}, \"62\": {\"62\": 118, \"11\": 1, \"114\": 1}, \"34\": {\"34\": 31, \"110\": 1}, \"91\": {\"91\": 24}, \"112\": {\"112\": 15, \"8\": 1}, \"92\": {\"92\": 32}, \"95\": {\"95\": 32}, \"96\": {\"96\": 20}, \"127\": {\"127\": 104, \"70\": 1, \"9\": 1, \"39\": 1, \"93\": 1}, \"67\": {\"67\": 15, \"3\": 1}, \"83\": {\"83\": 24}, \"21\": {\"21\": 40, \"117\": 2, \"16\": 1, \"5\": 1, \"122\": 1, \"35\": 1, \"114\": 1, \"101\": 1}, \"98\": {\"98\": 123, \"44\": 1}, \"108\": {\"108\": 129, \"8\": 2, \"36\": 1}, \"31\": {\"31\": 20}, \"118\": {\"118\": 100}, \"110\": {\"110\": 92}, \"73\": {\"73\": 40}, \"44\": {\"44\": 71, \"90\": 1}, \"37\": {\"37\": 15, \"39\": 1}, \"100\": {\"100\": 16}}, \"C_2\": {\"11\": {\"11\": 130}, \"21\": {\"21\": 120}, \"19\": {\"19\": 140}, \"20\": {\"20\": 128}, \"9\": {\"9\": 140}, \"10\": {\"10\": 112}, \"37\": {\"37\": 36}, \"32\": {\"32\": 28}, \"3\": {\"3\": 92}, \"39\": {\"39\": 28}, \"45\": {\"45\": 128}, \"50\": {\"50\": 136}, \"40\": {\"40\": 140}, \"46\": {\"46\": 128}, \"12\": {\"12\": 92}, \"13\": {\"13\": 116}, \"47\": {\"47\": 132}, \"15\": {\"15\": 142}, \"54\": {\"54\": 108}, \"48\": {\"48\": 148}, \"23\": {\"23\": 142}, \"29\": {\"29\": 128}, \"38\": {\"38\": 20}, \"53\": {\"53\": 136}, \"27\": {\"27\": 150}, \"43\": {\"43\": 144}, \"35\": {\"35\": 32}, \"0\": {\"0\": 48}, \"52\": {\"52\": 124}, \"8\": {\"8\": 128}, \"24\": {\"24\": 96}, \"18\": {\"18\": 48}, \"25\": {\"25\": 148}, \"57\": {\"57\": 136}, \"55\": {\"55\": 134}, \"36\": {\"36\": 116}, \"17\": {\"17\": 104}, \"2\": {\"2\": 32}, \"34\": {\"34\": 28}, \"1\": {\"1\": 112}, \"51\": {\"51\": 136}, \"31\": {\"31\": 28}, \"49\": {\"49\": 24}, \"14\": {\"14\": 24}, \"33\": {\"33\": 28}, \"41\": {\"41\": 20}, \"28\": {\"28\": 28}, \"5\": {\"5\": 120}, \"16\": {\"16\": 150}, \"4\": {\"4\": 128}, \"22\": {\"22\": 136}, \"6\": {\"6\": 118}, \"30\": {\"30\": 124}, \"26\": {\"26\": 24}, \"56\": {\"56\": 142}, \"42\": {\"42\": 36}, \"44\": {\"44\": 100}, \"7\": {\"7\": 36}}, \"O_26\": {\"0\": {\"9\": 9, \"7\": 14, \"3\": 7, \"12\": 2, \"15\": 21, \"2\": 9, \"10\": 30, \"4\": 30, \"13\": 2, \"1\": 15, \"0\": 34, \"14\": 24, \"6\": 20, \"8\": 19, \"5\": 4}, \"4\": {\"6\": 11, \"1\": 35, \"15\": 16, \"14\": 24, \"7\": 21, \"8\": 23, \"5\": 6, \"4\": 19, \"2\": 12, \"0\": 25, \"3\": 18, \"10\": 18, \"9\": 7, \"13\": 5}, \"14\": {\"0\": 27, \"3\": 11, \"1\": 24, \"15\": 7, \"10\": 32, \"7\": 18, \"6\": 17, \"14\": 25, \"5\": 4, \"4\": 26, \"13\": 3, \"8\": 22, \"9\": 15, \"2\": 8, \"11\": 1}, \"12\": {\"14\": 7, \"12\": 128, \"9\": 13, \"8\": 7, \"11\": 22, \"6\": 25, \"0\": 9, \"10\": 11, \"15\": 9, \"1\": 1, \"4\": 3, \"13\": 3, \"2\": 1, \"7\": 1}, \"8\": {\"10\": 27, \"0\": 18, \"2\": 14, \"14\": 28, \"7\": 18, \"5\": 11, \"9\": 15, \"8\": 27, \"3\": 11, \"4\": 21, \"6\": 16, \"15\": 15, \"1\": 7, \"13\": 11, \"12\": 1}, \"7\": {\"0\": 16, \"6\": 8, \"2\": 12, \"4\": 21, \"3\": 25, \"14\": 16, \"10\": 22, \"5\": 10, \"13\": 10, \"7\": 29, \"15\": 17, \"9\": 8, \"8\": 25, \"1\": 21}, \"13\": {\"13\": 39, \"7\": 17, \"5\": 31, \"9\": 25, \"15\": 28, \"10\": 6, \"0\": 8, \"3\": 8, \"2\": 22, \"12\": 4, \"4\": 8, \"8\": 11, \"11\": 13, \"1\": 1, \"6\": 14, \"14\": 5}, \"5\": {\"13\": 26, \"4\": 6, \"10\": 10, \"5\": 42, \"7\": 13, \"0\": 6, \"8\": 15, \"9\": 25, \"15\": 21, \"2\": 30, \"6\": 9, \"3\": 17, \"14\": 7, \"1\": 11, \"12\": 1, \"11\": 1}, \"15\": {\"8\": 17, \"1\": 10, \"2\": 14, \"7\": 22, \"14\": 6, \"15\": 33, \"10\": 11, \"0\": 18, \"5\": 18, \"6\": 31, \"3\": 10, \"9\": 24, \"13\": 15, \"4\": 10, \"11\": 1}, \"10\": {\"1\": 24, \"9\": 14, \"0\": 15, \"8\": 26, \"13\": 5, \"15\": 15, \"14\": 25, \"4\": 29, \"7\": 19, \"2\": 9, \"10\": 28, \"5\": 2, \"6\": 18, \"3\": 10, \"12\": 1}, \"3\": {\"5\": 31, \"2\": 30, \"15\": 15, \"7\": 25, \"3\": 41, \"1\": 8, \"4\": 10, \"14\": 20, \"8\": 12, \"0\": 9, \"13\": 13, \"9\": 9, \"10\": 10, \"6\": 7}, \"9\": {\"9\": 35, \"6\": 18, \"2\": 17, \"13\": 20, \"10\": 17, \"0\": 8, \"5\": 22, \"7\": 19, \"15\": 24, \"3\": 16, \"8\": 16, \"14\": 11, \"1\": 4, \"4\": 10, \"12\": 2, \"11\": 1}, \"6\": {\"1\": 5, \"0\": 14, \"6\": 33, \"13\": 6, \"9\": 19, \"14\": 11, \"3\": 9, \"4\": 17, \"2\": 9, \"15\": 34, \"8\": 22, \"10\": 30, \"7\": 9, \"5\": 13, \"12\": 7, \"11\": 2}, \"1\": {\"4\": 31, \"1\": 42, \"8\": 24, \"9\": 7, \"10\": 23, \"0\": 18, \"5\": 4, \"14\": 31, \"7\": 24, \"15\": 10, \"3\": 12, \"2\": 7, \"6\": 7}, \"11\": {\"9\": 8, \"5\": 10, \"15\": 11, \"11\": 117, \"0\": 4, \"13\": 24, \"6\": 15, \"12\": 34, \"3\": 1, \"14\": 5, \"4\": 2, \"2\": 1, \"7\": 2, \"10\": 4, \"8\": 2}, \"2\": {\"14\": 12, \"3\": 30, \"13\": 14, \"15\": 13, \"10\": 12, \"7\": 30, \"5\": 27, \"9\": 19, \"8\": 19, \"2\": 31, \"1\": 13, \"4\": 9, \"6\": 6, \"0\": 4, \"11\": 1}}, \"O_44\": {\"1\": {\"12\": 64, \"3\": 37, \"1\": 54, \"10\": 39, \"2\": 26, \"7\": 13, \"9\": 5, \"13\": 1, \"6\": 1}, \"11\": {\"13\": 39, \"7\": 11, \"6\": 53, \"11\": 99, \"10\": 7, \"9\": 15, \"2\": 15, \"1\": 1}, \"3\": {\"12\": 42, \"2\": 16, \"1\": 56, \"3\": 90, \"10\": 12, \"7\": 13, \"4\": 3, \"9\": 5, \"13\": 1, \"6\": 1, \"14\": 1}, \"6\": {\"9\": 31, \"13\": 53, \"6\": 64, \"11\": 30, \"14\": 2, \"2\": 17, \"10\": 6, \"7\": 31, \"12\": 1, \"4\": 4, \"1\": 1}, \"7\": {\"2\": 62, \"13\": 18, \"9\": 24, \"12\": 15, \"10\": 14, \"7\": 49, \"11\": 10, \"1\": 14, \"6\": 23, \"3\": 10, \"4\": 1}, \"5\": {\"5\": 72, \"4\": 34, \"14\": 42, \"8\": 35, \"0\": 39, \"15\": 18}, \"2\": {\"7\": 43, \"13\": 10, \"2\": 44, \"10\": 34, \"9\": 24, \"3\": 18, \"11\": 7, \"12\": 24, \"6\": 16, \"1\": 20}, \"15\": {\"8\": 45, \"5\": 27, \"14\": 36, \"15\": 64, \"0\": 52, \"4\": 16}, \"10\": {\"7\": 24, \"12\": 47, \"1\": 32, \"10\": 55, \"2\": 55, \"6\": 3, \"11\": 3, \"9\": 13, \"3\": 8}, \"13\": {\"9\": 36, \"13\": 57, \"11\": 33, \"4\": 9, \"2\": 19, \"6\": 61, \"10\": 4, \"7\": 14, \"14\": 4, \"1\": 1, \"5\": 1, \"15\": 1}, \"8\": {\"0\": 68, \"15\": 42, \"8\": 84, \"14\": 15, \"5\": 25, \"4\": 6}, \"4\": {\"14\": 55, \"4\": 79, \"5\": 33, \"15\": 24, \"7\": 4, \"13\": 7, \"9\": 8, \"0\": 16, \"8\": 5, \"11\": 1, \"3\": 4, \"2\": 3, \"6\": 1}, \"9\": {\"6\": 32, \"13\": 31, \"2\": 38, \"9\": 55, \"7\": 41, \"10\": 12, \"3\": 8, \"1\": 3, \"11\": 6, \"14\": 4, \"4\": 7, \"12\": 3}, \"14\": {\"9\": 6, \"4\": 65, \"15\": 38, \"5\": 41, \"14\": 58, \"0\": 15, \"8\": 13, \"3\": 1, \"13\": 2, \"7\": 1}, \"0\": {\"0\": 57, \"8\": 57, \"15\": 54, \"14\": 17, \"5\": 46, \"4\": 9}, \"12\": {\"2\": 23, \"3\": 34, \"1\": 60, \"12\": 85, \"7\": 3, \"10\": 32, \"9\": 2, \"13\": 1}}, \"O_50\": {\"15\": {\"6\": 32, \"11\": 15, \"5\": 13, \"2\": 4, \"15\": 45, \"4\": 50, \"1\": 36, \"14\": 4, \"0\": 3, \"13\": 21, \"9\": 6, \"7\": 8, \"12\": 1, \"10\": 1, \"8\": 1}, \"4\": {\"4\": 49, \"8\": 2, \"5\": 29, \"7\": 17, \"13\": 21, \"1\": 36, \"15\": 26, \"6\": 23, \"11\": 19, \"2\": 2, \"10\": 4, \"14\": 4, \"0\": 3, \"12\": 1, \"9\": 4}, \"6\": {\"1\": 30, \"10\": 13, \"5\": 27, \"15\": 20, \"6\": 47, \"0\": 11, \"13\": 28, \"7\": 22, \"4\": 26, \"11\": 6, \"14\": 2, \"2\": 3, \"8\": 3, \"9\": 2}, \"2\": {\"11\": 3, \"2\": 88, \"1\": 13, \"0\": 58, \"14\": 31, \"15\": 3, \"6\": 7, \"12\": 6, \"13\": 4, \"4\": 5, \"10\": 12, \"5\": 6, \"8\": 1, \"7\": 2, \"9\": 1}, \"5\": {\"6\": 26, \"7\": 34, \"5\": 34, \"13\": 39, \"4\": 22, \"0\": 12, \"1\": 23, \"10\": 15, \"11\": 4, \"2\": 3, \"8\": 13, \"15\": 9, \"14\": 2, \"3\": 4}, \"9\": {\"11\": 54, \"9\": 87, \"12\": 50, \"1\": 10, \"15\": 13, \"14\": 20, \"5\": 1, \"4\": 3, \"0\": 1, \"6\": 1}, \"8\": {\"10\": 56, \"13\": 11, \"8\": 91, \"0\": 14, \"7\": 16, \"3\": 38, \"2\": 2, \"5\": 5, \"6\": 3, \"4\": 2, \"1\": 2}, \"12\": {\"14\": 44, \"12\": 100, \"9\": 45, \"11\": 30, \"15\": 1, \"1\": 9, \"2\": 7, \"4\": 1, \"6\": 1, \"0\": 1, \"5\": 1}, \"10\": {\"8\": 33, \"0\": 36, \"10\": 52, \"1\": 6, \"2\": 15, \"7\": 25, \"6\": 11, \"13\": 26, \"5\": 22, \"3\": 5, \"4\": 6, \"15\": 1, \"14\": 2}, \"1\": {\"4\": 26, \"1\": 49, \"6\": 19, \"15\": 32, \"0\": 11, \"9\": 7, \"2\": 8, \"10\": 7, \"11\": 28, \"5\": 14, \"13\": 18, \"14\": 9, \"7\": 9, \"12\": 3}, \"0\": {\"8\": 23, \"14\": 8, \"1\": 15, \"7\": 5, \"0\": 60, \"6\": 4, \"2\": 43, \"10\": 35, \"12\": 1, \"13\": 18, \"15\": 3, \"5\": 16, \"4\": 5, \"11\": 3, \"3\": 1}, \"3\": {\"8\": 65, \"7\": 14, \"3\": 120, \"10\": 19, \"5\": 8, \"13\": 12, \"0\": 2}, \"13\": {\"1\": 15, \"7\": 46, \"13\": 28, \"4\": 18, \"5\": 34, \"6\": 32, \"10\": 29, \"0\": 15, \"8\": 9, \"3\": 3, \"15\": 6, \"2\": 4, \"11\": 1}, \"11\": {\"11\": 54, \"12\": 29, \"15\": 29, \"9\": 40, \"14\": 38, \"5\": 2, \"6\": 5, \"1\": 29, \"2\": 3, \"4\": 9, \"13\": 2}, \"7\": {\"7\": 50, \"10\": 24, \"5\": 38, \"13\": 39, \"6\": 33, \"4\": 16, \"3\": 4, \"15\": 7, \"0\": 14, \"1\": 6, \"8\": 9}, \"14\": {\"12\": 44, \"0\": 5, \"14\": 73, \"1\": 20, \"11\": 35, \"15\": 15, \"2\": 14, \"9\": 19, \"5\": 2, \"6\": 5, \"4\": 7, \"13\": 1}}, \"O_38\": {\"15\": {\"6\": 10, \"8\": 22, \"15\": 64, \"9\": 3, \"7\": 9, \"5\": 13, \"13\": 31, \"10\": 15, \"2\": 31, \"1\": 27, \"0\": 14, \"3\": 1}, \"11\": {\"10\": 25, \"2\": 9, \"11\": 99, \"12\": 20, \"14\": 74, \"4\": 7, \"7\": 1, \"0\": 2, \"13\": 3}, \"10\": {\"13\": 26, \"7\": 25, \"4\": 4, \"0\": 22, \"8\": 22, \"14\": 18, \"2\": 21, \"10\": 44, \"5\": 20, \"15\": 17, \"12\": 7, \"11\": 11, \"6\": 2, \"1\": 1}, \"14\": {\"14\": 100, \"2\": 35, \"11\": 56, \"10\": 22, \"12\": 13, \"13\": 6, \"15\": 7, \"8\": 1}, \"6\": {\"6\": 78, \"9\": 58, \"3\": 4, \"8\": 20, \"1\": 29, \"5\": 26, \"0\": 4, \"13\": 6, \"7\": 8, \"10\": 2, \"15\": 5}, \"4\": {\"4\": 147, \"0\": 4, \"12\": 63, \"10\": 5, \"11\": 2, \"7\": 15, \"14\": 2, \"2\": 1, \"8\": 1}, \"13\": {\"15\": 46, \"1\": 22, \"13\": 46, \"8\": 24, \"9\": 3, \"14\": 6, \"0\": 16, \"5\": 20, \"6\": 9, \"7\": 4, \"2\": 23, \"10\": 20, \"3\": 1}, \"3\": {\"9\": 54, \"8\": 13, \"0\": 28, \"5\": 18, \"6\": 16, \"3\": 89, \"7\": 18, \"13\": 2, \"1\": 2}, \"7\": {\"7\": 81, \"5\": 29, \"9\": 8, \"10\": 19, \"8\": 34, \"0\": 39, \"3\": 11, \"15\": 6, \"1\": 1, \"6\": 6, \"13\": 3, \"14\": 1, \"12\": 1, \"4\": 1}, \"8\": {\"10\": 15, \"5\": 47, \"7\": 28, \"13\": 19, \"9\": 7, \"8\": 40, \"6\": 11, \"15\": 25, \"0\": 32, \"1\": 9, \"12\": 1, \"2\": 5, \"3\": 1}, \"1\": {\"15\": 36, \"1\": 83, \"13\": 21, \"6\": 33, \"0\": 4, \"8\": 28, \"5\": 17, \"9\": 10, \"2\": 5, \"7\": 2, \"10\": 1}, \"5\": {\"3\": 8, \"6\": 22, \"8\": 32, \"7\": 18, \"13\": 29, \"15\": 22, \"0\": 24, \"5\": 45, \"9\": 17, \"10\": 7, \"2\": 5, \"1\": 10, \"14\": 1}, \"0\": {\"7\": 41, \"8\": 42, \"0\": 46, \"10\": 19, \"5\": 34, \"2\": 2, \"6\": 6, \"13\": 10, \"3\": 11, \"15\": 13, \"9\": 7, \"12\": 5, \"4\": 2, \"1\": 2}, \"2\": {\"2\": 77, \"14\": 39, \"1\": 10, \"13\": 38, \"8\": 6, \"10\": 15, \"15\": 33, \"0\": 2, \"11\": 13, \"7\": 1, \"12\": 2, \"5\": 4}, \"12\": {\"12\": 162, \"4\": 36, \"11\": 11, \"14\": 15, \"8\": 3, \"0\": 4, \"2\": 2, \"10\": 4, \"13\": 1, \"7\": 1, \"15\": 1}, \"9\": {\"3\": 19, \"9\": 85, \"5\": 20, \"6\": 77, \"15\": 9, \"1\": 8, \"0\": 4, \"7\": 4, \"8\": 9, \"13\": 4, \"10\": 1}}, \"O_20\": {\"10\": {\"8\": 17, \"14\": 23, \"4\": 27, \"2\": 9, \"3\": 21, \"6\": 26, \"13\": 3, \"9\": 11, \"5\": 10, \"7\": 23, \"11\": 2, \"15\": 6, \"10\": 37, \"12\": 15, \"1\": 7, \"0\": 3}, \"7\": {\"6\": 16, \"8\": 15, \"7\": 33, \"9\": 20, \"5\": 18, \"15\": 13, \"2\": 17, \"13\": 12, \"4\": 16, \"3\": 8, \"0\": 11, \"12\": 17, \"1\": 17, \"10\": 11, \"11\": 8, \"14\": 8}, \"4\": {\"8\": 19, \"0\": 14, \"6\": 21, \"14\": 22, \"4\": 33, \"5\": 20, \"9\": 12, \"10\": 19, \"3\": 20, \"7\": 20, \"11\": 1, \"12\": 13, \"15\": 4, \"1\": 12, \"2\": 5, \"13\": 5}, \"13\": {\"13\": 34, \"0\": 20, \"12\": 16, \"15\": 22, \"3\": 19, \"1\": 22, \"10\": 1, \"9\": 20, \"14\": 3, \"5\": 15, \"7\": 22, \"8\": 10, \"4\": 6, \"11\": 8, \"2\": 16, \"6\": 6}, \"1\": {\"13\": 14, \"7\": 18, \"15\": 26, \"4\": 18, \"9\": 22, \"2\": 13, \"0\": 17, \"3\": 12, \"8\": 6, \"5\": 27, \"1\": 33, \"12\": 20, \"6\": 7, \"10\": 5, \"14\": 2}, \"0\": {\"8\": 13, \"12\": 12, \"13\": 16, \"0\": 39, \"5\": 25, \"15\": 27, \"3\": 21, \"14\": 7, \"1\": 23, \"9\": 8, \"7\": 18, \"6\": 7, \"2\": 5, \"4\": 15, \"10\": 4}, \"12\": {\"12\": 25, \"5\": 19, \"2\": 15, \"3\": 20, \"0\": 10, \"9\": 31, \"1\": 21, \"15\": 9, \"8\": 12, \"14\": 8, \"6\": 10, \"13\": 11, \"4\": 13, \"10\": 9, \"7\": 20, \"11\": 7}, \"5\": {\"3\": 30, \"12\": 23, \"15\": 17, \"9\": 23, \"7\": 11, \"4\": 11, \"0\": 28, \"8\": 9, \"10\": 8, \"2\": 16, \"1\": 26, \"5\": 20, \"13\": 9, \"6\": 6, \"11\": 1, \"14\": 2}, \"6\": {\"14\": 26, \"10\": 26, \"6\": 40, \"7\": 23, \"4\": 18, \"9\": 13, \"2\": 14, \"3\": 11, \"8\": 28, \"11\": 3, \"13\": 2, \"12\": 11, \"1\": 8, \"15\": 6, \"0\": 5, \"5\": 6}, \"2\": {\"3\": 15, \"12\": 25, \"14\": 4, \"2\": 31, \"7\": 22, \"4\": 13, \"9\": 23, \"6\": 6, \"8\": 9, \"5\": 15, \"13\": 19, \"1\": 22, \"0\": 14, \"10\": 5, \"15\": 9, \"11\": 8}, \"8\": {\"14\": 27, \"1\": 11, \"0\": 21, \"12\": 14, \"9\": 17, \"8\": 21, \"2\": 10, \"10\": 12, \"6\": 19, \"5\": 20, \"4\": 23, \"7\": 21, \"3\": 16, \"15\": 5, \"13\": 3}, \"11\": {\"11\": 91, \"3\": 6, \"6\": 20, \"0\": 5, \"7\": 12, \"2\": 26, \"12\": 5, \"9\": 23, \"13\": 23, \"4\": 5, \"1\": 5, \"8\": 7, \"15\": 2, \"5\": 4, \"10\": 2, \"14\": 4}, \"9\": {\"6\": 15, \"13\": 23, \"11\": 2, \"7\": 19, \"5\": 18, \"1\": 15, \"4\": 15, \"10\": 10, \"3\": 23, \"2\": 28, \"0\": 11, \"12\": 18, \"8\": 8, \"9\": 21, \"15\": 7, \"14\": 7}, \"14\": {\"14\": 43, \"8\": 26, \"2\": 9, \"7\": 19, \"10\": 34, \"4\": 21, \"6\": 30, \"0\": 11, \"3\": 13, \"9\": 7, \"1\": 6, \"12\": 7, \"15\": 2, \"11\": 2, \"5\": 6, \"13\": 4}, \"15\": {\"13\": 32, \"9\": 20, \"1\": 17, \"15\": 39, \"12\": 15, \"10\": 4, \"2\": 18, \"7\": 13, \"0\": 21, \"5\": 23, \"6\": 5, \"8\": 3, \"4\": 10, \"3\": 17, \"11\": 1, \"14\": 2}, \"3\": {\"10\": 18, \"13\": 14, \"14\": 7, \"9\": 19, \"0\": 9, \"2\": 28, \"1\": 17, \"4\": 13, \"5\": 13, \"3\": 21, \"7\": 25, \"12\": 19, \"8\": 8, \"15\": 12, \"11\": 5, \"6\": 12}}, \"O_14\": {\"14\": {\"4\": 23, \"2\": 29, \"5\": 11, \"7\": 2, \"13\": 30, \"6\": 20, \"14\": 45, \"10\": 16, \"3\": 30, \"0\": 23, \"11\": 5, \"1\": 5, \"8\": 1}, \"0\": {\"0\": 57, \"3\": 35, \"14\": 22, \"8\": 5, \"6\": 4, \"1\": 7, \"5\": 5, \"11\": 43, \"2\": 5, \"10\": 32, \"4\": 7, \"12\": 5, \"13\": 2, \"9\": 11}, \"4\": {\"15\": 7, \"5\": 31, \"3\": 33, \"1\": 30, \"4\": 45, \"7\": 13, \"10\": 11, \"0\": 10, \"14\": 12, \"6\": 11, \"8\": 4, \"2\": 20, \"13\": 12, \"11\": 1}, \"11\": {\"10\": 31, \"11\": 76, \"9\": 47, \"0\": 53, \"12\": 11, \"14\": 5, \"3\": 12, \"8\": 2, \"4\": 1, \"5\": 1, \"2\": 1}, \"13\": {\"13\": 54, \"6\": 53, \"14\": 27, \"2\": 35, \"3\": 14, \"5\": 11, \"4\": 18, \"15\": 10, \"10\": 4, \"1\": 4, \"7\": 9, \"0\": 1}, \"9\": {\"3\": 5, \"11\": 47, \"8\": 13, \"12\": 51, \"9\": 88, \"10\": 8, \"0\": 28}, \"3\": {\"4\": 36, \"0\": 26, \"3\": 33, \"2\": 22, \"5\": 26, \"1\": 16, \"10\": 26, \"14\": 20, \"11\": 5, \"6\": 11, \"9\": 3, \"7\": 5, \"8\": 3, \"13\": 8}, \"6\": {\"2\": 28, \"3\": 20, \"7\": 3, \"14\": 45, \"6\": 54, \"10\": 6, \"15\": 4, \"13\": 44, \"4\": 17, \"5\": 14, \"1\": 3, \"0\": 2}, \"1\": {\"10\": 4, \"1\": 70, \"7\": 19, \"4\": 38, \"2\": 9, \"8\": 15, \"5\": 38, \"3\": 21, \"6\": 5, \"15\": 11, \"14\": 6, \"0\": 2, \"13\": 2}, \"5\": {\"5\": 43, \"14\": 10, \"3\": 13, \"1\": 33, \"4\": 40, \"6\": 10, \"7\": 20, \"2\": 33, \"13\": 12, \"15\": 15, \"8\": 5, \"0\": 3, \"11\": 1, \"10\": 2}, \"12\": {\"9\": 79, \"12\": 108, \"0\": 13, \"11\": 35, \"10\": 3, \"8\": 2}, \"10\": {\"0\": 30, \"10\": 61, \"5\": 10, \"14\": 25, \"1\": 10, \"3\": 39, \"11\": 17, \"4\": 14, \"2\": 12, \"13\": 9, \"9\": 4, \"6\": 6, \"7\": 1, \"8\": 1, \"12\": 1}, \"8\": {\"0\": 13, \"9\": 19, \"1\": 22, \"8\": 114, \"5\": 16, \"11\": 6, \"10\": 7, \"3\": 19, \"4\": 13, \"2\": 2, \"7\": 2, \"14\": 4, \"12\": 3}, \"7\": {\"7\": 80, \"15\": 61, \"13\": 7, \"3\": 10, \"2\": 7, \"4\": 17, \"1\": 15, \"5\": 30, \"8\": 3, \"6\": 6, \"14\": 3, \"0\": 1}, \"15\": {\"2\": 14, \"15\": 91, \"5\": 13, \"13\": 18, \"7\": 64, \"6\": 15, \"4\": 10, \"1\": 13, \"14\": 1, \"3\": 1}, \"2\": {\"4\": 25, \"0\": 10, \"5\": 23, \"13\": 41, \"6\": 23, \"14\": 30, \"10\": 10, \"3\": 12, \"15\": 7, \"2\": 32, \"7\": 12, \"11\": 5, \"1\": 9, \"8\": 1}}, \"O_32\": {\"11\": {\"14\": 48, \"11\": 83, \"13\": 9, \"7\": 32, \"8\": 18, \"2\": 5, \"3\": 7, \"5\": 20, \"0\": 12, \"4\": 6}, \"1\": {\"10\": 99, \"1\": 132, \"6\": 9}, \"2\": {\"0\": 28, \"4\": 49, \"13\": 17, \"7\": 33, \"2\": 64, \"11\": 6, \"8\": 8, \"5\": 20, \"14\": 12, \"9\": 1, \"3\": 2}, \"0\": {\"0\": 38, \"2\": 23, \"4\": 29, \"14\": 27, \"7\": 24, \"5\": 16, \"8\": 28, \"13\": 33, \"3\": 7, \"11\": 14, \"9\": 1}, \"3\": {\"14\": 14, \"3\": 86, \"13\": 31, \"8\": 50, \"4\": 3, \"15\": 6, \"11\": 14, \"0\": 8, \"5\": 21, \"7\": 6, \"2\": 1}, \"8\": {\"5\": 28, \"13\": 33, \"11\": 13, \"8\": 43, \"14\": 19, \"4\": 21, \"3\": 37, \"0\": 19, \"7\": 20, \"2\": 5, \"15\": 2}, \"12\": {\"12\": 146, \"9\": 51, \"6\": 33, \"10\": 9, \"1\": 1}, \"5\": {\"13\": 28, \"5\": 45, \"0\": 18, \"11\": 19, \"7\": 37, \"3\": 17, \"8\": 23, \"14\": 14, \"2\": 14, \"4\": 24, \"15\": 1}, \"15\": {\"15\": 194, \"3\": 19, \"8\": 15, \"13\": 6, \"5\": 2, \"7\": 1, \"0\": 2, \"11\": 1}, \"7\": {\"14\": 32, \"8\": 22, \"3\": 11, \"5\": 22, \"0\": 15, \"2\": 31, \"7\": 33, \"13\": 23, \"11\": 21, \"4\": 30}, \"4\": {\"4\": 47, \"13\": 27, \"8\": 24, \"5\": 22, \"2\": 30, \"7\": 32, \"9\": 2, \"14\": 16, \"0\": 27, \"11\": 12, \"3\": 1}, \"14\": {\"14\": 50, \"5\": 22, \"4\": 12, \"11\": 60, \"7\": 38, \"8\": 11, \"2\": 9, \"0\": 22, \"3\": 5, \"13\": 11}, \"10\": {\"10\": 150, \"1\": 67, \"6\": 8, \"12\": 15}, \"6\": {\"6\": 165, \"12\": 38, \"10\": 21, \"9\": 10, \"1\": 6}, \"13\": {\"5\": 19, \"3\": 17, \"2\": 10, \"7\": 19, \"4\": 30, \"13\": 50, \"0\": 26, \"14\": 17, \"8\": 41, \"11\": 10, \"15\": 1}, \"9\": {\"12\": 42, \"9\": 149, \"6\": 7, \"2\": 16, \"0\": 10, \"4\": 10, \"14\": 1, \"13\": 3, \"5\": 2}}, \"O_8\": {\"9\": {\"11\": 2, \"9\": 131, \"13\": 16, \"7\": 5, \"10\": 28, \"14\": 13, \"5\": 21, \"0\": 7, \"4\": 7, \"1\": 9, \"6\": 1}, \"11\": {\"1\": 45, \"11\": 45, \"10\": 17, \"14\": 16, \"4\": 24, \"13\": 10, \"15\": 13, \"5\": 28, \"6\": 9, \"8\": 18, \"7\": 9, \"12\": 1, \"0\": 5}, \"8\": {\"8\": 28, \"15\": 28, \"14\": 13, \"2\": 6, \"5\": 13, \"7\": 22, \"11\": 20, \"12\": 19, \"6\": 21, \"4\": 12, \"10\": 14, \"13\": 12, \"1\": 21, \"3\": 6, \"0\": 5}, \"4\": {\"4\": 31, \"14\": 28, \"10\": 27, \"13\": 24, \"7\": 21, \"6\": 22, \"0\": 21, \"8\": 20, \"15\": 11, \"12\": 4, \"1\": 9, \"11\": 6, \"5\": 12, \"3\": 2, \"2\": 2}, \"13\": {\"4\": 24, \"7\": 18, \"10\": 29, \"6\": 28, \"0\": 32, \"8\": 4, \"14\": 27, \"13\": 35, \"15\": 9, \"1\": 13, \"11\": 7, \"9\": 1, \"5\": 9, \"3\": 2, \"2\": 2}, \"14\": {\"11\": 17, \"0\": 21, \"2\": 3, \"14\": 22, \"15\": 10, \"13\": 17, \"8\": 16, \"1\": 15, \"10\": 34, \"7\": 19, \"4\": 26, \"6\": 18, \"5\": 19, \"12\": 3}, \"2\": {\"2\": 54, \"12\": 29, \"8\": 7, \"3\": 57, \"14\": 5, \"0\": 14, \"13\": 10, \"6\": 16, \"11\": 2, \"15\": 19, \"7\": 17, \"10\": 5, \"4\": 5}, \"3\": {\"2\": 42, \"12\": 35, \"3\": 61, \"7\": 20, \"15\": 27, \"10\": 2, \"13\": 7, \"14\": 5, \"8\": 14, \"0\": 13, \"6\": 10, \"4\": 4}, \"1\": {\"1\": 35, \"0\": 4, \"5\": 29, \"7\": 7, \"11\": 45, \"13\": 12, \"10\": 31, \"8\": 10, \"4\": 21, \"15\": 11, \"14\": 17, \"6\": 15, \"12\": 2, \"3\": 1}, \"0\": {\"4\": 35, \"11\": 7, \"2\": 10, \"7\": 29, \"10\": 20, \"8\": 10, \"6\": 25, \"13\": 30, \"14\": 23, \"0\": 33, \"15\": 6, \"1\": 4, \"3\": 5, \"12\": 2, \"5\": 1}, \"5\": {\"11\": 29, \"14\": 26, \"5\": 32, \"7\": 13, \"10\": 36, \"4\": 25, \"13\": 11, \"0\": 5, \"1\": 34, \"8\": 12, \"6\": 13, \"9\": 3, \"15\": 1}, \"15\": {\"1\": 11, \"8\": 22, \"3\": 12, \"15\": 54, \"6\": 24, \"12\": 21, \"13\": 12, \"5\": 1, \"11\": 8, \"10\": 12, \"2\": 12, \"7\": 25, \"14\": 10, \"4\": 11, \"0\": 5}, \"10\": {\"2\": 1, \"15\": 8, \"5\": 23, \"0\": 25, \"1\": 17, \"10\": 28, \"6\": 23, \"13\": 21, \"4\": 25, \"8\": 8, \"7\": 21, \"14\": 20, \"11\": 15, \"12\": 2, \"3\": 1, \"9\": 2}, \"12\": {\"2\": 27, \"1\": 2, \"3\": 31, \"15\": 37, \"12\": 55, \"8\": 34, \"7\": 15, \"11\": 3, \"14\": 7, \"4\": 6, \"6\": 13, \"0\": 3, \"13\": 5, \"10\": 2}, \"6\": {\"6\": 25, \"14\": 27, \"13\": 29, \"15\": 17, \"7\": 33, \"4\": 21, \"3\": 7, \"11\": 5, \"10\": 22, \"5\": 8, \"1\": 7, \"0\": 17, \"8\": 14, \"2\": 3, \"12\": 5}, \"7\": {\"0\": 24, \"1\": 8, \"14\": 20, \"2\": 7, \"6\": 25, \"7\": 37, \"10\": 24, \"13\": 14, \"4\": 17, \"8\": 14, \"12\": 7, \"5\": 6, \"15\": 18, \"3\": 12, \"11\": 7}}}, \"per_domain_accuracy\": {\"W_4\": {\"accuracy\": 0.9620627572016461, \"source?\": true}, \"W_1\": {\"accuracy\": 0.9804025423728814, \"source?\": true}, \"C_5\": {\"accuracy\": 0.9991270949720671, \"source?\": true}, \"W_2\": {\"accuracy\": 0.9646966527196653, \"source?\": true}, \"C_1\": {\"accuracy\": 0.9998301630434783, \"source?\": true}, \"C_3\": {\"accuracy\": 1.0, \"source?\": true}, \"C_4\": {\"accuracy\": 0.9996234939759037, \"source?\": true}, \"W_3\": {\"accuracy\": 0.9810316593886463, \"source?\": true}, \"C_2\": {\"accuracy\": 1.0, \"source?\": true}, \"O_26\": {\"accuracy\": 0.18307291666666667, \"source?\": false}, \"O_44\": {\"accuracy\": 0.27760416666666665, \"source?\": false}, \"O_50\": {\"accuracy\": 0.2674479166666667, \"source?\": false}, \"O_38\": {\"accuracy\": 0.33489583333333334, \"source?\": false}, \"O_20\": {\"accuracy\": 0.14609375, \"source?\": false}, \"O_14\": {\"accuracy\": 0.27369791666666665, \"source?\": false}, \"O_32\": {\"accuracy\": 0.3841145833333333, \"source?\": false}, \"O_8\": {\"accuracy\": 0.18385416666666668, \"source?\": false}}}, \"history\": {\"epoch_indices\": [1, 2, 3, 4, 5, 6, 7, 8, 9], \"train_label_loss\": [0.12069801691368141, 0.06998491562711275, 0.056428273540232984, 0.04781021355973693, 0.04048061819768345, 0.03456404256900848, 0.029010870418046127, 0.024457979348594738, 0.020810849452184203], \"source_val_label_loss\": [0.11021382361650467, 0.07712884247303009, 0.0674634650349617, 0.06489378213882446, 0.06822685897350311, 0.06666804850101471, 0.0684443861246109, 0.07134660333395004, 0.07534035295248032], \"target_val_label_loss\": [2.392458200454712, 2.343181848526001, 2.3535139560699463, 2.3792293071746826, 2.2660694122314453, 2.7336974143981934, 2.570518970489502, 2.619230031967163, 2.5562825202941895], \"source_val_acc_label\": [0.976571075740944, 0.9824368825466521, 0.9847008781558727, 0.9852154226125137, 0.9852497255762898, 0.9852668770581778, 0.9855927552140505, 0.9855584522502744, 0.9857814215148188], \"target_val_acc_label\": [0.22242838541666668, 0.24189453125, 0.23414713541666668, 0.22063802083333334, 0.25634765625, 0.21536458333333333, 0.21402994791666666, 0.21559244791666668, 0.23782552083333333]}, \"dataset_metrics\": {\"source\": {\"train\": {\"n_unique_x\": 364197, \"n_unique_y\": 130, \"n_batch/episode\": 13150}, \"val\": {\"n_unique_x\": 77221, \"n_unique_y\": 130, \"n_batch/episode\": 1822}, \"test\": {\"n_unique_x\": 78360, \"n_unique_y\": 130, \"n_batch/episode\": 1854}}, \"target\": {\"train\": {\"n_unique_x\": 179200, \"n_unique_y\": 16, \"n_batch/episode\": 6720}, \"val\": {\"n_unique_x\": 38400, \"n_unique_y\": 16, \"n_batch/episode\": 960}, \"test\": {\"n_unique_x\": 38400, \"n_unique_y\": 16, \"n_batch/episode\": 960}}}}'"
      ]
     },
     "execution_count": 29,
     "metadata": {},
     "output_type": "execute_result"
    }
   ],
   "source": [
    "json.dumps(experiment)"
   ]
  }
 ],
 "metadata": {
  "celltoolbar": "Tags",
  "kernelspec": {
   "display_name": "Python 3 (ipykernel)",
   "language": "python",
   "name": "python3"
  },
  "language_info": {
   "codemirror_mode": {
    "name": "ipython",
    "version": 3
   },
   "file_extension": ".py",
   "mimetype": "text/x-python",
   "name": "python",
   "nbconvert_exporter": "python",
   "pygments_lexer": "ipython3",
   "version": "3.8.10"
  },
  "papermill": {
   "default_parameters": {},
   "duration": 3671.811549,
   "end_time": "2022-03-20T17:04:56.356595",
   "environment_variables": {},
   "exception": null,
   "input_path": "/mnt/wd500GB/CSC500/csc500-main/csc500-notebooks/templates/tl_ptn_template.ipynb",
   "output_path": "trial.ipynb",
   "parameters": {
    "parameters": {
     "BEST_MODEL_PATH": "./best_model.pth",
     "NUM_LOGS_PER_EPOCH": 10,
     "criteria_for_best": "target_accuracy",
     "dataset_seed": 7,
     "datasets": [
      {
       "domain_prefix": "C_",
       "domains": [
        1,
        2,
        3,
        4,
        5
       ],
       "episode_transforms": [],
       "labels": [
        "1-10.",
        "1-11.",
        "1-15.",
        "1-16.",
        "1-17.",
        "1-18.",
        "1-19.",
        "10-4.",
        "10-7.",
        "11-1.",
        "11-14.",
        "11-17.",
        "11-20.",
        "11-7.",
        "13-20.",
        "13-8.",
        "14-10.",
        "14-11.",
        "14-14.",
        "14-7.",
        "15-1.",
        "15-20.",
        "16-1.",
        "16-16.",
        "17-10.",
        "17-11.",
        "17-2.",
        "19-1.",
        "19-16.",
        "19-19.",
        "19-20.",
        "19-3.",
        "2-10.",
        "2-11.",
        "2-17.",
        "2-18.",
        "2-20.",
        "2-3.",
        "2-4.",
        "2-5.",
        "2-6.",
        "2-7.",
        "2-8.",
        "3-13.",
        "3-18.",
        "3-3.",
        "4-1.",
        "4-10.",
        "4-11.",
        "4-19.",
        "5-5.",
        "6-15.",
        "7-10.",
        "7-14.",
        "8-18.",
        "8-20.",
        "8-3.",
        "8-8."
       ],
       "num_examples_per_domain_per_label": -1,
       "pickle_path": "/mnt/wd500GB/CSC500/csc500-main/datasets/cores.stratified_ds.2022A.pkl",
       "source_or_target_dataset": "source",
       "x_transforms": [
        "unit_power",
        "take_200"
       ]
      },
      {
       "domain_prefix": "W_",
       "domains": [
        1,
        2,
        3,
        4
       ],
       "episode_transforms": [],
       "labels": [
        "1-10",
        "1-12",
        "1-14",
        "1-16",
        "1-18",
        "1-19",
        "1-8",
        "10-11",
        "10-17",
        "10-4",
        "10-7",
        "11-1",
        "11-10",
        "11-19",
        "11-20",
        "11-4",
        "11-7",
        "12-19",
        "12-20",
        "12-7",
        "13-14",
        "13-18",
        "13-19",
        "13-20",
        "13-3",
        "13-7",
        "14-10",
        "14-11",
        "14-12",
        "14-13",
        "14-14",
        "14-19",
        "14-20",
        "14-7",
        "14-8",
        "14-9",
        "15-1",
        "15-19",
        "15-6",
        "16-1",
        "16-16",
        "16-19",
        "16-20",
        "17-10",
        "17-11",
        "18-1",
        "18-10",
        "18-11",
        "18-12",
        "18-13",
        "18-14",
        "18-15",
        "18-16",
        "18-17",
        "18-19",
        "18-2",
        "18-20",
        "18-4",
        "18-5",
        "18-7",
        "18-8",
        "18-9",
        "19-1",
        "19-10",
        "19-11",
        "19-12",
        "19-13",
        "19-14",
        "19-15",
        "19-19",
        "19-2",
        "19-20",
        "19-3",
        "19-4",
        "19-6",
        "19-7",
        "19-8",
        "19-9",
        "2-1",
        "2-13",
        "2-15",
        "2-3",
        "2-4",
        "2-5",
        "2-6",
        "2-7",
        "2-8",
        "20-1",
        "20-12",
        "20-14",
        "20-15",
        "20-16",
        "20-18",
        "20-19",
        "20-20",
        "20-3",
        "20-4",
        "20-5",
        "20-7",
        "20-8",
        "3-1",
        "3-13",
        "3-18",
        "3-2",
        "3-8",
        "4-1",
        "4-10",
        "4-11",
        "5-1",
        "5-5",
        "6-1",
        "6-15",
        "6-6",
        "7-10",
        "7-11",
        "7-12",
        "7-13",
        "7-14",
        "7-7",
        "7-8",
        "7-9",
        "8-1",
        "8-13",
        "8-14",
        "8-18",
        "8-20",
        "8-3",
        "8-8",
        "9-1",
        "9-7"
       ],
       "num_examples_per_domain_per_label": -1,
       "pickle_path": "/mnt/wd500GB/CSC500/csc500-main/datasets/wisig.node3-19.stratified_ds.2022A.pkl",
       "source_or_target_dataset": "source",
       "x_transforms": [
        "unit_power",
        "take_200"
       ]
      },
      {
       "domain_prefix": "O_",
       "domains": [
        32,
        38,
        8,
        44,
        14,
        50,
        20,
        26
       ],
       "episode_transforms": [],
       "labels": [
        "3123D52",
        "3123D65",
        "3123D79",
        "3123D80",
        "3123D54",
        "3123D70",
        "3123D7B",
        "3123D89",
        "3123D58",
        "3123D76",
        "3123D7D",
        "3123EFE",
        "3123D64",
        "3123D78",
        "3123D7E",
        "3124E4A"
       ],
       "num_examples_per_domain_per_label": 2000,
       "pickle_path": "/mnt/wd500GB/CSC500/csc500-main/datasets/oracle.Run1_framed_2000Examples_stratified_ds.2022A.pkl",
       "source_or_target_dataset": "target",
       "x_transforms": [
        "unit_power",
        "take_200",
        "resample_20Msps_to_25Msps"
       ]
      }
     ],
     "device": "cuda",
     "experiment_name": "tl_3Av2:cores+wisig -> oracle.run1.framed",
     "lr": 0.0001,
     "n_epoch": 50,
     "n_query": 2,
     "n_shot": 3,
     "n_way": 16,
     "patience": 3,
     "seed": 7,
     "test_k_factor": 2,
     "torch_default_dtype": "torch.float32",
     "train_k_factor": 3,
     "val_k_factor": 2,
     "x_net": [
      {
       "class": "nnReshape",
       "kargs": {
        "shape": [
         -1,
         1,
         2,
         200
        ]
       }
      },
      {
       "class": "Conv2d",
       "kargs": {
        "bias": false,
        "in_channels": 1,
        "kernel_size": [
         1,
         7
        ],
        "out_channels": 256,
        "padding": [
         0,
         3
        ]
       }
      },
      {
       "class": "ReLU",
       "kargs": {
        "inplace": true
       }
      },
      {
       "class": "BatchNorm2d",
       "kargs": {
        "num_features": 256
       }
      },
      {
       "class": "Conv2d",
       "kargs": {
        "bias": true,
        "in_channels": 256,
        "kernel_size": [
         2,
         7
        ],
        "out_channels": 80,
        "padding": [
         0,
         3
        ]
       }
      },
      {
       "class": "ReLU",
       "kargs": {
        "inplace": true
       }
      },
      {
       "class": "BatchNorm2d",
       "kargs": {
        "num_features": 80
       }
      },
      {
       "class": "Flatten",
       "kargs": {}
      },
      {
       "class": "Linear",
       "kargs": {
        "in_features": 16000,
        "out_features": 256
       }
      },
      {
       "class": "ReLU",
       "kargs": {
        "inplace": true
       }
      },
      {
       "class": "BatchNorm1d",
       "kargs": {
        "num_features": 256
       }
      },
      {
       "class": "Linear",
       "kargs": {
        "in_features": 256,
        "out_features": 256
       }
      }
     ],
     "x_shape": [
      2,
      200
     ]
    }
   },
   "start_time": "2022-03-20T16:03:44.545046",
   "version": "2.3.4"
  }
 },
 "nbformat": 4,
 "nbformat_minor": 5
}