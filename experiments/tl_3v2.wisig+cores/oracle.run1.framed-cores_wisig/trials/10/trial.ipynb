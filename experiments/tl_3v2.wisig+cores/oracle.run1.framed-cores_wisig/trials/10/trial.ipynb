{
 "cells": [
  {
   "cell_type": "markdown",
   "id": "9fea5f46",
   "metadata": {
    "papermill": {
     "duration": 0.018119,
     "end_time": "2022-03-21T02:15:32.027125",
     "exception": false,
     "start_time": "2022-03-21T02:15:32.009006",
     "status": "completed"
    },
    "tags": []
   },
   "source": [
    "# Transfer Learning Template"
   ]
  },
  {
   "cell_type": "code",
   "execution_count": 1,
   "id": "0902182a",
   "metadata": {
    "execution": {
     "iopub.execute_input": "2022-03-21T02:15:32.067301Z",
     "iopub.status.busy": "2022-03-21T02:15:32.066798Z",
     "iopub.status.idle": "2022-03-21T02:15:32.993157Z",
     "shell.execute_reply": "2022-03-21T02:15:32.992871Z"
    },
    "papermill": {
     "duration": 0.953533,
     "end_time": "2022-03-21T02:15:32.993230",
     "exception": false,
     "start_time": "2022-03-21T02:15:32.039697",
     "status": "completed"
    },
    "tags": []
   },
   "outputs": [],
   "source": [
    "%load_ext autoreload\n",
    "%autoreload 2\n",
    "%matplotlib inline\n",
    "\n",
    "    \n",
    "import os, json, sys, time, random\n",
    "import numpy as np\n",
    "import torch\n",
    "from torch.optim import Adam\n",
    "from  easydict import EasyDict\n",
    "import matplotlib.pyplot as plt\n",
    "\n",
    "from steves_models.steves_ptn import Steves_Prototypical_Network\n",
    "\n",
    "from steves_utils.lazy_iterable_wrapper import Lazy_Iterable_Wrapper\n",
    "from steves_utils.iterable_aggregator import Iterable_Aggregator\n",
    "from steves_utils.ptn_train_eval_test_jig import  PTN_Train_Eval_Test_Jig\n",
    "from steves_utils.torch_sequential_builder import build_sequential\n",
    "from steves_utils.torch_utils import get_dataset_metrics, ptn_confusion_by_domain_over_dataloader\n",
    "from steves_utils.utils_v2 import (per_domain_accuracy_from_confusion, get_datasets_base_path)\n",
    "from steves_utils.PTN.utils import independent_accuracy_assesment\n",
    "\n",
    "from torch.utils.data import DataLoader\n",
    "\n",
    "from steves_utils.stratified_dataset.episodic_accessor import Episodic_Accessor_Factory\n",
    "\n",
    "from steves_utils.ptn_do_report import (\n",
    "    get_loss_curve,\n",
    "    get_results_table,\n",
    "    get_parameters_table,\n",
    "    get_domain_accuracies,\n",
    ")\n",
    "\n",
    "from steves_utils.transforms import get_chained_transform"
   ]
  },
  {
   "cell_type": "markdown",
   "id": "41c840b4",
   "metadata": {
    "papermill": {
     "duration": 0.012655,
     "end_time": "2022-03-21T02:15:33.019035",
     "exception": false,
     "start_time": "2022-03-21T02:15:33.006380",
     "status": "completed"
    },
    "tags": []
   },
   "source": [
    "# Allowed Parameters\n",
    "These are allowed parameters, not defaults\n",
    "Each of these values need to be present in the injected parameters (the notebook will raise an exception if they are not present)\n",
    "\n",
    "Papermill uses the cell tag \"parameters\" to inject the real parameters below this cell.\n",
    "Enable tags to see what I mean"
   ]
  },
  {
   "cell_type": "code",
   "execution_count": 2,
   "id": "fd44eb83",
   "metadata": {
    "execution": {
     "iopub.execute_input": "2022-03-21T02:15:33.047191Z",
     "iopub.status.busy": "2022-03-21T02:15:33.045905Z",
     "iopub.status.idle": "2022-03-21T02:15:33.061951Z",
     "shell.execute_reply": "2022-03-21T02:15:33.061584Z"
    },
    "papermill": {
     "duration": 0.030215,
     "end_time": "2022-03-21T02:15:33.062022",
     "exception": false,
     "start_time": "2022-03-21T02:15:33.031807",
     "status": "completed"
    },
    "tags": []
   },
   "outputs": [],
   "source": [
    "required_parameters = {\n",
    "    \"experiment_name\",\n",
    "    \"lr\",\n",
    "    \"device\",\n",
    "    \"seed\",\n",
    "    \"dataset_seed\",\n",
    "    \"n_shot\",\n",
    "    \"n_query\",\n",
    "    \"n_way\",\n",
    "    \"train_k_factor\",\n",
    "    \"val_k_factor\",\n",
    "    \"test_k_factor\",\n",
    "    \"n_epoch\",\n",
    "    \"patience\",\n",
    "    \"criteria_for_best\",\n",
    "    \"x_net\",\n",
    "    \"datasets\",\n",
    "    \"torch_default_dtype\",\n",
    "    \"NUM_LOGS_PER_EPOCH\",\n",
    "    \"BEST_MODEL_PATH\",\n",
    "    \"x_shape\",\n",
    "}"
   ]
  },
  {
   "cell_type": "code",
   "execution_count": 3,
   "id": "fa3f0049",
   "metadata": {
    "execution": {
     "iopub.execute_input": "2022-03-21T02:15:33.097173Z",
     "iopub.status.busy": "2022-03-21T02:15:33.096886Z",
     "iopub.status.idle": "2022-03-21T02:15:33.109577Z",
     "shell.execute_reply": "2022-03-21T02:15:33.109184Z"
    },
    "papermill": {
     "duration": 0.031908,
     "end_time": "2022-03-21T02:15:33.109664",
     "exception": false,
     "start_time": "2022-03-21T02:15:33.077756",
     "status": "completed"
    },
    "tags": [
     "parameters"
    ]
   },
   "outputs": [],
   "source": [
    "from steves_utils.CORES.utils import (\n",
    "    ALL_NODES,\n",
    "    ALL_NODES_MINIMUM_1000_EXAMPLES,\n",
    "    ALL_DAYS\n",
    ")\n",
    "\n",
    "from steves_utils.ORACLE.utils_v2 import (\n",
    "    ALL_DISTANCES_FEET_NARROWED,\n",
    "    ALL_RUNS,\n",
    "    ALL_SERIAL_NUMBERS,\n",
    ")\n",
    "\n",
    "standalone_parameters = {}\n",
    "standalone_parameters[\"experiment_name\"] = \"STANDALONE PTN\"\n",
    "standalone_parameters[\"lr\"] = 0.001\n",
    "standalone_parameters[\"device\"] = \"cuda\"\n",
    "\n",
    "standalone_parameters[\"seed\"] = 1337\n",
    "standalone_parameters[\"dataset_seed\"] = 1337\n",
    "\n",
    "standalone_parameters[\"n_way\"] = 8\n",
    "standalone_parameters[\"n_shot\"] = 3\n",
    "standalone_parameters[\"n_query\"]  = 2\n",
    "standalone_parameters[\"train_k_factor\"] = 1\n",
    "standalone_parameters[\"val_k_factor\"] = 2\n",
    "standalone_parameters[\"test_k_factor\"] = 2\n",
    "\n",
    "\n",
    "standalone_parameters[\"n_epoch\"] = 50\n",
    "\n",
    "standalone_parameters[\"patience\"] = 10\n",
    "standalone_parameters[\"criteria_for_best\"] = \"source_loss\"\n",
    "\n",
    "standalone_parameters[\"datasets\"] = [\n",
    "    {\n",
    "        \"labels\": ALL_SERIAL_NUMBERS,\n",
    "        \"domains\": ALL_DISTANCES_FEET_NARROWED,\n",
    "        \"num_examples_per_domain_per_label\": 100,\n",
    "        \"pickle_path\": os.path.join(get_datasets_base_path(), \"oracle.Run1_framed_2000Examples_stratified_ds.2022A.pkl\"),\n",
    "        \"source_or_target_dataset\": \"source\",\n",
    "        \"x_transforms\": [\"unit_mag\", \"minus_two\"],\n",
    "        \"episode_transforms\": [],\n",
    "        \"domain_prefix\": \"ORACLE_\"\n",
    "    },\n",
    "    {\n",
    "        \"labels\": ALL_NODES,\n",
    "        \"domains\": ALL_DAYS,\n",
    "        \"num_examples_per_domain_per_label\": 100,\n",
    "        \"pickle_path\": os.path.join(get_datasets_base_path(), \"cores.stratified_ds.2022A.pkl\"),\n",
    "        \"source_or_target_dataset\": \"target\",\n",
    "        \"x_transforms\": [\"unit_power\", \"times_zero\"],\n",
    "        \"episode_transforms\": [],\n",
    "        \"domain_prefix\": \"CORES_\"\n",
    "    }   \n",
    "]\n",
    "\n",
    "standalone_parameters[\"torch_default_dtype\"] = \"torch.float32\" \n",
    "\n",
    "\n",
    "\n",
    "standalone_parameters[\"x_net\"] =     [\n",
    "    {\"class\": \"nnReshape\", \"kargs\": {\"shape\":[-1, 1, 2, 256]}},\n",
    "    {\"class\": \"Conv2d\", \"kargs\": { \"in_channels\":1, \"out_channels\":256, \"kernel_size\":(1,7), \"bias\":False, \"padding\":(0,3), },},\n",
    "    {\"class\": \"ReLU\", \"kargs\": {\"inplace\": True}},\n",
    "    {\"class\": \"BatchNorm2d\", \"kargs\": {\"num_features\":256}},\n",
    "\n",
    "    {\"class\": \"Conv2d\", \"kargs\": { \"in_channels\":256, \"out_channels\":80, \"kernel_size\":(2,7), \"bias\":True, \"padding\":(0,3), },},\n",
    "    {\"class\": \"ReLU\", \"kargs\": {\"inplace\": True}},\n",
    "    {\"class\": \"BatchNorm2d\", \"kargs\": {\"num_features\":80}},\n",
    "    {\"class\": \"Flatten\", \"kargs\": {}},\n",
    "\n",
    "    {\"class\": \"Linear\", \"kargs\": {\"in_features\": 80*256, \"out_features\": 256}}, # 80 units per IQ pair\n",
    "    {\"class\": \"ReLU\", \"kargs\": {\"inplace\": True}},\n",
    "    {\"class\": \"BatchNorm1d\", \"kargs\": {\"num_features\":256}},\n",
    "\n",
    "    {\"class\": \"Linear\", \"kargs\": {\"in_features\": 256, \"out_features\": 256}},\n",
    "]\n",
    "\n",
    "# Parameters relevant to results\n",
    "# These parameters will basically never need to change\n",
    "standalone_parameters[\"NUM_LOGS_PER_EPOCH\"] = 10\n",
    "standalone_parameters[\"BEST_MODEL_PATH\"] = \"./best_model.pth\"\n",
    "\n",
    "\n",
    "\n",
    "\n"
   ]
  },
  {
   "cell_type": "code",
   "execution_count": 4,
   "id": "995c6b08",
   "metadata": {
    "execution": {
     "iopub.execute_input": "2022-03-21T02:15:33.151978Z",
     "iopub.status.busy": "2022-03-21T02:15:33.142047Z",
     "iopub.status.idle": "2022-03-21T02:15:33.164757Z",
     "shell.execute_reply": "2022-03-21T02:15:33.164370Z"
    },
    "papermill": {
     "duration": 0.037297,
     "end_time": "2022-03-21T02:15:33.164846",
     "exception": false,
     "start_time": "2022-03-21T02:15:33.127549",
     "status": "completed"
    },
    "tags": [
     "injected-parameters"
    ]
   },
   "outputs": [],
   "source": [
    "# Parameters\n",
    "parameters = {\n",
    "    \"experiment_name\": \"tl_3Av2:oracle.run1.framed -> cores+wisig\",\n",
    "    \"device\": \"cuda\",\n",
    "    \"lr\": 0.0001,\n",
    "    \"x_shape\": [2, 200],\n",
    "    \"n_shot\": 3,\n",
    "    \"n_query\": 2,\n",
    "    \"train_k_factor\": 3,\n",
    "    \"val_k_factor\": 2,\n",
    "    \"test_k_factor\": 2,\n",
    "    \"torch_default_dtype\": \"torch.float32\",\n",
    "    \"n_epoch\": 50,\n",
    "    \"patience\": 3,\n",
    "    \"criteria_for_best\": \"target_accuracy\",\n",
    "    \"x_net\": [\n",
    "        {\"class\": \"nnReshape\", \"kargs\": {\"shape\": [-1, 1, 2, 200]}},\n",
    "        {\n",
    "            \"class\": \"Conv2d\",\n",
    "            \"kargs\": {\n",
    "                \"in_channels\": 1,\n",
    "                \"out_channels\": 256,\n",
    "                \"kernel_size\": [1, 7],\n",
    "                \"bias\": False,\n",
    "                \"padding\": [0, 3],\n",
    "            },\n",
    "        },\n",
    "        {\"class\": \"ReLU\", \"kargs\": {\"inplace\": True}},\n",
    "        {\"class\": \"BatchNorm2d\", \"kargs\": {\"num_features\": 256}},\n",
    "        {\n",
    "            \"class\": \"Conv2d\",\n",
    "            \"kargs\": {\n",
    "                \"in_channels\": 256,\n",
    "                \"out_channels\": 80,\n",
    "                \"kernel_size\": [2, 7],\n",
    "                \"bias\": True,\n",
    "                \"padding\": [0, 3],\n",
    "            },\n",
    "        },\n",
    "        {\"class\": \"ReLU\", \"kargs\": {\"inplace\": True}},\n",
    "        {\"class\": \"BatchNorm2d\", \"kargs\": {\"num_features\": 80}},\n",
    "        {\"class\": \"Flatten\", \"kargs\": {}},\n",
    "        {\"class\": \"Linear\", \"kargs\": {\"in_features\": 16000, \"out_features\": 256}},\n",
    "        {\"class\": \"ReLU\", \"kargs\": {\"inplace\": True}},\n",
    "        {\"class\": \"BatchNorm1d\", \"kargs\": {\"num_features\": 256}},\n",
    "        {\"class\": \"Linear\", \"kargs\": {\"in_features\": 256, \"out_features\": 256}},\n",
    "    ],\n",
    "    \"NUM_LOGS_PER_EPOCH\": 10,\n",
    "    \"BEST_MODEL_PATH\": \"./best_model.pth\",\n",
    "    \"n_way\": 16,\n",
    "    \"datasets\": [\n",
    "        {\n",
    "            \"labels\": [\n",
    "                \"1-10.\",\n",
    "                \"1-11.\",\n",
    "                \"1-15.\",\n",
    "                \"1-16.\",\n",
    "                \"1-17.\",\n",
    "                \"1-18.\",\n",
    "                \"1-19.\",\n",
    "                \"10-4.\",\n",
    "                \"10-7.\",\n",
    "                \"11-1.\",\n",
    "                \"11-14.\",\n",
    "                \"11-17.\",\n",
    "                \"11-20.\",\n",
    "                \"11-7.\",\n",
    "                \"13-20.\",\n",
    "                \"13-8.\",\n",
    "                \"14-10.\",\n",
    "                \"14-11.\",\n",
    "                \"14-14.\",\n",
    "                \"14-7.\",\n",
    "                \"15-1.\",\n",
    "                \"15-20.\",\n",
    "                \"16-1.\",\n",
    "                \"16-16.\",\n",
    "                \"17-10.\",\n",
    "                \"17-11.\",\n",
    "                \"17-2.\",\n",
    "                \"19-1.\",\n",
    "                \"19-16.\",\n",
    "                \"19-19.\",\n",
    "                \"19-20.\",\n",
    "                \"19-3.\",\n",
    "                \"2-10.\",\n",
    "                \"2-11.\",\n",
    "                \"2-17.\",\n",
    "                \"2-18.\",\n",
    "                \"2-20.\",\n",
    "                \"2-3.\",\n",
    "                \"2-4.\",\n",
    "                \"2-5.\",\n",
    "                \"2-6.\",\n",
    "                \"2-7.\",\n",
    "                \"2-8.\",\n",
    "                \"3-13.\",\n",
    "                \"3-18.\",\n",
    "                \"3-3.\",\n",
    "                \"4-1.\",\n",
    "                \"4-10.\",\n",
    "                \"4-11.\",\n",
    "                \"4-19.\",\n",
    "                \"5-5.\",\n",
    "                \"6-15.\",\n",
    "                \"7-10.\",\n",
    "                \"7-14.\",\n",
    "                \"8-18.\",\n",
    "                \"8-20.\",\n",
    "                \"8-3.\",\n",
    "                \"8-8.\",\n",
    "            ],\n",
    "            \"domains\": [1, 2, 3, 4, 5],\n",
    "            \"num_examples_per_domain_per_label\": -1,\n",
    "            \"pickle_path\": \"/mnt/wd500GB/CSC500/csc500-main/datasets/cores.stratified_ds.2022A.pkl\",\n",
    "            \"source_or_target_dataset\": \"target\",\n",
    "            \"x_transforms\": [\"unit_mag\", \"take_200\"],\n",
    "            \"episode_transforms\": [],\n",
    "            \"domain_prefix\": \"C_\",\n",
    "        },\n",
    "        {\n",
    "            \"labels\": [\n",
    "                \"1-10\",\n",
    "                \"1-12\",\n",
    "                \"1-14\",\n",
    "                \"1-16\",\n",
    "                \"1-18\",\n",
    "                \"1-19\",\n",
    "                \"1-8\",\n",
    "                \"10-11\",\n",
    "                \"10-17\",\n",
    "                \"10-4\",\n",
    "                \"10-7\",\n",
    "                \"11-1\",\n",
    "                \"11-10\",\n",
    "                \"11-19\",\n",
    "                \"11-20\",\n",
    "                \"11-4\",\n",
    "                \"11-7\",\n",
    "                \"12-19\",\n",
    "                \"12-20\",\n",
    "                \"12-7\",\n",
    "                \"13-14\",\n",
    "                \"13-18\",\n",
    "                \"13-19\",\n",
    "                \"13-20\",\n",
    "                \"13-3\",\n",
    "                \"13-7\",\n",
    "                \"14-10\",\n",
    "                \"14-11\",\n",
    "                \"14-12\",\n",
    "                \"14-13\",\n",
    "                \"14-14\",\n",
    "                \"14-19\",\n",
    "                \"14-20\",\n",
    "                \"14-7\",\n",
    "                \"14-8\",\n",
    "                \"14-9\",\n",
    "                \"15-1\",\n",
    "                \"15-19\",\n",
    "                \"15-6\",\n",
    "                \"16-1\",\n",
    "                \"16-16\",\n",
    "                \"16-19\",\n",
    "                \"16-20\",\n",
    "                \"17-10\",\n",
    "                \"17-11\",\n",
    "                \"18-1\",\n",
    "                \"18-10\",\n",
    "                \"18-11\",\n",
    "                \"18-12\",\n",
    "                \"18-13\",\n",
    "                \"18-14\",\n",
    "                \"18-15\",\n",
    "                \"18-16\",\n",
    "                \"18-17\",\n",
    "                \"18-19\",\n",
    "                \"18-2\",\n",
    "                \"18-20\",\n",
    "                \"18-4\",\n",
    "                \"18-5\",\n",
    "                \"18-7\",\n",
    "                \"18-8\",\n",
    "                \"18-9\",\n",
    "                \"19-1\",\n",
    "                \"19-10\",\n",
    "                \"19-11\",\n",
    "                \"19-12\",\n",
    "                \"19-13\",\n",
    "                \"19-14\",\n",
    "                \"19-15\",\n",
    "                \"19-19\",\n",
    "                \"19-2\",\n",
    "                \"19-20\",\n",
    "                \"19-3\",\n",
    "                \"19-4\",\n",
    "                \"19-6\",\n",
    "                \"19-7\",\n",
    "                \"19-8\",\n",
    "                \"19-9\",\n",
    "                \"2-1\",\n",
    "                \"2-13\",\n",
    "                \"2-15\",\n",
    "                \"2-3\",\n",
    "                \"2-4\",\n",
    "                \"2-5\",\n",
    "                \"2-6\",\n",
    "                \"2-7\",\n",
    "                \"2-8\",\n",
    "                \"20-1\",\n",
    "                \"20-12\",\n",
    "                \"20-14\",\n",
    "                \"20-15\",\n",
    "                \"20-16\",\n",
    "                \"20-18\",\n",
    "                \"20-19\",\n",
    "                \"20-20\",\n",
    "                \"20-3\",\n",
    "                \"20-4\",\n",
    "                \"20-5\",\n",
    "                \"20-7\",\n",
    "                \"20-8\",\n",
    "                \"3-1\",\n",
    "                \"3-13\",\n",
    "                \"3-18\",\n",
    "                \"3-2\",\n",
    "                \"3-8\",\n",
    "                \"4-1\",\n",
    "                \"4-10\",\n",
    "                \"4-11\",\n",
    "                \"5-1\",\n",
    "                \"5-5\",\n",
    "                \"6-1\",\n",
    "                \"6-15\",\n",
    "                \"6-6\",\n",
    "                \"7-10\",\n",
    "                \"7-11\",\n",
    "                \"7-12\",\n",
    "                \"7-13\",\n",
    "                \"7-14\",\n",
    "                \"7-7\",\n",
    "                \"7-8\",\n",
    "                \"7-9\",\n",
    "                \"8-1\",\n",
    "                \"8-13\",\n",
    "                \"8-14\",\n",
    "                \"8-18\",\n",
    "                \"8-20\",\n",
    "                \"8-3\",\n",
    "                \"8-8\",\n",
    "                \"9-1\",\n",
    "                \"9-7\",\n",
    "            ],\n",
    "            \"domains\": [1, 2, 3, 4],\n",
    "            \"num_examples_per_domain_per_label\": -1,\n",
    "            \"pickle_path\": \"/mnt/wd500GB/CSC500/csc500-main/datasets/wisig.node3-19.stratified_ds.2022A.pkl\",\n",
    "            \"source_or_target_dataset\": \"target\",\n",
    "            \"x_transforms\": [\"unit_mag\", \"take_200\"],\n",
    "            \"episode_transforms\": [],\n",
    "            \"domain_prefix\": \"W_\",\n",
    "        },\n",
    "        {\n",
    "            \"labels\": [\n",
    "                \"3123D52\",\n",
    "                \"3123D65\",\n",
    "                \"3123D79\",\n",
    "                \"3123D80\",\n",
    "                \"3123D54\",\n",
    "                \"3123D70\",\n",
    "                \"3123D7B\",\n",
    "                \"3123D89\",\n",
    "                \"3123D58\",\n",
    "                \"3123D76\",\n",
    "                \"3123D7D\",\n",
    "                \"3123EFE\",\n",
    "                \"3123D64\",\n",
    "                \"3123D78\",\n",
    "                \"3123D7E\",\n",
    "                \"3124E4A\",\n",
    "            ],\n",
    "            \"domains\": [32, 38, 8, 44, 14, 50, 20, 26],\n",
    "            \"num_examples_per_domain_per_label\": 2000,\n",
    "            \"pickle_path\": \"/mnt/wd500GB/CSC500/csc500-main/datasets/oracle.Run1_framed_2000Examples_stratified_ds.2022A.pkl\",\n",
    "            \"source_or_target_dataset\": \"source\",\n",
    "            \"x_transforms\": [\"unit_mag\", \"take_200\", \"resample_20Msps_to_25Msps\"],\n",
    "            \"episode_transforms\": [],\n",
    "            \"domain_prefix\": \"O_\",\n",
    "        },\n",
    "    ],\n",
    "    \"seed\": 7,\n",
    "    \"dataset_seed\": 7,\n",
    "}\n"
   ]
  },
  {
   "cell_type": "code",
   "execution_count": 5,
   "id": "8fa1cc33",
   "metadata": {
    "execution": {
     "iopub.execute_input": "2022-03-21T02:15:33.200716Z",
     "iopub.status.busy": "2022-03-21T02:15:33.200456Z",
     "iopub.status.idle": "2022-03-21T02:15:33.213222Z",
     "shell.execute_reply": "2022-03-21T02:15:33.212836Z"
    },
    "papermill": {
     "duration": 0.030445,
     "end_time": "2022-03-21T02:15:33.213309",
     "exception": false,
     "start_time": "2022-03-21T02:15:33.182864",
     "status": "completed"
    },
    "tags": []
   },
   "outputs": [],
   "source": [
    "# Set this to True if you want to run this template directly\n",
    "STANDALONE = False\n",
    "if STANDALONE:\n",
    "    print(\"parameters not injected, running with standalone_parameters\")\n",
    "    parameters = standalone_parameters\n",
    "\n",
    "if not 'parameters' in locals() and not 'parameters' in globals():\n",
    "    raise Exception(\"Parameter injection failed\")\n",
    "\n",
    "#Use an easy dict for all the parameters\n",
    "p = EasyDict(parameters)\n",
    "\n",
    "if \"x_shape\" not in p:\n",
    "    p.x_shape = [2,256] # Default to this if we dont supply x_shape\n",
    "\n",
    "\n",
    "supplied_keys = set(p.keys())\n",
    "\n",
    "if  supplied_keys != required_parameters:\n",
    "    print(\"Parameters are incorrect\")\n",
    "    if len(supplied_keys - required_parameters)>0: print(\"Shouldn't have:\", str(supplied_keys - required_parameters))\n",
    "    if len(required_parameters - supplied_keys)>0: print(\"Need to have:\", str(required_parameters - supplied_keys))\n",
    "    raise RuntimeError(\"Parameters are incorrect\")"
   ]
  },
  {
   "cell_type": "code",
   "execution_count": 6,
   "id": "3a028d58",
   "metadata": {
    "execution": {
     "iopub.execute_input": "2022-03-21T02:15:33.246379Z",
     "iopub.status.busy": "2022-03-21T02:15:33.246131Z",
     "iopub.status.idle": "2022-03-21T02:15:33.261014Z",
     "shell.execute_reply": "2022-03-21T02:15:33.260625Z"
    },
    "papermill": {
     "duration": 0.029795,
     "end_time": "2022-03-21T02:15:33.261102",
     "exception": false,
     "start_time": "2022-03-21T02:15:33.231307",
     "status": "completed"
    },
    "tags": []
   },
   "outputs": [],
   "source": [
    "###################################\n",
    "# Set the RNGs and make it all deterministic\n",
    "###################################\n",
    "np.random.seed(p.seed)\n",
    "random.seed(p.seed)\n",
    "torch.manual_seed(p.seed)\n",
    "\n",
    "torch.use_deterministic_algorithms(True) "
   ]
  },
  {
   "cell_type": "code",
   "execution_count": 7,
   "id": "b691acf6",
   "metadata": {
    "execution": {
     "iopub.execute_input": "2022-03-21T02:15:33.293906Z",
     "iopub.status.busy": "2022-03-21T02:15:33.293118Z",
     "iopub.status.idle": "2022-03-21T02:15:33.309513Z",
     "shell.execute_reply": "2022-03-21T02:15:33.309127Z"
    },
    "papermill": {
     "duration": 0.03074,
     "end_time": "2022-03-21T02:15:33.309601",
     "exception": false,
     "start_time": "2022-03-21T02:15:33.278861",
     "status": "completed"
    },
    "tags": []
   },
   "outputs": [],
   "source": [
    "###########################################\n",
    "# The stratified datasets honor this\n",
    "###########################################\n",
    "torch.set_default_dtype(eval(p.torch_default_dtype))"
   ]
  },
  {
   "cell_type": "code",
   "execution_count": 8,
   "id": "b5fba671",
   "metadata": {
    "execution": {
     "iopub.execute_input": "2022-03-21T02:15:33.342252Z",
     "iopub.status.busy": "2022-03-21T02:15:33.342006Z",
     "iopub.status.idle": "2022-03-21T02:15:33.373143Z",
     "shell.execute_reply": "2022-03-21T02:15:33.373514Z"
    },
    "papermill": {
     "duration": 0.046375,
     "end_time": "2022-03-21T02:15:33.373618",
     "exception": false,
     "start_time": "2022-03-21T02:15:33.327243",
     "status": "completed"
    },
    "tags": []
   },
   "outputs": [],
   "source": [
    "###################################\n",
    "# Build the network(s)\n",
    "# Note: It's critical to do this AFTER setting the RNG\n",
    "###################################\n",
    "x_net = build_sequential(p.x_net)"
   ]
  },
  {
   "cell_type": "code",
   "execution_count": 9,
   "id": "5d7e61cc",
   "metadata": {
    "execution": {
     "iopub.execute_input": "2022-03-21T02:15:33.406405Z",
     "iopub.status.busy": "2022-03-21T02:15:33.406158Z",
     "iopub.status.idle": "2022-03-21T02:15:33.420041Z",
     "shell.execute_reply": "2022-03-21T02:15:33.419687Z"
    },
    "papermill": {
     "duration": 0.029673,
     "end_time": "2022-03-21T02:15:33.420129",
     "exception": false,
     "start_time": "2022-03-21T02:15:33.390456",
     "status": "completed"
    },
    "tags": []
   },
   "outputs": [],
   "source": [
    "start_time_secs = time.time()"
   ]
  },
  {
   "cell_type": "code",
   "execution_count": 10,
   "id": "c6b67dfd",
   "metadata": {
    "execution": {
     "iopub.execute_input": "2022-03-21T02:15:33.454914Z",
     "iopub.status.busy": "2022-03-21T02:15:33.454662Z",
     "iopub.status.idle": "2022-03-21T02:15:33.469214Z",
     "shell.execute_reply": "2022-03-21T02:15:33.468769Z"
    },
    "papermill": {
     "duration": 0.030638,
     "end_time": "2022-03-21T02:15:33.469301",
     "exception": false,
     "start_time": "2022-03-21T02:15:33.438663",
     "status": "completed"
    },
    "tags": []
   },
   "outputs": [],
   "source": [
    "p.domains_source = []\n",
    "p.domains_target = []\n",
    "\n",
    "\n",
    "train_original_source = []\n",
    "val_original_source   = []\n",
    "test_original_source  = []\n",
    "\n",
    "train_original_target = []\n",
    "val_original_target   = []\n",
    "test_original_target  = []"
   ]
  },
  {
   "cell_type": "code",
   "execution_count": 11,
   "id": "e3d9c3d3",
   "metadata": {
    "execution": {
     "iopub.execute_input": "2022-03-21T02:15:33.502248Z",
     "iopub.status.busy": "2022-03-21T02:15:33.502002Z",
     "iopub.status.idle": "2022-03-21T02:15:33.512247Z",
     "shell.execute_reply": "2022-03-21T02:15:33.511917Z"
    },
    "papermill": {
     "duration": 0.024987,
     "end_time": "2022-03-21T02:15:33.512333",
     "exception": false,
     "start_time": "2022-03-21T02:15:33.487346",
     "status": "completed"
    },
    "tags": []
   },
   "outputs": [],
   "source": [
    "# global_x_transform_func = lambda x: normalize(x.to(torch.get_default_dtype()), \"unit_power\") # unit_power, unit_mag\n",
    "# global_x_transform_func = lambda x: normalize(x, \"unit_power\") # unit_power, unit_mag"
   ]
  },
  {
   "cell_type": "code",
   "execution_count": 12,
   "id": "acb78fd2",
   "metadata": {
    "execution": {
     "iopub.execute_input": "2022-03-21T02:15:33.551196Z",
     "iopub.status.busy": "2022-03-21T02:15:33.550934Z",
     "iopub.status.idle": "2022-03-21T02:15:33.566639Z",
     "shell.execute_reply": "2022-03-21T02:15:33.566250Z"
    },
    "papermill": {
     "duration": 0.035817,
     "end_time": "2022-03-21T02:15:33.566727",
     "exception": false,
     "start_time": "2022-03-21T02:15:33.530910",
     "status": "completed"
    },
    "tags": []
   },
   "outputs": [],
   "source": [
    "def add_dataset(\n",
    "    labels,\n",
    "    domains,\n",
    "    pickle_path,\n",
    "    x_transforms,\n",
    "    episode_transforms,\n",
    "    domain_prefix,\n",
    "    num_examples_per_domain_per_label,\n",
    "    source_or_target_dataset:str,\n",
    "    iterator_seed=p.seed,\n",
    "    dataset_seed=p.dataset_seed,\n",
    "    n_shot=p.n_shot,\n",
    "    n_way=p.n_way,\n",
    "    n_query=p.n_query,\n",
    "    train_val_test_k_factors=(p.train_k_factor,p.val_k_factor,p.test_k_factor),\n",
    "):\n",
    "   \n",
    "    if x_transforms == []: x_transform = None\n",
    "    else: x_transform = get_chained_transform(x_transforms)\n",
    "    \n",
    "    if episode_transforms == []: episode_transform = None\n",
    "    else: raise Exception(\"episode_transforms not implemented\")\n",
    "    \n",
    "    episode_transform = lambda tup, _prefix=domain_prefix: (_prefix + str(tup[0]), tup[1])\n",
    "\n",
    "\n",
    "    eaf = Episodic_Accessor_Factory(\n",
    "        labels=labels,\n",
    "        domains=domains,\n",
    "        num_examples_per_domain_per_label=num_examples_per_domain_per_label,\n",
    "        iterator_seed=iterator_seed,\n",
    "        dataset_seed=dataset_seed,\n",
    "        n_shot=n_shot,\n",
    "        n_way=n_way,\n",
    "        n_query=n_query,\n",
    "        train_val_test_k_factors=train_val_test_k_factors,\n",
    "        pickle_path=pickle_path,\n",
    "        x_transform_func=x_transform,\n",
    "    )\n",
    "\n",
    "    train, val, test = eaf.get_train(), eaf.get_val(), eaf.get_test()\n",
    "    train = Lazy_Iterable_Wrapper(train, episode_transform)\n",
    "    val = Lazy_Iterable_Wrapper(val, episode_transform)\n",
    "    test = Lazy_Iterable_Wrapper(test, episode_transform)\n",
    "\n",
    "    if source_or_target_dataset==\"source\":\n",
    "        train_original_source.append(train)\n",
    "        val_original_source.append(val)\n",
    "        test_original_source.append(test)\n",
    "\n",
    "        p.domains_source.extend(\n",
    "            [domain_prefix + str(u) for u in domains]\n",
    "        )\n",
    "    elif source_or_target_dataset==\"target\":\n",
    "        train_original_target.append(train)\n",
    "        val_original_target.append(val)\n",
    "        test_original_target.append(test)\n",
    "        p.domains_target.extend(\n",
    "            [domain_prefix + str(u) for u in domains]\n",
    "        )\n",
    "    else:\n",
    "        raise Exception(f\"invalid source_or_target_dataset: {source_or_target_dataset}\")\n",
    "    "
   ]
  },
  {
   "cell_type": "code",
   "execution_count": 13,
   "id": "fe266617",
   "metadata": {
    "execution": {
     "iopub.execute_input": "2022-03-21T02:15:33.601463Z",
     "iopub.status.busy": "2022-03-21T02:15:33.601218Z",
     "iopub.status.idle": "2022-03-21T02:16:43.541369Z",
     "shell.execute_reply": "2022-03-21T02:16:43.540955Z"
    },
    "papermill": {
     "duration": 69.955239,
     "end_time": "2022-03-21T02:16:43.541477",
     "exception": false,
     "start_time": "2022-03-21T02:15:33.586238",
     "status": "completed"
    },
    "tags": []
   },
   "outputs": [],
   "source": [
    "for ds in p.datasets:\n",
    "    add_dataset(**ds)"
   ]
  },
  {
   "cell_type": "code",
   "execution_count": 14,
   "id": "b90d65ac",
   "metadata": {
    "execution": {
     "iopub.execute_input": "2022-03-21T02:16:43.574571Z",
     "iopub.status.busy": "2022-03-21T02:16:43.574316Z",
     "iopub.status.idle": "2022-03-21T02:16:43.589090Z",
     "shell.execute_reply": "2022-03-21T02:16:43.589382Z"
    },
    "papermill": {
     "duration": 0.030512,
     "end_time": "2022-03-21T02:16:43.589465",
     "exception": false,
     "start_time": "2022-03-21T02:16:43.558953",
     "status": "completed"
    },
    "tags": []
   },
   "outputs": [],
   "source": [
    "# from steves_utils.CORES.utils import (\n",
    "#     ALL_NODES,\n",
    "#     ALL_NODES_MINIMUM_1000_EXAMPLES,\n",
    "#     ALL_DAYS\n",
    "# )\n",
    "\n",
    "# add_dataset(\n",
    "#     labels=ALL_NODES,\n",
    "#     domains = ALL_DAYS,\n",
    "#     num_examples_per_domain_per_label=100,\n",
    "#     pickle_path=os.path.join(get_datasets_base_path(), \"cores.stratified_ds.2022A.pkl\"),\n",
    "#     source_or_target_dataset=\"target\",\n",
    "#     x_transform_func=global_x_transform_func,\n",
    "#     domain_modifier=lambda u: f\"cores_{u}\"\n",
    "# )"
   ]
  },
  {
   "cell_type": "code",
   "execution_count": 15,
   "id": "76db484d",
   "metadata": {
    "execution": {
     "iopub.execute_input": "2022-03-21T02:16:43.622362Z",
     "iopub.status.busy": "2022-03-21T02:16:43.622109Z",
     "iopub.status.idle": "2022-03-21T02:16:43.636419Z",
     "shell.execute_reply": "2022-03-21T02:16:43.636026Z"
    },
    "papermill": {
     "duration": 0.029798,
     "end_time": "2022-03-21T02:16:43.636508",
     "exception": false,
     "start_time": "2022-03-21T02:16:43.606710",
     "status": "completed"
    },
    "tags": []
   },
   "outputs": [],
   "source": [
    "# from steves_utils.ORACLE.utils_v2 import (\n",
    "#     ALL_DISTANCES_FEET,\n",
    "#     ALL_RUNS,\n",
    "#     ALL_SERIAL_NUMBERS,\n",
    "# )\n",
    "\n",
    "\n",
    "# add_dataset(\n",
    "#     labels=ALL_SERIAL_NUMBERS,\n",
    "#     domains = list(set(ALL_DISTANCES_FEET) - {2,62}),\n",
    "#     num_examples_per_domain_per_label=100,\n",
    "#     pickle_path=os.path.join(get_datasets_base_path(), \"oracle.Run2_framed_2000Examples_stratified_ds.2022A.pkl\"),\n",
    "#     source_or_target_dataset=\"source\",\n",
    "#     x_transform_func=global_x_transform_func,\n",
    "#     domain_modifier=lambda u: f\"oracle1_{u}\"\n",
    "# )\n"
   ]
  },
  {
   "cell_type": "code",
   "execution_count": 16,
   "id": "97dea9d2",
   "metadata": {
    "execution": {
     "iopub.execute_input": "2022-03-21T02:16:43.671208Z",
     "iopub.status.busy": "2022-03-21T02:16:43.670956Z",
     "iopub.status.idle": "2022-03-21T02:16:43.684295Z",
     "shell.execute_reply": "2022-03-21T02:16:43.684647Z"
    },
    "papermill": {
     "duration": 0.029284,
     "end_time": "2022-03-21T02:16:43.684756",
     "exception": false,
     "start_time": "2022-03-21T02:16:43.655472",
     "status": "completed"
    },
    "tags": []
   },
   "outputs": [],
   "source": [
    "# from steves_utils.ORACLE.utils_v2 import (\n",
    "#     ALL_DISTANCES_FEET,\n",
    "#     ALL_RUNS,\n",
    "#     ALL_SERIAL_NUMBERS,\n",
    "# )\n",
    "\n",
    "\n",
    "# add_dataset(\n",
    "#     labels=ALL_SERIAL_NUMBERS,\n",
    "#     domains = list(set(ALL_DISTANCES_FEET) - {2,62,56}),\n",
    "#     num_examples_per_domain_per_label=100,\n",
    "#     pickle_path=os.path.join(get_datasets_base_path(), \"oracle.Run2_framed_2000Examples_stratified_ds.2022A.pkl\"),\n",
    "#     source_or_target_dataset=\"source\",\n",
    "#     x_transform_func=global_x_transform_func,\n",
    "#     domain_modifier=lambda u: f\"oracle2_{u}\"\n",
    "# )"
   ]
  },
  {
   "cell_type": "code",
   "execution_count": 17,
   "id": "6f289866",
   "metadata": {
    "execution": {
     "iopub.execute_input": "2022-03-21T02:16:43.719858Z",
     "iopub.status.busy": "2022-03-21T02:16:43.719606Z",
     "iopub.status.idle": "2022-03-21T02:16:43.732954Z",
     "shell.execute_reply": "2022-03-21T02:16:43.733346Z"
    },
    "papermill": {
     "duration": 0.02977,
     "end_time": "2022-03-21T02:16:43.733454",
     "exception": false,
     "start_time": "2022-03-21T02:16:43.703684",
     "status": "completed"
    },
    "tags": []
   },
   "outputs": [],
   "source": [
    "# add_dataset(\n",
    "#     labels=list(range(19)),\n",
    "#     domains = [0,1,2],\n",
    "#     num_examples_per_domain_per_label=100,\n",
    "#     pickle_path=os.path.join(get_datasets_base_path(), \"metehan.stratified_ds.2022A.pkl\"),\n",
    "#     source_or_target_dataset=\"target\",\n",
    "#     x_transform_func=global_x_transform_func,\n",
    "#     domain_modifier=lambda u: f\"met_{u}\"\n",
    "# )"
   ]
  },
  {
   "cell_type": "code",
   "execution_count": 18,
   "id": "86a863c3",
   "metadata": {
    "execution": {
     "iopub.execute_input": "2022-03-21T02:16:43.769065Z",
     "iopub.status.busy": "2022-03-21T02:16:43.768813Z",
     "iopub.status.idle": "2022-03-21T02:16:43.783966Z",
     "shell.execute_reply": "2022-03-21T02:16:43.784338Z"
    },
    "papermill": {
     "duration": 0.031989,
     "end_time": "2022-03-21T02:16:43.784455",
     "exception": false,
     "start_time": "2022-03-21T02:16:43.752466",
     "status": "completed"
    },
    "tags": []
   },
   "outputs": [],
   "source": [
    "# # from steves_utils.wisig.utils import (\n",
    "# #     ALL_NODES_MINIMUM_100_EXAMPLES,\n",
    "# #     ALL_NODES_MINIMUM_500_EXAMPLES,\n",
    "# #     ALL_NODES_MINIMUM_1000_EXAMPLES,\n",
    "# #     ALL_DAYS\n",
    "# # )\n",
    "\n",
    "# import steves_utils.wisig.utils as wisig\n",
    "\n",
    "\n",
    "# add_dataset(\n",
    "#     labels=wisig.ALL_NODES_MINIMUM_100_EXAMPLES,\n",
    "#     domains = wisig.ALL_DAYS,\n",
    "#     num_examples_per_domain_per_label=100,\n",
    "#     pickle_path=os.path.join(get_datasets_base_path(), \"wisig.node3-19.stratified_ds.2022A.pkl\"),\n",
    "#     source_or_target_dataset=\"target\",\n",
    "#     x_transform_func=global_x_transform_func,\n",
    "#     domain_modifier=lambda u: f\"wisig_{u}\"\n",
    "# )"
   ]
  },
  {
   "cell_type": "code",
   "execution_count": 19,
   "id": "fd5442bc",
   "metadata": {
    "execution": {
     "iopub.execute_input": "2022-03-21T02:16:43.824139Z",
     "iopub.status.busy": "2022-03-21T02:16:43.823880Z",
     "iopub.status.idle": "2022-03-21T02:16:43.837321Z",
     "shell.execute_reply": "2022-03-21T02:16:43.836932Z"
    },
    "papermill": {
     "duration": 0.033202,
     "end_time": "2022-03-21T02:16:43.837409",
     "exception": false,
     "start_time": "2022-03-21T02:16:43.804207",
     "status": "completed"
    },
    "tags": []
   },
   "outputs": [],
   "source": [
    "###################################\n",
    "# Build the dataset\n",
    "###################################\n",
    "train_original_source = Iterable_Aggregator(train_original_source, p.seed)\n",
    "val_original_source = Iterable_Aggregator(val_original_source, p.seed)\n",
    "test_original_source = Iterable_Aggregator(test_original_source, p.seed)\n",
    "\n",
    "\n",
    "train_original_target = Iterable_Aggregator(train_original_target, p.seed)\n",
    "val_original_target = Iterable_Aggregator(val_original_target, p.seed)\n",
    "test_original_target = Iterable_Aggregator(test_original_target, p.seed)\n",
    "\n",
    "# For CNN We only use X and Y. And we only train on the source.\n",
    "# Properly form the data using a transform lambda and Lazy_Iterable_Wrapper. Finally wrap them in a dataloader\n",
    "\n",
    "transform_lambda = lambda ex: ex[1] # Original is (<domain>, <episode>) so we strip down to episode only\n",
    "\n",
    "train_processed_source = Lazy_Iterable_Wrapper(train_original_source, transform_lambda)\n",
    "val_processed_source   = Lazy_Iterable_Wrapper(val_original_source, transform_lambda)\n",
    "test_processed_source  = Lazy_Iterable_Wrapper(test_original_source, transform_lambda)\n",
    "\n",
    "train_processed_target = Lazy_Iterable_Wrapper(train_original_target, transform_lambda)\n",
    "val_processed_target   = Lazy_Iterable_Wrapper(val_original_target, transform_lambda)\n",
    "test_processed_target  = Lazy_Iterable_Wrapper(test_original_target, transform_lambda)\n",
    "\n",
    "datasets = EasyDict({\n",
    "    \"source\": {\n",
    "        \"original\": {\"train\":train_original_source, \"val\":val_original_source, \"test\":test_original_source},\n",
    "        \"processed\": {\"train\":train_processed_source, \"val\":val_processed_source, \"test\":test_processed_source}\n",
    "    },\n",
    "    \"target\": {\n",
    "        \"original\": {\"train\":train_original_target, \"val\":val_original_target, \"test\":test_original_target},\n",
    "        \"processed\": {\"train\":train_processed_target, \"val\":val_processed_target, \"test\":test_processed_target}\n",
    "    },\n",
    "})"
   ]
  },
  {
   "cell_type": "code",
   "execution_count": 20,
   "id": "5b3c01fc",
   "metadata": {
    "execution": {
     "iopub.execute_input": "2022-03-21T02:16:43.873379Z",
     "iopub.status.busy": "2022-03-21T02:16:43.873129Z",
     "iopub.status.idle": "2022-03-21T02:16:52.767633Z",
     "shell.execute_reply": "2022-03-21T02:16:52.768061Z"
    },
    "papermill": {
     "duration": 8.911781,
     "end_time": "2022-03-21T02:16:52.768203",
     "exception": false,
     "start_time": "2022-03-21T02:16:43.856422",
     "status": "completed"
    },
    "tags": []
   },
   "outputs": [
    {
     "name": "stdout",
     "output_type": "stream",
     "text": [
      "{'O_50', 'O_32', 'O_20', 'O_38', 'O_44', 'O_8', 'O_14', 'O_26'}\n"
     ]
    },
    {
     "name": "stdout",
     "output_type": "stream",
     "text": [
      "{'C_3', 'C_5', 'W_4', 'W_3', 'W_2', 'C_2', 'C_1', 'W_1', 'C_4'}\n"
     ]
    },
    {
     "name": "stdout",
     "output_type": "stream",
     "text": [
      "tensor([[[ 8.7811e-01,  1.0491e+00, -5.2810e-01,  ...,  6.3614e-01,\n",
      "           6.5089e-01,  1.1922e+00],\n",
      "         [-5.5415e-01,  1.2967e-01,  9.7587e-01,  ...,  9.3159e-01,\n",
      "           7.4736e-01, -3.6365e-01]],\n",
      "\n",
      "        [[ 4.5133e-01,  1.2198e+00,  4.4993e-02,  ...,  5.5299e-01,\n",
      "          -4.7954e-01,  6.0680e-01],\n",
      "         [-3.8053e-01,  5.2255e-01,  6.2250e-01,  ...,  4.0995e-01,\n",
      "           1.1655e+00,  6.3729e-01]],\n",
      "\n",
      "        [[-3.5217e-01, -8.1919e-01,  2.1608e-01,  ..., -5.3617e-01,\n",
      "           1.0090e+00,  3.5920e-02],\n",
      "         [ 2.6413e-01, -8.1648e-01, -7.2088e-01,  ..., -4.8177e-01,\n",
      "          -9.7086e-01, -8.0159e-01]],\n",
      "\n",
      "        ...,\n",
      "\n",
      "        [[-4.3317e-01, -1.1566e+00, -1.0410e-01,  ..., -9.3470e-01,\n",
      "          -9.2491e-01, -1.1399e+00],\n",
      "         [ 1.0277e+00,  5.0329e-01, -1.0004e+00,  ..., -5.2228e-01,\n",
      "          -5.3969e-01,  5.8592e-01]],\n",
      "\n",
      "        [[ 5.3353e-01,  2.1818e-01, -6.2163e-01,  ..., -4.8091e-02,\n",
      "          -1.2558e+00, -2.9783e-01],\n",
      "         [-4.8914e-16,  1.1586e+00,  3.5970e-01,  ...,  7.4092e-01,\n",
      "           1.8264e-01,  7.9458e-01]],\n",
      "\n",
      "        [[ 9.3520e-01,  9.0946e-01, -7.0035e-01,  ...,  4.2561e-01,\n",
      "           6.1819e-01,  1.3908e+00],\n",
      "         [-5.2755e-01,  2.1641e-01,  9.0133e-01,  ...,  9.1893e-01,\n",
      "           6.7785e-01, -2.5718e-01]]])\n"
     ]
    }
   ],
   "source": [
    "from steves_utils.transforms import get_average_magnitude, get_average_power\n",
    "\n",
    "print(set([u for u,_ in val_original_source]))\n",
    "print(set([u for u,_ in val_original_target]))\n",
    "\n",
    "s_x, s_y, q_x, q_y, _ = next(iter(train_processed_source))\n",
    "print(s_x)\n",
    "\n",
    "# for ds in [\n",
    "#     train_processed_source,\n",
    "#     val_processed_source,\n",
    "#     test_processed_source,\n",
    "#     train_processed_target,\n",
    "#     val_processed_target,\n",
    "#     test_processed_target\n",
    "# ]:\n",
    "#     for s_x, s_y, q_x, q_y, _ in ds:\n",
    "#         for X in (s_x, q_x):\n",
    "#             for x in X:\n",
    "#                 assert np.isclose(get_average_magnitude(x.numpy()), 1.0)\n",
    "#                 assert np.isclose(get_average_power(x.numpy()), 1.0)\n",
    "                "
   ]
  },
  {
   "cell_type": "code",
   "execution_count": 21,
   "id": "bbdacba1",
   "metadata": {
    "execution": {
     "iopub.execute_input": "2022-03-21T02:16:52.805933Z",
     "iopub.status.busy": "2022-03-21T02:16:52.805665Z",
     "iopub.status.idle": "2022-03-21T02:16:52.859524Z",
     "shell.execute_reply": "2022-03-21T02:16:52.859902Z"
    },
    "papermill": {
     "duration": 0.072261,
     "end_time": "2022-03-21T02:16:52.860015",
     "exception": false,
     "start_time": "2022-03-21T02:16:52.787754",
     "status": "completed"
    },
    "tags": []
   },
   "outputs": [
    {
     "name": "stdout",
     "output_type": "stream",
     "text": [
      "(2, 200)\n"
     ]
    }
   ],
   "source": [
    "###################################\n",
    "# Build the model\n",
    "###################################\n",
    "# easfsl only wants a tuple for the shape\n",
    "model = Steves_Prototypical_Network(x_net, device=p.device, x_shape=tuple(p.x_shape))\n",
    "optimizer = Adam(params=model.parameters(), lr=p.lr)"
   ]
  },
  {
   "cell_type": "code",
   "execution_count": 22,
   "id": "22b39ac5",
   "metadata": {
    "execution": {
     "iopub.execute_input": "2022-03-21T02:16:52.894395Z",
     "iopub.status.busy": "2022-03-21T02:16:52.894139Z",
     "iopub.status.idle": "2022-03-21T02:44:42.798374Z",
     "shell.execute_reply": "2022-03-21T02:44:42.798131Z"
    },
    "papermill": {
     "duration": 1669.921637,
     "end_time": "2022-03-21T02:44:42.798435",
     "exception": false,
     "start_time": "2022-03-21T02:16:52.876798",
     "status": "completed"
    },
    "tags": []
   },
   "outputs": [
    {
     "name": "stdout",
     "output_type": "stream",
     "text": [
      "epoch: 1, [batch: 1 / 6720], examples_per_second: 45.8454, train_label_loss: 3.0268, \n"
     ]
    },
    {
     "name": "stdout",
     "output_type": "stream",
     "text": [
      "epoch: 1, [batch: 672 / 6720], examples_per_second: 3728.8333, train_label_loss: 1.5425, \n"
     ]
    },
    {
     "name": "stdout",
     "output_type": "stream",
     "text": [
      "epoch: 1, [batch: 1344 / 6720], examples_per_second: 3762.9161, train_label_loss: 0.8000, \n"
     ]
    },
    {
     "name": "stdout",
     "output_type": "stream",
     "text": [
      "epoch: 1, [batch: 2016 / 6720], examples_per_second: 3749.3203, train_label_loss: 0.9751, \n"
     ]
    },
    {
     "name": "stdout",
     "output_type": "stream",
     "text": [
      "epoch: 1, [batch: 2688 / 6720], examples_per_second: 3735.3908, train_label_loss: 0.8269, \n"
     ]
    },
    {
     "name": "stdout",
     "output_type": "stream",
     "text": [
      "epoch: 1, [batch: 3360 / 6720], examples_per_second: 3757.6324, train_label_loss: 0.6873, \n"
     ]
    },
    {
     "name": "stdout",
     "output_type": "stream",
     "text": [
      "epoch: 1, [batch: 4032 / 6720], examples_per_second: 3749.2471, train_label_loss: 1.0366, \n"
     ]
    },
    {
     "name": "stdout",
     "output_type": "stream",
     "text": [
      "epoch: 1, [batch: 4704 / 6720], examples_per_second: 3742.6684, train_label_loss: 1.6801, \n"
     ]
    },
    {
     "name": "stdout",
     "output_type": "stream",
     "text": [
      "epoch: 1, [batch: 5376 / 6720], examples_per_second: 3722.6169, train_label_loss: 1.1460, \n"
     ]
    },
    {
     "name": "stdout",
     "output_type": "stream",
     "text": [
      "epoch: 1, [batch: 6048 / 6720], examples_per_second: 3717.7092, train_label_loss: 0.8018, \n"
     ]
    },
    {
     "name": "stdout",
     "output_type": "stream",
     "text": [
      "=============================================================\n",
      "epoch: 1, source_val_acc_label: 0.6672, target_val_acc_label: 0.4169, source_val_label_loss: 7.6907, target_val_label_loss: 1891.7683, \n",
      "=============================================================\n"
     ]
    },
    {
     "name": "stdout",
     "output_type": "stream",
     "text": [
      "New best\n"
     ]
    },
    {
     "name": "stdout",
     "output_type": "stream",
     "text": [
      "epoch: 2, [batch: 1 / 6720], examples_per_second: 4.3622, train_label_loss: 1.3760, \n"
     ]
    },
    {
     "name": "stdout",
     "output_type": "stream",
     "text": [
      "epoch: 2, [batch: 672 / 6720], examples_per_second: 3205.9570, train_label_loss: 1.3549, \n"
     ]
    },
    {
     "name": "stdout",
     "output_type": "stream",
     "text": [
      "epoch: 2, [batch: 1344 / 6720], examples_per_second: 3315.0199, train_label_loss: 0.7003, \n"
     ]
    },
    {
     "name": "stdout",
     "output_type": "stream",
     "text": [
      "epoch: 2, [batch: 2016 / 6720], examples_per_second: 3749.0883, train_label_loss: 0.6881, \n"
     ]
    },
    {
     "name": "stdout",
     "output_type": "stream",
     "text": [
      "epoch: 2, [batch: 2688 / 6720], examples_per_second: 3731.0312, train_label_loss: 0.8387, \n"
     ]
    },
    {
     "name": "stdout",
     "output_type": "stream",
     "text": [
      "epoch: 2, [batch: 3360 / 6720], examples_per_second: 3742.0024, train_label_loss: 0.6587, \n"
     ]
    },
    {
     "name": "stdout",
     "output_type": "stream",
     "text": [
      "epoch: 2, [batch: 4032 / 6720], examples_per_second: 3707.2264, train_label_loss: 0.5679, \n"
     ]
    },
    {
     "name": "stdout",
     "output_type": "stream",
     "text": [
      "epoch: 2, [batch: 4704 / 6720], examples_per_second: 3725.5002, train_label_loss: 1.1597, \n"
     ]
    },
    {
     "name": "stdout",
     "output_type": "stream",
     "text": [
      "epoch: 2, [batch: 5376 / 6720], examples_per_second: 3732.0939, train_label_loss: 0.3013, \n"
     ]
    },
    {
     "name": "stdout",
     "output_type": "stream",
     "text": [
      "epoch: 2, [batch: 6048 / 6720], examples_per_second: 3756.2636, train_label_loss: 0.6290, \n"
     ]
    },
    {
     "name": "stdout",
     "output_type": "stream",
     "text": [
      "=============================================================\n",
      "epoch: 2, source_val_acc_label: 0.7063, target_val_acc_label: 0.5322, source_val_label_loss: 0.7879, target_val_label_loss: 359.1170, \n",
      "=============================================================\n"
     ]
    },
    {
     "name": "stdout",
     "output_type": "stream",
     "text": [
      "New best\n"
     ]
    },
    {
     "name": "stdout",
     "output_type": "stream",
     "text": [
      "epoch: 3, [batch: 1 / 6720], examples_per_second: 4.3648, train_label_loss: 0.4412, \n"
     ]
    },
    {
     "name": "stdout",
     "output_type": "stream",
     "text": [
      "epoch: 3, [batch: 672 / 6720], examples_per_second: 3703.6565, train_label_loss: 1.4333, \n"
     ]
    },
    {
     "name": "stdout",
     "output_type": "stream",
     "text": [
      "epoch: 3, [batch: 1344 / 6720], examples_per_second: 3748.4289, train_label_loss: 0.3583, \n"
     ]
    },
    {
     "name": "stdout",
     "output_type": "stream",
     "text": [
      "epoch: 3, [batch: 2016 / 6720], examples_per_second: 3754.1991, train_label_loss: 0.8092, \n"
     ]
    },
    {
     "name": "stdout",
     "output_type": "stream",
     "text": [
      "epoch: 3, [batch: 2688 / 6720], examples_per_second: 3734.2396, train_label_loss: 0.6568, \n"
     ]
    },
    {
     "name": "stdout",
     "output_type": "stream",
     "text": [
      "epoch: 3, [batch: 3360 / 6720], examples_per_second: 3737.8239, train_label_loss: 0.8522, \n"
     ]
    },
    {
     "name": "stdout",
     "output_type": "stream",
     "text": [
      "epoch: 3, [batch: 4032 / 6720], examples_per_second: 3715.9276, train_label_loss: 0.7297, \n"
     ]
    },
    {
     "name": "stdout",
     "output_type": "stream",
     "text": [
      "epoch: 3, [batch: 4704 / 6720], examples_per_second: 3716.4808, train_label_loss: 0.4073, \n"
     ]
    },
    {
     "name": "stdout",
     "output_type": "stream",
     "text": [
      "epoch: 3, [batch: 5376 / 6720], examples_per_second: 3712.7016, train_label_loss: 0.6208, \n"
     ]
    },
    {
     "name": "stdout",
     "output_type": "stream",
     "text": [
      "epoch: 3, [batch: 6048 / 6720], examples_per_second: 3746.0434, train_label_loss: 0.6218, \n"
     ]
    },
    {
     "name": "stdout",
     "output_type": "stream",
     "text": [
      "=============================================================\n",
      "epoch: 3, source_val_acc_label: 0.7477, target_val_acc_label: 0.5995, source_val_label_loss: 0.6730, target_val_label_loss: 316.3982, \n",
      "=============================================================\n"
     ]
    },
    {
     "name": "stdout",
     "output_type": "stream",
     "text": [
      "New best\n"
     ]
    },
    {
     "name": "stdout",
     "output_type": "stream",
     "text": [
      "epoch: 4, [batch: 1 / 6720], examples_per_second: 4.3278, train_label_loss: 0.6791, \n"
     ]
    },
    {
     "name": "stdout",
     "output_type": "stream",
     "text": [
      "epoch: 4, [batch: 672 / 6720], examples_per_second: 3636.3296, train_label_loss: 0.2841, \n"
     ]
    },
    {
     "name": "stdout",
     "output_type": "stream",
     "text": [
      "epoch: 4, [batch: 1344 / 6720], examples_per_second: 3741.5015, train_label_loss: 0.3727, \n"
     ]
    },
    {
     "name": "stdout",
     "output_type": "stream",
     "text": [
      "epoch: 4, [batch: 2016 / 6720], examples_per_second: 3732.3227, train_label_loss: 0.3987, \n"
     ]
    },
    {
     "name": "stdout",
     "output_type": "stream",
     "text": [
      "epoch: 4, [batch: 2688 / 6720], examples_per_second: 3716.9922, train_label_loss: 0.3259, \n"
     ]
    },
    {
     "name": "stdout",
     "output_type": "stream",
     "text": [
      "epoch: 4, [batch: 3360 / 6720], examples_per_second: 3750.4003, train_label_loss: 0.5119, \n"
     ]
    },
    {
     "name": "stdout",
     "output_type": "stream",
     "text": [
      "epoch: 4, [batch: 4032 / 6720], examples_per_second: 3733.7957, train_label_loss: 0.3543, \n"
     ]
    },
    {
     "name": "stdout",
     "output_type": "stream",
     "text": [
      "epoch: 4, [batch: 4704 / 6720], examples_per_second: 3719.6233, train_label_loss: 1.1653, \n"
     ]
    },
    {
     "name": "stdout",
     "output_type": "stream",
     "text": [
      "epoch: 4, [batch: 5376 / 6720], examples_per_second: 3747.4344, train_label_loss: 0.3518, \n"
     ]
    },
    {
     "name": "stdout",
     "output_type": "stream",
     "text": [
      "epoch: 4, [batch: 6048 / 6720], examples_per_second: 3731.3480, train_label_loss: 0.4964, \n"
     ]
    },
    {
     "name": "stdout",
     "output_type": "stream",
     "text": [
      "=============================================================\n",
      "epoch: 4, source_val_acc_label: 0.8109, target_val_acc_label: 0.5985, source_val_label_loss: 0.5247, target_val_label_loss: 329.9600, \n",
      "=============================================================\n"
     ]
    },
    {
     "name": "stdout",
     "output_type": "stream",
     "text": [
      "epoch: 5, [batch: 1 / 6720], examples_per_second: 4.3627, train_label_loss: 0.9998, \n"
     ]
    },
    {
     "name": "stdout",
     "output_type": "stream",
     "text": [
      "epoch: 5, [batch: 672 / 6720], examples_per_second: 3701.5754, train_label_loss: 0.6231, \n"
     ]
    },
    {
     "name": "stdout",
     "output_type": "stream",
     "text": [
      "epoch: 5, [batch: 1344 / 6720], examples_per_second: 3694.0395, train_label_loss: 0.3145, \n"
     ]
    },
    {
     "name": "stdout",
     "output_type": "stream",
     "text": [
      "epoch: 5, [batch: 2016 / 6720], examples_per_second: 3707.4314, train_label_loss: 0.3308, \n"
     ]
    },
    {
     "name": "stdout",
     "output_type": "stream",
     "text": [
      "epoch: 5, [batch: 2688 / 6720], examples_per_second: 3730.7004, train_label_loss: 0.2766, \n"
     ]
    },
    {
     "name": "stdout",
     "output_type": "stream",
     "text": [
      "epoch: 5, [batch: 3360 / 6720], examples_per_second: 3739.7261, train_label_loss: 0.4777, \n"
     ]
    },
    {
     "name": "stdout",
     "output_type": "stream",
     "text": [
      "epoch: 5, [batch: 4032 / 6720], examples_per_second: 3723.2359, train_label_loss: 0.4904, \n"
     ]
    },
    {
     "name": "stdout",
     "output_type": "stream",
     "text": [
      "epoch: 5, [batch: 4704 / 6720], examples_per_second: 3739.5261, train_label_loss: 0.4205, \n"
     ]
    },
    {
     "name": "stdout",
     "output_type": "stream",
     "text": [
      "epoch: 5, [batch: 5376 / 6720], examples_per_second: 3741.3335, train_label_loss: 0.3924, \n"
     ]
    },
    {
     "name": "stdout",
     "output_type": "stream",
     "text": [
      "epoch: 5, [batch: 6048 / 6720], examples_per_second: 3727.3153, train_label_loss: 0.0985, \n"
     ]
    },
    {
     "name": "stdout",
     "output_type": "stream",
     "text": [
      "=============================================================\n",
      "epoch: 5, source_val_acc_label: 0.8137, target_val_acc_label: 0.6020, source_val_label_loss: 0.5095, target_val_label_loss: 363.4117, \n",
      "=============================================================\n"
     ]
    },
    {
     "name": "stdout",
     "output_type": "stream",
     "text": [
      "New best\n"
     ]
    },
    {
     "name": "stdout",
     "output_type": "stream",
     "text": [
      "epoch: 6, [batch: 1 / 6720], examples_per_second: 4.3541, train_label_loss: 0.3960, \n"
     ]
    },
    {
     "name": "stdout",
     "output_type": "stream",
     "text": [
      "epoch: 6, [batch: 672 / 6720], examples_per_second: 3725.8085, train_label_loss: 0.5734, \n"
     ]
    },
    {
     "name": "stdout",
     "output_type": "stream",
     "text": [
      "epoch: 6, [batch: 1344 / 6720], examples_per_second: 3757.8779, train_label_loss: 0.4131, \n"
     ]
    },
    {
     "name": "stdout",
     "output_type": "stream",
     "text": [
      "epoch: 6, [batch: 2016 / 6720], examples_per_second: 3755.8829, train_label_loss: 0.4248, \n"
     ]
    },
    {
     "name": "stdout",
     "output_type": "stream",
     "text": [
      "epoch: 6, [batch: 2688 / 6720], examples_per_second: 3759.8832, train_label_loss: 0.2637, \n"
     ]
    },
    {
     "name": "stdout",
     "output_type": "stream",
     "text": [
      "epoch: 6, [batch: 3360 / 6720], examples_per_second: 3758.9215, train_label_loss: 0.6780, \n"
     ]
    },
    {
     "name": "stdout",
     "output_type": "stream",
     "text": [
      "epoch: 6, [batch: 4032 / 6720], examples_per_second: 3758.1506, train_label_loss: 0.1585, \n"
     ]
    },
    {
     "name": "stdout",
     "output_type": "stream",
     "text": [
      "epoch: 6, [batch: 4704 / 6720], examples_per_second: 3735.8383, train_label_loss: 0.3148, \n"
     ]
    },
    {
     "name": "stdout",
     "output_type": "stream",
     "text": [
      "epoch: 6, [batch: 5376 / 6720], examples_per_second: 3755.5486, train_label_loss: 0.4281, \n"
     ]
    },
    {
     "name": "stdout",
     "output_type": "stream",
     "text": [
      "epoch: 6, [batch: 6048 / 6720], examples_per_second: 3738.2106, train_label_loss: 0.4627, \n"
     ]
    },
    {
     "name": "stdout",
     "output_type": "stream",
     "text": [
      "=============================================================\n",
      "epoch: 6, source_val_acc_label: 0.8136, target_val_acc_label: 0.6160, source_val_label_loss: 0.5078, target_val_label_loss: 341.0368, \n",
      "=============================================================\n"
     ]
    },
    {
     "name": "stdout",
     "output_type": "stream",
     "text": [
      "New best\n"
     ]
    },
    {
     "name": "stdout",
     "output_type": "stream",
     "text": [
      "epoch: 7, [batch: 1 / 6720], examples_per_second: 4.3326, train_label_loss: 0.3845, \n"
     ]
    },
    {
     "name": "stdout",
     "output_type": "stream",
     "text": [
      "epoch: 7, [batch: 672 / 6720], examples_per_second: 3710.5355, train_label_loss: 0.2278, \n"
     ]
    },
    {
     "name": "stdout",
     "output_type": "stream",
     "text": [
      "epoch: 7, [batch: 1344 / 6720], examples_per_second: 3709.9482, train_label_loss: 0.6185, \n"
     ]
    },
    {
     "name": "stdout",
     "output_type": "stream",
     "text": [
      "epoch: 7, [batch: 2016 / 6720], examples_per_second: 3733.4160, train_label_loss: 0.2719, \n"
     ]
    },
    {
     "name": "stdout",
     "output_type": "stream",
     "text": [
      "epoch: 7, [batch: 2688 / 6720], examples_per_second: 3727.2374, train_label_loss: 0.0759, \n"
     ]
    },
    {
     "name": "stdout",
     "output_type": "stream",
     "text": [
      "epoch: 7, [batch: 3360 / 6720], examples_per_second: 3749.2646, train_label_loss: 0.1995, \n"
     ]
    },
    {
     "name": "stdout",
     "output_type": "stream",
     "text": [
      "epoch: 7, [batch: 4032 / 6720], examples_per_second: 3730.7866, train_label_loss: 0.1328, \n"
     ]
    },
    {
     "name": "stdout",
     "output_type": "stream",
     "text": [
      "epoch: 7, [batch: 4704 / 6720], examples_per_second: 3715.2771, train_label_loss: 0.4210, \n"
     ]
    },
    {
     "name": "stdout",
     "output_type": "stream",
     "text": [
      "epoch: 7, [batch: 5376 / 6720], examples_per_second: 3741.8683, train_label_loss: 0.4541, \n"
     ]
    },
    {
     "name": "stdout",
     "output_type": "stream",
     "text": [
      "epoch: 7, [batch: 6048 / 6720], examples_per_second: 3745.3589, train_label_loss: 0.4714, \n"
     ]
    },
    {
     "name": "stdout",
     "output_type": "stream",
     "text": [
      "=============================================================\n",
      "epoch: 7, source_val_acc_label: 0.8497, target_val_acc_label: 0.6090, source_val_label_loss: 0.4158, target_val_label_loss: 385.4892, \n",
      "=============================================================\n"
     ]
    },
    {
     "name": "stdout",
     "output_type": "stream",
     "text": [
      "epoch: 8, [batch: 1 / 6720], examples_per_second: 4.3480, train_label_loss: 0.3017, \n"
     ]
    },
    {
     "name": "stdout",
     "output_type": "stream",
     "text": [
      "epoch: 8, [batch: 672 / 6720], examples_per_second: 3724.0274, train_label_loss: 0.2819, \n"
     ]
    },
    {
     "name": "stdout",
     "output_type": "stream",
     "text": [
      "epoch: 8, [batch: 1344 / 6720], examples_per_second: 3743.3898, train_label_loss: 0.4074, \n"
     ]
    },
    {
     "name": "stdout",
     "output_type": "stream",
     "text": [
      "epoch: 8, [batch: 2016 / 6720], examples_per_second: 3745.7747, train_label_loss: 0.9406, \n"
     ]
    },
    {
     "name": "stdout",
     "output_type": "stream",
     "text": [
      "epoch: 8, [batch: 2688 / 6720], examples_per_second: 3738.8952, train_label_loss: 0.8208, \n"
     ]
    },
    {
     "name": "stdout",
     "output_type": "stream",
     "text": [
      "epoch: 8, [batch: 3360 / 6720], examples_per_second: 3746.5090, train_label_loss: 0.2776, \n"
     ]
    },
    {
     "name": "stdout",
     "output_type": "stream",
     "text": [
      "epoch: 8, [batch: 4032 / 6720], examples_per_second: 3753.0624, train_label_loss: 0.2467, \n"
     ]
    },
    {
     "name": "stdout",
     "output_type": "stream",
     "text": [
      "epoch: 8, [batch: 4704 / 6720], examples_per_second: 3721.8057, train_label_loss: 0.2114, \n"
     ]
    },
    {
     "name": "stdout",
     "output_type": "stream",
     "text": [
      "epoch: 8, [batch: 5376 / 6720], examples_per_second: 3727.4316, train_label_loss: 0.4506, \n"
     ]
    },
    {
     "name": "stdout",
     "output_type": "stream",
     "text": [
      "epoch: 8, [batch: 6048 / 6720], examples_per_second: 3762.0334, train_label_loss: 0.6415, \n"
     ]
    },
    {
     "name": "stdout",
     "output_type": "stream",
     "text": [
      "=============================================================\n",
      "epoch: 8, source_val_acc_label: 0.8356, target_val_acc_label: 0.5935, source_val_label_loss: 0.4419, target_val_label_loss: 476.1113, \n",
      "=============================================================\n"
     ]
    },
    {
     "name": "stdout",
     "output_type": "stream",
     "text": [
      "epoch: 9, [batch: 1 / 6720], examples_per_second: 4.3678, train_label_loss: 0.2710, \n"
     ]
    },
    {
     "name": "stdout",
     "output_type": "stream",
     "text": [
      "epoch: 9, [batch: 672 / 6720], examples_per_second: 3637.6076, train_label_loss: 0.2586, \n"
     ]
    },
    {
     "name": "stdout",
     "output_type": "stream",
     "text": [
      "epoch: 9, [batch: 1344 / 6720], examples_per_second: 3741.8601, train_label_loss: 0.1924, \n"
     ]
    },
    {
     "name": "stdout",
     "output_type": "stream",
     "text": [
      "epoch: 9, [batch: 2016 / 6720], examples_per_second: 3744.7791, train_label_loss: 0.2493, \n"
     ]
    },
    {
     "name": "stdout",
     "output_type": "stream",
     "text": [
      "epoch: 9, [batch: 2688 / 6720], examples_per_second: 3731.3540, train_label_loss: 0.2236, \n"
     ]
    },
    {
     "name": "stdout",
     "output_type": "stream",
     "text": [
      "epoch: 9, [batch: 3360 / 6720], examples_per_second: 3751.9651, train_label_loss: 0.4038, \n"
     ]
    },
    {
     "name": "stdout",
     "output_type": "stream",
     "text": [
      "epoch: 9, [batch: 4032 / 6720], examples_per_second: 3737.2107, train_label_loss: 0.1608, \n"
     ]
    },
    {
     "name": "stdout",
     "output_type": "stream",
     "text": [
      "epoch: 9, [batch: 4704 / 6720], examples_per_second: 3725.3677, train_label_loss: 0.1567, \n"
     ]
    },
    {
     "name": "stdout",
     "output_type": "stream",
     "text": [
      "epoch: 9, [batch: 5376 / 6720], examples_per_second: 3711.2103, train_label_loss: 0.2819, \n"
     ]
    },
    {
     "name": "stdout",
     "output_type": "stream",
     "text": [
      "epoch: 9, [batch: 6048 / 6720], examples_per_second: 3722.6512, train_label_loss: 0.3056, \n"
     ]
    },
    {
     "name": "stdout",
     "output_type": "stream",
     "text": [
      "=============================================================\n",
      "epoch: 9, source_val_acc_label: 0.8629, target_val_acc_label: 0.6053, source_val_label_loss: 0.3722, target_val_label_loss: 506.1584, \n",
      "=============================================================\n"
     ]
    },
    {
     "name": "stdout",
     "output_type": "stream",
     "text": [
      "epoch: 10, [batch: 1 / 6720], examples_per_second: 4.3453, train_label_loss: 0.3014, \n"
     ]
    },
    {
     "name": "stdout",
     "output_type": "stream",
     "text": [
      "epoch: 10, [batch: 672 / 6720], examples_per_second: 3702.6943, train_label_loss: 1.0810, \n"
     ]
    },
    {
     "name": "stdout",
     "output_type": "stream",
     "text": [
      "epoch: 10, [batch: 1344 / 6720], examples_per_second: 3697.0482, train_label_loss: 0.2927, \n"
     ]
    },
    {
     "name": "stdout",
     "output_type": "stream",
     "text": [
      "epoch: 10, [batch: 2016 / 6720], examples_per_second: 3624.3363, train_label_loss: 0.2708, \n"
     ]
    },
    {
     "name": "stdout",
     "output_type": "stream",
     "text": [
      "epoch: 10, [batch: 2688 / 6720], examples_per_second: 3599.4574, train_label_loss: 0.2948, \n"
     ]
    },
    {
     "name": "stdout",
     "output_type": "stream",
     "text": [
      "epoch: 10, [batch: 3360 / 6720], examples_per_second: 3685.7741, train_label_loss: 0.1897, \n"
     ]
    },
    {
     "name": "stdout",
     "output_type": "stream",
     "text": [
      "epoch: 10, [batch: 4032 / 6720], examples_per_second: 3733.1423, train_label_loss: 0.2267, \n"
     ]
    },
    {
     "name": "stdout",
     "output_type": "stream",
     "text": [
      "epoch: 10, [batch: 4704 / 6720], examples_per_second: 3705.2926, train_label_loss: 0.1661, \n"
     ]
    },
    {
     "name": "stdout",
     "output_type": "stream",
     "text": [
      "epoch: 10, [batch: 5376 / 6720], examples_per_second: 3724.8102, train_label_loss: 0.2903, \n"
     ]
    },
    {
     "name": "stdout",
     "output_type": "stream",
     "text": [
      "epoch: 10, [batch: 6048 / 6720], examples_per_second: 3743.3176, train_label_loss: 0.0652, \n"
     ]
    },
    {
     "name": "stdout",
     "output_type": "stream",
     "text": [
      "=============================================================\n",
      "epoch: 10, source_val_acc_label: 0.8560, target_val_acc_label: 0.6068, source_val_label_loss: 0.3963, target_val_label_loss: 569.3895, \n",
      "=============================================================\n"
     ]
    },
    {
     "name": "stdout",
     "output_type": "stream",
     "text": [
      "Patience (3) exhausted\n"
     ]
    }
   ],
   "source": [
    "###################################\n",
    "# train\n",
    "###################################\n",
    "jig = PTN_Train_Eval_Test_Jig(model, p.BEST_MODEL_PATH, p.device)\n",
    "\n",
    "jig.train(\n",
    "    train_iterable=datasets.source.processed.train,\n",
    "    source_val_iterable=datasets.source.processed.val,\n",
    "    target_val_iterable=datasets.target.processed.val,\n",
    "    num_epochs=p.n_epoch,\n",
    "    num_logs_per_epoch=p.NUM_LOGS_PER_EPOCH,\n",
    "    patience=p.patience,\n",
    "    optimizer=optimizer,\n",
    "    criteria_for_best=p.criteria_for_best,\n",
    ")"
   ]
  },
  {
   "cell_type": "code",
   "execution_count": 23,
   "id": "31e8fabf",
   "metadata": {
    "execution": {
     "iopub.execute_input": "2022-03-21T02:44:42.870435Z",
     "iopub.status.busy": "2022-03-21T02:44:42.870179Z",
     "iopub.status.idle": "2022-03-21T02:44:42.890438Z",
     "shell.execute_reply": "2022-03-21T02:44:42.889973Z"
    },
    "papermill": {
     "duration": 0.057799,
     "end_time": "2022-03-21T02:44:42.890546",
     "exception": false,
     "start_time": "2022-03-21T02:44:42.832747",
     "status": "completed"
    },
    "tags": []
   },
   "outputs": [],
   "source": [
    "total_experiment_time_secs = time.time() - start_time_secs"
   ]
  },
  {
   "cell_type": "code",
   "execution_count": 24,
   "id": "87b9595b",
   "metadata": {
    "execution": {
     "iopub.execute_input": "2022-03-21T02:44:42.970385Z",
     "iopub.status.busy": "2022-03-21T02:44:42.970116Z",
     "iopub.status.idle": "2022-03-21T02:47:05.793821Z",
     "shell.execute_reply": "2022-03-21T02:47:05.794220Z"
    },
    "papermill": {
     "duration": 142.864772,
     "end_time": "2022-03-21T02:47:05.794361",
     "exception": false,
     "start_time": "2022-03-21T02:44:42.929589",
     "status": "completed"
    },
    "tags": []
   },
   "outputs": [],
   "source": [
    "###################################\n",
    "# Evaluate the model\n",
    "###################################\n",
    "source_test_label_accuracy, source_test_label_loss = jig.test(datasets.source.processed.test)\n",
    "target_test_label_accuracy, target_test_label_loss = jig.test(datasets.target.processed.test)\n",
    "\n",
    "source_val_label_accuracy, source_val_label_loss = jig.test(datasets.source.processed.val)\n",
    "target_val_label_accuracy, target_val_label_loss = jig.test(datasets.target.processed.val)\n",
    "\n",
    "history = jig.get_history()\n",
    "\n",
    "total_epochs_trained = len(history[\"epoch_indices\"])\n",
    "\n",
    "val_dl = Iterable_Aggregator((datasets.source.original.val,datasets.target.original.val))\n",
    "\n",
    "confusion = ptn_confusion_by_domain_over_dataloader(model, p.device, val_dl)\n",
    "per_domain_accuracy = per_domain_accuracy_from_confusion(confusion)\n",
    "\n",
    "# Add a key to per_domain_accuracy for if it was a source domain\n",
    "for domain, accuracy in per_domain_accuracy.items():\n",
    "    per_domain_accuracy[domain] = {\n",
    "        \"accuracy\": accuracy,\n",
    "        \"source?\": domain in p.domains_source\n",
    "    }\n",
    "\n",
    "# Do an independent accuracy assesment JUST TO BE SURE!\n",
    "# _source_test_label_accuracy = independent_accuracy_assesment(model, datasets.source.processed.test, p.device)\n",
    "# _target_test_label_accuracy = independent_accuracy_assesment(model, datasets.target.processed.test, p.device)\n",
    "# _source_val_label_accuracy = independent_accuracy_assesment(model, datasets.source.processed.val, p.device)\n",
    "# _target_val_label_accuracy = independent_accuracy_assesment(model, datasets.target.processed.val, p.device)\n",
    "\n",
    "# assert(_source_test_label_accuracy == source_test_label_accuracy)\n",
    "# assert(_target_test_label_accuracy == target_test_label_accuracy)\n",
    "# assert(_source_val_label_accuracy == source_val_label_accuracy)\n",
    "# assert(_target_val_label_accuracy == target_val_label_accuracy)\n",
    "\n",
    "experiment = {\n",
    "    \"experiment_name\": p.experiment_name,\n",
    "    \"parameters\": dict(p),\n",
    "    \"results\": {\n",
    "        \"source_test_label_accuracy\": source_test_label_accuracy,\n",
    "        \"source_test_label_loss\": source_test_label_loss,\n",
    "        \"target_test_label_accuracy\": target_test_label_accuracy,\n",
    "        \"target_test_label_loss\": target_test_label_loss,\n",
    "        \"source_val_label_accuracy\": source_val_label_accuracy,\n",
    "        \"source_val_label_loss\": source_val_label_loss,\n",
    "        \"target_val_label_accuracy\": target_val_label_accuracy,\n",
    "        \"target_val_label_loss\": target_val_label_loss,\n",
    "        \"total_epochs_trained\": total_epochs_trained,\n",
    "        \"total_experiment_time_secs\": total_experiment_time_secs,\n",
    "        \"confusion\": confusion,\n",
    "        \"per_domain_accuracy\": per_domain_accuracy,\n",
    "    },\n",
    "    \"history\": history,\n",
    "    \"dataset_metrics\": get_dataset_metrics(datasets, \"ptn\"),\n",
    "}"
   ]
  },
  {
   "cell_type": "code",
   "execution_count": 25,
   "id": "54a21829",
   "metadata": {
    "execution": {
     "iopub.execute_input": "2022-03-21T02:47:05.871042Z",
     "iopub.status.busy": "2022-03-21T02:47:05.870770Z",
     "iopub.status.idle": "2022-03-21T02:47:05.996407Z",
     "shell.execute_reply": "2022-03-21T02:47:05.996786Z"
    },
    "papermill": {
     "duration": 0.163375,
     "end_time": "2022-03-21T02:47:05.996902",
     "exception": false,
     "start_time": "2022-03-21T02:47:05.833527",
     "status": "completed"
    },
    "tags": []
   },
   "outputs": [
    {
     "data": {
      "image/png": "[encoded data removed]",
      "text/plain": [
       "<Figure size 1080x504 with 1 Axes>"
      ]
     },
     "metadata": {
      "needs_background": "light"
     },
     "output_type": "display_data"
    }
   ],
   "source": [
    "ax = get_loss_curve(experiment)\n",
    "plt.show()"
   ]
  },
  {
   "cell_type": "code",
   "execution_count": 26,
   "id": "fd8a0f60",
   "metadata": {
    "execution": {
     "iopub.execute_input": "2022-03-21T02:47:06.074031Z",
     "iopub.status.busy": "2022-03-21T02:47:06.073773Z",
     "iopub.status.idle": "2022-03-21T02:47:06.218620Z",
     "shell.execute_reply": "2022-03-21T02:47:06.218906Z"
    },
    "papermill": {
     "duration": 0.183014,
     "end_time": "2022-03-21T02:47:06.218999",
     "exception": false,
     "start_time": "2022-03-21T02:47:06.035985",
     "status": "completed"
    },
    "tags": []
   },
   "outputs": [
    {
     "data": {
      "text/plain": [
       "<AxesSubplot:title={'center':'Results'}>"
      ]
     },
     "execution_count": 26,
     "metadata": {},
     "output_type": "execute_result"
    },
    {
     "data": {
      "image/png": "[encoded data removed]",
      "text/plain": [
       "<Figure size 1080x504 with 1 Axes>"
      ]
     },
     "metadata": {
      "needs_background": "light"
     },
     "output_type": "display_data"
    }
   ],
   "source": [
    "get_results_table(experiment)"
   ]
  },
  {
   "cell_type": "code",
   "execution_count": 27,
   "id": "cf8dc689",
   "metadata": {
    "execution": {
     "iopub.execute_input": "2022-03-21T02:47:06.306616Z",
     "iopub.status.busy": "2022-03-21T02:47:06.306355Z",
     "iopub.status.idle": "2022-03-21T02:47:06.460182Z",
     "shell.execute_reply": "2022-03-21T02:47:06.460540Z"
    },
    "papermill": {
     "duration": 0.193798,
     "end_time": "2022-03-21T02:47:06.460658",
     "exception": false,
     "start_time": "2022-03-21T02:47:06.266860",
     "status": "completed"
    },
    "tags": []
   },
   "outputs": [
    {
     "data": {
      "text/plain": [
       "<AxesSubplot:title={'center':'Per Domain Validation Accuracy'}, xlabel='domain'>"
      ]
     },
     "execution_count": 27,
     "metadata": {},
     "output_type": "execute_result"
    },
    {
     "data": {
      "image/png": "[encoded data removed]",
      "text/plain": [
       "<Figure size 1080x504 with 1 Axes>"
      ]
     },
     "metadata": {
      "needs_background": "light"
     },
     "output_type": "display_data"
    }
   ],
   "source": [
    "get_domain_accuracies(experiment)"
   ]
  },
  {
   "cell_type": "code",
   "execution_count": 28,
   "id": "a74ae082",
   "metadata": {
    "execution": {
     "iopub.execute_input": "2022-03-21T02:47:06.544023Z",
     "iopub.status.busy": "2022-03-21T02:47:06.543762Z",
     "iopub.status.idle": "2022-03-21T02:47:06.559761Z",
     "shell.execute_reply": "2022-03-21T02:47:06.559309Z"
    },
    "papermill": {
     "duration": 0.056099,
     "end_time": "2022-03-21T02:47:06.559852",
     "exception": false,
     "start_time": "2022-03-21T02:47:06.503753",
     "status": "completed"
    },
    "tags": []
   },
   "outputs": [
    {
     "name": "stdout",
     "output_type": "stream",
     "text": [
      "Source Test Label Accuracy: 0.8176106770833333 Target Test Label Accuracy: 0.618628640776699\n",
      "Source Val Label Accuracy: 0.8136067708333333 Target Val Label Accuracy: 0.6159783205268935\n"
     ]
    }
   ],
   "source": [
    "print(\"Source Test Label Accuracy:\", experiment[\"results\"][\"source_test_label_accuracy\"], \"Target Test Label Accuracy:\", experiment[\"results\"][\"target_test_label_accuracy\"])\n",
    "print(\"Source Val Label Accuracy:\", experiment[\"results\"][\"source_val_label_accuracy\"], \"Target Val Label Accuracy:\", experiment[\"results\"][\"target_val_label_accuracy\"])"
   ]
  },
  {
   "cell_type": "code",
   "execution_count": 29,
   "id": "dacca602",
   "metadata": {
    "execution": {
     "iopub.execute_input": "2022-03-21T02:47:06.644006Z",
     "iopub.status.busy": "2022-03-21T02:47:06.643756Z",
     "iopub.status.idle": "2022-03-21T02:47:06.667539Z",
     "shell.execute_reply": "2022-03-21T02:47:06.667914Z"
    },
    "papermill": {
     "duration": 0.064457,
     "end_time": "2022-03-21T02:47:06.668022",
     "exception": false,
     "start_time": "2022-03-21T02:47:06.603565",
     "status": "completed"
    },
    "tags": [
     "experiment_json"
    ]
   },
   "outputs": [
    {
     "data": {
      "text/plain": [
       "'{\"experiment_name\": \"tl_3Av2:oracle.run1.framed -> cores+wisig\", \"parameters\": {\"experiment_name\": \"tl_3Av2:oracle.run1.framed -> cores+wisig\", \"device\": \"cuda\", \"lr\": 0.0001, \"x_shape\": [2, 200], \"n_shot\": 3, \"n_query\": 2, \"train_k_factor\": 3, \"val_k_factor\": 2, \"test_k_factor\": 2, \"torch_default_dtype\": \"torch.float32\", \"n_epoch\": 50, \"patience\": 3, \"criteria_for_best\": \"target_accuracy\", \"x_net\": [{\"class\": \"nnReshape\", \"kargs\": {\"shape\": [-1, 1, 2, 200]}}, {\"class\": \"Conv2d\", \"kargs\": {\"in_channels\": 1, \"out_channels\": 256, \"kernel_size\": [1, 7], \"bias\": false, \"padding\": [0, 3]}}, {\"class\": \"ReLU\", \"kargs\": {\"inplace\": true}}, {\"class\": \"BatchNorm2d\", \"kargs\": {\"num_features\": 256}}, {\"class\": \"Conv2d\", \"kargs\": {\"in_channels\": 256, \"out_channels\": 80, \"kernel_size\": [2, 7], \"bias\": true, \"padding\": [0, 3]}}, {\"class\": \"ReLU\", \"kargs\": {\"inplace\": true}}, {\"class\": \"BatchNorm2d\", \"kargs\": {\"num_features\": 80}}, {\"class\": \"Flatten\", \"kargs\": {}}, {\"class\": \"Linear\", \"kargs\": {\"in_features\": 16000, \"out_features\": 256}}, {\"class\": \"ReLU\", \"kargs\": {\"inplace\": true}}, {\"class\": \"BatchNorm1d\", \"kargs\": {\"num_features\": 256}}, {\"class\": \"Linear\", \"kargs\": {\"in_features\": 256, \"out_features\": 256}}], \"NUM_LOGS_PER_EPOCH\": 10, \"BEST_MODEL_PATH\": \"./best_model.pth\", \"n_way\": 16, \"datasets\": [{\"labels\": [\"1-10.\", \"1-11.\", \"1-15.\", \"1-16.\", \"1-17.\", \"1-18.\", \"1-19.\", \"10-4.\", \"10-7.\", \"11-1.\", \"11-14.\", \"11-17.\", \"11-20.\", \"11-7.\", \"13-20.\", \"13-8.\", \"14-10.\", \"14-11.\", \"14-14.\", \"14-7.\", \"15-1.\", \"15-20.\", \"16-1.\", \"16-16.\", \"17-10.\", \"17-11.\", \"17-2.\", \"19-1.\", \"19-16.\", \"19-19.\", \"19-20.\", \"19-3.\", \"2-10.\", \"2-11.\", \"2-17.\", \"2-18.\", \"2-20.\", \"2-3.\", \"2-4.\", \"2-5.\", \"2-6.\", \"2-7.\", \"2-8.\", \"3-13.\", \"3-18.\", \"3-3.\", \"4-1.\", \"4-10.\", \"4-11.\", \"4-19.\", \"5-5.\", \"6-15.\", \"7-10.\", \"7-14.\", \"8-18.\", \"8-20.\", \"8-3.\", \"8-8.\"], \"domains\": [1, 2, 3, 4, 5], \"num_examples_per_domain_per_label\": -1, \"pickle_path\": \"/mnt/wd500GB/CSC500/csc500-main/datasets/cores.stratified_ds.2022A.pkl\", \"source_or_target_dataset\": \"target\", \"x_transforms\": [\"unit_mag\", \"take_200\"], \"episode_transforms\": [], \"domain_prefix\": \"C_\"}, {\"labels\": [\"1-10\", \"1-12\", \"1-14\", \"1-16\", \"1-18\", \"1-19\", \"1-8\", \"10-11\", \"10-17\", \"10-4\", \"10-7\", \"11-1\", \"11-10\", \"11-19\", \"11-20\", \"11-4\", \"11-7\", \"12-19\", \"12-20\", \"12-7\", \"13-14\", \"13-18\", \"13-19\", \"13-20\", \"13-3\", \"13-7\", \"14-10\", \"14-11\", \"14-12\", \"14-13\", \"14-14\", \"14-19\", \"14-20\", \"14-7\", \"14-8\", \"14-9\", \"15-1\", \"15-19\", \"15-6\", \"16-1\", \"16-16\", \"16-19\", \"16-20\", \"17-10\", \"17-11\", \"18-1\", \"18-10\", \"18-11\", \"18-12\", \"18-13\", \"18-14\", \"18-15\", \"18-16\", \"18-17\", \"18-19\", \"18-2\", \"18-20\", \"18-4\", \"18-5\", \"18-7\", \"18-8\", \"18-9\", \"19-1\", \"19-10\", \"19-11\", \"19-12\", \"19-13\", \"19-14\", \"19-15\", \"19-19\", \"19-2\", \"19-20\", \"19-3\", \"19-4\", \"19-6\", \"19-7\", \"19-8\", \"19-9\", \"2-1\", \"2-13\", \"2-15\", \"2-3\", \"2-4\", \"2-5\", \"2-6\", \"2-7\", \"2-8\", \"20-1\", \"20-12\", \"20-14\", \"20-15\", \"20-16\", \"20-18\", \"20-19\", \"20-20\", \"20-3\", \"20-4\", \"20-5\", \"20-7\", \"20-8\", \"3-1\", \"3-13\", \"3-18\", \"3-2\", \"3-8\", \"4-1\", \"4-10\", \"4-11\", \"5-1\", \"5-5\", \"6-1\", \"6-15\", \"6-6\", \"7-10\", \"7-11\", \"7-12\", \"7-13\", \"7-14\", \"7-7\", \"7-8\", \"7-9\", \"8-1\", \"8-13\", \"8-14\", \"8-18\", \"8-20\", \"8-3\", \"8-8\", \"9-1\", \"9-7\"], \"domains\": [1, 2, 3, 4], \"num_examples_per_domain_per_label\": -1, \"pickle_path\": \"/mnt/wd500GB/CSC500/csc500-main/datasets/wisig.node3-19.stratified_ds.2022A.pkl\", \"source_or_target_dataset\": \"target\", \"x_transforms\": [\"unit_mag\", \"take_200\"], \"episode_transforms\": [], \"domain_prefix\": \"W_\"}, {\"labels\": [\"3123D52\", \"3123D65\", \"3123D79\", \"3123D80\", \"3123D54\", \"3123D70\", \"3123D7B\", \"3123D89\", \"3123D58\", \"3123D76\", \"3123D7D\", \"3123EFE\", \"3123D64\", \"3123D78\", \"3123D7E\", \"3124E4A\"], \"domains\": [32, 38, 8, 44, 14, 50, 20, 26], \"num_examples_per_domain_per_label\": 2000, \"pickle_path\": \"/mnt/wd500GB/CSC500/csc500-main/datasets/oracle.Run1_framed_2000Examples_stratified_ds.2022A.pkl\", \"source_or_target_dataset\": \"source\", \"x_transforms\": [\"unit_mag\", \"take_200\", \"resample_20Msps_to_25Msps\"], \"episode_transforms\": [], \"domain_prefix\": \"O_\"}], \"seed\": 7, \"dataset_seed\": 7, \"domains_source\": [\"O_32\", \"O_38\", \"O_8\", \"O_44\", \"O_14\", \"O_50\", \"O_20\", \"O_26\"], \"domains_target\": [\"C_1\", \"C_2\", \"C_3\", \"C_4\", \"C_5\", \"W_1\", \"W_2\", \"W_3\", \"W_4\"]}, \"results\": {\"source_test_label_accuracy\": 0.8176106770833333, \"source_test_label_loss\": 0.49613913893699646, \"target_test_label_accuracy\": 0.618628640776699, \"target_test_label_loss\": 339.6107177734375, \"source_val_label_accuracy\": 0.8136067708333333, \"source_val_label_loss\": 0.5078091025352478, \"target_val_label_accuracy\": 0.6159783205268935, \"target_val_label_loss\": 341.0367431640625, \"total_epochs_trained\": 10, \"total_experiment_time_secs\": 1749.4700107574463, \"confusion\": {\"O_26\": {\"0\": {\"0\": 73, \"10\": 61, \"8\": 19, \"14\": 47, \"4\": 33, \"15\": 3, \"6\": 1, \"7\": 2, \"1\": 1}, \"4\": {\"4\": 160, \"7\": 11, \"14\": 20, \"0\": 13, \"8\": 22, \"10\": 7, \"1\": 6, \"3\": 1}, \"14\": {\"0\": 29, \"14\": 140, \"1\": 13, \"4\": 36, \"10\": 14, \"7\": 1, \"8\": 7}, \"12\": {\"12\": 240}, \"8\": {\"4\": 31, \"0\": 17, \"8\": 106, \"15\": 9, \"7\": 31, \"14\": 18, \"10\": 18, \"9\": 3, \"5\": 2, \"6\": 3, \"2\": 1, \"1\": 1}, \"7\": {\"7\": 151, \"2\": 16, \"3\": 21, \"4\": 28, \"1\": 1, \"0\": 3, \"5\": 1, \"8\": 17, \"14\": 2}, \"13\": {\"13\": 188, \"2\": 11, \"5\": 25, \"9\": 9, \"15\": 5, \"3\": 2}, \"5\": {\"5\": 194, \"13\": 13, \"2\": 20, \"15\": 4, \"8\": 3, \"3\": 2, \"9\": 3, \"7\": 1}, \"15\": {\"15\": 154, \"9\": 47, \"13\": 4, \"2\": 2, \"0\": 4, \"6\": 6, \"14\": 1, \"7\": 4, \"5\": 6, \"8\": 7, \"10\": 3, \"4\": 1, \"3\": 1}, \"10\": {\"14\": 18, \"0\": 65, \"10\": 106, \"8\": 30, \"4\": 12, \"15\": 3, \"6\": 5, \"7\": 1}, \"3\": {\"3\": 170, \"2\": 56, \"7\": 13, \"1\": 1}, \"9\": {\"9\": 171, \"15\": 44, \"5\": 4, \"13\": 9, \"6\": 7, \"2\": 3, \"8\": 1, \"10\": 1}, \"6\": {\"6\": 195, \"0\": 3, \"9\": 16, \"10\": 17, \"15\": 9}, \"1\": {\"1\": 216, \"4\": 8, \"14\": 12, \"7\": 4}, \"11\": {\"11\": 240}, \"2\": {\"5\": 27, \"2\": 106, \"3\": 66, \"7\": 21, \"15\": 10, \"8\": 5, \"4\": 1, \"13\": 3, \"9\": 1}}, \"O_44\": {\"1\": {\"1\": 170, \"3\": 11, \"12\": 34, \"2\": 15, \"10\": 10}, \"11\": {\"11\": 235, \"13\": 3, \"6\": 2}, \"3\": {\"3\": 235, \"1\": 4, \"12\": 1}, \"6\": {\"6\": 180, \"13\": 43, \"7\": 4, \"9\": 13}, \"7\": {\"7\": 169, \"9\": 29, \"6\": 8, \"2\": 33, \"13\": 1}, \"5\": {\"5\": 206, \"14\": 15, \"0\": 9, \"15\": 6, \"8\": 3, \"4\": 1}, \"2\": {\"2\": 199, \"7\": 21, \"1\": 9, \"10\": 10, \"9\": 1}, \"15\": {\"15\": 170, \"0\": 16, \"5\": 18, \"14\": 26, \"8\": 7, \"4\": 3}, \"10\": {\"10\": 212, \"2\": 12, \"1\": 14, \"12\": 2}, \"13\": {\"13\": 178, \"9\": 21, \"11\": 5, \"6\": 35, \"4\": 1}, \"8\": {\"0\": 92, \"8\": 130, \"15\": 9, \"5\": 9}, \"4\": {\"4\": 168, \"14\": 69, \"15\": 3}, \"9\": {\"13\": 28, \"6\": 31, \"9\": 120, \"7\": 57, \"4\": 1, \"11\": 2, \"2\": 1}, \"14\": {\"4\": 83, \"14\": 132, \"5\": 10, \"15\": 15}, \"0\": {\"0\": 152, \"8\": 68, \"5\": 14, \"15\": 6}, \"12\": {\"12\": 218, \"1\": 17, \"10\": 4, \"3\": 1}}, \"O_50\": {\"15\": {\"15\": 202, \"4\": 15, \"1\": 18, \"11\": 3, \"6\": 2}, \"4\": {\"4\": 149, \"5\": 38, \"15\": 35, \"1\": 6, \"6\": 5, \"7\": 3, \"11\": 2, \"13\": 2}, \"6\": {\"6\": 192, \"15\": 8, \"13\": 22, \"1\": 3, \"7\": 7, \"4\": 3, \"5\": 5}, \"2\": {\"2\": 218, \"0\": 22}, \"5\": {\"5\": 145, \"7\": 28, \"1\": 10, \"13\": 22, \"4\": 30, \"6\": 4, \"15\": 1}, \"9\": {\"9\": 222, \"11\": 15, \"12\": 3}, \"8\": {\"8\": 231, \"3\": 1, \"10\": 8}, \"12\": {\"12\": 221, \"11\": 10, \"9\": 8, \"14\": 1}, \"10\": {\"0\": 15, \"10\": 219, \"8\": 3, \"13\": 3}, \"1\": {\"1\": 187, \"5\": 8, \"15\": 30, \"13\": 3, \"4\": 7, \"11\": 2, \"6\": 2, \"14\": 1}, \"0\": {\"0\": 204, \"13\": 5, \"2\": 21, \"10\": 10}, \"3\": {\"3\": 236, \"8\": 4}, \"13\": {\"13\": 193, \"1\": 1, \"6\": 8, \"5\": 16, \"4\": 1, \"10\": 9, \"7\": 12}, \"11\": {\"11\": 225, \"4\": 2, \"15\": 7, \"12\": 3, \"9\": 2, \"14\": 1}, \"7\": {\"7\": 202, \"6\": 5, \"13\": 17, \"4\": 6, \"5\": 10}, \"14\": {\"14\": 240}}, \"O_38\": {\"15\": {\"8\": 19, \"15\": 201, \"5\": 4, \"1\": 15, \"13\": 1}, \"11\": {\"11\": 240}, \"10\": {\"10\": 208, \"13\": 16, \"0\": 9, \"4\": 3, \"8\": 2, \"7\": 1, \"5\": 1}, \"14\": {\"14\": 221, \"2\": 17, \"12\": 1, \"10\": 1}, \"6\": {\"6\": 234, \"9\": 5, \"5\": 1}, \"4\": {\"4\": 235, \"12\": 5}, \"13\": {\"13\": 193, \"15\": 14, \"5\": 3, \"10\": 9, \"0\": 8, \"2\": 11, \"8\": 2}, \"3\": {\"3\": 235, \"0\": 4, \"11\": 1}, \"7\": {\"7\": 201, \"5\": 21, \"0\": 9, \"8\": 8, \"10\": 1}, \"8\": {\"0\": 19, \"8\": 165, \"5\": 39, \"10\": 1, \"7\": 11, \"15\": 1, \"13\": 4}, \"1\": {\"1\": 225, \"15\": 15}, \"5\": {\"5\": 119, \"8\": 69, \"0\": 6, \"7\": 27, \"15\": 4, \"13\": 5, \"9\": 6, \"6\": 4}, \"0\": {\"0\": 194, \"7\": 14, \"5\": 2, \"3\": 2, \"8\": 19, \"10\": 6, \"4\": 1, \"13\": 1, \"9\": 1}, \"2\": {\"2\": 226, \"14\": 11, \"13\": 3}, \"12\": {\"12\": 239, \"4\": 1}, \"9\": {\"9\": 227, \"6\": 8, \"7\": 1, \"5\": 4}}, \"O_20\": {\"10\": {\"10\": 238, \"14\": 2}, \"7\": {\"7\": 191, \"3\": 7, \"2\": 26, \"12\": 3, \"6\": 2, \"8\": 4, \"9\": 4, \"13\": 3}, \"4\": {\"4\": 225, \"3\": 6, \"8\": 4, \"7\": 2, \"5\": 2, \"10\": 1}, \"13\": {\"13\": 225, \"2\": 11, \"7\": 1, \"1\": 1, \"3\": 1, \"15\": 1}, \"1\": {\"1\": 163, \"12\": 46, \"15\": 13, \"5\": 9, \"9\": 3, \"3\": 5, \"0\": 1}, \"0\": {\"0\": 174, \"15\": 22, \"5\": 39, \"7\": 2, \"1\": 1, \"8\": 2}, \"12\": {\"3\": 39, \"12\": 116, \"9\": 10, \"1\": 57, \"2\": 11, \"13\": 1, \"4\": 1, \"7\": 2, \"15\": 1, \"5\": 1, \"0\": 1}, \"5\": {\"0\": 43, \"12\": 5, \"5\": 177, \"1\": 13, \"15\": 1, \"4\": 1}, \"6\": {\"14\": 30, \"6\": 207, \"10\": 1, \"7\": 2}, \"2\": {\"2\": 137, \"7\": 27, \"3\": 8, \"9\": 41, \"12\": 15, \"13\": 11, \"1\": 1}, \"8\": {\"8\": 214, \"7\": 10, \"5\": 2, \"4\": 8, \"14\": 5, \"0\": 1}, \"11\": {\"11\": 240}, \"9\": {\"9\": 130, \"2\": 57, \"3\": 30, \"7\": 6, \"1\": 4, \"12\": 12, \"13\": 1}, \"14\": {\"14\": 220, \"6\": 15, \"10\": 4, \"8\": 1}, \"15\": {\"15\": 200, \"1\": 18, \"0\": 11, \"13\": 3, \"5\": 8}, \"3\": {\"3\": 143, \"2\": 12, \"12\": 37, \"9\": 27, \"1\": 6, \"7\": 7, \"4\": 5, \"10\": 1, \"5\": 2}}, \"O_14\": {\"14\": {\"13\": 5, \"14\": 218, \"2\": 15, \"3\": 1, \"6\": 1}, \"0\": {\"0\": 230, \"10\": 5, \"3\": 2, \"11\": 3}, \"4\": {\"4\": 218, \"5\": 18, \"3\": 3, \"2\": 1}, \"11\": {\"11\": 231, \"9\": 6, \"0\": 3}, \"13\": {\"13\": 109, \"14\": 24, \"6\": 85, \"2\": 12, \"7\": 1, \"5\": 9}, \"9\": {\"9\": 239, \"11\": 1}, \"3\": {\"3\": 230, \"2\": 4, \"14\": 3, \"4\": 3}, \"6\": {\"13\": 55, \"6\": 178, \"14\": 3, \"2\": 4}, \"1\": {\"1\": 232, \"5\": 7, \"4\": 1}, \"5\": {\"5\": 178, \"4\": 38, \"2\": 14, \"1\": 10}, \"12\": {\"12\": 240}, \"10\": {\"10\": 239, \"0\": 1}, \"8\": {\"8\": 240}, \"7\": {\"7\": 240}, \"15\": {\"15\": 240}, \"2\": {\"13\": 11, \"2\": 144, \"6\": 22, \"14\": 35, \"5\": 19, \"3\": 8, \"4\": 1}}, \"O_32\": {\"11\": {\"11\": 230, \"3\": 2, \"14\": 7, \"13\": 1}, \"1\": {\"1\": 239, \"10\": 1}, \"2\": {\"2\": 197, \"4\": 42, \"7\": 1}, \"0\": {\"0\": 202, \"8\": 25, \"7\": 4, \"14\": 7, \"5\": 2}, \"3\": {\"3\": 232, \"8\": 1, \"13\": 2, \"11\": 2, \"5\": 1, \"14\": 2}, \"8\": {\"8\": 194, \"5\": 5, \"0\": 28, \"14\": 2, \"3\": 2, \"13\": 8, \"7\": 1}, \"12\": {\"12\": 240}, \"5\": {\"7\": 68, \"5\": 135, \"3\": 4, \"13\": 12, \"0\": 3, \"14\": 5, \"4\": 6, \"8\": 6, \"2\": 1}, \"15\": {\"15\": 240}, \"7\": {\"7\": 138, \"13\": 12, \"5\": 49, \"4\": 20, \"2\": 3, \"14\": 13, \"0\": 3, \"8\": 1, \"11\": 1}, \"4\": {\"4\": 185, \"7\": 14, \"2\": 32, \"13\": 8, \"5\": 1}, \"14\": {\"14\": 166, \"0\": 20, \"8\": 4, \"7\": 7, \"11\": 26, \"3\": 9, \"5\": 3, \"13\": 5}, \"10\": {\"10\": 240}, \"6\": {\"6\": 240}, \"13\": {\"13\": 185, \"3\": 15, \"7\": 11, \"4\": 17, \"5\": 6, \"8\": 3, \"11\": 2, \"14\": 1}, \"9\": {\"9\": 240}}, \"O_8\": {\"9\": {\"9\": 240}, \"11\": {\"11\": 225, \"1\": 15}, \"8\": {\"8\": 240}, \"4\": {\"4\": 156, \"6\": 19, \"14\": 19, \"13\": 40, \"10\": 6}, \"13\": {\"10\": 23, \"13\": 109, \"4\": 40, \"0\": 47, \"6\": 13, \"14\": 6, \"7\": 2}, \"14\": {\"10\": 29, \"14\": 174, \"4\": 23, \"1\": 7, \"13\": 4, \"11\": 2, \"5\": 1}, \"2\": {\"12\": 4, \"2\": 221, \"15\": 2, \"7\": 5, \"3\": 7, \"8\": 1}, \"3\": {\"3\": 227, \"2\": 6, \"12\": 7}, \"1\": {\"1\": 218, \"14\": 5, \"11\": 10, \"5\": 7}, \"0\": {\"13\": 31, \"0\": 190, \"6\": 5, \"7\": 8, \"4\": 5, \"10\": 1}, \"5\": {\"5\": 212, \"10\": 9, \"1\": 14, \"14\": 5}, \"15\": {\"15\": 214, \"8\": 6, \"12\": 20}, \"10\": {\"10\": 186, \"14\": 32, \"4\": 7, \"13\": 13, \"5\": 2}, \"12\": {\"12\": 191, \"15\": 38, \"3\": 9, \"8\": 2}, \"6\": {\"0\": 3, \"6\": 165, \"4\": 14, \"13\": 9, \"7\": 49}, \"7\": {\"7\": 184, \"13\": 1, \"6\": 47, \"0\": 7, \"12\": 1}}, \"W_4\": {\"71\": {\"71\": 78, \"27\": 3, \"4\": 2, \"95\": 1, \"42\": 1, \"1\": 3, \"114\": 2, \"90\": 1, \"3\": 2, \"8\": 1, \"0\": 3, \"105\": 2, \"87\": 1, \"84\": 1, \"70\": 2, \"40\": 1}, \"17\": {\"17\": 13, \"35\": 1, \"102\": 1, \"107\": 1, \"115\": 3, \"67\": 1}, \"105\": {\"105\": 45, \"1\": 6, \"84\": 1, \"114\": 5, \"82\": 3, \"39\": 1, \"113\": 2, \"118\": 1, \"90\": 1, \"40\": 3, \"88\": 1, \"122\": 1, \"71\": 5, \"12\": 1, \"87\": 6, \"126\": 3, \"117\": 1, \"43\": 3, \"8\": 1, \"129\": 2, \"44\": 1, \"26\": 1, \"107\": 2, \"0\": 2, \"4\": 1, \"18\": 1}, \"92\": {\"92\": 20, \"37\": 1, \"122\": 1, \"64\": 2, \"72\": 1, \"23\": 1, \"11\": 1, \"32\": 1}, \"100\": {\"63\": 1, \"100\": 5, \"43\": 3, \"38\": 1, \"5\": 2, \"49\": 2, \"81\": 2, \"118\": 1, \"89\": 1, \"93\": 2}, \"6\": {\"6\": 13, \"36\": 2, \"59\": 1, \"94\": 1, \"12\": 1, \"24\": 1, \"30\": 1, \"125\": 2, \"9\": 1, \"10\": 1}, \"36\": {\"6\": 6, \"54\": 3, \"127\": 1, \"36\": 52, \"75\": 1, \"111\": 4, \"10\": 6, \"9\": 1, \"129\": 1, \"97\": 2, \"94\": 10, \"24\": 6, \"0\": 2, \"15\": 7, \"98\": 2, \"12\": 2, \"125\": 13, \"1\": 1, \"93\": 1, \"106\": 2, \"34\": 1, \"27\": 1, \"26\": 1, \"124\": 1, \"8\": 1}, \"35\": {\"92\": 2, \"35\": 4, \"45\": 2, \"64\": 1, \"118\": 1, \"13\": 1, \"40\": 1}, \"63\": {\"63\": 12, \"93\": 2, \"81\": 1, \"118\": 1}, \"104\": {\"17\": 1, \"35\": 1, \"104\": 11, \"107\": 1, \"46\": 2}, \"114\": {\"71\": 5, \"0\": 3, \"114\": 78, \"83\": 2, \"105\": 7, \"1\": 9, \"94\": 1, \"101\": 2, \"43\": 2, \"87\": 1, \"4\": 2, \"8\": 1, \"3\": 2, \"55\": 1, \"128\": 1, \"129\": 2, \"88\": 1, \"93\": 1, \"24\": 1, \"90\": 1, \"126\": 1, \"5\": 2, \"33\": 1, \"7\": 1}, \"68\": {\"68\": 14, \"127\": 2}, \"109\": {\"63\": 2, \"109\": 23, \"120\": 1, \"21\": 4, \"38\": 1, \"14\": 2, \"113\": 10, \"118\": 2, \"90\": 4, \"26\": 5, \"44\": 5, \"117\": 9, \"88\": 2, \"18\": 10, \"93\": 8, \"16\": 3, \"11\": 3, \"69\": 2, \"39\": 5, \"122\": 2, \"126\": 7, \"110\": 2, \"102\": 1, \"84\": 2, \"43\": 1}, \"27\": {\"0\": 4, \"104\": 1, \"101\": 1, \"83\": 1, \"55\": 3, \"127\": 7, \"16\": 1, \"113\": 2, \"7\": 4, \"5\": 2, \"27\": 26, \"88\": 8, \"114\": 3, \"126\": 1, \"3\": 1, \"71\": 2, \"108\": 3, \"44\": 1, \"98\": 1, \"4\": 1, \"43\": 2, \"124\": 2, \"70\": 2, \"8\": 2, \"87\": 2, \"11\": 3, \"31\": 1, \"119\": 1, \"60\": 1, \"111\": 3, \"29\": 2, \"19\": 1, \"118\": 1, \"30\": 2, \"106\": 1, \"110\": 1}, \"79\": {\"79\": 9, \"17\": 3, \"83\": 1, \"40\": 1, \"45\": 1, \"107\": 1}, \"0\": {\"109\": 4, \"71\": 4, \"0\": 23, \"27\": 4, \"89\": 1, \"81\": 1, \"111\": 1, \"90\": 5, \"21\": 2, \"78\": 1, \"44\": 1, \"88\": 6, \"114\": 6, \"70\": 3, \"7\": 3, \"1\": 3, \"5\": 2, \"126\": 1, \"87\": 2, \"43\": 2, \"93\": 8, \"101\": 4, \"8\": 3, \"38\": 1, \"105\": 3, \"10\": 1, \"39\": 2, \"113\": 2, \"118\": 1, \"72\": 2, \"110\": 4}, \"28\": {\"28\": 11, \"20\": 2, \"109\": 1, \"13\": 1, \"79\": 1, \"10\": 2, \"102\": 1, \"16\": 1}, \"4\": {\"4\": 57, \"112\": 2, \"55\": 1, \"95\": 2, \"27\": 2, \"114\": 6, \"3\": 2, \"12\": 3, \"26\": 1, \"71\": 7, \"127\": 3, \"1\": 2, \"109\": 1, \"8\": 1, \"10\": 2, \"80\": 1, \"105\": 3, \"98\": 2, \"108\": 1, \"87\": 1, \"24\": 2, \"40\": 1, \"110\": 1}, \"106\": {\"106\": 58, \"93\": 1, \"24\": 5, \"10\": 1, \"36\": 3, \"30\": 1, \"94\": 3, \"15\": 8, \"12\": 4, \"27\": 2, \"124\": 3, \"113\": 1, \"103\": 2, \"125\": 3, \"8\": 3, \"108\": 1, \"98\": 2, \"88\": 1}, \"40\": {\"40\": 89, \"87\": 3, \"84\": 3, \"69\": 4, \"107\": 12, \"88\": 1, \"102\": 6, \"105\": 5, \"11\": 4, \"33\": 2, \"82\": 1, \"113\": 1, \"26\": 2, \"18\": 1}, \"127\": {\"127\": 90, \"38\": 1, \"4\": 2, \"34\": 1, \"72\": 1, \"7\": 1, \"78\": 1, \"101\": 2, \"73\": 1, \"111\": 4, \"10\": 1, \"30\": 2, \"98\": 1}, \"57\": {\"57\": 11, \"51\": 1, \"65\": 1, \"63\": 1, \"17\": 1, \"47\": 1}, \"60\": {\"69\": 1, \"4\": 1, \"60\": 9, \"93\": 3, \"56\": 1, \"88\": 1, \"78\": 1, \"72\": 2, \"11\": 3, \"118\": 1, \"20\": 2, \"5\": 1, \"43\": 2, \"110\": 1, \"99\": 1, \"16\": 1, \"113\": 1}, \"69\": {\"84\": 8, \"69\": 72, \"22\": 1, \"16\": 8, \"102\": 13, \"90\": 1, \"5\": 1, \"33\": 2, \"26\": 1, \"118\": 1, \"117\": 3, \"14\": 4, \"18\": 1, \"113\": 1, \"11\": 5, \"39\": 1, \"40\": 1}, \"84\": {\"84\": 50, \"99\": 2, \"35\": 1, \"63\": 2, \"2\": 1, \"32\": 1, \"72\": 1, \"102\": 10, \"78\": 1, \"69\": 6, \"40\": 2, \"113\": 1, \"43\": 3, \"5\": 2, \"118\": 6, \"33\": 14, \"110\": 3, \"11\": 1, \"109\": 4, \"87\": 1, \"129\": 1, \"19\": 1, \"57\": 1, \"93\": 2, \"122\": 3, \"107\": 4, \"26\": 1, \"105\": 1, \"117\": 2, \"14\": 2, \"39\": 1, \"16\": 1}, \"24\": {\"4\": 4, \"94\": 8, \"9\": 1, \"24\": 40, \"25\": 1, \"62\": 1, \"111\": 5, \"36\": 5, \"10\": 8, \"99\": 1, \"14\": 2, \"71\": 2, \"98\": 2, \"40\": 1, \"88\": 2, \"30\": 1, \"90\": 1, \"11\": 2, \"8\": 7, \"114\": 1, \"108\": 2, \"27\": 2, \"51\": 1, \"66\": 1, \"41\": 1, \"0\": 1, \"125\": 5, \"29\": 1, \"15\": 3, \"84\": 1, \"12\": 2, \"126\": 2, \"106\": 2, \"124\": 1}, \"94\": {\"69\": 1, \"24\": 4, \"94\": 52, \"36\": 9, \"98\": 2, \"111\": 1, \"125\": 5, \"4\": 1, \"15\": 4, \"85\": 1, \"29\": 1, \"54\": 1, \"6\": 1, \"10\": 2, \"93\": 1, \"30\": 1, \"126\": 1}, \"7\": {\"7\": 59, \"57\": 2, \"43\": 2, \"0\": 4, \"10\": 2, \"110\": 3, \"90\": 4, \"27\": 1, \"21\": 1, \"14\": 1, \"3\": 13, \"5\": 1, \"1\": 1, \"44\": 1, \"88\": 4, \"93\": 5, \"113\": 1, \"126\": 2, \"87\": 2, \"122\": 1, \"101\": 3, \"66\": 1, \"22\": 1, \"70\": 4, \"109\": 1}, \"96\": {\"57\": 2, \"28\": 1, \"96\": 3, \"59\": 1, \"32\": 1, \"58\": 1, \"18\": 1, \"76\": 1, \"121\": 1, \"66\": 1, \"68\": 1, \"44\": 1, \"21\": 1, \"122\": 1, \"117\": 1, \"3\": 1, \"63\": 1}, \"116\": {\"116\": 15, \"57\": 1, \"67\": 1, \"121\": 2, \"76\": 1, \"112\": 1, \"48\": 1, \"49\": 1, \"87\": 1, \"7\": 2, \"102\": 1, \"99\": 1}, \"47\": {\"47\": 7, \"60\": 1, \"51\": 2, \"65\": 1, \"90\": 1}, \"119\": {\"93\": 1, \"78\": 1, \"25\": 1, \"119\": 2, \"8\": 2, \"110\": 3, \"38\": 1, \"66\": 1, \"44\": 1, \"88\": 1, \"27\": 2}, \"74\": {\"74\": 9, \"78\": 1, \"84\": 1, \"93\": 2, \"113\": 1, \"60\": 1, \"5\": 1}, \"93\": {\"78\": 1, \"93\": 83, \"119\": 2, \"21\": 2, \"113\": 14, \"90\": 16, \"44\": 6, \"72\": 1, \"5\": 3, \"126\": 5, \"110\": 7, \"26\": 1, \"33\": 2, \"38\": 1, \"117\": 1, \"108\": 2, \"121\": 2, \"43\": 1, \"87\": 1, \"3\": 1}, \"2\": {\"109\": 1, \"93\": 1, \"21\": 1, \"84\": 1, \"2\": 11, \"26\": 2, \"122\": 1, \"23\": 1, \"16\": 1, \"69\": 1, \"81\": 1, \"63\": 2, \"44\": 1, \"32\": 1, \"39\": 2}, \"37\": {\"104\": 2, \"37\": 10, \"51\": 1, \"61\": 1, \"16\": 2}, \"15\": {\"24\": 7, \"9\": 1, \"54\": 2, \"30\": 2, \"15\": 57, \"125\": 8, \"49\": 1, \"94\": 4, \"26\": 1, \"10\": 4, \"27\": 3, \"36\": 1, \"127\": 3, \"98\": 6, \"111\": 3, \"8\": 2, \"71\": 1, \"105\": 1, \"12\": 6, \"0\": 1, \"106\": 3, \"70\": 3, \"34\": 2, \"52\": 1, \"85\": 1, \"43\": 1, \"6\": 1, \"102\": 1, \"126\": 1}, \"102\": {\"102\": 83, \"2\": 1, \"14\": 9, \"16\": 2, \"33\": 5, \"18\": 2, \"84\": 7, \"50\": 1, \"40\": 2, \"11\": 3, \"43\": 1, \"39\": 1, \"118\": 3, \"108\": 2, \"117\": 1, \"69\": 7, \"122\": 1, \"57\": 1, \"62\": 1, \"109\": 1, \"26\": 1, \"107\": 1}, \"87\": {\"87\": 34, \"109\": 4, \"67\": 1, \"128\": 1, \"122\": 2, \"105\": 9, \"107\": 2, \"129\": 1, \"113\": 6, \"71\": 7, \"108\": 2, \"102\": 1, \"44\": 2, \"90\": 6, \"43\": 3, \"114\": 5, \"84\": 2, \"18\": 2, \"3\": 1, \"70\": 1, \"62\": 1, \"82\": 1, \"1\": 6, \"121\": 2, \"126\": 4, \"26\": 1, \"93\": 2, \"116\": 1, \"88\": 3, \"33\": 2, \"110\": 3, \"5\": 1, \"118\": 1, \"101\": 1, \"40\": 1}, \"107\": {\"107\": 93, \"102\": 10, \"17\": 2, \"1\": 2, \"14\": 1, \"113\": 1, \"129\": 1, \"124\": 1, \"40\": 17, \"43\": 2, \"70\": 1, \"69\": 1, \"93\": 1, \"117\": 1, \"11\": 8, \"82\": 1, \"105\": 1}, \"61\": {\"61\": 7, \"110\": 1, \"28\": 2, \"31\": 3, \"37\": 1, \"38\": 1, \"104\": 1}, \"78\": {\"78\": 5, \"74\": 1, \"50\": 1, \"93\": 2, \"81\": 1, \"4\": 1, \"38\": 1, \"107\": 1, \"13\": 2, \"99\": 1, \"8\": 1, \"39\": 1, \"126\": 4, \"40\": 1, \"18\": 2, \"129\": 1, \"120\": 1, \"44\": 2, \"100\": 1, \"63\": 1, \"73\": 1, \"113\": 4}, \"9\": {\"9\": 22, \"51\": 1, \"58\": 2, \"127\": 1, \"111\": 1, \"29\": 1}, \"32\": {\"32\": 15, \"109\": 1, \"128\": 1, \"2\": 3, \"60\": 1, \"18\": 2, \"69\": 1, \"23\": 1, \"78\": 1, \"105\": 1, \"87\": 1}, \"14\": {\"14\": 43, \"23\": 1, \"2\": 2, \"93\": 2, \"102\": 7, \"122\": 2, \"67\": 2, \"129\": 1, \"109\": 7, \"11\": 2, \"69\": 7, \"40\": 2, \"81\": 1, \"118\": 10, \"16\": 3, \"44\": 2, \"0\": 1, \"33\": 3, \"32\": 1, \"62\": 1, \"107\": 2, \"18\": 1, \"26\": 1, \"84\": 5, \"108\": 1, \"117\": 2}, \"62\": {\"23\": 2, \"43\": 2, \"62\": 28, \"126\": 2, \"113\": 7, \"110\": 3, \"44\": 1, \"14\": 1, \"93\": 1, \"18\": 2, \"33\": 1, \"39\": 3, \"118\": 1, \"81\": 1, \"69\": 2, \"109\": 1, \"108\": 1, \"72\": 1}, \"1\": {\"25\": 1, \"23\": 1, \"1\": 38, \"55\": 1, \"105\": 11, \"114\": 11, \"71\": 10, \"5\": 3, \"33\": 1, \"108\": 1, \"43\": 2, \"87\": 6, \"12\": 1, \"40\": 4, \"95\": 1, \"82\": 1, \"126\": 1, \"11\": 1, \"88\": 1, \"4\": 1, \"3\": 2, \"0\": 1, \"110\": 1, \"36\": 1}, \"23\": {\"119\": 1, \"62\": 3, \"23\": 1, \"63\": 2, \"82\": 1, \"112\": 1, \"80\": 1, \"44\": 1, \"117\": 1, \"89\": 1, \"78\": 1, \"101\": 2}, \"95\": {\"1\": 2, \"105\": 1, \"95\": 18, \"71\": 2, \"83\": 1, \"4\": 6, \"55\": 1, \"76\": 1}, \"56\": {\"56\": 9, \"103\": 1, \"124\": 2}, \"91\": {\"68\": 1, \"91\": 9, \"29\": 1, \"124\": 1, \"58\": 1, \"1\": 1, \"64\": 1, \"15\": 1, \"85\": 2, \"104\": 1, \"61\": 1, \"40\": 1, \"53\": 1, \"73\": 2}, \"34\": {\"25\": 1, \"119\": 1, \"95\": 1, \"96\": 1, \"91\": 1, \"76\": 1, \"14\": 1, \"88\": 1, \"108\": 2, \"107\": 2, \"69\": 1, \"15\": 1, \"34\": 4, \"81\": 1, \"94\": 5, \"46\": 1, \"22\": 1, \"129\": 1, \"114\": 1, \"87\": 1, \"128\": 1, \"10\": 1, \"90\": 1}, \"25\": {\"25\": 15, \"125\": 1}, \"33\": {\"33\": 104, \"122\": 3, \"126\": 1, \"69\": 2, \"107\": 1, \"62\": 1, \"16\": 1, \"102\": 3, \"84\": 1, \"40\": 2, \"93\": 1, \"5\": 2, \"110\": 2}, \"16\": {\"26\": 12, \"33\": 1, \"102\": 2, \"16\": 54, \"18\": 8, \"14\": 4, \"117\": 13, \"40\": 1, \"69\": 9, \"118\": 3, \"44\": 1, \"11\": 6, \"107\": 2, \"39\": 1, \"109\": 4, \"113\": 1, \"84\": 1, \"93\": 1}, \"26\": {\"26\": 68, \"109\": 9, \"78\": 1, \"102\": 2, \"99\": 1, \"19\": 1, \"21\": 1, \"117\": 7, \"108\": 1, \"14\": 2, \"69\": 3, \"39\": 4, \"110\": 2, \"118\": 1, \"44\": 1, \"16\": 6, \"87\": 1, \"70\": 1, \"113\": 1, \"11\": 3, \"2\": 1, \"129\": 1, \"81\": 1, \"18\": 3, \"62\": 1, \"88\": 1, \"126\": 1, \"124\": 1}, \"5\": {\"5\": 81, \"26\": 1, \"50\": 1, \"10\": 1, \"105\": 1, \"73\": 2, \"33\": 4, \"72\": 1, \"44\": 2, \"118\": 2, \"93\": 4, \"3\": 3, \"88\": 3, \"102\": 3, \"126\": 3, \"113\": 3, \"110\": 9, \"8\": 1, \"70\": 1, \"117\": 1, \"123\": 1, \"22\": 1, \"100\": 1, \"99\": 1, \"71\": 1, \"43\": 2, \"7\": 2}, \"123\": {\"123\": 11, \"125\": 1, \"109\": 1, \"67\": 1, \"118\": 1, \"63\": 1}, \"8\": {\"8\": 66, \"7\": 2, \"129\": 2, \"70\": 5, \"84\": 1, \"19\": 1, \"113\": 1, \"88\": 3, \"122\": 1, \"124\": 1, \"4\": 1, \"106\": 3, \"111\": 3, \"101\": 4, \"93\": 1, \"5\": 3, \"98\": 2, \"114\": 5, \"105\": 2, \"0\": 2, \"33\": 1, \"27\": 1, \"73\": 1, \"90\": 1, \"87\": 2, \"39\": 2, \"107\": 1}, \"83\": {\"33\": 1, \"8\": 1, \"83\": 4, \"84\": 1, \"34\": 1, \"45\": 1, \"31\": 1, \"27\": 1, \"38\": 1, \"113\": 1, \"50\": 1, \"78\": 1, \"129\": 3, \"115\": 1, \"11\": 2, \"60\": 2, \"107\": 2, \"88\": 1, \"87\": 1, \"2\": 1}, \"125\": {\"125\": 100, \"10\": 2, \"36\": 10, \"24\": 10, \"9\": 1, \"94\": 7, \"15\": 1, \"59\": 1, \"6\": 2}, \"51\": {\"59\": 2, \"51\": 4, \"31\": 1, \"98\": 1, \"11\": 1, \"106\": 2, \"24\": 1, \"25\": 1, \"54\": 1, \"113\": 1, \"94\": 1}, \"22\": {\"93\": 1, \"22\": 8, \"90\": 2, \"7\": 1, \"80\": 1, \"49\": 2, \"44\": 1}, \"54\": {\"54\": 16}, \"66\": {\"66\": 7, \"93\": 3, \"126\": 2, \"20\": 1, \"38\": 1, \"80\": 2}, \"59\": {\"111\": 2, \"59\": 5, \"94\": 1, \"6\": 1, \"15\": 2, \"126\": 1}, \"111\": {\"111\": 79, \"59\": 2, \"98\": 5, \"12\": 11, \"9\": 1, \"97\": 1, \"30\": 2, \"29\": 1, \"8\": 4, \"127\": 6, \"4\": 3, \"90\": 1, \"27\": 2, \"70\": 1, \"68\": 1, \"95\": 1, \"119\": 1, \"83\": 1, \"11\": 1, \"108\": 1, \"106\": 1, \"101\": 1, \"15\": 1}, \"77\": {\"77\": 8, \"41\": 1, \"85\": 1, \"30\": 1, \"56\": 1}, \"103\": {\"103\": 13, \"14\": 1, \"56\": 1, \"107\": 1}, \"20\": {\"66\": 1, \"74\": 1, \"118\": 1, \"120\": 1, \"20\": 6, \"63\": 1, \"113\": 1, \"14\": 1, \"44\": 1, \"100\": 1, \"117\": 1}, \"124\": {\"124\": 76, \"107\": 7, \"11\": 6, \"116\": 1, \"8\": 3, \"97\": 1, \"4\": 1, \"27\": 3, \"10\": 1, \"118\": 1, \"40\": 1, \"111\": 1, \"18\": 2, \"102\": 1, \"70\": 1, \"106\": 4, \"37\": 1, \"56\": 1, \"122\": 1, \"36\": 1, \"0\": 1, \"16\": 1, \"24\": 1, \"108\": 2, \"93\": 1}, \"99\": {\"99\": 28, \"84\": 2, \"108\": 1, \"78\": 1, \"118\": 2, \"21\": 1, \"44\": 2, \"128\": 1, \"110\": 1, \"14\": 1}, \"120\": {\"110\": 1, \"120\": 14, \"121\": 1, \"99\": 1, \"123\": 1, \"57\": 1, \"113\": 1}, \"76\": {\"120\": 4, \"31\": 1, \"76\": 6, \"65\": 1, \"80\": 1, \"17\": 1, \"34\": 1, \"45\": 1}, \"110\": {\"110\": 53, \"93\": 13, \"22\": 1, \"113\": 8, \"100\": 2, \"90\": 8, \"126\": 10, \"62\": 2, \"43\": 5, \"88\": 3, \"39\": 3, \"5\": 3, \"118\": 1, \"122\": 2, \"87\": 1, \"84\": 1}, \"29\": {\"29\": 28, \"12\": 1, \"4\": 1, \"90\": 1, \"41\": 1}, \"118\": {\"99\": 4, \"16\": 8, \"93\": 3, \"126\": 6, \"118\": 21, \"62\": 4, \"44\": 2, \"90\": 4, \"69\": 6, \"73\": 1, \"107\": 4, \"14\": 6, \"26\": 1, \"117\": 7, \"11\": 8, \"109\": 3, \"18\": 3, \"84\": 5, \"110\": 2, \"21\": 2, \"67\": 1, \"57\": 1, \"102\": 4, \"43\": 2, \"88\": 1, \"113\": 1, \"5\": 1, \"39\": 1}, \"58\": {\"58\": 12, \"88\": 1, \"9\": 1, \"38\": 1, \"41\": 1}, \"13\": {\"31\": 1, \"13\": 10, \"14\": 2, \"94\": 1, \"117\": 2}, \"89\": {\"89\": 27, \"74\": 1, \"93\": 1, \"128\": 1, \"5\": 1, \"60\": 1}, \"31\": {\"31\": 8, \"89\": 1, \"14\": 2, \"115\": 1, \"38\": 1, \"120\": 1, \"16\": 1, \"2\": 1}, \"64\": {\"92\": 2, \"64\": 13, \"80\": 1}, \"65\": {\"65\": 11, \"81\": 1}, \"101\": {\"101\": 60, \"91\": 1, \"95\": 1, \"127\": 6, \"7\": 8, \"114\": 3, \"55\": 2, \"123\": 1, \"3\": 6, \"89\": 1, \"110\": 2, \"111\": 2, \"11\": 1, \"43\": 1, \"70\": 7, \"93\": 2, \"126\": 1, \"71\": 1, \"90\": 5, \"12\": 1, \"87\": 1, \"0\": 5, \"4\": 2, \"85\": 1, \"88\": 1, \"86\": 1, \"108\": 2, \"5\": 3, \"26\": 1, \"15\": 2, \"1\": 1}, \"126\": {\"126\": 78, \"44\": 4, \"21\": 3, \"93\": 7, \"108\": 1, \"16\": 1, \"110\": 3, \"90\": 6, \"113\": 6, \"88\": 3, \"39\": 1, \"109\": 3, \"43\": 2}, \"108\": {\"14\": 4, \"93\": 7, \"108\": 10, \"107\": 1, \"7\": 1, \"69\": 5, \"80\": 2, \"11\": 3, \"62\": 2, \"90\": 4, \"39\": 2, \"113\": 5, \"109\": 7, \"122\": 2, \"118\": 4, \"70\": 1, \"5\": 1, \"126\": 4, \"36\": 1, \"12\": 1, \"84\": 3, \"27\": 2, \"110\": 2, \"43\": 2, \"78\": 1, \"87\": 1, \"21\": 1, \"33\": 4, \"34\": 1, \"44\": 1, \"40\": 1, \"72\": 1, \"99\": 1, \"124\": 1, \"88\": 1, \"26\": 1, \"102\": 1}, \"45\": {\"45\": 10, \"92\": 3, \"69\": 1, \"118\": 1, \"32\": 1}, \"21\": {\"21\": 25, \"14\": 1, \"90\": 1, \"93\": 1, \"113\": 4, \"88\": 2, \"38\": 2, \"81\": 1, \"78\": 1, \"126\": 2}, \"30\": {\"108\": 3, \"82\": 1, \"30\": 36, \"12\": 2, \"8\": 2, \"113\": 1, \"97\": 1, \"41\": 1, \"98\": 5, \"40\": 1, \"0\": 2, \"106\": 2, \"10\": 2, \"70\": 1, \"101\": 3, \"127\": 3, \"111\": 2, \"15\": 1, \"76\": 1, \"123\": 1, \"6\": 2, \"34\": 1, \"36\": 1, \"110\": 1}, \"82\": {\"82\": 17, \"43\": 2, \"55\": 1, \"33\": 1, \"12\": 1, \"0\": 1, \"5\": 3, \"49\": 1, \"93\": 2, \"87\": 2, \"70\": 1}, \"85\": {\"101\": 1, \"85\": 18, \"5\": 1, \"91\": 1, \"27\": 1, \"7\": 1, \"111\": 1, \"41\": 1, \"98\": 1, \"77\": 1, \"53\": 1}, \"88\": {\"126\": 9, \"101\": 2, \"34\": 1, \"21\": 5, \"88\": 30, \"7\": 3, \"27\": 2, \"11\": 1, \"78\": 1, \"8\": 2, \"81\": 2, \"90\": 16, \"39\": 7, \"113\": 4, \"93\": 6, \"71\": 2, \"4\": 1, \"70\": 5, \"124\": 2, \"87\": 5, \"44\": 4, \"109\": 1, \"108\": 1, \"40\": 1, \"80\": 1, \"42\": 1, \"95\": 1, \"38\": 1, \"1\": 3, \"60\": 2, \"26\": 1, \"0\": 1, \"121\": 1, \"114\": 1, \"122\": 1, \"110\": 4, \"106\": 1}, \"41\": {\"15\": 2, \"98\": 2, \"41\": 5, \"111\": 1, \"113\": 1, \"119\": 1, \"29\": 1, \"52\": 1, \"30\": 2}, \"128\": {\"89\": 1, \"128\": 4, \"87\": 1, \"129\": 1, \"22\": 1, \"118\": 5, \"26\": 1, \"88\": 2, \"113\": 2, \"90\": 1, \"114\": 1, \"60\": 1, \"62\": 1, \"110\": 1, \"27\": 1}, \"39\": {\"2\": 2, \"113\": 10, \"102\": 2, \"69\": 4, \"90\": 12, \"126\": 7, \"21\": 2, \"18\": 5, \"118\": 2, \"44\": 5, \"39\": 20, \"16\": 2, \"70\": 1, \"108\": 2, \"117\": 5, \"43\": 3, \"14\": 5, \"93\": 1, \"26\": 3, \"33\": 1, \"62\": 1, \"109\": 2, \"99\": 1, \"72\": 1, \"88\": 1}, \"18\": {\"2\": 2, \"18\": 82, \"109\": 7, \"16\": 6, \"117\": 2, \"93\": 2, \"5\": 1, \"26\": 2, \"70\": 1, \"90\": 2, \"14\": 2, \"126\": 4, \"118\": 1, \"102\": 1, \"39\": 2, \"69\": 1, \"84\": 2}, \"113\": {\"113\": 76, \"38\": 3, \"110\": 3, \"80\": 3, \"93\": 7, \"126\": 11, \"44\": 3, \"39\": 3, \"90\": 7, \"21\": 1, \"109\": 3, \"14\": 1, \"108\": 1, \"88\": 2, \"128\": 1, \"62\": 1, \"84\": 1, \"18\": 1}, \"11\": {\"11\": 70, \"32\": 2, \"14\": 4, \"45\": 2, \"62\": 2, \"16\": 6, \"109\": 6, \"40\": 3, \"102\": 6, \"26\": 4, \"107\": 4, \"108\": 2, \"93\": 1, \"117\": 4, \"39\": 2, \"13\": 1, \"122\": 3, \"115\": 1, \"60\": 1, \"92\": 1, \"118\": 3, \"18\": 1, \"33\": 1, \"99\": 1, \"43\": 3, \"124\": 1, \"69\": 3}, \"43\": {\"84\": 4, \"33\": 6, \"90\": 2, \"38\": 1, \"43\": 23, \"93\": 4, \"50\": 1, \"73\": 1, \"1\": 4, \"110\": 1, \"72\": 2, \"105\": 3, \"82\": 3, \"113\": 7, \"122\": 2, \"44\": 1, \"5\": 9, \"40\": 5, \"87\": 3, \"126\": 6, \"108\": 1, \"70\": 3, \"118\": 1, \"114\": 2, \"117\": 1, \"109\": 1, \"88\": 1, \"39\": 5, \"98\": 1, \"18\": 3, \"21\": 2, \"102\": 1, \"120\": 1, \"129\": 1, \"78\": 1, \"0\": 2, \"107\": 1, \"99\": 1, \"121\": 1, \"7\": 1, \"3\": 1}, \"12\": {\"12\": 61, \"14\": 1, \"15\": 4, \"29\": 2, \"27\": 3, \"97\": 1, \"127\": 2, \"9\": 1, \"101\": 2, \"70\": 2, \"7\": 1, \"106\": 5, \"111\": 4, \"124\": 1, \"10\": 4, \"8\": 1, \"4\": 1, \"24\": 1, \"68\": 1, \"26\": 1, \"69\": 1}, \"122\": {\"102\": 7, \"44\": 4, \"122\": 18, \"14\": 7, \"80\": 1, \"87\": 5, \"108\": 4, \"33\": 4, \"43\": 1, \"126\": 6, \"88\": 4, \"69\": 5, \"5\": 3, \"117\": 1, \"90\": 2, \"107\": 2, \"109\": 2, \"82\": 1, \"11\": 1, \"129\": 1, \"42\": 1, \"113\": 1, \"93\": 2, \"110\": 1}, \"52\": {\"52\": 13, \"34\": 1, \"29\": 2, \"98\": 1, \"9\": 1, \"58\": 1, \"27\": 1}, \"44\": {\"122\": 1, \"44\": 29, \"21\": 5, \"90\": 2, \"39\": 1, \"126\": 9, \"93\": 8, \"105\": 1, \"113\": 3, \"63\": 1, \"80\": 1, \"38\": 2, \"108\": 1}, \"90\": {\"90\": 120, \"21\": 2, \"1\": 1, \"39\": 1, \"126\": 1, \"44\": 2, \"121\": 1, \"93\": 3, \"113\": 2, \"84\": 1}, \"112\": {\"112\": 14, \"88\": 1, \"91\": 1}, \"86\": {\"3\": 1, \"86\": 20, \"78\": 1, \"55\": 1, \"0\": 1, \"7\": 1, \"49\": 1, \"101\": 1, \"88\": 1}, \"3\": {\"3\": 83, \"78\": 2, \"71\": 2, \"33\": 2, \"7\": 3, \"1\": 1, \"102\": 1, \"43\": 2, \"88\": 2, \"93\": 1, \"70\": 4, \"10\": 1, \"8\": 1, \"87\": 2, \"73\": 1, \"82\": 1, \"105\": 2, \"5\": 3, \"90\": 2}, \"38\": {\"38\": 16}, \"121\": {\"38\": 2, \"113\": 2, \"116\": 1, \"45\": 1, \"22\": 1, \"118\": 1, \"126\": 2, \"121\": 6, \"93\": 3, \"90\": 1, \"44\": 4, \"129\": 2, \"119\": 2, \"120\": 2, \"39\": 1, \"107\": 1}, \"46\": {\"108\": 1, \"113\": 1, \"46\": 6, \"1\": 1, \"71\": 1, \"60\": 1, \"114\": 1, \"102\": 2, \"31\": 1, \"4\": 1, \"107\": 2, \"105\": 1, \"8\": 1}, \"70\": {\"113\": 5, \"59\": 1, \"38\": 1, \"70\": 22, \"8\": 8, \"11\": 3, \"114\": 7, \"82\": 1, \"43\": 2, \"39\": 2, \"88\": 3, \"21\": 1, \"7\": 3, \"93\": 7, \"101\": 7, \"98\": 5, \"1\": 1, \"71\": 1, \"27\": 1, \"3\": 3, \"111\": 2, \"4\": 4, \"105\": 1, \"15\": 2, \"109\": 3, \"10\": 4, \"0\": 1, \"90\": 5, \"126\": 3, \"87\": 2, \"44\": 2, \"68\": 1, \"89\": 1, \"118\": 1, \"63\": 1, \"127\": 1, \"95\": 1, \"117\": 1, \"52\": 1, \"108\": 1, \"110\": 1, \"30\": 1}, \"67\": {\"121\": 1, \"113\": 4, \"65\": 2, \"93\": 1, \"67\": 1, \"38\": 1, \"16\": 1, \"102\": 1, \"81\": 2, \"28\": 2}, \"53\": {\"53\": 13, \"85\": 3}, \"49\": {\"66\": 1, \"42\": 1, \"21\": 1, \"47\": 1, \"112\": 2, \"98\": 3, \"113\": 1, \"49\": 6, \"110\": 1, \"8\": 1, \"93\": 3, \"44\": 3, \"43\": 1, \"78\": 1, \"101\": 1, \"72\": 1, \"5\": 1, \"10\": 1, \"34\": 1, \"85\": 1}, \"42\": {\"66\": 1, \"93\": 3, \"13\": 1, \"113\": 1, \"7\": 2, \"10\": 1, \"110\": 2, \"124\": 2, \"8\": 1, \"21\": 2, \"80\": 2, \"35\": 1, \"44\": 1, \"103\": 1, \"87\": 1, \"126\": 1, \"11\": 1, \"42\": 3, \"83\": 1}, \"10\": {\"78\": 1, \"43\": 2, \"70\": 3, \"84\": 1, \"91\": 2, \"34\": 3, \"10\": 22, \"72\": 1, \"12\": 2, \"88\": 4, \"24\": 10, \"90\": 2, \"125\": 9, \"5\": 3, \"8\": 3, \"36\": 6, \"126\": 1, \"113\": 2, \"15\": 6, \"94\": 5, \"108\": 1, \"93\": 4, \"27\": 1, \"39\": 1, \"102\": 1, \"106\": 2, \"128\": 1, \"98\": 1, \"60\": 1, \"87\": 2, \"42\": 1, \"18\": 1, \"0\": 4, \"124\": 1, \"7\": 1, \"62\": 1, \"71\": 1, \"26\": 1, \"30\": 1, \"107\": 1, \"109\": 1, \"101\": 1}, \"50\": {\"50\": 13, \"115\": 1, \"16\": 1, \"102\": 1}, \"73\": {\"73\": 13, \"14\": 2, \"33\": 1, \"42\": 1, \"5\": 1, \"125\": 1, \"96\": 1, \"40\": 1, \"60\": 1, \"88\": 1, \"84\": 1}, \"115\": {\"115\": 7, \"88\": 1, \"87\": 2, \"26\": 1, \"64\": 2, \"44\": 1, \"107\": 1, \"72\": 1}, \"80\": {\"80\": 13, \"106\": 1, \"44\": 2}, \"19\": {\"38\": 2, \"4\": 3, \"46\": 1, \"101\": 1, \"113\": 4, \"10\": 2, \"80\": 1, \"19\": 1, \"44\": 1, \"40\": 1, \"90\": 2, \"98\": 1, \"43\": 1, \"107\": 2, \"118\": 1, \"93\": 2, \"105\": 1, \"126\": 1}, \"55\": {\"55\": 14, \"95\": 1, \"71\": 1}, \"72\": {\"72\": 17, \"110\": 2, \"106\": 1, \"80\": 1, \"113\": 1, \"122\": 1, \"102\": 1, \"18\": 1, \"39\": 4, \"62\": 1, \"93\": 1, \"0\": 1}, \"117\": {\"117\": 58, \"67\": 1, \"63\": 2, \"62\": 3, \"26\": 7, \"18\": 6, \"107\": 2, \"40\": 1, \"109\": 3, \"118\": 5, \"39\": 7, \"16\": 2, \"84\": 5, \"11\": 4, \"33\": 1, \"122\": 1, \"87\": 1, \"90\": 1, \"14\": 4, \"108\": 1, \"102\": 1}, \"81\": {\"117\": 2, \"81\": 19, \"63\": 1, \"99\": 1, \"80\": 1, \"113\": 1, \"69\": 2, \"109\": 2, \"21\": 1, \"102\": 1, \"96\": 1, \"78\": 1, \"118\": 1, \"122\": 1, \"62\": 1}, \"75\": {\"75\": 12, \"111\": 2, \"85\": 1, \"25\": 1}, \"98\": {\"127\": 3, \"98\": 60, \"88\": 4, \"41\": 2, \"70\": 4, \"30\": 2, \"10\": 2, \"7\": 2, \"111\": 6, \"0\": 2, \"15\": 3, \"101\": 4, \"12\": 2, \"8\": 3, \"3\": 1, \"108\": 2, \"27\": 2, \"40\": 2, \"25\": 2, \"60\": 1, \"4\": 1, \"52\": 1, \"43\": 1, \"124\": 2, \"106\": 4, \"24\": 1, \"114\": 1}, \"48\": {\"48\": 14, \"26\": 2}, \"129\": {\"114\": 2, \"129\": 9, \"1\": 1, \"72\": 1, \"108\": 1, \"33\": 1, \"44\": 1, \"32\": 1, \"43\": 1, \"73\": 1, \"71\": 2, \"83\": 1, \"110\": 1, \"101\": 1, \"10\": 1, \"4\": 1, \"118\": 1, \"5\": 1}, \"97\": {\"12\": 2, \"19\": 1, \"111\": 1, \"6\": 1, \"24\": 1, \"15\": 1, \"97\": 3, \"106\": 1, \"41\": 1, \"94\": 1, \"47\": 2, \"8\": 1, \"25\": 1, \"30\": 1, \"86\": 1, \"59\": 1}}, \"C_5\": {\"26\": {\"26\": 24}, \"7\": {\"7\": 31, \"12\": 1}, \"56\": {\"56\": 135, \"35\": 1, \"24\": 2, \"13\": 3, \"52\": 1}, \"36\": {\"36\": 56, \"50\": 3, \"54\": 5, \"12\": 1, \"38\": 1, \"32\": 1, \"25\": 4, \"20\": 1, \"4\": 1, \"8\": 1, \"3\": 3, \"6\": 2, \"21\": 1, \"9\": 1, \"23\": 2, \"28\": 2, \"57\": 1, \"45\": 1, \"34\": 1, \"43\": 1, \"17\": 1, \"55\": 1, \"48\": 1}, \"47\": {\"47\": 43, \"46\": 9, \"3\": 7, \"57\": 10, \"43\": 2, \"23\": 1, \"8\": 4, \"45\": 1, \"1\": 1, \"54\": 4, \"4\": 1, \"9\": 1, \"6\": 1, \"14\": 2, \"42\": 1, \"26\": 1, \"41\": 2, \"53\": 1, \"34\": 1, \"50\": 1, \"48\": 2, \"19\": 2, \"52\": 1, \"16\": 1}, \"2\": {\"2\": 25, \"43\": 1, \"0\": 1, \"23\": 1}, \"15\": {\"46\": 17, \"15\": 89, \"16\": 27, \"28\": 1, \"11\": 3, \"3\": 3, \"54\": 2, \"57\": 4, \"52\": 3, \"23\": 1, \"48\": 2}, \"14\": {\"47\": 4, \"46\": 5, \"40\": 2, \"3\": 2, \"43\": 1, \"18\": 1, \"30\": 3, \"14\": 10, \"44\": 1, \"31\": 1, \"27\": 1, \"21\": 2, \"23\": 1, \"5\": 2, \"26\": 1, \"52\": 1, \"45\": 1, \"28\": 2, \"34\": 1, \"11\": 1, \"0\": 1}, \"27\": {\"27\": 113, \"7\": 1, \"1\": 1, \"9\": 14, \"48\": 5, \"17\": 4, \"30\": 3, \"50\": 1, \"20\": 1, \"25\": 1, \"53\": 2}, \"40\": {\"40\": 74, \"36\": 3, \"3\": 5, \"5\": 9, \"44\": 12, \"29\": 6, \"43\": 2, \"0\": 2, \"55\": 5, \"45\": 2, \"46\": 1, \"2\": 1, \"14\": 1, \"50\": 1}, \"49\": {\"49\": 31, \"35\": 2, \"0\": 2, \"36\": 1}, \"45\": {\"45\": 29, \"32\": 3, \"12\": 7, \"38\": 1, \"33\": 1, \"25\": 6, \"30\": 10, \"19\": 2, \"17\": 6, \"52\": 2, \"53\": 1, \"8\": 10, \"9\": 7, \"6\": 9, \"27\": 8, \"55\": 2, \"20\": 7, \"39\": 1, \"50\": 2, \"48\": 3, \"37\": 1, \"41\": 1, \"4\": 2, \"21\": 1, \"1\": 2}, \"46\": {\"46\": 96, \"36\": 2, \"23\": 5, \"18\": 2, \"52\": 7, \"57\": 7, \"54\": 1, \"55\": 2, \"1\": 2, \"44\": 2, \"48\": 3, \"2\": 1, \"11\": 1, \"3\": 1, \"0\": 1, \"16\": 2, \"29\": 1}, \"11\": {\"46\": 4, \"11\": 83, \"34\": 1, \"23\": 1, \"21\": 2, \"57\": 5, \"54\": 3, \"18\": 1, \"16\": 11, \"15\": 8, \"52\": 5, \"47\": 2, \"43\": 1, \"3\": 2, \"48\": 1}, \"30\": {\"30\": 102, \"17\": 4, \"20\": 3, \"1\": 1, \"6\": 1, \"25\": 1}, \"0\": {\"0\": 85, \"2\": 1, \"11\": 11, \"18\": 4, \"15\": 3, \"52\": 1, \"48\": 1, \"46\": 4, \"3\": 3, \"57\": 4, \"47\": 1, \"16\": 1, \"23\": 2, \"54\": 2, \"19\": 1}, \"10\": {\"10\": 61, \"13\": 6, \"22\": 1}, \"1\": {\"1\": 120, \"23\": 8, \"18\": 2, \"48\": 13, \"46\": 1, \"54\": 2, \"57\": 1, \"42\": 1}, \"42\": {\"42\": 38, \"10\": 1, \"40\": 1}, \"54\": {\"54\": 98, \"18\": 1, \"23\": 1, \"48\": 1, \"1\": 4, \"3\": 4, \"17\": 1, \"57\": 1, \"46\": 1}, \"55\": {\"55\": 87, \"32\": 3, \"19\": 3, \"3\": 4, \"12\": 3, \"50\": 7, \"17\": 1, \"29\": 4, \"8\": 2, \"45\": 4, \"25\": 6, \"30\": 4, \"27\": 3, \"36\": 2, \"4\": 3, \"43\": 1, \"9\": 2, \"46\": 3, \"51\": 1, \"47\": 1, \"33\": 1, \"11\": 2, \"0\": 1, \"16\": 1, \"21\": 1, \"37\": 1, \"5\": 1}, \"23\": {\"23\": 110, \"18\": 6, \"57\": 2, \"1\": 2, \"48\": 1, \"42\": 2, \"3\": 1}, \"25\": {\"17\": 13, \"37\": 4, \"25\": 81, \"53\": 1, \"45\": 4, \"8\": 11, \"20\": 14, \"6\": 3, \"30\": 8, \"9\": 5, \"47\": 2, \"4\": 1, \"50\": 2, \"26\": 2, \"27\": 1}, \"28\": {\"28\": 23, \"18\": 1, \"48\": 1, \"54\": 1, \"34\": 1, \"23\": 4, \"33\": 1}, \"32\": {\"9\": 3, \"32\": 21, \"34\": 1, \"17\": 4, \"47\": 1, \"26\": 1, \"1\": 1}, \"9\": {\"9\": 68, \"27\": 28, \"45\": 3, \"43\": 2, \"17\": 11, \"16\": 1, \"48\": 8, \"1\": 3, \"4\": 2, \"20\": 5, \"32\": 4, \"6\": 1, \"34\": 1, \"55\": 1, \"51\": 1, \"30\": 1, \"29\": 1, \"50\": 1}, \"39\": {\"39\": 18, \"42\": 1, \"57\": 1}, \"3\": {\"54\": 11, \"39\": 1, \"3\": 31, \"57\": 17, \"52\": 10, \"55\": 4, \"23\": 3, \"44\": 1, \"46\": 11, \"53\": 1, \"17\": 2, \"40\": 1, \"1\": 1, \"43\": 2, \"36\": 1, \"42\": 1, \"5\": 1, \"12\": 1}, \"29\": {\"29\": 63, \"32\": 1, \"36\": 5, \"9\": 4, \"44\": 7, \"4\": 7, \"0\": 3, \"55\": 2, \"27\": 1, \"45\": 1, \"12\": 2, \"47\": 3, \"19\": 11, \"57\": 2, \"5\": 2, \"11\": 2, \"3\": 1, \"48\": 1}, \"17\": {\"17\": 107, \"25\": 4, \"30\": 4, \"45\": 1}, \"35\": {\"35\": 36}, \"44\": {\"47\": 2, \"44\": 99, \"55\": 6, \"36\": 5, \"54\": 1, \"29\": 8, \"34\": 1, \"33\": 1, \"32\": 1, \"45\": 1, \"19\": 2, \"5\": 13, \"50\": 2, \"27\": 2, \"57\": 1, \"4\": 2, \"13\": 1, \"40\": 1, \"0\": 1, \"48\": 1, \"3\": 1}, \"5\": {\"44\": 20, \"5\": 64, \"50\": 6, \"40\": 8, \"33\": 1, \"45\": 1, \"4\": 3, \"29\": 13, \"14\": 2, \"3\": 1, \"36\": 1, \"55\": 2, \"19\": 3, \"27\": 1, \"20\": 1, \"46\": 1}, \"33\": {\"33\": 16, \"3\": 1, \"1\": 2, \"31\": 1, \"27\": 2, \"17\": 2, \"41\": 1, \"9\": 2, \"32\": 1, \"48\": 1, \"28\": 2, \"19\": 1}, \"34\": {\"35\": 1, \"3\": 1, \"34\": 30, \"32\": 1, \"57\": 1, \"22\": 1, \"17\": 1}, \"13\": {\"13\": 132, \"10\": 2, \"3\": 1, \"56\": 1, \"49\": 1, \"35\": 1}, \"41\": {\"6\": 1, \"41\": 25, \"1\": 1, \"57\": 1}, \"6\": {\"6\": 48, \"50\": 3, \"45\": 2, \"25\": 6, \"1\": 14, \"8\": 12, \"48\": 7, \"17\": 10, \"20\": 9, \"18\": 2, \"27\": 3, \"30\": 6, \"53\": 1, \"23\": 1, \"12\": 2, \"57\": 2}, \"51\": {\"51\": 122, \"53\": 7, \"20\": 2, \"48\": 1, \"50\": 1, \"17\": 2, \"9\": 1, \"54\": 1, \"21\": 1}, \"50\": {\"6\": 7, \"32\": 2, \"39\": 1, \"26\": 1, \"41\": 2, \"53\": 8, \"7\": 1, \"1\": 7, \"50\": 21, \"20\": 7, \"9\": 11, \"34\": 1, \"36\": 2, \"27\": 8, \"14\": 1, \"52\": 2, \"45\": 7, \"30\": 4, \"16\": 3, \"17\": 1, \"51\": 9, \"19\": 2, \"3\": 1, \"21\": 7, \"29\": 1, \"8\": 5, \"55\": 6, \"12\": 3, \"42\": 1, \"48\": 4, \"47\": 1, \"4\": 1, \"43\": 1, \"54\": 2, \"25\": 2, \"46\": 1}, \"37\": {\"37\": 23, \"45\": 1}, \"19\": {\"9\": 15, \"27\": 24, \"19\": 59, \"17\": 4, \"48\": 9, \"4\": 3, \"50\": 1, \"54\": 4, \"16\": 1, \"47\": 1, \"3\": 1, \"6\": 3, \"57\": 1, \"1\": 1, \"26\": 1, \"53\": 1, \"28\": 2, \"34\": 1, \"21\": 2, \"51\": 3, \"5\": 1, \"20\": 1, \"52\": 1, \"55\": 2, \"25\": 2}, \"57\": {\"57\": 114, \"23\": 8, \"54\": 4, \"1\": 4, \"46\": 2}, \"21\": {\"21\": 135, \"51\": 9}, \"24\": {\"24\": 68, \"0\": 2, \"6\": 2, \"15\": 3, \"11\": 1, \"43\": 1, \"56\": 2, \"16\": 1}, \"8\": {\"8\": 123, \"20\": 5, \"6\": 1, \"17\": 1}, \"12\": {\"50\": 2, \"12\": 44, \"7\": 5, \"51\": 15, \"21\": 3, \"52\": 1, \"53\": 6, \"20\": 1, \"32\": 1, \"6\": 1, \"45\": 2, \"18\": 1, \"27\": 2, \"25\": 2, \"54\": 1, \"9\": 4, \"17\": 2, \"26\": 1, \"30\": 1, \"8\": 1}, \"48\": {\"48\": 102, \"39\": 1, \"20\": 4, \"1\": 18, \"23\": 2, \"6\": 1, \"53\": 3, \"54\": 1}, \"43\": {\"43\": 60, \"39\": 2, \"52\": 6, \"18\": 1, \"34\": 2, \"11\": 2, \"54\": 16, \"8\": 4, \"57\": 5, \"30\": 1, \"46\": 2, \"20\": 5, \"1\": 6, \"23\": 3, \"21\": 5, \"25\": 5, \"6\": 5, \"45\": 1, \"12\": 1, \"48\": 5, \"16\": 10, \"28\": 1, \"41\": 1, \"9\": 1}, \"53\": {\"53\": 135, \"20\": 8, \"51\": 1, \"8\": 2, \"6\": 2}, \"38\": {\"38\": 32}, \"16\": {\"16\": 135, \"46\": 1, \"54\": 3, \"52\": 1, \"57\": 1, \"3\": 1}, \"22\": {\"22\": 23, \"49\": 1, \"13\": 1, \"40\": 2, \"44\": 1}, \"4\": {\"7\": 2, \"27\": 14, \"33\": 1, \"5\": 2, \"48\": 5, \"19\": 6, \"4\": 14, \"17\": 3, \"53\": 4, \"45\": 1, \"40\": 3, \"36\": 1, \"20\": 3, \"12\": 4, \"9\": 13, \"47\": 2, \"55\": 3, \"54\": 1, \"30\": 3, \"25\": 3, \"8\": 1, \"44\": 2, \"32\": 1, \"46\": 1, \"38\": 1, \"24\": 1, \"51\": 4, \"29\": 1}, \"18\": {\"18\": 63, \"23\": 1}, \"20\": {\"20\": 113, \"8\": 6, \"6\": 4, \"25\": 3, \"53\": 7, \"54\": 2, \"30\": 3, \"17\": 2, \"1\": 2, \"48\": 1, \"51\": 1}, \"52\": {\"52\": 130, \"11\": 2, \"23\": 3, \"3\": 1, \"46\": 2, \"57\": 1, \"25\": 1}, \"31\": {\"31\": 30, \"23\": 2, \"16\": 3, \"18\": 1}}, \"W_1\": {\"105\": {\"87\": 4, \"105\": 52, \"114\": 12, \"30\": 1, \"70\": 1, \"84\": 4, \"110\": 3, \"1\": 2, \"40\": 5}, \"100\": {\"100\": 10, \"82\": 2, \"62\": 2, \"16\": 1, \"81\": 1}, \"112\": {\"112\": 12, \"88\": 2, \"127\": 2}, \"123\": {\"123\": 12, \"122\": 1, \"14\": 1, \"2\": 1, \"16\": 1}, \"13\": {\"113\": 1, \"13\": 7, \"122\": 1, \"78\": 2, \"81\": 1, \"118\": 1, \"26\": 3}, \"81\": {\"81\": 17, \"13\": 1, \"67\": 2, \"14\": 2, \"118\": 3, \"100\": 1, \"16\": 2}, \"124\": {\"81\": 1, \"124\": 69, \"72\": 2, \"47\": 1, \"11\": 4, \"40\": 4, \"39\": 1, \"108\": 5, \"89\": 1, \"70\": 5, \"24\": 2, \"122\": 1, \"18\": 1, \"8\": 2, \"110\": 4, \"107\": 1, \"93\": 2, \"13\": 1, \"9\": 4, \"34\": 1, \"17\": 1, \"118\": 1, \"16\": 1, \"5\": 1, \"106\": 2, \"114\": 1, \"7\": 1}, \"122\": {\"122\": 28, \"100\": 3, \"114\": 1, \"96\": 1, \"81\": 2, \"62\": 3, \"39\": 2, \"33\": 6, \"129\": 2, \"117\": 1, \"116\": 1, \"102\": 4, \"113\": 2, \"3\": 2, \"109\": 1, \"43\": 2, \"18\": 6, \"14\": 3, \"1\": 1, \"70\": 3, \"82\": 4, \"69\": 3, \"10\": 1, \"90\": 1, \"7\": 1, \"44\": 1, \"84\": 2, \"8\": 1}, \"111\": {\"111\": 73, \"94\": 4, \"88\": 5, \"32\": 3, \"68\": 1, \"89\": 1, \"127\": 7, \"18\": 1, \"98\": 7, \"106\": 4, \"0\": 1, \"12\": 2, \"70\": 2, \"52\": 1, \"15\": 3, \"4\": 1, \"105\": 1, \"71\": 2, \"62\": 1}, \"93\": {\"93\": 38, \"122\": 3, \"48\": 1, \"5\": 4, \"55\": 2, \"66\": 1, \"31\": 1, \"107\": 12, \"108\": 2, \"109\": 6, \"7\": 7, \"72\": 2, \"3\": 2, \"84\": 4, \"44\": 2, \"21\": 2, \"9\": 1, \"87\": 7, \"101\": 2, \"43\": 4, \"40\": 6, \"106\": 7, \"10\": 2, \"110\": 9, \"70\": 5, \"1\": 3, \"126\": 6, \"33\": 3, \"114\": 4, \"28\": 1, \"90\": 2, \"105\": 1, \"86\": 1, \"118\": 1, \"62\": 1, \"111\": 1, \"0\": 2}, \"106\": {\"86\": 1, \"106\": 67, \"127\": 4, \"107\": 5, \"52\": 2, \"30\": 2, \"89\": 1, \"12\": 5, \"111\": 1, \"108\": 1, \"110\": 6, \"98\": 3, \"18\": 1, \"93\": 3, \"62\": 2, \"68\": 2, \"103\": 2, \"94\": 1, \"44\": 1, \"4\": 1, \"39\": 2, \"101\": 3, \"88\": 2}, \"113\": {\"113\": 75, \"66\": 1, \"65\": 1, \"20\": 1, \"19\": 1, \"99\": 1, \"122\": 1, \"102\": 2, \"69\": 2, \"3\": 2, \"39\": 2, \"62\": 12, \"87\": 1, \"18\": 5, \"109\": 2, \"118\": 3, \"50\": 1, \"63\": 1, \"61\": 1, \"21\": 1, \"11\": 2, \"90\": 1, \"14\": 1, \"33\": 2, \"117\": 2}, \"95\": {\"95\": 24, \"123\": 1, \"25\": 2, \"16\": 1, \"26\": 2, \"39\": 1, \"11\": 1, \"67\": 2, \"117\": 1, \"8\": 1}, \"87\": {\"87\": 28, \"113\": 1, \"114\": 10, \"109\": 4, \"62\": 1, \"1\": 5, \"78\": 1, \"122\": 2, \"70\": 3, \"93\": 6, \"7\": 3, \"21\": 1, \"3\": 2, \"18\": 4, \"39\": 1, \"84\": 5, \"44\": 4, \"43\": 6, \"105\": 7, \"11\": 1, \"40\": 3, \"10\": 1, \"64\": 1, \"129\": 1, \"106\": 1, \"14\": 1, \"69\": 2, \"90\": 2, \"33\": 1}, \"86\": {\"86\": 16, \"106\": 1, \"72\": 1, \"1\": 2, \"27\": 1, \"126\": 1, \"85\": 2, \"129\": 1, \"24\": 1, \"10\": 1, \"52\": 1, \"60\": 1, \"4\": 1, \"35\": 1, \"97\": 1, \"101\": 1, \"122\": 1, \"108\": 1, \"5\": 1}, \"67\": {\"67\": 15, \"118\": 1}, \"85\": {\"85\": 24, \"0\": 3, \"86\": 1, \"75\": 1, \"1\": 1, \"126\": 1, \"87\": 1}, \"82\": {\"82\": 22, \"14\": 2, \"19\": 1, \"69\": 1, \"81\": 1, \"62\": 1, \"102\": 2, \"80\": 2, \"33\": 2, \"16\": 1, \"11\": 1}, \"115\": {\"115\": 8, \"0\": 2, \"76\": 1, \"57\": 1}, \"7\": {\"7\": 88, \"48\": 2, \"90\": 14, \"128\": 1, \"104\": 1, \"3\": 9, \"0\": 1, \"44\": 3, \"43\": 4, \"10\": 5, \"109\": 4, \"108\": 3, \"28\": 1, \"121\": 1, \"126\": 1, \"18\": 2, \"33\": 1, \"39\": 1}, \"44\": {\"115\": 2, \"44\": 48, \"21\": 1, \"109\": 6, \"18\": 3, \"7\": 4, \"3\": 1, \"90\": 3, \"76\": 2, \"64\": 1, \"85\": 1, \"66\": 1, \"28\": 1, \"126\": 2}, \"65\": {\"16\": 1, \"115\": 1, \"80\": 1, \"109\": 1, \"65\": 3, \"78\": 1, \"50\": 1, \"63\": 1, \"11\": 1, \"28\": 1}, \"129\": {\"82\": 1, \"65\": 1, \"78\": 2, \"84\": 1, \"129\": 6, \"72\": 1, \"94\": 1, \"122\": 2, \"39\": 2, \"3\": 1, \"102\": 2, \"22\": 1, \"1\": 1, \"69\": 2, \"114\": 1, \"121\": 1, \"11\": 1, \"92\": 1}, \"42\": {\"65\": 1, \"29\": 1, \"9\": 2, \"90\": 2, \"42\": 7, \"83\": 3, \"124\": 2, \"23\": 1, \"21\": 1, \"76\": 1, \"108\": 1, \"64\": 1, \"20\": 1, \"84\": 1, \"44\": 2, \"86\": 1}, \"28\": {\"129\": 1, \"7\": 1, \"64\": 1, \"28\": 10, \"48\": 2, \"74\": 1, \"23\": 1, \"104\": 1, \"66\": 1, \"11\": 1}, \"0\": {\"85\": 3, \"0\": 25, \"48\": 1, \"19\": 1, \"1\": 4, \"84\": 5, \"106\": 3, \"11\": 1, \"5\": 6, \"10\": 5, \"126\": 5, \"98\": 3, \"70\": 3, \"93\": 1, \"4\": 4, \"90\": 1, \"107\": 1, \"101\": 4, \"72\": 1, \"28\": 1, \"129\": 1, \"110\": 1, \"108\": 1, \"7\": 1, \"24\": 1, \"43\": 1}, \"10\": {\"44\": 4, \"0\": 5, \"10\": 61, \"20\": 1, \"113\": 1, \"90\": 5, \"83\": 1, \"3\": 2, \"109\": 3, \"33\": 2, \"18\": 3, \"43\": 5, \"7\": 6, \"126\": 5, \"12\": 1, \"62\": 1, \"69\": 1, \"99\": 1, \"64\": 1, \"28\": 1, \"129\": 1, \"121\": 2, \"9\": 1, \"5\": 1, \"8\": 1, \"122\": 2, \"101\": 1, \"1\": 1}, \"76\": {\"28\": 1, \"115\": 1, \"76\": 7, \"66\": 2, \"128\": 1, \"3\": 2, \"21\": 2}, \"88\": {\"88\": 37, \"71\": 4, \"98\": 5, \"125\": 17, \"30\": 3, \"12\": 4, \"126\": 1, \"6\": 1, \"27\": 3, \"106\": 4, \"94\": 4, \"111\": 2, \"93\": 3, \"36\": 7, \"15\": 6, \"24\": 4, \"110\": 5, \"101\": 8, \"0\": 1, \"70\": 1, \"52\": 1, \"89\": 1, \"85\": 1, \"108\": 1, \"107\": 1, \"43\": 1}, \"29\": {\"10\": 1, \"29\": 25, \"47\": 2}, \"16\": {\"16\": 53, \"118\": 10, \"26\": 8, \"50\": 1, \"102\": 3, \"117\": 7, \"62\": 4, \"39\": 2, \"8\": 6, \"11\": 2, \"113\": 7, \"18\": 3, \"69\": 1, \"14\": 1}, \"41\": {\"0\": 1, \"41\": 11, \"5\": 1, \"72\": 1, \"22\": 1, \"93\": 1}, \"27\": {\"27\": 48, \"94\": 2, \"52\": 1, \"32\": 1, \"51\": 1, \"34\": 2, \"89\": 1, \"88\": 6, \"15\": 4, \"125\": 9, \"98\": 4, \"36\": 2, \"87\": 1, \"110\": 2, \"24\": 3, \"124\": 1, \"106\": 1, \"126\": 1, \"101\": 1, \"107\": 1}, \"33\": {\"33\": 96, \"69\": 5, \"62\": 3, \"122\": 3, \"102\": 3, \"14\": 3, \"114\": 1, \"22\": 1, \"19\": 2, \"82\": 1, \"90\": 1, \"43\": 1}, \"75\": {\"75\": 16}, \"48\": {\"48\": 7, \"76\": 1, \"28\": 1, \"66\": 2, \"57\": 1}, \"56\": {\"9\": 1, \"27\": 1, \"56\": 7, \"92\": 1, \"94\": 1, \"36\": 1}, \"9\": {\"9\": 11, \"41\": 1, \"110\": 1, \"103\": 1, \"49\": 1, \"58\": 2, \"119\": 1, \"23\": 3, \"29\": 1, \"4\": 1, \"111\": 1, \"77\": 1, \"52\": 1, \"40\": 2, \"14\": 1, \"93\": 1, \"107\": 1, \"70\": 1}, \"1\": {\"1\": 67, \"78\": 3, \"114\": 9, \"33\": 2, \"42\": 1, \"122\": 1, \"87\": 5, \"128\": 1, \"40\": 3, \"105\": 4, \"84\": 13, \"90\": 2, \"70\": 1, \"43\": 4, \"10\": 1, \"93\": 4, \"96\": 1, \"18\": 1, \"113\": 1, \"109\": 1, \"102\": 1}, \"39\": {\"48\": 2, \"109\": 5, \"14\": 3, \"61\": 2, \"81\": 1, \"39\": 16, \"18\": 13, \"99\": 1, \"117\": 8, \"43\": 2, \"23\": 1, \"95\": 1, \"113\": 5, \"3\": 3, \"21\": 1, \"26\": 4, \"90\": 2, \"16\": 8, \"118\": 2, \"11\": 4, \"87\": 1, \"7\": 1, \"8\": 2, \"102\": 1, \"22\": 1, \"67\": 1, \"115\": 1, \"74\": 1, \"65\": 1, \"64\": 1, \"50\": 1, \"13\": 1, \"121\": 1, \"62\": 3, \"69\": 1, \"33\": 2}, \"50\": {\"50\": 13, \"39\": 1, \"43\": 1, \"64\": 1}, \"99\": {\"33\": 4, \"99\": 13, \"90\": 1, \"78\": 1, \"76\": 1, \"63\": 1, \"61\": 1, \"3\": 1, \"10\": 1}, \"90\": {\"90\": 114, \"109\": 6, \"20\": 1, \"48\": 1}, \"45\": {\"90\": 1, \"45\": 1, \"112\": 1, \"74\": 1, \"120\": 2, \"13\": 2, \"48\": 1, \"66\": 1, \"115\": 1, \"39\": 1}, \"5\": {\"5\": 55, \"32\": 1, \"55\": 2, \"105\": 4, \"101\": 1, \"93\": 6, \"110\": 1, \"4\": 5, \"87\": 4, \"114\": 1, \"0\": 1, \"8\": 1, \"1\": 1, \"107\": 1, \"86\": 1, \"84\": 1, \"70\": 1, \"40\": 1}, \"128\": {\"128\": 11, \"19\": 2, \"18\": 1, \"84\": 1, \"82\": 1, \"43\": 1, \"109\": 1, \"2\": 2, \"39\": 1, \"96\": 1, \"126\": 2}, \"2\": {\"45\": 3, \"67\": 1, \"76\": 1, \"2\": 8, \"70\": 1, \"14\": 3, \"50\": 3, \"113\": 3, \"18\": 1, \"39\": 1, \"10\": 2, \"100\": 2, \"121\": 1, \"81\": 2}, \"53\": {\"53\": 18, \"75\": 1, \"41\": 1}, \"104\": {\"104\": 10, \"57\": 2, \"129\": 1, \"73\": 1, \"90\": 1, \"76\": 1}, \"32\": {\"32\": 20, \"72\": 1, \"49\": 1, \"111\": 2, \"127\": 1, \"58\": 2, \"4\": 1, \"101\": 1, \"15\": 1, \"5\": 2}, \"92\": {\"92\": 21, \"53\": 1, \"46\": 1, \"37\": 1, \"6\": 2, \"24\": 1, \"111\": 1}, \"78\": {\"90\": 1, \"78\": 3, \"64\": 1, \"19\": 1, \"62\": 1, \"1\": 3, \"21\": 1, \"74\": 1, \"129\": 2, \"33\": 1, \"121\": 1}, \"19\": {\"81\": 2, \"67\": 1, \"63\": 2, \"20\": 1, \"78\": 1, \"129\": 1, \"9\": 1, \"33\": 2, \"82\": 1, \"57\": 1, \"47\": 1, \"19\": 2, \"74\": 2, \"41\": 2, \"2\": 3, \"3\": 1, \"126\": 1, \"128\": 1, \"11\": 1, \"110\": 1}, \"120\": {\"120\": 19, \"20\": 1}, \"43\": {\"64\": 2, \"43\": 36, \"122\": 4, \"66\": 1, \"3\": 7, \"84\": 8, \"7\": 10, \"114\": 5, \"87\": 8, \"18\": 8, \"1\": 10, \"39\": 2, \"69\": 2, \"90\": 5, \"109\": 12, \"126\": 4, \"104\": 1, \"113\": 1, \"70\": 1, \"33\": 1}, \"74\": {\"74\": 12, \"129\": 1, \"65\": 1, \"20\": 1, \"78\": 1}, \"11\": {\"67\": 1, \"81\": 4, \"19\": 3, \"11\": 42, \"118\": 3, \"69\": 6, \"3\": 1, \"8\": 14, \"26\": 8, \"102\": 4, \"117\": 9, \"14\": 1, \"16\": 3, \"18\": 1, \"40\": 1, \"62\": 3, \"39\": 3, \"7\": 2, \"109\": 3, \"90\": 6, \"50\": 1, \"2\": 1, \"70\": 3, \"10\": 2, \"95\": 1, \"33\": 1, \"87\": 1, \"124\": 1, \"1\": 1}, \"26\": {\"26\": 97, \"81\": 3, \"13\": 1, \"16\": 6, \"118\": 1, \"95\": 1, \"69\": 3, \"14\": 1, \"21\": 1, \"39\": 3, \"70\": 1, \"117\": 7, \"109\": 1, \"8\": 1, \"10\": 2, \"11\": 1, \"50\": 1, \"122\": 1}, \"125\": {\"125\": 94, \"88\": 6, \"36\": 20, \"27\": 4, \"107\": 1, \"71\": 1, \"59\": 2, \"94\": 4}, \"64\": {\"64\": 16}, \"127\": {\"127\": 84, \"92\": 1, \"98\": 3, \"15\": 2, \"36\": 1, \"12\": 2, \"111\": 4, \"94\": 2, \"71\": 1, \"24\": 1, \"108\": 1, \"75\": 2, \"68\": 1, \"69\": 1, \"101\": 1, \"125\": 1}, \"83\": {\"83\": 6, \"110\": 1, \"42\": 1, \"120\": 1, \"9\": 2, \"29\": 1, \"118\": 1, \"18\": 1, \"105\": 1, \"8\": 1, \"11\": 2, \"98\": 1, \"16\": 1, \"103\": 1, \"60\": 1, \"124\": 1, \"26\": 1, \"117\": 1, \"91\": 1, \"116\": 2}, \"118\": {\"67\": 1, \"2\": 1, \"81\": 2, \"118\": 37, \"14\": 1, \"66\": 1, \"16\": 9, \"62\": 2, \"26\": 6, \"117\": 3, \"39\": 2, \"126\": 1, \"44\": 1, \"11\": 3, \"113\": 4, \"43\": 1, \"70\": 1, \"121\": 1, \"129\": 1, \"19\": 1, \"69\": 2, \"82\": 1, \"8\": 1, \"18\": 1}, \"103\": {\"110\": 2, \"103\": 8, \"124\": 1, \"97\": 1, \"29\": 1, \"17\": 1, \"36\": 1, \"81\": 1}, \"55\": {\"110\": 1, \"55\": 6, \"5\": 2, \"108\": 1, \"93\": 1, \"79\": 1}, \"110\": {\"110\": 87, \"103\": 1, \"114\": 3, \"23\": 1, \"24\": 1, \"106\": 5, \"21\": 1, \"93\": 3, \"40\": 9, \"4\": 1, \"84\": 1, \"107\": 5, \"105\": 2, \"101\": 1, \"35\": 1, \"5\": 1, \"44\": 1, \"62\": 1, \"126\": 1}, \"30\": {\"6\": 2, \"41\": 1, \"30\": 13, \"32\": 1, \"51\": 2, \"98\": 1, \"71\": 1, \"53\": 2, \"91\": 2, \"15\": 4, \"89\": 1, \"24\": 2, \"12\": 3, \"94\": 3, \"122\": 1, \"59\": 2, \"112\": 1, \"127\": 1, \"72\": 1, \"111\": 1, \"101\": 2, \"129\": 1, \"88\": 2, \"110\": 1, \"27\": 1}, \"51\": {\"51\": 16}, \"6\": {\"51\": 2, \"6\": 14, \"71\": 4, \"75\": 1, \"52\": 1, \"15\": 2, \"97\": 1, \"88\": 1, \"94\": 2, \"12\": 3, \"27\": 1}, \"96\": {\"96\": 6, \"122\": 1, \"86\": 1, \"2\": 1, \"74\": 1, \"20\": 2, \"66\": 1, \"78\": 1, \"76\": 3, \"90\": 1, \"128\": 2}, \"114\": {\"114\": 87, \"87\": 4, \"121\": 1, \"40\": 8, \"84\": 21, \"23\": 1, \"1\": 3, \"105\": 6, \"106\": 1, \"70\": 1, \"93\": 2, \"110\": 3, \"107\": 2, \"24\": 1, \"39\": 1, \"11\": 1, \"8\": 1}, \"69\": {\"69\": 68, \"82\": 4, \"44\": 1, \"62\": 8, \"117\": 2, \"118\": 1, \"113\": 1, \"102\": 6, \"109\": 2, \"33\": 4, \"11\": 1, \"39\": 1, \"57\": 1, \"1\": 1, \"81\": 2, \"70\": 1, \"122\": 1, \"14\": 2, \"90\": 1}, \"60\": {\"60\": 8, \"48\": 1, \"34\": 2, \"45\": 2, \"90\": 1, \"42\": 1, \"84\": 1}, \"94\": {\"111\": 5, \"94\": 30, \"89\": 2, \"59\": 2, \"68\": 1, \"92\": 2, \"15\": 3, \"52\": 2, \"88\": 6, \"12\": 6, \"6\": 2, \"127\": 1, \"36\": 3, \"30\": 5, \"98\": 5, \"71\": 2, \"27\": 3, \"51\": 2, \"97\": 2, \"125\": 3, \"101\": 2, \"0\": 1, \"24\": 1, \"18\": 1}, \"79\": {\"79\": 8, \"77\": 2, \"119\": 1, \"83\": 1}, \"126\": {\"122\": 3, \"126\": 53, \"70\": 3, \"18\": 2, \"47\": 1, \"34\": 2, \"96\": 1, \"21\": 1, \"23\": 1, \"7\": 2, \"3\": 2, \"113\": 1, \"84\": 9, \"43\": 6, \"14\": 1, \"33\": 1, \"44\": 3, \"10\": 2, \"5\": 3, \"109\": 6, \"107\": 1, \"90\": 1, \"1\": 4, \"62\": 2, \"101\": 3, \"93\": 5, \"2\": 1, \"87\": 8, \"114\": 1, \"128\": 1, \"108\": 1, \"69\": 1, \"110\": 2}, \"68\": {\"103\": 1, \"112\": 1, \"111\": 2, \"68\": 9, \"34\": 1, \"127\": 2}, \"72\": {\"110\": 2, \"72\": 10, \"19\": 1, \"4\": 2, \"1\": 1, \"55\": 3, \"107\": 1, \"93\": 4, \"70\": 2, \"86\": 1, \"84\": 1, \"5\": 1, \"101\": 1, \"0\": 1, \"28\": 1}, \"63\": {\"63\": 11, \"121\": 1, \"99\": 1, \"118\": 1, \"50\": 2}, \"22\": {\"64\": 1, \"22\": 6, \"121\": 3, \"116\": 1, \"126\": 2, \"129\": 1, \"51\": 1, \"50\": 1}, \"121\": {\"64\": 3, \"22\": 1, \"44\": 2, \"123\": 1, \"20\": 3, \"39\": 1, \"121\": 9, \"118\": 1, \"63\": 1, \"50\": 2, \"90\": 1, \"78\": 1, \"66\": 2, \"18\": 1, \"15\": 1, \"10\": 2}, \"71\": {\"71\": 71, \"111\": 6, \"27\": 5, \"64\": 1, \"53\": 1, \"98\": 1, \"94\": 4, \"36\": 2, \"15\": 4, \"44\": 1, \"110\": 1, \"10\": 1, \"127\": 4, \"6\": 1, \"88\": 3, \"102\": 1, \"109\": 1}, \"54\": {\"54\": 14, \"9\": 1, \"32\": 1}, \"102\": {\"102\": 65, \"19\": 1, \"39\": 2, \"14\": 6, \"40\": 2, \"63\": 1, \"122\": 1, \"33\": 8, \"62\": 8, \"118\": 1, \"117\": 3, \"8\": 2, \"69\": 8, \"11\": 5, \"65\": 1, \"74\": 1, \"129\": 1, \"82\": 3, \"113\": 1}, \"73\": {\"73\": 12, \"71\": 2, \"126\": 1, \"125\": 1, \"106\": 1, \"115\": 1, \"55\": 2}, \"38\": {\"38\": 15, \"83\": 1}, \"4\": {\"4\": 47, \"72\": 4, \"24\": 1, \"106\": 6, \"93\": 3, \"40\": 5, \"107\": 3, \"105\": 2, \"70\": 3, \"114\": 3, \"113\": 1, \"101\": 4, \"84\": 3, \"110\": 1, \"5\": 8, \"30\": 1, \"1\": 1, \"3\": 1, \"69\": 1, \"10\": 2}, \"52\": {\"30\": 1, \"52\": 17, \"72\": 1, \"94\": 1}, \"70\": {\"70\": 30, \"52\": 1, \"64\": 2, \"14\": 1, \"74\": 1, \"68\": 2, \"57\": 1, \"54\": 1, \"98\": 2, \"97\": 1, \"23\": 1, \"21\": 3, \"106\": 7, \"126\": 3, \"124\": 3, \"24\": 5, \"33\": 1, \"44\": 2, \"108\": 6, \"18\": 4, \"43\": 6, \"39\": 2, \"7\": 1, \"90\": 3, \"118\": 1, \"4\": 3, \"0\": 2, \"110\": 3, \"109\": 6, \"13\": 1, \"47\": 1, \"103\": 1, \"20\": 1, \"17\": 1, \"49\": 1, \"34\": 1, \"9\": 1, \"116\": 1, \"86\": 1, \"113\": 2, \"101\": 4, \"105\": 1, \"27\": 1, \"111\": 2, \"93\": 3, \"1\": 1}, \"91\": {\"91\": 16, \"42\": 1, \"119\": 1, \"53\": 1, \"89\": 1, \"88\": 1, \"24\": 1, \"56\": 1, \"9\": 1, \"32\": 1, \"58\": 1, \"68\": 2}, \"77\": {\"77\": 9, \"60\": 1, \"117\": 1, \"103\": 1, \"124\": 1, \"5\": 1, \"9\": 1, \"106\": 1}, \"20\": {\"64\": 2, \"20\": 12, \"74\": 1, \"113\": 1}, \"59\": {\"59\": 11, \"15\": 1}, \"40\": {\"55\": 2, \"40\": 99, \"32\": 1, \"81\": 1, \"109\": 2, \"114\": 7, \"4\": 4, \"93\": 4, \"87\": 1, \"105\": 1, \"1\": 3, \"110\": 3, \"107\": 1, \"124\": 2, \"84\": 1, \"43\": 1, \"11\": 1, \"106\": 2}, \"98\": {\"13\": 2, \"98\": 59, \"49\": 1, \"47\": 1, \"97\": 2, \"23\": 2, \"24\": 9, \"107\": 1, \"127\": 5, \"111\": 5, \"5\": 2, \"71\": 1, \"106\": 6, \"12\": 1, \"15\": 1, \"91\": 3, \"110\": 1, \"94\": 2, \"9\": 1, \"101\": 3}, \"46\": {\"11\": 1, \"46\": 3, \"94\": 1, \"100\": 1, \"111\": 1, \"51\": 2, \"53\": 1, \"32\": 1, \"58\": 1}, \"34\": {\"34\": 4, \"24\": 1, \"27\": 3, \"94\": 1, \"103\": 1, \"51\": 2, \"89\": 1, \"122\": 1, \"39\": 1, \"121\": 1, \"125\": 1, \"128\": 2, \"15\": 1, \"22\": 1, \"90\": 1, \"2\": 1, \"44\": 1, \"56\": 1, \"18\": 1, \"96\": 1, \"21\": 1, \"68\": 1, \"112\": 1, \"99\": 1, \"43\": 1}, \"24\": {\"52\": 1, \"71\": 2, \"32\": 1, \"24\": 34, \"19\": 1, \"98\": 9, \"30\": 1, \"89\": 2, \"36\": 1, \"27\": 3, \"111\": 5, \"21\": 1, \"106\": 4, \"94\": 2, \"15\": 2, \"88\": 2, \"127\": 3, \"12\": 5, \"125\": 1, \"45\": 1, \"70\": 1, \"108\": 3, \"66\": 1, \"103\": 1, \"96\": 1, \"49\": 1, \"0\": 1, \"39\": 2}, \"62\": {\"62\": 82, \"63\": 1, \"82\": 1, \"33\": 5, \"113\": 6, \"69\": 13, \"87\": 1, \"102\": 5, \"42\": 1, \"125\": 1, \"18\": 1, \"109\": 2, \"11\": 1}, \"14\": {\"122\": 3, \"14\": 62, \"33\": 3, \"117\": 2, \"102\": 4, \"11\": 1, \"62\": 7, \"69\": 4, \"8\": 3, \"45\": 1, \"113\": 2, \"76\": 1, \"26\": 1, \"39\": 1, \"118\": 1}, \"12\": {\"112\": 2, \"12\": 49, \"22\": 2, \"94\": 2, \"30\": 3, \"106\": 2, \"109\": 1, \"111\": 7, \"127\": 7, \"24\": 10, \"98\": 3, \"0\": 2, \"15\": 2, \"71\": 1, \"101\": 2, \"37\": 1, \"73\": 1, \"75\": 1, \"36\": 1, \"66\": 1, \"86\": 1, \"113\": 1, \"18\": 1, \"90\": 1}, \"84\": {\"84\": 74, \"82\": 1, \"1\": 13, \"40\": 3, \"128\": 1, \"0\": 1, \"122\": 1, \"87\": 3, \"43\": 7, \"39\": 1, \"62\": 1, \"18\": 3, \"114\": 8, \"105\": 4, \"5\": 1, \"108\": 2, \"93\": 1, \"33\": 4, \"21\": 1, \"4\": 1, \"7\": 1, \"110\": 1, \"124\": 1}, \"37\": {\"37\": 15, \"58\": 1}, \"97\": {\"104\": 2, \"12\": 1, \"97\": 6, \"94\": 2, \"6\": 1, \"34\": 1, \"5\": 1, \"36\": 1, \"112\": 1, \"106\": 1, \"35\": 1, \"96\": 1, \"108\": 1}, \"57\": {\"57\": 9, \"121\": 1, \"120\": 1, \"48\": 1}, \"49\": {\"98\": 1, \"49\": 8, \"106\": 1, \"52\": 1, \"101\": 1, \"35\": 2, \"4\": 2, \"12\": 1, \"73\": 1, \"127\": 1, \"27\": 1}, \"17\": {\"32\": 2, \"17\": 10, \"40\": 2, \"102\": 1, \"15\": 1}, \"109\": {\"7\": 2, \"14\": 1, \"109\": 63, \"90\": 6, \"44\": 7, \"18\": 13, \"3\": 3, \"8\": 1, \"74\": 2, \"21\": 2, \"69\": 1, \"70\": 1, \"126\": 1, \"124\": 1, \"43\": 1, \"1\": 1}, \"80\": {\"14\": 5, \"80\": 11}, \"66\": {\"66\": 15, \"64\": 1}, \"101\": {\"71\": 1, \"101\": 94, \"53\": 1, \"93\": 6, \"4\": 2, \"12\": 1, \"70\": 2, \"24\": 2, \"72\": 1, \"0\": 3, \"126\": 3, \"111\": 1, \"85\": 1, \"108\": 3, \"33\": 1, \"127\": 1, \"10\": 1}, \"89\": {\"89\": 23, \"66\": 1, \"32\": 1, \"27\": 1, \"83\": 2, \"23\": 2, \"30\": 1, \"3\": 1, \"4\": 2, \"124\": 2}, \"31\": {\"53\": 1, \"31\": 13, \"49\": 2}, \"21\": {\"66\": 2, \"21\": 11, \"50\": 2, \"128\": 1, \"93\": 1, \"7\": 1, \"114\": 1, \"12\": 1, \"70\": 1, \"18\": 4, \"3\": 4, \"2\": 1, \"115\": 1, \"126\": 1, \"90\": 1, \"87\": 1, \"43\": 2, \"109\": 2, \"44\": 2}, \"23\": {\"66\": 4, \"18\": 2, \"93\": 1, \"114\": 1, \"70\": 2, \"25\": 1, \"23\": 4, \"1\": 1, \"109\": 1, \"44\": 1, \"29\": 1, \"48\": 1, \"79\": 1, \"86\": 1, \"61\": 1, \"105\": 1}, \"25\": {\"25\": 11, \"96\": 1, \"109\": 1, \"20\": 1, \"21\": 1, \"14\": 1}, \"107\": {\"107\": 85, \"106\": 5, \"127\": 1, \"87\": 2, \"113\": 1, \"4\": 2, \"110\": 8, \"114\": 2, \"70\": 1, \"93\": 3, \"5\": 1, \"125\": 1}, \"3\": {\"66\": 2, \"76\": 2, \"3\": 67, \"18\": 6, \"21\": 2, \"109\": 4, \"71\": 1, \"7\": 1, \"125\": 1, \"88\": 1, \"43\": 1}, \"61\": {\"61\": 7, \"18\": 1, \"90\": 1, \"20\": 1, \"53\": 1, \"50\": 1}, \"117\": {\"117\": 57, \"39\": 8, \"62\": 14, \"113\": 7, \"69\": 6, \"26\": 5, \"11\": 11, \"102\": 3, \"16\": 2, \"14\": 2, \"43\": 1, \"118\": 3, \"8\": 3, \"124\": 1, \"33\": 3}, \"119\": {\"119\": 11, \"16\": 1, \"121\": 2, \"0\": 1, \"123\": 1}, \"58\": {\"58\": 10, \"32\": 1, \"45\": 1}, \"47\": {\"47\": 7, \"107\": 1, \"29\": 2, \"105\": 1, \"55\": 1}, \"116\": {\"116\": 13, \"47\": 1, \"99\": 3, \"90\": 1, \"42\": 1, \"96\": 1, \"62\": 1, \"124\": 1, \"22\": 1, \"10\": 1, \"67\": 1, \"33\": 1, \"7\": 2, \"26\": 1, \"11\": 1, \"44\": 1, \"3\": 1}, \"18\": {\"18\": 108, \"122\": 1, \"70\": 1, \"109\": 4, \"113\": 1, \"78\": 2, \"76\": 2, \"21\": 3, \"3\": 1, \"39\": 1}, \"36\": {\"36\": 73, \"109\": 1, \"92\": 2, \"30\": 1, \"125\": 15, \"27\": 5, \"88\": 13, \"111\": 1, \"94\": 2, \"102\": 1, \"71\": 3, \"59\": 1, \"68\": 1, \"24\": 1, \"127\": 1, \"113\": 1}, \"108\": {\"17\": 1, \"0\": 7, \"9\": 2, \"98\": 1, \"91\": 1, \"93\": 5, \"101\": 11, \"21\": 2, \"108\": 28, \"124\": 4, \"27\": 1, \"12\": 2, \"62\": 1, \"126\": 6, \"14\": 2, \"69\": 2, \"11\": 4, \"5\": 1, \"40\": 3, \"87\": 1, \"125\": 1, \"4\": 2, \"10\": 1, \"70\": 5, \"88\": 2, \"29\": 1, \"3\": 2, \"99\": 1, \"104\": 1, \"111\": 1, \"96\": 1, \"34\": 1, \"43\": 1, \"112\": 1, \"24\": 3, \"90\": 1, \"122\": 1, \"36\": 1}, \"15\": {\"94\": 3, \"68\": 1, \"37\": 1, \"15\": 48, \"127\": 6, \"30\": 1, \"6\": 3, \"97\": 1, \"111\": 1, \"36\": 5, \"88\": 6, \"93\": 1, \"27\": 4, \"24\": 3, \"106\": 1, \"125\": 6, \"71\": 2, \"112\": 2, \"41\": 1, \"58\": 1, \"59\": 1, \"89\": 1, \"98\": 2, \"0\": 1, \"87\": 1, \"108\": 1}, \"8\": {\"8\": 71, \"34\": 1, \"26\": 1, \"39\": 1, \"11\": 11, \"21\": 1, \"40\": 1, \"70\": 2, \"117\": 4, \"102\": 4, \"87\": 1, \"109\": 2, \"93\": 1, \"90\": 2, \"22\": 1, \"14\": 1, \"43\": 3, \"10\": 1, \"126\": 1, \"3\": 1, \"113\": 1, \"18\": 1, \"124\": 1}, \"35\": {\"35\": 8, \"1\": 1, \"93\": 1, \"20\": 1, \"43\": 1}}, \"C_1\": {\"41\": {\"51\": 3, \"41\": 15, \"53\": 3, \"46\": 1, \"14\": 2}, \"40\": {\"40\": 64, \"46\": 5, \"4\": 6, \"5\": 2, \"29\": 10, \"13\": 1, \"6\": 1, \"57\": 2, \"44\": 4, \"50\": 6, \"56\": 2, \"32\": 3, \"3\": 4}, \"45\": {\"42\": 2, \"45\": 115, \"37\": 1, \"57\": 1, \"25\": 2, \"9\": 7, \"19\": 5, \"16\": 2, \"1\": 1, \"46\": 1, \"30\": 1}, \"51\": {\"41\": 1, \"51\": 126, \"53\": 6, \"54\": 1, \"19\": 2, \"17\": 2, \"12\": 4, \"16\": 6}, \"5\": {\"48\": 19, \"5\": 94, \"46\": 2, \"6\": 4, \"14\": 1, \"2\": 2, \"8\": 13, \"45\": 2, \"30\": 4, \"9\": 2, \"1\": 1, \"50\": 5, \"51\": 1, \"25\": 3, \"19\": 1}, \"30\": {\"30\": 111, \"9\": 6, \"17\": 1, \"18\": 2}, \"42\": {\"45\": 5, \"42\": 27, \"34\": 1, \"16\": 1, \"19\": 3, \"1\": 2, \"36\": 1}, \"46\": {\"5\": 12, \"48\": 16, \"17\": 3, \"30\": 1, \"46\": 31, \"25\": 6, \"8\": 15, \"6\": 11, \"7\": 1, \"50\": 13, \"54\": 1, \"57\": 1, \"29\": 1, \"20\": 5, \"23\": 1, \"53\": 2, \"19\": 1, \"4\": 3, \"13\": 1, \"44\": 2, \"55\": 2, \"14\": 1, \"1\": 1, \"0\": 1, \"45\": 1, \"51\": 3}, \"48\": {\"48\": 97, \"6\": 10, \"8\": 20, \"50\": 2, \"5\": 4, \"25\": 1}, \"53\": {\"53\": 144}, \"47\": {\"29\": 10, \"32\": 1, \"47\": 108, \"49\": 3, \"12\": 1, \"44\": 13, \"10\": 1, \"54\": 1, \"24\": 1, \"56\": 2, \"52\": 1, \"3\": 1, \"57\": 2, \"40\": 2, \"42\": 2, \"1\": 1, \"0\": 1, \"55\": 1}, \"49\": {\"49\": 24, \"10\": 1, \"28\": 2, \"12\": 1, \"52\": 1, \"3\": 2, \"29\": 1}, \"36\": {\"36\": 64}, \"32\": {\"5\": 2, \"32\": 10, \"19\": 4, \"42\": 6, \"1\": 2, \"0\": 1, \"45\": 2, \"34\": 1, \"9\": 2, \"6\": 1, \"30\": 1}, \"34\": {\"34\": 24}, \"29\": {\"46\": 5, \"32\": 2, \"29\": 97, \"57\": 5, \"0\": 3, \"44\": 7, \"40\": 4, \"55\": 1, \"47\": 4, \"4\": 3, \"56\": 4, \"3\": 3, \"1\": 1, \"35\": 1}, \"35\": {\"32\": 3, \"35\": 25, \"42\": 2, \"1\": 1, \"19\": 1, \"4\": 2, \"33\": 1, \"57\": 1}, \"3\": {\"3\": 118, \"1\": 1, \"40\": 4, \"47\": 2, \"29\": 6, \"55\": 1, \"7\": 1, \"45\": 1}, \"16\": {\"16\": 137, \"45\": 3}, \"26\": {\"26\": 23, \"9\": 1}, \"57\": {\"57\": 56, \"26\": 3, \"19\": 19, \"51\": 5, \"56\": 10, \"42\": 2, \"17\": 4, \"54\": 4, \"45\": 5, \"1\": 15, \"0\": 3, \"53\": 7, \"5\": 4, \"14\": 1, \"55\": 1, \"37\": 2, \"9\": 2, \"16\": 1}, \"44\": {\"44\": 61, \"46\": 2, \"4\": 8, \"32\": 1, \"47\": 2, \"29\": 11, \"2\": 1, \"1\": 4, \"55\": 5, \"35\": 2, \"45\": 1, \"19\": 3, \"9\": 2, \"5\": 9, \"13\": 2, \"57\": 3, \"12\": 1, \"7\": 1, \"54\": 1, \"56\": 3, \"50\": 1, \"30\": 1, \"48\": 1, \"51\": 2}, \"0\": {\"36\": 7, \"6\": 1, \"16\": 9, \"33\": 8, \"42\": 3, \"34\": 5, \"50\": 4, \"35\": 1, \"26\": 1, \"18\": 4, \"54\": 7, \"0\": 46, \"9\": 19, \"45\": 10, \"48\": 4, \"5\": 6, \"1\": 5, \"30\": 2, \"25\": 1, \"37\": 1, \"17\": 1, \"46\": 2, \"8\": 2, \"19\": 3}, \"4\": {\"35\": 1, \"48\": 1, \"4\": 29, \"19\": 10, \"20\": 2, \"41\": 2, \"1\": 10, \"13\": 4, \"29\": 3, \"50\": 17, \"45\": 2, \"8\": 2, \"3\": 1, \"17\": 1, \"25\": 5, \"53\": 5, \"56\": 6, \"55\": 2, \"46\": 7, \"57\": 12, \"51\": 3, \"14\": 2, \"5\": 3, \"44\": 2}, \"31\": {\"31\": 24, \"52\": 1, \"11\": 1, \"24\": 1, \"47\": 1}, \"11\": {\"11\": 103, \"21\": 8, \"52\": 1, \"22\": 15, \"15\": 10, \"23\": 1, \"10\": 1, \"24\": 1}, \"6\": {\"48\": 5, \"36\": 2, \"6\": 57, \"8\": 11, \"5\": 8, \"50\": 7, \"17\": 2, \"2\": 1, \"53\": 2, \"46\": 1}, \"54\": {\"54\": 61, \"42\": 5, \"37\": 1, \"19\": 9, \"14\": 1, \"9\": 4, \"45\": 6, \"16\": 4, \"8\": 2, \"1\": 3, \"36\": 3, \"26\": 1, \"33\": 2, \"0\": 2}, \"17\": {\"2\": 4, \"17\": 51, \"9\": 2, \"25\": 3, \"30\": 2, \"14\": 1, \"8\": 1}, \"20\": {\"41\": 3, \"20\": 89, \"51\": 14, \"25\": 2, \"19\": 2, \"53\": 8, \"54\": 4, \"12\": 4, \"56\": 1, \"36\": 1}, \"13\": {\"13\": 118, \"46\": 3, \"20\": 15, \"12\": 2, \"3\": 2, \"50\": 2, \"4\": 5, \"41\": 1, \"57\": 1, \"55\": 1}, \"33\": {\"33\": 31, \"34\": 1}, \"24\": {\"11\": 5, \"52\": 11, \"24\": 74, \"49\": 2, \"22\": 7, \"10\": 7, \"4\": 2}, \"52\": {\"52\": 87, \"39\": 2, \"24\": 18, \"22\": 8, \"11\": 5, \"10\": 4, \"15\": 2, \"38\": 1, \"55\": 1, \"47\": 2, \"21\": 1, \"3\": 1}, \"2\": {\"2\": 36}, \"19\": {\"19\": 135, \"1\": 7, \"51\": 1, \"26\": 1, \"16\": 2, \"57\": 3, \"42\": 2, \"30\": 1, \"36\": 1, \"25\": 1, \"45\": 2}, \"39\": {\"24\": 2, \"39\": 26}, \"8\": {\"8\": 122, \"30\": 5, \"48\": 6, \"5\": 4, \"6\": 3}, \"21\": {\"23\": 7, \"21\": 100, \"15\": 15, \"34\": 1, \"42\": 1}, \"10\": {\"10\": 77, \"52\": 2, \"24\": 10, \"11\": 3, \"22\": 1, \"15\": 1, \"49\": 1, \"47\": 1}, \"37\": {\"37\": 28, \"45\": 1, \"18\": 1, \"26\": 2}, \"25\": {\"8\": 13, \"25\": 73, \"50\": 4, \"17\": 7, \"26\": 4, \"48\": 12, \"14\": 1, \"53\": 5, \"6\": 7, \"9\": 2, \"30\": 2, \"5\": 7, \"0\": 1, \"45\": 2, \"12\": 1, \"37\": 2, \"46\": 1}, \"27\": {\"27\": 127, \"10\": 1, \"24\": 1, \"52\": 1}, \"23\": {\"23\": 109, \"36\": 6, \"33\": 2, \"16\": 8, \"0\": 2, \"18\": 2, \"30\": 1, \"9\": 2, \"34\": 1, \"37\": 2, \"54\": 1}, \"1\": {\"19\": 13, \"57\": 5, \"1\": 65, \"50\": 1, \"16\": 2, \"4\": 2, \"56\": 3, \"42\": 4, \"41\": 1, \"17\": 2, \"14\": 1, \"9\": 1}, \"50\": {\"50\": 134, \"48\": 8, \"8\": 6, \"2\": 2, \"1\": 1, \"6\": 1}, \"12\": {\"51\": 22, \"36\": 6, \"54\": 3, \"41\": 1, \"12\": 37, \"20\": 11, \"53\": 11, \"17\": 1, \"2\": 1, \"5\": 1, \"19\": 5, \"16\": 8, \"45\": 1, \"13\": 1, \"48\": 1, \"1\": 5, \"6\": 1}, \"18\": {\"18\": 72}, \"38\": {\"52\": 1, \"38\": 19, \"22\": 4}, \"14\": {\"14\": 12, \"30\": 2, \"45\": 1, \"5\": 3, \"6\": 1, \"8\": 1, \"34\": 1, \"48\": 1, \"17\": 2}, \"56\": {\"56\": 41, \"1\": 13, \"57\": 22, \"42\": 1, \"9\": 4, \"4\": 3, \"19\": 27, \"45\": 10, \"17\": 3, \"54\": 4, \"55\": 2, \"53\": 4, \"46\": 1, \"3\": 1, \"33\": 1, \"5\": 1, \"37\": 1, \"51\": 2, \"16\": 1}, \"55\": {\"55\": 123, \"45\": 2, \"6\": 3, \"12\": 3, \"29\": 1, \"25\": 1, \"4\": 1, \"56\": 3, \"54\": 1, \"30\": 1, \"46\": 4, \"57\": 5, \"20\": 3, \"50\": 4, \"5\": 2, \"13\": 1, \"0\": 1, \"48\": 1}, \"9\": {\"9\": 128, \"14\": 1, \"30\": 4, \"37\": 1, \"17\": 3, \"48\": 1}, \"15\": {\"15\": 134, \"21\": 12}, \"28\": {\"28\": 28}, \"7\": {\"7\": 24, \"1\": 2, \"51\": 1, \"50\": 1}, \"43\": {\"43\": 134, \"27\": 2}, \"22\": {\"22\": 98, \"10\": 3, \"21\": 5, \"11\": 12, \"52\": 4, \"15\": 6, \"23\": 1, \"24\": 4, \"12\": 1, \"0\": 2}}, \"C_3\": {\"1\": {\"9\": 6, \"50\": 1, \"57\": 17, \"45\": 4, \"1\": 32, \"5\": 5, \"27\": 5, \"34\": 2, \"47\": 4, \"0\": 7, \"17\": 1, \"48\": 7, \"29\": 3, \"46\": 3, \"6\": 1, \"52\": 1, \"19\": 1}, \"9\": {\"1\": 4, \"9\": 70, \"54\": 7, \"33\": 1, \"4\": 3, \"6\": 1, \"27\": 14, \"25\": 2, \"16\": 1, \"17\": 3, \"29\": 4, \"57\": 9, \"3\": 1, \"46\": 2, \"34\": 1, \"45\": 1}, \"22\": {\"31\": 1, \"49\": 1, \"22\": 115, \"55\": 2, \"44\": 2, \"24\": 3, \"52\": 1, \"56\": 3, \"19\": 2, \"13\": 2, \"10\": 1, \"7\": 2, \"47\": 1}, \"43\": {\"43\": 129, \"16\": 2, \"7\": 1, \"11\": 1, \"49\": 1, \"39\": 1, \"15\": 1}, \"49\": {\"49\": 19, \"7\": 1}, \"50\": {\"50\": 39, \"32\": 2, \"53\": 8, \"25\": 15, \"18\": 2, \"20\": 9, \"12\": 2, \"6\": 3, \"2\": 3, \"54\": 8, \"45\": 2, \"57\": 2, \"3\": 4, \"36\": 7, \"5\": 2, \"17\": 6, \"29\": 1, \"46\": 5, \"9\": 3, \"8\": 4, \"27\": 4, \"30\": 5, \"21\": 1, \"4\": 1}, \"53\": {\"53\": 103, \"51\": 8, \"6\": 1, \"30\": 1, \"21\": 4, \"54\": 5, \"27\": 4, \"50\": 2, \"20\": 4, \"46\": 1, \"9\": 1, \"3\": 2}, \"10\": {\"10\": 58, \"13\": 1, \"24\": 4, \"56\": 1}, \"48\": {\"48\": 94, \"55\": 1, \"41\": 1, \"34\": 2, \"57\": 5, \"6\": 1, \"52\": 2, \"3\": 1, \"5\": 1, \"0\": 2, \"23\": 3, \"46\": 2, \"31\": 1}, \"8\": {\"8\": 121, \"12\": 5, \"36\": 4, \"54\": 1, \"20\": 5, \"25\": 1, \"45\": 1}, \"31\": {\"31\": 23, \"45\": 1, \"25\": 1, \"12\": 1, \"46\": 1, \"50\": 1}, \"56\": {\"56\": 133, \"13\": 1}, \"25\": {\"50\": 6, \"25\": 55, \"36\": 18, \"6\": 2, \"27\": 6, \"21\": 2, \"8\": 10, \"3\": 4, \"17\": 4, \"12\": 2, \"20\": 13, \"54\": 10, \"53\": 2, \"4\": 1, \"46\": 1, \"2\": 1, \"9\": 1, \"30\": 1, \"1\": 1, \"44\": 1, \"5\": 1}, \"28\": {\"38\": 1, \"28\": 9, \"39\": 1, \"33\": 1, \"41\": 4, \"48\": 1, \"16\": 1, \"5\": 3, \"43\": 1, \"34\": 1, \"29\": 1, \"19\": 1, \"57\": 3}, \"38\": {\"38\": 28}, \"5\": {\"5\": 62, \"12\": 1, \"30\": 3, \"48\": 7, \"52\": 1, \"29\": 3, \"34\": 4, \"57\": 14, \"23\": 4, \"3\": 2, \"44\": 1, \"46\": 3, \"2\": 1, \"41\": 2, \"6\": 3, \"0\": 1, \"11\": 1, \"9\": 1, \"27\": 2}, \"12\": {\"12\": 67, \"3\": 1, \"38\": 2, \"20\": 8, \"8\": 4, \"27\": 3, \"36\": 1, \"4\": 1, \"32\": 1, \"25\": 1, \"9\": 1, \"18\": 2}, \"6\": {\"6\": 19, \"33\": 3, \"36\": 4, \"48\": 6, \"2\": 2, \"46\": 3, \"17\": 17, \"3\": 3, \"0\": 1, \"9\": 2, \"50\": 3, \"45\": 3, \"47\": 1, \"53\": 2, \"19\": 1, \"15\": 2, \"1\": 1, \"25\": 2, \"27\": 1, \"41\": 2, \"38\": 1, \"39\": 2, \"16\": 1, \"34\": 1, \"12\": 1, \"23\": 1, \"44\": 1, \"20\": 1, \"8\": 1}, \"19\": {\"19\": 70, \"32\": 1, \"47\": 8, \"35\": 4, \"54\": 4, \"31\": 2, \"28\": 2, \"3\": 5, \"1\": 8, \"4\": 2, \"27\": 3, \"46\": 1, \"44\": 1, \"45\": 1, \"40\": 2, \"21\": 2, \"50\": 3, \"29\": 18, \"12\": 2, \"36\": 1, \"20\": 1, \"5\": 1, \"57\": 3, \"25\": 3, \"9\": 4}, \"26\": {\"26\": 13, \"48\": 2, \"54\": 2, \"18\": 4, \"17\": 1, \"34\": 1, \"39\": 1}, \"32\": {\"32\": 27, \"27\": 1}, \"33\": {\"6\": 2, \"18\": 1, \"39\": 3, \"33\": 9, \"4\": 1, \"41\": 7, \"36\": 1, \"45\": 1, \"30\": 1, \"23\": 1, \"17\": 1}, \"3\": {\"25\": 5, \"6\": 3, \"41\": 1, \"34\": 2, \"36\": 5, \"3\": 25, \"9\": 6, \"46\": 5, \"4\": 3, \"27\": 13, \"17\": 8, \"20\": 5, \"12\": 2, \"18\": 1, \"51\": 2, \"50\": 2, \"53\": 5, \"11\": 1, \"54\": 8, \"48\": 2, \"29\": 2, \"23\": 2, \"8\": 2, \"32\": 1, \"30\": 1, \"15\": 1, \"57\": 2, \"37\": 1, \"21\": 2}, \"51\": {\"51\": 117, \"53\": 9, \"21\": 1, \"27\": 1}, \"16\": {\"16\": 119, \"52\": 6, \"15\": 5, \"23\": 4, \"11\": 1, \"18\": 1, \"46\": 1, \"48\": 1}, \"46\": {\"6\": 2, \"16\": 2, \"54\": 5, \"46\": 39, \"4\": 5, \"9\": 9, \"48\": 8, \"38\": 1, \"3\": 5, \"30\": 2, \"17\": 13, \"52\": 5, \"34\": 1, \"50\": 3, \"57\": 14, \"23\": 1, \"25\": 5, \"45\": 2, \"19\": 3, \"0\": 2, \"21\": 1, \"18\": 2, \"53\": 3, \"26\": 1, \"44\": 2, \"2\": 1, \"11\": 1, \"5\": 1, \"27\": 1}, \"7\": {\"39\": 1, \"7\": 25, \"23\": 1, \"16\": 2, \"15\": 3, \"43\": 1, \"11\": 1, \"0\": 1, \"52\": 1}, \"47\": {\"12\": 3, \"35\": 2, \"47\": 34, \"5\": 6, \"48\": 3, \"19\": 2, \"37\": 1, \"0\": 9, \"54\": 1, \"50\": 1, \"3\": 1, \"36\": 3, \"16\": 1, \"6\": 2, \"57\": 7, \"1\": 5, \"17\": 2, \"23\": 1, \"25\": 2, \"29\": 2, \"55\": 1, \"30\": 1, \"20\": 1, \"9\": 1}, \"39\": {\"39\": 16}, \"40\": {\"40\": 100, \"29\": 3, \"14\": 1, \"42\": 3, \"45\": 2, \"55\": 4, \"47\": 2, \"31\": 3, \"44\": 3, \"1\": 3, \"19\": 8, \"4\": 1, \"46\": 2, \"25\": 1}, \"14\": {\"14\": 19, \"43\": 3, \"28\": 1, \"49\": 1, \"10\": 3, \"42\": 2, \"31\": 1, \"46\": 1, \"55\": 1, \"56\": 4, \"22\": 1, \"44\": 2, \"24\": 1}, \"37\": {\"54\": 1, \"51\": 1, \"37\": 12, \"27\": 1, \"16\": 2, \"6\": 1, \"21\": 5, \"4\": 1, \"53\": 3, \"25\": 1}, \"2\": {\"37\": 3, \"2\": 18, \"21\": 2, \"27\": 1, \"8\": 2, \"4\": 2, \"29\": 1, \"53\": 1, \"12\": 2}, \"21\": {\"21\": 66, \"51\": 21, \"38\": 2, \"53\": 15, \"3\": 2, \"50\": 1, \"18\": 1, \"20\": 1, \"16\": 1, \"52\": 2, \"27\": 3, \"46\": 2, \"6\": 1, \"54\": 1, \"29\": 1}, \"35\": {\"39\": 1, \"35\": 9, \"28\": 1, \"48\": 3, \"5\": 4, \"1\": 1, \"57\": 4, \"41\": 3, \"19\": 1, \"47\": 1}, \"54\": {\"54\": 70, \"20\": 15, \"6\": 1, \"36\": 2, \"27\": 2, \"12\": 3, \"53\": 2, \"17\": 2, \"50\": 2, \"46\": 1}, \"52\": {\"52\": 112, \"34\": 1, \"18\": 2, \"48\": 1}, \"29\": {\"17\": 4, \"29\": 32, \"54\": 3, \"27\": 9, \"34\": 2, \"4\": 10, \"15\": 2, \"9\": 18, \"57\": 20, \"19\": 3, \"45\": 1, \"16\": 4, \"32\": 2, \"5\": 3, \"6\": 1, \"46\": 1, \"47\": 1, \"48\": 1, \"52\": 1}, \"20\": {\"20\": 113, \"17\": 2, \"25\": 3, \"54\": 4, \"12\": 4, \"53\": 1, \"8\": 3, \"18\": 2}, \"18\": {\"18\": 82, \"30\": 2}, \"11\": {\"52\": 9, \"11\": 88, \"0\": 4, \"15\": 25, \"46\": 3, \"23\": 1, \"16\": 10, \"5\": 1, \"17\": 1}, \"0\": {\"0\": 109, \"23\": 6, \"48\": 4, \"41\": 1, \"34\": 2, \"16\": 1, \"57\": 1}, \"36\": {\"36\": 99, \"20\": 1}, \"17\": {\"17\": 103, \"54\": 4, \"30\": 1}, \"30\": {\"30\": 110, \"18\": 3, \"54\": 1}, \"42\": {\"19\": 5, \"42\": 9, \"47\": 1, \"33\": 4, \"20\": 2, \"12\": 4, \"39\": 1, \"6\": 2}, \"45\": {\"4\": 5, \"54\": 5, \"1\": 1, \"31\": 3, \"45\": 11, \"28\": 1, \"12\": 2, \"32\": 4, \"3\": 1, \"44\": 2, \"27\": 1, \"8\": 4, \"50\": 1, \"21\": 3, \"9\": 4, \"29\": 5, \"25\": 2, \"33\": 1, \"6\": 1, \"2\": 1, \"19\": 1, \"5\": 1}, \"4\": {\"54\": 2, \"4\": 110, \"9\": 5, \"27\": 16, \"47\": 1, \"53\": 1, \"57\": 3, \"29\": 1, \"46\": 1, \"21\": 3, \"45\": 1, \"44\": 1, \"3\": 2, \"50\": 1}, \"23\": {\"23\": 132, \"46\": 1, \"50\": 1}, \"13\": {\"13\": 128}, \"15\": {\"15\": 107, \"23\": 3, \"16\": 10, \"11\": 4, \"34\": 1, \"52\": 1, \"19\": 1, \"1\": 1}, \"57\": {\"57\": 117, \"34\": 2, \"9\": 2, \"3\": 2, \"48\": 1}, \"27\": {\"17\": 4, \"20\": 5, \"27\": 111, \"30\": 1, \"4\": 1, \"3\": 2, \"54\": 4, \"57\": 1, \"25\": 3, \"9\": 2}, \"44\": {\"44\": 48, \"13\": 1, \"47\": 8, \"46\": 3, \"1\": 7, \"19\": 3, \"45\": 2, \"6\": 3, \"52\": 1, \"12\": 1, \"4\": 3, \"40\": 4, \"29\": 3, \"27\": 1}, \"34\": {\"34\": 32}, \"41\": {\"41\": 26, \"50\": 1, \"53\": 1}, \"24\": {\"24\": 98, \"7\": 1, \"43\": 3, \"49\": 2}, \"55\": {\"55\": 101, \"40\": 5, \"14\": 2, \"19\": 1, \"44\": 2, \"13\": 3, \"29\": 1, \"22\": 3}}, \"C_4\": {\"52\": {\"52\": 112, \"47\": 2, \"23\": 2}, \"6\": {\"25\": 7, \"6\": 13, \"54\": 12, \"42\": 6, \"41\": 1, \"1\": 2, \"34\": 4, \"36\": 16, \"57\": 3, \"21\": 3, \"53\": 2, \"50\": 4, \"5\": 3, \"47\": 2, \"27\": 2, \"3\": 8, \"45\": 2, \"8\": 5, \"4\": 3, \"48\": 5, \"20\": 1, \"23\": 3, \"35\": 1, \"17\": 2, \"30\": 1, \"16\": 1}, \"14\": {\"14\": 6, \"31\": 1, \"24\": 1, \"25\": 1, \"22\": 4, \"16\": 1, \"55\": 1, \"19\": 1}, \"49\": {\"49\": 13, \"41\": 4, \"54\": 1, \"5\": 2}, \"0\": {\"6\": 3, \"0\": 47, \"23\": 1, \"29\": 1, \"43\": 2, \"1\": 1, \"49\": 1, \"48\": 2, \"11\": 2, \"15\": 4, \"16\": 5, \"27\": 1, \"35\": 2, \"41\": 2, \"32\": 1, \"25\": 1, \"5\": 1, \"57\": 1, \"52\": 1, \"54\": 1}, \"46\": {\"6\": 3, \"32\": 4, \"46\": 46, \"48\": 24, \"57\": 7, \"23\": 8, \"42\": 2, \"44\": 3, \"52\": 16, \"18\": 6, \"55\": 6, \"56\": 1, \"5\": 4, \"0\": 1, \"54\": 4, \"47\": 5, \"50\": 1, \"29\": 3, \"40\": 5, \"1\": 1, \"27\": 1, \"16\": 1, \"45\": 1, \"20\": 1, \"15\": 1, \"12\": 1}, \"41\": {\"41\": 36}, \"24\": {\"24\": 38, \"15\": 2, \"43\": 11, \"19\": 1, \"11\": 1, \"49\": 1, \"38\": 1, \"16\": 1}, \"25\": {\"25\": 41, \"6\": 1, \"39\": 2, \"20\": 20, \"8\": 20, \"3\": 10, \"30\": 1, \"17\": 4, \"12\": 3, \"54\": 1, \"1\": 1, \"48\": 1, \"21\": 12, \"27\": 11, \"36\": 1, \"4\": 5, \"53\": 5, \"28\": 1, \"45\": 1, \"50\": 3, \"29\": 1, \"34\": 2, \"5\": 1, \"16\": 1, \"9\": 2, \"23\": 1}, \"40\": {\"40\": 101, \"44\": 6, \"33\": 1, \"55\": 10, \"25\": 2, \"46\": 3, \"19\": 12, \"5\": 1, \"3\": 1, \"50\": 1}, \"38\": {\"14\": 1, \"24\": 1, \"38\": 32, \"37\": 1, \"22\": 2, \"0\": 1, \"13\": 1, \"44\": 1}, \"13\": {\"13\": 152}, \"9\": {\"45\": 4, \"9\": 45, \"33\": 1, \"4\": 20, \"17\": 7, \"50\": 3, \"29\": 3, \"3\": 2, \"27\": 13, \"6\": 2, \"53\": 1, \"28\": 1, \"21\": 2, \"20\": 2, \"25\": 2}, \"45\": {\"45\": 37, \"5\": 1, \"27\": 10, \"26\": 2, \"17\": 5, \"6\": 1, \"4\": 10, \"44\": 3, \"51\": 1, \"50\": 3, \"9\": 5, \"36\": 1, \"19\": 2, \"40\": 1, \"46\": 1, \"28\": 2, \"25\": 1, \"12\": 6, \"21\": 1, \"39\": 1, \"42\": 1, \"53\": 1}, \"43\": {\"43\": 123, \"54\": 1, \"11\": 8, \"24\": 1, \"0\": 3, \"52\": 3, \"47\": 1, \"41\": 1, \"15\": 2, \"48\": 1}, \"10\": {\"10\": 119, \"2\": 4, \"13\": 3, \"22\": 2, \"56\": 2}, \"15\": {\"15\": 106, \"16\": 12, \"46\": 2, \"52\": 3, \"47\": 1, \"23\": 3, \"3\": 1}, \"39\": {\"39\": 9, \"20\": 1, \"23\": 1, \"25\": 1, \"47\": 1, \"17\": 1, \"3\": 2, \"42\": 1, \"41\": 1, \"18\": 2}, \"4\": {\"4\": 124, \"53\": 2, \"48\": 1, \"27\": 2, \"51\": 1, \"21\": 2}, \"53\": {\"53\": 87, \"51\": 16, \"17\": 2, \"20\": 3, \"4\": 3, \"8\": 2, \"3\": 2, \"21\": 6, \"36\": 1, \"54\": 3, \"50\": 3, \"25\": 2, \"45\": 1, \"55\": 1}, \"1\": {\"42\": 1, \"1\": 19, \"32\": 1, \"49\": 2, \"41\": 1, \"47\": 3, \"48\": 1, \"35\": 1, \"57\": 6, \"54\": 2, \"44\": 1, \"6\": 2}, \"28\": {\"4\": 5, \"28\": 12, \"34\": 1, \"17\": 4, \"19\": 1, \"21\": 2, \"54\": 2, \"9\": 1, \"27\": 2, \"20\": 2}, \"54\": {\"54\": 106, \"6\": 1, \"42\": 1}, \"21\": {\"21\": 128, \"36\": 1, \"20\": 2, \"25\": 1}, \"7\": {\"7\": 16, \"46\": 1, \"12\": 2, \"29\": 1, \"1\": 1, \"47\": 1, \"20\": 1, \"18\": 1}, \"8\": {\"8\": 133, \"21\": 2, \"20\": 1}, \"42\": {\"42\": 32}, \"11\": {\"11\": 59, \"15\": 17, \"32\": 1, \"16\": 7, \"46\": 2, \"44\": 2, \"43\": 3, \"52\": 6, \"57\": 1, \"5\": 1, \"56\": 1, \"47\": 1, \"48\": 3}, \"33\": {\"33\": 17, \"29\": 3, \"32\": 1, \"30\": 2, \"47\": 4, \"28\": 5, \"17\": 1, \"12\": 1, \"35\": 1, \"27\": 1}, \"27\": {\"27\": 113, \"17\": 6, \"46\": 1, \"8\": 10, \"4\": 1, \"12\": 3, \"36\": 4, \"20\": 2, \"3\": 1, \"25\": 1}, \"19\": {\"57\": 1, \"19\": 81, \"12\": 4, \"45\": 5, \"33\": 6, \"44\": 5, \"54\": 2, \"1\": 1, \"28\": 1, \"47\": 5, \"21\": 3, \"25\": 1, \"3\": 3, \"20\": 1, \"29\": 9, \"48\": 1, \"50\": 2, \"8\": 1, \"26\": 3, \"17\": 1, \"49\": 1, \"35\": 2, \"6\": 1, \"9\": 2, \"46\": 1, \"27\": 1}, \"2\": {\"2\": 34, \"24\": 1, \"38\": 1}, \"3\": {\"41\": 1, \"3\": 39, \"53\": 2, \"34\": 1, \"17\": 3, \"36\": 8, \"6\": 5, \"25\": 7, \"8\": 13, \"48\": 3, \"27\": 2, \"11\": 1, \"9\": 1, \"21\": 3, \"29\": 1, \"54\": 7, \"20\": 12, \"4\": 1, \"18\": 4, \"46\": 2, \"28\": 1, \"50\": 1, \"12\": 1, \"52\": 1}, \"57\": {\"57\": 85, \"35\": 3, \"54\": 4, \"12\": 1, \"3\": 2, \"1\": 2, \"15\": 1, \"5\": 2}, \"20\": {\"20\": 90, \"8\": 8, \"21\": 6, \"55\": 2, \"27\": 4, \"25\": 1, \"48\": 1}, \"23\": {\"23\": 124, \"18\": 3, \"48\": 1}, \"22\": {\"22\": 82, \"38\": 4, \"0\": 3, \"12\": 1, \"56\": 6, \"24\": 8, \"23\": 1, \"6\": 1, \"13\": 3, \"11\": 3, \"10\": 3, \"43\": 5, \"46\": 1, \"15\": 2, \"27\": 1, \"5\": 2, \"55\": 2}, \"29\": {\"57\": 23, \"38\": 1, \"54\": 5, \"30\": 2, \"29\": 36, \"19\": 2, \"4\": 15, \"35\": 6, \"17\": 2, \"21\": 3, \"36\": 2, \"48\": 10, \"46\": 2, \"47\": 3, \"16\": 1, \"25\": 2, \"28\": 2, \"49\": 1, \"1\": 1, \"5\": 1, \"42\": 2, \"3\": 1, \"9\": 1}, \"36\": {\"36\": 82, \"34\": 2, \"44\": 2, \"20\": 2, \"3\": 2, \"6\": 2}, \"51\": {\"51\": 119, \"53\": 10, \"21\": 2, \"4\": 1}, \"31\": {\"31\": 25, \"22\": 1, \"24\": 1, \"43\": 1}, \"12\": {\"12\": 72, \"27\": 6, \"30\": 4, \"8\": 1, \"20\": 3, \"21\": 2, \"45\": 2, \"3\": 1, \"4\": 1}, \"56\": {\"56\": 111, \"2\": 1, \"14\": 1, \"10\": 5, \"38\": 5, \"22\": 3, \"13\": 7, \"43\": 1, \"24\": 1, \"44\": 1, \"40\": 2}, \"5\": {\"41\": 3, \"39\": 1, \"5\": 59, \"45\": 1, \"36\": 2, \"47\": 13, \"50\": 3, \"23\": 4, \"53\": 1, \"52\": 2, \"6\": 4, \"54\": 5, \"18\": 2, \"42\": 1, \"1\": 1, \"48\": 4, \"3\": 1, \"8\": 1}, \"35\": {\"35\": 25, \"54\": 2, \"42\": 5, \"57\": 4, \"55\": 1, \"4\": 1, \"46\": 1, \"6\": 1}, \"17\": {\"17\": 72, \"36\": 1, \"27\": 2, \"18\": 1, \"21\": 1, \"20\": 1, \"4\": 2}, \"32\": {\"32\": 12, \"5\": 2, \"1\": 2, \"47\": 4, \"57\": 1, \"54\": 2, \"16\": 1}, \"47\": {\"54\": 4, \"47\": 74, \"5\": 1, \"32\": 2, \"48\": 16, \"8\": 1, \"23\": 5, \"57\": 7, \"18\": 4, \"46\": 4, \"1\": 1, \"36\": 1}, \"18\": {\"18\": 99, \"44\": 1, \"13\": 1, \"15\": 1, \"54\": 6}, \"26\": {\"29\": 4, \"26\": 11, \"34\": 3, \"17\": 1, \"4\": 1, \"54\": 1, \"3\": 1, \"28\": 1, \"27\": 1}, \"50\": {\"6\": 2, \"17\": 4, \"27\": 12, \"4\": 7, \"42\": 1, \"12\": 2, \"50\": 40, \"25\": 9, \"51\": 4, \"21\": 4, \"15\": 1, \"9\": 2, \"36\": 2, \"3\": 10, \"45\": 3, \"20\": 4, \"46\": 1, \"8\": 2, \"53\": 5, \"28\": 2, \"5\": 1, \"39\": 1, \"57\": 2, \"54\": 1}, \"55\": {\"55\": 96, \"31\": 1, \"40\": 8, \"44\": 9, \"46\": 4, \"6\": 1, \"22\": 2, \"0\": 1, \"30\": 1, \"56\": 1}, \"34\": {\"34\": 24}, \"30\": {\"26\": 2, \"30\": 31, \"8\": 8, \"54\": 1, \"28\": 1, \"36\": 1}, \"37\": {\"37\": 24}, \"44\": {\"29\": 8, \"19\": 15, \"44\": 77, \"26\": 3, \"46\": 3, \"9\": 3, \"57\": 4, \"45\": 2, \"48\": 1, \"47\": 2, \"3\": 3, \"6\": 3, \"40\": 1, \"55\": 4, \"35\": 1, \"4\": 1, \"50\": 1}, \"48\": {\"48\": 96, \"36\": 1, \"54\": 5, \"25\": 1, \"23\": 6, \"57\": 3, \"6\": 1, \"19\": 1, \"20\": 2, \"3\": 1, \"53\": 1}, \"16\": {\"16\": 91, \"5\": 1, \"52\": 2, \"23\": 1, \"15\": 1}}, \"C_2\": {\"11\": {\"11\": 77, \"16\": 16, \"15\": 16, \"0\": 4, \"52\": 7, \"18\": 3, \"21\": 1, \"23\": 3, \"48\": 1, \"6\": 1, \"57\": 1}, \"21\": {\"21\": 95, \"52\": 5, \"53\": 1, \"12\": 1, \"57\": 1, \"54\": 2, \"8\": 1, \"51\": 10, \"9\": 2, \"36\": 1, \"4\": 1}, \"19\": {\"19\": 71, \"33\": 2, \"54\": 1, \"1\": 5, \"46\": 5, \"9\": 4, \"47\": 12, \"5\": 4, \"29\": 7, \"25\": 1, \"57\": 5, \"40\": 2, \"45\": 4, \"6\": 1, \"20\": 2, \"8\": 2, \"42\": 1, \"12\": 1, \"55\": 4, \"4\": 5, \"48\": 1}, \"20\": {\"20\": 110, \"54\": 2, \"12\": 6, \"27\": 2, \"8\": 6, \"55\": 1, \"44\": 1}, \"9\": {\"32\": 2, \"57\": 8, \"29\": 6, \"9\": 76, \"26\": 1, \"45\": 3, \"17\": 9, \"54\": 5, \"4\": 17, \"53\": 1, \"19\": 4, \"25\": 2, \"51\": 3, \"20\": 1, \"48\": 2}, \"10\": {\"10\": 87, \"13\": 6, \"24\": 6, \"22\": 5, \"56\": 4, \"38\": 4}, \"37\": {\"37\": 36}, \"32\": {\"32\": 28}, \"3\": {\"39\": 3, \"50\": 5, \"53\": 3, \"27\": 6, \"21\": 2, \"25\": 6, \"17\": 6, \"34\": 2, \"3\": 11, \"54\": 4, \"6\": 10, \"19\": 1, \"46\": 4, \"2\": 2, \"45\": 4, \"51\": 2, \"47\": 1, \"36\": 6, \"20\": 2, \"41\": 1, \"9\": 2, \"32\": 1, \"28\": 1, \"31\": 1, \"4\": 2, \"1\": 1, \"48\": 1, \"12\": 1, \"30\": 1}, \"39\": {\"39\": 28}, \"45\": {\"32\": 1, \"46\": 5, \"50\": 2, \"45\": 25, \"4\": 13, \"9\": 11, \"20\": 6, \"44\": 8, \"54\": 6, \"29\": 2, \"21\": 1, \"47\": 8, \"6\": 3, \"1\": 4, \"25\": 3, \"8\": 6, \"51\": 4, \"53\": 4, \"55\": 1, \"27\": 7, \"3\": 2, \"17\": 2, \"19\": 1, \"48\": 1, \"12\": 1, \"5\": 1}, \"50\": {\"20\": 7, \"39\": 1, \"50\": 28, \"49\": 1, \"3\": 2, \"35\": 1, \"54\": 14, \"8\": 10, \"9\": 1, \"17\": 4, \"36\": 14, \"52\": 1, \"4\": 3, \"6\": 8, \"1\": 1, \"27\": 5, \"12\": 3, \"25\": 9, \"53\": 7, \"47\": 1, \"5\": 1, \"48\": 1, \"51\": 3, \"46\": 2, \"57\": 1, \"41\": 1, \"23\": 2, \"18\": 1, \"45\": 3}, \"40\": {\"40\": 97, \"3\": 1, \"47\": 3, \"35\": 2, \"29\": 6, \"4\": 3, \"42\": 6, \"50\": 3, \"55\": 2, \"19\": 8, \"48\": 1, \"45\": 4, \"27\": 1, \"9\": 3}, \"46\": {\"9\": 6, \"21\": 1, \"53\": 4, \"46\": 26, \"20\": 3, \"4\": 6, \"54\": 3, \"28\": 1, \"1\": 2, \"48\": 7, \"29\": 2, \"11\": 1, \"44\": 6, \"50\": 5, \"57\": 17, \"55\": 2, \"52\": 4, \"17\": 4, \"5\": 2, \"51\": 3, \"45\": 8, \"6\": 4, \"19\": 2, \"30\": 2, \"47\": 1, \"3\": 3, \"40\": 3}, \"12\": {\"12\": 78, \"20\": 4, \"25\": 2, \"36\": 3, \"50\": 1, \"8\": 3, \"9\": 1}, \"13\": {\"13\": 116}, \"47\": {\"3\": 2, \"29\": 5, \"8\": 3, \"54\": 2, \"5\": 9, \"47\": 40, \"46\": 2, \"28\": 2, \"6\": 3, \"48\": 14, \"1\": 12, \"0\": 2, \"57\": 6, \"27\": 1, \"7\": 1, \"45\": 1, \"15\": 2, \"52\": 4, \"30\": 2, \"36\": 1, \"23\": 2, \"9\": 1, \"19\": 4, \"20\": 3, \"39\": 2, \"32\": 1, \"49\": 1, \"16\": 1, \"12\": 1, \"4\": 1, \"50\": 1}, \"15\": {\"15\": 134, \"57\": 1, \"16\": 5, \"11\": 1, \"52\": 1}, \"54\": {\"27\": 2, \"53\": 1, \"25\": 4, \"54\": 84, \"6\": 2, \"8\": 2, \"21\": 2, \"50\": 3, \"3\": 2, \"20\": 3, \"17\": 2, \"36\": 1}, \"48\": {\"48\": 137, \"39\": 1, \"17\": 2, \"28\": 2, \"6\": 3, \"23\": 2, \"1\": 1}, \"23\": {\"23\": 141, \"48\": 1}, \"29\": {\"54\": 6, \"29\": 35, \"57\": 28, \"33\": 2, \"50\": 2, \"32\": 2, \"9\": 10, \"1\": 2, \"3\": 3, \"4\": 5, \"11\": 1, \"19\": 3, \"17\": 7, \"48\": 7, \"53\": 2, \"28\": 1, \"26\": 1, \"45\": 1, \"21\": 2, \"5\": 1, \"52\": 1, \"46\": 2, \"47\": 1, \"51\": 2, \"6\": 1}, \"38\": {\"38\": 20}, \"53\": {\"53\": 102, \"4\": 1, \"26\": 1, \"51\": 17, \"17\": 2, \"25\": 1, \"8\": 1, \"54\": 7, \"20\": 3, \"21\": 1}, \"27\": {\"27\": 150}, \"43\": {\"43\": 138, \"11\": 2, \"24\": 2, \"18\": 1, \"55\": 1}, \"35\": {\"35\": 30, \"42\": 2}, \"0\": {\"0\": 43, \"28\": 1, \"15\": 1, \"23\": 1, \"57\": 1, \"48\": 1}, \"52\": {\"52\": 116, \"23\": 3, \"48\": 2, \"6\": 1, \"30\": 1, \"16\": 1}, \"8\": {\"8\": 106, \"27\": 9, \"12\": 3, \"36\": 1, \"53\": 1, \"20\": 6, \"25\": 1, \"50\": 1}, \"24\": {\"10\": 5, \"52\": 2, \"24\": 80, \"11\": 1, \"43\": 6, \"38\": 1, \"14\": 1}, \"18\": {\"18\": 45, \"30\": 3}, \"25\": {\"8\": 13, \"31\": 2, \"54\": 5, \"25\": 53, \"34\": 1, \"17\": 1, \"27\": 29, \"30\": 2, \"50\": 7, \"12\": 6, \"36\": 7, \"20\": 8, \"3\": 3, \"46\": 2, \"57\": 2, \"9\": 1, \"6\": 2, \"42\": 1, \"51\": 1, \"53\": 2}, \"57\": {\"57\": 127, \"1\": 2, \"5\": 1, \"48\": 6}, \"55\": {\"24\": 1, \"37\": 1, \"55\": 105, \"22\": 1, \"48\": 1, \"44\": 6, \"50\": 1, \"46\": 5, \"13\": 1, \"29\": 1, \"40\": 7, \"45\": 1, \"19\": 3}, \"36\": {\"36\": 114, \"54\": 2}, \"17\": {\"17\": 97, \"53\": 1, \"57\": 1, \"46\": 1, \"54\": 2, \"48\": 2}, \"2\": {\"2\": 11, \"41\": 2, \"8\": 3, \"52\": 3, \"50\": 1, \"5\": 2, \"53\": 1, \"17\": 1, \"39\": 2, \"12\": 1, \"18\": 1, \"28\": 3, \"34\": 1}, \"34\": {\"34\": 23, \"49\": 2, \"36\": 1, \"17\": 1, \"27\": 1}, \"1\": {\"57\": 19, \"51\": 1, \"1\": 40, \"53\": 1, \"45\": 1, \"28\": 1, \"48\": 14, \"47\": 6, \"0\": 4, \"7\": 1, \"17\": 4, \"29\": 2, \"30\": 2, \"16\": 1, \"5\": 3, \"19\": 1, \"9\": 1, \"32\": 1, \"39\": 1, \"3\": 2, \"50\": 1, \"18\": 1, \"21\": 1, \"46\": 1, \"23\": 1, \"6\": 1}, \"51\": {\"51\": 122, \"54\": 2, \"53\": 11, \"21\": 1}, \"31\": {\"33\": 1, \"31\": 25, \"3\": 1, \"47\": 1}, \"49\": {\"49\": 24}, \"14\": {\"13\": 3, \"35\": 4, \"14\": 8, \"56\": 2, \"24\": 3, \"55\": 1, \"10\": 1, \"38\": 1, \"31\": 1}, \"33\": {\"33\": 12, \"29\": 4, \"32\": 2, \"34\": 2, \"19\": 1, \"4\": 1, \"42\": 2, \"17\": 2, \"48\": 1, \"21\": 1}, \"41\": {\"49\": 1, \"41\": 17, \"39\": 2}, \"28\": {\"28\": 27, \"45\": 1}, \"5\": {\"39\": 2, \"5\": 47, \"28\": 1, \"57\": 11, \"7\": 1, \"48\": 17, \"23\": 12, \"0\": 3, \"12\": 1, \"46\": 1, \"36\": 1, \"52\": 4, \"50\": 2, \"3\": 1, \"1\": 3, \"49\": 5, \"6\": 3, \"8\": 1, \"11\": 2, \"29\": 1, \"9\": 1}, \"16\": {\"16\": 135, \"23\": 1, \"52\": 5, \"46\": 2, \"48\": 1, \"15\": 4, \"30\": 1, \"11\": 1}, \"4\": {\"4\": 88, \"46\": 1, \"9\": 9, \"51\": 7, \"29\": 4, \"1\": 1, \"17\": 6, \"53\": 3, \"26\": 2, \"32\": 1, \"3\": 2, \"45\": 1, \"54\": 2, \"25\": 1}, \"22\": {\"22\": 105, \"14\": 2, \"56\": 24, \"13\": 5}, \"6\": {\"3\": 2, \"6\": 60, \"49\": 4, \"18\": 2, \"54\": 6, \"50\": 1, \"57\": 4, \"30\": 6, \"27\": 6, \"48\": 10, \"16\": 2, \"4\": 2, \"17\": 4, \"36\": 2, \"20\": 1, \"12\": 2, \"8\": 1, \"39\": 1, \"9\": 1, \"5\": 1}, \"30\": {\"30\": 123, \"23\": 1}, \"26\": {\"26\": 24}, \"56\": {\"56\": 126, \"22\": 14, \"10\": 1, \"13\": 1}, \"42\": {\"42\": 28, \"19\": 1, \"40\": 3, \"29\": 1, \"12\": 1, \"28\": 1, \"7\": 1}, \"44\": {\"44\": 54, \"33\": 1, \"45\": 6, \"5\": 1, \"47\": 5, \"27\": 1, \"55\": 3, \"40\": 5, \"7\": 3, \"9\": 2, \"4\": 3, \"12\": 1, \"46\": 1, \"8\": 1, \"42\": 2, \"37\": 1, \"35\": 2, \"3\": 2, \"19\": 3, \"57\": 1, \"29\": 1, \"20\": 1}, \"7\": {\"23\": 1, \"7\": 15, \"21\": 1, \"48\": 4, \"4\": 1, \"53\": 1, \"8\": 2, \"12\": 1, \"52\": 1, \"36\": 2, \"39\": 2, \"5\": 1, \"18\": 1, \"0\": 2, \"6\": 1}}, \"W_2\": {\"3\": {\"3\": 98, \"24\": 1, \"7\": 5, \"114\": 1, \"8\": 1, \"71\": 10, \"127\": 1, \"26\": 1, \"43\": 1, \"22\": 1, \"112\": 2, \"39\": 3, \"0\": 3, \"44\": 1, \"84\": 1, \"12\": 1, \"16\": 1}, \"127\": {\"127\": 99, \"68\": 1, \"21\": 1, \"114\": 3, \"98\": 1, \"111\": 8, \"0\": 2, \"30\": 1, \"108\": 1, \"97\": 1, \"110\": 1, \"24\": 1}, \"58\": {\"58\": 18, \"94\": 1, \"15\": 1}, \"114\": {\"114\": 78, \"3\": 1, \"29\": 2, \"108\": 2, \"127\": 5, \"5\": 3, \"95\": 1, \"71\": 3, \"4\": 2, \"111\": 3, \"98\": 4, \"7\": 2, \"122\": 2, \"120\": 1, \"21\": 1, \"124\": 1, \"12\": 1}, \"111\": {\"111\": 110, \"103\": 1, \"127\": 10, \"95\": 1, \"101\": 1, \"114\": 2, \"98\": 7, \"30\": 3, \"124\": 1, \"107\": 1, \"120\": 1, \"15\": 1, \"12\": 3, \"94\": 1, \"93\": 1}, \"105\": {\"105\": 78, \"129\": 1, \"70\": 4, \"40\": 9, \"5\": 1, \"110\": 1, \"78\": 1, \"33\": 6, \"122\": 2, \"1\": 11, \"107\": 4, \"43\": 3, \"4\": 4, \"102\": 2, \"90\": 2, \"126\": 1, \"8\": 1, \"62\": 1}, \"118\": {\"14\": 4, \"18\": 2, \"22\": 1, \"60\": 1, \"57\": 1, \"118\": 19, \"39\": 2, \"102\": 3, \"90\": 5, \"70\": 1, \"26\": 5, \"16\": 1, \"46\": 1, \"78\": 3, \"69\": 4, \"19\": 1, \"50\": 1, \"96\": 1, \"13\": 1, \"93\": 1, \"81\": 1, \"109\": 1, \"99\": 2, \"10\": 1, \"65\": 1, \"62\": 2, \"2\": 1, \"117\": 1}, \"23\": {\"60\": 1, \"99\": 1, \"42\": 1, \"20\": 1, \"109\": 2, \"23\": 10, \"122\": 1, \"1\": 1, \"93\": 2, \"10\": 2, \"88\": 2, \"19\": 1, \"8\": 1, \"123\": 1, \"83\": 1, \"38\": 1, \"119\": 1, \"87\": 1, \"112\": 1, \"65\": 1, \"62\": 2, \"21\": 2, \"73\": 1, \"39\": 1, \"3\": 1, \"61\": 1, \"126\": 1, \"11\": 1, \"90\": 1}, \"21\": {\"21\": 31, \"20\": 1, \"46\": 2, \"2\": 1, \"44\": 2, \"88\": 2, \"69\": 1, \"90\": 2, \"119\": 2, \"93\": 1, \"99\": 1, \"10\": 2}, \"20\": {\"20\": 11, \"21\": 3, \"44\": 2}, \"75\": {\"75\": 12, \"49\": 2, \"99\": 1, \"30\": 1}, \"86\": {\"86\": 23, \"55\": 1, \"104\": 1, \"48\": 1, \"92\": 1, \"19\": 2, \"37\": 1, \"85\": 2}, \"60\": {\"60\": 16, \"47\": 2, \"123\": 1, \"43\": 1, \"88\": 1, \"119\": 1, \"109\": 1, \"8\": 1, \"46\": 1, \"20\": 1, \"50\": 1, \"44\": 1}, \"69\": {\"69\": 97, \"14\": 1, \"31\": 1, \"102\": 8, \"118\": 2, \"8\": 2, \"117\": 5, \"26\": 10, \"109\": 1, \"93\": 2, \"44\": 2, \"18\": 2, \"90\": 2, \"80\": 1, \"62\": 1, \"33\": 1, \"40\": 1, \"39\": 1}, \"99\": {\"21\": 2, \"99\": 16, \"96\": 1, \"16\": 1, \"65\": 1, \"119\": 1, \"87\": 1, \"44\": 1, \"93\": 2, \"23\": 2, \"63\": 2, \"100\": 1, \"120\": 1}, \"14\": {\"14\": 17, \"1\": 2, \"67\": 2, \"26\": 1, \"80\": 1, \"102\": 1, \"116\": 2, \"69\": 2, \"118\": 3, \"62\": 3, \"44\": 1, \"108\": 1, \"123\": 1, \"90\": 2, \"50\": 2, \"16\": 1, \"117\": 1, \"113\": 1, \"32\": 2, \"33\": 1, \"21\": 1}, \"25\": {\"25\": 14, \"27\": 1, \"97\": 1}, \"52\": {\"52\": 12, \"116\": 3, \"59\": 1, \"108\": 1, \"66\": 1, \"128\": 1, \"49\": 1}, \"47\": {\"47\": 8, \"101\": 1, \"40\": 1, \"44\": 1, \"122\": 1}, \"48\": {\"48\": 13, \"104\": 1, \"125\": 1, \"82\": 1, \"64\": 1, \"85\": 1, \"92\": 1, \"26\": 1}, \"27\": {\"27\": 36, \"120\": 1, \"34\": 2, \"109\": 1, \"106\": 1, \"12\": 1, \"15\": 6, \"44\": 1, \"14\": 1, \"93\": 1, \"36\": 1, \"94\": 2, \"24\": 3, \"125\": 3, \"101\": 1, \"30\": 1, \"51\": 1, \"18\": 1, \"58\": 1, \"90\": 2, \"111\": 1}, \"78\": {\"20\": 1, \"96\": 1, \"1\": 6, \"76\": 1, \"119\": 1, \"66\": 1, \"83\": 1, \"126\": 2, \"110\": 2, \"109\": 2, \"90\": 4, \"21\": 1, \"88\": 1, \"40\": 1, \"113\": 1, \"10\": 3, \"23\": 1, \"129\": 1, \"118\": 1, \"62\": 2, \"43\": 1, \"78\": 3, \"8\": 1, \"5\": 1, \"60\": 1, \"116\": 1, \"105\": 2, \"32\": 1, \"117\": 1, \"70\": 2}, \"8\": {\"78\": 2, \"8\": 56, \"4\": 3, \"52\": 1, \"16\": 1, \"14\": 2, \"95\": 1, \"67\": 1, \"61\": 1, \"90\": 4, \"101\": 1, \"126\": 6, \"39\": 3, \"105\": 4, \"40\": 7, \"43\": 3, \"70\": 2, \"26\": 2, \"124\": 3, \"30\": 1, \"108\": 2, \"42\": 1, \"23\": 1, \"122\": 2, \"83\": 1, \"33\": 1, \"93\": 1, \"7\": 1, \"109\": 3, \"87\": 1, \"111\": 1, \"11\": 1, \"62\": 2}, \"90\": {\"90\": 139, \"99\": 1, \"10\": 3, \"116\": 1, \"39\": 1, \"21\": 1, \"44\": 9, \"123\": 1, \"14\": 1, \"88\": 2, \"117\": 1}, \"103\": {\"103\": 14, \"40\": 1, \"85\": 1}, \"120\": {\"120\": 18, \"20\": 1, \"38\": 1}, \"96\": {\"8\": 2, \"57\": 2, \"102\": 1, \"67\": 1, \"32\": 1, \"96\": 9, \"14\": 1, \"66\": 1, \"126\": 1, \"116\": 1}, \"30\": {\"30\": 47, \"111\": 3, \"128\": 2, \"125\": 1, \"42\": 1, \"122\": 1, \"71\": 3, \"126\": 1, \"36\": 7, \"11\": 3, \"108\": 3, \"15\": 4, \"7\": 4, \"3\": 2, \"98\": 1, \"106\": 1, \"40\": 2, \"124\": 2, \"114\": 2, \"79\": 1, \"24\": 3, \"93\": 1, \"49\": 1, \"54\": 1, \"101\": 2, \"34\": 1, \"0\": 2, \"29\": 1, \"94\": 1}, \"33\": {\"33\": 106, \"99\": 1, \"14\": 2, \"102\": 3, \"84\": 6, \"1\": 5, \"87\": 4, \"43\": 4, \"8\": 2, \"62\": 10, \"40\": 1, \"105\": 1, \"93\": 1}, \"35\": {\"35\": 10, \"30\": 1, \"6\": 1}, \"108\": {\"103\": 1, \"68\": 2, \"77\": 2, \"115\": 1, \"49\": 1, \"112\": 1, \"108\": 34, \"84\": 1, \"52\": 1, \"110\": 1, \"29\": 3, \"98\": 8, \"0\": 7, \"7\": 1, \"127\": 10, \"122\": 4, \"12\": 9, \"8\": 2, \"111\": 2, \"30\": 3, \"124\": 4, \"101\": 4, \"79\": 1, \"129\": 1, \"109\": 1, \"85\": 1, \"54\": 1, \"118\": 1, \"43\": 1, \"88\": 1, \"87\": 1, \"5\": 1, \"105\": 2, \"3\": 1, \"24\": 1}, \"112\": {\"108\": 1, \"112\": 13, \"35\": 1, \"101\": 1}, \"40\": {\"40\": 92, \"31\": 1, \"129\": 1, \"128\": 1, \"107\": 7, \"42\": 1, \"73\": 2, \"21\": 1, \"95\": 4, \"105\": 6, \"10\": 1, \"8\": 4, \"113\": 1, \"93\": 3, \"70\": 2, \"16\": 1, \"1\": 2, \"122\": 2, \"5\": 2, \"110\": 2, \"12\": 1, \"43\": 2, \"102\": 1}, \"102\": {\"80\": 1, \"105\": 2, \"32\": 2, \"102\": 71, \"74\": 1, \"67\": 1, \"2\": 2, \"84\": 2, \"26\": 7, \"62\": 5, \"93\": 1, \"1\": 4, \"70\": 1, \"69\": 7, \"39\": 3, \"90\": 2, \"72\": 1, \"8\": 1, \"43\": 1, \"117\": 1}, \"56\": {\"103\": 1, \"56\": 11}, \"93\": {\"93\": 84, \"10\": 5, \"44\": 8, \"90\": 14, \"21\": 1, \"87\": 2, \"16\": 2, \"88\": 4, \"70\": 2, \"33\": 2, \"109\": 4, \"62\": 1, \"38\": 1, \"23\": 2, \"119\": 1, \"39\": 3}, \"68\": {\"68\": 12, \"0\": 2, \"114\": 1, \"90\": 1}, \"70\": {\"93\": 5, \"105\": 8, \"70\": 25, \"2\": 1, \"123\": 1, \"109\": 7, \"73\": 1, \"84\": 6, \"120\": 1, \"50\": 1, \"44\": 4, \"122\": 3, \"88\": 5, \"17\": 1, \"1\": 6, \"10\": 3, \"87\": 5, \"107\": 1, \"90\": 16, \"8\": 2, \"102\": 2, \"33\": 2, \"69\": 2, \"43\": 4, \"83\": 1, \"63\": 2, \"39\": 1, \"126\": 1, \"121\": 1, \"16\": 1, \"118\": 1, \"110\": 1, \"5\": 1, \"40\": 2}, \"7\": {\"105\": 3, \"112\": 1, \"71\": 4, \"7\": 71, \"114\": 4, \"0\": 2, \"3\": 6, \"108\": 5, \"33\": 2, \"40\": 1, \"88\": 1, \"127\": 3, \"4\": 2, \"126\": 1, \"5\": 2, \"122\": 4, \"70\": 2, \"109\": 1, \"32\": 1, \"11\": 3, \"30\": 1, \"84\": 1, \"111\": 1, \"98\": 1, \"43\": 1}, \"87\": {\"93\": 5, \"20\": 1, \"1\": 3, \"99\": 1, \"38\": 1, \"88\": 8, \"87\": 38, \"100\": 1, \"44\": 3, \"62\": 7, \"70\": 4, \"10\": 4, \"43\": 2, \"102\": 2, \"126\": 1, \"33\": 9, \"90\": 8, \"109\": 4, \"63\": 2, \"21\": 2, \"82\": 1, \"113\": 1, \"84\": 3, \"16\": 1}, \"54\": {\"40\": 1, \"54\": 15, \"103\": 1, \"111\": 1, \"4\": 1, \"108\": 1}, \"71\": {\"71\": 72, \"3\": 7, \"0\": 4, \"11\": 1, \"111\": 1, \"88\": 1, \"36\": 1, \"5\": 1, \"122\": 2, \"90\": 1, \"7\": 3, \"114\": 2, \"21\": 1, \"108\": 1, \"4\": 1, \"93\": 1}, \"80\": {\"80\": 4, \"102\": 1, \"33\": 4, \"2\": 1, \"117\": 1, \"96\": 1, \"85\": 1, \"84\": 2, \"19\": 1}, \"18\": {\"18\": 80, \"32\": 1, \"117\": 8, \"14\": 1, \"109\": 2, \"65\": 2, \"81\": 1, \"126\": 1, \"39\": 4, \"16\": 4, \"113\": 1, \"26\": 2, \"102\": 2, \"88\": 3, \"93\": 5, \"2\": 1, \"62\": 1, \"8\": 1, \"69\": 1, \"43\": 1}, \"101\": {\"30\": 2, \"101\": 103, \"35\": 1, \"126\": 1, \"98\": 4, \"127\": 5, \"0\": 1, \"106\": 1, \"91\": 2, \"111\": 2}, \"92\": {\"92\": 23, \"122\": 1, \"10\": 1, \"13\": 1, \"48\": 1, \"64\": 1}, \"32\": {\"102\": 1, \"118\": 3, \"119\": 1, \"59\": 2, \"32\": 13, \"82\": 1, \"19\": 1, \"1\": 1, \"2\": 1, \"39\": 1, \"70\": 1, \"16\": 2, \"17\": 1, \"26\": 2, \"40\": 1, \"93\": 1, \"86\": 1, \"126\": 1, \"58\": 1}, \"128\": {\"30\": 2, \"128\": 7, \"11\": 2, \"126\": 3, \"14\": 1, \"67\": 1, \"8\": 1, \"105\": 1, \"12\": 1, \"127\": 1, \"1\": 1, \"49\": 1, \"19\": 1, \"129\": 1}, \"6\": {\"51\": 2, \"6\": 18, \"15\": 3, \"94\": 2, \"49\": 1, \"36\": 2, \"41\": 1, \"101\": 1, \"98\": 1, \"27\": 1}, \"51\": {\"51\": 17, \"15\": 1, \"58\": 1, \"10\": 1}, \"85\": {\"85\": 20, \"48\": 1, \"38\": 1, \"108\": 1, \"66\": 1, \"95\": 3, \"1\": 1, \"45\": 2, \"86\": 2}, \"46\": {\"46\": 9, \"83\": 1, \"3\": 1, \"42\": 2, \"33\": 1, \"87\": 1, \"113\": 1}, \"22\": {\"22\": 15, \"87\": 1, \"21\": 1, \"44\": 1, \"42\": 1, \"20\": 1}, \"1\": {\"1\": 80, \"129\": 1, \"78\": 2, \"126\": 2, \"5\": 1, \"33\": 7, \"39\": 1, \"84\": 3, \"8\": 1, \"43\": 4, \"109\": 1, \"70\": 5, \"105\": 5, \"74\": 2, \"32\": 1, \"21\": 1, \"122\": 2, \"16\": 1, \"102\": 1, \"107\": 1}, \"37\": {\"37\": 14, \"64\": 1, \"86\": 1}, \"44\": {\"20\": 3, \"44\": 62, \"38\": 2, \"119\": 4, \"120\": 1, \"21\": 5, \"10\": 8, \"90\": 10, \"70\": 4, \"23\": 1}, \"24\": {\"20\": 2, \"24\": 25, \"15\": 9, \"9\": 3, \"125\": 10, \"5\": 1, \"32\": 1, \"88\": 1, \"34\": 2, \"36\": 10, \"98\": 4, \"107\": 2, \"106\": 4, \"126\": 2, \"30\": 4, \"27\": 2, \"39\": 2, \"108\": 2, \"4\": 1, \"90\": 3, \"0\": 1, \"44\": 1, \"7\": 2, \"93\": 1, \"33\": 2, \"8\": 1, \"122\": 2, \"105\": 1, \"51\": 1, \"94\": 1, \"21\": 1, \"99\": 1, \"124\": 1, \"87\": 2, \"109\": 1, \"70\": 1, \"43\": 1, \"69\": 1}, \"9\": {\"9\": 26, \"51\": 1, \"94\": 2, \"15\": 1, \"24\": 1, \"125\": 1}, \"116\": {\"60\": 1, \"1\": 1, \"20\": 1, \"16\": 1, \"26\": 1, \"45\": 1, \"61\": 1, \"116\": 5, \"86\": 1, \"122\": 1, \"5\": 1, \"39\": 1, \"121\": 1, \"44\": 1, \"21\": 1, \"8\": 1, \"80\": 2, \"62\": 1, \"24\": 1, \"63\": 2, \"126\": 1, \"23\": 1}, \"64\": {\"64\": 16}, \"129\": {\"112\": 1, \"1\": 2, \"129\": 14, \"8\": 1, \"5\": 1, \"74\": 1, \"105\": 2, \"43\": 1, \"3\": 1, \"62\": 1, \"87\": 1, \"53\": 1, \"70\": 2, \"7\": 2, \"4\": 1}, \"42\": {\"44\": 2, \"20\": 1, \"93\": 2, \"42\": 4, \"98\": 1, \"120\": 3, \"87\": 2, \"53\": 1, \"30\": 1, \"39\": 1, \"91\": 1, \"77\": 1, \"123\": 2, \"116\": 1, \"21\": 1, \"28\": 1, \"70\": 1, \"90\": 1, \"124\": 1}, \"117\": {\"117\": 61, \"55\": 1, \"26\": 21, \"95\": 1, \"69\": 13, \"102\": 4, \"72\": 2, \"50\": 1, \"39\": 3, \"16\": 1, \"90\": 1, \"32\": 1, \"118\": 3, \"18\": 4, \"62\": 2, \"14\": 1}, \"88\": {\"88\": 33, \"31\": 1, \"2\": 1, \"38\": 1, \"90\": 13, \"93\": 10, \"81\": 1, \"70\": 4, \"120\": 1, \"10\": 5, \"113\": 2, \"21\": 7, \"16\": 6, \"43\": 1, \"118\": 1, \"1\": 1, \"109\": 3, \"102\": 1, \"126\": 2, \"44\": 8, \"105\": 1, \"87\": 4, \"122\": 1, \"62\": 2, \"42\": 1, \"14\": 2, \"85\": 1, \"39\": 4, \"72\": 1, \"8\": 2, \"117\": 1, \"33\": 2}, \"31\": {\"31\": 15, \"18\": 1, \"14\": 1, \"93\": 1, \"57\": 2}, \"113\": {\"113\": 43, \"118\": 1, \"87\": 1, \"62\": 1, \"109\": 4, \"63\": 6, \"21\": 2, \"18\": 2, \"16\": 4, \"88\": 1, \"20\": 2, \"90\": 1, \"26\": 1, \"78\": 1, \"23\": 1, \"44\": 1}, \"38\": {\"38\": 16}, \"83\": {\"120\": 1, \"25\": 1, \"26\": 1, \"119\": 1, \"83\": 24, \"113\": 2, \"74\": 1, \"123\": 1, \"96\": 1, \"93\": 1, \"46\": 2, \"10\": 1, \"90\": 2, \"125\": 1}, \"49\": {\"101\": 3, \"127\": 2, \"98\": 1, \"129\": 1, \"11\": 1, \"49\": 7, \"12\": 1, \"108\": 1, \"30\": 1, \"41\": 1, \"3\": 2, \"90\": 1, \"122\": 1, \"128\": 1}, \"97\": {\"101\": 2, \"25\": 1, \"0\": 1, \"27\": 1, \"97\": 9, \"98\": 1, \"24\": 1, \"127\": 2, \"108\": 2}, \"76\": {\"76\": 7, \"66\": 2, \"10\": 2, \"52\": 2, \"21\": 1, \"69\": 1, \"104\": 1}, \"29\": {\"49\": 2, \"29\": 19, \"11\": 1, \"4\": 2, \"77\": 1, \"128\": 1, \"24\": 1, \"73\": 1, \"108\": 2, \"71\": 1, \"98\": 1}, \"61\": {\"61\": 16, \"93\": 1, \"44\": 1, \"90\": 1, \"87\": 1}, \"125\": {\"125\": 121, \"15\": 5, \"36\": 13, \"106\": 2, \"109\": 1, \"27\": 1, \"59\": 1, \"9\": 1, \"94\": 2, \"24\": 1}, \"126\": {\"63\": 1, \"39\": 1, \"90\": 7, \"16\": 1, \"57\": 1, \"126\": 25, \"74\": 1, \"70\": 11, \"72\": 1, \"96\": 2, \"33\": 4, \"93\": 5, \"69\": 1, \"21\": 2, \"118\": 2, \"84\": 5, \"10\": 3, \"109\": 6, \"113\": 2, \"40\": 3, \"1\": 6, \"87\": 4, \"26\": 2, \"43\": 2, \"50\": 1, \"116\": 2, \"105\": 3, \"38\": 1, \"123\": 2, \"129\": 2, \"23\": 2, \"120\": 1, \"121\": 1, \"80\": 1, \"78\": 2, \"88\": 2, \"102\": 1, \"8\": 1}, \"55\": {\"26\": 1, \"55\": 12, \"33\": 1, \"45\": 1, \"50\": 1}, \"0\": {\"71\": 4, \"0\": 52, \"97\": 2, \"119\": 1, \"128\": 1, \"101\": 5, \"7\": 11, \"114\": 5, \"30\": 3, \"12\": 3, \"3\": 3, \"98\": 2, \"129\": 1, \"49\": 1, \"118\": 1, \"108\": 2, \"112\": 1, \"127\": 4, \"21\": 1, \"110\": 1, \"62\": 1, \"70\": 1, \"43\": 1, \"105\": 1}, \"15\": {\"25\": 1, \"125\": 8, \"15\": 56, \"27\": 2, \"41\": 1, \"111\": 5, \"9\": 1, \"59\": 2, \"90\": 1, \"36\": 14, \"24\": 4, \"34\": 1, \"6\": 2, \"94\": 1, \"44\": 1, \"0\": 1, \"127\": 2, \"88\": 1, \"98\": 4, \"106\": 6, \"77\": 1, \"97\": 1, \"58\": 1, \"114\": 1, \"30\": 2}, \"26\": {\"26\": 79, \"55\": 1, \"116\": 1, \"117\": 17, \"69\": 12, \"2\": 3, \"87\": 1, \"39\": 1, \"18\": 1, \"109\": 2, \"44\": 3, \"88\": 1, \"16\": 4, \"93\": 1, \"102\": 6, \"57\": 2, \"8\": 1, \"31\": 1, \"118\": 1}, \"63\": {\"63\": 17, \"93\": 1, \"20\": 1, \"113\": 1}, \"57\": {\"57\": 16, \"26\": 2, \"31\": 2}, \"39\": {\"90\": 13, \"63\": 2, \"118\": 2, \"119\": 1, \"39\": 17, \"33\": 2, \"19\": 1, \"10\": 4, \"21\": 1, \"109\": 6, \"69\": 5, \"43\": 2, \"87\": 3, \"113\": 3, \"16\": 2, \"26\": 9, \"44\": 5, \"93\": 6, \"88\": 2, \"105\": 1, \"122\": 1, \"70\": 4, \"102\": 5, \"20\": 1, \"38\": 2, \"92\": 1, \"14\": 2, \"61\": 1, \"18\": 2, \"2\": 1, \"117\": 1, \"124\": 1, \"62\": 1, \"40\": 1, \"8\": 1}, \"62\": {\"63\": 1, \"62\": 92, \"118\": 2, \"65\": 1, \"10\": 2, \"78\": 1, \"18\": 1, \"84\": 3, \"113\": 1, \"33\": 13, \"109\": 1, \"102\": 2, \"126\": 3, \"98\": 1, \"93\": 1, \"1\": 1, \"105\": 1, \"70\": 2, \"23\": 1, \"20\": 2, \"87\": 1, \"99\": 1, \"8\": 1, \"124\": 1, \"39\": 1, \"88\": 1, \"43\": 1, \"90\": 1}, \"82\": {\"82\": 29, \"38\": 1, \"31\": 2, \"32\": 1, \"21\": 1, \"87\": 1, \"2\": 1}, \"11\": {\"11\": 51, \"49\": 2, \"23\": 1, \"73\": 1, \"98\": 1, \"90\": 1, \"71\": 1, \"0\": 1, \"87\": 1, \"101\": 1, \"108\": 2, \"22\": 1, \"60\": 1, \"30\": 3, \"111\": 1, \"78\": 1, \"44\": 2, \"7\": 3, \"3\": 2, \"93\": 1, \"33\": 2}, \"4\": {\"4\": 52, \"107\": 6, \"71\": 5, \"17\": 1, \"122\": 3, \"40\": 4, \"8\": 2, \"5\": 4, \"127\": 1, \"3\": 1, \"114\": 1, \"30\": 1, \"87\": 1, \"110\": 1, \"7\": 1, \"109\": 1, \"105\": 2, \"12\": 1}, \"41\": {\"41\": 16, \"127\": 1, \"103\": 1, \"49\": 1, \"30\": 1}, \"72\": {\"72\": 13, \"8\": 1, \"74\": 1, \"69\": 2, \"44\": 1, \"117\": 4, \"14\": 1, \"62\": 1, \"81\": 1, \"118\": 2, \"88\": 1}, \"16\": {\"16\": 57, \"90\": 3, \"8\": 1, \"113\": 3, \"87\": 2, \"18\": 7, \"62\": 7, \"39\": 7, \"44\": 1, \"109\": 1, \"117\": 4, \"84\": 1, \"43\": 1, \"93\": 5, \"33\": 1, \"69\": 8, \"26\": 4, \"14\": 1, \"65\": 2, \"23\": 1, \"70\": 1, \"2\": 1, \"102\": 4, \"88\": 1}, \"81\": {\"57\": 2, \"81\": 10, \"2\": 1, \"55\": 1, \"14\": 1, \"0\": 1, \"19\": 1, \"86\": 1, \"31\": 1, \"118\": 1, \"54\": 1, \"65\": 1, \"16\": 2}, \"67\": {\"67\": 8, \"76\": 1, \"86\": 1, \"13\": 1, \"55\": 4, \"64\": 1}, \"123\": {\"123\": 13, \"99\": 1, \"38\": 2}, \"66\": {\"66\": 13, \"26\": 1, \"85\": 1, \"52\": 1, \"31\": 1, \"116\": 1, \"47\": 1, \"19\": 1}, \"36\": {\"36\": 61, \"57\": 1, \"51\": 1, \"9\": 2, \"15\": 6, \"125\": 13, \"98\": 2, \"44\": 1, \"24\": 10, \"113\": 1, \"30\": 4, \"109\": 1, \"6\": 3, \"127\": 1, \"87\": 1, \"27\": 3, \"111\": 4, \"106\": 3, \"23\": 1, \"97\": 1, \"117\": 1, \"93\": 1, \"65\": 1, \"12\": 1, \"94\": 3, \"69\": 1}, \"115\": {\"115\": 9, \"53\": 1, \"79\": 1, \"90\": 1}, \"77\": {\"77\": 5, \"27\": 2, \"34\": 1, \"108\": 1, \"29\": 1, \"41\": 2, \"24\": 4}, \"119\": {\"119\": 13, \"38\": 2, \"10\": 1, \"90\": 2, \"121\": 2}, \"65\": {\"65\": 18, \"113\": 1, \"83\": 1}, \"34\": {\"18\": 1, \"107\": 2, \"77\": 2, \"41\": 2, \"49\": 1, \"34\": 6, \"127\": 1, \"116\": 1, \"62\": 1, \"111\": 2, \"8\": 1, \"12\": 3, \"29\": 1, \"52\": 1, \"126\": 2, \"30\": 2, \"54\": 1, \"21\": 1, \"98\": 1}, \"107\": {\"107\": 40, \"65\": 1, \"8\": 1, \"105\": 3, \"113\": 1, \"5\": 3, \"40\": 4, \"4\": 2, \"122\": 2, \"17\": 1, \"1\": 2, \"63\": 1, \"73\": 1, \"58\": 1, \"43\": 1}, \"13\": {\"13\": 6, \"18\": 1, \"2\": 4, \"81\": 1, \"31\": 1, \"32\": 1, \"92\": 2}, \"110\": {\"25\": 1, \"110\": 13, \"105\": 5, \"122\": 1, \"90\": 2, \"0\": 1, \"21\": 1, \"80\": 1, \"1\": 3, \"73\": 2, \"33\": 1, \"120\": 1, \"70\": 1, \"4\": 1, \"10\": 1, \"43\": 1, \"84\": 1, \"40\": 1, \"5\": 2}, \"106\": {\"106\": 79, \"15\": 5, \"36\": 7, \"24\": 8, \"125\": 7, \"6\": 2, \"101\": 1, \"27\": 1, \"98\": 1, \"93\": 1, \"127\": 1, \"51\": 1, \"90\": 1, \"94\": 1, \"30\": 1, \"88\": 1}, \"89\": {\"89\": 18, \"95\": 1, \"60\": 1, \"73\": 2, \"32\": 3, \"121\": 1, \"96\": 1, \"34\": 1, \"62\": 1, \"104\": 1, \"17\": 2, \"37\": 1, \"76\": 1, \"86\": 1, \"82\": 1}, \"94\": {\"27\": 2, \"51\": 1, \"29\": 2, \"90\": 4, \"58\": 2, \"87\": 1, \"15\": 6, \"94\": 23, \"36\": 7, \"111\": 3, \"93\": 1, \"101\": 2, \"98\": 2, \"120\": 1, \"24\": 2, \"65\": 1, \"117\": 1, \"125\": 2, \"106\": 1}, \"98\": {\"97\": 3, \"101\": 10, \"98\": 54, \"49\": 2, \"123\": 1, \"77\": 1, \"93\": 1, \"127\": 3, \"7\": 1, \"121\": 1, \"108\": 9, \"30\": 5, \"111\": 5, \"15\": 2, \"106\": 2, \"26\": 2, \"122\": 1, \"44\": 1, \"90\": 1, \"34\": 1, \"0\": 3, \"24\": 2, \"8\": 1}, \"91\": {\"91\": 9, \"59\": 2, \"103\": 1, \"66\": 1, \"98\": 1, \"30\": 2, \"73\": 2, \"24\": 1, \"114\": 1, \"101\": 1, \"107\": 2, \"56\": 1, \"41\": 1, \"32\": 1, \"89\": 1, \"35\": 1}, \"84\": {\"84\": 47, \"74\": 2, \"70\": 3, \"102\": 3, \"43\": 6, \"88\": 1, \"87\": 4, \"105\": 4, \"33\": 6, \"62\": 6, \"1\": 4, \"46\": 1, \"100\": 1, \"8\": 1, \"122\": 1, \"40\": 1, \"69\": 1}, \"73\": {\"9\": 1, \"73\": 14, \"105\": 3, \"40\": 2, \"1\": 1, \"107\": 1, \"95\": 3, \"110\": 1, \"102\": 1, \"8\": 1}, \"104\": {\"104\": 13, \"44\": 1, \"95\": 2, \"19\": 1, \"120\": 1, \"38\": 1, \"37\": 1}, \"59\": {\"91\": 1, \"59\": 5, \"30\": 2, \"127\": 1, \"73\": 1, \"89\": 1, \"104\": 1, \"55\": 2, \"41\": 1, \"49\": 1}, \"74\": {\"74\": 13, \"84\": 1, \"126\": 1, \"99\": 1}, \"28\": {\"28\": 13, \"85\": 2, \"93\": 1, \"124\": 1, \"86\": 1, \"89\": 2}, \"95\": {\"4\": 2, \"119\": 1, \"40\": 5, \"95\": 20, \"122\": 2, \"73\": 2, \"1\": 1, \"105\": 1, \"124\": 1, \"19\": 1}, \"2\": {\"50\": 1, \"48\": 1, \"61\": 1, \"2\": 8, \"69\": 4, \"13\": 1, \"33\": 1, \"88\": 1, \"93\": 2, \"85\": 1, \"99\": 1, \"38\": 1, \"32\": 1, \"113\": 1, \"23\": 1, \"18\": 2, \"118\": 1, \"82\": 1, \"16\": 1, \"117\": 1}, \"5\": {\"50\": 1, \"5\": 81, \"49\": 1, \"8\": 3, \"4\": 5, \"11\": 1, \"110\": 1, \"107\": 2, \"113\": 1, \"40\": 3, \"114\": 1, \"122\": 2, \"19\": 1, \"95\": 1, \"105\": 1, \"7\": 2, \"71\": 2, \"62\": 1, \"69\": 1, \"1\": 1}, \"50\": {\"50\": 10, \"120\": 1, \"26\": 2, \"55\": 1, \"14\": 2}, \"109\": {\"87\": 1, \"88\": 5, \"119\": 2, \"109\": 44, \"6\": 1, \"93\": 7, \"44\": 7, \"39\": 7, \"21\": 3, \"62\": 1, \"90\": 10, \"105\": 1, \"70\": 2, \"10\": 5, \"113\": 1, \"16\": 2, \"102\": 1}, \"10\": {\"10\": 28, \"93\": 4, \"90\": 2, \"88\": 3, \"44\": 8, \"43\": 1, \"39\": 1, \"32\": 1, \"21\": 5, \"8\": 1, \"117\": 1, \"78\": 1, \"118\": 2, \"109\": 2}, \"45\": {\"45\": 10, \"38\": 1, \"26\": 1, \"100\": 1, \"121\": 1, \"31\": 1, \"117\": 1}, \"121\": {\"45\": 1, \"82\": 1, \"121\": 10, \"90\": 6, \"92\": 2, \"21\": 3, \"93\": 2, \"69\": 1, \"109\": 1, \"120\": 1, \"44\": 2, \"104\": 1, \"119\": 1, \"89\": 2, \"66\": 1, \"72\": 1}, \"124\": {\"85\": 1, \"124\": 76, \"86\": 3, \"28\": 1, \"66\": 1, \"8\": 1, \"89\": 1, \"7\": 2, \"107\": 2, \"30\": 3, \"117\": 1, \"108\": 2, \"40\": 2, \"122\": 1, \"80\": 1, \"54\": 2, \"111\": 3, \"127\": 3, \"24\": 1, \"4\": 1, \"114\": 1, \"12\": 1}, \"53\": {\"28\": 1, \"53\": 13, \"88\": 1, \"125\": 1}, \"79\": {\"79\": 15, \"3\": 1}, \"43\": {\"43\": 29, \"60\": 1, \"102\": 1, \"70\": 4, \"32\": 1, \"59\": 1, \"116\": 1, \"1\": 6, \"78\": 1, \"113\": 1, \"88\": 10, \"84\": 3, \"107\": 1, \"110\": 1, \"105\": 14, \"122\": 7, \"126\": 2, \"109\": 2, \"16\": 1, \"93\": 3, \"114\": 1, \"33\": 3, \"90\": 4, \"21\": 1, \"14\": 1, \"62\": 2, \"55\": 1, \"19\": 1, \"87\": 1, \"39\": 4, \"44\": 2, \"8\": 1, \"15\": 1, \"3\": 1}, \"122\": {\"122\": 40, \"4\": 3, \"40\": 5, \"95\": 3, \"120\": 1, \"14\": 1, \"43\": 9, \"78\": 1, \"23\": 1, \"107\": 4, \"127\": 2, \"62\": 4, \"19\": 1, \"88\": 4, \"70\": 5, \"17\": 1, \"87\": 4, \"5\": 7, \"105\": 5, \"126\": 2, \"111\": 1, \"33\": 7, \"90\": 4, \"114\": 3, \"8\": 2, \"1\": 4, \"7\": 3, \"69\": 2, \"93\": 2, \"21\": 1, \"112\": 1, \"71\": 1, \"109\": 1, \"102\": 1, \"16\": 1, \"108\": 1}, \"100\": {\"100\": 5, \"45\": 1, \"10\": 2, \"8\": 1, \"43\": 1, \"87\": 1, \"62\": 1, \"124\": 1, \"126\": 1, \"88\": 1, \"66\": 1}, \"19\": {\"90\": 2, \"19\": 11, \"40\": 1, \"44\": 5, \"10\": 1, \"8\": 1, \"123\": 1, \"17\": 1, \"20\": 2, \"82\": 1, \"87\": 1, \"120\": 1}, \"12\": {\"12\": 45, \"110\": 2, \"30\": 3, \"127\": 4, \"5\": 4, \"24\": 3, \"75\": 1, \"122\": 2, \"4\": 3, \"111\": 5, \"113\": 1, \"0\": 1, \"108\": 2, \"98\": 2, \"114\": 2, \"107\": 1, \"109\": 1, \"106\": 1, \"40\": 2, \"124\": 1, \"88\": 1, \"16\": 1}, \"17\": {\"17\": 11, \"110\": 1, \"20\": 1, \"85\": 1, \"107\": 2}}, \"W_3\": {\"38\": {\"38\": 12, \"32\": 1, \"104\": 3}, \"88\": {\"88\": 29, \"92\": 5, \"94\": 1, \"21\": 3, \"120\": 1, \"29\": 2, \"39\": 2, \"33\": 3, \"43\": 2, \"9\": 1, \"4\": 3, \"10\": 2, \"40\": 2, \"44\": 3, \"84\": 1, \"90\": 6, \"11\": 2, \"98\": 1, \"108\": 8, \"106\": 1, \"5\": 1, \"113\": 5, \"126\": 4, \"8\": 4, \"31\": 2, \"107\": 1, \"122\": 1, \"71\": 1, \"32\": 1, \"85\": 2, \"70\": 2, \"36\": 2, \"127\": 1, \"93\": 2, \"110\": 1, \"109\": 2, \"118\": 1, \"117\": 1}, \"104\": {\"104\": 16}, \"11\": {\"126\": 7, \"11\": 60, \"120\": 1, \"109\": 6, \"14\": 3, \"16\": 5, \"43\": 1, \"44\": 5, \"99\": 1, \"113\": 6, \"93\": 2, \"90\": 4, \"81\": 1, \"32\": 3, \"88\": 2, \"26\": 9, \"18\": 5, \"62\": 2, \"108\": 1, \"8\": 1, \"39\": 3, \"117\": 1, \"123\": 1, \"122\": 1, \"118\": 1, \"21\": 2, \"102\": 3, \"69\": 1, \"107\": 2}, \"103\": {\"103\": 10, \"10\": 2, \"28\": 1, \"44\": 1, \"86\": 2}, \"124\": {\"104\": 1, \"124\": 74, \"103\": 1, \"66\": 1, \"12\": 2, \"111\": 4, \"24\": 1, \"98\": 3, \"114\": 1, \"8\": 6, \"27\": 1, \"4\": 1, \"0\": 1, \"40\": 4, \"107\": 2, \"36\": 1, \"88\": 2, \"73\": 1, \"70\": 1, \"108\": 4, \"85\": 1, \"15\": 1, \"105\": 1, \"93\": 1}, \"3\": {\"3\": 91, \"7\": 5, \"43\": 1, \"0\": 1, \"101\": 4, \"127\": 1, \"18\": 1, \"5\": 2, \"71\": 2, \"27\": 1, \"95\": 2, \"10\": 1, \"88\": 1, \"113\": 1, \"105\": 1, \"98\": 1}, \"74\": {\"126\": 1, \"74\": 9, \"10\": 1, \"62\": 1, \"87\": 1, \"100\": 1, \"25\": 1, \"21\": 1}, \"126\": {\"126\": 71, \"64\": 1, \"96\": 1, \"113\": 16, \"39\": 2, \"62\": 2, \"67\": 2, \"109\": 3, \"88\": 1, \"18\": 2, \"90\": 3, \"93\": 4, \"117\": 1, \"121\": 2, \"92\": 3, \"19\": 1, \"44\": 2, \"21\": 2, \"16\": 2, \"102\": 1}, \"123\": {\"123\": 16}, \"51\": {\"124\": 1, \"51\": 9, \"98\": 1, \"34\": 1, \"58\": 1, \"12\": 1, \"106\": 1, \"59\": 1}, \"14\": {\"14\": 44, \"33\": 2, \"9\": 1, \"40\": 2, \"26\": 3, \"117\": 3, \"102\": 6, \"62\": 2, \"11\": 1, \"18\": 1, \"118\": 4, \"87\": 1, \"16\": 5, \"43\": 1, \"69\": 1, \"2\": 1, \"93\": 1, \"107\": 1}, \"16\": {\"16\": 47, \"109\": 9, \"14\": 4, \"2\": 1, \"43\": 1, \"40\": 2, \"93\": 3, \"90\": 2, \"62\": 10, \"92\": 1, \"44\": 1, \"118\": 3, \"18\": 2, \"117\": 5, \"84\": 1, \"69\": 1, \"102\": 4, \"11\": 7, \"113\": 2, \"39\": 3, \"99\": 2, \"29\": 1, \"26\": 3, \"88\": 1}, \"22\": {\"22\": 13, \"90\": 1, \"57\": 1, \"44\": 1}, \"109\": {\"126\": 10, \"109\": 31, \"17\": 1, \"67\": 5, \"44\": 5, \"18\": 8, \"92\": 3, \"62\": 5, \"90\": 4, \"88\": 3, \"113\": 4, \"102\": 4, \"122\": 1, \"118\": 4, \"117\": 4, \"26\": 3, \"39\": 2, \"14\": 3, \"69\": 3, \"16\": 6, \"11\": 2, \"93\": 4, \"28\": 1, \"121\": 1, \"40\": 1, \"21\": 1, \"87\": 1, \"110\": 1, \"107\": 1}, \"27\": {\"124\": 1, \"27\": 45, \"72\": 1, \"15\": 14, \"106\": 5, \"98\": 4, \"0\": 1, \"125\": 4, \"24\": 2, \"108\": 3, \"111\": 4, \"36\": 3, \"54\": 1, \"97\": 1, \"94\": 1, \"113\": 1, \"73\": 2, \"30\": 1, \"12\": 1, \"109\": 1}, \"75\": {\"75\": 15, \"24\": 1}, \"66\": {\"50\": 2, \"66\": 13, \"32\": 1}, \"48\": {\"115\": 1, \"10\": 1, \"93\": 2, \"90\": 2, \"31\": 1, \"53\": 2, \"39\": 1, \"88\": 1, \"21\": 1, \"61\": 1, \"14\": 1, \"65\": 2}, \"6\": {\"75\": 1, \"72\": 1, \"51\": 2, \"98\": 2, \"6\": 12, \"34\": 2, \"111\": 1, \"0\": 1, \"25\": 1, \"15\": 2, \"36\": 2, \"59\": 1, \"125\": 1, \"97\": 1, \"12\": 1, \"73\": 1}, \"10\": {\"99\": 2, \"64\": 1, \"10\": 27, \"80\": 2, \"29\": 1, \"101\": 1, \"44\": 1, \"116\": 2, \"12\": 2, \"122\": 1, \"39\": 1, \"30\": 3, \"110\": 1, \"0\": 7, \"127\": 7, \"126\": 8, \"4\": 1, \"18\": 2, \"7\": 9, \"93\": 2, \"8\": 1, \"90\": 5, \"62\": 2, \"114\": 3, \"120\": 1, \"109\": 1, \"35\": 1, \"43\": 1, \"19\": 1, \"113\": 7, \"83\": 1, \"21\": 3, \"88\": 2, \"3\": 2}, \"99\": {\"99\": 31, \"54\": 1, \"13\": 1, \"112\": 1, \"34\": 2}, \"50\": {\"115\": 1, \"50\": 7, \"14\": 1, \"62\": 1, \"19\": 1, \"32\": 2, \"69\": 2, \"84\": 1}, \"54\": {\"54\": 15, \"27\": 1}, \"55\": {\"55\": 12, \"40\": 1, \"1\": 1, \"108\": 1, \"87\": 1}, \"53\": {\"53\": 16, \"50\": 1, \"107\": 1, \"122\": 1, \"20\": 1}, \"72\": {\"72\": 16, \"58\": 3, \"68\": 1, \"19\": 1, \"12\": 1, \"106\": 2, \"52\": 1, \"124\": 1, \"51\": 1, \"111\": 1}, \"64\": {\"64\": 16, \"120\": 1, \"80\": 2, \"13\": 1}, \"115\": {\"115\": 11, \"9\": 1, \"82\": 1, \"102\": 1, \"119\": 1, \"17\": 1}, \"23\": {\"126\": 2, \"23\": 9, \"57\": 2, \"0\": 1, \"17\": 1, \"29\": 2, \"93\": 2, \"34\": 1, \"84\": 1, \"39\": 2, \"99\": 1, \"108\": 1, \"103\": 1, \"114\": 1, \"87\": 1, \"7\": 1, \"95\": 1, \"8\": 1, \"43\": 1}, \"32\": {\"32\": 12, \"102\": 2, \"63\": 1, \"39\": 1, \"14\": 1, \"107\": 1, \"82\": 1, \"11\": 5, \"50\": 1, \"87\": 1, \"69\": 1, \"81\": 1, \"21\": 1, \"122\": 1, \"109\": 1, \"108\": 1}, \"15\": {\"15\": 58, \"94\": 7, \"27\": 9, \"37\": 1, \"52\": 3, \"6\": 2, \"43\": 1, \"106\": 6, \"125\": 2, \"108\": 1, \"24\": 2, \"98\": 2, \"16\": 1, \"36\": 4, \"72\": 1, \"18\": 1, \"111\": 2, \"12\": 1}, \"43\": {\"64\": 2, \"57\": 1, \"33\": 3, \"43\": 15, \"113\": 1, \"109\": 2, \"121\": 3, \"93\": 2, \"117\": 2, \"21\": 4, \"122\": 1, \"29\": 2, \"39\": 2, \"84\": 1, \"90\": 3, \"16\": 1, \"118\": 1, \"80\": 1, \"92\": 1, \"81\": 1, \"13\": 1, \"50\": 1, \"38\": 1, \"2\": 1, \"70\": 1, \"62\": 2}, \"114\": {\"114\": 80, \"10\": 2, \"87\": 4, \"46\": 1, \"34\": 1, \"7\": 1, \"105\": 6, \"18\": 1, \"1\": 8, \"4\": 3, \"5\": 6, \"126\": 1, \"108\": 2, \"30\": 1, \"127\": 1, \"23\": 1, \"90\": 1, \"95\": 1, \"32\": 1, \"110\": 1, \"88\": 1}, \"121\": {\"64\": 2, \"32\": 1, \"28\": 1, \"119\": 1, \"89\": 1, \"67\": 1, \"17\": 2, \"99\": 1, \"21\": 1, \"44\": 1, \"11\": 1, \"107\": 1, \"126\": 1, \"92\": 2, \"121\": 8, \"80\": 2, \"45\": 1, \"123\": 1, \"90\": 1, \"82\": 2}, \"79\": {\"79\": 10, \"32\": 1, \"53\": 1}, \"81\": {\"81\": 23, \"18\": 3, \"39\": 2, \"16\": 1, \"121\": 1, \"100\": 2}, \"8\": {\"8\": 66, \"112\": 1, \"60\": 2, \"12\": 4, \"108\": 13, \"10\": 5, \"73\": 1, \"70\": 1, \"98\": 7, \"111\": 3, \"0\": 4, \"127\": 1, \"124\": 2, \"1\": 2, \"7\": 3, \"36\": 1, \"48\": 1, \"30\": 1, \"78\": 1, \"15\": 2, \"5\": 1, \"4\": 2, \"105\": 1, \"110\": 1, \"88\": 2}, \"13\": {\"32\": 1, \"64\": 1, \"115\": 1, \"13\": 4, \"92\": 1, \"2\": 1, \"67\": 2, \"16\": 1, \"120\": 1, \"69\": 1, \"21\": 1, \"61\": 1}, \"90\": {\"64\": 1, \"90\": 109, \"92\": 1, \"21\": 4, \"96\": 2, \"39\": 1, \"126\": 12, \"110\": 1, \"113\": 11, \"93\": 5, \"44\": 7, \"29\": 2}, \"41\": {\"64\": 1, \"41\": 12, \"19\": 1, \"119\": 2}, \"107\": {\"107\": 85, \"102\": 7, \"93\": 1, \"70\": 1, \"40\": 20, \"117\": 2, \"14\": 1, \"62\": 2, \"26\": 3, \"50\": 2, \"69\": 5, \"9\": 1, \"87\": 3, \"129\": 1, \"110\": 1, \"11\": 1}, \"57\": {\"57\": 18, \"39\": 1, \"64\": 1}, \"33\": {\"33\": 96, \"57\": 2, \"84\": 3, \"122\": 1, \"62\": 3, \"93\": 8, \"117\": 1, \"126\": 1, \"92\": 1, \"113\": 1, \"29\": 2, \"102\": 1}, \"35\": {\"70\": 1, \"35\": 7, \"7\": 1, \"101\": 1, \"128\": 1, \"92\": 1}, \"29\": {\"29\": 16, \"43\": 1, \"92\": 2, \"62\": 1, \"118\": 1, \"122\": 1, \"44\": 4, \"113\": 1, \"128\": 1, \"90\": 1, \"126\": 1, \"33\": 1, \"88\": 1}, \"70\": {\"70\": 15, \"93\": 2, \"29\": 2, \"95\": 2, \"120\": 3, \"4\": 2, \"39\": 1, \"49\": 1, \"30\": 2, \"21\": 3, \"105\": 1, \"88\": 4, \"126\": 1, \"127\": 3, \"71\": 1, \"113\": 4, \"8\": 2, \"98\": 2, \"108\": 4, \"19\": 1, \"31\": 1, \"5\": 3, \"33\": 1, \"124\": 1, \"0\": 4, \"1\": 1, \"11\": 1, \"109\": 1, \"12\": 1, \"44\": 1, \"90\": 1}, \"42\": {\"69\": 1, \"42\": 7, \"7\": 1, \"97\": 2, \"36\": 1, \"106\": 1, \"19\": 1, \"89\": 1, \"90\": 1, \"15\": 2, \"91\": 1, \"72\": 2, \"58\": 1, \"56\": 1, \"74\": 1, \"49\": 1, \"124\": 1, \"108\": 1, \"111\": 1}, \"93\": {\"43\": 3, \"93\": 66, \"128\": 2, \"21\": 3, \"90\": 4, \"92\": 1, \"126\": 16, \"33\": 10, \"113\": 8, \"44\": 3, \"11\": 1, \"39\": 1, \"23\": 1, \"102\": 1, \"110\": 1, \"62\": 1, \"118\": 2, \"109\": 2}, \"86\": {\"70\": 1, \"86\": 21, \"88\": 1, \"10\": 2, \"7\": 1, \"127\": 1, \"114\": 1}, \"28\": {\"28\": 13, \"43\": 1, \"92\": 1, \"13\": 1}, \"1\": {\"1\": 59, \"55\": 2, \"129\": 2, \"108\": 1, \"87\": 2, \"105\": 12, \"84\": 4, \"114\": 7, \"43\": 1, \"122\": 1, \"5\": 1, \"18\": 1, \"110\": 5, \"127\": 1, \"10\": 2, \"71\": 1, \"62\": 1, \"9\": 1, \"40\": 1, \"101\": 1, \"39\": 1, \"113\": 1}, \"125\": {\"54\": 1, \"125\": 99, \"36\": 10, \"44\": 1, \"106\": 5, \"27\": 3, \"24\": 3, \"118\": 1, \"15\": 1}, \"69\": {\"69\": 63, \"2\": 1, \"82\": 4, \"18\": 2, \"26\": 1, \"109\": 2, \"14\": 1, \"102\": 2, \"115\": 1, \"123\": 1, \"50\": 1, \"9\": 1, \"118\": 2, \"16\": 1, \"39\": 1}, \"97\": {\"97\": 8, \"42\": 2, \"113\": 1, \"83\": 1, \"106\": 1, \"51\": 1, \"25\": 1, \"0\": 2, \"6\": 2, \"101\": 1}, \"117\": {\"117\": 54, \"43\": 1, \"63\": 1, \"67\": 1, \"11\": 4, \"109\": 5, \"102\": 4, \"40\": 2, \"118\": 3, \"14\": 2, \"18\": 10, \"26\": 3, \"16\": 7, \"62\": 2, \"107\": 2, \"74\": 2, \"122\": 1, \"69\": 1, \"81\": 2, \"2\": 1, \"126\": 1, \"39\": 3}, \"68\": {\"111\": 2, \"68\": 13, \"108\": 1}, \"30\": {\"47\": 1, \"30\": 23, \"0\": 5, \"72\": 1, \"119\": 1, \"12\": 7, \"101\": 3, \"58\": 1, \"36\": 1, \"49\": 2, \"7\": 4, \"111\": 5, \"73\": 2, \"8\": 2, \"27\": 1, \"108\": 2, \"98\": 6, \"10\": 2, \"67\": 1, \"25\": 1, \"37\": 2, \"59\": 1, \"94\": 2, \"21\": 1, \"24\": 4, \"106\": 1, \"5\": 1, \"113\": 1}, \"111\": {\"68\": 2, \"111\": 102, \"72\": 1, \"0\": 2, \"30\": 2, \"36\": 2, \"98\": 4, \"8\": 3, \"4\": 1, \"12\": 1, \"124\": 6, \"46\": 2, \"42\": 1, \"24\": 1, \"108\": 1, \"127\": 1}, \"47\": {\"47\": 9, \"77\": 2, \"114\": 1}, \"102\": {\"102\": 77, \"43\": 1, \"55\": 1, \"32\": 1, \"87\": 2, \"14\": 5, \"118\": 3, \"117\": 1, \"40\": 3, \"69\": 4, \"26\": 2, \"11\": 2, \"107\": 3, \"62\": 9, \"16\": 2, \"129\": 2, \"39\": 2, \"84\": 3, \"109\": 1}, \"65\": {\"65\": 9, \"28\": 1, \"57\": 1, \"33\": 1}, \"113\": {\"113\": 70, \"33\": 1, \"80\": 2, \"57\": 2, \"64\": 3, \"120\": 1, \"93\": 9, \"92\": 2, \"44\": 5, \"126\": 8, \"21\": 2, \"106\": 1, \"90\": 3, \"88\": 4, \"109\": 2, \"43\": 1, \"18\": 2, \"73\": 1, \"40\": 1}, \"36\": {\"30\": 2, \"36\": 46, \"94\": 12, \"56\": 1, \"125\": 7, \"106\": 5, \"98\": 4, \"124\": 2, \"12\": 7, \"15\": 6, \"27\": 6, \"108\": 2, \"8\": 1, \"73\": 2, \"54\": 2, \"71\": 1, \"99\": 1, \"97\": 2, \"88\": 1, \"126\": 1, \"7\": 2, \"111\": 1}, \"119\": {\"102\": 2, \"119\": 9, \"107\": 1, \"81\": 1, \"86\": 1, \"100\": 2}, \"46\": {\"1\": 2, \"23\": 1, \"46\": 10, \"5\": 1, \"9\": 1, \"19\": 1}, \"49\": {\"90\": 3, \"101\": 1, \"43\": 3, \"93\": 1, \"12\": 2, \"7\": 1, \"44\": 1, \"30\": 1, \"125\": 2, \"21\": 2, \"112\": 1, \"80\": 1, \"49\": 2, \"58\": 1, \"45\": 1, \"39\": 1}, \"0\": {\"58\": 1, \"3\": 6, \"97\": 1, \"83\": 4, \"42\": 1, \"0\": 37, \"23\": 1, \"34\": 4, \"110\": 1, \"101\": 3, \"12\": 6, \"70\": 4, \"30\": 9, \"111\": 3, \"127\": 2, \"88\": 1, \"108\": 1, \"7\": 6, \"71\": 1, \"8\": 3, \"69\": 1, \"5\": 3, \"114\": 4, \"72\": 1, \"35\": 2, \"65\": 2, \"21\": 1, \"73\": 1, \"98\": 3, \"29\": 1, \"15\": 2}, \"58\": {\"58\": 10, \"24\": 2, \"15\": 1, \"72\": 1, \"34\": 2}, \"63\": {\"63\": 8, \"39\": 3, \"81\": 2, \"18\": 1, \"118\": 1, \"109\": 1}, \"94\": {\"72\": 2, \"94\": 55, \"106\": 3, \"27\": 2, \"58\": 2, \"34\": 2, \"122\": 1, \"73\": 2, \"37\": 1, \"97\": 1, \"15\": 2, \"6\": 2, \"24\": 1, \"111\": 2, \"98\": 2, \"36\": 4}, \"17\": {\"46\": 2, \"63\": 1, \"81\": 1, \"104\": 1, \"93\": 1, \"113\": 1, \"31\": 1, \"40\": 1, \"89\": 2, \"86\": 1, \"18\": 1, \"126\": 1, \"115\": 1, \"121\": 1}, \"9\": {\"105\": 1, \"9\": 17, \"107\": 4, \"1\": 3, \"108\": 1, \"40\": 1, \"114\": 1, \"84\": 1, \"118\": 1, \"11\": 2}, \"87\": {\"87\": 36, \"80\": 1, \"128\": 2, \"57\": 3, \"110\": 7, \"129\": 2, \"33\": 6, \"102\": 4, \"114\": 7, \"1\": 5, \"90\": 6, \"40\": 1, \"122\": 2, \"84\": 8, \"113\": 4, \"107\": 1, \"126\": 2, \"39\": 2, \"16\": 4, \"64\": 1, \"18\": 1, \"21\": 1, \"96\": 1, \"2\": 1, \"34\": 1, \"43\": 2, \"88\": 1, \"44\": 2, \"109\": 1, \"118\": 1, \"93\": 3, \"10\": 1}, \"59\": {\"59\": 8, \"51\": 1, \"125\": 1, \"12\": 1, \"101\": 1}, \"105\": {\"105\": 76, \"108\": 4, \"114\": 11, \"1\": 6, \"5\": 9, \"4\": 5, \"87\": 4, \"88\": 1, \"40\": 2, \"101\": 1, \"7\": 1}, \"80\": {\"80\": 14, \"31\": 2}, \"120\": {\"80\": 2, \"120\": 13, \"92\": 1, \"64\": 3, \"13\": 1}, \"18\": {\"18\": 99, \"113\": 2, \"33\": 2, \"118\": 5, \"109\": 4, \"39\": 4, \"26\": 2, \"93\": 2, \"126\": 5, \"102\": 2, \"117\": 2, \"43\": 1, \"90\": 1, \"88\": 1}, \"78\": {\"81\": 1, \"120\": 1, \"67\": 2, \"102\": 1, \"4\": 1, \"21\": 1, \"26\": 1, \"83\": 1, \"123\": 2, \"17\": 1, \"100\": 1, \"32\": 1, \"96\": 1, \"110\": 1}, \"25\": {\"25\": 16}, \"19\": {\"120\": 1, \"72\": 1, \"85\": 1, \"106\": 1, \"43\": 1, \"19\": 7, \"92\": 2, \"107\": 2, \"93\": 2, \"29\": 1, \"73\": 1, \"44\": 1, \"124\": 3, \"80\": 2, \"46\": 1, \"57\": 1, \"55\": 1, \"122\": 1, \"111\": 1, \"33\": 1}, \"122\": {\"122\": 25, \"129\": 1, \"82\": 1, \"81\": 1, \"55\": 2, \"11\": 3, \"2\": 1, \"13\": 1, \"29\": 3, \"113\": 1, \"70\": 2, \"1\": 1, \"107\": 3, \"21\": 2, \"16\": 4, \"87\": 2, \"110\": 1, \"64\": 1, \"121\": 1, \"43\": 1, \"26\": 1, \"18\": 1, \"14\": 1}, \"39\": {\"120\": 1, \"117\": 5, \"81\": 2, \"80\": 2, \"96\": 1, \"39\": 17, \"31\": 2, \"44\": 7, \"21\": 2, \"14\": 1, \"49\": 1, \"74\": 1, \"62\": 1, \"107\": 1, \"122\": 1, \"16\": 3, \"90\": 5, \"87\": 2, \"126\": 13, \"113\": 16, \"93\": 5, \"69\": 1, \"26\": 3, \"11\": 4, \"84\": 1, \"118\": 1, \"63\": 2, \"92\": 1, \"43\": 1, \"19\": 1, \"102\": 1, \"88\": 1, \"109\": 1, \"33\": 1}, \"76\": {\"76\": 6, \"17\": 1, \"82\": 1, \"89\": 1, \"2\": 1, \"119\": 1, \"116\": 1, \"120\": 1, \"88\": 1, \"43\": 1, \"60\": 1}, \"89\": {\"63\": 1, \"119\": 1, \"89\": 22, \"46\": 1, \"32\": 1, \"108\": 1, \"14\": 1}, \"129\": {\"129\": 20, \"105\": 2, \"57\": 1, \"128\": 1, \"40\": 1, \"88\": 1, \"87\": 2, \"114\": 1, \"11\": 1, \"1\": 2}, \"26\": {\"128\": 1, \"26\": 54, \"50\": 1, \"14\": 3, \"11\": 4, \"81\": 2, \"18\": 5, \"118\": 4, \"69\": 3, \"117\": 7, \"110\": 1, \"102\": 6, \"80\": 1, \"70\": 1, \"74\": 1, \"16\": 3, \"109\": 3}, \"85\": {\"124\": 2, \"85\": 28, \"24\": 1, \"72\": 1, \"88\": 2, \"53\": 1, \"108\": 1}, \"71\": {\"103\": 1, \"71\": 46, \"95\": 3, \"127\": 1, \"7\": 3, \"14\": 1, \"70\": 2, \"8\": 2, \"0\": 1, \"32\": 1, \"9\": 1, \"3\": 1, \"69\": 1, \"105\": 1, \"5\": 2, \"4\": 1}, \"77\": {\"77\": 13, \"88\": 1, \"116\": 1, \"8\": 1}, \"128\": {\"128\": 18, \"103\": 1, \"110\": 1, \"1\": 2, \"33\": 3, \"114\": 2, \"122\": 1, \"87\": 1, \"84\": 1, \"43\": 1, \"86\": 1}, \"2\": {\"50\": 1, \"84\": 1, \"43\": 1, \"2\": 10, \"96\": 1, \"118\": 4, \"62\": 1, \"113\": 1, \"26\": 1, \"16\": 1, \"117\": 3, \"29\": 1, \"33\": 1, \"87\": 1}, \"56\": {\"70\": 1, \"56\": 7, \"124\": 2, \"32\": 2}, \"24\": {\"24\": 17, \"54\": 1, \"75\": 1, \"58\": 2, \"111\": 2, \"27\": 6, \"106\": 3, \"36\": 2, \"30\": 3, \"3\": 1, \"68\": 1, \"97\": 1, \"0\": 1, \"73\": 1, \"15\": 5, \"125\": 1}, \"101\": {\"2\": 2, \"101\": 28, \"0\": 9, \"112\": 1, \"49\": 1, \"3\": 3, \"105\": 1, \"26\": 1, \"7\": 1, \"30\": 1, \"84\": 1, \"71\": 2, \"127\": 1}, \"52\": {\"52\": 12, \"8\": 1, \"58\": 2, \"98\": 1}, \"84\": {\"84\": 69, \"29\": 1, \"39\": 1, \"33\": 4, \"43\": 4, \"87\": 6, \"126\": 1, \"129\": 2, \"40\": 1, \"110\": 6, \"118\": 1, \"62\": 2, \"11\": 2, \"93\": 1, \"96\": 2, \"55\": 1, \"114\": 1, \"1\": 2, \"16\": 1}, \"7\": {\"7\": 71, \"3\": 10, \"23\": 1, \"90\": 3, \"10\": 1, \"30\": 2, \"101\": 3, \"5\": 2, \"88\": 1, \"0\": 2, \"70\": 1, \"84\": 2, \"108\": 3, \"40\": 1, \"126\": 1, \"4\": 1, \"91\": 1, \"37\": 1, \"8\": 1, \"33\": 1, \"110\": 1, \"11\": 1, \"127\": 1}, \"82\": {\"69\": 3, \"82\": 15, \"118\": 1, \"123\": 1, \"26\": 3, \"40\": 1, \"107\": 2, \"102\": 1, \"115\": 1}, \"60\": {\"60\": 13, \"113\": 1, \"114\": 1, \"43\": 1, \"93\": 1, \"116\": 1, \"10\": 1, \"44\": 1, \"110\": 2, \"29\": 2, \"124\": 1, \"117\": 2, \"8\": 1}, \"45\": {\"18\": 2, \"45\": 10, \"118\": 1, \"122\": 1, \"11\": 1, \"74\": 1}, \"40\": {\"55\": 1, \"40\": 77, \"87\": 4, \"107\": 23, \"9\": 1, \"117\": 1, \"69\": 1, \"109\": 1, \"114\": 3, \"102\": 4, \"105\": 2, \"4\": 1, \"124\": 1, \"26\": 1, \"85\": 1, \"62\": 1, \"110\": 1}, \"20\": {\"116\": 1, \"45\": 1, \"121\": 2, \"67\": 1, \"117\": 2, \"20\": 8, \"48\": 1}, \"4\": {\"114\": 11, \"71\": 1, \"10\": 1, \"4\": 47, \"105\": 11, \"1\": 3, \"127\": 3, \"8\": 5, \"5\": 4, \"108\": 4, \"12\": 2, \"124\": 1, \"88\": 2, \"70\": 1}, \"116\": {\"113\": 1, \"116\": 7, \"44\": 2, \"45\": 1, \"69\": 1, \"67\": 3, \"92\": 1, \"90\": 2, \"16\": 1, \"22\": 1, \"53\": 1, \"14\": 3, \"96\": 1, \"17\": 1, \"108\": 1, \"119\": 1}, \"61\": {\"61\": 15, \"115\": 1}, \"5\": {\"5\": 73, \"127\": 9, \"19\": 1, \"105\": 10, \"1\": 3, \"71\": 4, \"108\": 2, \"7\": 2, \"4\": 3, \"101\": 1, \"114\": 2, \"11\": 1, \"18\": 1}, \"106\": {\"106\": 71, \"54\": 2, \"94\": 2, \"75\": 1, \"82\": 1, \"15\": 3, \"8\": 1, \"24\": 4, \"36\": 3, \"98\": 3, \"27\": 5, \"97\": 1, \"3\": 2, \"34\": 1}, \"12\": {\"12\": 59, \"83\": 1, \"101\": 1, \"127\": 5, \"108\": 1, \"4\": 2, \"95\": 2, \"8\": 3, \"30\": 4, \"111\": 4, \"114\": 1, \"98\": 5, \"5\": 1, \"105\": 1, \"7\": 3, \"42\": 1, \"71\": 1, \"6\": 1, \"70\": 1, \"0\": 3, \"3\": 1, \"106\": 1, \"15\": 1, \"124\": 1}, \"62\": {\"62\": 82, \"43\": 3, \"18\": 5, \"118\": 3, \"74\": 1, \"39\": 4, \"88\": 1, \"84\": 1, \"11\": 2, \"117\": 2, \"16\": 5, \"102\": 2, \"126\": 1, \"92\": 1, \"122\": 1, \"33\": 4, \"44\": 1, \"113\": 1}, \"34\": {\"93\": 2, \"94\": 2, \"13\": 2, \"122\": 2, \"2\": 1, \"120\": 1, \"6\": 3, \"34\": 2, \"116\": 1, \"87\": 1, \"99\": 2, \"15\": 2, \"18\": 1, \"63\": 1, \"25\": 1, \"64\": 1, \"73\": 2, \"36\": 2, \"62\": 1, \"96\": 1, \"102\": 1}, \"91\": {\"47\": 1, \"91\": 4, \"41\": 1, \"89\": 2, \"49\": 1, \"42\": 3, \"99\": 1, \"44\": 1, \"4\": 1, \"112\": 2, \"108\": 2, \"53\": 1, \"0\": 1, \"122\": 1, \"38\": 1, \"90\": 1}, \"112\": {\"112\": 10, \"3\": 1, \"115\": 1, \"5\": 1, \"95\": 1, \"83\": 2}, \"92\": {\"92\": 28, \"19\": 1, \"64\": 2, \"13\": 1}, \"95\": {\"127\": 1, \"95\": 27, \"112\": 1, \"34\": 1, \"49\": 1, \"3\": 1}, \"96\": {\"64\": 2, \"113\": 1, \"92\": 2, \"96\": 13, \"67\": 2}, \"127\": {\"127\": 78, \"95\": 3, \"126\": 2, \"88\": 1, \"10\": 1, \"108\": 2, \"5\": 7, \"3\": 1, \"7\": 2, \"4\": 1, \"114\": 2, \"71\": 3, \"124\": 1, \"105\": 1, \"60\": 1, \"8\": 1, \"102\": 1}, \"67\": {\"67\": 8, \"21\": 2, \"81\": 1, \"89\": 2, \"39\": 2, \"18\": 1}, \"83\": {\"83\": 15, \"0\": 1, \"42\": 1, \"101\": 1, \"98\": 2, \"52\": 2, \"37\": 1, \"58\": 1}, \"21\": {\"67\": 2, \"21\": 23, \"89\": 1, \"90\": 2, \"106\": 2, \"99\": 1, \"33\": 2, \"92\": 1, \"121\": 2, \"93\": 2, \"26\": 1, \"57\": 2, \"69\": 2, \"59\": 1, \"94\": 1, \"43\": 1, \"88\": 2}, \"98\": {\"119\": 1, \"3\": 4, \"98\": 60, \"30\": 5, \"6\": 1, \"8\": 10, \"71\": 2, \"101\": 3, \"111\": 3, \"7\": 2, \"12\": 4, \"70\": 1, \"27\": 1, \"0\": 9, \"113\": 1, \"36\": 2, \"49\": 1, \"51\": 2, \"52\": 1, \"73\": 1, \"106\": 2, \"127\": 2, \"94\": 2, \"124\": 4}, \"108\": {\"101\": 2, \"108\": 43, \"86\": 2, \"0\": 6, \"7\": 4, \"90\": 4, \"116\": 2, \"4\": 6, \"127\": 5, \"114\": 2, \"84\": 3, \"70\": 3, \"98\": 3, \"88\": 8, \"109\": 1, \"8\": 7, \"1\": 1, \"5\": 1, \"39\": 1, \"111\": 1, \"12\": 3, \"93\": 2, \"10\": 2, \"124\": 2, \"107\": 1, \"20\": 2, \"42\": 1, \"13\": 1, \"128\": 1, \"60\": 2, \"44\": 1, \"87\": 1, \"30\": 1, \"105\": 2, \"18\": 1, \"33\": 2, \"11\": 1, \"113\": 1}, \"31\": {\"43\": 1, \"31\": 16, \"28\": 1, \"92\": 1, \"19\": 1}, \"118\": {\"92\": 1, \"118\": 25, \"69\": 5, \"21\": 2, \"78\": 1, \"26\": 4, \"2\": 3, \"88\": 5, \"44\": 3, \"113\": 5, \"39\": 4, \"107\": 2, \"126\": 7, \"14\": 2, \"102\": 1, \"18\": 3, \"109\": 1, \"122\": 1, \"117\": 2, \"16\": 4, \"90\": 4, \"63\": 1, \"64\": 1, \"67\": 1, \"80\": 1, \"74\": 1, \"43\": 1, \"11\": 4, \"29\": 1, \"57\": 1, \"40\": 1, \"10\": 1, \"87\": 1}, \"110\": {\"110\": 33, \"93\": 2, \"114\": 5, \"129\": 3, \"39\": 4, \"49\": 1, \"87\": 9, \"88\": 5, \"14\": 1, \"44\": 6, \"105\": 1, \"62\": 1, \"126\": 2, \"113\": 7, \"1\": 2, \"43\": 1, \"80\": 1, \"96\": 1, \"60\": 1, \"90\": 4, \"122\": 1, \"84\": 1}, \"73\": {\"15\": 2, \"73\": 26, \"34\": 3, \"111\": 2, \"42\": 1, \"59\": 1, \"21\": 1, \"36\": 1, \"98\": 1, \"24\": 2}, \"44\": {\"44\": 50, \"90\": 3, \"39\": 2, \"88\": 1, \"113\": 4, \"93\": 3, \"16\": 1, \"120\": 1, \"92\": 6, \"11\": 1}, \"37\": {\"37\": 12, \"52\": 2, \"12\": 1, \"64\": 1}, \"100\": {\"87\": 2, \"118\": 1, \"84\": 2, \"116\": 1, \"100\": 9, \"43\": 1}}}, \"per_domain_accuracy\": {\"O_26\": {\"accuracy\": 0.6796875, \"source?\": true}, \"O_44\": {\"accuracy\": 0.7484375, \"source?\": true}, \"O_50\": {\"accuracy\": 0.8557291666666667, \"source?\": true}, \"O_38\": {\"accuracy\": 0.87578125, \"source?\": true}, \"O_20\": {\"accuracy\": 0.78125, \"source?\": true}, \"O_14\": {\"accuracy\": 0.8869791666666667, \"source?\": true}, \"O_32\": {\"accuracy\": 0.86015625, \"source?\": true}, \"O_8\": {\"accuracy\": 0.8208333333333333, \"source?\": true}, \"W_4\": {\"accuracy\": 0.49588477366255146, \"source?\": false}, \"C_5\": {\"accuracy\": 0.6892458100558659, \"source?\": false}, \"W_1\": {\"accuracy\": 0.5426377118644068, \"source?\": false}, \"C_1\": {\"accuracy\": 0.7172214673913043, \"source?\": false}, \"C_3\": {\"accuracy\": 0.70625, \"source?\": false}, \"C_4\": {\"accuracy\": 0.7027484939759037, \"source?\": false}, \"C_2\": {\"accuracy\": 0.7102272727272727, \"source?\": false}, \"W_2\": {\"accuracy\": 0.5524320083682008, \"source?\": false}, \"W_3\": {\"accuracy\": 0.5443504366812227, \"source?\": false}}}, \"history\": {\"epoch_indices\": [1, 2, 3, 4, 5, 6, 7, 8, 9, 10], \"train_label_loss\": [0.9693358843791343, 0.8848224010473739, 0.6195268482612889, 0.5422236667934894, 0.49065395659390126, 0.4584290380251505, 0.41947013423667245, 0.37983454617898954, 0.34090434195989344, 0.3092066098398174], \"source_val_label_loss\": [7.690728664398193, 0.7878891229629517, 0.6729637384414673, 0.5247149467468262, 0.509523332118988, 0.5078091025352478, 0.4158382713794708, 0.441877156496048, 0.37215474247932434, 0.39626553654670715], \"target_val_label_loss\": [1891.768310546875, 359.1170349121094, 316.3981628417969, 329.9599609375, 363.4116516113281, 341.0367736816406, 385.4891662597656, 476.111328125, 506.158447265625, 569.3895263671875], \"source_val_acc_label\": [0.6671875, 0.70634765625, 0.74765625, 0.8109375, 0.8137044270833333, 0.8136067708333333, 0.84970703125, 0.83564453125, 0.8629231770833333, 0.8559895833333333], \"target_val_acc_label\": [0.4169010702524698, 0.5322447859495061, 0.5995472008781558, 0.5984666575192097, 0.6020341657519209, 0.6159783205268935, 0.6090148188803512, 0.5934755762897914, 0.6052929473106476, 0.6067851262349067]}, \"dataset_metrics\": {\"source\": {\"train\": {\"n_unique_x\": 179200, \"n_unique_y\": 16, \"n_batch/episode\": 6720}, \"val\": {\"n_unique_x\": 38400, \"n_unique_y\": 16, \"n_batch/episode\": 960}, \"test\": {\"n_unique_x\": 38400, \"n_unique_y\": 16, \"n_batch/episode\": 960}}, \"target\": {\"train\": {\"n_unique_x\": 364204, \"n_unique_y\": 130, \"n_batch/episode\": 13168}, \"val\": {\"n_unique_x\": 77221, \"n_unique_y\": 130, \"n_batch/episode\": 1822}, \"test\": {\"n_unique_x\": 78360, \"n_unique_y\": 130, \"n_batch/episode\": 1854}}}}'"
      ]
     },
     "execution_count": 29,
     "metadata": {},
     "output_type": "execute_result"
    }
   ],
   "source": [
    "json.dumps(experiment)"
   ]
  }
 ],
 "metadata": {
  "celltoolbar": "Tags",
  "kernelspec": {
   "display_name": "Python 3 (ipykernel)",
   "language": "python",
   "name": "python3"
  },
  "language_info": {
   "codemirror_mode": {
    "name": "ipython",
    "version": 3
   },
   "file_extension": ".py",
   "mimetype": "text/x-python",
   "name": "python",
   "nbconvert_exporter": "python",
   "pygments_lexer": "ipython3",
   "version": "3.8.10"
  },
  "papermill": {
   "default_parameters": {},
   "duration": 1897.067191,
   "end_time": "2022-03-21T02:47:08.422104",
   "environment_variables": {},
   "exception": null,
   "input_path": "/mnt/wd500GB/CSC500/csc500-main/csc500-notebooks/templates/tl_ptn_template.ipynb",
   "output_path": "trial.ipynb",
   "parameters": {
    "parameters": {
     "BEST_MODEL_PATH": "./best_model.pth",
     "NUM_LOGS_PER_EPOCH": 10,
     "criteria_for_best": "target_accuracy",
     "dataset_seed": 7,
     "datasets": [
      {
       "domain_prefix": "C_",
       "domains": [
        1,
        2,
        3,
        4,
        5
       ],
       "episode_transforms": [],
       "labels": [
        "1-10.",
        "1-11.",
        "1-15.",
        "1-16.",
        "1-17.",
        "1-18.",
        "1-19.",
        "10-4.",
        "10-7.",
        "11-1.",
        "11-14.",
        "11-17.",
        "11-20.",
        "11-7.",
        "13-20.",
        "13-8.",
        "14-10.",
        "14-11.",
        "14-14.",
        "14-7.",
        "15-1.",
        "15-20.",
        "16-1.",
        "16-16.",
        "17-10.",
        "17-11.",
        "17-2.",
        "19-1.",
        "19-16.",
        "19-19.",
        "19-20.",
        "19-3.",
        "2-10.",
        "2-11.",
        "2-17.",
        "2-18.",
        "2-20.",
        "2-3.",
        "2-4.",
        "2-5.",
        "2-6.",
        "2-7.",
        "2-8.",
        "3-13.",
        "3-18.",
        "3-3.",
        "4-1.",
        "4-10.",
        "4-11.",
        "4-19.",
        "5-5.",
        "6-15.",
        "7-10.",
        "7-14.",
        "8-18.",
        "8-20.",
        "8-3.",
        "8-8."
       ],
       "num_examples_per_domain_per_label": -1,
       "pickle_path": "/mnt/wd500GB/CSC500/csc500-main/datasets/cores.stratified_ds.2022A.pkl",
       "source_or_target_dataset": "target",
       "x_transforms": [
        "unit_mag",
        "take_200"
       ]
      },
      {
       "domain_prefix": "W_",
       "domains": [
        1,
        2,
        3,
        4
       ],
       "episode_transforms": [],
       "labels": [
        "1-10",
        "1-12",
        "1-14",
        "1-16",
        "1-18",
        "1-19",
        "1-8",
        "10-11",
        "10-17",
        "10-4",
        "10-7",
        "11-1",
        "11-10",
        "11-19",
        "11-20",
        "11-4",
        "11-7",
        "12-19",
        "12-20",
        "12-7",
        "13-14",
        "13-18",
        "13-19",
        "13-20",
        "13-3",
        "13-7",
        "14-10",
        "14-11",
        "14-12",
        "14-13",
        "14-14",
        "14-19",
        "14-20",
        "14-7",
        "14-8",
        "14-9",
        "15-1",
        "15-19",
        "15-6",
        "16-1",
        "16-16",
        "16-19",
        "16-20",
        "17-10",
        "17-11",
        "18-1",
        "18-10",
        "18-11",
        "18-12",
        "18-13",
        "18-14",
        "18-15",
        "18-16",
        "18-17",
        "18-19",
        "18-2",
        "18-20",
        "18-4",
        "18-5",
        "18-7",
        "18-8",
        "18-9",
        "19-1",
        "19-10",
        "19-11",
        "19-12",
        "19-13",
        "19-14",
        "19-15",
        "19-19",
        "19-2",
        "19-20",
        "19-3",
        "19-4",
        "19-6",
        "19-7",
        "19-8",
        "19-9",
        "2-1",
        "2-13",
        "2-15",
        "2-3",
        "2-4",
        "2-5",
        "2-6",
        "2-7",
        "2-8",
        "20-1",
        "20-12",
        "20-14",
        "20-15",
        "20-16",
        "20-18",
        "20-19",
        "20-20",
        "20-3",
        "20-4",
        "20-5",
        "20-7",
        "20-8",
        "3-1",
        "3-13",
        "3-18",
        "3-2",
        "3-8",
        "4-1",
        "4-10",
        "4-11",
        "5-1",
        "5-5",
        "6-1",
        "6-15",
        "6-6",
        "7-10",
        "7-11",
        "7-12",
        "7-13",
        "7-14",
        "7-7",
        "7-8",
        "7-9",
        "8-1",
        "8-13",
        "8-14",
        "8-18",
        "8-20",
        "8-3",
        "8-8",
        "9-1",
        "9-7"
       ],
       "num_examples_per_domain_per_label": -1,
       "pickle_path": "/mnt/wd500GB/CSC500/csc500-main/datasets/wisig.node3-19.stratified_ds.2022A.pkl",
       "source_or_target_dataset": "target",
       "x_transforms": [
        "unit_mag",
        "take_200"
       ]
      },
      {
       "domain_prefix": "O_",
       "domains": [
        32,
        38,
        8,
        44,
        14,
        50,
        20,
        26
       ],
       "episode_transforms": [],
       "labels": [
        "3123D52",
        "3123D65",
        "3123D79",
        "3123D80",
        "3123D54",
        "3123D70",
        "3123D7B",
        "3123D89",
        "3123D58",
        "3123D76",
        "3123D7D",
        "3123EFE",
        "3123D64",
        "3123D78",
        "3123D7E",
        "3124E4A"
       ],
       "num_examples_per_domain_per_label": 2000,
       "pickle_path": "/mnt/wd500GB/CSC500/csc500-main/datasets/oracle.Run1_framed_2000Examples_stratified_ds.2022A.pkl",
       "source_or_target_dataset": "source",
       "x_transforms": [
        "unit_mag",
        "take_200",
        "resample_20Msps_to_25Msps"
       ]
      }
     ],
     "device": "cuda",
     "experiment_name": "tl_3Av2:oracle.run1.framed -> cores+wisig",
     "lr": 0.0001,
     "n_epoch": 50,
     "n_query": 2,
     "n_shot": 3,
     "n_way": 16,
     "patience": 3,
     "seed": 7,
     "test_k_factor": 2,
     "torch_default_dtype": "torch.float32",
     "train_k_factor": 3,
     "val_k_factor": 2,
     "x_net": [
      {
       "class": "nnReshape",
       "kargs": {
        "shape": [
         -1,
         1,
         2,
         200
        ]
       }
      },
      {
       "class": "Conv2d",
       "kargs": {
        "bias": false,
        "in_channels": 1,
        "kernel_size": [
         1,
         7
        ],
        "out_channels": 256,
        "padding": [
         0,
         3
        ]
       }
      },
      {
       "class": "ReLU",
       "kargs": {
        "inplace": true
       }
      },
      {
       "class": "BatchNorm2d",
       "kargs": {
        "num_features": 256
       }
      },
      {
       "class": "Conv2d",
       "kargs": {
        "bias": true,
        "in_channels": 256,
        "kernel_size": [
         2,
         7
        ],
        "out_channels": 80,
        "padding": [
         0,
         3
        ]
       }
      },
      {
       "class": "ReLU",
       "kargs": {
        "inplace": true
       }
      },
      {
       "class": "BatchNorm2d",
       "kargs": {
        "num_features": 80
       }
      },
      {
       "class": "Flatten",
       "kargs": {}
      },
      {
       "class": "Linear",
       "kargs": {
        "in_features": 16000,
        "out_features": 256
       }
      },
      {
       "class": "ReLU",
       "kargs": {
        "inplace": true
       }
      },
      {
       "class": "BatchNorm1d",
       "kargs": {
        "num_features": 256
       }
      },
      {
       "class": "Linear",
       "kargs": {
        "in_features": 256,
        "out_features": 256
       }
      }
     ],
     "x_shape": [
      2,
      200
     ]
    }
   },
   "start_time": "2022-03-21T02:15:31.354913",
   "version": "2.3.4"
  }
 },
 "nbformat": 4,
 "nbformat_minor": 5
}