{
 "cells": [
  {
   "cell_type": "markdown",
   "id": "9fea5f46",
   "metadata": {
    "papermill": {
     "duration": 0.015096,
     "end_time": "2022-03-20T21:26:51.983299",
     "exception": false,
     "start_time": "2022-03-20T21:26:51.968203",
     "status": "completed"
    },
    "tags": []
   },
   "source": [
    "# Transfer Learning Template"
   ]
  },
  {
   "cell_type": "code",
   "execution_count": 1,
   "id": "0902182a",
   "metadata": {
    "execution": {
     "iopub.execute_input": "2022-03-20T21:26:52.015979Z",
     "iopub.status.busy": "2022-03-20T21:26:52.015699Z",
     "iopub.status.idle": "2022-03-20T21:26:52.934031Z",
     "shell.execute_reply": "2022-03-20T21:26:52.933712Z"
    },
    "papermill": {
     "duration": 0.937937,
     "end_time": "2022-03-20T21:26:52.934101",
     "exception": false,
     "start_time": "2022-03-20T21:26:51.996164",
     "status": "completed"
    },
    "tags": []
   },
   "outputs": [],
   "source": [
    "%load_ext autoreload\n",
    "%autoreload 2\n",
    "%matplotlib inline\n",
    "\n",
    "    \n",
    "import os, json, sys, time, random\n",
    "import numpy as np\n",
    "import torch\n",
    "from torch.optim import Adam\n",
    "from  easydict import EasyDict\n",
    "import matplotlib.pyplot as plt\n",
    "\n",
    "from steves_models.steves_ptn import Steves_Prototypical_Network\n",
    "\n",
    "from steves_utils.lazy_iterable_wrapper import Lazy_Iterable_Wrapper\n",
    "from steves_utils.iterable_aggregator import Iterable_Aggregator\n",
    "from steves_utils.ptn_train_eval_test_jig import  PTN_Train_Eval_Test_Jig\n",
    "from steves_utils.torch_sequential_builder import build_sequential\n",
    "from steves_utils.torch_utils import get_dataset_metrics, ptn_confusion_by_domain_over_dataloader\n",
    "from steves_utils.utils_v2 import (per_domain_accuracy_from_confusion, get_datasets_base_path)\n",
    "from steves_utils.PTN.utils import independent_accuracy_assesment\n",
    "\n",
    "from torch.utils.data import DataLoader\n",
    "\n",
    "from steves_utils.stratified_dataset.episodic_accessor import Episodic_Accessor_Factory\n",
    "\n",
    "from steves_utils.ptn_do_report import (\n",
    "    get_loss_curve,\n",
    "    get_results_table,\n",
    "    get_parameters_table,\n",
    "    get_domain_accuracies,\n",
    ")\n",
    "\n",
    "from steves_utils.transforms import get_chained_transform"
   ]
  },
  {
   "cell_type": "markdown",
   "id": "41c840b4",
   "metadata": {
    "papermill": {
     "duration": 0.013194,
     "end_time": "2022-03-20T21:26:52.962601",
     "exception": false,
     "start_time": "2022-03-20T21:26:52.949407",
     "status": "completed"
    },
    "tags": []
   },
   "source": [
    "# Allowed Parameters\n",
    "These are allowed parameters, not defaults\n",
    "Each of these values need to be present in the injected parameters (the notebook will raise an exception if they are not present)\n",
    "\n",
    "Papermill uses the cell tag \"parameters\" to inject the real parameters below this cell.\n",
    "Enable tags to see what I mean"
   ]
  },
  {
   "cell_type": "code",
   "execution_count": 2,
   "id": "fd44eb83",
   "metadata": {
    "execution": {
     "iopub.execute_input": "2022-03-20T21:26:52.995379Z",
     "iopub.status.busy": "2022-03-20T21:26:52.992593Z",
     "iopub.status.idle": "2022-03-20T21:26:53.008234Z",
     "shell.execute_reply": "2022-03-20T21:26:53.007797Z"
    },
    "papermill": {
     "duration": 0.032255,
     "end_time": "2022-03-20T21:26:53.008340",
     "exception": false,
     "start_time": "2022-03-20T21:26:52.976085",
     "status": "completed"
    },
    "tags": []
   },
   "outputs": [],
   "source": [
    "required_parameters = {\n",
    "    \"experiment_name\",\n",
    "    \"lr\",\n",
    "    \"device\",\n",
    "    \"seed\",\n",
    "    \"dataset_seed\",\n",
    "    \"n_shot\",\n",
    "    \"n_query\",\n",
    "    \"n_way\",\n",
    "    \"train_k_factor\",\n",
    "    \"val_k_factor\",\n",
    "    \"test_k_factor\",\n",
    "    \"n_epoch\",\n",
    "    \"patience\",\n",
    "    \"criteria_for_best\",\n",
    "    \"x_net\",\n",
    "    \"datasets\",\n",
    "    \"torch_default_dtype\",\n",
    "    \"NUM_LOGS_PER_EPOCH\",\n",
    "    \"BEST_MODEL_PATH\",\n",
    "    \"x_shape\",\n",
    "}"
   ]
  },
  {
   "cell_type": "code",
   "execution_count": 3,
   "id": "fa3f0049",
   "metadata": {
    "execution": {
     "iopub.execute_input": "2022-03-20T21:26:53.052342Z",
     "iopub.status.busy": "2022-03-20T21:26:53.051937Z",
     "iopub.status.idle": "2022-03-20T21:26:53.065800Z",
     "shell.execute_reply": "2022-03-20T21:26:53.065367Z"
    },
    "papermill": {
     "duration": 0.037922,
     "end_time": "2022-03-20T21:26:53.065905",
     "exception": false,
     "start_time": "2022-03-20T21:26:53.027983",
     "status": "completed"
    },
    "tags": [
     "parameters"
    ]
   },
   "outputs": [],
   "source": [
    "from steves_utils.CORES.utils import (\n",
    "    ALL_NODES,\n",
    "    ALL_NODES_MINIMUM_1000_EXAMPLES,\n",
    "    ALL_DAYS\n",
    ")\n",
    "\n",
    "from steves_utils.ORACLE.utils_v2 import (\n",
    "    ALL_DISTANCES_FEET_NARROWED,\n",
    "    ALL_RUNS,\n",
    "    ALL_SERIAL_NUMBERS,\n",
    ")\n",
    "\n",
    "standalone_parameters = {}\n",
    "standalone_parameters[\"experiment_name\"] = \"STANDALONE PTN\"\n",
    "standalone_parameters[\"lr\"] = 0.001\n",
    "standalone_parameters[\"device\"] = \"cuda\"\n",
    "\n",
    "standalone_parameters[\"seed\"] = 1337\n",
    "standalone_parameters[\"dataset_seed\"] = 1337\n",
    "\n",
    "standalone_parameters[\"n_way\"] = 8\n",
    "standalone_parameters[\"n_shot\"] = 3\n",
    "standalone_parameters[\"n_query\"]  = 2\n",
    "standalone_parameters[\"train_k_factor\"] = 1\n",
    "standalone_parameters[\"val_k_factor\"] = 2\n",
    "standalone_parameters[\"test_k_factor\"] = 2\n",
    "\n",
    "\n",
    "standalone_parameters[\"n_epoch\"] = 50\n",
    "\n",
    "standalone_parameters[\"patience\"] = 10\n",
    "standalone_parameters[\"criteria_for_best\"] = \"source_loss\"\n",
    "\n",
    "standalone_parameters[\"datasets\"] = [\n",
    "    {\n",
    "        \"labels\": ALL_SERIAL_NUMBERS,\n",
    "        \"domains\": ALL_DISTANCES_FEET_NARROWED,\n",
    "        \"num_examples_per_domain_per_label\": 100,\n",
    "        \"pickle_path\": os.path.join(get_datasets_base_path(), \"oracle.Run1_framed_2000Examples_stratified_ds.2022A.pkl\"),\n",
    "        \"source_or_target_dataset\": \"source\",\n",
    "        \"x_transforms\": [\"unit_mag\", \"minus_two\"],\n",
    "        \"episode_transforms\": [],\n",
    "        \"domain_prefix\": \"ORACLE_\"\n",
    "    },\n",
    "    {\n",
    "        \"labels\": ALL_NODES,\n",
    "        \"domains\": ALL_DAYS,\n",
    "        \"num_examples_per_domain_per_label\": 100,\n",
    "        \"pickle_path\": os.path.join(get_datasets_base_path(), \"cores.stratified_ds.2022A.pkl\"),\n",
    "        \"source_or_target_dataset\": \"target\",\n",
    "        \"x_transforms\": [\"unit_power\", \"times_zero\"],\n",
    "        \"episode_transforms\": [],\n",
    "        \"domain_prefix\": \"CORES_\"\n",
    "    }   \n",
    "]\n",
    "\n",
    "standalone_parameters[\"torch_default_dtype\"] = \"torch.float32\" \n",
    "\n",
    "\n",
    "\n",
    "standalone_parameters[\"x_net\"] =     [\n",
    "    {\"class\": \"nnReshape\", \"kargs\": {\"shape\":[-1, 1, 2, 256]}},\n",
    "    {\"class\": \"Conv2d\", \"kargs\": { \"in_channels\":1, \"out_channels\":256, \"kernel_size\":(1,7), \"bias\":False, \"padding\":(0,3), },},\n",
    "    {\"class\": \"ReLU\", \"kargs\": {\"inplace\": True}},\n",
    "    {\"class\": \"BatchNorm2d\", \"kargs\": {\"num_features\":256}},\n",
    "\n",
    "    {\"class\": \"Conv2d\", \"kargs\": { \"in_channels\":256, \"out_channels\":80, \"kernel_size\":(2,7), \"bias\":True, \"padding\":(0,3), },},\n",
    "    {\"class\": \"ReLU\", \"kargs\": {\"inplace\": True}},\n",
    "    {\"class\": \"BatchNorm2d\", \"kargs\": {\"num_features\":80}},\n",
    "    {\"class\": \"Flatten\", \"kargs\": {}},\n",
    "\n",
    "    {\"class\": \"Linear\", \"kargs\": {\"in_features\": 80*256, \"out_features\": 256}}, # 80 units per IQ pair\n",
    "    {\"class\": \"ReLU\", \"kargs\": {\"inplace\": True}},\n",
    "    {\"class\": \"BatchNorm1d\", \"kargs\": {\"num_features\":256}},\n",
    "\n",
    "    {\"class\": \"Linear\", \"kargs\": {\"in_features\": 256, \"out_features\": 256}},\n",
    "]\n",
    "\n",
    "# Parameters relevant to results\n",
    "# These parameters will basically never need to change\n",
    "standalone_parameters[\"NUM_LOGS_PER_EPOCH\"] = 10\n",
    "standalone_parameters[\"BEST_MODEL_PATH\"] = \"./best_model.pth\"\n",
    "\n",
    "\n",
    "\n",
    "\n"
   ]
  },
  {
   "cell_type": "code",
   "execution_count": 4,
   "id": "21023fb4",
   "metadata": {
    "execution": {
     "iopub.execute_input": "2022-03-20T21:26:53.111023Z",
     "iopub.status.busy": "2022-03-20T21:26:53.110699Z",
     "iopub.status.idle": "2022-03-20T21:26:53.125175Z",
     "shell.execute_reply": "2022-03-20T21:26:53.124675Z"
    },
    "papermill": {
     "duration": 0.041219,
     "end_time": "2022-03-20T21:26:53.125277",
     "exception": false,
     "start_time": "2022-03-20T21:26:53.084058",
     "status": "completed"
    },
    "tags": [
     "injected-parameters"
    ]
   },
   "outputs": [],
   "source": [
    "# Parameters\n",
    "parameters = {\n",
    "    \"experiment_name\": \"tl_3Av2:oracle.run1.framed -> cores+wisig\",\n",
    "    \"device\": \"cuda\",\n",
    "    \"lr\": 0.0001,\n",
    "    \"x_shape\": [2, 200],\n",
    "    \"n_shot\": 3,\n",
    "    \"n_query\": 2,\n",
    "    \"train_k_factor\": 3,\n",
    "    \"val_k_factor\": 2,\n",
    "    \"test_k_factor\": 2,\n",
    "    \"torch_default_dtype\": \"torch.float32\",\n",
    "    \"n_epoch\": 50,\n",
    "    \"patience\": 3,\n",
    "    \"criteria_for_best\": \"target_accuracy\",\n",
    "    \"x_net\": [\n",
    "        {\"class\": \"nnReshape\", \"kargs\": {\"shape\": [-1, 1, 2, 200]}},\n",
    "        {\n",
    "            \"class\": \"Conv2d\",\n",
    "            \"kargs\": {\n",
    "                \"in_channels\": 1,\n",
    "                \"out_channels\": 256,\n",
    "                \"kernel_size\": [1, 7],\n",
    "                \"bias\": False,\n",
    "                \"padding\": [0, 3],\n",
    "            },\n",
    "        },\n",
    "        {\"class\": \"ReLU\", \"kargs\": {\"inplace\": True}},\n",
    "        {\"class\": \"BatchNorm2d\", \"kargs\": {\"num_features\": 256}},\n",
    "        {\n",
    "            \"class\": \"Conv2d\",\n",
    "            \"kargs\": {\n",
    "                \"in_channels\": 256,\n",
    "                \"out_channels\": 80,\n",
    "                \"kernel_size\": [2, 7],\n",
    "                \"bias\": True,\n",
    "                \"padding\": [0, 3],\n",
    "            },\n",
    "        },\n",
    "        {\"class\": \"ReLU\", \"kargs\": {\"inplace\": True}},\n",
    "        {\"class\": \"BatchNorm2d\", \"kargs\": {\"num_features\": 80}},\n",
    "        {\"class\": \"Flatten\", \"kargs\": {}},\n",
    "        {\"class\": \"Linear\", \"kargs\": {\"in_features\": 16000, \"out_features\": 256}},\n",
    "        {\"class\": \"ReLU\", \"kargs\": {\"inplace\": True}},\n",
    "        {\"class\": \"BatchNorm1d\", \"kargs\": {\"num_features\": 256}},\n",
    "        {\"class\": \"Linear\", \"kargs\": {\"in_features\": 256, \"out_features\": 256}},\n",
    "    ],\n",
    "    \"NUM_LOGS_PER_EPOCH\": 10,\n",
    "    \"BEST_MODEL_PATH\": \"./best_model.pth\",\n",
    "    \"n_way\": 16,\n",
    "    \"datasets\": [\n",
    "        {\n",
    "            \"labels\": [\n",
    "                \"1-10.\",\n",
    "                \"1-11.\",\n",
    "                \"1-15.\",\n",
    "                \"1-16.\",\n",
    "                \"1-17.\",\n",
    "                \"1-18.\",\n",
    "                \"1-19.\",\n",
    "                \"10-4.\",\n",
    "                \"10-7.\",\n",
    "                \"11-1.\",\n",
    "                \"11-14.\",\n",
    "                \"11-17.\",\n",
    "                \"11-20.\",\n",
    "                \"11-7.\",\n",
    "                \"13-20.\",\n",
    "                \"13-8.\",\n",
    "                \"14-10.\",\n",
    "                \"14-11.\",\n",
    "                \"14-14.\",\n",
    "                \"14-7.\",\n",
    "                \"15-1.\",\n",
    "                \"15-20.\",\n",
    "                \"16-1.\",\n",
    "                \"16-16.\",\n",
    "                \"17-10.\",\n",
    "                \"17-11.\",\n",
    "                \"17-2.\",\n",
    "                \"19-1.\",\n",
    "                \"19-16.\",\n",
    "                \"19-19.\",\n",
    "                \"19-20.\",\n",
    "                \"19-3.\",\n",
    "                \"2-10.\",\n",
    "                \"2-11.\",\n",
    "                \"2-17.\",\n",
    "                \"2-18.\",\n",
    "                \"2-20.\",\n",
    "                \"2-3.\",\n",
    "                \"2-4.\",\n",
    "                \"2-5.\",\n",
    "                \"2-6.\",\n",
    "                \"2-7.\",\n",
    "                \"2-8.\",\n",
    "                \"3-13.\",\n",
    "                \"3-18.\",\n",
    "                \"3-3.\",\n",
    "                \"4-1.\",\n",
    "                \"4-10.\",\n",
    "                \"4-11.\",\n",
    "                \"4-19.\",\n",
    "                \"5-5.\",\n",
    "                \"6-15.\",\n",
    "                \"7-10.\",\n",
    "                \"7-14.\",\n",
    "                \"8-18.\",\n",
    "                \"8-20.\",\n",
    "                \"8-3.\",\n",
    "                \"8-8.\",\n",
    "            ],\n",
    "            \"domains\": [1, 2, 3, 4, 5],\n",
    "            \"num_examples_per_domain_per_label\": -1,\n",
    "            \"pickle_path\": \"/mnt/wd500GB/CSC500/csc500-main/datasets/cores.stratified_ds.2022A.pkl\",\n",
    "            \"source_or_target_dataset\": \"target\",\n",
    "            \"x_transforms\": [\"unit_mag\", \"take_200\"],\n",
    "            \"episode_transforms\": [],\n",
    "            \"domain_prefix\": \"C_\",\n",
    "        },\n",
    "        {\n",
    "            \"labels\": [\n",
    "                \"1-10\",\n",
    "                \"1-12\",\n",
    "                \"1-14\",\n",
    "                \"1-16\",\n",
    "                \"1-18\",\n",
    "                \"1-19\",\n",
    "                \"1-8\",\n",
    "                \"10-11\",\n",
    "                \"10-17\",\n",
    "                \"10-4\",\n",
    "                \"10-7\",\n",
    "                \"11-1\",\n",
    "                \"11-10\",\n",
    "                \"11-19\",\n",
    "                \"11-20\",\n",
    "                \"11-4\",\n",
    "                \"11-7\",\n",
    "                \"12-19\",\n",
    "                \"12-20\",\n",
    "                \"12-7\",\n",
    "                \"13-14\",\n",
    "                \"13-18\",\n",
    "                \"13-19\",\n",
    "                \"13-20\",\n",
    "                \"13-3\",\n",
    "                \"13-7\",\n",
    "                \"14-10\",\n",
    "                \"14-11\",\n",
    "                \"14-12\",\n",
    "                \"14-13\",\n",
    "                \"14-14\",\n",
    "                \"14-19\",\n",
    "                \"14-20\",\n",
    "                \"14-7\",\n",
    "                \"14-8\",\n",
    "                \"14-9\",\n",
    "                \"15-1\",\n",
    "                \"15-19\",\n",
    "                \"15-6\",\n",
    "                \"16-1\",\n",
    "                \"16-16\",\n",
    "                \"16-19\",\n",
    "                \"16-20\",\n",
    "                \"17-10\",\n",
    "                \"17-11\",\n",
    "                \"18-1\",\n",
    "                \"18-10\",\n",
    "                \"18-11\",\n",
    "                \"18-12\",\n",
    "                \"18-13\",\n",
    "                \"18-14\",\n",
    "                \"18-15\",\n",
    "                \"18-16\",\n",
    "                \"18-17\",\n",
    "                \"18-19\",\n",
    "                \"18-2\",\n",
    "                \"18-20\",\n",
    "                \"18-4\",\n",
    "                \"18-5\",\n",
    "                \"18-7\",\n",
    "                \"18-8\",\n",
    "                \"18-9\",\n",
    "                \"19-1\",\n",
    "                \"19-10\",\n",
    "                \"19-11\",\n",
    "                \"19-12\",\n",
    "                \"19-13\",\n",
    "                \"19-14\",\n",
    "                \"19-15\",\n",
    "                \"19-19\",\n",
    "                \"19-2\",\n",
    "                \"19-20\",\n",
    "                \"19-3\",\n",
    "                \"19-4\",\n",
    "                \"19-6\",\n",
    "                \"19-7\",\n",
    "                \"19-8\",\n",
    "                \"19-9\",\n",
    "                \"2-1\",\n",
    "                \"2-13\",\n",
    "                \"2-15\",\n",
    "                \"2-3\",\n",
    "                \"2-4\",\n",
    "                \"2-5\",\n",
    "                \"2-6\",\n",
    "                \"2-7\",\n",
    "                \"2-8\",\n",
    "                \"20-1\",\n",
    "                \"20-12\",\n",
    "                \"20-14\",\n",
    "                \"20-15\",\n",
    "                \"20-16\",\n",
    "                \"20-18\",\n",
    "                \"20-19\",\n",
    "                \"20-20\",\n",
    "                \"20-3\",\n",
    "                \"20-4\",\n",
    "                \"20-5\",\n",
    "                \"20-7\",\n",
    "                \"20-8\",\n",
    "                \"3-1\",\n",
    "                \"3-13\",\n",
    "                \"3-18\",\n",
    "                \"3-2\",\n",
    "                \"3-8\",\n",
    "                \"4-1\",\n",
    "                \"4-10\",\n",
    "                \"4-11\",\n",
    "                \"5-1\",\n",
    "                \"5-5\",\n",
    "                \"6-1\",\n",
    "                \"6-15\",\n",
    "                \"6-6\",\n",
    "                \"7-10\",\n",
    "                \"7-11\",\n",
    "                \"7-12\",\n",
    "                \"7-13\",\n",
    "                \"7-14\",\n",
    "                \"7-7\",\n",
    "                \"7-8\",\n",
    "                \"7-9\",\n",
    "                \"8-1\",\n",
    "                \"8-13\",\n",
    "                \"8-14\",\n",
    "                \"8-18\",\n",
    "                \"8-20\",\n",
    "                \"8-3\",\n",
    "                \"8-8\",\n",
    "                \"9-1\",\n",
    "                \"9-7\",\n",
    "            ],\n",
    "            \"domains\": [1, 2, 3, 4],\n",
    "            \"num_examples_per_domain_per_label\": -1,\n",
    "            \"pickle_path\": \"/mnt/wd500GB/CSC500/csc500-main/datasets/wisig.node3-19.stratified_ds.2022A.pkl\",\n",
    "            \"source_or_target_dataset\": \"target\",\n",
    "            \"x_transforms\": [\"unit_mag\", \"take_200\"],\n",
    "            \"episode_transforms\": [],\n",
    "            \"domain_prefix\": \"W_\",\n",
    "        },\n",
    "        {\n",
    "            \"labels\": [\n",
    "                \"3123D52\",\n",
    "                \"3123D65\",\n",
    "                \"3123D79\",\n",
    "                \"3123D80\",\n",
    "                \"3123D54\",\n",
    "                \"3123D70\",\n",
    "                \"3123D7B\",\n",
    "                \"3123D89\",\n",
    "                \"3123D58\",\n",
    "                \"3123D76\",\n",
    "                \"3123D7D\",\n",
    "                \"3123EFE\",\n",
    "                \"3123D64\",\n",
    "                \"3123D78\",\n",
    "                \"3123D7E\",\n",
    "                \"3124E4A\",\n",
    "            ],\n",
    "            \"domains\": [32, 38, 8, 44, 14, 50, 20, 26],\n",
    "            \"num_examples_per_domain_per_label\": 2000,\n",
    "            \"pickle_path\": \"/mnt/wd500GB/CSC500/csc500-main/datasets/oracle.Run1_framed_2000Examples_stratified_ds.2022A.pkl\",\n",
    "            \"source_or_target_dataset\": \"source\",\n",
    "            \"x_transforms\": [\"unit_mag\", \"take_200\", \"resample_20Msps_to_25Msps\"],\n",
    "            \"episode_transforms\": [],\n",
    "            \"domain_prefix\": \"O_\",\n",
    "        },\n",
    "    ],\n",
    "    \"seed\": 1337,\n",
    "    \"dataset_seed\": 1337,\n",
    "}\n"
   ]
  },
  {
   "cell_type": "code",
   "execution_count": 5,
   "id": "8fa1cc33",
   "metadata": {
    "execution": {
     "iopub.execute_input": "2022-03-20T21:26:53.161141Z",
     "iopub.status.busy": "2022-03-20T21:26:53.160882Z",
     "iopub.status.idle": "2022-03-20T21:26:53.174543Z",
     "shell.execute_reply": "2022-03-20T21:26:53.174044Z"
    },
    "papermill": {
     "duration": 0.031151,
     "end_time": "2022-03-20T21:26:53.174646",
     "exception": false,
     "start_time": "2022-03-20T21:26:53.143495",
     "status": "completed"
    },
    "tags": []
   },
   "outputs": [],
   "source": [
    "# Set this to True if you want to run this template directly\n",
    "STANDALONE = False\n",
    "if STANDALONE:\n",
    "    print(\"parameters not injected, running with standalone_parameters\")\n",
    "    parameters = standalone_parameters\n",
    "\n",
    "if not 'parameters' in locals() and not 'parameters' in globals():\n",
    "    raise Exception(\"Parameter injection failed\")\n",
    "\n",
    "#Use an easy dict for all the parameters\n",
    "p = EasyDict(parameters)\n",
    "\n",
    "if \"x_shape\" not in p:\n",
    "    p.x_shape = [2,256] # Default to this if we dont supply x_shape\n",
    "\n",
    "\n",
    "supplied_keys = set(p.keys())\n",
    "\n",
    "if  supplied_keys != required_parameters:\n",
    "    print(\"Parameters are incorrect\")\n",
    "    if len(supplied_keys - required_parameters)>0: print(\"Shouldn't have:\", str(supplied_keys - required_parameters))\n",
    "    if len(required_parameters - supplied_keys)>0: print(\"Need to have:\", str(required_parameters - supplied_keys))\n",
    "    raise RuntimeError(\"Parameters are incorrect\")"
   ]
  },
  {
   "cell_type": "code",
   "execution_count": 6,
   "id": "3a028d58",
   "metadata": {
    "execution": {
     "iopub.execute_input": "2022-03-20T21:26:53.208326Z",
     "iopub.status.busy": "2022-03-20T21:26:53.208063Z",
     "iopub.status.idle": "2022-03-20T21:26:53.220311Z",
     "shell.execute_reply": "2022-03-20T21:26:53.219816Z"
    },
    "papermill": {
     "duration": 0.027069,
     "end_time": "2022-03-20T21:26:53.220414",
     "exception": false,
     "start_time": "2022-03-20T21:26:53.193345",
     "status": "completed"
    },
    "tags": []
   },
   "outputs": [],
   "source": [
    "###################################\n",
    "# Set the RNGs and make it all deterministic\n",
    "###################################\n",
    "np.random.seed(p.seed)\n",
    "random.seed(p.seed)\n",
    "torch.manual_seed(p.seed)\n",
    "\n",
    "torch.use_deterministic_algorithms(True) "
   ]
  },
  {
   "cell_type": "code",
   "execution_count": 7,
   "id": "b691acf6",
   "metadata": {
    "execution": {
     "iopub.execute_input": "2022-03-20T21:26:53.253098Z",
     "iopub.status.busy": "2022-03-20T21:26:53.252722Z",
     "iopub.status.idle": "2022-03-20T21:26:53.269725Z",
     "shell.execute_reply": "2022-03-20T21:26:53.269285Z"
    },
    "papermill": {
     "duration": 0.032408,
     "end_time": "2022-03-20T21:26:53.269829",
     "exception": false,
     "start_time": "2022-03-20T21:26:53.237421",
     "status": "completed"
    },
    "tags": []
   },
   "outputs": [],
   "source": [
    "###########################################\n",
    "# The stratified datasets honor this\n",
    "###########################################\n",
    "torch.set_default_dtype(eval(p.torch_default_dtype))"
   ]
  },
  {
   "cell_type": "code",
   "execution_count": 8,
   "id": "b5fba671",
   "metadata": {
    "execution": {
     "iopub.execute_input": "2022-03-20T21:26:53.303888Z",
     "iopub.status.busy": "2022-03-20T21:26:53.303501Z",
     "iopub.status.idle": "2022-03-20T21:26:53.341713Z",
     "shell.execute_reply": "2022-03-20T21:26:53.341200Z"
    },
    "papermill": {
     "duration": 0.053807,
     "end_time": "2022-03-20T21:26:53.341819",
     "exception": false,
     "start_time": "2022-03-20T21:26:53.288012",
     "status": "completed"
    },
    "tags": []
   },
   "outputs": [],
   "source": [
    "###################################\n",
    "# Build the network(s)\n",
    "# Note: It's critical to do this AFTER setting the RNG\n",
    "###################################\n",
    "x_net = build_sequential(p.x_net)"
   ]
  },
  {
   "cell_type": "code",
   "execution_count": 9,
   "id": "5d7e61cc",
   "metadata": {
    "execution": {
     "iopub.execute_input": "2022-03-20T21:26:53.378270Z",
     "iopub.status.busy": "2022-03-20T21:26:53.378002Z",
     "iopub.status.idle": "2022-03-20T21:26:53.394507Z",
     "shell.execute_reply": "2022-03-20T21:26:53.394028Z"
    },
    "papermill": {
     "duration": 0.032619,
     "end_time": "2022-03-20T21:26:53.394608",
     "exception": false,
     "start_time": "2022-03-20T21:26:53.361989",
     "status": "completed"
    },
    "tags": []
   },
   "outputs": [],
   "source": [
    "start_time_secs = time.time()"
   ]
  },
  {
   "cell_type": "code",
   "execution_count": 10,
   "id": "c6b67dfd",
   "metadata": {
    "execution": {
     "iopub.execute_input": "2022-03-20T21:26:53.430976Z",
     "iopub.status.busy": "2022-03-20T21:26:53.429240Z",
     "iopub.status.idle": "2022-03-20T21:26:53.447057Z",
     "shell.execute_reply": "2022-03-20T21:26:53.446622Z"
    },
    "papermill": {
     "duration": 0.03272,
     "end_time": "2022-03-20T21:26:53.447160",
     "exception": false,
     "start_time": "2022-03-20T21:26:53.414440",
     "status": "completed"
    },
    "tags": []
   },
   "outputs": [],
   "source": [
    "p.domains_source = []\n",
    "p.domains_target = []\n",
    "\n",
    "\n",
    "train_original_source = []\n",
    "val_original_source   = []\n",
    "test_original_source  = []\n",
    "\n",
    "train_original_target = []\n",
    "val_original_target   = []\n",
    "test_original_target  = []"
   ]
  },
  {
   "cell_type": "code",
   "execution_count": 11,
   "id": "e3d9c3d3",
   "metadata": {
    "execution": {
     "iopub.execute_input": "2022-03-20T21:26:53.481044Z",
     "iopub.status.busy": "2022-03-20T21:26:53.480787Z",
     "iopub.status.idle": "2022-03-20T21:26:53.495965Z",
     "shell.execute_reply": "2022-03-20T21:26:53.495472Z"
    },
    "papermill": {
     "duration": 0.030647,
     "end_time": "2022-03-20T21:26:53.496067",
     "exception": false,
     "start_time": "2022-03-20T21:26:53.465420",
     "status": "completed"
    },
    "tags": []
   },
   "outputs": [],
   "source": [
    "# global_x_transform_func = lambda x: normalize(x.to(torch.get_default_dtype()), \"unit_power\") # unit_power, unit_mag\n",
    "# global_x_transform_func = lambda x: normalize(x, \"unit_power\") # unit_power, unit_mag"
   ]
  },
  {
   "cell_type": "code",
   "execution_count": 12,
   "id": "acb78fd2",
   "metadata": {
    "execution": {
     "iopub.execute_input": "2022-03-20T21:26:53.533544Z",
     "iopub.status.busy": "2022-03-20T21:26:53.533272Z",
     "iopub.status.idle": "2022-03-20T21:26:53.545765Z",
     "shell.execute_reply": "2022-03-20T21:26:53.545338Z"
    },
    "papermill": {
     "duration": 0.030259,
     "end_time": "2022-03-20T21:26:53.545868",
     "exception": false,
     "start_time": "2022-03-20T21:26:53.515609",
     "status": "completed"
    },
    "tags": []
   },
   "outputs": [],
   "source": [
    "def add_dataset(\n",
    "    labels,\n",
    "    domains,\n",
    "    pickle_path,\n",
    "    x_transforms,\n",
    "    episode_transforms,\n",
    "    domain_prefix,\n",
    "    num_examples_per_domain_per_label,\n",
    "    source_or_target_dataset:str,\n",
    "    iterator_seed=p.seed,\n",
    "    dataset_seed=p.dataset_seed,\n",
    "    n_shot=p.n_shot,\n",
    "    n_way=p.n_way,\n",
    "    n_query=p.n_query,\n",
    "    train_val_test_k_factors=(p.train_k_factor,p.val_k_factor,p.test_k_factor),\n",
    "):\n",
    "   \n",
    "    if x_transforms == []: x_transform = None\n",
    "    else: x_transform = get_chained_transform(x_transforms)\n",
    "    \n",
    "    if episode_transforms == []: episode_transform = None\n",
    "    else: raise Exception(\"episode_transforms not implemented\")\n",
    "    \n",
    "    episode_transform = lambda tup, _prefix=domain_prefix: (_prefix + str(tup[0]), tup[1])\n",
    "\n",
    "\n",
    "    eaf = Episodic_Accessor_Factory(\n",
    "        labels=labels,\n",
    "        domains=domains,\n",
    "        num_examples_per_domain_per_label=num_examples_per_domain_per_label,\n",
    "        iterator_seed=iterator_seed,\n",
    "        dataset_seed=dataset_seed,\n",
    "        n_shot=n_shot,\n",
    "        n_way=n_way,\n",
    "        n_query=n_query,\n",
    "        train_val_test_k_factors=train_val_test_k_factors,\n",
    "        pickle_path=pickle_path,\n",
    "        x_transform_func=x_transform,\n",
    "    )\n",
    "\n",
    "    train, val, test = eaf.get_train(), eaf.get_val(), eaf.get_test()\n",
    "    train = Lazy_Iterable_Wrapper(train, episode_transform)\n",
    "    val = Lazy_Iterable_Wrapper(val, episode_transform)\n",
    "    test = Lazy_Iterable_Wrapper(test, episode_transform)\n",
    "\n",
    "    if source_or_target_dataset==\"source\":\n",
    "        train_original_source.append(train)\n",
    "        val_original_source.append(val)\n",
    "        test_original_source.append(test)\n",
    "\n",
    "        p.domains_source.extend(\n",
    "            [domain_prefix + str(u) for u in domains]\n",
    "        )\n",
    "    elif source_or_target_dataset==\"target\":\n",
    "        train_original_target.append(train)\n",
    "        val_original_target.append(val)\n",
    "        test_original_target.append(test)\n",
    "        p.domains_target.extend(\n",
    "            [domain_prefix + str(u) for u in domains]\n",
    "        )\n",
    "    else:\n",
    "        raise Exception(f\"invalid source_or_target_dataset: {source_or_target_dataset}\")\n",
    "    "
   ]
  },
  {
   "cell_type": "code",
   "execution_count": 13,
   "id": "fe266617",
   "metadata": {
    "execution": {
     "iopub.execute_input": "2022-03-20T21:26:53.579995Z",
     "iopub.status.busy": "2022-03-20T21:26:53.579577Z",
     "iopub.status.idle": "2022-03-20T21:28:01.273409Z",
     "shell.execute_reply": "2022-03-20T21:28:01.272878Z"
    },
    "papermill": {
     "duration": 67.708914,
     "end_time": "2022-03-20T21:28:01.273522",
     "exception": false,
     "start_time": "2022-03-20T21:26:53.564608",
     "status": "completed"
    },
    "tags": []
   },
   "outputs": [],
   "source": [
    "for ds in p.datasets:\n",
    "    add_dataset(**ds)"
   ]
  },
  {
   "cell_type": "code",
   "execution_count": 14,
   "id": "b90d65ac",
   "metadata": {
    "execution": {
     "iopub.execute_input": "2022-03-20T21:28:01.310680Z",
     "iopub.status.busy": "2022-03-20T21:28:01.310422Z",
     "iopub.status.idle": "2022-03-20T21:28:01.326389Z",
     "shell.execute_reply": "2022-03-20T21:28:01.325902Z"
    },
    "papermill": {
     "duration": 0.033735,
     "end_time": "2022-03-20T21:28:01.326491",
     "exception": false,
     "start_time": "2022-03-20T21:28:01.292756",
     "status": "completed"
    },
    "tags": []
   },
   "outputs": [],
   "source": [
    "# from steves_utils.CORES.utils import (\n",
    "#     ALL_NODES,\n",
    "#     ALL_NODES_MINIMUM_1000_EXAMPLES,\n",
    "#     ALL_DAYS\n",
    "# )\n",
    "\n",
    "# add_dataset(\n",
    "#     labels=ALL_NODES,\n",
    "#     domains = ALL_DAYS,\n",
    "#     num_examples_per_domain_per_label=100,\n",
    "#     pickle_path=os.path.join(get_datasets_base_path(), \"cores.stratified_ds.2022A.pkl\"),\n",
    "#     source_or_target_dataset=\"target\",\n",
    "#     x_transform_func=global_x_transform_func,\n",
    "#     domain_modifier=lambda u: f\"cores_{u}\"\n",
    "# )"
   ]
  },
  {
   "cell_type": "code",
   "execution_count": 15,
   "id": "76db484d",
   "metadata": {
    "execution": {
     "iopub.execute_input": "2022-03-20T21:28:01.360112Z",
     "iopub.status.busy": "2022-03-20T21:28:01.359852Z",
     "iopub.status.idle": "2022-03-20T21:28:01.371483Z",
     "shell.execute_reply": "2022-03-20T21:28:01.371143Z"
    },
    "papermill": {
     "duration": 0.026653,
     "end_time": "2022-03-20T21:28:01.371560",
     "exception": false,
     "start_time": "2022-03-20T21:28:01.344907",
     "status": "completed"
    },
    "tags": []
   },
   "outputs": [],
   "source": [
    "# from steves_utils.ORACLE.utils_v2 import (\n",
    "#     ALL_DISTANCES_FEET,\n",
    "#     ALL_RUNS,\n",
    "#     ALL_SERIAL_NUMBERS,\n",
    "# )\n",
    "\n",
    "\n",
    "# add_dataset(\n",
    "#     labels=ALL_SERIAL_NUMBERS,\n",
    "#     domains = list(set(ALL_DISTANCES_FEET) - {2,62}),\n",
    "#     num_examples_per_domain_per_label=100,\n",
    "#     pickle_path=os.path.join(get_datasets_base_path(), \"oracle.Run2_framed_2000Examples_stratified_ds.2022A.pkl\"),\n",
    "#     source_or_target_dataset=\"source\",\n",
    "#     x_transform_func=global_x_transform_func,\n",
    "#     domain_modifier=lambda u: f\"oracle1_{u}\"\n",
    "# )\n"
   ]
  },
  {
   "cell_type": "code",
   "execution_count": 16,
   "id": "97dea9d2",
   "metadata": {
    "execution": {
     "iopub.execute_input": "2022-03-20T21:28:01.403779Z",
     "iopub.status.busy": "2022-03-20T21:28:01.403518Z",
     "iopub.status.idle": "2022-03-20T21:28:01.417246Z",
     "shell.execute_reply": "2022-03-20T21:28:01.416839Z"
    },
    "papermill": {
     "duration": 0.029083,
     "end_time": "2022-03-20T21:28:01.417355",
     "exception": false,
     "start_time": "2022-03-20T21:28:01.388272",
     "status": "completed"
    },
    "tags": []
   },
   "outputs": [],
   "source": [
    "# from steves_utils.ORACLE.utils_v2 import (\n",
    "#     ALL_DISTANCES_FEET,\n",
    "#     ALL_RUNS,\n",
    "#     ALL_SERIAL_NUMBERS,\n",
    "# )\n",
    "\n",
    "\n",
    "# add_dataset(\n",
    "#     labels=ALL_SERIAL_NUMBERS,\n",
    "#     domains = list(set(ALL_DISTANCES_FEET) - {2,62,56}),\n",
    "#     num_examples_per_domain_per_label=100,\n",
    "#     pickle_path=os.path.join(get_datasets_base_path(), \"oracle.Run2_framed_2000Examples_stratified_ds.2022A.pkl\"),\n",
    "#     source_or_target_dataset=\"source\",\n",
    "#     x_transform_func=global_x_transform_func,\n",
    "#     domain_modifier=lambda u: f\"oracle2_{u}\"\n",
    "# )"
   ]
  },
  {
   "cell_type": "code",
   "execution_count": 17,
   "id": "6f289866",
   "metadata": {
    "execution": {
     "iopub.execute_input": "2022-03-20T21:28:01.453149Z",
     "iopub.status.busy": "2022-03-20T21:28:01.452897Z",
     "iopub.status.idle": "2022-03-20T21:28:01.467835Z",
     "shell.execute_reply": "2022-03-20T21:28:01.467426Z"
    },
    "papermill": {
     "duration": 0.030912,
     "end_time": "2022-03-20T21:28:01.467937",
     "exception": false,
     "start_time": "2022-03-20T21:28:01.437025",
     "status": "completed"
    },
    "tags": []
   },
   "outputs": [],
   "source": [
    "# add_dataset(\n",
    "#     labels=list(range(19)),\n",
    "#     domains = [0,1,2],\n",
    "#     num_examples_per_domain_per_label=100,\n",
    "#     pickle_path=os.path.join(get_datasets_base_path(), \"metehan.stratified_ds.2022A.pkl\"),\n",
    "#     source_or_target_dataset=\"target\",\n",
    "#     x_transform_func=global_x_transform_func,\n",
    "#     domain_modifier=lambda u: f\"met_{u}\"\n",
    "# )"
   ]
  },
  {
   "cell_type": "code",
   "execution_count": 18,
   "id": "86a863c3",
   "metadata": {
    "execution": {
     "iopub.execute_input": "2022-03-20T21:28:01.502637Z",
     "iopub.status.busy": "2022-03-20T21:28:01.502171Z",
     "iopub.status.idle": "2022-03-20T21:28:01.517327Z",
     "shell.execute_reply": "2022-03-20T21:28:01.516877Z"
    },
    "papermill": {
     "duration": 0.031553,
     "end_time": "2022-03-20T21:28:01.517435",
     "exception": false,
     "start_time": "2022-03-20T21:28:01.485882",
     "status": "completed"
    },
    "tags": []
   },
   "outputs": [],
   "source": [
    "# # from steves_utils.wisig.utils import (\n",
    "# #     ALL_NODES_MINIMUM_100_EXAMPLES,\n",
    "# #     ALL_NODES_MINIMUM_500_EXAMPLES,\n",
    "# #     ALL_NODES_MINIMUM_1000_EXAMPLES,\n",
    "# #     ALL_DAYS\n",
    "# # )\n",
    "\n",
    "# import steves_utils.wisig.utils as wisig\n",
    "\n",
    "\n",
    "# add_dataset(\n",
    "#     labels=wisig.ALL_NODES_MINIMUM_100_EXAMPLES,\n",
    "#     domains = wisig.ALL_DAYS,\n",
    "#     num_examples_per_domain_per_label=100,\n",
    "#     pickle_path=os.path.join(get_datasets_base_path(), \"wisig.node3-19.stratified_ds.2022A.pkl\"),\n",
    "#     source_or_target_dataset=\"target\",\n",
    "#     x_transform_func=global_x_transform_func,\n",
    "#     domain_modifier=lambda u: f\"wisig_{u}\"\n",
    "# )"
   ]
  },
  {
   "cell_type": "code",
   "execution_count": 19,
   "id": "fd5442bc",
   "metadata": {
    "execution": {
     "iopub.execute_input": "2022-03-20T21:28:01.557118Z",
     "iopub.status.busy": "2022-03-20T21:28:01.556265Z",
     "iopub.status.idle": "2022-03-20T21:28:01.570191Z",
     "shell.execute_reply": "2022-03-20T21:28:01.569780Z"
    },
    "papermill": {
     "duration": 0.033794,
     "end_time": "2022-03-20T21:28:01.570297",
     "exception": false,
     "start_time": "2022-03-20T21:28:01.536503",
     "status": "completed"
    },
    "tags": []
   },
   "outputs": [],
   "source": [
    "###################################\n",
    "# Build the dataset\n",
    "###################################\n",
    "train_original_source = Iterable_Aggregator(train_original_source, p.seed)\n",
    "val_original_source = Iterable_Aggregator(val_original_source, p.seed)\n",
    "test_original_source = Iterable_Aggregator(test_original_source, p.seed)\n",
    "\n",
    "\n",
    "train_original_target = Iterable_Aggregator(train_original_target, p.seed)\n",
    "val_original_target = Iterable_Aggregator(val_original_target, p.seed)\n",
    "test_original_target = Iterable_Aggregator(test_original_target, p.seed)\n",
    "\n",
    "# For CNN We only use X and Y. And we only train on the source.\n",
    "# Properly form the data using a transform lambda and Lazy_Iterable_Wrapper. Finally wrap them in a dataloader\n",
    "\n",
    "transform_lambda = lambda ex: ex[1] # Original is (<domain>, <episode>) so we strip down to episode only\n",
    "\n",
    "train_processed_source = Lazy_Iterable_Wrapper(train_original_source, transform_lambda)\n",
    "val_processed_source   = Lazy_Iterable_Wrapper(val_original_source, transform_lambda)\n",
    "test_processed_source  = Lazy_Iterable_Wrapper(test_original_source, transform_lambda)\n",
    "\n",
    "train_processed_target = Lazy_Iterable_Wrapper(train_original_target, transform_lambda)\n",
    "val_processed_target   = Lazy_Iterable_Wrapper(val_original_target, transform_lambda)\n",
    "test_processed_target  = Lazy_Iterable_Wrapper(test_original_target, transform_lambda)\n",
    "\n",
    "datasets = EasyDict({\n",
    "    \"source\": {\n",
    "        \"original\": {\"train\":train_original_source, \"val\":val_original_source, \"test\":test_original_source},\n",
    "        \"processed\": {\"train\":train_processed_source, \"val\":val_processed_source, \"test\":test_processed_source}\n",
    "    },\n",
    "    \"target\": {\n",
    "        \"original\": {\"train\":train_original_target, \"val\":val_original_target, \"test\":test_original_target},\n",
    "        \"processed\": {\"train\":train_processed_target, \"val\":val_processed_target, \"test\":test_processed_target}\n",
    "    },\n",
    "})"
   ]
  },
  {
   "cell_type": "code",
   "execution_count": 20,
   "id": "5b3c01fc",
   "metadata": {
    "execution": {
     "iopub.execute_input": "2022-03-20T21:28:01.606724Z",
     "iopub.status.busy": "2022-03-20T21:28:01.606459Z",
     "iopub.status.idle": "2022-03-20T21:28:10.350164Z",
     "shell.execute_reply": "2022-03-20T21:28:10.350497Z"
    },
    "papermill": {
     "duration": 8.76168,
     "end_time": "2022-03-20T21:28:10.350608",
     "exception": false,
     "start_time": "2022-03-20T21:28:01.588928",
     "status": "completed"
    },
    "tags": []
   },
   "outputs": [
    {
     "name": "stdout",
     "output_type": "stream",
     "text": [
      "{'O_50', 'O_8', 'O_44', 'O_32', 'O_26', 'O_20', 'O_38', 'O_14'}\n"
     ]
    },
    {
     "name": "stdout",
     "output_type": "stream",
     "text": [
      "{'W_4', 'W_3', 'C_4', 'C_2', 'C_3', 'C_5', 'W_2', 'W_1', 'C_1'}\n"
     ]
    },
    {
     "name": "stdout",
     "output_type": "stream",
     "text": [
      "tensor([[[-0.0971,  1.1311,  0.6428,  ...,  0.6900,  0.5495,  0.7515],\n",
      "         [-0.6699, -0.6023,  0.7298,  ..., -0.1188,  1.1722,  0.1223]],\n",
      "\n",
      "        [[-0.4650,  0.4729,  0.8381,  ...,  1.1898,  0.5315,  0.0195],\n",
      "         [-1.1721, -0.8223,  0.9095,  ..., -0.4716, -0.6551, -1.4318]],\n",
      "\n",
      "        [[ 0.6704, -0.0551, -0.9197,  ..., -0.8651, -0.9602, -0.1043],\n",
      "         [ 0.8524,  1.1014, -0.5470,  ...,  0.4879,  0.2662,  1.2135]],\n",
      "\n",
      "        ...,\n",
      "\n",
      "        [[ 1.0094,  0.2418, -1.2327,  ..., -0.7204, -0.1579,  0.9442],\n",
      "         [ 0.5694,  0.9394, -0.0507,  ...,  1.0085,  0.7567,  1.0278]],\n",
      "\n",
      "        [[ 0.0259, -1.0459, -0.2935,  ..., -0.8818, -0.8675, -0.9829],\n",
      "         [ 0.8104,  0.8015, -0.7676,  ..., -0.1278, -0.7103,  0.6759]],\n",
      "\n",
      "        [[ 0.4981,  0.4795, -0.3590,  ...,  0.5028, -1.2225, -0.6749],\n",
      "         [-0.4260,  0.9681,  0.7596,  ...,  0.6907,  0.2936,  0.4766]]])\n"
     ]
    }
   ],
   "source": [
    "from steves_utils.transforms import get_average_magnitude, get_average_power\n",
    "\n",
    "print(set([u for u,_ in val_original_source]))\n",
    "print(set([u for u,_ in val_original_target]))\n",
    "\n",
    "s_x, s_y, q_x, q_y, _ = next(iter(train_processed_source))\n",
    "print(s_x)\n",
    "\n",
    "# for ds in [\n",
    "#     train_processed_source,\n",
    "#     val_processed_source,\n",
    "#     test_processed_source,\n",
    "#     train_processed_target,\n",
    "#     val_processed_target,\n",
    "#     test_processed_target\n",
    "# ]:\n",
    "#     for s_x, s_y, q_x, q_y, _ in ds:\n",
    "#         for X in (s_x, q_x):\n",
    "#             for x in X:\n",
    "#                 assert np.isclose(get_average_magnitude(x.numpy()), 1.0)\n",
    "#                 assert np.isclose(get_average_power(x.numpy()), 1.0)\n",
    "                "
   ]
  },
  {
   "cell_type": "code",
   "execution_count": 21,
   "id": "bbdacba1",
   "metadata": {
    "execution": {
     "iopub.execute_input": "2022-03-20T21:28:10.388613Z",
     "iopub.status.busy": "2022-03-20T21:28:10.388352Z",
     "iopub.status.idle": "2022-03-20T21:28:10.437368Z",
     "shell.execute_reply": "2022-03-20T21:28:10.436930Z"
    },
    "papermill": {
     "duration": 0.066414,
     "end_time": "2022-03-20T21:28:10.437480",
     "exception": false,
     "start_time": "2022-03-20T21:28:10.371066",
     "status": "completed"
    },
    "tags": []
   },
   "outputs": [
    {
     "name": "stdout",
     "output_type": "stream",
     "text": [
      "(2, 200)\n"
     ]
    }
   ],
   "source": [
    "###################################\n",
    "# Build the model\n",
    "###################################\n",
    "# easfsl only wants a tuple for the shape\n",
    "model = Steves_Prototypical_Network(x_net, device=p.device, x_shape=tuple(p.x_shape))\n",
    "optimizer = Adam(params=model.parameters(), lr=p.lr)"
   ]
  },
  {
   "cell_type": "code",
   "execution_count": 22,
   "id": "22b39ac5",
   "metadata": {
    "execution": {
     "iopub.execute_input": "2022-03-20T21:28:10.476749Z",
     "iopub.status.busy": "2022-03-20T21:28:10.476478Z",
     "iopub.status.idle": "2022-03-20T22:12:29.727563Z",
     "shell.execute_reply": "2022-03-20T22:12:29.727327Z"
    },
    "papermill": {
     "duration": 2659.269562,
     "end_time": "2022-03-20T22:12:29.727621",
     "exception": false,
     "start_time": "2022-03-20T21:28:10.458059",
     "status": "completed"
    },
    "tags": []
   },
   "outputs": [
    {
     "name": "stdout",
     "output_type": "stream",
     "text": [
      "epoch: 1, [batch: 1 / 6720], examples_per_second: 46.3796, train_label_loss: 2.9812, \n"
     ]
    },
    {
     "name": "stdout",
     "output_type": "stream",
     "text": [
      "epoch: 1, [batch: 672 / 6720], examples_per_second: 3726.8474, train_label_loss: 1.1892, \n"
     ]
    },
    {
     "name": "stdout",
     "output_type": "stream",
     "text": [
      "epoch: 1, [batch: 1344 / 6720], examples_per_second: 3733.6622, train_label_loss: 0.7928, \n"
     ]
    },
    {
     "name": "stdout",
     "output_type": "stream",
     "text": [
      "epoch: 1, [batch: 2016 / 6720], examples_per_second: 3760.2393, train_label_loss: 0.7082, \n"
     ]
    },
    {
     "name": "stdout",
     "output_type": "stream",
     "text": [
      "epoch: 1, [batch: 2688 / 6720], examples_per_second: 3726.2828, train_label_loss: 1.1419, \n"
     ]
    },
    {
     "name": "stdout",
     "output_type": "stream",
     "text": [
      "epoch: 1, [batch: 3360 / 6720], examples_per_second: 3718.4233, train_label_loss: 0.9640, \n"
     ]
    },
    {
     "name": "stdout",
     "output_type": "stream",
     "text": [
      "epoch: 1, [batch: 4032 / 6720], examples_per_second: 3719.3470, train_label_loss: 1.1968, \n"
     ]
    },
    {
     "name": "stdout",
     "output_type": "stream",
     "text": [
      "epoch: 1, [batch: 4704 / 6720], examples_per_second: 3714.9275, train_label_loss: 0.6542, \n"
     ]
    },
    {
     "name": "stdout",
     "output_type": "stream",
     "text": [
      "epoch: 1, [batch: 5376 / 6720], examples_per_second: 3694.5021, train_label_loss: 0.8519, \n"
     ]
    },
    {
     "name": "stdout",
     "output_type": "stream",
     "text": [
      "epoch: 1, [batch: 6048 / 6720], examples_per_second: 3716.9100, train_label_loss: 0.6168, \n"
     ]
    },
    {
     "name": "stdout",
     "output_type": "stream",
     "text": [
      "=============================================================\n",
      "epoch: 1, source_val_acc_label: 0.5545, target_val_acc_label: 0.4705, source_val_label_loss: 48.3408, target_val_label_loss: 1975.7240, \n",
      "=============================================================\n"
     ]
    },
    {
     "name": "stdout",
     "output_type": "stream",
     "text": [
      "New best\n"
     ]
    },
    {
     "name": "stdout",
     "output_type": "stream",
     "text": [
      "epoch: 2, [batch: 1 / 6720], examples_per_second: 4.4115, train_label_loss: 49.4733, \n"
     ]
    },
    {
     "name": "stdout",
     "output_type": "stream",
     "text": [
      "epoch: 2, [batch: 672 / 6720], examples_per_second: 3687.8563, train_label_loss: 0.7143, \n"
     ]
    },
    {
     "name": "stdout",
     "output_type": "stream",
     "text": [
      "epoch: 2, [batch: 1344 / 6720], examples_per_second: 3702.9756, train_label_loss: 0.6015, \n"
     ]
    },
    {
     "name": "stdout",
     "output_type": "stream",
     "text": [
      "epoch: 2, [batch: 2016 / 6720], examples_per_second: 3712.8554, train_label_loss: 1.1883, \n"
     ]
    },
    {
     "name": "stdout",
     "output_type": "stream",
     "text": [
      "epoch: 2, [batch: 2688 / 6720], examples_per_second: 3731.4850, train_label_loss: 0.9719, \n"
     ]
    },
    {
     "name": "stdout",
     "output_type": "stream",
     "text": [
      "epoch: 2, [batch: 3360 / 6720], examples_per_second: 3757.0734, train_label_loss: 0.6031, \n"
     ]
    },
    {
     "name": "stdout",
     "output_type": "stream",
     "text": [
      "epoch: 2, [batch: 4032 / 6720], examples_per_second: 3745.3478, train_label_loss: 0.5761, \n"
     ]
    },
    {
     "name": "stdout",
     "output_type": "stream",
     "text": [
      "epoch: 2, [batch: 4704 / 6720], examples_per_second: 3735.3396, train_label_loss: 0.9056, \n"
     ]
    },
    {
     "name": "stdout",
     "output_type": "stream",
     "text": [
      "epoch: 2, [batch: 5376 / 6720], examples_per_second: 3740.6736, train_label_loss: 1.0630, \n"
     ]
    },
    {
     "name": "stdout",
     "output_type": "stream",
     "text": [
      "epoch: 2, [batch: 6048 / 6720], examples_per_second: 3744.1877, train_label_loss: 0.5537, \n"
     ]
    },
    {
     "name": "stdout",
     "output_type": "stream",
     "text": [
      "=============================================================\n",
      "epoch: 2, source_val_acc_label: 0.7488, target_val_acc_label: 0.5164, source_val_label_loss: 0.6938, target_val_label_loss: 253.6465, \n",
      "=============================================================\n"
     ]
    },
    {
     "name": "stdout",
     "output_type": "stream",
     "text": [
      "New best\n"
     ]
    },
    {
     "name": "stdout",
     "output_type": "stream",
     "text": [
      "epoch: 3, [batch: 1 / 6720], examples_per_second: 4.3802, train_label_loss: 0.8828, \n"
     ]
    },
    {
     "name": "stdout",
     "output_type": "stream",
     "text": [
      "epoch: 3, [batch: 672 / 6720], examples_per_second: 3719.4428, train_label_loss: 0.3471, \n"
     ]
    },
    {
     "name": "stdout",
     "output_type": "stream",
     "text": [
      "epoch: 3, [batch: 1344 / 6720], examples_per_second: 3731.9608, train_label_loss: 0.4750, \n"
     ]
    },
    {
     "name": "stdout",
     "output_type": "stream",
     "text": [
      "epoch: 3, [batch: 2016 / 6720], examples_per_second: 3722.6227, train_label_loss: 0.4385, \n"
     ]
    },
    {
     "name": "stdout",
     "output_type": "stream",
     "text": [
      "epoch: 3, [batch: 2688 / 6720], examples_per_second: 3728.5213, train_label_loss: 0.5649, \n"
     ]
    },
    {
     "name": "stdout",
     "output_type": "stream",
     "text": [
      "epoch: 3, [batch: 3360 / 6720], examples_per_second: 3733.1783, train_label_loss: 0.9727, \n"
     ]
    },
    {
     "name": "stdout",
     "output_type": "stream",
     "text": [
      "epoch: 3, [batch: 4032 / 6720], examples_per_second: 3741.2576, train_label_loss: 0.9132, \n"
     ]
    },
    {
     "name": "stdout",
     "output_type": "stream",
     "text": [
      "epoch: 3, [batch: 4704 / 6720], examples_per_second: 3724.8432, train_label_loss: 0.5259, \n"
     ]
    },
    {
     "name": "stdout",
     "output_type": "stream",
     "text": [
      "epoch: 3, [batch: 5376 / 6720], examples_per_second: 3738.4056, train_label_loss: 0.3339, \n"
     ]
    },
    {
     "name": "stdout",
     "output_type": "stream",
     "text": [
      "epoch: 3, [batch: 6048 / 6720], examples_per_second: 3738.7849, train_label_loss: 0.3147, \n"
     ]
    },
    {
     "name": "stdout",
     "output_type": "stream",
     "text": [
      "=============================================================\n",
      "epoch: 3, source_val_acc_label: 0.7405, target_val_acc_label: 0.5367, source_val_label_loss: 0.7012, target_val_label_loss: 263.2173, \n",
      "=============================================================\n"
     ]
    },
    {
     "name": "stdout",
     "output_type": "stream",
     "text": [
      "New best\n"
     ]
    },
    {
     "name": "stdout",
     "output_type": "stream",
     "text": [
      "epoch: 4, [batch: 1 / 6720], examples_per_second: 4.3919, train_label_loss: 0.3867, \n"
     ]
    },
    {
     "name": "stdout",
     "output_type": "stream",
     "text": [
      "epoch: 4, [batch: 672 / 6720], examples_per_second: 3720.2713, train_label_loss: 0.2783, \n"
     ]
    },
    {
     "name": "stdout",
     "output_type": "stream",
     "text": [
      "epoch: 4, [batch: 1344 / 6720], examples_per_second: 3740.6206, train_label_loss: 1.0177, \n"
     ]
    },
    {
     "name": "stdout",
     "output_type": "stream",
     "text": [
      "epoch: 4, [batch: 2016 / 6720], examples_per_second: 3722.6196, train_label_loss: 0.9228, \n"
     ]
    },
    {
     "name": "stdout",
     "output_type": "stream",
     "text": [
      "epoch: 4, [batch: 2688 / 6720], examples_per_second: 3683.3482, train_label_loss: 0.5923, \n"
     ]
    },
    {
     "name": "stdout",
     "output_type": "stream",
     "text": [
      "epoch: 4, [batch: 3360 / 6720], examples_per_second: 3714.9127, train_label_loss: 0.4379, \n"
     ]
    },
    {
     "name": "stdout",
     "output_type": "stream",
     "text": [
      "epoch: 4, [batch: 4032 / 6720], examples_per_second: 3735.1890, train_label_loss: 0.9015, \n"
     ]
    },
    {
     "name": "stdout",
     "output_type": "stream",
     "text": [
      "epoch: 4, [batch: 4704 / 6720], examples_per_second: 3714.0776, train_label_loss: 0.4708, \n"
     ]
    },
    {
     "name": "stdout",
     "output_type": "stream",
     "text": [
      "epoch: 4, [batch: 5376 / 6720], examples_per_second: 3739.6328, train_label_loss: 0.7968, \n"
     ]
    },
    {
     "name": "stdout",
     "output_type": "stream",
     "text": [
      "epoch: 4, [batch: 6048 / 6720], examples_per_second: 3734.7892, train_label_loss: 0.3080, \n"
     ]
    },
    {
     "name": "stdout",
     "output_type": "stream",
     "text": [
      "=============================================================\n",
      "epoch: 4, source_val_acc_label: 0.7686, target_val_acc_label: 0.5399, source_val_label_loss: 0.6221, target_val_label_loss: 288.4953, \n",
      "=============================================================\n"
     ]
    },
    {
     "name": "stdout",
     "output_type": "stream",
     "text": [
      "New best\n"
     ]
    },
    {
     "name": "stdout",
     "output_type": "stream",
     "text": [
      "epoch: 5, [batch: 1 / 6720], examples_per_second: 4.3894, train_label_loss: 0.2852, \n"
     ]
    },
    {
     "name": "stdout",
     "output_type": "stream",
     "text": [
      "epoch: 5, [batch: 672 / 6720], examples_per_second: 3715.1856, train_label_loss: 0.4942, \n"
     ]
    },
    {
     "name": "stdout",
     "output_type": "stream",
     "text": [
      "epoch: 5, [batch: 1344 / 6720], examples_per_second: 3748.2458, train_label_loss: 0.6429, \n"
     ]
    },
    {
     "name": "stdout",
     "output_type": "stream",
     "text": [
      "epoch: 5, [batch: 2016 / 6720], examples_per_second: 3714.4740, train_label_loss: 0.9971, \n"
     ]
    },
    {
     "name": "stdout",
     "output_type": "stream",
     "text": [
      "epoch: 5, [batch: 2688 / 6720], examples_per_second: 3697.0788, train_label_loss: 0.5163, \n"
     ]
    },
    {
     "name": "stdout",
     "output_type": "stream",
     "text": [
      "epoch: 5, [batch: 3360 / 6720], examples_per_second: 3720.0154, train_label_loss: 0.2493, \n"
     ]
    },
    {
     "name": "stdout",
     "output_type": "stream",
     "text": [
      "epoch: 5, [batch: 4032 / 6720], examples_per_second: 3741.8127, train_label_loss: 0.2509, \n"
     ]
    },
    {
     "name": "stdout",
     "output_type": "stream",
     "text": [
      "epoch: 5, [batch: 4704 / 6720], examples_per_second: 3722.8134, train_label_loss: 0.2082, \n"
     ]
    },
    {
     "name": "stdout",
     "output_type": "stream",
     "text": [
      "epoch: 5, [batch: 5376 / 6720], examples_per_second: 3726.7015, train_label_loss: 0.6503, \n"
     ]
    },
    {
     "name": "stdout",
     "output_type": "stream",
     "text": [
      "epoch: 5, [batch: 6048 / 6720], examples_per_second: 3731.3989, train_label_loss: 0.3923, \n"
     ]
    },
    {
     "name": "stdout",
     "output_type": "stream",
     "text": [
      "=============================================================\n",
      "epoch: 5, source_val_acc_label: 0.8306, target_val_acc_label: 0.5865, source_val_label_loss: 0.4692, target_val_label_loss: 280.0177, \n",
      "=============================================================\n"
     ]
    },
    {
     "name": "stdout",
     "output_type": "stream",
     "text": [
      "New best\n"
     ]
    },
    {
     "name": "stdout",
     "output_type": "stream",
     "text": [
      "epoch: 6, [batch: 1 / 6720], examples_per_second: 4.3653, train_label_loss: 0.2442, \n"
     ]
    },
    {
     "name": "stdout",
     "output_type": "stream",
     "text": [
      "epoch: 6, [batch: 672 / 6720], examples_per_second: 3744.1287, train_label_loss: 0.7842, \n"
     ]
    },
    {
     "name": "stdout",
     "output_type": "stream",
     "text": [
      "epoch: 6, [batch: 1344 / 6720], examples_per_second: 3731.6665, train_label_loss: 0.7669, \n"
     ]
    },
    {
     "name": "stdout",
     "output_type": "stream",
     "text": [
      "epoch: 6, [batch: 2016 / 6720], examples_per_second: 3742.9908, train_label_loss: 0.3794, \n"
     ]
    },
    {
     "name": "stdout",
     "output_type": "stream",
     "text": [
      "epoch: 6, [batch: 2688 / 6720], examples_per_second: 3727.1135, train_label_loss: 0.1402, \n"
     ]
    },
    {
     "name": "stdout",
     "output_type": "stream",
     "text": [
      "epoch: 6, [batch: 3360 / 6720], examples_per_second: 3728.9725, train_label_loss: 0.1924, \n"
     ]
    },
    {
     "name": "stdout",
     "output_type": "stream",
     "text": [
      "epoch: 6, [batch: 4032 / 6720], examples_per_second: 3732.1153, train_label_loss: 0.5094, \n"
     ]
    },
    {
     "name": "stdout",
     "output_type": "stream",
     "text": [
      "epoch: 6, [batch: 4704 / 6720], examples_per_second: 3717.6386, train_label_loss: 0.4992, \n"
     ]
    },
    {
     "name": "stdout",
     "output_type": "stream",
     "text": [
      "epoch: 6, [batch: 5376 / 6720], examples_per_second: 3726.5394, train_label_loss: 0.3244, \n"
     ]
    },
    {
     "name": "stdout",
     "output_type": "stream",
     "text": [
      "epoch: 6, [batch: 6048 / 6720], examples_per_second: 3742.4967, train_label_loss: 0.2194, \n"
     ]
    },
    {
     "name": "stdout",
     "output_type": "stream",
     "text": [
      "=============================================================\n",
      "epoch: 6, source_val_acc_label: 0.8359, target_val_acc_label: 0.5720, source_val_label_loss: 0.4490, target_val_label_loss: 308.3651, \n",
      "=============================================================\n"
     ]
    },
    {
     "name": "stdout",
     "output_type": "stream",
     "text": [
      "epoch: 7, [batch: 1 / 6720], examples_per_second: 4.3814, train_label_loss: 0.1439, \n"
     ]
    },
    {
     "name": "stdout",
     "output_type": "stream",
     "text": [
      "epoch: 7, [batch: 672 / 6720], examples_per_second: 3721.0422, train_label_loss: 0.6962, \n"
     ]
    },
    {
     "name": "stdout",
     "output_type": "stream",
     "text": [
      "epoch: 7, [batch: 1344 / 6720], examples_per_second: 3713.9987, train_label_loss: 0.2965, \n"
     ]
    },
    {
     "name": "stdout",
     "output_type": "stream",
     "text": [
      "epoch: 7, [batch: 2016 / 6720], examples_per_second: 3724.4146, train_label_loss: 0.5334, \n"
     ]
    },
    {
     "name": "stdout",
     "output_type": "stream",
     "text": [
      "epoch: 7, [batch: 2688 / 6720], examples_per_second: 3696.7130, train_label_loss: 0.4328, \n"
     ]
    },
    {
     "name": "stdout",
     "output_type": "stream",
     "text": [
      "epoch: 7, [batch: 3360 / 6720], examples_per_second: 3706.6635, train_label_loss: 0.8718, \n"
     ]
    },
    {
     "name": "stdout",
     "output_type": "stream",
     "text": [
      "epoch: 7, [batch: 4032 / 6720], examples_per_second: 3726.0179, train_label_loss: 0.1753, \n"
     ]
    },
    {
     "name": "stdout",
     "output_type": "stream",
     "text": [
      "epoch: 7, [batch: 4704 / 6720], examples_per_second: 3733.0395, train_label_loss: 0.5371, \n"
     ]
    },
    {
     "name": "stdout",
     "output_type": "stream",
     "text": [
      "epoch: 7, [batch: 5376 / 6720], examples_per_second: 3704.4413, train_label_loss: 0.1913, \n"
     ]
    },
    {
     "name": "stdout",
     "output_type": "stream",
     "text": [
      "epoch: 7, [batch: 6048 / 6720], examples_per_second: 3736.3389, train_label_loss: 0.2508, \n"
     ]
    },
    {
     "name": "stdout",
     "output_type": "stream",
     "text": [
      "=============================================================\n",
      "epoch: 7, source_val_acc_label: 0.8224, target_val_acc_label: 0.6200, source_val_label_loss: 0.4807, target_val_label_loss: 287.0220, \n",
      "=============================================================\n"
     ]
    },
    {
     "name": "stdout",
     "output_type": "stream",
     "text": [
      "New best\n"
     ]
    },
    {
     "name": "stdout",
     "output_type": "stream",
     "text": [
      "epoch: 8, [batch: 1 / 6720], examples_per_second: 4.4400, train_label_loss: 0.6029, \n"
     ]
    },
    {
     "name": "stdout",
     "output_type": "stream",
     "text": [
      "epoch: 8, [batch: 672 / 6720], examples_per_second: 3739.4628, train_label_loss: 0.6063, \n"
     ]
    },
    {
     "name": "stdout",
     "output_type": "stream",
     "text": [
      "epoch: 8, [batch: 1344 / 6720], examples_per_second: 3756.8818, train_label_loss: 0.4611, \n"
     ]
    },
    {
     "name": "stdout",
     "output_type": "stream",
     "text": [
      "epoch: 8, [batch: 2016 / 6720], examples_per_second: 3741.6820, train_label_loss: 0.1794, \n"
     ]
    },
    {
     "name": "stdout",
     "output_type": "stream",
     "text": [
      "epoch: 8, [batch: 2688 / 6720], examples_per_second: 3729.2257, train_label_loss: 0.2278, \n"
     ]
    },
    {
     "name": "stdout",
     "output_type": "stream",
     "text": [
      "epoch: 8, [batch: 3360 / 6720], examples_per_second: 3738.7892, train_label_loss: 0.4225, \n"
     ]
    },
    {
     "name": "stdout",
     "output_type": "stream",
     "text": [
      "epoch: 8, [batch: 4032 / 6720], examples_per_second: 3733.5022, train_label_loss: 0.5433, \n"
     ]
    },
    {
     "name": "stdout",
     "output_type": "stream",
     "text": [
      "epoch: 8, [batch: 4704 / 6720], examples_per_second: 3731.6756, train_label_loss: 0.2579, \n"
     ]
    },
    {
     "name": "stdout",
     "output_type": "stream",
     "text": [
      "epoch: 8, [batch: 5376 / 6720], examples_per_second: 3742.2253, train_label_loss: 0.3915, \n"
     ]
    },
    {
     "name": "stdout",
     "output_type": "stream",
     "text": [
      "epoch: 8, [batch: 6048 / 6720], examples_per_second: 3729.4111, train_label_loss: 0.3148, \n"
     ]
    },
    {
     "name": "stdout",
     "output_type": "stream",
     "text": [
      "=============================================================\n",
      "epoch: 8, source_val_acc_label: 0.8610, target_val_acc_label: 0.6166, source_val_label_loss: 0.3783, target_val_label_loss: 331.9059, \n",
      "=============================================================\n"
     ]
    },
    {
     "name": "stdout",
     "output_type": "stream",
     "text": [
      "epoch: 9, [batch: 1 / 6720], examples_per_second: 4.3834, train_label_loss: 0.1770, \n"
     ]
    },
    {
     "name": "stdout",
     "output_type": "stream",
     "text": [
      "epoch: 9, [batch: 672 / 6720], examples_per_second: 3703.9801, train_label_loss: 0.5537, \n"
     ]
    },
    {
     "name": "stdout",
     "output_type": "stream",
     "text": [
      "epoch: 9, [batch: 1344 / 6720], examples_per_second: 3728.5910, train_label_loss: 0.5232, \n"
     ]
    },
    {
     "name": "stdout",
     "output_type": "stream",
     "text": [
      "epoch: 9, [batch: 2016 / 6720], examples_per_second: 3735.3314, train_label_loss: 0.3535, \n"
     ]
    },
    {
     "name": "stdout",
     "output_type": "stream",
     "text": [
      "epoch: 9, [batch: 2688 / 6720], examples_per_second: 3732.7965, train_label_loss: 0.1637, \n"
     ]
    },
    {
     "name": "stdout",
     "output_type": "stream",
     "text": [
      "epoch: 9, [batch: 3360 / 6720], examples_per_second: 3744.0684, train_label_loss: 0.6896, \n"
     ]
    },
    {
     "name": "stdout",
     "output_type": "stream",
     "text": [
      "epoch: 9, [batch: 4032 / 6720], examples_per_second: 3740.9178, train_label_loss: 0.8351, \n"
     ]
    },
    {
     "name": "stdout",
     "output_type": "stream",
     "text": [
      "epoch: 9, [batch: 4704 / 6720], examples_per_second: 3724.1637, train_label_loss: 0.1929, \n"
     ]
    },
    {
     "name": "stdout",
     "output_type": "stream",
     "text": [
      "epoch: 9, [batch: 5376 / 6720], examples_per_second: 3745.4341, train_label_loss: 0.1268, \n"
     ]
    },
    {
     "name": "stdout",
     "output_type": "stream",
     "text": [
      "epoch: 9, [batch: 6048 / 6720], examples_per_second: 3751.1898, train_label_loss: 0.2082, \n"
     ]
    },
    {
     "name": "stdout",
     "output_type": "stream",
     "text": [
      "=============================================================\n",
      "epoch: 9, source_val_acc_label: 0.8609, target_val_acc_label: 0.6186, source_val_label_loss: 0.3877, target_val_label_loss: 387.0669, \n",
      "=============================================================\n"
     ]
    },
    {
     "name": "stdout",
     "output_type": "stream",
     "text": [
      "epoch: 10, [batch: 1 / 6720], examples_per_second: 4.3888, train_label_loss: 0.3908, \n"
     ]
    },
    {
     "name": "stdout",
     "output_type": "stream",
     "text": [
      "epoch: 10, [batch: 672 / 6720], examples_per_second: 3716.9973, train_label_loss: 0.1831, \n"
     ]
    },
    {
     "name": "stdout",
     "output_type": "stream",
     "text": [
      "epoch: 10, [batch: 1344 / 6720], examples_per_second: 3713.6430, train_label_loss: 0.3468, \n"
     ]
    },
    {
     "name": "stdout",
     "output_type": "stream",
     "text": [
      "epoch: 10, [batch: 2016 / 6720], examples_per_second: 3738.1008, train_label_loss: 0.0212, \n"
     ]
    },
    {
     "name": "stdout",
     "output_type": "stream",
     "text": [
      "epoch: 10, [batch: 2688 / 6720], examples_per_second: 3722.6558, train_label_loss: 0.5117, \n"
     ]
    },
    {
     "name": "stdout",
     "output_type": "stream",
     "text": [
      "epoch: 10, [batch: 3360 / 6720], examples_per_second: 3760.1835, train_label_loss: 0.0931, \n"
     ]
    },
    {
     "name": "stdout",
     "output_type": "stream",
     "text": [
      "epoch: 10, [batch: 4032 / 6720], examples_per_second: 3714.1687, train_label_loss: 0.5158, \n"
     ]
    },
    {
     "name": "stdout",
     "output_type": "stream",
     "text": [
      "epoch: 10, [batch: 4704 / 6720], examples_per_second: 3706.9010, train_label_loss: 0.6328, \n"
     ]
    },
    {
     "name": "stdout",
     "output_type": "stream",
     "text": [
      "epoch: 10, [batch: 5376 / 6720], examples_per_second: 3734.0946, train_label_loss: 0.3968, \n"
     ]
    },
    {
     "name": "stdout",
     "output_type": "stream",
     "text": [
      "epoch: 10, [batch: 6048 / 6720], examples_per_second: 3744.0881, train_label_loss: 0.0850, \n"
     ]
    },
    {
     "name": "stdout",
     "output_type": "stream",
     "text": [
      "=============================================================\n",
      "epoch: 10, source_val_acc_label: 0.8732, target_val_acc_label: 0.6208, source_val_label_loss: 0.3488, target_val_label_loss: 434.0319, \n",
      "=============================================================\n"
     ]
    },
    {
     "name": "stdout",
     "output_type": "stream",
     "text": [
      "New best\n"
     ]
    },
    {
     "name": "stdout",
     "output_type": "stream",
     "text": [
      "epoch: 11, [batch: 1 / 6720], examples_per_second: 4.3821, train_label_loss: 0.3401, \n"
     ]
    },
    {
     "name": "stdout",
     "output_type": "stream",
     "text": [
      "epoch: 11, [batch: 672 / 6720], examples_per_second: 3714.1944, train_label_loss: 0.2668, \n"
     ]
    },
    {
     "name": "stdout",
     "output_type": "stream",
     "text": [
      "epoch: 11, [batch: 1344 / 6720], examples_per_second: 3751.4537, train_label_loss: 0.3908, \n"
     ]
    },
    {
     "name": "stdout",
     "output_type": "stream",
     "text": [
      "epoch: 11, [batch: 2016 / 6720], examples_per_second: 3753.8424, train_label_loss: 0.0792, \n"
     ]
    },
    {
     "name": "stdout",
     "output_type": "stream",
     "text": [
      "epoch: 11, [batch: 2688 / 6720], examples_per_second: 3728.0646, train_label_loss: 0.7006, \n"
     ]
    },
    {
     "name": "stdout",
     "output_type": "stream",
     "text": [
      "epoch: 11, [batch: 3360 / 6720], examples_per_second: 3734.7776, train_label_loss: 0.3265, \n"
     ]
    },
    {
     "name": "stdout",
     "output_type": "stream",
     "text": [
      "epoch: 11, [batch: 4032 / 6720], examples_per_second: 3749.4755, train_label_loss: 0.1317, \n"
     ]
    },
    {
     "name": "stdout",
     "output_type": "stream",
     "text": [
      "epoch: 11, [batch: 4704 / 6720], examples_per_second: 3721.8129, train_label_loss: 0.1429, \n"
     ]
    },
    {
     "name": "stdout",
     "output_type": "stream",
     "text": [
      "epoch: 11, [batch: 5376 / 6720], examples_per_second: 3727.5200, train_label_loss: 0.3003, \n"
     ]
    },
    {
     "name": "stdout",
     "output_type": "stream",
     "text": [
      "epoch: 11, [batch: 6048 / 6720], examples_per_second: 3680.0238, train_label_loss: 0.1034, \n"
     ]
    },
    {
     "name": "stdout",
     "output_type": "stream",
     "text": [
      "=============================================================\n",
      "epoch: 11, source_val_acc_label: 0.8729, target_val_acc_label: 0.6094, source_val_label_loss: 0.3511, target_val_label_loss: 476.6047, \n",
      "=============================================================\n"
     ]
    },
    {
     "name": "stdout",
     "output_type": "stream",
     "text": [
      "epoch: 12, [batch: 1 / 6720], examples_per_second: 4.3686, train_label_loss: 0.7631, \n"
     ]
    },
    {
     "name": "stdout",
     "output_type": "stream",
     "text": [
      "epoch: 12, [batch: 672 / 6720], examples_per_second: 3684.1045, train_label_loss: 0.4846, \n"
     ]
    },
    {
     "name": "stdout",
     "output_type": "stream",
     "text": [
      "epoch: 12, [batch: 1344 / 6720], examples_per_second: 3716.2375, train_label_loss: 0.1137, \n"
     ]
    },
    {
     "name": "stdout",
     "output_type": "stream",
     "text": [
      "epoch: 12, [batch: 2016 / 6720], examples_per_second: 3728.9687, train_label_loss: 0.4475, \n"
     ]
    },
    {
     "name": "stdout",
     "output_type": "stream",
     "text": [
      "epoch: 12, [batch: 2688 / 6720], examples_per_second: 3723.1594, train_label_loss: 0.1360, \n"
     ]
    },
    {
     "name": "stdout",
     "output_type": "stream",
     "text": [
      "epoch: 12, [batch: 3360 / 6720], examples_per_second: 3740.0322, train_label_loss: 0.3618, \n"
     ]
    },
    {
     "name": "stdout",
     "output_type": "stream",
     "text": [
      "epoch: 12, [batch: 4032 / 6720], examples_per_second: 3745.6376, train_label_loss: 0.2649, \n"
     ]
    },
    {
     "name": "stdout",
     "output_type": "stream",
     "text": [
      "epoch: 12, [batch: 4704 / 6720], examples_per_second: 3721.0984, train_label_loss: 0.1272, \n"
     ]
    },
    {
     "name": "stdout",
     "output_type": "stream",
     "text": [
      "epoch: 12, [batch: 5376 / 6720], examples_per_second: 3736.5074, train_label_loss: 0.1117, \n"
     ]
    },
    {
     "name": "stdout",
     "output_type": "stream",
     "text": [
      "epoch: 12, [batch: 6048 / 6720], examples_per_second: 3747.7366, train_label_loss: 0.0546, \n"
     ]
    },
    {
     "name": "stdout",
     "output_type": "stream",
     "text": [
      "=============================================================\n",
      "epoch: 12, source_val_acc_label: 0.8834, target_val_acc_label: 0.6388, source_val_label_loss: 0.3283, target_val_label_loss: 612.4818, \n",
      "=============================================================\n"
     ]
    },
    {
     "name": "stdout",
     "output_type": "stream",
     "text": [
      "New best\n"
     ]
    },
    {
     "name": "stdout",
     "output_type": "stream",
     "text": [
      "epoch: 13, [batch: 1 / 6720], examples_per_second: 4.4013, train_label_loss: 0.3221, \n"
     ]
    },
    {
     "name": "stdout",
     "output_type": "stream",
     "text": [
      "epoch: 13, [batch: 672 / 6720], examples_per_second: 3715.4428, train_label_loss: 0.2307, \n"
     ]
    },
    {
     "name": "stdout",
     "output_type": "stream",
     "text": [
      "epoch: 13, [batch: 1344 / 6720], examples_per_second: 3740.1558, train_label_loss: 0.0667, \n"
     ]
    },
    {
     "name": "stdout",
     "output_type": "stream",
     "text": [
      "epoch: 13, [batch: 2016 / 6720], examples_per_second: 3730.9597, train_label_loss: 0.1355, \n"
     ]
    },
    {
     "name": "stdout",
     "output_type": "stream",
     "text": [
      "epoch: 13, [batch: 2688 / 6720], examples_per_second: 3730.4102, train_label_loss: 0.0560, \n"
     ]
    },
    {
     "name": "stdout",
     "output_type": "stream",
     "text": [
      "epoch: 13, [batch: 3360 / 6720], examples_per_second: 3737.2186, train_label_loss: 0.1243, \n"
     ]
    },
    {
     "name": "stdout",
     "output_type": "stream",
     "text": [
      "epoch: 13, [batch: 4032 / 6720], examples_per_second: 3742.8860, train_label_loss: 0.2942, \n"
     ]
    },
    {
     "name": "stdout",
     "output_type": "stream",
     "text": [
      "epoch: 13, [batch: 4704 / 6720], examples_per_second: 3724.7840, train_label_loss: 0.0248, \n"
     ]
    },
    {
     "name": "stdout",
     "output_type": "stream",
     "text": [
      "epoch: 13, [batch: 5376 / 6720], examples_per_second: 3742.8659, train_label_loss: 0.2096, \n"
     ]
    },
    {
     "name": "stdout",
     "output_type": "stream",
     "text": [
      "epoch: 13, [batch: 6048 / 6720], examples_per_second: 3734.0221, train_label_loss: 0.2124, \n"
     ]
    },
    {
     "name": "stdout",
     "output_type": "stream",
     "text": [
      "=============================================================\n",
      "epoch: 13, source_val_acc_label: 0.8768, target_val_acc_label: 0.6314, source_val_label_loss: 0.3456, target_val_label_loss: 691.2540, \n",
      "=============================================================\n"
     ]
    },
    {
     "name": "stdout",
     "output_type": "stream",
     "text": [
      "epoch: 14, [batch: 1 / 6720], examples_per_second: 4.3975, train_label_loss: 0.3877, \n"
     ]
    },
    {
     "name": "stdout",
     "output_type": "stream",
     "text": [
      "epoch: 14, [batch: 672 / 6720], examples_per_second: 3682.3213, train_label_loss: 0.2079, \n"
     ]
    },
    {
     "name": "stdout",
     "output_type": "stream",
     "text": [
      "epoch: 14, [batch: 1344 / 6720], examples_per_second: 3739.6091, train_label_loss: 0.3057, \n"
     ]
    },
    {
     "name": "stdout",
     "output_type": "stream",
     "text": [
      "epoch: 14, [batch: 2016 / 6720], examples_per_second: 3747.8222, train_label_loss: 0.2860, \n"
     ]
    },
    {
     "name": "stdout",
     "output_type": "stream",
     "text": [
      "epoch: 14, [batch: 2688 / 6720], examples_per_second: 3729.1083, train_label_loss: 0.0487, \n"
     ]
    },
    {
     "name": "stdout",
     "output_type": "stream",
     "text": [
      "epoch: 14, [batch: 3360 / 6720], examples_per_second: 3743.0025, train_label_loss: 0.0960, \n"
     ]
    },
    {
     "name": "stdout",
     "output_type": "stream",
     "text": [
      "epoch: 14, [batch: 4032 / 6720], examples_per_second: 3729.6579, train_label_loss: 0.3363, \n"
     ]
    },
    {
     "name": "stdout",
     "output_type": "stream",
     "text": [
      "epoch: 14, [batch: 4704 / 6720], examples_per_second: 3716.4719, train_label_loss: 0.1645, \n"
     ]
    },
    {
     "name": "stdout",
     "output_type": "stream",
     "text": [
      "epoch: 14, [batch: 5376 / 6720], examples_per_second: 3718.7085, train_label_loss: 0.0725, \n"
     ]
    },
    {
     "name": "stdout",
     "output_type": "stream",
     "text": [
      "epoch: 14, [batch: 6048 / 6720], examples_per_second: 3709.8633, train_label_loss: 0.0891, \n"
     ]
    },
    {
     "name": "stdout",
     "output_type": "stream",
     "text": [
      "=============================================================\n",
      "epoch: 14, source_val_acc_label: 0.8855, target_val_acc_label: 0.6315, source_val_label_loss: 0.3264, target_val_label_loss: 675.9956, \n",
      "=============================================================\n"
     ]
    },
    {
     "name": "stdout",
     "output_type": "stream",
     "text": [
      "epoch: 15, [batch: 1 / 6720], examples_per_second: 4.3782, train_label_loss: 0.0500, \n"
     ]
    },
    {
     "name": "stdout",
     "output_type": "stream",
     "text": [
      "epoch: 15, [batch: 672 / 6720], examples_per_second: 3703.7013, train_label_loss: 0.2096, \n"
     ]
    },
    {
     "name": "stdout",
     "output_type": "stream",
     "text": [
      "epoch: 15, [batch: 1344 / 6720], examples_per_second: 3720.5658, train_label_loss: 0.0507, \n"
     ]
    },
    {
     "name": "stdout",
     "output_type": "stream",
     "text": [
      "epoch: 15, [batch: 2016 / 6720], examples_per_second: 3745.7244, train_label_loss: 0.1112, \n"
     ]
    },
    {
     "name": "stdout",
     "output_type": "stream",
     "text": [
      "epoch: 15, [batch: 2688 / 6720], examples_per_second: 3734.8572, train_label_loss: 0.1784, \n"
     ]
    },
    {
     "name": "stdout",
     "output_type": "stream",
     "text": [
      "epoch: 15, [batch: 3360 / 6720], examples_per_second: 3752.0086, train_label_loss: 0.1475, \n"
     ]
    },
    {
     "name": "stdout",
     "output_type": "stream",
     "text": [
      "epoch: 15, [batch: 4032 / 6720], examples_per_second: 3731.9749, train_label_loss: 0.3233, \n"
     ]
    },
    {
     "name": "stdout",
     "output_type": "stream",
     "text": [
      "epoch: 15, [batch: 4704 / 6720], examples_per_second: 3696.5129, train_label_loss: 0.3943, \n"
     ]
    },
    {
     "name": "stdout",
     "output_type": "stream",
     "text": [
      "epoch: 15, [batch: 5376 / 6720], examples_per_second: 3751.9151, train_label_loss: 0.1267, \n"
     ]
    },
    {
     "name": "stdout",
     "output_type": "stream",
     "text": [
      "epoch: 15, [batch: 6048 / 6720], examples_per_second: 3734.5441, train_label_loss: 0.3567, \n"
     ]
    },
    {
     "name": "stdout",
     "output_type": "stream",
     "text": [
      "=============================================================\n",
      "epoch: 15, source_val_acc_label: 0.8808, target_val_acc_label: 0.6275, source_val_label_loss: 0.3384, target_val_label_loss: 710.2267, \n",
      "=============================================================\n"
     ]
    },
    {
     "name": "stdout",
     "output_type": "stream",
     "text": [
      "epoch: 16, [batch: 1 / 6720], examples_per_second: 4.3801, train_label_loss: 0.0494, \n"
     ]
    },
    {
     "name": "stdout",
     "output_type": "stream",
     "text": [
      "epoch: 16, [batch: 672 / 6720], examples_per_second: 3708.1909, train_label_loss: 0.1876, \n"
     ]
    },
    {
     "name": "stdout",
     "output_type": "stream",
     "text": [
      "epoch: 16, [batch: 1344 / 6720], examples_per_second: 3721.7668, train_label_loss: 0.0949, \n"
     ]
    },
    {
     "name": "stdout",
     "output_type": "stream",
     "text": [
      "epoch: 16, [batch: 2016 / 6720], examples_per_second: 3729.4329, train_label_loss: 0.0250, \n"
     ]
    },
    {
     "name": "stdout",
     "output_type": "stream",
     "text": [
      "epoch: 16, [batch: 2688 / 6720], examples_per_second: 3740.6893, train_label_loss: 0.1117, \n"
     ]
    },
    {
     "name": "stdout",
     "output_type": "stream",
     "text": [
      "epoch: 16, [batch: 3360 / 6720], examples_per_second: 3731.8112, train_label_loss: 0.0920, \n"
     ]
    },
    {
     "name": "stdout",
     "output_type": "stream",
     "text": [
      "epoch: 16, [batch: 4032 / 6720], examples_per_second: 3747.4889, train_label_loss: 0.2245, \n"
     ]
    },
    {
     "name": "stdout",
     "output_type": "stream",
     "text": [
      "epoch: 16, [batch: 4704 / 6720], examples_per_second: 3734.2095, train_label_loss: 0.1815, \n"
     ]
    },
    {
     "name": "stdout",
     "output_type": "stream",
     "text": [
      "epoch: 16, [batch: 5376 / 6720], examples_per_second: 3739.7420, train_label_loss: 0.3952, \n"
     ]
    },
    {
     "name": "stdout",
     "output_type": "stream",
     "text": [
      "epoch: 16, [batch: 6048 / 6720], examples_per_second: 3741.5686, train_label_loss: 0.1672, \n"
     ]
    },
    {
     "name": "stdout",
     "output_type": "stream",
     "text": [
      "=============================================================\n",
      "epoch: 16, source_val_acc_label: 0.8782, target_val_acc_label: 0.6259, source_val_label_loss: 0.3444, target_val_label_loss: 767.7166, \n",
      "=============================================================\n"
     ]
    },
    {
     "name": "stdout",
     "output_type": "stream",
     "text": [
      "Patience (3) exhausted\n"
     ]
    }
   ],
   "source": [
    "###################################\n",
    "# train\n",
    "###################################\n",
    "jig = PTN_Train_Eval_Test_Jig(model, p.BEST_MODEL_PATH, p.device)\n",
    "\n",
    "jig.train(\n",
    "    train_iterable=datasets.source.processed.train,\n",
    "    source_val_iterable=datasets.source.processed.val,\n",
    "    target_val_iterable=datasets.target.processed.val,\n",
    "    num_epochs=p.n_epoch,\n",
    "    num_logs_per_epoch=p.NUM_LOGS_PER_EPOCH,\n",
    "    patience=p.patience,\n",
    "    optimizer=optimizer,\n",
    "    criteria_for_best=p.criteria_for_best,\n",
    ")"
   ]
  },
  {
   "cell_type": "code",
   "execution_count": 23,
   "id": "31e8fabf",
   "metadata": {
    "execution": {
     "iopub.execute_input": "2022-03-20T22:12:29.825078Z",
     "iopub.status.busy": "2022-03-20T22:12:29.824447Z",
     "iopub.status.idle": "2022-03-20T22:12:29.841259Z",
     "shell.execute_reply": "2022-03-20T22:12:29.840844Z"
    },
    "papermill": {
     "duration": 0.06687,
     "end_time": "2022-03-20T22:12:29.841358",
     "exception": false,
     "start_time": "2022-03-20T22:12:29.774488",
     "status": "completed"
    },
    "tags": []
   },
   "outputs": [],
   "source": [
    "total_experiment_time_secs = time.time() - start_time_secs"
   ]
  },
  {
   "cell_type": "code",
   "execution_count": 24,
   "id": "87b9595b",
   "metadata": {
    "execution": {
     "iopub.execute_input": "2022-03-20T22:12:29.945913Z",
     "iopub.status.busy": "2022-03-20T22:12:29.945627Z",
     "iopub.status.idle": "2022-03-20T22:14:49.552036Z",
     "shell.execute_reply": "2022-03-20T22:14:49.552272Z"
    },
    "papermill": {
     "duration": 139.659865,
     "end_time": "2022-03-20T22:14:49.552359",
     "exception": false,
     "start_time": "2022-03-20T22:12:29.892494",
     "status": "completed"
    },
    "tags": []
   },
   "outputs": [],
   "source": [
    "###################################\n",
    "# Evaluate the model\n",
    "###################################\n",
    "source_test_label_accuracy, source_test_label_loss = jig.test(datasets.source.processed.test)\n",
    "target_test_label_accuracy, target_test_label_loss = jig.test(datasets.target.processed.test)\n",
    "\n",
    "source_val_label_accuracy, source_val_label_loss = jig.test(datasets.source.processed.val)\n",
    "target_val_label_accuracy, target_val_label_loss = jig.test(datasets.target.processed.val)\n",
    "\n",
    "history = jig.get_history()\n",
    "\n",
    "total_epochs_trained = len(history[\"epoch_indices\"])\n",
    "\n",
    "val_dl = Iterable_Aggregator((datasets.source.original.val,datasets.target.original.val))\n",
    "\n",
    "confusion = ptn_confusion_by_domain_over_dataloader(model, p.device, val_dl)\n",
    "per_domain_accuracy = per_domain_accuracy_from_confusion(confusion)\n",
    "\n",
    "# Add a key to per_domain_accuracy for if it was a source domain\n",
    "for domain, accuracy in per_domain_accuracy.items():\n",
    "    per_domain_accuracy[domain] = {\n",
    "        \"accuracy\": accuracy,\n",
    "        \"source?\": domain in p.domains_source\n",
    "    }\n",
    "\n",
    "# Do an independent accuracy assesment JUST TO BE SURE!\n",
    "# _source_test_label_accuracy = independent_accuracy_assesment(model, datasets.source.processed.test, p.device)\n",
    "# _target_test_label_accuracy = independent_accuracy_assesment(model, datasets.target.processed.test, p.device)\n",
    "# _source_val_label_accuracy = independent_accuracy_assesment(model, datasets.source.processed.val, p.device)\n",
    "# _target_val_label_accuracy = independent_accuracy_assesment(model, datasets.target.processed.val, p.device)\n",
    "\n",
    "# assert(_source_test_label_accuracy == source_test_label_accuracy)\n",
    "# assert(_target_test_label_accuracy == target_test_label_accuracy)\n",
    "# assert(_source_val_label_accuracy == source_val_label_accuracy)\n",
    "# assert(_target_val_label_accuracy == target_val_label_accuracy)\n",
    "\n",
    "experiment = {\n",
    "    \"experiment_name\": p.experiment_name,\n",
    "    \"parameters\": dict(p),\n",
    "    \"results\": {\n",
    "        \"source_test_label_accuracy\": source_test_label_accuracy,\n",
    "        \"source_test_label_loss\": source_test_label_loss,\n",
    "        \"target_test_label_accuracy\": target_test_label_accuracy,\n",
    "        \"target_test_label_loss\": target_test_label_loss,\n",
    "        \"source_val_label_accuracy\": source_val_label_accuracy,\n",
    "        \"source_val_label_loss\": source_val_label_loss,\n",
    "        \"target_val_label_accuracy\": target_val_label_accuracy,\n",
    "        \"target_val_label_loss\": target_val_label_loss,\n",
    "        \"total_epochs_trained\": total_epochs_trained,\n",
    "        \"total_experiment_time_secs\": total_experiment_time_secs,\n",
    "        \"confusion\": confusion,\n",
    "        \"per_domain_accuracy\": per_domain_accuracy,\n",
    "    },\n",
    "    \"history\": history,\n",
    "    \"dataset_metrics\": get_dataset_metrics(datasets, \"ptn\"),\n",
    "}"
   ]
  },
  {
   "cell_type": "code",
   "execution_count": 25,
   "id": "54a21829",
   "metadata": {
    "execution": {
     "iopub.execute_input": "2022-03-20T22:14:49.655853Z",
     "iopub.status.busy": "2022-03-20T22:14:49.654468Z",
     "iopub.status.idle": "2022-03-20T22:14:49.786133Z",
     "shell.execute_reply": "2022-03-20T22:14:49.785623Z"
    },
    "papermill": {
     "duration": 0.181362,
     "end_time": "2022-03-20T22:14:49.786240",
     "exception": false,
     "start_time": "2022-03-20T22:14:49.604878",
     "status": "completed"
    },
    "tags": []
   },
   "outputs": [
    {
     "data": {
      "image/png": "[encoded data removed]",
      "text/plain": [
       "<Figure size 1080x504 with 1 Axes>"
      ]
     },
     "metadata": {
      "needs_background": "light"
     },
     "output_type": "display_data"
    }
   ],
   "source": [
    "ax = get_loss_curve(experiment)\n",
    "plt.show()"
   ]
  },
  {
   "cell_type": "code",
   "execution_count": 26,
   "id": "fd8a0f60",
   "metadata": {
    "execution": {
     "iopub.execute_input": "2022-03-20T22:14:49.889325Z",
     "iopub.status.busy": "2022-03-20T22:14:49.889062Z",
     "iopub.status.idle": "2022-03-20T22:14:50.033354Z",
     "shell.execute_reply": "2022-03-20T22:14:50.032848Z"
    },
    "papermill": {
     "duration": 0.194448,
     "end_time": "2022-03-20T22:14:50.033460",
     "exception": false,
     "start_time": "2022-03-20T22:14:49.839012",
     "status": "completed"
    },
    "tags": []
   },
   "outputs": [
    {
     "data": {
      "text/plain": [
       "<AxesSubplot:title={'center':'Results'}>"
      ]
     },
     "execution_count": 26,
     "metadata": {},
     "output_type": "execute_result"
    },
    {
     "data": {
      "image/png": "[encoded data removed]",
      "text/plain": [
       "<Figure size 1080x504 with 1 Axes>"
      ]
     },
     "metadata": {
      "needs_background": "light"
     },
     "output_type": "display_data"
    }
   ],
   "source": [
    "get_results_table(experiment)"
   ]
  },
  {
   "cell_type": "code",
   "execution_count": 27,
   "id": "cf8dc689",
   "metadata": {
    "execution": {
     "iopub.execute_input": "2022-03-20T22:14:50.139901Z",
     "iopub.status.busy": "2022-03-20T22:14:50.139639Z",
     "iopub.status.idle": "2022-03-20T22:14:50.292296Z",
     "shell.execute_reply": "2022-03-20T22:14:50.291782Z"
    },
    "papermill": {
     "duration": 0.204581,
     "end_time": "2022-03-20T22:14:50.292409",
     "exception": false,
     "start_time": "2022-03-20T22:14:50.087828",
     "status": "completed"
    },
    "tags": []
   },
   "outputs": [
    {
     "data": {
      "text/plain": [
       "<AxesSubplot:title={'center':'Per Domain Validation Accuracy'}, xlabel='domain'>"
      ]
     },
     "execution_count": 27,
     "metadata": {},
     "output_type": "execute_result"
    },
    {
     "data": {
      "image/png": "[encoded data removed]",
      "text/plain": [
       "<Figure size 1080x504 with 1 Axes>"
      ]
     },
     "metadata": {
      "needs_background": "light"
     },
     "output_type": "display_data"
    }
   ],
   "source": [
    "get_domain_accuracies(experiment)"
   ]
  },
  {
   "cell_type": "code",
   "execution_count": 28,
   "id": "a74ae082",
   "metadata": {
    "execution": {
     "iopub.execute_input": "2022-03-20T22:14:50.403524Z",
     "iopub.status.busy": "2022-03-20T22:14:50.403242Z",
     "iopub.status.idle": "2022-03-20T22:14:50.419670Z",
     "shell.execute_reply": "2022-03-20T22:14:50.419264Z"
    },
    "papermill": {
     "duration": 0.069712,
     "end_time": "2022-03-20T22:14:50.419750",
     "exception": false,
     "start_time": "2022-03-20T22:14:50.350038",
     "status": "completed"
    },
    "tags": []
   },
   "outputs": [
    {
     "name": "stdout",
     "output_type": "stream",
     "text": [
      "Source Test Label Accuracy: 0.8865234375 Target Test Label Accuracy: 0.6338877688172043\n",
      "Source Val Label Accuracy: 0.8833984375 Target Val Label Accuracy: 0.6387877747252747\n"
     ]
    }
   ],
   "source": [
    "print(\"Source Test Label Accuracy:\", experiment[\"results\"][\"source_test_label_accuracy\"], \"Target Test Label Accuracy:\", experiment[\"results\"][\"target_test_label_accuracy\"])\n",
    "print(\"Source Val Label Accuracy:\", experiment[\"results\"][\"source_val_label_accuracy\"], \"Target Val Label Accuracy:\", experiment[\"results\"][\"target_val_label_accuracy\"])"
   ]
  },
  {
   "cell_type": "code",
   "execution_count": 29,
   "id": "dacca602",
   "metadata": {
    "execution": {
     "iopub.execute_input": "2022-03-20T22:14:50.527936Z",
     "iopub.status.busy": "2022-03-20T22:14:50.527670Z",
     "iopub.status.idle": "2022-03-20T22:14:50.547184Z",
     "shell.execute_reply": "2022-03-20T22:14:50.547612Z"
    },
    "papermill": {
     "duration": 0.073246,
     "end_time": "2022-03-20T22:14:50.547743",
     "exception": false,
     "start_time": "2022-03-20T22:14:50.474497",
     "status": "completed"
    },
    "tags": [
     "experiment_json"
    ]
   },
   "outputs": [
    {
     "data": {
      "text/plain": [
       "'{\"experiment_name\": \"tl_3Av2:oracle.run1.framed -> cores+wisig\", \"parameters\": {\"experiment_name\": \"tl_3Av2:oracle.run1.framed -> cores+wisig\", \"device\": \"cuda\", \"lr\": 0.0001, \"x_shape\": [2, 200], \"n_shot\": 3, \"n_query\": 2, \"train_k_factor\": 3, \"val_k_factor\": 2, \"test_k_factor\": 2, \"torch_default_dtype\": \"torch.float32\", \"n_epoch\": 50, \"patience\": 3, \"criteria_for_best\": \"target_accuracy\", \"x_net\": [{\"class\": \"nnReshape\", \"kargs\": {\"shape\": [-1, 1, 2, 200]}}, {\"class\": \"Conv2d\", \"kargs\": {\"in_channels\": 1, \"out_channels\": 256, \"kernel_size\": [1, 7], \"bias\": false, \"padding\": [0, 3]}}, {\"class\": \"ReLU\", \"kargs\": {\"inplace\": true}}, {\"class\": \"BatchNorm2d\", \"kargs\": {\"num_features\": 256}}, {\"class\": \"Conv2d\", \"kargs\": {\"in_channels\": 256, \"out_channels\": 80, \"kernel_size\": [2, 7], \"bias\": true, \"padding\": [0, 3]}}, {\"class\": \"ReLU\", \"kargs\": {\"inplace\": true}}, {\"class\": \"BatchNorm2d\", \"kargs\": {\"num_features\": 80}}, {\"class\": \"Flatten\", \"kargs\": {}}, {\"class\": \"Linear\", \"kargs\": {\"in_features\": 16000, \"out_features\": 256}}, {\"class\": \"ReLU\", \"kargs\": {\"inplace\": true}}, {\"class\": \"BatchNorm1d\", \"kargs\": {\"num_features\": 256}}, {\"class\": \"Linear\", \"kargs\": {\"in_features\": 256, \"out_features\": 256}}], \"NUM_LOGS_PER_EPOCH\": 10, \"BEST_MODEL_PATH\": \"./best_model.pth\", \"n_way\": 16, \"datasets\": [{\"labels\": [\"1-10.\", \"1-11.\", \"1-15.\", \"1-16.\", \"1-17.\", \"1-18.\", \"1-19.\", \"10-4.\", \"10-7.\", \"11-1.\", \"11-14.\", \"11-17.\", \"11-20.\", \"11-7.\", \"13-20.\", \"13-8.\", \"14-10.\", \"14-11.\", \"14-14.\", \"14-7.\", \"15-1.\", \"15-20.\", \"16-1.\", \"16-16.\", \"17-10.\", \"17-11.\", \"17-2.\", \"19-1.\", \"19-16.\", \"19-19.\", \"19-20.\", \"19-3.\", \"2-10.\", \"2-11.\", \"2-17.\", \"2-18.\", \"2-20.\", \"2-3.\", \"2-4.\", \"2-5.\", \"2-6.\", \"2-7.\", \"2-8.\", \"3-13.\", \"3-18.\", \"3-3.\", \"4-1.\", \"4-10.\", \"4-11.\", \"4-19.\", \"5-5.\", \"6-15.\", \"7-10.\", \"7-14.\", \"8-18.\", \"8-20.\", \"8-3.\", \"8-8.\"], \"domains\": [1, 2, 3, 4, 5], \"num_examples_per_domain_per_label\": -1, \"pickle_path\": \"/mnt/wd500GB/CSC500/csc500-main/datasets/cores.stratified_ds.2022A.pkl\", \"source_or_target_dataset\": \"target\", \"x_transforms\": [\"unit_mag\", \"take_200\"], \"episode_transforms\": [], \"domain_prefix\": \"C_\"}, {\"labels\": [\"1-10\", \"1-12\", \"1-14\", \"1-16\", \"1-18\", \"1-19\", \"1-8\", \"10-11\", \"10-17\", \"10-4\", \"10-7\", \"11-1\", \"11-10\", \"11-19\", \"11-20\", \"11-4\", \"11-7\", \"12-19\", \"12-20\", \"12-7\", \"13-14\", \"13-18\", \"13-19\", \"13-20\", \"13-3\", \"13-7\", \"14-10\", \"14-11\", \"14-12\", \"14-13\", \"14-14\", \"14-19\", \"14-20\", \"14-7\", \"14-8\", \"14-9\", \"15-1\", \"15-19\", \"15-6\", \"16-1\", \"16-16\", \"16-19\", \"16-20\", \"17-10\", \"17-11\", \"18-1\", \"18-10\", \"18-11\", \"18-12\", \"18-13\", \"18-14\", \"18-15\", \"18-16\", \"18-17\", \"18-19\", \"18-2\", \"18-20\", \"18-4\", \"18-5\", \"18-7\", \"18-8\", \"18-9\", \"19-1\", \"19-10\", \"19-11\", \"19-12\", \"19-13\", \"19-14\", \"19-15\", \"19-19\", \"19-2\", \"19-20\", \"19-3\", \"19-4\", \"19-6\", \"19-7\", \"19-8\", \"19-9\", \"2-1\", \"2-13\", \"2-15\", \"2-3\", \"2-4\", \"2-5\", \"2-6\", \"2-7\", \"2-8\", \"20-1\", \"20-12\", \"20-14\", \"20-15\", \"20-16\", \"20-18\", \"20-19\", \"20-20\", \"20-3\", \"20-4\", \"20-5\", \"20-7\", \"20-8\", \"3-1\", \"3-13\", \"3-18\", \"3-2\", \"3-8\", \"4-1\", \"4-10\", \"4-11\", \"5-1\", \"5-5\", \"6-1\", \"6-15\", \"6-6\", \"7-10\", \"7-11\", \"7-12\", \"7-13\", \"7-14\", \"7-7\", \"7-8\", \"7-9\", \"8-1\", \"8-13\", \"8-14\", \"8-18\", \"8-20\", \"8-3\", \"8-8\", \"9-1\", \"9-7\"], \"domains\": [1, 2, 3, 4], \"num_examples_per_domain_per_label\": -1, \"pickle_path\": \"/mnt/wd500GB/CSC500/csc500-main/datasets/wisig.node3-19.stratified_ds.2022A.pkl\", \"source_or_target_dataset\": \"target\", \"x_transforms\": [\"unit_mag\", \"take_200\"], \"episode_transforms\": [], \"domain_prefix\": \"W_\"}, {\"labels\": [\"3123D52\", \"3123D65\", \"3123D79\", \"3123D80\", \"3123D54\", \"3123D70\", \"3123D7B\", \"3123D89\", \"3123D58\", \"3123D76\", \"3123D7D\", \"3123EFE\", \"3123D64\", \"3123D78\", \"3123D7E\", \"3124E4A\"], \"domains\": [32, 38, 8, 44, 14, 50, 20, 26], \"num_examples_per_domain_per_label\": 2000, \"pickle_path\": \"/mnt/wd500GB/CSC500/csc500-main/datasets/oracle.Run1_framed_2000Examples_stratified_ds.2022A.pkl\", \"source_or_target_dataset\": \"source\", \"x_transforms\": [\"unit_mag\", \"take_200\", \"resample_20Msps_to_25Msps\"], \"episode_transforms\": [], \"domain_prefix\": \"O_\"}], \"seed\": 1337, \"dataset_seed\": 1337, \"domains_source\": [\"O_32\", \"O_38\", \"O_8\", \"O_44\", \"O_14\", \"O_50\", \"O_20\", \"O_26\"], \"domains_target\": [\"C_1\", \"C_2\", \"C_3\", \"C_4\", \"C_5\", \"W_1\", \"W_2\", \"W_3\", \"W_4\"]}, \"results\": {\"source_test_label_accuracy\": 0.8865234375, \"source_test_label_loss\": 0.36568430066108704, \"target_test_label_accuracy\": 0.6338877688172043, \"target_test_label_loss\": 611.525634765625, \"source_val_label_accuracy\": 0.8833984375, \"source_val_label_loss\": 0.32825809717178345, \"target_val_label_accuracy\": 0.6387877747252747, \"target_val_label_loss\": 612.4817504882812, \"total_epochs_trained\": 16, \"total_experiment_time_secs\": 2736.446868419647, \"confusion\": {\"O_14\": {\"15\": {\"15\": 240}, \"3\": {\"3\": 231, \"2\": 6, \"14\": 1, \"4\": 2}, \"6\": {\"6\": 202, \"13\": 34, \"2\": 2, \"14\": 2}, \"1\": {\"1\": 237, \"5\": 2, \"4\": 1}, \"8\": {\"8\": 240}, \"10\": {\"10\": 240}, \"9\": {\"9\": 238, \"12\": 1, \"11\": 1}, \"13\": {\"13\": 170, \"6\": 56, \"2\": 6, \"14\": 4, \"3\": 1, \"4\": 2, \"7\": 1}, \"12\": {\"12\": 240}, \"5\": {\"5\": 238, \"2\": 1, \"4\": 1}, \"0\": {\"0\": 238, \"3\": 2}, \"2\": {\"2\": 190, \"14\": 28, \"3\": 4, \"13\": 4, \"6\": 6, \"4\": 3, \"5\": 5}, \"11\": {\"11\": 237, \"9\": 3}, \"14\": {\"14\": 219, \"2\": 19, \"3\": 1, \"6\": 1}, \"7\": {\"7\": 240}, \"4\": {\"4\": 238, \"2\": 1, \"1\": 1}}, \"O_20\": {\"3\": {\"3\": 164, \"2\": 18, \"9\": 26, \"12\": 26, \"4\": 3, \"1\": 3}, \"15\": {\"15\": 219, \"1\": 10, \"0\": 10, \"13\": 1}, \"8\": {\"8\": 225, \"7\": 7, \"4\": 7, \"6\": 1}, \"4\": {\"4\": 230, \"3\": 7, \"8\": 3}, \"14\": {\"6\": 6, \"14\": 233, \"10\": 1}, \"0\": {\"1\": 3, \"0\": 210, \"7\": 1, \"15\": 22, \"2\": 1, \"8\": 3}, \"7\": {\"7\": 228, \"4\": 1, \"2\": 5, \"13\": 1, \"9\": 1, \"3\": 1, \"8\": 3}, \"6\": {\"6\": 239, \"14\": 1}, \"10\": {\"10\": 239, \"14\": 1}, \"5\": {\"5\": 238, \"12\": 1, \"0\": 1}, \"2\": {\"2\": 175, \"12\": 12, \"9\": 30, \"3\": 9, \"7\": 7, \"13\": 6, \"1\": 1}, \"12\": {\"12\": 174, \"1\": 29, \"3\": 20, \"2\": 9, \"9\": 7, \"15\": 1}, \"9\": {\"9\": 185, \"2\": 23, \"12\": 8, \"3\": 23, \"7\": 1}, \"1\": {\"1\": 193, \"15\": 12, \"12\": 34, \"3\": 1}, \"11\": {\"11\": 240}, \"13\": {\"13\": 234, \"1\": 2, \"2\": 2, \"15\": 1, \"7\": 1}}, \"O_38\": {\"5\": {\"5\": 196, \"8\": 33, \"7\": 7, \"13\": 1, \"6\": 1, \"10\": 1, \"15\": 1}, \"8\": {\"8\": 182, \"7\": 11, \"5\": 23, \"15\": 4, \"0\": 11, \"10\": 4, \"13\": 5}, \"11\": {\"11\": 239, \"10\": 1}, \"1\": {\"1\": 233, \"15\": 7}, \"10\": {\"10\": 218, \"0\": 3, \"13\": 14, \"7\": 2, \"14\": 1, \"8\": 1, \"5\": 1}, \"15\": {\"15\": 223, \"8\": 6, \"1\": 9, \"0\": 1, \"13\": 1}, \"3\": {\"3\": 236, \"0\": 4}, \"7\": {\"5\": 2, \"7\": 206, \"0\": 16, \"8\": 15, \"9\": 1}, \"4\": {\"4\": 240}, \"14\": {\"14\": 224, \"2\": 13, \"10\": 2, \"8\": 1}, \"9\": {\"9\": 237, \"3\": 3}, \"12\": {\"12\": 238, \"4\": 2}, \"6\": {\"6\": 239, \"9\": 1}, \"2\": {\"14\": 9, \"2\": 225, \"13\": 6}, \"0\": {\"8\": 11, \"0\": 192, \"10\": 13, \"3\": 11, \"15\": 1, \"13\": 7, \"7\": 4, \"5\": 1}, \"13\": {\"13\": 222, \"14\": 1, \"10\": 14, \"8\": 1, \"15\": 1, \"2\": 1}}, \"O_8\": {\"9\": {\"9\": 240}, \"10\": {\"10\": 226, \"13\": 9, \"4\": 2, \"14\": 3}, \"13\": {\"13\": 158, \"0\": 20, \"4\": 28, \"10\": 28, \"6\": 5, \"14\": 1}, \"0\": {\"0\": 220, \"4\": 5, \"13\": 9, \"7\": 5, \"10\": 1}, \"1\": {\"1\": 238, \"11\": 1, \"14\": 1}, \"15\": {\"15\": 231, \"12\": 9}, \"5\": {\"5\": 235, \"14\": 3, \"1\": 1, \"10\": 1}, \"3\": {\"3\": 236, \"2\": 4}, \"6\": {\"6\": 187, \"7\": 29, \"4\": 22, \"13\": 2}, \"11\": {\"11\": 237, \"1\": 3}, \"8\": {\"8\": 240}, \"4\": {\"4\": 194, \"13\": 32, \"6\": 9, \"10\": 2, \"14\": 1, \"0\": 2}, \"12\": {\"12\": 196, \"15\": 34, \"2\": 2, \"3\": 7, \"8\": 1}, \"14\": {\"14\": 220, \"10\": 8, \"1\": 5, \"4\": 4, \"13\": 3}, \"2\": {\"2\": 225, \"3\": 9, \"7\": 6}, \"7\": {\"7\": 225, \"0\": 1, \"6\": 14}}, \"O_50\": {\"7\": {\"7\": 220, \"13\": 6, \"5\": 6, \"6\": 7, \"4\": 1}, \"3\": {\"3\": 239, \"8\": 1}, \"8\": {\"8\": 230, \"10\": 9, \"3\": 1}, \"2\": {\"2\": 217, \"0\": 23}, \"14\": {\"14\": 239, \"11\": 1}, \"4\": {\"15\": 22, \"4\": 191, \"7\": 4, \"6\": 9, \"5\": 12, \"1\": 1, \"11\": 1}, \"6\": {\"6\": 211, \"15\": 5, \"13\": 12, \"7\": 5, \"4\": 3, \"5\": 2, \"1\": 2}, \"15\": {\"15\": 198, \"1\": 12, \"4\": 19, \"6\": 3, \"5\": 2, \"11\": 6}, \"10\": {\"10\": 219, \"13\": 7, \"8\": 5, \"0\": 9}, \"11\": {\"11\": 209, \"9\": 5, \"15\": 16, \"12\": 9, \"1\": 1}, \"13\": {\"13\": 226, \"7\": 4, \"10\": 2, \"6\": 4, \"1\": 1, \"0\": 1, \"5\": 2}, \"9\": {\"9\": 227, \"12\": 7, \"11\": 6}, \"0\": {\"0\": 210, \"10\": 8, \"2\": 21, \"13\": 1}, \"1\": {\"1\": 215, \"15\": 17, \"11\": 2, \"6\": 1, \"13\": 2, \"5\": 2, \"4\": 1}, \"12\": {\"12\": 233, \"9\": 5, \"11\": 2}, \"5\": {\"5\": 202, \"7\": 11, \"4\": 16, \"15\": 2, \"13\": 6, \"1\": 3}}, \"O_32\": {\"8\": {\"8\": 205, \"13\": 7, \"0\": 16, \"5\": 6, \"14\": 2, \"3\": 3, \"4\": 1}, \"14\": {\"11\": 7, \"14\": 204, \"0\": 13, \"7\": 7, \"3\": 1, \"8\": 6, \"5\": 2}, \"2\": {\"2\": 192, \"4\": 47, \"7\": 1}, \"0\": {\"0\": 211, \"14\": 8, \"7\": 3, \"5\": 2, \"8\": 15, \"13\": 1}, \"1\": {\"1\": 239, \"10\": 1}, \"10\": {\"10\": 240}, \"11\": {\"11\": 231, \"3\": 2, \"14\": 7}, \"5\": {\"5\": 180, \"14\": 6, \"3\": 5, \"13\": 6, \"7\": 36, \"8\": 4, \"4\": 3}, \"15\": {\"15\": 240}, \"3\": {\"3\": 227, \"11\": 3, \"13\": 7, \"5\": 2, \"14\": 1}, \"12\": {\"12\": 239, \"6\": 1}, \"7\": {\"7\": 193, \"5\": 20, \"4\": 16, \"14\": 4, \"13\": 3, \"0\": 2, \"2\": 2}, \"13\": {\"13\": 199, \"3\": 10, \"4\": 17, \"11\": 1, \"7\": 4, \"8\": 8, \"5\": 1}, \"6\": {\"6\": 240}, \"4\": {\"4\": 173, \"2\": 46, \"7\": 8, \"13\": 11, \"5\": 2}, \"9\": {\"9\": 240}}, \"O_26\": {\"4\": {\"4\": 212, \"7\": 6, \"14\": 4, \"0\": 7, \"8\": 9, \"1\": 1, \"10\": 1}, \"12\": {\"12\": 240}, \"10\": {\"14\": 11, \"0\": 65, \"10\": 116, \"8\": 38, \"15\": 1, \"1\": 1, \"4\": 3, \"6\": 5}, \"0\": {\"8\": 21, \"0\": 115, \"4\": 26, \"14\": 8, \"10\": 64, \"6\": 2, \"7\": 4}, \"13\": {\"13\": 216, \"9\": 13, \"5\": 5, \"2\": 5, \"15\": 1}, \"9\": {\"9\": 206, \"15\": 23, \"6\": 6, \"13\": 5}, \"3\": {\"3\": 187, \"2\": 36, \"7\": 16, \"4\": 1}, \"2\": {\"2\": 129, \"3\": 63, \"7\": 26, \"13\": 7, \"15\": 4, \"8\": 1, \"9\": 4, \"5\": 5, \"4\": 1}, \"5\": {\"5\": 237, \"2\": 2, \"13\": 1}, \"14\": {\"14\": 200, \"4\": 4, \"8\": 10, \"0\": 11, \"1\": 6, \"10\": 8, \"15\": 1}, \"8\": {\"8\": 133, \"7\": 19, \"14\": 7, \"15\": 3, \"4\": 12, \"10\": 39, \"0\": 22, \"6\": 1, \"2\": 3, \"5\": 1}, \"7\": {\"7\": 178, \"2\": 24, \"3\": 10, \"15\": 2, \"8\": 11, \"4\": 14, \"14\": 1}, \"6\": {\"6\": 217, \"10\": 7, \"15\": 14, \"9\": 2}, \"11\": {\"11\": 240}, \"15\": {\"15\": 194, \"9\": 18, \"10\": 6, \"0\": 3, \"7\": 2, \"13\": 4, \"8\": 6, \"6\": 5, \"2\": 2}, \"1\": {\"1\": 214, \"14\": 13, \"4\": 5, \"8\": 3, \"7\": 2, \"2\": 1, \"0\": 2}}, \"O_44\": {\"12\": {\"12\": 225, \"3\": 5, \"1\": 10}, \"7\": {\"7\": 170, \"2\": 28, \"9\": 36, \"6\": 5, \"13\": 1}, \"5\": {\"5\": 218, \"8\": 3, \"15\": 5, \"14\": 11, \"0\": 3}, \"15\": {\"15\": 208, \"4\": 4, \"0\": 10, \"14\": 6, \"8\": 8, \"5\": 4}, \"8\": {\"0\": 73, \"8\": 156, \"5\": 4, \"15\": 7}, \"2\": {\"2\": 190, \"1\": 7, \"7\": 31, \"10\": 9, \"9\": 3}, \"13\": {\"13\": 166, \"6\": 42, \"9\": 30, \"11\": 2}, \"4\": {\"4\": 200, \"15\": 3, \"14\": 37}, \"0\": {\"0\": 183, \"8\": 44, \"15\": 12, \"5\": 1}, \"6\": {\"13\": 40, \"6\": 163, \"9\": 27, \"7\": 9, \"11\": 1}, \"9\": {\"13\": 30, \"7\": 48, \"9\": 141, \"6\": 20, \"1\": 1}, \"11\": {\"11\": 231, \"13\": 7, \"9\": 1, \"6\": 1}, \"10\": {\"1\": 20, \"10\": 207, \"2\": 9, \"12\": 3, \"7\": 1}, \"14\": {\"4\": 43, \"14\": 180, \"15\": 10, \"5\": 7}, \"1\": {\"3\": 6, \"1\": 174, \"10\": 16, \"2\": 21, \"12\": 23}, \"3\": {\"3\": 231, \"1\": 5, \"2\": 3, \"12\": 1}}, \"C_3\": {\"43\": {\"43\": 118, \"10\": 4, \"7\": 2, \"24\": 3, \"56\": 1}, \"9\": {\"9\": 86, \"36\": 22, \"34\": 1, \"32\": 2, \"1\": 2, \"12\": 2, \"0\": 1, \"17\": 5, \"50\": 3, \"27\": 11, \"57\": 4, \"29\": 1, \"41\": 1, \"47\": 2, \"54\": 2, \"4\": 2, \"20\": 2, \"19\": 1}, \"6\": {\"44\": 2, \"6\": 15, \"57\": 2, \"54\": 7, \"28\": 1, \"42\": 2, \"31\": 1, \"15\": 1, \"9\": 7, \"46\": 1, \"17\": 9, \"3\": 4, \"41\": 2, \"36\": 3, \"55\": 1, \"20\": 2, \"22\": 1, \"47\": 3, \"5\": 2, \"18\": 1, \"27\": 4, \"23\": 2, \"25\": 2, \"48\": 1, \"1\": 1, \"50\": 2, \"2\": 1, \"30\": 2, \"52\": 2, \"32\": 1, \"19\": 2, \"24\": 1}, \"3\": {\"44\": 4, \"19\": 16, \"33\": 2, \"29\": 6, \"3\": 57, \"42\": 1, \"26\": 1, \"45\": 8, \"32\": 1, \"1\": 1, \"21\": 2, \"57\": 10, \"46\": 3, \"6\": 5, \"4\": 5, \"50\": 7, \"48\": 2, \"5\": 4, \"40\": 1, \"27\": 1, \"36\": 2, \"25\": 3, \"9\": 2}, \"16\": {\"16\": 115, \"23\": 11, \"52\": 4, \"15\": 4}, \"51\": {\"51\": 119, \"53\": 8, \"20\": 1}, \"31\": {\"31\": 26, \"35\": 1, \"55\": 1}, \"46\": {\"31\": 1, \"51\": 6, \"3\": 6, \"38\": 4, \"52\": 12, \"46\": 12, \"39\": 1, \"24\": 3, \"50\": 3, \"12\": 3, \"36\": 4, \"20\": 3, \"40\": 4, \"1\": 2, \"53\": 3, \"43\": 2, \"18\": 2, \"4\": 5, \"11\": 2, \"25\": 5, \"54\": 2, \"16\": 6, \"23\": 6, \"9\": 8, \"57\": 4, \"15\": 6, \"8\": 1, \"27\": 3, \"41\": 1, \"6\": 1, \"35\": 2, \"30\": 4, \"55\": 3, \"10\": 1, \"17\": 1, \"5\": 1, \"21\": 1}, \"19\": {\"19\": 90, \"47\": 1, \"45\": 5, \"29\": 6, \"4\": 12, \"1\": 1, \"25\": 2, \"57\": 4, \"46\": 2, \"44\": 1}, \"8\": {\"8\": 128, \"20\": 6, \"12\": 2, \"30\": 1, \"38\": 4, \"54\": 1, \"51\": 4, \"53\": 5, \"50\": 1}, \"18\": {\"18\": 83, \"52\": 1}, \"37\": {\"37\": 28}, \"24\": {\"24\": 90, \"10\": 8, \"14\": 1, \"43\": 2, \"22\": 2, \"56\": 1}, \"10\": {\"10\": 58, \"43\": 4, \"24\": 2}, \"44\": {\"44\": 65, \"3\": 2, \"25\": 5, \"40\": 3, \"6\": 2, \"46\": 1, \"5\": 2, \"29\": 5, \"19\": 2, \"55\": 1}, \"14\": {\"14\": 25, \"56\": 5, \"42\": 1, \"10\": 1, \"13\": 3, \"55\": 3, \"28\": 1, \"40\": 1}, \"38\": {\"38\": 28}, \"53\": {\"53\": 126, \"20\": 1, \"3\": 1, \"51\": 7, \"19\": 1, \"50\": 1, \"52\": 2, \"25\": 1}, \"20\": {\"20\": 96, \"38\": 2, \"8\": 10, \"30\": 5, \"53\": 6, \"54\": 1, \"17\": 2, \"12\": 2, \"51\": 3, \"48\": 1, \"46\": 1, \"52\": 2, \"50\": 1}, \"32\": {\"54\": 1, \"36\": 5, \"32\": 13, \"4\": 1, \"57\": 1, \"1\": 1, \"27\": 2, \"9\": 4}, \"36\": {\"32\": 3, \"36\": 74, \"27\": 10, \"41\": 1, \"48\": 2, \"9\": 5, \"20\": 1, \"54\": 1, \"34\": 2, \"0\": 1}, \"33\": {\"33\": 22, \"54\": 1, \"9\": 1, \"47\": 1, \"12\": 1, \"27\": 2}, \"56\": {\"56\": 133, \"22\": 1, \"13\": 2}, \"23\": {\"23\": 128, \"18\": 2}, \"54\": {\"54\": 35, \"8\": 14, \"38\": 3, \"12\": 13, \"27\": 4, \"48\": 1, \"6\": 1, \"17\": 9, \"36\": 2, \"53\": 10, \"51\": 1, \"9\": 2, \"20\": 1, \"23\": 2, \"50\": 1, \"46\": 1}, \"21\": {\"21\": 84, \"20\": 7, \"12\": 4, \"53\": 4, \"26\": 1, \"3\": 3, \"8\": 8, \"2\": 1, \"51\": 6, \"4\": 1, \"46\": 2, \"38\": 1, \"52\": 1, \"19\": 1, \"27\": 2}, \"28\": {\"28\": 18, \"39\": 1, \"35\": 1, \"44\": 2, \"24\": 1, \"5\": 1, \"57\": 1, \"7\": 1, \"26\": 2}, \"26\": {\"26\": 22, \"33\": 1, \"57\": 1}, \"48\": {\"48\": 91, \"20\": 2, \"30\": 3, \"50\": 1, \"18\": 1, \"17\": 10, \"23\": 2, \"54\": 1, \"34\": 2, \"5\": 1, \"12\": 2}, \"52\": {\"52\": 110, \"23\": 3, \"15\": 2, \"18\": 1, \"30\": 2}, \"39\": {\"39\": 15, \"46\": 1}, \"22\": {\"22\": 101, \"28\": 1, \"49\": 1, \"14\": 1, \"43\": 5, \"10\": 2, \"24\": 4, \"56\": 14, \"46\": 3, \"13\": 3, \"35\": 1, \"5\": 2, \"40\": 1, \"3\": 1}, \"13\": {\"13\": 125, \"56\": 2, \"24\": 1}, \"2\": {\"2\": 28, \"9\": 1, \"27\": 1, \"36\": 1, \"45\": 1}, \"34\": {\"27\": 2, \"34\": 16, \"48\": 3, \"17\": 3, \"1\": 2, \"36\": 1, \"23\": 1, \"47\": 1, \"41\": 1, \"9\": 1, \"32\": 1}, \"27\": {\"41\": 2, \"27\": 66, \"34\": 2, \"8\": 16, \"50\": 2, \"12\": 7, \"36\": 3, \"53\": 4, \"48\": 5, \"17\": 7, \"9\": 8, \"54\": 4, \"47\": 1, \"51\": 2, \"38\": 1, \"52\": 2}, \"45\": {\"29\": 5, \"3\": 2, \"45\": 33, \"47\": 1, \"50\": 2, \"12\": 1, \"27\": 1, \"6\": 1, \"9\": 3, \"19\": 4, \"4\": 2, \"33\": 1, \"36\": 2, \"57\": 2}, \"35\": {\"35\": 28}, \"29\": {\"29\": 63, \"36\": 3, \"47\": 3, \"45\": 8, \"1\": 3, \"54\": 1, \"4\": 15, \"50\": 2, \"19\": 15, \"57\": 7, \"5\": 1, \"44\": 1, \"32\": 1, \"3\": 1, \"9\": 2, \"6\": 2}, \"25\": {\"37\": 3, \"25\": 73, \"44\": 10, \"39\": 1, \"26\": 2, \"42\": 2, \"3\": 22, \"5\": 9, \"40\": 4, \"55\": 2, \"50\": 1, \"46\": 2, \"29\": 5, \"31\": 1, \"35\": 1, \"19\": 4, \"6\": 1, \"24\": 1}, \"0\": {\"0\": 85, \"34\": 4, \"27\": 5, \"47\": 1, \"11\": 2, \"57\": 2, \"20\": 1, \"36\": 3, \"54\": 1, \"29\": 1, \"48\": 6, \"50\": 1, \"1\": 2, \"19\": 1, \"26\": 1, \"17\": 1, \"46\": 5, \"5\": 1, \"9\": 1}, \"41\": {\"41\": 6, \"17\": 4, \"38\": 7, \"27\": 2, \"8\": 2, \"47\": 1, \"53\": 2, \"23\": 1, \"36\": 1, \"16\": 1, \"9\": 1}, \"11\": {\"11\": 108, \"20\": 1, \"16\": 6, \"15\": 11, \"23\": 7, \"0\": 2, \"48\": 6, \"17\": 1}, \"5\": {\"5\": 68, \"33\": 1, \"0\": 2, \"3\": 4, \"1\": 2, \"29\": 14, \"4\": 6, \"25\": 1, \"48\": 1, \"19\": 2, \"57\": 3, \"47\": 1, \"6\": 3}, \"1\": {\"1\": 43, \"36\": 13, \"32\": 1, \"4\": 7, \"5\": 1, \"9\": 8, \"29\": 3, \"57\": 9, \"46\": 1, \"45\": 1, \"12\": 2, \"6\": 2, \"47\": 4, \"27\": 2, \"34\": 2, \"25\": 1}, \"57\": {\"57\": 60, \"4\": 18, \"47\": 2, \"45\": 2, \"36\": 5, \"1\": 5, \"6\": 1, \"29\": 8, \"19\": 4, \"9\": 5, \"33\": 1, \"5\": 4, \"53\": 1}, \"17\": {\"17\": 106, \"10\": 1, \"56\": 1}, \"7\": {\"7\": 36}, \"12\": {\"12\": 50, \"27\": 2, \"38\": 1, \"20\": 5, \"36\": 4, \"4\": 2, \"17\": 9, \"1\": 1, \"52\": 4, \"53\": 5, \"8\": 1, \"50\": 2, \"9\": 1, \"54\": 2, \"48\": 1, \"51\": 2}, \"47\": {\"29\": 6, \"47\": 26, \"32\": 1, \"54\": 2, \"3\": 1, \"27\": 8, \"13\": 1, \"36\": 10, \"1\": 8, \"10\": 1, \"9\": 7, \"4\": 11, \"19\": 2, \"57\": 3, \"33\": 1, \"46\": 2, \"45\": 1, \"24\": 1}, \"40\": {\"31\": 1, \"40\": 99, \"49\": 2, \"44\": 7, \"25\": 8, \"55\": 3, \"3\": 7, \"5\": 2, \"29\": 2, \"46\": 2, \"50\": 2, \"22\": 1}, \"15\": {\"15\": 127, \"8\": 1, \"16\": 5, \"23\": 5, \"40\": 1, \"18\": 2, \"47\": 1}, \"42\": {\"42\": 22, \"25\": 2, \"44\": 1, \"7\": 1, \"40\": 2}, \"55\": {\"55\": 138, \"14\": 2, \"13\": 3, \"56\": 1, \"40\": 3, \"3\": 1, \"22\": 1, \"25\": 1}, \"49\": {\"49\": 16, \"24\": 4}, \"30\": {\"30\": 110, \"16\": 2, \"56\": 1, \"17\": 3, \"22\": 1, \"19\": 1, \"18\": 2}, \"50\": {\"9\": 3, \"12\": 4, \"3\": 7, \"45\": 2, \"8\": 24, \"50\": 12, \"2\": 2, \"6\": 5, \"29\": 4, \"30\": 3, \"53\": 15, \"1\": 2, \"48\": 3, \"20\": 8, \"57\": 6, \"17\": 3, \"36\": 1, \"47\": 1, \"19\": 1, \"40\": 2, \"25\": 4, \"4\": 6, \"5\": 4, \"46\": 1, \"23\": 2, \"51\": 3, \"27\": 4, \"52\": 1, \"21\": 1}, \"4\": {\"4\": 82, \"9\": 17, \"36\": 3, \"29\": 8, \"27\": 1, \"1\": 8, \"6\": 1, \"50\": 1, \"47\": 1, \"19\": 7, \"57\": 1, \"33\": 1, \"32\": 2, \"54\": 1, \"3\": 1, \"45\": 1}}, \"C_4\": {\"35\": {\"14\": 1, \"35\": 37, \"40\": 2}, \"25\": {\"25\": 86, \"50\": 3, \"55\": 9, \"44\": 9, \"46\": 1, \"5\": 4, \"19\": 6, \"3\": 6, \"0\": 1, \"6\": 5, \"41\": 2, \"9\": 1, \"40\": 1}, \"24\": {\"24\": 49, \"43\": 6, \"0\": 1}, \"48\": {\"48\": 127, \"8\": 2, \"42\": 1, \"36\": 2, \"53\": 1, \"27\": 4, \"51\": 1}, \"51\": {\"51\": 130, \"53\": 7, \"21\": 7}, \"13\": {\"13\": 120}, \"14\": {\"14\": 2, \"0\": 1, \"55\": 4, \"37\": 2, \"38\": 1, \"56\": 2, \"31\": 1, \"35\": 3}, \"32\": {\"32\": 17, \"57\": 1, \"46\": 1, \"49\": 2, \"25\": 1, \"28\": 1, \"9\": 1}, \"30\": {\"30\": 40, \"12\": 1, \"8\": 2, \"53\": 1}, \"34\": {\"9\": 1, \"34\": 19, \"29\": 1, \"6\": 2, \"5\": 1}, \"9\": {\"9\": 81, \"26\": 1, \"54\": 2, \"6\": 1, \"45\": 8, \"50\": 6, \"57\": 7, \"29\": 7, \"5\": 1, \"19\": 13, \"47\": 2, \"25\": 1, \"3\": 2, \"44\": 2, \"4\": 2}, \"1\": {\"1\": 25, \"47\": 2, \"54\": 1, \"57\": 2, \"45\": 2, \"4\": 4, \"48\": 1, \"36\": 1, \"16\": 1, \"46\": 1}, \"0\": {\"1\": 1, \"24\": 3, \"0\": 46, \"14\": 1, \"56\": 4, \"6\": 2, \"22\": 8, \"5\": 1, \"10\": 2, \"46\": 5, \"43\": 4, \"49\": 2, \"50\": 1}, \"38\": {\"38\": 36, \"13\": 3, \"31\": 1}, \"22\": {\"24\": 12, \"22\": 77, \"10\": 8, \"43\": 11, \"56\": 7, \"0\": 7, \"13\": 1, \"46\": 2, \"3\": 1, \"16\": 1, \"5\": 1}, \"40\": {\"40\": 88, \"35\": 1, \"55\": 6, \"33\": 5, \"56\": 5, \"22\": 4, \"54\": 1, \"46\": 3, \"10\": 2, \"44\": 3, \"49\": 1, \"25\": 1}, \"6\": {\"50\": 7, \"48\": 9, \"5\": 7, \"17\": 5, \"6\": 16, \"7\": 2, \"4\": 4, \"25\": 5, \"44\": 7, \"18\": 2, \"35\": 1, \"54\": 2, \"3\": 2, \"45\": 4, \"36\": 6, \"41\": 2, \"30\": 2, \"55\": 1, \"8\": 2, \"9\": 5, \"29\": 2, \"21\": 1, \"22\": 1, \"27\": 2, \"19\": 3, \"34\": 1, \"57\": 4, \"16\": 1, \"43\": 1, \"51\": 1, \"47\": 1, \"20\": 1, \"46\": 1, \"52\": 1}, \"16\": {\"16\": 82, \"52\": 5, \"23\": 5, \"6\": 1, \"15\": 3}, \"11\": {\"11\": 78, \"48\": 9, \"52\": 2, \"18\": 6, \"15\": 5, \"20\": 1, \"23\": 2, \"17\": 1}, \"20\": {\"20\": 96, \"8\": 7, \"36\": 1, \"53\": 2, \"21\": 10, \"30\": 2, \"51\": 2, \"27\": 1, \"47\": 1}, \"17\": {\"17\": 77, \"30\": 2, \"29\": 1}, \"26\": {\"26\": 15, \"19\": 1, \"9\": 2, \"29\": 2, \"28\": 1, \"45\": 2, \"34\": 1}, \"54\": {\"6\": 2, \"17\": 3, \"47\": 6, \"50\": 3, \"54\": 58, \"4\": 9, \"26\": 2, \"45\": 1, \"36\": 6, \"3\": 2, \"8\": 2, \"12\": 2, \"21\": 4, \"9\": 3, \"30\": 1, \"53\": 1, \"51\": 1, \"20\": 2}, \"55\": {\"55\": 118, \"46\": 3, \"31\": 2, \"35\": 5, \"22\": 2, \"25\": 5, \"56\": 3, \"40\": 10, \"50\": 1, \"44\": 1, \"14\": 1, \"3\": 2, \"6\": 1}, \"50\": {\"20\": 1, \"50\": 38, \"54\": 3, \"19\": 10, \"28\": 2, \"57\": 3, \"17\": 2, \"41\": 2, \"6\": 5, \"53\": 1, \"48\": 3, \"9\": 14, \"25\": 6, \"8\": 2, \"5\": 2, \"45\": 9, \"51\": 1, \"46\": 3, \"4\": 1, \"3\": 8, \"12\": 1, \"21\": 1, \"13\": 1, \"26\": 2, \"34\": 1, \"29\": 4, \"18\": 2, \"44\": 2, \"36\": 1, \"27\": 1}, \"19\": {\"19\": 112, \"3\": 2, \"28\": 1, \"9\": 8, \"45\": 3, \"44\": 6, \"50\": 2, \"25\": 1, \"29\": 6, \"41\": 1}, \"44\": {\"50\": 5, \"44\": 86, \"19\": 13, \"33\": 1, \"26\": 1, \"43\": 2, \"10\": 1, \"25\": 3, \"55\": 1, \"29\": 1, \"9\": 4, \"57\": 2, \"6\": 2}, \"47\": {\"48\": 16, \"47\": 54, \"23\": 7, \"20\": 6, \"42\": 2, \"57\": 2, \"52\": 11, \"36\": 4, \"8\": 1, \"4\": 7, \"16\": 1, \"5\": 2, \"15\": 2, \"18\": 3, \"12\": 1, \"29\": 1}, \"33\": {\"33\": 35, \"40\": 1}, \"5\": {\"5\": 23, \"47\": 7, \"4\": 16, \"6\": 6, \"17\": 4, \"45\": 3, \"12\": 2, \"9\": 3, \"3\": 4, \"36\": 4, \"55\": 3, \"57\": 5, \"48\": 4, \"35\": 1, \"23\": 3, \"15\": 1, \"50\": 1, \"25\": 2, \"46\": 2, \"42\": 2, \"1\": 1, \"27\": 1, \"8\": 1, \"29\": 4, \"19\": 1, \"52\": 2, \"54\": 1, \"44\": 1}, \"18\": {\"18\": 95, \"23\": 7, \"16\": 2, \"54\": 2, \"45\": 1, \"52\": 1}, \"21\": {\"21\": 110, \"53\": 5, \"12\": 2, \"45\": 1, \"51\": 1, \"44\": 1, \"20\": 2, \"8\": 2}, \"41\": {\"6\": 3, \"41\": 30, \"25\": 1, \"46\": 1, \"9\": 1}, \"23\": {\"23\": 119, \"18\": 5, \"52\": 4}, \"39\": {\"39\": 12, \"6\": 1, \"47\": 1, \"29\": 1, \"45\": 2, \"50\": 1, \"46\": 1, \"8\": 1}, \"37\": {\"37\": 24}, \"8\": {\"8\": 122, \"17\": 2, \"27\": 3, \"30\": 4, \"36\": 1, \"48\": 1, \"21\": 9, \"20\": 2}, \"49\": {\"49\": 20}, \"53\": {\"53\": 108, \"21\": 7, \"51\": 25}, \"31\": {\"31\": 26, \"2\": 1, \"10\": 1}, \"28\": {\"19\": 3, \"28\": 19, \"45\": 6, \"57\": 2, \"32\": 1, \"9\": 1}, \"3\": {\"3\": 50, \"35\": 1, \"34\": 1, \"25\": 6, \"4\": 9, \"45\": 7, \"5\": 1, \"42\": 1, \"19\": 6, \"41\": 2, \"44\": 4, \"9\": 4, \"50\": 7, \"54\": 3, \"6\": 5, \"40\": 1, \"36\": 7, \"47\": 1, \"8\": 2, \"27\": 1, \"39\": 1, \"12\": 1, \"57\": 1, \"55\": 1, \"48\": 1}, \"27\": {\"27\": 125, \"8\": 7, \"21\": 1, \"6\": 1, \"17\": 2, \"12\": 1, \"48\": 1}, \"46\": {\"17\": 2, \"52\": 1, \"8\": 1, \"1\": 3, \"3\": 4, \"23\": 7, \"18\": 8, \"39\": 1, \"22\": 3, \"36\": 4, \"35\": 2, \"48\": 11, \"40\": 1, \"4\": 9, \"10\": 2, \"46\": 21, \"11\": 4, \"56\": 5, \"47\": 5, \"16\": 1, \"21\": 1, \"5\": 4, \"27\": 5, \"20\": 1, \"13\": 1, \"9\": 1, \"31\": 1, \"42\": 2, \"55\": 3, \"41\": 1, \"19\": 1, \"50\": 2, \"6\": 2, \"15\": 3, \"57\": 1, \"12\": 1, \"29\": 1, \"43\": 2}, \"12\": {\"12\": 69, \"8\": 4, \"21\": 9, \"30\": 3, \"27\": 3, \"45\": 2, \"50\": 1, \"53\": 1}, \"7\": {\"7\": 20, \"46\": 1, \"13\": 1, \"20\": 1, \"44\": 1}, \"4\": {\"4\": 91, \"47\": 9, \"48\": 1, \"27\": 1, \"5\": 2, \"17\": 3, \"57\": 2, \"3\": 1, \"45\": 3, \"36\": 8, \"29\": 2, \"12\": 1, \"50\": 1, \"46\": 1, \"42\": 1, \"0\": 1, \"6\": 1, \"21\": 1, \"9\": 1, \"53\": 1}, \"42\": {\"42\": 20, \"47\": 3, \"5\": 1, \"17\": 1, \"23\": 1, \"20\": 3, \"48\": 2, \"36\": 1}, \"43\": {\"24\": 5, \"43\": 112, \"2\": 1, \"10\": 3, \"0\": 2, \"22\": 4, \"7\": 1, \"25\": 2}, \"29\": {\"29\": 75, \"19\": 6, \"45\": 3, \"35\": 1, \"57\": 12, \"9\": 10, \"6\": 1, \"44\": 4, \"47\": 1, \"4\": 2, \"5\": 2, \"28\": 1, \"55\": 1, \"50\": 1}, \"57\": {\"3\": 1, \"57\": 66, \"32\": 1, \"45\": 9, \"29\": 5, \"6\": 2, \"4\": 5, \"36\": 3, \"5\": 4, \"1\": 1, \"50\": 1, \"9\": 2}, \"52\": {\"52\": 94, \"18\": 2, \"23\": 8}, \"45\": {\"45\": 62, \"29\": 4, \"17\": 1, \"50\": 5, \"12\": 3, \"36\": 1, \"47\": 3, \"57\": 3, \"4\": 4, \"44\": 1, \"9\": 6, \"6\": 2, \"1\": 1}, \"36\": {\"47\": 7, \"36\": 42, \"8\": 8, \"21\": 5, \"20\": 10, \"4\": 5, \"48\": 5, \"27\": 4, \"5\": 2, \"53\": 2, \"51\": 1, \"17\": 1}, \"10\": {\"10\": 108, \"22\": 6, \"24\": 2, \"46\": 1, \"43\": 7, \"0\": 2}, \"15\": {\"15\": 121, \"16\": 10, \"52\": 3}, \"56\": {\"56\": 112, \"2\": 3, \"38\": 1, \"0\": 1, \"22\": 4, \"7\": 2, \"10\": 1}, \"2\": {\"2\": 36}}, \"W_3\": {\"109\": {\"107\": 14, \"14\": 6, \"2\": 2, \"40\": 2, \"43\": 2, \"109\": 18, \"31\": 1, \"82\": 3, \"69\": 12, \"126\": 3, \"89\": 1, \"90\": 7, \"26\": 2, \"87\": 1, \"11\": 4, \"117\": 2, \"93\": 7, \"102\": 1, \"70\": 4, \"39\": 7, \"84\": 2, \"113\": 4, \"62\": 2, \"81\": 1, \"105\": 2, \"74\": 1, \"61\": 1, \"50\": 2, \"29\": 2, \"114\": 2, \"18\": 3, \"15\": 1, \"88\": 1, \"33\": 2, \"1\": 1, \"16\": 2}, \"127\": {\"127\": 97, \"46\": 1, \"99\": 1, \"112\": 1, \"122\": 1, \"39\": 1, \"105\": 8, \"0\": 1, \"5\": 3, \"71\": 4, \"4\": 3, \"108\": 3, \"124\": 1, \"3\": 1, \"8\": 1, \"7\": 1}, \"14\": {\"14\": 50, \"65\": 1, \"74\": 1, \"107\": 2, \"62\": 7, \"2\": 1, \"82\": 1, \"109\": 1, \"11\": 1, \"118\": 2, \"32\": 2, \"13\": 3, \"45\": 1, \"69\": 3, \"116\": 1, \"84\": 1, \"88\": 1, \"0\": 1}, \"7\": {\"7\": 74, \"42\": 1, \"73\": 1, \"12\": 3, \"30\": 2, \"0\": 6, \"111\": 14, \"8\": 2, \"10\": 2, \"101\": 1, \"3\": 1, \"27\": 1, \"124\": 1, \"126\": 1, \"98\": 1, \"36\": 1}, \"129\": {\"84\": 5, \"110\": 2, \"129\": 12, \"26\": 1, \"103\": 1, \"43\": 1, \"127\": 1, \"102\": 1, \"114\": 2, \"1\": 2, \"119\": 1, \"5\": 1, \"16\": 1, \"60\": 1}, \"57\": {\"57\": 19, \"118\": 1}, \"84\": {\"100\": 1, \"84\": 95, \"129\": 1, \"43\": 1, \"16\": 2, \"114\": 1, \"87\": 1, \"102\": 1, \"124\": 1, \"1\": 2, \"110\": 1, \"88\": 1}, \"114\": {\"129\": 2, \"127\": 1, \"114\": 90, \"31\": 1, \"110\": 5, \"1\": 11, \"62\": 1, \"16\": 1, \"71\": 1, \"84\": 1, \"5\": 1, \"87\": 2, \"43\": 1, \"128\": 1, \"99\": 1, \"78\": 1, \"27\": 1, \"11\": 1, \"102\": 1}, \"44\": {\"44\": 67, \"21\": 1, \"113\": 2, \"31\": 1, \"93\": 1}, \"21\": {\"21\": 29, \"113\": 4, \"126\": 1, \"39\": 4, \"29\": 2, \"36\": 1, \"80\": 2, \"92\": 1, \"101\": 1, \"118\": 2, \"94\": 1}, \"46\": {\"46\": 10, \"107\": 1, \"86\": 1, \"55\": 2, \"40\": 1, \"35\": 1}, \"100\": {\"129\": 3, \"100\": 7, \"114\": 1, \"107\": 1, \"122\": 2, \"87\": 2}, \"63\": {\"63\": 9, \"93\": 1, \"31\": 1, \"39\": 1, \"18\": 1, \"43\": 2, \"75\": 1}, \"24\": {\"24\": 15, \"30\": 2, \"83\": 1, \"106\": 5, \"70\": 1, \"101\": 3, \"93\": 1, \"36\": 2, \"15\": 1, \"91\": 1, \"5\": 1, \"8\": 2, \"125\": 2, \"0\": 2, \"85\": 1, \"42\": 2, \"73\": 1, \"6\": 1, \"94\": 1, \"71\": 1, \"12\": 1, \"27\": 1}, \"107\": {\"14\": 1, \"107\": 78, \"32\": 1, \"110\": 2, \"82\": 3, \"62\": 5, \"105\": 12, \"118\": 1, \"7\": 1, \"69\": 3, \"1\": 3, \"127\": 1, \"8\": 1, \"90\": 1, \"116\": 1, \"109\": 1, \"4\": 2, \"40\": 1}, \"35\": {\"7\": 2, \"35\": 7, \"66\": 1, \"44\": 1, \"91\": 1}, \"81\": {\"81\": 20, \"96\": 3, \"44\": 1, \"88\": 1, \"39\": 1, \"120\": 1, \"126\": 2, \"113\": 1, \"23\": 1, \"2\": 1}, \"64\": {\"64\": 19, \"92\": 1}, \"59\": {\"77\": 2, \"97\": 1, \"59\": 3, \"35\": 2, \"83\": 1, \"51\": 1, \"85\": 2}, \"33\": {\"33\": 102, \"43\": 1, \"118\": 1, \"117\": 1, \"14\": 1, \"18\": 1, \"8\": 1, \"87\": 1, \"93\": 4, \"16\": 1}, \"34\": {\"36\": 5, \"15\": 4, \"58\": 1, \"24\": 1, \"14\": 2, \"129\": 1, \"75\": 1, \"27\": 1, \"108\": 1, \"62\": 1, \"125\": 1, \"25\": 1, \"116\": 1, \"100\": 1, \"34\": 4, \"40\": 1, \"5\": 1, \"20\": 1, \"32\": 1, \"94\": 1, \"69\": 1}, \"36\": {\"59\": 1, \"36\": 34, \"25\": 1, \"27\": 4, \"72\": 1, \"30\": 2, \"58\": 1, \"6\": 1, \"124\": 4, \"73\": 2, \"15\": 8, \"91\": 1, \"98\": 13, \"125\": 7, \"111\": 6, \"8\": 3, \"106\": 10, \"10\": 5, \"12\": 1, \"94\": 2, \"108\": 5, \"0\": 1, \"7\": 2, \"97\": 1, \"54\": 1, \"42\": 1, \"24\": 1, \"127\": 1}, \"79\": {\"79\": 8, \"14\": 1, \"50\": 1, \"48\": 2}, \"80\": {\"80\": 16}, \"77\": {\"77\": 12, \"64\": 1, \"7\": 1, \"95\": 1, \"83\": 1}, \"22\": {\"22\": 9, \"3\": 2, \"116\": 1, \"108\": 1, \"43\": 1, \"17\": 1, \"100\": 1}, \"124\": {\"124\": 75, \"97\": 1, \"72\": 3, \"10\": 4, \"9\": 3, \"73\": 1, \"21\": 1, \"12\": 5, \"106\": 1, \"111\": 6, \"7\": 4, \"39\": 1, \"4\": 2, \"98\": 2, \"0\": 5, \"47\": 1, \"66\": 1, \"30\": 1, \"85\": 1, \"95\": 1, \"37\": 1, \"18\": 1, \"70\": 1, \"127\": 1, \"110\": 1}, \"2\": {\"2\": 7, \"64\": 1, \"126\": 5, \"20\": 1, \"69\": 1, \"102\": 1, \"90\": 1, \"113\": 1, \"43\": 1, \"26\": 2, \"81\": 2, \"16\": 2, \"93\": 1, \"109\": 2}, \"87\": {\"109\": 6, \"87\": 32, \"100\": 1, \"1\": 6, \"31\": 1, \"62\": 6, \"16\": 3, \"110\": 4, \"39\": 1, \"93\": 8, \"129\": 1, \"71\": 3, \"32\": 1, \"102\": 5, \"114\": 13, \"84\": 5, \"18\": 2, \"118\": 3, \"43\": 1, \"23\": 1, \"126\": 1, \"44\": 1, \"14\": 2, \"11\": 1, \"88\": 1, \"113\": 1, \"107\": 1, \"90\": 1}, \"105\": {\"105\": 78, \"9\": 1, \"71\": 2, \"127\": 10, \"40\": 7, \"5\": 5, \"88\": 1, \"107\": 7, \"4\": 5, \"108\": 1, \"79\": 1, \"49\": 1, \"19\": 1, \"99\": 1, \"1\": 1}, \"95\": {\"95\": 29, \"101\": 1, \"12\": 1, \"77\": 1}, \"43\": {\"113\": 6, \"43\": 13, \"33\": 2, \"80\": 1, \"117\": 4, \"44\": 2, \"121\": 1, \"38\": 1, \"103\": 2, \"60\": 1, \"96\": 1, \"39\": 1, \"90\": 1, \"2\": 1, \"118\": 4, \"92\": 1, \"126\": 3, \"27\": 1, \"84\": 1, \"114\": 1, \"58\": 1, \"123\": 1, \"15\": 1, \"81\": 1, \"23\": 1, \"18\": 2, \"26\": 1}, \"56\": {\"56\": 8, \"8\": 1, \"47\": 1, \"30\": 1, \"34\": 1}, \"18\": {\"18\": 110, \"81\": 1, \"118\": 2, \"39\": 3, \"117\": 4, \"21\": 1, \"125\": 1, \"33\": 2}, \"85\": {\"95\": 1, \"85\": 21, \"36\": 1, \"66\": 2, \"38\": 1, \"52\": 1, \"9\": 3, \"42\": 1, \"108\": 1, \"10\": 2, \"124\": 1, \"116\": 1}, \"113\": {\"113\": 93, \"126\": 7, \"64\": 3, \"43\": 1, \"120\": 5, \"93\": 2, \"90\": 3, \"80\": 2, \"121\": 1, \"44\": 2, \"124\": 1}, \"97\": {\"97\": 8, \"58\": 2, \"27\": 1, \"126\": 1, \"73\": 1, \"9\": 1, \"6\": 2, \"64\": 1, \"112\": 1, \"111\": 1, \"124\": 1}, \"86\": {\"110\": 2, \"128\": 3, \"17\": 1, \"49\": 1, \"1\": 3, \"86\": 8, \"114\": 3, \"41\": 1, \"5\": 1, \"15\": 1, \"3\": 1, \"16\": 1, \"125\": 1, \"71\": 1}, \"128\": {\"128\": 16, \"87\": 1, \"122\": 3, \"5\": 1, \"53\": 1, \"3\": 1, \"86\": 1, \"23\": 1, \"127\": 1, \"108\": 1, \"129\": 1, \"22\": 1, \"78\": 1, \"125\": 1, \"101\": 1}, \"123\": {\"123\": 14, \"81\": 1, \"63\": 1}, \"8\": {\"86\": 2, \"21\": 2, \"8\": 54, \"35\": 2, \"77\": 1, \"56\": 2, \"32\": 1, \"90\": 1, \"49\": 1, \"24\": 2, \"10\": 9, \"127\": 3, \"101\": 2, \"71\": 2, \"30\": 3, \"0\": 5, \"99\": 2, \"98\": 3, \"7\": 1, \"108\": 7, \"3\": 2, \"40\": 1, \"106\": 2, \"1\": 3, \"5\": 4, \"88\": 2, \"105\": 2, \"53\": 1, \"12\": 2, \"72\": 1, \"42\": 1, \"4\": 1, \"27\": 1, \"124\": 1, \"126\": 1}, \"110\": {\"110\": 25, \"43\": 1, \"129\": 1, \"45\": 1, \"51\": 1, \"62\": 4, \"5\": 5, \"114\": 8, \"24\": 1, \"29\": 1, \"128\": 1, \"124\": 1, \"87\": 4, \"1\": 5, \"88\": 6, \"16\": 3, \"127\": 1, \"71\": 3, \"44\": 1, \"111\": 1, \"93\": 1, \"102\": 3, \"39\": 1, \"84\": 1, \"11\": 1, \"17\": 1, \"27\": 1, \"23\": 1, \"4\": 1, \"126\": 1, \"69\": 1, \"107\": 1, \"10\": 1, \"106\": 1}, \"126\": {\"85\": 1, \"113\": 7, \"126\": 81, \"120\": 2, \"94\": 1, \"125\": 1, \"106\": 1, \"90\": 4, \"44\": 2, \"96\": 1, \"118\": 2, \"40\": 1}, \"42\": {\"42\": 7, \"121\": 1, \"68\": 1, \"122\": 1, \"78\": 1, \"85\": 1, \"58\": 1, \"49\": 1, \"72\": 1, \"29\": 1, \"93\": 2, \"129\": 1, \"51\": 1, \"114\": 1, \"0\": 1, \"60\": 1, \"84\": 2, \"36\": 2, \"27\": 1}, \"96\": {\"113\": 2, \"96\": 10, \"81\": 2, \"43\": 1, \"17\": 2, \"39\": 1, \"92\": 1, \"93\": 1}, \"83\": {\"83\": 21, \"10\": 1, \"51\": 1, \"112\": 1}, \"54\": {\"54\": 13, \"24\": 1, \"125\": 2}, \"65\": {\"83\": 1, \"121\": 1, \"4\": 1, \"101\": 1, \"65\": 3, \"8\": 1, \"53\": 1, \"49\": 1, \"40\": 1, \"92\": 1}, \"30\": {\"65\": 1, \"48\": 1, \"30\": 29, \"7\": 5, \"12\": 5, \"21\": 1, \"0\": 4, \"127\": 2, \"73\": 3, \"8\": 7, \"24\": 2, \"10\": 2, \"106\": 1, \"99\": 1, \"108\": 4, \"69\": 1, \"3\": 2, \"88\": 1, \"34\": 1, \"52\": 1, \"83\": 2, \"4\": 1, \"23\": 1, \"5\": 2, \"27\": 1, \"98\": 2, \"111\": 1}, \"121\": {\"113\": 1, \"100\": 2, \"80\": 2, \"64\": 2, \"90\": 2, \"121\": 7, \"21\": 2, \"14\": 2, \"39\": 1, \"1\": 1, \"62\": 3, \"126\": 1, \"44\": 1, \"76\": 1, \"120\": 2, \"87\": 1, \"16\": 1}, \"68\": {\"45\": 2, \"68\": 7, \"12\": 1, \"72\": 2, \"111\": 1, \"10\": 2, \"125\": 1}, \"45\": {\"48\": 2, \"45\": 8, \"119\": 2, \"89\": 1, \"38\": 1, \"14\": 1, \"115\": 1}, \"48\": {\"48\": 5, \"65\": 1, \"83\": 2, \"78\": 2, \"76\": 2, \"112\": 1, \"85\": 1, \"5\": 1, \"57\": 1}, \"4\": {\"4\": 52, \"8\": 7, \"3\": 1, \"0\": 1, \"40\": 8, \"105\": 6, \"127\": 9, \"94\": 1, \"71\": 2, \"108\": 2, \"10\": 1, \"34\": 1, \"98\": 1, \"5\": 1, \"12\": 1, \"107\": 1, \"30\": 1}, \"67\": {\"67\": 16}, \"103\": {\"103\": 14, \"129\": 1, \"81\": 1}, \"74\": {\"74\": 16}, \"1\": {\"1\": 67, \"129\": 1, \"19\": 2, \"5\": 10, \"110\": 4, \"114\": 11, \"108\": 1, \"70\": 3, \"105\": 2, \"4\": 1, \"113\": 2, \"86\": 1, \"84\": 1, \"109\": 1, \"87\": 1}, \"61\": {\"61\": 14, \"109\": 1, \"62\": 1}, \"101\": {\"101\": 29, \"42\": 1, \"0\": 4, \"60\": 1, \"34\": 1, \"71\": 1, \"36\": 1, \"24\": 1, \"6\": 1, \"12\": 4, \"8\": 1, \"15\": 1, \"10\": 1, \"111\": 1, \"85\": 1, \"46\": 1, \"77\": 1, \"88\": 1}, \"93\": {\"93\": 86, \"96\": 1, \"117\": 4, \"44\": 2, \"63\": 1, \"64\": 1, \"126\": 6, \"113\": 10, \"33\": 10, \"88\": 1, \"39\": 1, \"90\": 5, \"62\": 1, \"124\": 1, \"18\": 4, \"78\": 1, \"118\": 1, \"87\": 1, \"111\": 1}, \"26\": {\"26\": 114, \"102\": 7, \"117\": 1, \"109\": 3, \"18\": 1, \"2\": 1, \"43\": 1, \"11\": 1, \"16\": 1}, \"71\": {\"4\": 1, \"1\": 1, \"71\": 41, \"23\": 1, \"124\": 1, \"19\": 1, \"106\": 1, \"127\": 6, \"108\": 4, \"114\": 2, \"72\": 1, \"53\": 2, \"87\": 1, \"125\": 1, \"5\": 4}, \"15\": {\"46\": 1, \"104\": 1, \"15\": 49, \"58\": 1, \"72\": 2, \"94\": 2, \"36\": 8, \"73\": 1, \"24\": 3, \"106\": 4, \"6\": 2, \"70\": 1, \"124\": 6, \"111\": 2, \"125\": 7, \"30\": 1, \"3\": 1, \"27\": 3, \"7\": 2, \"0\": 1, \"37\": 1, \"9\": 2, \"98\": 3}, \"55\": {\"55\": 15, \"85\": 1}, \"104\": {\"104\": 16}, \"112\": {\"100\": 1, \"112\": 6, \"101\": 1, \"3\": 1, \"30\": 2, \"99\": 1, \"27\": 1, \"83\": 1, \"127\": 2}, \"102\": {\"102\": 90, \"26\": 9, \"16\": 6, \"109\": 6, \"84\": 4, \"118\": 2, \"87\": 2, \"62\": 1, \"11\": 2}, \"117\": {\"117\": 90, \"43\": 3, \"39\": 6, \"16\": 1, \"18\": 6, \"113\": 1, \"33\": 4, \"118\": 1}, \"119\": {\"119\": 12, \"114\": 1, \"102\": 1, \"53\": 1, \"69\": 1}, \"20\": {\"20\": 7, \"43\": 1, \"106\": 1, \"129\": 2, \"119\": 1, \"116\": 1, \"123\": 1, \"5\": 1, \"122\": 1}, \"120\": {\"120\": 19, \"92\": 1}, \"39\": {\"49\": 1, \"39\": 37, \"64\": 1, \"90\": 4, \"2\": 1, \"81\": 1, \"92\": 1, \"63\": 1, \"117\": 14, \"21\": 4, \"16\": 4, \"87\": 1, \"18\": 6, \"118\": 1, \"126\": 8, \"125\": 2, \"93\": 3, \"27\": 1, \"70\": 1, \"113\": 4, \"84\": 1, \"26\": 1, \"22\": 1, \"124\": 1, \"96\": 1, \"24\": 1, \"106\": 1, \"43\": 2, \"33\": 2, \"15\": 1}, \"49\": {\"49\": 4, \"8\": 2, \"1\": 1, \"44\": 1, \"86\": 1, \"88\": 1, \"81\": 1, \"90\": 1, \"91\": 1, \"93\": 1, \"65\": 1, \"121\": 1, \"12\": 1, \"33\": 2, \"103\": 1, \"18\": 1, \"29\": 1, \"28\": 1, \"92\": 1}, \"53\": {\"53\": 17, \"5\": 1, \"71\": 2}, \"92\": {\"92\": 26, \"39\": 1, \"64\": 1, \"21\": 2, \"120\": 2}, \"3\": {\"114\": 3, \"3\": 95, \"1\": 5, \"108\": 3, \"5\": 8, \"60\": 1, \"8\": 1}, \"47\": {\"34\": 1, \"58\": 1, \"47\": 10}, \"115\": {\"115\": 11, \"17\": 1, \"14\": 1, \"127\": 1, \"89\": 1, \"45\": 1}, \"58\": {\"58\": 14, \"75\": 1, \"106\": 1}, \"29\": {\"29\": 20, \"93\": 1, \"31\": 2, \"121\": 1, \"23\": 1, \"123\": 1, \"113\": 1, \"33\": 2, \"43\": 1, \"44\": 1, \"96\": 1}, \"12\": {\"17\": 1, \"12\": 58, \"85\": 1, \"27\": 1, \"30\": 5, \"127\": 2, \"101\": 1, \"10\": 4, \"108\": 2, \"124\": 1, \"73\": 1, \"8\": 6, \"0\": 7, \"98\": 3, \"7\": 2, \"111\": 4, \"5\": 1, \"4\": 2, \"97\": 1, \"95\": 1}, \"62\": {\"62\": 86, \"107\": 3, \"129\": 1, \"128\": 1, \"40\": 1, \"102\": 2, \"105\": 1, \"109\": 2, \"118\": 1, \"87\": 5, \"114\": 1, \"16\": 1, \"69\": 8, \"14\": 4, \"113\": 1}, \"11\": {\"100\": 2, \"61\": 1, \"32\": 1, \"69\": 8, \"98\": 1, \"11\": 33, \"26\": 8, \"87\": 3, \"62\": 11, \"78\": 1, \"63\": 2, \"29\": 1, \"39\": 3, \"18\": 2, \"109\": 5, \"43\": 3, \"122\": 1, \"14\": 3, \"16\": 6, \"118\": 4, \"5\": 1, \"107\": 15, \"40\": 5, \"93\": 4, \"105\": 3, \"8\": 1, \"45\": 1, \"128\": 1, \"113\": 2, \"84\": 1, \"4\": 2, \"102\": 2, \"117\": 1, \"88\": 1, \"108\": 1}, \"72\": {\"68\": 3, \"72\": 16, \"111\": 5, \"124\": 2, \"15\": 1, \"95\": 1}, \"98\": {\"98\": 64, \"77\": 1, \"7\": 5, \"73\": 1, \"0\": 6, \"12\": 3, \"10\": 3, \"36\": 2, \"111\": 2, \"106\": 1, \"94\": 3, \"124\": 1, \"125\": 5, \"51\": 1, \"83\": 1, \"15\": 2, \"101\": 1, \"8\": 2, \"27\": 2}, \"122\": {\"122\": 17, \"11\": 1, \"1\": 6, \"87\": 3, \"55\": 1, \"2\": 1, \"107\": 1, \"18\": 1, \"5\": 2, \"43\": 2, \"92\": 1, \"129\": 2, \"39\": 2, \"110\": 1, \"29\": 1, \"36\": 1, \"84\": 1, \"118\": 1, \"113\": 1, \"13\": 1, \"33\": 2, \"40\": 3, \"99\": 1, \"70\": 1, \"44\": 1, \"117\": 1, \"93\": 1, \"23\": 2, \"124\": 1}, \"17\": {\"15\": 2, \"80\": 1, \"51\": 2, \"67\": 1, \"64\": 2, \"120\": 1, \"9\": 1, \"17\": 1, \"68\": 1, \"41\": 1, \"113\": 2, \"94\": 1}, \"94\": {\"94\": 43, \"91\": 2, \"15\": 2, \"24\": 4, \"8\": 1, \"106\": 5, \"6\": 3, \"0\": 2, \"36\": 4, \"7\": 2, \"125\": 2, \"98\": 2, \"47\": 1, \"73\": 3, \"52\": 1, \"56\": 1, \"12\": 3, \"34\": 1, \"37\": 1, \"30\": 1}, \"106\": {\"94\": 6, \"106\": 54, \"98\": 1, \"66\": 1, \"24\": 1, \"72\": 1, \"36\": 7, \"27\": 3, \"125\": 5, \"15\": 6, \"7\": 1, \"30\": 1, \"0\": 1, \"111\": 1, \"126\": 1}, \"28\": {\"28\": 11, \"113\": 1, \"126\": 1, \"114\": 1, \"21\": 1, \"49\": 1}, \"69\": {\"69\": 60, \"106\": 1, \"40\": 1, \"27\": 1, \"14\": 8, \"107\": 1, \"87\": 2, \"1\": 2, \"82\": 2, \"62\": 2, \"113\": 1, \"90\": 1, \"70\": 1, \"125\": 1}, \"125\": {\"125\": 83, \"106\": 5, \"24\": 2, \"6\": 3, \"36\": 2, \"109\": 1, \"15\": 7, \"39\": 2, \"94\": 3, \"27\": 1, \"98\": 4, \"0\": 1}, \"19\": {\"74\": 1, \"41\": 1, \"38\": 1, \"2\": 1, \"0\": 2, \"12\": 1, \"103\": 1, \"85\": 4, \"9\": 2, \"39\": 2, \"40\": 2, \"121\": 1, \"21\": 1, \"10\": 1, \"19\": 1, \"90\": 1, \"80\": 1, \"44\": 2, \"95\": 1, \"92\": 1, \"96\": 1, \"29\": 1, \"126\": 2}, \"41\": {\"41\": 8, \"51\": 1, \"10\": 1, \"128\": 1, \"85\": 1, \"98\": 1, \"47\": 1, \"101\": 1, \"20\": 1}, \"60\": {\"60\": 11, \"20\": 1, \"1\": 1, \"117\": 1, \"101\": 1, \"23\": 1, \"88\": 2, \"52\": 1, \"3\": 1, \"2\": 1, \"86\": 1, \"72\": 1, \"62\": 1, \"17\": 1, \"22\": 1, \"114\": 1, \"102\": 1}, \"70\": {\"43\": 3, \"42\": 1, \"127\": 3, \"88\": 3, \"63\": 2, \"3\": 1, \"5\": 2, \"108\": 2, \"36\": 1, \"21\": 1, \"39\": 1, \"10\": 3, \"15\": 2, \"73\": 2, \"102\": 1, \"18\": 1, \"126\": 2, \"19\": 2, \"27\": 4, \"70\": 7, \"124\": 3, \"26\": 1, \"8\": 6, \"105\": 1, \"84\": 2, \"4\": 2, \"53\": 2, \"103\": 1, \"83\": 1, \"30\": 1, \"114\": 1, \"87\": 2, \"93\": 1, \"71\": 1, \"90\": 1, \"117\": 1, \"1\": 1}, \"27\": {\"72\": 2, \"27\": 31, \"36\": 4, \"94\": 3, \"91\": 1, \"15\": 7, \"97\": 2, \"8\": 2, \"75\": 2, \"24\": 1, \"34\": 1, \"125\": 10, \"10\": 3, \"12\": 1, \"106\": 2, \"124\": 3, \"108\": 1, \"111\": 3, \"0\": 4, \"7\": 2, \"85\": 1, \"47\": 1, \"101\": 1, \"52\": 1, \"68\": 1, \"98\": 2, \"95\": 1, \"21\": 1, \"6\": 1, \"127\": 1}, \"10\": {\"27\": 2, \"72\": 1, \"10\": 24, \"49\": 1, \"86\": 1, \"26\": 1, \"37\": 1, \"129\": 1, \"30\": 3, \"99\": 3, \"73\": 1, \"3\": 4, \"106\": 1, \"70\": 3, \"16\": 1, \"111\": 11, \"6\": 1, \"101\": 1, \"1\": 3, \"110\": 1, \"23\": 1, \"15\": 2, \"93\": 2, \"108\": 4, \"7\": 4, \"5\": 2, \"98\": 5, \"124\": 5, \"105\": 4, \"4\": 1, \"8\": 6, \"87\": 2, \"84\": 2, \"97\": 1, \"0\": 4, \"36\": 1, \"122\": 1, \"118\": 1, \"71\": 1, \"114\": 1, \"127\": 2, \"12\": 1}, \"108\": {\"10\": 1, \"108\": 55, \"8\": 7, \"127\": 20, \"128\": 1, \"105\": 6, \"5\": 6, \"86\": 2, \"88\": 5, \"70\": 2, \"3\": 7, \"15\": 1, \"12\": 2, \"71\": 3, \"0\": 2, \"1\": 3, \"16\": 1, \"114\": 1, \"4\": 3, \"53\": 1, \"113\": 2, \"77\": 1, \"19\": 1, \"99\": 1, \"23\": 1, \"21\": 1, \"27\": 1, \"40\": 1, \"109\": 1, \"111\": 1}, \"9\": {\"68\": 1, \"9\": 23, \"10\": 1, \"108\": 1, \"85\": 1, \"52\": 1, \"41\": 1, \"124\": 2, \"98\": 1}, \"25\": {\"25\": 11, \"27\": 2, \"66\": 2, \"90\": 1}, \"37\": {\"37\": 14, \"34\": 1, \"39\": 1}, \"0\": {\"10\": 6, \"0\": 41, \"8\": 10, \"73\": 1, \"101\": 1, \"98\": 3, \"6\": 1, \"124\": 7, \"127\": 7, \"105\": 1, \"30\": 6, \"106\": 5, \"4\": 1, \"108\": 4, \"12\": 3, \"111\": 5, \"15\": 2, \"72\": 1, \"7\": 4, \"27\": 2, \"71\": 1, \"94\": 1, \"24\": 1, \"36\": 1, \"5\": 1}, \"66\": {\"45\": 1, \"66\": 6, \"12\": 1, \"38\": 1, \"7\": 2, \"10\": 1, \"36\": 1, \"25\": 2, \"94\": 1}, \"51\": {\"51\": 13, \"37\": 1, \"77\": 2}, \"76\": {\"45\": 1, \"76\": 5, \"90\": 1, \"116\": 2, \"93\": 1, \"48\": 1, \"65\": 2, \"69\": 1, \"43\": 1, \"70\": 1}, \"32\": {\"32\": 8, \"67\": 1, \"83\": 1, \"69\": 1, \"30\": 1, \"14\": 2, \"11\": 2, \"107\": 1, \"105\": 1, \"40\": 1, \"55\": 2, \"108\": 1, \"19\": 1, \"82\": 1, \"1\": 2, \"119\": 2, \"62\": 2, \"77\": 2}, \"88\": {\"64\": 3, \"108\": 16, \"44\": 2, \"5\": 4, \"88\": 12, \"70\": 2, \"81\": 1, \"53\": 1, \"0\": 4, \"96\": 1, \"116\": 1, \"101\": 1, \"113\": 11, \"39\": 4, \"99\": 1, \"126\": 6, \"127\": 5, \"110\": 1, \"93\": 3, \"90\": 3, \"109\": 1, \"71\": 1, \"33\": 4, \"98\": 2, \"4\": 2, \"111\": 1, \"8\": 5, \"40\": 2, \"86\": 1, \"80\": 2, \"77\": 1, \"78\": 2, \"24\": 1, \"30\": 2, \"1\": 1, \"10\": 1, \"7\": 1}, \"31\": {\"31\": 20}, \"91\": {\"8\": 1, \"108\": 2, \"125\": 1, \"103\": 1, \"85\": 1, \"15\": 2, \"94\": 1, \"71\": 1, \"124\": 1, \"91\": 4, \"75\": 2, \"27\": 1, \"52\": 1, \"105\": 1, \"9\": 1, \"106\": 1, \"24\": 1, \"36\": 1}, \"90\": {\"90\": 102, \"67\": 1, \"78\": 1, \"44\": 1, \"18\": 2, \"113\": 10, \"93\": 2, \"126\": 5, \"29\": 1, \"62\": 1}, \"13\": {\"13\": 4, \"67\": 1, \"113\": 2, \"126\": 1, \"82\": 3, \"64\": 1, \"119\": 1, \"101\": 1, \"21\": 1, \"44\": 1}, \"50\": {\"50\": 11, \"82\": 1, \"40\": 2, \"4\": 1, \"14\": 1}, \"78\": {\"50\": 4, \"21\": 1, \"78\": 2, \"82\": 1, \"107\": 1, \"92\": 1, \"74\": 1, \"113\": 1, \"88\": 1, \"69\": 1, \"44\": 1, \"91\": 1}, \"116\": {\"88\": 2, \"120\": 3, \"116\": 2, \"96\": 2, \"92\": 1, \"31\": 1, \"8\": 1, \"78\": 1, \"82\": 1, \"93\": 1, \"53\": 1, \"105\": 1, \"81\": 1, \"123\": 2, \"34\": 1, \"18\": 1, \"2\": 1, \"23\": 1, \"126\": 1, \"43\": 1, \"113\": 1, \"29\": 1}, \"5\": {\"5\": 90, \"23\": 1, \"129\": 1, \"1\": 6, \"71\": 3, \"114\": 2, \"36\": 1, \"105\": 2, \"110\": 1, \"128\": 2, \"4\": 1, \"24\": 1, \"108\": 1}, \"75\": {\"75\": 12, \"106\": 1, \"27\": 3}, \"89\": {\"89\": 16, \"69\": 2, \"109\": 2, \"40\": 1, \"50\": 1, \"45\": 1, \"124\": 1, \"95\": 1, \"115\": 1, \"85\": 1, \"107\": 1}, \"16\": {\"26\": 6, \"16\": 47, \"109\": 9, \"102\": 19, \"118\": 10, \"39\": 1, \"84\": 11, \"0\": 1, \"110\": 1, \"87\": 2, \"125\": 1, \"18\": 1, \"114\": 1, \"122\": 1, \"81\": 1, \"93\": 1, \"117\": 1, \"33\": 2}, \"38\": {\"106\": 2, \"38\": 13, \"43\": 1}, \"118\": {\"26\": 5, \"33\": 1, \"126\": 3, \"102\": 4, \"118\": 22, \"129\": 1, \"62\": 12, \"113\": 1, \"32\": 2, \"14\": 4, \"16\": 5, \"69\": 2, \"39\": 2, \"117\": 4, \"90\": 5, \"109\": 5, \"18\": 2, \"107\": 3, \"94\": 1, \"11\": 2, \"40\": 1, \"61\": 2, \"123\": 1, \"84\": 3, \"43\": 1, \"108\": 1, \"93\": 4, \"27\": 1}, \"99\": {\"99\": 20, \"32\": 1, \"127\": 3, \"18\": 2, \"73\": 1, \"106\": 1, \"70\": 1, \"101\": 1, \"50\": 2, \"21\": 1, \"4\": 1, \"108\": 2}, \"52\": {\"52\": 13, \"34\": 1, \"35\": 1, \"91\": 1}, \"111\": {\"111\": 96, \"72\": 1, \"12\": 5, \"6\": 2, \"7\": 12, \"36\": 4, \"10\": 2, \"124\": 1, \"97\": 1, \"91\": 1, \"98\": 2, \"0\": 1}, \"23\": {\"126\": 2, \"12\": 1, \"78\": 1, \"18\": 1, \"29\": 1, \"8\": 1, \"21\": 2, \"113\": 3, \"105\": 2, \"39\": 1, \"107\": 1, \"10\": 1, \"40\": 1, \"121\": 1, \"62\": 1, \"2\": 1, \"99\": 1, \"98\": 2, \"30\": 1, \"108\": 1, \"23\": 2, \"71\": 1, \"16\": 1, \"44\": 1, \"4\": 1}, \"73\": {\"73\": 27, \"98\": 1, \"12\": 2, \"101\": 1, \"6\": 1, \"111\": 2, \"94\": 2, \"8\": 2, \"97\": 1, \"0\": 1}, \"82\": {\"42\": 1, \"82\": 21, \"110\": 1, \"109\": 1, \"99\": 1, \"19\": 1, \"85\": 1, \"40\": 1}, \"40\": {\"40\": 91, \"99\": 1, \"71\": 1, \"109\": 1, \"107\": 8, \"87\": 1, \"105\": 7, \"10\": 1, \"88\": 1, \"11\": 2, \"4\": 4, \"93\": 1, \"69\": 1, \"128\": 1, \"50\": 1, \"57\": 2, \"62\": 1, \"122\": 1, \"16\": 1, \"113\": 1}, \"6\": {\"94\": 2, \"91\": 1, \"6\": 11, \"15\": 1, \"101\": 2, \"0\": 1, \"12\": 3, \"125\": 3, \"30\": 2, \"124\": 1, \"25\": 1, \"83\": 1, \"24\": 2, \"106\": 1}}, \"C_5\": {\"47\": {\"52\": 1, \"47\": 52, \"45\": 3, \"34\": 3, \"27\": 9, \"1\": 2, \"9\": 5, \"50\": 1, \"6\": 2, \"19\": 3, \"12\": 3, \"57\": 7, \"41\": 1, \"32\": 4, \"39\": 1, \"3\": 1, \"44\": 1, \"48\": 1}, \"53\": {\"53\": 146, \"20\": 1, \"51\": 2, \"8\": 1}, \"29\": {\"29\": 93, \"28\": 1, \"24\": 1, \"44\": 12, \"9\": 2, \"14\": 1, \"3\": 3, \"45\": 1, \"36\": 1, \"25\": 2, \"43\": 4, \"19\": 1, \"5\": 1, \"50\": 1, \"55\": 1, \"0\": 1}, \"52\": {\"42\": 3, \"52\": 113, \"46\": 1, \"9\": 1, \"18\": 1, \"16\": 2, \"23\": 7, \"53\": 2}, \"55\": {\"4\": 7, \"6\": 1, \"55\": 98, \"45\": 8, \"9\": 8, \"14\": 1, \"25\": 7, \"27\": 3, \"50\": 6, \"19\": 2, \"41\": 1, \"5\": 1, \"47\": 1}, \"17\": {\"17\": 113, \"1\": 1, \"53\": 1, \"48\": 1}, \"42\": {\"42\": 32, \"23\": 2, \"17\": 1, \"32\": 1, \"1\": 1, \"57\": 1, \"46\": 2}, \"33\": {\"33\": 29, \"28\": 1, \"5\": 1, \"45\": 1}, \"11\": {\"1\": 5, \"46\": 7, \"11\": 102, \"16\": 2, \"12\": 2, \"15\": 21, \"21\": 1, \"48\": 2, \"18\": 1, \"32\": 1, \"52\": 1, \"20\": 1, \"8\": 1, \"23\": 1}, \"19\": {\"19\": 103, \"34\": 3, \"47\": 1, \"9\": 6, \"32\": 1, \"57\": 2, \"54\": 1, \"6\": 1}, \"1\": {\"1\": 122, \"48\": 15, \"17\": 2, \"53\": 3, \"6\": 1, \"8\": 1}, \"44\": {\"33\": 7, \"44\": 75, \"41\": 4, \"28\": 3, \"45\": 4, \"2\": 1, \"4\": 6, \"3\": 4, \"19\": 4, \"5\": 2, \"43\": 2, \"0\": 2, \"9\": 4, \"29\": 12, \"50\": 6, \"6\": 1, \"25\": 1, \"36\": 3, \"34\": 1}, \"49\": {\"49\": 35, \"36\": 1}, \"4\": {\"4\": 57, \"39\": 2, \"41\": 3, \"45\": 9, \"9\": 10, \"50\": 5, \"19\": 3, \"14\": 1, \"55\": 5, \"6\": 1, \"47\": 3, \"25\": 1}, \"6\": {\"1\": 11, \"53\": 3, \"30\": 13, \"8\": 6, \"26\": 1, \"50\": 3, \"20\": 5, \"25\": 1, \"6\": 26, \"47\": 5, \"4\": 1, \"9\": 5, \"57\": 4, \"17\": 8, \"19\": 6, \"45\": 4, \"48\": 7, \"55\": 1, \"41\": 1, \"42\": 1, \"28\": 1, \"38\": 1, \"27\": 1, \"54\": 1}, \"39\": {\"6\": 1, \"47\": 1, \"1\": 2, \"48\": 1, \"39\": 11, \"45\": 2, \"19\": 1, \"32\": 1}, \"50\": {\"50\": 50, \"25\": 18, \"3\": 4, \"19\": 7, \"54\": 4, \"41\": 4, \"34\": 1, \"4\": 9, \"12\": 1, \"5\": 3, \"45\": 11, \"40\": 1, \"6\": 3, \"44\": 5, \"9\": 5, \"20\": 2, \"47\": 1, \"55\": 6, \"43\": 1, \"21\": 6, \"39\": 1, \"14\": 1, \"36\": 1, \"57\": 1, \"27\": 1, \"29\": 1}, \"56\": {\"56\": 118, \"3\": 1, \"31\": 1, \"22\": 1, \"14\": 1, \"10\": 1, \"0\": 5, \"49\": 1, \"43\": 1}, \"25\": {\"25\": 104, \"50\": 17, \"44\": 2, \"45\": 6, \"4\": 4, \"29\": 1, \"9\": 1, \"55\": 1, \"40\": 2, \"28\": 2, \"5\": 4}, \"28\": {\"28\": 23, \"33\": 3, \"14\": 1, \"45\": 1, \"29\": 1, \"44\": 3}, \"35\": {\"35\": 35, \"22\": 1}, \"24\": {\"24\": 70, \"56\": 1, \"49\": 2, \"35\": 1, \"0\": 4, \"43\": 2}, \"21\": {\"21\": 117, \"20\": 4, \"7\": 2, \"8\": 3, \"55\": 1, \"26\": 1, \"30\": 1, \"46\": 1, \"12\": 1, \"27\": 1}, \"45\": {\"45\": 47, \"39\": 2, \"32\": 2, \"34\": 6, \"25\": 4, \"6\": 3, \"9\": 11, \"3\": 2, \"19\": 6, \"4\": 10, \"12\": 3, \"57\": 4, \"50\": 4, \"47\": 5, \"54\": 3, \"43\": 1, \"30\": 1, \"26\": 1, \"27\": 5, \"41\": 1, \"55\": 3}, \"16\": {\"16\": 127, \"23\": 2, \"52\": 9, \"5\": 1, \"11\": 1, \"18\": 2, \"25\": 1, \"46\": 1}, \"37\": {\"37\": 22, \"40\": 2}, \"57\": {\"57\": 76, \"34\": 2, \"27\": 12, \"48\": 8, \"1\": 15, \"6\": 4, \"18\": 2, \"17\": 2, \"20\": 3, \"30\": 5, \"42\": 1, \"19\": 1, \"23\": 1}, \"34\": {\"45\": 1, \"34\": 19, \"46\": 1, \"39\": 1, \"41\": 1, \"52\": 1, \"57\": 1, \"48\": 1, \"32\": 1, \"47\": 1, \"9\": 4, \"27\": 2, \"6\": 2}, \"38\": {\"38\": 31, \"26\": 1}, \"48\": {\"48\": 117, \"20\": 1, \"30\": 1, \"1\": 6, \"8\": 2, \"6\": 1, \"51\": 1, \"53\": 1}, \"26\": {\"38\": 2, \"26\": 22}, \"9\": {\"45\": 10, \"3\": 1, \"48\": 3, \"27\": 20, \"9\": 71, \"47\": 11, \"4\": 2, \"34\": 2, \"57\": 7, \"55\": 2, \"12\": 2, \"19\": 10, \"6\": 2, \"54\": 2, \"44\": 1, \"30\": 1, \"25\": 2, \"14\": 1, \"29\": 1, \"43\": 1}, \"18\": {\"18\": 61, \"23\": 3}, \"3\": {\"3\": 28, \"37\": 1, \"34\": 4, \"35\": 3, \"47\": 5, \"57\": 4, \"29\": 1, \"9\": 7, \"27\": 8, \"19\": 3, \"22\": 1, \"28\": 1, \"23\": 2, \"31\": 1, \"13\": 4, \"44\": 1, \"32\": 1, \"36\": 3, \"6\": 5, \"46\": 2, \"43\": 2, \"11\": 2, \"21\": 1, \"10\": 1, \"48\": 1, \"50\": 1, \"16\": 1, \"40\": 1, \"52\": 1, \"54\": 1, \"1\": 1, \"25\": 1, \"45\": 1}, \"23\": {\"23\": 124}, \"15\": {\"15\": 114, \"1\": 4, \"23\": 7, \"46\": 7, \"18\": 1, \"16\": 2, \"11\": 10, \"52\": 2, \"43\": 1, \"48\": 3, \"24\": 1, \"53\": 1, \"30\": 1}, \"10\": {\"10\": 62, \"13\": 2, \"36\": 2, \"24\": 2}, \"46\": {\"23\": 20, \"1\": 9, \"46\": 39, \"13\": 1, \"36\": 2, \"17\": 2, \"16\": 10, \"42\": 9, \"15\": 3, \"18\": 8, \"52\": 20, \"45\": 1, \"20\": 5, \"54\": 1, \"27\": 2, \"48\": 1, \"53\": 3, \"57\": 2, \"30\": 3, \"40\": 1, \"11\": 1, \"8\": 2, \"47\": 2, \"6\": 1}, \"22\": {\"22\": 21, \"13\": 1, \"5\": 2, \"31\": 1, \"0\": 1, \"24\": 2}, \"54\": {\"54\": 64, \"3\": 2, \"53\": 3, \"1\": 1, \"27\": 8, \"25\": 1, \"45\": 6, \"55\": 1, \"12\": 1, \"51\": 3, \"9\": 3, \"57\": 5, \"43\": 1, \"37\": 1, \"6\": 4, \"16\": 1, \"50\": 2, \"4\": 1, \"19\": 1, \"17\": 3}, \"27\": {\"38\": 2, \"27\": 98, \"17\": 2, \"57\": 16, \"48\": 5, \"32\": 6, \"9\": 3, \"42\": 1, \"19\": 2, \"8\": 7, \"53\": 2, \"20\": 1, \"1\": 4, \"30\": 8, \"26\": 1, \"6\": 2}, \"41\": {\"41\": 24, \"45\": 2, \"39\": 2}, \"31\": {\"31\": 36}, \"0\": {\"0\": 113, \"49\": 1, \"24\": 3, \"3\": 2, \"44\": 2, \"29\": 1, \"56\": 1, \"46\": 1}, \"7\": {\"48\": 1, \"7\": 27, \"9\": 1, \"27\": 1, \"8\": 2}, \"2\": {\"2\": 25, \"37\": 1, \"3\": 1, \"14\": 1}, \"14\": {\"50\": 2, \"14\": 12, \"56\": 3, \"28\": 4, \"55\": 3, \"45\": 1, \"44\": 2, \"4\": 1, \"36\": 3, \"13\": 2, \"46\": 1, \"22\": 1, \"43\": 3, \"2\": 1, \"25\": 2, \"0\": 2, \"40\": 1}, \"40\": {\"35\": 1, \"40\": 106, \"10\": 1, \"14\": 3, \"13\": 6, \"36\": 2, \"2\": 1, \"24\": 1, \"49\": 1, \"5\": 1, \"56\": 1}, \"5\": {\"5\": 87, \"28\": 2, \"36\": 2, \"29\": 10, \"50\": 3, \"44\": 6, \"55\": 2, \"33\": 2, \"10\": 3, \"3\": 1, \"22\": 1, \"40\": 4, \"14\": 1, \"4\": 2, \"0\": 1, \"43\": 1}, \"12\": {\"12\": 48, \"9\": 4, \"8\": 2, \"51\": 8, \"7\": 6, \"30\": 5, \"20\": 3, \"48\": 2, \"45\": 2, \"53\": 6, \"38\": 3, \"32\": 1, \"6\": 2, \"27\": 2, \"57\": 1, \"19\": 1}, \"43\": {\"43\": 134, \"24\": 2, \"0\": 2, \"2\": 1, \"40\": 1, \"50\": 2}, \"13\": {\"13\": 136, \"35\": 1, \"10\": 5, \"24\": 1, \"36\": 2, \"22\": 1, \"56\": 1, \"40\": 1}, \"36\": {\"13\": 10, \"36\": 67, \"24\": 1, \"43\": 3, \"44\": 2, \"5\": 2, \"56\": 1, \"25\": 1, \"0\": 2, \"49\": 1, \"3\": 1, \"35\": 1}, \"8\": {\"48\": 5, \"8\": 120, \"30\": 2, \"53\": 8, \"7\": 1, \"20\": 11, \"25\": 1, \"5\": 1, \"6\": 1}, \"32\": {\"1\": 1, \"32\": 13, \"30\": 6, \"17\": 2, \"48\": 5, \"28\": 1, \"47\": 1, \"50\": 1, \"38\": 2}, \"30\": {\"30\": 114, \"26\": 1, \"17\": 6, \"1\": 2, \"57\": 1, \"38\": 1, \"6\": 2, \"48\": 1}, \"51\": {\"51\": 132, \"20\": 1, \"53\": 2, \"9\": 1, \"55\": 1, \"8\": 1}, \"20\": {\"20\": 101, \"53\": 11, \"51\": 9, \"48\": 2, \"6\": 1, \"8\": 8, \"38\": 1, \"42\": 2, \"7\": 2, \"1\": 1}}, \"C_1\": {\"46\": {\"1\": 7, \"33\": 1, \"4\": 16, \"46\": 51, \"57\": 6, \"42\": 3, \"8\": 2, \"12\": 1, \"56\": 2, \"40\": 1, \"45\": 23, \"19\": 8, \"30\": 1, \"6\": 3, \"50\": 2, \"5\": 6, \"26\": 2, \"53\": 1, \"51\": 3, \"25\": 1}, \"16\": {\"16\": 133, \"36\": 1}, \"26\": {\"26\": 22, \"9\": 1, \"14\": 1}, \"10\": {\"10\": 81, \"15\": 2, \"0\": 1, \"22\": 2, \"11\": 6, \"52\": 2, \"24\": 2}, \"9\": {\"9\": 152, \"16\": 2, \"30\": 2}, \"28\": {\"28\": 27, \"3\": 1}, \"51\": {\"51\": 113, \"48\": 3, \"30\": 3, \"6\": 2, \"53\": 22, \"8\": 3, \"16\": 3, \"9\": 5, \"17\": 2}, \"1\": {\"1\": 56, \"57\": 14, \"46\": 7, \"14\": 1, \"42\": 1, \"4\": 2, \"45\": 12, \"19\": 2, \"56\": 3, \"50\": 1, \"24\": 1}, \"55\": {\"55\": 138, \"7\": 1, \"32\": 1, \"3\": 1, \"29\": 2, \"13\": 2, \"44\": 3}, \"27\": {\"27\": 116, \"43\": 6, \"52\": 1, \"24\": 1}, \"22\": {\"22\": 78, \"24\": 10, \"11\": 9, \"49\": 1, \"52\": 6, \"10\": 10, \"0\": 9, \"47\": 1}, \"52\": {\"52\": 85, \"47\": 2, \"31\": 2, \"0\": 5, \"32\": 1, \"44\": 3, \"24\": 6, \"3\": 1, \"22\": 7, \"27\": 4, \"11\": 4, \"10\": 5, \"55\": 1}, \"3\": {\"52\": 5, \"3\": 115, \"28\": 2, \"39\": 1, \"55\": 6, \"49\": 4, \"13\": 2, \"22\": 1, \"44\": 2, \"32\": 2}, \"33\": {\"42\": 3, \"33\": 29}, \"47\": {\"47\": 97, \"44\": 4, \"57\": 5, \"1\": 1, \"52\": 4, \"10\": 1, \"0\": 2, \"27\": 1, \"11\": 1, \"56\": 2, \"29\": 1, \"32\": 1}, \"42\": {\"42\": 37, \"14\": 1, \"5\": 1, \"45\": 1}, \"12\": {\"7\": 2, \"12\": 81, \"20\": 7, \"37\": 2, \"46\": 6, \"1\": 1, \"15\": 2, \"45\": 1, \"5\": 1, \"51\": 4, \"0\": 1, \"32\": 1, \"19\": 1, \"55\": 2, \"23\": 1, \"54\": 2, \"50\": 1}, \"23\": {\"23\": 116, \"36\": 2, \"21\": 2, \"16\": 4, \"8\": 2, \"53\": 2, \"30\": 1, \"15\": 2, \"9\": 1}, \"49\": {\"49\": 32}, \"7\": {\"7\": 22, \"2\": 1, \"33\": 1, \"5\": 1, \"6\": 1, \"12\": 2}, \"4\": {\"46\": 9, \"4\": 91, \"1\": 7, \"5\": 7, \"45\": 3, \"54\": 1, \"57\": 8, \"56\": 6}, \"50\": {\"50\": 126, \"48\": 1, \"19\": 1, \"9\": 2, \"2\": 3, \"5\": 1}, \"19\": {\"19\": 87, \"30\": 4, \"8\": 19, \"17\": 6, \"5\": 4, \"46\": 1, \"16\": 3, \"18\": 1, \"9\": 14, \"6\": 4, \"50\": 1, \"48\": 5, \"53\": 3, \"45\": 1, \"51\": 1}, \"11\": {\"11\": 125, \"10\": 8, \"52\": 1, \"47\": 1, \"21\": 3, \"54\": 1, \"15\": 1}, \"31\": {\"31\": 27, \"38\": 1}, \"41\": {\"41\": 24}, \"56\": {\"56\": 76, \"1\": 6, \"57\": 18, \"5\": 1, \"44\": 3, \"4\": 10, \"0\": 2, \"29\": 4, \"54\": 2, \"45\": 9, \"10\": 1, \"46\": 3, \"33\": 1, \"42\": 1, \"47\": 1}, \"0\": {\"0\": 128, \"11\": 4, \"37\": 1, \"10\": 3, \"22\": 2, \"52\": 2, \"32\": 1, \"13\": 3, \"12\": 1, \"24\": 1, \"55\": 2}, \"57\": {\"57\": 70, \"56\": 12, \"4\": 14, \"37\": 1, \"55\": 1, \"42\": 1, \"1\": 6, \"45\": 13, \"46\": 3, \"47\": 1, \"20\": 2, \"44\": 2, \"26\": 2}, \"53\": {\"53\": 139, \"9\": 1}, \"43\": {\"43\": 129, \"0\": 1, \"52\": 3, \"27\": 9, \"38\": 1, \"24\": 1}, \"37\": {\"37\": 32}, \"2\": {\"2\": 33, \"50\": 1, \"6\": 1, \"48\": 1}, \"6\": {\"6\": 42, \"17\": 10, \"48\": 14, \"53\": 3, \"9\": 2, \"50\": 8, \"5\": 1, \"8\": 11, \"30\": 3, \"2\": 1, \"4\": 1}, \"13\": {\"13\": 147, \"7\": 1, \"20\": 1, \"55\": 1}, \"18\": {\"18\": 72}, \"36\": {\"18\": 6, \"36\": 44, \"30\": 3, \"16\": 7, \"9\": 1, \"53\": 1, \"8\": 1, \"6\": 1}, \"29\": {\"29\": 98, \"35\": 2, \"25\": 6, \"38\": 1, \"54\": 2, \"44\": 10, \"56\": 9, \"0\": 1, \"40\": 2, \"47\": 4, \"55\": 2, \"13\": 1, \"10\": 1, \"22\": 1}, \"39\": {\"39\": 28}, \"17\": {\"17\": 64}, \"21\": {\"21\": 104, \"15\": 12, \"23\": 8}, \"25\": {\"25\": 119, \"20\": 1, \"55\": 3, \"4\": 1, \"29\": 2, \"40\": 3, \"37\": 2, \"52\": 1}, \"45\": {\"45\": 75, \"46\": 14, \"33\": 5, \"1\": 4, \"14\": 2, \"4\": 6, \"5\": 7, \"56\": 8, \"57\": 7, \"6\": 1, \"48\": 1, \"19\": 2, \"9\": 2, \"50\": 2, \"26\": 2, \"42\": 2, \"17\": 1, \"29\": 1}, \"38\": {\"38\": 22, \"39\": 1, \"28\": 1}, \"30\": {\"30\": 112, \"9\": 4, \"8\": 2, \"6\": 2}, \"24\": {\"52\": 4, \"24\": 95, \"11\": 1, \"22\": 6, \"49\": 1, \"10\": 1}, \"20\": {\"20\": 127, \"54\": 1, \"46\": 1, \"13\": 4, \"12\": 6, \"0\": 1}, \"8\": {\"8\": 119, \"17\": 5, \"6\": 3, \"48\": 8, \"9\": 2, \"30\": 2, \"2\": 1}, \"35\": {\"35\": 36}, \"54\": {\"54\": 88, \"20\": 5, \"15\": 1, \"1\": 1, \"51\": 1, \"46\": 1, \"12\": 4, \"33\": 2, \"13\": 1}, \"5\": {\"5\": 42, \"1\": 3, \"14\": 1, \"25\": 2, \"8\": 6, \"17\": 6, \"4\": 5, \"42\": 3, \"2\": 2, \"48\": 19, \"50\": 17, \"19\": 9, \"46\": 12, \"6\": 5, \"57\": 1, \"54\": 1, \"45\": 9, \"9\": 2, \"33\": 1, \"34\": 1, \"53\": 1}, \"48\": {\"2\": 4, \"48\": 125, \"6\": 6, \"50\": 3, \"8\": 5, \"53\": 1}, \"15\": {\"15\": 114, \"21\": 13, \"8\": 2, \"30\": 1, \"18\": 1, \"36\": 2, \"19\": 1, \"23\": 5, \"17\": 1, \"20\": 1, \"47\": 1}, \"34\": {\"34\": 23, \"7\": 1}, \"14\": {\"42\": 1, \"1\": 1, \"53\": 1, \"5\": 1, \"48\": 4, \"30\": 2, \"6\": 3, \"14\": 4, \"17\": 1, \"19\": 1, \"8\": 1, \"33\": 1, \"9\": 2, \"2\": 1}, \"32\": {\"32\": 25, \"29\": 2, \"12\": 2, \"13\": 2, \"47\": 1}, \"40\": {\"35\": 2, \"40\": 95, \"29\": 22, \"44\": 2, \"57\": 3, \"3\": 1, \"55\": 10, \"25\": 5, \"56\": 3, \"32\": 1, \"4\": 2, \"46\": 1, \"13\": 1}, \"44\": {\"44\": 73, \"55\": 6, \"29\": 8, \"22\": 2, \"56\": 7, \"32\": 1, \"47\": 11, \"52\": 4, \"37\": 1, \"49\": 1, \"0\": 3, \"45\": 2, \"11\": 1, \"54\": 2, \"40\": 1, \"13\": 1, \"57\": 2, \"35\": 2, \"24\": 6, \"12\": 1, \"27\": 1}}, \"W_4\": {\"28\": {\"28\": 13, \"56\": 1, \"17\": 1, \"95\": 2, \"61\": 1, \"87\": 1, \"91\": 1}, \"4\": {\"4\": 61, \"123\": 1, \"101\": 6, \"8\": 6, \"40\": 5, \"0\": 8, \"107\": 3, \"30\": 1, \"88\": 2, \"113\": 1, \"127\": 3, \"114\": 3, \"86\": 1, \"105\": 1, \"90\": 1, \"108\": 1}, \"72\": {\"96\": 2, \"72\": 14, \"119\": 2, \"57\": 1, \"11\": 1, \"74\": 1, \"70\": 1, \"110\": 1, \"122\": 1, \"126\": 1, \"43\": 2, \"5\": 1, \"34\": 1, \"84\": 1, \"129\": 1, \"78\": 1}, \"111\": {\"4\": 2, \"111\": 98, \"91\": 3, \"10\": 2, \"24\": 1, \"27\": 1, \"106\": 3, \"98\": 6, \"118\": 1, \"15\": 3, \"127\": 6, \"8\": 1, \"12\": 2, \"101\": 2, \"82\": 1, \"95\": 1, \"0\": 1, \"94\": 1, \"113\": 1}, \"108\": {\"90\": 5, \"78\": 2, \"83\": 1, \"88\": 3, \"129\": 3, \"32\": 1, \"113\": 2, \"69\": 3, \"11\": 3, \"39\": 1, \"1\": 2, \"117\": 3, \"122\": 3, \"126\": 4, \"108\": 15, \"94\": 1, \"5\": 3, \"84\": 3, \"26\": 1, \"110\": 1, \"109\": 2, \"10\": 1, \"114\": 1, \"102\": 8, \"93\": 4, \"44\": 1, \"62\": 1, \"118\": 2, \"72\": 1, \"120\": 1, \"8\": 3, \"43\": 3, \"16\": 1, \"70\": 1, \"4\": 1, \"24\": 1}, \"43\": {\"14\": 4, \"90\": 4, \"46\": 1, \"43\": 21, \"129\": 2, \"4\": 1, \"65\": 1, \"73\": 2, \"88\": 3, \"93\": 4, \"87\": 7, \"108\": 4, \"39\": 2, \"99\": 1, \"102\": 5, \"44\": 1, \"1\": 3, \"18\": 4, \"33\": 3, \"110\": 8, \"11\": 1, \"122\": 3, \"62\": 1, \"113\": 3, \"105\": 3, \"71\": 3, \"70\": 3, \"114\": 1, \"5\": 2, \"128\": 3, \"84\": 1, \"3\": 1, \"120\": 1, \"82\": 1, \"78\": 1, \"63\": 1, \"98\": 1, \"49\": 1, \"121\": 1, \"126\": 3, \"0\": 1, \"109\": 1, \"40\": 1, \"16\": 1}, \"96\": {\"43\": 2, \"108\": 1, \"100\": 1, \"1\": 1, \"89\": 2, \"5\": 1, \"44\": 1, \"110\": 2, \"96\": 2, \"60\": 2, \"90\": 1, \"57\": 1, \"33\": 1, \"121\": 1, \"63\": 1}, \"89\": {\"12\": 2, \"89\": 10, \"42\": 1, \"71\": 4, \"27\": 1, \"86\": 1, \"44\": 3, \"3\": 1, \"79\": 2, \"109\": 1, \"60\": 1, \"2\": 1, \"43\": 1, \"63\": 1, \"18\": 1, \"114\": 1}, \"31\": {\"31\": 9, \"11\": 1, \"28\": 1, \"13\": 2, \"118\": 1, \"98\": 1, \"40\": 1}, \"45\": {\"45\": 12, \"120\": 1, \"76\": 1, \"67\": 1, \"43\": 1}, \"2\": {\"90\": 1, \"2\": 11, \"119\": 2, \"60\": 1, \"26\": 3, \"126\": 1, \"93\": 1, \"84\": 3, \"63\": 1, \"113\": 1, \"44\": 1, \"99\": 1, \"109\": 1}, \"114\": {\"72\": 1, \"90\": 1, \"114\": 68, \"4\": 6, \"57\": 1, \"86\": 2, \"32\": 2, \"82\": 3, \"7\": 2, \"124\": 1, \"118\": 1, \"105\": 7, \"11\": 3, \"8\": 1, \"71\": 3, \"1\": 4, \"111\": 1, \"107\": 2, \"87\": 1, \"127\": 3, \"70\": 2, \"3\": 2, \"55\": 1, \"60\": 1, \"42\": 1, \"0\": 2, \"40\": 2, \"30\": 1, \"84\": 1, \"62\": 1, \"27\": 1}, \"11\": {\"14\": 3, \"28\": 1, \"123\": 1, \"11\": 51, \"83\": 1, \"40\": 7, \"69\": 3, \"22\": 1, \"108\": 3, \"109\": 5, \"107\": 14, \"16\": 3, \"24\": 1, \"43\": 3, \"118\": 5, \"102\": 5, \"87\": 6, \"84\": 2, \"62\": 2, \"88\": 3, \"114\": 1, \"26\": 1, \"93\": 1, \"105\": 2, \"0\": 1, \"8\": 1, \"110\": 1, \"5\": 1, \"3\": 1, \"125\": 1, \"73\": 1, \"126\": 1, \"101\": 2, \"122\": 1}, \"12\": {\"28\": 2, \"82\": 3, \"68\": 1, \"12\": 51, \"10\": 3, \"36\": 1, \"30\": 3, \"8\": 5, \"127\": 3, \"62\": 1, \"111\": 5, \"4\": 2, \"15\": 5, \"124\": 1, \"106\": 1, \"101\": 3, \"72\": 1, \"95\": 1, \"34\": 1, \"98\": 2, \"103\": 1, \"24\": 3, \"0\": 1}, \"14\": {\"14\": 63, \"114\": 1, \"39\": 2, \"69\": 7, \"118\": 6, \"40\": 3, \"82\": 1, \"93\": 1, \"87\": 3, \"71\": 1, \"11\": 6, \"8\": 2, \"62\": 3, \"109\": 3, \"107\": 2, \"105\": 2, \"50\": 1, \"16\": 3, \"129\": 1, \"78\": 1}, \"90\": {\"90\": 124, \"63\": 1, \"113\": 14, \"108\": 1, \"126\": 11, \"93\": 2, \"57\": 1}, \"10\": {\"42\": 1, \"54\": 2, \"94\": 10, \"97\": 3, \"39\": 1, \"10\": 17, \"51\": 1, \"43\": 3, \"104\": 1, \"124\": 2, \"7\": 2, \"47\": 3, \"110\": 1, \"101\": 2, \"128\": 1, \"75\": 1, \"88\": 4, \"15\": 6, \"36\": 9, \"60\": 2, \"87\": 2, \"71\": 3, \"127\": 4, \"24\": 8, \"109\": 2, \"125\": 8, \"111\": 1, \"105\": 2, \"90\": 1, \"106\": 4, \"86\": 1, \"85\": 1, \"78\": 1, \"30\": 1, \"70\": 3, \"93\": 2, \"98\": 1, \"8\": 3, \"84\": 1, \"1\": 1}, \"63\": {\"63\": 13, \"123\": 1, \"39\": 1, \"93\": 1}, \"85\": {\"85\": 18, \"91\": 1, \"83\": 1, \"101\": 1, \"89\": 1, \"4\": 1, \"129\": 1, \"111\": 1, \"29\": 1, \"113\": 1, \"12\": 1}, \"64\": {\"64\": 12, \"90\": 1, \"37\": 1, \"126\": 1, \"92\": 1}, \"82\": {\"11\": 1, \"4\": 1, \"82\": 13, \"13\": 1, \"111\": 1, \"7\": 1, \"114\": 3, \"118\": 1, \"120\": 2, \"71\": 2, \"122\": 1, \"107\": 1, \"129\": 2, \"128\": 2}, \"58\": {\"82\": 1, \"58\": 13, \"113\": 1, \"6\": 1}, \"3\": {\"3\": 91, \"54\": 1, \"108\": 1, \"100\": 1, \"33\": 5, \"80\": 1, \"5\": 7, \"116\": 1, \"87\": 4, \"71\": 1, \"70\": 1, \"88\": 3, \"43\": 5, \"105\": 1, \"11\": 1, \"93\": 1, \"20\": 2, \"74\": 1, \"73\": 1, \"19\": 3, \"90\": 2, \"21\": 1, \"27\": 1}, \"54\": {\"54\": 15, \"36\": 1}, \"121\": {\"121\": 7, \"123\": 1, \"39\": 1, \"90\": 6, \"93\": 2, \"61\": 2, \"69\": 1, \"92\": 1, \"113\": 1, \"0\": 1, \"16\": 2, \"35\": 2, \"87\": 1, \"122\": 1, \"49\": 1, \"1\": 1, \"21\": 1}, \"42\": {\"82\": 2, \"38\": 1, \"106\": 2, \"66\": 2, \"90\": 3, \"17\": 1, \"111\": 1, \"94\": 3, \"75\": 2, \"128\": 1, \"122\": 1, \"98\": 2, \"43\": 1, \"8\": 1, \"81\": 1, \"10\": 2, \"5\": 2}, \"98\": {\"98\": 62, \"12\": 6, \"97\": 3, \"10\": 3, \"127\": 3, \"121\": 1, \"27\": 1, \"101\": 5, \"34\": 1, \"126\": 1, \"36\": 2, \"124\": 3, \"30\": 5, \"7\": 1, \"111\": 4, \"8\": 4, \"15\": 1, \"95\": 1, \"51\": 1, \"52\": 1, \"41\": 1, \"81\": 1, \"25\": 1, \"89\": 1, \"49\": 1, \"29\": 1, \"85\": 2, \"84\": 1, \"125\": 1, \"0\": 1}, \"123\": {\"123\": 14, \"93\": 2}, \"91\": {\"91\": 9, \"112\": 2, \"106\": 1, \"9\": 3, \"82\": 1, \"8\": 3, \"29\": 1, \"116\": 1, \"111\": 1, \"89\": 2}, \"83\": {\"83\": 16, \"119\": 2, \"4\": 2, \"46\": 1, \"99\": 1, \"8\": 1, \"124\": 1, \"0\": 1, \"71\": 1, \"5\": 1, \"70\": 1}, \"99\": {\"20\": 1, \"99\": 26, \"8\": 1, \"108\": 2, \"62\": 1, \"88\": 1, \"102\": 2, \"93\": 1, \"16\": 1, \"118\": 1, \"69\": 1, \"112\": 1, \"78\": 1}, \"112\": {\"112\": 13, \"42\": 1, \"82\": 1, \"7\": 1}, \"119\": {\"70\": 1, \"119\": 5, \"89\": 1, \"114\": 1, \"100\": 1, \"83\": 1, \"72\": 1, \"84\": 1, \"53\": 2, \"73\": 2}, \"70\": {\"85\": 1, \"119\": 3, \"11\": 3, \"116\": 1, \"70\": 22, \"8\": 8, \"57\": 1, \"52\": 2, \"90\": 2, \"27\": 5, \"121\": 1, \"4\": 2, \"88\": 3, \"117\": 3, \"101\": 4, \"81\": 1, \"18\": 1, \"0\": 5, \"110\": 5, \"62\": 1, \"12\": 1, \"5\": 4, \"105\": 2, \"127\": 3, \"106\": 2, \"114\": 3, \"3\": 1, \"98\": 2, \"87\": 3, \"40\": 2, \"109\": 2, \"15\": 2, \"129\": 1, \"60\": 1, \"7\": 3, \"39\": 4, \"24\": 1, \"93\": 1, \"126\": 1, \"122\": 2, \"43\": 1, \"71\": 1, \"10\": 3, \"1\": 1, \"125\": 1, \"84\": 2}, \"20\": {\"20\": 8, \"121\": 3, \"84\": 1, \"33\": 1, \"90\": 1, \"43\": 1, \"110\": 1}, \"120\": {\"45\": 3, \"76\": 2, \"46\": 2, \"107\": 1, \"101\": 2, \"120\": 8, \"14\": 1, \"31\": 1}, \"7\": {\"7\": 74, \"129\": 1, \"9\": 1, \"119\": 1, \"8\": 5, \"32\": 1, \"95\": 1, \"0\": 3, \"27\": 3, \"71\": 2, \"127\": 4, \"10\": 5, \"70\": 4, \"114\": 2, \"126\": 1, \"4\": 1, \"101\": 5, \"82\": 1, \"60\": 1, \"89\": 2, \"91\": 1, \"113\": 1, \"83\": 1, \"40\": 1, \"87\": 1, \"88\": 1}, \"60\": {\"60\": 8, \"70\": 2, \"28\": 1, \"79\": 2, \"76\": 1, \"3\": 1, \"66\": 2, \"21\": 1, \"108\": 1, \"113\": 1, \"11\": 1, \"49\": 1, \"114\": 1, \"63\": 1, \"18\": 1, \"89\": 1, \"98\": 1, \"101\": 1, \"80\": 1, \"22\": 1, \"96\": 1, \"40\": 1}, \"113\": {\"113\": 89, \"126\": 10, \"88\": 1, \"80\": 1, \"21\": 1, \"90\": 15, \"39\": 1}, \"37\": {\"37\": 14, \"90\": 1, \"121\": 1}, \"124\": {\"124\": 77, \"17\": 2, \"11\": 1, \"106\": 3, \"24\": 3, \"27\": 2, \"125\": 2, \"7\": 1, \"12\": 6, \"15\": 1, \"111\": 2, \"101\": 2, \"103\": 2, \"76\": 1, \"84\": 1, \"126\": 1, \"98\": 1, \"0\": 1, \"10\": 1}, \"27\": {\"7\": 6, \"60\": 1, \"27\": 26, \"79\": 1, \"98\": 4, \"90\": 1, \"52\": 1, \"116\": 1, \"114\": 4, \"105\": 2, \"88\": 4, \"55\": 2, \"71\": 2, \"101\": 7, \"1\": 6, \"30\": 3, \"4\": 3, \"8\": 4, \"110\": 1, \"125\": 1, \"24\": 1, \"111\": 3, \"87\": 2, \"0\": 1, \"126\": 2, \"22\": 2, \"127\": 1, \"68\": 1, \"47\": 1, \"49\": 1, \"70\": 2, \"15\": 1, \"12\": 1, \"10\": 1}, \"86\": {\"42\": 1, \"129\": 1, \"86\": 19, \"53\": 1, \"105\": 1, \"88\": 1, \"114\": 1, \"5\": 1, \"71\": 2}, \"127\": {\"127\": 68, \"101\": 7, \"4\": 2, \"55\": 2, \"93\": 1, \"34\": 1, \"8\": 4, \"111\": 4, \"10\": 1, \"24\": 1, \"106\": 2, \"98\": 3, \"0\": 3, \"3\": 1, \"49\": 1, \"122\": 1, \"70\": 1, \"12\": 1, \"30\": 1, \"27\": 2, \"39\": 1}, \"62\": {\"122\": 3, \"14\": 5, \"71\": 1, \"67\": 1, \"102\": 4, \"32\": 1, \"110\": 3, \"62\": 16, \"44\": 2, \"118\": 1, \"109\": 2, \"105\": 1, \"16\": 6, \"69\": 5, \"126\": 1, \"87\": 1, \"108\": 1, \"80\": 1, \"40\": 1, \"39\": 2, \"113\": 1, \"26\": 1}, \"122\": {\"38\": 2, \"86\": 1, \"129\": 1, \"122\": 14, \"44\": 1, \"62\": 6, \"102\": 4, \"93\": 6, \"2\": 1, \"16\": 3, \"99\": 2, \"14\": 6, \"108\": 3, \"90\": 4, \"81\": 1, \"1\": 1, \"84\": 3, \"33\": 2, \"11\": 1, \"110\": 2, \"87\": 3, \"119\": 1, \"121\": 1, \"113\": 2, \"105\": 2, \"117\": 2, \"126\": 2, \"109\": 4, \"71\": 2, \"5\": 1}, \"51\": {\"10\": 2, \"51\": 4, \"117\": 1, \"21\": 1, \"9\": 1, \"101\": 1, \"15\": 1, \"77\": 1, \"122\": 1, \"62\": 1, \"56\": 1, \"37\": 1}, \"109\": {\"129\": 1, \"122\": 2, \"39\": 8, \"60\": 2, \"2\": 2, \"118\": 7, \"69\": 22, \"14\": 2, \"109\": 21, \"62\": 3, \"16\": 9, \"105\": 2, \"87\": 3, \"102\": 3, \"0\": 1, \"11\": 3, \"84\": 1, \"93\": 3, \"90\": 3, \"126\": 2, \"121\": 2, \"63\": 1, \"38\": 1, \"120\": 1, \"21\": 1, \"113\": 1, \"40\": 1, \"44\": 1, \"117\": 1, \"108\": 1, \"110\": 2, \"43\": 1}, \"106\": {\"106\": 58, \"10\": 7, \"97\": 2, \"68\": 1, \"12\": 7, \"125\": 6, \"0\": 2, \"124\": 2, \"15\": 6, \"34\": 1, \"27\": 1, \"126\": 1, \"8\": 1, \"101\": 4, \"98\": 2, \"111\": 3, \"113\": 3, \"95\": 1, \"94\": 1, \"127\": 1, \"24\": 3, \"36\": 1}, \"94\": {\"106\": 1, \"54\": 5, \"25\": 2, \"94\": 46, \"36\": 7, \"12\": 1, \"29\": 2, \"125\": 10, \"34\": 2, \"24\": 2, \"30\": 2, \"15\": 3, \"124\": 1, \"27\": 1, \"6\": 1, \"97\": 1, \"85\": 1}, \"38\": {\"38\": 15, \"113\": 1}, \"129\": {\"129\": 8, \"127\": 1, \"43\": 1, \"108\": 1, \"114\": 1, \"86\": 1, \"36\": 1, \"96\": 1, \"1\": 1, \"71\": 3, \"107\": 1, \"8\": 1, \"19\": 1, \"55\": 1, \"102\": 1, \"82\": 2, \"84\": 1, \"109\": 1}, \"116\": {\"38\": 1, \"116\": 9, \"39\": 1, \"33\": 1, \"69\": 2, \"67\": 1, \"96\": 2, \"73\": 1, \"35\": 1, \"89\": 1, \"71\": 1, \"81\": 1, \"57\": 1, \"16\": 2, \"74\": 1, \"66\": 1, \"63\": 1}, \"107\": {\"107\": 98, \"23\": 1, \"4\": 1, \"127\": 1, \"118\": 3, \"0\": 1, \"11\": 2, \"40\": 4, \"69\": 2, \"115\": 1, \"82\": 1, \"14\": 1, \"8\": 2}, \"30\": {\"51\": 1, \"85\": 1, \"68\": 3, \"71\": 1, \"29\": 2, \"30\": 26, \"9\": 1, \"55\": 1, \"7\": 4, \"94\": 2, \"0\": 2, \"70\": 1, \"27\": 7, \"111\": 5, \"12\": 3, \"98\": 3, \"114\": 2, \"52\": 1, \"91\": 1, \"42\": 1, \"36\": 1, \"106\": 2, \"10\": 3, \"88\": 2}, \"102\": {\"102\": 106, \"62\": 2, \"114\": 1, \"129\": 1, \"16\": 3, \"69\": 3, \"118\": 2, \"109\": 2, \"14\": 1, \"43\": 2, \"11\": 2, \"122\": 1, \"80\": 1, \"99\": 2, \"33\": 2, \"4\": 1}, \"74\": {\"74\": 8, \"84\": 1, \"63\": 1, \"117\": 2, \"43\": 1, \"19\": 2, \"73\": 1}, \"101\": {\"101\": 64, \"95\": 2, \"55\": 1, \"86\": 1, \"0\": 9, \"7\": 2, \"114\": 2, \"24\": 1, \"30\": 2, \"127\": 5, \"4\": 2, \"105\": 2, \"15\": 1, \"8\": 5, \"98\": 5, \"12\": 6, \"40\": 2, \"90\": 1, \"70\": 1, \"111\": 5, \"124\": 3, \"17\": 1, \"82\": 1, \"122\": 1, \"85\": 2, \"3\": 1, \"106\": 3, \"107\": 1}, \"117\": {\"117\": 89, \"126\": 1, \"26\": 7, \"44\": 1, \"39\": 1, \"88\": 1, \"24\": 1, \"110\": 7, \"109\": 2, \"84\": 4, \"108\": 5, \"78\": 1, \"18\": 4}, \"1\": {\"1\": 47, \"114\": 4, \"57\": 1, \"71\": 7, \"3\": 1, \"105\": 6, \"102\": 1, \"7\": 1, \"129\": 1, \"27\": 1, \"99\": 1, \"106\": 2, \"33\": 2, \"90\": 1, \"8\": 1, \"0\": 1, \"82\": 1, \"84\": 1, \"111\": 1, \"43\": 2, \"126\": 1, \"5\": 1, \"69\": 1, \"15\": 1, \"29\": 1, \"89\": 1, \"128\": 3, \"78\": 2, \"36\": 1, \"21\": 1, \"14\": 1, \"101\": 2, \"122\": 1, \"88\": 1, \"11\": 2, \"4\": 2, \"40\": 1, \"117\": 1, \"87\": 1}, \"84\": {\"117\": 4, \"84\": 83, \"110\": 8, \"1\": 2, \"113\": 1, \"39\": 3, \"122\": 6, \"109\": 2, \"33\": 9, \"93\": 1, \"36\": 1, \"69\": 2, \"90\": 2, \"18\": 1, \"2\": 1, \"43\": 3, \"14\": 1, \"5\": 1, \"108\": 1}, \"17\": {\"17\": 17, \"68\": 1, \"103\": 1, \"34\": 1}, \"6\": {\"85\": 2, \"54\": 1, \"6\": 9, \"103\": 1, \"91\": 2, \"75\": 1, \"0\": 1, \"41\": 1, \"94\": 2, \"56\": 1, \"95\": 1, \"36\": 2}, \"110\": {\"110\": 39, \"39\": 5, \"57\": 2, \"73\": 2, \"1\": 1, \"21\": 1, \"33\": 20, \"44\": 3, \"93\": 7, \"5\": 10, \"84\": 6, \"126\": 6, \"43\": 2, \"122\": 4, \"3\": 3, \"62\": 1, \"102\": 3, \"108\": 2, \"90\": 3, \"2\": 1, \"121\": 2, \"117\": 1}, \"77\": {\"77\": 8, \"91\": 1, \"98\": 1, \"9\": 1, \"8\": 1}, \"8\": {\"4\": 6, \"8\": 60, \"70\": 5, \"7\": 8, \"93\": 1, \"0\": 13, \"27\": 3, \"111\": 7, \"98\": 4, \"10\": 3, \"1\": 2, \"105\": 2, \"114\": 1, \"127\": 2, \"12\": 1, \"101\": 2, \"24\": 1, \"11\": 1, \"81\": 1, \"60\": 1, \"83\": 1, \"82\": 1, \"115\": 1, \"71\": 1, \"108\": 1, \"125\": 1, \"30\": 1, \"15\": 1}, \"73\": {\"110\": 2, \"73\": 8, \"118\": 2, \"104\": 1, \"43\": 2, \"46\": 1, \"81\": 1, \"3\": 2, \"114\": 1, \"32\": 1, \"36\": 1, \"69\": 1, \"123\": 1}, \"126\": {\"126\": 81, \"113\": 17, \"90\": 16, \"10\": 1, \"88\": 1, \"123\": 1, \"39\": 2, \"81\": 2, \"21\": 1, \"93\": 2}, \"57\": {\"57\": 16}, \"95\": {\"95\": 26, \"126\": 1, \"108\": 2, \"127\": 2, \"0\": 1}, \"103\": {\"77\": 1, \"103\": 7, \"68\": 1, \"10\": 2, \"29\": 2, \"124\": 2, \"78\": 1}, \"97\": {\"97\": 10, \"106\": 1, \"56\": 1, \"112\": 1, \"0\": 1, \"78\": 1, \"59\": 1, \"98\": 1, \"34\": 1, \"94\": 1, \"27\": 1}, \"39\": {\"97\": 1, \"39\": 35, \"20\": 1, \"26\": 5, \"117\": 3, \"38\": 1, \"70\": 1, \"90\": 6, \"110\": 8, \"81\": 5, \"2\": 3, \"43\": 2, \"44\": 2, \"36\": 1, \"113\": 7, \"126\": 4, \"84\": 1, \"106\": 1, \"80\": 2, \"93\": 4, \"109\": 2, \"21\": 3, \"108\": 1, \"24\": 1}, \"100\": {\"1\": 1, \"100\": 12, \"120\": 1, \"43\": 1, \"7\": 1, \"27\": 1, \"73\": 1, \"62\": 1, \"49\": 1}, \"40\": {\"14\": 5, \"40\": 71, \"72\": 1, \"19\": 1, \"8\": 3, \"69\": 3, \"70\": 2, \"107\": 11, \"109\": 1, \"73\": 1, \"16\": 1, \"0\": 1, \"105\": 6, \"4\": 3}, \"36\": {\"36\": 62, \"29\": 3, \"12\": 6, \"125\": 6, \"98\": 5, \"10\": 3, \"27\": 2, \"7\": 2, \"94\": 5, \"24\": 6, \"30\": 2, \"111\": 2, \"15\": 6, \"106\": 3, \"90\": 1, \"101\": 2, \"8\": 2, \"25\": 1, \"54\": 2, \"58\": 2, \"21\": 1, \"40\": 1, \"0\": 1}, \"19\": {\"129\": 1, \"5\": 1, \"113\": 2, \"105\": 3, \"39\": 2, \"107\": 1, \"93\": 1, \"19\": 2, \"65\": 1, \"114\": 1, \"50\": 2, \"0\": 1, \"126\": 1, \"127\": 1, \"38\": 1, \"86\": 1, \"115\": 1, \"90\": 1, \"67\": 1, \"82\": 1, \"81\": 2}, \"118\": {\"39\": 4, \"31\": 1, \"38\": 2, \"120\": 2, \"87\": 3, \"67\": 2, \"2\": 2, \"118\": 31, \"109\": 2, \"82\": 3, \"99\": 3, \"107\": 8, \"102\": 4, \"69\": 2, \"14\": 7, \"117\": 3, \"18\": 2, \"114\": 2, \"84\": 1, \"110\": 1, \"90\": 3, \"4\": 1, \"81\": 1, \"26\": 1, \"40\": 5, \"43\": 1, \"11\": 1, \"105\": 1, \"62\": 1, \"108\": 2, \"3\": 1, \"71\": 2, \"28\": 1, \"45\": 1, \"113\": 2, \"93\": 1, \"8\": 1, \"126\": 1}, \"56\": {\"7\": 1, \"56\": 5, \"60\": 1, \"50\": 1, \"129\": 1, \"116\": 1, \"24\": 1, \"95\": 1}, \"26\": {\"26\": 110, \"16\": 3, \"39\": 1, \"117\": 4, \"90\": 1, \"18\": 1, \"109\": 1, \"108\": 1, \"102\": 3, \"93\": 1}, \"5\": {\"5\": 96, \"96\": 1, \"110\": 6, \"33\": 3, \"121\": 3, \"93\": 5, \"3\": 1, \"84\": 4, \"122\": 3, \"113\": 1, \"42\": 1, \"43\": 5, \"44\": 1, \"117\": 1, \"109\": 2, \"126\": 1, \"1\": 1, \"18\": 1}, \"21\": {\"21\": 17, \"6\": 1, \"97\": 1, \"80\": 2, \"93\": 2, \"63\": 1, \"36\": 2, \"110\": 2, \"84\": 1, \"113\": 2, \"126\": 2, \"25\": 1, \"121\": 2, \"39\": 2, \"94\": 1, \"16\": 1}, \"22\": {\"22\": 10, \"72\": 1, \"29\": 1, \"100\": 1, \"128\": 1, \"43\": 1, \"60\": 1}, \"68\": {\"68\": 9, \"89\": 1, \"101\": 2, \"12\": 1, \"127\": 2, \"111\": 1}, \"9\": {\"91\": 1, \"68\": 1, \"9\": 19, \"10\": 1, \"30\": 2, \"51\": 2, \"8\": 1, \"98\": 1}, \"66\": {\"66\": 10, \"108\": 1, \"80\": 1, \"44\": 2, \"126\": 2}, \"87\": {\"115\": 1, \"87\": 27, \"33\": 4, \"50\": 1, \"129\": 1, \"65\": 1, \"46\": 1, \"14\": 2, \"71\": 10, \"74\": 1, \"121\": 2, \"114\": 14, \"88\": 3, \"105\": 8, \"43\": 3, \"5\": 6, \"108\": 2, \"7\": 1, \"117\": 2, \"0\": 1, \"110\": 2, \"18\": 1, \"69\": 3, \"93\": 3, \"109\": 4, \"70\": 3, \"102\": 1, \"128\": 1, \"2\": 1, \"122\": 2, \"118\": 1, \"40\": 3, \"84\": 2, \"90\": 1, \"11\": 3, \"106\": 1, \"113\": 1}, \"71\": {\"71\": 63, \"80\": 1, \"86\": 1, \"83\": 2, \"46\": 2, \"114\": 7, \"105\": 5, \"49\": 2, \"87\": 4, \"3\": 1, \"1\": 6, \"12\": 1, \"128\": 1, \"89\": 1, \"129\": 2, \"43\": 1, \"21\": 1, \"36\": 1, \"27\": 1, \"4\": 1}, \"115\": {\"107\": 1, \"17\": 1, \"3\": 3, \"73\": 2, \"115\": 5, \"57\": 1, \"114\": 1, \"30\": 1, \"43\": 1}, \"23\": {\"97\": 2, \"66\": 1, \"90\": 5, \"21\": 1, \"101\": 1, \"113\": 3, \"122\": 2, \"98\": 1}, \"33\": {\"33\": 111, \"126\": 1, \"102\": 1, \"43\": 2, \"122\": 1, \"109\": 1, \"84\": 1}, \"35\": {\"118\": 1, \"101\": 1, \"35\": 3, \"38\": 1, \"70\": 1, \"76\": 1, \"108\": 1, \"93\": 1, \"16\": 2}, \"125\": {\"47\": 1, \"125\": 99, \"29\": 1, \"10\": 3, \"15\": 5, \"30\": 1, \"90\": 1, \"24\": 6, \"26\": 1, \"36\": 5, \"106\": 1, \"6\": 1, \"58\": 1, \"34\": 1, \"98\": 1, \"33\": 1, \"126\": 1, \"18\": 1, \"111\": 1}, \"47\": {\"125\": 2, \"47\": 9, \"34\": 1}, \"79\": {\"79\": 14, \"105\": 1, \"115\": 1}, \"53\": {\"53\": 12, \"101\": 1, \"7\": 2, \"10\": 1}, \"67\": {\"113\": 4, \"90\": 3, \"13\": 1, \"38\": 1, \"67\": 3, \"126\": 2, \"107\": 1, \"118\": 1}, \"80\": {\"80\": 16}, \"105\": {\"105\": 55, \"126\": 2, \"71\": 7, \"1\": 4, \"82\": 1, \"113\": 2, \"114\": 8, \"87\": 6, \"102\": 1, \"43\": 1, \"88\": 1, \"40\": 2, \"110\": 2, \"28\": 1, \"83\": 3, \"70\": 1, \"0\": 1, \"14\": 2}, \"76\": {\"76\": 8, \"120\": 1, \"45\": 1, \"96\": 1, \"28\": 2, \"72\": 1, \"7\": 1, \"60\": 1}, \"46\": {\"11\": 1, \"46\": 13, \"69\": 1, \"83\": 2, \"114\": 2, \"27\": 1}, \"34\": {\"20\": 1, \"23\": 1, \"71\": 2, \"24\": 5, \"12\": 1, \"27\": 1, \"107\": 1, \"11\": 1, \"43\": 1, \"15\": 3, \"118\": 1, \"40\": 2, \"52\": 1, \"75\": 2, \"86\": 1, \"49\": 1, \"91\": 1, \"115\": 1, \"97\": 1, \"54\": 1, \"94\": 1, \"34\": 1, \"114\": 1}, \"32\": {\"13\": 2, \"100\": 1, \"82\": 2, \"105\": 1, \"102\": 1, \"14\": 1, \"86\": 4, \"62\": 1, \"32\": 4, \"69\": 2, \"46\": 1, \"19\": 2, \"99\": 1, \"16\": 1, \"107\": 1, \"118\": 1, \"83\": 2}, \"13\": {\"13\": 12, \"108\": 1, \"61\": 1, \"31\": 2}, \"78\": {\"41\": 1, \"90\": 3, \"103\": 1, \"57\": 1, \"78\": 4, \"93\": 1, \"98\": 1, \"27\": 1, \"111\": 2, \"44\": 4, \"12\": 2, \"126\": 1, \"43\": 1, \"101\": 1, \"63\": 1, \"38\": 1, \"9\": 1, \"34\": 2, \"97\": 1, \"24\": 1, \"72\": 1, \"113\": 2, \"0\": 2}, \"41\": {\"41\": 15, \"27\": 1}, \"69\": {\"31\": 2, \"69\": 103, \"14\": 4, \"108\": 1, \"126\": 4, \"87\": 2, \"118\": 3, \"16\": 2, \"114\": 2, \"62\": 1, \"11\": 1, \"109\": 1, \"102\": 2}, \"88\": {\"77\": 1, \"63\": 1, \"97\": 1, \"83\": 1, \"125\": 1, \"127\": 2, \"86\": 3, \"90\": 9, \"104\": 1, \"124\": 1, \"39\": 4, \"126\": 18, \"74\": 3, \"44\": 3, \"70\": 5, \"88\": 8, \"113\": 9, \"101\": 6, \"93\": 6, \"114\": 6, \"8\": 3, \"98\": 3, \"34\": 1, \"4\": 2, \"0\": 2, \"27\": 3, \"18\": 2, \"105\": 2, \"5\": 2, \"110\": 2, \"1\": 2, \"11\": 4, \"111\": 1, \"21\": 2, \"10\": 3, \"40\": 1, \"12\": 1, \"36\": 1, \"84\": 2, \"7\": 1, \"122\": 1, \"108\": 1, \"87\": 1}, \"15\": {\"36\": 3, \"28\": 1, \"101\": 6, \"15\": 50, \"12\": 8, \"30\": 6, \"10\": 8, \"0\": 2, \"8\": 2, \"111\": 1, \"125\": 7, \"127\": 3, \"106\": 3, \"24\": 7, \"93\": 1, \"27\": 2, \"113\": 1, \"98\": 3, \"90\": 2, \"75\": 2, \"107\": 1, \"41\": 1, \"94\": 4, \"88\": 1, \"126\": 1, \"21\": 1, \"124\": 1}, \"61\": {\"63\": 1, \"13\": 1, \"35\": 2, \"26\": 1, \"61\": 4, \"2\": 1, \"48\": 2, \"117\": 1, \"104\": 1, \"69\": 2}, \"0\": {\"100\": 1, \"0\": 23, \"95\": 1, \"86\": 1, \"128\": 1, \"8\": 5, \"12\": 6, \"108\": 3, \"43\": 1, \"7\": 4, \"27\": 2, \"55\": 1, \"30\": 2, \"101\": 6, \"102\": 1, \"124\": 4, \"107\": 1, \"87\": 2, \"118\": 1, \"4\": 2, \"127\": 4, \"24\": 4, \"111\": 15, \"106\": 1, \"98\": 3, \"10\": 1, \"70\": 2, \"105\": 4, \"15\": 2, \"114\": 3, \"104\": 1, \"21\": 1, \"40\": 1, \"36\": 2, \"18\": 1, \"11\": 1, \"1\": 2}, \"104\": {\"104\": 13, \"39\": 1, \"88\": 2}, \"48\": {\"48\": 8, \"116\": 1, \"71\": 2, \"79\": 1, \"61\": 1, \"125\": 1, \"16\": 2}, \"25\": {\"75\": 1, \"25\": 15}, \"75\": {\"75\": 16}, \"81\": {\"81\": 29, \"39\": 2, \"90\": 3, \"44\": 1, \"126\": 1}, \"50\": {\"50\": 10, \"107\": 2, \"32\": 2, \"0\": 2}, \"52\": {\"3\": 1, \"85\": 1, \"94\": 1, \"52\": 13, \"59\": 1, \"106\": 1, \"127\": 1, \"98\": 1}, \"16\": {\"16\": 71, \"14\": 4, \"99\": 3, \"122\": 2, \"102\": 11, \"109\": 3, \"118\": 2, \"108\": 1, \"90\": 1, \"26\": 5, \"11\": 1, \"93\": 1, \"69\": 6, \"35\": 1, \"116\": 1, \"62\": 1, \"88\": 1, \"117\": 1, \"126\": 1, \"87\": 2, \"110\": 1}, \"44\": {\"44\": 60, \"88\": 2, \"81\": 1, \"93\": 1}, \"29\": {\"29\": 24, \"21\": 1, \"10\": 1, \"30\": 1, \"56\": 1, \"101\": 1, \"90\": 1, \"15\": 2}, \"93\": {\"93\": 77, \"44\": 5, \"88\": 3, \"39\": 4, \"87\": 1, \"33\": 1, \"81\": 2, \"126\": 7, \"122\": 3, \"90\": 12, \"113\": 3, \"5\": 1, \"18\": 1, \"110\": 3, \"108\": 1}, \"18\": {\"18\": 102, \"44\": 1, \"26\": 2, \"109\": 2, \"110\": 1, \"122\": 1, \"117\": 3, \"39\": 1, \"93\": 1}, \"49\": {\"32\": 1, \"49\": 2, \"65\": 1, \"87\": 1, \"93\": 5, \"127\": 2, \"4\": 1, \"90\": 1, \"108\": 1, \"8\": 1, \"44\": 1, \"24\": 2, \"117\": 1, \"20\": 1, \"77\": 2, \"82\": 1, \"101\": 2, \"121\": 2, \"123\": 2, \"39\": 1, \"110\": 1}, \"55\": {\"55\": 15, \"49\": 1}, \"59\": {\"59\": 9, \"124\": 1, \"110\": 1, \"97\": 1}, \"128\": {\"98\": 1, \"108\": 1, \"65\": 1, \"19\": 1, \"101\": 2, \"128\": 1, \"18\": 1, \"122\": 1, \"114\": 1, \"90\": 1, \"88\": 1, \"28\": 2, \"121\": 1, \"44\": 1, \"129\": 1, \"82\": 1, \"113\": 2, \"3\": 1, \"70\": 1, \"102\": 1, \"93\": 1}, \"24\": {\"24\": 29, \"71\": 3, \"0\": 5, \"89\": 1, \"95\": 1, \"10\": 8, \"94\": 3, \"4\": 2, \"27\": 3, \"15\": 6, \"98\": 4, \"34\": 2, \"30\": 1, \"87\": 1, \"7\": 7, \"125\": 4, \"101\": 6, \"114\": 1, \"70\": 4, \"88\": 1, \"8\": 2, \"109\": 1, \"106\": 4, \"36\": 8, \"75\": 2, \"127\": 1, \"54\": 1, \"25\": 2, \"91\": 2, \"49\": 1, \"105\": 1, \"111\": 1, \"110\": 1, \"40\": 1}, \"65\": {\"65\": 9, \"126\": 1, \"80\": 2}, \"92\": {\"40\": 2, \"92\": 16, \"107\": 3, \"99\": 1, \"60\": 1, \"96\": 1, \"26\": 1, \"20\": 1, \"11\": 1, \"78\": 1}}, \"W_1\": {\"108\": {\"23\": 1, \"108\": 60, \"98\": 3, \"87\": 8, \"70\": 8, \"84\": 1, \"7\": 4, \"101\": 4, \"34\": 1, \"111\": 2, \"86\": 2, \"93\": 4, \"3\": 2, \"126\": 5, \"107\": 2, \"36\": 1, \"110\": 1, \"88\": 2, \"25\": 1, \"55\": 1, \"114\": 1, \"24\": 2, \"44\": 1, \"27\": 1, \"106\": 1, \"0\": 1, \"109\": 1, \"43\": 3}, \"40\": {\"40\": 89, \"4\": 9, \"107\": 6, \"81\": 1, \"105\": 9, \"122\": 2, \"0\": 2, \"124\": 2, \"93\": 5, \"87\": 2, \"70\": 1, \"127\": 2, \"8\": 2, \"85\": 1, \"12\": 1, \"106\": 1, \"101\": 1}, \"68\": {\"89\": 1, \"3\": 1, \"68\": 7, \"34\": 1, \"0\": 2, \"9\": 1, \"111\": 1, \"127\": 1, \"88\": 1}, \"23\": {\"3\": 4, \"127\": 1, \"85\": 2, \"30\": 1, \"65\": 1, \"124\": 1, \"88\": 1, \"111\": 2, \"8\": 1, \"0\": 1, \"37\": 1, \"66\": 2, \"68\": 1, \"76\": 2, \"125\": 3}, \"26\": {\"26\": 106, \"62\": 3, \"27\": 1, \"16\": 3, \"14\": 1, \"21\": 1, \"118\": 3, \"94\": 1, \"7\": 1}, \"64\": {\"64\": 16}, \"22\": {\"22\": 9, \"13\": 1, \"121\": 2, \"44\": 1, \"33\": 1, \"16\": 1, \"32\": 1}, \"3\": {\"64\": 1, \"3\": 66, \"113\": 3, \"0\": 1, \"1\": 2, \"43\": 2, \"90\": 2, \"88\": 1, \"109\": 2, \"15\": 1, \"18\": 6, \"27\": 1}, \"4\": {\"4\": 69, \"30\": 1, \"78\": 1, \"107\": 4, \"40\": 10, \"124\": 1, \"108\": 1, \"72\": 3, \"105\": 2, \"93\": 4, \"101\": 1, \"55\": 1, \"32\": 1, \"70\": 1}, \"70\": {\"89\": 1, \"22\": 1, \"124\": 3, \"69\": 2, \"70\": 23, \"82\": 1, \"105\": 1, \"51\": 1, \"9\": 1, \"50\": 1, \"126\": 8, \"101\": 7, \"109\": 6, \"24\": 1, \"122\": 1, \"108\": 5, \"2\": 1, \"110\": 3, \"36\": 1, \"39\": 1, \"93\": 6, \"98\": 7, \"94\": 2, \"11\": 2, \"12\": 5, \"10\": 2, \"40\": 2, \"7\": 1, \"113\": 1, \"107\": 2, \"106\": 2, \"84\": 1, \"38\": 1, \"18\": 1, \"21\": 1, \"0\": 3, \"102\": 1, \"90\": 2, \"87\": 2, \"1\": 2, \"5\": 1, \"43\": 2, \"71\": 1, \"8\": 1}, \"57\": {\"57\": 8, \"88\": 1, \"7\": 1, \"122\": 1, \"126\": 1}, \"79\": {\"79\": 9, \"9\": 1, \"77\": 1, \"107\": 1}, \"9\": {\"9\": 19, \"108\": 1, \"88\": 1, \"75\": 2, \"101\": 2, \"4\": 1, \"129\": 1, \"124\": 1, \"107\": 1, \"83\": 1, \"10\": 1, \"70\": 1}, \"89\": {\"89\": 18, \"4\": 1, \"97\": 3, \"75\": 1, \"9\": 1, \"101\": 1, \"27\": 1, \"91\": 1, \"94\": 3, \"49\": 2, \"103\": 1, \"110\": 2, \"10\": 1}, \"110\": {\"68\": 1, \"110\": 76, \"46\": 1, \"98\": 3, \"127\": 1, \"70\": 4, \"93\": 5, \"107\": 4, \"108\": 1, \"10\": 7, \"111\": 3, \"40\": 3, \"106\": 8, \"124\": 1, \"49\": 1, \"101\": 1, \"58\": 1, \"12\": 2, \"27\": 1, \"32\": 1, \"0\": 1, \"105\": 1, \"15\": 1}, \"102\": {\"102\": 96, \"33\": 7, \"50\": 1, \"62\": 1, \"122\": 1, \"126\": 1, \"69\": 7, \"1\": 3, \"84\": 1, \"16\": 1, \"36\": 1}, \"31\": {\"31\": 14, \"108\": 1, \"9\": 1}, \"58\": {\"24\": 1, \"58\": 10, \"36\": 1}, \"47\": {\"47\": 9, \"40\": 1, \"29\": 1, \"93\": 1}, \"24\": {\"68\": 1, \"52\": 1, \"103\": 1, \"24\": 30, \"97\": 2, \"122\": 1, \"126\": 1, \"15\": 2, \"108\": 9, \"34\": 2, \"86\": 1, \"71\": 5, \"12\": 3, \"0\": 1, \"98\": 4, \"30\": 1, \"3\": 1, \"94\": 2, \"110\": 2, \"87\": 1, \"88\": 4, \"93\": 1, \"70\": 2, \"79\": 1, \"75\": 1, \"9\": 2, \"53\": 1, \"127\": 1, \"36\": 1, \"27\": 1, \"84\": 1, \"125\": 2, \"107\": 1, \"111\": 2}, \"19\": {\"19\": 8, \"118\": 1, \"33\": 5, \"117\": 1, \"31\": 2, \"114\": 1, \"105\": 1, \"81\": 1, \"74\": 1, \"70\": 1, \"69\": 1, \"101\": 1, \"14\": 1, \"115\": 1, \"11\": 1, \"129\": 1}, \"11\": {\"19\": 1, \"69\": 2, \"74\": 1, \"14\": 6, \"11\": 36, \"101\": 3, \"126\": 3, \"102\": 5, \"26\": 9, \"82\": 1, \"124\": 1, \"39\": 6, \"118\": 3, \"106\": 3, \"62\": 8, \"0\": 1, \"1\": 2, \"90\": 1, \"105\": 2, \"43\": 2, \"12\": 1, \"10\": 1, \"122\": 2, \"87\": 2, \"117\": 6, \"16\": 2, \"44\": 1, \"84\": 3, \"107\": 1, \"109\": 2, \"99\": 2, \"110\": 1, \"33\": 2, \"40\": 1, \"4\": 2, \"18\": 1, \"127\": 1, \"98\": 1, \"114\": 3, \"93\": 1}, \"52\": {\"68\": 1, \"52\": 12, \"89\": 1, \"27\": 2, \"12\": 1, \"110\": 1, \"107\": 1, \"127\": 1}, \"17\": {\"17\": 9, \"68\": 2, \"43\": 1, \"0\": 3, \"103\": 1}, \"25\": {\"25\": 11, \"35\": 2, \"74\": 1, \"96\": 1, \"122\": 1}, \"69\": {\"69\": 80, \"102\": 10, \"33\": 9, \"39\": 3, \"16\": 1, \"110\": 1, \"125\": 1, \"90\": 1, \"18\": 1, \"36\": 1}, \"96\": {\"57\": 1, \"96\": 9, \"91\": 1, \"65\": 1, \"76\": 1, \"33\": 1, \"1\": 1, \"42\": 1, \"32\": 1, \"104\": 1, \"39\": 1, \"64\": 1}, \"109\": {\"109\": 49, \"87\": 2, \"94\": 1, \"44\": 1, \"2\": 1, \"113\": 7, \"60\": 1, \"118\": 1, \"43\": 5, \"18\": 14, \"90\": 11, \"126\": 2, \"3\": 2, \"39\": 2, \"69\": 2, \"88\": 1, \"124\": 1, \"28\": 2, \"76\": 2, \"27\": 1, \"70\": 3, \"1\": 1, \"11\": 1, \"117\": 1}, \"115\": {\"115\": 12}, \"83\": {\"83\": 4, \"17\": 1, \"124\": 2, \"105\": 2, \"109\": 1, \"127\": 3, \"98\": 1, \"34\": 3, \"15\": 1, \"107\": 1, \"81\": 1, \"60\": 1, \"10\": 2, \"111\": 1, \"9\": 1, \"77\": 1, \"108\": 1, \"27\": 1}, \"84\": {\"84\": 78, \"70\": 2, \"122\": 3, \"62\": 2, \"87\": 3, \"43\": 9, \"39\": 1, \"114\": 11, \"5\": 2, \"1\": 7, \"44\": 1, \"10\": 1, \"109\": 1, \"33\": 1, \"94\": 1, \"102\": 2, \"69\": 1, \"117\": 1, \"126\": 1}, \"119\": {\"119\": 14, \"95\": 2}, \"122\": {\"74\": 1, \"84\": 2, \"11\": 8, \"123\": 1, \"117\": 1, \"122\": 25, \"5\": 3, \"50\": 1, \"32\": 1, \"4\": 1, \"70\": 1, \"43\": 2, \"109\": 3, \"72\": 2, \"105\": 9, \"44\": 3, \"87\": 4, \"12\": 1, \"14\": 7, \"124\": 1, \"18\": 1, \"119\": 1, \"102\": 1, \"114\": 2, \"55\": 1, \"39\": 2, \"106\": 1, \"15\": 1, \"10\": 1}, \"99\": {\"99\": 18, \"129\": 4, \"2\": 2}, \"1\": {\"1\": 84, \"92\": 1, \"129\": 2, \"84\": 11, \"7\": 4, \"21\": 1, \"69\": 3, \"110\": 2, \"43\": 7, \"102\": 5, \"5\": 1, \"87\": 2, \"126\": 2, \"33\": 6, \"109\": 1, \"73\": 2, \"122\": 1, \"107\": 1}, \"74\": {\"74\": 12, \"62\": 3, \"14\": 1}, \"85\": {\"85\": 22, \"127\": 2, \"12\": 2, \"53\": 1, \"47\": 1, \"21\": 1, \"107\": 1, \"29\": 1, \"93\": 1}, \"127\": {\"127\": 74, \"123\": 1, \"89\": 1, \"71\": 1, \"52\": 1, \"111\": 3, \"12\": 5, \"107\": 3, \"100\": 1, \"106\": 4, \"110\": 1, \"34\": 2, \"97\": 1, \"10\": 1, \"27\": 1, \"93\": 1, \"98\": 6, \"101\": 1}, \"111\": {\"111\": 79, \"0\": 2, \"15\": 2, \"71\": 6, \"6\": 2, \"98\": 3, \"88\": 2, \"12\": 3, \"110\": 1, \"107\": 1, \"127\": 5, \"94\": 4, \"37\": 1, \"46\": 1, \"27\": 2, \"24\": 2, \"89\": 1, \"30\": 1, \"93\": 1, \"43\": 1}, \"53\": {\"53\": 19, \"41\": 1}, \"88\": {\"127\": 4, \"88\": 40, \"93\": 1, \"94\": 7, \"27\": 7, \"10\": 4, \"21\": 1, \"32\": 2, \"34\": 1, \"36\": 7, \"30\": 2, \"24\": 3, \"108\": 7, \"12\": 7, \"98\": 5, \"4\": 1, \"15\": 8, \"125\": 8, \"110\": 1, \"126\": 1, \"101\": 4, \"40\": 1, \"58\": 1, \"53\": 1, \"89\": 3, \"111\": 1, \"71\": 2, \"1\": 1, \"106\": 1}, \"65\": {\"65\": 4, \"99\": 1, \"92\": 1, \"63\": 1, \"66\": 1, \"20\": 1, \"14\": 1, \"2\": 1, \"33\": 1}, \"7\": {\"7\": 119, \"126\": 6, \"43\": 3, \"109\": 1, \"122\": 1, \"84\": 3, \"87\": 1}, \"16\": {\"16\": 76, \"61\": 2, \"117\": 3, \"69\": 5, \"39\": 2, \"33\": 5, \"26\": 3, \"62\": 1, \"87\": 1, \"102\": 4, \"82\": 1, \"118\": 3, \"110\": 1, \"11\": 1}, \"128\": {\"128\": 11, \"7\": 1, \"102\": 1, \"125\": 1, \"93\": 3, \"86\": 1, \"72\": 1, \"44\": 1, \"23\": 1, \"43\": 1, \"11\": 1, \"69\": 1}, \"34\": {\"114\": 1, \"104\": 1, \"103\": 2, \"43\": 2, \"70\": 1, \"34\": 4, \"15\": 2, \"100\": 2, \"87\": 1, \"116\": 2, \"21\": 1, \"117\": 1, \"6\": 1, \"109\": 1, \"48\": 2, \"37\": 1, \"22\": 1, \"54\": 1, \"124\": 1, \"52\": 2, \"112\": 1, \"83\": 1}, \"129\": {\"114\": 1, \"129\": 7, \"10\": 1, \"14\": 1, \"42\": 1, \"3\": 2, \"43\": 3, \"113\": 1, \"84\": 3, \"2\": 3, \"100\": 1, \"63\": 2, \"87\": 2}, \"43\": {\"128\": 2, \"129\": 2, \"96\": 2, \"82\": 1, \"20\": 1, \"43\": 37, \"58\": 1, \"38\": 1, \"121\": 1, \"33\": 5, \"1\": 5, \"19\": 1, \"45\": 1, \"122\": 4, \"99\": 1, \"84\": 6, \"113\": 2, \"114\": 12, \"39\": 2, \"2\": 2, \"100\": 1, \"44\": 2, \"109\": 5, \"87\": 7, \"101\": 1, \"90\": 1, \"5\": 4, \"117\": 3, \"126\": 2, \"8\": 1, \"50\": 1, \"22\": 1, \"69\": 1, \"14\": 1, \"102\": 4, \"70\": 1, \"18\": 1, \"11\": 1, \"36\": 1}, \"92\": {\"92\": 24, \"15\": 1, \"94\": 2, \"54\": 1}, \"28\": {\"28\": 15, \"92\": 1, \"104\": 1, \"20\": 1, \"7\": 1, \"71\": 1}, \"27\": {\"53\": 1, \"0\": 3, \"49\": 1, \"27\": 24, \"58\": 1, \"127\": 4, \"75\": 1, \"106\": 2, \"88\": 6, \"92\": 1, \"51\": 2, \"71\": 2, \"6\": 1, \"125\": 10, \"34\": 1, \"98\": 3, \"36\": 5, \"12\": 3, \"94\": 5, \"30\": 4, \"93\": 3, \"24\": 5, \"15\": 2, \"89\": 1, \"101\": 1}, \"114\": {\"114\": 97, \"108\": 1, \"84\": 7, \"100\": 1, \"36\": 1, \"126\": 1, \"122\": 2, \"43\": 2, \"82\": 2, \"93\": 1, \"5\": 3, \"105\": 1, \"4\": 1, \"1\": 1, \"69\": 1, \"87\": 1, \"7\": 1}, \"73\": {\"128\": 1, \"73\": 18, \"87\": 1}, \"0\": {\"0\": 34, \"104\": 1, \"103\": 1, \"23\": 1, \"75\": 1, \"30\": 3, \"52\": 2, \"32\": 2, \"10\": 4, \"127\": 2, \"34\": 1, \"15\": 1, \"110\": 3, \"106\": 5, \"40\": 1, \"27\": 4, \"101\": 3, \"71\": 1, \"12\": 3, \"124\": 3, \"41\": 1, \"68\": 2, \"53\": 1, \"98\": 1, \"111\": 3}, \"104\": {\"43\": 2, \"104\": 10, \"96\": 1, \"99\": 1, \"76\": 1, \"18\": 1}, \"118\": {\"118\": 38, \"82\": 1, \"2\": 1, \"33\": 2, \"95\": 2, \"109\": 1, \"26\": 12, \"84\": 2, \"69\": 3, \"62\": 5, \"16\": 4, \"11\": 3, \"102\": 4, \"43\": 1, \"39\": 2, \"18\": 1, \"117\": 2}, \"41\": {\"41\": 13, \"31\": 2, \"101\": 1}, \"91\": {\"53\": 1, \"68\": 1, \"91\": 2, \"88\": 2, \"75\": 2, \"92\": 1, \"27\": 1, \"93\": 1, \"98\": 1, \"15\": 2, \"108\": 1, \"111\": 1, \"19\": 1, \"79\": 1, \"110\": 1, \"5\": 1, \"17\": 1, \"107\": 1, \"52\": 1, \"86\": 2, \"30\": 2, \"11\": 1}, \"124\": {\"124\": 65, \"79\": 1, \"103\": 1, \"43\": 1, \"83\": 2, \"27\": 1, \"107\": 2, \"85\": 2, \"80\": 1, \"127\": 1, \"87\": 1, \"29\": 1, \"4\": 1, \"12\": 4, \"0\": 3, \"106\": 6, \"40\": 7, \"98\": 3, \"10\": 4, \"88\": 2, \"110\": 1, \"93\": 2, \"70\": 1, \"9\": 2, \"81\": 1, \"97\": 1, \"122\": 1, \"105\": 2, \"111\": 1, \"11\": 1}, \"81\": {\"10\": 1, \"81\": 22, \"93\": 1, \"83\": 2, \"55\": 1, \"4\": 1}, \"63\": {\"63\": 12, \"129\": 1, \"20\": 1, \"113\": 2}, \"76\": {\"76\": 13, \"63\": 1, \"3\": 1, \"121\": 1}, \"10\": {\"68\": 1, \"91\": 1, \"61\": 1, \"93\": 4, \"70\": 5, \"8\": 2, \"29\": 1, \"0\": 6, \"106\": 4, \"124\": 1, \"108\": 4, \"127\": 4, \"12\": 5, \"10\": 23, \"43\": 2, \"111\": 11, \"126\": 1, \"87\": 5, \"98\": 4, \"1\": 1, \"107\": 2, \"101\": 6, \"15\": 1, \"94\": 1, \"110\": 5, \"40\": 2, \"11\": 1, \"7\": 1, \"114\": 1, \"103\": 1, \"17\": 1, \"60\": 1, \"37\": 1, \"9\": 1, \"34\": 1, \"55\": 1, \"14\": 1, \"72\": 1, \"105\": 1, \"85\": 1, \"59\": 1, \"82\": 1, \"27\": 1}, \"51\": {\"51\": 11, \"6\": 1, \"27\": 1, \"15\": 1, \"37\": 1, \"90\": 1}, \"82\": {\"82\": 32, \"95\": 1, \"11\": 1, \"122\": 1, \"1\": 1}, \"56\": {\"56\": 12}, \"30\": {\"124\": 1, \"30\": 11, \"89\": 1, \"0\": 1, \"27\": 4, \"6\": 4, \"24\": 2, \"94\": 2, \"98\": 2, \"106\": 2, \"12\": 1, \"71\": 4, \"108\": 1, \"97\": 1, \"88\": 4, \"125\": 2, \"127\": 2, \"15\": 3, \"36\": 3, \"107\": 1}, \"21\": {\"65\": 2, \"29\": 1, \"60\": 1, \"123\": 1, \"51\": 1, \"109\": 3, \"3\": 4, \"41\": 1, \"90\": 5, \"124\": 1, \"18\": 1, \"66\": 2, \"21\": 3, \"125\": 2, \"2\": 1, \"49\": 1, \"11\": 1, \"10\": 1, \"63\": 2, \"70\": 1, \"92\": 1, \"6\": 1, \"110\": 1, \"113\": 1, \"108\": 1}, \"46\": {\"46\": 8, \"21\": 1, \"77\": 1, \"6\": 1, \"89\": 1}, \"33\": {\"33\": 132, \"1\": 1, \"102\": 4, \"117\": 1}, \"101\": {\"101\": 100, \"41\": 1, \"72\": 1, \"106\": 2, \"91\": 1, \"98\": 3, \"3\": 1, \"44\": 1, \"93\": 3, \"108\": 3, \"10\": 2, \"4\": 1, \"43\": 2, \"40\": 2, \"12\": 1}, \"105\": {\"105\": 56, \"19\": 1, \"116\": 1, \"107\": 5, \"36\": 1, \"40\": 7, \"8\": 2, \"108\": 1, \"87\": 2, \"4\": 2, \"5\": 1, \"78\": 1, \"114\": 3, \"110\": 1}, \"50\": {\"50\": 11, \"1\": 1, \"102\": 1, \"45\": 1, \"64\": 1, \"33\": 1}, \"116\": {\"120\": 1, \"50\": 1, \"67\": 1, \"116\": 5, \"95\": 1, \"123\": 1, \"121\": 2, \"39\": 3, \"8\": 1, \"42\": 1, \"109\": 2, \"14\": 1, \"119\": 1, \"62\": 2, \"99\": 1, \"100\": 1, \"18\": 1, \"82\": 1, \"70\": 1, \"98\": 2, \"124\": 1, \"78\": 1}, \"77\": {\"77\": 12, \"12\": 1, \"35\": 1, \"68\": 1, \"94\": 1}, \"75\": {\"75\": 13, \"85\": 1, \"42\": 1, \"29\": 1}, \"95\": {\"95\": 30, \"82\": 1, \"14\": 1, \"26\": 1, \"74\": 1, \"119\": 1, \"115\": 1}, \"120\": {\"95\": 1, \"120\": 12, \"62\": 1, \"83\": 1, \"8\": 1, \"126\": 1, \"14\": 2, \"26\": 1}, \"18\": {\"18\": 98, \"113\": 6, \"20\": 1, \"90\": 1, \"109\": 2}, \"14\": {\"14\": 78, \"128\": 1, \"85\": 1, \"105\": 2, \"11\": 3, \"62\": 2, \"114\": 3, \"122\": 1, \"84\": 4, \"107\": 1}, \"44\": {\"44\": 61, \"2\": 1, \"34\": 1, \"43\": 1, \"109\": 3, \"126\": 1, \"18\": 1, \"84\": 1, \"21\": 1, \"70\": 4, \"90\": 1}, \"98\": {\"98\": 57, \"22\": 1, \"127\": 6, \"91\": 1, \"12\": 4, \"36\": 2, \"88\": 4, \"27\": 2, \"105\": 1, \"101\": 1, \"24\": 1, \"94\": 1, \"0\": 2, \"15\": 2, \"111\": 1, \"10\": 1, \"107\": 1, \"85\": 1, \"128\": 1, \"106\": 3, \"108\": 1, \"93\": 1, \"71\": 1}, \"121\": {\"121\": 15, \"64\": 3, \"50\": 1, \"76\": 1, \"13\": 1, \"33\": 2, \"42\": 1, \"39\": 1, \"90\": 2, \"123\": 2, \"65\": 2, \"109\": 1}, \"113\": {\"113\": 84, \"18\": 10, \"39\": 1, \"109\": 4, \"90\": 5, \"2\": 2, \"3\": 2}, \"103\": {\"98\": 1, \"103\": 7, \"85\": 1, \"0\": 1, \"40\": 1, \"24\": 1, \"72\": 1, \"41\": 1, \"60\": 1, \"124\": 1}, \"62\": {\"62\": 93, \"44\": 1, \"120\": 1, \"14\": 3, \"82\": 1, \"11\": 4, \"42\": 1, \"122\": 2, \"102\": 2, \"43\": 1, \"8\": 2, \"40\": 1, \"95\": 1, \"100\": 1, \"107\": 1, \"84\": 2, \"118\": 2, \"110\": 1}, \"32\": {\"32\": 28, \"15\": 1, \"112\": 1, \"54\": 1, \"27\": 1}, \"71\": {\"71\": 65, \"59\": 1, \"88\": 4, \"127\": 8, \"27\": 5, \"94\": 4, \"111\": 4, \"36\": 1, \"16\": 1, \"124\": 1, \"15\": 2, \"101\": 1, \"37\": 1, \"95\": 1, \"51\": 1, \"30\": 2, \"97\": 1, \"24\": 3, \"98\": 1, \"10\": 1}, \"94\": {\"111\": 2, \"71\": 3, \"88\": 5, \"24\": 2, \"89\": 2, \"94\": 32, \"77\": 1, \"92\": 1, \"0\": 1, \"15\": 6, \"30\": 4, \"108\": 1, \"125\": 10, \"98\": 5, \"36\": 1, \"110\": 1, \"51\": 2, \"112\": 3, \"32\": 1, \"27\": 6, \"6\": 1, \"18\": 1, \"93\": 1}, \"49\": {\"49\": 8, \"111\": 2, \"86\": 2, \"107\": 1, \"121\": 1, \"93\": 1, \"108\": 1, \"10\": 1, \"110\": 1, \"31\": 1, \"6\": 1}, \"12\": {\"12\": 50, \"111\": 5, \"6\": 1, \"3\": 1, \"98\": 4, \"101\": 8, \"127\": 5, \"94\": 1, \"106\": 7, \"40\": 2, \"24\": 5, \"90\": 3, \"10\": 2, \"0\": 1, \"27\": 1, \"71\": 1, \"87\": 1, \"91\": 1, \"68\": 1, \"105\": 1, \"30\": 1, \"15\": 1, \"93\": 1}, \"90\": {\"76\": 1, \"90\": 119, \"64\": 1, \"66\": 2, \"121\": 1}, \"93\": {\"82\": 1, \"40\": 4, \"9\": 1, \"105\": 3, \"103\": 1, \"87\": 5, \"29\": 1, \"77\": 1, \"93\": 20, \"109\": 3, \"49\": 1, \"107\": 11, \"110\": 5, \"1\": 3, \"127\": 4, \"14\": 1, \"44\": 2, \"12\": 4, \"108\": 6, \"10\": 9, \"4\": 3, \"70\": 5, \"126\": 4, \"106\": 4, \"11\": 1, \"88\": 2, \"43\": 1, \"8\": 2, \"114\": 1, \"31\": 1, \"118\": 1, \"85\": 1, \"21\": 1, \"84\": 1, \"125\": 1, \"101\": 5, \"111\": 1, \"98\": 2, \"124\": 1}, \"13\": {\"13\": 11, \"95\": 1, \"117\": 2, \"102\": 1, \"50\": 1}, \"67\": {\"32\": 1, \"67\": 13, \"26\": 2}, \"20\": {\"20\": 13, \"63\": 1, \"51\": 1, \"10\": 1}, \"2\": {\"119\": 1, \"2\": 15, \"66\": 2, \"118\": 2, \"115\": 1, \"25\": 1, \"62\": 1, \"113\": 3, \"122\": 1, \"129\": 2, \"100\": 1, \"108\": 1, \"11\": 1}, \"5\": {\"5\": 70, \"84\": 5, \"72\": 1, \"114\": 5, \"1\": 1, \"107\": 1, \"15\": 1, \"108\": 1, \"2\": 1, \"129\": 1, \"25\": 1}, \"54\": {\"37\": 1, \"54\": 12, \"127\": 1, \"110\": 1, \"75\": 1}, \"37\": {\"37\": 15, \"86\": 1}, \"38\": {\"38\": 14, \"85\": 1, \"0\": 1}, \"86\": {\"40\": 1, \"4\": 1, \"8\": 2, \"70\": 3, \"31\": 1, \"101\": 4, \"43\": 2, \"86\": 10, \"34\": 3, \"108\": 2, \"47\": 1, \"49\": 1, \"109\": 1, \"107\": 1, \"91\": 1, \"27\": 1, \"0\": 1}, \"55\": {\"55\": 11, \"4\": 1}, \"97\": {\"97\": 8, \"89\": 2, \"19\": 1, \"101\": 1, \"51\": 1, \"9\": 2, \"76\": 1, \"30\": 1, \"6\": 1, \"86\": 1, \"40\": 1}, \"29\": {\"29\": 26, \"91\": 1, \"23\": 1}, \"48\": {\"20\": 1, \"48\": 10, \"115\": 1}, \"60\": {\"60\": 2, \"128\": 1, \"39\": 1, \"18\": 1, \"3\": 1, \"34\": 2, \"109\": 2, \"64\": 2, \"49\": 1, \"10\": 1, \"115\": 1, \"73\": 1}, \"36\": {\"27\": 3, \"36\": 78, \"88\": 7, \"15\": 6, \"94\": 4, \"30\": 2, \"125\": 8, \"127\": 1, \"8\": 1, \"71\": 2, \"111\": 4, \"106\": 1, \"37\": 1, \"59\": 2, \"98\": 2}, \"42\": {\"27\": 1, \"66\": 1, \"89\": 2, \"49\": 2, \"59\": 1, \"1\": 1, \"42\": 2, \"109\": 3, \"111\": 2, \"96\": 1, \"6\": 1, \"54\": 1, \"29\": 1, \"52\": 2, \"18\": 1, \"32\": 1, \"76\": 2, \"124\": 1, \"33\": 1, \"127\": 1}, \"66\": {\"66\": 14, \"90\": 2}, \"126\": {\"126\": 61, \"7\": 9, \"20\": 1, \"99\": 1, \"19\": 3, \"43\": 9, \"70\": 6, \"18\": 2, \"2\": 1, \"1\": 10, \"3\": 1, \"44\": 3, \"84\": 4, \"11\": 3, \"93\": 3, \"90\": 1, \"109\": 1, \"114\": 1, \"82\": 1, \"104\": 1, \"98\": 1, \"5\": 1, \"122\": 1, \"39\": 1, \"69\": 1, \"108\": 1}, \"39\": {\"13\": 1, \"39\": 33, \"20\": 1, \"123\": 2, \"90\": 5, \"117\": 6, \"113\": 9, \"118\": 5, \"102\": 6, \"66\": 1, \"69\": 7, \"109\": 3, \"18\": 10, \"26\": 4, \"3\": 3, \"84\": 1, \"104\": 1, \"28\": 1, \"16\": 2, \"2\": 1, \"11\": 2}, \"107\": {\"107\": 78, \"124\": 2, \"40\": 14, \"55\": 1, \"105\": 2, \"93\": 8, \"0\": 2, \"127\": 1, \"101\": 3, \"10\": 1, \"106\": 2, \"70\": 1, \"85\": 1, \"118\": 1, \"98\": 1, \"110\": 1, \"12\": 1, \"4\": 4}, \"59\": {\"88\": 2, \"59\": 5, \"32\": 2, \"115\": 1, \"92\": 1, \"129\": 1}, \"117\": {\"117\": 116, \"69\": 5, \"16\": 8, \"11\": 2, \"33\": 2, \"39\": 4, \"102\": 1}, \"6\": {\"6\": 8, \"88\": 4, \"125\": 1, \"108\": 2, \"30\": 2, \"36\": 1, \"5\": 1, \"106\": 1, \"32\": 3, \"96\": 1, \"46\": 1, \"10\": 1, \"112\": 1, \"68\": 1, \"49\": 1, \"97\": 1, \"92\": 1, \"21\": 1}, \"123\": {\"123\": 11, \"117\": 1, \"113\": 1, \"20\": 2, \"121\": 1}, \"8\": {\"80\": 2, \"122\": 2, \"8\": 60, \"105\": 5, \"77\": 1, \"118\": 1, \"93\": 3, \"125\": 1, \"4\": 5, \"84\": 2, \"70\": 6, \"98\": 1, \"126\": 2, \"10\": 4, \"124\": 1, \"11\": 2, \"40\": 5, \"108\": 2, \"102\": 1, \"107\": 7, \"49\": 1, \"87\": 2, \"3\": 1, \"15\": 1, \"43\": 2, \"7\": 1, \"114\": 1, \"14\": 1, \"101\": 1}, \"112\": {\"112\": 6, \"0\": 1, \"111\": 1, \"32\": 1, \"15\": 1, \"27\": 2, \"34\": 1, \"68\": 2, \"94\": 1}, \"80\": {\"80\": 10, \"14\": 1, \"120\": 2, \"96\": 1, \"72\": 1, \"122\": 1}, \"125\": {\"125\": 95, \"27\": 6, \"86\": 1, \"24\": 1, \"30\": 2, \"88\": 8, \"94\": 6, \"36\": 8, \"15\": 7, \"10\": 1, \"71\": 1}, \"61\": {\"117\": 1, \"13\": 1, \"43\": 2, \"61\": 6, \"109\": 2}, \"45\": {\"45\": 1, \"14\": 4, \"115\": 1, \"118\": 1, \"3\": 1, \"66\": 1, \"114\": 1, \"64\": 2}, \"72\": {\"87\": 1, \"105\": 1, \"72\": 12, \"55\": 3, \"83\": 1, \"114\": 1, \"107\": 2, \"40\": 3, \"4\": 3, \"23\": 1, \"93\": 2, \"128\": 1, \"108\": 1}, \"87\": {\"61\": 2, \"126\": 3, \"114\": 5, \"87\": 34, \"78\": 2, \"122\": 7, \"70\": 3, \"39\": 1, \"43\": 5, \"69\": 1, \"44\": 4, \"72\": 3, \"4\": 4, \"93\": 2, \"105\": 6, \"109\": 3, \"84\": 2, \"5\": 2, \"8\": 3, \"1\": 2, \"21\": 3, \"107\": 2, \"19\": 1, \"7\": 1, \"14\": 1, \"33\": 2, \"128\": 1, \"62\": 2, \"101\": 1}, \"106\": {\"93\": 3, \"30\": 2, \"106\": 82, \"127\": 4, \"10\": 5, \"111\": 8, \"101\": 1, \"110\": 3, \"12\": 6, \"107\": 4, \"0\": 2, \"105\": 1, \"98\": 2, \"88\": 1}, \"35\": {\"30\": 1, \"27\": 1, \"35\": 5, \"9\": 1, \"32\": 1, \"6\": 1, \"41\": 1, \"101\": 1}, \"78\": {\"123\": 1, \"117\": 1, \"94\": 1, \"67\": 1, \"11\": 1, \"52\": 1, \"113\": 1, \"78\": 3, \"77\": 1, \"39\": 1, \"81\": 1, \"128\": 1, \"59\": 1, \"44\": 1}, \"15\": {\"92\": 1, \"15\": 54, \"36\": 9, \"27\": 2, \"85\": 1, \"83\": 1, \"34\": 1, \"91\": 1, \"127\": 3, \"6\": 1, \"125\": 4, \"106\": 2, \"71\": 4, \"88\": 5, \"94\": 5, \"124\": 1, \"110\": 1, \"98\": 1, \"30\": 2, \"12\": 1, \"107\": 1, \"111\": 2, \"40\": 1}, \"100\": {\"100\": 11, \"11\": 1, \"14\": 1, \"109\": 1, \"129\": 1, \"82\": 1}}, \"C_2\": {\"36\": {\"50\": 2, \"36\": 77, \"57\": 8, \"12\": 3, \"32\": 1, \"1\": 5, \"4\": 7, \"9\": 5, \"6\": 1, \"54\": 1, \"17\": 1, \"0\": 1, \"8\": 1, \"46\": 1, \"45\": 2}, \"5\": {\"5\": 87, \"49\": 1, \"44\": 1, \"9\": 2, \"42\": 1, \"14\": 1, \"57\": 5, \"29\": 10, \"4\": 1, \"19\": 2, \"1\": 1, \"22\": 1, \"47\": 3, \"3\": 1, \"46\": 2, \"36\": 1}, \"45\": {\"49\": 6, \"4\": 9, \"34\": 2, \"45\": 53, \"29\": 11, \"54\": 2, \"9\": 12, \"19\": 10, \"50\": 3, \"44\": 1, \"36\": 5, \"12\": 1, \"3\": 5, \"57\": 3, \"1\": 3, \"46\": 1, \"0\": 1}, \"49\": {\"36\": 2, \"49\": 16, \"32\": 1, \"14\": 1, \"4\": 2, \"57\": 1, \"9\": 1}, \"50\": {\"41\": 2, \"12\": 6, \"36\": 4, \"46\": 2, \"25\": 6, \"53\": 19, \"45\": 3, \"32\": 2, \"4\": 2, \"50\": 19, \"8\": 19, \"55\": 1, \"31\": 1, \"51\": 7, \"29\": 3, \"30\": 2, \"47\": 2, \"52\": 2, \"5\": 1, \"6\": 4, \"9\": 7, \"3\": 3, \"20\": 6, \"27\": 8, \"57\": 1, \"33\": 1, \"48\": 1, \"19\": 2}, \"4\": {\"36\": 11, \"49\": 1, \"4\": 75, \"9\": 21, \"57\": 11, \"45\": 3, \"1\": 6, \"50\": 1, \"47\": 2, \"29\": 3, \"0\": 1, \"46\": 1, \"19\": 2}, \"43\": {\"43\": 130, \"24\": 5, \"10\": 13}, \"41\": {\"41\": 20}, \"37\": {\"37\": 36}, \"12\": {\"12\": 74, \"36\": 1, \"17\": 2, \"9\": 1, \"54\": 2, \"8\": 3, \"20\": 2, \"45\": 1, \"53\": 4, \"27\": 2}, \"33\": {\"33\": 22, \"34\": 1, \"5\": 1, \"40\": 1, \"3\": 3}, \"7\": {\"7\": 32, \"5\": 1, \"6\": 1, \"29\": 2}, \"56\": {\"56\": 114, \"22\": 13, \"10\": 2, \"38\": 3, \"13\": 4, \"43\": 2, \"14\": 1, \"24\": 1}, \"14\": {\"56\": 4, \"14\": 17, \"39\": 1, \"40\": 1, \"55\": 1}, \"52\": {\"52\": 114, \"30\": 1, \"23\": 7, \"16\": 2}, \"44\": {\"33\": 2, \"44\": 71, \"45\": 6, \"5\": 6, \"35\": 1, \"40\": 2, \"29\": 2, \"25\": 3, \"55\": 1, \"46\": 2}, \"48\": {\"48\": 139, \"17\": 3, \"6\": 2}, \"20\": {\"20\": 90, \"8\": 13, \"53\": 7, \"12\": 3, \"51\": 11, \"44\": 1, \"26\": 1, \"48\": 2}, \"55\": {\"55\": 131, \"44\": 2, \"13\": 3, \"46\": 2, \"56\": 4, \"14\": 1, \"5\": 1}, \"32\": {\"36\": 3, \"57\": 3, \"32\": 16, \"4\": 2, \"0\": 1, \"47\": 1, \"12\": 1, \"1\": 1}, \"40\": {\"44\": 6, \"40\": 94, \"34\": 1, \"35\": 5, \"33\": 2, \"45\": 2, \"46\": 4, \"22\": 1, \"19\": 3, \"25\": 8, \"5\": 2, \"29\": 2, \"55\": 4, \"42\": 1, \"31\": 1}, \"54\": {\"54\": 48, \"32\": 2, \"20\": 4, \"36\": 2, \"12\": 13, \"53\": 5, \"48\": 4, \"8\": 16, \"52\": 1, \"27\": 6, \"46\": 1, \"57\": 1, \"50\": 1, \"17\": 2, \"6\": 1, \"4\": 1}, \"17\": {\"17\": 102, \"48\": 1, \"6\": 1}, \"38\": {\"38\": 18, \"24\": 1, \"56\": 1}, \"24\": {\"24\": 71, \"43\": 12, \"56\": 4, \"10\": 7, \"13\": 1, \"22\": 1}, \"1\": {\"1\": 49, \"36\": 13, \"47\": 6, \"5\": 4, \"0\": 5, \"54\": 1, \"9\": 4, \"4\": 9, \"57\": 6, \"6\": 2, \"17\": 2, \"44\": 1, \"48\": 2, \"39\": 1, \"2\": 2, \"42\": 1, \"45\": 1, \"3\": 1, \"32\": 1, \"50\": 1}, \"6\": {\"36\": 5, \"17\": 15, \"6\": 23, \"57\": 4, \"52\": 5, \"23\": 2, \"50\": 4, \"16\": 1, \"48\": 20, \"51\": 2, \"29\": 1, \"30\": 9, \"8\": 7, \"47\": 3, \"15\": 3, \"20\": 1, \"45\": 2, \"4\": 1, \"12\": 5, \"41\": 2, \"42\": 1, \"1\": 2, \"27\": 4, \"53\": 2}, \"34\": {\"9\": 3, \"34\": 21, \"45\": 2, \"47\": 1, \"57\": 1}, \"11\": {\"11\": 110, \"23\": 8, \"15\": 10, \"16\": 5, \"48\": 3}, \"9\": {\"9\": 75, \"4\": 23, \"19\": 9, \"29\": 14, \"49\": 1, \"45\": 9, \"47\": 2, \"3\": 2, \"36\": 5, \"50\": 2, \"57\": 7, \"54\": 1}, \"8\": {\"8\": 123, \"12\": 3, \"20\": 14, \"53\": 2, \"50\": 1, \"27\": 3, \"41\": 1, \"54\": 3, \"30\": 2}, \"22\": {\"56\": 18, \"22\": 92, \"39\": 1, \"24\": 6, \"43\": 5, \"10\": 8, \"13\": 3, \"55\": 1, \"31\": 1, \"42\": 1}, \"26\": {\"26\": 24}, \"23\": {\"23\": 138, \"30\": 2, \"18\": 2, \"16\": 2, \"52\": 1, \"15\": 1}, \"10\": {\"10\": 97, \"43\": 10, \"38\": 1, \"24\": 4}, \"18\": {\"23\": 1, \"18\": 47}, \"13\": {\"13\": 115, \"56\": 1}, \"30\": {\"23\": 4, \"30\": 119, \"22\": 1, \"18\": 1, \"43\": 1, \"15\": 2}, \"42\": {\"31\": 1, \"42\": 25, \"7\": 2, \"5\": 3, \"3\": 3, \"39\": 1, \"50\": 1}, \"31\": {\"31\": 28}, \"46\": {\"34\": 1, \"31\": 2, \"32\": 2, \"20\": 3, \"2\": 1, \"6\": 8, \"25\": 5, \"50\": 3, \"1\": 2, \"27\": 1, \"46\": 25, \"19\": 4, \"53\": 5, \"11\": 2, \"21\": 8, \"55\": 4, \"54\": 7, \"57\": 4, \"43\": 5, \"3\": 3, \"4\": 3, \"56\": 1, \"22\": 2, \"40\": 1, \"9\": 6, \"48\": 1, \"29\": 2, \"36\": 1, \"38\": 2, \"49\": 1, \"13\": 2, \"14\": 1, \"47\": 5, \"16\": 2, \"8\": 1, \"44\": 1, \"45\": 1}, \"57\": {\"36\": 7, \"57\": 92, \"1\": 6, \"29\": 4, \"4\": 14, \"50\": 2, \"27\": 1, \"47\": 9, \"0\": 1, \"49\": 1, \"9\": 2, \"5\": 1, \"6\": 2}, \"47\": {\"19\": 1, \"7\": 1, \"47\": 60, \"32\": 1, \"6\": 1, \"4\": 15, \"20\": 2, \"29\": 4, \"21\": 1, \"36\": 13, \"1\": 5, \"45\": 2, \"57\": 23, \"30\": 1, \"9\": 7, \"54\": 1}, \"35\": {\"35\": 32}, \"15\": {\"15\": 124, \"16\": 5, \"25\": 1, \"23\": 1, \"52\": 1}, \"25\": {\"5\": 3, \"25\": 89, \"45\": 8, \"44\": 8, \"55\": 1, \"31\": 1, \"3\": 8, \"46\": 1, \"29\": 2, \"40\": 3, \"19\": 8, \"9\": 2, \"33\": 1, \"7\": 1}, \"19\": {\"9\": 12, \"19\": 88, \"57\": 9, \"29\": 10, \"45\": 6, \"4\": 4, \"47\": 3, \"3\": 2, \"46\": 1, \"25\": 1}, \"51\": {\"51\": 123, \"53\": 4, \"20\": 1}, \"53\": {\"53\": 121, \"8\": 1, \"51\": 9, \"25\": 2, \"54\": 1}, \"21\": {\"21\": 75, \"36\": 1, \"48\": 3, \"51\": 9, \"19\": 1, \"12\": 3, \"53\": 5, \"20\": 5, \"8\": 5, \"17\": 5, \"16\": 1, \"6\": 1, \"27\": 4, \"1\": 1, \"52\": 1}, \"39\": {\"39\": 25, \"42\": 2, \"24\": 1}, \"2\": {\"1\": 1, \"2\": 13, \"40\": 1, \"47\": 1, \"26\": 1, \"36\": 5, \"57\": 3, \"4\": 3, \"3\": 1, \"29\": 1, \"28\": 1, \"49\": 1}, \"16\": {\"16\": 122, \"15\": 11, \"23\": 13, \"52\": 3, \"30\": 1}, \"0\": {\"0\": 23, \"41\": 1, \"6\": 1, \"21\": 2, \"50\": 1, \"48\": 4, \"23\": 5, \"17\": 4, \"1\": 1, \"54\": 1, \"57\": 1, \"15\": 1, \"20\": 1, \"18\": 2}, \"3\": {\"34\": 1, \"3\": 44, \"49\": 1, \"9\": 3, \"45\": 9, \"47\": 1, \"42\": 1, \"19\": 3, \"35\": 1, \"40\": 1, \"50\": 2, \"46\": 4, \"57\": 2, \"44\": 2, \"4\": 1, \"25\": 8, \"29\": 3, \"55\": 1, \"2\": 1, \"6\": 1, \"31\": 1, \"5\": 1}, \"27\": {\"27\": 142}, \"28\": {\"48\": 2, \"17\": 2, \"0\": 2, \"12\": 1, \"28\": 16, \"52\": 1, \"50\": 1, \"55\": 1, \"2\": 1, \"45\": 1}, \"29\": {\"4\": 7, \"29\": 70, \"19\": 12, \"9\": 16, \"47\": 2, \"46\": 2, \"57\": 5, \"5\": 1, \"50\": 1, \"36\": 2, \"3\": 3, \"45\": 5, \"7\": 1, \"25\": 1}}, \"W_2\": {\"91\": {\"12\": 3, \"30\": 2, \"125\": 1, \"27\": 1, \"17\": 1, \"25\": 2, \"91\": 6, \"8\": 1, \"6\": 1, \"102\": 1, \"51\": 1, \"54\": 1, \"10\": 1, \"71\": 3, \"124\": 2, \"99\": 1}, \"12\": {\"97\": 1, \"101\": 7, \"12\": 42, \"32\": 2, \"111\": 2, \"87\": 1, \"85\": 1, \"0\": 8, \"34\": 3, \"125\": 1, \"7\": 1, \"94\": 3, \"124\": 2, \"90\": 1, \"18\": 1, \"52\": 1, \"15\": 1, \"10\": 1, \"110\": 1, \"30\": 2, \"91\": 1, \"127\": 2, \"98\": 1, \"70\": 1, \"108\": 1}, \"101\": {\"101\": 119, \"41\": 2, \"36\": 1, \"111\": 8, \"34\": 1, \"127\": 4, \"12\": 1, \"0\": 3, \"30\": 3, \"15\": 2, \"106\": 2, \"87\": 1, \"108\": 1}, \"121\": {\"88\": 3, \"120\": 1, \"80\": 1, \"31\": 3, \"121\": 8, \"72\": 2, \"65\": 2, \"42\": 1, \"122\": 1, \"44\": 2, \"118\": 1, \"105\": 2, \"119\": 1, \"90\": 2, \"110\": 1, \"102\": 1, \"62\": 1, \"117\": 1, \"89\": 1, \"87\": 1}, \"118\": {\"88\": 3, \"110\": 2, \"13\": 1, \"118\": 23, \"14\": 3, \"60\": 1, \"72\": 1, \"62\": 4, \"107\": 3, \"63\": 1, \"67\": 1, \"121\": 1, \"102\": 2, \"40\": 1, \"122\": 3, \"109\": 2, \"39\": 3, \"55\": 1, \"48\": 4, \"18\": 1, \"80\": 1, \"82\": 2, \"16\": 1, \"69\": 1, \"11\": 1, \"15\": 1}, \"10\": {\"88\": 1, \"118\": 1, \"10\": 26, \"112\": 1, \"79\": 1, \"11\": 1, \"27\": 1, \"40\": 1, \"114\": 7, \"14\": 1, \"105\": 3, \"127\": 1, \"108\": 1, \"122\": 1, \"15\": 1, \"64\": 1, \"103\": 1, \"53\": 1, \"54\": 1, \"92\": 1, \"101\": 1, \"70\": 1, \"107\": 1, \"78\": 1, \"111\": 1, \"71\": 1, \"109\": 1}, \"117\": {\"33\": 1, \"117\": 100, \"81\": 2, \"39\": 1, \"18\": 9, \"26\": 3, \"109\": 2, \"121\": 1, \"69\": 1}, \"110\": {\"110\": 18, \"126\": 1, \"45\": 2, \"73\": 1, \"40\": 2, \"100\": 2, \"8\": 1, \"22\": 1, \"70\": 1, \"99\": 1, \"83\": 1, \"4\": 1, \"34\": 1, \"44\": 1, \"65\": 1, \"129\": 1, \"116\": 1, \"114\": 1, \"118\": 2}, \"97\": {\"101\": 1, \"97\": 9, \"54\": 1, \"103\": 1, \"0\": 3, \"58\": 2, \"29\": 1, \"35\": 1, \"6\": 1}, \"28\": {\"28\": 19, \"27\": 1}, \"88\": {\"88\": 37, \"126\": 2, \"81\": 2, \"39\": 5, \"10\": 1, \"84\": 1, \"121\": 1, \"70\": 3, \"2\": 2, \"93\": 13, \"43\": 6, \"44\": 2, \"21\": 3, \"102\": 3, \"118\": 1, \"90\": 6, \"99\": 2, \"11\": 1, \"26\": 2, \"87\": 3, \"113\": 2, \"8\": 1, \"62\": 2, \"109\": 4, \"16\": 5, \"100\": 1, \"60\": 1, \"96\": 1, \"23\": 1, \"83\": 1, \"69\": 1, \"120\": 1, \"18\": 2, \"122\": 1, \"1\": 2, \"108\": 1, \"33\": 1}, \"17\": {\"17\": 11, \"56\": 2, \"77\": 1, \"111\": 1, \"74\": 1}, \"126\": {\"118\": 1, \"126\": 40, \"96\": 1, \"70\": 9, \"39\": 2, \"80\": 1, \"44\": 4, \"65\": 1, \"62\": 2, \"60\": 1, \"69\": 2, \"78\": 2, \"88\": 4, \"99\": 2, \"33\": 4, \"122\": 2, \"84\": 2, \"43\": 5, \"93\": 1, \"117\": 1, \"16\": 7, \"105\": 3, \"87\": 6, \"5\": 1, \"19\": 1, \"57\": 1, \"121\": 1, \"102\": 1, \"11\": 2, \"1\": 4}, \"33\": {\"33\": 109, \"122\": 1, \"87\": 2, \"84\": 5, \"43\": 1, \"125\": 1, \"102\": 1, \"81\": 1, \"40\": 2, \"1\": 2, \"106\": 1, \"126\": 1, \"16\": 1}, \"86\": {\"17\": 1, \"86\": 28, \"74\": 1, \"37\": 1, \"124\": 1}, \"106\": {\"106\": 80, \"15\": 8, \"24\": 4, \"104\": 1, \"27\": 1, \"125\": 10, \"36\": 7, \"90\": 2, \"93\": 1, \"58\": 1, \"21\": 1, \"94\": 1, \"124\": 1, \"30\": 1, \"88\": 1}, \"54\": {\"54\": 15, \"111\": 1, \"91\": 1, \"101\": 2, \"98\": 1}, \"125\": {\"106\": 13, \"30\": 2, \"125\": 101, \"58\": 3, \"36\": 6, \"15\": 3, \"94\": 1, \"51\": 1, \"6\": 1, \"117\": 1}, \"83\": {\"83\": 27, \"109\": 1, \"70\": 1, \"3\": 1, \"93\": 6, \"100\": 1, \"99\": 2, \"87\": 1}, \"98\": {\"98\": 63, \"97\": 1, \"29\": 3, \"30\": 2, \"34\": 1, \"101\": 9, \"0\": 7, \"125\": 1, \"44\": 1, \"106\": 1, \"113\": 2, \"108\": 5, \"7\": 6, \"39\": 1, \"124\": 2, \"114\": 2, \"127\": 5, \"90\": 1, \"24\": 4, \"15\": 1, \"71\": 1, \"111\": 1}, \"11\": {\"11\": 51, \"53\": 1, \"3\": 10, \"20\": 2, \"0\": 1, \"98\": 1, \"114\": 1, \"70\": 1, \"126\": 1, \"71\": 3, \"129\": 2, \"42\": 1, \"128\": 1, \"10\": 1, \"12\": 1, \"108\": 1, \"90\": 1}, \"32\": {\"118\": 1, \"103\": 1, \"126\": 1, \"32\": 5, \"1\": 1, \"54\": 3, \"107\": 1, \"109\": 3, \"84\": 3, \"95\": 2, \"16\": 1, \"86\": 1, \"19\": 2, \"78\": 1, \"98\": 1, \"102\": 1, \"91\": 1, \"40\": 1, \"69\": 1, \"97\": 1, \"71\": 1, \"31\": 1, \"43\": 1, \"12\": 1}, \"42\": {\"83\": 3, \"58\": 1, \"42\": 4, \"46\": 2, \"109\": 1, \"84\": 2, \"94\": 1, \"23\": 1, \"34\": 1, \"124\": 1, \"56\": 2, \"51\": 1, \"38\": 1, \"25\": 1, \"18\": 1, \"75\": 1, \"88\": 1, \"44\": 1, \"28\": 1, \"27\": 1}, \"103\": {\"103\": 9, \"77\": 3, \"54\": 2, \"58\": 2}, \"87\": {\"87\": 34, \"21\": 3, \"18\": 5, \"33\": 10, \"90\": 7, \"57\": 1, \"44\": 4, \"70\": 2, \"93\": 6, \"16\": 8, \"99\": 1, \"109\": 1, \"26\": 1, \"39\": 4, \"88\": 1, \"117\": 1, \"102\": 1, \"125\": 1, \"100\": 2, \"46\": 2, \"71\": 2, \"72\": 1, \"84\": 5, \"32\": 1, \"118\": 1, \"83\": 2, \"120\": 2, \"113\": 3}, \"61\": {\"61\": 14, \"11\": 1, \"120\": 1, \"39\": 1, \"21\": 1, \"105\": 2}, \"13\": {\"13\": 8, \"31\": 1, \"64\": 1, \"121\": 1, \"19\": 2, \"129\": 1, \"47\": 1, \"38\": 1}, \"4\": {\"4\": 62, \"8\": 4, \"30\": 1, \"122\": 4, \"114\": 3, \"106\": 1, \"33\": 1, \"40\": 4, \"127\": 2, \"108\": 2, \"105\": 1, \"24\": 1}, \"15\": {\"15\": 57, \"98\": 2, \"25\": 1, \"20\": 1, \"51\": 3, \"54\": 2, \"106\": 16, \"12\": 1, \"86\": 1, \"24\": 3, \"27\": 2, \"8\": 1, \"9\": 2, \"94\": 2, \"125\": 5, \"93\": 3, \"36\": 9, \"124\": 1, \"7\": 1, \"111\": 2, \"112\": 1, \"6\": 1, \"101\": 1, \"30\": 2}, \"120\": {\"120\": 20}, \"80\": {\"80\": 13, \"13\": 1, \"70\": 1, \"31\": 1}, \"72\": {\"72\": 19, \"89\": 1, \"63\": 2, \"16\": 1, \"102\": 1, \"13\": 1, \"121\": 2, \"62\": 1}, \"64\": {\"64\": 14, \"86\": 1, \"121\": 1}, \"81\": {\"81\": 15, \"20\": 2, \"33\": 3, \"117\": 3, \"18\": 1}, \"102\": {\"102\": 93, \"1\": 2, \"14\": 1, \"32\": 1, \"109\": 2, \"16\": 3, \"8\": 1, \"62\": 2, \"126\": 1, \"69\": 2, \"39\": 1, \"84\": 1, \"33\": 2}, \"76\": {\"76\": 13, \"121\": 1, \"57\": 1, \"28\": 1}, \"49\": {\"52\": 1, \"98\": 2, \"41\": 1, \"23\": 1, \"49\": 9, \"9\": 1, \"58\": 1, \"126\": 1, \"0\": 1, \"75\": 1, \"73\": 1, \"83\": 1, \"125\": 1, \"53\": 1, \"107\": 1}, \"129\": {\"129\": 24, \"19\": 2, \"1\": 3, \"62\": 1, \"5\": 1, \"112\": 1}, \"89\": {\"76\": 2, \"89\": 12, \"8\": 2, \"28\": 1, \"121\": 1, \"103\": 1, \"118\": 1, \"126\": 2, \"26\": 1, \"22\": 2, \"41\": 1, \"37\": 1, \"66\": 2, \"124\": 1, \"82\": 1, \"67\": 2, \"116\": 1, \"24\": 1, \"32\": 1}, \"52\": {\"35\": 1, \"98\": 1, \"32\": 2, \"36\": 1, \"52\": 12, \"12\": 1, \"0\": 1, \"54\": 1}, \"35\": {\"98\": 2, \"35\": 8, \"122\": 1, \"19\": 1}, \"53\": {\"53\": 16}, \"26\": {\"26\": 95, \"102\": 9, \"18\": 3, \"69\": 9, \"16\": 2, \"117\": 2, \"36\": 1, \"44\": 1, \"90\": 1, \"10\": 1, \"88\": 1, \"33\": 1, \"1\": 1, \"87\": 1}, \"96\": {\"117\": 1, \"33\": 1, \"96\": 6, \"2\": 2, \"113\": 1, \"116\": 2, \"65\": 1, \"1\": 1, \"60\": 1, \"61\": 1, \"26\": 1, \"18\": 1, \"44\": 1}, \"27\": {\"24\": 4, \"91\": 1, \"27\": 29, \"82\": 1, \"125\": 1, \"42\": 1, \"106\": 5, \"7\": 2, \"101\": 1, \"98\": 3, \"15\": 1, \"44\": 1, \"30\": 3, \"18\": 2, \"9\": 2, \"113\": 1, \"36\": 5, \"68\": 1, \"6\": 1, \"51\": 1, \"109\": 1, \"83\": 1}, \"24\": {\"24\": 20, \"92\": 1, \"36\": 8, \"112\": 1, \"106\": 9, \"25\": 2, \"15\": 15, \"41\": 1, \"108\": 3, \"27\": 4, \"34\": 1, \"94\": 6, \"8\": 2, \"98\": 3, \"4\": 1, \"117\": 1, \"7\": 1, \"39\": 2, \"109\": 1, \"124\": 1, \"125\": 2, \"126\": 1, \"88\": 1, \"128\": 1, \"58\": 2, \"78\": 1, \"71\": 4, \"6\": 1, \"51\": 1, \"54\": 1, \"10\": 2, \"49\": 1, \"46\": 1, \"44\": 2, \"91\": 1, \"0\": 2, \"107\": 1, \"12\": 1, \"114\": 1, \"101\": 1, \"11\": 1}, \"82\": {\"82\": 31, \"90\": 1, \"118\": 1, \"46\": 1, \"21\": 1, \"18\": 1}, \"18\": {\"18\": 104, \"117\": 1, \"81\": 1, \"38\": 1, \"88\": 2, \"78\": 1, \"87\": 4, \"16\": 2, \"109\": 3, \"44\": 1, \"36\": 1, \"93\": 2, \"12\": 1, \"74\": 1, \"26\": 1, \"33\": 2}, \"69\": {\"26\": 8, \"69\": 95, \"57\": 2, \"2\": 1, \"125\": 1, \"16\": 2, \"39\": 1, \"102\": 3, \"93\": 1, \"121\": 1, \"5\": 1, \"44\": 1, \"24\": 1, \"118\": 1, \"62\": 2, \"111\": 1}, \"47\": {\"47\": 9, \"129\": 1, \"108\": 1, \"22\": 1}, \"85\": {\"74\": 3, \"8\": 2, \"85\": 17, \"12\": 1, \"52\": 1, \"50\": 2, \"68\": 1, \"40\": 1, \"32\": 2, \"92\": 1, \"111\": 1}, \"2\": {\"99\": 1, \"2\": 14, \"119\": 6, \"62\": 1, \"113\": 2, \"126\": 1, \"21\": 2, \"14\": 1, \"88\": 1, \"90\": 1, \"93\": 1, \"44\": 1}, \"67\": {\"67\": 13, \"105\": 2, \"44\": 1}, \"39\": {\"99\": 6, \"62\": 1, \"39\": 25, \"118\": 1, \"46\": 1, \"120\": 1, \"21\": 2, \"87\": 5, \"44\": 3, \"102\": 3, \"93\": 6, \"32\": 1, \"83\": 2, \"88\": 3, \"18\": 3, \"69\": 7, \"90\": 11, \"1\": 1, \"11\": 1, \"70\": 2, \"126\": 4, \"43\": 1, \"109\": 1, \"65\": 1, \"16\": 2, \"96\": 1, \"119\": 2, \"2\": 2, \"113\": 4, \"10\": 2, \"26\": 1, \"84\": 2, \"117\": 3, \"124\": 1}, \"99\": {\"99\": 29, \"90\": 1, \"65\": 2}, \"74\": {\"74\": 11, \"64\": 2, \"104\": 1, \"75\": 1, \"124\": 1}, \"105\": {\"74\": 1, \"55\": 2, \"105\": 55, \"107\": 4, \"78\": 3, \"5\": 2, \"60\": 1, \"122\": 8, \"118\": 1, \"0\": 1, \"8\": 6, \"62\": 8, \"127\": 2, \"71\": 1, \"11\": 1, \"40\": 8, \"70\": 1, \"4\": 10, \"43\": 4, \"125\": 1, \"109\": 1, \"88\": 1, \"128\": 2, \"95\": 1, \"63\": 1, \"73\": 2, \"114\": 2, \"87\": 1, \"39\": 1}, \"70\": {\"39\": 4, \"129\": 1, \"52\": 1, \"123\": 1, \"118\": 5, \"58\": 1, \"107\": 2, \"70\": 11, \"126\": 6, \"90\": 5, \"78\": 2, \"11\": 1, \"99\": 4, \"23\": 3, \"113\": 2, \"122\": 5, \"88\": 7, \"2\": 1, \"114\": 9, \"34\": 1, \"44\": 4, \"8\": 3, \"12\": 1, \"40\": 5, \"84\": 1, \"18\": 1, \"62\": 9, \"109\": 1, \"93\": 5, \"43\": 1, \"105\": 7, \"45\": 1, \"94\": 1, \"3\": 1, \"71\": 1, \"69\": 1, \"0\": 2, \"30\": 1, \"26\": 1, \"5\": 1, \"16\": 1, \"117\": 1}, \"55\": {\"55\": 16}, \"30\": {\"30\": 19, \"47\": 1, \"7\": 4, \"56\": 1, \"51\": 1, \"97\": 1, \"29\": 3, \"75\": 1, \"0\": 9, \"98\": 3, \"12\": 1, \"125\": 8, \"34\": 1, \"27\": 2, \"8\": 2, \"6\": 1, \"101\": 7, \"106\": 8, \"127\": 3, \"10\": 1, \"15\": 7, \"122\": 1, \"94\": 2, \"24\": 1, \"36\": 7, \"90\": 1, \"4\": 1, \"93\": 1, \"111\": 2, \"25\": 1, \"58\": 1, \"108\": 6, \"78\": 1, \"124\": 2, \"88\": 1}, \"60\": {\"115\": 2, \"60\": 8, \"88\": 1, \"119\": 1, \"116\": 1, \"126\": 1, \"90\": 2, \"57\": 1, \"23\": 2, \"113\": 1, \"123\": 2, \"42\": 1, \"46\": 1, \"1\": 1, \"3\": 1, \"109\": 1, \"72\": 1}, \"92\": {\"92\": 17, \"51\": 1, \"8\": 1, \"24\": 1, \"86\": 1, \"119\": 1, \"121\": 1, \"28\": 1, \"17\": 1, \"85\": 2, \"74\": 1}, \"45\": {\"127\": 1, \"73\": 1, \"45\": 7, \"118\": 1, \"82\": 1, \"43\": 1, \"67\": 1, \"48\": 2, \"88\": 1}, \"127\": {\"127\": 76, \"111\": 7, \"0\": 5, \"30\": 1, \"7\": 1, \"101\": 7, \"108\": 3, \"8\": 2, \"105\": 1, \"118\": 1, \"79\": 1, \"129\": 1, \"68\": 1, \"12\": 1, \"4\": 2, \"124\": 1, \"3\": 1}, \"9\": {\"9\": 30, \"15\": 1, \"27\": 1}, \"115\": {\"60\": 1, \"115\": 9, \"71\": 2}, \"73\": {\"73\": 18, \"19\": 3, \"70\": 1, \"110\": 1, \"48\": 1, \"5\": 1, \"14\": 1, \"105\": 1, \"8\": 1}, \"108\": {\"127\": 3, \"128\": 2, \"108\": 66, \"112\": 1, \"49\": 1, \"129\": 1, \"11\": 3, \"1\": 2, \"101\": 6, \"98\": 4, \"71\": 1, \"122\": 2, \"4\": 2, \"114\": 2, \"0\": 6, \"7\": 1, \"124\": 2, \"24\": 1, \"3\": 5, \"125\": 1, \"43\": 3, \"5\": 3, \"8\": 4, \"17\": 1, \"33\": 1, \"10\": 1, \"94\": 2, \"118\": 1, \"30\": 1, \"109\": 2, \"15\": 1, \"36\": 2, \"70\": 2, \"105\": 2}, \"114\": {\"114\": 80, \"41\": 1, \"49\": 2, \"4\": 5, \"122\": 6, \"71\": 2, \"15\": 1, \"10\": 1, \"12\": 1, \"8\": 2, \"101\": 2, \"107\": 1, \"108\": 1, \"40\": 4, \"73\": 1, \"44\": 1, \"105\": 2, \"106\": 1, \"7\": 1, \"43\": 1}, \"63\": {\"63\": 19, \"41\": 1}, \"93\": {\"120\": 1, \"93\": 87, \"90\": 11, \"21\": 1, \"87\": 3, \"109\": 2, \"88\": 1, \"113\": 9, \"44\": 6, \"99\": 3, \"18\": 1, \"117\": 1, \"39\": 2}, \"7\": {\"7\": 94, \"0\": 5, \"114\": 5, \"40\": 3, \"94\": 1, \"107\": 1, \"12\": 1, \"108\": 1, \"124\": 1, \"101\": 4, \"111\": 4, \"8\": 1, \"24\": 1, \"19\": 1, \"127\": 3, \"91\": 2, \"95\": 1, \"98\": 2, \"122\": 1}, \"31\": {\"31\": 14, \"121\": 1, \"57\": 1, \"124\": 1, \"78\": 1, \"111\": 1, \"2\": 1}, \"123\": {\"121\": 1, \"123\": 10, \"44\": 2, \"65\": 1, \"83\": 1, \"119\": 1}, \"128\": {\"19\": 1, \"129\": 1, \"111\": 2, \"128\": 6, \"51\": 1, \"108\": 1, \"70\": 1, \"23\": 1, \"94\": 2, \"42\": 1, \"73\": 1, \"107\": 1, \"29\": 2, \"32\": 1, \"122\": 1, \"43\": 1}, \"0\": {\"7\": 3, \"97\": 2, \"58\": 2, \"0\": 50, \"25\": 1, \"12\": 8, \"87\": 1, \"105\": 1, \"101\": 4, \"21\": 1, \"34\": 2, \"127\": 4, \"1\": 1, \"93\": 1, \"30\": 2, \"117\": 1, \"124\": 2, \"111\": 11, \"108\": 3, \"49\": 1, \"24\": 2, \"4\": 1, \"114\": 2, \"8\": 1, \"83\": 2, \"98\": 1, \"122\": 4, \"125\": 1, \"88\": 1}, \"3\": {\"3\": 111, \"46\": 1, \"129\": 1, \"90\": 1, \"87\": 1, \"43\": 1, \"71\": 3, \"1\": 5, \"122\": 1, \"18\": 1, \"126\": 1, \"7\": 1, \"5\": 2, \"116\": 1, \"111\": 1, \"23\": 1, \"11\": 1, \"39\": 1, \"33\": 1}, \"19\": {\"64\": 1, \"3\": 1, \"55\": 1, \"125\": 1, \"32\": 2, \"19\": 3, \"109\": 2, \"89\": 1, \"67\": 1, \"29\": 2, \"40\": 2, \"46\": 2, \"50\": 1, \"84\": 1, \"33\": 1, \"87\": 1, \"56\": 1, \"17\": 1, \"92\": 1, \"42\": 2}, \"57\": {\"57\": 16, \"21\": 1, \"121\": 2, \"88\": 1}, \"78\": {\"57\": 2, \"40\": 4, \"89\": 1, \"58\": 1, \"119\": 1, \"52\": 1, \"70\": 3, \"4\": 1, \"88\": 2, \"44\": 2, \"126\": 1, \"73\": 1, \"0\": 1, \"39\": 2, \"95\": 1, \"78\": 5, \"93\": 1, \"18\": 2, \"114\": 1, \"14\": 1, \"92\": 1, \"100\": 1, \"8\": 2, \"129\": 1, \"81\": 1, \"82\": 1, \"85\": 1, \"90\": 1, \"99\": 1, \"2\": 1, \"12\": 1, \"87\": 1, \"36\": 1}, \"95\": {\"95\": 31, \"0\": 1, \"26\": 1, \"86\": 2, \"124\": 1}, \"40\": {\"55\": 2, \"40\": 66, \"68\": 1, \"110\": 2, \"32\": 1, \"107\": 5, \"129\": 1, \"122\": 9, \"0\": 4, \"105\": 12, \"7\": 3, \"114\": 3, \"62\": 3, \"127\": 6, \"8\": 4, \"30\": 1, \"90\": 3, \"111\": 2, \"4\": 3, \"85\": 1, \"10\": 2, \"44\": 1, \"108\": 1, \"36\": 1, \"87\": 1, \"70\": 1, \"125\": 1}, \"14\": {\"64\": 1, \"128\": 1, \"14\": 21, \"40\": 1, \"65\": 1, \"118\": 2, \"5\": 1, \"69\": 1, \"62\": 2, \"124\": 1, \"18\": 1, \"55\": 1, \"48\": 2, \"107\": 3, \"122\": 1, \"50\": 1, \"78\": 1, \"31\": 1, \"71\": 1, \"67\": 1, \"110\": 2, \"44\": 1}, \"36\": {\"59\": 1, \"36\": 56, \"25\": 2, \"106\": 7, \"34\": 1, \"58\": 1, \"86\": 1, \"6\": 3, \"24\": 5, \"9\": 1, \"7\": 3, \"94\": 3, \"125\": 9, \"101\": 6, \"15\": 6, \"30\": 5, \"124\": 3, \"8\": 2, \"75\": 2, \"27\": 6, \"82\": 1, \"108\": 1, \"98\": 3}, \"56\": {\"56\": 7, \"54\": 1, \"95\": 1, \"30\": 1, \"7\": 1, \"27\": 1}, \"111\": {\"111\": 88, \"12\": 4, \"85\": 1, \"0\": 2, \"124\": 1, \"127\": 3, \"101\": 13, \"90\": 1, \"7\": 6, \"71\": 1, \"97\": 1, \"30\": 2, \"4\": 1, \"95\": 1, \"98\": 3}, \"59\": {\"95\": 1, \"56\": 1, \"25\": 2, \"29\": 1, \"126\": 1, \"111\": 1, \"59\": 3, \"15\": 1, \"86\": 1, \"106\": 1, \"75\": 1, \"78\": 1, \"24\": 1}, \"79\": {\"79\": 14, \"27\": 1, \"77\": 1}, \"62\": {\"62\": 78, \"105\": 3, \"129\": 1, \"31\": 1, \"88\": 3, \"43\": 3, \"84\": 2, \"40\": 1, \"69\": 16, \"122\": 2, \"39\": 1, \"1\": 2, \"71\": 2, \"102\": 2, \"14\": 1, \"90\": 1, \"114\": 1, \"70\": 1, \"26\": 1}, \"21\": {\"21\": 38, \"119\": 1, \"90\": 2, \"14\": 1, \"2\": 1, \"88\": 1, \"113\": 4}, \"48\": {\"48\": 12, \"62\": 2, \"45\": 3, \"118\": 1, \"31\": 2}, \"16\": {\"72\": 1, \"16\": 51, \"88\": 6, \"57\": 1, \"85\": 1, \"70\": 4, \"126\": 2, \"44\": 2, \"18\": 7, \"83\": 1, \"109\": 4, \"90\": 1, \"84\": 3, \"87\": 4, \"69\": 3, \"43\": 2, \"117\": 5, \"26\": 3, \"102\": 8, \"33\": 4, \"118\": 3, \"81\": 2, \"39\": 3, \"111\": 1, \"1\": 1, \"93\": 1}, \"50\": {\"50\": 14, \"42\": 1, \"85\": 1}, \"44\": {\"20\": 1, \"44\": 75, \"119\": 2, \"93\": 5, \"113\": 3, \"90\": 7, \"26\": 1, \"99\": 1, \"70\": 1}, \"5\": {\"5\": 81, \"128\": 1, \"43\": 3, \"78\": 1, \"70\": 1, \"71\": 4, \"122\": 2, \"114\": 5, \"105\": 5, \"10\": 2, \"107\": 1, \"73\": 1, \"0\": 2, \"12\": 1}, \"20\": {\"20\": 13, \"23\": 2, \"106\": 1}, \"1\": {\"116\": 2, \"129\": 1, \"19\": 1, \"1\": 75, \"62\": 2, \"3\": 1, \"33\": 4, \"2\": 1, \"126\": 1, \"102\": 8, \"109\": 1, \"43\": 9, \"70\": 2, \"5\": 2, \"71\": 2, \"84\": 3, \"10\": 2, \"105\": 2, \"106\": 1}, \"65\": {\"65\": 14, \"20\": 1, \"38\": 2, \"109\": 1, \"88\": 1, \"120\": 1}, \"116\": {\"60\": 2, \"81\": 1, \"87\": 1, \"116\": 15, \"46\": 1, \"126\": 1, \"96\": 1, \"73\": 1, \"53\": 1, \"72\": 1, \"39\": 1, \"26\": 1, \"84\": 1}, \"51\": {\"51\": 16, \"54\": 1, \"125\": 1, \"0\": 1, \"20\": 1}, \"75\": {\"125\": 2, \"75\": 12, \"24\": 1, \"29\": 1}, \"100\": {\"100\": 13, \"19\": 1, \"39\": 1, \"33\": 1}, \"113\": {\"113\": 53, \"109\": 1, \"21\": 5, \"119\": 1, \"99\": 3, \"90\": 6, \"93\": 2, \"44\": 1}, \"41\": {\"29\": 2, \"41\": 12, \"12\": 1, \"15\": 1, \"35\": 1, \"24\": 1, \"47\": 1, \"52\": 1}, \"29\": {\"29\": 24, \"108\": 2, \"34\": 1, \"24\": 1, \"42\": 1, \"15\": 1, \"101\": 2}, \"23\": {\"29\": 1, \"48\": 1, \"23\": 10, \"90\": 1, \"44\": 3, \"34\": 1, \"88\": 2, \"32\": 1, \"107\": 1, \"24\": 1, \"105\": 1, \"101\": 1, \"39\": 1, \"114\": 3, \"113\": 1, \"18\": 2, \"119\": 2, \"99\": 2, \"108\": 2, \"5\": 1, \"8\": 2, \"127\": 1, \"120\": 1, \"0\": 1, \"87\": 1}, \"124\": {\"124\": 78, \"95\": 3, \"42\": 1, \"105\": 1, \"94\": 1, \"12\": 4, \"0\": 3, \"1\": 1, \"8\": 4, \"30\": 7, \"7\": 3, \"118\": 1, \"24\": 3, \"98\": 3, \"101\": 3, \"85\": 1, \"74\": 2, \"34\": 1, \"82\": 1, \"15\": 1, \"70\": 1, \"40\": 1}, \"68\": {\"68\": 11, \"58\": 1, \"127\": 1, \"52\": 1, \"107\": 2}, \"71\": {\"71\": 69, \"88\": 1, \"60\": 1, \"5\": 8, \"1\": 3, \"0\": 3, \"11\": 3, \"125\": 1, \"3\": 6, \"122\": 1, \"49\": 1, \"102\": 1, \"33\": 1, \"111\": 1}, \"107\": {\"107\": 33, \"105\": 9, \"68\": 2, \"114\": 2, \"82\": 1, \"110\": 1, \"38\": 1, \"40\": 3, \"14\": 1, \"90\": 1, \"122\": 1, \"125\": 1, \"17\": 1, \"69\": 1, \"64\": 1, \"4\": 1, \"93\": 1, \"34\": 1, \"5\": 1, \"32\": 1}, \"94\": {\"108\": 1, \"29\": 1, \"54\": 1, \"15\": 2, \"125\": 5, \"58\": 3, \"37\": 1, \"94\": 16, \"30\": 5, \"24\": 4, \"4\": 1, \"36\": 5, \"98\": 6, \"6\": 1, \"127\": 1, \"48\": 1, \"66\": 1, \"12\": 3, \"93\": 1, \"7\": 1, \"87\": 1, \"111\": 1, \"106\": 2}, \"77\": {\"77\": 10, \"25\": 1, \"66\": 2, \"17\": 1, \"51\": 1, \"98\": 1}, \"8\": {\"8\": 51, \"71\": 1, \"52\": 2, \"85\": 2, \"107\": 3, \"78\": 2, \"4\": 6, \"0\": 5, \"108\": 5, \"122\": 11, \"111\": 1, \"105\": 6, \"10\": 1, \"43\": 2, \"7\": 2, \"40\": 2, \"127\": 1, \"114\": 3, \"59\": 1, \"73\": 1, \"125\": 1, \"70\": 2, \"24\": 1, \"62\": 1, \"12\": 3, \"30\": 1, \"124\": 1, \"126\": 1, \"5\": 1, \"101\": 1, \"98\": 1}, \"46\": {\"46\": 11, \"100\": 1, \"33\": 1, \"123\": 1, \"87\": 1, \"10\": 1}, \"25\": {\"25\": 14, \"113\": 1, \"99\": 1}, \"122\": {\"115\": 1, \"122\": 54, \"96\": 1, \"129\": 1, \"19\": 2, \"11\": 3, \"10\": 1, \"40\": 6, \"105\": 9, \"107\": 2, \"3\": 4, \"0\": 2, \"71\": 4, \"114\": 7, \"1\": 2, \"126\": 1, \"43\": 4, \"24\": 1, \"102\": 1, \"5\": 10, \"124\": 1, \"4\": 7, \"101\": 1, \"127\": 2, \"33\": 1, \"26\": 1, \"23\": 1, \"118\": 1, \"95\": 1, \"88\": 3, \"8\": 3, \"70\": 1, \"98\": 1}, \"58\": {\"58\": 12, \"66\": 2, \"36\": 1, \"125\": 1, \"65\": 1, \"77\": 1, \"90\": 1, \"113\": 1}, \"6\": {\"51\": 3, \"59\": 1, \"15\": 1, \"6\": 19, \"106\": 2, \"9\": 1, \"104\": 1, \"25\": 2, \"125\": 1, \"27\": 1}, \"109\": {\"16\": 6, \"109\": 16, \"117\": 3, \"38\": 1, \"110\": 1, \"87\": 5, \"84\": 4, \"90\": 2, \"42\": 1, \"33\": 5, \"26\": 4, \"93\": 7, \"69\": 1, \"88\": 9, \"44\": 6, \"102\": 6, \"39\": 6, \"126\": 1, \"8\": 1, \"113\": 5, \"63\": 2, \"119\": 1, \"99\": 1, \"83\": 1, \"70\": 3, \"18\": 2}, \"119\": {\"119\": 14, \"90\": 3, \"21\": 2, \"106\": 1}, \"34\": {\"30\": 1, \"97\": 1, \"29\": 1, \"98\": 1, \"0\": 1, \"34\": 7, \"44\": 1, \"107\": 2, \"101\": 3, \"122\": 1, \"7\": 2, \"110\": 1, \"94\": 1, \"22\": 1, \"99\": 1, \"13\": 1, \"75\": 1, \"24\": 2, \"106\": 1, \"40\": 1, \"124\": 1}, \"90\": {\"90\": 127, \"113\": 1, \"93\": 5, \"18\": 2, \"44\": 1, \"26\": 1, \"21\": 1, \"87\": 2}, \"38\": {\"38\": 12, \"120\": 2, \"21\": 2}, \"104\": {\"108\": 1, \"104\": 15, \"86\": 2, \"90\": 1, \"29\": 1}, \"84\": {\"84\": 62, \"9\": 1, \"126\": 1, \"33\": 5, \"102\": 7, \"1\": 9, \"109\": 1, \"70\": 1, \"16\": 1, \"90\": 1, \"19\": 1, \"87\": 2}, \"112\": {\"112\": 5, \"3\": 3, \"30\": 1, \"126\": 2, \"19\": 1, \"47\": 1, \"60\": 1, \"73\": 1, \"127\": 1}, \"66\": {\"66\": 13, \"49\": 2, \"120\": 2, \"52\": 1, \"32\": 1, \"15\": 1}, \"22\": {\"22\": 16, \"91\": 1, \"126\": 1, \"53\": 1, \"116\": 1}, \"37\": {\"37\": 14, \"86\": 1, \"89\": 1}, \"43\": {\"84\": 3, \"62\": 6, \"70\": 4, \"43\": 28, \"18\": 3, \"73\": 1, \"3\": 1, \"109\": 5, \"105\": 5, \"88\": 11, \"83\": 2, \"1\": 2, \"107\": 2, \"90\": 4, \"5\": 16, \"26\": 1, \"126\": 2, \"71\": 3, \"122\": 4, \"39\": 2, \"113\": 2, \"16\": 1, \"87\": 4, \"44\": 2, \"93\": 1, \"92\": 1, \"21\": 1, \"86\": 1, \"78\": 1, \"40\": 1, \"124\": 2, \"33\": 1, \"106\": 1}}}, \"per_domain_accuracy\": {\"O_14\": {\"accuracy\": 0.9473958333333333, \"source?\": true}, \"O_20\": {\"accuracy\": 0.8921875, \"source?\": true}, \"O_38\": {\"accuracy\": 0.9244791666666666, \"source?\": true}, \"O_8\": {\"accuracy\": 0.9135416666666667, \"source?\": true}, \"O_50\": {\"accuracy\": 0.9078125, \"source?\": true}, \"O_32\": {\"accuracy\": 0.89921875, \"source?\": true}, \"O_26\": {\"accuracy\": 0.7901041666666667, \"source?\": true}, \"O_44\": {\"accuracy\": 0.7924479166666667, \"source?\": true}, \"C_3\": {\"accuracy\": 0.6971293604651163, \"source?\": false}, \"C_4\": {\"accuracy\": 0.7153409090909091, \"source?\": false}, \"W_3\": {\"accuracy\": 0.561266447368421, \"source?\": false}, \"C_5\": {\"accuracy\": 0.7266061452513967, \"source?\": false}, \"C_1\": {\"accuracy\": 0.7788592896174863, \"source?\": false}, \"W_4\": {\"accuracy\": 0.5199331275720165, \"source?\": false}, \"W_1\": {\"accuracy\": 0.581781914893617, \"source?\": false}, \"C_2\": {\"accuracy\": 0.7125706214689266, \"source?\": false}, \"W_2\": {\"accuracy\": 0.5668329831932774, \"source?\": false}}}, \"history\": {\"epoch_indices\": [1, 2, 3, 4, 5, 6, 7, 8, 9, 10, 11, 12, 13, 14, 15, 16], \"train_label_loss\": [0.9936983410490765, 1.0166603419131466, 0.6351382632407226, 0.5428816797172961, 0.4881704838999126, 0.4391609875962049, 0.40662518022692806, 0.3738294233373987, 0.3311049036279742, 0.2967150132668654, 0.27445576929700716, 0.25263444000960417, 0.2401613124461922, 0.22306652945754607, 0.2102906127157829, 0.19625542776740898], \"source_val_label_loss\": [48.34084701538086, 0.6938281059265137, 0.7011752128601074, 0.6221134066581726, 0.46919044852256775, 0.4490377604961395, 0.48067617416381836, 0.3782889246940613, 0.3876877725124359, 0.34882721304893494, 0.35106706619262695, 0.32825809717178345, 0.3456083834171295, 0.3264297842979431, 0.33844536542892456, 0.34440457820892334], \"target_val_label_loss\": [1975.7239990234375, 253.64654541015625, 263.2172546386719, 288.4952697753906, 280.0176696777344, 308.3651123046875, 287.02203369140625, 331.90594482421875, 387.0669250488281, 434.0318908691406, 476.604736328125, 612.4818115234375, 691.2539672851562, 675.99560546875, 710.2267456054688, 767.7166137695312], \"source_val_acc_label\": [0.5545247395833334, 0.748828125, 0.74052734375, 0.7685546875, 0.8305989583333333, 0.8358723958333333, 0.8223958333333333, 0.86103515625, 0.8609049479166667, 0.8732421875, 0.8728515625, 0.8833984375, 0.8767578125, 0.885546875, 0.8808268229166667, 0.8781901041666667], \"target_val_acc_label\": [0.4705013736263736, 0.5163804945054945, 0.5367101648351649, 0.5398523351648352, 0.5865041208791208, 0.572029532967033, 0.6200034340659341, 0.6165865384615384, 0.618646978021978, 0.6208276098901099, 0.6094436813186813, 0.6387877747252747, 0.6313701923076923, 0.6315418956043956, 0.6274553571428572, 0.6258928571428571]}, \"dataset_metrics\": {\"source\": {\"train\": {\"n_unique_x\": 179200, \"n_unique_y\": 16, \"n_batch/episode\": 6720}, \"val\": {\"n_unique_x\": 38400, \"n_unique_y\": 16, \"n_batch/episode\": 960}, \"test\": {\"n_unique_x\": 38400, \"n_unique_y\": 16, \"n_batch/episode\": 960}}, \"target\": {\"train\": {\"n_unique_x\": 364179, \"n_unique_y\": 130, \"n_batch/episode\": 13159}, \"val\": {\"n_unique_x\": 77264, \"n_unique_y\": 130, \"n_batch/episode\": 1820}, \"test\": {\"n_unique_x\": 78450, \"n_unique_y\": 130, \"n_batch/episode\": 1860}}}}'"
      ]
     },
     "execution_count": 29,
     "metadata": {},
     "output_type": "execute_result"
    }
   ],
   "source": [
    "json.dumps(experiment)"
   ]
  }
 ],
 "metadata": {
  "celltoolbar": "Tags",
  "kernelspec": {
   "display_name": "Python 3 (ipykernel)",
   "language": "python",
   "name": "python3"
  },
  "language_info": {
   "codemirror_mode": {
    "name": "ipython",
    "version": 3
   },
   "file_extension": ".py",
   "mimetype": "text/x-python",
   "name": "python",
   "nbconvert_exporter": "python",
   "pygments_lexer": "ipython3",
   "version": "3.8.10"
  },
  "papermill": {
   "default_parameters": {},
   "duration": 2881.00256,
   "end_time": "2022-03-20T22:14:52.210956",
   "environment_variables": {},
   "exception": null,
   "input_path": "/mnt/wd500GB/CSC500/csc500-main/csc500-notebooks/templates/tl_ptn_template.ipynb",
   "output_path": "trial.ipynb",
   "parameters": {
    "parameters": {
     "BEST_MODEL_PATH": "./best_model.pth",
     "NUM_LOGS_PER_EPOCH": 10,
     "criteria_for_best": "target_accuracy",
     "dataset_seed": 1337,
     "datasets": [
      {
       "domain_prefix": "C_",
       "domains": [
        1,
        2,
        3,
        4,
        5
       ],
       "episode_transforms": [],
       "labels": [
        "1-10.",
        "1-11.",
        "1-15.",
        "1-16.",
        "1-17.",
        "1-18.",
        "1-19.",
        "10-4.",
        "10-7.",
        "11-1.",
        "11-14.",
        "11-17.",
        "11-20.",
        "11-7.",
        "13-20.",
        "13-8.",
        "14-10.",
        "14-11.",
        "14-14.",
        "14-7.",
        "15-1.",
        "15-20.",
        "16-1.",
        "16-16.",
        "17-10.",
        "17-11.",
        "17-2.",
        "19-1.",
        "19-16.",
        "19-19.",
        "19-20.",
        "19-3.",
        "2-10.",
        "2-11.",
        "2-17.",
        "2-18.",
        "2-20.",
        "2-3.",
        "2-4.",
        "2-5.",
        "2-6.",
        "2-7.",
        "2-8.",
        "3-13.",
        "3-18.",
        "3-3.",
        "4-1.",
        "4-10.",
        "4-11.",
        "4-19.",
        "5-5.",
        "6-15.",
        "7-10.",
        "7-14.",
        "8-18.",
        "8-20.",
        "8-3.",
        "8-8."
       ],
       "num_examples_per_domain_per_label": -1,
       "pickle_path": "/mnt/wd500GB/CSC500/csc500-main/datasets/cores.stratified_ds.2022A.pkl",
       "source_or_target_dataset": "target",
       "x_transforms": [
        "unit_mag",
        "take_200"
       ]
      },
      {
       "domain_prefix": "W_",
       "domains": [
        1,
        2,
        3,
        4
       ],
       "episode_transforms": [],
       "labels": [
        "1-10",
        "1-12",
        "1-14",
        "1-16",
        "1-18",
        "1-19",
        "1-8",
        "10-11",
        "10-17",
        "10-4",
        "10-7",
        "11-1",
        "11-10",
        "11-19",
        "11-20",
        "11-4",
        "11-7",
        "12-19",
        "12-20",
        "12-7",
        "13-14",
        "13-18",
        "13-19",
        "13-20",
        "13-3",
        "13-7",
        "14-10",
        "14-11",
        "14-12",
        "14-13",
        "14-14",
        "14-19",
        "14-20",
        "14-7",
        "14-8",
        "14-9",
        "15-1",
        "15-19",
        "15-6",
        "16-1",
        "16-16",
        "16-19",
        "16-20",
        "17-10",
        "17-11",
        "18-1",
        "18-10",
        "18-11",
        "18-12",
        "18-13",
        "18-14",
        "18-15",
        "18-16",
        "18-17",
        "18-19",
        "18-2",
        "18-20",
        "18-4",
        "18-5",
        "18-7",
        "18-8",
        "18-9",
        "19-1",
        "19-10",
        "19-11",
        "19-12",
        "19-13",
        "19-14",
        "19-15",
        "19-19",
        "19-2",
        "19-20",
        "19-3",
        "19-4",
        "19-6",
        "19-7",
        "19-8",
        "19-9",
        "2-1",
        "2-13",
        "2-15",
        "2-3",
        "2-4",
        "2-5",
        "2-6",
        "2-7",
        "2-8",
        "20-1",
        "20-12",
        "20-14",
        "20-15",
        "20-16",
        "20-18",
        "20-19",
        "20-20",
        "20-3",
        "20-4",
        "20-5",
        "20-7",
        "20-8",
        "3-1",
        "3-13",
        "3-18",
        "3-2",
        "3-8",
        "4-1",
        "4-10",
        "4-11",
        "5-1",
        "5-5",
        "6-1",
        "6-15",
        "6-6",
        "7-10",
        "7-11",
        "7-12",
        "7-13",
        "7-14",
        "7-7",
        "7-8",
        "7-9",
        "8-1",
        "8-13",
        "8-14",
        "8-18",
        "8-20",
        "8-3",
        "8-8",
        "9-1",
        "9-7"
       ],
       "num_examples_per_domain_per_label": -1,
       "pickle_path": "/mnt/wd500GB/CSC500/csc500-main/datasets/wisig.node3-19.stratified_ds.2022A.pkl",
       "source_or_target_dataset": "target",
       "x_transforms": [
        "unit_mag",
        "take_200"
       ]
      },
      {
       "domain_prefix": "O_",
       "domains": [
        32,
        38,
        8,
        44,
        14,
        50,
        20,
        26
       ],
       "episode_transforms": [],
       "labels": [
        "3123D52",
        "3123D65",
        "3123D79",
        "3123D80",
        "3123D54",
        "3123D70",
        "3123D7B",
        "3123D89",
        "3123D58",
        "3123D76",
        "3123D7D",
        "3123EFE",
        "3123D64",
        "3123D78",
        "3123D7E",
        "3124E4A"
       ],
       "num_examples_per_domain_per_label": 2000,
       "pickle_path": "/mnt/wd500GB/CSC500/csc500-main/datasets/oracle.Run1_framed_2000Examples_stratified_ds.2022A.pkl",
       "source_or_target_dataset": "source",
       "x_transforms": [
        "unit_mag",
        "take_200",
        "resample_20Msps_to_25Msps"
       ]
      }
     ],
     "device": "cuda",
     "experiment_name": "tl_3Av2:oracle.run1.framed -> cores+wisig",
     "lr": 0.0001,
     "n_epoch": 50,
     "n_query": 2,
     "n_shot": 3,
     "n_way": 16,
     "patience": 3,
     "seed": 1337,
     "test_k_factor": 2,
     "torch_default_dtype": "torch.float32",
     "train_k_factor": 3,
     "val_k_factor": 2,
     "x_net": [
      {
       "class": "nnReshape",
       "kargs": {
        "shape": [
         -1,
         1,
         2,
         200
        ]
       }
      },
      {
       "class": "Conv2d",
       "kargs": {
        "bias": false,
        "in_channels": 1,
        "kernel_size": [
         1,
         7
        ],
        "out_channels": 256,
        "padding": [
         0,
         3
        ]
       }
      },
      {
       "class": "ReLU",
       "kargs": {
        "inplace": true
       }
      },
      {
       "class": "BatchNorm2d",
       "kargs": {
        "num_features": 256
       }
      },
      {
       "class": "Conv2d",
       "kargs": {
        "bias": true,
        "in_channels": 256,
        "kernel_size": [
         2,
         7
        ],
        "out_channels": 80,
        "padding": [
         0,
         3
        ]
       }
      },
      {
       "class": "ReLU",
       "kargs": {
        "inplace": true
       }
      },
      {
       "class": "BatchNorm2d",
       "kargs": {
        "num_features": 80
       }
      },
      {
       "class": "Flatten",
       "kargs": {}
      },
      {
       "class": "Linear",
       "kargs": {
        "in_features": 16000,
        "out_features": 256
       }
      },
      {
       "class": "ReLU",
       "kargs": {
        "inplace": true
       }
      },
      {
       "class": "BatchNorm1d",
       "kargs": {
        "num_features": 256
       }
      },
      {
       "class": "Linear",
       "kargs": {
        "in_features": 256,
        "out_features": 256
       }
      }
     ],
     "x_shape": [
      2,
      200
     ]
    }
   },
   "start_time": "2022-03-20T21:26:51.208396",
   "version": "2.3.4"
  }
 },
 "nbformat": 4,
 "nbformat_minor": 5
}