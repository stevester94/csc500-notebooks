{
 "cells": [
  {
   "cell_type": "markdown",
   "id": "9fea5f46",
   "metadata": {
    "papermill": {
     "duration": 0.017188,
     "end_time": "2022-03-21T03:04:08.268427",
     "exception": false,
     "start_time": "2022-03-21T03:04:08.251239",
     "status": "completed"
    },
    "tags": []
   },
   "source": [
    "# Transfer Learning Template"
   ]
  },
  {
   "cell_type": "code",
   "execution_count": 1,
   "id": "0902182a",
   "metadata": {
    "execution": {
     "iopub.execute_input": "2022-03-21T03:04:08.308659Z",
     "iopub.status.busy": "2022-03-21T03:04:08.308268Z",
     "iopub.status.idle": "2022-03-21T03:04:09.218283Z",
     "shell.execute_reply": "2022-03-21T03:04:09.218722Z"
    },
    "papermill": {
     "duration": 0.937698,
     "end_time": "2022-03-21T03:04:09.218916",
     "exception": false,
     "start_time": "2022-03-21T03:04:08.281218",
     "status": "completed"
    },
    "tags": []
   },
   "outputs": [],
   "source": [
    "%load_ext autoreload\n",
    "%autoreload 2\n",
    "%matplotlib inline\n",
    "\n",
    "    \n",
    "import os, json, sys, time, random\n",
    "import numpy as np\n",
    "import torch\n",
    "from torch.optim import Adam\n",
    "from  easydict import EasyDict\n",
    "import matplotlib.pyplot as plt\n",
    "\n",
    "from steves_models.steves_ptn import Steves_Prototypical_Network\n",
    "\n",
    "from steves_utils.lazy_iterable_wrapper import Lazy_Iterable_Wrapper\n",
    "from steves_utils.iterable_aggregator import Iterable_Aggregator\n",
    "from steves_utils.ptn_train_eval_test_jig import  PTN_Train_Eval_Test_Jig\n",
    "from steves_utils.torch_sequential_builder import build_sequential\n",
    "from steves_utils.torch_utils import get_dataset_metrics, ptn_confusion_by_domain_over_dataloader\n",
    "from steves_utils.utils_v2 import (per_domain_accuracy_from_confusion, get_datasets_base_path)\n",
    "from steves_utils.PTN.utils import independent_accuracy_assesment\n",
    "\n",
    "from torch.utils.data import DataLoader\n",
    "\n",
    "from steves_utils.stratified_dataset.episodic_accessor import Episodic_Accessor_Factory\n",
    "\n",
    "from steves_utils.ptn_do_report import (\n",
    "    get_loss_curve,\n",
    "    get_results_table,\n",
    "    get_parameters_table,\n",
    "    get_domain_accuracies,\n",
    ")\n",
    "\n",
    "from steves_utils.transforms import get_chained_transform"
   ]
  },
  {
   "cell_type": "markdown",
   "id": "41c840b4",
   "metadata": {
    "papermill": {
     "duration": 0.012632,
     "end_time": "2022-03-21T03:04:09.247037",
     "exception": false,
     "start_time": "2022-03-21T03:04:09.234405",
     "status": "completed"
    },
    "tags": []
   },
   "source": [
    "# Allowed Parameters\n",
    "These are allowed parameters, not defaults\n",
    "Each of these values need to be present in the injected parameters (the notebook will raise an exception if they are not present)\n",
    "\n",
    "Papermill uses the cell tag \"parameters\" to inject the real parameters below this cell.\n",
    "Enable tags to see what I mean"
   ]
  },
  {
   "cell_type": "code",
   "execution_count": 2,
   "id": "fd44eb83",
   "metadata": {
    "execution": {
     "iopub.execute_input": "2022-03-21T03:04:09.275415Z",
     "iopub.status.busy": "2022-03-21T03:04:09.275124Z",
     "iopub.status.idle": "2022-03-21T03:04:09.290098Z",
     "shell.execute_reply": "2022-03-21T03:04:09.289704Z"
    },
    "papermill": {
     "duration": 0.03034,
     "end_time": "2022-03-21T03:04:09.290193",
     "exception": false,
     "start_time": "2022-03-21T03:04:09.259853",
     "status": "completed"
    },
    "tags": []
   },
   "outputs": [],
   "source": [
    "required_parameters = {\n",
    "    \"experiment_name\",\n",
    "    \"lr\",\n",
    "    \"device\",\n",
    "    \"seed\",\n",
    "    \"dataset_seed\",\n",
    "    \"n_shot\",\n",
    "    \"n_query\",\n",
    "    \"n_way\",\n",
    "    \"train_k_factor\",\n",
    "    \"val_k_factor\",\n",
    "    \"test_k_factor\",\n",
    "    \"n_epoch\",\n",
    "    \"patience\",\n",
    "    \"criteria_for_best\",\n",
    "    \"x_net\",\n",
    "    \"datasets\",\n",
    "    \"torch_default_dtype\",\n",
    "    \"NUM_LOGS_PER_EPOCH\",\n",
    "    \"BEST_MODEL_PATH\",\n",
    "    \"x_shape\",\n",
    "}"
   ]
  },
  {
   "cell_type": "code",
   "execution_count": 3,
   "id": "fa3f0049",
   "metadata": {
    "execution": {
     "iopub.execute_input": "2022-03-21T03:04:09.329208Z",
     "iopub.status.busy": "2022-03-21T03:04:09.328932Z",
     "iopub.status.idle": "2022-03-21T03:04:09.342537Z",
     "shell.execute_reply": "2022-03-21T03:04:09.342088Z"
    },
    "papermill": {
     "duration": 0.035246,
     "end_time": "2022-03-21T03:04:09.342626",
     "exception": false,
     "start_time": "2022-03-21T03:04:09.307380",
     "status": "completed"
    },
    "tags": [
     "parameters"
    ]
   },
   "outputs": [],
   "source": [
    "from steves_utils.CORES.utils import (\n",
    "    ALL_NODES,\n",
    "    ALL_NODES_MINIMUM_1000_EXAMPLES,\n",
    "    ALL_DAYS\n",
    ")\n",
    "\n",
    "from steves_utils.ORACLE.utils_v2 import (\n",
    "    ALL_DISTANCES_FEET_NARROWED,\n",
    "    ALL_RUNS,\n",
    "    ALL_SERIAL_NUMBERS,\n",
    ")\n",
    "\n",
    "standalone_parameters = {}\n",
    "standalone_parameters[\"experiment_name\"] = \"STANDALONE PTN\"\n",
    "standalone_parameters[\"lr\"] = 0.001\n",
    "standalone_parameters[\"device\"] = \"cuda\"\n",
    "\n",
    "standalone_parameters[\"seed\"] = 1337\n",
    "standalone_parameters[\"dataset_seed\"] = 1337\n",
    "\n",
    "standalone_parameters[\"n_way\"] = 8\n",
    "standalone_parameters[\"n_shot\"] = 3\n",
    "standalone_parameters[\"n_query\"]  = 2\n",
    "standalone_parameters[\"train_k_factor\"] = 1\n",
    "standalone_parameters[\"val_k_factor\"] = 2\n",
    "standalone_parameters[\"test_k_factor\"] = 2\n",
    "\n",
    "\n",
    "standalone_parameters[\"n_epoch\"] = 50\n",
    "\n",
    "standalone_parameters[\"patience\"] = 10\n",
    "standalone_parameters[\"criteria_for_best\"] = \"source_loss\"\n",
    "\n",
    "standalone_parameters[\"datasets\"] = [\n",
    "    {\n",
    "        \"labels\": ALL_SERIAL_NUMBERS,\n",
    "        \"domains\": ALL_DISTANCES_FEET_NARROWED,\n",
    "        \"num_examples_per_domain_per_label\": 100,\n",
    "        \"pickle_path\": os.path.join(get_datasets_base_path(), \"oracle.Run1_framed_2000Examples_stratified_ds.2022A.pkl\"),\n",
    "        \"source_or_target_dataset\": \"source\",\n",
    "        \"x_transforms\": [\"unit_mag\", \"minus_two\"],\n",
    "        \"episode_transforms\": [],\n",
    "        \"domain_prefix\": \"ORACLE_\"\n",
    "    },\n",
    "    {\n",
    "        \"labels\": ALL_NODES,\n",
    "        \"domains\": ALL_DAYS,\n",
    "        \"num_examples_per_domain_per_label\": 100,\n",
    "        \"pickle_path\": os.path.join(get_datasets_base_path(), \"cores.stratified_ds.2022A.pkl\"),\n",
    "        \"source_or_target_dataset\": \"target\",\n",
    "        \"x_transforms\": [\"unit_power\", \"times_zero\"],\n",
    "        \"episode_transforms\": [],\n",
    "        \"domain_prefix\": \"CORES_\"\n",
    "    }   \n",
    "]\n",
    "\n",
    "standalone_parameters[\"torch_default_dtype\"] = \"torch.float32\" \n",
    "\n",
    "\n",
    "\n",
    "standalone_parameters[\"x_net\"] =     [\n",
    "    {\"class\": \"nnReshape\", \"kargs\": {\"shape\":[-1, 1, 2, 256]}},\n",
    "    {\"class\": \"Conv2d\", \"kargs\": { \"in_channels\":1, \"out_channels\":256, \"kernel_size\":(1,7), \"bias\":False, \"padding\":(0,3), },},\n",
    "    {\"class\": \"ReLU\", \"kargs\": {\"inplace\": True}},\n",
    "    {\"class\": \"BatchNorm2d\", \"kargs\": {\"num_features\":256}},\n",
    "\n",
    "    {\"class\": \"Conv2d\", \"kargs\": { \"in_channels\":256, \"out_channels\":80, \"kernel_size\":(2,7), \"bias\":True, \"padding\":(0,3), },},\n",
    "    {\"class\": \"ReLU\", \"kargs\": {\"inplace\": True}},\n",
    "    {\"class\": \"BatchNorm2d\", \"kargs\": {\"num_features\":80}},\n",
    "    {\"class\": \"Flatten\", \"kargs\": {}},\n",
    "\n",
    "    {\"class\": \"Linear\", \"kargs\": {\"in_features\": 80*256, \"out_features\": 256}}, # 80 units per IQ pair\n",
    "    {\"class\": \"ReLU\", \"kargs\": {\"inplace\": True}},\n",
    "    {\"class\": \"BatchNorm1d\", \"kargs\": {\"num_features\":256}},\n",
    "\n",
    "    {\"class\": \"Linear\", \"kargs\": {\"in_features\": 256, \"out_features\": 256}},\n",
    "]\n",
    "\n",
    "# Parameters relevant to results\n",
    "# These parameters will basically never need to change\n",
    "standalone_parameters[\"NUM_LOGS_PER_EPOCH\"] = 10\n",
    "standalone_parameters[\"BEST_MODEL_PATH\"] = \"./best_model.pth\"\n",
    "\n",
    "\n",
    "\n",
    "\n"
   ]
  },
  {
   "cell_type": "code",
   "execution_count": 4,
   "id": "5eb800b4",
   "metadata": {
    "execution": {
     "iopub.execute_input": "2022-03-21T03:04:09.385164Z",
     "iopub.status.busy": "2022-03-21T03:04:09.379683Z",
     "iopub.status.idle": "2022-03-21T03:04:09.400804Z",
     "shell.execute_reply": "2022-03-21T03:04:09.400335Z"
    },
    "papermill": {
     "duration": 0.040926,
     "end_time": "2022-03-21T03:04:09.400936",
     "exception": false,
     "start_time": "2022-03-21T03:04:09.360010",
     "status": "completed"
    },
    "tags": [
     "injected-parameters"
    ]
   },
   "outputs": [],
   "source": [
    "# Parameters\n",
    "parameters = {\n",
    "    \"experiment_name\": \"tl_3Av2:oracle.run1.framed -> cores+wisig\",\n",
    "    \"device\": \"cuda\",\n",
    "    \"lr\": 0.0001,\n",
    "    \"x_shape\": [2, 200],\n",
    "    \"n_shot\": 3,\n",
    "    \"n_query\": 2,\n",
    "    \"train_k_factor\": 3,\n",
    "    \"val_k_factor\": 2,\n",
    "    \"test_k_factor\": 2,\n",
    "    \"torch_default_dtype\": \"torch.float32\",\n",
    "    \"n_epoch\": 50,\n",
    "    \"patience\": 3,\n",
    "    \"criteria_for_best\": \"target_accuracy\",\n",
    "    \"x_net\": [\n",
    "        {\"class\": \"nnReshape\", \"kargs\": {\"shape\": [-1, 1, 2, 200]}},\n",
    "        {\n",
    "            \"class\": \"Conv2d\",\n",
    "            \"kargs\": {\n",
    "                \"in_channels\": 1,\n",
    "                \"out_channels\": 256,\n",
    "                \"kernel_size\": [1, 7],\n",
    "                \"bias\": False,\n",
    "                \"padding\": [0, 3],\n",
    "            },\n",
    "        },\n",
    "        {\"class\": \"ReLU\", \"kargs\": {\"inplace\": True}},\n",
    "        {\"class\": \"BatchNorm2d\", \"kargs\": {\"num_features\": 256}},\n",
    "        {\n",
    "            \"class\": \"Conv2d\",\n",
    "            \"kargs\": {\n",
    "                \"in_channels\": 256,\n",
    "                \"out_channels\": 80,\n",
    "                \"kernel_size\": [2, 7],\n",
    "                \"bias\": True,\n",
    "                \"padding\": [0, 3],\n",
    "            },\n",
    "        },\n",
    "        {\"class\": \"ReLU\", \"kargs\": {\"inplace\": True}},\n",
    "        {\"class\": \"BatchNorm2d\", \"kargs\": {\"num_features\": 80}},\n",
    "        {\"class\": \"Flatten\", \"kargs\": {}},\n",
    "        {\"class\": \"Linear\", \"kargs\": {\"in_features\": 16000, \"out_features\": 256}},\n",
    "        {\"class\": \"ReLU\", \"kargs\": {\"inplace\": True}},\n",
    "        {\"class\": \"BatchNorm1d\", \"kargs\": {\"num_features\": 256}},\n",
    "        {\"class\": \"Linear\", \"kargs\": {\"in_features\": 256, \"out_features\": 256}},\n",
    "    ],\n",
    "    \"NUM_LOGS_PER_EPOCH\": 10,\n",
    "    \"BEST_MODEL_PATH\": \"./best_model.pth\",\n",
    "    \"n_way\": 16,\n",
    "    \"datasets\": [\n",
    "        {\n",
    "            \"labels\": [\n",
    "                \"1-10.\",\n",
    "                \"1-11.\",\n",
    "                \"1-15.\",\n",
    "                \"1-16.\",\n",
    "                \"1-17.\",\n",
    "                \"1-18.\",\n",
    "                \"1-19.\",\n",
    "                \"10-4.\",\n",
    "                \"10-7.\",\n",
    "                \"11-1.\",\n",
    "                \"11-14.\",\n",
    "                \"11-17.\",\n",
    "                \"11-20.\",\n",
    "                \"11-7.\",\n",
    "                \"13-20.\",\n",
    "                \"13-8.\",\n",
    "                \"14-10.\",\n",
    "                \"14-11.\",\n",
    "                \"14-14.\",\n",
    "                \"14-7.\",\n",
    "                \"15-1.\",\n",
    "                \"15-20.\",\n",
    "                \"16-1.\",\n",
    "                \"16-16.\",\n",
    "                \"17-10.\",\n",
    "                \"17-11.\",\n",
    "                \"17-2.\",\n",
    "                \"19-1.\",\n",
    "                \"19-16.\",\n",
    "                \"19-19.\",\n",
    "                \"19-20.\",\n",
    "                \"19-3.\",\n",
    "                \"2-10.\",\n",
    "                \"2-11.\",\n",
    "                \"2-17.\",\n",
    "                \"2-18.\",\n",
    "                \"2-20.\",\n",
    "                \"2-3.\",\n",
    "                \"2-4.\",\n",
    "                \"2-5.\",\n",
    "                \"2-6.\",\n",
    "                \"2-7.\",\n",
    "                \"2-8.\",\n",
    "                \"3-13.\",\n",
    "                \"3-18.\",\n",
    "                \"3-3.\",\n",
    "                \"4-1.\",\n",
    "                \"4-10.\",\n",
    "                \"4-11.\",\n",
    "                \"4-19.\",\n",
    "                \"5-5.\",\n",
    "                \"6-15.\",\n",
    "                \"7-10.\",\n",
    "                \"7-14.\",\n",
    "                \"8-18.\",\n",
    "                \"8-20.\",\n",
    "                \"8-3.\",\n",
    "                \"8-8.\",\n",
    "            ],\n",
    "            \"domains\": [1, 2, 3, 4, 5],\n",
    "            \"num_examples_per_domain_per_label\": -1,\n",
    "            \"pickle_path\": \"/mnt/wd500GB/CSC500/csc500-main/datasets/cores.stratified_ds.2022A.pkl\",\n",
    "            \"source_or_target_dataset\": \"target\",\n",
    "            \"x_transforms\": [\"unit_power\", \"take_200\"],\n",
    "            \"episode_transforms\": [],\n",
    "            \"domain_prefix\": \"C_\",\n",
    "        },\n",
    "        {\n",
    "            \"labels\": [\n",
    "                \"1-10\",\n",
    "                \"1-12\",\n",
    "                \"1-14\",\n",
    "                \"1-16\",\n",
    "                \"1-18\",\n",
    "                \"1-19\",\n",
    "                \"1-8\",\n",
    "                \"10-11\",\n",
    "                \"10-17\",\n",
    "                \"10-4\",\n",
    "                \"10-7\",\n",
    "                \"11-1\",\n",
    "                \"11-10\",\n",
    "                \"11-19\",\n",
    "                \"11-20\",\n",
    "                \"11-4\",\n",
    "                \"11-7\",\n",
    "                \"12-19\",\n",
    "                \"12-20\",\n",
    "                \"12-7\",\n",
    "                \"13-14\",\n",
    "                \"13-18\",\n",
    "                \"13-19\",\n",
    "                \"13-20\",\n",
    "                \"13-3\",\n",
    "                \"13-7\",\n",
    "                \"14-10\",\n",
    "                \"14-11\",\n",
    "                \"14-12\",\n",
    "                \"14-13\",\n",
    "                \"14-14\",\n",
    "                \"14-19\",\n",
    "                \"14-20\",\n",
    "                \"14-7\",\n",
    "                \"14-8\",\n",
    "                \"14-9\",\n",
    "                \"15-1\",\n",
    "                \"15-19\",\n",
    "                \"15-6\",\n",
    "                \"16-1\",\n",
    "                \"16-16\",\n",
    "                \"16-19\",\n",
    "                \"16-20\",\n",
    "                \"17-10\",\n",
    "                \"17-11\",\n",
    "                \"18-1\",\n",
    "                \"18-10\",\n",
    "                \"18-11\",\n",
    "                \"18-12\",\n",
    "                \"18-13\",\n",
    "                \"18-14\",\n",
    "                \"18-15\",\n",
    "                \"18-16\",\n",
    "                \"18-17\",\n",
    "                \"18-19\",\n",
    "                \"18-2\",\n",
    "                \"18-20\",\n",
    "                \"18-4\",\n",
    "                \"18-5\",\n",
    "                \"18-7\",\n",
    "                \"18-8\",\n",
    "                \"18-9\",\n",
    "                \"19-1\",\n",
    "                \"19-10\",\n",
    "                \"19-11\",\n",
    "                \"19-12\",\n",
    "                \"19-13\",\n",
    "                \"19-14\",\n",
    "                \"19-15\",\n",
    "                \"19-19\",\n",
    "                \"19-2\",\n",
    "                \"19-20\",\n",
    "                \"19-3\",\n",
    "                \"19-4\",\n",
    "                \"19-6\",\n",
    "                \"19-7\",\n",
    "                \"19-8\",\n",
    "                \"19-9\",\n",
    "                \"2-1\",\n",
    "                \"2-13\",\n",
    "                \"2-15\",\n",
    "                \"2-3\",\n",
    "                \"2-4\",\n",
    "                \"2-5\",\n",
    "                \"2-6\",\n",
    "                \"2-7\",\n",
    "                \"2-8\",\n",
    "                \"20-1\",\n",
    "                \"20-12\",\n",
    "                \"20-14\",\n",
    "                \"20-15\",\n",
    "                \"20-16\",\n",
    "                \"20-18\",\n",
    "                \"20-19\",\n",
    "                \"20-20\",\n",
    "                \"20-3\",\n",
    "                \"20-4\",\n",
    "                \"20-5\",\n",
    "                \"20-7\",\n",
    "                \"20-8\",\n",
    "                \"3-1\",\n",
    "                \"3-13\",\n",
    "                \"3-18\",\n",
    "                \"3-2\",\n",
    "                \"3-8\",\n",
    "                \"4-1\",\n",
    "                \"4-10\",\n",
    "                \"4-11\",\n",
    "                \"5-1\",\n",
    "                \"5-5\",\n",
    "                \"6-1\",\n",
    "                \"6-15\",\n",
    "                \"6-6\",\n",
    "                \"7-10\",\n",
    "                \"7-11\",\n",
    "                \"7-12\",\n",
    "                \"7-13\",\n",
    "                \"7-14\",\n",
    "                \"7-7\",\n",
    "                \"7-8\",\n",
    "                \"7-9\",\n",
    "                \"8-1\",\n",
    "                \"8-13\",\n",
    "                \"8-14\",\n",
    "                \"8-18\",\n",
    "                \"8-20\",\n",
    "                \"8-3\",\n",
    "                \"8-8\",\n",
    "                \"9-1\",\n",
    "                \"9-7\",\n",
    "            ],\n",
    "            \"domains\": [1, 2, 3, 4],\n",
    "            \"num_examples_per_domain_per_label\": -1,\n",
    "            \"pickle_path\": \"/mnt/wd500GB/CSC500/csc500-main/datasets/wisig.node3-19.stratified_ds.2022A.pkl\",\n",
    "            \"source_or_target_dataset\": \"target\",\n",
    "            \"x_transforms\": [\"unit_power\", \"take_200\"],\n",
    "            \"episode_transforms\": [],\n",
    "            \"domain_prefix\": \"W_\",\n",
    "        },\n",
    "        {\n",
    "            \"labels\": [\n",
    "                \"3123D52\",\n",
    "                \"3123D65\",\n",
    "                \"3123D79\",\n",
    "                \"3123D80\",\n",
    "                \"3123D54\",\n",
    "                \"3123D70\",\n",
    "                \"3123D7B\",\n",
    "                \"3123D89\",\n",
    "                \"3123D58\",\n",
    "                \"3123D76\",\n",
    "                \"3123D7D\",\n",
    "                \"3123EFE\",\n",
    "                \"3123D64\",\n",
    "                \"3123D78\",\n",
    "                \"3123D7E\",\n",
    "                \"3124E4A\",\n",
    "            ],\n",
    "            \"domains\": [32, 38, 8, 44, 14, 50, 20, 26],\n",
    "            \"num_examples_per_domain_per_label\": 2000,\n",
    "            \"pickle_path\": \"/mnt/wd500GB/CSC500/csc500-main/datasets/oracle.Run1_framed_2000Examples_stratified_ds.2022A.pkl\",\n",
    "            \"source_or_target_dataset\": \"source\",\n",
    "            \"x_transforms\": [\"unit_power\", \"take_200\", \"resample_20Msps_to_25Msps\"],\n",
    "            \"episode_transforms\": [],\n",
    "            \"domain_prefix\": \"O_\",\n",
    "        },\n",
    "    ],\n",
    "    \"seed\": 500,\n",
    "    \"dataset_seed\": 500,\n",
    "}\n"
   ]
  },
  {
   "cell_type": "code",
   "execution_count": 5,
   "id": "8fa1cc33",
   "metadata": {
    "execution": {
     "iopub.execute_input": "2022-03-21T03:04:09.433369Z",
     "iopub.status.busy": "2022-03-21T03:04:09.433114Z",
     "iopub.status.idle": "2022-03-21T03:04:09.443977Z",
     "shell.execute_reply": "2022-03-21T03:04:09.443521Z"
    },
    "papermill": {
     "duration": 0.026791,
     "end_time": "2022-03-21T03:04:09.444067",
     "exception": false,
     "start_time": "2022-03-21T03:04:09.417276",
     "status": "completed"
    },
    "tags": []
   },
   "outputs": [],
   "source": [
    "# Set this to True if you want to run this template directly\n",
    "STANDALONE = False\n",
    "if STANDALONE:\n",
    "    print(\"parameters not injected, running with standalone_parameters\")\n",
    "    parameters = standalone_parameters\n",
    "\n",
    "if not 'parameters' in locals() and not 'parameters' in globals():\n",
    "    raise Exception(\"Parameter injection failed\")\n",
    "\n",
    "#Use an easy dict for all the parameters\n",
    "p = EasyDict(parameters)\n",
    "\n",
    "if \"x_shape\" not in p:\n",
    "    p.x_shape = [2,256] # Default to this if we dont supply x_shape\n",
    "\n",
    "\n",
    "supplied_keys = set(p.keys())\n",
    "\n",
    "if  supplied_keys != required_parameters:\n",
    "    print(\"Parameters are incorrect\")\n",
    "    if len(supplied_keys - required_parameters)>0: print(\"Shouldn't have:\", str(supplied_keys - required_parameters))\n",
    "    if len(required_parameters - supplied_keys)>0: print(\"Need to have:\", str(required_parameters - supplied_keys))\n",
    "    raise RuntimeError(\"Parameters are incorrect\")"
   ]
  },
  {
   "cell_type": "code",
   "execution_count": 6,
   "id": "3a028d58",
   "metadata": {
    "execution": {
     "iopub.execute_input": "2022-03-21T03:04:09.475858Z",
     "iopub.status.busy": "2022-03-21T03:04:09.475264Z",
     "iopub.status.idle": "2022-03-21T03:04:09.485933Z",
     "shell.execute_reply": "2022-03-21T03:04:09.485600Z"
    },
    "papermill": {
     "duration": 0.025167,
     "end_time": "2022-03-21T03:04:09.486005",
     "exception": false,
     "start_time": "2022-03-21T03:04:09.460838",
     "status": "completed"
    },
    "tags": []
   },
   "outputs": [],
   "source": [
    "###################################\n",
    "# Set the RNGs and make it all deterministic\n",
    "###################################\n",
    "np.random.seed(p.seed)\n",
    "random.seed(p.seed)\n",
    "torch.manual_seed(p.seed)\n",
    "\n",
    "torch.use_deterministic_algorithms(True) "
   ]
  },
  {
   "cell_type": "code",
   "execution_count": 7,
   "id": "b691acf6",
   "metadata": {
    "execution": {
     "iopub.execute_input": "2022-03-21T03:04:09.518581Z",
     "iopub.status.busy": "2022-03-21T03:04:09.518334Z",
     "iopub.status.idle": "2022-03-21T03:04:09.531999Z",
     "shell.execute_reply": "2022-03-21T03:04:09.531549Z"
    },
    "papermill": {
     "duration": 0.029066,
     "end_time": "2022-03-21T03:04:09.532088",
     "exception": false,
     "start_time": "2022-03-21T03:04:09.503022",
     "status": "completed"
    },
    "tags": []
   },
   "outputs": [],
   "source": [
    "###########################################\n",
    "# The stratified datasets honor this\n",
    "###########################################\n",
    "torch.set_default_dtype(eval(p.torch_default_dtype))"
   ]
  },
  {
   "cell_type": "code",
   "execution_count": 8,
   "id": "b5fba671",
   "metadata": {
    "execution": {
     "iopub.execute_input": "2022-03-21T03:04:09.563759Z",
     "iopub.status.busy": "2022-03-21T03:04:09.563501Z",
     "iopub.status.idle": "2022-03-21T03:04:09.594923Z",
     "shell.execute_reply": "2022-03-21T03:04:09.594534Z"
    },
    "papermill": {
     "duration": 0.046375,
     "end_time": "2022-03-21T03:04:09.595011",
     "exception": false,
     "start_time": "2022-03-21T03:04:09.548636",
     "status": "completed"
    },
    "tags": []
   },
   "outputs": [],
   "source": [
    "###################################\n",
    "# Build the network(s)\n",
    "# Note: It's critical to do this AFTER setting the RNG\n",
    "###################################\n",
    "x_net = build_sequential(p.x_net)"
   ]
  },
  {
   "cell_type": "code",
   "execution_count": 9,
   "id": "5d7e61cc",
   "metadata": {
    "execution": {
     "iopub.execute_input": "2022-03-21T03:04:09.628120Z",
     "iopub.status.busy": "2022-03-21T03:04:09.627868Z",
     "iopub.status.idle": "2022-03-21T03:04:09.640628Z",
     "shell.execute_reply": "2022-03-21T03:04:09.640324Z"
    },
    "papermill": {
     "duration": 0.028491,
     "end_time": "2022-03-21T03:04:09.640698",
     "exception": false,
     "start_time": "2022-03-21T03:04:09.612207",
     "status": "completed"
    },
    "tags": []
   },
   "outputs": [],
   "source": [
    "start_time_secs = time.time()"
   ]
  },
  {
   "cell_type": "code",
   "execution_count": 10,
   "id": "c6b67dfd",
   "metadata": {
    "execution": {
     "iopub.execute_input": "2022-03-21T03:04:09.674078Z",
     "iopub.status.busy": "2022-03-21T03:04:09.673828Z",
     "iopub.status.idle": "2022-03-21T03:04:09.687139Z",
     "shell.execute_reply": "2022-03-21T03:04:09.687515Z"
    },
    "papermill": {
     "duration": 0.029178,
     "end_time": "2022-03-21T03:04:09.687622",
     "exception": false,
     "start_time": "2022-03-21T03:04:09.658444",
     "status": "completed"
    },
    "tags": []
   },
   "outputs": [],
   "source": [
    "p.domains_source = []\n",
    "p.domains_target = []\n",
    "\n",
    "\n",
    "train_original_source = []\n",
    "val_original_source   = []\n",
    "test_original_source  = []\n",
    "\n",
    "train_original_target = []\n",
    "val_original_target   = []\n",
    "test_original_target  = []"
   ]
  },
  {
   "cell_type": "code",
   "execution_count": 11,
   "id": "e3d9c3d3",
   "metadata": {
    "execution": {
     "iopub.execute_input": "2022-03-21T03:04:09.719724Z",
     "iopub.status.busy": "2022-03-21T03:04:09.719475Z",
     "iopub.status.idle": "2022-03-21T03:04:09.732556Z",
     "shell.execute_reply": "2022-03-21T03:04:09.732250Z"
    },
    "papermill": {
     "duration": 0.028124,
     "end_time": "2022-03-21T03:04:09.732625",
     "exception": false,
     "start_time": "2022-03-21T03:04:09.704501",
     "status": "completed"
    },
    "tags": []
   },
   "outputs": [],
   "source": [
    "# global_x_transform_func = lambda x: normalize(x.to(torch.get_default_dtype()), \"unit_power\") # unit_power, unit_mag\n",
    "# global_x_transform_func = lambda x: normalize(x, \"unit_power\") # unit_power, unit_mag"
   ]
  },
  {
   "cell_type": "code",
   "execution_count": 12,
   "id": "acb78fd2",
   "metadata": {
    "execution": {
     "iopub.execute_input": "2022-03-21T03:04:09.771135Z",
     "iopub.status.busy": "2022-03-21T03:04:09.770831Z",
     "iopub.status.idle": "2022-03-21T03:04:09.788414Z",
     "shell.execute_reply": "2022-03-21T03:04:09.787991Z"
    },
    "papermill": {
     "duration": 0.037946,
     "end_time": "2022-03-21T03:04:09.788506",
     "exception": false,
     "start_time": "2022-03-21T03:04:09.750560",
     "status": "completed"
    },
    "tags": []
   },
   "outputs": [],
   "source": [
    "def add_dataset(\n",
    "    labels,\n",
    "    domains,\n",
    "    pickle_path,\n",
    "    x_transforms,\n",
    "    episode_transforms,\n",
    "    domain_prefix,\n",
    "    num_examples_per_domain_per_label,\n",
    "    source_or_target_dataset:str,\n",
    "    iterator_seed=p.seed,\n",
    "    dataset_seed=p.dataset_seed,\n",
    "    n_shot=p.n_shot,\n",
    "    n_way=p.n_way,\n",
    "    n_query=p.n_query,\n",
    "    train_val_test_k_factors=(p.train_k_factor,p.val_k_factor,p.test_k_factor),\n",
    "):\n",
    "   \n",
    "    if x_transforms == []: x_transform = None\n",
    "    else: x_transform = get_chained_transform(x_transforms)\n",
    "    \n",
    "    if episode_transforms == []: episode_transform = None\n",
    "    else: raise Exception(\"episode_transforms not implemented\")\n",
    "    \n",
    "    episode_transform = lambda tup, _prefix=domain_prefix: (_prefix + str(tup[0]), tup[1])\n",
    "\n",
    "\n",
    "    eaf = Episodic_Accessor_Factory(\n",
    "        labels=labels,\n",
    "        domains=domains,\n",
    "        num_examples_per_domain_per_label=num_examples_per_domain_per_label,\n",
    "        iterator_seed=iterator_seed,\n",
    "        dataset_seed=dataset_seed,\n",
    "        n_shot=n_shot,\n",
    "        n_way=n_way,\n",
    "        n_query=n_query,\n",
    "        train_val_test_k_factors=train_val_test_k_factors,\n",
    "        pickle_path=pickle_path,\n",
    "        x_transform_func=x_transform,\n",
    "    )\n",
    "\n",
    "    train, val, test = eaf.get_train(), eaf.get_val(), eaf.get_test()\n",
    "    train = Lazy_Iterable_Wrapper(train, episode_transform)\n",
    "    val = Lazy_Iterable_Wrapper(val, episode_transform)\n",
    "    test = Lazy_Iterable_Wrapper(test, episode_transform)\n",
    "\n",
    "    if source_or_target_dataset==\"source\":\n",
    "        train_original_source.append(train)\n",
    "        val_original_source.append(val)\n",
    "        test_original_source.append(test)\n",
    "\n",
    "        p.domains_source.extend(\n",
    "            [domain_prefix + str(u) for u in domains]\n",
    "        )\n",
    "    elif source_or_target_dataset==\"target\":\n",
    "        train_original_target.append(train)\n",
    "        val_original_target.append(val)\n",
    "        test_original_target.append(test)\n",
    "        p.domains_target.extend(\n",
    "            [domain_prefix + str(u) for u in domains]\n",
    "        )\n",
    "    else:\n",
    "        raise Exception(f\"invalid source_or_target_dataset: {source_or_target_dataset}\")\n",
    "    "
   ]
  },
  {
   "cell_type": "code",
   "execution_count": 13,
   "id": "fe266617",
   "metadata": {
    "execution": {
     "iopub.execute_input": "2022-03-21T03:04:09.822063Z",
     "iopub.status.busy": "2022-03-21T03:04:09.821815Z",
     "iopub.status.idle": "2022-03-21T03:05:19.495918Z",
     "shell.execute_reply": "2022-03-21T03:05:19.495424Z"
    },
    "papermill": {
     "duration": 69.689088,
     "end_time": "2022-03-21T03:05:19.496024",
     "exception": false,
     "start_time": "2022-03-21T03:04:09.806936",
     "status": "completed"
    },
    "tags": []
   },
   "outputs": [],
   "source": [
    "for ds in p.datasets:\n",
    "    add_dataset(**ds)"
   ]
  },
  {
   "cell_type": "code",
   "execution_count": 14,
   "id": "b90d65ac",
   "metadata": {
    "execution": {
     "iopub.execute_input": "2022-03-21T03:05:19.531521Z",
     "iopub.status.busy": "2022-03-21T03:05:19.531254Z",
     "iopub.status.idle": "2022-03-21T03:05:19.545945Z",
     "shell.execute_reply": "2022-03-21T03:05:19.545630Z"
    },
    "papermill": {
     "duration": 0.030499,
     "end_time": "2022-03-21T03:05:19.546015",
     "exception": false,
     "start_time": "2022-03-21T03:05:19.515516",
     "status": "completed"
    },
    "tags": []
   },
   "outputs": [],
   "source": [
    "# from steves_utils.CORES.utils import (\n",
    "#     ALL_NODES,\n",
    "#     ALL_NODES_MINIMUM_1000_EXAMPLES,\n",
    "#     ALL_DAYS\n",
    "# )\n",
    "\n",
    "# add_dataset(\n",
    "#     labels=ALL_NODES,\n",
    "#     domains = ALL_DAYS,\n",
    "#     num_examples_per_domain_per_label=100,\n",
    "#     pickle_path=os.path.join(get_datasets_base_path(), \"cores.stratified_ds.2022A.pkl\"),\n",
    "#     source_or_target_dataset=\"target\",\n",
    "#     x_transform_func=global_x_transform_func,\n",
    "#     domain_modifier=lambda u: f\"cores_{u}\"\n",
    "# )"
   ]
  },
  {
   "cell_type": "code",
   "execution_count": 15,
   "id": "76db484d",
   "metadata": {
    "execution": {
     "iopub.execute_input": "2022-03-21T03:05:19.578899Z",
     "iopub.status.busy": "2022-03-21T03:05:19.578646Z",
     "iopub.status.idle": "2022-03-21T03:05:19.588849Z",
     "shell.execute_reply": "2022-03-21T03:05:19.588462Z"
    },
    "papermill": {
     "duration": 0.025119,
     "end_time": "2022-03-21T03:05:19.588937",
     "exception": false,
     "start_time": "2022-03-21T03:05:19.563818",
     "status": "completed"
    },
    "tags": []
   },
   "outputs": [],
   "source": [
    "# from steves_utils.ORACLE.utils_v2 import (\n",
    "#     ALL_DISTANCES_FEET,\n",
    "#     ALL_RUNS,\n",
    "#     ALL_SERIAL_NUMBERS,\n",
    "# )\n",
    "\n",
    "\n",
    "# add_dataset(\n",
    "#     labels=ALL_SERIAL_NUMBERS,\n",
    "#     domains = list(set(ALL_DISTANCES_FEET) - {2,62}),\n",
    "#     num_examples_per_domain_per_label=100,\n",
    "#     pickle_path=os.path.join(get_datasets_base_path(), \"oracle.Run2_framed_2000Examples_stratified_ds.2022A.pkl\"),\n",
    "#     source_or_target_dataset=\"source\",\n",
    "#     x_transform_func=global_x_transform_func,\n",
    "#     domain_modifier=lambda u: f\"oracle1_{u}\"\n",
    "# )\n"
   ]
  },
  {
   "cell_type": "code",
   "execution_count": 16,
   "id": "97dea9d2",
   "metadata": {
    "execution": {
     "iopub.execute_input": "2022-03-21T03:05:19.621390Z",
     "iopub.status.busy": "2022-03-21T03:05:19.621139Z",
     "iopub.status.idle": "2022-03-21T03:05:19.635278Z",
     "shell.execute_reply": "2022-03-21T03:05:19.634825Z"
    },
    "papermill": {
     "duration": 0.029949,
     "end_time": "2022-03-21T03:05:19.635368",
     "exception": false,
     "start_time": "2022-03-21T03:05:19.605419",
     "status": "completed"
    },
    "tags": []
   },
   "outputs": [],
   "source": [
    "# from steves_utils.ORACLE.utils_v2 import (\n",
    "#     ALL_DISTANCES_FEET,\n",
    "#     ALL_RUNS,\n",
    "#     ALL_SERIAL_NUMBERS,\n",
    "# )\n",
    "\n",
    "\n",
    "# add_dataset(\n",
    "#     labels=ALL_SERIAL_NUMBERS,\n",
    "#     domains = list(set(ALL_DISTANCES_FEET) - {2,62,56}),\n",
    "#     num_examples_per_domain_per_label=100,\n",
    "#     pickle_path=os.path.join(get_datasets_base_path(), \"oracle.Run2_framed_2000Examples_stratified_ds.2022A.pkl\"),\n",
    "#     source_or_target_dataset=\"source\",\n",
    "#     x_transform_func=global_x_transform_func,\n",
    "#     domain_modifier=lambda u: f\"oracle2_{u}\"\n",
    "# )"
   ]
  },
  {
   "cell_type": "code",
   "execution_count": 17,
   "id": "6f289866",
   "metadata": {
    "execution": {
     "iopub.execute_input": "2022-03-21T03:05:19.668635Z",
     "iopub.status.busy": "2022-03-21T03:05:19.668386Z",
     "iopub.status.idle": "2022-03-21T03:05:19.684009Z",
     "shell.execute_reply": "2022-03-21T03:05:19.683618Z"
    },
    "papermill": {
     "duration": 0.031307,
     "end_time": "2022-03-21T03:05:19.684097",
     "exception": false,
     "start_time": "2022-03-21T03:05:19.652790",
     "status": "completed"
    },
    "tags": []
   },
   "outputs": [],
   "source": [
    "# add_dataset(\n",
    "#     labels=list(range(19)),\n",
    "#     domains = [0,1,2],\n",
    "#     num_examples_per_domain_per_label=100,\n",
    "#     pickle_path=os.path.join(get_datasets_base_path(), \"metehan.stratified_ds.2022A.pkl\"),\n",
    "#     source_or_target_dataset=\"target\",\n",
    "#     x_transform_func=global_x_transform_func,\n",
    "#     domain_modifier=lambda u: f\"met_{u}\"\n",
    "# )"
   ]
  },
  {
   "cell_type": "code",
   "execution_count": 18,
   "id": "86a863c3",
   "metadata": {
    "execution": {
     "iopub.execute_input": "2022-03-21T03:05:19.719012Z",
     "iopub.status.busy": "2022-03-21T03:05:19.718761Z",
     "iopub.status.idle": "2022-03-21T03:05:19.732223Z",
     "shell.execute_reply": "2022-03-21T03:05:19.731913Z"
    },
    "papermill": {
     "duration": 0.029159,
     "end_time": "2022-03-21T03:05:19.732325",
     "exception": false,
     "start_time": "2022-03-21T03:05:19.703166",
     "status": "completed"
    },
    "tags": []
   },
   "outputs": [],
   "source": [
    "# # from steves_utils.wisig.utils import (\n",
    "# #     ALL_NODES_MINIMUM_100_EXAMPLES,\n",
    "# #     ALL_NODES_MINIMUM_500_EXAMPLES,\n",
    "# #     ALL_NODES_MINIMUM_1000_EXAMPLES,\n",
    "# #     ALL_DAYS\n",
    "# # )\n",
    "\n",
    "# import steves_utils.wisig.utils as wisig\n",
    "\n",
    "\n",
    "# add_dataset(\n",
    "#     labels=wisig.ALL_NODES_MINIMUM_100_EXAMPLES,\n",
    "#     domains = wisig.ALL_DAYS,\n",
    "#     num_examples_per_domain_per_label=100,\n",
    "#     pickle_path=os.path.join(get_datasets_base_path(), \"wisig.node3-19.stratified_ds.2022A.pkl\"),\n",
    "#     source_or_target_dataset=\"target\",\n",
    "#     x_transform_func=global_x_transform_func,\n",
    "#     domain_modifier=lambda u: f\"wisig_{u}\"\n",
    "# )"
   ]
  },
  {
   "cell_type": "code",
   "execution_count": 19,
   "id": "fd5442bc",
   "metadata": {
    "execution": {
     "iopub.execute_input": "2022-03-21T03:05:19.771982Z",
     "iopub.status.busy": "2022-03-21T03:05:19.771640Z",
     "iopub.status.idle": "2022-03-21T03:05:19.786598Z",
     "shell.execute_reply": "2022-03-21T03:05:19.786207Z"
    },
    "papermill": {
     "duration": 0.035375,
     "end_time": "2022-03-21T03:05:19.786687",
     "exception": false,
     "start_time": "2022-03-21T03:05:19.751312",
     "status": "completed"
    },
    "tags": []
   },
   "outputs": [],
   "source": [
    "###################################\n",
    "# Build the dataset\n",
    "###################################\n",
    "train_original_source = Iterable_Aggregator(train_original_source, p.seed)\n",
    "val_original_source = Iterable_Aggregator(val_original_source, p.seed)\n",
    "test_original_source = Iterable_Aggregator(test_original_source, p.seed)\n",
    "\n",
    "\n",
    "train_original_target = Iterable_Aggregator(train_original_target, p.seed)\n",
    "val_original_target = Iterable_Aggregator(val_original_target, p.seed)\n",
    "test_original_target = Iterable_Aggregator(test_original_target, p.seed)\n",
    "\n",
    "# For CNN We only use X and Y. And we only train on the source.\n",
    "# Properly form the data using a transform lambda and Lazy_Iterable_Wrapper. Finally wrap them in a dataloader\n",
    "\n",
    "transform_lambda = lambda ex: ex[1] # Original is (<domain>, <episode>) so we strip down to episode only\n",
    "\n",
    "train_processed_source = Lazy_Iterable_Wrapper(train_original_source, transform_lambda)\n",
    "val_processed_source   = Lazy_Iterable_Wrapper(val_original_source, transform_lambda)\n",
    "test_processed_source  = Lazy_Iterable_Wrapper(test_original_source, transform_lambda)\n",
    "\n",
    "train_processed_target = Lazy_Iterable_Wrapper(train_original_target, transform_lambda)\n",
    "val_processed_target   = Lazy_Iterable_Wrapper(val_original_target, transform_lambda)\n",
    "test_processed_target  = Lazy_Iterable_Wrapper(test_original_target, transform_lambda)\n",
    "\n",
    "datasets = EasyDict({\n",
    "    \"source\": {\n",
    "        \"original\": {\"train\":train_original_source, \"val\":val_original_source, \"test\":test_original_source},\n",
    "        \"processed\": {\"train\":train_processed_source, \"val\":val_processed_source, \"test\":test_processed_source}\n",
    "    },\n",
    "    \"target\": {\n",
    "        \"original\": {\"train\":train_original_target, \"val\":val_original_target, \"test\":test_original_target},\n",
    "        \"processed\": {\"train\":train_processed_target, \"val\":val_processed_target, \"test\":test_processed_target}\n",
    "    },\n",
    "})"
   ]
  },
  {
   "cell_type": "code",
   "execution_count": 20,
   "id": "5b3c01fc",
   "metadata": {
    "execution": {
     "iopub.execute_input": "2022-03-21T03:05:19.821828Z",
     "iopub.status.busy": "2022-03-21T03:05:19.821548Z",
     "iopub.status.idle": "2022-03-21T03:05:28.743100Z",
     "shell.execute_reply": "2022-03-21T03:05:28.743699Z"
    },
    "papermill": {
     "duration": 8.939268,
     "end_time": "2022-03-21T03:05:28.743976",
     "exception": false,
     "start_time": "2022-03-21T03:05:19.804708",
     "status": "completed"
    },
    "tags": []
   },
   "outputs": [
    {
     "name": "stdout",
     "output_type": "stream",
     "text": [
      "{'O_32', 'O_38', 'O_20', 'O_50', 'O_26', 'O_8', 'O_44', 'O_14'}\n"
     ]
    },
    {
     "name": "stdout",
     "output_type": "stream",
     "text": [
      "{'C_4', 'W_1', 'W_4', 'W_3', 'C_3', 'C_5', 'W_2', 'C_1', 'C_2'}\n"
     ]
    },
    {
     "name": "stdout",
     "output_type": "stream",
     "text": [
      "tensor([[[ 0.5198,  1.1449, -0.2691,  ...,  0.3874, -0.0754,  1.0247],\n",
      "         [-0.4024,  0.2823,  0.3043,  ...,  0.6146,  1.0491,  0.1623]],\n",
      "\n",
      "        [[ 0.1027,  1.2815,  0.2340,  ...,  0.3532,  0.0416,  1.0866],\n",
      "         [-0.6504, -0.1179,  0.5017,  ...,  0.4043,  1.2002,  0.1812]],\n",
      "\n",
      "        [[-0.9810, -0.0956,  1.4581,  ...,  0.2201, -0.9534, -1.2017],\n",
      "         [-0.2926, -0.3228,  0.0158,  ..., -0.9782, -0.7513, -0.7499]],\n",
      "\n",
      "        ...,\n",
      "\n",
      "        [[-0.3346,  0.1680,  0.4490,  ...,  0.6284,  1.2521,  0.6054],\n",
      "         [-0.2738, -1.2222, -0.0977,  ..., -0.8729,  0.1431, -0.5193]],\n",
      "\n",
      "        [[ 0.5496, -0.2679, -0.7192,  ..., -0.7918, -0.9739, -0.0442],\n",
      "         [ 0.8764,  1.2566, -0.4588,  ...,  0.1913, -0.0889,  1.0308]],\n",
      "\n",
      "        [[ 0.4343, -0.4974, -0.8497,  ..., -1.0668, -0.9120, -0.2790],\n",
      "         [ 1.0183,  1.2228, -0.6890,  ...,  0.1524,  0.2036,  1.3888]]])\n"
     ]
    }
   ],
   "source": [
    "from steves_utils.transforms import get_average_magnitude, get_average_power\n",
    "\n",
    "print(set([u for u,_ in val_original_source]))\n",
    "print(set([u for u,_ in val_original_target]))\n",
    "\n",
    "s_x, s_y, q_x, q_y, _ = next(iter(train_processed_source))\n",
    "print(s_x)\n",
    "\n",
    "# for ds in [\n",
    "#     train_processed_source,\n",
    "#     val_processed_source,\n",
    "#     test_processed_source,\n",
    "#     train_processed_target,\n",
    "#     val_processed_target,\n",
    "#     test_processed_target\n",
    "# ]:\n",
    "#     for s_x, s_y, q_x, q_y, _ in ds:\n",
    "#         for X in (s_x, q_x):\n",
    "#             for x in X:\n",
    "#                 assert np.isclose(get_average_magnitude(x.numpy()), 1.0)\n",
    "#                 assert np.isclose(get_average_power(x.numpy()), 1.0)\n",
    "                "
   ]
  },
  {
   "cell_type": "code",
   "execution_count": 21,
   "id": "bbdacba1",
   "metadata": {
    "execution": {
     "iopub.execute_input": "2022-03-21T03:05:28.781187Z",
     "iopub.status.busy": "2022-03-21T03:05:28.780924Z",
     "iopub.status.idle": "2022-03-21T03:05:28.830768Z",
     "shell.execute_reply": "2022-03-21T03:05:28.830366Z"
    },
    "papermill": {
     "duration": 0.068213,
     "end_time": "2022-03-21T03:05:28.830864",
     "exception": false,
     "start_time": "2022-03-21T03:05:28.762651",
     "status": "completed"
    },
    "tags": []
   },
   "outputs": [
    {
     "name": "stdout",
     "output_type": "stream",
     "text": [
      "(2, 200)\n"
     ]
    }
   ],
   "source": [
    "###################################\n",
    "# Build the model\n",
    "###################################\n",
    "# easfsl only wants a tuple for the shape\n",
    "model = Steves_Prototypical_Network(x_net, device=p.device, x_shape=tuple(p.x_shape))\n",
    "optimizer = Adam(params=model.parameters(), lr=p.lr)"
   ]
  },
  {
   "cell_type": "code",
   "execution_count": 22,
   "id": "22b39ac5",
   "metadata": {
    "execution": {
     "iopub.execute_input": "2022-03-21T03:05:28.865645Z",
     "iopub.status.busy": "2022-03-21T03:05:28.865392Z",
     "iopub.status.idle": "2022-03-21T03:22:04.585059Z",
     "shell.execute_reply": "2022-03-21T03:22:04.584829Z"
    },
    "papermill": {
     "duration": 995.737054,
     "end_time": "2022-03-21T03:22:04.585118",
     "exception": false,
     "start_time": "2022-03-21T03:05:28.848064",
     "status": "completed"
    },
    "tags": []
   },
   "outputs": [
    {
     "name": "stdout",
     "output_type": "stream",
     "text": [
      "epoch: 1, [batch: 1 / 6720], examples_per_second: 48.3384, train_label_loss: 2.9340, \n"
     ]
    },
    {
     "name": "stdout",
     "output_type": "stream",
     "text": [
      "epoch: 1, [batch: 672 / 6720], examples_per_second: 3703.3041, train_label_loss: 1.8843, \n"
     ]
    },
    {
     "name": "stdout",
     "output_type": "stream",
     "text": [
      "epoch: 1, [batch: 1344 / 6720], examples_per_second: 3762.8180, train_label_loss: 0.9920, \n"
     ]
    },
    {
     "name": "stdout",
     "output_type": "stream",
     "text": [
      "epoch: 1, [batch: 2016 / 6720], examples_per_second: 3745.4149, train_label_loss: 0.8848, \n"
     ]
    },
    {
     "name": "stdout",
     "output_type": "stream",
     "text": [
      "epoch: 1, [batch: 2688 / 6720], examples_per_second: 3732.0582, train_label_loss: 0.8190, \n"
     ]
    },
    {
     "name": "stdout",
     "output_type": "stream",
     "text": [
      "epoch: 1, [batch: 3360 / 6720], examples_per_second: 3730.8349, train_label_loss: 0.7317, \n"
     ]
    },
    {
     "name": "stdout",
     "output_type": "stream",
     "text": [
      "epoch: 1, [batch: 4032 / 6720], examples_per_second: 3730.6122, train_label_loss: 0.8085, \n"
     ]
    },
    {
     "name": "stdout",
     "output_type": "stream",
     "text": [
      "epoch: 1, [batch: 4704 / 6720], examples_per_second: 3740.2309, train_label_loss: 0.6645, \n"
     ]
    },
    {
     "name": "stdout",
     "output_type": "stream",
     "text": [
      "epoch: 1, [batch: 5376 / 6720], examples_per_second: 3736.2562, train_label_loss: 0.7503, \n"
     ]
    },
    {
     "name": "stdout",
     "output_type": "stream",
     "text": [
      "epoch: 1, [batch: 6048 / 6720], examples_per_second: 3733.1714, train_label_loss: 1.0100, \n"
     ]
    },
    {
     "name": "stdout",
     "output_type": "stream",
     "text": [
      "=============================================================\n",
      "epoch: 1, source_val_acc_label: 0.6550, target_val_acc_label: 0.5536, source_val_label_loss: 1.0234, target_val_label_loss: 13.1956, \n",
      "=============================================================\n"
     ]
    },
    {
     "name": "stdout",
     "output_type": "stream",
     "text": [
      "New best\n"
     ]
    },
    {
     "name": "stdout",
     "output_type": "stream",
     "text": [
      "epoch: 2, [batch: 1 / 6720], examples_per_second: 4.3716, train_label_loss: 1.0355, \n"
     ]
    },
    {
     "name": "stdout",
     "output_type": "stream",
     "text": [
      "epoch: 2, [batch: 672 / 6720], examples_per_second: 3704.8194, train_label_loss: 1.0976, \n"
     ]
    },
    {
     "name": "stdout",
     "output_type": "stream",
     "text": [
      "epoch: 2, [batch: 1344 / 6720], examples_per_second: 3760.4876, train_label_loss: 0.8938, \n"
     ]
    },
    {
     "name": "stdout",
     "output_type": "stream",
     "text": [
      "epoch: 2, [batch: 2016 / 6720], examples_per_second: 3753.0577, train_label_loss: 0.6410, \n"
     ]
    },
    {
     "name": "stdout",
     "output_type": "stream",
     "text": [
      "epoch: 2, [batch: 2688 / 6720], examples_per_second: 3731.7881, train_label_loss: 0.5127, \n"
     ]
    },
    {
     "name": "stdout",
     "output_type": "stream",
     "text": [
      "epoch: 2, [batch: 3360 / 6720], examples_per_second: 3721.1579, train_label_loss: 0.4901, \n"
     ]
    },
    {
     "name": "stdout",
     "output_type": "stream",
     "text": [
      "epoch: 2, [batch: 4032 / 6720], examples_per_second: 3730.1886, train_label_loss: 0.9087, \n"
     ]
    },
    {
     "name": "stdout",
     "output_type": "stream",
     "text": [
      "epoch: 2, [batch: 4704 / 6720], examples_per_second: 3738.6699, train_label_loss: 0.6196, \n"
     ]
    },
    {
     "name": "stdout",
     "output_type": "stream",
     "text": [
      "epoch: 2, [batch: 5376 / 6720], examples_per_second: 3747.8021, train_label_loss: 1.1119, \n"
     ]
    },
    {
     "name": "stdout",
     "output_type": "stream",
     "text": [
      "epoch: 2, [batch: 6048 / 6720], examples_per_second: 3744.0302, train_label_loss: 0.5252, \n"
     ]
    },
    {
     "name": "stdout",
     "output_type": "stream",
     "text": [
      "=============================================================\n",
      "epoch: 2, source_val_acc_label: 0.7740, target_val_acc_label: 0.6910, source_val_label_loss: 0.6236, target_val_label_loss: 4.1236, \n",
      "=============================================================\n"
     ]
    },
    {
     "name": "stdout",
     "output_type": "stream",
     "text": [
      "New best\n"
     ]
    },
    {
     "name": "stdout",
     "output_type": "stream",
     "text": [
      "epoch: 3, [batch: 1 / 6720], examples_per_second: 4.3774, train_label_loss: 1.1669, \n"
     ]
    },
    {
     "name": "stdout",
     "output_type": "stream",
     "text": [
      "epoch: 3, [batch: 672 / 6720], examples_per_second: 3711.6585, train_label_loss: 0.3771, \n"
     ]
    },
    {
     "name": "stdout",
     "output_type": "stream",
     "text": [
      "epoch: 3, [batch: 1344 / 6720], examples_per_second: 3747.9388, train_label_loss: 0.2846, \n"
     ]
    },
    {
     "name": "stdout",
     "output_type": "stream",
     "text": [
      "epoch: 3, [batch: 2016 / 6720], examples_per_second: 3749.8178, train_label_loss: 0.4316, \n"
     ]
    },
    {
     "name": "stdout",
     "output_type": "stream",
     "text": [
      "epoch: 3, [batch: 2688 / 6720], examples_per_second: 3731.8363, train_label_loss: 0.4193, \n"
     ]
    },
    {
     "name": "stdout",
     "output_type": "stream",
     "text": [
      "epoch: 3, [batch: 3360 / 6720], examples_per_second: 3745.3926, train_label_loss: 0.4623, \n"
     ]
    },
    {
     "name": "stdout",
     "output_type": "stream",
     "text": [
      "epoch: 3, [batch: 4032 / 6720], examples_per_second: 3755.4428, train_label_loss: 0.5237, \n"
     ]
    },
    {
     "name": "stdout",
     "output_type": "stream",
     "text": [
      "epoch: 3, [batch: 4704 / 6720], examples_per_second: 3736.0149, train_label_loss: 0.5713, \n"
     ]
    },
    {
     "name": "stdout",
     "output_type": "stream",
     "text": [
      "epoch: 3, [batch: 5376 / 6720], examples_per_second: 3746.2804, train_label_loss: 0.9134, \n"
     ]
    },
    {
     "name": "stdout",
     "output_type": "stream",
     "text": [
      "epoch: 3, [batch: 6048 / 6720], examples_per_second: 3698.9709, train_label_loss: 0.8669, \n"
     ]
    },
    {
     "name": "stdout",
     "output_type": "stream",
     "text": [
      "=============================================================\n",
      "epoch: 3, source_val_acc_label: 0.7917, target_val_acc_label: 0.6716, source_val_label_loss: 0.5705, target_val_label_loss: 4.6183, \n",
      "=============================================================\n"
     ]
    },
    {
     "name": "stdout",
     "output_type": "stream",
     "text": [
      "epoch: 4, [batch: 1 / 6720], examples_per_second: 4.3737, train_label_loss: 0.5314, \n"
     ]
    },
    {
     "name": "stdout",
     "output_type": "stream",
     "text": [
      "epoch: 4, [batch: 672 / 6720], examples_per_second: 3740.6655, train_label_loss: 0.4767, \n"
     ]
    },
    {
     "name": "stdout",
     "output_type": "stream",
     "text": [
      "epoch: 4, [batch: 1344 / 6720], examples_per_second: 3774.6121, train_label_loss: 0.5201, \n"
     ]
    },
    {
     "name": "stdout",
     "output_type": "stream",
     "text": [
      "epoch: 4, [batch: 2016 / 6720], examples_per_second: 3753.3903, train_label_loss: 0.3460, \n"
     ]
    },
    {
     "name": "stdout",
     "output_type": "stream",
     "text": [
      "epoch: 4, [batch: 2688 / 6720], examples_per_second: 3738.2282, train_label_loss: 0.6222, \n"
     ]
    },
    {
     "name": "stdout",
     "output_type": "stream",
     "text": [
      "epoch: 4, [batch: 3360 / 6720], examples_per_second: 3778.5292, train_label_loss: 0.8819, \n"
     ]
    },
    {
     "name": "stdout",
     "output_type": "stream",
     "text": [
      "epoch: 4, [batch: 4032 / 6720], examples_per_second: 3765.4857, train_label_loss: 0.7153, \n"
     ]
    },
    {
     "name": "stdout",
     "output_type": "stream",
     "text": [
      "epoch: 4, [batch: 4704 / 6720], examples_per_second: 3753.9622, train_label_loss: 1.1469, \n"
     ]
    },
    {
     "name": "stdout",
     "output_type": "stream",
     "text": [
      "epoch: 4, [batch: 5376 / 6720], examples_per_second: 3735.3065, train_label_loss: 0.4840, \n"
     ]
    },
    {
     "name": "stdout",
     "output_type": "stream",
     "text": [
      "epoch: 4, [batch: 6048 / 6720], examples_per_second: 3778.2711, train_label_loss: 0.5268, \n"
     ]
    },
    {
     "name": "stdout",
     "output_type": "stream",
     "text": [
      "=============================================================\n",
      "epoch: 4, source_val_acc_label: 0.8328, target_val_acc_label: 0.6830, source_val_label_loss: 0.4622, target_val_label_loss: 4.3783, \n",
      "=============================================================\n"
     ]
    },
    {
     "name": "stdout",
     "output_type": "stream",
     "text": [
      "epoch: 5, [batch: 1 / 6720], examples_per_second: 4.3948, train_label_loss: 0.5424, \n"
     ]
    },
    {
     "name": "stdout",
     "output_type": "stream",
     "text": [
      "epoch: 5, [batch: 672 / 6720], examples_per_second: 3729.1575, train_label_loss: 0.5754, \n"
     ]
    },
    {
     "name": "stdout",
     "output_type": "stream",
     "text": [
      "epoch: 5, [batch: 1344 / 6720], examples_per_second: 3776.3857, train_label_loss: 0.3255, \n"
     ]
    },
    {
     "name": "stdout",
     "output_type": "stream",
     "text": [
      "epoch: 5, [batch: 2016 / 6720], examples_per_second: 3774.1821, train_label_loss: 0.3279, \n"
     ]
    },
    {
     "name": "stdout",
     "output_type": "stream",
     "text": [
      "epoch: 5, [batch: 2688 / 6720], examples_per_second: 3751.2259, train_label_loss: 0.3073, \n"
     ]
    },
    {
     "name": "stdout",
     "output_type": "stream",
     "text": [
      "epoch: 5, [batch: 3360 / 6720], examples_per_second: 3760.2704, train_label_loss: 0.4346, \n"
     ]
    },
    {
     "name": "stdout",
     "output_type": "stream",
     "text": [
      "epoch: 5, [batch: 4032 / 6720], examples_per_second: 3784.1557, train_label_loss: 0.2299, \n"
     ]
    },
    {
     "name": "stdout",
     "output_type": "stream",
     "text": [
      "epoch: 5, [batch: 4704 / 6720], examples_per_second: 3764.8050, train_label_loss: 0.3071, \n"
     ]
    },
    {
     "name": "stdout",
     "output_type": "stream",
     "text": [
      "epoch: 5, [batch: 5376 / 6720], examples_per_second: 3764.7961, train_label_loss: 0.2257, \n"
     ]
    },
    {
     "name": "stdout",
     "output_type": "stream",
     "text": [
      "epoch: 5, [batch: 6048 / 6720], examples_per_second: 3771.8621, train_label_loss: 0.5661, \n"
     ]
    },
    {
     "name": "stdout",
     "output_type": "stream",
     "text": [
      "=============================================================\n",
      "epoch: 5, source_val_acc_label: 0.8378, target_val_acc_label: 0.6491, source_val_label_loss: 0.4432, target_val_label_loss: 5.4933, \n",
      "=============================================================\n"
     ]
    },
    {
     "name": "stdout",
     "output_type": "stream",
     "text": [
      "epoch: 6, [batch: 1 / 6720], examples_per_second: 4.4202, train_label_loss: 0.8525, \n"
     ]
    },
    {
     "name": "stdout",
     "output_type": "stream",
     "text": [
      "epoch: 6, [batch: 672 / 6720], examples_per_second: 3653.3405, train_label_loss: 0.3433, \n"
     ]
    },
    {
     "name": "stdout",
     "output_type": "stream",
     "text": [
      "epoch: 6, [batch: 1344 / 6720], examples_per_second: 3724.3954, train_label_loss: 0.4094, \n"
     ]
    },
    {
     "name": "stdout",
     "output_type": "stream",
     "text": [
      "epoch: 6, [batch: 2016 / 6720], examples_per_second: 3643.0720, train_label_loss: 0.6271, \n"
     ]
    },
    {
     "name": "stdout",
     "output_type": "stream",
     "text": [
      "epoch: 6, [batch: 2688 / 6720], examples_per_second: 3718.0959, train_label_loss: 0.4576, \n"
     ]
    },
    {
     "name": "stdout",
     "output_type": "stream",
     "text": [
      "epoch: 6, [batch: 3360 / 6720], examples_per_second: 3728.5392, train_label_loss: 0.5216, \n"
     ]
    },
    {
     "name": "stdout",
     "output_type": "stream",
     "text": [
      "epoch: 6, [batch: 4032 / 6720], examples_per_second: 3677.2769, train_label_loss: 0.4162, \n"
     ]
    },
    {
     "name": "stdout",
     "output_type": "stream",
     "text": [
      "epoch: 6, [batch: 4704 / 6720], examples_per_second: 3662.9438, train_label_loss: 0.3827, \n"
     ]
    },
    {
     "name": "stdout",
     "output_type": "stream",
     "text": [
      "epoch: 6, [batch: 5376 / 6720], examples_per_second: 3733.3585, train_label_loss: 0.1077, \n"
     ]
    },
    {
     "name": "stdout",
     "output_type": "stream",
     "text": [
      "epoch: 6, [batch: 6048 / 6720], examples_per_second: 3736.1189, train_label_loss: 0.6210, \n"
     ]
    },
    {
     "name": "stdout",
     "output_type": "stream",
     "text": [
      "=============================================================\n",
      "epoch: 6, source_val_acc_label: 0.8416, target_val_acc_label: 0.6655, source_val_label_loss: 0.4353, target_val_label_loss: 4.9869, \n",
      "=============================================================\n"
     ]
    },
    {
     "name": "stdout",
     "output_type": "stream",
     "text": [
      "Patience (3) exhausted\n"
     ]
    }
   ],
   "source": [
    "###################################\n",
    "# train\n",
    "###################################\n",
    "jig = PTN_Train_Eval_Test_Jig(model, p.BEST_MODEL_PATH, p.device)\n",
    "\n",
    "jig.train(\n",
    "    train_iterable=datasets.source.processed.train,\n",
    "    source_val_iterable=datasets.source.processed.val,\n",
    "    target_val_iterable=datasets.target.processed.val,\n",
    "    num_epochs=p.n_epoch,\n",
    "    num_logs_per_epoch=p.NUM_LOGS_PER_EPOCH,\n",
    "    patience=p.patience,\n",
    "    optimizer=optimizer,\n",
    "    criteria_for_best=p.criteria_for_best,\n",
    ")"
   ]
  },
  {
   "cell_type": "code",
   "execution_count": 23,
   "id": "31e8fabf",
   "metadata": {
    "execution": {
     "iopub.execute_input": "2022-03-21T03:22:04.641631Z",
     "iopub.status.busy": "2022-03-21T03:22:04.641073Z",
     "iopub.status.idle": "2022-03-21T03:22:04.660526Z",
     "shell.execute_reply": "2022-03-21T03:22:04.660000Z"
    },
    "papermill": {
     "duration": 0.049088,
     "end_time": "2022-03-21T03:22:04.660634",
     "exception": false,
     "start_time": "2022-03-21T03:22:04.611546",
     "status": "completed"
    },
    "tags": []
   },
   "outputs": [],
   "source": [
    "total_experiment_time_secs = time.time() - start_time_secs"
   ]
  },
  {
   "cell_type": "code",
   "execution_count": 24,
   "id": "87b9595b",
   "metadata": {
    "execution": {
     "iopub.execute_input": "2022-03-21T03:22:04.726263Z",
     "iopub.status.busy": "2022-03-21T03:22:04.725696Z",
     "iopub.status.idle": "2022-03-21T03:24:29.326529Z",
     "shell.execute_reply": "2022-03-21T03:24:29.326908Z"
    },
    "papermill": {
     "duration": 144.634925,
     "end_time": "2022-03-21T03:24:29.327040",
     "exception": false,
     "start_time": "2022-03-21T03:22:04.692115",
     "status": "completed"
    },
    "tags": []
   },
   "outputs": [],
   "source": [
    "###################################\n",
    "# Evaluate the model\n",
    "###################################\n",
    "source_test_label_accuracy, source_test_label_loss = jig.test(datasets.source.processed.test)\n",
    "target_test_label_accuracy, target_test_label_loss = jig.test(datasets.target.processed.test)\n",
    "\n",
    "source_val_label_accuracy, source_val_label_loss = jig.test(datasets.source.processed.val)\n",
    "target_val_label_accuracy, target_val_label_loss = jig.test(datasets.target.processed.val)\n",
    "\n",
    "history = jig.get_history()\n",
    "\n",
    "total_epochs_trained = len(history[\"epoch_indices\"])\n",
    "\n",
    "val_dl = Iterable_Aggregator((datasets.source.original.val,datasets.target.original.val))\n",
    "\n",
    "confusion = ptn_confusion_by_domain_over_dataloader(model, p.device, val_dl)\n",
    "per_domain_accuracy = per_domain_accuracy_from_confusion(confusion)\n",
    "\n",
    "# Add a key to per_domain_accuracy for if it was a source domain\n",
    "for domain, accuracy in per_domain_accuracy.items():\n",
    "    per_domain_accuracy[domain] = {\n",
    "        \"accuracy\": accuracy,\n",
    "        \"source?\": domain in p.domains_source\n",
    "    }\n",
    "\n",
    "# Do an independent accuracy assesment JUST TO BE SURE!\n",
    "# _source_test_label_accuracy = independent_accuracy_assesment(model, datasets.source.processed.test, p.device)\n",
    "# _target_test_label_accuracy = independent_accuracy_assesment(model, datasets.target.processed.test, p.device)\n",
    "# _source_val_label_accuracy = independent_accuracy_assesment(model, datasets.source.processed.val, p.device)\n",
    "# _target_val_label_accuracy = independent_accuracy_assesment(model, datasets.target.processed.val, p.device)\n",
    "\n",
    "# assert(_source_test_label_accuracy == source_test_label_accuracy)\n",
    "# assert(_target_test_label_accuracy == target_test_label_accuracy)\n",
    "# assert(_source_val_label_accuracy == source_val_label_accuracy)\n",
    "# assert(_target_val_label_accuracy == target_val_label_accuracy)\n",
    "\n",
    "experiment = {\n",
    "    \"experiment_name\": p.experiment_name,\n",
    "    \"parameters\": dict(p),\n",
    "    \"results\": {\n",
    "        \"source_test_label_accuracy\": source_test_label_accuracy,\n",
    "        \"source_test_label_loss\": source_test_label_loss,\n",
    "        \"target_test_label_accuracy\": target_test_label_accuracy,\n",
    "        \"target_test_label_loss\": target_test_label_loss,\n",
    "        \"source_val_label_accuracy\": source_val_label_accuracy,\n",
    "        \"source_val_label_loss\": source_val_label_loss,\n",
    "        \"target_val_label_accuracy\": target_val_label_accuracy,\n",
    "        \"target_val_label_loss\": target_val_label_loss,\n",
    "        \"total_epochs_trained\": total_epochs_trained,\n",
    "        \"total_experiment_time_secs\": total_experiment_time_secs,\n",
    "        \"confusion\": confusion,\n",
    "        \"per_domain_accuracy\": per_domain_accuracy,\n",
    "    },\n",
    "    \"history\": history,\n",
    "    \"dataset_metrics\": get_dataset_metrics(datasets, \"ptn\"),\n",
    "}"
   ]
  },
  {
   "cell_type": "code",
   "execution_count": 25,
   "id": "54a21829",
   "metadata": {
    "execution": {
     "iopub.execute_input": "2022-03-21T03:24:29.390173Z",
     "iopub.status.busy": "2022-03-21T03:24:29.389676Z",
     "iopub.status.idle": "2022-03-21T03:24:29.516069Z",
     "shell.execute_reply": "2022-03-21T03:24:29.516486Z"
    },
    "papermill": {
     "duration": 0.156284,
     "end_time": "2022-03-21T03:24:29.516617",
     "exception": false,
     "start_time": "2022-03-21T03:24:29.360333",
     "status": "completed"
    },
    "tags": []
   },
   "outputs": [
    {
     "data": {
      "image/png": "[encoded data removed]",
      "text/plain": [
       "<Figure size 1080x504 with 1 Axes>"
      ]
     },
     "metadata": {
      "needs_background": "light"
     },
     "output_type": "display_data"
    }
   ],
   "source": [
    "ax = get_loss_curve(experiment)\n",
    "plt.show()"
   ]
  },
  {
   "cell_type": "code",
   "execution_count": 26,
   "id": "fd8a0f60",
   "metadata": {
    "execution": {
     "iopub.execute_input": "2022-03-21T03:24:29.582149Z",
     "iopub.status.busy": "2022-03-21T03:24:29.581835Z",
     "iopub.status.idle": "2022-03-21T03:24:29.725140Z",
     "shell.execute_reply": "2022-03-21T03:24:29.725562Z"
    },
    "papermill": {
     "duration": 0.175542,
     "end_time": "2022-03-21T03:24:29.725695",
     "exception": false,
     "start_time": "2022-03-21T03:24:29.550153",
     "status": "completed"
    },
    "tags": []
   },
   "outputs": [
    {
     "data": {
      "text/plain": [
       "<AxesSubplot:title={'center':'Results'}>"
      ]
     },
     "execution_count": 26,
     "metadata": {},
     "output_type": "execute_result"
    },
    {
     "data": {
      "image/png": "[encoded data removed]",
      "text/plain": [
       "<Figure size 1080x504 with 1 Axes>"
      ]
     },
     "metadata": {
      "needs_background": "light"
     },
     "output_type": "display_data"
    }
   ],
   "source": [
    "get_results_table(experiment)"
   ]
  },
  {
   "cell_type": "code",
   "execution_count": 27,
   "id": "cf8dc689",
   "metadata": {
    "execution": {
     "iopub.execute_input": "2022-03-21T03:24:29.794081Z",
     "iopub.status.busy": "2022-03-21T03:24:29.793695Z",
     "iopub.status.idle": "2022-03-21T03:24:29.941883Z",
     "shell.execute_reply": "2022-03-21T03:24:29.941599Z"
    },
    "papermill": {
     "duration": 0.180303,
     "end_time": "2022-03-21T03:24:29.941946",
     "exception": false,
     "start_time": "2022-03-21T03:24:29.761643",
     "status": "completed"
    },
    "tags": []
   },
   "outputs": [
    {
     "data": {
      "text/plain": [
       "<AxesSubplot:title={'center':'Per Domain Validation Accuracy'}, xlabel='domain'>"
      ]
     },
     "execution_count": 27,
     "metadata": {},
     "output_type": "execute_result"
    },
    {
     "data": {
      "image/png": "[encoded data removed]",
      "text/plain": [
       "<Figure size 1080x504 with 1 Axes>"
      ]
     },
     "metadata": {
      "needs_background": "light"
     },
     "output_type": "display_data"
    }
   ],
   "source": [
    "get_domain_accuracies(experiment)"
   ]
  },
  {
   "cell_type": "code",
   "execution_count": 28,
   "id": "a74ae082",
   "metadata": {
    "execution": {
     "iopub.execute_input": "2022-03-21T03:24:30.006760Z",
     "iopub.status.busy": "2022-03-21T03:24:30.006385Z",
     "iopub.status.idle": "2022-03-21T03:24:30.019273Z",
     "shell.execute_reply": "2022-03-21T03:24:30.019015Z"
    },
    "papermill": {
     "duration": 0.044602,
     "end_time": "2022-03-21T03:24:30.019335",
     "exception": false,
     "start_time": "2022-03-21T03:24:29.974733",
     "status": "completed"
    },
    "tags": []
   },
   "outputs": [
    {
     "name": "stdout",
     "output_type": "stream",
     "text": [
      "Source Test Label Accuracy: 0.7753255208333333 Target Test Label Accuracy: 0.6873653742595585\n",
      "Source Val Label Accuracy: 0.7740234375 Target Val Label Accuracy: 0.6909969829950631\n"
     ]
    }
   ],
   "source": [
    "print(\"Source Test Label Accuracy:\", experiment[\"results\"][\"source_test_label_accuracy\"], \"Target Test Label Accuracy:\", experiment[\"results\"][\"target_test_label_accuracy\"])\n",
    "print(\"Source Val Label Accuracy:\", experiment[\"results\"][\"source_val_label_accuracy\"], \"Target Val Label Accuracy:\", experiment[\"results\"][\"target_val_label_accuracy\"])"
   ]
  },
  {
   "cell_type": "code",
   "execution_count": 29,
   "id": "dacca602",
   "metadata": {
    "execution": {
     "iopub.execute_input": "2022-03-21T03:24:30.084862Z",
     "iopub.status.busy": "2022-03-21T03:24:30.084456Z",
     "iopub.status.idle": "2022-03-21T03:24:30.100744Z",
     "shell.execute_reply": "2022-03-21T03:24:30.100961Z"
    },
    "papermill": {
     "duration": 0.049564,
     "end_time": "2022-03-21T03:24:30.101040",
     "exception": false,
     "start_time": "2022-03-21T03:24:30.051476",
     "status": "completed"
    },
    "tags": [
     "experiment_json"
    ]
   },
   "outputs": [
    {
     "data": {
      "text/plain": [
       "'{\"experiment_name\": \"tl_3Av2:oracle.run1.framed -> cores+wisig\", \"parameters\": {\"experiment_name\": \"tl_3Av2:oracle.run1.framed -> cores+wisig\", \"device\": \"cuda\", \"lr\": 0.0001, \"x_shape\": [2, 200], \"n_shot\": 3, \"n_query\": 2, \"train_k_factor\": 3, \"val_k_factor\": 2, \"test_k_factor\": 2, \"torch_default_dtype\": \"torch.float32\", \"n_epoch\": 50, \"patience\": 3, \"criteria_for_best\": \"target_accuracy\", \"x_net\": [{\"class\": \"nnReshape\", \"kargs\": {\"shape\": [-1, 1, 2, 200]}}, {\"class\": \"Conv2d\", \"kargs\": {\"in_channels\": 1, \"out_channels\": 256, \"kernel_size\": [1, 7], \"bias\": false, \"padding\": [0, 3]}}, {\"class\": \"ReLU\", \"kargs\": {\"inplace\": true}}, {\"class\": \"BatchNorm2d\", \"kargs\": {\"num_features\": 256}}, {\"class\": \"Conv2d\", \"kargs\": {\"in_channels\": 256, \"out_channels\": 80, \"kernel_size\": [2, 7], \"bias\": true, \"padding\": [0, 3]}}, {\"class\": \"ReLU\", \"kargs\": {\"inplace\": true}}, {\"class\": \"BatchNorm2d\", \"kargs\": {\"num_features\": 80}}, {\"class\": \"Flatten\", \"kargs\": {}}, {\"class\": \"Linear\", \"kargs\": {\"in_features\": 16000, \"out_features\": 256}}, {\"class\": \"ReLU\", \"kargs\": {\"inplace\": true}}, {\"class\": \"BatchNorm1d\", \"kargs\": {\"num_features\": 256}}, {\"class\": \"Linear\", \"kargs\": {\"in_features\": 256, \"out_features\": 256}}], \"NUM_LOGS_PER_EPOCH\": 10, \"BEST_MODEL_PATH\": \"./best_model.pth\", \"n_way\": 16, \"datasets\": [{\"labels\": [\"1-10.\", \"1-11.\", \"1-15.\", \"1-16.\", \"1-17.\", \"1-18.\", \"1-19.\", \"10-4.\", \"10-7.\", \"11-1.\", \"11-14.\", \"11-17.\", \"11-20.\", \"11-7.\", \"13-20.\", \"13-8.\", \"14-10.\", \"14-11.\", \"14-14.\", \"14-7.\", \"15-1.\", \"15-20.\", \"16-1.\", \"16-16.\", \"17-10.\", \"17-11.\", \"17-2.\", \"19-1.\", \"19-16.\", \"19-19.\", \"19-20.\", \"19-3.\", \"2-10.\", \"2-11.\", \"2-17.\", \"2-18.\", \"2-20.\", \"2-3.\", \"2-4.\", \"2-5.\", \"2-6.\", \"2-7.\", \"2-8.\", \"3-13.\", \"3-18.\", \"3-3.\", \"4-1.\", \"4-10.\", \"4-11.\", \"4-19.\", \"5-5.\", \"6-15.\", \"7-10.\", \"7-14.\", \"8-18.\", \"8-20.\", \"8-3.\", \"8-8.\"], \"domains\": [1, 2, 3, 4, 5], \"num_examples_per_domain_per_label\": -1, \"pickle_path\": \"/mnt/wd500GB/CSC500/csc500-main/datasets/cores.stratified_ds.2022A.pkl\", \"source_or_target_dataset\": \"target\", \"x_transforms\": [\"unit_power\", \"take_200\"], \"episode_transforms\": [], \"domain_prefix\": \"C_\"}, {\"labels\": [\"1-10\", \"1-12\", \"1-14\", \"1-16\", \"1-18\", \"1-19\", \"1-8\", \"10-11\", \"10-17\", \"10-4\", \"10-7\", \"11-1\", \"11-10\", \"11-19\", \"11-20\", \"11-4\", \"11-7\", \"12-19\", \"12-20\", \"12-7\", \"13-14\", \"13-18\", \"13-19\", \"13-20\", \"13-3\", \"13-7\", \"14-10\", \"14-11\", \"14-12\", \"14-13\", \"14-14\", \"14-19\", \"14-20\", \"14-7\", \"14-8\", \"14-9\", \"15-1\", \"15-19\", \"15-6\", \"16-1\", \"16-16\", \"16-19\", \"16-20\", \"17-10\", \"17-11\", \"18-1\", \"18-10\", \"18-11\", \"18-12\", \"18-13\", \"18-14\", \"18-15\", \"18-16\", \"18-17\", \"18-19\", \"18-2\", \"18-20\", \"18-4\", \"18-5\", \"18-7\", \"18-8\", \"18-9\", \"19-1\", \"19-10\", \"19-11\", \"19-12\", \"19-13\", \"19-14\", \"19-15\", \"19-19\", \"19-2\", \"19-20\", \"19-3\", \"19-4\", \"19-6\", \"19-7\", \"19-8\", \"19-9\", \"2-1\", \"2-13\", \"2-15\", \"2-3\", \"2-4\", \"2-5\", \"2-6\", \"2-7\", \"2-8\", \"20-1\", \"20-12\", \"20-14\", \"20-15\", \"20-16\", \"20-18\", \"20-19\", \"20-20\", \"20-3\", \"20-4\", \"20-5\", \"20-7\", \"20-8\", \"3-1\", \"3-13\", \"3-18\", \"3-2\", \"3-8\", \"4-1\", \"4-10\", \"4-11\", \"5-1\", \"5-5\", \"6-1\", \"6-15\", \"6-6\", \"7-10\", \"7-11\", \"7-12\", \"7-13\", \"7-14\", \"7-7\", \"7-8\", \"7-9\", \"8-1\", \"8-13\", \"8-14\", \"8-18\", \"8-20\", \"8-3\", \"8-8\", \"9-1\", \"9-7\"], \"domains\": [1, 2, 3, 4], \"num_examples_per_domain_per_label\": -1, \"pickle_path\": \"/mnt/wd500GB/CSC500/csc500-main/datasets/wisig.node3-19.stratified_ds.2022A.pkl\", \"source_or_target_dataset\": \"target\", \"x_transforms\": [\"unit_power\", \"take_200\"], \"episode_transforms\": [], \"domain_prefix\": \"W_\"}, {\"labels\": [\"3123D52\", \"3123D65\", \"3123D79\", \"3123D80\", \"3123D54\", \"3123D70\", \"3123D7B\", \"3123D89\", \"3123D58\", \"3123D76\", \"3123D7D\", \"3123EFE\", \"3123D64\", \"3123D78\", \"3123D7E\", \"3124E4A\"], \"domains\": [32, 38, 8, 44, 14, 50, 20, 26], \"num_examples_per_domain_per_label\": 2000, \"pickle_path\": \"/mnt/wd500GB/CSC500/csc500-main/datasets/oracle.Run1_framed_2000Examples_stratified_ds.2022A.pkl\", \"source_or_target_dataset\": \"source\", \"x_transforms\": [\"unit_power\", \"take_200\", \"resample_20Msps_to_25Msps\"], \"episode_transforms\": [], \"domain_prefix\": \"O_\"}], \"seed\": 500, \"dataset_seed\": 500, \"domains_source\": [\"O_32\", \"O_38\", \"O_8\", \"O_44\", \"O_14\", \"O_50\", \"O_20\", \"O_26\"], \"domains_target\": [\"C_1\", \"C_2\", \"C_3\", \"C_4\", \"C_5\", \"W_1\", \"W_2\", \"W_3\", \"W_4\"]}, \"results\": {\"source_test_label_accuracy\": 0.7753255208333333, \"source_test_label_loss\": 0.6288703083992004, \"target_test_label_accuracy\": 0.6873653742595585, \"target_test_label_loss\": 4.133462429046631, \"source_val_label_accuracy\": 0.7740234375, \"source_val_label_loss\": 0.6235621571540833, \"target_val_label_accuracy\": 0.6909969829950631, \"target_val_label_loss\": 4.123614311218262, \"total_epochs_trained\": 6, \"total_experiment_time_secs\": 1075.0190253257751, \"confusion\": {\"O_50\": {\"7\": {\"6\": 11, \"7\": 167, \"10\": 12, \"5\": 13, \"13\": 36, \"4\": 1}, \"10\": {\"10\": 225, \"7\": 3, \"8\": 6, \"0\": 2, \"13\": 4}, \"0\": {\"0\": 205, \"10\": 12, \"2\": 22, \"6\": 1}, \"11\": {\"11\": 218, \"14\": 1, \"15\": 12, \"9\": 8, \"4\": 1}, \"2\": {\"2\": 218, \"0\": 22}, \"14\": {\"14\": 235, \"11\": 5}, \"9\": {\"11\": 11, \"9\": 214, \"12\": 15}, \"13\": {\"7\": 19, \"13\": 174, \"10\": 11, \"5\": 24, \"6\": 11, \"0\": 1}, \"8\": {\"8\": 234, \"3\": 1, \"10\": 5}, \"15\": {\"15\": 188, \"1\": 23, \"6\": 7, \"4\": 18, \"11\": 4}, \"4\": {\"4\": 123, \"1\": 29, \"15\": 35, \"13\": 5, \"5\": 35, \"6\": 5, \"7\": 8}, \"5\": {\"5\": 114, \"4\": 21, \"7\": 34, \"13\": 37, \"1\": 19, \"15\": 2, \"6\": 9, \"0\": 1, \"10\": 3}, \"3\": {\"3\": 239, \"8\": 1}, \"1\": {\"1\": 159, \"15\": 41, \"4\": 20, \"6\": 12, \"5\": 6, \"2\": 1, \"11\": 1}, \"6\": {\"6\": 193, \"4\": 10, \"13\": 18, \"1\": 6, \"5\": 8, \"2\": 2, \"15\": 2, \"7\": 1}, \"12\": {\"12\": 218, \"11\": 7, \"14\": 3, \"9\": 12}}, \"O_14\": {\"14\": {\"6\": 3, \"13\": 19, \"2\": 27, \"14\": 189, \"3\": 2}, \"6\": {\"6\": 173, \"13\": 54, \"14\": 7, \"2\": 6}, \"5\": {\"4\": 44, \"1\": 32, \"5\": 150, \"14\": 1, \"2\": 11, \"3\": 2}, \"15\": {\"15\": 237, \"7\": 3}, \"11\": {\"11\": 219, \"9\": 19, \"0\": 2}, \"8\": {\"8\": 240}, \"12\": {\"12\": 240}, \"1\": {\"1\": 211, \"5\": 28, \"4\": 1}, \"2\": {\"2\": 129, \"6\": 15, \"5\": 25, \"14\": 44, \"13\": 13, \"4\": 7, \"3\": 7}, \"13\": {\"13\": 100, \"6\": 69, \"14\": 50, \"2\": 15, \"5\": 5, \"4\": 1}, \"3\": {\"3\": 226, \"4\": 8, \"2\": 2, \"13\": 1, \"14\": 3}, \"0\": {\"0\": 228, \"11\": 2, \"14\": 1, \"10\": 7, \"3\": 1, \"8\": 1}, \"9\": {\"9\": 240}, \"4\": {\"4\": 200, \"5\": 29, \"13\": 1, \"2\": 3, \"1\": 5, \"3\": 2}, \"7\": {\"7\": 239, \"15\": 1}, \"10\": {\"10\": 239, \"0\": 1}}, \"O_32\": {\"4\": {\"4\": 152, \"13\": 9, \"2\": 50, \"5\": 6, \"7\": 21, \"0\": 1, \"8\": 1}, \"14\": {\"14\": 120, \"11\": 70, \"0\": 9, \"7\": 23, \"8\": 6, \"3\": 4, \"4\": 1, \"13\": 3, \"5\": 4}, \"5\": {\"5\": 96, \"7\": 50, \"13\": 36, \"4\": 17, \"3\": 18, \"2\": 2, \"14\": 8, \"0\": 4, \"8\": 7, \"11\": 2}, \"10\": {\"10\": 239, \"1\": 1}, \"13\": {\"5\": 29, \"13\": 153, \"8\": 13, \"11\": 3, \"7\": 18, \"3\": 12, \"4\": 7, \"14\": 1, \"0\": 3, \"2\": 1}, \"9\": {\"9\": 240}, \"6\": {\"6\": 240}, \"3\": {\"3\": 227, \"13\": 6, \"11\": 1, \"5\": 6}, \"15\": {\"15\": 240}, \"7\": {\"7\": 162, \"5\": 26, \"4\": 14, \"2\": 4, \"14\": 18, \"11\": 8, \"13\": 8}, \"12\": {\"12\": 240}, \"8\": {\"8\": 182, \"0\": 21, \"13\": 20, \"5\": 8, \"7\": 1, \"3\": 7, \"14\": 1}, \"11\": {\"11\": 207, \"14\": 26, \"5\": 1, \"7\": 2, \"3\": 3, \"13\": 1}, \"2\": {\"2\": 180, \"4\": 53, \"0\": 1, \"7\": 5, \"5\": 1}, \"1\": {\"1\": 240}, \"0\": {\"0\": 190, \"5\": 4, \"14\": 9, \"13\": 4, \"8\": 25, \"7\": 6, \"4\": 2}}, \"O_44\": {\"8\": {\"0\": 84, \"8\": 140, \"5\": 5, \"15\": 11}, \"11\": {\"11\": 225, \"13\": 11, \"6\": 4}, \"14\": {\"14\": 152, \"4\": 70, \"5\": 4, \"15\": 14}, \"10\": {\"10\": 183, \"1\": 25, \"12\": 9, \"2\": 20, \"7\": 3}, \"3\": {\"3\": 227, \"1\": 7, \"12\": 5, \"2\": 1}, \"15\": {\"15\": 187, \"0\": 16, \"14\": 22, \"5\": 11, \"4\": 1, \"8\": 3}, \"2\": {\"7\": 31, \"2\": 180, \"6\": 1, \"1\": 10, \"10\": 15, \"3\": 2, \"9\": 1}, \"12\": {\"12\": 199, \"1\": 32, \"3\": 1, \"10\": 8}, \"4\": {\"4\": 155, \"14\": 76, \"15\": 5, \"13\": 3, \"9\": 1}, \"1\": {\"1\": 145, \"12\": 55, \"10\": 18, \"3\": 14, \"2\": 7, \"7\": 1}, \"0\": {\"0\": 148, \"8\": 67, \"5\": 12, \"15\": 13}, \"9\": {\"13\": 22, \"9\": 117, \"7\": 73, \"6\": 26, \"2\": 2}, \"5\": {\"5\": 173, \"0\": 26, \"8\": 9, \"14\": 13, \"15\": 15, \"4\": 4}, \"6\": {\"13\": 39, \"6\": 163, \"9\": 23, \"7\": 12, \"2\": 1, \"11\": 2}, \"7\": {\"2\": 35, \"9\": 52, \"7\": 145, \"10\": 1, \"6\": 5, \"3\": 1, \"1\": 1}, \"13\": {\"13\": 157, \"9\": 32, \"6\": 46, \"7\": 3, \"11\": 2}}, \"O_8\": {\"13\": {\"13\": 96, \"4\": 37, \"6\": 11, \"0\": 54, \"10\": 23, \"14\": 19}, \"3\": {\"3\": 234, \"2\": 3, \"12\": 3}, \"15\": {\"3\": 2, \"15\": 207, \"12\": 28, \"8\": 3}, \"4\": {\"4\": 181, \"13\": 37, \"14\": 13, \"6\": 7, \"0\": 2}, \"7\": {\"7\": 199, \"6\": 37, \"0\": 4}, \"2\": {\"2\": 218, \"3\": 16, \"7\": 5, \"12\": 1}, \"1\": {\"1\": 222, \"11\": 15, \"14\": 3}, \"0\": {\"0\": 206, \"13\": 22, \"14\": 2, \"7\": 1, \"6\": 4, \"4\": 5}, \"12\": {\"12\": 151, \"3\": 21, \"15\": 67, \"8\": 1}, \"6\": {\"4\": 19, \"7\": 32, \"6\": 181, \"13\": 5, \"0\": 3}, \"11\": {\"11\": 194, \"1\": 45, \"5\": 1}, \"9\": {\"9\": 240}, \"5\": {\"5\": 226, \"14\": 1, \"10\": 10, \"1\": 3}, \"10\": {\"10\": 191, \"14\": 36, \"13\": 10, \"4\": 3}, \"14\": {\"14\": 166, \"10\": 29, \"4\": 26, \"13\": 14, \"1\": 5}, \"8\": {\"8\": 236, \"15\": 4}}, \"O_20\": {\"6\": {\"6\": 225, \"14\": 13, \"7\": 1, \"8\": 1}, \"11\": {\"11\": 240}, \"5\": {\"5\": 164, \"15\": 7, \"1\": 17, \"0\": 31, \"3\": 5, \"2\": 2, \"9\": 1, \"12\": 12, \"4\": 1}, \"14\": {\"14\": 226, \"6\": 11, \"10\": 2, \"8\": 1}, \"2\": {\"2\": 123, \"13\": 15, \"9\": 61, \"12\": 11, \"3\": 9, \"7\": 21}, \"7\": {\"2\": 24, \"7\": 209, \"9\": 3, \"8\": 4}, \"3\": {\"12\": 43, \"3\": 144, \"2\": 5, \"9\": 32, \"4\": 7, \"7\": 5, \"5\": 3, \"8\": 1}, \"4\": {\"4\": 209, \"3\": 7, \"8\": 23, \"7\": 1}, \"9\": {\"9\": 125, \"3\": 39, \"13\": 4, \"2\": 53, \"7\": 5, \"12\": 13, \"1\": 1}, \"12\": {\"3\": 37, \"1\": 40, \"5\": 22, \"9\": 20, \"12\": 112, \"2\": 8, \"13\": 1}, \"0\": {\"5\": 42, \"15\": 54, \"0\": 134, \"13\": 3, \"1\": 7}, \"10\": {\"10\": 234, \"14\": 4, \"4\": 2}, \"8\": {\"8\": 206, \"4\": 20, \"7\": 9, \"14\": 5}, \"13\": {\"13\": 225, \"7\": 1, \"2\": 9, \"9\": 1, \"15\": 3, \"1\": 1}, \"1\": {\"1\": 151, \"12\": 39, \"5\": 24, \"0\": 7, \"15\": 15, \"9\": 2, \"13\": 2}, \"15\": {\"15\": 173, \"0\": 32, \"5\": 5, \"1\": 25, \"12\": 2, \"13\": 3}}, \"O_38\": {\"3\": {\"3\": 220, \"9\": 9, \"0\": 6, \"7\": 3, \"5\": 2}, \"8\": {\"5\": 38, \"8\": 163, \"7\": 9, \"15\": 7, \"0\": 15, \"10\": 5, \"13\": 3}, \"0\": {\"8\": 51, \"0\": 130, \"7\": 32, \"10\": 8, \"3\": 10, \"5\": 8, \"13\": 1}, \"2\": {\"14\": 21, \"2\": 218, \"13\": 1}, \"4\": {\"4\": 232, \"12\": 8}, \"7\": {\"7\": 193, \"5\": 26, \"8\": 9, \"0\": 12}, \"12\": {\"12\": 236, \"4\": 4}, \"6\": {\"6\": 229, \"9\": 10, \"5\": 1}, \"15\": {\"15\": 177, \"13\": 18, \"8\": 10, \"1\": 32, \"5\": 2, \"10\": 1}, \"11\": {\"11\": 213, \"10\": 2, \"14\": 19, \"4\": 3, \"0\": 1, \"12\": 1, \"3\": 1}, \"9\": {\"9\": 208, \"6\": 25, \"5\": 4, \"8\": 1, \"3\": 2}, \"14\": {\"11\": 7, \"14\": 219, \"2\": 11, \"12\": 2, \"10\": 1}, \"10\": {\"10\": 189, \"7\": 8, \"0\": 14, \"8\": 10, \"14\": 4, \"13\": 8, \"4\": 5, \"11\": 1, \"12\": 1}, \"5\": {\"5\": 118, \"8\": 57, \"7\": 32, \"6\": 11, \"15\": 11, \"9\": 4, \"10\": 1, \"13\": 1, \"0\": 4, \"1\": 1}, \"1\": {\"1\": 234, \"15\": 6}, \"13\": {\"10\": 16, \"13\": 183, \"8\": 5, \"15\": 23, \"1\": 2, \"2\": 8, \"0\": 3}}, \"O_26\": {\"5\": {\"5\": 170, \"13\": 28, \"2\": 22, \"9\": 5, \"15\": 13, \"7\": 1, \"3\": 1}, \"8\": {\"8\": 121, \"14\": 2, \"4\": 30, \"15\": 7, \"10\": 43, \"0\": 13, \"7\": 14, \"2\": 4, \"9\": 3, \"6\": 3}, \"4\": {\"4\": 108, \"10\": 16, \"7\": 13, \"14\": 55, \"0\": 18, \"1\": 16, \"8\": 14}, \"12\": {\"12\": 240}, \"6\": {\"6\": 197, \"10\": 13, \"8\": 1, \"15\": 4, \"9\": 22, \"0\": 3}, \"7\": {\"3\": 37, \"2\": 16, \"7\": 152, \"4\": 21, \"8\": 11, \"14\": 3}, \"10\": {\"10\": 96, \"0\": 65, \"15\": 2, \"6\": 9, \"8\": 45, \"4\": 7, \"14\": 12, \"1\": 3, \"7\": 1}, \"0\": {\"4\": 28, \"0\": 92, \"10\": 51, \"14\": 49, \"8\": 14, \"7\": 6}, \"15\": {\"15\": 107, \"13\": 14, \"9\": 85, \"5\": 8, \"6\": 8, \"8\": 7, \"0\": 1, \"2\": 6, \"3\": 1, \"7\": 2, \"10\": 1}, \"9\": {\"6\": 20, \"15\": 78, \"9\": 114, \"13\": 11, \"8\": 8, \"2\": 2, \"10\": 3, \"0\": 1, \"7\": 1, \"5\": 2}, \"11\": {\"11\": 239, \"12\": 1}, \"14\": {\"4\": 53, \"14\": 118, \"1\": 26, \"8\": 4, \"0\": 28, \"10\": 9, \"7\": 2}, \"2\": {\"2\": 103, \"7\": 17, \"8\": 6, \"5\": 18, \"3\": 79, \"15\": 13, \"13\": 2, \"9\": 1, \"4\": 1}, \"13\": {\"5\": 43, \"13\": 169, \"9\": 16, \"15\": 9, \"2\": 2, \"6\": 1}, \"3\": {\"3\": 175, \"7\": 22, \"2\": 42, \"5\": 1}, \"1\": {\"4\": 19, \"1\": 179, \"10\": 2, \"14\": 32, \"7\": 4, \"0\": 1, \"8\": 3}}, \"W_3\": {\"99\": {\"65\": 1, \"99\": 22, \"5\": 1, \"42\": 1, \"25\": 1, \"128\": 1, \"108\": 3, \"98\": 2, \"97\": 1, \"3\": 1, \"10\": 2}, \"8\": {\"99\": 2, \"106\": 3, \"8\": 57, \"72\": 1, \"73\": 1, \"10\": 13, \"3\": 6, \"110\": 1, \"108\": 11, \"98\": 2, \"5\": 3, \"0\": 4, \"12\": 4, \"114\": 3, \"111\": 2, \"71\": 1, \"103\": 1, \"7\": 7, \"30\": 1, \"70\": 1}, \"65\": {\"18\": 1, \"65\": 7, \"110\": 1, \"48\": 1, \"49\": 2}, \"117\": {\"117\": 67, \"18\": 13, \"26\": 14, \"126\": 2, \"39\": 8, \"102\": 3, \"113\": 1, \"14\": 1, \"118\": 1, \"109\": 2}, \"18\": {\"18\": 96, \"117\": 11, \"26\": 9, \"113\": 2, \"88\": 2, \"2\": 1, \"81\": 1, \"126\": 2}, \"39\": {\"18\": 8, \"39\": 60, \"23\": 1, \"76\": 1, \"2\": 3, \"21\": 3, \"122\": 1, \"126\": 5, \"102\": 1, \"117\": 3, \"109\": 4, \"118\": 3, \"113\": 8, \"67\": 1, \"40\": 2, \"93\": 2, \"88\": 2}, \"102\": {\"39\": 3, \"102\": 87, \"62\": 3, \"118\": 7, \"16\": 4, \"11\": 1, \"69\": 8, \"117\": 2, \"119\": 2, \"109\": 1, \"14\": 1, \"93\": 3, \"107\": 1, \"33\": 1}, \"76\": {\"11\": 1, \"76\": 13, \"109\": 1, \"33\": 1}, \"101\": {\"101\": 18, \"42\": 1, \"103\": 1, \"27\": 1, \"7\": 12, \"99\": 1, \"127\": 2, \"77\": 2, \"12\": 2, \"3\": 1, \"43\": 1, \"30\": 1, \"72\": 1, \"0\": 1, \"111\": 4, \"73\": 2, \"117\": 1}, \"57\": {\"57\": 20}, \"86\": {\"86\": 10, \"122\": 1, \"114\": 2, \"1\": 3, \"110\": 1, \"29\": 1, \"108\": 2, \"85\": 4, \"120\": 1, \"5\": 1, \"9\": 2}, \"11\": {\"11\": 48, \"23\": 1, \"14\": 7, \"96\": 1, \"88\": 6, \"40\": 1, \"43\": 4, \"70\": 2, \"122\": 2, \"44\": 1, \"113\": 4, \"18\": 2, \"32\": 1, \"87\": 2, \"109\": 6, \"62\": 4, \"84\": 4, \"16\": 10, \"107\": 4, \"93\": 8, \"69\": 1, \"8\": 1, \"33\": 3, \"108\": 2, \"31\": 1, \"92\": 2, \"67\": 1, \"7\": 2, \"118\": 1}, \"98\": {\"98\": 96, \"49\": 1, \"30\": 6, \"6\": 1, \"0\": 13, \"10\": 1, \"83\": 2, \"24\": 1, \"72\": 1, \"106\": 1, \"36\": 2, \"8\": 1, \"90\": 1, \"73\": 1}, \"42\": {\"65\": 1, \"47\": 1, \"15\": 2, \"42\": 6, \"30\": 2, \"49\": 2, \"106\": 2, \"85\": 1, \"3\": 1, \"124\": 1, \"70\": 1, \"111\": 1, \"112\": 2, \"0\": 1, \"103\": 1, \"7\": 2, \"10\": 1}, \"47\": {\"47\": 6, \"66\": 2, \"85\": 1, \"127\": 1, \"71\": 2}, \"49\": {\"99\": 2, \"42\": 2, \"128\": 2, \"49\": 10, \"71\": 2, \"83\": 1, \"29\": 1, \"51\": 2, \"31\": 1, \"103\": 1}, \"111\": {\"73\": 5, \"105\": 2, \"111\": 90, \"106\": 7, \"30\": 3, \"12\": 8, \"15\": 2, \"0\": 4, \"8\": 3, \"3\": 2, \"26\": 1, \"1\": 1, \"97\": 1, \"7\": 1, \"44\": 1, \"125\": 1}, \"36\": {\"36\": 69, \"35\": 1, \"125\": 12, \"94\": 4, \"0\": 6, \"27\": 4, \"106\": 5, \"15\": 5, \"7\": 2, \"12\": 2, \"98\": 1, \"105\": 1, \"111\": 3, \"101\": 1}, \"124\": {\"124\": 62, \"93\": 3, \"50\": 1, \"11\": 1, \"82\": 2, \"129\": 3, \"110\": 2, \"40\": 6, \"5\": 3, \"4\": 2, \"1\": 1, \"107\": 3, \"114\": 1, \"84\": 2, \"105\": 2, \"62\": 2, \"109\": 2, \"33\": 1, \"72\": 1, \"86\": 1, \"69\": 1, \"19\": 1, \"90\": 1, \"108\": 1, \"87\": 1}, \"122\": {\"93\": 4, \"99\": 3, \"110\": 1, \"122\": 20, \"96\": 1, \"100\": 1, \"5\": 2, \"33\": 1, \"127\": 1, \"114\": 1, \"87\": 1, \"40\": 3, \"90\": 1, \"16\": 1, \"70\": 1, \"109\": 2, \"84\": 1, \"107\": 2, \"129\": 2, \"105\": 2, \"10\": 2, \"85\": 2, \"4\": 1, \"11\": 3, \"43\": 1}, \"93\": {\"92\": 2, \"93\": 69, \"13\": 1, \"118\": 5, \"43\": 1, \"16\": 13, \"39\": 1, \"33\": 10, \"109\": 7, \"14\": 2, \"84\": 5, \"62\": 3, \"122\": 1, \"113\": 6, \"11\": 7, \"102\": 3, \"87\": 1, \"80\": 1, \"29\": 1, \"21\": 1, \"88\": 2}, \"89\": {\"89\": 19, \"69\": 4, \"18\": 1, \"26\": 1, \"113\": 1, \"62\": 1, \"17\": 1}, \"51\": {\"51\": 16}, \"73\": {\"111\": 3, \"73\": 27, \"6\": 1, \"7\": 2, \"8\": 1, \"12\": 1, \"0\": 2, \"30\": 1, \"70\": 1, \"106\": 1}, \"45\": {\"69\": 4, \"82\": 2, \"45\": 10}, \"5\": {\"1\": 3, \"5\": 65, \"113\": 3, \"68\": 1, \"19\": 2, \"127\": 10, \"71\": 7, \"4\": 4, \"122\": 2, \"10\": 1, \"108\": 2, \"88\": 1, \"11\": 1, \"105\": 5, \"3\": 1, \"87\": 1, \"114\": 2, \"109\": 1}, \"69\": {\"69\": 61, \"102\": 5, \"67\": 1, \"62\": 1, \"84\": 1, \"26\": 2, \"118\": 6, \"113\": 1, \"126\": 1, \"107\": 1, \"109\": 3, \"16\": 1}, \"26\": {\"26\": 106, \"18\": 4, \"67\": 2, \"39\": 2, \"113\": 6, \"117\": 8, \"102\": 2}, \"1\": {\"86\": 3, \"1\": 48, \"114\": 16, \"71\": 2, \"105\": 8, \"16\": 2, \"127\": 3, \"40\": 4, \"32\": 2, \"110\": 4, \"122\": 1, \"87\": 1, \"109\": 1, \"85\": 1, \"43\": 1, \"5\": 4, \"46\": 1, \"88\": 1, \"9\": 2, \"33\": 1, \"21\": 1, \"8\": 1}, \"92\": {\"92\": 19, \"122\": 1, \"33\": 2, \"11\": 5, \"120\": 2, \"96\": 2, \"64\": 1}, \"96\": {\"96\": 12, \"86\": 1, \"93\": 1, \"11\": 1, \"64\": 1, \"33\": 1, \"113\": 1, \"92\": 2}, \"85\": {\"85\": 18, \"1\": 3, \"108\": 1, \"29\": 1, \"128\": 1, \"127\": 2, \"105\": 2, \"5\": 1, \"9\": 1, \"4\": 1, \"129\": 1, \"8\": 2, \"110\": 1, \"101\": 1}, \"114\": {\"1\": 6, \"114\": 94, \"105\": 10, \"74\": 1, \"110\": 3, \"4\": 4, \"87\": 1, \"40\": 3, \"108\": 1, \"46\": 1, \"19\": 1, \"93\": 1}, \"50\": {\"50\": 9, \"43\": 2, \"109\": 2, \"115\": 1, \"40\": 2}, \"81\": {\"81\": 26, \"63\": 1, \"26\": 1, \"121\": 1, \"126\": 2, \"18\": 1}, \"2\": {\"2\": 15, \"70\": 1, \"1\": 1, \"109\": 2, \"69\": 1, \"43\": 1, \"14\": 3, \"102\": 1, \"67\": 1, \"117\": 2}, \"33\": {\"33\": 120, \"118\": 2, \"16\": 2, \"67\": 1, \"93\": 4, \"109\": 1, \"14\": 5, \"107\": 1, \"62\": 3, \"84\": 2, \"21\": 1, \"102\": 2, \"11\": 1, \"113\": 1}, \"31\": {\"31\": 19, \"80\": 1}, \"90\": {\"31\": 1, \"90\": 92, \"87\": 3, \"114\": 1, \"88\": 4, \"108\": 5, \"5\": 1, \"107\": 1, \"26\": 1, \"93\": 2, \"29\": 1, \"44\": 2, \"84\": 1, \"110\": 1, \"40\": 1, \"10\": 1}, \"17\": {\"85\": 2, \"11\": 1, \"120\": 1, \"63\": 2, \"17\": 2, \"88\": 1, \"31\": 1, \"29\": 1, \"102\": 1, \"105\": 1, \"18\": 1, \"23\": 1, \"110\": 1}, \"116\": {\"50\": 2, \"116\": 12, \"84\": 2, \"29\": 1, \"23\": 1, \"33\": 1, \"43\": 1, \"4\": 1, \"119\": 2, \"96\": 1, \"45\": 1, \"89\": 1, \"60\": 2}, \"91\": {\"98\": 1, \"91\": 7, \"70\": 1, \"37\": 1, \"6\": 3, \"12\": 2, \"24\": 2, \"95\": 1, \"31\": 1, \"0\": 1, \"97\": 1, \"10\": 1, \"34\": 1, \"8\": 1}, \"120\": {\"120\": 19, \"16\": 1}, \"128\": {\"128\": 14, \"70\": 2, \"68\": 1, \"87\": 1, \"5\": 2, \"88\": 1, \"110\": 1, \"108\": 3, \"44\": 1, \"10\": 1, \"1\": 1, \"28\": 1, \"114\": 1, \"8\": 1, \"19\": 1}, \"78\": {\"128\": 1, \"120\": 1, \"78\": 2, \"40\": 3, \"113\": 3, \"105\": 2, \"9\": 1, \"87\": 1, \"39\": 1, \"65\": 1}, \"58\": {\"15\": 2, \"58\": 10, \"30\": 1, \"65\": 1, \"99\": 1, \"72\": 1}, \"23\": {\"128\": 1, \"120\": 1, \"24\": 1, \"68\": 1, \"39\": 1, \"42\": 2, \"44\": 1, \"91\": 1, \"117\": 3, \"88\": 2, \"23\": 1, \"126\": 3, \"81\": 1, \"127\": 1, \"123\": 2, \"118\": 1, \"17\": 2, \"1\": 1, \"112\": 1, \"21\": 1, \"95\": 1, \"114\": 1, \"30\": 1, \"113\": 1}, \"15\": {\"15\": 68, \"97\": 1, \"6\": 3, \"106\": 4, \"93\": 1, \"7\": 1, \"83\": 2, \"24\": 1, \"98\": 4, \"94\": 4, \"27\": 1, \"36\": 3, \"111\": 2, \"12\": 3, \"30\": 1, \"73\": 3, \"21\": 1, \"125\": 1}, \"74\": {\"74\": 16}, \"34\": {\"34\": 8, \"15\": 2, \"19\": 1, \"52\": 2, \"6\": 5, \"25\": 1, \"100\": 1, \"27\": 1, \"24\": 1, \"122\": 1, \"110\": 1, \"22\": 1, \"43\": 1, \"53\": 1, \"11\": 1, \"45\": 1, \"115\": 1, \"129\": 1, \"94\": 1}, \"103\": {\"103\": 15, \"49\": 1}, \"106\": {\"15\": 10, \"106\": 48, \"56\": 1, \"27\": 5, \"42\": 2, \"73\": 1, \"8\": 1, \"36\": 3, \"3\": 2, \"111\": 7, \"7\": 4, \"30\": 2, \"98\": 4, \"0\": 5, \"127\": 1, \"97\": 2, \"1\": 1, \"125\": 1}, \"44\": {\"128\": 2, \"44\": 66, \"60\": 1, \"90\": 1, \"122\": 1, \"1\": 1}, \"9\": {\"128\": 2, \"105\": 3, \"9\": 12, \"86\": 2, \"29\": 2, \"99\": 1, \"1\": 3, \"127\": 1, \"80\": 3, \"122\": 3}, \"97\": {\"97\": 12, \"106\": 1, \"52\": 1, \"15\": 1, \"12\": 1, \"111\": 1, \"24\": 1, \"10\": 1, \"98\": 1}, \"123\": {\"123\": 8, \"63\": 2, \"37\": 1, \"93\": 2, \"83\": 1, \"33\": 1, \"23\": 1}, \"6\": {\"15\": 4, \"6\": 19, \"27\": 1, \"25\": 1, \"90\": 1, \"37\": 1, \"98\": 2, \"106\": 2, \"125\": 1}, \"68\": {\"68\": 9, \"19\": 2, \"77\": 1, \"127\": 3, \"71\": 1}, \"24\": {\"24\": 8, \"6\": 1, \"37\": 1, \"49\": 1, \"15\": 2, \"7\": 2, \"27\": 1, \"128\": 1, \"30\": 5, \"83\": 3, \"127\": 2, \"99\": 2, \"94\": 3, \"98\": 1, \"108\": 1, \"36\": 5, \"34\": 1, \"97\": 2, \"25\": 1, \"35\": 1, \"59\": 1, \"12\": 1, \"42\": 1, \"8\": 1}, \"21\": {\"21\": 40, \"11\": 2, \"41\": 1, \"31\": 1, \"30\": 1, \"70\": 1, \"43\": 1, \"90\": 1}, \"83\": {\"83\": 21, \"118\": 1, \"15\": 1, \"61\": 1}, \"60\": {\"60\": 8, \"87\": 1, \"77\": 1, \"62\": 1, \"38\": 3, \"85\": 1, \"124\": 1, \"82\": 1, \"66\": 1, \"86\": 1, \"48\": 1, \"70\": 1, \"110\": 1, \"20\": 1, \"109\": 2, \"107\": 1, \"1\": 1, \"116\": 1}, \"87\": {\"87\": 41, \"128\": 1, \"19\": 1, \"105\": 5, \"99\": 1, \"70\": 4, \"114\": 6, \"44\": 2, \"40\": 12, \"32\": 2, \"84\": 3, \"88\": 5, \"43\": 1, \"90\": 3, \"16\": 2, \"1\": 4, \"107\": 6, \"33\": 3, \"11\": 2, \"74\": 1, \"78\": 2, \"28\": 1, \"93\": 4, \"29\": 1, \"109\": 2, \"122\": 1, \"110\": 2, \"5\": 1, \"102\": 1}, \"30\": {\"30\": 33, \"98\": 4, \"83\": 1, \"99\": 1, \"18\": 1, \"106\": 2, \"58\": 1, \"3\": 2, \"109\": 1, \"108\": 2, \"15\": 5, \"7\": 6, \"111\": 6, \"124\": 1, \"0\": 2, \"72\": 1, \"31\": 1, \"8\": 3, \"12\": 1, \"73\": 1, \"94\": 3, \"101\": 3, \"26\": 1, \"125\": 1, \"71\": 1}, \"43\": {\"115\": 2, \"118\": 2, \"40\": 1, \"43\": 23, \"50\": 1, \"13\": 3, \"62\": 1, \"14\": 6, \"16\": 2, \"21\": 3, \"102\": 1, \"109\": 3, \"84\": 1, \"107\": 1, \"33\": 2, \"70\": 1, \"39\": 2, \"90\": 1}, \"115\": {\"115\": 12, \"105\": 1, \"43\": 1, \"50\": 1, \"69\": 1}, \"40\": {\"40\": 78, \"100\": 2, \"9\": 1, \"84\": 3, \"87\": 3, \"4\": 1, \"32\": 2, \"62\": 2, \"107\": 11, \"11\": 2, \"1\": 1, \"109\": 1, \"102\": 1, \"105\": 2, \"33\": 2, \"79\": 1, \"55\": 2, \"82\": 1, \"122\": 1, \"110\": 2, \"114\": 1}, \"112\": {\"112\": 11, \"95\": 1, \"77\": 1, \"91\": 1, \"12\": 1, \"59\": 1}, \"66\": {\"66\": 10, \"20\": 1, \"45\": 2, \"124\": 1, \"110\": 1, \"55\": 1}, \"110\": {\"47\": 1, \"110\": 30, \"50\": 3, \"74\": 1, \"129\": 1, \"114\": 8, \"66\": 1, \"92\": 1, \"105\": 3, \"9\": 1, \"4\": 5, \"85\": 1, \"84\": 4, \"43\": 2, \"93\": 1, \"87\": 1, \"62\": 2, \"122\": 2, \"49\": 3, \"86\": 1, \"57\": 2, \"1\": 2, \"19\": 2, \"40\": 4, \"11\": 2, \"101\": 1, \"108\": 2, \"8\": 1, \"70\": 1, \"10\": 1, \"7\": 1, \"90\": 1}, \"3\": {\"110\": 2, \"3\": 79, \"127\": 4, \"30\": 1, \"7\": 4, \"108\": 1, \"12\": 7, \"111\": 1, \"94\": 1, \"0\": 3, \"8\": 3, \"126\": 1, \"71\": 3, \"10\": 1, \"5\": 2, \"106\": 1}, \"20\": {\"79\": 2, \"20\": 11, \"19\": 1, \"43\": 1, \"88\": 1}, \"28\": {\"28\": 13, \"29\": 2, \"31\": 1}, \"84\": {\"84\": 60, \"14\": 4, \"53\": 1, \"33\": 6, \"93\": 2, \"126\": 2, \"62\": 3, \"40\": 4, \"110\": 1, \"87\": 4, \"69\": 3, \"107\": 9, \"122\": 1, \"16\": 3, \"9\": 1, \"4\": 1, \"113\": 1, \"39\": 1, \"109\": 1}, \"79\": {\"79\": 9, \"84\": 1, \"55\": 1, \"33\": 1}, \"118\": {\"43\": 3, \"118\": 39, \"31\": 1, \"23\": 1, \"109\": 5, \"102\": 9, \"84\": 2, \"33\": 1, \"69\": 5, \"39\": 4, \"26\": 7, \"4\": 1, \"93\": 3, \"98\": 1, \"88\": 1, \"113\": 4, \"16\": 3, \"117\": 1, \"90\": 1, \"13\": 2, \"67\": 1, \"11\": 2, \"108\": 1, \"62\": 1, \"126\": 1}, \"56\": {\"125\": 3, \"36\": 1, \"56\": 7, \"46\": 1}, \"48\": {\"48\": 2, \"67\": 2, \"100\": 1, \"63\": 1, \"41\": 1, \"108\": 1, \"99\": 1, \"43\": 1, \"22\": 1, \"3\": 1, \"101\": 1, \"79\": 1, \"102\": 1, \"45\": 1}, \"77\": {\"77\": 15, \"72\": 1}, \"14\": {\"62\": 7, \"14\": 41, \"115\": 1, \"2\": 1, \"104\": 1, \"32\": 1, \"43\": 4, \"33\": 2, \"84\": 2, \"11\": 2, \"109\": 1, \"118\": 2, \"40\": 2, \"16\": 3, \"93\": 2, \"69\": 2, \"102\": 3, \"82\": 1, \"107\": 1, \"110\": 1}, \"64\": {\"64\": 19, \"96\": 1}, \"67\": {\"67\": 13, \"1\": 1, \"118\": 2}, \"62\": {\"62\": 87, \"43\": 2, \"70\": 1, \"119\": 1, \"14\": 6, \"40\": 2, \"33\": 4, \"118\": 2, \"84\": 3, \"16\": 1, \"102\": 1, \"87\": 2, \"11\": 3, \"92\": 1, \"107\": 4, \"69\": 2, \"88\": 1, \"93\": 1}, \"75\": {\"75\": 15, \"15\": 1}, \"63\": {\"63\": 10, \"48\": 1, \"123\": 1, \"83\": 1, \"64\": 1, \"39\": 1, \"112\": 1}, \"7\": {\"7\": 85, \"98\": 1, \"101\": 6, \"8\": 4, \"3\": 3, \"10\": 1, \"0\": 5, \"30\": 2, \"111\": 1, \"49\": 1, \"12\": 3}, \"125\": {\"125\": 64, \"37\": 1, \"73\": 2, \"27\": 5, \"0\": 2, \"24\": 2, \"94\": 3, \"98\": 2, \"18\": 1, \"36\": 12, \"15\": 2, \"111\": 3, \"31\": 1, \"17\": 1, \"106\": 1, \"6\": 1, \"12\": 1}, \"37\": {\"37\": 13, \"75\": 1, \"83\": 1, \"97\": 1}, \"121\": {\"121\": 14, \"120\": 1, \"45\": 1, \"126\": 2, \"27\": 1, \"128\": 1, \"23\": 1, \"13\": 1, \"115\": 1, \"113\": 2, \"2\": 2, \"39\": 1, \"14\": 2, \"102\": 2}, \"16\": {\"16\": 51, \"93\": 9, \"33\": 8, \"14\": 6, \"11\": 7, \"100\": 1, \"109\": 4, \"102\": 4, \"107\": 1, \"118\": 4, \"113\": 1, \"62\": 2, \"88\": 1, \"116\": 1, \"13\": 1, \"84\": 3}, \"35\": {\"35\": 8, \"108\": 1, \"29\": 1, \"24\": 1, \"70\": 1}, \"32\": {\"32\": 19, \"57\": 1, \"105\": 1, \"102\": 1, \"62\": 2, \"40\": 2, \"19\": 3, \"107\": 1, \"1\": 1, \"118\": 1}, \"46\": {\"46\": 10, \"32\": 1, \"5\": 1, \"9\": 1, \"1\": 1, \"114\": 2}, \"70\": {\"74\": 1, \"70\": 18, \"92\": 1, \"88\": 3, \"127\": 2, \"108\": 6, \"87\": 3, \"72\": 1, \"110\": 3, \"4\": 3, \"8\": 1, \"114\": 3, \"44\": 1, \"10\": 4, \"93\": 2, \"105\": 1, \"46\": 1, \"109\": 1, \"68\": 1, \"1\": 1, \"99\": 1, \"5\": 3, \"32\": 1, \"21\": 1, \"101\": 2, \"33\": 1, \"122\": 4, \"111\": 1, \"62\": 1}, \"129\": {\"129\": 18, \"55\": 1, \"105\": 2, \"60\": 1, \"100\": 1, \"87\": 2, \"4\": 1, \"11\": 1, \"114\": 2, \"43\": 1, \"107\": 1, \"1\": 1}, \"95\": {\"95\": 23, \"28\": 1, \"72\": 1, \"127\": 3, \"3\": 2, \"42\": 2}, \"72\": {\"3\": 1, \"72\": 18, \"101\": 2, \"12\": 2, \"5\": 1, \"30\": 2, \"24\": 1, \"71\": 1}, \"19\": {\"19\": 17, \"34\": 2, \"84\": 1, \"115\": 1, \"128\": 1, \"29\": 1, \"105\": 2, \"4\": 2, \"110\": 1, \"44\": 1, \"114\": 2, \"107\": 1}, \"52\": {\"34\": 1, \"52\": 7, \"106\": 1, \"54\": 1, \"0\": 3, \"25\": 1, \"12\": 1, \"15\": 1}, \"100\": {\"100\": 6, \"40\": 2, \"60\": 1, \"82\": 1, \"122\": 1, \"16\": 1, \"43\": 1, \"55\": 1, \"33\": 1, \"120\": 1}, \"104\": {\"43\": 1, \"104\": 12, \"45\": 1, \"107\": 2}, \"59\": {\"59\": 8, \"7\": 1, \"94\": 1, \"97\": 1, \"37\": 1}, \"109\": {\"63\": 1, \"109\": 40, \"11\": 3, \"102\": 8, \"26\": 3, \"43\": 7, \"113\": 9, \"24\": 1, \"39\": 5, \"14\": 3, \"21\": 2, \"118\": 5, \"62\": 6, \"122\": 2, \"16\": 2, \"88\": 5, \"10\": 2, \"93\": 4, \"33\": 5, \"96\": 1, \"84\": 2, \"67\": 1, \"69\": 3, \"8\": 2, \"90\": 1, \"108\": 1, \"18\": 1, \"117\": 1}, \"88\": {\"88\": 45, \"112\": 1, \"49\": 1, \"11\": 4, \"70\": 1, \"43\": 2, \"128\": 2, \"121\": 1, \"127\": 1, \"101\": 1, \"87\": 4, \"108\": 6, \"44\": 3, \"93\": 2, \"118\": 2, \"8\": 8, \"10\": 9, \"3\": 1, \"109\": 3, \"67\": 1, \"32\": 1, \"113\": 3, \"4\": 1, \"110\": 1, \"40\": 1, \"126\": 2, \"90\": 1}, \"27\": {\"27\": 47, \"49\": 1, \"6\": 1, \"108\": 1, \"24\": 3, \"44\": 1, \"0\": 2, \"101\": 1, \"12\": 2, \"106\": 3, \"30\": 3, \"125\": 5, \"21\": 1, \"36\": 7, \"98\": 3, \"94\": 4, \"11\": 1, \"118\": 1, \"25\": 1, \"97\": 1, \"10\": 1, \"126\": 1, \"8\": 1, \"111\": 1, \"3\": 1}, \"113\": {\"96\": 1, \"123\": 1, \"113\": 61, \"26\": 5, \"17\": 1, \"70\": 1, \"67\": 1, \"93\": 3, \"33\": 2, \"117\": 1, \"109\": 11, \"18\": 4, \"39\": 5, \"118\": 8, \"87\": 2, \"88\": 2, \"11\": 4, \"2\": 1, \"23\": 2, \"82\": 1, \"102\": 1, \"84\": 2}, \"105\": {\"105\": 80, \"69\": 1, \"127\": 3, \"4\": 4, \"129\": 3, \"9\": 2, \"87\": 3, \"40\": 1, \"1\": 3, \"102\": 3, \"114\": 10, \"90\": 1, \"122\": 2, \"71\": 2, \"107\": 1, \"82\": 1, \"5\": 4}, \"71\": {\"71\": 48, \"105\": 4, \"5\": 5, \"4\": 1, \"127\": 5, \"28\": 1, \"72\": 1, \"3\": 1, \"113\": 1, \"90\": 1}, \"108\": {\"31\": 1, \"108\": 55, \"30\": 1, \"70\": 3, \"29\": 1, \"72\": 1, \"127\": 2, \"88\": 10, \"44\": 4, \"86\": 2, \"32\": 1, \"10\": 12, \"110\": 2, \"5\": 3, \"8\": 8, \"90\": 3, \"105\": 1, \"87\": 2, \"11\": 1, \"12\": 1, \"124\": 2, \"60\": 1, \"35\": 1, \"48\": 1, \"24\": 1, \"128\": 1, \"3\": 2, \"0\": 1}, \"41\": {\"41\": 8, \"44\": 1, \"22\": 2, \"124\": 2, \"53\": 1, \"100\": 1, \"8\": 1}, \"80\": {\"80\": 16}, \"13\": {\"80\": 1, \"13\": 4, \"92\": 1, \"78\": 3, \"117\": 2, \"29\": 2, \"43\": 1, \"88\": 1, \"69\": 1}, \"55\": {\"55\": 12, \"100\": 1, \"40\": 2, \"87\": 1}, \"0\": {\"97\": 2, \"0\": 56, \"110\": 1, \"106\": 5, \"83\": 1, \"6\": 1, \"101\": 3, \"5\": 2, \"7\": 7, \"98\": 12, \"10\": 2, \"30\": 1, \"111\": 3, \"3\": 1, \"15\": 2, \"125\": 1, \"86\": 1, \"8\": 3, \"90\": 1, \"108\": 1}, \"25\": {\"25\": 14, \"54\": 2}, \"53\": {\"112\": 2, \"53\": 14, \"107\": 1, \"11\": 1, \"2\": 1, \"19\": 1}, \"61\": {\"61\": 14, \"2\": 1, \"81\": 1}, \"38\": {\"38\": 13, \"66\": 2, \"84\": 1}, \"127\": {\"127\": 83, \"105\": 4, \"88\": 1, \"101\": 1, \"5\": 5, \"72\": 2, \"3\": 7, \"62\": 2, \"4\": 6, \"87\": 1, \"108\": 1, \"12\": 2, \"71\": 5, \"39\": 1, \"114\": 1, \"113\": 1, \"46\": 1, \"128\": 1, \"8\": 1, \"110\": 1, \"126\": 1}, \"4\": {\"68\": 1, \"4\": 39, \"127\": 6, \"87\": 2, \"85\": 2, \"71\": 2, \"9\": 2, \"122\": 4, \"32\": 2, \"40\": 3, \"84\": 1, \"105\": 6, \"62\": 3, \"110\": 3, \"5\": 5, \"14\": 1, \"114\": 2, \"86\": 1, \"129\": 1, \"69\": 1, \"107\": 2, \"93\": 2, \"113\": 1, \"1\": 2, \"18\": 1, \"117\": 1}, \"12\": {\"71\": 1, \"68\": 1, \"12\": 50, \"72\": 1, \"58\": 1, \"27\": 2, \"83\": 1, \"73\": 2, \"85\": 1, \"105\": 1, \"7\": 6, \"8\": 5, \"15\": 3, \"30\": 4, \"70\": 1, \"3\": 5, \"0\": 2, \"10\": 2, \"98\": 2, \"127\": 2, \"111\": 6, \"101\": 2, \"106\": 2, \"94\": 1}, \"126\": {\"18\": 15, \"39\": 7, \"21\": 2, \"126\": 73, \"26\": 7, \"81\": 4, \"23\": 1, \"1\": 1, \"117\": 3, \"113\": 6, \"88\": 1, \"123\": 1, \"118\": 2, \"125\": 1}, \"29\": {\"29\": 29, \"70\": 2, \"44\": 1}, \"107\": {\"107\": 75, \"16\": 4, \"33\": 7, \"84\": 6, \"62\": 7, \"40\": 14, \"87\": 2, \"109\": 3, \"14\": 3, \"113\": 1, \"69\": 2, \"50\": 1, \"104\": 2, \"32\": 1, \"129\": 2, \"110\": 2, \"114\": 2, \"102\": 1, \"26\": 1}, \"82\": {\"82\": 24, \"45\": 1, \"62\": 1, \"102\": 1, \"14\": 1}, \"94\": {\"24\": 1, \"94\": 59, \"15\": 8, \"0\": 2, \"125\": 1, \"27\": 2, \"36\": 6, \"34\": 2, \"111\": 2, \"39\": 1}, \"54\": {\"25\": 3, \"54\": 13}, \"10\": {\"105\": 1, \"10\": 61, \"29\": 1, \"77\": 1, \"85\": 2, \"5\": 1, \"44\": 2, \"3\": 15, \"4\": 2, \"8\": 8, \"114\": 1, \"7\": 4, \"88\": 5, \"108\": 3, \"127\": 2, \"12\": 4, \"87\": 3, \"99\": 3, \"92\": 1, \"71\": 2, \"49\": 2, \"110\": 1, \"70\": 1, \"90\": 1, \"101\": 1}, \"22\": {\"122\": 1, \"22\": 6, \"41\": 1, \"116\": 1, \"1\": 1, \"66\": 1, \"87\": 1, \"38\": 1, \"62\": 1, \"33\": 1, \"76\": 1}, \"119\": {\"119\": 12, \"62\": 2, \"102\": 2}}, \"C_4\": {\"38\": {\"38\": 37, \"2\": 2, \"7\": 1}, \"3\": {\"3\": 72, \"34\": 2, \"26\": 1, \"6\": 14, \"36\": 8, \"28\": 1, \"54\": 12, \"39\": 1, \"23\": 1, \"48\": 4, \"50\": 1, \"20\": 3, \"29\": 1, \"47\": 1, \"8\": 1, \"53\": 1}, \"24\": {\"24\": 46, \"10\": 2, \"43\": 5, \"22\": 1, \"11\": 1, \"13\": 1}, \"49\": {\"49\": 20}, \"7\": {\"7\": 21, \"49\": 2, \"46\": 1}, \"17\": {\"17\": 73, \"21\": 2, \"27\": 4, \"9\": 1}, \"43\": {\"43\": 142, \"11\": 2, \"10\": 4}, \"30\": {\"30\": 39, \"26\": 1, \"8\": 2, \"50\": 2}, \"44\": {\"44\": 107, \"19\": 17, \"4\": 3, \"53\": 1, \"51\": 2, \"40\": 2}, \"23\": {\"23\": 105, \"18\": 15, \"39\": 4, \"52\": 6, \"3\": 1, \"46\": 2, \"47\": 3, \"54\": 2, \"41\": 4, \"5\": 2}, \"37\": {\"37\": 24}, \"4\": {\"4\": 125, \"50\": 1, \"53\": 1, \"9\": 5}, \"57\": {\"57\": 94, \"47\": 1, \"1\": 5}, \"16\": {\"49\": 1, \"16\": 74, \"5\": 2, \"11\": 7, \"46\": 2, \"15\": 6, \"52\": 1, \"47\": 1, \"43\": 1, \"10\": 1}, \"18\": {\"18\": 82, \"23\": 17, \"34\": 1, \"53\": 1, \"47\": 2, \"39\": 2, \"3\": 1, \"25\": 1, \"51\": 1}, \"20\": {\"20\": 116, \"48\": 1, \"55\": 2, \"8\": 2, \"3\": 1, \"25\": 2}, \"45\": {\"45\": 87, \"12\": 2, \"27\": 4, \"21\": 1, \"17\": 1, \"50\": 1}, \"15\": {\"15\": 110, \"5\": 1, \"11\": 12, \"16\": 6, \"43\": 1, \"31\": 1, \"47\": 1}, \"52\": {\"36\": 1, \"52\": 113, \"6\": 1, \"23\": 1}, \"19\": {\"40\": 15, \"19\": 110, \"44\": 8, \"21\": 1, \"33\": 2, \"51\": 2, \"50\": 1, \"4\": 1}, \"54\": {\"54\": 108}, \"56\": {\"56\": 114, \"7\": 5, \"16\": 2, \"57\": 2, \"55\": 4, \"10\": 1, \"29\": 2}, \"40\": {\"40\": 83, \"19\": 32, \"33\": 2, \"51\": 2, \"44\": 12, \"53\": 1, \"29\": 1, \"4\": 1}, \"28\": {\"28\": 22, \"31\": 1, \"26\": 3, \"55\": 2, \"48\": 3, \"25\": 1}, \"2\": {\"2\": 32, \"24\": 1, \"13\": 2, \"38\": 1}, \"9\": {\"17\": 5, \"9\": 102, \"4\": 8, \"21\": 1, \"25\": 2, \"50\": 2}, \"0\": {\"0\": 70, \"15\": 2, \"5\": 1, \"11\": 2, \"43\": 4, \"46\": 1}, \"36\": {\"36\": 88, \"54\": 1, \"48\": 1, \"4\": 1, \"50\": 1}, \"55\": {\"31\": 1, \"55\": 107, \"47\": 8, \"25\": 1, \"54\": 1, \"48\": 4, \"16\": 1, \"3\": 1, \"53\": 2, \"28\": 1, \"14\": 1, \"26\": 1, \"6\": 1}, \"35\": {\"35\": 38, \"55\": 1, \"29\": 1}, \"39\": {\"39\": 19, \"46\": 1}, \"31\": {\"31\": 28}, \"14\": {\"38\": 3, \"33\": 5, \"14\": 4, \"10\": 1, \"24\": 2, \"22\": 1}, \"12\": {\"12\": 88, \"27\": 4}, \"6\": {\"54\": 10, \"6\": 57, \"28\": 2, \"3\": 13, \"8\": 1, \"55\": 2, \"34\": 2, \"25\": 2, \"23\": 1, \"4\": 1, \"35\": 1, \"5\": 1, \"47\": 3, \"20\": 2, \"39\": 1, \"36\": 7, \"50\": 1, \"48\": 5}, \"26\": {\"26\": 23, \"54\": 1}, \"50\": {\"21\": 3, \"3\": 6, \"50\": 65, \"8\": 5, \"25\": 8, \"20\": 1, \"27\": 17, \"9\": 2, \"17\": 2, \"51\": 3, \"6\": 3, \"18\": 1, \"54\": 4, \"36\": 1, \"34\": 1, \"26\": 3, \"48\": 6, \"4\": 1}, \"21\": {\"21\": 116, \"51\": 1, \"17\": 1, \"8\": 1, \"27\": 1, \"12\": 1, \"50\": 1}, \"46\": {\"5\": 7, \"46\": 123, \"0\": 1, \"23\": 1, \"47\": 2, \"15\": 1, \"52\": 1, \"32\": 4}, \"51\": {\"50\": 5, \"51\": 127, \"25\": 2, \"21\": 1, \"53\": 3, \"17\": 1, \"4\": 1}, \"41\": {\"41\": 32, \"18\": 1, \"52\": 2, \"23\": 1}, \"34\": {\"34\": 22, \"54\": 1, \"23\": 1}, \"47\": {\"5\": 11, \"47\": 91, \"55\": 4, \"23\": 5, \"54\": 1, \"39\": 1, \"49\": 1, \"28\": 1, \"1\": 1, \"46\": 2, \"57\": 2}, \"5\": {\"5\": 78, \"47\": 12, \"46\": 3, \"23\": 4, \"1\": 2, \"54\": 3, \"6\": 2, \"49\": 2, \"3\": 1, \"20\": 1}, \"1\": {\"1\": 39, \"47\": 1}, \"48\": {\"3\": 2, \"48\": 124, \"28\": 1, \"6\": 3, \"54\": 2, \"8\": 2}, \"29\": {\"29\": 110, \"36\": 1, \"33\": 3, \"55\": 1, \"35\": 1, \"51\": 1, \"4\": 1}, \"22\": {\"22\": 116, \"15\": 4, \"2\": 1, \"10\": 3, \"38\": 3, \"11\": 1}, \"10\": {\"10\": 116, \"43\": 6, \"24\": 1, \"13\": 2, \"11\": 4, \"15\": 1, \"22\": 1, \"56\": 1}, \"32\": {\"32\": 21, \"49\": 2, \"39\": 1}, \"13\": {\"13\": 98, \"10\": 10, \"24\": 2, \"2\": 1, \"43\": 1}, \"42\": {\"42\": 32}, \"27\": {\"27\": 127, \"21\": 1, \"50\": 6, \"8\": 2, \"17\": 2}, \"8\": {\"8\": 137, \"30\": 3, \"27\": 1, \"3\": 1}, \"33\": {\"33\": 35, \"19\": 1}, \"25\": {\"25\": 119, \"21\": 4, \"17\": 1, \"53\": 4, \"20\": 2, \"8\": 1, \"50\": 1}, \"11\": {\"11\": 81, \"15\": 12, \"0\": 2, \"16\": 1, \"10\": 4, \"43\": 1, \"24\": 3}, \"53\": {\"53\": 100, \"55\": 1, \"4\": 1, \"25\": 5, \"51\": 3, \"50\": 2}}, \"C_2\": {\"32\": {\"32\": 27, \"12\": 1}, \"17\": {\"17\": 101, \"4\": 1, \"54\": 1, \"20\": 1}, \"38\": {\"38\": 20}, \"2\": {\"2\": 24, \"18\": 1, \"50\": 2, \"21\": 1, \"47\": 1, \"3\": 1, \"55\": 2}, \"43\": {\"43\": 126, \"11\": 8, \"56\": 1, \"10\": 3, \"24\": 6}, \"56\": {\"15\": 1, \"56\": 125, \"22\": 9, \"16\": 3, \"52\": 1, \"13\": 4, \"55\": 1}, \"37\": {\"37\": 35, \"21\": 1}, \"49\": {\"49\": 22, \"34\": 1, \"3\": 1}, \"0\": {\"0\": 45, \"5\": 2, \"39\": 1}, \"29\": {\"29\": 112, \"17\": 1, \"53\": 3, \"20\": 1, \"9\": 1, \"21\": 1, \"33\": 7, \"51\": 1, \"19\": 1}, \"35\": {\"35\": 32}, \"18\": {\"18\": 44, \"34\": 1, \"23\": 1, \"41\": 1, \"30\": 1}, \"25\": {\"25\": 121, \"54\": 6, \"17\": 4, \"6\": 1, \"12\": 2, \"3\": 2}, \"23\": {\"23\": 114, \"39\": 2, \"30\": 5, \"0\": 1, \"52\": 2}, \"15\": {\"15\": 142, \"16\": 4}, \"21\": {\"21\": 111, \"17\": 1, \"48\": 1, \"54\": 2, \"46\": 1, \"51\": 1, \"29\": 1, \"53\": 2}, \"51\": {\"51\": 116, \"20\": 2, \"53\": 3, \"8\": 1, \"25\": 2, \"12\": 1, \"3\": 2, \"17\": 1}, \"20\": {\"20\": 128, \"26\": 1, \"40\": 1, \"12\": 2, \"25\": 4, \"45\": 1, \"51\": 1}, \"7\": {\"7\": 34, \"42\": 1, \"46\": 1}, \"50\": {\"50\": 72, \"8\": 13, \"48\": 4, \"34\": 1, \"54\": 14, \"46\": 2, \"25\": 4, \"27\": 2, \"3\": 7, \"21\": 2, \"36\": 2, \"6\": 7, \"53\": 4, \"49\": 2}, \"31\": {\"31\": 27, \"5\": 1}, \"30\": {\"30\": 134, \"2\": 1, \"23\": 3, \"47\": 1, \"46\": 1}, \"19\": {\"19\": 126, \"44\": 8, \"4\": 3, \"45\": 2, \"40\": 12, \"9\": 1, \"51\": 2, \"26\": 1, \"32\": 1}, \"9\": {\"9\": 131, \"40\": 7, \"20\": 1, \"3\": 1, \"53\": 1, \"4\": 3}, \"52\": {\"23\": 3, \"52\": 115, \"48\": 2, \"57\": 1, \"6\": 1, \"1\": 1, \"46\": 1}, \"45\": {\"9\": 7, \"45\": 63, \"26\": 2, \"4\": 20, \"27\": 5, \"19\": 1, \"35\": 1, \"20\": 5, \"40\": 6, \"44\": 3, \"54\": 4, \"12\": 3, \"8\": 3, \"36\": 1, \"25\": 4}, \"8\": {\"8\": 134, \"27\": 5, \"12\": 1, \"54\": 7, \"25\": 4, \"50\": 2, \"36\": 1}, \"55\": {\"55\": 109, \"47\": 13, \"7\": 3, \"2\": 4, \"1\": 11, \"21\": 4, \"16\": 3, \"46\": 2, \"3\": 2, \"53\": 3, \"50\": 1, \"56\": 1, \"42\": 1, \"54\": 1, \"25\": 2}, \"12\": {\"12\": 88, \"27\": 2, \"8\": 1, \"26\": 1}, \"40\": {\"40\": 94, \"19\": 27, \"9\": 7, \"12\": 1, \"44\": 3, \"45\": 1, \"51\": 2, \"4\": 5}, \"28\": {\"28\": 28}, \"36\": {\"36\": 114, \"27\": 1, \"54\": 1}, \"39\": {\"39\": 27, \"46\": 1}, \"46\": {\"46\": 67, \"23\": 3, \"39\": 4, \"49\": 1, \"6\": 7, \"50\": 4, \"48\": 14, \"54\": 2, \"7\": 2, \"47\": 8, \"3\": 4, \"55\": 2, \"52\": 3, \"18\": 1}, \"14\": {\"14\": 8, \"40\": 2, \"9\": 4, \"10\": 3, \"19\": 1, \"33\": 2, \"43\": 1, \"4\": 1, \"29\": 2}, \"57\": {\"55\": 1, \"57\": 115, \"1\": 8, \"7\": 1, \"42\": 3, \"47\": 5, \"5\": 9}, \"34\": {\"34\": 25, \"53\": 1, \"48\": 2}, \"1\": {\"1\": 103, \"7\": 2, \"47\": 5, \"55\": 1, \"50\": 1}, \"53\": {\"53\": 128, \"51\": 4, \"21\": 1, \"54\": 1, \"25\": 1, \"17\": 1}, \"48\": {\"48\": 123, \"34\": 1, \"6\": 3, \"49\": 1, \"46\": 2}, \"3\": {\"20\": 3, \"34\": 1, \"49\": 2, \"51\": 2, \"6\": 12, \"47\": 3, \"48\": 7, \"46\": 6, \"54\": 4, \"23\": 1, \"2\": 1, \"42\": 1, \"3\": 20, \"17\": 5, \"29\": 6, \"21\": 2, \"50\": 1, \"27\": 1, \"4\": 2, \"55\": 1, \"41\": 1, \"7\": 1, \"32\": 1, \"39\": 2, \"57\": 1, \"9\": 2, \"25\": 1, \"19\": 1, \"1\": 1}, \"16\": {\"16\": 130, \"46\": 3, \"11\": 6, \"7\": 1, \"23\": 4, \"15\": 4, \"52\": 3, \"53\": 1}, \"6\": {\"34\": 4, \"6\": 91, \"27\": 1, \"49\": 1, \"39\": 1, \"17\": 2, \"54\": 2, \"46\": 1, \"48\": 8, \"36\": 3, \"20\": 2, \"3\": 3, \"25\": 2, \"52\": 1, \"50\": 2}, \"10\": {\"10\": 92, \"38\": 2, \"43\": 6, \"24\": 10, \"14\": 1, \"11\": 1}, \"13\": {\"13\": 109, \"16\": 2, \"10\": 1, \"11\": 4}, \"26\": {\"26\": 22, \"53\": 1, \"12\": 1}, \"24\": {\"24\": 78, \"10\": 16, \"13\": 2}, \"44\": {\"44\": 86, \"51\": 2, \"19\": 6, \"40\": 5, \"53\": 1}, \"27\": {\"27\": 135, \"8\": 8, \"12\": 3, \"25\": 4}, \"22\": {\"22\": 112, \"56\": 11, \"0\": 1, \"21\": 1, \"16\": 1, \"47\": 1, \"11\": 1}, \"33\": {\"33\": 23, \"4\": 1, \"9\": 3, \"29\": 1}, \"47\": {\"5\": 5, \"55\": 7, \"46\": 5, \"47\": 81, \"7\": 2, \"2\": 1, \"1\": 4, \"23\": 2, \"48\": 1, \"57\": 3, \"52\": 2, \"42\": 4, \"3\": 1}, \"5\": {\"5\": 97, \"7\": 1, \"1\": 4, \"22\": 1, \"47\": 7, \"42\": 2, \"46\": 1, \"55\": 2, \"57\": 1, \"31\": 1, \"34\": 1, \"2\": 1, \"6\": 1}, \"4\": {\"4\": 123, \"9\": 13, \"20\": 1, \"51\": 1}, \"41\": {\"41\": 16, \"6\": 1, \"28\": 1, \"34\": 2}, \"11\": {\"11\": 131, \"16\": 13, \"15\": 4, \"43\": 1, \"52\": 1}, \"54\": {\"54\": 103, \"50\": 3, \"6\": 1, \"3\": 1}, \"42\": {\"42\": 27, \"7\": 1, \"48\": 2, \"5\": 1, \"47\": 4, \"2\": 1}}, \"C_3\": {\"5\": {\"5\": 98, \"47\": 6, \"55\": 2, \"22\": 1, \"34\": 1, \"46\": 1, \"48\": 1, \"28\": 2, \"41\": 1, \"57\": 2, \"1\": 1}, \"32\": {\"32\": 26, \"9\": 1, \"27\": 1}, \"33\": {\"33\": 23, \"18\": 1, \"47\": 1, \"21\": 2, \"3\": 1}, \"49\": {\"49\": 20}, \"39\": {\"39\": 16}, \"11\": {\"52\": 1, \"11\": 118, \"15\": 12, \"16\": 7, \"7\": 2, \"13\": 1, \"43\": 1}, \"8\": {\"8\": 110, \"54\": 4, \"53\": 1, \"25\": 1}, \"26\": {\"26\": 21, \"6\": 2, \"3\": 1}, \"51\": {\"51\": 116, \"25\": 1, \"53\": 2, \"27\": 2, \"12\": 1}, \"4\": {\"4\": 145, \"53\": 1}, \"52\": {\"52\": 114, \"47\": 1, \"18\": 2, \"46\": 1}, \"47\": {\"47\": 65, \"42\": 2, \"23\": 1, \"48\": 2, \"55\": 6, \"21\": 2, \"5\": 5, \"50\": 1, \"3\": 2, \"51\": 1, \"34\": 3, \"46\": 1, \"1\": 1}, \"17\": {\"2\": 1, \"17\": 94, \"53\": 2, \"27\": 1, \"50\": 2, \"25\": 3, \"38\": 1, \"24\": 1, \"6\": 1, \"3\": 1, \"54\": 1}, \"53\": {\"53\": 130, \"21\": 2, \"25\": 2, \"27\": 2}, \"2\": {\"2\": 31, \"12\": 1}, \"12\": {\"12\": 83, \"8\": 3, \"38\": 1, \"54\": 2, \"50\": 1, \"17\": 2}, \"37\": {\"37\": 28}, \"9\": {\"9\": 138, \"17\": 2, \"27\": 1, \"53\": 3, \"29\": 3, \"50\": 1}, \"13\": {\"13\": 120, \"11\": 4, \"55\": 2, \"40\": 1, \"56\": 1}, \"54\": {\"54\": 97, \"50\": 2, \"27\": 1}, \"31\": {\"31\": 24, \"1\": 4}, \"34\": {\"34\": 31, \"41\": 1}, \"24\": {\"24\": 96, \"10\": 5, \"43\": 3}, \"7\": {\"7\": 36}, \"50\": {\"8\": 6, \"54\": 9, \"48\": 5, \"50\": 51, \"25\": 10, \"21\": 3, \"53\": 10, \"6\": 9, \"3\": 5, \"46\": 3, \"17\": 2, \"27\": 2, \"30\": 1, \"36\": 1, \"23\": 1}, \"46\": {\"46\": 66, \"9\": 2, \"42\": 1, \"3\": 16, \"6\": 5, \"26\": 2, \"21\": 3, \"20\": 6, \"48\": 12, \"23\": 1, \"50\": 2, \"55\": 4, \"41\": 1, \"47\": 3, \"52\": 1, \"36\": 1, \"25\": 2}, \"44\": {\"45\": 1, \"44\": 72, \"19\": 6, \"40\": 7, \"36\": 1, \"4\": 1}, \"40\": {\"44\": 10, \"40\": 83, \"19\": 17, \"53\": 1, \"29\": 1, \"51\": 2, \"4\": 2}, \"21\": {\"21\": 101, \"37\": 1, \"25\": 3, \"3\": 3, \"50\": 1, \"48\": 1, \"6\": 1, \"1\": 1, \"51\": 2, \"27\": 2, \"53\": 7, \"38\": 1, \"17\": 1, \"36\": 1, \"30\": 1, \"9\": 1}, \"45\": {\"45\": 28, \"4\": 8, \"12\": 4, \"44\": 4, \"27\": 6, \"17\": 1, \"25\": 3, \"54\": 1, \"38\": 1, \"53\": 1, \"8\": 1, \"19\": 1, \"30\": 1}, \"16\": {\"16\": 106, \"42\": 2, \"23\": 8, \"21\": 1, \"3\": 1, \"11\": 2, \"15\": 3, \"52\": 3}, \"14\": {\"9\": 1, \"24\": 7, \"43\": 3, \"14\": 9, \"19\": 4, \"22\": 2, \"10\": 4, \"56\": 1, \"29\": 3, \"4\": 2, \"49\": 1, \"35\": 2, \"11\": 1}, \"36\": {\"36\": 99, \"27\": 1}, \"56\": {\"56\": 104, \"22\": 7, \"5\": 1, \"13\": 2}, \"10\": {\"10\": 57, \"24\": 4, \"43\": 2, \"7\": 1}, \"18\": {\"18\": 67, \"33\": 1, \"48\": 3, \"3\": 3, \"6\": 3, \"30\": 4, \"41\": 2, \"52\": 1}, \"48\": {\"48\": 108, \"6\": 2, \"3\": 3, \"46\": 2, \"41\": 1}, \"38\": {\"38\": 28}, \"27\": {\"27\": 118, \"8\": 1, \"50\": 1, \"54\": 2, \"17\": 2, \"32\": 1, \"53\": 2, \"9\": 3}, \"42\": {\"42\": 23, \"34\": 1, \"41\": 3, \"6\": 1}, \"15\": {\"15\": 125, \"55\": 2, \"16\": 4, \"11\": 1, \"5\": 1, \"3\": 1}, \"1\": {\"1\": 89, \"31\": 2, \"5\": 2, \"46\": 2, \"57\": 2, \"50\": 1, \"25\": 1, \"20\": 1}, \"28\": {\"37\": 1, \"5\": 3, \"28\": 22, \"1\": 1, \"35\": 1}, \"43\": {\"43\": 125, \"11\": 2, \"10\": 3, \"24\": 3, \"7\": 3}, \"0\": {\"0\": 117, \"23\": 4, \"15\": 1, \"7\": 1, \"48\": 1}, \"57\": {\"57\": 110, \"1\": 7, \"5\": 4, \"31\": 1, \"47\": 2}, \"3\": {\"3\": 48, \"41\": 4, \"35\": 2, \"25\": 1, \"27\": 13, \"46\": 7, \"50\": 3, \"18\": 2, \"6\": 7, \"57\": 4, \"47\": 3, \"21\": 8, \"55\": 2, \"48\": 11, \"29\": 3, \"54\": 4, \"9\": 9, \"17\": 1, \"53\": 5, \"20\": 3, \"38\": 1, \"42\": 1, \"1\": 1, \"51\": 2, \"36\": 1, \"23\": 2}, \"29\": {\"29\": 114, \"21\": 1, \"9\": 6, \"53\": 2, \"35\": 1}, \"41\": {\"41\": 25, \"3\": 1, \"46\": 1, \"50\": 1}, \"25\": {\"25\": 124, \"12\": 2, \"17\": 5, \"54\": 3, \"3\": 1, \"46\": 1, \"50\": 4, \"38\": 2, \"8\": 1, \"6\": 1, \"53\": 1, \"21\": 1}, \"6\": {\"41\": 1, \"6\": 58, \"42\": 3, \"46\": 3, \"25\": 2, \"3\": 4, \"50\": 4, \"48\": 3, \"20\": 1, \"17\": 1, \"26\": 1, \"36\": 2, \"33\": 2, \"27\": 1, \"18\": 2}, \"35\": {\"35\": 28}, \"20\": {\"20\": 118, \"46\": 1, \"17\": 2, \"3\": 1, \"50\": 1, \"54\": 2, \"25\": 1}, \"23\": {\"23\": 131, \"18\": 1, \"46\": 1, \"39\": 1}, \"22\": {\"22\": 121, \"56\": 2, \"13\": 2, \"5\": 4, \"57\": 3, \"11\": 1, \"21\": 1, \"35\": 1, \"28\": 2, \"14\": 1, \"55\": 2}, \"19\": {\"19\": 97, \"51\": 2, \"4\": 3, \"44\": 2, \"40\": 12}, \"55\": {\"55\": 99, \"14\": 1, \"34\": 1, \"47\": 5, \"3\": 2, \"13\": 1, \"50\": 3, \"1\": 4, \"22\": 3, \"46\": 2, \"5\": 1, \"28\": 1, \"6\": 1}, \"30\": {\"30\": 115, \"50\": 1, \"20\": 1, \"3\": 1, \"18\": 2}}, \"W_2\": {\"73\": {\"40\": 1, \"73\": 12, \"33\": 2, \"84\": 5, \"107\": 3, \"69\": 1, \"95\": 1, \"7\": 1, \"4\": 2}, \"40\": {\"107\": 3, \"73\": 1, \"74\": 1, \"105\": 12, \"40\": 66, \"52\": 1, \"110\": 6, \"129\": 3, \"4\": 1, \"84\": 2, \"43\": 5, \"1\": 8, \"5\": 2, \"124\": 1, \"33\": 6, \"90\": 1, \"62\": 2, \"17\": 1, \"19\": 1, \"95\": 1, \"44\": 1, \"70\": 1, \"102\": 2, \"88\": 1, \"117\": 1, \"122\": 1, \"108\": 1}, \"99\": {\"2\": 1, \"99\": 19, \"88\": 3, \"21\": 1, \"69\": 1, \"116\": 1, \"48\": 2, \"82\": 1, \"23\": 2, \"110\": 1}, \"5\": {\"5\": 71, \"85\": 1, \"114\": 10, \"71\": 1, \"4\": 4, \"110\": 1, \"33\": 1, \"122\": 6, \"39\": 2, \"43\": 1, \"8\": 1, \"90\": 2, \"126\": 1, \"16\": 1, \"88\": 1, \"32\": 1, \"3\": 2, \"128\": 1, \"78\": 1, \"105\": 1, \"1\": 1, \"40\": 1}, \"108\": {\"108\": 67, \"52\": 2, \"79\": 1, \"10\": 2, \"29\": 1, \"7\": 5, \"0\": 11, \"43\": 3, \"24\": 4, \"122\": 4, \"44\": 1, \"3\": 4, \"8\": 3, \"101\": 4, \"11\": 3, \"98\": 7, \"111\": 1, \"75\": 1, \"54\": 1, \"126\": 1, \"90\": 1, \"71\": 2, \"5\": 1, \"30\": 1, \"70\": 1}, \"128\": {\"5\": 2, \"58\": 1, \"109\": 2, \"107\": 1, \"105\": 1, \"128\": 5, \"7\": 2, \"41\": 1, \"43\": 2, \"50\": 1, \"71\": 1, \"21\": 1, \"0\": 1, \"108\": 1, \"106\": 2}, \"89\": {\"89\": 24, \"64\": 1, \"113\": 1, \"92\": 2, \"13\": 1, \"31\": 1, \"65\": 1, \"66\": 1, \"81\": 2, \"48\": 1, \"82\": 1}, \"107\": {\"40\": 4, \"58\": 1, \"46\": 2, \"95\": 2, \"107\": 24, \"114\": 1, \"4\": 5, \"1\": 1, \"105\": 7, \"110\": 2, \"32\": 1, \"108\": 1, \"44\": 2, \"70\": 1, \"2\": 1, \"106\": 1, \"112\": 1, \"86\": 2, \"118\": 1, \"21\": 1, \"15\": 1, \"125\": 1, \"14\": 1}, \"2\": {\"2\": 22, \"65\": 1, \"113\": 2, \"117\": 1, \"89\": 1, \"96\": 2, \"93\": 1, \"97\": 1, \"63\": 1}, \"78\": {\"78\": 8, \"99\": 1, \"70\": 3, \"129\": 2, \"8\": 2, \"32\": 1, \"110\": 2, \"23\": 3, \"126\": 3, \"39\": 1, \"122\": 1, \"1\": 4, \"10\": 1, \"40\": 1, \"44\": 1, \"4\": 1, \"43\": 3, \"95\": 1, \"71\": 1, \"105\": 3, \"7\": 1, \"16\": 1, \"87\": 1, \"26\": 1, \"62\": 1}, \"85\": {\"44\": 1, \"107\": 2, \"85\": 8, \"43\": 2, \"95\": 2, \"114\": 1, \"110\": 2, \"72\": 1, \"126\": 1, \"124\": 1, \"76\": 1, \"105\": 2, \"8\": 2, \"96\": 1, \"1\": 2, \"90\": 1, \"32\": 1, \"16\": 1}, \"44\": {\"44\": 88, \"10\": 2, \"61\": 1, \"29\": 1, \"19\": 1, \"126\": 1, \"3\": 1, \"38\": 1, \"32\": 1, \"93\": 2, \"70\": 1}, \"58\": {\"58\": 11, \"15\": 2, \"125\": 2, \"77\": 2, \"51\": 1, \"6\": 1, \"35\": 1}, \"57\": {\"57\": 8, \"63\": 1, \"21\": 1, \"61\": 1, \"82\": 2, \"48\": 2, \"92\": 1, \"87\": 1, \"72\": 1, \"13\": 2}, \"41\": {\"41\": 14, \"77\": 2, \"13\": 1, \"52\": 2, \"6\": 1}, \"53\": {\"53\": 16}, \"14\": {\"14\": 24, \"70\": 1, \"90\": 1, \"67\": 1, \"20\": 1, \"50\": 1, \"84\": 1, \"86\": 4, \"21\": 1, \"33\": 2, \"2\": 1, \"100\": 1, \"87\": 2, \"62\": 4, \"74\": 1, \"88\": 1, \"118\": 1}, \"83\": {\"93\": 1, \"125\": 1, \"83\": 26, \"90\": 2, \"80\": 1, \"20\": 1, \"61\": 1, \"16\": 1, \"88\": 1, \"14\": 1, \"70\": 1, \"15\": 1, \"7\": 1, \"110\": 1}, \"119\": {\"119\": 19, \"42\": 1}, \"95\": {\"5\": 1, \"85\": 1, \"95\": 20, \"129\": 1, \"105\": 2, \"71\": 1, \"40\": 1, \"19\": 1, \"124\": 1, \"4\": 6, \"87\": 1}, \"28\": {\"28\": 16, \"56\": 1, \"85\": 3}, \"19\": {\"19\": 17, \"14\": 1, \"86\": 1, \"118\": 1, \"1\": 1, \"85\": 1, \"105\": 1, \"43\": 1, \"32\": 2, \"46\": 1, \"70\": 1}, \"69\": {\"69\": 103, \"82\": 6, \"16\": 3, \"81\": 1, \"26\": 11, \"84\": 2, \"118\": 1, \"39\": 1, \"109\": 1, \"102\": 2, \"40\": 1}, \"93\": {\"14\": 2, \"93\": 76, \"16\": 11, \"69\": 3, \"26\": 2, \"109\": 4, \"102\": 8, \"18\": 1, \"33\": 2, \"88\": 4, \"39\": 6, \"122\": 1, \"118\": 1, \"84\": 2, \"126\": 3, \"62\": 3, \"72\": 1, \"124\": 1, \"40\": 1, \"90\": 2}, \"9\": {\"9\": 30, \"6\": 1, \"15\": 1}, \"118\": {\"14\": 4, \"13\": 2, \"44\": 2, \"50\": 1, \"70\": 4, \"82\": 1, \"118\": 22, \"93\": 3, \"16\": 4, \"10\": 1, \"88\": 1, \"102\": 2, \"26\": 1, \"90\": 1, \"40\": 2, \"109\": 2, \"84\": 5, \"126\": 1, \"69\": 2, \"116\": 2, \"62\": 1, \"18\": 1, \"43\": 1, \"124\": 1, \"1\": 1}, \"43\": {\"119\": 1, \"85\": 1, \"19\": 1, \"43\": 18, \"40\": 3, \"128\": 1, \"14\": 1, \"110\": 2, \"126\": 5, \"4\": 1, \"1\": 13, \"32\": 2, \"107\": 3, \"5\": 5, \"88\": 7, \"90\": 9, \"2\": 1, \"87\": 4, \"105\": 9, \"122\": 6, \"44\": 2, \"124\": 2, \"3\": 2, \"8\": 2, \"33\": 4, \"70\": 2, \"109\": 2, \"74\": 1, \"108\": 2, \"10\": 3, \"78\": 1}, \"47\": {\"47\": 8, \"28\": 1, \"129\": 1, \"116\": 1, \"76\": 1}, \"125\": {\"125\": 96, \"52\": 1, \"36\": 13, \"108\": 1, \"94\": 3, \"15\": 10, \"30\": 4, \"24\": 3, \"106\": 1, \"98\": 4, \"111\": 1, \"41\": 2, \"9\": 1, \"11\": 1, \"27\": 1, \"18\": 1, \"101\": 1}, \"29\": {\"29\": 25, \"7\": 1, \"91\": 2, \"97\": 1, \"30\": 2, \"59\": 1}, \"122\": {\"122\": 48, \"87\": 2, \"116\": 2, \"55\": 1, \"12\": 4, \"74\": 1, \"78\": 2, \"4\": 2, \"128\": 1, \"85\": 1, \"34\": 1, \"71\": 2, \"114\": 9, \"1\": 5, \"88\": 4, \"90\": 3, \"127\": 3, \"3\": 4, \"8\": 9, \"0\": 3, \"105\": 3, \"43\": 5, \"5\": 2, \"7\": 2, \"39\": 1, \"70\": 3, \"119\": 1, \"30\": 1, \"49\": 1, \"118\": 1, \"109\": 2, \"10\": 2, \"11\": 2, \"16\": 1, \"126\": 2, \"108\": 1, \"93\": 1, \"44\": 1, \"98\": 1}, \"46\": {\"70\": 2, \"46\": 11, \"1\": 1, \"8\": 1, \"87\": 1}, \"86\": {\"86\": 17, \"70\": 1, \"105\": 2, \"73\": 3, \"19\": 1, \"62\": 1, \"80\": 2, \"23\": 1, \"74\": 1, \"55\": 1, \"14\": 2}, \"70\": {\"86\": 3, \"70\": 17, \"38\": 3, \"4\": 1, \"21\": 4, \"8\": 3, \"10\": 6, \"23\": 1, \"90\": 2, \"110\": 1, \"81\": 2, \"19\": 2, \"129\": 3, \"98\": 1, \"126\": 8, \"14\": 1, \"109\": 4, \"93\": 1, \"62\": 8, \"16\": 1, \"78\": 2, \"1\": 4, \"44\": 3, \"88\": 7, \"43\": 6, \"84\": 4, \"33\": 8, \"40\": 4, \"18\": 1, \"105\": 2, \"66\": 1, \"83\": 2, \"32\": 1, \"124\": 1, \"73\": 1, \"118\": 1, \"39\": 1, \"108\": 1, \"117\": 1, \"122\": 1}, \"51\": {\"51\": 15, \"41\": 1, \"38\": 1, \"24\": 1, \"58\": 1, \"53\": 1}, \"23\": {\"41\": 1, \"57\": 1, \"8\": 1, \"23\": 1, \"63\": 2, \"49\": 2, \"118\": 1, \"114\": 1, \"24\": 3, \"79\": 1, \"69\": 2, \"29\": 1, \"7\": 1, \"71\": 1, \"108\": 2, \"91\": 2, \"12\": 2, \"30\": 1, \"109\": 1, \"97\": 1, \"78\": 1, \"65\": 1, \"26\": 1, \"19\": 1, \"25\": 1, \"128\": 1, \"0\": 1, \"44\": 1, \"2\": 1, \"10\": 1, \"101\": 1, \"4\": 1, \"5\": 2, \"18\": 1, \"72\": 1}, \"121\": {\"23\": 2, \"121\": 22, \"113\": 2, \"120\": 2, \"18\": 1, \"48\": 1, \"65\": 1, \"26\": 1, \"2\": 1, \"117\": 1, \"102\": 2}, \"63\": {\"21\": 1, \"63\": 17, \"90\": 1, \"39\": 1}, \"102\": {\"63\": 1, \"102\": 93, \"84\": 2, \"26\": 2, \"16\": 3, \"62\": 6, \"39\": 4, \"33\": 1, \"116\": 2, \"118\": 1, \"99\": 1, \"69\": 5, \"93\": 1}, \"21\": {\"21\": 43, \"120\": 1, \"88\": 2, \"24\": 1, \"39\": 1}, \"55\": {\"86\": 1, \"55\": 9, \"84\": 1, \"60\": 1, \"80\": 1, \"126\": 1, \"62\": 2}, \"54\": {\"54\": 10, \"122\": 1, \"46\": 1, \"12\": 2, \"103\": 1, \"3\": 2, \"111\": 2, \"15\": 1}, \"6\": {\"6\": 20, \"97\": 1, \"51\": 2, \"34\": 1, \"9\": 3, \"94\": 2, \"58\": 2, \"75\": 1}, \"109\": {\"109\": 30, \"90\": 3, \"20\": 1, \"23\": 2, \"1\": 2, \"102\": 1, \"87\": 7, \"88\": 11, \"84\": 3, \"126\": 8, \"16\": 5, \"70\": 6, \"33\": 4, \"62\": 2, \"43\": 2, \"14\": 1, \"120\": 1, \"72\": 1, \"67\": 1, \"78\": 1, \"10\": 1, \"40\": 1, \"21\": 1, \"99\": 1, \"11\": 1, \"26\": 1, \"93\": 1, \"39\": 1}, \"64\": {\"109\": 1, \"64\": 15}, \"20\": {\"20\": 13, \"109\": 1, \"83\": 1, \"87\": 1}, \"98\": {\"29\": 2, \"98\": 91, \"121\": 1, \"101\": 10, \"24\": 2, \"91\": 2, \"30\": 1, \"11\": 3, \"87\": 1, \"90\": 1}, \"92\": {\"64\": 1, \"113\": 1, \"92\": 14, \"69\": 2, \"48\": 2, \"14\": 1, \"45\": 1, \"23\": 1, \"76\": 1, \"39\": 1, \"57\": 2, \"129\": 1}, \"35\": {\"35\": 6, \"106\": 1, \"123\": 1, \"51\": 1, \"111\": 1, \"6\": 2}, \"113\": {\"113\": 50, \"109\": 1, \"81\": 1, \"48\": 2, \"19\": 1, \"18\": 3, \"78\": 1, \"43\": 1, \"117\": 5, \"65\": 1, \"16\": 1, \"82\": 1, \"23\": 1, \"102\": 1, \"88\": 1, \"70\": 1}, \"71\": {\"122\": 4, \"71\": 61, \"114\": 9, \"115\": 1, \"84\": 1, \"103\": 1, \"68\": 1, \"52\": 1, \"127\": 1, \"12\": 2, \"5\": 3, \"7\": 3, \"3\": 2, \"32\": 1, \"126\": 2, \"79\": 2, \"121\": 1, \"109\": 1, \"0\": 2, \"87\": 1}, \"94\": {\"91\": 1, \"20\": 1, \"94\": 24, \"6\": 3, \"51\": 2, \"106\": 1, \"87\": 2, \"78\": 1, \"113\": 1, \"26\": 2, \"111\": 1, \"90\": 1, \"101\": 1, \"27\": 1, \"34\": 1, \"24\": 2, \"125\": 5, \"58\": 1, \"29\": 1, \"77\": 3, \"88\": 1, \"36\": 2, \"99\": 1, \"15\": 1, \"70\": 1, \"98\": 1, \"12\": 1, \"10\": 1}, \"52\": {\"91\": 4, \"111\": 2, \"71\": 3, \"52\": 4, \"58\": 1, \"114\": 1, \"101\": 1, \"105\": 1, \"11\": 1, \"34\": 2}, \"116\": {\"47\": 1, \"116\": 5, \"55\": 2, \"62\": 2, \"16\": 3, \"104\": 1, \"89\": 1, \"64\": 1, \"84\": 1, \"99\": 3, \"45\": 1, \"80\": 1, \"43\": 1, \"23\": 1, \"93\": 1, \"109\": 1, \"118\": 1, \"66\": 1}, \"87\": {\"116\": 2, \"83\": 1, \"87\": 20, \"21\": 1, \"33\": 12, \"10\": 5, \"118\": 3, \"113\": 1, \"90\": 1, \"69\": 1, \"84\": 11, \"32\": 1, \"93\": 3, \"88\": 7, \"124\": 2, \"122\": 1, \"105\": 2, \"62\": 7, \"126\": 6, \"43\": 2, \"109\": 2, \"18\": 1, \"67\": 1, \"129\": 1, \"37\": 1, \"70\": 3, \"61\": 1, \"95\": 1, \"38\": 1, \"46\": 1, \"39\": 1, \"119\": 1, \"55\": 1, \"14\": 1, \"78\": 1, \"110\": 2, \"44\": 1, \"1\": 1, \"16\": 1}, \"90\": {\"87\": 4, \"90\": 122, \"83\": 1, \"71\": 1, \"60\": 1, \"73\": 1, \"126\": 2, \"109\": 1, \"62\": 1, \"70\": 4, \"88\": 1, \"8\": 1, \"22\": 1, \"11\": 3, \"1\": 1, \"122\": 2, \"43\": 1}, \"91\": {\"122\": 1, \"91\": 11, \"29\": 4, \"30\": 2, \"108\": 1, \"111\": 3, \"51\": 1, \"25\": 1, \"128\": 1, \"54\": 1, \"3\": 2}, \"84\": {\"84\": 56, \"33\": 13, \"62\": 7, \"14\": 1, \"50\": 1, \"109\": 1, \"118\": 2, \"93\": 1, \"81\": 1, \"40\": 2, \"55\": 1, \"70\": 1, \"73\": 1, \"45\": 1, \"7\": 1, \"90\": 1, \"1\": 1}, \"24\": {\"90\": 2, \"115\": 2, \"36\": 5, \"41\": 1, \"59\": 3, \"10\": 3, \"61\": 1, \"94\": 4, \"25\": 2, \"16\": 1, \"98\": 5, \"42\": 1, \"109\": 2, \"44\": 4, \"125\": 9, \"78\": 1, \"24\": 15, \"111\": 4, \"8\": 5, \"43\": 1, \"106\": 5, \"30\": 2, \"15\": 7, \"39\": 1, \"88\": 2, \"108\": 2, \"3\": 3, \"119\": 1, \"122\": 1, \"107\": 1, \"29\": 2, \"103\": 1, \"9\": 1, \"126\": 3, \"27\": 1, \"7\": 4, \"71\": 2, \"117\": 2}, \"33\": {\"33\": 104, \"102\": 1, \"62\": 12, \"87\": 3, \"40\": 3, \"84\": 6, \"93\": 2, \"70\": 1, \"1\": 1, \"90\": 1}, \"81\": {\"81\": 14, \"16\": 1, \"113\": 2, \"18\": 2, \"69\": 2, \"101\": 1, \"121\": 1, \"23\": 1}, \"115\": {\"115\": 8, \"70\": 1, \"47\": 1, \"122\": 1, \"71\": 1}, \"77\": {\"77\": 8, \"59\": 2, \"108\": 1, \"79\": 1, \"12\": 1, \"11\": 1, \"29\": 2}, \"106\": {\"106\": 57, \"97\": 2, \"30\": 14, \"36\": 7, \"29\": 1, \"15\": 1, \"88\": 1, \"98\": 4, \"101\": 7, \"16\": 1, \"125\": 2, \"24\": 3, \"0\": 3, \"79\": 2, \"94\": 4, \"3\": 1, \"27\": 2, \"9\": 2, \"127\": 2, \"111\": 3, \"43\": 1}, \"42\": {\"71\": 1, \"79\": 1, \"114\": 2, \"56\": 1, \"36\": 2, \"91\": 3, \"59\": 1, \"5\": 1, \"34\": 1, \"70\": 1, \"109\": 1, \"32\": 1, \"88\": 1, \"112\": 1, \"94\": 1, \"10\": 4, \"24\": 1, \"26\": 1, \"42\": 2, \"127\": 1}, \"38\": {\"38\": 16}, \"36\": {\"41\": 1, \"36\": 64, \"121\": 1, \"15\": 7, \"27\": 4, \"125\": 14, \"14\": 1, \"2\": 1, \"127\": 1, \"93\": 1, \"24\": 3, \"90\": 1, \"106\": 4, \"98\": 1, \"101\": 1, \"113\": 1, \"9\": 1, \"0\": 1, \"16\": 1, \"111\": 1, \"30\": 3, \"43\": 1}, \"79\": {\"79\": 6, \"70\": 1, \"128\": 1, \"34\": 1, \"5\": 1, \"8\": 3, \"3\": 1, \"127\": 1, \"71\": 1}, \"60\": {\"60\": 13, \"80\": 1, \"62\": 2, \"86\": 1, \"34\": 1, \"124\": 1, \"126\": 1, \"83\": 2, \"70\": 1, \"78\": 1, \"12\": 2, \"23\": 1, \"87\": 1}, \"80\": {\"80\": 7, \"70\": 1, \"16\": 2, \"1\": 1, \"33\": 1, \"93\": 1, \"88\": 1, \"14\": 1, \"100\": 1}, \"32\": {\"88\": 3, \"78\": 1, \"32\": 14, \"44\": 1, \"10\": 1, \"107\": 2, \"43\": 1, \"105\": 1, \"14\": 3, \"126\": 3, \"16\": 1, \"60\": 1, \"84\": 1, \"19\": 1, \"62\": 1, \"4\": 1}, \"0\": {\"0\": 52, \"114\": 3, \"98\": 6, \"71\": 3, \"107\": 1, \"101\": 4, \"126\": 1, \"10\": 1, \"70\": 1, \"127\": 6, \"108\": 6, \"106\": 2, \"111\": 4, \"7\": 8, \"30\": 5, \"3\": 3, \"54\": 1, \"24\": 1, \"34\": 1, \"68\": 2, \"49\": 2, \"11\": 2, \"122\": 1}, \"127\": {\"127\": 79, \"49\": 1, \"71\": 5, \"3\": 5, \"7\": 3, \"118\": 1, \"111\": 7, \"26\": 1, \"114\": 4, \"5\": 2, \"1\": 1, \"12\": 5, \"112\": 4, \"22\": 1, \"54\": 1, \"129\": 1, \"79\": 1, \"0\": 1, \"33\": 1}, \"114\": {\"114\": 74, \"3\": 13, \"90\": 1, \"111\": 1, \"71\": 7, \"122\": 4, \"12\": 2, \"127\": 2, \"7\": 2, \"5\": 4, \"68\": 1, \"4\": 2, \"109\": 1, \"40\": 1, \"33\": 1}, \"62\": {\"32\": 1, \"62\": 101, \"87\": 1, \"90\": 1, \"86\": 2, \"26\": 1, \"84\": 9, \"33\": 13, \"16\": 2, \"116\": 1, \"55\": 2, \"110\": 1, \"109\": 1, \"93\": 1, \"124\": 1, \"39\": 1, \"1\": 1}, \"129\": {\"129\": 19, \"85\": 1, \"84\": 1, \"5\": 2, \"19\": 1, \"40\": 1, \"114\": 2, \"37\": 1, \"87\": 1, \"86\": 1, \"74\": 1, \"1\": 1}, \"56\": {\"56\": 6, \"110\": 1, \"22\": 2, \"127\": 1, \"46\": 1, \"47\": 1}, \"76\": {\"76\": 8, \"72\": 1, \"69\": 4, \"57\": 1, \"80\": 1, \"48\": 1}, \"72\": {\"72\": 18, \"65\": 2, \"89\": 1, \"69\": 1, \"70\": 1, \"57\": 1, \"9\": 1, \"81\": 1, \"26\": 2}, \"88\": {\"32\": 3, \"88\": 47, \"39\": 6, \"126\": 5, \"87\": 10, \"70\": 6, \"8\": 3, \"84\": 3, \"93\": 5, \"69\": 1, \"44\": 3, \"43\": 4, \"16\": 7, \"105\": 1, \"62\": 2, \"90\": 6, \"124\": 1, \"109\": 3, \"1\": 2, \"3\": 1, \"19\": 1, \"78\": 1, \"21\": 1, \"102\": 1, \"30\": 1}, \"68\": {\"68\": 7, \"12\": 1, \"4\": 1, \"71\": 2, \"7\": 3, \"34\": 1, \"128\": 1}, \"67\": {\"67\": 7, \"82\": 3, \"78\": 1, \"21\": 1, \"80\": 1, \"23\": 2, \"1\": 1}, \"100\": {\"67\": 1, \"100\": 8, \"82\": 1, \"62\": 1, \"14\": 2, \"16\": 2, \"93\": 1}, \"34\": {\"34\": 6, \"60\": 1, \"95\": 1, \"46\": 1, \"29\": 2, \"86\": 1, \"43\": 1, \"91\": 1, \"21\": 1, \"12\": 1, \"4\": 1, \"30\": 1, \"124\": 1, \"109\": 1, \"5\": 1, \"116\": 1, \"66\": 1, \"22\": 1, \"85\": 1, \"1\": 1, \"84\": 1, \"27\": 1, \"125\": 1, \"101\": 1, \"94\": 2}, \"16\": {\"100\": 2, \"16\": 86, \"93\": 7, \"39\": 4, \"2\": 2, \"102\": 7, \"62\": 2, \"70\": 4, \"14\": 4, \"57\": 1, \"13\": 1, \"116\": 1, \"8\": 1, \"118\": 1, \"43\": 1}, \"126\": {\"126\": 47, \"100\": 1, \"37\": 1, \"40\": 2, \"46\": 2, \"70\": 7, \"43\": 4, \"33\": 3, \"1\": 4, \"44\": 5, \"16\": 1, \"85\": 1, \"78\": 2, \"84\": 2, \"88\": 2, \"90\": 8, \"10\": 2, \"62\": 1, \"93\": 1, \"11\": 4, \"109\": 5, \"87\": 4, \"105\": 1, \"14\": 1, \"118\": 2, \"122\": 1, \"119\": 1, \"32\": 1, \"4\": 1, \"73\": 1, \"12\": 1, \"8\": 1}, \"4\": {\"4\": 41, \"32\": 2, \"40\": 6, \"128\": 1, \"107\": 4, \"39\": 2, \"88\": 1, \"85\": 2, \"72\": 1, \"1\": 2, \"5\": 7, \"114\": 1, \"110\": 2, \"43\": 1, \"105\": 2, \"118\": 2, \"95\": 2, \"86\": 2, \"104\": 1, \"79\": 1, \"129\": 1, \"103\": 1, \"3\": 2, \"12\": 1}, \"101\": {\"98\": 10, \"101\": 118, \"15\": 2, \"111\": 3, \"125\": 2, \"30\": 2, \"94\": 3, \"11\": 2, \"106\": 1, \"0\": 1, \"24\": 1, \"36\": 1}, \"104\": {\"104\": 12, \"95\": 1, \"74\": 1, \"80\": 1, \"8\": 1, \"73\": 1, \"124\": 1, \"15\": 1, \"90\": 1}, \"30\": {\"78\": 1, \"30\": 43, \"24\": 5, \"127\": 3, \"15\": 1, \"29\": 3, \"101\": 9, \"0\": 5, \"36\": 1, \"106\": 8, \"7\": 3, \"111\": 8, \"108\": 2, \"98\": 8, \"11\": 3, \"122\": 2, \"94\": 1, \"14\": 1, \"125\": 1, \"3\": 1, \"40\": 1}, \"8\": {\"3\": 5, \"129\": 1, \"44\": 6, \"8\": 58, \"68\": 1, \"61\": 3, \"93\": 3, \"122\": 2, \"32\": 1, \"10\": 5, \"85\": 1, \"40\": 3, \"5\": 2, \"114\": 3, \"1\": 3, \"126\": 8, \"33\": 1, \"84\": 1, \"105\": 6, \"62\": 1, \"43\": 2, \"90\": 1, \"19\": 1, \"108\": 2, \"107\": 1, \"118\": 1, \"11\": 2, \"4\": 1, \"71\": 1, \"70\": 2}, \"82\": {\"82\": 31, \"63\": 1, \"16\": 1, \"69\": 2, \"117\": 1}, \"26\": {\"26\": 89, \"23\": 1, \"63\": 1, \"87\": 1, \"113\": 2, \"82\": 2, \"69\": 13, \"117\": 8, \"126\": 1, \"18\": 12, \"39\": 1, \"2\": 1, \"121\": 1, \"72\": 1, \"16\": 1, \"1\": 1, \"43\": 1, \"90\": 1}, \"96\": {\"100\": 1, \"96\": 7, \"70\": 1, \"89\": 1, \"82\": 1, \"118\": 1, \"69\": 1, \"76\": 2, \"67\": 1, \"57\": 2, \"2\": 1, \"31\": 1}, \"3\": {\"3\": 62, \"35\": 1, \"7\": 9, \"5\": 4, \"128\": 2, \"114\": 15, \"71\": 12, \"32\": 1, \"122\": 4, \"1\": 1, \"0\": 5, \"108\": 2, \"43\": 2, \"127\": 3, \"30\": 1, \"19\": 1, \"60\": 1, \"112\": 1, \"12\": 3, \"39\": 1, \"105\": 1, \"49\": 1, \"84\": 1, \"24\": 1, \"88\": 1}, \"25\": {\"25\": 12, \"21\": 1, \"78\": 1, \"6\": 2}, \"13\": {\"13\": 4, \"21\": 1, \"92\": 1, \"69\": 2, \"125\": 1, \"82\": 2, \"47\": 1, \"16\": 2, \"20\": 1, \"48\": 1}, \"37\": {\"62\": 1, \"64\": 1, \"37\": 7, \"40\": 2, \"124\": 1, \"43\": 1, \"128\": 1, \"67\": 1, \"50\": 1}, \"49\": {\"115\": 2, \"87\": 1, \"111\": 2, \"49\": 3, \"61\": 1, \"107\": 1, \"54\": 1, \"19\": 1, \"12\": 2, \"3\": 1, \"7\": 2, \"101\": 1, \"127\": 1, \"8\": 1, \"0\": 2, \"39\": 1, \"11\": 1}, \"111\": {\"111\": 98, \"50\": 1, \"52\": 2, \"129\": 1, \"5\": 2, \"106\": 3, \"108\": 3, \"122\": 2, \"40\": 1, \"101\": 4, \"30\": 3, \"127\": 3, \"0\": 3, \"91\": 2, \"68\": 2, \"107\": 2, \"1\": 1, \"71\": 1, \"124\": 1, \"7\": 1}, \"105\": {\"81\": 1, \"95\": 1, \"74\": 1, \"105\": 69, \"46\": 2, \"5\": 1, \"4\": 1, \"84\": 2, \"16\": 1, \"19\": 1, \"93\": 4, \"40\": 13, \"107\": 4, \"62\": 1, \"110\": 1, \"1\": 10, \"43\": 7, \"126\": 2, \"33\": 3, \"102\": 1, \"122\": 3, \"34\": 1, \"118\": 1, \"26\": 1}, \"17\": {\"37\": 2, \"114\": 1, \"121\": 1, \"87\": 1, \"19\": 1, \"3\": 1, \"34\": 1, \"107\": 1, \"127\": 1, \"1\": 1, \"26\": 1, \"74\": 1, \"4\": 2, \"129\": 1}, \"65\": {\"65\": 10, \"90\": 1, \"92\": 2, \"18\": 2, \"80\": 1, \"113\": 1, \"117\": 1, \"26\": 2}, \"123\": {\"123\": 10, \"112\": 1, \"38\": 1, \"128\": 1, \"6\": 1, \"49\": 1, \"3\": 1}, \"74\": {\"37\": 2, \"11\": 1, \"74\": 8, \"118\": 1, \"16\": 1, \"87\": 1, \"95\": 2}, \"97\": {\"123\": 2, \"97\": 6, \"79\": 1, \"6\": 1, \"32\": 1, \"111\": 2, \"34\": 1, \"24\": 1, \"101\": 1, \"77\": 2, \"25\": 1, \"90\": 1}, \"112\": {\"3\": 2, \"112\": 6, \"50\": 1, \"123\": 1, \"108\": 1, \"32\": 2, \"101\": 1, \"60\": 1, \"42\": 1}, \"120\": {\"120\": 19, \"8\": 1}, \"50\": {\"45\": 1, \"14\": 3, \"50\": 7, \"84\": 1, \"39\": 1, \"80\": 1, \"125\": 1, \"55\": 1}, \"59\": {\"10\": 1, \"20\": 1, \"51\": 2, \"59\": 5, \"77\": 1, \"25\": 2, \"94\": 2, \"15\": 1, \"71\": 1}, \"10\": {\"10\": 35, \"61\": 2, \"14\": 1, \"12\": 1, \"108\": 4, \"0\": 1, \"44\": 1, \"8\": 2, \"126\": 1, \"113\": 1, \"112\": 2, \"3\": 1, \"39\": 1, \"78\": 1, \"71\": 4, \"11\": 2}, \"45\": {\"14\": 1, \"45\": 10, \"82\": 1, \"32\": 1, \"102\": 1, \"84\": 1, \"18\": 1}, \"12\": {\"112\": 1, \"12\": 37, \"36\": 1, \"52\": 1, \"3\": 8, \"114\": 6, \"106\": 2, \"21\": 1, \"122\": 3, \"71\": 7, \"107\": 2, \"7\": 4, \"88\": 1, \"127\": 3, \"108\": 1, \"117\": 1, \"68\": 1, \"30\": 3, \"129\": 1, \"5\": 1, \"0\": 2, \"24\": 1}, \"75\": {\"51\": 2, \"75\": 8, \"19\": 1, \"15\": 1, \"9\": 1, \"101\": 2, \"58\": 1}, \"48\": {\"48\": 16, \"14\": 1, \"124\": 1, \"82\": 1, \"69\": 1}, \"61\": {\"61\": 19, \"88\": 1}, \"124\": {\"105\": 2, \"124\": 72, \"5\": 3, \"22\": 2, \"81\": 1, \"102\": 1, \"66\": 4, \"1\": 3, \"40\": 2, \"16\": 2, \"8\": 3, \"43\": 1, \"114\": 1, \"62\": 4, \"122\": 1, \"69\": 2, \"84\": 2, \"33\": 2, \"93\": 2, \"4\": 1, \"47\": 1, \"64\": 1, \"129\": 1, \"86\": 1, \"73\": 2, \"32\": 1, \"45\": 1, \"26\": 1, \"70\": 1, \"109\": 1, \"111\": 1, \"88\": 1}, \"11\": {\"52\": 2, \"11\": 37, \"122\": 2, \"54\": 1, \"49\": 1, \"42\": 1, \"10\": 3, \"87\": 1, \"0\": 2, \"101\": 3, \"39\": 1, \"98\": 4, \"108\": 2, \"8\": 3, \"88\": 1, \"111\": 4, \"29\": 1, \"91\": 1, \"53\": 1, \"115\": 1, \"71\": 2, \"94\": 2, \"12\": 1, \"24\": 2, \"18\": 1}, \"103\": {\"103\": 11, \"79\": 1, \"49\": 1, \"5\": 1, \"126\": 1, \"84\": 1}, \"7\": {\"7\": 71, \"71\": 3, \"0\": 10, \"10\": 3, \"108\": 2, \"12\": 2, \"109\": 1, \"43\": 2, \"126\": 3, \"127\": 6, \"114\": 5, \"24\": 2, \"3\": 6, \"11\": 2, \"39\": 1, \"78\": 1, \"115\": 2, \"68\": 1, \"8\": 3, \"111\": 1, \"122\": 4, \"44\": 1}, \"18\": {\"18\": 99, \"117\": 2, \"26\": 12, \"69\": 3, \"113\": 1, \"55\": 1, \"14\": 1, \"39\": 1}, \"31\": {\"31\": 10, \"69\": 2, \"70\": 1, \"102\": 1, \"48\": 1, \"62\": 3, \"113\": 1, \"116\": 1}, \"15\": {\"15\": 75, \"125\": 7, \"6\": 2, \"51\": 1, \"108\": 1, \"101\": 4, \"117\": 1, \"36\": 7, \"30\": 4, \"106\": 4, \"39\": 1, \"34\": 1, \"9\": 2, \"94\": 2, \"24\": 6}, \"1\": {\"1\": 60, \"99\": 1, \"5\": 5, \"105\": 13, \"43\": 6, \"40\": 13, \"87\": 1, \"39\": 1, \"8\": 3, \"124\": 2, \"62\": 3, \"70\": 3, \"33\": 3, \"122\": 1, \"96\": 1, \"90\": 2, \"129\": 1, \"16\": 2, \"84\": 1}, \"66\": {\"66\": 15, \"102\": 1, \"40\": 1, \"44\": 1, \"23\": 1, \"116\": 1}, \"110\": {\"78\": 1, \"110\": 23, \"14\": 1, \"19\": 1, \"40\": 2, \"90\": 1, \"109\": 1, \"122\": 1, \"18\": 1, \"76\": 1, \"50\": 1, \"63\": 1, \"87\": 2, \"4\": 1, \"108\": 1, \"107\": 1}, \"27\": {\"27\": 24, \"9\": 2, \"25\": 1, \"114\": 1, \"106\": 3, \"36\": 7, \"40\": 1, \"96\": 1, \"94\": 1, \"24\": 2, \"2\": 2, \"125\": 11, \"49\": 1, \"103\": 1, \"52\": 1, \"75\": 1, \"15\": 2, \"110\": 1, \"30\": 1, \"10\": 1, \"113\": 1, \"70\": 1, \"39\": 1}, \"22\": {\"22\": 16, \"125\": 2, \"83\": 1, \"28\": 1}, \"117\": {\"117\": 92, \"113\": 10, \"18\": 11, \"65\": 1, \"2\": 1, \"26\": 3, \"109\": 1, \"88\": 1}, \"39\": {\"16\": 9, \"39\": 41, \"31\": 2, \"93\": 2, \"109\": 5, \"62\": 1, \"88\": 8, \"69\": 4, \"26\": 4, \"90\": 4, \"126\": 1, \"102\": 8, \"18\": 4, \"20\": 1, \"87\": 3, \"81\": 1, \"63\": 1, \"118\": 1, \"21\": 5, \"84\": 1, \"7\": 1, \"117\": 1}}, \"C_1\": {\"24\": {\"24\": 76, \"22\": 8, \"11\": 6, \"10\": 9, \"21\": 3, \"15\": 3, \"52\": 2, \"36\": 1}, \"25\": {\"25\": 137, \"17\": 1, \"45\": 1, \"53\": 1}, \"45\": {\"45\": 139, \"42\": 3, \"56\": 1, \"19\": 1}, \"42\": {\"42\": 39, \"19\": 1}, \"2\": {\"2\": 35, \"48\": 1}, \"9\": {\"9\": 132, \"8\": 3, \"5\": 11, \"13\": 1, \"17\": 1, \"30\": 1, \"51\": 1}, \"21\": {\"21\": 105, \"52\": 2, \"10\": 2, \"27\": 1, \"23\": 3, \"15\": 8, \"24\": 2, \"22\": 1}, \"26\": {\"25\": 1, \"26\": 22, \"42\": 1}, \"49\": {\"49\": 31, \"28\": 1}, \"39\": {\"39\": 24, \"52\": 4}, \"46\": {\"46\": 70, \"2\": 3, \"48\": 13, \"50\": 6, \"25\": 3, \"53\": 1, \"17\": 5, \"51\": 1, \"4\": 7, \"6\": 6, \"5\": 7, \"8\": 7, \"40\": 1, \"29\": 2, \"9\": 4}, \"17\": {\"17\": 62, \"25\": 1, \"46\": 1}, \"19\": {\"19\": 118, \"57\": 13, \"35\": 1, \"1\": 6, \"56\": 17, \"44\": 1}, \"23\": {\"23\": 124, \"15\": 7, \"24\": 1}, \"1\": {\"1\": 72, \"56\": 9, \"20\": 1, \"19\": 8, \"57\": 9, \"13\": 1}, \"29\": {\"29\": 130, \"51\": 2, \"1\": 1, \"44\": 3, \"46\": 1, \"40\": 1, \"3\": 1, \"57\": 1}, \"56\": {\"56\": 77, \"51\": 4, \"57\": 32, \"19\": 20, \"1\": 4, \"44\": 6, \"12\": 1, \"47\": 3, \"45\": 1, \"41\": 1, \"13\": 1}, \"37\": {\"37\": 32}, \"33\": {\"55\": 1, \"33\": 30, \"37\": 1}, \"55\": {\"55\": 122, \"7\": 4, \"42\": 1, \"33\": 2, \"54\": 7, \"45\": 5, \"25\": 1}, \"30\": {\"30\": 111, \"53\": 1, \"18\": 1, \"5\": 1, \"25\": 2, \"9\": 3, \"8\": 1}, \"0\": {\"0\": 142, \"38\": 2, \"11\": 2, \"55\": 1, \"54\": 2, \"52\": 3}, \"36\": {\"36\": 61, \"11\": 1, \"7\": 1, \"16\": 1}, \"32\": {\"32\": 26, \"55\": 1, \"35\": 1, \"52\": 1, \"7\": 1, \"54\": 1, \"49\": 1}, \"31\": {\"31\": 24, \"15\": 1, \"52\": 1, \"11\": 1, \"39\": 1}, \"15\": {\"15\": 105, \"24\": 8, \"10\": 3, \"22\": 6, \"21\": 6, \"23\": 2, \"11\": 3, \"52\": 5}, \"12\": {\"12\": 84, \"25\": 1, \"20\": 17, \"14\": 1, \"13\": 9, \"51\": 3, \"1\": 1}, \"38\": {\"38\": 23, \"52\": 1}, \"40\": {\"40\": 128, \"29\": 9, \"3\": 1, \"50\": 2, \"13\": 2, \"4\": 4}, \"14\": {\"14\": 17, \"13\": 1, \"5\": 1, \"25\": 2, \"30\": 1, \"17\": 1, \"8\": 1}, \"13\": {\"14\": 1, \"13\": 127, \"12\": 5, \"51\": 12, \"53\": 4, \"20\": 1}, \"48\": {\"48\": 139, \"2\": 1, \"46\": 2, \"6\": 4, \"50\": 2}, \"34\": {\"34\": 24}, \"44\": {\"44\": 85, \"56\": 8, \"47\": 21, \"13\": 5, \"12\": 1, \"53\": 2, \"45\": 1, \"57\": 3, \"3\": 1, \"19\": 1, \"29\": 1, \"1\": 1}, \"5\": {\"5\": 126, \"9\": 10, \"48\": 1, \"17\": 2, \"8\": 5, \"25\": 6, \"26\": 1, \"53\": 1}, \"11\": {\"11\": 95, \"15\": 7, \"10\": 7, \"22\": 10, \"23\": 1, \"36\": 2, \"52\": 12, \"24\": 1, \"38\": 3, \"21\": 2}, \"7\": {\"7\": 24, \"55\": 1, \"54\": 1, \"33\": 1, \"34\": 1}, \"18\": {\"7\": 3, \"18\": 63, \"55\": 2, \"25\": 1, \"30\": 2, \"45\": 1}, \"52\": {\"52\": 114, \"0\": 4, \"38\": 3, \"11\": 6, \"27\": 3, \"24\": 1, \"15\": 1}, \"51\": {\"51\": 123, \"13\": 8, \"12\": 4, \"53\": 2, \"45\": 1, \"20\": 4}, \"41\": {\"41\": 24}, \"16\": {\"16\": 124, \"54\": 7, \"36\": 1, \"18\": 2, \"55\": 5, \"25\": 1}, \"22\": {\"22\": 86, \"10\": 8, \"11\": 9, \"15\": 10, \"52\": 2, \"27\": 3, \"24\": 11, \"23\": 1, \"21\": 3, \"38\": 1}, \"3\": {\"41\": 1, \"26\": 1, \"3\": 96, \"12\": 5, \"29\": 3, \"37\": 1, \"44\": 2, \"57\": 1, \"13\": 17, \"5\": 1, \"51\": 3, \"32\": 1, \"20\": 2, \"47\": 3, \"42\": 1, \"40\": 1, \"55\": 1}, \"54\": {\"54\": 104}, \"27\": {\"27\": 133, \"43\": 7, \"24\": 2, \"23\": 1, \"22\": 1}, \"20\": {\"20\": 108, \"12\": 13, \"13\": 10, \"53\": 2, \"3\": 1, \"45\": 2, \"42\": 1, \"51\": 3}, \"8\": {\"48\": 1, \"8\": 87, \"9\": 22, \"30\": 5, \"25\": 5, \"6\": 5, \"5\": 9, \"2\": 1, \"53\": 2, \"17\": 1}, \"50\": {\"50\": 144}, \"57\": {\"57\": 84, \"19\": 21, \"56\": 21, \"44\": 4, \"1\": 7, \"51\": 1, \"17\": 1, \"12\": 1}, \"4\": {\"4\": 131, \"40\": 1}, \"47\": {\"47\": 128, \"3\": 1, \"44\": 10, \"56\": 2, \"35\": 2, \"19\": 1, \"51\": 2}, \"10\": {\"10\": 65, \"15\": 6, \"22\": 5, \"11\": 6, \"24\": 6, \"52\": 5, \"21\": 1, \"36\": 2}, \"35\": {\"35\": 36}, \"53\": {\"53\": 114, \"17\": 4, \"45\": 2, \"9\": 1, \"51\": 3, \"14\": 1, \"25\": 1}, \"6\": {\"30\": 5, \"6\": 60, \"48\": 12, \"50\": 3, \"5\": 2, \"17\": 3, \"8\": 2, \"9\": 2, \"46\": 4, \"2\": 2, \"4\": 1}, \"43\": {\"43\": 133, \"27\": 6, \"22\": 1}, \"28\": {\"28\": 25, \"36\": 3}}, \"W_1\": {\"60\": {\"60\": 5, \"22\": 2, \"25\": 1, \"65\": 1, \"14\": 1, \"80\": 1, \"11\": 1, \"119\": 2, \"13\": 1, \"9\": 1}, \"59\": {\"76\": 1, \"59\": 5, \"27\": 1, \"6\": 2, \"30\": 1, \"125\": 1, \"128\": 1}, \"107\": {\"55\": 1, \"107\": 87, \"79\": 1, \"72\": 2, \"4\": 5, \"5\": 4, \"87\": 3, \"114\": 1, \"40\": 4, \"93\": 3, \"110\": 7, \"106\": 1, \"90\": 1, \"1\": 1, \"84\": 1, \"105\": 1, \"7\": 1}, \"113\": {\"113\": 113, \"26\": 3, \"16\": 3, \"117\": 3, \"2\": 1, \"95\": 1}, \"6\": {\"59\": 2, \"6\": 10, \"13\": 1, \"37\": 1, \"15\": 3, \"71\": 3, \"88\": 2, \"111\": 1, \"36\": 1, \"117\": 1, \"94\": 1, \"27\": 2, \"69\": 1, \"51\": 1, \"127\": 1, \"125\": 1}, \"24\": {\"24\": 35, \"49\": 1, \"70\": 2, \"94\": 2, \"98\": 10, \"73\": 2, \"12\": 4, \"106\": 1, \"52\": 1, \"108\": 7, \"41\": 1, \"27\": 4, \"125\": 5, \"71\": 3, \"86\": 2, \"127\": 2, \"72\": 1, \"30\": 3, \"43\": 1, \"101\": 1, \"32\": 1, \"84\": 1, \"102\": 1, \"7\": 1}, \"50\": {\"50\": 11, \"65\": 1, \"33\": 1, \"82\": 1, \"44\": 1, \"25\": 1}, \"62\": {\"50\": 1, \"62\": 92, \"33\": 5, \"102\": 10, \"118\": 1, \"69\": 8, \"117\": 1, \"14\": 1, \"43\": 1}, \"48\": {\"48\": 12}, \"104\": {\"48\": 1, \"104\": 12, \"115\": 2, \"7\": 1}, \"105\": {\"107\": 4, \"4\": 4, \"40\": 10, \"114\": 6, \"105\": 45, \"87\": 3, \"33\": 2, \"84\": 3, \"65\": 1, \"17\": 1, \"93\": 2, \"43\": 1, \"14\": 1, \"15\": 1}, \"44\": {\"44\": 68, \"10\": 2, \"98\": 2, \"43\": 1, \"97\": 1, \"70\": 1, \"108\": 1}, \"49\": {\"49\": 5, \"55\": 3, \"77\": 2, \"98\": 1, \"4\": 1, \"56\": 1, \"12\": 2, \"31\": 2, \"32\": 1, \"37\": 1, \"125\": 1}, \"55\": {\"55\": 11, \"4\": 1}, \"4\": {\"107\": 10, \"32\": 3, \"4\": 43, \"0\": 1, \"3\": 2, \"40\": 6, \"84\": 4, \"110\": 1, \"114\": 3, \"43\": 4, \"105\": 4, \"11\": 5, \"17\": 1, \"82\": 1, \"55\": 2, \"14\": 1, \"128\": 1, \"122\": 4, \"81\": 1, \"93\": 1, \"5\": 1, \"102\": 1}, \"76\": {\"76\": 14, \"90\": 1, \"87\": 1}, \"85\": {\"85\": 24, \"0\": 4, \"68\": 1, \"71\": 1, \"103\": 1, \"49\": 1}, \"89\": {\"89\": 23, \"72\": 1, \"40\": 1, \"70\": 1, \"69\": 1, \"80\": 1, \"54\": 1, \"29\": 2, \"58\": 2, \"9\": 2, \"102\": 1}, \"74\": {\"74\": 13, \"46\": 1, \"19\": 2}, \"112\": {\"30\": 1, \"112\": 11, \"58\": 1, \"52\": 2, \"53\": 1}, \"79\": {\"79\": 11, \"43\": 1}, \"0\": {\"0\": 57, \"118\": 1, \"49\": 4, \"72\": 1, \"110\": 7, \"24\": 1, \"106\": 3, \"93\": 5, \"101\": 1, \"98\": 1, \"126\": 1, \"107\": 2}, \"91\": {\"91\": 14, \"97\": 1, \"111\": 1, \"127\": 1, \"52\": 3, \"71\": 2, \"103\": 1, \"44\": 1, \"125\": 2, \"37\": 1, \"106\": 1}, \"118\": {\"118\": 48, \"113\": 4, \"69\": 6, \"26\": 9, \"117\": 5, \"16\": 8, \"27\": 1, \"39\": 2, \"11\": 1}, \"80\": {\"80\": 13, \"117\": 1, \"60\": 1, \"119\": 1}, \"64\": {\"64\": 13, \"109\": 1, \"23\": 1, \"7\": 1}, \"97\": {\"112\": 2, \"0\": 1, \"97\": 11, \"91\": 2, \"24\": 1, \"98\": 1, \"88\": 1, \"125\": 1}, \"84\": {\"84\": 67, \"11\": 2, \"18\": 1, \"74\": 1, \"43\": 6, \"40\": 12, \"8\": 2, \"114\": 13, \"3\": 2, \"105\": 3, \"1\": 2, \"87\": 1, \"124\": 3, \"122\": 3, \"9\": 1, \"19\": 1, \"14\": 2, \"118\": 1, \"126\": 1}, \"38\": {\"50\": 1, \"38\": 8, \"117\": 1, \"25\": 2, \"4\": 1, \"69\": 1, \"116\": 1, \"96\": 1}, \"30\": {\"30\": 24, \"112\": 1, \"15\": 4, \"111\": 1, \"24\": 4, \"52\": 1, \"125\": 1, \"71\": 2, \"127\": 1, \"94\": 2, \"75\": 2, \"44\": 1, \"92\": 1, \"34\": 1, \"91\": 1, \"27\": 1, \"88\": 1, \"36\": 2, \"12\": 1}, \"32\": {\"0\": 3, \"32\": 18, \"65\": 1, \"110\": 1, \"54\": 1, \"93\": 3, \"111\": 1, \"73\": 1, \"113\": 2, \"87\": 1}, \"72\": {\"34\": 1, \"72\": 16, \"126\": 1, \"73\": 2, \"9\": 1, \"106\": 5, \"110\": 1, \"5\": 1, \"1\": 1, \"14\": 1, \"107\": 1, \"4\": 1}, \"33\": {\"33\": 117, \"26\": 1, \"44\": 1, \"62\": 3, \"82\": 1, \"39\": 1, \"102\": 4, \"14\": 2, \"87\": 1, \"8\": 1}, \"34\": {\"91\": 2, \"38\": 1, \"29\": 2, \"27\": 2, \"92\": 1, \"15\": 1, \"4\": 3, \"84\": 1, \"116\": 1, \"34\": 2, \"111\": 2, \"70\": 2, \"6\": 2, \"46\": 1, \"36\": 2, \"83\": 1, \"87\": 1, \"18\": 1, \"98\": 1, \"124\": 1, \"25\": 2}, \"28\": {\"76\": 1, \"107\": 1, \"90\": 2, \"28\": 8, \"10\": 1, \"66\": 2, \"128\": 1, \"29\": 1, \"84\": 1, \"64\": 1, \"109\": 1}, \"123\": {\"123\": 10, \"44\": 1, \"119\": 2, \"95\": 2, \"2\": 1}, \"2\": {\"33\": 1, \"2\": 9, \"14\": 1, \"11\": 2, \"16\": 2, \"39\": 1, \"20\": 1, \"117\": 1, \"96\": 2, \"118\": 1, \"18\": 2, \"13\": 1, \"73\": 1, \"128\": 1, \"123\": 1, \"122\": 1, \"69\": 1, \"84\": 1, \"43\": 1, \"116\": 1}, \"70\": {\"70\": 29, \"107\": 1, \"124\": 2, \"23\": 2, \"34\": 4, \"128\": 1, \"93\": 6, \"44\": 4, \"42\": 1, \"108\": 11, \"126\": 10, \"4\": 3, \"84\": 6, \"3\": 1, \"122\": 3, \"110\": 3, \"109\": 4, \"7\": 2, \"87\": 2, \"101\": 2, \"90\": 2, \"8\": 6, \"106\": 1, \"43\": 3, \"1\": 1, \"97\": 1, \"28\": 1, \"83\": 1, \"41\": 1, \"45\": 2, \"19\": 1, \"11\": 1, \"10\": 2, \"15\": 1, \"0\": 1, \"33\": 1, \"40\": 1}, \"127\": {\"127\": 89, \"27\": 1, \"91\": 1, \"78\": 1, \"73\": 1, \"24\": 1, \"111\": 7, \"12\": 1, \"94\": 1, \"68\": 1, \"85\": 1, \"71\": 2, \"8\": 1}, \"110\": {\"110\": 82, \"0\": 7, \"106\": 6, \"55\": 1, \"70\": 2, \"5\": 9, \"4\": 2, \"105\": 2, \"39\": 1, \"126\": 1, \"8\": 1, \"113\": 1, \"72\": 1, \"107\": 4, \"93\": 1, \"40\": 4, \"68\": 1, \"3\": 1, \"109\": 1}, \"126\": {\"126\": 73, \"23\": 1, \"109\": 7, \"64\": 1, \"44\": 2, \"114\": 1, \"106\": 1, \"108\": 6, \"19\": 1, \"21\": 1, \"4\": 2, \"43\": 2, \"107\": 2, \"93\": 7, \"1\": 1, \"7\": 6, \"84\": 1, \"70\": 6, \"40\": 1, \"110\": 1, \"101\": 2, \"5\": 2, \"72\": 1, \"87\": 5, \"10\": 3}, \"13\": {\"13\": 9, \"18\": 1, \"26\": 2, \"81\": 1, \"118\": 1, \"63\": 1, \"78\": 1}, \"15\": {\"15\": 56, \"30\": 2, \"37\": 1, \"92\": 1, \"27\": 4, \"94\": 11, \"71\": 3, \"12\": 2, \"106\": 1, \"36\": 5, \"88\": 5, \"98\": 2, \"125\": 5, \"51\": 2, \"111\": 3, \"24\": 1}, \"29\": {\"29\": 26, \"129\": 1, \"39\": 1}, \"18\": {\"18\": 112, \"39\": 2, \"102\": 2, \"2\": 1, \"63\": 1, \"69\": 2}, \"7\": {\"7\": 111, \"10\": 3, \"70\": 2, \"126\": 7, \"106\": 2, \"101\": 7, \"108\": 3, \"110\": 1, \"73\": 1, \"64\": 1, \"98\": 1, \"72\": 1, \"43\": 1, \"3\": 1}, \"56\": {\"15\": 2, \"24\": 2, \"111\": 2, \"125\": 1, \"56\": 3, \"75\": 1, \"29\": 1}, \"98\": {\"98\": 64, \"49\": 1, \"30\": 4, \"24\": 8, \"0\": 1, \"44\": 1, \"71\": 8, \"12\": 9, \"111\": 1, \"101\": 1, \"51\": 1, \"34\": 1, \"10\": 2, \"127\": 2, \"94\": 1, \"15\": 1, \"27\": 1, \"108\": 1}, \"99\": {\"99\": 21, \"3\": 1, \"42\": 2}, \"77\": {\"77\": 10, \"68\": 2, \"8\": 1, \"97\": 2, \"41\": 1}, \"103\": {\"15\": 1, \"103\": 9, \"9\": 1, \"1\": 1, \"94\": 1, \"87\": 1, \"101\": 1, \"29\": 1}, \"128\": {\"126\": 1, \"99\": 1, \"103\": 1, \"128\": 6, \"8\": 2, \"72\": 1, \"68\": 1, \"29\": 1, \"28\": 2, \"73\": 1, \"83\": 1, \"107\": 1, \"58\": 1, \"70\": 2, \"43\": 2}, \"3\": {\"3\": 67, \"43\": 3, \"42\": 1, \"14\": 6, \"96\": 1, \"122\": 1, \"125\": 1, \"11\": 1, \"27\": 1, \"74\": 1, \"1\": 1, \"84\": 1, \"94\": 1, \"36\": 1, \"39\": 1}, \"121\": {\"121\": 16, \"117\": 1, \"113\": 2, \"65\": 2, \"69\": 2, \"62\": 2, \"18\": 2, \"63\": 1, \"26\": 2, \"2\": 1, \"81\": 1}, \"42\": {\"9\": 2, \"99\": 2, \"74\": 2, \"25\": 1, \"42\": 6, \"61\": 1, \"116\": 2, \"29\": 1, \"83\": 1, \"14\": 1, \"4\": 1, \"76\": 1, \"3\": 1, \"124\": 1, \"19\": 1, \"10\": 1, \"128\": 1, \"129\": 1, \"96\": 1}, \"90\": {\"90\": 101, \"28\": 3, \"87\": 1, \"109\": 7, \"3\": 1, \"8\": 2, \"43\": 2, \"70\": 1, \"126\": 1, \"40\": 1}, \"37\": {\"37\": 13, \"112\": 2, \"52\": 1}, \"120\": {\"121\": 1, \"120\": 12, \"100\": 1, \"62\": 1, \"45\": 2, \"66\": 1, \"129\": 1, \"26\": 1}, \"117\": {\"117\": 69, \"26\": 13, \"39\": 4, \"16\": 17, \"95\": 1, \"118\": 7, \"69\": 4, \"102\": 1, \"19\": 1, \"18\": 1}, \"9\": {\"103\": 1, \"84\": 1, \"129\": 1, \"9\": 16, \"2\": 1, \"1\": 2, \"105\": 1, \"125\": 1, \"108\": 1, \"83\": 1, \"22\": 2, \"47\": 1, \"8\": 1, \"32\": 1, \"107\": 1}, \"108\": {\"103\": 1, \"48\": 1, \"23\": 1, \"108\": 50, \"12\": 1, \"44\": 3, \"40\": 2, \"126\": 7, \"0\": 3, \"115\": 1, \"86\": 1, \"93\": 11, \"101\": 9, \"1\": 1, \"5\": 4, \"110\": 1, \"7\": 5, \"10\": 8, \"87\": 1, \"31\": 2, \"73\": 1, \"109\": 2, \"125\": 1, \"96\": 1, \"27\": 1, \"88\": 1, \"111\": 1, \"70\": 2, \"106\": 1}, \"83\": {\"76\": 1, \"11\": 1, \"83\": 12, \"54\": 1, \"34\": 3, \"19\": 2, \"87\": 2, \"9\": 1, \"126\": 1, \"124\": 1, \"46\": 2, \"93\": 1}, \"14\": {\"14\": 67, \"33\": 8, \"65\": 1, \"122\": 6, \"43\": 1, \"62\": 5, \"8\": 2, \"117\": 1, \"84\": 1, \"42\": 1, \"102\": 1, \"124\": 1, \"11\": 1}, \"63\": {\"26\": 3, \"19\": 1, \"63\": 8, \"13\": 1, \"39\": 1, \"102\": 1, \"18\": 1}, \"11\": {\"11\": 69, \"100\": 1, \"2\": 2, \"122\": 3, \"39\": 5, \"109\": 2, \"8\": 2, \"3\": 5, \"16\": 1, \"84\": 2, \"102\": 1, \"69\": 1, \"124\": 1, \"33\": 6, \"70\": 1, \"114\": 2, \"1\": 1, \"40\": 3, \"87\": 3, \"81\": 1, \"21\": 1, \"14\": 2, \"107\": 1, \"18\": 1, \"7\": 1}, \"95\": {\"95\": 28, \"119\": 1, \"116\": 1, \"117\": 2, \"26\": 2, \"113\": 1, \"2\": 1}, \"26\": {\"26\": 103, \"117\": 9, \"118\": 4, \"16\": 8, \"36\": 1, \"92\": 1, \"39\": 1, \"102\": 1, \"69\": 2}, \"22\": {\"22\": 9, \"123\": 1, \"70\": 1, \"80\": 1, \"9\": 1, \"60\": 1, \"126\": 1, \"14\": 1}, \"102\": {\"102\": 84, \"33\": 6, \"67\": 1, \"46\": 1, \"62\": 16, \"2\": 1, \"26\": 1, \"69\": 5, \"16\": 1, \"18\": 1, \"129\": 2, \"14\": 1}, \"69\": {\"69\": 72, \"102\": 9, \"26\": 1, \"39\": 5, \"16\": 1, \"62\": 10, \"18\": 4, \"11\": 2, \"113\": 1, \"117\": 1}, \"1\": {\"1\": 76, \"74\": 1, \"82\": 2, \"114\": 14, \"14\": 1, \"115\": 1, \"93\": 3, \"11\": 2, \"40\": 5, \"126\": 3, \"43\": 4, \"87\": 2, \"106\": 2, \"8\": 4, \"84\": 4, \"73\": 1, \"101\": 1, \"33\": 2, \"110\": 1, \"124\": 1}, \"67\": {\"67\": 16}, \"57\": {\"57\": 11, \"10\": 1}, \"8\": {\"109\": 6, \"129\": 1, \"8\": 69, \"60\": 1, \"10\": 1, \"124\": 3, \"19\": 1, \"9\": 1, \"69\": 1, \"1\": 6, \"126\": 7, \"18\": 1, \"21\": 2, \"90\": 3, \"93\": 2, \"87\": 4, \"70\": 5, \"43\": 6, \"114\": 1, \"122\": 2, \"84\": 1, \"11\": 2, \"66\": 1, \"100\": 1, \"33\": 3, \"39\": 1, \"7\": 1, \"40\": 1}, \"109\": {\"1\": 3, \"109\": 90, \"23\": 2, \"78\": 1, \"61\": 2, \"19\": 1, \"126\": 3, \"39\": 2, \"7\": 3, \"87\": 2, \"90\": 3, \"10\": 4, \"43\": 2, \"108\": 1, \"48\": 1, \"128\": 1, \"8\": 1, \"3\": 1, \"18\": 1}, \"129\": {\"1\": 2, \"114\": 2, \"100\": 2, \"102\": 1, \"33\": 1, \"129\": 10, \"18\": 1, \"65\": 1, \"39\": 1, \"87\": 1, \"13\": 1, \"83\": 1, \"50\": 1, \"69\": 1, \"84\": 2}, \"111\": {\"111\": 80, \"98\": 2, \"75\": 1, \"93\": 4, \"72\": 1, \"108\": 2, \"127\": 6, \"12\": 3, \"21\": 1, \"0\": 2, \"5\": 6, \"10\": 1, \"27\": 1, \"114\": 1, \"15\": 3, \"71\": 3, \"24\": 2, \"32\": 1}, \"71\": {\"71\": 79, \"102\": 1, \"53\": 3, \"30\": 3, \"52\": 2, \"11\": 1, \"88\": 6, \"98\": 4, \"113\": 1, \"27\": 2, \"24\": 1, \"39\": 2, \"36\": 1, \"43\": 2}, \"47\": {\"47\": 7, \"87\": 1, \"107\": 1, \"108\": 1, \"1\": 1, \"9\": 1}, \"82\": {\"100\": 3, \"82\": 29, \"3\": 1, \"122\": 1, \"5\": 1, \"128\": 1}, \"27\": {\"27\": 30, \"6\": 3, \"59\": 1, \"30\": 2, \"88\": 8, \"71\": 5, \"24\": 6, \"52\": 1, \"125\": 2, \"15\": 7, \"94\": 3, \"12\": 7, \"106\": 3, \"98\": 2, \"111\": 3, \"103\": 1, \"85\": 1, \"28\": 1, \"127\": 2, \"36\": 4}, \"19\": {\"87\": 1, \"122\": 1, \"19\": 16, \"83\": 2, \"4\": 1, \"40\": 1, \"11\": 1, \"43\": 2, \"99\": 1, \"84\": 1, \"81\": 1}, \"122\": {\"19\": 1, \"82\": 3, \"122\": 35, \"100\": 1, \"1\": 3, \"18\": 2, \"14\": 10, \"39\": 2, \"114\": 3, \"84\": 6, \"33\": 4, \"4\": 2, \"105\": 1, \"50\": 1, \"83\": 1, \"129\": 2, \"8\": 1, \"42\": 1, \"43\": 3, \"102\": 1, \"3\": 2, \"109\": 1, \"62\": 1, \"117\": 1}, \"53\": {\"53\": 15, \"91\": 1, \"125\": 1, \"6\": 1, \"30\": 1, \"98\": 1}, \"87\": {\"122\": 4, \"66\": 1, \"87\": 23, \"35\": 1, \"10\": 1, \"4\": 4, \"17\": 1, \"114\": 9, \"107\": 3, \"8\": 3, \"40\": 10, \"81\": 1, \"20\": 1, \"83\": 1, \"82\": 2, \"84\": 7, \"89\": 1, \"109\": 4, \"126\": 1, \"108\": 1, \"11\": 3, \"62\": 1, \"105\": 3, \"102\": 1, \"52\": 1, \"5\": 3, \"78\": 1, \"44\": 1, \"93\": 2, \"33\": 1, \"72\": 1, \"21\": 1, \"43\": 4, \"90\": 2, \"14\": 1, \"110\": 3}, \"100\": {\"11\": 1, \"100\": 8, \"13\": 1, \"122\": 1, \"83\": 1, \"82\": 1, \"50\": 1, \"81\": 2}, \"66\": {\"66\": 12, \"90\": 1, \"19\": 1, \"57\": 1, \"99\": 1}, \"31\": {\"31\": 15, \"68\": 1}, \"58\": {\"58\": 10, \"92\": 1, \"85\": 1}, \"68\": {\"68\": 7, \"58\": 1, \"0\": 3, \"5\": 1, \"127\": 1, \"17\": 1, \"93\": 1, \"110\": 1}, \"88\": {\"37\": 2, \"97\": 2, \"27\": 9, \"108\": 2, \"6\": 1, \"12\": 2, \"53\": 1, \"88\": 30, \"21\": 1, \"71\": 5, \"125\": 12, \"93\": 1, \"36\": 9, \"16\": 1, \"101\": 4, \"98\": 5, \"15\": 4, \"126\": 2, \"10\": 3, \"113\": 1, \"111\": 2, \"106\": 2, \"70\": 2, \"94\": 2, \"24\": 5, \"86\": 1, \"7\": 1, \"0\": 1, \"127\": 1}, \"45\": {\"128\": 1, \"38\": 1, \"109\": 2, \"89\": 1, \"16\": 1, \"116\": 1, \"11\": 1, \"45\": 1, \"36\": 1, \"120\": 2}, \"114\": {\"114\": 77, \"55\": 1, \"3\": 1, \"40\": 11, \"43\": 6, \"1\": 9, \"84\": 9, \"4\": 4, \"105\": 3, \"124\": 1, \"33\": 1, \"87\": 2, \"107\": 2, \"93\": 1}, \"23\": {\"50\": 1, \"23\": 9, \"126\": 2, \"64\": 1, \"0\": 1, \"10\": 4, \"125\": 1, \"104\": 3, \"84\": 1, \"106\": 1}, \"65\": {\"92\": 2, \"65\": 3, \"129\": 1, \"8\": 2, \"93\": 1, \"63\": 1, \"62\": 1, \"18\": 1}, \"124\": {\"124\": 65, \"14\": 3, \"34\": 1, \"3\": 1, \"33\": 3, \"9\": 4, \"83\": 1, \"1\": 5, \"43\": 5, \"102\": 2, \"109\": 1, \"4\": 2, \"84\": 3, \"62\": 2, \"122\": 3, \"87\": 1, \"70\": 2, \"8\": 4, \"11\": 3, \"47\": 1, \"63\": 1, \"89\": 1, \"116\": 2, \"40\": 1, \"88\": 1}, \"10\": {\"10\": 48, \"85\": 2, \"111\": 1, \"7\": 14, \"126\": 15, \"44\": 5, \"41\": 1, \"101\": 7, \"15\": 1, \"93\": 1, \"39\": 2, \"106\": 2, \"109\": 6, \"110\": 2, \"98\": 1, \"5\": 1, \"108\": 3, \"32\": 1, \"0\": 3, \"86\": 1, \"12\": 2, \"87\": 1}, \"92\": {\"92\": 23, \"94\": 1, \"15\": 1, \"111\": 1, \"98\": 2}, \"40\": {\"40\": 78, \"82\": 1, \"84\": 6, \"114\": 14, \"1\": 6, \"107\": 2, \"4\": 3, \"14\": 1, \"105\": 11, \"87\": 6, \"43\": 3, \"5\": 4, \"11\": 1, \"122\": 2, \"9\": 1, \"55\": 1, \"39\": 1, \"102\": 1, \"8\": 1, \"93\": 1}, \"73\": {\"73\": 16, \"109\": 1, \"72\": 1, \"93\": 1, \"7\": 1}, \"94\": {\"94\": 42, \"6\": 2, \"71\": 2, \"36\": 5, \"125\": 5, \"111\": 4, \"27\": 10, \"24\": 2, \"98\": 2, \"88\": 3, \"15\": 10, \"59\": 1, \"30\": 1, \"97\": 1, \"91\": 1, \"118\": 1}, \"81\": {\"81\": 16, \"14\": 1, \"39\": 1, \"32\": 1, \"82\": 1, \"129\": 3, \"13\": 1, \"122\": 1, \"100\": 1, \"19\": 1, \"102\": 1}, \"101\": {\"86\": 1, \"101\": 72, \"0\": 3, \"5\": 2, \"14\": 1, \"107\": 2, \"15\": 1, \"93\": 5, \"40\": 1, \"7\": 6, \"110\": 3, \"70\": 2, \"103\": 1, \"85\": 1, \"72\": 1, \"106\": 1, \"43\": 1, \"108\": 2, \"10\": 1, \"126\": 1, \"3\": 1, \"11\": 1}, \"86\": {\"86\": 22, \"44\": 3, \"92\": 1, \"115\": 1, \"0\": 1, \"108\": 2, \"21\": 1, \"12\": 1, \"89\": 1, \"101\": 2, \"24\": 1}, \"78\": {\"109\": 4, \"96\": 2, \"46\": 3, \"87\": 1, \"115\": 1, \"11\": 2, \"43\": 1, \"83\": 1, \"40\": 1}, \"96\": {\"22\": 1, \"96\": 6, \"25\": 1, \"3\": 1, \"42\": 1, \"35\": 1, \"21\": 1, \"129\": 1, \"107\": 1, \"10\": 1, \"14\": 1, \"109\": 2, \"87\": 1, \"44\": 1}, \"5\": {\"5\": 41, \"107\": 4, \"106\": 7, \"93\": 6, \"114\": 4, \"108\": 1, \"109\": 1, \"110\": 8, \"64\": 1, \"0\": 3, \"105\": 3, \"40\": 2, \"84\": 1, \"8\": 1, \"73\": 1, \"72\": 2, \"10\": 1, \"101\": 1}, \"16\": {\"26\": 14, \"16\": 73, \"113\": 3, \"117\": 13, \"118\": 2, \"121\": 1, \"21\": 1, \"39\": 1}, \"35\": {\"127\": 1, \"35\": 2, \"43\": 2, \"9\": 2, \"89\": 1, \"1\": 1, \"47\": 1, \"17\": 1, \"20\": 1}, \"51\": {\"75\": 1, \"51\": 11, \"52\": 2, \"71\": 1, \"15\": 1}, \"46\": {\"62\": 1, \"46\": 4, \"25\": 1, \"91\": 1, \"6\": 1, \"74\": 1, \"34\": 1, \"129\": 1, \"71\": 1}, \"20\": {\"20\": 13, \"2\": 1, \"87\": 1, \"93\": 1}, \"116\": {\"116\": 19, \"129\": 1, \"43\": 1, \"4\": 1, \"102\": 1, \"89\": 2, \"45\": 1, \"60\": 1, \"100\": 1, \"62\": 1, \"50\": 1, \"38\": 1, \"15\": 1}, \"75\": {\"75\": 14, \"88\": 1, \"125\": 1}, \"43\": {\"84\": 15, \"14\": 4, \"20\": 1, \"87\": 8, \"61\": 4, \"105\": 8, \"1\": 6, \"124\": 6, \"90\": 5, \"4\": 2, \"43\": 26, \"69\": 1, \"101\": 1, \"10\": 1, \"40\": 7, \"39\": 1, \"70\": 2, \"8\": 4, \"109\": 1, \"114\": 8, \"33\": 2, \"9\": 2, \"55\": 1, \"17\": 1, \"99\": 2, \"44\": 2, \"93\": 2, \"3\": 2, \"11\": 2, \"126\": 1}, \"17\": {\"43\": 1, \"17\": 10, \"54\": 1, \"40\": 1, \"35\": 1, \"93\": 1, \"105\": 1}, \"12\": {\"68\": 1, \"85\": 2, \"12\": 55, \"31\": 2, \"106\": 3, \"24\": 4, \"27\": 2, \"98\": 9, \"94\": 1, \"86\": 2, \"127\": 3, \"90\": 1, \"88\": 1, \"111\": 5, \"77\": 1, \"75\": 1, \"49\": 2, \"32\": 1, \"15\": 1, \"9\": 1, \"92\": 1, \"30\": 1, \"71\": 1, \"10\": 1, \"0\": 1, \"125\": 1}, \"25\": {\"25\": 16}, \"54\": {\"79\": 2, \"54\": 7, \"126\": 1, \"87\": 1, \"122\": 1, \"105\": 1, \"38\": 1, \"92\": 1, \"72\": 1}, \"36\": {\"36\": 79, \"125\": 16, \"92\": 2, \"39\": 1, \"94\": 5, \"27\": 3, \"113\": 1, \"88\": 2, \"15\": 2, \"18\": 1}, \"52\": {\"51\": 1, \"52\": 16, \"30\": 2, \"24\": 1}, \"61\": {\"61\": 11, \"128\": 1}, \"106\": {\"55\": 1, \"106\": 66, \"107\": 6, \"12\": 2, \"41\": 1, \"110\": 13, \"127\": 3, \"1\": 2, \"3\": 1, \"5\": 5, \"93\": 4, \"40\": 1, \"101\": 1, \"8\": 1, \"77\": 1, \"19\": 1, \"32\": 1, \"85\": 2, \"87\": 1, \"0\": 3, \"70\": 1, \"15\": 1, \"108\": 1, \"43\": 1}, \"39\": {\"69\": 7, \"2\": 1, \"66\": 1, \"18\": 7, \"63\": 2, \"39\": 53, \"102\": 1, \"11\": 4, \"118\": 3, \"16\": 7, \"117\": 3, \"26\": 4, \"8\": 1, \"122\": 1, \"33\": 2, \"78\": 1, \"109\": 2, \"126\": 1, \"90\": 1, \"3\": 1, \"108\": 1}, \"119\": {\"119\": 15, \"67\": 1}, \"125\": {\"53\": 1, \"125\": 91, \"24\": 5, \"15\": 3, \"94\": 5, \"12\": 4, \"71\": 1, \"36\": 13, \"88\": 10, \"27\": 4, \"111\": 6, \"6\": 1, \"52\": 1, \"30\": 2, \"127\": 1}, \"93\": {\"111\": 1, \"7\": 5, \"93\": 34, \"110\": 12, \"126\": 11, \"9\": 1, \"82\": 1, \"44\": 3, \"106\": 13, \"105\": 3, \"0\": 4, \"3\": 4, \"43\": 2, \"4\": 1, \"108\": 6, \"5\": 13, \"40\": 5, \"107\": 5, \"87\": 2, \"114\": 1, \"70\": 6, \"101\": 2, \"17\": 2, \"61\": 1, \"19\": 2, \"109\": 1, \"85\": 1, \"8\": 3, \"10\": 2, \"122\": 1}, \"115\": {\"73\": 1, \"115\": 7, \"1\": 2, \"104\": 1, \"101\": 1}, \"21\": {\"69\": 1, \"21\": 16, \"96\": 2, \"70\": 2, \"41\": 1, \"90\": 2, \"39\": 2, \"24\": 1, \"108\": 2, \"126\": 1, \"109\": 2, \"11\": 1, \"128\": 1, \"2\": 3, \"92\": 1, \"113\": 1, \"44\": 1}, \"41\": {\"41\": 13, \"108\": 2, \"31\": 1}}, \"W_4\": {\"55\": {\"115\": 1, \"55\": 11, \"1\": 1, \"95\": 1, \"7\": 1, \"103\": 1}, \"9\": {\"59\": 1, \"9\": 10, \"112\": 2, \"7\": 1, \"51\": 2, \"98\": 2, \"5\": 1, \"94\": 4, \"0\": 1, \"58\": 2, \"85\": 1, \"12\": 1}, \"70\": {\"108\": 2, \"70\": 37, \"11\": 3, \"128\": 1, \"99\": 2, \"62\": 1, \"72\": 1, \"85\": 1, \"43\": 3, \"129\": 1, \"4\": 5, \"27\": 3, \"0\": 4, \"124\": 1, \"114\": 7, \"1\": 3, \"90\": 1, \"86\": 1, \"71\": 4, \"39\": 1, \"40\": 2, \"24\": 1, \"127\": 2, \"3\": 10, \"101\": 3, \"7\": 3, \"88\": 3, \"8\": 1, \"100\": 1, \"34\": 1, \"60\": 1, \"42\": 2, \"119\": 2, \"110\": 1, \"102\": 1, \"98\": 1, \"87\": 3, \"93\": 2}, \"112\": {\"112\": 12, \"119\": 1, \"0\": 2, \"72\": 1}, \"115\": {\"13\": 1, \"116\": 2, \"36\": 1, \"109\": 1, \"128\": 1, \"115\": 1, \"18\": 2, \"107\": 1, \"129\": 2, \"120\": 1, \"46\": 1, \"73\": 2}, \"56\": {\"56\": 7, \"71\": 1, \"43\": 1, \"17\": 1, \"46\": 1, \"76\": 1}, \"108\": {\"108\": 33, \"116\": 1, \"82\": 1, \"14\": 4, \"72\": 2, \"25\": 1, \"11\": 6, \"83\": 1, \"32\": 1, \"118\": 1, \"19\": 1, \"38\": 1, \"88\": 3, \"43\": 3, \"99\": 1, \"70\": 2, \"10\": 2, \"122\": 6, \"87\": 3, \"5\": 3, \"124\": 1, \"15\": 1, \"107\": 1, \"100\": 1, \"46\": 1, \"109\": 2, \"78\": 1, \"94\": 1, \"90\": 1, \"44\": 1, \"33\": 1, \"36\": 1, \"93\": 2, \"84\": 1}, \"117\": {\"117\": 77, \"81\": 4, \"39\": 8, \"26\": 9, \"113\": 4, \"8\": 1, \"126\": 4, \"70\": 1, \"121\": 1, \"67\": 2, \"16\": 9, \"62\": 1, \"18\": 3}, \"111\": {\"9\": 2, \"111\": 85, \"49\": 2, \"106\": 6, \"101\": 5, \"3\": 2, \"12\": 5, \"88\": 2, \"114\": 2, \"127\": 11, \"8\": 1, \"0\": 1, \"83\": 1, \"98\": 1, \"10\": 1, \"105\": 1, \"15\": 2, \"4\": 1, \"90\": 1}, \"71\": {\"71\": 68, \"63\": 1, \"37\": 1, \"114\": 8, \"60\": 1, \"95\": 1, \"105\": 1, \"4\": 3, \"15\": 1, \"43\": 1, \"1\": 1, \"87\": 3, \"106\": 1, \"128\": 1, \"124\": 2, \"3\": 3, \"9\": 1, \"40\": 1, \"94\": 1, \"126\": 1, \"10\": 1, \"108\": 1, \"11\": 1}, \"59\": {\"59\": 8, \"25\": 2, \"9\": 1, \"6\": 1}, \"10\": {\"59\": 2, \"112\": 1, \"25\": 1, \"10\": 33, \"24\": 6, \"43\": 1, \"94\": 4, \"6\": 4, \"27\": 7, \"30\": 4, \"70\": 7, \"15\": 12, \"36\": 10, \"7\": 8, \"88\": 3, \"0\": 5, \"106\": 1, \"99\": 1, \"37\": 1, \"78\": 1, \"125\": 5, \"108\": 1, \"42\": 2, \"5\": 1, \"8\": 2, \"11\": 1}, \"83\": {\"4\": 1, \"83\": 19, \"114\": 1, \"72\": 1, \"128\": 2, \"82\": 1, \"43\": 1, \"70\": 1, \"86\": 1}, \"116\": {\"116\": 10, \"39\": 1, \"115\": 1, \"72\": 1, \"48\": 1, \"45\": 1, \"84\": 1, \"69\": 1, \"14\": 2, \"79\": 1, \"33\": 1, \"76\": 1, \"121\": 1, \"5\": 1, \"64\": 1, \"19\": 1, \"118\": 1, \"11\": 1}, \"13\": {\"116\": 2, \"13\": 8, \"109\": 2, \"65\": 1, \"84\": 2, \"62\": 1}, \"4\": {\"4\": 42, \"55\": 1, \"44\": 1, \"71\": 8, \"103\": 2, \"105\": 9, \"95\": 3, \"118\": 1, \"1\": 3, \"106\": 3, \"87\": 2, \"5\": 2, \"110\": 1, \"11\": 4, \"70\": 1, \"114\": 6, \"88\": 2, \"96\": 1, \"128\": 1, \"40\": 2, \"62\": 1, \"107\": 2, \"102\": 1, \"14\": 2, \"43\": 1, \"127\": 1, \"124\": 1}, \"125\": {\"125\": 65, \"58\": 3, \"94\": 5, \"52\": 2, \"24\": 7, \"36\": 7, \"117\": 1, \"111\": 3, \"15\": 2, \"10\": 4, \"98\": 4, \"91\": 1, \"12\": 1, \"113\": 1}, \"102\": {\"14\": 6, \"102\": 78, \"16\": 2, \"69\": 12, \"122\": 5, \"62\": 2, \"109\": 3, \"84\": 8, \"107\": 1, \"126\": 1, \"110\": 2, \"118\": 3, \"26\": 1}, \"47\": {\"58\": 2, \"47\": 9, \"9\": 1}, \"28\": {\"28\": 17, \"31\": 1, \"69\": 1, \"60\": 1}, \"82\": {\"82\": 24, \"60\": 1, \"70\": 1, \"115\": 1, \"33\": 1, \"50\": 2, \"101\": 1, \"40\": 1}, \"60\": {\"108\": 1, \"60\": 8, \"89\": 5, \"104\": 2, \"110\": 1, \"88\": 1, \"102\": 1, \"87\": 1, \"116\": 1, \"62\": 2, \"73\": 1, \"19\": 1, \"28\": 1, \"129\": 1, \"124\": 1, \"11\": 3, \"80\": 1}, \"107\": {\"107\": 78, \"92\": 1, \"40\": 11, \"110\": 2, \"33\": 19, \"78\": 1, \"4\": 1, \"14\": 3, \"43\": 2, \"105\": 3, \"118\": 1, \"84\": 1, \"93\": 1, \"102\": 3, \"13\": 1, \"44\": 1, \"16\": 1, \"1\": 1, \"69\": 1, \"87\": 2}, \"75\": {\"75\": 16}, \"31\": {\"31\": 12, \"102\": 1, \"48\": 1, \"104\": 1, \"57\": 1}, \"92\": {\"31\": 2, \"92\": 16, \"69\": 1, \"2\": 1, \"16\": 1, \"18\": 3, \"117\": 1, \"45\": 1, \"26\": 1, \"39\": 1}, \"58\": {\"125\": 1, \"58\": 12, \"29\": 1, \"91\": 2}, \"113\": {\"113\": 70, \"2\": 2, \"78\": 1, \"126\": 5, \"38\": 1, \"16\": 9, \"84\": 3, \"90\": 2, \"117\": 4, \"81\": 3, \"109\": 6, \"69\": 3, \"5\": 1, \"11\": 1, \"118\": 2, \"39\": 5, \"67\": 1, \"102\": 1, \"88\": 2, \"26\": 2, \"108\": 1, \"93\": 3}, \"95\": {\"82\": 2, \"95\": 16, \"60\": 1, \"73\": 2, \"106\": 3, \"68\": 2, \"4\": 2, \"0\": 1, \"114\": 1, \"70\": 1, \"11\": 1}, \"14\": {\"14\": 77, \"32\": 3, \"126\": 1, \"33\": 6, \"69\": 1, \"40\": 2, \"122\": 4, \"118\": 5, \"102\": 5, \"16\": 1, \"109\": 3, \"110\": 2, \"62\": 1, \"11\": 1}, \"17\": {\"17\": 18, \"120\": 1, \"19\": 1}, \"104\": {\"104\": 9, \"69\": 1, \"64\": 1, \"43\": 1, \"33\": 1, \"109\": 1, \"32\": 1, \"107\": 1}, \"72\": {\"72\": 27, \"93\": 1, \"99\": 1, \"43\": 1, \"32\": 1, \"49\": 1}, \"69\": {\"69\": 94, \"102\": 9, \"88\": 1, \"84\": 9, \"96\": 1, \"16\": 1, \"122\": 1, \"109\": 5, \"118\": 2, \"21\": 1, \"39\": 1, \"14\": 2, \"124\": 1}, \"63\": {\"63\": 15, \"118\": 1}, \"12\": {\"12\": 55, \"30\": 4, \"8\": 3, \"106\": 4, \"111\": 6, \"98\": 3, \"101\": 6, \"127\": 5, \"1\": 1, \"7\": 3, \"88\": 2, \"114\": 1, \"27\": 1, \"24\": 1, \"85\": 1, \"71\": 1, \"0\": 1, \"10\": 2}, \"25\": {\"25\": 13, \"6\": 1, \"10\": 1, \"36\": 1}, \"67\": {\"63\": 1, \"104\": 1, \"13\": 1, \"67\": 6, \"44\": 2, \"84\": 2, \"16\": 1, \"39\": 1, \"109\": 1}, \"50\": {\"72\": 1, \"17\": 1, \"46\": 2, \"50\": 8, \"105\": 1, \"88\": 1, \"109\": 1, \"44\": 1}, \"43\": {\"108\": 8, \"17\": 1, \"46\": 2, \"72\": 2, \"23\": 2, \"87\": 3, \"43\": 20, \"33\": 8, \"40\": 11, \"99\": 2, \"88\": 3, \"129\": 2, \"19\": 1, \"117\": 1, \"70\": 5, \"105\": 8, \"122\": 4, \"1\": 3, \"90\": 4, \"107\": 4, \"11\": 1, \"27\": 1, \"14\": 6, \"109\": 1, \"5\": 2, \"78\": 2, \"4\": 1, \"49\": 1, \"83\": 2, \"20\": 1, \"38\": 1, \"3\": 1, \"0\": 1, \"8\": 1, \"118\": 1, \"114\": 1, \"93\": 1, \"110\": 1}, \"96\": {\"69\": 3, \"96\": 5, \"39\": 1, \"116\": 1, \"2\": 2, \"16\": 2, \"93\": 1, \"80\": 1, \"64\": 1, \"28\": 1, \"65\": 1, \"13\": 1}, \"128\": {\"17\": 2, \"72\": 2, \"128\": 4, \"68\": 1, \"79\": 1, \"71\": 1, \"82\": 2, \"42\": 1, \"108\": 1, \"100\": 2, \"105\": 1, \"106\": 1, \"74\": 1, \"4\": 3, \"88\": 1}, \"77\": {\"77\": 12}, \"54\": {\"54\": 16}, \"118\": {\"90\": 1, \"31\": 1, \"40\": 1, \"102\": 7, \"80\": 1, \"109\": 2, \"62\": 5, \"118\": 32, \"11\": 2, \"2\": 1, \"110\": 1, \"39\": 3, \"69\": 10, \"14\": 9, \"113\": 2, \"70\": 1, \"107\": 3, \"43\": 2, \"93\": 3, \"122\": 4, \"33\": 7, \"84\": 5, \"20\": 2, \"27\": 2, \"126\": 1, \"78\": 1, \"21\": 1, \"88\": 1, \"16\": 1}, \"30\": {\"51\": 1, \"30\": 28, \"111\": 4, \"29\": 4, \"106\": 4, \"49\": 2, \"91\": 2, \"15\": 7, \"125\": 1, \"12\": 4, \"98\": 3, \"10\": 6, \"127\": 1, \"119\": 1, \"53\": 1, \"52\": 1, \"24\": 1, \"85\": 1, \"7\": 2, \"36\": 1, \"101\": 1}, \"51\": {\"30\": 2, \"75\": 3, \"97\": 2, \"51\": 4, \"15\": 1, \"125\": 1, \"94\": 2, \"25\": 1}, \"122\": {\"122\": 19, \"38\": 1, \"102\": 12, \"46\": 1, \"110\": 3, \"62\": 2, \"14\": 5, \"4\": 1, \"107\": 4, \"69\": 1, \"118\": 4, \"93\": 1, \"40\": 5, \"87\": 1, \"7\": 1, \"43\": 1, \"33\": 5, \"84\": 1, \"27\": 2, \"113\": 1, \"114\": 1, \"44\": 2, \"88\": 1, \"78\": 1, \"11\": 2, \"109\": 2, \"90\": 1, \"30\": 1, \"106\": 1, \"108\": 1}, \"46\": {\"46\": 11, \"105\": 3, \"33\": 1, \"76\": 1, \"128\": 1, \"107\": 2, \"40\": 1}, \"79\": {\"79\": 11, \"11\": 1, \"89\": 3, \"33\": 1}, \"103\": {\"46\": 1, \"103\": 12, \"1\": 2, \"114\": 1}, \"74\": {\"43\": 1, \"74\": 10, \"11\": 2, \"84\": 1, \"89\": 2}, \"90\": {\"74\": 1, \"90\": 103, \"19\": 2, \"11\": 7, \"116\": 1, \"33\": 2, \"108\": 1, \"43\": 3, \"87\": 1, \"5\": 6, \"88\": 3, \"93\": 2, \"118\": 2, \"14\": 1, \"37\": 1, \"38\": 1, \"109\": 1, \"32\": 1, \"20\": 1, \"44\": 3, \"121\": 1, \"110\": 2}, \"8\": {\"46\": 1, \"8\": 72, \"12\": 2, \"95\": 1, \"1\": 2, \"98\": 4, \"70\": 11, \"106\": 3, \"101\": 11, \"5\": 1, \"93\": 3, \"87\": 2, \"7\": 6, \"71\": 1, \"0\": 1, \"27\": 9, \"11\": 2, \"24\": 1, \"128\": 2, \"26\": 1, \"10\": 3, \"109\": 1, \"111\": 2}, \"94\": {\"94\": 50, \"97\": 1, \"125\": 9, \"9\": 3, \"24\": 6, \"34\": 1, \"15\": 5, \"36\": 4, \"0\": 2, \"6\": 2, \"25\": 1, \"109\": 1, \"78\": 1, \"106\": 1, \"93\": 1}, \"7\": {\"72\": 6, \"7\": 76, \"70\": 3, \"101\": 6, \"27\": 3, \"12\": 1, \"24\": 1, \"0\": 6, \"36\": 1, \"88\": 4, \"1\": 1, \"3\": 1, \"8\": 6, \"126\": 1, \"112\": 2, \"42\": 2, \"49\": 1, \"108\": 1}, \"61\": {\"26\": 3, \"61\": 10, \"48\": 1, \"65\": 2}, \"26\": {\"26\": 85, \"18\": 12, \"63\": 2, \"126\": 2, \"117\": 7, \"39\": 2, \"123\": 1, \"35\": 1, \"81\": 2, \"11\": 1, \"16\": 3, \"113\": 2}, \"127\": {\"106\": 7, \"127\": 74, \"68\": 1, \"95\": 1, \"111\": 5, \"124\": 1, \"12\": 4, \"4\": 1, \"93\": 1, \"101\": 3, \"71\": 4, \"126\": 1, \"128\": 1, \"40\": 1, \"103\": 1, \"114\": 2}, \"23\": {\"72\": 1, \"26\": 1, \"21\": 1, \"65\": 2, \"88\": 1, \"23\": 4, \"13\": 1, \"122\": 1, \"108\": 1, \"3\": 2, \"52\": 1}, \"1\": {\"1\": 40, \"43\": 4, \"19\": 1, \"87\": 7, \"3\": 9, \"71\": 12, \"107\": 2, \"14\": 1, \"82\": 2, \"105\": 2, \"114\": 10, \"11\": 2, \"0\": 1, \"106\": 1, \"84\": 1, \"86\": 2, \"44\": 1, \"101\": 2, \"33\": 1, \"40\": 1, \"4\": 3, \"5\": 1, \"125\": 1, \"8\": 1}, \"93\": {\"110\": 14, \"93\": 58, \"122\": 5, \"99\": 1, \"44\": 5, \"43\": 7, \"5\": 7, \"10\": 1, \"40\": 1, \"88\": 8, \"33\": 3, \"126\": 1, \"118\": 2, \"90\": 1, \"107\": 2, \"87\": 2, \"109\": 3, \"11\": 7, \"70\": 2, \"39\": 1, \"84\": 1, \"102\": 1, \"108\": 1}, \"106\": {\"7\": 5, \"127\": 7, \"12\": 8, \"106\": 42, \"108\": 1, \"0\": 7, \"30\": 1, \"1\": 1, \"90\": 1, \"95\": 1, \"97\": 1, \"4\": 6, \"101\": 6, \"15\": 2, \"114\": 1, \"126\": 1, \"70\": 1, \"3\": 3, \"39\": 1, \"87\": 2, \"113\": 2, \"10\": 1, \"61\": 1, \"47\": 1, \"27\": 2, \"125\": 2, \"109\": 1, \"118\": 1, \"103\": 1, \"88\": 1, \"11\": 1, \"71\": 1, \"24\": 2, \"94\": 1}, \"110\": {\"17\": 2, \"110\": 22, \"72\": 1, \"99\": 1, \"122\": 2, \"11\": 6, \"62\": 3, \"70\": 3, \"78\": 2, \"69\": 1, \"109\": 3, \"8\": 1, \"102\": 1, \"107\": 6, \"124\": 2, \"33\": 26, \"93\": 11, \"88\": 2, \"5\": 1, \"39\": 1, \"87\": 3, \"7\": 2, \"116\": 1, \"14\": 2, \"40\": 4, \"129\": 1, \"105\": 2, \"108\": 3, \"118\": 1, \"90\": 2}, \"76\": {\"76\": 7, \"109\": 1, \"124\": 2, \"57\": 2, \"28\": 1, \"120\": 1, \"16\": 1, \"118\": 1}, \"36\": {\"36\": 70, \"25\": 2, \"24\": 6, \"106\": 2, \"29\": 1, \"6\": 1, \"15\": 4, \"94\": 5, \"10\": 10, \"127\": 1, \"125\": 7, \"98\": 1, \"111\": 2, \"77\": 1, \"30\": 3, \"54\": 1, \"58\": 1, \"12\": 1, \"109\": 1}, \"21\": {\"21\": 35, \"23\": 1, \"78\": 3, \"109\": 1}, \"37\": {\"11\": 2, \"115\": 1, \"100\": 1, \"37\": 6, \"79\": 2, \"120\": 3, \"1\": 1}, \"11\": {\"108\": 3, \"11\": 52, \"43\": 10, \"44\": 4, \"5\": 13, \"93\": 6, \"109\": 2, \"14\": 5, \"84\": 1, \"124\": 1, \"33\": 2, \"40\": 1, \"102\": 1, \"88\": 5, \"72\": 1, \"114\": 1, \"1\": 1, \"70\": 1, \"78\": 1, \"82\": 1, \"3\": 1, \"90\": 2, \"4\": 1, \"87\": 2, \"110\": 2}, \"109\": {\"109\": 44, \"69\": 8, \"80\": 1, \"27\": 1, \"102\": 7, \"118\": 7, \"88\": 2, \"90\": 1, \"84\": 6, \"108\": 5, \"24\": 1, \"11\": 1, \"110\": 3, \"113\": 4, \"43\": 2, \"16\": 2, \"126\": 2, \"87\": 2, \"14\": 3, \"33\": 2, \"63\": 1, \"122\": 2, \"99\": 2, \"78\": 2, \"38\": 1, \"124\": 1, \"44\": 1, \"70\": 1, \"93\": 1}, \"62\": {\"21\": 1, \"19\": 1, \"18\": 2, \"40\": 1, \"126\": 2, \"62\": 13, \"121\": 1, \"115\": 2, \"84\": 4, \"110\": 4, \"122\": 1, \"118\": 6, \"33\": 3, \"69\": 6, \"102\": 3, \"2\": 1, \"14\": 3, \"96\": 1, \"26\": 1, \"117\": 1, \"11\": 1, \"113\": 1, \"105\": 1}, \"89\": {\"89\": 13, \"37\": 1, \"55\": 1, \"48\": 1, \"3\": 2, \"105\": 3, \"71\": 2, \"60\": 2, \"120\": 2, \"114\": 1, \"73\": 1, \"113\": 1, \"1\": 1, \"116\": 1}, \"126\": {\"65\": 3, \"113\": 12, \"126\": 51, \"18\": 11, \"39\": 7, \"84\": 1, \"121\": 3, \"109\": 8, \"81\": 1, \"117\": 6, \"26\": 5, \"90\": 2, \"124\": 1, \"62\": 2, \"21\": 1, \"38\": 1, \"2\": 1, \"118\": 1, \"88\": 2, \"16\": 4, \"11\": 1}, \"101\": {\"101\": 72, \"68\": 1, \"98\": 5, \"8\": 11, \"27\": 3, \"113\": 1, \"111\": 2, \"12\": 3, \"126\": 1, \"3\": 3, \"30\": 1, \"106\": 3, \"0\": 3, \"7\": 3, \"10\": 2, \"70\": 3, \"127\": 1, \"100\": 1, \"49\": 1, \"124\": 1, \"117\": 1, \"4\": 2, \"1\": 1, \"18\": 1, \"88\": 1, \"24\": 1}, \"65\": {\"65\": 10, \"18\": 1, \"39\": 1}, \"19\": {\"19\": 10, \"60\": 1, \"114\": 1, \"69\": 1, \"120\": 1, \"83\": 1, \"79\": 2, \"11\": 2, \"129\": 2, \"14\": 1, \"46\": 1, \"40\": 1, \"102\": 1, \"118\": 1, \"87\": 2}, \"27\": {\"27\": 43, \"101\": 5, \"127\": 1, \"8\": 12, \"113\": 2, \"4\": 2, \"12\": 1, \"105\": 3, \"0\": 4, \"70\": 7, \"24\": 2, \"7\": 7, \"33\": 1, \"106\": 3, \"119\": 2, \"98\": 1, \"49\": 1, \"87\": 1, \"114\": 1, \"110\": 1}, \"5\": {\"5\": 89, \"23\": 1, \"3\": 2, \"128\": 1, \"33\": 4, \"44\": 6, \"129\": 1, \"108\": 1, \"110\": 5, \"70\": 1, \"122\": 1, \"11\": 2, \"43\": 4, \"118\": 3, \"109\": 3, \"1\": 3, \"93\": 1, \"14\": 1, \"74\": 1, \"49\": 1, \"40\": 1, \"87\": 1, \"114\": 1, \"105\": 2}, \"73\": {\"19\": 5, \"104\": 1, \"110\": 2, \"73\": 6, \"102\": 1, \"101\": 1, \"50\": 1, \"47\": 1, \"33\": 1, \"14\": 1, \"17\": 1, \"96\": 1, \"107\": 1, \"46\": 1}, \"6\": {\"6\": 14, \"25\": 1, \"30\": 1, \"52\": 1, \"29\": 1, \"59\": 1, \"77\": 1, \"58\": 1, \"24\": 2, \"15\": 1}, \"29\": {\"29\": 28, \"30\": 2, \"85\": 1, \"75\": 1}, \"114\": {\"114\": 67, \"87\": 4, \"40\": 2, \"70\": 3, \"49\": 1, \"129\": 1, \"3\": 14, \"4\": 6, \"107\": 1, \"93\": 1, \"1\": 6, \"105\": 6, \"71\": 6, \"14\": 1, \"0\": 2, \"19\": 1, \"55\": 1, \"113\": 1, \"5\": 1, \"8\": 2, \"33\": 1}, \"49\": {\"128\": 1, \"49\": 8, \"119\": 1, \"32\": 1, \"70\": 2, \"0\": 3, \"41\": 1, \"12\": 3, \"5\": 1, \"3\": 2, \"60\": 1, \"51\": 1, \"98\": 1, \"7\": 1, \"11\": 1, \"71\": 1, \"90\": 1, \"24\": 1, \"106\": 1}, \"16\": {\"16\": 80, \"78\": 1, \"63\": 2, \"18\": 4, \"69\": 4, \"122\": 1, \"117\": 5, \"84\": 6, \"39\": 3, \"113\": 5, \"2\": 2, \"13\": 1, \"109\": 1, \"27\": 1, \"126\": 2}, \"68\": {\"68\": 4, \"127\": 2, \"86\": 1, \"42\": 2, \"111\": 3, \"0\": 2, \"95\": 1, \"82\": 1}, \"98\": {\"98\": 94, \"58\": 1, \"112\": 2, \"10\": 4, \"18\": 1, \"108\": 1, \"24\": 3, \"101\": 3, \"0\": 2, \"41\": 1, \"7\": 1, \"85\": 3, \"42\": 2, \"8\": 2}, \"64\": {\"64\": 16}, \"121\": {\"16\": 2, \"18\": 1, \"48\": 1, \"57\": 1, \"11\": 1, \"113\": 4, \"121\": 12, \"87\": 1, \"39\": 2, \"117\": 2, \"109\": 1, \"81\": 1, \"118\": 1, \"102\": 1, \"126\": 1}, \"124\": {\"124\": 68, \"46\": 2, \"5\": 4, \"62\": 1, \"3\": 1, \"20\": 3, \"4\": 4, \"69\": 4, \"114\": 2, \"8\": 1, \"1\": 1, \"26\": 1, \"40\": 3, \"107\": 4, \"84\": 2, \"96\": 1, \"14\": 3, \"103\": 1, \"44\": 1, \"122\": 4, \"87\": 1, \"11\": 1, \"70\": 1}, \"97\": {\"94\": 2, \"119\": 4, \"36\": 2, \"97\": 7, \"51\": 1, \"128\": 1, \"125\": 1, \"9\": 1, \"75\": 1}, \"40\": {\"40\": 70, \"107\": 13, \"86\": 1, \"84\": 2, \"73\": 2, \"43\": 7, \"19\": 2, \"109\": 1, \"105\": 2, \"33\": 15, \"87\": 2, \"44\": 1, \"69\": 1, \"122\": 1, \"14\": 5, \"11\": 2, \"93\": 1, \"17\": 1, \"118\": 1, \"5\": 1, \"82\": 2, \"1\": 1, \"71\": 1, \"110\": 1}, \"119\": {\"119\": 14, \"10\": 1, \"78\": 1}, \"100\": {\"83\": 3, \"106\": 1, \"114\": 1, \"72\": 1, \"60\": 1, \"71\": 3, \"100\": 6, \"34\": 1, \"70\": 1, \"49\": 1, \"27\": 1}, \"87\": {\"108\": 4, \"87\": 28, \"17\": 1, \"40\": 5, \"122\": 1, \"19\": 2, \"95\": 1, \"109\": 2, \"33\": 7, \"105\": 11, \"93\": 3, \"44\": 1, \"114\": 7, \"88\": 4, \"1\": 2, \"27\": 2, \"5\": 3, \"43\": 4, \"107\": 5, \"11\": 4, \"0\": 1, \"110\": 4, \"3\": 1, \"8\": 2, \"14\": 1, \"50\": 2, \"90\": 1, \"73\": 1, \"99\": 1, \"84\": 1, \"70\": 4}, \"88\": {\"114\": 1, \"23\": 1, \"88\": 36, \"8\": 3, \"79\": 1, \"27\": 4, \"93\": 5, \"78\": 1, \"110\": 6, \"70\": 7, \"122\": 4, \"86\": 1, \"24\": 2, \"0\": 3, \"30\": 1, \"87\": 1, \"124\": 3, \"1\": 2, \"39\": 1, \"118\": 3, \"7\": 11, \"90\": 3, \"109\": 6, \"100\": 1, \"129\": 1, \"66\": 1, \"99\": 1, \"19\": 1, \"43\": 2, \"3\": 2, \"21\": 2, \"108\": 2, \"10\": 4, \"113\": 2, \"4\": 1, \"5\": 1, \"101\": 1}, \"52\": {\"52\": 15, \"37\": 1, \"9\": 1, \"0\": 1, \"34\": 2}, \"80\": {\"80\": 12, \"11\": 2, \"88\": 1, \"36\": 1}, \"105\": {\"46\": 3, \"101\": 2, \"50\": 1, \"105\": 52, \"5\": 2, \"14\": 3, \"62\": 1, \"98\": 1, \"40\": 5, \"3\": 3, \"4\": 2, \"39\": 2, \"122\": 1, \"114\": 4, \"33\": 1, \"71\": 5, \"0\": 1, \"107\": 2, \"44\": 2, \"109\": 1, \"126\": 2, \"1\": 1, \"87\": 3}, \"32\": {\"50\": 2, \"14\": 3, \"32\": 16, \"40\": 1, \"44\": 1, \"129\": 1, \"120\": 1, \"118\": 2, \"107\": 1}, \"35\": {\"26\": 1, \"35\": 10, \"23\": 1}, \"99\": {\"99\": 33, \"70\": 1, \"82\": 1, \"72\": 2, \"87\": 1, \"32\": 2}, \"18\": {\"18\": 95, \"81\": 3, \"123\": 2, \"26\": 7, \"117\": 10, \"72\": 1, \"30\": 1, \"16\": 1}, \"24\": {\"85\": 3, \"70\": 8, \"0\": 9, \"24\": 25, \"94\": 6, \"27\": 7, \"12\": 2, \"110\": 1, \"36\": 7, \"7\": 5, \"101\": 5, \"10\": 9, \"125\": 15, \"8\": 2, \"15\": 3, \"25\": 1, \"83\": 1, \"9\": 1, \"98\": 1, \"88\": 1}, \"85\": {\"85\": 24, \"39\": 1, \"7\": 1, \"12\": 2}, \"39\": {\"26\": 6, \"39\": 42, \"60\": 1, \"126\": 10, \"118\": 2, \"109\": 1, \"88\": 2, \"117\": 7, \"18\": 6, \"113\": 4, \"5\": 1, \"70\": 1, \"11\": 1, \"102\": 1, \"16\": 5, \"81\": 1, \"78\": 1, \"65\": 2, \"123\": 1, \"21\": 2, \"93\": 1, \"90\": 1, \"110\": 1}, \"123\": {\"123\": 12, \"113\": 1, \"16\": 2, \"39\": 1}, \"91\": {\"91\": 12, \"128\": 1, \"97\": 1, \"8\": 1, \"125\": 1, \"15\": 3, \"12\": 1, \"77\": 1, \"55\": 1, \"98\": 1, \"101\": 1}, \"78\": {\"16\": 1, \"78\": 12, \"8\": 1, \"72\": 1, \"7\": 1, \"62\": 3, \"53\": 1, \"21\": 1, \"98\": 1, \"105\": 1, \"27\": 1, \"99\": 1, \"39\": 1, \"43\": 1, \"83\": 1, \"15\": 1, \"113\": 1, \"82\": 1, \"88\": 2, \"109\": 1, \"30\": 1, \"107\": 1}, \"38\": {\"38\": 15, \"80\": 1}, \"15\": {\"29\": 1, \"111\": 7, \"15\": 89, \"24\": 5, \"9\": 2, \"41\": 2, \"30\": 1, \"94\": 2, \"126\": 1, \"88\": 1, \"10\": 6, \"12\": 1, \"125\": 2, \"58\": 1, \"106\": 1, \"109\": 1, \"36\": 1, \"39\": 1, \"70\": 1, \"98\": 2}, \"48\": {\"48\": 15, \"31\": 1}, \"45\": {\"44\": 1, \"45\": 9, \"110\": 1, \"57\": 1, \"92\": 4}, \"120\": {\"120\": 15, \"122\": 1, \"124\": 2, \"11\": 1, \"104\": 1}, \"44\": {\"38\": 3, \"44\": 41, \"80\": 1, \"11\": 1, \"93\": 6, \"87\": 2, \"43\": 3, \"5\": 3, \"122\": 1, \"117\": 1, \"108\": 1, \"14\": 1}, \"86\": {\"86\": 6, \"60\": 1, \"5\": 1, \"114\": 4, \"68\": 1, \"71\": 1, \"108\": 2, \"106\": 2, \"74\": 2, \"19\": 1, \"0\": 1, \"42\": 1, \"21\": 1, \"66\": 1, \"12\": 1, \"101\": 2}, \"20\": {\"17\": 1, \"33\": 1, \"20\": 9, \"66\": 1, \"93\": 1, \"14\": 2, \"11\": 1}, \"33\": {\"33\": 108, \"40\": 9, \"69\": 1, \"93\": 3, \"62\": 1, \"107\": 8, \"122\": 1, \"124\": 1, \"14\": 7, \"118\": 2, \"105\": 1, \"110\": 3, \"117\": 1, \"13\": 1, \"81\": 1, \"126\": 1, \"87\": 1}, \"129\": {\"55\": 1, \"40\": 1, \"69\": 2, \"86\": 1, \"129\": 7, \"71\": 2, \"101\": 2, \"107\": 1, \"110\": 1, \"114\": 1, \"14\": 1, \"19\": 1, \"73\": 1, \"39\": 1, \"80\": 1, \"43\": 1, \"33\": 1, \"1\": 1, \"105\": 1}, \"34\": {\"10\": 3, \"34\": 4, \"3\": 1, \"75\": 1, \"31\": 1, \"4\": 1, \"33\": 1, \"114\": 2, \"9\": 1, \"93\": 1, \"15\": 1, \"105\": 1, \"125\": 1, \"19\": 1, \"89\": 1, \"100\": 1, \"97\": 2, \"0\": 2, \"109\": 1, \"25\": 2, \"122\": 1, \"107\": 1, \"1\": 1}, \"81\": {\"35\": 1, \"81\": 26, \"117\": 2, \"2\": 1, \"21\": 2, \"39\": 1, \"126\": 1, \"18\": 2}, \"57\": {\"118\": 1, \"109\": 1, \"57\": 10, \"24\": 1, \"90\": 2, \"93\": 1}, \"0\": {\"0\": 68, \"49\": 4, \"27\": 3, \"71\": 4, \"10\": 1, \"8\": 3, \"70\": 5, \"106\": 3, \"7\": 5, \"93\": 1, \"88\": 2, \"101\": 5, \"3\": 2, \"114\": 3, \"95\": 1, \"86\": 1, \"83\": 1, \"1\": 1, \"87\": 2, \"4\": 1}, \"2\": {\"2\": 14, \"126\": 1, \"21\": 1, \"118\": 2, \"62\": 1, \"117\": 3, \"39\": 1, \"84\": 1, \"18\": 1, \"102\": 1, \"16\": 1, \"109\": 1}, \"42\": {\"42\": 8, \"119\": 1, \"34\": 1, \"97\": 1, \"70\": 1, \"99\": 2, \"8\": 2, \"125\": 2, \"41\": 1, \"27\": 2, \"37\": 2, \"86\": 1, \"0\": 2, \"10\": 1, \"124\": 1}, \"84\": {\"69\": 17, \"84\": 66, \"57\": 3, \"2\": 4, \"27\": 1, \"102\": 12, \"81\": 1, \"14\": 1, \"16\": 3, \"126\": 4, \"117\": 1, \"118\": 6, \"13\": 1, \"110\": 3, \"122\": 2, \"109\": 2, \"62\": 3, \"18\": 1, \"113\": 1}, \"3\": {\"3\": 70, \"8\": 3, \"12\": 1, \"19\": 2, \"114\": 9, \"21\": 1, \"1\": 3, \"82\": 1, \"0\": 2, \"107\": 1, \"126\": 1, \"70\": 3, \"105\": 1, \"122\": 2, \"71\": 7, \"118\": 2, \"87\": 2, \"99\": 1, \"49\": 2, \"83\": 1, \"23\": 1, \"55\": 1, \"39\": 1, \"11\": 1, \"90\": 1, \"43\": 1, \"93\": 2, \"7\": 2, \"24\": 1}, \"41\": {\"42\": 1, \"27\": 1, \"41\": 11, \"98\": 1, \"48\": 1, \"0\": 1}, \"53\": {\"53\": 12, \"30\": 2, \"113\": 1, \"98\": 1}, \"66\": {\"116\": 1, \"3\": 1, \"78\": 2, \"66\": 9, \"14\": 2, \"80\": 1}, \"22\": {\"120\": 2, \"32\": 1, \"22\": 3, \"76\": 2, \"118\": 2, \"89\": 2, \"66\": 1, \"129\": 1, \"60\": 1, \"11\": 1}}, \"C_5\": {\"35\": {\"35\": 35, \"56\": 1}, \"57\": {\"57\": 121, \"47\": 1, \"36\": 3, \"18\": 2, \"1\": 1, \"23\": 1, \"3\": 1, \"20\": 1, \"54\": 1}, \"20\": {\"20\": 133, \"48\": 2, \"45\": 1, \"53\": 3, \"21\": 1, \"25\": 2, \"1\": 2}, \"12\": {\"12\": 84, \"7\": 1, \"30\": 3, \"6\": 1, \"38\": 1, \"45\": 3, \"55\": 1, \"9\": 2}, \"32\": {\"32\": 31, \"7\": 1}, \"25\": {\"25\": 131, \"7\": 1, \"20\": 1, \"53\": 2, \"1\": 1, \"17\": 1, \"41\": 1}, \"44\": {\"5\": 9, \"44\": 106, \"19\": 7, \"33\": 2, \"40\": 9, \"51\": 4, \"29\": 5, \"47\": 1, \"4\": 2, \"25\": 1, \"53\": 1, \"46\": 1}, \"31\": {\"31\": 34, \"49\": 1, \"2\": 1}, \"11\": {\"11\": 106, \"16\": 6, \"46\": 4, \"43\": 11, \"15\": 19, \"0\": 2, \"21\": 1, \"31\": 1}, \"47\": {\"47\": 75, \"54\": 6, \"34\": 1, \"57\": 4, \"3\": 3, \"36\": 9, \"50\": 1, \"23\": 1}, \"23\": {\"23\": 112, \"52\": 4, \"18\": 3, \"3\": 4, \"47\": 1}, \"43\": {\"43\": 138, \"11\": 3, \"16\": 3}, \"37\": {\"37\": 23, \"21\": 1}, \"5\": {\"5\": 88, \"44\": 14, \"40\": 7, \"51\": 3, \"19\": 9, \"45\": 1, \"55\": 1, \"29\": 1, \"50\": 2, \"27\": 1, \"21\": 1}, \"45\": {\"7\": 2, \"45\": 36, \"48\": 6, \"55\": 7, \"8\": 8, \"4\": 5, \"1\": 3, \"6\": 11, \"27\": 5, \"30\": 7, \"40\": 1, \"17\": 15, \"19\": 2, \"53\": 1, \"9\": 10, \"25\": 2, \"38\": 1, \"33\": 1, \"12\": 1}, \"7\": {\"7\": 28, \"40\": 1, \"17\": 1, \"50\": 1, \"55\": 1}, \"13\": {\"13\": 86, \"10\": 9, \"24\": 6, \"15\": 18, \"14\": 1, \"11\": 3, \"21\": 5, \"56\": 3, \"57\": 1, \"0\": 1, \"43\": 2, \"16\": 1}, \"49\": {\"49\": 36}, \"46\": {\"3\": 12, \"46\": 103, \"31\": 2, \"36\": 5, \"2\": 1, \"52\": 10, \"23\": 2, \"43\": 5, \"0\": 3, \"57\": 2, \"11\": 2, \"53\": 1}, \"16\": {\"16\": 115, \"43\": 6, \"25\": 1, \"52\": 3, \"3\": 2, \"11\": 4, \"36\": 1, \"49\": 1, \"46\": 2, \"15\": 1}, \"54\": {\"54\": 112}, \"19\": {\"19\": 143, \"44\": 1, \"40\": 2, \"5\": 4, \"33\": 1, \"9\": 1}, \"55\": {\"55\": 109, \"26\": 1, \"45\": 8, \"48\": 3, \"32\": 2, \"25\": 6, \"6\": 5, \"30\": 4, \"27\": 3, \"1\": 3, \"51\": 1, \"8\": 1, \"9\": 2, \"50\": 2}, \"30\": {\"30\": 111, \"6\": 3, \"45\": 1, \"17\": 11, \"8\": 1, \"1\": 1}, \"34\": {\"34\": 34, \"50\": 1, \"51\": 1}, \"50\": {\"54\": 8, \"5\": 2, \"50\": 35, \"51\": 13, \"7\": 2, \"27\": 11, \"8\": 2, \"55\": 1, \"9\": 7, \"6\": 5, \"25\": 5, \"47\": 6, \"48\": 6, \"18\": 2, \"30\": 3, \"1\": 7, \"53\": 7, \"23\": 1, \"19\": 1, \"29\": 1, \"34\": 1, \"17\": 2, \"32\": 1, \"45\": 2, \"20\": 1, \"21\": 2}, \"3\": {\"3\": 62, \"21\": 1, \"54\": 2, \"46\": 14, \"47\": 3, \"36\": 12, \"52\": 2, \"23\": 1, \"41\": 1, \"16\": 1, \"0\": 1}, \"10\": {\"10\": 53, \"24\": 6, \"13\": 6, \"16\": 1, \"0\": 1, \"21\": 1}, \"27\": {\"27\": 104, \"9\": 26, \"45\": 6, \"6\": 1, \"51\": 1, \"50\": 1, \"55\": 1, \"20\": 1, \"30\": 1}, \"33\": {\"33\": 32}, \"56\": {\"56\": 136, \"35\": 3, \"13\": 1, \"10\": 2}, \"9\": {\"27\": 14, \"9\": 128, \"55\": 2, \"17\": 1, \"53\": 1, \"25\": 1, \"19\": 1, \"45\": 1, \"50\": 1}, \"14\": {\"31\": 6, \"53\": 1, \"43\": 1, \"35\": 1, \"21\": 2, \"14\": 10, \"36\": 2, \"32\": 1, \"34\": 2, \"54\": 2, \"29\": 2, \"37\": 2, \"3\": 1, \"2\": 3, \"47\": 1, \"27\": 1, \"50\": 1, \"51\": 2, \"46\": 2, \"33\": 1}, \"4\": {\"4\": 87, \"7\": 1, \"12\": 1, \"51\": 3, \"45\": 2, \"19\": 3, \"5\": 2, \"40\": 1}, \"42\": {\"42\": 37, \"39\": 2, \"26\": 1}, \"24\": {\"10\": 5, \"24\": 71, \"13\": 1, \"0\": 1, \"15\": 2}, \"39\": {\"39\": 19, \"54\": 1}, \"52\": {\"52\": 118, \"2\": 1, \"36\": 1, \"23\": 4, \"57\": 1, \"54\": 1, \"3\": 1, \"46\": 3}, \"2\": {\"2\": 27, \"52\": 1}, \"28\": {\"28\": 31, \"29\": 1}, \"53\": {\"53\": 112, \"20\": 1, \"48\": 1, \"25\": 5, \"50\": 2, \"1\": 1}, \"17\": {\"17\": 103, \"30\": 6, \"25\": 1, \"45\": 4, \"55\": 2}, \"29\": {\"29\": 117, \"40\": 3, \"51\": 5, \"19\": 3, \"27\": 1, \"28\": 1, \"21\": 1, \"44\": 1}, \"38\": {\"38\": 32}, \"15\": {\"15\": 126, \"24\": 1, \"13\": 3, \"11\": 13, \"43\": 1}, \"26\": {\"26\": 23, \"38\": 1}, \"21\": {\"21\": 143, \"50\": 1}, \"41\": {\"41\": 23, \"1\": 2, \"48\": 1, \"39\": 1, \"7\": 1}, \"48\": {\"48\": 114, \"20\": 2, \"6\": 1, \"1\": 12, \"17\": 1, \"50\": 1, \"55\": 2, \"25\": 3}, \"22\": {\"22\": 25, \"44\": 1, \"41\": 1, \"21\": 1}, \"8\": {\"8\": 139, \"30\": 2, \"50\": 1, \"20\": 1, \"6\": 2, \"1\": 2, \"45\": 1}, \"18\": {\"18\": 53, \"47\": 3, \"23\": 2, \"42\": 4, \"41\": 1, \"8\": 1}, \"0\": {\"11\": 6, \"0\": 91, \"10\": 1, \"3\": 1, \"46\": 4, \"24\": 4, \"57\": 1, \"16\": 4, \"15\": 7, \"43\": 1, \"13\": 2}, \"1\": {\"8\": 5, \"1\": 102, \"48\": 26, \"30\": 1, \"50\": 2, \"6\": 1, \"55\": 1}, \"40\": {\"40\": 61, \"5\": 18, \"44\": 16, \"29\": 5, \"19\": 20, \"45\": 1, \"21\": 1, \"51\": 1, \"28\": 1}, \"6\": {\"6\": 79, \"1\": 5, \"50\": 3, \"17\": 4, \"48\": 7, \"8\": 11, \"30\": 4, \"55\": 2, \"25\": 3, \"45\": 5, \"20\": 1, \"7\": 1, \"32\": 1, \"54\": 1, \"53\": 1}, \"51\": {\"51\": 128, \"17\": 1, \"25\": 3, \"50\": 2, \"20\": 3, \"6\": 1, \"53\": 2, \"21\": 2}, \"36\": {\"36\": 90, \"47\": 1, \"3\": 1}}}, \"per_domain_accuracy\": {\"O_50\": {\"accuracy\": 0.8135416666666667, \"source?\": true}, \"O_14\": {\"accuracy\": 0.8489583333333334, \"source?\": true}, \"O_32\": {\"accuracy\": 0.809375, \"source?\": true}, \"O_44\": {\"accuracy\": 0.7020833333333333, \"source?\": true}, \"O_8\": {\"accuracy\": 0.8197916666666667, \"source?\": true}, \"O_20\": {\"accuracy\": 0.7552083333333334, \"source?\": true}, \"O_38\": {\"accuracy\": 0.8234375, \"source?\": true}, \"O_26\": {\"accuracy\": 0.6197916666666666, \"source?\": true}, \"W_3\": {\"accuracy\": 0.5777838427947598, \"source?\": false}, \"C_4\": {\"accuracy\": 0.850189393939394, \"source?\": false}, \"C_2\": {\"accuracy\": 0.8402387640449438, \"source?\": false}, \"C_3\": {\"accuracy\": 0.8493303571428571, \"source?\": false}, \"W_2\": {\"accuracy\": 0.546484375, \"source?\": false}, \"C_1\": {\"accuracy\": 0.8277027027027027, \"source?\": false}, \"W_1\": {\"accuracy\": 0.5859375, \"source?\": false}, \"W_4\": {\"accuracy\": 0.5236625514403292, \"source?\": false}, \"C_5\": {\"accuracy\": 0.8102304469273743, \"source?\": false}}}, \"history\": {\"epoch_indices\": [1, 2, 3, 4, 5, 6], \"train_label_loss\": [0.9907074205799117, 0.7195468262192749, 0.5820180689561225, 0.5129717886913567, 0.4669806901143775, 0.42449202727349034], \"source_val_label_loss\": [1.0233819484710693, 0.6235621571540833, 0.5705170631408691, 0.46220269799232483, 0.44319748878479004, 0.43533700704574585], \"target_val_label_loss\": [13.195565223693848, 4.123614311218262, 4.618337154388428, 4.3783416748046875, 5.493324279785156, 4.986856937408447], \"source_val_acc_label\": [0.6550455729166667, 0.7740234375, 0.7916666666666666, 0.8328450520833334, 0.8377604166666667, 0.8415690104166667], \"target_val_acc_label\": [0.5536375479978058, 0.6909969829950631, 0.6715578716401536, 0.6829916346681295, 0.6491360394953374, 0.6654895776193088]}, \"dataset_metrics\": {\"source\": {\"train\": {\"n_unique_x\": 179200, \"n_unique_y\": 16, \"n_batch/episode\": 6720}, \"val\": {\"n_unique_x\": 38400, \"n_unique_y\": 16, \"n_batch/episode\": 960}, \"test\": {\"n_unique_x\": 38400, \"n_unique_y\": 16, \"n_batch/episode\": 960}}, \"target\": {\"train\": {\"n_unique_x\": 364205, \"n_unique_y\": 130, \"n_batch/episode\": 13140}, \"val\": {\"n_unique_x\": 77236, \"n_unique_y\": 130, \"n_batch/episode\": 1823}, \"test\": {\"n_unique_x\": 78478, \"n_unique_y\": 130, \"n_batch/episode\": 1857}}}}'"
      ]
     },
     "execution_count": 29,
     "metadata": {},
     "output_type": "execute_result"
    }
   ],
   "source": [
    "json.dumps(experiment)"
   ]
  }
 ],
 "metadata": {
  "celltoolbar": "Tags",
  "kernelspec": {
   "display_name": "Python 3 (ipykernel)",
   "language": "python",
   "name": "python3"
  },
  "language_info": {
   "codemirror_mode": {
    "name": "ipython",
    "version": 3
   },
   "file_extension": ".py",
   "mimetype": "text/x-python",
   "name": "python",
   "nbconvert_exporter": "python",
   "pygments_lexer": "ipython3",
   "version": "3.8.10"
  },
  "papermill": {
   "default_parameters": {},
   "duration": 1224.155302,
   "end_time": "2022-03-21T03:24:31.845196",
   "environment_variables": {},
   "exception": null,
   "input_path": "/mnt/wd500GB/CSC500/csc500-main/csc500-notebooks/templates/tl_ptn_template.ipynb",
   "output_path": "trial.ipynb",
   "parameters": {
    "parameters": {
     "BEST_MODEL_PATH": "./best_model.pth",
     "NUM_LOGS_PER_EPOCH": 10,
     "criteria_for_best": "target_accuracy",
     "dataset_seed": 500,
     "datasets": [
      {
       "domain_prefix": "C_",
       "domains": [
        1,
        2,
        3,
        4,
        5
       ],
       "episode_transforms": [],
       "labels": [
        "1-10.",
        "1-11.",
        "1-15.",
        "1-16.",
        "1-17.",
        "1-18.",
        "1-19.",
        "10-4.",
        "10-7.",
        "11-1.",
        "11-14.",
        "11-17.",
        "11-20.",
        "11-7.",
        "13-20.",
        "13-8.",
        "14-10.",
        "14-11.",
        "14-14.",
        "14-7.",
        "15-1.",
        "15-20.",
        "16-1.",
        "16-16.",
        "17-10.",
        "17-11.",
        "17-2.",
        "19-1.",
        "19-16.",
        "19-19.",
        "19-20.",
        "19-3.",
        "2-10.",
        "2-11.",
        "2-17.",
        "2-18.",
        "2-20.",
        "2-3.",
        "2-4.",
        "2-5.",
        "2-6.",
        "2-7.",
        "2-8.",
        "3-13.",
        "3-18.",
        "3-3.",
        "4-1.",
        "4-10.",
        "4-11.",
        "4-19.",
        "5-5.",
        "6-15.",
        "7-10.",
        "7-14.",
        "8-18.",
        "8-20.",
        "8-3.",
        "8-8."
       ],
       "num_examples_per_domain_per_label": -1,
       "pickle_path": "/mnt/wd500GB/CSC500/csc500-main/datasets/cores.stratified_ds.2022A.pkl",
       "source_or_target_dataset": "target",
       "x_transforms": [
        "unit_power",
        "take_200"
       ]
      },
      {
       "domain_prefix": "W_",
       "domains": [
        1,
        2,
        3,
        4
       ],
       "episode_transforms": [],
       "labels": [
        "1-10",
        "1-12",
        "1-14",
        "1-16",
        "1-18",
        "1-19",
        "1-8",
        "10-11",
        "10-17",
        "10-4",
        "10-7",
        "11-1",
        "11-10",
        "11-19",
        "11-20",
        "11-4",
        "11-7",
        "12-19",
        "12-20",
        "12-7",
        "13-14",
        "13-18",
        "13-19",
        "13-20",
        "13-3",
        "13-7",
        "14-10",
        "14-11",
        "14-12",
        "14-13",
        "14-14",
        "14-19",
        "14-20",
        "14-7",
        "14-8",
        "14-9",
        "15-1",
        "15-19",
        "15-6",
        "16-1",
        "16-16",
        "16-19",
        "16-20",
        "17-10",
        "17-11",
        "18-1",
        "18-10",
        "18-11",
        "18-12",
        "18-13",
        "18-14",
        "18-15",
        "18-16",
        "18-17",
        "18-19",
        "18-2",
        "18-20",
        "18-4",
        "18-5",
        "18-7",
        "18-8",
        "18-9",
        "19-1",
        "19-10",
        "19-11",
        "19-12",
        "19-13",
        "19-14",
        "19-15",
        "19-19",
        "19-2",
        "19-20",
        "19-3",
        "19-4",
        "19-6",
        "19-7",
        "19-8",
        "19-9",
        "2-1",
        "2-13",
        "2-15",
        "2-3",
        "2-4",
        "2-5",
        "2-6",
        "2-7",
        "2-8",
        "20-1",
        "20-12",
        "20-14",
        "20-15",
        "20-16",
        "20-18",
        "20-19",
        "20-20",
        "20-3",
        "20-4",
        "20-5",
        "20-7",
        "20-8",
        "3-1",
        "3-13",
        "3-18",
        "3-2",
        "3-8",
        "4-1",
        "4-10",
        "4-11",
        "5-1",
        "5-5",
        "6-1",
        "6-15",
        "6-6",
        "7-10",
        "7-11",
        "7-12",
        "7-13",
        "7-14",
        "7-7",
        "7-8",
        "7-9",
        "8-1",
        "8-13",
        "8-14",
        "8-18",
        "8-20",
        "8-3",
        "8-8",
        "9-1",
        "9-7"
       ],
       "num_examples_per_domain_per_label": -1,
       "pickle_path": "/mnt/wd500GB/CSC500/csc500-main/datasets/wisig.node3-19.stratified_ds.2022A.pkl",
       "source_or_target_dataset": "target",
       "x_transforms": [
        "unit_power",
        "take_200"
       ]
      },
      {
       "domain_prefix": "O_",
       "domains": [
        32,
        38,
        8,
        44,
        14,
        50,
        20,
        26
       ],
       "episode_transforms": [],
       "labels": [
        "3123D52",
        "3123D65",
        "3123D79",
        "3123D80",
        "3123D54",
        "3123D70",
        "3123D7B",
        "3123D89",
        "3123D58",
        "3123D76",
        "3123D7D",
        "3123EFE",
        "3123D64",
        "3123D78",
        "3123D7E",
        "3124E4A"
       ],
       "num_examples_per_domain_per_label": 2000,
       "pickle_path": "/mnt/wd500GB/CSC500/csc500-main/datasets/oracle.Run1_framed_2000Examples_stratified_ds.2022A.pkl",
       "source_or_target_dataset": "source",
       "x_transforms": [
        "unit_power",
        "take_200",
        "resample_20Msps_to_25Msps"
       ]
      }
     ],
     "device": "cuda",
     "experiment_name": "tl_3Av2:oracle.run1.framed -> cores+wisig",
     "lr": 0.0001,
     "n_epoch": 50,
     "n_query": 2,
     "n_shot": 3,
     "n_way": 16,
     "patience": 3,
     "seed": 500,
     "test_k_factor": 2,
     "torch_default_dtype": "torch.float32",
     "train_k_factor": 3,
     "val_k_factor": 2,
     "x_net": [
      {
       "class": "nnReshape",
       "kargs": {
        "shape": [
         -1,
         1,
         2,
         200
        ]
       }
      },
      {
       "class": "Conv2d",
       "kargs": {
        "bias": false,
        "in_channels": 1,
        "kernel_size": [
         1,
         7
        ],
        "out_channels": 256,
        "padding": [
         0,
         3
        ]
       }
      },
      {
       "class": "ReLU",
       "kargs": {
        "inplace": true
       }
      },
      {
       "class": "BatchNorm2d",
       "kargs": {
        "num_features": 256
       }
      },
      {
       "class": "Conv2d",
       "kargs": {
        "bias": true,
        "in_channels": 256,
        "kernel_size": [
         2,
         7
        ],
        "out_channels": 80,
        "padding": [
         0,
         3
        ]
       }
      },
      {
       "class": "ReLU",
       "kargs": {
        "inplace": true
       }
      },
      {
       "class": "BatchNorm2d",
       "kargs": {
        "num_features": 80
       }
      },
      {
       "class": "Flatten",
       "kargs": {}
      },
      {
       "class": "Linear",
       "kargs": {
        "in_features": 16000,
        "out_features": 256
       }
      },
      {
       "class": "ReLU",
       "kargs": {
        "inplace": true
       }
      },
      {
       "class": "BatchNorm1d",
       "kargs": {
        "num_features": 256
       }
      },
      {
       "class": "Linear",
       "kargs": {
        "in_features": 256,
        "out_features": 256
       }
      }
     ],
     "x_shape": [
      2,
      200
     ]
    }
   },
   "start_time": "2022-03-21T03:04:07.689894",
   "version": "2.3.4"
  }
 },
 "nbformat": 4,
 "nbformat_minor": 5
}