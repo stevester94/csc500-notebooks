{
 "cells": [
  {
   "cell_type": "markdown",
   "id": "9fea5f46",
   "metadata": {
    "papermill": {
     "duration": 0.018089,
     "end_time": "2022-03-21T00:22:03.191101",
     "exception": false,
     "start_time": "2022-03-21T00:22:03.173012",
     "status": "completed"
    },
    "tags": []
   },
   "source": [
    "# Transfer Learning Template"
   ]
  },
  {
   "cell_type": "code",
   "execution_count": 1,
   "id": "0902182a",
   "metadata": {
    "execution": {
     "iopub.execute_input": "2022-03-21T00:22:03.231733Z",
     "iopub.status.busy": "2022-03-21T00:22:03.231343Z",
     "iopub.status.idle": "2022-03-21T00:22:04.170749Z",
     "shell.execute_reply": "2022-03-21T00:22:04.171189Z"
    },
    "papermill": {
     "duration": 0.967468,
     "end_time": "2022-03-21T00:22:04.171416",
     "exception": false,
     "start_time": "2022-03-21T00:22:03.203948",
     "status": "completed"
    },
    "tags": []
   },
   "outputs": [],
   "source": [
    "%load_ext autoreload\n",
    "%autoreload 2\n",
    "%matplotlib inline\n",
    "\n",
    "    \n",
    "import os, json, sys, time, random\n",
    "import numpy as np\n",
    "import torch\n",
    "from torch.optim import Adam\n",
    "from  easydict import EasyDict\n",
    "import matplotlib.pyplot as plt\n",
    "\n",
    "from steves_models.steves_ptn import Steves_Prototypical_Network\n",
    "\n",
    "from steves_utils.lazy_iterable_wrapper import Lazy_Iterable_Wrapper\n",
    "from steves_utils.iterable_aggregator import Iterable_Aggregator\n",
    "from steves_utils.ptn_train_eval_test_jig import  PTN_Train_Eval_Test_Jig\n",
    "from steves_utils.torch_sequential_builder import build_sequential\n",
    "from steves_utils.torch_utils import get_dataset_metrics, ptn_confusion_by_domain_over_dataloader\n",
    "from steves_utils.utils_v2 import (per_domain_accuracy_from_confusion, get_datasets_base_path)\n",
    "from steves_utils.PTN.utils import independent_accuracy_assesment\n",
    "\n",
    "from torch.utils.data import DataLoader\n",
    "\n",
    "from steves_utils.stratified_dataset.episodic_accessor import Episodic_Accessor_Factory\n",
    "\n",
    "from steves_utils.ptn_do_report import (\n",
    "    get_loss_curve,\n",
    "    get_results_table,\n",
    "    get_parameters_table,\n",
    "    get_domain_accuracies,\n",
    ")\n",
    "\n",
    "from steves_utils.transforms import get_chained_transform"
   ]
  },
  {
   "cell_type": "markdown",
   "id": "41c840b4",
   "metadata": {
    "papermill": {
     "duration": 0.013499,
     "end_time": "2022-03-21T00:22:04.205092",
     "exception": false,
     "start_time": "2022-03-21T00:22:04.191593",
     "status": "completed"
    },
    "tags": []
   },
   "source": [
    "# Allowed Parameters\n",
    "These are allowed parameters, not defaults\n",
    "Each of these values need to be present in the injected parameters (the notebook will raise an exception if they are not present)\n",
    "\n",
    "Papermill uses the cell tag \"parameters\" to inject the real parameters below this cell.\n",
    "Enable tags to see what I mean"
   ]
  },
  {
   "cell_type": "code",
   "execution_count": 2,
   "id": "fd44eb83",
   "metadata": {
    "execution": {
     "iopub.execute_input": "2022-03-21T00:22:04.233937Z",
     "iopub.status.busy": "2022-03-21T00:22:04.232972Z",
     "iopub.status.idle": "2022-03-21T00:22:04.245045Z",
     "shell.execute_reply": "2022-03-21T00:22:04.245361Z"
    },
    "papermill": {
     "duration": 0.027084,
     "end_time": "2022-03-21T00:22:04.245459",
     "exception": false,
     "start_time": "2022-03-21T00:22:04.218375",
     "status": "completed"
    },
    "tags": []
   },
   "outputs": [],
   "source": [
    "required_parameters = {\n",
    "    \"experiment_name\",\n",
    "    \"lr\",\n",
    "    \"device\",\n",
    "    \"seed\",\n",
    "    \"dataset_seed\",\n",
    "    \"n_shot\",\n",
    "    \"n_query\",\n",
    "    \"n_way\",\n",
    "    \"train_k_factor\",\n",
    "    \"val_k_factor\",\n",
    "    \"test_k_factor\",\n",
    "    \"n_epoch\",\n",
    "    \"patience\",\n",
    "    \"criteria_for_best\",\n",
    "    \"x_net\",\n",
    "    \"datasets\",\n",
    "    \"torch_default_dtype\",\n",
    "    \"NUM_LOGS_PER_EPOCH\",\n",
    "    \"BEST_MODEL_PATH\",\n",
    "    \"x_shape\",\n",
    "}"
   ]
  },
  {
   "cell_type": "code",
   "execution_count": 3,
   "id": "fa3f0049",
   "metadata": {
    "execution": {
     "iopub.execute_input": "2022-03-21T00:22:04.283127Z",
     "iopub.status.busy": "2022-03-21T00:22:04.282845Z",
     "iopub.status.idle": "2022-03-21T00:22:04.295179Z",
     "shell.execute_reply": "2022-03-21T00:22:04.295591Z"
    },
    "papermill": {
     "duration": 0.032031,
     "end_time": "2022-03-21T00:22:04.295722",
     "exception": false,
     "start_time": "2022-03-21T00:22:04.263691",
     "status": "completed"
    },
    "tags": [
     "parameters"
    ]
   },
   "outputs": [],
   "source": [
    "from steves_utils.CORES.utils import (\n",
    "    ALL_NODES,\n",
    "    ALL_NODES_MINIMUM_1000_EXAMPLES,\n",
    "    ALL_DAYS\n",
    ")\n",
    "\n",
    "from steves_utils.ORACLE.utils_v2 import (\n",
    "    ALL_DISTANCES_FEET_NARROWED,\n",
    "    ALL_RUNS,\n",
    "    ALL_SERIAL_NUMBERS,\n",
    ")\n",
    "\n",
    "standalone_parameters = {}\n",
    "standalone_parameters[\"experiment_name\"] = \"STANDALONE PTN\"\n",
    "standalone_parameters[\"lr\"] = 0.001\n",
    "standalone_parameters[\"device\"] = \"cuda\"\n",
    "\n",
    "standalone_parameters[\"seed\"] = 1337\n",
    "standalone_parameters[\"dataset_seed\"] = 1337\n",
    "\n",
    "standalone_parameters[\"n_way\"] = 8\n",
    "standalone_parameters[\"n_shot\"] = 3\n",
    "standalone_parameters[\"n_query\"]  = 2\n",
    "standalone_parameters[\"train_k_factor\"] = 1\n",
    "standalone_parameters[\"val_k_factor\"] = 2\n",
    "standalone_parameters[\"test_k_factor\"] = 2\n",
    "\n",
    "\n",
    "standalone_parameters[\"n_epoch\"] = 50\n",
    "\n",
    "standalone_parameters[\"patience\"] = 10\n",
    "standalone_parameters[\"criteria_for_best\"] = \"source_loss\"\n",
    "\n",
    "standalone_parameters[\"datasets\"] = [\n",
    "    {\n",
    "        \"labels\": ALL_SERIAL_NUMBERS,\n",
    "        \"domains\": ALL_DISTANCES_FEET_NARROWED,\n",
    "        \"num_examples_per_domain_per_label\": 100,\n",
    "        \"pickle_path\": os.path.join(get_datasets_base_path(), \"oracle.Run1_framed_2000Examples_stratified_ds.2022A.pkl\"),\n",
    "        \"source_or_target_dataset\": \"source\",\n",
    "        \"x_transforms\": [\"unit_mag\", \"minus_two\"],\n",
    "        \"episode_transforms\": [],\n",
    "        \"domain_prefix\": \"ORACLE_\"\n",
    "    },\n",
    "    {\n",
    "        \"labels\": ALL_NODES,\n",
    "        \"domains\": ALL_DAYS,\n",
    "        \"num_examples_per_domain_per_label\": 100,\n",
    "        \"pickle_path\": os.path.join(get_datasets_base_path(), \"cores.stratified_ds.2022A.pkl\"),\n",
    "        \"source_or_target_dataset\": \"target\",\n",
    "        \"x_transforms\": [\"unit_power\", \"times_zero\"],\n",
    "        \"episode_transforms\": [],\n",
    "        \"domain_prefix\": \"CORES_\"\n",
    "    }   \n",
    "]\n",
    "\n",
    "standalone_parameters[\"torch_default_dtype\"] = \"torch.float32\" \n",
    "\n",
    "\n",
    "\n",
    "standalone_parameters[\"x_net\"] =     [\n",
    "    {\"class\": \"nnReshape\", \"kargs\": {\"shape\":[-1, 1, 2, 256]}},\n",
    "    {\"class\": \"Conv2d\", \"kargs\": { \"in_channels\":1, \"out_channels\":256, \"kernel_size\":(1,7), \"bias\":False, \"padding\":(0,3), },},\n",
    "    {\"class\": \"ReLU\", \"kargs\": {\"inplace\": True}},\n",
    "    {\"class\": \"BatchNorm2d\", \"kargs\": {\"num_features\":256}},\n",
    "\n",
    "    {\"class\": \"Conv2d\", \"kargs\": { \"in_channels\":256, \"out_channels\":80, \"kernel_size\":(2,7), \"bias\":True, \"padding\":(0,3), },},\n",
    "    {\"class\": \"ReLU\", \"kargs\": {\"inplace\": True}},\n",
    "    {\"class\": \"BatchNorm2d\", \"kargs\": {\"num_features\":80}},\n",
    "    {\"class\": \"Flatten\", \"kargs\": {}},\n",
    "\n",
    "    {\"class\": \"Linear\", \"kargs\": {\"in_features\": 80*256, \"out_features\": 256}}, # 80 units per IQ pair\n",
    "    {\"class\": \"ReLU\", \"kargs\": {\"inplace\": True}},\n",
    "    {\"class\": \"BatchNorm1d\", \"kargs\": {\"num_features\":256}},\n",
    "\n",
    "    {\"class\": \"Linear\", \"kargs\": {\"in_features\": 256, \"out_features\": 256}},\n",
    "]\n",
    "\n",
    "# Parameters relevant to results\n",
    "# These parameters will basically never need to change\n",
    "standalone_parameters[\"NUM_LOGS_PER_EPOCH\"] = 10\n",
    "standalone_parameters[\"BEST_MODEL_PATH\"] = \"./best_model.pth\"\n",
    "\n",
    "\n",
    "\n",
    "\n"
   ]
  },
  {
   "cell_type": "code",
   "execution_count": 4,
   "id": "9539ccea",
   "metadata": {
    "execution": {
     "iopub.execute_input": "2022-03-21T00:22:04.337732Z",
     "iopub.status.busy": "2022-03-21T00:22:04.337248Z",
     "iopub.status.idle": "2022-03-21T00:22:04.350561Z",
     "shell.execute_reply": "2022-03-21T00:22:04.350946Z"
    },
    "papermill": {
     "duration": 0.035415,
     "end_time": "2022-03-21T00:22:04.351076",
     "exception": false,
     "start_time": "2022-03-21T00:22:04.315661",
     "status": "completed"
    },
    "tags": [
     "injected-parameters"
    ]
   },
   "outputs": [],
   "source": [
    "# Parameters\n",
    "parameters = {\n",
    "    \"experiment_name\": \"tl_3Av2:oracle.run1.framed -> cores+wisig\",\n",
    "    \"device\": \"cuda\",\n",
    "    \"lr\": 0.0001,\n",
    "    \"x_shape\": [2, 200],\n",
    "    \"n_shot\": 3,\n",
    "    \"n_query\": 2,\n",
    "    \"train_k_factor\": 3,\n",
    "    \"val_k_factor\": 2,\n",
    "    \"test_k_factor\": 2,\n",
    "    \"torch_default_dtype\": \"torch.float32\",\n",
    "    \"n_epoch\": 50,\n",
    "    \"patience\": 3,\n",
    "    \"criteria_for_best\": \"target_accuracy\",\n",
    "    \"x_net\": [\n",
    "        {\"class\": \"nnReshape\", \"kargs\": {\"shape\": [-1, 1, 2, 200]}},\n",
    "        {\n",
    "            \"class\": \"Conv2d\",\n",
    "            \"kargs\": {\n",
    "                \"in_channels\": 1,\n",
    "                \"out_channels\": 256,\n",
    "                \"kernel_size\": [1, 7],\n",
    "                \"bias\": False,\n",
    "                \"padding\": [0, 3],\n",
    "            },\n",
    "        },\n",
    "        {\"class\": \"ReLU\", \"kargs\": {\"inplace\": True}},\n",
    "        {\"class\": \"BatchNorm2d\", \"kargs\": {\"num_features\": 256}},\n",
    "        {\n",
    "            \"class\": \"Conv2d\",\n",
    "            \"kargs\": {\n",
    "                \"in_channels\": 256,\n",
    "                \"out_channels\": 80,\n",
    "                \"kernel_size\": [2, 7],\n",
    "                \"bias\": True,\n",
    "                \"padding\": [0, 3],\n",
    "            },\n",
    "        },\n",
    "        {\"class\": \"ReLU\", \"kargs\": {\"inplace\": True}},\n",
    "        {\"class\": \"BatchNorm2d\", \"kargs\": {\"num_features\": 80}},\n",
    "        {\"class\": \"Flatten\", \"kargs\": {}},\n",
    "        {\"class\": \"Linear\", \"kargs\": {\"in_features\": 16000, \"out_features\": 256}},\n",
    "        {\"class\": \"ReLU\", \"kargs\": {\"inplace\": True}},\n",
    "        {\"class\": \"BatchNorm1d\", \"kargs\": {\"num_features\": 256}},\n",
    "        {\"class\": \"Linear\", \"kargs\": {\"in_features\": 256, \"out_features\": 256}},\n",
    "    ],\n",
    "    \"NUM_LOGS_PER_EPOCH\": 10,\n",
    "    \"BEST_MODEL_PATH\": \"./best_model.pth\",\n",
    "    \"n_way\": 16,\n",
    "    \"datasets\": [\n",
    "        {\n",
    "            \"labels\": [\n",
    "                \"1-10.\",\n",
    "                \"1-11.\",\n",
    "                \"1-15.\",\n",
    "                \"1-16.\",\n",
    "                \"1-17.\",\n",
    "                \"1-18.\",\n",
    "                \"1-19.\",\n",
    "                \"10-4.\",\n",
    "                \"10-7.\",\n",
    "                \"11-1.\",\n",
    "                \"11-14.\",\n",
    "                \"11-17.\",\n",
    "                \"11-20.\",\n",
    "                \"11-7.\",\n",
    "                \"13-20.\",\n",
    "                \"13-8.\",\n",
    "                \"14-10.\",\n",
    "                \"14-11.\",\n",
    "                \"14-14.\",\n",
    "                \"14-7.\",\n",
    "                \"15-1.\",\n",
    "                \"15-20.\",\n",
    "                \"16-1.\",\n",
    "                \"16-16.\",\n",
    "                \"17-10.\",\n",
    "                \"17-11.\",\n",
    "                \"17-2.\",\n",
    "                \"19-1.\",\n",
    "                \"19-16.\",\n",
    "                \"19-19.\",\n",
    "                \"19-20.\",\n",
    "                \"19-3.\",\n",
    "                \"2-10.\",\n",
    "                \"2-11.\",\n",
    "                \"2-17.\",\n",
    "                \"2-18.\",\n",
    "                \"2-20.\",\n",
    "                \"2-3.\",\n",
    "                \"2-4.\",\n",
    "                \"2-5.\",\n",
    "                \"2-6.\",\n",
    "                \"2-7.\",\n",
    "                \"2-8.\",\n",
    "                \"3-13.\",\n",
    "                \"3-18.\",\n",
    "                \"3-3.\",\n",
    "                \"4-1.\",\n",
    "                \"4-10.\",\n",
    "                \"4-11.\",\n",
    "                \"4-19.\",\n",
    "                \"5-5.\",\n",
    "                \"6-15.\",\n",
    "                \"7-10.\",\n",
    "                \"7-14.\",\n",
    "                \"8-18.\",\n",
    "                \"8-20.\",\n",
    "                \"8-3.\",\n",
    "                \"8-8.\",\n",
    "            ],\n",
    "            \"domains\": [1, 2, 3, 4, 5],\n",
    "            \"num_examples_per_domain_per_label\": -1,\n",
    "            \"pickle_path\": \"/mnt/wd500GB/CSC500/csc500-main/datasets/cores.stratified_ds.2022A.pkl\",\n",
    "            \"source_or_target_dataset\": \"target\",\n",
    "            \"x_transforms\": [\"unit_power\", \"take_200\"],\n",
    "            \"episode_transforms\": [],\n",
    "            \"domain_prefix\": \"C_\",\n",
    "        },\n",
    "        {\n",
    "            \"labels\": [\n",
    "                \"1-10\",\n",
    "                \"1-12\",\n",
    "                \"1-14\",\n",
    "                \"1-16\",\n",
    "                \"1-18\",\n",
    "                \"1-19\",\n",
    "                \"1-8\",\n",
    "                \"10-11\",\n",
    "                \"10-17\",\n",
    "                \"10-4\",\n",
    "                \"10-7\",\n",
    "                \"11-1\",\n",
    "                \"11-10\",\n",
    "                \"11-19\",\n",
    "                \"11-20\",\n",
    "                \"11-4\",\n",
    "                \"11-7\",\n",
    "                \"12-19\",\n",
    "                \"12-20\",\n",
    "                \"12-7\",\n",
    "                \"13-14\",\n",
    "                \"13-18\",\n",
    "                \"13-19\",\n",
    "                \"13-20\",\n",
    "                \"13-3\",\n",
    "                \"13-7\",\n",
    "                \"14-10\",\n",
    "                \"14-11\",\n",
    "                \"14-12\",\n",
    "                \"14-13\",\n",
    "                \"14-14\",\n",
    "                \"14-19\",\n",
    "                \"14-20\",\n",
    "                \"14-7\",\n",
    "                \"14-8\",\n",
    "                \"14-9\",\n",
    "                \"15-1\",\n",
    "                \"15-19\",\n",
    "                \"15-6\",\n",
    "                \"16-1\",\n",
    "                \"16-16\",\n",
    "                \"16-19\",\n",
    "                \"16-20\",\n",
    "                \"17-10\",\n",
    "                \"17-11\",\n",
    "                \"18-1\",\n",
    "                \"18-10\",\n",
    "                \"18-11\",\n",
    "                \"18-12\",\n",
    "                \"18-13\",\n",
    "                \"18-14\",\n",
    "                \"18-15\",\n",
    "                \"18-16\",\n",
    "                \"18-17\",\n",
    "                \"18-19\",\n",
    "                \"18-2\",\n",
    "                \"18-20\",\n",
    "                \"18-4\",\n",
    "                \"18-5\",\n",
    "                \"18-7\",\n",
    "                \"18-8\",\n",
    "                \"18-9\",\n",
    "                \"19-1\",\n",
    "                \"19-10\",\n",
    "                \"19-11\",\n",
    "                \"19-12\",\n",
    "                \"19-13\",\n",
    "                \"19-14\",\n",
    "                \"19-15\",\n",
    "                \"19-19\",\n",
    "                \"19-2\",\n",
    "                \"19-20\",\n",
    "                \"19-3\",\n",
    "                \"19-4\",\n",
    "                \"19-6\",\n",
    "                \"19-7\",\n",
    "                \"19-8\",\n",
    "                \"19-9\",\n",
    "                \"2-1\",\n",
    "                \"2-13\",\n",
    "                \"2-15\",\n",
    "                \"2-3\",\n",
    "                \"2-4\",\n",
    "                \"2-5\",\n",
    "                \"2-6\",\n",
    "                \"2-7\",\n",
    "                \"2-8\",\n",
    "                \"20-1\",\n",
    "                \"20-12\",\n",
    "                \"20-14\",\n",
    "                \"20-15\",\n",
    "                \"20-16\",\n",
    "                \"20-18\",\n",
    "                \"20-19\",\n",
    "                \"20-20\",\n",
    "                \"20-3\",\n",
    "                \"20-4\",\n",
    "                \"20-5\",\n",
    "                \"20-7\",\n",
    "                \"20-8\",\n",
    "                \"3-1\",\n",
    "                \"3-13\",\n",
    "                \"3-18\",\n",
    "                \"3-2\",\n",
    "                \"3-8\",\n",
    "                \"4-1\",\n",
    "                \"4-10\",\n",
    "                \"4-11\",\n",
    "                \"5-1\",\n",
    "                \"5-5\",\n",
    "                \"6-1\",\n",
    "                \"6-15\",\n",
    "                \"6-6\",\n",
    "                \"7-10\",\n",
    "                \"7-11\",\n",
    "                \"7-12\",\n",
    "                \"7-13\",\n",
    "                \"7-14\",\n",
    "                \"7-7\",\n",
    "                \"7-8\",\n",
    "                \"7-9\",\n",
    "                \"8-1\",\n",
    "                \"8-13\",\n",
    "                \"8-14\",\n",
    "                \"8-18\",\n",
    "                \"8-20\",\n",
    "                \"8-3\",\n",
    "                \"8-8\",\n",
    "                \"9-1\",\n",
    "                \"9-7\",\n",
    "            ],\n",
    "            \"domains\": [1, 2, 3, 4],\n",
    "            \"num_examples_per_domain_per_label\": -1,\n",
    "            \"pickle_path\": \"/mnt/wd500GB/CSC500/csc500-main/datasets/wisig.node3-19.stratified_ds.2022A.pkl\",\n",
    "            \"source_or_target_dataset\": \"target\",\n",
    "            \"x_transforms\": [\"unit_power\", \"take_200\"],\n",
    "            \"episode_transforms\": [],\n",
    "            \"domain_prefix\": \"W_\",\n",
    "        },\n",
    "        {\n",
    "            \"labels\": [\n",
    "                \"3123D52\",\n",
    "                \"3123D65\",\n",
    "                \"3123D79\",\n",
    "                \"3123D80\",\n",
    "                \"3123D54\",\n",
    "                \"3123D70\",\n",
    "                \"3123D7B\",\n",
    "                \"3123D89\",\n",
    "                \"3123D58\",\n",
    "                \"3123D76\",\n",
    "                \"3123D7D\",\n",
    "                \"3123EFE\",\n",
    "                \"3123D64\",\n",
    "                \"3123D78\",\n",
    "                \"3123D7E\",\n",
    "                \"3124E4A\",\n",
    "            ],\n",
    "            \"domains\": [32, 38, 8, 44, 14, 50, 20, 26],\n",
    "            \"num_examples_per_domain_per_label\": 2000,\n",
    "            \"pickle_path\": \"/mnt/wd500GB/CSC500/csc500-main/datasets/oracle.Run1_framed_2000Examples_stratified_ds.2022A.pkl\",\n",
    "            \"source_or_target_dataset\": \"source\",\n",
    "            \"x_transforms\": [\"unit_power\", \"take_200\", \"resample_20Msps_to_25Msps\"],\n",
    "            \"episode_transforms\": [],\n",
    "            \"domain_prefix\": \"O_\",\n",
    "        },\n",
    "    ],\n",
    "    \"seed\": 154325,\n",
    "    \"dataset_seed\": 154325,\n",
    "}\n"
   ]
  },
  {
   "cell_type": "code",
   "execution_count": 5,
   "id": "8fa1cc33",
   "metadata": {
    "execution": {
     "iopub.execute_input": "2022-03-21T00:22:04.385585Z",
     "iopub.status.busy": "2022-03-21T00:22:04.385332Z",
     "iopub.status.idle": "2022-03-21T00:22:04.397320Z",
     "shell.execute_reply": "2022-03-21T00:22:04.396798Z"
    },
    "papermill": {
     "duration": 0.028325,
     "end_time": "2022-03-21T00:22:04.397423",
     "exception": false,
     "start_time": "2022-03-21T00:22:04.369098",
     "status": "completed"
    },
    "tags": []
   },
   "outputs": [],
   "source": [
    "# Set this to True if you want to run this template directly\n",
    "STANDALONE = False\n",
    "if STANDALONE:\n",
    "    print(\"parameters not injected, running with standalone_parameters\")\n",
    "    parameters = standalone_parameters\n",
    "\n",
    "if not 'parameters' in locals() and not 'parameters' in globals():\n",
    "    raise Exception(\"Parameter injection failed\")\n",
    "\n",
    "#Use an easy dict for all the parameters\n",
    "p = EasyDict(parameters)\n",
    "\n",
    "if \"x_shape\" not in p:\n",
    "    p.x_shape = [2,256] # Default to this if we dont supply x_shape\n",
    "\n",
    "\n",
    "supplied_keys = set(p.keys())\n",
    "\n",
    "if  supplied_keys != required_parameters:\n",
    "    print(\"Parameters are incorrect\")\n",
    "    if len(supplied_keys - required_parameters)>0: print(\"Shouldn't have:\", str(supplied_keys - required_parameters))\n",
    "    if len(required_parameters - supplied_keys)>0: print(\"Need to have:\", str(required_parameters - supplied_keys))\n",
    "    raise RuntimeError(\"Parameters are incorrect\")"
   ]
  },
  {
   "cell_type": "code",
   "execution_count": 6,
   "id": "3a028d58",
   "metadata": {
    "execution": {
     "iopub.execute_input": "2022-03-21T00:22:04.429485Z",
     "iopub.status.busy": "2022-03-21T00:22:04.429231Z",
     "iopub.status.idle": "2022-03-21T00:22:04.441275Z",
     "shell.execute_reply": "2022-03-21T00:22:04.440847Z"
    },
    "papermill": {
     "duration": 0.027206,
     "end_time": "2022-03-21T00:22:04.441376",
     "exception": false,
     "start_time": "2022-03-21T00:22:04.414170",
     "status": "completed"
    },
    "tags": []
   },
   "outputs": [],
   "source": [
    "###################################\n",
    "# Set the RNGs and make it all deterministic\n",
    "###################################\n",
    "np.random.seed(p.seed)\n",
    "random.seed(p.seed)\n",
    "torch.manual_seed(p.seed)\n",
    "\n",
    "torch.use_deterministic_algorithms(True) "
   ]
  },
  {
   "cell_type": "code",
   "execution_count": 7,
   "id": "b691acf6",
   "metadata": {
    "execution": {
     "iopub.execute_input": "2022-03-21T00:22:04.475486Z",
     "iopub.status.busy": "2022-03-21T00:22:04.475218Z",
     "iopub.status.idle": "2022-03-21T00:22:04.485902Z",
     "shell.execute_reply": "2022-03-21T00:22:04.485648Z"
    },
    "papermill": {
     "duration": 0.025563,
     "end_time": "2022-03-21T00:22:04.485956",
     "exception": false,
     "start_time": "2022-03-21T00:22:04.460393",
     "status": "completed"
    },
    "tags": []
   },
   "outputs": [],
   "source": [
    "###########################################\n",
    "# The stratified datasets honor this\n",
    "###########################################\n",
    "torch.set_default_dtype(eval(p.torch_default_dtype))"
   ]
  },
  {
   "cell_type": "code",
   "execution_count": 8,
   "id": "b5fba671",
   "metadata": {
    "execution": {
     "iopub.execute_input": "2022-03-21T00:22:04.519068Z",
     "iopub.status.busy": "2022-03-21T00:22:04.518820Z",
     "iopub.status.idle": "2022-03-21T00:22:04.550331Z",
     "shell.execute_reply": "2022-03-21T00:22:04.549817Z"
    },
    "papermill": {
     "duration": 0.04661,
     "end_time": "2022-03-21T00:22:04.550440",
     "exception": false,
     "start_time": "2022-03-21T00:22:04.503830",
     "status": "completed"
    },
    "tags": []
   },
   "outputs": [],
   "source": [
    "###################################\n",
    "# Build the network(s)\n",
    "# Note: It's critical to do this AFTER setting the RNG\n",
    "###################################\n",
    "x_net = build_sequential(p.x_net)"
   ]
  },
  {
   "cell_type": "code",
   "execution_count": 9,
   "id": "5d7e61cc",
   "metadata": {
    "execution": {
     "iopub.execute_input": "2022-03-21T00:22:04.584765Z",
     "iopub.status.busy": "2022-03-21T00:22:04.584518Z",
     "iopub.status.idle": "2022-03-21T00:22:04.599048Z",
     "shell.execute_reply": "2022-03-21T00:22:04.599457Z"
    },
    "papermill": {
     "duration": 0.030773,
     "end_time": "2022-03-21T00:22:04.599584",
     "exception": false,
     "start_time": "2022-03-21T00:22:04.568811",
     "status": "completed"
    },
    "tags": []
   },
   "outputs": [],
   "source": [
    "start_time_secs = time.time()"
   ]
  },
  {
   "cell_type": "code",
   "execution_count": 10,
   "id": "c6b67dfd",
   "metadata": {
    "execution": {
     "iopub.execute_input": "2022-03-21T00:22:04.633347Z",
     "iopub.status.busy": "2022-03-21T00:22:04.633098Z",
     "iopub.status.idle": "2022-03-21T00:22:04.647100Z",
     "shell.execute_reply": "2022-03-21T00:22:04.646853Z"
    },
    "papermill": {
     "duration": 0.029753,
     "end_time": "2022-03-21T00:22:04.647149",
     "exception": false,
     "start_time": "2022-03-21T00:22:04.617396",
     "status": "completed"
    },
    "tags": []
   },
   "outputs": [],
   "source": [
    "p.domains_source = []\n",
    "p.domains_target = []\n",
    "\n",
    "\n",
    "train_original_source = []\n",
    "val_original_source   = []\n",
    "test_original_source  = []\n",
    "\n",
    "train_original_target = []\n",
    "val_original_target   = []\n",
    "test_original_target  = []"
   ]
  },
  {
   "cell_type": "code",
   "execution_count": 11,
   "id": "e3d9c3d3",
   "metadata": {
    "execution": {
     "iopub.execute_input": "2022-03-21T00:22:04.678920Z",
     "iopub.status.busy": "2022-03-21T00:22:04.678674Z",
     "iopub.status.idle": "2022-03-21T00:22:04.689324Z",
     "shell.execute_reply": "2022-03-21T00:22:04.688877Z"
    },
    "papermill": {
     "duration": 0.025284,
     "end_time": "2022-03-21T00:22:04.689411",
     "exception": false,
     "start_time": "2022-03-21T00:22:04.664127",
     "status": "completed"
    },
    "tags": []
   },
   "outputs": [],
   "source": [
    "# global_x_transform_func = lambda x: normalize(x.to(torch.get_default_dtype()), \"unit_power\") # unit_power, unit_mag\n",
    "# global_x_transform_func = lambda x: normalize(x, \"unit_power\") # unit_power, unit_mag"
   ]
  },
  {
   "cell_type": "code",
   "execution_count": 12,
   "id": "acb78fd2",
   "metadata": {
    "execution": {
     "iopub.execute_input": "2022-03-21T00:22:04.725201Z",
     "iopub.status.busy": "2022-03-21T00:22:04.724937Z",
     "iopub.status.idle": "2022-03-21T00:22:04.736250Z",
     "shell.execute_reply": "2022-03-21T00:22:04.735802Z"
    },
    "papermill": {
     "duration": 0.028674,
     "end_time": "2022-03-21T00:22:04.736337",
     "exception": false,
     "start_time": "2022-03-21T00:22:04.707663",
     "status": "completed"
    },
    "tags": []
   },
   "outputs": [],
   "source": [
    "def add_dataset(\n",
    "    labels,\n",
    "    domains,\n",
    "    pickle_path,\n",
    "    x_transforms,\n",
    "    episode_transforms,\n",
    "    domain_prefix,\n",
    "    num_examples_per_domain_per_label,\n",
    "    source_or_target_dataset:str,\n",
    "    iterator_seed=p.seed,\n",
    "    dataset_seed=p.dataset_seed,\n",
    "    n_shot=p.n_shot,\n",
    "    n_way=p.n_way,\n",
    "    n_query=p.n_query,\n",
    "    train_val_test_k_factors=(p.train_k_factor,p.val_k_factor,p.test_k_factor),\n",
    "):\n",
    "   \n",
    "    if x_transforms == []: x_transform = None\n",
    "    else: x_transform = get_chained_transform(x_transforms)\n",
    "    \n",
    "    if episode_transforms == []: episode_transform = None\n",
    "    else: raise Exception(\"episode_transforms not implemented\")\n",
    "    \n",
    "    episode_transform = lambda tup, _prefix=domain_prefix: (_prefix + str(tup[0]), tup[1])\n",
    "\n",
    "\n",
    "    eaf = Episodic_Accessor_Factory(\n",
    "        labels=labels,\n",
    "        domains=domains,\n",
    "        num_examples_per_domain_per_label=num_examples_per_domain_per_label,\n",
    "        iterator_seed=iterator_seed,\n",
    "        dataset_seed=dataset_seed,\n",
    "        n_shot=n_shot,\n",
    "        n_way=n_way,\n",
    "        n_query=n_query,\n",
    "        train_val_test_k_factors=train_val_test_k_factors,\n",
    "        pickle_path=pickle_path,\n",
    "        x_transform_func=x_transform,\n",
    "    )\n",
    "\n",
    "    train, val, test = eaf.get_train(), eaf.get_val(), eaf.get_test()\n",
    "    train = Lazy_Iterable_Wrapper(train, episode_transform)\n",
    "    val = Lazy_Iterable_Wrapper(val, episode_transform)\n",
    "    test = Lazy_Iterable_Wrapper(test, episode_transform)\n",
    "\n",
    "    if source_or_target_dataset==\"source\":\n",
    "        train_original_source.append(train)\n",
    "        val_original_source.append(val)\n",
    "        test_original_source.append(test)\n",
    "\n",
    "        p.domains_source.extend(\n",
    "            [domain_prefix + str(u) for u in domains]\n",
    "        )\n",
    "    elif source_or_target_dataset==\"target\":\n",
    "        train_original_target.append(train)\n",
    "        val_original_target.append(val)\n",
    "        test_original_target.append(test)\n",
    "        p.domains_target.extend(\n",
    "            [domain_prefix + str(u) for u in domains]\n",
    "        )\n",
    "    else:\n",
    "        raise Exception(f\"invalid source_or_target_dataset: {source_or_target_dataset}\")\n",
    "    "
   ]
  },
  {
   "cell_type": "code",
   "execution_count": 13,
   "id": "fe266617",
   "metadata": {
    "execution": {
     "iopub.execute_input": "2022-03-21T00:22:04.770947Z",
     "iopub.status.busy": "2022-03-21T00:22:04.770467Z",
     "iopub.status.idle": "2022-03-21T00:23:13.512403Z",
     "shell.execute_reply": "2022-03-21T00:23:13.512777Z"
    },
    "papermill": {
     "duration": 68.757784,
     "end_time": "2022-03-21T00:23:13.512905",
     "exception": false,
     "start_time": "2022-03-21T00:22:04.755121",
     "status": "completed"
    },
    "tags": []
   },
   "outputs": [],
   "source": [
    "for ds in p.datasets:\n",
    "    add_dataset(**ds)"
   ]
  },
  {
   "cell_type": "code",
   "execution_count": 14,
   "id": "b90d65ac",
   "metadata": {
    "execution": {
     "iopub.execute_input": "2022-03-21T00:23:13.547773Z",
     "iopub.status.busy": "2022-03-21T00:23:13.547519Z",
     "iopub.status.idle": "2022-03-21T00:23:13.562183Z",
     "shell.execute_reply": "2022-03-21T00:23:13.561790Z"
    },
    "papermill": {
     "duration": 0.030213,
     "end_time": "2022-03-21T00:23:13.562274",
     "exception": false,
     "start_time": "2022-03-21T00:23:13.532061",
     "status": "completed"
    },
    "tags": []
   },
   "outputs": [],
   "source": [
    "# from steves_utils.CORES.utils import (\n",
    "#     ALL_NODES,\n",
    "#     ALL_NODES_MINIMUM_1000_EXAMPLES,\n",
    "#     ALL_DAYS\n",
    "# )\n",
    "\n",
    "# add_dataset(\n",
    "#     labels=ALL_NODES,\n",
    "#     domains = ALL_DAYS,\n",
    "#     num_examples_per_domain_per_label=100,\n",
    "#     pickle_path=os.path.join(get_datasets_base_path(), \"cores.stratified_ds.2022A.pkl\"),\n",
    "#     source_or_target_dataset=\"target\",\n",
    "#     x_transform_func=global_x_transform_func,\n",
    "#     domain_modifier=lambda u: f\"cores_{u}\"\n",
    "# )"
   ]
  },
  {
   "cell_type": "code",
   "execution_count": 15,
   "id": "76db484d",
   "metadata": {
    "execution": {
     "iopub.execute_input": "2022-03-21T00:23:13.595497Z",
     "iopub.status.busy": "2022-03-21T00:23:13.595226Z",
     "iopub.status.idle": "2022-03-21T00:23:13.605946Z",
     "shell.execute_reply": "2022-03-21T00:23:13.605559Z"
    },
    "papermill": {
     "duration": 0.026044,
     "end_time": "2022-03-21T00:23:13.606033",
     "exception": false,
     "start_time": "2022-03-21T00:23:13.579989",
     "status": "completed"
    },
    "tags": []
   },
   "outputs": [],
   "source": [
    "# from steves_utils.ORACLE.utils_v2 import (\n",
    "#     ALL_DISTANCES_FEET,\n",
    "#     ALL_RUNS,\n",
    "#     ALL_SERIAL_NUMBERS,\n",
    "# )\n",
    "\n",
    "\n",
    "# add_dataset(\n",
    "#     labels=ALL_SERIAL_NUMBERS,\n",
    "#     domains = list(set(ALL_DISTANCES_FEET) - {2,62}),\n",
    "#     num_examples_per_domain_per_label=100,\n",
    "#     pickle_path=os.path.join(get_datasets_base_path(), \"oracle.Run2_framed_2000Examples_stratified_ds.2022A.pkl\"),\n",
    "#     source_or_target_dataset=\"source\",\n",
    "#     x_transform_func=global_x_transform_func,\n",
    "#     domain_modifier=lambda u: f\"oracle1_{u}\"\n",
    "# )\n"
   ]
  },
  {
   "cell_type": "code",
   "execution_count": 16,
   "id": "97dea9d2",
   "metadata": {
    "execution": {
     "iopub.execute_input": "2022-03-21T00:23:13.637913Z",
     "iopub.status.busy": "2022-03-21T00:23:13.637666Z",
     "iopub.status.idle": "2022-03-21T00:23:13.650999Z",
     "shell.execute_reply": "2022-03-21T00:23:13.650627Z"
    },
    "papermill": {
     "duration": 0.029044,
     "end_time": "2022-03-21T00:23:13.651091",
     "exception": false,
     "start_time": "2022-03-21T00:23:13.622047",
     "status": "completed"
    },
    "tags": []
   },
   "outputs": [],
   "source": [
    "# from steves_utils.ORACLE.utils_v2 import (\n",
    "#     ALL_DISTANCES_FEET,\n",
    "#     ALL_RUNS,\n",
    "#     ALL_SERIAL_NUMBERS,\n",
    "# )\n",
    "\n",
    "\n",
    "# add_dataset(\n",
    "#     labels=ALL_SERIAL_NUMBERS,\n",
    "#     domains = list(set(ALL_DISTANCES_FEET) - {2,62,56}),\n",
    "#     num_examples_per_domain_per_label=100,\n",
    "#     pickle_path=os.path.join(get_datasets_base_path(), \"oracle.Run2_framed_2000Examples_stratified_ds.2022A.pkl\"),\n",
    "#     source_or_target_dataset=\"source\",\n",
    "#     x_transform_func=global_x_transform_func,\n",
    "#     domain_modifier=lambda u: f\"oracle2_{u}\"\n",
    "# )"
   ]
  },
  {
   "cell_type": "code",
   "execution_count": 17,
   "id": "6f289866",
   "metadata": {
    "execution": {
     "iopub.execute_input": "2022-03-21T00:23:13.686174Z",
     "iopub.status.busy": "2022-03-21T00:23:13.685929Z",
     "iopub.status.idle": "2022-03-21T00:23:13.698511Z",
     "shell.execute_reply": "2022-03-21T00:23:13.698099Z"
    },
    "papermill": {
     "duration": 0.028127,
     "end_time": "2022-03-21T00:23:13.698599",
     "exception": false,
     "start_time": "2022-03-21T00:23:13.670472",
     "status": "completed"
    },
    "tags": []
   },
   "outputs": [],
   "source": [
    "# add_dataset(\n",
    "#     labels=list(range(19)),\n",
    "#     domains = [0,1,2],\n",
    "#     num_examples_per_domain_per_label=100,\n",
    "#     pickle_path=os.path.join(get_datasets_base_path(), \"metehan.stratified_ds.2022A.pkl\"),\n",
    "#     source_or_target_dataset=\"target\",\n",
    "#     x_transform_func=global_x_transform_func,\n",
    "#     domain_modifier=lambda u: f\"met_{u}\"\n",
    "# )"
   ]
  },
  {
   "cell_type": "code",
   "execution_count": 18,
   "id": "86a863c3",
   "metadata": {
    "execution": {
     "iopub.execute_input": "2022-03-21T00:23:13.731960Z",
     "iopub.status.busy": "2022-03-21T00:23:13.731707Z",
     "iopub.status.idle": "2022-03-21T00:23:13.744513Z",
     "shell.execute_reply": "2022-03-21T00:23:13.744121Z"
    },
    "papermill": {
     "duration": 0.02825,
     "end_time": "2022-03-21T00:23:13.744601",
     "exception": false,
     "start_time": "2022-03-21T00:23:13.716351",
     "status": "completed"
    },
    "tags": []
   },
   "outputs": [],
   "source": [
    "# # from steves_utils.wisig.utils import (\n",
    "# #     ALL_NODES_MINIMUM_100_EXAMPLES,\n",
    "# #     ALL_NODES_MINIMUM_500_EXAMPLES,\n",
    "# #     ALL_NODES_MINIMUM_1000_EXAMPLES,\n",
    "# #     ALL_DAYS\n",
    "# # )\n",
    "\n",
    "# import steves_utils.wisig.utils as wisig\n",
    "\n",
    "\n",
    "# add_dataset(\n",
    "#     labels=wisig.ALL_NODES_MINIMUM_100_EXAMPLES,\n",
    "#     domains = wisig.ALL_DAYS,\n",
    "#     num_examples_per_domain_per_label=100,\n",
    "#     pickle_path=os.path.join(get_datasets_base_path(), \"wisig.node3-19.stratified_ds.2022A.pkl\"),\n",
    "#     source_or_target_dataset=\"target\",\n",
    "#     x_transform_func=global_x_transform_func,\n",
    "#     domain_modifier=lambda u: f\"wisig_{u}\"\n",
    "# )"
   ]
  },
  {
   "cell_type": "code",
   "execution_count": 19,
   "id": "fd5442bc",
   "metadata": {
    "execution": {
     "iopub.execute_input": "2022-03-21T00:23:13.783152Z",
     "iopub.status.busy": "2022-03-21T00:23:13.782757Z",
     "iopub.status.idle": "2022-03-21T00:23:13.796693Z",
     "shell.execute_reply": "2022-03-21T00:23:13.796303Z"
    },
    "papermill": {
     "duration": 0.033346,
     "end_time": "2022-03-21T00:23:13.796780",
     "exception": false,
     "start_time": "2022-03-21T00:23:13.763434",
     "status": "completed"
    },
    "tags": []
   },
   "outputs": [],
   "source": [
    "###################################\n",
    "# Build the dataset\n",
    "###################################\n",
    "train_original_source = Iterable_Aggregator(train_original_source, p.seed)\n",
    "val_original_source = Iterable_Aggregator(val_original_source, p.seed)\n",
    "test_original_source = Iterable_Aggregator(test_original_source, p.seed)\n",
    "\n",
    "\n",
    "train_original_target = Iterable_Aggregator(train_original_target, p.seed)\n",
    "val_original_target = Iterable_Aggregator(val_original_target, p.seed)\n",
    "test_original_target = Iterable_Aggregator(test_original_target, p.seed)\n",
    "\n",
    "# For CNN We only use X and Y. And we only train on the source.\n",
    "# Properly form the data using a transform lambda and Lazy_Iterable_Wrapper. Finally wrap them in a dataloader\n",
    "\n",
    "transform_lambda = lambda ex: ex[1] # Original is (<domain>, <episode>) so we strip down to episode only\n",
    "\n",
    "train_processed_source = Lazy_Iterable_Wrapper(train_original_source, transform_lambda)\n",
    "val_processed_source   = Lazy_Iterable_Wrapper(val_original_source, transform_lambda)\n",
    "test_processed_source  = Lazy_Iterable_Wrapper(test_original_source, transform_lambda)\n",
    "\n",
    "train_processed_target = Lazy_Iterable_Wrapper(train_original_target, transform_lambda)\n",
    "val_processed_target   = Lazy_Iterable_Wrapper(val_original_target, transform_lambda)\n",
    "test_processed_target  = Lazy_Iterable_Wrapper(test_original_target, transform_lambda)\n",
    "\n",
    "datasets = EasyDict({\n",
    "    \"source\": {\n",
    "        \"original\": {\"train\":train_original_source, \"val\":val_original_source, \"test\":test_original_source},\n",
    "        \"processed\": {\"train\":train_processed_source, \"val\":val_processed_source, \"test\":test_processed_source}\n",
    "    },\n",
    "    \"target\": {\n",
    "        \"original\": {\"train\":train_original_target, \"val\":val_original_target, \"test\":test_original_target},\n",
    "        \"processed\": {\"train\":train_processed_target, \"val\":val_processed_target, \"test\":test_processed_target}\n",
    "    },\n",
    "})"
   ]
  },
  {
   "cell_type": "code",
   "execution_count": 20,
   "id": "5b3c01fc",
   "metadata": {
    "execution": {
     "iopub.execute_input": "2022-03-21T00:23:13.832426Z",
     "iopub.status.busy": "2022-03-21T00:23:13.832179Z",
     "iopub.status.idle": "2022-03-21T00:23:22.686638Z",
     "shell.execute_reply": "2022-03-21T00:23:22.687146Z"
    },
    "papermill": {
     "duration": 8.871626,
     "end_time": "2022-03-21T00:23:22.687309",
     "exception": false,
     "start_time": "2022-03-21T00:23:13.815683",
     "status": "completed"
    },
    "tags": []
   },
   "outputs": [
    {
     "name": "stdout",
     "output_type": "stream",
     "text": [
      "{'O_20', 'O_50', 'O_8', 'O_32', 'O_26', 'O_14', 'O_44', 'O_38'}\n"
     ]
    },
    {
     "name": "stdout",
     "output_type": "stream",
     "text": [
      "{'W_4', 'C_3', 'C_1', 'C_4', 'W_1', 'W_3', 'W_2', 'C_5', 'C_2'}\n"
     ]
    },
    {
     "name": "stdout",
     "output_type": "stream",
     "text": [
      "tensor([[[-0.1931,  0.8758,  0.6037,  ...,  0.7041, -0.3185, -0.0391],\n",
      "         [-0.4046,  0.2170,  0.5919,  ..., -0.1595,  1.0219,  1.0211]],\n",
      "\n",
      "        [[ 0.0508,  1.1559,  0.4146,  ...,  0.4908,  0.3583,  0.9554],\n",
      "         [-0.3878, -0.3983,  0.2625,  ..., -0.2077,  1.1096,  0.3871]],\n",
      "\n",
      "        [[-0.6662, -0.4533,  0.6746,  ...,  0.4228,  0.8722, -0.3763],\n",
      "         [-0.4061, -1.1238,  0.1155,  ..., -0.6004, -0.6856, -1.1481]],\n",
      "\n",
      "        ...,\n",
      "\n",
      "        [[ 0.1025,  0.7138,  0.1906,  ...,  0.9573,  0.9426,  0.7095],\n",
      "         [-0.8851, -0.7284,  1.0025,  ...,  0.3112,  0.3567, -0.9834]],\n",
      "\n",
      "        [[-0.2577,  0.9077,  0.7996,  ...,  0.7522, -0.0283,  0.1294],\n",
      "         [-0.4825, -0.1084,  0.4870,  ..., -0.4464,  1.0524,  0.9217]],\n",
      "\n",
      "        [[-0.7522, -1.1439,  0.5260,  ..., -0.3526, -0.3789, -1.2930],\n",
      "         [ 0.5309,  0.0861, -0.7256,  ..., -0.8873, -0.9504,  0.1101]]])\n"
     ]
    }
   ],
   "source": [
    "from steves_utils.transforms import get_average_magnitude, get_average_power\n",
    "\n",
    "print(set([u for u,_ in val_original_source]))\n",
    "print(set([u for u,_ in val_original_target]))\n",
    "\n",
    "s_x, s_y, q_x, q_y, _ = next(iter(train_processed_source))\n",
    "print(s_x)\n",
    "\n",
    "# for ds in [\n",
    "#     train_processed_source,\n",
    "#     val_processed_source,\n",
    "#     test_processed_source,\n",
    "#     train_processed_target,\n",
    "#     val_processed_target,\n",
    "#     test_processed_target\n",
    "# ]:\n",
    "#     for s_x, s_y, q_x, q_y, _ in ds:\n",
    "#         for X in (s_x, q_x):\n",
    "#             for x in X:\n",
    "#                 assert np.isclose(get_average_magnitude(x.numpy()), 1.0)\n",
    "#                 assert np.isclose(get_average_power(x.numpy()), 1.0)\n",
    "                "
   ]
  },
  {
   "cell_type": "code",
   "execution_count": 21,
   "id": "bbdacba1",
   "metadata": {
    "execution": {
     "iopub.execute_input": "2022-03-21T00:23:22.731621Z",
     "iopub.status.busy": "2022-03-21T00:23:22.726434Z",
     "iopub.status.idle": "2022-03-21T00:23:22.779875Z",
     "shell.execute_reply": "2022-03-21T00:23:22.779410Z"
    },
    "papermill": {
     "duration": 0.072094,
     "end_time": "2022-03-21T00:23:22.779981",
     "exception": false,
     "start_time": "2022-03-21T00:23:22.707887",
     "status": "completed"
    },
    "tags": []
   },
   "outputs": [
    {
     "name": "stdout",
     "output_type": "stream",
     "text": [
      "(2, 200)\n"
     ]
    }
   ],
   "source": [
    "###################################\n",
    "# Build the model\n",
    "###################################\n",
    "# easfsl only wants a tuple for the shape\n",
    "model = Steves_Prototypical_Network(x_net, device=p.device, x_shape=tuple(p.x_shape))\n",
    "optimizer = Adam(params=model.parameters(), lr=p.lr)"
   ]
  },
  {
   "cell_type": "code",
   "execution_count": 22,
   "id": "22b39ac5",
   "metadata": {
    "execution": {
     "iopub.execute_input": "2022-03-21T00:23:22.819454Z",
     "iopub.status.busy": "2022-03-21T00:23:22.819184Z",
     "iopub.status.idle": "2022-03-21T00:48:26.380933Z",
     "shell.execute_reply": "2022-03-21T00:48:26.380696Z"
    },
    "papermill": {
     "duration": 1503.579923,
     "end_time": "2022-03-21T00:48:26.380992",
     "exception": false,
     "start_time": "2022-03-21T00:23:22.801069",
     "status": "completed"
    },
    "tags": []
   },
   "outputs": [
    {
     "name": "stdout",
     "output_type": "stream",
     "text": [
      "epoch: 1, [batch: 1 / 6720], examples_per_second: 47.8331, train_label_loss: 2.9670, \n"
     ]
    },
    {
     "name": "stdout",
     "output_type": "stream",
     "text": [
      "epoch: 1, [batch: 672 / 6720], examples_per_second: 3677.2935, train_label_loss: 1.1053, \n"
     ]
    },
    {
     "name": "stdout",
     "output_type": "stream",
     "text": [
      "epoch: 1, [batch: 1344 / 6720], examples_per_second: 3730.7817, train_label_loss: 0.9497, \n"
     ]
    },
    {
     "name": "stdout",
     "output_type": "stream",
     "text": [
      "epoch: 1, [batch: 2016 / 6720], examples_per_second: 3740.6296, train_label_loss: 0.7982, \n"
     ]
    },
    {
     "name": "stdout",
     "output_type": "stream",
     "text": [
      "epoch: 1, [batch: 2688 / 6720], examples_per_second: 3693.6582, train_label_loss: 0.8974, \n"
     ]
    },
    {
     "name": "stdout",
     "output_type": "stream",
     "text": [
      "epoch: 1, [batch: 3360 / 6720], examples_per_second: 3717.8914, train_label_loss: 0.9688, \n"
     ]
    },
    {
     "name": "stdout",
     "output_type": "stream",
     "text": [
      "epoch: 1, [batch: 4032 / 6720], examples_per_second: 3724.7331, train_label_loss: 0.9886, \n"
     ]
    },
    {
     "name": "stdout",
     "output_type": "stream",
     "text": [
      "epoch: 1, [batch: 4704 / 6720], examples_per_second: 3706.7731, train_label_loss: 0.5775, \n"
     ]
    },
    {
     "name": "stdout",
     "output_type": "stream",
     "text": [
      "epoch: 1, [batch: 5376 / 6720], examples_per_second: 3717.0079, train_label_loss: 0.6324, \n"
     ]
    },
    {
     "name": "stdout",
     "output_type": "stream",
     "text": [
      "epoch: 1, [batch: 6048 / 6720], examples_per_second: 3712.1405, train_label_loss: 0.8078, \n"
     ]
    },
    {
     "name": "stdout",
     "output_type": "stream",
     "text": [
      "=============================================================\n",
      "epoch: 1, source_val_acc_label: 0.6536, target_val_acc_label: 0.6507, source_val_label_loss: 1.0049, target_val_label_loss: 4.7722, \n",
      "=============================================================\n"
     ]
    },
    {
     "name": "stdout",
     "output_type": "stream",
     "text": [
      "New best\n"
     ]
    },
    {
     "name": "stdout",
     "output_type": "stream",
     "text": [
      "epoch: 2, [batch: 1 / 6720], examples_per_second: 4.3789, train_label_loss: 0.6801, \n"
     ]
    },
    {
     "name": "stdout",
     "output_type": "stream",
     "text": [
      "epoch: 2, [batch: 672 / 6720], examples_per_second: 3699.2526, train_label_loss: 0.8812, \n"
     ]
    },
    {
     "name": "stdout",
     "output_type": "stream",
     "text": [
      "epoch: 2, [batch: 1344 / 6720], examples_per_second: 3724.5058, train_label_loss: 1.2155, \n"
     ]
    },
    {
     "name": "stdout",
     "output_type": "stream",
     "text": [
      "epoch: 2, [batch: 2016 / 6720], examples_per_second: 3731.7114, train_label_loss: 0.4641, \n"
     ]
    },
    {
     "name": "stdout",
     "output_type": "stream",
     "text": [
      "epoch: 2, [batch: 2688 / 6720], examples_per_second: 3723.9866, train_label_loss: 0.6318, \n"
     ]
    },
    {
     "name": "stdout",
     "output_type": "stream",
     "text": [
      "epoch: 2, [batch: 3360 / 6720], examples_per_second: 3725.0464, train_label_loss: 0.6547, \n"
     ]
    },
    {
     "name": "stdout",
     "output_type": "stream",
     "text": [
      "epoch: 2, [batch: 4032 / 6720], examples_per_second: 3713.6082, train_label_loss: 0.5174, \n"
     ]
    },
    {
     "name": "stdout",
     "output_type": "stream",
     "text": [
      "epoch: 2, [batch: 4704 / 6720], examples_per_second: 3716.6924, train_label_loss: 0.3830, \n"
     ]
    },
    {
     "name": "stdout",
     "output_type": "stream",
     "text": [
      "epoch: 2, [batch: 5376 / 6720], examples_per_second: 3707.4144, train_label_loss: 1.3292, \n"
     ]
    },
    {
     "name": "stdout",
     "output_type": "stream",
     "text": [
      "epoch: 2, [batch: 6048 / 6720], examples_per_second: 3727.9193, train_label_loss: 0.4203, \n"
     ]
    },
    {
     "name": "stdout",
     "output_type": "stream",
     "text": [
      "=============================================================\n",
      "epoch: 2, source_val_acc_label: 0.7568, target_val_acc_label: 0.6882, source_val_label_loss: 0.6594, target_val_label_loss: 3.6564, \n",
      "=============================================================\n"
     ]
    },
    {
     "name": "stdout",
     "output_type": "stream",
     "text": [
      "New best\n"
     ]
    },
    {
     "name": "stdout",
     "output_type": "stream",
     "text": [
      "epoch: 3, [batch: 1 / 6720], examples_per_second: 4.4014, train_label_loss: 0.9485, \n"
     ]
    },
    {
     "name": "stdout",
     "output_type": "stream",
     "text": [
      "epoch: 3, [batch: 672 / 6720], examples_per_second: 3673.2559, train_label_loss: 0.6410, \n"
     ]
    },
    {
     "name": "stdout",
     "output_type": "stream",
     "text": [
      "epoch: 3, [batch: 1344 / 6720], examples_per_second: 3717.3661, train_label_loss: 1.1436, \n"
     ]
    },
    {
     "name": "stdout",
     "output_type": "stream",
     "text": [
      "epoch: 3, [batch: 2016 / 6720], examples_per_second: 3706.2875, train_label_loss: 0.7721, \n"
     ]
    },
    {
     "name": "stdout",
     "output_type": "stream",
     "text": [
      "epoch: 3, [batch: 2688 / 6720], examples_per_second: 3677.2946, train_label_loss: 0.3744, \n"
     ]
    },
    {
     "name": "stdout",
     "output_type": "stream",
     "text": [
      "epoch: 3, [batch: 3360 / 6720], examples_per_second: 3687.7548, train_label_loss: 0.3349, \n"
     ]
    },
    {
     "name": "stdout",
     "output_type": "stream",
     "text": [
      "epoch: 3, [batch: 4032 / 6720], examples_per_second: 3706.0826, train_label_loss: 0.7842, \n"
     ]
    },
    {
     "name": "stdout",
     "output_type": "stream",
     "text": [
      "epoch: 3, [batch: 4704 / 6720], examples_per_second: 3672.9111, train_label_loss: 0.3704, \n"
     ]
    },
    {
     "name": "stdout",
     "output_type": "stream",
     "text": [
      "epoch: 3, [batch: 5376 / 6720], examples_per_second: 3651.8749, train_label_loss: 0.2192, \n"
     ]
    },
    {
     "name": "stdout",
     "output_type": "stream",
     "text": [
      "epoch: 3, [batch: 6048 / 6720], examples_per_second: 3717.2861, train_label_loss: 0.7466, \n"
     ]
    },
    {
     "name": "stdout",
     "output_type": "stream",
     "text": [
      "=============================================================\n",
      "epoch: 3, source_val_acc_label: 0.8014, target_val_acc_label: 0.6829, source_val_label_loss: 0.5466, target_val_label_loss: 3.8168, \n",
      "=============================================================\n"
     ]
    },
    {
     "name": "stdout",
     "output_type": "stream",
     "text": [
      "epoch: 4, [batch: 1 / 6720], examples_per_second: 4.3836, train_label_loss: 0.3606, \n"
     ]
    },
    {
     "name": "stdout",
     "output_type": "stream",
     "text": [
      "epoch: 4, [batch: 672 / 6720], examples_per_second: 3643.1592, train_label_loss: 0.4270, \n"
     ]
    },
    {
     "name": "stdout",
     "output_type": "stream",
     "text": [
      "epoch: 4, [batch: 1344 / 6720], examples_per_second: 3684.5847, train_label_loss: 0.3311, \n"
     ]
    },
    {
     "name": "stdout",
     "output_type": "stream",
     "text": [
      "epoch: 4, [batch: 2016 / 6720], examples_per_second: 3710.3893, train_label_loss: 0.2332, \n"
     ]
    },
    {
     "name": "stdout",
     "output_type": "stream",
     "text": [
      "epoch: 4, [batch: 2688 / 6720], examples_per_second: 3707.6047, train_label_loss: 0.5212, \n"
     ]
    },
    {
     "name": "stdout",
     "output_type": "stream",
     "text": [
      "epoch: 4, [batch: 3360 / 6720], examples_per_second: 3715.9742, train_label_loss: 0.3653, \n"
     ]
    },
    {
     "name": "stdout",
     "output_type": "stream",
     "text": [
      "epoch: 4, [batch: 4032 / 6720], examples_per_second: 3720.4164, train_label_loss: 0.5390, \n"
     ]
    },
    {
     "name": "stdout",
     "output_type": "stream",
     "text": [
      "epoch: 4, [batch: 4704 / 6720], examples_per_second: 3687.2189, train_label_loss: 0.3386, \n"
     ]
    },
    {
     "name": "stdout",
     "output_type": "stream",
     "text": [
      "epoch: 4, [batch: 5376 / 6720], examples_per_second: 3729.0609, train_label_loss: 0.4195, \n"
     ]
    },
    {
     "name": "stdout",
     "output_type": "stream",
     "text": [
      "epoch: 4, [batch: 6048 / 6720], examples_per_second: 3738.3995, train_label_loss: 0.2695, \n"
     ]
    },
    {
     "name": "stdout",
     "output_type": "stream",
     "text": [
      "=============================================================\n",
      "epoch: 4, source_val_acc_label: 0.8293, target_val_acc_label: 0.6775, source_val_label_loss: 0.4623, target_val_label_loss: 3.8520, \n",
      "=============================================================\n"
     ]
    },
    {
     "name": "stdout",
     "output_type": "stream",
     "text": [
      "epoch: 5, [batch: 1 / 6720], examples_per_second: 4.3760, train_label_loss: 0.7692, \n"
     ]
    },
    {
     "name": "stdout",
     "output_type": "stream",
     "text": [
      "epoch: 5, [batch: 672 / 6720], examples_per_second: 3642.1986, train_label_loss: 0.7934, \n"
     ]
    },
    {
     "name": "stdout",
     "output_type": "stream",
     "text": [
      "epoch: 5, [batch: 1344 / 6720], examples_per_second: 3729.6759, train_label_loss: 0.3507, \n"
     ]
    },
    {
     "name": "stdout",
     "output_type": "stream",
     "text": [
      "epoch: 5, [batch: 2016 / 6720], examples_per_second: 3714.3545, train_label_loss: 1.0353, \n"
     ]
    },
    {
     "name": "stdout",
     "output_type": "stream",
     "text": [
      "epoch: 5, [batch: 2688 / 6720], examples_per_second: 3713.0753, train_label_loss: 0.3749, \n"
     ]
    },
    {
     "name": "stdout",
     "output_type": "stream",
     "text": [
      "epoch: 5, [batch: 3360 / 6720], examples_per_second: 3718.3962, train_label_loss: 1.0475, \n"
     ]
    },
    {
     "name": "stdout",
     "output_type": "stream",
     "text": [
      "epoch: 5, [batch: 4032 / 6720], examples_per_second: 3711.6956, train_label_loss: 0.2268, \n"
     ]
    },
    {
     "name": "stdout",
     "output_type": "stream",
     "text": [
      "epoch: 5, [batch: 4704 / 6720], examples_per_second: 3705.3687, train_label_loss: 0.5123, \n"
     ]
    },
    {
     "name": "stdout",
     "output_type": "stream",
     "text": [
      "epoch: 5, [batch: 5376 / 6720], examples_per_second: 3725.3940, train_label_loss: 0.2742, \n"
     ]
    },
    {
     "name": "stdout",
     "output_type": "stream",
     "text": [
      "epoch: 5, [batch: 6048 / 6720], examples_per_second: 3714.8952, train_label_loss: 0.5240, \n"
     ]
    },
    {
     "name": "stdout",
     "output_type": "stream",
     "text": [
      "=============================================================\n",
      "epoch: 5, source_val_acc_label: 0.8382, target_val_acc_label: 0.6996, source_val_label_loss: 0.4403, target_val_label_loss: 3.7502, \n",
      "=============================================================\n"
     ]
    },
    {
     "name": "stdout",
     "output_type": "stream",
     "text": [
      "New best\n"
     ]
    },
    {
     "name": "stdout",
     "output_type": "stream",
     "text": [
      "epoch: 6, [batch: 1 / 6720], examples_per_second: 4.3880, train_label_loss: 0.3514, \n"
     ]
    },
    {
     "name": "stdout",
     "output_type": "stream",
     "text": [
      "epoch: 6, [batch: 672 / 6720], examples_per_second: 3642.4577, train_label_loss: 0.1207, \n"
     ]
    },
    {
     "name": "stdout",
     "output_type": "stream",
     "text": [
      "epoch: 6, [batch: 1344 / 6720], examples_per_second: 3666.6303, train_label_loss: 0.2991, \n"
     ]
    },
    {
     "name": "stdout",
     "output_type": "stream",
     "text": [
      "epoch: 6, [batch: 2016 / 6720], examples_per_second: 3694.3125, train_label_loss: 0.3713, \n"
     ]
    },
    {
     "name": "stdout",
     "output_type": "stream",
     "text": [
      "epoch: 6, [batch: 2688 / 6720], examples_per_second: 3680.7729, train_label_loss: 0.3715, \n"
     ]
    },
    {
     "name": "stdout",
     "output_type": "stream",
     "text": [
      "epoch: 6, [batch: 3360 / 6720], examples_per_second: 3700.6384, train_label_loss: 0.3739, \n"
     ]
    },
    {
     "name": "stdout",
     "output_type": "stream",
     "text": [
      "epoch: 6, [batch: 4032 / 6720], examples_per_second: 3712.9747, train_label_loss: 0.3718, \n"
     ]
    },
    {
     "name": "stdout",
     "output_type": "stream",
     "text": [
      "epoch: 6, [batch: 4704 / 6720], examples_per_second: 3713.2847, train_label_loss: 0.4994, \n"
     ]
    },
    {
     "name": "stdout",
     "output_type": "stream",
     "text": [
      "epoch: 6, [batch: 5376 / 6720], examples_per_second: 3720.3429, train_label_loss: 0.4435, \n"
     ]
    },
    {
     "name": "stdout",
     "output_type": "stream",
     "text": [
      "epoch: 6, [batch: 6048 / 6720], examples_per_second: 3723.6896, train_label_loss: 0.2268, \n"
     ]
    },
    {
     "name": "stdout",
     "output_type": "stream",
     "text": [
      "=============================================================\n",
      "epoch: 6, source_val_acc_label: 0.8415, target_val_acc_label: 0.6861, source_val_label_loss: 0.4347, target_val_label_loss: 4.5698, \n",
      "=============================================================\n"
     ]
    },
    {
     "name": "stdout",
     "output_type": "stream",
     "text": [
      "epoch: 7, [batch: 1 / 6720], examples_per_second: 4.3706, train_label_loss: 0.2148, \n"
     ]
    },
    {
     "name": "stdout",
     "output_type": "stream",
     "text": [
      "epoch: 7, [batch: 672 / 6720], examples_per_second: 3662.5415, train_label_loss: 0.1840, \n"
     ]
    },
    {
     "name": "stdout",
     "output_type": "stream",
     "text": [
      "epoch: 7, [batch: 1344 / 6720], examples_per_second: 3713.2869, train_label_loss: 0.3156, \n"
     ]
    },
    {
     "name": "stdout",
     "output_type": "stream",
     "text": [
      "epoch: 7, [batch: 2016 / 6720], examples_per_second: 3719.2190, train_label_loss: 0.3459, \n"
     ]
    },
    {
     "name": "stdout",
     "output_type": "stream",
     "text": [
      "epoch: 7, [batch: 2688 / 6720], examples_per_second: 3702.5840, train_label_loss: 0.0472, \n"
     ]
    },
    {
     "name": "stdout",
     "output_type": "stream",
     "text": [
      "epoch: 7, [batch: 3360 / 6720], examples_per_second: 3728.7827, train_label_loss: 0.0588, \n"
     ]
    },
    {
     "name": "stdout",
     "output_type": "stream",
     "text": [
      "epoch: 7, [batch: 4032 / 6720], examples_per_second: 3722.4951, train_label_loss: 0.1393, \n"
     ]
    },
    {
     "name": "stdout",
     "output_type": "stream",
     "text": [
      "epoch: 7, [batch: 4704 / 6720], examples_per_second: 3718.4775, train_label_loss: 0.2329, \n"
     ]
    },
    {
     "name": "stdout",
     "output_type": "stream",
     "text": [
      "epoch: 7, [batch: 5376 / 6720], examples_per_second: 3719.7856, train_label_loss: 0.4143, \n"
     ]
    },
    {
     "name": "stdout",
     "output_type": "stream",
     "text": [
      "epoch: 7, [batch: 6048 / 6720], examples_per_second: 3714.6621, train_label_loss: 0.3187, \n"
     ]
    },
    {
     "name": "stdout",
     "output_type": "stream",
     "text": [
      "=============================================================\n",
      "epoch: 7, source_val_acc_label: 0.8472, target_val_acc_label: 0.6870, source_val_label_loss: 0.4163, target_val_label_loss: 4.4845, \n",
      "=============================================================\n"
     ]
    },
    {
     "name": "stdout",
     "output_type": "stream",
     "text": [
      "epoch: 8, [batch: 1 / 6720], examples_per_second: 4.3917, train_label_loss: 0.3742, \n"
     ]
    },
    {
     "name": "stdout",
     "output_type": "stream",
     "text": [
      "epoch: 8, [batch: 672 / 6720], examples_per_second: 3687.4083, train_label_loss: 0.1902, \n"
     ]
    },
    {
     "name": "stdout",
     "output_type": "stream",
     "text": [
      "epoch: 8, [batch: 1344 / 6720], examples_per_second: 3710.8444, train_label_loss: 0.1306, \n"
     ]
    },
    {
     "name": "stdout",
     "output_type": "stream",
     "text": [
      "epoch: 8, [batch: 2016 / 6720], examples_per_second: 3702.7377, train_label_loss: 0.6209, \n"
     ]
    },
    {
     "name": "stdout",
     "output_type": "stream",
     "text": [
      "epoch: 8, [batch: 2688 / 6720], examples_per_second: 3704.5328, train_label_loss: 0.4976, \n"
     ]
    },
    {
     "name": "stdout",
     "output_type": "stream",
     "text": [
      "epoch: 8, [batch: 3360 / 6720], examples_per_second: 3726.4657, train_label_loss: 0.8036, \n"
     ]
    },
    {
     "name": "stdout",
     "output_type": "stream",
     "text": [
      "epoch: 8, [batch: 4032 / 6720], examples_per_second: 3709.3490, train_label_loss: 0.4138, \n"
     ]
    },
    {
     "name": "stdout",
     "output_type": "stream",
     "text": [
      "epoch: 8, [batch: 4704 / 6720], examples_per_second: 3684.6562, train_label_loss: 0.1340, \n"
     ]
    },
    {
     "name": "stdout",
     "output_type": "stream",
     "text": [
      "epoch: 8, [batch: 5376 / 6720], examples_per_second: 3668.8836, train_label_loss: 0.1084, \n"
     ]
    },
    {
     "name": "stdout",
     "output_type": "stream",
     "text": [
      "epoch: 8, [batch: 6048 / 6720], examples_per_second: 3701.9015, train_label_loss: 0.2724, \n"
     ]
    },
    {
     "name": "stdout",
     "output_type": "stream",
     "text": [
      "=============================================================\n",
      "epoch: 8, source_val_acc_label: 0.8598, target_val_acc_label: 0.6893, source_val_label_loss: 0.3820, target_val_label_loss: 5.2670, \n",
      "=============================================================\n"
     ]
    },
    {
     "name": "stdout",
     "output_type": "stream",
     "text": [
      "epoch: 9, [batch: 1 / 6720], examples_per_second: 4.3755, train_label_loss: 0.5368, \n"
     ]
    },
    {
     "name": "stdout",
     "output_type": "stream",
     "text": [
      "epoch: 9, [batch: 672 / 6720], examples_per_second: 3692.6042, train_label_loss: 0.5171, \n"
     ]
    },
    {
     "name": "stdout",
     "output_type": "stream",
     "text": [
      "epoch: 9, [batch: 1344 / 6720], examples_per_second: 3716.6788, train_label_loss: 0.1530, \n"
     ]
    },
    {
     "name": "stdout",
     "output_type": "stream",
     "text": [
      "epoch: 9, [batch: 2016 / 6720], examples_per_second: 3714.1435, train_label_loss: 0.2728, \n"
     ]
    },
    {
     "name": "stdout",
     "output_type": "stream",
     "text": [
      "epoch: 9, [batch: 2688 / 6720], examples_per_second: 3700.2241, train_label_loss: 0.2995, \n"
     ]
    },
    {
     "name": "stdout",
     "output_type": "stream",
     "text": [
      "epoch: 9, [batch: 3360 / 6720], examples_per_second: 3711.2263, train_label_loss: 0.3831, \n"
     ]
    },
    {
     "name": "stdout",
     "output_type": "stream",
     "text": [
      "epoch: 9, [batch: 4032 / 6720], examples_per_second: 3721.7345, train_label_loss: 0.1597, \n"
     ]
    },
    {
     "name": "stdout",
     "output_type": "stream",
     "text": [
      "epoch: 9, [batch: 4704 / 6720], examples_per_second: 3707.3381, train_label_loss: 0.0789, \n"
     ]
    },
    {
     "name": "stdout",
     "output_type": "stream",
     "text": [
      "epoch: 9, [batch: 5376 / 6720], examples_per_second: 3718.8827, train_label_loss: 0.0431, \n"
     ]
    },
    {
     "name": "stdout",
     "output_type": "stream",
     "text": [
      "epoch: 9, [batch: 6048 / 6720], examples_per_second: 3721.8803, train_label_loss: 0.3770, \n"
     ]
    },
    {
     "name": "stdout",
     "output_type": "stream",
     "text": [
      "=============================================================\n",
      "epoch: 9, source_val_acc_label: 0.8619, target_val_acc_label: 0.6837, source_val_label_loss: 0.3786, target_val_label_loss: 5.4254, \n",
      "=============================================================\n"
     ]
    },
    {
     "name": "stdout",
     "output_type": "stream",
     "text": [
      "Patience (3) exhausted\n"
     ]
    }
   ],
   "source": [
    "###################################\n",
    "# train\n",
    "###################################\n",
    "jig = PTN_Train_Eval_Test_Jig(model, p.BEST_MODEL_PATH, p.device)\n",
    "\n",
    "jig.train(\n",
    "    train_iterable=datasets.source.processed.train,\n",
    "    source_val_iterable=datasets.source.processed.val,\n",
    "    target_val_iterable=datasets.target.processed.val,\n",
    "    num_epochs=p.n_epoch,\n",
    "    num_logs_per_epoch=p.NUM_LOGS_PER_EPOCH,\n",
    "    patience=p.patience,\n",
    "    optimizer=optimizer,\n",
    "    criteria_for_best=p.criteria_for_best,\n",
    ")"
   ]
  },
  {
   "cell_type": "code",
   "execution_count": 23,
   "id": "31e8fabf",
   "metadata": {
    "execution": {
     "iopub.execute_input": "2022-03-21T00:48:26.448823Z",
     "iopub.status.busy": "2022-03-21T00:48:26.448344Z",
     "iopub.status.idle": "2022-03-21T00:48:26.465755Z",
     "shell.execute_reply": "2022-03-21T00:48:26.465303Z"
    },
    "papermill": {
     "duration": 0.052279,
     "end_time": "2022-03-21T00:48:26.465846",
     "exception": false,
     "start_time": "2022-03-21T00:48:26.413567",
     "status": "completed"
    },
    "tags": []
   },
   "outputs": [],
   "source": [
    "total_experiment_time_secs = time.time() - start_time_secs"
   ]
  },
  {
   "cell_type": "code",
   "execution_count": 24,
   "id": "87b9595b",
   "metadata": {
    "execution": {
     "iopub.execute_input": "2022-03-21T00:48:26.541441Z",
     "iopub.status.busy": "2022-03-21T00:48:26.541171Z",
     "iopub.status.idle": "2022-03-21T00:50:47.552900Z",
     "shell.execute_reply": "2022-03-21T00:50:47.552657Z"
    },
    "papermill": {
     "duration": 141.050075,
     "end_time": "2022-03-21T00:50:47.552969",
     "exception": false,
     "start_time": "2022-03-21T00:48:26.502894",
     "status": "completed"
    },
    "tags": []
   },
   "outputs": [],
   "source": [
    "###################################\n",
    "# Evaluate the model\n",
    "###################################\n",
    "source_test_label_accuracy, source_test_label_loss = jig.test(datasets.source.processed.test)\n",
    "target_test_label_accuracy, target_test_label_loss = jig.test(datasets.target.processed.test)\n",
    "\n",
    "source_val_label_accuracy, source_val_label_loss = jig.test(datasets.source.processed.val)\n",
    "target_val_label_accuracy, target_val_label_loss = jig.test(datasets.target.processed.val)\n",
    "\n",
    "history = jig.get_history()\n",
    "\n",
    "total_epochs_trained = len(history[\"epoch_indices\"])\n",
    "\n",
    "val_dl = Iterable_Aggregator((datasets.source.original.val,datasets.target.original.val))\n",
    "\n",
    "confusion = ptn_confusion_by_domain_over_dataloader(model, p.device, val_dl)\n",
    "per_domain_accuracy = per_domain_accuracy_from_confusion(confusion)\n",
    "\n",
    "# Add a key to per_domain_accuracy for if it was a source domain\n",
    "for domain, accuracy in per_domain_accuracy.items():\n",
    "    per_domain_accuracy[domain] = {\n",
    "        \"accuracy\": accuracy,\n",
    "        \"source?\": domain in p.domains_source\n",
    "    }\n",
    "\n",
    "# Do an independent accuracy assesment JUST TO BE SURE!\n",
    "# _source_test_label_accuracy = independent_accuracy_assesment(model, datasets.source.processed.test, p.device)\n",
    "# _target_test_label_accuracy = independent_accuracy_assesment(model, datasets.target.processed.test, p.device)\n",
    "# _source_val_label_accuracy = independent_accuracy_assesment(model, datasets.source.processed.val, p.device)\n",
    "# _target_val_label_accuracy = independent_accuracy_assesment(model, datasets.target.processed.val, p.device)\n",
    "\n",
    "# assert(_source_test_label_accuracy == source_test_label_accuracy)\n",
    "# assert(_target_test_label_accuracy == target_test_label_accuracy)\n",
    "# assert(_source_val_label_accuracy == source_val_label_accuracy)\n",
    "# assert(_target_val_label_accuracy == target_val_label_accuracy)\n",
    "\n",
    "experiment = {\n",
    "    \"experiment_name\": p.experiment_name,\n",
    "    \"parameters\": dict(p),\n",
    "    \"results\": {\n",
    "        \"source_test_label_accuracy\": source_test_label_accuracy,\n",
    "        \"source_test_label_loss\": source_test_label_loss,\n",
    "        \"target_test_label_accuracy\": target_test_label_accuracy,\n",
    "        \"target_test_label_loss\": target_test_label_loss,\n",
    "        \"source_val_label_accuracy\": source_val_label_accuracy,\n",
    "        \"source_val_label_loss\": source_val_label_loss,\n",
    "        \"target_val_label_accuracy\": target_val_label_accuracy,\n",
    "        \"target_val_label_loss\": target_val_label_loss,\n",
    "        \"total_epochs_trained\": total_epochs_trained,\n",
    "        \"total_experiment_time_secs\": total_experiment_time_secs,\n",
    "        \"confusion\": confusion,\n",
    "        \"per_domain_accuracy\": per_domain_accuracy,\n",
    "    },\n",
    "    \"history\": history,\n",
    "    \"dataset_metrics\": get_dataset_metrics(datasets, \"ptn\"),\n",
    "}"
   ]
  },
  {
   "cell_type": "code",
   "execution_count": 25,
   "id": "54a21829",
   "metadata": {
    "execution": {
     "iopub.execute_input": "2022-03-21T00:50:47.621090Z",
     "iopub.status.busy": "2022-03-21T00:50:47.620710Z",
     "iopub.status.idle": "2022-03-21T00:50:47.744364Z",
     "shell.execute_reply": "2022-03-21T00:50:47.744597Z"
    },
    "papermill": {
     "duration": 0.158771,
     "end_time": "2022-03-21T00:50:47.744674",
     "exception": false,
     "start_time": "2022-03-21T00:50:47.585903",
     "status": "completed"
    },
    "tags": []
   },
   "outputs": [
    {
     "data": {
      "image/png": "[encoded data removed]",
      "text/plain": [
       "<Figure size 1080x504 with 1 Axes>"
      ]
     },
     "metadata": {
      "needs_background": "light"
     },
     "output_type": "display_data"
    }
   ],
   "source": [
    "ax = get_loss_curve(experiment)\n",
    "plt.show()"
   ]
  },
  {
   "cell_type": "code",
   "execution_count": 26,
   "id": "fd8a0f60",
   "metadata": {
    "execution": {
     "iopub.execute_input": "2022-03-21T00:50:47.817264Z",
     "iopub.status.busy": "2022-03-21T00:50:47.816016Z",
     "iopub.status.idle": "2022-03-21T00:50:47.961167Z",
     "shell.execute_reply": "2022-03-21T00:50:47.961596Z"
    },
    "papermill": {
     "duration": 0.181677,
     "end_time": "2022-03-21T00:50:47.961729",
     "exception": false,
     "start_time": "2022-03-21T00:50:47.780052",
     "status": "completed"
    },
    "tags": []
   },
   "outputs": [
    {
     "data": {
      "text/plain": [
       "<AxesSubplot:title={'center':'Results'}>"
      ]
     },
     "execution_count": 26,
     "metadata": {},
     "output_type": "execute_result"
    },
    {
     "data": {
      "image/png": "[encoded data removed]",
      "text/plain": [
       "<Figure size 1080x504 with 1 Axes>"
      ]
     },
     "metadata": {
      "needs_background": "light"
     },
     "output_type": "display_data"
    }
   ],
   "source": [
    "get_results_table(experiment)"
   ]
  },
  {
   "cell_type": "code",
   "execution_count": 27,
   "id": "cf8dc689",
   "metadata": {
    "execution": {
     "iopub.execute_input": "2022-03-21T00:50:48.039482Z",
     "iopub.status.busy": "2022-03-21T00:50:48.039217Z",
     "iopub.status.idle": "2022-03-21T00:50:48.190323Z",
     "shell.execute_reply": "2022-03-21T00:50:48.189869Z"
    },
    "papermill": {
     "duration": 0.187719,
     "end_time": "2022-03-21T00:50:48.190418",
     "exception": false,
     "start_time": "2022-03-21T00:50:48.002699",
     "status": "completed"
    },
    "tags": []
   },
   "outputs": [
    {
     "data": {
      "text/plain": [
       "<AxesSubplot:title={'center':'Per Domain Validation Accuracy'}, xlabel='domain'>"
      ]
     },
     "execution_count": 27,
     "metadata": {},
     "output_type": "execute_result"
    },
    {
     "data": {
      "image/png": "[encoded data removed]",
      "text/plain": [
       "<Figure size 1080x504 with 1 Axes>"
      ]
     },
     "metadata": {
      "needs_background": "light"
     },
     "output_type": "display_data"
    }
   ],
   "source": [
    "get_domain_accuracies(experiment)"
   ]
  },
  {
   "cell_type": "code",
   "execution_count": 28,
   "id": "a74ae082",
   "metadata": {
    "execution": {
     "iopub.execute_input": "2022-03-21T00:50:48.268758Z",
     "iopub.status.busy": "2022-03-21T00:50:48.268504Z",
     "iopub.status.idle": "2022-03-21T00:50:48.284413Z",
     "shell.execute_reply": "2022-03-21T00:50:48.283963Z"
    },
    "papermill": {
     "duration": 0.054424,
     "end_time": "2022-03-21T00:50:48.284504",
     "exception": false,
     "start_time": "2022-03-21T00:50:48.230080",
     "status": "completed"
    },
    "tags": []
   },
   "outputs": [
    {
     "name": "stdout",
     "output_type": "stream",
     "text": [
      "Source Test Label Accuracy: 0.836328125 Target Test Label Accuracy: 0.697956017269293\n",
      "Source Val Label Accuracy: 0.83818359375 Target Val Label Accuracy: 0.6996078701155751\n"
     ]
    }
   ],
   "source": [
    "print(\"Source Test Label Accuracy:\", experiment[\"results\"][\"source_test_label_accuracy\"], \"Target Test Label Accuracy:\", experiment[\"results\"][\"target_test_label_accuracy\"])\n",
    "print(\"Source Val Label Accuracy:\", experiment[\"results\"][\"source_val_label_accuracy\"], \"Target Val Label Accuracy:\", experiment[\"results\"][\"target_val_label_accuracy\"])"
   ]
  },
  {
   "cell_type": "code",
   "execution_count": 29,
   "id": "dacca602",
   "metadata": {
    "execution": {
     "iopub.execute_input": "2022-03-21T00:50:48.363186Z",
     "iopub.status.busy": "2022-03-21T00:50:48.362937Z",
     "iopub.status.idle": "2022-03-21T00:50:48.383711Z",
     "shell.execute_reply": "2022-03-21T00:50:48.384086Z"
    },
    "papermill": {
     "duration": 0.058986,
     "end_time": "2022-03-21T00:50:48.384181",
     "exception": false,
     "start_time": "2022-03-21T00:50:48.325195",
     "status": "completed"
    },
    "tags": [
     "experiment_json"
    ]
   },
   "outputs": [
    {
     "data": {
      "text/plain": [
       "'{\"experiment_name\": \"tl_3Av2:oracle.run1.framed -> cores+wisig\", \"parameters\": {\"experiment_name\": \"tl_3Av2:oracle.run1.framed -> cores+wisig\", \"device\": \"cuda\", \"lr\": 0.0001, \"x_shape\": [2, 200], \"n_shot\": 3, \"n_query\": 2, \"train_k_factor\": 3, \"val_k_factor\": 2, \"test_k_factor\": 2, \"torch_default_dtype\": \"torch.float32\", \"n_epoch\": 50, \"patience\": 3, \"criteria_for_best\": \"target_accuracy\", \"x_net\": [{\"class\": \"nnReshape\", \"kargs\": {\"shape\": [-1, 1, 2, 200]}}, {\"class\": \"Conv2d\", \"kargs\": {\"in_channels\": 1, \"out_channels\": 256, \"kernel_size\": [1, 7], \"bias\": false, \"padding\": [0, 3]}}, {\"class\": \"ReLU\", \"kargs\": {\"inplace\": true}}, {\"class\": \"BatchNorm2d\", \"kargs\": {\"num_features\": 256}}, {\"class\": \"Conv2d\", \"kargs\": {\"in_channels\": 256, \"out_channels\": 80, \"kernel_size\": [2, 7], \"bias\": true, \"padding\": [0, 3]}}, {\"class\": \"ReLU\", \"kargs\": {\"inplace\": true}}, {\"class\": \"BatchNorm2d\", \"kargs\": {\"num_features\": 80}}, {\"class\": \"Flatten\", \"kargs\": {}}, {\"class\": \"Linear\", \"kargs\": {\"in_features\": 16000, \"out_features\": 256}}, {\"class\": \"ReLU\", \"kargs\": {\"inplace\": true}}, {\"class\": \"BatchNorm1d\", \"kargs\": {\"num_features\": 256}}, {\"class\": \"Linear\", \"kargs\": {\"in_features\": 256, \"out_features\": 256}}], \"NUM_LOGS_PER_EPOCH\": 10, \"BEST_MODEL_PATH\": \"./best_model.pth\", \"n_way\": 16, \"datasets\": [{\"labels\": [\"1-10.\", \"1-11.\", \"1-15.\", \"1-16.\", \"1-17.\", \"1-18.\", \"1-19.\", \"10-4.\", \"10-7.\", \"11-1.\", \"11-14.\", \"11-17.\", \"11-20.\", \"11-7.\", \"13-20.\", \"13-8.\", \"14-10.\", \"14-11.\", \"14-14.\", \"14-7.\", \"15-1.\", \"15-20.\", \"16-1.\", \"16-16.\", \"17-10.\", \"17-11.\", \"17-2.\", \"19-1.\", \"19-16.\", \"19-19.\", \"19-20.\", \"19-3.\", \"2-10.\", \"2-11.\", \"2-17.\", \"2-18.\", \"2-20.\", \"2-3.\", \"2-4.\", \"2-5.\", \"2-6.\", \"2-7.\", \"2-8.\", \"3-13.\", \"3-18.\", \"3-3.\", \"4-1.\", \"4-10.\", \"4-11.\", \"4-19.\", \"5-5.\", \"6-15.\", \"7-10.\", \"7-14.\", \"8-18.\", \"8-20.\", \"8-3.\", \"8-8.\"], \"domains\": [1, 2, 3, 4, 5], \"num_examples_per_domain_per_label\": -1, \"pickle_path\": \"/mnt/wd500GB/CSC500/csc500-main/datasets/cores.stratified_ds.2022A.pkl\", \"source_or_target_dataset\": \"target\", \"x_transforms\": [\"unit_power\", \"take_200\"], \"episode_transforms\": [], \"domain_prefix\": \"C_\"}, {\"labels\": [\"1-10\", \"1-12\", \"1-14\", \"1-16\", \"1-18\", \"1-19\", \"1-8\", \"10-11\", \"10-17\", \"10-4\", \"10-7\", \"11-1\", \"11-10\", \"11-19\", \"11-20\", \"11-4\", \"11-7\", \"12-19\", \"12-20\", \"12-7\", \"13-14\", \"13-18\", \"13-19\", \"13-20\", \"13-3\", \"13-7\", \"14-10\", \"14-11\", \"14-12\", \"14-13\", \"14-14\", \"14-19\", \"14-20\", \"14-7\", \"14-8\", \"14-9\", \"15-1\", \"15-19\", \"15-6\", \"16-1\", \"16-16\", \"16-19\", \"16-20\", \"17-10\", \"17-11\", \"18-1\", \"18-10\", \"18-11\", \"18-12\", \"18-13\", \"18-14\", \"18-15\", \"18-16\", \"18-17\", \"18-19\", \"18-2\", \"18-20\", \"18-4\", \"18-5\", \"18-7\", \"18-8\", \"18-9\", \"19-1\", \"19-10\", \"19-11\", \"19-12\", \"19-13\", \"19-14\", \"19-15\", \"19-19\", \"19-2\", \"19-20\", \"19-3\", \"19-4\", \"19-6\", \"19-7\", \"19-8\", \"19-9\", \"2-1\", \"2-13\", \"2-15\", \"2-3\", \"2-4\", \"2-5\", \"2-6\", \"2-7\", \"2-8\", \"20-1\", \"20-12\", \"20-14\", \"20-15\", \"20-16\", \"20-18\", \"20-19\", \"20-20\", \"20-3\", \"20-4\", \"20-5\", \"20-7\", \"20-8\", \"3-1\", \"3-13\", \"3-18\", \"3-2\", \"3-8\", \"4-1\", \"4-10\", \"4-11\", \"5-1\", \"5-5\", \"6-1\", \"6-15\", \"6-6\", \"7-10\", \"7-11\", \"7-12\", \"7-13\", \"7-14\", \"7-7\", \"7-8\", \"7-9\", \"8-1\", \"8-13\", \"8-14\", \"8-18\", \"8-20\", \"8-3\", \"8-8\", \"9-1\", \"9-7\"], \"domains\": [1, 2, 3, 4], \"num_examples_per_domain_per_label\": -1, \"pickle_path\": \"/mnt/wd500GB/CSC500/csc500-main/datasets/wisig.node3-19.stratified_ds.2022A.pkl\", \"source_or_target_dataset\": \"target\", \"x_transforms\": [\"unit_power\", \"take_200\"], \"episode_transforms\": [], \"domain_prefix\": \"W_\"}, {\"labels\": [\"3123D52\", \"3123D65\", \"3123D79\", \"3123D80\", \"3123D54\", \"3123D70\", \"3123D7B\", \"3123D89\", \"3123D58\", \"3123D76\", \"3123D7D\", \"3123EFE\", \"3123D64\", \"3123D78\", \"3123D7E\", \"3124E4A\"], \"domains\": [32, 38, 8, 44, 14, 50, 20, 26], \"num_examples_per_domain_per_label\": 2000, \"pickle_path\": \"/mnt/wd500GB/CSC500/csc500-main/datasets/oracle.Run1_framed_2000Examples_stratified_ds.2022A.pkl\", \"source_or_target_dataset\": \"source\", \"x_transforms\": [\"unit_power\", \"take_200\", \"resample_20Msps_to_25Msps\"], \"episode_transforms\": [], \"domain_prefix\": \"O_\"}], \"seed\": 154325, \"dataset_seed\": 154325, \"domains_source\": [\"O_32\", \"O_38\", \"O_8\", \"O_44\", \"O_14\", \"O_50\", \"O_20\", \"O_26\"], \"domains_target\": [\"C_1\", \"C_2\", \"C_3\", \"C_4\", \"C_5\", \"W_1\", \"W_2\", \"W_3\", \"W_4\"]}, \"results\": {\"source_test_label_accuracy\": 0.836328125, \"source_test_label_loss\": 0.4453105628490448, \"target_test_label_accuracy\": 0.697956017269293, \"target_test_label_loss\": 3.7602386474609375, \"source_val_label_accuracy\": 0.83818359375, \"source_val_label_loss\": 0.4402664601802826, \"target_val_label_accuracy\": 0.6996078701155751, \"target_val_label_loss\": 3.750206708908081, \"total_epochs_trained\": 9, \"total_experiment_time_secs\": 1581.8661997318268, \"confusion\": {\"O_8\": {\"13\": {\"10\": 30, \"13\": 126, \"4\": 42, \"0\": 27, \"6\": 8, \"7\": 3, \"14\": 4}, \"9\": {\"9\": 240}, \"15\": {\"15\": 226, \"12\": 12, \"8\": 2}, \"2\": {\"2\": 233, \"3\": 4, \"7\": 3}, \"3\": {\"3\": 233, \"12\": 5, \"2\": 2}, \"8\": {\"8\": 239, \"15\": 1}, \"5\": {\"5\": 231, \"10\": 2, \"1\": 5, \"14\": 2}, \"14\": {\"14\": 190, \"4\": 15, \"10\": 22, \"1\": 7, \"5\": 2, \"13\": 4}, \"1\": {\"1\": 232, \"11\": 8}, \"0\": {\"0\": 216, \"13\": 20, \"7\": 1, \"4\": 2, \"6\": 1}, \"10\": {\"10\": 216, \"14\": 17, \"13\": 4, \"4\": 2, \"5\": 1}, \"6\": {\"6\": 180, \"7\": 41, \"4\": 12, \"0\": 4, \"13\": 3}, \"11\": {\"11\": 222, \"1\": 18}, \"7\": {\"6\": 43, \"7\": 194, \"0\": 3}, \"4\": {\"4\": 179, \"13\": 37, \"14\": 15, \"0\": 1, \"10\": 1, \"6\": 7}, \"12\": {\"12\": 189, \"15\": 36, \"8\": 6, \"3\": 9}}, \"O_38\": {\"13\": {\"13\": 214, \"10\": 16, \"0\": 1, \"15\": 5, \"2\": 3, \"8\": 1}, \"12\": {\"12\": 238, \"4\": 2}, \"2\": {\"2\": 224, \"13\": 3, \"14\": 11, \"15\": 2}, \"9\": {\"9\": 225, \"6\": 8, \"5\": 6, \"3\": 1}, \"15\": {\"15\": 201, \"8\": 14, \"1\": 20, \"5\": 3, \"13\": 2}, \"5\": {\"5\": 146, \"8\": 47, \"9\": 6, \"7\": 29, \"0\": 2, \"6\": 7, \"13\": 2, \"15\": 1}, \"14\": {\"14\": 235, \"2\": 5}, \"0\": {\"0\": 185, \"10\": 6, \"3\": 13, \"7\": 10, \"5\": 2, \"8\": 22, \"13\": 2}, \"3\": {\"3\": 236, \"0\": 4}, \"1\": {\"1\": 233, \"15\": 7}, \"11\": {\"11\": 236, \"3\": 2, \"10\": 2}, \"7\": {\"7\": 210, \"8\": 11, \"5\": 10, \"0\": 9}, \"8\": {\"8\": 169, \"5\": 33, \"15\": 8, \"13\": 7, \"7\": 5, \"0\": 15, \"10\": 3}, \"4\": {\"4\": 239, \"12\": 1}, \"10\": {\"10\": 217, \"0\": 3, \"7\": 4, \"13\": 12, \"11\": 1, \"8\": 2, \"4\": 1}, \"6\": {\"6\": 238, \"5\": 1, \"9\": 1}}, \"O_26\": {\"10\": {\"10\": 117, \"0\": 63, \"8\": 25, \"14\": 21, \"6\": 7, \"15\": 3, \"1\": 2, \"4\": 2}, \"12\": {\"12\": 240}, \"1\": {\"1\": 208, \"0\": 1, \"7\": 2, \"14\": 17, \"4\": 5, \"10\": 4, \"3\": 2, \"8\": 1}, \"0\": {\"8\": 15, \"10\": 65, \"0\": 101, \"6\": 1, \"4\": 17, \"7\": 3, \"14\": 38}, \"15\": {\"6\": 8, \"15\": 162, \"9\": 47, \"8\": 7, \"10\": 3, \"2\": 4, \"13\": 5, \"0\": 2, \"7\": 2}, \"13\": {\"13\": 197, \"5\": 24, \"9\": 7, \"2\": 8, \"15\": 2, \"3\": 1, \"8\": 1}, \"8\": {\"8\": 130, \"6\": 3, \"0\": 23, \"14\": 12, \"4\": 14, \"10\": 29, \"7\": 17, \"15\": 8, \"2\": 3, \"9\": 1}, \"3\": {\"2\": 43, \"3\": 178, \"5\": 3, \"7\": 16}, \"11\": {\"11\": 240}, \"4\": {\"4\": 155, \"14\": 20, \"7\": 23, \"0\": 16, \"8\": 18, \"10\": 5, \"1\": 3}, \"6\": {\"6\": 207, \"9\": 15, \"15\": 10, \"8\": 3, \"10\": 5}, \"7\": {\"7\": 168, \"4\": 25, \"2\": 16, \"8\": 12, \"3\": 18, \"0\": 1}, \"14\": {\"0\": 34, \"1\": 23, \"14\": 135, \"10\": 15, \"4\": 23, \"8\": 7, \"7\": 3}, \"2\": {\"2\": 120, \"3\": 62, \"5\": 20, \"15\": 4, \"13\": 5, \"8\": 5, \"7\": 23, \"9\": 1}, \"5\": {\"5\": 212, \"13\": 11, \"2\": 11, \"7\": 1, \"9\": 2, \"3\": 1, \"8\": 2}, \"9\": {\"9\": 186, \"15\": 38, \"6\": 3, \"13\": 9, \"8\": 2, \"5\": 2}}, \"O_20\": {\"5\": {\"0\": 17, \"5\": 200, \"15\": 7, \"1\": 11, \"4\": 4, \"13\": 1}, \"15\": {\"15\": 208, \"0\": 13, \"5\": 5, \"1\": 12, \"13\": 2}, \"9\": {\"9\": 174, \"2\": 35, \"3\": 18, \"12\": 11, \"1\": 2}, \"7\": {\"4\": 3, \"7\": 210, \"2\": 16, \"3\": 5, \"9\": 2, \"12\": 1, \"8\": 3}, \"3\": {\"3\": 163, \"12\": 38, \"9\": 23, \"2\": 9, \"1\": 1, \"4\": 4, \"5\": 1, \"7\": 1}, \"8\": {\"8\": 214, \"7\": 6, \"4\": 17, \"14\": 1, \"2\": 2}, \"4\": {\"4\": 225, \"8\": 5, \"3\": 8, \"5\": 1, \"7\": 1}, \"6\": {\"6\": 231, \"14\": 9}, \"2\": {\"2\": 147, \"9\": 50, \"12\": 17, \"13\": 8, \"3\": 8, \"7\": 8, \"1\": 2}, \"12\": {\"1\": 36, \"12\": 135, \"3\": 44, \"9\": 13, \"5\": 4, \"2\": 7, \"13\": 1}, \"0\": {\"0\": 188, \"5\": 30, \"15\": 20, \"12\": 1, \"1\": 1}, \"13\": {\"13\": 230, \"15\": 2, \"2\": 5, \"5\": 2, \"12\": 1}, \"10\": {\"10\": 240}, \"11\": {\"11\": 240}, \"14\": {\"14\": 225, \"6\": 15}, \"1\": {\"12\": 35, \"1\": 179, \"5\": 14, \"3\": 3, \"2\": 3, \"15\": 6}}, \"O_50\": {\"1\": {\"1\": 209, \"15\": 17, \"6\": 3, \"4\": 5, \"11\": 2, \"13\": 3, \"0\": 1}, \"2\": {\"2\": 224, \"0\": 16}, \"8\": {\"8\": 234, \"3\": 5, \"10\": 1}, \"7\": {\"7\": 214, \"6\": 4, \"5\": 11, \"13\": 10, \"10\": 1}, \"14\": {\"14\": 239, \"1\": 1}, \"6\": {\"6\": 209, \"5\": 5, \"15\": 4, \"13\": 7, \"4\": 4, \"1\": 5, \"7\": 6}, \"3\": {\"3\": 240}, \"4\": {\"4\": 160, \"5\": 45, \"15\": 22, \"1\": 4, \"6\": 5, \"7\": 4}, \"12\": {\"12\": 225, \"9\": 9, \"11\": 6}, \"15\": {\"15\": 202, \"11\": 9, \"4\": 15, \"1\": 10, \"6\": 4}, \"11\": {\"11\": 209, \"15\": 21, \"14\": 1, \"12\": 4, \"9\": 5}, \"0\": {\"0\": 214, \"10\": 9, \"2\": 17}, \"9\": {\"9\": 228, \"11\": 8, \"12\": 4}, \"10\": {\"10\": 224, \"7\": 1, \"13\": 5, \"0\": 7, \"8\": 3}, \"5\": {\"5\": 143, \"4\": 37, \"7\": 30, \"1\": 9, \"6\": 2, \"13\": 19}, \"13\": {\"7\": 8, \"13\": 211, \"1\": 2, \"6\": 7, \"0\": 1, \"10\": 2, \"5\": 9}}, \"O_32\": {\"2\": {\"2\": 185, \"4\": 52, \"0\": 1, \"7\": 1, \"5\": 1}, \"6\": {\"6\": 240}, \"5\": {\"4\": 12, \"5\": 142, \"7\": 47, \"3\": 8, \"8\": 13, \"13\": 17, \"0\": 1}, \"12\": {\"12\": 240}, \"13\": {\"5\": 5, \"13\": 191, \"4\": 14, \"8\": 7, \"3\": 18, \"14\": 1, \"7\": 4}, \"9\": {\"9\": 240}, \"11\": {\"11\": 226, \"14\": 11, \"13\": 1, \"3\": 2}, \"1\": {\"1\": 240}, \"3\": {\"3\": 233, \"13\": 6, \"11\": 1}, \"7\": {\"7\": 162, \"4\": 12, \"13\": 5, \"5\": 49, \"11\": 1, \"14\": 10, \"0\": 1}, \"14\": {\"14\": 175, \"7\": 17, \"11\": 22, \"5\": 2, \"0\": 17, \"8\": 5, \"3\": 2}, \"8\": {\"8\": 190, \"13\": 12, \"0\": 18, \"3\": 6, \"11\": 1, \"14\": 5, \"5\": 8}, \"4\": {\"4\": 177, \"13\": 10, \"7\": 12, \"2\": 36, \"5\": 5}, \"0\": {\"0\": 184, \"8\": 31, \"7\": 6, \"14\": 13, \"13\": 2, \"5\": 2, \"2\": 1, \"4\": 1}, \"10\": {\"10\": 236, \"1\": 4}, \"15\": {\"15\": 240}}, \"O_44\": {\"13\": {\"13\": 167, \"6\": 41, \"9\": 28, \"7\": 2, \"11\": 2}, \"4\": {\"4\": 173, \"14\": 66, \"15\": 1}, \"6\": {\"6\": 166, \"7\": 3, \"13\": 46, \"9\": 23, \"11\": 2}, \"0\": {\"8\": 74, \"0\": 145, \"15\": 15, \"5\": 6}, \"10\": {\"10\": 202, \"1\": 22, \"2\": 14, \"12\": 2}, \"7\": {\"9\": 56, \"2\": 34, \"7\": 142, \"13\": 2, \"6\": 6}, \"14\": {\"14\": 143, \"4\": 75, \"15\": 16, \"5\": 6}, \"15\": {\"15\": 202, \"14\": 11, \"5\": 5, \"4\": 2, \"0\": 15, \"8\": 5}, \"5\": {\"5\": 206, \"0\": 17, \"15\": 7, \"8\": 4, \"14\": 6}, \"2\": {\"7\": 20, \"2\": 191, \"1\": 12, \"10\": 13, \"3\": 2, \"9\": 2}, \"9\": {\"9\": 148, \"7\": 42, \"13\": 26, \"6\": 18, \"2\": 6}, \"12\": {\"12\": 220, \"1\": 19, \"3\": 1}, \"8\": {\"8\": 148, \"0\": 76, \"15\": 9, \"5\": 7}, \"3\": {\"3\": 224, \"2\": 1, \"1\": 13, \"12\": 2}, \"1\": {\"1\": 159, \"3\": 17, \"2\": 14, \"12\": 32, \"10\": 18}, \"11\": {\"11\": 238, \"13\": 2}}, \"O_14\": {\"1\": {\"1\": 225, \"5\": 15}, \"15\": {\"15\": 240}, \"10\": {\"10\": 239, \"0\": 1}, \"2\": {\"3\": 15, \"2\": 145, \"14\": 52, \"5\": 17, \"6\": 7, \"13\": 3, \"4\": 1}, \"9\": {\"9\": 240}, \"5\": {\"2\": 11, \"1\": 20, \"5\": 177, \"4\": 30, \"3\": 2}, \"7\": {\"7\": 239, \"15\": 1}, \"13\": {\"6\": 67, \"13\": 146, \"14\": 20, \"4\": 3, \"5\": 2, \"2\": 2}, \"8\": {\"8\": 240}, \"6\": {\"13\": 44, \"6\": 188, \"14\": 5, \"2\": 3}, \"3\": {\"3\": 224, \"14\": 4, \"5\": 3, \"4\": 2, \"2\": 7}, \"12\": {\"12\": 240}, \"0\": {\"0\": 230, \"11\": 4, \"3\": 4, \"10\": 2}, \"4\": {\"4\": 218, \"5\": 13, \"1\": 6, \"2\": 2, \"3\": 1}, \"14\": {\"14\": 209, \"2\": 26, \"13\": 4, \"6\": 1}, \"11\": {\"11\": 232, \"9\": 8}}, \"C_2\": {\"21\": {\"21\": 98, \"6\": 1, \"53\": 7, \"3\": 1, \"46\": 3, \"54\": 4, \"51\": 3, \"50\": 1, \"17\": 1, \"1\": 1}, \"4\": {\"4\": 112, \"19\": 2, \"33\": 1, \"55\": 1, \"9\": 12, \"40\": 1, \"45\": 1}, \"6\": {\"6\": 81, \"50\": 6, \"48\": 8, \"46\": 4, \"17\": 5, \"36\": 2, \"47\": 3, \"57\": 1, \"4\": 1, \"30\": 2, \"34\": 1, \"18\": 2, \"3\": 3, \"29\": 1, \"25\": 1, \"8\": 1, \"55\": 1, \"54\": 1}, \"10\": {\"10\": 102, \"24\": 9, \"43\": 1}, \"33\": {\"33\": 28}, \"56\": {\"56\": 97, \"13\": 1, \"43\": 5, \"22\": 17, \"10\": 1, \"24\": 1}, \"20\": {\"20\": 122, \"8\": 4, \"53\": 2, \"51\": 2, \"50\": 1, \"27\": 1}, \"24\": {\"24\": 87, \"10\": 6, \"43\": 3}, \"45\": {\"4\": 7, \"50\": 7, \"45\": 71, \"25\": 6, \"36\": 5, \"53\": 3, \"27\": 4, \"7\": 1, \"51\": 3, \"40\": 4, \"6\": 1, \"12\": 4, \"19\": 1, \"8\": 1, \"9\": 5, \"3\": 3, \"54\": 2}, \"32\": {\"32\": 25, \"17\": 3}, \"27\": {\"27\": 142, \"17\": 2, \"50\": 1, \"8\": 1, \"3\": 1, \"36\": 1}, \"53\": {\"53\": 112, \"25\": 1, \"50\": 2, \"20\": 2, \"3\": 1, \"51\": 12, \"54\": 2, \"21\": 2, \"12\": 2}, \"8\": {\"8\": 145, \"25\": 3, \"50\": 4, \"36\": 3, \"27\": 2, \"12\": 1, \"3\": 1, \"53\": 1}, \"54\": {\"54\": 108}, \"50\": {\"50\": 71, \"8\": 13, \"6\": 7, \"36\": 14, \"46\": 2, \"3\": 6, \"54\": 2, \"53\": 3, \"25\": 13, \"34\": 1, \"12\": 1, \"29\": 1}, \"44\": {\"44\": 83, \"40\": 6, \"19\": 7, \"3\": 1, \"53\": 1, \"9\": 1, \"51\": 1}, \"5\": {\"5\": 100, \"42\": 2, \"1\": 4, \"31\": 1, \"46\": 4, \"57\": 3, \"50\": 1, \"47\": 3, \"28\": 1, \"55\": 1}, \"38\": {\"38\": 20}, \"19\": {\"19\": 117, \"40\": 3, \"2\": 1, \"29\": 3, \"55\": 1, \"9\": 5, \"52\": 1, \"4\": 1}, \"1\": {\"1\": 83, \"7\": 1, \"5\": 2, \"57\": 8, \"47\": 7, \"46\": 2, \"48\": 2, \"50\": 1, \"55\": 4, \"3\": 1, \"6\": 1}, \"30\": {\"30\": 137, \"52\": 1, \"18\": 5, \"3\": 1}, \"15\": {\"15\": 132, \"16\": 7, \"11\": 3, \"43\": 1, \"52\": 1}, \"23\": {\"23\": 136, \"18\": 4, \"48\": 1, \"30\": 2, \"52\": 3}, \"35\": {\"35\": 31, \"44\": 1}, \"22\": {\"22\": 109, \"56\": 17, \"10\": 1, \"43\": 1}, \"40\": {\"40\": 115, \"44\": 6, \"45\": 1, \"19\": 13, \"9\": 4, \"29\": 1}, \"46\": {\"46\": 79, \"39\": 3, \"34\": 1, \"42\": 3, \"2\": 2, \"47\": 1, \"48\": 5, \"55\": 5, \"6\": 5, \"17\": 1, \"1\": 6, \"53\": 2, \"7\": 1, \"25\": 1, \"3\": 2, \"52\": 2, \"50\": 3, \"57\": 2, \"54\": 2}, \"3\": {\"3\": 44, \"25\": 6, \"49\": 1, \"32\": 1, \"51\": 4, \"17\": 3, \"4\": 9, \"36\": 6, \"46\": 3, \"50\": 3, \"53\": 1, \"6\": 6, \"39\": 1, \"9\": 2, \"29\": 1, \"20\": 1}, \"48\": {\"48\": 131, \"1\": 4, \"7\": 1, \"3\": 1, \"6\": 2, \"47\": 5, \"41\": 1, \"46\": 1, \"39\": 1, \"52\": 1}, \"52\": {\"52\": 120, \"23\": 3, \"15\": 1}, \"2\": {\"2\": 31, \"21\": 1}, \"26\": {\"26\": 23, \"12\": 1}, \"17\": {\"17\": 102, \"20\": 1, \"48\": 1}, \"55\": {\"55\": 125, \"3\": 2, \"31\": 2, \"49\": 1, \"5\": 3, \"1\": 1, \"46\": 7, \"47\": 2, \"7\": 1}, \"51\": {\"51\": 106, \"53\": 10, \"54\": 4, \"20\": 2}, \"42\": {\"42\": 28, \"55\": 1, \"7\": 1, \"3\": 1, \"57\": 2, \"1\": 1, \"46\": 1, \"34\": 1}, \"41\": {\"41\": 18, \"28\": 1, \"46\": 1}, \"31\": {\"31\": 27, \"7\": 1}, \"16\": {\"16\": 123, \"28\": 3, \"43\": 1, \"52\": 7, \"47\": 1, \"15\": 1, \"46\": 1, \"23\": 1}, \"36\": {\"36\": 114, \"54\": 1, \"27\": 1}, \"49\": {\"49\": 17, \"25\": 3, \"34\": 3, \"50\": 1}, \"0\": {\"0\": 32, \"47\": 4, \"23\": 6, \"28\": 2, \"1\": 1, \"5\": 1, \"39\": 2}, \"18\": {\"18\": 42, \"30\": 5, \"46\": 1}, \"25\": {\"25\": 142, \"54\": 1, \"50\": 2, \"36\": 1}, \"9\": {\"9\": 113, \"40\": 2, \"46\": 1, \"44\": 1, \"4\": 1, \"19\": 2, \"51\": 1, \"20\": 1}, \"47\": {\"47\": 84, \"14\": 1, \"1\": 6, \"39\": 2, \"5\": 8, \"17\": 1, \"57\": 10, \"46\": 3, \"48\": 6, \"23\": 5, \"2\": 1, \"31\": 1, \"6\": 3, \"52\": 1}, \"7\": {\"1\": 3, \"7\": 30, \"46\": 1, \"47\": 2}, \"37\": {\"37\": 36}, \"13\": {\"13\": 115, \"56\": 1}, \"14\": {\"14\": 8, \"5\": 3, \"33\": 4, \"29\": 1, \"24\": 1, \"28\": 1, \"31\": 1, \"10\": 3, \"43\": 1, \"40\": 1}, \"34\": {\"34\": 26, \"6\": 1, \"49\": 1}, \"57\": {\"57\": 137, \"5\": 1, \"52\": 1, \"1\": 1}, \"11\": {\"11\": 115, \"43\": 8, \"15\": 6, \"16\": 4, \"52\": 5}, \"39\": {\"39\": 28}, \"12\": {\"12\": 92}, \"28\": {\"28\": 28}, \"29\": {\"29\": 108, \"55\": 3, \"9\": 4, \"19\": 10, \"46\": 1, \"25\": 1, \"17\": 1}, \"43\": {\"43\": 140}}, \"W_2\": {\"56\": {\"56\": 5, \"49\": 2, \"40\": 1, \"3\": 2, \"28\": 1, \"124\": 1}, \"12\": {\"49\": 1, \"12\": 35, \"106\": 2, \"122\": 2, \"32\": 2, \"3\": 2, \"11\": 2, \"91\": 1, \"68\": 1, \"95\": 2, \"29\": 3, \"88\": 1, \"107\": 1, \"71\": 4, \"0\": 4, \"127\": 2, \"111\": 2, \"30\": 3, \"8\": 2, \"4\": 3, \"10\": 1, \"79\": 2, \"25\": 1, \"5\": 2, \"78\": 1, \"7\": 2, \"40\": 1, \"108\": 1, \"26\": 1, \"70\": 1}, \"15\": {\"15\": 70, \"113\": 1, \"58\": 2, \"127\": 2, \"106\": 10, \"36\": 11, \"94\": 1, \"30\": 1, \"27\": 1, \"125\": 11, \"108\": 1, \"44\": 1, \"24\": 1, \"101\": 1, \"70\": 1, \"117\": 1}, \"26\": {\"102\": 9, \"82\": 1, \"26\": 82, \"31\": 1, \"67\": 1, \"117\": 4, \"69\": 15, \"2\": 1, \"18\": 3, \"109\": 1, \"39\": 1, \"3\": 1, \"21\": 1, \"92\": 1, \"81\": 1, \"10\": 1, \"14\": 1, \"121\": 1, \"99\": 1, \"113\": 1, \"33\": 1, \"4\": 1, \"43\": 1, \"16\": 1}, \"82\": {\"82\": 35, \"62\": 1}, \"9\": {\"9\": 29, \"58\": 1, \"6\": 1, \"41\": 1}, \"49\": {\"49\": 12, \"12\": 1, \"122\": 1, \"77\": 1, \"11\": 1, \"15\": 1, \"128\": 2, \"98\": 3, \"29\": 1, \"42\": 1}, \"55\": {\"82\": 2, \"102\": 1, \"55\": 9, \"95\": 1, \"50\": 1, \"62\": 1, \"37\": 1}, \"102\": {\"82\": 3, \"70\": 3, \"102\": 74, \"67\": 1, \"69\": 12, \"84\": 1, \"62\": 6, \"2\": 2, \"109\": 1, \"118\": 3, \"33\": 3, \"39\": 3, \"16\": 5, \"26\": 1, \"48\": 2, \"13\": 1, \"45\": 2, \"14\": 1}, \"85\": {\"85\": 25, \"80\": 2, \"36\": 1, \"37\": 1, \"49\": 1, \"33\": 1, \"14\": 1}, \"73\": {\"73\": 9, \"3\": 1, \"100\": 2, \"110\": 4, \"76\": 1, \"96\": 1, \"83\": 1, \"24\": 1, \"33\": 2, \"32\": 1, \"14\": 1, \"46\": 1, \"80\": 1, \"129\": 2}, \"47\": {\"12\": 1, \"47\": 8, \"15\": 1, \"53\": 1, \"94\": 1}, \"20\": {\"20\": 16}, \"117\": {\"117\": 78, \"78\": 1, \"26\": 3, \"63\": 1, \"88\": 1, \"18\": 10, \"16\": 4, \"113\": 3, \"102\": 2, \"87\": 1, \"69\": 2, \"39\": 5, \"40\": 1, \"93\": 1, \"21\": 3}, \"122\": {\"49\": 2, \"87\": 1, \"122\": 37, \"85\": 1, \"19\": 3, \"20\": 1, \"43\": 5, \"52\": 1, \"3\": 5, \"93\": 2, \"129\": 2, \"71\": 2, \"88\": 2, \"7\": 8, \"32\": 1, \"12\": 5, \"70\": 3, \"0\": 6, \"30\": 1, \"29\": 1, \"5\": 4, \"4\": 2, \"105\": 3, \"124\": 1, \"98\": 6, \"1\": 4, \"114\": 4, \"108\": 4, \"8\": 7, \"39\": 2, \"59\": 1, \"54\": 1, \"73\": 1, \"24\": 1, \"10\": 2, \"78\": 2, \"11\": 1, \"126\": 1, \"44\": 2, \"27\": 2}, \"113\": {\"117\": 3, \"113\": 45, \"21\": 2, \"109\": 3, \"88\": 1, \"39\": 6, \"11\": 1, \"26\": 3, \"18\": 5, \"14\": 1, \"40\": 1, \"23\": 1}, \"87\": {\"87\": 24, \"126\": 5, \"53\": 1, \"33\": 11, \"83\": 2, \"109\": 5, \"1\": 4, \"84\": 6, \"14\": 2, \"62\": 7, \"90\": 6, \"16\": 3, \"107\": 2, \"93\": 1, \"118\": 5, \"102\": 3, \"69\": 1, \"40\": 2, \"88\": 4, \"116\": 2, \"44\": 3, \"112\": 1, \"119\": 2, \"100\": 2, \"21\": 2, \"39\": 2, \"70\": 2, \"43\": 1, \"26\": 1}, \"21\": {\"21\": 39, \"88\": 2, \"78\": 1, \"87\": 2, \"109\": 1, \"120\": 1, \"10\": 1, \"117\": 1}, \"106\": {\"97\": 3, \"106\": 70, \"9\": 1, \"25\": 2, \"79\": 2, \"125\": 4, \"127\": 1, \"15\": 5, \"99\": 1, \"6\": 2, \"30\": 5, \"36\": 4, \"70\": 1, \"111\": 6, \"12\": 1, \"90\": 2, \"29\": 1, \"94\": 2, \"11\": 1, \"0\": 2, \"24\": 3, \"21\": 1}, \"3\": {\"3\": 92, \"115\": 1, \"128\": 2, \"122\": 6, \"71\": 8, \"114\": 5, \"24\": 1, \"88\": 1, \"108\": 1, \"44\": 1, \"1\": 4, \"5\": 4, \"7\": 1, \"112\": 1, \"68\": 1, \"59\": 2, \"4\": 1, \"78\": 1, \"39\": 1, \"26\": 1, \"111\": 1}, \"126\": {\"126\": 49, \"23\": 2, \"74\": 1, \"44\": 5, \"38\": 1, \"116\": 2, \"93\": 6, \"80\": 1, \"87\": 7, \"107\": 1, \"105\": 3, \"70\": 5, \"14\": 4, \"109\": 3, \"1\": 2, \"88\": 9, \"40\": 1, \"16\": 1, \"84\": 1, \"22\": 1, \"90\": 2, \"86\": 1, \"85\": 2, \"10\": 1, \"39\": 1, \"122\": 1, \"43\": 4, \"114\": 1, \"108\": 1, \"8\": 1}, \"41\": {\"122\": 2, \"97\": 1, \"41\": 10, \"90\": 1, \"25\": 1, \"101\": 1, \"51\": 2, \"52\": 1, \"77\": 1}, \"76\": {\"50\": 1, \"76\": 7, \"116\": 1, \"64\": 2, \"84\": 2, \"37\": 1, \"48\": 1, \"47\": 1}, \"60\": {\"76\": 1, \"60\": 16, \"83\": 2, \"66\": 1, \"44\": 1, \"1\": 1, \"22\": 2, \"47\": 1, \"42\": 1, \"62\": 1, \"45\": 1}, \"94\": {\"97\": 2, \"58\": 1, \"88\": 1, \"18\": 1, \"128\": 2, \"94\": 19, \"6\": 5, \"75\": 1, \"20\": 1, \"15\": 8, \"127\": 1, \"23\": 1, \"24\": 2, \"91\": 1, \"25\": 1, \"126\": 2, \"8\": 2, \"106\": 4, \"108\": 1, \"111\": 1, \"98\": 3, \"30\": 1, \"125\": 3}, \"50\": {\"50\": 12, \"55\": 1, \"0\": 1, \"62\": 1, \"33\": 1}, \"97\": {\"97\": 15, \"3\": 1, \"36\": 1, \"101\": 2, \"25\": 1}, \"115\": {\"115\": 10, \"5\": 1, \"8\": 1}, \"38\": {\"38\": 16}, \"43\": {\"3\": 5, \"70\": 7, \"20\": 1, \"122\": 3, \"44\": 4, \"114\": 1, \"43\": 29, \"80\": 1, \"40\": 5, \"116\": 1, \"67\": 1, \"78\": 2, \"90\": 2, \"123\": 1, \"46\": 1, \"84\": 4, \"126\": 2, \"5\": 3, \"1\": 15, \"88\": 4, \"113\": 2, \"105\": 10, \"11\": 1, \"16\": 1, \"33\": 2, \"95\": 1, \"28\": 1, \"19\": 1, \"124\": 2, \"110\": 2, \"4\": 2, \"98\": 1, \"8\": 1, \"30\": 1, \"101\": 1, \"62\": 1, \"109\": 1, \"7\": 1}, \"67\": {\"67\": 10, \"102\": 2, \"50\": 2, \"72\": 1, \"80\": 1}, \"18\": {\"18\": 87, \"72\": 1, \"65\": 3, \"117\": 17, \"39\": 2, \"69\": 3, \"118\": 1, \"26\": 7, \"33\": 1, \"113\": 2, \"81\": 1, \"87\": 1, \"23\": 1, \"88\": 1}, \"23\": {\"7\": 4, \"126\": 1, \"23\": 12, \"93\": 1, \"26\": 1, \"98\": 4, \"43\": 2, \"117\": 1, \"11\": 3, \"85\": 1, \"90\": 1, \"108\": 1, \"87\": 1, \"12\": 1, \"121\": 1, \"41\": 2, \"122\": 1, \"57\": 1, \"35\": 1, \"31\": 1, \"53\": 1, \"71\": 1, \"5\": 1}, \"63\": {\"16\": 2, \"63\": 18}, \"127\": {\"127\": 92, \"111\": 9, \"54\": 1, \"16\": 1, \"106\": 2, \"3\": 1, \"30\": 2, \"114\": 2, \"0\": 1, \"98\": 1, \"101\": 3, \"39\": 1, \"41\": 1, \"113\": 1, \"125\": 1, \"108\": 2, \"26\": 1, \"5\": 1, \"36\": 1}, \"72\": {\"72\": 15, \"86\": 1, \"69\": 1, \"84\": 2, \"33\": 2, \"118\": 2, \"43\": 1, \"81\": 1, \"15\": 1, \"37\": 1, \"26\": 1}, \"128\": {\"127\": 1, \"3\": 1, \"128\": 7, \"29\": 1, \"53\": 1, \"8\": 1, \"122\": 4, \"43\": 1, \"79\": 1, \"30\": 1, \"11\": 1, \"42\": 1, \"0\": 1, \"85\": 1, \"87\": 1}, \"7\": {\"7\": 96, \"126\": 1, \"103\": 1, \"49\": 1, \"10\": 1, \"0\": 3, \"122\": 2, \"108\": 4, \"3\": 7, \"30\": 2, \"43\": 1, \"101\": 1, \"111\": 2, \"23\": 1, \"77\": 1, \"26\": 1, \"98\": 1, \"18\": 1, \"88\": 1}, \"108\": {\"108\": 76, \"8\": 4, \"98\": 22, \"97\": 1, \"29\": 1, \"11\": 9, \"0\": 6, \"126\": 1, \"101\": 1, \"51\": 1, \"41\": 2, \"34\": 2, \"30\": 4, \"7\": 2, \"107\": 1, \"122\": 1}, \"16\": {\"16\": 51, \"128\": 1, \"102\": 8, \"84\": 2, \"14\": 3, \"63\": 1, \"118\": 2, \"1\": 2, \"88\": 3, \"2\": 3, \"18\": 2, \"126\": 2, \"69\": 5, \"87\": 5, \"114\": 1, \"39\": 4, \"90\": 1, \"70\": 4, \"31\": 2, \"26\": 1, \"13\": 1, \"83\": 1, \"77\": 1, \"81\": 1, \"11\": 2, \"60\": 1, \"21\": 1, \"117\": 1, \"93\": 1, \"27\": 1}, \"29\": {\"29\": 27, \"7\": 2, \"122\": 1, \"34\": 1, \"115\": 1}, \"61\": {\"61\": 16, \"112\": 1, \"78\": 1, \"10\": 1, \"126\": 1}, \"104\": {\"61\": 2, \"34\": 1, \"104\": 10, \"86\": 2, \"19\": 1, \"40\": 1, \"73\": 1, \"95\": 1, \"74\": 1}, \"120\": {\"120\": 20}, \"124\": {\"34\": 1, \"103\": 2, \"124\": 72, \"86\": 2, \"17\": 2, \"104\": 2, \"36\": 2, \"24\": 2, \"39\": 1, \"110\": 1, \"8\": 4, \"12\": 1, \"43\": 1, \"40\": 2, \"105\": 2, \"108\": 1, \"4\": 2, \"122\": 4, \"5\": 2, \"30\": 4, \"67\": 2, \"107\": 2, \"7\": 1, \"41\": 1, \"47\": 1, \"27\": 1, \"19\": 1, \"14\": 1, \"126\": 1, \"3\": 1, \"1\": 2}, \"34\": {\"128\": 1, \"29\": 1, \"8\": 1, \"34\": 11, \"56\": 1, \"52\": 1, \"98\": 2, \"1\": 1, \"112\": 1, \"106\": 1, \"91\": 1, \"110\": 1, \"122\": 2, \"108\": 2, \"54\": 1, \"16\": 1, \"105\": 1, \"77\": 1, \"24\": 1}, \"84\": {\"84\": 45, \"9\": 1, \"48\": 1, \"62\": 4, \"78\": 1, \"40\": 4, \"33\": 14, \"118\": 2, \"14\": 1, \"90\": 1, \"102\": 2, \"70\": 4, \"1\": 2, \"87\": 1, \"30\": 2, \"129\": 2, \"74\": 1, \"126\": 1, \"13\": 1, \"105\": 1, \"107\": 1}, \"103\": {\"103\": 14, \"41\": 1, \"34\": 1}, \"100\": {\"84\": 1, \"100\": 11, \"23\": 1, \"33\": 1, \"45\": 2}, \"40\": {\"84\": 5, \"129\": 4, \"105\": 11, \"11\": 1, \"95\": 1, \"40\": 72, \"4\": 5, \"104\": 1, \"33\": 5, \"30\": 1, \"19\": 1, \"71\": 1, \"12\": 3, \"43\": 1, \"70\": 2, \"21\": 1, \"113\": 1, \"124\": 2, \"5\": 3, \"0\": 2, \"1\": 2, \"109\": 1, \"122\": 2, \"55\": 1, \"14\": 1, \"107\": 3, \"32\": 1, \"16\": 1, \"117\": 2, \"39\": 2, \"8\": 1}, \"35\": {\"35\": 9, \"94\": 1, \"24\": 2}, \"96\": {\"100\": 1, \"96\": 4, \"48\": 1, \"84\": 1, \"63\": 2, \"78\": 1, \"39\": 1, \"55\": 1, \"18\": 1, \"83\": 1, \"23\": 1, \"31\": 1, \"72\": 2, \"121\": 1, \"87\": 1}, \"101\": {\"35\": 1, \"101\": 91, \"97\": 1, \"111\": 5, \"127\": 1, \"36\": 1, \"98\": 3, \"24\": 2, \"30\": 3, \"128\": 1, \"125\": 1, \"11\": 1, \"0\": 3, \"12\": 2, \"87\": 1, \"106\": 2, \"108\": 1}, \"71\": {\"71\": 76, \"103\": 1, \"0\": 2, \"3\": 5, \"110\": 1, \"5\": 4, \"87\": 1, \"122\": 1, \"127\": 2, \"10\": 1, \"124\": 1, \"108\": 1, \"114\": 1, \"18\": 1, \"105\": 1, \"7\": 1}, \"81\": {\"81\": 14, \"87\": 1, \"10\": 1, \"63\": 1, \"113\": 1, \"121\": 1, \"70\": 1, \"18\": 1, \"9\": 1, \"2\": 1, \"31\": 1}, \"74\": {\"37\": 2, \"27\": 1, \"74\": 8, \"32\": 1, \"14\": 2, \"6\": 1, \"73\": 1}, \"119\": {\"119\": 18, \"90\": 1, \"70\": 1}, \"5\": {\"5\": 69, \"41\": 1, \"43\": 2, \"17\": 1, \"95\": 1, \"4\": 6, \"1\": 2, \"11\": 1, \"127\": 5, \"114\": 5, \"18\": 2, \"122\": 3, \"98\": 1, \"129\": 1, \"126\": 1, \"71\": 4, \"40\": 1, \"110\": 2, \"0\": 1, \"108\": 1, \"8\": 1, \"105\": 1}, \"68\": {\"68\": 10, \"114\": 2, \"127\": 2, \"30\": 1, \"79\": 1}, \"37\": {\"109\": 1, \"37\": 8, \"73\": 1, \"5\": 1, \"14\": 2, \"32\": 1, \"118\": 1, \"78\": 1}, \"58\": {\"58\": 17, \"34\": 1, \"111\": 1, \"6\": 1}, \"109\": {\"109\": 24, \"74\": 1, \"13\": 1, \"57\": 1, \"78\": 4, \"63\": 1, \"82\": 1, \"118\": 5, \"80\": 1, \"88\": 7, \"44\": 5, \"21\": 5, \"43\": 1, \"39\": 7, \"108\": 1, \"18\": 2, \"87\": 3, \"26\": 1, \"126\": 4, \"84\": 3, \"90\": 1, \"62\": 3, \"70\": 1, \"120\": 1, \"85\": 1, \"14\": 1, \"69\": 1, \"33\": 2, \"99\": 1, \"93\": 5, \"24\": 1, \"16\": 1, \"102\": 2, \"1\": 1}, \"107\": {\"107\": 22, \"24\": 1, \"43\": 1, \"105\": 3, \"71\": 1, \"36\": 1, \"32\": 2, \"125\": 1, \"95\": 3, \"4\": 2, \"42\": 1, \"0\": 1, \"40\": 5, \"62\": 2, \"106\": 1, \"5\": 1, \"129\": 1, \"110\": 4, \"56\": 1, \"116\": 1, \"127\": 1, \"19\": 1, \"114\": 2, \"33\": 2, \"70\": 2, \"12\": 1}, \"13\": {\"100\": 1, \"37\": 1, \"72\": 1, \"13\": 7, \"109\": 1, \"9\": 1, \"117\": 1, \"82\": 1, \"120\": 1, \"26\": 1}, \"52\": {\"52\": 10, \"7\": 2, \"122\": 2, \"41\": 1, \"98\": 2, \"0\": 1, \"22\": 1, \"77\": 1}, \"77\": {\"77\": 9, \"0\": 3, \"22\": 1, \"34\": 1, \"91\": 1, \"79\": 1}, \"95\": {\"55\": 2, \"7\": 1, \"95\": 14, \"17\": 1, \"40\": 1, \"12\": 2, \"105\": 1, \"86\": 1, \"60\": 1, \"1\": 1, \"107\": 2, \"110\": 2, \"129\": 2, \"29\": 1, \"4\": 2, \"85\": 1, \"5\": 1}, \"44\": {\"44\": 99, \"123\": 1}, \"88\": {\"126\": 5, \"88\": 53, \"59\": 1, \"70\": 5, \"14\": 2, \"39\": 4, \"84\": 3, \"62\": 1, \"90\": 4, \"93\": 10, \"0\": 1, \"21\": 2, \"36\": 1, \"11\": 1, \"109\": 7, \"44\": 5, \"43\": 3, \"87\": 3, \"16\": 1, \"20\": 2, \"38\": 1, \"108\": 1, \"78\": 1, \"32\": 1, \"118\": 1, \"8\": 1, \"26\": 2}, \"91\": {\"91\": 13, \"7\": 2, \"108\": 3, \"97\": 2, \"51\": 1, \"10\": 1, \"15\": 1, \"29\": 1, \"52\": 1, \"11\": 1, \"126\": 1, \"77\": 1}, \"93\": {\"23\": 1, \"126\": 3, \"93\": 60, \"90\": 3, \"99\": 1, \"116\": 3, \"88\": 10, \"64\": 2, \"84\": 2, \"11\": 1, \"118\": 4, \"0\": 1, \"102\": 4, \"117\": 2, \"108\": 1, \"62\": 8, \"16\": 4, \"5\": 1, \"33\": 6, \"70\": 2, \"39\": 1, \"69\": 2, \"109\": 2, \"87\": 8, \"43\": 2, \"8\": 1, \"26\": 2, \"40\": 1}, \"8\": {\"108\": 13, \"85\": 1, \"128\": 2, \"8\": 58, \"126\": 1, \"29\": 2, \"12\": 5, \"78\": 1, \"1\": 1, \"4\": 2, \"0\": 7, \"40\": 1, \"107\": 1, \"30\": 5, \"7\": 1, \"24\": 2, \"122\": 8, \"3\": 2, \"98\": 3, \"49\": 1, \"61\": 1, \"11\": 1, \"115\": 1, \"105\": 2, \"109\": 1, \"124\": 1}, \"1\": {\"100\": 1, \"1\": 64, \"110\": 3, \"27\": 1, \"40\": 6, \"87\": 5, \"84\": 2, \"5\": 2, \"3\": 2, \"4\": 1, \"33\": 3, \"122\": 2, \"105\": 12, \"62\": 3, \"104\": 1, \"19\": 1, \"43\": 1, \"107\": 1, \"70\": 1, \"117\": 1, \"8\": 1}, \"45\": {\"100\": 1, \"45\": 7, \"21\": 1, \"82\": 2, \"14\": 1, \"64\": 1, \"62\": 1, \"27\": 1, \"70\": 1}, \"111\": {\"108\": 3, \"111\": 73, \"127\": 15, \"71\": 1, \"8\": 2, \"0\": 6, \"7\": 3, \"114\": 3, \"62\": 1, \"30\": 2, \"98\": 3, \"101\": 5, \"91\": 1, \"58\": 1, \"128\": 1, \"36\": 1, \"21\": 1, \"12\": 2, \"106\": 1, \"3\": 1}, \"116\": {\"116\": 16, \"93\": 1, \"64\": 1, \"19\": 1, \"70\": 1, \"80\": 2, \"14\": 1, \"73\": 1, \"16\": 1, \"76\": 1, \"33\": 1, \"84\": 1}, \"48\": {\"13\": 2, \"48\": 14, \"89\": 3, \"78\": 1}, \"57\": {\"65\": 1, \"57\": 13, \"44\": 1, \"92\": 1, \"48\": 2, \"20\": 1, \"33\": 1}, \"10\": {\"10\": 33, \"30\": 3, \"49\": 2, \"126\": 4, \"108\": 1, \"11\": 2, \"99\": 1, \"7\": 1, \"44\": 3, \"0\": 2, \"8\": 1, \"53\": 2, \"115\": 1, \"43\": 1, \"26\": 1, \"122\": 1, \"98\": 1}, \"129\": {\"3\": 1, \"85\": 1, \"40\": 1, \"34\": 1, \"32\": 2, \"129\": 11, \"107\": 3, \"19\": 1, \"80\": 1, \"33\": 1, \"24\": 1, \"8\": 1, \"5\": 1, \"95\": 1, \"84\": 1, \"73\": 1, \"4\": 1, \"114\": 2}, \"98\": {\"108\": 9, \"98\": 87, \"23\": 1, \"77\": 1, \"30\": 2, \"11\": 8, \"88\": 1, \"24\": 3, \"0\": 2, \"18\": 2, \"7\": 2}, \"65\": {\"65\": 16, \"20\": 1, \"121\": 1, \"18\": 2}, \"6\": {\"6\": 19, \"75\": 1, \"94\": 2, \"125\": 2, \"15\": 1, \"41\": 1, \"106\": 1, \"25\": 2, \"27\": 1, \"59\": 1, \"36\": 1}, \"75\": {\"75\": 12, \"25\": 1, \"126\": 1, \"125\": 2}, \"14\": {\"84\": 3, \"14\": 26, \"70\": 1, \"102\": 1, \"62\": 3, \"61\": 1, \"4\": 2, \"114\": 1, \"107\": 1, \"118\": 2, \"74\": 2, \"55\": 2, \"95\": 1, \"32\": 1, \"78\": 1}, \"30\": {\"77\": 1, \"30\": 40, \"111\": 8, \"127\": 4, \"106\": 6, \"103\": 2, \"0\": 6, \"29\": 1, \"51\": 1, \"107\": 1, \"125\": 1, \"40\": 1, \"11\": 1, \"18\": 1, \"7\": 4, \"24\": 1, \"12\": 4, \"126\": 1, \"101\": 2, \"98\": 6, \"3\": 1, \"88\": 1, \"8\": 7, \"90\": 1, \"39\": 2, \"122\": 2, \"128\": 2, \"108\": 2, \"36\": 2}, \"83\": {\"83\": 29, \"61\": 2, \"23\": 1, \"126\": 1, \"39\": 1, \"84\": 1, \"118\": 1, \"87\": 3, \"109\": 1}, \"69\": {\"69\": 94, \"102\": 6, \"27\": 1, \"26\": 11, \"39\": 3, \"117\": 2, \"113\": 1, \"18\": 1, \"16\": 2, \"33\": 2, \"7\": 1, \"82\": 1, \"72\": 1, \"88\": 1, \"93\": 1}, \"125\": {\"106\": 8, \"125\": 110, \"24\": 4, \"6\": 3, \"36\": 8, \"111\": 2, \"15\": 8, \"127\": 1, \"94\": 1, \"109\": 1}, \"31\": {\"31\": 9, \"64\": 2, \"92\": 1, \"102\": 1, \"67\": 1, \"80\": 2, \"62\": 2, \"72\": 1, \"48\": 1}, \"118\": {\"118\": 23, \"129\": 1, \"119\": 2, \"48\": 2, \"11\": 2, \"62\": 1, \"60\": 2, \"78\": 2, \"90\": 1, \"84\": 4, \"89\": 1, \"82\": 2, \"109\": 2, \"16\": 3, \"88\": 2, \"87\": 2, \"32\": 1, \"108\": 1, \"67\": 1, \"107\": 1, \"102\": 2, \"45\": 1, \"105\": 2, \"86\": 1, \"69\": 1, \"124\": 1, \"93\": 1, \"33\": 2, \"43\": 1}, \"53\": {\"53\": 14, \"122\": 1, \"49\": 1}, \"54\": {\"54\": 13, \"106\": 1, \"71\": 2, \"104\": 1, \"122\": 1, \"103\": 2}, \"92\": {\"31\": 2, \"92\": 23, \"116\": 1, \"89\": 1, \"82\": 1}, \"19\": {\"8\": 1, \"17\": 1, \"19\": 15, \"116\": 1, \"129\": 1, \"71\": 2, \"0\": 1, \"70\": 2, \"40\": 1, \"107\": 2, \"43\": 1}, \"27\": {\"27\": 22, \"94\": 2, \"38\": 1, \"15\": 9, \"41\": 2, \"25\": 1, \"49\": 1, \"24\": 4, \"106\": 5, \"6\": 2, \"98\": 1, \"29\": 1, \"7\": 1, \"36\": 8, \"125\": 2, \"77\": 1, \"120\": 1, \"87\": 1, \"8\": 3}, \"17\": {\"17\": 3, \"85\": 2, \"21\": 1, \"110\": 2, \"43\": 1, \"71\": 1, \"107\": 1, \"73\": 1, \"95\": 1, \"56\": 1, \"4\": 2}, \"4\": {\"41\": 1, \"4\": 32, \"32\": 6, \"40\": 6, \"19\": 1, \"8\": 9, \"1\": 2, \"95\": 1, \"5\": 5, \"0\": 4, \"114\": 4, \"71\": 4, \"33\": 1, \"12\": 1, \"105\": 1, \"16\": 1, \"122\": 4, \"3\": 1, \"110\": 1, \"124\": 2, \"107\": 1}, \"36\": {\"27\": 8, \"36\": 74, \"106\": 7, \"125\": 9, \"12\": 1, \"15\": 7, \"78\": 1, \"6\": 2, \"24\": 5, \"39\": 2, \"58\": 1, \"51\": 1, \"49\": 1, \"98\": 2, \"101\": 1, \"18\": 1, \"0\": 1, \"90\": 1, \"108\": 1, \"7\": 1, \"93\": 1}, \"90\": {\"90\": 119, \"119\": 1, \"83\": 1, \"2\": 1, \"44\": 1, \"87\": 3, \"62\": 2, \"69\": 1, \"126\": 3, \"70\": 1, \"118\": 1, \"93\": 1, \"88\": 1}, \"64\": {\"64\": 12, \"102\": 2, \"63\": 1, \"117\": 1}, \"66\": {\"66\": 14, \"22\": 1, \"71\": 1, \"28\": 1, \"100\": 2, \"86\": 1}, \"46\": {\"46\": 8, \"109\": 2, \"3\": 2, \"116\": 1, \"59\": 1, \"122\": 1, \"90\": 1}, \"86\": {\"114\": 2, \"16\": 1, \"86\": 20, \"40\": 1, \"32\": 1, \"19\": 1, \"105\": 1, \"80\": 1, \"0\": 1, \"129\": 1, \"107\": 2}, \"114\": {\"114\": 72, \"3\": 4, \"71\": 9, \"5\": 4, \"117\": 1, \"111\": 5, \"105\": 2, \"122\": 3, \"127\": 5, \"0\": 1, \"7\": 1, \"30\": 1, \"8\": 1, \"87\": 1}, \"32\": {\"86\": 2, \"68\": 1, \"61\": 2, \"85\": 2, \"105\": 1, \"19\": 3, \"75\": 1, \"32\": 13, \"129\": 1, \"71\": 1, \"124\": 1, \"42\": 1, \"5\": 1, \"23\": 1, \"14\": 1, \"33\": 1, \"27\": 1, \"8\": 1, \"70\": 1}, \"78\": {\"78\": 11, \"44\": 3, \"70\": 1, \"73\": 1, \"40\": 5, \"23\": 1, \"43\": 1, \"54\": 1, \"19\": 1, \"109\": 4, \"87\": 1, \"95\": 2, \"107\": 1, \"62\": 1, \"42\": 1, \"8\": 2, \"24\": 1, \"10\": 1, \"124\": 1, \"99\": 1, \"21\": 2, \"88\": 2, \"1\": 1, \"108\": 1, \"0\": 1}, \"33\": {\"96\": 1, \"33\": 104, \"105\": 5, \"62\": 6, \"0\": 1, \"16\": 1, \"1\": 6, \"84\": 2, \"8\": 1, \"126\": 2, \"40\": 1, \"87\": 1, \"23\": 1, \"93\": 1, \"108\": 1, \"102\": 2, \"70\": 2}, \"70\": {\"70\": 26, \"55\": 1, \"109\": 2, \"122\": 1, \"86\": 1, \"73\": 1, \"40\": 6, \"95\": 1, \"87\": 6, \"1\": 4, \"43\": 4, \"12\": 1, \"84\": 1, \"88\": 11, \"33\": 8, \"18\": 1, \"105\": 5, \"90\": 5, \"62\": 6, \"44\": 3, \"16\": 1, \"111\": 1, \"39\": 2, \"102\": 1, \"20\": 1, \"10\": 2, \"99\": 1, \"119\": 2, \"32\": 1, \"45\": 1, \"71\": 1, \"5\": 1, \"30\": 1, \"21\": 1, \"98\": 1, \"107\": 4, \"117\": 2, \"108\": 1, \"126\": 3, \"24\": 1, \"124\": 1}, \"0\": {\"0\": 54, \"11\": 4, \"79\": 2, \"7\": 12, \"30\": 11, \"12\": 2, \"108\": 2, \"8\": 4, \"98\": 5, \"117\": 1, \"10\": 1, \"111\": 6, \"69\": 1, \"106\": 2, \"29\": 1, \"77\": 1, \"128\": 1, \"101\": 1, \"122\": 2, \"70\": 2, \"39\": 1}, \"110\": {\"110\": 22, \"70\": 2, \"1\": 2, \"84\": 3, \"124\": 1, \"117\": 1, \"107\": 1, \"95\": 2, \"71\": 2, \"33\": 2, \"5\": 1, \"30\": 1}, \"2\": {\"69\": 2, \"93\": 1, \"113\": 2, \"2\": 17, \"26\": 2, \"88\": 2, \"63\": 2, \"72\": 1, \"16\": 1, \"36\": 1, \"81\": 1}, \"28\": {\"28\": 15, \"88\": 1, \"64\": 1, \"66\": 1, \"124\": 1, \"78\": 1}, \"51\": {\"51\": 17, \"15\": 1, \"98\": 1, \"58\": 1}, \"79\": {\"79\": 15, \"68\": 1}, \"42\": {\"42\": 17, \"97\": 1, \"112\": 1, \"0\": 1, \"29\": 1, \"70\": 1, \"12\": 1, \"124\": 1, \"115\": 1, \"122\": 1, \"24\": 1, \"125\": 1}, \"112\": {\"42\": 2, \"112\": 13, \"98\": 1}, \"89\": {\"89\": 23, \"27\": 1, \"92\": 2, \"15\": 1, \"126\": 1, \"81\": 1, \"48\": 3, \"93\": 1, \"72\": 2, \"16\": 1}, \"59\": {\"34\": 1, \"98\": 1, \"114\": 1, \"3\": 1, \"59\": 3, \"54\": 3, \"8\": 1, \"29\": 3, \"123\": 1, \"91\": 1}, \"105\": {\"86\": 5, \"32\": 1, \"105\": 58, \"124\": 2, \"107\": 4, \"84\": 3, \"95\": 1, \"4\": 3, \"118\": 1, \"62\": 3, \"1\": 7, \"40\": 9, \"12\": 1, \"43\": 3, \"127\": 1, \"122\": 3, \"26\": 1, \"114\": 1, \"33\": 10, \"8\": 5, \"39\": 1, \"70\": 1, \"87\": 2, \"30\": 1, \"0\": 1}, \"121\": {\"121\": 20, \"126\": 1, \"43\": 1, \"65\": 2, \"113\": 2, \"22\": 1, \"26\": 2, \"23\": 2, \"72\": 1, \"96\": 1, \"93\": 1, \"39\": 1, \"12\": 1}, \"11\": {\"11\": 48, \"23\": 1, \"118\": 1, \"101\": 2, \"24\": 1, \"122\": 1, \"30\": 2, \"98\": 3, \"0\": 5, \"8\": 1, \"10\": 1, \"7\": 2, \"108\": 4, \"42\": 1, \"49\": 2, \"16\": 1, \"91\": 1, \"20\": 1, \"43\": 1, \"18\": 1}, \"99\": {\"78\": 1, \"99\": 25, \"70\": 1, \"21\": 1, \"65\": 1, \"12\": 1, \"126\": 1, \"90\": 1}, \"25\": {\"75\": 2, \"25\": 14}, \"62\": {\"62\": 84, \"20\": 1, \"22\": 1, \"84\": 1, \"33\": 10, \"88\": 1, \"1\": 4, \"102\": 1, \"43\": 3, \"93\": 1, \"124\": 1, \"40\": 3, \"8\": 1, \"105\": 2, \"50\": 1, \"14\": 1, \"45\": 1, \"113\": 1, \"39\": 1, \"118\": 2, \"109\": 1, \"44\": 1, \"70\": 1, \"87\": 1, \"126\": 1, \"122\": 2}, \"123\": {\"123\": 14, \"44\": 1, \"60\": 1}, \"24\": {\"24\": 28, \"44\": 3, \"25\": 1, \"27\": 2, \"16\": 2, \"125\": 13, \"108\": 6, \"36\": 5, \"15\": 7, \"99\": 1, \"82\": 1, \"8\": 2, \"106\": 9, \"98\": 13, \"11\": 2, \"122\": 1, \"101\": 1, \"111\": 3, \"127\": 1, \"9\": 2, \"29\": 2, \"126\": 3, \"35\": 1, \"77\": 2, \"109\": 1}, \"80\": {\"96\": 1, \"80\": 11, \"27\": 1, \"16\": 3}, \"39\": {\"96\": 1, \"39\": 36, \"109\": 5, \"102\": 3, \"62\": 1, \"88\": 8, \"18\": 5, \"69\": 2, \"117\": 2, \"2\": 1, \"90\": 3, \"118\": 2, \"87\": 2, \"93\": 6, \"71\": 1, \"70\": 2, \"16\": 3, \"7\": 2, \"72\": 1, \"59\": 1, \"78\": 3, \"33\": 1, \"126\": 1, \"21\": 1, \"113\": 1, \"36\": 1, \"122\": 1, \"43\": 1, \"1\": 1, \"26\": 2}, \"22\": {\"22\": 12, \"124\": 1, \"71\": 1, \"60\": 1, \"83\": 1, \"128\": 1, \"76\": 2, \"126\": 1}}, \"C_5\": {\"12\": {\"12\": 75, \"1\": 2, \"38\": 3, \"55\": 1, \"45\": 1, \"17\": 3, \"30\": 4, \"6\": 2, \"7\": 4, \"50\": 1}, \"8\": {\"8\": 128, \"25\": 2, \"53\": 2, \"50\": 3, \"20\": 2, \"42\": 1, \"17\": 1, \"6\": 2, \"1\": 1}, \"29\": {\"29\": 103, \"28\": 3, \"33\": 1, \"41\": 2, \"5\": 2, \"19\": 11, \"44\": 5, \"43\": 2, \"50\": 1, \"36\": 2}, \"57\": {\"57\": 116, \"46\": 5, \"47\": 4, \"6\": 1}, \"38\": {\"38\": 32}, \"23\": {\"23\": 117, \"42\": 1, \"47\": 1, \"3\": 1, \"18\": 1, \"52\": 2, \"54\": 1}, \"56\": {\"56\": 129, \"24\": 3, \"10\": 1, \"31\": 1, \"11\": 1, \"13\": 3}, \"49\": {\"49\": 36}, \"4\": {\"4\": 85, \"45\": 5, \"25\": 1, \"50\": 4, \"12\": 1, \"19\": 1, \"9\": 2, \"5\": 1}, \"48\": {\"48\": 106, \"17\": 9, \"1\": 9, \"55\": 5, \"6\": 4, \"45\": 1, \"9\": 2}, \"21\": {\"21\": 127, \"53\": 6, \"51\": 4, \"50\": 2, \"55\": 1, \"6\": 1, \"37\": 2, \"1\": 1}, \"30\": {\"30\": 112, \"53\": 2, \"6\": 2, \"9\": 1, \"25\": 1, \"1\": 3, \"17\": 5, \"8\": 1, \"48\": 1}, \"1\": {\"30\": 3, \"48\": 21, \"1\": 97, \"47\": 1, \"17\": 9, \"18\": 4, \"9\": 4, \"6\": 1, \"53\": 1, \"23\": 2, \"8\": 1, \"27\": 3, \"50\": 1}, \"34\": {\"34\": 35, \"52\": 1}, \"35\": {\"35\": 35, \"31\": 1}, \"55\": {\"55\": 133, \"45\": 3, \"25\": 3, \"6\": 6, \"48\": 1, \"50\": 3, \"9\": 2, \"20\": 1}, \"5\": {\"5\": 89, \"44\": 8, \"50\": 1, \"40\": 6, \"19\": 12, \"29\": 3, \"41\": 1, \"22\": 1, \"4\": 1}, \"52\": {\"52\": 103, \"46\": 6, \"3\": 1, \"11\": 1, \"43\": 1, \"49\": 2, \"36\": 2, \"16\": 2, \"23\": 7, \"54\": 1}, \"6\": {\"6\": 95, \"50\": 5, \"1\": 11, \"9\": 1, \"39\": 1, \"25\": 4, \"17\": 5, \"45\": 1, \"48\": 3, \"8\": 1, \"55\": 1}, \"36\": {\"36\": 86, \"3\": 1, \"54\": 1, \"47\": 4}, \"41\": {\"41\": 27, \"14\": 1}, \"3\": {\"3\": 50, \"36\": 9, \"46\": 12, \"43\": 1, \"0\": 8, \"57\": 4, \"49\": 3, \"54\": 1, \"14\": 1, \"47\": 7, \"23\": 1, \"11\": 3}, \"28\": {\"28\": 27, \"14\": 1, \"19\": 1, \"43\": 1, \"49\": 1, \"44\": 1}, \"18\": {\"18\": 57, \"23\": 4, \"42\": 2, \"36\": 1}, \"25\": {\"25\": 130, \"20\": 1, \"6\": 3, \"8\": 1, \"50\": 1}, \"47\": {\"3\": 6, \"47\": 77, \"23\": 4, \"54\": 2, \"57\": 2, \"42\": 1, \"18\": 1, \"29\": 1, \"19\": 1, \"52\": 2, \"36\": 1, \"46\": 1, \"1\": 1}, \"13\": {\"13\": 142, \"10\": 8, \"22\": 1, \"40\": 1, \"44\": 2, \"56\": 3, \"24\": 1, \"29\": 1, \"11\": 1}, \"11\": {\"15\": 10, \"11\": 102, \"0\": 7, \"43\": 2, \"23\": 1, \"46\": 5, \"3\": 6, \"16\": 5, \"52\": 5, \"2\": 1}, \"53\": {\"53\": 131, \"8\": 4, \"19\": 1, \"6\": 1, \"50\": 2, \"51\": 2, \"1\": 1, \"20\": 2}, \"33\": {\"33\": 27, \"19\": 3, \"40\": 1, \"29\": 1}, \"46\": {\"46\": 104, \"2\": 3, \"47\": 6, \"23\": 5, \"0\": 10, \"36\": 4, \"3\": 8, \"52\": 3, \"57\": 2, \"11\": 1, \"42\": 1, \"54\": 1}, \"50\": {\"50\": 61, \"27\": 7, \"25\": 14, \"33\": 1, \"54\": 2, \"41\": 2, \"39\": 2, \"29\": 3, \"20\": 1, \"32\": 3, \"48\": 3, \"6\": 10, \"45\": 5, \"9\": 8, \"8\": 2, \"55\": 9, \"36\": 1, \"21\": 2, \"19\": 1, \"51\": 9, \"34\": 1, \"1\": 1}, \"10\": {\"10\": 62, \"13\": 6}, \"15\": {\"15\": 126, \"24\": 3, \"11\": 6, \"16\": 2, \"0\": 1}, \"44\": {\"44\": 108, \"19\": 6, \"40\": 9, \"5\": 7, \"29\": 8, \"54\": 1, \"47\": 1}, \"2\": {\"2\": 27, \"31\": 1}, \"7\": {\"7\": 27, \"51\": 2, \"55\": 2, \"17\": 1}, \"43\": {\"43\": 138}, \"32\": {\"32\": 28, \"50\": 1, \"1\": 2, \"48\": 1}, \"0\": {\"3\": 6, \"0\": 90, \"46\": 9, \"11\": 12, \"57\": 1, \"24\": 1, \"47\": 2, \"43\": 1, \"56\": 1, \"15\": 1}, \"39\": {\"39\": 20}, \"26\": {\"26\": 23, \"38\": 1}, \"27\": {\"27\": 79, \"50\": 1, \"17\": 4, \"19\": 4, \"9\": 19, \"30\": 1, \"48\": 1, \"20\": 1, \"32\": 1, \"53\": 1}, \"54\": {\"54\": 112}, \"17\": {\"17\": 97, \"48\": 7, \"6\": 1, \"30\": 7, \"9\": 1, \"1\": 3}, \"14\": {\"36\": 1, \"34\": 3, \"14\": 25, \"2\": 3, \"43\": 1, \"37\": 2, \"3\": 1, \"52\": 1, \"27\": 1, \"45\": 1, \"31\": 3, \"11\": 1, \"32\": 1}, \"16\": {\"43\": 5, \"16\": 121, \"23\": 1, \"11\": 8, \"15\": 2, \"46\": 4, \"52\": 5, \"24\": 1, \"3\": 1}, \"9\": {\"9\": 120, \"37\": 1, \"4\": 3, \"6\": 1, \"27\": 9, \"19\": 1, \"45\": 1, \"17\": 2, \"25\": 1, \"48\": 4, \"21\": 1, \"1\": 1, \"53\": 1, \"55\": 1, \"50\": 1}, \"19\": {\"19\": 141, \"33\": 2, \"50\": 1, \"5\": 4, \"29\": 4}, \"20\": {\"20\": 126, \"53\": 2, \"8\": 6, \"51\": 3, \"54\": 1}, \"37\": {\"37\": 23, \"14\": 1}, \"24\": {\"24\": 78, \"15\": 1, \"11\": 1}, \"40\": {\"40\": 78, \"28\": 1, \"36\": 2, \"29\": 7, \"33\": 3, \"5\": 8, \"44\": 8, \"45\": 1, \"19\": 7, \"51\": 1, \"14\": 1, \"4\": 2, \"55\": 1, \"13\": 1, \"54\": 1}, \"45\": {\"45\": 74, \"6\": 9, \"25\": 5, \"41\": 1, \"4\": 3, \"55\": 3, \"50\": 12, \"9\": 8, \"27\": 5, \"20\": 1, \"32\": 1, \"8\": 1, \"17\": 1}, \"22\": {\"22\": 27, \"56\": 1}, \"42\": {\"42\": 38, \"56\": 2}, \"51\": {\"51\": 102, \"50\": 3, \"53\": 4, \"21\": 3, \"45\": 1, \"25\": 1, \"9\": 1, \"20\": 1, \"5\": 2}, \"31\": {\"31\": 36}}, \"C_1\": {\"27\": {\"27\": 140, \"22\": 1, \"10\": 1}, \"2\": {\"2\": 36}, \"33\": {\"33\": 32}, \"45\": {\"45\": 148, \"42\": 5, \"1\": 1, \"17\": 1, \"57\": 1}, \"38\": {\"38\": 21, \"34\": 1, \"28\": 1, \"52\": 1}, \"4\": {\"4\": 122, \"14\": 1, \"40\": 2, \"46\": 4, \"51\": 1, \"45\": 1, \"6\": 1}, \"31\": {\"31\": 25, \"24\": 1, \"52\": 2}, \"55\": {\"55\": 116, \"54\": 16, \"42\": 1, \"45\": 2, \"9\": 2, \"34\": 2, \"0\": 1}, \"32\": {\"32\": 32}, \"57\": {\"57\": 96, \"19\": 16, \"1\": 10, \"56\": 16, \"55\": 1, \"7\": 1}, \"14\": {\"14\": 11, \"30\": 1, \"8\": 5, \"9\": 4, \"51\": 2, \"5\": 1}, \"16\": {\"16\": 132, \"37\": 1, \"54\": 3, \"0\": 2, \"55\": 1, \"22\": 1}, \"34\": {\"34\": 24}, \"56\": {\"55\": 4, \"57\": 18, \"56\": 67, \"19\": 15, \"35\": 1, \"45\": 2, \"1\": 7, \"29\": 2, \"52\": 2, \"44\": 5, \"3\": 1, \"28\": 1, \"49\": 1}, \"24\": {\"24\": 83, \"22\": 13, \"10\": 5, \"49\": 2, \"52\": 3, \"11\": 2}, \"30\": {\"30\": 102, \"17\": 1, \"5\": 1, \"46\": 2, \"9\": 3, \"8\": 3}, \"17\": {\"17\": 60, \"9\": 1, \"5\": 1, \"53\": 1, \"6\": 1}, \"13\": {\"13\": 124, \"51\": 3, \"3\": 4, \"20\": 4, \"55\": 2, \"12\": 1}, \"39\": {\"39\": 26, \"27\": 1, \"28\": 1}, \"50\": {\"50\": 144, \"48\": 2}, \"20\": {\"20\": 118, \"12\": 12, \"13\": 3, \"51\": 4, \"3\": 1, \"41\": 1, \"55\": 1}, \"41\": {\"41\": 24}, \"53\": {\"53\": 113, \"14\": 2, \"5\": 7, \"26\": 1, \"6\": 1, \"9\": 1, \"51\": 1}, \"48\": {\"48\": 124, \"8\": 2, \"46\": 3, \"6\": 6, \"50\": 5, \"5\": 1, \"2\": 1}, \"36\": {\"36\": 59, \"15\": 2, \"16\": 2, \"11\": 1}, \"8\": {\"17\": 5, \"8\": 116, \"30\": 5, \"14\": 1, \"6\": 6, \"5\": 3, \"46\": 1, \"45\": 2, \"9\": 1}, \"15\": {\"24\": 2, \"15\": 107, \"11\": 8, \"23\": 11, \"22\": 2, \"52\": 1, \"36\": 1}, \"40\": {\"40\": 135, \"46\": 2, \"3\": 2, \"29\": 9, \"4\": 3, \"44\": 1, \"20\": 2, \"13\": 2}, \"37\": {\"37\": 31, \"55\": 1}, \"21\": {\"21\": 119, \"23\": 1}, \"35\": {\"35\": 36}, \"49\": {\"49\": 28, \"28\": 2, \"43\": 1, \"52\": 1}, \"26\": {\"26\": 24}, \"28\": {\"28\": 27, \"52\": 1}, \"12\": {\"12\": 103, \"20\": 8, \"5\": 1, \"53\": 2, \"14\": 1, \"51\": 1}, \"5\": {\"5\": 150, \"9\": 1, \"25\": 1}, \"29\": {\"29\": 83, \"35\": 1, \"19\": 4, \"56\": 10, \"3\": 4, \"57\": 10, \"47\": 2, \"20\": 2, \"1\": 2, \"44\": 6, \"13\": 3, \"40\": 7, \"45\": 3, \"55\": 2, \"46\": 1}, \"47\": {\"47\": 108, \"57\": 1, \"28\": 1, \"19\": 4, \"55\": 3, \"44\": 8, \"3\": 2, \"56\": 5, \"49\": 1, \"43\": 1, \"35\": 2, \"52\": 3, \"27\": 1}, \"10\": {\"10\": 75, \"22\": 7, \"24\": 7, \"11\": 5, \"15\": 2}, \"18\": {\"18\": 64, \"7\": 1, \"26\": 2, \"50\": 1, \"5\": 2, \"30\": 1, \"54\": 1}, \"9\": {\"9\": 123, \"17\": 1, \"8\": 1, \"25\": 1}, \"3\": {\"3\": 106, \"29\": 7, \"13\": 4, \"19\": 1, \"7\": 3, \"44\": 6, \"54\": 2, \"52\": 3, \"20\": 2, \"45\": 2, \"55\": 3, \"25\": 1}, \"52\": {\"52\": 129, \"22\": 2, \"15\": 1}, \"25\": {\"25\": 133, \"9\": 3}, \"19\": {\"19\": 139, \"1\": 5, \"33\": 1, \"56\": 5, \"55\": 2, \"26\": 1, \"57\": 2, \"44\": 1}, \"11\": {\"11\": 96, \"22\": 8, \"15\": 12, \"23\": 3, \"10\": 6, \"24\": 6, \"52\": 2, \"21\": 1, \"27\": 1, \"0\": 1}, \"7\": {\"7\": 27, \"54\": 1}, \"23\": {\"23\": 132, \"15\": 4}, \"44\": {\"1\": 3, \"44\": 72, \"35\": 4, \"28\": 2, \"3\": 9, \"57\": 3, \"55\": 1, \"29\": 1, \"54\": 1, \"47\": 9, \"24\": 1, \"56\": 7, \"13\": 1, \"19\": 11, \"20\": 1, \"52\": 3, \"27\": 1, \"22\": 1, \"45\": 1}, \"42\": {\"42\": 39, \"45\": 1}, \"54\": {\"54\": 104}, \"1\": {\"1\": 86, \"56\": 3, \"57\": 5, \"55\": 1, \"19\": 3, \"45\": 1, \"25\": 1}, \"46\": {\"46\": 97, \"14\": 1, \"17\": 1, \"4\": 4, \"9\": 1, \"48\": 6, \"20\": 2, \"50\": 6, \"40\": 2, \"25\": 2, \"6\": 3, \"51\": 1, \"5\": 2}, \"6\": {\"2\": 1, \"46\": 3, \"6\": 67, \"8\": 9, \"17\": 4, \"5\": 5, \"48\": 2, \"50\": 2, \"30\": 2, \"25\": 1}, \"43\": {\"43\": 142, \"52\": 1, \"24\": 1}, \"51\": {\"51\": 127, \"20\": 7, \"13\": 1, \"53\": 6, \"55\": 1}, \"22\": {\"22\": 124, \"24\": 6, \"11\": 1, \"21\": 1, \"23\": 2, \"27\": 1, \"43\": 1}, \"0\": {\"0\": 122, \"52\": 1, \"54\": 4, \"55\": 1}}, \"W_4\": {\"32\": {\"32\": 18, \"11\": 1, \"82\": 1, \"14\": 1, \"122\": 2, \"69\": 1, \"72\": 1, \"31\": 1, \"108\": 1, \"60\": 1}, \"22\": {\"22\": 11, \"20\": 2, \"76\": 1, \"54\": 1, \"60\": 1}, \"69\": {\"69\": 86, \"122\": 1, \"13\": 1, \"36\": 2, \"16\": 2, \"43\": 2, \"2\": 1, \"84\": 7, \"113\": 1, \"118\": 4, \"14\": 2, \"102\": 2, \"44\": 1, \"5\": 1, \"62\": 3, \"40\": 1, \"93\": 1, \"126\": 1, \"11\": 1}, \"65\": {\"63\": 1, \"65\": 10, \"16\": 1}, \"91\": {\"91\": 16, \"3\": 1, \"77\": 1, \"0\": 1, \"70\": 1, \"41\": 1, \"42\": 1, \"86\": 1, \"27\": 1}, \"63\": {\"63\": 16}, \"127\": {\"63\": 1, \"127\": 69, \"95\": 1, \"101\": 8, \"30\": 1, \"128\": 1, \"12\": 6, \"1\": 1, \"71\": 1, \"106\": 2, \"111\": 5, \"27\": 1, \"103\": 1, \"114\": 1, \"55\": 1, \"16\": 1, \"86\": 1, \"3\": 2, \"4\": 3, \"18\": 1}, \"11\": {\"32\": 2, \"11\": 64, \"88\": 5, \"99\": 2, \"82\": 1, \"102\": 1, \"72\": 3, \"19\": 1, \"83\": 1, \"5\": 6, \"0\": 2, \"113\": 1, \"93\": 6, \"24\": 1, \"14\": 3, \"109\": 1, \"108\": 4, \"27\": 3, \"7\": 9, \"8\": 1, \"110\": 3, \"10\": 1, \"43\": 3, \"107\": 1, \"70\": 1, \"116\": 3, \"60\": 1, \"106\": 1, \"40\": 1, \"122\": 1, \"98\": 1, \"118\": 1, \"87\": 1, \"84\": 2}, \"12\": {\"12\": 47, \"111\": 5, \"15\": 4, \"4\": 3, \"27\": 4, \"78\": 1, \"101\": 3, \"109\": 1, \"36\": 2, \"89\": 1, \"127\": 3, \"11\": 1, \"106\": 6, \"126\": 1, \"108\": 2, \"10\": 1, \"0\": 5, \"70\": 1, \"9\": 2, \"8\": 1, \"30\": 2, \"24\": 2, \"26\": 2}, \"111\": {\"127\": 12, \"12\": 9, \"68\": 2, \"111\": 71, \"30\": 2, \"71\": 2, \"1\": 2, \"106\": 4, \"98\": 1, \"0\": 3, \"27\": 3, \"15\": 1, \"8\": 2, \"10\": 1, \"70\": 2, \"114\": 1, \"26\": 1, \"58\": 1, \"17\": 1, \"37\": 1, \"95\": 2, \"126\": 1, \"101\": 2, \"125\": 1}, \"53\": {\"53\": 10, \"91\": 1, \"119\": 1, \"121\": 1, \"85\": 1, \"98\": 1, \"30\": 1}, \"73\": {\"73\": 14, \"51\": 1, \"17\": 2, \"40\": 1, \"102\": 1, \"10\": 1, \"107\": 1, \"114\": 2, \"108\": 1}, \"3\": {\"87\": 6, \"3\": 74, \"82\": 1, \"4\": 2, \"55\": 1, \"129\": 1, \"83\": 2, \"41\": 1, \"101\": 4, \"49\": 2, \"21\": 1, \"71\": 8, \"5\": 5, \"0\": 1, \"105\": 2, \"88\": 2, \"1\": 4, \"114\": 5, \"111\": 1, \"119\": 1, \"7\": 1, \"42\": 1, \"110\": 1, \"29\": 1, \"70\": 1, \"39\": 1, \"43\": 1, \"127\": 1, \"27\": 1, \"33\": 1, \"40\": 1, \"124\": 1}, \"83\": {\"11\": 2, \"83\": 15, \"90\": 1, \"99\": 2, \"70\": 2, \"91\": 1, \"23\": 1, \"37\": 1, \"7\": 1, \"85\": 2}, \"88\": {\"88\": 46, \"3\": 2, \"8\": 11, \"70\": 5, \"110\": 3, \"58\": 1, \"11\": 2, \"23\": 1, \"4\": 1, \"89\": 1, \"7\": 6, \"101\": 5, \"5\": 4, \"0\": 3, \"10\": 4, \"122\": 2, \"98\": 6, \"1\": 1, \"108\": 3, \"109\": 5, \"114\": 4, \"83\": 1, \"85\": 1, \"124\": 1, \"49\": 1, \"39\": 1, \"118\": 1, \"27\": 2, \"93\": 2, \"87\": 1, \"127\": 1, \"113\": 1, \"43\": 1}, \"87\": {\"73\": 2, \"87\": 33, \"78\": 1, \"119\": 2, \"17\": 2, \"114\": 13, \"88\": 6, \"49\": 1, \"108\": 6, \"105\": 6, \"33\": 4, \"7\": 5, \"5\": 3, \"0\": 1, \"43\": 1, \"70\": 6, \"1\": 6, \"27\": 2, \"3\": 4, \"107\": 2, \"93\": 2, \"8\": 3, \"110\": 1, \"111\": 1, \"71\": 2, \"89\": 1, \"79\": 1, \"99\": 1, \"11\": 5, \"10\": 1, \"129\": 1, \"95\": 1, \"128\": 1, \"82\": 1, \"40\": 2, \"109\": 1, \"24\": 1}, \"2\": {\"2\": 18, \"14\": 1, \"16\": 2, \"18\": 1, \"81\": 1, \"99\": 2, \"26\": 1, \"11\": 1, \"116\": 1}, \"86\": {\"86\": 16, \"1\": 2, \"0\": 2, \"95\": 1, \"4\": 1, \"83\": 1, \"105\": 2, \"101\": 1, \"70\": 1, \"12\": 1}, \"16\": {\"65\": 2, \"88\": 3, \"16\": 52, \"35\": 1, \"117\": 11, \"121\": 2, \"127\": 2, \"14\": 2, \"84\": 6, \"0\": 1, \"26\": 5, \"122\": 1, \"18\": 6, \"109\": 5, \"126\": 1, \"69\": 4, \"113\": 4, \"63\": 2, \"39\": 3, \"2\": 2, \"105\": 1, \"102\": 1, \"11\": 2, \"40\": 3}, \"21\": {\"21\": 28, \"10\": 1, \"123\": 2, \"90\": 1, \"126\": 3, \"60\": 1, \"62\": 1, \"26\": 1, \"63\": 1, \"87\": 1}, \"96\": {\"96\": 10, \"92\": 1, \"78\": 2, \"31\": 2, \"121\": 1, \"8\": 1, \"16\": 1, \"20\": 1, \"109\": 1}, \"100\": {\"100\": 14, \"7\": 2, \"42\": 1, \"89\": 1, \"1\": 1, \"99\": 1}, \"7\": {\"7\": 82, \"85\": 1, \"128\": 1, \"99\": 1, \"3\": 2, \"108\": 1, \"98\": 5, \"72\": 1, \"0\": 4, \"10\": 3, \"27\": 3, \"8\": 2, \"24\": 1, \"5\": 1, \"101\": 2, \"70\": 4, \"23\": 1, \"88\": 1, \"49\": 1, \"11\": 1, \"87\": 1, \"16\": 1}, \"75\": {\"75\": 9, \"6\": 1, \"15\": 3, \"47\": 1, \"54\": 1, \"125\": 1}, \"10\": {\"7\": 8, \"10\": 26, \"97\": 2, \"29\": 2, \"54\": 2, \"59\": 3, \"43\": 2, \"6\": 2, \"27\": 4, \"12\": 4, \"15\": 5, \"108\": 3, \"94\": 4, \"18\": 1, \"30\": 1, \"39\": 1, \"0\": 2, \"70\": 3, \"24\": 17, \"98\": 7, \"36\": 10, \"85\": 2, \"34\": 1, \"52\": 1, \"41\": 1, \"25\": 1, \"128\": 1, \"126\": 1, \"111\": 1, \"125\": 2, \"117\": 1, \"8\": 2, \"88\": 1}, \"43\": {\"3\": 2, \"43\": 31, \"110\": 2, \"126\": 3, \"41\": 1, \"108\": 5, \"60\": 1, \"42\": 1, \"113\": 1, \"109\": 1, \"33\": 9, \"101\": 1, \"40\": 3, \"8\": 1, \"5\": 2, \"1\": 3, \"44\": 1, \"88\": 9, \"14\": 3, \"7\": 6, \"114\": 2, \"107\": 3, \"0\": 1, \"90\": 6, \"105\": 3, \"120\": 1, \"73\": 1, \"129\": 1, \"46\": 1, \"82\": 1, \"93\": 4, \"11\": 5, \"17\": 2, \"87\": 1, \"98\": 1, \"124\": 1}, \"92\": {\"92\": 15, \"96\": 1, \"107\": 1, \"128\": 1, \"48\": 1, \"31\": 1, \"45\": 1, \"118\": 2, \"13\": 1, \"81\": 2, \"67\": 1, \"124\": 1}, \"62\": {\"62\": 24, \"88\": 2, \"71\": 1, \"116\": 1, \"44\": 1, \"122\": 3, \"102\": 2, \"93\": 1, \"118\": 6, \"107\": 1, \"43\": 1, \"126\": 1, \"113\": 1, \"45\": 1, \"115\": 1, \"14\": 4, \"19\": 1, \"60\": 1, \"84\": 2, \"69\": 3, \"11\": 2}, \"31\": {\"45\": 1, \"118\": 1, \"31\": 9, \"84\": 3, \"122\": 1, \"16\": 1}, \"0\": {\"0\": 39, \"91\": 1, \"99\": 1, \"82\": 1, \"10\": 3, \"128\": 1, \"86\": 2, \"70\": 4, \"4\": 5, \"8\": 7, \"88\": 5, \"7\": 9, \"5\": 1, \"106\": 1, \"27\": 2, \"98\": 4, \"87\": 3, \"101\": 8, \"1\": 2, \"112\": 1, \"12\": 4, \"52\": 1, \"110\": 1, \"38\": 1, \"114\": 1, \"122\": 1, \"24\": 1, \"127\": 3, \"15\": 1}, \"45\": {\"118\": 1, \"45\": 12, \"17\": 1, \"104\": 1, \"95\": 1}, \"85\": {\"85\": 24, \"119\": 1, \"98\": 1, \"54\": 1, \"52\": 1}, \"119\": {\"85\": 2, \"119\": 13, \"112\": 1}, \"46\": {\"0\": 1, \"46\": 12, \"95\": 2, \"71\": 1, \"79\": 1, \"4\": 1, \"87\": 1, \"129\": 1}, \"71\": {\"1\": 5, \"71\": 57, \"129\": 3, \"3\": 10, \"4\": 4, \"95\": 2, \"114\": 8, \"70\": 1, \"105\": 1, \"127\": 4, \"87\": 2, \"43\": 1, \"12\": 1, \"18\": 1, \"36\": 1, \"0\": 1, \"101\": 1, \"126\": 1}, \"8\": {\"86\": 1, \"0\": 8, \"8\": 69, \"101\": 9, \"10\": 7, \"85\": 2, \"98\": 8, \"27\": 4, \"88\": 2, \"94\": 1, \"30\": 1, \"12\": 2, \"43\": 1, \"7\": 6, \"113\": 1, \"126\": 2, \"70\": 2, \"108\": 1, \"24\": 1, \"29\": 2, \"106\": 1, \"15\": 1, \"105\": 2}, \"118\": {\"45\": 1, \"118\": 34, \"78\": 1, \"102\": 6, \"40\": 3, \"14\": 5, \"122\": 2, \"43\": 2, \"62\": 2, \"3\": 2, \"0\": 2, \"7\": 1, \"90\": 3, \"108\": 3, \"69\": 11, \"11\": 6, \"107\": 2, \"110\": 3, \"5\": 2, \"33\": 2, \"39\": 1, \"84\": 5, \"109\": 1, \"48\": 1, \"127\": 1, \"116\": 1, \"115\": 2, \"28\": 1, \"93\": 1, \"101\": 1, \"106\": 1, \"16\": 1, \"117\": 1, \"70\": 1}, \"1\": {\"0\": 3, \"1\": 61, \"87\": 2, \"114\": 4, \"4\": 4, \"12\": 1, \"82\": 2, \"33\": 1, \"3\": 4, \"94\": 1, \"105\": 6, \"126\": 3, \"71\": 7, \"127\": 1, \"21\": 1, \"113\": 1, \"40\": 1, \"101\": 2, \"24\": 2, \"5\": 1}, \"38\": {\"38\": 16}, \"30\": {\"86\": 1, \"8\": 4, \"30\": 28, \"59\": 1, \"41\": 2, \"12\": 4, \"27\": 3, \"128\": 1, \"125\": 2, \"111\": 5, \"106\": 1, \"98\": 1, \"24\": 2, \"70\": 1, \"7\": 2, \"127\": 1, \"93\": 1, \"10\": 2, \"15\": 4, \"91\": 1, \"6\": 2, \"51\": 1, \"21\": 1, \"53\": 1, \"126\": 1, \"85\": 1, \"108\": 1, \"101\": 1}, \"66\": {\"66\": 7, \"88\": 1, \"43\": 2, \"19\": 1, \"78\": 1, \"20\": 2, \"22\": 1, \"90\": 1}, \"9\": {\"9\": 18, \"0\": 2, \"59\": 1, \"91\": 1, \"41\": 1, \"98\": 1, \"53\": 1, \"24\": 1, \"125\": 1, \"8\": 1}, \"5\": {\"5\": 90, \"46\": 2, \"101\": 1, \"122\": 2, \"87\": 7, \"3\": 7, \"108\": 1, \"43\": 6, \"93\": 2, \"44\": 3, \"110\": 3, \"114\": 1, \"11\": 2, \"19\": 2, \"50\": 2, \"72\": 1, \"17\": 1, \"52\": 1, \"14\": 1, \"27\": 1}, \"24\": {\"24\": 39, \"59\": 2, \"53\": 3, \"72\": 1, \"94\": 10, \"8\": 9, \"18\": 2, \"88\": 4, \"30\": 1, \"7\": 5, \"36\": 10, \"27\": 6, \"10\": 9, \"70\": 3, \"126\": 1, \"125\": 3, \"98\": 4, \"6\": 1, \"15\": 5, \"106\": 1, \"101\": 1}, \"97\": {\"88\": 2, \"24\": 2, \"47\": 1, \"125\": 1, \"97\": 10, \"94\": 1, \"25\": 1, \"27\": 1, \"111\": 1}, \"67\": {\"26\": 1, \"67\": 6, \"33\": 1, \"123\": 3, \"126\": 1, \"48\": 1, \"18\": 1, \"81\": 1, \"39\": 1}, \"19\": {\"10\": 1, \"19\": 8, \"108\": 1, \"80\": 1, \"32\": 1, \"48\": 2, \"8\": 3, \"82\": 1, \"93\": 1, \"83\": 1, \"11\": 1, \"96\": 1, \"43\": 1, \"95\": 1, \"122\": 1, \"103\": 1, \"127\": 1, \"101\": 1}, \"77\": {\"10\": 1, \"77\": 10, \"29\": 1}, \"26\": {\"16\": 4, \"26\": 78, \"102\": 1, \"96\": 1, \"117\": 10, \"118\": 1, \"3\": 1, \"62\": 1, \"0\": 2, \"18\": 12, \"108\": 1, \"126\": 2, \"93\": 1, \"2\": 1, \"39\": 1, \"122\": 1}, \"115\": {\"24\": 1, \"19\": 1, \"115\": 5, \"33\": 1, \"87\": 1, \"55\": 1, \"107\": 1, \"110\": 1, \"118\": 3, \"114\": 1}, \"50\": {\"50\": 9, \"5\": 1, \"114\": 1, \"14\": 3, \"71\": 1, \"33\": 1}, \"120\": {\"120\": 13, \"28\": 1, \"11\": 1, \"74\": 1, \"99\": 1, \"46\": 1, \"93\": 1, \"124\": 1}, \"102\": {\"102\": 71, \"118\": 1, \"17\": 1, \"84\": 10, \"45\": 3, \"40\": 3, \"69\": 14, \"33\": 4, \"30\": 1, \"122\": 5, \"110\": 1, \"27\": 2, \"39\": 1, \"127\": 1, \"16\": 2, \"107\": 1, \"13\": 1, \"115\": 1, \"82\": 1, \"14\": 1, \"101\": 1, \"109\": 1, \"105\": 1}, \"29\": {\"29\": 26, \"98\": 2, \"30\": 1, \"9\": 1, \"27\": 2}, \"44\": {\"44\": 42, \"122\": 4, \"43\": 2, \"78\": 1, \"3\": 1, \"93\": 5, \"113\": 1, \"70\": 1, \"66\": 1, \"73\": 1, \"33\": 2, \"82\": 1, \"110\": 2}, \"124\": {\"104\": 1, \"105\": 2, \"124\": 63, \"32\": 2, \"73\": 3, \"27\": 2, \"71\": 3, \"29\": 1, \"83\": 1, \"89\": 2, \"43\": 3, \"4\": 2, \"1\": 1, \"12\": 2, \"88\": 1, \"108\": 1, \"10\": 1, \"0\": 1, \"14\": 1, \"106\": 1, \"107\": 4, \"114\": 1, \"98\": 1, \"87\": 1, \"78\": 1, \"34\": 2, \"82\": 1, \"5\": 2, \"40\": 6, \"11\": 3, \"8\": 2}, \"78\": {\"78\": 17, \"102\": 1, \"21\": 2, \"113\": 1, \"42\": 1, \"83\": 1, \"3\": 1, \"84\": 1, \"89\": 1, \"26\": 2, \"4\": 1, \"93\": 1, \"88\": 2, \"43\": 2, \"85\": 1, \"90\": 1}, \"104\": {\"104\": 11, \"102\": 1, \"40\": 1, \"43\": 1, \"84\": 1, \"70\": 1}, \"105\": {\"107\": 4, \"105\": 30, \"46\": 1, \"95\": 1, \"40\": 7, \"33\": 3, \"0\": 1, \"82\": 1, \"110\": 2, \"27\": 1, \"71\": 5, \"1\": 7, \"114\": 9, \"106\": 2, \"4\": 6, \"43\": 2, \"124\": 1, \"14\": 1, \"122\": 1, \"78\": 1, \"3\": 4, \"8\": 2, \"87\": 3, \"5\": 1, \"36\": 1, \"101\": 1, \"18\": 1, \"11\": 1}, \"28\": {\"104\": 1, \"28\": 11, \"64\": 1, \"5\": 2, \"73\": 1, \"110\": 1, \"11\": 1, \"76\": 2}, \"37\": {\"37\": 12, \"8\": 1, \"114\": 1, \"32\": 2}, \"107\": {\"107\": 67, \"105\": 3, \"40\": 13, \"102\": 3, \"82\": 1, \"43\": 1, \"33\": 8, \"108\": 1, \"11\": 3, \"110\": 2, \"109\": 1, \"1\": 2, \"14\": 3, \"87\": 3, \"84\": 2, \"8\": 1, \"118\": 4, \"46\": 2, \"50\": 1, \"17\": 1, \"83\": 1, \"114\": 3, \"88\": 1, \"5\": 1, \"7\": 1, \"124\": 2, \"113\": 1}, \"6\": {\"17\": 1, \"29\": 1, \"75\": 1, \"6\": 16, \"10\": 1, \"27\": 1, \"24\": 2, \"94\": 1}, \"17\": {\"104\": 3, \"17\": 8, \"76\": 1, \"34\": 1, \"46\": 2, \"129\": 1, \"111\": 1, \"82\": 2, \"32\": 1}, \"57\": {\"57\": 14, \"73\": 1, \"62\": 1}, \"121\": {\"64\": 3, \"102\": 1, \"121\": 11, \"74\": 1, \"13\": 1, \"71\": 1, \"62\": 2, \"117\": 1, \"33\": 1, \"21\": 2, \"18\": 1, \"69\": 1, \"57\": 1, \"39\": 1, \"31\": 1, \"126\": 2, \"116\": 1}, \"58\": {\"58\": 10, \"8\": 1, \"29\": 2, \"27\": 1, \"15\": 1, \"98\": 1}, \"64\": {\"96\": 1, \"64\": 11, \"14\": 1, \"33\": 1, \"74\": 1, \"93\": 1}, \"82\": {\"82\": 18, \"0\": 1, \"3\": 1, \"40\": 1, \"89\": 1, \"87\": 1, \"50\": 1, \"74\": 1, \"17\": 1, \"14\": 1, \"5\": 3, \"32\": 2}, \"39\": {\"18\": 6, \"23\": 1, \"39\": 44, \"38\": 1, \"113\": 7, \"2\": 1, \"62\": 2, \"110\": 1, \"108\": 2, \"117\": 3, \"81\": 1, \"5\": 2, \"16\": 3, \"109\": 4, \"124\": 1, \"122\": 1, \"126\": 5, \"26\": 3, \"88\": 3, \"118\": 2, \"63\": 2, \"121\": 1, \"0\": 2, \"78\": 1, \"7\": 1}, \"110\": {\"99\": 2, \"110\": 25, \"17\": 1, \"45\": 2, \"129\": 1, \"88\": 15, \"26\": 1, \"41\": 2, \"14\": 2, \"78\": 1, \"93\": 7, \"33\": 10, \"108\": 8, \"0\": 5, \"109\": 1, \"90\": 3, \"16\": 1, \"107\": 5, \"39\": 1, \"5\": 3, \"118\": 3, \"119\": 1, \"21\": 1, \"43\": 6, \"70\": 3, \"9\": 2, \"73\": 1, \"1\": 1, \"105\": 1, \"82\": 1, \"24\": 1, \"126\": 1, \"84\": 1, \"11\": 1, \"87\": 2, \"69\": 1, \"102\": 1}, \"114\": {\"114\": 69, \"4\": 3, \"73\": 1, \"82\": 1, \"120\": 1, \"129\": 2, \"71\": 12, \"105\": 3, \"0\": 3, \"1\": 6, \"8\": 3, \"43\": 1, \"101\": 1, \"87\": 6, \"93\": 2, \"102\": 1, \"127\": 2, \"5\": 1, \"40\": 2, \"11\": 1, \"112\": 1, \"17\": 1, \"39\": 1, \"3\": 2, \"88\": 1, \"110\": 1}, \"20\": {\"20\": 11, \"114\": 1, \"74\": 1, \"122\": 1, \"28\": 1, \"96\": 1}, \"117\": {\"18\": 12, \"39\": 6, \"117\": 55, \"26\": 6, \"113\": 5, \"105\": 1, \"16\": 6, \"81\": 2, \"122\": 3, \"109\": 6, \"126\": 1, \"108\": 2, \"69\": 1, \"65\": 1, \"35\": 1, \"118\": 1, \"2\": 1, \"62\": 1, \"84\": 3}, \"18\": {\"18\": 91, \"123\": 1, \"26\": 6, \"117\": 6, \"113\": 2, \"109\": 1, \"39\": 1, \"16\": 5, \"81\": 1, \"84\": 2, \"126\": 3, \"13\": 1}, \"99\": {\"99\": 29, \"11\": 1, \"93\": 1, \"83\": 1, \"60\": 2, \"88\": 1, \"120\": 1, \"72\": 3, \"108\": 1}, \"23\": {\"117\": 1, \"0\": 2, \"91\": 2, \"123\": 1, \"27\": 1, \"122\": 1, \"39\": 2, \"23\": 1, \"93\": 1, \"48\": 1, \"21\": 1, \"7\": 1, \"18\": 1}, \"128\": {\"128\": 8, \"70\": 1, \"83\": 1, \"29\": 1, \"49\": 1, \"124\": 1, \"7\": 2, \"88\": 1, \"119\": 1, \"112\": 2, \"100\": 2, \"120\": 1, \"27\": 1, \"11\": 1}, \"60\": {\"128\": 1, \"66\": 1, \"83\": 1, \"38\": 1, \"60\": 10, \"88\": 1, \"89\": 2, \"90\": 1, \"46\": 1, \"22\": 1, \"4\": 1, \"43\": 1, \"11\": 3, \"108\": 1, \"124\": 1, \"99\": 1, \"82\": 1, \"1\": 1, \"106\": 2}, \"70\": {\"8\": 4, \"70\": 30, \"125\": 1, \"26\": 1, \"88\": 12, \"7\": 2, \"4\": 5, \"95\": 3, \"78\": 2, \"105\": 4, \"128\": 4, \"100\": 1, \"85\": 3, \"71\": 5, \"0\": 3, \"1\": 2, \"14\": 1, \"127\": 4, \"10\": 1, \"118\": 1, \"27\": 2, \"114\": 5, \"108\": 1, \"110\": 2, \"101\": 2, \"43\": 2, \"5\": 1, \"93\": 2, \"113\": 2, \"53\": 1, \"29\": 1, \"49\": 1, \"9\": 1, \"72\": 1, \"15\": 1, \"60\": 1, \"12\": 2, \"126\": 1, \"87\": 1, \"98\": 1}, \"122\": {\"122\": 20, \"107\": 2, \"110\": 3, \"43\": 4, \"70\": 1, \"99\": 1, \"88\": 4, \"0\": 1, \"105\": 1, \"33\": 5, \"78\": 1, \"90\": 1, \"11\": 2, \"109\": 1, \"72\": 2, \"106\": 1, \"126\": 2, \"108\": 3, \"84\": 1, \"14\": 7, \"129\": 1, \"128\": 1, \"19\": 2, \"44\": 1, \"52\": 1, \"121\": 1, \"116\": 1, \"82\": 2, \"102\": 5, \"69\": 2, \"118\": 4}, \"101\": {\"101\": 56, \"128\": 4, \"70\": 5, \"91\": 1, \"53\": 1, \"105\": 2, \"78\": 1, \"100\": 1, \"85\": 2, \"49\": 1, \"52\": 1, \"7\": 4, \"0\": 12, \"88\": 3, \"127\": 2, \"98\": 4, \"8\": 10, \"87\": 4, \"27\": 4, \"10\": 3, \"113\": 1, \"108\": 1, \"86\": 2, \"1\": 1, \"30\": 1, \"39\": 1, \"12\": 2, \"111\": 2}, \"33\": {\"33\": 103, \"88\": 1, \"84\": 2, \"115\": 1, \"40\": 8, \"122\": 1, \"14\": 1, \"110\": 4, \"107\": 3, \"87\": 1, \"105\": 1, \"44\": 1, \"5\": 1, \"102\": 2, \"90\": 1, \"43\": 1}, \"40\": {\"40\": 72, \"33\": 9, \"17\": 3, \"43\": 3, \"39\": 1, \"105\": 1, \"1\": 1, \"114\": 2, \"107\": 21, \"11\": 2, \"18\": 1, \"32\": 1, \"117\": 1, \"5\": 2, \"113\": 2, \"88\": 1, \"4\": 1, \"14\": 1, \"87\": 3, \"3\": 1, \"102\": 1}, \"41\": {\"30\": 1, \"41\": 7, \"106\": 2, \"36\": 1, \"52\": 1, \"8\": 1, \"98\": 1, \"58\": 1, \"21\": 1}, \"59\": {\"59\": 8, \"125\": 1, \"41\": 1, \"30\": 1, \"97\": 1}, \"4\": {\"4\": 43, \"55\": 3, \"39\": 4, \"95\": 1, \"106\": 3, \"62\": 2, \"8\": 5, \"27\": 2, \"114\": 3, \"124\": 2, \"101\": 2, \"12\": 1, \"105\": 4, \"71\": 4, \"1\": 9, \"108\": 2, \"70\": 3, \"127\": 3, \"86\": 1, \"56\": 1, \"26\": 1, \"40\": 1, \"90\": 1, \"88\": 1, \"11\": 1, \"5\": 1}, \"112\": {\"24\": 2, \"112\": 8, \"98\": 1, \"53\": 2, \"72\": 1, \"123\": 1, \"49\": 1}, \"36\": {\"59\": 1, \"41\": 1, \"77\": 1, \"36\": 65, \"106\": 3, \"94\": 5, \"98\": 2, \"34\": 2, \"125\": 12, \"18\": 1, \"10\": 4, \"15\": 7, \"24\": 10, \"8\": 2, \"30\": 2, \"27\": 2, \"88\": 1, \"39\": 1, \"58\": 1, \"51\": 1, \"29\": 2, \"52\": 1, \"9\": 1}, \"48\": {\"48\": 10, \"67\": 1, \"19\": 1, \"96\": 1, \"31\": 2, \"108\": 1}, \"126\": {\"126\": 64, \"123\": 1, \"39\": 6, \"81\": 2, \"18\": 8, \"93\": 3, \"113\": 12, \"90\": 3, \"43\": 2, \"117\": 3, \"108\": 1, \"26\": 4, \"16\": 2, \"109\": 1, \"84\": 3, \"14\": 1}, \"125\": {\"125\": 77, \"59\": 1, \"6\": 1, \"15\": 9, \"47\": 3, \"34\": 2, \"30\": 1, \"36\": 8, \"94\": 6, \"24\": 4, \"10\": 4, \"113\": 1, \"9\": 2, \"106\": 1, \"18\": 1, \"88\": 1}, \"84\": {\"48\": 1, \"84\": 55, \"121\": 1, \"107\": 3, \"122\": 2, \"14\": 4, \"113\": 5, \"39\": 2, \"16\": 4, \"118\": 7, \"108\": 1, \"62\": 2, \"0\": 1, \"33\": 5, \"69\": 12, \"102\": 9, \"126\": 2, \"70\": 1, \"2\": 2, \"96\": 1, \"82\": 1, \"116\": 1, \"40\": 2, \"11\": 1, \"7\": 1, \"88\": 1, \"26\": 1}, \"80\": {\"80\": 16}, \"49\": {\"49\": 16, \"0\": 1, \"8\": 2, \"3\": 2, \"72\": 2, \"90\": 1, \"5\": 3, \"55\": 1, \"112\": 1, \"111\": 1, \"60\": 2}, \"47\": {\"47\": 10, \"6\": 2}, \"95\": {\"112\": 1, \"95\": 14, \"89\": 1, \"70\": 1, \"1\": 2, \"8\": 1, \"49\": 2, \"127\": 2, \"101\": 1, \"46\": 1, \"41\": 1, \"71\": 2, \"114\": 1, \"0\": 1, \"3\": 1}, \"54\": {\"54\": 14, \"97\": 1, \"30\": 1}, \"25\": {\"25\": 16}, \"116\": {\"116\": 16, \"69\": 1, \"14\": 1, \"90\": 1, \"72\": 1, \"79\": 1, \"104\": 1, \"88\": 1, \"44\": 1, \"66\": 1, \"11\": 1, \"93\": 2}, \"74\": {\"74\": 11, \"50\": 1, \"5\": 1, \"60\": 1, \"116\": 1, \"99\": 1}, \"35\": {\"102\": 1, \"35\": 6, \"16\": 1, \"78\": 2, \"117\": 2}, \"15\": {\"15\": 76, \"54\": 1, \"59\": 1, \"12\": 3, \"29\": 2, \"10\": 8, \"30\": 3, \"94\": 4, \"106\": 3, \"8\": 2, \"90\": 2, \"125\": 5, \"98\": 2, \"36\": 4, \"24\": 2, \"111\": 4, \"47\": 2, \"19\": 1, \"9\": 1, \"39\": 1, \"7\": 1}, \"108\": {\"102\": 1, \"50\": 2, \"43\": 1, \"32\": 1, \"88\": 5, \"108\": 29, \"116\": 1, \"109\": 1, \"40\": 1, \"39\": 1, \"60\": 1, \"0\": 1, \"94\": 1, \"93\": 4, \"72\": 2, \"124\": 2, \"8\": 1, \"36\": 1, \"117\": 1, \"11\": 9, \"24\": 1, \"70\": 4, \"87\": 1, \"14\": 2, \"119\": 1, \"106\": 1, \"83\": 1, \"110\": 2, \"63\": 1, \"85\": 1, \"126\": 1, \"19\": 1, \"78\": 1, \"92\": 1, \"7\": 1, \"90\": 1, \"122\": 2, \"107\": 1, \"27\": 1, \"5\": 1}, \"34\": {\"3\": 3, \"25\": 2, \"99\": 1, \"14\": 1, \"49\": 2, \"36\": 2, \"100\": 1, \"43\": 1, \"46\": 1, \"34\": 3, \"0\": 1, \"89\": 1, \"15\": 1, \"112\": 1, \"110\": 2, \"52\": 2, \"124\": 2, \"71\": 1, \"94\": 1, \"107\": 1, \"24\": 2}, \"81\": {\"18\": 5, \"114\": 1, \"81\": 21, \"2\": 1, \"126\": 1, \"117\": 2, \"109\": 1, \"39\": 1, \"57\": 1, \"99\": 1, \"62\": 1}, \"93\": {\"93\": 62, \"115\": 2, \"82\": 1, \"122\": 4, \"44\": 3, \"88\": 4, \"33\": 3, \"43\": 3, \"108\": 6, \"110\": 8, \"24\": 1, \"5\": 8, \"40\": 1, \"90\": 3, \"11\": 3, \"113\": 1, \"31\": 1, \"119\": 1, \"20\": 1, \"66\": 1, \"70\": 2, \"87\": 3, \"80\": 1, \"116\": 1, \"74\": 1, \"60\": 1, \"124\": 1, \"111\": 1}, \"55\": {\"55\": 7, \"4\": 3, \"129\": 1, \"71\": 1, \"127\": 2, \"105\": 1, \"72\": 1}, \"27\": {\"47\": 1, \"97\": 1, \"10\": 2, \"27\": 38, \"106\": 3, \"98\": 7, \"119\": 3, \"12\": 4, \"8\": 11, \"70\": 1, \"39\": 1, \"101\": 2, \"111\": 2, \"24\": 3, \"125\": 2, \"15\": 2, \"59\": 1, \"91\": 1, \"85\": 1, \"30\": 1, \"0\": 5, \"83\": 1, \"128\": 1, \"36\": 1, \"43\": 1, \"3\": 1, \"4\": 1, \"7\": 2}, \"109\": {\"73\": 1, \"109\": 36, \"90\": 3, \"39\": 3, \"70\": 3, \"69\": 7, \"116\": 5, \"88\": 2, \"62\": 2, \"126\": 1, \"44\": 1, \"118\": 4, \"110\": 4, \"102\": 2, \"16\": 8, \"11\": 3, \"0\": 2, \"14\": 3, \"117\": 4, \"93\": 2, \"7\": 4, \"84\": 5, \"108\": 2, \"113\": 2, \"43\": 1}, \"106\": {\"27\": 6, \"55\": 2, \"106\": 50, \"73\": 2, \"70\": 2, \"4\": 1, \"125\": 3, \"12\": 10, \"101\": 6, \"8\": 2, \"30\": 1, \"127\": 2, \"16\": 1, \"113\": 1, \"10\": 2, \"94\": 1, \"71\": 1, \"98\": 1, \"111\": 3, \"41\": 1, \"34\": 1, \"86\": 2, \"95\": 1, \"29\": 2, \"36\": 1, \"26\": 1, \"24\": 2, \"90\": 1, \"9\": 1, \"126\": 3, \"1\": 1, \"3\": 1, \"18\": 1}, \"68\": {\"68\": 6, \"91\": 2, \"111\": 1, \"29\": 1, \"55\": 2, \"127\": 1, \"121\": 1, \"6\": 1, \"86\": 1}, \"76\": {\"18\": 1, \"76\": 11, \"22\": 1, \"28\": 1, \"78\": 1, \"122\": 1}, \"103\": {\"103\": 12, \"121\": 1, \"0\": 1, \"95\": 1, \"127\": 1}, \"42\": {\"110\": 1, \"42\": 14, \"100\": 3, \"98\": 2, \"3\": 1, \"0\": 2, \"119\": 2, \"112\": 1, \"71\": 1, \"27\": 1}, \"129\": {\"82\": 1, \"129\": 9, \"114\": 3, \"73\": 2, \"33\": 2, \"50\": 2, \"87\": 3, \"32\": 1, \"105\": 1, \"122\": 1, \"14\": 1, \"93\": 1, \"40\": 1}, \"94\": {\"15\": 4, \"94\": 56, \"39\": 2, \"24\": 5, \"6\": 1, \"36\": 6, \"125\": 4, \"52\": 1, \"10\": 2, \"3\": 1, \"58\": 1, \"21\": 1, \"126\": 1, \"11\": 1, \"117\": 1, \"113\": 1}, \"123\": {\"123\": 14, \"18\": 1, \"21\": 1}, \"61\": {\"61\": 5, \"102\": 1, \"117\": 2, \"18\": 1, \"123\": 2, \"39\": 1, \"126\": 1, \"57\": 2, \"14\": 1}, \"51\": {\"39\": 1, \"51\": 3, \"25\": 1, \"90\": 1, \"121\": 1, \"62\": 1, \"27\": 1, \"89\": 1, \"11\": 1, \"58\": 1, \"63\": 1, \"21\": 1, \"9\": 2}, \"98\": {\"98\": 81, \"53\": 1, \"7\": 6, \"69\": 1, \"70\": 3, \"49\": 2, \"0\": 2, \"8\": 2, \"101\": 4, \"88\": 2, \"27\": 4, \"18\": 1, \"11\": 1, \"34\": 1, \"39\": 1, \"9\": 1, \"29\": 1, \"90\": 2, \"10\": 1, \"3\": 1}, \"56\": {\"56\": 6, \"73\": 1, \"40\": 1, \"4\": 1, \"108\": 1, \"9\": 1, \"22\": 1}, \"14\": {\"32\": 2, \"14\": 66, \"122\": 7, \"33\": 3, \"62\": 3, \"118\": 9, \"1\": 1, \"16\": 1, \"114\": 1, \"43\": 1, \"107\": 1, \"11\": 3, \"109\": 3, \"8\": 1, \"84\": 2, \"23\": 1, \"70\": 1, \"60\": 1, \"110\": 1, \"108\": 1, \"69\": 1, \"27\": 1, \"39\": 1}, \"90\": {\"90\": 127, \"99\": 1, \"110\": 1, \"93\": 5, \"43\": 2, \"84\": 1, \"66\": 1}, \"13\": {\"13\": 6, \"92\": 1, \"69\": 1, \"32\": 2, \"14\": 3, \"16\": 2, \"118\": 1}, \"89\": {\"89\": 25, \"120\": 1, \"71\": 1, \"127\": 1, \"15\": 1, \"3\": 1, \"10\": 1, \"87\": 1}, \"52\": {\"52\": 17, \"99\": 1, \"41\": 1, \"10\": 1}, \"72\": {\"72\": 23, \"119\": 1, \"109\": 1, \"108\": 1, \"5\": 1, \"93\": 1, \"99\": 2, \"32\": 1, \"88\": 1}, \"79\": {\"79\": 13, \"14\": 1, \"22\": 2}, \"113\": {\"113\": 51, \"117\": 8, \"126\": 20, \"26\": 4, \"51\": 1, \"62\": 1, \"16\": 6, \"18\": 4, \"39\": 7, \"24\": 1, \"118\": 1, \"109\": 5, \"84\": 2, \"88\": 5, \"7\": 1, \"90\": 1, \"2\": 1, \"93\": 3, \"36\": 1, \"122\": 1, \"110\": 2}}, \"C_4\": {\"32\": {\"46\": 1, \"32\": 23}, \"2\": {\"38\": 2, \"2\": 31, \"13\": 1, \"39\": 1, \"24\": 1}, \"41\": {\"41\": 35, \"5\": 1}, \"11\": {\"11\": 66, \"57\": 1, \"52\": 2, \"15\": 20, \"10\": 1, \"24\": 2, \"2\": 1, \"16\": 1, \"0\": 2, \"43\": 3, \"46\": 1, \"22\": 2}, \"57\": {\"57\": 97, \"28\": 1, \"29\": 2}, \"6\": {\"6\": 69, \"3\": 19, \"55\": 5, \"5\": 1, \"25\": 1, \"48\": 5, \"36\": 5, \"54\": 3, \"17\": 1, \"31\": 1, \"50\": 1, \"51\": 1}, \"23\": {\"23\": 128, \"52\": 1, \"18\": 3, \"5\": 3, \"39\": 1}, \"52\": {\"52\": 105, \"23\": 7, \"47\": 1, \"32\": 1, \"41\": 1, \"18\": 1}, \"38\": {\"38\": 38, \"22\": 2}, \"50\": {\"50\": 65, \"6\": 6, \"51\": 11, \"48\": 1, \"9\": 4, \"34\": 2, \"26\": 1, \"8\": 5, \"3\": 9, \"53\": 6, \"17\": 2, \"27\": 7, \"29\": 1, \"12\": 3, \"19\": 1, \"25\": 4, \"20\": 2, \"4\": 1, \"45\": 1}, \"55\": {\"55\": 138, \"26\": 2, \"5\": 1, \"29\": 1, \"3\": 3, \"54\": 3, \"50\": 1, \"48\": 2, \"34\": 1}, \"46\": {\"49\": 2, \"55\": 7, \"1\": 5, \"46\": 82, \"5\": 18, \"0\": 7, \"47\": 12, \"23\": 4, \"36\": 1, \"3\": 3, \"11\": 1, \"52\": 3, \"22\": 4, \"41\": 1, \"32\": 1, \"38\": 1, \"54\": 1, \"57\": 1}, \"37\": {\"37\": 24}, \"20\": {\"50\": 1, \"20\": 111, \"53\": 1, \"6\": 2, \"21\": 1, \"25\": 1, \"55\": 1}, \"49\": {\"49\": 19, \"1\": 1}, \"45\": {\"45\": 74, \"12\": 7, \"9\": 4, \"21\": 1, \"19\": 2, \"27\": 3, \"50\": 1, \"30\": 1, \"4\": 2, \"51\": 1}, \"54\": {\"54\": 108}, \"3\": {\"3\": 92, \"4\": 2, \"34\": 1, \"25\": 1, \"6\": 21, \"54\": 3, \"36\": 3, \"21\": 1}, \"13\": {\"13\": 147, \"2\": 1, \"56\": 1, \"10\": 3}, \"18\": {\"23\": 9, \"18\": 96, \"47\": 1, \"3\": 1, \"5\": 1}, \"21\": {\"21\": 118, \"51\": 1, \"20\": 2, \"45\": 1, \"25\": 2, \"12\": 2}, \"43\": {\"43\": 143, \"24\": 1}, \"47\": {\"47\": 87, \"23\": 6, \"46\": 13, \"1\": 2, \"57\": 3, \"5\": 3, \"36\": 1, \"32\": 1, \"7\": 1, \"6\": 1, \"52\": 1, \"48\": 1}, \"4\": {\"4\": 114, \"51\": 3, \"9\": 8, \"20\": 1, \"17\": 3, \"53\": 1, \"50\": 2}, \"12\": {\"12\": 92}, \"9\": {\"9\": 111, \"4\": 3, \"17\": 4, \"53\": 1, \"19\": 1, \"51\": 2, \"27\": 2, \"50\": 4}, \"7\": {\"7\": 23, \"49\": 1}, \"56\": {\"56\": 105, \"22\": 3, \"29\": 1, \"43\": 1, \"10\": 1, \"47\": 1}, \"28\": {\"28\": 29, \"31\": 2, \"1\": 1}, \"44\": {\"44\": 98, \"19\": 14, \"33\": 1, \"4\": 5, \"40\": 10, \"9\": 1, \"29\": 1, \"53\": 2}, \"24\": {\"24\": 50, \"2\": 1, \"43\": 2, \"22\": 2, \"13\": 1}, \"33\": {\"33\": 35, \"40\": 1}, \"35\": {\"55\": 2, \"35\": 38}, \"51\": {\"51\": 110, \"53\": 16, \"44\": 1, \"54\": 1, \"21\": 2, \"50\": 5, \"25\": 2, \"20\": 1}, \"39\": {\"39\": 14, \"3\": 1, \"23\": 1, \"18\": 1, \"5\": 1, \"54\": 2}, \"36\": {\"36\": 89, \"53\": 1, \"3\": 1, \"6\": 1}, \"19\": {\"19\": 118, \"55\": 4, \"44\": 4, \"40\": 7, \"4\": 1, \"29\": 2, \"34\": 1, \"6\": 1, \"9\": 1, \"53\": 1}, \"0\": {\"0\": 55, \"46\": 7, \"15\": 1, \"55\": 1, \"5\": 6, \"6\": 1, \"22\": 3, \"54\": 1, \"43\": 2, \"2\": 2, \"3\": 1}, \"15\": {\"15\": 129, \"11\": 3, \"43\": 1, \"16\": 1, \"5\": 1, \"46\": 1}, \"29\": {\"29\": 103, \"1\": 1, \"28\": 2, \"57\": 4, \"17\": 4, \"19\": 5, \"3\": 1, \"31\": 1, \"9\": 1, \"6\": 2}, \"30\": {\"30\": 38, \"8\": 6}, \"1\": {\"1\": 39, \"46\": 1}, \"22\": {\"46\": 2, \"22\": 122, \"0\": 1, \"24\": 2, \"43\": 1}, \"40\": {\"28\": 1, \"40\": 103, \"51\": 2, \"19\": 20, \"4\": 4, \"44\": 8, \"55\": 3, \"33\": 4, \"53\": 1}, \"8\": {\"8\": 115, \"30\": 1, \"25\": 5, \"50\": 3, \"3\": 2, \"26\": 2}, \"53\": {\"53\": 101, \"8\": 1, \"6\": 2, \"51\": 17, \"3\": 2, \"50\": 3, \"21\": 2, \"25\": 3, \"54\": 7}, \"34\": {\"34\": 23, \"55\": 1}, \"10\": {\"10\": 119, \"13\": 2, \"24\": 1}, \"31\": {\"31\": 28}, \"17\": {\"17\": 73, \"27\": 2, \"9\": 3, \"4\": 1, \"50\": 1}, \"16\": {\"16\": 81, \"43\": 3, \"52\": 3, \"11\": 4, \"46\": 1, \"15\": 4}, \"42\": {\"42\": 32}, \"27\": {\"27\": 131, \"54\": 1, \"3\": 1, \"25\": 4, \"21\": 1, \"48\": 1, \"50\": 2, \"17\": 1}, \"14\": {\"22\": 2, \"14\": 5, \"7\": 1, \"5\": 1, \"29\": 1, \"40\": 1, \"38\": 1, \"49\": 1, \"33\": 1, \"43\": 1, \"35\": 1}, \"25\": {\"25\": 113, \"20\": 4, \"6\": 1, \"3\": 1, \"50\": 2, \"8\": 1}, \"48\": {\"48\": 112, \"36\": 1, \"34\": 1, \"6\": 1, \"3\": 4, \"47\": 1, \"54\": 3, \"55\": 7, \"57\": 2}, \"26\": {\"3\": 2, \"26\": 22}, \"5\": {\"5\": 83, \"46\": 4, \"47\": 10, \"41\": 1, \"54\": 2, \"52\": 2, \"55\": 2, \"39\": 1, \"3\": 1, \"32\": 1, \"43\": 1}}, \"W_1\": {\"68\": {\"101\": 1, \"111\": 1, \"68\": 8, \"5\": 2, \"86\": 2, \"31\": 2}, \"7\": {\"7\": 132, \"43\": 2, \"126\": 6, \"93\": 1, \"108\": 1}, \"125\": {\"125\": 88, \"111\": 1, \"36\": 7, \"6\": 2, \"15\": 7, \"30\": 2, \"88\": 3, \"71\": 4, \"92\": 1, \"94\": 1, \"27\": 2}, \"111\": {\"111\": 55, \"97\": 1, \"106\": 2, \"108\": 4, \"68\": 1, \"112\": 1, \"32\": 1, \"30\": 1, \"127\": 15, \"58\": 1, \"109\": 1, \"12\": 4, \"71\": 1, \"94\": 3, \"101\": 5, \"88\": 7, \"125\": 2, \"92\": 1, \"10\": 2, \"0\": 3, \"126\": 1, \"15\": 1, \"98\": 2, \"24\": 4, \"43\": 1}, \"101\": {\"101\": 109, \"85\": 1, \"72\": 2, \"110\": 2, \"0\": 1, \"108\": 1, \"88\": 1, \"107\": 1, \"32\": 1, \"113\": 1, \"125\": 1, \"4\": 1, \"12\": 1, \"24\": 1}, \"11\": {\"60\": 2, \"11\": 65, \"105\": 1, \"109\": 2, \"70\": 2, \"102\": 3, \"14\": 7, \"82\": 3, \"90\": 3, \"62\": 3, \"124\": 2, \"43\": 3, \"122\": 8, \"40\": 4, \"8\": 4, \"3\": 2, \"126\": 2, \"33\": 1, \"84\": 2, \"57\": 1, \"76\": 1, \"81\": 1, \"80\": 2, \"96\": 1, \"50\": 1, \"28\": 1, \"78\": 1, \"4\": 1, \"2\": 1, \"18\": 1, \"69\": 2, \"7\": 1, \"93\": 1, \"114\": 1}, \"76\": {\"76\": 13, \"109\": 3}, \"5\": {\"101\": 3, \"5\": 59, \"108\": 3, \"17\": 1, \"90\": 1, \"1\": 1, \"9\": 1, \"54\": 1, \"93\": 2, \"84\": 1, \"114\": 1, \"0\": 2, \"106\": 1, \"111\": 1, \"105\": 1, \"47\": 2, \"34\": 1, \"85\": 1, \"4\": 2, \"18\": 1, \"40\": 1, \"107\": 1}, \"123\": {\"123\": 12, \"21\": 1, \"25\": 1, \"26\": 1, \"35\": 1}, \"85\": {\"85\": 26, \"52\": 1, \"86\": 1, \"106\": 1, \"108\": 1, \"97\": 2}, \"34\": {\"68\": 1, \"85\": 1, \"34\": 7, \"41\": 2, \"22\": 1, \"8\": 1, \"128\": 2, \"52\": 1, \"75\": 2, \"89\": 3, \"5\": 1, \"6\": 1, \"124\": 1, \"37\": 2, \"54\": 1, \"97\": 1, \"116\": 1, \"38\": 1, \"125\": 1, \"92\": 1}, \"42\": {\"34\": 1, \"42\": 17, \"66\": 1, \"29\": 1, \"38\": 1, \"86\": 1, \"87\": 1, \"5\": 2, \"124\": 1, \"99\": 1, \"84\": 1}, \"81\": {\"11\": 2, \"81\": 22, \"129\": 1, \"40\": 1, \"14\": 1, \"78\": 1}, \"127\": {\"34\": 1, \"68\": 1, \"127\": 85, \"85\": 1, \"111\": 6, \"12\": 2, \"110\": 1, \"125\": 1, \"36\": 3, \"106\": 1, \"30\": 1, \"101\": 1, \"71\": 1, \"27\": 1, \"88\": 1, \"15\": 1}, \"60\": {\"34\": 1, \"42\": 2, \"60\": 7, \"100\": 1, \"86\": 1, \"29\": 1, \"3\": 1, \"11\": 1, \"32\": 1}, \"77\": {\"77\": 11, \"68\": 1, \"55\": 1, \"23\": 1, \"79\": 1, \"29\": 1}, \"65\": {\"100\": 2, \"65\": 3, \"96\": 1, \"121\": 2, \"119\": 1, \"28\": 1, \"23\": 2}, \"44\": {\"44\": 70, \"108\": 1, \"10\": 1, \"70\": 2, \"48\": 2}, \"100\": {\"21\": 1, \"100\": 13, \"60\": 1, \"67\": 1}, \"80\": {\"93\": 1, \"80\": 10, \"14\": 1, \"33\": 1, \"84\": 2, \"11\": 1}, \"83\": {\"83\": 18, \"19\": 1, \"122\": 1, \"34\": 1, \"93\": 1, \"88\": 1, \"79\": 1, \"25\": 1, \"126\": 1, \"129\": 1, \"70\": 1}, \"51\": {\"51\": 12, \"52\": 2, \"94\": 1, \"12\": 1}, \"93\": {\"44\": 4, \"126\": 12, \"106\": 8, \"72\": 4, \"5\": 6, \"86\": 1, \"49\": 1, \"55\": 3, \"110\": 8, \"107\": 11, \"93\": 25, \"84\": 5, \"105\": 3, \"10\": 3, \"8\": 1, \"4\": 4, \"87\": 2, \"0\": 3, \"70\": 6, \"7\": 3, \"114\": 1, \"101\": 1, \"117\": 1, \"98\": 3, \"43\": 3, \"21\": 3, \"104\": 1, \"31\": 1, \"24\": 1, \"32\": 1, \"40\": 2, \"108\": 3}, \"31\": {\"31\": 14, \"35\": 2}, \"33\": {\"33\": 109, \"100\": 1, \"82\": 5, \"69\": 1, \"109\": 1, \"62\": 2, \"14\": 1, \"102\": 2, \"11\": 3, \"93\": 1}, \"113\": {\"113\": 90, \"14\": 1, \"95\": 1, \"18\": 2, \"118\": 2, \"26\": 8, \"16\": 7, \"69\": 1, \"117\": 6, \"2\": 1, \"62\": 1, \"43\": 2, \"39\": 2}, \"126\": {\"31\": 1, \"10\": 2, \"77\": 1, \"126\": 69, \"86\": 1, \"70\": 4, \"16\": 1, \"108\": 6, \"93\": 5, \"44\": 4, \"43\": 7, \"7\": 8, \"8\": 3, \"109\": 4, \"90\": 1, \"110\": 1, \"98\": 1, \"101\": 2, \"26\": 1, \"1\": 2}, \"10\": {\"10\": 73, \"85\": 1, \"41\": 1, \"97\": 1, \"70\": 5, \"108\": 13, \"86\": 1, \"0\": 3, \"12\": 1, \"101\": 7, \"88\": 1, \"72\": 1, \"109\": 3, \"23\": 1, \"48\": 1, \"64\": 1, \"27\": 1, \"44\": 1, \"7\": 2, \"93\": 1, \"43\": 1}, \"21\": {\"21\": 16, \"90\": 4, \"39\": 1, \"23\": 2, \"117\": 1, \"126\": 2, \"44\": 1, \"8\": 1, \"109\": 2, \"18\": 1, \"72\": 1, \"10\": 2, \"64\": 1, \"59\": 1, \"108\": 1, \"27\": 1, \"71\": 1, \"24\": 1}, \"90\": {\"90\": 112, \"70\": 2, \"64\": 1, \"42\": 1, \"109\": 8, \"126\": 3, \"7\": 3, \"113\": 1, \"8\": 1}, \"38\": {\"96\": 1, \"38\": 10, \"11\": 1, \"19\": 1, \"124\": 1, \"122\": 2}, \"96\": {\"66\": 1, \"19\": 2, \"64\": 1, \"44\": 3, \"96\": 9, \"70\": 1, \"109\": 1, \"122\": 1, \"28\": 1}, \"6\": {\"88\": 1, \"6\": 18, \"92\": 1, \"51\": 1, \"112\": 3, \"27\": 1, \"30\": 1, \"125\": 1, \"52\": 1, \"53\": 2, \"15\": 2}, \"121\": {\"113\": 2, \"121\": 21, \"95\": 4, \"119\": 2, \"120\": 1, \"26\": 2}, \"37\": {\"92\": 2, \"37\": 13, \"51\": 1}, \"88\": {\"94\": 4, \"88\": 58, \"52\": 1, \"37\": 1, \"93\": 1, \"98\": 5, \"125\": 8, \"36\": 9, \"24\": 12, \"15\": 5, \"32\": 1, \"108\": 5, \"27\": 7, \"70\": 3, \"10\": 1, \"126\": 2, \"71\": 1, \"12\": 1, \"106\": 1}, \"54\": {\"54\": 12, \"128\": 1, \"29\": 3}, \"92\": {\"88\": 1, \"92\": 21, \"71\": 3, \"125\": 1, \"37\": 1, \"111\": 1}, \"19\": {\"19\": 12, \"65\": 1, \"115\": 2, \"82\": 1, \"50\": 2, \"84\": 1, \"8\": 3, \"62\": 1, \"108\": 1, \"72\": 1, \"3\": 1, \"40\": 1, \"14\": 1}, \"47\": {\"54\": 1, \"73\": 1, \"47\": 5, \"40\": 1, \"42\": 1, \"91\": 1, \"87\": 1, \"93\": 1}, \"94\": {\"92\": 2, \"94\": 59, \"6\": 2, \"51\": 1, \"24\": 3, \"36\": 2, \"125\": 4, \"127\": 2, \"15\": 5, \"18\": 1, \"71\": 6, \"126\": 1, \"34\": 1, \"99\": 1, \"98\": 1, \"113\": 1}, \"66\": {\"66\": 15, \"99\": 1}, \"73\": {\"73\": 11, \"4\": 2, \"70\": 1, \"59\": 1, \"84\": 2, \"5\": 2, \"9\": 1}, \"75\": {\"75\": 11, \"112\": 1, \"91\": 3, \"71\": 1}, \"28\": {\"28\": 16, \"57\": 1, \"61\": 1, \"94\": 1, \"70\": 1}, \"20\": {\"20\": 12, \"11\": 1, \"78\": 2, \"99\": 1}, \"78\": {\"121\": 1, \"102\": 4, \"87\": 2, \"65\": 1, \"109\": 1, \"64\": 2, \"78\": 4, \"28\": 1}, \"71\": {\"71\": 64, \"12\": 5, \"69\": 1, \"30\": 1, \"27\": 5, \"24\": 3, \"94\": 3, \"15\": 5, \"88\": 3, \"111\": 2, \"117\": 1, \"98\": 2, \"125\": 2, \"34\": 1, \"39\": 1, \"108\": 1, \"127\": 3, \"70\": 1}, \"13\": {\"39\": 1, \"118\": 1, \"13\": 10, \"16\": 2, \"63\": 1, \"117\": 1}, \"118\": {\"118\": 41, \"69\": 5, \"63\": 1, \"14\": 2, \"26\": 8, \"2\": 3, \"113\": 4, \"11\": 3, \"16\": 5, \"18\": 1, \"39\": 2, \"117\": 4, \"60\": 1, \"121\": 1, \"99\": 1, \"90\": 1, \"93\": 1}, \"72\": {\"72\": 21, \"128\": 1, \"70\": 1, \"9\": 1, \"5\": 2, \"114\": 1, \"87\": 2, \"1\": 1, \"27\": 1, \"4\": 1}, \"24\": {\"24\": 67, \"97\": 1, \"86\": 1, \"88\": 2, \"91\": 1, \"108\": 5, \"113\": 1, \"30\": 2, \"98\": 5, \"39\": 1, \"41\": 1, \"52\": 1, \"27\": 1, \"10\": 3}, \"41\": {\"24\": 1, \"41\": 13, \"32\": 2}, \"102\": {\"102\": 67, \"129\": 1, \"100\": 2, \"50\": 2, \"19\": 1, \"2\": 2, \"33\": 12, \"62\": 10, \"69\": 8, \"122\": 2, \"3\": 1, \"14\": 3, \"11\": 2, \"70\": 1, \"8\": 2, \"43\": 1, \"117\": 1, \"15\": 1, \"90\": 1}, \"8\": {\"123\": 1, \"8\": 83, \"31\": 1, \"122\": 5, \"76\": 1, \"70\": 5, \"71\": 1, \"0\": 2, \"10\": 1, \"114\": 1, \"4\": 10, \"87\": 1, \"14\": 3, \"126\": 2, \"90\": 3, \"11\": 6, \"66\": 1, \"105\": 1, \"28\": 1, \"34\": 1, \"124\": 2, \"43\": 2, \"108\": 2, \"109\": 1, \"40\": 1}, \"39\": {\"39\": 37, \"123\": 1, \"11\": 5, \"18\": 3, \"16\": 6, \"66\": 1, \"21\": 5, \"102\": 2, \"118\": 4, \"69\": 2, \"24\": 1, \"7\": 2, \"109\": 3, \"122\": 1, \"117\": 12, \"88\": 2, \"33\": 1, \"90\": 1, \"26\": 1, \"14\": 1, \"8\": 1, \"62\": 1, \"113\": 1, \"70\": 1, \"126\": 1}, \"97\": {\"40\": 1, \"53\": 1, \"68\": 2, \"70\": 1, \"97\": 8, \"75\": 1, \"101\": 1, \"52\": 1, \"31\": 1, \"98\": 1, \"2\": 1, \"111\": 1}, \"48\": {\"48\": 11, \"44\": 1}, \"57\": {\"57\": 11, \"104\": 1}, \"29\": {\"29\": 23, \"57\": 2, \"97\": 1, \"43\": 1, \"10\": 1}, \"119\": {\"119\": 15, \"16\": 1}, \"89\": {\"97\": 1, \"29\": 3, \"89\": 24, \"106\": 1, \"9\": 3, \"37\": 1, \"17\": 1, \"34\": 2}, \"40\": {\"40\": 87, \"1\": 4, \"114\": 16, \"29\": 1, \"105\": 3, \"107\": 7, \"4\": 5, \"84\": 2, \"101\": 3, \"87\": 2, \"8\": 4, \"124\": 3, \"108\": 1, \"9\": 1, \"110\": 1}, \"22\": {\"6\": 1, \"22\": 8, \"8\": 1, \"9\": 2, \"38\": 2, \"100\": 1, \"124\": 1}, \"53\": {\"53\": 16, \"6\": 2, \"92\": 1, \"27\": 1}, \"108\": {\"48\": 1, \"57\": 1, \"7\": 6, \"108\": 50, \"10\": 14, \"21\": 1, \"109\": 2, \"0\": 5, \"24\": 8, \"70\": 7, \"72\": 1, \"101\": 2, \"44\": 3, \"93\": 3, \"98\": 2, \"126\": 7, \"8\": 1, \"86\": 3, \"4\": 1, \"12\": 2, \"71\": 1, \"43\": 1, \"88\": 2}, \"23\": {\"23\": 8, \"109\": 1, \"95\": 1, \"28\": 1, \"35\": 1, \"8\": 2, \"97\": 1, \"70\": 1, \"64\": 1, \"104\": 2, \"93\": 1, \"10\": 1, \"9\": 1, \"7\": 1, \"85\": 1}, \"109\": {\"109\": 90, \"7\": 7, \"3\": 3, \"90\": 3, \"44\": 1, \"126\": 6, \"76\": 1, \"70\": 5}, \"112\": {\"41\": 1, \"112\": 10, \"6\": 2, \"71\": 1, \"12\": 2}, \"35\": {\"23\": 2, \"35\": 8, \"8\": 1, \"86\": 1}, \"3\": {\"3\": 74, \"20\": 2, \"11\": 2, \"122\": 1, \"36\": 3, \"126\": 1, \"60\": 1, \"129\": 1, \"43\": 1, \"70\": 1, \"88\": 1}, \"103\": {\"103\": 13, \"15\": 1, \"0\": 1, \"58\": 1}, \"4\": {\"4\": 39, \"23\": 1, \"40\": 10, \"49\": 2, \"84\": 5, \"107\": 9, \"105\": 4, \"1\": 2, \"0\": 1, \"8\": 3, \"93\": 3, \"101\": 6, \"39\": 1, \"43\": 1, \"114\": 4, \"110\": 1, \"25\": 1, \"72\": 2, \"128\": 1, \"32\": 1, \"122\": 2, \"12\": 1}, \"87\": {\"31\": 2, \"78\": 2, \"87\": 17, \"106\": 3, \"70\": 6, \"107\": 3, \"84\": 15, \"8\": 2, \"5\": 1, \"93\": 8, \"44\": 2, \"16\": 1, \"1\": 2, \"10\": 5, \"105\": 8, \"91\": 2, \"40\": 3, \"110\": 1, \"114\": 8, \"122\": 3, \"4\": 2, \"46\": 1, \"28\": 1, \"128\": 1, \"102\": 1, \"23\": 1, \"43\": 1, \"126\": 2, \"108\": 1, \"109\": 1, \"24\": 1, \"101\": 1}, \"25\": {\"25\": 9, \"120\": 1, \"129\": 1, \"119\": 2, \"116\": 1, \"100\": 1, \"113\": 1}, \"15\": {\"15\": 64, \"6\": 1, \"88\": 3, \"125\": 4, \"24\": 2, \"127\": 3, \"36\": 5, \"69\": 1, \"27\": 7, \"111\": 3, \"12\": 3, \"112\": 1, \"30\": 1, \"53\": 1, \"71\": 1, \"121\": 1, \"94\": 2, \"117\": 1}, \"95\": {\"95\": 18, \"39\": 2, \"10\": 1, \"18\": 2, \"117\": 3, \"113\": 1, \"26\": 1, \"13\": 1, \"69\": 1, \"21\": 1, \"119\": 1, \"11\": 1, \"121\": 1, \"16\": 2}, \"120\": {\"120\": 14, \"29\": 1, \"62\": 2, \"116\": 1, \"123\": 1, \"121\": 1}, \"59\": {\"51\": 2, \"59\": 6, \"37\": 1, \"92\": 2, \"118\": 1}, \"49\": {\"49\": 8, \"52\": 1, \"93\": 3, \"24\": 2, \"109\": 1, \"0\": 1, \"58\": 1, \"77\": 1, \"7\": 1, \"32\": 1}, \"52\": {\"52\": 11, \"85\": 1, \"10\": 1, \"109\": 1, \"98\": 1, \"58\": 1, \"97\": 1, \"41\": 1, \"24\": 1, \"35\": 1}, \"45\": {\"87\": 1, \"78\": 1, \"80\": 1, \"7\": 1, \"41\": 1, \"36\": 1, \"128\": 1, \"119\": 1, \"103\": 2, \"93\": 1, \"74\": 1}, \"107\": {\"107\": 84, \"128\": 1, \"73\": 1, \"17\": 1, \"84\": 3, \"110\": 9, \"4\": 2, \"124\": 1, \"0\": 3, \"24\": 1, \"106\": 2, \"88\": 1, \"101\": 2, \"129\": 1, \"31\": 1, \"55\": 1, \"40\": 4, \"5\": 1, \"105\": 2, \"126\": 1, \"93\": 1, \"43\": 1}, \"106\": {\"106\": 78, \"10\": 2, \"12\": 6, \"111\": 6, \"110\": 10, \"93\": 9, \"71\": 1, \"88\": 2, \"5\": 2, \"44\": 1, \"107\": 5, \"43\": 2, \"17\": 1, \"127\": 1, \"91\": 1, \"34\": 1, \"24\": 2, \"101\": 2, \"4\": 1, \"84\": 1}, \"18\": {\"14\": 1, \"18\": 101, \"2\": 2, \"90\": 1, \"39\": 5, \"118\": 3, \"11\": 3, \"122\": 2, \"102\": 1, \"109\": 1, \"16\": 1, \"21\": 1, \"117\": 1, \"110\": 1}, \"64\": {\"64\": 16}, \"86\": {\"86\": 27, \"44\": 3, \"10\": 1, \"12\": 1, \"19\": 1, \"108\": 2, \"76\": 1}, \"14\": {\"33\": 7, \"14\": 69, \"80\": 1, \"126\": 2, \"1\": 2, \"124\": 1, \"102\": 1, \"108\": 1, \"39\": 1, \"11\": 3, \"4\": 1, \"43\": 1, \"100\": 1, \"19\": 2, \"129\": 2, \"8\": 1}, \"115\": {\"115\": 10, \"28\": 2}, \"0\": {\"93\": 5, \"70\": 1, \"101\": 14, \"32\": 1, \"0\": 42, \"84\": 2, \"108\": 2, \"21\": 1, \"1\": 1, \"110\": 3, \"10\": 1, \"4\": 3, \"88\": 1, \"85\": 2, \"72\": 1, \"128\": 1, \"28\": 1, \"12\": 1, \"98\": 1}, \"104\": {\"104\": 12, \"7\": 3, \"115\": 1}, \"61\": {\"61\": 11, \"128\": 1}, \"129\": {\"25\": 1, \"81\": 1, \"72\": 1, \"117\": 1, \"129\": 9, \"43\": 2, \"5\": 1, \"62\": 1, \"120\": 1, \"80\": 2, \"0\": 1, \"100\": 1, \"3\": 2, \"4\": 1, \"16\": 1, \"114\": 2}, \"122\": {\"8\": 5, \"67\": 1, \"60\": 2, \"126\": 2, \"129\": 2, \"70\": 3, \"108\": 2, \"33\": 3, \"122\": 27, \"44\": 1, \"102\": 1, \"62\": 1, \"14\": 5, \"40\": 2, \"3\": 1, \"124\": 3, \"1\": 1, \"84\": 4, \"43\": 4, \"16\": 1, \"82\": 2, \"50\": 1, \"119\": 1, \"38\": 2, \"7\": 1, \"105\": 2, \"39\": 1, \"10\": 1, \"107\": 1, \"4\": 1, \"18\": 1, \"114\": 3}, \"67\": {\"67\": 12, \"21\": 1, \"62\": 2, \"96\": 1}, \"128\": {\"104\": 1, \"128\": 10, \"93\": 1, \"41\": 1, \"86\": 1, \"72\": 1, \"87\": 1, \"109\": 1, \"85\": 2, \"57\": 2, \"49\": 1, \"126\": 1, \"108\": 1}, \"26\": {\"95\": 4, \"13\": 1, \"26\": 89, \"118\": 6, \"69\": 3, \"16\": 14, \"117\": 10, \"113\": 3, \"124\": 1, \"105\": 1, \"121\": 1, \"62\": 1}, \"117\": {\"13\": 1, \"117\": 86, \"60\": 1, \"81\": 1, \"26\": 8, \"63\": 3, \"121\": 1, \"19\": 1, \"102\": 1, \"62\": 1, \"118\": 4, \"69\": 2, \"113\": 4, \"14\": 2, \"122\": 1, \"16\": 7, \"11\": 6, \"2\": 1, \"39\": 5}, \"91\": {\"91\": 14, \"34\": 2, \"126\": 1, \"86\": 1, \"12\": 2, \"110\": 1, \"53\": 1, \"88\": 1, \"87\": 1, \"85\": 1, \"9\": 2, \"75\": 1}, \"12\": {\"12\": 57, \"112\": 1, \"6\": 1, \"52\": 2, \"110\": 2, \"127\": 6, \"101\": 3, \"30\": 1, \"98\": 6, \"71\": 2, \"111\": 6, \"18\": 1, \"90\": 3, \"88\": 1, \"10\": 2, \"24\": 3, \"108\": 1, \"0\": 1, \"106\": 2, \"7\": 1, \"93\": 1, \"107\": 1}, \"50\": {\"50\": 11, \"100\": 1, \"82\": 1, \"129\": 2, \"69\": 1}, \"99\": {\"99\": 22, \"96\": 1, \"57\": 1}, \"110\": {\"110\": 72, \"106\": 6, \"1\": 1, \"107\": 10, \"4\": 4, \"101\": 2, \"93\": 3, \"98\": 1, \"56\": 1, \"40\": 3, \"111\": 1}, \"43\": {\"23\": 3, \"115\": 1, \"10\": 2, \"43\": 20, \"84\": 11, \"126\": 7, \"8\": 1, \"109\": 4, \"87\": 7, \"36\": 1, \"114\": 8, \"40\": 7, \"93\": 2, \"7\": 2, \"1\": 8, \"39\": 1, \"108\": 1, \"107\": 1, \"125\": 1, \"90\": 2, \"98\": 1, \"11\": 5, \"122\": 3, \"70\": 3, \"5\": 2, \"4\": 1, \"72\": 1, \"0\": 3, \"44\": 3, \"94\": 1, \"27\": 1, \"110\": 1, \"33\": 1}, \"82\": {\"81\": 1, \"82\": 24, \"69\": 1, \"62\": 1, \"102\": 2, \"3\": 1, \"11\": 1, \"61\": 1, \"122\": 1, \"14\": 2, \"33\": 1}, \"1\": {\"1\": 55, \"40\": 4, \"101\": 2, \"114\": 8, \"87\": 3, \"105\": 4, \"84\": 5, \"5\": 2, \"93\": 2, \"4\": 3, \"43\": 4, \"122\": 1, \"124\": 1, \"126\": 1, \"107\": 1}, \"46\": {\"112\": 1, \"1\": 1, \"46\": 3, \"38\": 1, \"85\": 1, \"78\": 1, \"80\": 1, \"108\": 1, \"29\": 1, \"12\": 1}, \"16\": {\"16\": 66, \"39\": 2, \"113\": 5, \"11\": 2, \"2\": 1, \"118\": 5, \"109\": 1, \"33\": 1, \"26\": 8, \"117\": 12, \"69\": 1, \"13\": 1, \"14\": 1, \"102\": 2}, \"74\": {\"74\": 14, \"14\": 2}, \"32\": {\"32\": 20, \"108\": 1, \"49\": 3, \"72\": 1, \"101\": 1, \"73\": 1, \"86\": 1, \"4\": 2, \"91\": 1, \"30\": 1}, \"62\": {\"62\": 80, \"67\": 5, \"33\": 9, \"69\": 7, \"117\": 1, \"102\": 8, \"109\": 1, \"8\": 1, \"11\": 2, \"80\": 1, \"14\": 1, \"94\": 1, \"16\": 2, \"70\": 1}, \"27\": {\"88\": 8, \"27\": 40, \"56\": 1, \"17\": 1, \"112\": 2, \"86\": 2, \"30\": 4, \"70\": 1, \"36\": 3, \"12\": 5, \"125\": 5, \"111\": 3, \"15\": 4, \"94\": 4, \"71\": 1, \"68\": 1, \"37\": 2, \"6\": 1, \"69\": 1, \"21\": 1, \"98\": 1, \"127\": 1}, \"17\": {\"17\": 5, \"40\": 1, \"114\": 1, \"103\": 1, \"29\": 3, \"85\": 1, \"107\": 1, \"129\": 1, \"86\": 1, \"106\": 1}, \"36\": {\"36\": 105, \"92\": 1, \"125\": 10, \"15\": 5, \"94\": 1, \"27\": 4, \"88\": 5, \"30\": 1, \"39\": 1, \"111\": 1}, \"2\": {\"2\": 8, \"72\": 1, \"40\": 4, \"118\": 1, \"126\": 1, \"62\": 1, \"8\": 1, \"18\": 3, \"69\": 1, \"16\": 1, \"21\": 1, \"116\": 1, \"96\": 1, \"14\": 1, \"90\": 1, \"121\": 1, \"11\": 1, \"39\": 3}, \"70\": {\"0\": 2, \"109\": 7, \"76\": 1, \"70\": 34, \"44\": 7, \"86\": 3, \"107\": 1, \"82\": 1, \"24\": 7, \"126\": 7, \"108\": 9, \"87\": 1, \"11\": 4, \"21\": 1, \"12\": 1, \"7\": 6, \"98\": 5, \"10\": 8, \"5\": 1, \"93\": 4, \"101\": 4, \"32\": 1, \"4\": 2, \"35\": 1, \"124\": 1, \"40\": 1, \"27\": 1, \"90\": 1, \"43\": 1, \"39\": 1, \"88\": 1, \"18\": 1, \"8\": 2}, \"9\": {\"9\": 21, \"43\": 1, \"1\": 2, \"72\": 1, \"93\": 1, \"87\": 1, \"89\": 1, \"85\": 1, \"35\": 1, \"86\": 2}, \"114\": {\"114\": 70, \"84\": 15, \"40\": 15, \"107\": 3, \"1\": 5, \"93\": 2, \"105\": 3, \"4\": 3, \"43\": 3, \"8\": 2, \"72\": 2, \"19\": 1, \"129\": 1, \"122\": 1, \"87\": 2, \"124\": 1, \"110\": 1}, \"79\": {\"79\": 9, \"83\": 1, \"23\": 1, \"103\": 1}, \"56\": {\"17\": 1, \"56\": 9, \"15\": 1, \"112\": 1}, \"124\": {\"124\": 59, \"107\": 2, \"59\": 1, \"47\": 2, \"29\": 1, \"8\": 4, \"11\": 5, \"84\": 6, \"40\": 4, \"1\": 1, \"103\": 1, \"54\": 1, \"72\": 1, \"19\": 1, \"122\": 3, \"105\": 2, \"4\": 1, \"14\": 3, \"42\": 1, \"93\": 1, \"87\": 1, \"43\": 1}, \"84\": {\"114\": 19, \"84\": 60, \"40\": 2, \"89\": 2, \"107\": 4, \"93\": 2, \"4\": 5, \"87\": 2, \"88\": 1, \"8\": 1, \"5\": 2, \"105\": 5, \"0\": 1, \"43\": 8, \"3\": 5, \"124\": 1, \"1\": 6, \"101\": 1, \"110\": 3, \"103\": 1, \"32\": 1, \"129\": 1, \"71\": 1}, \"69\": {\"69\": 65, \"16\": 2, \"33\": 5, \"63\": 1, \"118\": 4, \"62\": 8, \"26\": 5, \"102\": 8, \"11\": 1, \"8\": 1, \"39\": 2, \"117\": 2, \"14\": 1, \"122\": 1, \"84\": 1, \"113\": 1}, \"58\": {\"58\": 9, \"32\": 1, \"112\": 1, \"101\": 1}, \"30\": {\"24\": 6, \"94\": 1, \"30\": 25, \"12\": 3, \"88\": 2, \"27\": 5, \"36\": 1, \"71\": 1, \"108\": 1, \"6\": 3, \"34\": 1, \"127\": 1, \"10\": 1, \"15\": 1}, \"55\": {\"55\": 6, \"5\": 1, \"101\": 1, \"93\": 3, \"23\": 1}, \"105\": {\"105\": 45, \"0\": 2, \"49\": 1, \"110\": 1, \"87\": 1, \"1\": 4, \"93\": 1, \"114\": 5, \"5\": 3, \"84\": 5, \"4\": 1, \"43\": 3, \"40\": 4, \"103\": 1, \"47\": 1, \"8\": 2, \"55\": 1, \"129\": 2, \"72\": 1}, \"63\": {\"120\": 1, \"63\": 6, \"50\": 1, \"102\": 1, \"18\": 2, \"121\": 1, \"118\": 2, \"26\": 1, \"13\": 1}, \"98\": {\"0\": 2, \"97\": 1, \"98\": 67, \"88\": 3, \"77\": 1, \"91\": 2, \"24\": 8, \"12\": 2, \"70\": 3, \"94\": 1, \"43\": 1, \"10\": 1, \"93\": 1, \"126\": 4, \"34\": 1, \"52\": 1, \"31\": 1, \"30\": 1, \"101\": 3, \"127\": 2, \"111\": 2}, \"116\": {\"116\": 19, \"122\": 1, \"42\": 1, \"3\": 2, \"33\": 1, \"102\": 1, \"120\": 2, \"82\": 1, \"100\": 2, \"50\": 1, \"16\": 1}}, \"W_3\": {\"76\": {\"76\": 11, \"66\": 1, \"120\": 1, \"116\": 1, \"79\": 2}, \"6\": {\"15\": 3, \"58\": 2, \"36\": 1, \"73\": 1, \"37\": 1, \"6\": 14, \"75\": 1, \"27\": 2, \"125\": 1, \"106\": 1, \"59\": 1, \"8\": 1, \"111\": 1, \"14\": 1, \"83\": 1}, \"108\": {\"108\": 40, \"46\": 1, \"48\": 1, \"124\": 1, \"12\": 4, \"7\": 1, \"98\": 8, \"106\": 1, \"86\": 1, \"88\": 2, \"8\": 9, \"3\": 3, \"94\": 1, \"10\": 10, \"0\": 7, \"105\": 1, \"70\": 8, \"90\": 2, \"11\": 1, \"87\": 2, \"30\": 1, \"1\": 1}, \"29\": {\"29\": 28, \"23\": 2, \"27\": 1, \"31\": 1}, \"83\": {\"83\": 22, \"70\": 1, \"8\": 1}, \"18\": {\"18\": 110, \"67\": 1, \"118\": 2, \"26\": 1, \"81\": 4, \"39\": 1, \"113\": 2, \"117\": 2, \"78\": 2, \"126\": 2, \"109\": 1}, \"54\": {\"54\": 16}, \"15\": {\"15\": 62, \"83\": 1, \"106\": 7, \"24\": 3, \"36\": 11, \"94\": 5, \"125\": 2, \"27\": 5, \"0\": 2, \"6\": 1, \"25\": 1, \"8\": 1, \"30\": 3}, \"100\": {\"100\": 11, \"129\": 2, \"98\": 1, \"48\": 1, \"50\": 1}, \"90\": {\"29\": 1, \"90\": 121, \"92\": 1, \"99\": 1, \"110\": 2, \"60\": 1, \"44\": 3, \"23\": 1, \"87\": 2, \"88\": 1, \"116\": 1, \"109\": 1}, \"26\": {\"18\": 4, \"26\": 98, \"63\": 2, \"33\": 1, \"69\": 1, \"39\": 1, \"109\": 2, \"107\": 1, \"14\": 1, \"118\": 3, \"102\": 3, \"4\": 1, \"126\": 1, \"117\": 3, \"13\": 1, \"82\": 1, \"43\": 1, \"88\": 1, \"62\": 2, \"16\": 2, \"84\": 1, \"3\": 1}, \"115\": {\"100\": 2, \"55\": 1, \"29\": 1, \"40\": 2, \"87\": 2, \"74\": 2, \"84\": 2, \"115\": 3, \"89\": 1}, \"94\": {\"94\": 54, \"15\": 4, \"24\": 4, \"37\": 1, \"83\": 2, \"97\": 1, \"106\": 4, \"125\": 4, \"73\": 1, \"27\": 2, \"36\": 2, \"6\": 2, \"108\": 1, \"44\": 1, \"111\": 1}, \"46\": {\"46\": 9, \"86\": 1, \"114\": 1, \"103\": 1, \"34\": 1, \"68\": 1, \"35\": 1, \"9\": 1}, \"121\": {\"121\": 17, \"116\": 1, \"43\": 1, \"82\": 1, \"113\": 1, \"62\": 1, \"21\": 2, \"39\": 3, \"92\": 1, \"69\": 1, \"120\": 1, \"33\": 1, \"18\": 1}, \"109\": {\"26\": 3, \"100\": 1, \"109\": 41, \"102\": 8, \"21\": 2, \"107\": 1, \"82\": 1, \"16\": 5, \"11\": 3, \"69\": 2, \"43\": 6, \"2\": 1, \"90\": 6, \"62\": 4, \"118\": 9, \"10\": 1, \"113\": 4, \"93\": 2, \"117\": 3, \"88\": 6, \"14\": 1, \"33\": 3, \"27\": 1, \"84\": 1, \"123\": 1, \"64\": 1, \"31\": 1, \"23\": 1, \"44\": 2, \"5\": 1, \"70\": 2, \"3\": 1, \"39\": 1, \"4\": 1, \"87\": 1}, \"101\": {\"101\": 30, \"49\": 1, \"127\": 1, \"111\": 1, \"0\": 1, \"91\": 1, \"73\": 1, \"98\": 1, \"125\": 1, \"8\": 2, \"68\": 1, \"34\": 2, \"58\": 1, \"12\": 2, \"94\": 1, \"30\": 1, \"108\": 1, \"99\": 1, \"86\": 2}, \"99\": {\"99\": 32, \"0\": 1, \"108\": 1, \"85\": 1, \"8\": 1}, \"8\": {\"8\": 56, \"99\": 2, \"0\": 9, \"77\": 1, \"98\": 12, \"59\": 1, \"34\": 1, \"111\": 3, \"128\": 1, \"30\": 6, \"7\": 6, \"12\": 4, \"10\": 7, \"26\": 1, \"125\": 1, \"70\": 1, \"108\": 5, \"114\": 1, \"112\": 2, \"68\": 1, \"91\": 1, \"49\": 2, \"88\": 2, \"117\": 1, \"4\": 1}, \"102\": {\"89\": 2, \"102\": 64, \"45\": 1, \"118\": 3, \"55\": 1, \"33\": 6, \"69\": 2, \"84\": 1, \"14\": 5, \"16\": 8, \"11\": 3, \"62\": 1, \"93\": 1, \"82\": 2, \"26\": 2, \"109\": 2}, \"122\": {\"123\": 1, \"9\": 1, \"90\": 2, \"40\": 6, \"88\": 6, \"29\": 1, \"110\": 1, \"122\": 23, \"42\": 1, \"84\": 3, \"32\": 2, \"10\": 2, \"26\": 1, \"19\": 3, \"55\": 1, \"126\": 1, \"129\": 1, \"23\": 2, \"70\": 1, \"86\": 1}, \"36\": {\"125\": 6, \"36\": 68, \"6\": 1, \"85\": 1, \"27\": 6, \"24\": 4, \"15\": 5, \"94\": 4, \"0\": 5, \"111\": 1, \"8\": 4, \"106\": 3, \"98\": 3, \"30\": 1, \"7\": 2, \"108\": 1, \"114\": 1}, \"113\": {\"123\": 3, \"113\": 60, \"126\": 2, \"21\": 1, \"93\": 9, \"88\": 4, \"62\": 2, \"18\": 6, \"109\": 6, \"11\": 5, \"70\": 2, \"117\": 1, \"5\": 1, \"33\": 2, \"114\": 1, \"27\": 2, \"118\": 4, \"39\": 5, \"69\": 1, \"87\": 1, \"26\": 2}, \"123\": {\"123\": 11, \"102\": 1, \"63\": 1, \"18\": 2, \"113\": 1}, \"120\": {\"120\": 20}, \"125\": {\"125\": 73, \"94\": 4, \"27\": 2, \"6\": 3, \"106\": 10, \"36\": 5, \"15\": 7, \"56\": 1, \"111\": 1, \"88\": 1, \"24\": 1}, \"89\": {\"89\": 17, \"116\": 1, \"69\": 1, \"107\": 1, \"40\": 1, \"30\": 1, \"123\": 1, \"102\": 1, \"109\": 1, \"62\": 2, \"84\": 1}, \"9\": {\"9\": 23, \"87\": 2, \"95\": 1, \"10\": 1, \"66\": 1, \"124\": 1, \"115\": 1, \"114\": 1, \"110\": 1}, \"31\": {\"31\": 18, \"88\": 1, \"90\": 1}, \"62\": {\"62\": 58, \"13\": 1, \"122\": 1, \"82\": 1, \"33\": 16, \"14\": 4, \"40\": 1, \"69\": 5, \"84\": 10, \"90\": 1, \"93\": 1, \"102\": 4, \"16\": 4, \"74\": 1, \"87\": 1, \"11\": 1, \"126\": 1, \"109\": 1, \"113\": 1, \"118\": 1}, \"49\": {\"49\": 7, \"51\": 1, \"77\": 1, \"101\": 1, \"1\": 1, \"7\": 1, \"80\": 1, \"44\": 1, \"70\": 3, \"58\": 1, \"42\": 1, \"92\": 1, \"98\": 1, \"6\": 1, \"90\": 2}, \"23\": {\"18\": 2, \"7\": 2, \"67\": 2, \"85\": 2, \"70\": 1, \"23\": 5, \"108\": 1, \"92\": 1, \"98\": 2, \"113\": 1, \"109\": 1, \"2\": 2, \"69\": 2, \"31\": 1, \"49\": 1, \"121\": 1, \"118\": 1, \"99\": 1, \"8\": 1, \"21\": 2}, \"55\": {\"55\": 11, \"68\": 1, \"105\": 1, \"19\": 1, \"122\": 1, \"4\": 1}, \"128\": {\"7\": 2, \"29\": 1, \"4\": 3, \"128\": 14, \"44\": 1, \"87\": 1, \"0\": 1, \"5\": 3, \"49\": 1, \"122\": 1, \"19\": 1, \"23\": 1, \"108\": 2}, \"71\": {\"71\": 49, \"77\": 1, \"96\": 1, \"114\": 3, \"127\": 7, \"4\": 2, \"5\": 1, \"105\": 3, \"3\": 1}, \"51\": {\"51\": 14, \"37\": 1, \"8\": 1}, \"7\": {\"7\": 82, \"52\": 1, \"0\": 4, \"111\": 4, \"99\": 1, \"91\": 2, \"108\": 2, \"30\": 2, \"8\": 3, \"10\": 1, \"12\": 1, \"73\": 1, \"101\": 1, \"106\": 1}, \"117\": {\"78\": 1, \"18\": 19, \"2\": 2, \"43\": 1, \"117\": 49, \"26\": 6, \"102\": 2, \"109\": 3, \"16\": 3, \"39\": 7, \"118\": 3, \"62\": 1, \"113\": 1, \"93\": 2, \"5\": 1, \"32\": 1, \"69\": 1, \"126\": 1}, \"28\": {\"28\": 13, \"90\": 2, \"43\": 1}, \"127\": {\"71\": 4, \"127\": 90, \"68\": 1, \"9\": 2, \"46\": 1, \"3\": 4, \"30\": 1, \"1\": 3, \"70\": 1, \"5\": 6, \"0\": 1, \"105\": 6, \"124\": 1, \"55\": 2, \"17\": 1, \"99\": 1, \"114\": 3}, \"57\": {\"57\": 19, \"29\": 1}, \"78\": {\"78\": 8, \"55\": 1, \"101\": 1, \"42\": 1, \"110\": 1, \"92\": 1, \"54\": 1, \"40\": 1, \"21\": 1}, \"87\": {\"84\": 12, \"90\": 5, \"87\": 39, \"105\": 3, \"48\": 1, \"107\": 3, \"62\": 3, \"40\": 11, \"129\": 2, \"1\": 4, \"110\": 5, \"88\": 6, \"11\": 5, \"10\": 1, \"119\": 1, \"100\": 1, \"78\": 1, \"33\": 7, \"60\": 1, \"117\": 1, \"114\": 5, \"102\": 1, \"124\": 1, \"8\": 1}, \"40\": {\"40\": 64, \"105\": 3, \"62\": 3, \"129\": 1, \"32\": 2, \"39\": 1, \"60\": 1, \"107\": 18, \"110\": 3, \"4\": 3, \"16\": 3, \"1\": 6, \"11\": 2, \"87\": 3, \"84\": 3, \"124\": 3, \"45\": 1, \"92\": 1, \"34\": 1, \"19\": 2, \"33\": 1, \"114\": 2, \"14\": 1}, \"81\": {\"81\": 22, \"61\": 1, \"39\": 2, \"120\": 1, \"18\": 4, \"26\": 2}, \"2\": {\"2\": 16, \"96\": 1, \"117\": 1, \"43\": 1, \"18\": 1, \"113\": 1, \"109\": 2, \"118\": 1, \"63\": 1, \"39\": 1, \"31\": 1, \"62\": 1}, \"58\": {\"58\": 12, \"10\": 1, \"111\": 1, \"101\": 1, \"8\": 1}, \"68\": {\"68\": 10, \"77\": 2, \"72\": 1, \"2\": 1, \"65\": 1, \"85\": 1}, \"20\": {\"20\": 8, \"90\": 3, \"129\": 1, \"65\": 1, \"29\": 1, \"60\": 1, \"36\": 1}, \"35\": {\"35\": 8, \"68\": 1, \"112\": 1, \"1\": 1, \"0\": 1}, \"96\": {\"96\": 11, \"23\": 1, \"101\": 2, \"78\": 1, \"16\": 1, \"11\": 1, \"87\": 1, \"43\": 1, \"13\": 1}, \"84\": {\"84\": 73, \"107\": 4, \"33\": 5, \"11\": 1, \"62\": 8, \"110\": 1, \"102\": 1, \"93\": 1, \"87\": 2, \"10\": 1, \"16\": 2, \"14\": 4, \"116\": 1, \"49\": 1, \"32\": 1, \"129\": 1, \"122\": 1}, \"13\": {\"64\": 1, \"13\": 1, \"16\": 1, \"69\": 2, \"43\": 2, \"62\": 2, \"93\": 1, \"50\": 1, \"81\": 1, \"107\": 1, \"26\": 2, \"39\": 1}, \"64\": {\"64\": 18, \"120\": 2}, \"112\": {\"112\": 7, \"42\": 4, \"75\": 1, \"95\": 1, \"7\": 1, \"94\": 1, \"108\": 1}, \"103\": {\"103\": 14, \"99\": 1, \"49\": 1}, \"65\": {\"65\": 7, \"49\": 1, \"23\": 1, \"10\": 1, \"63\": 1, \"128\": 1}, \"118\": {\"115\": 1, \"64\": 1, \"16\": 7, \"127\": 1, \"88\": 5, \"11\": 3, \"123\": 3, \"69\": 2, \"118\": 32, \"78\": 1, \"63\": 2, \"26\": 6, \"39\": 4, \"102\": 7, \"113\": 4, \"109\": 5, \"117\": 4, \"93\": 3, \"20\": 1, \"70\": 1, \"82\": 1, \"122\": 1, \"62\": 2, \"90\": 1, \"10\": 1, \"43\": 1}, \"88\": {\"64\": 1, \"65\": 1, \"12\": 1, \"21\": 4, \"41\": 1, \"88\": 58, \"86\": 1, \"110\": 1, \"44\": 1, \"10\": 3, \"49\": 1, \"39\": 2, \"0\": 2, \"1\": 1, \"8\": 4, \"126\": 1, \"108\": 6, \"7\": 5, \"109\": 3, \"36\": 2, \"90\": 2, \"99\": 1, \"96\": 1, \"70\": 4, \"87\": 1, \"43\": 1, \"113\": 1, \"15\": 1, \"98\": 1}, \"85\": {\"85\": 29, \"34\": 1, \"124\": 1, \"19\": 2, \"95\": 1, \"128\": 2}, \"5\": {\"5\": 57, \"105\": 10, \"10\": 4, \"1\": 5, \"114\": 5, \"71\": 2, \"127\": 12, \"126\": 2, \"108\": 2, \"7\": 1, \"3\": 3, \"0\": 1, \"18\": 1, \"46\": 1, \"72\": 1, \"19\": 1, \"9\": 1, \"122\": 1, \"4\": 1, \"8\": 1}, \"93\": {\"93\": 80, \"50\": 1, \"120\": 1, \"116\": 1, \"16\": 10, \"113\": 4, \"92\": 1, \"2\": 2, \"102\": 5, \"33\": 7, \"70\": 1, \"84\": 2, \"109\": 6, \"88\": 3, \"11\": 3, \"27\": 1, \"90\": 4, \"43\": 1, \"100\": 1, \"118\": 3, \"62\": 1}, \"43\": {\"67\": 2, \"43\": 11, \"63\": 1, \"39\": 2, \"109\": 4, \"82\": 2, \"11\": 2, \"16\": 4, \"88\": 1, \"117\": 1, \"26\": 2, \"69\": 2, \"90\": 4, \"21\": 2, \"128\": 1, \"93\": 1, \"33\": 3, \"129\": 1, \"64\": 1, \"32\": 1, \"118\": 1, \"84\": 2, \"81\": 1, \"87\": 1, \"62\": 3}, \"67\": {\"67\": 14, \"89\": 1, \"43\": 1}, \"48\": {\"48\": 3, \"14\": 1, \"12\": 1, \"28\": 2, \"53\": 1, \"7\": 1, \"93\": 1, \"101\": 1, \"69\": 1, \"51\": 2, \"102\": 1, \"83\": 1}, \"73\": {\"73\": 20, \"58\": 1, \"101\": 1, \"92\": 1, \"0\": 1, \"30\": 5, \"125\": 2, \"94\": 3, \"36\": 1, \"34\": 1, \"111\": 1, \"8\": 1, \"106\": 1, \"90\": 1}, \"34\": {\"48\": 2, \"34\": 6, \"37\": 1, \"45\": 1, \"91\": 2, \"87\": 1, \"24\": 3, \"6\": 1, \"23\": 1, \"106\": 2, \"9\": 1, \"93\": 1, \"88\": 1, \"30\": 1, \"52\": 1, \"54\": 2, \"36\": 2, \"29\": 1, \"27\": 1, \"38\": 1}, \"91\": {\"73\": 1, \"10\": 1, \"91\": 9, \"68\": 1, \"49\": 1, \"101\": 1, \"3\": 1, \"39\": 1, \"8\": 1, \"35\": 1, \"111\": 1, \"0\": 2, \"98\": 1, \"72\": 1, \"71\": 1}, \"105\": {\"5\": 10, \"105\": 67, \"110\": 2, \"55\": 1, \"41\": 1, \"71\": 1, \"1\": 4, \"108\": 1, \"4\": 9, \"124\": 1, \"114\": 14, \"40\": 7, \"107\": 1, \"68\": 1, \"32\": 1, \"85\": 2, \"127\": 1}, \"10\": {\"5\": 1, \"91\": 1, \"10\": 49, \"7\": 7, \"72\": 1, \"85\": 2, \"128\": 1, \"77\": 1, \"108\": 14, \"111\": 1, \"122\": 2, \"8\": 8, \"88\": 4, \"3\": 2, \"12\": 2, \"30\": 1, \"70\": 1, \"90\": 2, \"65\": 1, \"0\": 1, \"24\": 1, \"101\": 1, \"4\": 1, \"39\": 1}, \"61\": {\"67\": 2, \"61\": 9, \"45\": 1, \"117\": 1, \"121\": 2, \"78\": 1}, \"74\": {\"74\": 14, \"19\": 1, \"40\": 1}, \"4\": {\"4\": 37, \"0\": 2, \"9\": 1, \"22\": 1, \"49\": 1, \"1\": 4, \"40\": 7, \"5\": 7, \"105\": 9, \"110\": 1, \"10\": 5, \"127\": 1, \"108\": 5, \"114\": 7, \"55\": 1, \"124\": 2, \"101\": 1, \"122\": 1, \"12\": 1, \"8\": 1, \"113\": 1}, \"37\": {\"51\": 1, \"37\": 14, \"27\": 1}, \"19\": {\"19\": 18, \"124\": 2, \"37\": 1, \"90\": 3, \"44\": 1, \"77\": 1, \"85\": 1, \"59\": 1, \"31\": 1, \"29\": 2, \"122\": 1}, \"44\": {\"44\": 61, \"53\": 1, \"19\": 2, \"22\": 1, \"90\": 2, \"122\": 1, \"29\": 1, \"128\": 1, \"86\": 1, \"110\": 1}, \"52\": {\"52\": 12, \"58\": 1, \"25\": 1, \"97\": 1, \"112\": 1}, \"92\": {\"92\": 26, \"31\": 1, \"128\": 1, \"80\": 1, \"120\": 2, \"96\": 1}, \"33\": {\"33\": 105, \"44\": 1, \"102\": 5, \"84\": 1, \"62\": 7, \"16\": 2, \"40\": 1, \"69\": 3, \"109\": 1, \"93\": 2}, \"45\": {\"90\": 1, \"33\": 1, \"102\": 1, \"45\": 8, \"16\": 1, \"69\": 2, \"22\": 1, \"82\": 1}, \"11\": {\"45\": 2, \"29\": 3, \"109\": 6, \"11\": 48, \"90\": 5, \"88\": 5, \"122\": 2, \"39\": 2, \"116\": 1, \"16\": 9, \"33\": 1, \"87\": 3, \"5\": 1, \"93\": 11, \"4\": 1, \"43\": 2, \"50\": 2, \"31\": 1, \"7\": 1, \"14\": 2, \"82\": 1, \"60\": 1, \"92\": 1, \"62\": 5, \"38\": 1, \"40\": 3, \"44\": 1, \"124\": 1, \"107\": 2, \"118\": 2, \"70\": 1, \"108\": 1}, \"129\": {\"10\": 1, \"129\": 11, \"53\": 2, \"9\": 2, \"19\": 3, \"122\": 1, \"87\": 2, \"84\": 2, \"103\": 1, \"114\": 4, \"108\": 1, \"71\": 1, \"105\": 1}, \"116\": {\"16\": 1, \"116\": 16, \"14\": 1, \"76\": 1, \"17\": 1, \"119\": 1, \"87\": 2, \"117\": 1, \"120\": 1, \"26\": 1, \"118\": 1, \"129\": 1}, \"75\": {\"25\": 2, \"75\": 10, \"6\": 1, \"125\": 2, \"15\": 1}, \"41\": {\"41\": 8, \"72\": 1, \"47\": 2, \"77\": 1, \"124\": 1, \"8\": 1, \"68\": 1, \"58\": 1}, \"21\": {\"21\": 38, \"43\": 2, \"39\": 2, \"69\": 1, \"126\": 3, \"108\": 1, \"94\": 1}, \"69\": {\"69\": 54, \"117\": 1, \"55\": 1, \"13\": 1, \"116\": 1, \"82\": 3, \"11\": 1, \"26\": 12, \"14\": 1, \"102\": 6, \"33\": 1, \"110\": 1, \"126\": 1}, \"16\": {\"16\": 49, \"127\": 1, \"98\": 1, \"11\": 3, \"43\": 2, \"86\": 1, \"109\": 7, \"62\": 3, \"87\": 1, \"33\": 6, \"118\": 4, \"101\": 1, \"93\": 4, \"84\": 5, \"107\": 3, \"102\": 3, \"96\": 1, \"32\": 1, \"90\": 2, \"57\": 1, \"126\": 1, \"14\": 6, \"117\": 1, \"3\": 1}, \"25\": {\"25\": 11, \"75\": 2, \"58\": 1, \"37\": 2}, \"12\": {\"12\": 54, \"111\": 8, \"30\": 5, \"98\": 4, \"5\": 2, \"0\": 6, \"73\": 1, \"94\": 1, \"70\": 1, \"8\": 2, \"127\": 4, \"106\": 1, \"7\": 1, \"10\": 2, \"46\": 1, \"103\": 1, \"71\": 1, \"59\": 1, \"72\": 2, \"56\": 1, \"83\": 1, \"108\": 2, \"88\": 1, \"105\": 1}, \"72\": {\"75\": 1, \"72\": 18, \"68\": 1, \"111\": 1, \"42\": 1, \"27\": 2, \"6\": 1, \"85\": 1, \"128\": 1, \"12\": 1}, \"0\": {\"0\": 64, \"30\": 7, \"85\": 1, \"49\": 1, \"98\": 7, \"12\": 2, \"111\": 5, \"8\": 5, \"10\": 6, \"7\": 5, \"108\": 6, \"65\": 1, \"72\": 2, \"126\": 1, \"83\": 2, \"106\": 1}, \"50\": {\"50\": 6, \"107\": 1, \"14\": 2, \"129\": 1, \"53\": 1, \"16\": 1, \"69\": 1, \"100\": 1, \"82\": 1, \"79\": 1}, \"107\": {\"50\": 1, \"107\": 90, \"82\": 1, \"129\": 3, \"84\": 11, \"14\": 3, \"1\": 2, \"40\": 15, \"29\": 1, \"33\": 6, \"4\": 3, \"62\": 1, \"69\": 1, \"16\": 1, \"93\": 1}, \"124\": {\"124\": 85, \"41\": 3, \"97\": 2, \"85\": 1, \"55\": 2, \"122\": 2, \"32\": 1, \"128\": 1, \"4\": 3, \"111\": 1, \"10\": 1, \"27\": 1, \"107\": 1, \"114\": 1, \"47\": 1, \"72\": 1, \"125\": 3, \"9\": 1, \"24\": 1, \"106\": 1, \"40\": 3, \"108\": 2, \"36\": 1, \"8\": 1, \"1\": 3, \"15\": 1}, \"53\": {\"53\": 9, \"56\": 1, \"71\": 2, \"100\": 1, \"85\": 1, \"19\": 1, \"117\": 1, \"34\": 1, \"48\": 2, \"11\": 1}, \"66\": {\"66\": 10, \"38\": 2, \"9\": 1, \"34\": 1, \"47\": 1, \"17\": 1}, \"47\": {\"47\": 8, \"112\": 1, \"124\": 2, \"99\": 1}, \"24\": {\"24\": 16, \"98\": 1, \"25\": 2, \"59\": 1, \"37\": 1, \"83\": 1, \"97\": 2, \"36\": 6, \"0\": 1, \"73\": 1, \"7\": 3, \"15\": 4, \"34\": 1, \"58\": 2, \"52\": 1, \"108\": 2, \"101\": 1, \"125\": 1, \"39\": 1}, \"95\": {\"3\": 1, \"71\": 1, \"39\": 1, \"34\": 1, \"95\": 25, \"5\": 1, \"29\": 1, \"103\": 1}, \"98\": {\"98\": 81, \"51\": 2, \"83\": 5, \"99\": 2, \"88\": 1, \"8\": 7, \"12\": 2, \"73\": 1, \"33\": 1, \"7\": 1, \"0\": 1, \"3\": 1, \"106\": 1}, \"63\": {\"63\": 12, \"123\": 2, \"2\": 1, \"78\": 1}, \"3\": {\"71\": 1, \"3\": 83, \"103\": 1, \"39\": 1, \"70\": 1, \"108\": 4, \"4\": 1, \"0\": 2, \"127\": 5, \"10\": 1, \"113\": 1, \"101\": 1, \"49\": 1, \"5\": 3, \"7\": 2, \"99\": 1, \"88\": 1, \"30\": 1, \"8\": 2, \"98\": 1, \"1\": 1, \"18\": 1}, \"14\": {\"50\": 2, \"14\": 50, \"82\": 1, \"32\": 1, \"40\": 1, \"43\": 1, \"62\": 5, \"109\": 2, \"11\": 2, \"108\": 1, \"93\": 1, \"84\": 4, \"9\": 1, \"13\": 1, \"33\": 3, \"129\": 1, \"70\": 1, \"16\": 1, \"118\": 1}, \"1\": {\"110\": 7, \"71\": 1, \"1\": 49, \"3\": 4, \"108\": 1, \"5\": 13, \"4\": 7, \"40\": 1, \"105\": 6, \"124\": 3, \"87\": 3, \"8\": 2, \"114\": 5, \"12\": 2, \"128\": 1, \"122\": 1, \"107\": 1, \"10\": 1}, \"38\": {\"38\": 10, \"74\": 1, \"32\": 1, \"45\": 1, \"68\": 1, \"107\": 1, \"84\": 1}, \"110\": {\"110\": 30, \"122\": 1, \"118\": 2, \"87\": 5, \"108\": 4, \"98\": 1, \"23\": 1, \"17\": 1, \"40\": 1, \"28\": 1, \"105\": 4, \"128\": 2, \"70\": 4, \"30\": 1, \"5\": 5, \"18\": 1, \"88\": 3, \"1\": 2, \"8\": 2, \"10\": 2, \"117\": 1, \"114\": 5, \"101\": 1, \"129\": 1, \"71\": 3, \"60\": 2, \"44\": 1, \"7\": 1, \"62\": 1, \"90\": 1, \"106\": 1, \"126\": 1}, \"17\": {\"11\": 1, \"110\": 1, \"39\": 1, \"129\": 1, \"19\": 1, \"95\": 1, \"71\": 1, \"1\": 1, \"119\": 1, \"111\": 1, \"40\": 1, \"127\": 1, \"79\": 1, \"112\": 1, \"4\": 1, \"120\": 1}, \"30\": {\"72\": 1, \"25\": 1, \"30\": 40, \"97\": 2, \"83\": 1, \"42\": 1, \"98\": 6, \"0\": 7, \"15\": 2, \"108\": 1, \"8\": 5, \"73\": 1, \"106\": 2, \"10\": 1, \"93\": 1, \"36\": 1, \"127\": 2, \"99\": 1, \"27\": 1, \"7\": 2, \"128\": 1, \"94\": 3, \"111\": 1}, \"56\": {\"56\": 8, \"97\": 1, \"112\": 1, \"60\": 1, \"125\": 1}, \"27\": {\"24\": 3, \"27\": 36, \"83\": 1, \"15\": 7, \"0\": 3, \"36\": 13, \"111\": 2, \"106\": 6, \"7\": 5, \"98\": 3, \"125\": 4, \"16\": 1, \"35\": 1, \"12\": 1, \"51\": 1, \"37\": 2, \"52\": 1, \"49\": 1, \"6\": 1, \"30\": 1, \"126\": 1, \"39\": 1, \"94\": 1}, \"104\": {\"129\": 4, \"104\": 7, \"107\": 1, \"9\": 1, \"41\": 1, \"100\": 1, \"57\": 1}, \"97\": {\"112\": 1, \"72\": 1, \"30\": 2, \"97\": 5, \"15\": 1, \"34\": 1, \"111\": 2, \"47\": 1, \"83\": 1, \"37\": 1, \"12\": 1, \"73\": 2, \"6\": 1}, \"42\": {\"42\": 6, \"56\": 1, \"25\": 1, \"125\": 2, \"95\": 1, \"97\": 1, \"19\": 1, \"108\": 3, \"49\": 2, \"27\": 2, \"112\": 2, \"58\": 1, \"34\": 1, \"0\": 2, \"36\": 1, \"7\": 1}, \"39\": {\"23\": 1, \"39\": 57, \"123\": 1, \"63\": 1, \"81\": 2, \"8\": 1, \"121\": 2, \"118\": 7, \"113\": 10, \"11\": 1, \"70\": 3, \"109\": 4, \"93\": 2, \"117\": 4, \"126\": 3, \"2\": 2, \"64\": 1, \"21\": 2, \"26\": 2, \"18\": 2}, \"70\": {\"23\": 2, \"70\": 14, \"63\": 1, \"31\": 1, \"110\": 1, \"5\": 1, \"0\": 4, \"88\": 11, \"7\": 1, \"10\": 4, \"8\": 8, \"98\": 2, \"90\": 4, \"4\": 1, \"108\": 6, \"3\": 2, \"49\": 1, \"120\": 1, \"83\": 1, \"87\": 1, \"100\": 1, \"126\": 1, \"12\": 1, \"127\": 1, \"105\": 1}, \"86\": {\"77\": 2, \"86\": 13, \"108\": 1, \"30\": 1, \"32\": 2, \"3\": 1, \"5\": 1, \"12\": 1, \"10\": 2, \"29\": 1, \"114\": 1, \"8\": 2}, \"119\": {\"119\": 13, \"43\": 1, \"13\": 1, \"100\": 1}, \"77\": {\"77\": 14, \"65\": 1, \"10\": 1}, \"59\": {\"59\": 7, \"12\": 2, \"98\": 1, \"8\": 1, \"51\": 1}, \"22\": {\"76\": 1, \"53\": 1, \"129\": 1, \"22\": 11, \"45\": 1, \"100\": 1}, \"79\": {\"79\": 10, \"11\": 1, \"17\": 1}, \"80\": {\"80\": 16}, \"111\": {\"111\": 85, \"112\": 1, \"125\": 1, \"77\": 1, \"85\": 2, \"12\": 4, \"0\": 5, \"30\": 7, \"127\": 1, \"91\": 3, \"8\": 5, \"106\": 2, \"108\": 2, \"15\": 2, \"7\": 1, \"114\": 1, \"37\": 2, \"94\": 3, \"73\": 4}, \"82\": {\"107\": 2, \"82\": 20, \"84\": 1, \"69\": 3, \"33\": 1, \"62\": 1}, \"126\": {\"121\": 3, \"126\": 71, \"113\": 6, \"78\": 1, \"39\": 9, \"93\": 2, \"21\": 8, \"117\": 3, \"70\": 1, \"18\": 9, \"62\": 1, \"118\": 3, \"88\": 3, \"26\": 3, \"109\": 1}, \"32\": {\"116\": 1, \"33\": 2, \"32\": 16, \"16\": 1, \"102\": 1, \"106\": 1, \"43\": 2, \"108\": 5, \"19\": 1, \"110\": 1, \"122\": 1}, \"106\": {\"106\": 62, \"109\": 1, \"0\": 1, \"94\": 2, \"15\": 12, \"24\": 1, \"30\": 2, \"111\": 5, \"36\": 5, \"8\": 1, \"27\": 4, \"12\": 3, \"18\": 1}, \"60\": {\"60\": 17, \"22\": 3, \"114\": 1, \"32\": 1, \"70\": 2, \"7\": 1, \"56\": 1, \"49\": 1, \"8\": 1}, \"114\": {\"114\": 62, \"4\": 3, \"127\": 2, \"105\": 11, \"5\": 7, \"3\": 1, \"88\": 1, \"8\": 2, \"0\": 1, \"124\": 2, \"56\": 1, \"20\": 1, \"1\": 5, \"95\": 1, \"9\": 1, \"86\": 1, \"40\": 2, \"71\": 1, \"87\": 1, \"107\": 1, \"39\": 1}}, \"C_3\": {\"14\": {\"29\": 1, \"14\": 16, \"24\": 4, \"43\": 4, \"31\": 1, \"4\": 1, \"23\": 1, \"10\": 1, \"19\": 1, \"56\": 2, \"28\": 2, \"44\": 2, \"40\": 1, \"5\": 1, \"11\": 1, \"9\": 1}, \"18\": {\"18\": 75, \"30\": 4, \"23\": 5}, \"30\": {\"30\": 118, \"18\": 1, \"6\": 1}, \"16\": {\"16\": 134, \"7\": 1, \"11\": 3, \"18\": 2, \"52\": 1, \"23\": 10, \"15\": 4, \"48\": 1}, \"1\": {\"1\": 77, \"7\": 1, \"9\": 1, \"5\": 2, \"47\": 5, \"57\": 12, \"34\": 1, \"43\": 1}, \"20\": {\"20\": 124, \"54\": 2, \"50\": 3, \"3\": 1, \"36\": 1, \"12\": 1}, \"7\": {\"7\": 34, \"34\": 1, \"0\": 1}, \"52\": {\"52\": 122, \"18\": 1, \"47\": 1, \"0\": 1, \"46\": 2, \"41\": 1, \"23\": 1, \"48\": 1}, \"9\": {\"9\": 130, \"3\": 1, \"21\": 1, \"25\": 1, \"54\": 1, \"2\": 1, \"29\": 1, \"46\": 1, \"17\": 2, \"53\": 1}, \"23\": {\"18\": 3, \"23\": 135, \"5\": 1, \"15\": 1, \"0\": 3, \"52\": 1}, \"55\": {\"55\": 145, \"3\": 1, \"42\": 1, \"31\": 1, \"5\": 9, \"46\": 1, \"50\": 1, \"6\": 2, \"48\": 1, \"47\": 1, \"1\": 1}, \"29\": {\"29\": 110, \"9\": 7, \"4\": 1, \"5\": 1, \"19\": 4, \"57\": 1, \"40\": 1, \"55\": 1}, \"56\": {\"56\": 126, \"24\": 1, \"13\": 1, \"22\": 5, \"43\": 1}, \"3\": {\"6\": 13, \"3\": 42, \"8\": 3, \"53\": 5, \"50\": 13, \"1\": 2, \"17\": 4, \"19\": 1, \"46\": 4, \"51\": 5, \"27\": 3, \"21\": 5, \"36\": 2, \"9\": 7, \"54\": 1, \"25\": 5, \"57\": 1, \"4\": 1, \"20\": 1, \"37\": 1, \"33\": 1, \"55\": 2, \"48\": 1, \"29\": 1}, \"42\": {\"6\": 1, \"42\": 18, \"48\": 2, \"1\": 2, \"34\": 2, \"47\": 3}, \"6\": {\"6\": 64, \"33\": 1, \"26\": 3, \"27\": 2, \"36\": 2, \"3\": 6, \"47\": 1, \"54\": 2, \"25\": 1, \"50\": 4, \"46\": 1, \"48\": 1}, \"5\": {\"5\": 84, \"31\": 2, \"39\": 1, \"55\": 1, \"28\": 2, \"34\": 1, \"47\": 6, \"3\": 1, \"0\": 2, \"57\": 6, \"1\": 7, \"6\": 1, \"46\": 1, \"23\": 1}, \"27\": {\"27\": 109, \"4\": 4, \"32\": 2, \"9\": 13, \"17\": 5, \"6\": 1, \"8\": 1, \"25\": 1, \"54\": 1, \"29\": 1, \"3\": 1, \"36\": 1, \"50\": 3, \"5\": 1}, \"47\": {\"46\": 5, \"47\": 56, \"39\": 1, \"34\": 3, \"41\": 1, \"6\": 4, \"57\": 6, \"9\": 1, \"48\": 6, \"23\": 2, \"55\": 3, \"1\": 3, \"44\": 1}, \"39\": {\"39\": 15, \"46\": 1}, \"34\": {\"34\": 30, \"48\": 1, \"23\": 1}, \"4\": {\"4\": 104, \"2\": 1, \"27\": 2, \"45\": 1, \"9\": 6, \"53\": 2, \"40\": 3, \"3\": 3, \"8\": 1, \"19\": 2, \"50\": 1}, \"24\": {\"24\": 101, \"14\": 1, \"10\": 2}, \"46\": {\"41\": 1, \"46\": 64, \"55\": 4, \"21\": 2, \"42\": 2, \"37\": 2, \"53\": 4, \"6\": 8, \"52\": 2, \"47\": 6, \"3\": 8, \"36\": 2, \"48\": 3, \"20\": 2, \"50\": 3, \"33\": 1, \"51\": 1, \"17\": 1, \"25\": 2}, \"50\": {\"46\": 2, \"50\": 67, \"53\": 9, \"54\": 3, \"36\": 10, \"48\": 2, \"3\": 6, \"6\": 10, \"20\": 1, \"30\": 1, \"8\": 5, \"27\": 2, \"25\": 5, \"12\": 1, \"2\": 1, \"17\": 1}, \"38\": {\"38\": 27, \"55\": 1}, \"54\": {\"54\": 100}, \"35\": {\"35\": 28}, \"2\": {\"2\": 31, \"50\": 1}, \"41\": {\"41\": 27, \"48\": 1}, \"57\": {\"57\": 110, \"1\": 4, \"47\": 2, \"55\": 1, \"3\": 1}, \"25\": {\"25\": 141, \"50\": 5, \"54\": 1, \"3\": 2, \"36\": 1}, \"48\": {\"48\": 106, \"17\": 2, \"30\": 1, \"1\": 1, \"46\": 1, \"39\": 1, \"5\": 1, \"6\": 2, \"50\": 1}, \"33\": {\"25\": 1, \"42\": 1, \"33\": 21, \"50\": 1, \"47\": 3, \"48\": 1}, \"45\": {\"33\": 1, \"45\": 40, \"50\": 4, \"4\": 4, \"54\": 2, \"21\": 1, \"12\": 2, \"42\": 1, \"53\": 2, \"36\": 1, \"27\": 1, \"19\": 1}, \"13\": {\"13\": 124, \"5\": 2}, \"36\": {\"36\": 97, \"17\": 1, \"27\": 2}, \"43\": {\"43\": 132}, \"28\": {\"14\": 1, \"28\": 20, \"31\": 2, \"55\": 1, \"47\": 1, \"48\": 1, \"9\": 2}, \"0\": {\"0\": 109, \"43\": 1, \"26\": 2, \"23\": 6, \"48\": 2, \"15\": 1, \"47\": 1, \"7\": 1, \"57\": 1}, \"12\": {\"12\": 86, \"2\": 1, \"8\": 1, \"38\": 1, \"36\": 3}, \"31\": {\"31\": 25, \"5\": 1, \"35\": 1, \"28\": 1}, \"40\": {\"40\": 89, \"4\": 6, \"45\": 1, \"19\": 12, \"50\": 1, \"54\": 1, \"55\": 1, \"29\": 1, \"44\": 4}, \"44\": {\"35\": 1, \"44\": 66, \"19\": 9, \"3\": 1, \"40\": 7, \"29\": 1, \"5\": 1, \"4\": 1, \"25\": 1}, \"32\": {\"32\": 28}, \"26\": {\"26\": 21, \"6\": 1, \"34\": 2}, \"8\": {\"8\": 112, \"54\": 1, \"36\": 1, \"50\": 2}, \"10\": {\"10\": 59, \"24\": 5}, \"15\": {\"15\": 132, \"5\": 1, \"48\": 1, \"55\": 2, \"43\": 1, \"11\": 2, \"16\": 3}, \"21\": {\"50\": 5, \"33\": 3, \"21\": 89, \"25\": 2, \"54\": 1, \"51\": 9, \"36\": 2, \"17\": 3, \"53\": 7, \"57\": 2, \"9\": 1, \"20\": 1, \"46\": 1, \"48\": 1, \"27\": 1}, \"37\": {\"37\": 26, \"3\": 2}, \"17\": {\"17\": 104, \"6\": 1, \"48\": 1, \"9\": 2}, \"51\": {\"51\": 104, \"25\": 1, \"3\": 1, \"53\": 12, \"9\": 2, \"21\": 1, \"2\": 1, \"20\": 1, \"50\": 1}, \"53\": {\"53\": 122, \"21\": 4, \"54\": 9, \"8\": 1, \"2\": 2, \"50\": 2, \"51\": 4}, \"19\": {\"19\": 118, \"9\": 2, \"25\": 1, \"46\": 1, \"29\": 3, \"40\": 5, \"55\": 1, \"27\": 1, \"50\": 1, \"4\": 2, \"44\": 1}, \"49\": {\"49\": 20}, \"11\": {\"11\": 121, \"52\": 2, \"15\": 7, \"16\": 4, \"43\": 3, \"24\": 1}, \"22\": {\"22\": 110, \"13\": 4, \"56\": 11, \"55\": 2, \"7\": 1, \"1\": 1, \"24\": 1}}}, \"per_domain_accuracy\": {\"O_8\": {\"accuracy\": 0.8713541666666667, \"source?\": true}, \"O_38\": {\"accuracy\": 0.8973958333333333, \"source?\": true}, \"O_26\": {\"accuracy\": 0.7177083333333333, \"source?\": true}, \"O_20\": {\"accuracy\": 0.8356770833333333, \"source?\": true}, \"O_50\": {\"accuracy\": 0.8815104166666666, \"source?\": true}, \"O_32\": {\"accuracy\": 0.8596354166666667, \"source?\": true}, \"O_44\": {\"accuracy\": 0.7484375, \"source?\": true}, \"O_14\": {\"accuracy\": 0.89375, \"source?\": true}, \"C_2\": {\"accuracy\": 0.8572443181818182, \"source?\": false}, \"W_2\": {\"accuracy\": 0.5605304621848739, \"source?\": false}, \"C_5\": {\"accuracy\": 0.8251404494382022, \"source?\": false}, \"C_1\": {\"accuracy\": 0.8671016483516484, \"source?\": false}, \"W_4\": {\"accuracy\": 0.5114454732510288, \"source?\": false}, \"C_4\": {\"accuracy\": 0.8512350299401198, \"source?\": false}, \"W_1\": {\"accuracy\": 0.5990691489361702, \"source?\": false}, \"W_3\": {\"accuracy\": 0.5719988986784141, \"source?\": false}, \"C_3\": {\"accuracy\": 0.8488669590643275, \"source?\": false}}}, \"history\": {\"epoch_indices\": [1, 2, 3, 4, 5, 6, 7, 8, 9], \"train_label_loss\": [0.9979713407699906, 0.7104973616289152, 0.5692068885268998, 0.4997579825210518, 0.4453643773327626, 0.41029965864727275, 0.3781979771245027, 0.3467912222361303, 0.3125709257168984], \"source_val_label_loss\": [1.0048681497573853, 0.6593697667121887, 0.5466007590293884, 0.46230918169021606, 0.4402664601802826, 0.43471843004226685, 0.41627413034439087, 0.38204485177993774, 0.3786013126373291], \"target_val_label_loss\": [4.772191047668457, 3.656393051147461, 3.8168132305145264, 3.8519721031188965, 3.750206470489502, 4.56978178024292, 4.484457492828369, 5.267043590545654, 5.425378322601318], \"source_val_acc_label\": [0.6536458333333334, 0.7568359375, 0.8013671875, 0.8292643229166666, 0.83818359375, 0.8414713541666666, 0.84716796875, 0.8598307291666667, 0.8619466145833333], \"target_val_acc_label\": [0.6507120253164557, 0.688239543203082, 0.682907952669235, 0.6775075674188222, 0.6996078701155751, 0.6860897083104017, 0.687035635663181, 0.6893230599889928, 0.6837334892680242]}, \"dataset_metrics\": {\"source\": {\"train\": {\"n_unique_x\": 179200, \"n_unique_y\": 16, \"n_batch/episode\": 6720}, \"val\": {\"n_unique_x\": 38400, \"n_unique_y\": 16, \"n_batch/episode\": 960}, \"test\": {\"n_unique_x\": 38400, \"n_unique_y\": 16, \"n_batch/episode\": 960}}, \"target\": {\"train\": {\"n_unique_x\": 364101, \"n_unique_y\": 130, \"n_batch/episode\": 13150}, \"val\": {\"n_unique_x\": 77154, \"n_unique_y\": 130, \"n_batch/episode\": 1817}, \"test\": {\"n_unique_x\": 78411, \"n_unique_y\": 130, \"n_batch/episode\": 1853}}}}'"
      ]
     },
     "execution_count": 29,
     "metadata": {},
     "output_type": "execute_result"
    }
   ],
   "source": [
    "json.dumps(experiment)"
   ]
  }
 ],
 "metadata": {
  "celltoolbar": "Tags",
  "kernelspec": {
   "display_name": "Python 3 (ipykernel)",
   "language": "python",
   "name": "python3"
  },
  "language_info": {
   "codemirror_mode": {
    "name": "ipython",
    "version": 3
   },
   "file_extension": ".py",
   "mimetype": "text/x-python",
   "name": "python",
   "nbconvert_exporter": "python",
   "pygments_lexer": "ipython3",
   "version": "3.8.10"
  },
  "papermill": {
   "default_parameters": {},
   "duration": 1727.556666,
   "end_time": "2022-03-21T00:50:50.135341",
   "environment_variables": {},
   "exception": null,
   "input_path": "/mnt/wd500GB/CSC500/csc500-main/csc500-notebooks/templates/tl_ptn_template.ipynb",
   "output_path": "trial.ipynb",
   "parameters": {
    "parameters": {
     "BEST_MODEL_PATH": "./best_model.pth",
     "NUM_LOGS_PER_EPOCH": 10,
     "criteria_for_best": "target_accuracy",
     "dataset_seed": 154325,
     "datasets": [
      {
       "domain_prefix": "C_",
       "domains": [
        1,
        2,
        3,
        4,
        5
       ],
       "episode_transforms": [],
       "labels": [
        "1-10.",
        "1-11.",
        "1-15.",
        "1-16.",
        "1-17.",
        "1-18.",
        "1-19.",
        "10-4.",
        "10-7.",
        "11-1.",
        "11-14.",
        "11-17.",
        "11-20.",
        "11-7.",
        "13-20.",
        "13-8.",
        "14-10.",
        "14-11.",
        "14-14.",
        "14-7.",
        "15-1.",
        "15-20.",
        "16-1.",
        "16-16.",
        "17-10.",
        "17-11.",
        "17-2.",
        "19-1.",
        "19-16.",
        "19-19.",
        "19-20.",
        "19-3.",
        "2-10.",
        "2-11.",
        "2-17.",
        "2-18.",
        "2-20.",
        "2-3.",
        "2-4.",
        "2-5.",
        "2-6.",
        "2-7.",
        "2-8.",
        "3-13.",
        "3-18.",
        "3-3.",
        "4-1.",
        "4-10.",
        "4-11.",
        "4-19.",
        "5-5.",
        "6-15.",
        "7-10.",
        "7-14.",
        "8-18.",
        "8-20.",
        "8-3.",
        "8-8."
       ],
       "num_examples_per_domain_per_label": -1,
       "pickle_path": "/mnt/wd500GB/CSC500/csc500-main/datasets/cores.stratified_ds.2022A.pkl",
       "source_or_target_dataset": "target",
       "x_transforms": [
        "unit_power",
        "take_200"
       ]
      },
      {
       "domain_prefix": "W_",
       "domains": [
        1,
        2,
        3,
        4
       ],
       "episode_transforms": [],
       "labels": [
        "1-10",
        "1-12",
        "1-14",
        "1-16",
        "1-18",
        "1-19",
        "1-8",
        "10-11",
        "10-17",
        "10-4",
        "10-7",
        "11-1",
        "11-10",
        "11-19",
        "11-20",
        "11-4",
        "11-7",
        "12-19",
        "12-20",
        "12-7",
        "13-14",
        "13-18",
        "13-19",
        "13-20",
        "13-3",
        "13-7",
        "14-10",
        "14-11",
        "14-12",
        "14-13",
        "14-14",
        "14-19",
        "14-20",
        "14-7",
        "14-8",
        "14-9",
        "15-1",
        "15-19",
        "15-6",
        "16-1",
        "16-16",
        "16-19",
        "16-20",
        "17-10",
        "17-11",
        "18-1",
        "18-10",
        "18-11",
        "18-12",
        "18-13",
        "18-14",
        "18-15",
        "18-16",
        "18-17",
        "18-19",
        "18-2",
        "18-20",
        "18-4",
        "18-5",
        "18-7",
        "18-8",
        "18-9",
        "19-1",
        "19-10",
        "19-11",
        "19-12",
        "19-13",
        "19-14",
        "19-15",
        "19-19",
        "19-2",
        "19-20",
        "19-3",
        "19-4",
        "19-6",
        "19-7",
        "19-8",
        "19-9",
        "2-1",
        "2-13",
        "2-15",
        "2-3",
        "2-4",
        "2-5",
        "2-6",
        "2-7",
        "2-8",
        "20-1",
        "20-12",
        "20-14",
        "20-15",
        "20-16",
        "20-18",
        "20-19",
        "20-20",
        "20-3",
        "20-4",
        "20-5",
        "20-7",
        "20-8",
        "3-1",
        "3-13",
        "3-18",
        "3-2",
        "3-8",
        "4-1",
        "4-10",
        "4-11",
        "5-1",
        "5-5",
        "6-1",
        "6-15",
        "6-6",
        "7-10",
        "7-11",
        "7-12",
        "7-13",
        "7-14",
        "7-7",
        "7-8",
        "7-9",
        "8-1",
        "8-13",
        "8-14",
        "8-18",
        "8-20",
        "8-3",
        "8-8",
        "9-1",
        "9-7"
       ],
       "num_examples_per_domain_per_label": -1,
       "pickle_path": "/mnt/wd500GB/CSC500/csc500-main/datasets/wisig.node3-19.stratified_ds.2022A.pkl",
       "source_or_target_dataset": "target",
       "x_transforms": [
        "unit_power",
        "take_200"
       ]
      },
      {
       "domain_prefix": "O_",
       "domains": [
        32,
        38,
        8,
        44,
        14,
        50,
        20,
        26
       ],
       "episode_transforms": [],
       "labels": [
        "3123D52",
        "3123D65",
        "3123D79",
        "3123D80",
        "3123D54",
        "3123D70",
        "3123D7B",
        "3123D89",
        "3123D58",
        "3123D76",
        "3123D7D",
        "3123EFE",
        "3123D64",
        "3123D78",
        "3123D7E",
        "3124E4A"
       ],
       "num_examples_per_domain_per_label": 2000,
       "pickle_path": "/mnt/wd500GB/CSC500/csc500-main/datasets/oracle.Run1_framed_2000Examples_stratified_ds.2022A.pkl",
       "source_or_target_dataset": "source",
       "x_transforms": [
        "unit_power",
        "take_200",
        "resample_20Msps_to_25Msps"
       ]
      }
     ],
     "device": "cuda",
     "experiment_name": "tl_3Av2:oracle.run1.framed -> cores+wisig",
     "lr": 0.0001,
     "n_epoch": 50,
     "n_query": 2,
     "n_shot": 3,
     "n_way": 16,
     "patience": 3,
     "seed": 154325,
     "test_k_factor": 2,
     "torch_default_dtype": "torch.float32",
     "train_k_factor": 3,
     "val_k_factor": 2,
     "x_net": [
      {
       "class": "nnReshape",
       "kargs": {
        "shape": [
         -1,
         1,
         2,
         200
        ]
       }
      },
      {
       "class": "Conv2d",
       "kargs": {
        "bias": false,
        "in_channels": 1,
        "kernel_size": [
         1,
         7
        ],
        "out_channels": 256,
        "padding": [
         0,
         3
        ]
       }
      },
      {
       "class": "ReLU",
       "kargs": {
        "inplace": true
       }
      },
      {
       "class": "BatchNorm2d",
       "kargs": {
        "num_features": 256
       }
      },
      {
       "class": "Conv2d",
       "kargs": {
        "bias": true,
        "in_channels": 256,
        "kernel_size": [
         2,
         7
        ],
        "out_channels": 80,
        "padding": [
         0,
         3
        ]
       }
      },
      {
       "class": "ReLU",
       "kargs": {
        "inplace": true
       }
      },
      {
       "class": "BatchNorm2d",
       "kargs": {
        "num_features": 80
       }
      },
      {
       "class": "Flatten",
       "kargs": {}
      },
      {
       "class": "Linear",
       "kargs": {
        "in_features": 16000,
        "out_features": 256
       }
      },
      {
       "class": "ReLU",
       "kargs": {
        "inplace": true
       }
      },
      {
       "class": "BatchNorm1d",
       "kargs": {
        "num_features": 256
       }
      },
      {
       "class": "Linear",
       "kargs": {
        "in_features": 256,
        "out_features": 256
       }
      }
     ],
     "x_shape": [
      2,
      200
     ]
    }
   },
   "start_time": "2022-03-21T00:22:02.578675",
   "version": "2.3.4"
  }
 },
 "nbformat": 4,
 "nbformat_minor": 5
}