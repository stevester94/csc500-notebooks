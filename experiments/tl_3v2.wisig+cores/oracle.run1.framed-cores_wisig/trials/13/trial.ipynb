{
 "cells": [
  {
   "cell_type": "markdown",
   "id": "9fea5f46",
   "metadata": {
    "papermill": {
     "duration": 0.015064,
     "end_time": "2022-03-21T03:24:32.750350",
     "exception": false,
     "start_time": "2022-03-21T03:24:32.735286",
     "status": "completed"
    },
    "tags": []
   },
   "source": [
    "# Transfer Learning Template"
   ]
  },
  {
   "cell_type": "code",
   "execution_count": 1,
   "id": "0902182a",
   "metadata": {
    "execution": {
     "iopub.execute_input": "2022-03-21T03:24:32.785969Z",
     "iopub.status.busy": "2022-03-21T03:24:32.785589Z",
     "iopub.status.idle": "2022-03-21T03:24:33.703659Z",
     "shell.execute_reply": "2022-03-21T03:24:33.704043Z"
    },
    "papermill": {
     "duration": 0.94107,
     "end_time": "2022-03-21T03:24:33.704234",
     "exception": false,
     "start_time": "2022-03-21T03:24:32.763164",
     "status": "completed"
    },
    "tags": []
   },
   "outputs": [],
   "source": [
    "%load_ext autoreload\n",
    "%autoreload 2\n",
    "%matplotlib inline\n",
    "\n",
    "    \n",
    "import os, json, sys, time, random\n",
    "import numpy as np\n",
    "import torch\n",
    "from torch.optim import Adam\n",
    "from  easydict import EasyDict\n",
    "import matplotlib.pyplot as plt\n",
    "\n",
    "from steves_models.steves_ptn import Steves_Prototypical_Network\n",
    "\n",
    "from steves_utils.lazy_iterable_wrapper import Lazy_Iterable_Wrapper\n",
    "from steves_utils.iterable_aggregator import Iterable_Aggregator\n",
    "from steves_utils.ptn_train_eval_test_jig import  PTN_Train_Eval_Test_Jig\n",
    "from steves_utils.torch_sequential_builder import build_sequential\n",
    "from steves_utils.torch_utils import get_dataset_metrics, ptn_confusion_by_domain_over_dataloader\n",
    "from steves_utils.utils_v2 import (per_domain_accuracy_from_confusion, get_datasets_base_path)\n",
    "from steves_utils.PTN.utils import independent_accuracy_assesment\n",
    "\n",
    "from torch.utils.data import DataLoader\n",
    "\n",
    "from steves_utils.stratified_dataset.episodic_accessor import Episodic_Accessor_Factory\n",
    "\n",
    "from steves_utils.ptn_do_report import (\n",
    "    get_loss_curve,\n",
    "    get_results_table,\n",
    "    get_parameters_table,\n",
    "    get_domain_accuracies,\n",
    ")\n",
    "\n",
    "from steves_utils.transforms import get_chained_transform"
   ]
  },
  {
   "cell_type": "markdown",
   "id": "41c840b4",
   "metadata": {
    "papermill": {
     "duration": 0.01297,
     "end_time": "2022-03-21T03:24:33.733680",
     "exception": false,
     "start_time": "2022-03-21T03:24:33.720710",
     "status": "completed"
    },
    "tags": []
   },
   "source": [
    "# Allowed Parameters\n",
    "These are allowed parameters, not defaults\n",
    "Each of these values need to be present in the injected parameters (the notebook will raise an exception if they are not present)\n",
    "\n",
    "Papermill uses the cell tag \"parameters\" to inject the real parameters below this cell.\n",
    "Enable tags to see what I mean"
   ]
  },
  {
   "cell_type": "code",
   "execution_count": 2,
   "id": "fd44eb83",
   "metadata": {
    "execution": {
     "iopub.execute_input": "2022-03-21T03:24:33.766797Z",
     "iopub.status.busy": "2022-03-21T03:24:33.766485Z",
     "iopub.status.idle": "2022-03-21T03:24:33.781181Z",
     "shell.execute_reply": "2022-03-21T03:24:33.781598Z"
    },
    "papermill": {
     "duration": 0.032646,
     "end_time": "2022-03-21T03:24:33.781716",
     "exception": false,
     "start_time": "2022-03-21T03:24:33.749070",
     "status": "completed"
    },
    "tags": []
   },
   "outputs": [],
   "source": [
    "required_parameters = {\n",
    "    \"experiment_name\",\n",
    "    \"lr\",\n",
    "    \"device\",\n",
    "    \"seed\",\n",
    "    \"dataset_seed\",\n",
    "    \"n_shot\",\n",
    "    \"n_query\",\n",
    "    \"n_way\",\n",
    "    \"train_k_factor\",\n",
    "    \"val_k_factor\",\n",
    "    \"test_k_factor\",\n",
    "    \"n_epoch\",\n",
    "    \"patience\",\n",
    "    \"criteria_for_best\",\n",
    "    \"x_net\",\n",
    "    \"datasets\",\n",
    "    \"torch_default_dtype\",\n",
    "    \"NUM_LOGS_PER_EPOCH\",\n",
    "    \"BEST_MODEL_PATH\",\n",
    "    \"x_shape\",\n",
    "}"
   ]
  },
  {
   "cell_type": "code",
   "execution_count": 3,
   "id": "fa3f0049",
   "metadata": {
    "execution": {
     "iopub.execute_input": "2022-03-21T03:24:33.817686Z",
     "iopub.status.busy": "2022-03-21T03:24:33.817374Z",
     "iopub.status.idle": "2022-03-21T03:24:33.830168Z",
     "shell.execute_reply": "2022-03-21T03:24:33.830539Z"
    },
    "papermill": {
     "duration": 0.032099,
     "end_time": "2022-03-21T03:24:33.830648",
     "exception": false,
     "start_time": "2022-03-21T03:24:33.798549",
     "status": "completed"
    },
    "tags": [
     "parameters"
    ]
   },
   "outputs": [],
   "source": [
    "from steves_utils.CORES.utils import (\n",
    "    ALL_NODES,\n",
    "    ALL_NODES_MINIMUM_1000_EXAMPLES,\n",
    "    ALL_DAYS\n",
    ")\n",
    "\n",
    "from steves_utils.ORACLE.utils_v2 import (\n",
    "    ALL_DISTANCES_FEET_NARROWED,\n",
    "    ALL_RUNS,\n",
    "    ALL_SERIAL_NUMBERS,\n",
    ")\n",
    "\n",
    "standalone_parameters = {}\n",
    "standalone_parameters[\"experiment_name\"] = \"STANDALONE PTN\"\n",
    "standalone_parameters[\"lr\"] = 0.001\n",
    "standalone_parameters[\"device\"] = \"cuda\"\n",
    "\n",
    "standalone_parameters[\"seed\"] = 1337\n",
    "standalone_parameters[\"dataset_seed\"] = 1337\n",
    "\n",
    "standalone_parameters[\"n_way\"] = 8\n",
    "standalone_parameters[\"n_shot\"] = 3\n",
    "standalone_parameters[\"n_query\"]  = 2\n",
    "standalone_parameters[\"train_k_factor\"] = 1\n",
    "standalone_parameters[\"val_k_factor\"] = 2\n",
    "standalone_parameters[\"test_k_factor\"] = 2\n",
    "\n",
    "\n",
    "standalone_parameters[\"n_epoch\"] = 50\n",
    "\n",
    "standalone_parameters[\"patience\"] = 10\n",
    "standalone_parameters[\"criteria_for_best\"] = \"source_loss\"\n",
    "\n",
    "standalone_parameters[\"datasets\"] = [\n",
    "    {\n",
    "        \"labels\": ALL_SERIAL_NUMBERS,\n",
    "        \"domains\": ALL_DISTANCES_FEET_NARROWED,\n",
    "        \"num_examples_per_domain_per_label\": 100,\n",
    "        \"pickle_path\": os.path.join(get_datasets_base_path(), \"oracle.Run1_framed_2000Examples_stratified_ds.2022A.pkl\"),\n",
    "        \"source_or_target_dataset\": \"source\",\n",
    "        \"x_transforms\": [\"unit_mag\", \"minus_two\"],\n",
    "        \"episode_transforms\": [],\n",
    "        \"domain_prefix\": \"ORACLE_\"\n",
    "    },\n",
    "    {\n",
    "        \"labels\": ALL_NODES,\n",
    "        \"domains\": ALL_DAYS,\n",
    "        \"num_examples_per_domain_per_label\": 100,\n",
    "        \"pickle_path\": os.path.join(get_datasets_base_path(), \"cores.stratified_ds.2022A.pkl\"),\n",
    "        \"source_or_target_dataset\": \"target\",\n",
    "        \"x_transforms\": [\"unit_power\", \"times_zero\"],\n",
    "        \"episode_transforms\": [],\n",
    "        \"domain_prefix\": \"CORES_\"\n",
    "    }   \n",
    "]\n",
    "\n",
    "standalone_parameters[\"torch_default_dtype\"] = \"torch.float32\" \n",
    "\n",
    "\n",
    "\n",
    "standalone_parameters[\"x_net\"] =     [\n",
    "    {\"class\": \"nnReshape\", \"kargs\": {\"shape\":[-1, 1, 2, 256]}},\n",
    "    {\"class\": \"Conv2d\", \"kargs\": { \"in_channels\":1, \"out_channels\":256, \"kernel_size\":(1,7), \"bias\":False, \"padding\":(0,3), },},\n",
    "    {\"class\": \"ReLU\", \"kargs\": {\"inplace\": True}},\n",
    "    {\"class\": \"BatchNorm2d\", \"kargs\": {\"num_features\":256}},\n",
    "\n",
    "    {\"class\": \"Conv2d\", \"kargs\": { \"in_channels\":256, \"out_channels\":80, \"kernel_size\":(2,7), \"bias\":True, \"padding\":(0,3), },},\n",
    "    {\"class\": \"ReLU\", \"kargs\": {\"inplace\": True}},\n",
    "    {\"class\": \"BatchNorm2d\", \"kargs\": {\"num_features\":80}},\n",
    "    {\"class\": \"Flatten\", \"kargs\": {}},\n",
    "\n",
    "    {\"class\": \"Linear\", \"kargs\": {\"in_features\": 80*256, \"out_features\": 256}}, # 80 units per IQ pair\n",
    "    {\"class\": \"ReLU\", \"kargs\": {\"inplace\": True}},\n",
    "    {\"class\": \"BatchNorm1d\", \"kargs\": {\"num_features\":256}},\n",
    "\n",
    "    {\"class\": \"Linear\", \"kargs\": {\"in_features\": 256, \"out_features\": 256}},\n",
    "]\n",
    "\n",
    "# Parameters relevant to results\n",
    "# These parameters will basically never need to change\n",
    "standalone_parameters[\"NUM_LOGS_PER_EPOCH\"] = 10\n",
    "standalone_parameters[\"BEST_MODEL_PATH\"] = \"./best_model.pth\"\n",
    "\n",
    "\n",
    "\n",
    "\n"
   ]
  },
  {
   "cell_type": "code",
   "execution_count": 4,
   "id": "23ad37ca",
   "metadata": {
    "execution": {
     "iopub.execute_input": "2022-03-21T03:24:33.874810Z",
     "iopub.status.busy": "2022-03-21T03:24:33.873154Z",
     "iopub.status.idle": "2022-03-21T03:24:33.888277Z",
     "shell.execute_reply": "2022-03-21T03:24:33.887821Z"
    },
    "papermill": {
     "duration": 0.040848,
     "end_time": "2022-03-21T03:24:33.888484",
     "exception": false,
     "start_time": "2022-03-21T03:24:33.847636",
     "status": "completed"
    },
    "tags": [
     "injected-parameters"
    ]
   },
   "outputs": [],
   "source": [
    "# Parameters\n",
    "parameters = {\n",
    "    \"experiment_name\": \"tl_3Av2:oracle.run1.framed -> cores+wisig\",\n",
    "    \"device\": \"cuda\",\n",
    "    \"lr\": 0.0001,\n",
    "    \"x_shape\": [2, 200],\n",
    "    \"n_shot\": 3,\n",
    "    \"n_query\": 2,\n",
    "    \"train_k_factor\": 3,\n",
    "    \"val_k_factor\": 2,\n",
    "    \"test_k_factor\": 2,\n",
    "    \"torch_default_dtype\": \"torch.float32\",\n",
    "    \"n_epoch\": 50,\n",
    "    \"patience\": 3,\n",
    "    \"criteria_for_best\": \"target_accuracy\",\n",
    "    \"x_net\": [\n",
    "        {\"class\": \"nnReshape\", \"kargs\": {\"shape\": [-1, 1, 2, 200]}},\n",
    "        {\n",
    "            \"class\": \"Conv2d\",\n",
    "            \"kargs\": {\n",
    "                \"in_channels\": 1,\n",
    "                \"out_channels\": 256,\n",
    "                \"kernel_size\": [1, 7],\n",
    "                \"bias\": False,\n",
    "                \"padding\": [0, 3],\n",
    "            },\n",
    "        },\n",
    "        {\"class\": \"ReLU\", \"kargs\": {\"inplace\": True}},\n",
    "        {\"class\": \"BatchNorm2d\", \"kargs\": {\"num_features\": 256}},\n",
    "        {\n",
    "            \"class\": \"Conv2d\",\n",
    "            \"kargs\": {\n",
    "                \"in_channels\": 256,\n",
    "                \"out_channels\": 80,\n",
    "                \"kernel_size\": [2, 7],\n",
    "                \"bias\": True,\n",
    "                \"padding\": [0, 3],\n",
    "            },\n",
    "        },\n",
    "        {\"class\": \"ReLU\", \"kargs\": {\"inplace\": True}},\n",
    "        {\"class\": \"BatchNorm2d\", \"kargs\": {\"num_features\": 80}},\n",
    "        {\"class\": \"Flatten\", \"kargs\": {}},\n",
    "        {\"class\": \"Linear\", \"kargs\": {\"in_features\": 16000, \"out_features\": 256}},\n",
    "        {\"class\": \"ReLU\", \"kargs\": {\"inplace\": True}},\n",
    "        {\"class\": \"BatchNorm1d\", \"kargs\": {\"num_features\": 256}},\n",
    "        {\"class\": \"Linear\", \"kargs\": {\"in_features\": 256, \"out_features\": 256}},\n",
    "    ],\n",
    "    \"NUM_LOGS_PER_EPOCH\": 10,\n",
    "    \"BEST_MODEL_PATH\": \"./best_model.pth\",\n",
    "    \"n_way\": 16,\n",
    "    \"datasets\": [\n",
    "        {\n",
    "            \"labels\": [\n",
    "                \"1-10.\",\n",
    "                \"1-11.\",\n",
    "                \"1-15.\",\n",
    "                \"1-16.\",\n",
    "                \"1-17.\",\n",
    "                \"1-18.\",\n",
    "                \"1-19.\",\n",
    "                \"10-4.\",\n",
    "                \"10-7.\",\n",
    "                \"11-1.\",\n",
    "                \"11-14.\",\n",
    "                \"11-17.\",\n",
    "                \"11-20.\",\n",
    "                \"11-7.\",\n",
    "                \"13-20.\",\n",
    "                \"13-8.\",\n",
    "                \"14-10.\",\n",
    "                \"14-11.\",\n",
    "                \"14-14.\",\n",
    "                \"14-7.\",\n",
    "                \"15-1.\",\n",
    "                \"15-20.\",\n",
    "                \"16-1.\",\n",
    "                \"16-16.\",\n",
    "                \"17-10.\",\n",
    "                \"17-11.\",\n",
    "                \"17-2.\",\n",
    "                \"19-1.\",\n",
    "                \"19-16.\",\n",
    "                \"19-19.\",\n",
    "                \"19-20.\",\n",
    "                \"19-3.\",\n",
    "                \"2-10.\",\n",
    "                \"2-11.\",\n",
    "                \"2-17.\",\n",
    "                \"2-18.\",\n",
    "                \"2-20.\",\n",
    "                \"2-3.\",\n",
    "                \"2-4.\",\n",
    "                \"2-5.\",\n",
    "                \"2-6.\",\n",
    "                \"2-7.\",\n",
    "                \"2-8.\",\n",
    "                \"3-13.\",\n",
    "                \"3-18.\",\n",
    "                \"3-3.\",\n",
    "                \"4-1.\",\n",
    "                \"4-10.\",\n",
    "                \"4-11.\",\n",
    "                \"4-19.\",\n",
    "                \"5-5.\",\n",
    "                \"6-15.\",\n",
    "                \"7-10.\",\n",
    "                \"7-14.\",\n",
    "                \"8-18.\",\n",
    "                \"8-20.\",\n",
    "                \"8-3.\",\n",
    "                \"8-8.\",\n",
    "            ],\n",
    "            \"domains\": [1, 2, 3, 4, 5],\n",
    "            \"num_examples_per_domain_per_label\": -1,\n",
    "            \"pickle_path\": \"/mnt/wd500GB/CSC500/csc500-main/datasets/cores.stratified_ds.2022A.pkl\",\n",
    "            \"source_or_target_dataset\": \"target\",\n",
    "            \"x_transforms\": [\"unit_mag\", \"take_200\"],\n",
    "            \"episode_transforms\": [],\n",
    "            \"domain_prefix\": \"C_\",\n",
    "        },\n",
    "        {\n",
    "            \"labels\": [\n",
    "                \"1-10\",\n",
    "                \"1-12\",\n",
    "                \"1-14\",\n",
    "                \"1-16\",\n",
    "                \"1-18\",\n",
    "                \"1-19\",\n",
    "                \"1-8\",\n",
    "                \"10-11\",\n",
    "                \"10-17\",\n",
    "                \"10-4\",\n",
    "                \"10-7\",\n",
    "                \"11-1\",\n",
    "                \"11-10\",\n",
    "                \"11-19\",\n",
    "                \"11-20\",\n",
    "                \"11-4\",\n",
    "                \"11-7\",\n",
    "                \"12-19\",\n",
    "                \"12-20\",\n",
    "                \"12-7\",\n",
    "                \"13-14\",\n",
    "                \"13-18\",\n",
    "                \"13-19\",\n",
    "                \"13-20\",\n",
    "                \"13-3\",\n",
    "                \"13-7\",\n",
    "                \"14-10\",\n",
    "                \"14-11\",\n",
    "                \"14-12\",\n",
    "                \"14-13\",\n",
    "                \"14-14\",\n",
    "                \"14-19\",\n",
    "                \"14-20\",\n",
    "                \"14-7\",\n",
    "                \"14-8\",\n",
    "                \"14-9\",\n",
    "                \"15-1\",\n",
    "                \"15-19\",\n",
    "                \"15-6\",\n",
    "                \"16-1\",\n",
    "                \"16-16\",\n",
    "                \"16-19\",\n",
    "                \"16-20\",\n",
    "                \"17-10\",\n",
    "                \"17-11\",\n",
    "                \"18-1\",\n",
    "                \"18-10\",\n",
    "                \"18-11\",\n",
    "                \"18-12\",\n",
    "                \"18-13\",\n",
    "                \"18-14\",\n",
    "                \"18-15\",\n",
    "                \"18-16\",\n",
    "                \"18-17\",\n",
    "                \"18-19\",\n",
    "                \"18-2\",\n",
    "                \"18-20\",\n",
    "                \"18-4\",\n",
    "                \"18-5\",\n",
    "                \"18-7\",\n",
    "                \"18-8\",\n",
    "                \"18-9\",\n",
    "                \"19-1\",\n",
    "                \"19-10\",\n",
    "                \"19-11\",\n",
    "                \"19-12\",\n",
    "                \"19-13\",\n",
    "                \"19-14\",\n",
    "                \"19-15\",\n",
    "                \"19-19\",\n",
    "                \"19-2\",\n",
    "                \"19-20\",\n",
    "                \"19-3\",\n",
    "                \"19-4\",\n",
    "                \"19-6\",\n",
    "                \"19-7\",\n",
    "                \"19-8\",\n",
    "                \"19-9\",\n",
    "                \"2-1\",\n",
    "                \"2-13\",\n",
    "                \"2-15\",\n",
    "                \"2-3\",\n",
    "                \"2-4\",\n",
    "                \"2-5\",\n",
    "                \"2-6\",\n",
    "                \"2-7\",\n",
    "                \"2-8\",\n",
    "                \"20-1\",\n",
    "                \"20-12\",\n",
    "                \"20-14\",\n",
    "                \"20-15\",\n",
    "                \"20-16\",\n",
    "                \"20-18\",\n",
    "                \"20-19\",\n",
    "                \"20-20\",\n",
    "                \"20-3\",\n",
    "                \"20-4\",\n",
    "                \"20-5\",\n",
    "                \"20-7\",\n",
    "                \"20-8\",\n",
    "                \"3-1\",\n",
    "                \"3-13\",\n",
    "                \"3-18\",\n",
    "                \"3-2\",\n",
    "                \"3-8\",\n",
    "                \"4-1\",\n",
    "                \"4-10\",\n",
    "                \"4-11\",\n",
    "                \"5-1\",\n",
    "                \"5-5\",\n",
    "                \"6-1\",\n",
    "                \"6-15\",\n",
    "                \"6-6\",\n",
    "                \"7-10\",\n",
    "                \"7-11\",\n",
    "                \"7-12\",\n",
    "                \"7-13\",\n",
    "                \"7-14\",\n",
    "                \"7-7\",\n",
    "                \"7-8\",\n",
    "                \"7-9\",\n",
    "                \"8-1\",\n",
    "                \"8-13\",\n",
    "                \"8-14\",\n",
    "                \"8-18\",\n",
    "                \"8-20\",\n",
    "                \"8-3\",\n",
    "                \"8-8\",\n",
    "                \"9-1\",\n",
    "                \"9-7\",\n",
    "            ],\n",
    "            \"domains\": [1, 2, 3, 4],\n",
    "            \"num_examples_per_domain_per_label\": -1,\n",
    "            \"pickle_path\": \"/mnt/wd500GB/CSC500/csc500-main/datasets/wisig.node3-19.stratified_ds.2022A.pkl\",\n",
    "            \"source_or_target_dataset\": \"target\",\n",
    "            \"x_transforms\": [\"unit_mag\", \"take_200\"],\n",
    "            \"episode_transforms\": [],\n",
    "            \"domain_prefix\": \"W_\",\n",
    "        },\n",
    "        {\n",
    "            \"labels\": [\n",
    "                \"3123D52\",\n",
    "                \"3123D65\",\n",
    "                \"3123D79\",\n",
    "                \"3123D80\",\n",
    "                \"3123D54\",\n",
    "                \"3123D70\",\n",
    "                \"3123D7B\",\n",
    "                \"3123D89\",\n",
    "                \"3123D58\",\n",
    "                \"3123D76\",\n",
    "                \"3123D7D\",\n",
    "                \"3123EFE\",\n",
    "                \"3123D64\",\n",
    "                \"3123D78\",\n",
    "                \"3123D7E\",\n",
    "                \"3124E4A\",\n",
    "            ],\n",
    "            \"domains\": [32, 38, 8, 44, 14, 50, 20, 26],\n",
    "            \"num_examples_per_domain_per_label\": 2000,\n",
    "            \"pickle_path\": \"/mnt/wd500GB/CSC500/csc500-main/datasets/oracle.Run1_framed_2000Examples_stratified_ds.2022A.pkl\",\n",
    "            \"source_or_target_dataset\": \"source\",\n",
    "            \"x_transforms\": [\"unit_mag\", \"take_200\", \"resample_20Msps_to_25Msps\"],\n",
    "            \"episode_transforms\": [],\n",
    "            \"domain_prefix\": \"O_\",\n",
    "        },\n",
    "    ],\n",
    "    \"seed\": 500,\n",
    "    \"dataset_seed\": 500,\n",
    "}\n"
   ]
  },
  {
   "cell_type": "code",
   "execution_count": 5,
   "id": "8fa1cc33",
   "metadata": {
    "execution": {
     "iopub.execute_input": "2022-03-21T03:24:33.925228Z",
     "iopub.status.busy": "2022-03-21T03:24:33.924960Z",
     "iopub.status.idle": "2022-03-21T03:24:33.941686Z",
     "shell.execute_reply": "2022-03-21T03:24:33.941203Z"
    },
    "papermill": {
     "duration": 0.035707,
     "end_time": "2022-03-21T03:24:33.941803",
     "exception": false,
     "start_time": "2022-03-21T03:24:33.906096",
     "status": "completed"
    },
    "tags": []
   },
   "outputs": [],
   "source": [
    "# Set this to True if you want to run this template directly\n",
    "STANDALONE = False\n",
    "if STANDALONE:\n",
    "    print(\"parameters not injected, running with standalone_parameters\")\n",
    "    parameters = standalone_parameters\n",
    "\n",
    "if not 'parameters' in locals() and not 'parameters' in globals():\n",
    "    raise Exception(\"Parameter injection failed\")\n",
    "\n",
    "#Use an easy dict for all the parameters\n",
    "p = EasyDict(parameters)\n",
    "\n",
    "if \"x_shape\" not in p:\n",
    "    p.x_shape = [2,256] # Default to this if we dont supply x_shape\n",
    "\n",
    "\n",
    "supplied_keys = set(p.keys())\n",
    "\n",
    "if  supplied_keys != required_parameters:\n",
    "    print(\"Parameters are incorrect\")\n",
    "    if len(supplied_keys - required_parameters)>0: print(\"Shouldn't have:\", str(supplied_keys - required_parameters))\n",
    "    if len(required_parameters - supplied_keys)>0: print(\"Need to have:\", str(required_parameters - supplied_keys))\n",
    "    raise RuntimeError(\"Parameters are incorrect\")"
   ]
  },
  {
   "cell_type": "code",
   "execution_count": 6,
   "id": "3a028d58",
   "metadata": {
    "execution": {
     "iopub.execute_input": "2022-03-21T03:24:33.981564Z",
     "iopub.status.busy": "2022-03-21T03:24:33.981213Z",
     "iopub.status.idle": "2022-03-21T03:24:33.987838Z",
     "shell.execute_reply": "2022-03-21T03:24:33.987528Z"
    },
    "papermill": {
     "duration": 0.027241,
     "end_time": "2022-03-21T03:24:33.987911",
     "exception": false,
     "start_time": "2022-03-21T03:24:33.960670",
     "status": "completed"
    },
    "tags": []
   },
   "outputs": [],
   "source": [
    "###################################\n",
    "# Set the RNGs and make it all deterministic\n",
    "###################################\n",
    "np.random.seed(p.seed)\n",
    "random.seed(p.seed)\n",
    "torch.manual_seed(p.seed)\n",
    "\n",
    "torch.use_deterministic_algorithms(True) "
   ]
  },
  {
   "cell_type": "code",
   "execution_count": 7,
   "id": "b691acf6",
   "metadata": {
    "execution": {
     "iopub.execute_input": "2022-03-21T03:24:34.018663Z",
     "iopub.status.busy": "2022-03-21T03:24:34.017925Z",
     "iopub.status.idle": "2022-03-21T03:24:34.031580Z",
     "shell.execute_reply": "2022-03-21T03:24:34.031197Z"
    },
    "papermill": {
     "duration": 0.028202,
     "end_time": "2022-03-21T03:24:34.031653",
     "exception": false,
     "start_time": "2022-03-21T03:24:34.003451",
     "status": "completed"
    },
    "tags": []
   },
   "outputs": [],
   "source": [
    "###########################################\n",
    "# The stratified datasets honor this\n",
    "###########################################\n",
    "torch.set_default_dtype(eval(p.torch_default_dtype))"
   ]
  },
  {
   "cell_type": "code",
   "execution_count": 8,
   "id": "b5fba671",
   "metadata": {
    "execution": {
     "iopub.execute_input": "2022-03-21T03:24:34.067045Z",
     "iopub.status.busy": "2022-03-21T03:24:34.066198Z",
     "iopub.status.idle": "2022-03-21T03:24:34.103700Z",
     "shell.execute_reply": "2022-03-21T03:24:34.103299Z"
    },
    "papermill": {
     "duration": 0.053449,
     "end_time": "2022-03-21T03:24:34.103793",
     "exception": false,
     "start_time": "2022-03-21T03:24:34.050344",
     "status": "completed"
    },
    "tags": []
   },
   "outputs": [],
   "source": [
    "###################################\n",
    "# Build the network(s)\n",
    "# Note: It's critical to do this AFTER setting the RNG\n",
    "###################################\n",
    "x_net = build_sequential(p.x_net)"
   ]
  },
  {
   "cell_type": "code",
   "execution_count": 9,
   "id": "5d7e61cc",
   "metadata": {
    "execution": {
     "iopub.execute_input": "2022-03-21T03:24:34.137048Z",
     "iopub.status.busy": "2022-03-21T03:24:34.136788Z",
     "iopub.status.idle": "2022-03-21T03:24:34.153240Z",
     "shell.execute_reply": "2022-03-21T03:24:34.152720Z"
    },
    "papermill": {
     "duration": 0.03248,
     "end_time": "2022-03-21T03:24:34.153386",
     "exception": false,
     "start_time": "2022-03-21T03:24:34.120906",
     "status": "completed"
    },
    "tags": []
   },
   "outputs": [],
   "source": [
    "start_time_secs = time.time()"
   ]
  },
  {
   "cell_type": "code",
   "execution_count": 10,
   "id": "c6b67dfd",
   "metadata": {
    "execution": {
     "iopub.execute_input": "2022-03-21T03:24:34.189442Z",
     "iopub.status.busy": "2022-03-21T03:24:34.187740Z",
     "iopub.status.idle": "2022-03-21T03:24:34.198375Z",
     "shell.execute_reply": "2022-03-21T03:24:34.197909Z"
    },
    "papermill": {
     "duration": 0.027187,
     "end_time": "2022-03-21T03:24:34.198482",
     "exception": false,
     "start_time": "2022-03-21T03:24:34.171295",
     "status": "completed"
    },
    "tags": []
   },
   "outputs": [],
   "source": [
    "p.domains_source = []\n",
    "p.domains_target = []\n",
    "\n",
    "\n",
    "train_original_source = []\n",
    "val_original_source   = []\n",
    "test_original_source  = []\n",
    "\n",
    "train_original_target = []\n",
    "val_original_target   = []\n",
    "test_original_target  = []"
   ]
  },
  {
   "cell_type": "code",
   "execution_count": 11,
   "id": "e3d9c3d3",
   "metadata": {
    "execution": {
     "iopub.execute_input": "2022-03-21T03:24:34.239411Z",
     "iopub.status.busy": "2022-03-21T03:24:34.239154Z",
     "iopub.status.idle": "2022-03-21T03:24:34.245650Z",
     "shell.execute_reply": "2022-03-21T03:24:34.245933Z"
    },
    "papermill": {
     "duration": 0.029917,
     "end_time": "2022-03-21T03:24:34.246020",
     "exception": false,
     "start_time": "2022-03-21T03:24:34.216103",
     "status": "completed"
    },
    "tags": []
   },
   "outputs": [],
   "source": [
    "# global_x_transform_func = lambda x: normalize(x.to(torch.get_default_dtype()), \"unit_power\") # unit_power, unit_mag\n",
    "# global_x_transform_func = lambda x: normalize(x, \"unit_power\") # unit_power, unit_mag"
   ]
  },
  {
   "cell_type": "code",
   "execution_count": 12,
   "id": "acb78fd2",
   "metadata": {
    "execution": {
     "iopub.execute_input": "2022-03-21T03:24:34.283452Z",
     "iopub.status.busy": "2022-03-21T03:24:34.283179Z",
     "iopub.status.idle": "2022-03-21T03:24:34.295458Z",
     "shell.execute_reply": "2022-03-21T03:24:34.294866Z"
    },
    "papermill": {
     "duration": 0.031742,
     "end_time": "2022-03-21T03:24:34.295555",
     "exception": false,
     "start_time": "2022-03-21T03:24:34.263813",
     "status": "completed"
    },
    "tags": []
   },
   "outputs": [],
   "source": [
    "def add_dataset(\n",
    "    labels,\n",
    "    domains,\n",
    "    pickle_path,\n",
    "    x_transforms,\n",
    "    episode_transforms,\n",
    "    domain_prefix,\n",
    "    num_examples_per_domain_per_label,\n",
    "    source_or_target_dataset:str,\n",
    "    iterator_seed=p.seed,\n",
    "    dataset_seed=p.dataset_seed,\n",
    "    n_shot=p.n_shot,\n",
    "    n_way=p.n_way,\n",
    "    n_query=p.n_query,\n",
    "    train_val_test_k_factors=(p.train_k_factor,p.val_k_factor,p.test_k_factor),\n",
    "):\n",
    "   \n",
    "    if x_transforms == []: x_transform = None\n",
    "    else: x_transform = get_chained_transform(x_transforms)\n",
    "    \n",
    "    if episode_transforms == []: episode_transform = None\n",
    "    else: raise Exception(\"episode_transforms not implemented\")\n",
    "    \n",
    "    episode_transform = lambda tup, _prefix=domain_prefix: (_prefix + str(tup[0]), tup[1])\n",
    "\n",
    "\n",
    "    eaf = Episodic_Accessor_Factory(\n",
    "        labels=labels,\n",
    "        domains=domains,\n",
    "        num_examples_per_domain_per_label=num_examples_per_domain_per_label,\n",
    "        iterator_seed=iterator_seed,\n",
    "        dataset_seed=dataset_seed,\n",
    "        n_shot=n_shot,\n",
    "        n_way=n_way,\n",
    "        n_query=n_query,\n",
    "        train_val_test_k_factors=train_val_test_k_factors,\n",
    "        pickle_path=pickle_path,\n",
    "        x_transform_func=x_transform,\n",
    "    )\n",
    "\n",
    "    train, val, test = eaf.get_train(), eaf.get_val(), eaf.get_test()\n",
    "    train = Lazy_Iterable_Wrapper(train, episode_transform)\n",
    "    val = Lazy_Iterable_Wrapper(val, episode_transform)\n",
    "    test = Lazy_Iterable_Wrapper(test, episode_transform)\n",
    "\n",
    "    if source_or_target_dataset==\"source\":\n",
    "        train_original_source.append(train)\n",
    "        val_original_source.append(val)\n",
    "        test_original_source.append(test)\n",
    "\n",
    "        p.domains_source.extend(\n",
    "            [domain_prefix + str(u) for u in domains]\n",
    "        )\n",
    "    elif source_or_target_dataset==\"target\":\n",
    "        train_original_target.append(train)\n",
    "        val_original_target.append(val)\n",
    "        test_original_target.append(test)\n",
    "        p.domains_target.extend(\n",
    "            [domain_prefix + str(u) for u in domains]\n",
    "        )\n",
    "    else:\n",
    "        raise Exception(f\"invalid source_or_target_dataset: {source_or_target_dataset}\")\n",
    "    "
   ]
  },
  {
   "cell_type": "code",
   "execution_count": 13,
   "id": "fe266617",
   "metadata": {
    "execution": {
     "iopub.execute_input": "2022-03-21T03:24:34.330653Z",
     "iopub.status.busy": "2022-03-21T03:24:34.330159Z",
     "iopub.status.idle": "2022-03-21T03:25:43.842497Z",
     "shell.execute_reply": "2022-03-21T03:25:43.841996Z"
    },
    "papermill": {
     "duration": 69.528027,
     "end_time": "2022-03-21T03:25:43.842604",
     "exception": false,
     "start_time": "2022-03-21T03:24:34.314577",
     "status": "completed"
    },
    "tags": []
   },
   "outputs": [],
   "source": [
    "for ds in p.datasets:\n",
    "    add_dataset(**ds)"
   ]
  },
  {
   "cell_type": "code",
   "execution_count": 14,
   "id": "b90d65ac",
   "metadata": {
    "execution": {
     "iopub.execute_input": "2022-03-21T03:25:43.877150Z",
     "iopub.status.busy": "2022-03-21T03:25:43.876879Z",
     "iopub.status.idle": "2022-03-21T03:25:43.893037Z",
     "shell.execute_reply": "2022-03-21T03:25:43.892590Z"
    },
    "papermill": {
     "duration": 0.032254,
     "end_time": "2022-03-21T03:25:43.893130",
     "exception": false,
     "start_time": "2022-03-21T03:25:43.860876",
     "status": "completed"
    },
    "tags": []
   },
   "outputs": [],
   "source": [
    "# from steves_utils.CORES.utils import (\n",
    "#     ALL_NODES,\n",
    "#     ALL_NODES_MINIMUM_1000_EXAMPLES,\n",
    "#     ALL_DAYS\n",
    "# )\n",
    "\n",
    "# add_dataset(\n",
    "#     labels=ALL_NODES,\n",
    "#     domains = ALL_DAYS,\n",
    "#     num_examples_per_domain_per_label=100,\n",
    "#     pickle_path=os.path.join(get_datasets_base_path(), \"cores.stratified_ds.2022A.pkl\"),\n",
    "#     source_or_target_dataset=\"target\",\n",
    "#     x_transform_func=global_x_transform_func,\n",
    "#     domain_modifier=lambda u: f\"cores_{u}\"\n",
    "# )"
   ]
  },
  {
   "cell_type": "code",
   "execution_count": 15,
   "id": "76db484d",
   "metadata": {
    "execution": {
     "iopub.execute_input": "2022-03-21T03:25:43.928547Z",
     "iopub.status.busy": "2022-03-21T03:25:43.928287Z",
     "iopub.status.idle": "2022-03-21T03:25:43.942784Z",
     "shell.execute_reply": "2022-03-21T03:25:43.942453Z"
    },
    "papermill": {
     "duration": 0.030833,
     "end_time": "2022-03-21T03:25:43.942868",
     "exception": false,
     "start_time": "2022-03-21T03:25:43.912035",
     "status": "completed"
    },
    "tags": []
   },
   "outputs": [],
   "source": [
    "# from steves_utils.ORACLE.utils_v2 import (\n",
    "#     ALL_DISTANCES_FEET,\n",
    "#     ALL_RUNS,\n",
    "#     ALL_SERIAL_NUMBERS,\n",
    "# )\n",
    "\n",
    "\n",
    "# add_dataset(\n",
    "#     labels=ALL_SERIAL_NUMBERS,\n",
    "#     domains = list(set(ALL_DISTANCES_FEET) - {2,62}),\n",
    "#     num_examples_per_domain_per_label=100,\n",
    "#     pickle_path=os.path.join(get_datasets_base_path(), \"oracle.Run2_framed_2000Examples_stratified_ds.2022A.pkl\"),\n",
    "#     source_or_target_dataset=\"source\",\n",
    "#     x_transform_func=global_x_transform_func,\n",
    "#     domain_modifier=lambda u: f\"oracle1_{u}\"\n",
    "# )\n"
   ]
  },
  {
   "cell_type": "code",
   "execution_count": 16,
   "id": "97dea9d2",
   "metadata": {
    "execution": {
     "iopub.execute_input": "2022-03-21T03:25:43.979854Z",
     "iopub.status.busy": "2022-03-21T03:25:43.974955Z",
     "iopub.status.idle": "2022-03-21T03:25:43.990281Z",
     "shell.execute_reply": "2022-03-21T03:25:43.989971Z"
    },
    "papermill": {
     "duration": 0.031012,
     "end_time": "2022-03-21T03:25:43.990354",
     "exception": false,
     "start_time": "2022-03-21T03:25:43.959342",
     "status": "completed"
    },
    "tags": []
   },
   "outputs": [],
   "source": [
    "# from steves_utils.ORACLE.utils_v2 import (\n",
    "#     ALL_DISTANCES_FEET,\n",
    "#     ALL_RUNS,\n",
    "#     ALL_SERIAL_NUMBERS,\n",
    "# )\n",
    "\n",
    "\n",
    "# add_dataset(\n",
    "#     labels=ALL_SERIAL_NUMBERS,\n",
    "#     domains = list(set(ALL_DISTANCES_FEET) - {2,62,56}),\n",
    "#     num_examples_per_domain_per_label=100,\n",
    "#     pickle_path=os.path.join(get_datasets_base_path(), \"oracle.Run2_framed_2000Examples_stratified_ds.2022A.pkl\"),\n",
    "#     source_or_target_dataset=\"source\",\n",
    "#     x_transform_func=global_x_transform_func,\n",
    "#     domain_modifier=lambda u: f\"oracle2_{u}\"\n",
    "# )"
   ]
  },
  {
   "cell_type": "code",
   "execution_count": 17,
   "id": "6f289866",
   "metadata": {
    "execution": {
     "iopub.execute_input": "2022-03-21T03:25:44.022699Z",
     "iopub.status.busy": "2022-03-21T03:25:44.022446Z",
     "iopub.status.idle": "2022-03-21T03:25:44.035431Z",
     "shell.execute_reply": "2022-03-21T03:25:44.035096Z"
    },
    "papermill": {
     "duration": 0.028386,
     "end_time": "2022-03-21T03:25:44.035507",
     "exception": false,
     "start_time": "2022-03-21T03:25:44.007121",
     "status": "completed"
    },
    "tags": []
   },
   "outputs": [],
   "source": [
    "# add_dataset(\n",
    "#     labels=list(range(19)),\n",
    "#     domains = [0,1,2],\n",
    "#     num_examples_per_domain_per_label=100,\n",
    "#     pickle_path=os.path.join(get_datasets_base_path(), \"metehan.stratified_ds.2022A.pkl\"),\n",
    "#     source_or_target_dataset=\"target\",\n",
    "#     x_transform_func=global_x_transform_func,\n",
    "#     domain_modifier=lambda u: f\"met_{u}\"\n",
    "# )"
   ]
  },
  {
   "cell_type": "code",
   "execution_count": 18,
   "id": "86a863c3",
   "metadata": {
    "execution": {
     "iopub.execute_input": "2022-03-21T03:25:44.068951Z",
     "iopub.status.busy": "2022-03-21T03:25:44.068010Z",
     "iopub.status.idle": "2022-03-21T03:25:44.082262Z",
     "shell.execute_reply": "2022-03-21T03:25:44.081813Z"
    },
    "papermill": {
     "duration": 0.030253,
     "end_time": "2022-03-21T03:25:44.082353",
     "exception": false,
     "start_time": "2022-03-21T03:25:44.052100",
     "status": "completed"
    },
    "tags": []
   },
   "outputs": [],
   "source": [
    "# # from steves_utils.wisig.utils import (\n",
    "# #     ALL_NODES_MINIMUM_100_EXAMPLES,\n",
    "# #     ALL_NODES_MINIMUM_500_EXAMPLES,\n",
    "# #     ALL_NODES_MINIMUM_1000_EXAMPLES,\n",
    "# #     ALL_DAYS\n",
    "# # )\n",
    "\n",
    "# import steves_utils.wisig.utils as wisig\n",
    "\n",
    "\n",
    "# add_dataset(\n",
    "#     labels=wisig.ALL_NODES_MINIMUM_100_EXAMPLES,\n",
    "#     domains = wisig.ALL_DAYS,\n",
    "#     num_examples_per_domain_per_label=100,\n",
    "#     pickle_path=os.path.join(get_datasets_base_path(), \"wisig.node3-19.stratified_ds.2022A.pkl\"),\n",
    "#     source_or_target_dataset=\"target\",\n",
    "#     x_transform_func=global_x_transform_func,\n",
    "#     domain_modifier=lambda u: f\"wisig_{u}\"\n",
    "# )"
   ]
  },
  {
   "cell_type": "code",
   "execution_count": 19,
   "id": "fd5442bc",
   "metadata": {
    "execution": {
     "iopub.execute_input": "2022-03-21T03:25:44.122143Z",
     "iopub.status.busy": "2022-03-21T03:25:44.121882Z",
     "iopub.status.idle": "2022-03-21T03:25:44.136629Z",
     "shell.execute_reply": "2022-03-21T03:25:44.136237Z"
    },
    "papermill": {
     "duration": 0.034741,
     "end_time": "2022-03-21T03:25:44.136719",
     "exception": false,
     "start_time": "2022-03-21T03:25:44.101978",
     "status": "completed"
    },
    "tags": []
   },
   "outputs": [],
   "source": [
    "###################################\n",
    "# Build the dataset\n",
    "###################################\n",
    "train_original_source = Iterable_Aggregator(train_original_source, p.seed)\n",
    "val_original_source = Iterable_Aggregator(val_original_source, p.seed)\n",
    "test_original_source = Iterable_Aggregator(test_original_source, p.seed)\n",
    "\n",
    "\n",
    "train_original_target = Iterable_Aggregator(train_original_target, p.seed)\n",
    "val_original_target = Iterable_Aggregator(val_original_target, p.seed)\n",
    "test_original_target = Iterable_Aggregator(test_original_target, p.seed)\n",
    "\n",
    "# For CNN We only use X and Y. And we only train on the source.\n",
    "# Properly form the data using a transform lambda and Lazy_Iterable_Wrapper. Finally wrap them in a dataloader\n",
    "\n",
    "transform_lambda = lambda ex: ex[1] # Original is (<domain>, <episode>) so we strip down to episode only\n",
    "\n",
    "train_processed_source = Lazy_Iterable_Wrapper(train_original_source, transform_lambda)\n",
    "val_processed_source   = Lazy_Iterable_Wrapper(val_original_source, transform_lambda)\n",
    "test_processed_source  = Lazy_Iterable_Wrapper(test_original_source, transform_lambda)\n",
    "\n",
    "train_processed_target = Lazy_Iterable_Wrapper(train_original_target, transform_lambda)\n",
    "val_processed_target   = Lazy_Iterable_Wrapper(val_original_target, transform_lambda)\n",
    "test_processed_target  = Lazy_Iterable_Wrapper(test_original_target, transform_lambda)\n",
    "\n",
    "datasets = EasyDict({\n",
    "    \"source\": {\n",
    "        \"original\": {\"train\":train_original_source, \"val\":val_original_source, \"test\":test_original_source},\n",
    "        \"processed\": {\"train\":train_processed_source, \"val\":val_processed_source, \"test\":test_processed_source}\n",
    "    },\n",
    "    \"target\": {\n",
    "        \"original\": {\"train\":train_original_target, \"val\":val_original_target, \"test\":test_original_target},\n",
    "        \"processed\": {\"train\":train_processed_target, \"val\":val_processed_target, \"test\":test_processed_target}\n",
    "    },\n",
    "})"
   ]
  },
  {
   "cell_type": "code",
   "execution_count": 20,
   "id": "5b3c01fc",
   "metadata": {
    "execution": {
     "iopub.execute_input": "2022-03-21T03:25:44.177052Z",
     "iopub.status.busy": "2022-03-21T03:25:44.172829Z",
     "iopub.status.idle": "2022-03-21T03:25:53.069013Z",
     "shell.execute_reply": "2022-03-21T03:25:53.069463Z"
    },
    "papermill": {
     "duration": 8.913896,
     "end_time": "2022-03-21T03:25:53.069606",
     "exception": false,
     "start_time": "2022-03-21T03:25:44.155710",
     "status": "completed"
    },
    "tags": []
   },
   "outputs": [
    {
     "name": "stdout",
     "output_type": "stream",
     "text": [
      "{'O_38', 'O_50', 'O_26', 'O_32', 'O_44', 'O_20', 'O_8', 'O_14'}\n"
     ]
    },
    {
     "name": "stdout",
     "output_type": "stream",
     "text": [
      "{'C_3', 'W_2', 'C_2', 'W_1', 'C_4', 'W_3', 'C_1', 'C_5', 'W_4'}\n"
     ]
    },
    {
     "name": "stdout",
     "output_type": "stream",
     "text": [
      "tensor([[[ 0.5423,  1.1944, -0.2807,  ...,  0.4041, -0.0787,  1.0690],\n",
      "         [-0.4198,  0.2945,  0.3174,  ...,  0.6411,  1.0944,  0.1693]],\n",
      "\n",
      "        [[ 0.1078,  1.3450,  0.2456,  ...,  0.3707,  0.0437,  1.1405],\n",
      "         [-0.6826, -0.1237,  0.5266,  ...,  0.4243,  1.2597,  0.1902]],\n",
      "\n",
      "        [[-1.0305, -0.1004,  1.5317,  ...,  0.2312, -1.0015, -1.2624],\n",
      "         [-0.3073, -0.3391,  0.0166,  ..., -1.0276, -0.7892, -0.7877]],\n",
      "\n",
      "        ...,\n",
      "\n",
      "        [[-0.3504,  0.1759,  0.4702,  ...,  0.6580,  1.3111,  0.6339],\n",
      "         [-0.2867, -1.2798, -0.1023,  ..., -0.9140,  0.1498, -0.5437]],\n",
      "\n",
      "        [[ 0.5686, -0.2772, -0.7440,  ..., -0.8192, -1.0076, -0.0458],\n",
      "         [ 0.9067,  1.3000, -0.4746,  ...,  0.1979, -0.0920,  1.0664]],\n",
      "\n",
      "        [[ 0.4492, -0.5145, -0.8789,  ..., -1.1034, -0.9434, -0.2885],\n",
      "         [ 1.0532,  1.2647, -0.7126,  ...,  0.1576,  0.2106,  1.4365]]])\n"
     ]
    }
   ],
   "source": [
    "from steves_utils.transforms import get_average_magnitude, get_average_power\n",
    "\n",
    "print(set([u for u,_ in val_original_source]))\n",
    "print(set([u for u,_ in val_original_target]))\n",
    "\n",
    "s_x, s_y, q_x, q_y, _ = next(iter(train_processed_source))\n",
    "print(s_x)\n",
    "\n",
    "# for ds in [\n",
    "#     train_processed_source,\n",
    "#     val_processed_source,\n",
    "#     test_processed_source,\n",
    "#     train_processed_target,\n",
    "#     val_processed_target,\n",
    "#     test_processed_target\n",
    "# ]:\n",
    "#     for s_x, s_y, q_x, q_y, _ in ds:\n",
    "#         for X in (s_x, q_x):\n",
    "#             for x in X:\n",
    "#                 assert np.isclose(get_average_magnitude(x.numpy()), 1.0)\n",
    "#                 assert np.isclose(get_average_power(x.numpy()), 1.0)\n",
    "                "
   ]
  },
  {
   "cell_type": "code",
   "execution_count": 21,
   "id": "bbdacba1",
   "metadata": {
    "execution": {
     "iopub.execute_input": "2022-03-21T03:25:53.106960Z",
     "iopub.status.busy": "2022-03-21T03:25:53.106692Z",
     "iopub.status.idle": "2022-03-21T03:25:53.156526Z",
     "shell.execute_reply": "2022-03-21T03:25:53.156060Z"
    },
    "papermill": {
     "duration": 0.066834,
     "end_time": "2022-03-21T03:25:53.156622",
     "exception": false,
     "start_time": "2022-03-21T03:25:53.089788",
     "status": "completed"
    },
    "tags": []
   },
   "outputs": [
    {
     "name": "stdout",
     "output_type": "stream",
     "text": [
      "(2, 200)\n"
     ]
    }
   ],
   "source": [
    "###################################\n",
    "# Build the model\n",
    "###################################\n",
    "# easfsl only wants a tuple for the shape\n",
    "model = Steves_Prototypical_Network(x_net, device=p.device, x_shape=tuple(p.x_shape))\n",
    "optimizer = Adam(params=model.parameters(), lr=p.lr)"
   ]
  },
  {
   "cell_type": "code",
   "execution_count": 22,
   "id": "22b39ac5",
   "metadata": {
    "execution": {
     "iopub.execute_input": "2022-03-21T03:25:53.194727Z",
     "iopub.status.busy": "2022-03-21T03:25:53.194438Z",
     "iopub.status.idle": "2022-03-21T04:03:34.555887Z",
     "shell.execute_reply": "2022-03-21T04:03:34.555512Z"
    },
    "papermill": {
     "duration": 2261.379067,
     "end_time": "2022-03-21T04:03:34.555974",
     "exception": false,
     "start_time": "2022-03-21T03:25:53.176907",
     "status": "completed"
    },
    "tags": []
   },
   "outputs": [
    {
     "name": "stdout",
     "output_type": "stream",
     "text": [
      "epoch: 1, [batch: 1 / 6720], examples_per_second: 48.2179, train_label_loss: 2.9320, \n"
     ]
    },
    {
     "name": "stdout",
     "output_type": "stream",
     "text": [
      "epoch: 1, [batch: 672 / 6720], examples_per_second: 3713.5263, train_label_loss: 2.0153, \n"
     ]
    },
    {
     "name": "stdout",
     "output_type": "stream",
     "text": [
      "epoch: 1, [batch: 1344 / 6720], examples_per_second: 3729.9392, train_label_loss: 0.9118, \n"
     ]
    },
    {
     "name": "stdout",
     "output_type": "stream",
     "text": [
      "epoch: 1, [batch: 2016 / 6720], examples_per_second: 3629.0430, train_label_loss: 0.8331, \n"
     ]
    },
    {
     "name": "stdout",
     "output_type": "stream",
     "text": [
      "epoch: 1, [batch: 2688 / 6720], examples_per_second: 3576.8583, train_label_loss: 0.7984, \n"
     ]
    },
    {
     "name": "stdout",
     "output_type": "stream",
     "text": [
      "epoch: 1, [batch: 3360 / 6720], examples_per_second: 3728.8522, train_label_loss: 0.7669, \n"
     ]
    },
    {
     "name": "stdout",
     "output_type": "stream",
     "text": [
      "epoch: 1, [batch: 4032 / 6720], examples_per_second: 3705.9989, train_label_loss: 0.7380, \n"
     ]
    },
    {
     "name": "stdout",
     "output_type": "stream",
     "text": [
      "epoch: 1, [batch: 4704 / 6720], examples_per_second: 3687.2365, train_label_loss: 0.6806, \n"
     ]
    },
    {
     "name": "stdout",
     "output_type": "stream",
     "text": [
      "epoch: 1, [batch: 5376 / 6720], examples_per_second: 3706.1567, train_label_loss: 0.6997, \n"
     ]
    },
    {
     "name": "stdout",
     "output_type": "stream",
     "text": [
      "epoch: 1, [batch: 6048 / 6720], examples_per_second: 3696.3792, train_label_loss: 0.9500, \n"
     ]
    },
    {
     "name": "stdout",
     "output_type": "stream",
     "text": [
      "=============================================================\n",
      "epoch: 1, source_val_acc_label: 0.6261, target_val_acc_label: 0.5422, source_val_label_loss: 1.1532, target_val_label_loss: 18.1153, \n",
      "=============================================================\n"
     ]
    },
    {
     "name": "stdout",
     "output_type": "stream",
     "text": [
      "New best\n"
     ]
    },
    {
     "name": "stdout",
     "output_type": "stream",
     "text": [
      "epoch: 2, [batch: 1 / 6720], examples_per_second: 4.3565, train_label_loss: 1.2663, \n"
     ]
    },
    {
     "name": "stdout",
     "output_type": "stream",
     "text": [
      "epoch: 2, [batch: 672 / 6720], examples_per_second: 3698.0196, train_label_loss: 1.1913, \n"
     ]
    },
    {
     "name": "stdout",
     "output_type": "stream",
     "text": [
      "epoch: 2, [batch: 1344 / 6720], examples_per_second: 3717.1687, train_label_loss: 0.9503, \n"
     ]
    },
    {
     "name": "stdout",
     "output_type": "stream",
     "text": [
      "epoch: 2, [batch: 2016 / 6720], examples_per_second: 3726.4812, train_label_loss: 0.6554, \n"
     ]
    },
    {
     "name": "stdout",
     "output_type": "stream",
     "text": [
      "epoch: 2, [batch: 2688 / 6720], examples_per_second: 3676.6434, train_label_loss: 0.6251, \n"
     ]
    },
    {
     "name": "stdout",
     "output_type": "stream",
     "text": [
      "epoch: 2, [batch: 3360 / 6720], examples_per_second: 3714.1805, train_label_loss: 0.6633, \n"
     ]
    },
    {
     "name": "stdout",
     "output_type": "stream",
     "text": [
      "epoch: 2, [batch: 4032 / 6720], examples_per_second: 3726.5730, train_label_loss: 0.9030, \n"
     ]
    },
    {
     "name": "stdout",
     "output_type": "stream",
     "text": [
      "epoch: 2, [batch: 4704 / 6720], examples_per_second: 3703.6158, train_label_loss: 0.5807, \n"
     ]
    },
    {
     "name": "stdout",
     "output_type": "stream",
     "text": [
      "epoch: 2, [batch: 5376 / 6720], examples_per_second: 3670.9236, train_label_loss: 1.0817, \n"
     ]
    },
    {
     "name": "stdout",
     "output_type": "stream",
     "text": [
      "epoch: 2, [batch: 6048 / 6720], examples_per_second: 3636.2227, train_label_loss: 0.5160, \n"
     ]
    },
    {
     "name": "stdout",
     "output_type": "stream",
     "text": [
      "=============================================================\n",
      "epoch: 2, source_val_acc_label: 0.7704, target_val_acc_label: 0.6838, source_val_label_loss: 0.6334, target_val_label_loss: 5.7126, \n",
      "=============================================================\n"
     ]
    },
    {
     "name": "stdout",
     "output_type": "stream",
     "text": [
      "New best\n"
     ]
    },
    {
     "name": "stdout",
     "output_type": "stream",
     "text": [
      "epoch: 3, [batch: 1 / 6720], examples_per_second: 4.3031, train_label_loss: 1.1644, \n"
     ]
    },
    {
     "name": "stdout",
     "output_type": "stream",
     "text": [
      "epoch: 3, [batch: 672 / 6720], examples_per_second: 3656.2938, train_label_loss: 0.3894, \n"
     ]
    },
    {
     "name": "stdout",
     "output_type": "stream",
     "text": [
      "epoch: 3, [batch: 1344 / 6720], examples_per_second: 3644.3074, train_label_loss: 0.3363, \n"
     ]
    },
    {
     "name": "stdout",
     "output_type": "stream",
     "text": [
      "epoch: 3, [batch: 2016 / 6720], examples_per_second: 3564.0838, train_label_loss: 0.3903, \n"
     ]
    },
    {
     "name": "stdout",
     "output_type": "stream",
     "text": [
      "epoch: 3, [batch: 2688 / 6720], examples_per_second: 3632.7293, train_label_loss: 0.4175, \n"
     ]
    },
    {
     "name": "stdout",
     "output_type": "stream",
     "text": [
      "epoch: 3, [batch: 3360 / 6720], examples_per_second: 3548.3977, train_label_loss: 0.4133, \n"
     ]
    },
    {
     "name": "stdout",
     "output_type": "stream",
     "text": [
      "epoch: 3, [batch: 4032 / 6720], examples_per_second: 3630.9780, train_label_loss: 0.5512, \n"
     ]
    },
    {
     "name": "stdout",
     "output_type": "stream",
     "text": [
      "epoch: 3, [batch: 4704 / 6720], examples_per_second: 3679.9987, train_label_loss: 0.6374, \n"
     ]
    },
    {
     "name": "stdout",
     "output_type": "stream",
     "text": [
      "epoch: 3, [batch: 5376 / 6720], examples_per_second: 3731.3620, train_label_loss: 0.9330, \n"
     ]
    },
    {
     "name": "stdout",
     "output_type": "stream",
     "text": [
      "epoch: 3, [batch: 6048 / 6720], examples_per_second: 3711.2405, train_label_loss: 0.7992, \n"
     ]
    },
    {
     "name": "stdout",
     "output_type": "stream",
     "text": [
      "=============================================================\n",
      "epoch: 3, source_val_acc_label: 0.7887, target_val_acc_label: 0.6915, source_val_label_loss: 0.5809, target_val_label_loss: 5.8653, \n",
      "=============================================================\n"
     ]
    },
    {
     "name": "stdout",
     "output_type": "stream",
     "text": [
      "New best\n"
     ]
    },
    {
     "name": "stdout",
     "output_type": "stream",
     "text": [
      "epoch: 4, [batch: 1 / 6720], examples_per_second: 4.3676, train_label_loss: 0.5033, \n"
     ]
    },
    {
     "name": "stdout",
     "output_type": "stream",
     "text": [
      "epoch: 4, [batch: 672 / 6720], examples_per_second: 3688.1057, train_label_loss: 0.5163, \n"
     ]
    },
    {
     "name": "stdout",
     "output_type": "stream",
     "text": [
      "epoch: 4, [batch: 1344 / 6720], examples_per_second: 3723.4308, train_label_loss: 0.5206, \n"
     ]
    },
    {
     "name": "stdout",
     "output_type": "stream",
     "text": [
      "epoch: 4, [batch: 2016 / 6720], examples_per_second: 3722.5890, train_label_loss: 0.3555, \n"
     ]
    },
    {
     "name": "stdout",
     "output_type": "stream",
     "text": [
      "epoch: 4, [batch: 2688 / 6720], examples_per_second: 3689.2727, train_label_loss: 0.6736, \n"
     ]
    },
    {
     "name": "stdout",
     "output_type": "stream",
     "text": [
      "epoch: 4, [batch: 3360 / 6720], examples_per_second: 3718.0842, train_label_loss: 0.8054, \n"
     ]
    },
    {
     "name": "stdout",
     "output_type": "stream",
     "text": [
      "epoch: 4, [batch: 4032 / 6720], examples_per_second: 3722.4067, train_label_loss: 0.6538, \n"
     ]
    },
    {
     "name": "stdout",
     "output_type": "stream",
     "text": [
      "epoch: 4, [batch: 4704 / 6720], examples_per_second: 3698.2621, train_label_loss: 1.1754, \n"
     ]
    },
    {
     "name": "stdout",
     "output_type": "stream",
     "text": [
      "epoch: 4, [batch: 5376 / 6720], examples_per_second: 3724.1491, train_label_loss: 0.5035, \n"
     ]
    },
    {
     "name": "stdout",
     "output_type": "stream",
     "text": [
      "epoch: 4, [batch: 6048 / 6720], examples_per_second: 3710.1855, train_label_loss: 0.5156, \n"
     ]
    },
    {
     "name": "stdout",
     "output_type": "stream",
     "text": [
      "=============================================================\n",
      "epoch: 4, source_val_acc_label: 0.8314, target_val_acc_label: 0.6823, source_val_label_loss: 0.4702, target_val_label_loss: 6.2090, \n",
      "=============================================================\n"
     ]
    },
    {
     "name": "stdout",
     "output_type": "stream",
     "text": [
      "epoch: 5, [batch: 1 / 6720], examples_per_second: 4.4113, train_label_loss: 0.5076, \n"
     ]
    },
    {
     "name": "stdout",
     "output_type": "stream",
     "text": [
      "epoch: 5, [batch: 672 / 6720], examples_per_second: 3711.5256, train_label_loss: 0.5368, \n"
     ]
    },
    {
     "name": "stdout",
     "output_type": "stream",
     "text": [
      "epoch: 5, [batch: 1344 / 6720], examples_per_second: 3718.8421, train_label_loss: 0.4366, \n"
     ]
    },
    {
     "name": "stdout",
     "output_type": "stream",
     "text": [
      "epoch: 5, [batch: 2016 / 6720], examples_per_second: 3737.8558, train_label_loss: 0.2868, \n"
     ]
    },
    {
     "name": "stdout",
     "output_type": "stream",
     "text": [
      "epoch: 5, [batch: 2688 / 6720], examples_per_second: 3703.5508, train_label_loss: 0.2797, \n"
     ]
    },
    {
     "name": "stdout",
     "output_type": "stream",
     "text": [
      "epoch: 5, [batch: 3360 / 6720], examples_per_second: 3730.9928, train_label_loss: 0.4474, \n"
     ]
    },
    {
     "name": "stdout",
     "output_type": "stream",
     "text": [
      "epoch: 5, [batch: 4032 / 6720], examples_per_second: 3710.1745, train_label_loss: 0.2686, \n"
     ]
    },
    {
     "name": "stdout",
     "output_type": "stream",
     "text": [
      "epoch: 5, [batch: 4704 / 6720], examples_per_second: 3707.3094, train_label_loss: 0.3476, \n"
     ]
    },
    {
     "name": "stdout",
     "output_type": "stream",
     "text": [
      "epoch: 5, [batch: 5376 / 6720], examples_per_second: 3729.4169, train_label_loss: 0.2147, \n"
     ]
    },
    {
     "name": "stdout",
     "output_type": "stream",
     "text": [
      "epoch: 5, [batch: 6048 / 6720], examples_per_second: 3730.9704, train_label_loss: 0.5429, \n"
     ]
    },
    {
     "name": "stdout",
     "output_type": "stream",
     "text": [
      "=============================================================\n",
      "epoch: 5, source_val_acc_label: 0.8336, target_val_acc_label: 0.6938, source_val_label_loss: 0.4524, target_val_label_loss: 5.9857, \n",
      "=============================================================\n"
     ]
    },
    {
     "name": "stdout",
     "output_type": "stream",
     "text": [
      "New best\n"
     ]
    },
    {
     "name": "stdout",
     "output_type": "stream",
     "text": [
      "epoch: 6, [batch: 1 / 6720], examples_per_second: 4.3922, train_label_loss: 0.8879, \n"
     ]
    },
    {
     "name": "stdout",
     "output_type": "stream",
     "text": [
      "epoch: 6, [batch: 672 / 6720], examples_per_second: 3718.0763, train_label_loss: 0.3082, \n"
     ]
    },
    {
     "name": "stdout",
     "output_type": "stream",
     "text": [
      "epoch: 6, [batch: 1344 / 6720], examples_per_second: 3722.7442, train_label_loss: 0.4088, \n"
     ]
    },
    {
     "name": "stdout",
     "output_type": "stream",
     "text": [
      "epoch: 6, [batch: 2016 / 6720], examples_per_second: 3720.2896, train_label_loss: 0.7220, \n"
     ]
    },
    {
     "name": "stdout",
     "output_type": "stream",
     "text": [
      "epoch: 6, [batch: 2688 / 6720], examples_per_second: 3625.2154, train_label_loss: 0.4032, \n"
     ]
    },
    {
     "name": "stdout",
     "output_type": "stream",
     "text": [
      "epoch: 6, [batch: 3360 / 6720], examples_per_second: 3747.3537, train_label_loss: 0.5022, \n"
     ]
    },
    {
     "name": "stdout",
     "output_type": "stream",
     "text": [
      "epoch: 6, [batch: 4032 / 6720], examples_per_second: 3764.2902, train_label_loss: 0.3876, \n"
     ]
    },
    {
     "name": "stdout",
     "output_type": "stream",
     "text": [
      "epoch: 6, [batch: 4704 / 6720], examples_per_second: 3754.5525, train_label_loss: 0.3882, \n"
     ]
    },
    {
     "name": "stdout",
     "output_type": "stream",
     "text": [
      "epoch: 6, [batch: 5376 / 6720], examples_per_second: 3750.7649, train_label_loss: 0.1142, \n"
     ]
    },
    {
     "name": "stdout",
     "output_type": "stream",
     "text": [
      "epoch: 6, [batch: 6048 / 6720], examples_per_second: 3759.0178, train_label_loss: 0.6370, \n"
     ]
    },
    {
     "name": "stdout",
     "output_type": "stream",
     "text": [
      "=============================================================\n",
      "epoch: 6, source_val_acc_label: 0.8438, target_val_acc_label: 0.6807, source_val_label_loss: 0.4352, target_val_label_loss: 7.4051, \n",
      "=============================================================\n"
     ]
    },
    {
     "name": "stdout",
     "output_type": "stream",
     "text": [
      "epoch: 7, [batch: 1 / 6720], examples_per_second: 4.4016, train_label_loss: 0.3138, \n"
     ]
    },
    {
     "name": "stdout",
     "output_type": "stream",
     "text": [
      "epoch: 7, [batch: 672 / 6720], examples_per_second: 3741.2424, train_label_loss: 0.2933, \n"
     ]
    },
    {
     "name": "stdout",
     "output_type": "stream",
     "text": [
      "epoch: 7, [batch: 1344 / 6720], examples_per_second: 3752.8703, train_label_loss: 0.6847, \n"
     ]
    },
    {
     "name": "stdout",
     "output_type": "stream",
     "text": [
      "epoch: 7, [batch: 2016 / 6720], examples_per_second: 3757.7283, train_label_loss: 0.2308, \n"
     ]
    },
    {
     "name": "stdout",
     "output_type": "stream",
     "text": [
      "epoch: 7, [batch: 2688 / 6720], examples_per_second: 3751.9620, train_label_loss: 0.2533, \n"
     ]
    },
    {
     "name": "stdout",
     "output_type": "stream",
     "text": [
      "epoch: 7, [batch: 3360 / 6720], examples_per_second: 3742.5397, train_label_loss: 0.3566, \n"
     ]
    },
    {
     "name": "stdout",
     "output_type": "stream",
     "text": [
      "epoch: 7, [batch: 4032 / 6720], examples_per_second: 3766.9452, train_label_loss: 0.6815, \n"
     ]
    },
    {
     "name": "stdout",
     "output_type": "stream",
     "text": [
      "epoch: 7, [batch: 4704 / 6720], examples_per_second: 3737.3332, train_label_loss: 0.4576, \n"
     ]
    },
    {
     "name": "stdout",
     "output_type": "stream",
     "text": [
      "epoch: 7, [batch: 5376 / 6720], examples_per_second: 3728.1353, train_label_loss: 0.3063, \n"
     ]
    },
    {
     "name": "stdout",
     "output_type": "stream",
     "text": [
      "epoch: 7, [batch: 6048 / 6720], examples_per_second: 3735.8540, train_label_loss: 0.2158, \n"
     ]
    },
    {
     "name": "stdout",
     "output_type": "stream",
     "text": [
      "=============================================================\n",
      "epoch: 7, source_val_acc_label: 0.8485, target_val_acc_label: 0.6934, source_val_label_loss: 0.4153, target_val_label_loss: 8.6083, \n",
      "=============================================================\n"
     ]
    },
    {
     "name": "stdout",
     "output_type": "stream",
     "text": [
      "epoch: 8, [batch: 1 / 6720], examples_per_second: 4.4054, train_label_loss: 0.4718, \n"
     ]
    },
    {
     "name": "stdout",
     "output_type": "stream",
     "text": [
      "epoch: 8, [batch: 672 / 6720], examples_per_second: 3753.6628, train_label_loss: 0.2979, \n"
     ]
    },
    {
     "name": "stdout",
     "output_type": "stream",
     "text": [
      "epoch: 8, [batch: 1344 / 6720], examples_per_second: 3756.6622, train_label_loss: 0.1956, \n"
     ]
    },
    {
     "name": "stdout",
     "output_type": "stream",
     "text": [
      "epoch: 8, [batch: 2016 / 6720], examples_per_second: 3754.5953, train_label_loss: 0.7046, \n"
     ]
    },
    {
     "name": "stdout",
     "output_type": "stream",
     "text": [
      "epoch: 8, [batch: 2688 / 6720], examples_per_second: 3755.3331, train_label_loss: 0.2566, \n"
     ]
    },
    {
     "name": "stdout",
     "output_type": "stream",
     "text": [
      "epoch: 8, [batch: 3360 / 6720], examples_per_second: 3753.9729, train_label_loss: 0.1493, \n"
     ]
    },
    {
     "name": "stdout",
     "output_type": "stream",
     "text": [
      "epoch: 8, [batch: 4032 / 6720], examples_per_second: 3747.2916, train_label_loss: 0.7458, \n"
     ]
    },
    {
     "name": "stdout",
     "output_type": "stream",
     "text": [
      "epoch: 8, [batch: 4704 / 6720], examples_per_second: 3741.0512, train_label_loss: 0.3165, \n"
     ]
    },
    {
     "name": "stdout",
     "output_type": "stream",
     "text": [
      "epoch: 8, [batch: 5376 / 6720], examples_per_second: 3747.2208, train_label_loss: 0.3104, \n"
     ]
    },
    {
     "name": "stdout",
     "output_type": "stream",
     "text": [
      "epoch: 8, [batch: 6048 / 6720], examples_per_second: 3710.1333, train_label_loss: 0.3339, \n"
     ]
    },
    {
     "name": "stdout",
     "output_type": "stream",
     "text": [
      "=============================================================\n",
      "epoch: 8, source_val_acc_label: 0.8557, target_val_acc_label: 0.6948, source_val_label_loss: 0.3953, target_val_label_loss: 9.5948, \n",
      "=============================================================\n"
     ]
    },
    {
     "name": "stdout",
     "output_type": "stream",
     "text": [
      "New best\n"
     ]
    },
    {
     "name": "stdout",
     "output_type": "stream",
     "text": [
      "epoch: 9, [batch: 1 / 6720], examples_per_second: 4.4531, train_label_loss: 0.1145, \n"
     ]
    },
    {
     "name": "stdout",
     "output_type": "stream",
     "text": [
      "epoch: 9, [batch: 672 / 6720], examples_per_second: 3728.0878, train_label_loss: 0.3641, \n"
     ]
    },
    {
     "name": "stdout",
     "output_type": "stream",
     "text": [
      "epoch: 9, [batch: 1344 / 6720], examples_per_second: 3751.4922, train_label_loss: 0.3731, \n"
     ]
    },
    {
     "name": "stdout",
     "output_type": "stream",
     "text": [
      "epoch: 9, [batch: 2016 / 6720], examples_per_second: 3755.7619, train_label_loss: 0.5512, \n"
     ]
    },
    {
     "name": "stdout",
     "output_type": "stream",
     "text": [
      "epoch: 9, [batch: 2688 / 6720], examples_per_second: 3729.1115, train_label_loss: 0.1263, \n"
     ]
    },
    {
     "name": "stdout",
     "output_type": "stream",
     "text": [
      "epoch: 9, [batch: 3360 / 6720], examples_per_second: 3760.9765, train_label_loss: 0.2096, \n"
     ]
    },
    {
     "name": "stdout",
     "output_type": "stream",
     "text": [
      "epoch: 9, [batch: 4032 / 6720], examples_per_second: 3757.0196, train_label_loss: 0.1361, \n"
     ]
    },
    {
     "name": "stdout",
     "output_type": "stream",
     "text": [
      "epoch: 9, [batch: 4704 / 6720], examples_per_second: 3732.7943, train_label_loss: 0.2588, \n"
     ]
    },
    {
     "name": "stdout",
     "output_type": "stream",
     "text": [
      "epoch: 9, [batch: 5376 / 6720], examples_per_second: 3754.7246, train_label_loss: 0.2349, \n"
     ]
    },
    {
     "name": "stdout",
     "output_type": "stream",
     "text": [
      "epoch: 9, [batch: 6048 / 6720], examples_per_second: 3755.4089, train_label_loss: 0.4477, \n"
     ]
    },
    {
     "name": "stdout",
     "output_type": "stream",
     "text": [
      "=============================================================\n",
      "epoch: 9, source_val_acc_label: 0.8714, target_val_acc_label: 0.6834, source_val_label_loss: 0.3604, target_val_label_loss: 9.8442, \n",
      "=============================================================\n"
     ]
    },
    {
     "name": "stdout",
     "output_type": "stream",
     "text": [
      "epoch: 10, [batch: 1 / 6720], examples_per_second: 4.4374, train_label_loss: 0.2151, \n"
     ]
    },
    {
     "name": "stdout",
     "output_type": "stream",
     "text": [
      "epoch: 10, [batch: 672 / 6720], examples_per_second: 3725.8922, train_label_loss: 0.1640, \n"
     ]
    },
    {
     "name": "stdout",
     "output_type": "stream",
     "text": [
      "epoch: 10, [batch: 1344 / 6720], examples_per_second: 3760.8116, train_label_loss: 0.2747, \n"
     ]
    },
    {
     "name": "stdout",
     "output_type": "stream",
     "text": [
      "epoch: 10, [batch: 2016 / 6720], examples_per_second: 3731.1788, train_label_loss: 0.1586, \n"
     ]
    },
    {
     "name": "stdout",
     "output_type": "stream",
     "text": [
      "epoch: 10, [batch: 2688 / 6720], examples_per_second: 3708.7107, train_label_loss: 0.3202, \n"
     ]
    },
    {
     "name": "stdout",
     "output_type": "stream",
     "text": [
      "epoch: 10, [batch: 3360 / 6720], examples_per_second: 3719.8913, train_label_loss: 0.1572, \n"
     ]
    },
    {
     "name": "stdout",
     "output_type": "stream",
     "text": [
      "epoch: 10, [batch: 4032 / 6720], examples_per_second: 3733.8172, train_label_loss: 0.1483, \n"
     ]
    },
    {
     "name": "stdout",
     "output_type": "stream",
     "text": [
      "epoch: 10, [batch: 4704 / 6720], examples_per_second: 3728.2959, train_label_loss: 0.2122, \n"
     ]
    },
    {
     "name": "stdout",
     "output_type": "stream",
     "text": [
      "epoch: 10, [batch: 5376 / 6720], examples_per_second: 3759.0064, train_label_loss: 0.3231, \n"
     ]
    },
    {
     "name": "stdout",
     "output_type": "stream",
     "text": [
      "epoch: 10, [batch: 6048 / 6720], examples_per_second: 3767.3211, train_label_loss: 0.4968, \n"
     ]
    },
    {
     "name": "stdout",
     "output_type": "stream",
     "text": [
      "=============================================================\n",
      "epoch: 10, source_val_acc_label: 0.8661, target_val_acc_label: 0.6718, source_val_label_loss: 0.3680, target_val_label_loss: 11.2394, \n",
      "=============================================================\n"
     ]
    },
    {
     "name": "stdout",
     "output_type": "stream",
     "text": [
      "epoch: 11, [batch: 1 / 6720], examples_per_second: 4.3777, train_label_loss: 0.2848, \n"
     ]
    },
    {
     "name": "stdout",
     "output_type": "stream",
     "text": [
      "epoch: 11, [batch: 672 / 6720], examples_per_second: 3675.2089, train_label_loss: 0.1326, \n"
     ]
    },
    {
     "name": "stdout",
     "output_type": "stream",
     "text": [
      "epoch: 11, [batch: 1344 / 6720], examples_per_second: 3708.2580, train_label_loss: 0.5105, \n"
     ]
    },
    {
     "name": "stdout",
     "output_type": "stream",
     "text": [
      "epoch: 11, [batch: 2016 / 6720], examples_per_second: 3717.1730, train_label_loss: 0.3088, \n"
     ]
    },
    {
     "name": "stdout",
     "output_type": "stream",
     "text": [
      "epoch: 11, [batch: 2688 / 6720], examples_per_second: 3590.5937, train_label_loss: 0.1830, \n"
     ]
    },
    {
     "name": "stdout",
     "output_type": "stream",
     "text": [
      "epoch: 11, [batch: 3360 / 6720], examples_per_second: 3670.4022, train_label_loss: 0.3311, \n"
     ]
    },
    {
     "name": "stdout",
     "output_type": "stream",
     "text": [
      "epoch: 11, [batch: 4032 / 6720], examples_per_second: 3405.2664, train_label_loss: 0.5443, \n"
     ]
    },
    {
     "name": "stdout",
     "output_type": "stream",
     "text": [
      "epoch: 11, [batch: 4704 / 6720], examples_per_second: 2131.1173, train_label_loss: 0.0879, \n"
     ]
    },
    {
     "name": "stdout",
     "output_type": "stream",
     "text": [
      "epoch: 11, [batch: 5376 / 6720], examples_per_second: 1778.1311, train_label_loss: 0.3430, \n"
     ]
    },
    {
     "name": "stdout",
     "output_type": "stream",
     "text": [
      "epoch: 11, [batch: 6048 / 6720], examples_per_second: 1778.7941, train_label_loss: 0.2051, \n"
     ]
    },
    {
     "name": "stdout",
     "output_type": "stream",
     "text": [
      "=============================================================\n",
      "epoch: 11, source_val_acc_label: 0.8817, target_val_acc_label: 0.6876, source_val_label_loss: 0.3345, target_val_label_loss: 12.2590, \n",
      "=============================================================\n"
     ]
    },
    {
     "name": "stdout",
     "output_type": "stream",
     "text": [
      "epoch: 12, [batch: 1 / 6720], examples_per_second: 2.1334, train_label_loss: 0.4460, \n"
     ]
    },
    {
     "name": "stdout",
     "output_type": "stream",
     "text": [
      "epoch: 12, [batch: 672 / 6720], examples_per_second: 1785.0338, train_label_loss: 0.5865, \n"
     ]
    },
    {
     "name": "stdout",
     "output_type": "stream",
     "text": [
      "epoch: 12, [batch: 1344 / 6720], examples_per_second: 1777.4052, train_label_loss: 0.1664, \n"
     ]
    },
    {
     "name": "stdout",
     "output_type": "stream",
     "text": [
      "epoch: 12, [batch: 2016 / 6720], examples_per_second: 1778.4606, train_label_loss: 0.2945, \n"
     ]
    },
    {
     "name": "stdout",
     "output_type": "stream",
     "text": [
      "epoch: 12, [batch: 2688 / 6720], examples_per_second: 1756.5009, train_label_loss: 0.3405, \n"
     ]
    },
    {
     "name": "stdout",
     "output_type": "stream",
     "text": [
      "epoch: 12, [batch: 3360 / 6720], examples_per_second: 1789.5830, train_label_loss: 0.0905, \n"
     ]
    },
    {
     "name": "stdout",
     "output_type": "stream",
     "text": [
      "epoch: 12, [batch: 4032 / 6720], examples_per_second: 1794.7115, train_label_loss: 0.4259, \n"
     ]
    },
    {
     "name": "stdout",
     "output_type": "stream",
     "text": [
      "epoch: 12, [batch: 4704 / 6720], examples_per_second: 1797.6670, train_label_loss: 0.2436, \n"
     ]
    },
    {
     "name": "stdout",
     "output_type": "stream",
     "text": [
      "epoch: 12, [batch: 5376 / 6720], examples_per_second: 1793.2202, train_label_loss: 0.3278, \n"
     ]
    },
    {
     "name": "stdout",
     "output_type": "stream",
     "text": [
      "epoch: 12, [batch: 6048 / 6720], examples_per_second: 1792.8025, train_label_loss: 0.1965, \n"
     ]
    },
    {
     "name": "stdout",
     "output_type": "stream",
     "text": [
      "=============================================================\n",
      "epoch: 12, source_val_acc_label: 0.8841, target_val_acc_label: 0.6800, source_val_label_loss: 0.3228, target_val_label_loss: 14.4361, \n",
      "=============================================================\n"
     ]
    },
    {
     "name": "stdout",
     "output_type": "stream",
     "text": [
      "Patience (3) exhausted\n"
     ]
    }
   ],
   "source": [
    "###################################\n",
    "# train\n",
    "###################################\n",
    "jig = PTN_Train_Eval_Test_Jig(model, p.BEST_MODEL_PATH, p.device)\n",
    "\n",
    "jig.train(\n",
    "    train_iterable=datasets.source.processed.train,\n",
    "    source_val_iterable=datasets.source.processed.val,\n",
    "    target_val_iterable=datasets.target.processed.val,\n",
    "    num_epochs=p.n_epoch,\n",
    "    num_logs_per_epoch=p.NUM_LOGS_PER_EPOCH,\n",
    "    patience=p.patience,\n",
    "    optimizer=optimizer,\n",
    "    criteria_for_best=p.criteria_for_best,\n",
    ")"
   ]
  },
  {
   "cell_type": "code",
   "execution_count": 23,
   "id": "31e8fabf",
   "metadata": {
    "execution": {
     "iopub.execute_input": "2022-03-21T04:03:34.643819Z",
     "iopub.status.busy": "2022-03-21T04:03:34.643554Z",
     "iopub.status.idle": "2022-03-21T04:03:34.663651Z",
     "shell.execute_reply": "2022-03-21T04:03:34.664092Z"
    },
    "papermill": {
     "duration": 0.063913,
     "end_time": "2022-03-21T04:03:34.664221",
     "exception": false,
     "start_time": "2022-03-21T04:03:34.600308",
     "status": "completed"
    },
    "tags": []
   },
   "outputs": [],
   "source": [
    "total_experiment_time_secs = time.time() - start_time_secs"
   ]
  },
  {
   "cell_type": "code",
   "execution_count": 24,
   "id": "87b9595b",
   "metadata": {
    "execution": {
     "iopub.execute_input": "2022-03-21T04:03:34.757160Z",
     "iopub.status.busy": "2022-03-21T04:03:34.756873Z",
     "iopub.status.idle": "2022-03-21T04:07:01.146616Z",
     "shell.execute_reply": "2022-03-21T04:07:01.146364Z"
    },
    "papermill": {
     "duration": 206.436329,
     "end_time": "2022-03-21T04:07:01.146685",
     "exception": false,
     "start_time": "2022-03-21T04:03:34.710356",
     "status": "completed"
    },
    "tags": []
   },
   "outputs": [],
   "source": [
    "###################################\n",
    "# Evaluate the model\n",
    "###################################\n",
    "source_test_label_accuracy, source_test_label_loss = jig.test(datasets.source.processed.test)\n",
    "target_test_label_accuracy, target_test_label_loss = jig.test(datasets.target.processed.test)\n",
    "\n",
    "source_val_label_accuracy, source_val_label_loss = jig.test(datasets.source.processed.val)\n",
    "target_val_label_accuracy, target_val_label_loss = jig.test(datasets.target.processed.val)\n",
    "\n",
    "history = jig.get_history()\n",
    "\n",
    "total_epochs_trained = len(history[\"epoch_indices\"])\n",
    "\n",
    "val_dl = Iterable_Aggregator((datasets.source.original.val,datasets.target.original.val))\n",
    "\n",
    "confusion = ptn_confusion_by_domain_over_dataloader(model, p.device, val_dl)\n",
    "per_domain_accuracy = per_domain_accuracy_from_confusion(confusion)\n",
    "\n",
    "# Add a key to per_domain_accuracy for if it was a source domain\n",
    "for domain, accuracy in per_domain_accuracy.items():\n",
    "    per_domain_accuracy[domain] = {\n",
    "        \"accuracy\": accuracy,\n",
    "        \"source?\": domain in p.domains_source\n",
    "    }\n",
    "\n",
    "# Do an independent accuracy assesment JUST TO BE SURE!\n",
    "# _source_test_label_accuracy = independent_accuracy_assesment(model, datasets.source.processed.test, p.device)\n",
    "# _target_test_label_accuracy = independent_accuracy_assesment(model, datasets.target.processed.test, p.device)\n",
    "# _source_val_label_accuracy = independent_accuracy_assesment(model, datasets.source.processed.val, p.device)\n",
    "# _target_val_label_accuracy = independent_accuracy_assesment(model, datasets.target.processed.val, p.device)\n",
    "\n",
    "# assert(_source_test_label_accuracy == source_test_label_accuracy)\n",
    "# assert(_target_test_label_accuracy == target_test_label_accuracy)\n",
    "# assert(_source_val_label_accuracy == source_val_label_accuracy)\n",
    "# assert(_target_val_label_accuracy == target_val_label_accuracy)\n",
    "\n",
    "experiment = {\n",
    "    \"experiment_name\": p.experiment_name,\n",
    "    \"parameters\": dict(p),\n",
    "    \"results\": {\n",
    "        \"source_test_label_accuracy\": source_test_label_accuracy,\n",
    "        \"source_test_label_loss\": source_test_label_loss,\n",
    "        \"target_test_label_accuracy\": target_test_label_accuracy,\n",
    "        \"target_test_label_loss\": target_test_label_loss,\n",
    "        \"source_val_label_accuracy\": source_val_label_accuracy,\n",
    "        \"source_val_label_loss\": source_val_label_loss,\n",
    "        \"target_val_label_accuracy\": target_val_label_accuracy,\n",
    "        \"target_val_label_loss\": target_val_label_loss,\n",
    "        \"total_epochs_trained\": total_epochs_trained,\n",
    "        \"total_experiment_time_secs\": total_experiment_time_secs,\n",
    "        \"confusion\": confusion,\n",
    "        \"per_domain_accuracy\": per_domain_accuracy,\n",
    "    },\n",
    "    \"history\": history,\n",
    "    \"dataset_metrics\": get_dataset_metrics(datasets, \"ptn\"),\n",
    "}"
   ]
  },
  {
   "cell_type": "code",
   "execution_count": 25,
   "id": "54a21829",
   "metadata": {
    "execution": {
     "iopub.execute_input": "2022-03-21T04:07:01.231395Z",
     "iopub.status.busy": "2022-03-21T04:07:01.231124Z",
     "iopub.status.idle": "2022-03-21T04:07:01.355135Z",
     "shell.execute_reply": "2022-03-21T04:07:01.355564Z"
    },
    "papermill": {
     "duration": 0.165952,
     "end_time": "2022-03-21T04:07:01.355696",
     "exception": false,
     "start_time": "2022-03-21T04:07:01.189744",
     "status": "completed"
    },
    "tags": []
   },
   "outputs": [
    {
     "data": {
      "image/png": "[encoded data removed]",
      "text/plain": [
       "<Figure size 1080x504 with 1 Axes>"
      ]
     },
     "metadata": {
      "needs_background": "light"
     },
     "output_type": "display_data"
    }
   ],
   "source": [
    "ax = get_loss_curve(experiment)\n",
    "plt.show()"
   ]
  },
  {
   "cell_type": "code",
   "execution_count": 26,
   "id": "fd8a0f60",
   "metadata": {
    "execution": {
     "iopub.execute_input": "2022-03-21T04:07:01.441391Z",
     "iopub.status.busy": "2022-03-21T04:07:01.441133Z",
     "iopub.status.idle": "2022-03-21T04:07:01.588136Z",
     "shell.execute_reply": "2022-03-21T04:07:01.587849Z"
    },
    "papermill": {
     "duration": 0.188528,
     "end_time": "2022-03-21T04:07:01.588202",
     "exception": false,
     "start_time": "2022-03-21T04:07:01.399674",
     "status": "completed"
    },
    "tags": []
   },
   "outputs": [
    {
     "data": {
      "text/plain": [
       "<AxesSubplot:title={'center':'Results'}>"
      ]
     },
     "execution_count": 26,
     "metadata": {},
     "output_type": "execute_result"
    },
    {
     "data": {
      "image/png": "[encoded data removed]",
      "text/plain": [
       "<Figure size 1080x504 with 1 Axes>"
      ]
     },
     "metadata": {
      "needs_background": "light"
     },
     "output_type": "display_data"
    }
   ],
   "source": [
    "get_results_table(experiment)"
   ]
  },
  {
   "cell_type": "code",
   "execution_count": 27,
   "id": "cf8dc689",
   "metadata": {
    "execution": {
     "iopub.execute_input": "2022-03-21T04:07:01.680310Z",
     "iopub.status.busy": "2022-03-21T04:07:01.679889Z",
     "iopub.status.idle": "2022-03-21T04:07:01.828663Z",
     "shell.execute_reply": "2022-03-21T04:07:01.829178Z"
    },
    "papermill": {
     "duration": 0.198843,
     "end_time": "2022-03-21T04:07:01.829333",
     "exception": false,
     "start_time": "2022-03-21T04:07:01.630490",
     "status": "completed"
    },
    "tags": []
   },
   "outputs": [
    {
     "data": {
      "text/plain": [
       "<AxesSubplot:title={'center':'Per Domain Validation Accuracy'}, xlabel='domain'>"
      ]
     },
     "execution_count": 27,
     "metadata": {},
     "output_type": "execute_result"
    },
    {
     "data": {
      "image/png": "[encoded data removed]",
      "text/plain": [
       "<Figure size 1080x504 with 1 Axes>"
      ]
     },
     "metadata": {
      "needs_background": "light"
     },
     "output_type": "display_data"
    }
   ],
   "source": [
    "get_domain_accuracies(experiment)"
   ]
  },
  {
   "cell_type": "code",
   "execution_count": 28,
   "id": "a74ae082",
   "metadata": {
    "execution": {
     "iopub.execute_input": "2022-03-21T04:07:01.931425Z",
     "iopub.status.busy": "2022-03-21T04:07:01.931138Z",
     "iopub.status.idle": "2022-03-21T04:07:01.948249Z",
     "shell.execute_reply": "2022-03-21T04:07:01.948818Z"
    },
    "papermill": {
     "duration": 0.070149,
     "end_time": "2022-03-21T04:07:01.948991",
     "exception": false,
     "start_time": "2022-03-21T04:07:01.878842",
     "status": "completed"
    },
    "tags": []
   },
   "outputs": [
    {
     "name": "stdout",
     "output_type": "stream",
     "text": [
      "Source Test Label Accuracy: 0.8548177083333334 Target Test Label Accuracy: 0.6914546311254712\n",
      "Source Val Label Accuracy: 0.8557291666666667 Target Val Label Accuracy: 0.6947853812397148\n"
     ]
    }
   ],
   "source": [
    "print(\"Source Test Label Accuracy:\", experiment[\"results\"][\"source_test_label_accuracy\"], \"Target Test Label Accuracy:\", experiment[\"results\"][\"target_test_label_accuracy\"])\n",
    "print(\"Source Val Label Accuracy:\", experiment[\"results\"][\"source_val_label_accuracy\"], \"Target Val Label Accuracy:\", experiment[\"results\"][\"target_val_label_accuracy\"])"
   ]
  },
  {
   "cell_type": "code",
   "execution_count": 29,
   "id": "dacca602",
   "metadata": {
    "execution": {
     "iopub.execute_input": "2022-03-21T04:07:02.052744Z",
     "iopub.status.busy": "2022-03-21T04:07:02.052322Z",
     "iopub.status.idle": "2022-03-21T04:07:02.075388Z",
     "shell.execute_reply": "2022-03-21T04:07:02.075821Z"
    },
    "papermill": {
     "duration": 0.075061,
     "end_time": "2022-03-21T04:07:02.075972",
     "exception": false,
     "start_time": "2022-03-21T04:07:02.000911",
     "status": "completed"
    },
    "tags": [
     "experiment_json"
    ]
   },
   "outputs": [
    {
     "data": {
      "text/plain": [
       "'{\"experiment_name\": \"tl_3Av2:oracle.run1.framed -> cores+wisig\", \"parameters\": {\"experiment_name\": \"tl_3Av2:oracle.run1.framed -> cores+wisig\", \"device\": \"cuda\", \"lr\": 0.0001, \"x_shape\": [2, 200], \"n_shot\": 3, \"n_query\": 2, \"train_k_factor\": 3, \"val_k_factor\": 2, \"test_k_factor\": 2, \"torch_default_dtype\": \"torch.float32\", \"n_epoch\": 50, \"patience\": 3, \"criteria_for_best\": \"target_accuracy\", \"x_net\": [{\"class\": \"nnReshape\", \"kargs\": {\"shape\": [-1, 1, 2, 200]}}, {\"class\": \"Conv2d\", \"kargs\": {\"in_channels\": 1, \"out_channels\": 256, \"kernel_size\": [1, 7], \"bias\": false, \"padding\": [0, 3]}}, {\"class\": \"ReLU\", \"kargs\": {\"inplace\": true}}, {\"class\": \"BatchNorm2d\", \"kargs\": {\"num_features\": 256}}, {\"class\": \"Conv2d\", \"kargs\": {\"in_channels\": 256, \"out_channels\": 80, \"kernel_size\": [2, 7], \"bias\": true, \"padding\": [0, 3]}}, {\"class\": \"ReLU\", \"kargs\": {\"inplace\": true}}, {\"class\": \"BatchNorm2d\", \"kargs\": {\"num_features\": 80}}, {\"class\": \"Flatten\", \"kargs\": {}}, {\"class\": \"Linear\", \"kargs\": {\"in_features\": 16000, \"out_features\": 256}}, {\"class\": \"ReLU\", \"kargs\": {\"inplace\": true}}, {\"class\": \"BatchNorm1d\", \"kargs\": {\"num_features\": 256}}, {\"class\": \"Linear\", \"kargs\": {\"in_features\": 256, \"out_features\": 256}}], \"NUM_LOGS_PER_EPOCH\": 10, \"BEST_MODEL_PATH\": \"./best_model.pth\", \"n_way\": 16, \"datasets\": [{\"labels\": [\"1-10.\", \"1-11.\", \"1-15.\", \"1-16.\", \"1-17.\", \"1-18.\", \"1-19.\", \"10-4.\", \"10-7.\", \"11-1.\", \"11-14.\", \"11-17.\", \"11-20.\", \"11-7.\", \"13-20.\", \"13-8.\", \"14-10.\", \"14-11.\", \"14-14.\", \"14-7.\", \"15-1.\", \"15-20.\", \"16-1.\", \"16-16.\", \"17-10.\", \"17-11.\", \"17-2.\", \"19-1.\", \"19-16.\", \"19-19.\", \"19-20.\", \"19-3.\", \"2-10.\", \"2-11.\", \"2-17.\", \"2-18.\", \"2-20.\", \"2-3.\", \"2-4.\", \"2-5.\", \"2-6.\", \"2-7.\", \"2-8.\", \"3-13.\", \"3-18.\", \"3-3.\", \"4-1.\", \"4-10.\", \"4-11.\", \"4-19.\", \"5-5.\", \"6-15.\", \"7-10.\", \"7-14.\", \"8-18.\", \"8-20.\", \"8-3.\", \"8-8.\"], \"domains\": [1, 2, 3, 4, 5], \"num_examples_per_domain_per_label\": -1, \"pickle_path\": \"/mnt/wd500GB/CSC500/csc500-main/datasets/cores.stratified_ds.2022A.pkl\", \"source_or_target_dataset\": \"target\", \"x_transforms\": [\"unit_mag\", \"take_200\"], \"episode_transforms\": [], \"domain_prefix\": \"C_\"}, {\"labels\": [\"1-10\", \"1-12\", \"1-14\", \"1-16\", \"1-18\", \"1-19\", \"1-8\", \"10-11\", \"10-17\", \"10-4\", \"10-7\", \"11-1\", \"11-10\", \"11-19\", \"11-20\", \"11-4\", \"11-7\", \"12-19\", \"12-20\", \"12-7\", \"13-14\", \"13-18\", \"13-19\", \"13-20\", \"13-3\", \"13-7\", \"14-10\", \"14-11\", \"14-12\", \"14-13\", \"14-14\", \"14-19\", \"14-20\", \"14-7\", \"14-8\", \"14-9\", \"15-1\", \"15-19\", \"15-6\", \"16-1\", \"16-16\", \"16-19\", \"16-20\", \"17-10\", \"17-11\", \"18-1\", \"18-10\", \"18-11\", \"18-12\", \"18-13\", \"18-14\", \"18-15\", \"18-16\", \"18-17\", \"18-19\", \"18-2\", \"18-20\", \"18-4\", \"18-5\", \"18-7\", \"18-8\", \"18-9\", \"19-1\", \"19-10\", \"19-11\", \"19-12\", \"19-13\", \"19-14\", \"19-15\", \"19-19\", \"19-2\", \"19-20\", \"19-3\", \"19-4\", \"19-6\", \"19-7\", \"19-8\", \"19-9\", \"2-1\", \"2-13\", \"2-15\", \"2-3\", \"2-4\", \"2-5\", \"2-6\", \"2-7\", \"2-8\", \"20-1\", \"20-12\", \"20-14\", \"20-15\", \"20-16\", \"20-18\", \"20-19\", \"20-20\", \"20-3\", \"20-4\", \"20-5\", \"20-7\", \"20-8\", \"3-1\", \"3-13\", \"3-18\", \"3-2\", \"3-8\", \"4-1\", \"4-10\", \"4-11\", \"5-1\", \"5-5\", \"6-1\", \"6-15\", \"6-6\", \"7-10\", \"7-11\", \"7-12\", \"7-13\", \"7-14\", \"7-7\", \"7-8\", \"7-9\", \"8-1\", \"8-13\", \"8-14\", \"8-18\", \"8-20\", \"8-3\", \"8-8\", \"9-1\", \"9-7\"], \"domains\": [1, 2, 3, 4], \"num_examples_per_domain_per_label\": -1, \"pickle_path\": \"/mnt/wd500GB/CSC500/csc500-main/datasets/wisig.node3-19.stratified_ds.2022A.pkl\", \"source_or_target_dataset\": \"target\", \"x_transforms\": [\"unit_mag\", \"take_200\"], \"episode_transforms\": [], \"domain_prefix\": \"W_\"}, {\"labels\": [\"3123D52\", \"3123D65\", \"3123D79\", \"3123D80\", \"3123D54\", \"3123D70\", \"3123D7B\", \"3123D89\", \"3123D58\", \"3123D76\", \"3123D7D\", \"3123EFE\", \"3123D64\", \"3123D78\", \"3123D7E\", \"3124E4A\"], \"domains\": [32, 38, 8, 44, 14, 50, 20, 26], \"num_examples_per_domain_per_label\": 2000, \"pickle_path\": \"/mnt/wd500GB/CSC500/csc500-main/datasets/oracle.Run1_framed_2000Examples_stratified_ds.2022A.pkl\", \"source_or_target_dataset\": \"source\", \"x_transforms\": [\"unit_mag\", \"take_200\", \"resample_20Msps_to_25Msps\"], \"episode_transforms\": [], \"domain_prefix\": \"O_\"}], \"seed\": 500, \"dataset_seed\": 500, \"domains_source\": [\"O_32\", \"O_38\", \"O_8\", \"O_44\", \"O_14\", \"O_50\", \"O_20\", \"O_26\"], \"domains_target\": [\"C_1\", \"C_2\", \"C_3\", \"C_4\", \"C_5\", \"W_1\", \"W_2\", \"W_3\", \"W_4\"]}, \"results\": {\"source_test_label_accuracy\": 0.8548177083333334, \"source_test_label_loss\": 0.3984287977218628, \"target_test_label_accuracy\": 0.6914546311254712, \"target_test_label_loss\": 9.522830963134766, \"source_val_label_accuracy\": 0.8557291666666667, \"source_val_label_loss\": 0.3953409194946289, \"target_val_label_accuracy\": 0.6947853812397148, \"target_val_label_loss\": 9.594793319702148, \"total_epochs_trained\": 12, \"total_experiment_time_secs\": 2340.510678291321, \"confusion\": {\"O_50\": {\"7\": {\"7\": 219, \"5\": 7, \"6\": 8, \"13\": 6}, \"10\": {\"10\": 220, \"0\": 6, \"8\": 8, \"13\": 6}, \"0\": {\"0\": 209, \"10\": 13, \"2\": 17, \"13\": 1}, \"11\": {\"11\": 226, \"15\": 10, \"9\": 3, \"12\": 1}, \"2\": {\"2\": 216, \"0\": 23, \"1\": 1}, \"14\": {\"14\": 239, \"12\": 1}, \"9\": {\"11\": 9, \"9\": 225, \"12\": 6}, \"13\": {\"13\": 222, \"6\": 8, \"7\": 3, \"10\": 5, \"5\": 2}, \"8\": {\"8\": 236, \"10\": 4}, \"15\": {\"15\": 210, \"4\": 11, \"1\": 15, \"6\": 2, \"11\": 2}, \"4\": {\"4\": 153, \"5\": 40, \"15\": 31, \"6\": 5, \"7\": 7, \"1\": 2, \"13\": 1, \"11\": 1}, \"5\": {\"4\": 18, \"5\": 171, \"7\": 21, \"15\": 1, \"13\": 19, \"1\": 8, \"6\": 2}, \"3\": {\"3\": 239, \"8\": 1}, \"1\": {\"1\": 195, \"15\": 35, \"4\": 3, \"5\": 3, \"6\": 2, \"13\": 1, \"11\": 1}, \"6\": {\"6\": 219, \"15\": 4, \"5\": 6, \"13\": 6, \"7\": 3, \"4\": 2}, \"12\": {\"12\": 223, \"11\": 6, \"9\": 11}}, \"O_14\": {\"14\": {\"14\": 206, \"2\": 22, \"3\": 2, \"13\": 6, \"6\": 4}, \"6\": {\"13\": 50, \"6\": 189, \"14\": 1}, \"5\": {\"5\": 201, \"4\": 20, \"2\": 10, \"1\": 6, \"7\": 1, \"3\": 1, \"6\": 1}, \"15\": {\"15\": 240}, \"11\": {\"11\": 234, \"9\": 6}, \"8\": {\"8\": 240}, \"12\": {\"12\": 240}, \"1\": {\"1\": 236, \"5\": 4}, \"2\": {\"2\": 146, \"14\": 47, \"6\": 14, \"5\": 26, \"13\": 4, \"3\": 3}, \"13\": {\"13\": 163, \"6\": 63, \"14\": 5, \"5\": 3, \"2\": 5, \"4\": 1}, \"3\": {\"3\": 233, \"2\": 3, \"4\": 4}, \"0\": {\"0\": 233, \"3\": 2, \"11\": 1, \"10\": 3, \"14\": 1}, \"9\": {\"9\": 240}, \"4\": {\"4\": 229, \"5\": 10, \"1\": 1}, \"7\": {\"7\": 240}, \"10\": {\"10\": 240}}, \"O_32\": {\"4\": {\"4\": 190, \"13\": 8, \"2\": 30, \"0\": 1, \"7\": 9, \"5\": 2}, \"14\": {\"14\": 199, \"7\": 7, \"0\": 14, \"8\": 6, \"11\": 10, \"3\": 2, \"5\": 2}, \"5\": {\"5\": 143, \"7\": 62, \"3\": 6, \"0\": 1, \"13\": 11, \"8\": 9, \"4\": 5, \"14\": 3}, \"10\": {\"10\": 240}, \"13\": {\"4\": 12, \"13\": 206, \"11\": 3, \"7\": 6, \"3\": 6, \"5\": 3, \"8\": 3, \"0\": 1}, \"9\": {\"9\": 238, \"2\": 2}, \"6\": {\"6\": 240}, \"3\": {\"3\": 230, \"13\": 7, \"11\": 2, \"8\": 1}, \"15\": {\"15\": 240}, \"7\": {\"5\": 35, \"7\": 176, \"4\": 13, \"2\": 6, \"13\": 3, \"14\": 6, \"11\": 1}, \"12\": {\"12\": 240}, \"8\": {\"8\": 199, \"0\": 25, \"14\": 5, \"3\": 4, \"5\": 5, \"15\": 1, \"13\": 1}, \"11\": {\"11\": 236, \"13\": 2, \"3\": 1, \"14\": 1}, \"2\": {\"2\": 193, \"5\": 1, \"4\": 45, \"7\": 1}, \"1\": {\"1\": 240}, \"0\": {\"0\": 198, \"14\": 13, \"8\": 26, \"7\": 2, \"5\": 1}}, \"O_44\": {\"8\": {\"0\": 79, \"8\": 144, \"5\": 12, \"15\": 5}, \"11\": {\"11\": 235, \"13\": 3, \"6\": 2}, \"14\": {\"14\": 149, \"4\": 79, \"15\": 10, \"5\": 2}, \"10\": {\"10\": 208, \"2\": 17, \"1\": 11, \"12\": 2, \"7\": 2}, \"3\": {\"3\": 232, \"1\": 4, \"12\": 3, \"2\": 1}, \"15\": {\"15\": 196, \"8\": 3, \"0\": 13, \"4\": 3, \"5\": 8, \"14\": 17}, \"2\": {\"2\": 207, \"7\": 16, \"1\": 7, \"10\": 8, \"9\": 1, \"3\": 1}, \"12\": {\"12\": 228, \"1\": 10, \"3\": 2}, \"4\": {\"4\": 170, \"14\": 66, \"15\": 3, \"13\": 1}, \"1\": {\"1\": 178, \"10\": 18, \"12\": 23, \"3\": 14, \"2\": 7}, \"0\": {\"0\": 162, \"8\": 62, \"5\": 9, \"15\": 7}, \"9\": {\"13\": 19, \"9\": 121, \"7\": 72, \"6\": 26, \"10\": 1, \"2\": 1}, \"5\": {\"5\": 206, \"14\": 5, \"0\": 11, \"15\": 13, \"8\": 4, \"4\": 1}, \"6\": {\"13\": 35, \"6\": 186, \"9\": 13, \"7\": 6}, \"7\": {\"7\": 169, \"9\": 48, \"6\": 4, \"2\": 17, \"10\": 1, \"1\": 1}, \"13\": {\"13\": 176, \"9\": 23, \"6\": 32, \"11\": 6, \"7\": 3}}, \"O_8\": {\"13\": {\"13\": 129, \"0\": 30, \"10\": 31, \"4\": 32, \"7\": 2, \"14\": 7, \"6\": 9}, \"3\": {\"3\": 236, \"2\": 3, \"12\": 1}, \"15\": {\"15\": 221, \"12\": 19}, \"4\": {\"4\": 178, \"13\": 34, \"6\": 15, \"14\": 10, \"10\": 3}, \"7\": {\"7\": 212, \"13\": 1, \"6\": 22, \"0\": 5}, \"2\": {\"2\": 227, \"3\": 4, \"7\": 9}, \"1\": {\"1\": 225, \"11\": 14, \"14\": 1}, \"0\": {\"7\": 5, \"0\": 217, \"4\": 4, \"13\": 13, \"10\": 1}, \"12\": {\"12\": 193, \"15\": 35, \"3\": 12}, \"6\": {\"13\": 8, \"6\": 193, \"7\": 27, \"4\": 11, \"0\": 1}, \"11\": {\"11\": 230, \"1\": 10}, \"9\": {\"9\": 240}, \"5\": {\"5\": 231, \"14\": 1, \"10\": 6, \"1\": 2}, \"10\": {\"10\": 207, \"14\": 17, \"13\": 10, \"4\": 5, \"5\": 1}, \"14\": {\"14\": 202, \"13\": 5, \"4\": 9, \"10\": 17, \"1\": 7}, \"8\": {\"8\": 239, \"15\": 1}}, \"O_20\": {\"6\": {\"6\": 224, \"14\": 15, \"7\": 1}, \"11\": {\"11\": 240}, \"5\": {\"5\": 210, \"0\": 18, \"1\": 7, \"4\": 1, \"12\": 3, \"15\": 1}, \"14\": {\"14\": 231, \"6\": 6, \"10\": 3}, \"2\": {\"2\": 171, \"13\": 9, \"9\": 31, \"12\": 8, \"7\": 11, \"3\": 8, \"1\": 2}, \"7\": {\"2\": 17, \"7\": 214, \"3\": 4, \"8\": 2, \"13\": 1, \"9\": 2}, \"3\": {\"3\": 148, \"2\": 18, \"12\": 37, \"9\": 20, \"1\": 3, \"7\": 6, \"4\": 7, \"5\": 1}, \"4\": {\"4\": 217, \"8\": 17, \"3\": 5, \"7\": 1}, \"9\": {\"9\": 168, \"2\": 36, \"12\": 6, \"3\": 28, \"7\": 2}, \"12\": {\"12\": 144, \"1\": 39, \"3\": 34, \"9\": 10, \"2\": 7, \"5\": 5, \"13\": 1}, \"0\": {\"5\": 29, \"0\": 176, \"15\": 30, \"13\": 2, \"1\": 2, \"8\": 1}, \"10\": {\"10\": 229, \"14\": 10, \"4\": 1}, \"8\": {\"8\": 223, \"7\": 5, \"4\": 10, \"14\": 2}, \"13\": {\"13\": 231, \"7\": 1, \"2\": 7, \"1\": 1}, \"1\": {\"1\": 180, \"12\": 38, \"5\": 9, \"15\": 9, \"0\": 3, \"3\": 1}, \"15\": {\"15\": 199, \"0\": 23, \"1\": 16, \"13\": 2}}, \"O_38\": {\"3\": {\"3\": 235, \"5\": 1, \"0\": 4}, \"8\": {\"8\": 173, \"15\": 4, \"5\": 41, \"0\": 11, \"7\": 9, \"10\": 2}, \"0\": {\"0\": 183, \"7\": 17, \"8\": 17, \"10\": 7, \"5\": 6, \"3\": 8, \"13\": 2}, \"2\": {\"2\": 221, \"14\": 16, \"13\": 3}, \"4\": {\"4\": 237, \"12\": 2, \"10\": 1}, \"7\": {\"7\": 211, \"5\": 18, \"0\": 5, \"8\": 6}, \"12\": {\"12\": 238, \"4\": 1, \"14\": 1}, \"6\": {\"6\": 238, \"5\": 1, \"9\": 1}, \"15\": {\"15\": 215, \"8\": 9, \"1\": 14, \"13\": 1, \"5\": 1}, \"11\": {\"11\": 238, \"4\": 1, \"10\": 1}, \"9\": {\"9\": 236, \"3\": 1, \"5\": 2, \"6\": 1}, \"14\": {\"14\": 229, \"12\": 2, \"2\": 8, \"10\": 1}, \"10\": {\"10\": 212, \"0\": 12, \"13\": 8, \"7\": 3, \"4\": 3, \"8\": 1, \"14\": 1}, \"5\": {\"5\": 141, \"8\": 59, \"7\": 23, \"9\": 7, \"15\": 6, \"0\": 2, \"10\": 1, \"13\": 1}, \"1\": {\"1\": 237, \"15\": 3}, \"13\": {\"10\": 8, \"13\": 219, \"8\": 2, \"0\": 4, \"2\": 7}}, \"O_26\": {\"5\": {\"5\": 223, \"2\": 9, \"13\": 5, \"7\": 1, \"9\": 1, \"15\": 1}, \"8\": {\"8\": 135, \"14\": 11, \"0\": 17, \"10\": 32, \"4\": 22, \"1\": 1, \"15\": 6, \"7\": 13, \"6\": 3}, \"4\": {\"4\": 183, \"8\": 16, \"10\": 8, \"7\": 9, \"14\": 11, \"0\": 10, \"1\": 3}, \"12\": {\"12\": 240}, \"6\": {\"6\": 209, \"10\": 13, \"15\": 7, \"8\": 3, \"0\": 4, \"9\": 4}, \"7\": {\"3\": 28, \"2\": 15, \"7\": 175, \"8\": 12, \"4\": 10}, \"10\": {\"10\": 136, \"6\": 5, \"15\": 7, \"0\": 57, \"8\": 24, \"4\": 1, \"14\": 10}, \"0\": {\"4\": 27, \"0\": 105, \"10\": 47, \"14\": 30, \"8\": 26, \"15\": 1, \"7\": 2, \"1\": 1, \"6\": 1}, \"15\": {\"15\": 170, \"6\": 10, \"9\": 36, \"7\": 3, \"8\": 9, \"10\": 3, \"13\": 3, \"2\": 3, \"5\": 3}, \"9\": {\"9\": 202, \"15\": 27, \"6\": 4, \"2\": 1, \"13\": 5, \"5\": 1}, \"11\": {\"11\": 240}, \"14\": {\"14\": 164, \"8\": 5, \"0\": 34, \"1\": 15, \"10\": 13, \"4\": 8, \"7\": 1}, \"2\": {\"3\": 64, \"2\": 130, \"9\": 4, \"7\": 13, \"5\": 13, \"15\": 8, \"8\": 4, \"13\": 3, \"4\": 1}, \"13\": {\"13\": 203, \"5\": 15, \"2\": 8, \"9\": 11, \"15\": 3}, \"3\": {\"3\": 196, \"7\": 14, \"2\": 30}, \"1\": {\"1\": 222, \"14\": 14, \"4\": 2, \"0\": 1, \"7\": 1}}, \"W_3\": {\"99\": {\"99\": 27, \"86\": 1, \"25\": 1, \"4\": 2, \"97\": 1, \"32\": 1, \"10\": 1, \"19\": 1, \"40\": 1}, \"8\": {\"47\": 1, \"86\": 1, \"8\": 55, \"105\": 1, \"4\": 2, \"72\": 1, \"101\": 1, \"7\": 8, \"10\": 9, \"124\": 3, \"98\": 5, \"108\": 9, \"15\": 1, \"5\": 2, \"12\": 11, \"111\": 3, \"114\": 2, \"35\": 1, \"128\": 1, \"71\": 2, \"30\": 2, \"88\": 1, \"0\": 2}, \"65\": {\"117\": 1, \"65\": 7, \"112\": 1, \"83\": 1, \"7\": 2}, \"117\": {\"117\": 68, \"18\": 9, \"26\": 14, \"118\": 2, \"109\": 3, \"39\": 7, \"11\": 1, \"102\": 3, \"126\": 1, \"113\": 1, \"14\": 1, \"2\": 2}, \"18\": {\"18\": 104, \"26\": 9, \"69\": 2, \"109\": 1, \"11\": 1, \"2\": 1, \"81\": 2, \"39\": 2, \"126\": 2}, \"39\": {\"18\": 6, \"39\": 70, \"23\": 2, \"121\": 1, \"21\": 3, \"2\": 2, \"126\": 9, \"117\": 3, \"122\": 1, \"118\": 2, \"113\": 5, \"93\": 2, \"16\": 1, \"11\": 1}, \"102\": {\"39\": 1, \"102\": 82, \"62\": 5, \"16\": 7, \"84\": 4, \"69\": 7, \"118\": 4, \"87\": 1, \"33\": 8, \"119\": 1, \"82\": 1, \"14\": 1, \"93\": 2}, \"76\": {\"11\": 2, \"76\": 11, \"50\": 1, \"16\": 2}, \"101\": {\"101\": 22, \"98\": 1, \"34\": 2, \"7\": 4, \"8\": 2, \"77\": 1, \"0\": 2, \"27\": 1, \"95\": 2, \"109\": 1, \"30\": 3, \"94\": 1, \"73\": 4, \"111\": 2, \"42\": 1, \"2\": 1, \"12\": 2}, \"57\": {\"57\": 20}, \"86\": {\"86\": 10, \"5\": 1, \"122\": 1, \"31\": 1, \"1\": 2, \"112\": 1, \"88\": 2, \"9\": 1, \"10\": 1, \"110\": 2, \"114\": 1, \"120\": 1, \"108\": 1, \"32\": 1, \"49\": 2}, \"11\": {\"11\": 58, \"14\": 13, \"39\": 4, \"69\": 1, \"62\": 6, \"70\": 1, \"16\": 10, \"43\": 5, \"107\": 3, \"109\": 6, \"102\": 3, \"90\": 2, \"113\": 3, \"93\": 3, \"88\": 3, \"31\": 1, \"100\": 1, \"67\": 1, \"23\": 2, \"101\": 1, \"118\": 1, \"122\": 1, \"87\": 3}, \"98\": {\"98\": 70, \"49\": 1, \"91\": 2, \"83\": 3, \"6\": 2, \"36\": 3, \"77\": 2, \"59\": 1, \"42\": 2, \"52\": 3, \"30\": 7, \"27\": 1, \"0\": 11, \"11\": 1, \"8\": 5, \"12\": 3, \"111\": 3, \"24\": 2, \"68\": 1, \"72\": 1, \"106\": 2, \"90\": 1, \"94\": 1}, \"42\": {\"86\": 1, \"98\": 2, \"24\": 1, \"35\": 1, \"71\": 1, \"108\": 1, \"4\": 1, \"42\": 4, \"106\": 1, \"85\": 2, \"3\": 2, \"105\": 1, \"73\": 1, \"83\": 1, \"49\": 3, \"111\": 1, \"112\": 1, \"15\": 1, \"7\": 1, \"5\": 1}, \"47\": {\"98\": 3, \"47\": 4, \"83\": 1, \"3\": 1, \"68\": 1, \"60\": 1, \"71\": 1}, \"49\": {\"57\": 1, \"102\": 1, \"49\": 2, \"42\": 3, \"20\": 1, \"87\": 2, \"105\": 1, \"124\": 1, \"4\": 1, \"41\": 2, \"47\": 1, \"29\": 2, \"114\": 1, \"0\": 1, \"92\": 1, \"28\": 1, \"110\": 1, \"88\": 1}, \"111\": {\"73\": 4, \"37\": 1, \"111\": 90, \"12\": 10, \"124\": 7, \"0\": 4, \"125\": 2, \"30\": 4, \"98\": 3, \"8\": 3, \"109\": 1, \"97\": 1, \"101\": 1, \"106\": 1}, \"36\": {\"36\": 64, \"35\": 1, \"24\": 5, \"0\": 2, \"27\": 5, \"106\": 7, \"94\": 3, \"15\": 12, \"125\": 7, \"98\": 3, \"30\": 2, \"111\": 2, \"9\": 1, \"73\": 1, \"10\": 1}, \"124\": {\"124\": 54, \"83\": 2, \"11\": 1, \"98\": 5, \"108\": 6, \"105\": 1, \"5\": 4, \"8\": 7, \"0\": 3, \"127\": 2, \"111\": 4, \"106\": 1, \"10\": 2, \"42\": 2, \"41\": 1, \"71\": 1, \"88\": 2, \"73\": 3, \"3\": 1, \"12\": 1, \"93\": 1, \"30\": 2}, \"122\": {\"122\": 20, \"110\": 3, \"21\": 1, \"100\": 1, \"84\": 4, \"11\": 4, \"1\": 2, \"114\": 1, \"129\": 2, \"40\": 3, \"90\": 4, \"70\": 1, \"62\": 1, \"107\": 3, \"96\": 1, \"99\": 2, \"34\": 1, \"17\": 1, \"93\": 1, \"87\": 1, \"53\": 1, \"109\": 1, \"39\": 1}, \"93\": {\"92\": 2, \"93\": 80, \"33\": 10, \"43\": 1, \"39\": 2, \"1\": 1, \"113\": 8, \"109\": 4, \"84\": 2, \"87\": 4, \"102\": 5, \"62\": 1, \"16\": 9, \"11\": 6, \"89\": 1, \"120\": 1, \"78\": 1, \"90\": 1, \"88\": 1, \"118\": 2}, \"89\": {\"69\": 6, \"89\": 12, \"82\": 1, \"109\": 2, \"102\": 2, \"26\": 1, \"62\": 2, \"2\": 1, \"17\": 1}, \"51\": {\"51\": 16}, \"73\": {\"111\": 3, \"34\": 1, \"73\": 21, \"7\": 2, \"8\": 2, \"124\": 1, \"12\": 2, \"0\": 2, \"30\": 2, \"42\": 1, \"21\": 1, \"6\": 2}, \"45\": {\"93\": 1, \"45\": 10, \"82\": 3, \"32\": 1, \"115\": 1}, \"5\": {\"1\": 3, \"121\": 1, \"5\": 62, \"128\": 1, \"127\": 5, \"71\": 7, \"122\": 1, \"107\": 1, \"4\": 7, \"108\": 3, \"113\": 1, \"105\": 8, \"12\": 1, \"40\": 1, \"126\": 1, \"0\": 1, \"3\": 2, \"18\": 1, \"88\": 1, \"87\": 1, \"114\": 2, \"109\": 1}, \"69\": {\"69\": 60, \"102\": 5, \"93\": 1, \"26\": 4, \"118\": 3, \"113\": 1, \"14\": 3, \"126\": 1, \"107\": 1, \"62\": 2, \"84\": 2, \"16\": 1}, \"26\": {\"26\": 109, \"121\": 1, \"2\": 1, \"39\": 3, \"118\": 2, \"117\": 6, \"123\": 1, \"69\": 1, \"102\": 1, \"18\": 5}, \"1\": {\"1\": 52, \"114\": 16, \"71\": 2, \"100\": 2, \"86\": 2, \"9\": 1, \"40\": 3, \"122\": 2, \"105\": 6, \"110\": 5, \"87\": 5, \"16\": 1, \"76\": 1, \"29\": 1, \"5\": 1, \"57\": 1, \"107\": 2, \"84\": 2, \"118\": 1, \"21\": 1, \"3\": 1}, \"92\": {\"92\": 22, \"93\": 3, \"11\": 3, \"120\": 2, \"96\": 1, \"64\": 1}, \"96\": {\"33\": 2, \"96\": 10, \"70\": 1, \"43\": 1, \"116\": 1, \"64\": 1, \"113\": 4}, \"85\": {\"85\": 28, \"108\": 1, \"4\": 1, \"10\": 1, \"72\": 1, \"9\": 1, \"122\": 1, \"41\": 2}, \"114\": {\"1\": 7, \"114\": 90, \"105\": 9, \"110\": 7, \"16\": 1, \"129\": 1, \"87\": 2, \"40\": 3, \"88\": 1, \"4\": 1, \"127\": 1, \"107\": 1, \"3\": 2}, \"50\": {\"50\": 10, \"1\": 1, \"110\": 3, \"74\": 1, \"60\": 1}, \"81\": {\"81\": 29, \"63\": 1, \"26\": 1, \"18\": 1}, \"2\": {\"81\": 1, \"2\": 12, \"28\": 1, \"92\": 1, \"96\": 1, \"117\": 3, \"69\": 1, \"43\": 1, \"39\": 1, \"64\": 1, \"14\": 2, \"102\": 1, \"109\": 2}, \"33\": {\"33\": 133, \"102\": 3, \"16\": 1, \"93\": 1, \"62\": 3, \"82\": 2, \"21\": 1, \"11\": 1, \"39\": 1}, \"31\": {\"31\": 20}, \"90\": {\"31\": 1, \"90\": 109, \"87\": 2, \"11\": 1, \"109\": 1, \"29\": 2, \"23\": 1, \"44\": 1}, \"17\": {\"1\": 2, \"120\": 2, \"63\": 2, \"17\": 1, \"11\": 2, \"43\": 1, \"95\": 1, \"33\": 1, \"105\": 1, \"18\": 1, \"113\": 1, \"110\": 1}, \"116\": {\"50\": 1, \"116\": 18, \"102\": 1, \"33\": 1, \"113\": 1, \"109\": 1, \"43\": 1, \"57\": 1, \"78\": 1, \"92\": 2}, \"91\": {\"91\": 16, \"77\": 1, \"12\": 2, \"70\": 1, \"98\": 2, \"31\": 1, \"8\": 1}, \"120\": {\"120\": 20}, \"128\": {\"128\": 13, \"4\": 1, \"87\": 1, \"5\": 2, \"22\": 1, \"1\": 2, \"40\": 2, \"10\": 2, \"103\": 1, \"127\": 1, \"122\": 1, \"99\": 2, \"129\": 1, \"108\": 1, \"70\": 1}, \"78\": {\"120\": 2, \"78\": 1, \"84\": 1, \"113\": 2, \"114\": 2, \"105\": 1, \"33\": 1, \"39\": 2, \"116\": 2, \"28\": 1, \"89\": 1}, \"58\": {\"15\": 2, \"58\": 9, \"30\": 1, \"73\": 1, \"97\": 1, \"59\": 1, \"72\": 1}, \"23\": {\"128\": 1, \"120\": 1, \"24\": 1, \"68\": 1, \"39\": 1, \"46\": 1, \"19\": 2, \"91\": 1, \"121\": 1, \"56\": 1, \"117\": 3, \"126\": 2, \"81\": 1, \"108\": 1, \"127\": 1, \"123\": 2, \"118\": 3, \"42\": 1, \"43\": 1, \"17\": 1, \"112\": 2, \"95\": 1, \"85\": 1, \"113\": 1}, \"15\": {\"15\": 52, \"6\": 2, \"24\": 4, \"25\": 1, \"123\": 1, \"88\": 1, \"58\": 1, \"73\": 1, \"83\": 2, \"125\": 7, \"98\": 5, \"94\": 4, \"27\": 4, \"106\": 5, \"36\": 6, \"72\": 1, \"34\": 1, \"30\": 2, \"52\": 2, \"111\": 1, \"21\": 1}, \"74\": {\"74\": 16}, \"34\": {\"23\": 1, \"106\": 1, \"100\": 2, \"52\": 1, \"51\": 2, \"34\": 6, \"6\": 5, \"25\": 1, \"27\": 1, \"24\": 1, \"122\": 1, \"110\": 1, \"22\": 1, \"98\": 1, \"43\": 1, \"15\": 2, \"62\": 1, \"86\": 1, \"129\": 1, \"94\": 1}, \"103\": {\"103\": 13, \"128\": 1, \"99\": 1, \"49\": 1}, \"106\": {\"15\": 7, \"106\": 47, \"77\": 1, \"27\": 6, \"25\": 2, \"42\": 2, \"73\": 2, \"125\": 5, \"36\": 2, \"124\": 3, \"111\": 6, \"30\": 2, \"94\": 1, \"0\": 4, \"97\": 1, \"59\": 1, \"51\": 1, \"8\": 1, \"75\": 1, \"7\": 2, \"108\": 1, \"98\": 2}, \"44\": {\"44\": 66, \"120\": 1, \"90\": 5}, \"9\": {\"34\": 1, \"128\": 1, \"105\": 1, \"9\": 16, \"101\": 2, \"46\": 1, \"85\": 2, \"129\": 1, \"65\": 1, \"93\": 1, \"68\": 1, \"57\": 1, \"1\": 1, \"55\": 1, \"127\": 1}, \"97\": {\"15\": 1, \"97\": 12, \"52\": 1, \"72\": 1, \"98\": 2, \"12\": 1, \"106\": 1, \"75\": 1}, \"123\": {\"123\": 11, \"27\": 1, \"93\": 1, \"18\": 1, \"83\": 1, \"102\": 1}, \"6\": {\"15\": 2, \"6\": 17, \"101\": 1, \"25\": 2, \"125\": 4, \"0\": 1, \"90\": 1, \"54\": 1, \"24\": 2, \"106\": 1}, \"68\": {\"68\": 6, \"83\": 1, \"77\": 2, \"127\": 1, \"27\": 1, \"12\": 1, \"111\": 1, \"9\": 3}, \"24\": {\"30\": 2, \"15\": 4, \"106\": 1, \"24\": 14, \"35\": 1, \"59\": 2, \"27\": 1, \"12\": 2, \"83\": 4, \"88\": 2, \"99\": 1, \"98\": 4, \"0\": 1, \"36\": 1, \"37\": 1, \"25\": 1, \"72\": 1, \"94\": 3, \"91\": 1, \"6\": 1}, \"21\": {\"21\": 34, \"126\": 2, \"39\": 2, \"11\": 1, \"41\": 1, \"121\": 1, \"109\": 2, \"43\": 3, \"31\": 1, \"15\": 1}, \"83\": {\"83\": 19, \"118\": 1, \"125\": 2, \"113\": 1, \"51\": 1}, \"60\": {\"60\": 14, \"87\": 1, \"62\": 1, \"128\": 1, \"20\": 1, \"80\": 1, \"127\": 1, \"66\": 1, \"22\": 1, \"28\": 1, \"110\": 1, \"109\": 1, \"122\": 1, \"57\": 1, \"44\": 1}, \"87\": {\"87\": 56, \"20\": 1, \"114\": 8, \"88\": 2, \"33\": 9, \"122\": 1, \"40\": 2, \"11\": 4, \"84\": 9, \"43\": 1, \"109\": 4, \"32\": 1, \"90\": 5, \"107\": 3, \"1\": 3, \"78\": 2, \"28\": 1, \"62\": 2, \"102\": 1, \"93\": 1, \"105\": 1, \"16\": 2, \"5\": 1}, \"30\": {\"30\": 37, \"98\": 5, \"12\": 1, \"83\": 1, \"18\": 1, \"73\": 1, \"58\": 1, \"106\": 2, \"10\": 1, \"117\": 1, \"15\": 4, \"7\": 5, \"94\": 4, \"27\": 1, \"0\": 2, \"111\": 6, \"108\": 1, \"11\": 1, \"8\": 3, \"26\": 1, \"125\": 1, \"4\": 1, \"5\": 2, \"101\": 1}, \"43\": {\"87\": 2, \"84\": 3, \"100\": 3, \"43\": 25, \"70\": 1, \"62\": 4, \"120\": 1, \"16\": 2, \"102\": 2, \"109\": 3, \"32\": 1, \"121\": 2, \"33\": 2, \"21\": 2, \"11\": 1, \"39\": 1, \"90\": 1}, \"115\": {\"87\": 1, \"115\": 11, \"50\": 1, \"88\": 1, \"129\": 1, \"105\": 1}, \"40\": {\"40\": 68, \"100\": 1, \"62\": 2, \"110\": 2, \"1\": 3, \"105\": 7, \"84\": 1, \"114\": 7, \"129\": 1, \"12\": 1, \"126\": 1, \"87\": 3, \"107\": 10, \"5\": 2, \"43\": 1, \"16\": 1, \"69\": 1, \"122\": 2, \"99\": 1, \"4\": 2, \"3\": 1, \"71\": 1, \"88\": 1}, \"112\": {\"112\": 9, \"95\": 1, \"68\": 3, \"3\": 1, \"97\": 1, \"35\": 1}, \"66\": {\"66\": 10, \"34\": 1, \"85\": 3, \"110\": 1, \"24\": 1}, \"110\": {\"40\": 2, \"110\": 36, \"50\": 3, \"57\": 1, \"114\": 10, \"28\": 2, \"99\": 2, \"44\": 1, \"128\": 2, \"90\": 5, \"129\": 1, \"89\": 1, \"93\": 1, \"84\": 1, \"87\": 1, \"122\": 3, \"1\": 6, \"22\": 2, \"86\": 1, \"62\": 2, \"103\": 1, \"23\": 1, \"71\": 1, \"88\": 1, \"105\": 1, \"4\": 2, \"70\": 1, \"108\": 1}, \"3\": {\"3\": 72, \"108\": 3, \"127\": 4, \"5\": 2, \"101\": 1, \"110\": 3, \"8\": 3, \"7\": 2, \"70\": 1, \"106\": 1, \"114\": 9, \"10\": 4, \"126\": 1, \"4\": 2, \"71\": 3, \"85\": 1, \"19\": 1, \"105\": 1}, \"20\": {\"79\": 2, \"20\": 10, \"103\": 1, \"62\": 1, \"11\": 1, \"60\": 1}, \"28\": {\"28\": 16}, \"84\": {\"84\": 72, \"28\": 1, \"33\": 8, \"126\": 2, \"102\": 3, \"62\": 3, \"43\": 1, \"87\": 5, \"122\": 3, \"86\": 1, \"1\": 1, \"69\": 1, \"114\": 2, \"109\": 1, \"16\": 2, \"39\": 1, \"107\": 1}, \"79\": {\"79\": 10, \"28\": 1, \"115\": 1}, \"118\": {\"43\": 3, \"118\": 41, \"102\": 6, \"116\": 1, \"109\": 7, \"84\": 1, \"64\": 1, \"33\": 1, \"18\": 1, \"69\": 2, \"39\": 4, \"26\": 10, \"93\": 4, \"98\": 1, \"113\": 4, \"16\": 5, \"62\": 1, \"96\": 1, \"67\": 1, \"11\": 2, \"122\": 1, \"117\": 2}, \"56\": {\"56\": 7, \"36\": 1, \"72\": 1, \"88\": 1, \"46\": 1, \"125\": 1}, \"48\": {\"48\": 4, \"62\": 1, \"81\": 1, \"63\": 1, \"16\": 1, \"108\": 1, \"43\": 1, \"115\": 1, \"109\": 1, \"20\": 1, \"79\": 1, \"119\": 2}, \"77\": {\"56\": 1, \"7\": 1, \"98\": 2, \"112\": 1, \"77\": 6, \"68\": 1, \"101\": 1, \"10\": 1, \"72\": 1, \"19\": 1}, \"14\": {\"62\": 6, \"14\": 50, \"11\": 4, \"114\": 2, \"43\": 4, \"32\": 1, \"40\": 2, \"16\": 3, \"69\": 3, \"116\": 1, \"102\": 1, \"118\": 1, \"84\": 2}, \"64\": {\"64\": 20}, \"67\": {\"67\": 15, \"122\": 1}, \"62\": {\"62\": 89, \"43\": 2, \"87\": 4, \"39\": 1, \"33\": 8, \"84\": 5, \"93\": 1, \"102\": 1, \"11\": 2, \"88\": 1, \"113\": 1, \"109\": 3, \"29\": 1, \"5\": 1, \"110\": 1, \"118\": 1, \"16\": 1, \"14\": 1}, \"75\": {\"106\": 1, \"75\": 12, \"52\": 1, \"125\": 1, \"36\": 1}, \"63\": {\"63\": 13, \"20\": 1, \"83\": 1, \"60\": 1}, \"7\": {\"7\": 89, \"19\": 1, \"95\": 1, \"128\": 1, \"0\": 2, \"73\": 2, \"98\": 1, \"108\": 5, \"8\": 6, \"12\": 2, \"127\": 1, \"3\": 1}, \"125\": {\"125\": 75, \"75\": 1, \"27\": 5, \"24\": 2, \"94\": 4, \"18\": 1, \"15\": 3, \"36\": 7, \"111\": 2, \"31\": 1, \"42\": 1, \"93\": 1, \"6\": 1}, \"37\": {\"37\": 16}, \"121\": {\"121\": 15, \"120\": 1, \"69\": 1, \"13\": 1, \"27\": 1, \"117\": 3, \"81\": 1, \"126\": 1, \"43\": 1, \"2\": 2, \"39\": 1, \"21\": 2, \"102\": 2}, \"16\": {\"16\": 50, \"93\": 5, \"33\": 8, \"14\": 2, \"102\": 11, \"11\": 6, \"100\": 1, \"32\": 1, \"109\": 2, \"84\": 1, \"39\": 1, \"118\": 8, \"62\": 3, \"96\": 1, \"122\": 1, \"1\": 1, \"117\": 1, \"26\": 1}, \"35\": {\"42\": 1, \"35\": 6, \"0\": 1, \"108\": 1, \"59\": 1, \"112\": 1, \"75\": 1}, \"32\": {\"16\": 3, \"32\": 19, \"102\": 1, \"62\": 2, \"14\": 1, \"4\": 1, \"50\": 1, \"99\": 2, \"1\": 1, \"128\": 1}, \"46\": {\"46\": 10, \"23\": 1, \"5\": 1, \"99\": 1, \"38\": 1, \"114\": 2}, \"70\": {\"19\": 1, \"7\": 1, \"28\": 2, \"92\": 2, \"88\": 4, \"127\": 3, \"70\": 11, \"35\": 2, \"87\": 3, \"108\": 3, \"85\": 1, \"8\": 5, \"11\": 5, \"105\": 3, \"4\": 1, \"44\": 1, \"111\": 1, \"90\": 4, \"109\": 3, \"39\": 1, \"71\": 1, \"42\": 1, \"46\": 1, \"122\": 1, \"9\": 1, \"99\": 1, \"3\": 1, \"121\": 1, \"12\": 3, \"10\": 1, \"5\": 3}, \"129\": {\"84\": 1, \"129\": 15, \"122\": 1, \"105\": 2, \"60\": 1, \"100\": 1, \"114\": 4, \"10\": 1, \"4\": 2, \"62\": 1, \"110\": 1, \"107\": 1, \"1\": 1}, \"95\": {\"95\": 25, \"28\": 1, \"4\": 1, \"127\": 1, \"3\": 2, \"0\": 2}, \"72\": {\"95\": 1, \"72\": 13, \"27\": 1, \"111\": 1, \"12\": 1, \"30\": 1, \"0\": 2, \"36\": 1, \"112\": 1, \"73\": 2, \"127\": 1, \"94\": 1, \"106\": 1, \"8\": 1}, \"19\": {\"84\": 1, \"72\": 2, \"52\": 1, \"100\": 1, \"19\": 8, \"77\": 2, \"27\": 1, \"49\": 1, \"29\": 1, \"88\": 1, \"101\": 1, \"8\": 1, \"66\": 1, \"7\": 2, \"90\": 1, \"91\": 1, \"43\": 1, \"93\": 1, \"0\": 1, \"124\": 1, \"12\": 1, \"111\": 1}, \"52\": {\"59\": 1, \"52\": 5, \"106\": 1, \"75\": 1, \"0\": 2, \"124\": 1, \"98\": 1, \"37\": 1, \"12\": 1, \"15\": 1, \"73\": 1}, \"100\": {\"100\": 8, \"20\": 1, \"1\": 3, \"84\": 1, \"126\": 1, \"33\": 1, \"70\": 1}, \"104\": {\"66\": 1, \"104\": 11, \"107\": 1, \"46\": 1, \"129\": 1, \"0\": 1}, \"59\": {\"52\": 1, \"97\": 2, \"59\": 7, \"112\": 1, \"24\": 1}, \"109\": {\"43\": 8, \"109\": 53, \"2\": 1, \"102\": 6, \"33\": 6, \"117\": 1, \"93\": 5, \"39\": 7, \"87\": 2, \"118\": 8, \"113\": 3, \"16\": 4, \"62\": 5, \"26\": 1, \"64\": 1, \"84\": 3, \"88\": 1, \"67\": 1, \"69\": 2, \"21\": 2, \"90\": 2, \"11\": 3, \"14\": 1}, \"88\": {\"96\": 1, \"83\": 1, \"113\": 4, \"88\": 32, \"11\": 3, \"70\": 3, \"12\": 1, \"120\": 2, \"121\": 2, \"60\": 1, \"85\": 1, \"43\": 1, \"87\": 3, \"44\": 1, \"118\": 3, \"8\": 3, \"109\": 14, \"106\": 1, \"90\": 1, \"98\": 3, \"124\": 1, \"108\": 5, \"128\": 1, \"67\": 1, \"117\": 1, \"39\": 3, \"49\": 1, \"7\": 2, \"21\": 1, \"126\": 2, \"93\": 1, \"111\": 1, \"10\": 6, \"27\": 1}, \"27\": {\"27\": 45, \"49\": 1, \"6\": 2, \"34\": 2, \"24\": 5, \"125\": 4, \"111\": 1, \"0\": 2, \"106\": 5, \"30\": 2, \"109\": 1, \"98\": 3, \"36\": 9, \"128\": 1, \"94\": 3, \"11\": 1, \"15\": 3, \"118\": 1, \"25\": 1, \"101\": 1, \"110\": 1}, \"113\": {\"96\": 2, \"113\": 78, \"17\": 2, \"93\": 9, \"33\": 3, \"118\": 4, \"117\": 3, \"109\": 8, \"18\": 1, \"11\": 2, \"88\": 1, \"16\": 2, \"64\": 1, \"26\": 2, \"39\": 1, \"126\": 1}, \"105\": {\"105\": 73, \"71\": 2, \"108\": 1, \"9\": 1, \"114\": 11, \"127\": 2, \"85\": 1, \"4\": 4, \"129\": 1, \"110\": 3, \"5\": 7, \"87\": 3, \"40\": 4, \"90\": 1, \"107\": 2, \"3\": 1, \"60\": 1, \"122\": 3, \"99\": 1, \"118\": 1, \"14\": 1}, \"71\": {\"71\": 45, \"105\": 3, \"53\": 1, \"5\": 4, \"4\": 2, \"127\": 5, \"49\": 1, \"114\": 4, \"3\": 2, \"39\": 1}, \"108\": {\"108\": 50, \"31\": 1, \"71\": 4, \"105\": 3, \"34\": 1, \"70\": 1, \"35\": 2, \"88\": 12, \"43\": 1, \"98\": 3, \"124\": 2, \"10\": 7, \"93\": 2, \"127\": 1, \"8\": 8, \"87\": 2, \"7\": 1, \"90\": 1, \"5\": 6, \"0\": 1, \"3\": 2, \"16\": 1, \"95\": 1, \"4\": 2, \"101\": 1, \"57\": 1, \"128\": 1, \"129\": 1, \"118\": 1, \"12\": 1, \"114\": 3}, \"41\": {\"41\": 12, \"55\": 2, \"128\": 2}, \"80\": {\"80\": 15, \"31\": 1}, \"13\": {\"80\": 1, \"13\": 4, \"92\": 1, \"78\": 2, \"89\": 2, \"29\": 2, \"44\": 1, \"40\": 1, \"116\": 1, \"69\": 1}, \"55\": {\"55\": 8, \"5\": 1, \"107\": 2, \"40\": 2, \"87\": 1, \"9\": 2}, \"0\": {\"97\": 1, \"55\": 1, \"7\": 5, \"52\": 1, \"35\": 2, \"8\": 8, \"110\": 1, \"111\": 11, \"0\": 40, \"83\": 1, \"34\": 1, \"12\": 2, \"106\": 2, \"94\": 1, \"4\": 1, \"98\": 7, \"118\": 1, \"30\": 1, \"124\": 1, \"51\": 2, \"101\": 2, \"91\": 1, \"75\": 1, \"49\": 1, \"42\": 1, \"85\": 1, \"90\": 1, \"108\": 3, \"15\": 1, \"10\": 3, \"36\": 1}, \"25\": {\"25\": 16}, \"53\": {\"53\": 11, \"45\": 1, \"107\": 2, \"11\": 1, \"119\": 1, \"99\": 1, \"114\": 2, \"40\": 1}, \"61\": {\"61\": 15, \"81\": 1}, \"38\": {\"38\": 12, \"66\": 2, \"127\": 2}, \"127\": {\"127\": 74, \"9\": 3, \"11\": 1, \"3\": 8, \"105\": 8, \"10\": 5, \"88\": 2, \"8\": 2, \"7\": 1, \"39\": 1, \"71\": 2, \"5\": 4, \"113\": 1, \"46\": 4, \"95\": 1, \"4\": 6, \"128\": 1, \"19\": 2, \"108\": 1, \"84\": 1}, \"4\": {\"71\": 4, \"4\": 35, \"114\": 7, \"99\": 1, \"128\": 1, \"85\": 2, \"122\": 1, \"10\": 4, \"7\": 2, \"8\": 5, \"3\": 1, \"5\": 3, \"107\": 2, \"70\": 4, \"127\": 5, \"105\": 5, \"110\": 3, \"40\": 2, \"86\": 1, \"129\": 1, \"88\": 3, \"109\": 2, \"1\": 1, \"39\": 1}, \"12\": {\"68\": 2, \"12\": 41, \"97\": 1, \"128\": 1, \"98\": 9, \"83\": 2, \"73\": 2, \"85\": 2, \"7\": 9, \"8\": 5, \"111\": 9, \"94\": 1, \"127\": 4, \"30\": 2, \"0\": 6, \"4\": 3, \"42\": 1, \"101\": 2, \"124\": 1, \"10\": 1}, \"126\": {\"18\": 12, \"39\": 9, \"126\": 77, \"26\": 5, \"21\": 4, \"81\": 3, \"113\": 4, \"109\": 1, \"118\": 1, \"88\": 2, \"13\": 2, \"121\": 3, \"15\": 1}, \"29\": {\"29\": 30, \"92\": 1, \"44\": 1}, \"107\": {\"110\": 1, \"107\": 92, \"99\": 1, \"105\": 2, \"40\": 9, \"102\": 2, \"129\": 3, \"1\": 7, \"4\": 4, \"14\": 3, \"70\": 1, \"114\": 2, \"11\": 1, \"62\": 3, \"69\": 1, \"84\": 2, \"5\": 1, \"108\": 1}, \"82\": {\"69\": 2, \"82\": 22, \"62\": 1, \"129\": 1, \"14\": 2}, \"94\": {\"94\": 48, \"24\": 1, \"30\": 1, \"98\": 2, \"15\": 4, \"125\": 7, \"36\": 9, \"8\": 1, \"106\": 3, \"34\": 2, \"42\": 1, \"52\": 2, \"101\": 1, \"27\": 1, \"39\": 1}, \"54\": {\"54\": 13, \"25\": 3}, \"10\": {\"98\": 2, \"7\": 5, \"22\": 1, \"77\": 2, \"10\": 34, \"122\": 3, \"85\": 1, \"43\": 3, \"30\": 1, \"3\": 4, \"101\": 5, \"4\": 4, \"11\": 1, \"88\": 5, \"128\": 1, \"124\": 3, \"8\": 8, \"26\": 1, \"12\": 10, \"111\": 3, \"87\": 2, \"108\": 9, \"0\": 3, \"99\": 2, \"91\": 1, \"32\": 1, \"72\": 1, \"90\": 5, \"49\": 1, \"44\": 1, \"114\": 1, \"70\": 1, \"109\": 1, \"16\": 1, \"1\": 1}, \"22\": {\"29\": 1, \"22\": 8, \"93\": 1, \"60\": 1, \"87\": 1, \"110\": 1, \"62\": 1, \"28\": 2}, \"119\": {\"119\": 14, \"102\": 2}}, \"C_4\": {\"38\": {\"38\": 34, \"14\": 3, \"2\": 2, \"56\": 1}, \"3\": {\"3\": 93, \"4\": 1, \"25\": 2, \"21\": 1, \"54\": 7, \"6\": 11, \"8\": 4, \"20\": 1, \"36\": 2, \"53\": 1, \"48\": 1}, \"24\": {\"24\": 48, \"15\": 1, \"43\": 3, \"22\": 3, \"11\": 1}, \"49\": {\"49\": 20}, \"7\": {\"7\": 24}, \"17\": {\"17\": 79, \"4\": 1}, \"43\": {\"43\": 142, \"15\": 1, \"52\": 1, \"5\": 1, \"0\": 1, \"46\": 1, \"11\": 1}, \"30\": {\"30\": 35, \"26\": 1, \"8\": 2, \"17\": 1, \"20\": 3, \"3\": 1, \"21\": 1}, \"44\": {\"44\": 103, \"19\": 19, \"50\": 2, \"53\": 1, \"40\": 5, \"4\": 1, \"26\": 1}, \"23\": {\"23\": 140, \"18\": 3, \"5\": 1}, \"37\": {\"37\": 24}, \"4\": {\"4\": 128, \"9\": 1, \"53\": 1, \"17\": 2}, \"57\": {\"57\": 85, \"1\": 4, \"47\": 6, \"29\": 5}, \"16\": {\"23\": 2, \"16\": 86, \"11\": 4, \"15\": 1, \"52\": 2, \"25\": 1}, \"18\": {\"18\": 90, \"23\": 11, \"52\": 2, \"50\": 1, \"42\": 1, \"36\": 1, \"25\": 1, \"13\": 1}, \"20\": {\"20\": 108, \"30\": 1, \"54\": 2, \"21\": 4, \"36\": 1, \"8\": 5, \"25\": 1, \"3\": 2}, \"45\": {\"45\": 85, \"26\": 1, \"50\": 3, \"9\": 2, \"27\": 3, \"12\": 2}, \"15\": {\"15\": 120, \"54\": 1, \"11\": 3, \"16\": 4, \"47\": 2, \"46\": 1, \"43\": 1}, \"52\": {\"52\": 109, \"41\": 1, \"23\": 6}, \"19\": {\"19\": 121, \"26\": 1, \"40\": 3, \"50\": 4, \"44\": 8, \"25\": 2, \"28\": 1}, \"54\": {\"54\": 107, \"3\": 1}, \"56\": {\"56\": 104, \"14\": 1, \"7\": 4, \"22\": 7, \"55\": 4, \"10\": 5, \"13\": 1, \"43\": 1, \"24\": 1, \"46\": 2}, \"40\": {\"40\": 116, \"19\": 10, \"28\": 1, \"57\": 1, \"44\": 5, \"29\": 1}, \"28\": {\"28\": 24, \"17\": 2, \"26\": 6}, \"2\": {\"2\": 33, \"13\": 2, \"14\": 1}, \"9\": {\"28\": 1, \"9\": 97, \"26\": 1, \"17\": 4, \"33\": 2, \"45\": 1, \"48\": 1, \"21\": 1, \"27\": 2, \"44\": 1, \"4\": 7, \"50\": 2}, \"0\": {\"0\": 59, \"43\": 12, \"22\": 2, \"18\": 1, \"47\": 2, \"11\": 3, \"32\": 1}, \"36\": {\"36\": 80, \"34\": 1, \"25\": 1, \"3\": 3, \"8\": 1, \"4\": 1, \"42\": 2, \"50\": 1, \"6\": 2}, \"55\": {\"55\": 124, \"5\": 1, \"48\": 1, \"6\": 1, \"19\": 1, \"32\": 2}, \"35\": {\"35\": 40}, \"39\": {\"54\": 1, \"39\": 18, \"3\": 1}, \"31\": {\"31\": 27, \"51\": 1}, \"14\": {\"38\": 2, \"33\": 4, \"14\": 6, \"24\": 2, \"22\": 1, \"19\": 1}, \"12\": {\"12\": 83, \"27\": 6, \"3\": 1, \"8\": 1, \"21\": 1}, \"6\": {\"54\": 3, \"6\": 80, \"36\": 2, \"28\": 1, \"3\": 11, \"49\": 1, \"47\": 1, \"39\": 1, \"25\": 1, \"17\": 2, \"29\": 1, \"20\": 3, \"23\": 1, \"53\": 1, \"50\": 1, \"55\": 1, \"48\": 1}, \"26\": {\"26\": 23, \"54\": 1}, \"50\": {\"26\": 4, \"50\": 61, \"3\": 8, \"27\": 7, \"8\": 5, \"25\": 23, \"20\": 2, \"17\": 1, \"9\": 2, \"21\": 6, \"12\": 1, \"6\": 6, \"54\": 1, \"36\": 2, \"53\": 2, \"42\": 1}, \"21\": {\"21\": 119, \"30\": 1, \"50\": 2}, \"46\": {\"47\": 11, \"46\": 87, \"1\": 1, \"5\": 10, \"35\": 1, \"0\": 3, \"36\": 2, \"22\": 2, \"52\": 6, \"57\": 2, \"48\": 1, \"23\": 6, \"32\": 1, \"55\": 3, \"11\": 1, \"18\": 2, \"16\": 1}, \"51\": {\"51\": 124, \"53\": 13, \"20\": 1, \"50\": 1, \"4\": 1}, \"41\": {\"41\": 31, \"5\": 3, \"23\": 1, \"55\": 1}, \"34\": {\"34\": 20, \"48\": 1, \"36\": 2, \"42\": 1}, \"47\": {\"47\": 95, \"32\": 3, \"46\": 2, \"1\": 2, \"29\": 4, \"42\": 1, \"57\": 4, \"48\": 1, \"28\": 1, \"23\": 4, \"5\": 2, \"36\": 1}, \"5\": {\"5\": 77, \"3\": 5, \"36\": 1, \"47\": 3, \"6\": 6, \"48\": 2, \"16\": 1, \"49\": 3, \"1\": 2, \"23\": 2, \"42\": 2, \"52\": 2, \"46\": 1, \"54\": 1}, \"1\": {\"1\": 37, \"29\": 1, \"47\": 2}, \"48\": {\"48\": 123, \"17\": 1, \"36\": 2, \"52\": 1, \"54\": 3, \"20\": 1, \"6\": 1, \"5\": 1, \"4\": 1}, \"29\": {\"29\": 107, \"36\": 1, \"57\": 3, \"19\": 2, \"3\": 1, \"47\": 1, \"44\": 1, \"6\": 1, \"48\": 1}, \"22\": {\"22\": 92, \"10\": 8, \"0\": 5, \"46\": 1, \"24\": 2, \"56\": 6, \"38\": 2, \"13\": 1, \"15\": 3, \"11\": 5, \"43\": 3}, \"10\": {\"13\": 10, \"15\": 6, \"10\": 98, \"43\": 5, \"24\": 1, \"22\": 11, \"11\": 1}, \"32\": {\"32\": 19, \"1\": 1, \"48\": 2, \"57\": 1, \"46\": 1}, \"13\": {\"13\": 102, \"10\": 9, \"2\": 1}, \"42\": {\"42\": 32}, \"27\": {\"27\": 130, \"17\": 3, \"8\": 1, \"4\": 1, \"26\": 1, \"50\": 2}, \"8\": {\"8\": 96, \"20\": 11, \"50\": 7, \"21\": 9, \"17\": 6, \"27\": 5, \"6\": 1, \"25\": 3, \"3\": 3, \"53\": 1}, \"33\": {\"40\": 2, \"33\": 32, \"44\": 2}, \"25\": {\"25\": 104, \"26\": 2, \"21\": 1, \"36\": 1, \"8\": 7, \"3\": 9, \"6\": 1, \"50\": 4, \"27\": 1, \"30\": 1, \"54\": 1}, \"11\": {\"11\": 77, \"43\": 5, \"15\": 17, \"47\": 2, \"46\": 1, \"16\": 2}, \"53\": {\"53\": 88, \"21\": 1, \"51\": 17, \"9\": 1, \"4\": 3, \"8\": 1, \"50\": 1}}, \"C_2\": {\"32\": {\"32\": 28}, \"17\": {\"17\": 103, \"4\": 1}, \"38\": {\"43\": 4, \"38\": 9, \"37\": 2, \"22\": 3, \"24\": 2}, \"2\": {\"2\": 26, \"23\": 1, \"46\": 2, \"21\": 1, \"6\": 2}, \"43\": {\"43\": 122, \"11\": 14, \"22\": 2, \"16\": 3, \"15\": 3}, \"56\": {\"38\": 1, \"56\": 126, \"22\": 7, \"24\": 5, \"14\": 2, \"10\": 3}, \"37\": {\"37\": 36}, \"49\": {\"49\": 23, \"34\": 1}, \"0\": {\"0\": 47, \"57\": 1}, \"29\": {\"29\": 108, \"19\": 5, \"57\": 3, \"49\": 1, \"34\": 1, \"17\": 3, \"46\": 2, \"9\": 2, \"1\": 2, \"25\": 1}, \"35\": {\"35\": 32}, \"18\": {\"18\": 43, \"30\": 4, \"23\": 1}, \"25\": {\"25\": 109, \"34\": 1, \"27\": 1, \"36\": 9, \"50\": 6, \"54\": 2, \"8\": 3, \"3\": 4, \"45\": 1}, \"23\": {\"23\": 120, \"28\": 1, \"30\": 3}, \"15\": {\"15\": 141, \"16\": 5}, \"21\": {\"21\": 108, \"17\": 1, \"48\": 1, \"54\": 2, \"36\": 1, \"51\": 5, \"29\": 1, \"53\": 1}, \"51\": {\"51\": 116, \"53\": 6, \"4\": 1, \"50\": 2, \"54\": 1, \"21\": 2}, \"20\": {\"20\": 104, \"26\": 4, \"4\": 1, \"12\": 5, \"8\": 10, \"45\": 3, \"40\": 1, \"25\": 3, \"54\": 4, \"53\": 3}, \"7\": {\"7\": 33, \"1\": 1, \"5\": 1, \"55\": 1}, \"50\": {\"50\": 64, \"2\": 1, \"8\": 12, \"3\": 12, \"6\": 4, \"36\": 10, \"54\": 8, \"12\": 4, \"25\": 6, \"20\": 4, \"27\": 1, \"53\": 6, \"21\": 3, \"51\": 1}, \"31\": {\"31\": 28}, \"30\": {\"30\": 133, \"48\": 1, \"6\": 1, \"18\": 2, \"46\": 1, \"23\": 2}, \"19\": {\"19\": 133, \"45\": 1, \"29\": 7, \"40\": 5, \"17\": 2, \"44\": 5, \"36\": 2, \"6\": 1}, \"9\": {\"9\": 126, \"40\": 11, \"19\": 5, \"20\": 1, \"3\": 1}, \"52\": {\"52\": 118, \"15\": 2, \"23\": 1, \"30\": 2, \"16\": 1}, \"45\": {\"45\": 79, \"35\": 2, \"26\": 2, \"4\": 14, \"25\": 8, \"27\": 6, \"54\": 3, \"12\": 2, \"36\": 3, \"40\": 4, \"51\": 2, \"20\": 2, \"3\": 1}, \"8\": {\"50\": 16, \"8\": 87, \"12\": 2, \"34\": 4, \"17\": 3, \"20\": 9, \"54\": 4, \"45\": 1, \"36\": 11, \"27\": 4, \"25\": 9, \"51\": 1, \"53\": 2, \"3\": 1}, \"55\": {\"55\": 152, \"31\": 2, \"3\": 2, \"48\": 2, \"42\": 1, \"5\": 1}, \"12\": {\"12\": 86, \"20\": 1, \"27\": 1, \"54\": 3, \"45\": 1}, \"40\": {\"40\": 128, \"9\": 2, \"44\": 2, \"45\": 2, \"4\": 4, \"19\": 2}, \"28\": {\"28\": 28}, \"36\": {\"36\": 112, \"27\": 1, \"54\": 2, \"8\": 1}, \"39\": {\"39\": 25, \"40\": 1, \"6\": 2}, \"46\": {\"46\": 49, \"39\": 5, \"57\": 2, \"52\": 8, \"6\": 11, \"17\": 4, \"21\": 3, \"48\": 7, \"54\": 2, \"53\": 6, \"3\": 10, \"50\": 4, \"18\": 1, \"36\": 1, \"7\": 1, \"23\": 3, \"42\": 1, \"30\": 1, \"47\": 1, \"25\": 2}, \"14\": {\"56\": 1, \"40\": 4, \"14\": 6, \"24\": 1, \"9\": 2, \"10\": 3, \"33\": 2, \"43\": 1, \"35\": 4}, \"57\": {\"29\": 7, \"57\": 114, \"47\": 7, \"50\": 1, \"6\": 2, \"1\": 6, \"46\": 3, \"17\": 1, \"48\": 1}, \"34\": {\"34\": 23, \"49\": 4, \"25\": 1}, \"1\": {\"1\": 105, \"47\": 4, \"57\": 1, \"39\": 1, \"5\": 1}, \"53\": {\"53\": 128, \"51\": 7, \"3\": 1}, \"48\": {\"48\": 119, \"1\": 1, \"17\": 2, \"46\": 3, \"6\": 2, \"2\": 1, \"52\": 1, \"47\": 1}, \"3\": {\"39\": 5, \"19\": 2, \"6\": 8, \"53\": 3, \"3\": 43, \"36\": 7, \"46\": 3, \"27\": 3, \"25\": 1, \"54\": 4, \"21\": 2, \"29\": 1, \"4\": 1, \"50\": 1, \"17\": 2, \"32\": 2, \"9\": 2, \"48\": 2}, \"16\": {\"16\": 141, \"52\": 3, \"11\": 1, \"23\": 5, \"15\": 1, \"47\": 1}, \"6\": {\"6\": 89, \"0\": 4, \"17\": 3, \"48\": 4, \"16\": 1, \"54\": 2, \"50\": 3, \"30\": 4, \"36\": 3, \"18\": 2, \"25\": 1, \"52\": 1, \"3\": 3, \"46\": 1, \"8\": 1, \"4\": 1, \"47\": 1}, \"10\": {\"10\": 73, \"14\": 2, \"43\": 6, \"24\": 16, \"56\": 8, \"5\": 1, \"22\": 3, \"13\": 2, \"11\": 1}, \"13\": {\"13\": 107, \"24\": 5, \"43\": 3, \"11\": 1}, \"26\": {\"26\": 22, \"32\": 1, \"20\": 1}, \"24\": {\"24\": 88, \"10\": 6, \"22\": 1, \"43\": 1}, \"44\": {\"44\": 76, \"39\": 1, \"19\": 13, \"40\": 5, \"46\": 1, \"29\": 4}, \"27\": {\"27\": 137, \"8\": 9, \"36\": 3, \"3\": 1}, \"22\": {\"22\": 105, \"14\": 2, \"10\": 2, \"56\": 12, \"43\": 3, \"24\": 1, \"38\": 2, \"47\": 1}, \"33\": {\"33\": 28}, \"47\": {\"57\": 10, \"47\": 80, \"2\": 1, \"1\": 2, \"29\": 3, \"19\": 3, \"48\": 12, \"55\": 1, \"39\": 2, \"52\": 1, \"5\": 1, \"46\": 2}, \"5\": {\"5\": 102, \"7\": 1, \"11\": 2, \"19\": 1, \"1\": 1, \"55\": 2, \"46\": 2, \"43\": 1, \"48\": 1, \"47\": 5, \"57\": 1, \"42\": 1}, \"4\": {\"4\": 126, \"9\": 6, \"45\": 2, \"40\": 1, \"32\": 1, \"20\": 1, \"51\": 1}, \"41\": {\"41\": 16, \"0\": 1, \"2\": 2, \"6\": 1}, \"11\": {\"11\": 135, \"16\": 6, \"15\": 9}, \"54\": {\"54\": 107, \"50\": 1}, \"42\": {\"42\": 29, \"3\": 1, \"36\": 1, \"2\": 1, \"9\": 1, \"17\": 2, \"39\": 1}}, \"W_2\": {\"73\": {\"107\": 3, \"73\": 13, \"33\": 1, \"122\": 1, \"129\": 2, \"105\": 1, \"86\": 1, \"96\": 1, \"84\": 2, \"66\": 1, \"4\": 1, \"110\": 1}, \"40\": {\"107\": 2, \"73\": 1, \"105\": 11, \"4\": 5, \"40\": 64, \"45\": 1, \"8\": 3, \"110\": 6, \"129\": 3, \"122\": 5, \"3\": 3, \"62\": 1, \"1\": 3, \"5\": 6, \"43\": 9, \"88\": 2, \"90\": 2, \"84\": 1, \"70\": 1, \"100\": 1, \"19\": 1, \"117\": 1}, \"99\": {\"2\": 2, \"99\": 20, \"88\": 3, \"120\": 1, \"69\": 1, \"48\": 2, \"87\": 1, \"23\": 1, \"121\": 1}, \"5\": {\"5\": 62, \"85\": 1, \"73\": 2, \"114\": 4, \"71\": 4, \"4\": 7, \"8\": 4, \"122\": 7, \"3\": 7, \"39\": 2, \"43\": 2, \"90\": 2, \"84\": 1, \"105\": 2, \"7\": 1, \"88\": 1, \"40\": 3}, \"108\": {\"41\": 1, \"108\": 53, \"59\": 2, \"52\": 1, \"105\": 2, \"7\": 11, \"71\": 1, \"10\": 2, \"29\": 1, \"12\": 2, \"0\": 11, \"101\": 4, \"24\": 3, \"124\": 3, \"30\": 4, \"127\": 3, \"122\": 5, \"5\": 1, \"98\": 4, \"15\": 1, \"111\": 2, \"8\": 5, \"114\": 1, \"73\": 1, \"128\": 1, \"4\": 1, \"126\": 1, \"43\": 1, \"3\": 3, \"40\": 1}, \"128\": {\"5\": 1, \"128\": 9, \"98\": 2, \"126\": 1, \"95\": 1, \"91\": 1, \"4\": 2, \"40\": 1, \"71\": 1, \"70\": 1, \"23\": 1, \"94\": 1, \"27\": 1, \"106\": 1}, \"89\": {\"89\": 27, \"109\": 1, \"64\": 1, \"92\": 2, \"31\": 1, \"65\": 1, \"81\": 1, \"48\": 1, \"82\": 1}, \"107\": {\"107\": 23, \"58\": 1, \"105\": 5, \"50\": 1, \"4\": 5, \"1\": 1, \"110\": 2, \"122\": 1, \"71\": 2, \"108\": 1, \"90\": 1, \"62\": 2, \"88\": 1, \"2\": 1, \"7\": 3, \"106\": 1, \"42\": 2, \"5\": 2, \"83\": 1, \"40\": 1, \"21\": 1, \"15\": 1, \"124\": 1, \"86\": 1, \"125\": 1, \"43\": 2}, \"2\": {\"2\": 21, \"65\": 1, \"83\": 2, \"121\": 2, \"89\": 1, \"96\": 2, \"63\": 2, \"97\": 1}, \"78\": {\"78\": 14, \"21\": 2, \"70\": 3, \"129\": 2, \"110\": 2, \"61\": 2, \"7\": 1, \"96\": 1, \"84\": 2, \"1\": 3, \"10\": 1, \"43\": 4, \"40\": 2, \"44\": 1, \"67\": 1, \"33\": 1, \"122\": 1, \"32\": 1, \"109\": 1, \"105\": 1, \"90\": 1, \"126\": 1}, \"85\": {\"40\": 1, \"85\": 16, \"19\": 1, \"129\": 1, \"122\": 1, \"114\": 1, \"4\": 1, \"110\": 1, \"8\": 1, \"61\": 1, \"17\": 1, \"14\": 2, \"105\": 2, \"32\": 1, \"35\": 1}, \"44\": {\"44\": 92, \"83\": 1, \"19\": 1, \"78\": 1, \"88\": 1, \"119\": 1, \"62\": 1, \"93\": 1, \"3\": 1}, \"58\": {\"58\": 12, \"15\": 1, \"125\": 2, \"6\": 3, \"51\": 2}, \"57\": {\"57\": 10, \"21\": 1, \"63\": 1, \"69\": 2, \"48\": 1, \"82\": 1, \"88\": 1, \"116\": 1, \"13\": 2}, \"41\": {\"41\": 17, \"13\": 1, \"52\": 2}, \"53\": {\"53\": 16}, \"14\": {\"14\": 22, \"19\": 1, \"70\": 1, \"90\": 1, \"67\": 1, \"45\": 1, \"20\": 1, \"50\": 1, \"62\": 5, \"126\": 1, \"118\": 3, \"21\": 1, \"89\": 1, \"33\": 1, \"80\": 1, \"100\": 1, \"87\": 1, \"43\": 2, \"74\": 1, \"109\": 1}, \"83\": {\"83\": 27, \"9\": 1, \"116\": 1, \"87\": 3, \"90\": 1, \"88\": 1, \"120\": 2, \"39\": 1, \"15\": 1, \"78\": 1, \"110\": 1}, \"119\": {\"119\": 19, \"42\": 1}, \"95\": {\"5\": 1, \"85\": 1, \"95\": 11, \"55\": 1, \"71\": 2, \"129\": 1, \"0\": 1, \"8\": 1, \"115\": 1, \"105\": 2, \"40\": 2, \"4\": 6, \"122\": 1, \"127\": 1, \"61\": 1, \"3\": 1, \"114\": 1, \"87\": 1}, \"28\": {\"28\": 12, \"85\": 5, \"42\": 1, \"8\": 1, \"97\": 1}, \"19\": {\"119\": 1, \"85\": 1, \"86\": 3, \"46\": 1, \"23\": 1, \"118\": 1, \"19\": 7, \"43\": 2, \"93\": 2, \"122\": 1, \"105\": 1, \"1\": 1, \"4\": 1, \"114\": 1, \"87\": 1, \"83\": 1, \"84\": 1, \"3\": 1}, \"69\": {\"69\": 109, \"93\": 2, \"92\": 1, \"26\": 7, \"118\": 2, \"126\": 1, \"16\": 4, \"117\": 1, \"84\": 1, \"109\": 1, \"102\": 3}, \"93\": {\"93\": 78, \"83\": 2, \"26\": 2, \"109\": 4, \"102\": 5, \"16\": 9, \"88\": 5, \"70\": 1, \"33\": 5, \"44\": 1, \"69\": 1, \"39\": 4, \"87\": 6, \"62\": 2, \"99\": 1, \"90\": 6, \"84\": 2}, \"9\": {\"9\": 31, \"36\": 1}, \"118\": {\"93\": 1, \"14\": 2, \"118\": 24, \"44\": 2, \"31\": 1, \"102\": 4, \"16\": 6, \"69\": 3, \"10\": 1, \"88\": 2, \"78\": 1, \"40\": 1, \"90\": 1, \"109\": 1, \"76\": 1, \"83\": 1, \"116\": 1, \"82\": 3, \"84\": 1, \"62\": 1, \"70\": 7, \"43\": 1, \"39\": 1, \"1\": 1}, \"43\": {\"119\": 1, \"43\": 29, \"90\": 9, \"40\": 2, \"14\": 2, \"88\": 10, \"126\": 3, \"1\": 13, \"71\": 4, \"107\": 1, \"5\": 4, \"10\": 4, \"105\": 7, \"2\": 1, \"78\": 2, \"44\": 3, \"3\": 3, \"84\": 3, \"62\": 3, \"70\": 3, \"33\": 2, \"122\": 2, \"24\": 1, \"129\": 1, \"83\": 1, \"87\": 1, \"109\": 1}, \"47\": {\"47\": 7, \"95\": 1, \"122\": 1, \"129\": 1, \"116\": 1, \"112\": 1}, \"125\": {\"9\": 2, \"125\": 113, \"52\": 1, \"94\": 1, \"58\": 1, \"36\": 7, \"15\": 7, \"27\": 3, \"24\": 4, \"106\": 1, \"30\": 2, \"18\": 1, \"101\": 1}, \"29\": {\"29\": 28, \"68\": 1, \"59\": 1, \"30\": 1, \"0\": 1}, \"122\": {\"122\": 43, \"55\": 1, \"95\": 2, \"87\": 1, \"109\": 2, \"115\": 1, \"12\": 2, \"74\": 1, \"32\": 1, \"110\": 1, \"40\": 2, \"43\": 6, \"70\": 6, \"85\": 1, \"107\": 2, \"71\": 3, \"5\": 8, \"44\": 3, \"3\": 3, \"1\": 4, \"10\": 3, \"114\": 5, \"105\": 5, \"84\": 1, \"0\": 3, \"8\": 2, \"7\": 4, \"90\": 3, \"108\": 2, \"88\": 4, \"39\": 1, \"52\": 1, \"4\": 1, \"126\": 5, \"129\": 2, \"11\": 2, \"78\": 1, \"62\": 1, \"18\": 1}, \"46\": {\"46\": 13, \"23\": 1, \"1\": 1, \"87\": 1}, \"86\": {\"55\": 1, \"86\": 22, \"110\": 1, \"114\": 2, \"32\": 2, \"74\": 1, \"73\": 2, \"104\": 1}, \"70\": {\"122\": 2, \"55\": 1, \"70\": 28, \"90\": 10, \"16\": 3, \"115\": 1, \"76\": 1, \"63\": 3, \"43\": 5, \"129\": 1, \"60\": 1, \"126\": 7, \"14\": 1, \"62\": 9, \"21\": 1, \"78\": 3, \"1\": 5, \"87\": 1, \"84\": 3, \"33\": 4, \"44\": 1, \"88\": 4, \"5\": 1, \"18\": 1, \"105\": 5, \"39\": 6, \"80\": 1, \"83\": 1, \"20\": 1, \"23\": 1, \"3\": 1, \"45\": 1, \"73\": 1, \"109\": 4, \"8\": 1, \"117\": 1, \"93\": 1, \"102\": 2}, \"51\": {\"51\": 16, \"123\": 1, \"24\": 1, \"58\": 1, \"32\": 1}, \"23\": {\"54\": 1, \"57\": 1, \"78\": 2, \"23\": 2, \"120\": 1, \"61\": 1, \"121\": 1, \"17\": 1, \"19\": 2, \"108\": 4, \"69\": 1, \"29\": 2, \"7\": 2, \"71\": 1, \"12\": 4, \"109\": 1, \"47\": 1, \"68\": 1, \"65\": 1, \"26\": 1, \"128\": 2, \"16\": 1, \"42\": 1, \"74\": 2, \"2\": 1, \"63\": 1, \"4\": 2, \"18\": 1, \"104\": 1, \"99\": 1}, \"121\": {\"21\": 2, \"57\": 2, \"121\": 22, \"20\": 1, \"23\": 1, \"117\": 1, \"120\": 1, \"113\": 1, \"65\": 1, \"39\": 1, \"88\": 2, \"83\": 1}, \"63\": {\"21\": 1, \"63\": 17, \"13\": 1, \"39\": 1}, \"102\": {\"102\": 83, \"93\": 4, \"84\": 2, \"33\": 8, \"118\": 2, \"62\": 8, \"16\": 2, \"43\": 1, \"39\": 2, \"110\": 1, \"69\": 8, \"1\": 1}, \"21\": {\"21\": 46, \"87\": 1, \"88\": 1}, \"55\": {\"86\": 1, \"102\": 1, \"55\": 8, \"14\": 1, \"70\": 1, \"83\": 1, \"129\": 1, \"62\": 1, \"66\": 1}, \"54\": {\"54\": 12, \"121\": 1, \"98\": 1, \"12\": 2, \"0\": 1, \"111\": 1, \"53\": 1, \"127\": 1}, \"6\": {\"6\": 21, \"15\": 3, \"51\": 2, \"94\": 1, \"75\": 2, \"106\": 1, \"58\": 1, \"97\": 1}, \"109\": {\"20\": 3, \"55\": 1, \"109\": 35, \"44\": 1, \"102\": 8, \"88\": 14, \"84\": 1, \"90\": 4, \"62\": 3, \"43\": 4, \"70\": 2, \"105\": 1, \"33\": 1, \"126\": 4, \"87\": 3, \"16\": 4, \"117\": 1, \"116\": 1, \"72\": 1, \"67\": 1, \"39\": 2, \"12\": 1, \"21\": 1, \"118\": 2, \"93\": 1}, \"64\": {\"20\": 1, \"64\": 15}, \"20\": {\"20\": 15, \"120\": 1}, \"98\": {\"35\": 3, \"98\": 65, \"34\": 2, \"49\": 1, \"121\": 1, \"0\": 10, \"24\": 3, \"106\": 4, \"107\": 1, \"30\": 4, \"11\": 1, \"15\": 5, \"91\": 2, \"88\": 1, \"101\": 3, \"111\": 4, \"12\": 1, \"108\": 2, \"90\": 1}, \"92\": {\"64\": 2, \"92\": 17, \"67\": 3, \"14\": 1, \"118\": 1, \"76\": 1, \"57\": 2, \"31\": 1}, \"35\": {\"98\": 1, \"35\": 4, \"97\": 1, \"123\": 1, \"91\": 2, \"111\": 2, \"25\": 1}, \"113\": {\"113\": 53, \"20\": 1, \"81\": 2, \"92\": 1, \"18\": 2, \"78\": 1, \"26\": 2, \"126\": 1, \"57\": 2, \"117\": 3, \"99\": 1, \"21\": 2, \"70\": 1}, \"71\": {\"122\": 2, \"71\": 60, \"129\": 2, \"115\": 1, \"84\": 1, \"7\": 2, \"74\": 1, \"40\": 1, \"118\": 1, \"107\": 1, \"5\": 4, \"3\": 6, \"32\": 1, \"1\": 3, \"114\": 5, \"105\": 4, \"110\": 1, \"121\": 1, \"109\": 1, \"126\": 2}, \"94\": {\"91\": 1, \"20\": 2, \"101\": 5, \"6\": 3, \"51\": 2, \"106\": 1, \"94\": 24, \"87\": 1, \"99\": 2, \"113\": 1, \"92\": 1, \"90\": 1, \"127\": 1, \"24\": 5, \"58\": 1, \"29\": 1, \"77\": 2, \"65\": 1, \"125\": 3, \"88\": 1, \"36\": 1, \"15\": 2, \"70\": 1, \"98\": 1}, \"52\": {\"91\": 2, \"52\": 10, \"108\": 1, \"12\": 2, \"103\": 1, \"26\": 1, \"7\": 1, \"29\": 2}, \"116\": {\"87\": 1, \"116\": 7, \"60\": 2, \"72\": 1, \"16\": 2, \"122\": 1, \"83\": 5, \"84\": 1, \"88\": 1, \"80\": 1, \"93\": 1, \"109\": 2, \"118\": 1, \"66\": 2}, \"87\": {\"116\": 2, \"16\": 1, \"87\": 30, \"33\": 12, \"10\": 3, \"118\": 4, \"26\": 1, \"90\": 2, \"109\": 5, \"88\": 7, \"93\": 1, \"84\": 12, \"40\": 1, \"62\": 8, \"18\": 1, \"70\": 2, \"43\": 4, \"67\": 1, \"82\": 1, \"20\": 1, \"38\": 2, \"83\": 1, \"1\": 2, \"126\": 4, \"78\": 1, \"44\": 2, \"117\": 1}, \"90\": {\"87\": 2, \"90\": 142, \"26\": 1, \"119\": 1, \"88\": 2}, \"91\": {\"91\": 15, \"29\": 4, \"4\": 1, \"111\": 3, \"70\": 1, \"41\": 1, \"25\": 1, \"73\": 1, \"35\": 1}, \"84\": {\"84\": 64, \"33\": 10, \"62\": 6, \"109\": 1, \"43\": 1, \"126\": 2, \"83\": 1, \"40\": 1, \"7\": 1, \"87\": 1, \"102\": 2, \"1\": 2}, \"24\": {\"90\": 1, \"73\": 1, \"36\": 7, \"24\": 26, \"53\": 1, \"49\": 1, \"6\": 1, \"15\": 10, \"25\": 1, \"125\": 7, \"92\": 1, \"124\": 3, \"11\": 2, \"109\": 2, \"10\": 1, \"27\": 1, \"78\": 1, \"70\": 1, \"43\": 3, \"108\": 1, \"106\": 7, \"88\": 3, \"111\": 2, \"7\": 3, \"5\": 2, \"31\": 1, \"60\": 1, \"97\": 2, \"101\": 3, \"63\": 1, \"9\": 1, \"126\": 1, \"44\": 2, \"30\": 2, \"127\": 1, \"94\": 1, \"0\": 1, \"98\": 2, \"122\": 1, \"87\": 1, \"117\": 1, \"39\": 1}, \"33\": {\"33\": 110, \"1\": 3, \"62\": 12, \"87\": 3, \"84\": 4, \"88\": 1, \"90\": 1}, \"81\": {\"81\": 17, \"16\": 1, \"113\": 1, \"18\": 2, \"69\": 2, \"97\": 1}, \"115\": {\"115\": 5, \"16\": 1, \"4\": 2, \"98\": 1, \"122\": 1, \"71\": 2}, \"77\": {\"77\": 11, \"24\": 1, \"59\": 1, \"79\": 1, \"29\": 1, \"94\": 1}, \"106\": {\"73\": 1, \"106\": 63, \"97\": 1, \"27\": 2, \"15\": 3, \"88\": 1, \"36\": 6, \"98\": 2, \"101\": 10, \"0\": 3, \"16\": 1, \"125\": 8, \"30\": 5, \"111\": 3, \"79\": 1, \"94\": 4, \"9\": 4, \"108\": 1, \"127\": 1}, \"42\": {\"38\": 1, \"24\": 1, \"56\": 2, \"94\": 3, \"79\": 1, \"108\": 1, \"34\": 1, \"70\": 1, \"91\": 2, \"109\": 1, \"101\": 1, \"107\": 1, \"120\": 1, \"3\": 2, \"22\": 2, \"0\": 1, \"117\": 1, \"42\": 1, \"106\": 1, \"62\": 1, \"43\": 1, \"10\": 1}, \"38\": {\"38\": 16}, \"36\": {\"36\": 55, \"121\": 1, \"25\": 1, \"27\": 9, \"125\": 12, \"39\": 1, \"2\": 1, \"106\": 7, \"15\": 5, \"93\": 1, \"0\": 2, \"90\": 1, \"30\": 3, \"98\": 4, \"101\": 3, \"113\": 1, \"9\": 1, \"88\": 2, \"24\": 4}, \"79\": {\"79\": 11, \"41\": 1, \"128\": 2, \"59\": 1, \"106\": 1}, \"60\": {\"60\": 16, \"93\": 1, \"4\": 1, \"87\": 2, \"34\": 1, \"44\": 1, \"46\": 1, \"61\": 2, \"70\": 1, \"78\": 1, \"12\": 1}, \"80\": {\"80\": 5, \"70\": 2, \"87\": 1, \"1\": 4, \"39\": 1, \"32\": 1, \"14\": 1, \"100\": 1}, \"32\": {\"71\": 1, \"32\": 25, \"14\": 2, \"122\": 1, \"43\": 1, \"4\": 1, \"42\": 1, \"62\": 1, \"104\": 1, \"126\": 2}, \"0\": {\"0\": 62, \"98\": 6, \"111\": 12, \"12\": 4, \"107\": 1, \"7\": 5, \"126\": 1, \"71\": 1, \"30\": 4, \"127\": 1, \"108\": 5, \"101\": 4, \"54\": 1, \"34\": 1, \"49\": 2, \"15\": 1, \"124\": 1, \"24\": 1, \"11\": 1, \"106\": 2}, \"127\": {\"127\": 83, \"104\": 1, \"17\": 1, \"71\": 3, \"5\": 1, \"7\": 1, \"3\": 1, \"111\": 5, \"124\": 3, \"18\": 1, \"114\": 7, \"106\": 1, \"11\": 1, \"8\": 1, \"122\": 1, \"105\": 1, \"112\": 2, \"75\": 2, \"95\": 2, \"34\": 1, \"54\": 1, \"4\": 1, \"12\": 1, \"126\": 1, \"0\": 1}, \"114\": {\"114\": 67, \"21\": 1, \"3\": 9, \"5\": 8, \"71\": 5, \"42\": 1, \"122\": 3, \"4\": 3, \"7\": 2, \"127\": 7, \"68\": 1, \"111\": 3, \"107\": 1, \"110\": 1, \"109\": 1, \"0\": 1, \"124\": 1, \"30\": 1}, \"62\": {\"71\": 1, \"62\": 108, \"90\": 1, \"93\": 3, \"84\": 7, \"33\": 8, \"87\": 3, \"43\": 2, \"55\": 1, \"1\": 3, \"118\": 2, \"126\": 1}, \"129\": {\"129\": 15, \"73\": 3, \"8\": 1, \"115\": 1, \"105\": 1, \"19\": 1, \"71\": 3, \"40\": 1, \"84\": 1, \"70\": 2, \"127\": 1, \"74\": 1, \"3\": 1}, \"56\": {\"56\": 7, \"110\": 1, \"127\": 1, \"126\": 1, \"52\": 2}, \"76\": {\"76\": 12, \"88\": 1, \"87\": 2, \"80\": 1}, \"72\": {\"72\": 19, \"65\": 1, \"89\": 1, \"26\": 1, \"21\": 1, \"9\": 1, \"81\": 2, \"96\": 1, \"16\": 1}, \"88\": {\"88\": 58, \"99\": 1, \"39\": 7, \"21\": 3, \"87\": 9, \"62\": 3, \"16\": 5, \"70\": 4, \"43\": 5, \"93\": 5, \"90\": 9, \"109\": 5, \"83\": 1, \"60\": 1, \"80\": 1, \"84\": 1, \"126\": 6}, \"68\": {\"68\": 5, \"4\": 2, \"12\": 1, \"74\": 1, \"36\": 1, \"7\": 3, \"59\": 1, \"0\": 1, \"128\": 1}, \"67\": {\"67\": 11, \"82\": 1, \"21\": 1, \"80\": 2, \"96\": 1}, \"100\": {\"100\": 12, \"96\": 1, \"50\": 1, \"16\": 1, \"93\": 1}, \"34\": {\"34\": 4, \"4\": 2, \"7\": 1, \"105\": 1, \"29\": 2, \"86\": 1, \"114\": 1, \"91\": 1, \"106\": 1, \"109\": 2, \"0\": 2, \"94\": 2, \"124\": 1, \"97\": 1, \"5\": 1, \"15\": 1, \"66\": 1, \"42\": 1, \"85\": 1, \"71\": 1, \"3\": 2, \"101\": 2}, \"16\": {\"100\": 2, \"16\": 67, \"2\": 4, \"39\": 5, \"92\": 1, \"93\": 5, \"82\": 1, \"69\": 7, \"102\": 7, \"88\": 3, \"26\": 1, \"70\": 3, \"87\": 1, \"62\": 5, \"57\": 1, \"81\": 1, \"13\": 1, \"63\": 1, \"116\": 1, \"72\": 1, \"109\": 1, \"33\": 1, \"126\": 2, \"44\": 1, \"43\": 1}, \"126\": {\"126\": 52, \"16\": 1, \"119\": 4, \"107\": 2, \"78\": 4, \"43\": 7, \"44\": 6, \"90\": 6, \"84\": 2, \"88\": 3, \"70\": 11, \"40\": 1, \"1\": 4, \"93\": 1, \"39\": 1, \"87\": 1, \"46\": 1, \"14\": 3, \"118\": 2, \"109\": 1, \"116\": 1, \"71\": 1, \"5\": 1, \"74\": 1, \"105\": 1, \"102\": 2}, \"4\": {\"4\": 37, \"68\": 2, \"61\": 1, \"40\": 5, \"105\": 2, \"107\": 2, \"12\": 2, \"5\": 7, \"39\": 2, \"88\": 1, \"85\": 3, \"71\": 2, \"7\": 2, \"24\": 1, \"8\": 3, \"11\": 1, \"114\": 1, \"110\": 2, \"124\": 3, \"0\": 1, \"95\": 1, \"19\": 1, \"129\": 1, \"127\": 2, \"32\": 1, \"23\": 1, \"42\": 1}, \"101\": {\"98\": 8, \"101\": 121, \"30\": 3, \"36\": 4, \"111\": 2, \"94\": 2, \"15\": 3, \"10\": 1, \"0\": 1, \"106\": 1}, \"104\": {\"4\": 2, \"104\": 6, \"95\": 1, \"12\": 1, \"74\": 1, \"114\": 5, \"73\": 1, \"124\": 1, \"27\": 1, \"90\": 1}, \"30\": {\"78\": 1, \"30\": 38, \"127\": 4, \"91\": 1, \"15\": 6, \"29\": 2, \"101\": 14, \"24\": 7, \"36\": 1, \"108\": 5, \"12\": 1, \"0\": 4, \"8\": 2, \"98\": 5, \"106\": 8, \"11\": 1, \"107\": 1, \"94\": 1, \"111\": 3, \"27\": 1, \"118\": 1, \"125\": 1, \"124\": 1, \"90\": 1}, \"8\": {\"8\": 61, \"129\": 1, \"61\": 2, \"86\": 3, \"32\": 1, \"40\": 8, \"10\": 1, \"85\": 1, \"114\": 2, \"4\": 3, \"124\": 3, \"122\": 8, \"44\": 5, \"84\": 1, \"126\": 2, \"11\": 1, \"108\": 5, \"0\": 1, \"3\": 2, \"63\": 1, \"127\": 1, \"95\": 2, \"34\": 1, \"107\": 1, \"7\": 1, \"78\": 1, \"5\": 2, \"71\": 1, \"14\": 2, \"105\": 2, \"111\": 1, \"70\": 1}, \"82\": {\"82\": 32, \"16\": 1, \"69\": 2, \"117\": 1}, \"26\": {\"26\": 95, \"87\": 1, \"83\": 1, \"92\": 1, \"113\": 2, \"72\": 2, \"69\": 8, \"117\": 7, \"126\": 2, \"39\": 2, \"18\": 9, \"65\": 1, \"102\": 1, \"2\": 1, \"121\": 2, \"1\": 1, \"88\": 1, \"90\": 1}, \"96\": {\"100\": 1, \"96\": 11, \"89\": 1, \"118\": 2, \"76\": 2, \"57\": 2, \"31\": 1}, \"3\": {\"3\": 88, \"126\": 1, \"43\": 2, \"71\": 8, \"1\": 2, \"122\": 5, \"5\": 8, \"114\": 5, \"40\": 1, \"7\": 3, \"30\": 1, \"107\": 1, \"10\": 1, \"112\": 1, \"60\": 1, \"129\": 1, \"109\": 1, \"4\": 1, \"0\": 1, \"108\": 1, \"105\": 1, \"24\": 1, \"88\": 1}, \"25\": {\"25\": 12, \"87\": 1, \"78\": 1, \"6\": 2}, \"13\": {\"13\": 5, \"21\": 1, \"69\": 5, \"125\": 1, \"82\": 1, \"24\": 1, \"109\": 1, \"20\": 1}, \"37\": {\"64\": 3, \"37\": 7, \"74\": 1, \"40\": 2, \"13\": 1, \"16\": 1, \"67\": 1}, \"49\": {\"115\": 2, \"87\": 2, \"111\": 2, \"49\": 3, \"54\": 1, \"11\": 2, \"22\": 1, \"12\": 3, \"127\": 1, \"110\": 1, \"75\": 1, \"7\": 1, \"61\": 1, \"39\": 1, \"0\": 1, \"71\": 1}, \"111\": {\"127\": 7, \"98\": 10, \"111\": 96, \"108\": 2, \"41\": 1, \"0\": 7, \"4\": 1, \"97\": 1, \"30\": 3, \"77\": 2, \"12\": 1, \"107\": 1, \"101\": 2, \"106\": 1, \"114\": 1}, \"105\": {\"87\": 2, \"105\": 67, \"100\": 1, \"107\": 4, \"126\": 2, \"70\": 2, \"129\": 1, \"19\": 1, \"62\": 9, \"84\": 4, \"40\": 7, \"93\": 1, \"110\": 1, \"5\": 5, \"8\": 2, \"122\": 4, \"3\": 3, \"33\": 1, \"1\": 5, \"43\": 5, \"90\": 1, \"32\": 1, \"7\": 1, \"71\": 1, \"88\": 1}, \"17\": {\"3\": 1, \"112\": 1, \"107\": 3, \"121\": 1, \"87\": 1, \"19\": 1, \"129\": 2, \"34\": 1, \"105\": 1, \"26\": 1, \"4\": 3}, \"65\": {\"65\": 14, \"69\": 2, \"113\": 2, \"81\": 1, \"2\": 1}, \"123\": {\"126\": 2, \"123\": 13, \"6\": 1}, \"74\": {\"74\": 8, \"11\": 1, \"105\": 1, \"44\": 1, \"118\": 2, \"126\": 1, \"4\": 2}, \"97\": {\"123\": 2, \"97\": 9, \"6\": 1, \"78\": 1, \"109\": 1, \"107\": 1, \"77\": 2, \"25\": 1, \"93\": 1, \"12\": 1}, \"112\": {\"3\": 2, \"112\": 7, \"53\": 1, \"123\": 1, \"74\": 1, \"42\": 1, \"32\": 1, \"7\": 1, \"59\": 1}, \"120\": {\"120\": 19, \"2\": 1}, \"50\": {\"45\": 2, \"50\": 7, \"14\": 3, \"39\": 1, \"80\": 1, \"125\": 1, \"55\": 1}, \"59\": {\"112\": 1, \"20\": 1, \"101\": 2, \"59\": 8, \"25\": 2, \"94\": 2}, \"10\": {\"44\": 2, \"10\": 25, \"61\": 2, \"70\": 3, \"29\": 1, \"7\": 2, \"108\": 3, \"71\": 4, \"8\": 2, \"126\": 1, \"21\": 1, \"105\": 2, \"112\": 2, \"90\": 1, \"39\": 1, \"78\": 2, \"43\": 2, \"40\": 1, \"122\": 1, \"87\": 2}, \"45\": {\"14\": 2, \"45\": 9, \"118\": 2, \"82\": 1, \"88\": 1, \"102\": 1}, \"12\": {\"112\": 1, \"12\": 30, \"54\": 2, \"52\": 1, \"4\": 2, \"91\": 2, \"29\": 1, \"21\": 1, \"11\": 1, \"71\": 3, \"101\": 1, \"0\": 4, \"111\": 3, \"124\": 3, \"7\": 3, \"88\": 1, \"127\": 9, \"117\": 1, \"17\": 1, \"24\": 1, \"68\": 1, \"114\": 2, \"3\": 3, \"122\": 2, \"74\": 2, \"97\": 1, \"104\": 1, \"107\": 1, \"8\": 2, \"30\": 2}, \"75\": {\"51\": 2, \"75\": 8, \"40\": 1, \"15\": 1, \"101\": 2, \"58\": 1, \"6\": 1}, \"48\": {\"48\": 12, \"57\": 2, \"26\": 1, \"81\": 1, \"92\": 1, \"82\": 2, \"69\": 1}, \"61\": {\"61\": 17, \"120\": 1, \"90\": 1, \"83\": 1}, \"124\": {\"105\": 2, \"124\": 72, \"5\": 3, \"4\": 3, \"52\": 1, \"122\": 4, \"127\": 6, \"10\": 1, \"12\": 3, \"40\": 3, \"30\": 3, \"0\": 3, \"8\": 3, \"24\": 3, \"11\": 1, \"108\": 2, \"56\": 1, \"103\": 1, \"107\": 1, \"34\": 1, \"95\": 1, \"43\": 1, \"7\": 2, \"16\": 1, \"114\": 1, \"111\": 1}, \"11\": {\"38\": 1, \"111\": 3, \"122\": 2, \"11\": 33, \"31\": 1, \"7\": 3, \"43\": 1, \"44\": 1, \"10\": 2, \"117\": 1, \"127\": 1, \"3\": 2, \"98\": 3, \"39\": 1, \"0\": 1, \"8\": 2, \"108\": 4, \"101\": 3, \"41\": 1, \"19\": 1, \"15\": 1, \"53\": 1, \"42\": 1, \"115\": 1, \"71\": 2, \"94\": 2, \"4\": 1, \"12\": 3, \"69\": 1}, \"103\": {\"103\": 11, \"79\": 1, \"45\": 1, \"126\": 1, \"124\": 1, \"15\": 1}, \"7\": {\"7\": 87, \"95\": 1, \"49\": 1, \"10\": 2, \"110\": 1, \"23\": 1, \"108\": 5, \"109\": 2, \"122\": 7, \"12\": 1, \"114\": 2, \"5\": 3, \"11\": 2, \"39\": 1, \"3\": 3, \"78\": 1, \"52\": 1, \"43\": 1, \"127\": 3, \"105\": 1, \"71\": 1, \"124\": 2, \"0\": 1, \"8\": 2}, \"18\": {\"18\": 99, \"117\": 10, \"88\": 1, \"26\": 7, \"113\": 1, \"16\": 1, \"39\": 1}, \"31\": {\"31\": 14, \"45\": 1, \"69\": 1, \"118\": 1, \"62\": 2, \"126\": 1}, \"15\": {\"6\": 2, \"15\": 58, \"25\": 2, \"125\": 9, \"24\": 4, \"101\": 7, \"117\": 2, \"36\": 7, \"106\": 11, \"30\": 8, \"98\": 3, \"27\": 1, \"75\": 1, \"58\": 1, \"94\": 2}, \"1\": {\"1\": 86, \"99\": 1, \"43\": 2, \"84\": 5, \"40\": 2, \"39\": 1, \"126\": 3, \"5\": 1, \"33\": 8, \"105\": 4, \"62\": 5, \"96\": 1, \"22\": 2, \"122\": 1}, \"66\": {\"66\": 13, \"8\": 1, \"60\": 2, \"90\": 1, \"85\": 1, \"4\": 1, \"55\": 1}, \"110\": {\"78\": 2, \"110\": 19, \"70\": 1, \"114\": 1, \"44\": 1, \"107\": 3, \"89\": 1, \"109\": 1, \"3\": 1, \"26\": 1, \"61\": 1, \"80\": 1, \"96\": 1, \"10\": 1, \"121\": 1, \"62\": 1, \"99\": 1, \"71\": 1, \"88\": 1}, \"27\": {\"9\": 2, \"27\": 24, \"15\": 3, \"106\": 3, \"36\": 8, \"117\": 3, \"58\": 1, \"96\": 1, \"101\": 1, \"24\": 1, \"2\": 1, \"111\": 1, \"125\": 9, \"25\": 2, \"12\": 1, \"75\": 1, \"6\": 1, \"83\": 1, \"30\": 1, \"10\": 1, \"113\": 1, \"70\": 1}, \"22\": {\"22\": 12, \"43\": 1, \"125\": 2, \"44\": 1, \"14\": 1, \"123\": 1, \"85\": 2}, \"117\": {\"117\": 96, \"113\": 6, \"121\": 2, \"26\": 6, \"18\": 9, \"88\": 1}, \"39\": {\"39\": 48, \"31\": 2, \"16\": 5, \"117\": 1, \"93\": 6, \"109\": 4, \"33\": 1, \"88\": 11, \"70\": 2, \"90\": 3, \"69\": 3, \"126\": 1, \"18\": 3, \"26\": 4, \"20\": 1, \"81\": 1, \"82\": 1, \"87\": 3, \"118\": 2, \"21\": 5, \"102\": 1}}, \"C_3\": {\"5\": {\"5\": 110, \"55\": 1, \"34\": 1, \"37\": 1, \"6\": 1, \"26\": 1, \"57\": 1}, \"32\": {\"32\": 26, \"4\": 2}, \"33\": {\"33\": 24, \"2\": 1, \"6\": 2, \"3\": 1}, \"49\": {\"49\": 20}, \"39\": {\"39\": 16}, \"11\": {\"11\": 120, \"15\": 18, \"16\": 4}, \"8\": {\"12\": 1, \"8\": 79, \"38\": 1, \"20\": 8, \"36\": 6, \"50\": 6, \"27\": 5, \"54\": 2, \"25\": 3, \"17\": 1, \"53\": 3, \"3\": 1}, \"26\": {\"26\": 23, \"0\": 1}, \"51\": {\"51\": 117, \"54\": 1, \"53\": 3, \"21\": 1}, \"4\": {\"4\": 138, \"40\": 2, \"45\": 2, \"54\": 1, \"19\": 2, \"27\": 1}, \"52\": {\"52\": 113, \"23\": 1, \"16\": 2, \"18\": 2}, \"47\": {\"47\": 67, \"50\": 1, \"0\": 2, \"25\": 1, \"55\": 1, \"48\": 5, \"3\": 1, \"42\": 1, \"34\": 3, \"6\": 1, \"57\": 5, \"5\": 2, \"1\": 1, \"9\": 1}, \"17\": {\"33\": 1, \"17\": 101, \"27\": 1, \"48\": 1, \"56\": 1, \"3\": 1, \"30\": 1, \"36\": 1}, \"53\": {\"53\": 129, \"21\": 1, \"46\": 1, \"20\": 1, \"51\": 2, \"54\": 1, \"27\": 1}, \"2\": {\"2\": 31, \"12\": 1}, \"12\": {\"32\": 1, \"8\": 5, \"12\": 65, \"38\": 4, \"20\": 7, \"53\": 1, \"54\": 2, \"36\": 1, \"2\": 1, \"45\": 1, \"25\": 3, \"51\": 1}, \"37\": {\"37\": 28}, \"9\": {\"9\": 134, \"33\": 2, \"41\": 1, \"57\": 2, \"53\": 1, \"29\": 3, \"54\": 1, \"17\": 1, \"50\": 1, \"19\": 2}, \"13\": {\"13\": 114, \"7\": 1, \"24\": 2, \"11\": 5, \"22\": 4, \"43\": 2}, \"54\": {\"54\": 97, \"36\": 2, \"32\": 1}, \"31\": {\"31\": 28}, \"34\": {\"34\": 31, \"41\": 1}, \"24\": {\"24\": 100, \"10\": 2, \"14\": 1, \"22\": 1}, \"7\": {\"7\": 32, \"43\": 2, \"37\": 1, \"0\": 1}, \"50\": {\"54\": 3, \"50\": 48, \"36\": 8, \"25\": 8, \"8\": 7, \"3\": 10, \"6\": 7, \"53\": 9, \"51\": 2, \"12\": 2, \"20\": 5, \"55\": 2, \"17\": 1, \"38\": 2, \"27\": 1, \"46\": 1, \"21\": 2}, \"46\": {\"21\": 2, \"50\": 3, \"9\": 2, \"52\": 6, \"46\": 51, \"3\": 18, \"26\": 1, \"6\": 8, \"48\": 5, \"30\": 6, \"25\": 2, \"23\": 4, \"55\": 2, \"20\": 6, \"36\": 2, \"57\": 1, \"37\": 1, \"51\": 1, \"41\": 1, \"34\": 1, \"53\": 3, \"18\": 1, \"17\": 1}, \"44\": {\"9\": 1, \"44\": 71, \"19\": 10, \"40\": 4, \"36\": 1, \"29\": 1}, \"40\": {\"40\": 104, \"44\": 6, \"42\": 1, \"45\": 1, \"57\": 1, \"9\": 1, \"19\": 2}, \"21\": {\"21\": 99, \"50\": 2, \"6\": 2, \"36\": 2, \"53\": 4, \"54\": 2, \"1\": 1, \"51\": 9, \"46\": 1, \"3\": 2, \"17\": 2, \"29\": 1, \"9\": 1}, \"45\": {\"54\": 2, \"32\": 1, \"4\": 12, \"12\": 2, \"45\": 25, \"25\": 7, \"27\": 3, \"17\": 2, \"36\": 2, \"50\": 2, \"53\": 1, \"19\": 1}, \"16\": {\"16\": 109, \"52\": 4, \"23\": 7, \"1\": 1, \"18\": 2, \"46\": 1, \"15\": 2}, \"14\": {\"32\": 1, \"24\": 4, \"10\": 5, \"31\": 3, \"19\": 5, \"56\": 4, \"14\": 12, \"29\": 1, \"44\": 1, \"49\": 1, \"28\": 1, \"7\": 1, \"35\": 1}, \"36\": {\"36\": 98, \"8\": 1, \"27\": 1}, \"56\": {\"56\": 111, \"22\": 2, \"24\": 1}, \"10\": {\"10\": 52, \"24\": 4, \"56\": 1, \"48\": 1, \"15\": 1, \"13\": 1, \"22\": 2, \"49\": 1, \"43\": 1}, \"18\": {\"18\": 84}, \"48\": {\"48\": 102, \"41\": 3, \"6\": 1, \"47\": 2, \"52\": 2, \"15\": 1, \"46\": 2, \"5\": 2, \"3\": 1}, \"38\": {\"38\": 25, \"20\": 2, \"4\": 1}, \"27\": {\"27\": 116, \"45\": 2, \"36\": 3, \"3\": 2, \"17\": 2, \"4\": 1, \"32\": 2, \"53\": 1, \"19\": 1}, \"42\": {\"27\": 3, \"42\": 21, \"31\": 1, \"25\": 1, \"36\": 1, \"35\": 1}, \"15\": {\"15\": 121, \"1\": 1, \"16\": 7, \"11\": 2, \"48\": 1, \"50\": 1, \"55\": 1}, \"1\": {\"1\": 88, \"29\": 2, \"48\": 4, \"46\": 1, \"57\": 2, \"0\": 2, \"47\": 1}, \"28\": {\"7\": 1, \"28\": 20, \"5\": 5, \"47\": 1, \"35\": 1}, \"43\": {\"43\": 116, \"11\": 4, \"15\": 5, \"7\": 3, \"0\": 2, \"23\": 3, \"16\": 2, \"13\": 1}, \"0\": {\"0\": 103, \"57\": 4, \"7\": 1, \"47\": 4, \"23\": 3, \"46\": 2, \"28\": 1, \"48\": 3, \"1\": 2, \"15\": 1}, \"57\": {\"57\": 97, \"1\": 5, \"48\": 1, \"29\": 8, \"34\": 3, \"36\": 1, \"47\": 4, \"9\": 4, \"46\": 1}, \"3\": {\"50\": 9, \"3\": 68, \"6\": 13, \"35\": 1, \"25\": 4, \"8\": 4, \"27\": 7, \"46\": 9, \"33\": 1, \"21\": 3, \"48\": 3, \"44\": 1, \"54\": 2, \"36\": 4, \"4\": 1, \"9\": 5, \"17\": 1, \"53\": 3, \"30\": 1, \"20\": 2, \"29\": 3, \"38\": 1, \"1\": 1, \"51\": 1}, \"29\": {\"29\": 100, \"57\": 5, \"1\": 5, \"9\": 8, \"19\": 4, \"6\": 1, \"50\": 1}, \"41\": {\"41\": 23, \"50\": 1, \"3\": 2, \"46\": 1, \"39\": 1}, \"25\": {\"25\": 119, \"3\": 8, \"12\": 1, \"46\": 1, \"50\": 7, \"36\": 2, \"54\": 1, \"17\": 1, \"20\": 2, \"8\": 4}, \"6\": {\"6\": 56, \"3\": 6, \"26\": 3, \"46\": 7, \"50\": 5, \"30\": 3, \"17\": 1, \"36\": 3, \"47\": 1, \"25\": 2, \"27\": 1}, \"35\": {\"35\": 28}, \"20\": {\"20\": 107, \"21\": 1, \"53\": 1, \"50\": 2, \"2\": 1, \"36\": 1, \"8\": 5, \"46\": 1, \"38\": 1, \"54\": 3, \"30\": 1, \"12\": 1, \"25\": 1}, \"23\": {\"23\": 134}, \"22\": {\"31\": 2, \"22\": 108, \"56\": 7, \"14\": 5, \"10\": 4, \"13\": 2, \"43\": 4, \"48\": 1, \"0\": 1, \"24\": 1, \"55\": 2, \"28\": 2, \"49\": 1}, \"19\": {\"19\": 107, \"9\": 2, \"44\": 2, \"4\": 2, \"29\": 1, \"40\": 1, \"25\": 1}, \"55\": {\"55\": 122, \"47\": 2}, \"30\": {\"30\": 109, \"20\": 2, \"18\": 4, \"17\": 1, \"41\": 1, \"46\": 1, \"52\": 1, \"23\": 1}}, \"W_1\": {\"60\": {\"60\": 5, \"4\": 1, \"38\": 2, \"8\": 1, \"90\": 1, \"11\": 1, \"34\": 1, \"72\": 1, \"119\": 1, \"13\": 1, \"109\": 1}, \"59\": {\"76\": 1, \"59\": 5, \"6\": 2, \"27\": 1, \"30\": 1, \"125\": 1, \"11\": 1}, \"107\": {\"4\": 2, \"107\": 73, \"79\": 1, \"72\": 2, \"49\": 1, \"68\": 1, \"75\": 2, \"110\": 7, \"127\": 2, \"0\": 4, \"40\": 5, \"105\": 2, \"5\": 2, \"106\": 6, \"114\": 1, \"1\": 2, \"101\": 1, \"43\": 2, \"90\": 1, \"73\": 1, \"89\": 1, \"32\": 1, \"126\": 2, \"12\": 1, \"108\": 1}, \"113\": {\"113\": 93, \"78\": 1, \"95\": 1, \"118\": 5, \"16\": 4, \"26\": 4, \"69\": 5, \"117\": 6, \"8\": 1, \"2\": 2, \"121\": 1, \"11\": 1}, \"6\": {\"6\": 12, \"59\": 2, \"98\": 1, \"18\": 1, \"37\": 1, \"15\": 3, \"85\": 1, \"112\": 1, \"21\": 1, \"71\": 2, \"27\": 1, \"94\": 1, \"69\": 1, \"12\": 1, \"88\": 2, \"68\": 1}, \"24\": {\"24\": 47, \"28\": 1, \"112\": 1, \"94\": 2, \"56\": 1, \"40\": 1, \"27\": 4, \"71\": 4, \"41\": 1, \"12\": 2, \"98\": 5, \"108\": 4, \"30\": 3, \"116\": 1, \"15\": 2, \"89\": 3, \"0\": 1, \"88\": 1, \"93\": 1, \"39\": 1, \"127\": 3, \"117\": 1, \"125\": 1, \"106\": 1}, \"50\": {\"50\": 12, \"33\": 1, \"102\": 1, \"82\": 1, \"75\": 1}, \"62\": {\"50\": 1, \"62\": 95, \"19\": 1, \"87\": 1, \"33\": 4, \"69\": 6, \"102\": 9, \"11\": 1, \"14\": 1, \"70\": 1}, \"48\": {\"48\": 12}, \"104\": {\"104\": 13, \"90\": 1, \"22\": 1, \"7\": 1}, \"105\": {\"105\": 46, \"4\": 1, \"40\": 10, \"114\": 7, \"87\": 3, \"10\": 1, \"43\": 2, \"126\": 1, \"84\": 6, \"65\": 1, \"93\": 1, \"129\": 1, \"5\": 3, \"15\": 1}, \"44\": {\"44\": 69, \"108\": 3, \"126\": 3, \"10\": 1}, \"49\": {\"55\": 1, \"24\": 2, \"49\": 5, \"29\": 1, \"56\": 1, \"12\": 1, \"73\": 1, \"52\": 2, \"115\": 1, \"31\": 1, \"85\": 1, \"4\": 1, \"43\": 2}, \"55\": {\"4\": 2, \"72\": 1, \"55\": 9}, \"4\": {\"107\": 4, \"81\": 3, \"4\": 40, \"25\": 1, \"124\": 1, \"34\": 1, \"93\": 8, \"110\": 2, \"70\": 2, \"86\": 4, \"40\": 4, \"108\": 3, \"114\": 6, \"84\": 2, \"0\": 2, \"105\": 4, \"10\": 5, \"55\": 1, \"1\": 1, \"41\": 2, \"106\": 2, \"101\": 2}, \"76\": {\"76\": 15, \"90\": 1}, \"85\": {\"0\": 6, \"85\": 21, \"101\": 2, \"68\": 1, \"27\": 1, \"37\": 1}, \"89\": {\"89\": 28, \"24\": 2, \"70\": 1, \"27\": 1, \"111\": 2, \"32\": 1, \"98\": 1}, \"74\": {\"74\": 15, \"78\": 1}, \"112\": {\"30\": 2, \"24\": 1, \"112\": 10, \"111\": 1, \"52\": 1, \"37\": 1}, \"79\": {\"79\": 11, \"124\": 1}, \"0\": {\"0\": 38, \"118\": 1, \"34\": 1, \"126\": 2, \"55\": 2, \"73\": 1, \"93\": 8, \"85\": 1, \"72\": 1, \"101\": 5, \"106\": 1, \"107\": 6, \"124\": 1, \"5\": 2, \"49\": 3, \"4\": 2, \"9\": 1, \"111\": 1, \"98\": 2, \"12\": 1, \"108\": 3, \"87\": 1}, \"91\": {\"91\": 16, \"85\": 1, \"24\": 1, \"127\": 1, \"55\": 1, \"71\": 3, \"103\": 1, \"101\": 1, \"108\": 2, \"6\": 1}, \"118\": {\"118\": 51, \"95\": 2, \"69\": 2, \"26\": 6, \"113\": 2, \"117\": 9, \"39\": 3, \"16\": 6, \"5\": 1, \"18\": 1, \"27\": 1}, \"80\": {\"84\": 2, \"80\": 9, \"128\": 1, \"45\": 1, \"74\": 1, \"104\": 1, \"99\": 1}, \"64\": {\"64\": 16}, \"97\": {\"91\": 2, \"112\": 2, \"68\": 1, \"27\": 2, \"97\": 6, \"111\": 1, \"40\": 1, \"30\": 1, \"5\": 1, \"72\": 1, \"41\": 1, \"51\": 1}, \"84\": {\"84\": 88, \"76\": 1, \"99\": 1, \"43\": 4, \"8\": 1, \"114\": 13, \"40\": 2, \"87\": 1, \"105\": 1, \"1\": 5, \"73\": 1, \"109\": 2, \"11\": 1, \"126\": 3}, \"38\": {\"80\": 1, \"38\": 13, \"54\": 2}, \"30\": {\"30\": 24, \"15\": 4, \"24\": 7, \"125\": 3, \"36\": 2, \"59\": 1, \"75\": 2, \"92\": 2, \"71\": 1, \"108\": 2, \"88\": 2, \"101\": 1, \"27\": 1}, \"32\": {\"32\": 19, \"65\": 1, \"52\": 1, \"110\": 1, \"71\": 2, \"92\": 1, \"97\": 1, \"111\": 2, \"27\": 1, \"113\": 1, \"121\": 1, \"24\": 1}, \"72\": {\"34\": 1, \"72\": 12, \"114\": 1, \"55\": 1, \"40\": 1, \"73\": 1, \"106\": 4, \"110\": 2, \"9\": 1, \"101\": 1, \"90\": 1, \"107\": 2, \"93\": 1, \"10\": 1, \"5\": 1, \"127\": 1}, \"33\": {\"33\": 114, \"99\": 1, \"96\": 1, \"62\": 4, \"84\": 1, \"102\": 6, \"14\": 1, \"43\": 2, \"20\": 1, \"90\": 1}, \"34\": {\"112\": 1, \"76\": 2, \"126\": 2, \"27\": 2, \"68\": 1, \"92\": 1, \"83\": 5, \"61\": 1, \"84\": 1, \"30\": 2, \"90\": 1, \"116\": 1, \"6\": 2, \"34\": 1, \"1\": 1, \"36\": 2, \"87\": 1, \"28\": 1, \"91\": 1, \"98\": 1, \"128\": 1, \"89\": 1}, \"28\": {\"76\": 2, \"90\": 1, \"28\": 10, \"66\": 4, \"128\": 2, \"109\": 1}, \"123\": {\"123\": 11, \"44\": 1, \"119\": 1, \"95\": 2, \"2\": 1}, \"2\": {\"2\": 11, \"14\": 2, \"11\": 2, \"65\": 1, \"39\": 1, \"82\": 2, \"118\": 2, \"117\": 1, \"96\": 1, \"18\": 1, \"121\": 1, \"13\": 1, \"123\": 1, \"114\": 1, \"69\": 1, \"19\": 1, \"43\": 1, \"116\": 1}, \"70\": {\"70\": 33, \"10\": 3, \"22\": 2, \"111\": 1, \"93\": 3, \"24\": 2, \"96\": 1, \"21\": 3, \"108\": 11, \"90\": 7, \"0\": 6, \"86\": 1, \"44\": 4, \"88\": 1, \"124\": 3, \"110\": 2, \"105\": 1, \"39\": 2, \"43\": 5, \"126\": 4, \"101\": 3, \"11\": 3, \"114\": 1, \"97\": 2, \"28\": 1, \"29\": 1, \"41\": 1, \"45\": 2, \"109\": 3, \"89\": 1, \"98\": 2, \"14\": 2, \"40\": 1, \"122\": 1, \"87\": 1, \"8\": 1, \"7\": 1, \"106\": 1, \"18\": 1}, \"127\": {\"127\": 73, \"59\": 1, \"5\": 1, \"49\": 1, \"78\": 1, \"34\": 1, \"103\": 1, \"24\": 5, \"98\": 2, \"71\": 2, \"0\": 2, \"101\": 2, \"111\": 5, \"106\": 2, \"107\": 4, \"55\": 2, \"68\": 1, \"12\": 1, \"70\": 1}, \"110\": {\"110\": 83, \"106\": 7, \"55\": 1, \"70\": 2, \"40\": 7, \"5\": 4, \"107\": 8, \"105\": 2, \"39\": 1, \"124\": 4, \"113\": 1, \"77\": 1, \"17\": 2, \"101\": 2, \"0\": 1, \"109\": 1, \"117\": 1}, \"126\": {\"126\": 70, \"44\": 5, \"93\": 10, \"1\": 1, \"109\": 4, \"28\": 1, \"66\": 1, \"87\": 4, \"106\": 2, \"4\": 3, \"90\": 6, \"70\": 7, \"43\": 6, \"101\": 1, \"105\": 2, \"108\": 1, \"7\": 5, \"110\": 1, \"41\": 1, \"0\": 2, \"8\": 1, \"40\": 1, \"124\": 1}, \"13\": {\"13\": 9, \"26\": 2, \"118\": 2, \"63\": 1, \"78\": 1, \"11\": 1}, \"15\": {\"15\": 52, \"30\": 1, \"6\": 1, \"92\": 2, \"125\": 10, \"98\": 3, \"27\": 6, \"71\": 4, \"12\": 2, \"36\": 10, \"94\": 3, \"111\": 3, \"88\": 3, \"24\": 1, \"97\": 1, \"127\": 1, \"0\": 1}, \"29\": {\"29\": 22, \"86\": 2, \"126\": 1, \"107\": 1, \"34\": 1, \"79\": 1}, \"18\": {\"18\": 101, \"99\": 1, \"117\": 3, \"118\": 3, \"33\": 1, \"2\": 2, \"63\": 1, \"39\": 2, \"109\": 1, \"122\": 1, \"114\": 1, \"87\": 1, \"62\": 1, \"69\": 1}, \"7\": {\"7\": 132, \"1\": 1, \"87\": 1, \"109\": 1, \"84\": 2, \"64\": 1, \"99\": 2, \"43\": 1, \"124\": 1}, \"56\": {\"15\": 2, \"98\": 1, \"24\": 1, \"75\": 2, \"111\": 1, \"56\": 3, \"125\": 1, \"30\": 1}, \"98\": {\"98\": 53, \"111\": 5, \"127\": 3, \"24\": 4, \"30\": 2, \"0\": 2, \"110\": 1, \"15\": 5, \"71\": 6, \"108\": 4, \"12\": 11, \"101\": 2, \"32\": 1, \"97\": 1, \"6\": 1, \"34\": 1, \"53\": 1, \"68\": 1, \"94\": 1, \"27\": 1, \"106\": 1, \"10\": 1}, \"99\": {\"99\": 22, \"65\": 1, \"42\": 1}, \"77\": {\"77\": 8, \"111\": 1, \"17\": 2, \"12\": 1, \"26\": 1, \"72\": 1, \"110\": 1, \"41\": 1}, \"103\": {\"15\": 1, \"49\": 1, \"9\": 2, \"103\": 9, \"27\": 1, \"75\": 1, \"93\": 1}, \"128\": {\"126\": 1, \"99\": 1, \"108\": 1, \"84\": 1, \"128\": 8, \"72\": 2, \"29\": 1, \"28\": 1, \"82\": 1, \"61\": 1, \"107\": 1, \"85\": 1, \"109\": 1, \"14\": 1, \"4\": 1, \"43\": 1}, \"3\": {\"3\": 69, \"43\": 4, \"96\": 1, \"122\": 2, \"125\": 1, \"27\": 1, \"102\": 2, \"1\": 2, \"69\": 2, \"36\": 2, \"109\": 1, \"87\": 1}, \"121\": {\"117\": 1, \"121\": 17, \"113\": 3, \"65\": 2, \"69\": 2, \"62\": 1, \"45\": 1, \"66\": 2, \"76\": 1, \"16\": 1, \"119\": 1}, \"42\": {\"42\": 8, \"99\": 2, \"43\": 4, \"7\": 1, \"0\": 1, \"29\": 1, \"20\": 2, \"4\": 1, \"3\": 2, \"49\": 1, \"109\": 2, \"116\": 2, \"96\": 1}, \"90\": {\"90\": 115, \"7\": 1, \"109\": 2, \"23\": 1, \"28\": 1}, \"37\": {\"37\": 14, \"52\": 2}, \"120\": {\"121\": 1, \"120\": 16, \"23\": 1, \"66\": 1, \"39\": 1}, \"117\": {\"117\": 75, \"39\": 8, \"16\": 14, \"95\": 1, \"118\": 4, \"26\": 9, \"18\": 4, \"122\": 1, \"69\": 2}, \"9\": {\"103\": 3, \"29\": 1, \"89\": 1, \"9\": 17, \"21\": 1, \"0\": 4, \"110\": 1, \"47\": 1, \"79\": 1, \"101\": 2}, \"108\": {\"9\": 1, \"108\": 42, \"106\": 4, \"52\": 1, \"96\": 2, \"27\": 2, \"41\": 1, \"86\": 2, \"115\": 1, \"21\": 2, \"98\": 4, \"66\": 1, \"89\": 2, \"0\": 8, \"10\": 6, \"93\": 8, \"101\": 5, \"70\": 7, \"24\": 2, \"4\": 2, \"5\": 2, \"87\": 1, \"43\": 1, \"126\": 4, \"91\": 1, \"31\": 3, \"128\": 3, \"12\": 1, \"125\": 1, \"8\": 1, \"110\": 1, \"40\": 1, \"94\": 1}, \"83\": {\"83\": 21, \"14\": 1, \"54\": 1, \"8\": 1, \"19\": 1, \"39\": 1, \"114\": 2}, \"14\": {\"14\": 70, \"81\": 1, \"33\": 1, \"65\": 1, \"8\": 3, \"43\": 3, \"102\": 1, \"62\": 2, \"1\": 2, \"122\": 7, \"3\": 1, \"84\": 3, \"11\": 1}, \"63\": {\"2\": 2, \"63\": 11, \"13\": 1, \"121\": 1, \"18\": 1}, \"11\": {\"11\": 61, \"87\": 2, \"2\": 2, \"102\": 4, \"109\": 3, \"39\": 5, \"70\": 2, \"62\": 5, \"16\": 1, \"84\": 3, \"14\": 3, \"114\": 1, \"122\": 3, \"8\": 2, \"33\": 3, \"7\": 2, \"90\": 2, \"66\": 1, \"45\": 2, \"128\": 1, \"23\": 1, \"13\": 1, \"69\": 1, \"120\": 1, \"81\": 1, \"40\": 1, \"43\": 3, \"3\": 1}, \"95\": {\"95\": 18, \"121\": 2, \"118\": 3, \"119\": 3, \"117\": 2, \"26\": 2, \"113\": 2, \"2\": 1, \"39\": 1, \"69\": 2}, \"26\": {\"26\": 95, \"113\": 4, \"42\": 1, \"117\": 7, \"118\": 4, \"16\": 10, \"36\": 1, \"18\": 1, \"51\": 1, \"39\": 2, \"87\": 1, \"11\": 1, \"114\": 1, \"69\": 1}, \"22\": {\"22\": 8, \"83\": 1, \"123\": 1, \"80\": 1, \"66\": 1, \"19\": 1, \"84\": 1, \"109\": 1, \"14\": 1}, \"102\": {\"102\": 84, \"67\": 2, \"20\": 1, \"99\": 1, \"1\": 2, \"62\": 12, \"11\": 3, \"33\": 8, \"87\": 1, \"3\": 1, \"76\": 1, \"8\": 1, \"129\": 2, \"14\": 1}, \"69\": {\"69\": 69, \"102\": 8, \"121\": 1, \"3\": 1, \"16\": 2, \"62\": 13, \"39\": 4, \"113\": 2, \"18\": 1, \"11\": 1, \"33\": 2, \"67\": 1, \"99\": 1}, \"1\": {\"1\": 88, \"129\": 1, \"14\": 3, \"87\": 6, \"122\": 2, \"114\": 6, \"8\": 1, \"84\": 9, \"43\": 5, \"33\": 2, \"70\": 1, \"73\": 1, \"44\": 1, \"3\": 2, \"105\": 1, \"126\": 1}, \"67\": {\"67\": 16}, \"57\": {\"57\": 11, \"128\": 1}, \"8\": {\"57\": 1, \"128\": 1, \"8\": 90, \"60\": 1, \"10\": 1, \"28\": 1, \"19\": 1, \"26\": 1, \"21\": 1, \"114\": 3, \"109\": 4, \"87\": 6, \"105\": 1, \"93\": 1, \"43\": 2, \"11\": 1, \"122\": 1, \"1\": 1, \"124\": 6, \"126\": 1, \"70\": 3, \"108\": 2, \"100\": 1, \"40\": 2, \"84\": 1}, \"109\": {\"64\": 3, \"109\": 87, \"78\": 1, \"61\": 1, \"90\": 12, \"19\": 1, \"118\": 1, \"7\": 5, \"10\": 2, \"39\": 2, \"122\": 2, \"28\": 1, \"87\": 1, \"96\": 1, \"3\": 3, \"18\": 1}, \"129\": {\"1\": 2, \"114\": 2, \"100\": 2, \"102\": 1, \"20\": 1, \"129\": 6, \"108\": 1, \"117\": 1, \"96\": 1, \"63\": 1, \"65\": 1, \"39\": 1, \"87\": 1, \"13\": 1, \"99\": 1, \"83\": 1, \"50\": 1, \"69\": 1, \"84\": 2}, \"111\": {\"111\": 72, \"37\": 1, \"24\": 5, \"75\": 1, \"70\": 3, \"30\": 1, \"127\": 9, \"89\": 2, \"98\": 5, \"15\": 1, \"12\": 6, \"108\": 1, \"88\": 2, \"106\": 2, \"36\": 1, \"103\": 1, \"112\": 1, \"85\": 1, \"71\": 1, \"32\": 1, \"107\": 1, \"94\": 2}, \"71\": {\"71\": 69, \"102\": 2, \"53\": 3, \"3\": 2, \"91\": 1, \"30\": 2, \"52\": 1, \"24\": 2, \"98\": 3, \"11\": 1, \"12\": 4, \"110\": 1, \"88\": 3, \"94\": 2, \"113\": 2, \"27\": 2, \"111\": 2, \"127\": 3, \"26\": 1, \"125\": 1, \"69\": 1}, \"47\": {\"47\": 7, \"40\": 1, \"124\": 1, \"108\": 1, \"1\": 1, \"79\": 1}, \"82\": {\"100\": 3, \"82\": 24, \"62\": 3, \"122\": 1, \"115\": 1, \"5\": 1, \"128\": 1, \"3\": 1, \"2\": 1}, \"27\": {\"27\": 34, \"6\": 5, \"59\": 2, \"32\": 1, \"88\": 6, \"24\": 3, \"52\": 2, \"125\": 8, \"70\": 1, \"15\": 8, \"12\": 2, \"36\": 6, \"108\": 1, \"98\": 2, \"111\": 2, \"94\": 3, \"85\": 1, \"30\": 1, \"0\": 2, \"68\": 1, \"71\": 1}, \"19\": {\"19\": 9, \"122\": 1, \"82\": 1, \"40\": 2, \"4\": 3, \"126\": 2, \"41\": 1, \"5\": 1, \"62\": 1, \"100\": 2, \"42\": 1, \"102\": 1, \"108\": 2, \"87\": 1}, \"122\": {\"87\": 3, \"82\": 2, \"122\": 32, \"28\": 1, \"11\": 2, \"39\": 2, \"84\": 8, \"62\": 2, \"114\": 6, \"14\": 8, \"33\": 1, \"43\": 6, \"1\": 6, \"100\": 1, \"40\": 2, \"8\": 1, \"63\": 1, \"109\": 3, \"3\": 1}, \"53\": {\"53\": 18, \"6\": 1, \"30\": 1}, \"87\": {\"122\": 4, \"66\": 1, \"5\": 6, \"87\": 21, \"81\": 2, \"10\": 2, \"114\": 8, \"90\": 10, \"28\": 2, \"14\": 3, \"4\": 2, \"84\": 7, \"43\": 10, \"94\": 1, \"109\": 4, \"105\": 4, \"126\": 2, \"40\": 6, \"8\": 1, \"37\": 1, \"73\": 1, \"129\": 1, \"61\": 1, \"39\": 1, \"78\": 1, \"1\": 1, \"44\": 2, \"102\": 1, \"62\": 1, \"93\": 1}, \"100\": {\"82\": 2, \"100\": 7, \"13\": 1, \"28\": 1, \"117\": 1, \"62\": 1, \"61\": 1, \"3\": 2}, \"66\": {\"66\": 16}, \"31\": {\"31\": 15, \"0\": 1}, \"58\": {\"58\": 8, \"94\": 2, \"111\": 1, \"15\": 1}, \"68\": {\"68\": 11, \"32\": 1, \"54\": 1, \"101\": 1, \"107\": 2}, \"88\": {\"88\": 38, \"112\": 1, \"27\": 8, \"97\": 1, \"46\": 1, \"6\": 2, \"53\": 1, \"125\": 12, \"71\": 3, \"36\": 7, \"16\": 1, \"101\": 5, \"98\": 4, \"12\": 1, \"15\": 5, \"94\": 4, \"108\": 3, \"111\": 6, \"113\": 1, \"70\": 1, \"10\": 1, \"0\": 2, \"24\": 2, \"86\": 1, \"30\": 1, \"127\": 2}, \"45\": {\"57\": 1, \"129\": 1, \"109\": 2, \"3\": 2, \"45\": 2, \"11\": 1, \"36\": 1, \"33\": 2}, \"114\": {\"114\": 83, \"87\": 2, \"115\": 1, \"107\": 1, \"43\": 5, \"1\": 5, \"84\": 9, \"40\": 8, \"105\": 4, \"5\": 5, \"110\": 1, \"4\": 2, \"102\": 1, \"93\": 1}, \"23\": {\"58\": 1, \"104\": 4, \"85\": 1, \"64\": 1, \"20\": 1, \"23\": 5, \"90\": 2, \"87\": 1, \"10\": 1, \"71\": 1, \"0\": 1, \"36\": 1, \"11\": 1, \"82\": 1, \"106\": 1, \"54\": 1}, \"65\": {\"92\": 1, \"65\": 2, \"20\": 2, \"33\": 1, \"60\": 1, \"48\": 1, \"51\": 1, \"63\": 1, \"18\": 1, \"118\": 1}, \"124\": {\"124\": 66, \"46\": 1, \"8\": 3, \"54\": 1, \"40\": 6, \"87\": 1, \"107\": 6, \"83\": 2, \"106\": 2, \"1\": 1, \"5\": 1, \"84\": 2, \"7\": 1, \"93\": 3, \"114\": 5, \"14\": 2, \"11\": 2, \"101\": 1, \"43\": 1, \"70\": 1, \"109\": 1, \"108\": 2, \"17\": 1, \"110\": 1, \"4\": 4, \"127\": 1}, \"10\": {\"10\": 38, \"99\": 1, \"85\": 3, \"0\": 9, \"54\": 1, \"4\": 2, \"70\": 3, \"90\": 6, \"32\": 1, \"109\": 7, \"126\": 6, \"44\": 4, \"94\": 1, \"15\": 1, \"43\": 2, \"127\": 1, \"101\": 10, \"87\": 4, \"39\": 2, \"11\": 1, \"106\": 3, \"111\": 2, \"8\": 2, \"98\": 1, \"53\": 1, \"93\": 1, \"89\": 1, \"72\": 1, \"12\": 1, \"108\": 1, \"7\": 2, \"14\": 1}, \"92\": {\"92\": 17, \"94\": 1, \"15\": 3, \"24\": 1, \"58\": 1, \"98\": 2, \"85\": 1, \"88\": 2}, \"40\": {\"40\": 66, \"124\": 5, \"87\": 5, \"107\": 8, \"34\": 1, \"84\": 6, \"14\": 2, \"19\": 1, \"114\": 10, \"86\": 2, \"110\": 4, \"105\": 12, \"5\": 7, \"11\": 1, \"8\": 1, \"55\": 2, \"128\": 1, \"4\": 3, \"39\": 1, \"93\": 5, \"126\": 1}, \"73\": {\"73\": 16, \"109\": 1, \"72\": 1, \"33\": 1, \"64\": 1}, \"94\": {\"94\": 38, \"92\": 2, \"125\": 9, \"106\": 1, \"27\": 8, \"24\": 3, \"12\": 4, \"15\": 9, \"88\": 5, \"111\": 3, \"36\": 3, \"30\": 2, \"98\": 2, \"91\": 1, \"118\": 1, \"71\": 1}, \"81\": {\"81\": 20, \"14\": 1, \"124\": 1, \"129\": 2, \"128\": 1, \"122\": 1, \"82\": 1, \"40\": 1}, \"101\": {\"101\": 85, \"0\": 5, \"14\": 1, \"27\": 1, \"88\": 2, \"110\": 3, \"70\": 1, \"111\": 1, \"106\": 4, \"75\": 1, \"55\": 1, \"108\": 1, \"43\": 1, \"85\": 1, \"39\": 1, \"125\": 1}, \"86\": {\"86\": 19, \"101\": 4, \"44\": 1, \"92\": 1, \"85\": 1, \"43\": 1, \"108\": 4, \"70\": 3, \"89\": 1, \"7\": 1}, \"78\": {\"109\": 4, \"67\": 2, \"129\": 3, \"126\": 1, \"96\": 1, \"73\": 1, \"87\": 2, \"70\": 1, \"43\": 1}, \"96\": {\"22\": 1, \"78\": 1, \"96\": 10, \"3\": 1, \"14\": 2, \"44\": 2, \"109\": 1, \"87\": 1, \"1\": 1}, \"5\": {\"5\": 44, \"80\": 1, \"84\": 6, \"105\": 6, \"40\": 6, \"93\": 6, \"0\": 1, \"43\": 2, \"109\": 2, \"114\": 5, \"101\": 3, \"106\": 1, \"64\": 1, \"115\": 1, \"4\": 1, \"85\": 1, \"73\": 1}, \"16\": {\"26\": 11, \"16\": 62, \"39\": 4, \"113\": 7, \"117\": 11, \"62\": 1, \"33\": 1, \"118\": 7, \"121\": 1, \"76\": 1, \"40\": 1, \"69\": 1}, \"35\": {\"35\": 8, \"84\": 1, \"34\": 1, \"21\": 1, \"48\": 1}, \"51\": {\"75\": 1, \"51\": 11, \"71\": 1, \"15\": 2, \"52\": 1}, \"46\": {\"129\": 1, \"46\": 4, \"78\": 1, \"27\": 1, \"6\": 1, \"110\": 1, \"1\": 1, \"25\": 1, \"71\": 1}, \"20\": {\"20\": 14, \"129\": 1, \"87\": 1}, \"116\": {\"74\": 2, \"116\": 20, \"83\": 1, \"122\": 1, \"19\": 2, \"45\": 2, \"61\": 1, \"100\": 1, \"50\": 1, \"15\": 1}, \"75\": {\"75\": 15, \"91\": 1}, \"43\": {\"84\": 15, \"14\": 4, \"129\": 1, \"87\": 13, \"109\": 5, \"105\": 6, \"33\": 1, \"1\": 14, \"43\": 29, \"21\": 1, \"5\": 3, \"3\": 1, \"39\": 1, \"62\": 1, \"122\": 2, \"114\": 6, \"40\": 2, \"90\": 7, \"126\": 2, \"66\": 1, \"104\": 1, \"61\": 1, \"76\": 1, \"19\": 2, \"99\": 2, \"44\": 2, \"4\": 1, \"11\": 2, \"7\": 1}, \"17\": {\"56\": 1, \"17\": 9, \"79\": 1, \"54\": 1, \"42\": 1, \"40\": 1, \"0\": 1, \"81\": 1}, \"12\": {\"32\": 2, \"0\": 9, \"12\": 42, \"49\": 2, \"106\": 5, \"107\": 2, \"30\": 1, \"24\": 5, \"72\": 1, \"27\": 2, \"71\": 3, \"86\": 3, \"127\": 2, \"90\": 1, \"110\": 1, \"98\": 7, \"88\": 1, \"111\": 4, \"94\": 1, \"75\": 1, \"70\": 1, \"68\": 1, \"15\": 1, \"85\": 2, \"101\": 1, \"108\": 1, \"10\": 1, \"93\": 1}, \"25\": {\"25\": 15, \"99\": 1}, \"54\": {\"79\": 2, \"54\": 7, \"124\": 1, \"44\": 1, \"32\": 1, \"38\": 1, \"92\": 1, \"17\": 1, \"72\": 1}, \"36\": {\"36\": 81, \"125\": 14, \"39\": 1, \"113\": 1, \"27\": 1, \"94\": 3, \"88\": 6, \"15\": 2, \"117\": 1, \"98\": 2}, \"52\": {\"52\": 14, \"97\": 1, \"98\": 2, \"24\": 1, \"37\": 2}, \"61\": {\"61\": 12}, \"106\": {\"55\": 1, \"106\": 63, \"12\": 2, \"47\": 1, \"72\": 3, \"110\": 13, \"127\": 7, \"70\": 3, \"107\": 3, \"0\": 1, \"98\": 1, \"93\": 2, \"10\": 2, \"101\": 2, \"111\": 2, \"5\": 2, \"77\": 1, \"105\": 1, \"86\": 1, \"40\": 4, \"108\": 1, \"88\": 1, \"24\": 1, \"84\": 1, \"124\": 1}, \"39\": {\"121\": 2, \"39\": 53, \"66\": 1, \"18\": 3, \"16\": 9, \"116\": 1, \"117\": 10, \"118\": 4, \"26\": 4, \"43\": 2, \"102\": 1, \"69\": 2, \"11\": 2, \"122\": 3, \"33\": 1, \"114\": 1, \"95\": 1, \"78\": 1, \"126\": 1, \"90\": 1, \"14\": 1}, \"119\": {\"119\": 14, \"95\": 1, \"123\": 1}, \"125\": {\"125\": 105, \"97\": 1, \"36\": 11, \"27\": 6, \"94\": 5, \"88\": 13, \"15\": 4, \"59\": 1, \"51\": 1, \"12\": 1}, \"93\": {\"84\": 5, \"128\": 1, \"40\": 10, \"93\": 31, \"29\": 1, \"9\": 1, \"44\": 7, \"106\": 5, \"105\": 7, \"3\": 2, \"5\": 9, \"114\": 3, \"0\": 4, \"108\": 8, \"1\": 2, \"110\": 6, \"107\": 7, \"43\": 4, \"8\": 1, \"101\": 3, \"124\": 1, \"126\": 6, \"70\": 5, \"90\": 5, \"17\": 2, \"4\": 2, \"76\": 1, \"91\": 1, \"89\": 1, \"121\": 1, \"87\": 3, \"10\": 1, \"109\": 2}, \"115\": {\"73\": 1, \"115\": 8, \"1\": 2, \"43\": 1}, \"21\": {\"69\": 2, \"96\": 2, \"21\": 7, \"70\": 1, \"41\": 1, \"90\": 2, \"39\": 5, \"30\": 1, \"118\": 1, \"108\": 2, \"126\": 1, \"11\": 2, \"128\": 1, \"66\": 2, \"92\": 1, \"2\": 1, \"87\": 1, \"109\": 2, \"42\": 1, \"113\": 2, \"44\": 1, \"18\": 1}, \"41\": {\"41\": 14, \"108\": 1, \"31\": 1}}, \"C_1\": {\"24\": {\"39\": 1, \"24\": 87, \"22\": 10, \"10\": 5, \"52\": 3, \"11\": 2}, \"25\": {\"17\": 3, \"25\": 130, \"37\": 1, \"8\": 4, \"14\": 1, \"30\": 1}, \"45\": {\"45\": 136, \"42\": 1, \"17\": 1, \"30\": 1, \"9\": 2, \"37\": 1, \"18\": 1, \"19\": 1}, \"42\": {\"42\": 36, \"37\": 1, \"45\": 2, \"32\": 1}, \"2\": {\"2\": 34, \"5\": 1, \"6\": 1}, \"9\": {\"9\": 145, \"46\": 1, \"53\": 1, \"17\": 1, \"30\": 1, \"25\": 1}, \"21\": {\"21\": 116, \"23\": 1, \"15\": 5, \"10\": 1, \"27\": 1}, \"26\": {\"26\": 22, \"14\": 1, \"42\": 1}, \"49\": {\"49\": 29, \"38\": 2, \"24\": 1}, \"39\": {\"39\": 26, \"15\": 1, \"24\": 1}, \"46\": {\"46\": 85, \"25\": 9, \"48\": 6, \"17\": 3, \"53\": 1, \"13\": 1, \"6\": 4, \"5\": 11, \"50\": 6, \"12\": 1, \"8\": 6, \"4\": 3}, \"17\": {\"17\": 62, \"8\": 1, \"48\": 1}, \"19\": {\"19\": 145, \"57\": 3, \"56\": 7, \"1\": 1}, \"23\": {\"23\": 120, \"15\": 2, \"0\": 3, \"16\": 5, \"36\": 1, \"22\": 1}, \"1\": {\"1\": 76, \"29\": 2, \"56\": 9, \"57\": 9, \"25\": 1, \"19\": 3}, \"29\": {\"29\": 113, \"57\": 6, \"19\": 2, \"56\": 12, \"25\": 1, \"1\": 1, \"44\": 1, \"45\": 1, \"40\": 2, \"3\": 1}, \"56\": {\"56\": 82, \"57\": 34, \"1\": 8, \"45\": 6, \"19\": 12, \"55\": 1, \"29\": 2, \"44\": 2, \"42\": 2, \"3\": 1}, \"37\": {\"37\": 31, \"26\": 1}, \"33\": {\"33\": 32}, \"55\": {\"55\": 103, \"34\": 1, \"42\": 3, \"54\": 14, \"25\": 5, \"37\": 1, \"45\": 7, \"3\": 1, \"9\": 1, \"57\": 1, \"13\": 1, \"17\": 2, \"8\": 1, \"5\": 1}, \"30\": {\"30\": 108, \"9\": 8, \"45\": 2, \"25\": 1, \"8\": 1}, \"0\": {\"0\": 141, \"55\": 5, \"15\": 1, \"11\": 1, \"23\": 1, \"16\": 1, \"3\": 1, \"54\": 1}, \"36\": {\"36\": 64}, \"32\": {\"32\": 26, \"57\": 1, \"55\": 2, \"42\": 1, \"29\": 1, \"34\": 1}, \"31\": {\"31\": 28}, \"15\": {\"15\": 97, \"21\": 6, \"0\": 1, \"11\": 18, \"24\": 5, \"23\": 4, \"22\": 6, \"16\": 1}, \"12\": {\"12\": 100, \"57\": 1, \"20\": 11, \"14\": 1, \"13\": 2, \"1\": 1}, \"38\": {\"15\": 1, \"38\": 22, \"23\": 1}, \"40\": {\"40\": 131, \"46\": 1, \"3\": 1, \"57\": 1, \"29\": 3, \"1\": 1, \"4\": 7, \"19\": 1}, \"14\": {\"14\": 18, \"5\": 1, \"26\": 1, \"9\": 1, \"25\": 1, \"17\": 1, \"8\": 1}, \"13\": {\"13\": 144, \"45\": 1, \"51\": 3, \"20\": 1, \"3\": 1}, \"48\": {\"48\": 118, \"2\": 1, \"30\": 2, \"6\": 6, \"5\": 4, \"8\": 5, \"53\": 6, \"9\": 1, \"17\": 2, \"46\": 2, \"50\": 1}, \"34\": {\"34\": 24}, \"44\": {\"44\": 92, \"56\": 11, \"35\": 3, \"55\": 4, \"45\": 1, \"1\": 4, \"19\": 7, \"57\": 5, \"0\": 2, \"36\": 1}, \"5\": {\"5\": 143, \"7\": 1, \"48\": 2, \"46\": 3, \"8\": 1, \"25\": 1, \"50\": 1}, \"11\": {\"11\": 79, \"52\": 8, \"15\": 19, \"24\": 7, \"22\": 8, \"21\": 6, \"35\": 1, \"10\": 1, \"16\": 5, \"36\": 1, \"23\": 2, \"31\": 1, \"0\": 2}, \"7\": {\"7\": 28}, \"18\": {\"18\": 70, \"26\": 1, \"30\": 1}, \"52\": {\"52\": 93, \"11\": 6, \"28\": 3, \"24\": 5, \"10\": 1, \"47\": 4, \"22\": 8, \"15\": 4, \"23\": 3, \"27\": 1, \"0\": 1, \"31\": 1, \"49\": 2}, \"51\": {\"51\": 129, \"53\": 3, \"13\": 3, \"41\": 1, \"20\": 5, \"12\": 1}, \"41\": {\"41\": 24}, \"16\": {\"16\": 132, \"18\": 6, \"36\": 1, \"54\": 1}, \"22\": {\"15\": 7, \"24\": 7, \"22\": 99, \"23\": 3, \"11\": 10, \"47\": 3, \"52\": 4, \"10\": 1}, \"3\": {\"37\": 2, \"0\": 1, \"3\": 104, \"12\": 2, \"29\": 3, \"55\": 4, \"13\": 14, \"57\": 1, \"45\": 1, \"44\": 2, \"5\": 1, \"25\": 1, \"32\": 1, \"42\": 1, \"47\": 1, \"40\": 1}, \"54\": {\"54\": 99, \"9\": 2, \"18\": 2, \"20\": 1}, \"27\": {\"27\": 139, \"21\": 1, \"43\": 3, \"24\": 1}, \"20\": {\"20\": 121, \"13\": 5, \"12\": 6, \"51\": 8}, \"8\": {\"48\": 9, \"8\": 97, \"17\": 6, \"6\": 5, \"30\": 9, \"25\": 3, \"9\": 4, \"46\": 4, \"53\": 1}, \"50\": {\"50\": 144}, \"57\": {\"57\": 96, \"19\": 15, \"56\": 18, \"1\": 5, \"44\": 3, \"55\": 1, \"42\": 1, \"3\": 1}, \"4\": {\"4\": 131, \"46\": 1}, \"47\": {\"47\": 139, \"23\": 2, \"22\": 1, \"38\": 1, \"44\": 1, \"21\": 1, \"15\": 1}, \"10\": {\"10\": 62, \"11\": 7, \"15\": 6, \"31\": 1, \"43\": 4, \"24\": 4, \"22\": 4, \"52\": 1, \"21\": 4, \"49\": 1, \"27\": 1, \"23\": 1}, \"35\": {\"35\": 35, \"56\": 1}, \"53\": {\"53\": 123, \"17\": 2, \"9\": 1}, \"6\": {\"6\": 65, \"9\": 1, \"5\": 3, \"17\": 1, \"8\": 7, \"30\": 5, \"48\": 6, \"46\": 3, \"2\": 1, \"50\": 3, \"4\": 1}, \"43\": {\"43\": 128, \"27\": 11, \"10\": 1}, \"28\": {\"28\": 25, \"31\": 1, \"11\": 1, \"49\": 1}}, \"W_4\": {\"55\": {\"70\": 1, \"55\": 9, \"101\": 2, \"1\": 1, \"95\": 1, \"107\": 2}, \"9\": {\"59\": 1, \"9\": 11, \"27\": 1, \"73\": 1, \"106\": 1, \"47\": 2, \"98\": 2, \"15\": 2, \"77\": 1, \"58\": 1, \"29\": 1, \"97\": 1, \"12\": 1, \"24\": 2}, \"70\": {\"4\": 4, \"108\": 5, \"90\": 5, \"11\": 4, \"79\": 1, \"99\": 1, \"7\": 2, \"72\": 1, \"85\": 2, \"43\": 2, \"27\": 3, \"70\": 22, \"38\": 2, \"41\": 1, \"98\": 4, \"88\": 5, \"114\": 8, \"86\": 2, \"122\": 1, \"109\": 1, \"110\": 1, \"39\": 1, \"124\": 3, \"127\": 3, \"71\": 1, \"106\": 1, \"118\": 1, \"1\": 1, \"101\": 5, \"93\": 2, \"0\": 2, \"40\": 1, \"8\": 6, \"34\": 2, \"23\": 1, \"3\": 3, \"105\": 1, \"42\": 1, \"66\": 1, \"95\": 1, \"83\": 1, \"49\": 1, \"16\": 1, \"111\": 2, \"87\": 2, \"107\": 1}, \"112\": {\"112\": 12, \"114\": 3, \"0\": 1}, \"115\": {\"115\": 6, \"36\": 1, \"76\": 2, \"18\": 2, \"107\": 1, \"129\": 1, \"28\": 1, \"73\": 2}, \"56\": {\"56\": 7, \"71\": 1, \"43\": 1, \"106\": 1, \"29\": 1, \"127\": 1}, \"108\": {\"108\": 34, \"116\": 1, \"14\": 5, \"25\": 1, \"11\": 2, \"109\": 3, \"72\": 1, \"32\": 2, \"118\": 3, \"99\": 1, \"45\": 1, \"88\": 3, \"43\": 4, \"87\": 1, \"1\": 1, \"10\": 1, \"122\": 4, \"5\": 6, \"107\": 3, \"94\": 2, \"27\": 1, \"100\": 2, \"78\": 1, \"62\": 1, \"40\": 2, \"114\": 1, \"36\": 1, \"84\": 1, \"93\": 3}, \"117\": {\"117\": 84, \"81\": 4, \"26\": 5, \"122\": 1, \"39\": 5, \"126\": 2, \"90\": 1, \"113\": 2, \"109\": 4, \"93\": 1, \"67\": 1, \"16\": 9, \"62\": 2, \"18\": 3}, \"111\": {\"55\": 2, \"111\": 77, \"103\": 3, \"127\": 15, \"29\": 1, \"27\": 2, \"15\": 1, \"106\": 6, \"8\": 3, \"12\": 5, \"101\": 5, \"70\": 2, \"98\": 5, \"88\": 1, \"0\": 1, \"68\": 1, \"124\": 1, \"11\": 1}, \"71\": {\"71\": 68, \"63\": 1, \"129\": 3, \"114\": 6, \"60\": 2, \"86\": 1, \"4\": 4, \"15\": 1, \"7\": 1, \"124\": 2, \"87\": 2, \"82\": 2, \"3\": 3, \"9\": 1, \"101\": 1, \"36\": 1, \"126\": 2, \"10\": 1, \"40\": 1, \"11\": 1}, \"59\": {\"59\": 7, \"9\": 2, \"25\": 1, \"6\": 1, \"58\": 1}, \"10\": {\"59\": 2, \"112\": 1, \"25\": 1, \"10\": 29, \"24\": 6, \"43\": 1, \"94\": 7, \"6\": 4, \"34\": 1, \"0\": 5, \"30\": 3, \"70\": 3, \"15\": 9, \"98\": 3, \"36\": 10, \"7\": 5, \"88\": 3, \"27\": 5, \"1\": 1, \"106\": 1, \"124\": 1, \"87\": 2, \"99\": 1, \"37\": 1, \"109\": 2, \"78\": 1, \"108\": 2, \"4\": 3, \"111\": 2, \"125\": 5, \"122\": 1, \"12\": 1, \"126\": 1, \"8\": 1}, \"83\": {\"70\": 2, \"83\": 17, \"43\": 1, \"128\": 3, \"87\": 1, \"46\": 1, \"86\": 2, \"11\": 1}, \"116\": {\"116\": 11, \"72\": 1, \"79\": 2, \"99\": 1, \"84\": 2, \"69\": 1, \"16\": 2, \"110\": 1, \"76\": 1, \"44\": 2, \"89\": 1, \"5\": 2, \"102\": 1}, \"13\": {\"117\": 2, \"13\": 9, \"67\": 1, \"109\": 2, \"65\": 1, \"84\": 1}, \"4\": {\"70\": 2, \"112\": 1, \"0\": 6, \"4\": 40, \"49\": 1, \"71\": 10, \"19\": 1, \"105\": 3, \"82\": 1, \"95\": 2, \"27\": 2, \"101\": 5, \"1\": 2, \"114\": 8, \"107\": 3, \"8\": 6, \"88\": 2, \"17\": 1, \"46\": 1, \"50\": 1, \"98\": 2, \"87\": 1, \"126\": 1, \"40\": 1, \"124\": 1}, \"125\": {\"58\": 1, \"75\": 1, \"125\": 84, \"24\": 4, \"36\": 6, \"118\": 1, \"10\": 2, \"15\": 2, \"98\": 1, \"59\": 1, \"94\": 2, \"113\": 1}, \"102\": {\"102\": 81, \"40\": 2, \"122\": 4, \"62\": 1, \"73\": 1, \"109\": 3, \"84\": 7, \"69\": 9, \"107\": 2, \"33\": 2, \"5\": 2, \"99\": 1, \"110\": 2, \"1\": 1, \"14\": 3, \"118\": 2, \"26\": 1}, \"47\": {\"47\": 11, \"9\": 1}, \"28\": {\"28\": 14, \"79\": 1, \"17\": 2, \"96\": 1, \"32\": 1, \"1\": 1}, \"82\": {\"82\": 25, \"60\": 2, \"128\": 1, \"4\": 1, \"115\": 1, \"50\": 1, \"85\": 1}, \"60\": {\"108\": 1, \"60\": 16, \"89\": 2, \"101\": 1, \"88\": 2, \"87\": 1, \"66\": 2, \"19\": 2, \"49\": 1, \"43\": 1, \"124\": 1, \"11\": 1, \"70\": 1}, \"107\": {\"107\": 80, \"60\": 1, \"40\": 10, \"33\": 3, \"78\": 1, \"99\": 1, \"14\": 2, \"4\": 3, \"105\": 4, \"1\": 3, \"0\": 1, \"70\": 4, \"114\": 2, \"3\": 6, \"102\": 3, \"88\": 1, \"87\": 2, \"43\": 2, \"129\": 1, \"71\": 1, \"69\": 1, \"108\": 1, \"110\": 1}, \"75\": {\"75\": 13, \"58\": 1, \"34\": 1, \"97\": 1}, \"31\": {\"31\": 13, \"107\": 1, \"45\": 2}, \"92\": {\"31\": 2, \"92\": 20, \"22\": 1, \"99\": 1, \"102\": 1, \"18\": 1, \"45\": 1, \"39\": 1}, \"58\": {\"58\": 8, \"77\": 2, \"36\": 1, \"15\": 1, \"9\": 1, \"6\": 2, \"125\": 1}, \"113\": {\"113\": 76, \"102\": 1, \"2\": 2, \"78\": 1, \"126\": 6, \"26\": 1, \"16\": 4, \"84\": 6, \"62\": 1, \"81\": 3, \"39\": 6, \"109\": 6, \"33\": 1, \"118\": 2, \"93\": 3, \"90\": 2, \"67\": 1, \"121\": 1, \"117\": 2, \"108\": 1, \"69\": 1, \"110\": 1}, \"95\": {\"60\": 2, \"95\": 12, \"82\": 1, \"27\": 2, \"112\": 1, \"106\": 1, \"127\": 1, \"4\": 2, \"98\": 1, \"0\": 1, \"55\": 1, \"87\": 1, \"114\": 3, \"68\": 1, \"70\": 1, \"50\": 1}, \"14\": {\"14\": 71, \"107\": 2, \"38\": 1, \"44\": 1, \"93\": 1, \"69\": 2, \"40\": 3, \"110\": 3, \"118\": 4, \"102\": 4, \"11\": 5, \"16\": 1, \"32\": 2, \"109\": 1, \"50\": 2, \"33\": 3, \"108\": 2, \"62\": 1, \"1\": 2, \"105\": 1}, \"17\": {\"17\": 16, \"104\": 1, \"40\": 1, \"120\": 1, \"95\": 1}, \"104\": {\"104\": 10, \"42\": 1, \"40\": 2, \"100\": 1, \"32\": 1, \"83\": 1}, \"72\": {\"72\": 21, \"108\": 2, \"93\": 1, \"20\": 1, \"62\": 2, \"90\": 1, \"43\": 2, \"38\": 2}, \"69\": {\"69\": 83, \"102\": 11, \"88\": 1, \"84\": 6, \"116\": 1, \"109\": 7, \"118\": 4, \"16\": 2, \"40\": 1, \"44\": 1, \"122\": 1, \"126\": 1, \"21\": 1, \"39\": 1, \"33\": 6, \"14\": 1}, \"63\": {\"63\": 14, \"81\": 2}, \"12\": {\"12\": 41, \"8\": 8, \"103\": 1, \"58\": 1, \"111\": 6, \"4\": 3, \"0\": 2, \"1\": 1, \"30\": 1, \"98\": 2, \"127\": 6, \"124\": 4, \"101\": 7, \"106\": 3, \"7\": 2, \"10\": 2, \"90\": 1, \"20\": 1, \"24\": 1, \"15\": 1, \"27\": 1, \"11\": 1, \"105\": 1, \"114\": 2, \"62\": 1}, \"25\": {\"25\": 13, \"6\": 2, \"97\": 1}, \"67\": {\"63\": 1, \"69\": 1, \"13\": 1, \"67\": 4, \"44\": 2, \"84\": 2, \"3\": 2, \"113\": 1, \"39\": 1, \"33\": 1}, \"50\": {\"50\": 8, \"17\": 1, \"105\": 1, \"14\": 1, \"33\": 3, \"88\": 2}, \"43\": {\"108\": 6, \"43\": 30, \"46\": 1, \"122\": 7, \"93\": 2, \"61\": 1, \"80\": 1, \"33\": 11, \"40\": 10, \"88\": 4, \"22\": 1, \"87\": 6, \"117\": 1, \"129\": 2, \"69\": 1, \"90\": 3, \"11\": 1, \"105\": 4, \"14\": 3, \"110\": 2, \"5\": 2, \"78\": 1, \"32\": 1, \"23\": 1, \"109\": 1, \"62\": 1, \"72\": 1, \"83\": 2, \"70\": 2, \"38\": 1, \"50\": 1, \"107\": 1, \"118\": 1, \"3\": 2, \"114\": 1, \"71\": 1, \"102\": 1, \"1\": 2}, \"96\": {\"108\": 1, \"67\": 1, \"96\": 7, \"69\": 2, \"116\": 1, \"62\": 2, \"20\": 1, \"65\": 1, \"84\": 2, \"126\": 1, \"16\": 1}, \"128\": {\"17\": 1, \"72\": 1, \"49\": 1, \"128\": 19, \"71\": 1, \"80\": 1}, \"77\": {\"12\": 1, \"77\": 6, \"98\": 1, \"29\": 1, \"9\": 2, \"52\": 1}, \"54\": {\"54\": 15, \"97\": 1}, \"118\": {\"43\": 3, \"31\": 1, \"40\": 3, \"69\": 10, \"123\": 1, \"109\": 3, \"62\": 6, \"118\": 31, \"11\": 3, \"22\": 1, \"2\": 1, \"110\": 1, \"39\": 3, \"14\": 7, \"113\": 1, \"88\": 3, \"108\": 1, \"122\": 7, \"93\": 2, \"107\": 1, \"33\": 4, \"84\": 4, \"87\": 1, \"46\": 1, \"72\": 1, \"102\": 5, \"26\": 1, \"78\": 3, \"16\": 1, \"105\": 2}, \"30\": {\"30\": 26, \"15\": 7, \"29\": 3, \"12\": 5, \"128\": 1, \"41\": 2, \"34\": 3, \"91\": 2, \"98\": 1, \"111\": 1, \"10\": 10, \"106\": 4, \"9\": 1, \"0\": 1, \"52\": 1, \"27\": 4, \"1\": 1, \"125\": 1, \"8\": 2}, \"51\": {\"51\": 6, \"75\": 2, \"97\": 3, \"15\": 1, \"125\": 1, \"94\": 2, \"25\": 1}, \"122\": {\"118\": 4, \"122\": 25, \"38\": 2, \"102\": 8, \"93\": 2, \"60\": 1, \"62\": 1, \"114\": 1, \"80\": 1, \"14\": 2, \"43\": 2, \"110\": 4, \"69\": 2, \"11\": 3, \"84\": 3, \"87\": 1, \"26\": 1, \"1\": 1, \"126\": 1, \"33\": 4, \"39\": 1, \"27\": 1, \"44\": 1, \"99\": 1, \"88\": 2, \"5\": 1, \"90\": 1, \"109\": 2, \"15\": 1, \"113\": 1, \"108\": 1, \"7\": 2}, \"46\": {\"46\": 14, \"76\": 1, \"107\": 2, \"40\": 1, \"56\": 1, \"114\": 1}, \"79\": {\"79\": 10, \"28\": 2, \"78\": 1, \"112\": 1, \"1\": 1, \"89\": 1}, \"103\": {\"8\": 1, \"103\": 12, \"111\": 3}, \"74\": {\"43\": 1, \"74\": 11, \"11\": 1, \"72\": 1, \"7\": 1, \"49\": 1}, \"90\": {\"90\": 135, \"43\": 1, \"44\": 5, \"5\": 2, \"93\": 1, \"38\": 2}, \"8\": {\"8\": 80, \"30\": 2, \"106\": 3, \"111\": 4, \"12\": 3, \"122\": 1, \"117\": 1, \"101\": 15, \"98\": 7, \"0\": 4, \"70\": 2, \"27\": 6, \"15\": 1, \"7\": 2, \"124\": 1, \"24\": 2, \"41\": 1, \"91\": 1, \"39\": 1, \"4\": 1, \"109\": 1, \"10\": 1, \"88\": 1, \"1\": 1}, \"94\": {\"94\": 45, \"125\": 9, \"9\": 2, \"34\": 1, \"36\": 4, \"15\": 10, \"24\": 3, \"106\": 1, \"10\": 5, \"6\": 2, \"54\": 1, \"111\": 1, \"25\": 1, \"109\": 1, \"62\": 1, \"39\": 1}, \"7\": {\"93\": 1, \"7\": 96, \"108\": 3, \"49\": 1, \"89\": 1, \"24\": 1, \"110\": 1, \"11\": 1, \"36\": 1, \"90\": 1, \"3\": 1, \"0\": 2, \"126\": 1, \"88\": 2, \"72\": 1, \"23\": 1, \"82\": 2, \"112\": 1, \"43\": 3, \"85\": 1}, \"61\": {\"61\": 8, \"26\": 2, \"18\": 1, \"122\": 1, \"81\": 1, \"117\": 2, \"65\": 1}, \"26\": {\"26\": 83, \"18\": 10, \"39\": 5, \"63\": 2, \"62\": 1, \"117\": 6, \"113\": 5, \"126\": 3, \"123\": 1, \"81\": 2, \"11\": 1, \"108\": 1}, \"127\": {\"127\": 65, \"37\": 1, \"68\": 1, \"95\": 1, \"111\": 4, \"101\": 5, \"71\": 3, \"4\": 3, \"1\": 1, \"114\": 6, \"27\": 1, \"8\": 2, \"0\": 2, \"12\": 2, \"124\": 3, \"126\": 1, \"46\": 2, \"86\": 1, \"98\": 2, \"15\": 1, \"40\": 1}, \"23\": {\"127\": 1, \"26\": 1, \"21\": 1, \"65\": 3, \"83\": 1, \"61\": 1, \"84\": 1, \"11\": 1, \"16\": 1, \"122\": 1, \"55\": 2, \"23\": 1, \"85\": 1}, \"1\": {\"1\": 45, \"73\": 2, \"107\": 6, \"87\": 3, \"71\": 6, \"3\": 10, \"14\": 1, \"82\": 2, \"105\": 3, \"40\": 8, \"114\": 10, \"43\": 3, \"4\": 1, \"33\": 1, \"90\": 1, \"23\": 1, \"129\": 1, \"24\": 1, \"122\": 1, \"108\": 1, \"125\": 1}, \"93\": {\"110\": 8, \"90\": 3, \"93\": 63, \"44\": 7, \"43\": 7, \"5\": 6, \"108\": 3, \"20\": 2, \"96\": 1, \"33\": 7, \"84\": 4, \"88\": 7, \"87\": 2, \"70\": 1, \"72\": 1, \"11\": 1, \"107\": 1, \"109\": 1, \"122\": 3, \"14\": 1, \"3\": 4, \"62\": 1}, \"106\": {\"106\": 34, \"12\": 7, \"10\": 4, \"108\": 1, \"0\": 3, \"30\": 4, \"18\": 1, \"56\": 1, \"37\": 1, \"70\": 2, \"42\": 2, \"94\": 7, \"34\": 1, \"125\": 4, \"101\": 3, \"86\": 1, \"8\": 6, \"126\": 1, \"110\": 1, \"98\": 3, \"114\": 1, \"39\": 2, \"127\": 5, \"15\": 4, \"113\": 1, \"47\": 1, \"41\": 1, \"97\": 1, \"109\": 1, \"11\": 2, \"116\": 1, \"95\": 1, \"111\": 1, \"103\": 1, \"29\": 1, \"21\": 1, \"4\": 1, \"27\": 2, \"124\": 1}, \"110\": {\"110\": 29, \"122\": 2, \"72\": 1, \"99\": 2, \"44\": 4, \"11\": 4, \"5\": 3, \"62\": 1, \"78\": 2, \"69\": 4, \"90\": 7, \"102\": 5, \"87\": 4, \"33\": 24, \"93\": 8, \"88\": 3, \"39\": 1, \"109\": 2, \"84\": 1, \"3\": 1, \"46\": 1, \"40\": 1, \"70\": 2, \"108\": 3, \"43\": 1, \"1\": 2}, \"76\": {\"76\": 8, \"40\": 2, \"20\": 1, \"22\": 1, \"120\": 1, \"72\": 1, \"66\": 1, \"118\": 1}, \"36\": {\"36\": 68, \"25\": 1, \"24\": 12, \"6\": 5, \"106\": 1, \"15\": 4, \"10\": 7, \"12\": 3, \"8\": 1, \"125\": 7, \"111\": 1, \"77\": 1, \"30\": 3, \"54\": 1, \"94\": 2, \"1\": 1, \"109\": 1, \"98\": 1}, \"21\": {\"21\": 32, \"23\": 2, \"78\": 2, \"62\": 3, \"81\": 1}, \"37\": {\"76\": 1, \"37\": 12, \"119\": 1, \"78\": 1, \"127\": 1}, \"11\": {\"11\": 57, \"49\": 1, \"107\": 7, \"116\": 1, \"44\": 2, \"4\": 1, \"40\": 3, \"1\": 1, \"93\": 1, \"84\": 2, \"14\": 17, \"71\": 1, \"43\": 3, \"118\": 2, \"88\": 5, \"32\": 1, \"83\": 1, \"33\": 1, \"78\": 1, \"20\": 1, \"122\": 2, \"5\": 6, \"124\": 1, \"102\": 1, \"87\": 1}, \"109\": {\"13\": 2, \"109\": 54, \"108\": 4, \"88\": 3, \"90\": 1, \"84\": 9, \"69\": 5, \"16\": 3, \"105\": 1, \"11\": 3, \"110\": 2, \"26\": 1, \"118\": 7, \"113\": 3, \"126\": 3, \"102\": 5, \"93\": 1, \"87\": 1, \"3\": 1, \"122\": 3, \"99\": 2, \"21\": 1, \"14\": 1}, \"62\": {\"21\": 1, \"62\": 12, \"32\": 1, \"126\": 2, \"72\": 1, \"48\": 1, \"107\": 1, \"84\": 9, \"110\": 6, \"122\": 1, \"69\": 3, \"66\": 1, \"102\": 1, \"78\": 3, \"96\": 1, \"113\": 2, \"118\": 4, \"33\": 2, \"99\": 1, \"5\": 1, \"43\": 1, \"14\": 1, \"108\": 1, \"105\": 2, \"93\": 1}, \"89\": {\"82\": 1, \"89\": 14, \"40\": 2, \"48\": 1, \"3\": 3, \"105\": 3, \"129\": 2, \"60\": 1, \"73\": 1, \"114\": 1, \"66\": 1, \"7\": 1, \"0\": 1}, \"126\": {\"65\": 3, \"117\": 2, \"126\": 67, \"18\": 11, \"39\": 7, \"113\": 8, \"121\": 3, \"81\": 3, \"16\": 3, \"109\": 5, \"26\": 3, \"93\": 1, \"62\": 2, \"21\": 1, \"38\": 1, \"84\": 1, \"2\": 1, \"33\": 1, \"88\": 1}, \"101\": {\"101\": 73, \"119\": 2, \"68\": 1, \"9\": 1, \"42\": 1, \"70\": 8, \"27\": 3, \"113\": 1, \"98\": 3, \"111\": 2, \"126\": 1, \"30\": 1, \"127\": 2, \"8\": 12, \"114\": 1, \"0\": 3, \"4\": 2, \"15\": 3, \"52\": 1, \"105\": 1, \"29\": 1, \"95\": 1, \"117\": 1, \"88\": 1, \"26\": 1, \"84\": 1}, \"65\": {\"65\": 12}, \"19\": {\"5\": 1, \"27\": 3, \"19\": 3, \"114\": 1, \"69\": 1, \"8\": 2, \"0\": 2, \"53\": 1, \"89\": 1, \"43\": 1, \"10\": 1, \"91\": 1, \"129\": 1, \"66\": 1, \"72\": 1, \"56\": 1, \"110\": 1, \"102\": 3, \"127\": 2}, \"27\": {\"27\": 47, \"101\": 7, \"129\": 1, \"113\": 1, \"98\": 7, \"12\": 4, \"70\": 1, \"8\": 3, \"0\": 5, \"7\": 3, \"10\": 1, \"40\": 2, \"41\": 2, \"106\": 2, \"111\": 1, \"119\": 1, \"95\": 2, \"127\": 2, \"49\": 1, \"24\": 2, \"88\": 2, \"39\": 1, \"122\": 1, \"125\": 1}, \"5\": {\"5\": 103, \"23\": 1, \"3\": 4, \"93\": 2, \"108\": 1, \"44\": 4, \"87\": 2, \"33\": 6, \"88\": 1, \"109\": 2, \"43\": 1, \"90\": 1, \"49\": 2, \"110\": 3, \"11\": 1, \"118\": 1, \"105\": 1}, \"73\": {\"5\": 1, \"82\": 1, \"69\": 1, \"109\": 1, \"3\": 2, \"73\": 10, \"110\": 2, \"102\": 1, \"47\": 1, \"33\": 1, \"99\": 1, \"107\": 1, \"46\": 1}, \"6\": {\"6\": 13, \"25\": 1, \"30\": 1, \"36\": 3, \"29\": 1, \"59\": 2, \"9\": 1, \"24\": 2}, \"29\": {\"29\": 31, \"52\": 1}, \"114\": {\"114\": 66, \"43\": 2, \"42\": 1, \"107\": 3, \"70\": 1, \"129\": 1, \"99\": 1, \"71\": 10, \"86\": 1, \"1\": 6, \"4\": 1, \"3\": 9, \"105\": 7, \"87\": 4, \"40\": 3, \"5\": 1, \"19\": 1, \"82\": 1, \"73\": 2, \"46\": 1, \"95\": 1, \"33\": 3, \"113\": 1, \"110\": 1}, \"49\": {\"90\": 4, \"49\": 6, \"62\": 3, \"32\": 1, \"37\": 1, \"15\": 1, \"0\": 2, \"5\": 1, \"30\": 2, \"12\": 2, \"93\": 1, \"41\": 1, \"38\": 1, \"60\": 1, \"89\": 1, \"127\": 1, \"111\": 1, \"122\": 1, \"3\": 1}, \"16\": {\"16\": 74, \"83\": 1, \"63\": 2, \"123\": 2, \"102\": 1, \"117\": 8, \"26\": 3, \"121\": 1, \"96\": 2, \"81\": 2, \"11\": 1, \"18\": 1, \"113\": 6, \"118\": 2, \"109\": 5, \"84\": 1, \"2\": 1, \"116\": 2, \"69\": 2, \"126\": 1}, \"68\": {\"68\": 8, \"77\": 1, \"52\": 1, \"129\": 1, \"111\": 2, \"0\": 2, \"95\": 1}, \"98\": {\"98\": 68, \"58\": 1, \"27\": 6, \"53\": 2, \"68\": 1, \"18\": 1, \"91\": 1, \"12\": 3, \"15\": 1, \"8\": 6, \"108\": 1, \"24\": 2, \"10\": 3, \"127\": 4, \"101\": 1, \"70\": 3, \"90\": 1, \"88\": 2, \"41\": 1, \"0\": 3, \"36\": 1, \"85\": 2, \"42\": 1, \"111\": 3, \"106\": 2}, \"64\": {\"64\": 14, \"28\": 1, \"4\": 1}, \"121\": {\"121\": 7, \"16\": 1, \"61\": 1, \"48\": 1, \"57\": 1, \"43\": 1, \"113\": 6, \"109\": 3, \"39\": 3, \"117\": 1, \"92\": 1, \"110\": 1, \"99\": 2, \"126\": 2, \"93\": 1}, \"124\": {\"37\": 1, \"124\": 63, \"17\": 2, \"12\": 1, \"27\": 2, \"0\": 4, \"101\": 3, \"4\": 5, \"111\": 4, \"86\": 1, \"107\": 1, \"40\": 5, \"1\": 2, \"114\": 2, \"127\": 1, \"87\": 1, \"98\": 1, \"70\": 4, \"110\": 1, \"8\": 4, \"60\": 1, \"106\": 2, \"103\": 1, \"88\": 2}, \"97\": {\"125\": 2, \"94\": 1, \"42\": 2, \"36\": 2, \"97\": 6, \"34\": 1, \"86\": 1, \"29\": 1, \"68\": 1, \"109\": 1, \"75\": 2}, \"40\": {\"40\": 80, \"107\": 17, \"114\": 5, \"78\": 1, \"73\": 2, \"43\": 2, \"11\": 1, \"129\": 2, \"102\": 2, \"105\": 3, \"110\": 1, \"14\": 3, \"4\": 2, \"33\": 3, \"3\": 3, \"1\": 4, \"72\": 1, \"82\": 1, \"71\": 2, \"88\": 1}, \"119\": {\"119\": 11, \"88\": 1, \"4\": 1, \"49\": 1, \"72\": 1, \"83\": 1}, \"100\": {\"40\": 2, \"86\": 1, \"100\": 6, \"60\": 1, \"62\": 1, \"71\": 3, \"5\": 2, \"34\": 1, \"108\": 1, \"80\": 2}, \"87\": {\"108\": 7, \"87\": 36, \"33\": 7, \"40\": 7, \"110\": 5, \"99\": 1, \"69\": 1, \"116\": 1, \"71\": 3, \"129\": 1, \"105\": 9, \"122\": 1, \"1\": 3, \"88\": 5, \"93\": 5, \"5\": 1, \"118\": 2, \"107\": 7, \"3\": 5, \"50\": 2, \"73\": 1, \"43\": 1, \"14\": 1, \"11\": 1, \"114\": 2, \"70\": 1}, \"88\": {\"43\": 3, \"61\": 1, \"88\": 34, \"60\": 2, \"89\": 3, \"27\": 5, \"2\": 1, \"109\": 12, \"62\": 1, \"108\": 4, \"127\": 1, \"122\": 5, \"26\": 1, \"39\": 2, \"70\": 6, \"0\": 4, \"90\": 7, \"101\": 4, \"1\": 2, \"105\": 2, \"7\": 1, \"113\": 3, \"8\": 2, \"110\": 3, \"91\": 1, \"106\": 1, \"21\": 2, \"22\": 2, \"66\": 1, \"126\": 4, \"95\": 1, \"78\": 1, \"10\": 2, \"93\": 1, \"4\": 2, \"118\": 1}, \"52\": {\"52\": 12, \"91\": 1, \"47\": 1, \"9\": 2, \"66\": 1, \"34\": 1, \"68\": 1, \"30\": 1}, \"80\": {\"80\": 13, \"90\": 2, \"36\": 1}, \"105\": {\"105\": 54, \"46\": 2, \"4\": 3, \"95\": 1, \"22\": 1, \"62\": 1, \"43\": 1, \"91\": 1, \"40\": 5, \"86\": 1, \"107\": 2, \"88\": 1, \"26\": 1, \"110\": 4, \"114\": 5, \"11\": 1, \"71\": 2, \"3\": 2, \"70\": 1, \"33\": 1, \"82\": 1, \"126\": 3, \"122\": 1, \"7\": 1, \"1\": 1, \"108\": 1, \"87\": 2}, \"32\": {\"11\": 1, \"32\": 16, \"62\": 1, \"108\": 1, \"14\": 3, \"50\": 1, \"87\": 1, \"118\": 2, \"60\": 1, \"102\": 1}, \"35\": {\"26\": 2, \"18\": 1, \"35\": 8, \"23\": 1}, \"99\": {\"99\": 32, \"88\": 1, \"62\": 1, \"66\": 1, \"87\": 1, \"32\": 2, \"11\": 1, \"109\": 1}, \"18\": {\"26\": 6, \"18\": 99, \"81\": 2, \"123\": 2, \"121\": 1, \"117\": 6, \"39\": 2, \"96\": 1, \"16\": 1}, \"24\": {\"85\": 3, \"70\": 2, \"37\": 1, \"15\": 5, \"24\": 37, \"91\": 1, \"8\": 7, \"12\": 2, \"43\": 1, \"27\": 9, \"88\": 2, \"94\": 4, \"101\": 3, \"10\": 9, \"7\": 1, \"36\": 2, \"125\": 11, \"98\": 3, \"106\": 1, \"0\": 4, \"111\": 1, \"25\": 1, \"9\": 1, \"126\": 1}, \"85\": {\"85\": 20, \"26\": 1, \"70\": 1, \"88\": 1, \"98\": 3, \"0\": 2}, \"39\": {\"39\": 44, \"126\": 9, \"118\": 1, \"109\": 5, \"88\": 4, \"81\": 2, \"26\": 5, \"113\": 2, \"117\": 9, \"69\": 1, \"18\": 3, \"90\": 1, \"16\": 3, \"78\": 2, \"92\": 2, \"108\": 1, \"65\": 2, \"21\": 2, \"123\": 1, \"93\": 1}, \"123\": {\"123\": 10, \"63\": 1, \"35\": 1, \"113\": 2, \"39\": 2}, \"91\": {\"91\": 11, \"128\": 1, \"106\": 1, \"122\": 1, \"8\": 3, \"98\": 2, \"15\": 2, \"53\": 1, \"12\": 1, \"37\": 1}, \"78\": {\"16\": 3, \"19\": 1, \"78\": 8, \"127\": 2, \"7\": 1, \"67\": 1, \"74\": 1, \"53\": 1, \"21\": 3, \"88\": 3, \"98\": 1, \"40\": 2, \"99\": 1, \"39\": 1, \"123\": 1, \"119\": 1, \"15\": 1, \"113\": 1, \"89\": 1, \"109\": 1, \"107\": 1}, \"38\": {\"38\": 15, \"80\": 1}, \"15\": {\"29\": 4, \"15\": 73, \"24\": 6, \"9\": 3, \"30\": 2, \"94\": 3, \"126\": 1, \"98\": 3, \"10\": 6, \"18\": 1, \"12\": 1, \"111\": 3, \"125\": 7, \"101\": 1, \"51\": 2, \"58\": 1, \"106\": 6, \"6\": 1, \"62\": 1, \"36\": 2, \"39\": 1}, \"48\": {\"48\": 16}, \"45\": {\"122\": 1, \"45\": 12, \"108\": 1, \"92\": 2}, \"120\": {\"120\": 16, \"1\": 1, \"99\": 1, \"83\": 1, \"128\": 1}, \"44\": {\"102\": 1, \"44\": 46, \"80\": 1, \"22\": 1, \"93\": 3, \"109\": 1, \"5\": 2, \"33\": 1, \"116\": 1, \"122\": 1, \"117\": 1, \"62\": 2, \"43\": 3}, \"86\": {\"86\": 7, \"40\": 2, \"110\": 1, \"41\": 1, \"114\": 2, \"87\": 1, \"108\": 1, \"127\": 1, \"1\": 3, \"105\": 3, \"32\": 1, \"128\": 1, \"21\": 1, \"60\": 1, \"70\": 2}, \"20\": {\"20\": 9, \"96\": 2, \"118\": 1, \"14\": 2, \"70\": 1, \"11\": 1}, \"33\": {\"33\": 122, \"62\": 1, \"5\": 3, \"113\": 1, \"69\": 4, \"122\": 2, \"110\": 2, \"14\": 4, \"118\": 1, \"43\": 2, \"102\": 3, \"81\": 1, \"84\": 1, \"93\": 1, \"126\": 1, \"87\": 1}, \"129\": {\"40\": 3, \"62\": 1, \"126\": 1, \"71\": 3, \"73\": 2, \"0\": 1, \"110\": 1, \"114\": 1, \"99\": 1, \"87\": 1, \"19\": 1, \"88\": 1, \"108\": 1, \"129\": 4, \"69\": 1, \"43\": 1, \"3\": 1, \"33\": 1, \"106\": 1, \"93\": 1}, \"34\": {\"10\": 3, \"34\": 4, \"128\": 1, \"75\": 1, \"83\": 1, \"32\": 1, \"49\": 1, \"114\": 2, \"9\": 1, \"108\": 1, \"30\": 1, \"105\": 3, \"125\": 1, \"88\": 2, \"70\": 1, \"100\": 1, \"97\": 2, \"66\": 1, \"25\": 2, \"99\": 1, \"40\": 1}, \"81\": {\"81\": 27, \"117\": 2, \"2\": 1, \"84\": 1, \"39\": 1, \"126\": 1, \"18\": 1, \"63\": 1, \"21\": 1}, \"57\": {\"118\": 1, \"109\": 1, \"57\": 10, \"24\": 1, \"81\": 2, \"93\": 1}, \"0\": {\"57\": 1, \"0\": 43, \"107\": 2, \"83\": 2, \"27\": 4, \"12\": 4, \"101\": 8, \"8\": 6, \"105\": 4, \"7\": 8, \"87\": 2, \"70\": 6, \"98\": 1, \"126\": 1, \"114\": 2, \"111\": 3, \"88\": 3, \"95\": 1, \"73\": 1, \"4\": 4, \"19\": 1, \"72\": 1, \"26\": 1, \"106\": 1, \"40\": 1, \"103\": 1, \"71\": 1, \"62\": 1, \"1\": 1, \"127\": 1}, \"2\": {\"2\": 12, \"102\": 2, \"43\": 1, \"80\": 1, \"78\": 1, \"62\": 3, \"117\": 3, \"18\": 1, \"16\": 1, \"109\": 1, \"39\": 1, \"84\": 1}, \"42\": {\"42\": 6, \"119\": 1, \"73\": 2, \"27\": 1, \"91\": 1, \"100\": 1, \"70\": 2, \"82\": 2, \"88\": 2, \"12\": 2, \"80\": 1, \"37\": 2, \"89\": 2, \"19\": 1, \"8\": 1, \"124\": 1}, \"84\": {\"69\": 13, \"84\": 76, \"57\": 1, \"11\": 1, \"2\": 1, \"39\": 1, \"102\": 10, \"108\": 1, \"110\": 3, \"109\": 4, \"117\": 1, \"5\": 2, \"44\": 2, \"113\": 1, \"18\": 1, \"33\": 1, \"93\": 1, \"88\": 1, \"126\": 1, \"16\": 3, \"122\": 2, \"26\": 1, \"3\": 1, \"62\": 2, \"14\": 1}, \"3\": {\"3\": 79, \"33\": 4, \"82\": 3, \"5\": 5, \"21\": 1, \"1\": 2, \"90\": 1, \"43\": 2, \"107\": 1, \"126\": 1, \"105\": 1, \"87\": 5, \"70\": 3, \"7\": 2, \"40\": 1, \"49\": 3, \"23\": 1, \"114\": 2, \"39\": 1, \"11\": 1, \"18\": 1, \"4\": 1, \"71\": 2, \"24\": 1, \"93\": 2}, \"41\": {\"27\": 1, \"41\": 11, \"30\": 1, \"0\": 1, \"48\": 1, \"98\": 1}, \"53\": {\"53\": 13, \"30\": 1, \"113\": 1, \"98\": 1}, \"66\": {\"66\": 15, \"3\": 1}, \"22\": {\"22\": 7, \"43\": 2, \"76\": 1, \"118\": 1, \"93\": 1, \"66\": 2, \"60\": 1, \"122\": 1}}, \"C_5\": {\"35\": {\"35\": 36}, \"57\": {\"57\": 119, \"47\": 5, \"54\": 3, \"20\": 1, \"1\": 1, \"3\": 1, \"46\": 1, \"39\": 1}, \"20\": {\"20\": 116, \"8\": 9, \"51\": 5, \"53\": 8, \"55\": 1, \"1\": 2, \"50\": 1, \"6\": 1, \"21\": 1}, \"12\": {\"12\": 78, \"7\": 2, \"45\": 7, \"9\": 1, \"30\": 4, \"38\": 1, \"6\": 1, \"4\": 1, \"27\": 1}, \"32\": {\"32\": 28, \"27\": 2, \"55\": 1, \"9\": 1}, \"25\": {\"25\": 116, \"20\": 1, \"8\": 3, \"6\": 6, \"17\": 1, \"9\": 1, \"50\": 9, \"45\": 1}, \"44\": {\"5\": 9, \"44\": 110, \"34\": 3, \"19\": 6, \"36\": 1, \"29\": 11, \"50\": 1, \"15\": 1, \"48\": 1, \"52\": 1, \"16\": 1, \"40\": 1, \"0\": 1, \"43\": 1}, \"31\": {\"31\": 36}, \"11\": {\"11\": 124, \"16\": 5, \"36\": 1, \"15\": 15, \"52\": 3, \"46\": 1, \"43\": 1}, \"47\": {\"47\": 73, \"57\": 14, \"54\": 2, \"3\": 3, \"27\": 1, \"36\": 1, \"46\": 1, \"29\": 1, \"19\": 3, \"34\": 1}, \"23\": {\"23\": 122, \"18\": 2}, \"43\": {\"43\": 133, \"11\": 2, \"46\": 4, \"15\": 1, \"52\": 4}, \"37\": {\"47\": 2, \"37\": 22}, \"5\": {\"5\": 97, \"44\": 12, \"19\": 6, \"40\": 4, \"57\": 1, \"9\": 1, \"33\": 2, \"36\": 2, \"29\": 3}, \"45\": {\"45\": 79, \"48\": 2, \"55\": 7, \"32\": 2, \"8\": 3, \"4\": 6, \"26\": 1, \"25\": 4, \"6\": 2, \"9\": 7, \"30\": 6, \"7\": 1, \"50\": 2, \"27\": 1, \"17\": 1}, \"7\": {\"7\": 30, \"4\": 1, \"17\": 1}, \"13\": {\"13\": 113, \"10\": 3, \"24\": 7, \"22\": 1, \"0\": 3, \"56\": 7, \"15\": 2}, \"49\": {\"49\": 35, \"3\": 1}, \"46\": {\"11\": 5, \"46\": 104, \"42\": 2, \"3\": 6, \"14\": 1, \"52\": 13, \"57\": 5, \"5\": 1, \"43\": 4, \"23\": 2, \"34\": 1, \"47\": 1, \"55\": 1, \"54\": 1, \"0\": 1}, \"16\": {\"16\": 126, \"3\": 1, \"52\": 3, \"46\": 2, \"11\": 1, \"23\": 1, \"1\": 1, \"43\": 1}, \"54\": {\"54\": 112}, \"19\": {\"19\": 150, \"50\": 2}, \"55\": {\"55\": 103, \"9\": 5, \"45\": 5, \"48\": 6, \"25\": 9, \"27\": 2, \"4\": 1, \"6\": 11, \"20\": 1, \"50\": 7}, \"30\": {\"30\": 97, \"17\": 18, \"45\": 2, \"8\": 3, \"6\": 1, \"55\": 1, \"27\": 2, \"9\": 2, \"1\": 2}, \"34\": {\"34\": 30, \"14\": 2, \"1\": 1, \"5\": 1, \"46\": 1, \"3\": 1}, \"50\": {\"55\": 14, \"50\": 47, \"51\": 11, \"7\": 2, \"25\": 12, \"21\": 5, \"1\": 2, \"27\": 5, \"8\": 6, \"54\": 5, \"6\": 1, \"20\": 5, \"3\": 1, \"45\": 3, \"48\": 7, \"9\": 3, \"53\": 2, \"33\": 1, \"32\": 1, \"4\": 1}, \"3\": {\"11\": 2, \"52\": 6, \"47\": 9, \"49\": 2, \"57\": 5, \"14\": 1, \"56\": 3, \"3\": 34, \"46\": 11, \"43\": 4, \"23\": 3, \"36\": 8, \"34\": 1, \"54\": 2, \"0\": 4, \"1\": 1, \"35\": 1, \"24\": 2, \"48\": 1}, \"10\": {\"10\": 56, \"56\": 3, \"13\": 4, \"0\": 1, \"24\": 4}, \"27\": {\"27\": 103, \"17\": 3, \"6\": 2, \"32\": 4, \"30\": 3, \"50\": 1, \"1\": 3, \"53\": 2, \"9\": 11, \"45\": 4, \"48\": 4, \"25\": 1, \"55\": 1}, \"33\": {\"33\": 29, \"5\": 3}, \"56\": {\"56\": 130, \"22\": 1, \"13\": 2, \"10\": 2, \"24\": 5, \"15\": 1, \"0\": 1}, \"9\": {\"27\": 18, \"9\": 97, \"55\": 5, \"32\": 5, \"12\": 1, \"50\": 1, \"45\": 9, \"48\": 9, \"20\": 2, \"33\": 1, \"4\": 1, \"53\": 1}, \"14\": {\"31\": 4, \"14\": 19, \"50\": 3, \"43\": 4, \"36\": 1, \"32\": 1, \"33\": 3, \"54\": 1, \"40\": 1, \"48\": 1, \"37\": 2, \"47\": 2, \"9\": 1, \"3\": 1}, \"4\": {\"27\": 1, \"4\": 95, \"7\": 1, \"45\": 3}, \"42\": {\"42\": 37, \"52\": 2, \"33\": 1}, \"24\": {\"24\": 73, \"10\": 2, \"13\": 3, \"0\": 1, \"15\": 1}, \"39\": {\"39\": 19, \"54\": 1}, \"52\": {\"52\": 114, \"48\": 1, \"43\": 4, \"46\": 7, \"23\": 3, \"36\": 1}, \"2\": {\"2\": 28}, \"28\": {\"33\": 1, \"28\": 29, \"44\": 1, \"29\": 1}, \"53\": {\"53\": 115, \"20\": 3, \"8\": 1, \"51\": 1, \"6\": 1, \"1\": 1}, \"17\": {\"17\": 110, \"30\": 6}, \"29\": {\"29\": 99, \"19\": 15, \"44\": 5, \"40\": 3, \"34\": 1, \"54\": 1, \"50\": 3, \"47\": 1, \"5\": 1, \"14\": 1, \"48\": 2}, \"38\": {\"38\": 31, \"17\": 1}, \"15\": {\"15\": 129, \"16\": 1, \"11\": 13, \"52\": 1}, \"26\": {\"26\": 20, \"12\": 1, \"38\": 2, \"6\": 1}, \"21\": {\"21\": 144}, \"41\": {\"41\": 26, \"1\": 1, \"5\": 1}, \"48\": {\"48\": 124, \"20\": 1, \"54\": 2, \"1\": 6, \"32\": 1, \"27\": 1, \"50\": 1}, \"22\": {\"22\": 21, \"44\": 1, \"49\": 2, \"35\": 1, \"24\": 1, \"36\": 1, \"47\": 1}, \"8\": {\"8\": 101, \"6\": 9, \"53\": 7, \"20\": 20, \"17\": 2, \"25\": 2, \"51\": 2, \"48\": 2, \"1\": 1, \"55\": 1, \"9\": 1}, \"18\": {\"18\": 60, \"42\": 1, \"23\": 3}, \"0\": {\"0\": 98, \"15\": 7, \"36\": 1, \"14\": 1, \"3\": 2, \"11\": 3, \"57\": 2, \"47\": 1, \"24\": 3, \"46\": 1, \"16\": 1, \"56\": 2}, \"1\": {\"18\": 4, \"1\": 103, \"48\": 16, \"6\": 3, \"27\": 2, \"23\": 6, \"53\": 1, \"51\": 1, \"30\": 2}, \"40\": {\"40\": 79, \"5\": 21, \"44\": 11, \"29\": 3, \"19\": 4, \"47\": 1, \"36\": 3, \"32\": 1, \"14\": 1}, \"6\": {\"51\": 1, \"6\": 83, \"1\": 8, \"8\": 8, \"50\": 5, \"45\": 7, \"25\": 3, \"53\": 2, \"17\": 3, \"30\": 1, \"55\": 4, \"48\": 2, \"20\": 1}, \"51\": {\"51\": 136, \"20\": 2, \"53\": 4}, \"36\": {\"36\": 83, \"3\": 1, \"54\": 4, \"43\": 1, \"47\": 2, \"52\": 1}}}, \"per_domain_accuracy\": {\"O_50\": {\"accuracy\": 0.8911458333333333, \"source?\": true}, \"O_14\": {\"accuracy\": 0.9140625, \"source?\": true}, \"O_32\": {\"accuracy\": 0.8875, \"source?\": true}, \"O_44\": {\"accuracy\": 0.77265625, \"source?\": true}, \"O_8\": {\"accuracy\": 0.8802083333333334, \"source?\": true}, \"O_20\": {\"accuracy\": 0.8346354166666666, \"source?\": true}, \"O_38\": {\"accuracy\": 0.9018229166666667, \"source?\": true}, \"O_26\": {\"accuracy\": 0.7638020833333333, \"source?\": true}, \"W_3\": {\"accuracy\": 0.5754639737991266, \"source?\": false}, \"C_4\": {\"accuracy\": 0.8420454545454545, \"source?\": false}, \"C_2\": {\"accuracy\": 0.8393609550561798, \"source?\": false}, \"W_2\": {\"accuracy\": 0.5670572916666666, \"source?\": false}, \"C_3\": {\"accuracy\": 0.8364955357142857, \"source?\": false}, \"W_1\": {\"accuracy\": 0.5814353813559322, \"source?\": false}, \"C_1\": {\"accuracy\": 0.8493243243243244, \"source?\": false}, \"W_4\": {\"accuracy\": 0.5343364197530864, \"source?\": false}, \"C_5\": {\"accuracy\": 0.8137220670391061, \"source?\": false}}}, \"history\": {\"epoch_indices\": [1, 2, 3, 4, 5, 6, 7, 8, 9, 10, 11, 12], \"train_label_loss\": [1.0000145381626984, 0.7437943587523131, 0.589291762866612, 0.5241031698616487, 0.4809219460302432, 0.435306737321939, 0.4020939512837989, 0.37291635880939705, 0.343510338195899, 0.31052785590374177, 0.2798142194413924, 0.26018668250776716], \"source_val_label_loss\": [1.1531554460525513, 0.6333507299423218, 0.5808571577072144, 0.4702475666999817, 0.45236626267433167, 0.4352366328239441, 0.4152791202068329, 0.3953409194946289, 0.36044418811798096, 0.36803507804870605, 0.33451294898986816, 0.32279860973358154], \"target_val_label_loss\": [18.115285873413086, 5.71258544921875, 5.865298271179199, 6.20896053314209, 5.985706806182861, 7.405100345611572, 8.608346939086914, 9.594793319702148, 9.84424877166748, 11.239391326904297, 12.25897216796875, 14.43607234954834], \"source_val_acc_label\": [0.62607421875, 0.7703776041666667, 0.7887044270833333, 0.8314453125, 0.8336263020833333, 0.84384765625, 0.8484700520833334, 0.8557291666666667, 0.8713541666666667, 0.8660807291666667, 0.8816731770833334, 0.8841471354166667], \"target_val_acc_label\": [0.5421695008228196, 0.6837801700493692, 0.6914941031267142, 0.6822545255074054, 0.6937911409764125, 0.6806774547449259, 0.6934482995063083, 0.6947853812397148, 0.6833516182117388, 0.6717635765222161, 0.6875514262205157, 0.6799746297312123]}, \"dataset_metrics\": {\"source\": {\"train\": {\"n_unique_x\": 179200, \"n_unique_y\": 16, \"n_batch/episode\": 6720}, \"val\": {\"n_unique_x\": 38400, \"n_unique_y\": 16, \"n_batch/episode\": 960}, \"test\": {\"n_unique_x\": 38400, \"n_unique_y\": 16, \"n_batch/episode\": 960}}, \"target\": {\"train\": {\"n_unique_x\": 364205, \"n_unique_y\": 130, \"n_batch/episode\": 13140}, \"val\": {\"n_unique_x\": 77236, \"n_unique_y\": 130, \"n_batch/episode\": 1823}, \"test\": {\"n_unique_x\": 78478, \"n_unique_y\": 130, \"n_batch/episode\": 1857}}}}'"
      ]
     },
     "execution_count": 29,
     "metadata": {},
     "output_type": "execute_result"
    }
   ],
   "source": [
    "json.dumps(experiment)"
   ]
  }
 ],
 "metadata": {
  "celltoolbar": "Tags",
  "kernelspec": {
   "display_name": "Python 3 (ipykernel)",
   "language": "python",
   "name": "python3"
  },
  "language_info": {
   "codemirror_mode": {
    "name": "ipython",
    "version": 3
   },
   "file_extension": ".py",
   "mimetype": "text/x-python",
   "name": "python",
   "nbconvert_exporter": "python",
   "pygments_lexer": "ipython3",
   "version": "3.8.10"
  },
  "papermill": {
   "default_parameters": {},
   "duration": 2551.845538,
   "end_time": "2022-03-21T04:07:03.839750",
   "environment_variables": {},
   "exception": null,
   "input_path": "/mnt/wd500GB/CSC500/csc500-main/csc500-notebooks/templates/tl_ptn_template.ipynb",
   "output_path": "trial.ipynb",
   "parameters": {
    "parameters": {
     "BEST_MODEL_PATH": "./best_model.pth",
     "NUM_LOGS_PER_EPOCH": 10,
     "criteria_for_best": "target_accuracy",
     "dataset_seed": 500,
     "datasets": [
      {
       "domain_prefix": "C_",
       "domains": [
        1,
        2,
        3,
        4,
        5
       ],
       "episode_transforms": [],
       "labels": [
        "1-10.",
        "1-11.",
        "1-15.",
        "1-16.",
        "1-17.",
        "1-18.",
        "1-19.",
        "10-4.",
        "10-7.",
        "11-1.",
        "11-14.",
        "11-17.",
        "11-20.",
        "11-7.",
        "13-20.",
        "13-8.",
        "14-10.",
        "14-11.",
        "14-14.",
        "14-7.",
        "15-1.",
        "15-20.",
        "16-1.",
        "16-16.",
        "17-10.",
        "17-11.",
        "17-2.",
        "19-1.",
        "19-16.",
        "19-19.",
        "19-20.",
        "19-3.",
        "2-10.",
        "2-11.",
        "2-17.",
        "2-18.",
        "2-20.",
        "2-3.",
        "2-4.",
        "2-5.",
        "2-6.",
        "2-7.",
        "2-8.",
        "3-13.",
        "3-18.",
        "3-3.",
        "4-1.",
        "4-10.",
        "4-11.",
        "4-19.",
        "5-5.",
        "6-15.",
        "7-10.",
        "7-14.",
        "8-18.",
        "8-20.",
        "8-3.",
        "8-8."
       ],
       "num_examples_per_domain_per_label": -1,
       "pickle_path": "/mnt/wd500GB/CSC500/csc500-main/datasets/cores.stratified_ds.2022A.pkl",
       "source_or_target_dataset": "target",
       "x_transforms": [
        "unit_mag",
        "take_200"
       ]
      },
      {
       "domain_prefix": "W_",
       "domains": [
        1,
        2,
        3,
        4
       ],
       "episode_transforms": [],
       "labels": [
        "1-10",
        "1-12",
        "1-14",
        "1-16",
        "1-18",
        "1-19",
        "1-8",
        "10-11",
        "10-17",
        "10-4",
        "10-7",
        "11-1",
        "11-10",
        "11-19",
        "11-20",
        "11-4",
        "11-7",
        "12-19",
        "12-20",
        "12-7",
        "13-14",
        "13-18",
        "13-19",
        "13-20",
        "13-3",
        "13-7",
        "14-10",
        "14-11",
        "14-12",
        "14-13",
        "14-14",
        "14-19",
        "14-20",
        "14-7",
        "14-8",
        "14-9",
        "15-1",
        "15-19",
        "15-6",
        "16-1",
        "16-16",
        "16-19",
        "16-20",
        "17-10",
        "17-11",
        "18-1",
        "18-10",
        "18-11",
        "18-12",
        "18-13",
        "18-14",
        "18-15",
        "18-16",
        "18-17",
        "18-19",
        "18-2",
        "18-20",
        "18-4",
        "18-5",
        "18-7",
        "18-8",
        "18-9",
        "19-1",
        "19-10",
        "19-11",
        "19-12",
        "19-13",
        "19-14",
        "19-15",
        "19-19",
        "19-2",
        "19-20",
        "19-3",
        "19-4",
        "19-6",
        "19-7",
        "19-8",
        "19-9",
        "2-1",
        "2-13",
        "2-15",
        "2-3",
        "2-4",
        "2-5",
        "2-6",
        "2-7",
        "2-8",
        "20-1",
        "20-12",
        "20-14",
        "20-15",
        "20-16",
        "20-18",
        "20-19",
        "20-20",
        "20-3",
        "20-4",
        "20-5",
        "20-7",
        "20-8",
        "3-1",
        "3-13",
        "3-18",
        "3-2",
        "3-8",
        "4-1",
        "4-10",
        "4-11",
        "5-1",
        "5-5",
        "6-1",
        "6-15",
        "6-6",
        "7-10",
        "7-11",
        "7-12",
        "7-13",
        "7-14",
        "7-7",
        "7-8",
        "7-9",
        "8-1",
        "8-13",
        "8-14",
        "8-18",
        "8-20",
        "8-3",
        "8-8",
        "9-1",
        "9-7"
       ],
       "num_examples_per_domain_per_label": -1,
       "pickle_path": "/mnt/wd500GB/CSC500/csc500-main/datasets/wisig.node3-19.stratified_ds.2022A.pkl",
       "source_or_target_dataset": "target",
       "x_transforms": [
        "unit_mag",
        "take_200"
       ]
      },
      {
       "domain_prefix": "O_",
       "domains": [
        32,
        38,
        8,
        44,
        14,
        50,
        20,
        26
       ],
       "episode_transforms": [],
       "labels": [
        "3123D52",
        "3123D65",
        "3123D79",
        "3123D80",
        "3123D54",
        "3123D70",
        "3123D7B",
        "3123D89",
        "3123D58",
        "3123D76",
        "3123D7D",
        "3123EFE",
        "3123D64",
        "3123D78",
        "3123D7E",
        "3124E4A"
       ],
       "num_examples_per_domain_per_label": 2000,
       "pickle_path": "/mnt/wd500GB/CSC500/csc500-main/datasets/oracle.Run1_framed_2000Examples_stratified_ds.2022A.pkl",
       "source_or_target_dataset": "source",
       "x_transforms": [
        "unit_mag",
        "take_200",
        "resample_20Msps_to_25Msps"
       ]
      }
     ],
     "device": "cuda",
     "experiment_name": "tl_3Av2:oracle.run1.framed -> cores+wisig",
     "lr": 0.0001,
     "n_epoch": 50,
     "n_query": 2,
     "n_shot": 3,
     "n_way": 16,
     "patience": 3,
     "seed": 500,
     "test_k_factor": 2,
     "torch_default_dtype": "torch.float32",
     "train_k_factor": 3,
     "val_k_factor": 2,
     "x_net": [
      {
       "class": "nnReshape",
       "kargs": {
        "shape": [
         -1,
         1,
         2,
         200
        ]
       }
      },
      {
       "class": "Conv2d",
       "kargs": {
        "bias": false,
        "in_channels": 1,
        "kernel_size": [
         1,
         7
        ],
        "out_channels": 256,
        "padding": [
         0,
         3
        ]
       }
      },
      {
       "class": "ReLU",
       "kargs": {
        "inplace": true
       }
      },
      {
       "class": "BatchNorm2d",
       "kargs": {
        "num_features": 256
       }
      },
      {
       "class": "Conv2d",
       "kargs": {
        "bias": true,
        "in_channels": 256,
        "kernel_size": [
         2,
         7
        ],
        "out_channels": 80,
        "padding": [
         0,
         3
        ]
       }
      },
      {
       "class": "ReLU",
       "kargs": {
        "inplace": true
       }
      },
      {
       "class": "BatchNorm2d",
       "kargs": {
        "num_features": 80
       }
      },
      {
       "class": "Flatten",
       "kargs": {}
      },
      {
       "class": "Linear",
       "kargs": {
        "in_features": 16000,
        "out_features": 256
       }
      },
      {
       "class": "ReLU",
       "kargs": {
        "inplace": true
       }
      },
      {
       "class": "BatchNorm1d",
       "kargs": {
        "num_features": 256
       }
      },
      {
       "class": "Linear",
       "kargs": {
        "in_features": 256,
        "out_features": 256
       }
      }
     ],
     "x_shape": [
      2,
      200
     ]
    }
   },
   "start_time": "2022-03-21T03:24:31.994212",
   "version": "2.3.4"
  }
 },
 "nbformat": 4,
 "nbformat_minor": 5
}