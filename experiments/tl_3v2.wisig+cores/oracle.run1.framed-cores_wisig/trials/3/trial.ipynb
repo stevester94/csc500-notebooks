{
 "cells": [
  {
   "cell_type": "markdown",
   "id": "9fea5f46",
   "metadata": {
    "papermill": {
     "duration": 0.018543,
     "end_time": "2022-03-20T22:31:36.978077",
     "exception": false,
     "start_time": "2022-03-20T22:31:36.959534",
     "status": "completed"
    },
    "tags": []
   },
   "source": [
    "# Transfer Learning Template"
   ]
  },
  {
   "cell_type": "code",
   "execution_count": 1,
   "id": "0902182a",
   "metadata": {
    "execution": {
     "iopub.execute_input": "2022-03-20T22:31:37.016215Z",
     "iopub.status.busy": "2022-03-20T22:31:37.010090Z",
     "iopub.status.idle": "2022-03-20T22:31:37.915769Z",
     "shell.execute_reply": "2022-03-20T22:31:37.915270Z"
    },
    "papermill": {
     "duration": 0.9251,
     "end_time": "2022-03-20T22:31:37.915890",
     "exception": false,
     "start_time": "2022-03-20T22:31:36.990790",
     "status": "completed"
    },
    "tags": []
   },
   "outputs": [],
   "source": [
    "%load_ext autoreload\n",
    "%autoreload 2\n",
    "%matplotlib inline\n",
    "\n",
    "    \n",
    "import os, json, sys, time, random\n",
    "import numpy as np\n",
    "import torch\n",
    "from torch.optim import Adam\n",
    "from  easydict import EasyDict\n",
    "import matplotlib.pyplot as plt\n",
    "\n",
    "from steves_models.steves_ptn import Steves_Prototypical_Network\n",
    "\n",
    "from steves_utils.lazy_iterable_wrapper import Lazy_Iterable_Wrapper\n",
    "from steves_utils.iterable_aggregator import Iterable_Aggregator\n",
    "from steves_utils.ptn_train_eval_test_jig import  PTN_Train_Eval_Test_Jig\n",
    "from steves_utils.torch_sequential_builder import build_sequential\n",
    "from steves_utils.torch_utils import get_dataset_metrics, ptn_confusion_by_domain_over_dataloader\n",
    "from steves_utils.utils_v2 import (per_domain_accuracy_from_confusion, get_datasets_base_path)\n",
    "from steves_utils.PTN.utils import independent_accuracy_assesment\n",
    "\n",
    "from torch.utils.data import DataLoader\n",
    "\n",
    "from steves_utils.stratified_dataset.episodic_accessor import Episodic_Accessor_Factory\n",
    "\n",
    "from steves_utils.ptn_do_report import (\n",
    "    get_loss_curve,\n",
    "    get_results_table,\n",
    "    get_parameters_table,\n",
    "    get_domain_accuracies,\n",
    ")\n",
    "\n",
    "from steves_utils.transforms import get_chained_transform"
   ]
  },
  {
   "cell_type": "markdown",
   "id": "41c840b4",
   "metadata": {
    "papermill": {
     "duration": 0.012889,
     "end_time": "2022-03-20T22:31:37.946151",
     "exception": false,
     "start_time": "2022-03-20T22:31:37.933262",
     "status": "completed"
    },
    "tags": []
   },
   "source": [
    "# Allowed Parameters\n",
    "These are allowed parameters, not defaults\n",
    "Each of these values need to be present in the injected parameters (the notebook will raise an exception if they are not present)\n",
    "\n",
    "Papermill uses the cell tag \"parameters\" to inject the real parameters below this cell.\n",
    "Enable tags to see what I mean"
   ]
  },
  {
   "cell_type": "code",
   "execution_count": 2,
   "id": "fd44eb83",
   "metadata": {
    "execution": {
     "iopub.execute_input": "2022-03-20T22:31:37.976154Z",
     "iopub.status.busy": "2022-03-20T22:31:37.975632Z",
     "iopub.status.idle": "2022-03-20T22:31:37.988897Z",
     "shell.execute_reply": "2022-03-20T22:31:37.988484Z"
    },
    "papermill": {
     "duration": 0.029781,
     "end_time": "2022-03-20T22:31:37.988998",
     "exception": false,
     "start_time": "2022-03-20T22:31:37.959217",
     "status": "completed"
    },
    "tags": []
   },
   "outputs": [],
   "source": [
    "required_parameters = {\n",
    "    \"experiment_name\",\n",
    "    \"lr\",\n",
    "    \"device\",\n",
    "    \"seed\",\n",
    "    \"dataset_seed\",\n",
    "    \"n_shot\",\n",
    "    \"n_query\",\n",
    "    \"n_way\",\n",
    "    \"train_k_factor\",\n",
    "    \"val_k_factor\",\n",
    "    \"test_k_factor\",\n",
    "    \"n_epoch\",\n",
    "    \"patience\",\n",
    "    \"criteria_for_best\",\n",
    "    \"x_net\",\n",
    "    \"datasets\",\n",
    "    \"torch_default_dtype\",\n",
    "    \"NUM_LOGS_PER_EPOCH\",\n",
    "    \"BEST_MODEL_PATH\",\n",
    "    \"x_shape\",\n",
    "}"
   ]
  },
  {
   "cell_type": "code",
   "execution_count": 3,
   "id": "fa3f0049",
   "metadata": {
    "execution": {
     "iopub.execute_input": "2022-03-20T22:31:38.026600Z",
     "iopub.status.busy": "2022-03-20T22:31:38.026313Z",
     "iopub.status.idle": "2022-03-20T22:31:38.039434Z",
     "shell.execute_reply": "2022-03-20T22:31:38.038933Z"
    },
    "papermill": {
     "duration": 0.032331,
     "end_time": "2022-03-20T22:31:38.039536",
     "exception": false,
     "start_time": "2022-03-20T22:31:38.007205",
     "status": "completed"
    },
    "tags": [
     "parameters"
    ]
   },
   "outputs": [],
   "source": [
    "from steves_utils.CORES.utils import (\n",
    "    ALL_NODES,\n",
    "    ALL_NODES_MINIMUM_1000_EXAMPLES,\n",
    "    ALL_DAYS\n",
    ")\n",
    "\n",
    "from steves_utils.ORACLE.utils_v2 import (\n",
    "    ALL_DISTANCES_FEET_NARROWED,\n",
    "    ALL_RUNS,\n",
    "    ALL_SERIAL_NUMBERS,\n",
    ")\n",
    "\n",
    "standalone_parameters = {}\n",
    "standalone_parameters[\"experiment_name\"] = \"STANDALONE PTN\"\n",
    "standalone_parameters[\"lr\"] = 0.001\n",
    "standalone_parameters[\"device\"] = \"cuda\"\n",
    "\n",
    "standalone_parameters[\"seed\"] = 1337\n",
    "standalone_parameters[\"dataset_seed\"] = 1337\n",
    "\n",
    "standalone_parameters[\"n_way\"] = 8\n",
    "standalone_parameters[\"n_shot\"] = 3\n",
    "standalone_parameters[\"n_query\"]  = 2\n",
    "standalone_parameters[\"train_k_factor\"] = 1\n",
    "standalone_parameters[\"val_k_factor\"] = 2\n",
    "standalone_parameters[\"test_k_factor\"] = 2\n",
    "\n",
    "\n",
    "standalone_parameters[\"n_epoch\"] = 50\n",
    "\n",
    "standalone_parameters[\"patience\"] = 10\n",
    "standalone_parameters[\"criteria_for_best\"] = \"source_loss\"\n",
    "\n",
    "standalone_parameters[\"datasets\"] = [\n",
    "    {\n",
    "        \"labels\": ALL_SERIAL_NUMBERS,\n",
    "        \"domains\": ALL_DISTANCES_FEET_NARROWED,\n",
    "        \"num_examples_per_domain_per_label\": 100,\n",
    "        \"pickle_path\": os.path.join(get_datasets_base_path(), \"oracle.Run1_framed_2000Examples_stratified_ds.2022A.pkl\"),\n",
    "        \"source_or_target_dataset\": \"source\",\n",
    "        \"x_transforms\": [\"unit_mag\", \"minus_two\"],\n",
    "        \"episode_transforms\": [],\n",
    "        \"domain_prefix\": \"ORACLE_\"\n",
    "    },\n",
    "    {\n",
    "        \"labels\": ALL_NODES,\n",
    "        \"domains\": ALL_DAYS,\n",
    "        \"num_examples_per_domain_per_label\": 100,\n",
    "        \"pickle_path\": os.path.join(get_datasets_base_path(), \"cores.stratified_ds.2022A.pkl\"),\n",
    "        \"source_or_target_dataset\": \"target\",\n",
    "        \"x_transforms\": [\"unit_power\", \"times_zero\"],\n",
    "        \"episode_transforms\": [],\n",
    "        \"domain_prefix\": \"CORES_\"\n",
    "    }   \n",
    "]\n",
    "\n",
    "standalone_parameters[\"torch_default_dtype\"] = \"torch.float32\" \n",
    "\n",
    "\n",
    "\n",
    "standalone_parameters[\"x_net\"] =     [\n",
    "    {\"class\": \"nnReshape\", \"kargs\": {\"shape\":[-1, 1, 2, 256]}},\n",
    "    {\"class\": \"Conv2d\", \"kargs\": { \"in_channels\":1, \"out_channels\":256, \"kernel_size\":(1,7), \"bias\":False, \"padding\":(0,3), },},\n",
    "    {\"class\": \"ReLU\", \"kargs\": {\"inplace\": True}},\n",
    "    {\"class\": \"BatchNorm2d\", \"kargs\": {\"num_features\":256}},\n",
    "\n",
    "    {\"class\": \"Conv2d\", \"kargs\": { \"in_channels\":256, \"out_channels\":80, \"kernel_size\":(2,7), \"bias\":True, \"padding\":(0,3), },},\n",
    "    {\"class\": \"ReLU\", \"kargs\": {\"inplace\": True}},\n",
    "    {\"class\": \"BatchNorm2d\", \"kargs\": {\"num_features\":80}},\n",
    "    {\"class\": \"Flatten\", \"kargs\": {}},\n",
    "\n",
    "    {\"class\": \"Linear\", \"kargs\": {\"in_features\": 80*256, \"out_features\": 256}}, # 80 units per IQ pair\n",
    "    {\"class\": \"ReLU\", \"kargs\": {\"inplace\": True}},\n",
    "    {\"class\": \"BatchNorm1d\", \"kargs\": {\"num_features\":256}},\n",
    "\n",
    "    {\"class\": \"Linear\", \"kargs\": {\"in_features\": 256, \"out_features\": 256}},\n",
    "]\n",
    "\n",
    "# Parameters relevant to results\n",
    "# These parameters will basically never need to change\n",
    "standalone_parameters[\"NUM_LOGS_PER_EPOCH\"] = 10\n",
    "standalone_parameters[\"BEST_MODEL_PATH\"] = \"./best_model.pth\"\n",
    "\n",
    "\n",
    "\n",
    "\n"
   ]
  },
  {
   "cell_type": "code",
   "execution_count": 4,
   "id": "b038e666",
   "metadata": {
    "execution": {
     "iopub.execute_input": "2022-03-20T22:31:38.081045Z",
     "iopub.status.busy": "2022-03-20T22:31:38.076564Z",
     "iopub.status.idle": "2022-03-20T22:31:38.094387Z",
     "shell.execute_reply": "2022-03-20T22:31:38.093903Z"
    },
    "papermill": {
     "duration": 0.037627,
     "end_time": "2022-03-20T22:31:38.094489",
     "exception": false,
     "start_time": "2022-03-20T22:31:38.056862",
     "status": "completed"
    },
    "tags": [
     "injected-parameters"
    ]
   },
   "outputs": [],
   "source": [
    "# Parameters\n",
    "parameters = {\n",
    "    \"experiment_name\": \"tl_3Av2:oracle.run1.framed -> cores+wisig\",\n",
    "    \"device\": \"cuda\",\n",
    "    \"lr\": 0.0001,\n",
    "    \"x_shape\": [2, 200],\n",
    "    \"n_shot\": 3,\n",
    "    \"n_query\": 2,\n",
    "    \"train_k_factor\": 3,\n",
    "    \"val_k_factor\": 2,\n",
    "    \"test_k_factor\": 2,\n",
    "    \"torch_default_dtype\": \"torch.float32\",\n",
    "    \"n_epoch\": 50,\n",
    "    \"patience\": 3,\n",
    "    \"criteria_for_best\": \"target_accuracy\",\n",
    "    \"x_net\": [\n",
    "        {\"class\": \"nnReshape\", \"kargs\": {\"shape\": [-1, 1, 2, 200]}},\n",
    "        {\n",
    "            \"class\": \"Conv2d\",\n",
    "            \"kargs\": {\n",
    "                \"in_channels\": 1,\n",
    "                \"out_channels\": 256,\n",
    "                \"kernel_size\": [1, 7],\n",
    "                \"bias\": False,\n",
    "                \"padding\": [0, 3],\n",
    "            },\n",
    "        },\n",
    "        {\"class\": \"ReLU\", \"kargs\": {\"inplace\": True}},\n",
    "        {\"class\": \"BatchNorm2d\", \"kargs\": {\"num_features\": 256}},\n",
    "        {\n",
    "            \"class\": \"Conv2d\",\n",
    "            \"kargs\": {\n",
    "                \"in_channels\": 256,\n",
    "                \"out_channels\": 80,\n",
    "                \"kernel_size\": [2, 7],\n",
    "                \"bias\": True,\n",
    "                \"padding\": [0, 3],\n",
    "            },\n",
    "        },\n",
    "        {\"class\": \"ReLU\", \"kargs\": {\"inplace\": True}},\n",
    "        {\"class\": \"BatchNorm2d\", \"kargs\": {\"num_features\": 80}},\n",
    "        {\"class\": \"Flatten\", \"kargs\": {}},\n",
    "        {\"class\": \"Linear\", \"kargs\": {\"in_features\": 16000, \"out_features\": 256}},\n",
    "        {\"class\": \"ReLU\", \"kargs\": {\"inplace\": True}},\n",
    "        {\"class\": \"BatchNorm1d\", \"kargs\": {\"num_features\": 256}},\n",
    "        {\"class\": \"Linear\", \"kargs\": {\"in_features\": 256, \"out_features\": 256}},\n",
    "    ],\n",
    "    \"NUM_LOGS_PER_EPOCH\": 10,\n",
    "    \"BEST_MODEL_PATH\": \"./best_model.pth\",\n",
    "    \"n_way\": 16,\n",
    "    \"datasets\": [\n",
    "        {\n",
    "            \"labels\": [\n",
    "                \"1-10.\",\n",
    "                \"1-11.\",\n",
    "                \"1-15.\",\n",
    "                \"1-16.\",\n",
    "                \"1-17.\",\n",
    "                \"1-18.\",\n",
    "                \"1-19.\",\n",
    "                \"10-4.\",\n",
    "                \"10-7.\",\n",
    "                \"11-1.\",\n",
    "                \"11-14.\",\n",
    "                \"11-17.\",\n",
    "                \"11-20.\",\n",
    "                \"11-7.\",\n",
    "                \"13-20.\",\n",
    "                \"13-8.\",\n",
    "                \"14-10.\",\n",
    "                \"14-11.\",\n",
    "                \"14-14.\",\n",
    "                \"14-7.\",\n",
    "                \"15-1.\",\n",
    "                \"15-20.\",\n",
    "                \"16-1.\",\n",
    "                \"16-16.\",\n",
    "                \"17-10.\",\n",
    "                \"17-11.\",\n",
    "                \"17-2.\",\n",
    "                \"19-1.\",\n",
    "                \"19-16.\",\n",
    "                \"19-19.\",\n",
    "                \"19-20.\",\n",
    "                \"19-3.\",\n",
    "                \"2-10.\",\n",
    "                \"2-11.\",\n",
    "                \"2-17.\",\n",
    "                \"2-18.\",\n",
    "                \"2-20.\",\n",
    "                \"2-3.\",\n",
    "                \"2-4.\",\n",
    "                \"2-5.\",\n",
    "                \"2-6.\",\n",
    "                \"2-7.\",\n",
    "                \"2-8.\",\n",
    "                \"3-13.\",\n",
    "                \"3-18.\",\n",
    "                \"3-3.\",\n",
    "                \"4-1.\",\n",
    "                \"4-10.\",\n",
    "                \"4-11.\",\n",
    "                \"4-19.\",\n",
    "                \"5-5.\",\n",
    "                \"6-15.\",\n",
    "                \"7-10.\",\n",
    "                \"7-14.\",\n",
    "                \"8-18.\",\n",
    "                \"8-20.\",\n",
    "                \"8-3.\",\n",
    "                \"8-8.\",\n",
    "            ],\n",
    "            \"domains\": [1, 2, 3, 4, 5],\n",
    "            \"num_examples_per_domain_per_label\": -1,\n",
    "            \"pickle_path\": \"/mnt/wd500GB/CSC500/csc500-main/datasets/cores.stratified_ds.2022A.pkl\",\n",
    "            \"source_or_target_dataset\": \"target\",\n",
    "            \"x_transforms\": [\"unit_power\", \"take_200\"],\n",
    "            \"episode_transforms\": [],\n",
    "            \"domain_prefix\": \"C_\",\n",
    "        },\n",
    "        {\n",
    "            \"labels\": [\n",
    "                \"1-10\",\n",
    "                \"1-12\",\n",
    "                \"1-14\",\n",
    "                \"1-16\",\n",
    "                \"1-18\",\n",
    "                \"1-19\",\n",
    "                \"1-8\",\n",
    "                \"10-11\",\n",
    "                \"10-17\",\n",
    "                \"10-4\",\n",
    "                \"10-7\",\n",
    "                \"11-1\",\n",
    "                \"11-10\",\n",
    "                \"11-19\",\n",
    "                \"11-20\",\n",
    "                \"11-4\",\n",
    "                \"11-7\",\n",
    "                \"12-19\",\n",
    "                \"12-20\",\n",
    "                \"12-7\",\n",
    "                \"13-14\",\n",
    "                \"13-18\",\n",
    "                \"13-19\",\n",
    "                \"13-20\",\n",
    "                \"13-3\",\n",
    "                \"13-7\",\n",
    "                \"14-10\",\n",
    "                \"14-11\",\n",
    "                \"14-12\",\n",
    "                \"14-13\",\n",
    "                \"14-14\",\n",
    "                \"14-19\",\n",
    "                \"14-20\",\n",
    "                \"14-7\",\n",
    "                \"14-8\",\n",
    "                \"14-9\",\n",
    "                \"15-1\",\n",
    "                \"15-19\",\n",
    "                \"15-6\",\n",
    "                \"16-1\",\n",
    "                \"16-16\",\n",
    "                \"16-19\",\n",
    "                \"16-20\",\n",
    "                \"17-10\",\n",
    "                \"17-11\",\n",
    "                \"18-1\",\n",
    "                \"18-10\",\n",
    "                \"18-11\",\n",
    "                \"18-12\",\n",
    "                \"18-13\",\n",
    "                \"18-14\",\n",
    "                \"18-15\",\n",
    "                \"18-16\",\n",
    "                \"18-17\",\n",
    "                \"18-19\",\n",
    "                \"18-2\",\n",
    "                \"18-20\",\n",
    "                \"18-4\",\n",
    "                \"18-5\",\n",
    "                \"18-7\",\n",
    "                \"18-8\",\n",
    "                \"18-9\",\n",
    "                \"19-1\",\n",
    "                \"19-10\",\n",
    "                \"19-11\",\n",
    "                \"19-12\",\n",
    "                \"19-13\",\n",
    "                \"19-14\",\n",
    "                \"19-15\",\n",
    "                \"19-19\",\n",
    "                \"19-2\",\n",
    "                \"19-20\",\n",
    "                \"19-3\",\n",
    "                \"19-4\",\n",
    "                \"19-6\",\n",
    "                \"19-7\",\n",
    "                \"19-8\",\n",
    "                \"19-9\",\n",
    "                \"2-1\",\n",
    "                \"2-13\",\n",
    "                \"2-15\",\n",
    "                \"2-3\",\n",
    "                \"2-4\",\n",
    "                \"2-5\",\n",
    "                \"2-6\",\n",
    "                \"2-7\",\n",
    "                \"2-8\",\n",
    "                \"20-1\",\n",
    "                \"20-12\",\n",
    "                \"20-14\",\n",
    "                \"20-15\",\n",
    "                \"20-16\",\n",
    "                \"20-18\",\n",
    "                \"20-19\",\n",
    "                \"20-20\",\n",
    "                \"20-3\",\n",
    "                \"20-4\",\n",
    "                \"20-5\",\n",
    "                \"20-7\",\n",
    "                \"20-8\",\n",
    "                \"3-1\",\n",
    "                \"3-13\",\n",
    "                \"3-18\",\n",
    "                \"3-2\",\n",
    "                \"3-8\",\n",
    "                \"4-1\",\n",
    "                \"4-10\",\n",
    "                \"4-11\",\n",
    "                \"5-1\",\n",
    "                \"5-5\",\n",
    "                \"6-1\",\n",
    "                \"6-15\",\n",
    "                \"6-6\",\n",
    "                \"7-10\",\n",
    "                \"7-11\",\n",
    "                \"7-12\",\n",
    "                \"7-13\",\n",
    "                \"7-14\",\n",
    "                \"7-7\",\n",
    "                \"7-8\",\n",
    "                \"7-9\",\n",
    "                \"8-1\",\n",
    "                \"8-13\",\n",
    "                \"8-14\",\n",
    "                \"8-18\",\n",
    "                \"8-20\",\n",
    "                \"8-3\",\n",
    "                \"8-8\",\n",
    "                \"9-1\",\n",
    "                \"9-7\",\n",
    "            ],\n",
    "            \"domains\": [1, 2, 3, 4],\n",
    "            \"num_examples_per_domain_per_label\": -1,\n",
    "            \"pickle_path\": \"/mnt/wd500GB/CSC500/csc500-main/datasets/wisig.node3-19.stratified_ds.2022A.pkl\",\n",
    "            \"source_or_target_dataset\": \"target\",\n",
    "            \"x_transforms\": [\"unit_power\", \"take_200\"],\n",
    "            \"episode_transforms\": [],\n",
    "            \"domain_prefix\": \"W_\",\n",
    "        },\n",
    "        {\n",
    "            \"labels\": [\n",
    "                \"3123D52\",\n",
    "                \"3123D65\",\n",
    "                \"3123D79\",\n",
    "                \"3123D80\",\n",
    "                \"3123D54\",\n",
    "                \"3123D70\",\n",
    "                \"3123D7B\",\n",
    "                \"3123D89\",\n",
    "                \"3123D58\",\n",
    "                \"3123D76\",\n",
    "                \"3123D7D\",\n",
    "                \"3123EFE\",\n",
    "                \"3123D64\",\n",
    "                \"3123D78\",\n",
    "                \"3123D7E\",\n",
    "                \"3124E4A\",\n",
    "            ],\n",
    "            \"domains\": [32, 38, 8, 44, 14, 50, 20, 26],\n",
    "            \"num_examples_per_domain_per_label\": 2000,\n",
    "            \"pickle_path\": \"/mnt/wd500GB/CSC500/csc500-main/datasets/oracle.Run1_framed_2000Examples_stratified_ds.2022A.pkl\",\n",
    "            \"source_or_target_dataset\": \"source\",\n",
    "            \"x_transforms\": [\"unit_power\", \"take_200\", \"resample_20Msps_to_25Msps\"],\n",
    "            \"episode_transforms\": [],\n",
    "            \"domain_prefix\": \"O_\",\n",
    "        },\n",
    "    ],\n",
    "    \"seed\": 420,\n",
    "    \"dataset_seed\": 420,\n",
    "}\n"
   ]
  },
  {
   "cell_type": "code",
   "execution_count": 5,
   "id": "8fa1cc33",
   "metadata": {
    "execution": {
     "iopub.execute_input": "2022-03-20T22:31:38.129961Z",
     "iopub.status.busy": "2022-03-20T22:31:38.129680Z",
     "iopub.status.idle": "2022-03-20T22:31:38.145785Z",
     "shell.execute_reply": "2022-03-20T22:31:38.145308Z"
    },
    "papermill": {
     "duration": 0.03364,
     "end_time": "2022-03-20T22:31:38.145883",
     "exception": false,
     "start_time": "2022-03-20T22:31:38.112243",
     "status": "completed"
    },
    "tags": []
   },
   "outputs": [],
   "source": [
    "# Set this to True if you want to run this template directly\n",
    "STANDALONE = False\n",
    "if STANDALONE:\n",
    "    print(\"parameters not injected, running with standalone_parameters\")\n",
    "    parameters = standalone_parameters\n",
    "\n",
    "if not 'parameters' in locals() and not 'parameters' in globals():\n",
    "    raise Exception(\"Parameter injection failed\")\n",
    "\n",
    "#Use an easy dict for all the parameters\n",
    "p = EasyDict(parameters)\n",
    "\n",
    "if \"x_shape\" not in p:\n",
    "    p.x_shape = [2,256] # Default to this if we dont supply x_shape\n",
    "\n",
    "\n",
    "supplied_keys = set(p.keys())\n",
    "\n",
    "if  supplied_keys != required_parameters:\n",
    "    print(\"Parameters are incorrect\")\n",
    "    if len(supplied_keys - required_parameters)>0: print(\"Shouldn't have:\", str(supplied_keys - required_parameters))\n",
    "    if len(required_parameters - supplied_keys)>0: print(\"Need to have:\", str(required_parameters - supplied_keys))\n",
    "    raise RuntimeError(\"Parameters are incorrect\")"
   ]
  },
  {
   "cell_type": "code",
   "execution_count": 6,
   "id": "3a028d58",
   "metadata": {
    "execution": {
     "iopub.execute_input": "2022-03-20T22:31:38.180193Z",
     "iopub.status.busy": "2022-03-20T22:31:38.178322Z",
     "iopub.status.idle": "2022-03-20T22:31:38.193009Z",
     "shell.execute_reply": "2022-03-20T22:31:38.192530Z"
    },
    "papermill": {
     "duration": 0.030847,
     "end_time": "2022-03-20T22:31:38.193109",
     "exception": false,
     "start_time": "2022-03-20T22:31:38.162262",
     "status": "completed"
    },
    "tags": []
   },
   "outputs": [],
   "source": [
    "###################################\n",
    "# Set the RNGs and make it all deterministic\n",
    "###################################\n",
    "np.random.seed(p.seed)\n",
    "random.seed(p.seed)\n",
    "torch.manual_seed(p.seed)\n",
    "\n",
    "torch.use_deterministic_algorithms(True) "
   ]
  },
  {
   "cell_type": "code",
   "execution_count": 7,
   "id": "b691acf6",
   "metadata": {
    "execution": {
     "iopub.execute_input": "2022-03-20T22:31:38.226614Z",
     "iopub.status.busy": "2022-03-20T22:31:38.226362Z",
     "iopub.status.idle": "2022-03-20T22:31:38.242181Z",
     "shell.execute_reply": "2022-03-20T22:31:38.241705Z"
    },
    "papermill": {
     "duration": 0.031017,
     "end_time": "2022-03-20T22:31:38.242280",
     "exception": false,
     "start_time": "2022-03-20T22:31:38.211263",
     "status": "completed"
    },
    "tags": []
   },
   "outputs": [],
   "source": [
    "###########################################\n",
    "# The stratified datasets honor this\n",
    "###########################################\n",
    "torch.set_default_dtype(eval(p.torch_default_dtype))"
   ]
  },
  {
   "cell_type": "code",
   "execution_count": 8,
   "id": "b5fba671",
   "metadata": {
    "execution": {
     "iopub.execute_input": "2022-03-20T22:31:38.276550Z",
     "iopub.status.busy": "2022-03-20T22:31:38.276224Z",
     "iopub.status.idle": "2022-03-20T22:31:38.313533Z",
     "shell.execute_reply": "2022-03-20T22:31:38.313092Z"
    },
    "papermill": {
     "duration": 0.052999,
     "end_time": "2022-03-20T22:31:38.313639",
     "exception": false,
     "start_time": "2022-03-20T22:31:38.260640",
     "status": "completed"
    },
    "tags": []
   },
   "outputs": [],
   "source": [
    "###################################\n",
    "# Build the network(s)\n",
    "# Note: It's critical to do this AFTER setting the RNG\n",
    "###################################\n",
    "x_net = build_sequential(p.x_net)"
   ]
  },
  {
   "cell_type": "code",
   "execution_count": 9,
   "id": "5d7e61cc",
   "metadata": {
    "execution": {
     "iopub.execute_input": "2022-03-20T22:31:38.348674Z",
     "iopub.status.busy": "2022-03-20T22:31:38.348423Z",
     "iopub.status.idle": "2022-03-20T22:31:38.363213Z",
     "shell.execute_reply": "2022-03-20T22:31:38.362851Z"
    },
    "papermill": {
     "duration": 0.03106,
     "end_time": "2022-03-20T22:31:38.363315",
     "exception": false,
     "start_time": "2022-03-20T22:31:38.332255",
     "status": "completed"
    },
    "tags": []
   },
   "outputs": [],
   "source": [
    "start_time_secs = time.time()"
   ]
  },
  {
   "cell_type": "code",
   "execution_count": 10,
   "id": "c6b67dfd",
   "metadata": {
    "execution": {
     "iopub.execute_input": "2022-03-20T22:31:38.399516Z",
     "iopub.status.busy": "2022-03-20T22:31:38.399258Z",
     "iopub.status.idle": "2022-03-20T22:31:38.413947Z",
     "shell.execute_reply": "2022-03-20T22:31:38.413471Z"
    },
    "papermill": {
     "duration": 0.030944,
     "end_time": "2022-03-20T22:31:38.414046",
     "exception": false,
     "start_time": "2022-03-20T22:31:38.383102",
     "status": "completed"
    },
    "tags": []
   },
   "outputs": [],
   "source": [
    "p.domains_source = []\n",
    "p.domains_target = []\n",
    "\n",
    "\n",
    "train_original_source = []\n",
    "val_original_source   = []\n",
    "test_original_source  = []\n",
    "\n",
    "train_original_target = []\n",
    "val_original_target   = []\n",
    "test_original_target  = []"
   ]
  },
  {
   "cell_type": "code",
   "execution_count": 11,
   "id": "e3d9c3d3",
   "metadata": {
    "execution": {
     "iopub.execute_input": "2022-03-20T22:31:38.449899Z",
     "iopub.status.busy": "2022-03-20T22:31:38.449647Z",
     "iopub.status.idle": "2022-03-20T22:31:38.464955Z",
     "shell.execute_reply": "2022-03-20T22:31:38.464477Z"
    },
    "papermill": {
     "duration": 0.031839,
     "end_time": "2022-03-20T22:31:38.465053",
     "exception": false,
     "start_time": "2022-03-20T22:31:38.433214",
     "status": "completed"
    },
    "tags": []
   },
   "outputs": [],
   "source": [
    "# global_x_transform_func = lambda x: normalize(x.to(torch.get_default_dtype()), \"unit_power\") # unit_power, unit_mag\n",
    "# global_x_transform_func = lambda x: normalize(x, \"unit_power\") # unit_power, unit_mag"
   ]
  },
  {
   "cell_type": "code",
   "execution_count": 12,
   "id": "acb78fd2",
   "metadata": {
    "execution": {
     "iopub.execute_input": "2022-03-20T22:31:38.503068Z",
     "iopub.status.busy": "2022-03-20T22:31:38.502804Z",
     "iopub.status.idle": "2022-03-20T22:31:38.516290Z",
     "shell.execute_reply": "2022-03-20T22:31:38.515871Z"
    },
    "papermill": {
     "duration": 0.033035,
     "end_time": "2022-03-20T22:31:38.516389",
     "exception": false,
     "start_time": "2022-03-20T22:31:38.483354",
     "status": "completed"
    },
    "tags": []
   },
   "outputs": [],
   "source": [
    "def add_dataset(\n",
    "    labels,\n",
    "    domains,\n",
    "    pickle_path,\n",
    "    x_transforms,\n",
    "    episode_transforms,\n",
    "    domain_prefix,\n",
    "    num_examples_per_domain_per_label,\n",
    "    source_or_target_dataset:str,\n",
    "    iterator_seed=p.seed,\n",
    "    dataset_seed=p.dataset_seed,\n",
    "    n_shot=p.n_shot,\n",
    "    n_way=p.n_way,\n",
    "    n_query=p.n_query,\n",
    "    train_val_test_k_factors=(p.train_k_factor,p.val_k_factor,p.test_k_factor),\n",
    "):\n",
    "   \n",
    "    if x_transforms == []: x_transform = None\n",
    "    else: x_transform = get_chained_transform(x_transforms)\n",
    "    \n",
    "    if episode_transforms == []: episode_transform = None\n",
    "    else: raise Exception(\"episode_transforms not implemented\")\n",
    "    \n",
    "    episode_transform = lambda tup, _prefix=domain_prefix: (_prefix + str(tup[0]), tup[1])\n",
    "\n",
    "\n",
    "    eaf = Episodic_Accessor_Factory(\n",
    "        labels=labels,\n",
    "        domains=domains,\n",
    "        num_examples_per_domain_per_label=num_examples_per_domain_per_label,\n",
    "        iterator_seed=iterator_seed,\n",
    "        dataset_seed=dataset_seed,\n",
    "        n_shot=n_shot,\n",
    "        n_way=n_way,\n",
    "        n_query=n_query,\n",
    "        train_val_test_k_factors=train_val_test_k_factors,\n",
    "        pickle_path=pickle_path,\n",
    "        x_transform_func=x_transform,\n",
    "    )\n",
    "\n",
    "    train, val, test = eaf.get_train(), eaf.get_val(), eaf.get_test()\n",
    "    train = Lazy_Iterable_Wrapper(train, episode_transform)\n",
    "    val = Lazy_Iterable_Wrapper(val, episode_transform)\n",
    "    test = Lazy_Iterable_Wrapper(test, episode_transform)\n",
    "\n",
    "    if source_or_target_dataset==\"source\":\n",
    "        train_original_source.append(train)\n",
    "        val_original_source.append(val)\n",
    "        test_original_source.append(test)\n",
    "\n",
    "        p.domains_source.extend(\n",
    "            [domain_prefix + str(u) for u in domains]\n",
    "        )\n",
    "    elif source_or_target_dataset==\"target\":\n",
    "        train_original_target.append(train)\n",
    "        val_original_target.append(val)\n",
    "        test_original_target.append(test)\n",
    "        p.domains_target.extend(\n",
    "            [domain_prefix + str(u) for u in domains]\n",
    "        )\n",
    "    else:\n",
    "        raise Exception(f\"invalid source_or_target_dataset: {source_or_target_dataset}\")\n",
    "    "
   ]
  },
  {
   "cell_type": "code",
   "execution_count": 13,
   "id": "fe266617",
   "metadata": {
    "execution": {
     "iopub.execute_input": "2022-03-20T22:31:38.551790Z",
     "iopub.status.busy": "2022-03-20T22:31:38.551539Z",
     "iopub.status.idle": "2022-03-20T22:32:46.750484Z",
     "shell.execute_reply": "2022-03-20T22:32:46.750027Z"
    },
    "papermill": {
     "duration": 68.214886,
     "end_time": "2022-03-20T22:32:46.750590",
     "exception": false,
     "start_time": "2022-03-20T22:31:38.535704",
     "status": "completed"
    },
    "tags": []
   },
   "outputs": [],
   "source": [
    "for ds in p.datasets:\n",
    "    add_dataset(**ds)"
   ]
  },
  {
   "cell_type": "code",
   "execution_count": 14,
   "id": "b90d65ac",
   "metadata": {
    "execution": {
     "iopub.execute_input": "2022-03-20T22:32:46.785411Z",
     "iopub.status.busy": "2022-03-20T22:32:46.785146Z",
     "iopub.status.idle": "2022-03-20T22:32:46.801498Z",
     "shell.execute_reply": "2022-03-20T22:32:46.801018Z"
    },
    "papermill": {
     "duration": 0.032399,
     "end_time": "2022-03-20T22:32:46.801595",
     "exception": false,
     "start_time": "2022-03-20T22:32:46.769196",
     "status": "completed"
    },
    "tags": []
   },
   "outputs": [],
   "source": [
    "# from steves_utils.CORES.utils import (\n",
    "#     ALL_NODES,\n",
    "#     ALL_NODES_MINIMUM_1000_EXAMPLES,\n",
    "#     ALL_DAYS\n",
    "# )\n",
    "\n",
    "# add_dataset(\n",
    "#     labels=ALL_NODES,\n",
    "#     domains = ALL_DAYS,\n",
    "#     num_examples_per_domain_per_label=100,\n",
    "#     pickle_path=os.path.join(get_datasets_base_path(), \"cores.stratified_ds.2022A.pkl\"),\n",
    "#     source_or_target_dataset=\"target\",\n",
    "#     x_transform_func=global_x_transform_func,\n",
    "#     domain_modifier=lambda u: f\"cores_{u}\"\n",
    "# )"
   ]
  },
  {
   "cell_type": "code",
   "execution_count": 15,
   "id": "76db484d",
   "metadata": {
    "execution": {
     "iopub.execute_input": "2022-03-20T22:32:46.837152Z",
     "iopub.status.busy": "2022-03-20T22:32:46.836446Z",
     "iopub.status.idle": "2022-03-20T22:32:46.852699Z",
     "shell.execute_reply": "2022-03-20T22:32:46.852208Z"
    },
    "papermill": {
     "duration": 0.032687,
     "end_time": "2022-03-20T22:32:46.852797",
     "exception": false,
     "start_time": "2022-03-20T22:32:46.820110",
     "status": "completed"
    },
    "tags": []
   },
   "outputs": [],
   "source": [
    "# from steves_utils.ORACLE.utils_v2 import (\n",
    "#     ALL_DISTANCES_FEET,\n",
    "#     ALL_RUNS,\n",
    "#     ALL_SERIAL_NUMBERS,\n",
    "# )\n",
    "\n",
    "\n",
    "# add_dataset(\n",
    "#     labels=ALL_SERIAL_NUMBERS,\n",
    "#     domains = list(set(ALL_DISTANCES_FEET) - {2,62}),\n",
    "#     num_examples_per_domain_per_label=100,\n",
    "#     pickle_path=os.path.join(get_datasets_base_path(), \"oracle.Run2_framed_2000Examples_stratified_ds.2022A.pkl\"),\n",
    "#     source_or_target_dataset=\"source\",\n",
    "#     x_transform_func=global_x_transform_func,\n",
    "#     domain_modifier=lambda u: f\"oracle1_{u}\"\n",
    "# )\n"
   ]
  },
  {
   "cell_type": "code",
   "execution_count": 16,
   "id": "97dea9d2",
   "metadata": {
    "execution": {
     "iopub.execute_input": "2022-03-20T22:32:46.892435Z",
     "iopub.status.busy": "2022-03-20T22:32:46.888185Z",
     "iopub.status.idle": "2022-03-20T22:32:46.901556Z",
     "shell.execute_reply": "2022-03-20T22:32:46.901030Z"
    },
    "papermill": {
     "duration": 0.029311,
     "end_time": "2022-03-20T22:32:46.901655",
     "exception": false,
     "start_time": "2022-03-20T22:32:46.872344",
     "status": "completed"
    },
    "tags": []
   },
   "outputs": [],
   "source": [
    "# from steves_utils.ORACLE.utils_v2 import (\n",
    "#     ALL_DISTANCES_FEET,\n",
    "#     ALL_RUNS,\n",
    "#     ALL_SERIAL_NUMBERS,\n",
    "# )\n",
    "\n",
    "\n",
    "# add_dataset(\n",
    "#     labels=ALL_SERIAL_NUMBERS,\n",
    "#     domains = list(set(ALL_DISTANCES_FEET) - {2,62,56}),\n",
    "#     num_examples_per_domain_per_label=100,\n",
    "#     pickle_path=os.path.join(get_datasets_base_path(), \"oracle.Run2_framed_2000Examples_stratified_ds.2022A.pkl\"),\n",
    "#     source_or_target_dataset=\"source\",\n",
    "#     x_transform_func=global_x_transform_func,\n",
    "#     domain_modifier=lambda u: f\"oracle2_{u}\"\n",
    "# )"
   ]
  },
  {
   "cell_type": "code",
   "execution_count": 17,
   "id": "6f289866",
   "metadata": {
    "execution": {
     "iopub.execute_input": "2022-03-20T22:32:46.935784Z",
     "iopub.status.busy": "2022-03-20T22:32:46.935528Z",
     "iopub.status.idle": "2022-03-20T22:32:46.947191Z",
     "shell.execute_reply": "2022-03-20T22:32:46.946718Z"
    },
    "papermill": {
     "duration": 0.026878,
     "end_time": "2022-03-20T22:32:46.947303",
     "exception": false,
     "start_time": "2022-03-20T22:32:46.920425",
     "status": "completed"
    },
    "tags": []
   },
   "outputs": [],
   "source": [
    "# add_dataset(\n",
    "#     labels=list(range(19)),\n",
    "#     domains = [0,1,2],\n",
    "#     num_examples_per_domain_per_label=100,\n",
    "#     pickle_path=os.path.join(get_datasets_base_path(), \"metehan.stratified_ds.2022A.pkl\"),\n",
    "#     source_or_target_dataset=\"target\",\n",
    "#     x_transform_func=global_x_transform_func,\n",
    "#     domain_modifier=lambda u: f\"met_{u}\"\n",
    "# )"
   ]
  },
  {
   "cell_type": "code",
   "execution_count": 18,
   "id": "86a863c3",
   "metadata": {
    "execution": {
     "iopub.execute_input": "2022-03-20T22:32:46.980088Z",
     "iopub.status.busy": "2022-03-20T22:32:46.979401Z",
     "iopub.status.idle": "2022-03-20T22:32:46.994972Z",
     "shell.execute_reply": "2022-03-20T22:32:46.994479Z"
    },
    "papermill": {
     "duration": 0.031729,
     "end_time": "2022-03-20T22:32:46.995073",
     "exception": false,
     "start_time": "2022-03-20T22:32:46.963344",
     "status": "completed"
    },
    "tags": []
   },
   "outputs": [],
   "source": [
    "# # from steves_utils.wisig.utils import (\n",
    "# #     ALL_NODES_MINIMUM_100_EXAMPLES,\n",
    "# #     ALL_NODES_MINIMUM_500_EXAMPLES,\n",
    "# #     ALL_NODES_MINIMUM_1000_EXAMPLES,\n",
    "# #     ALL_DAYS\n",
    "# # )\n",
    "\n",
    "# import steves_utils.wisig.utils as wisig\n",
    "\n",
    "\n",
    "# add_dataset(\n",
    "#     labels=wisig.ALL_NODES_MINIMUM_100_EXAMPLES,\n",
    "#     domains = wisig.ALL_DAYS,\n",
    "#     num_examples_per_domain_per_label=100,\n",
    "#     pickle_path=os.path.join(get_datasets_base_path(), \"wisig.node3-19.stratified_ds.2022A.pkl\"),\n",
    "#     source_or_target_dataset=\"target\",\n",
    "#     x_transform_func=global_x_transform_func,\n",
    "#     domain_modifier=lambda u: f\"wisig_{u}\"\n",
    "# )"
   ]
  },
  {
   "cell_type": "code",
   "execution_count": 19,
   "id": "fd5442bc",
   "metadata": {
    "execution": {
     "iopub.execute_input": "2022-03-20T22:32:47.034737Z",
     "iopub.status.busy": "2022-03-20T22:32:47.032610Z",
     "iopub.status.idle": "2022-03-20T22:32:47.048669Z",
     "shell.execute_reply": "2022-03-20T22:32:47.048252Z"
    },
    "papermill": {
     "duration": 0.035195,
     "end_time": "2022-03-20T22:32:47.048769",
     "exception": false,
     "start_time": "2022-03-20T22:32:47.013574",
     "status": "completed"
    },
    "tags": []
   },
   "outputs": [],
   "source": [
    "###################################\n",
    "# Build the dataset\n",
    "###################################\n",
    "train_original_source = Iterable_Aggregator(train_original_source, p.seed)\n",
    "val_original_source = Iterable_Aggregator(val_original_source, p.seed)\n",
    "test_original_source = Iterable_Aggregator(test_original_source, p.seed)\n",
    "\n",
    "\n",
    "train_original_target = Iterable_Aggregator(train_original_target, p.seed)\n",
    "val_original_target = Iterable_Aggregator(val_original_target, p.seed)\n",
    "test_original_target = Iterable_Aggregator(test_original_target, p.seed)\n",
    "\n",
    "# For CNN We only use X and Y. And we only train on the source.\n",
    "# Properly form the data using a transform lambda and Lazy_Iterable_Wrapper. Finally wrap them in a dataloader\n",
    "\n",
    "transform_lambda = lambda ex: ex[1] # Original is (<domain>, <episode>) so we strip down to episode only\n",
    "\n",
    "train_processed_source = Lazy_Iterable_Wrapper(train_original_source, transform_lambda)\n",
    "val_processed_source   = Lazy_Iterable_Wrapper(val_original_source, transform_lambda)\n",
    "test_processed_source  = Lazy_Iterable_Wrapper(test_original_source, transform_lambda)\n",
    "\n",
    "train_processed_target = Lazy_Iterable_Wrapper(train_original_target, transform_lambda)\n",
    "val_processed_target   = Lazy_Iterable_Wrapper(val_original_target, transform_lambda)\n",
    "test_processed_target  = Lazy_Iterable_Wrapper(test_original_target, transform_lambda)\n",
    "\n",
    "datasets = EasyDict({\n",
    "    \"source\": {\n",
    "        \"original\": {\"train\":train_original_source, \"val\":val_original_source, \"test\":test_original_source},\n",
    "        \"processed\": {\"train\":train_processed_source, \"val\":val_processed_source, \"test\":test_processed_source}\n",
    "    },\n",
    "    \"target\": {\n",
    "        \"original\": {\"train\":train_original_target, \"val\":val_original_target, \"test\":test_original_target},\n",
    "        \"processed\": {\"train\":train_processed_target, \"val\":val_processed_target, \"test\":test_processed_target}\n",
    "    },\n",
    "})"
   ]
  },
  {
   "cell_type": "code",
   "execution_count": 20,
   "id": "5b3c01fc",
   "metadata": {
    "execution": {
     "iopub.execute_input": "2022-03-20T22:32:47.083486Z",
     "iopub.status.busy": "2022-03-20T22:32:47.083205Z",
     "iopub.status.idle": "2022-03-20T22:32:55.815279Z",
     "shell.execute_reply": "2022-03-20T22:32:55.815732Z"
    },
    "papermill": {
     "duration": 8.749378,
     "end_time": "2022-03-20T22:32:55.815841",
     "exception": false,
     "start_time": "2022-03-20T22:32:47.066463",
     "status": "completed"
    },
    "tags": []
   },
   "outputs": [
    {
     "name": "stdout",
     "output_type": "stream",
     "text": [
      "{'O_50', 'O_32', 'O_38', 'O_26', 'O_14', 'O_44', 'O_8', 'O_20'}\n"
     ]
    },
    {
     "name": "stdout",
     "output_type": "stream",
     "text": [
      "{'W_4', 'W_2', 'C_1', 'C_5', 'C_2', 'C_3', 'C_4', 'W_1', 'W_3'}\n"
     ]
    },
    {
     "name": "stdout",
     "output_type": "stream",
     "text": [
      "tensor([[[ 0.6470,  0.5780, -0.6104,  ...,  0.1196, -1.0641,  0.0498],\n",
      "         [ 0.1549,  1.2563,  0.3941,  ...,  0.8166,  0.6102,  0.8082]],\n",
      "\n",
      "        [[-0.6667,  0.2748,  0.8156,  ...,  0.4889,  1.1788,  0.6502],\n",
      "         [-0.5000, -1.2580,  0.2088,  ..., -0.5176,  0.3522, -0.6378]],\n",
      "\n",
      "        [[-0.0371,  1.1261,  0.4751,  ...,  0.7801,  0.4409,  0.7636],\n",
      "         [-0.5844, -0.4009,  0.6742,  ...,  0.0045,  1.1223,  0.0137]],\n",
      "\n",
      "        ...,\n",
      "\n",
      "        [[ 0.7062,  0.4473, -0.7024,  ..., -0.0110, -1.2104, -0.1140],\n",
      "         [ 0.1657,  1.1509,  0.2787,  ...,  0.8103,  0.5784,  0.9839]],\n",
      "\n",
      "        [[ 0.9780,  0.7687, -1.0005,  ..., -0.1678, -0.3604,  1.0122],\n",
      "         [ 0.0998,  0.8762,  0.2805,  ...,  0.9712,  0.7959,  0.6791]],\n",
      "\n",
      "        [[ 0.8678,  0.9529, -0.6981,  ...,  0.5441,  0.5057,  1.1785],\n",
      "         [-0.6983,  0.1518,  1.1143,  ...,  1.0081,  0.5522, -0.4006]]])\n"
     ]
    }
   ],
   "source": [
    "from steves_utils.transforms import get_average_magnitude, get_average_power\n",
    "\n",
    "print(set([u for u,_ in val_original_source]))\n",
    "print(set([u for u,_ in val_original_target]))\n",
    "\n",
    "s_x, s_y, q_x, q_y, _ = next(iter(train_processed_source))\n",
    "print(s_x)\n",
    "\n",
    "# for ds in [\n",
    "#     train_processed_source,\n",
    "#     val_processed_source,\n",
    "#     test_processed_source,\n",
    "#     train_processed_target,\n",
    "#     val_processed_target,\n",
    "#     test_processed_target\n",
    "# ]:\n",
    "#     for s_x, s_y, q_x, q_y, _ in ds:\n",
    "#         for X in (s_x, q_x):\n",
    "#             for x in X:\n",
    "#                 assert np.isclose(get_average_magnitude(x.numpy()), 1.0)\n",
    "#                 assert np.isclose(get_average_power(x.numpy()), 1.0)\n",
    "                "
   ]
  },
  {
   "cell_type": "code",
   "execution_count": 21,
   "id": "bbdacba1",
   "metadata": {
    "execution": {
     "iopub.execute_input": "2022-03-20T22:32:55.853182Z",
     "iopub.status.busy": "2022-03-20T22:32:55.852914Z",
     "iopub.status.idle": "2022-03-20T22:32:55.901980Z",
     "shell.execute_reply": "2022-03-20T22:32:55.901594Z"
    },
    "papermill": {
     "duration": 0.067278,
     "end_time": "2022-03-20T22:32:55.902076",
     "exception": false,
     "start_time": "2022-03-20T22:32:55.834798",
     "status": "completed"
    },
    "tags": []
   },
   "outputs": [
    {
     "name": "stdout",
     "output_type": "stream",
     "text": [
      "(2, 200)\n"
     ]
    }
   ],
   "source": [
    "###################################\n",
    "# Build the model\n",
    "###################################\n",
    "# easfsl only wants a tuple for the shape\n",
    "model = Steves_Prototypical_Network(x_net, device=p.device, x_shape=tuple(p.x_shape))\n",
    "optimizer = Adam(params=model.parameters(), lr=p.lr)"
   ]
  },
  {
   "cell_type": "code",
   "execution_count": 22,
   "id": "22b39ac5",
   "metadata": {
    "execution": {
     "iopub.execute_input": "2022-03-20T22:32:55.939467Z",
     "iopub.status.busy": "2022-03-20T22:32:55.939155Z",
     "iopub.status.idle": "2022-03-20T23:20:27.163848Z",
     "shell.execute_reply": "2022-03-20T23:20:27.163612Z"
    },
    "papermill": {
     "duration": 2851.242615,
     "end_time": "2022-03-20T23:20:27.163907",
     "exception": false,
     "start_time": "2022-03-20T22:32:55.921292",
     "status": "completed"
    },
    "tags": []
   },
   "outputs": [
    {
     "name": "stdout",
     "output_type": "stream",
     "text": [
      "epoch: 1, [batch: 1 / 6720], examples_per_second: 49.0186, train_label_loss: 3.0158, \n"
     ]
    },
    {
     "name": "stdout",
     "output_type": "stream",
     "text": [
      "epoch: 1, [batch: 672 / 6720], examples_per_second: 3665.8121, train_label_loss: 1.1221, \n"
     ]
    },
    {
     "name": "stdout",
     "output_type": "stream",
     "text": [
      "epoch: 1, [batch: 1344 / 6720], examples_per_second: 3732.2502, train_label_loss: 1.0572, \n"
     ]
    },
    {
     "name": "stdout",
     "output_type": "stream",
     "text": [
      "epoch: 1, [batch: 2016 / 6720], examples_per_second: 3732.1741, train_label_loss: 1.0512, \n"
     ]
    },
    {
     "name": "stdout",
     "output_type": "stream",
     "text": [
      "epoch: 1, [batch: 2688 / 6720], examples_per_second: 3686.8414, train_label_loss: 0.8011, \n"
     ]
    },
    {
     "name": "stdout",
     "output_type": "stream",
     "text": [
      "epoch: 1, [batch: 3360 / 6720], examples_per_second: 3708.1998, train_label_loss: 1.0275, \n"
     ]
    },
    {
     "name": "stdout",
     "output_type": "stream",
     "text": [
      "epoch: 1, [batch: 4032 / 6720], examples_per_second: 3701.4860, train_label_loss: 0.9010, \n"
     ]
    },
    {
     "name": "stdout",
     "output_type": "stream",
     "text": [
      "epoch: 1, [batch: 4704 / 6720], examples_per_second: 3701.1762, train_label_loss: 0.8206, \n"
     ]
    },
    {
     "name": "stdout",
     "output_type": "stream",
     "text": [
      "epoch: 1, [batch: 5376 / 6720], examples_per_second: 3706.8024, train_label_loss: 1.4223, \n"
     ]
    },
    {
     "name": "stdout",
     "output_type": "stream",
     "text": [
      "epoch: 1, [batch: 6048 / 6720], examples_per_second: 3701.2003, train_label_loss: 0.6345, \n"
     ]
    },
    {
     "name": "stdout",
     "output_type": "stream",
     "text": [
      "=============================================================\n",
      "epoch: 1, source_val_acc_label: 0.6882, target_val_acc_label: 0.4350, source_val_label_loss: 6.7596, target_val_label_loss: 1725.9602, \n",
      "=============================================================\n"
     ]
    },
    {
     "name": "stdout",
     "output_type": "stream",
     "text": [
      "New best\n"
     ]
    },
    {
     "name": "stdout",
     "output_type": "stream",
     "text": [
      "epoch: 2, [batch: 1 / 6720], examples_per_second: 4.3840, train_label_loss: 1.1532, \n"
     ]
    },
    {
     "name": "stdout",
     "output_type": "stream",
     "text": [
      "epoch: 2, [batch: 672 / 6720], examples_per_second: 3676.8934, train_label_loss: 1.0564, \n"
     ]
    },
    {
     "name": "stdout",
     "output_type": "stream",
     "text": [
      "epoch: 2, [batch: 1344 / 6720], examples_per_second: 3706.4448, train_label_loss: 0.7986, \n"
     ]
    },
    {
     "name": "stdout",
     "output_type": "stream",
     "text": [
      "epoch: 2, [batch: 2016 / 6720], examples_per_second: 3710.4876, train_label_loss: 0.7179, \n"
     ]
    },
    {
     "name": "stdout",
     "output_type": "stream",
     "text": [
      "epoch: 2, [batch: 2688 / 6720], examples_per_second: 3705.6105, train_label_loss: 0.8316, \n"
     ]
    },
    {
     "name": "stdout",
     "output_type": "stream",
     "text": [
      "epoch: 2, [batch: 3360 / 6720], examples_per_second: 3709.8936, train_label_loss: 0.6971, \n"
     ]
    },
    {
     "name": "stdout",
     "output_type": "stream",
     "text": [
      "epoch: 2, [batch: 4032 / 6720], examples_per_second: 3717.4975, train_label_loss: 0.4916, \n"
     ]
    },
    {
     "name": "stdout",
     "output_type": "stream",
     "text": [
      "epoch: 2, [batch: 4704 / 6720], examples_per_second: 3698.1251, train_label_loss: 0.8296, \n"
     ]
    },
    {
     "name": "stdout",
     "output_type": "stream",
     "text": [
      "epoch: 2, [batch: 5376 / 6720], examples_per_second: 3713.6078, train_label_loss: 1.1295, \n"
     ]
    },
    {
     "name": "stdout",
     "output_type": "stream",
     "text": [
      "epoch: 2, [batch: 6048 / 6720], examples_per_second: 3698.7090, train_label_loss: 0.4352, \n"
     ]
    },
    {
     "name": "stdout",
     "output_type": "stream",
     "text": [
      "=============================================================\n",
      "epoch: 2, source_val_acc_label: 0.7475, target_val_acc_label: 0.5574, source_val_label_loss: 0.7139, target_val_label_loss: 293.3095, \n",
      "=============================================================\n"
     ]
    },
    {
     "name": "stdout",
     "output_type": "stream",
     "text": [
      "New best\n"
     ]
    },
    {
     "name": "stdout",
     "output_type": "stream",
     "text": [
      "epoch: 3, [batch: 1 / 6720], examples_per_second: 4.3587, train_label_loss: 0.4684, \n"
     ]
    },
    {
     "name": "stdout",
     "output_type": "stream",
     "text": [
      "epoch: 3, [batch: 672 / 6720], examples_per_second: 3628.2923, train_label_loss: 0.7754, \n"
     ]
    },
    {
     "name": "stdout",
     "output_type": "stream",
     "text": [
      "epoch: 3, [batch: 1344 / 6720], examples_per_second: 3673.1586, train_label_loss: 1.0341, \n"
     ]
    },
    {
     "name": "stdout",
     "output_type": "stream",
     "text": [
      "epoch: 3, [batch: 2016 / 6720], examples_per_second: 3677.5952, train_label_loss: 0.4971, \n"
     ]
    },
    {
     "name": "stdout",
     "output_type": "stream",
     "text": [
      "epoch: 3, [batch: 2688 / 6720], examples_per_second: 3651.4995, train_label_loss: 0.6791, \n"
     ]
    },
    {
     "name": "stdout",
     "output_type": "stream",
     "text": [
      "epoch: 3, [batch: 3360 / 6720], examples_per_second: 3671.3541, train_label_loss: 0.7230, \n"
     ]
    },
    {
     "name": "stdout",
     "output_type": "stream",
     "text": [
      "epoch: 3, [batch: 4032 / 6720], examples_per_second: 3681.1544, train_label_loss: 0.3593, \n"
     ]
    },
    {
     "name": "stdout",
     "output_type": "stream",
     "text": [
      "epoch: 3, [batch: 4704 / 6720], examples_per_second: 3682.9163, train_label_loss: 0.5078, \n"
     ]
    },
    {
     "name": "stdout",
     "output_type": "stream",
     "text": [
      "epoch: 3, [batch: 5376 / 6720], examples_per_second: 3697.3223, train_label_loss: 0.5166, \n"
     ]
    },
    {
     "name": "stdout",
     "output_type": "stream",
     "text": [
      "epoch: 3, [batch: 6048 / 6720], examples_per_second: 3692.9306, train_label_loss: 0.4072, \n"
     ]
    },
    {
     "name": "stdout",
     "output_type": "stream",
     "text": [
      "=============================================================\n",
      "epoch: 3, source_val_acc_label: 0.7936, target_val_acc_label: 0.5831, source_val_label_loss: 0.5752, target_val_label_loss: 307.6596, \n",
      "=============================================================\n"
     ]
    },
    {
     "name": "stdout",
     "output_type": "stream",
     "text": [
      "New best\n"
     ]
    },
    {
     "name": "stdout",
     "output_type": "stream",
     "text": [
      "epoch: 4, [batch: 1 / 6720], examples_per_second: 4.3564, train_label_loss: 0.5806, \n"
     ]
    },
    {
     "name": "stdout",
     "output_type": "stream",
     "text": [
      "epoch: 4, [batch: 672 / 6720], examples_per_second: 3649.6157, train_label_loss: 0.6314, \n"
     ]
    },
    {
     "name": "stdout",
     "output_type": "stream",
     "text": [
      "epoch: 4, [batch: 1344 / 6720], examples_per_second: 3688.9204, train_label_loss: 0.2561, \n"
     ]
    },
    {
     "name": "stdout",
     "output_type": "stream",
     "text": [
      "epoch: 4, [batch: 2016 / 6720], examples_per_second: 3691.4804, train_label_loss: 0.3708, \n"
     ]
    },
    {
     "name": "stdout",
     "output_type": "stream",
     "text": [
      "epoch: 4, [batch: 2688 / 6720], examples_per_second: 3683.4547, train_label_loss: 0.7636, \n"
     ]
    },
    {
     "name": "stdout",
     "output_type": "stream",
     "text": [
      "epoch: 4, [batch: 3360 / 6720], examples_per_second: 3678.1636, train_label_loss: 0.9244, \n"
     ]
    },
    {
     "name": "stdout",
     "output_type": "stream",
     "text": [
      "epoch: 4, [batch: 4032 / 6720], examples_per_second: 3659.1082, train_label_loss: 0.4721, \n"
     ]
    },
    {
     "name": "stdout",
     "output_type": "stream",
     "text": [
      "epoch: 4, [batch: 4704 / 6720], examples_per_second: 3643.6728, train_label_loss: 0.4713, \n"
     ]
    },
    {
     "name": "stdout",
     "output_type": "stream",
     "text": [
      "epoch: 4, [batch: 5376 / 6720], examples_per_second: 3617.5966, train_label_loss: 0.5278, \n"
     ]
    },
    {
     "name": "stdout",
     "output_type": "stream",
     "text": [
      "epoch: 4, [batch: 6048 / 6720], examples_per_second: 3634.3598, train_label_loss: 0.4464, \n"
     ]
    },
    {
     "name": "stdout",
     "output_type": "stream",
     "text": [
      "=============================================================\n",
      "epoch: 4, source_val_acc_label: 0.7937, target_val_acc_label: 0.5884, source_val_label_loss: 0.5623, target_val_label_loss: 315.2371, \n",
      "=============================================================\n"
     ]
    },
    {
     "name": "stdout",
     "output_type": "stream",
     "text": [
      "New best\n"
     ]
    },
    {
     "name": "stdout",
     "output_type": "stream",
     "text": [
      "epoch: 5, [batch: 1 / 6720], examples_per_second: 4.3564, train_label_loss: 0.3705, \n"
     ]
    },
    {
     "name": "stdout",
     "output_type": "stream",
     "text": [
      "epoch: 5, [batch: 672 / 6720], examples_per_second: 3662.8564, train_label_loss: 0.9168, \n"
     ]
    },
    {
     "name": "stdout",
     "output_type": "stream",
     "text": [
      "epoch: 5, [batch: 1344 / 6720], examples_per_second: 3693.2687, train_label_loss: 0.4706, \n"
     ]
    },
    {
     "name": "stdout",
     "output_type": "stream",
     "text": [
      "epoch: 5, [batch: 2016 / 6720], examples_per_second: 3685.4219, train_label_loss: 0.3389, \n"
     ]
    },
    {
     "name": "stdout",
     "output_type": "stream",
     "text": [
      "epoch: 5, [batch: 2688 / 6720], examples_per_second: 3672.8620, train_label_loss: 0.9733, \n"
     ]
    },
    {
     "name": "stdout",
     "output_type": "stream",
     "text": [
      "epoch: 5, [batch: 3360 / 6720], examples_per_second: 3670.0883, train_label_loss: 0.3249, \n"
     ]
    },
    {
     "name": "stdout",
     "output_type": "stream",
     "text": [
      "epoch: 5, [batch: 4032 / 6720], examples_per_second: 3711.4003, train_label_loss: 0.4205, \n"
     ]
    },
    {
     "name": "stdout",
     "output_type": "stream",
     "text": [
      "epoch: 5, [batch: 4704 / 6720], examples_per_second: 3703.5477, train_label_loss: 0.4511, \n"
     ]
    },
    {
     "name": "stdout",
     "output_type": "stream",
     "text": [
      "epoch: 5, [batch: 5376 / 6720], examples_per_second: 3705.8492, train_label_loss: 0.4714, \n"
     ]
    },
    {
     "name": "stdout",
     "output_type": "stream",
     "text": [
      "epoch: 5, [batch: 6048 / 6720], examples_per_second: 3688.8390, train_label_loss: 0.2638, \n"
     ]
    },
    {
     "name": "stdout",
     "output_type": "stream",
     "text": [
      "=============================================================\n",
      "epoch: 5, source_val_acc_label: 0.8276, target_val_acc_label: 0.6092, source_val_label_loss: 0.4916, target_val_label_loss: 349.7066, \n",
      "=============================================================\n"
     ]
    },
    {
     "name": "stdout",
     "output_type": "stream",
     "text": [
      "New best\n"
     ]
    },
    {
     "name": "stdout",
     "output_type": "stream",
     "text": [
      "epoch: 6, [batch: 1 / 6720], examples_per_second: 4.4200, train_label_loss: 0.1268, \n"
     ]
    },
    {
     "name": "stdout",
     "output_type": "stream",
     "text": [
      "epoch: 6, [batch: 672 / 6720], examples_per_second: 3650.3502, train_label_loss: 0.3361, \n"
     ]
    },
    {
     "name": "stdout",
     "output_type": "stream",
     "text": [
      "epoch: 6, [batch: 1344 / 6720], examples_per_second: 3671.4707, train_label_loss: 0.7728, \n"
     ]
    },
    {
     "name": "stdout",
     "output_type": "stream",
     "text": [
      "epoch: 6, [batch: 2016 / 6720], examples_per_second: 3698.6764, train_label_loss: 0.7563, \n"
     ]
    },
    {
     "name": "stdout",
     "output_type": "stream",
     "text": [
      "epoch: 6, [batch: 2688 / 6720], examples_per_second: 3703.9176, train_label_loss: 0.2513, \n"
     ]
    },
    {
     "name": "stdout",
     "output_type": "stream",
     "text": [
      "epoch: 6, [batch: 3360 / 6720], examples_per_second: 3713.7304, train_label_loss: 0.1809, \n"
     ]
    },
    {
     "name": "stdout",
     "output_type": "stream",
     "text": [
      "epoch: 6, [batch: 4032 / 6720], examples_per_second: 3708.5924, train_label_loss: 0.6150, \n"
     ]
    },
    {
     "name": "stdout",
     "output_type": "stream",
     "text": [
      "epoch: 6, [batch: 4704 / 6720], examples_per_second: 3709.1493, train_label_loss: 0.6906, \n"
     ]
    },
    {
     "name": "stdout",
     "output_type": "stream",
     "text": [
      "epoch: 6, [batch: 5376 / 6720], examples_per_second: 3713.9142, train_label_loss: 0.9570, \n"
     ]
    },
    {
     "name": "stdout",
     "output_type": "stream",
     "text": [
      "epoch: 6, [batch: 6048 / 6720], examples_per_second: 3704.8942, train_label_loss: 0.6936, \n"
     ]
    },
    {
     "name": "stdout",
     "output_type": "stream",
     "text": [
      "=============================================================\n",
      "epoch: 6, source_val_acc_label: 0.8330, target_val_acc_label: 0.6109, source_val_label_loss: 0.4642, target_val_label_loss: 338.9778, \n",
      "=============================================================\n"
     ]
    },
    {
     "name": "stdout",
     "output_type": "stream",
     "text": [
      "New best\n"
     ]
    },
    {
     "name": "stdout",
     "output_type": "stream",
     "text": [
      "epoch: 7, [batch: 1 / 6720], examples_per_second: 4.3595, train_label_loss: 0.3533, \n"
     ]
    },
    {
     "name": "stdout",
     "output_type": "stream",
     "text": [
      "epoch: 7, [batch: 672 / 6720], examples_per_second: 3677.2142, train_label_loss: 0.7756, \n"
     ]
    },
    {
     "name": "stdout",
     "output_type": "stream",
     "text": [
      "epoch: 7, [batch: 1344 / 6720], examples_per_second: 3718.7473, train_label_loss: 0.1875, \n"
     ]
    },
    {
     "name": "stdout",
     "output_type": "stream",
     "text": [
      "epoch: 7, [batch: 2016 / 6720], examples_per_second: 3695.7364, train_label_loss: 0.3622, \n"
     ]
    },
    {
     "name": "stdout",
     "output_type": "stream",
     "text": [
      "epoch: 7, [batch: 2688 / 6720], examples_per_second: 3670.2742, train_label_loss: 0.2623, \n"
     ]
    },
    {
     "name": "stdout",
     "output_type": "stream",
     "text": [
      "epoch: 7, [batch: 3360 / 6720], examples_per_second: 3690.9063, train_label_loss: 0.2757, \n"
     ]
    },
    {
     "name": "stdout",
     "output_type": "stream",
     "text": [
      "epoch: 7, [batch: 4032 / 6720], examples_per_second: 3723.7896, train_label_loss: 0.2666, \n"
     ]
    },
    {
     "name": "stdout",
     "output_type": "stream",
     "text": [
      "epoch: 7, [batch: 4704 / 6720], examples_per_second: 3695.6180, train_label_loss: 0.8225, \n"
     ]
    },
    {
     "name": "stdout",
     "output_type": "stream",
     "text": [
      "epoch: 7, [batch: 5376 / 6720], examples_per_second: 3712.8673, train_label_loss: 0.4294, \n"
     ]
    },
    {
     "name": "stdout",
     "output_type": "stream",
     "text": [
      "epoch: 7, [batch: 6048 / 6720], examples_per_second: 3718.9926, train_label_loss: 0.5094, \n"
     ]
    },
    {
     "name": "stdout",
     "output_type": "stream",
     "text": [
      "=============================================================\n",
      "epoch: 7, source_val_acc_label: 0.8304, target_val_acc_label: 0.6119, source_val_label_loss: 0.4706, target_val_label_loss: 366.5678, \n",
      "=============================================================\n"
     ]
    },
    {
     "name": "stdout",
     "output_type": "stream",
     "text": [
      "New best\n"
     ]
    },
    {
     "name": "stdout",
     "output_type": "stream",
     "text": [
      "epoch: 8, [batch: 1 / 6720], examples_per_second: 4.3764, train_label_loss: 0.2705, \n"
     ]
    },
    {
     "name": "stdout",
     "output_type": "stream",
     "text": [
      "epoch: 8, [batch: 672 / 6720], examples_per_second: 3676.5725, train_label_loss: 0.3063, \n"
     ]
    },
    {
     "name": "stdout",
     "output_type": "stream",
     "text": [
      "epoch: 8, [batch: 1344 / 6720], examples_per_second: 3706.9192, train_label_loss: 0.1993, \n"
     ]
    },
    {
     "name": "stdout",
     "output_type": "stream",
     "text": [
      "epoch: 8, [batch: 2016 / 6720], examples_per_second: 3713.2047, train_label_loss: 0.3497, \n"
     ]
    },
    {
     "name": "stdout",
     "output_type": "stream",
     "text": [
      "epoch: 8, [batch: 2688 / 6720], examples_per_second: 3684.5127, train_label_loss: 0.2001, \n"
     ]
    },
    {
     "name": "stdout",
     "output_type": "stream",
     "text": [
      "epoch: 8, [batch: 3360 / 6720], examples_per_second: 3686.5764, train_label_loss: 0.3331, \n"
     ]
    },
    {
     "name": "stdout",
     "output_type": "stream",
     "text": [
      "epoch: 8, [batch: 4032 / 6720], examples_per_second: 3681.5588, train_label_loss: 0.1638, \n"
     ]
    },
    {
     "name": "stdout",
     "output_type": "stream",
     "text": [
      "epoch: 8, [batch: 4704 / 6720], examples_per_second: 3641.8969, train_label_loss: 0.4642, \n"
     ]
    },
    {
     "name": "stdout",
     "output_type": "stream",
     "text": [
      "epoch: 8, [batch: 5376 / 6720], examples_per_second: 3699.0000, train_label_loss: 0.1300, \n"
     ]
    },
    {
     "name": "stdout",
     "output_type": "stream",
     "text": [
      "epoch: 8, [batch: 6048 / 6720], examples_per_second: 3747.0375, train_label_loss: 0.2912, \n"
     ]
    },
    {
     "name": "stdout",
     "output_type": "stream",
     "text": [
      "=============================================================\n",
      "epoch: 8, source_val_acc_label: 0.8573, target_val_acc_label: 0.6097, source_val_label_loss: 0.4061, target_val_label_loss: 407.7446, \n",
      "=============================================================\n"
     ]
    },
    {
     "name": "stdout",
     "output_type": "stream",
     "text": [
      "epoch: 9, [batch: 1 / 6720], examples_per_second: 4.3478, train_label_loss: 0.6995, \n"
     ]
    },
    {
     "name": "stdout",
     "output_type": "stream",
     "text": [
      "epoch: 9, [batch: 672 / 6720], examples_per_second: 3659.3524, train_label_loss: 0.5600, \n"
     ]
    },
    {
     "name": "stdout",
     "output_type": "stream",
     "text": [
      "epoch: 9, [batch: 1344 / 6720], examples_per_second: 3716.1773, train_label_loss: 0.3913, \n"
     ]
    },
    {
     "name": "stdout",
     "output_type": "stream",
     "text": [
      "epoch: 9, [batch: 2016 / 6720], examples_per_second: 3715.7119, train_label_loss: 0.5492, \n"
     ]
    },
    {
     "name": "stdout",
     "output_type": "stream",
     "text": [
      "epoch: 9, [batch: 2688 / 6720], examples_per_second: 3693.0758, train_label_loss: 0.2539, \n"
     ]
    },
    {
     "name": "stdout",
     "output_type": "stream",
     "text": [
      "epoch: 9, [batch: 3360 / 6720], examples_per_second: 3714.7058, train_label_loss: 0.6807, \n"
     ]
    },
    {
     "name": "stdout",
     "output_type": "stream",
     "text": [
      "epoch: 9, [batch: 4032 / 6720], examples_per_second: 3714.5601, train_label_loss: 0.3886, \n"
     ]
    },
    {
     "name": "stdout",
     "output_type": "stream",
     "text": [
      "epoch: 9, [batch: 4704 / 6720], examples_per_second: 3700.5668, train_label_loss: 0.2813, \n"
     ]
    },
    {
     "name": "stdout",
     "output_type": "stream",
     "text": [
      "epoch: 9, [batch: 5376 / 6720], examples_per_second: 3710.9623, train_label_loss: 0.0619, \n"
     ]
    },
    {
     "name": "stdout",
     "output_type": "stream",
     "text": [
      "epoch: 9, [batch: 6048 / 6720], examples_per_second: 3703.8212, train_label_loss: 0.4726, \n"
     ]
    },
    {
     "name": "stdout",
     "output_type": "stream",
     "text": [
      "=============================================================\n",
      "epoch: 9, source_val_acc_label: 0.8763, target_val_acc_label: 0.6173, source_val_label_loss: 0.3395, target_val_label_loss: 461.8210, \n",
      "=============================================================\n"
     ]
    },
    {
     "name": "stdout",
     "output_type": "stream",
     "text": [
      "New best\n"
     ]
    },
    {
     "name": "stdout",
     "output_type": "stream",
     "text": [
      "epoch: 10, [batch: 1 / 6720], examples_per_second: 4.3266, train_label_loss: 0.0617, \n"
     ]
    },
    {
     "name": "stdout",
     "output_type": "stream",
     "text": [
      "epoch: 10, [batch: 672 / 6720], examples_per_second: 3664.4801, train_label_loss: 0.3705, \n"
     ]
    },
    {
     "name": "stdout",
     "output_type": "stream",
     "text": [
      "epoch: 10, [batch: 1344 / 6720], examples_per_second: 3730.1170, train_label_loss: 0.2901, \n"
     ]
    },
    {
     "name": "stdout",
     "output_type": "stream",
     "text": [
      "epoch: 10, [batch: 2016 / 6720], examples_per_second: 3716.0881, train_label_loss: 0.2990, \n"
     ]
    },
    {
     "name": "stdout",
     "output_type": "stream",
     "text": [
      "epoch: 10, [batch: 2688 / 6720], examples_per_second: 3693.8815, train_label_loss: 0.0953, \n"
     ]
    },
    {
     "name": "stdout",
     "output_type": "stream",
     "text": [
      "epoch: 10, [batch: 3360 / 6720], examples_per_second: 3712.1738, train_label_loss: 0.5246, \n"
     ]
    },
    {
     "name": "stdout",
     "output_type": "stream",
     "text": [
      "epoch: 10, [batch: 4032 / 6720], examples_per_second: 3721.7033, train_label_loss: 0.0857, \n"
     ]
    },
    {
     "name": "stdout",
     "output_type": "stream",
     "text": [
      "epoch: 10, [batch: 4704 / 6720], examples_per_second: 3703.4516, train_label_loss: 0.4579, \n"
     ]
    },
    {
     "name": "stdout",
     "output_type": "stream",
     "text": [
      "epoch: 10, [batch: 5376 / 6720], examples_per_second: 3706.5761, train_label_loss: 0.1403, \n"
     ]
    },
    {
     "name": "stdout",
     "output_type": "stream",
     "text": [
      "epoch: 10, [batch: 6048 / 6720], examples_per_second: 3693.1271, train_label_loss: 0.1139, \n"
     ]
    },
    {
     "name": "stdout",
     "output_type": "stream",
     "text": [
      "=============================================================\n",
      "epoch: 10, source_val_acc_label: 0.8727, target_val_acc_label: 0.6180, source_val_label_loss: 0.3534, target_val_label_loss: 466.4078, \n",
      "=============================================================\n"
     ]
    },
    {
     "name": "stdout",
     "output_type": "stream",
     "text": [
      "New best\n"
     ]
    },
    {
     "name": "stdout",
     "output_type": "stream",
     "text": [
      "epoch: 11, [batch: 1 / 6720], examples_per_second: 4.3251, train_label_loss: 0.2249, \n"
     ]
    },
    {
     "name": "stdout",
     "output_type": "stream",
     "text": [
      "epoch: 11, [batch: 672 / 6720], examples_per_second: 3658.2585, train_label_loss: 0.2798, \n"
     ]
    },
    {
     "name": "stdout",
     "output_type": "stream",
     "text": [
      "epoch: 11, [batch: 1344 / 6720], examples_per_second: 3712.7066, train_label_loss: 0.4297, \n"
     ]
    },
    {
     "name": "stdout",
     "output_type": "stream",
     "text": [
      "epoch: 11, [batch: 2016 / 6720], examples_per_second: 3683.8779, train_label_loss: 0.4550, \n"
     ]
    },
    {
     "name": "stdout",
     "output_type": "stream",
     "text": [
      "epoch: 11, [batch: 2688 / 6720], examples_per_second: 3670.6194, train_label_loss: 0.0756, \n"
     ]
    },
    {
     "name": "stdout",
     "output_type": "stream",
     "text": [
      "epoch: 11, [batch: 3360 / 6720], examples_per_second: 3700.5055, train_label_loss: 0.8266, \n"
     ]
    },
    {
     "name": "stdout",
     "output_type": "stream",
     "text": [
      "epoch: 11, [batch: 4032 / 6720], examples_per_second: 3711.8024, train_label_loss: 0.3106, \n"
     ]
    },
    {
     "name": "stdout",
     "output_type": "stream",
     "text": [
      "epoch: 11, [batch: 4704 / 6720], examples_per_second: 3707.7434, train_label_loss: 0.6247, \n"
     ]
    },
    {
     "name": "stdout",
     "output_type": "stream",
     "text": [
      "epoch: 11, [batch: 5376 / 6720], examples_per_second: 3710.1186, train_label_loss: 0.0785, \n"
     ]
    },
    {
     "name": "stdout",
     "output_type": "stream",
     "text": [
      "epoch: 11, [batch: 6048 / 6720], examples_per_second: 3702.2092, train_label_loss: 0.0725, \n"
     ]
    },
    {
     "name": "stdout",
     "output_type": "stream",
     "text": [
      "=============================================================\n",
      "epoch: 11, source_val_acc_label: 0.8759, target_val_acc_label: 0.6154, source_val_label_loss: 0.3380, target_val_label_loss: 516.7914, \n",
      "=============================================================\n"
     ]
    },
    {
     "name": "stdout",
     "output_type": "stream",
     "text": [
      "epoch: 12, [batch: 1 / 6720], examples_per_second: 4.3733, train_label_loss: 0.2892, \n"
     ]
    },
    {
     "name": "stdout",
     "output_type": "stream",
     "text": [
      "epoch: 12, [batch: 672 / 6720], examples_per_second: 3675.0980, train_label_loss: 0.5903, \n"
     ]
    },
    {
     "name": "stdout",
     "output_type": "stream",
     "text": [
      "epoch: 12, [batch: 1344 / 6720], examples_per_second: 3708.8877, train_label_loss: 0.0308, \n"
     ]
    },
    {
     "name": "stdout",
     "output_type": "stream",
     "text": [
      "epoch: 12, [batch: 2016 / 6720], examples_per_second: 3705.5386, train_label_loss: 0.3652, \n"
     ]
    },
    {
     "name": "stdout",
     "output_type": "stream",
     "text": [
      "epoch: 12, [batch: 2688 / 6720], examples_per_second: 3677.8548, train_label_loss: 0.1821, \n"
     ]
    },
    {
     "name": "stdout",
     "output_type": "stream",
     "text": [
      "epoch: 12, [batch: 3360 / 6720], examples_per_second: 3706.1441, train_label_loss: 0.4800, \n"
     ]
    },
    {
     "name": "stdout",
     "output_type": "stream",
     "text": [
      "epoch: 12, [batch: 4032 / 6720], examples_per_second: 3712.8352, train_label_loss: 0.8275, \n"
     ]
    },
    {
     "name": "stdout",
     "output_type": "stream",
     "text": [
      "epoch: 12, [batch: 4704 / 6720], examples_per_second: 3701.6692, train_label_loss: 0.0628, \n"
     ]
    },
    {
     "name": "stdout",
     "output_type": "stream",
     "text": [
      "epoch: 12, [batch: 5376 / 6720], examples_per_second: 3709.2375, train_label_loss: 0.1081, \n"
     ]
    },
    {
     "name": "stdout",
     "output_type": "stream",
     "text": [
      "epoch: 12, [batch: 6048 / 6720], examples_per_second: 3718.0442, train_label_loss: 0.4603, \n"
     ]
    },
    {
     "name": "stdout",
     "output_type": "stream",
     "text": [
      "=============================================================\n",
      "epoch: 12, source_val_acc_label: 0.8783, target_val_acc_label: 0.6185, source_val_label_loss: 0.3401, target_val_label_loss: 530.1132, \n",
      "=============================================================\n"
     ]
    },
    {
     "name": "stdout",
     "output_type": "stream",
     "text": [
      "New best\n"
     ]
    },
    {
     "name": "stdout",
     "output_type": "stream",
     "text": [
      "epoch: 13, [batch: 1 / 6720], examples_per_second: 4.3428, train_label_loss: 0.1366, \n"
     ]
    },
    {
     "name": "stdout",
     "output_type": "stream",
     "text": [
      "epoch: 13, [batch: 672 / 6720], examples_per_second: 3692.6333, train_label_loss: 0.3034, \n"
     ]
    },
    {
     "name": "stdout",
     "output_type": "stream",
     "text": [
      "epoch: 13, [batch: 1344 / 6720], examples_per_second: 3716.4449, train_label_loss: 0.1089, \n"
     ]
    },
    {
     "name": "stdout",
     "output_type": "stream",
     "text": [
      "epoch: 13, [batch: 2016 / 6720], examples_per_second: 3697.4701, train_label_loss: 0.2628, \n"
     ]
    },
    {
     "name": "stdout",
     "output_type": "stream",
     "text": [
      "epoch: 13, [batch: 2688 / 6720], examples_per_second: 3686.8011, train_label_loss: 0.2866, \n"
     ]
    },
    {
     "name": "stdout",
     "output_type": "stream",
     "text": [
      "epoch: 13, [batch: 3360 / 6720], examples_per_second: 3716.6611, train_label_loss: 0.3692, \n"
     ]
    },
    {
     "name": "stdout",
     "output_type": "stream",
     "text": [
      "epoch: 13, [batch: 4032 / 6720], examples_per_second: 3708.6857, train_label_loss: 0.2355, \n"
     ]
    },
    {
     "name": "stdout",
     "output_type": "stream",
     "text": [
      "epoch: 13, [batch: 4704 / 6720], examples_per_second: 3707.1851, train_label_loss: 0.0501, \n"
     ]
    },
    {
     "name": "stdout",
     "output_type": "stream",
     "text": [
      "epoch: 13, [batch: 5376 / 6720], examples_per_second: 3698.9706, train_label_loss: 0.3306, \n"
     ]
    },
    {
     "name": "stdout",
     "output_type": "stream",
     "text": [
      "epoch: 13, [batch: 6048 / 6720], examples_per_second: 3715.5617, train_label_loss: 0.2153, \n"
     ]
    },
    {
     "name": "stdout",
     "output_type": "stream",
     "text": [
      "=============================================================\n",
      "epoch: 13, source_val_acc_label: 0.8904, target_val_acc_label: 0.6220, source_val_label_loss: 0.3126, target_val_label_loss: 588.2139, \n",
      "=============================================================\n"
     ]
    },
    {
     "name": "stdout",
     "output_type": "stream",
     "text": [
      "New best\n"
     ]
    },
    {
     "name": "stdout",
     "output_type": "stream",
     "text": [
      "epoch: 14, [batch: 1 / 6720], examples_per_second: 4.3308, train_label_loss: 0.4022, \n"
     ]
    },
    {
     "name": "stdout",
     "output_type": "stream",
     "text": [
      "epoch: 14, [batch: 672 / 6720], examples_per_second: 3653.6337, train_label_loss: 0.0454, \n"
     ]
    },
    {
     "name": "stdout",
     "output_type": "stream",
     "text": [
      "epoch: 14, [batch: 1344 / 6720], examples_per_second: 3716.1349, train_label_loss: 0.5943, \n"
     ]
    },
    {
     "name": "stdout",
     "output_type": "stream",
     "text": [
      "epoch: 14, [batch: 2016 / 6720], examples_per_second: 3724.3113, train_label_loss: 0.2085, \n"
     ]
    },
    {
     "name": "stdout",
     "output_type": "stream",
     "text": [
      "epoch: 14, [batch: 2688 / 6720], examples_per_second: 3696.4630, train_label_loss: 0.0676, \n"
     ]
    },
    {
     "name": "stdout",
     "output_type": "stream",
     "text": [
      "epoch: 14, [batch: 3360 / 6720], examples_per_second: 3715.5083, train_label_loss: 0.5326, \n"
     ]
    },
    {
     "name": "stdout",
     "output_type": "stream",
     "text": [
      "epoch: 14, [batch: 4032 / 6720], examples_per_second: 3721.8823, train_label_loss: 0.1801, \n"
     ]
    },
    {
     "name": "stdout",
     "output_type": "stream",
     "text": [
      "epoch: 14, [batch: 4704 / 6720], examples_per_second: 3667.9487, train_label_loss: 0.1082, \n"
     ]
    },
    {
     "name": "stdout",
     "output_type": "stream",
     "text": [
      "epoch: 14, [batch: 5376 / 6720], examples_per_second: 3637.8006, train_label_loss: 0.1345, \n"
     ]
    },
    {
     "name": "stdout",
     "output_type": "stream",
     "text": [
      "epoch: 14, [batch: 6048 / 6720], examples_per_second: 3655.6831, train_label_loss: 0.4841, \n"
     ]
    },
    {
     "name": "stdout",
     "output_type": "stream",
     "text": [
      "=============================================================\n",
      "epoch: 14, source_val_acc_label: 0.8875, target_val_acc_label: 0.6028, source_val_label_loss: 0.3125, target_val_label_loss: 610.2534, \n",
      "=============================================================\n"
     ]
    },
    {
     "name": "stdout",
     "output_type": "stream",
     "text": [
      "epoch: 15, [batch: 1 / 6720], examples_per_second: 4.3417, train_label_loss: 0.1812, \n"
     ]
    },
    {
     "name": "stdout",
     "output_type": "stream",
     "text": [
      "epoch: 15, [batch: 672 / 6720], examples_per_second: 3642.0490, train_label_loss: 0.1125, \n"
     ]
    },
    {
     "name": "stdout",
     "output_type": "stream",
     "text": [
      "epoch: 15, [batch: 1344 / 6720], examples_per_second: 3664.7686, train_label_loss: 0.1313, \n"
     ]
    },
    {
     "name": "stdout",
     "output_type": "stream",
     "text": [
      "epoch: 15, [batch: 2016 / 6720], examples_per_second: 3691.4595, train_label_loss: 0.2110, \n"
     ]
    },
    {
     "name": "stdout",
     "output_type": "stream",
     "text": [
      "epoch: 15, [batch: 2688 / 6720], examples_per_second: 3676.6373, train_label_loss: 0.3645, \n"
     ]
    },
    {
     "name": "stdout",
     "output_type": "stream",
     "text": [
      "epoch: 15, [batch: 3360 / 6720], examples_per_second: 3689.3325, train_label_loss: 0.1233, \n"
     ]
    },
    {
     "name": "stdout",
     "output_type": "stream",
     "text": [
      "epoch: 15, [batch: 4032 / 6720], examples_per_second: 3681.9367, train_label_loss: 0.3403, \n"
     ]
    },
    {
     "name": "stdout",
     "output_type": "stream",
     "text": [
      "epoch: 15, [batch: 4704 / 6720], examples_per_second: 3648.2394, train_label_loss: 0.2856, \n"
     ]
    },
    {
     "name": "stdout",
     "output_type": "stream",
     "text": [
      "epoch: 15, [batch: 5376 / 6720], examples_per_second: 3681.2022, train_label_loss: 0.0780, \n"
     ]
    },
    {
     "name": "stdout",
     "output_type": "stream",
     "text": [
      "epoch: 15, [batch: 6048 / 6720], examples_per_second: 3676.9617, train_label_loss: 0.0671, \n"
     ]
    },
    {
     "name": "stdout",
     "output_type": "stream",
     "text": [
      "=============================================================\n",
      "epoch: 15, source_val_acc_label: 0.8876, target_val_acc_label: 0.6021, source_val_label_loss: 0.3251, target_val_label_loss: 648.4722, \n",
      "=============================================================\n"
     ]
    },
    {
     "name": "stdout",
     "output_type": "stream",
     "text": [
      "epoch: 16, [batch: 1 / 6720], examples_per_second: 4.3784, train_label_loss: 0.1378, \n"
     ]
    },
    {
     "name": "stdout",
     "output_type": "stream",
     "text": [
      "epoch: 16, [batch: 672 / 6720], examples_per_second: 3634.4539, train_label_loss: 0.1612, \n"
     ]
    },
    {
     "name": "stdout",
     "output_type": "stream",
     "text": [
      "epoch: 16, [batch: 1344 / 6720], examples_per_second: 3684.3173, train_label_loss: 0.1524, \n"
     ]
    },
    {
     "name": "stdout",
     "output_type": "stream",
     "text": [
      "epoch: 16, [batch: 2016 / 6720], examples_per_second: 3682.2541, train_label_loss: 0.4880, \n"
     ]
    },
    {
     "name": "stdout",
     "output_type": "stream",
     "text": [
      "epoch: 16, [batch: 2688 / 6720], examples_per_second: 3677.3517, train_label_loss: 0.0724, \n"
     ]
    },
    {
     "name": "stdout",
     "output_type": "stream",
     "text": [
      "epoch: 16, [batch: 3360 / 6720], examples_per_second: 3678.7311, train_label_loss: 0.3018, \n"
     ]
    },
    {
     "name": "stdout",
     "output_type": "stream",
     "text": [
      "epoch: 16, [batch: 4032 / 6720], examples_per_second: 3600.3003, train_label_loss: 0.1539, \n"
     ]
    },
    {
     "name": "stdout",
     "output_type": "stream",
     "text": [
      "epoch: 16, [batch: 4704 / 6720], examples_per_second: 3694.6390, train_label_loss: 0.2206, \n"
     ]
    },
    {
     "name": "stdout",
     "output_type": "stream",
     "text": [
      "epoch: 16, [batch: 5376 / 6720], examples_per_second: 3708.9418, train_label_loss: 0.2790, \n"
     ]
    },
    {
     "name": "stdout",
     "output_type": "stream",
     "text": [
      "epoch: 16, [batch: 6048 / 6720], examples_per_second: 3719.3932, train_label_loss: 0.3075, \n"
     ]
    },
    {
     "name": "stdout",
     "output_type": "stream",
     "text": [
      "=============================================================\n",
      "epoch: 16, source_val_acc_label: 0.8838, target_val_acc_label: 0.5981, source_val_label_loss: 0.3320, target_val_label_loss: 712.9875, \n",
      "=============================================================\n"
     ]
    },
    {
     "name": "stdout",
     "output_type": "stream",
     "text": [
      "epoch: 17, [batch: 1 / 6720], examples_per_second: 4.3453, train_label_loss: 0.2106, \n"
     ]
    },
    {
     "name": "stdout",
     "output_type": "stream",
     "text": [
      "epoch: 17, [batch: 672 / 6720], examples_per_second: 3675.2457, train_label_loss: 0.2365, \n"
     ]
    },
    {
     "name": "stdout",
     "output_type": "stream",
     "text": [
      "epoch: 17, [batch: 1344 / 6720], examples_per_second: 3720.2183, train_label_loss: 0.2596, \n"
     ]
    },
    {
     "name": "stdout",
     "output_type": "stream",
     "text": [
      "epoch: 17, [batch: 2016 / 6720], examples_per_second: 3714.2402, train_label_loss: 0.3943, \n"
     ]
    },
    {
     "name": "stdout",
     "output_type": "stream",
     "text": [
      "epoch: 17, [batch: 2688 / 6720], examples_per_second: 3692.7436, train_label_loss: 0.0553, \n"
     ]
    },
    {
     "name": "stdout",
     "output_type": "stream",
     "text": [
      "epoch: 17, [batch: 3360 / 6720], examples_per_second: 3717.3223, train_label_loss: 0.0792, \n"
     ]
    },
    {
     "name": "stdout",
     "output_type": "stream",
     "text": [
      "epoch: 17, [batch: 4032 / 6720], examples_per_second: 3717.4573, train_label_loss: 0.5368, \n"
     ]
    },
    {
     "name": "stdout",
     "output_type": "stream",
     "text": [
      "epoch: 17, [batch: 4704 / 6720], examples_per_second: 3710.9901, train_label_loss: 0.0246, \n"
     ]
    },
    {
     "name": "stdout",
     "output_type": "stream",
     "text": [
      "epoch: 17, [batch: 5376 / 6720], examples_per_second: 3693.6391, train_label_loss: 0.2442, \n"
     ]
    },
    {
     "name": "stdout",
     "output_type": "stream",
     "text": [
      "epoch: 17, [batch: 6048 / 6720], examples_per_second: 3716.3831, train_label_loss: 0.1905, \n"
     ]
    },
    {
     "name": "stdout",
     "output_type": "stream",
     "text": [
      "=============================================================\n",
      "epoch: 17, source_val_acc_label: 0.8853, target_val_acc_label: 0.5962, source_val_label_loss: 0.3257, target_val_label_loss: 790.8940, \n",
      "=============================================================\n"
     ]
    },
    {
     "name": "stdout",
     "output_type": "stream",
     "text": [
      "Patience (3) exhausted\n"
     ]
    }
   ],
   "source": [
    "###################################\n",
    "# train\n",
    "###################################\n",
    "jig = PTN_Train_Eval_Test_Jig(model, p.BEST_MODEL_PATH, p.device)\n",
    "\n",
    "jig.train(\n",
    "    train_iterable=datasets.source.processed.train,\n",
    "    source_val_iterable=datasets.source.processed.val,\n",
    "    target_val_iterable=datasets.target.processed.val,\n",
    "    num_epochs=p.n_epoch,\n",
    "    num_logs_per_epoch=p.NUM_LOGS_PER_EPOCH,\n",
    "    patience=p.patience,\n",
    "    optimizer=optimizer,\n",
    "    criteria_for_best=p.criteria_for_best,\n",
    ")"
   ]
  },
  {
   "cell_type": "code",
   "execution_count": 23,
   "id": "31e8fabf",
   "metadata": {
    "execution": {
     "iopub.execute_input": "2022-03-20T23:20:27.265292Z",
     "iopub.status.busy": "2022-03-20T23:20:27.265034Z",
     "iopub.status.idle": "2022-03-20T23:20:27.286223Z",
     "shell.execute_reply": "2022-03-20T23:20:27.285774Z"
    },
    "papermill": {
     "duration": 0.073578,
     "end_time": "2022-03-20T23:20:27.286314",
     "exception": false,
     "start_time": "2022-03-20T23:20:27.212736",
     "status": "completed"
    },
    "tags": []
   },
   "outputs": [],
   "source": [
    "total_experiment_time_secs = time.time() - start_time_secs"
   ]
  },
  {
   "cell_type": "code",
   "execution_count": 24,
   "id": "87b9595b",
   "metadata": {
    "execution": {
     "iopub.execute_input": "2022-03-20T23:20:27.394663Z",
     "iopub.status.busy": "2022-03-20T23:20:27.394397Z",
     "iopub.status.idle": "2022-03-20T23:22:48.262738Z",
     "shell.execute_reply": "2022-03-20T23:22:48.262293Z"
    },
    "papermill": {
     "duration": 140.923258,
     "end_time": "2022-03-20T23:22:48.262846",
     "exception": false,
     "start_time": "2022-03-20T23:20:27.339588",
     "status": "completed"
    },
    "tags": []
   },
   "outputs": [],
   "source": [
    "###################################\n",
    "# Evaluate the model\n",
    "###################################\n",
    "source_test_label_accuracy, source_test_label_loss = jig.test(datasets.source.processed.test)\n",
    "target_test_label_accuracy, target_test_label_loss = jig.test(datasets.target.processed.test)\n",
    "\n",
    "source_val_label_accuracy, source_val_label_loss = jig.test(datasets.source.processed.val)\n",
    "target_val_label_accuracy, target_val_label_loss = jig.test(datasets.target.processed.val)\n",
    "\n",
    "history = jig.get_history()\n",
    "\n",
    "total_epochs_trained = len(history[\"epoch_indices\"])\n",
    "\n",
    "val_dl = Iterable_Aggregator((datasets.source.original.val,datasets.target.original.val))\n",
    "\n",
    "confusion = ptn_confusion_by_domain_over_dataloader(model, p.device, val_dl)\n",
    "per_domain_accuracy = per_domain_accuracy_from_confusion(confusion)\n",
    "\n",
    "# Add a key to per_domain_accuracy for if it was a source domain\n",
    "for domain, accuracy in per_domain_accuracy.items():\n",
    "    per_domain_accuracy[domain] = {\n",
    "        \"accuracy\": accuracy,\n",
    "        \"source?\": domain in p.domains_source\n",
    "    }\n",
    "\n",
    "# Do an independent accuracy assesment JUST TO BE SURE!\n",
    "# _source_test_label_accuracy = independent_accuracy_assesment(model, datasets.source.processed.test, p.device)\n",
    "# _target_test_label_accuracy = independent_accuracy_assesment(model, datasets.target.processed.test, p.device)\n",
    "# _source_val_label_accuracy = independent_accuracy_assesment(model, datasets.source.processed.val, p.device)\n",
    "# _target_val_label_accuracy = independent_accuracy_assesment(model, datasets.target.processed.val, p.device)\n",
    "\n",
    "# assert(_source_test_label_accuracy == source_test_label_accuracy)\n",
    "# assert(_target_test_label_accuracy == target_test_label_accuracy)\n",
    "# assert(_source_val_label_accuracy == source_val_label_accuracy)\n",
    "# assert(_target_val_label_accuracy == target_val_label_accuracy)\n",
    "\n",
    "experiment = {\n",
    "    \"experiment_name\": p.experiment_name,\n",
    "    \"parameters\": dict(p),\n",
    "    \"results\": {\n",
    "        \"source_test_label_accuracy\": source_test_label_accuracy,\n",
    "        \"source_test_label_loss\": source_test_label_loss,\n",
    "        \"target_test_label_accuracy\": target_test_label_accuracy,\n",
    "        \"target_test_label_loss\": target_test_label_loss,\n",
    "        \"source_val_label_accuracy\": source_val_label_accuracy,\n",
    "        \"source_val_label_loss\": source_val_label_loss,\n",
    "        \"target_val_label_accuracy\": target_val_label_accuracy,\n",
    "        \"target_val_label_loss\": target_val_label_loss,\n",
    "        \"total_epochs_trained\": total_epochs_trained,\n",
    "        \"total_experiment_time_secs\": total_experiment_time_secs,\n",
    "        \"confusion\": confusion,\n",
    "        \"per_domain_accuracy\": per_domain_accuracy,\n",
    "    },\n",
    "    \"history\": history,\n",
    "    \"dataset_metrics\": get_dataset_metrics(datasets, \"ptn\"),\n",
    "}"
   ]
  },
  {
   "cell_type": "code",
   "execution_count": 25,
   "id": "54a21829",
   "metadata": {
    "execution": {
     "iopub.execute_input": "2022-03-20T23:22:48.369279Z",
     "iopub.status.busy": "2022-03-20T23:22:48.368360Z",
     "iopub.status.idle": "2022-03-20T23:22:48.494664Z",
     "shell.execute_reply": "2022-03-20T23:22:48.494248Z"
    },
    "papermill": {
     "duration": 0.177633,
     "end_time": "2022-03-20T23:22:48.494775",
     "exception": false,
     "start_time": "2022-03-20T23:22:48.317142",
     "status": "completed"
    },
    "tags": []
   },
   "outputs": [
    {
     "data": {
      "image/png": "[encoded data removed]",
      "text/plain": [
       "<Figure size 1080x504 with 1 Axes>"
      ]
     },
     "metadata": {
      "needs_background": "light"
     },
     "output_type": "display_data"
    }
   ],
   "source": [
    "ax = get_loss_curve(experiment)\n",
    "plt.show()"
   ]
  },
  {
   "cell_type": "code",
   "execution_count": 26,
   "id": "fd8a0f60",
   "metadata": {
    "execution": {
     "iopub.execute_input": "2022-03-20T23:22:48.602937Z",
     "iopub.status.busy": "2022-03-20T23:22:48.602681Z",
     "iopub.status.idle": "2022-03-20T23:22:48.746700Z",
     "shell.execute_reply": "2022-03-20T23:22:48.746923Z"
    },
    "papermill": {
     "duration": 0.196405,
     "end_time": "2022-03-20T23:22:48.747003",
     "exception": false,
     "start_time": "2022-03-20T23:22:48.550598",
     "status": "completed"
    },
    "tags": []
   },
   "outputs": [
    {
     "data": {
      "text/plain": [
       "<AxesSubplot:title={'center':'Results'}>"
      ]
     },
     "execution_count": 26,
     "metadata": {},
     "output_type": "execute_result"
    },
    {
     "data": {
      "image/png": "[encoded data removed]",
      "text/plain": [
       "<Figure size 1080x504 with 1 Axes>"
      ]
     },
     "metadata": {
      "needs_background": "light"
     },
     "output_type": "display_data"
    }
   ],
   "source": [
    "get_results_table(experiment)"
   ]
  },
  {
   "cell_type": "code",
   "execution_count": 27,
   "id": "cf8dc689",
   "metadata": {
    "execution": {
     "iopub.execute_input": "2022-03-20T23:22:48.853115Z",
     "iopub.status.busy": "2022-03-20T23:22:48.852711Z",
     "iopub.status.idle": "2022-03-20T23:22:48.997754Z",
     "shell.execute_reply": "2022-03-20T23:22:48.997976Z"
    },
    "papermill": {
     "duration": 0.199154,
     "end_time": "2022-03-20T23:22:48.998054",
     "exception": false,
     "start_time": "2022-03-20T23:22:48.798900",
     "status": "completed"
    },
    "tags": []
   },
   "outputs": [
    {
     "data": {
      "text/plain": [
       "<AxesSubplot:title={'center':'Per Domain Validation Accuracy'}, xlabel='domain'>"
      ]
     },
     "execution_count": 27,
     "metadata": {},
     "output_type": "execute_result"
    },
    {
     "data": {
      "image/png": "[encoded data removed]",
      "text/plain": [
       "<Figure size 1080x504 with 1 Axes>"
      ]
     },
     "metadata": {
      "needs_background": "light"
     },
     "output_type": "display_data"
    }
   ],
   "source": [
    "get_domain_accuracies(experiment)"
   ]
  },
  {
   "cell_type": "code",
   "execution_count": 28,
   "id": "a74ae082",
   "metadata": {
    "execution": {
     "iopub.execute_input": "2022-03-20T23:22:49.105012Z",
     "iopub.status.busy": "2022-03-20T23:22:49.104664Z",
     "iopub.status.idle": "2022-03-20T23:22:49.117367Z",
     "shell.execute_reply": "2022-03-20T23:22:49.117096Z"
    },
    "papermill": {
     "duration": 0.067337,
     "end_time": "2022-03-20T23:22:49.117428",
     "exception": false,
     "start_time": "2022-03-20T23:22:49.050091",
     "status": "completed"
    },
    "tags": []
   },
   "outputs": [
    {
     "name": "stdout",
     "output_type": "stream",
     "text": [
      "Source Test Label Accuracy: 0.8895833333333333 Target Test Label Accuracy: 0.6223170896328294\n",
      "Source Val Label Accuracy: 0.8904296875 Target Val Label Accuracy: 0.6219796814936848\n"
     ]
    }
   ],
   "source": [
    "print(\"Source Test Label Accuracy:\", experiment[\"results\"][\"source_test_label_accuracy\"], \"Target Test Label Accuracy:\", experiment[\"results\"][\"target_test_label_accuracy\"])\n",
    "print(\"Source Val Label Accuracy:\", experiment[\"results\"][\"source_val_label_accuracy\"], \"Target Val Label Accuracy:\", experiment[\"results\"][\"target_val_label_accuracy\"])"
   ]
  },
  {
   "cell_type": "code",
   "execution_count": 29,
   "id": "dacca602",
   "metadata": {
    "execution": {
     "iopub.execute_input": "2022-03-20T23:22:49.225435Z",
     "iopub.status.busy": "2022-03-20T23:22:49.224576Z",
     "iopub.status.idle": "2022-03-20T23:22:49.242054Z",
     "shell.execute_reply": "2022-03-20T23:22:49.242268Z"
    },
    "papermill": {
     "duration": 0.072435,
     "end_time": "2022-03-20T23:22:49.242346",
     "exception": false,
     "start_time": "2022-03-20T23:22:49.169911",
     "status": "completed"
    },
    "tags": [
     "experiment_json"
    ]
   },
   "outputs": [
    {
     "data": {
      "text/plain": [
       "'{\"experiment_name\": \"tl_3Av2:oracle.run1.framed -> cores+wisig\", \"parameters\": {\"experiment_name\": \"tl_3Av2:oracle.run1.framed -> cores+wisig\", \"device\": \"cuda\", \"lr\": 0.0001, \"x_shape\": [2, 200], \"n_shot\": 3, \"n_query\": 2, \"train_k_factor\": 3, \"val_k_factor\": 2, \"test_k_factor\": 2, \"torch_default_dtype\": \"torch.float32\", \"n_epoch\": 50, \"patience\": 3, \"criteria_for_best\": \"target_accuracy\", \"x_net\": [{\"class\": \"nnReshape\", \"kargs\": {\"shape\": [-1, 1, 2, 200]}}, {\"class\": \"Conv2d\", \"kargs\": {\"in_channels\": 1, \"out_channels\": 256, \"kernel_size\": [1, 7], \"bias\": false, \"padding\": [0, 3]}}, {\"class\": \"ReLU\", \"kargs\": {\"inplace\": true}}, {\"class\": \"BatchNorm2d\", \"kargs\": {\"num_features\": 256}}, {\"class\": \"Conv2d\", \"kargs\": {\"in_channels\": 256, \"out_channels\": 80, \"kernel_size\": [2, 7], \"bias\": true, \"padding\": [0, 3]}}, {\"class\": \"ReLU\", \"kargs\": {\"inplace\": true}}, {\"class\": \"BatchNorm2d\", \"kargs\": {\"num_features\": 80}}, {\"class\": \"Flatten\", \"kargs\": {}}, {\"class\": \"Linear\", \"kargs\": {\"in_features\": 16000, \"out_features\": 256}}, {\"class\": \"ReLU\", \"kargs\": {\"inplace\": true}}, {\"class\": \"BatchNorm1d\", \"kargs\": {\"num_features\": 256}}, {\"class\": \"Linear\", \"kargs\": {\"in_features\": 256, \"out_features\": 256}}], \"NUM_LOGS_PER_EPOCH\": 10, \"BEST_MODEL_PATH\": \"./best_model.pth\", \"n_way\": 16, \"datasets\": [{\"labels\": [\"1-10.\", \"1-11.\", \"1-15.\", \"1-16.\", \"1-17.\", \"1-18.\", \"1-19.\", \"10-4.\", \"10-7.\", \"11-1.\", \"11-14.\", \"11-17.\", \"11-20.\", \"11-7.\", \"13-20.\", \"13-8.\", \"14-10.\", \"14-11.\", \"14-14.\", \"14-7.\", \"15-1.\", \"15-20.\", \"16-1.\", \"16-16.\", \"17-10.\", \"17-11.\", \"17-2.\", \"19-1.\", \"19-16.\", \"19-19.\", \"19-20.\", \"19-3.\", \"2-10.\", \"2-11.\", \"2-17.\", \"2-18.\", \"2-20.\", \"2-3.\", \"2-4.\", \"2-5.\", \"2-6.\", \"2-7.\", \"2-8.\", \"3-13.\", \"3-18.\", \"3-3.\", \"4-1.\", \"4-10.\", \"4-11.\", \"4-19.\", \"5-5.\", \"6-15.\", \"7-10.\", \"7-14.\", \"8-18.\", \"8-20.\", \"8-3.\", \"8-8.\"], \"domains\": [1, 2, 3, 4, 5], \"num_examples_per_domain_per_label\": -1, \"pickle_path\": \"/mnt/wd500GB/CSC500/csc500-main/datasets/cores.stratified_ds.2022A.pkl\", \"source_or_target_dataset\": \"target\", \"x_transforms\": [\"unit_power\", \"take_200\"], \"episode_transforms\": [], \"domain_prefix\": \"C_\"}, {\"labels\": [\"1-10\", \"1-12\", \"1-14\", \"1-16\", \"1-18\", \"1-19\", \"1-8\", \"10-11\", \"10-17\", \"10-4\", \"10-7\", \"11-1\", \"11-10\", \"11-19\", \"11-20\", \"11-4\", \"11-7\", \"12-19\", \"12-20\", \"12-7\", \"13-14\", \"13-18\", \"13-19\", \"13-20\", \"13-3\", \"13-7\", \"14-10\", \"14-11\", \"14-12\", \"14-13\", \"14-14\", \"14-19\", \"14-20\", \"14-7\", \"14-8\", \"14-9\", \"15-1\", \"15-19\", \"15-6\", \"16-1\", \"16-16\", \"16-19\", \"16-20\", \"17-10\", \"17-11\", \"18-1\", \"18-10\", \"18-11\", \"18-12\", \"18-13\", \"18-14\", \"18-15\", \"18-16\", \"18-17\", \"18-19\", \"18-2\", \"18-20\", \"18-4\", \"18-5\", \"18-7\", \"18-8\", \"18-9\", \"19-1\", \"19-10\", \"19-11\", \"19-12\", \"19-13\", \"19-14\", \"19-15\", \"19-19\", \"19-2\", \"19-20\", \"19-3\", \"19-4\", \"19-6\", \"19-7\", \"19-8\", \"19-9\", \"2-1\", \"2-13\", \"2-15\", \"2-3\", \"2-4\", \"2-5\", \"2-6\", \"2-7\", \"2-8\", \"20-1\", \"20-12\", \"20-14\", \"20-15\", \"20-16\", \"20-18\", \"20-19\", \"20-20\", \"20-3\", \"20-4\", \"20-5\", \"20-7\", \"20-8\", \"3-1\", \"3-13\", \"3-18\", \"3-2\", \"3-8\", \"4-1\", \"4-10\", \"4-11\", \"5-1\", \"5-5\", \"6-1\", \"6-15\", \"6-6\", \"7-10\", \"7-11\", \"7-12\", \"7-13\", \"7-14\", \"7-7\", \"7-8\", \"7-9\", \"8-1\", \"8-13\", \"8-14\", \"8-18\", \"8-20\", \"8-3\", \"8-8\", \"9-1\", \"9-7\"], \"domains\": [1, 2, 3, 4], \"num_examples_per_domain_per_label\": -1, \"pickle_path\": \"/mnt/wd500GB/CSC500/csc500-main/datasets/wisig.node3-19.stratified_ds.2022A.pkl\", \"source_or_target_dataset\": \"target\", \"x_transforms\": [\"unit_power\", \"take_200\"], \"episode_transforms\": [], \"domain_prefix\": \"W_\"}, {\"labels\": [\"3123D52\", \"3123D65\", \"3123D79\", \"3123D80\", \"3123D54\", \"3123D70\", \"3123D7B\", \"3123D89\", \"3123D58\", \"3123D76\", \"3123D7D\", \"3123EFE\", \"3123D64\", \"3123D78\", \"3123D7E\", \"3124E4A\"], \"domains\": [32, 38, 8, 44, 14, 50, 20, 26], \"num_examples_per_domain_per_label\": 2000, \"pickle_path\": \"/mnt/wd500GB/CSC500/csc500-main/datasets/oracle.Run1_framed_2000Examples_stratified_ds.2022A.pkl\", \"source_or_target_dataset\": \"source\", \"x_transforms\": [\"unit_power\", \"take_200\", \"resample_20Msps_to_25Msps\"], \"episode_transforms\": [], \"domain_prefix\": \"O_\"}], \"seed\": 420, \"dataset_seed\": 420, \"domains_source\": [\"O_32\", \"O_38\", \"O_8\", \"O_44\", \"O_14\", \"O_50\", \"O_20\", \"O_26\"], \"domains_target\": [\"C_1\", \"C_2\", \"C_3\", \"C_4\", \"C_5\", \"W_1\", \"W_2\", \"W_3\", \"W_4\"]}, \"results\": {\"source_test_label_accuracy\": 0.8895833333333333, \"source_test_label_loss\": 0.3309265375137329, \"target_test_label_accuracy\": 0.6223170896328294, \"target_test_label_loss\": 583.6624145507812, \"source_val_label_accuracy\": 0.8904296875, \"source_val_label_loss\": 0.3125927746295929, \"target_val_label_accuracy\": 0.6219796814936848, \"target_val_label_loss\": 588.2139892578125, \"total_epochs_trained\": 17, \"total_experiment_time_secs\": 2928.922690153122, \"confusion\": {\"O_14\": {\"15\": {\"15\": 240}, \"5\": {\"5\": 234, \"4\": 2, \"3\": 2, \"14\": 1, \"2\": 1}, \"7\": {\"7\": 240}, \"4\": {\"4\": 237, \"1\": 2, \"5\": 1}, \"10\": {\"10\": 240}, \"11\": {\"11\": 234, \"9\": 3, \"0\": 3}, \"12\": {\"12\": 240}, \"0\": {\"0\": 237, \"10\": 1, \"8\": 2}, \"14\": {\"14\": 232, \"2\": 6, \"3\": 1, \"13\": 1}, \"8\": {\"8\": 240}, \"13\": {\"6\": 67, \"13\": 161, \"2\": 7, \"4\": 3, \"3\": 1, \"7\": 1}, \"6\": {\"13\": 32, \"6\": 200, \"2\": 8}, \"1\": {\"1\": 237, \"2\": 1, \"4\": 2}, \"3\": {\"3\": 233, \"2\": 6, \"10\": 1}, \"9\": {\"9\": 239, \"12\": 1}, \"2\": {\"2\": 190, \"13\": 9, \"6\": 7, \"14\": 15, \"3\": 15, \"5\": 2, \"1\": 1, \"4\": 1}}, \"O_20\": {\"4\": {\"4\": 230, \"8\": 6, \"3\": 3, \"10\": 1}, \"10\": {\"10\": 240}, \"15\": {\"15\": 218, \"1\": 15, \"0\": 7}, \"0\": {\"0\": 223, \"5\": 1, \"15\": 14, \"1\": 1, \"8\": 1}, \"6\": {\"6\": 239, \"14\": 1}, \"3\": {\"3\": 173, \"1\": 5, \"9\": 19, \"2\": 11, \"12\": 22, \"4\": 6, \"7\": 4}, \"7\": {\"7\": 228, \"8\": 2, \"2\": 6, \"9\": 2, \"3\": 2}, \"2\": {\"2\": 166, \"7\": 15, \"9\": 31, \"3\": 15, \"12\": 5, \"13\": 8}, \"8\": {\"8\": 232, \"7\": 5, \"3\": 1, \"4\": 2}, \"11\": {\"11\": 240}, \"14\": {\"14\": 237, \"6\": 3}, \"12\": {\"12\": 172, \"1\": 29, \"9\": 5, \"3\": 27, \"2\": 5, \"13\": 1, \"7\": 1}, \"13\": {\"13\": 231, \"2\": 7, \"7\": 2}, \"9\": {\"2\": 31, \"9\": 189, \"12\": 3, \"3\": 14, \"1\": 2, \"7\": 1}, \"5\": {\"5\": 238, \"0\": 2}, \"1\": {\"1\": 185, \"12\": 39, \"15\": 11, \"3\": 2, \"2\": 2, \"9\": 1}}, \"O_50\": {\"5\": {\"5\": 210, \"7\": 14, \"4\": 9, \"6\": 2, \"1\": 4, \"13\": 1}, \"12\": {\"12\": 233, \"11\": 4, \"9\": 3}, \"14\": {\"14\": 240}, \"4\": {\"4\": 194, \"7\": 10, \"15\": 23, \"1\": 5, \"6\": 4, \"5\": 4}, \"13\": {\"13\": 221, \"1\": 3, \"10\": 8, \"7\": 2, \"6\": 6}, \"10\": {\"10\": 224, \"0\": 14, \"8\": 2}, \"9\": {\"9\": 225, \"12\": 8, \"11\": 7}, \"15\": {\"15\": 209, \"1\": 13, \"4\": 8, \"6\": 3, \"11\": 6, \"5\": 1}, \"6\": {\"6\": 219, \"7\": 6, \"1\": 1, \"15\": 6, \"13\": 5, \"4\": 3}, \"2\": {\"2\": 223, \"0\": 17}, \"0\": {\"0\": 218, \"2\": 13, \"10\": 9}, \"11\": {\"11\": 217, \"12\": 9, \"9\": 6, \"15\": 8}, \"3\": {\"3\": 236, \"8\": 4}, \"8\": {\"8\": 238, \"3\": 1, \"10\": 1}, \"7\": {\"7\": 224, \"13\": 5, \"5\": 6, \"4\": 4, \"6\": 1}, \"1\": {\"1\": 218, \"11\": 1, \"4\": 2, \"15\": 17, \"13\": 1, \"6\": 1}}, \"O_26\": {\"7\": {\"7\": 187, \"8\": 12, \"1\": 1, \"2\": 12, \"3\": 14, \"0\": 3, \"4\": 9, \"15\": 2}, \"6\": {\"6\": 211, \"9\": 4, \"15\": 15, \"10\": 7, \"0\": 2, \"8\": 1}, \"14\": {\"14\": 213, \"10\": 3, \"1\": 7, \"8\": 7, \"0\": 6, \"4\": 3, \"7\": 1}, \"15\": {\"13\": 4, \"15\": 195, \"9\": 23, \"10\": 4, \"7\": 3, \"6\": 4, \"2\": 2, \"8\": 4, \"0\": 1}, \"5\": {\"5\": 236, \"2\": 2, \"15\": 1, \"13\": 1}, \"10\": {\"10\": 134, \"0\": 64, \"14\": 4, \"6\": 2, \"8\": 23, \"4\": 4, \"1\": 3, \"9\": 1, \"15\": 5}, \"4\": {\"4\": 211, \"8\": 8, \"0\": 11, \"1\": 3, \"7\": 7}, \"11\": {\"11\": 240}, \"13\": {\"13\": 219, \"9\": 7, \"2\": 10, \"15\": 2, \"5\": 2}, \"2\": {\"7\": 17, \"2\": 135, \"3\": 68, \"1\": 1, \"9\": 2, \"15\": 8, \"8\": 3, \"5\": 3, \"13\": 3}, \"0\": {\"0\": 114, \"8\": 18, \"10\": 81, \"14\": 6, \"6\": 1, \"4\": 15, \"7\": 4, \"1\": 1}, \"12\": {\"12\": 240}, \"3\": {\"3\": 194, \"7\": 13, \"2\": 33}, \"9\": {\"15\": 21, \"9\": 210, \"6\": 2, \"13\": 3, \"8\": 4}, \"8\": {\"7\": 23, \"4\": 13, \"8\": 134, \"10\": 42, \"14\": 6, \"0\": 16, \"15\": 5, \"2\": 1}, \"1\": {\"1\": 219, \"14\": 15, \"3\": 1, \"8\": 2, \"4\": 2, \"0\": 1}}, \"O_32\": {\"7\": {\"7\": 191, \"0\": 7, \"14\": 5, \"11\": 1, \"4\": 16, \"5\": 16, \"13\": 2, \"2\": 2}, \"2\": {\"2\": 208, \"7\": 1, \"4\": 30, \"13\": 1}, \"5\": {\"5\": 199, \"7\": 21, \"8\": 6, \"13\": 6, \"4\": 3, \"0\": 1, \"3\": 4}, \"6\": {\"6\": 240}, \"13\": {\"13\": 197, \"3\": 13, \"8\": 9, \"11\": 2, \"7\": 4, \"4\": 13, \"5\": 1, \"14\": 1}, \"4\": {\"2\": 34, \"13\": 9, \"4\": 190, \"7\": 7}, \"3\": {\"3\": 221, \"13\": 10, \"8\": 6, \"11\": 3}, \"0\": {\"0\": 203, \"8\": 25, \"7\": 4, \"14\": 6, \"5\": 2}, \"9\": {\"9\": 239, \"12\": 1}, \"12\": {\"12\": 240}, \"8\": {\"8\": 203, \"0\": 23, \"5\": 5, \"14\": 2, \"3\": 2, \"7\": 3, \"13\": 2}, \"14\": {\"14\": 203, \"0\": 11, \"8\": 7, \"7\": 3, \"3\": 1, \"11\": 11, \"5\": 4}, \"15\": {\"15\": 240}, \"11\": {\"11\": 236, \"14\": 3, \"3\": 1}, \"10\": {\"10\": 240}, \"1\": {\"1\": 239, \"10\": 1}}, \"O_44\": {\"11\": {\"11\": 233, \"13\": 6, \"6\": 1}, \"7\": {\"7\": 171, \"9\": 50, \"2\": 13, \"6\": 6}, \"6\": {\"13\": 45, \"6\": 166, \"7\": 5, \"9\": 24}, \"12\": {\"12\": 216, \"1\": 19, \"3\": 4, \"10\": 1}, \"4\": {\"4\": 203, \"14\": 33, \"15\": 4}, \"13\": {\"13\": 178, \"6\": 33, \"9\": 25, \"4\": 1, \"11\": 3}, \"8\": {\"8\": 161, \"0\": 71, \"15\": 6, \"14\": 1, \"5\": 1}, \"5\": {\"5\": 224, \"0\": 7, \"15\": 1, \"14\": 7, \"8\": 1}, \"14\": {\"15\": 6, \"14\": 179, \"4\": 50, \"5\": 5}, \"3\": {\"3\": 230, \"12\": 3, \"1\": 7}, \"10\": {\"10\": 197, \"1\": 26, \"7\": 1, \"12\": 1, \"2\": 15}, \"1\": {\"1\": 185, \"10\": 12, \"2\": 19, \"12\": 17, \"3\": 7}, \"2\": {\"2\": 210, \"10\": 4, \"7\": 17, \"1\": 8, \"3\": 1}, \"15\": {\"15\": 199, \"0\": 21, \"14\": 7, \"8\": 5, \"4\": 3, \"5\": 5}, \"9\": {\"9\": 135, \"7\": 48, \"6\": 29, \"13\": 28}, \"0\": {\"8\": 48, \"0\": 176, \"15\": 13, \"5\": 3}}, \"O_8\": {\"10\": {\"10\": 225, \"4\": 7, \"13\": 8}, \"6\": {\"6\": 201, \"7\": 20, \"0\": 4, \"4\": 11, \"13\": 4}, \"13\": {\"6\": 12, \"13\": 141, \"10\": 41, \"4\": 22, \"0\": 21, \"14\": 2, \"7\": 1}, \"3\": {\"3\": 234, \"2\": 5, \"12\": 1}, \"9\": {\"9\": 240}, \"1\": {\"1\": 239, \"11\": 1}, \"5\": {\"5\": 235, \"14\": 5}, \"11\": {\"11\": 226, \"1\": 14}, \"4\": {\"4\": 209, \"13\": 17, \"6\": 8, \"10\": 5, \"0\": 1}, \"14\": {\"14\": 235, \"1\": 2, \"10\": 3}, \"12\": {\"12\": 210, \"8\": 3, \"15\": 20, \"3\": 7}, \"7\": {\"7\": 208, \"6\": 30, \"13\": 1, \"3\": 1}, \"0\": {\"0\": 225, \"7\": 3, \"13\": 5, \"4\": 4, \"10\": 2, \"6\": 1}, \"15\": {\"15\": 231, \"12\": 8, \"8\": 1}, \"2\": {\"2\": 230, \"7\": 4, \"3\": 5, \"12\": 1}, \"8\": {\"8\": 240}}, \"O_38\": {\"4\": {\"4\": 236, \"10\": 3, \"12\": 1}, \"7\": {\"7\": 221, \"0\": 6, \"5\": 7, \"8\": 5, \"10\": 1}, \"12\": {\"12\": 239, \"14\": 1}, \"10\": {\"10\": 209, \"0\": 9, \"13\": 17, \"4\": 3, \"7\": 1, \"14\": 1}, \"0\": {\"0\": 202, \"7\": 7, \"8\": 16, \"3\": 6, \"9\": 1, \"10\": 5, \"5\": 2, \"13\": 1}, \"1\": {\"1\": 232, \"15\": 8}, \"5\": {\"7\": 15, \"5\": 193, \"0\": 3, \"8\": 22, \"6\": 3, \"9\": 3, \"13\": 1}, \"15\": {\"15\": 205, \"1\": 14, \"8\": 19, \"13\": 1, \"5\": 1}, \"9\": {\"9\": 235, \"6\": 3, \"3\": 2}, \"11\": {\"11\": 238, \"14\": 2}, \"14\": {\"14\": 230, \"2\": 9, \"13\": 1}, \"6\": {\"6\": 240}, \"8\": {\"8\": 192, \"7\": 14, \"13\": 6, \"5\": 14, \"15\": 8, \"10\": 1, \"0\": 5}, \"3\": {\"3\": 237, \"10\": 1, \"0\": 2}, \"2\": {\"2\": 222, \"13\": 6, \"14\": 12}, \"13\": {\"13\": 226, \"0\": 1, \"10\": 9, \"2\": 4}}, \"C_4\": {\"42\": {\"42\": 32}, \"0\": {\"0\": 55, \"1\": 1, \"43\": 6, \"14\": 2, \"33\": 1, \"46\": 4, \"10\": 1, \"55\": 1, \"13\": 2, \"24\": 1, \"7\": 1, \"49\": 2, \"56\": 2, \"22\": 1}, \"1\": {\"39\": 2, \"5\": 2, \"1\": 20, \"57\": 2, \"47\": 3, \"15\": 1, \"17\": 1, \"36\": 1, \"29\": 3, \"48\": 2, \"19\": 1, \"11\": 2}, \"39\": {\"39\": 19, \"42\": 1}, \"28\": {\"34\": 2, \"40\": 1, \"28\": 8, \"36\": 1, \"27\": 4, \"3\": 1, \"48\": 2, \"50\": 1, \"29\": 1, \"9\": 2, \"19\": 1, \"17\": 1, \"32\": 1, \"57\": 1, \"6\": 1, \"42\": 2, \"33\": 1, \"5\": 1}, \"53\": {\"53\": 71, \"51\": 20, \"49\": 1, \"21\": 8, \"8\": 7, \"36\": 3, \"20\": 8, \"27\": 1, \"45\": 1, \"9\": 1, \"12\": 2, \"40\": 1}, \"19\": {\"19\": 87, \"5\": 6, \"25\": 4, \"4\": 5, \"44\": 3, \"29\": 11, \"50\": 3, \"57\": 4, \"45\": 7, \"8\": 1, \"3\": 2, \"26\": 1, \"20\": 2, \"41\": 1, \"6\": 1, \"51\": 2, \"9\": 2, \"47\": 2}, \"34\": {\"34\": 22, \"42\": 2}, \"33\": {\"19\": 1, \"40\": 2, \"3\": 2, \"33\": 19, \"32\": 2, \"50\": 1, \"35\": 2, \"21\": 1, \"13\": 1, \"46\": 1, \"7\": 1, \"44\": 2, \"25\": 1}, \"32\": {\"32\": 18, \"29\": 2, \"57\": 1, \"45\": 1, \"46\": 1, \"36\": 1}, \"10\": {\"10\": 126, \"2\": 3, \"22\": 4, \"56\": 1, \"0\": 1, \"13\": 1}, \"46\": {\"20\": 2, \"32\": 2, \"46\": 31, \"55\": 3, \"28\": 1, \"50\": 4, \"10\": 2, \"0\": 3, \"15\": 1, \"1\": 4, \"18\": 8, \"6\": 7, \"36\": 1, \"3\": 3, \"21\": 3, \"52\": 2, \"16\": 1, \"8\": 6, \"23\": 4, \"57\": 3, \"22\": 3, \"11\": 3, \"40\": 1, \"29\": 4, \"53\": 1, \"43\": 1, \"51\": 1, \"56\": 12, \"27\": 1, \"13\": 3, \"19\": 1, \"9\": 1, \"5\": 3, \"2\": 1, \"47\": 5, \"45\": 1, \"44\": 1}, \"20\": {\"20\": 107, \"6\": 1, \"35\": 1, \"53\": 2, \"36\": 2, \"19\": 1, \"44\": 2, \"46\": 1, \"8\": 2, \"57\": 1, \"27\": 1, \"43\": 1}, \"5\": {\"28\": 1, \"39\": 1, \"5\": 23, \"8\": 2, \"48\": 6, \"51\": 1, \"36\": 3, \"23\": 14, \"54\": 11, \"3\": 2, \"0\": 1, \"47\": 5, \"26\": 1, \"52\": 7, \"27\": 1, \"18\": 4, \"12\": 1, \"46\": 3, \"50\": 3, \"29\": 1, \"32\": 1, \"6\": 3, \"42\": 1, \"31\": 1, \"44\": 1, \"53\": 1, \"19\": 2, \"45\": 1, \"56\": 1, \"55\": 1, \"15\": 1, \"16\": 2, \"9\": 1}, \"40\": {\"46\": 4, \"40\": 60, \"3\": 2, \"33\": 6, \"55\": 3, \"35\": 1, \"10\": 1, \"31\": 1, \"6\": 5, \"25\": 21, \"0\": 3, \"50\": 7, \"5\": 1, \"19\": 2, \"21\": 1, \"44\": 3, \"49\": 1, \"20\": 1, \"22\": 1}, \"51\": {\"51\": 112, \"21\": 6, \"48\": 1, \"53\": 12, \"8\": 3, \"36\": 3, \"20\": 6, \"4\": 1}, \"37\": {\"37\": 24}, \"17\": {\"17\": 79, \"27\": 1}, \"45\": {\"45\": 37, \"12\": 3, \"25\": 1, \"9\": 21, \"26\": 1, \"36\": 2, \"17\": 4, \"51\": 1, \"4\": 5, \"6\": 1, \"27\": 4, \"21\": 7, \"48\": 5, \"57\": 1, \"54\": 1, \"50\": 1, \"29\": 1}, \"13\": {\"13\": 138, \"10\": 4}, \"27\": {\"27\": 134, \"36\": 1, \"17\": 3, \"34\": 1, \"48\": 3, \"12\": 2}, \"24\": {\"24\": 55, \"43\": 1}, \"30\": {\"30\": 37, \"17\": 1, \"42\": 1, \"20\": 1, \"8\": 3, \"27\": 1}, \"31\": {\"31\": 27, \"55\": 1}, \"41\": {\"36\": 2, \"54\": 11, \"8\": 2, \"41\": 15, \"23\": 2, \"38\": 1, \"47\": 1, \"13\": 1, \"28\": 1}, \"36\": {\"45\": 1, \"36\": 71, \"39\": 1, \"30\": 1, \"27\": 1, \"54\": 6, \"12\": 1, \"29\": 1, \"43\": 1, \"8\": 1, \"48\": 3, \"20\": 4}, \"16\": {\"16\": 87, \"15\": 3, \"23\": 1, \"11\": 1, \"18\": 2, \"52\": 1, \"43\": 1}, \"22\": {\"13\": 8, \"22\": 79, \"10\": 8, \"37\": 2, \"56\": 8, \"55\": 4, \"46\": 1, \"2\": 2, \"0\": 2, \"24\": 8, \"43\": 3, \"6\": 1, \"44\": 1, \"38\": 1}, \"44\": {\"44\": 84, \"28\": 1, \"49\": 1, \"25\": 4, \"47\": 1, \"29\": 6, \"3\": 4, \"57\": 2, \"6\": 3, \"5\": 1, \"19\": 16, \"50\": 2, \"55\": 2, \"33\": 1, \"45\": 1, \"40\": 1, \"9\": 1, \"43\": 1}, \"9\": {\"17\": 7, \"9\": 78, \"12\": 3, \"54\": 1, \"27\": 10, \"4\": 16, \"48\": 8, \"50\": 3, \"3\": 1, \"53\": 3, \"45\": 1, \"21\": 1, \"57\": 2, \"36\": 4, \"51\": 1, \"11\": 1}, \"57\": {\"57\": 39, \"47\": 5, \"27\": 4, \"28\": 3, \"48\": 10, \"4\": 4, \"5\": 2, \"24\": 1, \"9\": 2, \"8\": 1, \"17\": 5, \"18\": 4, \"36\": 10, \"54\": 2, \"20\": 1, \"29\": 4, \"45\": 1, \"42\": 1, \"3\": 1}, \"8\": {\"8\": 134, \"30\": 1, \"27\": 3}, \"23\": {\"23\": 128, \"52\": 3, \"18\": 1}, \"47\": {\"47\": 57, \"39\": 4, \"48\": 6, \"15\": 3, \"18\": 11, \"23\": 15, \"12\": 2, \"57\": 3, \"54\": 5, \"52\": 2, \"44\": 1, \"20\": 2, \"8\": 1, \"5\": 1, \"36\": 2, \"29\": 2, \"16\": 3}, \"43\": {\"43\": 123, \"1\": 4, \"24\": 4, \"16\": 1, \"11\": 2, \"9\": 1, \"47\": 1, \"36\": 1, \"50\": 1}, \"49\": {\"49\": 20}, \"3\": {\"3\": 56, \"48\": 3, \"35\": 1, \"42\": 1, \"21\": 1, \"44\": 1, \"54\": 3, \"17\": 2, \"50\": 9, \"27\": 4, \"0\": 1, \"29\": 2, \"36\": 4, \"6\": 7, \"12\": 2, \"40\": 1, \"46\": 4, \"19\": 4, \"25\": 1, \"5\": 1, \"30\": 1, \"20\": 5, \"45\": 3, \"57\": 3, \"55\": 1, \"8\": 1, \"52\": 1, \"53\": 1}, \"12\": {\"12\": 75, \"27\": 10, \"8\": 1, \"21\": 2, \"57\": 1, \"3\": 1, \"6\": 1, \"51\": 1}, \"38\": {\"38\": 37, \"22\": 3}, \"7\": {\"7\": 24}, \"14\": {\"14\": 8, \"49\": 2, \"10\": 1, \"55\": 2, \"35\": 2, \"22\": 1}, \"15\": {\"15\": 134, \"52\": 4, \"24\": 1, \"16\": 6, \"43\": 1}, \"25\": {\"25\": 77, \"34\": 1, \"50\": 6, \"3\": 4, \"45\": 2, \"4\": 3, \"47\": 4, \"44\": 3, \"19\": 7, \"29\": 1, \"20\": 6, \"46\": 1, \"9\": 3, \"28\": 1, \"54\": 1, \"6\": 4, \"41\": 1, \"36\": 1, \"8\": 1, \"43\": 1}, \"26\": {\"34\": 1, \"26\": 19, \"42\": 1, \"12\": 1, \"4\": 1, \"53\": 1}, \"21\": {\"21\": 126, \"8\": 3, \"20\": 2, \"5\": 1}, \"48\": {\"48\": 125, \"54\": 3, \"34\": 1, \"27\": 4, \"42\": 1, \"36\": 1, \"20\": 2, \"17\": 1, \"21\": 1, \"41\": 1, \"39\": 1, \"5\": 1, \"4\": 2}, \"56\": {\"38\": 5, \"56\": 111, \"55\": 1, \"22\": 6, \"10\": 2, \"13\": 7, \"2\": 2}, \"11\": {\"11\": 74, \"5\": 3, \"48\": 7, \"15\": 4, \"41\": 1, \"52\": 8, \"36\": 1, \"9\": 1, \"57\": 1, \"54\": 1, \"16\": 1, \"4\": 2}, \"2\": {\"2\": 34, \"10\": 2}, \"6\": {\"48\": 10, \"3\": 5, \"55\": 1, \"35\": 1, \"39\": 1, \"6\": 19, \"5\": 6, \"9\": 4, \"4\": 5, \"8\": 7, \"47\": 1, \"54\": 8, \"17\": 2, \"21\": 4, \"44\": 2, \"50\": 2, \"36\": 7, \"0\": 1, \"27\": 3, \"57\": 2, \"12\": 2, \"23\": 1, \"45\": 3, \"29\": 2, \"43\": 1, \"46\": 1, \"28\": 1, \"19\": 1, \"30\": 2, \"18\": 1, \"20\": 3, \"40\": 1, \"53\": 1, \"52\": 1}, \"55\": {\"55\": 106, \"0\": 3, \"22\": 5, \"5\": 1, \"43\": 4, \"46\": 7, \"40\": 8, \"56\": 1, \"44\": 1, \"14\": 1, \"24\": 2, \"10\": 1}, \"54\": {\"54\": 96, \"39\": 2, \"5\": 1, \"8\": 4, \"20\": 2, \"48\": 3}, \"29\": {\"47\": 5, \"28\": 2, \"0\": 1, \"29\": 56, \"27\": 1, \"22\": 1, \"57\": 6, \"19\": 7, \"25\": 1, \"50\": 4, \"44\": 2, \"10\": 1, \"36\": 2, \"45\": 7, \"17\": 2, \"5\": 3, \"55\": 2, \"46\": 2, \"6\": 3, \"12\": 1, \"39\": 1, \"21\": 1, \"16\": 1, \"8\": 1, \"35\": 1, \"26\": 2, \"1\": 2, \"41\": 2, \"3\": 1, \"20\": 1, \"43\": 2}, \"50\": {\"21\": 4, \"53\": 3, \"29\": 5, \"47\": 1, \"49\": 1, \"25\": 4, \"45\": 4, \"46\": 5, \"0\": 1, \"12\": 3, \"4\": 9, \"6\": 4, \"3\": 3, \"19\": 6, \"27\": 10, \"40\": 7, \"50\": 27, \"5\": 1, \"17\": 1, \"36\": 2, \"9\": 10, \"44\": 1, \"20\": 2, \"48\": 2, \"51\": 1, \"8\": 3, \"57\": 1, \"54\": 1}, \"52\": {\"52\": 109, \"23\": 7}, \"35\": {\"35\": 34, \"49\": 2, \"43\": 1, \"40\": 1, \"33\": 1, \"6\": 1}, \"4\": {\"4\": 92, \"50\": 2, \"17\": 5, \"9\": 8, \"48\": 6, \"27\": 2, \"53\": 3, \"28\": 2}, \"18\": {\"18\": 108}}, \"C_5\": {\"43\": {\"43\": 151, \"21\": 1}, \"35\": {\"35\": 36}, \"54\": {\"54\": 112}, \"22\": {\"22\": 21, \"35\": 2, \"36\": 1, \"2\": 1, \"56\": 1, \"24\": 1, \"0\": 1}, \"16\": {\"16\": 141, \"45\": 1, \"23\": 4}, \"5\": {\"57\": 1, \"5\": 71, \"40\": 2, \"27\": 1, \"41\": 1, \"36\": 3, \"50\": 5, \"12\": 3, \"55\": 1, \"29\": 7, \"3\": 2, \"4\": 4, \"45\": 5, \"43\": 1, \"25\": 3, \"44\": 4, \"33\": 2, \"49\": 1, \"28\": 2, \"56\": 2, \"46\": 3, \"47\": 2, \"6\": 2}, \"28\": {\"57\": 1, \"19\": 2, \"4\": 1, \"46\": 1, \"28\": 21, \"33\": 1, \"12\": 1, \"34\": 2, \"30\": 1, \"49\": 1}, \"14\": {\"3\": 2, \"14\": 11, \"45\": 4, \"0\": 2, \"55\": 3, \"43\": 1, \"25\": 1, \"50\": 5, \"40\": 2, \"19\": 1, \"6\": 1, \"36\": 3, \"42\": 1, \"41\": 1, \"39\": 1, \"11\": 1, \"49\": 1, \"28\": 1, \"5\": 1, \"47\": 1}, \"51\": {\"51\": 118, \"20\": 2, \"53\": 7, \"48\": 1}, \"19\": {\"19\": 100, \"34\": 5, \"32\": 2, \"42\": 1, \"48\": 5, \"27\": 8, \"53\": 2, \"9\": 5, \"1\": 1, \"57\": 5, \"17\": 2, \"54\": 2, \"25\": 1, \"55\": 1}, \"31\": {\"31\": 35, \"5\": 1}, \"10\": {\"10\": 59, \"13\": 9}, \"21\": {\"21\": 120, \"4\": 2, \"11\": 5, \"53\": 2, \"20\": 2, \"12\": 1, \"15\": 1, \"19\": 1, \"26\": 2}, \"3\": {\"35\": 2, \"14\": 1, \"36\": 2, \"46\": 5, \"22\": 3, \"3\": 26, \"9\": 2, \"39\": 2, \"45\": 2, \"40\": 3, \"50\": 9, \"12\": 1, \"53\": 1, \"8\": 1, \"56\": 5, \"10\": 4, \"11\": 2, \"21\": 2, \"24\": 2, \"30\": 2, \"0\": 4, \"13\": 5, \"17\": 1, \"29\": 1, \"47\": 3, \"6\": 2, \"33\": 1, \"25\": 3, \"55\": 1, \"4\": 1, \"5\": 1}, \"57\": {\"54\": 5, \"42\": 4, \"57\": 111, \"35\": 1, \"34\": 1, \"4\": 1, \"1\": 4, \"18\": 2, \"40\": 1, \"23\": 2}, \"9\": {\"9\": 64, \"51\": 1, \"30\": 1, \"27\": 28, \"48\": 17, \"32\": 2, \"42\": 1, \"35\": 1, \"0\": 1, \"6\": 3, \"34\": 5, \"29\": 1, \"45\": 1, \"50\": 5, \"19\": 7, \"25\": 1, \"1\": 2, \"2\": 1, \"14\": 1, \"8\": 1, \"4\": 1, \"46\": 1}, \"8\": {\"8\": 126, \"47\": 1, \"6\": 1, \"1\": 1, \"54\": 2, \"53\": 1}, \"46\": {\"34\": 2, \"8\": 2, \"52\": 13, \"46\": 47, \"20\": 3, \"57\": 2, \"22\": 1, \"40\": 3, \"48\": 1, \"39\": 2, \"25\": 1, \"23\": 18, \"12\": 1, \"3\": 3, \"54\": 10, \"6\": 1, \"16\": 11, \"53\": 3, \"21\": 2, \"56\": 3, \"1\": 1, \"18\": 3, \"42\": 1, \"14\": 1, \"50\": 1, \"36\": 1, \"17\": 2, \"13\": 1}, \"23\": {\"23\": 121, \"18\": 1, \"52\": 1, \"43\": 1}, \"37\": {\"37\": 24}, \"34\": {\"34\": 33, \"55\": 1, \"54\": 1, \"47\": 1}, \"4\": {\"28\": 3, \"4\": 26, \"9\": 12, \"51\": 1, \"11\": 1, \"27\": 15, \"45\": 1, \"1\": 6, \"48\": 6, \"12\": 3, \"33\": 2, \"55\": 4, \"43\": 2, \"30\": 4, \"40\": 1, \"25\": 1, \"34\": 1, \"41\": 1, \"32\": 4, \"8\": 2, \"19\": 1, \"57\": 2, \"17\": 1}, \"6\": {\"28\": 2, \"45\": 5, \"9\": 4, \"38\": 3, \"30\": 7, \"32\": 1, \"6\": 44, \"17\": 9, \"12\": 3, \"48\": 8, \"20\": 6, \"8\": 2, \"1\": 15, \"4\": 1, \"55\": 6, \"53\": 4, \"46\": 2, \"27\": 2, \"57\": 1, \"21\": 1, \"54\": 1, \"47\": 1}, \"48\": {\"6\": 1, \"48\": 112, \"20\": 3, \"45\": 1, \"1\": 12, \"17\": 2, \"54\": 2, \"53\": 2, \"50\": 1}, \"44\": {\"44\": 97, \"36\": 1, \"14\": 1, \"31\": 3, \"22\": 1, \"56\": 7, \"29\": 12, \"0\": 1, \"3\": 2, \"40\": 2, \"13\": 2, \"21\": 1, \"6\": 1, \"5\": 5, \"50\": 2}, \"40\": {\"40\": 72, \"44\": 7, \"0\": 5, \"29\": 20, \"56\": 7, \"5\": 6, \"13\": 1, \"35\": 1, \"22\": 1, \"50\": 1, \"2\": 1, \"14\": 2}, \"12\": {\"12\": 55, \"38\": 5, \"7\": 1, \"17\": 2, \"51\": 10, \"30\": 6, \"53\": 3, \"20\": 4, \"27\": 2, \"8\": 1, \"9\": 1, \"45\": 1, \"26\": 1, \"6\": 2, \"55\": 2}, \"30\": {\"30\": 116, \"1\": 5, \"32\": 1, \"8\": 3, \"45\": 1, \"6\": 1, \"53\": 1}, \"39\": {\"39\": 8, \"30\": 1, \"42\": 4, \"17\": 1, \"1\": 5, \"8\": 1}, \"45\": {\"32\": 3, \"27\": 7, \"33\": 1, \"45\": 24, \"26\": 1, \"17\": 4, \"21\": 1, \"47\": 2, \"30\": 4, \"4\": 3, \"39\": 1, \"55\": 18, \"34\": 3, \"41\": 1, \"9\": 9, \"12\": 3, \"3\": 1, \"48\": 4, \"19\": 3, \"50\": 7, \"43\": 1, \"1\": 3, \"11\": 1, \"36\": 2, \"46\": 2, \"25\": 5, \"8\": 1, \"6\": 3, \"20\": 3, \"5\": 1, \"53\": 2}, \"36\": {\"14\": 2, \"36\": 72, \"40\": 1, \"0\": 1, \"11\": 1, \"5\": 3, \"35\": 1, \"3\": 1, \"24\": 1, \"50\": 1, \"33\": 1, \"55\": 2, \"47\": 3, \"29\": 2}, \"27\": {\"27\": 113, \"9\": 7, \"55\": 2, \"48\": 9, \"6\": 1, \"1\": 4, \"32\": 1, \"53\": 1, \"45\": 1, \"51\": 1}, \"32\": {\"32\": 32}, \"52\": {\"52\": 126, \"23\": 3, \"54\": 1}, \"0\": {\"0\": 112, \"31\": 3, \"3\": 6, \"46\": 1, \"11\": 1, \"36\": 1}, \"26\": {\"26\": 24}, \"1\": {\"1\": 123, \"8\": 7, \"54\": 5, \"48\": 7, \"20\": 1, \"30\": 2, \"29\": 1, \"47\": 1, \"53\": 1}, \"53\": {\"53\": 128, \"20\": 5, \"54\": 4, \"51\": 4, \"25\": 1, \"17\": 1, \"36\": 1, \"50\": 1, \"9\": 1}, \"25\": {\"25\": 101, \"4\": 4, \"31\": 1, \"14\": 1, \"41\": 1, \"12\": 2, \"48\": 1, \"6\": 3, \"20\": 3, \"46\": 1, \"11\": 1, \"53\": 6, \"50\": 4, \"45\": 2, \"54\": 1, \"33\": 1, \"39\": 2, \"8\": 1, \"55\": 4, \"57\": 1, \"17\": 1, \"30\": 2}, \"24\": {\"24\": 76, \"49\": 1, \"56\": 1, \"36\": 1, \"0\": 1}, \"7\": {\"7\": 31, \"48\": 1}, \"18\": {\"18\": 64}, \"20\": {\"20\": 138, \"53\": 3, \"54\": 3}, \"33\": {\"33\": 22, \"25\": 1, \"28\": 4, \"47\": 1, \"50\": 1, \"27\": 1, \"5\": 2}, \"55\": {\"30\": 13, \"55\": 76, \"39\": 1, \"54\": 1, \"38\": 1, \"12\": 1, \"27\": 2, \"6\": 9, \"57\": 4, \"48\": 8, \"17\": 4, \"47\": 1, \"4\": 3, \"1\": 7, \"20\": 2, \"25\": 3, \"45\": 2, \"53\": 1, \"8\": 1}, \"41\": {\"42\": 4, \"41\": 15, \"27\": 1, \"17\": 1, \"34\": 3, \"38\": 1, \"20\": 1, \"57\": 1, \"54\": 1}, \"42\": {\"42\": 33, \"57\": 1, \"8\": 1, \"40\": 1, \"54\": 2, \"18\": 1, \"17\": 1}, \"49\": {\"49\": 35, \"14\": 1}, \"13\": {\"13\": 130, \"10\": 11, \"24\": 1, \"56\": 5, \"22\": 1}, \"38\": {\"38\": 32}, \"2\": {\"2\": 24, \"36\": 1, \"56\": 2, \"49\": 1}, \"47\": {\"47\": 39, \"39\": 1, \"45\": 2, \"57\": 7, \"50\": 5, \"33\": 3, \"54\": 4, \"9\": 1, \"6\": 2, \"8\": 6, \"17\": 6, \"12\": 1, \"1\": 4, \"4\": 1, \"55\": 1, \"20\": 2, \"27\": 1, \"53\": 2, \"48\": 1, \"30\": 2, \"16\": 1, \"23\": 1, \"38\": 2, \"21\": 1, \"42\": 1, \"43\": 3}, \"17\": {\"17\": 112, \"51\": 1, \"1\": 1, \"30\": 1, \"20\": 1}, \"11\": {\"11\": 132, \"21\": 9, \"7\": 1, \"46\": 2, \"20\": 1, \"52\": 1, \"15\": 4, \"35\": 1, \"41\": 1, \"19\": 2}, \"29\": {\"3\": 4, \"49\": 1, \"31\": 1, \"29\": 96, \"36\": 4, \"5\": 9, \"14\": 2, \"0\": 8, \"44\": 4, \"40\": 2, \"50\": 1}, \"50\": {\"28\": 1, \"43\": 11, \"47\": 4, \"5\": 3, \"29\": 6, \"25\": 5, \"32\": 1, \"12\": 3, \"19\": 3, \"6\": 5, \"30\": 5, \"55\": 16, \"50\": 28, \"9\": 8, \"36\": 2, \"4\": 2, \"3\": 4, \"27\": 4, \"45\": 6, \"53\": 1, \"1\": 1, \"21\": 5, \"8\": 1, \"2\": 1, \"15\": 1, \"0\": 3, \"17\": 2, \"44\": 2, \"46\": 1, \"40\": 1, \"48\": 1, \"57\": 1}, \"56\": {\"56\": 142, \"24\": 3, \"44\": 3}, \"15\": {\"54\": 3, \"15\": 87, \"16\": 14, \"34\": 1, \"23\": 4, \"6\": 1, \"52\": 6, \"46\": 3, \"27\": 1, \"19\": 3, \"1\": 3, \"48\": 2, \"21\": 4, \"18\": 2, \"57\": 7, \"8\": 1}}, \"W_3\": {\"110\": {\"49\": 1, \"110\": 31, \"129\": 1, \"44\": 1, \"87\": 5, \"53\": 1, \"1\": 5, \"82\": 2, \"13\": 1, \"45\": 1, \"5\": 4, \"105\": 6, \"84\": 3, \"114\": 6, \"127\": 1, \"118\": 2, \"108\": 1, \"113\": 1, \"62\": 3, \"3\": 1, \"100\": 2, \"48\": 1, \"11\": 4, \"122\": 5, \"23\": 1, \"18\": 1, \"39\": 1}, \"1\": {\"1\": 70, \"100\": 2, \"14\": 2, \"108\": 3, \"53\": 2, \"110\": 2, \"128\": 1, \"114\": 10, \"5\": 2, \"87\": 3, \"11\": 1, \"105\": 1, \"71\": 2, \"74\": 1, \"129\": 1, \"122\": 1, \"84\": 3, \"69\": 1}, \"2\": {\"117\": 2, \"92\": 1, \"102\": 2, \"26\": 1, \"118\": 1, \"64\": 2, \"126\": 1, \"2\": 4, \"90\": 3, \"122\": 1, \"33\": 1, \"13\": 1, \"22\": 1, \"121\": 1, \"29\": 1, \"21\": 1, \"14\": 1, \"44\": 1, \"18\": 2}, \"94\": {\"94\": 46, \"27\": 3, \"6\": 1, \"95\": 1, \"70\": 1, \"125\": 5, \"15\": 5, \"106\": 6, \"30\": 1, \"75\": 1, \"36\": 5, \"96\": 1, \"0\": 1, \"124\": 1, \"111\": 4, \"8\": 1, \"98\": 1}, \"64\": {\"64\": 19, \"92\": 1}, \"78\": {\"110\": 1, \"79\": 1, \"60\": 1, \"67\": 1, \"113\": 1, \"1\": 1, \"64\": 1, \"74\": 1, \"55\": 1, \"3\": 1, \"30\": 1, \"34\": 1, \"48\": 1, \"40\": 1, \"21\": 2}, \"47\": {\"47\": 9, \"52\": 2, \"100\": 1}, \"127\": {\"78\": 2, \"112\": 1, \"30\": 1, \"5\": 8, \"127\": 86, \"71\": 4, \"8\": 1, \"10\": 4, \"4\": 1, \"0\": 1, \"105\": 4, \"111\": 1, \"88\": 1, \"93\": 1, \"110\": 2, \"70\": 1, \"7\": 1, \"40\": 2, \"3\": 4, \"125\": 1, \"102\": 1}, \"89\": {\"79\": 1, \"22\": 1, \"89\": 12, \"118\": 1, \"53\": 1, \"4\": 1, \"33\": 1, \"77\": 1, \"87\": 1, \"95\": 2, \"124\": 1, \"126\": 1, \"11\": 1, \"99\": 1, \"70\": 2}, \"79\": {\"79\": 12}, \"22\": {\"22\": 12, \"60\": 3, \"116\": 1}, \"117\": {\"2\": 2, \"117\": 64, \"93\": 14, \"81\": 1, \"43\": 3, \"63\": 1, \"87\": 1, \"33\": 13, \"39\": 6, \"16\": 2, \"118\": 3, \"44\": 1, \"90\": 1}, \"49\": {\"103\": 1, \"47\": 1, \"88\": 1, \"109\": 1, \"44\": 1, \"49\": 4, \"101\": 1, \"118\": 2, \"11\": 1, \"77\": 1, \"7\": 2, \"123\": 1, \"36\": 1, \"91\": 1, \"9\": 1, \"10\": 1, \"129\": 1, \"93\": 2}, \"14\": {\"14\": 51, \"32\": 1, \"105\": 1, \"50\": 1, \"69\": 6, \"57\": 1, \"62\": 6, \"43\": 1, \"107\": 2, \"4\": 1, \"114\": 1, \"40\": 1, \"11\": 1, \"55\": 1, \"74\": 1, \"122\": 1, \"16\": 2, \"18\": 1}, \"103\": {\"49\": 1, \"1\": 1, \"103\": 13, \"87\": 1}, \"123\": {\"123\": 12, \"63\": 1, \"81\": 2, \"93\": 1}, \"98\": {\"98\": 76, \"37\": 1, \"52\": 2, \"101\": 3, \"77\": 2, \"24\": 1, \"0\": 12, \"88\": 1, \"8\": 5, \"49\": 1, \"12\": 1, \"124\": 4, \"111\": 1, \"10\": 2, \"34\": 1, \"30\": 2, \"72\": 2, \"35\": 1, \"7\": 4, \"94\": 1, \"43\": 1, \"16\": 1, \"125\": 2, \"102\": 1}, \"18\": {\"31\": 1, \"81\": 2, \"18\": 82, \"43\": 1, \"113\": 2, \"120\": 1, \"44\": 8, \"126\": 4, \"39\": 3, \"93\": 1, \"92\": 1, \"67\": 1, \"88\": 1}, \"61\": {\"61\": 14, \"22\": 1, \"53\": 1}, \"108\": {\"107\": 1, \"108\": 41, \"70\": 3, \"47\": 1, \"13\": 1, \"3\": 4, \"8\": 4, \"5\": 10, \"88\": 7, \"0\": 3, \"105\": 5, \"16\": 1, \"127\": 9, \"10\": 11, \"110\": 2, \"12\": 4, \"7\": 3, \"39\": 2, \"40\": 2, \"28\": 1, \"36\": 1, \"19\": 1, \"41\": 1, \"128\": 1, \"71\": 1, \"84\": 1, \"11\": 1, \"111\": 1, \"87\": 1, \"98\": 1, \"125\": 1}, \"100\": {\"100\": 12, \"129\": 1, \"48\": 1, \"119\": 2}, \"0\": {\"98\": 12, \"10\": 4, \"51\": 1, \"42\": 2, \"0\": 43, \"99\": 1, \"77\": 1, \"101\": 1, \"94\": 1, \"7\": 4, \"124\": 4, \"30\": 5, \"88\": 3, \"12\": 5, \"11\": 1, \"70\": 4, \"108\": 1, \"127\": 1, \"36\": 1, \"15\": 1, \"3\": 2, \"111\": 5, \"6\": 2, \"8\": 4, \"73\": 1, \"60\": 1, \"72\": 1, \"49\": 1, \"35\": 1, \"106\": 2}, \"107\": {\"107\": 106, \"40\": 10, \"4\": 2, \"11\": 1, \"114\": 3, \"115\": 1, \"82\": 3, \"32\": 1, \"99\": 1, \"14\": 1, \"3\": 1}, \"58\": {\"58\": 14, \"73\": 1, \"42\": 1}, \"8\": {\"8\": 59, \"0\": 11, \"12\": 4, \"127\": 4, \"88\": 3, \"124\": 3, \"10\": 3, \"6\": 1, \"4\": 3, \"98\": 5, \"7\": 3, \"108\": 4, \"30\": 3, \"128\": 1, \"66\": 1, \"111\": 5, \"114\": 1, \"91\": 1, \"101\": 1, \"15\": 1, \"3\": 1, \"70\": 1, \"5\": 1}, \"85\": {\"108\": 1, \"85\": 22, \"104\": 1, \"41\": 1, \"13\": 1, \"101\": 2, \"12\": 2, \"9\": 2, \"19\": 1, \"0\": 1, \"8\": 1, \"98\": 1}, \"31\": {\"18\": 2, \"31\": 12, \"113\": 1, \"17\": 1, \"120\": 2, \"29\": 2}, \"81\": {\"18\": 1, \"31\": 1, \"81\": 25, \"92\": 1, \"96\": 1, \"87\": 1, \"44\": 2}, \"60\": {\"23\": 1, \"60\": 12, \"22\": 1, \"118\": 1, \"66\": 1, \"43\": 1, \"78\": 1, \"103\": 1, \"47\": 1, \"119\": 1, \"29\": 1, \"86\": 1, \"69\": 1, \"126\": 1, \"102\": 1, \"122\": 1, \"70\": 1}, \"102\": {\"102\": 74, \"62\": 4, \"14\": 1, \"26\": 8, \"16\": 7, \"84\": 9, \"11\": 4, \"109\": 3, \"1\": 2, \"110\": 1, \"118\": 3}, \"19\": {\"0\": 2, \"85\": 2, \"63\": 3, \"19\": 5, \"93\": 1, \"117\": 1, \"28\": 1, \"27\": 1, \"29\": 1, \"87\": 1, \"15\": 1, \"7\": 1, \"43\": 1, \"30\": 1, \"118\": 1, \"9\": 1, \"116\": 2, \"111\": 1, \"49\": 1, \"44\": 1, \"106\": 1, \"8\": 1, \"18\": 1}, \"23\": {\"108\": 1, \"85\": 1, \"23\": 7, \"99\": 1, \"90\": 2, \"67\": 2, \"52\": 1, \"21\": 1, \"18\": 2, \"101\": 1, \"73\": 2, \"49\": 1, \"123\": 1, \"39\": 1, \"40\": 1, \"98\": 1, \"44\": 1, \"71\": 2, \"8\": 1, \"3\": 1, \"7\": 1}, \"32\": {\"32\": 14, \"57\": 1, \"62\": 2, \"86\": 1, \"129\": 1, \"61\": 1, \"128\": 3, \"74\": 1, \"79\": 1, \"14\": 1, \"69\": 2, \"105\": 1, \"110\": 1, \"99\": 1, \"88\": 1}, \"39\": {\"63\": 1, \"39\": 32, \"81\": 4, \"93\": 9, \"118\": 4, \"21\": 4, \"113\": 9, \"43\": 4, \"28\": 1, \"126\": 10, \"92\": 2, \"18\": 5, \"44\": 3, \"33\": 5, \"117\": 8, \"11\": 1, \"16\": 1, \"26\": 4, \"64\": 1}, \"129\": {\"57\": 1, \"129\": 17, \"32\": 2, \"11\": 1, \"118\": 1, \"13\": 1, \"107\": 1, \"87\": 1, \"14\": 2, \"5\": 1, \"74\": 1, \"122\": 1, \"69\": 1, \"40\": 1}, \"71\": {\"101\": 1, \"99\": 1, \"71\": 49, \"5\": 7, \"127\": 5, \"111\": 1, \"84\": 1, \"23\": 1, \"105\": 2}, \"91\": {\"91\": 5, \"39\": 1, \"112\": 2, \"6\": 1, \"86\": 1, \"101\": 1, \"30\": 2, \"1\": 1, \"0\": 1, \"72\": 1, \"78\": 2, \"53\": 2, \"49\": 1, \"8\": 1, \"44\": 1, \"118\": 1}, \"101\": {\"101\": 37, \"34\": 1, \"10\": 1, \"12\": 2, \"30\": 3, \"8\": 1, \"124\": 2, \"95\": 1, \"98\": 3, \"51\": 1}, \"62\": {\"62\": 59, \"57\": 1, \"123\": 1, \"81\": 1, \"11\": 8, \"82\": 1, \"14\": 5, \"10\": 1, \"1\": 2, \"84\": 6, \"88\": 1, \"127\": 1, \"102\": 1, \"114\": 10, \"87\": 2, \"16\": 4, \"39\": 1, \"90\": 1, \"120\": 1, \"129\": 1, \"107\": 1, \"70\": 2, \"32\": 2, \"69\": 2, \"117\": 2, \"43\": 2, \"109\": 3}, \"63\": {\"63\": 14, \"96\": 1, \"123\": 1}, \"125\": {\"125\": 94, \"24\": 2, \"27\": 4, \"106\": 2, \"113\": 1, \"94\": 2, \"36\": 5, \"15\": 5, \"0\": 2, \"97\": 2, \"111\": 1}, \"57\": {\"123\": 1, \"32\": 1, \"57\": 11, \"48\": 2, \"42\": 1, \"100\": 1, \"5\": 1, \"129\": 1, \"109\": 1}, \"28\": {\"28\": 12, \"90\": 1, \"80\": 2, \"113\": 1}, \"70\": {\"28\": 1, \"101\": 1, \"70\": 9, \"22\": 1, \"106\": 2, \"59\": 1, \"105\": 2, \"2\": 1, \"13\": 1, \"77\": 1, \"98\": 1, \"34\": 1, \"113\": 2, \"92\": 1, \"8\": 5, \"0\": 2, \"71\": 1, \"124\": 4, \"117\": 1, \"5\": 1, \"10\": 2, \"90\": 2, \"30\": 1, \"126\": 2, \"127\": 2, \"4\": 2, \"15\": 1, \"3\": 2, \"42\": 2, \"80\": 1, \"128\": 1, \"44\": 3, \"111\": 2, \"39\": 1, \"88\": 1, \"118\": 1, \"87\": 1, \"7\": 1, \"94\": 3, \"11\": 2}, \"99\": {\"99\": 27, \"65\": 1, \"21\": 1, \"27\": 1, \"42\": 2, \"60\": 1, \"58\": 1, \"34\": 1, \"10\": 1}, \"121\": {\"121\": 9, \"60\": 1, \"67\": 2, \"61\": 3, \"48\": 2, \"99\": 1, \"126\": 1, \"53\": 1, \"21\": 2, \"50\": 1, \"120\": 1, \"80\": 1, \"2\": 2, \"119\": 2, \"90\": 1, \"96\": 1, \"124\": 1}, \"4\": {\"9\": 5, \"128\": 1, \"4\": 36, \"108\": 4, \"115\": 1, \"37\": 1, \"71\": 6, \"12\": 2, \"8\": 3, \"30\": 2, \"105\": 6, \"10\": 4, \"40\": 8, \"14\": 1, \"0\": 2, \"127\": 3, \"55\": 1, \"82\": 1, \"110\": 2, \"74\": 1, \"122\": 1, \"94\": 1, \"5\": 2, \"107\": 2}, \"80\": {\"80\": 12, \"39\": 2, \"96\": 2}, \"51\": {\"15\": 1, \"30\": 1, \"51\": 10, \"106\": 1, \"25\": 1, \"0\": 1, \"27\": 1}, \"3\": {\"3\": 95, \"108\": 3, \"125\": 1, \"12\": 1, \"126\": 1, \"127\": 5, \"7\": 1, \"5\": 4, \"10\": 1, \"62\": 1, \"87\": 2, \"90\": 1}, \"9\": {\"9\": 26, \"38\": 1, \"85\": 2, \"8\": 1, \"95\": 1, \"30\": 1}, \"53\": {\"53\": 11, \"112\": 2, \"115\": 3, \"45\": 1, \"1\": 1, \"106\": 1, \"40\": 1}, \"30\": {\"30\": 30, \"51\": 1, \"72\": 2, \"27\": 2, \"24\": 1, \"57\": 2, \"112\": 2, \"10\": 2, \"7\": 3, \"101\": 4, \"111\": 2, \"36\": 5, \"0\": 2, \"108\": 3, \"12\": 4, \"127\": 1, \"98\": 2, \"34\": 1, \"59\": 1, \"99\": 2, \"33\": 1, \"58\": 1, \"110\": 1, \"15\": 1, \"114\": 2, \"3\": 1, \"8\": 1, \"4\": 1, \"94\": 2, \"106\": 1}, \"33\": {\"33\": 100, \"93\": 5, \"109\": 3, \"118\": 5, \"117\": 5, \"11\": 1, \"26\": 2, \"10\": 1}, \"15\": {\"30\": 3, \"97\": 4, \"15\": 38, \"27\": 3, \"0\": 3, \"75\": 3, \"94\": 7, \"106\": 8, \"98\": 3, \"111\": 4, \"36\": 8, \"125\": 9, \"34\": 2, \"12\": 2, \"124\": 1, \"24\": 2, \"6\": 2, \"73\": 1, \"126\": 1}, \"97\": {\"80\": 1, \"30\": 2, \"97\": 9, \"73\": 3, \"125\": 2, \"106\": 1, \"101\": 1, \"15\": 1}, \"86\": {\"86\": 14, \"1\": 1, \"129\": 1, \"84\": 1, \"48\": 1, \"100\": 1, \"88\": 1, \"105\": 1, \"11\": 1, \"128\": 2, \"50\": 1, \"60\": 1, \"49\": 1, \"124\": 1}, \"20\": {\"20\": 9, \"23\": 1, \"22\": 1, \"67\": 1, \"65\": 2, \"18\": 2}, \"66\": {\"66\": 11, \"59\": 1, \"65\": 1, \"38\": 1, \"106\": 1, \"22\": 1}, \"10\": {\"72\": 1, \"78\": 1, \"56\": 1, \"48\": 1, \"111\": 3, \"60\": 1, \"89\": 1, \"120\": 1, \"88\": 5, \"122\": 1, \"10\": 25, \"99\": 2, \"73\": 1, \"121\": 1, \"128\": 1, \"30\": 3, \"8\": 8, \"7\": 4, \"85\": 1, \"16\": 3, \"126\": 2, \"95\": 1, \"70\": 4, \"12\": 11, \"49\": 2, \"11\": 1, \"108\": 1, \"98\": 5, \"124\": 3, \"84\": 2, \"114\": 1, \"127\": 7, \"91\": 1, \"112\": 1, \"116\": 1, \"1\": 1, \"110\": 1, \"62\": 1, \"43\": 1, \"0\": 3, \"87\": 1, \"26\": 1, \"106\": 1, \"90\": 1, \"109\": 1, \"40\": 1, \"3\": 1}, \"29\": {\"90\": 1, \"67\": 3, \"129\": 2, \"29\": 15, \"118\": 1, \"21\": 1, \"93\": 1, \"64\": 1, \"113\": 1, \"39\": 1, \"126\": 2, \"84\": 1, \"2\": 1, \"44\": 1}, \"109\": {\"69\": 6, \"63\": 1, \"76\": 1, \"32\": 1, \"113\": 11, \"21\": 5, \"44\": 1, \"109\": 16, \"100\": 1, \"11\": 6, \"82\": 1, \"2\": 1, \"18\": 8, \"5\": 1, \"128\": 1, \"118\": 4, \"114\": 4, \"126\": 8, \"16\": 2, \"90\": 6, \"26\": 1, \"102\": 2, \"62\": 6, \"33\": 1, \"84\": 4, \"93\": 1, \"22\": 1, \"116\": 1, \"129\": 1, \"74\": 1, \"64\": 1, \"107\": 1, \"39\": 1, \"87\": 1, \"14\": 1, \"117\": 1, \"1\": 1, \"110\": 1, \"43\": 1, \"108\": 1}, \"52\": {\"52\": 10, \"88\": 1, \"34\": 1, \"0\": 1, \"83\": 1, \"78\": 1, \"108\": 1}, \"67\": {\"67\": 16}, \"83\": {\"83\": 15, \"67\": 1, \"88\": 1, \"57\": 1, \"98\": 2, \"113\": 1, \"128\": 1, \"49\": 1, \"7\": 1}, \"72\": {\"72\": 17, \"124\": 1, \"6\": 1, \"37\": 1, \"0\": 1, \"34\": 2, \"95\": 1, \"19\": 1, \"30\": 1, \"97\": 1, \"42\": 1}, \"90\": {\"90\": 97, \"126\": 10, \"18\": 8, \"113\": 7, \"108\": 1, \"109\": 1, \"64\": 1, \"44\": 1}, \"69\": {\"69\": 61, \"40\": 1, \"62\": 4, \"87\": 3, \"14\": 6, \"102\": 1, \"16\": 1, \"110\": 1, \"109\": 1, \"11\": 3, \"89\": 1, \"84\": 1}, \"88\": {\"34\": 1, \"88\": 20, \"98\": 10, \"120\": 2, \"33\": 2, \"112\": 1, \"64\": 1, \"8\": 4, \"124\": 6, \"92\": 3, \"85\": 2, \"126\": 7, \"10\": 3, \"106\": 2, \"0\": 8, \"118\": 1, \"108\": 3, \"12\": 1, \"114\": 1, \"90\": 6, \"70\": 2, \"30\": 3, \"113\": 2, \"39\": 1, \"7\": 3, \"66\": 1, \"44\": 1, \"96\": 2, \"128\": 1, \"109\": 2, \"87\": 1, \"111\": 1, \"71\": 1, \"18\": 4, \"43\": 1, \"94\": 1, \"4\": 1}, \"115\": {\"115\": 11, \"88\": 1, \"55\": 2, \"40\": 1, \"4\": 1}, \"73\": {\"73\": 23, \"25\": 1, \"92\": 2, \"37\": 1, \"72\": 1, \"97\": 3, \"120\": 1, \"124\": 1, \"58\": 1, \"44\": 1, \"36\": 1, \"111\": 1, \"93\": 1, \"7\": 2}, \"34\": {\"129\": 2, \"6\": 2, \"34\": 5, \"116\": 1, \"42\": 1, \"88\": 1, \"24\": 2, \"114\": 2, \"11\": 3, \"110\": 1, \"94\": 1, \"58\": 2, \"128\": 1, \"62\": 1, \"20\": 1, \"51\": 2, \"25\": 2, \"79\": 1, \"73\": 1}, \"25\": {\"25\": 14, \"75\": 2}, \"44\": {\"123\": 1, \"44\": 57, \"113\": 5, \"18\": 3, \"118\": 1, \"90\": 1, \"126\": 2, \"93\": 1, \"33\": 1}, \"112\": {\"112\": 7, \"97\": 1, \"98\": 1, \"105\": 1, \"3\": 2, \"86\": 2, \"5\": 1, \"4\": 1}, \"37\": {\"111\": 1, \"98\": 3, \"37\": 8, \"73\": 2, \"80\": 1, \"101\": 1}, \"77\": {\"56\": 1, \"77\": 14, \"19\": 1}, \"111\": {\"111\": 96, \"124\": 3, \"73\": 3, \"30\": 2, \"0\": 1, \"106\": 1, \"12\": 4, \"127\": 1, \"10\": 1, \"98\": 3, \"101\": 2, \"7\": 1, \"27\": 1, \"94\": 1, \"15\": 1, \"8\": 1}, \"119\": {\"119\": 11, \"61\": 1, \"100\": 1, \"102\": 1, \"19\": 1, \"62\": 1}, \"56\": {\"56\": 4, \"101\": 2, \"51\": 2, \"0\": 2, \"95\": 1, \"60\": 1}, \"5\": {\"122\": 3, \"74\": 1, \"129\": 1, \"5\": 75, \"71\": 2, \"3\": 3, \"1\": 6, \"124\": 1, \"110\": 3, \"127\": 3, \"87\": 2, \"114\": 3, \"108\": 3, \"116\": 1, \"27\": 1, \"40\": 1, \"105\": 1, \"10\": 1, \"107\": 1}, \"122\": {\"5\": 2, \"119\": 1, \"122\": 16, \"102\": 2, \"13\": 2, \"116\": 1, \"129\": 1, \"1\": 3, \"3\": 1, \"106\": 1, \"87\": 2, \"82\": 1, \"118\": 2, \"117\": 1, \"114\": 2, \"14\": 2, \"10\": 1, \"62\": 2, \"39\": 3, \"11\": 2, \"43\": 1, \"44\": 1, \"103\": 1, \"15\": 1, \"70\": 1, \"49\": 2, \"69\": 1, \"105\": 1, \"97\": 1, \"16\": 1, \"110\": 1}, \"74\": {\"74\": 15, \"113\": 1}, \"11\": {\"118\": 5, \"11\": 29, \"69\": 5, \"122\": 1, \"21\": 1, \"100\": 1, \"19\": 2, \"90\": 6, \"82\": 1, \"33\": 2, \"18\": 6, \"40\": 1, \"87\": 4, \"110\": 4, \"62\": 14, \"89\": 1, \"126\": 3, \"29\": 1, \"39\": 5, \"14\": 9, \"114\": 7, \"26\": 2, \"102\": 4, \"93\": 6, \"113\": 2, \"125\": 1, \"109\": 5, \"84\": 2, \"107\": 6, \"120\": 1, \"129\": 2, \"88\": 2, \"85\": 1, \"2\": 1, \"67\": 1, \"10\": 1, \"108\": 1, \"117\": 2, \"5\": 1, \"43\": 1, \"127\": 1, \"16\": 1}, \"41\": {\"52\": 1, \"104\": 1, \"41\": 5, \"42\": 2, \"105\": 1, \"72\": 1, \"101\": 1, \"12\": 1, \"124\": 1, \"4\": 2}, \"104\": {\"104\": 13, \"115\": 1, \"8\": 1, \"105\": 1}, \"21\": {\"79\": 1, \"21\": 30, \"113\": 1, \"18\": 4, \"101\": 2, \"89\": 1, \"118\": 2, \"2\": 2, \"64\": 4, \"97\": 1}, \"118\": {\"21\": 1, \"62\": 2, \"118\": 27, \"6\": 1, \"11\": 5, \"90\": 5, \"84\": 8, \"120\": 3, \"29\": 1, \"92\": 2, \"109\": 5, \"33\": 3, \"39\": 2, \"113\": 2, \"102\": 7, \"117\": 1, \"126\": 4, \"69\": 4, \"26\": 2, \"17\": 1, \"100\": 2, \"80\": 1, \"96\": 2, \"43\": 1, \"110\": 1, \"44\": 1, \"24\": 1, \"16\": 3, \"88\": 1, \"93\": 1}, \"40\": {\"40\": 77, \"104\": 1, \"105\": 10, \"71\": 2, \"114\": 5, \"1\": 2, \"4\": 3, \"8\": 1, \"127\": 2, \"107\": 6, \"10\": 2, \"7\": 1, \"108\": 2, \"55\": 2, \"14\": 2, \"62\": 2, \"87\": 1, \"0\": 1}, \"6\": {\"15\": 5, \"94\": 1, \"73\": 1, \"125\": 2, \"91\": 1, \"54\": 1, \"6\": 11, \"101\": 1, \"0\": 1, \"111\": 1, \"36\": 2, \"12\": 1, \"52\": 1, \"97\": 2, \"7\": 1}, \"27\": {\"27\": 39, \"15\": 1, \"6\": 3, \"30\": 3, \"54\": 4, \"124\": 2, \"95\": 1, \"94\": 3, \"24\": 3, \"73\": 3, \"41\": 2, \"111\": 3, \"108\": 1, \"125\": 4, \"0\": 2, \"36\": 11, \"8\": 1, \"106\": 3, \"25\": 1, \"91\": 1, \"23\": 1, \"97\": 2, \"7\": 2}, \"113\": {\"113\": 79, \"26\": 1, \"2\": 1, \"90\": 5, \"43\": 1, \"126\": 18, \"18\": 3, \"92\": 2, \"44\": 2, \"64\": 1, \"67\": 2, \"118\": 1, \"21\": 1, \"88\": 2, \"109\": 1}, \"68\": {\"68\": 9, \"12\": 2, \"73\": 2, \"124\": 2, \"30\": 1}, \"12\": {\"68\": 1, \"47\": 1, \"12\": 46, \"4\": 4, \"8\": 7, \"70\": 1, \"10\": 7, \"85\": 1, \"111\": 7, \"0\": 4, \"30\": 6, \"98\": 5, \"127\": 2, \"88\": 1, \"7\": 2, \"46\": 1, \"52\": 1, \"101\": 2, \"108\": 3}, \"54\": {\"54\": 13, \"27\": 2, \"36\": 1}, \"24\": {\"24\": 13, \"37\": 1, \"73\": 2, \"106\": 1, \"59\": 1, \"30\": 1, \"77\": 1, \"94\": 1, \"0\": 2, \"42\": 2, \"36\": 2, \"75\": 2, \"86\": 1, \"27\": 3, \"34\": 1, \"98\": 1, \"58\": 2, \"6\": 1, \"104\": 1, \"8\": 2, \"15\": 3, \"112\": 1, \"111\": 1, \"125\": 2}, \"106\": {\"106\": 60, \"94\": 5, \"125\": 3, \"6\": 3, \"15\": 13, \"36\": 5, \"27\": 4, \"30\": 1, \"0\": 1, \"126\": 1, \"58\": 2, \"24\": 2}, \"128\": {\"48\": 1, \"86\": 2, \"128\": 22, \"19\": 1, \"108\": 1, \"99\": 1, \"5\": 1, \"122\": 1, \"32\": 2}, \"48\": {\"86\": 1, \"48\": 6, \"11\": 1, \"60\": 2, \"14\": 1, \"79\": 1, \"87\": 2, \"38\": 2}, \"92\": {\"92\": 29, \"126\": 2, \"64\": 1}, \"35\": {\"73\": 1, \"35\": 6, \"66\": 1, \"54\": 1, \"19\": 1, \"27\": 1, \"4\": 1}, \"116\": {\"20\": 1, \"22\": 1, \"116\": 9, \"43\": 1, \"18\": 1, \"76\": 1, \"67\": 1, \"44\": 1, \"70\": 1, \"99\": 2, \"11\": 1, \"23\": 1, \"63\": 1, \"74\": 1, \"28\": 1, \"126\": 1, \"33\": 1, \"29\": 1, \"53\": 1}, \"38\": {\"38\": 15, \"120\": 1}, \"126\": {\"126\": 104, \"44\": 1, \"21\": 3, \"113\": 9, \"90\": 1, \"39\": 3, \"64\": 2, \"88\": 1}, \"46\": {\"46\": 11, \"4\": 1, \"40\": 1, \"105\": 3}, \"120\": {\"120\": 18, \"92\": 2}, \"7\": {\"7\": 87, \"88\": 2, \"46\": 1, \"8\": 3, \"101\": 2, \"98\": 1, \"30\": 2, \"70\": 1, \"12\": 4, \"10\": 5, \"115\": 1, \"49\": 1, \"113\": 1, \"94\": 1}, \"13\": {\"13\": 1, \"120\": 4, \"18\": 2, \"69\": 1, \"74\": 1, \"80\": 1, \"62\": 2, \"122\": 1, \"52\": 1, \"123\": 2}, \"43\": {\"122\": 2, \"92\": 3, \"21\": 3, \"113\": 7, \"60\": 1, \"33\": 3, \"26\": 1, \"2\": 1, \"120\": 2, \"110\": 1, \"16\": 2, \"93\": 3, \"126\": 3, \"94\": 1, \"109\": 1, \"39\": 2, \"43\": 9, \"84\": 2, \"67\": 2, \"87\": 2, \"106\": 1, \"11\": 1, \"118\": 1, \"117\": 1, \"36\": 1}, \"93\": {\"93\": 67, \"31\": 1, \"113\": 4, \"90\": 7, \"43\": 2, \"18\": 10, \"126\": 5, \"88\": 2, \"109\": 2, \"33\": 17, \"117\": 4, \"39\": 4, \"16\": 1, \"21\": 2, \"96\": 1, \"92\": 1, \"11\": 1, \"44\": 1}, \"26\": {\"26\": 103, \"43\": 1, \"2\": 1, \"16\": 5, \"33\": 8, \"36\": 1, \"93\": 1, \"102\": 5, \"11\": 1, \"39\": 1, \"117\": 3, \"109\": 1, \"18\": 1}, \"76\": {\"20\": 1, \"39\": 1, \"76\": 9, \"28\": 1, \"22\": 2, \"90\": 1, \"93\": 1}, \"59\": {\"59\": 6, \"0\": 2, \"99\": 1, \"30\": 1, \"10\": 2}, \"65\": {\"65\": 10, \"99\": 1, \"20\": 1}, \"87\": {\"87\": 24, \"84\": 4, \"14\": 1, \"109\": 2, \"117\": 1, \"118\": 5, \"120\": 1, \"19\": 1, \"1\": 9, \"5\": 5, \"113\": 1, \"122\": 2, \"11\": 3, \"62\": 9, \"89\": 1, \"16\": 3, \"110\": 6, \"93\": 6, \"18\": 2, \"114\": 9, \"126\": 5, \"90\": 5, \"26\": 2, \"34\": 1, \"28\": 1, \"53\": 1, \"23\": 1, \"2\": 1, \"39\": 3, \"44\": 1, \"71\": 1, \"43\": 1, \"98\": 1, \"127\": 1}, \"124\": {\"30\": 1, \"127\": 1, \"124\": 76, \"52\": 2, \"73\": 1, \"9\": 2, \"10\": 2, \"5\": 1, \"98\": 6, \"95\": 1, \"108\": 1, \"8\": 3, \"0\": 3, \"111\": 3, \"34\": 2, \"12\": 2, \"125\": 1, \"113\": 1, \"37\": 1, \"38\": 1, \"77\": 1, \"78\": 1, \"68\": 1, \"41\": 1, \"35\": 1, \"7\": 2, \"94\": 3, \"27\": 1, \"88\": 1, \"93\": 1}, \"84\": {\"129\": 3, \"84\": 59, \"118\": 3, \"87\": 7, \"36\": 1, \"1\": 1, \"102\": 6, \"109\": 5, \"16\": 4, \"62\": 6, \"33\": 2, \"11\": 7, \"43\": 1, \"18\": 1, \"69\": 1, \"108\": 1}, \"82\": {\"82\": 23, \"74\": 1, \"71\": 1, \"1\": 1, \"105\": 1, \"107\": 1}, \"75\": {\"75\": 15, \"15\": 1}, \"17\": {\"115\": 1, \"120\": 1, \"67\": 1, \"104\": 1, \"79\": 1, \"21\": 1, \"113\": 3, \"17\": 1, \"31\": 1, \"95\": 1, \"56\": 1, \"52\": 1, \"42\": 1, \"27\": 1}, \"105\": {\"105\": 100, \"55\": 2, \"40\": 6, \"4\": 1, \"127\": 3, \"1\": 1, \"110\": 1, \"30\": 1, \"107\": 5, \"10\": 1, \"114\": 2, \"5\": 1}, \"95\": {\"95\": 23, \"125\": 1, \"7\": 3, \"9\": 2, \"32\": 1, \"101\": 1, \"111\": 1}, \"42\": {\"75\": 1, \"42\": 8, \"34\": 2, \"71\": 1, \"124\": 1, \"73\": 1, \"9\": 1, \"125\": 1, \"58\": 1, \"99\": 1, \"94\": 1, \"128\": 1, \"88\": 2, \"110\": 1, \"116\": 1, \"53\": 1, \"122\": 1, \"3\": 2}, \"55\": {\"55\": 11, \"115\": 1, \"82\": 3, \"40\": 1}, \"16\": {\"16\": 52, \"87\": 4, \"118\": 4, \"26\": 15, \"102\": 11, \"33\": 5, \"117\": 2, \"18\": 1, \"11\": 7, \"69\": 2, \"90\": 2, \"109\": 3, \"63\": 1, \"19\": 1, \"6\": 1, \"14\": 1, \"110\": 1, \"122\": 1, \"84\": 1, \"93\": 1}, \"50\": {\"50\": 10, \"129\": 1, \"14\": 2, \"10\": 1, \"110\": 1, \"82\": 1}, \"96\": {\"120\": 1, \"43\": 1, \"21\": 2, \"31\": 3, \"63\": 4, \"80\": 2, \"126\": 1, \"96\": 2, \"44\": 2, \"29\": 1, \"93\": 1}, \"45\": {\"45\": 11, \"14\": 2, \"107\": 1, \"76\": 1, \"62\": 1}, \"36\": {\"124\": 1, \"36\": 57, \"15\": 6, \"98\": 4, \"94\": 5, \"27\": 10, \"71\": 1, \"125\": 10, \"30\": 3, \"34\": 1, \"108\": 3, \"12\": 3, \"8\": 1, \"37\": 2, \"54\": 1, \"7\": 1, \"10\": 1, \"24\": 1, \"106\": 6, \"111\": 2, \"0\": 1}, \"114\": {\"114\": 87, \"5\": 3, \"26\": 1, \"1\": 9, \"62\": 6, \"27\": 1, \"70\": 1, \"88\": 2, \"11\": 1, \"16\": 1, \"110\": 2, \"127\": 2, \"116\": 1, \"109\": 1, \"3\": 1, \"4\": 1, \"18\": 1, \"87\": 3}}, \"W_4\": {\"113\": {\"113\": 91, \"80\": 2, \"21\": 4, \"90\": 6, \"126\": 15, \"39\": 1, \"88\": 1, \"117\": 2, \"18\": 2}, \"85\": {\"42\": 2, \"85\": 21, \"36\": 1, \"95\": 1, \"96\": 1, \"6\": 1, \"30\": 1}, \"34\": {\"34\": 3, \"72\": 1, \"83\": 1, \"115\": 1, \"88\": 1, \"50\": 2, \"32\": 1, \"92\": 1, \"42\": 1, \"75\": 1, \"47\": 2, \"76\": 1, \"95\": 1, \"30\": 2, \"46\": 1, \"60\": 1, \"25\": 2, \"108\": 1, \"74\": 1, \"27\": 1, \"10\": 2, \"36\": 2, \"114\": 2}, \"55\": {\"8\": 1, \"55\": 10, \"19\": 1, \"4\": 1, \"40\": 1, \"49\": 2}, \"42\": {\"42\": 4, \"8\": 2, \"11\": 2, \"37\": 3, \"116\": 1, \"49\": 1, \"34\": 2, \"43\": 3, \"44\": 1, \"119\": 1, \"30\": 1, \"65\": 1, \"56\": 2, \"95\": 1, \"70\": 1, \"122\": 1, \"2\": 1}, \"13\": {\"69\": 1, \"83\": 2, \"13\": 9, \"32\": 1, \"40\": 2, \"61\": 1}, \"69\": {\"13\": 1, \"69\": 76, \"118\": 3, \"39\": 2, \"8\": 1, \"84\": 2, \"43\": 1, \"107\": 2, \"14\": 4, \"102\": 12, \"1\": 2, \"90\": 1, \"93\": 1, \"3\": 1, \"36\": 1, \"11\": 2, \"33\": 3, \"18\": 1, \"110\": 1, \"40\": 1, \"21\": 1, \"117\": 2, \"16\": 1, \"87\": 1, \"71\": 1}, \"35\": {\"21\": 2, \"2\": 1, \"11\": 1, \"35\": 4, \"22\": 1, \"118\": 1, \"99\": 1, \"61\": 1}, \"83\": {\"83\": 11, \"113\": 1, \"14\": 3, \"1\": 1, \"128\": 2, \"82\": 1, \"42\": 1, \"99\": 1, \"93\": 1, \"70\": 1, \"11\": 2, \"88\": 1, \"87\": 1, \"43\": 1}, \"51\": {\"51\": 6, \"24\": 1, \"126\": 1, \"62\": 1, \"9\": 3, \"113\": 1, \"6\": 2, \"104\": 1}, \"72\": {\"69\": 1, \"113\": 1, \"72\": 11, \"21\": 1, \"84\": 3, \"39\": 2, \"109\": 1, \"44\": 1, \"102\": 2, \"99\": 1, \"26\": 1, \"33\": 2, \"11\": 1, \"118\": 1, \"122\": 1, \"71\": 1, \"117\": 1}, \"24\": {\"24\": 42, \"41\": 1, \"10\": 10, \"94\": 9, \"21\": 1, \"99\": 1, \"125\": 7, \"15\": 3, \"98\": 7, \"0\": 3, \"36\": 5, \"108\": 1, \"111\": 5, \"27\": 3, \"1\": 2, \"54\": 2, \"63\": 1, \"103\": 1, \"30\": 2, \"8\": 4, \"106\": 5, \"127\": 1, \"12\": 1, \"101\": 1, \"110\": 1, \"5\": 1}, \"53\": {\"53\": 9, \"44\": 1, \"88\": 2, \"91\": 1, \"111\": 1, \"29\": 2}, \"8\": {\"53\": 1, \"8\": 56, \"77\": 1, \"29\": 2, \"106\": 12, \"0\": 4, \"9\": 2, \"12\": 7, \"37\": 1, \"81\": 1, \"6\": 1, \"112\": 1, \"30\": 2, \"34\": 4, \"110\": 1, \"125\": 2, \"101\": 7, \"10\": 3, \"111\": 8, \"108\": 1, \"27\": 4, \"105\": 1, \"98\": 3, \"11\": 1, \"127\": 2, \"1\": 1, \"24\": 2, \"36\": 1, \"68\": 1, \"99\": 1, \"4\": 2, \"58\": 1, \"78\": 1, \"88\": 2, \"15\": 1, \"71\": 1, \"124\": 2}, \"49\": {\"49\": 4, \"113\": 1, \"2\": 2, \"12\": 2, \"117\": 2, \"111\": 1, \"5\": 1, \"41\": 1, \"26\": 1, \"88\": 1, \"34\": 1, \"44\": 3, \"98\": 2, \"81\": 2, \"122\": 1, \"18\": 2, \"93\": 2, \"7\": 1, \"3\": 1, \"101\": 1}, \"21\": {\"113\": 2, \"80\": 1, \"21\": 27, \"10\": 1, \"121\": 2, \"9\": 1, \"38\": 2, \"126\": 3, \"24\": 1}, \"18\": {\"80\": 2, \"18\": 103, \"63\": 2, \"66\": 1, \"44\": 4, \"93\": 2, \"90\": 1, \"2\": 1, \"116\": 2, \"113\": 1, \"117\": 1}, \"114\": {\"50\": 2, \"114\": 83, \"40\": 3, \"46\": 1, \"87\": 3, \"82\": 2, \"107\": 5, \"105\": 8, \"1\": 1, \"88\": 3, \"71\": 1, \"70\": 1, \"0\": 2, \"43\": 1, \"3\": 1, \"113\": 1}, \"58\": {\"58\": 10, \"21\": 1, \"47\": 1, \"36\": 1, \"6\": 1, \"15\": 2}, \"56\": {\"56\": 10, \"85\": 1, \"95\": 1}, \"80\": {\"80\": 16}, \"11\": {\"32\": 2, \"114\": 9, \"69\": 15, \"11\": 23, \"3\": 5, \"118\": 3, \"129\": 1, \"2\": 1, \"60\": 2, \"40\": 5, \"50\": 1, \"65\": 1, \"82\": 2, \"26\": 1, \"78\": 3, \"109\": 4, \"117\": 2, \"122\": 3, \"110\": 6, \"88\": 4, \"108\": 2, \"14\": 12, \"18\": 1, \"105\": 3, \"102\": 4, \"84\": 3, \"107\": 2, \"1\": 2, \"70\": 1, \"90\": 2, \"7\": 1, \"33\": 3, \"87\": 5, \"56\": 1, \"99\": 2, \"17\": 1, \"73\": 2, \"116\": 1, \"67\": 1, \"49\": 1, \"83\": 1, \"43\": 2, \"39\": 1, \"72\": 1, \"5\": 2, \"71\": 2, \"16\": 1, \"93\": 1}, \"15\": {\"58\": 4, \"15\": 40, \"123\": 1, \"55\": 1, \"10\": 8, \"8\": 5, \"9\": 1, \"75\": 1, \"34\": 1, \"12\": 4, \"27\": 2, \"94\": 7, \"111\": 6, \"105\": 1, \"24\": 3, \"36\": 5, \"106\": 6, \"98\": 7, \"125\": 7, \"127\": 1, \"93\": 1, \"49\": 2, \"22\": 1, \"29\": 2, \"6\": 1, \"0\": 1, \"30\": 3, \"69\": 1, \"101\": 5}, \"50\": {\"50\": 8, \"40\": 2, \"71\": 1, \"62\": 1, \"115\": 3, \"32\": 1}, \"111\": {\"15\": 3, \"111\": 105, \"8\": 4, \"30\": 2, \"127\": 5, \"4\": 2, \"101\": 4, \"70\": 2, \"12\": 2, \"98\": 3, \"88\": 1, \"49\": 2, \"27\": 1, \"10\": 1, \"36\": 1}, \"108\": {\"83\": 1, \"11\": 3, \"69\": 4, \"108\": 18, \"84\": 2, \"116\": 1, \"102\": 4, \"115\": 1, \"113\": 5, \"18\": 3, \"121\": 1, \"15\": 1, \"110\": 2, \"93\": 3, \"88\": 2, \"39\": 6, \"44\": 1, \"109\": 2, \"81\": 1, \"70\": 2, \"114\": 1, \"43\": 4, \"126\": 2, \"1\": 2, \"3\": 2, \"60\": 1, \"14\": 1, \"119\": 1, \"10\": 2, \"65\": 1, \"79\": 1, \"35\": 1, \"30\": 1, \"72\": 2, \"87\": 1, \"16\": 3, \"118\": 1, \"0\": 1, \"8\": 1}, \"104\": {\"104\": 8, \"17\": 2, \"127\": 1, \"4\": 1, \"124\": 1, \"29\": 1, \"28\": 2}, \"32\": {\"32\": 18, \"118\": 1, \"64\": 1, \"49\": 1, \"129\": 1, \"42\": 1, \"14\": 1, \"88\": 1, \"11\": 1, \"92\": 1, \"101\": 1}, \"68\": {\"111\": 3, \"68\": 10, \"4\": 1, \"122\": 1, \"127\": 1}, \"73\": {\"13\": 3, \"73\": 13, \"62\": 4, \"84\": 1, \"100\": 1, \"118\": 1, \"14\": 1}, \"92\": {\"73\": 2, \"92\": 14, \"45\": 1, \"113\": 1, \"11\": 2, \"32\": 1, \"76\": 1, \"40\": 1, \"115\": 1, \"61\": 1, \"7\": 2, \"39\": 1}, \"57\": {\"57\": 16}, \"40\": {\"107\": 21, \"71\": 6, \"40\": 78, \"68\": 1, \"114\": 6, \"18\": 1, \"15\": 1, \"101\": 1, \"106\": 1, \"105\": 2, \"4\": 2, \"14\": 3, \"110\": 1, \"55\": 1, \"1\": 2, \"94\": 1, \"92\": 1, \"27\": 1, \"0\": 1, \"69\": 3, \"3\": 1, \"87\": 1}, \"71\": {\"71\": 70, \"114\": 10, \"45\": 1, \"19\": 1, \"105\": 5, \"70\": 1, \"12\": 3, \"3\": 2, \"126\": 1, \"107\": 1, \"4\": 2, \"27\": 1, \"29\": 1, \"101\": 1, \"87\": 1, \"11\": 1, \"1\": 1, \"0\": 1}, \"121\": {\"121\": 4, \"80\": 1, \"0\": 2, \"21\": 5, \"100\": 3, \"113\": 2, \"93\": 2, \"26\": 2, \"120\": 2, \"116\": 1, \"63\": 1, \"76\": 2, \"89\": 1, \"46\": 1, \"44\": 1, \"18\": 2}, \"62\": {\"73\": 3, \"57\": 1, \"102\": 10, \"3\": 2, \"62\": 7, \"54\": 1, \"118\": 2, \"46\": 2, \"99\": 1, \"117\": 1, \"34\": 1, \"82\": 2, \"33\": 4, \"113\": 1, \"108\": 2, \"69\": 4, \"32\": 3, \"16\": 2, \"9\": 1, \"88\": 1, \"41\": 1, \"66\": 1, \"119\": 1, \"36\": 1, \"84\": 1, \"14\": 1, \"126\": 1, \"87\": 2}, \"39\": {\"21\": 3, \"39\": 34, \"80\": 1, \"88\": 1, \"38\": 2, \"126\": 4, \"36\": 2, \"93\": 3, \"44\": 7, \"113\": 17, \"26\": 5, \"18\": 1, \"90\": 7, \"117\": 5, \"30\": 1, \"124\": 1, \"109\": 2, \"49\": 1, \"16\": 2, \"122\": 1}, \"107\": {\"107\": 101, \"40\": 13, \"44\": 1, \"114\": 10, \"105\": 5, \"70\": 3, \"14\": 3, \"43\": 1, \"71\": 2, \"118\": 2, \"117\": 1, \"124\": 1, \"109\": 1}, \"60\": {\"64\": 1, \"106\": 1, \"45\": 1, \"123\": 2, \"128\": 1, \"91\": 1, \"22\": 2, \"103\": 1, \"2\": 1, \"37\": 1, \"72\": 1, \"65\": 1, \"63\": 1, \"98\": 1, \"19\": 1, \"74\": 2, \"81\": 1, \"34\": 1, \"51\": 1, \"121\": 1, \"112\": 1, \"60\": 4, \"29\": 1, \"109\": 1, \"88\": 1, \"39\": 1}, \"129\": {\"87\": 2, \"33\": 1, \"12\": 1, \"129\": 6, \"119\": 1, \"1\": 1, \"27\": 1, \"122\": 1, \"105\": 1, \"97\": 1, \"14\": 1, \"55\": 2, \"36\": 1, \"0\": 1, \"79\": 1, \"46\": 1, \"62\": 1, \"49\": 1, \"40\": 2, \"71\": 1}, \"84\": {\"118\": 3, \"84\": 70, \"69\": 3, \"121\": 1, \"117\": 6, \"43\": 6, \"72\": 1, \"126\": 2, \"16\": 13, \"99\": 1, \"3\": 2, \"88\": 1, \"5\": 1, \"122\": 2, \"87\": 3, \"26\": 5, \"18\": 1, \"93\": 2, \"33\": 3, \"110\": 2, \"39\": 1, \"113\": 1, \"109\": 1, \"108\": 1}, \"106\": {\"106\": 68, \"8\": 3, \"9\": 2, \"25\": 1, \"12\": 5, \"58\": 1, \"125\": 7, \"47\": 2, \"15\": 7, \"24\": 2, \"94\": 1, \"36\": 1, \"111\": 3, \"30\": 2, \"91\": 1, \"98\": 1, \"6\": 1, \"10\": 2, \"95\": 1, \"1\": 2, \"70\": 1, \"108\": 1, \"101\": 1}, \"87\": {\"110\": 5, \"87\": 25, \"14\": 4, \"83\": 2, \"129\": 4, \"82\": 3, \"26\": 3, \"71\": 5, \"114\": 12, \"105\": 8, \"122\": 4, \"44\": 1, \"81\": 1, \"3\": 3, \"108\": 5, \"39\": 2, \"1\": 3, \"84\": 3, \"43\": 3, \"40\": 5, \"11\": 2, \"126\": 1, \"18\": 6, \"107\": 1, \"93\": 3, \"109\": 3, \"88\": 2, \"5\": 2, \"0\": 1, \"70\": 2, \"2\": 2, \"21\": 1, \"16\": 1, \"78\": 1, \"69\": 1, \"33\": 1, \"117\": 1}, \"110\": {\"18\": 5, \"11\": 4, \"44\": 1, \"102\": 4, \"2\": 1, \"129\": 2, \"38\": 1, \"43\": 5, \"48\": 1, \"109\": 6, \"113\": 5, \"84\": 3, \"110\": 21, \"26\": 3, \"90\": 4, \"126\": 1, \"16\": 2, \"24\": 1, \"33\": 5, \"93\": 7, \"122\": 1, \"5\": 2, \"69\": 3, \"108\": 2, \"87\": 3, \"3\": 1}, \"118\": {\"107\": 5, \"18\": 1, \"108\": 2, \"118\": 21, \"109\": 2, \"62\": 1, \"16\": 3, \"87\": 2, \"14\": 4, \"43\": 1, \"119\": 1, \"82\": 3, \"11\": 4, \"129\": 2, \"19\": 1, \"114\": 6, \"100\": 1, \"33\": 6, \"102\": 4, \"105\": 3, \"93\": 3, \"71\": 2, \"26\": 1, \"1\": 1, \"39\": 2, \"69\": 9, \"40\": 5, \"113\": 2, \"110\": 3, \"122\": 3, \"88\": 3, \"99\": 2, \"44\": 1, \"101\": 1, \"4\": 1}, \"64\": {\"64\": 12, \"19\": 1, \"80\": 1, \"28\": 1, \"17\": 1}, \"82\": {\"110\": 1, \"82\": 12, \"69\": 2, \"17\": 1, \"14\": 1, \"86\": 1, \"85\": 1, \"102\": 4, \"4\": 1, \"118\": 3, \"120\": 1, \"107\": 2, \"40\": 1, \"8\": 1}, \"7\": {\"7\": 85, \"100\": 1, \"11\": 5, \"112\": 1, \"111\": 2, \"88\": 5, \"3\": 2, \"105\": 1, \"1\": 1, \"70\": 8, \"87\": 2, \"27\": 1, \"127\": 1, \"2\": 1, \"6\": 1, \"92\": 1, \"95\": 1, \"0\": 2, \"126\": 2, \"5\": 1}, \"0\": {\"60\": 1, \"0\": 31, \"91\": 1, \"83\": 1, \"23\": 1, \"95\": 2, \"127\": 6, \"43\": 1, \"8\": 3, \"101\": 10, \"1\": 4, \"3\": 3, \"4\": 4, \"88\": 6, \"111\": 6, \"12\": 1, \"71\": 2, \"11\": 3, \"87\": 3, \"98\": 1, \"27\": 4, \"70\": 4, \"14\": 1, \"10\": 1, \"90\": 1, \"41\": 1, \"19\": 1, \"76\": 1, \"100\": 1, \"78\": 1, \"85\": 1, \"21\": 2, \"124\": 1, \"86\": 1, \"108\": 1, \"30\": 1, \"118\": 1, \"106\": 2}, \"41\": {\"85\": 1, \"41\": 7, \"49\": 1, \"1\": 1, \"93\": 1, \"24\": 1, \"29\": 1, \"101\": 1, \"27\": 1, \"12\": 1}, \"102\": {\"102\": 81, \"14\": 5, \"128\": 1, \"122\": 2, \"109\": 2, \"118\": 1, \"16\": 6, \"26\": 1, \"69\": 7, \"84\": 4, \"11\": 3, \"33\": 5, \"43\": 2, \"3\": 2, \"90\": 1, \"116\": 1, \"2\": 1, \"87\": 1, \"62\": 1, \"108\": 2, \"88\": 1}, \"89\": {\"83\": 1, \"89\": 19, \"100\": 1, \"96\": 1, \"73\": 1, \"5\": 1, \"49\": 1, \"78\": 1, \"62\": 1, \"128\": 1, \"95\": 1, \"1\": 1, \"19\": 1, \"28\": 1}, \"26\": {\"18\": 4, \"62\": 2, \"26\": 68, \"87\": 2, \"72\": 3, \"126\": 1, \"39\": 3, \"5\": 7, \"118\": 1, \"117\": 13, \"84\": 2, \"90\": 2, \"16\": 4, \"109\": 3, \"93\": 2, \"108\": 1, \"44\": 2, \"57\": 2, \"122\": 1, \"2\": 1, \"52\": 1, \"33\": 1, \"110\": 2}, \"103\": {\"103\": 13, \"88\": 1, \"27\": 1, \"106\": 1}, \"90\": {\"113\": 6, \"90\": 82, \"66\": 1, \"121\": 3, \"21\": 3, \"126\": 15, \"109\": 2, \"18\": 1, \"88\": 3, \"11\": 1, \"117\": 1}, \"14\": {\"83\": 2, \"14\": 43, \"121\": 1, \"43\": 3, \"62\": 1, \"129\": 1, \"31\": 1, \"107\": 4, \"3\": 5, \"46\": 2, \"1\": 6, \"87\": 6, \"105\": 4, \"114\": 3, \"122\": 2, \"40\": 5, \"69\": 7, \"11\": 5, \"102\": 1, \"115\": 2, \"88\": 2, \"120\": 2, \"73\": 1, \"67\": 2, \"70\": 1}, \"9\": {\"103\": 1, \"9\": 21, \"15\": 1, \"106\": 1, \"47\": 1, \"12\": 2, \"101\": 1}, \"5\": {\"5\": 91, \"87\": 3, \"96\": 1, \"43\": 3, \"73\": 1, \"128\": 1, \"3\": 5, \"81\": 1, \"113\": 2, \"44\": 1, \"122\": 2, \"110\": 5, \"88\": 1, \"117\": 3, \"109\": 1, \"124\": 1, \"18\": 3, \"93\": 5, \"108\": 1, \"67\": 1, \"116\": 1, \"7\": 1, \"78\": 1, \"69\": 1}, \"22\": {\"22\": 9, \"89\": 3, \"20\": 1, \"60\": 1, \"76\": 2}, \"2\": {\"84\": 1, \"2\": 13, \"18\": 3, \"81\": 1, \"43\": 1, \"14\": 1, \"102\": 1, \"113\": 1, \"16\": 2, \"126\": 1, \"11\": 1, \"57\": 1, \"33\": 1}, \"77\": {\"59\": 1, \"77\": 6, \"53\": 2, \"27\": 1, \"91\": 1, \"70\": 1}, \"59\": {\"77\": 3, \"59\": 5, \"80\": 1, \"81\": 1, \"98\": 1, \"10\": 1}, \"127\": {\"127\": 77, \"4\": 3, \"37\": 1, \"78\": 1, \"95\": 3, \"71\": 1, \"81\": 1, \"111\": 4, \"106\": 1, \"0\": 4, \"122\": 1, \"90\": 1, \"8\": 3, \"98\": 1}, \"61\": {\"61\": 6, \"11\": 1, \"31\": 1, \"21\": 2, \"28\": 1, \"26\": 1, \"45\": 1, \"62\": 1, \"126\": 1, \"112\": 1}, \"17\": {\"55\": 1, \"17\": 17, \"5\": 1, \"79\": 1}, \"45\": {\"45\": 10, \"118\": 1, \"11\": 1, \"14\": 2, \"120\": 1, \"100\": 1}, \"19\": {\"123\": 2, \"5\": 5, \"95\": 2, \"15\": 2, \"39\": 1, \"44\": 3, \"40\": 1, \"18\": 1, \"108\": 1, \"8\": 2, \"70\": 1, \"2\": 1, \"0\": 1, \"26\": 3, \"129\": 1, \"105\": 1}, \"52\": {\"52\": 12, \"8\": 1, \"113\": 1, \"34\": 1, \"59\": 1, \"29\": 2, \"127\": 1, \"10\": 1}, \"123\": {\"29\": 1, \"90\": 1, \"62\": 1, \"113\": 1, \"123\": 9, \"54\": 1, \"81\": 1, \"75\": 1}, \"20\": {\"20\": 9, \"39\": 1, \"89\": 1, \"3\": 1, \"121\": 2, \"22\": 2}, \"112\": {\"112\": 11, \"29\": 1, \"71\": 2, \"41\": 1, \"103\": 1}, \"37\": {\"37\": 14, \"103\": 1, \"8\": 1}, \"29\": {\"29\": 24, \"12\": 2, \"30\": 1, \"41\": 1, \"68\": 2, \"111\": 1, \"58\": 1}, \"128\": {\"128\": 4, \"105\": 1, \"79\": 1, \"83\": 1, \"122\": 1, \"88\": 2, \"5\": 1, \"127\": 1, \"113\": 1, \"39\": 1, \"115\": 1, \"26\": 1, \"28\": 1, \"43\": 1, \"14\": 1, \"89\": 1, \"70\": 1, \"92\": 1, \"129\": 1, \"124\": 1}, \"100\": {\"73\": 1, \"100\": 12, \"128\": 2, \"62\": 1, \"43\": 1, \"31\": 1, \"109\": 1, \"89\": 1}, \"67\": {\"67\": 3, \"113\": 2, \"115\": 1, \"38\": 1, \"126\": 1, \"40\": 1, \"44\": 1, \"45\": 2, \"13\": 1, \"14\": 1, \"90\": 2}, \"12\": {\"12\": 53, \"64\": 1, \"106\": 3, \"6\": 1, \"29\": 2, \"27\": 3, \"34\": 1, \"94\": 2, \"111\": 11, \"101\": 1, \"30\": 1, \"98\": 2, \"93\": 1, \"108\": 1, \"4\": 1, \"10\": 2, \"8\": 2, \"58\": 2, \"95\": 1, \"15\": 3, \"127\": 2, \"122\": 1, \"16\": 1, \"124\": 2}, \"101\": {\"101\": 55, \"111\": 7, \"27\": 7, \"91\": 1, \"127\": 6, \"4\": 2, \"0\": 10, \"70\": 6, \"106\": 4, \"88\": 3, \"114\": 2, \"7\": 3, \"12\": 4, \"98\": 4, \"14\": 1, \"87\": 2, \"108\": 1, \"71\": 3, \"125\": 1, \"49\": 1, \"1\": 1, \"8\": 4}, \"76\": {\"20\": 1, \"76\": 10, \"43\": 1, \"42\": 1, \"84\": 1, \"64\": 1, \"81\": 1}, \"70\": {\"101\": 5, \"29\": 1, \"100\": 1, \"70\": 13, \"18\": 3, \"27\": 8, \"82\": 1, \"17\": 2, \"125\": 2, \"52\": 1, \"39\": 2, \"5\": 2, \"71\": 3, \"3\": 2, \"98\": 7, \"122\": 3, \"11\": 3, \"111\": 2, \"8\": 5, \"113\": 2, \"109\": 3, \"81\": 1, \"87\": 6, \"124\": 1, \"43\": 2, \"90\": 5, \"106\": 1, \"93\": 5, \"4\": 3, \"0\": 1, \"126\": 1, \"108\": 1, \"99\": 1, \"15\": 2, \"95\": 1, \"26\": 1, \"127\": 5, \"7\": 1, \"123\": 2, \"40\": 2, \"49\": 1, \"24\": 2, \"34\": 1, \"117\": 1, \"107\": 1, \"118\": 2, \"114\": 2, \"16\": 1}, \"31\": {\"39\": 1, \"31\": 8, \"129\": 1, \"45\": 2, \"115\": 1, \"120\": 2, \"11\": 1}, \"86\": {\"86\": 19, \"14\": 2, \"82\": 1, \"129\": 1, \"50\": 1, \"102\": 1, \"11\": 2, \"87\": 1}, \"88\": {\"39\": 10, \"86\": 1, \"38\": 2, \"71\": 2, \"53\": 1, \"72\": 1, \"21\": 1, \"66\": 2, \"126\": 9, \"41\": 1, \"98\": 6, \"111\": 2, \"88\": 11, \"90\": 8, \"27\": 4, \"10\": 3, \"8\": 4, \"44\": 2, \"114\": 1, \"93\": 3, \"113\": 4, \"105\": 1, \"81\": 3, \"18\": 3, \"4\": 3, \"118\": 2, \"7\": 1, \"5\": 2, \"24\": 1, \"40\": 1, \"69\": 1, \"101\": 7, \"109\": 1, \"0\": 4, \"70\": 2, \"83\": 1, \"119\": 1, \"9\": 1, \"67\": 2, \"77\": 1, \"116\": 1, \"29\": 1, \"30\": 1, \"110\": 3, \"36\": 1, \"106\": 2, \"12\": 1, \"125\": 2, \"117\": 2, \"108\": 1, \"15\": 1}, \"3\": {\"3\": 76, \"19\": 1, \"100\": 2, \"87\": 7, \"1\": 6, \"71\": 2, \"70\": 4, \"18\": 1, \"110\": 2, \"14\": 3, \"122\": 1, \"109\": 1, \"43\": 4, \"5\": 2, \"90\": 1, \"11\": 2, \"33\": 2, \"73\": 1, \"80\": 1, \"40\": 2, \"72\": 1, \"0\": 1, \"88\": 2, \"114\": 1}, \"117\": {\"92\": 2, \"102\": 1, \"117\": 70, \"72\": 1, \"122\": 3, \"2\": 2, \"126\": 2, \"44\": 1, \"109\": 2, \"43\": 1, \"108\": 2, \"26\": 13, \"84\": 5, \"90\": 1, \"5\": 5, \"16\": 3, \"79\": 1, \"62\": 1, \"18\": 1, \"93\": 2, \"87\": 1}, \"30\": {\"53\": 1, \"9\": 2, \"30\": 27, \"127\": 1, \"106\": 6, \"47\": 2, \"8\": 3, \"125\": 3, \"15\": 3, \"98\": 4, \"7\": 1, \"90\": 1, \"111\": 1, \"36\": 1, \"27\": 2, \"10\": 1, \"71\": 1, \"1\": 1, \"101\": 1, \"75\": 1, \"34\": 2, \"42\": 1, \"24\": 3, \"6\": 1, \"70\": 1, \"12\": 4, \"0\": 1}, \"96\": {\"117\": 2, \"100\": 1, \"96\": 3, \"116\": 1, \"60\": 1, \"113\": 1, \"43\": 3, \"76\": 1, \"87\": 1, \"2\": 2, \"33\": 1, \"84\": 1, \"61\": 1, \"119\": 1}, \"27\": {\"27\": 24, \"44\": 1, \"103\": 1, \"46\": 1, \"12\": 2, \"34\": 2, \"8\": 8, \"9\": 1, \"95\": 2, \"70\": 4, \"43\": 1, \"100\": 2, \"4\": 4, \"106\": 2, \"88\": 2, \"98\": 5, \"39\": 2, \"101\": 7, \"10\": 2, \"7\": 3, \"108\": 1, \"11\": 1, \"111\": 1, \"126\": 2, \"110\": 2, \"105\": 1, \"90\": 1, \"93\": 1, \"36\": 1, \"91\": 1, \"0\": 4, \"38\": 1, \"125\": 1, \"26\": 1, \"30\": 1, \"86\": 1, \"97\": 1, \"94\": 1, \"15\": 1}, \"122\": {\"122\": 10, \"44\": 7, \"2\": 1, \"43\": 4, \"119\": 1, \"17\": 1, \"129\": 1, \"39\": 6, \"105\": 2, \"33\": 6, \"126\": 1, \"87\": 6, \"117\": 9, \"16\": 1, \"88\": 1, \"93\": 3, \"90\": 1, \"84\": 4, \"3\": 1, \"113\": 2, \"26\": 1, \"5\": 3, \"21\": 2, \"62\": 2, \"74\": 1, \"69\": 1, \"11\": 1, \"14\": 1, \"109\": 2, \"108\": 1, \"0\": 1}, \"120\": {\"40\": 1, \"120\": 11, \"64\": 2, \"21\": 1, \"45\": 2, \"31\": 1, \"0\": 1, \"96\": 1}, \"44\": {\"44\": 48, \"117\": 1, \"18\": 3, \"39\": 4, \"81\": 3, \"93\": 2, \"113\": 1, \"121\": 1, \"26\": 1}, \"79\": {\"79\": 12, \"89\": 2, \"70\": 1, \"44\": 1}, \"105\": {\"105\": 47, \"1\": 1, \"82\": 3, \"40\": 9, \"129\": 1, \"14\": 5, \"93\": 1, \"118\": 1, \"11\": 3, \"88\": 1, \"86\": 2, \"78\": 1, \"69\": 1, \"5\": 1, \"43\": 2, \"114\": 7, \"71\": 5, \"115\": 2, \"98\": 1, \"73\": 2, \"17\": 1, \"125\": 1, \"39\": 2}, \"95\": {\"95\": 19, \"127\": 2, \"86\": 1, \"8\": 2, \"34\": 1, \"21\": 1, \"55\": 1, \"51\": 1, \"111\": 1, \"114\": 1, \"0\": 1, \"26\": 1}, \"109\": {\"80\": 3, \"113\": 6, \"109\": 9, \"126\": 15, \"99\": 1, \"66\": 1, \"11\": 4, \"122\": 4, \"82\": 2, \"81\": 2, \"116\": 1, \"102\": 13, \"118\": 5, \"18\": 3, \"90\": 4, \"3\": 3, \"84\": 3, \"40\": 2, \"117\": 2, \"33\": 4, \"93\": 2, \"69\": 7, \"16\": 5, \"13\": 2, \"14\": 2, \"39\": 3, \"88\": 2, \"21\": 1, \"129\": 1, \"110\": 4}, \"16\": {\"102\": 12, \"16\": 57, \"84\": 9, \"69\": 4, \"11\": 3, \"110\": 2, \"93\": 1, \"118\": 1, \"26\": 4, \"108\": 3, \"122\": 2, \"88\": 1, \"33\": 5, \"90\": 3, \"124\": 1, \"109\": 3, \"117\": 1, \"13\": 2, \"74\": 1, \"126\": 1, \"5\": 1, \"43\": 1}, \"36\": {\"36\": 49, \"58\": 1, \"6\": 2, \"12\": 1, \"125\": 9, \"52\": 1, \"46\": 1, \"15\": 2, \"98\": 5, \"124\": 2, \"94\": 4, \"30\": 2, \"126\": 1, \"24\": 5, \"111\": 2, \"8\": 2, \"27\": 2, \"70\": 2, \"54\": 1, \"75\": 1, \"106\": 1, \"26\": 1, \"101\": 1}, \"125\": {\"125\": 110, \"97\": 1, \"36\": 10, \"6\": 1, \"106\": 2, \"39\": 1, \"94\": 2, \"10\": 2, \"24\": 5, \"15\": 2}, \"97\": {\"97\": 9, \"10\": 3, \"72\": 1, \"98\": 2, \"8\": 1, \"85\": 1, \"1\": 1, \"43\": 2}, \"91\": {\"111\": 1, \"91\": 6, \"9\": 1, \"54\": 1, \"127\": 1, \"82\": 1, \"85\": 1, \"103\": 1, \"23\": 1, \"15\": 1, \"53\": 1, \"52\": 1, \"30\": 1, \"88\": 1, \"27\": 1, \"29\": 2, \"8\": 1, \"47\": 1}, \"28\": {\"126\": 1, \"28\": 10, \"115\": 1, \"103\": 1, \"120\": 1, \"13\": 1, \"56\": 1, \"64\": 2, \"89\": 1, \"70\": 1}, \"81\": {\"18\": 4, \"123\": 2, \"81\": 21, \"93\": 2, \"109\": 1, \"39\": 2, \"63\": 2, \"80\": 1, \"122\": 1}, \"126\": {\"81\": 2, \"126\": 85, \"124\": 1, \"21\": 3, \"113\": 14, \"78\": 1, \"90\": 8, \"36\": 1, \"0\": 1, \"51\": 1, \"39\": 1, \"38\": 1, \"88\": 1, \"93\": 2}, \"4\": {\"4\": 49, \"129\": 1, \"8\": 5, \"10\": 1, \"126\": 1, \"101\": 7, \"127\": 8, \"98\": 2, \"0\": 3, \"114\": 5, \"107\": 5, \"88\": 1, \"39\": 1, \"105\": 2, \"90\": 1, \"24\": 1, \"106\": 1, \"1\": 2, \"40\": 1, \"41\": 1, \"71\": 2, \"17\": 1, \"95\": 1, \"110\": 1, \"69\": 1}, \"10\": {\"10\": 26, \"36\": 7, \"15\": 5, \"54\": 1, \"5\": 2, \"24\": 9, \"111\": 3, \"125\": 9, \"8\": 5, \"88\": 3, \"101\": 3, \"94\": 9, \"70\": 8, \"3\": 2, \"12\": 1, \"7\": 2, \"90\": 1, \"30\": 3, \"106\": 4, \"0\": 2, \"33\": 1, \"108\": 1, \"27\": 1, \"109\": 1, \"23\": 1, \"48\": 1, \"85\": 1, \"21\": 1, \"92\": 1, \"98\": 1, \"49\": 1, \"59\": 1, \"52\": 2, \"18\": 1, \"87\": 2, \"11\": 1, \"93\": 1}, \"63\": {\"63\": 13, \"39\": 2, \"113\": 1}, \"43\": {\"1\": 6, \"100\": 1, \"14\": 7, \"118\": 4, \"20\": 1, \"73\": 1, \"21\": 3, \"44\": 1, \"105\": 4, \"78\": 1, \"26\": 2, \"11\": 6, \"69\": 1, \"126\": 4, \"3\": 6, \"43\": 18, \"90\": 7, \"7\": 1, \"109\": 3, \"81\": 1, \"70\": 2, \"108\": 2, \"122\": 3, \"113\": 7, \"18\": 5, \"102\": 1, \"107\": 1, \"121\": 1, \"63\": 1, \"67\": 1, \"79\": 1, \"110\": 3, \"93\": 4, \"39\": 2, \"71\": 1, \"33\": 1, \"5\": 1, \"114\": 3}, \"116\": {\"96\": 1, \"60\": 1, \"74\": 2, \"48\": 1, \"124\": 1, \"116\": 9, \"39\": 1, \"33\": 1, \"100\": 2, \"16\": 1, \"92\": 1, \"23\": 1, \"65\": 1, \"70\": 1, \"88\": 1, \"89\": 1, \"18\": 1, \"5\": 1}, \"1\": {\"1\": 51, \"87\": 9, \"105\": 2, \"112\": 1, \"88\": 1, \"49\": 1, \"93\": 2, \"102\": 1, \"116\": 1, \"10\": 2, \"71\": 4, \"3\": 8, \"14\": 5, \"62\": 1, \"69\": 3, \"43\": 4, \"124\": 1, \"129\": 1, \"40\": 1, \"106\": 1, \"113\": 1, \"114\": 2, \"108\": 1, \"7\": 1, \"118\": 2, \"126\": 1}, \"94\": {\"54\": 2, \"24\": 6, \"126\": 1, \"94\": 52, \"125\": 6, \"8\": 1, \"15\": 6, \"36\": 2, \"106\": 2, \"4\": 1, \"12\": 2, \"30\": 3, \"47\": 1, \"98\": 1, \"118\": 1, \"10\": 1}, \"38\": {\"38\": 9, \"81\": 2, \"126\": 3, \"63\": 2}, \"54\": {\"54\": 15, \"36\": 1}, \"74\": {\"74\": 11, \"92\": 1, \"48\": 1, \"128\": 1, \"121\": 2}, \"25\": {\"25\": 15, \"125\": 1}, \"75\": {\"75\": 13, \"59\": 1, \"6\": 1, \"36\": 1}, \"119\": {\"119\": 10, \"118\": 1, \"115\": 1, \"128\": 1, \"41\": 1, \"123\": 1, \"112\": 1}, \"46\": {\"114\": 1, \"46\": 7, \"128\": 1, \"62\": 1, \"116\": 1, \"105\": 2, \"123\": 1, \"120\": 1, \"122\": 1, \"67\": 1, \"79\": 1, \"1\": 1, \"4\": 1}, \"23\": {\"54\": 2, \"70\": 1, \"36\": 1, \"23\": 1, \"37\": 1, \"93\": 1, \"39\": 1, \"40\": 1, \"7\": 1, \"123\": 1, \"77\": 1, \"18\": 1, \"58\": 1, \"75\": 1, \"98\": 1}, \"99\": {\"99\": 34, \"16\": 1, \"110\": 1, \"122\": 2, \"32\": 1, \"48\": 1}, \"33\": {\"33\": 98, \"116\": 1, \"118\": 1, \"115\": 1, \"3\": 1, \"11\": 1, \"5\": 1, \"16\": 1, \"69\": 1, \"84\": 5, \"93\": 1, \"107\": 1, \"102\": 3, \"39\": 1, \"110\": 1}, \"47\": {\"58\": 1, \"47\": 10, \"94\": 1}, \"115\": {\"129\": 1, \"115\": 2, \"43\": 2, \"111\": 1, \"122\": 1, \"105\": 1, \"107\": 1, \"106\": 1, \"84\": 1, \"50\": 1, \"33\": 1, \"128\": 2, \"0\": 1}, \"6\": {\"125\": 4, \"10\": 1, \"6\": 8, \"58\": 1, \"12\": 1, \"75\": 2, \"51\": 1, \"9\": 1, \"30\": 1, \"15\": 1, \"113\": 1, \"8\": 1, \"24\": 1}, \"65\": {\"5\": 2, \"65\": 8, \"90\": 1, \"22\": 1}, \"66\": {\"21\": 1, \"66\": 8, \"90\": 2, \"113\": 1, \"38\": 1, \"121\": 1, \"126\": 2}, \"78\": {\"85\": 1, \"58\": 1, \"38\": 1, \"89\": 1, \"126\": 3, \"87\": 2, \"10\": 1, \"78\": 4, \"113\": 2, \"101\": 1, \"70\": 3, \"39\": 2, \"27\": 2, \"18\": 1, \"21\": 1, \"88\": 3, \"30\": 1, \"118\": 1, \"98\": 1, \"109\": 1, \"69\": 1, \"0\": 2}, \"98\": {\"98\": 82, \"27\": 3, \"52\": 2, \"8\": 5, \"78\": 1, \"85\": 1, \"125\": 3, \"101\": 3, \"108\": 1, \"10\": 3, \"106\": 1, \"88\": 1, \"111\": 4, \"127\": 1, \"30\": 2, \"0\": 2, \"7\": 1}, \"93\": {\"63\": 1, \"93\": 45, \"39\": 5, \"118\": 1, \"113\": 8, \"5\": 12, \"43\": 3, \"18\": 6, \"90\": 6, \"117\": 5, \"126\": 8, \"109\": 6, \"33\": 1, \"65\": 1, \"80\": 2, \"44\": 2, \"69\": 2, \"110\": 2}, \"48\": {\"48\": 14, \"116\": 1, \"113\": 1}, \"124\": {\"124\": 64, \"105\": 1, \"15\": 1, \"111\": 2, \"114\": 3, \"115\": 1, \"8\": 4, \"4\": 3, \"0\": 3, \"10\": 2, \"98\": 2, \"27\": 5, \"88\": 2, \"106\": 1, \"101\": 2, \"40\": 1, \"30\": 2, \"11\": 1, \"107\": 3, \"31\": 1, \"29\": 1, \"82\": 1, \"127\": 4, \"118\": 1, \"126\": 1, \"87\": 1, \"14\": 1}}, \"C_2\": {\"49\": {\"49\": 21, \"6\": 1, \"25\": 2}, \"13\": {\"13\": 114, \"37\": 1, \"10\": 1}, \"37\": {\"37\": 35, \"13\": 1}, \"41\": {\"41\": 18, \"30\": 1, \"48\": 1}, \"15\": {\"15\": 133, \"16\": 8, \"23\": 1}, \"56\": {\"56\": 130, \"22\": 10, \"10\": 2}, \"14\": {\"56\": 6, \"14\": 12, \"55\": 2, \"31\": 2, \"40\": 1, \"47\": 1}, \"3\": {\"39\": 2, \"50\": 9, \"27\": 5, \"34\": 2, \"45\": 5, \"3\": 21, \"31\": 1, \"19\": 7, \"49\": 1, \"40\": 2, \"9\": 1, \"5\": 3, \"47\": 6, \"52\": 1, \"1\": 2, \"46\": 1, \"57\": 3, \"48\": 3, \"2\": 1, \"35\": 1, \"32\": 1, \"7\": 1, \"29\": 1, \"6\": 1, \"25\": 4, \"43\": 1, \"11\": 1, \"21\": 1, \"17\": 1, \"54\": 1, \"4\": 1, \"56\": 1}, \"38\": {\"38\": 20}, \"43\": {\"43\": 133, \"24\": 2, \"5\": 1, \"46\": 1, \"1\": 1}, \"33\": {\"3\": 2, \"42\": 1, \"33\": 10, \"35\": 2, \"25\": 4, \"19\": 3, \"5\": 2, \"6\": 1, \"49\": 1, \"40\": 1, \"14\": 1}, \"47\": {\"47\": 74, \"39\": 1, \"40\": 2, \"5\": 9, \"29\": 11, \"53\": 1, \"30\": 3, \"19\": 5, \"0\": 2, \"35\": 1, \"18\": 2, \"43\": 1, \"16\": 2, \"4\": 1, \"1\": 5, \"45\": 2, \"57\": 3, \"3\": 1, \"6\": 1, \"7\": 3, \"42\": 1, \"2\": 1, \"44\": 3, \"36\": 1, \"8\": 1, \"20\": 1}, \"30\": {\"30\": 143, \"23\": 1}, \"39\": {\"39\": 18, \"48\": 2, \"41\": 1, \"15\": 1, \"8\": 1, \"36\": 3, \"1\": 1, \"28\": 1}, \"12\": {\"12\": 76, \"20\": 1, \"54\": 5, \"27\": 4, \"36\": 1, \"8\": 3, \"50\": 1, \"45\": 1}, \"6\": {\"6\": 38, \"3\": 1, \"48\": 25, \"28\": 2, \"50\": 4, \"30\": 3, \"27\": 9, \"47\": 1, \"17\": 6, \"53\": 5, \"5\": 1, \"36\": 3, \"8\": 5, \"1\": 1, \"16\": 2, \"23\": 2, \"4\": 1, \"46\": 1, \"54\": 7, \"34\": 3, \"52\": 2, \"45\": 1, \"57\": 1}, \"51\": {\"51\": 120, \"53\": 6, \"54\": 2, \"20\": 4, \"4\": 1, \"50\": 1}, \"5\": {\"1\": 5, \"42\": 2, \"48\": 6, \"5\": 42, \"47\": 4, \"46\": 3, \"49\": 1, \"7\": 1, \"9\": 2, \"50\": 7, \"52\": 1, \"29\": 6, \"8\": 4, \"57\": 3, \"18\": 1, \"11\": 6, \"43\": 1, \"30\": 5, \"19\": 1, \"3\": 1, \"27\": 1, \"4\": 2, \"55\": 1, \"40\": 1, \"45\": 1, \"25\": 2, \"28\": 2, \"16\": 1, \"33\": 1, \"6\": 2, \"36\": 1, \"24\": 1, \"15\": 1, \"22\": 1}, \"34\": {\"34\": 27, \"6\": 1}, \"35\": {\"35\": 32}, \"0\": {\"1\": 3, \"36\": 1, \"30\": 3, \"0\": 10, \"15\": 7, \"29\": 1, \"21\": 1, \"51\": 1, \"28\": 2, \"20\": 1, \"16\": 3, \"18\": 2, \"23\": 5, \"52\": 2, \"57\": 1, \"8\": 2, \"5\": 1, \"47\": 1, \"11\": 1}, \"7\": {\"35\": 1, \"7\": 31, \"29\": 1, \"36\": 1, \"19\": 1, \"25\": 1}, \"24\": {\"24\": 91, \"38\": 2, \"10\": 3}, \"8\": {\"12\": 3, \"8\": 117, \"54\": 9, \"50\": 3, \"20\": 1, \"27\": 3}, \"20\": {\"20\": 119, \"12\": 3, \"8\": 2}, \"36\": {\"12\": 7, \"36\": 57, \"32\": 2, \"17\": 3, \"34\": 5, \"27\": 20, \"2\": 1, \"8\": 4, \"54\": 12, \"50\": 1, \"48\": 1, \"6\": 1, \"3\": 1, \"19\": 1}, \"42\": {\"42\": 28, \"1\": 1, \"39\": 1, \"29\": 2, \"47\": 3, \"40\": 1}, \"1\": {\"0\": 2, \"7\": 1, \"1\": 23, \"54\": 2, \"57\": 7, \"21\": 4, \"39\": 1, \"48\": 13, \"42\": 1, \"9\": 5, \"17\": 10, \"36\": 4, \"16\": 2, \"3\": 1, \"29\": 5, \"47\": 4, \"4\": 7, \"19\": 2, \"6\": 1, \"5\": 3, \"27\": 1, \"11\": 2, \"50\": 4, \"8\": 2, \"20\": 2, \"45\": 1, \"25\": 1, \"44\": 1}, \"4\": {\"4\": 117, \"49\": 1, \"48\": 2, \"27\": 3, \"45\": 3, \"9\": 11, \"51\": 2, \"17\": 2, \"32\": 2, \"50\": 1, \"0\": 1, \"12\": 2, \"3\": 1}, \"28\": {\"28\": 28}, \"50\": {\"50\": 22, \"8\": 21, \"27\": 10, \"19\": 2, \"54\": 14, \"9\": 5, \"6\": 7, \"20\": 4, \"30\": 3, \"23\": 1, \"44\": 2, \"3\": 4, \"52\": 1, \"1\": 1, \"45\": 6, \"12\": 8, \"5\": 2, \"4\": 1, \"29\": 1, \"25\": 4, \"48\": 1, \"49\": 2, \"28\": 1, \"34\": 2, \"2\": 1, \"33\": 1, \"47\": 1, \"17\": 1, \"21\": 2, \"51\": 1, \"46\": 1, \"53\": 3}, \"45\": {\"46\": 2, \"45\": 21, \"3\": 4, \"2\": 1, \"36\": 7, \"9\": 16, \"51\": 3, \"5\": 2, \"12\": 4, \"27\": 6, \"4\": 20, \"19\": 3, \"53\": 1, \"25\": 5, \"57\": 2, \"54\": 2, \"47\": 3, \"17\": 5, \"43\": 1, \"29\": 5, \"50\": 5, \"6\": 1, \"40\": 2, \"49\": 2, \"48\": 3, \"0\": 2}, \"18\": {\"18\": 48}, \"57\": {\"28\": 2, \"57\": 54, \"48\": 18, \"30\": 2, \"21\": 1, \"27\": 7, \"29\": 1, \"4\": 1, \"52\": 2, \"8\": 5, \"17\": 10, \"9\": 5, \"6\": 2, \"36\": 2, \"19\": 2, \"34\": 1, \"54\": 3, \"1\": 2}, \"46\": {\"38\": 2, \"25\": 3, \"42\": 1, \"47\": 7, \"6\": 1, \"29\": 7, \"0\": 2, \"46\": 24, \"30\": 3, \"14\": 1, \"52\": 4, \"44\": 1, \"49\": 1, \"3\": 3, \"9\": 5, \"57\": 4, \"45\": 3, \"55\": 2, \"5\": 4, \"19\": 2, \"11\": 10, \"53\": 4, \"48\": 2, \"50\": 3, \"1\": 5, \"56\": 2, \"13\": 3, \"54\": 3, \"12\": 1, \"21\": 3, \"37\": 1, \"4\": 2, \"26\": 1, \"8\": 1, \"51\": 1, \"2\": 1, \"43\": 1, \"17\": 1, \"40\": 2, \"22\": 1}, \"23\": {\"23\": 147, \"41\": 1}, \"27\": {\"27\": 135, \"8\": 1, \"6\": 1, \"54\": 1}, \"19\": {\"19\": 70, \"0\": 1, \"32\": 1, \"44\": 1, \"36\": 2, \"49\": 6, \"9\": 12, \"47\": 2, \"2\": 1, \"4\": 4, \"45\": 4, \"50\": 8, \"3\": 2, \"40\": 3, \"29\": 4, \"5\": 1, \"57\": 4, \"1\": 3, \"20\": 1, \"33\": 1, \"17\": 1, \"25\": 1, \"21\": 1}, \"22\": {\"22\": 99, \"31\": 1, \"56\": 26, \"55\": 5, \"24\": 2, \"43\": 1, \"13\": 1, \"10\": 1}, \"17\": {\"17\": 99, \"48\": 4, \"9\": 1}, \"55\": {\"44\": 1, \"55\": 117, \"10\": 3, \"14\": 1, \"22\": 8, \"24\": 2, \"43\": 1, \"46\": 1, \"13\": 1, \"56\": 1}, \"44\": {\"44\": 62, \"35\": 2, \"31\": 1, \"42\": 3, \"50\": 2, \"22\": 2, \"29\": 2, \"43\": 2, \"3\": 2, \"47\": 7, \"55\": 7, \"40\": 1, \"25\": 3, \"5\": 4}, \"26\": {\"26\": 24}, \"31\": {\"31\": 28}, \"16\": {\"16\": 125, \"23\": 2, \"15\": 3}, \"11\": {\"11\": 75, \"16\": 8, \"30\": 1, \"48\": 12, \"23\": 3, \"18\": 1, \"28\": 2, \"54\": 1, \"52\": 9, \"21\": 3, \"4\": 3, \"17\": 2, \"2\": 1, \"15\": 4, \"57\": 2, \"9\": 1}, \"25\": {\"25\": 41, \"53\": 2, \"54\": 9, \"48\": 5, \"35\": 4, \"8\": 3, \"49\": 1, \"40\": 6, \"21\": 3, \"36\": 2, \"26\": 1, \"12\": 1, \"47\": 3, \"50\": 5, \"1\": 4, \"19\": 3, \"20\": 4, \"29\": 4, \"45\": 8, \"4\": 3, \"9\": 5, \"51\": 1, \"33\": 1, \"39\": 1, \"42\": 1, \"44\": 1, \"46\": 2, \"3\": 1, \"17\": 1}, \"54\": {\"54\": 107, \"8\": 1}, \"32\": {\"32\": 28}, \"52\": {\"52\": 111, \"23\": 7, \"16\": 2, \"15\": 1, \"25\": 1, \"18\": 2}, \"40\": {\"40\": 72, \"3\": 4, \"47\": 6, \"57\": 3, \"29\": 8, \"42\": 3, \"31\": 1, \"35\": 4, \"19\": 9, \"44\": 3, \"46\": 2, \"25\": 7, \"50\": 3, \"33\": 4, \"9\": 2, \"4\": 1}, \"2\": {\"54\": 3, \"48\": 6, \"57\": 1, \"2\": 9, \"39\": 1, \"32\": 3, \"30\": 1, \"53\": 1, \"21\": 1, \"27\": 1, \"36\": 1, \"50\": 1, \"20\": 1, \"34\": 1, \"47\": 1}, \"10\": {\"38\": 1, \"10\": 93, \"22\": 4, \"24\": 10, \"56\": 2}, \"53\": {\"53\": 81, \"51\": 26, \"20\": 13, \"21\": 7, \"54\": 3, \"26\": 2, \"12\": 2, \"6\": 1, \"8\": 1}, \"9\": {\"4\": 18, \"9\": 82, \"48\": 9, \"17\": 11, \"29\": 5, \"19\": 2, \"45\": 2, \"20\": 4, \"25\": 1, \"57\": 5, \"47\": 2, \"50\": 2, \"21\": 1, \"27\": 5, \"11\": 1}, \"21\": {\"21\": 67, \"20\": 7, \"51\": 21, \"53\": 5, \"46\": 1, \"48\": 3, \"4\": 3, \"57\": 2, \"17\": 1, \"12\": 1, \"54\": 1, \"6\": 1, \"52\": 2, \"40\": 1, \"1\": 1, \"2\": 1, \"11\": 2}, \"48\": {\"48\": 131, \"17\": 1, \"6\": 1, \"52\": 1, \"46\": 1, \"8\": 1, \"57\": 2}, \"29\": {\"29\": 64, \"54\": 2, \"19\": 9, \"49\": 1, \"2\": 1, \"40\": 3, \"5\": 2, \"45\": 5, \"36\": 7, \"50\": 4, \"9\": 9, \"25\": 1, \"4\": 6, \"17\": 2, \"57\": 3, \"47\": 2, \"20\": 2, \"0\": 3, \"46\": 2}}, \"W_2\": {\"115\": {\"115\": 12}, \"34\": {\"114\": 1, \"34\": 14, \"59\": 2, \"110\": 2, \"42\": 1, \"79\": 2, \"95\": 1, \"0\": 1, \"67\": 1, \"80\": 1, \"50\": 1, \"108\": 1, \"70\": 1, \"12\": 1, \"49\": 1, \"116\": 1}, \"97\": {\"7\": 1, \"97\": 7, \"36\": 1, \"15\": 1, \"0\": 1, \"90\": 1, \"127\": 1, \"79\": 3, \"94\": 1, \"101\": 2, \"52\": 1}, \"100\": {\"100\": 12, \"116\": 1, \"33\": 1, \"88\": 2}, \"129\": {\"129\": 14, \"115\": 1, \"32\": 2, \"11\": 1, \"69\": 1, \"82\": 1, \"62\": 2, \"14\": 3, \"118\": 2, \"5\": 2, \"50\": 1, \"84\": 1, \"107\": 1}, \"90\": {\"90\": 126, \"120\": 1, \"99\": 1, \"119\": 1, \"113\": 2, \"109\": 2, \"70\": 2, \"21\": 1, \"88\": 1, \"44\": 2, \"39\": 2, \"126\": 1}, \"125\": {\"97\": 2, \"106\": 2, \"125\": 109, \"107\": 1, \"75\": 1, \"15\": 8, \"36\": 1, \"39\": 1, \"6\": 1, \"94\": 1, \"24\": 5}, \"7\": {\"7\": 99, \"0\": 4, \"98\": 2, \"114\": 2, \"127\": 6, \"3\": 1, \"90\": 2, \"70\": 1, \"111\": 2, \"24\": 1, \"107\": 1, \"41\": 1, \"29\": 1, \"11\": 2, \"122\": 2, \"108\": 1}, \"92\": {\"34\": 3, \"104\": 3, \"110\": 1, \"80\": 1, \"92\": 5, \"52\": 2, \"78\": 1, \"122\": 1, \"72\": 1, \"89\": 2, \"88\": 2, \"21\": 1, \"11\": 2, \"82\": 1, \"64\": 2}, \"114\": {\"114\": 98, \"5\": 3, \"64\": 1, \"40\": 2, \"124\": 1, \"127\": 1, \"4\": 3, \"95\": 2, \"71\": 2, \"12\": 1, \"105\": 2}, \"80\": {\"80\": 10, \"115\": 1, \"14\": 1, \"48\": 1, \"2\": 1, \"31\": 2}, \"16\": {\"16\": 43, \"88\": 6, \"83\": 1, \"99\": 2, \"121\": 1, \"20\": 2, \"93\": 3, \"46\": 2, \"69\": 6, \"38\": 1, \"87\": 4, \"21\": 1, \"26\": 10, \"102\": 8, \"117\": 6, \"39\": 7, \"18\": 3, \"90\": 2, \"70\": 2, \"33\": 8, \"81\": 1, \"10\": 1, \"43\": 1, \"109\": 1}, \"69\": {\"102\": 8, \"50\": 1, \"69\": 80, \"62\": 3, \"70\": 2, \"1\": 5, \"24\": 1, \"16\": 3, \"33\": 3, \"26\": 4, \"84\": 4, \"51\": 1, \"88\": 1}, \"102\": {\"102\": 87, \"81\": 2, \"62\": 1, \"84\": 4, \"39\": 2, \"16\": 6, \"69\": 4, \"70\": 1, \"33\": 1, \"13\": 1, \"126\": 2, \"2\": 1, \"88\": 1, \"1\": 1}, \"33\": {\"33\": 106, \"100\": 2, \"1\": 7, \"126\": 2, \"39\": 2, \"16\": 3, \"102\": 3, \"84\": 2, \"26\": 3}, \"17\": {\"34\": 2, \"86\": 2, \"77\": 1, \"17\": 8, \"8\": 1, \"4\": 1, \"127\": 1}, \"27\": {\"27\": 40, \"25\": 1, \"106\": 4, \"12\": 1, \"6\": 3, \"36\": 1, \"24\": 2, \"16\": 1, \"94\": 1, \"90\": 1, \"15\": 4, \"9\": 2, \"44\": 1, \"124\": 3, \"97\": 1, \"87\": 1, \"30\": 1}, \"117\": {\"117\": 66, \"39\": 3, \"93\": 2, \"18\": 7, \"118\": 1, \"87\": 2, \"65\": 1, \"90\": 1, \"16\": 7, \"84\": 1, \"26\": 7, \"109\": 2, \"120\": 1, \"78\": 1, \"62\": 1, \"126\": 1, \"33\": 2}, \"14\": {\"62\": 6, \"14\": 21, \"48\": 1, \"5\": 2, \"118\": 1, \"108\": 1, \"78\": 1, \"110\": 1, \"40\": 2, \"129\": 2, \"105\": 3, \"55\": 2, \"1\": 1, \"123\": 1, \"32\": 2, \"77\": 1}, \"86\": {\"17\": 1, \"86\": 24, \"108\": 1, \"111\": 2, \"40\": 1, \"37\": 1, \"4\": 1, \"59\": 1}, \"0\": {\"0\": 60, \"21\": 1, \"68\": 1, \"90\": 1, \"91\": 1, \"29\": 4, \"12\": 6, \"30\": 4, \"101\": 8, \"122\": 1, \"124\": 2, \"23\": 2, \"7\": 7, \"127\": 3, \"8\": 2, \"108\": 4, \"97\": 1, \"114\": 1, \"98\": 3, \"43\": 1, \"39\": 1, \"111\": 2}, \"62\": {\"62\": 83, \"80\": 1, \"113\": 1, \"82\": 1, \"69\": 7, \"33\": 3, \"126\": 2, \"102\": 5, \"1\": 6, \"5\": 5, \"4\": 1, \"84\": 3, \"88\": 3, \"43\": 5, \"105\": 3, \"109\": 1, \"78\": 1, \"19\": 1, \"14\": 1, \"36\": 1, \"8\": 1, \"90\": 1, \"16\": 1, \"117\": 1}, \"39\": {\"44\": 6, \"39\": 27, \"109\": 7, \"113\": 4, \"110\": 1, \"26\": 4, \"1\": 1, \"70\": 2, \"2\": 1, \"5\": 1, \"90\": 8, \"83\": 3, \"118\": 2, \"106\": 1, \"16\": 6, \"24\": 1, \"84\": 1, \"88\": 1, \"124\": 1, \"69\": 4, \"62\": 3, \"18\": 2, \"102\": 5, \"93\": 2, \"119\": 1, \"99\": 2, \"61\": 1, \"14\": 1, \"120\": 2, \"43\": 2, \"116\": 1, \"33\": 2, \"21\": 1, \"52\": 1, \"87\": 2, \"117\": 1, \"8\": 1}, \"19\": {\"39\": 2, \"90\": 1, \"33\": 3, \"19\": 4, \"55\": 1, \"37\": 1, \"117\": 1, \"110\": 1, \"107\": 1, \"31\": 1, \"87\": 2, \"4\": 2, \"126\": 2, \"10\": 1, \"0\": 1, \"95\": 1, \"71\": 1, \"93\": 2}, \"44\": {\"44\": 66, \"93\": 3, \"113\": 1, \"21\": 4, \"90\": 15, \"109\": 2, \"39\": 2, \"18\": 1, \"87\": 2, \"83\": 1, \"70\": 1, \"88\": 2}, \"104\": {\"17\": 3, \"86\": 2, \"12\": 1, \"104\": 9, \"68\": 1, \"4\": 1, \"54\": 2, \"40\": 1}, \"3\": {\"3\": 83, \"128\": 1, \"71\": 7, \"43\": 5, \"1\": 10, \"116\": 1, \"5\": 2, \"126\": 2, \"114\": 2, \"40\": 2, \"124\": 1, \"24\": 1, \"33\": 1, \"87\": 1, \"70\": 3, \"125\": 2, \"122\": 4, \"23\": 1, \"93\": 1}, \"10\": {\"19\": 1, \"39\": 2, \"53\": 3, \"10\": 21, \"43\": 4, \"5\": 1, \"90\": 2, \"11\": 2, \"108\": 1, \"88\": 1, \"71\": 1, \"126\": 2, \"109\": 2, \"122\": 1, \"8\": 1, \"64\": 1, \"78\": 1, \"118\": 2, \"129\": 1, \"60\": 1, \"51\": 1, \"93\": 1, \"84\": 2, \"87\": 2, \"27\": 1, \"62\": 2}, \"61\": {\"61\": 11, \"119\": 1, \"90\": 1, \"80\": 2, \"19\": 1, \"63\": 1, \"50\": 1, \"123\": 2}, \"111\": {\"101\": 4, \"108\": 1, \"111\": 88, \"34\": 2, \"32\": 1, \"30\": 2, \"127\": 11, \"7\": 1, \"0\": 2, \"12\": 1, \"98\": 1}, \"68\": {\"111\": 2, \"68\": 9, \"122\": 1, \"114\": 2, \"4\": 2}, \"101\": {\"101\": 120, \"15\": 2, \"21\": 1, \"98\": 6, \"30\": 5, \"111\": 2, \"108\": 1, \"90\": 1, \"0\": 4, \"94\": 1, \"125\": 1}, \"36\": {\"68\": 1, \"36\": 64, \"96\": 1, \"75\": 1, \"106\": 15, \"27\": 4, \"34\": 3, \"9\": 5, \"6\": 1, \"89\": 1, \"24\": 10, \"73\": 1, \"15\": 5, \"108\": 1, \"30\": 3, \"125\": 4, \"98\": 1, \"70\": 1, \"16\": 1, \"59\": 1, \"124\": 1, \"4\": 1, \"94\": 1, \"126\": 1}, \"120\": {\"120\": 16, \"113\": 2, \"65\": 2}, \"103\": {\"103\": 14, \"30\": 1, \"54\": 1}, \"47\": {\"23\": 1, \"76\": 1, \"47\": 7, \"43\": 1, \"56\": 1, \"129\": 1}, \"98\": {\"98\": 87, \"108\": 3, \"35\": 1, \"51\": 1, \"111\": 1, \"101\": 9, \"94\": 2, \"30\": 1, \"7\": 4, \"24\": 4, \"79\": 1, \"87\": 1, \"41\": 2, \"106\": 1, \"34\": 1, \"127\": 1}, \"76\": {\"76\": 8, \"121\": 1, \"64\": 1, \"57\": 1, \"31\": 1, \"39\": 2, \"47\": 1, \"18\": 1}, \"88\": {\"93\": 5, \"61\": 1, \"42\": 1, \"39\": 4, \"84\": 2, \"31\": 2, \"16\": 4, \"88\": 30, \"87\": 4, \"18\": 5, \"90\": 14, \"116\": 2, \"44\": 14, \"2\": 3, \"113\": 2, \"69\": 3, \"26\": 2, \"109\": 6, \"12\": 1, \"117\": 1, \"1\": 1, \"43\": 2, \"33\": 4, \"118\": 2, \"119\": 1, \"70\": 2, \"83\": 1, \"11\": 2, \"122\": 1, \"126\": 2}, \"93\": {\"93\": 75, \"18\": 20, \"26\": 2, \"87\": 6, \"21\": 2, \"90\": 11, \"88\": 7, \"70\": 3, \"44\": 1, \"117\": 5, \"109\": 3, \"113\": 2, \"39\": 1}, \"23\": {\"120\": 1, \"23\": 15, \"4\": 3, \"99\": 4, \"71\": 1, \"21\": 4, \"29\": 1, \"44\": 4, \"62\": 1, \"7\": 1, \"124\": 1, \"66\": 1, \"38\": 2, \"52\": 1, \"123\": 1, \"43\": 1, \"90\": 1, \"113\": 1}, \"108\": {\"111\": 6, \"53\": 1, \"74\": 1, \"42\": 1, \"12\": 2, \"10\": 2, \"108\": 39, \"43\": 1, \"6\": 1, \"122\": 12, \"128\": 2, \"7\": 10, \"124\": 3, \"88\": 2, \"127\": 2, \"101\": 4, \"29\": 4, \"3\": 2, \"0\": 1, \"114\": 2, \"109\": 1, \"15\": 1, \"39\": 2, \"98\": 4, \"8\": 6, \"70\": 1, \"91\": 2, \"35\": 2, \"41\": 2, \"11\": 1, \"30\": 3, \"71\": 1}, \"51\": {\"77\": 2, \"79\": 2, \"90\": 1, \"97\": 1, \"34\": 1, \"51\": 7, \"25\": 1, \"83\": 1, \"15\": 1, \"127\": 2, \"87\": 1}, \"13\": {\"13\": 3, \"119\": 1, \"102\": 2, \"118\": 3, \"100\": 1, \"61\": 1, \"81\": 2, \"1\": 1, \"57\": 1, \"90\": 1}, \"77\": {\"54\": 2, \"15\": 1, \"77\": 8, \"34\": 1, \"101\": 1, \"97\": 1, \"106\": 2}, \"46\": {\"46\": 15, \"62\": 1}, \"96\": {\"13\": 1, \"33\": 2, \"113\": 3, \"10\": 1, \"47\": 2, \"38\": 1, \"31\": 1, \"96\": 4, \"76\": 1, \"121\": 1, \"92\": 1, \"123\": 2}, \"119\": {\"119\": 10, \"113\": 2, \"90\": 1, \"21\": 2, \"106\": 1, \"120\": 1, \"18\": 2, \"20\": 1}, \"121\": {\"119\": 2, \"83\": 2, \"52\": 2, \"21\": 3, \"70\": 1, \"123\": 2, \"99\": 3, \"121\": 5, \"14\": 1, \"110\": 1, \"72\": 1, \"89\": 2, \"120\": 1, \"45\": 1, \"96\": 1, \"104\": 1, \"80\": 2, \"31\": 1, \"26\": 1, \"20\": 1, \"60\": 1, \"109\": 1}, \"54\": {\"54\": 13, \"28\": 1, \"52\": 1, \"34\": 3, \"104\": 1, \"124\": 1}, \"82\": {\"82\": 28, \"70\": 1, \"67\": 1, \"5\": 2, \"66\": 1, \"128\": 1, \"80\": 1, \"105\": 1}, \"12\": {\"68\": 3, \"52\": 1, \"12\": 48, \"7\": 2, \"95\": 2, \"111\": 5, \"24\": 1, \"0\": 6, \"124\": 4, \"83\": 1, \"29\": 1, \"4\": 3, \"8\": 2, \"127\": 3, \"34\": 1, \"30\": 1, \"113\": 1, \"88\": 1, \"85\": 1, \"44\": 1}, \"74\": {\"74\": 10, \"28\": 1, \"73\": 2, \"20\": 1, \"110\": 1, \"95\": 1}, \"66\": {\"66\": 15, \"80\": 1, \"121\": 1, \"89\": 1, \"24\": 1, \"27\": 1}, \"28\": {\"66\": 1, \"28\": 11, \"50\": 2, \"49\": 1, \"12\": 1, \"82\": 2, \"98\": 1, \"64\": 1}, \"52\": {\"52\": 11, \"12\": 3, \"106\": 1, \"0\": 2, \"25\": 1, \"98\": 1, \"4\": 1}, \"41\": {\"41\": 13, \"15\": 1, \"108\": 1, \"49\": 1, \"29\": 2, \"125\": 1, \"12\": 1}, \"81\": {\"81\": 20, \"117\": 1, \"87\": 1, \"26\": 1, \"57\": 1}, \"48\": {\"13\": 2, \"48\": 16, \"89\": 1, \"22\": 1}, \"113\": {\"113\": 57, \"119\": 1, \"90\": 5, \"16\": 2, \"93\": 2, \"109\": 1, \"21\": 2, \"125\": 1, \"39\": 1}, \"53\": {\"53\": 15, \"42\": 1}, \"15\": {\"15\": 57, \"59\": 1, \"127\": 1, \"106\": 7, \"49\": 1, \"6\": 2, \"51\": 2, \"58\": 1, \"36\": 6, \"9\": 1, \"94\": 5, \"27\": 3, \"0\": 1, \"125\": 8, \"124\": 1, \"98\": 5, \"101\": 4, \"111\": 2, \"25\": 1, \"7\": 1, \"29\": 1, \"24\": 5, \"30\": 1, \"12\": 1, \"70\": 1, \"93\": 1}, \"30\": {\"54\": 2, \"52\": 1, \"25\": 4, \"41\": 1, \"68\": 1, \"34\": 1, \"30\": 26, \"51\": 1, \"49\": 1, \"97\": 1, \"94\": 4, \"12\": 7, \"7\": 3, \"6\": 1, \"98\": 9, \"44\": 1, \"127\": 3, \"36\": 2, \"89\": 1, \"101\": 3, \"0\": 7, \"16\": 1, \"15\": 9, \"29\": 1, \"125\": 1, \"108\": 3, \"56\": 1, \"27\": 2, \"58\": 2, \"95\": 1, \"103\": 1, \"24\": 3, \"106\": 5, \"9\": 1, \"93\": 1}, \"43\": {\"80\": 1, \"109\": 5, \"90\": 2, \"5\": 9, \"20\": 1, \"129\": 2, \"43\": 24, \"16\": 2, \"3\": 5, \"71\": 2, \"105\": 4, \"26\": 2, \"18\": 4, \"33\": 6, \"21\": 1, \"126\": 1, \"62\": 4, \"117\": 3, \"93\": 8, \"87\": 1, \"44\": 2, \"102\": 1, \"39\": 3, \"124\": 2, \"40\": 2, \"7\": 1, \"70\": 4, \"115\": 1, \"46\": 1, \"49\": 1, \"122\": 3, \"42\": 1, \"22\": 1, \"107\": 2, \"118\": 5, \"78\": 1, \"84\": 2, \"0\": 2, \"88\": 2}, \"29\": {\"29\": 27, \"128\": 2, \"127\": 1, \"108\": 1, \"59\": 1}, \"109\": {\"39\": 11, \"109\": 18, \"20\": 1, \"90\": 8, \"33\": 8, \"99\": 2, \"38\": 2, \"2\": 2, \"113\": 2, \"106\": 1, \"44\": 11, \"16\": 3, \"93\": 7, \"18\": 3, \"117\": 1, \"87\": 2, \"88\": 2, \"8\": 2, \"69\": 1, \"1\": 2, \"72\": 1, \"10\": 1, \"60\": 1, \"78\": 1, \"26\": 5, \"102\": 1, \"84\": 1}, \"60\": {\"60\": 10, \"10\": 1, \"92\": 1, \"20\": 1, \"121\": 2, \"81\": 1, \"5\": 1, \"41\": 1, \"38\": 2, \"116\": 2, \"16\": 1, \"109\": 1, \"99\": 1, \"23\": 1, \"83\": 1, \"32\": 1}, \"70\": {\"39\": 7, \"43\": 2, \"5\": 6, \"113\": 6, \"67\": 1, \"21\": 3, \"70\": 8, \"89\": 1, \"110\": 2, \"44\": 5, \"16\": 5, \"62\": 3, \"127\": 1, \"94\": 1, \"23\": 1, \"125\": 1, \"8\": 2, \"114\": 2, \"88\": 6, \"126\": 5, \"124\": 2, \"71\": 5, \"122\": 6, \"105\": 10, \"90\": 15, \"93\": 3, \"18\": 3, \"82\": 1, \"107\": 1, \"11\": 1, \"10\": 3, \"4\": 1, \"87\": 1, \"15\": 1, \"26\": 1}, \"127\": {\"127\": 98, \"55\": 1, \"42\": 1, \"71\": 1, \"8\": 2, \"108\": 1, \"124\": 1, \"114\": 3, \"101\": 5, \"99\": 1, \"111\": 4, \"12\": 4, \"7\": 1, \"0\": 1}, \"32\": {\"81\": 1, \"10\": 1, \"62\": 2, \"32\": 14, \"68\": 2, \"129\": 3, \"100\": 1, \"56\": 1, \"1\": 2, \"72\": 1, \"88\": 1, \"95\": 1, \"122\": 1, \"43\": 1, \"121\": 1, \"61\": 1, \"4\": 1, \"60\": 1}, \"73\": {\"73\": 14, \"5\": 1, \"10\": 1, \"105\": 2, \"90\": 1, \"89\": 2, \"23\": 1, \"128\": 1, \"60\": 1, \"3\": 2, \"114\": 1, \"71\": 1}, \"50\": {\"82\": 2, \"50\": 7, \"9\": 1, \"21\": 1, \"101\": 1, \"45\": 1, \"67\": 2, \"73\": 1}, \"1\": {\"105\": 1, \"83\": 1, \"10\": 1, \"1\": 75, \"96\": 1, \"27\": 1, \"69\": 4, \"84\": 13, \"72\": 1, \"43\": 4, \"102\": 1, \"33\": 8, \"118\": 2, \"71\": 1, \"109\": 2, \"11\": 1, \"14\": 1, \"62\": 1, \"106\": 1, \"3\": 1, \"44\": 1, \"26\": 1, \"117\": 1}, \"106\": {\"106\": 82, \"15\": 14, \"21\": 1, \"27\": 3, \"30\": 3, \"36\": 11, \"85\": 1, \"99\": 1, \"94\": 2, \"44\": 1, \"125\": 1}, \"123\": {\"123\": 13, \"113\": 1, \"70\": 1, \"96\": 1}, \"79\": {\"79\": 8, \"52\": 1, \"30\": 1, \"34\": 1, \"56\": 2, \"127\": 1, \"0\": 2}, \"4\": {\"8\": 4, \"4\": 42, \"15\": 1, \"114\": 5, \"11\": 2, \"101\": 3, \"127\": 2, \"55\": 1, \"95\": 2, \"0\": 3, \"40\": 7, \"108\": 1, \"107\": 3, \"78\": 1, \"90\": 1, \"7\": 1, \"120\": 1, \"16\": 1, \"110\": 1, \"73\": 2, \"105\": 3, \"12\": 1}, \"2\": {\"16\": 3, \"69\": 1, \"90\": 3, \"18\": 3, \"26\": 3, \"2\": 9, \"39\": 2, \"72\": 1, \"102\": 2, \"113\": 2, \"109\": 2, \"87\": 1}, \"8\": {\"4\": 6, \"8\": 59, \"30\": 2, \"55\": 1, \"95\": 1, \"110\": 2, \"107\": 2, \"114\": 4, \"65\": 1, \"89\": 1, \"105\": 9, \"0\": 2, \"11\": 6, \"108\": 7, \"5\": 1, \"127\": 1, \"40\": 5, \"111\": 3, \"53\": 1, \"98\": 2, \"129\": 1, \"14\": 1, \"113\": 1, \"7\": 2, \"43\": 1, \"12\": 1, \"84\": 1, \"18\": 1, \"24\": 1, \"3\": 1, \"122\": 1}, \"83\": {\"123\": 1, \"83\": 29, \"38\": 1, \"44\": 1, \"90\": 1, \"118\": 2, \"87\": 1, \"120\": 1, \"18\": 1, \"21\": 2}, \"105\": {\"50\": 1, \"8\": 4, \"105\": 72, \"53\": 1, \"55\": 1, \"45\": 1, \"71\": 3, \"107\": 2, \"122\": 3, \"85\": 1, \"43\": 4, \"126\": 1, \"118\": 2, \"40\": 15, \"5\": 4, \"114\": 1, \"12\": 1, \"70\": 2, \"129\": 1, \"14\": 1, \"21\": 1, \"1\": 2, \"62\": 3, \"39\": 1, \"124\": 1, \"108\": 1}, \"5\": {\"8\": 1, \"5\": 75, \"14\": 1, \"82\": 1, \"110\": 2, \"32\": 1, \"124\": 1, \"43\": 4, \"44\": 1, \"1\": 1, \"12\": 1, \"71\": 9, \"84\": 2, \"105\": 1, \"106\": 1, \"128\": 1, \"73\": 1, \"3\": 4, \"108\": 1, \"40\": 1, \"87\": 1, \"88\": 1}, \"99\": {\"113\": 1, \"99\": 23, \"21\": 4, \"120\": 1, \"90\": 1, \"38\": 2}, \"25\": {\"25\": 16}, \"59\": {\"59\": 5, \"97\": 1, \"0\": 2, \"21\": 1, \"103\": 2, \"98\": 2, \"91\": 1, \"90\": 2}, \"42\": {\"77\": 1, \"118\": 1, \"42\": 2, \"54\": 2, \"39\": 1, \"51\": 3, \"34\": 1, \"46\": 1, \"111\": 1, \"60\": 1, \"124\": 2, \"73\": 2, \"10\": 1, \"90\": 2, \"35\": 2, \"0\": 1, \"15\": 1, \"87\": 1, \"98\": 1, \"2\": 1}, \"55\": {\"4\": 1, \"95\": 1, \"55\": 9, \"105\": 1, \"14\": 2, \"61\": 2}, \"75\": {\"75\": 11, \"94\": 2, \"49\": 1, \"98\": 2}, \"118\": {\"95\": 2, \"82\": 4, \"14\": 7, \"118\": 15, \"55\": 2, \"113\": 1, \"39\": 1, \"1\": 1, \"116\": 1, \"62\": 1, \"88\": 1, \"110\": 3, \"70\": 1, \"5\": 6, \"84\": 1, \"13\": 2, \"67\": 1, \"20\": 1, \"27\": 1, \"19\": 1, \"102\": 2, \"76\": 1, \"43\": 2, \"63\": 1, \"32\": 2, \"40\": 1, \"69\": 2, \"126\": 1, \"87\": 1, \"83\": 2}, \"95\": {\"55\": 1, \"4\": 1, \"21\": 1, \"52\": 1, \"95\": 17, \"86\": 1, \"107\": 1, \"122\": 1, \"91\": 1, \"8\": 1, \"44\": 1, \"37\": 3, \"110\": 2, \"7\": 1, \"5\": 1, \"59\": 2}, \"122\": {\"122\": 50, \"108\": 7, \"129\": 2, \"29\": 2, \"12\": 3, \"121\": 1, \"0\": 4, \"92\": 1, \"4\": 1, \"3\": 3, \"24\": 1, \"1\": 3, \"33\": 4, \"126\": 4, \"78\": 1, \"40\": 2, \"8\": 5, \"43\": 6, \"7\": 1, \"19\": 1, \"112\": 1, \"5\": 3, \"49\": 1, \"11\": 3, \"53\": 1, \"128\": 1, \"60\": 1, \"10\": 3, \"88\": 2, \"114\": 1, \"111\": 1}, \"20\": {\"20\": 14, \"44\": 2}, \"110\": {\"110\": 18, \"105\": 1, \"50\": 1, \"16\": 1, \"11\": 1, \"31\": 1, \"6\": 1, \"88\": 1, \"107\": 2, \"92\": 1, \"114\": 3, \"24\": 1, \"55\": 2, \"36\": 1, \"5\": 1, \"7\": 1, \"95\": 1, \"40\": 1, \"84\": 1}, \"65\": {\"65\": 12, \"99\": 1, \"21\": 1, \"121\": 1, \"23\": 1, \"123\": 1, \"87\": 1, \"57\": 1, \"119\": 1}, \"37\": {\"12\": 2, \"128\": 1, \"37\": 7, \"4\": 2, \"56\": 1, \"104\": 1, \"13\": 1, \"85\": 1}, \"64\": {\"64\": 13, \"37\": 1, \"28\": 1, \"110\": 1}, \"63\": {\"63\": 17, \"121\": 1, \"33\": 1, \"78\": 1}, \"40\": {\"40\": 71, \"32\": 2, \"107\": 5, \"95\": 2, \"105\": 14, \"12\": 2, \"89\": 1, \"0\": 1, \"110\": 1, \"4\": 7, \"65\": 1, \"8\": 9, \"114\": 6, \"11\": 1, \"5\": 1, \"88\": 1, \"124\": 4, \"55\": 1, \"91\": 1, \"16\": 1, \"113\": 1, \"30\": 1, \"70\": 1, \"10\": 1, \"90\": 1, \"122\": 2, \"69\": 1}, \"21\": {\"21\": 33, \"99\": 5, \"30\": 1, \"90\": 6, \"82\": 1, \"119\": 1, \"28\": 1}, \"11\": {\"11\": 40, \"108\": 2, \"112\": 1, \"10\": 2, \"23\": 2, \"116\": 1, \"71\": 3, \"88\": 3, \"43\": 2, \"78\": 2, \"124\": 1, \"84\": 1, \"5\": 1, \"3\": 2, \"41\": 2, \"18\": 1, \"49\": 2, \"91\": 2, \"128\": 1, \"89\": 1, \"7\": 2, \"122\": 2, \"73\": 1, \"12\": 1, \"126\": 1, \"27\": 1}, \"67\": {\"67\": 16}, \"91\": {\"91\": 16, \"113\": 1, \"77\": 1, \"29\": 1, \"18\": 1, \"49\": 1, \"30\": 1, \"98\": 1, \"11\": 1, \"101\": 1, \"95\": 2, \"34\": 1}, \"87\": {\"113\": 5, \"118\": 2, \"120\": 3, \"99\": 1, \"81\": 1, \"1\": 4, \"38\": 1, \"87\": 16, \"14\": 1, \"88\": 5, \"18\": 6, \"2\": 2, \"90\": 9, \"117\": 4, \"44\": 5, \"23\": 1, \"16\": 4, \"126\": 3, \"93\": 2, \"70\": 2, \"33\": 6, \"43\": 2, \"26\": 3, \"62\": 1, \"84\": 2, \"39\": 5, \"21\": 6, \"10\": 2, \"78\": 1, \"69\": 1, \"109\": 3, \"102\": 2, \"98\": 1}, \"89\": {\"89\": 11, \"39\": 2, \"88\": 4, \"10\": 1, \"0\": 1, \"117\": 1, \"24\": 1, \"47\": 2, \"11\": 1, \"126\": 1, \"129\": 1, \"22\": 1, \"92\": 2, \"60\": 1, \"53\": 1, \"74\": 1, \"64\": 2, \"82\": 1, \"66\": 1}, \"9\": {\"9\": 30, \"36\": 2}, \"124\": {\"0\": 5, \"124\": 63, \"28\": 2, \"86\": 2, \"111\": 3, \"106\": 1, \"94\": 1, \"85\": 1, \"114\": 2, \"98\": 2, \"12\": 6, \"30\": 5, \"8\": 2, \"40\": 5, \"7\": 1, \"101\": 5, \"127\": 2, \"45\": 1, \"104\": 1, \"64\": 2, \"79\": 1, \"105\": 1}, \"56\": {\"0\": 1, \"56\": 7, \"103\": 1, \"45\": 1, \"124\": 1, \"24\": 1}, \"38\": {\"93\": 2, \"38\": 11, \"18\": 1, \"99\": 2}, \"94\": {\"94\": 24, \"75\": 1, \"9\": 1, \"106\": 6, \"124\": 2, \"111\": 1, \"101\": 6, \"30\": 4, \"98\": 2, \"90\": 1, \"125\": 1, \"36\": 2, \"15\": 3, \"85\": 1, \"97\": 2, \"87\": 1, \"12\": 1, \"7\": 1, \"24\": 2, \"127\": 1, \"18\": 1}, \"6\": {\"106\": 2, \"6\": 24, \"103\": 1, \"49\": 1, \"15\": 2, \"36\": 1, \"51\": 1}, \"58\": {\"58\": 8, \"106\": 1, \"125\": 3, \"36\": 1, \"38\": 1, \"30\": 1, \"6\": 4, \"25\": 1}, \"22\": {\"22\": 9, \"43\": 1, \"89\": 1, \"88\": 1, \"7\": 1, \"116\": 1, \"74\": 1, \"96\": 2, \"23\": 2, \"57\": 1}, \"24\": {\"41\": 1, \"24\": 20, \"118\": 2, \"39\": 1, \"104\": 2, \"125\": 14, \"9\": 1, \"71\": 1, \"27\": 4, \"109\": 2, \"36\": 12, \"23\": 1, \"110\": 1, \"106\": 5, \"7\": 2, \"98\": 7, \"108\": 2, \"30\": 3, \"105\": 1, \"15\": 2, \"29\": 1, \"33\": 1, \"44\": 2, \"122\": 1, \"101\": 3, \"47\": 1, \"95\": 1, \"6\": 1, \"25\": 1, \"120\": 1, \"99\": 1, \"12\": 1, \"43\": 1, \"34\": 1, \"93\": 1, \"11\": 1, \"21\": 1, \"88\": 1, \"94\": 1, \"0\": 1, \"90\": 2, \"87\": 1, \"126\": 1, \"70\": 1}, \"57\": {\"57\": 18, \"100\": 1, \"33\": 1}, \"112\": {\"112\": 9, \"108\": 1, \"24\": 1, \"12\": 1, \"122\": 1, \"61\": 1, \"91\": 2}, \"116\": {\"116\": 10, \"1\": 2, \"113\": 2, \"110\": 1, \"126\": 2, \"117\": 1, \"33\": 1, \"45\": 1, \"92\": 1, \"57\": 1, \"88\": 1, \"83\": 1, \"70\": 2, \"78\": 2}, \"18\": {\"18\": 82, \"99\": 2, \"26\": 5, \"82\": 1, \"2\": 1, \"117\": 4, \"87\": 3, \"88\": 1, \"83\": 1, \"16\": 4, \"90\": 2, \"109\": 3, \"93\": 8, \"89\": 1, \"113\": 3, \"44\": 3, \"39\": 4}, \"49\": {\"112\": 1, \"7\": 1, \"101\": 1, \"34\": 3, \"51\": 1, \"99\": 1, \"73\": 2, \"54\": 1, \"11\": 1, \"12\": 1, \"49\": 1, \"29\": 1, \"122\": 1, \"125\": 1, \"58\": 1, \"59\": 1, \"127\": 1, \"77\": 1, \"98\": 1, \"113\": 1, \"15\": 1}, \"45\": {\"45\": 12, \"48\": 1, \"8\": 1, \"19\": 1, \"89\": 1}, \"107\": {\"19\": 2, \"107\": 27, \"114\": 5, \"51\": 1, \"67\": 2, \"40\": 7, \"110\": 2, \"16\": 1, \"90\": 1, \"105\": 2, \"83\": 1, \"20\": 1, \"120\": 1, \"55\": 1, \"85\": 1, \"73\": 1, \"125\": 1, \"39\": 1, \"32\": 2, \"9\": 1, \"8\": 1, \"14\": 1, \"87\": 1}, \"35\": {\"35\": 8, \"42\": 1, \"101\": 1, \"98\": 2}, \"78\": {\"113\": 2, \"39\": 1, \"49\": 2, \"21\": 1, \"107\": 2, \"43\": 2, \"92\": 1, \"7\": 1, \"99\": 2, \"87\": 2, \"118\": 1, \"126\": 2, \"83\": 3, \"5\": 3, \"70\": 2, \"78\": 3, \"11\": 1, \"18\": 2, \"66\": 1, \"114\": 1, \"20\": 1, \"44\": 1, \"40\": 2, \"85\": 1, \"73\": 2, \"14\": 1, \"109\": 1, \"32\": 1, \"122\": 1, \"90\": 1, \"116\": 1}, \"126\": {\"126\": 30, \"78\": 3, \"60\": 2, \"110\": 1, \"62\": 3, \"43\": 6, \"93\": 3, \"85\": 2, \"26\": 2, \"83\": 2, \"117\": 1, \"71\": 1, \"70\": 5, \"16\": 3, \"109\": 4, \"1\": 2, \"87\": 3, \"88\": 5, \"84\": 2, \"69\": 1, \"114\": 1, \"7\": 1, \"44\": 7, \"122\": 4, \"39\": 3, \"53\": 2, \"120\": 1, \"65\": 1, \"38\": 1, \"5\": 4, \"18\": 3, \"119\": 1, \"95\": 1, \"8\": 1, \"90\": 1, \"3\": 1, \"10\": 2, \"11\": 1, \"105\": 1, \"30\": 1, \"108\": 1}, \"85\": {\"28\": 1, \"107\": 1, \"85\": 18, \"4\": 2, \"105\": 1, \"40\": 1, \"127\": 1, \"74\": 2, \"19\": 1, \"55\": 1, \"95\": 1, \"124\": 1, \"0\": 1}, \"72\": {\"72\": 12, \"33\": 2, \"113\": 2, \"19\": 1, \"39\": 1, \"21\": 1, \"22\": 1, \"63\": 1, \"82\": 1, \"1\": 1, \"53\": 1, \"121\": 1, \"90\": 1, \"62\": 1, \"84\": 1}, \"26\": {\"16\": 11, \"26\": 70, \"81\": 1, \"62\": 3, \"2\": 2, \"120\": 1, \"113\": 1, \"33\": 10, \"102\": 9, \"83\": 1, \"84\": 3, \"117\": 1, \"18\": 3, \"44\": 1, \"125\": 1, \"99\": 1, \"69\": 1, \"87\": 1, \"126\": 1, \"8\": 1, \"0\": 1}, \"84\": {\"10\": 1, \"84\": 51, \"125\": 1, \"1\": 9, \"102\": 5, \"18\": 1, \"69\": 3, \"126\": 1, \"33\": 6, \"90\": 1, \"62\": 3, \"26\": 3, \"106\": 1, \"70\": 2, \"16\": 2, \"3\": 1, \"122\": 1}, \"128\": {\"125\": 2, \"50\": 1, \"128\": 8, \"111\": 1, \"5\": 2, \"122\": 1, \"110\": 1, \"0\": 3, \"79\": 2, \"101\": 1, \"98\": 1, \"14\": 1}, \"31\": {\"31\": 10, \"92\": 2, \"44\": 1, \"45\": 1, \"33\": 1, \"80\": 1, \"123\": 1, \"48\": 2, \"87\": 1}, \"71\": {\"11\": 1, \"71\": 61, \"62\": 1, \"105\": 3, \"43\": 4, \"70\": 1, \"109\": 2, \"5\": 7, \"122\": 1, \"114\": 4, \"108\": 1, \"126\": 1, \"1\": 2, \"48\": 1, \"52\": 1, \"60\": 1, \"3\": 7, \"7\": 1}}, \"C_1\": {\"9\": {\"9\": 142}, \"25\": {\"25\": 99, \"46\": 3, \"56\": 9, \"48\": 1, \"42\": 2, \"30\": 1, \"45\": 1, \"57\": 3, \"29\": 3, \"37\": 2, \"4\": 1, \"40\": 2, \"54\": 1}, \"41\": {\"41\": 24}, \"29\": {\"29\": 95, \"35\": 6, \"37\": 1, \"40\": 8, \"32\": 1, \"10\": 1, \"56\": 4, \"44\": 11, \"52\": 3, \"54\": 1, \"13\": 1, \"25\": 2, \"55\": 4, \"12\": 2}, \"46\": {\"50\": 16, \"46\": 48, \"17\": 3, \"4\": 4, \"5\": 11, \"2\": 1, \"48\": 8, \"30\": 1, \"33\": 1, \"56\": 3, \"6\": 1, \"8\": 6, \"51\": 1, \"19\": 3, \"57\": 9, \"12\": 2, \"45\": 3, \"55\": 1, \"25\": 3, \"1\": 1, \"40\": 1, \"47\": 1}, \"4\": {\"50\": 5, \"57\": 4, \"56\": 1, \"4\": 77, \"14\": 1, \"32\": 1, \"19\": 16, \"46\": 2, \"45\": 4, \"51\": 1, \"48\": 4, \"53\": 3, \"5\": 4, \"37\": 1, \"7\": 1, \"42\": 2, \"1\": 2, \"25\": 2, \"8\": 1}, \"31\": {\"31\": 27, \"38\": 1}, \"36\": {\"36\": 60, \"16\": 3, \"53\": 1}, \"20\": {\"20\": 120, \"12\": 3, \"0\": 1, \"54\": 1, \"13\": 2, \"55\": 1}, \"7\": {\"7\": 17, \"57\": 1, \"34\": 1, \"42\": 1, \"12\": 1, \"53\": 1, \"54\": 1, \"33\": 1, \"16\": 1, \"41\": 2, \"2\": 1}, \"6\": {\"6\": 41, \"2\": 2, \"45\": 2, \"5\": 7, \"48\": 17, \"50\": 10, \"8\": 8, \"46\": 2, \"53\": 3, \"34\": 1, \"57\": 1, \"9\": 1, \"4\": 1}, \"16\": {\"16\": 135, \"36\": 2, \"18\": 1}, \"17\": {\"17\": 64}, \"50\": {\"50\": 143, \"48\": 5}, \"57\": {\"17\": 4, \"57\": 46, \"53\": 7, \"34\": 2, \"56\": 10, \"33\": 2, \"42\": 3, \"19\": 22, \"14\": 1, \"8\": 2, \"50\": 3, \"1\": 5, \"6\": 3, \"4\": 7, \"45\": 9, \"48\": 6, \"5\": 4, \"12\": 1, \"46\": 5, \"54\": 2}, \"23\": {\"36\": 11, \"23\": 75, \"18\": 9, \"8\": 1, \"16\": 15, \"9\": 4, \"30\": 6, \"19\": 2, \"21\": 5, \"5\": 1, \"33\": 2, \"34\": 2, \"53\": 2, \"17\": 1}, \"3\": {\"3\": 102, \"24\": 4, \"0\": 1, \"38\": 1, \"22\": 1, \"44\": 6, \"10\": 3, \"27\": 2, \"47\": 1, \"52\": 5}, \"53\": {\"53\": 137, \"9\": 1, \"26\": 1, \"5\": 1}, \"49\": {\"49\": 31, \"27\": 1}, \"56\": {\"56\": 71, \"51\": 1, \"46\": 11, \"57\": 6, \"25\": 9, \"32\": 2, \"33\": 2, \"8\": 2, \"45\": 7, \"42\": 2, \"1\": 5, \"36\": 1, \"54\": 2, \"0\": 1, \"23\": 3, \"55\": 1, \"40\": 9, \"15\": 2, \"5\": 3, \"4\": 2, \"7\": 1, \"48\": 2, \"37\": 2, \"29\": 2, \"19\": 3}, \"51\": {\"51\": 84, \"13\": 1, \"7\": 2, \"19\": 7, \"53\": 22, \"17\": 4, \"50\": 1, \"18\": 1, \"16\": 6, \"9\": 3, \"5\": 7, \"45\": 1, \"4\": 2, \"20\": 1}, \"26\": {\"26\": 23, \"14\": 1}, \"43\": {\"43\": 142, \"49\": 1, \"27\": 1}, \"22\": {\"22\": 78, \"27\": 3, \"39\": 1, \"10\": 8, \"11\": 15, \"3\": 1, \"52\": 11, \"20\": 3, \"0\": 6, \"24\": 8, \"28\": 1, \"15\": 1}, \"45\": {\"26\": 4, \"45\": 57, \"30\": 10, \"57\": 3, \"33\": 2, \"18\": 3, \"5\": 20, \"17\": 3, \"14\": 1, \"19\": 5, \"42\": 1, \"8\": 8, \"1\": 2, \"46\": 5, \"9\": 13, \"48\": 2, \"20\": 1, \"4\": 1, \"6\": 1, \"53\": 2, \"25\": 1, \"40\": 1}, \"13\": {\"13\": 151, \"20\": 1}, \"12\": {\"12\": 88, \"54\": 4, \"51\": 7, \"56\": 1, \"4\": 3, \"20\": 4, \"57\": 1, \"32\": 1, \"41\": 3, \"47\": 1, \"46\": 1, \"19\": 1, \"0\": 1}, \"54\": {\"7\": 1, \"54\": 81, \"46\": 3, \"51\": 6, \"50\": 3, \"20\": 2, \"53\": 1, \"5\": 1, \"48\": 1, \"12\": 1, \"19\": 1, \"57\": 2, \"45\": 1}, \"24\": {\"24\": 95, \"10\": 5, \"52\": 3, \"22\": 4, \"11\": 1}, \"44\": {\"44\": 85, \"31\": 1, \"49\": 4, \"47\": 10, \"29\": 15, \"35\": 5, \"10\": 1, \"56\": 1, \"55\": 4, \"24\": 1, \"27\": 2, \"12\": 1, \"54\": 1, \"13\": 1, \"40\": 2, \"52\": 1, \"57\": 1}, \"28\": {\"28\": 28}, \"33\": {\"33\": 21, \"34\": 2, \"17\": 2, \"9\": 3, \"45\": 2, \"26\": 2}, \"38\": {\"38\": 24}, \"0\": {\"0\": 135, \"32\": 1, \"20\": 5, \"22\": 1, \"11\": 2}, \"47\": {\"47\": 112, \"27\": 14, \"49\": 1, \"35\": 2, \"31\": 1, \"44\": 9, \"52\": 4, \"10\": 1, \"43\": 1, \"40\": 2, \"0\": 3, \"29\": 4}, \"42\": {\"42\": 10, \"45\": 2, \"33\": 3, \"26\": 1, \"32\": 1, \"46\": 1, \"57\": 4, \"30\": 1, \"48\": 3, \"17\": 8, \"53\": 1, \"9\": 2, \"31\": 1, \"5\": 2}, \"34\": {\"42\": 1, \"34\": 16, \"30\": 5, \"33\": 1, \"9\": 1}, \"48\": {\"48\": 116, \"2\": 3, \"6\": 5, \"8\": 9, \"50\": 7, \"53\": 2}, \"35\": {\"35\": 35, \"29\": 1}, \"2\": {\"2\": 29, \"6\": 1, \"5\": 2, \"14\": 2, \"53\": 2}, \"30\": {\"30\": 116, \"34\": 1, \"9\": 3}, \"18\": {\"18\": 72}, \"37\": {\"37\": 31, \"57\": 1}, \"1\": {\"1\": 47, \"45\": 6, \"19\": 17, \"5\": 4, \"57\": 6, \"53\": 4, \"17\": 5, \"4\": 1, \"8\": 3, \"6\": 2, \"34\": 2, \"48\": 2, \"51\": 1}, \"11\": {\"11\": 122, \"10\": 3, \"0\": 2, \"22\": 8, \"52\": 3}, \"55\": {\"29\": 1, \"55\": 112, \"12\": 5, \"56\": 3, \"54\": 1, \"46\": 2, \"0\": 1, \"44\": 1, \"4\": 1, \"15\": 1, \"20\": 2}, \"15\": {\"15\": 134, \"23\": 1, \"21\": 13, \"54\": 1, \"45\": 1}, \"10\": {\"10\": 71, \"24\": 10, \"11\": 4, \"22\": 8, \"49\": 2, \"52\": 1}, \"27\": {\"27\": 153, \"43\": 3, \"22\": 1, \"49\": 1, \"39\": 1, \"10\": 1}, \"19\": {\"19\": 108, \"17\": 3, \"34\": 2, \"45\": 7, \"42\": 2, \"1\": 3, \"54\": 2, \"18\": 2, \"9\": 2, \"53\": 4, \"4\": 2, \"30\": 1, \"8\": 1, \"16\": 3, \"57\": 2, \"5\": 1, \"48\": 1}, \"14\": {\"8\": 2, \"14\": 14, \"26\": 2, \"5\": 2, \"2\": 1, \"17\": 1, \"9\": 1, \"30\": 1}, \"8\": {\"8\": 136, \"9\": 1, \"17\": 1, \"30\": 2}, \"5\": {\"5\": 127, \"14\": 1, \"8\": 3, \"50\": 2, \"53\": 2, \"46\": 1}, \"39\": {\"39\": 28}, \"52\": {\"52\": 93, \"47\": 2, \"11\": 4, \"10\": 6, \"24\": 5, \"22\": 7, \"27\": 4, \"43\": 1}, \"21\": {\"21\": 110, \"23\": 7, \"15\": 3, \"11\": 2, \"7\": 1, \"16\": 1}, \"40\": {\"40\": 75, \"44\": 6, \"56\": 19, \"32\": 2, \"37\": 1, \"35\": 3, \"25\": 11, \"47\": 2, \"52\": 1, \"54\": 1, \"1\": 3, \"46\": 6, \"3\": 2, \"0\": 2, \"29\": 6, \"13\": 2, \"4\": 2, \"57\": 3, \"45\": 4, \"19\": 1}, \"32\": {\"32\": 27, \"12\": 1, \"54\": 2, \"46\": 1, \"0\": 1}}, \"C_3\": {\"56\": {\"56\": 118, \"22\": 2}, \"4\": {\"4\": 100, \"27\": 15, \"48\": 4, \"33\": 2, \"3\": 1, \"29\": 1, \"54\": 6, \"50\": 1, \"36\": 1, \"1\": 1, \"46\": 1, \"9\": 8, \"19\": 3, \"17\": 2}, \"34\": {\"34\": 32}, \"52\": {\"52\": 127, \"23\": 5, \"15\": 2, \"16\": 1, \"18\": 1}, \"32\": {\"32\": 25, \"12\": 1, \"2\": 1, \"57\": 1}, \"46\": {\"4\": 7, \"20\": 12, \"28\": 1, \"53\": 8, \"46\": 16, \"34\": 2, \"17\": 4, \"36\": 3, \"15\": 3, \"31\": 3, \"38\": 4, \"43\": 4, \"52\": 3, \"11\": 6, \"50\": 7, \"21\": 8, \"40\": 1, \"47\": 2, \"27\": 1, \"48\": 10, \"54\": 5, \"44\": 2, \"19\": 2, \"6\": 2, \"55\": 5, \"56\": 1, \"8\": 2, \"9\": 3, \"7\": 1, \"33\": 1, \"41\": 1, \"23\": 1, \"0\": 1, \"25\": 1, \"16\": 2, \"29\": 1}, \"12\": {\"12\": 68, \"54\": 4, \"20\": 5, \"27\": 4, \"32\": 2, \"17\": 2, \"8\": 6, \"3\": 1}, \"20\": {\"20\": 131, \"50\": 1}, \"54\": {\"54\": 97, \"50\": 2, \"30\": 1}, \"22\": {\"22\": 96, \"49\": 3, \"56\": 9, \"13\": 1, \"14\": 3, \"31\": 1, \"10\": 2, \"55\": 16, \"43\": 2, \"24\": 4, \"35\": 1, \"12\": 1, \"17\": 1}, \"26\": {\"26\": 12, \"48\": 6, \"23\": 4, \"15\": 2}, \"31\": {\"22\": 1, \"31\": 26, \"55\": 1}, \"10\": {\"10\": 61, \"24\": 3}, \"27\": {\"27\": 123, \"17\": 6, \"4\": 1, \"32\": 1, \"45\": 1, \"53\": 1, \"46\": 1, \"8\": 1, \"20\": 1, \"34\": 2, \"9\": 2, \"30\": 1, \"36\": 1, \"54\": 1, \"1\": 1}, \"40\": {\"28\": 2, \"40\": 81, \"45\": 3, \"47\": 3, \"25\": 10, \"44\": 5, \"37\": 3, \"29\": 10, \"3\": 4, \"19\": 4, \"43\": 1, \"6\": 1, \"55\": 1, \"5\": 2, \"42\": 1, \"14\": 1, \"50\": 1, \"1\": 1, \"4\": 1, \"46\": 1}, \"28\": {\"28\": 14, \"3\": 1, \"44\": 1, \"14\": 1, \"42\": 1, \"37\": 1, \"5\": 2, \"29\": 2, \"45\": 1, \"25\": 1, \"1\": 1, \"22\": 1, \"46\": 1}, \"5\": {\"50\": 3, \"52\": 7, \"5\": 25, \"48\": 9, \"32\": 2, \"26\": 3, \"27\": 6, \"17\": 10, \"41\": 4, \"30\": 2, \"7\": 1, \"33\": 1, \"35\": 1, \"4\": 1, \"54\": 1, \"6\": 1, \"23\": 9, \"11\": 5, \"57\": 2, \"9\": 1, \"29\": 1, \"3\": 2, \"20\": 3, \"21\": 2, \"37\": 1, \"34\": 2, \"55\": 1, \"40\": 1, \"2\": 1, \"53\": 1, \"22\": 1, \"47\": 1, \"0\": 1, \"19\": 1, \"36\": 1, \"43\": 1, \"46\": 1}, \"30\": {\"30\": 117, \"50\": 1, \"8\": 1, \"23\": 1}, \"7\": {\"7\": 32, \"11\": 1, \"43\": 2, \"47\": 1}, \"18\": {\"18\": 84}, \"39\": {\"30\": 3, \"39\": 10, \"52\": 1, \"41\": 2}, \"50\": {\"35\": 1, \"12\": 4, \"2\": 1, \"8\": 12, \"47\": 3, \"38\": 2, \"50\": 31, \"4\": 1, \"3\": 7, \"25\": 3, \"20\": 13, \"36\": 2, \"19\": 3, \"54\": 21, \"45\": 2, \"57\": 1, \"27\": 2, \"1\": 1, \"21\": 2, \"9\": 1, \"51\": 3, \"46\": 3, \"53\": 4, \"33\": 1, \"42\": 1, \"29\": 1, \"40\": 1, \"44\": 1, \"17\": 6, \"30\": 2}, \"49\": {\"49\": 20}, \"43\": {\"43\": 118, \"3\": 1, \"7\": 2, \"0\": 1}, \"29\": {\"12\": 1, \"29\": 52, \"2\": 1, \"3\": 5, \"45\": 2, \"36\": 10, \"9\": 4, \"25\": 3, \"6\": 1, \"50\": 3, \"0\": 1, \"19\": 11, \"57\": 5, \"1\": 2, \"4\": 2, \"27\": 3, \"48\": 1, \"20\": 1, \"5\": 3, \"44\": 2, \"17\": 1}, \"35\": {\"35\": 26, \"7\": 1, \"43\": 1}, \"13\": {\"13\": 119, \"10\": 1, \"55\": 2, \"22\": 1, \"24\": 1}, \"36\": {\"36\": 58, \"12\": 7, \"26\": 2, \"27\": 10, \"17\": 2, \"54\": 7, \"9\": 1, \"30\": 1, \"20\": 2, \"8\": 6, \"4\": 1, \"32\": 1, \"2\": 2}, \"11\": {\"11\": 88, \"48\": 5, \"34\": 5, \"15\": 7, \"21\": 10, \"23\": 3, \"4\": 2, \"18\": 2, \"46\": 3, \"52\": 4, \"9\": 4, \"8\": 1, \"26\": 2, \"50\": 2, \"20\": 4, \"27\": 2, \"1\": 1, \"16\": 1}, \"57\": {\"9\": 13, \"57\": 44, \"6\": 1, \"34\": 2, \"27\": 13, \"36\": 4, \"48\": 9, \"51\": 1, \"29\": 5, \"20\": 7, \"30\": 2, \"17\": 7, \"12\": 1, \"0\": 4, \"19\": 1, \"4\": 2, \"54\": 2, \"32\": 1, \"47\": 1, \"5\": 1, \"1\": 3}, \"9\": {\"9\": 74, \"4\": 14, \"34\": 2, \"17\": 6, \"45\": 1, \"20\": 6, \"12\": 2, \"36\": 2, \"27\": 11, \"50\": 1, \"21\": 1, \"19\": 1, \"30\": 1, \"25\": 1, \"32\": 2, \"57\": 1, \"48\": 4}, \"25\": {\"53\": 1, \"46\": 3, \"25\": 66, \"28\": 2, \"50\": 7, \"38\": 3, \"42\": 1, \"29\": 3, \"5\": 6, \"21\": 3, \"4\": 6, \"11\": 2, \"54\": 3, \"36\": 3, \"40\": 1, \"20\": 4, \"3\": 3, \"6\": 2, \"47\": 2, \"19\": 3, \"39\": 2, \"45\": 2, \"1\": 1, \"17\": 1}, \"16\": {\"16\": 117, \"45\": 1, \"23\": 5, \"15\": 1, \"52\": 2}, \"53\": {\"53\": 89, \"51\": 11, \"54\": 4, \"20\": 4, \"12\": 2, \"3\": 1, \"38\": 1, \"21\": 3, \"17\": 1, \"50\": 2}, \"33\": {\"25\": 1, \"26\": 1, \"39\": 1, \"41\": 4, \"30\": 4, \"53\": 1, \"50\": 1, \"15\": 1, \"51\": 1, \"48\": 3, \"33\": 5, \"2\": 1, \"27\": 1, \"38\": 2, \"46\": 1}, \"51\": {\"51\": 125, \"12\": 1, \"53\": 1, \"20\": 1}, \"44\": {\"44\": 64, \"25\": 3, \"14\": 1, \"1\": 3, \"47\": 3, \"40\": 2, \"55\": 1, \"6\": 1, \"19\": 1, \"46\": 1, \"35\": 2, \"5\": 2, \"22\": 1, \"50\": 1, \"13\": 2}, \"48\": {\"48\": 95, \"34\": 4, \"17\": 5, \"30\": 2, \"50\": 1, \"8\": 2, \"27\": 1, \"9\": 2, \"18\": 1, \"40\": 1}, \"6\": {\"4\": 2, \"35\": 1, \"41\": 1, \"39\": 1, \"6\": 16, \"50\": 3, \"5\": 2, \"45\": 3, \"17\": 11, \"18\": 1, \"42\": 1, \"15\": 1, \"48\": 12, \"36\": 1, \"9\": 2, \"54\": 1, \"8\": 3, \"0\": 1, \"19\": 1, \"46\": 2, \"3\": 3, \"21\": 3, \"37\": 1, \"30\": 2, \"34\": 2, \"7\": 1, \"33\": 1, \"47\": 3, \"57\": 1, \"25\": 3, \"22\": 1, \"27\": 1}, \"23\": {\"23\": 144}, \"1\": {\"57\": 6, \"1\": 27, \"48\": 5, \"0\": 4, \"12\": 2, \"35\": 1, \"5\": 2, \"9\": 5, \"32\": 3, \"19\": 6, \"43\": 3, \"27\": 5, \"8\": 4, \"11\": 3, \"17\": 1, \"36\": 2, \"4\": 2, \"6\": 1, \"29\": 4, \"54\": 2, \"47\": 2, \"34\": 1, \"20\": 1, \"50\": 3, \"21\": 1, \"46\": 2, \"30\": 1, \"40\": 1}, \"17\": {\"41\": 2, \"17\": 104, \"30\": 1, \"54\": 1}, \"21\": {\"21\": 35, \"52\": 5, \"12\": 3, \"38\": 2, \"32\": 1, \"33\": 1, \"11\": 14, \"53\": 18, \"27\": 2, \"51\": 11, \"30\": 2, \"57\": 2, \"8\": 2, \"46\": 4, \"20\": 4, \"50\": 3, \"3\": 2, \"54\": 2, \"48\": 1, \"4\": 3, \"9\": 3, \"29\": 1, \"17\": 1}, \"14\": {\"28\": 2, \"17\": 1, \"14\": 20, \"24\": 2, \"46\": 2, \"55\": 6, \"13\": 1, \"22\": 1, \"49\": 3, \"6\": 1, \"10\": 1}, \"55\": {\"14\": 2, \"55\": 128, \"44\": 1, \"40\": 1, \"22\": 7, \"43\": 1, \"24\": 4}, \"41\": {\"41\": 27, \"23\": 1}, \"3\": {\"6\": 7, \"34\": 1, \"3\": 43, \"1\": 3, \"5\": 4, \"27\": 11, \"2\": 1, \"29\": 6, \"25\": 6, \"19\": 2, \"17\": 2, \"45\": 4, \"21\": 2, \"20\": 3, \"50\": 6, \"53\": 1, \"36\": 3, \"57\": 2, \"54\": 2, \"48\": 3, \"46\": 6, \"43\": 1, \"9\": 4, \"40\": 2, \"42\": 3, \"4\": 4, \"32\": 1, \"12\": 1, \"8\": 2, \"0\": 2}, \"38\": {\"38\": 28}, \"2\": {\"2\": 16, \"12\": 5, \"27\": 1, \"39\": 1, \"11\": 2, \"46\": 1, \"38\": 1, \"36\": 2, \"20\": 2, \"21\": 1}, \"8\": {\"8\": 127, \"36\": 2, \"12\": 3, \"54\": 8, \"17\": 2}, \"37\": {\"37\": 28}, \"45\": {\"40\": 1, \"45\": 9, \"11\": 2, \"4\": 7, \"34\": 1, \"2\": 1, \"50\": 4, \"51\": 1, \"54\": 1, \"6\": 2, \"19\": 2, \"5\": 1, \"48\": 3, \"15\": 1, \"36\": 6, \"12\": 4, \"46\": 1, \"9\": 3, \"57\": 1, \"27\": 4, \"39\": 1, \"53\": 1, \"32\": 1, \"20\": 1, \"25\": 1}, \"42\": {\"42\": 18, \"46\": 1, \"6\": 4, \"2\": 1, \"33\": 2, \"8\": 1, \"1\": 1}, \"24\": {\"24\": 99, \"10\": 4, \"22\": 1}, \"15\": {\"15\": 127, \"16\": 7, \"52\": 2}, \"0\": {\"0\": 55, \"26\": 2, \"57\": 7, \"18\": 4, \"12\": 1, \"11\": 4, \"1\": 7, \"45\": 1, \"4\": 3, \"8\": 4, \"20\": 3, \"54\": 3, \"47\": 2, \"29\": 2, \"15\": 3, \"27\": 1, \"36\": 2, \"52\": 1, \"21\": 4, \"48\": 2, \"5\": 2, \"3\": 1, \"17\": 2, \"30\": 1, \"50\": 1, \"6\": 3, \"16\": 2, \"53\": 1}, \"47\": {\"47\": 32, \"22\": 1, \"24\": 1, \"3\": 3, \"50\": 5, \"1\": 7, \"5\": 5, \"57\": 4, \"0\": 7, \"46\": 2, \"18\": 1, \"6\": 4, \"36\": 2, \"19\": 4, \"43\": 2, \"25\": 5, \"8\": 1, \"42\": 1, \"55\": 1, \"29\": 2, \"45\": 1, \"21\": 1}, \"19\": {\"19\": 48, \"41\": 1, \"4\": 9, \"17\": 5, \"36\": 4, \"5\": 3, \"9\": 11, \"1\": 3, \"57\": 9, \"27\": 13, \"29\": 2, \"50\": 4, \"25\": 1, \"48\": 2, \"0\": 1, \"40\": 1, \"54\": 1, \"8\": 1, \"20\": 1}}, \"W_1\": {\"22\": {\"22\": 12, \"126\": 1, \"13\": 1, \"62\": 1, \"100\": 1}, \"58\": {\"58\": 10, \"112\": 1, \"125\": 1}, \"109\": {\"20\": 1, \"22\": 1, \"109\": 46, \"28\": 1, \"63\": 1, \"44\": 3, \"96\": 1, \"10\": 4, \"76\": 1, \"104\": 1, \"66\": 1, \"18\": 8, \"121\": 2, \"113\": 3, \"90\": 17, \"43\": 2, \"39\": 7, \"108\": 3, \"11\": 3, \"87\": 2, \"1\": 1, \"7\": 5, \"12\": 1, \"3\": 3, \"126\": 4, \"118\": 1, \"93\": 1}, \"77\": {\"77\": 15, \"34\": 1}, \"74\": {\"74\": 14, \"19\": 1, \"62\": 1}, \"10\": {\"10\": 35, \"53\": 1, \"75\": 1, \"106\": 7, \"62\": 1, \"19\": 1, \"127\": 3, \"108\": 3, \"21\": 1, \"44\": 3, \"43\": 3, \"69\": 1, \"93\": 4, \"0\": 4, \"122\": 2, \"70\": 3, \"87\": 1, \"110\": 3, \"101\": 8, \"95\": 1, \"8\": 3, \"109\": 3, \"3\": 1, \"1\": 3, \"7\": 3, \"96\": 1, \"65\": 1, \"126\": 7, \"4\": 5, \"20\": 2, \"33\": 1, \"98\": 1, \"12\": 1, \"11\": 1, \"90\": 1}, \"70\": {\"109\": 7, \"52\": 1, \"21\": 1, \"53\": 1, \"70\": 20, \"68\": 1, \"49\": 1, \"93\": 6, \"124\": 1, \"108\": 5, \"13\": 1, \"50\": 1, \"30\": 1, \"89\": 2, \"86\": 2, \"94\": 3, \"98\": 9, \"99\": 2, \"113\": 1, \"11\": 1, \"106\": 2, \"18\": 4, \"87\": 3, \"43\": 2, \"71\": 3, \"117\": 1, \"26\": 1, \"27\": 1, \"40\": 3, \"0\": 2, \"44\": 2, \"3\": 1, \"12\": 3, \"88\": 1, \"51\": 1, \"37\": 1, \"46\": 1, \"7\": 1, \"96\": 3, \"77\": 1, \"2\": 2, \"34\": 1, \"20\": 2, \"90\": 2, \"33\": 2, \"15\": 1, \"4\": 1, \"39\": 3, \"125\": 1, \"107\": 1, \"101\": 1, \"111\": 3, \"10\": 1, \"126\": 2, \"24\": 1}, \"84\": {\"84\": 64, \"114\": 18, \"14\": 5, \"43\": 3, \"87\": 3, \"105\": 1, \"1\": 5, \"126\": 3, \"42\": 1, \"70\": 1, \"5\": 2, \"11\": 2}, \"52\": {\"52\": 7, \"37\": 1, \"98\": 1, \"49\": 1, \"12\": 2, \"24\": 3, \"91\": 2, \"6\": 1, \"30\": 1, \"53\": 1}, \"20\": {\"20\": 7, \"32\": 1, \"61\": 1, \"115\": 1, \"21\": 1, \"113\": 1, \"43\": 1, \"28\": 1, \"69\": 2}, \"14\": {\"14\": 69, \"4\": 1, \"114\": 5, \"62\": 3, \"87\": 1, \"108\": 1, \"122\": 2, \"43\": 1, \"33\": 1, \"8\": 1, \"23\": 1, \"81\": 1, \"84\": 4, \"126\": 1, \"1\": 2, \"5\": 1, \"11\": 1}, \"37\": {\"37\": 12, \"97\": 1, \"24\": 2, \"12\": 1}, \"42\": {\"42\": 6, \"109\": 1, \"28\": 1, \"54\": 1, \"39\": 2, \"98\": 1, \"18\": 2, \"121\": 2, \"70\": 1, \"104\": 2, \"123\": 2, \"124\": 1, \"77\": 1, \"83\": 1, \"99\": 1, \"29\": 1, \"4\": 1, \"44\": 1}, \"99\": {\"20\": 3, \"99\": 15, \"90\": 1, \"33\": 1, \"123\": 1, \"69\": 1, \"109\": 2}, \"35\": {\"42\": 2, \"77\": 1, \"35\": 5, \"72\": 1, \"83\": 2, \"54\": 1}, \"62\": {\"14\": 3, \"129\": 1, \"62\": 87, \"87\": 3, \"16\": 1, \"26\": 5, \"43\": 2, \"122\": 1, \"102\": 5, \"11\": 2, \"84\": 2, \"57\": 1, \"73\": 1, \"82\": 3, \"69\": 1, \"1\": 1, \"125\": 1}, \"61\": {\"61\": 10, \"121\": 1, \"109\": 1}, \"7\": {\"7\": 127, \"104\": 2, \"1\": 2, \"16\": 1, \"44\": 1, \"90\": 2, \"113\": 2, \"109\": 2, \"43\": 2, \"125\": 1}, \"69\": {\"69\": 64, \"102\": 6, \"118\": 4, \"13\": 1, \"26\": 9, \"117\": 4, \"113\": 3, \"124\": 1, \"125\": 1, \"33\": 6, \"1\": 1, \"109\": 1, \"11\": 1, \"8\": 1, \"36\": 1}, \"55\": {\"55\": 11, \"8\": 1}, \"41\": {\"41\": 13, \"10\": 1, \"100\": 1, \"31\": 1}, \"120\": {\"120\": 14, \"44\": 1, \"67\": 1, \"64\": 1, \"128\": 1, \"80\": 2}, \"123\": {\"20\": 2, \"90\": 1, \"123\": 11, \"76\": 1, \"99\": 1}, \"97\": {\"52\": 1, \"32\": 2, \"55\": 1, \"97\": 5, \"91\": 1, \"42\": 1, \"24\": 2, \"30\": 3, \"59\": 1, \"63\": 1, \"87\": 1, \"6\": 1}, \"102\": {\"102\": 74, \"69\": 12, \"50\": 1, \"118\": 2, \"26\": 5, \"33\": 7, \"122\": 2, \"117\": 4, \"16\": 4, \"11\": 5, \"124\": 1, \"104\": 1, \"62\": 2}, \"60\": {\"41\": 1, \"120\": 1, \"25\": 1, \"18\": 1, \"126\": 2, \"28\": 2, \"109\": 2, \"113\": 1, \"47\": 1, \"60\": 2, \"31\": 1, \"125\": 1}, \"127\": {\"127\": 85, \"97\": 2, \"3\": 1, \"88\": 1, \"86\": 1, \"12\": 3, \"71\": 1, \"90\": 1, \"111\": 5, \"68\": 1, \"107\": 1, \"78\": 1, \"108\": 1, \"5\": 1, \"94\": 1, \"24\": 2}, \"32\": {\"32\": 25, \"51\": 1, \"111\": 1, \"6\": 1, \"49\": 1, \"127\": 1, \"31\": 1, \"37\": 1}, \"3\": {\"20\": 2, \"3\": 64, \"15\": 2, \"88\": 1, \"109\": 4, \"18\": 3, \"117\": 1, \"36\": 1, \"113\": 4, \"59\": 1, \"90\": 1, \"44\": 1, \"7\": 1, \"39\": 1, \"124\": 1}, \"8\": {\"29\": 1, \"126\": 4, \"8\": 53, \"101\": 6, \"10\": 4, \"107\": 5, \"86\": 1, \"72\": 1, \"108\": 7, \"114\": 3, \"4\": 3, \"122\": 1, \"14\": 4, \"12\": 2, \"70\": 3, \"87\": 1, \"40\": 6, \"124\": 2, \"106\": 4, \"116\": 1, \"43\": 4, \"110\": 1, \"62\": 1, \"93\": 4}, \"129\": {\"117\": 1, \"8\": 1, \"62\": 2, \"129\": 8, \"39\": 1, \"21\": 1, \"82\": 1, \"105\": 3, \"43\": 1, \"33\": 3, \"96\": 2, \"67\": 1, \"73\": 1, \"1\": 1, \"14\": 1}, \"119\": {\"129\": 2, \"119\": 11, \"116\": 1, \"60\": 1, \"50\": 1}, \"21\": {\"28\": 2, \"98\": 1, \"48\": 1, \"39\": 2, \"44\": 1, \"108\": 3, \"21\": 6, \"24\": 1, \"66\": 1, \"59\": 1, \"72\": 1, \"121\": 2, \"99\": 4, \"101\": 1, \"90\": 2, \"64\": 2, \"47\": 1, \"31\": 1, \"60\": 1, \"56\": 1, \"45\": 1, \"116\": 1, \"9\": 1, \"89\": 1, \"113\": 1}, \"53\": {\"53\": 17, \"2\": 1, \"6\": 1, \"75\": 1}, \"28\": {\"28\": 16, \"66\": 1, \"76\": 1, \"64\": 1, \"90\": 1}, \"117\": {\"129\": 1, \"109\": 1, \"117\": 102, \"50\": 1, \"39\": 7, \"16\": 6, \"33\": 9, \"26\": 2, \"118\": 4, \"69\": 4, \"43\": 1, \"102\": 2, \"11\": 1, \"100\": 2, \"44\": 1}, \"112\": {\"30\": 1, \"112\": 11, \"92\": 1, \"98\": 1, \"36\": 1, \"71\": 1}, \"126\": {\"126\": 60, \"40\": 1, \"10\": 2, \"93\": 7, \"87\": 5, \"102\": 1, \"128\": 1, \"108\": 2, \"5\": 8, \"7\": 4, \"44\": 2, \"1\": 4, \"95\": 1, \"122\": 3, \"70\": 4, \"105\": 2, \"101\": 2, \"3\": 1, \"109\": 3, \"43\": 4, \"88\": 1, \"84\": 6, \"33\": 1, \"118\": 1, \"114\": 3, \"124\": 1, \"62\": 1, \"39\": 2, \"8\": 1}, \"30\": {\"58\": 2, \"30\": 19, \"53\": 2, \"32\": 1, \"36\": 3, \"51\": 1, \"37\": 2, \"59\": 2, \"86\": 2, \"88\": 1, \"0\": 1, \"70\": 1, \"127\": 2, \"9\": 1, \"97\": 2, \"91\": 1, \"103\": 1, \"52\": 2, \"12\": 1, \"56\": 1, \"15\": 2, \"125\": 1, \"98\": 1}, \"105\": {\"105\": 54, \"108\": 1, \"40\": 11, \"27\": 1, \"10\": 1, \"110\": 3, \"88\": 1, \"4\": 2, \"114\": 2, \"80\": 2, \"93\": 2, \"124\": 1, \"87\": 2, \"43\": 1}, \"29\": {\"29\": 25, \"46\": 1, \"127\": 1, \"87\": 1}, \"57\": {\"57\": 10, \"96\": 1, \"23\": 1}, \"93\": {\"93\": 45, \"87\": 6, \"103\": 2, \"105\": 2, \"98\": 1, \"110\": 2, \"34\": 1, \"126\": 8, \"73\": 1, \"0\": 6, \"44\": 2, \"124\": 1, \"8\": 2, \"109\": 4, \"106\": 6, \"70\": 3, \"11\": 2, \"107\": 10, \"5\": 2, \"114\": 3, \"108\": 1, \"101\": 3, \"122\": 3, \"12\": 1, \"55\": 1, \"10\": 1, \"128\": 2, \"78\": 2, \"42\": 2, \"77\": 2, \"86\": 1, \"84\": 1, \"43\": 4, \"40\": 5, \"4\": 1, \"88\": 1}, \"17\": {\"17\": 7, \"97\": 1, \"47\": 1, \"124\": 3, \"89\": 1, \"68\": 1, \"93\": 1, \"101\": 1}, \"44\": {\"44\": 65, \"42\": 1, \"7\": 1, \"43\": 2, \"87\": 2, \"109\": 2, \"122\": 1, \"18\": 1, \"90\": 1}, \"63\": {\"63\": 10, \"115\": 2, \"39\": 2, \"96\": 1, \"11\": 1}, \"87\": {\"55\": 1, \"44\": 3, \"114\": 10, \"2\": 3, \"23\": 1, \"78\": 1, \"129\": 1, \"84\": 10, \"87\": 21, \"126\": 5, \"72\": 1, \"109\": 4, \"105\": 6, \"43\": 9, \"7\": 2, \"62\": 2, \"118\": 2, \"14\": 3, \"40\": 2, \"122\": 6, \"3\": 1, \"57\": 1, \"104\": 2, \"65\": 2, \"70\": 1, \"1\": 2, \"83\": 1, \"5\": 1, \"11\": 1, \"113\": 1, \"39\": 1, \"90\": 1}, \"0\": {\"0\": 21, \"55\": 1, \"85\": 3, \"103\": 2, \"71\": 1, \"12\": 8, \"101\": 6, \"127\": 5, \"111\": 3, \"106\": 7, \"5\": 1, \"70\": 3, \"4\": 2, \"110\": 3, \"122\": 1, \"87\": 3, \"108\": 2, \"105\": 1, \"83\": 2, \"15\": 1, \"98\": 1, \"86\": 1, \"21\": 1, \"72\": 1, \"29\": 1, \"124\": 1, \"8\": 1, \"40\": 1}, \"96\": {\"63\": 3, \"57\": 3, \"96\": 5, \"19\": 2, \"95\": 2, \"60\": 1, \"18\": 1, \"64\": 1, \"129\": 1, \"44\": 1}, \"98\": {\"75\": 2, \"98\": 71, \"24\": 10, \"5\": 1, \"34\": 1, \"0\": 2, \"12\": 5, \"70\": 3, \"111\": 2, \"88\": 2, \"94\": 2, \"110\": 1, \"37\": 2, \"30\": 1, \"127\": 1, \"11\": 1, \"108\": 1}, \"75\": {\"75\": 16}, \"78\": {\"55\": 1, \"63\": 2, \"44\": 1, \"129\": 2, \"40\": 3, \"99\": 1, \"126\": 1, \"81\": 1, \"77\": 1, \"24\": 1, \"110\": 1, \"19\": 1}, \"116\": {\"116\": 18, \"96\": 2, \"124\": 1, \"50\": 1, \"117\": 2, \"26\": 1, \"33\": 1, \"80\": 1, \"60\": 1, \"120\": 1, \"13\": 1, \"14\": 1, \"94\": 1}, \"114\": {\"114\": 100, \"67\": 1, \"82\": 1, \"87\": 5, \"14\": 1, \"1\": 4, \"4\": 1, \"43\": 2, \"10\": 1, \"125\": 1, \"122\": 1, \"84\": 6, \"93\": 2, \"101\": 1, \"126\": 1}, \"103\": {\"103\": 7, \"46\": 1, \"79\": 1, \"0\": 2, \"108\": 1, \"9\": 1, \"111\": 1, \"93\": 2}, \"50\": {\"50\": 11, \"45\": 2, \"119\": 1, \"1\": 2}, \"124\": {\"103\": 1, \"114\": 6, \"67\": 1, \"109\": 1, \"124\": 50, \"12\": 2, \"105\": 4, \"38\": 1, \"101\": 7, \"122\": 1, \"9\": 2, \"93\": 3, \"24\": 2, \"89\": 1, \"4\": 5, \"14\": 1, \"126\": 1, \"106\": 2, \"107\": 3, \"108\": 2, \"127\": 1, \"8\": 6, \"84\": 4, \"40\": 6, \"110\": 1, \"111\": 1, \"43\": 2, \"35\": 1, \"80\": 1, \"77\": 1, \"85\": 1, \"83\": 1, \"0\": 3, \"70\": 1, \"10\": 1, \"88\": 1}, \"5\": {\"5\": 68, \"46\": 1, \"87\": 2, \"128\": 2, \"84\": 1, \"120\": 1, \"43\": 1, \"114\": 1, \"126\": 3, \"93\": 2, \"70\": 1, \"14\": 1, \"82\": 2, \"18\": 1, \"15\": 1}, \"73\": {\"73\": 14, \"49\": 1, \"122\": 1, \"67\": 1, \"33\": 1, \"74\": 1, \"5\": 1}, \"81\": {\"114\": 2, \"81\": 21, \"93\": 1, \"10\": 1, \"19\": 2, \"5\": 1}, \"49\": {\"49\": 7, \"109\": 1, \"112\": 1, \"93\": 2, \"41\": 1, \"32\": 2, \"34\": 2, \"70\": 1, \"27\": 1, \"97\": 1, \"129\": 1}, \"16\": {\"16\": 48, \"39\": 7, \"64\": 1, \"102\": 8, \"109\": 2, \"69\": 7, \"118\": 7, \"26\": 5, \"33\": 6, \"117\": 5, \"124\": 1, \"18\": 4, \"90\": 2, \"88\": 1, \"63\": 1, \"11\": 1, \"125\": 1, \"44\": 1}, \"101\": {\"101\": 107, \"72\": 1, \"110\": 1, \"106\": 3, \"10\": 2, \"12\": 2, \"86\": 1, \"0\": 1, \"4\": 3, \"29\": 1, \"24\": 1, \"93\": 1}, \"125\": {\"125\": 92, \"6\": 1, \"94\": 3, \"36\": 2, \"15\": 4, \"88\": 10, \"58\": 1, \"30\": 1, \"92\": 1, \"27\": 3}, \"65\": {\"39\": 1, \"28\": 1, \"92\": 1, \"123\": 1, \"3\": 2, \"42\": 1, \"66\": 2, \"88\": 1, \"18\": 1, \"76\": 1}, \"66\": {\"66\": 15, \"64\": 1}, \"79\": {\"101\": 1, \"79\": 11}, \"39\": {\"66\": 1, \"39\": 21, \"16\": 6, \"44\": 2, \"33\": 5, \"30\": 1, \"129\": 1, \"13\": 1, \"102\": 9, \"69\": 5, \"48\": 1, \"90\": 17, \"26\": 7, \"18\": 7, \"118\": 3, \"113\": 7, \"117\": 5, \"123\": 1, \"1\": 2, \"109\": 1, \"11\": 1}, \"104\": {\"96\": 1, \"104\": 10, \"123\": 2, \"16\": 1, \"3\": 2}, \"91\": {\"91\": 9, \"53\": 1, \"30\": 1, \"35\": 2, \"108\": 1, \"116\": 1, \"41\": 2, \"52\": 2, \"46\": 2, \"106\": 1, \"103\": 1, \"54\": 1, \"128\": 2, \"121\": 1, \"24\": 1}, \"25\": {\"25\": 11, \"10\": 1, \"31\": 1, \"11\": 1, \"80\": 1, \"22\": 1}, \"64\": {\"66\": 1, \"64\": 15}, \"34\": {\"43\": 1, \"25\": 1, \"34\": 3, \"116\": 1, \"24\": 8, \"42\": 1, \"30\": 1, \"36\": 1, \"39\": 1, \"18\": 1, \"6\": 2, \"92\": 1, \"70\": 2, \"87\": 1, \"128\": 1, \"108\": 2, \"98\": 1, \"113\": 1, \"102\": 1, \"122\": 1}, \"82\": {\"82\": 27, \"128\": 1, \"7\": 1, \"74\": 1, \"62\": 1, \"118\": 1, \"57\": 1, \"41\": 1, \"100\": 1, \"50\": 1}, \"18\": {\"18\": 95, \"66\": 1, \"76\": 1, \"90\": 15, \"121\": 3, \"64\": 2, \"113\": 3, \"7\": 2, \"63\": 2}, \"43\": {\"18\": 3, \"43\": 28, \"115\": 1, \"113\": 3, \"114\": 9, \"78\": 1, \"68\": 1, \"2\": 1, \"84\": 11, \"70\": 2, \"3\": 2, \"29\": 1, \"33\": 3, \"69\": 2, \"4\": 2, \"11\": 4, \"126\": 2, \"109\": 9, \"93\": 1, \"5\": 5, \"124\": 1, \"62\": 2, \"102\": 1, \"26\": 1, \"14\": 6, \"39\": 4, \"87\": 5, \"117\": 2, \"16\": 1, \"90\": 2, \"80\": 1, \"45\": 2, \"129\": 1, \"81\": 1, \"122\": 3, \"105\": 1, \"8\": 1, \"7\": 2}, \"47\": {\"47\": 11, \"93\": 1}, \"108\": {\"32\": 1, \"127\": 3, \"23\": 3, \"125\": 5, \"78\": 1, \"47\": 1, \"88\": 3, \"39\": 2, \"70\": 5, \"93\": 8, \"83\": 2, \"108\": 36, \"41\": 1, \"21\": 2, \"109\": 2, \"124\": 4, \"86\": 1, \"8\": 2, \"126\": 5, \"98\": 2, \"89\": 2, \"10\": 6, \"12\": 3, \"4\": 4, \"71\": 4, \"0\": 1, \"101\": 7, \"9\": 1, \"72\": 1, \"92\": 1, \"106\": 1, \"33\": 1, \"24\": 1, \"110\": 1, \"40\": 1}, \"111\": {\"111\": 83, \"71\": 5, \"24\": 2, \"94\": 2, \"109\": 1, \"70\": 1, \"12\": 2, \"88\": 3, \"59\": 1, \"127\": 7, \"27\": 1}, \"23\": {\"90\": 4, \"68\": 1, \"32\": 2, \"24\": 1, \"3\": 1, \"113\": 1, \"6\": 2, \"23\": 1, \"18\": 1, \"60\": 1, \"15\": 1, \"110\": 1, \"54\": 1, \"104\": 2, \"88\": 2, \"74\": 2}, \"90\": {\"90\": 143, \"76\": 2, \"66\": 3, \"18\": 9, \"36\": 2, \"121\": 1}, \"4\": {\"70\": 4, \"4\": 51, \"40\": 9, \"42\": 1, \"101\": 5, \"78\": 1, \"8\": 4, \"110\": 1, \"126\": 1, \"107\": 3, \"105\": 5, \"114\": 1, \"122\": 2, \"93\": 5, \"0\": 1, \"72\": 1, \"27\": 1, \"124\": 1, \"87\": 1, \"10\": 1, \"12\": 1}, \"92\": {\"92\": 26, \"6\": 1, \"94\": 1}, \"2\": {\"90\": 2, \"2\": 6, \"115\": 1, \"50\": 1, \"28\": 1, \"82\": 2, \"84\": 1, \"44\": 1, \"102\": 1, \"18\": 4, \"118\": 2, \"87\": 1, \"62\": 1, \"104\": 1, \"43\": 1, \"15\": 1, \"113\": 2, \"11\": 1, \"109\": 1, \"33\": 1}, \"45\": {\"90\": 2, \"84\": 1, \"80\": 2, \"76\": 1, \"67\": 1, \"104\": 1, \"28\": 2, \"124\": 1, \"43\": 1}, \"68\": {\"68\": 9, \"111\": 2, \"127\": 2, \"71\": 1, \"110\": 1, \"79\": 1}, \"26\": {\"26\": 89, \"1\": 3, \"19\": 1, \"39\": 3, \"16\": 5, \"102\": 5, \"11\": 6, \"33\": 6, \"69\": 6, \"90\": 1, \"62\": 3}, \"38\": {\"38\": 13, \"10\": 1, \"22\": 1, \"129\": 1}, \"40\": {\"40\": 98, \"107\": 7, \"80\": 1, \"105\": 10, \"67\": 1, \"4\": 11, \"98\": 1, \"101\": 3, \"93\": 2, \"114\": 1, \"84\": 1, \"72\": 1, \"8\": 1, \"14\": 1, \"70\": 1, \"111\": 1, \"43\": 1}, \"80\": {\"80\": 11, \"70\": 1, \"20\": 1, \"126\": 1, \"73\": 1, \"69\": 1}, \"107\": {\"107\": 87, \"3\": 1, \"72\": 1, \"105\": 2, \"106\": 7, \"127\": 1, \"18\": 1, \"101\": 2, \"40\": 4, \"110\": 7, \"124\": 1, \"79\": 1, \"77\": 2, \"34\": 1, \"118\": 1, \"90\": 1, \"12\": 1, \"93\": 1}, \"94\": {\"52\": 1, \"94\": 39, \"59\": 2, \"101\": 1, \"71\": 6, \"15\": 6, \"125\": 7, \"127\": 2, \"98\": 4, \"27\": 4, \"70\": 1, \"88\": 4, \"111\": 3, \"36\": 2, \"37\": 1, \"12\": 4, \"24\": 3, \"89\": 1, \"108\": 1}, \"115\": {\"115\": 12}, \"46\": {\"72\": 1, \"32\": 1, \"105\": 2, \"103\": 1, \"30\": 1, \"3\": 1, \"46\": 3, \"9\": 1, \"94\": 1}, \"72\": {\"5\": 2, \"72\": 21, \"87\": 1, \"93\": 1, \"52\": 1, \"107\": 1, \"8\": 1, \"101\": 1, \"40\": 1, \"108\": 1, \"83\": 1}, \"19\": {\"72\": 2, \"96\": 2, \"101\": 2, \"19\": 11, \"93\": 1, \"61\": 1, \"40\": 1, \"117\": 2, \"13\": 2, \"63\": 1, \"1\": 1, \"62\": 1, \"69\": 1}, \"100\": {\"100\": 7, \"33\": 1, \"82\": 1, \"98\": 1, \"119\": 2, \"27\": 1, \"109\": 1, \"1\": 1, \"43\": 1}, \"76\": {\"76\": 12, \"66\": 2, \"64\": 1, \"22\": 1}, \"106\": {\"106\": 69, \"24\": 1, \"110\": 15, \"101\": 5, \"127\": 4, \"107\": 17, \"0\": 4, \"93\": 2, \"70\": 1, \"108\": 3, \"12\": 3, \"40\": 1, \"111\": 3, \"68\": 1, \"4\": 1, \"98\": 1, \"10\": 1}, \"88\": {\"15\": 6, \"108\": 1, \"59\": 1, \"24\": 6, \"125\": 11, \"89\": 2, \"9\": 1, \"88\": 43, \"2\": 1, \"112\": 1, \"127\": 5, \"36\": 12, \"98\": 5, \"94\": 4, \"27\": 8, \"71\": 6, \"70\": 4, \"12\": 3, \"111\": 4, \"51\": 1, \"37\": 1, \"30\": 2, \"106\": 1, \"18\": 1}, \"15\": {\"15\": 46, \"6\": 4, \"27\": 15, \"101\": 2, \"88\": 4, \"94\": 6, \"125\": 6, \"124\": 1, \"71\": 4, \"12\": 3, \"36\": 3, \"108\": 1, \"70\": 1, \"98\": 1, \"4\": 1, \"111\": 1, \"110\": 1, \"24\": 2, \"10\": 1, \"127\": 1}, \"54\": {\"54\": 13, \"15\": 1, \"72\": 1, \"97\": 1}, \"13\": {\"13\": 10, \"50\": 1, \"69\": 2, \"33\": 1, \"118\": 2}, \"51\": {\"51\": 13, \"24\": 1, \"97\": 1, \"94\": 1}, \"24\": {\"98\": 8, \"24\": 40, \"91\": 1, \"71\": 7, \"27\": 4, \"52\": 1, \"88\": 4, \"112\": 1, \"9\": 4, \"126\": 2, \"10\": 2, \"12\": 3, \"125\": 1, \"34\": 3, \"89\": 3, \"108\": 1, \"94\": 1, \"111\": 2, \"92\": 1, \"3\": 2, \"0\": 1}, \"48\": {\"48\": 8, \"20\": 1, \"63\": 1, \"96\": 2}, \"85\": {\"85\": 25, \"0\": 2, \"24\": 1, \"110\": 1, \"127\": 1, \"12\": 1, \"29\": 1}, \"33\": {\"33\": 121, \"1\": 2, \"102\": 4, \"43\": 1, \"69\": 4, \"26\": 1, \"16\": 2, \"50\": 1, \"118\": 2, \"7\": 1, \"117\": 1}, \"71\": {\"71\": 77, \"24\": 2, \"122\": 1, \"30\": 1, \"68\": 1, \"36\": 1, \"127\": 1, \"94\": 3, \"27\": 1, \"111\": 7, \"125\": 3, \"16\": 1, \"70\": 1, \"12\": 1, \"91\": 1, \"33\": 1, \"98\": 3, \"108\": 1, \"126\": 1}, \"6\": {\"6\": 13, \"24\": 3, \"108\": 1, \"127\": 1, \"111\": 2, \"98\": 2, \"27\": 1, \"125\": 1, \"75\": 1, \"9\": 1, \"97\": 2, \"58\": 3, \"94\": 1}, \"83\": {\"42\": 1, \"83\": 13, \"47\": 1, \"108\": 3, \"18\": 1, \"72\": 1, \"34\": 2, \"60\": 1, \"38\": 1, \"43\": 1, \"14\": 1, \"99\": 1, \"95\": 1}, \"121\": {\"90\": 3, \"39\": 1, \"121\": 7, \"18\": 3, \"64\": 2, \"66\": 4, \"120\": 1, \"109\": 2, \"44\": 2, \"78\": 1, \"25\": 1, \"42\": 2, \"95\": 2, \"113\": 1}, \"31\": {\"31\": 13, \"122\": 1, \"55\": 2}, \"67\": {\"76\": 1, \"67\": 9, \"100\": 1, \"114\": 1, \"62\": 2, \"81\": 1, \"80\": 1}, \"1\": {\"1\": 98, \"102\": 3, \"69\": 2, \"128\": 2, \"118\": 1, \"11\": 1, \"44\": 1, \"26\": 3, \"117\": 1, \"114\": 2, \"84\": 6, \"126\": 5, \"33\": 3, \"110\": 1, \"5\": 1, \"93\": 1, \"62\": 1, \"43\": 2, \"109\": 1, \"87\": 1}, \"27\": {\"70\": 1, \"56\": 1, \"27\": 31, \"59\": 3, \"24\": 3, \"15\": 5, \"125\": 10, \"6\": 1, \"106\": 4, \"71\": 6, \"107\": 1, \"94\": 1, \"88\": 11, \"108\": 1, \"124\": 1, \"36\": 2, \"10\": 1, \"91\": 1, \"52\": 1, \"85\": 1, \"101\": 2, \"98\": 3, \"30\": 1}, \"118\": {\"33\": 6, \"44\": 2, \"39\": 1, \"63\": 1, \"118\": 30, \"117\": 6, \"99\": 1, \"69\": 5, \"26\": 4, \"11\": 1, \"113\": 2, \"16\": 5, \"98\": 1, \"102\": 7, \"109\": 1, \"62\": 2, \"119\": 1, \"60\": 1, \"125\": 1, \"76\": 1, \"22\": 1, \"18\": 1, \"3\": 1, \"90\": 2}, \"56\": {\"56\": 8, \"27\": 1, \"58\": 1, \"94\": 1, \"92\": 1}, \"36\": {\"36\": 95, \"30\": 2, \"125\": 10, \"88\": 9, \"27\": 3, \"70\": 1, \"71\": 1, \"15\": 1, \"97\": 1, \"94\": 2, \"92\": 1, \"98\": 1, \"24\": 1}, \"11\": {\"33\": 5, \"67\": 1, \"16\": 2, \"86\": 1, \"90\": 4, \"126\": 1, \"95\": 1, \"84\": 2, \"62\": 8, \"109\": 3, \"87\": 2, \"117\": 2, \"11\": 30, \"26\": 10, \"124\": 1, \"4\": 2, \"43\": 3, \"102\": 4, \"39\": 6, \"14\": 4, \"1\": 3, \"113\": 5, \"7\": 3, \"8\": 4, \"88\": 1, \"5\": 1, \"13\": 1, \"78\": 1, \"19\": 1, \"128\": 1, \"44\": 2, \"121\": 1, \"110\": 1, \"18\": 4, \"10\": 1, \"105\": 1, \"69\": 1, \"114\": 2}, \"110\": {\"110\": 51, \"4\": 1, \"106\": 21, \"124\": 1, \"108\": 3, \"21\": 2, \"93\": 3, \"101\": 4, \"0\": 6, \"12\": 3, \"88\": 1, \"8\": 2, \"40\": 3, \"127\": 3, \"107\": 11, \"10\": 3, \"111\": 1, \"46\": 1, \"17\": 1, \"27\": 1}, \"89\": {\"89\": 21, \"92\": 2, \"98\": 2, \"54\": 1, \"88\": 2, \"30\": 1, \"24\": 1, \"70\": 3, \"32\": 1, \"0\": 1, \"71\": 1}, \"113\": {\"113\": 88, \"3\": 6, \"90\": 10, \"109\": 3, \"18\": 3, \"39\": 3, \"88\": 1, \"33\": 2, \"36\": 1, \"70\": 1}, \"59\": {\"59\": 7, \"27\": 2, \"30\": 2, \"112\": 1}, \"9\": {\"9\": 20, \"108\": 2, \"29\": 1, \"98\": 1, \"88\": 1, \"40\": 1, \"46\": 1, \"54\": 1, \"41\": 1, \"85\": 1, \"0\": 1, \"21\": 1}, \"86\": {\"86\": 21, \"93\": 3, \"108\": 2, \"72\": 2, \"41\": 1, \"122\": 1, \"25\": 1, \"5\": 2, \"94\": 1, \"0\": 1, \"88\": 1}, \"12\": {\"12\": 60, \"52\": 1, \"127\": 1, \"94\": 1, \"93\": 3, \"24\": 1, \"106\": 3, \"71\": 6, \"108\": 4, \"10\": 1, \"101\": 2, \"98\": 2, \"90\": 1, \"111\": 5, \"51\": 1, \"0\": 3, \"37\": 1, \"88\": 3, \"118\": 1, \"110\": 1, \"124\": 1, \"70\": 2}, \"122\": {\"126\": 2, \"62\": 1, \"81\": 2, \"122\": 16, \"34\": 1, \"4\": 5, \"19\": 1, \"18\": 1, \"118\": 2, \"21\": 1, \"84\": 4, \"43\": 5, \"14\": 7, \"114\": 5, \"33\": 3, \"70\": 1, \"8\": 1, \"102\": 2, \"7\": 1, \"124\": 1, \"39\": 4, \"11\": 1, \"117\": 1, \"108\": 1, \"25\": 1, \"44\": 4, \"93\": 1, \"27\": 1, \"87\": 1, \"40\": 3, \"105\": 3, \"1\": 2, \"16\": 1, \"15\": 1, \"24\": 1}, \"128\": {\"128\": 10, \"99\": 1, \"5\": 3, \"108\": 1, \"82\": 1, \"117\": 1, \"49\": 1, \"11\": 1, \"13\": 1, \"19\": 1, \"72\": 1, \"43\": 1, \"86\": 1}, \"95\": {\"90\": 1, \"62\": 2, \"95\": 18, \"48\": 1, \"113\": 1, \"84\": 1, \"4\": 1, \"64\": 1, \"120\": 1, \"119\": 1, \"63\": 1, \"109\": 1, \"50\": 1, \"116\": 2, \"69\": 1, \"29\": 1, \"118\": 1}}}, \"per_domain_accuracy\": {\"O_14\": {\"accuracy\": 0.9463541666666667, \"source?\": true}, \"O_20\": {\"accuracy\": 0.89609375, \"source?\": true}, \"O_50\": {\"accuracy\": 0.92421875, \"source?\": true}, \"O_26\": {\"accuracy\": 0.8052083333333333, \"source?\": true}, \"O_32\": {\"accuracy\": 0.90859375, \"source?\": true}, \"O_44\": {\"accuracy\": 0.79765625, \"source?\": true}, \"O_8\": {\"accuracy\": 0.9190104166666667, \"source?\": true}, \"O_38\": {\"accuracy\": 0.9263020833333333, \"source?\": true}, \"C_4\": {\"accuracy\": 0.7116392215568862, \"source?\": false}, \"C_5\": {\"accuracy\": 0.7410963687150838, \"source?\": false}, \"W_3\": {\"accuracy\": 0.5470796943231441, \"source?\": false}, \"W_4\": {\"accuracy\": 0.4832128099173554, \"source?\": false}, \"C_2\": {\"accuracy\": 0.6917857142857143, \"source?\": false}, \"W_2\": {\"accuracy\": 0.5341508438818565, \"source?\": false}, \"C_1\": {\"accuracy\": 0.7710597826086957, \"source?\": false}, \"C_3\": {\"accuracy\": 0.6832720588235294, \"source?\": false}, \"W_1\": {\"accuracy\": 0.5597426470588235, \"source?\": false}}}, \"history\": {\"epoch_indices\": [1, 2, 3, 4, 5, 6, 7, 8, 9, 10, 11, 12, 13, 14, 15, 16, 17], \"train_label_loss\": [0.993038046049575, 0.8885865130794368, 0.6250269595966009, 0.5356825927876689, 0.48098264688049397, 0.43806832445109084, 0.40243963437720337, 0.3620844192256863, 0.3236775133557828, 0.3010244023284897, 0.2772352079299578, 0.26945906510019474, 0.24697098812944854, 0.2371217696375208, 0.2213265742068567, 0.21184239821602768, 0.20194377463700394], \"source_val_label_loss\": [6.759613990783691, 0.713868260383606, 0.575171947479248, 0.5623399615287781, 0.49155569076538086, 0.4642260670661926, 0.47056978940963745, 0.40606075525283813, 0.3395248353481293, 0.353375107049942, 0.33799418807029724, 0.3400737941265106, 0.3125927746295929, 0.31253406405448914, 0.325108140707016, 0.3320457339286804, 0.3257068395614624], \"target_val_label_loss\": [1725.960205078125, 293.30950927734375, 307.6596374511719, 315.2370910644531, 349.7066345214844, 338.977783203125, 366.5677795410156, 407.74462890625, 461.821044921875, 466.40777587890625, 516.7913818359375, 530.1132202148438, 588.2139282226562, 610.25341796875, 648.47216796875, 712.9874877929688, 790.8939819335938], \"source_val_acc_label\": [0.68818359375, 0.7475260416666667, 0.7935872395833333, 0.7937174479166667, 0.8276041666666667, 0.8329752604166667, 0.8304361979166667, 0.8572591145833334, 0.8763020833333334, 0.8726888020833333, 0.8759114583333333, 0.8783203125, 0.8904296875, 0.8874674479166667, 0.8875651041666667, 0.8838216145833333, 0.8852864583333333], \"target_val_acc_label\": [0.4350288303130148, 0.557368890719385, 0.5831445634266886, 0.588378638110928, 0.6092462932454695, 0.6109280615046677, 0.6119233937397035, 0.6097267984623833, 0.6173119165293794, 0.6180326743547502, 0.6153898956617243, 0.6185475013728721, 0.6219796814936848, 0.6028109555189456, 0.6020558758923669, 0.5981260296540363, 0.5962040087863811]}, \"dataset_metrics\": {\"source\": {\"train\": {\"n_unique_x\": 179200, \"n_unique_y\": 16, \"n_batch/episode\": 6720}, \"val\": {\"n_unique_x\": 38400, \"n_unique_y\": 16, \"n_batch/episode\": 960}, \"test\": {\"n_unique_x\": 38400, \"n_unique_y\": 16, \"n_batch/episode\": 960}}, \"target\": {\"train\": {\"n_unique_x\": 364209, \"n_unique_y\": 130, \"n_batch/episode\": 13178}, \"val\": {\"n_unique_x\": 77265, \"n_unique_y\": 130, \"n_batch/episode\": 1821}, \"test\": {\"n_unique_x\": 78390, \"n_unique_y\": 130, \"n_batch/episode\": 1852}}}}'"
      ]
     },
     "execution_count": 29,
     "metadata": {},
     "output_type": "execute_result"
    }
   ],
   "source": [
    "json.dumps(experiment)"
   ]
  }
 ],
 "metadata": {
  "celltoolbar": "Tags",
  "kernelspec": {
   "display_name": "Python 3 (ipykernel)",
   "language": "python",
   "name": "python3"
  },
  "language_info": {
   "codemirror_mode": {
    "name": "ipython",
    "version": 3
   },
   "file_extension": ".py",
   "mimetype": "text/x-python",
   "name": "python",
   "nbconvert_exporter": "python",
   "pygments_lexer": "ipython3",
   "version": "3.8.10"
  },
  "papermill": {
   "default_parameters": {},
   "duration": 3074.783945,
   "end_time": "2022-03-20T23:22:51.008082",
   "environment_variables": {},
   "exception": null,
   "input_path": "/mnt/wd500GB/CSC500/csc500-main/csc500-notebooks/templates/tl_ptn_template.ipynb",
   "output_path": "trial.ipynb",
   "parameters": {
    "parameters": {
     "BEST_MODEL_PATH": "./best_model.pth",
     "NUM_LOGS_PER_EPOCH": 10,
     "criteria_for_best": "target_accuracy",
     "dataset_seed": 420,
     "datasets": [
      {
       "domain_prefix": "C_",
       "domains": [
        1,
        2,
        3,
        4,
        5
       ],
       "episode_transforms": [],
       "labels": [
        "1-10.",
        "1-11.",
        "1-15.",
        "1-16.",
        "1-17.",
        "1-18.",
        "1-19.",
        "10-4.",
        "10-7.",
        "11-1.",
        "11-14.",
        "11-17.",
        "11-20.",
        "11-7.",
        "13-20.",
        "13-8.",
        "14-10.",
        "14-11.",
        "14-14.",
        "14-7.",
        "15-1.",
        "15-20.",
        "16-1.",
        "16-16.",
        "17-10.",
        "17-11.",
        "17-2.",
        "19-1.",
        "19-16.",
        "19-19.",
        "19-20.",
        "19-3.",
        "2-10.",
        "2-11.",
        "2-17.",
        "2-18.",
        "2-20.",
        "2-3.",
        "2-4.",
        "2-5.",
        "2-6.",
        "2-7.",
        "2-8.",
        "3-13.",
        "3-18.",
        "3-3.",
        "4-1.",
        "4-10.",
        "4-11.",
        "4-19.",
        "5-5.",
        "6-15.",
        "7-10.",
        "7-14.",
        "8-18.",
        "8-20.",
        "8-3.",
        "8-8."
       ],
       "num_examples_per_domain_per_label": -1,
       "pickle_path": "/mnt/wd500GB/CSC500/csc500-main/datasets/cores.stratified_ds.2022A.pkl",
       "source_or_target_dataset": "target",
       "x_transforms": [
        "unit_power",
        "take_200"
       ]
      },
      {
       "domain_prefix": "W_",
       "domains": [
        1,
        2,
        3,
        4
       ],
       "episode_transforms": [],
       "labels": [
        "1-10",
        "1-12",
        "1-14",
        "1-16",
        "1-18",
        "1-19",
        "1-8",
        "10-11",
        "10-17",
        "10-4",
        "10-7",
        "11-1",
        "11-10",
        "11-19",
        "11-20",
        "11-4",
        "11-7",
        "12-19",
        "12-20",
        "12-7",
        "13-14",
        "13-18",
        "13-19",
        "13-20",
        "13-3",
        "13-7",
        "14-10",
        "14-11",
        "14-12",
        "14-13",
        "14-14",
        "14-19",
        "14-20",
        "14-7",
        "14-8",
        "14-9",
        "15-1",
        "15-19",
        "15-6",
        "16-1",
        "16-16",
        "16-19",
        "16-20",
        "17-10",
        "17-11",
        "18-1",
        "18-10",
        "18-11",
        "18-12",
        "18-13",
        "18-14",
        "18-15",
        "18-16",
        "18-17",
        "18-19",
        "18-2",
        "18-20",
        "18-4",
        "18-5",
        "18-7",
        "18-8",
        "18-9",
        "19-1",
        "19-10",
        "19-11",
        "19-12",
        "19-13",
        "19-14",
        "19-15",
        "19-19",
        "19-2",
        "19-20",
        "19-3",
        "19-4",
        "19-6",
        "19-7",
        "19-8",
        "19-9",
        "2-1",
        "2-13",
        "2-15",
        "2-3",
        "2-4",
        "2-5",
        "2-6",
        "2-7",
        "2-8",
        "20-1",
        "20-12",
        "20-14",
        "20-15",
        "20-16",
        "20-18",
        "20-19",
        "20-20",
        "20-3",
        "20-4",
        "20-5",
        "20-7",
        "20-8",
        "3-1",
        "3-13",
        "3-18",
        "3-2",
        "3-8",
        "4-1",
        "4-10",
        "4-11",
        "5-1",
        "5-5",
        "6-1",
        "6-15",
        "6-6",
        "7-10",
        "7-11",
        "7-12",
        "7-13",
        "7-14",
        "7-7",
        "7-8",
        "7-9",
        "8-1",
        "8-13",
        "8-14",
        "8-18",
        "8-20",
        "8-3",
        "8-8",
        "9-1",
        "9-7"
       ],
       "num_examples_per_domain_per_label": -1,
       "pickle_path": "/mnt/wd500GB/CSC500/csc500-main/datasets/wisig.node3-19.stratified_ds.2022A.pkl",
       "source_or_target_dataset": "target",
       "x_transforms": [
        "unit_power",
        "take_200"
       ]
      },
      {
       "domain_prefix": "O_",
       "domains": [
        32,
        38,
        8,
        44,
        14,
        50,
        20,
        26
       ],
       "episode_transforms": [],
       "labels": [
        "3123D52",
        "3123D65",
        "3123D79",
        "3123D80",
        "3123D54",
        "3123D70",
        "3123D7B",
        "3123D89",
        "3123D58",
        "3123D76",
        "3123D7D",
        "3123EFE",
        "3123D64",
        "3123D78",
        "3123D7E",
        "3124E4A"
       ],
       "num_examples_per_domain_per_label": 2000,
       "pickle_path": "/mnt/wd500GB/CSC500/csc500-main/datasets/oracle.Run1_framed_2000Examples_stratified_ds.2022A.pkl",
       "source_or_target_dataset": "source",
       "x_transforms": [
        "unit_power",
        "take_200",
        "resample_20Msps_to_25Msps"
       ]
      }
     ],
     "device": "cuda",
     "experiment_name": "tl_3Av2:oracle.run1.framed -> cores+wisig",
     "lr": 0.0001,
     "n_epoch": 50,
     "n_query": 2,
     "n_shot": 3,
     "n_way": 16,
     "patience": 3,
     "seed": 420,
     "test_k_factor": 2,
     "torch_default_dtype": "torch.float32",
     "train_k_factor": 3,
     "val_k_factor": 2,
     "x_net": [
      {
       "class": "nnReshape",
       "kargs": {
        "shape": [
         -1,
         1,
         2,
         200
        ]
       }
      },
      {
       "class": "Conv2d",
       "kargs": {
        "bias": false,
        "in_channels": 1,
        "kernel_size": [
         1,
         7
        ],
        "out_channels": 256,
        "padding": [
         0,
         3
        ]
       }
      },
      {
       "class": "ReLU",
       "kargs": {
        "inplace": true
       }
      },
      {
       "class": "BatchNorm2d",
       "kargs": {
        "num_features": 256
       }
      },
      {
       "class": "Conv2d",
       "kargs": {
        "bias": true,
        "in_channels": 256,
        "kernel_size": [
         2,
         7
        ],
        "out_channels": 80,
        "padding": [
         0,
         3
        ]
       }
      },
      {
       "class": "ReLU",
       "kargs": {
        "inplace": true
       }
      },
      {
       "class": "BatchNorm2d",
       "kargs": {
        "num_features": 80
       }
      },
      {
       "class": "Flatten",
       "kargs": {}
      },
      {
       "class": "Linear",
       "kargs": {
        "in_features": 16000,
        "out_features": 256
       }
      },
      {
       "class": "ReLU",
       "kargs": {
        "inplace": true
       }
      },
      {
       "class": "BatchNorm1d",
       "kargs": {
        "num_features": 256
       }
      },
      {
       "class": "Linear",
       "kargs": {
        "in_features": 256,
        "out_features": 256
       }
      }
     ],
     "x_shape": [
      2,
      200
     ]
    }
   },
   "start_time": "2022-03-20T22:31:36.224137",
   "version": "2.3.4"
  }
 },
 "nbformat": 4,
 "nbformat_minor": 5
}