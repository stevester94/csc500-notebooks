{
 "cells": [
  {
   "cell_type": "markdown",
   "id": "9fea5f46",
   "metadata": {
    "papermill": {
     "duration": 0.018482,
     "end_time": "2022-03-21T00:05:19.662402",
     "exception": false,
     "start_time": "2022-03-21T00:05:19.643920",
     "status": "completed"
    },
    "tags": []
   },
   "source": [
    "# Transfer Learning Template"
   ]
  },
  {
   "cell_type": "code",
   "execution_count": 1,
   "id": "0902182a",
   "metadata": {
    "execution": {
     "iopub.execute_input": "2022-03-21T00:05:19.702191Z",
     "iopub.status.busy": "2022-03-21T00:05:19.699962Z",
     "iopub.status.idle": "2022-03-21T00:05:20.609934Z",
     "shell.execute_reply": "2022-03-21T00:05:20.609601Z"
    },
    "papermill": {
     "duration": 0.934904,
     "end_time": "2022-03-21T00:05:20.610004",
     "exception": false,
     "start_time": "2022-03-21T00:05:19.675100",
     "status": "completed"
    },
    "tags": []
   },
   "outputs": [],
   "source": [
    "%load_ext autoreload\n",
    "%autoreload 2\n",
    "%matplotlib inline\n",
    "\n",
    "    \n",
    "import os, json, sys, time, random\n",
    "import numpy as np\n",
    "import torch\n",
    "from torch.optim import Adam\n",
    "from  easydict import EasyDict\n",
    "import matplotlib.pyplot as plt\n",
    "\n",
    "from steves_models.steves_ptn import Steves_Prototypical_Network\n",
    "\n",
    "from steves_utils.lazy_iterable_wrapper import Lazy_Iterable_Wrapper\n",
    "from steves_utils.iterable_aggregator import Iterable_Aggregator\n",
    "from steves_utils.ptn_train_eval_test_jig import  PTN_Train_Eval_Test_Jig\n",
    "from steves_utils.torch_sequential_builder import build_sequential\n",
    "from steves_utils.torch_utils import get_dataset_metrics, ptn_confusion_by_domain_over_dataloader\n",
    "from steves_utils.utils_v2 import (per_domain_accuracy_from_confusion, get_datasets_base_path)\n",
    "from steves_utils.PTN.utils import independent_accuracy_assesment\n",
    "\n",
    "from torch.utils.data import DataLoader\n",
    "\n",
    "from steves_utils.stratified_dataset.episodic_accessor import Episodic_Accessor_Factory\n",
    "\n",
    "from steves_utils.ptn_do_report import (\n",
    "    get_loss_curve,\n",
    "    get_results_table,\n",
    "    get_parameters_table,\n",
    "    get_domain_accuracies,\n",
    ")\n",
    "\n",
    "from steves_utils.transforms import get_chained_transform"
   ]
  },
  {
   "cell_type": "markdown",
   "id": "41c840b4",
   "metadata": {
    "papermill": {
     "duration": 0.012758,
     "end_time": "2022-03-21T00:05:20.640081",
     "exception": false,
     "start_time": "2022-03-21T00:05:20.627323",
     "status": "completed"
    },
    "tags": []
   },
   "source": [
    "# Allowed Parameters\n",
    "These are allowed parameters, not defaults\n",
    "Each of these values need to be present in the injected parameters (the notebook will raise an exception if they are not present)\n",
    "\n",
    "Papermill uses the cell tag \"parameters\" to inject the real parameters below this cell.\n",
    "Enable tags to see what I mean"
   ]
  },
  {
   "cell_type": "code",
   "execution_count": 2,
   "id": "fd44eb83",
   "metadata": {
    "execution": {
     "iopub.execute_input": "2022-03-21T00:05:20.669185Z",
     "iopub.status.busy": "2022-03-21T00:05:20.668925Z",
     "iopub.status.idle": "2022-03-21T00:05:20.683725Z",
     "shell.execute_reply": "2022-03-21T00:05:20.683284Z"
    },
    "papermill": {
     "duration": 0.030963,
     "end_time": "2022-03-21T00:05:20.683828",
     "exception": false,
     "start_time": "2022-03-21T00:05:20.652865",
     "status": "completed"
    },
    "tags": []
   },
   "outputs": [],
   "source": [
    "required_parameters = {\n",
    "    \"experiment_name\",\n",
    "    \"lr\",\n",
    "    \"device\",\n",
    "    \"seed\",\n",
    "    \"dataset_seed\",\n",
    "    \"n_shot\",\n",
    "    \"n_query\",\n",
    "    \"n_way\",\n",
    "    \"train_k_factor\",\n",
    "    \"val_k_factor\",\n",
    "    \"test_k_factor\",\n",
    "    \"n_epoch\",\n",
    "    \"patience\",\n",
    "    \"criteria_for_best\",\n",
    "    \"x_net\",\n",
    "    \"datasets\",\n",
    "    \"torch_default_dtype\",\n",
    "    \"NUM_LOGS_PER_EPOCH\",\n",
    "    \"BEST_MODEL_PATH\",\n",
    "    \"x_shape\",\n",
    "}"
   ]
  },
  {
   "cell_type": "code",
   "execution_count": 3,
   "id": "fa3f0049",
   "metadata": {
    "execution": {
     "iopub.execute_input": "2022-03-21T00:05:20.720206Z",
     "iopub.status.busy": "2022-03-21T00:05:20.719789Z",
     "iopub.status.idle": "2022-03-21T00:05:20.738081Z",
     "shell.execute_reply": "2022-03-21T00:05:20.737632Z"
    },
    "papermill": {
     "duration": 0.037337,
     "end_time": "2022-03-21T00:05:20.738183",
     "exception": false,
     "start_time": "2022-03-21T00:05:20.700846",
     "status": "completed"
    },
    "tags": [
     "parameters"
    ]
   },
   "outputs": [],
   "source": [
    "from steves_utils.CORES.utils import (\n",
    "    ALL_NODES,\n",
    "    ALL_NODES_MINIMUM_1000_EXAMPLES,\n",
    "    ALL_DAYS\n",
    ")\n",
    "\n",
    "from steves_utils.ORACLE.utils_v2 import (\n",
    "    ALL_DISTANCES_FEET_NARROWED,\n",
    "    ALL_RUNS,\n",
    "    ALL_SERIAL_NUMBERS,\n",
    ")\n",
    "\n",
    "standalone_parameters = {}\n",
    "standalone_parameters[\"experiment_name\"] = \"STANDALONE PTN\"\n",
    "standalone_parameters[\"lr\"] = 0.001\n",
    "standalone_parameters[\"device\"] = \"cuda\"\n",
    "\n",
    "standalone_parameters[\"seed\"] = 1337\n",
    "standalone_parameters[\"dataset_seed\"] = 1337\n",
    "\n",
    "standalone_parameters[\"n_way\"] = 8\n",
    "standalone_parameters[\"n_shot\"] = 3\n",
    "standalone_parameters[\"n_query\"]  = 2\n",
    "standalone_parameters[\"train_k_factor\"] = 1\n",
    "standalone_parameters[\"val_k_factor\"] = 2\n",
    "standalone_parameters[\"test_k_factor\"] = 2\n",
    "\n",
    "\n",
    "standalone_parameters[\"n_epoch\"] = 50\n",
    "\n",
    "standalone_parameters[\"patience\"] = 10\n",
    "standalone_parameters[\"criteria_for_best\"] = \"source_loss\"\n",
    "\n",
    "standalone_parameters[\"datasets\"] = [\n",
    "    {\n",
    "        \"labels\": ALL_SERIAL_NUMBERS,\n",
    "        \"domains\": ALL_DISTANCES_FEET_NARROWED,\n",
    "        \"num_examples_per_domain_per_label\": 100,\n",
    "        \"pickle_path\": os.path.join(get_datasets_base_path(), \"oracle.Run1_framed_2000Examples_stratified_ds.2022A.pkl\"),\n",
    "        \"source_or_target_dataset\": \"source\",\n",
    "        \"x_transforms\": [\"unit_mag\", \"minus_two\"],\n",
    "        \"episode_transforms\": [],\n",
    "        \"domain_prefix\": \"ORACLE_\"\n",
    "    },\n",
    "    {\n",
    "        \"labels\": ALL_NODES,\n",
    "        \"domains\": ALL_DAYS,\n",
    "        \"num_examples_per_domain_per_label\": 100,\n",
    "        \"pickle_path\": os.path.join(get_datasets_base_path(), \"cores.stratified_ds.2022A.pkl\"),\n",
    "        \"source_or_target_dataset\": \"target\",\n",
    "        \"x_transforms\": [\"unit_power\", \"times_zero\"],\n",
    "        \"episode_transforms\": [],\n",
    "        \"domain_prefix\": \"CORES_\"\n",
    "    }   \n",
    "]\n",
    "\n",
    "standalone_parameters[\"torch_default_dtype\"] = \"torch.float32\" \n",
    "\n",
    "\n",
    "\n",
    "standalone_parameters[\"x_net\"] =     [\n",
    "    {\"class\": \"nnReshape\", \"kargs\": {\"shape\":[-1, 1, 2, 256]}},\n",
    "    {\"class\": \"Conv2d\", \"kargs\": { \"in_channels\":1, \"out_channels\":256, \"kernel_size\":(1,7), \"bias\":False, \"padding\":(0,3), },},\n",
    "    {\"class\": \"ReLU\", \"kargs\": {\"inplace\": True}},\n",
    "    {\"class\": \"BatchNorm2d\", \"kargs\": {\"num_features\":256}},\n",
    "\n",
    "    {\"class\": \"Conv2d\", \"kargs\": { \"in_channels\":256, \"out_channels\":80, \"kernel_size\":(2,7), \"bias\":True, \"padding\":(0,3), },},\n",
    "    {\"class\": \"ReLU\", \"kargs\": {\"inplace\": True}},\n",
    "    {\"class\": \"BatchNorm2d\", \"kargs\": {\"num_features\":80}},\n",
    "    {\"class\": \"Flatten\", \"kargs\": {}},\n",
    "\n",
    "    {\"class\": \"Linear\", \"kargs\": {\"in_features\": 80*256, \"out_features\": 256}}, # 80 units per IQ pair\n",
    "    {\"class\": \"ReLU\", \"kargs\": {\"inplace\": True}},\n",
    "    {\"class\": \"BatchNorm1d\", \"kargs\": {\"num_features\":256}},\n",
    "\n",
    "    {\"class\": \"Linear\", \"kargs\": {\"in_features\": 256, \"out_features\": 256}},\n",
    "]\n",
    "\n",
    "# Parameters relevant to results\n",
    "# These parameters will basically never need to change\n",
    "standalone_parameters[\"NUM_LOGS_PER_EPOCH\"] = 10\n",
    "standalone_parameters[\"BEST_MODEL_PATH\"] = \"./best_model.pth\"\n",
    "\n",
    "\n",
    "\n",
    "\n"
   ]
  },
  {
   "cell_type": "code",
   "execution_count": 4,
   "id": "7a6e6b15",
   "metadata": {
    "execution": {
     "iopub.execute_input": "2022-03-21T00:05:20.783147Z",
     "iopub.status.busy": "2022-03-21T00:05:20.782829Z",
     "iopub.status.idle": "2022-03-21T00:05:20.796805Z",
     "shell.execute_reply": "2022-03-21T00:05:20.796314Z"
    },
    "papermill": {
     "duration": 0.040289,
     "end_time": "2022-03-21T00:05:20.796905",
     "exception": false,
     "start_time": "2022-03-21T00:05:20.756616",
     "status": "completed"
    },
    "tags": [
     "injected-parameters"
    ]
   },
   "outputs": [],
   "source": [
    "# Parameters\n",
    "parameters = {\n",
    "    \"experiment_name\": \"tl_3Av2:oracle.run1.framed -> cores+wisig\",\n",
    "    \"device\": \"cuda\",\n",
    "    \"lr\": 0.0001,\n",
    "    \"x_shape\": [2, 200],\n",
    "    \"n_shot\": 3,\n",
    "    \"n_query\": 2,\n",
    "    \"train_k_factor\": 3,\n",
    "    \"val_k_factor\": 2,\n",
    "    \"test_k_factor\": 2,\n",
    "    \"torch_default_dtype\": \"torch.float32\",\n",
    "    \"n_epoch\": 50,\n",
    "    \"patience\": 3,\n",
    "    \"criteria_for_best\": \"target_accuracy\",\n",
    "    \"x_net\": [\n",
    "        {\"class\": \"nnReshape\", \"kargs\": {\"shape\": [-1, 1, 2, 200]}},\n",
    "        {\n",
    "            \"class\": \"Conv2d\",\n",
    "            \"kargs\": {\n",
    "                \"in_channels\": 1,\n",
    "                \"out_channels\": 256,\n",
    "                \"kernel_size\": [1, 7],\n",
    "                \"bias\": False,\n",
    "                \"padding\": [0, 3],\n",
    "            },\n",
    "        },\n",
    "        {\"class\": \"ReLU\", \"kargs\": {\"inplace\": True}},\n",
    "        {\"class\": \"BatchNorm2d\", \"kargs\": {\"num_features\": 256}},\n",
    "        {\n",
    "            \"class\": \"Conv2d\",\n",
    "            \"kargs\": {\n",
    "                \"in_channels\": 256,\n",
    "                \"out_channels\": 80,\n",
    "                \"kernel_size\": [2, 7],\n",
    "                \"bias\": True,\n",
    "                \"padding\": [0, 3],\n",
    "            },\n",
    "        },\n",
    "        {\"class\": \"ReLU\", \"kargs\": {\"inplace\": True}},\n",
    "        {\"class\": \"BatchNorm2d\", \"kargs\": {\"num_features\": 80}},\n",
    "        {\"class\": \"Flatten\", \"kargs\": {}},\n",
    "        {\"class\": \"Linear\", \"kargs\": {\"in_features\": 16000, \"out_features\": 256}},\n",
    "        {\"class\": \"ReLU\", \"kargs\": {\"inplace\": True}},\n",
    "        {\"class\": \"BatchNorm1d\", \"kargs\": {\"num_features\": 256}},\n",
    "        {\"class\": \"Linear\", \"kargs\": {\"in_features\": 256, \"out_features\": 256}},\n",
    "    ],\n",
    "    \"NUM_LOGS_PER_EPOCH\": 10,\n",
    "    \"BEST_MODEL_PATH\": \"./best_model.pth\",\n",
    "    \"n_way\": 16,\n",
    "    \"datasets\": [\n",
    "        {\n",
    "            \"labels\": [\n",
    "                \"1-10.\",\n",
    "                \"1-11.\",\n",
    "                \"1-15.\",\n",
    "                \"1-16.\",\n",
    "                \"1-17.\",\n",
    "                \"1-18.\",\n",
    "                \"1-19.\",\n",
    "                \"10-4.\",\n",
    "                \"10-7.\",\n",
    "                \"11-1.\",\n",
    "                \"11-14.\",\n",
    "                \"11-17.\",\n",
    "                \"11-20.\",\n",
    "                \"11-7.\",\n",
    "                \"13-20.\",\n",
    "                \"13-8.\",\n",
    "                \"14-10.\",\n",
    "                \"14-11.\",\n",
    "                \"14-14.\",\n",
    "                \"14-7.\",\n",
    "                \"15-1.\",\n",
    "                \"15-20.\",\n",
    "                \"16-1.\",\n",
    "                \"16-16.\",\n",
    "                \"17-10.\",\n",
    "                \"17-11.\",\n",
    "                \"17-2.\",\n",
    "                \"19-1.\",\n",
    "                \"19-16.\",\n",
    "                \"19-19.\",\n",
    "                \"19-20.\",\n",
    "                \"19-3.\",\n",
    "                \"2-10.\",\n",
    "                \"2-11.\",\n",
    "                \"2-17.\",\n",
    "                \"2-18.\",\n",
    "                \"2-20.\",\n",
    "                \"2-3.\",\n",
    "                \"2-4.\",\n",
    "                \"2-5.\",\n",
    "                \"2-6.\",\n",
    "                \"2-7.\",\n",
    "                \"2-8.\",\n",
    "                \"3-13.\",\n",
    "                \"3-18.\",\n",
    "                \"3-3.\",\n",
    "                \"4-1.\",\n",
    "                \"4-10.\",\n",
    "                \"4-11.\",\n",
    "                \"4-19.\",\n",
    "                \"5-5.\",\n",
    "                \"6-15.\",\n",
    "                \"7-10.\",\n",
    "                \"7-14.\",\n",
    "                \"8-18.\",\n",
    "                \"8-20.\",\n",
    "                \"8-3.\",\n",
    "                \"8-8.\",\n",
    "            ],\n",
    "            \"domains\": [1, 2, 3, 4, 5],\n",
    "            \"num_examples_per_domain_per_label\": -1,\n",
    "            \"pickle_path\": \"/mnt/wd500GB/CSC500/csc500-main/datasets/cores.stratified_ds.2022A.pkl\",\n",
    "            \"source_or_target_dataset\": \"target\",\n",
    "            \"x_transforms\": [\"take_200\"],\n",
    "            \"episode_transforms\": [],\n",
    "            \"domain_prefix\": \"C_\",\n",
    "        },\n",
    "        {\n",
    "            \"labels\": [\n",
    "                \"1-10\",\n",
    "                \"1-12\",\n",
    "                \"1-14\",\n",
    "                \"1-16\",\n",
    "                \"1-18\",\n",
    "                \"1-19\",\n",
    "                \"1-8\",\n",
    "                \"10-11\",\n",
    "                \"10-17\",\n",
    "                \"10-4\",\n",
    "                \"10-7\",\n",
    "                \"11-1\",\n",
    "                \"11-10\",\n",
    "                \"11-19\",\n",
    "                \"11-20\",\n",
    "                \"11-4\",\n",
    "                \"11-7\",\n",
    "                \"12-19\",\n",
    "                \"12-20\",\n",
    "                \"12-7\",\n",
    "                \"13-14\",\n",
    "                \"13-18\",\n",
    "                \"13-19\",\n",
    "                \"13-20\",\n",
    "                \"13-3\",\n",
    "                \"13-7\",\n",
    "                \"14-10\",\n",
    "                \"14-11\",\n",
    "                \"14-12\",\n",
    "                \"14-13\",\n",
    "                \"14-14\",\n",
    "                \"14-19\",\n",
    "                \"14-20\",\n",
    "                \"14-7\",\n",
    "                \"14-8\",\n",
    "                \"14-9\",\n",
    "                \"15-1\",\n",
    "                \"15-19\",\n",
    "                \"15-6\",\n",
    "                \"16-1\",\n",
    "                \"16-16\",\n",
    "                \"16-19\",\n",
    "                \"16-20\",\n",
    "                \"17-10\",\n",
    "                \"17-11\",\n",
    "                \"18-1\",\n",
    "                \"18-10\",\n",
    "                \"18-11\",\n",
    "                \"18-12\",\n",
    "                \"18-13\",\n",
    "                \"18-14\",\n",
    "                \"18-15\",\n",
    "                \"18-16\",\n",
    "                \"18-17\",\n",
    "                \"18-19\",\n",
    "                \"18-2\",\n",
    "                \"18-20\",\n",
    "                \"18-4\",\n",
    "                \"18-5\",\n",
    "                \"18-7\",\n",
    "                \"18-8\",\n",
    "                \"18-9\",\n",
    "                \"19-1\",\n",
    "                \"19-10\",\n",
    "                \"19-11\",\n",
    "                \"19-12\",\n",
    "                \"19-13\",\n",
    "                \"19-14\",\n",
    "                \"19-15\",\n",
    "                \"19-19\",\n",
    "                \"19-2\",\n",
    "                \"19-20\",\n",
    "                \"19-3\",\n",
    "                \"19-4\",\n",
    "                \"19-6\",\n",
    "                \"19-7\",\n",
    "                \"19-8\",\n",
    "                \"19-9\",\n",
    "                \"2-1\",\n",
    "                \"2-13\",\n",
    "                \"2-15\",\n",
    "                \"2-3\",\n",
    "                \"2-4\",\n",
    "                \"2-5\",\n",
    "                \"2-6\",\n",
    "                \"2-7\",\n",
    "                \"2-8\",\n",
    "                \"20-1\",\n",
    "                \"20-12\",\n",
    "                \"20-14\",\n",
    "                \"20-15\",\n",
    "                \"20-16\",\n",
    "                \"20-18\",\n",
    "                \"20-19\",\n",
    "                \"20-20\",\n",
    "                \"20-3\",\n",
    "                \"20-4\",\n",
    "                \"20-5\",\n",
    "                \"20-7\",\n",
    "                \"20-8\",\n",
    "                \"3-1\",\n",
    "                \"3-13\",\n",
    "                \"3-18\",\n",
    "                \"3-2\",\n",
    "                \"3-8\",\n",
    "                \"4-1\",\n",
    "                \"4-10\",\n",
    "                \"4-11\",\n",
    "                \"5-1\",\n",
    "                \"5-5\",\n",
    "                \"6-1\",\n",
    "                \"6-15\",\n",
    "                \"6-6\",\n",
    "                \"7-10\",\n",
    "                \"7-11\",\n",
    "                \"7-12\",\n",
    "                \"7-13\",\n",
    "                \"7-14\",\n",
    "                \"7-7\",\n",
    "                \"7-8\",\n",
    "                \"7-9\",\n",
    "                \"8-1\",\n",
    "                \"8-13\",\n",
    "                \"8-14\",\n",
    "                \"8-18\",\n",
    "                \"8-20\",\n",
    "                \"8-3\",\n",
    "                \"8-8\",\n",
    "                \"9-1\",\n",
    "                \"9-7\",\n",
    "            ],\n",
    "            \"domains\": [1, 2, 3, 4],\n",
    "            \"num_examples_per_domain_per_label\": -1,\n",
    "            \"pickle_path\": \"/mnt/wd500GB/CSC500/csc500-main/datasets/wisig.node3-19.stratified_ds.2022A.pkl\",\n",
    "            \"source_or_target_dataset\": \"target\",\n",
    "            \"x_transforms\": [\"take_200\"],\n",
    "            \"episode_transforms\": [],\n",
    "            \"domain_prefix\": \"W_\",\n",
    "        },\n",
    "        {\n",
    "            \"labels\": [\n",
    "                \"3123D52\",\n",
    "                \"3123D65\",\n",
    "                \"3123D79\",\n",
    "                \"3123D80\",\n",
    "                \"3123D54\",\n",
    "                \"3123D70\",\n",
    "                \"3123D7B\",\n",
    "                \"3123D89\",\n",
    "                \"3123D58\",\n",
    "                \"3123D76\",\n",
    "                \"3123D7D\",\n",
    "                \"3123EFE\",\n",
    "                \"3123D64\",\n",
    "                \"3123D78\",\n",
    "                \"3123D7E\",\n",
    "                \"3124E4A\",\n",
    "            ],\n",
    "            \"domains\": [32, 38, 8, 44, 14, 50, 20, 26],\n",
    "            \"num_examples_per_domain_per_label\": 2000,\n",
    "            \"pickle_path\": \"/mnt/wd500GB/CSC500/csc500-main/datasets/oracle.Run1_framed_2000Examples_stratified_ds.2022A.pkl\",\n",
    "            \"source_or_target_dataset\": \"source\",\n",
    "            \"x_transforms\": [\"take_200\", \"resample_20Msps_to_25Msps\"],\n",
    "            \"episode_transforms\": [],\n",
    "            \"domain_prefix\": \"O_\",\n",
    "        },\n",
    "    ],\n",
    "    \"seed\": 420,\n",
    "    \"dataset_seed\": 420,\n",
    "}\n"
   ]
  },
  {
   "cell_type": "code",
   "execution_count": 5,
   "id": "8fa1cc33",
   "metadata": {
    "execution": {
     "iopub.execute_input": "2022-03-21T00:05:20.846772Z",
     "iopub.status.busy": "2022-03-21T00:05:20.840338Z",
     "iopub.status.idle": "2022-03-21T00:05:20.848503Z",
     "shell.execute_reply": "2022-03-21T00:05:20.848007Z"
    },
    "papermill": {
     "duration": 0.032979,
     "end_time": "2022-03-21T00:05:20.848606",
     "exception": false,
     "start_time": "2022-03-21T00:05:20.815627",
     "status": "completed"
    },
    "tags": []
   },
   "outputs": [],
   "source": [
    "# Set this to True if you want to run this template directly\n",
    "STANDALONE = False\n",
    "if STANDALONE:\n",
    "    print(\"parameters not injected, running with standalone_parameters\")\n",
    "    parameters = standalone_parameters\n",
    "\n",
    "if not 'parameters' in locals() and not 'parameters' in globals():\n",
    "    raise Exception(\"Parameter injection failed\")\n",
    "\n",
    "#Use an easy dict for all the parameters\n",
    "p = EasyDict(parameters)\n",
    "\n",
    "if \"x_shape\" not in p:\n",
    "    p.x_shape = [2,256] # Default to this if we dont supply x_shape\n",
    "\n",
    "\n",
    "supplied_keys = set(p.keys())\n",
    "\n",
    "if  supplied_keys != required_parameters:\n",
    "    print(\"Parameters are incorrect\")\n",
    "    if len(supplied_keys - required_parameters)>0: print(\"Shouldn't have:\", str(supplied_keys - required_parameters))\n",
    "    if len(required_parameters - supplied_keys)>0: print(\"Need to have:\", str(required_parameters - supplied_keys))\n",
    "    raise RuntimeError(\"Parameters are incorrect\")"
   ]
  },
  {
   "cell_type": "code",
   "execution_count": 6,
   "id": "3a028d58",
   "metadata": {
    "execution": {
     "iopub.execute_input": "2022-03-21T00:05:20.881134Z",
     "iopub.status.busy": "2022-03-21T00:05:20.880887Z",
     "iopub.status.idle": "2022-03-21T00:05:20.896044Z",
     "shell.execute_reply": "2022-03-21T00:05:20.896387Z"
    },
    "papermill": {
     "duration": 0.031105,
     "end_time": "2022-03-21T00:05:20.896490",
     "exception": false,
     "start_time": "2022-03-21T00:05:20.865385",
     "status": "completed"
    },
    "tags": []
   },
   "outputs": [],
   "source": [
    "###################################\n",
    "# Set the RNGs and make it all deterministic\n",
    "###################################\n",
    "np.random.seed(p.seed)\n",
    "random.seed(p.seed)\n",
    "torch.manual_seed(p.seed)\n",
    "\n",
    "torch.use_deterministic_algorithms(True) "
   ]
  },
  {
   "cell_type": "code",
   "execution_count": 7,
   "id": "b691acf6",
   "metadata": {
    "execution": {
     "iopub.execute_input": "2022-03-21T00:05:20.929899Z",
     "iopub.status.busy": "2022-03-21T00:05:20.929654Z",
     "iopub.status.idle": "2022-03-21T00:05:20.944759Z",
     "shell.execute_reply": "2022-03-21T00:05:20.944369Z"
    },
    "papermill": {
     "duration": 0.030133,
     "end_time": "2022-03-21T00:05:20.944845",
     "exception": false,
     "start_time": "2022-03-21T00:05:20.914712",
     "status": "completed"
    },
    "tags": []
   },
   "outputs": [],
   "source": [
    "###########################################\n",
    "# The stratified datasets honor this\n",
    "###########################################\n",
    "torch.set_default_dtype(eval(p.torch_default_dtype))"
   ]
  },
  {
   "cell_type": "code",
   "execution_count": 8,
   "id": "b5fba671",
   "metadata": {
    "execution": {
     "iopub.execute_input": "2022-03-21T00:05:20.978204Z",
     "iopub.status.busy": "2022-03-21T00:05:20.977957Z",
     "iopub.status.idle": "2022-03-21T00:05:21.014563Z",
     "shell.execute_reply": "2022-03-21T00:05:21.014930Z"
    },
    "papermill": {
     "duration": 0.052048,
     "end_time": "2022-03-21T00:05:21.015033",
     "exception": false,
     "start_time": "2022-03-21T00:05:20.962985",
     "status": "completed"
    },
    "tags": []
   },
   "outputs": [],
   "source": [
    "###################################\n",
    "# Build the network(s)\n",
    "# Note: It's critical to do this AFTER setting the RNG\n",
    "###################################\n",
    "x_net = build_sequential(p.x_net)"
   ]
  },
  {
   "cell_type": "code",
   "execution_count": 9,
   "id": "5d7e61cc",
   "metadata": {
    "execution": {
     "iopub.execute_input": "2022-03-21T00:05:21.049484Z",
     "iopub.status.busy": "2022-03-21T00:05:21.049236Z",
     "iopub.status.idle": "2022-03-21T00:05:21.062859Z",
     "shell.execute_reply": "2022-03-21T00:05:21.063207Z"
    },
    "papermill": {
     "duration": 0.029033,
     "end_time": "2022-03-21T00:05:21.063324",
     "exception": false,
     "start_time": "2022-03-21T00:05:21.034291",
     "status": "completed"
    },
    "tags": []
   },
   "outputs": [],
   "source": [
    "start_time_secs = time.time()"
   ]
  },
  {
   "cell_type": "code",
   "execution_count": 10,
   "id": "c6b67dfd",
   "metadata": {
    "execution": {
     "iopub.execute_input": "2022-03-21T00:05:21.095641Z",
     "iopub.status.busy": "2022-03-21T00:05:21.095393Z",
     "iopub.status.idle": "2022-03-21T00:05:21.105253Z",
     "shell.execute_reply": "2022-03-21T00:05:21.105619Z"
    },
    "papermill": {
     "duration": 0.025061,
     "end_time": "2022-03-21T00:05:21.105720",
     "exception": false,
     "start_time": "2022-03-21T00:05:21.080659",
     "status": "completed"
    },
    "tags": []
   },
   "outputs": [],
   "source": [
    "p.domains_source = []\n",
    "p.domains_target = []\n",
    "\n",
    "\n",
    "train_original_source = []\n",
    "val_original_source   = []\n",
    "test_original_source  = []\n",
    "\n",
    "train_original_target = []\n",
    "val_original_target   = []\n",
    "test_original_target  = []"
   ]
  },
  {
   "cell_type": "code",
   "execution_count": 11,
   "id": "e3d9c3d3",
   "metadata": {
    "execution": {
     "iopub.execute_input": "2022-03-21T00:05:21.138557Z",
     "iopub.status.busy": "2022-03-21T00:05:21.138313Z",
     "iopub.status.idle": "2022-03-21T00:05:21.154125Z",
     "shell.execute_reply": "2022-03-21T00:05:21.153821Z"
    },
    "papermill": {
     "duration": 0.030836,
     "end_time": "2022-03-21T00:05:21.154193",
     "exception": false,
     "start_time": "2022-03-21T00:05:21.123357",
     "status": "completed"
    },
    "tags": []
   },
   "outputs": [],
   "source": [
    "# global_x_transform_func = lambda x: normalize(x.to(torch.get_default_dtype()), \"unit_power\") # unit_power, unit_mag\n",
    "# global_x_transform_func = lambda x: normalize(x, \"unit_power\") # unit_power, unit_mag"
   ]
  },
  {
   "cell_type": "code",
   "execution_count": 12,
   "id": "acb78fd2",
   "metadata": {
    "execution": {
     "iopub.execute_input": "2022-03-21T00:05:21.191887Z",
     "iopub.status.busy": "2022-03-21T00:05:21.191550Z",
     "iopub.status.idle": "2022-03-21T00:05:21.202393Z",
     "shell.execute_reply": "2022-03-21T00:05:21.202739Z"
    },
    "papermill": {
     "duration": 0.031268,
     "end_time": "2022-03-21T00:05:21.202845",
     "exception": false,
     "start_time": "2022-03-21T00:05:21.171577",
     "status": "completed"
    },
    "tags": []
   },
   "outputs": [],
   "source": [
    "def add_dataset(\n",
    "    labels,\n",
    "    domains,\n",
    "    pickle_path,\n",
    "    x_transforms,\n",
    "    episode_transforms,\n",
    "    domain_prefix,\n",
    "    num_examples_per_domain_per_label,\n",
    "    source_or_target_dataset:str,\n",
    "    iterator_seed=p.seed,\n",
    "    dataset_seed=p.dataset_seed,\n",
    "    n_shot=p.n_shot,\n",
    "    n_way=p.n_way,\n",
    "    n_query=p.n_query,\n",
    "    train_val_test_k_factors=(p.train_k_factor,p.val_k_factor,p.test_k_factor),\n",
    "):\n",
    "   \n",
    "    if x_transforms == []: x_transform = None\n",
    "    else: x_transform = get_chained_transform(x_transforms)\n",
    "    \n",
    "    if episode_transforms == []: episode_transform = None\n",
    "    else: raise Exception(\"episode_transforms not implemented\")\n",
    "    \n",
    "    episode_transform = lambda tup, _prefix=domain_prefix: (_prefix + str(tup[0]), tup[1])\n",
    "\n",
    "\n",
    "    eaf = Episodic_Accessor_Factory(\n",
    "        labels=labels,\n",
    "        domains=domains,\n",
    "        num_examples_per_domain_per_label=num_examples_per_domain_per_label,\n",
    "        iterator_seed=iterator_seed,\n",
    "        dataset_seed=dataset_seed,\n",
    "        n_shot=n_shot,\n",
    "        n_way=n_way,\n",
    "        n_query=n_query,\n",
    "        train_val_test_k_factors=train_val_test_k_factors,\n",
    "        pickle_path=pickle_path,\n",
    "        x_transform_func=x_transform,\n",
    "    )\n",
    "\n",
    "    train, val, test = eaf.get_train(), eaf.get_val(), eaf.get_test()\n",
    "    train = Lazy_Iterable_Wrapper(train, episode_transform)\n",
    "    val = Lazy_Iterable_Wrapper(val, episode_transform)\n",
    "    test = Lazy_Iterable_Wrapper(test, episode_transform)\n",
    "\n",
    "    if source_or_target_dataset==\"source\":\n",
    "        train_original_source.append(train)\n",
    "        val_original_source.append(val)\n",
    "        test_original_source.append(test)\n",
    "\n",
    "        p.domains_source.extend(\n",
    "            [domain_prefix + str(u) for u in domains]\n",
    "        )\n",
    "    elif source_or_target_dataset==\"target\":\n",
    "        train_original_target.append(train)\n",
    "        val_original_target.append(val)\n",
    "        test_original_target.append(test)\n",
    "        p.domains_target.extend(\n",
    "            [domain_prefix + str(u) for u in domains]\n",
    "        )\n",
    "    else:\n",
    "        raise Exception(f\"invalid source_or_target_dataset: {source_or_target_dataset}\")\n",
    "    "
   ]
  },
  {
   "cell_type": "code",
   "execution_count": 13,
   "id": "fe266617",
   "metadata": {
    "execution": {
     "iopub.execute_input": "2022-03-21T00:05:21.235569Z",
     "iopub.status.busy": "2022-03-21T00:05:21.235325Z",
     "iopub.status.idle": "2022-03-21T00:05:39.029254Z",
     "shell.execute_reply": "2022-03-21T00:05:39.029629Z"
    },
    "papermill": {
     "duration": 17.809609,
     "end_time": "2022-03-21T00:05:39.029755",
     "exception": false,
     "start_time": "2022-03-21T00:05:21.220146",
     "status": "completed"
    },
    "tags": []
   },
   "outputs": [],
   "source": [
    "for ds in p.datasets:\n",
    "    add_dataset(**ds)"
   ]
  },
  {
   "cell_type": "code",
   "execution_count": 14,
   "id": "b90d65ac",
   "metadata": {
    "execution": {
     "iopub.execute_input": "2022-03-21T00:05:39.065817Z",
     "iopub.status.busy": "2022-03-21T00:05:39.065562Z",
     "iopub.status.idle": "2022-03-21T00:05:39.080815Z",
     "shell.execute_reply": "2022-03-21T00:05:39.081185Z"
    },
    "papermill": {
     "duration": 0.031081,
     "end_time": "2022-03-21T00:05:39.081291",
     "exception": false,
     "start_time": "2022-03-21T00:05:39.050210",
     "status": "completed"
    },
    "tags": []
   },
   "outputs": [],
   "source": [
    "# from steves_utils.CORES.utils import (\n",
    "#     ALL_NODES,\n",
    "#     ALL_NODES_MINIMUM_1000_EXAMPLES,\n",
    "#     ALL_DAYS\n",
    "# )\n",
    "\n",
    "# add_dataset(\n",
    "#     labels=ALL_NODES,\n",
    "#     domains = ALL_DAYS,\n",
    "#     num_examples_per_domain_per_label=100,\n",
    "#     pickle_path=os.path.join(get_datasets_base_path(), \"cores.stratified_ds.2022A.pkl\"),\n",
    "#     source_or_target_dataset=\"target\",\n",
    "#     x_transform_func=global_x_transform_func,\n",
    "#     domain_modifier=lambda u: f\"cores_{u}\"\n",
    "# )"
   ]
  },
  {
   "cell_type": "code",
   "execution_count": 15,
   "id": "76db484d",
   "metadata": {
    "execution": {
     "iopub.execute_input": "2022-03-21T00:05:39.115639Z",
     "iopub.status.busy": "2022-03-21T00:05:39.115389Z",
     "iopub.status.idle": "2022-03-21T00:05:39.129353Z",
     "shell.execute_reply": "2022-03-21T00:05:39.128961Z"
    },
    "papermill": {
     "duration": 0.029596,
     "end_time": "2022-03-21T00:05:39.129442",
     "exception": false,
     "start_time": "2022-03-21T00:05:39.099846",
     "status": "completed"
    },
    "tags": []
   },
   "outputs": [],
   "source": [
    "# from steves_utils.ORACLE.utils_v2 import (\n",
    "#     ALL_DISTANCES_FEET,\n",
    "#     ALL_RUNS,\n",
    "#     ALL_SERIAL_NUMBERS,\n",
    "# )\n",
    "\n",
    "\n",
    "# add_dataset(\n",
    "#     labels=ALL_SERIAL_NUMBERS,\n",
    "#     domains = list(set(ALL_DISTANCES_FEET) - {2,62}),\n",
    "#     num_examples_per_domain_per_label=100,\n",
    "#     pickle_path=os.path.join(get_datasets_base_path(), \"oracle.Run2_framed_2000Examples_stratified_ds.2022A.pkl\"),\n",
    "#     source_or_target_dataset=\"source\",\n",
    "#     x_transform_func=global_x_transform_func,\n",
    "#     domain_modifier=lambda u: f\"oracle1_{u}\"\n",
    "# )\n"
   ]
  },
  {
   "cell_type": "code",
   "execution_count": 16,
   "id": "97dea9d2",
   "metadata": {
    "execution": {
     "iopub.execute_input": "2022-03-21T00:05:39.163532Z",
     "iopub.status.busy": "2022-03-21T00:05:39.163282Z",
     "iopub.status.idle": "2022-03-21T00:05:39.177797Z",
     "shell.execute_reply": "2022-03-21T00:05:39.177344Z"
    },
    "papermill": {
     "duration": 0.029906,
     "end_time": "2022-03-21T00:05:39.177886",
     "exception": false,
     "start_time": "2022-03-21T00:05:39.147980",
     "status": "completed"
    },
    "tags": []
   },
   "outputs": [],
   "source": [
    "# from steves_utils.ORACLE.utils_v2 import (\n",
    "#     ALL_DISTANCES_FEET,\n",
    "#     ALL_RUNS,\n",
    "#     ALL_SERIAL_NUMBERS,\n",
    "# )\n",
    "\n",
    "\n",
    "# add_dataset(\n",
    "#     labels=ALL_SERIAL_NUMBERS,\n",
    "#     domains = list(set(ALL_DISTANCES_FEET) - {2,62,56}),\n",
    "#     num_examples_per_domain_per_label=100,\n",
    "#     pickle_path=os.path.join(get_datasets_base_path(), \"oracle.Run2_framed_2000Examples_stratified_ds.2022A.pkl\"),\n",
    "#     source_or_target_dataset=\"source\",\n",
    "#     x_transform_func=global_x_transform_func,\n",
    "#     domain_modifier=lambda u: f\"oracle2_{u}\"\n",
    "# )"
   ]
  },
  {
   "cell_type": "code",
   "execution_count": 17,
   "id": "6f289866",
   "metadata": {
    "execution": {
     "iopub.execute_input": "2022-03-21T00:05:39.212201Z",
     "iopub.status.busy": "2022-03-21T00:05:39.211952Z",
     "iopub.status.idle": "2022-03-21T00:05:39.226227Z",
     "shell.execute_reply": "2022-03-21T00:05:39.226576Z"
    },
    "papermill": {
     "duration": 0.030772,
     "end_time": "2022-03-21T00:05:39.226682",
     "exception": false,
     "start_time": "2022-03-21T00:05:39.195910",
     "status": "completed"
    },
    "tags": []
   },
   "outputs": [],
   "source": [
    "# add_dataset(\n",
    "#     labels=list(range(19)),\n",
    "#     domains = [0,1,2],\n",
    "#     num_examples_per_domain_per_label=100,\n",
    "#     pickle_path=os.path.join(get_datasets_base_path(), \"metehan.stratified_ds.2022A.pkl\"),\n",
    "#     source_or_target_dataset=\"target\",\n",
    "#     x_transform_func=global_x_transform_func,\n",
    "#     domain_modifier=lambda u: f\"met_{u}\"\n",
    "# )"
   ]
  },
  {
   "cell_type": "code",
   "execution_count": 18,
   "id": "86a863c3",
   "metadata": {
    "execution": {
     "iopub.execute_input": "2022-03-21T00:05:39.259889Z",
     "iopub.status.busy": "2022-03-21T00:05:39.259636Z",
     "iopub.status.idle": "2022-03-21T00:05:39.273729Z",
     "shell.execute_reply": "2022-03-21T00:05:39.274077Z"
    },
    "papermill": {
     "duration": 0.02988,
     "end_time": "2022-03-21T00:05:39.274182",
     "exception": false,
     "start_time": "2022-03-21T00:05:39.244302",
     "status": "completed"
    },
    "tags": []
   },
   "outputs": [],
   "source": [
    "# # from steves_utils.wisig.utils import (\n",
    "# #     ALL_NODES_MINIMUM_100_EXAMPLES,\n",
    "# #     ALL_NODES_MINIMUM_500_EXAMPLES,\n",
    "# #     ALL_NODES_MINIMUM_1000_EXAMPLES,\n",
    "# #     ALL_DAYS\n",
    "# # )\n",
    "\n",
    "# import steves_utils.wisig.utils as wisig\n",
    "\n",
    "\n",
    "# add_dataset(\n",
    "#     labels=wisig.ALL_NODES_MINIMUM_100_EXAMPLES,\n",
    "#     domains = wisig.ALL_DAYS,\n",
    "#     num_examples_per_domain_per_label=100,\n",
    "#     pickle_path=os.path.join(get_datasets_base_path(), \"wisig.node3-19.stratified_ds.2022A.pkl\"),\n",
    "#     source_or_target_dataset=\"target\",\n",
    "#     x_transform_func=global_x_transform_func,\n",
    "#     domain_modifier=lambda u: f\"wisig_{u}\"\n",
    "# )"
   ]
  },
  {
   "cell_type": "code",
   "execution_count": 19,
   "id": "fd5442bc",
   "metadata": {
    "execution": {
     "iopub.execute_input": "2022-03-21T00:05:39.310942Z",
     "iopub.status.busy": "2022-03-21T00:05:39.310662Z",
     "iopub.status.idle": "2022-03-21T00:05:39.324152Z",
     "shell.execute_reply": "2022-03-21T00:05:39.323764Z"
    },
    "papermill": {
     "duration": 0.032006,
     "end_time": "2022-03-21T00:05:39.324240",
     "exception": false,
     "start_time": "2022-03-21T00:05:39.292234",
     "status": "completed"
    },
    "tags": []
   },
   "outputs": [],
   "source": [
    "###################################\n",
    "# Build the dataset\n",
    "###################################\n",
    "train_original_source = Iterable_Aggregator(train_original_source, p.seed)\n",
    "val_original_source = Iterable_Aggregator(val_original_source, p.seed)\n",
    "test_original_source = Iterable_Aggregator(test_original_source, p.seed)\n",
    "\n",
    "\n",
    "train_original_target = Iterable_Aggregator(train_original_target, p.seed)\n",
    "val_original_target = Iterable_Aggregator(val_original_target, p.seed)\n",
    "test_original_target = Iterable_Aggregator(test_original_target, p.seed)\n",
    "\n",
    "# For CNN We only use X and Y. And we only train on the source.\n",
    "# Properly form the data using a transform lambda and Lazy_Iterable_Wrapper. Finally wrap them in a dataloader\n",
    "\n",
    "transform_lambda = lambda ex: ex[1] # Original is (<domain>, <episode>) so we strip down to episode only\n",
    "\n",
    "train_processed_source = Lazy_Iterable_Wrapper(train_original_source, transform_lambda)\n",
    "val_processed_source   = Lazy_Iterable_Wrapper(val_original_source, transform_lambda)\n",
    "test_processed_source  = Lazy_Iterable_Wrapper(test_original_source, transform_lambda)\n",
    "\n",
    "train_processed_target = Lazy_Iterable_Wrapper(train_original_target, transform_lambda)\n",
    "val_processed_target   = Lazy_Iterable_Wrapper(val_original_target, transform_lambda)\n",
    "test_processed_target  = Lazy_Iterable_Wrapper(test_original_target, transform_lambda)\n",
    "\n",
    "datasets = EasyDict({\n",
    "    \"source\": {\n",
    "        \"original\": {\"train\":train_original_source, \"val\":val_original_source, \"test\":test_original_source},\n",
    "        \"processed\": {\"train\":train_processed_source, \"val\":val_processed_source, \"test\":test_processed_source}\n",
    "    },\n",
    "    \"target\": {\n",
    "        \"original\": {\"train\":train_original_target, \"val\":val_original_target, \"test\":test_original_target},\n",
    "        \"processed\": {\"train\":train_processed_target, \"val\":val_processed_target, \"test\":test_processed_target}\n",
    "    },\n",
    "})"
   ]
  },
  {
   "cell_type": "code",
   "execution_count": 20,
   "id": "5b3c01fc",
   "metadata": {
    "execution": {
     "iopub.execute_input": "2022-03-21T00:05:39.360200Z",
     "iopub.status.busy": "2022-03-21T00:05:39.359953Z",
     "iopub.status.idle": "2022-03-21T00:05:47.969871Z",
     "shell.execute_reply": "2022-03-21T00:05:47.970120Z"
    },
    "papermill": {
     "duration": 8.626688,
     "end_time": "2022-03-21T00:05:47.970200",
     "exception": false,
     "start_time": "2022-03-21T00:05:39.343512",
     "status": "completed"
    },
    "tags": []
   },
   "outputs": [
    {
     "name": "stdout",
     "output_type": "stream",
     "text": [
      "{'O_20', 'O_50', 'O_32', 'O_14', 'O_26', 'O_44', 'O_38', 'O_8'}\n"
     ]
    },
    {
     "name": "stdout",
     "output_type": "stream",
     "text": [
      "{'C_3', 'C_5', 'W_4', 'W_3', 'W_2', 'C_2', 'C_4', 'W_1', 'C_1'}\n"
     ]
    },
    {
     "name": "stdout",
     "output_type": "stream",
     "text": [
      "tensor([[[ 2.1668e-03,  1.9356e-03, -2.0440e-03,  ...,  4.0062e-04,\n",
      "          -3.5633e-03,  1.6687e-04],\n",
      "         [ 5.1881e-04,  4.2070e-03,  1.3198e-03,  ...,  2.7346e-03,\n",
      "           2.0436e-03,  2.7066e-03]],\n",
      "\n",
      "        [[-2.1973e-03,  9.0551e-04,  2.6879e-03,  ...,  1.6112e-03,\n",
      "           3.8851e-03,  2.1429e-03],\n",
      "         [-1.6480e-03, -4.1460e-03,  6.8800e-04,  ..., -1.7057e-03,\n",
      "           1.1608e-03, -2.1020e-03]],\n",
      "\n",
      "        [[-1.2207e-04,  3.7047e-03,  1.5631e-03,  ...,  2.5664e-03,\n",
      "           1.4505e-03,  2.5121e-03],\n",
      "         [-1.9227e-03, -1.3189e-03,  2.2181e-03,  ...,  1.4671e-05,\n",
      "           3.6921e-03,  4.5015e-05]],\n",
      "\n",
      "        ...,\n",
      "\n",
      "        [[ 2.9908e-03,  1.8943e-03, -2.9748e-03,  ..., -4.6612e-05,\n",
      "          -5.1257e-03, -4.8283e-04],\n",
      "         [ 7.0193e-04,  4.8741e-03,  1.1802e-03,  ...,  3.4314e-03,\n",
      "           2.4493e-03,  4.1666e-03]],\n",
      "\n",
      "        [[ 4.4862e-03,  3.5262e-03, -4.5896e-03,  ..., -7.6992e-04,\n",
      "          -1.6533e-03,  4.6432e-03],\n",
      "         [ 4.5778e-04,  4.0197e-03,  1.2869e-03,  ...,  4.4552e-03,\n",
      "           3.6509e-03,  3.1152e-03]],\n",
      "\n",
      "        [[ 3.9064e-03,  4.2895e-03, -3.1423e-03,  ...,  2.4494e-03,\n",
      "           2.2762e-03,  5.3046e-03],\n",
      "         [-3.1434e-03,  6.8323e-04,  5.0160e-03,  ...,  4.5379e-03,\n",
      "           2.4855e-03, -1.8031e-03]]])\n"
     ]
    }
   ],
   "source": [
    "from steves_utils.transforms import get_average_magnitude, get_average_power\n",
    "\n",
    "print(set([u for u,_ in val_original_source]))\n",
    "print(set([u for u,_ in val_original_target]))\n",
    "\n",
    "s_x, s_y, q_x, q_y, _ = next(iter(train_processed_source))\n",
    "print(s_x)\n",
    "\n",
    "# for ds in [\n",
    "#     train_processed_source,\n",
    "#     val_processed_source,\n",
    "#     test_processed_source,\n",
    "#     train_processed_target,\n",
    "#     val_processed_target,\n",
    "#     test_processed_target\n",
    "# ]:\n",
    "#     for s_x, s_y, q_x, q_y, _ in ds:\n",
    "#         for X in (s_x, q_x):\n",
    "#             for x in X:\n",
    "#                 assert np.isclose(get_average_magnitude(x.numpy()), 1.0)\n",
    "#                 assert np.isclose(get_average_power(x.numpy()), 1.0)\n",
    "                "
   ]
  },
  {
   "cell_type": "code",
   "execution_count": 21,
   "id": "bbdacba1",
   "metadata": {
    "execution": {
     "iopub.execute_input": "2022-03-21T00:05:48.002676Z",
     "iopub.status.busy": "2022-03-21T00:05:48.002420Z",
     "iopub.status.idle": "2022-03-21T00:05:48.051655Z",
     "shell.execute_reply": "2022-03-21T00:05:48.051184Z"
    },
    "papermill": {
     "duration": 0.066492,
     "end_time": "2022-03-21T00:05:48.051748",
     "exception": false,
     "start_time": "2022-03-21T00:05:47.985256",
     "status": "completed"
    },
    "tags": []
   },
   "outputs": [
    {
     "name": "stdout",
     "output_type": "stream",
     "text": [
      "(2, 200)\n"
     ]
    }
   ],
   "source": [
    "###################################\n",
    "# Build the model\n",
    "###################################\n",
    "# easfsl only wants a tuple for the shape\n",
    "model = Steves_Prototypical_Network(x_net, device=p.device, x_shape=tuple(p.x_shape))\n",
    "optimizer = Adam(params=model.parameters(), lr=p.lr)"
   ]
  },
  {
   "cell_type": "code",
   "execution_count": 22,
   "id": "22b39ac5",
   "metadata": {
    "execution": {
     "iopub.execute_input": "2022-03-21T00:05:48.088374Z",
     "iopub.status.busy": "2022-03-21T00:05:48.088114Z",
     "iopub.status.idle": "2022-03-21T00:19:41.120666Z",
     "shell.execute_reply": "2022-03-21T00:19:41.120435Z"
    },
    "papermill": {
     "duration": 833.050019,
     "end_time": "2022-03-21T00:19:41.120722",
     "exception": false,
     "start_time": "2022-03-21T00:05:48.070703",
     "status": "completed"
    },
    "tags": []
   },
   "outputs": [
    {
     "name": "stdout",
     "output_type": "stream",
     "text": [
      "epoch: 1, [batch: 1 / 6720], examples_per_second: 38.8269, train_label_loss: 2.8905, \n"
     ]
    },
    {
     "name": "stdout",
     "output_type": "stream",
     "text": [
      "epoch: 1, [batch: 672 / 6720], examples_per_second: 3739.8009, train_label_loss: 0.6260, \n"
     ]
    },
    {
     "name": "stdout",
     "output_type": "stream",
     "text": [
      "epoch: 1, [batch: 1344 / 6720], examples_per_second: 3733.5224, train_label_loss: 0.6694, \n"
     ]
    },
    {
     "name": "stdout",
     "output_type": "stream",
     "text": [
      "epoch: 1, [batch: 2016 / 6720], examples_per_second: 3732.3567, train_label_loss: 0.6770, \n"
     ]
    },
    {
     "name": "stdout",
     "output_type": "stream",
     "text": [
      "epoch: 1, [batch: 2688 / 6720], examples_per_second: 3686.7810, train_label_loss: 0.8295, \n"
     ]
    },
    {
     "name": "stdout",
     "output_type": "stream",
     "text": [
      "epoch: 1, [batch: 3360 / 6720], examples_per_second: 3722.3834, train_label_loss: 0.2774, \n"
     ]
    },
    {
     "name": "stdout",
     "output_type": "stream",
     "text": [
      "epoch: 1, [batch: 4032 / 6720], examples_per_second: 3720.0461, train_label_loss: 0.1917, \n"
     ]
    },
    {
     "name": "stdout",
     "output_type": "stream",
     "text": [
      "epoch: 1, [batch: 4704 / 6720], examples_per_second: 3699.7983, train_label_loss: 0.3913, \n"
     ]
    },
    {
     "name": "stdout",
     "output_type": "stream",
     "text": [
      "epoch: 1, [batch: 5376 / 6720], examples_per_second: 3707.6090, train_label_loss: 0.2713, \n"
     ]
    },
    {
     "name": "stdout",
     "output_type": "stream",
     "text": [
      "epoch: 1, [batch: 6048 / 6720], examples_per_second: 3742.1205, train_label_loss: 0.3922, \n"
     ]
    },
    {
     "name": "stdout",
     "output_type": "stream",
     "text": [
      "=============================================================\n",
      "epoch: 1, source_val_acc_label: 0.6770, target_val_acc_label: 0.7147, source_val_label_loss: 11.0285, target_val_label_loss: 4322.1152, \n",
      "=============================================================\n"
     ]
    },
    {
     "name": "stdout",
     "output_type": "stream",
     "text": [
      "New best\n"
     ]
    },
    {
     "name": "stdout",
     "output_type": "stream",
     "text": [
      "epoch: 2, [batch: 1 / 6720], examples_per_second: 4.3680, train_label_loss: 0.4024, \n"
     ]
    },
    {
     "name": "stdout",
     "output_type": "stream",
     "text": [
      "epoch: 2, [batch: 672 / 6720], examples_per_second: 3700.2139, train_label_loss: 0.2851, \n"
     ]
    },
    {
     "name": "stdout",
     "output_type": "stream",
     "text": [
      "epoch: 2, [batch: 1344 / 6720], examples_per_second: 3744.9571, train_label_loss: 0.4256, \n"
     ]
    },
    {
     "name": "stdout",
     "output_type": "stream",
     "text": [
      "epoch: 2, [batch: 2016 / 6720], examples_per_second: 3731.6558, train_label_loss: 0.2672, \n"
     ]
    },
    {
     "name": "stdout",
     "output_type": "stream",
     "text": [
      "epoch: 2, [batch: 2688 / 6720], examples_per_second: 3721.4985, train_label_loss: 0.3857, \n"
     ]
    },
    {
     "name": "stdout",
     "output_type": "stream",
     "text": [
      "epoch: 2, [batch: 3360 / 6720], examples_per_second: 3728.6873, train_label_loss: 0.3673, \n"
     ]
    },
    {
     "name": "stdout",
     "output_type": "stream",
     "text": [
      "epoch: 2, [batch: 4032 / 6720], examples_per_second: 3725.0511, train_label_loss: 0.3329, \n"
     ]
    },
    {
     "name": "stdout",
     "output_type": "stream",
     "text": [
      "epoch: 2, [batch: 4704 / 6720], examples_per_second: 3715.6770, train_label_loss: 0.3404, \n"
     ]
    },
    {
     "name": "stdout",
     "output_type": "stream",
     "text": [
      "epoch: 2, [batch: 5376 / 6720], examples_per_second: 3723.1678, train_label_loss: 0.5195, \n"
     ]
    },
    {
     "name": "stdout",
     "output_type": "stream",
     "text": [
      "epoch: 2, [batch: 6048 / 6720], examples_per_second: 3719.2658, train_label_loss: 0.2549, \n"
     ]
    },
    {
     "name": "stdout",
     "output_type": "stream",
     "text": [
      "=============================================================\n",
      "epoch: 2, source_val_acc_label: 0.8688, target_val_acc_label: 0.4120, source_val_label_loss: 0.3775, target_val_label_loss: 5463.8501, \n",
      "=============================================================\n"
     ]
    },
    {
     "name": "stdout",
     "output_type": "stream",
     "text": [
      "epoch: 3, [batch: 1 / 6720], examples_per_second: 4.4204, train_label_loss: 0.2193, \n"
     ]
    },
    {
     "name": "stdout",
     "output_type": "stream",
     "text": [
      "epoch: 3, [batch: 672 / 6720], examples_per_second: 3707.4816, train_label_loss: 0.3133, \n"
     ]
    },
    {
     "name": "stdout",
     "output_type": "stream",
     "text": [
      "epoch: 3, [batch: 1344 / 6720], examples_per_second: 3716.7789, train_label_loss: 0.4035, \n"
     ]
    },
    {
     "name": "stdout",
     "output_type": "stream",
     "text": [
      "epoch: 3, [batch: 2016 / 6720], examples_per_second: 3725.7953, train_label_loss: 0.2728, \n"
     ]
    },
    {
     "name": "stdout",
     "output_type": "stream",
     "text": [
      "epoch: 3, [batch: 2688 / 6720], examples_per_second: 3714.7126, train_label_loss: 0.2912, \n"
     ]
    },
    {
     "name": "stdout",
     "output_type": "stream",
     "text": [
      "epoch: 3, [batch: 3360 / 6720], examples_per_second: 3731.2496, train_label_loss: 0.4748, \n"
     ]
    },
    {
     "name": "stdout",
     "output_type": "stream",
     "text": [
      "epoch: 3, [batch: 4032 / 6720], examples_per_second: 3722.1425, train_label_loss: 0.5063, \n"
     ]
    },
    {
     "name": "stdout",
     "output_type": "stream",
     "text": [
      "epoch: 3, [batch: 4704 / 6720], examples_per_second: 3716.5590, train_label_loss: 0.2260, \n"
     ]
    },
    {
     "name": "stdout",
     "output_type": "stream",
     "text": [
      "epoch: 3, [batch: 5376 / 6720], examples_per_second: 3738.1816, train_label_loss: 0.1839, \n"
     ]
    },
    {
     "name": "stdout",
     "output_type": "stream",
     "text": [
      "epoch: 3, [batch: 6048 / 6720], examples_per_second: 3741.0469, train_label_loss: 0.3961, \n"
     ]
    },
    {
     "name": "stdout",
     "output_type": "stream",
     "text": [
      "=============================================================\n",
      "epoch: 3, source_val_acc_label: 0.8770, target_val_acc_label: 0.3698, source_val_label_loss: 0.3513, target_val_label_loss: 6707.1597, \n",
      "=============================================================\n"
     ]
    },
    {
     "name": "stdout",
     "output_type": "stream",
     "text": [
      "epoch: 4, [batch: 1 / 6720], examples_per_second: 4.3856, train_label_loss: 0.2953, \n"
     ]
    },
    {
     "name": "stdout",
     "output_type": "stream",
     "text": [
      "epoch: 4, [batch: 672 / 6720], examples_per_second: 3673.7860, train_label_loss: 0.2138, \n"
     ]
    },
    {
     "name": "stdout",
     "output_type": "stream",
     "text": [
      "epoch: 4, [batch: 1344 / 6720], examples_per_second: 3722.7266, train_label_loss: 0.2388, \n"
     ]
    },
    {
     "name": "stdout",
     "output_type": "stream",
     "text": [
      "epoch: 4, [batch: 2016 / 6720], examples_per_second: 3728.2612, train_label_loss: 0.2237, \n"
     ]
    },
    {
     "name": "stdout",
     "output_type": "stream",
     "text": [
      "epoch: 4, [batch: 2688 / 6720], examples_per_second: 3708.8054, train_label_loss: 0.4432, \n"
     ]
    },
    {
     "name": "stdout",
     "output_type": "stream",
     "text": [
      "epoch: 4, [batch: 3360 / 6720], examples_per_second: 3717.5417, train_label_loss: 0.2173, \n"
     ]
    },
    {
     "name": "stdout",
     "output_type": "stream",
     "text": [
      "epoch: 4, [batch: 4032 / 6720], examples_per_second: 3722.0689, train_label_loss: 0.2937, \n"
     ]
    },
    {
     "name": "stdout",
     "output_type": "stream",
     "text": [
      "epoch: 4, [batch: 4704 / 6720], examples_per_second: 3706.2893, train_label_loss: 0.3982, \n"
     ]
    },
    {
     "name": "stdout",
     "output_type": "stream",
     "text": [
      "epoch: 4, [batch: 5376 / 6720], examples_per_second: 3721.5610, train_label_loss: 0.3655, \n"
     ]
    },
    {
     "name": "stdout",
     "output_type": "stream",
     "text": [
      "epoch: 4, [batch: 6048 / 6720], examples_per_second: 3725.3254, train_label_loss: 0.0695, \n"
     ]
    },
    {
     "name": "stdout",
     "output_type": "stream",
     "text": [
      "=============================================================\n",
      "epoch: 4, source_val_acc_label: 0.8912, target_val_acc_label: 0.3977, source_val_label_loss: 0.3101, target_val_label_loss: 6954.4927, \n",
      "=============================================================\n"
     ]
    },
    {
     "name": "stdout",
     "output_type": "stream",
     "text": [
      "epoch: 5, [batch: 1 / 6720], examples_per_second: 4.4048, train_label_loss: 0.4714, \n"
     ]
    },
    {
     "name": "stdout",
     "output_type": "stream",
     "text": [
      "epoch: 5, [batch: 672 / 6720], examples_per_second: 3719.9186, train_label_loss: 0.5079, \n"
     ]
    },
    {
     "name": "stdout",
     "output_type": "stream",
     "text": [
      "epoch: 5, [batch: 1344 / 6720], examples_per_second: 3717.7419, train_label_loss: 0.2183, \n"
     ]
    },
    {
     "name": "stdout",
     "output_type": "stream",
     "text": [
      "epoch: 5, [batch: 2016 / 6720], examples_per_second: 3724.8977, train_label_loss: 0.1953, \n"
     ]
    },
    {
     "name": "stdout",
     "output_type": "stream",
     "text": [
      "epoch: 5, [batch: 2688 / 6720], examples_per_second: 3712.2744, train_label_loss: 0.2239, \n"
     ]
    },
    {
     "name": "stdout",
     "output_type": "stream",
     "text": [
      "epoch: 5, [batch: 3360 / 6720], examples_per_second: 3734.7405, train_label_loss: 0.2756, \n"
     ]
    },
    {
     "name": "stdout",
     "output_type": "stream",
     "text": [
      "epoch: 5, [batch: 4032 / 6720], examples_per_second: 3731.2301, train_label_loss: 0.5450, \n"
     ]
    },
    {
     "name": "stdout",
     "output_type": "stream",
     "text": [
      "epoch: 5, [batch: 4704 / 6720], examples_per_second: 3713.4461, train_label_loss: 0.2668, \n"
     ]
    },
    {
     "name": "stdout",
     "output_type": "stream",
     "text": [
      "epoch: 5, [batch: 5376 / 6720], examples_per_second: 3729.1128, train_label_loss: 0.3378, \n"
     ]
    },
    {
     "name": "stdout",
     "output_type": "stream",
     "text": [
      "epoch: 5, [batch: 6048 / 6720], examples_per_second: 3725.4241, train_label_loss: 0.3837, \n"
     ]
    },
    {
     "name": "stdout",
     "output_type": "stream",
     "text": [
      "=============================================================\n",
      "epoch: 5, source_val_acc_label: 0.8991, target_val_acc_label: 0.4088, source_val_label_loss: 0.2880, target_val_label_loss: 7499.8286, \n",
      "=============================================================\n"
     ]
    },
    {
     "name": "stdout",
     "output_type": "stream",
     "text": [
      "Patience (3) exhausted\n"
     ]
    }
   ],
   "source": [
    "###################################\n",
    "# train\n",
    "###################################\n",
    "jig = PTN_Train_Eval_Test_Jig(model, p.BEST_MODEL_PATH, p.device)\n",
    "\n",
    "jig.train(\n",
    "    train_iterable=datasets.source.processed.train,\n",
    "    source_val_iterable=datasets.source.processed.val,\n",
    "    target_val_iterable=datasets.target.processed.val,\n",
    "    num_epochs=p.n_epoch,\n",
    "    num_logs_per_epoch=p.NUM_LOGS_PER_EPOCH,\n",
    "    patience=p.patience,\n",
    "    optimizer=optimizer,\n",
    "    criteria_for_best=p.criteria_for_best,\n",
    ")"
   ]
  },
  {
   "cell_type": "code",
   "execution_count": 23,
   "id": "31e8fabf",
   "metadata": {
    "execution": {
     "iopub.execute_input": "2022-03-21T00:19:41.172843Z",
     "iopub.status.busy": "2022-03-21T00:19:41.172593Z",
     "iopub.status.idle": "2022-03-21T00:19:41.191110Z",
     "shell.execute_reply": "2022-03-21T00:19:41.190738Z"
    },
    "papermill": {
     "duration": 0.045767,
     "end_time": "2022-03-21T00:19:41.191202",
     "exception": false,
     "start_time": "2022-03-21T00:19:41.145435",
     "status": "completed"
    },
    "tags": []
   },
   "outputs": [],
   "source": [
    "total_experiment_time_secs = time.time() - start_time_secs"
   ]
  },
  {
   "cell_type": "code",
   "execution_count": 24,
   "id": "87b9595b",
   "metadata": {
    "execution": {
     "iopub.execute_input": "2022-03-21T00:19:41.249777Z",
     "iopub.status.busy": "2022-03-21T00:19:41.249482Z",
     "iopub.status.idle": "2022-03-21T00:21:59.945409Z",
     "shell.execute_reply": "2022-03-21T00:21:59.945778Z"
    },
    "papermill": {
     "duration": 138.726374,
     "end_time": "2022-03-21T00:21:59.945910",
     "exception": false,
     "start_time": "2022-03-21T00:19:41.219536",
     "status": "completed"
    },
    "tags": []
   },
   "outputs": [],
   "source": [
    "###################################\n",
    "# Evaluate the model\n",
    "###################################\n",
    "source_test_label_accuracy, source_test_label_loss = jig.test(datasets.source.processed.test)\n",
    "target_test_label_accuracy, target_test_label_loss = jig.test(datasets.target.processed.test)\n",
    "\n",
    "source_val_label_accuracy, source_val_label_loss = jig.test(datasets.source.processed.val)\n",
    "target_val_label_accuracy, target_val_label_loss = jig.test(datasets.target.processed.val)\n",
    "\n",
    "history = jig.get_history()\n",
    "\n",
    "total_epochs_trained = len(history[\"epoch_indices\"])\n",
    "\n",
    "val_dl = Iterable_Aggregator((datasets.source.original.val,datasets.target.original.val))\n",
    "\n",
    "confusion = ptn_confusion_by_domain_over_dataloader(model, p.device, val_dl)\n",
    "per_domain_accuracy = per_domain_accuracy_from_confusion(confusion)\n",
    "\n",
    "# Add a key to per_domain_accuracy for if it was a source domain\n",
    "for domain, accuracy in per_domain_accuracy.items():\n",
    "    per_domain_accuracy[domain] = {\n",
    "        \"accuracy\": accuracy,\n",
    "        \"source?\": domain in p.domains_source\n",
    "    }\n",
    "\n",
    "# Do an independent accuracy assesment JUST TO BE SURE!\n",
    "# _source_test_label_accuracy = independent_accuracy_assesment(model, datasets.source.processed.test, p.device)\n",
    "# _target_test_label_accuracy = independent_accuracy_assesment(model, datasets.target.processed.test, p.device)\n",
    "# _source_val_label_accuracy = independent_accuracy_assesment(model, datasets.source.processed.val, p.device)\n",
    "# _target_val_label_accuracy = independent_accuracy_assesment(model, datasets.target.processed.val, p.device)\n",
    "\n",
    "# assert(_source_test_label_accuracy == source_test_label_accuracy)\n",
    "# assert(_target_test_label_accuracy == target_test_label_accuracy)\n",
    "# assert(_source_val_label_accuracy == source_val_label_accuracy)\n",
    "# assert(_target_val_label_accuracy == target_val_label_accuracy)\n",
    "\n",
    "experiment = {\n",
    "    \"experiment_name\": p.experiment_name,\n",
    "    \"parameters\": dict(p),\n",
    "    \"results\": {\n",
    "        \"source_test_label_accuracy\": source_test_label_accuracy,\n",
    "        \"source_test_label_loss\": source_test_label_loss,\n",
    "        \"target_test_label_accuracy\": target_test_label_accuracy,\n",
    "        \"target_test_label_loss\": target_test_label_loss,\n",
    "        \"source_val_label_accuracy\": source_val_label_accuracy,\n",
    "        \"source_val_label_loss\": source_val_label_loss,\n",
    "        \"target_val_label_accuracy\": target_val_label_accuracy,\n",
    "        \"target_val_label_loss\": target_val_label_loss,\n",
    "        \"total_epochs_trained\": total_epochs_trained,\n",
    "        \"total_experiment_time_secs\": total_experiment_time_secs,\n",
    "        \"confusion\": confusion,\n",
    "        \"per_domain_accuracy\": per_domain_accuracy,\n",
    "    },\n",
    "    \"history\": history,\n",
    "    \"dataset_metrics\": get_dataset_metrics(datasets, \"ptn\"),\n",
    "}"
   ]
  },
  {
   "cell_type": "code",
   "execution_count": 25,
   "id": "54a21829",
   "metadata": {
    "execution": {
     "iopub.execute_input": "2022-03-21T00:22:00.003122Z",
     "iopub.status.busy": "2022-03-21T00:22:00.002854Z",
     "iopub.status.idle": "2022-03-21T00:22:00.128960Z",
     "shell.execute_reply": "2022-03-21T00:22:00.128550Z"
    },
    "papermill": {
     "duration": 0.153346,
     "end_time": "2022-03-21T00:22:00.129067",
     "exception": false,
     "start_time": "2022-03-21T00:21:59.975721",
     "status": "completed"
    },
    "tags": []
   },
   "outputs": [
    {
     "data": {
      "image/png": "[encoded data removed]",
      "text/plain": [
       "<Figure size 1080x504 with 1 Axes>"
      ]
     },
     "metadata": {
      "needs_background": "light"
     },
     "output_type": "display_data"
    }
   ],
   "source": [
    "ax = get_loss_curve(experiment)\n",
    "plt.show()"
   ]
  },
  {
   "cell_type": "code",
   "execution_count": 26,
   "id": "fd8a0f60",
   "metadata": {
    "execution": {
     "iopub.execute_input": "2022-03-21T00:22:00.187438Z",
     "iopub.status.busy": "2022-03-21T00:22:00.186914Z",
     "iopub.status.idle": "2022-03-21T00:22:00.328880Z",
     "shell.execute_reply": "2022-03-21T00:22:00.329294Z"
    },
    "papermill": {
     "duration": 0.171087,
     "end_time": "2022-03-21T00:22:00.329427",
     "exception": false,
     "start_time": "2022-03-21T00:22:00.158340",
     "status": "completed"
    },
    "tags": []
   },
   "outputs": [
    {
     "data": {
      "text/plain": [
       "<AxesSubplot:title={'center':'Results'}>"
      ]
     },
     "execution_count": 26,
     "metadata": {},
     "output_type": "execute_result"
    },
    {
     "data": {
      "image/png": "[encoded data removed]",
      "text/plain": [
       "<Figure size 1080x504 with 1 Axes>"
      ]
     },
     "metadata": {
      "needs_background": "light"
     },
     "output_type": "display_data"
    }
   ],
   "source": [
    "get_results_table(experiment)"
   ]
  },
  {
   "cell_type": "code",
   "execution_count": 27,
   "id": "cf8dc689",
   "metadata": {
    "execution": {
     "iopub.execute_input": "2022-03-21T00:22:00.391976Z",
     "iopub.status.busy": "2022-03-21T00:22:00.391720Z",
     "iopub.status.idle": "2022-03-21T00:22:00.539602Z",
     "shell.execute_reply": "2022-03-21T00:22:00.540007Z"
    },
    "papermill": {
     "duration": 0.177822,
     "end_time": "2022-03-21T00:22:00.540138",
     "exception": false,
     "start_time": "2022-03-21T00:22:00.362316",
     "status": "completed"
    },
    "tags": []
   },
   "outputs": [
    {
     "data": {
      "text/plain": [
       "<AxesSubplot:title={'center':'Per Domain Validation Accuracy'}, xlabel='domain'>"
      ]
     },
     "execution_count": 27,
     "metadata": {},
     "output_type": "execute_result"
    },
    {
     "data": {
      "image/png": "[encoded data removed]",
      "text/plain": [
       "<Figure size 1080x504 with 1 Axes>"
      ]
     },
     "metadata": {
      "needs_background": "light"
     },
     "output_type": "display_data"
    }
   ],
   "source": [
    "get_domain_accuracies(experiment)"
   ]
  },
  {
   "cell_type": "code",
   "execution_count": 28,
   "id": "a74ae082",
   "metadata": {
    "execution": {
     "iopub.execute_input": "2022-03-21T00:22:00.602889Z",
     "iopub.status.busy": "2022-03-21T00:22:00.602629Z",
     "iopub.status.idle": "2022-03-21T00:22:00.619028Z",
     "shell.execute_reply": "2022-03-21T00:22:00.619434Z"
    },
    "papermill": {
     "duration": 0.047738,
     "end_time": "2022-03-21T00:22:00.619565",
     "exception": false,
     "start_time": "2022-03-21T00:22:00.571827",
     "status": "completed"
    },
    "tags": []
   },
   "outputs": [
    {
     "name": "stdout",
     "output_type": "stream",
     "text": [
      "Source Test Label Accuracy: 0.680078125 Target Test Label Accuracy: 0.7174001079913607\n",
      "Source Val Label Accuracy: 0.6769856770833333 Target Val Label Accuracy: 0.714700027457441\n"
     ]
    }
   ],
   "source": [
    "print(\"Source Test Label Accuracy:\", experiment[\"results\"][\"source_test_label_accuracy\"], \"Target Test Label Accuracy:\", experiment[\"results\"][\"target_test_label_accuracy\"])\n",
    "print(\"Source Val Label Accuracy:\", experiment[\"results\"][\"source_val_label_accuracy\"], \"Target Val Label Accuracy:\", experiment[\"results\"][\"target_val_label_accuracy\"])"
   ]
  },
  {
   "cell_type": "code",
   "execution_count": 29,
   "id": "dacca602",
   "metadata": {
    "execution": {
     "iopub.execute_input": "2022-03-21T00:22:00.682111Z",
     "iopub.status.busy": "2022-03-21T00:22:00.681849Z",
     "iopub.status.idle": "2022-03-21T00:22:00.699002Z",
     "shell.execute_reply": "2022-03-21T00:22:00.699415Z"
    },
    "papermill": {
     "duration": 0.047564,
     "end_time": "2022-03-21T00:22:00.699543",
     "exception": false,
     "start_time": "2022-03-21T00:22:00.651979",
     "status": "completed"
    },
    "tags": [
     "experiment_json"
    ]
   },
   "outputs": [
    {
     "data": {
      "text/plain": [
       "'{\"experiment_name\": \"tl_3Av2:oracle.run1.framed -> cores+wisig\", \"parameters\": {\"experiment_name\": \"tl_3Av2:oracle.run1.framed -> cores+wisig\", \"device\": \"cuda\", \"lr\": 0.0001, \"x_shape\": [2, 200], \"n_shot\": 3, \"n_query\": 2, \"train_k_factor\": 3, \"val_k_factor\": 2, \"test_k_factor\": 2, \"torch_default_dtype\": \"torch.float32\", \"n_epoch\": 50, \"patience\": 3, \"criteria_for_best\": \"target_accuracy\", \"x_net\": [{\"class\": \"nnReshape\", \"kargs\": {\"shape\": [-1, 1, 2, 200]}}, {\"class\": \"Conv2d\", \"kargs\": {\"in_channels\": 1, \"out_channels\": 256, \"kernel_size\": [1, 7], \"bias\": false, \"padding\": [0, 3]}}, {\"class\": \"ReLU\", \"kargs\": {\"inplace\": true}}, {\"class\": \"BatchNorm2d\", \"kargs\": {\"num_features\": 256}}, {\"class\": \"Conv2d\", \"kargs\": {\"in_channels\": 256, \"out_channels\": 80, \"kernel_size\": [2, 7], \"bias\": true, \"padding\": [0, 3]}}, {\"class\": \"ReLU\", \"kargs\": {\"inplace\": true}}, {\"class\": \"BatchNorm2d\", \"kargs\": {\"num_features\": 80}}, {\"class\": \"Flatten\", \"kargs\": {}}, {\"class\": \"Linear\", \"kargs\": {\"in_features\": 16000, \"out_features\": 256}}, {\"class\": \"ReLU\", \"kargs\": {\"inplace\": true}}, {\"class\": \"BatchNorm1d\", \"kargs\": {\"num_features\": 256}}, {\"class\": \"Linear\", \"kargs\": {\"in_features\": 256, \"out_features\": 256}}], \"NUM_LOGS_PER_EPOCH\": 10, \"BEST_MODEL_PATH\": \"./best_model.pth\", \"n_way\": 16, \"datasets\": [{\"labels\": [\"1-10.\", \"1-11.\", \"1-15.\", \"1-16.\", \"1-17.\", \"1-18.\", \"1-19.\", \"10-4.\", \"10-7.\", \"11-1.\", \"11-14.\", \"11-17.\", \"11-20.\", \"11-7.\", \"13-20.\", \"13-8.\", \"14-10.\", \"14-11.\", \"14-14.\", \"14-7.\", \"15-1.\", \"15-20.\", \"16-1.\", \"16-16.\", \"17-10.\", \"17-11.\", \"17-2.\", \"19-1.\", \"19-16.\", \"19-19.\", \"19-20.\", \"19-3.\", \"2-10.\", \"2-11.\", \"2-17.\", \"2-18.\", \"2-20.\", \"2-3.\", \"2-4.\", \"2-5.\", \"2-6.\", \"2-7.\", \"2-8.\", \"3-13.\", \"3-18.\", \"3-3.\", \"4-1.\", \"4-10.\", \"4-11.\", \"4-19.\", \"5-5.\", \"6-15.\", \"7-10.\", \"7-14.\", \"8-18.\", \"8-20.\", \"8-3.\", \"8-8.\"], \"domains\": [1, 2, 3, 4, 5], \"num_examples_per_domain_per_label\": -1, \"pickle_path\": \"/mnt/wd500GB/CSC500/csc500-main/datasets/cores.stratified_ds.2022A.pkl\", \"source_or_target_dataset\": \"target\", \"x_transforms\": [\"take_200\"], \"episode_transforms\": [], \"domain_prefix\": \"C_\"}, {\"labels\": [\"1-10\", \"1-12\", \"1-14\", \"1-16\", \"1-18\", \"1-19\", \"1-8\", \"10-11\", \"10-17\", \"10-4\", \"10-7\", \"11-1\", \"11-10\", \"11-19\", \"11-20\", \"11-4\", \"11-7\", \"12-19\", \"12-20\", \"12-7\", \"13-14\", \"13-18\", \"13-19\", \"13-20\", \"13-3\", \"13-7\", \"14-10\", \"14-11\", \"14-12\", \"14-13\", \"14-14\", \"14-19\", \"14-20\", \"14-7\", \"14-8\", \"14-9\", \"15-1\", \"15-19\", \"15-6\", \"16-1\", \"16-16\", \"16-19\", \"16-20\", \"17-10\", \"17-11\", \"18-1\", \"18-10\", \"18-11\", \"18-12\", \"18-13\", \"18-14\", \"18-15\", \"18-16\", \"18-17\", \"18-19\", \"18-2\", \"18-20\", \"18-4\", \"18-5\", \"18-7\", \"18-8\", \"18-9\", \"19-1\", \"19-10\", \"19-11\", \"19-12\", \"19-13\", \"19-14\", \"19-15\", \"19-19\", \"19-2\", \"19-20\", \"19-3\", \"19-4\", \"19-6\", \"19-7\", \"19-8\", \"19-9\", \"2-1\", \"2-13\", \"2-15\", \"2-3\", \"2-4\", \"2-5\", \"2-6\", \"2-7\", \"2-8\", \"20-1\", \"20-12\", \"20-14\", \"20-15\", \"20-16\", \"20-18\", \"20-19\", \"20-20\", \"20-3\", \"20-4\", \"20-5\", \"20-7\", \"20-8\", \"3-1\", \"3-13\", \"3-18\", \"3-2\", \"3-8\", \"4-1\", \"4-10\", \"4-11\", \"5-1\", \"5-5\", \"6-1\", \"6-15\", \"6-6\", \"7-10\", \"7-11\", \"7-12\", \"7-13\", \"7-14\", \"7-7\", \"7-8\", \"7-9\", \"8-1\", \"8-13\", \"8-14\", \"8-18\", \"8-20\", \"8-3\", \"8-8\", \"9-1\", \"9-7\"], \"domains\": [1, 2, 3, 4], \"num_examples_per_domain_per_label\": -1, \"pickle_path\": \"/mnt/wd500GB/CSC500/csc500-main/datasets/wisig.node3-19.stratified_ds.2022A.pkl\", \"source_or_target_dataset\": \"target\", \"x_transforms\": [\"take_200\"], \"episode_transforms\": [], \"domain_prefix\": \"W_\"}, {\"labels\": [\"3123D52\", \"3123D65\", \"3123D79\", \"3123D80\", \"3123D54\", \"3123D70\", \"3123D7B\", \"3123D89\", \"3123D58\", \"3123D76\", \"3123D7D\", \"3123EFE\", \"3123D64\", \"3123D78\", \"3123D7E\", \"3124E4A\"], \"domains\": [32, 38, 8, 44, 14, 50, 20, 26], \"num_examples_per_domain_per_label\": 2000, \"pickle_path\": \"/mnt/wd500GB/CSC500/csc500-main/datasets/oracle.Run1_framed_2000Examples_stratified_ds.2022A.pkl\", \"source_or_target_dataset\": \"source\", \"x_transforms\": [\"take_200\", \"resample_20Msps_to_25Msps\"], \"episode_transforms\": [], \"domain_prefix\": \"O_\"}], \"seed\": 420, \"dataset_seed\": 420, \"domains_source\": [\"O_32\", \"O_38\", \"O_8\", \"O_44\", \"O_14\", \"O_50\", \"O_20\", \"O_26\"], \"domains_target\": [\"C_1\", \"C_2\", \"C_3\", \"C_4\", \"C_5\", \"W_1\", \"W_2\", \"W_3\", \"W_4\"]}, \"results\": {\"source_test_label_accuracy\": 0.680078125, \"source_test_label_loss\": 10.970690727233887, \"target_test_label_accuracy\": 0.7174001079913607, \"target_test_label_loss\": 4327.353515625, \"source_val_label_accuracy\": 0.6769856770833333, \"source_val_label_loss\": 11.028467178344727, \"target_val_label_accuracy\": 0.714700027457441, \"target_val_label_loss\": 4322.115234375, \"total_epochs_trained\": 5, \"total_experiment_time_secs\": 860.1277008056641, \"confusion\": {\"O_14\": {\"15\": {\"15\": 240}, \"5\": {\"5\": 226, \"2\": 7, \"4\": 3, \"7\": 2, \"3\": 1, \"14\": 1}, \"7\": {\"7\": 238, \"5\": 2}, \"4\": {\"4\": 227, \"5\": 13}, \"10\": {\"10\": 240}, \"11\": {\"11\": 239, \"15\": 1}, \"12\": {\"12\": 240}, \"0\": {\"0\": 222, \"10\": 7, \"3\": 11}, \"14\": {\"13\": 25, \"14\": 197, \"6\": 2, \"2\": 15, \"3\": 1}, \"8\": {\"8\": 240}, \"13\": {\"6\": 88, \"14\": 81, \"13\": 47, \"15\": 16, \"2\": 8}, \"6\": {\"6\": 139, \"13\": 64, \"14\": 24, \"2\": 12, \"3\": 1}, \"1\": {\"1\": 240}, \"3\": {\"3\": 238, \"2\": 1, \"6\": 1}, \"9\": {\"9\": 240}, \"2\": {\"2\": 120, \"14\": 37, \"3\": 8, \"5\": 33, \"13\": 8, \"7\": 1, \"6\": 21, \"4\": 12}}, \"O_20\": {\"4\": {\"4\": 234, \"12\": 6}, \"10\": {\"10\": 239, \"4\": 1}, \"15\": {\"15\": 188, \"1\": 26, \"12\": 25, \"2\": 1}, \"0\": {\"0\": 232, \"8\": 2, \"3\": 2, \"5\": 4}, \"6\": {\"6\": 237, \"7\": 3}, \"3\": {\"3\": 187, \"1\": 3, \"5\": 24, \"9\": 17, \"8\": 8, \"7\": 1}, \"7\": {\"7\": 191, \"9\": 20, \"2\": 28, \"6\": 1}, \"2\": {\"7\": 30, \"2\": 182, \"12\": 13, \"9\": 7, \"15\": 1, \"13\": 6, \"1\": 1}, \"8\": {\"8\": 223, \"14\": 8, \"3\": 9}, \"11\": {\"11\": 240}, \"14\": {\"14\": 234, \"8\": 3, \"6\": 3}, \"12\": {\"12\": 203, \"2\": 15, \"4\": 6, \"15\": 12, \"1\": 3, \"9\": 1}, \"13\": {\"13\": 235, \"2\": 5}, \"9\": {\"7\": 14, \"9\": 202, \"2\": 4, \"3\": 15, \"1\": 5}, \"5\": {\"5\": 171, \"1\": 47, \"3\": 20, \"9\": 2}, \"1\": {\"1\": 189, \"5\": 37, \"15\": 7, \"9\": 5, \"3\": 1, \"12\": 1}}, \"O_50\": {\"5\": {\"4\": 28, \"5\": 78, \"7\": 49, \"6\": 46, \"11\": 7, \"1\": 1, \"15\": 15, \"13\": 13, \"3\": 3}, \"12\": {\"12\": 103, \"9\": 83, \"15\": 7, \"11\": 38, \"4\": 1, \"6\": 4, \"13\": 2, \"5\": 2}, \"14\": {\"14\": 155, \"2\": 78, \"0\": 7}, \"4\": {\"4\": 123, \"7\": 63, \"5\": 36, \"15\": 12, \"9\": 1, \"6\": 5}, \"13\": {\"13\": 166, \"8\": 35, \"1\": 20, \"11\": 11, \"15\": 3, \"5\": 3, \"6\": 2}, \"10\": {\"10\": 165, \"0\": 44, \"8\": 21, \"1\": 10}, \"9\": {\"9\": 105, \"12\": 75, \"11\": 33, \"15\": 17, \"4\": 5, \"6\": 4, \"5\": 1}, \"15\": {\"11\": 29, \"5\": 20, \"6\": 66, \"15\": 103, \"12\": 9, \"9\": 10, \"7\": 1, \"4\": 2}, \"6\": {\"5\": 41, \"7\": 4, \"6\": 93, \"15\": 86, \"4\": 4, \"11\": 6, \"13\": 2, \"9\": 3, \"3\": 1}, \"2\": {\"0\": 59, \"14\": 87, \"2\": 93, \"10\": 1}, \"0\": {\"0\": 132, \"10\": 34, \"2\": 62, \"14\": 11, \"1\": 1}, \"11\": {\"13\": 12, \"11\": 157, \"5\": 3, \"12\": 28, \"15\": 17, \"9\": 18, \"6\": 4, \"1\": 1}, \"3\": {\"3\": 204, \"6\": 5, \"5\": 26, \"13\": 4, \"7\": 1}, \"8\": {\"8\": 160, \"10\": 30, \"13\": 43, \"1\": 7}, \"7\": {\"4\": 46, \"7\": 163, \"5\": 28, \"6\": 2, \"3\": 1}, \"1\": {\"1\": 150, \"13\": 36, \"8\": 5, \"10\": 31, \"0\": 15, \"14\": 1, \"11\": 2}}, \"O_26\": {\"7\": {\"8\": 30, \"7\": 186, \"2\": 17, \"3\": 5, \"9\": 2}, \"6\": {\"6\": 154, \"15\": 37, \"5\": 36, \"10\": 3, \"14\": 9, \"1\": 1}, \"14\": {\"1\": 13, \"10\": 66, \"14\": 144, \"0\": 14, \"6\": 2, \"15\": 1}, \"15\": {\"0\": 10, \"5\": 65, \"15\": 105, \"14\": 1, \"10\": 12, \"6\": 46, \"1\": 1}, \"5\": {\"15\": 54, \"5\": 146, \"6\": 37, \"10\": 1, \"1\": 2}, \"10\": {\"10\": 141, \"0\": 23, \"14\": 55, \"15\": 18, \"5\": 1, \"6\": 2}, \"4\": {\"4\": 240}, \"11\": {\"11\": 158, \"5\": 33, \"6\": 23, \"1\": 12, \"15\": 14}, \"13\": {\"13\": 217, \"9\": 17, \"2\": 6}, \"2\": {\"9\": 29, \"2\": 120, \"7\": 52, \"3\": 10, \"0\": 11, \"8\": 17, \"15\": 1}, \"0\": {\"10\": 38, \"0\": 183, \"14\": 11, \"8\": 1, \"6\": 1, \"15\": 5, \"2\": 1}, \"12\": {\"12\": 240}, \"3\": {\"3\": 221, \"7\": 15, \"2\": 4}, \"9\": {\"9\": 150, \"8\": 39, \"13\": 18, \"7\": 6, \"2\": 27}, \"8\": {\"7\": 35, \"8\": 184, \"9\": 16, \"2\": 5}, \"1\": {\"1\": 196, \"14\": 30, \"11\": 1, \"10\": 5, \"6\": 7, \"15\": 1}}, \"O_32\": {\"7\": {\"7\": 86, \"14\": 20, \"0\": 41, \"5\": 69, \"8\": 14, \"15\": 9, \"2\": 1}, \"2\": {\"2\": 85, \"13\": 10, \"14\": 23, \"8\": 26, \"3\": 25, \"4\": 62, \"0\": 9}, \"5\": {\"5\": 86, \"7\": 86, \"0\": 19, \"15\": 8, \"14\": 20, \"8\": 18, \"2\": 2, \"4\": 1}, \"6\": {\"6\": 240}, \"13\": {\"4\": 30, \"9\": 75, \"13\": 63, \"3\": 44, \"12\": 3, \"11\": 18, \"2\": 7}, \"4\": {\"4\": 65, \"2\": 67, \"3\": 54, \"8\": 7, \"13\": 32, \"14\": 3, \"9\": 10, \"0\": 2}, \"3\": {\"3\": 66, \"4\": 48, \"2\": 29, \"13\": 61, \"9\": 33, \"14\": 1, \"11\": 2}, \"0\": {\"0\": 49, \"15\": 14, \"5\": 34, \"2\": 13, \"14\": 37, \"4\": 2, \"8\": 46, \"7\": 45}, \"9\": {\"3\": 15, \"9\": 78, \"11\": 39, \"13\": 54, \"12\": 42, \"10\": 8, \"4\": 2, \"6\": 2}, \"12\": {\"12\": 170, \"11\": 21, \"10\": 43, \"9\": 6}, \"8\": {\"8\": 69, \"7\": 24, \"2\": 38, \"3\": 4, \"4\": 9, \"14\": 48, \"5\": 10, \"0\": 29, \"15\": 8, \"13\": 1}, \"14\": {\"14\": 54, \"7\": 41, \"0\": 28, \"8\": 41, \"5\": 41, \"15\": 3, \"2\": 23, \"4\": 9}, \"15\": {\"0\": 32, \"7\": 25, \"8\": 42, \"15\": 100, \"14\": 9, \"5\": 27, \"4\": 1, \"2\": 4}, \"11\": {\"12\": 90, \"11\": 72, \"9\": 65, \"10\": 3, \"13\": 7, \"3\": 3}, \"10\": {\"10\": 177, \"12\": 42, \"6\": 21}, \"1\": {\"1\": 239, \"0\": 1}}, \"O_44\": {\"11\": {\"11\": 240}, \"7\": {\"10\": 37, \"7\": 97, \"9\": 62, \"15\": 11, \"4\": 11, \"2\": 5, \"14\": 8, \"6\": 6, \"13\": 2, \"5\": 1}, \"6\": {\"13\": 58, \"6\": 152, \"9\": 23, \"7\": 6, \"4\": 1}, \"12\": {\"3\": 103, \"12\": 136, \"1\": 1}, \"4\": {\"14\": 51, \"4\": 57, \"15\": 30, \"8\": 19, \"5\": 35, \"0\": 11, \"9\": 19, \"13\": 4, \"7\": 12, \"2\": 2}, \"13\": {\"13\": 174, \"6\": 47, \"9\": 15, \"11\": 4}, \"8\": {\"5\": 33, \"8\": 74, \"0\": 45, \"14\": 20, \"15\": 51, \"4\": 15, \"3\": 1, \"7\": 1}, \"5\": {\"4\": 45, \"5\": 90, \"14\": 45, \"8\": 27, \"0\": 7, \"15\": 25, \"9\": 1}, \"14\": {\"5\": 32, \"4\": 64, \"14\": 82, \"15\": 40, \"8\": 13, \"9\": 6, \"7\": 2, \"0\": 1}, \"3\": {\"3\": 122, \"12\": 111, \"1\": 7}, \"10\": {\"7\": 63, \"10\": 115, \"9\": 29, \"1\": 7, \"2\": 18, \"6\": 4, \"4\": 3, \"13\": 1}, \"1\": {\"2\": 93, \"1\": 138, \"10\": 5, \"12\": 1, \"7\": 1, \"3\": 2}, \"2\": {\"1\": 70, \"2\": 149, \"10\": 12, \"0\": 2, \"7\": 3, \"4\": 2, \"15\": 1, \"3\": 1}, \"15\": {\"15\": 61, \"8\": 59, \"0\": 23, \"5\": 24, \"14\": 44, \"4\": 26, \"9\": 2, \"2\": 1}, \"9\": {\"9\": 67, \"15\": 8, \"6\": 19, \"7\": 34, \"2\": 8, \"4\": 27, \"10\": 15, \"13\": 41, \"14\": 17, \"8\": 2, \"5\": 1, \"1\": 1}, \"0\": {\"0\": 173, \"8\": 52, \"2\": 1, \"15\": 9, \"4\": 1, \"3\": 3, \"12\": 1}}, \"O_8\": {\"10\": {\"10\": 194, \"13\": 24, \"5\": 11, \"1\": 4, \"4\": 2, \"6\": 4, \"11\": 1}, \"6\": {\"7\": 18, \"6\": 222}, \"13\": {\"6\": 2, \"13\": 182, \"5\": 4, \"10\": 35, \"7\": 17}, \"3\": {\"3\": 240}, \"9\": {\"9\": 240}, \"1\": {\"5\": 22, \"1\": 139, \"11\": 64, \"10\": 12, \"14\": 3}, \"5\": {\"5\": 173, \"1\": 16, \"11\": 13, \"10\": 35, \"14\": 2, \"4\": 1}, \"11\": {\"1\": 112, \"5\": 6, \"11\": 98, \"14\": 13, \"4\": 8, \"10\": 3}, \"4\": {\"4\": 232, \"14\": 6, \"6\": 2}, \"14\": {\"14\": 153, \"4\": 83, \"11\": 4}, \"12\": {\"12\": 180, \"15\": 60}, \"7\": {\"7\": 220, \"6\": 17, \"13\": 3}, \"0\": {\"0\": 183, \"14\": 56, \"11\": 1}, \"15\": {\"15\": 211, \"12\": 29}, \"2\": {\"3\": 28, \"2\": 193, \"12\": 16, \"15\": 3}, \"8\": {\"8\": 236, \"6\": 4}}, \"O_38\": {\"4\": {\"4\": 236, \"0\": 2, \"10\": 2}, \"7\": {\"7\": 144, \"8\": 19, \"9\": 36, \"13\": 2, \"5\": 18, \"2\": 8, \"14\": 6, \"0\": 4, \"4\": 3}, \"12\": {\"12\": 197, \"15\": 18, \"8\": 19, \"5\": 6}, \"10\": {\"0\": 57, \"10\": 145, \"13\": 27, \"4\": 7, \"3\": 3, \"14\": 1}, \"0\": {\"13\": 54, \"10\": 78, \"0\": 73, \"7\": 9, \"3\": 8, \"2\": 7, \"9\": 3, \"14\": 4, \"4\": 4}, \"1\": {\"6\": 73, \"1\": 159, \"15\": 8}, \"5\": {\"8\": 77, \"9\": 30, \"5\": 63, \"12\": 25, \"15\": 20, \"7\": 22, \"2\": 1, \"1\": 1, \"14\": 1}, \"15\": {\"5\": 12, \"15\": 148, \"1\": 15, \"12\": 50, \"8\": 11, \"6\": 4}, \"9\": {\"9\": 138, \"5\": 38, \"8\": 16, \"14\": 1, \"7\": 46, \"0\": 1}, \"11\": {\"11\": 239, \"3\": 1}, \"14\": {\"2\": 106, \"14\": 115, \"5\": 2, \"7\": 7, \"13\": 4, \"8\": 5, \"0\": 1}, \"6\": {\"6\": 165, \"1\": 73, \"15\": 2}, \"8\": {\"9\": 16, \"8\": 66, \"15\": 26, \"5\": 59, \"14\": 3, \"7\": 33, \"2\": 10, \"12\": 25, \"0\": 1, \"13\": 1}, \"3\": {\"3\": 231, \"11\": 9}, \"2\": {\"2\": 132, \"14\": 95, \"13\": 4, \"5\": 2, \"0\": 2, \"7\": 2, \"8\": 3}, \"13\": {\"13\": 169, \"2\": 15, \"10\": 21, \"14\": 7, \"0\": 27, \"7\": 1}}, \"W_3\": {\"110\": {\"94\": 2, \"110\": 58, \"122\": 10, \"44\": 1, \"87\": 8, \"11\": 2, \"70\": 1, \"107\": 1, \"88\": 1, \"8\": 3, \"118\": 2, \"36\": 1, \"10\": 1, \"98\": 1}, \"1\": {\"1\": 81, \"105\": 13, \"3\": 2, \"71\": 1, \"49\": 1, \"114\": 7, \"106\": 1, \"21\": 1, \"7\": 1}, \"2\": {\"117\": 2, \"92\": 1, \"2\": 12, \"29\": 2, \"34\": 1, \"89\": 1, \"102\": 1, \"90\": 3, \"121\": 2, \"128\": 1, \"129\": 2}, \"94\": {\"94\": 66, \"27\": 1, \"0\": 3, \"39\": 2, \"15\": 4, \"110\": 2, \"107\": 1, \"8\": 3, \"12\": 2}, \"64\": {\"89\": 1, \"103\": 1, \"64\": 14, \"90\": 1, \"66\": 2, \"74\": 1}, \"78\": {\"78\": 10, \"88\": 4, \"21\": 2}, \"47\": {\"47\": 4, \"25\": 2, \"31\": 2, \"34\": 3, \"103\": 1}, \"127\": {\"127\": 102, \"1\": 1, \"44\": 1, \"71\": 4, \"3\": 10, \"0\": 1, \"106\": 1, \"12\": 2, \"7\": 1, \"94\": 1, \"40\": 1, \"10\": 1, \"8\": 2}, \"89\": {\"89\": 15, \"47\": 1, \"22\": 1, \"120\": 2, \"99\": 1, \"116\": 1, \"92\": 1, \"17\": 2, \"121\": 1, \"90\": 1, \"124\": 1, \"117\": 1}, \"79\": {\"79\": 12}, \"22\": {\"22\": 8, \"79\": 1, \"20\": 1, \"4\": 1, \"48\": 2, \"125\": 2, \"86\": 1}, \"117\": {\"2\": 3, \"117\": 96, \"37\": 1, \"121\": 2, \"90\": 5, \"26\": 1, \"91\": 1, \"73\": 1, \"67\": 1, \"5\": 1}, \"49\": {\"49\": 17, \"94\": 1, \"101\": 1, \"7\": 3, \"19\": 1, \"15\": 1}, \"14\": {\"14\": 65, \"1\": 4, \"40\": 3, \"122\": 1, \"30\": 1, \"114\": 2, \"92\": 2, \"44\": 1, \"94\": 1}, \"103\": {\"79\": 1, \"103\": 10, \"55\": 2, \"85\": 2, \"58\": 1}, \"123\": {\"123\": 13, \"63\": 1, \"13\": 2}, \"98\": {\"98\": 117, \"34\": 3, \"84\": 1, \"1\": 2, \"3\": 1, \"72\": 1, \"35\": 1, \"117\": 1, \"93\": 1}, \"18\": {\"18\": 102, \"26\": 4, \"40\": 1, \"114\": 1}, \"61\": {\"61\": 16}, \"108\": {\"108\": 90, \"27\": 7, \"36\": 10, \"10\": 10, \"0\": 1, \"24\": 4, \"87\": 3, \"8\": 1}, \"100\": {\"100\": 10, \"19\": 1, \"32\": 2, \"107\": 1, \"40\": 1, \"99\": 1}, \"0\": {\"0\": 94, \"94\": 4, \"88\": 1, \"30\": 5, \"36\": 5, \"8\": 4, \"24\": 1, \"106\": 1, \"12\": 1}, \"107\": {\"100\": 1, \"107\": 120, \"92\": 1, \"114\": 1, \"40\": 4, \"9\": 1, \"99\": 1, \"33\": 1}, \"58\": {\"98\": 3, \"85\": 1, \"52\": 2, \"54\": 2, \"58\": 6, \"34\": 1, \"42\": 1}, \"8\": {\"8\": 90, \"0\": 8, \"97\": 2, \"94\": 5, \"110\": 1, \"101\": 2, \"36\": 2, \"7\": 4, \"15\": 5, \"23\": 1}, \"85\": {\"58\": 1, \"85\": 19, \"5\": 5, \"72\": 1, \"112\": 1, \"128\": 2, \"111\": 2, \"103\": 2, \"42\": 2, \"98\": 1}, \"31\": {\"18\": 1, \"107\": 1, \"31\": 11, \"99\": 3, \"3\": 1, \"28\": 2, \"10\": 1}, \"81\": {\"81\": 22, \"61\": 2, \"74\": 2, \"92\": 2, \"82\": 1, \"33\": 1, \"107\": 2}, \"60\": {\"23\": 3, \"60\": 11, \"39\": 1, \"106\": 2, \"87\": 1, \"21\": 1, \"24\": 1, \"3\": 1, \"101\": 1, \"30\": 2, \"15\": 2, \"70\": 2}, \"102\": {\"102\": 113, \"5\": 1, \"117\": 1, \"124\": 1}, \"19\": {\"19\": 14, \"85\": 1, \"28\": 1, \"9\": 3, \"32\": 1, \"38\": 1, \"1\": 1, \"107\": 1, \"5\": 3, \"128\": 2, \"103\": 1, \"46\": 2, \"90\": 1}, \"23\": {\"8\": 2, \"60\": 2, \"23\": 10, \"15\": 2, \"62\": 1, \"18\": 2, \"101\": 3, \"122\": 2, \"87\": 3, \"7\": 1, \"33\": 1, \"26\": 1, \"97\": 1, \"94\": 1}, \"32\": {\"32\": 20, \"91\": 1, \"90\": 1, \"29\": 3, \"60\": 1, \"128\": 3, \"100\": 1, \"38\": 1, \"76\": 1}, \"39\": {\"39\": 72, \"70\": 3, \"21\": 3, \"88\": 4, \"43\": 2, \"109\": 4, \"10\": 4, \"126\": 8, \"11\": 5, \"87\": 2, \"113\": 1}, \"129\": {\"91\": 2, \"129\": 28, \"5\": 2}, \"71\": {\"101\": 1, \"99\": 1, \"71\": 54, \"44\": 1, \"106\": 1, \"127\": 5, \"60\": 1, \"105\": 3, \"109\": 1}, \"91\": {\"91\": 15, \"28\": 1, \"58\": 1, \"57\": 1, \"37\": 2, \"124\": 2, \"70\": 1, \"5\": 1}, \"101\": {\"101\": 39, \"70\": 1, \"12\": 2, \"106\": 3, \"7\": 3, \"51\": 1, \"43\": 1, \"15\": 2}, \"62\": {\"62\": 82, \"71\": 1, \"108\": 1, \"118\": 1, \"16\": 8, \"14\": 1, \"93\": 1, \"69\": 1, \"84\": 8, \"94\": 2, \"18\": 1, \"113\": 2, \"87\": 1, \"0\": 2, \"88\": 2, \"7\": 1, \"24\": 1, \"49\": 1, \"26\": 1, \"12\": 2, \"8\": 1, \"10\": 1}, \"63\": {\"63\": 15, \"102\": 1}, \"125\": {\"125\": 117, \"95\": 1, \"90\": 1, \"111\": 1}, \"57\": {\"99\": 1, \"57\": 8, \"50\": 2, \"100\": 2, \"90\": 3, \"79\": 1, \"19\": 1, \"124\": 1, \"65\": 1}, \"28\": {\"28\": 6, \"19\": 2, \"66\": 1, \"90\": 1, \"128\": 2, \"53\": 1, \"20\": 1, \"85\": 1, \"74\": 1}, \"70\": {\"70\": 56, \"88\": 5, \"39\": 6, \"10\": 1, \"24\": 3, \"11\": 1}, \"99\": {\"99\": 21, \"20\": 2, \"21\": 1, \"128\": 2, \"16\": 1, \"71\": 1, \"12\": 1, \"34\": 1, \"31\": 1, \"127\": 1, \"38\": 1, \"107\": 1, \"44\": 1, \"105\": 1}, \"121\": {\"121\": 19, \"67\": 1, \"29\": 1, \"117\": 3, \"119\": 1, \"50\": 1, \"2\": 2, \"113\": 1, \"89\": 1, \"31\": 1, \"71\": 1}, \"4\": {\"80\": 2, \"4\": 87, \"17\": 2, \"124\": 2, \"94\": 1, \"125\": 1, \"5\": 1}, \"80\": {\"80\": 14, \"79\": 2}, \"51\": {\"3\": 1, \"51\": 11, \"59\": 1, \"47\": 1, \"124\": 1, \"7\": 1}, \"3\": {\"3\": 81, \"71\": 4, \"12\": 2, \"112\": 1, \"127\": 25, \"70\": 1, \"15\": 1, \"109\": 1}, \"9\": {\"9\": 19, \"20\": 1, \"19\": 2, \"106\": 1, \"95\": 1, \"40\": 1, \"100\": 1, \"128\": 2, \"53\": 3, \"107\": 1}, \"53\": {\"53\": 12, \"66\": 1, \"56\": 1, \"23\": 1, \"42\": 1, \"9\": 1, \"68\": 1, \"11\": 1, \"127\": 1}, \"30\": {\"30\": 75, \"0\": 3, \"36\": 1, \"108\": 1, \"116\": 1, \"110\": 1, \"27\": 1, \"94\": 1}, \"33\": {\"33\": 112, \"26\": 2, \"69\": 4, \"18\": 1, \"105\": 2, \"40\": 1}, \"15\": {\"15\": 84, \"97\": 1, \"12\": 2, \"94\": 2, \"101\": 4, \"8\": 2, \"106\": 2, \"7\": 5, \"0\": 1, \"88\": 1}, \"97\": {\"30\": 3, \"97\": 12, \"15\": 3, \"106\": 1, \"101\": 1}, \"86\": {\"86\": 11, \"4\": 1, \"48\": 4, \"54\": 1, \"91\": 1, \"124\": 3, \"42\": 1, \"52\": 1, \"79\": 1, \"22\": 1, \"73\": 1, \"99\": 1, \"8\": 1}, \"20\": {\"20\": 11, \"51\": 1, \"35\": 1, \"55\": 1, \"34\": 2}, \"66\": {\"66\": 4, \"65\": 3, \"35\": 1, \"77\": 1, \"58\": 1, \"52\": 2, \"112\": 2, \"123\": 1, \"85\": 1}, \"10\": {\"10\": 93, \"24\": 4, \"11\": 2, \"27\": 3, \"108\": 12, \"36\": 4, \"87\": 2, \"43\": 1, \"16\": 1}, \"29\": {\"32\": 4, \"129\": 1, \"29\": 18, \"41\": 1, \"74\": 1, \"76\": 1, \"38\": 2, \"57\": 1, \"19\": 1, \"53\": 1, \"83\": 1}, \"109\": {\"109\": 58, \"43\": 3, \"11\": 21, \"110\": 1, \"10\": 3, \"126\": 13, \"118\": 3, \"39\": 3, \"27\": 2, \"113\": 2, \"87\": 2, \"90\": 1, \"21\": 2}, \"52\": {\"52\": 3, \"58\": 1, \"40\": 1, \"41\": 1, \"85\": 2, \"42\": 1, \"71\": 1, \"86\": 2, \"7\": 1, \"78\": 1, \"66\": 1, \"15\": 1}, \"67\": {\"67\": 14, \"61\": 1, \"121\": 1}, \"83\": {\"83\": 18, \"78\": 2, \"70\": 1, \"72\": 2, \"98\": 1}, \"72\": {\"72\": 23, \"75\": 1, \"73\": 1, \"31\": 1, \"3\": 1, \"83\": 1}, \"90\": {\"90\": 106, \"28\": 2, \"57\": 2, \"19\": 1, \"114\": 2, \"107\": 3, \"40\": 2, \"44\": 4, \"64\": 2, \"93\": 1, \"33\": 1}, \"69\": {\"69\": 71, \"26\": 3, \"40\": 1, \"85\": 1, \"33\": 5, \"44\": 2, \"14\": 1}, \"88\": {\"88\": 108, \"70\": 3, \"78\": 1}, \"115\": {\"115\": 11, \"25\": 1, \"17\": 1, \"41\": 1, \"13\": 1, \"77\": 1}, \"73\": {\"73\": 28, \"34\": 1, \"116\": 1, \"103\": 1, \"68\": 1, \"83\": 1, \"88\": 1, \"99\": 1, \"98\": 1, \"27\": 1, \"108\": 1, \"89\": 1, \"105\": 1}, \"34\": {\"44\": 1, \"34\": 13, \"54\": 3, \"33\": 1, \"98\": 3, \"114\": 1, \"12\": 1, \"73\": 1, \"105\": 1, \"62\": 1, \"20\": 1, \"47\": 2, \"25\": 2, \"19\": 1}, \"25\": {\"25\": 15, \"73\": 1}, \"44\": {\"34\": 1, \"44\": 44, \"1\": 1, \"14\": 4, \"16\": 1, \"69\": 1, \"114\": 3, \"105\": 9, \"40\": 4, \"107\": 1, \"99\": 1, \"90\": 1, \"32\": 1}, \"112\": {\"111\": 1, \"37\": 1, \"112\": 8, \"97\": 1, \"52\": 1, \"103\": 1, \"66\": 1, \"42\": 1, \"68\": 1}, \"37\": {\"37\": 10, \"103\": 1, \"91\": 2, \"77\": 2, \"54\": 1}, \"77\": {\"56\": 1, \"77\": 7, \"66\": 1, \"55\": 1, \"46\": 2, \"129\": 2, \"57\": 1, \"38\": 1}, \"111\": {\"111\": 112, \"58\": 1, \"6\": 1, \"124\": 4, \"5\": 1, \"88\": 1, \"11\": 1, \"10\": 1}, \"119\": {\"119\": 10, \"102\": 2, \"117\": 1, \"80\": 1, \"89\": 2}, \"56\": {\"56\": 4, \"54\": 1, \"128\": 1, \"58\": 1, \"111\": 1, \"7\": 1, \"95\": 1, \"9\": 1, \"99\": 1}, \"5\": {\"77\": 1, \"5\": 102, \"90\": 2, \"70\": 1, \"98\": 1, \"124\": 2, \"21\": 1, \"111\": 2}, \"122\": {\"122\": 37, \"110\": 4, \"21\": 1, \"87\": 1, \"43\": 1, \"10\": 1, \"11\": 2, \"36\": 2, \"0\": 3, \"108\": 1, \"30\": 1, \"118\": 2, \"60\": 1, \"70\": 1, \"94\": 1, \"109\": 1}, \"74\": {\"74\": 12, \"100\": 1, \"81\": 1, \"64\": 1, \"129\": 1}, \"11\": {\"21\": 1, \"11\": 77, \"118\": 3, \"109\": 16, \"87\": 13, \"24\": 2, \"43\": 4, \"110\": 3, \"108\": 3, \"39\": 4, \"88\": 2, \"113\": 5, \"62\": 1, \"126\": 8, \"10\": 5, \"70\": 1, \"27\": 3, \"93\": 1}, \"41\": {\"29\": 1, \"129\": 1, \"22\": 2, \"85\": 2, \"41\": 4, \"111\": 1, \"28\": 1, \"98\": 1, \"128\": 1, \"124\": 2}, \"104\": {\"104\": 12, \"48\": 1, \"115\": 2, \"66\": 1}, \"21\": {\"21\": 48}, \"118\": {\"21\": 1, \"23\": 1, \"118\": 61, \"60\": 1, \"11\": 5, \"87\": 2, \"62\": 1, \"43\": 2, \"39\": 1, \"93\": 1, \"108\": 2, \"113\": 11, \"36\": 2, \"110\": 1, \"70\": 2, \"27\": 1, \"10\": 1, \"96\": 1, \"126\": 1, \"88\": 2}, \"40\": {\"40\": 75, \"21\": 1, \"105\": 7, \"1\": 6, \"62\": 1, \"114\": 9, \"8\": 1, \"14\": 3, \"44\": 4, \"12\": 1, \"107\": 4, \"84\": 1, \"33\": 2, \"20\": 1, \"49\": 1, \"69\": 1, \"127\": 3, \"3\": 1}, \"6\": {\"6\": 25, \"54\": 1, \"59\": 1, \"58\": 1, \"41\": 1, \"46\": 1, \"124\": 1, \"111\": 1}, \"27\": {\"27\": 60, \"108\": 4, \"87\": 1, \"0\": 1, \"24\": 3, \"10\": 9, \"30\": 4, \"36\": 8, \"70\": 2, \"39\": 1, \"88\": 3}, \"113\": {\"113\": 83, \"93\": 6, \"122\": 1, \"118\": 15, \"96\": 2, \"21\": 1, \"126\": 1, \"87\": 3, \"0\": 1, \"8\": 1, \"23\": 1, \"11\": 2, \"36\": 1, \"108\": 1, \"10\": 1}, \"68\": {\"68\": 15, \"73\": 1}, \"12\": {\"12\": 77, \"15\": 10, \"106\": 5, \"7\": 4, \"101\": 1, \"71\": 1, \"0\": 1, \"3\": 1, \"108\": 1, \"8\": 1}, \"54\": {\"54\": 9, \"72\": 2, \"34\": 1, \"98\": 2, \"42\": 1, \"75\": 1}, \"24\": {\"24\": 34, \"27\": 4, \"36\": 1, \"88\": 1, \"11\": 1, \"10\": 2, \"70\": 2, \"108\": 3}, \"106\": {\"101\": 5, \"106\": 57, \"3\": 2, \"7\": 11, \"12\": 8, \"15\": 8, \"126\": 1, \"113\": 1, \"127\": 1, \"97\": 2, \"71\": 1, \"94\": 1, \"8\": 1, \"0\": 1}, \"128\": {\"128\": 19, \"56\": 1, \"99\": 1, \"9\": 2, \"19\": 1, \"85\": 1, \"34\": 1, \"95\": 2, \"42\": 1, \"2\": 1, \"32\": 2}, \"48\": {\"86\": 5, \"48\": 3, \"59\": 1, \"57\": 1, \"79\": 2, \"22\": 2, \"115\": 2}, \"92\": {\"81\": 1, \"92\": 18, \"72\": 1, \"29\": 1, \"89\": 2, \"107\": 1, \"3\": 1, \"56\": 1, \"55\": 1, \"82\": 1, \"116\": 1, \"69\": 1, \"18\": 1, \"60\": 1}, \"35\": {\"35\": 9, \"65\": 1, \"84\": 1, \"91\": 1}, \"116\": {\"116\": 17, \"32\": 1, \"13\": 1, \"104\": 1, \"61\": 1, \"50\": 1, \"64\": 1, \"82\": 1, \"28\": 1, \"81\": 2, \"17\": 1}, \"38\": {\"92\": 1, \"20\": 1, \"120\": 1, \"38\": 8, \"95\": 2, \"100\": 1, \"65\": 1, \"29\": 1}, \"126\": {\"24\": 2, \"126\": 87, \"118\": 4, \"43\": 3, \"21\": 2, \"39\": 8, \"110\": 1, \"113\": 2, \"109\": 7, \"11\": 5, \"88\": 1, \"128\": 1, \"87\": 1}, \"46\": {\"46\": 12, \"128\": 2, \"98\": 1, \"77\": 1}, \"120\": {\"120\": 11, \"38\": 1, \"17\": 1, \"117\": 1, \"121\": 1, \"65\": 1, \"104\": 1, \"13\": 1, \"31\": 1, \"116\": 1}, \"7\": {\"7\": 86, \"101\": 2, \"94\": 2, \"106\": 6, \"8\": 5, \"15\": 3, \"12\": 2, \"51\": 1, \"49\": 2, \"97\": 1, \"113\": 1, \"3\": 1}, \"13\": {\"13\": 8, \"38\": 1, \"45\": 2, \"70\": 1, \"122\": 1, \"88\": 1, \"123\": 1, \"117\": 1}, \"43\": {\"43\": 24, \"27\": 1, \"118\": 3, \"70\": 1, \"109\": 5, \"113\": 2, \"88\": 1, \"126\": 4, \"11\": 3, \"87\": 3, \"122\": 2, \"21\": 1, \"39\": 3, \"10\": 2, \"0\": 1}, \"93\": {\"93\": 98, \"127\": 1, \"11\": 1, \"69\": 1, \"8\": 4, \"110\": 3, \"84\": 3, \"62\": 5, \"108\": 1, \"0\": 2, \"90\": 1, \"36\": 3, \"96\": 1, \"15\": 1, \"27\": 1, \"94\": 1, \"113\": 3, \"16\": 1, \"12\": 1}, \"26\": {\"26\": 120, \"122\": 1, \"69\": 2, \"84\": 1, \"126\": 1, \"18\": 3, \"27\": 1, \"33\": 2, \"93\": 1}, \"76\": {\"40\": 1, \"106\": 1, \"76\": 6, \"99\": 1, \"35\": 1, \"38\": 1, \"64\": 2, \"12\": 1, \"89\": 1, \"49\": 1}, \"59\": {\"59\": 11, \"6\": 1}, \"65\": {\"65\": 6, \"99\": 1, \"66\": 1, \"17\": 1, \"52\": 1, \"53\": 2}, \"87\": {\"87\": 56, \"0\": 1, \"110\": 15, \"113\": 2, \"118\": 5, \"11\": 13, \"43\": 2, \"101\": 2, \"62\": 1, \"108\": 4, \"122\": 2, \"16\": 1, \"88\": 3, \"27\": 3, \"10\": 2, \"8\": 2, \"78\": 1, \"30\": 1, \"36\": 1, \"39\": 3}, \"124\": {\"29\": 1, \"91\": 1, \"124\": 87, \"42\": 1, \"90\": 2, \"5\": 9, \"98\": 2, \"6\": 3, \"111\": 9, \"4\": 1, \"17\": 1, \"37\": 1, \"48\": 1, \"77\": 1, \"68\": 2, \"41\": 1, \"114\": 1}, \"84\": {\"84\": 78, \"16\": 8, \"40\": 4, \"111\": 1, \"1\": 1, \"62\": 11, \"108\": 1, \"93\": 2, \"94\": 1, \"14\": 1}, \"82\": {\"82\": 23, \"74\": 1, \"89\": 2, \"29\": 2}, \"75\": {\"75\": 16}, \"17\": {\"4\": 1, \"115\": 1, \"104\": 2, \"79\": 2, \"17\": 4, \"78\": 1, \"124\": 1, \"13\": 1, \"88\": 1, \"102\": 1, \"42\": 1}, \"105\": {\"105\": 100, \"44\": 2, \"40\": 4, \"114\": 11, \"1\": 5, \"71\": 2}, \"95\": {\"95\": 25, \"101\": 2, \"40\": 1, \"46\": 1, \"9\": 1, \"103\": 1, \"128\": 1}, \"42\": {\"42\": 14, \"19\": 2, \"112\": 1, \"73\": 4, \"52\": 2, \"9\": 1, \"99\": 1, \"54\": 1, \"29\": 1, \"46\": 1}, \"55\": {\"55\": 14, \"85\": 2}, \"16\": {\"16\": 86, \"33\": 1, \"84\": 3, \"62\": 14, \"8\": 2, \"14\": 1, \"51\": 1, \"23\": 3, \"113\": 1, \"93\": 1, \"0\": 1, \"26\": 2}, \"50\": {\"50\": 11, \"116\": 1, \"129\": 1, \"119\": 1, \"100\": 1, \"82\": 1}, \"96\": {\"43\": 1, \"3\": 1, \"96\": 14, \"126\": 1, \"122\": 3}, \"45\": {\"45\": 16}, \"36\": {\"36\": 76, \"24\": 4, \"27\": 7, \"10\": 4, \"108\": 11, \"30\": 8, \"8\": 1, \"0\": 7, \"94\": 1, \"43\": 1}, \"114\": {\"114\": 90, \"27\": 1, \"1\": 10, \"105\": 9, \"3\": 1, \"90\": 1, \"40\": 4, \"44\": 1, \"0\": 1, \"15\": 1, \"51\": 1, \"98\": 1, \"107\": 1, \"11\": 1, \"102\": 1}}, \"W_4\": {\"113\": {\"113\": 88, \"0\": 1, \"62\": 5, \"118\": 5, \"110\": 3, \"39\": 2, \"122\": 3, \"88\": 2, \"43\": 4, \"24\": 2, \"126\": 2, \"70\": 1, \"11\": 2, \"109\": 1, \"87\": 2, \"93\": 1}, \"85\": {\"34\": 1, \"85\": 21, \"25\": 1, \"96\": 1, \"127\": 1, \"46\": 2, \"49\": 1}, \"34\": {\"34\": 13, \"72\": 1, \"12\": 2, \"83\": 1, \"49\": 2, \"1\": 1, \"89\": 1, \"46\": 2, \"25\": 1, \"98\": 1, \"95\": 3, \"94\": 1, \"74\": 1, \"114\": 2}, \"55\": {\"85\": 1, \"83\": 1, \"55\": 8, \"89\": 1, \"29\": 1, \"128\": 1, \"19\": 1, \"40\": 1, \"124\": 1}, \"42\": {\"42\": 17, \"29\": 1, \"52\": 1, \"129\": 1, \"119\": 1, \"91\": 1, \"56\": 2, \"33\": 1, \"111\": 1, \"103\": 1, \"19\": 1}, \"13\": {\"13\": 11, \"50\": 1, \"80\": 1, \"37\": 1, \"48\": 2}, \"69\": {\"69\": 82, \"39\": 2, \"88\": 4, \"84\": 10, \"8\": 1, \"107\": 1, \"18\": 7, \"26\": 5, \"7\": 1, \"14\": 2, \"81\": 1, \"44\": 2, \"89\": 1, \"33\": 2, \"40\": 1, \"15\": 1, \"108\": 1}, \"35\": {\"35\": 8, \"18\": 1, \"20\": 1, \"32\": 1, \"61\": 1}, \"83\": {\"34\": 2, \"21\": 1, \"114\": 1, \"83\": 17, \"14\": 1, \"128\": 1, \"78\": 1, \"95\": 3, \"105\": 1}, \"51\": {\"53\": 2, \"24\": 1, \"70\": 1, \"126\": 1, \"51\": 4, \"43\": 1, \"89\": 1, \"12\": 1, \"39\": 1, \"9\": 2, \"21\": 1}, \"72\": {\"49\": 1, \"69\": 1, \"72\": 12, \"62\": 1, \"5\": 2, \"23\": 1, \"83\": 1, \"11\": 2, \"43\": 1, \"99\": 2, \"14\": 2, \"3\": 3, \"100\": 1, \"1\": 2}, \"24\": {\"24\": 95, \"10\": 14, \"21\": 1, \"70\": 6, \"30\": 1, \"36\": 1, \"97\": 1, \"94\": 1}, \"53\": {\"53\": 8, \"71\": 1, \"27\": 1, \"114\": 2, \"49\": 2, \"127\": 2}, \"8\": {\"8\": 77, \"0\": 11, \"15\": 15, \"109\": 1, \"7\": 12, \"106\": 3, \"126\": 1, \"101\": 10, \"94\": 6, \"24\": 1, \"11\": 1, \"88\": 1, \"64\": 1, \"12\": 1, \"21\": 1, \"10\": 1, \"127\": 1}, \"49\": {\"49\": 20, \"105\": 2, \"12\": 2, \"106\": 1, \"43\": 1, \"3\": 2, \"40\": 2, \"1\": 1, \"71\": 1}, \"21\": {\"21\": 37, \"10\": 1, \"88\": 1, \"126\": 1}, \"18\": {\"18\": 109, \"69\": 2, \"26\": 4, \"84\": 1, \"24\": 1, \"16\": 2, \"108\": 1}, \"114\": {\"114\": 97, \"5\": 10, \"127\": 2, \"1\": 3, \"88\": 1, \"71\": 2, \"3\": 2, \"43\": 1}, \"58\": {\"58\": 8, \"31\": 1, \"47\": 1, \"29\": 3, \"85\": 1, \"68\": 1, \"40\": 1}, \"56\": {\"56\": 7, \"32\": 2, \"95\": 1, \"91\": 2}, \"80\": {\"80\": 16}, \"11\": {\"108\": 1, \"11\": 79, \"8\": 5, \"101\": 6, \"118\": 8, \"62\": 1, \"93\": 24, \"60\": 1, \"87\": 5, \"30\": 3, \"0\": 5, \"24\": 2, \"27\": 4, \"78\": 1, \"7\": 2, \"113\": 1, \"94\": 1, \"71\": 2, \"36\": 1, \"110\": 2}, \"15\": {\"15\": 87, \"94\": 5, \"60\": 1, \"87\": 2, \"110\": 1, \"36\": 4, \"88\": 3, \"0\": 3, \"7\": 2, \"101\": 3, \"106\": 1, \"8\": 12, \"27\": 1, \"11\": 2, \"118\": 1}, \"50\": {\"73\": 2, \"92\": 2, \"119\": 1, \"31\": 1, \"50\": 7, \"115\": 1, \"42\": 1, \"102\": 1}, \"111\": {\"111\": 131, \"114\": 1, \"90\": 1, \"124\": 2, \"83\": 1, \"27\": 1, \"3\": 1}, \"108\": {\"108\": 48, \"70\": 13, \"78\": 2, \"109\": 8, \"98\": 1, \"39\": 7, \"24\": 2, \"10\": 4, \"43\": 2, \"88\": 1, \"128\": 1, \"124\": 1, \"27\": 1, \"12\": 1}, \"104\": {\"104\": 7, \"80\": 1, \"64\": 1, \"17\": 2, \"46\": 1, \"66\": 1, \"48\": 1, \"102\": 1, \"111\": 1}, \"32\": {\"68\": 1, \"32\": 13, \"107\": 2, \"82\": 1, \"112\": 4, \"56\": 1, \"74\": 1, \"1\": 1, \"23\": 1, \"38\": 1, \"55\": 2}, \"68\": {\"111\": 2, \"68\": 13, \"108\": 1}, \"73\": {\"83\": 1, \"73\": 14, \"64\": 1, \"128\": 1, \"20\": 1, \"82\": 1, \"56\": 1, \"33\": 1, \"40\": 2, \"2\": 1}, \"92\": {\"107\": 1, \"92\": 9, \"53\": 1, \"45\": 1, \"90\": 1, \"61\": 1, \"34\": 1, \"48\": 1, \"81\": 1, \"2\": 2, \"82\": 1, \"50\": 1, \"128\": 1, \"33\": 1, \"116\": 1, \"40\": 2, \"32\": 1, \"106\": 1}, \"57\": {\"57\": 16}, \"40\": {\"40\": 94, \"107\": 6, \"99\": 1, \"108\": 2, \"5\": 9, \"12\": 1, \"105\": 2, \"114\": 5, \"14\": 3, \"84\": 1, \"33\": 3, \"82\": 1, \"1\": 2, \"88\": 2, \"39\": 1, \"44\": 2, \"3\": 1}, \"71\": {\"71\": 86, \"72\": 1, \"105\": 2, \"1\": 1, \"3\": 5, \"127\": 2, \"12\": 1, \"24\": 1, \"126\": 1, \"101\": 1, \"109\": 1, \"114\": 2}, \"121\": {\"121\": 22, \"21\": 1, \"117\": 1, \"90\": 1, \"57\": 1, \"129\": 2, \"31\": 1, \"100\": 1, \"63\": 1, \"120\": 1}, \"62\": {\"62\": 34, \"118\": 2, \"101\": 2, \"109\": 1, \"96\": 1, \"26\": 2, \"11\": 1, \"88\": 1, \"15\": 1, \"93\": 3, \"113\": 2, \"126\": 1, \"27\": 1, \"98\": 1, \"39\": 2, \"7\": 2, \"70\": 1, \"69\": 2}, \"39\": {\"39\": 58, \"108\": 7, \"109\": 5, \"88\": 8, \"126\": 10, \"10\": 4, \"70\": 1, \"23\": 1, \"21\": 1, \"24\": 1, \"43\": 3, \"118\": 1}, \"107\": {\"107\": 108, \"90\": 2, \"33\": 19, \"40\": 7, \"114\": 2, \"84\": 1, \"8\": 2, \"69\": 1, \"82\": 1, \"106\": 1}, \"60\": {\"60\": 10, \"7\": 3, \"43\": 1, \"26\": 1, \"21\": 1, \"97\": 2, \"27\": 3, \"12\": 1, \"105\": 2, \"62\": 2, \"20\": 1, \"3\": 1, \"84\": 1, \"49\": 2, \"0\": 1}, \"129\": {\"129\": 21, \"28\": 1, \"42\": 1, \"19\": 1, \"55\": 4}, \"84\": {\"69\": 14, \"84\": 69, \"5\": 3, \"14\": 5, \"49\": 1, \"78\": 1, \"16\": 5, \"44\": 7, \"88\": 2, \"26\": 10, \"122\": 1, \"108\": 3, \"11\": 2, \"99\": 1, \"105\": 2, \"60\": 1, \"40\": 4, \"7\": 1}, \"106\": {\"7\": 2, \"12\": 18, \"106\": 78, \"127\": 5, \"88\": 2, \"8\": 4, \"101\": 3, \"15\": 2, \"94\": 1, \"71\": 1}, \"87\": {\"0\": 5, \"87\": 79, \"113\": 2, \"10\": 4, \"8\": 1, \"94\": 3, \"43\": 4, \"30\": 3, \"122\": 3, \"36\": 8, \"88\": 3, \"70\": 3, \"101\": 1, \"24\": 1, \"109\": 1, \"93\": 3, \"11\": 3, \"108\": 2, \"118\": 1, \"15\": 1, \"110\": 1}, \"110\": {\"0\": 3, \"93\": 7, \"27\": 1, \"110\": 48, \"113\": 3, \"30\": 1, \"11\": 7, \"39\": 1, \"118\": 4, \"24\": 3, \"36\": 2, \"122\": 2, \"43\": 2, \"70\": 1, \"108\": 1, \"87\": 4, \"126\": 1, \"88\": 1, \"101\": 1, \"3\": 1}, \"118\": {\"118\": 52, \"0\": 2, \"96\": 1, \"19\": 1, \"113\": 15, \"62\": 3, \"122\": 6, \"11\": 10, \"7\": 2, \"27\": 1, \"110\": 3, \"26\": 1, \"108\": 1, \"70\": 1, \"24\": 2, \"97\": 1, \"1\": 1, \"88\": 2, \"93\": 6, \"101\": 1}, \"64\": {\"64\": 9, \"123\": 1, \"90\": 1, \"0\": 1, \"120\": 1, \"66\": 1, \"28\": 1, \"89\": 1}, \"82\": {\"129\": 1, \"32\": 1, \"82\": 11, \"17\": 1, \"73\": 1, \"28\": 1, \"91\": 1, \"69\": 1, \"42\": 2, \"90\": 3, \"107\": 2, \"20\": 1, \"120\": 1, \"119\": 2, \"2\": 1, \"47\": 1, \"83\": 1}, \"7\": {\"0\": 11, \"8\": 9, \"12\": 4, \"27\": 1, \"7\": 46, \"11\": 3, \"15\": 7, \"101\": 14, \"1\": 2, \"30\": 3, \"94\": 6, \"87\": 6, \"114\": 1, \"93\": 1, \"106\": 3, \"62\": 1, \"43\": 3, \"126\": 1, \"10\": 1, \"24\": 1}, \"0\": {\"0\": 72, \"94\": 7, \"43\": 1, \"101\": 9, \"7\": 3, \"88\": 1, \"8\": 4, \"87\": 3, \"10\": 1, \"30\": 2, \"11\": 2, \"110\": 1, \"15\": 3, \"93\": 1, \"36\": 2, \"21\": 2, \"106\": 2}, \"41\": {\"68\": 1, \"41\": 4, \"49\": 1, \"28\": 1, \"42\": 1, \"102\": 1, \"29\": 1, \"66\": 1, \"91\": 1, \"119\": 2, \"73\": 2}, \"102\": {\"102\": 118, \"129\": 1, \"124\": 2, \"111\": 1, \"126\": 1, \"56\": 1, \"48\": 1, \"37\": 1, \"67\": 2, \"80\": 1, \"4\": 1}, \"89\": {\"107\": 1, \"89\": 9, \"5\": 2, \"100\": 1, \"43\": 1, \"46\": 2, \"8\": 2, \"128\": 2, \"38\": 1, \"101\": 1, \"51\": 1, \"99\": 1, \"82\": 1, \"55\": 1, \"90\": 2, \"40\": 2, \"83\": 1, \"28\": 1}, \"26\": {\"18\": 6, \"26\": 91, \"14\": 2, \"69\": 5, \"70\": 2, \"118\": 1, \"5\": 1, \"3\": 1, \"84\": 5, \"101\": 1, \"94\": 1, \"7\": 1, \"60\": 1, \"40\": 2, \"43\": 1, \"16\": 4, \"11\": 1, \"24\": 1, \"36\": 1}, \"103\": {\"103\": 10, \"71\": 2, \"46\": 2, \"28\": 1, \"42\": 1}, \"90\": {\"90\": 96, \"64\": 1, \"121\": 1, \"66\": 1, \"107\": 6, \"18\": 1, \"40\": 3, \"124\": 2, \"98\": 1, \"14\": 1, \"117\": 2, \"69\": 2, \"33\": 1}, \"14\": {\"5\": 6, \"14\": 79, \"94\": 1, \"44\": 4, \"99\": 1, \"3\": 1, \"84\": 7, \"16\": 4, \"69\": 1, \"114\": 1, \"33\": 2, \"106\": 1, \"78\": 1, \"105\": 1, \"26\": 2}, \"9\": {\"9\": 17, \"77\": 1, \"53\": 1, \"51\": 3, \"58\": 1, \"98\": 2, \"112\": 1, \"101\": 1, \"25\": 1}, \"5\": {\"14\": 6, \"5\": 84, \"105\": 9, \"36\": 1, \"128\": 1, \"60\": 1, \"44\": 1, \"107\": 1, \"12\": 2, \"114\": 18, \"40\": 4, \"70\": 1, \"1\": 3, \"88\": 1, \"89\": 1, \"117\": 1, \"33\": 1}, \"22\": {\"22\": 8, \"80\": 2, \"73\": 1, \"124\": 2, \"28\": 2, \"42\": 1}, \"2\": {\"45\": 5, \"2\": 12, \"28\": 1, \"117\": 2, \"52\": 2, \"56\": 1, \"19\": 1, \"67\": 2, \"57\": 2}, \"77\": {\"77\": 11, \"89\": 1}, \"59\": {\"22\": 1, \"59\": 8, \"109\": 1, \"88\": 1, \"111\": 1}, \"127\": {\"127\": 88, \"0\": 1, \"90\": 1, \"106\": 1, \"88\": 1, \"3\": 2, \"105\": 2, \"80\": 1, \"10\": 1, \"1\": 3, \"71\": 1}, \"61\": {\"45\": 2, \"2\": 2, \"31\": 1, \"34\": 1, \"61\": 5, \"66\": 1, \"49\": 1, \"92\": 1, \"74\": 1, \"71\": 1}, \"17\": {\"17\": 12, \"57\": 2, \"104\": 1, \"116\": 1, \"4\": 1, \"64\": 1, \"102\": 1, \"79\": 1}, \"45\": {\"2\": 1, \"45\": 11, \"120\": 3, \"65\": 1}, \"19\": {\"90\": 2, \"19\": 18, \"100\": 1, \"54\": 1, \"121\": 1, \"92\": 1, \"56\": 1, \"46\": 1, \"89\": 1, \"107\": 1}, \"52\": {\"112\": 3, \"42\": 2, \"20\": 1, \"52\": 8, \"15\": 1, \"70\": 1, \"34\": 1, \"98\": 1, \"103\": 1, \"53\": 1}, \"123\": {\"29\": 1, \"123\": 11, \"102\": 1, \"45\": 1, \"7\": 1, \"111\": 1}, \"20\": {\"20\": 11, \"5\": 2, \"57\": 1, \"14\": 1, \"105\": 1}, \"112\": {\"112\": 6, \"29\": 1, \"6\": 1, \"28\": 1, \"1\": 1, \"47\": 1, \"56\": 1, \"9\": 1, \"85\": 2, \"2\": 1}, \"37\": {\"37\": 12, \"48\": 3, \"91\": 1}, \"29\": {\"29\": 28, \"47\": 1, \"6\": 1, \"112\": 1, \"103\": 1}, \"128\": {\"100\": 2, \"128\": 13, \"83\": 1, \"38\": 1, \"89\": 3, \"114\": 1, \"34\": 1, \"112\": 1, \"40\": 1}, \"100\": {\"100\": 10, \"128\": 2, \"95\": 1, \"51\": 1, \"112\": 1, \"34\": 1, \"98\": 2, \"49\": 1, \"52\": 1}, \"67\": {\"67\": 12, \"117\": 1, \"123\": 1, \"45\": 2}, \"12\": {\"12\": 77, \"0\": 2, \"106\": 7, \"15\": 2, \"71\": 2, \"111\": 1, \"14\": 1, \"8\": 1, \"127\": 3, \"7\": 2, \"108\": 1, \"126\": 1}, \"101\": {\"101\": 87, \"15\": 7, \"94\": 1, \"106\": 7, \"30\": 2, \"7\": 10, \"8\": 3, \"124\": 1, \"0\": 5, \"127\": 1, \"87\": 1, \"93\": 1, \"12\": 1, \"24\": 1}, \"76\": {\"5\": 1, \"76\": 7, \"96\": 1, \"92\": 1, \"81\": 1, \"49\": 1, \"82\": 1, \"15\": 1, \"66\": 2}, \"70\": {\"70\": 65, \"36\": 3, \"27\": 7, \"39\": 1, \"78\": 2, \"24\": 14, \"108\": 6, \"10\": 19, \"88\": 5, \"109\": 2}, \"31\": {\"39\": 1, \"57\": 1, \"31\": 12, \"45\": 1, \"121\": 1}, \"86\": {\"86\": 19, \"91\": 1, \"17\": 2, \"85\": 1, \"52\": 1, \"129\": 1, \"77\": 1, \"4\": 1, \"124\": 1}, \"88\": {\"39\": 5, \"88\": 101, \"21\": 1, \"78\": 7, \"10\": 5, \"108\": 5, \"70\": 6, \"97\": 1, \"24\": 1}, \"3\": {\"3\": 73, \"51\": 1, \"71\": 20, \"34\": 1, \"95\": 1, \"106\": 1, \"70\": 2, \"14\": 7, \"105\": 3, \"7\": 2, \"1\": 4, \"127\": 2, \"5\": 2, \"44\": 2, \"10\": 1, \"72\": 1, \"113\": 1, \"114\": 2}, \"117\": {\"45\": 3, \"102\": 5, \"117\": 97, \"66\": 1, \"82\": 1, \"10\": 1, \"90\": 4, \"111\": 1, \"70\": 1, \"124\": 3, \"126\": 1, \"107\": 1, \"6\": 1}, \"30\": {\"30\": 60, \"8\": 1, \"36\": 5, \"0\": 2, \"109\": 1, \"24\": 1, \"88\": 2, \"70\": 1, \"27\": 2, \"94\": 1}, \"96\": {\"122\": 2, \"92\": 1, \"105\": 1, \"96\": 4, \"60\": 1, \"43\": 1, \"113\": 1, \"16\": 1, \"11\": 1, \"101\": 1, \"62\": 2, \"7\": 2, \"71\": 1, \"44\": 1}, \"27\": {\"30\": 6, \"27\": 59, \"43\": 2, \"36\": 10, \"88\": 2, \"10\": 2, \"78\": 1, \"87\": 3, \"24\": 2, \"0\": 3, \"109\": 1, \"70\": 1, \"21\": 1, \"94\": 2, \"108\": 2, \"39\": 1, \"15\": 2}, \"122\": {\"122\": 35, \"43\": 1, \"113\": 11, \"118\": 9, \"36\": 3, \"27\": 2, \"93\": 4, \"24\": 2, \"87\": 2, \"39\": 1, \"94\": 2, \"11\": 3, \"110\": 3, \"8\": 1, \"62\": 2, \"97\": 1, \"30\": 1, \"0\": 1}, \"120\": {\"120\": 12, \"45\": 1, \"42\": 2, \"21\": 1, \"31\": 1, \"41\": 1, \"2\": 1, \"67\": 1}, \"44\": {\"71\": 2, \"92\": 1, \"44\": 40, \"20\": 1, \"121\": 2, \"5\": 3, \"14\": 4, \"99\": 2, \"66\": 1, \"26\": 1, \"73\": 1, \"33\": 1, \"28\": 1, \"72\": 2, \"1\": 1, \"84\": 1}, \"79\": {\"79\": 10, \"89\": 1, \"86\": 1, \"17\": 2, \"19\": 1, \"39\": 1}, \"105\": {\"105\": 69, \"1\": 2, \"40\": 2, \"5\": 7, \"39\": 3, \"94\": 1, \"12\": 1, \"114\": 2, \"88\": 2, \"71\": 4, \"34\": 1, \"44\": 3, \"72\": 1, \"27\": 1, \"124\": 1}, \"95\": {\"95\": 21, \"3\": 1, \"106\": 1, \"114\": 4, \"1\": 1, \"21\": 1, \"51\": 1, \"83\": 1, \"27\": 1}, \"109\": {\"109\": 68, \"70\": 2, \"21\": 1, \"126\": 21, \"113\": 1, \"108\": 6, \"90\": 1, \"88\": 1, \"43\": 7, \"10\": 2, \"78\": 1, \"87\": 2, \"117\": 1, \"122\": 2}, \"16\": {\"118\": 2, \"16\": 80, \"84\": 8, \"39\": 1, \"36\": 1, \"26\": 8, \"88\": 1, \"107\": 1, \"14\": 6, \"70\": 2, \"0\": 1, \"12\": 1, \"44\": 1, \"62\": 1, \"18\": 1, \"108\": 1, \"11\": 1, \"8\": 1}, \"36\": {\"36\": 80, \"88\": 1, \"27\": 6, \"30\": 3, \"94\": 1, \"108\": 1, \"7\": 1, \"0\": 1, \"21\": 1, \"8\": 1, \"10\": 2}, \"125\": {\"125\": 133, \"14\": 1, \"111\": 2}, \"97\": {\"36\": 2, \"97\": 13, \"10\": 2, \"24\": 1, \"124\": 2}, \"91\": {\"91\": 15, \"56\": 2, \"41\": 1, \"42\": 2, \"38\": 1, \"29\": 2, \"47\": 1}, \"28\": {\"28\": 10, \"115\": 1, \"82\": 2, \"119\": 1, \"120\": 2, \"83\": 2, \"64\": 1, \"66\": 1}, \"81\": {\"18\": 4, \"81\": 30, \"38\": 1, \"74\": 1}, \"126\": {\"70\": 1, \"62\": 1, \"126\": 86, \"88\": 2, \"109\": 15, \"118\": 2, \"113\": 3, \"78\": 1, \"39\": 4, \"43\": 2, \"108\": 2, \"10\": 2, \"110\": 1}, \"4\": {\"4\": 93, \"126\": 1, \"39\": 1, \"88\": 2, \"24\": 1, \"124\": 2, \"108\": 1, \"125\": 2, \"102\": 1}, \"10\": {\"10\": 96, \"97\": 1, \"78\": 1, \"88\": 4, \"70\": 12, \"24\": 8, \"108\": 1, \"39\": 1}, \"63\": {\"63\": 11, \"117\": 4, \"37\": 1}, \"43\": {\"43\": 80, \"97\": 1, \"122\": 4, \"118\": 3, \"126\": 3, \"0\": 1, \"36\": 1, \"109\": 10, \"87\": 4, \"108\": 2, \"110\": 4, \"88\": 1, \"70\": 1, \"39\": 1, \"27\": 1, \"93\": 1}, \"116\": {\"116\": 17, \"48\": 2, \"129\": 1, \"121\": 1, \"117\": 1, \"90\": 1, \"65\": 1, \"45\": 1, \"124\": 1, \"92\": 1, \"19\": 1}, \"1\": {\"1\": 57, \"105\": 3, \"49\": 2, \"15\": 1, \"95\": 3, \"90\": 1, \"124\": 1, \"3\": 5, \"111\": 1, \"114\": 7, \"71\": 6, \"5\": 9, \"36\": 1, \"40\": 4, \"127\": 2, \"44\": 1, \"108\": 1, \"70\": 1, \"8\": 1, \"88\": 1}, \"94\": {\"15\": 9, \"94\": 63, \"78\": 1, \"8\": 6, \"10\": 1, \"30\": 2, \"0\": 3, \"88\": 1, \"101\": 2}, \"38\": {\"38\": 5, \"5\": 2, \"83\": 1, \"43\": 2, \"81\": 1, \"62\": 1, \"40\": 1, \"99\": 1, \"76\": 2}, \"54\": {\"54\": 9, \"9\": 3, \"51\": 1, \"12\": 1, \"75\": 1, \"86\": 1}, \"74\": {\"74\": 13, \"50\": 1, \"33\": 2}, \"25\": {\"75\": 1, \"25\": 11, \"9\": 2, \"98\": 2}, \"75\": {\"103\": 1, \"75\": 12, \"1\": 1, \"54\": 1, \"98\": 1}, \"119\": {\"119\": 11, \"50\": 2, \"124\": 1, \"34\": 1, \"128\": 1}, \"46\": {\"46\": 11, \"119\": 1, \"128\": 2, \"33\": 1, \"5\": 1, \"41\": 1, \"129\": 2, \"111\": 1}, \"23\": {\"21\": 1, \"54\": 1, \"23\": 3, \"70\": 1, \"0\": 1, \"39\": 1, \"7\": 3, \"105\": 2, \"109\": 1, \"10\": 1, \"111\": 1}, \"99\": {\"99\": 33, \"84\": 2, \"72\": 1, \"44\": 2, \"40\": 2}, \"33\": {\"33\": 98, \"101\": 1, \"40\": 2, \"16\": 1, \"107\": 12, \"69\": 2, \"90\": 1, \"88\": 1}, \"47\": {\"58\": 1, \"47\": 8, \"100\": 1, \"91\": 2}, \"115\": {\"115\": 13, \"124\": 1, \"102\": 1, \"37\": 1}, \"6\": {\"6\": 17, \"91\": 2, \"112\": 1, \"58\": 2, \"125\": 1, \"39\": 1}, \"65\": {\"65\": 11, \"13\": 1}, \"66\": {\"66\": 9, \"90\": 2, \"46\": 1, \"38\": 1, \"89\": 1, \"28\": 1, \"25\": 1}, \"78\": {\"78\": 27, \"30\": 2, \"24\": 1, \"88\": 5, \"21\": 1}, \"98\": {\"98\": 108, \"9\": 3, \"49\": 1, \"58\": 1, \"7\": 1, \"1\": 2}, \"93\": {\"60\": 1, \"93\": 58, \"23\": 1, \"15\": 1, \"11\": 15, \"110\": 10, \"101\": 4, \"113\": 2, \"62\": 1, \"122\": 2, \"94\": 1, \"0\": 2, \"7\": 4, \"111\": 1, \"8\": 3, \"43\": 2, \"24\": 1, \"70\": 1, \"118\": 3, \"71\": 1, \"87\": 1, \"36\": 1}, \"48\": {\"48\": 11, \"102\": 2, \"117\": 1, \"91\": 1, \"63\": 1}, \"124\": {\"124\": 85, \"41\": 1, \"4\": 4, \"111\": 8, \"90\": 3, \"71\": 1, \"98\": 3, \"117\": 1, \"120\": 1, \"17\": 1, \"29\": 1, \"1\": 1, \"86\": 1, \"102\": 1, \"18\": 1, \"114\": 1}}, \"C_4\": {\"42\": {\"33\": 3, \"42\": 20, \"26\": 1, \"41\": 2, \"32\": 1, \"17\": 2, \"19\": 1, \"36\": 1, \"35\": 1}, \"0\": {\"46\": 7, \"0\": 63, \"52\": 3, \"22\": 3, \"56\": 2, \"47\": 2}, \"1\": {\"1\": 33, \"57\": 4, \"56\": 3}, \"39\": {\"39\": 15, \"36\": 3, \"14\": 1, \"49\": 1}, \"28\": {\"34\": 2, \"28\": 13, \"31\": 2, \"41\": 1, \"26\": 1, \"11\": 1, \"23\": 2, \"15\": 2, \"18\": 5, \"17\": 1, \"32\": 1, \"42\": 1}, \"53\": {\"53\": 117, \"23\": 3, \"18\": 1, \"16\": 3}, \"19\": {\"33\": 3, \"19\": 115, \"35\": 1, \"57\": 1, \"17\": 2, \"26\": 1, \"36\": 1, \"16\": 1, \"15\": 1, \"29\": 8, \"56\": 3, \"55\": 5, \"23\": 2}, \"34\": {\"34\": 19, \"14\": 1, \"36\": 2, \"2\": 1, \"26\": 1}, \"33\": {\"19\": 1, \"33\": 29, \"17\": 2, \"55\": 1, \"35\": 2, \"36\": 1}, \"32\": {\"32\": 17, \"55\": 4, \"41\": 1, \"39\": 1, \"14\": 1}, \"10\": {\"10\": 134, \"11\": 2}, \"46\": {\"5\": 9, \"46\": 48, \"50\": 9, \"30\": 1, \"57\": 1, \"47\": 9, \"52\": 5, \"22\": 11, \"3\": 11, \"0\": 6, \"6\": 8, \"20\": 1, \"4\": 1, \"45\": 1, \"44\": 3, \"48\": 1, \"56\": 8, \"40\": 1}, \"20\": {\"20\": 91, \"8\": 9, \"12\": 3, \"27\": 1, \"52\": 2, \"21\": 9, \"50\": 2, \"48\": 2, \"45\": 1, \"47\": 1, \"9\": 1}, \"5\": {\"5\": 61, \"3\": 14, \"6\": 12, \"44\": 6, \"46\": 5, \"1\": 1, \"45\": 4, \"22\": 3, \"0\": 1, \"50\": 1}, \"40\": {\"20\": 2, \"40\": 61, \"1\": 3, \"48\": 9, \"9\": 2, \"47\": 2, \"57\": 8, \"56\": 12, \"4\": 16, \"29\": 6, \"44\": 1, \"22\": 2}, \"51\": {\"51\": 138, \"36\": 2, \"8\": 1, \"37\": 1, \"39\": 1, \"23\": 1}, \"37\": {\"37\": 22, \"43\": 2}, \"17\": {\"9\": 1, \"36\": 2, \"17\": 47, \"27\": 5, \"23\": 6, \"35\": 2, \"34\": 1, \"19\": 4, \"41\": 1, \"8\": 4, \"48\": 1, \"26\": 1, \"33\": 1, \"54\": 1, \"37\": 1, \"47\": 1, \"29\": 1}, \"45\": {\"45\": 59, \"3\": 7, \"50\": 3, \"5\": 7, \"20\": 1, \"6\": 6, \"22\": 2, \"52\": 1, \"44\": 7, \"9\": 3}, \"13\": {\"13\": 140, \"47\": 1, \"40\": 1}, \"27\": {\"27\": 79, \"41\": 1, \"12\": 13, \"30\": 1, \"8\": 7, \"20\": 3, \"21\": 9, \"9\": 19, \"4\": 3, \"17\": 1, \"40\": 1, \"50\": 1, \"54\": 1, \"55\": 1, \"39\": 1, \"52\": 1, \"48\": 2}, \"24\": {\"24\": 51, \"43\": 2, \"38\": 1, \"15\": 2}, \"30\": {\"30\": 34, \"21\": 3, \"5\": 1, \"20\": 1, \"50\": 1, \"12\": 1, \"8\": 1, \"48\": 1, \"27\": 1}, \"31\": {\"31\": 20, \"11\": 2, \"16\": 2, \"24\": 1, \"15\": 2, \"35\": 1}, \"41\": {\"36\": 4, \"41\": 25, \"32\": 2, \"42\": 1, \"38\": 1, \"39\": 1, \"49\": 1, \"33\": 1}, \"36\": {\"36\": 89, \"39\": 1, \"51\": 1, \"34\": 1}, \"16\": {\"16\": 61, \"15\": 6, \"34\": 1, \"31\": 2, \"11\": 8, \"54\": 6, \"25\": 5, \"18\": 3, \"37\": 1, \"24\": 1, \"23\": 1, \"10\": 1}, \"22\": {\"22\": 68, \"3\": 7, \"6\": 5, \"29\": 1, \"1\": 2, \"57\": 3, \"0\": 4, \"46\": 11, \"56\": 4, \"5\": 11, \"44\": 4, \"47\": 3, \"52\": 1, \"50\": 3, \"48\": 1}, \"44\": {\"44\": 97, \"12\": 2, \"40\": 2, \"48\": 1, \"6\": 6, \"47\": 1, \"45\": 2, \"9\": 1, \"5\": 5, \"0\": 1, \"52\": 1, \"4\": 2, \"46\": 2, \"50\": 1, \"56\": 2, \"3\": 1, \"57\": 1, \"20\": 1, \"29\": 1, \"22\": 2}, \"9\": {\"45\": 4, \"9\": 69, \"8\": 2, \"47\": 1, \"30\": 1, \"6\": 3, \"4\": 22, \"48\": 9, \"27\": 9, \"50\": 6, \"36\": 1, \"51\": 1, \"3\": 1, \"44\": 5, \"57\": 2, \"40\": 1, \"20\": 3}, \"57\": {\"47\": 3, \"57\": 59, \"1\": 7, \"40\": 7, \"22\": 1, \"46\": 1, \"48\": 3, \"4\": 3, \"56\": 5, \"29\": 6, \"5\": 3, \"44\": 2}, \"8\": {\"8\": 102, \"20\": 16, \"21\": 9, \"9\": 3, \"12\": 2, \"27\": 5, \"48\": 1}, \"23\": {\"23\": 65, \"28\": 2, \"54\": 14, \"17\": 2, \"19\": 1, \"41\": 1, \"42\": 1, \"16\": 6, \"51\": 8, \"36\": 11, \"11\": 3, \"43\": 2, \"20\": 1, \"55\": 3, \"8\": 2, \"27\": 1, \"15\": 5, \"53\": 3, \"13\": 1}, \"47\": {\"47\": 58, \"0\": 5, \"3\": 4, \"56\": 7, \"46\": 12, \"13\": 1, \"22\": 5, \"44\": 4, \"40\": 3, \"29\": 4, \"57\": 7, \"48\": 3, \"50\": 1, \"27\": 1, \"1\": 3, \"52\": 2}, \"43\": {\"43\": 137, \"32\": 1}, \"49\": {\"49\": 8, \"36\": 1, \"14\": 3, \"38\": 1, \"35\": 3, \"55\": 2, \"39\": 2}, \"3\": {\"3\": 80, \"6\": 8, \"5\": 5, \"50\": 10, \"46\": 7, \"22\": 2, \"52\": 4, \"45\": 6, \"9\": 1, \"44\": 1}, \"12\": {\"12\": 73, \"21\": 13, \"8\": 1, \"45\": 2, \"20\": 3}, \"38\": {\"38\": 32, \"14\": 2, \"2\": 5, \"43\": 1}, \"7\": {\"24\": 1, \"49\": 1, \"7\": 13, \"34\": 1, \"55\": 2, \"35\": 3, \"43\": 2, \"32\": 1}, \"14\": {\"14\": 7, \"57\": 2, \"36\": 1, \"29\": 3, \"13\": 1, \"35\": 1, \"1\": 1}, \"15\": {\"15\": 105, \"11\": 18, \"24\": 4, \"23\": 4, \"16\": 2, \"18\": 2, \"10\": 2, \"53\": 1, \"25\": 1, \"55\": 1, \"37\": 2, \"31\": 2, \"54\": 2}, \"25\": {\"25\": 115, \"16\": 3, \"18\": 10}, \"26\": {\"34\": 2, \"49\": 1, \"26\": 15, \"35\": 3, \"31\": 1, \"42\": 1, \"16\": 1}, \"21\": {\"12\": 15, \"21\": 105, \"8\": 4, \"30\": 1, \"27\": 2, \"50\": 1, \"20\": 2, \"52\": 1, \"45\": 1}, \"48\": {\"48\": 95, \"8\": 1, \"40\": 17, \"12\": 1, \"3\": 5, \"36\": 1, \"57\": 4, \"47\": 3, \"4\": 4, \"56\": 5, \"13\": 1, \"51\": 1, \"5\": 2, \"9\": 3, \"27\": 1}, \"56\": {\"40\": 10, \"1\": 7, \"56\": 82, \"0\": 6, \"3\": 1, \"57\": 6, \"22\": 1, \"46\": 6, \"44\": 3, \"47\": 5, \"52\": 1, \"13\": 1, \"48\": 3, \"6\": 1, \"4\": 1}, \"11\": {\"11\": 53, \"15\": 16, \"10\": 8, \"16\": 11, \"25\": 3, \"31\": 5, \"24\": 5, \"54\": 3}, \"2\": {\"2\": 29, \"43\": 3, \"13\": 3, \"38\": 1}, \"6\": {\"3\": 7, \"6\": 83, \"5\": 11, \"22\": 3, \"45\": 4, \"50\": 4}, \"55\": {\"13\": 7, \"55\": 83, \"35\": 4, \"32\": 2, \"41\": 1, \"34\": 1, \"24\": 4, \"49\": 1, \"38\": 3, \"33\": 1, \"54\": 4, \"43\": 10, \"36\": 2, \"23\": 7, \"15\": 7, \"37\": 1, \"19\": 2}, \"54\": {\"54\": 100, \"16\": 2, \"42\": 1, \"23\": 3, \"11\": 1, \"51\": 1}, \"29\": {\"46\": 2, \"29\": 59, \"51\": 2, \"1\": 2, \"48\": 10, \"8\": 2, \"9\": 5, \"57\": 11, \"47\": 3, \"4\": 4, \"44\": 3, \"56\": 4, \"36\": 2, \"40\": 8, \"13\": 3, \"5\": 2, \"45\": 1, \"22\": 1}, \"50\": {\"50\": 80, \"45\": 9, \"52\": 3, \"6\": 3, \"3\": 16, \"44\": 3, \"46\": 2, \"30\": 1, \"5\": 2, \"22\": 1, \"4\": 2}, \"52\": {\"52\": 97, \"3\": 3, \"20\": 3, \"46\": 5, \"6\": 1, \"48\": 1, \"0\": 1, \"12\": 2, \"22\": 2, \"50\": 1}, \"35\": {\"33\": 2, \"35\": 31, \"26\": 1, \"2\": 2, \"55\": 1, \"4\": 1, \"7\": 1, \"29\": 1}, \"4\": {\"47\": 2, \"8\": 3, \"22\": 2, \"4\": 48, \"44\": 16, \"9\": 14, \"6\": 3, \"48\": 5, \"29\": 5, \"3\": 1, \"5\": 7, \"45\": 2, \"20\": 1, \"13\": 1, \"46\": 2, \"12\": 1, \"57\": 3, \"56\": 1, \"27\": 1, \"40\": 1, \"51\": 1}, \"18\": {\"18\": 86, \"53\": 5, \"25\": 9, \"23\": 1, \"54\": 2, \"16\": 4, \"31\": 1}}, \"C_5\": {\"43\": {\"43\": 147, \"54\": 1, \"13\": 1, \"36\": 2, \"15\": 1}, \"35\": {\"35\": 35, \"34\": 1}, \"54\": {\"54\": 105, \"23\": 3, \"16\": 1, \"55\": 1, \"11\": 1, \"42\": 1}, \"22\": {\"22\": 18, \"5\": 1, \"0\": 3, \"40\": 2, \"3\": 1, \"44\": 1, \"56\": 1, \"57\": 1}, \"16\": {\"54\": 12, \"16\": 88, \"42\": 1, \"11\": 16, \"18\": 1, \"15\": 10, \"25\": 14, \"53\": 2, \"23\": 2}, \"5\": {\"5\": 86, \"3\": 1, \"40\": 4, \"4\": 13, \"50\": 3, \"6\": 1, \"1\": 1, \"9\": 2, \"44\": 12, \"21\": 1, \"0\": 1, \"22\": 2, \"57\": 1}, \"28\": {\"28\": 26, \"31\": 5, \"11\": 1}, \"14\": {\"14\": 20, \"48\": 2, \"47\": 3, \"32\": 2, \"56\": 5, \"43\": 1, \"29\": 4, \"57\": 1, \"36\": 1, \"2\": 1, \"39\": 2, \"34\": 1, \"55\": 1}, \"51\": {\"51\": 105, \"7\": 3, \"38\": 1, \"8\": 3, \"42\": 1, \"53\": 2, \"55\": 3, \"27\": 2, \"37\": 2, \"20\": 2, \"23\": 2, \"17\": 2}, \"19\": {\"19\": 120, \"34\": 5, \"33\": 2, \"23\": 1, \"40\": 1, \"29\": 3, \"55\": 2, \"27\": 1, \"17\": 1, \"47\": 1, \"11\": 1, \"1\": 1, \"48\": 1}, \"31\": {\"31\": 36}, \"10\": {\"10\": 65, \"15\": 2, \"11\": 1}, \"21\": {\"21\": 128, \"12\": 4, \"9\": 1, \"52\": 1, \"30\": 1, \"20\": 1}, \"3\": {\"3\": 54, \"57\": 1, \"52\": 3, \"46\": 5, \"0\": 10, \"44\": 4, \"50\": 5, \"5\": 2, \"45\": 2, \"56\": 5, \"6\": 4, \"47\": 3, \"4\": 1, \"48\": 1}, \"57\": {\"3\": 7, \"57\": 68, \"5\": 5, \"22\": 4, \"44\": 5, \"14\": 1, \"9\": 4, \"27\": 3, \"1\": 13, \"17\": 1, \"50\": 5, \"48\": 4, \"21\": 1, \"6\": 2, \"47\": 2, \"29\": 2, \"40\": 2, \"4\": 1, \"52\": 1, \"46\": 1}, \"9\": {\"5\": 9, \"21\": 2, \"4\": 6, \"1\": 13, \"9\": 57, \"30\": 6, \"45\": 5, \"6\": 6, \"57\": 3, \"8\": 3, \"44\": 15, \"3\": 1, \"50\": 9, \"20\": 3, \"48\": 5, \"22\": 1, \"27\": 2}, \"8\": {\"8\": 93, \"12\": 3, \"41\": 1, \"20\": 18, \"38\": 1, \"51\": 5, \"27\": 1, \"21\": 6, \"55\": 1, \"30\": 2, \"48\": 1}, \"46\": {\"46\": 78, \"3\": 10, \"1\": 4, \"57\": 2, \"52\": 15, \"40\": 2, \"0\": 6, \"14\": 1, \"6\": 2, \"5\": 2, \"44\": 4, \"47\": 2, \"48\": 1, \"50\": 4, \"9\": 2, \"56\": 2, \"4\": 3}, \"23\": {\"23\": 62, \"37\": 2, \"7\": 2, \"53\": 7, \"54\": 11, \"38\": 4, \"42\": 5, \"17\": 3, \"24\": 1, \"55\": 9, \"20\": 1, \"16\": 4, \"51\": 5, \"15\": 2, \"13\": 2, \"27\": 1, \"43\": 2, \"8\": 1}, \"37\": {\"37\": 24}, \"34\": {\"34\": 31, \"55\": 1, \"47\": 1, \"23\": 1, \"29\": 2}, \"4\": {\"46\": 4, \"4\": 31, \"56\": 2, \"44\": 20, \"21\": 2, \"20\": 3, \"5\": 12, \"48\": 1, \"45\": 2, \"52\": 1, \"1\": 3, \"3\": 3, \"57\": 3, \"9\": 5, \"27\": 1, \"50\": 4, \"0\": 1, \"40\": 1, \"47\": 1}, \"6\": {\"6\": 70, \"5\": 1, \"45\": 19, \"44\": 5, \"9\": 4, \"50\": 15, \"57\": 2, \"3\": 1, \"1\": 6, \"52\": 1, \"40\": 1, \"30\": 1, \"12\": 1, \"46\": 1}, \"48\": {\"34\": 1, \"46\": 5, \"48\": 61, \"32\": 2, \"7\": 1, \"27\": 13, \"4\": 2, \"30\": 3, \"57\": 6, \"1\": 21, \"43\": 1, \"9\": 6, \"17\": 1, \"13\": 1, \"55\": 2, \"14\": 1, \"41\": 1, \"36\": 2, \"47\": 2, \"5\": 1, \"6\": 1, \"21\": 2}, \"44\": {\"5\": 8, \"44\": 101, \"22\": 3, \"46\": 3, \"40\": 1, \"0\": 1, \"4\": 9, \"6\": 1, \"45\": 5, \"57\": 2, \"56\": 1, \"50\": 2, \"9\": 1}, \"40\": {\"40\": 75, \"4\": 4, \"44\": 7, \"3\": 2, \"0\": 2, \"9\": 4, \"57\": 4, \"47\": 5, \"29\": 3, \"21\": 1, \"56\": 6, \"5\": 6, \"52\": 2, \"22\": 1, \"48\": 2}, \"12\": {\"12\": 68, \"21\": 2, \"57\": 1, \"1\": 3, \"3\": 1, \"52\": 1, \"50\": 3, \"30\": 6, \"20\": 3, \"47\": 1, \"45\": 2, \"6\": 2, \"48\": 1, \"5\": 1, \"8\": 1}, \"30\": {\"12\": 2, \"30\": 85, \"45\": 3, \"9\": 3, \"44\": 1, \"48\": 2, \"6\": 10, \"21\": 1, \"1\": 5, \"5\": 3, \"57\": 2, \"4\": 2, \"8\": 1, \"50\": 3, \"27\": 4, \"20\": 1}, \"39\": {\"39\": 13, \"37\": 1, \"2\": 1, \"36\": 3, \"34\": 1, \"55\": 1}, \"45\": {\"45\": 87, \"9\": 3, \"1\": 1, \"50\": 8, \"6\": 17, \"44\": 3, \"46\": 1, \"4\": 1, \"5\": 3}, \"36\": {\"36\": 82, \"2\": 3, \"13\": 1, \"43\": 3, \"39\": 1, \"14\": 1, \"35\": 1}, \"27\": {\"32\": 1, \"48\": 19, \"27\": 70, \"30\": 4, \"9\": 9, \"4\": 1, \"33\": 1, \"57\": 3, \"1\": 16, \"8\": 3, \"14\": 2, \"17\": 2, \"55\": 1, \"43\": 3, \"5\": 1, \"20\": 3, \"50\": 1}, \"32\": {\"48\": 4, \"32\": 20, \"27\": 3, \"47\": 3, \"34\": 1, \"36\": 1}, \"52\": {\"52\": 111, \"46\": 12, \"3\": 3, \"0\": 2, \"4\": 1, \"21\": 1}, \"0\": {\"0\": 93, \"3\": 7, \"56\": 8, \"46\": 7, \"40\": 2, \"4\": 1, \"22\": 3, \"57\": 1, \"47\": 1, \"44\": 1}, \"26\": {\"26\": 19, \"42\": 1, \"23\": 1, \"25\": 2, \"53\": 1}, \"1\": {\"9\": 11, \"1\": 73, \"6\": 8, \"27\": 3, \"4\": 6, \"48\": 10, \"3\": 2, \"30\": 3, \"5\": 2, \"57\": 10, \"47\": 4, \"52\": 4, \"21\": 1, \"8\": 1, \"45\": 4, \"44\": 1, \"40\": 1, \"20\": 1, \"50\": 2, \"43\": 1}, \"53\": {\"53\": 130, \"16\": 3, \"54\": 5, \"26\": 1, \"42\": 1, \"23\": 3, \"51\": 2, \"55\": 1}, \"25\": {\"18\": 5, \"25\": 127, \"26\": 1, \"53\": 2, \"16\": 8, \"54\": 1}, \"24\": {\"24\": 74, \"49\": 2, \"15\": 2, \"43\": 1, \"36\": 1}, \"7\": {\"7\": 32}, \"18\": {\"25\": 8, \"18\": 44, \"16\": 7, \"11\": 2, \"26\": 1, \"15\": 1, \"54\": 1}, \"20\": {\"20\": 108, \"12\": 10, \"52\": 2, \"8\": 9, \"34\": 1, \"21\": 7, \"17\": 1, \"48\": 2, \"1\": 2, \"27\": 1, \"9\": 1}, \"33\": {\"33\": 26, \"36\": 1, \"55\": 2, \"34\": 1, \"17\": 2}, \"55\": {\"55\": 91, \"28\": 1, \"36\": 8, \"54\": 8, \"14\": 1, \"53\": 2, \"19\": 2, \"23\": 8, \"43\": 6, \"27\": 1, \"2\": 3, \"37\": 1, \"39\": 1, \"49\": 2, \"34\": 1, \"29\": 1, \"17\": 1, \"13\": 2}, \"41\": {\"41\": 18, \"23\": 1, \"27\": 1, \"14\": 5, \"34\": 1, \"57\": 1, \"32\": 1}, \"42\": {\"42\": 26, \"38\": 3, \"53\": 1, \"23\": 3, \"17\": 3, \"16\": 1, \"43\": 1, \"41\": 1, \"55\": 1}, \"49\": {\"49\": 35, \"35\": 1}, \"13\": {\"13\": 143, \"56\": 1, \"47\": 1, \"29\": 3}, \"38\": {\"38\": 26, \"8\": 3, \"23\": 1, \"42\": 1, \"47\": 1}, \"2\": {\"2\": 26, \"36\": 1, \"39\": 1}, \"47\": {\"3\": 4, \"47\": 58, \"57\": 6, \"56\": 3, \"29\": 3, \"46\": 8, \"0\": 3, \"21\": 1, \"4\": 3, \"40\": 3, \"48\": 1, \"52\": 4, \"32\": 1, \"1\": 1, \"20\": 1}, \"17\": {\"17\": 80, \"41\": 1, \"27\": 5, \"54\": 6, \"8\": 4, \"38\": 1, \"23\": 1, \"42\": 2, \"14\": 2, \"48\": 3, \"53\": 2, \"20\": 5, \"32\": 1, \"55\": 1, \"1\": 1, \"21\": 1}, \"11\": {\"11\": 110, \"16\": 15, \"10\": 5, \"15\": 19, \"25\": 1, \"54\": 1, \"24\": 3}, \"29\": {\"34\": 3, \"41\": 1, \"29\": 90, \"2\": 1, \"56\": 10, \"48\": 2, \"13\": 3, \"57\": 3, \"40\": 12, \"47\": 1, \"27\": 1, \"9\": 1, \"5\": 1, \"0\": 3}, \"50\": {\"50\": 68, \"5\": 9, \"6\": 17, \"44\": 15, \"4\": 2, \"45\": 15, \"3\": 1, \"9\": 3, \"57\": 2, \"46\": 4, \"30\": 2}, \"56\": {\"56\": 110, \"0\": 15, \"44\": 5, \"29\": 4, \"57\": 5, \"9\": 1, \"46\": 2, \"40\": 1, \"47\": 4, \"52\": 1}, \"15\": {\"15\": 114, \"11\": 14, \"16\": 4, \"24\": 6, \"23\": 1, \"54\": 1, \"35\": 1, \"10\": 1}}, \"C_2\": {\"49\": {\"49\": 21, \"23\": 2, \"36\": 1}, \"13\": {\"13\": 116}, \"37\": {\"37\": 34, \"15\": 1, \"51\": 1}, \"41\": {\"41\": 18, \"22\": 1, \"47\": 1}, \"15\": {\"15\": 98, \"37\": 1, \"24\": 6, \"16\": 5, \"34\": 2, \"25\": 2, \"11\": 10, \"54\": 4, \"43\": 3, \"23\": 4, \"28\": 4, \"49\": 1, \"7\": 1, \"26\": 1}, \"56\": {\"56\": 99, \"22\": 16, \"48\": 2, \"29\": 2, \"47\": 10, \"57\": 1, \"11\": 1, \"1\": 5, \"0\": 4, \"46\": 2}, \"14\": {\"38\": 4, \"14\": 10, \"22\": 1, \"55\": 2, \"13\": 3, \"47\": 2, \"56\": 1, \"2\": 1}, \"3\": {\"6\": 10, \"12\": 3, \"3\": 39, \"44\": 6, \"45\": 5, \"0\": 1, \"46\": 6, \"5\": 6, \"50\": 2, \"30\": 6, \"52\": 1, \"21\": 5, \"48\": 1, \"57\": 1}, \"38\": {\"38\": 20}, \"43\": {\"43\": 136, \"39\": 1, \"13\": 1}, \"33\": {\"33\": 22, \"36\": 1, \"48\": 1, \"40\": 2, \"22\": 1, \"23\": 1}, \"47\": {\"47\": 64, \"56\": 12, \"48\": 9, \"14\": 1, \"40\": 3, \"57\": 7, \"0\": 2, \"22\": 29, \"29\": 2, \"52\": 2, \"5\": 1, \"1\": 3, \"13\": 1, \"46\": 1, \"4\": 1}, \"30\": {\"30\": 85, \"12\": 11, \"6\": 16, \"50\": 7, \"5\": 2, \"2\": 1, \"3\": 2, \"45\": 9, \"20\": 2, \"8\": 2, \"44\": 1, \"21\": 3, \"32\": 1, \"52\": 2}, \"39\": {\"39\": 23, \"7\": 1, \"38\": 1, \"55\": 1, \"36\": 2}, \"12\": {\"12\": 81, \"30\": 8, \"21\": 1, \"50\": 2}, \"6\": {\"3\": 14, \"6\": 75, \"0\": 1, \"30\": 5, \"5\": 5, \"46\": 2, \"45\": 19, \"48\": 1, \"44\": 2}, \"51\": {\"51\": 124, \"8\": 1, \"23\": 5, \"36\": 1, \"55\": 1, \"48\": 1, \"15\": 1}, \"5\": {\"5\": 99, \"44\": 5, \"48\": 1, \"3\": 1, \"45\": 6, \"6\": 2, \"22\": 2, \"0\": 1, \"46\": 2, \"50\": 1}, \"34\": {\"34\": 21, \"42\": 1, \"23\": 2, \"36\": 3, \"49\": 1}, \"35\": {\"35\": 30, \"32\": 2}, \"0\": {\"0\": 21, \"5\": 9, \"22\": 3, \"4\": 1, \"48\": 1, \"46\": 2, \"47\": 4, \"6\": 1, \"3\": 2, \"45\": 1, \"1\": 3}, \"7\": {\"7\": 33, \"31\": 1, \"42\": 2}, \"24\": {\"24\": 91, \"10\": 1, \"43\": 2, \"15\": 2}, \"8\": {\"36\": 5, \"20\": 20, \"8\": 96, \"51\": 1, \"27\": 8, \"12\": 1, \"41\": 2, \"21\": 2, \"17\": 1}, \"20\": {\"8\": 32, \"36\": 1, \"41\": 2, \"20\": 81, \"21\": 1, \"27\": 6, \"51\": 1}, \"36\": {\"36\": 116}, \"42\": {\"42\": 24, \"36\": 1, \"33\": 1, \"7\": 3, \"55\": 2, \"37\": 1, \"15\": 1, \"39\": 3}, \"1\": {\"1\": 64, \"0\": 1, \"22\": 10, \"41\": 1, \"32\": 1, \"57\": 8, \"13\": 3, \"48\": 7, \"4\": 2, \"56\": 3, \"29\": 2, \"47\": 2, \"40\": 4, \"36\": 1, \"44\": 2, \"27\": 1}, \"4\": {\"4\": 81, \"1\": 2, \"57\": 2, \"45\": 6, \"9\": 18, \"40\": 13, \"29\": 3, \"22\": 1, \"48\": 3, \"5\": 6, \"44\": 7, \"36\": 1, \"47\": 2, \"41\": 1, \"38\": 1, \"6\": 1}, \"28\": {\"28\": 28}, \"50\": {\"50\": 67, \"12\": 15, \"21\": 8, \"56\": 2, \"52\": 8, \"46\": 7, \"48\": 5, \"6\": 3, \"30\": 10, \"57\": 1, \"0\": 3, \"32\": 1, \"45\": 3, \"3\": 1, \"47\": 1, \"40\": 1}, \"45\": {\"50\": 1, \"45\": 61, \"30\": 8, \"3\": 5, \"44\": 10, \"6\": 15, \"5\": 16, \"52\": 3, \"21\": 4, \"9\": 2, \"46\": 2, \"12\": 1}, \"18\": {\"18\": 41, \"28\": 1, \"23\": 1, \"16\": 1, \"25\": 3, \"53\": 1}, \"57\": {\"57\": 53, \"32\": 2, \"22\": 6, \"1\": 13, \"5\": 5, \"48\": 14, \"29\": 3, \"9\": 6, \"4\": 4, \"47\": 4, \"40\": 9, \"44\": 1}, \"46\": {\"46\": 91, \"0\": 4, \"6\": 5, \"3\": 4, \"52\": 6, \"5\": 1, \"50\": 4, \"21\": 7, \"1\": 1, \"47\": 1, \"45\": 1, \"30\": 1, \"48\": 2}, \"23\": {\"23\": 65, \"54\": 15, \"2\": 2, \"49\": 1, \"7\": 3, \"41\": 1, \"15\": 11, \"55\": 2, \"34\": 2, \"17\": 10, \"36\": 12, \"37\": 1, \"19\": 1, \"16\": 2, \"29\": 3, \"11\": 5, \"1\": 1, \"51\": 1, \"42\": 2, \"39\": 1, \"14\": 1, \"28\": 1, \"53\": 2, \"8\": 3}, \"27\": {\"27\": 91, \"20\": 8, \"48\": 1, \"17\": 3, \"36\": 3, \"8\": 14, \"52\": 3, \"9\": 2, \"50\": 5, \"12\": 6, \"30\": 2}, \"19\": {\"19\": 102, \"23\": 3, \"17\": 1, \"31\": 1, \"37\": 1, \"35\": 4, \"29\": 6, \"33\": 1, \"55\": 3, \"16\": 4, \"54\": 3, \"15\": 3, \"42\": 1, \"43\": 1}, \"22\": {\"22\": 80, \"1\": 17, \"56\": 11, \"3\": 2, \"47\": 11, \"40\": 2, \"57\": 5, \"48\": 2, \"5\": 1, \"6\": 1, \"0\": 2, \"4\": 1, \"46\": 1}, \"17\": {\"17\": 65, \"41\": 1, \"32\": 3, \"34\": 1, \"2\": 2, \"27\": 5, \"36\": 5, \"23\": 8, \"55\": 2, \"29\": 2, \"56\": 1, \"48\": 2, \"51\": 1, \"42\": 1, \"9\": 2, \"40\": 1, \"47\": 2}, \"55\": {\"56\": 1, \"55\": 89, \"39\": 3, \"42\": 1, \"31\": 1, \"14\": 1, \"13\": 6, \"43\": 11, \"2\": 2, \"24\": 2, \"15\": 2, \"23\": 9, \"29\": 2, \"47\": 2, \"34\": 2, \"36\": 2}, \"44\": {\"44\": 72, \"3\": 1, \"9\": 1, \"5\": 10, \"4\": 2, \"6\": 4, \"22\": 1, \"46\": 2, \"40\": 1, \"57\": 1, \"1\": 1, \"45\": 4}, \"26\": {\"23\": 1, \"26\": 15, \"53\": 3, \"25\": 3, \"54\": 2}, \"31\": {\"31\": 28}, \"16\": {\"11\": 15, \"54\": 14, \"16\": 83, \"15\": 6, \"26\": 2, \"37\": 2, \"23\": 1, \"53\": 1, \"25\": 6}, \"11\": {\"11\": 92, \"16\": 12, \"28\": 1, \"10\": 5, \"24\": 3, \"15\": 14, \"54\": 1}, \"25\": {\"25\": 120, \"18\": 2, \"16\": 2, \"53\": 1, \"26\": 1}, \"54\": {\"54\": 108}, \"32\": {\"32\": 28}, \"52\": {\"30\": 2, \"52\": 96, \"46\": 13, \"21\": 1, \"50\": 2, \"1\": 2, \"6\": 2, \"5\": 1, \"48\": 2, \"12\": 1, \"29\": 1, \"44\": 1}, \"40\": {\"40\": 67, \"52\": 1, \"4\": 15, \"57\": 8, \"5\": 5, \"47\": 4, \"9\": 13, \"56\": 2, \"29\": 3, \"1\": 2, \"44\": 2, \"50\": 1, \"48\": 3, \"3\": 2, \"27\": 3, \"45\": 1}, \"2\": {\"2\": 22, \"14\": 3, \"36\": 4, \"48\": 2, \"47\": 1}, \"10\": {\"10\": 110}, \"53\": {\"53\": 130, \"54\": 4, \"16\": 1, \"15\": 1}, \"9\": {\"4\": 23, \"9\": 70, \"40\": 18, \"5\": 3, \"44\": 5, \"29\": 9, \"57\": 3, \"27\": 3, \"1\": 3, \"36\": 1, \"8\": 5, \"51\": 2, \"45\": 2, \"48\": 2, \"47\": 1}, \"21\": {\"21\": 105, \"46\": 3, \"5\": 1, \"50\": 5, \"48\": 1, \"52\": 3, \"45\": 1, \"12\": 1}, \"48\": {\"48\": 84, \"40\": 6, \"47\": 2, \"32\": 1, \"57\": 18, \"9\": 6, \"30\": 2, \"56\": 1, \"3\": 3, \"46\": 1, \"4\": 3, \"20\": 1, \"17\": 2, \"2\": 1, \"1\": 2, \"6\": 1, \"8\": 3, \"22\": 1}, \"29\": {\"29\": 71, \"32\": 1, \"47\": 3, \"4\": 7, \"40\": 5, \"22\": 4, \"56\": 5, \"9\": 8, \"55\": 1, \"5\": 2, \"57\": 8, \"1\": 7, \"51\": 1, \"36\": 3, \"48\": 1, \"13\": 1}}, \"W_2\": {\"115\": {\"115\": 11, \"17\": 1}, \"34\": {\"34\": 14, \"75\": 1, \"106\": 1, \"53\": 4, \"98\": 2, \"42\": 2, \"128\": 1, \"32\": 1, \"52\": 1, \"38\": 1, \"5\": 2, \"44\": 1, \"51\": 1}, \"97\": {\"7\": 2, \"97\": 9, \"127\": 1, \"0\": 4, \"120\": 1, \"101\": 3}, \"100\": {\"100\": 13, \"33\": 2, \"90\": 1}, \"129\": {\"129\": 26, \"103\": 1, \"32\": 1, \"54\": 2, \"5\": 2}, \"90\": {\"100\": 2, \"90\": 123, \"44\": 2, \"83\": 3, \"40\": 1, \"84\": 1, \"33\": 2, \"69\": 1, \"22\": 1, \"34\": 1, \"42\": 1, \"85\": 1, \"52\": 1, \"102\": 1, \"1\": 1}, \"125\": {\"125\": 130, \"99\": 1, \"59\": 1}, \"7\": {\"7\": 93, \"0\": 5, \"106\": 3, \"15\": 3, \"110\": 3, \"71\": 3, \"101\": 2, \"12\": 4, \"24\": 2, \"39\": 1, \"127\": 2, \"1\": 1, \"94\": 3, \"8\": 2, \"3\": 1}, \"92\": {\"100\": 1, \"90\": 1, \"117\": 1, \"104\": 1, \"13\": 2, \"74\": 1, \"92\": 5, \"121\": 2, \"63\": 3, \"101\": 1, \"97\": 1, \"89\": 2, \"96\": 2, \"11\": 1, \"98\": 1, \"81\": 1, \"64\": 2}, \"114\": {\"114\": 111, \"88\": 1, \"83\": 1, \"127\": 1, \"51\": 1, \"44\": 1}, \"80\": {\"80\": 12, \"102\": 1, \"48\": 2, \"41\": 1}, \"16\": {\"16\": 64, \"93\": 6, \"8\": 2, \"0\": 1, \"113\": 7, \"7\": 2, \"62\": 6, \"109\": 1, \"118\": 3, \"70\": 1, \"36\": 1, \"105\": 5, \"69\": 2, \"84\": 1, \"24\": 2, \"39\": 1, \"26\": 2, \"18\": 8, \"110\": 1, \"88\": 1, \"30\": 1, \"111\": 1, \"108\": 2, \"122\": 1}, \"69\": {\"69\": 97, \"26\": 6, \"24\": 1, \"18\": 4, \"84\": 2, \"108\": 1, \"21\": 1, \"88\": 1, \"33\": 3}, \"102\": {\"102\": 106, \"13\": 1, \"116\": 1, \"124\": 2, \"48\": 2, \"37\": 1, \"111\": 1}, \"33\": {\"33\": 118, \"14\": 6, \"84\": 1, \"1\": 3, \"40\": 2}, \"17\": {\"115\": 4, \"86\": 1, \"17\": 7, \"104\": 2, \"27\": 1, \"79\": 1}, \"27\": {\"27\": 35, \"10\": 4, \"36\": 8, \"21\": 1, \"78\": 2, \"11\": 6, \"70\": 1, \"109\": 1, \"24\": 2, \"30\": 3, \"88\": 2, \"39\": 1, \"126\": 1, \"108\": 1}, \"117\": {\"117\": 84, \"104\": 1, \"122\": 1, \"116\": 3, \"119\": 1, \"102\": 8, \"8\": 1, \"90\": 3, \"5\": 2, \"39\": 1, \"83\": 1}, \"14\": {\"14\": 27, \"24\": 1, \"40\": 5, \"33\": 8, \"95\": 3, \"107\": 1, \"39\": 1, \"101\": 1, \"78\": 1}, \"86\": {\"86\": 31, \"59\": 1}, \"0\": {\"0\": 96, \"21\": 1, \"10\": 1, \"94\": 1, \"30\": 2, \"8\": 2, \"15\": 6, \"97\": 2, \"12\": 1, \"7\": 3, \"39\": 1}, \"62\": {\"62\": 107, \"122\": 2, \"26\": 5, \"84\": 2, \"33\": 2, \"1\": 2, \"8\": 2, \"105\": 3, \"3\": 3, \"69\": 1, \"16\": 3, \"12\": 1, \"36\": 1, \"0\": 1, \"5\": 1, \"24\": 1, \"71\": 1}, \"39\": {\"39\": 64, \"70\": 8, \"118\": 1, \"10\": 4, \"109\": 9, \"88\": 8, \"78\": 1, \"126\": 10, \"87\": 4, \"24\": 2, \"43\": 1}, \"19\": {\"19\": 21, \"107\": 2, \"73\": 1, \"55\": 1, \"38\": 1, \"95\": 1, \"83\": 1}, \"44\": {\"62\": 2, \"44\": 79, \"53\": 2, \"72\": 1, \"23\": 1, \"105\": 1, \"12\": 1, \"71\": 2, \"1\": 2, \"98\": 2, \"83\": 1, \"84\": 1, \"114\": 1, \"127\": 1, \"3\": 1, \"40\": 1, \"33\": 1}, \"104\": {\"17\": 2, \"104\": 13, \"46\": 1, \"5\": 2, \"65\": 1, \"63\": 1}, \"3\": {\"3\": 97, \"62\": 1, \"127\": 2, \"106\": 1, \"105\": 3, \"40\": 2, \"88\": 1, \"24\": 1, \"15\": 2, \"101\": 5, \"43\": 1, \"8\": 1, \"21\": 1, \"71\": 9, \"23\": 1, \"36\": 1, \"1\": 1}, \"10\": {\"10\": 41, \"108\": 4, \"43\": 2, \"70\": 2, \"30\": 1, \"87\": 1, \"126\": 2, \"21\": 2, \"24\": 2, \"88\": 1, \"27\": 2}, \"61\": {\"61\": 10, \"76\": 1, \"36\": 1, \"70\": 1, \"74\": 1, \"64\": 1, \"62\": 1, \"107\": 1, \"39\": 2, \"90\": 1}, \"111\": {\"103\": 2, \"111\": 108, \"129\": 1, \"5\": 3}, \"68\": {\"111\": 2, \"68\": 11, \"114\": 1, \"103\": 2}, \"101\": {\"101\": 134, \"21\": 1, \"106\": 8, \"27\": 1}, \"36\": {\"36\": 90, \"15\": 3, \"108\": 3, \"30\": 11, \"88\": 1, \"27\": 4, \"8\": 4, \"109\": 4, \"70\": 2, \"43\": 2, \"122\": 3, \"23\": 1}, \"120\": {\"76\": 1, \"120\": 11, \"64\": 1, \"99\": 2, \"119\": 3, \"45\": 2}, \"103\": {\"103\": 12, \"59\": 1, \"29\": 1, \"25\": 1, \"111\": 1}, \"47\": {\"61\": 1, \"47\": 4, \"34\": 1, \"56\": 3, \"110\": 1, \"103\": 1, \"68\": 1}, \"98\": {\"98\": 114, \"34\": 2, \"51\": 1, \"60\": 1, \"114\": 2}, \"76\": {\"76\": 6, \"16\": 1, \"57\": 1, \"128\": 1, \"44\": 1, \"31\": 1, \"49\": 1, \"120\": 1, \"75\": 1, \"3\": 1, \"89\": 1}, \"88\": {\"88\": 85, \"21\": 1, \"10\": 2, \"39\": 3, \"109\": 8, \"70\": 16, \"87\": 3, \"78\": 3, \"126\": 3}, \"93\": {\"93\": 82, \"118\": 1, \"96\": 1, \"16\": 20, \"26\": 2, \"105\": 10, \"78\": 1, \"62\": 3, \"8\": 1, \"94\": 1, \"18\": 3, \"84\": 4, \"24\": 1, \"40\": 3, \"30\": 1, \"60\": 2, \"11\": 1, \"69\": 1}, \"23\": {\"23\": 9, \"36\": 1, \"11\": 4, \"118\": 1, \"72\": 3, \"0\": 2, \"18\": 1, \"30\": 1, \"43\": 2, \"69\": 2, \"70\": 1, \"16\": 1, \"94\": 4, \"7\": 1, \"84\": 1, \"15\": 2, \"101\": 1, \"62\": 4, \"8\": 1, \"126\": 1, \"12\": 1}, \"108\": {\"108\": 97, \"122\": 2, \"11\": 4, \"36\": 5, \"109\": 1, \"126\": 4, \"88\": 1, \"43\": 1, \"70\": 2, \"27\": 3, \"10\": 1, \"30\": 3}, \"51\": {\"54\": 3, \"106\": 2, \"90\": 2, \"97\": 1, \"35\": 2, \"49\": 3, \"51\": 4, \"3\": 1, \"127\": 1, \"21\": 1}, \"13\": {\"13\": 4, \"36\": 1, \"102\": 2, \"48\": 2, \"88\": 1, \"104\": 2, \"119\": 1, \"37\": 1, \"27\": 2}, \"77\": {\"77\": 10, \"42\": 1, \"51\": 1, \"91\": 1, \"112\": 1, \"41\": 1, \"66\": 1}, \"46\": {\"46\": 15, \"50\": 1}, \"96\": {\"33\": 1, \"96\": 7, \"113\": 2, \"1\": 3, \"11\": 1, \"14\": 1, \"126\": 2, \"30\": 1, \"62\": 2}, \"119\": {\"119\": 9, \"104\": 1, \"37\": 1, \"90\": 1, \"65\": 1, \"120\": 2, \"89\": 2, \"99\": 1, \"92\": 1, \"22\": 1}, \"121\": {\"119\": 1, \"104\": 1, \"50\": 1, \"121\": 22, \"63\": 2, \"123\": 1, \"16\": 1, \"49\": 1, \"57\": 1, \"116\": 1, \"65\": 1, \"120\": 2, \"89\": 1}, \"54\": {\"54\": 9, \"66\": 1, \"52\": 1, \"60\": 1, \"51\": 2, \"32\": 1, \"126\": 1, \"0\": 1, \"9\": 1, \"68\": 1, \"127\": 1}, \"82\": {\"82\": 30, \"16\": 1, \"57\": 1, \"99\": 2, \"78\": 1, \"34\": 1}, \"12\": {\"12\": 72, \"110\": 2, \"71\": 1, \"10\": 1, \"15\": 2, \"106\": 4, \"101\": 2, \"126\": 1, \"93\": 1, \"3\": 1, \"109\": 1}, \"74\": {\"74\": 11, \"32\": 1, \"105\": 1, \"107\": 1, \"95\": 2}, \"66\": {\"41\": 1, \"66\": 10, \"92\": 1, \"120\": 1, \"67\": 1, \"123\": 1, \"56\": 1, \"90\": 1, \"116\": 1, \"28\": 1, \"99\": 1}, \"28\": {\"66\": 1, \"28\": 8, \"103\": 1, \"85\": 1, \"123\": 1, \"50\": 1, \"73\": 2, \"2\": 1, \"55\": 1, \"46\": 1, \"119\": 1, \"64\": 1}, \"52\": {\"52\": 14, \"59\": 1, \"68\": 2, \"25\": 1, \"98\": 1, \"19\": 1}, \"41\": {\"41\": 12, \"54\": 1, \"17\": 2, \"77\": 1, \"4\": 1, \"103\": 1, \"114\": 1, \"116\": 1}, \"81\": {\"28\": 1, \"81\": 19, \"82\": 1, \"45\": 1, \"69\": 1, \"89\": 1}, \"48\": {\"102\": 1, \"48\": 17, \"104\": 1, \"67\": 1}, \"113\": {\"113\": 64, \"10\": 1, \"78\": 1, \"93\": 2, \"62\": 1, \"43\": 1, \"105\": 1, \"7\": 1}, \"53\": {\"53\": 12, \"34\": 2, \"32\": 1, \"9\": 1}, \"15\": {\"15\": 87, \"97\": 2, \"8\": 5, \"7\": 4, \"0\": 11, \"106\": 1, \"105\": 1, \"36\": 3, \"108\": 1, \"11\": 1, \"30\": 1, \"94\": 2, \"70\": 1}, \"30\": {\"30\": 76, \"27\": 6, \"122\": 1, \"11\": 5, \"10\": 1, \"94\": 4, \"36\": 11, \"24\": 1, \"8\": 1, \"43\": 1, \"108\": 1, \"15\": 2, \"70\": 2}, \"43\": {\"43\": 81, \"27\": 2, \"118\": 6, \"24\": 1, \"0\": 1, \"94\": 1, \"26\": 1, \"21\": 1, \"93\": 1, \"11\": 2, \"122\": 4, \"87\": 7, \"36\": 1, \"126\": 2, \"70\": 2, \"108\": 4, \"78\": 1, \"105\": 1, \"12\": 1, \"30\": 2, \"88\": 1, \"15\": 1}, \"29\": {\"29\": 29, \"128\": 1, \"91\": 1, \"44\": 1}, \"109\": {\"109\": 65, \"70\": 7, \"39\": 10, \"126\": 2, \"88\": 7, \"27\": 1, \"11\": 1, \"87\": 1, \"10\": 3, \"78\": 1, \"21\": 1, \"24\": 1}, \"60\": {\"60\": 18, \"74\": 1, \"108\": 1, \"30\": 1, \"96\": 1, \"109\": 1, \"42\": 1, \"72\": 1, \"70\": 1, \"87\": 1, \"36\": 1}, \"70\": {\"70\": 64, \"109\": 5, \"21\": 2, \"10\": 5, \"126\": 18, \"78\": 4, \"39\": 8, \"88\": 9, \"24\": 4, \"108\": 2, \"46\": 1}, \"127\": {\"127\": 107, \"36\": 1, \"8\": 1, \"71\": 4, \"101\": 2, \"40\": 1, \"15\": 1, \"3\": 4, \"24\": 1, \"106\": 1, \"30\": 1}, \"32\": {\"32\": 30, \"68\": 1, \"100\": 1, \"47\": 1, \"3\": 1, \"128\": 1, \"98\": 1}, \"73\": {\"73\": 17, \"19\": 1, \"66\": 1, \"49\": 1, \"46\": 2, \"88\": 1, \"34\": 1, \"90\": 4}, \"50\": {\"50\": 10, \"82\": 1, \"75\": 1, \"21\": 1, \"123\": 1, \"81\": 2}, \"1\": {\"1\": 101, \"8\": 1, \"96\": 1, \"33\": 1, \"122\": 1, \"38\": 1, \"42\": 1, \"95\": 1, \"84\": 1, \"40\": 9, \"3\": 1, \"62\": 1, \"88\": 2, \"24\": 1, \"101\": 1}, \"106\": {\"106\": 86, \"21\": 1, \"101\": 8, \"0\": 2, \"12\": 2, \"3\": 2, \"127\": 9, \"15\": 5, \"126\": 1, \"8\": 1, \"36\": 1, \"71\": 1, \"88\": 1}, \"123\": {\"83\": 2, \"50\": 1, \"123\": 9, \"107\": 1, \"28\": 1, \"66\": 1, \"104\": 1}, \"79\": {\"79\": 13, \"4\": 1, \"38\": 1, \"58\": 1}, \"4\": {\"79\": 1, \"4\": 74, \"59\": 1, \"125\": 5, \"109\": 1, \"98\": 1, \"126\": 1, \"108\": 1, \"97\": 1, \"5\": 2}, \"2\": {\"2\": 23, \"14\": 1, \"117\": 4, \"45\": 1, \"102\": 2, \"110\": 1}, \"8\": {\"8\": 85, \"96\": 1, \"27\": 1, \"7\": 7, \"88\": 2, \"11\": 4, \"15\": 9, \"105\": 1, \"0\": 3, \"110\": 1, \"108\": 2, \"36\": 3, \"30\": 3, \"39\": 2, \"94\": 2, \"122\": 1, \"3\": 1}, \"83\": {\"83\": 27, \"38\": 1, \"71\": 1, \"89\": 2, \"47\": 1, \"32\": 3, \"120\": 1, \"76\": 1, \"40\": 2, \"34\": 1}, \"105\": {\"8\": 2, \"105\": 96, \"118\": 2, \"60\": 1, \"23\": 2, \"36\": 1, \"16\": 2, \"62\": 2, \"84\": 2, \"12\": 1, \"106\": 1, \"101\": 1, \"40\": 5, \"15\": 2, \"93\": 3, \"27\": 1, \"21\": 1, \"43\": 1, \"94\": 1, \"3\": 1, \"30\": 2}, \"5\": {\"5\": 100, \"21\": 1, \"124\": 2, \"70\": 3, \"109\": 1, \"66\": 2, \"41\": 2, \"42\": 1}, \"99\": {\"99\": 17, \"81\": 3, \"60\": 2, \"38\": 2, \"64\": 2, \"83\": 1, \"82\": 1, \"119\": 2, \"76\": 2}, \"25\": {\"25\": 13, \"129\": 1, \"52\": 1, \"58\": 1}, \"59\": {\"59\": 6, \"17\": 1, \"21\": 2, \"6\": 2, \"22\": 2, \"86\": 1, \"70\": 1, \"29\": 1}, \"42\": {\"77\": 2, \"52\": 1, \"42\": 12, \"111\": 2, \"129\": 2, \"124\": 2, \"73\": 2, \"10\": 1, \"28\": 2, \"85\": 1, \"88\": 1}, \"55\": {\"55\": 9, \"95\": 1, \"1\": 1, \"99\": 2, \"110\": 1, \"100\": 1, \"82\": 1}, \"75\": {\"75\": 10, \"106\": 2, \"49\": 2, \"35\": 1, \"9\": 1}, \"118\": {\"93\": 6, \"118\": 46, \"109\": 1, \"10\": 1, \"24\": 1, \"7\": 1, \"113\": 3, \"108\": 2, \"122\": 1, \"16\": 2, \"27\": 2, \"11\": 1, \"126\": 1}, \"95\": {\"93\": 2, \"21\": 1, \"0\": 1, \"95\": 15, \"114\": 1, \"40\": 6, \"1\": 2, \"8\": 1, \"24\": 1, \"107\": 4, \"62\": 1, \"110\": 1}, \"122\": {\"12\": 3, \"122\": 74, \"0\": 5, \"21\": 1, \"8\": 7, \"24\": 2, \"108\": 5, \"30\": 2, \"15\": 3, \"88\": 2, \"36\": 3, \"93\": 1, \"118\": 1, \"11\": 5, \"43\": 3, \"7\": 1, \"94\": 2}, \"20\": {\"92\": 1, \"100\": 1, \"44\": 1, \"93\": 1, \"20\": 2, \"32\": 1, \"31\": 2, \"61\": 1, \"49\": 1, \"22\": 1, \"74\": 1, \"34\": 1, \"42\": 1, \"26\": 1}, \"110\": {\"110\": 23, \"105\": 3, \"16\": 2, \"57\": 1, \"7\": 2, \"26\": 1, \"6\": 1, \"21\": 1, \"88\": 1, \"84\": 2, \"27\": 1, \"71\": 1, \"52\": 1}, \"65\": {\"65\": 17, \"117\": 1, \"48\": 1, \"57\": 1}, \"37\": {\"37\": 5, \"128\": 1, \"63\": 3, \"115\": 2, \"5\": 2, \"44\": 1, \"57\": 1, \"86\": 1}, \"64\": {\"64\": 12, \"120\": 1, \"57\": 1, \"89\": 1, \"66\": 1}, \"63\": {\"121\": 2, \"63\": 14, \"116\": 1, \"17\": 1, \"57\": 2}, \"40\": {\"95\": 3, \"40\": 89, \"1\": 6, \"36\": 1, \"88\": 5, \"114\": 6, \"8\": 1, \"71\": 1, \"84\": 2, \"70\": 2, \"33\": 10, \"24\": 2, \"14\": 2, \"101\": 1, \"3\": 2, \"43\": 1, \"78\": 1, \"107\": 2, \"30\": 1, \"109\": 1, \"27\": 1}, \"21\": {\"21\": 47, \"39\": 1}, \"11\": {\"11\": 61, \"27\": 3, \"36\": 5, \"15\": 2, \"30\": 3, \"7\": 1, \"88\": 1, \"122\": 1, \"108\": 2, \"5\": 1}, \"67\": {\"121\": 1, \"67\": 15}, \"91\": {\"91\": 19, \"70\": 1, \"77\": 1, \"36\": 1, \"104\": 2, \"29\": 1, \"5\": 2, \"41\": 1}, \"87\": {\"87\": 74, \"118\": 3, \"88\": 4, \"43\": 9, \"24\": 3, \"122\": 2, \"70\": 3, \"126\": 3, \"10\": 3, \"108\": 1, \"109\": 4, \"8\": 2, \"39\": 1}, \"89\": {\"90\": 1, \"89\": 12, \"15\": 2, \"12\": 1, \"128\": 1, \"116\": 1, \"11\": 1, \"101\": 1, \"36\": 1, \"5\": 1, \"37\": 1, \"45\": 1, \"44\": 1, \"121\": 1, \"53\": 1, \"0\": 1, \"67\": 1, \"60\": 1, \"9\": 1, \"57\": 1, \"92\": 1, \"64\": 1, \"82\": 1, \"99\": 1}, \"9\": {\"9\": 29, \"75\": 1, \"49\": 2}, \"124\": {\"124\": 86, \"103\": 1, \"6\": 1, \"129\": 1, \"111\": 8, \"29\": 2, \"90\": 2, \"5\": 9, \"64\": 2, \"41\": 1, \"101\": 1}, \"56\": {\"14\": 1, \"56\": 8, \"49\": 1, \"112\": 1, \"128\": 1}, \"38\": {\"38\": 11, \"128\": 2, \"83\": 1, \"1\": 1, \"31\": 1}, \"94\": {\"94\": 32, \"97\": 1, \"0\": 6, \"15\": 3, \"108\": 3, \"30\": 7, \"109\": 2, \"3\": 1, \"11\": 1, \"23\": 1, \"27\": 1, \"88\": 1, \"39\": 2, \"36\": 1, \"7\": 1, \"8\": 1}, \"6\": {\"59\": 1, \"6\": 27, \"103\": 1, \"111\": 1, \"91\": 1, \"129\": 1}, \"58\": {\"58\": 11, \"34\": 5, \"109\": 1, \"28\": 1, \"32\": 1, \"35\": 1}, \"22\": {\"22\": 10, \"64\": 1, \"104\": 1, \"129\": 1, \"125\": 1, \"42\": 2, \"119\": 3, \"37\": 1}, \"24\": {\"10\": 2, \"24\": 89, \"39\": 4, \"109\": 4, \"21\": 1, \"36\": 2, \"78\": 2, \"88\": 4, \"111\": 1, \"126\": 2, \"101\": 1}, \"57\": {\"57\": 15, \"99\": 1, \"119\": 1, \"37\": 1, \"63\": 2}, \"112\": {\"112\": 11, \"53\": 1, \"49\": 1, \"91\": 2, \"66\": 1}, \"116\": {\"116\": 21, \"39\": 1, \"117\": 1, \"45\": 1, \"42\": 1, \"66\": 1, \"41\": 1, \"109\": 1}, \"18\": {\"18\": 95, \"23\": 2, \"109\": 1, \"87\": 1, \"72\": 1, \"84\": 5, \"78\": 1, \"70\": 2, \"33\": 2, \"88\": 1, \"24\": 2, \"69\": 6, \"62\": 1, \"93\": 2, \"26\": 6}, \"49\": {\"49\": 16, \"9\": 2, \"78\": 2, \"114\": 1, \"68\": 1, \"58\": 1, \"3\": 1}, \"45\": {\"45\": 10, \"57\": 1, \"119\": 1, \"2\": 1, \"37\": 2, \"102\": 1}, \"107\": {\"114\": 3, \"14\": 4, \"128\": 2, \"107\": 34, \"78\": 3, \"19\": 1, \"87\": 2, \"33\": 3, \"10\": 1, \"34\": 1, \"108\": 1, \"88\": 1, \"95\": 1, \"32\": 2, \"40\": 1, \"21\": 1, \"5\": 1, \"69\": 1, \"1\": 1}, \"35\": {\"35\": 7, \"51\": 1, \"101\": 1, \"1\": 2, \"3\": 1}, \"78\": {\"78\": 40, \"126\": 1, \"39\": 1, \"24\": 2, \"109\": 2, \"70\": 1, \"88\": 1}, \"126\": {\"108\": 4, \"126\": 83, \"21\": 1, \"24\": 8, \"109\": 2, \"27\": 1, \"10\": 3, \"70\": 4, \"88\": 4, \"39\": 6, \"43\": 3, \"87\": 1}, \"85\": {\"123\": 1, \"5\": 1, \"85\": 22, \"91\": 1, \"83\": 1, \"22\": 1, \"66\": 1, \"90\": 2, \"73\": 1, \"29\": 1}, \"72\": {\"14\": 2, \"69\": 1, \"72\": 12, \"109\": 1, \"33\": 4, \"21\": 1, \"36\": 2, \"7\": 1, \"128\": 1, \"95\": 1, \"1\": 1, \"93\": 1}, \"26\": {\"26\": 85, \"16\": 1, \"18\": 16, \"84\": 4, \"105\": 1, \"126\": 1, \"15\": 1, \"69\": 3, \"62\": 2, \"87\": 1, \"108\": 1, \"0\": 1, \"93\": 1, \"3\": 1, \"33\": 2, \"109\": 1, \"88\": 2}, \"84\": {\"95\": 2, \"84\": 62, \"118\": 1, \"1\": 6, \"33\": 6, \"8\": 1, \"71\": 1, \"24\": 1, \"62\": 6, \"14\": 2, \"36\": 1, \"26\": 1, \"107\": 1, \"3\": 1}, \"128\": {\"128\": 14, \"31\": 1, \"34\": 2, \"89\": 1, \"112\": 2, \"54\": 2, \"44\": 1, \"98\": 1}, \"31\": {\"31\": 13, \"96\": 1, \"33\": 1, \"19\": 1, \"16\": 1, \"18\": 1, \"92\": 1, \"15\": 1}, \"71\": {\"71\": 69, \"127\": 9, \"1\": 3, \"105\": 1, \"109\": 1, \"101\": 5, \"88\": 1, \"3\": 7, \"40\": 2, \"60\": 1, \"15\": 1}}, \"C_1\": {\"9\": {\"9\": 86, \"30\": 5, \"2\": 3, \"8\": 20, \"51\": 3, \"17\": 1, \"48\": 17, \"50\": 1, \"40\": 1, \"12\": 2, \"14\": 1, \"46\": 1, \"57\": 1}, \"25\": {\"25\": 121, \"18\": 4, \"16\": 3}, \"41\": {\"41\": 24}, \"29\": {\"29\": 70, \"57\": 15, \"1\": 7, \"32\": 1, \"21\": 4, \"49\": 1, \"40\": 15, \"52\": 1, \"27\": 5, \"51\": 1, \"4\": 6, \"47\": 6, \"46\": 2, \"56\": 3, \"55\": 1, \"44\": 1, \"0\": 1}, \"46\": {\"50\": 6, \"46\": 84, \"45\": 9, \"56\": 4, \"5\": 5, \"6\": 3, \"44\": 8, \"57\": 1, \"30\": 5, \"4\": 1, \"20\": 2}, \"4\": {\"4\": 90, \"9\": 1, \"13\": 1, \"56\": 8, \"14\": 1, \"5\": 2, \"40\": 7, \"45\": 5, \"48\": 1, \"57\": 4, \"27\": 1, \"44\": 5, \"6\": 1, \"3\": 1, \"8\": 1, \"12\": 1, \"22\": 1, \"21\": 1}, \"31\": {\"31\": 27, \"38\": 1}, \"36\": {\"36\": 52, \"7\": 1, \"52\": 2, \"13\": 3, \"22\": 6}, \"20\": {\"20\": 112, \"3\": 8, \"12\": 7, \"22\": 1}, \"7\": {\"7\": 22, \"36\": 1, \"38\": 1, \"32\": 1, \"55\": 1, \"47\": 1, \"22\": 1}, \"6\": {\"57\": 1, \"6\": 43, \"45\": 4, \"2\": 1, \"12\": 5, \"20\": 2, \"46\": 5, \"56\": 1, \"8\": 2, \"5\": 7, \"50\": 10, \"30\": 6, \"4\": 2, \"14\": 1, \"44\": 2, \"3\": 2, \"40\": 2}, \"16\": {\"16\": 100, \"34\": 1, \"18\": 4, \"11\": 4, \"54\": 5, \"15\": 6, \"25\": 13, \"53\": 3, \"10\": 1, \"26\": 1}, \"17\": {\"17\": 46, \"42\": 1, \"2\": 2, \"37\": 3, \"48\": 6, \"9\": 2, \"1\": 1, \"55\": 1, \"54\": 1, \"8\": 1}, \"50\": {\"20\": 4, \"50\": 125, \"12\": 1, \"30\": 8, \"6\": 7, \"57\": 1, \"46\": 1, \"3\": 1}, \"57\": {\"4\": 10, \"29\": 7, \"57\": 82, \"56\": 14, \"40\": 11, \"1\": 5, \"12\": 1, \"44\": 7, \"13\": 3, \"46\": 1, \"27\": 2, \"47\": 1}, \"23\": {\"23\": 98, \"37\": 3, \"49\": 5, \"39\": 2, \"7\": 1, \"32\": 2, \"15\": 2, \"43\": 3, \"24\": 5, \"55\": 10, \"54\": 5}, \"3\": {\"12\": 4, \"3\": 79, \"20\": 20, \"4\": 1, \"46\": 2, \"44\": 3, \"21\": 3, \"57\": 3, \"56\": 3, \"0\": 5, \"52\": 1, \"22\": 1, \"40\": 1}, \"53\": {\"41\": 2, \"53\": 132, \"16\": 2, \"55\": 1, \"26\": 1, \"54\": 2}, \"49\": {\"49\": 28, \"39\": 1, \"43\": 2, \"24\": 1}, \"56\": {\"56\": 87, \"45\": 14, \"44\": 21, \"5\": 2, \"57\": 10, \"6\": 1, \"4\": 5, \"40\": 10, \"21\": 2}, \"51\": {\"51\": 140, \"37\": 1, \"55\": 1}, \"26\": {\"26\": 17, \"53\": 6, \"25\": 1}, \"43\": {\"43\": 142, \"55\": 1, \"49\": 1}, \"22\": {\"22\": 110, \"21\": 10, \"52\": 15, \"57\": 1}, \"45\": {\"45\": 84, \"46\": 15, \"44\": 14, \"56\": 13, \"5\": 16, \"4\": 1, \"20\": 3}, \"13\": {\"13\": 151, \"12\": 1}, \"12\": {\"20\": 4, \"12\": 105, \"3\": 2, \"57\": 1, \"4\": 1, \"40\": 1, \"27\": 1, \"8\": 1}, \"54\": {\"54\": 103, \"24\": 1}, \"24\": {\"24\": 100, \"23\": 8}, \"44\": {\"45\": 11, \"44\": 84, \"56\": 12, \"5\": 13, \"52\": 1, \"3\": 4, \"46\": 1, \"0\": 6, \"4\": 2, \"57\": 1, \"20\": 1}, \"28\": {\"28\": 28}, \"33\": {\"33\": 32}, \"38\": {\"38\": 14, \"42\": 1, \"23\": 1, \"7\": 2, \"24\": 1, \"36\": 1, \"43\": 1, \"39\": 2, \"37\": 1}, \"0\": {\"0\": 133, \"12\": 1, \"22\": 2, \"40\": 1, \"56\": 1, \"21\": 5, \"3\": 1}, \"47\": {\"47\": 105, \"57\": 9, \"27\": 23, \"29\": 8, \"52\": 2, \"22\": 2, \"0\": 1, \"13\": 1, \"1\": 1, \"51\": 1, \"40\": 1}, \"42\": {\"33\": 3, \"42\": 28, \"55\": 1, \"32\": 1, \"48\": 1, \"23\": 1, \"43\": 3, \"17\": 1, \"36\": 1}, \"34\": {\"34\": 22, \"37\": 1, \"23\": 1}, \"48\": {\"48\": 96, \"8\": 19, \"9\": 16, \"2\": 2, \"14\": 1, \"55\": 1, \"13\": 3, \"17\": 2, \"30\": 2}, \"35\": {\"35\": 29, \"49\": 1, \"23\": 2, \"19\": 2, \"43\": 1, \"31\": 1}, \"2\": {\"2\": 35, \"14\": 1}, \"30\": {\"30\": 93, \"50\": 14, \"13\": 1, \"12\": 2, \"6\": 3, \"14\": 2, \"8\": 3, \"40\": 1, \"9\": 1}, \"18\": {\"18\": 57, \"25\": 10, \"15\": 1, \"28\": 1, \"11\": 2, \"26\": 1}, \"37\": {\"36\": 1, \"37\": 26, \"7\": 1, \"55\": 1, \"32\": 1, \"13\": 1, \"33\": 1}, \"1\": {\"29\": 12, \"1\": 66, \"8\": 1, \"57\": 7, \"47\": 3, \"40\": 7, \"9\": 1, \"43\": 1, \"27\": 1, \"51\": 1}, \"11\": {\"11\": 131, \"28\": 3, \"16\": 1, \"10\": 2, \"15\": 1}, \"55\": {\"35\": 1, \"55\": 110, \"7\": 2, \"37\": 1, \"32\": 2, \"23\": 4, \"19\": 5, \"43\": 3, \"8\": 1, \"51\": 1}, \"15\": {\"34\": 1, \"15\": 110, \"10\": 11, \"24\": 3, \"16\": 14, \"54\": 5, \"23\": 3, \"11\": 2, \"25\": 1}, \"10\": {\"10\": 92, \"15\": 2, \"11\": 2}, \"27\": {\"27\": 148, \"47\": 4, \"52\": 3, \"29\": 2, \"36\": 1, \"21\": 1, \"13\": 1}, \"19\": {\"19\": 101, \"17\": 2, \"47\": 6, \"33\": 1, \"32\": 2, \"42\": 1, \"10\": 1, \"15\": 2, \"16\": 2, \"1\": 4, \"23\": 3, \"43\": 8, \"27\": 2, \"25\": 1, \"35\": 1, \"37\": 2, \"34\": 1, \"54\": 3, \"53\": 1, \"55\": 1, \"9\": 1}, \"14\": {\"30\": 4, \"14\": 10, \"50\": 3, \"36\": 1, \"13\": 2, \"48\": 1, \"9\": 1, \"8\": 1, \"4\": 1}, \"8\": {\"30\": 11, \"9\": 27, \"8\": 51, \"50\": 17, \"6\": 2, \"48\": 18, \"13\": 3, \"14\": 2, \"46\": 6, \"2\": 2, \"20\": 1}, \"5\": {\"5\": 114, \"45\": 8, \"44\": 9, \"46\": 5}, \"39\": {\"39\": 21, \"32\": 3, \"38\": 1, \"42\": 1, \"23\": 2}, \"52\": {\"52\": 93, \"27\": 4, \"22\": 13, \"21\": 7, \"57\": 1, \"40\": 1, \"0\": 2, \"47\": 1}, \"21\": {\"21\": 104, \"22\": 8, \"36\": 1, \"52\": 9, \"27\": 1, \"0\": 1}, \"40\": {\"40\": 80, \"57\": 17, \"47\": 1, \"8\": 2, \"56\": 17, \"46\": 1, \"0\": 1, \"45\": 3, \"36\": 1, \"4\": 10, \"22\": 1, \"13\": 5, \"3\": 1, \"20\": 1, \"21\": 2, \"44\": 6, \"12\": 1, \"5\": 1, \"29\": 1}, \"32\": {\"32\": 30, \"42\": 1, \"38\": 1}}, \"C_3\": {\"56\": {\"56\": 90, \"57\": 4, \"47\": 6, \"48\": 2, \"22\": 12, \"0\": 3, \"14\": 1, \"9\": 1, \"1\": 1}, \"4\": {\"4\": 70, \"44\": 5, \"57\": 4, \"40\": 16, \"27\": 12, \"1\": 7, \"41\": 2, \"7\": 1, \"48\": 4, \"45\": 3, \"9\": 10, \"30\": 1, \"0\": 2, \"8\": 1, \"22\": 4, \"5\": 1, \"47\": 1, \"33\": 1, \"36\": 1}, \"34\": {\"34\": 23, \"7\": 2, \"1\": 2, \"36\": 1, \"55\": 1, \"29\": 1, \"14\": 1, \"12\": 1}, \"52\": {\"46\": 16, \"52\": 91, \"50\": 11, \"21\": 4, \"9\": 3, \"57\": 1, \"20\": 3, \"6\": 1, \"8\": 2, \"27\": 1, \"48\": 1, \"3\": 2}, \"32\": {\"32\": 22, \"40\": 1, \"27\": 1, \"29\": 2, \"17\": 1, \"57\": 1}, \"46\": {\"46\": 81, \"12\": 4, \"45\": 2, \"0\": 6, \"48\": 2, \"52\": 15, \"6\": 1, \"50\": 10, \"44\": 1, \"3\": 6, \"21\": 1, \"22\": 2, \"56\": 1, \"40\": 1, \"30\": 1, \"9\": 2}, \"12\": {\"52\": 4, \"12\": 65, \"30\": 9, \"45\": 3, \"50\": 5, \"21\": 2, \"46\": 3, \"3\": 1}, \"20\": {\"20\": 93, \"52\": 11, \"50\": 3, \"29\": 1, \"12\": 1, \"27\": 1, \"46\": 2, \"8\": 11, \"21\": 5, \"9\": 1, \"30\": 1, \"3\": 1, \"51\": 1}, \"54\": {\"54\": 95, \"23\": 2, \"17\": 1, \"15\": 1, \"16\": 1}, \"22\": {\"22\": 62, \"48\": 3, \"56\": 14, \"6\": 2, \"47\": 3, \"57\": 9, \"0\": 23, \"14\": 2, \"5\": 3, \"3\": 6, \"9\": 7, \"40\": 2, \"44\": 1, \"4\": 2, \"1\": 1}, \"26\": {\"26\": 21, \"39\": 1, \"36\": 1, \"2\": 1}, \"31\": {\"31\": 27, \"42\": 1}, \"10\": {\"10\": 64}, \"27\": {\"27\": 72, \"4\": 12, \"48\": 7, \"41\": 1, \"33\": 1, \"9\": 15, \"12\": 3, \"32\": 3, \"52\": 1, \"13\": 3, \"50\": 5, \"55\": 1, \"47\": 1, \"17\": 3, \"20\": 4, \"3\": 1, \"6\": 1, \"8\": 2, \"30\": 2, \"40\": 2, \"1\": 1, \"36\": 1, \"21\": 1, \"29\": 1}, \"40\": {\"4\": 24, \"40\": 61, \"20\": 4, \"22\": 3, \"27\": 3, \"45\": 1, \"57\": 6, \"47\": 2, \"8\": 3, \"0\": 3, \"29\": 4, \"9\": 13, \"48\": 3, \"32\": 1, \"44\": 2, \"1\": 1, \"50\": 1, \"21\": 1}, \"28\": {\"28\": 13, \"31\": 1, \"17\": 1, \"18\": 1, \"42\": 3, \"25\": 1, \"16\": 1, \"11\": 1, \"24\": 2, \"49\": 2, \"15\": 2}, \"5\": {\"5\": 87, \"44\": 8, \"12\": 1, \"52\": 2, \"3\": 4, \"45\": 4, \"46\": 2, \"6\": 3, \"56\": 1, \"0\": 2, \"47\": 1, \"48\": 1}, \"30\": {\"12\": 11, \"30\": 84, \"21\": 6, \"5\": 2, \"46\": 2, \"20\": 1, \"50\": 4, \"27\": 1, \"3\": 3, \"52\": 1, \"6\": 4, \"9\": 1}, \"7\": {\"7\": 28, \"13\": 1, \"14\": 1, \"34\": 2, \"41\": 1, \"39\": 1, \"43\": 1, \"55\": 1}, \"18\": {\"18\": 61, \"54\": 2, \"25\": 7, \"15\": 1, \"16\": 9, \"11\": 2, \"51\": 1, \"53\": 1}, \"39\": {\"49\": 1, \"39\": 12, \"17\": 1, \"36\": 1, \"38\": 1}, \"50\": {\"12\": 8, \"30\": 8, \"48\": 3, \"50\": 59, \"52\": 8, \"3\": 9, \"21\": 11, \"47\": 2, \"46\": 11, \"0\": 4, \"6\": 2, \"45\": 2, \"4\": 1, \"27\": 3, \"40\": 2, \"1\": 1, \"44\": 1, \"9\": 1}, \"49\": {\"7\": 3, \"49\": 12, \"36\": 1, \"24\": 3, \"12\": 1}, \"43\": {\"43\": 113, \"13\": 3, \"55\": 4, \"49\": 2}, \"29\": {\"22\": 4, \"29\": 61, \"0\": 2, \"40\": 8, \"4\": 8, \"38\": 1, \"1\": 7, \"57\": 10, \"23\": 1, \"9\": 6, \"50\": 1, \"32\": 1, \"36\": 1, \"17\": 1, \"55\": 2}, \"35\": {\"35\": 25, \"7\": 1, \"43\": 1, \"31\": 1}, \"13\": {\"7\": 2, \"13\": 120, \"43\": 1, \"55\": 1}, \"36\": {\"36\": 98, \"23\": 1, \"42\": 1}, \"11\": {\"11\": 104, \"16\": 16, \"10\": 2, \"15\": 17, \"24\": 3, \"23\": 1, \"54\": 1, \"13\": 1, \"25\": 1}, \"57\": {\"9\": 4, \"57\": 49, \"41\": 1, \"1\": 17, \"4\": 5, \"0\": 9, \"40\": 7, \"22\": 8, \"48\": 2, \"29\": 7, \"27\": 6, \"3\": 2, \"56\": 1, \"47\": 5, \"30\": 1}, \"9\": {\"57\": 6, \"9\": 64, \"40\": 18, \"1\": 5, \"4\": 19, \"3\": 5, \"36\": 2, \"27\": 7, \"44\": 1, \"0\": 1, \"32\": 1, \"48\": 1}, \"25\": {\"25\": 122, \"16\": 5, \"18\": 3}, \"16\": {\"16\": 76, \"11\": 10, \"18\": 5, \"15\": 11, \"53\": 5, \"54\": 11, \"25\": 8}, \"53\": {\"53\": 110, \"54\": 5, \"18\": 1, \"16\": 2}, \"33\": {\"26\": 2, \"20\": 2, \"41\": 3, \"33\": 15, \"27\": 3, \"4\": 1, \"48\": 1, \"38\": 1}, \"51\": {\"51\": 120, \"2\": 1, \"23\": 1, \"8\": 5, \"37\": 1}, \"44\": {\"5\": 11, \"44\": 68, \"9\": 1, \"50\": 1, \"52\": 2, \"4\": 1, \"6\": 2, \"3\": 1, \"21\": 1}, \"48\": {\"27\": 4, \"48\": 55, \"1\": 5, \"29\": 2, \"0\": 8, \"57\": 10, \"40\": 4, \"36\": 1, \"56\": 3, \"47\": 5, \"17\": 1, \"22\": 4, \"13\": 3, \"8\": 2, \"7\": 1, \"33\": 1, \"4\": 2, \"32\": 1, \"9\": 1, \"50\": 1}, \"6\": {\"6\": 66, \"5\": 12, \"45\": 2, \"3\": 4, \"30\": 2, \"21\": 1, \"46\": 1}, \"23\": {\"39\": 2, \"17\": 9, \"23\": 79, \"2\": 2, \"42\": 2, \"7\": 2, \"55\": 8, \"11\": 3, \"34\": 1, \"37\": 2, \"54\": 9, \"36\": 12, \"15\": 7, \"43\": 1, \"9\": 1, \"8\": 1, \"16\": 1, \"24\": 1, \"51\": 1}, \"1\": {\"57\": 8, \"1\": 61, \"0\": 7, \"7\": 1, \"22\": 6, \"14\": 1, \"48\": 2, \"40\": 4, \"47\": 1, \"36\": 2, \"13\": 1, \"4\": 2, \"8\": 1, \"29\": 1, \"43\": 1, \"56\": 1}, \"17\": {\"33\": 1, \"38\": 1, \"17\": 72, \"23\": 9, \"27\": 4, \"36\": 5, \"29\": 4, \"8\": 3, \"47\": 1, \"9\": 2, \"41\": 1, \"4\": 1, \"32\": 1, \"57\": 1, \"20\": 1, \"1\": 1}, \"21\": {\"21\": 81, \"50\": 10, \"5\": 3, \"12\": 5, \"46\": 12, \"0\": 1, \"6\": 1, \"4\": 1, \"52\": 3, \"3\": 1, \"22\": 1, \"30\": 2, \"57\": 1}, \"14\": {\"57\": 1, \"34\": 2, \"14\": 17, \"33\": 1, \"7\": 1, \"29\": 4, \"22\": 1, \"1\": 2, \"13\": 1, \"41\": 1, \"55\": 2, \"47\": 2, \"39\": 1, \"12\": 1, \"43\": 1, \"36\": 2}, \"55\": {\"17\": 2, \"55\": 117, \"14\": 1, \"43\": 11, \"13\": 3, \"22\": 1, \"35\": 2, \"7\": 2, \"26\": 1, \"31\": 1, \"24\": 1, \"23\": 2}, \"41\": {\"41\": 28}, \"3\": {\"6\": 13, \"50\": 7, \"3\": 72, \"5\": 7, \"45\": 4, \"12\": 6, \"52\": 2, \"44\": 7, \"46\": 8, \"0\": 3, \"4\": 1, \"21\": 2, \"30\": 5, \"22\": 1}, \"38\": {\"38\": 28}, \"2\": {\"2\": 27, \"51\": 2, \"39\": 1, \"36\": 2}, \"8\": {\"8\": 100, \"38\": 1, \"50\": 1, \"17\": 8, \"20\": 20, \"21\": 1, \"36\": 4, \"30\": 1, \"12\": 3, \"52\": 2, \"2\": 1}, \"37\": {\"37\": 28}, \"45\": {\"5\": 7, \"45\": 27, \"44\": 7, \"12\": 7, \"50\": 3, \"30\": 4, \"6\": 3, \"21\": 2}, \"42\": {\"42\": 19, \"7\": 1, \"39\": 1, \"36\": 1, \"17\": 2, \"49\": 2, \"23\": 2}, \"24\": {\"24\": 103, \"43\": 1}, \"15\": {\"15\": 91, \"23\": 4, \"11\": 12, \"24\": 10, \"54\": 3, \"16\": 7, \"25\": 1, \"43\": 2, \"19\": 2, \"53\": 1, \"18\": 1, \"42\": 1, \"49\": 1}, \"0\": {\"48\": 5, \"0\": 81, \"3\": 10, \"57\": 1, \"1\": 1, \"47\": 4, \"44\": 2, \"40\": 1, \"22\": 8, \"5\": 4, \"6\": 3, \"45\": 1, \"56\": 2, \"46\": 1}, \"47\": {\"22\": 15, \"47\": 40, \"3\": 3, \"41\": 2, \"1\": 7, \"57\": 2, \"5\": 1, \"0\": 8, \"56\": 5, \"20\": 1, \"9\": 2, \"48\": 2, \"4\": 1, \"46\": 1, \"29\": 2}, \"19\": {\"19\": 94, \"23\": 1, \"29\": 4, \"40\": 1, \"36\": 1, \"55\": 3, \"11\": 2, \"17\": 2, \"35\": 3, \"26\": 2, \"14\": 2, \"31\": 1, \"15\": 1, \"57\": 1, \"56\": 1, \"27\": 1}}, \"W_1\": {\"22\": {\"22\": 13, \"90\": 1, \"120\": 1, \"38\": 1}, \"58\": {\"37\": 1, \"58\": 7, \"55\": 1, \"111\": 1, \"6\": 2}, \"109\": {\"70\": 10, \"109\": 103, \"78\": 1, \"10\": 6, \"88\": 3, \"108\": 1}, \"77\": {\"77\": 12, \"91\": 2, \"92\": 1, \"129\": 1}, \"74\": {\"74\": 15, \"19\": 1}, \"10\": {\"10\": 97, \"24\": 4, \"108\": 6, \"88\": 4, \"70\": 4, \"126\": 1, \"109\": 1, \"39\": 1, \"11\": 1, \"94\": 1}, \"70\": {\"109\": 16, \"70\": 107, \"93\": 1, \"10\": 2, \"90\": 1, \"108\": 1}, \"84\": {\"84\": 100, \"1\": 1, \"105\": 2, \"0\": 2, \"3\": 1, \"36\": 1, \"7\": 1}, \"52\": {\"52\": 19, \"53\": 1}, \"20\": {\"99\": 2, \"32\": 1, \"20\": 9, \"44\": 1, \"127\": 1, \"114\": 2}, \"14\": {\"14\": 82, \"40\": 3, \"114\": 2, \"105\": 1, \"10\": 1, \"1\": 2, \"3\": 2, \"36\": 1, \"20\": 1, \"23\": 1}, \"37\": {\"37\": 15, \"83\": 1}, \"42\": {\"77\": 2, \"22\": 1, \"42\": 19, \"25\": 2, \"83\": 1, \"99\": 1, \"90\": 2}, \"99\": {\"99\": 12, \"77\": 1, \"26\": 1, \"3\": 1, \"82\": 1, \"69\": 1, \"107\": 1, \"20\": 2, \"95\": 1, \"84\": 1, \"89\": 1, \"33\": 1}, \"35\": {\"35\": 9, \"7\": 1, \"127\": 2}, \"62\": {\"62\": 105, \"114\": 1, \"26\": 5, \"16\": 3, \"43\": 1, \"69\": 3, \"106\": 1, \"109\": 1}, \"61\": {\"41\": 2, \"28\": 1, \"61\": 4, \"74\": 2, \"82\": 1, \"66\": 2}, \"7\": {\"7\": 75, \"8\": 11, \"127\": 1, \"23\": 2, \"101\": 1, \"0\": 13, \"110\": 13, \"15\": 2, \"106\": 5, \"43\": 4, \"44\": 1, \"12\": 2, \"87\": 3, \"36\": 4, \"122\": 2, \"84\": 1, \"11\": 1, \"109\": 1}, \"69\": {\"69\": 84, \"16\": 1, \"118\": 2, \"26\": 2, \"62\": 2, \"15\": 1, \"10\": 1, \"108\": 1, \"113\": 3, \"94\": 1, \"18\": 1, \"70\": 1, \"3\": 1, \"7\": 1, \"39\": 1, \"11\": 1}, \"55\": {\"55\": 11, \"68\": 1}, \"41\": {\"41\": 11, \"77\": 2, \"68\": 1, \"17\": 1, \"37\": 1}, \"120\": {\"120\": 12, \"129\": 1, \"124\": 1, \"9\": 1, \"67\": 1, \"61\": 1, \"89\": 1, \"117\": 2}, \"123\": {\"102\": 2, \"123\": 12, \"66\": 1, \"42\": 1}, \"97\": {\"97\": 10, \"109\": 1, \"98\": 1, \"108\": 1, \"42\": 1, \"30\": 2, \"68\": 1, \"38\": 1, \"87\": 2}, \"102\": {\"102\": 112, \"117\": 4, \"39\": 1, \"124\": 1, \"10\": 1, \"109\": 1}, \"60\": {\"60\": 8, \"3\": 1, \"106\": 1, \"15\": 1, \"65\": 2, \"66\": 1, \"96\": 1, \"8\": 1}, \"127\": {\"127\": 97, \"10\": 2, \"11\": 1, \"101\": 3, \"78\": 1, \"9\": 1, \"1\": 1, \"12\": 1, \"71\": 1}, \"32\": {\"32\": 19, \"52\": 1, \"30\": 1, \"98\": 3, \"85\": 2, \"56\": 2, \"75\": 1, \"53\": 1, \"49\": 1, \"9\": 1}, \"3\": {\"69\": 2, \"3\": 70, \"15\": 2, \"85\": 1, \"26\": 1, \"0\": 1, \"36\": 1, \"1\": 3, \"27\": 1, \"14\": 2, \"111\": 1, \"16\": 1, \"40\": 1, \"10\": 1}, \"8\": {\"8\": 74, \"87\": 5, \"96\": 1, \"7\": 11, \"36\": 3, \"0\": 1, \"122\": 7, \"43\": 8, \"27\": 2, \"69\": 1, \"126\": 5, \"94\": 1, \"93\": 3}, \"129\": {\"28\": 2, \"129\": 17, \"67\": 1, \"2\": 1, \"5\": 3, \"64\": 1, \"55\": 1, \"54\": 1, \"42\": 1}, \"119\": {\"119\": 8, \"129\": 1, \"63\": 2, \"28\": 1, \"61\": 1, \"74\": 1, \"57\": 1, \"102\": 1}, \"21\": {\"21\": 38, \"5\": 1, \"109\": 1}, \"53\": {\"53\": 19, \"52\": 1}, \"28\": {\"29\": 1, \"28\": 10, \"65\": 1, \"76\": 1, \"61\": 1, \"42\": 2, \"64\": 2, \"45\": 1, \"90\": 1}, \"117\": {\"117\": 122, \"42\": 1, \"129\": 1, \"124\": 2, \"102\": 6, \"77\": 1, \"120\": 1, \"45\": 1, \"104\": 1, \"41\": 1, \"17\": 1, \"22\": 1, \"83\": 1, \"2\": 2, \"107\": 1, \"90\": 1}, \"112\": {\"112\": 9, \"58\": 1, \"92\": 1, \"79\": 1, \"98\": 3, \"68\": 1}, \"126\": {\"126\": 106, \"10\": 4, \"88\": 8, \"108\": 3, \"11\": 1, \"93\": 8, \"27\": 1, \"24\": 2, \"43\": 1}, \"30\": {\"30\": 39, \"96\": 2, \"97\": 4, \"122\": 1, \"27\": 3, \"108\": 2, \"88\": 1}, \"105\": {\"105\": 58, \"1\": 10, \"23\": 1, \"88\": 1, \"101\": 1, \"126\": 1, \"40\": 3, \"70\": 1, \"26\": 2, \"44\": 1, \"127\": 1, \"15\": 1, \"84\": 1, \"3\": 2}, \"29\": {\"29\": 28}, \"57\": {\"57\": 11, \"120\": 1}, \"93\": {\"93\": 88, \"30\": 1, \"126\": 15, \"97\": 1, \"108\": 3, \"24\": 3, \"27\": 5, \"43\": 4, \"8\": 1, \"11\": 5, \"88\": 5, \"87\": 3, \"122\": 1, \"70\": 3, \"110\": 1, \"109\": 1}, \"17\": {\"17\": 7, \"87\": 1, \"124\": 5, \"55\": 2, \"41\": 1}, \"44\": {\"44\": 62, \"127\": 1, \"101\": 3, \"106\": 3, \"110\": 1, \"7\": 1, \"0\": 2, \"34\": 1, \"114\": 1, \"15\": 1}, \"63\": {\"63\": 13, \"102\": 1, \"117\": 1, \"120\": 1}, \"87\": {\"0\": 2, \"109\": 2, \"87\": 50, \"23\": 1, \"27\": 3, \"39\": 1, \"36\": 1, \"88\": 2, \"11\": 3, \"8\": 8, \"43\": 11, \"108\": 6, \"110\": 1, \"122\": 6, \"93\": 3, \"15\": 1, \"30\": 1, \"10\": 4, \"94\": 1, \"126\": 1}, \"0\": {\"0\": 69, \"23\": 1, \"36\": 2, \"10\": 1, \"87\": 2, \"94\": 1, \"15\": 3, \"43\": 1, \"8\": 1, \"127\": 1, \"7\": 2}, \"96\": {\"96\": 12, \"101\": 1, \"38\": 1, \"30\": 1, \"8\": 2, \"19\": 1, \"49\": 1, \"10\": 1}, \"98\": {\"98\": 103, \"92\": 2, \"107\": 1, \"54\": 1, \"32\": 1}, \"75\": {\"75\": 12, \"92\": 1, \"32\": 2, \"49\": 1}, \"78\": {\"78\": 9, \"109\": 1, \"39\": 1, \"108\": 1, \"10\": 2, \"24\": 1, \"43\": 1}, \"116\": {\"57\": 1, \"116\": 22, \"124\": 2, \"117\": 3, \"119\": 1, \"67\": 1, \"120\": 1, \"70\": 1}, \"114\": {\"114\": 108, \"40\": 5, \"1\": 2, \"90\": 1, \"109\": 1, \"101\": 2, \"70\": 1, \"107\": 5, \"36\": 1, \"14\": 2}, \"103\": {\"73\": 1, \"77\": 3, \"46\": 1, \"64\": 1, \"5\": 1, \"103\": 3, \"92\": 2, \"111\": 1, \"112\": 1, \"72\": 2}, \"50\": {\"50\": 14, \"33\": 1, \"82\": 1}, \"124\": {\"124\": 106, \"116\": 1, \"104\": 1, \"46\": 2, \"86\": 2, \"102\": 1, \"83\": 1, \"89\": 1, \"107\": 2, \"111\": 4, \"45\": 1, \"56\": 1, \"17\": 1, \"41\": 1, \"6\": 1, \"114\": 1, \"117\": 1}, \"5\": {\"5\": 78, \"54\": 2, \"129\": 1, \"124\": 4, \"6\": 1, \"10\": 1, \"12\": 1}, \"73\": {\"114\": 1, \"49\": 1, \"60\": 2, \"73\": 12, \"44\": 1, \"105\": 1, \"85\": 2}, \"81\": {\"50\": 2, \"81\": 14, \"100\": 1, \"19\": 3, \"1\": 3, \"95\": 1, \"85\": 1, \"32\": 1, \"33\": 1, \"16\": 1}, \"49\": {\"49\": 11, \"77\": 1, \"72\": 1, \"9\": 3, \"75\": 3, \"31\": 1}, \"16\": {\"16\": 59, \"1\": 3, \"11\": 1, \"3\": 3, \"69\": 2, \"113\": 4, \"26\": 9, \"105\": 2, \"14\": 5, \"70\": 1, \"40\": 2, \"118\": 2, \"62\": 9, \"36\": 1, \"10\": 1, \"108\": 1, \"27\": 1, \"8\": 1, \"93\": 1}, \"101\": {\"101\": 117, \"29\": 1, \"12\": 2, \"127\": 2, \"107\": 1, \"71\": 1}, \"125\": {\"125\": 117, \"111\": 1}, \"65\": {\"57\": 2, \"79\": 1, \"67\": 1, \"42\": 1, \"65\": 2, \"61\": 2, \"18\": 1, \"2\": 1, \"115\": 1}, \"66\": {\"65\": 2, \"25\": 2, \"28\": 1, \"90\": 1, \"66\": 7, \"38\": 2, \"9\": 1}, \"79\": {\"104\": 1, \"79\": 10, \"4\": 1}, \"39\": {\"39\": 60, \"21\": 1, \"108\": 6, \"93\": 1, \"10\": 3, \"43\": 7, \"11\": 10, \"24\": 3, \"109\": 5, \"122\": 1, \"88\": 2, \"7\": 1, \"126\": 3, \"70\": 1}, \"104\": {\"28\": 2, \"104\": 10, \"4\": 2, \"80\": 1, \"103\": 1}, \"91\": {\"91\": 20, \"54\": 1, \"83\": 1, \"37\": 1, \"89\": 1, \"86\": 1, \"103\": 1, \"77\": 1, \"92\": 1}, \"25\": {\"82\": 1, \"25\": 9, \"75\": 1, \"98\": 1, \"42\": 1, \"100\": 1, \"104\": 1, \"28\": 1}, \"64\": {\"25\": 1, \"64\": 13, \"46\": 1, \"19\": 1}, \"34\": {\"60\": 1, \"47\": 1, \"34\": 7, \"49\": 1, \"51\": 1, \"89\": 2, \"36\": 1, \"85\": 2, \"98\": 2, \"71\": 2, \"75\": 2, \"62\": 1, \"105\": 1, \"73\": 1, \"40\": 1, \"15\": 1, \"107\": 3, \"84\": 1, \"33\": 1}, \"82\": {\"82\": 30, \"33\": 1, \"103\": 1, \"17\": 2, \"50\": 2}, \"18\": {\"18\": 94, \"118\": 7, \"113\": 4, \"15\": 1, \"87\": 1, \"16\": 2, \"11\": 1, \"26\": 2, \"122\": 2, \"62\": 4, \"69\": 1, \"94\": 1, \"43\": 2, \"8\": 2}, \"43\": {\"97\": 1, \"43\": 73, \"93\": 5, \"108\": 3, \"10\": 5, \"122\": 8, \"88\": 3, \"87\": 7, \"11\": 9, \"7\": 1, \"109\": 1, \"126\": 5, \"8\": 4, \"0\": 1, \"27\": 1, \"36\": 1}, \"47\": {\"77\": 2, \"47\": 8, \"32\": 1, \"66\": 1}, \"108\": {\"108\": 82, \"88\": 15, \"129\": 1, \"24\": 9, \"30\": 3, \"126\": 6, \"93\": 3, \"70\": 1, \"94\": 1, \"10\": 3}, \"111\": {\"111\": 104, \"68\": 3, \"70\": 1}, \"23\": {\"84\": 1, \"87\": 1, \"23\": 11, \"71\": 1, \"44\": 1, \"7\": 2, \"110\": 3, \"88\": 2, \"15\": 1, \"106\": 1}, \"90\": {\"90\": 144, \"116\": 1, \"66\": 2, \"40\": 3, \"127\": 1, \"99\": 2, \"1\": 1, \"114\": 1, \"47\": 1, \"28\": 3, \"25\": 1}, \"4\": {\"4\": 92, \"104\": 2, \"40\": 1, \"30\": 1, \"3\": 1, \"124\": 2, \"125\": 1}, \"92\": {\"92\": 26, \"98\": 1, \"32\": 1}, \"2\": {\"102\": 2, \"2\": 15, \"63\": 1, \"50\": 1, \"117\": 4, \"47\": 1, \"42\": 1, \"83\": 1, \"5\": 1, \"82\": 2, \"19\": 1, \"0\": 1, \"99\": 1}, \"45\": {\"2\": 1, \"102\": 1, \"80\": 2, \"42\": 1, \"65\": 1, \"67\": 1, \"59\": 1, \"70\": 1, \"28\": 1, \"21\": 1, \"45\": 1}, \"68\": {\"68\": 15, \"111\": 1}, \"26\": {\"26\": 112, \"8\": 2, \"16\": 6, \"62\": 2, \"84\": 1, \"36\": 1, \"3\": 2, \"114\": 1, \"69\": 1}, \"38\": {\"25\": 1, \"53\": 1, \"38\": 8, \"128\": 1, \"61\": 1, \"90\": 1, \"23\": 1, \"129\": 1, \"42\": 1}, \"40\": {\"40\": 99, \"107\": 7, \"84\": 3, \"1\": 12, \"105\": 3, \"122\": 1, \"114\": 6, \"9\": 1, \"3\": 3, \"101\": 3, \"72\": 2, \"14\": 1, \"24\": 1}, \"80\": {\"80\": 12, \"58\": 1, \"64\": 1, \"59\": 1, \"73\": 1}, \"107\": {\"107\": 104, \"93\": 1, \"114\": 6, \"10\": 2, \"5\": 1, \"40\": 4, \"34\": 1, \"33\": 2, \"39\": 1}, \"94\": {\"94\": 82, \"36\": 8, \"93\": 1, \"30\": 1}, \"115\": {\"115\": 12}, \"46\": {\"115\": 2, \"5\": 1, \"46\": 2, \"104\": 1, \"37\": 1, \"103\": 1, \"70\": 1, \"91\": 3}, \"72\": {\"72\": 23, \"84\": 1, \"52\": 1, \"114\": 2, \"107\": 1, \"101\": 1, \"40\": 1, \"9\": 1, \"127\": 1}, \"19\": {\"19\": 22, \"83\": 2, \"128\": 1, \"3\": 1, \"77\": 1, \"81\": 1}, \"100\": {\"100\": 8, \"82\": 1, \"65\": 1, \"50\": 2, \"41\": 1, \"36\": 1, \"81\": 2}, \"76\": {\"76\": 5, \"60\": 1, \"19\": 1, \"90\": 1, \"26\": 2, \"95\": 2, \"49\": 1, \"33\": 1, \"62\": 1, \"88\": 1}, \"106\": {\"106\": 110, \"110\": 4, \"101\": 4, \"12\": 6, \"36\": 1, \"8\": 1, \"7\": 1, \"0\": 1, \"15\": 1, \"71\": 2, \"127\": 1}, \"88\": {\"10\": 9, \"108\": 7, \"88\": 84, \"24\": 14, \"126\": 7, \"27\": 2, \"70\": 4, \"109\": 1, \"93\": 1, \"36\": 1}, \"15\": {\"15\": 85, \"94\": 7, \"71\": 1, \"27\": 3, \"110\": 1, \"7\": 1, \"12\": 1, \"36\": 3, \"87\": 1, \"70\": 1}, \"54\": {\"54\": 9, \"15\": 1, \"5\": 1, \"89\": 1, \"97\": 1, \"104\": 2, \"91\": 1}, \"13\": {\"13\": 14, \"57\": 1, \"102\": 1}, \"51\": {\"51\": 15, \"12\": 1}, \"24\": {\"24\": 63, \"108\": 9, \"70\": 2, \"30\": 1, \"88\": 10, \"10\": 3, \"97\": 1, \"126\": 3}, \"48\": {\"48\": 7, \"116\": 3, \"57\": 1, \"125\": 1}, \"85\": {\"85\": 30, \"91\": 1, \"83\": 1}, \"33\": {\"33\": 138, \"14\": 2}, \"71\": {\"71\": 92, \"34\": 1, \"127\": 4, \"12\": 4, \"117\": 1, \"82\": 1, \"27\": 1, \"101\": 1, \"106\": 1, \"44\": 1, \"40\": 1}, \"6\": {\"6\": 28, \"92\": 1, \"68\": 1, \"128\": 1, \"91\": 1}, \"83\": {\"42\": 2, \"90\": 4, \"47\": 1, \"68\": 2, \"89\": 3, \"2\": 2, \"83\": 9, \"6\": 1, \"58\": 1, \"56\": 1, \"98\": 1, \"73\": 1}, \"121\": {\"42\": 1, \"121\": 24, \"29\": 1, \"117\": 1, \"76\": 2, \"95\": 1, \"2\": 1, \"89\": 1}, \"31\": {\"31\": 10, \"101\": 1, \"106\": 2, \"24\": 1, \"75\": 1, \"127\": 1}, \"67\": {\"109\": 1, \"67\": 13, \"116\": 2}, \"1\": {\"1\": 111, \"105\": 1, \"40\": 10, \"14\": 3, \"3\": 2, \"101\": 1, \"15\": 2, \"106\": 1, \"84\": 2, \"78\": 1, \"34\": 1, \"71\": 1}, \"27\": {\"27\": 60, \"24\": 6, \"87\": 2, \"109\": 1, \"108\": 2, \"88\": 6, \"93\": 4, \"11\": 1, \"10\": 1, \"110\": 2, \"36\": 2, \"30\": 1, \"126\": 2, \"94\": 2}, \"118\": {\"118\": 55, \"87\": 1, \"7\": 1, \"126\": 2, \"16\": 1, \"18\": 8, \"24\": 2, \"109\": 2, \"26\": 2, \"21\": 1, \"70\": 3, \"88\": 2, \"84\": 1, \"62\": 1, \"108\": 2}, \"56\": {\"56\": 6, \"47\": 2, \"32\": 3, \"92\": 1}, \"36\": {\"36\": 91, \"30\": 1, \"106\": 1, \"27\": 3, \"94\": 8, \"110\": 3, \"87\": 1, \"70\": 1, \"0\": 2, \"15\": 4, \"12\": 2, \"126\": 3, \"43\": 1, \"71\": 1, \"11\": 1, \"8\": 2, \"88\": 1, \"93\": 2}, \"11\": {\"11\": 75, \"30\": 4, \"126\": 5, \"87\": 3, \"88\": 3, \"93\": 4, \"43\": 8, \"70\": 5, \"122\": 2, \"39\": 6, \"109\": 4, \"10\": 3, \"107\": 1, \"108\": 2, \"24\": 1}, \"110\": {\"110\": 97, \"27\": 1, \"30\": 1, \"106\": 1, \"12\": 2, \"10\": 1, \"15\": 4, \"88\": 1, \"78\": 1, \"36\": 3, \"7\": 3, \"84\": 2, \"0\": 2, \"105\": 2, \"93\": 1}, \"89\": {\"53\": 1, \"89\": 18, \"51\": 1, \"98\": 5, \"90\": 2, \"52\": 1, \"83\": 1, \"34\": 1, \"111\": 1, \"32\": 1, \"47\": 1, \"107\": 1, \"29\": 2}, \"113\": {\"18\": 8, \"88\": 2, \"3\": 1, \"69\": 9, \"11\": 3, \"62\": 5, \"113\": 59, \"24\": 1, \"8\": 3, \"26\": 5, \"39\": 3, \"122\": 1, \"12\": 1, \"16\": 2, \"126\": 2, \"43\": 1, \"93\": 1, \"118\": 6, \"10\": 4, \"125\": 1}, \"59\": {\"59\": 11, \"86\": 1}, \"9\": {\"89\": 1, \"9\": 18, \"103\": 1, \"44\": 2, \"70\": 1, \"107\": 1, \"40\": 1, \"71\": 1, \"49\": 3, \"101\": 2, \"127\": 1}, \"86\": {\"86\": 17, \"79\": 1, \"115\": 2, \"124\": 1, \"92\": 2, \"111\": 4, \"90\": 1, \"5\": 1, \"22\": 1, \"77\": 1, \"83\": 1, \"89\": 2, \"28\": 1, \"42\": 1}, \"12\": {\"12\": 78, \"71\": 3, \"106\": 7, \"70\": 1, \"7\": 3, \"36\": 1, \"101\": 8, \"109\": 2, \"39\": 1}, \"122\": {\"87\": 7, \"122\": 45, \"36\": 1, \"30\": 2, \"21\": 1, \"11\": 4, \"43\": 8, \"23\": 1, \"70\": 3, \"8\": 5, \"27\": 2, \"10\": 3, \"93\": 1, \"126\": 1, \"39\": 1, \"7\": 1, \"88\": 2}, \"128\": {\"128\": 10, \"89\": 1, \"19\": 2, \"98\": 4, \"9\": 1, \"82\": 1, \"50\": 1, \"49\": 2, \"73\": 2}, \"95\": {\"23\": 1, \"95\": 23, \"0\": 1, \"24\": 1, \"96\": 1, \"120\": 1, \"33\": 2, \"44\": 1, \"50\": 1, \"74\": 1, \"90\": 1, \"14\": 1, \"114\": 1}}}, \"per_domain_accuracy\": {\"O_14\": {\"accuracy\": 0.86796875, \"source?\": true}, \"O_20\": {\"accuracy\": 0.88203125, \"source?\": true}, \"O_50\": {\"accuracy\": 0.5598958333333334, \"source?\": true}, \"O_26\": {\"accuracy\": 0.7252604166666666, \"source?\": true}, \"O_32\": {\"accuracy\": 0.44244791666666666, \"source?\": true}, \"O_44\": {\"accuracy\": 0.5018229166666667, \"source?\": true}, \"O_8\": {\"accuracy\": 0.80625, \"source?\": true}, \"O_38\": {\"accuracy\": 0.6302083333333334, \"source?\": true}, \"W_3\": {\"accuracy\": 0.7270742358078602, \"source?\": false}, \"W_4\": {\"accuracy\": 0.67161673553719, \"source?\": false}, \"C_4\": {\"accuracy\": 0.6989146706586826, \"source?\": false}, \"C_5\": {\"accuracy\": 0.705481843575419, \"source?\": false}, \"C_2\": {\"accuracy\": 0.7064285714285714, \"source?\": false}, \"W_2\": {\"accuracy\": 0.7196729957805907, \"source?\": false}, \"C_1\": {\"accuracy\": 0.7647758152173914, \"source?\": false}, \"C_3\": {\"accuracy\": 0.6845588235294118, \"source?\": false}, \"W_1\": {\"accuracy\": 0.7485556722689075, \"source?\": false}}}, \"history\": {\"epoch_indices\": [1, 2, 3, 4, 5], \"train_label_loss\": [0.4746638589145039, 0.6404235318652354, 0.3375510698949386, 0.30592630309928653, 0.28398703018181204], \"source_val_label_loss\": [11.028467178344727, 0.37746551632881165, 0.35130342841148376, 0.3100781738758087, 0.28804299235343933], \"target_val_label_loss\": [4322.115234375, 5463.85009765625, 6707.15966796875, 6954.49267578125, 7499.82861328125], \"source_val_acc_label\": [0.6769856770833333, 0.8687825520833333, 0.876953125, 0.8911783854166667, 0.8990559895833333], \"target_val_acc_label\": [0.714700027457441, 0.41203322350356947, 0.3697659253157606, 0.39772103239978035, 0.4087554914881933]}, \"dataset_metrics\": {\"source\": {\"train\": {\"n_unique_x\": 179200, \"n_unique_y\": 16, \"n_batch/episode\": 6720}, \"val\": {\"n_unique_x\": 38400, \"n_unique_y\": 16, \"n_batch/episode\": 960}, \"test\": {\"n_unique_x\": 38400, \"n_unique_y\": 16, \"n_batch/episode\": 960}}, \"target\": {\"train\": {\"n_unique_x\": 364209, \"n_unique_y\": 130, \"n_batch/episode\": 13178}, \"val\": {\"n_unique_x\": 77265, \"n_unique_y\": 130, \"n_batch/episode\": 1821}, \"test\": {\"n_unique_x\": 78390, \"n_unique_y\": 130, \"n_batch/episode\": 1852}}}}'"
      ]
     },
     "execution_count": 29,
     "metadata": {},
     "output_type": "execute_result"
    }
   ],
   "source": [
    "json.dumps(experiment)"
   ]
  }
 ],
 "metadata": {
  "celltoolbar": "Tags",
  "kernelspec": {
   "display_name": "Python 3 (ipykernel)",
   "language": "python",
   "name": "python3"
  },
  "language_info": {
   "codemirror_mode": {
    "name": "ipython",
    "version": 3
   },
   "file_extension": ".py",
   "mimetype": "text/x-python",
   "name": "python",
   "nbconvert_exporter": "python",
   "pygments_lexer": "ipython3",
   "version": "3.8.10"
  },
  "papermill": {
   "default_parameters": {},
   "duration": 1003.433448,
   "end_time": "2022-03-21T00:22:02.441946",
   "environment_variables": {},
   "exception": null,
   "input_path": "/mnt/wd500GB/CSC500/csc500-main/csc500-notebooks/templates/tl_ptn_template.ipynb",
   "output_path": "trial.ipynb",
   "parameters": {
    "parameters": {
     "BEST_MODEL_PATH": "./best_model.pth",
     "NUM_LOGS_PER_EPOCH": 10,
     "criteria_for_best": "target_accuracy",
     "dataset_seed": 420,
     "datasets": [
      {
       "domain_prefix": "C_",
       "domains": [
        1,
        2,
        3,
        4,
        5
       ],
       "episode_transforms": [],
       "labels": [
        "1-10.",
        "1-11.",
        "1-15.",
        "1-16.",
        "1-17.",
        "1-18.",
        "1-19.",
        "10-4.",
        "10-7.",
        "11-1.",
        "11-14.",
        "11-17.",
        "11-20.",
        "11-7.",
        "13-20.",
        "13-8.",
        "14-10.",
        "14-11.",
        "14-14.",
        "14-7.",
        "15-1.",
        "15-20.",
        "16-1.",
        "16-16.",
        "17-10.",
        "17-11.",
        "17-2.",
        "19-1.",
        "19-16.",
        "19-19.",
        "19-20.",
        "19-3.",
        "2-10.",
        "2-11.",
        "2-17.",
        "2-18.",
        "2-20.",
        "2-3.",
        "2-4.",
        "2-5.",
        "2-6.",
        "2-7.",
        "2-8.",
        "3-13.",
        "3-18.",
        "3-3.",
        "4-1.",
        "4-10.",
        "4-11.",
        "4-19.",
        "5-5.",
        "6-15.",
        "7-10.",
        "7-14.",
        "8-18.",
        "8-20.",
        "8-3.",
        "8-8."
       ],
       "num_examples_per_domain_per_label": -1,
       "pickle_path": "/mnt/wd500GB/CSC500/csc500-main/datasets/cores.stratified_ds.2022A.pkl",
       "source_or_target_dataset": "target",
       "x_transforms": [
        "take_200"
       ]
      },
      {
       "domain_prefix": "W_",
       "domains": [
        1,
        2,
        3,
        4
       ],
       "episode_transforms": [],
       "labels": [
        "1-10",
        "1-12",
        "1-14",
        "1-16",
        "1-18",
        "1-19",
        "1-8",
        "10-11",
        "10-17",
        "10-4",
        "10-7",
        "11-1",
        "11-10",
        "11-19",
        "11-20",
        "11-4",
        "11-7",
        "12-19",
        "12-20",
        "12-7",
        "13-14",
        "13-18",
        "13-19",
        "13-20",
        "13-3",
        "13-7",
        "14-10",
        "14-11",
        "14-12",
        "14-13",
        "14-14",
        "14-19",
        "14-20",
        "14-7",
        "14-8",
        "14-9",
        "15-1",
        "15-19",
        "15-6",
        "16-1",
        "16-16",
        "16-19",
        "16-20",
        "17-10",
        "17-11",
        "18-1",
        "18-10",
        "18-11",
        "18-12",
        "18-13",
        "18-14",
        "18-15",
        "18-16",
        "18-17",
        "18-19",
        "18-2",
        "18-20",
        "18-4",
        "18-5",
        "18-7",
        "18-8",
        "18-9",
        "19-1",
        "19-10",
        "19-11",
        "19-12",
        "19-13",
        "19-14",
        "19-15",
        "19-19",
        "19-2",
        "19-20",
        "19-3",
        "19-4",
        "19-6",
        "19-7",
        "19-8",
        "19-9",
        "2-1",
        "2-13",
        "2-15",
        "2-3",
        "2-4",
        "2-5",
        "2-6",
        "2-7",
        "2-8",
        "20-1",
        "20-12",
        "20-14",
        "20-15",
        "20-16",
        "20-18",
        "20-19",
        "20-20",
        "20-3",
        "20-4",
        "20-5",
        "20-7",
        "20-8",
        "3-1",
        "3-13",
        "3-18",
        "3-2",
        "3-8",
        "4-1",
        "4-10",
        "4-11",
        "5-1",
        "5-5",
        "6-1",
        "6-15",
        "6-6",
        "7-10",
        "7-11",
        "7-12",
        "7-13",
        "7-14",
        "7-7",
        "7-8",
        "7-9",
        "8-1",
        "8-13",
        "8-14",
        "8-18",
        "8-20",
        "8-3",
        "8-8",
        "9-1",
        "9-7"
       ],
       "num_examples_per_domain_per_label": -1,
       "pickle_path": "/mnt/wd500GB/CSC500/csc500-main/datasets/wisig.node3-19.stratified_ds.2022A.pkl",
       "source_or_target_dataset": "target",
       "x_transforms": [
        "take_200"
       ]
      },
      {
       "domain_prefix": "O_",
       "domains": [
        32,
        38,
        8,
        44,
        14,
        50,
        20,
        26
       ],
       "episode_transforms": [],
       "labels": [
        "3123D52",
        "3123D65",
        "3123D79",
        "3123D80",
        "3123D54",
        "3123D70",
        "3123D7B",
        "3123D89",
        "3123D58",
        "3123D76",
        "3123D7D",
        "3123EFE",
        "3123D64",
        "3123D78",
        "3123D7E",
        "3124E4A"
       ],
       "num_examples_per_domain_per_label": 2000,
       "pickle_path": "/mnt/wd500GB/CSC500/csc500-main/datasets/oracle.Run1_framed_2000Examples_stratified_ds.2022A.pkl",
       "source_or_target_dataset": "source",
       "x_transforms": [
        "take_200",
        "resample_20Msps_to_25Msps"
       ]
      }
     ],
     "device": "cuda",
     "experiment_name": "tl_3Av2:oracle.run1.framed -> cores+wisig",
     "lr": 0.0001,
     "n_epoch": 50,
     "n_query": 2,
     "n_shot": 3,
     "n_way": 16,
     "patience": 3,
     "seed": 420,
     "test_k_factor": 2,
     "torch_default_dtype": "torch.float32",
     "train_k_factor": 3,
     "val_k_factor": 2,
     "x_net": [
      {
       "class": "nnReshape",
       "kargs": {
        "shape": [
         -1,
         1,
         2,
         200
        ]
       }
      },
      {
       "class": "Conv2d",
       "kargs": {
        "bias": false,
        "in_channels": 1,
        "kernel_size": [
         1,
         7
        ],
        "out_channels": 256,
        "padding": [
         0,
         3
        ]
       }
      },
      {
       "class": "ReLU",
       "kargs": {
        "inplace": true
       }
      },
      {
       "class": "BatchNorm2d",
       "kargs": {
        "num_features": 256
       }
      },
      {
       "class": "Conv2d",
       "kargs": {
        "bias": true,
        "in_channels": 256,
        "kernel_size": [
         2,
         7
        ],
        "out_channels": 80,
        "padding": [
         0,
         3
        ]
       }
      },
      {
       "class": "ReLU",
       "kargs": {
        "inplace": true
       }
      },
      {
       "class": "BatchNorm2d",
       "kargs": {
        "num_features": 80
       }
      },
      {
       "class": "Flatten",
       "kargs": {}
      },
      {
       "class": "Linear",
       "kargs": {
        "in_features": 16000,
        "out_features": 256
       }
      },
      {
       "class": "ReLU",
       "kargs": {
        "inplace": true
       }
      },
      {
       "class": "BatchNorm1d",
       "kargs": {
        "num_features": 256
       }
      },
      {
       "class": "Linear",
       "kargs": {
        "in_features": 256,
        "out_features": 256
       }
      }
     ],
     "x_shape": [
      2,
      200
     ]
    }
   },
   "start_time": "2022-03-21T00:05:19.008498",
   "version": "2.3.4"
  }
 },
 "nbformat": 4,
 "nbformat_minor": 5
}