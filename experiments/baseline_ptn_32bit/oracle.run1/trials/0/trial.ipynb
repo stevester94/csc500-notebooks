{
 "cells": [
  {
   "cell_type": "markdown",
   "id": "9fea5f46",
   "metadata": {
    "papermill": {
     "duration": 0.015844,
     "end_time": "2022-03-02T16:11:28.523133",
     "exception": false,
     "start_time": "2022-03-02T16:11:28.507289",
     "status": "completed"
    },
    "tags": []
   },
   "source": [
    "# PTN Template\n",
    "This notebook serves as a template for single dataset PTN experiments  \n",
    "It can be run on its own by setting STANDALONE to True (do a find for \"STANDALONE\" to see where)  \n",
    "But it is intended to be executed as part of a *papermill.py script. See any of the   \n",
    "experimentes with a papermill script to get started with that workflow.  "
   ]
  },
  {
   "cell_type": "code",
   "execution_count": 1,
   "id": "0902182a",
   "metadata": {
    "execution": {
     "iopub.execute_input": "2022-03-02T16:11:28.555635Z",
     "iopub.status.busy": "2022-03-02T16:11:28.543883Z",
     "iopub.status.idle": "2022-03-02T16:11:29.275644Z",
     "shell.execute_reply": "2022-03-02T16:11:29.275075Z"
    },
    "papermill": {
     "duration": 0.743136,
     "end_time": "2022-03-02T16:11:29.275768",
     "exception": false,
     "start_time": "2022-03-02T16:11:28.532632",
     "status": "completed"
    },
    "tags": []
   },
   "outputs": [],
   "source": [
    "%load_ext autoreload\n",
    "%autoreload 2\n",
    "%matplotlib inline\n",
    "\n",
    "    \n",
    "import os, json, sys, time, random\n",
    "import numpy as np\n",
    "import torch\n",
    "from torch.optim import Adam\n",
    "from  easydict import EasyDict\n",
    "import matplotlib.pyplot as plt\n",
    "\n",
    "from steves_models.steves_ptn import Steves_Prototypical_Network\n",
    "\n",
    "from steves_utils.lazy_iterable_wrapper import Lazy_Iterable_Wrapper\n",
    "from steves_utils.iterable_aggregator import Iterable_Aggregator\n",
    "from steves_utils.ptn_train_eval_test_jig import  PTN_Train_Eval_Test_Jig\n",
    "from steves_utils.torch_sequential_builder import build_sequential\n",
    "from steves_utils.torch_utils import get_dataset_metrics, ptn_confusion_by_domain_over_dataloader\n",
    "from steves_utils.utils_v2 import (per_domain_accuracy_from_confusion, get_datasets_base_path)\n",
    "from steves_utils.PTN.utils import independent_accuracy_assesment\n",
    "\n",
    "from steves_utils.stratified_dataset.episodic_accessor import Episodic_Accessor_Factory\n",
    "\n",
    "from steves_utils.ptn_do_report import (\n",
    "    get_loss_curve,\n",
    "    get_results_table,\n",
    "    get_parameters_table,\n",
    "    get_domain_accuracies,\n",
    ")\n",
    "\n",
    "from steves_utils.transforms import get_chained_transform"
   ]
  },
  {
   "cell_type": "markdown",
   "id": "41c840b4",
   "metadata": {
    "papermill": {
     "duration": 0.009012,
     "end_time": "2022-03-02T16:11:29.298455",
     "exception": false,
     "start_time": "2022-03-02T16:11:29.289443",
     "status": "completed"
    },
    "tags": []
   },
   "source": [
    "# Required Parameters\n",
    "These are allowed parameters, not defaults\n",
    "Each of these values need to be present in the injected parameters (the notebook will raise an exception if they are not present)\n",
    "\n",
    "Papermill uses the cell tag \"parameters\" to inject the real parameters below this cell.\n",
    "Enable tags to see what I mean"
   ]
  },
  {
   "cell_type": "code",
   "execution_count": 2,
   "id": "fd44eb83",
   "metadata": {
    "execution": {
     "iopub.execute_input": "2022-03-02T16:11:29.320345Z",
     "iopub.status.busy": "2022-03-02T16:11:29.319947Z",
     "iopub.status.idle": "2022-03-02T16:11:29.331907Z",
     "shell.execute_reply": "2022-03-02T16:11:29.331562Z"
    },
    "papermill": {
     "duration": 0.024491,
     "end_time": "2022-03-02T16:11:29.331980",
     "exception": false,
     "start_time": "2022-03-02T16:11:29.307489",
     "status": "completed"
    },
    "tags": []
   },
   "outputs": [],
   "source": [
    "required_parameters = {\n",
    "    \"experiment_name\",\n",
    "    \"lr\",\n",
    "    \"device\",\n",
    "    \"seed\",\n",
    "    \"dataset_seed\",\n",
    "    \"labels_source\",\n",
    "    \"labels_target\",\n",
    "    \"domains_source\",\n",
    "    \"domains_target\",\n",
    "    \"num_examples_per_domain_per_label_source\",\n",
    "    \"num_examples_per_domain_per_label_target\",\n",
    "    \"n_shot\",\n",
    "    \"n_way\",\n",
    "    \"n_query\",\n",
    "    \"train_k_factor\",\n",
    "    \"val_k_factor\",\n",
    "    \"test_k_factor\",\n",
    "    \"n_epoch\",\n",
    "    \"patience\",\n",
    "    \"criteria_for_best\",\n",
    "    \"x_transforms_source\",\n",
    "    \"x_transforms_target\",\n",
    "    \"episode_transforms_source\",\n",
    "    \"episode_transforms_target\",\n",
    "    \"pickle_name\",\n",
    "    \"x_net\",\n",
    "    \"NUM_LOGS_PER_EPOCH\",\n",
    "    \"BEST_MODEL_PATH\",\n",
    "    \"torch_default_dtype\"\n",
    "}"
   ]
  },
  {
   "cell_type": "code",
   "execution_count": 3,
   "id": "fa3f0049",
   "metadata": {
    "execution": {
     "iopub.execute_input": "2022-03-02T16:11:29.366243Z",
     "iopub.status.busy": "2022-03-02T16:11:29.365722Z",
     "iopub.status.idle": "2022-03-02T16:11:29.375874Z",
     "shell.execute_reply": "2022-03-02T16:11:29.375407Z"
    },
    "papermill": {
     "duration": 0.029134,
     "end_time": "2022-03-02T16:11:29.375969",
     "exception": false,
     "start_time": "2022-03-02T16:11:29.346835",
     "status": "completed"
    },
    "tags": [
     "parameters"
    ]
   },
   "outputs": [],
   "source": [
    "\n",
    "\n",
    "standalone_parameters = {}\n",
    "standalone_parameters[\"experiment_name\"] = \"STANDALONE PTN\"\n",
    "standalone_parameters[\"lr\"] = 0.0001\n",
    "standalone_parameters[\"device\"] = \"cuda\"\n",
    "\n",
    "standalone_parameters[\"seed\"] = 1337\n",
    "standalone_parameters[\"dataset_seed\"] = 1337\n",
    "\n",
    "\n",
    "standalone_parameters[\"num_examples_per_domain_per_label_source\"]=100\n",
    "standalone_parameters[\"num_examples_per_domain_per_label_target\"]=100\n",
    "\n",
    "standalone_parameters[\"n_shot\"] = 3\n",
    "standalone_parameters[\"n_query\"]  = 2\n",
    "standalone_parameters[\"train_k_factor\"] = 1\n",
    "standalone_parameters[\"val_k_factor\"] = 2\n",
    "standalone_parameters[\"test_k_factor\"] = 2\n",
    "\n",
    "\n",
    "standalone_parameters[\"n_epoch\"] = 100\n",
    "\n",
    "standalone_parameters[\"patience\"] = 10\n",
    "standalone_parameters[\"criteria_for_best\"] = \"target_accuracy\"\n",
    "\n",
    "standalone_parameters[\"x_transforms_source\"] = [\"unit_power\"]\n",
    "standalone_parameters[\"x_transforms_target\"] = [\"unit_power\"]\n",
    "standalone_parameters[\"episode_transforms_source\"] = []\n",
    "standalone_parameters[\"episode_transforms_target\"] = []\n",
    "\n",
    "standalone_parameters[\"torch_default_dtype\"] = \"torch.float32\" \n",
    "\n",
    "\n",
    "\n",
    "standalone_parameters[\"x_net\"] =     [\n",
    "    {\"class\": \"nnReshape\", \"kargs\": {\"shape\":[-1, 1, 2, 256]}},\n",
    "    {\"class\": \"Conv2d\", \"kargs\": { \"in_channels\":1, \"out_channels\":256, \"kernel_size\":(1,7), \"bias\":False, \"padding\":(0,3), },},\n",
    "    {\"class\": \"ReLU\", \"kargs\": {\"inplace\": True}},\n",
    "    {\"class\": \"BatchNorm2d\", \"kargs\": {\"num_features\":256}},\n",
    "\n",
    "    {\"class\": \"Conv2d\", \"kargs\": { \"in_channels\":256, \"out_channels\":80, \"kernel_size\":(2,7), \"bias\":True, \"padding\":(0,3), },},\n",
    "    {\"class\": \"ReLU\", \"kargs\": {\"inplace\": True}},\n",
    "    {\"class\": \"BatchNorm2d\", \"kargs\": {\"num_features\":80}},\n",
    "    {\"class\": \"Flatten\", \"kargs\": {}},\n",
    "\n",
    "    {\"class\": \"Linear\", \"kargs\": {\"in_features\": 80*256, \"out_features\": 256}}, # 80 units per IQ pair\n",
    "    {\"class\": \"ReLU\", \"kargs\": {\"inplace\": True}},\n",
    "    {\"class\": \"BatchNorm1d\", \"kargs\": {\"num_features\":256}},\n",
    "\n",
    "    {\"class\": \"Linear\", \"kargs\": {\"in_features\": 256, \"out_features\": 256}},\n",
    "]\n",
    "\n",
    "# Parameters relevant to results\n",
    "# These parameters will basically never need to change\n",
    "standalone_parameters[\"NUM_LOGS_PER_EPOCH\"] = 10\n",
    "standalone_parameters[\"BEST_MODEL_PATH\"] = \"./best_model.pth\"\n",
    "\n",
    "# uncomment for CORES dataset\n",
    "from steves_utils.CORES.utils import (\n",
    "    ALL_NODES,\n",
    "    ALL_NODES_MINIMUM_1000_EXAMPLES,\n",
    "    ALL_DAYS\n",
    ")\n",
    "\n",
    "\n",
    "standalone_parameters[\"labels_source\"] = ALL_NODES\n",
    "standalone_parameters[\"labels_target\"] = ALL_NODES\n",
    "\n",
    "standalone_parameters[\"domains_source\"] = [1]\n",
    "standalone_parameters[\"domains_target\"] = [2,3,4,5]\n",
    "\n",
    "standalone_parameters[\"pickle_name\"] = \"cores.stratified_ds.2022A.pkl\"\n",
    "\n",
    "\n",
    "# Uncomment these for ORACLE dataset\n",
    "# from steves_utils.ORACLE.utils_v2 import (\n",
    "#     ALL_DISTANCES_FEET,\n",
    "#     ALL_RUNS,\n",
    "#     ALL_SERIAL_NUMBERS,\n",
    "# )\n",
    "# standalone_parameters[\"labels_source\"] = ALL_SERIAL_NUMBERS\n",
    "# standalone_parameters[\"labels_target\"] = ALL_SERIAL_NUMBERS\n",
    "# standalone_parameters[\"domains_source\"] = [8,20, 38,50]\n",
    "# standalone_parameters[\"domains_target\"] = [14, 26, 32, 44, 56]\n",
    "# standalone_parameters[\"pickle_name\"] = \"oracle.frame_indexed.stratified_ds.2022A.pkl\"\n",
    "# standalone_parameters[\"num_examples_per_domain_per_label_source\"]=1000\n",
    "# standalone_parameters[\"num_examples_per_domain_per_label_target\"]=1000\n",
    "\n",
    "# Uncomment these for Metahan dataset\n",
    "# standalone_parameters[\"labels_source\"] = list(range(19))\n",
    "# standalone_parameters[\"labels_target\"] = list(range(19))\n",
    "# standalone_parameters[\"domains_source\"] = [0]\n",
    "# standalone_parameters[\"domains_target\"] = [1]\n",
    "# standalone_parameters[\"pickle_name\"] = \"metehan.stratified_ds.2022A.pkl\"\n",
    "# standalone_parameters[\"n_way\"]  = len(standalone_parameters[\"labels_source\"])\n",
    "# standalone_parameters[\"num_examples_per_domain_per_label_source\"]=200\n",
    "# standalone_parameters[\"num_examples_per_domain_per_label_target\"]=100\n",
    "\n",
    "\n",
    "standalone_parameters[\"n_way\"]  = len(standalone_parameters[\"labels_source\"])"
   ]
  },
  {
   "cell_type": "code",
   "execution_count": 4,
   "id": "60963706",
   "metadata": {
    "execution": {
     "iopub.execute_input": "2022-03-02T16:11:29.403682Z",
     "iopub.status.busy": "2022-03-02T16:11:29.403349Z",
     "iopub.status.idle": "2022-03-02T16:11:29.412717Z",
     "shell.execute_reply": "2022-03-02T16:11:29.412403Z"
    },
    "papermill": {
     "duration": 0.023527,
     "end_time": "2022-03-02T16:11:29.412788",
     "exception": false,
     "start_time": "2022-03-02T16:11:29.389261",
     "status": "completed"
    },
    "tags": [
     "injected-parameters"
    ]
   },
   "outputs": [],
   "source": [
    "# Parameters\n",
    "parameters = {\n",
    "    \"experiment_name\": \"baseline_ptn_32bit_oracle.run1\",\n",
    "    \"lr\": 0.001,\n",
    "    \"device\": \"cuda\",\n",
    "    \"seed\": 1337,\n",
    "    \"dataset_seed\": 1337,\n",
    "    \"labels_source\": [\n",
    "        \"3123D52\",\n",
    "        \"3123D65\",\n",
    "        \"3123D79\",\n",
    "        \"3123D80\",\n",
    "        \"3123D54\",\n",
    "        \"3123D70\",\n",
    "        \"3123D7B\",\n",
    "        \"3123D89\",\n",
    "        \"3123D58\",\n",
    "        \"3123D76\",\n",
    "        \"3123D7D\",\n",
    "        \"3123EFE\",\n",
    "        \"3123D64\",\n",
    "        \"3123D78\",\n",
    "        \"3123D7E\",\n",
    "        \"3124E4A\",\n",
    "    ],\n",
    "    \"labels_target\": [\n",
    "        \"3123D52\",\n",
    "        \"3123D65\",\n",
    "        \"3123D79\",\n",
    "        \"3123D80\",\n",
    "        \"3123D54\",\n",
    "        \"3123D70\",\n",
    "        \"3123D7B\",\n",
    "        \"3123D89\",\n",
    "        \"3123D58\",\n",
    "        \"3123D76\",\n",
    "        \"3123D7D\",\n",
    "        \"3123EFE\",\n",
    "        \"3123D64\",\n",
    "        \"3123D78\",\n",
    "        \"3123D7E\",\n",
    "        \"3124E4A\",\n",
    "    ],\n",
    "    \"x_transforms_source\": [],\n",
    "    \"x_transforms_target\": [],\n",
    "    \"episode_transforms_source\": [],\n",
    "    \"episode_transforms_target\": [],\n",
    "    \"num_examples_per_domain_per_label_source\": 1000,\n",
    "    \"num_examples_per_domain_per_label_target\": 1000,\n",
    "    \"n_shot\": 3,\n",
    "    \"n_way\": 16,\n",
    "    \"n_query\": 2,\n",
    "    \"train_k_factor\": 1,\n",
    "    \"val_k_factor\": 2,\n",
    "    \"test_k_factor\": 2,\n",
    "    \"torch_default_dtype\": \"torch.float32\",\n",
    "    \"n_epoch\": 50,\n",
    "    \"patience\": 3,\n",
    "    \"criteria_for_best\": \"target_loss\",\n",
    "    \"x_net\": [\n",
    "        {\"class\": \"nnReshape\", \"kargs\": {\"shape\": [-1, 1, 2, 256]}},\n",
    "        {\n",
    "            \"class\": \"Conv2d\",\n",
    "            \"kargs\": {\n",
    "                \"in_channels\": 1,\n",
    "                \"out_channels\": 256,\n",
    "                \"kernel_size\": [1, 7],\n",
    "                \"bias\": False,\n",
    "                \"padding\": [0, 3],\n",
    "            },\n",
    "        },\n",
    "        {\"class\": \"ReLU\", \"kargs\": {\"inplace\": True}},\n",
    "        {\"class\": \"BatchNorm2d\", \"kargs\": {\"num_features\": 256}},\n",
    "        {\n",
    "            \"class\": \"Conv2d\",\n",
    "            \"kargs\": {\n",
    "                \"in_channels\": 256,\n",
    "                \"out_channels\": 80,\n",
    "                \"kernel_size\": [2, 7],\n",
    "                \"bias\": True,\n",
    "                \"padding\": [0, 3],\n",
    "            },\n",
    "        },\n",
    "        {\"class\": \"ReLU\", \"kargs\": {\"inplace\": True}},\n",
    "        {\"class\": \"BatchNorm2d\", \"kargs\": {\"num_features\": 80}},\n",
    "        {\"class\": \"Flatten\", \"kargs\": {}},\n",
    "        {\"class\": \"Linear\", \"kargs\": {\"in_features\": 20480, \"out_features\": 256}},\n",
    "        {\"class\": \"ReLU\", \"kargs\": {\"inplace\": True}},\n",
    "        {\"class\": \"BatchNorm1d\", \"kargs\": {\"num_features\": 256}},\n",
    "        {\"class\": \"Linear\", \"kargs\": {\"in_features\": 256, \"out_features\": 256}},\n",
    "    ],\n",
    "    \"NUM_LOGS_PER_EPOCH\": 10,\n",
    "    \"BEST_MODEL_PATH\": \"./best_model.pth\",\n",
    "    \"pickle_name\": \"oracle.Run1_10kExamples_stratified_ds.2022A.pkl\",\n",
    "    \"domains_source\": [8, 32, 50],\n",
    "    \"domains_target\": [14, 20, 26, 38, 44],\n",
    "}\n"
   ]
  },
  {
   "cell_type": "code",
   "execution_count": 5,
   "id": "8fa1cc33",
   "metadata": {
    "execution": {
     "iopub.execute_input": "2022-03-02T16:11:29.438597Z",
     "iopub.status.busy": "2022-03-02T16:11:29.438344Z",
     "iopub.status.idle": "2022-03-02T16:11:29.447030Z",
     "shell.execute_reply": "2022-03-02T16:11:29.446822Z"
    },
    "papermill": {
     "duration": 0.020759,
     "end_time": "2022-03-02T16:11:29.447115",
     "exception": false,
     "start_time": "2022-03-02T16:11:29.426356",
     "status": "completed"
    },
    "tags": []
   },
   "outputs": [],
   "source": [
    "# Set this to True if you want to run this template directly\n",
    "STANDALONE = False\n",
    "if STANDALONE:\n",
    "    print(\"parameters not injected, running with standalone_parameters\")\n",
    "    parameters = standalone_parameters\n",
    "\n",
    "if not 'parameters' in locals() and not 'parameters' in globals():\n",
    "    raise Exception(\"Parameter injection failed\")\n",
    "\n",
    "#Use an easy dict for all the parameters\n",
    "p = EasyDict(parameters)\n",
    "\n",
    "supplied_keys = set(p.keys())\n",
    "\n",
    "if  supplied_keys != required_parameters:\n",
    "    print(\"Parameters are incorrect\")\n",
    "    if len(supplied_keys - required_parameters)>0: print(\"Shouldn't have:\", str(supplied_keys - required_parameters))\n",
    "    if len(required_parameters - supplied_keys)>0: print(\"Need to have:\", str(required_parameters - supplied_keys))\n",
    "    raise RuntimeError(\"Parameters are incorrect\")\n",
    "\n"
   ]
  },
  {
   "cell_type": "code",
   "execution_count": 6,
   "id": "3a028d58",
   "metadata": {
    "execution": {
     "iopub.execute_input": "2022-03-02T16:11:29.472139Z",
     "iopub.status.busy": "2022-03-02T16:11:29.471879Z",
     "iopub.status.idle": "2022-03-02T16:11:29.480549Z",
     "shell.execute_reply": "2022-03-02T16:11:29.480195Z"
    },
    "papermill": {
     "duration": 0.020216,
     "end_time": "2022-03-02T16:11:29.480620",
     "exception": false,
     "start_time": "2022-03-02T16:11:29.460404",
     "status": "completed"
    },
    "tags": []
   },
   "outputs": [],
   "source": [
    "###################################\n",
    "# Set the RNGs and make it all deterministic\n",
    "###################################\n",
    "np.random.seed(p.seed)\n",
    "random.seed(p.seed)\n",
    "torch.manual_seed(p.seed)\n",
    "\n",
    "torch.use_deterministic_algorithms(True) "
   ]
  },
  {
   "cell_type": "code",
   "execution_count": 7,
   "id": "b691acf6",
   "metadata": {
    "execution": {
     "iopub.execute_input": "2022-03-02T16:11:29.512060Z",
     "iopub.status.busy": "2022-03-02T16:11:29.504074Z",
     "iopub.status.idle": "2022-03-02T16:11:29.516209Z",
     "shell.execute_reply": "2022-03-02T16:11:29.516508Z"
    },
    "papermill": {
     "duration": 0.024259,
     "end_time": "2022-03-02T16:11:29.516592",
     "exception": false,
     "start_time": "2022-03-02T16:11:29.492333",
     "status": "completed"
    },
    "tags": []
   },
   "outputs": [],
   "source": [
    "###########################################\n",
    "# The stratified datasets honor this\n",
    "###########################################\n",
    "torch.set_default_dtype(eval(p.torch_default_dtype))"
   ]
  },
  {
   "cell_type": "code",
   "execution_count": 8,
   "id": "b5fba671",
   "metadata": {
    "execution": {
     "iopub.execute_input": "2022-03-02T16:11:29.542831Z",
     "iopub.status.busy": "2022-03-02T16:11:29.542585Z",
     "iopub.status.idle": "2022-03-02T16:11:29.580016Z",
     "shell.execute_reply": "2022-03-02T16:11:29.579603Z"
    },
    "papermill": {
     "duration": 0.049399,
     "end_time": "2022-03-02T16:11:29.580107",
     "exception": false,
     "start_time": "2022-03-02T16:11:29.530708",
     "status": "completed"
    },
    "tags": []
   },
   "outputs": [],
   "source": [
    "###################################\n",
    "# Build the network(s)\n",
    "# Note: It's critical to do this AFTER setting the RNG\n",
    "# (This is due to the randomized initial weights)\n",
    "###################################\n",
    "x_net = build_sequential(p.x_net)"
   ]
  },
  {
   "cell_type": "code",
   "execution_count": 9,
   "id": "5d7e61cc",
   "metadata": {
    "execution": {
     "iopub.execute_input": "2022-03-02T16:11:29.605487Z",
     "iopub.status.busy": "2022-03-02T16:11:29.604991Z",
     "iopub.status.idle": "2022-03-02T16:11:29.615238Z",
     "shell.execute_reply": "2022-03-02T16:11:29.614787Z"
    },
    "papermill": {
     "duration": 0.022053,
     "end_time": "2022-03-02T16:11:29.615348",
     "exception": false,
     "start_time": "2022-03-02T16:11:29.593295",
     "status": "completed"
    },
    "tags": []
   },
   "outputs": [],
   "source": [
    "start_time_secs = time.time()"
   ]
  },
  {
   "cell_type": "code",
   "execution_count": 10,
   "id": "fd5442bc",
   "metadata": {
    "execution": {
     "iopub.execute_input": "2022-03-02T16:11:29.646571Z",
     "iopub.status.busy": "2022-03-02T16:11:29.646184Z",
     "iopub.status.idle": "2022-03-02T16:11:32.889534Z",
     "shell.execute_reply": "2022-03-02T16:11:32.889921Z"
    },
    "papermill": {
     "duration": 3.260301,
     "end_time": "2022-03-02T16:11:32.890049",
     "exception": false,
     "start_time": "2022-03-02T16:11:29.629748",
     "status": "completed"
    },
    "tags": []
   },
   "outputs": [],
   "source": [
    "###################################\n",
    "# Build the dataset\n",
    "###################################\n",
    "\n",
    "if p.x_transforms_source == []: x_transform_source = None\n",
    "else: x_transform_source = get_chained_transform(p.x_transforms_source) \n",
    "\n",
    "if p.x_transforms_target == []: x_transform_target = None\n",
    "else: x_transform_target = get_chained_transform(p.x_transforms_target)\n",
    "\n",
    "if p.episode_transforms_source == []: episode_transform_source = None\n",
    "else: raise Exception(\"episode_transform_source not implemented\")\n",
    "\n",
    "if p.episode_transforms_target == []: episode_transform_target = None\n",
    "else: raise Exception(\"episode_transform_target not implemented\")\n",
    "\n",
    "\n",
    "eaf_source = Episodic_Accessor_Factory(\n",
    "    labels=p.labels_source,\n",
    "    domains=p.domains_source,\n",
    "    num_examples_per_domain_per_label=p.num_examples_per_domain_per_label_source,\n",
    "    iterator_seed=p.seed,\n",
    "    dataset_seed=p.dataset_seed,\n",
    "    n_shot=p.n_shot,\n",
    "    n_way=p.n_way,\n",
    "    n_query=p.n_query,\n",
    "    train_val_test_k_factors=(p.train_k_factor,p.val_k_factor,p.test_k_factor),\n",
    "    pickle_path=os.path.join(get_datasets_base_path(), p.pickle_name),\n",
    "    x_transform_func=x_transform_source,\n",
    "    example_transform_func=episode_transform_source,\n",
    "    \n",
    ")\n",
    "train_original_source, val_original_source, test_original_source = eaf_source.get_train(), eaf_source.get_val(), eaf_source.get_test()\n",
    "\n",
    "\n",
    "eaf_target = Episodic_Accessor_Factory(\n",
    "    labels=p.labels_target,\n",
    "    domains=p.domains_target,\n",
    "    num_examples_per_domain_per_label=p.num_examples_per_domain_per_label_target,\n",
    "    iterator_seed=p.seed,\n",
    "    dataset_seed=p.dataset_seed,\n",
    "    n_shot=p.n_shot,\n",
    "    n_way=p.n_way,\n",
    "    n_query=p.n_query,\n",
    "    train_val_test_k_factors=(p.train_k_factor,p.val_k_factor,p.test_k_factor),\n",
    "    pickle_path=os.path.join(get_datasets_base_path(), p.pickle_name),\n",
    "    x_transform_func=x_transform_target,\n",
    "    example_transform_func=episode_transform_target,\n",
    ")\n",
    "train_original_target, val_original_target, test_original_target = eaf_target.get_train(), eaf_target.get_val(), eaf_target.get_test()\n",
    "\n",
    "\n",
    "transform_lambda = lambda ex: ex[1] # Original is (<domain>, <episode>) so we strip down to episode only\n",
    "\n",
    "train_processed_source = Lazy_Iterable_Wrapper(train_original_source, transform_lambda)\n",
    "val_processed_source   = Lazy_Iterable_Wrapper(val_original_source, transform_lambda)\n",
    "test_processed_source  = Lazy_Iterable_Wrapper(test_original_source, transform_lambda)\n",
    "\n",
    "train_processed_target = Lazy_Iterable_Wrapper(train_original_target, transform_lambda)\n",
    "val_processed_target   = Lazy_Iterable_Wrapper(val_original_target, transform_lambda)\n",
    "test_processed_target  = Lazy_Iterable_Wrapper(test_original_target, transform_lambda)\n",
    "\n",
    "datasets = EasyDict({\n",
    "    \"source\": {\n",
    "        \"original\": {\"train\":train_original_source, \"val\":val_original_source, \"test\":test_original_source},\n",
    "        \"processed\": {\"train\":train_processed_source, \"val\":val_processed_source, \"test\":test_processed_source}\n",
    "    },\n",
    "    \"target\": {\n",
    "        \"original\": {\"train\":train_original_target, \"val\":val_original_target, \"test\":test_original_target},\n",
    "        \"processed\": {\"train\":train_processed_target, \"val\":val_processed_target, \"test\":test_processed_target}\n",
    "    },\n",
    "})"
   ]
  },
  {
   "cell_type": "code",
   "execution_count": 11,
   "id": "296189d9",
   "metadata": {
    "execution": {
     "iopub.execute_input": "2022-03-02T16:11:32.918973Z",
     "iopub.status.busy": "2022-03-02T16:11:32.918718Z",
     "iopub.status.idle": "2022-03-02T16:11:35.420226Z",
     "shell.execute_reply": "2022-03-02T16:11:35.420614Z"
    },
    "papermill": {
     "duration": 2.515805,
     "end_time": "2022-03-02T16:11:35.420739",
     "exception": false,
     "start_time": "2022-03-02T16:11:32.904934",
     "status": "completed"
    },
    "tags": []
   },
   "outputs": [
    {
     "name": "stdout",
     "output_type": "stream",
     "text": [
      "Visually inspect these to see if they line up with expected values given the transforms\n",
      "x_transforms_source []\n",
      "x_transforms_target []\n",
      "Average magnitude, source: 0.004977052\n",
      "Average power, source: 3.101639e-05\n"
     ]
    },
    {
     "name": "stdout",
     "output_type": "stream",
     "text": [
      "Average magnitude, target: 0.0029651737\n",
      "Average power, target: 1.128662e-05\n"
     ]
    }
   ],
   "source": [
    "# Some quick unit tests on the data\n",
    "from steves_utils.transforms import get_average_power, get_average_magnitude\n",
    "\n",
    "q_x, q_y, s_x, s_y, truth = next(iter(train_processed_source))\n",
    "\n",
    "assert q_x.dtype == eval(p.torch_default_dtype)\n",
    "assert s_x.dtype == eval(p.torch_default_dtype)\n",
    "\n",
    "print(\"Visually inspect these to see if they line up with expected values given the transforms\")\n",
    "print('x_transforms_source', p.x_transforms_source)\n",
    "print('x_transforms_target', p.x_transforms_target)\n",
    "print(\"Average magnitude, source:\", get_average_magnitude(q_x[0].numpy()))\n",
    "print(\"Average power, source:\", get_average_power(q_x[0].numpy()))\n",
    "\n",
    "q_x, q_y, s_x, s_y, truth = next(iter(train_processed_target))\n",
    "print(\"Average magnitude, target:\", get_average_magnitude(q_x[0].numpy()))\n",
    "print(\"Average power, target:\", get_average_power(q_x[0].numpy()))\n"
   ]
  },
  {
   "cell_type": "code",
   "execution_count": 12,
   "id": "bbdacba1",
   "metadata": {
    "execution": {
     "iopub.execute_input": "2022-03-02T16:11:35.445794Z",
     "iopub.status.busy": "2022-03-02T16:11:35.445538Z",
     "iopub.status.idle": "2022-03-02T16:11:35.506801Z",
     "shell.execute_reply": "2022-03-02T16:11:35.507182Z"
    },
    "papermill": {
     "duration": 0.07478,
     "end_time": "2022-03-02T16:11:35.507299",
     "exception": false,
     "start_time": "2022-03-02T16:11:35.432519",
     "status": "completed"
    },
    "tags": []
   },
   "outputs": [
    {
     "name": "stdout",
     "output_type": "stream",
     "text": [
      "(2, 256)\n"
     ]
    }
   ],
   "source": [
    "###################################\n",
    "# Build the model\n",
    "###################################\n",
    "model = Steves_Prototypical_Network(x_net, device=p.device, x_shape=(2,256))\n",
    "optimizer = Adam(params=model.parameters(), lr=p.lr)"
   ]
  },
  {
   "cell_type": "code",
   "execution_count": 13,
   "id": "22b39ac5",
   "metadata": {
    "execution": {
     "iopub.execute_input": "2022-03-02T16:11:35.538461Z",
     "iopub.status.busy": "2022-03-02T16:11:35.538206Z",
     "iopub.status.idle": "2022-03-02T16:24:25.294868Z",
     "shell.execute_reply": "2022-03-02T16:24:25.294635Z"
    },
    "papermill": {
     "duration": 769.770878,
     "end_time": "2022-03-02T16:24:25.294924",
     "exception": false,
     "start_time": "2022-03-02T16:11:35.524046",
     "status": "completed"
    },
    "tags": []
   },
   "outputs": [
    {
     "name": "stdout",
     "output_type": "stream",
     "text": [
      "epoch: 1, [batch: 1 / 420], examples_per_second: 9.3610, train_label_loss: 2.2876, \n"
     ]
    },
    {
     "name": "stdout",
     "output_type": "stream",
     "text": [
      "epoch: 1, [batch: 42 / 420], examples_per_second: 841.7463, train_label_loss: 1.4509, \n"
     ]
    },
    {
     "name": "stdout",
     "output_type": "stream",
     "text": [
      "epoch: 1, [batch: 84 / 420], examples_per_second: 916.1322, train_label_loss: 1.5977, \n"
     ]
    },
    {
     "name": "stdout",
     "output_type": "stream",
     "text": [
      "epoch: 1, [batch: 126 / 420], examples_per_second: 991.1602, train_label_loss: 1.3001, \n"
     ]
    },
    {
     "name": "stdout",
     "output_type": "stream",
     "text": [
      "epoch: 1, [batch: 168 / 420], examples_per_second: 1101.7431, train_label_loss: 1.3273, \n"
     ]
    },
    {
     "name": "stdout",
     "output_type": "stream",
     "text": [
      "epoch: 1, [batch: 210 / 420], examples_per_second: 1208.1861, train_label_loss: 1.2646, \n"
     ]
    },
    {
     "name": "stdout",
     "output_type": "stream",
     "text": [
      "epoch: 1, [batch: 252 / 420], examples_per_second: 1423.5697, train_label_loss: 1.3394, \n"
     ]
    },
    {
     "name": "stdout",
     "output_type": "stream",
     "text": [
      "epoch: 1, [batch: 294 / 420], examples_per_second: 1603.8533, train_label_loss: 1.2718, \n"
     ]
    },
    {
     "name": "stdout",
     "output_type": "stream",
     "text": [
      "epoch: 1, [batch: 336 / 420], examples_per_second: 1892.5237, train_label_loss: 1.2801, \n"
     ]
    },
    {
     "name": "stdout",
     "output_type": "stream",
     "text": [
      "epoch: 1, [batch: 378 / 420], examples_per_second: 2323.2169, train_label_loss: 1.3900, \n"
     ]
    },
    {
     "name": "stdout",
     "output_type": "stream",
     "text": [
      "=============================================================\n",
      "epoch: 1, source_val_acc_label: 0.4464, target_val_acc_label: 0.3917, source_val_label_loss: 1.6867, target_val_label_loss: 1.7831, \n",
      "=============================================================\n"
     ]
    },
    {
     "name": "stdout",
     "output_type": "stream",
     "text": [
      "New best\n"
     ]
    },
    {
     "name": "stdout",
     "output_type": "stream",
     "text": [
      "epoch: 2, [batch: 1 / 420], examples_per_second: 5.3154, train_label_loss: 1.5481, \n"
     ]
    },
    {
     "name": "stdout",
     "output_type": "stream",
     "text": [
      "epoch: 2, [batch: 42 / 420], examples_per_second: 825.1747, train_label_loss: 1.3607, \n"
     ]
    },
    {
     "name": "stdout",
     "output_type": "stream",
     "text": [
      "epoch: 2, [batch: 84 / 420], examples_per_second: 902.8747, train_label_loss: 1.6255, \n"
     ]
    },
    {
     "name": "stdout",
     "output_type": "stream",
     "text": [
      "epoch: 2, [batch: 126 / 420], examples_per_second: 1001.4682, train_label_loss: 1.1450, \n"
     ]
    },
    {
     "name": "stdout",
     "output_type": "stream",
     "text": [
      "epoch: 2, [batch: 168 / 420], examples_per_second: 1079.4911, train_label_loss: 1.1741, \n"
     ]
    },
    {
     "name": "stdout",
     "output_type": "stream",
     "text": [
      "epoch: 2, [batch: 210 / 420], examples_per_second: 1218.1570, train_label_loss: 1.2680, \n"
     ]
    },
    {
     "name": "stdout",
     "output_type": "stream",
     "text": [
      "epoch: 2, [batch: 252 / 420], examples_per_second: 1388.5409, train_label_loss: 1.3329, \n"
     ]
    },
    {
     "name": "stdout",
     "output_type": "stream",
     "text": [
      "epoch: 2, [batch: 294 / 420], examples_per_second: 1644.5660, train_label_loss: 1.3639, \n"
     ]
    },
    {
     "name": "stdout",
     "output_type": "stream",
     "text": [
      "epoch: 2, [batch: 336 / 420], examples_per_second: 1946.8126, train_label_loss: 1.4800, \n"
     ]
    },
    {
     "name": "stdout",
     "output_type": "stream",
     "text": [
      "epoch: 2, [batch: 378 / 420], examples_per_second: 2361.3265, train_label_loss: 1.1947, \n"
     ]
    },
    {
     "name": "stdout",
     "output_type": "stream",
     "text": [
      "=============================================================\n",
      "epoch: 2, source_val_acc_label: 0.4602, target_val_acc_label: 0.3812, source_val_label_loss: 1.3022, target_val_label_loss: 1.6790, \n",
      "=============================================================\n"
     ]
    },
    {
     "name": "stdout",
     "output_type": "stream",
     "text": [
      "New best\n"
     ]
    },
    {
     "name": "stdout",
     "output_type": "stream",
     "text": [
      "epoch: 3, [batch: 1 / 420], examples_per_second: 5.2683, train_label_loss: 1.2384, \n"
     ]
    },
    {
     "name": "stdout",
     "output_type": "stream",
     "text": [
      "epoch: 3, [batch: 42 / 420], examples_per_second: 816.4328, train_label_loss: 1.3097, \n"
     ]
    },
    {
     "name": "stdout",
     "output_type": "stream",
     "text": [
      "epoch: 3, [batch: 84 / 420], examples_per_second: 894.1631, train_label_loss: 1.3374, \n"
     ]
    },
    {
     "name": "stdout",
     "output_type": "stream",
     "text": [
      "epoch: 3, [batch: 126 / 420], examples_per_second: 958.3234, train_label_loss: 1.2324, \n"
     ]
    },
    {
     "name": "stdout",
     "output_type": "stream",
     "text": [
      "epoch: 3, [batch: 168 / 420], examples_per_second: 1079.0683, train_label_loss: 1.1303, \n"
     ]
    },
    {
     "name": "stdout",
     "output_type": "stream",
     "text": [
      "epoch: 3, [batch: 210 / 420], examples_per_second: 1178.1372, train_label_loss: 1.1632, \n"
     ]
    },
    {
     "name": "stdout",
     "output_type": "stream",
     "text": [
      "epoch: 3, [batch: 252 / 420], examples_per_second: 1342.5625, train_label_loss: 1.1328, \n"
     ]
    },
    {
     "name": "stdout",
     "output_type": "stream",
     "text": [
      "epoch: 3, [batch: 294 / 420], examples_per_second: 1594.5616, train_label_loss: 1.1090, \n"
     ]
    },
    {
     "name": "stdout",
     "output_type": "stream",
     "text": [
      "epoch: 3, [batch: 336 / 420], examples_per_second: 1927.3950, train_label_loss: 1.2861, \n"
     ]
    },
    {
     "name": "stdout",
     "output_type": "stream",
     "text": [
      "epoch: 3, [batch: 378 / 420], examples_per_second: 2333.4820, train_label_loss: 0.9309, \n"
     ]
    },
    {
     "name": "stdout",
     "output_type": "stream",
     "text": [
      "=============================================================\n",
      "epoch: 3, source_val_acc_label: 0.5766, target_val_acc_label: 0.4851, source_val_label_loss: 1.0821, target_val_label_loss: 1.5228, \n",
      "=============================================================\n"
     ]
    },
    {
     "name": "stdout",
     "output_type": "stream",
     "text": [
      "New best\n"
     ]
    },
    {
     "name": "stdout",
     "output_type": "stream",
     "text": [
      "epoch: 4, [batch: 1 / 420], examples_per_second: 5.2843, train_label_loss: 1.0729, \n"
     ]
    },
    {
     "name": "stdout",
     "output_type": "stream",
     "text": [
      "epoch: 4, [batch: 42 / 420], examples_per_second: 836.6176, train_label_loss: 1.4159, \n"
     ]
    },
    {
     "name": "stdout",
     "output_type": "stream",
     "text": [
      "epoch: 4, [batch: 84 / 420], examples_per_second: 905.2881, train_label_loss: 0.8415, \n"
     ]
    },
    {
     "name": "stdout",
     "output_type": "stream",
     "text": [
      "epoch: 4, [batch: 126 / 420], examples_per_second: 1005.8107, train_label_loss: 1.2557, \n"
     ]
    },
    {
     "name": "stdout",
     "output_type": "stream",
     "text": [
      "epoch: 4, [batch: 168 / 420], examples_per_second: 1082.3813, train_label_loss: 1.3876, \n"
     ]
    },
    {
     "name": "stdout",
     "output_type": "stream",
     "text": [
      "epoch: 4, [batch: 210 / 420], examples_per_second: 1228.5946, train_label_loss: 0.5895, \n"
     ]
    },
    {
     "name": "stdout",
     "output_type": "stream",
     "text": [
      "epoch: 4, [batch: 252 / 420], examples_per_second: 1374.6836, train_label_loss: 1.1504, \n"
     ]
    },
    {
     "name": "stdout",
     "output_type": "stream",
     "text": [
      "epoch: 4, [batch: 294 / 420], examples_per_second: 1601.1899, train_label_loss: 1.3848, \n"
     ]
    },
    {
     "name": "stdout",
     "output_type": "stream",
     "text": [
      "epoch: 4, [batch: 336 / 420], examples_per_second: 1975.5316, train_label_loss: 1.4370, \n"
     ]
    },
    {
     "name": "stdout",
     "output_type": "stream",
     "text": [
      "epoch: 4, [batch: 378 / 420], examples_per_second: 2371.0292, train_label_loss: 0.7515, \n"
     ]
    },
    {
     "name": "stdout",
     "output_type": "stream",
     "text": [
      "=============================================================\n",
      "epoch: 4, source_val_acc_label: 0.6479, target_val_acc_label: 0.5444, source_val_label_loss: 0.9147, target_val_label_loss: 1.3526, \n",
      "=============================================================\n"
     ]
    },
    {
     "name": "stdout",
     "output_type": "stream",
     "text": [
      "New best\n"
     ]
    },
    {
     "name": "stdout",
     "output_type": "stream",
     "text": [
      "epoch: 5, [batch: 1 / 420], examples_per_second: 5.2558, train_label_loss: 0.7909, \n"
     ]
    },
    {
     "name": "stdout",
     "output_type": "stream",
     "text": [
      "epoch: 5, [batch: 42 / 420], examples_per_second: 820.3053, train_label_loss: 0.7686, \n"
     ]
    },
    {
     "name": "stdout",
     "output_type": "stream",
     "text": [
      "epoch: 5, [batch: 84 / 420], examples_per_second: 905.6725, train_label_loss: 0.5324, \n"
     ]
    },
    {
     "name": "stdout",
     "output_type": "stream",
     "text": [
      "epoch: 5, [batch: 126 / 420], examples_per_second: 991.9517, train_label_loss: 0.8115, \n"
     ]
    },
    {
     "name": "stdout",
     "output_type": "stream",
     "text": [
      "epoch: 5, [batch: 168 / 420], examples_per_second: 1092.2541, train_label_loss: 0.8144, \n"
     ]
    },
    {
     "name": "stdout",
     "output_type": "stream",
     "text": [
      "epoch: 5, [batch: 210 / 420], examples_per_second: 1212.9657, train_label_loss: 1.2453, \n"
     ]
    },
    {
     "name": "stdout",
     "output_type": "stream",
     "text": [
      "epoch: 5, [batch: 252 / 420], examples_per_second: 1372.9866, train_label_loss: 0.6907, \n"
     ]
    },
    {
     "name": "stdout",
     "output_type": "stream",
     "text": [
      "epoch: 5, [batch: 294 / 420], examples_per_second: 1604.3539, train_label_loss: 1.2141, \n"
     ]
    },
    {
     "name": "stdout",
     "output_type": "stream",
     "text": [
      "epoch: 5, [batch: 336 / 420], examples_per_second: 1909.7879, train_label_loss: 0.9712, \n"
     ]
    },
    {
     "name": "stdout",
     "output_type": "stream",
     "text": [
      "epoch: 5, [batch: 378 / 420], examples_per_second: 2410.4173, train_label_loss: 1.1538, \n"
     ]
    },
    {
     "name": "stdout",
     "output_type": "stream",
     "text": [
      "=============================================================\n",
      "epoch: 5, source_val_acc_label: 0.6828, target_val_acc_label: 0.5952, source_val_label_loss: 0.8373, target_val_label_loss: 1.2344, \n",
      "=============================================================\n"
     ]
    },
    {
     "name": "stdout",
     "output_type": "stream",
     "text": [
      "New best\n"
     ]
    },
    {
     "name": "stdout",
     "output_type": "stream",
     "text": [
      "epoch: 6, [batch: 1 / 420], examples_per_second: 5.2529, train_label_loss: 0.7595, \n"
     ]
    },
    {
     "name": "stdout",
     "output_type": "stream",
     "text": [
      "epoch: 6, [batch: 42 / 420], examples_per_second: 820.8666, train_label_loss: 0.6854, \n"
     ]
    },
    {
     "name": "stdout",
     "output_type": "stream",
     "text": [
      "epoch: 6, [batch: 84 / 420], examples_per_second: 891.2107, train_label_loss: 1.1538, \n"
     ]
    },
    {
     "name": "stdout",
     "output_type": "stream",
     "text": [
      "epoch: 6, [batch: 126 / 420], examples_per_second: 982.6189, train_label_loss: 0.5623, \n"
     ]
    },
    {
     "name": "stdout",
     "output_type": "stream",
     "text": [
      "epoch: 6, [batch: 168 / 420], examples_per_second: 1076.5736, train_label_loss: 0.8767, \n"
     ]
    },
    {
     "name": "stdout",
     "output_type": "stream",
     "text": [
      "epoch: 6, [batch: 210 / 420], examples_per_second: 1199.0972, train_label_loss: 0.8749, \n"
     ]
    },
    {
     "name": "stdout",
     "output_type": "stream",
     "text": [
      "epoch: 6, [batch: 252 / 420], examples_per_second: 1350.4103, train_label_loss: 0.5369, \n"
     ]
    },
    {
     "name": "stdout",
     "output_type": "stream",
     "text": [
      "epoch: 6, [batch: 294 / 420], examples_per_second: 1658.9762, train_label_loss: 0.7050, \n"
     ]
    },
    {
     "name": "stdout",
     "output_type": "stream",
     "text": [
      "epoch: 6, [batch: 336 / 420], examples_per_second: 1921.8456, train_label_loss: 1.0498, \n"
     ]
    },
    {
     "name": "stdout",
     "output_type": "stream",
     "text": [
      "epoch: 6, [batch: 378 / 420], examples_per_second: 2333.0582, train_label_loss: 1.6917, \n"
     ]
    },
    {
     "name": "stdout",
     "output_type": "stream",
     "text": [
      "=============================================================\n",
      "epoch: 6, source_val_acc_label: 0.6783, target_val_acc_label: 0.5837, source_val_label_loss: 0.8528, target_val_label_loss: 1.2201, \n",
      "=============================================================\n"
     ]
    },
    {
     "name": "stdout",
     "output_type": "stream",
     "text": [
      "New best\n"
     ]
    },
    {
     "name": "stdout",
     "output_type": "stream",
     "text": [
      "epoch: 7, [batch: 1 / 420], examples_per_second: 5.2829, train_label_loss: 0.4064, \n"
     ]
    },
    {
     "name": "stdout",
     "output_type": "stream",
     "text": [
      "epoch: 7, [batch: 42 / 420], examples_per_second: 825.6528, train_label_loss: 0.6524, \n"
     ]
    },
    {
     "name": "stdout",
     "output_type": "stream",
     "text": [
      "epoch: 7, [batch: 84 / 420], examples_per_second: 902.0239, train_label_loss: 0.5552, \n"
     ]
    },
    {
     "name": "stdout",
     "output_type": "stream",
     "text": [
      "epoch: 7, [batch: 126 / 420], examples_per_second: 988.9569, train_label_loss: 1.0248, \n"
     ]
    },
    {
     "name": "stdout",
     "output_type": "stream",
     "text": [
      "epoch: 7, [batch: 168 / 420], examples_per_second: 1085.0328, train_label_loss: 0.4048, \n"
     ]
    },
    {
     "name": "stdout",
     "output_type": "stream",
     "text": [
      "epoch: 7, [batch: 210 / 420], examples_per_second: 1225.1887, train_label_loss: 0.7178, \n"
     ]
    },
    {
     "name": "stdout",
     "output_type": "stream",
     "text": [
      "epoch: 7, [batch: 252 / 420], examples_per_second: 1343.3306, train_label_loss: 0.9793, \n"
     ]
    },
    {
     "name": "stdout",
     "output_type": "stream",
     "text": [
      "epoch: 7, [batch: 294 / 420], examples_per_second: 1620.7069, train_label_loss: 1.1525, \n"
     ]
    },
    {
     "name": "stdout",
     "output_type": "stream",
     "text": [
      "epoch: 7, [batch: 336 / 420], examples_per_second: 1927.1488, train_label_loss: 0.7261, \n"
     ]
    },
    {
     "name": "stdout",
     "output_type": "stream",
     "text": [
      "epoch: 7, [batch: 378 / 420], examples_per_second: 2430.6905, train_label_loss: 1.0389, \n"
     ]
    },
    {
     "name": "stdout",
     "output_type": "stream",
     "text": [
      "=============================================================\n",
      "epoch: 7, source_val_acc_label: 0.7071, target_val_acc_label: 0.6024, source_val_label_loss: 0.7838, target_val_label_loss: 1.1883, \n",
      "=============================================================\n"
     ]
    },
    {
     "name": "stdout",
     "output_type": "stream",
     "text": [
      "New best\n"
     ]
    },
    {
     "name": "stdout",
     "output_type": "stream",
     "text": [
      "epoch: 8, [batch: 1 / 420], examples_per_second: 5.3112, train_label_loss: 0.3215, \n"
     ]
    },
    {
     "name": "stdout",
     "output_type": "stream",
     "text": [
      "epoch: 8, [batch: 42 / 420], examples_per_second: 835.3820, train_label_loss: 0.6966, \n"
     ]
    },
    {
     "name": "stdout",
     "output_type": "stream",
     "text": [
      "epoch: 8, [batch: 84 / 420], examples_per_second: 913.2580, train_label_loss: 0.4775, \n"
     ]
    },
    {
     "name": "stdout",
     "output_type": "stream",
     "text": [
      "epoch: 8, [batch: 126 / 420], examples_per_second: 972.7725, train_label_loss: 0.9673, \n"
     ]
    },
    {
     "name": "stdout",
     "output_type": "stream",
     "text": [
      "epoch: 8, [batch: 168 / 420], examples_per_second: 1122.8199, train_label_loss: 0.4087, \n"
     ]
    },
    {
     "name": "stdout",
     "output_type": "stream",
     "text": [
      "epoch: 8, [batch: 210 / 420], examples_per_second: 1220.7648, train_label_loss: 0.9343, \n"
     ]
    },
    {
     "name": "stdout",
     "output_type": "stream",
     "text": [
      "epoch: 8, [batch: 252 / 420], examples_per_second: 1402.1294, train_label_loss: 0.7901, \n"
     ]
    },
    {
     "name": "stdout",
     "output_type": "stream",
     "text": [
      "epoch: 8, [batch: 294 / 420], examples_per_second: 1632.2549, train_label_loss: 0.8188, \n"
     ]
    },
    {
     "name": "stdout",
     "output_type": "stream",
     "text": [
      "epoch: 8, [batch: 336 / 420], examples_per_second: 1896.1859, train_label_loss: 0.4812, \n"
     ]
    },
    {
     "name": "stdout",
     "output_type": "stream",
     "text": [
      "epoch: 8, [batch: 378 / 420], examples_per_second: 2144.8154, train_label_loss: 0.7540, \n"
     ]
    },
    {
     "name": "stdout",
     "output_type": "stream",
     "text": [
      "=============================================================\n",
      "epoch: 8, source_val_acc_label: 0.7089, target_val_acc_label: 0.6097, source_val_label_loss: 0.7648, target_val_label_loss: 1.1670, \n",
      "=============================================================\n"
     ]
    },
    {
     "name": "stdout",
     "output_type": "stream",
     "text": [
      "New best\n"
     ]
    },
    {
     "name": "stdout",
     "output_type": "stream",
     "text": [
      "epoch: 9, [batch: 1 / 420], examples_per_second: 5.2925, train_label_loss: 0.5586, \n"
     ]
    },
    {
     "name": "stdout",
     "output_type": "stream",
     "text": [
      "epoch: 9, [batch: 42 / 420], examples_per_second: 846.9197, train_label_loss: 0.5283, \n"
     ]
    },
    {
     "name": "stdout",
     "output_type": "stream",
     "text": [
      "epoch: 9, [batch: 84 / 420], examples_per_second: 914.5428, train_label_loss: 0.4379, \n"
     ]
    },
    {
     "name": "stdout",
     "output_type": "stream",
     "text": [
      "epoch: 9, [batch: 126 / 420], examples_per_second: 977.6693, train_label_loss: 0.5710, \n"
     ]
    },
    {
     "name": "stdout",
     "output_type": "stream",
     "text": [
      "epoch: 9, [batch: 168 / 420], examples_per_second: 1075.0508, train_label_loss: 0.7444, \n"
     ]
    },
    {
     "name": "stdout",
     "output_type": "stream",
     "text": [
      "epoch: 9, [batch: 210 / 420], examples_per_second: 1214.3129, train_label_loss: 0.2618, \n"
     ]
    },
    {
     "name": "stdout",
     "output_type": "stream",
     "text": [
      "epoch: 9, [batch: 252 / 420], examples_per_second: 1366.4016, train_label_loss: 0.7228, \n"
     ]
    },
    {
     "name": "stdout",
     "output_type": "stream",
     "text": [
      "epoch: 9, [batch: 294 / 420], examples_per_second: 1623.4388, train_label_loss: 0.8849, \n"
     ]
    },
    {
     "name": "stdout",
     "output_type": "stream",
     "text": [
      "epoch: 9, [batch: 336 / 420], examples_per_second: 1895.3013, train_label_loss: 0.9073, \n"
     ]
    },
    {
     "name": "stdout",
     "output_type": "stream",
     "text": [
      "epoch: 9, [batch: 378 / 420], examples_per_second: 2361.5856, train_label_loss: 0.9166, \n"
     ]
    },
    {
     "name": "stdout",
     "output_type": "stream",
     "text": [
      "=============================================================\n",
      "epoch: 9, source_val_acc_label: 0.7075, target_val_acc_label: 0.6120, source_val_label_loss: 0.7587, target_val_label_loss: 1.1784, \n",
      "=============================================================\n"
     ]
    },
    {
     "name": "stdout",
     "output_type": "stream",
     "text": [
      "epoch: 10, [batch: 1 / 420], examples_per_second: 5.2708, train_label_loss: 0.6323, \n"
     ]
    },
    {
     "name": "stdout",
     "output_type": "stream",
     "text": [
      "epoch: 10, [batch: 42 / 420], examples_per_second: 833.1154, train_label_loss: 0.3492, \n"
     ]
    },
    {
     "name": "stdout",
     "output_type": "stream",
     "text": [
      "epoch: 10, [batch: 84 / 420], examples_per_second: 897.3261, train_label_loss: 0.6470, \n"
     ]
    },
    {
     "name": "stdout",
     "output_type": "stream",
     "text": [
      "epoch: 10, [batch: 126 / 420], examples_per_second: 965.9500, train_label_loss: 0.4746, \n"
     ]
    },
    {
     "name": "stdout",
     "output_type": "stream",
     "text": [
      "epoch: 10, [batch: 168 / 420], examples_per_second: 1100.6330, train_label_loss: 0.6385, \n"
     ]
    },
    {
     "name": "stdout",
     "output_type": "stream",
     "text": [
      "epoch: 10, [batch: 210 / 420], examples_per_second: 1208.7985, train_label_loss: 0.4947, \n"
     ]
    },
    {
     "name": "stdout",
     "output_type": "stream",
     "text": [
      "epoch: 10, [batch: 252 / 420], examples_per_second: 1371.4247, train_label_loss: 0.6638, \n"
     ]
    },
    {
     "name": "stdout",
     "output_type": "stream",
     "text": [
      "epoch: 10, [batch: 294 / 420], examples_per_second: 1626.7685, train_label_loss: 0.5991, \n"
     ]
    },
    {
     "name": "stdout",
     "output_type": "stream",
     "text": [
      "epoch: 10, [batch: 336 / 420], examples_per_second: 1917.0325, train_label_loss: 0.4683, \n"
     ]
    },
    {
     "name": "stdout",
     "output_type": "stream",
     "text": [
      "epoch: 10, [batch: 378 / 420], examples_per_second: 2402.1574, train_label_loss: 0.7469, \n"
     ]
    },
    {
     "name": "stdout",
     "output_type": "stream",
     "text": [
      "=============================================================\n",
      "epoch: 10, source_val_acc_label: 0.7161, target_val_acc_label: 0.6108, source_val_label_loss: 0.7406, target_val_label_loss: 1.1349, \n",
      "=============================================================\n"
     ]
    },
    {
     "name": "stdout",
     "output_type": "stream",
     "text": [
      "New best\n"
     ]
    },
    {
     "name": "stdout",
     "output_type": "stream",
     "text": [
      "epoch: 11, [batch: 1 / 420], examples_per_second: 5.2426, train_label_loss: 0.5976, \n"
     ]
    },
    {
     "name": "stdout",
     "output_type": "stream",
     "text": [
      "epoch: 11, [batch: 42 / 420], examples_per_second: 825.2947, train_label_loss: 0.5893, \n"
     ]
    },
    {
     "name": "stdout",
     "output_type": "stream",
     "text": [
      "epoch: 11, [batch: 84 / 420], examples_per_second: 903.0863, train_label_loss: 0.8878, \n"
     ]
    },
    {
     "name": "stdout",
     "output_type": "stream",
     "text": [
      "epoch: 11, [batch: 126 / 420], examples_per_second: 990.5746, train_label_loss: 0.4238, \n"
     ]
    },
    {
     "name": "stdout",
     "output_type": "stream",
     "text": [
      "epoch: 11, [batch: 168 / 420], examples_per_second: 1085.5287, train_label_loss: 0.3982, \n"
     ]
    },
    {
     "name": "stdout",
     "output_type": "stream",
     "text": [
      "epoch: 11, [batch: 210 / 420], examples_per_second: 1221.8541, train_label_loss: 0.5231, \n"
     ]
    },
    {
     "name": "stdout",
     "output_type": "stream",
     "text": [
      "epoch: 11, [batch: 252 / 420], examples_per_second: 1377.4337, train_label_loss: 0.3263, \n"
     ]
    },
    {
     "name": "stdout",
     "output_type": "stream",
     "text": [
      "epoch: 11, [batch: 294 / 420], examples_per_second: 1619.0047, train_label_loss: 0.3069, \n"
     ]
    },
    {
     "name": "stdout",
     "output_type": "stream",
     "text": [
      "epoch: 11, [batch: 336 / 420], examples_per_second: 1908.7990, train_label_loss: 0.6113, \n"
     ]
    },
    {
     "name": "stdout",
     "output_type": "stream",
     "text": [
      "epoch: 11, [batch: 378 / 420], examples_per_second: 2290.9627, train_label_loss: 0.7814, \n"
     ]
    },
    {
     "name": "stdout",
     "output_type": "stream",
     "text": [
      "=============================================================\n",
      "epoch: 11, source_val_acc_label: 0.7184, target_val_acc_label: 0.6134, source_val_label_loss: 0.7489, target_val_label_loss: 1.1726, \n",
      "=============================================================\n"
     ]
    },
    {
     "name": "stdout",
     "output_type": "stream",
     "text": [
      "epoch: 12, [batch: 1 / 420], examples_per_second: 5.2960, train_label_loss: 0.4699, \n"
     ]
    },
    {
     "name": "stdout",
     "output_type": "stream",
     "text": [
      "epoch: 12, [batch: 42 / 420], examples_per_second: 812.1779, train_label_loss: 0.3719, \n"
     ]
    },
    {
     "name": "stdout",
     "output_type": "stream",
     "text": [
      "epoch: 12, [batch: 84 / 420], examples_per_second: 889.5965, train_label_loss: 0.5329, \n"
     ]
    },
    {
     "name": "stdout",
     "output_type": "stream",
     "text": [
      "epoch: 12, [batch: 126 / 420], examples_per_second: 983.7430, train_label_loss: 0.5991, \n"
     ]
    },
    {
     "name": "stdout",
     "output_type": "stream",
     "text": [
      "epoch: 12, [batch: 168 / 420], examples_per_second: 1088.5798, train_label_loss: 0.6238, \n"
     ]
    },
    {
     "name": "stdout",
     "output_type": "stream",
     "text": [
      "epoch: 12, [batch: 210 / 420], examples_per_second: 1182.6681, train_label_loss: 0.4420, \n"
     ]
    },
    {
     "name": "stdout",
     "output_type": "stream",
     "text": [
      "epoch: 12, [batch: 252 / 420], examples_per_second: 1379.5531, train_label_loss: 0.5727, \n"
     ]
    },
    {
     "name": "stdout",
     "output_type": "stream",
     "text": [
      "epoch: 12, [batch: 294 / 420], examples_per_second: 1619.9134, train_label_loss: 0.5995, \n"
     ]
    },
    {
     "name": "stdout",
     "output_type": "stream",
     "text": [
      "epoch: 12, [batch: 336 / 420], examples_per_second: 1924.4477, train_label_loss: 0.3567, \n"
     ]
    },
    {
     "name": "stdout",
     "output_type": "stream",
     "text": [
      "epoch: 12, [batch: 378 / 420], examples_per_second: 2374.5376, train_label_loss: 0.5227, \n"
     ]
    },
    {
     "name": "stdout",
     "output_type": "stream",
     "text": [
      "=============================================================\n",
      "epoch: 12, source_val_acc_label: 0.7241, target_val_acc_label: 0.6207, source_val_label_loss: 0.7676, target_val_label_loss: 1.1566, \n",
      "=============================================================\n"
     ]
    },
    {
     "name": "stdout",
     "output_type": "stream",
     "text": [
      "epoch: 13, [batch: 1 / 420], examples_per_second: 5.2678, train_label_loss: 0.4125, \n"
     ]
    },
    {
     "name": "stdout",
     "output_type": "stream",
     "text": [
      "epoch: 13, [batch: 42 / 420], examples_per_second: 832.0843, train_label_loss: 0.5510, \n"
     ]
    },
    {
     "name": "stdout",
     "output_type": "stream",
     "text": [
      "epoch: 13, [batch: 84 / 420], examples_per_second: 881.9559, train_label_loss: 0.3948, \n"
     ]
    },
    {
     "name": "stdout",
     "output_type": "stream",
     "text": [
      "epoch: 13, [batch: 126 / 420], examples_per_second: 982.8215, train_label_loss: 0.2689, \n"
     ]
    },
    {
     "name": "stdout",
     "output_type": "stream",
     "text": [
      "epoch: 13, [batch: 168 / 420], examples_per_second: 1075.7418, train_label_loss: 0.5141, \n"
     ]
    },
    {
     "name": "stdout",
     "output_type": "stream",
     "text": [
      "epoch: 13, [batch: 210 / 420], examples_per_second: 1216.6509, train_label_loss: 0.5604, \n"
     ]
    },
    {
     "name": "stdout",
     "output_type": "stream",
     "text": [
      "epoch: 13, [batch: 252 / 420], examples_per_second: 1360.4147, train_label_loss: 0.2448, \n"
     ]
    },
    {
     "name": "stdout",
     "output_type": "stream",
     "text": [
      "epoch: 13, [batch: 294 / 420], examples_per_second: 1613.8678, train_label_loss: 0.7304, \n"
     ]
    },
    {
     "name": "stdout",
     "output_type": "stream",
     "text": [
      "epoch: 13, [batch: 336 / 420], examples_per_second: 1894.9537, train_label_loss: 0.4374, \n"
     ]
    },
    {
     "name": "stdout",
     "output_type": "stream",
     "text": [
      "epoch: 13, [batch: 378 / 420], examples_per_second: 2389.3836, train_label_loss: 0.4456, \n"
     ]
    },
    {
     "name": "stdout",
     "output_type": "stream",
     "text": [
      "=============================================================\n",
      "epoch: 13, source_val_acc_label: 0.7076, target_val_acc_label: 0.5757, source_val_label_loss: 0.7810, target_val_label_loss: 1.3052, \n",
      "=============================================================\n"
     ]
    },
    {
     "name": "stdout",
     "output_type": "stream",
     "text": [
      "epoch: 14, [batch: 1 / 420], examples_per_second: 5.2632, train_label_loss: 0.3274, \n"
     ]
    },
    {
     "name": "stdout",
     "output_type": "stream",
     "text": [
      "epoch: 14, [batch: 42 / 420], examples_per_second: 821.4310, train_label_loss: 0.2855, \n"
     ]
    },
    {
     "name": "stdout",
     "output_type": "stream",
     "text": [
      "epoch: 14, [batch: 84 / 420], examples_per_second: 896.8696, train_label_loss: 0.4856, \n"
     ]
    },
    {
     "name": "stdout",
     "output_type": "stream",
     "text": [
      "epoch: 14, [batch: 126 / 420], examples_per_second: 970.4382, train_label_loss: 0.4526, \n"
     ]
    },
    {
     "name": "stdout",
     "output_type": "stream",
     "text": [
      "epoch: 14, [batch: 168 / 420], examples_per_second: 1084.2228, train_label_loss: 0.5333, \n"
     ]
    },
    {
     "name": "stdout",
     "output_type": "stream",
     "text": [
      "epoch: 14, [batch: 210 / 420], examples_per_second: 1185.4973, train_label_loss: 0.4080, \n"
     ]
    },
    {
     "name": "stdout",
     "output_type": "stream",
     "text": [
      "epoch: 14, [batch: 252 / 420], examples_per_second: 1367.8216, train_label_loss: 0.4008, \n"
     ]
    },
    {
     "name": "stdout",
     "output_type": "stream",
     "text": [
      "epoch: 14, [batch: 294 / 420], examples_per_second: 1645.0805, train_label_loss: 0.4287, \n"
     ]
    },
    {
     "name": "stdout",
     "output_type": "stream",
     "text": [
      "epoch: 14, [batch: 336 / 420], examples_per_second: 1882.7982, train_label_loss: 0.9873, \n"
     ]
    },
    {
     "name": "stdout",
     "output_type": "stream",
     "text": [
      "epoch: 14, [batch: 378 / 420], examples_per_second: 2319.7358, train_label_loss: 0.4840, \n"
     ]
    },
    {
     "name": "stdout",
     "output_type": "stream",
     "text": [
      "=============================================================\n",
      "epoch: 14, source_val_acc_label: 0.7123, target_val_acc_label: 0.6134, source_val_label_loss: 0.7902, target_val_label_loss: 1.2277, \n",
      "=============================================================\n"
     ]
    },
    {
     "name": "stdout",
     "output_type": "stream",
     "text": [
      "Patience (3) exhausted\n"
     ]
    }
   ],
   "source": [
    "###################################\n",
    "# train\n",
    "###################################\n",
    "jig = PTN_Train_Eval_Test_Jig(model, p.BEST_MODEL_PATH, p.device)\n",
    "\n",
    "jig.train(\n",
    "    train_iterable=datasets.source.processed.train,\n",
    "    source_val_iterable=datasets.source.processed.val,\n",
    "    target_val_iterable=datasets.target.processed.val,\n",
    "    num_epochs=p.n_epoch,\n",
    "    num_logs_per_epoch=p.NUM_LOGS_PER_EPOCH,\n",
    "    patience=p.patience,\n",
    "    optimizer=optimizer,\n",
    "    criteria_for_best=p.criteria_for_best,\n",
    ")"
   ]
  },
  {
   "cell_type": "code",
   "execution_count": 14,
   "id": "31e8fabf",
   "metadata": {
    "execution": {
     "iopub.execute_input": "2022-03-02T16:24:25.378326Z",
     "iopub.status.busy": "2022-03-02T16:24:25.378069Z",
     "iopub.status.idle": "2022-03-02T16:24:25.389483Z",
     "shell.execute_reply": "2022-03-02T16:24:25.389866Z"
    },
    "papermill": {
     "duration": 0.054974,
     "end_time": "2022-03-02T16:24:25.389975",
     "exception": false,
     "start_time": "2022-03-02T16:24:25.335001",
     "status": "completed"
    },
    "tags": []
   },
   "outputs": [],
   "source": [
    "total_experiment_time_secs = time.time() - start_time_secs"
   ]
  },
  {
   "cell_type": "code",
   "execution_count": 15,
   "id": "87b9595b",
   "metadata": {
    "execution": {
     "iopub.execute_input": "2022-03-02T16:24:25.480157Z",
     "iopub.status.busy": "2022-03-02T16:24:25.479894Z",
     "iopub.status.idle": "2022-03-02T16:25:55.292098Z",
     "shell.execute_reply": "2022-03-02T16:25:55.291588Z"
    },
    "papermill": {
     "duration": 89.857747,
     "end_time": "2022-03-02T16:25:55.292207",
     "exception": false,
     "start_time": "2022-03-02T16:24:25.434460",
     "status": "completed"
    },
    "tags": []
   },
   "outputs": [],
   "source": [
    "###################################\n",
    "# Evaluate the model\n",
    "###################################\n",
    "source_test_label_accuracy, source_test_label_loss = jig.test(datasets.source.processed.test)\n",
    "target_test_label_accuracy, target_test_label_loss = jig.test(datasets.target.processed.test)\n",
    "\n",
    "source_val_label_accuracy, source_val_label_loss = jig.test(datasets.source.processed.val)\n",
    "target_val_label_accuracy, target_val_label_loss = jig.test(datasets.target.processed.val)\n",
    "\n",
    "history = jig.get_history()\n",
    "\n",
    "total_epochs_trained = len(history[\"epoch_indices\"])\n",
    "\n",
    "val_dl = Iterable_Aggregator((datasets.source.original.val,datasets.target.original.val))\n",
    "\n",
    "confusion = ptn_confusion_by_domain_over_dataloader(model, p.device, val_dl)\n",
    "per_domain_accuracy = per_domain_accuracy_from_confusion(confusion)\n",
    "\n",
    "# Add a key to per_domain_accuracy for if it was a source domain\n",
    "for domain, accuracy in per_domain_accuracy.items():\n",
    "    per_domain_accuracy[domain] = {\n",
    "        \"accuracy\": accuracy,\n",
    "        \"source?\": domain in p.domains_source\n",
    "    }\n",
    "\n",
    "# Do an independent accuracy assesment JUST TO BE SURE!\n",
    "# _source_test_label_accuracy = independent_accuracy_assesment(model, datasets.source.processed.test, p.device)\n",
    "# _target_test_label_accuracy = independent_accuracy_assesment(model, datasets.target.processed.test, p.device)\n",
    "# _source_val_label_accuracy = independent_accuracy_assesment(model, datasets.source.processed.val, p.device)\n",
    "# _target_val_label_accuracy = independent_accuracy_assesment(model, datasets.target.processed.val, p.device)\n",
    "\n",
    "# assert(_source_test_label_accuracy == source_test_label_accuracy)\n",
    "# assert(_target_test_label_accuracy == target_test_label_accuracy)\n",
    "# assert(_source_val_label_accuracy == source_val_label_accuracy)\n",
    "# assert(_target_val_label_accuracy == target_val_label_accuracy)\n",
    "\n",
    "experiment = {\n",
    "    \"experiment_name\": p.experiment_name,\n",
    "    \"parameters\": dict(p),\n",
    "    \"results\": {\n",
    "        \"source_test_label_accuracy\": source_test_label_accuracy,\n",
    "        \"source_test_label_loss\": source_test_label_loss,\n",
    "        \"target_test_label_accuracy\": target_test_label_accuracy,\n",
    "        \"target_test_label_loss\": target_test_label_loss,\n",
    "        \"source_val_label_accuracy\": source_val_label_accuracy,\n",
    "        \"source_val_label_loss\": source_val_label_loss,\n",
    "        \"target_val_label_accuracy\": target_val_label_accuracy,\n",
    "        \"target_val_label_loss\": target_val_label_loss,\n",
    "        \"total_epochs_trained\": total_epochs_trained,\n",
    "        \"total_experiment_time_secs\": total_experiment_time_secs,\n",
    "        \"confusion\": confusion,\n",
    "        \"per_domain_accuracy\": per_domain_accuracy,\n",
    "    },\n",
    "    \"history\": history,\n",
    "    \"dataset_metrics\": get_dataset_metrics(datasets, \"ptn\"),\n",
    "}"
   ]
  },
  {
   "cell_type": "code",
   "execution_count": 16,
   "id": "54a21829",
   "metadata": {
    "execution": {
     "iopub.execute_input": "2022-03-02T16:25:55.378151Z",
     "iopub.status.busy": "2022-03-02T16:25:55.377897Z",
     "iopub.status.idle": "2022-03-02T16:25:55.563696Z",
     "shell.execute_reply": "2022-03-02T16:25:55.564123Z"
    },
    "papermill": {
     "duration": 0.227087,
     "end_time": "2022-03-02T16:25:55.564256",
     "exception": false,
     "start_time": "2022-03-02T16:25:55.337169",
     "status": "completed"
    },
    "tags": []
   },
   "outputs": [
    {
     "data": {
      "image/png": "[encoded data removed]",
      "text/plain": [
       "<Figure size 1080x504 with 1 Axes>"
      ]
     },
     "metadata": {
      "needs_background": "light"
     },
     "output_type": "display_data"
    }
   ],
   "source": [
    "ax = get_loss_curve(experiment)\n",
    "plt.show()"
   ]
  },
  {
   "cell_type": "code",
   "execution_count": 17,
   "id": "fd8a0f60",
   "metadata": {
    "execution": {
     "iopub.execute_input": "2022-03-02T16:25:55.650740Z",
     "iopub.status.busy": "2022-03-02T16:25:55.650491Z",
     "iopub.status.idle": "2022-03-02T16:25:55.905299Z",
     "shell.execute_reply": "2022-03-02T16:25:55.905723Z"
    },
    "papermill": {
     "duration": 0.297238,
     "end_time": "2022-03-02T16:25:55.905854",
     "exception": false,
     "start_time": "2022-03-02T16:25:55.608616",
     "status": "completed"
    },
    "tags": []
   },
   "outputs": [
    {
     "data": {
      "text/plain": [
       "<matplotlib.axes._subplots.AxesSubplot at 0x7fe5747995b0>"
      ]
     },
     "execution_count": 17,
     "metadata": {},
     "output_type": "execute_result"
    },
    {
     "data": {
      "image/png": "[encoded data removed]",
      "text/plain": [
       "<Figure size 1080x504 with 1 Axes>"
      ]
     },
     "metadata": {
      "needs_background": "light"
     },
     "output_type": "display_data"
    }
   ],
   "source": [
    "get_results_table(experiment)"
   ]
  },
  {
   "cell_type": "code",
   "execution_count": 18,
   "id": "cf8dc689",
   "metadata": {
    "execution": {
     "iopub.execute_input": "2022-03-02T16:25:55.994793Z",
     "iopub.status.busy": "2022-03-02T16:25:55.994531Z",
     "iopub.status.idle": "2022-03-02T16:25:56.167436Z",
     "shell.execute_reply": "2022-03-02T16:25:56.167883Z"
    },
    "papermill": {
     "duration": 0.216551,
     "end_time": "2022-03-02T16:25:56.168020",
     "exception": false,
     "start_time": "2022-03-02T16:25:55.951469",
     "status": "completed"
    },
    "tags": []
   },
   "outputs": [
    {
     "data": {
      "text/plain": [
       "<matplotlib.axes._subplots.AxesSubplot at 0x7fe5747aa400>"
      ]
     },
     "execution_count": 18,
     "metadata": {},
     "output_type": "execute_result"
    },
    {
     "data": {
      "image/png": "[encoded data removed]",
      "text/plain": [
       "<Figure size 1080x504 with 1 Axes>"
      ]
     },
     "metadata": {
      "needs_background": "light"
     },
     "output_type": "display_data"
    }
   ],
   "source": [
    "get_domain_accuracies(experiment)"
   ]
  },
  {
   "cell_type": "code",
   "execution_count": 19,
   "id": "a74ae082",
   "metadata": {
    "execution": {
     "iopub.execute_input": "2022-03-02T16:25:56.259558Z",
     "iopub.status.busy": "2022-03-02T16:25:56.259297Z",
     "iopub.status.idle": "2022-03-02T16:25:56.273370Z",
     "shell.execute_reply": "2022-03-02T16:25:56.273776Z"
    },
    "papermill": {
     "duration": 0.059208,
     "end_time": "2022-03-02T16:25:56.273900",
     "exception": false,
     "start_time": "2022-03-02T16:25:56.214692",
     "status": "completed"
    },
    "tags": []
   },
   "outputs": [
    {
     "name": "stdout",
     "output_type": "stream",
     "text": [
      "Source Test Label Accuracy: 0.7140625 Target Test Label Accuracy: 0.6164583333333333\n",
      "Source Val Label Accuracy: 0.7161458333333334 Target Val Label Accuracy: 0.6108333333333333\n"
     ]
    }
   ],
   "source": [
    "print(\"Source Test Label Accuracy:\", experiment[\"results\"][\"source_test_label_accuracy\"], \"Target Test Label Accuracy:\", experiment[\"results\"][\"target_test_label_accuracy\"])\n",
    "print(\"Source Val Label Accuracy:\", experiment[\"results\"][\"source_val_label_accuracy\"], \"Target Val Label Accuracy:\", experiment[\"results\"][\"target_val_label_accuracy\"])"
   ]
  },
  {
   "cell_type": "code",
   "execution_count": 20,
   "id": "dacca602",
   "metadata": {
    "execution": {
     "iopub.execute_input": "2022-03-02T16:25:56.365092Z",
     "iopub.status.busy": "2022-03-02T16:25:56.364843Z",
     "iopub.status.idle": "2022-03-02T16:25:56.378678Z",
     "shell.execute_reply": "2022-03-02T16:25:56.378224Z"
    },
    "papermill": {
     "duration": 0.057713,
     "end_time": "2022-03-02T16:25:56.378778",
     "exception": false,
     "start_time": "2022-03-02T16:25:56.321065",
     "status": "completed"
    },
    "tags": [
     "experiment_json"
    ]
   },
   "outputs": [
    {
     "data": {
      "text/plain": [
       "'{\"experiment_name\": \"baseline_ptn_32bit_oracle.run1\", \"parameters\": {\"experiment_name\": \"baseline_ptn_32bit_oracle.run1\", \"lr\": 0.001, \"device\": \"cuda\", \"seed\": 1337, \"dataset_seed\": 1337, \"labels_source\": [\"3123D52\", \"3123D65\", \"3123D79\", \"3123D80\", \"3123D54\", \"3123D70\", \"3123D7B\", \"3123D89\", \"3123D58\", \"3123D76\", \"3123D7D\", \"3123EFE\", \"3123D64\", \"3123D78\", \"3123D7E\", \"3124E4A\"], \"labels_target\": [\"3123D52\", \"3123D65\", \"3123D79\", \"3123D80\", \"3123D54\", \"3123D70\", \"3123D7B\", \"3123D89\", \"3123D58\", \"3123D76\", \"3123D7D\", \"3123EFE\", \"3123D64\", \"3123D78\", \"3123D7E\", \"3124E4A\"], \"x_transforms_source\": [], \"x_transforms_target\": [], \"episode_transforms_source\": [], \"episode_transforms_target\": [], \"num_examples_per_domain_per_label_source\": 1000, \"num_examples_per_domain_per_label_target\": 1000, \"n_shot\": 3, \"n_way\": 16, \"n_query\": 2, \"train_k_factor\": 1, \"val_k_factor\": 2, \"test_k_factor\": 2, \"torch_default_dtype\": \"torch.float32\", \"n_epoch\": 50, \"patience\": 3, \"criteria_for_best\": \"target_loss\", \"x_net\": [{\"class\": \"nnReshape\", \"kargs\": {\"shape\": [-1, 1, 2, 256]}}, {\"class\": \"Conv2d\", \"kargs\": {\"in_channels\": 1, \"out_channels\": 256, \"kernel_size\": [1, 7], \"bias\": false, \"padding\": [0, 3]}}, {\"class\": \"ReLU\", \"kargs\": {\"inplace\": true}}, {\"class\": \"BatchNorm2d\", \"kargs\": {\"num_features\": 256}}, {\"class\": \"Conv2d\", \"kargs\": {\"in_channels\": 256, \"out_channels\": 80, \"kernel_size\": [2, 7], \"bias\": true, \"padding\": [0, 3]}}, {\"class\": \"ReLU\", \"kargs\": {\"inplace\": true}}, {\"class\": \"BatchNorm2d\", \"kargs\": {\"num_features\": 80}}, {\"class\": \"Flatten\", \"kargs\": {}}, {\"class\": \"Linear\", \"kargs\": {\"in_features\": 20480, \"out_features\": 256}}, {\"class\": \"ReLU\", \"kargs\": {\"inplace\": true}}, {\"class\": \"BatchNorm1d\", \"kargs\": {\"num_features\": 256}}, {\"class\": \"Linear\", \"kargs\": {\"in_features\": 256, \"out_features\": 256}}], \"NUM_LOGS_PER_EPOCH\": 10, \"BEST_MODEL_PATH\": \"./best_model.pth\", \"pickle_name\": \"oracle.Run1_10kExamples_stratified_ds.2022A.pkl\", \"domains_source\": [8, 32, 50], \"domains_target\": [14, 20, 26, 38, 44]}, \"results\": {\"source_test_label_accuracy\": 0.7140625, \"source_test_label_loss\": 0.7464364767074585, \"target_test_label_accuracy\": 0.6164583333333333, \"target_test_label_loss\": 1.111087441444397, \"source_val_label_accuracy\": 0.7161458333333334, \"source_val_label_loss\": 0.7406376600265503, \"target_val_label_accuracy\": 0.6108333333333333, \"target_val_label_loss\": 1.134939193725586, \"total_epochs_trained\": 14, \"total_experiment_time_secs\": 775.7747271060944, \"confusion\": {\"8\": {\"15\": {\"15\": 68, \"2\": 24, \"12\": 28}, \"3\": {\"3\": 118, \"2\": 2}, \"6\": {\"13\": 6, \"6\": 58, \"7\": 28, \"10\": 2, \"11\": 7, \"1\": 7, \"4\": 9, \"8\": 3}, \"1\": {\"10\": 20, \"5\": 11, \"1\": 43, \"11\": 24, \"6\": 6, \"7\": 4, \"4\": 7, \"13\": 5}, \"8\": {\"4\": 12, \"8\": 92, \"14\": 7, \"6\": 7, \"7\": 2}, \"10\": {\"13\": 27, \"1\": 20, \"5\": 13, \"10\": 52, \"11\": 3, \"6\": 3, \"4\": 1, \"7\": 1}, \"9\": {\"9\": 120}, \"13\": {\"1\": 6, \"13\": 54, \"10\": 33, \"5\": 7, \"7\": 15, \"6\": 5}, \"12\": {\"12\": 86, \"15\": 30, \"2\": 4}, \"5\": {\"5\": 73, \"14\": 1, \"1\": 15, \"10\": 21, \"13\": 4, \"11\": 6}, \"0\": {\"0\": 120}, \"2\": {\"12\": 11, \"2\": 63, \"3\": 16, \"15\": 30}, \"11\": {\"10\": 7, \"6\": 9, \"11\": 37, \"1\": 23, \"7\": 2, \"4\": 21, \"14\": 16, \"13\": 1, \"8\": 2, \"5\": 2}, \"14\": {\"14\": 96, \"4\": 7, \"8\": 7, \"11\": 10}, \"7\": {\"7\": 73, \"6\": 30, \"10\": 2, \"13\": 13, \"1\": 1, \"8\": 1}, \"4\": {\"11\": 28, \"8\": 17, \"4\": 52, \"1\": 4, \"14\": 13, \"6\": 5, \"7\": 1}}, \"50\": {\"3\": {\"3\": 120}, \"15\": {\"12\": 10, \"15\": 83, \"6\": 15, \"9\": 12}, \"8\": {\"8\": 118, \"10\": 2}, \"4\": {\"4\": 85, \"7\": 22, \"5\": 11, \"15\": 2}, \"14\": {\"14\": 119, \"2\": 1}, \"0\": {\"0\": 94, \"2\": 14, \"10\": 12}, \"7\": {\"7\": 105, \"4\": 9, \"5\": 6}, \"6\": {\"15\": 16, \"6\": 88, \"5\": 14, \"9\": 1, \"11\": 1}, \"10\": {\"0\": 6, \"10\": 111, \"8\": 3}, \"5\": {\"7\": 24, \"5\": 49, \"4\": 14, \"6\": 21, \"13\": 6, \"11\": 1, \"15\": 4, \"12\": 1}, \"2\": {\"0\": 25, \"2\": 94, \"14\": 1}, \"12\": {\"12\": 55, \"11\": 46, \"9\": 17, \"15\": 2}, \"9\": {\"9\": 98, \"12\": 13, \"11\": 5, \"15\": 4}, \"1\": {\"1\": 102, \"13\": 12, \"10\": 3, \"0\": 1, \"11\": 2}, \"11\": {\"11\": 73, \"12\": 40, \"9\": 6, \"15\": 1}, \"13\": {\"1\": 5, \"13\": 114, \"6\": 1}}, \"32\": {\"5\": {\"7\": 23, \"5\": 47, \"14\": 8, \"15\": 16, \"8\": 13, \"0\": 13}, \"8\": {\"5\": 15, \"7\": 17, \"8\": 38, \"14\": 35, \"0\": 11, \"2\": 2, \"3\": 1, \"4\": 1}, \"11\": {\"11\": 114, \"13\": 6}, \"1\": {\"1\": 120}, \"10\": {\"10\": 119, \"6\": 1}, \"15\": {\"5\": 12, \"15\": 103, \"7\": 4, \"8\": 1}, \"3\": {\"3\": 107, \"13\": 13}, \"7\": {\"14\": 12, \"7\": 46, \"0\": 32, \"5\": 20, \"8\": 10}, \"4\": {\"4\": 88, \"2\": 22, \"13\": 7, \"3\": 2, \"14\": 1}, \"14\": {\"0\": 14, \"14\": 38, \"8\": 36, \"5\": 11, \"4\": 2, \"7\": 13, \"15\": 2, \"2\": 4}, \"9\": {\"9\": 107, \"12\": 11, \"4\": 1, \"2\": 1}, \"12\": {\"12\": 120}, \"6\": {\"6\": 120}, \"2\": {\"2\": 103, \"4\": 17}, \"0\": {\"0\": 64, \"5\": 17, \"7\": 26, \"8\": 6, \"14\": 7}, \"13\": {\"13\": 78, \"3\": 16, \"4\": 16, \"11\": 9, \"8\": 1}}, \"14\": {\"15\": {\"15\": 120}, \"3\": {\"0\": 13, \"6\": 14, \"3\": 75, \"14\": 11, \"13\": 6, \"8\": 1}, \"6\": {\"6\": 56, \"3\": 17, \"13\": 26, \"5\": 2, \"2\": 2, \"14\": 5, \"7\": 12}, \"1\": {\"1\": 117, \"4\": 2, \"10\": 1}, \"8\": {\"8\": 70, \"0\": 39, \"5\": 3, \"14\": 4, \"12\": 1, \"13\": 1, \"4\": 1, \"2\": 1}, \"10\": {\"10\": 100, \"4\": 12, \"9\": 7, \"0\": 1}, \"9\": {\"9\": 111, \"10\": 9}, \"13\": {\"15\": 15, \"13\": 21, \"5\": 14, \"6\": 32, \"7\": 4, \"3\": 8, \"8\": 5, \"4\": 8, \"2\": 6, \"0\": 2, \"14\": 4, \"10\": 1}, \"12\": {\"12\": 119, \"8\": 1}, \"5\": {\"5\": 62, \"14\": 7, \"4\": 14, \"2\": 31, \"7\": 4, \"8\": 1, \"13\": 1}, \"0\": {\"10\": 4, \"0\": 45, \"8\": 48, \"3\": 14, \"12\": 2, \"14\": 5, \"4\": 1, \"5\": 1}, \"2\": {\"13\": 8, \"14\": 10, \"6\": 10, \"4\": 28, \"5\": 32, \"2\": 18, \"7\": 7, \"3\": 5, \"10\": 2}, \"11\": {\"11\": 120}, \"14\": {\"7\": 10, \"13\": 12, \"14\": 44, \"2\": 17, \"3\": 10, \"5\": 16, \"0\": 5, \"6\": 3, \"8\": 3}, \"7\": {\"2\": 12, \"14\": 2, \"7\": 87, \"5\": 13, \"6\": 4, \"13\": 2}, \"4\": {\"4\": 101, \"10\": 9, \"1\": 1, \"2\": 5, \"5\": 4}}, \"20\": {\"3\": {\"9\": 28, \"1\": 12, \"8\": 21, \"7\": 5, \"3\": 30, \"14\": 6, \"0\": 1, \"15\": 2, \"5\": 13, \"12\": 1, \"2\": 1}, \"15\": {\"15\": 36, \"12\": 19, \"9\": 7, \"5\": 12, \"7\": 3, \"1\": 21, \"13\": 7, \"3\": 2, \"2\": 12, \"4\": 1}, \"8\": {\"7\": 4, \"3\": 25, \"14\": 17, \"8\": 55, \"11\": 3, \"9\": 6, \"5\": 4, \"1\": 2, \"0\": 3, \"2\": 1}, \"4\": {\"13\": 40, \"12\": 7, \"7\": 9, \"4\": 32, \"10\": 6, \"2\": 15, \"15\": 5, \"1\": 1, \"6\": 4, \"9\": 1}, \"14\": {\"14\": 74, \"6\": 13, \"7\": 7, \"8\": 23, \"9\": 1, \"2\": 1, \"3\": 1}, \"0\": {\"0\": 106, \"1\": 3, \"5\": 5, \"9\": 2, \"3\": 3, \"11\": 1}, \"7\": {\"4\": 11, \"7\": 39, \"14\": 10, \"6\": 10, \"8\": 2, \"2\": 16, \"13\": 7, \"9\": 12, \"1\": 5, \"12\": 2, \"3\": 3, \"15\": 2, \"5\": 1}, \"6\": {\"10\": 6, \"6\": 68, \"14\": 10, \"13\": 1, \"8\": 4, \"2\": 6, \"4\": 10, \"7\": 13, \"12\": 1, \"9\": 1}, \"10\": {\"10\": 104, \"4\": 8, \"13\": 3, \"6\": 5}, \"5\": {\"5\": 50, \"8\": 8, \"4\": 1, \"3\": 23, \"1\": 23, \"9\": 5, \"0\": 5, \"2\": 2, \"12\": 2, \"15\": 1}, \"2\": {\"7\": 22, \"4\": 17, \"5\": 2, \"13\": 17, \"12\": 24, \"2\": 17, \"6\": 6, \"3\": 3, \"9\": 6, \"1\": 3, \"15\": 3}, \"12\": {\"4\": 9, \"12\": 34, \"9\": 9, \"15\": 18, \"1\": 11, \"3\": 2, \"7\": 3, \"2\": 20, \"13\": 10, \"10\": 3, \"5\": 1}, \"9\": {\"14\": 6, \"13\": 2, \"4\": 2, \"5\": 8, \"1\": 13, \"7\": 18, \"9\": 26, \"8\": 16, \"2\": 5, \"3\": 14, \"12\": 5, \"15\": 5}, \"1\": {\"8\": 3, \"5\": 31, \"1\": 25, \"3\": 14, \"12\": 5, \"9\": 16, \"15\": 18, \"2\": 3, \"14\": 1, \"7\": 2, \"13\": 2}, \"11\": {\"11\": 115, \"8\": 3, \"0\": 1, \"14\": 1}, \"13\": {\"2\": 15, \"4\": 26, \"12\": 20, \"5\": 2, \"13\": 33, \"10\": 2, \"7\": 8, \"15\": 8, \"6\": 3, \"1\": 2, \"9\": 1}}, \"44\": {\"5\": {\"5\": 81, \"14\": 13, \"15\": 22, \"4\": 2, \"8\": 2}, \"8\": {\"8\": 80, \"0\": 24, \"5\": 6, \"15\": 10}, \"11\": {\"11\": 120}, \"1\": {\"1\": 92, \"2\": 28}, \"10\": {\"10\": 98, \"1\": 1, \"2\": 4, \"7\": 15, \"9\": 2}, \"15\": {\"5\": 19, \"15\": 77, \"8\": 7, \"14\": 12, \"4\": 4, \"0\": 1}, \"3\": {\"3\": 110, \"12\": 10}, \"7\": {\"7\": 96, \"9\": 13, \"10\": 8, \"4\": 1, \"6\": 2}, \"4\": {\"4\": 57, \"15\": 16, \"14\": 43, \"9\": 3, \"6\": 1}, \"14\": {\"14\": 72, \"5\": 6, \"4\": 36, \"15\": 6}, \"9\": {\"6\": 26, \"7\": 36, \"13\": 13, \"9\": 37, \"2\": 4, \"14\": 2, \"10\": 1, \"4\": 1}, \"12\": {\"12\": 101, \"3\": 19}, \"6\": {\"6\": 88, \"9\": 14, \"13\": 18}, \"2\": {\"2\": 103, \"1\": 16, \"10\": 1}, \"0\": {\"0\": 99, \"8\": 21}, \"13\": {\"13\": 92, \"6\": 26, \"11\": 2}}, \"38\": {\"14\": {\"2\": 40, \"14\": 76, \"13\": 4}, \"0\": {\"10\": 19, \"4\": 47, \"13\": 11, \"7\": 14, \"3\": 4, \"0\": 24, \"8\": 1}, \"13\": {\"13\": 97, \"14\": 6, \"4\": 8, \"10\": 7, \"7\": 1, \"0\": 1}, \"7\": {\"7\": 112, \"9\": 7, \"8\": 1}, \"9\": {\"9\": 75, \"8\": 16, \"5\": 16, \"7\": 12, \"12\": 1}, \"3\": {\"3\": 120}, \"11\": {\"11\": 120}, \"6\": {\"6\": 114, \"1\": 6}, \"8\": {\"9\": 11, \"12\": 35, \"5\": 17, \"8\": 27, \"7\": 21, \"13\": 1, \"15\": 3, \"14\": 3, \"2\": 2}, \"4\": {\"4\": 72, \"10\": 9, \"0\": 34, \"13\": 5}, \"5\": {\"7\": 6, \"5\": 24, \"12\": 40, \"8\": 27, \"2\": 1, \"9\": 14, \"15\": 8}, \"10\": {\"13\": 3, \"10\": 99, \"0\": 7, \"4\": 10, \"3\": 1}, \"1\": {\"1\": 118, \"6\": 2}, \"2\": {\"2\": 89, \"14\": 31}, \"15\": {\"15\": 91, \"12\": 16, \"1\": 8, \"5\": 2, \"8\": 3}, \"12\": {\"12\": 86, \"8\": 17, \"5\": 15, \"9\": 2}}, \"26\": {\"13\": {\"4\": 10, \"8\": 6, \"7\": 6, \"9\": 16, \"13\": 76, \"0\": 1, \"3\": 2, \"2\": 2, \"12\": 1}, \"2\": {\"2\": 34, \"7\": 28, \"0\": 21, \"3\": 5, \"8\": 23, \"14\": 2, \"9\": 6, \"15\": 1}, \"8\": {\"9\": 25, \"7\": 18, \"8\": 47, \"0\": 6, \"13\": 2, \"2\": 18, \"3\": 4}, \"9\": {\"7\": 8, \"8\": 27, \"13\": 23, \"0\": 6, \"2\": 8, \"9\": 45, \"3\": 2, \"12\": 1}, \"12\": {\"12\": 119, \"13\": 1}, \"4\": {\"4\": 114, \"3\": 1, \"13\": 5}, \"3\": {\"3\": 87, \"7\": 22, \"2\": 3, \"4\": 4, \"13\": 3, \"8\": 1}, \"15\": {\"0\": 8, \"5\": 18, \"1\": 15, \"10\": 26, \"6\": 11, \"15\": 28, \"14\": 14}, \"14\": {\"15\": 18, \"10\": 26, \"14\": 47, \"5\": 11, \"1\": 6, \"0\": 9, \"6\": 3}, \"10\": {\"0\": 21, \"10\": 34, \"14\": 28, \"15\": 19, \"5\": 8, \"6\": 9, \"1\": 1}, \"7\": {\"9\": 10, \"3\": 11, \"7\": 58, \"13\": 3, \"8\": 17, \"2\": 21}, \"11\": {\"11\": 117, \"6\": 3}, \"6\": {\"6\": 60, \"1\": 8, \"5\": 24, \"10\": 5, \"15\": 20, \"14\": 3}, \"1\": {\"1\": 60, \"5\": 30, \"6\": 6, \"15\": 13, \"14\": 9, \"10\": 1, \"0\": 1}, \"5\": {\"6\": 24, \"1\": 19, \"15\": 20, \"10\": 11, \"5\": 33, \"14\": 12, \"0\": 1}, \"0\": {\"0\": 48, \"2\": 11, \"9\": 4, \"8\": 9, \"6\": 2, \"14\": 16, \"10\": 26, \"15\": 4}}}, \"per_domain_accuracy\": {\"8\": {\"accuracy\": 0.6276041666666666, \"source?\": true}, \"50\": {\"accuracy\": 0.7854166666666667, \"source?\": true}, \"32\": {\"accuracy\": 0.7354166666666667, \"source?\": true}, \"14\": {\"accuracy\": 0.659375, \"source?\": false}, \"20\": {\"accuracy\": 0.4395833333333333, \"source?\": false}, \"44\": {\"accuracy\": 0.7307291666666667, \"source?\": false}, \"38\": {\"accuracy\": 0.7, \"source?\": false}, \"26\": {\"accuracy\": 0.5244791666666667, \"source?\": false}}}, \"history\": {\"epoch_indices\": [1, 2, 3, 4, 5, 6, 7, 8, 9, 10, 11, 12, 13, 14], \"train_label_loss\": [1.3052296228352047, 1.3087510827041808, 1.2377000891026997, 0.9402391083893322, 0.8332970753312111, 0.744771283794017, 0.7060728503125054, 0.6552899638811748, 0.6018128160209882, 0.5727247841656208, 0.5396211469102473, 0.49831988807945027, 0.483833623819408, 0.4501962981585945], \"source_val_label_loss\": [1.6867423057556152, 1.3021538257598877, 1.0821226835250854, 0.9147143959999084, 0.8372549414634705, 0.8527575135231018, 0.7838335633277893, 0.7647919058799744, 0.7586526274681091, 0.7406376600265503, 0.7489436268806458, 0.7675880789756775, 0.7810091972351074, 0.7901865839958191], \"target_val_label_loss\": [1.7830921411514282, 1.678996205329895, 1.5228408575057983, 1.3526465892791748, 1.2343984842300415, 1.2201482057571411, 1.188258409500122, 1.1669566631317139, 1.1783766746520996, 1.134939193725586, 1.172551155090332, 1.156646728515625, 1.3052338361740112, 1.2277185916900635], \"source_val_acc_label\": [0.44635416666666666, 0.46024305555555556, 0.5765625, 0.6479166666666667, 0.6828125, 0.6782986111111111, 0.7071180555555555, 0.7088541666666667, 0.7074652777777778, 0.7161458333333334, 0.7184027777777777, 0.7241319444444444, 0.7076388888888889, 0.7123263888888889], \"target_val_acc_label\": [0.39166666666666666, 0.38125, 0.48510416666666667, 0.544375, 0.5952083333333333, 0.58375, 0.6023958333333334, 0.6096875, 0.6119791666666666, 0.6108333333333333, 0.6134375, 0.6207291666666667, 0.5757291666666666, 0.6134375]}, \"dataset_metrics\": {\"source\": {\"train\": {\"n_unique_x\": 33600, \"n_unique_y\": 16, \"n_batch/episode\": 420}, \"val\": {\"n_unique_x\": 7200, \"n_unique_y\": 16, \"n_batch/episode\": 180}, \"test\": {\"n_unique_x\": 7200, \"n_unique_y\": 16, \"n_batch/episode\": 180}}, \"target\": {\"train\": {\"n_unique_x\": 56000, \"n_unique_y\": 16, \"n_batch/episode\": 700}, \"val\": {\"n_unique_x\": 12000, \"n_unique_y\": 16, \"n_batch/episode\": 300}, \"test\": {\"n_unique_x\": 12000, \"n_unique_y\": 16, \"n_batch/episode\": 300}}}}'"
      ]
     },
     "execution_count": 20,
     "metadata": {},
     "output_type": "execute_result"
    }
   ],
   "source": [
    "json.dumps(experiment)"
   ]
  }
 ],
 "metadata": {
  "celltoolbar": "Tags",
  "kernelspec": {
   "display_name": "Python 3 (ipykernel)",
   "language": "python",
   "name": "python3"
  },
  "language_info": {
   "codemirror_mode": {
    "name": "ipython",
    "version": 3
   },
   "file_extension": ".py",
   "mimetype": "text/x-python",
   "name": "python",
   "nbconvert_exporter": "python",
   "pygments_lexer": "ipython3",
   "version": "3.8.10"
  },
  "papermill": {
   "default_parameters": {},
   "duration": 869.265896,
   "end_time": "2022-03-02T16:25:57.033022",
   "environment_variables": {},
   "exception": null,
   "input_path": "/mnt/wd500GB/CSC500/csc500-main/csc500-notebooks/templates/ptn_template.ipynb",
   "output_path": "trial.ipynb",
   "parameters": {
    "parameters": {
     "BEST_MODEL_PATH": "./best_model.pth",
     "NUM_LOGS_PER_EPOCH": 10,
     "criteria_for_best": "target_loss",
     "dataset_seed": 1337,
     "device": "cuda",
     "domains_source": [
      8,
      32,
      50
     ],
     "domains_target": [
      14,
      20,
      26,
      38,
      44
     ],
     "episode_transforms_source": [],
     "episode_transforms_target": [],
     "experiment_name": "baseline_ptn_32bit_oracle.run1",
     "labels_source": [
      "3123D52",
      "3123D65",
      "3123D79",
      "3123D80",
      "3123D54",
      "3123D70",
      "3123D7B",
      "3123D89",
      "3123D58",
      "3123D76",
      "3123D7D",
      "3123EFE",
      "3123D64",
      "3123D78",
      "3123D7E",
      "3124E4A"
     ],
     "labels_target": [
      "3123D52",
      "3123D65",
      "3123D79",
      "3123D80",
      "3123D54",
      "3123D70",
      "3123D7B",
      "3123D89",
      "3123D58",
      "3123D76",
      "3123D7D",
      "3123EFE",
      "3123D64",
      "3123D78",
      "3123D7E",
      "3124E4A"
     ],
     "lr": 0.001,
     "n_epoch": 50,
     "n_query": 2,
     "n_shot": 3,
     "n_way": 16,
     "num_examples_per_domain_per_label_source": 1000,
     "num_examples_per_domain_per_label_target": 1000,
     "patience": 3,
     "pickle_name": "oracle.Run1_10kExamples_stratified_ds.2022A.pkl",
     "seed": 1337,
     "test_k_factor": 2,
     "torch_default_dtype": "torch.float32",
     "train_k_factor": 1,
     "val_k_factor": 2,
     "x_net": [
      {
       "class": "nnReshape",
       "kargs": {
        "shape": [
         -1,
         1,
         2,
         256
        ]
       }
      },
      {
       "class": "Conv2d",
       "kargs": {
        "bias": false,
        "in_channels": 1,
        "kernel_size": [
         1,
         7
        ],
        "out_channels": 256,
        "padding": [
         0,
         3
        ]
       }
      },
      {
       "class": "ReLU",
       "kargs": {
        "inplace": true
       }
      },
      {
       "class": "BatchNorm2d",
       "kargs": {
        "num_features": 256
       }
      },
      {
       "class": "Conv2d",
       "kargs": {
        "bias": true,
        "in_channels": 256,
        "kernel_size": [
         2,
         7
        ],
        "out_channels": 80,
        "padding": [
         0,
         3
        ]
       }
      },
      {
       "class": "ReLU",
       "kargs": {
        "inplace": true
       }
      },
      {
       "class": "BatchNorm2d",
       "kargs": {
        "num_features": 80
       }
      },
      {
       "class": "Flatten",
       "kargs": {}
      },
      {
       "class": "Linear",
       "kargs": {
        "in_features": 20480,
        "out_features": 256
       }
      },
      {
       "class": "ReLU",
       "kargs": {
        "inplace": true
       }
      },
      {
       "class": "BatchNorm1d",
       "kargs": {
        "num_features": 256
       }
      },
      {
       "class": "Linear",
       "kargs": {
        "in_features": 256,
        "out_features": 256
       }
      }
     ],
     "x_transforms_source": [],
     "x_transforms_target": []
    }
   },
   "start_time": "2022-03-02T16:11:27.767126",
   "version": "2.3.4"
  }
 },
 "nbformat": 4,
 "nbformat_minor": 5
}