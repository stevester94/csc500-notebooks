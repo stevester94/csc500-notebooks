{
 "cells": [
  {
   "cell_type": "markdown",
   "id": "9fea5f46",
   "metadata": {
    "papermill": {
     "duration": 0.014008,
     "end_time": "2022-03-02T18:00:09.552274",
     "exception": false,
     "start_time": "2022-03-02T18:00:09.538266",
     "status": "completed"
    },
    "tags": []
   },
   "source": [
    "# PTN Template\n",
    "This notebook serves as a template for single dataset PTN experiments  \n",
    "It can be run on its own by setting STANDALONE to True (do a find for \"STANDALONE\" to see where)  \n",
    "But it is intended to be executed as part of a *papermill.py script. See any of the   \n",
    "experimentes with a papermill script to get started with that workflow.  "
   ]
  },
  {
   "cell_type": "code",
   "execution_count": 1,
   "id": "0902182a",
   "metadata": {
    "execution": {
     "iopub.execute_input": "2022-03-02T18:00:09.583752Z",
     "iopub.status.busy": "2022-03-02T18:00:09.582917Z",
     "iopub.status.idle": "2022-03-02T18:00:10.324734Z",
     "shell.execute_reply": "2022-03-02T18:00:10.324267Z"
    },
    "papermill": {
     "duration": 0.763524,
     "end_time": "2022-03-02T18:00:10.324842",
     "exception": false,
     "start_time": "2022-03-02T18:00:09.561318",
     "status": "completed"
    },
    "tags": []
   },
   "outputs": [],
   "source": [
    "%load_ext autoreload\n",
    "%autoreload 2\n",
    "%matplotlib inline\n",
    "\n",
    "    \n",
    "import os, json, sys, time, random\n",
    "import numpy as np\n",
    "import torch\n",
    "from torch.optim import Adam\n",
    "from  easydict import EasyDict\n",
    "import matplotlib.pyplot as plt\n",
    "\n",
    "from steves_models.steves_ptn import Steves_Prototypical_Network\n",
    "\n",
    "from steves_utils.lazy_iterable_wrapper import Lazy_Iterable_Wrapper\n",
    "from steves_utils.iterable_aggregator import Iterable_Aggregator\n",
    "from steves_utils.ptn_train_eval_test_jig import  PTN_Train_Eval_Test_Jig\n",
    "from steves_utils.torch_sequential_builder import build_sequential\n",
    "from steves_utils.torch_utils import get_dataset_metrics, ptn_confusion_by_domain_over_dataloader\n",
    "from steves_utils.utils_v2 import (per_domain_accuracy_from_confusion, get_datasets_base_path)\n",
    "from steves_utils.PTN.utils import independent_accuracy_assesment\n",
    "\n",
    "from steves_utils.stratified_dataset.episodic_accessor import Episodic_Accessor_Factory\n",
    "\n",
    "from steves_utils.ptn_do_report import (\n",
    "    get_loss_curve,\n",
    "    get_results_table,\n",
    "    get_parameters_table,\n",
    "    get_domain_accuracies,\n",
    ")\n",
    "\n",
    "from steves_utils.transforms import get_chained_transform"
   ]
  },
  {
   "cell_type": "markdown",
   "id": "41c840b4",
   "metadata": {
    "papermill": {
     "duration": 0.008847,
     "end_time": "2022-03-02T18:00:10.348039",
     "exception": false,
     "start_time": "2022-03-02T18:00:10.339192",
     "status": "completed"
    },
    "tags": []
   },
   "source": [
    "# Required Parameters\n",
    "These are allowed parameters, not defaults\n",
    "Each of these values need to be present in the injected parameters (the notebook will raise an exception if they are not present)\n",
    "\n",
    "Papermill uses the cell tag \"parameters\" to inject the real parameters below this cell.\n",
    "Enable tags to see what I mean"
   ]
  },
  {
   "cell_type": "code",
   "execution_count": 2,
   "id": "fd44eb83",
   "metadata": {
    "execution": {
     "iopub.execute_input": "2022-03-02T18:00:10.377646Z",
     "iopub.status.busy": "2022-03-02T18:00:10.368529Z",
     "iopub.status.idle": "2022-03-02T18:00:10.381024Z",
     "shell.execute_reply": "2022-03-02T18:00:10.380557Z"
    },
    "papermill": {
     "duration": 0.02422,
     "end_time": "2022-03-02T18:00:10.381131",
     "exception": false,
     "start_time": "2022-03-02T18:00:10.356911",
     "status": "completed"
    },
    "tags": []
   },
   "outputs": [],
   "source": [
    "required_parameters = {\n",
    "    \"experiment_name\",\n",
    "    \"lr\",\n",
    "    \"device\",\n",
    "    \"seed\",\n",
    "    \"dataset_seed\",\n",
    "    \"labels_source\",\n",
    "    \"labels_target\",\n",
    "    \"domains_source\",\n",
    "    \"domains_target\",\n",
    "    \"num_examples_per_domain_per_label_source\",\n",
    "    \"num_examples_per_domain_per_label_target\",\n",
    "    \"n_shot\",\n",
    "    \"n_way\",\n",
    "    \"n_query\",\n",
    "    \"train_k_factor\",\n",
    "    \"val_k_factor\",\n",
    "    \"test_k_factor\",\n",
    "    \"n_epoch\",\n",
    "    \"patience\",\n",
    "    \"criteria_for_best\",\n",
    "    \"x_transforms_source\",\n",
    "    \"x_transforms_target\",\n",
    "    \"episode_transforms_source\",\n",
    "    \"episode_transforms_target\",\n",
    "    \"pickle_name\",\n",
    "    \"x_net\",\n",
    "    \"NUM_LOGS_PER_EPOCH\",\n",
    "    \"BEST_MODEL_PATH\",\n",
    "    \"torch_default_dtype\"\n",
    "}"
   ]
  },
  {
   "cell_type": "code",
   "execution_count": 3,
   "id": "fa3f0049",
   "metadata": {
    "execution": {
     "iopub.execute_input": "2022-03-02T18:00:10.411315Z",
     "iopub.status.busy": "2022-03-02T18:00:10.410908Z",
     "iopub.status.idle": "2022-03-02T18:00:10.421323Z",
     "shell.execute_reply": "2022-03-02T18:00:10.420800Z"
    },
    "papermill": {
     "duration": 0.027424,
     "end_time": "2022-03-02T18:00:10.421423",
     "exception": false,
     "start_time": "2022-03-02T18:00:10.393999",
     "status": "completed"
    },
    "tags": [
     "parameters"
    ]
   },
   "outputs": [],
   "source": [
    "\n",
    "\n",
    "standalone_parameters = {}\n",
    "standalone_parameters[\"experiment_name\"] = \"STANDALONE PTN\"\n",
    "standalone_parameters[\"lr\"] = 0.0001\n",
    "standalone_parameters[\"device\"] = \"cuda\"\n",
    "\n",
    "standalone_parameters[\"seed\"] = 1337\n",
    "standalone_parameters[\"dataset_seed\"] = 1337\n",
    "\n",
    "\n",
    "standalone_parameters[\"num_examples_per_domain_per_label_source\"]=100\n",
    "standalone_parameters[\"num_examples_per_domain_per_label_target\"]=100\n",
    "\n",
    "standalone_parameters[\"n_shot\"] = 3\n",
    "standalone_parameters[\"n_query\"]  = 2\n",
    "standalone_parameters[\"train_k_factor\"] = 1\n",
    "standalone_parameters[\"val_k_factor\"] = 2\n",
    "standalone_parameters[\"test_k_factor\"] = 2\n",
    "\n",
    "\n",
    "standalone_parameters[\"n_epoch\"] = 100\n",
    "\n",
    "standalone_parameters[\"patience\"] = 10\n",
    "standalone_parameters[\"criteria_for_best\"] = \"target_accuracy\"\n",
    "\n",
    "standalone_parameters[\"x_transforms_source\"] = [\"unit_power\"]\n",
    "standalone_parameters[\"x_transforms_target\"] = [\"unit_power\"]\n",
    "standalone_parameters[\"episode_transforms_source\"] = []\n",
    "standalone_parameters[\"episode_transforms_target\"] = []\n",
    "\n",
    "standalone_parameters[\"torch_default_dtype\"] = \"torch.float32\" \n",
    "\n",
    "\n",
    "\n",
    "standalone_parameters[\"x_net\"] =     [\n",
    "    {\"class\": \"nnReshape\", \"kargs\": {\"shape\":[-1, 1, 2, 256]}},\n",
    "    {\"class\": \"Conv2d\", \"kargs\": { \"in_channels\":1, \"out_channels\":256, \"kernel_size\":(1,7), \"bias\":False, \"padding\":(0,3), },},\n",
    "    {\"class\": \"ReLU\", \"kargs\": {\"inplace\": True}},\n",
    "    {\"class\": \"BatchNorm2d\", \"kargs\": {\"num_features\":256}},\n",
    "\n",
    "    {\"class\": \"Conv2d\", \"kargs\": { \"in_channels\":256, \"out_channels\":80, \"kernel_size\":(2,7), \"bias\":True, \"padding\":(0,3), },},\n",
    "    {\"class\": \"ReLU\", \"kargs\": {\"inplace\": True}},\n",
    "    {\"class\": \"BatchNorm2d\", \"kargs\": {\"num_features\":80}},\n",
    "    {\"class\": \"Flatten\", \"kargs\": {}},\n",
    "\n",
    "    {\"class\": \"Linear\", \"kargs\": {\"in_features\": 80*256, \"out_features\": 256}}, # 80 units per IQ pair\n",
    "    {\"class\": \"ReLU\", \"kargs\": {\"inplace\": True}},\n",
    "    {\"class\": \"BatchNorm1d\", \"kargs\": {\"num_features\":256}},\n",
    "\n",
    "    {\"class\": \"Linear\", \"kargs\": {\"in_features\": 256, \"out_features\": 256}},\n",
    "]\n",
    "\n",
    "# Parameters relevant to results\n",
    "# These parameters will basically never need to change\n",
    "standalone_parameters[\"NUM_LOGS_PER_EPOCH\"] = 10\n",
    "standalone_parameters[\"BEST_MODEL_PATH\"] = \"./best_model.pth\"\n",
    "\n",
    "# uncomment for CORES dataset\n",
    "from steves_utils.CORES.utils import (\n",
    "    ALL_NODES,\n",
    "    ALL_NODES_MINIMUM_1000_EXAMPLES,\n",
    "    ALL_DAYS\n",
    ")\n",
    "\n",
    "\n",
    "standalone_parameters[\"labels_source\"] = ALL_NODES\n",
    "standalone_parameters[\"labels_target\"] = ALL_NODES\n",
    "\n",
    "standalone_parameters[\"domains_source\"] = [1]\n",
    "standalone_parameters[\"domains_target\"] = [2,3,4,5]\n",
    "\n",
    "standalone_parameters[\"pickle_name\"] = \"cores.stratified_ds.2022A.pkl\"\n",
    "\n",
    "\n",
    "# Uncomment these for ORACLE dataset\n",
    "# from steves_utils.ORACLE.utils_v2 import (\n",
    "#     ALL_DISTANCES_FEET,\n",
    "#     ALL_RUNS,\n",
    "#     ALL_SERIAL_NUMBERS,\n",
    "# )\n",
    "# standalone_parameters[\"labels_source\"] = ALL_SERIAL_NUMBERS\n",
    "# standalone_parameters[\"labels_target\"] = ALL_SERIAL_NUMBERS\n",
    "# standalone_parameters[\"domains_source\"] = [8,20, 38,50]\n",
    "# standalone_parameters[\"domains_target\"] = [14, 26, 32, 44, 56]\n",
    "# standalone_parameters[\"pickle_name\"] = \"oracle.frame_indexed.stratified_ds.2022A.pkl\"\n",
    "# standalone_parameters[\"num_examples_per_domain_per_label_source\"]=1000\n",
    "# standalone_parameters[\"num_examples_per_domain_per_label_target\"]=1000\n",
    "\n",
    "# Uncomment these for Metahan dataset\n",
    "# standalone_parameters[\"labels_source\"] = list(range(19))\n",
    "# standalone_parameters[\"labels_target\"] = list(range(19))\n",
    "# standalone_parameters[\"domains_source\"] = [0]\n",
    "# standalone_parameters[\"domains_target\"] = [1]\n",
    "# standalone_parameters[\"pickle_name\"] = \"metehan.stratified_ds.2022A.pkl\"\n",
    "# standalone_parameters[\"n_way\"]  = len(standalone_parameters[\"labels_source\"])\n",
    "# standalone_parameters[\"num_examples_per_domain_per_label_source\"]=200\n",
    "# standalone_parameters[\"num_examples_per_domain_per_label_target\"]=100\n",
    "\n",
    "\n",
    "standalone_parameters[\"n_way\"]  = len(standalone_parameters[\"labels_source\"])"
   ]
  },
  {
   "cell_type": "code",
   "execution_count": 4,
   "id": "dd6bc1cf",
   "metadata": {
    "execution": {
     "iopub.execute_input": "2022-03-02T18:00:10.453196Z",
     "iopub.status.busy": "2022-03-02T18:00:10.452137Z",
     "iopub.status.idle": "2022-03-02T18:00:10.462186Z",
     "shell.execute_reply": "2022-03-02T18:00:10.461832Z"
    },
    "papermill": {
     "duration": 0.025809,
     "end_time": "2022-03-02T18:00:10.462255",
     "exception": false,
     "start_time": "2022-03-02T18:00:10.436446",
     "status": "completed"
    },
    "tags": [
     "injected-parameters"
    ]
   },
   "outputs": [],
   "source": [
    "# Parameters\n",
    "parameters = {\n",
    "    \"experiment_name\": \"baseline_ptn_32bit_oracle.run2.framed\",\n",
    "    \"lr\": 0.001,\n",
    "    \"device\": \"cuda\",\n",
    "    \"seed\": 1337,\n",
    "    \"dataset_seed\": 1337,\n",
    "    \"labels_source\": [\n",
    "        \"3123D52\",\n",
    "        \"3123D65\",\n",
    "        \"3123D79\",\n",
    "        \"3123D80\",\n",
    "        \"3123D54\",\n",
    "        \"3123D70\",\n",
    "        \"3123D7B\",\n",
    "        \"3123D89\",\n",
    "        \"3123D58\",\n",
    "        \"3123D76\",\n",
    "        \"3123D7D\",\n",
    "        \"3123EFE\",\n",
    "        \"3123D64\",\n",
    "        \"3123D78\",\n",
    "        \"3123D7E\",\n",
    "        \"3124E4A\",\n",
    "    ],\n",
    "    \"labels_target\": [\n",
    "        \"3123D52\",\n",
    "        \"3123D65\",\n",
    "        \"3123D79\",\n",
    "        \"3123D80\",\n",
    "        \"3123D54\",\n",
    "        \"3123D70\",\n",
    "        \"3123D7B\",\n",
    "        \"3123D89\",\n",
    "        \"3123D58\",\n",
    "        \"3123D76\",\n",
    "        \"3123D7D\",\n",
    "        \"3123EFE\",\n",
    "        \"3123D64\",\n",
    "        \"3123D78\",\n",
    "        \"3123D7E\",\n",
    "        \"3124E4A\",\n",
    "    ],\n",
    "    \"x_transforms_source\": [],\n",
    "    \"x_transforms_target\": [],\n",
    "    \"episode_transforms_source\": [],\n",
    "    \"episode_transforms_target\": [],\n",
    "    \"num_examples_per_domain_per_label_source\": 1000,\n",
    "    \"num_examples_per_domain_per_label_target\": 1000,\n",
    "    \"n_shot\": 3,\n",
    "    \"n_way\": 16,\n",
    "    \"n_query\": 2,\n",
    "    \"train_k_factor\": 1,\n",
    "    \"val_k_factor\": 2,\n",
    "    \"test_k_factor\": 2,\n",
    "    \"torch_default_dtype\": \"torch.float32\",\n",
    "    \"n_epoch\": 50,\n",
    "    \"patience\": 3,\n",
    "    \"criteria_for_best\": \"target_loss\",\n",
    "    \"x_net\": [\n",
    "        {\"class\": \"nnReshape\", \"kargs\": {\"shape\": [-1, 1, 2, 256]}},\n",
    "        {\n",
    "            \"class\": \"Conv2d\",\n",
    "            \"kargs\": {\n",
    "                \"in_channels\": 1,\n",
    "                \"out_channels\": 256,\n",
    "                \"kernel_size\": [1, 7],\n",
    "                \"bias\": False,\n",
    "                \"padding\": [0, 3],\n",
    "            },\n",
    "        },\n",
    "        {\"class\": \"ReLU\", \"kargs\": {\"inplace\": True}},\n",
    "        {\"class\": \"BatchNorm2d\", \"kargs\": {\"num_features\": 256}},\n",
    "        {\n",
    "            \"class\": \"Conv2d\",\n",
    "            \"kargs\": {\n",
    "                \"in_channels\": 256,\n",
    "                \"out_channels\": 80,\n",
    "                \"kernel_size\": [2, 7],\n",
    "                \"bias\": True,\n",
    "                \"padding\": [0, 3],\n",
    "            },\n",
    "        },\n",
    "        {\"class\": \"ReLU\", \"kargs\": {\"inplace\": True}},\n",
    "        {\"class\": \"BatchNorm2d\", \"kargs\": {\"num_features\": 80}},\n",
    "        {\"class\": \"Flatten\", \"kargs\": {}},\n",
    "        {\"class\": \"Linear\", \"kargs\": {\"in_features\": 20480, \"out_features\": 256}},\n",
    "        {\"class\": \"ReLU\", \"kargs\": {\"inplace\": True}},\n",
    "        {\"class\": \"BatchNorm1d\", \"kargs\": {\"num_features\": 256}},\n",
    "        {\"class\": \"Linear\", \"kargs\": {\"in_features\": 256, \"out_features\": 256}},\n",
    "    ],\n",
    "    \"NUM_LOGS_PER_EPOCH\": 10,\n",
    "    \"BEST_MODEL_PATH\": \"./best_model.pth\",\n",
    "    \"pickle_name\": \"oracle.Run2_framed_1300Examples_stratified_ds.2022A.pkl\",\n",
    "    \"domains_source\": [8, 32, 50],\n",
    "    \"domains_target\": [14, 20, 26, 38, 44],\n",
    "}\n"
   ]
  },
  {
   "cell_type": "code",
   "execution_count": 5,
   "id": "8fa1cc33",
   "metadata": {
    "execution": {
     "iopub.execute_input": "2022-03-02T18:00:10.495664Z",
     "iopub.status.busy": "2022-03-02T18:00:10.488527Z",
     "iopub.status.idle": "2022-03-02T18:00:10.501182Z",
     "shell.execute_reply": "2022-03-02T18:00:10.500883Z"
    },
    "papermill": {
     "duration": 0.025228,
     "end_time": "2022-03-02T18:00:10.501252",
     "exception": false,
     "start_time": "2022-03-02T18:00:10.476024",
     "status": "completed"
    },
    "tags": []
   },
   "outputs": [],
   "source": [
    "# Set this to True if you want to run this template directly\n",
    "STANDALONE = False\n",
    "if STANDALONE:\n",
    "    print(\"parameters not injected, running with standalone_parameters\")\n",
    "    parameters = standalone_parameters\n",
    "\n",
    "if not 'parameters' in locals() and not 'parameters' in globals():\n",
    "    raise Exception(\"Parameter injection failed\")\n",
    "\n",
    "#Use an easy dict for all the parameters\n",
    "p = EasyDict(parameters)\n",
    "\n",
    "supplied_keys = set(p.keys())\n",
    "\n",
    "if  supplied_keys != required_parameters:\n",
    "    print(\"Parameters are incorrect\")\n",
    "    if len(supplied_keys - required_parameters)>0: print(\"Shouldn't have:\", str(supplied_keys - required_parameters))\n",
    "    if len(required_parameters - supplied_keys)>0: print(\"Need to have:\", str(required_parameters - supplied_keys))\n",
    "    raise RuntimeError(\"Parameters are incorrect\")\n",
    "\n"
   ]
  },
  {
   "cell_type": "code",
   "execution_count": 6,
   "id": "3a028d58",
   "metadata": {
    "execution": {
     "iopub.execute_input": "2022-03-02T18:00:10.526500Z",
     "iopub.status.busy": "2022-03-02T18:00:10.526232Z",
     "iopub.status.idle": "2022-03-02T18:00:10.539533Z",
     "shell.execute_reply": "2022-03-02T18:00:10.539078Z"
    },
    "papermill": {
     "duration": 0.025563,
     "end_time": "2022-03-02T18:00:10.539643",
     "exception": false,
     "start_time": "2022-03-02T18:00:10.514080",
     "status": "completed"
    },
    "tags": []
   },
   "outputs": [],
   "source": [
    "###################################\n",
    "# Set the RNGs and make it all deterministic\n",
    "###################################\n",
    "np.random.seed(p.seed)\n",
    "random.seed(p.seed)\n",
    "torch.manual_seed(p.seed)\n",
    "\n",
    "torch.use_deterministic_algorithms(True) "
   ]
  },
  {
   "cell_type": "code",
   "execution_count": 7,
   "id": "b691acf6",
   "metadata": {
    "execution": {
     "iopub.execute_input": "2022-03-02T18:00:10.568903Z",
     "iopub.status.busy": "2022-03-02T18:00:10.565458Z",
     "iopub.status.idle": "2022-03-02T18:00:10.579683Z",
     "shell.execute_reply": "2022-03-02T18:00:10.579384Z"
    },
    "papermill": {
     "duration": 0.024911,
     "end_time": "2022-03-02T18:00:10.579775",
     "exception": false,
     "start_time": "2022-03-02T18:00:10.554864",
     "status": "completed"
    },
    "tags": []
   },
   "outputs": [],
   "source": [
    "###########################################\n",
    "# The stratified datasets honor this\n",
    "###########################################\n",
    "torch.set_default_dtype(eval(p.torch_default_dtype))"
   ]
  },
  {
   "cell_type": "code",
   "execution_count": 8,
   "id": "b5fba671",
   "metadata": {
    "execution": {
     "iopub.execute_input": "2022-03-02T18:00:10.612256Z",
     "iopub.status.busy": "2022-03-02T18:00:10.606108Z",
     "iopub.status.idle": "2022-03-02T18:00:10.643243Z",
     "shell.execute_reply": "2022-03-02T18:00:10.642751Z"
    },
    "papermill": {
     "duration": 0.049922,
     "end_time": "2022-03-02T18:00:10.643351",
     "exception": false,
     "start_time": "2022-03-02T18:00:10.593429",
     "status": "completed"
    },
    "tags": []
   },
   "outputs": [],
   "source": [
    "###################################\n",
    "# Build the network(s)\n",
    "# Note: It's critical to do this AFTER setting the RNG\n",
    "# (This is due to the randomized initial weights)\n",
    "###################################\n",
    "x_net = build_sequential(p.x_net)"
   ]
  },
  {
   "cell_type": "code",
   "execution_count": 9,
   "id": "5d7e61cc",
   "metadata": {
    "execution": {
     "iopub.execute_input": "2022-03-02T18:00:10.669150Z",
     "iopub.status.busy": "2022-03-02T18:00:10.667449Z",
     "iopub.status.idle": "2022-03-02T18:00:10.677177Z",
     "shell.execute_reply": "2022-03-02T18:00:10.676834Z"
    },
    "papermill": {
     "duration": 0.021676,
     "end_time": "2022-03-02T18:00:10.677261",
     "exception": false,
     "start_time": "2022-03-02T18:00:10.655585",
     "status": "completed"
    },
    "tags": []
   },
   "outputs": [],
   "source": [
    "start_time_secs = time.time()"
   ]
  },
  {
   "cell_type": "code",
   "execution_count": 10,
   "id": "fd5442bc",
   "metadata": {
    "execution": {
     "iopub.execute_input": "2022-03-02T18:00:10.708768Z",
     "iopub.status.busy": "2022-03-02T18:00:10.708475Z",
     "iopub.status.idle": "2022-03-02T18:00:11.455324Z",
     "shell.execute_reply": "2022-03-02T18:00:11.455719Z"
    },
    "papermill": {
     "duration": 0.764326,
     "end_time": "2022-03-02T18:00:11.455852",
     "exception": false,
     "start_time": "2022-03-02T18:00:10.691526",
     "status": "completed"
    },
    "tags": []
   },
   "outputs": [],
   "source": [
    "###################################\n",
    "# Build the dataset\n",
    "###################################\n",
    "\n",
    "if p.x_transforms_source == []: x_transform_source = None\n",
    "else: x_transform_source = get_chained_transform(p.x_transforms_source) \n",
    "\n",
    "if p.x_transforms_target == []: x_transform_target = None\n",
    "else: x_transform_target = get_chained_transform(p.x_transforms_target)\n",
    "\n",
    "if p.episode_transforms_source == []: episode_transform_source = None\n",
    "else: raise Exception(\"episode_transform_source not implemented\")\n",
    "\n",
    "if p.episode_transforms_target == []: episode_transform_target = None\n",
    "else: raise Exception(\"episode_transform_target not implemented\")\n",
    "\n",
    "\n",
    "eaf_source = Episodic_Accessor_Factory(\n",
    "    labels=p.labels_source,\n",
    "    domains=p.domains_source,\n",
    "    num_examples_per_domain_per_label=p.num_examples_per_domain_per_label_source,\n",
    "    iterator_seed=p.seed,\n",
    "    dataset_seed=p.dataset_seed,\n",
    "    n_shot=p.n_shot,\n",
    "    n_way=p.n_way,\n",
    "    n_query=p.n_query,\n",
    "    train_val_test_k_factors=(p.train_k_factor,p.val_k_factor,p.test_k_factor),\n",
    "    pickle_path=os.path.join(get_datasets_base_path(), p.pickle_name),\n",
    "    x_transform_func=x_transform_source,\n",
    "    example_transform_func=episode_transform_source,\n",
    "    \n",
    ")\n",
    "train_original_source, val_original_source, test_original_source = eaf_source.get_train(), eaf_source.get_val(), eaf_source.get_test()\n",
    "\n",
    "\n",
    "eaf_target = Episodic_Accessor_Factory(\n",
    "    labels=p.labels_target,\n",
    "    domains=p.domains_target,\n",
    "    num_examples_per_domain_per_label=p.num_examples_per_domain_per_label_target,\n",
    "    iterator_seed=p.seed,\n",
    "    dataset_seed=p.dataset_seed,\n",
    "    n_shot=p.n_shot,\n",
    "    n_way=p.n_way,\n",
    "    n_query=p.n_query,\n",
    "    train_val_test_k_factors=(p.train_k_factor,p.val_k_factor,p.test_k_factor),\n",
    "    pickle_path=os.path.join(get_datasets_base_path(), p.pickle_name),\n",
    "    x_transform_func=x_transform_target,\n",
    "    example_transform_func=episode_transform_target,\n",
    ")\n",
    "train_original_target, val_original_target, test_original_target = eaf_target.get_train(), eaf_target.get_val(), eaf_target.get_test()\n",
    "\n",
    "\n",
    "transform_lambda = lambda ex: ex[1] # Original is (<domain>, <episode>) so we strip down to episode only\n",
    "\n",
    "train_processed_source = Lazy_Iterable_Wrapper(train_original_source, transform_lambda)\n",
    "val_processed_source   = Lazy_Iterable_Wrapper(val_original_source, transform_lambda)\n",
    "test_processed_source  = Lazy_Iterable_Wrapper(test_original_source, transform_lambda)\n",
    "\n",
    "train_processed_target = Lazy_Iterable_Wrapper(train_original_target, transform_lambda)\n",
    "val_processed_target   = Lazy_Iterable_Wrapper(val_original_target, transform_lambda)\n",
    "test_processed_target  = Lazy_Iterable_Wrapper(test_original_target, transform_lambda)\n",
    "\n",
    "datasets = EasyDict({\n",
    "    \"source\": {\n",
    "        \"original\": {\"train\":train_original_source, \"val\":val_original_source, \"test\":test_original_source},\n",
    "        \"processed\": {\"train\":train_processed_source, \"val\":val_processed_source, \"test\":test_processed_source}\n",
    "    },\n",
    "    \"target\": {\n",
    "        \"original\": {\"train\":train_original_target, \"val\":val_original_target, \"test\":test_original_target},\n",
    "        \"processed\": {\"train\":train_processed_target, \"val\":val_processed_target, \"test\":test_processed_target}\n",
    "    },\n",
    "})"
   ]
  },
  {
   "cell_type": "code",
   "execution_count": 11,
   "id": "296189d9",
   "metadata": {
    "execution": {
     "iopub.execute_input": "2022-03-02T18:00:11.483770Z",
     "iopub.status.busy": "2022-03-02T18:00:11.483503Z",
     "iopub.status.idle": "2022-03-02T18:00:14.019625Z",
     "shell.execute_reply": "2022-03-02T18:00:14.019209Z"
    },
    "papermill": {
     "duration": 2.550197,
     "end_time": "2022-03-02T18:00:14.019733",
     "exception": false,
     "start_time": "2022-03-02T18:00:11.469536",
     "status": "completed"
    },
    "tags": []
   },
   "outputs": [
    {
     "name": "stdout",
     "output_type": "stream",
     "text": [
      "Visually inspect these to see if they line up with expected values given the transforms\n",
      "x_transforms_source []\n",
      "x_transforms_target []\n",
      "Average magnitude, source: 0.004715467\n",
      "Average power, source: 2.7506654e-05\n"
     ]
    },
    {
     "name": "stdout",
     "output_type": "stream",
     "text": [
      "Average magnitude, target: 0.0029831878\n",
      "Average power, target: 1.139243e-05\n"
     ]
    }
   ],
   "source": [
    "# Some quick unit tests on the data\n",
    "from steves_utils.transforms import get_average_power, get_average_magnitude\n",
    "\n",
    "q_x, q_y, s_x, s_y, truth = next(iter(train_processed_source))\n",
    "\n",
    "assert q_x.dtype == eval(p.torch_default_dtype)\n",
    "assert s_x.dtype == eval(p.torch_default_dtype)\n",
    "\n",
    "print(\"Visually inspect these to see if they line up with expected values given the transforms\")\n",
    "print('x_transforms_source', p.x_transforms_source)\n",
    "print('x_transforms_target', p.x_transforms_target)\n",
    "print(\"Average magnitude, source:\", get_average_magnitude(q_x[0].numpy()))\n",
    "print(\"Average power, source:\", get_average_power(q_x[0].numpy()))\n",
    "\n",
    "q_x, q_y, s_x, s_y, truth = next(iter(train_processed_target))\n",
    "print(\"Average magnitude, target:\", get_average_magnitude(q_x[0].numpy()))\n",
    "print(\"Average power, target:\", get_average_power(q_x[0].numpy()))\n"
   ]
  },
  {
   "cell_type": "code",
   "execution_count": 12,
   "id": "bbdacba1",
   "metadata": {
    "execution": {
     "iopub.execute_input": "2022-03-02T18:00:14.046149Z",
     "iopub.status.busy": "2022-03-02T18:00:14.045892Z",
     "iopub.status.idle": "2022-03-02T18:00:14.104911Z",
     "shell.execute_reply": "2022-03-02T18:00:14.105272Z"
    },
    "papermill": {
     "duration": 0.071769,
     "end_time": "2022-03-02T18:00:14.105386",
     "exception": false,
     "start_time": "2022-03-02T18:00:14.033617",
     "status": "completed"
    },
    "tags": []
   },
   "outputs": [
    {
     "name": "stdout",
     "output_type": "stream",
     "text": [
      "(2, 256)\n"
     ]
    }
   ],
   "source": [
    "###################################\n",
    "# Build the model\n",
    "###################################\n",
    "model = Steves_Prototypical_Network(x_net, device=p.device, x_shape=(2,256))\n",
    "optimizer = Adam(params=model.parameters(), lr=p.lr)"
   ]
  },
  {
   "cell_type": "code",
   "execution_count": 13,
   "id": "22b39ac5",
   "metadata": {
    "execution": {
     "iopub.execute_input": "2022-03-02T18:00:14.132778Z",
     "iopub.status.busy": "2022-03-02T18:00:14.132523Z",
     "iopub.status.idle": "2022-03-02T18:05:38.553542Z",
     "shell.execute_reply": "2022-03-02T18:05:38.553314Z"
    },
    "papermill": {
     "duration": 324.43477,
     "end_time": "2022-03-02T18:05:38.553598",
     "exception": false,
     "start_time": "2022-03-02T18:00:14.118828",
     "status": "completed"
    },
    "tags": []
   },
   "outputs": [
    {
     "name": "stdout",
     "output_type": "stream",
     "text": [
      "epoch: 1, [batch: 1 / 420], examples_per_second: 9.7123, train_label_loss: 2.3278, \n"
     ]
    },
    {
     "name": "stdout",
     "output_type": "stream",
     "text": [
      "epoch: 1, [batch: 42 / 420], examples_per_second: 852.8002, train_label_loss: 1.1204, \n"
     ]
    },
    {
     "name": "stdout",
     "output_type": "stream",
     "text": [
      "epoch: 1, [batch: 84 / 420], examples_per_second: 914.2253, train_label_loss: 0.9439, \n"
     ]
    },
    {
     "name": "stdout",
     "output_type": "stream",
     "text": [
      "epoch: 1, [batch: 126 / 420], examples_per_second: 986.3311, train_label_loss: 1.1516, \n"
     ]
    },
    {
     "name": "stdout",
     "output_type": "stream",
     "text": [
      "epoch: 1, [batch: 168 / 420], examples_per_second: 1114.9978, train_label_loss: 0.8261, \n"
     ]
    },
    {
     "name": "stdout",
     "output_type": "stream",
     "text": [
      "epoch: 1, [batch: 210 / 420], examples_per_second: 1228.2571, train_label_loss: 1.0046, \n"
     ]
    },
    {
     "name": "stdout",
     "output_type": "stream",
     "text": [
      "epoch: 1, [batch: 252 / 420], examples_per_second: 1424.2713, train_label_loss: 0.7757, \n"
     ]
    },
    {
     "name": "stdout",
     "output_type": "stream",
     "text": [
      "epoch: 1, [batch: 294 / 420], examples_per_second: 1595.7623, train_label_loss: 1.0705, \n"
     ]
    },
    {
     "name": "stdout",
     "output_type": "stream",
     "text": [
      "epoch: 1, [batch: 336 / 420], examples_per_second: 1874.8655, train_label_loss: 0.7625, \n"
     ]
    },
    {
     "name": "stdout",
     "output_type": "stream",
     "text": [
      "epoch: 1, [batch: 378 / 420], examples_per_second: 2280.1810, train_label_loss: 0.8382, \n"
     ]
    },
    {
     "name": "stdout",
     "output_type": "stream",
     "text": [
      "=============================================================\n",
      "epoch: 1, source_val_acc_label: 0.5323, target_val_acc_label: 0.4735, source_val_label_loss: 1.2419, target_val_label_loss: 1.4183, \n",
      "=============================================================\n"
     ]
    },
    {
     "name": "stdout",
     "output_type": "stream",
     "text": [
      "New best\n"
     ]
    },
    {
     "name": "stdout",
     "output_type": "stream",
     "text": [
      "epoch: 2, [batch: 1 / 420], examples_per_second: 5.3784, train_label_loss: 1.3436, \n"
     ]
    },
    {
     "name": "stdout",
     "output_type": "stream",
     "text": [
      "epoch: 2, [batch: 42 / 420], examples_per_second: 810.0812, train_label_loss: 1.0783, \n"
     ]
    },
    {
     "name": "stdout",
     "output_type": "stream",
     "text": [
      "epoch: 2, [batch: 84 / 420], examples_per_second: 914.3760, train_label_loss: 1.6285, \n"
     ]
    },
    {
     "name": "stdout",
     "output_type": "stream",
     "text": [
      "epoch: 2, [batch: 126 / 420], examples_per_second: 1003.2699, train_label_loss: 0.7159, \n"
     ]
    },
    {
     "name": "stdout",
     "output_type": "stream",
     "text": [
      "epoch: 2, [batch: 168 / 420], examples_per_second: 1091.5258, train_label_loss: 1.0982, \n"
     ]
    },
    {
     "name": "stdout",
     "output_type": "stream",
     "text": [
      "epoch: 2, [batch: 210 / 420], examples_per_second: 1252.8691, train_label_loss: 1.3515, \n"
     ]
    },
    {
     "name": "stdout",
     "output_type": "stream",
     "text": [
      "epoch: 2, [batch: 252 / 420], examples_per_second: 1402.9416, train_label_loss: 0.6416, \n"
     ]
    },
    {
     "name": "stdout",
     "output_type": "stream",
     "text": [
      "epoch: 2, [batch: 294 / 420], examples_per_second: 1615.0337, train_label_loss: 1.1858, \n"
     ]
    },
    {
     "name": "stdout",
     "output_type": "stream",
     "text": [
      "epoch: 2, [batch: 336 / 420], examples_per_second: 1919.0601, train_label_loss: 1.0260, \n"
     ]
    },
    {
     "name": "stdout",
     "output_type": "stream",
     "text": [
      "epoch: 2, [batch: 378 / 420], examples_per_second: 2302.5166, train_label_loss: 0.7339, \n"
     ]
    },
    {
     "name": "stdout",
     "output_type": "stream",
     "text": [
      "=============================================================\n",
      "epoch: 2, source_val_acc_label: 0.6146, target_val_acc_label: 0.4646, source_val_label_loss: 0.8815, target_val_label_loss: 1.3521, \n",
      "=============================================================\n"
     ]
    },
    {
     "name": "stdout",
     "output_type": "stream",
     "text": [
      "New best\n"
     ]
    },
    {
     "name": "stdout",
     "output_type": "stream",
     "text": [
      "epoch: 3, [batch: 1 / 420], examples_per_second: 5.3711, train_label_loss: 1.0019, \n"
     ]
    },
    {
     "name": "stdout",
     "output_type": "stream",
     "text": [
      "epoch: 3, [batch: 42 / 420], examples_per_second: 830.3586, train_label_loss: 0.7006, \n"
     ]
    },
    {
     "name": "stdout",
     "output_type": "stream",
     "text": [
      "epoch: 3, [batch: 84 / 420], examples_per_second: 915.8199, train_label_loss: 0.8781, \n"
     ]
    },
    {
     "name": "stdout",
     "output_type": "stream",
     "text": [
      "epoch: 3, [batch: 126 / 420], examples_per_second: 975.4860, train_label_loss: 0.3545, \n"
     ]
    },
    {
     "name": "stdout",
     "output_type": "stream",
     "text": [
      "epoch: 3, [batch: 168 / 420], examples_per_second: 1091.0649, train_label_loss: 0.6025, \n"
     ]
    },
    {
     "name": "stdout",
     "output_type": "stream",
     "text": [
      "epoch: 3, [batch: 210 / 420], examples_per_second: 1207.4206, train_label_loss: 0.7281, \n"
     ]
    },
    {
     "name": "stdout",
     "output_type": "stream",
     "text": [
      "epoch: 3, [batch: 252 / 420], examples_per_second: 1375.4293, train_label_loss: 0.7024, \n"
     ]
    },
    {
     "name": "stdout",
     "output_type": "stream",
     "text": [
      "epoch: 3, [batch: 294 / 420], examples_per_second: 1615.4680, train_label_loss: 0.7450, \n"
     ]
    },
    {
     "name": "stdout",
     "output_type": "stream",
     "text": [
      "epoch: 3, [batch: 336 / 420], examples_per_second: 1916.4514, train_label_loss: 0.6972, \n"
     ]
    },
    {
     "name": "stdout",
     "output_type": "stream",
     "text": [
      "epoch: 3, [batch: 378 / 420], examples_per_second: 2304.6670, train_label_loss: 0.5929, \n"
     ]
    },
    {
     "name": "stdout",
     "output_type": "stream",
     "text": [
      "=============================================================\n",
      "epoch: 3, source_val_acc_label: 0.7203, target_val_acc_label: 0.4835, source_val_label_loss: 0.6700, target_val_label_loss: 1.5478, \n",
      "=============================================================\n"
     ]
    },
    {
     "name": "stdout",
     "output_type": "stream",
     "text": [
      "epoch: 4, [batch: 1 / 420], examples_per_second: 5.4602, train_label_loss: 0.5704, \n"
     ]
    },
    {
     "name": "stdout",
     "output_type": "stream",
     "text": [
      "epoch: 4, [batch: 42 / 420], examples_per_second: 843.5843, train_label_loss: 0.7664, \n"
     ]
    },
    {
     "name": "stdout",
     "output_type": "stream",
     "text": [
      "epoch: 4, [batch: 84 / 420], examples_per_second: 908.1949, train_label_loss: 0.3850, \n"
     ]
    },
    {
     "name": "stdout",
     "output_type": "stream",
     "text": [
      "epoch: 4, [batch: 126 / 420], examples_per_second: 1005.5150, train_label_loss: 0.6060, \n"
     ]
    },
    {
     "name": "stdout",
     "output_type": "stream",
     "text": [
      "epoch: 4, [batch: 168 / 420], examples_per_second: 1088.2246, train_label_loss: 0.7878, \n"
     ]
    },
    {
     "name": "stdout",
     "output_type": "stream",
     "text": [
      "epoch: 4, [batch: 210 / 420], examples_per_second: 1248.8904, train_label_loss: 0.5637, \n"
     ]
    },
    {
     "name": "stdout",
     "output_type": "stream",
     "text": [
      "epoch: 4, [batch: 252 / 420], examples_per_second: 1413.0689, train_label_loss: 0.6546, \n"
     ]
    },
    {
     "name": "stdout",
     "output_type": "stream",
     "text": [
      "epoch: 4, [batch: 294 / 420], examples_per_second: 1617.7181, train_label_loss: 0.6365, \n"
     ]
    },
    {
     "name": "stdout",
     "output_type": "stream",
     "text": [
      "epoch: 4, [batch: 336 / 420], examples_per_second: 1956.2230, train_label_loss: 0.9195, \n"
     ]
    },
    {
     "name": "stdout",
     "output_type": "stream",
     "text": [
      "epoch: 4, [batch: 378 / 420], examples_per_second: 2337.3502, train_label_loss: 0.2426, \n"
     ]
    },
    {
     "name": "stdout",
     "output_type": "stream",
     "text": [
      "=============================================================\n",
      "epoch: 4, source_val_acc_label: 0.7250, target_val_acc_label: 0.4842, source_val_label_loss: 0.6636, target_val_label_loss: 1.7024, \n",
      "=============================================================\n"
     ]
    },
    {
     "name": "stdout",
     "output_type": "stream",
     "text": [
      "epoch: 5, [batch: 1 / 420], examples_per_second: 5.4048, train_label_loss: 0.9582, \n"
     ]
    },
    {
     "name": "stdout",
     "output_type": "stream",
     "text": [
      "epoch: 5, [batch: 42 / 420], examples_per_second: 826.2949, train_label_loss: 0.5314, \n"
     ]
    },
    {
     "name": "stdout",
     "output_type": "stream",
     "text": [
      "epoch: 5, [batch: 84 / 420], examples_per_second: 908.1305, train_label_loss: 0.4057, \n"
     ]
    },
    {
     "name": "stdout",
     "output_type": "stream",
     "text": [
      "epoch: 5, [batch: 126 / 420], examples_per_second: 987.5809, train_label_loss: 0.3567, \n"
     ]
    },
    {
     "name": "stdout",
     "output_type": "stream",
     "text": [
      "epoch: 5, [batch: 168 / 420], examples_per_second: 1084.6293, train_label_loss: 0.2736, \n"
     ]
    },
    {
     "name": "stdout",
     "output_type": "stream",
     "text": [
      "epoch: 5, [batch: 210 / 420], examples_per_second: 1222.9207, train_label_loss: 0.4224, \n"
     ]
    },
    {
     "name": "stdout",
     "output_type": "stream",
     "text": [
      "epoch: 5, [batch: 252 / 420], examples_per_second: 1391.0264, train_label_loss: 0.5968, \n"
     ]
    },
    {
     "name": "stdout",
     "output_type": "stream",
     "text": [
      "epoch: 5, [batch: 294 / 420], examples_per_second: 1613.5801, train_label_loss: 0.4648, \n"
     ]
    },
    {
     "name": "stdout",
     "output_type": "stream",
     "text": [
      "epoch: 5, [batch: 336 / 420], examples_per_second: 1906.1493, train_label_loss: 0.2473, \n"
     ]
    },
    {
     "name": "stdout",
     "output_type": "stream",
     "text": [
      "epoch: 5, [batch: 378 / 420], examples_per_second: 2377.5998, train_label_loss: 0.4311, \n"
     ]
    },
    {
     "name": "stdout",
     "output_type": "stream",
     "text": [
      "=============================================================\n",
      "epoch: 5, source_val_acc_label: 0.8111, target_val_acc_label: 0.4910, source_val_label_loss: 0.4903, target_val_label_loss: 2.1324, \n",
      "=============================================================\n"
     ]
    },
    {
     "name": "stdout",
     "output_type": "stream",
     "text": [
      "epoch: 6, [batch: 1 / 420], examples_per_second: 5.4135, train_label_loss: 0.4586, \n"
     ]
    },
    {
     "name": "stdout",
     "output_type": "stream",
     "text": [
      "epoch: 6, [batch: 42 / 420], examples_per_second: 833.9651, train_label_loss: 0.5821, \n"
     ]
    },
    {
     "name": "stdout",
     "output_type": "stream",
     "text": [
      "epoch: 6, [batch: 84 / 420], examples_per_second: 902.5053, train_label_loss: 0.3300, \n"
     ]
    },
    {
     "name": "stdout",
     "output_type": "stream",
     "text": [
      "epoch: 6, [batch: 126 / 420], examples_per_second: 995.3423, train_label_loss: 0.2059, \n"
     ]
    },
    {
     "name": "stdout",
     "output_type": "stream",
     "text": [
      "epoch: 6, [batch: 168 / 420], examples_per_second: 1090.4483, train_label_loss: 0.4038, \n"
     ]
    },
    {
     "name": "stdout",
     "output_type": "stream",
     "text": [
      "epoch: 6, [batch: 210 / 420], examples_per_second: 1228.8416, train_label_loss: 0.0501, \n"
     ]
    },
    {
     "name": "stdout",
     "output_type": "stream",
     "text": [
      "epoch: 6, [batch: 252 / 420], examples_per_second: 1384.0767, train_label_loss: 0.1224, \n"
     ]
    },
    {
     "name": "stdout",
     "output_type": "stream",
     "text": [
      "epoch: 6, [batch: 294 / 420], examples_per_second: 1635.0069, train_label_loss: 0.1813, \n"
     ]
    },
    {
     "name": "stdout",
     "output_type": "stream",
     "text": [
      "epoch: 6, [batch: 336 / 420], examples_per_second: 1901.4124, train_label_loss: 0.3457, \n"
     ]
    },
    {
     "name": "stdout",
     "output_type": "stream",
     "text": [
      "epoch: 6, [batch: 378 / 420], examples_per_second: 2302.9237, train_label_loss: 0.5018, \n"
     ]
    },
    {
     "name": "stdout",
     "output_type": "stream",
     "text": [
      "=============================================================\n",
      "epoch: 6, source_val_acc_label: 0.8693, target_val_acc_label: 0.4979, source_val_label_loss: 0.3328, target_val_label_loss: 2.2275, \n",
      "=============================================================\n"
     ]
    },
    {
     "name": "stdout",
     "output_type": "stream",
     "text": [
      "Patience (3) exhausted\n"
     ]
    }
   ],
   "source": [
    "###################################\n",
    "# train\n",
    "###################################\n",
    "jig = PTN_Train_Eval_Test_Jig(model, p.BEST_MODEL_PATH, p.device)\n",
    "\n",
    "jig.train(\n",
    "    train_iterable=datasets.source.processed.train,\n",
    "    source_val_iterable=datasets.source.processed.val,\n",
    "    target_val_iterable=datasets.target.processed.val,\n",
    "    num_epochs=p.n_epoch,\n",
    "    num_logs_per_epoch=p.NUM_LOGS_PER_EPOCH,\n",
    "    patience=p.patience,\n",
    "    optimizer=optimizer,\n",
    "    criteria_for_best=p.criteria_for_best,\n",
    ")"
   ]
  },
  {
   "cell_type": "code",
   "execution_count": 14,
   "id": "31e8fabf",
   "metadata": {
    "execution": {
     "iopub.execute_input": "2022-03-02T18:05:38.599921Z",
     "iopub.status.busy": "2022-03-02T18:05:38.599672Z",
     "iopub.status.idle": "2022-03-02T18:05:38.614568Z",
     "shell.execute_reply": "2022-03-02T18:05:38.614115Z"
    },
    "papermill": {
     "duration": 0.039118,
     "end_time": "2022-03-02T18:05:38.614657",
     "exception": false,
     "start_time": "2022-03-02T18:05:38.575539",
     "status": "completed"
    },
    "tags": []
   },
   "outputs": [],
   "source": [
    "total_experiment_time_secs = time.time() - start_time_secs"
   ]
  },
  {
   "cell_type": "code",
   "execution_count": 15,
   "id": "87b9595b",
   "metadata": {
    "execution": {
     "iopub.execute_input": "2022-03-02T18:05:38.669712Z",
     "iopub.status.busy": "2022-03-02T18:05:38.669447Z",
     "iopub.status.idle": "2022-03-02T18:07:06.904731Z",
     "shell.execute_reply": "2022-03-02T18:07:06.904477Z"
    },
    "papermill": {
     "duration": 88.263865,
     "end_time": "2022-03-02T18:07:06.904793",
     "exception": false,
     "start_time": "2022-03-02T18:05:38.640928",
     "status": "completed"
    },
    "tags": []
   },
   "outputs": [],
   "source": [
    "###################################\n",
    "# Evaluate the model\n",
    "###################################\n",
    "source_test_label_accuracy, source_test_label_loss = jig.test(datasets.source.processed.test)\n",
    "target_test_label_accuracy, target_test_label_loss = jig.test(datasets.target.processed.test)\n",
    "\n",
    "source_val_label_accuracy, source_val_label_loss = jig.test(datasets.source.processed.val)\n",
    "target_val_label_accuracy, target_val_label_loss = jig.test(datasets.target.processed.val)\n",
    "\n",
    "history = jig.get_history()\n",
    "\n",
    "total_epochs_trained = len(history[\"epoch_indices\"])\n",
    "\n",
    "val_dl = Iterable_Aggregator((datasets.source.original.val,datasets.target.original.val))\n",
    "\n",
    "confusion = ptn_confusion_by_domain_over_dataloader(model, p.device, val_dl)\n",
    "per_domain_accuracy = per_domain_accuracy_from_confusion(confusion)\n",
    "\n",
    "# Add a key to per_domain_accuracy for if it was a source domain\n",
    "for domain, accuracy in per_domain_accuracy.items():\n",
    "    per_domain_accuracy[domain] = {\n",
    "        \"accuracy\": accuracy,\n",
    "        \"source?\": domain in p.domains_source\n",
    "    }\n",
    "\n",
    "# Do an independent accuracy assesment JUST TO BE SURE!\n",
    "# _source_test_label_accuracy = independent_accuracy_assesment(model, datasets.source.processed.test, p.device)\n",
    "# _target_test_label_accuracy = independent_accuracy_assesment(model, datasets.target.processed.test, p.device)\n",
    "# _source_val_label_accuracy = independent_accuracy_assesment(model, datasets.source.processed.val, p.device)\n",
    "# _target_val_label_accuracy = independent_accuracy_assesment(model, datasets.target.processed.val, p.device)\n",
    "\n",
    "# assert(_source_test_label_accuracy == source_test_label_accuracy)\n",
    "# assert(_target_test_label_accuracy == target_test_label_accuracy)\n",
    "# assert(_source_val_label_accuracy == source_val_label_accuracy)\n",
    "# assert(_target_val_label_accuracy == target_val_label_accuracy)\n",
    "\n",
    "experiment = {\n",
    "    \"experiment_name\": p.experiment_name,\n",
    "    \"parameters\": dict(p),\n",
    "    \"results\": {\n",
    "        \"source_test_label_accuracy\": source_test_label_accuracy,\n",
    "        \"source_test_label_loss\": source_test_label_loss,\n",
    "        \"target_test_label_accuracy\": target_test_label_accuracy,\n",
    "        \"target_test_label_loss\": target_test_label_loss,\n",
    "        \"source_val_label_accuracy\": source_val_label_accuracy,\n",
    "        \"source_val_label_loss\": source_val_label_loss,\n",
    "        \"target_val_label_accuracy\": target_val_label_accuracy,\n",
    "        \"target_val_label_loss\": target_val_label_loss,\n",
    "        \"total_epochs_trained\": total_epochs_trained,\n",
    "        \"total_experiment_time_secs\": total_experiment_time_secs,\n",
    "        \"confusion\": confusion,\n",
    "        \"per_domain_accuracy\": per_domain_accuracy,\n",
    "    },\n",
    "    \"history\": history,\n",
    "    \"dataset_metrics\": get_dataset_metrics(datasets, \"ptn\"),\n",
    "}"
   ]
  },
  {
   "cell_type": "code",
   "execution_count": 16,
   "id": "54a21829",
   "metadata": {
    "execution": {
     "iopub.execute_input": "2022-03-02T18:07:06.952666Z",
     "iopub.status.busy": "2022-03-02T18:07:06.952165Z",
     "iopub.status.idle": "2022-03-02T18:07:07.132213Z",
     "shell.execute_reply": "2022-03-02T18:07:07.132622Z"
    },
    "papermill": {
     "duration": 0.205291,
     "end_time": "2022-03-02T18:07:07.132749",
     "exception": false,
     "start_time": "2022-03-02T18:07:06.927458",
     "status": "completed"
    },
    "tags": []
   },
   "outputs": [
    {
     "data": {
      "image/png": "[encoded data removed]",
      "text/plain": [
       "<Figure size 1080x504 with 1 Axes>"
      ]
     },
     "metadata": {
      "needs_background": "light"
     },
     "output_type": "display_data"
    }
   ],
   "source": [
    "ax = get_loss_curve(experiment)\n",
    "plt.show()"
   ]
  },
  {
   "cell_type": "code",
   "execution_count": 17,
   "id": "fd8a0f60",
   "metadata": {
    "execution": {
     "iopub.execute_input": "2022-03-02T18:07:07.186800Z",
     "iopub.status.busy": "2022-03-02T18:07:07.186547Z",
     "iopub.status.idle": "2022-03-02T18:07:07.442229Z",
     "shell.execute_reply": "2022-03-02T18:07:07.442654Z"
    },
    "papermill": {
     "duration": 0.281089,
     "end_time": "2022-03-02T18:07:07.442786",
     "exception": false,
     "start_time": "2022-03-02T18:07:07.161697",
     "status": "completed"
    },
    "tags": []
   },
   "outputs": [
    {
     "data": {
      "text/plain": [
       "<matplotlib.axes._subplots.AxesSubplot at 0x7f1720725850>"
      ]
     },
     "execution_count": 17,
     "metadata": {},
     "output_type": "execute_result"
    },
    {
     "data": {
      "image/png": "[encoded data removed]",
      "text/plain": [
       "<Figure size 1080x504 with 1 Axes>"
      ]
     },
     "metadata": {
      "needs_background": "light"
     },
     "output_type": "display_data"
    }
   ],
   "source": [
    "get_results_table(experiment)"
   ]
  },
  {
   "cell_type": "code",
   "execution_count": 18,
   "id": "cf8dc689",
   "metadata": {
    "execution": {
     "iopub.execute_input": "2022-03-02T18:07:07.499682Z",
     "iopub.status.busy": "2022-03-02T18:07:07.499413Z",
     "iopub.status.idle": "2022-03-02T18:07:07.672216Z",
     "shell.execute_reply": "2022-03-02T18:07:07.672626Z"
    },
    "papermill": {
     "duration": 0.199926,
     "end_time": "2022-03-02T18:07:07.672755",
     "exception": false,
     "start_time": "2022-03-02T18:07:07.472829",
     "status": "completed"
    },
    "tags": []
   },
   "outputs": [
    {
     "data": {
      "text/plain": [
       "<matplotlib.axes._subplots.AxesSubplot at 0x7f1720706c70>"
      ]
     },
     "execution_count": 18,
     "metadata": {},
     "output_type": "execute_result"
    },
    {
     "data": {
      "image/png": "[encoded data removed]",
      "text/plain": [
       "<Figure size 1080x504 with 1 Axes>"
      ]
     },
     "metadata": {
      "needs_background": "light"
     },
     "output_type": "display_data"
    }
   ],
   "source": [
    "get_domain_accuracies(experiment)"
   ]
  },
  {
   "cell_type": "code",
   "execution_count": 19,
   "id": "a74ae082",
   "metadata": {
    "execution": {
     "iopub.execute_input": "2022-03-02T18:07:07.731611Z",
     "iopub.status.busy": "2022-03-02T18:07:07.731351Z",
     "iopub.status.idle": "2022-03-02T18:07:07.745628Z",
     "shell.execute_reply": "2022-03-02T18:07:07.745143Z"
    },
    "papermill": {
     "duration": 0.042311,
     "end_time": "2022-03-02T18:07:07.745728",
     "exception": false,
     "start_time": "2022-03-02T18:07:07.703417",
     "status": "completed"
    },
    "tags": []
   },
   "outputs": [
    {
     "name": "stdout",
     "output_type": "stream",
     "text": [
      "Source Test Label Accuracy: 0.6112847222222222 Target Test Label Accuracy: 0.45927083333333335\n",
      "Source Val Label Accuracy: 0.6145833333333334 Target Val Label Accuracy: 0.46458333333333335\n"
     ]
    }
   ],
   "source": [
    "print(\"Source Test Label Accuracy:\", experiment[\"results\"][\"source_test_label_accuracy\"], \"Target Test Label Accuracy:\", experiment[\"results\"][\"target_test_label_accuracy\"])\n",
    "print(\"Source Val Label Accuracy:\", experiment[\"results\"][\"source_val_label_accuracy\"], \"Target Val Label Accuracy:\", experiment[\"results\"][\"target_val_label_accuracy\"])"
   ]
  },
  {
   "cell_type": "code",
   "execution_count": 20,
   "id": "dacca602",
   "metadata": {
    "execution": {
     "iopub.execute_input": "2022-03-02T18:07:07.803757Z",
     "iopub.status.busy": "2022-03-02T18:07:07.803483Z",
     "iopub.status.idle": "2022-03-02T18:07:07.816106Z",
     "shell.execute_reply": "2022-03-02T18:07:07.816468Z"
    },
    "papermill": {
     "duration": 0.040441,
     "end_time": "2022-03-02T18:07:07.816588",
     "exception": false,
     "start_time": "2022-03-02T18:07:07.776147",
     "status": "completed"
    },
    "tags": [
     "experiment_json"
    ]
   },
   "outputs": [
    {
     "data": {
      "text/plain": [
       "'{\"experiment_name\": \"baseline_ptn_32bit_oracle.run2.framed\", \"parameters\": {\"experiment_name\": \"baseline_ptn_32bit_oracle.run2.framed\", \"lr\": 0.001, \"device\": \"cuda\", \"seed\": 1337, \"dataset_seed\": 1337, \"labels_source\": [\"3123D52\", \"3123D65\", \"3123D79\", \"3123D80\", \"3123D54\", \"3123D70\", \"3123D7B\", \"3123D89\", \"3123D58\", \"3123D76\", \"3123D7D\", \"3123EFE\", \"3123D64\", \"3123D78\", \"3123D7E\", \"3124E4A\"], \"labels_target\": [\"3123D52\", \"3123D65\", \"3123D79\", \"3123D80\", \"3123D54\", \"3123D70\", \"3123D7B\", \"3123D89\", \"3123D58\", \"3123D76\", \"3123D7D\", \"3123EFE\", \"3123D64\", \"3123D78\", \"3123D7E\", \"3124E4A\"], \"x_transforms_source\": [], \"x_transforms_target\": [], \"episode_transforms_source\": [], \"episode_transforms_target\": [], \"num_examples_per_domain_per_label_source\": 1000, \"num_examples_per_domain_per_label_target\": 1000, \"n_shot\": 3, \"n_way\": 16, \"n_query\": 2, \"train_k_factor\": 1, \"val_k_factor\": 2, \"test_k_factor\": 2, \"torch_default_dtype\": \"torch.float32\", \"n_epoch\": 50, \"patience\": 3, \"criteria_for_best\": \"target_loss\", \"x_net\": [{\"class\": \"nnReshape\", \"kargs\": {\"shape\": [-1, 1, 2, 256]}}, {\"class\": \"Conv2d\", \"kargs\": {\"in_channels\": 1, \"out_channels\": 256, \"kernel_size\": [1, 7], \"bias\": false, \"padding\": [0, 3]}}, {\"class\": \"ReLU\", \"kargs\": {\"inplace\": true}}, {\"class\": \"BatchNorm2d\", \"kargs\": {\"num_features\": 256}}, {\"class\": \"Conv2d\", \"kargs\": {\"in_channels\": 256, \"out_channels\": 80, \"kernel_size\": [2, 7], \"bias\": true, \"padding\": [0, 3]}}, {\"class\": \"ReLU\", \"kargs\": {\"inplace\": true}}, {\"class\": \"BatchNorm2d\", \"kargs\": {\"num_features\": 80}}, {\"class\": \"Flatten\", \"kargs\": {}}, {\"class\": \"Linear\", \"kargs\": {\"in_features\": 20480, \"out_features\": 256}}, {\"class\": \"ReLU\", \"kargs\": {\"inplace\": true}}, {\"class\": \"BatchNorm1d\", \"kargs\": {\"num_features\": 256}}, {\"class\": \"Linear\", \"kargs\": {\"in_features\": 256, \"out_features\": 256}}], \"NUM_LOGS_PER_EPOCH\": 10, \"BEST_MODEL_PATH\": \"./best_model.pth\", \"pickle_name\": \"oracle.Run2_framed_1300Examples_stratified_ds.2022A.pkl\", \"domains_source\": [8, 32, 50], \"domains_target\": [14, 20, 26, 38, 44]}, \"results\": {\"source_test_label_accuracy\": 0.6112847222222222, \"source_test_label_loss\": 0.9239497780799866, \"target_test_label_accuracy\": 0.45927083333333335, \"target_test_label_loss\": 1.3566328287124634, \"source_val_label_accuracy\": 0.6145833333333334, \"source_val_label_loss\": 0.8815019726753235, \"target_val_label_accuracy\": 0.46458333333333335, \"target_val_label_loss\": 1.3520691394805908, \"total_epochs_trained\": 6, \"total_experiment_time_secs\": 327.93723821640015, \"confusion\": {\"8\": {\"15\": {\"15\": 94, \"9\": 26}, \"3\": {\"3\": 116, \"15\": 1, \"9\": 3}, \"6\": {\"14\": 44, \"8\": 35, \"6\": 39, \"4\": 2}, \"1\": {\"7\": 39, \"10\": 16, \"4\": 17, \"1\": 36, \"11\": 12}, \"8\": {\"8\": 49, \"6\": 25, \"11\": 6, \"14\": 33, \"4\": 7}, \"10\": {\"13\": 26, \"10\": 41, \"7\": 29, \"1\": 20, \"4\": 1, \"5\": 3}, \"9\": {\"15\": 36, \"9\": 84}, \"13\": {\"13\": 60, \"5\": 47, \"10\": 11, \"7\": 1, \"2\": 1}, \"12\": {\"12\": 112, \"2\": 7, \"15\": 1}, \"5\": {\"5\": 61, \"13\": 49, \"10\": 8, \"2\": 2}, \"0\": {\"0\": 120}, \"2\": {\"2\": 101, \"5\": 3, \"12\": 15, \"13\": 1}, \"11\": {\"11\": 51, \"4\": 41, \"1\": 13, \"10\": 2, \"8\": 4, \"7\": 9}, \"14\": {\"6\": 46, \"8\": 32, \"14\": 42}, \"7\": {\"10\": 28, \"4\": 5, \"7\": 37, \"1\": 32, \"11\": 18}, \"4\": {\"11\": 46, \"1\": 17, \"10\": 4, \"4\": 41, \"6\": 2, \"7\": 8, \"8\": 1, \"14\": 1}}, \"50\": {\"3\": {\"6\": 19, \"15\": 16, \"5\": 21, \"9\": 35, \"3\": 27, \"4\": 2}, \"15\": {\"9\": 22, \"3\": 25, \"6\": 24, \"12\": 6, \"15\": 39, \"5\": 4}, \"8\": {\"8\": 102, \"10\": 7, \"1\": 11}, \"4\": {\"5\": 16, \"4\": 94, \"7\": 3, \"6\": 1, \"3\": 3, \"9\": 3}, \"14\": {\"2\": 49, \"14\": 71}, \"0\": {\"0\": 116, \"10\": 1, \"2\": 3}, \"7\": {\"7\": 115, \"4\": 5}, \"6\": {\"9\": 24, \"5\": 13, \"6\": 26, \"15\": 36, \"12\": 1, \"3\": 19, \"4\": 1}, \"10\": {\"10\": 117, \"8\": 3}, \"5\": {\"5\": 52, \"6\": 12, \"3\": 11, \"4\": 27, \"9\": 12, \"7\": 4, \"15\": 2}, \"2\": {\"14\": 58, \"2\": 62}, \"12\": {\"12\": 112, \"11\": 1, \"15\": 5, \"9\": 2}, \"9\": {\"9\": 22, \"5\": 27, \"15\": 29, \"6\": 16, \"4\": 6, \"3\": 20}, \"1\": {\"1\": 106, \"13\": 5, \"8\": 9}, \"11\": {\"11\": 114, \"13\": 6}, \"13\": {\"13\": 95, \"1\": 15, \"11\": 10}}, \"32\": {\"5\": {\"15\": 57, \"5\": 63}, \"8\": {\"0\": 18, \"8\": 47, \"2\": 41, \"7\": 13, \"1\": 1}, \"11\": {\"9\": 32, \"13\": 29, \"11\": 58, \"3\": 1}, \"1\": {\"1\": 92, \"4\": 27, \"8\": 1}, \"10\": {\"10\": 117, \"12\": 3}, \"15\": {\"5\": 57, \"15\": 59, \"14\": 4}, \"3\": {\"3\": 119, \"4\": 1}, \"7\": {\"7\": 59, \"8\": 5, \"0\": 42, \"14\": 8, \"2\": 6}, \"4\": {\"1\": 19, \"4\": 91, \"3\": 10}, \"14\": {\"5\": 2, \"14\": 111, \"7\": 4, \"15\": 3}, \"9\": {\"9\": 37, \"11\": 26, \"13\": 46, \"12\": 11}, \"12\": {\"12\": 96, \"10\": 9, \"9\": 11, \"13\": 4}, \"6\": {\"6\": 120}, \"2\": {\"8\": 49, \"2\": 34, \"0\": 22, \"7\": 14, \"1\": 1}, \"0\": {\"7\": 49, \"0\": 38, \"2\": 20, \"8\": 13}, \"13\": {\"9\": 35, \"11\": 40, \"13\": 45}}, \"14\": {\"15\": {\"15\": 119, \"13\": 1}, \"3\": {\"3\": 65, \"7\": 34, \"6\": 11, \"14\": 4, \"2\": 6}, \"6\": {\"6\": 92, \"13\": 13, \"3\": 14, \"7\": 1}, \"1\": {\"1\": 104, \"9\": 16}, \"8\": {\"10\": 44, \"4\": 26, \"5\": 8, \"0\": 17, \"8\": 25}, \"10\": {\"10\": 48, \"8\": 41, \"0\": 9, \"5\": 11, \"4\": 11}, \"9\": {\"9\": 93, \"1\": 25, \"4\": 2}, \"13\": {\"13\": 95, \"6\": 25}, \"12\": {\"12\": 111, \"11\": 9}, \"5\": {\"2\": 8, \"5\": 75, \"10\": 16, \"14\": 9, \"8\": 10, \"7\": 2}, \"0\": {\"0\": 36, \"4\": 42, \"8\": 17, \"10\": 18, \"5\": 7}, \"2\": {\"7\": 22, \"5\": 22, \"2\": 39, \"14\": 20, \"8\": 1, \"10\": 3, \"3\": 13}, \"11\": {\"11\": 108, \"12\": 12}, \"14\": {\"7\": 16, \"2\": 35, \"5\": 26, \"14\": 36, \"3\": 7}, \"7\": {\"3\": 36, \"7\": 37, \"2\": 16, \"6\": 7, \"14\": 21, \"5\": 3}, \"4\": {\"0\": 40, \"4\": 55, \"8\": 18, \"10\": 5, \"9\": 2}}, \"20\": {\"3\": {\"6\": 10, \"2\": 16, \"15\": 14, \"9\": 18, \"5\": 14, \"3\": 22, \"1\": 16, \"7\": 4, \"4\": 4, \"14\": 1, \"10\": 1}, \"15\": {\"4\": 17, \"6\": 18, \"15\": 19, \"2\": 9, \"10\": 7, \"13\": 5, \"5\": 10, \"12\": 2, \"7\": 10, \"9\": 11, \"3\": 7, \"1\": 5}, \"8\": {\"8\": 30, \"14\": 33, \"0\": 35, \"11\": 19, \"1\": 3}, \"4\": {\"6\": 17, \"2\": 4, \"4\": 40, \"15\": 15, \"10\": 9, \"5\": 1, \"7\": 18, \"13\": 6, \"9\": 4, \"3\": 1, \"12\": 5}, \"14\": {\"1\": 19, \"0\": 6, \"11\": 27, \"8\": 22, \"14\": 45, \"5\": 1}, \"0\": {\"0\": 59, \"14\": 9, \"11\": 33, \"8\": 19}, \"7\": {\"4\": 15, \"1\": 6, \"15\": 12, \"6\": 19, \"12\": 6, \"10\": 22, \"7\": 11, \"2\": 8, \"3\": 3, \"9\": 5, \"5\": 6, \"13\": 7}, \"6\": {\"5\": 7, \"2\": 11, \"4\": 15, \"15\": 15, \"7\": 15, \"9\": 10, \"10\": 11, \"12\": 7, \"6\": 15, \"3\": 4, \"13\": 10}, \"10\": {\"13\": 24, \"10\": 25, \"12\": 28, \"7\": 9, \"4\": 16, \"2\": 1, \"6\": 10, \"15\": 6, \"9\": 1}, \"5\": {\"5\": 24, \"2\": 21, \"9\": 11, \"1\": 24, \"15\": 10, \"7\": 3, \"14\": 8, \"3\": 14, \"6\": 4, \"4\": 1}, \"2\": {\"6\": 13, \"1\": 11, \"9\": 21, \"15\": 12, \"2\": 21, \"5\": 16, \"3\": 14, \"4\": 4, \"7\": 8}, \"12\": {\"12\": 51, \"13\": 29, \"4\": 9, \"10\": 26, \"15\": 2, \"9\": 1, \"7\": 1, \"6\": 1}, \"9\": {\"5\": 19, \"15\": 13, \"3\": 17, \"9\": 19, \"2\": 18, \"4\": 6, \"7\": 8, \"1\": 11, \"6\": 9}, \"1\": {\"1\": 50, \"8\": 3, \"5\": 20, \"2\": 9, \"14\": 23, \"3\": 9, \"9\": 5, \"15\": 1}, \"11\": {\"11\": 35, \"0\": 35, \"8\": 33, \"14\": 16, \"1\": 1}, \"13\": {\"4\": 19, \"12\": 40, \"10\": 22, \"15\": 3, \"13\": 28, \"7\": 7, \"6\": 1}}, \"44\": {\"5\": {\"5\": 97, \"14\": 16, \"9\": 4, \"4\": 1, \"8\": 2}, \"8\": {\"8\": 85, \"15\": 31, \"0\": 2, \"5\": 2}, \"11\": {\"11\": 120}, \"1\": {\"1\": 91, \"0\": 12, \"2\": 17}, \"10\": {\"10\": 57, \"6\": 45, \"13\": 18}, \"15\": {\"8\": 40, \"15\": 45, \"0\": 22, \"2\": 12, \"1\": 1}, \"3\": {\"12\": 50, \"3\": 70}, \"7\": {\"7\": 32, \"4\": 52, \"9\": 20, \"14\": 13, \"5\": 3}, \"4\": {\"4\": 46, \"9\": 18, \"7\": 42, \"14\": 13, \"5\": 1}, \"14\": {\"4\": 16, \"5\": 24, \"14\": 39, \"9\": 30, \"7\": 11}, \"9\": {\"4\": 37, \"9\": 34, \"14\": 23, \"7\": 20, \"5\": 6}, \"12\": {\"12\": 51, \"3\": 69}, \"6\": {\"10\": 49, \"13\": 25, \"6\": 46}, \"2\": {\"15\": 14, \"2\": 39, \"1\": 19, \"0\": 47, \"8\": 1}, \"0\": {\"15\": 30, \"0\": 34, \"1\": 12, \"2\": 34, \"8\": 10}, \"13\": {\"13\": 74, \"10\": 21, \"6\": 25}}, \"38\": {\"14\": {\"14\": 104, \"0\": 14, \"7\": 2}, \"0\": {\"14\": 12, \"0\": 59, \"7\": 49}, \"13\": {\"13\": 45, \"4\": 45, \"10\": 25, \"3\": 5}, \"7\": {\"7\": 65, \"0\": 42, \"8\": 8, \"14\": 5}, \"9\": {\"12\": 18, \"9\": 93, \"5\": 8, \"2\": 1}, \"3\": {\"3\": 114, \"13\": 4, \"4\": 2}, \"11\": {\"11\": 120}, \"6\": {\"6\": 87, \"1\": 33}, \"8\": {\"2\": 56, \"7\": 7, \"8\": 52, \"0\": 2, \"9\": 3}, \"4\": {\"10\": 43, \"13\": 42, \"4\": 35}, \"5\": {\"5\": 78, \"12\": 32, \"9\": 10}, \"10\": {\"4\": 27, \"10\": 77, \"13\": 16}, \"1\": {\"1\": 79, \"6\": 30, \"15\": 11}, \"2\": {\"2\": 60, \"8\": 56, \"9\": 3, \"7\": 1}, \"15\": {\"15\": 116, \"1\": 4}, \"12\": {\"5\": 45, \"12\": 48, \"9\": 26, \"8\": 1}}, \"26\": {\"13\": {\"13\": 28, \"12\": 11, \"3\": 28, \"9\": 29, \"7\": 17, \"8\": 1, \"2\": 5, \"4\": 1}, \"2\": {\"12\": 18, \"15\": 16, \"8\": 37, \"2\": 27, \"7\": 15, \"9\": 5, \"10\": 1, \"13\": 1}, \"8\": {\"12\": 23, \"8\": 33, \"15\": 32, \"9\": 8, \"2\": 10, \"7\": 12, \"10\": 2}, \"9\": {\"13\": 28, \"3\": 24, \"9\": 21, \"12\": 14, \"8\": 10, \"7\": 13, \"15\": 2, \"2\": 8}, \"12\": {\"9\": 16, \"7\": 19, \"15\": 15, \"8\": 18, \"3\": 5, \"10\": 2, \"2\": 27, \"12\": 17, \"13\": 1}, \"4\": {\"4\": 117, \"13\": 2, \"3\": 1}, \"3\": {\"3\": 32, \"12\": 9, \"13\": 36, \"7\": 10, \"2\": 4, \"9\": 22, \"8\": 5, \"4\": 2}, \"15\": {\"15\": 41, \"8\": 26, \"10\": 16, \"2\": 17, \"0\": 3, \"12\": 10, \"6\": 1, \"7\": 6}, \"14\": {\"5\": 17, \"14\": 41, \"11\": 27, \"6\": 24, \"1\": 6, \"0\": 5}, \"10\": {\"10\": 64, \"0\": 29, \"15\": 19, \"6\": 2, \"8\": 3, \"11\": 1, \"14\": 1, \"2\": 1}, \"7\": {\"12\": 17, \"8\": 24, \"7\": 23, \"9\": 18, \"15\": 12, \"13\": 9, \"2\": 13, \"3\": 4}, \"11\": {\"14\": 19, \"1\": 17, \"10\": 1, \"5\": 31, \"11\": 25, \"6\": 14, \"0\": 13}, \"6\": {\"14\": 17, \"11\": 17, \"6\": 29, \"0\": 27, \"5\": 4, \"15\": 2, \"1\": 1, \"10\": 23}, \"1\": {\"5\": 44, \"1\": 59, \"11\": 11, \"14\": 6}, \"5\": {\"5\": 39, \"14\": 26, \"1\": 32, \"11\": 20, \"6\": 3}, \"0\": {\"10\": 41, \"0\": 40, \"14\": 7, \"11\": 4, \"6\": 23, \"15\": 3, \"12\": 1, \"8\": 1}}}, \"per_domain_accuracy\": {\"8\": {\"accuracy\": 0.5645833333333333, \"source?\": true}, \"50\": {\"accuracy\": 0.6614583333333334, \"source?\": true}, \"32\": {\"accuracy\": 0.6177083333333333, \"source?\": true}, \"14\": {\"accuracy\": 0.5927083333333333, \"source?\": false}, \"20\": {\"accuracy\": 0.25729166666666664, \"source?\": false}, \"44\": {\"accuracy\": 0.5, \"source?\": false}, \"38\": {\"accuracy\": 0.6416666666666667, \"source?\": false}, \"26\": {\"accuracy\": 0.33125, \"source?\": false}}}, \"history\": {\"epoch_indices\": [1, 2, 3, 4, 5, 6], \"train_label_loss\": [0.9668015612023217, 0.937934555539063, 0.7248896717315628, 0.5489442028460049, 0.43165093983213104, 0.32376440237498], \"source_val_label_loss\": [1.2418596744537354, 0.8815019726753235, 0.67003333568573, 0.6636072397232056, 0.49028903245925903, 0.332773357629776], \"target_val_label_loss\": [1.418298363685608, 1.3520691394805908, 1.5477672815322876, 1.7023805379867554, 2.1323721408843994, 2.2275025844573975], \"source_val_acc_label\": [0.5322916666666667, 0.6145833333333334, 0.7203125, 0.725, 0.8111111111111111, 0.8692708333333333], \"target_val_acc_label\": [0.4735416666666667, 0.46458333333333335, 0.48354166666666665, 0.4841666666666667, 0.49104166666666665, 0.4979166666666667]}, \"dataset_metrics\": {\"source\": {\"train\": {\"n_unique_x\": 33600, \"n_unique_y\": 16, \"n_batch/episode\": 420}, \"val\": {\"n_unique_x\": 7200, \"n_unique_y\": 16, \"n_batch/episode\": 180}, \"test\": {\"n_unique_x\": 7200, \"n_unique_y\": 16, \"n_batch/episode\": 180}}, \"target\": {\"train\": {\"n_unique_x\": 56000, \"n_unique_y\": 16, \"n_batch/episode\": 700}, \"val\": {\"n_unique_x\": 12000, \"n_unique_y\": 16, \"n_batch/episode\": 300}, \"test\": {\"n_unique_x\": 12000, \"n_unique_y\": 16, \"n_batch/episode\": 300}}}}'"
      ]
     },
     "execution_count": 20,
     "metadata": {},
     "output_type": "execute_result"
    }
   ],
   "source": [
    "json.dumps(experiment)"
   ]
  }
 ],
 "metadata": {
  "celltoolbar": "Tags",
  "kernelspec": {
   "display_name": "Python 3 (ipykernel)",
   "language": "python",
   "name": "python3"
  },
  "language_info": {
   "codemirror_mode": {
    "name": "ipython",
    "version": 3
   },
   "file_extension": ".py",
   "mimetype": "text/x-python",
   "name": "python",
   "nbconvert_exporter": "python",
   "pygments_lexer": "ipython3",
   "version": "3.8.10"
  },
  "papermill": {
   "default_parameters": {},
   "duration": 419.640168,
   "end_time": "2022-03-02T18:07:08.454334",
   "environment_variables": {},
   "exception": null,
   "input_path": "/mnt/wd500GB/CSC500/csc500-main/csc500-notebooks/templates/ptn_template.ipynb",
   "output_path": "trial.ipynb",
   "parameters": {
    "parameters": {
     "BEST_MODEL_PATH": "./best_model.pth",
     "NUM_LOGS_PER_EPOCH": 10,
     "criteria_for_best": "target_loss",
     "dataset_seed": 1337,
     "device": "cuda",
     "domains_source": [
      8,
      32,
      50
     ],
     "domains_target": [
      14,
      20,
      26,
      38,
      44
     ],
     "episode_transforms_source": [],
     "episode_transforms_target": [],
     "experiment_name": "baseline_ptn_32bit_oracle.run2.framed",
     "labels_source": [
      "3123D52",
      "3123D65",
      "3123D79",
      "3123D80",
      "3123D54",
      "3123D70",
      "3123D7B",
      "3123D89",
      "3123D58",
      "3123D76",
      "3123D7D",
      "3123EFE",
      "3123D64",
      "3123D78",
      "3123D7E",
      "3124E4A"
     ],
     "labels_target": [
      "3123D52",
      "3123D65",
      "3123D79",
      "3123D80",
      "3123D54",
      "3123D70",
      "3123D7B",
      "3123D89",
      "3123D58",
      "3123D76",
      "3123D7D",
      "3123EFE",
      "3123D64",
      "3123D78",
      "3123D7E",
      "3124E4A"
     ],
     "lr": 0.001,
     "n_epoch": 50,
     "n_query": 2,
     "n_shot": 3,
     "n_way": 16,
     "num_examples_per_domain_per_label_source": 1000,
     "num_examples_per_domain_per_label_target": 1000,
     "patience": 3,
     "pickle_name": "oracle.Run2_framed_1300Examples_stratified_ds.2022A.pkl",
     "seed": 1337,
     "test_k_factor": 2,
     "torch_default_dtype": "torch.float32",
     "train_k_factor": 1,
     "val_k_factor": 2,
     "x_net": [
      {
       "class": "nnReshape",
       "kargs": {
        "shape": [
         -1,
         1,
         2,
         256
        ]
       }
      },
      {
       "class": "Conv2d",
       "kargs": {
        "bias": false,
        "in_channels": 1,
        "kernel_size": [
         1,
         7
        ],
        "out_channels": 256,
        "padding": [
         0,
         3
        ]
       }
      },
      {
       "class": "ReLU",
       "kargs": {
        "inplace": true
       }
      },
      {
       "class": "BatchNorm2d",
       "kargs": {
        "num_features": 256
       }
      },
      {
       "class": "Conv2d",
       "kargs": {
        "bias": true,
        "in_channels": 256,
        "kernel_size": [
         2,
         7
        ],
        "out_channels": 80,
        "padding": [
         0,
         3
        ]
       }
      },
      {
       "class": "ReLU",
       "kargs": {
        "inplace": true
       }
      },
      {
       "class": "BatchNorm2d",
       "kargs": {
        "num_features": 80
       }
      },
      {
       "class": "Flatten",
       "kargs": {}
      },
      {
       "class": "Linear",
       "kargs": {
        "in_features": 20480,
        "out_features": 256
       }
      },
      {
       "class": "ReLU",
       "kargs": {
        "inplace": true
       }
      },
      {
       "class": "BatchNorm1d",
       "kargs": {
        "num_features": 256
       }
      },
      {
       "class": "Linear",
       "kargs": {
        "in_features": 256,
        "out_features": 256
       }
      }
     ],
     "x_transforms_source": [],
     "x_transforms_target": []
    }
   },
   "start_time": "2022-03-02T18:00:08.814166",
   "version": "2.3.4"
  }
 },
 "nbformat": 4,
 "nbformat_minor": 5
}