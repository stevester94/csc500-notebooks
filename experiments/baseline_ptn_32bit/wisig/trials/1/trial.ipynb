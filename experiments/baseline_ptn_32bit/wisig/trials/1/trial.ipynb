{
 "cells": [
  {
   "cell_type": "markdown",
   "id": "9fea5f46",
   "metadata": {
    "papermill": {
     "duration": 0.014657,
     "end_time": "2022-04-03T06:15:41.240901",
     "exception": false,
     "start_time": "2022-04-03T06:15:41.226244",
     "status": "completed"
    },
    "tags": []
   },
   "source": [
    "# PTN Template\n",
    "This notebook serves as a template for single dataset PTN experiments  \n",
    "It can be run on its own by setting STANDALONE to True (do a find for \"STANDALONE\" to see where)  \n",
    "But it is intended to be executed as part of a *papermill.py script. See any of the   \n",
    "experimentes with a papermill script to get started with that workflow.  "
   ]
  },
  {
   "cell_type": "code",
   "execution_count": 1,
   "id": "0902182a",
   "metadata": {
    "execution": {
     "iopub.execute_input": "2022-04-03T06:15:41.274960Z",
     "iopub.status.busy": "2022-04-03T06:15:41.272092Z",
     "iopub.status.idle": "2022-04-03T06:15:42.181556Z",
     "shell.execute_reply": "2022-04-03T06:15:42.181783Z"
    },
    "papermill": {
     "duration": 0.93152,
     "end_time": "2022-04-03T06:15:42.181914",
     "exception": false,
     "start_time": "2022-04-03T06:15:41.250394",
     "status": "completed"
    },
    "tags": []
   },
   "outputs": [],
   "source": [
    "%load_ext autoreload\n",
    "%autoreload 2\n",
    "%matplotlib inline\n",
    "\n",
    "    \n",
    "import os, json, sys, time, random\n",
    "import numpy as np\n",
    "import torch\n",
    "from torch.optim import Adam\n",
    "from  easydict import EasyDict\n",
    "import matplotlib.pyplot as plt\n",
    "\n",
    "from steves_models.steves_ptn import Steves_Prototypical_Network\n",
    "\n",
    "from steves_utils.lazy_iterable_wrapper import Lazy_Iterable_Wrapper\n",
    "from steves_utils.iterable_aggregator import Iterable_Aggregator\n",
    "from steves_utils.ptn_train_eval_test_jig import  PTN_Train_Eval_Test_Jig\n",
    "from steves_utils.torch_sequential_builder import build_sequential\n",
    "from steves_utils.torch_utils import get_dataset_metrics, ptn_confusion_by_domain_over_dataloader\n",
    "from steves_utils.utils_v2 import (per_domain_accuracy_from_confusion, get_datasets_base_path)\n",
    "from steves_utils.PTN.utils import independent_accuracy_assesment\n",
    "\n",
    "from steves_utils.stratified_dataset.episodic_accessor import Episodic_Accessor_Factory\n",
    "\n",
    "from steves_utils.ptn_do_report import (\n",
    "    get_loss_curve,\n",
    "    get_results_table,\n",
    "    get_parameters_table,\n",
    "    get_domain_accuracies,\n",
    ")\n",
    "\n",
    "from steves_utils.transforms import get_chained_transform"
   ]
  },
  {
   "cell_type": "markdown",
   "id": "41c840b4",
   "metadata": {
    "papermill": {
     "duration": 0.009705,
     "end_time": "2022-04-03T06:15:42.201842",
     "exception": false,
     "start_time": "2022-04-03T06:15:42.192137",
     "status": "completed"
    },
    "tags": []
   },
   "source": [
    "# Required Parameters\n",
    "These are allowed parameters, not defaults\n",
    "Each of these values need to be present in the injected parameters (the notebook will raise an exception if they are not present)\n",
    "\n",
    "Papermill uses the cell tag \"parameters\" to inject the real parameters below this cell.\n",
    "Enable tags to see what I mean"
   ]
  },
  {
   "cell_type": "code",
   "execution_count": 2,
   "id": "fd44eb83",
   "metadata": {
    "execution": {
     "iopub.execute_input": "2022-04-03T06:15:42.223785Z",
     "iopub.status.busy": "2022-04-03T06:15:42.223357Z",
     "iopub.status.idle": "2022-04-03T06:15:42.235526Z",
     "shell.execute_reply": "2022-04-03T06:15:42.235751Z"
    },
    "papermill": {
     "duration": 0.024265,
     "end_time": "2022-04-03T06:15:42.235822",
     "exception": false,
     "start_time": "2022-04-03T06:15:42.211557",
     "status": "completed"
    },
    "tags": []
   },
   "outputs": [],
   "source": [
    "required_parameters = {\n",
    "    \"experiment_name\",\n",
    "    \"lr\",\n",
    "    \"device\",\n",
    "    \"seed\",\n",
    "    \"dataset_seed\",\n",
    "    \"labels_source\",\n",
    "    \"labels_target\",\n",
    "    \"domains_source\",\n",
    "    \"domains_target\",\n",
    "    \"num_examples_per_domain_per_label_source\",\n",
    "    \"num_examples_per_domain_per_label_target\",\n",
    "    \"n_shot\",\n",
    "    \"n_way\",\n",
    "    \"n_query\",\n",
    "    \"train_k_factor\",\n",
    "    \"val_k_factor\",\n",
    "    \"test_k_factor\",\n",
    "    \"n_epoch\",\n",
    "    \"patience\",\n",
    "    \"criteria_for_best\",\n",
    "    \"x_transforms_source\",\n",
    "    \"x_transforms_target\",\n",
    "    \"episode_transforms_source\",\n",
    "    \"episode_transforms_target\",\n",
    "    \"pickle_name\",\n",
    "    \"x_net\",\n",
    "    \"NUM_LOGS_PER_EPOCH\",\n",
    "    \"BEST_MODEL_PATH\",\n",
    "    \"torch_default_dtype\"\n",
    "}"
   ]
  },
  {
   "cell_type": "code",
   "execution_count": 3,
   "id": "fa3f0049",
   "metadata": {
    "execution": {
     "iopub.execute_input": "2022-04-03T06:15:42.261771Z",
     "iopub.status.busy": "2022-04-03T06:15:42.261310Z",
     "iopub.status.idle": "2022-04-03T06:15:42.274173Z",
     "shell.execute_reply": "2022-04-03T06:15:42.273926Z"
    },
    "papermill": {
     "duration": 0.028551,
     "end_time": "2022-04-03T06:15:42.274234",
     "exception": false,
     "start_time": "2022-04-03T06:15:42.245683",
     "status": "completed"
    },
    "tags": [
     "parameters"
    ]
   },
   "outputs": [],
   "source": [
    "\n",
    "\n",
    "standalone_parameters = {}\n",
    "standalone_parameters[\"experiment_name\"] = \"STANDALONE PTN\"\n",
    "standalone_parameters[\"lr\"] = 0.0001\n",
    "standalone_parameters[\"device\"] = \"cuda\"\n",
    "\n",
    "standalone_parameters[\"seed\"] = 1337\n",
    "standalone_parameters[\"dataset_seed\"] = 1337\n",
    "\n",
    "\n",
    "standalone_parameters[\"num_examples_per_domain_per_label_source\"]=100\n",
    "standalone_parameters[\"num_examples_per_domain_per_label_target\"]=100\n",
    "\n",
    "standalone_parameters[\"n_shot\"] = 3\n",
    "standalone_parameters[\"n_query\"]  = 2\n",
    "standalone_parameters[\"train_k_factor\"] = 1\n",
    "standalone_parameters[\"val_k_factor\"] = 2\n",
    "standalone_parameters[\"test_k_factor\"] = 2\n",
    "\n",
    "\n",
    "standalone_parameters[\"n_epoch\"] = 100\n",
    "\n",
    "standalone_parameters[\"patience\"] = 10\n",
    "standalone_parameters[\"criteria_for_best\"] = \"target_accuracy\"\n",
    "\n",
    "standalone_parameters[\"x_transforms_source\"] = [\"unit_power\"]\n",
    "standalone_parameters[\"x_transforms_target\"] = [\"unit_power\"]\n",
    "standalone_parameters[\"episode_transforms_source\"] = []\n",
    "standalone_parameters[\"episode_transforms_target\"] = []\n",
    "\n",
    "standalone_parameters[\"torch_default_dtype\"] = \"torch.float32\" \n",
    "\n",
    "\n",
    "\n",
    "standalone_parameters[\"x_net\"] =     [\n",
    "    {\"class\": \"nnReshape\", \"kargs\": {\"shape\":[-1, 1, 2, 256]}},\n",
    "    {\"class\": \"Conv2d\", \"kargs\": { \"in_channels\":1, \"out_channels\":256, \"kernel_size\":(1,7), \"bias\":False, \"padding\":(0,3), },},\n",
    "    {\"class\": \"ReLU\", \"kargs\": {\"inplace\": True}},\n",
    "    {\"class\": \"BatchNorm2d\", \"kargs\": {\"num_features\":256}},\n",
    "\n",
    "    {\"class\": \"Conv2d\", \"kargs\": { \"in_channels\":256, \"out_channels\":80, \"kernel_size\":(2,7), \"bias\":True, \"padding\":(0,3), },},\n",
    "    {\"class\": \"ReLU\", \"kargs\": {\"inplace\": True}},\n",
    "    {\"class\": \"BatchNorm2d\", \"kargs\": {\"num_features\":80}},\n",
    "    {\"class\": \"Flatten\", \"kargs\": {}},\n",
    "\n",
    "    {\"class\": \"Linear\", \"kargs\": {\"in_features\": 80*256, \"out_features\": 256}}, # 80 units per IQ pair\n",
    "    {\"class\": \"ReLU\", \"kargs\": {\"inplace\": True}},\n",
    "    {\"class\": \"BatchNorm1d\", \"kargs\": {\"num_features\":256}},\n",
    "\n",
    "    {\"class\": \"Linear\", \"kargs\": {\"in_features\": 256, \"out_features\": 256}},\n",
    "]\n",
    "\n",
    "# Parameters relevant to results\n",
    "# These parameters will basically never need to change\n",
    "standalone_parameters[\"NUM_LOGS_PER_EPOCH\"] = 10\n",
    "standalone_parameters[\"BEST_MODEL_PATH\"] = \"./best_model.pth\"\n",
    "\n",
    "# uncomment for CORES dataset\n",
    "from steves_utils.CORES.utils import (\n",
    "    ALL_NODES,\n",
    "    ALL_NODES_MINIMUM_1000_EXAMPLES,\n",
    "    ALL_DAYS\n",
    ")\n",
    "\n",
    "\n",
    "standalone_parameters[\"labels_source\"] = ALL_NODES\n",
    "standalone_parameters[\"labels_target\"] = ALL_NODES\n",
    "\n",
    "standalone_parameters[\"domains_source\"] = [1]\n",
    "standalone_parameters[\"domains_target\"] = [2,3,4,5]\n",
    "\n",
    "standalone_parameters[\"pickle_name\"] = \"cores.stratified_ds.2022A.pkl\"\n",
    "\n",
    "\n",
    "# Uncomment these for ORACLE dataset\n",
    "# from steves_utils.ORACLE.utils_v2 import (\n",
    "#     ALL_DISTANCES_FEET,\n",
    "#     ALL_RUNS,\n",
    "#     ALL_SERIAL_NUMBERS,\n",
    "# )\n",
    "# standalone_parameters[\"labels_source\"] = ALL_SERIAL_NUMBERS\n",
    "# standalone_parameters[\"labels_target\"] = ALL_SERIAL_NUMBERS\n",
    "# standalone_parameters[\"domains_source\"] = [8,20, 38,50]\n",
    "# standalone_parameters[\"domains_target\"] = [14, 26, 32, 44, 56]\n",
    "# standalone_parameters[\"pickle_name\"] = \"oracle.frame_indexed.stratified_ds.2022A.pkl\"\n",
    "# standalone_parameters[\"num_examples_per_domain_per_label_source\"]=1000\n",
    "# standalone_parameters[\"num_examples_per_domain_per_label_target\"]=1000\n",
    "\n",
    "# Uncomment these for Metahan dataset\n",
    "# standalone_parameters[\"labels_source\"] = list(range(19))\n",
    "# standalone_parameters[\"labels_target\"] = list(range(19))\n",
    "# standalone_parameters[\"domains_source\"] = [0]\n",
    "# standalone_parameters[\"domains_target\"] = [1]\n",
    "# standalone_parameters[\"pickle_name\"] = \"metehan.stratified_ds.2022A.pkl\"\n",
    "# standalone_parameters[\"n_way\"]  = len(standalone_parameters[\"labels_source\"])\n",
    "# standalone_parameters[\"num_examples_per_domain_per_label_source\"]=200\n",
    "# standalone_parameters[\"num_examples_per_domain_per_label_target\"]=100\n",
    "\n",
    "\n",
    "standalone_parameters[\"n_way\"]  = len(standalone_parameters[\"labels_source\"])"
   ]
  },
  {
   "cell_type": "code",
   "execution_count": 4,
   "id": "1b989726",
   "metadata": {
    "execution": {
     "iopub.execute_input": "2022-04-03T06:15:42.305693Z",
     "iopub.status.busy": "2022-04-03T06:15:42.305186Z",
     "iopub.status.idle": "2022-04-03T06:15:42.319190Z",
     "shell.execute_reply": "2022-04-03T06:15:42.319405Z"
    },
    "papermill": {
     "duration": 0.033606,
     "end_time": "2022-04-03T06:15:42.319473",
     "exception": false,
     "start_time": "2022-04-03T06:15:42.285867",
     "status": "completed"
    },
    "tags": [
     "injected-parameters"
    ]
   },
   "outputs": [],
   "source": [
    "# Parameters\n",
    "parameters = {\n",
    "    \"experiment_name\": \"baseline_ptn_32bit_wisig\",\n",
    "    \"lr\": 0.001,\n",
    "    \"device\": \"cuda\",\n",
    "    \"seed\": 1337,\n",
    "    \"dataset_seed\": 1337,\n",
    "    \"labels_source\": [\n",
    "        \"1-10\",\n",
    "        \"1-12\",\n",
    "        \"1-14\",\n",
    "        \"1-16\",\n",
    "        \"1-18\",\n",
    "        \"1-19\",\n",
    "        \"1-8\",\n",
    "        \"10-11\",\n",
    "        \"10-17\",\n",
    "        \"10-4\",\n",
    "        \"10-7\",\n",
    "        \"11-1\",\n",
    "        \"11-10\",\n",
    "        \"11-19\",\n",
    "        \"11-20\",\n",
    "        \"11-4\",\n",
    "        \"11-7\",\n",
    "        \"12-19\",\n",
    "        \"12-20\",\n",
    "        \"12-7\",\n",
    "        \"13-14\",\n",
    "        \"13-18\",\n",
    "        \"13-19\",\n",
    "        \"13-20\",\n",
    "        \"13-3\",\n",
    "        \"13-7\",\n",
    "        \"14-10\",\n",
    "        \"14-11\",\n",
    "        \"14-12\",\n",
    "        \"14-13\",\n",
    "        \"14-14\",\n",
    "        \"14-19\",\n",
    "        \"14-20\",\n",
    "        \"14-7\",\n",
    "        \"14-8\",\n",
    "        \"14-9\",\n",
    "        \"15-1\",\n",
    "        \"15-19\",\n",
    "        \"15-6\",\n",
    "        \"16-1\",\n",
    "        \"16-16\",\n",
    "        \"16-19\",\n",
    "        \"16-20\",\n",
    "        \"17-10\",\n",
    "        \"17-11\",\n",
    "        \"18-1\",\n",
    "        \"18-10\",\n",
    "        \"18-11\",\n",
    "        \"18-12\",\n",
    "        \"18-13\",\n",
    "        \"18-14\",\n",
    "        \"18-15\",\n",
    "        \"18-16\",\n",
    "        \"18-17\",\n",
    "        \"18-19\",\n",
    "        \"18-2\",\n",
    "        \"18-20\",\n",
    "        \"18-4\",\n",
    "        \"18-5\",\n",
    "        \"18-7\",\n",
    "        \"18-8\",\n",
    "        \"18-9\",\n",
    "        \"19-1\",\n",
    "        \"19-10\",\n",
    "        \"19-11\",\n",
    "        \"19-12\",\n",
    "        \"19-13\",\n",
    "        \"19-14\",\n",
    "        \"19-15\",\n",
    "        \"19-19\",\n",
    "        \"19-2\",\n",
    "        \"19-20\",\n",
    "        \"19-3\",\n",
    "        \"19-4\",\n",
    "        \"19-6\",\n",
    "        \"19-7\",\n",
    "        \"19-8\",\n",
    "        \"19-9\",\n",
    "        \"2-1\",\n",
    "        \"2-13\",\n",
    "        \"2-15\",\n",
    "        \"2-3\",\n",
    "        \"2-4\",\n",
    "        \"2-5\",\n",
    "        \"2-6\",\n",
    "        \"2-7\",\n",
    "        \"2-8\",\n",
    "        \"20-1\",\n",
    "        \"20-12\",\n",
    "        \"20-14\",\n",
    "        \"20-15\",\n",
    "        \"20-16\",\n",
    "        \"20-18\",\n",
    "        \"20-19\",\n",
    "        \"20-20\",\n",
    "        \"20-3\",\n",
    "        \"20-4\",\n",
    "        \"20-5\",\n",
    "        \"20-7\",\n",
    "        \"20-8\",\n",
    "        \"3-1\",\n",
    "        \"3-13\",\n",
    "        \"3-18\",\n",
    "        \"3-2\",\n",
    "        \"3-8\",\n",
    "        \"4-1\",\n",
    "        \"4-10\",\n",
    "        \"4-11\",\n",
    "        \"5-1\",\n",
    "        \"5-5\",\n",
    "        \"6-1\",\n",
    "        \"6-15\",\n",
    "        \"6-6\",\n",
    "        \"7-10\",\n",
    "        \"7-11\",\n",
    "        \"7-12\",\n",
    "        \"7-13\",\n",
    "        \"7-14\",\n",
    "        \"7-7\",\n",
    "        \"7-8\",\n",
    "        \"7-9\",\n",
    "        \"8-1\",\n",
    "        \"8-13\",\n",
    "        \"8-14\",\n",
    "        \"8-18\",\n",
    "        \"8-20\",\n",
    "        \"8-3\",\n",
    "        \"8-8\",\n",
    "        \"9-1\",\n",
    "        \"9-7\",\n",
    "    ],\n",
    "    \"labels_target\": [\n",
    "        \"1-10\",\n",
    "        \"1-12\",\n",
    "        \"1-14\",\n",
    "        \"1-16\",\n",
    "        \"1-18\",\n",
    "        \"1-19\",\n",
    "        \"1-8\",\n",
    "        \"10-11\",\n",
    "        \"10-17\",\n",
    "        \"10-4\",\n",
    "        \"10-7\",\n",
    "        \"11-1\",\n",
    "        \"11-10\",\n",
    "        \"11-19\",\n",
    "        \"11-20\",\n",
    "        \"11-4\",\n",
    "        \"11-7\",\n",
    "        \"12-19\",\n",
    "        \"12-20\",\n",
    "        \"12-7\",\n",
    "        \"13-14\",\n",
    "        \"13-18\",\n",
    "        \"13-19\",\n",
    "        \"13-20\",\n",
    "        \"13-3\",\n",
    "        \"13-7\",\n",
    "        \"14-10\",\n",
    "        \"14-11\",\n",
    "        \"14-12\",\n",
    "        \"14-13\",\n",
    "        \"14-14\",\n",
    "        \"14-19\",\n",
    "        \"14-20\",\n",
    "        \"14-7\",\n",
    "        \"14-8\",\n",
    "        \"14-9\",\n",
    "        \"15-1\",\n",
    "        \"15-19\",\n",
    "        \"15-6\",\n",
    "        \"16-1\",\n",
    "        \"16-16\",\n",
    "        \"16-19\",\n",
    "        \"16-20\",\n",
    "        \"17-10\",\n",
    "        \"17-11\",\n",
    "        \"18-1\",\n",
    "        \"18-10\",\n",
    "        \"18-11\",\n",
    "        \"18-12\",\n",
    "        \"18-13\",\n",
    "        \"18-14\",\n",
    "        \"18-15\",\n",
    "        \"18-16\",\n",
    "        \"18-17\",\n",
    "        \"18-19\",\n",
    "        \"18-2\",\n",
    "        \"18-20\",\n",
    "        \"18-4\",\n",
    "        \"18-5\",\n",
    "        \"18-7\",\n",
    "        \"18-8\",\n",
    "        \"18-9\",\n",
    "        \"19-1\",\n",
    "        \"19-10\",\n",
    "        \"19-11\",\n",
    "        \"19-12\",\n",
    "        \"19-13\",\n",
    "        \"19-14\",\n",
    "        \"19-15\",\n",
    "        \"19-19\",\n",
    "        \"19-2\",\n",
    "        \"19-20\",\n",
    "        \"19-3\",\n",
    "        \"19-4\",\n",
    "        \"19-6\",\n",
    "        \"19-7\",\n",
    "        \"19-8\",\n",
    "        \"19-9\",\n",
    "        \"2-1\",\n",
    "        \"2-13\",\n",
    "        \"2-15\",\n",
    "        \"2-3\",\n",
    "        \"2-4\",\n",
    "        \"2-5\",\n",
    "        \"2-6\",\n",
    "        \"2-7\",\n",
    "        \"2-8\",\n",
    "        \"20-1\",\n",
    "        \"20-12\",\n",
    "        \"20-14\",\n",
    "        \"20-15\",\n",
    "        \"20-16\",\n",
    "        \"20-18\",\n",
    "        \"20-19\",\n",
    "        \"20-20\",\n",
    "        \"20-3\",\n",
    "        \"20-4\",\n",
    "        \"20-5\",\n",
    "        \"20-7\",\n",
    "        \"20-8\",\n",
    "        \"3-1\",\n",
    "        \"3-13\",\n",
    "        \"3-18\",\n",
    "        \"3-2\",\n",
    "        \"3-8\",\n",
    "        \"4-1\",\n",
    "        \"4-10\",\n",
    "        \"4-11\",\n",
    "        \"5-1\",\n",
    "        \"5-5\",\n",
    "        \"6-1\",\n",
    "        \"6-15\",\n",
    "        \"6-6\",\n",
    "        \"7-10\",\n",
    "        \"7-11\",\n",
    "        \"7-12\",\n",
    "        \"7-13\",\n",
    "        \"7-14\",\n",
    "        \"7-7\",\n",
    "        \"7-8\",\n",
    "        \"7-9\",\n",
    "        \"8-1\",\n",
    "        \"8-13\",\n",
    "        \"8-14\",\n",
    "        \"8-18\",\n",
    "        \"8-20\",\n",
    "        \"8-3\",\n",
    "        \"8-8\",\n",
    "        \"9-1\",\n",
    "        \"9-7\",\n",
    "    ],\n",
    "    \"x_transforms_source\": [],\n",
    "    \"x_transforms_target\": [],\n",
    "    \"episode_transforms_source\": [],\n",
    "    \"episode_transforms_target\": [],\n",
    "    \"num_examples_per_domain_per_label_source\": 100,\n",
    "    \"num_examples_per_domain_per_label_target\": 100,\n",
    "    \"n_shot\": 3,\n",
    "    \"n_way\": 130,\n",
    "    \"n_query\": 2,\n",
    "    \"train_k_factor\": 1,\n",
    "    \"val_k_factor\": 2,\n",
    "    \"test_k_factor\": 2,\n",
    "    \"torch_default_dtype\": \"torch.float32\",\n",
    "    \"n_epoch\": 50,\n",
    "    \"patience\": 3,\n",
    "    \"criteria_for_best\": \"target_loss\",\n",
    "    \"x_net\": [\n",
    "        {\"class\": \"nnReshape\", \"kargs\": {\"shape\": [-1, 1, 2, 256]}},\n",
    "        {\n",
    "            \"class\": \"Conv2d\",\n",
    "            \"kargs\": {\n",
    "                \"in_channels\": 1,\n",
    "                \"out_channels\": 256,\n",
    "                \"kernel_size\": [1, 7],\n",
    "                \"bias\": False,\n",
    "                \"padding\": [0, 3],\n",
    "            },\n",
    "        },\n",
    "        {\"class\": \"ReLU\", \"kargs\": {\"inplace\": True}},\n",
    "        {\"class\": \"BatchNorm2d\", \"kargs\": {\"num_features\": 256}},\n",
    "        {\n",
    "            \"class\": \"Conv2d\",\n",
    "            \"kargs\": {\n",
    "                \"in_channels\": 256,\n",
    "                \"out_channels\": 80,\n",
    "                \"kernel_size\": [2, 7],\n",
    "                \"bias\": True,\n",
    "                \"padding\": [0, 3],\n",
    "            },\n",
    "        },\n",
    "        {\"class\": \"ReLU\", \"kargs\": {\"inplace\": True}},\n",
    "        {\"class\": \"BatchNorm2d\", \"kargs\": {\"num_features\": 80}},\n",
    "        {\"class\": \"Flatten\", \"kargs\": {}},\n",
    "        {\"class\": \"Linear\", \"kargs\": {\"in_features\": 20480, \"out_features\": 256}},\n",
    "        {\"class\": \"ReLU\", \"kargs\": {\"inplace\": True}},\n",
    "        {\"class\": \"BatchNorm1d\", \"kargs\": {\"num_features\": 256}},\n",
    "        {\"class\": \"Linear\", \"kargs\": {\"in_features\": 256, \"out_features\": 256}},\n",
    "    ],\n",
    "    \"NUM_LOGS_PER_EPOCH\": 10,\n",
    "    \"BEST_MODEL_PATH\": \"./best_model.pth\",\n",
    "    \"pickle_name\": \"wisig.node3-19.stratified_ds.2022A.pkl\",\n",
    "    \"domains_source\": [3],\n",
    "    \"domains_target\": [1, 2, 4],\n",
    "}\n"
   ]
  },
  {
   "cell_type": "code",
   "execution_count": 5,
   "id": "8fa1cc33",
   "metadata": {
    "execution": {
     "iopub.execute_input": "2022-04-03T06:15:42.343167Z",
     "iopub.status.busy": "2022-04-03T06:15:42.340885Z",
     "iopub.status.idle": "2022-04-03T06:15:42.356879Z",
     "shell.execute_reply": "2022-04-03T06:15:42.356650Z"
    },
    "papermill": {
     "duration": 0.027452,
     "end_time": "2022-04-03T06:15:42.356937",
     "exception": false,
     "start_time": "2022-04-03T06:15:42.329485",
     "status": "completed"
    },
    "tags": []
   },
   "outputs": [],
   "source": [
    "# Set this to True if you want to run this template directly\n",
    "STANDALONE = False\n",
    "if STANDALONE:\n",
    "    print(\"parameters not injected, running with standalone_parameters\")\n",
    "    parameters = standalone_parameters\n",
    "\n",
    "if not 'parameters' in locals() and not 'parameters' in globals():\n",
    "    raise Exception(\"Parameter injection failed\")\n",
    "\n",
    "#Use an easy dict for all the parameters\n",
    "p = EasyDict(parameters)\n",
    "\n",
    "supplied_keys = set(p.keys())\n",
    "\n",
    "if  supplied_keys != required_parameters:\n",
    "    print(\"Parameters are incorrect\")\n",
    "    if len(supplied_keys - required_parameters)>0: print(\"Shouldn't have:\", str(supplied_keys - required_parameters))\n",
    "    if len(required_parameters - supplied_keys)>0: print(\"Need to have:\", str(required_parameters - supplied_keys))\n",
    "    raise RuntimeError(\"Parameters are incorrect\")\n",
    "\n"
   ]
  },
  {
   "cell_type": "code",
   "execution_count": 6,
   "id": "3a028d58",
   "metadata": {
    "execution": {
     "iopub.execute_input": "2022-04-03T06:15:42.379713Z",
     "iopub.status.busy": "2022-04-03T06:15:42.378816Z",
     "iopub.status.idle": "2022-04-03T06:15:42.394559Z",
     "shell.execute_reply": "2022-04-03T06:15:42.394768Z"
    },
    "papermill": {
     "duration": 0.027376,
     "end_time": "2022-04-03T06:15:42.394835",
     "exception": false,
     "start_time": "2022-04-03T06:15:42.367459",
     "status": "completed"
    },
    "tags": []
   },
   "outputs": [],
   "source": [
    "###################################\n",
    "# Set the RNGs and make it all deterministic\n",
    "###################################\n",
    "np.random.seed(p.seed)\n",
    "random.seed(p.seed)\n",
    "torch.manual_seed(p.seed)\n",
    "\n",
    "torch.use_deterministic_algorithms(True) "
   ]
  },
  {
   "cell_type": "code",
   "execution_count": 7,
   "id": "b691acf6",
   "metadata": {
    "execution": {
     "iopub.execute_input": "2022-04-03T06:15:42.416666Z",
     "iopub.status.busy": "2022-04-03T06:15:42.416414Z",
     "iopub.status.idle": "2022-04-03T06:15:42.430656Z",
     "shell.execute_reply": "2022-04-03T06:15:42.431034Z"
    },
    "papermill": {
     "duration": 0.026429,
     "end_time": "2022-04-03T06:15:42.431154",
     "exception": false,
     "start_time": "2022-04-03T06:15:42.404725",
     "status": "completed"
    },
    "tags": []
   },
   "outputs": [],
   "source": [
    "###########################################\n",
    "# The stratified datasets honor this\n",
    "###########################################\n",
    "torch.set_default_dtype(eval(p.torch_default_dtype))"
   ]
  },
  {
   "cell_type": "code",
   "execution_count": 8,
   "id": "b5fba671",
   "metadata": {
    "execution": {
     "iopub.execute_input": "2022-04-03T06:15:42.460255Z",
     "iopub.status.busy": "2022-04-03T06:15:42.459987Z",
     "iopub.status.idle": "2022-04-03T06:15:42.496672Z",
     "shell.execute_reply": "2022-04-03T06:15:42.496283Z"
    },
    "papermill": {
     "duration": 0.04874,
     "end_time": "2022-04-03T06:15:42.496761",
     "exception": false,
     "start_time": "2022-04-03T06:15:42.448021",
     "status": "completed"
    },
    "tags": []
   },
   "outputs": [],
   "source": [
    "###################################\n",
    "# Build the network(s)\n",
    "# Note: It's critical to do this AFTER setting the RNG\n",
    "# (This is due to the randomized initial weights)\n",
    "###################################\n",
    "x_net = build_sequential(p.x_net)"
   ]
  },
  {
   "cell_type": "code",
   "execution_count": 9,
   "id": "5d7e61cc",
   "metadata": {
    "execution": {
     "iopub.execute_input": "2022-04-03T06:15:42.521941Z",
     "iopub.status.busy": "2022-04-03T06:15:42.521685Z",
     "iopub.status.idle": "2022-04-03T06:15:42.532452Z",
     "shell.execute_reply": "2022-04-03T06:15:42.532207Z"
    },
    "papermill": {
     "duration": 0.022364,
     "end_time": "2022-04-03T06:15:42.532500",
     "exception": false,
     "start_time": "2022-04-03T06:15:42.510136",
     "status": "completed"
    },
    "tags": []
   },
   "outputs": [],
   "source": [
    "start_time_secs = time.time()"
   ]
  },
  {
   "cell_type": "code",
   "execution_count": 10,
   "id": "fd5442bc",
   "metadata": {
    "execution": {
     "iopub.execute_input": "2022-04-03T06:15:42.559828Z",
     "iopub.status.busy": "2022-04-03T06:15:42.559562Z",
     "iopub.status.idle": "2022-04-03T06:15:43.292215Z",
     "shell.execute_reply": "2022-04-03T06:15:43.291724Z"
    },
    "papermill": {
     "duration": 0.747311,
     "end_time": "2022-04-03T06:15:43.292309",
     "exception": false,
     "start_time": "2022-04-03T06:15:42.544998",
     "status": "completed"
    },
    "tags": []
   },
   "outputs": [],
   "source": [
    "###################################\n",
    "# Build the dataset\n",
    "###################################\n",
    "\n",
    "if p.x_transforms_source == []: x_transform_source = None\n",
    "else: x_transform_source = get_chained_transform(p.x_transforms_source) \n",
    "\n",
    "if p.x_transforms_target == []: x_transform_target = None\n",
    "else: x_transform_target = get_chained_transform(p.x_transforms_target)\n",
    "\n",
    "if p.episode_transforms_source == []: episode_transform_source = None\n",
    "else: raise Exception(\"episode_transform_source not implemented\")\n",
    "\n",
    "if p.episode_transforms_target == []: episode_transform_target = None\n",
    "else: raise Exception(\"episode_transform_target not implemented\")\n",
    "\n",
    "\n",
    "eaf_source = Episodic_Accessor_Factory(\n",
    "    labels=p.labels_source,\n",
    "    domains=p.domains_source,\n",
    "    num_examples_per_domain_per_label=p.num_examples_per_domain_per_label_source,\n",
    "    iterator_seed=p.seed,\n",
    "    dataset_seed=p.dataset_seed,\n",
    "    n_shot=p.n_shot,\n",
    "    n_way=p.n_way,\n",
    "    n_query=p.n_query,\n",
    "    train_val_test_k_factors=(p.train_k_factor,p.val_k_factor,p.test_k_factor),\n",
    "    pickle_path=os.path.join(get_datasets_base_path(), p.pickle_name),\n",
    "    x_transform_func=x_transform_source,\n",
    "    example_transform_func=episode_transform_source,\n",
    "    \n",
    ")\n",
    "train_original_source, val_original_source, test_original_source = eaf_source.get_train(), eaf_source.get_val(), eaf_source.get_test()\n",
    "\n",
    "\n",
    "eaf_target = Episodic_Accessor_Factory(\n",
    "    labels=p.labels_target,\n",
    "    domains=p.domains_target,\n",
    "    num_examples_per_domain_per_label=p.num_examples_per_domain_per_label_target,\n",
    "    iterator_seed=p.seed,\n",
    "    dataset_seed=p.dataset_seed,\n",
    "    n_shot=p.n_shot,\n",
    "    n_way=p.n_way,\n",
    "    n_query=p.n_query,\n",
    "    train_val_test_k_factors=(p.train_k_factor,p.val_k_factor,p.test_k_factor),\n",
    "    pickle_path=os.path.join(get_datasets_base_path(), p.pickle_name),\n",
    "    x_transform_func=x_transform_target,\n",
    "    example_transform_func=episode_transform_target,\n",
    ")\n",
    "train_original_target, val_original_target, test_original_target = eaf_target.get_train(), eaf_target.get_val(), eaf_target.get_test()\n",
    "\n",
    "\n",
    "transform_lambda = lambda ex: ex[1] # Original is (<domain>, <episode>) so we strip down to episode only\n",
    "\n",
    "train_processed_source = Lazy_Iterable_Wrapper(train_original_source, transform_lambda)\n",
    "val_processed_source   = Lazy_Iterable_Wrapper(val_original_source, transform_lambda)\n",
    "test_processed_source  = Lazy_Iterable_Wrapper(test_original_source, transform_lambda)\n",
    "\n",
    "train_processed_target = Lazy_Iterable_Wrapper(train_original_target, transform_lambda)\n",
    "val_processed_target   = Lazy_Iterable_Wrapper(val_original_target, transform_lambda)\n",
    "test_processed_target  = Lazy_Iterable_Wrapper(test_original_target, transform_lambda)\n",
    "\n",
    "datasets = EasyDict({\n",
    "    \"source\": {\n",
    "        \"original\": {\"train\":train_original_source, \"val\":val_original_source, \"test\":test_original_source},\n",
    "        \"processed\": {\"train\":train_processed_source, \"val\":val_processed_source, \"test\":test_processed_source}\n",
    "    },\n",
    "    \"target\": {\n",
    "        \"original\": {\"train\":train_original_target, \"val\":val_original_target, \"test\":test_original_target},\n",
    "        \"processed\": {\"train\":train_processed_target, \"val\":val_processed_target, \"test\":test_processed_target}\n",
    "    },\n",
    "})"
   ]
  },
  {
   "cell_type": "code",
   "execution_count": 11,
   "id": "296189d9",
   "metadata": {
    "execution": {
     "iopub.execute_input": "2022-04-03T06:15:43.322340Z",
     "iopub.status.busy": "2022-04-03T06:15:43.322086Z",
     "iopub.status.idle": "2022-04-03T06:15:44.947510Z",
     "shell.execute_reply": "2022-04-03T06:15:44.946996Z"
    },
    "papermill": {
     "duration": 1.639409,
     "end_time": "2022-04-03T06:15:44.947630",
     "exception": false,
     "start_time": "2022-04-03T06:15:43.308221",
     "status": "completed"
    },
    "tags": []
   },
   "outputs": [
    {
     "name": "stdout",
     "output_type": "stream",
     "text": [
      "Visually inspect these to see if they line up with expected values given the transforms\n",
      "x_transforms_source []\n",
      "x_transforms_target []\n",
      "Average magnitude, source: 0.071997955\n",
      "Average power, source: 0.0063064974\n"
     ]
    },
    {
     "name": "stdout",
     "output_type": "stream",
     "text": [
      "Average magnitude, target: 0.0063583013\n",
      "Average power, target: 5.0454975e-05\n"
     ]
    }
   ],
   "source": [
    "# Some quick unit tests on the data\n",
    "from steves_utils.transforms import get_average_power, get_average_magnitude\n",
    "\n",
    "q_x, q_y, s_x, s_y, truth = next(iter(train_processed_source))\n",
    "\n",
    "assert q_x.dtype == eval(p.torch_default_dtype)\n",
    "assert s_x.dtype == eval(p.torch_default_dtype)\n",
    "\n",
    "print(\"Visually inspect these to see if they line up with expected values given the transforms\")\n",
    "print('x_transforms_source', p.x_transforms_source)\n",
    "print('x_transforms_target', p.x_transforms_target)\n",
    "print(\"Average magnitude, source:\", get_average_magnitude(q_x[0].numpy()))\n",
    "print(\"Average power, source:\", get_average_power(q_x[0].numpy()))\n",
    "\n",
    "q_x, q_y, s_x, s_y, truth = next(iter(train_processed_target))\n",
    "print(\"Average magnitude, target:\", get_average_magnitude(q_x[0].numpy()))\n",
    "print(\"Average power, target:\", get_average_power(q_x[0].numpy()))\n"
   ]
  },
  {
   "cell_type": "code",
   "execution_count": 12,
   "id": "bbdacba1",
   "metadata": {
    "execution": {
     "iopub.execute_input": "2022-04-03T06:15:44.980445Z",
     "iopub.status.busy": "2022-04-03T06:15:44.980100Z",
     "iopub.status.idle": "2022-04-03T06:15:45.045176Z",
     "shell.execute_reply": "2022-04-03T06:15:45.044947Z"
    },
    "papermill": {
     "duration": 0.081043,
     "end_time": "2022-04-03T06:15:45.045236",
     "exception": false,
     "start_time": "2022-04-03T06:15:44.964193",
     "status": "completed"
    },
    "tags": []
   },
   "outputs": [
    {
     "name": "stdout",
     "output_type": "stream",
     "text": [
      "(2, 256)\n"
     ]
    }
   ],
   "source": [
    "###################################\n",
    "# Build the model\n",
    "###################################\n",
    "model = Steves_Prototypical_Network(x_net, device=p.device, x_shape=(2,256))\n",
    "optimizer = Adam(params=model.parameters(), lr=p.lr)"
   ]
  },
  {
   "cell_type": "code",
   "execution_count": 13,
   "id": "22b39ac5",
   "metadata": {
    "execution": {
     "iopub.execute_input": "2022-04-03T06:15:45.069314Z",
     "iopub.status.busy": "2022-04-03T06:15:45.069060Z",
     "iopub.status.idle": "2022-04-03T06:16:58.035257Z",
     "shell.execute_reply": "2022-04-03T06:16:58.035647Z"
    },
    "papermill": {
     "duration": 72.979452,
     "end_time": "2022-04-03T06:16:58.035780",
     "exception": false,
     "start_time": "2022-04-03T06:15:45.056328",
     "status": "completed"
    },
    "tags": []
   },
   "outputs": [
    {
     "name": "stdout",
     "output_type": "stream",
     "text": [
      "epoch: 1, [batch: 1 / 14], examples_per_second: 2730.1799, train_label_loss: 3.6472, \n"
     ]
    },
    {
     "name": "stdout",
     "output_type": "stream",
     "text": [
      "epoch: 1, [batch: 2 / 14], examples_per_second: 3944.1993, train_label_loss: 3.4328, \n"
     ]
    },
    {
     "name": "stdout",
     "output_type": "stream",
     "text": [
      "epoch: 1, [batch: 3 / 14], examples_per_second: 3949.5303, train_label_loss: 3.1231, \n"
     ]
    },
    {
     "name": "stdout",
     "output_type": "stream",
     "text": [
      "epoch: 1, [batch: 4 / 14], examples_per_second: 4048.2013, train_label_loss: 2.7883, \n"
     ]
    },
    {
     "name": "stdout",
     "output_type": "stream",
     "text": [
      "epoch: 1, [batch: 6 / 14], examples_per_second: 4064.9025, train_label_loss: 2.6995, \n"
     ]
    },
    {
     "name": "stdout",
     "output_type": "stream",
     "text": [
      "epoch: 1, [batch: 7 / 14], examples_per_second: 4053.0159, train_label_loss: 2.6809, \n"
     ]
    },
    {
     "name": "stdout",
     "output_type": "stream",
     "text": [
      "epoch: 1, [batch: 8 / 14], examples_per_second: 4054.7821, train_label_loss: 2.1942, \n"
     ]
    },
    {
     "name": "stdout",
     "output_type": "stream",
     "text": [
      "epoch: 1, [batch: 10 / 14], examples_per_second: 4057.2863, train_label_loss: 2.0307, \n"
     ]
    },
    {
     "name": "stdout",
     "output_type": "stream",
     "text": [
      "epoch: 1, [batch: 11 / 14], examples_per_second: 4042.1992, train_label_loss: 1.6370, \n"
     ]
    },
    {
     "name": "stdout",
     "output_type": "stream",
     "text": [
      "epoch: 1, [batch: 12 / 14], examples_per_second: 4046.6090, train_label_loss: 1.6841, \n"
     ]
    },
    {
     "name": "stdout",
     "output_type": "stream",
     "text": [
      "=============================================================\n",
      "epoch: 1, source_val_acc_label: 0.7474, target_val_acc_label: 0.6932, source_val_label_loss: 3.7178, target_val_label_loss: 3.7912, \n",
      "=============================================================\n"
     ]
    },
    {
     "name": "stdout",
     "output_type": "stream",
     "text": [
      "New best\n"
     ]
    },
    {
     "name": "stdout",
     "output_type": "stream",
     "text": [
      "epoch: 2, [batch: 1 / 14], examples_per_second: 703.5623, train_label_loss: 3.5290, \n"
     ]
    },
    {
     "name": "stdout",
     "output_type": "stream",
     "text": [
      "epoch: 2, [batch: 2 / 14], examples_per_second: 4008.4123, train_label_loss: 3.2253, \n"
     ]
    },
    {
     "name": "stdout",
     "output_type": "stream",
     "text": [
      "epoch: 2, [batch: 3 / 14], examples_per_second: 4032.5313, train_label_loss: 2.7876, \n"
     ]
    },
    {
     "name": "stdout",
     "output_type": "stream",
     "text": [
      "epoch: 2, [batch: 4 / 14], examples_per_second: 4128.2395, train_label_loss: 2.5561, \n"
     ]
    },
    {
     "name": "stdout",
     "output_type": "stream",
     "text": [
      "epoch: 2, [batch: 6 / 14], examples_per_second: 4136.7365, train_label_loss: 2.0044, \n"
     ]
    },
    {
     "name": "stdout",
     "output_type": "stream",
     "text": [
      "epoch: 2, [batch: 7 / 14], examples_per_second: 4143.9266, train_label_loss: 1.8674, \n"
     ]
    },
    {
     "name": "stdout",
     "output_type": "stream",
     "text": [
      "epoch: 2, [batch: 8 / 14], examples_per_second: 4141.3709, train_label_loss: 1.7112, \n"
     ]
    },
    {
     "name": "stdout",
     "output_type": "stream",
     "text": [
      "epoch: 2, [batch: 10 / 14], examples_per_second: 4144.7361, train_label_loss: 1.4619, \n"
     ]
    },
    {
     "name": "stdout",
     "output_type": "stream",
     "text": [
      "epoch: 2, [batch: 11 / 14], examples_per_second: 4130.9730, train_label_loss: 1.4127, \n"
     ]
    },
    {
     "name": "stdout",
     "output_type": "stream",
     "text": [
      "epoch: 2, [batch: 12 / 14], examples_per_second: 4038.1936, train_label_loss: 1.8574, \n"
     ]
    },
    {
     "name": "stdout",
     "output_type": "stream",
     "text": [
      "=============================================================\n",
      "epoch: 2, source_val_acc_label: 0.7686, target_val_acc_label: 0.7199, source_val_label_loss: 1.5824, target_val_label_loss: 1.8110, \n",
      "=============================================================\n"
     ]
    },
    {
     "name": "stdout",
     "output_type": "stream",
     "text": [
      "New best\n"
     ]
    },
    {
     "name": "stdout",
     "output_type": "stream",
     "text": [
      "epoch: 3, [batch: 1 / 14], examples_per_second: 663.3844, train_label_loss: 1.3557, \n"
     ]
    },
    {
     "name": "stdout",
     "output_type": "stream",
     "text": [
      "epoch: 3, [batch: 2 / 14], examples_per_second: 4033.2054, train_label_loss: 1.5712, \n"
     ]
    },
    {
     "name": "stdout",
     "output_type": "stream",
     "text": [
      "epoch: 3, [batch: 3 / 14], examples_per_second: 4049.6806, train_label_loss: 1.8415, \n"
     ]
    },
    {
     "name": "stdout",
     "output_type": "stream",
     "text": [
      "epoch: 3, [batch: 4 / 14], examples_per_second: 4125.8529, train_label_loss: 1.3035, \n"
     ]
    },
    {
     "name": "stdout",
     "output_type": "stream",
     "text": [
      "epoch: 3, [batch: 6 / 14], examples_per_second: 4131.7493, train_label_loss: 1.4660, \n"
     ]
    },
    {
     "name": "stdout",
     "output_type": "stream",
     "text": [
      "epoch: 3, [batch: 7 / 14], examples_per_second: 4131.1295, train_label_loss: 1.5287, \n"
     ]
    },
    {
     "name": "stdout",
     "output_type": "stream",
     "text": [
      "epoch: 3, [batch: 8 / 14], examples_per_second: 4139.0257, train_label_loss: 1.1200, \n"
     ]
    },
    {
     "name": "stdout",
     "output_type": "stream",
     "text": [
      "epoch: 3, [batch: 10 / 14], examples_per_second: 4135.5788, train_label_loss: 1.4843, \n"
     ]
    },
    {
     "name": "stdout",
     "output_type": "stream",
     "text": [
      "epoch: 3, [batch: 11 / 14], examples_per_second: 4125.7156, train_label_loss: 1.1869, \n"
     ]
    },
    {
     "name": "stdout",
     "output_type": "stream",
     "text": [
      "epoch: 3, [batch: 12 / 14], examples_per_second: 4128.5083, train_label_loss: 1.0219, \n"
     ]
    },
    {
     "name": "stdout",
     "output_type": "stream",
     "text": [
      "=============================================================\n",
      "epoch: 3, source_val_acc_label: 0.7904, target_val_acc_label: 0.7603, source_val_label_loss: 1.2986, target_val_label_loss: 1.4600, \n",
      "=============================================================\n"
     ]
    },
    {
     "name": "stdout",
     "output_type": "stream",
     "text": [
      "New best\n"
     ]
    },
    {
     "name": "stdout",
     "output_type": "stream",
     "text": [
      "epoch: 4, [batch: 1 / 14], examples_per_second: 617.7207, train_label_loss: 1.2646, \n"
     ]
    },
    {
     "name": "stdout",
     "output_type": "stream",
     "text": [
      "epoch: 4, [batch: 2 / 14], examples_per_second: 4025.6063, train_label_loss: 1.3003, \n"
     ]
    },
    {
     "name": "stdout",
     "output_type": "stream",
     "text": [
      "epoch: 4, [batch: 3 / 14], examples_per_second: 4024.7030, train_label_loss: 1.1627, \n"
     ]
    },
    {
     "name": "stdout",
     "output_type": "stream",
     "text": [
      "epoch: 4, [batch: 4 / 14], examples_per_second: 4124.7605, train_label_loss: 1.1531, \n"
     ]
    },
    {
     "name": "stdout",
     "output_type": "stream",
     "text": [
      "epoch: 4, [batch: 6 / 14], examples_per_second: 4143.6274, train_label_loss: 1.0339, \n"
     ]
    },
    {
     "name": "stdout",
     "output_type": "stream",
     "text": [
      "epoch: 4, [batch: 7 / 14], examples_per_second: 4137.5558, train_label_loss: 0.9381, \n"
     ]
    },
    {
     "name": "stdout",
     "output_type": "stream",
     "text": [
      "epoch: 4, [batch: 8 / 14], examples_per_second: 4136.1058, train_label_loss: 1.0485, \n"
     ]
    },
    {
     "name": "stdout",
     "output_type": "stream",
     "text": [
      "epoch: 4, [batch: 10 / 14], examples_per_second: 4138.7147, train_label_loss: 1.0556, \n"
     ]
    },
    {
     "name": "stdout",
     "output_type": "stream",
     "text": [
      "epoch: 4, [batch: 11 / 14], examples_per_second: 4119.5189, train_label_loss: 1.1335, \n"
     ]
    },
    {
     "name": "stdout",
     "output_type": "stream",
     "text": [
      "epoch: 4, [batch: 12 / 14], examples_per_second: 4134.0800, train_label_loss: 1.0579, \n"
     ]
    },
    {
     "name": "stdout",
     "output_type": "stream",
     "text": [
      "=============================================================\n",
      "epoch: 4, source_val_acc_label: 0.8186, target_val_acc_label: 0.7793, source_val_label_loss: 1.0992, target_val_label_loss: 1.2839, \n",
      "=============================================================\n"
     ]
    },
    {
     "name": "stdout",
     "output_type": "stream",
     "text": [
      "New best\n"
     ]
    },
    {
     "name": "stdout",
     "output_type": "stream",
     "text": [
      "epoch: 5, [batch: 1 / 14], examples_per_second: 626.6325, train_label_loss: 0.8562, \n"
     ]
    },
    {
     "name": "stdout",
     "output_type": "stream",
     "text": [
      "epoch: 5, [batch: 2 / 14], examples_per_second: 4026.6171, train_label_loss: 1.0158, \n"
     ]
    },
    {
     "name": "stdout",
     "output_type": "stream",
     "text": [
      "epoch: 5, [batch: 3 / 14], examples_per_second: 4031.1479, train_label_loss: 0.9143, \n"
     ]
    },
    {
     "name": "stdout",
     "output_type": "stream",
     "text": [
      "epoch: 5, [batch: 4 / 14], examples_per_second: 4126.8772, train_label_loss: 1.3203, \n"
     ]
    },
    {
     "name": "stdout",
     "output_type": "stream",
     "text": [
      "epoch: 5, [batch: 6 / 14], examples_per_second: 4137.4805, train_label_loss: 1.0707, \n"
     ]
    },
    {
     "name": "stdout",
     "output_type": "stream",
     "text": [
      "epoch: 5, [batch: 7 / 14], examples_per_second: 4141.7987, train_label_loss: 1.1041, \n"
     ]
    },
    {
     "name": "stdout",
     "output_type": "stream",
     "text": [
      "epoch: 5, [batch: 8 / 14], examples_per_second: 4128.8272, train_label_loss: 1.2969, \n"
     ]
    },
    {
     "name": "stdout",
     "output_type": "stream",
     "text": [
      "epoch: 5, [batch: 10 / 14], examples_per_second: 4137.2890, train_label_loss: 1.0245, \n"
     ]
    },
    {
     "name": "stdout",
     "output_type": "stream",
     "text": [
      "epoch: 5, [batch: 11 / 14], examples_per_second: 4137.6061, train_label_loss: 0.9550, \n"
     ]
    },
    {
     "name": "stdout",
     "output_type": "stream",
     "text": [
      "epoch: 5, [batch: 12 / 14], examples_per_second: 4134.4185, train_label_loss: 0.8796, \n"
     ]
    },
    {
     "name": "stdout",
     "output_type": "stream",
     "text": [
      "=============================================================\n",
      "epoch: 5, source_val_acc_label: 0.8199, target_val_acc_label: 0.7784, source_val_label_loss: 1.0745, target_val_label_loss: 1.2509, \n",
      "=============================================================\n"
     ]
    },
    {
     "name": "stdout",
     "output_type": "stream",
     "text": [
      "New best\n"
     ]
    },
    {
     "name": "stdout",
     "output_type": "stream",
     "text": [
      "epoch: 6, [batch: 1 / 14], examples_per_second: 609.3895, train_label_loss: 0.8536, \n"
     ]
    },
    {
     "name": "stdout",
     "output_type": "stream",
     "text": [
      "epoch: 6, [batch: 2 / 14], examples_per_second: 4001.7050, train_label_loss: 0.8497, \n"
     ]
    },
    {
     "name": "stdout",
     "output_type": "stream",
     "text": [
      "epoch: 6, [batch: 3 / 14], examples_per_second: 4058.9414, train_label_loss: 0.7934, \n"
     ]
    },
    {
     "name": "stdout",
     "output_type": "stream",
     "text": [
      "epoch: 6, [batch: 4 / 14], examples_per_second: 4146.4476, train_label_loss: 0.8851, \n"
     ]
    },
    {
     "name": "stdout",
     "output_type": "stream",
     "text": [
      "epoch: 6, [batch: 6 / 14], examples_per_second: 4144.4589, train_label_loss: 0.8758, \n"
     ]
    },
    {
     "name": "stdout",
     "output_type": "stream",
     "text": [
      "epoch: 6, [batch: 7 / 14], examples_per_second: 4136.7836, train_label_loss: 0.8568, \n"
     ]
    },
    {
     "name": "stdout",
     "output_type": "stream",
     "text": [
      "epoch: 6, [batch: 8 / 14], examples_per_second: 4140.5407, train_label_loss: 0.9681, \n"
     ]
    },
    {
     "name": "stdout",
     "output_type": "stream",
     "text": [
      "epoch: 6, [batch: 10 / 14], examples_per_second: 4147.5799, train_label_loss: 1.2828, \n"
     ]
    },
    {
     "name": "stdout",
     "output_type": "stream",
     "text": [
      "epoch: 6, [batch: 11 / 14], examples_per_second: 4133.0710, train_label_loss: 1.0518, \n"
     ]
    },
    {
     "name": "stdout",
     "output_type": "stream",
     "text": [
      "epoch: 6, [batch: 12 / 14], examples_per_second: 4132.4257, train_label_loss: 0.6761, \n"
     ]
    },
    {
     "name": "stdout",
     "output_type": "stream",
     "text": [
      "=============================================================\n",
      "epoch: 6, source_val_acc_label: 0.8449, target_val_acc_label: 0.7953, source_val_label_loss: 0.9388, target_val_label_loss: 1.1600, \n",
      "=============================================================\n"
     ]
    },
    {
     "name": "stdout",
     "output_type": "stream",
     "text": [
      "New best\n"
     ]
    },
    {
     "name": "stdout",
     "output_type": "stream",
     "text": [
      "epoch: 7, [batch: 1 / 14], examples_per_second: 686.7630, train_label_loss: 0.9385, \n"
     ]
    },
    {
     "name": "stdout",
     "output_type": "stream",
     "text": [
      "epoch: 7, [batch: 2 / 14], examples_per_second: 4024.8991, train_label_loss: 0.7542, \n"
     ]
    },
    {
     "name": "stdout",
     "output_type": "stream",
     "text": [
      "epoch: 7, [batch: 3 / 14], examples_per_second: 4025.6777, train_label_loss: 0.8161, \n"
     ]
    },
    {
     "name": "stdout",
     "output_type": "stream",
     "text": [
      "epoch: 7, [batch: 4 / 14], examples_per_second: 4129.0898, train_label_loss: 0.7900, \n"
     ]
    },
    {
     "name": "stdout",
     "output_type": "stream",
     "text": [
      "epoch: 7, [batch: 6 / 14], examples_per_second: 4138.4697, train_label_loss: 0.7097, \n"
     ]
    },
    {
     "name": "stdout",
     "output_type": "stream",
     "text": [
      "epoch: 7, [batch: 7 / 14], examples_per_second: 4135.7607, train_label_loss: 0.7831, \n"
     ]
    },
    {
     "name": "stdout",
     "output_type": "stream",
     "text": [
      "epoch: 7, [batch: 8 / 14], examples_per_second: 4128.1520, train_label_loss: 0.7269, \n"
     ]
    },
    {
     "name": "stdout",
     "output_type": "stream",
     "text": [
      "epoch: 7, [batch: 10 / 14], examples_per_second: 4128.8741, train_label_loss: 0.7681, \n"
     ]
    },
    {
     "name": "stdout",
     "output_type": "stream",
     "text": [
      "epoch: 7, [batch: 11 / 14], examples_per_second: 4126.3088, train_label_loss: 0.8062, \n"
     ]
    },
    {
     "name": "stdout",
     "output_type": "stream",
     "text": [
      "epoch: 7, [batch: 12 / 14], examples_per_second: 4133.0334, train_label_loss: 0.6917, \n"
     ]
    },
    {
     "name": "stdout",
     "output_type": "stream",
     "text": [
      "=============================================================\n",
      "epoch: 7, source_val_acc_label: 0.8577, target_val_acc_label: 0.8056, source_val_label_loss: 0.8806, target_val_label_loss: 1.1357, \n",
      "=============================================================\n"
     ]
    },
    {
     "name": "stdout",
     "output_type": "stream",
     "text": [
      "New best\n"
     ]
    },
    {
     "name": "stdout",
     "output_type": "stream",
     "text": [
      "epoch: 8, [batch: 1 / 14], examples_per_second: 682.8607, train_label_loss: 0.7141, \n"
     ]
    },
    {
     "name": "stdout",
     "output_type": "stream",
     "text": [
      "epoch: 8, [batch: 2 / 14], examples_per_second: 4026.7777, train_label_loss: 0.8106, \n"
     ]
    },
    {
     "name": "stdout",
     "output_type": "stream",
     "text": [
      "epoch: 8, [batch: 3 / 14], examples_per_second: 4038.1518, train_label_loss: 0.6919, \n"
     ]
    },
    {
     "name": "stdout",
     "output_type": "stream",
     "text": [
      "epoch: 8, [batch: 4 / 14], examples_per_second: 4119.5625, train_label_loss: 0.7794, \n"
     ]
    },
    {
     "name": "stdout",
     "output_type": "stream",
     "text": [
      "epoch: 8, [batch: 6 / 14], examples_per_second: 4140.6319, train_label_loss: 0.9107, \n"
     ]
    },
    {
     "name": "stdout",
     "output_type": "stream",
     "text": [
      "epoch: 8, [batch: 7 / 14], examples_per_second: 4147.8544, train_label_loss: 0.7495, \n"
     ]
    },
    {
     "name": "stdout",
     "output_type": "stream",
     "text": [
      "epoch: 8, [batch: 8 / 14], examples_per_second: 4140.4589, train_label_loss: 0.8082, \n"
     ]
    },
    {
     "name": "stdout",
     "output_type": "stream",
     "text": [
      "epoch: 8, [batch: 10 / 14], examples_per_second: 4139.9716, train_label_loss: 0.7251, \n"
     ]
    },
    {
     "name": "stdout",
     "output_type": "stream",
     "text": [
      "epoch: 8, [batch: 11 / 14], examples_per_second: 4133.7415, train_label_loss: 0.8649, \n"
     ]
    },
    {
     "name": "stdout",
     "output_type": "stream",
     "text": [
      "epoch: 8, [batch: 12 / 14], examples_per_second: 4133.6475, train_label_loss: 0.7982, \n"
     ]
    },
    {
     "name": "stdout",
     "output_type": "stream",
     "text": [
      "=============================================================\n",
      "epoch: 8, source_val_acc_label: 0.8583, target_val_acc_label: 0.8034, source_val_label_loss: 0.8253, target_val_label_loss: 1.0452, \n",
      "=============================================================\n"
     ]
    },
    {
     "name": "stdout",
     "output_type": "stream",
     "text": [
      "New best\n"
     ]
    },
    {
     "name": "stdout",
     "output_type": "stream",
     "text": [
      "epoch: 9, [batch: 1 / 14], examples_per_second: 682.7888, train_label_loss: 0.7164, \n"
     ]
    },
    {
     "name": "stdout",
     "output_type": "stream",
     "text": [
      "epoch: 9, [batch: 2 / 14], examples_per_second: 4022.1439, train_label_loss: 0.6199, \n"
     ]
    },
    {
     "name": "stdout",
     "output_type": "stream",
     "text": [
      "epoch: 9, [batch: 3 / 14], examples_per_second: 4015.2368, train_label_loss: 0.8515, \n"
     ]
    },
    {
     "name": "stdout",
     "output_type": "stream",
     "text": [
      "epoch: 9, [batch: 4 / 14], examples_per_second: 4146.3404, train_label_loss: 0.7335, \n"
     ]
    },
    {
     "name": "stdout",
     "output_type": "stream",
     "text": [
      "epoch: 9, [batch: 6 / 14], examples_per_second: 4132.3912, train_label_loss: 0.6388, \n"
     ]
    },
    {
     "name": "stdout",
     "output_type": "stream",
     "text": [
      "epoch: 9, [batch: 7 / 14], examples_per_second: 4124.3799, train_label_loss: 0.8062, \n"
     ]
    },
    {
     "name": "stdout",
     "output_type": "stream",
     "text": [
      "epoch: 9, [batch: 8 / 14], examples_per_second: 4132.2566, train_label_loss: 0.5981, \n"
     ]
    },
    {
     "name": "stdout",
     "output_type": "stream",
     "text": [
      "epoch: 9, [batch: 10 / 14], examples_per_second: 4130.7821, train_label_loss: 0.7299, \n"
     ]
    },
    {
     "name": "stdout",
     "output_type": "stream",
     "text": [
      "epoch: 9, [batch: 11 / 14], examples_per_second: 4125.1537, train_label_loss: 0.6241, \n"
     ]
    },
    {
     "name": "stdout",
     "output_type": "stream",
     "text": [
      "epoch: 9, [batch: 12 / 14], examples_per_second: 4133.7290, train_label_loss: 0.7970, \n"
     ]
    },
    {
     "name": "stdout",
     "output_type": "stream",
     "text": [
      "=============================================================\n",
      "epoch: 9, source_val_acc_label: 0.8724, target_val_acc_label: 0.8132, source_val_label_loss: 0.7874, target_val_label_loss: 1.0144, \n",
      "=============================================================\n"
     ]
    },
    {
     "name": "stdout",
     "output_type": "stream",
     "text": [
      "New best\n"
     ]
    },
    {
     "name": "stdout",
     "output_type": "stream",
     "text": [
      "epoch: 10, [batch: 1 / 14], examples_per_second: 680.7333, train_label_loss: 0.6166, \n"
     ]
    },
    {
     "name": "stdout",
     "output_type": "stream",
     "text": [
      "epoch: 10, [batch: 2 / 14], examples_per_second: 4026.5041, train_label_loss: 0.5787, \n"
     ]
    },
    {
     "name": "stdout",
     "output_type": "stream",
     "text": [
      "epoch: 10, [batch: 3 / 14], examples_per_second: 4038.6662, train_label_loss: 0.5848, \n"
     ]
    },
    {
     "name": "stdout",
     "output_type": "stream",
     "text": [
      "epoch: 10, [batch: 4 / 14], examples_per_second: 4118.8032, train_label_loss: 1.2947, \n"
     ]
    },
    {
     "name": "stdout",
     "output_type": "stream",
     "text": [
      "epoch: 10, [batch: 6 / 14], examples_per_second: 4134.8669, train_label_loss: 0.5868, \n"
     ]
    },
    {
     "name": "stdout",
     "output_type": "stream",
     "text": [
      "epoch: 10, [batch: 7 / 14], examples_per_second: 4125.0788, train_label_loss: 0.5773, \n"
     ]
    },
    {
     "name": "stdout",
     "output_type": "stream",
     "text": [
      "epoch: 10, [batch: 8 / 14], examples_per_second: 4139.3022, train_label_loss: 0.4714, \n"
     ]
    },
    {
     "name": "stdout",
     "output_type": "stream",
     "text": [
      "epoch: 10, [batch: 10 / 14], examples_per_second: 4134.0455, train_label_loss: 0.7131, \n"
     ]
    },
    {
     "name": "stdout",
     "output_type": "stream",
     "text": [
      "epoch: 10, [batch: 11 / 14], examples_per_second: 4123.2509, train_label_loss: 0.5199, \n"
     ]
    },
    {
     "name": "stdout",
     "output_type": "stream",
     "text": [
      "epoch: 10, [batch: 12 / 14], examples_per_second: 4125.9154, train_label_loss: 0.7566, \n"
     ]
    },
    {
     "name": "stdout",
     "output_type": "stream",
     "text": [
      "=============================================================\n",
      "epoch: 10, source_val_acc_label: 0.8814, target_val_acc_label: 0.8186, source_val_label_loss: 0.6993, target_val_label_loss: 0.9659, \n",
      "=============================================================\n"
     ]
    },
    {
     "name": "stdout",
     "output_type": "stream",
     "text": [
      "New best\n"
     ]
    },
    {
     "name": "stdout",
     "output_type": "stream",
     "text": [
      "epoch: 11, [batch: 1 / 14], examples_per_second: 687.1564, train_label_loss: 0.5838, \n"
     ]
    },
    {
     "name": "stdout",
     "output_type": "stream",
     "text": [
      "epoch: 11, [batch: 2 / 14], examples_per_second: 4021.8413, train_label_loss: 0.5633, \n"
     ]
    },
    {
     "name": "stdout",
     "output_type": "stream",
     "text": [
      "epoch: 11, [batch: 3 / 14], examples_per_second: 4027.2238, train_label_loss: 0.6603, \n"
     ]
    },
    {
     "name": "stdout",
     "output_type": "stream",
     "text": [
      "epoch: 11, [batch: 4 / 14], examples_per_second: 4123.7748, train_label_loss: 0.5087, \n"
     ]
    },
    {
     "name": "stdout",
     "output_type": "stream",
     "text": [
      "epoch: 11, [batch: 6 / 14], examples_per_second: 4141.9718, train_label_loss: 0.6376, \n"
     ]
    },
    {
     "name": "stdout",
     "output_type": "stream",
     "text": [
      "epoch: 11, [batch: 7 / 14], examples_per_second: 4115.6507, train_label_loss: 0.7563, \n"
     ]
    },
    {
     "name": "stdout",
     "output_type": "stream",
     "text": [
      "epoch: 11, [batch: 8 / 14], examples_per_second: 4121.7922, train_label_loss: 0.5511, \n"
     ]
    },
    {
     "name": "stdout",
     "output_type": "stream",
     "text": [
      "epoch: 11, [batch: 10 / 14], examples_per_second: 4136.0807, train_label_loss: 0.6595, \n"
     ]
    },
    {
     "name": "stdout",
     "output_type": "stream",
     "text": [
      "epoch: 11, [batch: 11 / 14], examples_per_second: 4130.2533, train_label_loss: 0.7465, \n"
     ]
    },
    {
     "name": "stdout",
     "output_type": "stream",
     "text": [
      "epoch: 11, [batch: 12 / 14], examples_per_second: 4142.8435, train_label_loss: 0.4886, \n"
     ]
    },
    {
     "name": "stdout",
     "output_type": "stream",
     "text": [
      "=============================================================\n",
      "epoch: 11, source_val_acc_label: 0.8910, target_val_acc_label: 0.8291, source_val_label_loss: 0.6434, target_val_label_loss: 0.9288, \n",
      "=============================================================\n"
     ]
    },
    {
     "name": "stdout",
     "output_type": "stream",
     "text": [
      "New best\n"
     ]
    },
    {
     "name": "stdout",
     "output_type": "stream",
     "text": [
      "epoch: 12, [batch: 1 / 14], examples_per_second: 684.0520, train_label_loss: 0.7486, \n"
     ]
    },
    {
     "name": "stdout",
     "output_type": "stream",
     "text": [
      "epoch: 12, [batch: 2 / 14], examples_per_second: 4024.1505, train_label_loss: 0.4565, \n"
     ]
    },
    {
     "name": "stdout",
     "output_type": "stream",
     "text": [
      "epoch: 12, [batch: 3 / 14], examples_per_second: 4030.6354, train_label_loss: 0.4253, \n"
     ]
    },
    {
     "name": "stdout",
     "output_type": "stream",
     "text": [
      "epoch: 12, [batch: 4 / 14], examples_per_second: 4126.0153, train_label_loss: 0.5886, \n"
     ]
    },
    {
     "name": "stdout",
     "output_type": "stream",
     "text": [
      "epoch: 12, [batch: 6 / 14], examples_per_second: 4141.3332, train_label_loss: 0.4985, \n"
     ]
    },
    {
     "name": "stdout",
     "output_type": "stream",
     "text": [
      "epoch: 12, [batch: 7 / 14], examples_per_second: 4125.9403, train_label_loss: 0.6095, \n"
     ]
    },
    {
     "name": "stdout",
     "output_type": "stream",
     "text": [
      "epoch: 12, [batch: 8 / 14], examples_per_second: 4130.4035, train_label_loss: 0.5035, \n"
     ]
    },
    {
     "name": "stdout",
     "output_type": "stream",
     "text": [
      "epoch: 12, [batch: 10 / 14], examples_per_second: 4140.6570, train_label_loss: 0.4984, \n"
     ]
    },
    {
     "name": "stdout",
     "output_type": "stream",
     "text": [
      "epoch: 12, [batch: 11 / 14], examples_per_second: 4138.6236, train_label_loss: 0.5164, \n"
     ]
    },
    {
     "name": "stdout",
     "output_type": "stream",
     "text": [
      "epoch: 12, [batch: 12 / 14], examples_per_second: 4133.9484, train_label_loss: 0.4437, \n"
     ]
    },
    {
     "name": "stdout",
     "output_type": "stream",
     "text": [
      "=============================================================\n",
      "epoch: 12, source_val_acc_label: 0.8885, target_val_acc_label: 0.8267, source_val_label_loss: 0.6459, target_val_label_loss: 0.9562, \n",
      "=============================================================\n"
     ]
    },
    {
     "name": "stdout",
     "output_type": "stream",
     "text": [
      "epoch: 13, [batch: 1 / 14], examples_per_second: 713.3894, train_label_loss: 0.5651, \n"
     ]
    },
    {
     "name": "stdout",
     "output_type": "stream",
     "text": [
      "epoch: 13, [batch: 2 / 14], examples_per_second: 4025.6539, train_label_loss: 0.6642, \n"
     ]
    },
    {
     "name": "stdout",
     "output_type": "stream",
     "text": [
      "epoch: 13, [batch: 3 / 14], examples_per_second: 4028.8604, train_label_loss: 0.4562, \n"
     ]
    },
    {
     "name": "stdout",
     "output_type": "stream",
     "text": [
      "epoch: 13, [batch: 4 / 14], examples_per_second: 4121.9604, train_label_loss: 0.4463, \n"
     ]
    },
    {
     "name": "stdout",
     "output_type": "stream",
     "text": [
      "epoch: 13, [batch: 6 / 14], examples_per_second: 4134.4750, train_label_loss: 0.5194, \n"
     ]
    },
    {
     "name": "stdout",
     "output_type": "stream",
     "text": [
      "epoch: 13, [batch: 7 / 14], examples_per_second: 4127.3520, train_label_loss: 0.3519, \n"
     ]
    },
    {
     "name": "stdout",
     "output_type": "stream",
     "text": [
      "epoch: 13, [batch: 8 / 14], examples_per_second: 4123.2696, train_label_loss: 0.6025, \n"
     ]
    },
    {
     "name": "stdout",
     "output_type": "stream",
     "text": [
      "epoch: 13, [batch: 10 / 14], examples_per_second: 4132.7608, train_label_loss: 0.3141, \n"
     ]
    },
    {
     "name": "stdout",
     "output_type": "stream",
     "text": [
      "epoch: 13, [batch: 11 / 14], examples_per_second: 4126.6898, train_label_loss: 0.6259, \n"
     ]
    },
    {
     "name": "stdout",
     "output_type": "stream",
     "text": [
      "epoch: 13, [batch: 12 / 14], examples_per_second: 4139.0697, train_label_loss: 0.6173, \n"
     ]
    },
    {
     "name": "stdout",
     "output_type": "stream",
     "text": [
      "=============================================================\n",
      "epoch: 13, source_val_acc_label: 0.8891, target_val_acc_label: 0.8355, source_val_label_loss: 0.6474, target_val_label_loss: 0.9564, \n",
      "=============================================================\n"
     ]
    },
    {
     "name": "stdout",
     "output_type": "stream",
     "text": [
      "epoch: 14, [batch: 1 / 14], examples_per_second: 715.1718, train_label_loss: 0.5522, \n"
     ]
    },
    {
     "name": "stdout",
     "output_type": "stream",
     "text": [
      "epoch: 14, [batch: 2 / 14], examples_per_second: 4021.1057, train_label_loss: 0.7963, \n"
     ]
    },
    {
     "name": "stdout",
     "output_type": "stream",
     "text": [
      "epoch: 14, [batch: 3 / 14], examples_per_second: 4034.6259, train_label_loss: 0.4172, \n"
     ]
    },
    {
     "name": "stdout",
     "output_type": "stream",
     "text": [
      "epoch: 14, [batch: 4 / 14], examples_per_second: 4121.0694, train_label_loss: 0.5924, \n"
     ]
    },
    {
     "name": "stdout",
     "output_type": "stream",
     "text": [
      "epoch: 14, [batch: 6 / 14], examples_per_second: 4135.4063, train_label_loss: 0.7523, \n"
     ]
    },
    {
     "name": "stdout",
     "output_type": "stream",
     "text": [
      "epoch: 14, [batch: 7 / 14], examples_per_second: 4133.3717, train_label_loss: 0.4071, \n"
     ]
    },
    {
     "name": "stdout",
     "output_type": "stream",
     "text": [
      "epoch: 14, [batch: 8 / 14], examples_per_second: 4115.5389, train_label_loss: 0.4705, \n"
     ]
    },
    {
     "name": "stdout",
     "output_type": "stream",
     "text": [
      "epoch: 14, [batch: 10 / 14], examples_per_second: 4126.2557, train_label_loss: 0.5806, \n"
     ]
    },
    {
     "name": "stdout",
     "output_type": "stream",
     "text": [
      "epoch: 14, [batch: 11 / 14], examples_per_second: 4132.0186, train_label_loss: 0.4302, \n"
     ]
    },
    {
     "name": "stdout",
     "output_type": "stream",
     "text": [
      "epoch: 14, [batch: 12 / 14], examples_per_second: 4130.9918, train_label_loss: 0.5517, \n"
     ]
    },
    {
     "name": "stdout",
     "output_type": "stream",
     "text": [
      "=============================================================\n",
      "epoch: 14, source_val_acc_label: 0.8904, target_val_acc_label: 0.8368, source_val_label_loss: 0.6096, target_val_label_loss: 0.8956, \n",
      "=============================================================\n"
     ]
    },
    {
     "name": "stdout",
     "output_type": "stream",
     "text": [
      "New best\n"
     ]
    },
    {
     "name": "stdout",
     "output_type": "stream",
     "text": [
      "epoch: 15, [batch: 1 / 14], examples_per_second: 688.4368, train_label_loss: 0.7316, \n"
     ]
    },
    {
     "name": "stdout",
     "output_type": "stream",
     "text": [
      "epoch: 15, [batch: 2 / 14], examples_per_second: 4017.0649, train_label_loss: 0.4375, \n"
     ]
    },
    {
     "name": "stdout",
     "output_type": "stream",
     "text": [
      "epoch: 15, [batch: 3 / 14], examples_per_second: 4037.5478, train_label_loss: 0.3526, \n"
     ]
    },
    {
     "name": "stdout",
     "output_type": "stream",
     "text": [
      "epoch: 15, [batch: 4 / 14], examples_per_second: 4121.7548, train_label_loss: 0.4942, \n"
     ]
    },
    {
     "name": "stdout",
     "output_type": "stream",
     "text": [
      "epoch: 15, [batch: 6 / 14], examples_per_second: 4129.0742, train_label_loss: 0.3709, \n"
     ]
    },
    {
     "name": "stdout",
     "output_type": "stream",
     "text": [
      "epoch: 15, [batch: 7 / 14], examples_per_second: 4130.9918, train_label_loss: 0.4291, \n"
     ]
    },
    {
     "name": "stdout",
     "output_type": "stream",
     "text": [
      "epoch: 15, [batch: 8 / 14], examples_per_second: 4138.0080, train_label_loss: 0.5687, \n"
     ]
    },
    {
     "name": "stdout",
     "output_type": "stream",
     "text": [
      "epoch: 15, [batch: 10 / 14], examples_per_second: 4137.0943, train_label_loss: 0.6135, \n"
     ]
    },
    {
     "name": "stdout",
     "output_type": "stream",
     "text": [
      "epoch: 15, [batch: 11 / 14], examples_per_second: 4137.0096, train_label_loss: 0.4238, \n"
     ]
    },
    {
     "name": "stdout",
     "output_type": "stream",
     "text": [
      "epoch: 15, [batch: 12 / 14], examples_per_second: 4134.4373, train_label_loss: 0.5514, \n"
     ]
    },
    {
     "name": "stdout",
     "output_type": "stream",
     "text": [
      "=============================================================\n",
      "epoch: 15, source_val_acc_label: 0.9000, target_val_acc_label: 0.8421, source_val_label_loss: 0.5971, target_val_label_loss: 0.8806, \n",
      "=============================================================\n"
     ]
    },
    {
     "name": "stdout",
     "output_type": "stream",
     "text": [
      "New best\n"
     ]
    },
    {
     "name": "stdout",
     "output_type": "stream",
     "text": [
      "epoch: 16, [batch: 1 / 14], examples_per_second: 679.1095, train_label_loss: 0.4983, \n"
     ]
    },
    {
     "name": "stdout",
     "output_type": "stream",
     "text": [
      "epoch: 16, [batch: 2 / 14], examples_per_second: 4029.4023, train_label_loss: 0.5811, \n"
     ]
    },
    {
     "name": "stdout",
     "output_type": "stream",
     "text": [
      "epoch: 16, [batch: 3 / 14], examples_per_second: 3996.8357, train_label_loss: 0.3661, \n"
     ]
    },
    {
     "name": "stdout",
     "output_type": "stream",
     "text": [
      "epoch: 16, [batch: 4 / 14], examples_per_second: 4128.3520, train_label_loss: 0.5015, \n"
     ]
    },
    {
     "name": "stdout",
     "output_type": "stream",
     "text": [
      "epoch: 16, [batch: 6 / 14], examples_per_second: 4140.1131, train_label_loss: 0.5471, \n"
     ]
    },
    {
     "name": "stdout",
     "output_type": "stream",
     "text": [
      "epoch: 16, [batch: 7 / 14], examples_per_second: 4121.9791, train_label_loss: 0.6689, \n"
     ]
    },
    {
     "name": "stdout",
     "output_type": "stream",
     "text": [
      "epoch: 16, [batch: 8 / 14], examples_per_second: 4137.6563, train_label_loss: 0.5630, \n"
     ]
    },
    {
     "name": "stdout",
     "output_type": "stream",
     "text": [
      "epoch: 16, [batch: 10 / 14], examples_per_second: 4128.4301, train_label_loss: 0.5226, \n"
     ]
    },
    {
     "name": "stdout",
     "output_type": "stream",
     "text": [
      "epoch: 16, [batch: 11 / 14], examples_per_second: 4129.0773, train_label_loss: 0.3701, \n"
     ]
    },
    {
     "name": "stdout",
     "output_type": "stream",
     "text": [
      "epoch: 16, [batch: 12 / 14], examples_per_second: 4137.6123, train_label_loss: 0.4090, \n"
     ]
    },
    {
     "name": "stdout",
     "output_type": "stream",
     "text": [
      "=============================================================\n",
      "epoch: 16, source_val_acc_label: 0.9090, target_val_acc_label: 0.8453, source_val_label_loss: 0.5523, target_val_label_loss: 0.8230, \n",
      "=============================================================\n"
     ]
    },
    {
     "name": "stdout",
     "output_type": "stream",
     "text": [
      "New best\n"
     ]
    },
    {
     "name": "stdout",
     "output_type": "stream",
     "text": [
      "epoch: 17, [batch: 1 / 14], examples_per_second: 688.3563, train_label_loss: 0.3922, \n"
     ]
    },
    {
     "name": "stdout",
     "output_type": "stream",
     "text": [
      "epoch: 17, [batch: 2 / 14], examples_per_second: 4036.3343, train_label_loss: 0.4434, \n"
     ]
    },
    {
     "name": "stdout",
     "output_type": "stream",
     "text": [
      "epoch: 17, [batch: 3 / 14], examples_per_second: 4055.8437, train_label_loss: 0.4589, \n"
     ]
    },
    {
     "name": "stdout",
     "output_type": "stream",
     "text": [
      "epoch: 17, [batch: 4 / 14], examples_per_second: 4123.5190, train_label_loss: 0.4306, \n"
     ]
    },
    {
     "name": "stdout",
     "output_type": "stream",
     "text": [
      "epoch: 17, [batch: 6 / 14], examples_per_second: 4127.8613, train_label_loss: 0.3445, \n"
     ]
    },
    {
     "name": "stdout",
     "output_type": "stream",
     "text": [
      "epoch: 17, [batch: 7 / 14], examples_per_second: 4123.3195, train_label_loss: 0.2353, \n"
     ]
    },
    {
     "name": "stdout",
     "output_type": "stream",
     "text": [
      "epoch: 17, [batch: 8 / 14], examples_per_second: 4127.0396, train_label_loss: 0.7035, \n"
     ]
    },
    {
     "name": "stdout",
     "output_type": "stream",
     "text": [
      "epoch: 17, [batch: 10 / 14], examples_per_second: 4135.4533, train_label_loss: 0.4307, \n"
     ]
    },
    {
     "name": "stdout",
     "output_type": "stream",
     "text": [
      "epoch: 17, [batch: 11 / 14], examples_per_second: 4135.4784, train_label_loss: 0.3611, \n"
     ]
    },
    {
     "name": "stdout",
     "output_type": "stream",
     "text": [
      "epoch: 17, [batch: 12 / 14], examples_per_second: 4129.5026, train_label_loss: 0.4357, \n"
     ]
    },
    {
     "name": "stdout",
     "output_type": "stream",
     "text": [
      "=============================================================\n",
      "epoch: 17, source_val_acc_label: 0.9083, target_val_acc_label: 0.8476, source_val_label_loss: 0.5456, target_val_label_loss: 0.8335, \n",
      "=============================================================\n"
     ]
    },
    {
     "name": "stdout",
     "output_type": "stream",
     "text": [
      "epoch: 18, [batch: 1 / 14], examples_per_second: 713.3433, train_label_loss: 0.3088, \n"
     ]
    },
    {
     "name": "stdout",
     "output_type": "stream",
     "text": [
      "epoch: 18, [batch: 2 / 14], examples_per_second: 4019.5702, train_label_loss: 0.4600, \n"
     ]
    },
    {
     "name": "stdout",
     "output_type": "stream",
     "text": [
      "epoch: 18, [batch: 3 / 14], examples_per_second: 4025.7074, train_label_loss: 0.3395, \n"
     ]
    },
    {
     "name": "stdout",
     "output_type": "stream",
     "text": [
      "epoch: 18, [batch: 4 / 14], examples_per_second: 4124.8729, train_label_loss: 0.4704, \n"
     ]
    },
    {
     "name": "stdout",
     "output_type": "stream",
     "text": [
      "epoch: 18, [batch: 6 / 14], examples_per_second: 4135.6290, train_label_loss: 0.4219, \n"
     ]
    },
    {
     "name": "stdout",
     "output_type": "stream",
     "text": [
      "epoch: 18, [batch: 7 / 14], examples_per_second: 4129.1836, train_label_loss: 0.8114, \n"
     ]
    },
    {
     "name": "stdout",
     "output_type": "stream",
     "text": [
      "epoch: 18, [batch: 8 / 14], examples_per_second: 4122.0726, train_label_loss: 0.2881, \n"
     ]
    },
    {
     "name": "stdout",
     "output_type": "stream",
     "text": [
      "epoch: 18, [batch: 10 / 14], examples_per_second: 4139.3117, train_label_loss: 0.4706, \n"
     ]
    },
    {
     "name": "stdout",
     "output_type": "stream",
     "text": [
      "epoch: 18, [batch: 11 / 14], examples_per_second: 4136.5828, train_label_loss: 0.5543, \n"
     ]
    },
    {
     "name": "stdout",
     "output_type": "stream",
     "text": [
      "epoch: 18, [batch: 12 / 14], examples_per_second: 4127.3395, train_label_loss: 0.5318, \n"
     ]
    },
    {
     "name": "stdout",
     "output_type": "stream",
     "text": [
      "=============================================================\n",
      "epoch: 18, source_val_acc_label: 0.9122, target_val_acc_label: 0.8434, source_val_label_loss: 0.5499, target_val_label_loss: 0.8356, \n",
      "=============================================================\n"
     ]
    },
    {
     "name": "stdout",
     "output_type": "stream",
     "text": [
      "epoch: 19, [batch: 1 / 14], examples_per_second: 715.8639, train_label_loss: 0.4501, \n"
     ]
    },
    {
     "name": "stdout",
     "output_type": "stream",
     "text": [
      "epoch: 19, [batch: 2 / 14], examples_per_second: 4035.3306, train_label_loss: 0.5675, \n"
     ]
    },
    {
     "name": "stdout",
     "output_type": "stream",
     "text": [
      "epoch: 19, [batch: 3 / 14], examples_per_second: 4056.8396, train_label_loss: 0.4089, \n"
     ]
    },
    {
     "name": "stdout",
     "output_type": "stream",
     "text": [
      "epoch: 19, [batch: 4 / 14], examples_per_second: 4130.8353, train_label_loss: 0.4145, \n"
     ]
    },
    {
     "name": "stdout",
     "output_type": "stream",
     "text": [
      "epoch: 19, [batch: 6 / 14], examples_per_second: 4142.8844, train_label_loss: 0.4251, \n"
     ]
    },
    {
     "name": "stdout",
     "output_type": "stream",
     "text": [
      "epoch: 19, [batch: 7 / 14], examples_per_second: 4128.4520, train_label_loss: 0.4099, \n"
     ]
    },
    {
     "name": "stdout",
     "output_type": "stream",
     "text": [
      "epoch: 19, [batch: 8 / 14], examples_per_second: 4132.1626, train_label_loss: 0.2646, \n"
     ]
    },
    {
     "name": "stdout",
     "output_type": "stream",
     "text": [
      "epoch: 19, [batch: 10 / 14], examples_per_second: 4140.7954, train_label_loss: 0.3858, \n"
     ]
    },
    {
     "name": "stdout",
     "output_type": "stream",
     "text": [
      "epoch: 19, [batch: 11 / 14], examples_per_second: 4127.0459, train_label_loss: 0.5254, \n"
     ]
    },
    {
     "name": "stdout",
     "output_type": "stream",
     "text": [
      "epoch: 19, [batch: 12 / 14], examples_per_second: 4123.6874, train_label_loss: 0.2947, \n"
     ]
    },
    {
     "name": "stdout",
     "output_type": "stream",
     "text": [
      "=============================================================\n",
      "epoch: 19, source_val_acc_label: 0.9032, target_val_acc_label: 0.8442, source_val_label_loss: 0.5560, target_val_label_loss: 0.8458, \n",
      "=============================================================\n"
     ]
    },
    {
     "name": "stdout",
     "output_type": "stream",
     "text": [
      "epoch: 20, [batch: 1 / 14], examples_per_second: 715.3151, train_label_loss: 0.4127, \n"
     ]
    },
    {
     "name": "stdout",
     "output_type": "stream",
     "text": [
      "epoch: 20, [batch: 2 / 14], examples_per_second: 4018.9362, train_label_loss: 0.4600, \n"
     ]
    },
    {
     "name": "stdout",
     "output_type": "stream",
     "text": [
      "epoch: 20, [batch: 3 / 14], examples_per_second: 4042.2831, train_label_loss: 0.4404, \n"
     ]
    },
    {
     "name": "stdout",
     "output_type": "stream",
     "text": [
      "epoch: 20, [batch: 4 / 14], examples_per_second: 4126.6461, train_label_loss: 0.4770, \n"
     ]
    },
    {
     "name": "stdout",
     "output_type": "stream",
     "text": [
      "epoch: 20, [batch: 6 / 14], examples_per_second: 4147.9207, train_label_loss: 0.3945, \n"
     ]
    },
    {
     "name": "stdout",
     "output_type": "stream",
     "text": [
      "epoch: 20, [batch: 7 / 14], examples_per_second: 4140.7985, train_label_loss: 0.3709, \n"
     ]
    },
    {
     "name": "stdout",
     "output_type": "stream",
     "text": [
      "epoch: 20, [batch: 8 / 14], examples_per_second: 4129.9655, train_label_loss: 0.5588, \n"
     ]
    },
    {
     "name": "stdout",
     "output_type": "stream",
     "text": [
      "epoch: 20, [batch: 10 / 14], examples_per_second: 4139.6825, train_label_loss: 0.3198, \n"
     ]
    },
    {
     "name": "stdout",
     "output_type": "stream",
     "text": [
      "epoch: 20, [batch: 11 / 14], examples_per_second: 4139.2205, train_label_loss: 0.6984, \n"
     ]
    },
    {
     "name": "stdout",
     "output_type": "stream",
     "text": [
      "epoch: 20, [batch: 12 / 14], examples_per_second: 4138.2844, train_label_loss: 0.4363, \n"
     ]
    },
    {
     "name": "stdout",
     "output_type": "stream",
     "text": [
      "=============================================================\n",
      "epoch: 20, source_val_acc_label: 0.9064, target_val_acc_label: 0.8427, source_val_label_loss: 0.5347, target_val_label_loss: 0.8435, \n",
      "=============================================================\n"
     ]
    },
    {
     "name": "stdout",
     "output_type": "stream",
     "text": [
      "Patience (3) exhausted\n"
     ]
    }
   ],
   "source": [
    "###################################\n",
    "# train\n",
    "###################################\n",
    "jig = PTN_Train_Eval_Test_Jig(model, p.BEST_MODEL_PATH, p.device)\n",
    "\n",
    "jig.train(\n",
    "    train_iterable=datasets.source.processed.train,\n",
    "    source_val_iterable=datasets.source.processed.val,\n",
    "    target_val_iterable=datasets.target.processed.val,\n",
    "    num_epochs=p.n_epoch,\n",
    "    num_logs_per_epoch=p.NUM_LOGS_PER_EPOCH,\n",
    "    patience=p.patience,\n",
    "    optimizer=optimizer,\n",
    "    criteria_for_best=p.criteria_for_best,\n",
    ")"
   ]
  },
  {
   "cell_type": "code",
   "execution_count": 14,
   "id": "31e8fabf",
   "metadata": {
    "execution": {
     "iopub.execute_input": "2022-04-03T06:16:58.147821Z",
     "iopub.status.busy": "2022-04-03T06:16:58.147565Z",
     "iopub.status.idle": "2022-04-03T06:16:58.165213Z",
     "shell.execute_reply": "2022-04-03T06:16:58.164776Z"
    },
    "papermill": {
     "duration": 0.073831,
     "end_time": "2022-04-03T06:16:58.165318",
     "exception": false,
     "start_time": "2022-04-03T06:16:58.091487",
     "status": "completed"
    },
    "tags": []
   },
   "outputs": [],
   "source": [
    "total_experiment_time_secs = time.time() - start_time_secs"
   ]
  },
  {
   "cell_type": "code",
   "execution_count": 15,
   "id": "87b9595b",
   "metadata": {
    "execution": {
     "iopub.execute_input": "2022-04-03T06:16:58.283102Z",
     "iopub.status.busy": "2022-04-03T06:16:58.282806Z",
     "iopub.status.idle": "2022-04-03T06:17:03.968153Z",
     "shell.execute_reply": "2022-04-03T06:17:03.967675Z"
    },
    "papermill": {
     "duration": 5.744691,
     "end_time": "2022-04-03T06:17:03.968265",
     "exception": false,
     "start_time": "2022-04-03T06:16:58.223574",
     "status": "completed"
    },
    "tags": []
   },
   "outputs": [],
   "source": [
    "###################################\n",
    "# Evaluate the model\n",
    "###################################\n",
    "source_test_label_accuracy, source_test_label_loss = jig.test(datasets.source.processed.test)\n",
    "target_test_label_accuracy, target_test_label_loss = jig.test(datasets.target.processed.test)\n",
    "\n",
    "source_val_label_accuracy, source_val_label_loss = jig.test(datasets.source.processed.val)\n",
    "target_val_label_accuracy, target_val_label_loss = jig.test(datasets.target.processed.val)\n",
    "\n",
    "history = jig.get_history()\n",
    "\n",
    "total_epochs_trained = len(history[\"epoch_indices\"])\n",
    "\n",
    "val_dl = Iterable_Aggregator((datasets.source.original.val,datasets.target.original.val))\n",
    "\n",
    "confusion = ptn_confusion_by_domain_over_dataloader(model, p.device, val_dl)\n",
    "per_domain_accuracy = per_domain_accuracy_from_confusion(confusion)\n",
    "\n",
    "# Add a key to per_domain_accuracy for if it was a source domain\n",
    "for domain, accuracy in per_domain_accuracy.items():\n",
    "    per_domain_accuracy[domain] = {\n",
    "        \"accuracy\": accuracy,\n",
    "        \"source?\": domain in p.domains_source\n",
    "    }\n",
    "\n",
    "# Do an independent accuracy assesment JUST TO BE SURE!\n",
    "# _source_test_label_accuracy = independent_accuracy_assesment(model, datasets.source.processed.test, p.device)\n",
    "# _target_test_label_accuracy = independent_accuracy_assesment(model, datasets.target.processed.test, p.device)\n",
    "# _source_val_label_accuracy = independent_accuracy_assesment(model, datasets.source.processed.val, p.device)\n",
    "# _target_val_label_accuracy = independent_accuracy_assesment(model, datasets.target.processed.val, p.device)\n",
    "\n",
    "# assert(_source_test_label_accuracy == source_test_label_accuracy)\n",
    "# assert(_target_test_label_accuracy == target_test_label_accuracy)\n",
    "# assert(_source_val_label_accuracy == source_val_label_accuracy)\n",
    "# assert(_target_val_label_accuracy == target_val_label_accuracy)\n",
    "\n",
    "experiment = {\n",
    "    \"experiment_name\": p.experiment_name,\n",
    "    \"parameters\": dict(p),\n",
    "    \"results\": {\n",
    "        \"source_test_label_accuracy\": source_test_label_accuracy,\n",
    "        \"source_test_label_loss\": source_test_label_loss,\n",
    "        \"target_test_label_accuracy\": target_test_label_accuracy,\n",
    "        \"target_test_label_loss\": target_test_label_loss,\n",
    "        \"source_val_label_accuracy\": source_val_label_accuracy,\n",
    "        \"source_val_label_loss\": source_val_label_loss,\n",
    "        \"target_val_label_accuracy\": target_val_label_accuracy,\n",
    "        \"target_val_label_loss\": target_val_label_loss,\n",
    "        \"total_epochs_trained\": total_epochs_trained,\n",
    "        \"total_experiment_time_secs\": total_experiment_time_secs,\n",
    "        \"confusion\": confusion,\n",
    "        \"per_domain_accuracy\": per_domain_accuracy,\n",
    "    },\n",
    "    \"history\": history,\n",
    "    \"dataset_metrics\": get_dataset_metrics(datasets, \"ptn\"),\n",
    "}"
   ]
  },
  {
   "cell_type": "code",
   "execution_count": 16,
   "id": "54a21829",
   "metadata": {
    "execution": {
     "iopub.execute_input": "2022-04-03T06:17:04.088645Z",
     "iopub.status.busy": "2022-04-03T06:17:04.088384Z",
     "iopub.status.idle": "2022-04-03T06:17:04.204687Z",
     "shell.execute_reply": "2022-04-03T06:17:04.204220Z"
    },
    "papermill": {
     "duration": 0.17669,
     "end_time": "2022-04-03T06:17:04.204781",
     "exception": false,
     "start_time": "2022-04-03T06:17:04.028091",
     "status": "completed"
    },
    "tags": []
   },
   "outputs": [
    {
     "data": {
      "image/png": "[encoded data removed]",
      "text/plain": [
       "<Figure size 1080x504 with 1 Axes>"
      ]
     },
     "metadata": {
      "needs_background": "light"
     },
     "output_type": "display_data"
    }
   ],
   "source": [
    "ax = get_loss_curve(experiment)\n",
    "plt.show()"
   ]
  },
  {
   "cell_type": "code",
   "execution_count": 17,
   "id": "fd8a0f60",
   "metadata": {
    "execution": {
     "iopub.execute_input": "2022-04-03T06:17:04.329601Z",
     "iopub.status.busy": "2022-04-03T06:17:04.320824Z",
     "iopub.status.idle": "2022-04-03T06:17:04.463303Z",
     "shell.execute_reply": "2022-04-03T06:17:04.462909Z"
    },
    "papermill": {
     "duration": 0.199055,
     "end_time": "2022-04-03T06:17:04.463383",
     "exception": false,
     "start_time": "2022-04-03T06:17:04.264328",
     "status": "completed"
    },
    "tags": []
   },
   "outputs": [
    {
     "data": {
      "text/plain": [
       "<AxesSubplot:title={'center':'Results'}>"
      ]
     },
     "execution_count": 17,
     "metadata": {},
     "output_type": "execute_result"
    },
    {
     "data": {
      "image/png": "[encoded data removed]",
      "text/plain": [
       "<Figure size 1080x504 with 1 Axes>"
      ]
     },
     "metadata": {
      "needs_background": "light"
     },
     "output_type": "display_data"
    }
   ],
   "source": [
    "get_results_table(experiment)"
   ]
  },
  {
   "cell_type": "code",
   "execution_count": 18,
   "id": "cf8dc689",
   "metadata": {
    "execution": {
     "iopub.execute_input": "2022-04-03T06:17:04.577741Z",
     "iopub.status.busy": "2022-04-03T06:17:04.577480Z",
     "iopub.status.idle": "2022-04-03T06:17:04.679192Z",
     "shell.execute_reply": "2022-04-03T06:17:04.678975Z"
    },
    "papermill": {
     "duration": 0.158218,
     "end_time": "2022-04-03T06:17:04.679242",
     "exception": false,
     "start_time": "2022-04-03T06:17:04.521024",
     "status": "completed"
    },
    "tags": []
   },
   "outputs": [
    {
     "data": {
      "text/plain": [
       "<AxesSubplot:title={'center':'Per Domain Validation Accuracy'}, xlabel='domain'>"
      ]
     },
     "execution_count": 18,
     "metadata": {},
     "output_type": "execute_result"
    },
    {
     "data": {
      "image/png": "[encoded data removed]",
      "text/plain": [
       "<Figure size 1080x504 with 1 Axes>"
      ]
     },
     "metadata": {
      "needs_background": "light"
     },
     "output_type": "display_data"
    }
   ],
   "source": [
    "get_domain_accuracies(experiment)"
   ]
  },
  {
   "cell_type": "code",
   "execution_count": 19,
   "id": "a74ae082",
   "metadata": {
    "execution": {
     "iopub.execute_input": "2022-04-03T06:17:04.795511Z",
     "iopub.status.busy": "2022-04-03T06:17:04.795237Z",
     "iopub.status.idle": "2022-04-03T06:17:04.812077Z",
     "shell.execute_reply": "2022-04-03T06:17:04.811647Z"
    },
    "papermill": {
     "duration": 0.076517,
     "end_time": "2022-04-03T06:17:04.812170",
     "exception": false,
     "start_time": "2022-04-03T06:17:04.735653",
     "status": "completed"
    },
    "tags": []
   },
   "outputs": [
    {
     "name": "stdout",
     "output_type": "stream",
     "text": [
      "Source Test Label Accuracy: 0.9038461538461539 Target Test Label Accuracy: 0.8371794871794872\n",
      "Source Val Label Accuracy: 0.908974358974359 Target Val Label Accuracy: 0.8452991452991453\n"
     ]
    }
   ],
   "source": [
    "print(\"Source Test Label Accuracy:\", experiment[\"results\"][\"source_test_label_accuracy\"], \"Target Test Label Accuracy:\", experiment[\"results\"][\"target_test_label_accuracy\"])\n",
    "print(\"Source Val Label Accuracy:\", experiment[\"results\"][\"source_val_label_accuracy\"], \"Target Val Label Accuracy:\", experiment[\"results\"][\"target_val_label_accuracy\"])"
   ]
  },
  {
   "cell_type": "code",
   "execution_count": 20,
   "id": "dacca602",
   "metadata": {
    "execution": {
     "iopub.execute_input": "2022-04-03T06:17:04.929211Z",
     "iopub.status.busy": "2022-04-03T06:17:04.928955Z",
     "iopub.status.idle": "2022-04-03T06:17:04.941014Z",
     "shell.execute_reply": "2022-04-03T06:17:04.940559Z"
    },
    "papermill": {
     "duration": 0.070256,
     "end_time": "2022-04-03T06:17:04.941104",
     "exception": false,
     "start_time": "2022-04-03T06:17:04.870848",
     "status": "completed"
    },
    "tags": [
     "experiment_json"
    ]
   },
   "outputs": [
    {
     "data": {
      "text/plain": [
       "'{\"experiment_name\": \"baseline_ptn_32bit_wisig\", \"parameters\": {\"experiment_name\": \"baseline_ptn_32bit_wisig\", \"lr\": 0.001, \"device\": \"cuda\", \"seed\": 1337, \"dataset_seed\": 1337, \"labels_source\": [\"1-10\", \"1-12\", \"1-14\", \"1-16\", \"1-18\", \"1-19\", \"1-8\", \"10-11\", \"10-17\", \"10-4\", \"10-7\", \"11-1\", \"11-10\", \"11-19\", \"11-20\", \"11-4\", \"11-7\", \"12-19\", \"12-20\", \"12-7\", \"13-14\", \"13-18\", \"13-19\", \"13-20\", \"13-3\", \"13-7\", \"14-10\", \"14-11\", \"14-12\", \"14-13\", \"14-14\", \"14-19\", \"14-20\", \"14-7\", \"14-8\", \"14-9\", \"15-1\", \"15-19\", \"15-6\", \"16-1\", \"16-16\", \"16-19\", \"16-20\", \"17-10\", \"17-11\", \"18-1\", \"18-10\", \"18-11\", \"18-12\", \"18-13\", \"18-14\", \"18-15\", \"18-16\", \"18-17\", \"18-19\", \"18-2\", \"18-20\", \"18-4\", \"18-5\", \"18-7\", \"18-8\", \"18-9\", \"19-1\", \"19-10\", \"19-11\", \"19-12\", \"19-13\", \"19-14\", \"19-15\", \"19-19\", \"19-2\", \"19-20\", \"19-3\", \"19-4\", \"19-6\", \"19-7\", \"19-8\", \"19-9\", \"2-1\", \"2-13\", \"2-15\", \"2-3\", \"2-4\", \"2-5\", \"2-6\", \"2-7\", \"2-8\", \"20-1\", \"20-12\", \"20-14\", \"20-15\", \"20-16\", \"20-18\", \"20-19\", \"20-20\", \"20-3\", \"20-4\", \"20-5\", \"20-7\", \"20-8\", \"3-1\", \"3-13\", \"3-18\", \"3-2\", \"3-8\", \"4-1\", \"4-10\", \"4-11\", \"5-1\", \"5-5\", \"6-1\", \"6-15\", \"6-6\", \"7-10\", \"7-11\", \"7-12\", \"7-13\", \"7-14\", \"7-7\", \"7-8\", \"7-9\", \"8-1\", \"8-13\", \"8-14\", \"8-18\", \"8-20\", \"8-3\", \"8-8\", \"9-1\", \"9-7\"], \"labels_target\": [\"1-10\", \"1-12\", \"1-14\", \"1-16\", \"1-18\", \"1-19\", \"1-8\", \"10-11\", \"10-17\", \"10-4\", \"10-7\", \"11-1\", \"11-10\", \"11-19\", \"11-20\", \"11-4\", \"11-7\", \"12-19\", \"12-20\", \"12-7\", \"13-14\", \"13-18\", \"13-19\", \"13-20\", \"13-3\", \"13-7\", \"14-10\", \"14-11\", \"14-12\", \"14-13\", \"14-14\", \"14-19\", \"14-20\", \"14-7\", \"14-8\", \"14-9\", \"15-1\", \"15-19\", \"15-6\", \"16-1\", \"16-16\", \"16-19\", \"16-20\", \"17-10\", \"17-11\", \"18-1\", \"18-10\", \"18-11\", \"18-12\", \"18-13\", \"18-14\", \"18-15\", \"18-16\", \"18-17\", \"18-19\", \"18-2\", \"18-20\", \"18-4\", \"18-5\", \"18-7\", \"18-8\", \"18-9\", \"19-1\", \"19-10\", \"19-11\", \"19-12\", \"19-13\", \"19-14\", \"19-15\", \"19-19\", \"19-2\", \"19-20\", \"19-3\", \"19-4\", \"19-6\", \"19-7\", \"19-8\", \"19-9\", \"2-1\", \"2-13\", \"2-15\", \"2-3\", \"2-4\", \"2-5\", \"2-6\", \"2-7\", \"2-8\", \"20-1\", \"20-12\", \"20-14\", \"20-15\", \"20-16\", \"20-18\", \"20-19\", \"20-20\", \"20-3\", \"20-4\", \"20-5\", \"20-7\", \"20-8\", \"3-1\", \"3-13\", \"3-18\", \"3-2\", \"3-8\", \"4-1\", \"4-10\", \"4-11\", \"5-1\", \"5-5\", \"6-1\", \"6-15\", \"6-6\", \"7-10\", \"7-11\", \"7-12\", \"7-13\", \"7-14\", \"7-7\", \"7-8\", \"7-9\", \"8-1\", \"8-13\", \"8-14\", \"8-18\", \"8-20\", \"8-3\", \"8-8\", \"9-1\", \"9-7\"], \"x_transforms_source\": [], \"x_transforms_target\": [], \"episode_transforms_source\": [], \"episode_transforms_target\": [], \"num_examples_per_domain_per_label_source\": 100, \"num_examples_per_domain_per_label_target\": 100, \"n_shot\": 3, \"n_way\": 130, \"n_query\": 2, \"train_k_factor\": 1, \"val_k_factor\": 2, \"test_k_factor\": 2, \"torch_default_dtype\": \"torch.float32\", \"n_epoch\": 50, \"patience\": 3, \"criteria_for_best\": \"target_loss\", \"x_net\": [{\"class\": \"nnReshape\", \"kargs\": {\"shape\": [-1, 1, 2, 256]}}, {\"class\": \"Conv2d\", \"kargs\": {\"in_channels\": 1, \"out_channels\": 256, \"kernel_size\": [1, 7], \"bias\": false, \"padding\": [0, 3]}}, {\"class\": \"ReLU\", \"kargs\": {\"inplace\": true}}, {\"class\": \"BatchNorm2d\", \"kargs\": {\"num_features\": 256}}, {\"class\": \"Conv2d\", \"kargs\": {\"in_channels\": 256, \"out_channels\": 80, \"kernel_size\": [2, 7], \"bias\": true, \"padding\": [0, 3]}}, {\"class\": \"ReLU\", \"kargs\": {\"inplace\": true}}, {\"class\": \"BatchNorm2d\", \"kargs\": {\"num_features\": 80}}, {\"class\": \"Flatten\", \"kargs\": {}}, {\"class\": \"Linear\", \"kargs\": {\"in_features\": 20480, \"out_features\": 256}}, {\"class\": \"ReLU\", \"kargs\": {\"inplace\": true}}, {\"class\": \"BatchNorm1d\", \"kargs\": {\"num_features\": 256}}, {\"class\": \"Linear\", \"kargs\": {\"in_features\": 256, \"out_features\": 256}}], \"NUM_LOGS_PER_EPOCH\": 10, \"BEST_MODEL_PATH\": \"./best_model.pth\", \"pickle_name\": \"wisig.node3-19.stratified_ds.2022A.pkl\", \"domains_source\": [3], \"domains_target\": [1, 2, 4]}, \"results\": {\"source_test_label_accuracy\": 0.9038461538461539, \"source_test_label_loss\": 0.4953855872154236, \"target_test_label_accuracy\": 0.8371794871794872, \"target_test_label_loss\": 0.8315933346748352, \"source_val_label_accuracy\": 0.908974358974359, \"source_val_label_loss\": 0.5522691011428833, \"target_val_label_accuracy\": 0.8452991452991453, \"target_val_label_loss\": 0.8229852318763733, \"total_epochs_trained\": 20, \"total_experiment_time_secs\": 75.63193988800049, \"confusion\": {\"3\": {\"29\": {\"29\": 11, \"70\": 1}, \"123\": {\"13\": 1, \"123\": 11}, \"116\": {\"116\": 12}, \"25\": {\"25\": 12}, \"60\": {\"60\": 10, \"23\": 2}, \"88\": {\"88\": 12}, \"0\": {\"0\": 12}, \"77\": {\"77\": 11, \"126\": 1}, \"96\": {\"96\": 12}, \"3\": {\"3\": 10, \"71\": 1, \"78\": 1}, \"5\": {\"5\": 10, \"21\": 1, \"46\": 1}, \"89\": {\"89\": 11, \"76\": 1}, \"117\": {\"117\": 11, \"2\": 1}, \"78\": {\"78\": 7, \"21\": 3, \"11\": 1, \"39\": 1}, \"57\": {\"57\": 12}, \"90\": {\"90\": 12}, \"43\": {\"78\": 2, \"43\": 10}, \"50\": {\"50\": 12}, \"49\": {\"45\": 1, \"96\": 3, \"49\": 6, \"8\": 1, \"97\": 1}, \"61\": {\"61\": 12}, \"4\": {\"4\": 12}, \"67\": {\"67\": 12}, \"59\": {\"59\": 12}, \"118\": {\"118\": 12}, \"80\": {\"80\": 11, \"123\": 1}, \"75\": {\"75\": 11, \"34\": 1}, \"99\": {\"99\": 8, \"35\": 4}, \"111\": {\"111\": 11, \"80\": 1}, \"11\": {\"11\": 12}, \"76\": {\"76\": 10, \"29\": 1, \"89\": 1}, \"102\": {\"102\": 12}, \"44\": {\"44\": 12}, \"30\": {\"30\": 12}, \"6\": {\"6\": 11, \"103\": 1}, \"16\": {\"16\": 10, \"23\": 2}, \"79\": {\"79\": 12}, \"39\": {\"39\": 12}, \"101\": {\"101\": 12}, \"9\": {\"9\": 11, \"35\": 1}, \"109\": {\"109\": 10, \"30\": 1, \"118\": 1}, \"91\": {\"91\": 9, \"77\": 3}, \"129\": {\"129\": 12}, \"33\": {\"33\": 12}, \"113\": {\"113\": 12}, \"7\": {\"7\": 12}, \"82\": {\"82\": 9, \"121\": 1, \"2\": 2}, \"52\": {\"52\": 12}, \"93\": {\"93\": 12}, \"24\": {\"24\": 11, \"27\": 1}, \"26\": {\"26\": 12}, \"28\": {\"28\": 12}, \"85\": {\"85\": 12}, \"110\": {\"110\": 12}, \"119\": {\"119\": 12}, \"108\": {\"108\": 12}, \"53\": {\"53\": 12}, \"105\": {\"105\": 12}, \"103\": {\"103\": 10, \"88\": 1, \"80\": 1}, \"69\": {\"69\": 8, \"78\": 1, \"14\": 3}, \"23\": {\"16\": 2, \"93\": 1, \"110\": 3, \"60\": 3, \"23\": 3}, \"2\": {\"2\": 12}, \"66\": {\"66\": 12}, \"71\": {\"71\": 12}, \"122\": {\"122\": 12}, \"87\": {\"87\": 10, \"122\": 2}, \"8\": {\"8\": 11, \"94\": 1}, \"127\": {\"127\": 12}, \"40\": {\"40\": 12}, \"126\": {\"126\": 9, \"43\": 1, \"21\": 1, \"109\": 1}, \"12\": {\"12\": 12}, \"83\": {\"83\": 12}, \"81\": {\"81\": 10, \"108\": 2}, \"19\": {\"19\": 12}, \"125\": {\"125\": 12}, \"128\": {\"128\": 12}, \"22\": {\"22\": 12}, \"21\": {\"21\": 12}, \"42\": {\"42\": 12}, \"38\": {\"38\": 12}, \"72\": {\"72\": 12}, \"86\": {\"86\": 12}, \"1\": {\"1\": 12}, \"58\": {\"58\": 10, \"56\": 2}, \"46\": {\"46\": 12}, \"48\": {\"48\": 12}, \"34\": {\"34\": 7, \"99\": 2, \"89\": 2, \"47\": 1}, \"55\": {\"55\": 12}, \"94\": {\"94\": 11, \"97\": 1}, \"114\": {\"114\": 10, \"128\": 1, \"1\": 1}, \"97\": {\"97\": 11, \"94\": 1}, \"107\": {\"107\": 12}, \"68\": {\"68\": 12}, \"64\": {\"64\": 11, \"78\": 1}, \"13\": {\"63\": 2, \"17\": 2, \"13\": 4, \"21\": 1, \"122\": 2, \"78\": 1}, \"115\": {\"115\": 11, \"57\": 1}, \"62\": {\"62\": 12}, \"51\": {\"51\": 12}, \"98\": {\"98\": 12}, \"45\": {\"45\": 9, \"41\": 2, \"78\": 1}, \"74\": {\"74\": 9, \"57\": 2, \"83\": 1}, \"112\": {\"78\": 1, \"112\": 8, \"42\": 1, \"21\": 1, \"53\": 1}, \"41\": {\"41\": 12}, \"32\": {\"32\": 9, \"28\": 1, \"100\": 1, \"116\": 1}, \"104\": {\"104\": 12}, \"65\": {\"121\": 2, \"65\": 10}, \"54\": {\"54\": 12}, \"20\": {\"20\": 11, \"53\": 1}, \"124\": {\"124\": 10, \"77\": 1, \"28\": 1}, \"121\": {\"121\": 10, \"88\": 1, \"49\": 1}, \"106\": {\"106\": 11, \"97\": 1}, \"18\": {\"18\": 12}, \"17\": {\"21\": 1, \"4\": 1, \"78\": 2, \"17\": 5, \"13\": 1, \"115\": 2}, \"73\": {\"73\": 12}, \"70\": {\"70\": 11, \"88\": 1}, \"92\": {\"92\": 9, \"21\": 2, \"44\": 1}, \"15\": {\"15\": 11, \"94\": 1}, \"14\": {\"14\": 12}, \"84\": {\"84\": 12}, \"37\": {\"37\": 12}, \"120\": {\"120\": 12}, \"27\": {\"24\": 3, \"36\": 6, \"27\": 3}, \"35\": {\"35\": 8, \"99\": 2, \"9\": 2}, \"95\": {\"95\": 12}, \"31\": {\"31\": 12}, \"63\": {\"63\": 12}, \"47\": {\"47\": 12}, \"100\": {\"100\": 11, \"31\": 1}, \"56\": {\"56\": 12}, \"36\": {\"36\": 7, \"24\": 3, \"27\": 2}, \"10\": {\"10\": 12}}, \"2\": {\"117\": {\"117\": 10, \"81\": 2}, \"78\": {\"78\": 8, \"70\": 3, \"39\": 1}, \"88\": {\"88\": 12}, \"5\": {\"5\": 12}, \"89\": {\"89\": 12}, \"25\": {\"48\": 1, \"25\": 10, \"88\": 1}, \"61\": {\"61\": 9, \"21\": 1, \"24\": 2}, \"0\": {\"0\": 12}, \"103\": {\"103\": 8, \"79\": 2, \"91\": 1, \"4\": 1}, \"28\": {\"28\": 10, \"24\": 1, \"51\": 1}, \"3\": {\"3\": 11, \"88\": 1}, \"43\": {\"43\": 9, \"21\": 1, \"118\": 2}, \"30\": {\"0\": 4, \"30\": 8}, \"59\": {\"59\": 12}, \"79\": {\"79\": 9, \"86\": 3}, \"83\": {\"83\": 5, \"53\": 1, \"44\": 6}, \"115\": {\"115\": 12}, \"62\": {\"62\": 12}, \"26\": {\"26\": 12}, \"50\": {\"50\": 9, \"55\": 3}, \"40\": {\"40\": 12}, \"4\": {\"4\": 12}, \"68\": {\"68\": 12}, \"49\": {\"49\": 8, \"24\": 1, \"47\": 1, \"98\": 1, \"88\": 1}, \"51\": {\"51\": 3, \"21\": 1, \"15\": 1, \"75\": 4, \"9\": 3}, \"44\": {\"44\": 11, \"83\": 1}, \"76\": {\"76\": 11, \"92\": 1}, \"127\": {\"127\": 12}, \"97\": {\"97\": 9, \"0\": 1, \"15\": 1, \"110\": 1}, \"119\": {\"48\": 1, \"119\": 11}, \"77\": {\"77\": 11, \"91\": 1}, \"33\": {\"33\": 12}, \"99\": {\"99\": 10, \"20\": 1, \"100\": 1}, \"124\": {\"124\": 12}, \"6\": {\"6\": 12}, \"112\": {\"112\": 6, \"46\": 4, \"98\": 1, \"85\": 1}, \"53\": {\"44\": 1, \"53\": 5, \"24\": 1, \"21\": 1, \"19\": 3, \"83\": 1}, \"110\": {\"110\": 10, \"122\": 2}, \"11\": {\"11\": 12}, \"9\": {\"9\": 12}, \"20\": {\"20\": 7, \"100\": 3, \"99\": 2}, \"114\": {\"114\": 12}, \"10\": {\"10\": 12}, \"86\": {\"86\": 12}, \"118\": {\"118\": 8, \"105\": 2, \"84\": 2}, \"7\": {\"7\": 12}, \"92\": {\"89\": 5, \"76\": 1, \"92\": 4, \"21\": 1, \"121\": 1}, \"18\": {\"18\": 12}, \"94\": {\"94\": 10, \"88\": 2}, \"60\": {\"60\": 7, \"3\": 1, \"23\": 2, \"110\": 1, \"8\": 1}, \"81\": {\"81\": 10, \"117\": 2}, \"29\": {\"29\": 9, \"89\": 1, \"52\": 1, \"91\": 1}, \"109\": {\"39\": 2, \"109\": 7, \"78\": 2, \"70\": 1}, \"80\": {\"80\": 12}, \"120\": {\"120\": 12}, \"122\": {\"122\": 12}, \"106\": {\"106\": 12}, \"55\": {\"55\": 10, \"76\": 2}, \"104\": {\"104\": 12}, \"70\": {\"70\": 10, \"78\": 1, \"88\": 1}, \"24\": {\"24\": 11, \"109\": 1}, \"2\": {\"2\": 12}, \"67\": {\"57\": 1, \"67\": 7, \"80\": 2, \"71\": 1, \"61\": 1}, \"72\": {\"72\": 11, \"96\": 1}, \"91\": {\"91\": 6, \"29\": 2, \"103\": 3, \"77\": 1}, \"116\": {\"116\": 12}, \"8\": {\"8\": 9, \"18\": 1, \"23\": 2}, \"128\": {\"9\": 1, \"128\": 7, \"29\": 1, \"114\": 3}, \"41\": {\"41\": 9, \"29\": 1, \"115\": 1, \"88\": 1}, \"113\": {\"113\": 9, \"78\": 1, \"39\": 2}, \"12\": {\"12\": 7, \"0\": 2, \"97\": 2, \"24\": 1}, \"90\": {\"90\": 12}, \"82\": {\"82\": 10, \"34\": 1, \"29\": 1}, \"111\": {\"111\": 12}, \"85\": {\"123\": 1, \"85\": 10, \"112\": 1}, \"37\": {\"37\": 12}, \"23\": {\"110\": 3, \"23\": 3, \"93\": 5, \"122\": 1}, \"22\": {\"22\": 12}, \"102\": {\"102\": 12}, \"39\": {\"39\": 8, \"70\": 2, \"109\": 2}, \"101\": {\"101\": 12}, \"87\": {\"87\": 12}, \"1\": {\"1\": 12}, \"58\": {\"6\": 1, \"58\": 11}, \"47\": {\"47\": 10, \"6\": 2}, \"126\": {\"126\": 11, \"24\": 1}, \"34\": {\"52\": 1, \"34\": 9, \"75\": 1, \"56\": 1}, \"56\": {\"34\": 1, \"56\": 8, \"28\": 1, \"58\": 1, \"9\": 1}, \"95\": {\"95\": 9, \"40\": 2, \"88\": 1}, \"65\": {\"121\": 2, \"65\": 9, \"28\": 1}, \"98\": {\"49\": 2, \"98\": 10}, \"123\": {\"123\": 12}, \"69\": {\"69\": 10, \"84\": 2}, \"108\": {\"108\": 12}, \"13\": {\"13\": 12}, \"15\": {\"15\": 12}, \"125\": {\"125\": 12}, \"52\": {\"52\": 9, \"34\": 3}, \"46\": {\"46\": 12}, \"45\": {\"45\": 12}, \"75\": {\"75\": 10, \"24\": 1, \"9\": 1}, \"73\": {\"73\": 12}, \"42\": {\"42\": 10, \"24\": 1, \"46\": 1}, \"32\": {\"32\": 6, \"74\": 1, \"24\": 2, \"128\": 1, \"107\": 1, \"92\": 1}, \"105\": {\"105\": 12}, \"66\": {\"66\": 11, \"80\": 1}, \"54\": {\"54\": 12}, \"21\": {\"21\": 12}, \"64\": {\"64\": 12}, \"35\": {\"35\": 12}, \"107\": {\"107\": 12}, \"19\": {\"95\": 1, \"19\": 6, \"29\": 2, \"53\": 1, \"85\": 2}, \"17\": {\"17\": 6, \"86\": 2, \"4\": 1, \"21\": 1, \"41\": 1, \"78\": 1}, \"74\": {\"74\": 10, \"62\": 1, \"76\": 1}, \"71\": {\"21\": 1, \"71\": 5, \"3\": 6}, \"93\": {\"93\": 12}, \"16\": {\"96\": 1, \"21\": 1, \"16\": 8, \"93\": 2}, \"14\": {\"14\": 10, \"70\": 1, \"21\": 1}, \"84\": {\"21\": 1, \"84\": 10, \"118\": 1}, \"38\": {\"38\": 12}, \"121\": {\"121\": 11, \"88\": 1}, \"27\": {\"27\": 11, \"36\": 1}, \"129\": {\"5\": 4, \"129\": 8}, \"96\": {\"96\": 11, \"16\": 1}, \"31\": {\"31\": 11, \"61\": 1}, \"63\": {\"63\": 12}, \"48\": {\"48\": 12}, \"100\": {\"100\": 10, \"20\": 1, \"19\": 1}, \"57\": {\"57\": 9, \"65\": 1, \"121\": 1, \"88\": 1}, \"36\": {\"36\": 11, \"94\": 1}}, \"4\": {\"73\": {\"73\": 10, \"5\": 1, \"88\": 1}, \"29\": {\"29\": 12}, \"60\": {\"23\": 2, \"8\": 1, \"60\": 9}, \"50\": {\"50\": 8, \"27\": 1, \"115\": 2, \"46\": 1}, \"96\": {\"96\": 7, \"122\": 3, \"110\": 2}, \"64\": {\"64\": 12}, \"99\": {\"96\": 1, \"99\": 7, \"84\": 3, \"72\": 1}, \"0\": {\"0\": 11, \"87\": 1}, \"20\": {\"20\": 12}, \"51\": {\"53\": 2, \"98\": 4, \"34\": 2, \"75\": 1, \"126\": 1, \"51\": 1, \"78\": 1}, \"123\": {\"123\": 12}, \"83\": {\"83\": 9, \"112\": 2, \"88\": 1}, \"57\": {\"57\": 12}, \"33\": {\"33\": 9, \"65\": 1, \"57\": 1, \"19\": 1}, \"17\": {\"17\": 10, \"104\": 1, \"55\": 1}, \"62\": {\"62\": 9, \"78\": 1, \"118\": 2}, \"4\": {\"4\": 11, \"115\": 1}, \"18\": {\"18\": 12}, \"10\": {\"10\": 9, \"70\": 3}, \"102\": {\"102\": 12}, \"110\": {\"110\": 12}, \"68\": {\"68\": 12}, \"70\": {\"70\": 11, \"108\": 1}, \"86\": {\"86\": 12}, \"107\": {\"107\": 12}, \"21\": {\"78\": 2, \"21\": 9, \"51\": 1}, \"119\": {\"73\": 1, \"119\": 10, \"19\": 1}, \"85\": {\"85\": 10, \"57\": 2}, \"66\": {\"82\": 1, \"66\": 10, \"90\": 1}, \"124\": {\"124\": 10, \"79\": 2}, \"116\": {\"116\": 8, \"48\": 2, \"22\": 1, \"66\": 1}, \"71\": {\"71\": 10, \"21\": 1, \"88\": 1}, \"129\": {\"129\": 12}, \"105\": {\"40\": 2, \"105\": 9, \"21\": 1}, \"93\": {\"93\": 10, \"60\": 1, \"11\": 1}, \"48\": {\"116\": 1, \"88\": 1, \"48\": 8, \"121\": 1, \"80\": 1}, \"30\": {\"8\": 1, \"30\": 10, \"21\": 1}, \"36\": {\"36\": 12}, \"103\": {\"103\": 7, \"81\": 1, \"91\": 2, \"58\": 1, \"127\": 1}, \"67\": {\"67\": 2, \"97\": 1, \"64\": 3, \"123\": 1, \"17\": 2, \"63\": 2, \"24\": 1}, \"42\": {\"42\": 11, \"112\": 1}, \"100\": {\"3\": 1, \"128\": 3, \"100\": 8}, \"28\": {\"28\": 12}, \"23\": {\"93\": 4, \"88\": 2, \"78\": 1, \"60\": 5}, \"49\": {\"53\": 4, \"49\": 6, \"20\": 2}, \"38\": {\"38\": 12}, \"128\": {\"74\": 3, \"52\": 1, \"100\": 1, \"128\": 5, \"85\": 1, \"77\": 1}, \"118\": {\"118\": 12}, \"101\": {\"101\": 12}, \"79\": {\"79\": 11, \"119\": 1}, \"52\": {\"52\": 6, \"34\": 1, \"41\": 2, \"88\": 1, \"103\": 1, \"128\": 1}, \"6\": {\"6\": 11, \"91\": 1}, \"95\": {\"95\": 9, \"127\": 2, \"113\": 1}, \"54\": {\"54\": 10, \"59\": 1, \"6\": 1}, \"26\": {\"26\": 12}, \"69\": {\"69\": 12}, \"114\": {\"114\": 12}, \"97\": {\"24\": 7, \"10\": 1, \"97\": 4}, \"87\": {\"87\": 12}, \"1\": {\"114\": 1, \"1\": 7, \"57\": 2, \"34\": 1, \"72\": 1}, \"34\": {\"34\": 8, \"128\": 1, \"75\": 2, \"51\": 1}, \"19\": {\"19\": 11, \"46\": 1}, \"27\": {\"27\": 12}, \"5\": {\"5\": 12}, \"24\": {\"27\": 1, \"97\": 6, \"24\": 3, \"109\": 2}, \"126\": {\"126\": 12}, \"56\": {\"56\": 11, \"57\": 1}, \"59\": {\"59\": 10, \"57\": 1, \"6\": 1}, \"127\": {\"127\": 10, \"0\": 1, \"88\": 1}, \"44\": {\"44\": 12}, \"77\": {\"77\": 12}, \"80\": {\"80\": 12}, \"98\": {\"98\": 11, \"59\": 1}, \"122\": {\"88\": 1, \"122\": 9, \"87\": 2}, \"108\": {\"108\": 6, \"88\": 4, \"70\": 2}, \"61\": {\"61\": 10, \"88\": 2}, \"22\": {\"22\": 12}, \"63\": {\"13\": 2, \"63\": 10}, \"39\": {\"39\": 10, \"78\": 1, \"109\": 1}, \"25\": {\"25\": 12}, \"3\": {\"3\": 11, \"114\": 1}, \"78\": {\"78\": 4, \"88\": 3, \"21\": 3, \"39\": 1, \"108\": 1}, \"31\": {\"31\": 12}, \"35\": {\"35\": 12}, \"91\": {\"91\": 8, \"103\": 1, \"6\": 1, \"29\": 1, \"41\": 1}, \"37\": {\"37\": 11, \"97\": 1}, \"13\": {\"13\": 11, \"67\": 1}, \"53\": {\"53\": 12}, \"82\": {\"40\": 1, \"55\": 2, \"104\": 1, \"82\": 7, \"32\": 1}, \"92\": {\"92\": 11, \"22\": 1}, \"90\": {\"90\": 12}, \"8\": {\"15\": 2, \"8\": 9, \"88\": 1}, \"88\": {\"88\": 9, \"108\": 2, \"10\": 1}, \"16\": {\"16\": 12}, \"45\": {\"45\": 11, \"92\": 1}, \"89\": {\"89\": 12}, \"43\": {\"43\": 10, \"39\": 1, \"122\": 1}, \"65\": {\"65\": 12}, \"117\": {\"117\": 10, \"65\": 2}, \"40\": {\"40\": 12}, \"12\": {\"12\": 12}, \"7\": {\"7\": 11, \"122\": 1}, \"75\": {\"75\": 12}, \"41\": {\"41\": 10, \"52\": 1, \"68\": 1}, \"76\": {\"76\": 12}, \"9\": {\"9\": 11, \"112\": 1}, \"125\": {\"125\": 10, \"59\": 2}, \"120\": {\"120\": 12}, \"11\": {\"11\": 4, \"93\": 6, \"8\": 1, \"88\": 1}, \"115\": {\"102\": 3, \"115\": 5, \"86\": 2, \"24\": 2}, \"2\": {\"2\": 12}, \"113\": {\"113\": 10, \"78\": 1, \"39\": 1}, \"112\": {\"112\": 11, \"83\": 1}, \"94\": {\"94\": 10, \"15\": 2}, \"109\": {\"109\": 12}, \"74\": {\"38\": 1, \"74\": 10, \"55\": 1}, \"111\": {\"111\": 12}, \"55\": {\"55\": 12}, \"15\": {\"15\": 11, \"36\": 1}, \"14\": {\"14\": 8, \"105\": 4}, \"104\": {\"104\": 12}, \"47\": {\"47\": 12}, \"58\": {\"58\": 10, \"103\": 1, \"6\": 1}, \"106\": {\"12\": 5, \"106\": 3, \"88\": 2, \"8\": 1, \"15\": 1}, \"121\": {\"121\": 10, \"48\": 1, \"81\": 1}, \"81\": {\"81\": 12}, \"84\": {\"84\": 12}, \"32\": {\"57\": 1, \"32\": 11}, \"72\": {\"72\": 9, \"110\": 1, \"57\": 1, \"71\": 1}, \"46\": {\"46\": 10, \"129\": 1, \"19\": 1}}, \"1\": {\"49\": {\"29\": 3, \"49\": 8, \"72\": 1}, \"1\": {\"1\": 11, \"31\": 1}, \"119\": {\"119\": 12}, \"28\": {\"28\": 12}, \"20\": {\"20\": 12}, \"17\": {\"17\": 11, \"4\": 1}, \"103\": {\"47\": 2, \"103\": 8, \"45\": 1, \"61\": 1}, \"85\": {\"85\": 12}, \"87\": {\"93\": 1, \"122\": 2, \"87\": 8, \"43\": 1}, \"84\": {\"84\": 12}, \"34\": {\"56\": 1, \"34\": 6, \"52\": 2, \"35\": 2, \"49\": 1}, \"16\": {\"16\": 8, \"69\": 2, \"26\": 2}, \"6\": {\"6\": 11, \"112\": 1}, \"31\": {\"31\": 9, \"49\": 1, \"15\": 1, \"104\": 1}, \"92\": {\"92\": 12}, \"96\": {\"97\": 1, \"96\": 9, \"126\": 1, \"9\": 1}, \"64\": {\"64\": 12}, \"40\": {\"105\": 5, \"40\": 7}, \"69\": {\"69\": 12}, \"99\": {\"99\": 12}, \"3\": {\"103\": 1, \"3\": 9, \"20\": 1, \"18\": 1}, \"50\": {\"39\": 1, \"50\": 10, \"62\": 1}, \"21\": {\"21\": 10, \"70\": 2}, \"7\": {\"7\": 12}, \"0\": {\"0\": 12}, \"44\": {\"44\": 12}, \"19\": {\"19\": 8, \"128\": 4}, \"22\": {\"22\": 11, \"116\": 1}, \"32\": {\"32\": 10, \"107\": 2}, \"125\": {\"125\": 12}, \"82\": {\"82\": 11, \"129\": 1}, \"33\": {\"33\": 12}, \"45\": {\"45\": 4, \"25\": 4, \"57\": 4}, \"109\": {\"109\": 12}, \"105\": {\"105\": 8, \"125\": 1, \"40\": 3}, \"76\": {\"76\": 12}, \"59\": {\"6\": 5, \"95\": 1, \"59\": 6}, \"120\": {\"120\": 11, \"38\": 1}, \"41\": {\"41\": 11, \"61\": 1}, \"26\": {\"26\": 9, \"69\": 2, \"70\": 1}, \"42\": {\"25\": 2, \"42\": 4, \"64\": 1, \"83\": 5}, \"79\": {\"79\": 12}, \"97\": {\"27\": 6, \"97\": 6}, \"110\": {\"110\": 12}, \"128\": {\"128\": 7, \"19\": 2, \"82\": 1, \"49\": 1, \"72\": 1}, \"55\": {\"55\": 12}, \"23\": {\"23\": 4, \"60\": 1, \"87\": 2, \"44\": 1, \"93\": 2, \"110\": 2}, \"4\": {\"4\": 12}, \"14\": {\"14\": 12}, \"126\": {\"126\": 11, \"108\": 1}, \"111\": {\"111\": 12}, \"39\": {\"39\": 12}, \"35\": {\"35\": 12}, \"102\": {\"102\": 12}, \"113\": {\"113\": 12}, \"89\": {\"89\": 11, \"29\": 1}, \"46\": {\"124\": 5, \"27\": 1, \"88\": 2, \"46\": 4}, \"91\": {\"91\": 11, \"54\": 1}, \"83\": {\"83\": 5, \"52\": 2, \"91\": 1, \"42\": 2, \"46\": 1, \"36\": 1}, \"81\": {\"81\": 8, \"14\": 2, \"33\": 2}, \"88\": {\"27\": 1, \"88\": 9, \"24\": 2}, \"95\": {\"95\": 11, \"121\": 1}, \"53\": {\"53\": 12}, \"75\": {\"127\": 3, \"98\": 2, \"75\": 6, \"52\": 1}, \"122\": {\"122\": 12}, \"107\": {\"107\": 12}, \"104\": {\"104\": 12}, \"12\": {\"12\": 9, \"109\": 1, \"106\": 2}, \"112\": {\"112\": 10, \"111\": 1, \"6\": 1}, \"63\": {\"63\": 11, \"123\": 1}, \"30\": {\"30\": 12}, \"9\": {\"9\": 6, \"103\": 1, \"47\": 3, \"94\": 1, \"49\": 1}, \"78\": {\"78\": 7, \"21\": 4, \"11\": 1}, \"18\": {\"18\": 12}, \"116\": {\"116\": 8, \"22\": 3, \"65\": 1}, \"36\": {\"36\": 12}, \"100\": {\"100\": 12}, \"74\": {\"125\": 1, \"74\": 10, \"124\": 1}, \"61\": {\"61\": 12}, \"8\": {\"8\": 12}, \"70\": {\"70\": 10, \"21\": 2}, \"108\": {\"108\": 12}, \"77\": {\"77\": 12}, \"93\": {\"43\": 1, \"93\": 11}, \"37\": {\"37\": 10, \"53\": 1, \"49\": 1}, \"118\": {\"118\": 12}, \"80\": {\"67\": 1, \"57\": 3, \"80\": 8}, \"106\": {\"106\": 12}, \"58\": {\"58\": 12}, \"56\": {\"56\": 11, \"75\": 1}, \"86\": {\"86\": 12}, \"90\": {\"90\": 12}, \"123\": {\"123\": 11, \"119\": 1}, \"94\": {\"94\": 9, \"21\": 2, \"15\": 1}, \"52\": {\"52\": 12}, \"47\": {\"103\": 4, \"47\": 8}, \"117\": {\"117\": 12}, \"124\": {\"124\": 12}, \"71\": {\"71\": 12}, \"67\": {\"67\": 12}, \"15\": {\"15\": 10, \"8\": 1, \"94\": 1}, \"5\": {\"5\": 12}, \"24\": {\"24\": 10, \"88\": 2}, \"62\": {\"62\": 12}, \"13\": {\"13\": 12}, \"101\": {\"101\": 12}, \"51\": {\"51\": 12}, \"129\": {\"129\": 7, \"17\": 1, \"5\": 2, \"2\": 1, \"45\": 1}, \"65\": {\"65\": 12}, \"121\": {\"121\": 12}, \"43\": {\"43\": 11, \"87\": 1}, \"73\": {\"73\": 12}, \"68\": {\"68\": 12}, \"66\": {\"61\": 4, \"66\": 7, \"9\": 1}, \"60\": {\"60\": 3, \"94\": 1, \"18\": 3, \"84\": 4, \"15\": 1}, \"115\": {\"115\": 12}, \"38\": {\"38\": 12}, \"2\": {\"2\": 6, \"82\": 1, \"129\": 2, \"45\": 1, \"119\": 1, \"25\": 1}, \"127\": {\"127\": 12}, \"54\": {\"54\": 12}, \"72\": {\"72\": 12}, \"27\": {\"97\": 4, \"27\": 7, \"94\": 1}, \"57\": {\"57\": 12}, \"48\": {\"48\": 9, \"65\": 2, \"123\": 1}, \"114\": {\"114\": 12}, \"25\": {\"25\": 11, \"128\": 1}, \"11\": {\"11\": 10, \"39\": 2}, \"29\": {\"29\": 12}, \"98\": {\"34\": 1, \"98\": 11}, \"10\": {\"10\": 9, \"21\": 1, \"0\": 1, \"43\": 1}}}, \"per_domain_accuracy\": {\"3\": {\"accuracy\": 0.908974358974359, \"source?\": true}, \"2\": {\"accuracy\": 0.8461538461538461, \"source?\": false}, \"4\": {\"accuracy\": 0.8301282051282052, \"source?\": false}, \"1\": {\"accuracy\": 0.8596153846153847, \"source?\": false}}}, \"history\": {\"epoch_indices\": [1, 2, 3, 4, 5, 6, 7, 8, 9, 10, 11, 12, 13, 14, 15, 16, 17, 18, 19, 20], \"train_label_loss\": [2.63873085805348, 2.2915831123079573, 1.3816305824688502, 1.1003596569810594, 1.0320850270135062, 0.9139791045870099, 0.7891070204121726, 0.7541754969528743, 0.6810734868049622, 0.669157896723066, 0.6071919585977282, 0.5357034291539874, 0.543133618576186, 0.5473846260990415, 0.48923781514167786, 0.5084244161844254, 0.44932977855205536, 0.47397966257163454, 0.4134378858975002, 0.456518081682069], \"source_val_label_loss\": [3.717790126800537, 1.5824146270751953, 1.298612117767334, 1.099233865737915, 1.0745124816894531, 0.9388421773910522, 0.8805601000785828, 0.8253459334373474, 0.7873653173446655, 0.6993039846420288, 0.6434364914894104, 0.645854115486145, 0.6474027633666992, 0.6096010208129883, 0.5971208810806274, 0.5522691011428833, 0.5455572009086609, 0.5499123334884644, 0.5559952855110168, 0.534745991230011], \"target_val_label_loss\": [3.7912075519561768, 1.8110334873199463, 1.4600387811660767, 1.2839293479919434, 1.2508862018585205, 1.1599984169006348, 1.135680913925171, 1.0452402830123901, 1.0144206285476685, 0.9658650159835815, 0.9288300275802612, 0.9561659693717957, 0.9563634991645813, 0.8955844044685364, 0.8805651664733887, 0.8229852318763733, 0.8335195779800415, 0.8355680108070374, 0.8457711338996887, 0.8434605598449707], \"source_val_acc_label\": [0.7474358974358974, 0.7685897435897436, 0.7903846153846154, 0.8185897435897436, 0.8198717948717948, 0.8448717948717949, 0.8576923076923076, 0.8583333333333333, 0.8724358974358974, 0.8814102564102564, 0.8910256410256411, 0.8884615384615384, 0.889102564102564, 0.8903846153846153, 0.9, 0.908974358974359, 0.9083333333333333, 0.9121794871794872, 0.9032051282051282, 0.9064102564102564], \"target_val_acc_label\": [0.6931623931623931, 0.7198717948717949, 0.7602564102564102, 0.7792735042735043, 0.7784188034188034, 0.7952991452991452, 0.8055555555555556, 0.8034188034188035, 0.8132478632478632, 0.8185897435897436, 0.8290598290598291, 0.8267094017094017, 0.8354700854700855, 0.8367521367521368, 0.8420940170940171, 0.8452991452991453, 0.8476495726495726, 0.8433760683760684, 0.8442307692307692, 0.8427350427350427]}, \"dataset_metrics\": {\"source\": {\"train\": {\"n_unique_x\": 9100, \"n_unique_y\": 130, \"n_batch/episode\": 14}, \"val\": {\"n_unique_x\": 1950, \"n_unique_y\": 130, \"n_batch/episode\": 6}, \"test\": {\"n_unique_x\": 1950, \"n_unique_y\": 130, \"n_batch/episode\": 6}}, \"target\": {\"train\": {\"n_unique_x\": 27300, \"n_unique_y\": 130, \"n_batch/episode\": 42}, \"val\": {\"n_unique_x\": 5850, \"n_unique_y\": 130, \"n_batch/episode\": 18}, \"test\": {\"n_unique_x\": 5850, \"n_unique_y\": 130, \"n_batch/episode\": 18}}}}'"
      ]
     },
     "execution_count": 20,
     "metadata": {},
     "output_type": "execute_result"
    }
   ],
   "source": [
    "json.dumps(experiment)"
   ]
  }
 ],
 "metadata": {
  "celltoolbar": "Tags",
  "kernelspec": {
   "display_name": "Python 3 (ipykernel)",
   "language": "python",
   "name": "python3"
  },
  "language_info": {
   "codemirror_mode": {
    "name": "ipython",
    "version": 3
   },
   "file_extension": ".py",
   "mimetype": "text/x-python",
   "name": "python",
   "nbconvert_exporter": "python",
   "pygments_lexer": "ipython3",
   "version": "3.8.10"
  },
  "papermill": {
   "default_parameters": {},
   "duration": 84.841828,
   "end_time": "2022-04-03T06:17:05.507191",
   "environment_variables": {},
   "exception": null,
   "input_path": "/mnt/wd500GB/CSC500/csc500-main/csc500-notebooks/templates/ptn_template.ipynb",
   "output_path": "trial.ipynb",
   "parameters": {
    "parameters": {
     "BEST_MODEL_PATH": "./best_model.pth",
     "NUM_LOGS_PER_EPOCH": 10,
     "criteria_for_best": "target_loss",
     "dataset_seed": 1337,
     "device": "cuda",
     "domains_source": [
      3
     ],
     "domains_target": [
      1,
      2,
      4
     ],
     "episode_transforms_source": [],
     "episode_transforms_target": [],
     "experiment_name": "baseline_ptn_32bit_wisig",
     "labels_source": [
      "1-10",
      "1-12",
      "1-14",
      "1-16",
      "1-18",
      "1-19",
      "1-8",
      "10-11",
      "10-17",
      "10-4",
      "10-7",
      "11-1",
      "11-10",
      "11-19",
      "11-20",
      "11-4",
      "11-7",
      "12-19",
      "12-20",
      "12-7",
      "13-14",
      "13-18",
      "13-19",
      "13-20",
      "13-3",
      "13-7",
      "14-10",
      "14-11",
      "14-12",
      "14-13",
      "14-14",
      "14-19",
      "14-20",
      "14-7",
      "14-8",
      "14-9",
      "15-1",
      "15-19",
      "15-6",
      "16-1",
      "16-16",
      "16-19",
      "16-20",
      "17-10",
      "17-11",
      "18-1",
      "18-10",
      "18-11",
      "18-12",
      "18-13",
      "18-14",
      "18-15",
      "18-16",
      "18-17",
      "18-19",
      "18-2",
      "18-20",
      "18-4",
      "18-5",
      "18-7",
      "18-8",
      "18-9",
      "19-1",
      "19-10",
      "19-11",
      "19-12",
      "19-13",
      "19-14",
      "19-15",
      "19-19",
      "19-2",
      "19-20",
      "19-3",
      "19-4",
      "19-6",
      "19-7",
      "19-8",
      "19-9",
      "2-1",
      "2-13",
      "2-15",
      "2-3",
      "2-4",
      "2-5",
      "2-6",
      "2-7",
      "2-8",
      "20-1",
      "20-12",
      "20-14",
      "20-15",
      "20-16",
      "20-18",
      "20-19",
      "20-20",
      "20-3",
      "20-4",
      "20-5",
      "20-7",
      "20-8",
      "3-1",
      "3-13",
      "3-18",
      "3-2",
      "3-8",
      "4-1",
      "4-10",
      "4-11",
      "5-1",
      "5-5",
      "6-1",
      "6-15",
      "6-6",
      "7-10",
      "7-11",
      "7-12",
      "7-13",
      "7-14",
      "7-7",
      "7-8",
      "7-9",
      "8-1",
      "8-13",
      "8-14",
      "8-18",
      "8-20",
      "8-3",
      "8-8",
      "9-1",
      "9-7"
     ],
     "labels_target": [
      "1-10",
      "1-12",
      "1-14",
      "1-16",
      "1-18",
      "1-19",
      "1-8",
      "10-11",
      "10-17",
      "10-4",
      "10-7",
      "11-1",
      "11-10",
      "11-19",
      "11-20",
      "11-4",
      "11-7",
      "12-19",
      "12-20",
      "12-7",
      "13-14",
      "13-18",
      "13-19",
      "13-20",
      "13-3",
      "13-7",
      "14-10",
      "14-11",
      "14-12",
      "14-13",
      "14-14",
      "14-19",
      "14-20",
      "14-7",
      "14-8",
      "14-9",
      "15-1",
      "15-19",
      "15-6",
      "16-1",
      "16-16",
      "16-19",
      "16-20",
      "17-10",
      "17-11",
      "18-1",
      "18-10",
      "18-11",
      "18-12",
      "18-13",
      "18-14",
      "18-15",
      "18-16",
      "18-17",
      "18-19",
      "18-2",
      "18-20",
      "18-4",
      "18-5",
      "18-7",
      "18-8",
      "18-9",
      "19-1",
      "19-10",
      "19-11",
      "19-12",
      "19-13",
      "19-14",
      "19-15",
      "19-19",
      "19-2",
      "19-20",
      "19-3",
      "19-4",
      "19-6",
      "19-7",
      "19-8",
      "19-9",
      "2-1",
      "2-13",
      "2-15",
      "2-3",
      "2-4",
      "2-5",
      "2-6",
      "2-7",
      "2-8",
      "20-1",
      "20-12",
      "20-14",
      "20-15",
      "20-16",
      "20-18",
      "20-19",
      "20-20",
      "20-3",
      "20-4",
      "20-5",
      "20-7",
      "20-8",
      "3-1",
      "3-13",
      "3-18",
      "3-2",
      "3-8",
      "4-1",
      "4-10",
      "4-11",
      "5-1",
      "5-5",
      "6-1",
      "6-15",
      "6-6",
      "7-10",
      "7-11",
      "7-12",
      "7-13",
      "7-14",
      "7-7",
      "7-8",
      "7-9",
      "8-1",
      "8-13",
      "8-14",
      "8-18",
      "8-20",
      "8-3",
      "8-8",
      "9-1",
      "9-7"
     ],
     "lr": 0.001,
     "n_epoch": 50,
     "n_query": 2,
     "n_shot": 3,
     "n_way": 130,
     "num_examples_per_domain_per_label_source": 100,
     "num_examples_per_domain_per_label_target": 100,
     "patience": 3,
     "pickle_name": "wisig.node3-19.stratified_ds.2022A.pkl",
     "seed": 1337,
     "test_k_factor": 2,
     "torch_default_dtype": "torch.float32",
     "train_k_factor": 1,
     "val_k_factor": 2,
     "x_net": [
      {
       "class": "nnReshape",
       "kargs": {
        "shape": [
         -1,
         1,
         2,
         256
        ]
       }
      },
      {
       "class": "Conv2d",
       "kargs": {
        "bias": false,
        "in_channels": 1,
        "kernel_size": [
         1,
         7
        ],
        "out_channels": 256,
        "padding": [
         0,
         3
        ]
       }
      },
      {
       "class": "ReLU",
       "kargs": {
        "inplace": true
       }
      },
      {
       "class": "BatchNorm2d",
       "kargs": {
        "num_features": 256
       }
      },
      {
       "class": "Conv2d",
       "kargs": {
        "bias": true,
        "in_channels": 256,
        "kernel_size": [
         2,
         7
        ],
        "out_channels": 80,
        "padding": [
         0,
         3
        ]
       }
      },
      {
       "class": "ReLU",
       "kargs": {
        "inplace": true
       }
      },
      {
       "class": "BatchNorm2d",
       "kargs": {
        "num_features": 80
       }
      },
      {
       "class": "Flatten",
       "kargs": {}
      },
      {
       "class": "Linear",
       "kargs": {
        "in_features": 20480,
        "out_features": 256
       }
      },
      {
       "class": "ReLU",
       "kargs": {
        "inplace": true
       }
      },
      {
       "class": "BatchNorm1d",
       "kargs": {
        "num_features": 256
       }
      },
      {
       "class": "Linear",
       "kargs": {
        "in_features": 256,
        "out_features": 256
       }
      }
     ],
     "x_transforms_source": [],
     "x_transforms_target": []
    }
   },
   "start_time": "2022-04-03T06:15:40.665363",
   "version": "2.3.4"
  }
 },
 "nbformat": 4,
 "nbformat_minor": 5
}