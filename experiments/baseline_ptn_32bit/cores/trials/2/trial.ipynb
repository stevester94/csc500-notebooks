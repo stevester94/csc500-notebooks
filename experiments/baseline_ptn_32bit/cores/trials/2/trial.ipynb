{
 "cells": [
  {
   "cell_type": "markdown",
   "id": "9fea5f46",
   "metadata": {
    "papermill": {
     "duration": 0.013717,
     "end_time": "2022-04-03T05:17:50.764876",
     "exception": false,
     "start_time": "2022-04-03T05:17:50.751159",
     "status": "completed"
    },
    "tags": []
   },
   "source": [
    "# PTN Template\n",
    "This notebook serves as a template for single dataset PTN experiments  \n",
    "It can be run on its own by setting STANDALONE to True (do a find for \"STANDALONE\" to see where)  \n",
    "But it is intended to be executed as part of a *papermill.py script. See any of the   \n",
    "experimentes with a papermill script to get started with that workflow.  "
   ]
  },
  {
   "cell_type": "code",
   "execution_count": 1,
   "id": "0902182a",
   "metadata": {
    "execution": {
     "iopub.execute_input": "2022-04-03T05:17:50.796507Z",
     "iopub.status.busy": "2022-04-03T05:17:50.791150Z",
     "iopub.status.idle": "2022-04-03T05:17:51.691632Z",
     "shell.execute_reply": "2022-04-03T05:17:51.691340Z"
    },
    "papermill": {
     "duration": 0.917673,
     "end_time": "2022-04-03T05:17:51.691696",
     "exception": false,
     "start_time": "2022-04-03T05:17:50.774023",
     "status": "completed"
    },
    "tags": []
   },
   "outputs": [],
   "source": [
    "%load_ext autoreload\n",
    "%autoreload 2\n",
    "%matplotlib inline\n",
    "\n",
    "    \n",
    "import os, json, sys, time, random\n",
    "import numpy as np\n",
    "import torch\n",
    "from torch.optim import Adam\n",
    "from  easydict import EasyDict\n",
    "import matplotlib.pyplot as plt\n",
    "\n",
    "from steves_models.steves_ptn import Steves_Prototypical_Network\n",
    "\n",
    "from steves_utils.lazy_iterable_wrapper import Lazy_Iterable_Wrapper\n",
    "from steves_utils.iterable_aggregator import Iterable_Aggregator\n",
    "from steves_utils.ptn_train_eval_test_jig import  PTN_Train_Eval_Test_Jig\n",
    "from steves_utils.torch_sequential_builder import build_sequential\n",
    "from steves_utils.torch_utils import get_dataset_metrics, ptn_confusion_by_domain_over_dataloader\n",
    "from steves_utils.utils_v2 import (per_domain_accuracy_from_confusion, get_datasets_base_path)\n",
    "from steves_utils.PTN.utils import independent_accuracy_assesment\n",
    "\n",
    "from steves_utils.stratified_dataset.episodic_accessor import Episodic_Accessor_Factory\n",
    "\n",
    "from steves_utils.ptn_do_report import (\n",
    "    get_loss_curve,\n",
    "    get_results_table,\n",
    "    get_parameters_table,\n",
    "    get_domain_accuracies,\n",
    ")\n",
    "\n",
    "from steves_utils.transforms import get_chained_transform"
   ]
  },
  {
   "cell_type": "markdown",
   "id": "41c840b4",
   "metadata": {
    "papermill": {
     "duration": 0.009279,
     "end_time": "2022-04-03T05:17:51.710627",
     "exception": false,
     "start_time": "2022-04-03T05:17:51.701348",
     "status": "completed"
    },
    "tags": []
   },
   "source": [
    "# Required Parameters\n",
    "These are allowed parameters, not defaults\n",
    "Each of these values need to be present in the injected parameters (the notebook will raise an exception if they are not present)\n",
    "\n",
    "Papermill uses the cell tag \"parameters\" to inject the real parameters below this cell.\n",
    "Enable tags to see what I mean"
   ]
  },
  {
   "cell_type": "code",
   "execution_count": 2,
   "id": "fd44eb83",
   "metadata": {
    "execution": {
     "iopub.execute_input": "2022-04-03T05:17:51.734052Z",
     "iopub.status.busy": "2022-04-03T05:17:51.731412Z",
     "iopub.status.idle": "2022-04-03T05:17:51.742168Z",
     "shell.execute_reply": "2022-04-03T05:17:51.741950Z"
    },
    "papermill": {
     "duration": 0.022292,
     "end_time": "2022-04-03T05:17:51.742218",
     "exception": false,
     "start_time": "2022-04-03T05:17:51.719926",
     "status": "completed"
    },
    "tags": []
   },
   "outputs": [],
   "source": [
    "required_parameters = {\n",
    "    \"experiment_name\",\n",
    "    \"lr\",\n",
    "    \"device\",\n",
    "    \"seed\",\n",
    "    \"dataset_seed\",\n",
    "    \"labels_source\",\n",
    "    \"labels_target\",\n",
    "    \"domains_source\",\n",
    "    \"domains_target\",\n",
    "    \"num_examples_per_domain_per_label_source\",\n",
    "    \"num_examples_per_domain_per_label_target\",\n",
    "    \"n_shot\",\n",
    "    \"n_way\",\n",
    "    \"n_query\",\n",
    "    \"train_k_factor\",\n",
    "    \"val_k_factor\",\n",
    "    \"test_k_factor\",\n",
    "    \"n_epoch\",\n",
    "    \"patience\",\n",
    "    \"criteria_for_best\",\n",
    "    \"x_transforms_source\",\n",
    "    \"x_transforms_target\",\n",
    "    \"episode_transforms_source\",\n",
    "    \"episode_transforms_target\",\n",
    "    \"pickle_name\",\n",
    "    \"x_net\",\n",
    "    \"NUM_LOGS_PER_EPOCH\",\n",
    "    \"BEST_MODEL_PATH\",\n",
    "    \"torch_default_dtype\"\n",
    "}"
   ]
  },
  {
   "cell_type": "code",
   "execution_count": 3,
   "id": "fa3f0049",
   "metadata": {
    "execution": {
     "iopub.execute_input": "2022-04-03T05:17:51.769767Z",
     "iopub.status.busy": "2022-04-03T05:17:51.767511Z",
     "iopub.status.idle": "2022-04-03T05:17:51.783038Z",
     "shell.execute_reply": "2022-04-03T05:17:51.783244Z"
    },
    "papermill": {
     "duration": 0.031624,
     "end_time": "2022-04-03T05:17:51.783303",
     "exception": false,
     "start_time": "2022-04-03T05:17:51.751679",
     "status": "completed"
    },
    "tags": [
     "parameters"
    ]
   },
   "outputs": [],
   "source": [
    "\n",
    "\n",
    "standalone_parameters = {}\n",
    "standalone_parameters[\"experiment_name\"] = \"STANDALONE PTN\"\n",
    "standalone_parameters[\"lr\"] = 0.0001\n",
    "standalone_parameters[\"device\"] = \"cuda\"\n",
    "\n",
    "standalone_parameters[\"seed\"] = 1337\n",
    "standalone_parameters[\"dataset_seed\"] = 1337\n",
    "\n",
    "\n",
    "standalone_parameters[\"num_examples_per_domain_per_label_source\"]=100\n",
    "standalone_parameters[\"num_examples_per_domain_per_label_target\"]=100\n",
    "\n",
    "standalone_parameters[\"n_shot\"] = 3\n",
    "standalone_parameters[\"n_query\"]  = 2\n",
    "standalone_parameters[\"train_k_factor\"] = 1\n",
    "standalone_parameters[\"val_k_factor\"] = 2\n",
    "standalone_parameters[\"test_k_factor\"] = 2\n",
    "\n",
    "\n",
    "standalone_parameters[\"n_epoch\"] = 100\n",
    "\n",
    "standalone_parameters[\"patience\"] = 10\n",
    "standalone_parameters[\"criteria_for_best\"] = \"target_accuracy\"\n",
    "\n",
    "standalone_parameters[\"x_transforms_source\"] = [\"unit_power\"]\n",
    "standalone_parameters[\"x_transforms_target\"] = [\"unit_power\"]\n",
    "standalone_parameters[\"episode_transforms_source\"] = []\n",
    "standalone_parameters[\"episode_transforms_target\"] = []\n",
    "\n",
    "standalone_parameters[\"torch_default_dtype\"] = \"torch.float32\" \n",
    "\n",
    "\n",
    "\n",
    "standalone_parameters[\"x_net\"] =     [\n",
    "    {\"class\": \"nnReshape\", \"kargs\": {\"shape\":[-1, 1, 2, 256]}},\n",
    "    {\"class\": \"Conv2d\", \"kargs\": { \"in_channels\":1, \"out_channels\":256, \"kernel_size\":(1,7), \"bias\":False, \"padding\":(0,3), },},\n",
    "    {\"class\": \"ReLU\", \"kargs\": {\"inplace\": True}},\n",
    "    {\"class\": \"BatchNorm2d\", \"kargs\": {\"num_features\":256}},\n",
    "\n",
    "    {\"class\": \"Conv2d\", \"kargs\": { \"in_channels\":256, \"out_channels\":80, \"kernel_size\":(2,7), \"bias\":True, \"padding\":(0,3), },},\n",
    "    {\"class\": \"ReLU\", \"kargs\": {\"inplace\": True}},\n",
    "    {\"class\": \"BatchNorm2d\", \"kargs\": {\"num_features\":80}},\n",
    "    {\"class\": \"Flatten\", \"kargs\": {}},\n",
    "\n",
    "    {\"class\": \"Linear\", \"kargs\": {\"in_features\": 80*256, \"out_features\": 256}}, # 80 units per IQ pair\n",
    "    {\"class\": \"ReLU\", \"kargs\": {\"inplace\": True}},\n",
    "    {\"class\": \"BatchNorm1d\", \"kargs\": {\"num_features\":256}},\n",
    "\n",
    "    {\"class\": \"Linear\", \"kargs\": {\"in_features\": 256, \"out_features\": 256}},\n",
    "]\n",
    "\n",
    "# Parameters relevant to results\n",
    "# These parameters will basically never need to change\n",
    "standalone_parameters[\"NUM_LOGS_PER_EPOCH\"] = 10\n",
    "standalone_parameters[\"BEST_MODEL_PATH\"] = \"./best_model.pth\"\n",
    "\n",
    "# uncomment for CORES dataset\n",
    "from steves_utils.CORES.utils import (\n",
    "    ALL_NODES,\n",
    "    ALL_NODES_MINIMUM_1000_EXAMPLES,\n",
    "    ALL_DAYS\n",
    ")\n",
    "\n",
    "\n",
    "standalone_parameters[\"labels_source\"] = ALL_NODES\n",
    "standalone_parameters[\"labels_target\"] = ALL_NODES\n",
    "\n",
    "standalone_parameters[\"domains_source\"] = [1]\n",
    "standalone_parameters[\"domains_target\"] = [2,3,4,5]\n",
    "\n",
    "standalone_parameters[\"pickle_name\"] = \"cores.stratified_ds.2022A.pkl\"\n",
    "\n",
    "\n",
    "# Uncomment these for ORACLE dataset\n",
    "# from steves_utils.ORACLE.utils_v2 import (\n",
    "#     ALL_DISTANCES_FEET,\n",
    "#     ALL_RUNS,\n",
    "#     ALL_SERIAL_NUMBERS,\n",
    "# )\n",
    "# standalone_parameters[\"labels_source\"] = ALL_SERIAL_NUMBERS\n",
    "# standalone_parameters[\"labels_target\"] = ALL_SERIAL_NUMBERS\n",
    "# standalone_parameters[\"domains_source\"] = [8,20, 38,50]\n",
    "# standalone_parameters[\"domains_target\"] = [14, 26, 32, 44, 56]\n",
    "# standalone_parameters[\"pickle_name\"] = \"oracle.frame_indexed.stratified_ds.2022A.pkl\"\n",
    "# standalone_parameters[\"num_examples_per_domain_per_label_source\"]=1000\n",
    "# standalone_parameters[\"num_examples_per_domain_per_label_target\"]=1000\n",
    "\n",
    "# Uncomment these for Metahan dataset\n",
    "# standalone_parameters[\"labels_source\"] = list(range(19))\n",
    "# standalone_parameters[\"labels_target\"] = list(range(19))\n",
    "# standalone_parameters[\"domains_source\"] = [0]\n",
    "# standalone_parameters[\"domains_target\"] = [1]\n",
    "# standalone_parameters[\"pickle_name\"] = \"metehan.stratified_ds.2022A.pkl\"\n",
    "# standalone_parameters[\"n_way\"]  = len(standalone_parameters[\"labels_source\"])\n",
    "# standalone_parameters[\"num_examples_per_domain_per_label_source\"]=200\n",
    "# standalone_parameters[\"num_examples_per_domain_per_label_target\"]=100\n",
    "\n",
    "\n",
    "standalone_parameters[\"n_way\"]  = len(standalone_parameters[\"labels_source\"])"
   ]
  },
  {
   "cell_type": "code",
   "execution_count": 4,
   "id": "8b4c1ba0",
   "metadata": {
    "execution": {
     "iopub.execute_input": "2022-04-03T05:17:51.811223Z",
     "iopub.status.busy": "2022-04-03T05:17:51.803664Z",
     "iopub.status.idle": "2022-04-03T05:17:51.821827Z",
     "shell.execute_reply": "2022-04-03T05:17:51.821577Z"
    },
    "papermill": {
     "duration": 0.029085,
     "end_time": "2022-04-03T05:17:51.821876",
     "exception": false,
     "start_time": "2022-04-03T05:17:51.792791",
     "status": "completed"
    },
    "tags": [
     "injected-parameters"
    ]
   },
   "outputs": [],
   "source": [
    "# Parameters\n",
    "parameters = {\n",
    "    \"experiment_name\": \"baseline_ptn_32bit_cores\",\n",
    "    \"lr\": 0.001,\n",
    "    \"device\": \"cuda\",\n",
    "    \"seed\": 1337,\n",
    "    \"dataset_seed\": 1337,\n",
    "    \"labels_source\": [\n",
    "        \"1-10.\",\n",
    "        \"1-11.\",\n",
    "        \"1-15.\",\n",
    "        \"1-16.\",\n",
    "        \"1-17.\",\n",
    "        \"1-18.\",\n",
    "        \"1-19.\",\n",
    "        \"10-4.\",\n",
    "        \"10-7.\",\n",
    "        \"11-1.\",\n",
    "        \"11-14.\",\n",
    "        \"11-17.\",\n",
    "        \"11-20.\",\n",
    "        \"11-7.\",\n",
    "        \"13-20.\",\n",
    "        \"13-8.\",\n",
    "        \"14-10.\",\n",
    "        \"14-11.\",\n",
    "        \"14-14.\",\n",
    "        \"14-7.\",\n",
    "        \"15-1.\",\n",
    "        \"15-20.\",\n",
    "        \"16-1.\",\n",
    "        \"16-16.\",\n",
    "        \"17-10.\",\n",
    "        \"17-11.\",\n",
    "        \"17-2.\",\n",
    "        \"19-1.\",\n",
    "        \"19-16.\",\n",
    "        \"19-19.\",\n",
    "        \"19-20.\",\n",
    "        \"19-3.\",\n",
    "        \"2-10.\",\n",
    "        \"2-11.\",\n",
    "        \"2-17.\",\n",
    "        \"2-18.\",\n",
    "        \"2-20.\",\n",
    "        \"2-3.\",\n",
    "        \"2-4.\",\n",
    "        \"2-5.\",\n",
    "        \"2-6.\",\n",
    "        \"2-7.\",\n",
    "        \"2-8.\",\n",
    "        \"3-13.\",\n",
    "        \"3-18.\",\n",
    "        \"3-3.\",\n",
    "        \"4-1.\",\n",
    "        \"4-10.\",\n",
    "        \"4-11.\",\n",
    "        \"4-19.\",\n",
    "        \"5-5.\",\n",
    "        \"6-15.\",\n",
    "        \"7-10.\",\n",
    "        \"7-14.\",\n",
    "        \"8-18.\",\n",
    "        \"8-20.\",\n",
    "        \"8-3.\",\n",
    "        \"8-8.\",\n",
    "    ],\n",
    "    \"labels_target\": [\n",
    "        \"1-10.\",\n",
    "        \"1-11.\",\n",
    "        \"1-15.\",\n",
    "        \"1-16.\",\n",
    "        \"1-17.\",\n",
    "        \"1-18.\",\n",
    "        \"1-19.\",\n",
    "        \"10-4.\",\n",
    "        \"10-7.\",\n",
    "        \"11-1.\",\n",
    "        \"11-14.\",\n",
    "        \"11-17.\",\n",
    "        \"11-20.\",\n",
    "        \"11-7.\",\n",
    "        \"13-20.\",\n",
    "        \"13-8.\",\n",
    "        \"14-10.\",\n",
    "        \"14-11.\",\n",
    "        \"14-14.\",\n",
    "        \"14-7.\",\n",
    "        \"15-1.\",\n",
    "        \"15-20.\",\n",
    "        \"16-1.\",\n",
    "        \"16-16.\",\n",
    "        \"17-10.\",\n",
    "        \"17-11.\",\n",
    "        \"17-2.\",\n",
    "        \"19-1.\",\n",
    "        \"19-16.\",\n",
    "        \"19-19.\",\n",
    "        \"19-20.\",\n",
    "        \"19-3.\",\n",
    "        \"2-10.\",\n",
    "        \"2-11.\",\n",
    "        \"2-17.\",\n",
    "        \"2-18.\",\n",
    "        \"2-20.\",\n",
    "        \"2-3.\",\n",
    "        \"2-4.\",\n",
    "        \"2-5.\",\n",
    "        \"2-6.\",\n",
    "        \"2-7.\",\n",
    "        \"2-8.\",\n",
    "        \"3-13.\",\n",
    "        \"3-18.\",\n",
    "        \"3-3.\",\n",
    "        \"4-1.\",\n",
    "        \"4-10.\",\n",
    "        \"4-11.\",\n",
    "        \"4-19.\",\n",
    "        \"5-5.\",\n",
    "        \"6-15.\",\n",
    "        \"7-10.\",\n",
    "        \"7-14.\",\n",
    "        \"8-18.\",\n",
    "        \"8-20.\",\n",
    "        \"8-3.\",\n",
    "        \"8-8.\",\n",
    "    ],\n",
    "    \"x_transforms_source\": [],\n",
    "    \"x_transforms_target\": [],\n",
    "    \"episode_transforms_source\": [],\n",
    "    \"episode_transforms_target\": [],\n",
    "    \"num_examples_per_domain_per_label_source\": 100,\n",
    "    \"num_examples_per_domain_per_label_target\": 100,\n",
    "    \"n_shot\": 3,\n",
    "    \"n_way\": 58,\n",
    "    \"n_query\": 2,\n",
    "    \"train_k_factor\": 1,\n",
    "    \"val_k_factor\": 2,\n",
    "    \"test_k_factor\": 2,\n",
    "    \"torch_default_dtype\": \"torch.float32\",\n",
    "    \"n_epoch\": 50,\n",
    "    \"patience\": 3,\n",
    "    \"criteria_for_best\": \"target_loss\",\n",
    "    \"x_net\": [\n",
    "        {\"class\": \"nnReshape\", \"kargs\": {\"shape\": [-1, 1, 2, 256]}},\n",
    "        {\n",
    "            \"class\": \"Conv2d\",\n",
    "            \"kargs\": {\n",
    "                \"in_channels\": 1,\n",
    "                \"out_channels\": 256,\n",
    "                \"kernel_size\": [1, 7],\n",
    "                \"bias\": False,\n",
    "                \"padding\": [0, 3],\n",
    "            },\n",
    "        },\n",
    "        {\"class\": \"ReLU\", \"kargs\": {\"inplace\": True}},\n",
    "        {\"class\": \"BatchNorm2d\", \"kargs\": {\"num_features\": 256}},\n",
    "        {\n",
    "            \"class\": \"Conv2d\",\n",
    "            \"kargs\": {\n",
    "                \"in_channels\": 256,\n",
    "                \"out_channels\": 80,\n",
    "                \"kernel_size\": [2, 7],\n",
    "                \"bias\": True,\n",
    "                \"padding\": [0, 3],\n",
    "            },\n",
    "        },\n",
    "        {\"class\": \"ReLU\", \"kargs\": {\"inplace\": True}},\n",
    "        {\"class\": \"BatchNorm2d\", \"kargs\": {\"num_features\": 80}},\n",
    "        {\"class\": \"Flatten\", \"kargs\": {}},\n",
    "        {\"class\": \"Linear\", \"kargs\": {\"in_features\": 20480, \"out_features\": 256}},\n",
    "        {\"class\": \"ReLU\", \"kargs\": {\"inplace\": True}},\n",
    "        {\"class\": \"BatchNorm1d\", \"kargs\": {\"num_features\": 256}},\n",
    "        {\"class\": \"Linear\", \"kargs\": {\"in_features\": 256, \"out_features\": 256}},\n",
    "    ],\n",
    "    \"NUM_LOGS_PER_EPOCH\": 10,\n",
    "    \"BEST_MODEL_PATH\": \"./best_model.pth\",\n",
    "    \"pickle_name\": \"cores.stratified_ds.2022A.pkl\",\n",
    "    \"domains_source\": [1, 5],\n",
    "    \"domains_target\": [2, 3, 4],\n",
    "}\n"
   ]
  },
  {
   "cell_type": "code",
   "execution_count": 5,
   "id": "8fa1cc33",
   "metadata": {
    "execution": {
     "iopub.execute_input": "2022-04-03T05:17:51.848702Z",
     "iopub.status.busy": "2022-04-03T05:17:51.844612Z",
     "iopub.status.idle": "2022-04-03T05:17:51.857525Z",
     "shell.execute_reply": "2022-04-03T05:17:51.857308Z"
    },
    "papermill": {
     "duration": 0.026186,
     "end_time": "2022-04-03T05:17:51.857574",
     "exception": false,
     "start_time": "2022-04-03T05:17:51.831388",
     "status": "completed"
    },
    "tags": []
   },
   "outputs": [],
   "source": [
    "# Set this to True if you want to run this template directly\n",
    "STANDALONE = False\n",
    "if STANDALONE:\n",
    "    print(\"parameters not injected, running with standalone_parameters\")\n",
    "    parameters = standalone_parameters\n",
    "\n",
    "if not 'parameters' in locals() and not 'parameters' in globals():\n",
    "    raise Exception(\"Parameter injection failed\")\n",
    "\n",
    "#Use an easy dict for all the parameters\n",
    "p = EasyDict(parameters)\n",
    "\n",
    "supplied_keys = set(p.keys())\n",
    "\n",
    "if  supplied_keys != required_parameters:\n",
    "    print(\"Parameters are incorrect\")\n",
    "    if len(supplied_keys - required_parameters)>0: print(\"Shouldn't have:\", str(supplied_keys - required_parameters))\n",
    "    if len(required_parameters - supplied_keys)>0: print(\"Need to have:\", str(required_parameters - supplied_keys))\n",
    "    raise RuntimeError(\"Parameters are incorrect\")\n",
    "\n"
   ]
  },
  {
   "cell_type": "code",
   "execution_count": 6,
   "id": "3a028d58",
   "metadata": {
    "execution": {
     "iopub.execute_input": "2022-04-03T05:17:51.880755Z",
     "iopub.status.busy": "2022-04-03T05:17:51.878248Z",
     "iopub.status.idle": "2022-04-03T05:17:51.888647Z",
     "shell.execute_reply": "2022-04-03T05:17:51.888390Z"
    },
    "papermill": {
     "duration": 0.021699,
     "end_time": "2022-04-03T05:17:51.888741",
     "exception": false,
     "start_time": "2022-04-03T05:17:51.867042",
     "status": "completed"
    },
    "tags": []
   },
   "outputs": [],
   "source": [
    "###################################\n",
    "# Set the RNGs and make it all deterministic\n",
    "###################################\n",
    "np.random.seed(p.seed)\n",
    "random.seed(p.seed)\n",
    "torch.manual_seed(p.seed)\n",
    "\n",
    "torch.use_deterministic_algorithms(True) "
   ]
  },
  {
   "cell_type": "code",
   "execution_count": 7,
   "id": "b691acf6",
   "metadata": {
    "execution": {
     "iopub.execute_input": "2022-04-03T05:17:51.916040Z",
     "iopub.status.busy": "2022-04-03T05:17:51.915611Z",
     "iopub.status.idle": "2022-04-03T05:17:51.929706Z",
     "shell.execute_reply": "2022-04-03T05:17:51.929374Z"
    },
    "papermill": {
     "duration": 0.02572,
     "end_time": "2022-04-03T05:17:51.929798",
     "exception": false,
     "start_time": "2022-04-03T05:17:51.904078",
     "status": "completed"
    },
    "tags": []
   },
   "outputs": [],
   "source": [
    "###########################################\n",
    "# The stratified datasets honor this\n",
    "###########################################\n",
    "torch.set_default_dtype(eval(p.torch_default_dtype))"
   ]
  },
  {
   "cell_type": "code",
   "execution_count": 8,
   "id": "b5fba671",
   "metadata": {
    "execution": {
     "iopub.execute_input": "2022-04-03T05:17:51.956547Z",
     "iopub.status.busy": "2022-04-03T05:17:51.956300Z",
     "iopub.status.idle": "2022-04-03T05:17:51.995163Z",
     "shell.execute_reply": "2022-04-03T05:17:51.995535Z"
    },
    "papermill": {
     "duration": 0.05088,
     "end_time": "2022-04-03T05:17:51.995647",
     "exception": false,
     "start_time": "2022-04-03T05:17:51.944767",
     "status": "completed"
    },
    "tags": []
   },
   "outputs": [],
   "source": [
    "###################################\n",
    "# Build the network(s)\n",
    "# Note: It's critical to do this AFTER setting the RNG\n",
    "# (This is due to the randomized initial weights)\n",
    "###################################\n",
    "x_net = build_sequential(p.x_net)"
   ]
  },
  {
   "cell_type": "code",
   "execution_count": 9,
   "id": "5d7e61cc",
   "metadata": {
    "execution": {
     "iopub.execute_input": "2022-04-03T05:17:52.021215Z",
     "iopub.status.busy": "2022-04-03T05:17:52.020965Z",
     "iopub.status.idle": "2022-04-03T05:17:52.032420Z",
     "shell.execute_reply": "2022-04-03T05:17:52.032114Z"
    },
    "papermill": {
     "duration": 0.022802,
     "end_time": "2022-04-03T05:17:52.032489",
     "exception": false,
     "start_time": "2022-04-03T05:17:52.009687",
     "status": "completed"
    },
    "tags": []
   },
   "outputs": [],
   "source": [
    "start_time_secs = time.time()"
   ]
  },
  {
   "cell_type": "code",
   "execution_count": 10,
   "id": "fd5442bc",
   "metadata": {
    "execution": {
     "iopub.execute_input": "2022-04-03T05:17:52.064167Z",
     "iopub.status.busy": "2022-04-03T05:17:52.063757Z",
     "iopub.status.idle": "2022-04-03T05:17:52.797802Z",
     "shell.execute_reply": "2022-04-03T05:17:52.797332Z"
    },
    "papermill": {
     "duration": 0.751275,
     "end_time": "2022-04-03T05:17:52.797894",
     "exception": false,
     "start_time": "2022-04-03T05:17:52.046619",
     "status": "completed"
    },
    "tags": []
   },
   "outputs": [],
   "source": [
    "###################################\n",
    "# Build the dataset\n",
    "###################################\n",
    "\n",
    "if p.x_transforms_source == []: x_transform_source = None\n",
    "else: x_transform_source = get_chained_transform(p.x_transforms_source) \n",
    "\n",
    "if p.x_transforms_target == []: x_transform_target = None\n",
    "else: x_transform_target = get_chained_transform(p.x_transforms_target)\n",
    "\n",
    "if p.episode_transforms_source == []: episode_transform_source = None\n",
    "else: raise Exception(\"episode_transform_source not implemented\")\n",
    "\n",
    "if p.episode_transforms_target == []: episode_transform_target = None\n",
    "else: raise Exception(\"episode_transform_target not implemented\")\n",
    "\n",
    "\n",
    "eaf_source = Episodic_Accessor_Factory(\n",
    "    labels=p.labels_source,\n",
    "    domains=p.domains_source,\n",
    "    num_examples_per_domain_per_label=p.num_examples_per_domain_per_label_source,\n",
    "    iterator_seed=p.seed,\n",
    "    dataset_seed=p.dataset_seed,\n",
    "    n_shot=p.n_shot,\n",
    "    n_way=p.n_way,\n",
    "    n_query=p.n_query,\n",
    "    train_val_test_k_factors=(p.train_k_factor,p.val_k_factor,p.test_k_factor),\n",
    "    pickle_path=os.path.join(get_datasets_base_path(), p.pickle_name),\n",
    "    x_transform_func=x_transform_source,\n",
    "    example_transform_func=episode_transform_source,\n",
    "    \n",
    ")\n",
    "train_original_source, val_original_source, test_original_source = eaf_source.get_train(), eaf_source.get_val(), eaf_source.get_test()\n",
    "\n",
    "\n",
    "eaf_target = Episodic_Accessor_Factory(\n",
    "    labels=p.labels_target,\n",
    "    domains=p.domains_target,\n",
    "    num_examples_per_domain_per_label=p.num_examples_per_domain_per_label_target,\n",
    "    iterator_seed=p.seed,\n",
    "    dataset_seed=p.dataset_seed,\n",
    "    n_shot=p.n_shot,\n",
    "    n_way=p.n_way,\n",
    "    n_query=p.n_query,\n",
    "    train_val_test_k_factors=(p.train_k_factor,p.val_k_factor,p.test_k_factor),\n",
    "    pickle_path=os.path.join(get_datasets_base_path(), p.pickle_name),\n",
    "    x_transform_func=x_transform_target,\n",
    "    example_transform_func=episode_transform_target,\n",
    ")\n",
    "train_original_target, val_original_target, test_original_target = eaf_target.get_train(), eaf_target.get_val(), eaf_target.get_test()\n",
    "\n",
    "\n",
    "transform_lambda = lambda ex: ex[1] # Original is (<domain>, <episode>) so we strip down to episode only\n",
    "\n",
    "train_processed_source = Lazy_Iterable_Wrapper(train_original_source, transform_lambda)\n",
    "val_processed_source   = Lazy_Iterable_Wrapper(val_original_source, transform_lambda)\n",
    "test_processed_source  = Lazy_Iterable_Wrapper(test_original_source, transform_lambda)\n",
    "\n",
    "train_processed_target = Lazy_Iterable_Wrapper(train_original_target, transform_lambda)\n",
    "val_processed_target   = Lazy_Iterable_Wrapper(val_original_target, transform_lambda)\n",
    "test_processed_target  = Lazy_Iterable_Wrapper(test_original_target, transform_lambda)\n",
    "\n",
    "datasets = EasyDict({\n",
    "    \"source\": {\n",
    "        \"original\": {\"train\":train_original_source, \"val\":val_original_source, \"test\":test_original_source},\n",
    "        \"processed\": {\"train\":train_processed_source, \"val\":val_processed_source, \"test\":test_processed_source}\n",
    "    },\n",
    "    \"target\": {\n",
    "        \"original\": {\"train\":train_original_target, \"val\":val_original_target, \"test\":test_original_target},\n",
    "        \"processed\": {\"train\":train_processed_target, \"val\":val_processed_target, \"test\":test_processed_target}\n",
    "    },\n",
    "})"
   ]
  },
  {
   "cell_type": "code",
   "execution_count": 11,
   "id": "296189d9",
   "metadata": {
    "execution": {
     "iopub.execute_input": "2022-04-03T05:17:52.826491Z",
     "iopub.status.busy": "2022-04-03T05:17:52.826236Z",
     "iopub.status.idle": "2022-04-03T05:17:54.435130Z",
     "shell.execute_reply": "2022-04-03T05:17:54.434304Z"
    },
    "papermill": {
     "duration": 1.622646,
     "end_time": "2022-04-03T05:17:54.435256",
     "exception": false,
     "start_time": "2022-04-03T05:17:52.812610",
     "status": "completed"
    },
    "tags": []
   },
   "outputs": [
    {
     "name": "stdout",
     "output_type": "stream",
     "text": [
      "Visually inspect these to see if they line up with expected values given the transforms\n",
      "x_transforms_source []\n",
      "x_transforms_target []\n",
      "Average magnitude, source: 0.014178917\n",
      "Average power, source: 0.00022498897\n"
     ]
    },
    {
     "name": "stdout",
     "output_type": "stream",
     "text": [
      "Average magnitude, target: 0.015474864\n",
      "Average power, target: 0.00028204656\n"
     ]
    }
   ],
   "source": [
    "# Some quick unit tests on the data\n",
    "from steves_utils.transforms import get_average_power, get_average_magnitude\n",
    "\n",
    "q_x, q_y, s_x, s_y, truth = next(iter(train_processed_source))\n",
    "\n",
    "assert q_x.dtype == eval(p.torch_default_dtype)\n",
    "assert s_x.dtype == eval(p.torch_default_dtype)\n",
    "\n",
    "print(\"Visually inspect these to see if they line up with expected values given the transforms\")\n",
    "print('x_transforms_source', p.x_transforms_source)\n",
    "print('x_transforms_target', p.x_transforms_target)\n",
    "print(\"Average magnitude, source:\", get_average_magnitude(q_x[0].numpy()))\n",
    "print(\"Average power, source:\", get_average_power(q_x[0].numpy()))\n",
    "\n",
    "q_x, q_y, s_x, s_y, truth = next(iter(train_processed_target))\n",
    "print(\"Average magnitude, target:\", get_average_magnitude(q_x[0].numpy()))\n",
    "print(\"Average power, target:\", get_average_power(q_x[0].numpy()))\n"
   ]
  },
  {
   "cell_type": "code",
   "execution_count": 12,
   "id": "bbdacba1",
   "metadata": {
    "execution": {
     "iopub.execute_input": "2022-04-03T05:17:54.466820Z",
     "iopub.status.busy": "2022-04-03T05:17:54.466567Z",
     "iopub.status.idle": "2022-04-03T05:17:54.526376Z",
     "shell.execute_reply": "2022-04-03T05:17:54.526655Z"
    },
    "papermill": {
     "duration": 0.074814,
     "end_time": "2022-04-03T05:17:54.526748",
     "exception": false,
     "start_time": "2022-04-03T05:17:54.451934",
     "status": "completed"
    },
    "tags": []
   },
   "outputs": [
    {
     "name": "stdout",
     "output_type": "stream",
     "text": [
      "(2, 256)\n"
     ]
    }
   ],
   "source": [
    "###################################\n",
    "# Build the model\n",
    "###################################\n",
    "model = Steves_Prototypical_Network(x_net, device=p.device, x_shape=(2,256))\n",
    "optimizer = Adam(params=model.parameters(), lr=p.lr)"
   ]
  },
  {
   "cell_type": "code",
   "execution_count": 13,
   "id": "22b39ac5",
   "metadata": {
    "execution": {
     "iopub.execute_input": "2022-04-03T05:17:54.561020Z",
     "iopub.status.busy": "2022-04-03T05:17:54.553526Z",
     "iopub.status.idle": "2022-04-03T05:18:27.833107Z",
     "shell.execute_reply": "2022-04-03T05:18:27.832626Z"
    },
    "papermill": {
     "duration": 33.292896,
     "end_time": "2022-04-03T05:18:27.833208",
     "exception": false,
     "start_time": "2022-04-03T05:17:54.540312",
     "status": "completed"
    },
    "tags": []
   },
   "outputs": [
    {
     "name": "stdout",
     "output_type": "stream",
     "text": [
      "epoch: 1, [batch: 1 / 28], examples_per_second: 2071.6122, train_label_loss: 2.9078, \n"
     ]
    },
    {
     "name": "stdout",
     "output_type": "stream",
     "text": [
      "epoch: 1, [batch: 3 / 28], examples_per_second: 3707.0957, train_label_loss: 2.0744, \n"
     ]
    },
    {
     "name": "stdout",
     "output_type": "stream",
     "text": [
      "epoch: 1, [batch: 6 / 28], examples_per_second: 3825.9567, train_label_loss: 1.6380, \n"
     ]
    },
    {
     "name": "stdout",
     "output_type": "stream",
     "text": [
      "epoch: 1, [batch: 9 / 28], examples_per_second: 3830.8570, train_label_loss: 1.5128, \n"
     ]
    },
    {
     "name": "stdout",
     "output_type": "stream",
     "text": [
      "epoch: 1, [batch: 11 / 28], examples_per_second: 3766.8392, train_label_loss: 1.2894, \n"
     ]
    },
    {
     "name": "stdout",
     "output_type": "stream",
     "text": [
      "epoch: 1, [batch: 14 / 28], examples_per_second: 3826.8956, train_label_loss: 1.0948, \n"
     ]
    },
    {
     "name": "stdout",
     "output_type": "stream",
     "text": [
      "epoch: 1, [batch: 17 / 28], examples_per_second: 3829.9844, train_label_loss: 0.8850, \n"
     ]
    },
    {
     "name": "stdout",
     "output_type": "stream",
     "text": [
      "epoch: 1, [batch: 19 / 28], examples_per_second: 3918.8494, train_label_loss: 0.8851, \n"
     ]
    },
    {
     "name": "stdout",
     "output_type": "stream",
     "text": [
      "epoch: 1, [batch: 22 / 28], examples_per_second: 3916.9439, train_label_loss: 0.9185, \n"
     ]
    },
    {
     "name": "stdout",
     "output_type": "stream",
     "text": [
      "epoch: 1, [batch: 25 / 28], examples_per_second: 3920.8032, train_label_loss: 0.6505, \n"
     ]
    },
    {
     "name": "stdout",
     "output_type": "stream",
     "text": [
      "=============================================================\n",
      "epoch: 1, source_val_acc_label: 0.7759, target_val_acc_label: 0.7150, source_val_label_loss: 2.2265, target_val_label_loss: 2.2344, \n",
      "=============================================================\n"
     ]
    },
    {
     "name": "stdout",
     "output_type": "stream",
     "text": [
      "New best\n"
     ]
    },
    {
     "name": "stdout",
     "output_type": "stream",
     "text": [
      "epoch: 2, [batch: 1 / 28], examples_per_second: 469.5165, train_label_loss: 2.0498, \n"
     ]
    },
    {
     "name": "stdout",
     "output_type": "stream",
     "text": [
      "epoch: 2, [batch: 3 / 28], examples_per_second: 3883.2429, train_label_loss: 1.5249, \n"
     ]
    },
    {
     "name": "stdout",
     "output_type": "stream",
     "text": [
      "epoch: 2, [batch: 6 / 28], examples_per_second: 3906.3896, train_label_loss: 1.1755, \n"
     ]
    },
    {
     "name": "stdout",
     "output_type": "stream",
     "text": [
      "epoch: 2, [batch: 9 / 28], examples_per_second: 3903.1179, train_label_loss: 0.8689, \n"
     ]
    },
    {
     "name": "stdout",
     "output_type": "stream",
     "text": [
      "epoch: 2, [batch: 11 / 28], examples_per_second: 3890.9445, train_label_loss: 0.7308, \n"
     ]
    },
    {
     "name": "stdout",
     "output_type": "stream",
     "text": [
      "epoch: 2, [batch: 14 / 28], examples_per_second: 3865.0301, train_label_loss: 0.5844, \n"
     ]
    },
    {
     "name": "stdout",
     "output_type": "stream",
     "text": [
      "epoch: 2, [batch: 17 / 28], examples_per_second: 3921.6670, train_label_loss: 0.6530, \n"
     ]
    },
    {
     "name": "stdout",
     "output_type": "stream",
     "text": [
      "epoch: 2, [batch: 19 / 28], examples_per_second: 3997.5816, train_label_loss: 0.6717, \n"
     ]
    },
    {
     "name": "stdout",
     "output_type": "stream",
     "text": [
      "epoch: 2, [batch: 22 / 28], examples_per_second: 4005.4538, train_label_loss: 0.8082, \n"
     ]
    },
    {
     "name": "stdout",
     "output_type": "stream",
     "text": [
      "epoch: 2, [batch: 25 / 28], examples_per_second: 4009.5997, train_label_loss: 0.7311, \n"
     ]
    },
    {
     "name": "stdout",
     "output_type": "stream",
     "text": [
      "=============================================================\n",
      "epoch: 2, source_val_acc_label: 0.8491, target_val_acc_label: 0.7974, source_val_label_loss: 0.5467, target_val_label_loss: 0.7764, \n",
      "=============================================================\n"
     ]
    },
    {
     "name": "stdout",
     "output_type": "stream",
     "text": [
      "New best\n"
     ]
    },
    {
     "name": "stdout",
     "output_type": "stream",
     "text": [
      "epoch: 3, [batch: 1 / 28], examples_per_second: 451.7711, train_label_loss: 0.6111, \n"
     ]
    },
    {
     "name": "stdout",
     "output_type": "stream",
     "text": [
      "epoch: 3, [batch: 3 / 28], examples_per_second: 3878.3953, train_label_loss: 0.5273, \n"
     ]
    },
    {
     "name": "stdout",
     "output_type": "stream",
     "text": [
      "epoch: 3, [batch: 6 / 28], examples_per_second: 3899.1975, train_label_loss: 0.6924, \n"
     ]
    },
    {
     "name": "stdout",
     "output_type": "stream",
     "text": [
      "epoch: 3, [batch: 9 / 28], examples_per_second: 3904.9516, train_label_loss: 0.4541, \n"
     ]
    },
    {
     "name": "stdout",
     "output_type": "stream",
     "text": [
      "epoch: 3, [batch: 11 / 28], examples_per_second: 3895.6613, train_label_loss: 0.4202, \n"
     ]
    },
    {
     "name": "stdout",
     "output_type": "stream",
     "text": [
      "epoch: 3, [batch: 14 / 28], examples_per_second: 3900.5020, train_label_loss: 0.3519, \n"
     ]
    },
    {
     "name": "stdout",
     "output_type": "stream",
     "text": [
      "epoch: 3, [batch: 17 / 28], examples_per_second: 3905.7583, train_label_loss: 0.3978, \n"
     ]
    },
    {
     "name": "stdout",
     "output_type": "stream",
     "text": [
      "epoch: 3, [batch: 19 / 28], examples_per_second: 3987.7326, train_label_loss: 0.3641, \n"
     ]
    },
    {
     "name": "stdout",
     "output_type": "stream",
     "text": [
      "epoch: 3, [batch: 22 / 28], examples_per_second: 3998.5804, train_label_loss: 0.3787, \n"
     ]
    },
    {
     "name": "stdout",
     "output_type": "stream",
     "text": [
      "epoch: 3, [batch: 25 / 28], examples_per_second: 3999.9391, train_label_loss: 0.4672, \n"
     ]
    },
    {
     "name": "stdout",
     "output_type": "stream",
     "text": [
      "=============================================================\n",
      "epoch: 3, source_val_acc_label: 0.9095, target_val_acc_label: 0.8592, source_val_label_loss: 0.3393, target_val_label_loss: 0.5094, \n",
      "=============================================================\n"
     ]
    },
    {
     "name": "stdout",
     "output_type": "stream",
     "text": [
      "New best\n"
     ]
    },
    {
     "name": "stdout",
     "output_type": "stream",
     "text": [
      "epoch: 4, [batch: 1 / 28], examples_per_second: 446.2789, train_label_loss: 0.2876, \n"
     ]
    },
    {
     "name": "stdout",
     "output_type": "stream",
     "text": [
      "epoch: 4, [batch: 3 / 28], examples_per_second: 3912.3076, train_label_loss: 0.1818, \n"
     ]
    },
    {
     "name": "stdout",
     "output_type": "stream",
     "text": [
      "epoch: 4, [batch: 6 / 28], examples_per_second: 3922.6029, train_label_loss: 0.1715, \n"
     ]
    },
    {
     "name": "stdout",
     "output_type": "stream",
     "text": [
      "epoch: 4, [batch: 9 / 28], examples_per_second: 3928.6843, train_label_loss: 0.1812, \n"
     ]
    },
    {
     "name": "stdout",
     "output_type": "stream",
     "text": [
      "epoch: 4, [batch: 11 / 28], examples_per_second: 3920.3967, train_label_loss: 0.2458, \n"
     ]
    },
    {
     "name": "stdout",
     "output_type": "stream",
     "text": [
      "epoch: 4, [batch: 14 / 28], examples_per_second: 3921.9283, train_label_loss: 0.1990, \n"
     ]
    },
    {
     "name": "stdout",
     "output_type": "stream",
     "text": [
      "epoch: 4, [batch: 17 / 28], examples_per_second: 3922.8517, train_label_loss: 0.1894, \n"
     ]
    },
    {
     "name": "stdout",
     "output_type": "stream",
     "text": [
      "epoch: 4, [batch: 19 / 28], examples_per_second: 4003.5158, train_label_loss: 0.1726, \n"
     ]
    },
    {
     "name": "stdout",
     "output_type": "stream",
     "text": [
      "epoch: 4, [batch: 22 / 28], examples_per_second: 4014.7037, train_label_loss: 0.2474, \n"
     ]
    },
    {
     "name": "stdout",
     "output_type": "stream",
     "text": [
      "epoch: 4, [batch: 25 / 28], examples_per_second: 4013.8558, train_label_loss: 0.1737, \n"
     ]
    },
    {
     "name": "stdout",
     "output_type": "stream",
     "text": [
      "=============================================================\n",
      "epoch: 4, source_val_acc_label: 0.9461, target_val_acc_label: 0.9128, source_val_label_loss: 0.1710, target_val_label_loss: 0.3341, \n",
      "=============================================================\n"
     ]
    },
    {
     "name": "stdout",
     "output_type": "stream",
     "text": [
      "New best\n"
     ]
    },
    {
     "name": "stdout",
     "output_type": "stream",
     "text": [
      "epoch: 5, [batch: 1 / 28], examples_per_second: 452.9317, train_label_loss: 0.0961, \n"
     ]
    },
    {
     "name": "stdout",
     "output_type": "stream",
     "text": [
      "epoch: 5, [batch: 3 / 28], examples_per_second: 3907.4939, train_label_loss: 0.1870, \n"
     ]
    },
    {
     "name": "stdout",
     "output_type": "stream",
     "text": [
      "epoch: 5, [batch: 6 / 28], examples_per_second: 3917.3770, train_label_loss: 0.2085, \n"
     ]
    },
    {
     "name": "stdout",
     "output_type": "stream",
     "text": [
      "epoch: 5, [batch: 9 / 28], examples_per_second: 3916.1956, train_label_loss: 0.0751, \n"
     ]
    },
    {
     "name": "stdout",
     "output_type": "stream",
     "text": [
      "epoch: 5, [batch: 11 / 28], examples_per_second: 3920.4915, train_label_loss: 0.0897, \n"
     ]
    },
    {
     "name": "stdout",
     "output_type": "stream",
     "text": [
      "epoch: 5, [batch: 14 / 28], examples_per_second: 3923.4591, train_label_loss: 0.0992, \n"
     ]
    },
    {
     "name": "stdout",
     "output_type": "stream",
     "text": [
      "epoch: 5, [batch: 17 / 28], examples_per_second: 3920.2598, train_label_loss: 0.0847, \n"
     ]
    },
    {
     "name": "stdout",
     "output_type": "stream",
     "text": [
      "epoch: 5, [batch: 19 / 28], examples_per_second: 4010.1681, train_label_loss: 0.0587, \n"
     ]
    },
    {
     "name": "stdout",
     "output_type": "stream",
     "text": [
      "epoch: 5, [batch: 22 / 28], examples_per_second: 4011.8347, train_label_loss: 0.0632, \n"
     ]
    },
    {
     "name": "stdout",
     "output_type": "stream",
     "text": [
      "epoch: 5, [batch: 25 / 28], examples_per_second: 4010.0756, train_label_loss: 0.0461, \n"
     ]
    },
    {
     "name": "stdout",
     "output_type": "stream",
     "text": [
      "=============================================================\n",
      "epoch: 5, source_val_acc_label: 0.9784, target_val_acc_label: 0.9473, source_val_label_loss: 0.0788, target_val_label_loss: 0.1984, \n",
      "=============================================================\n"
     ]
    },
    {
     "name": "stdout",
     "output_type": "stream",
     "text": [
      "New best\n"
     ]
    },
    {
     "name": "stdout",
     "output_type": "stream",
     "text": [
      "epoch: 6, [batch: 1 / 28], examples_per_second: 443.7447, train_label_loss: 0.0226, \n"
     ]
    },
    {
     "name": "stdout",
     "output_type": "stream",
     "text": [
      "epoch: 6, [batch: 3 / 28], examples_per_second: 3887.8291, train_label_loss: 0.0165, \n"
     ]
    },
    {
     "name": "stdout",
     "output_type": "stream",
     "text": [
      "epoch: 6, [batch: 6 / 28], examples_per_second: 3903.6775, train_label_loss: 0.0477, \n"
     ]
    },
    {
     "name": "stdout",
     "output_type": "stream",
     "text": [
      "epoch: 6, [batch: 9 / 28], examples_per_second: 3910.2030, train_label_loss: 0.0619, \n"
     ]
    },
    {
     "name": "stdout",
     "output_type": "stream",
     "text": [
      "epoch: 6, [batch: 11 / 28], examples_per_second: 3894.6821, train_label_loss: 0.0371, \n"
     ]
    },
    {
     "name": "stdout",
     "output_type": "stream",
     "text": [
      "epoch: 6, [batch: 14 / 28], examples_per_second: 3899.6184, train_label_loss: 0.0190, \n"
     ]
    },
    {
     "name": "stdout",
     "output_type": "stream",
     "text": [
      "epoch: 6, [batch: 17 / 28], examples_per_second: 3907.7157, train_label_loss: 0.0704, \n"
     ]
    },
    {
     "name": "stdout",
     "output_type": "stream",
     "text": [
      "epoch: 6, [batch: 19 / 28], examples_per_second: 3999.7375, train_label_loss: 0.1084, \n"
     ]
    },
    {
     "name": "stdout",
     "output_type": "stream",
     "text": [
      "epoch: 6, [batch: 22 / 28], examples_per_second: 4008.5514, train_label_loss: 0.0183, \n"
     ]
    },
    {
     "name": "stdout",
     "output_type": "stream",
     "text": [
      "epoch: 6, [batch: 25 / 28], examples_per_second: 3980.6614, train_label_loss: 0.0258, \n"
     ]
    },
    {
     "name": "stdout",
     "output_type": "stream",
     "text": [
      "=============================================================\n",
      "epoch: 6, source_val_acc_label: 0.9842, target_val_acc_label: 0.9507, source_val_label_loss: 0.0537, target_val_label_loss: 0.1654, \n",
      "=============================================================\n"
     ]
    },
    {
     "name": "stdout",
     "output_type": "stream",
     "text": [
      "New best\n"
     ]
    },
    {
     "name": "stdout",
     "output_type": "stream",
     "text": [
      "epoch: 7, [batch: 1 / 28], examples_per_second: 450.7400, train_label_loss: 0.0201, \n"
     ]
    },
    {
     "name": "stdout",
     "output_type": "stream",
     "text": [
      "epoch: 7, [batch: 3 / 28], examples_per_second: 3904.3144, train_label_loss: 0.0450, \n"
     ]
    },
    {
     "name": "stdout",
     "output_type": "stream",
     "text": [
      "epoch: 7, [batch: 6 / 28], examples_per_second: 3920.5462, train_label_loss: 0.0118, \n"
     ]
    },
    {
     "name": "stdout",
     "output_type": "stream",
     "text": [
      "epoch: 7, [batch: 9 / 28], examples_per_second: 3923.6362, train_label_loss: 0.0329, \n"
     ]
    },
    {
     "name": "stdout",
     "output_type": "stream",
     "text": [
      "epoch: 7, [batch: 11 / 28], examples_per_second: 3918.1299, train_label_loss: 0.0247, \n"
     ]
    },
    {
     "name": "stdout",
     "output_type": "stream",
     "text": [
      "epoch: 7, [batch: 14 / 28], examples_per_second: 3922.5186, train_label_loss: 0.0972, \n"
     ]
    },
    {
     "name": "stdout",
     "output_type": "stream",
     "text": [
      "epoch: 7, [batch: 17 / 28], examples_per_second: 3921.3299, train_label_loss: 0.0392, \n"
     ]
    },
    {
     "name": "stdout",
     "output_type": "stream",
     "text": [
      "epoch: 7, [batch: 19 / 28], examples_per_second: 3999.8558, train_label_loss: 0.0756, \n"
     ]
    },
    {
     "name": "stdout",
     "output_type": "stream",
     "text": [
      "epoch: 7, [batch: 22 / 28], examples_per_second: 4006.6148, train_label_loss: 0.0208, \n"
     ]
    },
    {
     "name": "stdout",
     "output_type": "stream",
     "text": [
      "epoch: 7, [batch: 25 / 28], examples_per_second: 4005.5945, train_label_loss: 0.0353, \n"
     ]
    },
    {
     "name": "stdout",
     "output_type": "stream",
     "text": [
      "=============================================================\n",
      "epoch: 7, source_val_acc_label: 0.9892, target_val_acc_label: 0.9574, source_val_label_loss: 0.0392, target_val_label_loss: 0.1452, \n",
      "=============================================================\n"
     ]
    },
    {
     "name": "stdout",
     "output_type": "stream",
     "text": [
      "New best\n"
     ]
    },
    {
     "name": "stdout",
     "output_type": "stream",
     "text": [
      "epoch: 8, [batch: 1 / 28], examples_per_second: 448.0396, train_label_loss: 0.0070, \n"
     ]
    },
    {
     "name": "stdout",
     "output_type": "stream",
     "text": [
      "epoch: 8, [batch: 3 / 28], examples_per_second: 3887.8229, train_label_loss: 0.0090, \n"
     ]
    },
    {
     "name": "stdout",
     "output_type": "stream",
     "text": [
      "epoch: 8, [batch: 6 / 28], examples_per_second: 3907.8245, train_label_loss: 0.0506, \n"
     ]
    },
    {
     "name": "stdout",
     "output_type": "stream",
     "text": [
      "epoch: 8, [batch: 9 / 28], examples_per_second: 3913.6419, train_label_loss: 0.0087, \n"
     ]
    },
    {
     "name": "stdout",
     "output_type": "stream",
     "text": [
      "epoch: 8, [batch: 11 / 28], examples_per_second: 3920.8643, train_label_loss: 0.0774, \n"
     ]
    },
    {
     "name": "stdout",
     "output_type": "stream",
     "text": [
      "epoch: 8, [batch: 14 / 28], examples_per_second: 3925.6455, train_label_loss: 0.0229, \n"
     ]
    },
    {
     "name": "stdout",
     "output_type": "stream",
     "text": [
      "epoch: 8, [batch: 17 / 28], examples_per_second: 3918.3318, train_label_loss: 0.0195, \n"
     ]
    },
    {
     "name": "stdout",
     "output_type": "stream",
     "text": [
      "epoch: 8, [batch: 19 / 28], examples_per_second: 4007.2484, train_label_loss: 0.0157, \n"
     ]
    },
    {
     "name": "stdout",
     "output_type": "stream",
     "text": [
      "epoch: 8, [batch: 22 / 28], examples_per_second: 4010.4943, train_label_loss: 0.0574, \n"
     ]
    },
    {
     "name": "stdout",
     "output_type": "stream",
     "text": [
      "epoch: 8, [batch: 25 / 28], examples_per_second: 4012.2273, train_label_loss: 0.0353, \n"
     ]
    },
    {
     "name": "stdout",
     "output_type": "stream",
     "text": [
      "=============================================================\n",
      "epoch: 8, source_val_acc_label: 0.9871, target_val_acc_label: 0.9602, source_val_label_loss: 0.0405, target_val_label_loss: 0.1582, \n",
      "=============================================================\n"
     ]
    },
    {
     "name": "stdout",
     "output_type": "stream",
     "text": [
      "epoch: 9, [batch: 1 / 28], examples_per_second: 483.2691, train_label_loss: 0.0197, \n"
     ]
    },
    {
     "name": "stdout",
     "output_type": "stream",
     "text": [
      "epoch: 9, [batch: 3 / 28], examples_per_second: 3907.8580, train_label_loss: 0.0195, \n"
     ]
    },
    {
     "name": "stdout",
     "output_type": "stream",
     "text": [
      "epoch: 9, [batch: 6 / 28], examples_per_second: 3919.9524, train_label_loss: 0.0090, \n"
     ]
    },
    {
     "name": "stdout",
     "output_type": "stream",
     "text": [
      "epoch: 9, [batch: 9 / 28], examples_per_second: 3925.4977, train_label_loss: 0.0106, \n"
     ]
    },
    {
     "name": "stdout",
     "output_type": "stream",
     "text": [
      "epoch: 9, [batch: 11 / 28], examples_per_second: 3922.9445, train_label_loss: 0.0183, \n"
     ]
    },
    {
     "name": "stdout",
     "output_type": "stream",
     "text": [
      "epoch: 9, [batch: 14 / 28], examples_per_second: 3925.3752, train_label_loss: 0.0053, \n"
     ]
    },
    {
     "name": "stdout",
     "output_type": "stream",
     "text": [
      "epoch: 9, [batch: 17 / 28], examples_per_second: 3918.6264, train_label_loss: 0.0159, \n"
     ]
    },
    {
     "name": "stdout",
     "output_type": "stream",
     "text": [
      "epoch: 9, [batch: 19 / 28], examples_per_second: 4008.5294, train_label_loss: 0.0106, \n"
     ]
    },
    {
     "name": "stdout",
     "output_type": "stream",
     "text": [
      "epoch: 9, [batch: 22 / 28], examples_per_second: 4013.1672, train_label_loss: 0.0451, \n"
     ]
    },
    {
     "name": "stdout",
     "output_type": "stream",
     "text": [
      "epoch: 9, [batch: 25 / 28], examples_per_second: 4017.0638, train_label_loss: 0.0114, \n"
     ]
    },
    {
     "name": "stdout",
     "output_type": "stream",
     "text": [
      "=============================================================\n",
      "epoch: 9, source_val_acc_label: 0.9921, target_val_acc_label: 0.9540, source_val_label_loss: 0.0318, target_val_label_loss: 0.1612, \n",
      "=============================================================\n"
     ]
    },
    {
     "name": "stdout",
     "output_type": "stream",
     "text": [
      "epoch: 10, [batch: 1 / 28], examples_per_second: 483.4463, train_label_loss: 0.0593, \n"
     ]
    },
    {
     "name": "stdout",
     "output_type": "stream",
     "text": [
      "epoch: 10, [batch: 3 / 28], examples_per_second: 3878.3211, train_label_loss: 0.0181, \n"
     ]
    },
    {
     "name": "stdout",
     "output_type": "stream",
     "text": [
      "epoch: 10, [batch: 6 / 28], examples_per_second: 3908.7161, train_label_loss: 0.0266, \n"
     ]
    },
    {
     "name": "stdout",
     "output_type": "stream",
     "text": [
      "epoch: 10, [batch: 9 / 28], examples_per_second: 3906.3562, train_label_loss: 0.0247, \n"
     ]
    },
    {
     "name": "stdout",
     "output_type": "stream",
     "text": [
      "epoch: 10, [batch: 11 / 28], examples_per_second: 3902.3666, train_label_loss: 0.0058, \n"
     ]
    },
    {
     "name": "stdout",
     "output_type": "stream",
     "text": [
      "epoch: 10, [batch: 14 / 28], examples_per_second: 3906.3854, train_label_loss: 0.0094, \n"
     ]
    },
    {
     "name": "stdout",
     "output_type": "stream",
     "text": [
      "epoch: 10, [batch: 17 / 28], examples_per_second: 3909.3149, train_label_loss: 0.0060, \n"
     ]
    },
    {
     "name": "stdout",
     "output_type": "stream",
     "text": [
      "epoch: 10, [batch: 19 / 28], examples_per_second: 3997.7196, train_label_loss: 0.0067, \n"
     ]
    },
    {
     "name": "stdout",
     "output_type": "stream",
     "text": [
      "epoch: 10, [batch: 22 / 28], examples_per_second: 4007.7237, train_label_loss: 0.0553, \n"
     ]
    },
    {
     "name": "stdout",
     "output_type": "stream",
     "text": [
      "epoch: 10, [batch: 25 / 28], examples_per_second: 4006.0122, train_label_loss: 0.0040, \n"
     ]
    },
    {
     "name": "stdout",
     "output_type": "stream",
     "text": [
      "=============================================================\n",
      "epoch: 10, source_val_acc_label: 0.9943, target_val_acc_label: 0.9602, source_val_label_loss: 0.0238, target_val_label_loss: 0.1458, \n",
      "=============================================================\n"
     ]
    },
    {
     "name": "stdout",
     "output_type": "stream",
     "text": [
      "epoch: 11, [batch: 1 / 28], examples_per_second: 490.0500, train_label_loss: 0.0069, \n"
     ]
    },
    {
     "name": "stdout",
     "output_type": "stream",
     "text": [
      "epoch: 11, [batch: 3 / 28], examples_per_second: 3897.0217, train_label_loss: 0.0079, \n"
     ]
    },
    {
     "name": "stdout",
     "output_type": "stream",
     "text": [
      "epoch: 11, [batch: 6 / 28], examples_per_second: 3915.5485, train_label_loss: 0.0128, \n"
     ]
    },
    {
     "name": "stdout",
     "output_type": "stream",
     "text": [
      "epoch: 11, [batch: 9 / 28], examples_per_second: 3922.3204, train_label_loss: 0.0221, \n"
     ]
    },
    {
     "name": "stdout",
     "output_type": "stream",
     "text": [
      "epoch: 11, [batch: 11 / 28], examples_per_second: 3912.8928, train_label_loss: 0.0281, \n"
     ]
    },
    {
     "name": "stdout",
     "output_type": "stream",
     "text": [
      "epoch: 11, [batch: 14 / 28], examples_per_second: 3916.3091, train_label_loss: 0.0144, \n"
     ]
    },
    {
     "name": "stdout",
     "output_type": "stream",
     "text": [
      "epoch: 11, [batch: 17 / 28], examples_per_second: 3916.0779, train_label_loss: 0.0062, \n"
     ]
    },
    {
     "name": "stdout",
     "output_type": "stream",
     "text": [
      "epoch: 11, [batch: 19 / 28], examples_per_second: 4000.8162, train_label_loss: 0.0080, \n"
     ]
    },
    {
     "name": "stdout",
     "output_type": "stream",
     "text": [
      "epoch: 11, [batch: 22 / 28], examples_per_second: 4008.0935, train_label_loss: 0.0086, \n"
     ]
    },
    {
     "name": "stdout",
     "output_type": "stream",
     "text": [
      "epoch: 11, [batch: 25 / 28], examples_per_second: 4007.9042, train_label_loss: 0.0020, \n"
     ]
    },
    {
     "name": "stdout",
     "output_type": "stream",
     "text": [
      "=============================================================\n",
      "epoch: 11, source_val_acc_label: 0.9914, target_val_acc_label: 0.9602, source_val_label_loss: 0.0286, target_val_label_loss: 0.1714, \n",
      "=============================================================\n"
     ]
    },
    {
     "name": "stdout",
     "output_type": "stream",
     "text": [
      "Patience (3) exhausted\n"
     ]
    }
   ],
   "source": [
    "###################################\n",
    "# train\n",
    "###################################\n",
    "jig = PTN_Train_Eval_Test_Jig(model, p.BEST_MODEL_PATH, p.device)\n",
    "\n",
    "jig.train(\n",
    "    train_iterable=datasets.source.processed.train,\n",
    "    source_val_iterable=datasets.source.processed.val,\n",
    "    target_val_iterable=datasets.target.processed.val,\n",
    "    num_epochs=p.n_epoch,\n",
    "    num_logs_per_epoch=p.NUM_LOGS_PER_EPOCH,\n",
    "    patience=p.patience,\n",
    "    optimizer=optimizer,\n",
    "    criteria_for_best=p.criteria_for_best,\n",
    ")"
   ]
  },
  {
   "cell_type": "code",
   "execution_count": 14,
   "id": "31e8fabf",
   "metadata": {
    "execution": {
     "iopub.execute_input": "2022-04-03T05:18:27.905456Z",
     "iopub.status.busy": "2022-04-03T05:18:27.905203Z",
     "iopub.status.idle": "2022-04-03T05:18:27.924842Z",
     "shell.execute_reply": "2022-04-03T05:18:27.924427Z"
    },
    "papermill": {
     "duration": 0.054909,
     "end_time": "2022-04-03T05:18:27.924933",
     "exception": false,
     "start_time": "2022-04-03T05:18:27.870024",
     "status": "completed"
    },
    "tags": []
   },
   "outputs": [],
   "source": [
    "total_experiment_time_secs = time.time() - start_time_secs"
   ]
  },
  {
   "cell_type": "code",
   "execution_count": 15,
   "id": "87b9595b",
   "metadata": {
    "execution": {
     "iopub.execute_input": "2022-04-03T05:18:28.000864Z",
     "iopub.status.busy": "2022-04-03T05:18:28.000485Z",
     "iopub.status.idle": "2022-04-03T05:18:31.902541Z",
     "shell.execute_reply": "2022-04-03T05:18:31.902062Z"
    },
    "papermill": {
     "duration": 3.941145,
     "end_time": "2022-04-03T05:18:31.902656",
     "exception": false,
     "start_time": "2022-04-03T05:18:27.961511",
     "status": "completed"
    },
    "tags": []
   },
   "outputs": [],
   "source": [
    "###################################\n",
    "# Evaluate the model\n",
    "###################################\n",
    "source_test_label_accuracy, source_test_label_loss = jig.test(datasets.source.processed.test)\n",
    "target_test_label_accuracy, target_test_label_loss = jig.test(datasets.target.processed.test)\n",
    "\n",
    "source_val_label_accuracy, source_val_label_loss = jig.test(datasets.source.processed.val)\n",
    "target_val_label_accuracy, target_val_label_loss = jig.test(datasets.target.processed.val)\n",
    "\n",
    "history = jig.get_history()\n",
    "\n",
    "total_epochs_trained = len(history[\"epoch_indices\"])\n",
    "\n",
    "val_dl = Iterable_Aggregator((datasets.source.original.val,datasets.target.original.val))\n",
    "\n",
    "confusion = ptn_confusion_by_domain_over_dataloader(model, p.device, val_dl)\n",
    "per_domain_accuracy = per_domain_accuracy_from_confusion(confusion)\n",
    "\n",
    "# Add a key to per_domain_accuracy for if it was a source domain\n",
    "for domain, accuracy in per_domain_accuracy.items():\n",
    "    per_domain_accuracy[domain] = {\n",
    "        \"accuracy\": accuracy,\n",
    "        \"source?\": domain in p.domains_source\n",
    "    }\n",
    "\n",
    "# Do an independent accuracy assesment JUST TO BE SURE!\n",
    "# _source_test_label_accuracy = independent_accuracy_assesment(model, datasets.source.processed.test, p.device)\n",
    "# _target_test_label_accuracy = independent_accuracy_assesment(model, datasets.target.processed.test, p.device)\n",
    "# _source_val_label_accuracy = independent_accuracy_assesment(model, datasets.source.processed.val, p.device)\n",
    "# _target_val_label_accuracy = independent_accuracy_assesment(model, datasets.target.processed.val, p.device)\n",
    "\n",
    "# assert(_source_test_label_accuracy == source_test_label_accuracy)\n",
    "# assert(_target_test_label_accuracy == target_test_label_accuracy)\n",
    "# assert(_source_val_label_accuracy == source_val_label_accuracy)\n",
    "# assert(_target_val_label_accuracy == target_val_label_accuracy)\n",
    "\n",
    "experiment = {\n",
    "    \"experiment_name\": p.experiment_name,\n",
    "    \"parameters\": dict(p),\n",
    "    \"results\": {\n",
    "        \"source_test_label_accuracy\": source_test_label_accuracy,\n",
    "        \"source_test_label_loss\": source_test_label_loss,\n",
    "        \"target_test_label_accuracy\": target_test_label_accuracy,\n",
    "        \"target_test_label_loss\": target_test_label_loss,\n",
    "        \"source_val_label_accuracy\": source_val_label_accuracy,\n",
    "        \"source_val_label_loss\": source_val_label_loss,\n",
    "        \"target_val_label_accuracy\": target_val_label_accuracy,\n",
    "        \"target_val_label_loss\": target_val_label_loss,\n",
    "        \"total_epochs_trained\": total_epochs_trained,\n",
    "        \"total_experiment_time_secs\": total_experiment_time_secs,\n",
    "        \"confusion\": confusion,\n",
    "        \"per_domain_accuracy\": per_domain_accuracy,\n",
    "    },\n",
    "    \"history\": history,\n",
    "    \"dataset_metrics\": get_dataset_metrics(datasets, \"ptn\"),\n",
    "}"
   ]
  },
  {
   "cell_type": "code",
   "execution_count": 16,
   "id": "54a21829",
   "metadata": {
    "execution": {
     "iopub.execute_input": "2022-04-03T05:18:31.976358Z",
     "iopub.status.busy": "2022-04-03T05:18:31.975935Z",
     "iopub.status.idle": "2022-04-03T05:18:32.091479Z",
     "shell.execute_reply": "2022-04-03T05:18:32.091856Z"
    },
    "papermill": {
     "duration": 0.151166,
     "end_time": "2022-04-03T05:18:32.091965",
     "exception": false,
     "start_time": "2022-04-03T05:18:31.940799",
     "status": "completed"
    },
    "tags": []
   },
   "outputs": [
    {
     "data": {
      "image/png": "[encoded data removed]",
      "text/plain": [
       "<Figure size 1080x504 with 1 Axes>"
      ]
     },
     "metadata": {
      "needs_background": "light"
     },
     "output_type": "display_data"
    }
   ],
   "source": [
    "ax = get_loss_curve(experiment)\n",
    "plt.show()"
   ]
  },
  {
   "cell_type": "code",
   "execution_count": 17,
   "id": "fd8a0f60",
   "metadata": {
    "execution": {
     "iopub.execute_input": "2022-04-03T05:18:32.166736Z",
     "iopub.status.busy": "2022-04-03T05:18:32.166481Z",
     "iopub.status.idle": "2022-04-03T05:18:32.308693Z",
     "shell.execute_reply": "2022-04-03T05:18:32.308440Z"
    },
    "papermill": {
     "duration": 0.178485,
     "end_time": "2022-04-03T05:18:32.308755",
     "exception": false,
     "start_time": "2022-04-03T05:18:32.130270",
     "status": "completed"
    },
    "tags": []
   },
   "outputs": [
    {
     "data": {
      "text/plain": [
       "<AxesSubplot:title={'center':'Results'}>"
      ]
     },
     "execution_count": 17,
     "metadata": {},
     "output_type": "execute_result"
    },
    {
     "data": {
      "image/png": "[encoded data removed]",
      "text/plain": [
       "<Figure size 1080x504 with 1 Axes>"
      ]
     },
     "metadata": {
      "needs_background": "light"
     },
     "output_type": "display_data"
    }
   ],
   "source": [
    "get_results_table(experiment)"
   ]
  },
  {
   "cell_type": "code",
   "execution_count": 18,
   "id": "cf8dc689",
   "metadata": {
    "execution": {
     "iopub.execute_input": "2022-04-03T05:18:32.385536Z",
     "iopub.status.busy": "2022-04-03T05:18:32.385275Z",
     "iopub.status.idle": "2022-04-03T05:18:32.493219Z",
     "shell.execute_reply": "2022-04-03T05:18:32.492801Z"
    },
    "papermill": {
     "duration": 0.147671,
     "end_time": "2022-04-03T05:18:32.493327",
     "exception": false,
     "start_time": "2022-04-03T05:18:32.345656",
     "status": "completed"
    },
    "tags": []
   },
   "outputs": [
    {
     "data": {
      "text/plain": [
       "<AxesSubplot:title={'center':'Per Domain Validation Accuracy'}, xlabel='domain'>"
      ]
     },
     "execution_count": 18,
     "metadata": {},
     "output_type": "execute_result"
    },
    {
     "data": {
      "image/png": "[encoded data removed]",
      "text/plain": [
       "<Figure size 1080x504 with 1 Axes>"
      ]
     },
     "metadata": {
      "needs_background": "light"
     },
     "output_type": "display_data"
    }
   ],
   "source": [
    "get_domain_accuracies(experiment)"
   ]
  },
  {
   "cell_type": "code",
   "execution_count": 19,
   "id": "a74ae082",
   "metadata": {
    "execution": {
     "iopub.execute_input": "2022-04-03T05:18:32.574945Z",
     "iopub.status.busy": "2022-04-03T05:18:32.574694Z",
     "iopub.status.idle": "2022-04-03T05:18:32.591359Z",
     "shell.execute_reply": "2022-04-03T05:18:32.591735Z"
    },
    "papermill": {
     "duration": 0.056077,
     "end_time": "2022-04-03T05:18:32.591859",
     "exception": false,
     "start_time": "2022-04-03T05:18:32.535782",
     "status": "completed"
    },
    "tags": []
   },
   "outputs": [
    {
     "name": "stdout",
     "output_type": "stream",
     "text": [
      "Source Test Label Accuracy: 0.9885057471264368 Target Test Label Accuracy: 0.9612068965517241\n",
      "Source Val Label Accuracy: 0.9892241379310345 Target Val Label Accuracy: 0.9573754789272031\n"
     ]
    }
   ],
   "source": [
    "print(\"Source Test Label Accuracy:\", experiment[\"results\"][\"source_test_label_accuracy\"], \"Target Test Label Accuracy:\", experiment[\"results\"][\"target_test_label_accuracy\"])\n",
    "print(\"Source Val Label Accuracy:\", experiment[\"results\"][\"source_val_label_accuracy\"], \"Target Val Label Accuracy:\", experiment[\"results\"][\"target_val_label_accuracy\"])"
   ]
  },
  {
   "cell_type": "code",
   "execution_count": 20,
   "id": "dacca602",
   "metadata": {
    "execution": {
     "iopub.execute_input": "2022-04-03T05:18:32.671424Z",
     "iopub.status.busy": "2022-04-03T05:18:32.671167Z",
     "iopub.status.idle": "2022-04-03T05:18:32.687976Z",
     "shell.execute_reply": "2022-04-03T05:18:32.688384Z"
    },
    "papermill": {
     "duration": 0.055626,
     "end_time": "2022-04-03T05:18:32.688484",
     "exception": false,
     "start_time": "2022-04-03T05:18:32.632858",
     "status": "completed"
    },
    "tags": [
     "experiment_json"
    ]
   },
   "outputs": [
    {
     "data": {
      "text/plain": [
       "'{\"experiment_name\": \"baseline_ptn_32bit_cores\", \"parameters\": {\"experiment_name\": \"baseline_ptn_32bit_cores\", \"lr\": 0.001, \"device\": \"cuda\", \"seed\": 1337, \"dataset_seed\": 1337, \"labels_source\": [\"1-10.\", \"1-11.\", \"1-15.\", \"1-16.\", \"1-17.\", \"1-18.\", \"1-19.\", \"10-4.\", \"10-7.\", \"11-1.\", \"11-14.\", \"11-17.\", \"11-20.\", \"11-7.\", \"13-20.\", \"13-8.\", \"14-10.\", \"14-11.\", \"14-14.\", \"14-7.\", \"15-1.\", \"15-20.\", \"16-1.\", \"16-16.\", \"17-10.\", \"17-11.\", \"17-2.\", \"19-1.\", \"19-16.\", \"19-19.\", \"19-20.\", \"19-3.\", \"2-10.\", \"2-11.\", \"2-17.\", \"2-18.\", \"2-20.\", \"2-3.\", \"2-4.\", \"2-5.\", \"2-6.\", \"2-7.\", \"2-8.\", \"3-13.\", \"3-18.\", \"3-3.\", \"4-1.\", \"4-10.\", \"4-11.\", \"4-19.\", \"5-5.\", \"6-15.\", \"7-10.\", \"7-14.\", \"8-18.\", \"8-20.\", \"8-3.\", \"8-8.\"], \"labels_target\": [\"1-10.\", \"1-11.\", \"1-15.\", \"1-16.\", \"1-17.\", \"1-18.\", \"1-19.\", \"10-4.\", \"10-7.\", \"11-1.\", \"11-14.\", \"11-17.\", \"11-20.\", \"11-7.\", \"13-20.\", \"13-8.\", \"14-10.\", \"14-11.\", \"14-14.\", \"14-7.\", \"15-1.\", \"15-20.\", \"16-1.\", \"16-16.\", \"17-10.\", \"17-11.\", \"17-2.\", \"19-1.\", \"19-16.\", \"19-19.\", \"19-20.\", \"19-3.\", \"2-10.\", \"2-11.\", \"2-17.\", \"2-18.\", \"2-20.\", \"2-3.\", \"2-4.\", \"2-5.\", \"2-6.\", \"2-7.\", \"2-8.\", \"3-13.\", \"3-18.\", \"3-3.\", \"4-1.\", \"4-10.\", \"4-11.\", \"4-19.\", \"5-5.\", \"6-15.\", \"7-10.\", \"7-14.\", \"8-18.\", \"8-20.\", \"8-3.\", \"8-8.\"], \"x_transforms_source\": [], \"x_transforms_target\": [], \"episode_transforms_source\": [], \"episode_transforms_target\": [], \"num_examples_per_domain_per_label_source\": 100, \"num_examples_per_domain_per_label_target\": 100, \"n_shot\": 3, \"n_way\": 58, \"n_query\": 2, \"train_k_factor\": 1, \"val_k_factor\": 2, \"test_k_factor\": 2, \"torch_default_dtype\": \"torch.float32\", \"n_epoch\": 50, \"patience\": 3, \"criteria_for_best\": \"target_loss\", \"x_net\": [{\"class\": \"nnReshape\", \"kargs\": {\"shape\": [-1, 1, 2, 256]}}, {\"class\": \"Conv2d\", \"kargs\": {\"in_channels\": 1, \"out_channels\": 256, \"kernel_size\": [1, 7], \"bias\": false, \"padding\": [0, 3]}}, {\"class\": \"ReLU\", \"kargs\": {\"inplace\": true}}, {\"class\": \"BatchNorm2d\", \"kargs\": {\"num_features\": 256}}, {\"class\": \"Conv2d\", \"kargs\": {\"in_channels\": 256, \"out_channels\": 80, \"kernel_size\": [2, 7], \"bias\": true, \"padding\": [0, 3]}}, {\"class\": \"ReLU\", \"kargs\": {\"inplace\": true}}, {\"class\": \"BatchNorm2d\", \"kargs\": {\"num_features\": 80}}, {\"class\": \"Flatten\", \"kargs\": {}}, {\"class\": \"Linear\", \"kargs\": {\"in_features\": 20480, \"out_features\": 256}}, {\"class\": \"ReLU\", \"kargs\": {\"inplace\": true}}, {\"class\": \"BatchNorm1d\", \"kargs\": {\"num_features\": 256}}, {\"class\": \"Linear\", \"kargs\": {\"in_features\": 256, \"out_features\": 256}}], \"NUM_LOGS_PER_EPOCH\": 10, \"BEST_MODEL_PATH\": \"./best_model.pth\", \"pickle_name\": \"cores.stratified_ds.2022A.pkl\", \"domains_source\": [1, 5], \"domains_target\": [2, 3, 4]}, \"results\": {\"source_test_label_accuracy\": 0.9885057471264368, \"source_test_label_loss\": 0.04941129311919212, \"target_test_label_accuracy\": 0.9612068965517241, \"target_test_label_loss\": 0.12982554733753204, \"source_val_label_accuracy\": 0.9892241379310345, \"source_val_label_loss\": 0.039218924939632416, \"target_val_label_accuracy\": 0.9573754789272031, \"target_val_label_loss\": 0.14515440165996552, \"total_epochs_trained\": 11, \"total_experiment_time_secs\": 35.89263939857483, \"confusion\": {\"5\": {\"1\": {\"1\": 12}, \"28\": {\"28\": 12}, \"21\": {\"21\": 12}, \"27\": {\"27\": 12}, \"20\": {\"20\": 12}, \"16\": {\"2\": 1, \"16\": 11}, \"48\": {\"48\": 12}, \"42\": {\"42\": 12}, \"45\": {\"45\": 12}, \"41\": {\"41\": 12}, \"13\": {\"13\": 12}, \"50\": {\"50\": 12}, \"32\": {\"32\": 12}, \"51\": {\"51\": 12}, \"30\": {\"30\": 12}, \"38\": {\"38\": 12}, \"7\": {\"7\": 11, \"20\": 1}, \"22\": {\"22\": 10, \"56\": 1, \"44\": 1}, \"37\": {\"37\": 12}, \"33\": {\"33\": 12}, \"6\": {\"6\": 11, \"45\": 1}, \"14\": {\"14\": 12}, \"40\": {\"40\": 12}, \"55\": {\"55\": 12}, \"2\": {\"2\": 12}, \"39\": {\"39\": 12}, \"56\": {\"56\": 12}, \"17\": {\"17\": 12}, \"10\": {\"10\": 12}, \"9\": {\"9\": 12}, \"31\": {\"31\": 12}, \"12\": {\"12\": 12}, \"25\": {\"25\": 12}, \"0\": {\"0\": 12}, \"47\": {\"47\": 12}, \"44\": {\"44\": 12}, \"23\": {\"23\": 12}, \"15\": {\"15\": 12}, \"8\": {\"8\": 12}, \"54\": {\"54\": 12}, \"52\": {\"52\": 12}, \"29\": {\"29\": 12}, \"5\": {\"5\": 12}, \"34\": {\"34\": 12}, \"35\": {\"35\": 12}, \"26\": {\"26\": 12}, \"57\": {\"57\": 12}, \"53\": {\"53\": 12}, \"36\": {\"36\": 12}, \"18\": {\"18\": 12}, \"49\": {\"49\": 12}, \"3\": {\"3\": 12}, \"4\": {\"4\": 12}, \"24\": {\"24\": 12}, \"11\": {\"11\": 12}, \"19\": {\"19\": 12}, \"43\": {\"43\": 12}, \"46\": {\"46\": 12}}, \"1\": {\"27\": {\"27\": 12}, \"50\": {\"50\": 12}, \"16\": {\"16\": 12}, \"12\": {\"12\": 12}, \"55\": {\"55\": 12}, \"39\": {\"39\": 10, \"38\": 2}, \"48\": {\"48\": 12}, \"33\": {\"33\": 12}, \"51\": {\"51\": 12}, \"9\": {\"9\": 12}, \"53\": {\"53\": 12}, \"46\": {\"46\": 11, \"50\": 1}, \"23\": {\"23\": 12}, \"22\": {\"22\": 12}, \"38\": {\"38\": 12}, \"14\": {\"14\": 11, \"30\": 1}, \"32\": {\"32\": 11, \"38\": 1}, \"19\": {\"19\": 12}, \"35\": {\"35\": 12}, \"57\": {\"57\": 12}, \"30\": {\"30\": 12}, \"56\": {\"56\": 12}, \"42\": {\"42\": 12}, \"0\": {\"0\": 12}, \"31\": {\"31\": 12}, \"52\": {\"52\": 12}, \"21\": {\"21\": 12}, \"17\": {\"17\": 12}, \"8\": {\"8\": 12}, \"4\": {\"4\": 12}, \"34\": {\"34\": 12}, \"5\": {\"5\": 12}, \"2\": {\"2\": 12}, \"45\": {\"45\": 12}, \"28\": {\"28\": 12}, \"10\": {\"10\": 12}, \"3\": {\"3\": 11, \"20\": 1}, \"41\": {\"41\": 11, \"48\": 1}, \"18\": {\"18\": 12}, \"24\": {\"24\": 12}, \"47\": {\"47\": 12}, \"6\": {\"6\": 11, \"46\": 1}, \"43\": {\"43\": 12}, \"26\": {\"26\": 11, \"25\": 1}, \"49\": {\"49\": 12}, \"54\": {\"54\": 12}, \"11\": {\"11\": 12}, \"15\": {\"15\": 12}, \"44\": {\"44\": 12}, \"20\": {\"20\": 12}, \"1\": {\"1\": 12}, \"36\": {\"36\": 12}, \"25\": {\"25\": 12}, \"7\": {\"7\": 12}, \"40\": {\"40\": 12}, \"13\": {\"13\": 12}, \"29\": {\"29\": 11, \"1\": 1}, \"37\": {\"37\": 12}}, \"3\": {\"1\": {\"1\": 12}, \"28\": {\"28\": 12}, \"21\": {\"21\": 11, \"50\": 1}, \"27\": {\"27\": 12}, \"20\": {\"20\": 12}, \"16\": {\"16\": 12}, \"48\": {\"48\": 12}, \"42\": {\"42\": 12}, \"45\": {\"3\": 1, \"45\": 11}, \"41\": {\"41\": 9, \"52\": 3}, \"13\": {\"13\": 12}, \"50\": {\"50\": 12}, \"32\": {\"32\": 12}, \"51\": {\"51\": 12}, \"30\": {\"30\": 12}, \"38\": {\"38\": 12}, \"7\": {\"7\": 10, \"13\": 2}, \"22\": {\"22\": 12}, \"37\": {\"37\": 12}, \"33\": {\"33\": 12}, \"6\": {\"3\": 2, \"6\": 10}, \"14\": {\"14\": 10, \"39\": 1, \"57\": 1}, \"40\": {\"40\": 12}, \"55\": {\"55\": 12}, \"2\": {\"2\": 12}, \"39\": {\"39\": 12}, \"56\": {\"56\": 12}, \"17\": {\"17\": 12}, \"10\": {\"10\": 12}, \"9\": {\"9\": 12}, \"31\": {\"31\": 12}, \"12\": {\"12\": 12}, \"25\": {\"25\": 12}, \"0\": {\"0\": 12}, \"47\": {\"47\": 12}, \"44\": {\"44\": 12}, \"23\": {\"23\": 12}, \"15\": {\"15\": 12}, \"8\": {\"8\": 12}, \"54\": {\"54\": 12}, \"52\": {\"52\": 12}, \"29\": {\"29\": 12}, \"5\": {\"5\": 12}, \"34\": {\"34\": 12}, \"35\": {\"35\": 12}, \"26\": {\"26\": 12}, \"57\": {\"57\": 12}, \"53\": {\"53\": 12}, \"36\": {\"36\": 12}, \"18\": {\"18\": 12}, \"49\": {\"49\": 12}, \"3\": {\"3\": 12}, \"4\": {\"4\": 12}, \"24\": {\"24\": 12}, \"11\": {\"11\": 12}, \"19\": {\"19\": 12}, \"43\": {\"43\": 12}, \"46\": {\"46\": 12}}, \"4\": {\"9\": {\"9\": 12}, \"4\": {\"4\": 12}, \"20\": {\"20\": 12}, \"26\": {\"26\": 9, \"36\": 3}, \"19\": {\"19\": 12}, \"35\": {\"35\": 12}, \"14\": {\"14\": 10, \"57\": 2}, \"10\": {\"10\": 12}, \"1\": {\"1\": 12}, \"3\": {\"3\": 10, \"6\": 2}, \"29\": {\"29\": 7, \"57\": 5}, \"47\": {\"47\": 12}, \"50\": {\"50\": 12}, \"51\": {\"51\": 12}, \"55\": {\"55\": 12}, \"27\": {\"27\": 12}, \"31\": {\"31\": 12}, \"30\": {\"30\": 12}, \"37\": {\"37\": 12}, \"36\": {\"36\": 12}, \"48\": {\"48\": 12}, \"46\": {\"46\": 12}, \"25\": {\"25\": 12}, \"53\": {\"53\": 12}, \"0\": {\"0\": 12}, \"8\": {\"8\": 12}, \"15\": {\"11\": 7, \"15\": 5}, \"22\": {\"22\": 12}, \"45\": {\"45\": 12}, \"43\": {\"43\": 12}, \"12\": {\"12\": 12}, \"24\": {\"24\": 12}, \"11\": {\"11\": 9, \"15\": 3}, \"44\": {\"44\": 12}, \"5\": {\"5\": 12}, \"6\": {\"3\": 4, \"6\": 8}, \"49\": {\"7\": 4, \"49\": 8}, \"2\": {\"2\": 12}, \"18\": {\"18\": 12}, \"54\": {\"54\": 12}, \"41\": {\"41\": 12}, \"38\": {\"38\": 12}, \"34\": {\"34\": 6, \"28\": 4, \"55\": 1, \"26\": 1}, \"21\": {\"21\": 12}, \"57\": {\"57\": 10, \"29\": 2}, \"33\": {\"33\": 12}, \"17\": {\"17\": 12}, \"40\": {\"40\": 11, \"44\": 1}, \"28\": {\"28\": 11, \"26\": 1}, \"16\": {\"16\": 12}, \"56\": {\"56\": 12}, \"39\": {\"39\": 12}, \"13\": {\"13\": 12}, \"23\": {\"23\": 12}, \"7\": {\"49\": 3, \"7\": 6, \"31\": 2, \"32\": 1}, \"52\": {\"52\": 12}, \"42\": {\"42\": 9, \"54\": 3}, \"32\": {\"32\": 11, \"7\": 1}}, \"2\": {\"28\": {\"28\": 10, \"7\": 2}, \"52\": {\"52\": 12}, \"34\": {\"34\": 10, \"42\": 2}, \"29\": {\"29\": 11, \"57\": 1}, \"17\": {\"17\": 12}, \"26\": {\"26\": 12}, \"9\": {\"9\": 12}, \"0\": {\"0\": 12}, \"25\": {\"25\": 12}, \"42\": {\"42\": 12}, \"11\": {\"11\": 12}, \"46\": {\"46\": 12}, \"33\": {\"29\": 1, \"33\": 11}, \"27\": {\"27\": 12}, \"47\": {\"47\": 12}, \"39\": {\"39\": 12}, \"5\": {\"5\": 12}, \"16\": {\"16\": 12}, \"23\": {\"23\": 12}, \"12\": {\"12\": 12}, \"7\": {\"7\": 7, \"55\": 5}, \"31\": {\"31\": 12}, \"21\": {\"21\": 11, \"46\": 1}, \"8\": {\"8\": 12}, \"13\": {\"13\": 12}, \"38\": {\"38\": 12}, \"30\": {\"30\": 12}, \"4\": {\"4\": 12}, \"53\": {\"53\": 12}, \"24\": {\"24\": 12}, \"14\": {\"14\": 9, \"57\": 3}, \"2\": {\"2\": 12}, \"44\": {\"44\": 12}, \"51\": {\"51\": 12}, \"40\": {\"40\": 12}, \"48\": {\"48\": 12}, \"6\": {\"6\": 11, \"3\": 1}, \"54\": {\"54\": 12}, \"22\": {\"22\": 12}, \"3\": {\"3\": 10, \"6\": 2}, \"15\": {\"15\": 12}, \"56\": {\"56\": 12}, \"57\": {\"57\": 12}, \"50\": {\"50\": 12}, \"37\": {\"37\": 12}, \"1\": {\"1\": 12}, \"55\": {\"7\": 1, \"55\": 11}, \"35\": {\"35\": 12}, \"36\": {\"36\": 12}, \"10\": {\"10\": 12}, \"45\": {\"45\": 12}, \"43\": {\"43\": 12}, \"19\": {\"19\": 12}, \"32\": {\"32\": 12}, \"18\": {\"18\": 12}, \"49\": {\"49\": 6, \"36\": 6}, \"20\": {\"20\": 11, \"30\": 1}, \"41\": {\"41\": 10, \"52\": 1, \"48\": 1}}}, \"per_domain_accuracy\": {\"5\": {\"accuracy\": 0.992816091954023, \"source?\": true}, \"1\": {\"accuracy\": 0.985632183908046, \"source?\": true}, \"3\": {\"accuracy\": 0.9841954022988506, \"source?\": false}, \"4\": {\"accuracy\": 0.9281609195402298, \"source?\": false}, \"2\": {\"accuracy\": 0.9597701149425287, \"source?\": false}}}, \"history\": {\"epoch_indices\": [1, 2, 3, 4, 5, 6, 7, 8, 9, 10, 11], \"train_label_loss\": [1.3638801042522704, 0.9352161075387683, 0.42623498503650936, 0.22043795218425138, 0.10962420568934508, 0.03937959597845163, 0.029880129399576356, 0.032741930635113804, 0.023605126538313925, 0.019777756941039115, 0.01779683878079855], \"source_val_label_loss\": [2.2264537811279297, 0.546662449836731, 0.33928728103637695, 0.1710338294506073, 0.07881876826286316, 0.05369659885764122, 0.039218924939632416, 0.04052598774433136, 0.03183699771761894, 0.023754185065627098, 0.02858174592256546], \"target_val_label_loss\": [2.2343804836273193, 0.7763713002204895, 0.5094202160835266, 0.3341454565525055, 0.19843235611915588, 0.1653761863708496, 0.14515440165996552, 0.15821316838264465, 0.16116058826446533, 0.14580413699150085, 0.17135541141033173], \"source_val_acc_label\": [0.7758620689655172, 0.8491379310344828, 0.9094827586206896, 0.9461206896551724, 0.978448275862069, 0.9841954022988506, 0.9892241379310345, 0.9870689655172413, 0.9920977011494253, 0.9942528735632183, 0.9913793103448276], \"target_val_acc_label\": [0.7150383141762452, 0.7974137931034483, 0.8591954022988506, 0.9128352490421456, 0.9473180076628352, 0.9506704980842912, 0.9573754789272031, 0.9602490421455939, 0.9540229885057471, 0.9602490421455939, 0.9602490421455939]}, \"dataset_metrics\": {\"source\": {\"train\": {\"n_unique_x\": 8120, \"n_unique_y\": 58, \"n_batch/episode\": 28}, \"val\": {\"n_unique_x\": 1740, \"n_unique_y\": 58, \"n_batch/episode\": 12}, \"test\": {\"n_unique_x\": 1740, \"n_unique_y\": 58, \"n_batch/episode\": 12}}, \"target\": {\"train\": {\"n_unique_x\": 12180, \"n_unique_y\": 58, \"n_batch/episode\": 42}, \"val\": {\"n_unique_x\": 2610, \"n_unique_y\": 58, \"n_batch/episode\": 18}, \"test\": {\"n_unique_x\": 2610, \"n_unique_y\": 58, \"n_batch/episode\": 18}}}}'"
      ]
     },
     "execution_count": 20,
     "metadata": {},
     "output_type": "execute_result"
    }
   ],
   "source": [
    "json.dumps(experiment)"
   ]
  }
 ],
 "metadata": {
  "celltoolbar": "Tags",
  "kernelspec": {
   "display_name": "Python 3 (ipykernel)",
   "language": "python",
   "name": "python3"
  },
  "language_info": {
   "codemirror_mode": {
    "name": "ipython",
    "version": 3
   },
   "file_extension": ".py",
   "mimetype": "text/x-python",
   "name": "python",
   "nbconvert_exporter": "python",
   "pygments_lexer": "ipython3",
   "version": "3.8.10"
  },
  "papermill": {
   "default_parameters": {},
   "duration": 43.17629,
   "end_time": "2022-04-03T05:18:33.335872",
   "environment_variables": {},
   "exception": null,
   "input_path": "/mnt/wd500GB/CSC500/csc500-main/csc500-notebooks/templates/ptn_template.ipynb",
   "output_path": "trial.ipynb",
   "parameters": {
    "parameters": {
     "BEST_MODEL_PATH": "./best_model.pth",
     "NUM_LOGS_PER_EPOCH": 10,
     "criteria_for_best": "target_loss",
     "dataset_seed": 1337,
     "device": "cuda",
     "domains_source": [
      1,
      5
     ],
     "domains_target": [
      2,
      3,
      4
     ],
     "episode_transforms_source": [],
     "episode_transforms_target": [],
     "experiment_name": "baseline_ptn_32bit_cores",
     "labels_source": [
      "1-10.",
      "1-11.",
      "1-15.",
      "1-16.",
      "1-17.",
      "1-18.",
      "1-19.",
      "10-4.",
      "10-7.",
      "11-1.",
      "11-14.",
      "11-17.",
      "11-20.",
      "11-7.",
      "13-20.",
      "13-8.",
      "14-10.",
      "14-11.",
      "14-14.",
      "14-7.",
      "15-1.",
      "15-20.",
      "16-1.",
      "16-16.",
      "17-10.",
      "17-11.",
      "17-2.",
      "19-1.",
      "19-16.",
      "19-19.",
      "19-20.",
      "19-3.",
      "2-10.",
      "2-11.",
      "2-17.",
      "2-18.",
      "2-20.",
      "2-3.",
      "2-4.",
      "2-5.",
      "2-6.",
      "2-7.",
      "2-8.",
      "3-13.",
      "3-18.",
      "3-3.",
      "4-1.",
      "4-10.",
      "4-11.",
      "4-19.",
      "5-5.",
      "6-15.",
      "7-10.",
      "7-14.",
      "8-18.",
      "8-20.",
      "8-3.",
      "8-8."
     ],
     "labels_target": [
      "1-10.",
      "1-11.",
      "1-15.",
      "1-16.",
      "1-17.",
      "1-18.",
      "1-19.",
      "10-4.",
      "10-7.",
      "11-1.",
      "11-14.",
      "11-17.",
      "11-20.",
      "11-7.",
      "13-20.",
      "13-8.",
      "14-10.",
      "14-11.",
      "14-14.",
      "14-7.",
      "15-1.",
      "15-20.",
      "16-1.",
      "16-16.",
      "17-10.",
      "17-11.",
      "17-2.",
      "19-1.",
      "19-16.",
      "19-19.",
      "19-20.",
      "19-3.",
      "2-10.",
      "2-11.",
      "2-17.",
      "2-18.",
      "2-20.",
      "2-3.",
      "2-4.",
      "2-5.",
      "2-6.",
      "2-7.",
      "2-8.",
      "3-13.",
      "3-18.",
      "3-3.",
      "4-1.",
      "4-10.",
      "4-11.",
      "4-19.",
      "5-5.",
      "6-15.",
      "7-10.",
      "7-14.",
      "8-18.",
      "8-20.",
      "8-3.",
      "8-8."
     ],
     "lr": 0.001,
     "n_epoch": 50,
     "n_query": 2,
     "n_shot": 3,
     "n_way": 58,
     "num_examples_per_domain_per_label_source": 100,
     "num_examples_per_domain_per_label_target": 100,
     "patience": 3,
     "pickle_name": "cores.stratified_ds.2022A.pkl",
     "seed": 1337,
     "test_k_factor": 2,
     "torch_default_dtype": "torch.float32",
     "train_k_factor": 1,
     "val_k_factor": 2,
     "x_net": [
      {
       "class": "nnReshape",
       "kargs": {
        "shape": [
         -1,
         1,
         2,
         256
        ]
       }
      },
      {
       "class": "Conv2d",
       "kargs": {
        "bias": false,
        "in_channels": 1,
        "kernel_size": [
         1,
         7
        ],
        "out_channels": 256,
        "padding": [
         0,
         3
        ]
       }
      },
      {
       "class": "ReLU",
       "kargs": {
        "inplace": true
       }
      },
      {
       "class": "BatchNorm2d",
       "kargs": {
        "num_features": 256
       }
      },
      {
       "class": "Conv2d",
       "kargs": {
        "bias": true,
        "in_channels": 256,
        "kernel_size": [
         2,
         7
        ],
        "out_channels": 80,
        "padding": [
         0,
         3
        ]
       }
      },
      {
       "class": "ReLU",
       "kargs": {
        "inplace": true
       }
      },
      {
       "class": "BatchNorm2d",
       "kargs": {
        "num_features": 80
       }
      },
      {
       "class": "Flatten",
       "kargs": {}
      },
      {
       "class": "Linear",
       "kargs": {
        "in_features": 20480,
        "out_features": 256
       }
      },
      {
       "class": "ReLU",
       "kargs": {
        "inplace": true
       }
      },
      {
       "class": "BatchNorm1d",
       "kargs": {
        "num_features": 256
       }
      },
      {
       "class": "Linear",
       "kargs": {
        "in_features": 256,
        "out_features": 256
       }
      }
     ],
     "x_transforms_source": [],
     "x_transforms_target": []
    }
   },
   "start_time": "2022-04-03T05:17:50.159582",
   "version": "2.3.4"
  }
 },
 "nbformat": 4,
 "nbformat_minor": 5
}