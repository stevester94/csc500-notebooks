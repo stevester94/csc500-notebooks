{
 "cells": [
  {
   "cell_type": "markdown",
   "id": "9fea5f46",
   "metadata": {
    "papermill": {
     "duration": 0.015682,
     "end_time": "2022-03-06T04:06:19.410133",
     "exception": false,
     "start_time": "2022-03-06T04:06:19.394451",
     "status": "completed"
    },
    "tags": []
   },
   "source": [
    "# PTN Template\n",
    "This notebook serves as a template for single dataset PTN experiments  \n",
    "It can be run on its own by setting STANDALONE to True (do a find for \"STANDALONE\" to see where)  \n",
    "But it is intended to be executed as part of a *papermill.py script. See any of the   \n",
    "experimentes with a papermill script to get started with that workflow.  "
   ]
  },
  {
   "cell_type": "code",
   "execution_count": 1,
   "id": "0902182a",
   "metadata": {
    "execution": {
     "iopub.execute_input": "2022-03-06T04:06:19.443077Z",
     "iopub.status.busy": "2022-03-06T04:06:19.442481Z",
     "iopub.status.idle": "2022-03-06T04:06:20.293744Z",
     "shell.execute_reply": "2022-03-06T04:06:20.293199Z"
    },
    "papermill": {
     "duration": 0.873665,
     "end_time": "2022-03-06T04:06:20.293865",
     "exception": false,
     "start_time": "2022-03-06T04:06:19.420200",
     "status": "completed"
    },
    "tags": []
   },
   "outputs": [],
   "source": [
    "%load_ext autoreload\n",
    "%autoreload 2\n",
    "%matplotlib inline\n",
    "\n",
    "    \n",
    "import os, json, sys, time, random\n",
    "import numpy as np\n",
    "import torch\n",
    "from torch.optim import Adam\n",
    "from  easydict import EasyDict\n",
    "import matplotlib.pyplot as plt\n",
    "\n",
    "from steves_models.steves_ptn import Steves_Prototypical_Network\n",
    "\n",
    "from steves_utils.lazy_iterable_wrapper import Lazy_Iterable_Wrapper\n",
    "from steves_utils.iterable_aggregator import Iterable_Aggregator\n",
    "from steves_utils.ptn_train_eval_test_jig import  PTN_Train_Eval_Test_Jig\n",
    "from steves_utils.torch_sequential_builder import build_sequential\n",
    "from steves_utils.torch_utils import get_dataset_metrics, ptn_confusion_by_domain_over_dataloader\n",
    "from steves_utils.utils_v2 import (per_domain_accuracy_from_confusion, get_datasets_base_path)\n",
    "from steves_utils.PTN.utils import independent_accuracy_assesment\n",
    "\n",
    "from steves_utils.stratified_dataset.episodic_accessor import Episodic_Accessor_Factory\n",
    "\n",
    "from steves_utils.ptn_do_report import (\n",
    "    get_loss_curve,\n",
    "    get_results_table,\n",
    "    get_parameters_table,\n",
    "    get_domain_accuracies,\n",
    ")\n",
    "\n",
    "from steves_utils.transforms import get_chained_transform"
   ]
  },
  {
   "cell_type": "markdown",
   "id": "41c840b4",
   "metadata": {
    "papermill": {
     "duration": 0.013967,
     "end_time": "2022-03-06T04:06:20.324869",
     "exception": false,
     "start_time": "2022-03-06T04:06:20.310902",
     "status": "completed"
    },
    "tags": []
   },
   "source": [
    "# Required Parameters\n",
    "These are allowed parameters, not defaults\n",
    "Each of these values need to be present in the injected parameters (the notebook will raise an exception if they are not present)\n",
    "\n",
    "Papermill uses the cell tag \"parameters\" to inject the real parameters below this cell.\n",
    "Enable tags to see what I mean"
   ]
  },
  {
   "cell_type": "code",
   "execution_count": 2,
   "id": "fd44eb83",
   "metadata": {
    "execution": {
     "iopub.execute_input": "2022-03-06T04:06:20.356579Z",
     "iopub.status.busy": "2022-03-06T04:06:20.356090Z",
     "iopub.status.idle": "2022-03-06T04:06:20.368728Z",
     "shell.execute_reply": "2022-03-06T04:06:20.369170Z"
    },
    "papermill": {
     "duration": 0.030494,
     "end_time": "2022-03-06T04:06:20.369295",
     "exception": false,
     "start_time": "2022-03-06T04:06:20.338801",
     "status": "completed"
    },
    "tags": []
   },
   "outputs": [],
   "source": [
    "required_parameters = {\n",
    "    \"experiment_name\",\n",
    "    \"lr\",\n",
    "    \"device\",\n",
    "    \"seed\",\n",
    "    \"dataset_seed\",\n",
    "    \"labels_source\",\n",
    "    \"labels_target\",\n",
    "    \"domains_source\",\n",
    "    \"domains_target\",\n",
    "    \"num_examples_per_domain_per_label_source\",\n",
    "    \"num_examples_per_domain_per_label_target\",\n",
    "    \"n_shot\",\n",
    "    \"n_way\",\n",
    "    \"n_query\",\n",
    "    \"train_k_factor\",\n",
    "    \"val_k_factor\",\n",
    "    \"test_k_factor\",\n",
    "    \"n_epoch\",\n",
    "    \"patience\",\n",
    "    \"criteria_for_best\",\n",
    "    \"x_transforms_source\",\n",
    "    \"x_transforms_target\",\n",
    "    \"episode_transforms_source\",\n",
    "    \"episode_transforms_target\",\n",
    "    \"pickle_name\",\n",
    "    \"x_net\",\n",
    "    \"NUM_LOGS_PER_EPOCH\",\n",
    "    \"BEST_MODEL_PATH\",\n",
    "    \"torch_default_dtype\"\n",
    "}"
   ]
  },
  {
   "cell_type": "code",
   "execution_count": 3,
   "id": "fa3f0049",
   "metadata": {
    "execution": {
     "iopub.execute_input": "2022-03-06T04:06:20.408345Z",
     "iopub.status.busy": "2022-03-06T04:06:20.399925Z",
     "iopub.status.idle": "2022-03-06T04:06:20.420250Z",
     "shell.execute_reply": "2022-03-06T04:06:20.420592Z"
    },
    "papermill": {
     "duration": 0.033968,
     "end_time": "2022-03-06T04:06:20.420698",
     "exception": false,
     "start_time": "2022-03-06T04:06:20.386730",
     "status": "completed"
    },
    "tags": [
     "parameters"
    ]
   },
   "outputs": [],
   "source": [
    "\n",
    "\n",
    "standalone_parameters = {}\n",
    "standalone_parameters[\"experiment_name\"] = \"STANDALONE PTN\"\n",
    "standalone_parameters[\"lr\"] = 0.0001\n",
    "standalone_parameters[\"device\"] = \"cuda\"\n",
    "\n",
    "standalone_parameters[\"seed\"] = 1337\n",
    "standalone_parameters[\"dataset_seed\"] = 1337\n",
    "\n",
    "\n",
    "standalone_parameters[\"num_examples_per_domain_per_label_source\"]=100\n",
    "standalone_parameters[\"num_examples_per_domain_per_label_target\"]=100\n",
    "\n",
    "standalone_parameters[\"n_shot\"] = 3\n",
    "standalone_parameters[\"n_query\"]  = 2\n",
    "standalone_parameters[\"train_k_factor\"] = 1\n",
    "standalone_parameters[\"val_k_factor\"] = 2\n",
    "standalone_parameters[\"test_k_factor\"] = 2\n",
    "\n",
    "\n",
    "standalone_parameters[\"n_epoch\"] = 100\n",
    "\n",
    "standalone_parameters[\"patience\"] = 10\n",
    "standalone_parameters[\"criteria_for_best\"] = \"target_accuracy\"\n",
    "\n",
    "standalone_parameters[\"x_transforms_source\"] = [\"unit_power\"]\n",
    "standalone_parameters[\"x_transforms_target\"] = [\"unit_power\"]\n",
    "standalone_parameters[\"episode_transforms_source\"] = []\n",
    "standalone_parameters[\"episode_transforms_target\"] = []\n",
    "\n",
    "standalone_parameters[\"torch_default_dtype\"] = \"torch.float32\" \n",
    "\n",
    "\n",
    "\n",
    "standalone_parameters[\"x_net\"] =     [\n",
    "    {\"class\": \"nnReshape\", \"kargs\": {\"shape\":[-1, 1, 2, 256]}},\n",
    "    {\"class\": \"Conv2d\", \"kargs\": { \"in_channels\":1, \"out_channels\":256, \"kernel_size\":(1,7), \"bias\":False, \"padding\":(0,3), },},\n",
    "    {\"class\": \"ReLU\", \"kargs\": {\"inplace\": True}},\n",
    "    {\"class\": \"BatchNorm2d\", \"kargs\": {\"num_features\":256}},\n",
    "\n",
    "    {\"class\": \"Conv2d\", \"kargs\": { \"in_channels\":256, \"out_channels\":80, \"kernel_size\":(2,7), \"bias\":True, \"padding\":(0,3), },},\n",
    "    {\"class\": \"ReLU\", \"kargs\": {\"inplace\": True}},\n",
    "    {\"class\": \"BatchNorm2d\", \"kargs\": {\"num_features\":80}},\n",
    "    {\"class\": \"Flatten\", \"kargs\": {}},\n",
    "\n",
    "    {\"class\": \"Linear\", \"kargs\": {\"in_features\": 80*256, \"out_features\": 256}}, # 80 units per IQ pair\n",
    "    {\"class\": \"ReLU\", \"kargs\": {\"inplace\": True}},\n",
    "    {\"class\": \"BatchNorm1d\", \"kargs\": {\"num_features\":256}},\n",
    "\n",
    "    {\"class\": \"Linear\", \"kargs\": {\"in_features\": 256, \"out_features\": 256}},\n",
    "]\n",
    "\n",
    "# Parameters relevant to results\n",
    "# These parameters will basically never need to change\n",
    "standalone_parameters[\"NUM_LOGS_PER_EPOCH\"] = 10\n",
    "standalone_parameters[\"BEST_MODEL_PATH\"] = \"./best_model.pth\"\n",
    "\n",
    "# uncomment for CORES dataset\n",
    "from steves_utils.CORES.utils import (\n",
    "    ALL_NODES,\n",
    "    ALL_NODES_MINIMUM_1000_EXAMPLES,\n",
    "    ALL_DAYS\n",
    ")\n",
    "\n",
    "\n",
    "standalone_parameters[\"labels_source\"] = ALL_NODES\n",
    "standalone_parameters[\"labels_target\"] = ALL_NODES\n",
    "\n",
    "standalone_parameters[\"domains_source\"] = [1]\n",
    "standalone_parameters[\"domains_target\"] = [2,3,4,5]\n",
    "\n",
    "standalone_parameters[\"pickle_name\"] = \"cores.stratified_ds.2022A.pkl\"\n",
    "\n",
    "\n",
    "# Uncomment these for ORACLE dataset\n",
    "# from steves_utils.ORACLE.utils_v2 import (\n",
    "#     ALL_DISTANCES_FEET,\n",
    "#     ALL_RUNS,\n",
    "#     ALL_SERIAL_NUMBERS,\n",
    "# )\n",
    "# standalone_parameters[\"labels_source\"] = ALL_SERIAL_NUMBERS\n",
    "# standalone_parameters[\"labels_target\"] = ALL_SERIAL_NUMBERS\n",
    "# standalone_parameters[\"domains_source\"] = [8,20, 38,50]\n",
    "# standalone_parameters[\"domains_target\"] = [14, 26, 32, 44, 56]\n",
    "# standalone_parameters[\"pickle_name\"] = \"oracle.frame_indexed.stratified_ds.2022A.pkl\"\n",
    "# standalone_parameters[\"num_examples_per_domain_per_label_source\"]=1000\n",
    "# standalone_parameters[\"num_examples_per_domain_per_label_target\"]=1000\n",
    "\n",
    "# Uncomment these for Metahan dataset\n",
    "# standalone_parameters[\"labels_source\"] = list(range(19))\n",
    "# standalone_parameters[\"labels_target\"] = list(range(19))\n",
    "# standalone_parameters[\"domains_source\"] = [0]\n",
    "# standalone_parameters[\"domains_target\"] = [1]\n",
    "# standalone_parameters[\"pickle_name\"] = \"metehan.stratified_ds.2022A.pkl\"\n",
    "# standalone_parameters[\"n_way\"]  = len(standalone_parameters[\"labels_source\"])\n",
    "# standalone_parameters[\"num_examples_per_domain_per_label_source\"]=200\n",
    "# standalone_parameters[\"num_examples_per_domain_per_label_target\"]=100\n",
    "\n",
    "\n",
    "standalone_parameters[\"n_way\"]  = len(standalone_parameters[\"labels_source\"])"
   ]
  },
  {
   "cell_type": "code",
   "execution_count": 4,
   "id": "5d508cd4",
   "metadata": {
    "execution": {
     "iopub.execute_input": "2022-03-06T04:06:20.455754Z",
     "iopub.status.busy": "2022-03-06T04:06:20.455455Z",
     "iopub.status.idle": "2022-03-06T04:06:20.468854Z",
     "shell.execute_reply": "2022-03-06T04:06:20.469070Z"
    },
    "papermill": {
     "duration": 0.033931,
     "end_time": "2022-03-06T04:06:20.469137",
     "exception": false,
     "start_time": "2022-03-06T04:06:20.435206",
     "status": "completed"
    },
    "tags": [
     "injected-parameters"
    ]
   },
   "outputs": [],
   "source": [
    "# Parameters\n",
    "parameters = {\n",
    "    \"experiment_name\": \"baseline_ptn_32bit_oracle.run1.framed\",\n",
    "    \"lr\": 0.001,\n",
    "    \"device\": \"cuda\",\n",
    "    \"seed\": 1337,\n",
    "    \"dataset_seed\": 1337,\n",
    "    \"labels_source\": [\n",
    "        \"3123D52\",\n",
    "        \"3123D65\",\n",
    "        \"3123D79\",\n",
    "        \"3123D80\",\n",
    "        \"3123D54\",\n",
    "        \"3123D70\",\n",
    "        \"3123D7B\",\n",
    "        \"3123D89\",\n",
    "        \"3123D58\",\n",
    "        \"3123D76\",\n",
    "        \"3123D7D\",\n",
    "        \"3123EFE\",\n",
    "        \"3123D64\",\n",
    "        \"3123D78\",\n",
    "        \"3123D7E\",\n",
    "        \"3124E4A\",\n",
    "    ],\n",
    "    \"labels_target\": [\n",
    "        \"3123D52\",\n",
    "        \"3123D65\",\n",
    "        \"3123D79\",\n",
    "        \"3123D80\",\n",
    "        \"3123D54\",\n",
    "        \"3123D70\",\n",
    "        \"3123D7B\",\n",
    "        \"3123D89\",\n",
    "        \"3123D58\",\n",
    "        \"3123D76\",\n",
    "        \"3123D7D\",\n",
    "        \"3123EFE\",\n",
    "        \"3123D64\",\n",
    "        \"3123D78\",\n",
    "        \"3123D7E\",\n",
    "        \"3124E4A\",\n",
    "    ],\n",
    "    \"x_transforms_source\": [],\n",
    "    \"x_transforms_target\": [],\n",
    "    \"episode_transforms_source\": [],\n",
    "    \"episode_transforms_target\": [],\n",
    "    \"num_examples_per_domain_per_label_source\": 1000,\n",
    "    \"num_examples_per_domain_per_label_target\": 1000,\n",
    "    \"n_shot\": 3,\n",
    "    \"n_way\": 16,\n",
    "    \"n_query\": 2,\n",
    "    \"train_k_factor\": 1,\n",
    "    \"val_k_factor\": 2,\n",
    "    \"test_k_factor\": 2,\n",
    "    \"torch_default_dtype\": \"torch.float32\",\n",
    "    \"n_epoch\": 50,\n",
    "    \"patience\": 3,\n",
    "    \"criteria_for_best\": \"target_loss\",\n",
    "    \"x_net\": [\n",
    "        {\"class\": \"nnReshape\", \"kargs\": {\"shape\": [-1, 1, 2, 256]}},\n",
    "        {\n",
    "            \"class\": \"Conv2d\",\n",
    "            \"kargs\": {\n",
    "                \"in_channels\": 1,\n",
    "                \"out_channels\": 256,\n",
    "                \"kernel_size\": [1, 7],\n",
    "                \"bias\": False,\n",
    "                \"padding\": [0, 3],\n",
    "            },\n",
    "        },\n",
    "        {\"class\": \"ReLU\", \"kargs\": {\"inplace\": True}},\n",
    "        {\"class\": \"BatchNorm2d\", \"kargs\": {\"num_features\": 256}},\n",
    "        {\n",
    "            \"class\": \"Conv2d\",\n",
    "            \"kargs\": {\n",
    "                \"in_channels\": 256,\n",
    "                \"out_channels\": 80,\n",
    "                \"kernel_size\": [2, 7],\n",
    "                \"bias\": True,\n",
    "                \"padding\": [0, 3],\n",
    "            },\n",
    "        },\n",
    "        {\"class\": \"ReLU\", \"kargs\": {\"inplace\": True}},\n",
    "        {\"class\": \"BatchNorm2d\", \"kargs\": {\"num_features\": 80}},\n",
    "        {\"class\": \"Flatten\", \"kargs\": {}},\n",
    "        {\"class\": \"Linear\", \"kargs\": {\"in_features\": 20480, \"out_features\": 256}},\n",
    "        {\"class\": \"ReLU\", \"kargs\": {\"inplace\": True}},\n",
    "        {\"class\": \"BatchNorm1d\", \"kargs\": {\"num_features\": 256}},\n",
    "        {\"class\": \"Linear\", \"kargs\": {\"in_features\": 256, \"out_features\": 256}},\n",
    "    ],\n",
    "    \"NUM_LOGS_PER_EPOCH\": 10,\n",
    "    \"BEST_MODEL_PATH\": \"./best_model.pth\",\n",
    "    \"pickle_name\": \"oracle.Run1_framed_2000Examples_stratified_ds.2022A.pkl\",\n",
    "    \"domains_source\": [8, 32, 50],\n",
    "    \"domains_target\": [14, 20, 26, 38, 44],\n",
    "}\n"
   ]
  },
  {
   "cell_type": "code",
   "execution_count": 5,
   "id": "8fa1cc33",
   "metadata": {
    "execution": {
     "iopub.execute_input": "2022-03-06T04:06:20.491851Z",
     "iopub.status.busy": "2022-03-06T04:06:20.491583Z",
     "iopub.status.idle": "2022-03-06T04:06:20.503991Z",
     "shell.execute_reply": "2022-03-06T04:06:20.504286Z"
    },
    "papermill": {
     "duration": 0.025516,
     "end_time": "2022-03-06T04:06:20.504367",
     "exception": false,
     "start_time": "2022-03-06T04:06:20.478851",
     "status": "completed"
    },
    "tags": []
   },
   "outputs": [],
   "source": [
    "# Set this to True if you want to run this template directly\n",
    "STANDALONE = False\n",
    "if STANDALONE:\n",
    "    print(\"parameters not injected, running with standalone_parameters\")\n",
    "    parameters = standalone_parameters\n",
    "\n",
    "if not 'parameters' in locals() and not 'parameters' in globals():\n",
    "    raise Exception(\"Parameter injection failed\")\n",
    "\n",
    "#Use an easy dict for all the parameters\n",
    "p = EasyDict(parameters)\n",
    "\n",
    "supplied_keys = set(p.keys())\n",
    "\n",
    "if  supplied_keys != required_parameters:\n",
    "    print(\"Parameters are incorrect\")\n",
    "    if len(supplied_keys - required_parameters)>0: print(\"Shouldn't have:\", str(supplied_keys - required_parameters))\n",
    "    if len(required_parameters - supplied_keys)>0: print(\"Need to have:\", str(required_parameters - supplied_keys))\n",
    "    raise RuntimeError(\"Parameters are incorrect\")\n",
    "\n"
   ]
  },
  {
   "cell_type": "code",
   "execution_count": 6,
   "id": "3a028d58",
   "metadata": {
    "execution": {
     "iopub.execute_input": "2022-03-06T04:06:20.535288Z",
     "iopub.status.busy": "2022-03-06T04:06:20.534887Z",
     "iopub.status.idle": "2022-03-06T04:06:20.546283Z",
     "shell.execute_reply": "2022-03-06T04:06:20.546585Z"
    },
    "papermill": {
     "duration": 0.028074,
     "end_time": "2022-03-06T04:06:20.546686",
     "exception": false,
     "start_time": "2022-03-06T04:06:20.518612",
     "status": "completed"
    },
    "tags": []
   },
   "outputs": [],
   "source": [
    "###################################\n",
    "# Set the RNGs and make it all deterministic\n",
    "###################################\n",
    "np.random.seed(p.seed)\n",
    "random.seed(p.seed)\n",
    "torch.manual_seed(p.seed)\n",
    "\n",
    "torch.use_deterministic_algorithms(True) "
   ]
  },
  {
   "cell_type": "code",
   "execution_count": 7,
   "id": "b691acf6",
   "metadata": {
    "execution": {
     "iopub.execute_input": "2022-03-06T04:06:20.578556Z",
     "iopub.status.busy": "2022-03-06T04:06:20.578200Z",
     "iopub.status.idle": "2022-03-06T04:06:20.591102Z",
     "shell.execute_reply": "2022-03-06T04:06:20.590858Z"
    },
    "papermill": {
     "duration": 0.029637,
     "end_time": "2022-03-06T04:06:20.591160",
     "exception": false,
     "start_time": "2022-03-06T04:06:20.561523",
     "status": "completed"
    },
    "tags": []
   },
   "outputs": [],
   "source": [
    "###########################################\n",
    "# The stratified datasets honor this\n",
    "###########################################\n",
    "torch.set_default_dtype(eval(p.torch_default_dtype))"
   ]
  },
  {
   "cell_type": "code",
   "execution_count": 8,
   "id": "b5fba671",
   "metadata": {
    "execution": {
     "iopub.execute_input": "2022-03-06T04:06:20.612997Z",
     "iopub.status.busy": "2022-03-06T04:06:20.612724Z",
     "iopub.status.idle": "2022-03-06T04:06:20.657879Z",
     "shell.execute_reply": "2022-03-06T04:06:20.658216Z"
    },
    "papermill": {
     "duration": 0.057258,
     "end_time": "2022-03-06T04:06:20.658329",
     "exception": false,
     "start_time": "2022-03-06T04:06:20.601071",
     "status": "completed"
    },
    "tags": []
   },
   "outputs": [],
   "source": [
    "###################################\n",
    "# Build the network(s)\n",
    "# Note: It's critical to do this AFTER setting the RNG\n",
    "# (This is due to the randomized initial weights)\n",
    "###################################\n",
    "x_net = build_sequential(p.x_net)"
   ]
  },
  {
   "cell_type": "code",
   "execution_count": 9,
   "id": "5d7e61cc",
   "metadata": {
    "execution": {
     "iopub.execute_input": "2022-03-06T04:06:20.686017Z",
     "iopub.status.busy": "2022-03-06T04:06:20.685745Z",
     "iopub.status.idle": "2022-03-06T04:06:20.698562Z",
     "shell.execute_reply": "2022-03-06T04:06:20.698829Z"
    },
    "papermill": {
     "duration": 0.025543,
     "end_time": "2022-03-06T04:06:20.698898",
     "exception": false,
     "start_time": "2022-03-06T04:06:20.673355",
     "status": "completed"
    },
    "tags": []
   },
   "outputs": [],
   "source": [
    "start_time_secs = time.time()"
   ]
  },
  {
   "cell_type": "code",
   "execution_count": 10,
   "id": "fd5442bc",
   "metadata": {
    "execution": {
     "iopub.execute_input": "2022-03-06T04:06:20.739837Z",
     "iopub.status.busy": "2022-03-06T04:06:20.738505Z",
     "iopub.status.idle": "2022-03-06T04:06:21.970129Z",
     "shell.execute_reply": "2022-03-06T04:06:21.970358Z"
    },
    "papermill": {
     "duration": 1.252773,
     "end_time": "2022-03-06T04:06:21.970448",
     "exception": false,
     "start_time": "2022-03-06T04:06:20.717675",
     "status": "completed"
    },
    "tags": []
   },
   "outputs": [],
   "source": [
    "###################################\n",
    "# Build the dataset\n",
    "###################################\n",
    "\n",
    "if p.x_transforms_source == []: x_transform_source = None\n",
    "else: x_transform_source = get_chained_transform(p.x_transforms_source) \n",
    "\n",
    "if p.x_transforms_target == []: x_transform_target = None\n",
    "else: x_transform_target = get_chained_transform(p.x_transforms_target)\n",
    "\n",
    "if p.episode_transforms_source == []: episode_transform_source = None\n",
    "else: raise Exception(\"episode_transform_source not implemented\")\n",
    "\n",
    "if p.episode_transforms_target == []: episode_transform_target = None\n",
    "else: raise Exception(\"episode_transform_target not implemented\")\n",
    "\n",
    "\n",
    "eaf_source = Episodic_Accessor_Factory(\n",
    "    labels=p.labels_source,\n",
    "    domains=p.domains_source,\n",
    "    num_examples_per_domain_per_label=p.num_examples_per_domain_per_label_source,\n",
    "    iterator_seed=p.seed,\n",
    "    dataset_seed=p.dataset_seed,\n",
    "    n_shot=p.n_shot,\n",
    "    n_way=p.n_way,\n",
    "    n_query=p.n_query,\n",
    "    train_val_test_k_factors=(p.train_k_factor,p.val_k_factor,p.test_k_factor),\n",
    "    pickle_path=os.path.join(get_datasets_base_path(), p.pickle_name),\n",
    "    x_transform_func=x_transform_source,\n",
    "    example_transform_func=episode_transform_source,\n",
    "    \n",
    ")\n",
    "train_original_source, val_original_source, test_original_source = eaf_source.get_train(), eaf_source.get_val(), eaf_source.get_test()\n",
    "\n",
    "\n",
    "eaf_target = Episodic_Accessor_Factory(\n",
    "    labels=p.labels_target,\n",
    "    domains=p.domains_target,\n",
    "    num_examples_per_domain_per_label=p.num_examples_per_domain_per_label_target,\n",
    "    iterator_seed=p.seed,\n",
    "    dataset_seed=p.dataset_seed,\n",
    "    n_shot=p.n_shot,\n",
    "    n_way=p.n_way,\n",
    "    n_query=p.n_query,\n",
    "    train_val_test_k_factors=(p.train_k_factor,p.val_k_factor,p.test_k_factor),\n",
    "    pickle_path=os.path.join(get_datasets_base_path(), p.pickle_name),\n",
    "    x_transform_func=x_transform_target,\n",
    "    example_transform_func=episode_transform_target,\n",
    ")\n",
    "train_original_target, val_original_target, test_original_target = eaf_target.get_train(), eaf_target.get_val(), eaf_target.get_test()\n",
    "\n",
    "\n",
    "transform_lambda = lambda ex: ex[1] # Original is (<domain>, <episode>) so we strip down to episode only\n",
    "\n",
    "train_processed_source = Lazy_Iterable_Wrapper(train_original_source, transform_lambda)\n",
    "val_processed_source   = Lazy_Iterable_Wrapper(val_original_source, transform_lambda)\n",
    "test_processed_source  = Lazy_Iterable_Wrapper(test_original_source, transform_lambda)\n",
    "\n",
    "train_processed_target = Lazy_Iterable_Wrapper(train_original_target, transform_lambda)\n",
    "val_processed_target   = Lazy_Iterable_Wrapper(val_original_target, transform_lambda)\n",
    "test_processed_target  = Lazy_Iterable_Wrapper(test_original_target, transform_lambda)\n",
    "\n",
    "datasets = EasyDict({\n",
    "    \"source\": {\n",
    "        \"original\": {\"train\":train_original_source, \"val\":val_original_source, \"test\":test_original_source},\n",
    "        \"processed\": {\"train\":train_processed_source, \"val\":val_processed_source, \"test\":test_processed_source}\n",
    "    },\n",
    "    \"target\": {\n",
    "        \"original\": {\"train\":train_original_target, \"val\":val_original_target, \"test\":test_original_target},\n",
    "        \"processed\": {\"train\":train_processed_target, \"val\":val_processed_target, \"test\":test_processed_target}\n",
    "    },\n",
    "})"
   ]
  },
  {
   "cell_type": "code",
   "execution_count": 11,
   "id": "296189d9",
   "metadata": {
    "execution": {
     "iopub.execute_input": "2022-03-06T04:06:21.997236Z",
     "iopub.status.busy": "2022-03-06T04:06:21.996807Z",
     "iopub.status.idle": "2022-03-06T04:06:26.002316Z",
     "shell.execute_reply": "2022-03-06T04:06:26.002590Z"
    },
    "papermill": {
     "duration": 4.018941,
     "end_time": "2022-03-06T04:06:26.002671",
     "exception": false,
     "start_time": "2022-03-06T04:06:21.983730",
     "status": "completed"
    },
    "tags": []
   },
   "outputs": [
    {
     "name": "stdout",
     "output_type": "stream",
     "text": [
      "Visually inspect these to see if they line up with expected values given the transforms\n",
      "x_transforms_source []\n",
      "x_transforms_target []\n",
      "Average magnitude, source: 0.0053451685\n",
      "Average power, source: 3.0088388e-05\n"
     ]
    },
    {
     "name": "stdout",
     "output_type": "stream",
     "text": [
      "Average magnitude, target: 0.0031388113\n",
      "Average power, target: 1.078867e-05\n"
     ]
    }
   ],
   "source": [
    "# Some quick unit tests on the data\n",
    "from steves_utils.transforms import get_average_power, get_average_magnitude\n",
    "\n",
    "q_x, q_y, s_x, s_y, truth = next(iter(train_processed_source))\n",
    "\n",
    "assert q_x.dtype == eval(p.torch_default_dtype)\n",
    "assert s_x.dtype == eval(p.torch_default_dtype)\n",
    "\n",
    "print(\"Visually inspect these to see if they line up with expected values given the transforms\")\n",
    "print('x_transforms_source', p.x_transforms_source)\n",
    "print('x_transforms_target', p.x_transforms_target)\n",
    "print(\"Average magnitude, source:\", get_average_magnitude(q_x[0].numpy()))\n",
    "print(\"Average power, source:\", get_average_power(q_x[0].numpy()))\n",
    "\n",
    "q_x, q_y, s_x, s_y, truth = next(iter(train_processed_target))\n",
    "print(\"Average magnitude, target:\", get_average_magnitude(q_x[0].numpy()))\n",
    "print(\"Average power, target:\", get_average_power(q_x[0].numpy()))\n"
   ]
  },
  {
   "cell_type": "code",
   "execution_count": 12,
   "id": "bbdacba1",
   "metadata": {
    "execution": {
     "iopub.execute_input": "2022-03-06T04:06:26.030114Z",
     "iopub.status.busy": "2022-03-06T04:06:26.029831Z",
     "iopub.status.idle": "2022-03-06T04:06:26.103051Z",
     "shell.execute_reply": "2022-03-06T04:06:26.103374Z"
    },
    "papermill": {
     "duration": 0.087141,
     "end_time": "2022-03-06T04:06:26.103482",
     "exception": false,
     "start_time": "2022-03-06T04:06:26.016341",
     "status": "completed"
    },
    "tags": []
   },
   "outputs": [
    {
     "name": "stdout",
     "output_type": "stream",
     "text": [
      "(2, 256)\n"
     ]
    }
   ],
   "source": [
    "###################################\n",
    "# Build the model\n",
    "###################################\n",
    "model = Steves_Prototypical_Network(x_net, device=p.device, x_shape=(2,256))\n",
    "optimizer = Adam(params=model.parameters(), lr=p.lr)"
   ]
  },
  {
   "cell_type": "code",
   "execution_count": 13,
   "id": "22b39ac5",
   "metadata": {
    "execution": {
     "iopub.execute_input": "2022-03-06T04:06:26.134118Z",
     "iopub.status.busy": "2022-03-06T04:06:26.133846Z",
     "iopub.status.idle": "2022-03-06T04:53:37.179131Z",
     "shell.execute_reply": "2022-03-06T04:53:37.178881Z"
    },
    "papermill": {
     "duration": 2831.059618,
     "end_time": "2022-03-06T04:53:37.179195",
     "exception": false,
     "start_time": "2022-03-06T04:06:26.119577",
     "status": "completed"
    },
    "tags": []
   },
   "outputs": [
    {
     "name": "stdout",
     "output_type": "stream",
     "text": [
      "epoch: 1, [batch: 1 / 420], examples_per_second: 273.7571, train_label_loss: 2.3700, \n"
     ]
    },
    {
     "name": "stdout",
     "output_type": "stream",
     "text": [
      "epoch: 1, [batch: 42 / 420], examples_per_second: 510.6088, train_label_loss: 1.2223, \n"
     ]
    },
    {
     "name": "stdout",
     "output_type": "stream",
     "text": [
      "epoch: 1, [batch: 84 / 420], examples_per_second: 508.8957, train_label_loss: 0.7805, \n"
     ]
    },
    {
     "name": "stdout",
     "output_type": "stream",
     "text": [
      "epoch: 1, [batch: 126 / 420], examples_per_second: 504.3636, train_label_loss: 1.0776, \n"
     ]
    },
    {
     "name": "stdout",
     "output_type": "stream",
     "text": [
      "epoch: 1, [batch: 168 / 420], examples_per_second: 506.8084, train_label_loss: 0.5847, \n"
     ]
    },
    {
     "name": "stdout",
     "output_type": "stream",
     "text": [
      "epoch: 1, [batch: 210 / 420], examples_per_second: 511.4246, train_label_loss: 0.3365, \n"
     ]
    },
    {
     "name": "stdout",
     "output_type": "stream",
     "text": [
      "epoch: 1, [batch: 252 / 420], examples_per_second: 465.4779, train_label_loss: 1.1533, \n"
     ]
    },
    {
     "name": "stdout",
     "output_type": "stream",
     "text": [
      "epoch: 1, [batch: 294 / 420], examples_per_second: 462.1302, train_label_loss: 0.3717, \n"
     ]
    },
    {
     "name": "stdout",
     "output_type": "stream",
     "text": [
      "epoch: 1, [batch: 336 / 420], examples_per_second: 465.5951, train_label_loss: 0.2206, \n"
     ]
    },
    {
     "name": "stdout",
     "output_type": "stream",
     "text": [
      "epoch: 1, [batch: 378 / 420], examples_per_second: 460.1468, train_label_loss: 0.3910, \n"
     ]
    },
    {
     "name": "stdout",
     "output_type": "stream",
     "text": [
      "=============================================================\n",
      "epoch: 1, source_val_acc_label: 0.7444, target_val_acc_label: 0.6582, source_val_label_loss: 4.9722, target_val_label_loss: 6.9569, \n",
      "=============================================================\n"
     ]
    },
    {
     "name": "stdout",
     "output_type": "stream",
     "text": [
      "New best\n"
     ]
    },
    {
     "name": "stdout",
     "output_type": "stream",
     "text": [
      "epoch: 2, [batch: 1 / 420], examples_per_second: 4.2287, train_label_loss: 0.4742, \n"
     ]
    },
    {
     "name": "stdout",
     "output_type": "stream",
     "text": [
      "epoch: 2, [batch: 42 / 420], examples_per_second: 463.9725, train_label_loss: 1.4640, \n"
     ]
    },
    {
     "name": "stdout",
     "output_type": "stream",
     "text": [
      "epoch: 2, [batch: 84 / 420], examples_per_second: 460.4975, train_label_loss: 1.1852, \n"
     ]
    },
    {
     "name": "stdout",
     "output_type": "stream",
     "text": [
      "epoch: 2, [batch: 126 / 420], examples_per_second: 468.4179, train_label_loss: 0.7087, \n"
     ]
    },
    {
     "name": "stdout",
     "output_type": "stream",
     "text": [
      "epoch: 2, [batch: 168 / 420], examples_per_second: 467.6752, train_label_loss: 0.9253, \n"
     ]
    },
    {
     "name": "stdout",
     "output_type": "stream",
     "text": [
      "epoch: 2, [batch: 210 / 420], examples_per_second: 465.9116, train_label_loss: 0.9794, \n"
     ]
    },
    {
     "name": "stdout",
     "output_type": "stream",
     "text": [
      "epoch: 2, [batch: 252 / 420], examples_per_second: 465.6506, train_label_loss: 0.7070, \n"
     ]
    },
    {
     "name": "stdout",
     "output_type": "stream",
     "text": [
      "epoch: 2, [batch: 294 / 420], examples_per_second: 466.2172, train_label_loss: 0.5755, \n"
     ]
    },
    {
     "name": "stdout",
     "output_type": "stream",
     "text": [
      "epoch: 2, [batch: 336 / 420], examples_per_second: 465.2052, train_label_loss: 1.0274, \n"
     ]
    },
    {
     "name": "stdout",
     "output_type": "stream",
     "text": [
      "epoch: 2, [batch: 378 / 420], examples_per_second: 466.6429, train_label_loss: 0.3085, \n"
     ]
    },
    {
     "name": "stdout",
     "output_type": "stream",
     "text": [
      "=============================================================\n",
      "epoch: 2, source_val_acc_label: 0.8028, target_val_acc_label: 0.6820, source_val_label_loss: 0.5615, target_val_label_loss: 1.1575, \n",
      "=============================================================\n"
     ]
    },
    {
     "name": "stdout",
     "output_type": "stream",
     "text": [
      "New best\n"
     ]
    },
    {
     "name": "stdout",
     "output_type": "stream",
     "text": [
      "epoch: 3, [batch: 1 / 420], examples_per_second: 4.3884, train_label_loss: 0.5321, \n"
     ]
    },
    {
     "name": "stdout",
     "output_type": "stream",
     "text": [
      "epoch: 3, [batch: 42 / 420], examples_per_second: 521.9868, train_label_loss: 0.5529, \n"
     ]
    },
    {
     "name": "stdout",
     "output_type": "stream",
     "text": [
      "epoch: 3, [batch: 84 / 420], examples_per_second: 536.9314, train_label_loss: 0.9060, \n"
     ]
    },
    {
     "name": "stdout",
     "output_type": "stream",
     "text": [
      "epoch: 3, [batch: 126 / 420], examples_per_second: 544.2889, train_label_loss: 0.5652, \n"
     ]
    },
    {
     "name": "stdout",
     "output_type": "stream",
     "text": [
      "epoch: 3, [batch: 168 / 420], examples_per_second: 537.5623, train_label_loss: 0.6591, \n"
     ]
    },
    {
     "name": "stdout",
     "output_type": "stream",
     "text": [
      "epoch: 3, [batch: 210 / 420], examples_per_second: 559.1905, train_label_loss: 0.6436, \n"
     ]
    },
    {
     "name": "stdout",
     "output_type": "stream",
     "text": [
      "epoch: 3, [batch: 252 / 420], examples_per_second: 542.8211, train_label_loss: 0.6854, \n"
     ]
    },
    {
     "name": "stdout",
     "output_type": "stream",
     "text": [
      "epoch: 3, [batch: 294 / 420], examples_per_second: 531.9036, train_label_loss: 0.4213, \n"
     ]
    },
    {
     "name": "stdout",
     "output_type": "stream",
     "text": [
      "epoch: 3, [batch: 336 / 420], examples_per_second: 507.8791, train_label_loss: 0.4815, \n"
     ]
    },
    {
     "name": "stdout",
     "output_type": "stream",
     "text": [
      "epoch: 3, [batch: 378 / 420], examples_per_second: 504.8816, train_label_loss: 0.3216, \n"
     ]
    },
    {
     "name": "stdout",
     "output_type": "stream",
     "text": [
      "=============================================================\n",
      "epoch: 3, source_val_acc_label: 0.8118, target_val_acc_label: 0.7030, source_val_label_loss: 0.5260, target_val_label_loss: 1.1135, \n",
      "=============================================================\n"
     ]
    },
    {
     "name": "stdout",
     "output_type": "stream",
     "text": [
      "New best\n"
     ]
    },
    {
     "name": "stdout",
     "output_type": "stream",
     "text": [
      "epoch: 4, [batch: 1 / 420], examples_per_second: 4.4129, train_label_loss: 0.5973, \n"
     ]
    },
    {
     "name": "stdout",
     "output_type": "stream",
     "text": [
      "epoch: 4, [batch: 42 / 420], examples_per_second: 465.6906, train_label_loss: 0.7420, \n"
     ]
    },
    {
     "name": "stdout",
     "output_type": "stream",
     "text": [
      "epoch: 4, [batch: 84 / 420], examples_per_second: 465.1973, train_label_loss: 0.6527, \n"
     ]
    },
    {
     "name": "stdout",
     "output_type": "stream",
     "text": [
      "epoch: 4, [batch: 126 / 420], examples_per_second: 469.3618, train_label_loss: 0.8637, \n"
     ]
    },
    {
     "name": "stdout",
     "output_type": "stream",
     "text": [
      "epoch: 4, [batch: 168 / 420], examples_per_second: 463.3729, train_label_loss: 0.4905, \n"
     ]
    },
    {
     "name": "stdout",
     "output_type": "stream",
     "text": [
      "epoch: 4, [batch: 210 / 420], examples_per_second: 469.2044, train_label_loss: 0.1574, \n"
     ]
    },
    {
     "name": "stdout",
     "output_type": "stream",
     "text": [
      "epoch: 4, [batch: 252 / 420], examples_per_second: 463.9655, train_label_loss: 0.4310, \n"
     ]
    },
    {
     "name": "stdout",
     "output_type": "stream",
     "text": [
      "epoch: 4, [batch: 294 / 420], examples_per_second: 464.8997, train_label_loss: 0.3301, \n"
     ]
    },
    {
     "name": "stdout",
     "output_type": "stream",
     "text": [
      "epoch: 4, [batch: 336 / 420], examples_per_second: 462.1870, train_label_loss: 0.8444, \n"
     ]
    },
    {
     "name": "stdout",
     "output_type": "stream",
     "text": [
      "epoch: 4, [batch: 378 / 420], examples_per_second: 462.3331, train_label_loss: 0.3952, \n"
     ]
    },
    {
     "name": "stdout",
     "output_type": "stream",
     "text": [
      "=============================================================\n",
      "epoch: 4, source_val_acc_label: 0.8269, target_val_acc_label: 0.6929, source_val_label_loss: 0.4881, target_val_label_loss: 1.0436, \n",
      "=============================================================\n"
     ]
    },
    {
     "name": "stdout",
     "output_type": "stream",
     "text": [
      "New best\n"
     ]
    },
    {
     "name": "stdout",
     "output_type": "stream",
     "text": [
      "epoch: 5, [batch: 1 / 420], examples_per_second: 4.2337, train_label_loss: 0.2428, \n"
     ]
    },
    {
     "name": "stdout",
     "output_type": "stream",
     "text": [
      "epoch: 5, [batch: 42 / 420], examples_per_second: 465.7588, train_label_loss: 0.6862, \n"
     ]
    },
    {
     "name": "stdout",
     "output_type": "stream",
     "text": [
      "epoch: 5, [batch: 84 / 420], examples_per_second: 464.3530, train_label_loss: 0.2180, \n"
     ]
    },
    {
     "name": "stdout",
     "output_type": "stream",
     "text": [
      "epoch: 5, [batch: 126 / 420], examples_per_second: 461.7860, train_label_loss: 0.3955, \n"
     ]
    },
    {
     "name": "stdout",
     "output_type": "stream",
     "text": [
      "epoch: 5, [batch: 168 / 420], examples_per_second: 464.7610, train_label_loss: 0.3942, \n"
     ]
    },
    {
     "name": "stdout",
     "output_type": "stream",
     "text": [
      "epoch: 5, [batch: 210 / 420], examples_per_second: 462.3683, train_label_loss: 0.2754, \n"
     ]
    },
    {
     "name": "stdout",
     "output_type": "stream",
     "text": [
      "epoch: 5, [batch: 252 / 420], examples_per_second: 464.3561, train_label_loss: 0.1980, \n"
     ]
    },
    {
     "name": "stdout",
     "output_type": "stream",
     "text": [
      "epoch: 5, [batch: 294 / 420], examples_per_second: 483.4690, train_label_loss: 0.4556, \n"
     ]
    },
    {
     "name": "stdout",
     "output_type": "stream",
     "text": [
      "epoch: 5, [batch: 336 / 420], examples_per_second: 505.6933, train_label_loss: 0.5593, \n"
     ]
    },
    {
     "name": "stdout",
     "output_type": "stream",
     "text": [
      "epoch: 5, [batch: 378 / 420], examples_per_second: 508.9389, train_label_loss: 0.4075, \n"
     ]
    },
    {
     "name": "stdout",
     "output_type": "stream",
     "text": [
      "=============================================================\n",
      "epoch: 5, source_val_acc_label: 0.8198, target_val_acc_label: 0.6847, source_val_label_loss: 0.4936, target_val_label_loss: 1.0776, \n",
      "=============================================================\n"
     ]
    },
    {
     "name": "stdout",
     "output_type": "stream",
     "text": [
      "epoch: 6, [batch: 1 / 420], examples_per_second: 4.6702, train_label_loss: 0.3256, \n"
     ]
    },
    {
     "name": "stdout",
     "output_type": "stream",
     "text": [
      "epoch: 6, [batch: 42 / 420], examples_per_second: 515.4217, train_label_loss: 0.4426, \n"
     ]
    },
    {
     "name": "stdout",
     "output_type": "stream",
     "text": [
      "epoch: 6, [batch: 84 / 420], examples_per_second: 552.8229, train_label_loss: 0.4656, \n"
     ]
    },
    {
     "name": "stdout",
     "output_type": "stream",
     "text": [
      "epoch: 6, [batch: 126 / 420], examples_per_second: 467.6039, train_label_loss: 0.3398, \n"
     ]
    },
    {
     "name": "stdout",
     "output_type": "stream",
     "text": [
      "epoch: 6, [batch: 168 / 420], examples_per_second: 463.0959, train_label_loss: 0.1773, \n"
     ]
    },
    {
     "name": "stdout",
     "output_type": "stream",
     "text": [
      "epoch: 6, [batch: 210 / 420], examples_per_second: 460.8834, train_label_loss: 0.4758, \n"
     ]
    },
    {
     "name": "stdout",
     "output_type": "stream",
     "text": [
      "epoch: 6, [batch: 252 / 420], examples_per_second: 464.5744, train_label_loss: 0.3471, \n"
     ]
    },
    {
     "name": "stdout",
     "output_type": "stream",
     "text": [
      "epoch: 6, [batch: 294 / 420], examples_per_second: 461.8357, train_label_loss: 0.6313, \n"
     ]
    },
    {
     "name": "stdout",
     "output_type": "stream",
     "text": [
      "epoch: 6, [batch: 336 / 420], examples_per_second: 464.4246, train_label_loss: 0.4343, \n"
     ]
    },
    {
     "name": "stdout",
     "output_type": "stream",
     "text": [
      "epoch: 6, [batch: 378 / 420], examples_per_second: 463.8761, train_label_loss: 0.5516, \n"
     ]
    },
    {
     "name": "stdout",
     "output_type": "stream",
     "text": [
      "=============================================================\n",
      "epoch: 6, source_val_acc_label: 0.8378, target_val_acc_label: 0.7303, source_val_label_loss: 0.4595, target_val_label_loss: 0.9607, \n",
      "=============================================================\n"
     ]
    },
    {
     "name": "stdout",
     "output_type": "stream",
     "text": [
      "New best\n"
     ]
    },
    {
     "name": "stdout",
     "output_type": "stream",
     "text": [
      "epoch: 7, [batch: 1 / 420], examples_per_second: 4.2413, train_label_loss: 0.2187, \n"
     ]
    },
    {
     "name": "stdout",
     "output_type": "stream",
     "text": [
      "epoch: 7, [batch: 42 / 420], examples_per_second: 463.0368, train_label_loss: 0.4880, \n"
     ]
    },
    {
     "name": "stdout",
     "output_type": "stream",
     "text": [
      "epoch: 7, [batch: 84 / 420], examples_per_second: 463.9760, train_label_loss: 0.5319, \n"
     ]
    },
    {
     "name": "stdout",
     "output_type": "stream",
     "text": [
      "epoch: 7, [batch: 126 / 420], examples_per_second: 463.8730, train_label_loss: 0.4946, \n"
     ]
    },
    {
     "name": "stdout",
     "output_type": "stream",
     "text": [
      "epoch: 7, [batch: 168 / 420], examples_per_second: 464.5900, train_label_loss: 0.2656, \n"
     ]
    },
    {
     "name": "stdout",
     "output_type": "stream",
     "text": [
      "epoch: 7, [batch: 210 / 420], examples_per_second: 460.3032, train_label_loss: 0.1537, \n"
     ]
    },
    {
     "name": "stdout",
     "output_type": "stream",
     "text": [
      "epoch: 7, [batch: 252 / 420], examples_per_second: 464.7220, train_label_loss: 0.4851, \n"
     ]
    },
    {
     "name": "stdout",
     "output_type": "stream",
     "text": [
      "epoch: 7, [batch: 294 / 420], examples_per_second: 462.4014, train_label_loss: 0.5888, \n"
     ]
    },
    {
     "name": "stdout",
     "output_type": "stream",
     "text": [
      "epoch: 7, [batch: 336 / 420], examples_per_second: 464.2815, train_label_loss: 0.5298, \n"
     ]
    },
    {
     "name": "stdout",
     "output_type": "stream",
     "text": [
      "epoch: 7, [batch: 378 / 420], examples_per_second: 478.0578, train_label_loss: 0.5162, \n"
     ]
    },
    {
     "name": "stdout",
     "output_type": "stream",
     "text": [
      "=============================================================\n",
      "epoch: 7, source_val_acc_label: 0.8589, target_val_acc_label: 0.7445, source_val_label_loss: 0.3988, target_val_label_loss: 0.9786, \n",
      "=============================================================\n"
     ]
    },
    {
     "name": "stdout",
     "output_type": "stream",
     "text": [
      "epoch: 8, [batch: 1 / 420], examples_per_second: 4.6652, train_label_loss: 0.2466, \n"
     ]
    },
    {
     "name": "stdout",
     "output_type": "stream",
     "text": [
      "epoch: 8, [batch: 42 / 420], examples_per_second: 545.7027, train_label_loss: 0.3947, \n"
     ]
    },
    {
     "name": "stdout",
     "output_type": "stream",
     "text": [
      "epoch: 8, [batch: 84 / 420], examples_per_second: 557.9843, train_label_loss: 0.2635, \n"
     ]
    },
    {
     "name": "stdout",
     "output_type": "stream",
     "text": [
      "epoch: 8, [batch: 126 / 420], examples_per_second: 552.7856, train_label_loss: 0.6546, \n"
     ]
    },
    {
     "name": "stdout",
     "output_type": "stream",
     "text": [
      "epoch: 8, [batch: 168 / 420], examples_per_second: 520.9109, train_label_loss: 0.1681, \n"
     ]
    },
    {
     "name": "stdout",
     "output_type": "stream",
     "text": [
      "epoch: 8, [batch: 210 / 420], examples_per_second: 504.7687, train_label_loss: 0.6596, \n"
     ]
    },
    {
     "name": "stdout",
     "output_type": "stream",
     "text": [
      "epoch: 8, [batch: 252 / 420], examples_per_second: 508.7535, train_label_loss: 0.7806, \n"
     ]
    },
    {
     "name": "stdout",
     "output_type": "stream",
     "text": [
      "epoch: 8, [batch: 294 / 420], examples_per_second: 504.1241, train_label_loss: 0.5272, \n"
     ]
    },
    {
     "name": "stdout",
     "output_type": "stream",
     "text": [
      "epoch: 8, [batch: 336 / 420], examples_per_second: 568.6788, train_label_loss: 0.2524, \n"
     ]
    },
    {
     "name": "stdout",
     "output_type": "stream",
     "text": [
      "epoch: 8, [batch: 378 / 420], examples_per_second: 463.6806, train_label_loss: 0.3676, \n"
     ]
    },
    {
     "name": "stdout",
     "output_type": "stream",
     "text": [
      "=============================================================\n",
      "epoch: 8, source_val_acc_label: 0.8712, target_val_acc_label: 0.7478, source_val_label_loss: 0.3724, target_val_label_loss: 1.0186, \n",
      "=============================================================\n"
     ]
    },
    {
     "name": "stdout",
     "output_type": "stream",
     "text": [
      "epoch: 9, [batch: 1 / 420], examples_per_second: 4.2400, train_label_loss: 0.2440, \n"
     ]
    },
    {
     "name": "stdout",
     "output_type": "stream",
     "text": [
      "epoch: 9, [batch: 42 / 420], examples_per_second: 465.6346, train_label_loss: 0.2193, \n"
     ]
    },
    {
     "name": "stdout",
     "output_type": "stream",
     "text": [
      "epoch: 9, [batch: 84 / 420], examples_per_second: 466.7927, train_label_loss: 0.2609, \n"
     ]
    },
    {
     "name": "stdout",
     "output_type": "stream",
     "text": [
      "epoch: 9, [batch: 126 / 420], examples_per_second: 463.9986, train_label_loss: 0.2197, \n"
     ]
    },
    {
     "name": "stdout",
     "output_type": "stream",
     "text": [
      "epoch: 9, [batch: 168 / 420], examples_per_second: 463.2461, train_label_loss: 0.2547, \n"
     ]
    },
    {
     "name": "stdout",
     "output_type": "stream",
     "text": [
      "epoch: 9, [batch: 210 / 420], examples_per_second: 482.3478, train_label_loss: 0.4705, \n"
     ]
    },
    {
     "name": "stdout",
     "output_type": "stream",
     "text": [
      "epoch: 9, [batch: 252 / 420], examples_per_second: 493.3556, train_label_loss: 0.2440, \n"
     ]
    },
    {
     "name": "stdout",
     "output_type": "stream",
     "text": [
      "epoch: 9, [batch: 294 / 420], examples_per_second: 495.2565, train_label_loss: 0.2460, \n"
     ]
    },
    {
     "name": "stdout",
     "output_type": "stream",
     "text": [
      "epoch: 9, [batch: 336 / 420], examples_per_second: 486.1308, train_label_loss: 0.3675, \n"
     ]
    },
    {
     "name": "stdout",
     "output_type": "stream",
     "text": [
      "epoch: 9, [batch: 378 / 420], examples_per_second: 486.9047, train_label_loss: 0.3789, \n"
     ]
    },
    {
     "name": "stdout",
     "output_type": "stream",
     "text": [
      "=============================================================\n",
      "epoch: 9, source_val_acc_label: 0.8760, target_val_acc_label: 0.7847, source_val_label_loss: 0.3593, target_val_label_loss: 0.8970, \n",
      "=============================================================\n"
     ]
    },
    {
     "name": "stdout",
     "output_type": "stream",
     "text": [
      "New best\n"
     ]
    },
    {
     "name": "stdout",
     "output_type": "stream",
     "text": [
      "epoch: 10, [batch: 1 / 420], examples_per_second: 4.5534, train_label_loss: 0.2490, \n"
     ]
    },
    {
     "name": "stdout",
     "output_type": "stream",
     "text": [
      "epoch: 10, [batch: 42 / 420], examples_per_second: 462.2606, train_label_loss: 0.2361, \n"
     ]
    },
    {
     "name": "stdout",
     "output_type": "stream",
     "text": [
      "epoch: 10, [batch: 84 / 420], examples_per_second: 463.0498, train_label_loss: 0.3323, \n"
     ]
    },
    {
     "name": "stdout",
     "output_type": "stream",
     "text": [
      "epoch: 10, [batch: 126 / 420], examples_per_second: 464.4945, train_label_loss: 0.1209, \n"
     ]
    },
    {
     "name": "stdout",
     "output_type": "stream",
     "text": [
      "epoch: 10, [batch: 168 / 420], examples_per_second: 463.0567, train_label_loss: 0.4398, \n"
     ]
    },
    {
     "name": "stdout",
     "output_type": "stream",
     "text": [
      "epoch: 10, [batch: 210 / 420], examples_per_second: 499.1942, train_label_loss: 0.3077, \n"
     ]
    },
    {
     "name": "stdout",
     "output_type": "stream",
     "text": [
      "epoch: 10, [batch: 252 / 420], examples_per_second: 507.8452, train_label_loss: 0.1623, \n"
     ]
    },
    {
     "name": "stdout",
     "output_type": "stream",
     "text": [
      "epoch: 10, [batch: 294 / 420], examples_per_second: 507.2941, train_label_loss: 0.0631, \n"
     ]
    },
    {
     "name": "stdout",
     "output_type": "stream",
     "text": [
      "epoch: 10, [batch: 336 / 420], examples_per_second: 517.2899, train_label_loss: 0.1456, \n"
     ]
    },
    {
     "name": "stdout",
     "output_type": "stream",
     "text": [
      "epoch: 10, [batch: 378 / 420], examples_per_second: 508.6544, train_label_loss: 0.3063, \n"
     ]
    },
    {
     "name": "stdout",
     "output_type": "stream",
     "text": [
      "=============================================================\n",
      "epoch: 10, source_val_acc_label: 0.9078, target_val_acc_label: 0.8325, source_val_label_loss: 0.2700, target_val_label_loss: 0.7208, \n",
      "=============================================================\n"
     ]
    },
    {
     "name": "stdout",
     "output_type": "stream",
     "text": [
      "New best\n"
     ]
    },
    {
     "name": "stdout",
     "output_type": "stream",
     "text": [
      "epoch: 11, [batch: 1 / 420], examples_per_second: 4.6888, train_label_loss: 0.2268, \n"
     ]
    },
    {
     "name": "stdout",
     "output_type": "stream",
     "text": [
      "epoch: 11, [batch: 42 / 420], examples_per_second: 466.3398, train_label_loss: 0.2476, \n"
     ]
    },
    {
     "name": "stdout",
     "output_type": "stream",
     "text": [
      "epoch: 11, [batch: 84 / 420], examples_per_second: 467.0583, train_label_loss: 0.3410, \n"
     ]
    },
    {
     "name": "stdout",
     "output_type": "stream",
     "text": [
      "epoch: 11, [batch: 126 / 420], examples_per_second: 467.7989, train_label_loss: 0.3319, \n"
     ]
    },
    {
     "name": "stdout",
     "output_type": "stream",
     "text": [
      "epoch: 11, [batch: 168 / 420], examples_per_second: 467.6495, train_label_loss: 0.1826, \n"
     ]
    },
    {
     "name": "stdout",
     "output_type": "stream",
     "text": [
      "epoch: 11, [batch: 210 / 420], examples_per_second: 466.4846, train_label_loss: 0.3724, \n"
     ]
    },
    {
     "name": "stdout",
     "output_type": "stream",
     "text": [
      "epoch: 11, [batch: 252 / 420], examples_per_second: 470.4237, train_label_loss: 0.2326, \n"
     ]
    },
    {
     "name": "stdout",
     "output_type": "stream",
     "text": [
      "epoch: 11, [batch: 294 / 420], examples_per_second: 466.1611, train_label_loss: 0.1499, \n"
     ]
    },
    {
     "name": "stdout",
     "output_type": "stream",
     "text": [
      "epoch: 11, [batch: 336 / 420], examples_per_second: 466.5074, train_label_loss: 0.2845, \n"
     ]
    },
    {
     "name": "stdout",
     "output_type": "stream",
     "text": [
      "epoch: 11, [batch: 378 / 420], examples_per_second: 465.7008, train_label_loss: 0.1178, \n"
     ]
    },
    {
     "name": "stdout",
     "output_type": "stream",
     "text": [
      "=============================================================\n",
      "epoch: 11, source_val_acc_label: 0.9153, target_val_acc_label: 0.8398, source_val_label_loss: 0.2486, target_val_label_loss: 0.6915, \n",
      "=============================================================\n"
     ]
    },
    {
     "name": "stdout",
     "output_type": "stream",
     "text": [
      "New best\n"
     ]
    },
    {
     "name": "stdout",
     "output_type": "stream",
     "text": [
      "epoch: 12, [batch: 1 / 420], examples_per_second: 4.2410, train_label_loss: 0.2260, \n"
     ]
    },
    {
     "name": "stdout",
     "output_type": "stream",
     "text": [
      "epoch: 12, [batch: 42 / 420], examples_per_second: 466.4797, train_label_loss: 0.1473, \n"
     ]
    },
    {
     "name": "stdout",
     "output_type": "stream",
     "text": [
      "epoch: 12, [batch: 84 / 420], examples_per_second: 466.8967, train_label_loss: 0.1904, \n"
     ]
    },
    {
     "name": "stdout",
     "output_type": "stream",
     "text": [
      "epoch: 12, [batch: 126 / 420], examples_per_second: 468.0621, train_label_loss: 0.3283, \n"
     ]
    },
    {
     "name": "stdout",
     "output_type": "stream",
     "text": [
      "epoch: 12, [batch: 168 / 420], examples_per_second: 467.0616, train_label_loss: 0.0581, \n"
     ]
    },
    {
     "name": "stdout",
     "output_type": "stream",
     "text": [
      "epoch: 12, [batch: 210 / 420], examples_per_second: 466.7115, train_label_loss: 0.1603, \n"
     ]
    },
    {
     "name": "stdout",
     "output_type": "stream",
     "text": [
      "epoch: 12, [batch: 252 / 420], examples_per_second: 484.0093, train_label_loss: 0.2008, \n"
     ]
    },
    {
     "name": "stdout",
     "output_type": "stream",
     "text": [
      "epoch: 12, [batch: 294 / 420], examples_per_second: 490.0788, train_label_loss: 0.2150, \n"
     ]
    },
    {
     "name": "stdout",
     "output_type": "stream",
     "text": [
      "epoch: 12, [batch: 336 / 420], examples_per_second: 488.5356, train_label_loss: 0.1732, \n"
     ]
    },
    {
     "name": "stdout",
     "output_type": "stream",
     "text": [
      "epoch: 12, [batch: 378 / 420], examples_per_second: 492.4389, train_label_loss: 0.1953, \n"
     ]
    },
    {
     "name": "stdout",
     "output_type": "stream",
     "text": [
      "=============================================================\n",
      "epoch: 12, source_val_acc_label: 0.9043, target_val_acc_label: 0.8317, source_val_label_loss: 0.2664, target_val_label_loss: 0.6921, \n",
      "=============================================================\n"
     ]
    },
    {
     "name": "stdout",
     "output_type": "stream",
     "text": [
      "epoch: 13, [batch: 1 / 420], examples_per_second: 4.8477, train_label_loss: 0.1241, \n"
     ]
    },
    {
     "name": "stdout",
     "output_type": "stream",
     "text": [
      "epoch: 13, [batch: 42 / 420], examples_per_second: 539.4450, train_label_loss: 0.4253, \n"
     ]
    },
    {
     "name": "stdout",
     "output_type": "stream",
     "text": [
      "epoch: 13, [batch: 84 / 420], examples_per_second: 539.8528, train_label_loss: 0.0259, \n"
     ]
    },
    {
     "name": "stdout",
     "output_type": "stream",
     "text": [
      "epoch: 13, [batch: 126 / 420], examples_per_second: 540.2540, train_label_loss: 0.1183, \n"
     ]
    },
    {
     "name": "stdout",
     "output_type": "stream",
     "text": [
      "epoch: 13, [batch: 168 / 420], examples_per_second: 539.9681, train_label_loss: 0.3279, \n"
     ]
    },
    {
     "name": "stdout",
     "output_type": "stream",
     "text": [
      "epoch: 13, [batch: 210 / 420], examples_per_second: 535.7172, train_label_loss: 0.0972, \n"
     ]
    },
    {
     "name": "stdout",
     "output_type": "stream",
     "text": [
      "epoch: 13, [batch: 252 / 420], examples_per_second: 573.4022, train_label_loss: 0.4237, \n"
     ]
    },
    {
     "name": "stdout",
     "output_type": "stream",
     "text": [
      "epoch: 13, [batch: 294 / 420], examples_per_second: 489.7913, train_label_loss: 0.3838, \n"
     ]
    },
    {
     "name": "stdout",
     "output_type": "stream",
     "text": [
      "epoch: 13, [batch: 336 / 420], examples_per_second: 490.7089, train_label_loss: 0.3047, \n"
     ]
    },
    {
     "name": "stdout",
     "output_type": "stream",
     "text": [
      "epoch: 13, [batch: 378 / 420], examples_per_second: 489.8449, train_label_loss: 0.2164, \n"
     ]
    },
    {
     "name": "stdout",
     "output_type": "stream",
     "text": [
      "=============================================================\n",
      "epoch: 13, source_val_acc_label: 0.9248, target_val_acc_label: 0.8448, source_val_label_loss: 0.2222, target_val_label_loss: 0.6434, \n",
      "=============================================================\n"
     ]
    },
    {
     "name": "stdout",
     "output_type": "stream",
     "text": [
      "New best\n"
     ]
    },
    {
     "name": "stdout",
     "output_type": "stream",
     "text": [
      "epoch: 14, [batch: 1 / 420], examples_per_second: 4.4955, train_label_loss: 0.2079, \n"
     ]
    },
    {
     "name": "stdout",
     "output_type": "stream",
     "text": [
      "epoch: 14, [batch: 42 / 420], examples_per_second: 491.5218, train_label_loss: 0.1737, \n"
     ]
    },
    {
     "name": "stdout",
     "output_type": "stream",
     "text": [
      "epoch: 14, [batch: 84 / 420], examples_per_second: 488.6190, train_label_loss: 0.3457, \n"
     ]
    },
    {
     "name": "stdout",
     "output_type": "stream",
     "text": [
      "epoch: 14, [batch: 126 / 420], examples_per_second: 493.4805, train_label_loss: 0.1530, \n"
     ]
    },
    {
     "name": "stdout",
     "output_type": "stream",
     "text": [
      "epoch: 14, [batch: 168 / 420], examples_per_second: 487.1221, train_label_loss: 0.1803, \n"
     ]
    },
    {
     "name": "stdout",
     "output_type": "stream",
     "text": [
      "epoch: 14, [batch: 210 / 420], examples_per_second: 485.3905, train_label_loss: 0.2245, \n"
     ]
    },
    {
     "name": "stdout",
     "output_type": "stream",
     "text": [
      "epoch: 14, [batch: 252 / 420], examples_per_second: 488.5911, train_label_loss: 0.1757, \n"
     ]
    },
    {
     "name": "stdout",
     "output_type": "stream",
     "text": [
      "epoch: 14, [batch: 294 / 420], examples_per_second: 485.3484, train_label_loss: 0.1643, \n"
     ]
    },
    {
     "name": "stdout",
     "output_type": "stream",
     "text": [
      "epoch: 14, [batch: 336 / 420], examples_per_second: 492.4414, train_label_loss: 0.1995, \n"
     ]
    },
    {
     "name": "stdout",
     "output_type": "stream",
     "text": [
      "epoch: 14, [batch: 378 / 420], examples_per_second: 485.8309, train_label_loss: 0.2285, \n"
     ]
    },
    {
     "name": "stdout",
     "output_type": "stream",
     "text": [
      "=============================================================\n",
      "epoch: 14, source_val_acc_label: 0.9240, target_val_acc_label: 0.8445, source_val_label_loss: 0.2151, target_val_label_loss: 0.6382, \n",
      "=============================================================\n"
     ]
    },
    {
     "name": "stdout",
     "output_type": "stream",
     "text": [
      "New best\n"
     ]
    },
    {
     "name": "stdout",
     "output_type": "stream",
     "text": [
      "epoch: 15, [batch: 1 / 420], examples_per_second: 4.4616, train_label_loss: 0.1220, \n"
     ]
    },
    {
     "name": "stdout",
     "output_type": "stream",
     "text": [
      "epoch: 15, [batch: 42 / 420], examples_per_second: 487.6507, train_label_loss: 0.2283, \n"
     ]
    },
    {
     "name": "stdout",
     "output_type": "stream",
     "text": [
      "epoch: 15, [batch: 84 / 420], examples_per_second: 495.7534, train_label_loss: 0.1248, \n"
     ]
    },
    {
     "name": "stdout",
     "output_type": "stream",
     "text": [
      "epoch: 15, [batch: 126 / 420], examples_per_second: 536.2518, train_label_loss: 0.4619, \n"
     ]
    },
    {
     "name": "stdout",
     "output_type": "stream",
     "text": [
      "epoch: 15, [batch: 168 / 420], examples_per_second: 537.8228, train_label_loss: 0.0663, \n"
     ]
    },
    {
     "name": "stdout",
     "output_type": "stream",
     "text": [
      "epoch: 15, [batch: 210 / 420], examples_per_second: 569.9840, train_label_loss: 0.0511, \n"
     ]
    },
    {
     "name": "stdout",
     "output_type": "stream",
     "text": [
      "epoch: 15, [batch: 252 / 420], examples_per_second: 675.7664, train_label_loss: 0.2358, \n"
     ]
    },
    {
     "name": "stdout",
     "output_type": "stream",
     "text": [
      "epoch: 15, [batch: 294 / 420], examples_per_second: 633.0945, train_label_loss: 0.1328, \n"
     ]
    },
    {
     "name": "stdout",
     "output_type": "stream",
     "text": [
      "epoch: 15, [batch: 336 / 420], examples_per_second: 643.6034, train_label_loss: 0.2218, \n"
     ]
    },
    {
     "name": "stdout",
     "output_type": "stream",
     "text": [
      "epoch: 15, [batch: 378 / 420], examples_per_second: 646.4816, train_label_loss: 0.1945, \n"
     ]
    },
    {
     "name": "stdout",
     "output_type": "stream",
     "text": [
      "=============================================================\n",
      "epoch: 15, source_val_acc_label: 0.9264, target_val_acc_label: 0.8429, source_val_label_loss: 0.2070, target_val_label_loss: 0.6614, \n",
      "=============================================================\n"
     ]
    },
    {
     "name": "stdout",
     "output_type": "stream",
     "text": [
      "epoch: 16, [batch: 1 / 420], examples_per_second: 4.8234, train_label_loss: 0.1052, \n"
     ]
    },
    {
     "name": "stdout",
     "output_type": "stream",
     "text": [
      "epoch: 16, [batch: 42 / 420], examples_per_second: 462.7778, train_label_loss: 0.2409, \n"
     ]
    },
    {
     "name": "stdout",
     "output_type": "stream",
     "text": [
      "epoch: 16, [batch: 84 / 420], examples_per_second: 461.8740, train_label_loss: 0.1524, \n"
     ]
    },
    {
     "name": "stdout",
     "output_type": "stream",
     "text": [
      "epoch: 16, [batch: 126 / 420], examples_per_second: 463.9713, train_label_loss: 0.0878, \n"
     ]
    },
    {
     "name": "stdout",
     "output_type": "stream",
     "text": [
      "epoch: 16, [batch: 168 / 420], examples_per_second: 461.4843, train_label_loss: 0.1784, \n"
     ]
    },
    {
     "name": "stdout",
     "output_type": "stream",
     "text": [
      "epoch: 16, [batch: 210 / 420], examples_per_second: 460.6977, train_label_loss: 0.1371, \n"
     ]
    },
    {
     "name": "stdout",
     "output_type": "stream",
     "text": [
      "epoch: 16, [batch: 252 / 420], examples_per_second: 463.7885, train_label_loss: 0.1358, \n"
     ]
    },
    {
     "name": "stdout",
     "output_type": "stream",
     "text": [
      "epoch: 16, [batch: 294 / 420], examples_per_second: 461.5989, train_label_loss: 0.1706, \n"
     ]
    },
    {
     "name": "stdout",
     "output_type": "stream",
     "text": [
      "epoch: 16, [batch: 336 / 420], examples_per_second: 463.2216, train_label_loss: 0.1530, \n"
     ]
    },
    {
     "name": "stdout",
     "output_type": "stream",
     "text": [
      "epoch: 16, [batch: 378 / 420], examples_per_second: 462.6163, train_label_loss: 0.1873, \n"
     ]
    },
    {
     "name": "stdout",
     "output_type": "stream",
     "text": [
      "=============================================================\n",
      "epoch: 16, source_val_acc_label: 0.9309, target_val_acc_label: 0.8573, source_val_label_loss: 0.1948, target_val_label_loss: 0.6129, \n",
      "=============================================================\n"
     ]
    },
    {
     "name": "stdout",
     "output_type": "stream",
     "text": [
      "New best\n"
     ]
    },
    {
     "name": "stdout",
     "output_type": "stream",
     "text": [
      "epoch: 17, [batch: 1 / 420], examples_per_second: 4.2305, train_label_loss: 0.1667, \n"
     ]
    },
    {
     "name": "stdout",
     "output_type": "stream",
     "text": [
      "epoch: 17, [batch: 42 / 420], examples_per_second: 467.2486, train_label_loss: 0.1883, \n"
     ]
    },
    {
     "name": "stdout",
     "output_type": "stream",
     "text": [
      "epoch: 17, [batch: 84 / 420], examples_per_second: 466.1645, train_label_loss: 0.2431, \n"
     ]
    },
    {
     "name": "stdout",
     "output_type": "stream",
     "text": [
      "epoch: 17, [batch: 126 / 420], examples_per_second: 465.5098, train_label_loss: 0.1208, \n"
     ]
    },
    {
     "name": "stdout",
     "output_type": "stream",
     "text": [
      "epoch: 17, [batch: 168 / 420], examples_per_second: 463.5579, train_label_loss: 0.0877, \n"
     ]
    },
    {
     "name": "stdout",
     "output_type": "stream",
     "text": [
      "epoch: 17, [batch: 210 / 420], examples_per_second: 461.3013, train_label_loss: 0.3156, \n"
     ]
    },
    {
     "name": "stdout",
     "output_type": "stream",
     "text": [
      "epoch: 17, [batch: 252 / 420], examples_per_second: 462.9650, train_label_loss: 0.0935, \n"
     ]
    },
    {
     "name": "stdout",
     "output_type": "stream",
     "text": [
      "epoch: 17, [batch: 294 / 420], examples_per_second: 463.7419, train_label_loss: 0.2744, \n"
     ]
    },
    {
     "name": "stdout",
     "output_type": "stream",
     "text": [
      "epoch: 17, [batch: 336 / 420], examples_per_second: 459.4078, train_label_loss: 0.3739, \n"
     ]
    },
    {
     "name": "stdout",
     "output_type": "stream",
     "text": [
      "epoch: 17, [batch: 378 / 420], examples_per_second: 495.2285, train_label_loss: 0.4341, \n"
     ]
    },
    {
     "name": "stdout",
     "output_type": "stream",
     "text": [
      "=============================================================\n",
      "epoch: 17, source_val_acc_label: 0.9160, target_val_acc_label: 0.8434, source_val_label_loss: 0.2322, target_val_label_loss: 0.6134, \n",
      "=============================================================\n"
     ]
    },
    {
     "name": "stdout",
     "output_type": "stream",
     "text": [
      "epoch: 18, [batch: 1 / 420], examples_per_second: 4.6124, train_label_loss: 0.0576, \n"
     ]
    },
    {
     "name": "stdout",
     "output_type": "stream",
     "text": [
      "epoch: 18, [batch: 42 / 420], examples_per_second: 513.3712, train_label_loss: 0.1588, \n"
     ]
    },
    {
     "name": "stdout",
     "output_type": "stream",
     "text": [
      "epoch: 18, [batch: 84 / 420], examples_per_second: 517.3351, train_label_loss: 0.1766, \n"
     ]
    },
    {
     "name": "stdout",
     "output_type": "stream",
     "text": [
      "epoch: 18, [batch: 126 / 420], examples_per_second: 514.1790, train_label_loss: 0.1236, \n"
     ]
    },
    {
     "name": "stdout",
     "output_type": "stream",
     "text": [
      "epoch: 18, [batch: 168 / 420], examples_per_second: 552.9898, train_label_loss: 0.3157, \n"
     ]
    },
    {
     "name": "stdout",
     "output_type": "stream",
     "text": [
      "epoch: 18, [batch: 210 / 420], examples_per_second: 467.3492, train_label_loss: 0.0716, \n"
     ]
    },
    {
     "name": "stdout",
     "output_type": "stream",
     "text": [
      "epoch: 18, [batch: 252 / 420], examples_per_second: 465.8992, train_label_loss: 0.1059, \n"
     ]
    },
    {
     "name": "stdout",
     "output_type": "stream",
     "text": [
      "epoch: 18, [batch: 294 / 420], examples_per_second: 466.2351, train_label_loss: 0.0814, \n"
     ]
    },
    {
     "name": "stdout",
     "output_type": "stream",
     "text": [
      "epoch: 18, [batch: 336 / 420], examples_per_second: 465.3489, train_label_loss: 0.1449, \n"
     ]
    },
    {
     "name": "stdout",
     "output_type": "stream",
     "text": [
      "epoch: 18, [batch: 378 / 420], examples_per_second: 462.8157, train_label_loss: 0.1290, \n"
     ]
    },
    {
     "name": "stdout",
     "output_type": "stream",
     "text": [
      "=============================================================\n",
      "epoch: 18, source_val_acc_label: 0.9134, target_val_acc_label: 0.8268, source_val_label_loss: 0.2405, target_val_label_loss: 0.6412, \n",
      "=============================================================\n"
     ]
    },
    {
     "name": "stdout",
     "output_type": "stream",
     "text": [
      "epoch: 19, [batch: 1 / 420], examples_per_second: 4.2221, train_label_loss: 0.1402, \n"
     ]
    },
    {
     "name": "stdout",
     "output_type": "stream",
     "text": [
      "epoch: 19, [batch: 42 / 420], examples_per_second: 466.2307, train_label_loss: 0.1346, \n"
     ]
    },
    {
     "name": "stdout",
     "output_type": "stream",
     "text": [
      "epoch: 19, [batch: 84 / 420], examples_per_second: 464.4350, train_label_loss: 0.0896, \n"
     ]
    },
    {
     "name": "stdout",
     "output_type": "stream",
     "text": [
      "epoch: 19, [batch: 126 / 420], examples_per_second: 467.1447, train_label_loss: 0.2799, \n"
     ]
    },
    {
     "name": "stdout",
     "output_type": "stream",
     "text": [
      "epoch: 19, [batch: 168 / 420], examples_per_second: 466.4253, train_label_loss: 0.3487, \n"
     ]
    },
    {
     "name": "stdout",
     "output_type": "stream",
     "text": [
      "epoch: 19, [batch: 210 / 420], examples_per_second: 467.3569, train_label_loss: 0.1548, \n"
     ]
    },
    {
     "name": "stdout",
     "output_type": "stream",
     "text": [
      "epoch: 19, [batch: 252 / 420], examples_per_second: 467.7723, train_label_loss: 0.1619, \n"
     ]
    },
    {
     "name": "stdout",
     "output_type": "stream",
     "text": [
      "epoch: 19, [batch: 294 / 420], examples_per_second: 465.8295, train_label_loss: 0.1384, \n"
     ]
    },
    {
     "name": "stdout",
     "output_type": "stream",
     "text": [
      "epoch: 19, [batch: 336 / 420], examples_per_second: 466.6785, train_label_loss: 0.1715, \n"
     ]
    },
    {
     "name": "stdout",
     "output_type": "stream",
     "text": [
      "epoch: 19, [batch: 378 / 420], examples_per_second: 465.4456, train_label_loss: 0.0813, \n"
     ]
    },
    {
     "name": "stdout",
     "output_type": "stream",
     "text": [
      "=============================================================\n",
      "epoch: 19, source_val_acc_label: 0.9354, target_val_acc_label: 0.8689, source_val_label_loss: 0.1891, target_val_label_loss: 0.5785, \n",
      "=============================================================\n"
     ]
    },
    {
     "name": "stdout",
     "output_type": "stream",
     "text": [
      "New best\n"
     ]
    },
    {
     "name": "stdout",
     "output_type": "stream",
     "text": [
      "epoch: 20, [batch: 1 / 420], examples_per_second: 4.2597, train_label_loss: 0.1363, \n"
     ]
    },
    {
     "name": "stdout",
     "output_type": "stream",
     "text": [
      "epoch: 20, [batch: 42 / 420], examples_per_second: 545.5933, train_label_loss: 0.1501, \n"
     ]
    },
    {
     "name": "stdout",
     "output_type": "stream",
     "text": [
      "epoch: 20, [batch: 84 / 420], examples_per_second: 539.6042, train_label_loss: 0.0945, \n"
     ]
    },
    {
     "name": "stdout",
     "output_type": "stream",
     "text": [
      "epoch: 20, [batch: 126 / 420], examples_per_second: 540.3612, train_label_loss: 0.2487, \n"
     ]
    },
    {
     "name": "stdout",
     "output_type": "stream",
     "text": [
      "epoch: 20, [batch: 168 / 420], examples_per_second: 556.7302, train_label_loss: 0.2652, \n"
     ]
    },
    {
     "name": "stdout",
     "output_type": "stream",
     "text": [
      "epoch: 20, [batch: 210 / 420], examples_per_second: 537.3092, train_label_loss: 0.2550, \n"
     ]
    },
    {
     "name": "stdout",
     "output_type": "stream",
     "text": [
      "epoch: 20, [batch: 252 / 420], examples_per_second: 538.1456, train_label_loss: 0.1661, \n"
     ]
    },
    {
     "name": "stdout",
     "output_type": "stream",
     "text": [
      "epoch: 20, [batch: 294 / 420], examples_per_second: 536.5651, train_label_loss: 0.0591, \n"
     ]
    },
    {
     "name": "stdout",
     "output_type": "stream",
     "text": [
      "epoch: 20, [batch: 336 / 420], examples_per_second: 554.7621, train_label_loss: 0.0342, \n"
     ]
    },
    {
     "name": "stdout",
     "output_type": "stream",
     "text": [
      "epoch: 20, [batch: 378 / 420], examples_per_second: 515.6787, train_label_loss: 0.1601, \n"
     ]
    },
    {
     "name": "stdout",
     "output_type": "stream",
     "text": [
      "=============================================================\n",
      "epoch: 20, source_val_acc_label: 0.9339, target_val_acc_label: 0.8762, source_val_label_loss: 0.1869, target_val_label_loss: 0.5450, \n",
      "=============================================================\n"
     ]
    },
    {
     "name": "stdout",
     "output_type": "stream",
     "text": [
      "New best\n"
     ]
    },
    {
     "name": "stdout",
     "output_type": "stream",
     "text": [
      "epoch: 21, [batch: 1 / 420], examples_per_second: 4.3422, train_label_loss: 0.1433, \n"
     ]
    },
    {
     "name": "stdout",
     "output_type": "stream",
     "text": [
      "epoch: 21, [batch: 42 / 420], examples_per_second: 476.9107, train_label_loss: 0.4636, \n"
     ]
    },
    {
     "name": "stdout",
     "output_type": "stream",
     "text": [
      "epoch: 21, [batch: 84 / 420], examples_per_second: 491.6815, train_label_loss: 0.2276, \n"
     ]
    },
    {
     "name": "stdout",
     "output_type": "stream",
     "text": [
      "epoch: 21, [batch: 126 / 420], examples_per_second: 493.0974, train_label_loss: 0.2981, \n"
     ]
    },
    {
     "name": "stdout",
     "output_type": "stream",
     "text": [
      "epoch: 21, [batch: 168 / 420], examples_per_second: 487.4252, train_label_loss: 0.0262, \n"
     ]
    },
    {
     "name": "stdout",
     "output_type": "stream",
     "text": [
      "epoch: 21, [batch: 210 / 420], examples_per_second: 491.5865, train_label_loss: 0.3545, \n"
     ]
    },
    {
     "name": "stdout",
     "output_type": "stream",
     "text": [
      "epoch: 21, [batch: 252 / 420], examples_per_second: 488.9560, train_label_loss: 0.0140, \n"
     ]
    },
    {
     "name": "stdout",
     "output_type": "stream",
     "text": [
      "epoch: 21, [batch: 294 / 420], examples_per_second: 490.7505, train_label_loss: 0.0424, \n"
     ]
    },
    {
     "name": "stdout",
     "output_type": "stream",
     "text": [
      "epoch: 21, [batch: 336 / 420], examples_per_second: 489.1100, train_label_loss: 0.0809, \n"
     ]
    },
    {
     "name": "stdout",
     "output_type": "stream",
     "text": [
      "epoch: 21, [batch: 378 / 420], examples_per_second: 492.6420, train_label_loss: 0.1831, \n"
     ]
    },
    {
     "name": "stdout",
     "output_type": "stream",
     "text": [
      "=============================================================\n",
      "epoch: 21, source_val_acc_label: 0.9267, target_val_acc_label: 0.8606, source_val_label_loss: 0.2105, target_val_label_loss: 0.5760, \n",
      "=============================================================\n"
     ]
    },
    {
     "name": "stdout",
     "output_type": "stream",
     "text": [
      "epoch: 22, [batch: 1 / 420], examples_per_second: 4.3848, train_label_loss: 0.1318, \n"
     ]
    },
    {
     "name": "stdout",
     "output_type": "stream",
     "text": [
      "epoch: 22, [batch: 42 / 420], examples_per_second: 463.1715, train_label_loss: 0.3695, \n"
     ]
    },
    {
     "name": "stdout",
     "output_type": "stream",
     "text": [
      "epoch: 22, [batch: 84 / 420], examples_per_second: 464.8612, train_label_loss: 0.1689, \n"
     ]
    },
    {
     "name": "stdout",
     "output_type": "stream",
     "text": [
      "epoch: 22, [batch: 126 / 420], examples_per_second: 461.6555, train_label_loss: 0.2507, \n"
     ]
    },
    {
     "name": "stdout",
     "output_type": "stream",
     "text": [
      "epoch: 22, [batch: 168 / 420], examples_per_second: 463.2162, train_label_loss: 0.4283, \n"
     ]
    },
    {
     "name": "stdout",
     "output_type": "stream",
     "text": [
      "epoch: 22, [batch: 210 / 420], examples_per_second: 463.3171, train_label_loss: 0.1223, \n"
     ]
    },
    {
     "name": "stdout",
     "output_type": "stream",
     "text": [
      "epoch: 22, [batch: 252 / 420], examples_per_second: 463.1409, train_label_loss: 0.0914, \n"
     ]
    },
    {
     "name": "stdout",
     "output_type": "stream",
     "text": [
      "epoch: 22, [batch: 294 / 420], examples_per_second: 509.9590, train_label_loss: 0.0550, \n"
     ]
    },
    {
     "name": "stdout",
     "output_type": "stream",
     "text": [
      "epoch: 22, [batch: 336 / 420], examples_per_second: 506.2241, train_label_loss: 0.1506, \n"
     ]
    },
    {
     "name": "stdout",
     "output_type": "stream",
     "text": [
      "epoch: 22, [batch: 378 / 420], examples_per_second: 504.4013, train_label_loss: 0.1984, \n"
     ]
    },
    {
     "name": "stdout",
     "output_type": "stream",
     "text": [
      "=============================================================\n",
      "epoch: 22, source_val_acc_label: 0.9344, target_val_acc_label: 0.8623, source_val_label_loss: 0.1822, target_val_label_loss: 0.5412, \n",
      "=============================================================\n"
     ]
    },
    {
     "name": "stdout",
     "output_type": "stream",
     "text": [
      "New best\n"
     ]
    },
    {
     "name": "stdout",
     "output_type": "stream",
     "text": [
      "epoch: 23, [batch: 1 / 420], examples_per_second: 4.6316, train_label_loss: 0.2365, \n"
     ]
    },
    {
     "name": "stdout",
     "output_type": "stream",
     "text": [
      "epoch: 23, [batch: 42 / 420], examples_per_second: 510.6383, train_label_loss: 0.1431, \n"
     ]
    },
    {
     "name": "stdout",
     "output_type": "stream",
     "text": [
      "epoch: 23, [batch: 84 / 420], examples_per_second: 515.7327, train_label_loss: 0.2262, \n"
     ]
    },
    {
     "name": "stdout",
     "output_type": "stream",
     "text": [
      "epoch: 23, [batch: 126 / 420], examples_per_second: 464.5242, train_label_loss: 0.1782, \n"
     ]
    },
    {
     "name": "stdout",
     "output_type": "stream",
     "text": [
      "epoch: 23, [batch: 168 / 420], examples_per_second: 463.9957, train_label_loss: 0.1490, \n"
     ]
    },
    {
     "name": "stdout",
     "output_type": "stream",
     "text": [
      "epoch: 23, [batch: 210 / 420], examples_per_second: 465.9201, train_label_loss: 0.2017, \n"
     ]
    },
    {
     "name": "stdout",
     "output_type": "stream",
     "text": [
      "epoch: 23, [batch: 252 / 420], examples_per_second: 462.1152, train_label_loss: 0.2743, \n"
     ]
    },
    {
     "name": "stdout",
     "output_type": "stream",
     "text": [
      "epoch: 23, [batch: 294 / 420], examples_per_second: 463.3837, train_label_loss: 0.1540, \n"
     ]
    },
    {
     "name": "stdout",
     "output_type": "stream",
     "text": [
      "epoch: 23, [batch: 336 / 420], examples_per_second: 463.0682, train_label_loss: 0.1008, \n"
     ]
    },
    {
     "name": "stdout",
     "output_type": "stream",
     "text": [
      "epoch: 23, [batch: 378 / 420], examples_per_second: 463.5993, train_label_loss: 0.2530, \n"
     ]
    },
    {
     "name": "stdout",
     "output_type": "stream",
     "text": [
      "=============================================================\n",
      "epoch: 23, source_val_acc_label: 0.9332, target_val_acc_label: 0.8688, source_val_label_loss: 0.1870, target_val_label_loss: 0.5105, \n",
      "=============================================================\n"
     ]
    },
    {
     "name": "stdout",
     "output_type": "stream",
     "text": [
      "New best\n"
     ]
    },
    {
     "name": "stdout",
     "output_type": "stream",
     "text": [
      "epoch: 24, [batch: 1 / 420], examples_per_second: 4.2284, train_label_loss: 0.1401, \n"
     ]
    },
    {
     "name": "stdout",
     "output_type": "stream",
     "text": [
      "epoch: 24, [batch: 42 / 420], examples_per_second: 461.4929, train_label_loss: 0.3386, \n"
     ]
    },
    {
     "name": "stdout",
     "output_type": "stream",
     "text": [
      "epoch: 24, [batch: 84 / 420], examples_per_second: 463.3372, train_label_loss: 0.2287, \n"
     ]
    },
    {
     "name": "stdout",
     "output_type": "stream",
     "text": [
      "epoch: 24, [batch: 126 / 420], examples_per_second: 465.9449, train_label_loss: 0.0389, \n"
     ]
    },
    {
     "name": "stdout",
     "output_type": "stream",
     "text": [
      "epoch: 24, [batch: 168 / 420], examples_per_second: 464.5541, train_label_loss: 0.4529, \n"
     ]
    },
    {
     "name": "stdout",
     "output_type": "stream",
     "text": [
      "epoch: 24, [batch: 210 / 420], examples_per_second: 462.5358, train_label_loss: 0.1831, \n"
     ]
    },
    {
     "name": "stdout",
     "output_type": "stream",
     "text": [
      "epoch: 24, [batch: 252 / 420], examples_per_second: 463.2902, train_label_loss: 0.0744, \n"
     ]
    },
    {
     "name": "stdout",
     "output_type": "stream",
     "text": [
      "epoch: 24, [batch: 294 / 420], examples_per_second: 465.6871, train_label_loss: 0.1010, \n"
     ]
    },
    {
     "name": "stdout",
     "output_type": "stream",
     "text": [
      "epoch: 24, [batch: 336 / 420], examples_per_second: 461.0267, train_label_loss: 0.1840, \n"
     ]
    },
    {
     "name": "stdout",
     "output_type": "stream",
     "text": [
      "epoch: 24, [batch: 378 / 420], examples_per_second: 463.2231, train_label_loss: 0.0259, \n"
     ]
    },
    {
     "name": "stdout",
     "output_type": "stream",
     "text": [
      "=============================================================\n",
      "epoch: 24, source_val_acc_label: 0.9316, target_val_acc_label: 0.8697, source_val_label_loss: 0.1923, target_val_label_loss: 0.5253, \n",
      "=============================================================\n"
     ]
    },
    {
     "name": "stdout",
     "output_type": "stream",
     "text": [
      "epoch: 25, [batch: 1 / 420], examples_per_second: 4.6680, train_label_loss: 0.2440, \n"
     ]
    },
    {
     "name": "stdout",
     "output_type": "stream",
     "text": [
      "epoch: 25, [batch: 42 / 420], examples_per_second: 535.4020, train_label_loss: 0.1356, \n"
     ]
    },
    {
     "name": "stdout",
     "output_type": "stream",
     "text": [
      "epoch: 25, [batch: 84 / 420], examples_per_second: 558.4404, train_label_loss: 0.2276, \n"
     ]
    },
    {
     "name": "stdout",
     "output_type": "stream",
     "text": [
      "epoch: 25, [batch: 126 / 420], examples_per_second: 536.6910, train_label_loss: 0.0946, \n"
     ]
    },
    {
     "name": "stdout",
     "output_type": "stream",
     "text": [
      "epoch: 25, [batch: 168 / 420], examples_per_second: 541.7283, train_label_loss: 0.1494, \n"
     ]
    },
    {
     "name": "stdout",
     "output_type": "stream",
     "text": [
      "epoch: 25, [batch: 210 / 420], examples_per_second: 556.6844, train_label_loss: 0.0423, \n"
     ]
    },
    {
     "name": "stdout",
     "output_type": "stream",
     "text": [
      "epoch: 25, [batch: 252 / 420], examples_per_second: 505.9188, train_label_loss: 0.0486, \n"
     ]
    },
    {
     "name": "stdout",
     "output_type": "stream",
     "text": [
      "epoch: 25, [batch: 294 / 420], examples_per_second: 504.9906, train_label_loss: 0.3077, \n"
     ]
    },
    {
     "name": "stdout",
     "output_type": "stream",
     "text": [
      "epoch: 25, [batch: 336 / 420], examples_per_second: 520.6782, train_label_loss: 0.0994, \n"
     ]
    },
    {
     "name": "stdout",
     "output_type": "stream",
     "text": [
      "epoch: 25, [batch: 378 / 420], examples_per_second: 464.2512, train_label_loss: 0.2844, \n"
     ]
    },
    {
     "name": "stdout",
     "output_type": "stream",
     "text": [
      "=============================================================\n",
      "epoch: 25, source_val_acc_label: 0.9370, target_val_acc_label: 0.8640, source_val_label_loss: 0.1885, target_val_label_loss: 0.4949, \n",
      "=============================================================\n"
     ]
    },
    {
     "name": "stdout",
     "output_type": "stream",
     "text": [
      "New best\n"
     ]
    },
    {
     "name": "stdout",
     "output_type": "stream",
     "text": [
      "epoch: 26, [batch: 1 / 420], examples_per_second: 4.2355, train_label_loss: 0.1076, \n"
     ]
    },
    {
     "name": "stdout",
     "output_type": "stream",
     "text": [
      "epoch: 26, [batch: 42 / 420], examples_per_second: 464.3849, train_label_loss: 0.1484, \n"
     ]
    },
    {
     "name": "stdout",
     "output_type": "stream",
     "text": [
      "epoch: 26, [batch: 84 / 420], examples_per_second: 465.2569, train_label_loss: 0.1920, \n"
     ]
    },
    {
     "name": "stdout",
     "output_type": "stream",
     "text": [
      "epoch: 26, [batch: 126 / 420], examples_per_second: 463.4155, train_label_loss: 0.0580, \n"
     ]
    },
    {
     "name": "stdout",
     "output_type": "stream",
     "text": [
      "epoch: 26, [batch: 168 / 420], examples_per_second: 460.2686, train_label_loss: 0.1765, \n"
     ]
    },
    {
     "name": "stdout",
     "output_type": "stream",
     "text": [
      "epoch: 26, [batch: 210 / 420], examples_per_second: 464.3077, train_label_loss: 0.1430, \n"
     ]
    },
    {
     "name": "stdout",
     "output_type": "stream",
     "text": [
      "epoch: 26, [batch: 252 / 420], examples_per_second: 462.7810, train_label_loss: 0.2244, \n"
     ]
    },
    {
     "name": "stdout",
     "output_type": "stream",
     "text": [
      "epoch: 26, [batch: 294 / 420], examples_per_second: 465.1034, train_label_loss: 0.0925, \n"
     ]
    },
    {
     "name": "stdout",
     "output_type": "stream",
     "text": [
      "epoch: 26, [batch: 336 / 420], examples_per_second: 463.6747, train_label_loss: 0.6107, \n"
     ]
    },
    {
     "name": "stdout",
     "output_type": "stream",
     "text": [
      "epoch: 26, [batch: 378 / 420], examples_per_second: 465.3042, train_label_loss: 0.0621, \n"
     ]
    },
    {
     "name": "stdout",
     "output_type": "stream",
     "text": [
      "=============================================================\n",
      "epoch: 26, source_val_acc_label: 0.9427, target_val_acc_label: 0.8702, source_val_label_loss: 0.1718, target_val_label_loss: 0.5060, \n",
      "=============================================================\n"
     ]
    },
    {
     "name": "stdout",
     "output_type": "stream",
     "text": [
      "epoch: 27, [batch: 1 / 420], examples_per_second: 4.2291, train_label_loss: 0.0914, \n"
     ]
    },
    {
     "name": "stdout",
     "output_type": "stream",
     "text": [
      "epoch: 27, [batch: 42 / 420], examples_per_second: 465.2702, train_label_loss: 0.0933, \n"
     ]
    },
    {
     "name": "stdout",
     "output_type": "stream",
     "text": [
      "epoch: 27, [batch: 84 / 420], examples_per_second: 466.9217, train_label_loss: 0.0520, \n"
     ]
    },
    {
     "name": "stdout",
     "output_type": "stream",
     "text": [
      "epoch: 27, [batch: 126 / 420], examples_per_second: 466.5679, train_label_loss: 0.0482, \n"
     ]
    },
    {
     "name": "stdout",
     "output_type": "stream",
     "text": [
      "epoch: 27, [batch: 168 / 420], examples_per_second: 486.0340, train_label_loss: 0.3472, \n"
     ]
    },
    {
     "name": "stdout",
     "output_type": "stream",
     "text": [
      "epoch: 27, [batch: 210 / 420], examples_per_second: 507.0697, train_label_loss: 0.1712, \n"
     ]
    },
    {
     "name": "stdout",
     "output_type": "stream",
     "text": [
      "epoch: 27, [batch: 252 / 420], examples_per_second: 505.3404, train_label_loss: 0.0647, \n"
     ]
    },
    {
     "name": "stdout",
     "output_type": "stream",
     "text": [
      "epoch: 27, [batch: 294 / 420], examples_per_second: 505.6722, train_label_loss: 0.2165, \n"
     ]
    },
    {
     "name": "stdout",
     "output_type": "stream",
     "text": [
      "epoch: 27, [batch: 336 / 420], examples_per_second: 519.8664, train_label_loss: 0.0753, \n"
     ]
    },
    {
     "name": "stdout",
     "output_type": "stream",
     "text": [
      "epoch: 27, [batch: 378 / 420], examples_per_second: 507.7666, train_label_loss: 0.0760, \n"
     ]
    },
    {
     "name": "stdout",
     "output_type": "stream",
     "text": [
      "=============================================================\n",
      "epoch: 27, source_val_acc_label: 0.9339, target_val_acc_label: 0.8577, source_val_label_loss: 0.1910, target_val_label_loss: 0.5336, \n",
      "=============================================================\n"
     ]
    },
    {
     "name": "stdout",
     "output_type": "stream",
     "text": [
      "epoch: 28, [batch: 1 / 420], examples_per_second: 4.6928, train_label_loss: 0.1539, \n"
     ]
    },
    {
     "name": "stdout",
     "output_type": "stream",
     "text": [
      "epoch: 28, [batch: 42 / 420], examples_per_second: 515.6838, train_label_loss: 0.0712, \n"
     ]
    },
    {
     "name": "stdout",
     "output_type": "stream",
     "text": [
      "epoch: 28, [batch: 84 / 420], examples_per_second: 507.8826, train_label_loss: 0.2153, \n"
     ]
    },
    {
     "name": "stdout",
     "output_type": "stream",
     "text": [
      "epoch: 28, [batch: 126 / 420], examples_per_second: 519.3642, train_label_loss: 0.0888, \n"
     ]
    },
    {
     "name": "stdout",
     "output_type": "stream",
     "text": [
      "epoch: 28, [batch: 168 / 420], examples_per_second: 507.9017, train_label_loss: 0.0165, \n"
     ]
    },
    {
     "name": "stdout",
     "output_type": "stream",
     "text": [
      "epoch: 28, [batch: 210 / 420], examples_per_second: 507.4953, train_label_loss: 0.0348, \n"
     ]
    },
    {
     "name": "stdout",
     "output_type": "stream",
     "text": [
      "epoch: 28, [batch: 252 / 420], examples_per_second: 507.8130, train_label_loss: 0.0407, \n"
     ]
    },
    {
     "name": "stdout",
     "output_type": "stream",
     "text": [
      "epoch: 28, [batch: 294 / 420], examples_per_second: 504.4222, train_label_loss: 0.1072, \n"
     ]
    },
    {
     "name": "stdout",
     "output_type": "stream",
     "text": [
      "epoch: 28, [batch: 336 / 420], examples_per_second: 506.0677, train_label_loss: 0.2012, \n"
     ]
    },
    {
     "name": "stdout",
     "output_type": "stream",
     "text": [
      "epoch: 28, [batch: 378 / 420], examples_per_second: 525.5829, train_label_loss: 0.1225, \n"
     ]
    },
    {
     "name": "stdout",
     "output_type": "stream",
     "text": [
      "=============================================================\n",
      "epoch: 28, source_val_acc_label: 0.9394, target_val_acc_label: 0.8564, source_val_label_loss: 0.1706, target_val_label_loss: 0.5504, \n",
      "=============================================================\n"
     ]
    },
    {
     "name": "stdout",
     "output_type": "stream",
     "text": [
      "epoch: 29, [batch: 1 / 420], examples_per_second: 4.6375, train_label_loss: 0.1898, \n"
     ]
    },
    {
     "name": "stdout",
     "output_type": "stream",
     "text": [
      "epoch: 29, [batch: 42 / 420], examples_per_second: 507.7029, train_label_loss: 0.0831, \n"
     ]
    },
    {
     "name": "stdout",
     "output_type": "stream",
     "text": [
      "epoch: 29, [batch: 84 / 420], examples_per_second: 507.0869, train_label_loss: 0.0435, \n"
     ]
    },
    {
     "name": "stdout",
     "output_type": "stream",
     "text": [
      "epoch: 29, [batch: 126 / 420], examples_per_second: 505.6283, train_label_loss: 0.1203, \n"
     ]
    },
    {
     "name": "stdout",
     "output_type": "stream",
     "text": [
      "epoch: 29, [batch: 168 / 420], examples_per_second: 534.3264, train_label_loss: 0.1793, \n"
     ]
    },
    {
     "name": "stdout",
     "output_type": "stream",
     "text": [
      "epoch: 29, [batch: 210 / 420], examples_per_second: 505.7291, train_label_loss: 0.1293, \n"
     ]
    },
    {
     "name": "stdout",
     "output_type": "stream",
     "text": [
      "epoch: 29, [batch: 252 / 420], examples_per_second: 507.7862, train_label_loss: 0.0212, \n"
     ]
    },
    {
     "name": "stdout",
     "output_type": "stream",
     "text": [
      "epoch: 29, [batch: 294 / 420], examples_per_second: 509.8125, train_label_loss: 0.1295, \n"
     ]
    },
    {
     "name": "stdout",
     "output_type": "stream",
     "text": [
      "epoch: 29, [batch: 336 / 420], examples_per_second: 527.1464, train_label_loss: 0.0634, \n"
     ]
    },
    {
     "name": "stdout",
     "output_type": "stream",
     "text": [
      "epoch: 29, [batch: 378 / 420], examples_per_second: 531.0729, train_label_loss: 0.0503, \n"
     ]
    },
    {
     "name": "stdout",
     "output_type": "stream",
     "text": [
      "=============================================================\n",
      "epoch: 29, source_val_acc_label: 0.9342, target_val_acc_label: 0.8542, source_val_label_loss: 0.1799, target_val_label_loss: 0.5443, \n",
      "=============================================================\n"
     ]
    },
    {
     "name": "stdout",
     "output_type": "stream",
     "text": [
      "Patience (3) exhausted\n"
     ]
    }
   ],
   "source": [
    "###################################\n",
    "# train\n",
    "###################################\n",
    "jig = PTN_Train_Eval_Test_Jig(model, p.BEST_MODEL_PATH, p.device)\n",
    "\n",
    "jig.train(\n",
    "    train_iterable=datasets.source.processed.train,\n",
    "    source_val_iterable=datasets.source.processed.val,\n",
    "    target_val_iterable=datasets.target.processed.val,\n",
    "    num_epochs=p.n_epoch,\n",
    "    num_logs_per_epoch=p.NUM_LOGS_PER_EPOCH,\n",
    "    patience=p.patience,\n",
    "    optimizer=optimizer,\n",
    "    criteria_for_best=p.criteria_for_best,\n",
    ")"
   ]
  },
  {
   "cell_type": "code",
   "execution_count": 14,
   "id": "31e8fabf",
   "metadata": {
    "execution": {
     "iopub.execute_input": "2022-03-06T04:53:37.330241Z",
     "iopub.status.busy": "2022-03-06T04:53:37.329358Z",
     "iopub.status.idle": "2022-03-06T04:53:37.344566Z",
     "shell.execute_reply": "2022-03-06T04:53:37.344130Z"
    },
    "papermill": {
     "duration": 0.09303,
     "end_time": "2022-03-06T04:53:37.344681",
     "exception": false,
     "start_time": "2022-03-06T04:53:37.251651",
     "status": "completed"
    },
    "tags": []
   },
   "outputs": [],
   "source": [
    "total_experiment_time_secs = time.time() - start_time_secs"
   ]
  },
  {
   "cell_type": "code",
   "execution_count": 15,
   "id": "87b9595b",
   "metadata": {
    "execution": {
     "iopub.execute_input": "2022-03-06T04:53:37.506967Z",
     "iopub.status.busy": "2022-03-06T04:53:37.506539Z",
     "iopub.status.idle": "2022-03-06T04:55:10.691456Z",
     "shell.execute_reply": "2022-03-06T04:55:10.691773Z"
    },
    "papermill": {
     "duration": 93.269356,
     "end_time": "2022-03-06T04:55:10.691882",
     "exception": false,
     "start_time": "2022-03-06T04:53:37.422526",
     "status": "completed"
    },
    "tags": []
   },
   "outputs": [],
   "source": [
    "###################################\n",
    "# Evaluate the model\n",
    "###################################\n",
    "source_test_label_accuracy, source_test_label_loss = jig.test(datasets.source.processed.test)\n",
    "target_test_label_accuracy, target_test_label_loss = jig.test(datasets.target.processed.test)\n",
    "\n",
    "source_val_label_accuracy, source_val_label_loss = jig.test(datasets.source.processed.val)\n",
    "target_val_label_accuracy, target_val_label_loss = jig.test(datasets.target.processed.val)\n",
    "\n",
    "history = jig.get_history()\n",
    "\n",
    "total_epochs_trained = len(history[\"epoch_indices\"])\n",
    "\n",
    "val_dl = Iterable_Aggregator((datasets.source.original.val,datasets.target.original.val))\n",
    "\n",
    "confusion = ptn_confusion_by_domain_over_dataloader(model, p.device, val_dl)\n",
    "per_domain_accuracy = per_domain_accuracy_from_confusion(confusion)\n",
    "\n",
    "# Add a key to per_domain_accuracy for if it was a source domain\n",
    "for domain, accuracy in per_domain_accuracy.items():\n",
    "    per_domain_accuracy[domain] = {\n",
    "        \"accuracy\": accuracy,\n",
    "        \"source?\": domain in p.domains_source\n",
    "    }\n",
    "\n",
    "# Do an independent accuracy assesment JUST TO BE SURE!\n",
    "# _source_test_label_accuracy = independent_accuracy_assesment(model, datasets.source.processed.test, p.device)\n",
    "# _target_test_label_accuracy = independent_accuracy_assesment(model, datasets.target.processed.test, p.device)\n",
    "# _source_val_label_accuracy = independent_accuracy_assesment(model, datasets.source.processed.val, p.device)\n",
    "# _target_val_label_accuracy = independent_accuracy_assesment(model, datasets.target.processed.val, p.device)\n",
    "\n",
    "# assert(_source_test_label_accuracy == source_test_label_accuracy)\n",
    "# assert(_target_test_label_accuracy == target_test_label_accuracy)\n",
    "# assert(_source_val_label_accuracy == source_val_label_accuracy)\n",
    "# assert(_target_val_label_accuracy == target_val_label_accuracy)\n",
    "\n",
    "experiment = {\n",
    "    \"experiment_name\": p.experiment_name,\n",
    "    \"parameters\": dict(p),\n",
    "    \"results\": {\n",
    "        \"source_test_label_accuracy\": source_test_label_accuracy,\n",
    "        \"source_test_label_loss\": source_test_label_loss,\n",
    "        \"target_test_label_accuracy\": target_test_label_accuracy,\n",
    "        \"target_test_label_loss\": target_test_label_loss,\n",
    "        \"source_val_label_accuracy\": source_val_label_accuracy,\n",
    "        \"source_val_label_loss\": source_val_label_loss,\n",
    "        \"target_val_label_accuracy\": target_val_label_accuracy,\n",
    "        \"target_val_label_loss\": target_val_label_loss,\n",
    "        \"total_epochs_trained\": total_epochs_trained,\n",
    "        \"total_experiment_time_secs\": total_experiment_time_secs,\n",
    "        \"confusion\": confusion,\n",
    "        \"per_domain_accuracy\": per_domain_accuracy,\n",
    "    },\n",
    "    \"history\": history,\n",
    "    \"dataset_metrics\": get_dataset_metrics(datasets, \"ptn\"),\n",
    "}"
   ]
  },
  {
   "cell_type": "code",
   "execution_count": 16,
   "id": "54a21829",
   "metadata": {
    "execution": {
     "iopub.execute_input": "2022-03-06T04:55:10.863862Z",
     "iopub.status.busy": "2022-03-06T04:55:10.863593Z",
     "iopub.status.idle": "2022-03-06T04:55:11.049915Z",
     "shell.execute_reply": "2022-03-06T04:55:11.050308Z"
    },
    "papermill": {
     "duration": 0.284769,
     "end_time": "2022-03-06T04:55:11.050430",
     "exception": false,
     "start_time": "2022-03-06T04:55:10.765661",
     "status": "completed"
    },
    "tags": []
   },
   "outputs": [
    {
     "data": {
      "image/png": "[encoded data removed]",
      "text/plain": [
       "<Figure size 1080x504 with 1 Axes>"
      ]
     },
     "metadata": {
      "needs_background": "light"
     },
     "output_type": "display_data"
    }
   ],
   "source": [
    "ax = get_loss_curve(experiment)\n",
    "plt.show()"
   ]
  },
  {
   "cell_type": "code",
   "execution_count": 17,
   "id": "fd8a0f60",
   "metadata": {
    "execution": {
     "iopub.execute_input": "2022-03-06T04:55:11.198146Z",
     "iopub.status.busy": "2022-03-06T04:55:11.197874Z",
     "iopub.status.idle": "2022-03-06T04:55:11.479373Z",
     "shell.execute_reply": "2022-03-06T04:55:11.479749Z"
    },
    "papermill": {
     "duration": 0.355436,
     "end_time": "2022-03-06T04:55:11.479862",
     "exception": false,
     "start_time": "2022-03-06T04:55:11.124426",
     "status": "completed"
    },
    "tags": []
   },
   "outputs": [
    {
     "data": {
      "text/plain": [
       "<matplotlib.axes._subplots.AxesSubplot at 0x7faa541426a0>"
      ]
     },
     "execution_count": 17,
     "metadata": {},
     "output_type": "execute_result"
    },
    {
     "data": {
      "image/png": "[encoded data removed]",
      "text/plain": [
       "<Figure size 1080x504 with 1 Axes>"
      ]
     },
     "metadata": {
      "needs_background": "light"
     },
     "output_type": "display_data"
    }
   ],
   "source": [
    "get_results_table(experiment)"
   ]
  },
  {
   "cell_type": "code",
   "execution_count": 18,
   "id": "cf8dc689",
   "metadata": {
    "execution": {
     "iopub.execute_input": "2022-03-06T04:55:11.631374Z",
     "iopub.status.busy": "2022-03-06T04:55:11.631002Z",
     "iopub.status.idle": "2022-03-06T04:55:11.813131Z",
     "shell.execute_reply": "2022-03-06T04:55:11.813442Z"
    },
    "papermill": {
     "duration": 0.257444,
     "end_time": "2022-03-06T04:55:11.813545",
     "exception": false,
     "start_time": "2022-03-06T04:55:11.556101",
     "status": "completed"
    },
    "tags": []
   },
   "outputs": [
    {
     "data": {
      "text/plain": [
       "<matplotlib.axes._subplots.AxesSubplot at 0x7faa54170850>"
      ]
     },
     "execution_count": 18,
     "metadata": {},
     "output_type": "execute_result"
    },
    {
     "data": {
      "image/png": "[encoded data removed]",
      "text/plain": [
       "<Figure size 1080x504 with 1 Axes>"
      ]
     },
     "metadata": {
      "needs_background": "light"
     },
     "output_type": "display_data"
    }
   ],
   "source": [
    "get_domain_accuracies(experiment)"
   ]
  },
  {
   "cell_type": "code",
   "execution_count": 19,
   "id": "a74ae082",
   "metadata": {
    "execution": {
     "iopub.execute_input": "2022-03-06T04:55:11.974325Z",
     "iopub.status.busy": "2022-03-06T04:55:11.974045Z",
     "iopub.status.idle": "2022-03-06T04:55:11.984820Z",
     "shell.execute_reply": "2022-03-06T04:55:11.985036Z"
    },
    "papermill": {
     "duration": 0.095477,
     "end_time": "2022-03-06T04:55:11.985112",
     "exception": false,
     "start_time": "2022-03-06T04:55:11.889635",
     "status": "completed"
    },
    "tags": []
   },
   "outputs": [
    {
     "name": "stdout",
     "output_type": "stream",
     "text": [
      "Source Test Label Accuracy: 0.9326388888888889 Target Test Label Accuracy: 0.8792708333333333\n",
      "Source Val Label Accuracy: 0.9369791666666667 Target Val Label Accuracy: 0.8639583333333334\n"
     ]
    }
   ],
   "source": [
    "print(\"Source Test Label Accuracy:\", experiment[\"results\"][\"source_test_label_accuracy\"], \"Target Test Label Accuracy:\", experiment[\"results\"][\"target_test_label_accuracy\"])\n",
    "print(\"Source Val Label Accuracy:\", experiment[\"results\"][\"source_val_label_accuracy\"], \"Target Val Label Accuracy:\", experiment[\"results\"][\"target_val_label_accuracy\"])"
   ]
  },
  {
   "cell_type": "code",
   "execution_count": 20,
   "id": "dacca602",
   "metadata": {
    "execution": {
     "iopub.execute_input": "2022-03-06T04:55:12.144258Z",
     "iopub.status.busy": "2022-03-06T04:55:12.143832Z",
     "iopub.status.idle": "2022-03-06T04:55:12.154319Z",
     "shell.execute_reply": "2022-03-06T04:55:12.154550Z"
    },
    "papermill": {
     "duration": 0.091608,
     "end_time": "2022-03-06T04:55:12.154630",
     "exception": false,
     "start_time": "2022-03-06T04:55:12.063022",
     "status": "completed"
    },
    "tags": [
     "experiment_json"
    ]
   },
   "outputs": [
    {
     "data": {
      "text/plain": [
       "'{\"experiment_name\": \"baseline_ptn_32bit_oracle.run1.framed\", \"parameters\": {\"experiment_name\": \"baseline_ptn_32bit_oracle.run1.framed\", \"lr\": 0.001, \"device\": \"cuda\", \"seed\": 1337, \"dataset_seed\": 1337, \"labels_source\": [\"3123D52\", \"3123D65\", \"3123D79\", \"3123D80\", \"3123D54\", \"3123D70\", \"3123D7B\", \"3123D89\", \"3123D58\", \"3123D76\", \"3123D7D\", \"3123EFE\", \"3123D64\", \"3123D78\", \"3123D7E\", \"3124E4A\"], \"labels_target\": [\"3123D52\", \"3123D65\", \"3123D79\", \"3123D80\", \"3123D54\", \"3123D70\", \"3123D7B\", \"3123D89\", \"3123D58\", \"3123D76\", \"3123D7D\", \"3123EFE\", \"3123D64\", \"3123D78\", \"3123D7E\", \"3124E4A\"], \"x_transforms_source\": [], \"x_transforms_target\": [], \"episode_transforms_source\": [], \"episode_transforms_target\": [], \"num_examples_per_domain_per_label_source\": 1000, \"num_examples_per_domain_per_label_target\": 1000, \"n_shot\": 3, \"n_way\": 16, \"n_query\": 2, \"train_k_factor\": 1, \"val_k_factor\": 2, \"test_k_factor\": 2, \"torch_default_dtype\": \"torch.float32\", \"n_epoch\": 50, \"patience\": 3, \"criteria_for_best\": \"target_loss\", \"x_net\": [{\"class\": \"nnReshape\", \"kargs\": {\"shape\": [-1, 1, 2, 256]}}, {\"class\": \"Conv2d\", \"kargs\": {\"in_channels\": 1, \"out_channels\": 256, \"kernel_size\": [1, 7], \"bias\": false, \"padding\": [0, 3]}}, {\"class\": \"ReLU\", \"kargs\": {\"inplace\": true}}, {\"class\": \"BatchNorm2d\", \"kargs\": {\"num_features\": 256}}, {\"class\": \"Conv2d\", \"kargs\": {\"in_channels\": 256, \"out_channels\": 80, \"kernel_size\": [2, 7], \"bias\": true, \"padding\": [0, 3]}}, {\"class\": \"ReLU\", \"kargs\": {\"inplace\": true}}, {\"class\": \"BatchNorm2d\", \"kargs\": {\"num_features\": 80}}, {\"class\": \"Flatten\", \"kargs\": {}}, {\"class\": \"Linear\", \"kargs\": {\"in_features\": 20480, \"out_features\": 256}}, {\"class\": \"ReLU\", \"kargs\": {\"inplace\": true}}, {\"class\": \"BatchNorm1d\", \"kargs\": {\"num_features\": 256}}, {\"class\": \"Linear\", \"kargs\": {\"in_features\": 256, \"out_features\": 256}}], \"NUM_LOGS_PER_EPOCH\": 10, \"BEST_MODEL_PATH\": \"./best_model.pth\", \"pickle_name\": \"oracle.Run1_framed_2000Examples_stratified_ds.2022A.pkl\", \"domains_source\": [8, 32, 50], \"domains_target\": [14, 20, 26, 38, 44]}, \"results\": {\"source_test_label_accuracy\": 0.9326388888888889, \"source_test_label_loss\": 0.19956599175930023, \"target_test_label_accuracy\": 0.8792708333333333, \"target_test_label_loss\": 0.4097093939781189, \"source_val_label_accuracy\": 0.9369791666666667, \"source_val_label_loss\": 0.18854929506778717, \"target_val_label_accuracy\": 0.8639583333333334, \"target_val_label_loss\": 0.49493852257728577, \"total_epochs_trained\": 29, \"total_experiment_time_secs\": 2836.6450819969177, \"confusion\": {\"8\": {\"15\": {\"15\": 113, \"12\": 7}, \"3\": {\"3\": 120}, \"6\": {\"6\": 111, \"13\": 1, \"7\": 8}, \"1\": {\"1\": 119, \"11\": 1}, \"8\": {\"8\": 120}, \"10\": {\"10\": 110, \"13\": 9, \"5\": 1}, \"9\": {\"9\": 120}, \"13\": {\"10\": 18, \"13\": 99, \"7\": 2, \"6\": 1}, \"12\": {\"15\": 35, \"12\": 85}, \"5\": {\"5\": 100, \"14\": 6, \"1\": 5, \"10\": 9}, \"0\": {\"0\": 120}, \"2\": {\"2\": 107, \"3\": 9, \"15\": 3, \"12\": 1}, \"11\": {\"11\": 105, \"1\": 15}, \"14\": {\"14\": 114, \"4\": 6}, \"7\": {\"7\": 112, \"6\": 8}, \"4\": {\"4\": 117, \"6\": 3}}, \"50\": {\"3\": {\"3\": 120}, \"15\": {\"15\": 117, \"6\": 3}, \"8\": {\"8\": 120}, \"4\": {\"4\": 108, \"15\": 3, \"7\": 3, \"5\": 6}, \"14\": {\"14\": 120}, \"0\": {\"0\": 116, \"2\": 4}, \"7\": {\"7\": 117, \"5\": 3}, \"6\": {\"6\": 111, \"15\": 6, \"5\": 3}, \"10\": {\"10\": 120}, \"5\": {\"5\": 77, \"4\": 9, \"15\": 4, \"7\": 21, \"13\": 5, \"6\": 4}, \"2\": {\"2\": 119, \"0\": 1}, \"12\": {\"12\": 119, \"9\": 1}, \"9\": {\"9\": 118, \"12\": 1, \"11\": 1}, \"1\": {\"1\": 120}, \"11\": {\"11\": 117, \"9\": 1, \"12\": 2}, \"13\": {\"13\": 120}}, \"32\": {\"5\": {\"5\": 87, \"0\": 2, \"7\": 24, \"8\": 6, \"14\": 1}, \"8\": {\"8\": 107, \"0\": 10, \"14\": 1, \"5\": 1, \"7\": 1}, \"11\": {\"11\": 120}, \"1\": {\"1\": 120}, \"10\": {\"10\": 120}, \"15\": {\"15\": 120}, \"3\": {\"3\": 119, \"13\": 1}, \"7\": {\"7\": 98, \"14\": 7, \"5\": 13, \"8\": 1, \"0\": 1}, \"4\": {\"4\": 107, \"2\": 12, \"13\": 1}, \"14\": {\"14\": 100, \"0\": 9, \"8\": 2, \"7\": 9}, \"9\": {\"9\": 119, \"12\": 1}, \"12\": {\"12\": 120}, \"6\": {\"6\": 120}, \"2\": {\"2\": 115, \"4\": 5}, \"0\": {\"0\": 108, \"8\": 3, \"7\": 5, \"14\": 3, \"5\": 1}, \"13\": {\"13\": 106, \"4\": 6, \"3\": 8}}, \"14\": {\"15\": {\"15\": 120}, \"3\": {\"3\": 120}, \"6\": {\"6\": 85, \"13\": 26, \"14\": 8, \"2\": 1}, \"1\": {\"1\": 120}, \"8\": {\"8\": 120}, \"10\": {\"10\": 120}, \"9\": {\"9\": 120}, \"13\": {\"14\": 26, \"13\": 32, \"6\": 50, \"2\": 9, \"5\": 1, \"15\": 1, \"3\": 1}, \"12\": {\"12\": 120}, \"5\": {\"5\": 109, \"2\": 3, \"4\": 6, \"3\": 2}, \"0\": {\"0\": 110, \"10\": 6, \"3\": 4}, \"2\": {\"13\": 9, \"14\": 28, \"7\": 1, \"5\": 15, \"2\": 53, \"3\": 2, \"6\": 6, \"4\": 6}, \"11\": {\"11\": 120}, \"14\": {\"14\": 101, \"13\": 16, \"3\": 1, \"2\": 1, \"6\": 1}, \"7\": {\"7\": 120}, \"4\": {\"4\": 114, \"5\": 4, \"2\": 2}}, \"20\": {\"3\": {\"3\": 84, \"5\": 2, \"9\": 32, \"7\": 1, \"1\": 1}, \"15\": {\"15\": 87, \"12\": 8, \"1\": 19, \"5\": 6}, \"8\": {\"8\": 114, \"4\": 1, \"14\": 3, \"7\": 1, \"3\": 1}, \"4\": {\"4\": 119, \"10\": 1}, \"14\": {\"14\": 120}, \"0\": {\"0\": 115, \"5\": 3, \"3\": 2}, \"7\": {\"7\": 94, \"2\": 18, \"9\": 6, \"4\": 1, \"12\": 1}, \"6\": {\"6\": 116, \"14\": 4}, \"10\": {\"10\": 120}, \"5\": {\"15\": 5, \"5\": 98, \"3\": 5, \"1\": 11, \"12\": 1}, \"2\": {\"2\": 93, \"9\": 9, \"7\": 13, \"12\": 5}, \"12\": {\"12\": 100, \"1\": 4, \"15\": 4, \"2\": 8, \"5\": 2, \"9\": 1, \"7\": 1}, \"9\": {\"9\": 95, \"3\": 13, \"7\": 5, \"1\": 5, \"2\": 2}, \"1\": {\"1\": 95, \"5\": 12, \"15\": 5, \"12\": 5, \"9\": 2, \"3\": 1}, \"11\": {\"11\": 120}, \"13\": {\"13\": 117, \"2\": 2, \"15\": 1}}, \"44\": {\"5\": {\"5\": 106, \"14\": 6, \"15\": 8}, \"8\": {\"8\": 91, \"0\": 22, \"15\": 5, \"5\": 2}, \"11\": {\"13\": 3, \"11\": 117}, \"1\": {\"1\": 118, \"2\": 2}, \"10\": {\"10\": 109, \"7\": 5, \"1\": 5, \"2\": 1}, \"15\": {\"15\": 112, \"14\": 3, \"5\": 4, \"8\": 1}, \"3\": {\"3\": 120}, \"7\": {\"7\": 99, \"9\": 21}, \"4\": {\"14\": 43, \"4\": 76, \"5\": 1}, \"14\": {\"14\": 79, \"5\": 5, \"4\": 33, \"15\": 3}, \"9\": {\"9\": 62, \"7\": 30, \"6\": 18, \"13\": 10}, \"12\": {\"12\": 118, \"3\": 2}, \"6\": {\"6\": 95, \"13\": 20, \"9\": 5}, \"2\": {\"2\": 119, \"7\": 1}, \"0\": {\"0\": 104, \"8\": 16}, \"13\": {\"13\": 103, \"6\": 15, \"9\": 2}}, \"38\": {\"14\": {\"14\": 117, \"2\": 3}, \"0\": {\"0\": 103, \"10\": 9, \"7\": 1, \"11\": 1, \"3\": 3, \"13\": 3}, \"13\": {\"13\": 114, \"2\": 1, \"0\": 1, \"10\": 4}, \"7\": {\"7\": 117, \"5\": 3}, \"9\": {\"9\": 118, \"5\": 2}, \"3\": {\"3\": 117, \"11\": 1, \"0\": 2}, \"11\": {\"3\": 18, \"10\": 3, \"11\": 98, \"0\": 1}, \"6\": {\"6\": 120}, \"8\": {\"8\": 83, \"5\": 22, \"7\": 7, \"13\": 5, \"0\": 3}, \"4\": {\"4\": 120}, \"5\": {\"8\": 46, \"5\": 56, \"7\": 13, \"15\": 2, \"9\": 3}, \"10\": {\"10\": 109, \"13\": 3, \"0\": 8}, \"1\": {\"1\": 120}, \"2\": {\"2\": 119, \"14\": 1}, \"15\": {\"15\": 116, \"8\": 3, \"5\": 1}, \"12\": {\"12\": 120}}, \"26\": {\"13\": {\"13\": 100, \"9\": 7, \"3\": 4, \"2\": 8, \"8\": 1}, \"2\": {\"2\": 86, \"3\": 11, \"7\": 8, \"0\": 2, \"8\": 8, \"9\": 5}, \"8\": {\"7\": 29, \"8\": 80, \"9\": 9, \"2\": 1, \"0\": 1}, \"9\": {\"8\": 11, \"9\": 102, \"13\": 6, \"2\": 1}, \"12\": {\"12\": 120}, \"4\": {\"4\": 120}, \"3\": {\"3\": 103, \"7\": 14, \"2\": 3}, \"15\": {\"15\": 93, \"5\": 16, \"6\": 11}, \"14\": {\"14\": 77, \"0\": 18, \"10\": 18, \"1\": 7}, \"10\": {\"10\": 93, \"14\": 10, \"0\": 16, \"15\": 1}, \"7\": {\"7\": 66, \"3\": 27, \"8\": 20, \"2\": 7}, \"11\": {\"11\": 120}, \"6\": {\"6\": 115, \"10\": 1, \"15\": 4}, \"1\": {\"1\": 88, \"14\": 29, \"10\": 2, \"0\": 1}, \"5\": {\"5\": 104, \"15\": 16}, \"0\": {\"0\": 81, \"14\": 10, \"10\": 24, \"7\": 2, \"8\": 3}}}, \"per_domain_accuracy\": {\"8\": {\"accuracy\": 0.9229166666666667, \"source?\": true}, \"50\": {\"accuracy\": 0.9578125, \"source?\": true}, \"32\": {\"accuracy\": 0.9302083333333333, \"source?\": true}, \"14\": {\"accuracy\": 0.8770833333333333, \"source?\": false}, \"20\": {\"accuracy\": 0.8786458333333333, \"source?\": false}, \"44\": {\"accuracy\": 0.8479166666666667, \"source?\": false}, \"38\": {\"accuracy\": 0.9098958333333333, \"source?\": false}, \"26\": {\"accuracy\": 0.80625, \"source?\": false}}}, \"history\": {\"epoch_indices\": [1, 2, 3, 4, 5, 6, 7, 8, 9, 10, 11, 12, 13, 14, 15, 16, 17, 18, 19, 20, 21, 22, 23, 24, 25, 26, 27, 28, 29], \"train_label_loss\": [0.7357638286337966, 1.0780125343728633, 0.5151067061261052, 0.4710037617811135, 0.46374716244283176, 0.44894457175618124, 0.4118734447019441, 0.3625940130934829, 0.3241302166843698, 0.26762359036753575, 0.2396464937987427, 0.2320548693161635, 0.21603360469674782, 0.21832794687222867, 0.19751275223901585, 0.19191230241918847, 0.19528283978191516, 0.18966446764589776, 0.18104962200325514, 0.18152214069407255, 0.17112011900836868, 0.1764325041944782, 0.16955257133092907, 0.1551580612192906, 0.1602985757624819, 0.15467178625764236, 0.14378200919544767, 0.15281422603431913, 0.14653089037608533], \"source_val_label_loss\": [4.9721574783325195, 0.5615285634994507, 0.5260142683982849, 0.48814287781715393, 0.49359944462776184, 0.4595392942428589, 0.3988178074359894, 0.3723694086074829, 0.35932761430740356, 0.2700401544570923, 0.24856457114219666, 0.2663969099521637, 0.22224177420139313, 0.2150844782590866, 0.20700447261333466, 0.19482414424419403, 0.23221437633037567, 0.2405061423778534, 0.18906456232070923, 0.18687735497951508, 0.21052750945091248, 0.18220634758472443, 0.18695294857025146, 0.19232705235481262, 0.18854929506778717, 0.17178040742874146, 0.19096031785011292, 0.17063790559768677, 0.17989246547222137], \"target_val_label_loss\": [6.956928730010986, 1.1575464010238647, 1.1134732961654663, 1.0435876846313477, 1.077628254890442, 0.9606541395187378, 0.9786067008972168, 1.0186302661895752, 0.8969737887382507, 0.7208011746406555, 0.6915183067321777, 0.6920502781867981, 0.6433748602867126, 0.6381741762161255, 0.6614409685134888, 0.6128509044647217, 0.6133863925933838, 0.6411988735198975, 0.5784766674041748, 0.5450085401535034, 0.575968325138092, 0.5411643981933594, 0.5104663968086243, 0.5253439545631409, 0.49493852257728577, 0.5060339570045471, 0.5336355566978455, 0.5503978133201599, 0.5442923903465271], \"source_val_acc_label\": [0.7444444444444445, 0.8027777777777778, 0.8118055555555556, 0.8269097222222223, 0.8197916666666667, 0.8378472222222222, 0.8588541666666667, 0.8711805555555555, 0.8760416666666667, 0.9078125, 0.9152777777777777, 0.9043402777777778, 0.9248263888888889, 0.9239583333333333, 0.9263888888888889, 0.9309027777777777, 0.9159722222222222, 0.9133680555555556, 0.9354166666666667, 0.9338541666666667, 0.9267361111111111, 0.934375, 0.9331597222222222, 0.9315972222222222, 0.9369791666666667, 0.9427083333333334, 0.9338541666666667, 0.9394097222222222, 0.9342013888888889], \"target_val_acc_label\": [0.6582291666666666, 0.6819791666666667, 0.7030208333333333, 0.6929166666666666, 0.6846875, 0.7303125, 0.7444791666666667, 0.7478125, 0.7846875, 0.8325, 0.8397916666666667, 0.8316666666666667, 0.8447916666666667, 0.8444791666666667, 0.8429166666666666, 0.8572916666666667, 0.8434375, 0.8267708333333333, 0.8688541666666667, 0.87625, 0.860625, 0.8622916666666667, 0.86875, 0.8696875, 0.8639583333333334, 0.8702083333333334, 0.8577083333333333, 0.8563541666666666, 0.8541666666666666]}, \"dataset_metrics\": {\"source\": {\"train\": {\"n_unique_x\": 33600, \"n_unique_y\": 16, \"n_batch/episode\": 420}, \"val\": {\"n_unique_x\": 7200, \"n_unique_y\": 16, \"n_batch/episode\": 180}, \"test\": {\"n_unique_x\": 7200, \"n_unique_y\": 16, \"n_batch/episode\": 180}}, \"target\": {\"train\": {\"n_unique_x\": 56000, \"n_unique_y\": 16, \"n_batch/episode\": 700}, \"val\": {\"n_unique_x\": 12000, \"n_unique_y\": 16, \"n_batch/episode\": 300}, \"test\": {\"n_unique_x\": 12000, \"n_unique_y\": 16, \"n_batch/episode\": 300}}}}'"
      ]
     },
     "execution_count": 20,
     "metadata": {},
     "output_type": "execute_result"
    }
   ],
   "source": [
    "json.dumps(experiment)"
   ]
  }
 ],
 "metadata": {
  "celltoolbar": "Tags",
  "kernelspec": {
   "display_name": "Python 3 (ipykernel)",
   "language": "python",
   "name": "python3"
  },
  "language_info": {
   "codemirror_mode": {
    "name": "ipython",
    "version": 3
   },
   "file_extension": ".py",
   "mimetype": "text/x-python",
   "name": "python",
   "nbconvert_exporter": "python",
   "pygments_lexer": "ipython3",
   "version": "3.8.10"
  },
  "papermill": {
   "default_parameters": {},
   "duration": 2934.197656,
   "end_time": "2022-03-06T04:55:12.838816",
   "environment_variables": {},
   "exception": null,
   "input_path": "/mnt/wd500GB/CSC500/csc500-main/csc500-notebooks/templates/ptn_template.ipynb",
   "output_path": "trial.ipynb",
   "parameters": {
    "parameters": {
     "BEST_MODEL_PATH": "./best_model.pth",
     "NUM_LOGS_PER_EPOCH": 10,
     "criteria_for_best": "target_loss",
     "dataset_seed": 1337,
     "device": "cuda",
     "domains_source": [
      8,
      32,
      50
     ],
     "domains_target": [
      14,
      20,
      26,
      38,
      44
     ],
     "episode_transforms_source": [],
     "episode_transforms_target": [],
     "experiment_name": "baseline_ptn_32bit_oracle.run1.framed",
     "labels_source": [
      "3123D52",
      "3123D65",
      "3123D79",
      "3123D80",
      "3123D54",
      "3123D70",
      "3123D7B",
      "3123D89",
      "3123D58",
      "3123D76",
      "3123D7D",
      "3123EFE",
      "3123D64",
      "3123D78",
      "3123D7E",
      "3124E4A"
     ],
     "labels_target": [
      "3123D52",
      "3123D65",
      "3123D79",
      "3123D80",
      "3123D54",
      "3123D70",
      "3123D7B",
      "3123D89",
      "3123D58",
      "3123D76",
      "3123D7D",
      "3123EFE",
      "3123D64",
      "3123D78",
      "3123D7E",
      "3124E4A"
     ],
     "lr": 0.001,
     "n_epoch": 50,
     "n_query": 2,
     "n_shot": 3,
     "n_way": 16,
     "num_examples_per_domain_per_label_source": 1000,
     "num_examples_per_domain_per_label_target": 1000,
     "patience": 3,
     "pickle_name": "oracle.Run1_framed_2000Examples_stratified_ds.2022A.pkl",
     "seed": 1337,
     "test_k_factor": 2,
     "torch_default_dtype": "torch.float32",
     "train_k_factor": 1,
     "val_k_factor": 2,
     "x_net": [
      {
       "class": "nnReshape",
       "kargs": {
        "shape": [
         -1,
         1,
         2,
         256
        ]
       }
      },
      {
       "class": "Conv2d",
       "kargs": {
        "bias": false,
        "in_channels": 1,
        "kernel_size": [
         1,
         7
        ],
        "out_channels": 256,
        "padding": [
         0,
         3
        ]
       }
      },
      {
       "class": "ReLU",
       "kargs": {
        "inplace": true
       }
      },
      {
       "class": "BatchNorm2d",
       "kargs": {
        "num_features": 256
       }
      },
      {
       "class": "Conv2d",
       "kargs": {
        "bias": true,
        "in_channels": 256,
        "kernel_size": [
         2,
         7
        ],
        "out_channels": 80,
        "padding": [
         0,
         3
        ]
       }
      },
      {
       "class": "ReLU",
       "kargs": {
        "inplace": true
       }
      },
      {
       "class": "BatchNorm2d",
       "kargs": {
        "num_features": 80
       }
      },
      {
       "class": "Flatten",
       "kargs": {}
      },
      {
       "class": "Linear",
       "kargs": {
        "in_features": 20480,
        "out_features": 256
       }
      },
      {
       "class": "ReLU",
       "kargs": {
        "inplace": true
       }
      },
      {
       "class": "BatchNorm1d",
       "kargs": {
        "num_features": 256
       }
      },
      {
       "class": "Linear",
       "kargs": {
        "in_features": 256,
        "out_features": 256
       }
      }
     ],
     "x_transforms_source": [],
     "x_transforms_target": []
    }
   },
   "start_time": "2022-03-06T04:06:18.641160",
   "version": "2.3.4"
  }
 },
 "nbformat": 4,
 "nbformat_minor": 5
}