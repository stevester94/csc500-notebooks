{
 "cells": [
  {
   "cell_type": "markdown",
   "id": "9fea5f46",
   "metadata": {
    "papermill": {
     "duration": 0.013731,
     "end_time": "2022-03-02T17:01:17.672130",
     "exception": false,
     "start_time": "2022-03-02T17:01:17.658399",
     "status": "completed"
    },
    "tags": []
   },
   "source": [
    "# PTN Template\n",
    "This notebook serves as a template for single dataset PTN experiments  \n",
    "It can be run on its own by setting STANDALONE to True (do a find for \"STANDALONE\" to see where)  \n",
    "But it is intended to be executed as part of a *papermill.py script. See any of the   \n",
    "experimentes with a papermill script to get started with that workflow.  "
   ]
  },
  {
   "cell_type": "code",
   "execution_count": 1,
   "id": "0902182a",
   "metadata": {
    "execution": {
     "iopub.execute_input": "2022-03-02T17:01:17.703916Z",
     "iopub.status.busy": "2022-03-02T17:01:17.702794Z",
     "iopub.status.idle": "2022-03-02T17:01:18.432822Z",
     "shell.execute_reply": "2022-03-02T17:01:18.432507Z"
    },
    "papermill": {
     "duration": 0.751591,
     "end_time": "2022-03-02T17:01:18.432894",
     "exception": false,
     "start_time": "2022-03-02T17:01:17.681303",
     "status": "completed"
    },
    "tags": []
   },
   "outputs": [],
   "source": [
    "%load_ext autoreload\n",
    "%autoreload 2\n",
    "%matplotlib inline\n",
    "\n",
    "    \n",
    "import os, json, sys, time, random\n",
    "import numpy as np\n",
    "import torch\n",
    "from torch.optim import Adam\n",
    "from  easydict import EasyDict\n",
    "import matplotlib.pyplot as plt\n",
    "\n",
    "from steves_models.steves_ptn import Steves_Prototypical_Network\n",
    "\n",
    "from steves_utils.lazy_iterable_wrapper import Lazy_Iterable_Wrapper\n",
    "from steves_utils.iterable_aggregator import Iterable_Aggregator\n",
    "from steves_utils.ptn_train_eval_test_jig import  PTN_Train_Eval_Test_Jig\n",
    "from steves_utils.torch_sequential_builder import build_sequential\n",
    "from steves_utils.torch_utils import get_dataset_metrics, ptn_confusion_by_domain_over_dataloader\n",
    "from steves_utils.utils_v2 import (per_domain_accuracy_from_confusion, get_datasets_base_path)\n",
    "from steves_utils.PTN.utils import independent_accuracy_assesment\n",
    "\n",
    "from steves_utils.stratified_dataset.episodic_accessor import Episodic_Accessor_Factory\n",
    "\n",
    "from steves_utils.ptn_do_report import (\n",
    "    get_loss_curve,\n",
    "    get_results_table,\n",
    "    get_parameters_table,\n",
    "    get_domain_accuracies,\n",
    ")\n",
    "\n",
    "from steves_utils.transforms import get_chained_transform"
   ]
  },
  {
   "cell_type": "markdown",
   "id": "41c840b4",
   "metadata": {
    "papermill": {
     "duration": 0.009493,
     "end_time": "2022-03-02T17:01:18.454185",
     "exception": false,
     "start_time": "2022-03-02T17:01:18.444692",
     "status": "completed"
    },
    "tags": []
   },
   "source": [
    "# Required Parameters\n",
    "These are allowed parameters, not defaults\n",
    "Each of these values need to be present in the injected parameters (the notebook will raise an exception if they are not present)\n",
    "\n",
    "Papermill uses the cell tag \"parameters\" to inject the real parameters below this cell.\n",
    "Enable tags to see what I mean"
   ]
  },
  {
   "cell_type": "code",
   "execution_count": 2,
   "id": "fd44eb83",
   "metadata": {
    "execution": {
     "iopub.execute_input": "2022-03-02T17:01:18.475934Z",
     "iopub.status.busy": "2022-03-02T17:01:18.475330Z",
     "iopub.status.idle": "2022-03-02T17:01:18.485094Z",
     "shell.execute_reply": "2022-03-02T17:01:18.484815Z"
    },
    "papermill": {
     "duration": 0.021468,
     "end_time": "2022-03-02T17:01:18.485156",
     "exception": false,
     "start_time": "2022-03-02T17:01:18.463688",
     "status": "completed"
    },
    "tags": []
   },
   "outputs": [],
   "source": [
    "required_parameters = {\n",
    "    \"experiment_name\",\n",
    "    \"lr\",\n",
    "    \"device\",\n",
    "    \"seed\",\n",
    "    \"dataset_seed\",\n",
    "    \"labels_source\",\n",
    "    \"labels_target\",\n",
    "    \"domains_source\",\n",
    "    \"domains_target\",\n",
    "    \"num_examples_per_domain_per_label_source\",\n",
    "    \"num_examples_per_domain_per_label_target\",\n",
    "    \"n_shot\",\n",
    "    \"n_way\",\n",
    "    \"n_query\",\n",
    "    \"train_k_factor\",\n",
    "    \"val_k_factor\",\n",
    "    \"test_k_factor\",\n",
    "    \"n_epoch\",\n",
    "    \"patience\",\n",
    "    \"criteria_for_best\",\n",
    "    \"x_transforms_source\",\n",
    "    \"x_transforms_target\",\n",
    "    \"episode_transforms_source\",\n",
    "    \"episode_transforms_target\",\n",
    "    \"pickle_name\",\n",
    "    \"x_net\",\n",
    "    \"NUM_LOGS_PER_EPOCH\",\n",
    "    \"BEST_MODEL_PATH\",\n",
    "    \"torch_default_dtype\"\n",
    "}"
   ]
  },
  {
   "cell_type": "code",
   "execution_count": 3,
   "id": "fa3f0049",
   "metadata": {
    "execution": {
     "iopub.execute_input": "2022-03-02T17:01:18.513148Z",
     "iopub.status.busy": "2022-03-02T17:01:18.512692Z",
     "iopub.status.idle": "2022-03-02T17:01:18.523553Z",
     "shell.execute_reply": "2022-03-02T17:01:18.523271Z"
    },
    "papermill": {
     "duration": 0.026796,
     "end_time": "2022-03-02T17:01:18.523613",
     "exception": false,
     "start_time": "2022-03-02T17:01:18.496817",
     "status": "completed"
    },
    "tags": [
     "parameters"
    ]
   },
   "outputs": [],
   "source": [
    "\n",
    "\n",
    "standalone_parameters = {}\n",
    "standalone_parameters[\"experiment_name\"] = \"STANDALONE PTN\"\n",
    "standalone_parameters[\"lr\"] = 0.0001\n",
    "standalone_parameters[\"device\"] = \"cuda\"\n",
    "\n",
    "standalone_parameters[\"seed\"] = 1337\n",
    "standalone_parameters[\"dataset_seed\"] = 1337\n",
    "\n",
    "\n",
    "standalone_parameters[\"num_examples_per_domain_per_label_source\"]=100\n",
    "standalone_parameters[\"num_examples_per_domain_per_label_target\"]=100\n",
    "\n",
    "standalone_parameters[\"n_shot\"] = 3\n",
    "standalone_parameters[\"n_query\"]  = 2\n",
    "standalone_parameters[\"train_k_factor\"] = 1\n",
    "standalone_parameters[\"val_k_factor\"] = 2\n",
    "standalone_parameters[\"test_k_factor\"] = 2\n",
    "\n",
    "\n",
    "standalone_parameters[\"n_epoch\"] = 100\n",
    "\n",
    "standalone_parameters[\"patience\"] = 10\n",
    "standalone_parameters[\"criteria_for_best\"] = \"target_accuracy\"\n",
    "\n",
    "standalone_parameters[\"x_transforms_source\"] = [\"unit_power\"]\n",
    "standalone_parameters[\"x_transforms_target\"] = [\"unit_power\"]\n",
    "standalone_parameters[\"episode_transforms_source\"] = []\n",
    "standalone_parameters[\"episode_transforms_target\"] = []\n",
    "\n",
    "standalone_parameters[\"torch_default_dtype\"] = \"torch.float32\" \n",
    "\n",
    "\n",
    "\n",
    "standalone_parameters[\"x_net\"] =     [\n",
    "    {\"class\": \"nnReshape\", \"kargs\": {\"shape\":[-1, 1, 2, 256]}},\n",
    "    {\"class\": \"Conv2d\", \"kargs\": { \"in_channels\":1, \"out_channels\":256, \"kernel_size\":(1,7), \"bias\":False, \"padding\":(0,3), },},\n",
    "    {\"class\": \"ReLU\", \"kargs\": {\"inplace\": True}},\n",
    "    {\"class\": \"BatchNorm2d\", \"kargs\": {\"num_features\":256}},\n",
    "\n",
    "    {\"class\": \"Conv2d\", \"kargs\": { \"in_channels\":256, \"out_channels\":80, \"kernel_size\":(2,7), \"bias\":True, \"padding\":(0,3), },},\n",
    "    {\"class\": \"ReLU\", \"kargs\": {\"inplace\": True}},\n",
    "    {\"class\": \"BatchNorm2d\", \"kargs\": {\"num_features\":80}},\n",
    "    {\"class\": \"Flatten\", \"kargs\": {}},\n",
    "\n",
    "    {\"class\": \"Linear\", \"kargs\": {\"in_features\": 80*256, \"out_features\": 256}}, # 80 units per IQ pair\n",
    "    {\"class\": \"ReLU\", \"kargs\": {\"inplace\": True}},\n",
    "    {\"class\": \"BatchNorm1d\", \"kargs\": {\"num_features\":256}},\n",
    "\n",
    "    {\"class\": \"Linear\", \"kargs\": {\"in_features\": 256, \"out_features\": 256}},\n",
    "]\n",
    "\n",
    "# Parameters relevant to results\n",
    "# These parameters will basically never need to change\n",
    "standalone_parameters[\"NUM_LOGS_PER_EPOCH\"] = 10\n",
    "standalone_parameters[\"BEST_MODEL_PATH\"] = \"./best_model.pth\"\n",
    "\n",
    "# uncomment for CORES dataset\n",
    "from steves_utils.CORES.utils import (\n",
    "    ALL_NODES,\n",
    "    ALL_NODES_MINIMUM_1000_EXAMPLES,\n",
    "    ALL_DAYS\n",
    ")\n",
    "\n",
    "\n",
    "standalone_parameters[\"labels_source\"] = ALL_NODES\n",
    "standalone_parameters[\"labels_target\"] = ALL_NODES\n",
    "\n",
    "standalone_parameters[\"domains_source\"] = [1]\n",
    "standalone_parameters[\"domains_target\"] = [2,3,4,5]\n",
    "\n",
    "standalone_parameters[\"pickle_name\"] = \"cores.stratified_ds.2022A.pkl\"\n",
    "\n",
    "\n",
    "# Uncomment these for ORACLE dataset\n",
    "# from steves_utils.ORACLE.utils_v2 import (\n",
    "#     ALL_DISTANCES_FEET,\n",
    "#     ALL_RUNS,\n",
    "#     ALL_SERIAL_NUMBERS,\n",
    "# )\n",
    "# standalone_parameters[\"labels_source\"] = ALL_SERIAL_NUMBERS\n",
    "# standalone_parameters[\"labels_target\"] = ALL_SERIAL_NUMBERS\n",
    "# standalone_parameters[\"domains_source\"] = [8,20, 38,50]\n",
    "# standalone_parameters[\"domains_target\"] = [14, 26, 32, 44, 56]\n",
    "# standalone_parameters[\"pickle_name\"] = \"oracle.frame_indexed.stratified_ds.2022A.pkl\"\n",
    "# standalone_parameters[\"num_examples_per_domain_per_label_source\"]=1000\n",
    "# standalone_parameters[\"num_examples_per_domain_per_label_target\"]=1000\n",
    "\n",
    "# Uncomment these for Metahan dataset\n",
    "# standalone_parameters[\"labels_source\"] = list(range(19))\n",
    "# standalone_parameters[\"labels_target\"] = list(range(19))\n",
    "# standalone_parameters[\"domains_source\"] = [0]\n",
    "# standalone_parameters[\"domains_target\"] = [1]\n",
    "# standalone_parameters[\"pickle_name\"] = \"metehan.stratified_ds.2022A.pkl\"\n",
    "# standalone_parameters[\"n_way\"]  = len(standalone_parameters[\"labels_source\"])\n",
    "# standalone_parameters[\"num_examples_per_domain_per_label_source\"]=200\n",
    "# standalone_parameters[\"num_examples_per_domain_per_label_target\"]=100\n",
    "\n",
    "\n",
    "standalone_parameters[\"n_way\"]  = len(standalone_parameters[\"labels_source\"])"
   ]
  },
  {
   "cell_type": "code",
   "execution_count": 4,
   "id": "13f185a6",
   "metadata": {
    "execution": {
     "iopub.execute_input": "2022-03-02T17:01:18.551450Z",
     "iopub.status.busy": "2022-03-02T17:01:18.551008Z",
     "iopub.status.idle": "2022-03-02T17:01:18.561785Z",
     "shell.execute_reply": "2022-03-02T17:01:18.561414Z"
    },
    "papermill": {
     "duration": 0.028659,
     "end_time": "2022-03-02T17:01:18.561863",
     "exception": false,
     "start_time": "2022-03-02T17:01:18.533204",
     "status": "completed"
    },
    "tags": [
     "injected-parameters"
    ]
   },
   "outputs": [],
   "source": [
    "# Parameters\n",
    "parameters = {\n",
    "    \"experiment_name\": \"baseline_ptn_32bit_oracle.run1.framed\",\n",
    "    \"lr\": 0.001,\n",
    "    \"device\": \"cuda\",\n",
    "    \"seed\": 1337,\n",
    "    \"dataset_seed\": 1337,\n",
    "    \"labels_source\": [\n",
    "        \"3123D52\",\n",
    "        \"3123D65\",\n",
    "        \"3123D79\",\n",
    "        \"3123D80\",\n",
    "        \"3123D54\",\n",
    "        \"3123D70\",\n",
    "        \"3123D7B\",\n",
    "        \"3123D89\",\n",
    "        \"3123D58\",\n",
    "        \"3123D76\",\n",
    "        \"3123D7D\",\n",
    "        \"3123EFE\",\n",
    "        \"3123D64\",\n",
    "        \"3123D78\",\n",
    "        \"3123D7E\",\n",
    "        \"3124E4A\",\n",
    "    ],\n",
    "    \"labels_target\": [\n",
    "        \"3123D52\",\n",
    "        \"3123D65\",\n",
    "        \"3123D79\",\n",
    "        \"3123D80\",\n",
    "        \"3123D54\",\n",
    "        \"3123D70\",\n",
    "        \"3123D7B\",\n",
    "        \"3123D89\",\n",
    "        \"3123D58\",\n",
    "        \"3123D76\",\n",
    "        \"3123D7D\",\n",
    "        \"3123EFE\",\n",
    "        \"3123D64\",\n",
    "        \"3123D78\",\n",
    "        \"3123D7E\",\n",
    "        \"3124E4A\",\n",
    "    ],\n",
    "    \"x_transforms_source\": [],\n",
    "    \"x_transforms_target\": [],\n",
    "    \"episode_transforms_source\": [],\n",
    "    \"episode_transforms_target\": [],\n",
    "    \"num_examples_per_domain_per_label_source\": 1000,\n",
    "    \"num_examples_per_domain_per_label_target\": 1000,\n",
    "    \"n_shot\": 3,\n",
    "    \"n_way\": 16,\n",
    "    \"n_query\": 2,\n",
    "    \"train_k_factor\": 1,\n",
    "    \"val_k_factor\": 2,\n",
    "    \"test_k_factor\": 2,\n",
    "    \"torch_default_dtype\": \"torch.float32\",\n",
    "    \"n_epoch\": 50,\n",
    "    \"patience\": 3,\n",
    "    \"criteria_for_best\": \"target_loss\",\n",
    "    \"x_net\": [\n",
    "        {\"class\": \"nnReshape\", \"kargs\": {\"shape\": [-1, 1, 2, 256]}},\n",
    "        {\n",
    "            \"class\": \"Conv2d\",\n",
    "            \"kargs\": {\n",
    "                \"in_channels\": 1,\n",
    "                \"out_channels\": 256,\n",
    "                \"kernel_size\": [1, 7],\n",
    "                \"bias\": False,\n",
    "                \"padding\": [0, 3],\n",
    "            },\n",
    "        },\n",
    "        {\"class\": \"ReLU\", \"kargs\": {\"inplace\": True}},\n",
    "        {\"class\": \"BatchNorm2d\", \"kargs\": {\"num_features\": 256}},\n",
    "        {\n",
    "            \"class\": \"Conv2d\",\n",
    "            \"kargs\": {\n",
    "                \"in_channels\": 256,\n",
    "                \"out_channels\": 80,\n",
    "                \"kernel_size\": [2, 7],\n",
    "                \"bias\": True,\n",
    "                \"padding\": [0, 3],\n",
    "            },\n",
    "        },\n",
    "        {\"class\": \"ReLU\", \"kargs\": {\"inplace\": True}},\n",
    "        {\"class\": \"BatchNorm2d\", \"kargs\": {\"num_features\": 80}},\n",
    "        {\"class\": \"Flatten\", \"kargs\": {}},\n",
    "        {\"class\": \"Linear\", \"kargs\": {\"in_features\": 20480, \"out_features\": 256}},\n",
    "        {\"class\": \"ReLU\", \"kargs\": {\"inplace\": True}},\n",
    "        {\"class\": \"BatchNorm1d\", \"kargs\": {\"num_features\": 256}},\n",
    "        {\"class\": \"Linear\", \"kargs\": {\"in_features\": 256, \"out_features\": 256}},\n",
    "    ],\n",
    "    \"NUM_LOGS_PER_EPOCH\": 10,\n",
    "    \"BEST_MODEL_PATH\": \"./best_model.pth\",\n",
    "    \"pickle_name\": \"oracle.Run1_framed_1300Examples_stratified_ds.2022A.pkl\",\n",
    "    \"domains_source\": [8, 32, 50],\n",
    "    \"domains_target\": [14, 20, 26, 38, 44],\n",
    "}\n"
   ]
  },
  {
   "cell_type": "code",
   "execution_count": 5,
   "id": "8fa1cc33",
   "metadata": {
    "execution": {
     "iopub.execute_input": "2022-03-02T17:01:18.587108Z",
     "iopub.status.busy": "2022-03-02T17:01:18.586853Z",
     "iopub.status.idle": "2022-03-02T17:01:18.596387Z",
     "shell.execute_reply": "2022-03-02T17:01:18.596028Z"
    },
    "papermill": {
     "duration": 0.021342,
     "end_time": "2022-03-02T17:01:18.596465",
     "exception": false,
     "start_time": "2022-03-02T17:01:18.575123",
     "status": "completed"
    },
    "tags": []
   },
   "outputs": [],
   "source": [
    "# Set this to True if you want to run this template directly\n",
    "STANDALONE = False\n",
    "if STANDALONE:\n",
    "    print(\"parameters not injected, running with standalone_parameters\")\n",
    "    parameters = standalone_parameters\n",
    "\n",
    "if not 'parameters' in locals() and not 'parameters' in globals():\n",
    "    raise Exception(\"Parameter injection failed\")\n",
    "\n",
    "#Use an easy dict for all the parameters\n",
    "p = EasyDict(parameters)\n",
    "\n",
    "supplied_keys = set(p.keys())\n",
    "\n",
    "if  supplied_keys != required_parameters:\n",
    "    print(\"Parameters are incorrect\")\n",
    "    if len(supplied_keys - required_parameters)>0: print(\"Shouldn't have:\", str(supplied_keys - required_parameters))\n",
    "    if len(required_parameters - supplied_keys)>0: print(\"Need to have:\", str(required_parameters - supplied_keys))\n",
    "    raise RuntimeError(\"Parameters are incorrect\")\n",
    "\n"
   ]
  },
  {
   "cell_type": "code",
   "execution_count": 6,
   "id": "3a028d58",
   "metadata": {
    "execution": {
     "iopub.execute_input": "2022-03-02T17:01:18.623421Z",
     "iopub.status.busy": "2022-03-02T17:01:18.623169Z",
     "iopub.status.idle": "2022-03-02T17:01:18.635607Z",
     "shell.execute_reply": "2022-03-02T17:01:18.635163Z"
    },
    "papermill": {
     "duration": 0.025484,
     "end_time": "2022-03-02T17:01:18.635717",
     "exception": false,
     "start_time": "2022-03-02T17:01:18.610233",
     "status": "completed"
    },
    "tags": []
   },
   "outputs": [],
   "source": [
    "###################################\n",
    "# Set the RNGs and make it all deterministic\n",
    "###################################\n",
    "np.random.seed(p.seed)\n",
    "random.seed(p.seed)\n",
    "torch.manual_seed(p.seed)\n",
    "\n",
    "torch.use_deterministic_algorithms(True) "
   ]
  },
  {
   "cell_type": "code",
   "execution_count": 7,
   "id": "b691acf6",
   "metadata": {
    "execution": {
     "iopub.execute_input": "2022-03-02T17:01:18.660090Z",
     "iopub.status.busy": "2022-03-02T17:01:18.659524Z",
     "iopub.status.idle": "2022-03-02T17:01:18.671588Z",
     "shell.execute_reply": "2022-03-02T17:01:18.671173Z"
    },
    "papermill": {
     "duration": 0.024009,
     "end_time": "2022-03-02T17:01:18.671699",
     "exception": false,
     "start_time": "2022-03-02T17:01:18.647690",
     "status": "completed"
    },
    "tags": []
   },
   "outputs": [],
   "source": [
    "###########################################\n",
    "# The stratified datasets honor this\n",
    "###########################################\n",
    "torch.set_default_dtype(eval(p.torch_default_dtype))"
   ]
  },
  {
   "cell_type": "code",
   "execution_count": 8,
   "id": "b5fba671",
   "metadata": {
    "execution": {
     "iopub.execute_input": "2022-03-02T17:01:18.695472Z",
     "iopub.status.busy": "2022-03-02T17:01:18.695221Z",
     "iopub.status.idle": "2022-03-02T17:01:18.734535Z",
     "shell.execute_reply": "2022-03-02T17:01:18.734064Z"
    },
    "papermill": {
     "duration": 0.050899,
     "end_time": "2022-03-02T17:01:18.734646",
     "exception": false,
     "start_time": "2022-03-02T17:01:18.683747",
     "status": "completed"
    },
    "tags": []
   },
   "outputs": [],
   "source": [
    "###################################\n",
    "# Build the network(s)\n",
    "# Note: It's critical to do this AFTER setting the RNG\n",
    "# (This is due to the randomized initial weights)\n",
    "###################################\n",
    "x_net = build_sequential(p.x_net)"
   ]
  },
  {
   "cell_type": "code",
   "execution_count": 9,
   "id": "5d7e61cc",
   "metadata": {
    "execution": {
     "iopub.execute_input": "2022-03-02T17:01:18.763166Z",
     "iopub.status.busy": "2022-03-02T17:01:18.762864Z",
     "iopub.status.idle": "2022-03-02T17:01:18.772491Z",
     "shell.execute_reply": "2022-03-02T17:01:18.772911Z"
    },
    "papermill": {
     "duration": 0.022346,
     "end_time": "2022-03-02T17:01:18.773044",
     "exception": false,
     "start_time": "2022-03-02T17:01:18.750698",
     "status": "completed"
    },
    "tags": []
   },
   "outputs": [],
   "source": [
    "start_time_secs = time.time()"
   ]
  },
  {
   "cell_type": "code",
   "execution_count": 10,
   "id": "fd5442bc",
   "metadata": {
    "execution": {
     "iopub.execute_input": "2022-03-02T17:01:18.806400Z",
     "iopub.status.busy": "2022-03-02T17:01:18.805995Z",
     "iopub.status.idle": "2022-03-02T17:01:19.544329Z",
     "shell.execute_reply": "2022-03-02T17:01:19.544704Z"
    },
    "papermill": {
     "duration": 0.756088,
     "end_time": "2022-03-02T17:01:19.544836",
     "exception": false,
     "start_time": "2022-03-02T17:01:18.788748",
     "status": "completed"
    },
    "tags": []
   },
   "outputs": [],
   "source": [
    "###################################\n",
    "# Build the dataset\n",
    "###################################\n",
    "\n",
    "if p.x_transforms_source == []: x_transform_source = None\n",
    "else: x_transform_source = get_chained_transform(p.x_transforms_source) \n",
    "\n",
    "if p.x_transforms_target == []: x_transform_target = None\n",
    "else: x_transform_target = get_chained_transform(p.x_transforms_target)\n",
    "\n",
    "if p.episode_transforms_source == []: episode_transform_source = None\n",
    "else: raise Exception(\"episode_transform_source not implemented\")\n",
    "\n",
    "if p.episode_transforms_target == []: episode_transform_target = None\n",
    "else: raise Exception(\"episode_transform_target not implemented\")\n",
    "\n",
    "\n",
    "eaf_source = Episodic_Accessor_Factory(\n",
    "    labels=p.labels_source,\n",
    "    domains=p.domains_source,\n",
    "    num_examples_per_domain_per_label=p.num_examples_per_domain_per_label_source,\n",
    "    iterator_seed=p.seed,\n",
    "    dataset_seed=p.dataset_seed,\n",
    "    n_shot=p.n_shot,\n",
    "    n_way=p.n_way,\n",
    "    n_query=p.n_query,\n",
    "    train_val_test_k_factors=(p.train_k_factor,p.val_k_factor,p.test_k_factor),\n",
    "    pickle_path=os.path.join(get_datasets_base_path(), p.pickle_name),\n",
    "    x_transform_func=x_transform_source,\n",
    "    example_transform_func=episode_transform_source,\n",
    "    \n",
    ")\n",
    "train_original_source, val_original_source, test_original_source = eaf_source.get_train(), eaf_source.get_val(), eaf_source.get_test()\n",
    "\n",
    "\n",
    "eaf_target = Episodic_Accessor_Factory(\n",
    "    labels=p.labels_target,\n",
    "    domains=p.domains_target,\n",
    "    num_examples_per_domain_per_label=p.num_examples_per_domain_per_label_target,\n",
    "    iterator_seed=p.seed,\n",
    "    dataset_seed=p.dataset_seed,\n",
    "    n_shot=p.n_shot,\n",
    "    n_way=p.n_way,\n",
    "    n_query=p.n_query,\n",
    "    train_val_test_k_factors=(p.train_k_factor,p.val_k_factor,p.test_k_factor),\n",
    "    pickle_path=os.path.join(get_datasets_base_path(), p.pickle_name),\n",
    "    x_transform_func=x_transform_target,\n",
    "    example_transform_func=episode_transform_target,\n",
    ")\n",
    "train_original_target, val_original_target, test_original_target = eaf_target.get_train(), eaf_target.get_val(), eaf_target.get_test()\n",
    "\n",
    "\n",
    "transform_lambda = lambda ex: ex[1] # Original is (<domain>, <episode>) so we strip down to episode only\n",
    "\n",
    "train_processed_source = Lazy_Iterable_Wrapper(train_original_source, transform_lambda)\n",
    "val_processed_source   = Lazy_Iterable_Wrapper(val_original_source, transform_lambda)\n",
    "test_processed_source  = Lazy_Iterable_Wrapper(test_original_source, transform_lambda)\n",
    "\n",
    "train_processed_target = Lazy_Iterable_Wrapper(train_original_target, transform_lambda)\n",
    "val_processed_target   = Lazy_Iterable_Wrapper(val_original_target, transform_lambda)\n",
    "test_processed_target  = Lazy_Iterable_Wrapper(test_original_target, transform_lambda)\n",
    "\n",
    "datasets = EasyDict({\n",
    "    \"source\": {\n",
    "        \"original\": {\"train\":train_original_source, \"val\":val_original_source, \"test\":test_original_source},\n",
    "        \"processed\": {\"train\":train_processed_source, \"val\":val_processed_source, \"test\":test_processed_source}\n",
    "    },\n",
    "    \"target\": {\n",
    "        \"original\": {\"train\":train_original_target, \"val\":val_original_target, \"test\":test_original_target},\n",
    "        \"processed\": {\"train\":train_processed_target, \"val\":val_processed_target, \"test\":test_processed_target}\n",
    "    },\n",
    "})"
   ]
  },
  {
   "cell_type": "code",
   "execution_count": 11,
   "id": "296189d9",
   "metadata": {
    "execution": {
     "iopub.execute_input": "2022-03-02T17:01:19.572702Z",
     "iopub.status.busy": "2022-03-02T17:01:19.572193Z",
     "iopub.status.idle": "2022-03-02T17:01:22.159402Z",
     "shell.execute_reply": "2022-03-02T17:01:22.159988Z"
    },
    "papermill": {
     "duration": 2.602116,
     "end_time": "2022-03-02T17:01:22.160125",
     "exception": false,
     "start_time": "2022-03-02T17:01:19.558009",
     "status": "completed"
    },
    "tags": []
   },
   "outputs": [
    {
     "name": "stdout",
     "output_type": "stream",
     "text": [
      "Visually inspect these to see if they line up with expected values given the transforms\n",
      "x_transforms_source []\n",
      "x_transforms_target []\n",
      "Average magnitude, source: 0.004841768\n",
      "Average power, source: 2.9678386e-05\n"
     ]
    },
    {
     "name": "stdout",
     "output_type": "stream",
     "text": [
      "Average magnitude, target: 0.002818348\n",
      "Average power, target: 1.0014093e-05\n"
     ]
    }
   ],
   "source": [
    "# Some quick unit tests on the data\n",
    "from steves_utils.transforms import get_average_power, get_average_magnitude\n",
    "\n",
    "q_x, q_y, s_x, s_y, truth = next(iter(train_processed_source))\n",
    "\n",
    "assert q_x.dtype == eval(p.torch_default_dtype)\n",
    "assert s_x.dtype == eval(p.torch_default_dtype)\n",
    "\n",
    "print(\"Visually inspect these to see if they line up with expected values given the transforms\")\n",
    "print('x_transforms_source', p.x_transforms_source)\n",
    "print('x_transforms_target', p.x_transforms_target)\n",
    "print(\"Average magnitude, source:\", get_average_magnitude(q_x[0].numpy()))\n",
    "print(\"Average power, source:\", get_average_power(q_x[0].numpy()))\n",
    "\n",
    "q_x, q_y, s_x, s_y, truth = next(iter(train_processed_target))\n",
    "print(\"Average magnitude, target:\", get_average_magnitude(q_x[0].numpy()))\n",
    "print(\"Average power, target:\", get_average_power(q_x[0].numpy()))\n"
   ]
  },
  {
   "cell_type": "code",
   "execution_count": 12,
   "id": "bbdacba1",
   "metadata": {
    "execution": {
     "iopub.execute_input": "2022-03-02T17:01:22.188382Z",
     "iopub.status.busy": "2022-03-02T17:01:22.188129Z",
     "iopub.status.idle": "2022-03-02T17:01:22.247399Z",
     "shell.execute_reply": "2022-03-02T17:01:22.248059Z"
    },
    "papermill": {
     "duration": 0.073541,
     "end_time": "2022-03-02T17:01:22.248242",
     "exception": false,
     "start_time": "2022-03-02T17:01:22.174701",
     "status": "completed"
    },
    "tags": []
   },
   "outputs": [
    {
     "name": "stdout",
     "output_type": "stream",
     "text": [
      "(2, 256)\n"
     ]
    }
   ],
   "source": [
    "###################################\n",
    "# Build the model\n",
    "###################################\n",
    "model = Steves_Prototypical_Network(x_net, device=p.device, x_shape=(2,256))\n",
    "optimizer = Adam(params=model.parameters(), lr=p.lr)"
   ]
  },
  {
   "cell_type": "code",
   "execution_count": 13,
   "id": "22b39ac5",
   "metadata": {
    "execution": {
     "iopub.execute_input": "2022-03-02T17:01:22.279826Z",
     "iopub.status.busy": "2022-03-02T17:01:22.279532Z",
     "iopub.status.idle": "2022-03-02T17:06:50.692800Z",
     "shell.execute_reply": "2022-03-02T17:06:50.692565Z"
    },
    "papermill": {
     "duration": 328.427155,
     "end_time": "2022-03-02T17:06:50.692860",
     "exception": false,
     "start_time": "2022-03-02T17:01:22.265705",
     "status": "completed"
    },
    "tags": []
   },
   "outputs": [
    {
     "name": "stdout",
     "output_type": "stream",
     "text": [
      "epoch: 1, [batch: 1 / 420], examples_per_second: 9.3404, train_label_loss: 2.2904, \n"
     ]
    },
    {
     "name": "stdout",
     "output_type": "stream",
     "text": [
      "epoch: 1, [batch: 42 / 420], examples_per_second: 835.8234, train_label_loss: 0.8252, \n"
     ]
    },
    {
     "name": "stdout",
     "output_type": "stream",
     "text": [
      "epoch: 1, [batch: 84 / 420], examples_per_second: 907.3244, train_label_loss: 0.9101, \n"
     ]
    },
    {
     "name": "stdout",
     "output_type": "stream",
     "text": [
      "epoch: 1, [batch: 126 / 420], examples_per_second: 994.9286, train_label_loss: 0.8992, \n"
     ]
    },
    {
     "name": "stdout",
     "output_type": "stream",
     "text": [
      "epoch: 1, [batch: 168 / 420], examples_per_second: 1105.3461, train_label_loss: 0.9999, \n"
     ]
    },
    {
     "name": "stdout",
     "output_type": "stream",
     "text": [
      "epoch: 1, [batch: 210 / 420], examples_per_second: 1207.2333, train_label_loss: 1.0758, \n"
     ]
    },
    {
     "name": "stdout",
     "output_type": "stream",
     "text": [
      "epoch: 1, [batch: 252 / 420], examples_per_second: 1430.3289, train_label_loss: 0.7964, \n"
     ]
    },
    {
     "name": "stdout",
     "output_type": "stream",
     "text": [
      "epoch: 1, [batch: 294 / 420], examples_per_second: 1609.5225, train_label_loss: 0.6830, \n"
     ]
    },
    {
     "name": "stdout",
     "output_type": "stream",
     "text": [
      "epoch: 1, [batch: 336 / 420], examples_per_second: 1890.8796, train_label_loss: 0.7911, \n"
     ]
    },
    {
     "name": "stdout",
     "output_type": "stream",
     "text": [
      "epoch: 1, [batch: 378 / 420], examples_per_second: 2316.6585, train_label_loss: 0.7209, \n"
     ]
    },
    {
     "name": "stdout",
     "output_type": "stream",
     "text": [
      "=============================================================\n",
      "epoch: 1, source_val_acc_label: 0.5931, target_val_acc_label: 0.4649, source_val_label_loss: 1.2117, target_val_label_loss: 1.6303, \n",
      "=============================================================\n"
     ]
    },
    {
     "name": "stdout",
     "output_type": "stream",
     "text": [
      "New best\n"
     ]
    },
    {
     "name": "stdout",
     "output_type": "stream",
     "text": [
      "epoch: 2, [batch: 1 / 420], examples_per_second: 5.3642, train_label_loss: 1.1098, \n"
     ]
    },
    {
     "name": "stdout",
     "output_type": "stream",
     "text": [
      "epoch: 2, [batch: 42 / 420], examples_per_second: 831.2554, train_label_loss: 0.9421, \n"
     ]
    },
    {
     "name": "stdout",
     "output_type": "stream",
     "text": [
      "epoch: 2, [batch: 84 / 420], examples_per_second: 895.8027, train_label_loss: 0.8707, \n"
     ]
    },
    {
     "name": "stdout",
     "output_type": "stream",
     "text": [
      "epoch: 2, [batch: 126 / 420], examples_per_second: 993.8756, train_label_loss: 0.6406, \n"
     ]
    },
    {
     "name": "stdout",
     "output_type": "stream",
     "text": [
      "epoch: 2, [batch: 168 / 420], examples_per_second: 1086.7311, train_label_loss: 0.6815, \n"
     ]
    },
    {
     "name": "stdout",
     "output_type": "stream",
     "text": [
      "epoch: 2, [batch: 210 / 420], examples_per_second: 1225.1976, train_label_loss: 0.5796, \n"
     ]
    },
    {
     "name": "stdout",
     "output_type": "stream",
     "text": [
      "epoch: 2, [batch: 252 / 420], examples_per_second: 1393.3501, train_label_loss: 0.6811, \n"
     ]
    },
    {
     "name": "stdout",
     "output_type": "stream",
     "text": [
      "epoch: 2, [batch: 294 / 420], examples_per_second: 1618.3748, train_label_loss: 0.5829, \n"
     ]
    },
    {
     "name": "stdout",
     "output_type": "stream",
     "text": [
      "epoch: 2, [batch: 336 / 420], examples_per_second: 1935.7919, train_label_loss: 0.5765, \n"
     ]
    },
    {
     "name": "stdout",
     "output_type": "stream",
     "text": [
      "epoch: 2, [batch: 378 / 420], examples_per_second: 2325.0582, train_label_loss: 0.4586, \n"
     ]
    },
    {
     "name": "stdout",
     "output_type": "stream",
     "text": [
      "=============================================================\n",
      "epoch: 2, source_val_acc_label: 0.8271, target_val_acc_label: 0.5523, source_val_label_loss: 0.4364, target_val_label_loss: 1.2196, \n",
      "=============================================================\n"
     ]
    },
    {
     "name": "stdout",
     "output_type": "stream",
     "text": [
      "New best\n"
     ]
    },
    {
     "name": "stdout",
     "output_type": "stream",
     "text": [
      "epoch: 3, [batch: 1 / 420], examples_per_second: 5.2804, train_label_loss: 0.5285, \n"
     ]
    },
    {
     "name": "stdout",
     "output_type": "stream",
     "text": [
      "epoch: 3, [batch: 42 / 420], examples_per_second: 823.0046, train_label_loss: 0.5580, \n"
     ]
    },
    {
     "name": "stdout",
     "output_type": "stream",
     "text": [
      "epoch: 3, [batch: 84 / 420], examples_per_second: 909.9328, train_label_loss: 0.4116, \n"
     ]
    },
    {
     "name": "stdout",
     "output_type": "stream",
     "text": [
      "epoch: 3, [batch: 126 / 420], examples_per_second: 972.8470, train_label_loss: 0.3857, \n"
     ]
    },
    {
     "name": "stdout",
     "output_type": "stream",
     "text": [
      "epoch: 3, [batch: 168 / 420], examples_per_second: 1093.1915, train_label_loss: 0.2730, \n"
     ]
    },
    {
     "name": "stdout",
     "output_type": "stream",
     "text": [
      "epoch: 3, [batch: 210 / 420], examples_per_second: 1181.8896, train_label_loss: 0.2476, \n"
     ]
    },
    {
     "name": "stdout",
     "output_type": "stream",
     "text": [
      "epoch: 3, [batch: 252 / 420], examples_per_second: 1351.7591, train_label_loss: 0.2489, \n"
     ]
    },
    {
     "name": "stdout",
     "output_type": "stream",
     "text": [
      "epoch: 3, [batch: 294 / 420], examples_per_second: 1584.0049, train_label_loss: 0.4571, \n"
     ]
    },
    {
     "name": "stdout",
     "output_type": "stream",
     "text": [
      "epoch: 3, [batch: 336 / 420], examples_per_second: 1936.1752, train_label_loss: 0.2360, \n"
     ]
    },
    {
     "name": "stdout",
     "output_type": "stream",
     "text": [
      "epoch: 3, [batch: 378 / 420], examples_per_second: 2347.3850, train_label_loss: 0.1376, \n"
     ]
    },
    {
     "name": "stdout",
     "output_type": "stream",
     "text": [
      "=============================================================\n",
      "epoch: 3, source_val_acc_label: 0.8891, target_val_acc_label: 0.5782, source_val_label_loss: 0.2803, target_val_label_loss: 1.4671, \n",
      "=============================================================\n"
     ]
    },
    {
     "name": "stdout",
     "output_type": "stream",
     "text": [
      "epoch: 4, [batch: 1 / 420], examples_per_second: 5.3045, train_label_loss: 0.3661, \n"
     ]
    },
    {
     "name": "stdout",
     "output_type": "stream",
     "text": [
      "epoch: 4, [batch: 42 / 420], examples_per_second: 818.4546, train_label_loss: 0.3772, \n"
     ]
    },
    {
     "name": "stdout",
     "output_type": "stream",
     "text": [
      "epoch: 4, [batch: 84 / 420], examples_per_second: 888.8119, train_label_loss: 0.1639, \n"
     ]
    },
    {
     "name": "stdout",
     "output_type": "stream",
     "text": [
      "epoch: 4, [batch: 126 / 420], examples_per_second: 998.3710, train_label_loss: 0.1222, \n"
     ]
    },
    {
     "name": "stdout",
     "output_type": "stream",
     "text": [
      "epoch: 4, [batch: 168 / 420], examples_per_second: 1081.6809, train_label_loss: 0.2097, \n"
     ]
    },
    {
     "name": "stdout",
     "output_type": "stream",
     "text": [
      "epoch: 4, [batch: 210 / 420], examples_per_second: 1214.3589, train_label_loss: 0.0540, \n"
     ]
    },
    {
     "name": "stdout",
     "output_type": "stream",
     "text": [
      "epoch: 4, [batch: 252 / 420], examples_per_second: 1386.4031, train_label_loss: 0.2542, \n"
     ]
    },
    {
     "name": "stdout",
     "output_type": "stream",
     "text": [
      "epoch: 4, [batch: 294 / 420], examples_per_second: 1615.6814, train_label_loss: 0.2608, \n"
     ]
    },
    {
     "name": "stdout",
     "output_type": "stream",
     "text": [
      "epoch: 4, [batch: 336 / 420], examples_per_second: 1988.4910, train_label_loss: 0.1629, \n"
     ]
    },
    {
     "name": "stdout",
     "output_type": "stream",
     "text": [
      "epoch: 4, [batch: 378 / 420], examples_per_second: 2380.5280, train_label_loss: 0.1530, \n"
     ]
    },
    {
     "name": "stdout",
     "output_type": "stream",
     "text": [
      "=============================================================\n",
      "epoch: 4, source_val_acc_label: 0.9363, target_val_acc_label: 0.5880, source_val_label_loss: 0.1694, target_val_label_loss: 1.5979, \n",
      "=============================================================\n"
     ]
    },
    {
     "name": "stdout",
     "output_type": "stream",
     "text": [
      "epoch: 5, [batch: 1 / 420], examples_per_second: 5.2786, train_label_loss: 0.0437, \n"
     ]
    },
    {
     "name": "stdout",
     "output_type": "stream",
     "text": [
      "epoch: 5, [batch: 42 / 420], examples_per_second: 818.1541, train_label_loss: 0.3196, \n"
     ]
    },
    {
     "name": "stdout",
     "output_type": "stream",
     "text": [
      "epoch: 5, [batch: 84 / 420], examples_per_second: 896.4644, train_label_loss: 0.0121, \n"
     ]
    },
    {
     "name": "stdout",
     "output_type": "stream",
     "text": [
      "epoch: 5, [batch: 126 / 420], examples_per_second: 975.9168, train_label_loss: 0.2007, \n"
     ]
    },
    {
     "name": "stdout",
     "output_type": "stream",
     "text": [
      "epoch: 5, [batch: 168 / 420], examples_per_second: 1074.2765, train_label_loss: 0.0729, \n"
     ]
    },
    {
     "name": "stdout",
     "output_type": "stream",
     "text": [
      "epoch: 5, [batch: 210 / 420], examples_per_second: 1195.3596, train_label_loss: 0.4370, \n"
     ]
    },
    {
     "name": "stdout",
     "output_type": "stream",
     "text": [
      "epoch: 5, [batch: 252 / 420], examples_per_second: 1367.6566, train_label_loss: 0.0388, \n"
     ]
    },
    {
     "name": "stdout",
     "output_type": "stream",
     "text": [
      "epoch: 5, [batch: 294 / 420], examples_per_second: 1626.5922, train_label_loss: 0.0762, \n"
     ]
    },
    {
     "name": "stdout",
     "output_type": "stream",
     "text": [
      "epoch: 5, [batch: 336 / 420], examples_per_second: 1930.9464, train_label_loss: 0.0730, \n"
     ]
    },
    {
     "name": "stdout",
     "output_type": "stream",
     "text": [
      "epoch: 5, [batch: 378 / 420], examples_per_second: 2431.9102, train_label_loss: 0.4796, \n"
     ]
    },
    {
     "name": "stdout",
     "output_type": "stream",
     "text": [
      "=============================================================\n",
      "epoch: 5, source_val_acc_label: 0.9382, target_val_acc_label: 0.5840, source_val_label_loss: 0.1966, target_val_label_loss: 1.5845, \n",
      "=============================================================\n"
     ]
    },
    {
     "name": "stdout",
     "output_type": "stream",
     "text": [
      "epoch: 6, [batch: 1 / 420], examples_per_second: 5.2984, train_label_loss: 0.0463, \n"
     ]
    },
    {
     "name": "stdout",
     "output_type": "stream",
     "text": [
      "epoch: 6, [batch: 42 / 420], examples_per_second: 833.8475, train_label_loss: 0.0542, \n"
     ]
    },
    {
     "name": "stdout",
     "output_type": "stream",
     "text": [
      "epoch: 6, [batch: 84 / 420], examples_per_second: 905.6462, train_label_loss: 0.0540, \n"
     ]
    },
    {
     "name": "stdout",
     "output_type": "stream",
     "text": [
      "epoch: 6, [batch: 126 / 420], examples_per_second: 1002.4539, train_label_loss: 0.0471, \n"
     ]
    },
    {
     "name": "stdout",
     "output_type": "stream",
     "text": [
      "epoch: 6, [batch: 168 / 420], examples_per_second: 1090.3944, train_label_loss: 0.0048, \n"
     ]
    },
    {
     "name": "stdout",
     "output_type": "stream",
     "text": [
      "epoch: 6, [batch: 210 / 420], examples_per_second: 1230.4044, train_label_loss: 0.0975, \n"
     ]
    },
    {
     "name": "stdout",
     "output_type": "stream",
     "text": [
      "epoch: 6, [batch: 252 / 420], examples_per_second: 1373.4038, train_label_loss: 0.0328, \n"
     ]
    },
    {
     "name": "stdout",
     "output_type": "stream",
     "text": [
      "epoch: 6, [batch: 294 / 420], examples_per_second: 1674.7668, train_label_loss: 0.0125, \n"
     ]
    },
    {
     "name": "stdout",
     "output_type": "stream",
     "text": [
      "epoch: 6, [batch: 336 / 420], examples_per_second: 1928.7886, train_label_loss: 0.1499, \n"
     ]
    },
    {
     "name": "stdout",
     "output_type": "stream",
     "text": [
      "epoch: 6, [batch: 378 / 420], examples_per_second: 2415.6215, train_label_loss: 0.2772, \n"
     ]
    },
    {
     "name": "stdout",
     "output_type": "stream",
     "text": [
      "=============================================================\n",
      "epoch: 6, source_val_acc_label: 0.9764, target_val_acc_label: 0.6122, source_val_label_loss: 0.0719, target_val_label_loss: 1.6048, \n",
      "=============================================================\n"
     ]
    },
    {
     "name": "stdout",
     "output_type": "stream",
     "text": [
      "Patience (3) exhausted\n"
     ]
    }
   ],
   "source": [
    "###################################\n",
    "# train\n",
    "###################################\n",
    "jig = PTN_Train_Eval_Test_Jig(model, p.BEST_MODEL_PATH, p.device)\n",
    "\n",
    "jig.train(\n",
    "    train_iterable=datasets.source.processed.train,\n",
    "    source_val_iterable=datasets.source.processed.val,\n",
    "    target_val_iterable=datasets.target.processed.val,\n",
    "    num_epochs=p.n_epoch,\n",
    "    num_logs_per_epoch=p.NUM_LOGS_PER_EPOCH,\n",
    "    patience=p.patience,\n",
    "    optimizer=optimizer,\n",
    "    criteria_for_best=p.criteria_for_best,\n",
    ")"
   ]
  },
  {
   "cell_type": "code",
   "execution_count": 14,
   "id": "31e8fabf",
   "metadata": {
    "execution": {
     "iopub.execute_input": "2022-03-02T17:06:50.739062Z",
     "iopub.status.busy": "2022-03-02T17:06:50.738681Z",
     "iopub.status.idle": "2022-03-02T17:06:50.750964Z",
     "shell.execute_reply": "2022-03-02T17:06:50.750720Z"
    },
    "papermill": {
     "duration": 0.036346,
     "end_time": "2022-03-02T17:06:50.751028",
     "exception": false,
     "start_time": "2022-03-02T17:06:50.714682",
     "status": "completed"
    },
    "tags": []
   },
   "outputs": [],
   "source": [
    "total_experiment_time_secs = time.time() - start_time_secs"
   ]
  },
  {
   "cell_type": "code",
   "execution_count": 15,
   "id": "87b9595b",
   "metadata": {
    "execution": {
     "iopub.execute_input": "2022-03-02T17:06:50.799676Z",
     "iopub.status.busy": "2022-03-02T17:06:50.799251Z",
     "iopub.status.idle": "2022-03-02T17:08:20.543388Z",
     "shell.execute_reply": "2022-03-02T17:08:20.542925Z"
    },
    "papermill": {
     "duration": 89.770585,
     "end_time": "2022-03-02T17:08:20.543500",
     "exception": false,
     "start_time": "2022-03-02T17:06:50.772915",
     "status": "completed"
    },
    "tags": []
   },
   "outputs": [],
   "source": [
    "###################################\n",
    "# Evaluate the model\n",
    "###################################\n",
    "source_test_label_accuracy, source_test_label_loss = jig.test(datasets.source.processed.test)\n",
    "target_test_label_accuracy, target_test_label_loss = jig.test(datasets.target.processed.test)\n",
    "\n",
    "source_val_label_accuracy, source_val_label_loss = jig.test(datasets.source.processed.val)\n",
    "target_val_label_accuracy, target_val_label_loss = jig.test(datasets.target.processed.val)\n",
    "\n",
    "history = jig.get_history()\n",
    "\n",
    "total_epochs_trained = len(history[\"epoch_indices\"])\n",
    "\n",
    "val_dl = Iterable_Aggregator((datasets.source.original.val,datasets.target.original.val))\n",
    "\n",
    "confusion = ptn_confusion_by_domain_over_dataloader(model, p.device, val_dl)\n",
    "per_domain_accuracy = per_domain_accuracy_from_confusion(confusion)\n",
    "\n",
    "# Add a key to per_domain_accuracy for if it was a source domain\n",
    "for domain, accuracy in per_domain_accuracy.items():\n",
    "    per_domain_accuracy[domain] = {\n",
    "        \"accuracy\": accuracy,\n",
    "        \"source?\": domain in p.domains_source\n",
    "    }\n",
    "\n",
    "# Do an independent accuracy assesment JUST TO BE SURE!\n",
    "# _source_test_label_accuracy = independent_accuracy_assesment(model, datasets.source.processed.test, p.device)\n",
    "# _target_test_label_accuracy = independent_accuracy_assesment(model, datasets.target.processed.test, p.device)\n",
    "# _source_val_label_accuracy = independent_accuracy_assesment(model, datasets.source.processed.val, p.device)\n",
    "# _target_val_label_accuracy = independent_accuracy_assesment(model, datasets.target.processed.val, p.device)\n",
    "\n",
    "# assert(_source_test_label_accuracy == source_test_label_accuracy)\n",
    "# assert(_target_test_label_accuracy == target_test_label_accuracy)\n",
    "# assert(_source_val_label_accuracy == source_val_label_accuracy)\n",
    "# assert(_target_val_label_accuracy == target_val_label_accuracy)\n",
    "\n",
    "experiment = {\n",
    "    \"experiment_name\": p.experiment_name,\n",
    "    \"parameters\": dict(p),\n",
    "    \"results\": {\n",
    "        \"source_test_label_accuracy\": source_test_label_accuracy,\n",
    "        \"source_test_label_loss\": source_test_label_loss,\n",
    "        \"target_test_label_accuracy\": target_test_label_accuracy,\n",
    "        \"target_test_label_loss\": target_test_label_loss,\n",
    "        \"source_val_label_accuracy\": source_val_label_accuracy,\n",
    "        \"source_val_label_loss\": source_val_label_loss,\n",
    "        \"target_val_label_accuracy\": target_val_label_accuracy,\n",
    "        \"target_val_label_loss\": target_val_label_loss,\n",
    "        \"total_epochs_trained\": total_epochs_trained,\n",
    "        \"total_experiment_time_secs\": total_experiment_time_secs,\n",
    "        \"confusion\": confusion,\n",
    "        \"per_domain_accuracy\": per_domain_accuracy,\n",
    "    },\n",
    "    \"history\": history,\n",
    "    \"dataset_metrics\": get_dataset_metrics(datasets, \"ptn\"),\n",
    "}"
   ]
  },
  {
   "cell_type": "code",
   "execution_count": 16,
   "id": "54a21829",
   "metadata": {
    "execution": {
     "iopub.execute_input": "2022-03-02T17:08:20.595653Z",
     "iopub.status.busy": "2022-03-02T17:08:20.595384Z",
     "iopub.status.idle": "2022-03-02T17:08:20.783926Z",
     "shell.execute_reply": "2022-03-02T17:08:20.784304Z"
    },
    "papermill": {
     "duration": 0.214316,
     "end_time": "2022-03-02T17:08:20.784414",
     "exception": false,
     "start_time": "2022-03-02T17:08:20.570098",
     "status": "completed"
    },
    "tags": []
   },
   "outputs": [
    {
     "data": {
      "image/png": "[encoded data removed]",
      "text/plain": [
       "<Figure size 1080x504 with 1 Axes>"
      ]
     },
     "metadata": {
      "needs_background": "light"
     },
     "output_type": "display_data"
    }
   ],
   "source": [
    "ax = get_loss_curve(experiment)\n",
    "plt.show()"
   ]
  },
  {
   "cell_type": "code",
   "execution_count": 17,
   "id": "fd8a0f60",
   "metadata": {
    "execution": {
     "iopub.execute_input": "2022-03-02T17:08:20.838568Z",
     "iopub.status.busy": "2022-03-02T17:08:20.838320Z",
     "iopub.status.idle": "2022-03-02T17:08:21.097030Z",
     "shell.execute_reply": "2022-03-02T17:08:21.096584Z"
    },
    "papermill": {
     "duration": 0.283995,
     "end_time": "2022-03-02T17:08:21.097146",
     "exception": false,
     "start_time": "2022-03-02T17:08:20.813151",
     "status": "completed"
    },
    "tags": []
   },
   "outputs": [
    {
     "data": {
      "text/plain": [
       "<matplotlib.axes._subplots.AxesSubplot at 0x7f8dc7231280>"
      ]
     },
     "execution_count": 17,
     "metadata": {},
     "output_type": "execute_result"
    },
    {
     "data": {
      "image/png": "[encoded data removed]",
      "text/plain": [
       "<Figure size 1080x504 with 1 Axes>"
      ]
     },
     "metadata": {
      "needs_background": "light"
     },
     "output_type": "display_data"
    }
   ],
   "source": [
    "get_results_table(experiment)"
   ]
  },
  {
   "cell_type": "code",
   "execution_count": 18,
   "id": "cf8dc689",
   "metadata": {
    "execution": {
     "iopub.execute_input": "2022-03-02T17:08:21.157885Z",
     "iopub.status.busy": "2022-03-02T17:08:21.157629Z",
     "iopub.status.idle": "2022-03-02T17:08:21.330363Z",
     "shell.execute_reply": "2022-03-02T17:08:21.330772Z"
    },
    "papermill": {
     "duration": 0.200531,
     "end_time": "2022-03-02T17:08:21.330902",
     "exception": false,
     "start_time": "2022-03-02T17:08:21.130371",
     "status": "completed"
    },
    "tags": []
   },
   "outputs": [
    {
     "data": {
      "text/plain": [
       "<matplotlib.axes._subplots.AxesSubplot at 0x7f8dc71f9160>"
      ]
     },
     "execution_count": 18,
     "metadata": {},
     "output_type": "execute_result"
    },
    {
     "data": {
      "image/png": "[encoded data removed]",
      "text/plain": [
       "<Figure size 1080x504 with 1 Axes>"
      ]
     },
     "metadata": {
      "needs_background": "light"
     },
     "output_type": "display_data"
    }
   ],
   "source": [
    "get_domain_accuracies(experiment)"
   ]
  },
  {
   "cell_type": "code",
   "execution_count": 19,
   "id": "a74ae082",
   "metadata": {
    "execution": {
     "iopub.execute_input": "2022-03-02T17:08:21.391371Z",
     "iopub.status.busy": "2022-03-02T17:08:21.391117Z",
     "iopub.status.idle": "2022-03-02T17:08:21.408315Z",
     "shell.execute_reply": "2022-03-02T17:08:21.407836Z"
    },
    "papermill": {
     "duration": 0.045307,
     "end_time": "2022-03-02T17:08:21.408416",
     "exception": false,
     "start_time": "2022-03-02T17:08:21.363109",
     "status": "completed"
    },
    "tags": []
   },
   "outputs": [
    {
     "name": "stdout",
     "output_type": "stream",
     "text": [
      "Source Test Label Accuracy: 0.8243055555555555 Target Test Label Accuracy: 0.5405208333333333\n",
      "Source Val Label Accuracy: 0.8270833333333333 Target Val Label Accuracy: 0.5522916666666666\n"
     ]
    }
   ],
   "source": [
    "print(\"Source Test Label Accuracy:\", experiment[\"results\"][\"source_test_label_accuracy\"], \"Target Test Label Accuracy:\", experiment[\"results\"][\"target_test_label_accuracy\"])\n",
    "print(\"Source Val Label Accuracy:\", experiment[\"results\"][\"source_val_label_accuracy\"], \"Target Val Label Accuracy:\", experiment[\"results\"][\"target_val_label_accuracy\"])"
   ]
  },
  {
   "cell_type": "code",
   "execution_count": 20,
   "id": "dacca602",
   "metadata": {
    "execution": {
     "iopub.execute_input": "2022-03-02T17:08:21.466616Z",
     "iopub.status.busy": "2022-03-02T17:08:21.466364Z",
     "iopub.status.idle": "2022-03-02T17:08:21.479669Z",
     "shell.execute_reply": "2022-03-02T17:08:21.479407Z"
    },
    "papermill": {
     "duration": 0.041347,
     "end_time": "2022-03-02T17:08:21.479726",
     "exception": false,
     "start_time": "2022-03-02T17:08:21.438379",
     "status": "completed"
    },
    "tags": [
     "experiment_json"
    ]
   },
   "outputs": [
    {
     "data": {
      "text/plain": [
       "'{\"experiment_name\": \"baseline_ptn_32bit_oracle.run1.framed\", \"parameters\": {\"experiment_name\": \"baseline_ptn_32bit_oracle.run1.framed\", \"lr\": 0.001, \"device\": \"cuda\", \"seed\": 1337, \"dataset_seed\": 1337, \"labels_source\": [\"3123D52\", \"3123D65\", \"3123D79\", \"3123D80\", \"3123D54\", \"3123D70\", \"3123D7B\", \"3123D89\", \"3123D58\", \"3123D76\", \"3123D7D\", \"3123EFE\", \"3123D64\", \"3123D78\", \"3123D7E\", \"3124E4A\"], \"labels_target\": [\"3123D52\", \"3123D65\", \"3123D79\", \"3123D80\", \"3123D54\", \"3123D70\", \"3123D7B\", \"3123D89\", \"3123D58\", \"3123D76\", \"3123D7D\", \"3123EFE\", \"3123D64\", \"3123D78\", \"3123D7E\", \"3124E4A\"], \"x_transforms_source\": [], \"x_transforms_target\": [], \"episode_transforms_source\": [], \"episode_transforms_target\": [], \"num_examples_per_domain_per_label_source\": 1000, \"num_examples_per_domain_per_label_target\": 1000, \"n_shot\": 3, \"n_way\": 16, \"n_query\": 2, \"train_k_factor\": 1, \"val_k_factor\": 2, \"test_k_factor\": 2, \"torch_default_dtype\": \"torch.float32\", \"n_epoch\": 50, \"patience\": 3, \"criteria_for_best\": \"target_loss\", \"x_net\": [{\"class\": \"nnReshape\", \"kargs\": {\"shape\": [-1, 1, 2, 256]}}, {\"class\": \"Conv2d\", \"kargs\": {\"in_channels\": 1, \"out_channels\": 256, \"kernel_size\": [1, 7], \"bias\": false, \"padding\": [0, 3]}}, {\"class\": \"ReLU\", \"kargs\": {\"inplace\": true}}, {\"class\": \"BatchNorm2d\", \"kargs\": {\"num_features\": 256}}, {\"class\": \"Conv2d\", \"kargs\": {\"in_channels\": 256, \"out_channels\": 80, \"kernel_size\": [2, 7], \"bias\": true, \"padding\": [0, 3]}}, {\"class\": \"ReLU\", \"kargs\": {\"inplace\": true}}, {\"class\": \"BatchNorm2d\", \"kargs\": {\"num_features\": 80}}, {\"class\": \"Flatten\", \"kargs\": {}}, {\"class\": \"Linear\", \"kargs\": {\"in_features\": 20480, \"out_features\": 256}}, {\"class\": \"ReLU\", \"kargs\": {\"inplace\": true}}, {\"class\": \"BatchNorm1d\", \"kargs\": {\"num_features\": 256}}, {\"class\": \"Linear\", \"kargs\": {\"in_features\": 256, \"out_features\": 256}}], \"NUM_LOGS_PER_EPOCH\": 10, \"BEST_MODEL_PATH\": \"./best_model.pth\", \"pickle_name\": \"oracle.Run1_framed_1300Examples_stratified_ds.2022A.pkl\", \"domains_source\": [8, 32, 50], \"domains_target\": [14, 20, 26, 38, 44]}, \"results\": {\"source_test_label_accuracy\": 0.8243055555555555, \"source_test_label_loss\": 0.44899335503578186, \"target_test_label_accuracy\": 0.5405208333333333, \"target_test_label_loss\": 1.25831937789917, \"source_val_label_accuracy\": 0.8270833333333333, \"source_val_label_loss\": 0.4363599717617035, \"target_val_label_accuracy\": 0.5522916666666666, \"target_val_label_loss\": 1.2196379899978638, \"total_epochs_trained\": 6, \"total_experiment_time_secs\": 331.9784712791443, \"confusion\": {\"8\": {\"15\": {\"15\": 106, \"12\": 14}, \"3\": {\"3\": 119, \"9\": 1}, \"6\": {\"1\": 38, \"5\": 9, \"7\": 26, \"6\": 37, \"11\": 9, \"10\": 1}, \"1\": {\"6\": 28, \"7\": 17, \"11\": 27, \"1\": 45, \"5\": 2, \"4\": 1}, \"8\": {\"8\": 103, \"4\": 10, \"14\": 7}, \"10\": {\"13\": 15, \"10\": 70, \"7\": 3, \"5\": 32}, \"9\": {\"9\": 120}, \"13\": {\"13\": 109, \"10\": 11}, \"12\": {\"12\": 86, \"2\": 20, \"15\": 14}, \"5\": {\"5\": 66, \"7\": 15, \"10\": 35, \"13\": 1, \"1\": 1, \"6\": 2}, \"0\": {\"0\": 120}, \"2\": {\"2\": 97, \"12\": 22, \"15\": 1}, \"11\": {\"11\": 74, \"4\": 17, \"6\": 10, \"1\": 18, \"7\": 1}, \"14\": {\"14\": 106, \"8\": 14}, \"7\": {\"5\": 25, \"7\": 56, \"1\": 13, \"6\": 25, \"10\": 1}, \"4\": {\"8\": 7, \"4\": 92, \"11\": 20, \"1\": 1}}, \"50\": {\"3\": {\"3\": 119, \"5\": 1}, \"15\": {\"15\": 102, \"6\": 15, \"9\": 3}, \"8\": {\"8\": 117, \"10\": 1, \"13\": 2}, \"4\": {\"4\": 113, \"5\": 6, \"7\": 1}, \"14\": {\"14\": 115, \"2\": 5}, \"0\": {\"0\": 113, \"2\": 7}, \"7\": {\"7\": 117, \"4\": 3}, \"6\": {\"6\": 110, \"15\": 8, \"5\": 2}, \"10\": {\"10\": 119, \"0\": 1}, \"5\": {\"5\": 114, \"6\": 3, \"3\": 1, \"4\": 2}, \"2\": {\"2\": 109, \"0\": 6, \"14\": 5}, \"12\": {\"12\": 105, \"11\": 10, \"9\": 5}, \"9\": {\"9\": 110, \"12\": 5, \"15\": 5}, \"1\": {\"1\": 119, \"13\": 1}, \"11\": {\"11\": 110, \"12\": 6, \"9\": 4}, \"13\": {\"13\": 117, \"8\": 1, \"12\": 1, \"1\": 1}}, \"32\": {\"5\": {\"0\": 13, \"5\": 96, \"15\": 7, \"8\": 2, \"7\": 2}, \"8\": {\"8\": 44, \"7\": 34, \"0\": 29, \"14\": 13}, \"11\": {\"11\": 120}, \"1\": {\"1\": 120}, \"10\": {\"10\": 120}, \"15\": {\"15\": 106, \"5\": 14}, \"3\": {\"13\": 22, \"3\": 91, \"4\": 7}, \"7\": {\"7\": 32, \"14\": 13, \"5\": 2, \"8\": 48, \"0\": 25}, \"4\": {\"4\": 106, \"2\": 8, \"3\": 3, \"9\": 3}, \"14\": {\"14\": 93, \"7\": 13, \"8\": 13, \"0\": 1}, \"9\": {\"9\": 120}, \"12\": {\"12\": 120}, \"6\": {\"6\": 120}, \"2\": {\"2\": 110, \"4\": 10}, \"0\": {\"0\": 55, \"5\": 26, \"8\": 19, \"7\": 18, \"14\": 2}, \"13\": {\"13\": 96, \"3\": 16, \"4\": 7, \"9\": 1}}, \"14\": {\"15\": {\"15\": 115, \"13\": 5}, \"3\": {\"6\": 27, \"3\": 57, \"8\": 1, \"2\": 16, \"14\": 15, \"7\": 2, \"0\": 2}, \"6\": {\"14\": 21, \"7\": 16, \"6\": 43, \"0\": 8, \"2\": 4, \"3\": 22, \"8\": 6}, \"1\": {\"1\": 84, \"9\": 35, \"10\": 1}, \"8\": {\"0\": 40, \"8\": 43, \"12\": 3, \"7\": 12, \"5\": 17, \"6\": 3, \"14\": 2}, \"10\": {\"12\": 4, \"10\": 79, \"4\": 35, \"9\": 2}, \"9\": {\"1\": 45, \"9\": 69, \"10\": 6}, \"13\": {\"13\": 120}, \"12\": {\"12\": 76, \"5\": 25, \"4\": 4, \"0\": 5, \"10\": 1, \"8\": 9}, \"5\": {\"5\": 61, \"12\": 27, \"0\": 8, \"8\": 19, \"14\": 1, \"7\": 4}, \"0\": {\"14\": 13, \"0\": 35, \"5\": 8, \"8\": 26, \"7\": 18, \"6\": 17, \"3\": 2, \"12\": 1}, \"2\": {\"2\": 101, \"3\": 15, \"6\": 3, \"14\": 1}, \"11\": {\"11\": 120}, \"14\": {\"6\": 39, \"14\": 30, \"3\": 17, \"7\": 18, \"0\": 10, \"2\": 3, \"8\": 3}, \"7\": {\"3\": 6, \"7\": 41, \"14\": 22, \"0\": 12, \"8\": 15, \"6\": 19, \"5\": 5}, \"4\": {\"4\": 82, \"10\": 34, \"12\": 4}}, \"20\": {\"3\": {\"14\": 39, \"3\": 40, \"8\": 29, \"6\": 2, \"5\": 3, \"0\": 3, \"9\": 3, \"2\": 1}, \"15\": {\"5\": 2, \"12\": 14, \"13\": 27, \"2\": 16, \"15\": 27, \"6\": 7, \"4\": 18, \"7\": 3, \"1\": 2, \"10\": 3, \"9\": 1}, \"8\": {\"8\": 36, \"14\": 36, \"3\": 23, \"6\": 1, \"9\": 13, \"5\": 7, \"7\": 4}, \"4\": {\"15\": 23, \"2\": 17, \"12\": 16, \"6\": 7, \"4\": 21, \"13\": 20, \"1\": 10, \"7\": 3, \"10\": 1, \"5\": 2}, \"14\": {\"8\": 30, \"3\": 32, \"14\": 46, \"0\": 5, \"9\": 4, \"1\": 1, \"5\": 2}, \"0\": {\"11\": 33, \"0\": 74, \"14\": 8, \"3\": 5}, \"7\": {\"7\": 24, \"6\": 6, \"8\": 11, \"9\": 22, \"3\": 2, \"2\": 17, \"12\": 6, \"1\": 8, \"5\": 20, \"13\": 1, \"4\": 1, \"14\": 1, \"15\": 1}, \"6\": {\"9\": 15, \"2\": 18, \"7\": 12, \"5\": 18, \"3\": 1, \"6\": 25, \"12\": 8, \"1\": 10, \"4\": 9, \"15\": 3, \"13\": 1}, \"10\": {\"10\": 105, \"13\": 13, \"4\": 1, \"2\": 1}, \"5\": {\"9\": 23, \"2\": 9, \"5\": 16, \"8\": 10, \"7\": 15, \"3\": 7, \"15\": 2, \"1\": 22, \"6\": 9, \"12\": 4, \"4\": 2, \"14\": 1}, \"2\": {\"4\": 19, \"6\": 11, \"7\": 8, \"1\": 8, \"15\": 11, \"9\": 8, \"2\": 23, \"5\": 10, \"12\": 19, \"13\": 3}, \"12\": {\"13\": 18, \"5\": 1, \"4\": 15, \"12\": 26, \"2\": 17, \"15\": 25, \"1\": 5, \"6\": 8, \"7\": 4, \"9\": 1}, \"9\": {\"8\": 16, \"9\": 25, \"3\": 10, \"7\": 19, \"5\": 16, \"6\": 4, \"2\": 7, \"1\": 12, \"12\": 4, \"14\": 5, \"4\": 2}, \"1\": {\"9\": 17, \"5\": 30, \"12\": 7, \"2\": 10, \"7\": 17, \"6\": 6, \"8\": 6, \"1\": 16, \"4\": 3, \"3\": 3, \"15\": 1, \"14\": 4}, \"11\": {\"11\": 87, \"0\": 33}, \"13\": {\"15\": 21, \"13\": 50, \"10\": 15, \"2\": 5, \"4\": 16, \"12\": 13}}, \"44\": {\"5\": {\"5\": 71, \"14\": 35, \"15\": 14}, \"8\": {\"8\": 92, \"15\": 26, \"4\": 2}, \"11\": {\"11\": 120}, \"1\": {\"1\": 102, \"2\": 17, \"0\": 1}, \"10\": {\"10\": 96, \"7\": 20, \"9\": 3, \"4\": 1}, \"15\": {\"4\": 11, \"14\": 18, \"8\": 23, \"15\": 50, \"5\": 18}, \"3\": {\"3\": 81, \"12\": 39}, \"7\": {\"7\": 59, \"10\": 15, \"9\": 45, \"14\": 1}, \"4\": {\"4\": 99, \"10\": 3, \"9\": 1, \"14\": 5, \"15\": 12}, \"14\": {\"14\": 53, \"5\": 37, \"15\": 26, \"7\": 3, \"9\": 1}, \"9\": {\"9\": 63, \"7\": 42, \"10\": 11, \"6\": 3, \"13\": 1}, \"12\": {\"12\": 88, \"3\": 32}, \"6\": {\"13\": 45, \"6\": 74, \"9\": 1}, \"2\": {\"2\": 74, \"10\": 4, \"1\": 37, \"4\": 5}, \"0\": {\"0\": 120}, \"13\": {\"13\": 65, \"6\": 55}}, \"38\": {\"14\": {\"14\": 103, \"2\": 16, \"4\": 1}, \"0\": {\"0\": 87, \"4\": 29, \"13\": 3, \"10\": 1}, \"13\": {\"13\": 77, \"10\": 15, \"0\": 15, \"4\": 13}, \"7\": {\"7\": 110, \"9\": 7, \"14\": 2, \"4\": 1}, \"9\": {\"8\": 26, \"9\": 88, \"7\": 5, \"12\": 1}, \"3\": {\"3\": 120}, \"11\": {\"11\": 120}, \"6\": {\"6\": 117, \"1\": 3}, \"8\": {\"8\": 67, \"9\": 38, \"12\": 15}, \"4\": {\"4\": 68, \"13\": 5, \"0\": 43, \"14\": 3, \"10\": 1}, \"5\": {\"5\": 73, \"15\": 35, \"12\": 12}, \"10\": {\"10\": 95, \"13\": 23, \"0\": 2}, \"1\": {\"1\": 120}, \"2\": {\"2\": 102, \"14\": 18}, \"15\": {\"5\": 39, \"12\": 22, \"15\": 59}, \"12\": {\"12\": 78, \"15\": 12, \"8\": 24, \"5\": 5, \"9\": 1}}, \"26\": {\"13\": {\"13\": 70, \"3\": 41, \"2\": 3, \"4\": 3, \"9\": 2, \"7\": 1}, \"2\": {\"8\": 24, \"2\": 34, \"9\": 23, \"7\": 26, \"13\": 2, \"3\": 11}, \"8\": {\"12\": 18, \"8\": 24, \"2\": 25, \"9\": 17, \"7\": 28, \"13\": 2, \"0\": 2, \"3\": 4}, \"9\": {\"8\": 26, \"3\": 6, \"2\": 31, \"9\": 23, \"7\": 28, \"12\": 6}, \"12\": {\"12\": 81, \"8\": 18, \"7\": 10, \"9\": 8, \"13\": 1, \"2\": 2}, \"4\": {\"4\": 109, \"3\": 2, \"13\": 9}, \"3\": {\"2\": 6, \"13\": 44, \"3\": 56, \"8\": 5, \"9\": 2, \"7\": 5, \"4\": 2}, \"15\": {\"5\": 11, \"0\": 29, \"1\": 15, \"14\": 16, \"6\": 12, \"10\": 16, \"12\": 5, \"15\": 15, \"8\": 1}, \"14\": {\"10\": 19, \"6\": 4, \"14\": 34, \"1\": 10, \"0\": 27, \"15\": 12, \"12\": 4, \"5\": 9, \"8\": 1}, \"10\": {\"0\": 25, \"10\": 17, \"6\": 11, \"5\": 16, \"14\": 25, \"1\": 14, \"15\": 12}, \"7\": {\"9\": 20, \"8\": 19, \"2\": 34, \"3\": 14, \"7\": 26, \"12\": 4, \"13\": 3}, \"11\": {\"11\": 107, \"6\": 3, \"5\": 9, \"1\": 1}, \"6\": {\"5\": 31, \"6\": 37, \"1\": 21, \"10\": 12, \"15\": 11, \"14\": 6, \"11\": 2}, \"1\": {\"10\": 22, \"15\": 16, \"1\": 14, \"6\": 21, \"0\": 18, \"5\": 16, \"14\": 10, \"11\": 2, \"9\": 1}, \"5\": {\"1\": 16, \"5\": 34, \"6\": 45, \"10\": 8, \"14\": 4, \"15\": 9, \"11\": 3, \"0\": 1}, \"0\": {\"0\": 33, \"5\": 9, \"14\": 23, \"15\": 15, \"10\": 23, \"6\": 5, \"1\": 11, \"12\": 1}}}, \"per_domain_accuracy\": {\"8\": {\"accuracy\": 0.7322916666666667, \"source?\": true}, \"50\": {\"accuracy\": 0.9421875, \"source?\": true}, \"32\": {\"accuracy\": 0.8067708333333333, \"source?\": true}, \"14\": {\"accuracy\": 0.6020833333333333, \"source?\": false}, \"20\": {\"accuracy\": 0.3338541666666667, \"source?\": false}, \"44\": {\"accuracy\": 0.6807291666666667, \"source?\": false}, \"38\": {\"accuracy\": 0.7729166666666667, \"source?\": false}, \"26\": {\"accuracy\": 0.371875, \"source?\": false}}}, \"history\": {\"epoch_indices\": [1, 2, 3, 4, 5, 6], \"train_label_loss\": [0.9073720119538762, 0.6494955147483519, 0.31162223679767476, 0.17597479420337117, 0.11905753089647209, 0.07578632003514074], \"source_val_label_loss\": [1.2117393016815186, 0.4363599717617035, 0.28028595447540283, 0.16943909227848053, 0.19660259783267975, 0.07188872992992401], \"target_val_label_loss\": [1.6303436756134033, 1.2196379899978638, 1.4671286344528198, 1.5979176759719849, 1.584539532661438, 1.6048309803009033], \"source_val_acc_label\": [0.5930555555555556, 0.8270833333333333, 0.8890625, 0.9362847222222223, 0.9381944444444444, 0.9763888888888889], \"target_val_acc_label\": [0.46489583333333334, 0.5522916666666666, 0.5782291666666667, 0.5880208333333333, 0.5839583333333334, 0.6121875]}, \"dataset_metrics\": {\"source\": {\"train\": {\"n_unique_x\": 33600, \"n_unique_y\": 16, \"n_batch/episode\": 420}, \"val\": {\"n_unique_x\": 7200, \"n_unique_y\": 16, \"n_batch/episode\": 180}, \"test\": {\"n_unique_x\": 7200, \"n_unique_y\": 16, \"n_batch/episode\": 180}}, \"target\": {\"train\": {\"n_unique_x\": 56000, \"n_unique_y\": 16, \"n_batch/episode\": 700}, \"val\": {\"n_unique_x\": 12000, \"n_unique_y\": 16, \"n_batch/episode\": 300}, \"test\": {\"n_unique_x\": 12000, \"n_unique_y\": 16, \"n_batch/episode\": 300}}}}'"
      ]
     },
     "execution_count": 20,
     "metadata": {},
     "output_type": "execute_result"
    }
   ],
   "source": [
    "json.dumps(experiment)"
   ]
  }
 ],
 "metadata": {
  "celltoolbar": "Tags",
  "kernelspec": {
   "display_name": "Python 3 (ipykernel)",
   "language": "python",
   "name": "python3"
  },
  "language_info": {
   "codemirror_mode": {
    "name": "ipython",
    "version": 3
   },
   "file_extension": ".py",
   "mimetype": "text/x-python",
   "name": "python",
   "nbconvert_exporter": "python",
   "pygments_lexer": "ipython3",
   "version": "3.8.10"
  },
  "papermill": {
   "default_parameters": {},
   "duration": 425.017206,
   "end_time": "2022-03-02T17:08:22.116147",
   "environment_variables": {},
   "exception": null,
   "input_path": "/mnt/wd500GB/CSC500/csc500-main/csc500-notebooks/templates/ptn_template.ipynb",
   "output_path": "trial.ipynb",
   "parameters": {
    "parameters": {
     "BEST_MODEL_PATH": "./best_model.pth",
     "NUM_LOGS_PER_EPOCH": 10,
     "criteria_for_best": "target_loss",
     "dataset_seed": 1337,
     "device": "cuda",
     "domains_source": [
      8,
      32,
      50
     ],
     "domains_target": [
      14,
      20,
      26,
      38,
      44
     ],
     "episode_transforms_source": [],
     "episode_transforms_target": [],
     "experiment_name": "baseline_ptn_32bit_oracle.run1.framed",
     "labels_source": [
      "3123D52",
      "3123D65",
      "3123D79",
      "3123D80",
      "3123D54",
      "3123D70",
      "3123D7B",
      "3123D89",
      "3123D58",
      "3123D76",
      "3123D7D",
      "3123EFE",
      "3123D64",
      "3123D78",
      "3123D7E",
      "3124E4A"
     ],
     "labels_target": [
      "3123D52",
      "3123D65",
      "3123D79",
      "3123D80",
      "3123D54",
      "3123D70",
      "3123D7B",
      "3123D89",
      "3123D58",
      "3123D76",
      "3123D7D",
      "3123EFE",
      "3123D64",
      "3123D78",
      "3123D7E",
      "3124E4A"
     ],
     "lr": 0.001,
     "n_epoch": 50,
     "n_query": 2,
     "n_shot": 3,
     "n_way": 16,
     "num_examples_per_domain_per_label_source": 1000,
     "num_examples_per_domain_per_label_target": 1000,
     "patience": 3,
     "pickle_name": "oracle.Run1_framed_1300Examples_stratified_ds.2022A.pkl",
     "seed": 1337,
     "test_k_factor": 2,
     "torch_default_dtype": "torch.float32",
     "train_k_factor": 1,
     "val_k_factor": 2,
     "x_net": [
      {
       "class": "nnReshape",
       "kargs": {
        "shape": [
         -1,
         1,
         2,
         256
        ]
       }
      },
      {
       "class": "Conv2d",
       "kargs": {
        "bias": false,
        "in_channels": 1,
        "kernel_size": [
         1,
         7
        ],
        "out_channels": 256,
        "padding": [
         0,
         3
        ]
       }
      },
      {
       "class": "ReLU",
       "kargs": {
        "inplace": true
       }
      },
      {
       "class": "BatchNorm2d",
       "kargs": {
        "num_features": 256
       }
      },
      {
       "class": "Conv2d",
       "kargs": {
        "bias": true,
        "in_channels": 256,
        "kernel_size": [
         2,
         7
        ],
        "out_channels": 80,
        "padding": [
         0,
         3
        ]
       }
      },
      {
       "class": "ReLU",
       "kargs": {
        "inplace": true
       }
      },
      {
       "class": "BatchNorm2d",
       "kargs": {
        "num_features": 80
       }
      },
      {
       "class": "Flatten",
       "kargs": {}
      },
      {
       "class": "Linear",
       "kargs": {
        "in_features": 20480,
        "out_features": 256
       }
      },
      {
       "class": "ReLU",
       "kargs": {
        "inplace": true
       }
      },
      {
       "class": "BatchNorm1d",
       "kargs": {
        "num_features": 256
       }
      },
      {
       "class": "Linear",
       "kargs": {
        "in_features": 256,
        "out_features": 256
       }
      }
     ],
     "x_transforms_source": [],
     "x_transforms_target": []
    }
   },
   "start_time": "2022-03-02T17:01:17.098941",
   "version": "2.3.4"
  }
 },
 "nbformat": 4,
 "nbformat_minor": 5
}