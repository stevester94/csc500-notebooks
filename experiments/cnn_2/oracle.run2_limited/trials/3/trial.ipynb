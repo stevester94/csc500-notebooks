{
 "cells": [
  {
   "cell_type": "code",
   "execution_count": 1,
   "id": "2324682e",
   "metadata": {
    "execution": {
     "iopub.execute_input": "2022-03-26T10:12:08.215352Z",
     "iopub.status.busy": "2022-03-26T10:12:08.213867Z",
     "iopub.status.idle": "2022-03-26T10:12:09.604789Z",
     "shell.execute_reply": "2022-03-26T10:12:09.604338Z"
    },
    "papermill": {
     "duration": 1.428941,
     "end_time": "2022-03-26T10:12:09.604897",
     "exception": false,
     "start_time": "2022-03-26T10:12:08.175956",
     "status": "completed"
    },
    "tags": []
   },
   "outputs": [],
   "source": [
    "import os, json, sys, time, random\n",
    "import numpy as np\n",
    "import torch\n",
    "from  easydict import EasyDict\n",
    "from math import floor\n",
    "from easydict import EasyDict\n",
    "\n",
    "from steves_utils.vanilla_train_eval_test_jig import  Vanilla_Train_Eval_Test_Jig\n",
    "\n",
    "from steves_utils.torch_utils import get_dataset_metrics, independent_accuracy_assesment\n",
    "from steves_models.configurable_vanilla import Configurable_Vanilla\n",
    "from steves_utils.torch_sequential_builder import build_sequential\n",
    "from steves_utils.lazy_map import Lazy_Map\n",
    "from steves_utils.sequence_aggregator import Sequence_Aggregator\n",
    "\n",
    "from steves_utils.stratified_dataset.traditional_accessor import Traditional_Accessor_Factory\n",
    "\n",
    "from steves_utils.cnn_do_report import (\n",
    "    get_loss_curve,\n",
    "    get_results_table,\n",
    "    get_parameters_table,\n",
    "    get_domain_accuracies,\n",
    ")\n",
    "\n",
    "from steves_utils.torch_utils import (\n",
    "    confusion_by_domain_over_dataloader,\n",
    "    independent_accuracy_assesment\n",
    ")\n",
    "\n",
    "from steves_utils.utils_v2 import (\n",
    "    per_domain_accuracy_from_confusion,\n",
    "    get_datasets_base_path\n",
    ")\n",
    "\n",
    "# from steves_utils.ptn_do_report import TBD"
   ]
  },
  {
   "cell_type": "code",
   "execution_count": 2,
   "id": "1b29e3fe",
   "metadata": {
    "execution": {
     "iopub.execute_input": "2022-03-26T10:12:09.639037Z",
     "iopub.status.busy": "2022-03-26T10:12:09.638650Z",
     "iopub.status.idle": "2022-03-26T10:12:09.641600Z",
     "shell.execute_reply": "2022-03-26T10:12:09.641194Z"
    },
    "papermill": {
     "duration": 0.022742,
     "end_time": "2022-03-26T10:12:09.641763",
     "exception": false,
     "start_time": "2022-03-26T10:12:09.619021",
     "status": "completed"
    },
    "tags": []
   },
   "outputs": [],
   "source": [
    "required_parameters = {\n",
    "    \"experiment_name\",\n",
    "    \"lr\",\n",
    "    \"device\",\n",
    "    \"dataset_seed\",\n",
    "    \"seed\",\n",
    "    \"labels\",\n",
    "    \"domains_target\",\n",
    "    \"domains_source\",\n",
    "    \"num_examples_per_domain_per_label_source\",\n",
    "    \"num_examples_per_domain_per_label_target\",\n",
    "    \"batch_size\",\n",
    "    \"n_epoch\",\n",
    "    \"patience\",\n",
    "    \"criteria_for_best\",\n",
    "    \"normalize_source\",\n",
    "    \"normalize_target\",\n",
    "    \"x_net\",\n",
    "    \"NUM_LOGS_PER_EPOCH\",\n",
    "    \"BEST_MODEL_PATH\",\n",
    "    \"pickle_name_source\",\n",
    "    \"pickle_name_target\",\n",
    "    \"torch_default_dtype\",\n",
    "}"
   ]
  },
  {
   "cell_type": "code",
   "execution_count": 3,
   "id": "670b5fb8",
   "metadata": {
    "execution": {
     "iopub.execute_input": "2022-03-26T10:12:09.689494Z",
     "iopub.status.busy": "2022-03-26T10:12:09.688595Z",
     "iopub.status.idle": "2022-03-26T10:12:09.696457Z",
     "shell.execute_reply": "2022-03-26T10:12:09.695644Z"
    },
    "papermill": {
     "duration": 0.035397,
     "end_time": "2022-03-26T10:12:09.696614",
     "exception": false,
     "start_time": "2022-03-26T10:12:09.661217",
     "status": "completed"
    },
    "tags": [
     "parameters"
    ]
   },
   "outputs": [],
   "source": [
    "from steves_utils.ORACLE.utils_v2 import (\n",
    "    ALL_SERIAL_NUMBERS,\n",
    "    ALL_DISTANCES_FEET_NARROWED,\n",
    ")\n",
    "\n",
    "standalone_parameters = {}\n",
    "standalone_parameters[\"experiment_name\"] = \"MANUAL CORES CNN\"\n",
    "standalone_parameters[\"lr\"] = 0.0001\n",
    "standalone_parameters[\"device\"] = \"cuda\"\n",
    "\n",
    "standalone_parameters[\"dataset_seed\"] = 1337\n",
    "standalone_parameters[\"seed\"] = 1337\n",
    "standalone_parameters[\"labels\"] = ALL_SERIAL_NUMBERS\n",
    "\n",
    "standalone_parameters[\"domains_source\"] = [8,32,50]\n",
    "standalone_parameters[\"domains_target\"] = [14,20,26,38,44,]\n",
    "\n",
    "standalone_parameters[\"num_examples_per_domain_per_label_source\"]=-1\n",
    "standalone_parameters[\"num_examples_per_domain_per_label_target\"]=-1\n",
    "\n",
    "standalone_parameters[\"pickle_name_source\"] = \"oracle.Run1_framed_2000Examples_stratified_ds.2022A.pkl\"\n",
    "standalone_parameters[\"pickle_name_target\"] = \"oracle.Run2_framed_2000Examples_stratified_ds.2022A.pkl\"\n",
    "\n",
    "standalone_parameters[\"torch_default_dtype\"] = \"torch.float32\" \n",
    "\n",
    "standalone_parameters[\"batch_size\"]=128\n",
    "\n",
    "standalone_parameters[\"n_epoch\"] = 3\n",
    "\n",
    "standalone_parameters[\"patience\"] = 10\n",
    "\n",
    "standalone_parameters[\"criteria_for_best\"] = \"target_accuracy\"\n",
    "standalone_parameters[\"normalize_source\"] = False\n",
    "standalone_parameters[\"normalize_target\"] = False\n",
    "\n",
    "standalone_parameters[\"x_net\"] =     [\n",
    "    {\"class\": \"nnReshape\", \"kargs\": {\"shape\":[-1, 1, 2, 256]}},\n",
    "    {\"class\": \"Conv2d\", \"kargs\": { \"in_channels\":1, \"out_channels\":256, \"kernel_size\":(1,7), \"bias\":False, \"padding\":(0,3), },},\n",
    "    {\"class\": \"ReLU\", \"kargs\": {\"inplace\": True}},\n",
    "    {\"class\": \"BatchNorm2d\", \"kargs\": {\"num_features\":256}},\n",
    "\n",
    "    {\"class\": \"Conv2d\", \"kargs\": { \"in_channels\":256, \"out_channels\":80, \"kernel_size\":(2,7), \"bias\":True, \"padding\":(0,3), },},\n",
    "    {\"class\": \"ReLU\", \"kargs\": {\"inplace\": True}},\n",
    "    {\"class\": \"BatchNorm2d\", \"kargs\": {\"num_features\":80}},\n",
    "    {\"class\": \"Flatten\", \"kargs\": {}},\n",
    "\n",
    "    {\"class\": \"Linear\", \"kargs\": {\"in_features\": 80*256, \"out_features\": 256}}, # 80 units per IQ pair\n",
    "    {\"class\": \"ReLU\", \"kargs\": {\"inplace\": True}},\n",
    "    {\"class\": \"BatchNorm1d\", \"kargs\": {\"num_features\":256}},\n",
    "\n",
    "    {\"class\": \"Linear\", \"kargs\": {\"in_features\": 256, \"out_features\": len(standalone_parameters[\"labels\"])}},\n",
    "]\n",
    "\n",
    "standalone_parameters[\"NUM_LOGS_PER_EPOCH\"] = 10\n",
    "standalone_parameters[\"BEST_MODEL_PATH\"] = \"./best_model.pth\""
   ]
  },
  {
   "cell_type": "code",
   "execution_count": 4,
   "id": "7b5b4ea8",
   "metadata": {
    "execution": {
     "iopub.execute_input": "2022-03-26T10:12:09.745270Z",
     "iopub.status.busy": "2022-03-26T10:12:09.739943Z",
     "iopub.status.idle": "2022-03-26T10:12:09.748173Z",
     "shell.execute_reply": "2022-03-26T10:12:09.747359Z"
    },
    "papermill": {
     "duration": 0.029729,
     "end_time": "2022-03-26T10:12:09.748327",
     "exception": false,
     "start_time": "2022-03-26T10:12:09.718598",
     "status": "completed"
    },
    "tags": [
     "injected-parameters"
    ]
   },
   "outputs": [],
   "source": [
    "# Parameters\n",
    "parameters = {\n",
    "    \"experiment_name\": \"cnn_2:oracle.run2_limited\",\n",
    "    \"labels\": [\n",
    "        \"3123D52\",\n",
    "        \"3123D65\",\n",
    "        \"3123D79\",\n",
    "        \"3123D80\",\n",
    "        \"3123D54\",\n",
    "        \"3123D70\",\n",
    "        \"3123D7B\",\n",
    "        \"3123D89\",\n",
    "        \"3123D58\",\n",
    "        \"3123D76\",\n",
    "        \"3123D7D\",\n",
    "        \"3123EFE\",\n",
    "        \"3123D64\",\n",
    "        \"3123D78\",\n",
    "        \"3123D7E\",\n",
    "        \"3124E4A\",\n",
    "    ],\n",
    "    \"domains_source\": [8, 32, 50, 14, 20, 26, 38, 44],\n",
    "    \"domains_target\": [8, 32, 50, 14, 20, 26, 38, 44],\n",
    "    \"pickle_name_source\": \"oracle.Run2_10kExamples_stratified_ds.2022A.pkl\",\n",
    "    \"pickle_name_target\": \"oracle.Run2_10kExamples_stratified_ds.2022A.pkl\",\n",
    "    \"device\": \"cuda\",\n",
    "    \"lr\": 0.0001,\n",
    "    \"batch_size\": 128,\n",
    "    \"normalize_source\": False,\n",
    "    \"normalize_target\": False,\n",
    "    \"num_examples_per_domain_per_label_source\": 2000,\n",
    "    \"num_examples_per_domain_per_label_target\": 2000,\n",
    "    \"torch_default_dtype\": \"torch.float32\",\n",
    "    \"n_epoch\": 50,\n",
    "    \"patience\": 3,\n",
    "    \"criteria_for_best\": \"target_accuracy\",\n",
    "    \"x_net\": [\n",
    "        {\"class\": \"nnReshape\", \"kargs\": {\"shape\": [-1, 1, 2, 256]}},\n",
    "        {\n",
    "            \"class\": \"Conv2d\",\n",
    "            \"kargs\": {\n",
    "                \"in_channels\": 1,\n",
    "                \"out_channels\": 256,\n",
    "                \"kernel_size\": [1, 7],\n",
    "                \"bias\": False,\n",
    "                \"padding\": [0, 3],\n",
    "            },\n",
    "        },\n",
    "        {\"class\": \"ReLU\", \"kargs\": {\"inplace\": True}},\n",
    "        {\"class\": \"BatchNorm2d\", \"kargs\": {\"num_features\": 256}},\n",
    "        {\n",
    "            \"class\": \"Conv2d\",\n",
    "            \"kargs\": {\n",
    "                \"in_channels\": 256,\n",
    "                \"out_channels\": 80,\n",
    "                \"kernel_size\": [2, 7],\n",
    "                \"bias\": True,\n",
    "                \"padding\": [0, 3],\n",
    "            },\n",
    "        },\n",
    "        {\"class\": \"ReLU\", \"kargs\": {\"inplace\": True}},\n",
    "        {\"class\": \"BatchNorm2d\", \"kargs\": {\"num_features\": 80}},\n",
    "        {\"class\": \"Flatten\", \"kargs\": {}},\n",
    "        {\"class\": \"Linear\", \"kargs\": {\"in_features\": 20480, \"out_features\": 256}},\n",
    "        {\"class\": \"ReLU\", \"kargs\": {\"inplace\": True}},\n",
    "        {\"class\": \"BatchNorm1d\", \"kargs\": {\"num_features\": 256}},\n",
    "        {\"class\": \"Linear\", \"kargs\": {\"in_features\": 256, \"out_features\": 16}},\n",
    "    ],\n",
    "    \"NUM_LOGS_PER_EPOCH\": 10,\n",
    "    \"BEST_MODEL_PATH\": \"./best_model.pth\",\n",
    "    \"dataset_seed\": 420,\n",
    "    \"seed\": 420,\n",
    "}\n"
   ]
  },
  {
   "cell_type": "code",
   "execution_count": 5,
   "id": "759b56ec",
   "metadata": {
    "execution": {
     "iopub.execute_input": "2022-03-26T10:12:09.785038Z",
     "iopub.status.busy": "2022-03-26T10:12:09.784667Z",
     "iopub.status.idle": "2022-03-26T10:12:09.786949Z",
     "shell.execute_reply": "2022-03-26T10:12:09.786587Z"
    },
    "papermill": {
     "duration": 0.020514,
     "end_time": "2022-03-26T10:12:09.787020",
     "exception": false,
     "start_time": "2022-03-26T10:12:09.766506",
     "status": "completed"
    },
    "tags": []
   },
   "outputs": [],
   "source": [
    "# Set this to True if you want to run this template directly\n",
    "STANDALONE = False\n",
    "if STANDALONE:\n",
    "    print(\"parameters not injected, running with standalone_parameters\")\n",
    "    parameters = standalone_parameters\n",
    "\n",
    "if not 'parameters' in locals() and not 'parameters' in globals():\n",
    "    raise Exception(\"Parameter injection failed\")\n",
    "\n",
    "#Use an easy dict for all the parameters\n",
    "p = EasyDict(parameters)\n",
    "\n",
    "supplied_keys = set(p.keys())\n",
    "\n",
    "if  supplied_keys != required_parameters:\n",
    "    print(\"Parameters are incorrect\")\n",
    "    if len(supplied_keys - required_parameters)>0: print(\"Shouldn't have:\", str(supplied_keys - required_parameters))\n",
    "    if len(required_parameters - supplied_keys)>0: print(\"Need to have:\", str(required_parameters - supplied_keys))\n",
    "    raise RuntimeError(\"Parameters are incorrect\")\n",
    "\n"
   ]
  },
  {
   "cell_type": "code",
   "execution_count": 6,
   "id": "d5c66a71",
   "metadata": {
    "execution": {
     "iopub.execute_input": "2022-03-26T10:12:09.823641Z",
     "iopub.status.busy": "2022-03-26T10:12:09.823261Z",
     "iopub.status.idle": "2022-03-26T10:12:09.827185Z",
     "shell.execute_reply": "2022-03-26T10:12:09.826776Z"
    },
    "papermill": {
     "duration": 0.022458,
     "end_time": "2022-03-26T10:12:09.827256",
     "exception": false,
     "start_time": "2022-03-26T10:12:09.804798",
     "status": "completed"
    },
    "tags": []
   },
   "outputs": [],
   "source": [
    "###################################\n",
    "# Set the RNGs and make it all deterministic\n",
    "###################################\n",
    "np.random.seed(p.seed)\n",
    "random.seed(p.seed)\n",
    "torch.manual_seed(p.seed)\n",
    "\n",
    "torch.use_deterministic_algorithms(True) "
   ]
  },
  {
   "cell_type": "code",
   "execution_count": 7,
   "id": "92a65876",
   "metadata": {
    "execution": {
     "iopub.execute_input": "2022-03-26T10:12:09.863643Z",
     "iopub.status.busy": "2022-03-26T10:12:09.863269Z",
     "iopub.status.idle": "2022-03-26T10:12:09.865721Z",
     "shell.execute_reply": "2022-03-26T10:12:09.866023Z"
    },
    "papermill": {
     "duration": 0.020616,
     "end_time": "2022-03-26T10:12:09.866105",
     "exception": false,
     "start_time": "2022-03-26T10:12:09.845489",
     "status": "completed"
    },
    "tags": []
   },
   "outputs": [],
   "source": [
    "torch.set_default_dtype(eval(p.torch_default_dtype))"
   ]
  },
  {
   "cell_type": "code",
   "execution_count": 8,
   "id": "f1a32f01",
   "metadata": {
    "execution": {
     "iopub.execute_input": "2022-03-26T10:12:09.900793Z",
     "iopub.status.busy": "2022-03-26T10:12:09.900405Z",
     "iopub.status.idle": "2022-03-26T10:12:09.938937Z",
     "shell.execute_reply": "2022-03-26T10:12:09.938209Z"
    },
    "papermill": {
     "duration": 0.056261,
     "end_time": "2022-03-26T10:12:09.939109",
     "exception": false,
     "start_time": "2022-03-26T10:12:09.882848",
     "status": "completed"
    },
    "tags": []
   },
   "outputs": [],
   "source": [
    "###################################\n",
    "# Build the network(s)\n",
    "# Note: It's critical to do this AFTER setting the RNG\n",
    "###################################\n",
    "x_net = build_sequential(p.x_net)"
   ]
  },
  {
   "cell_type": "code",
   "execution_count": 9,
   "id": "a276cd83",
   "metadata": {
    "execution": {
     "iopub.execute_input": "2022-03-26T10:12:09.976191Z",
     "iopub.status.busy": "2022-03-26T10:12:09.975823Z",
     "iopub.status.idle": "2022-03-26T10:12:09.977973Z",
     "shell.execute_reply": "2022-03-26T10:12:09.977602Z"
    },
    "papermill": {
     "duration": 0.019438,
     "end_time": "2022-03-26T10:12:09.978054",
     "exception": false,
     "start_time": "2022-03-26T10:12:09.958616",
     "status": "completed"
    },
    "tags": []
   },
   "outputs": [],
   "source": [
    "start_time_secs = time.time()"
   ]
  },
  {
   "cell_type": "code",
   "execution_count": 10,
   "id": "de702e48",
   "metadata": {
    "execution": {
     "iopub.execute_input": "2022-03-26T10:12:10.024963Z",
     "iopub.status.busy": "2022-03-26T10:12:10.024097Z",
     "iopub.status.idle": "2022-03-26T10:12:22.693323Z",
     "shell.execute_reply": "2022-03-26T10:12:22.692553Z"
    },
    "papermill": {
     "duration": 12.69746,
     "end_time": "2022-03-26T10:12:22.693508",
     "exception": false,
     "start_time": "2022-03-26T10:12:09.996048",
     "status": "completed"
    },
    "tags": []
   },
   "outputs": [],
   "source": [
    "def wrap_in_dataloader(p, ds):\n",
    "    return torch.utils.data.DataLoader(\n",
    "        ds,\n",
    "        batch_size=p.batch_size,\n",
    "        shuffle=True,\n",
    "        num_workers=1,\n",
    "        persistent_workers=True,\n",
    "        prefetch_factor=50,\n",
    "        pin_memory=True\n",
    "    )\n",
    "\n",
    "taf_source = Traditional_Accessor_Factory(\n",
    "    labels=p.labels,\n",
    "    domains=p.domains_source,\n",
    "    num_examples_per_domain_per_label=p.num_examples_per_domain_per_label_source,\n",
    "    pickle_path=os.path.join(get_datasets_base_path(), p.pickle_name_source),\n",
    "    seed=p.dataset_seed\n",
    ")\n",
    "train_original_source, val_original_source, test_original_source = \\\n",
    "    taf_source.get_train(), taf_source.get_val(), taf_source.get_test()\n",
    "\n",
    "\n",
    "taf_target = Traditional_Accessor_Factory(\n",
    "    labels=p.labels,\n",
    "    domains=p.domains_target,\n",
    "    num_examples_per_domain_per_label=p.num_examples_per_domain_per_label_source,\n",
    "    pickle_path=os.path.join(get_datasets_base_path(), p.pickle_name_target),\n",
    "    seed=p.dataset_seed\n",
    ")\n",
    "train_original_target, val_original_target, test_original_target = \\\n",
    "    taf_target.get_train(), taf_target.get_val(), taf_target.get_test()\n",
    "\n",
    "\n",
    "# For CNN We only use X and Y. And we only train on the source.\n",
    "# Properly form the data using a transform lambda and Lazy_Map. Finally wrap them in a dataloader\n",
    "\n",
    "transform_lambda = lambda ex: ex[:2] # Strip the tuple to just (x,y)\n",
    "\n",
    "\n",
    "train_processed_source = wrap_in_dataloader(\n",
    "    p,\n",
    "    Lazy_Map(train_original_source, transform_lambda)\n",
    ")\n",
    "val_processed_source = wrap_in_dataloader(\n",
    "    p,\n",
    "    Lazy_Map(val_original_source, transform_lambda)\n",
    ")\n",
    "test_processed_source = wrap_in_dataloader(\n",
    "    p,\n",
    "    Lazy_Map(test_original_source, transform_lambda)\n",
    ")\n",
    "\n",
    "train_processed_target = wrap_in_dataloader(\n",
    "    p,\n",
    "    Lazy_Map(train_original_target, transform_lambda)\n",
    ")\n",
    "val_processed_target = wrap_in_dataloader(\n",
    "    p,\n",
    "    Lazy_Map(val_original_target, transform_lambda)\n",
    ")\n",
    "test_processed_target  = wrap_in_dataloader(\n",
    "    p,\n",
    "    Lazy_Map(test_original_target, transform_lambda)\n",
    ")\n",
    "\n",
    "\n",
    "\n",
    "datasets = EasyDict({\n",
    "    \"source\": {\n",
    "        \"original\": {\"train\":train_original_source, \"val\":val_original_source, \"test\":test_original_source},\n",
    "        \"processed\": {\"train\":train_processed_source, \"val\":val_processed_source, \"test\":test_processed_source}\n",
    "    },\n",
    "    \"target\": {\n",
    "        \"original\": {\"train\":train_original_target, \"val\":val_original_target, \"test\":test_original_target},\n",
    "        \"processed\": {\"train\":train_processed_target, \"val\":val_processed_target, \"test\":test_processed_target}\n",
    "    },\n",
    "})"
   ]
  },
  {
   "cell_type": "code",
   "execution_count": 11,
   "id": "a11b26bd",
   "metadata": {
    "execution": {
     "iopub.execute_input": "2022-03-26T10:12:22.769894Z",
     "iopub.status.busy": "2022-03-26T10:12:22.769051Z",
     "iopub.status.idle": "2022-03-26T10:12:28.028947Z",
     "shell.execute_reply": "2022-03-26T10:12:28.028086Z"
    },
    "papermill": {
     "duration": 5.317212,
     "end_time": "2022-03-26T10:12:28.029128",
     "exception": false,
     "start_time": "2022-03-26T10:12:22.711916",
     "status": "completed"
    },
    "tags": []
   },
   "outputs": [
    {
     "data": {
      "text/plain": [
       "torch.float32"
      ]
     },
     "execution_count": 11,
     "metadata": {},
     "output_type": "execute_result"
    }
   ],
   "source": [
    "ep = next(iter(test_processed_target))\n",
    "ep[0].dtype"
   ]
  },
  {
   "cell_type": "code",
   "execution_count": 12,
   "id": "19425fad",
   "metadata": {
    "execution": {
     "iopub.execute_input": "2022-03-26T10:12:28.070903Z",
     "iopub.status.busy": "2022-03-26T10:12:28.070340Z",
     "iopub.status.idle": "2022-03-26T10:12:28.118498Z",
     "shell.execute_reply": "2022-03-26T10:12:28.117790Z"
    },
    "papermill": {
     "duration": 0.070628,
     "end_time": "2022-03-26T10:12:28.118658",
     "exception": false,
     "start_time": "2022-03-26T10:12:28.048030",
     "status": "completed"
    },
    "tags": []
   },
   "outputs": [],
   "source": [
    "model = Configurable_Vanilla(\n",
    "    x_net=x_net,\n",
    "    label_loss_object=torch.nn.NLLLoss(),\n",
    "    learning_rate=p.lr\n",
    ")"
   ]
  },
  {
   "cell_type": "code",
   "execution_count": 13,
   "id": "7f6d4f2c",
   "metadata": {
    "execution": {
     "iopub.execute_input": "2022-03-26T10:12:28.160991Z",
     "iopub.status.busy": "2022-03-26T10:12:28.160161Z",
     "iopub.status.idle": "2022-03-26T10:15:02.180137Z",
     "shell.execute_reply": "2022-03-26T10:15:02.180537Z"
    },
    "papermill": {
     "duration": 154.042151,
     "end_time": "2022-03-26T10:15:02.180655",
     "exception": false,
     "start_time": "2022-03-26T10:12:28.138504",
     "status": "completed"
    },
    "tags": []
   },
   "outputs": [
    {
     "name": "stdout",
     "output_type": "stream",
     "text": [
      "epoch: 1, [batch: 1 / 1400], examples_per_second: 732.5775, train_label_loss: 2.7845, \n"
     ]
    },
    {
     "name": "stdout",
     "output_type": "stream",
     "text": [
      "epoch: 1, [batch: 140 / 1400], examples_per_second: 12637.2903, train_label_loss: 2.7461, \n"
     ]
    },
    {
     "name": "stdout",
     "output_type": "stream",
     "text": [
      "epoch: 1, [batch: 280 / 1400], examples_per_second: 12829.2034, train_label_loss: 2.6990, \n"
     ]
    },
    {
     "name": "stdout",
     "output_type": "stream",
     "text": [
      "epoch: 1, [batch: 420 / 1400], examples_per_second: 12771.8347, train_label_loss: 2.7087, \n"
     ]
    },
    {
     "name": "stdout",
     "output_type": "stream",
     "text": [
      "epoch: 1, [batch: 560 / 1400], examples_per_second: 12825.3067, train_label_loss: 2.5847, \n"
     ]
    },
    {
     "name": "stdout",
     "output_type": "stream",
     "text": [
      "epoch: 1, [batch: 700 / 1400], examples_per_second: 12851.1782, train_label_loss: 2.6312, \n"
     ]
    },
    {
     "name": "stdout",
     "output_type": "stream",
     "text": [
      "epoch: 1, [batch: 840 / 1400], examples_per_second: 12829.5099, train_label_loss: 2.5508, \n"
     ]
    },
    {
     "name": "stdout",
     "output_type": "stream",
     "text": [
      "epoch: 1, [batch: 980 / 1400], examples_per_second: 12788.7002, train_label_loss: 2.5705, \n"
     ]
    },
    {
     "name": "stdout",
     "output_type": "stream",
     "text": [
      "epoch: 1, [batch: 1120 / 1400], examples_per_second: 12842.4872, train_label_loss: 2.5418, \n"
     ]
    },
    {
     "name": "stdout",
     "output_type": "stream",
     "text": [
      "epoch: 1, [batch: 1260 / 1400], examples_per_second: 12742.7568, train_label_loss: 2.4186, \n"
     ]
    },
    {
     "name": "stdout",
     "output_type": "stream",
     "text": [
      "=============================================================\n",
      "epoch: 1, source_val_acc_label: 0.1782, source_val_label_loss: 2.4878, target_val_acc_label: 0.1782, target_val_label_loss: 2.4878, \n",
      "=============================================================\n"
     ]
    },
    {
     "name": "stdout",
     "output_type": "stream",
     "text": [
      "New best\n",
      "epoch: 2, [batch: 1 / 1400], examples_per_second: 64.6061, train_label_loss: 2.4672, \n"
     ]
    },
    {
     "name": "stdout",
     "output_type": "stream",
     "text": [
      "epoch: 2, [batch: 140 / 1400], examples_per_second: 12676.5792, train_label_loss: 2.5024, \n"
     ]
    },
    {
     "name": "stdout",
     "output_type": "stream",
     "text": [
      "epoch: 2, [batch: 280 / 1400], examples_per_second: 12784.0279, train_label_loss: 2.2953, \n"
     ]
    },
    {
     "name": "stdout",
     "output_type": "stream",
     "text": [
      "epoch: 2, [batch: 420 / 1400], examples_per_second: 12743.4676, train_label_loss: 2.2223, \n"
     ]
    },
    {
     "name": "stdout",
     "output_type": "stream",
     "text": [
      "epoch: 2, [batch: 560 / 1400], examples_per_second: 12851.0200, train_label_loss: 2.3607, \n"
     ]
    },
    {
     "name": "stdout",
     "output_type": "stream",
     "text": [
      "epoch: 2, [batch: 700 / 1400], examples_per_second: 12794.0923, train_label_loss: 2.1382, \n"
     ]
    },
    {
     "name": "stdout",
     "output_type": "stream",
     "text": [
      "epoch: 2, [batch: 840 / 1400], examples_per_second: 12788.5239, train_label_loss: 2.1075, \n"
     ]
    },
    {
     "name": "stdout",
     "output_type": "stream",
     "text": [
      "epoch: 2, [batch: 980 / 1400], examples_per_second: 12745.8015, train_label_loss: 2.0735, \n"
     ]
    },
    {
     "name": "stdout",
     "output_type": "stream",
     "text": [
      "epoch: 2, [batch: 1120 / 1400], examples_per_second: 12754.3296, train_label_loss: 2.0504, \n"
     ]
    },
    {
     "name": "stdout",
     "output_type": "stream",
     "text": [
      "epoch: 2, [batch: 1260 / 1400], examples_per_second: 12814.1225, train_label_loss: 2.1038, \n"
     ]
    },
    {
     "name": "stdout",
     "output_type": "stream",
     "text": [
      "=============================================================\n",
      "epoch: 2, source_val_acc_label: 0.3350, source_val_label_loss: 2.0041, target_val_acc_label: 0.3350, target_val_label_loss: 2.0041, \n",
      "=============================================================\n"
     ]
    },
    {
     "name": "stdout",
     "output_type": "stream",
     "text": [
      "New best\n",
      "epoch: 3, [batch: 1 / 1400], examples_per_second: 72.0696, train_label_loss: 1.9576, \n"
     ]
    },
    {
     "name": "stdout",
     "output_type": "stream",
     "text": [
      "epoch: 3, [batch: 140 / 1400], examples_per_second: 12457.1211, train_label_loss: 1.9580, \n"
     ]
    },
    {
     "name": "stdout",
     "output_type": "stream",
     "text": [
      "epoch: 3, [batch: 280 / 1400], examples_per_second: 12647.6444, train_label_loss: 1.8462, \n"
     ]
    },
    {
     "name": "stdout",
     "output_type": "stream",
     "text": [
      "epoch: 3, [batch: 420 / 1400], examples_per_second: 12709.4963, train_label_loss: 1.8115, \n"
     ]
    },
    {
     "name": "stdout",
     "output_type": "stream",
     "text": [
      "epoch: 3, [batch: 560 / 1400], examples_per_second: 12775.9790, train_label_loss: 1.8336, \n"
     ]
    },
    {
     "name": "stdout",
     "output_type": "stream",
     "text": [
      "epoch: 3, [batch: 700 / 1400], examples_per_second: 12715.5059, train_label_loss: 1.7061, \n"
     ]
    },
    {
     "name": "stdout",
     "output_type": "stream",
     "text": [
      "epoch: 3, [batch: 840 / 1400], examples_per_second: 12783.7430, train_label_loss: 1.9496, \n"
     ]
    },
    {
     "name": "stdout",
     "output_type": "stream",
     "text": [
      "epoch: 3, [batch: 980 / 1400], examples_per_second: 12692.1038, train_label_loss: 1.7141, \n"
     ]
    },
    {
     "name": "stdout",
     "output_type": "stream",
     "text": [
      "epoch: 3, [batch: 1120 / 1400], examples_per_second: 12821.8193, train_label_loss: 1.7716, \n"
     ]
    },
    {
     "name": "stdout",
     "output_type": "stream",
     "text": [
      "epoch: 3, [batch: 1260 / 1400], examples_per_second: 12699.2168, train_label_loss: 1.6657, \n"
     ]
    },
    {
     "name": "stdout",
     "output_type": "stream",
     "text": [
      "=============================================================\n",
      "epoch: 3, source_val_acc_label: 0.4363, source_val_label_loss: 1.7018, target_val_acc_label: 0.4363, target_val_label_loss: 1.7018, \n",
      "=============================================================\n"
     ]
    },
    {
     "name": "stdout",
     "output_type": "stream",
     "text": [
      "New best\n",
      "epoch: 4, [batch: 1 / 1400], examples_per_second: 74.1436, train_label_loss: 1.3720, \n"
     ]
    },
    {
     "name": "stdout",
     "output_type": "stream",
     "text": [
      "epoch: 4, [batch: 140 / 1400], examples_per_second: 13816.0010, train_label_loss: 1.4499, \n"
     ]
    },
    {
     "name": "stdout",
     "output_type": "stream",
     "text": [
      "epoch: 4, [batch: 280 / 1400], examples_per_second: 14002.9711, train_label_loss: 1.5027, \n"
     ]
    },
    {
     "name": "stdout",
     "output_type": "stream",
     "text": [
      "epoch: 4, [batch: 420 / 1400], examples_per_second: 13921.2498, train_label_loss: 1.4424, \n"
     ]
    },
    {
     "name": "stdout",
     "output_type": "stream",
     "text": [
      "epoch: 4, [batch: 560 / 1400], examples_per_second: 14037.1384, train_label_loss: 1.8271, \n"
     ]
    },
    {
     "name": "stdout",
     "output_type": "stream",
     "text": [
      "epoch: 4, [batch: 700 / 1400], examples_per_second: 13892.3591, train_label_loss: 1.4366, \n"
     ]
    },
    {
     "name": "stdout",
     "output_type": "stream",
     "text": [
      "epoch: 4, [batch: 840 / 1400], examples_per_second: 13972.1170, train_label_loss: 1.7904, \n"
     ]
    },
    {
     "name": "stdout",
     "output_type": "stream",
     "text": [
      "epoch: 4, [batch: 980 / 1400], examples_per_second: 13911.8371, train_label_loss: 1.4052, \n"
     ]
    },
    {
     "name": "stdout",
     "output_type": "stream",
     "text": [
      "epoch: 4, [batch: 1120 / 1400], examples_per_second: 13856.6182, train_label_loss: 1.3874, \n"
     ]
    },
    {
     "name": "stdout",
     "output_type": "stream",
     "text": [
      "epoch: 4, [batch: 1260 / 1400], examples_per_second: 13898.1981, train_label_loss: 1.4071, \n"
     ]
    },
    {
     "name": "stdout",
     "output_type": "stream",
     "text": [
      "=============================================================\n",
      "epoch: 4, source_val_acc_label: 0.4749, source_val_label_loss: 1.5181, target_val_acc_label: 0.4749, target_val_label_loss: 1.5181, \n",
      "=============================================================\n"
     ]
    },
    {
     "name": "stdout",
     "output_type": "stream",
     "text": [
      "New best\n",
      "epoch: 5, [batch: 1 / 1400], examples_per_second: 82.2917, train_label_loss: 1.3583, \n"
     ]
    },
    {
     "name": "stdout",
     "output_type": "stream",
     "text": [
      "epoch: 5, [batch: 140 / 1400], examples_per_second: 14119.0935, train_label_loss: 1.1744, \n"
     ]
    },
    {
     "name": "stdout",
     "output_type": "stream",
     "text": [
      "epoch: 5, [batch: 280 / 1400], examples_per_second: 14054.0231, train_label_loss: 1.3158, \n"
     ]
    },
    {
     "name": "stdout",
     "output_type": "stream",
     "text": [
      "epoch: 5, [batch: 420 / 1400], examples_per_second: 13993.6222, train_label_loss: 1.3119, \n"
     ]
    },
    {
     "name": "stdout",
     "output_type": "stream",
     "text": [
      "epoch: 5, [batch: 560 / 1400], examples_per_second: 14069.3524, train_label_loss: 1.2809, \n"
     ]
    },
    {
     "name": "stdout",
     "output_type": "stream",
     "text": [
      "epoch: 5, [batch: 700 / 1400], examples_per_second: 14008.2533, train_label_loss: 1.1340, \n"
     ]
    },
    {
     "name": "stdout",
     "output_type": "stream",
     "text": [
      "epoch: 5, [batch: 840 / 1400], examples_per_second: 14054.9298, train_label_loss: 1.1386, \n"
     ]
    },
    {
     "name": "stdout",
     "output_type": "stream",
     "text": [
      "epoch: 5, [batch: 980 / 1400], examples_per_second: 14148.9505, train_label_loss: 1.1736, \n"
     ]
    },
    {
     "name": "stdout",
     "output_type": "stream",
     "text": [
      "epoch: 5, [batch: 1120 / 1400], examples_per_second: 13921.8764, train_label_loss: 1.1757, \n"
     ]
    },
    {
     "name": "stdout",
     "output_type": "stream",
     "text": [
      "epoch: 5, [batch: 1260 / 1400], examples_per_second: 13889.3529, train_label_loss: 1.1065, \n"
     ]
    },
    {
     "name": "stdout",
     "output_type": "stream",
     "text": [
      "=============================================================\n",
      "epoch: 5, source_val_acc_label: 0.4834, source_val_label_loss: 1.4621, target_val_acc_label: 0.4834, target_val_label_loss: 1.4621, \n",
      "=============================================================\n"
     ]
    },
    {
     "name": "stdout",
     "output_type": "stream",
     "text": [
      "New best\n",
      "epoch: 6, [batch: 1 / 1400], examples_per_second: 80.3616, train_label_loss: 1.1112, \n"
     ]
    },
    {
     "name": "stdout",
     "output_type": "stream",
     "text": [
      "epoch: 6, [batch: 140 / 1400], examples_per_second: 14115.9847, train_label_loss: 1.0320, \n"
     ]
    },
    {
     "name": "stdout",
     "output_type": "stream",
     "text": [
      "epoch: 6, [batch: 280 / 1400], examples_per_second: 14026.6495, train_label_loss: 0.9628, \n"
     ]
    },
    {
     "name": "stdout",
     "output_type": "stream",
     "text": [
      "epoch: 6, [batch: 420 / 1400], examples_per_second: 14091.7447, train_label_loss: 1.1619, \n"
     ]
    },
    {
     "name": "stdout",
     "output_type": "stream",
     "text": [
      "epoch: 6, [batch: 560 / 1400], examples_per_second: 14035.5342, train_label_loss: 0.8679, \n"
     ]
    },
    {
     "name": "stdout",
     "output_type": "stream",
     "text": [
      "epoch: 6, [batch: 700 / 1400], examples_per_second: 13990.8480, train_label_loss: 0.8818, \n"
     ]
    },
    {
     "name": "stdout",
     "output_type": "stream",
     "text": [
      "epoch: 6, [batch: 840 / 1400], examples_per_second: 14070.9934, train_label_loss: 0.9428, \n"
     ]
    },
    {
     "name": "stdout",
     "output_type": "stream",
     "text": [
      "epoch: 6, [batch: 980 / 1400], examples_per_second: 13868.3459, train_label_loss: 1.0697, \n"
     ]
    },
    {
     "name": "stdout",
     "output_type": "stream",
     "text": [
      "epoch: 6, [batch: 1120 / 1400], examples_per_second: 13810.7933, train_label_loss: 0.8277, \n"
     ]
    },
    {
     "name": "stdout",
     "output_type": "stream",
     "text": [
      "epoch: 6, [batch: 1260 / 1400], examples_per_second: 13946.4481, train_label_loss: 0.9310, \n"
     ]
    },
    {
     "name": "stdout",
     "output_type": "stream",
     "text": [
      "=============================================================\n",
      "epoch: 6, source_val_acc_label: 0.4913, source_val_label_loss: 1.4538, target_val_acc_label: 0.4913, target_val_label_loss: 1.4538, \n",
      "=============================================================\n"
     ]
    },
    {
     "name": "stdout",
     "output_type": "stream",
     "text": [
      "New best\n",
      "epoch: 7, [batch: 1 / 1400], examples_per_second: 81.0359, train_label_loss: 0.7525, \n"
     ]
    },
    {
     "name": "stdout",
     "output_type": "stream",
     "text": [
      "epoch: 7, [batch: 140 / 1400], examples_per_second: 13850.6626, train_label_loss: 0.7196, \n"
     ]
    },
    {
     "name": "stdout",
     "output_type": "stream",
     "text": [
      "epoch: 7, [batch: 280 / 1400], examples_per_second: 13996.0951, train_label_loss: 0.7251, \n"
     ]
    },
    {
     "name": "stdout",
     "output_type": "stream",
     "text": [
      "epoch: 7, [batch: 420 / 1400], examples_per_second: 14133.2693, train_label_loss: 0.6035, \n"
     ]
    },
    {
     "name": "stdout",
     "output_type": "stream",
     "text": [
      "epoch: 7, [batch: 560 / 1400], examples_per_second: 13989.7439, train_label_loss: 0.7195, \n"
     ]
    },
    {
     "name": "stdout",
     "output_type": "stream",
     "text": [
      "epoch: 7, [batch: 700 / 1400], examples_per_second: 14117.7873, train_label_loss: 0.8040, \n"
     ]
    },
    {
     "name": "stdout",
     "output_type": "stream",
     "text": [
      "epoch: 7, [batch: 840 / 1400], examples_per_second: 15974.0256, train_label_loss: 0.5961, \n"
     ]
    },
    {
     "name": "stdout",
     "output_type": "stream",
     "text": [
      "epoch: 7, [batch: 980 / 1400], examples_per_second: 17010.5799, train_label_loss: 0.7164, \n"
     ]
    },
    {
     "name": "stdout",
     "output_type": "stream",
     "text": [
      "epoch: 7, [batch: 1120 / 1400], examples_per_second: 16914.1755, train_label_loss: 0.6593, \n"
     ]
    },
    {
     "name": "stdout",
     "output_type": "stream",
     "text": [
      "epoch: 7, [batch: 1260 / 1400], examples_per_second: 16417.1240, train_label_loss: 0.8321, \n"
     ]
    },
    {
     "name": "stdout",
     "output_type": "stream",
     "text": [
      "=============================================================\n",
      "epoch: 7, source_val_acc_label: 0.4846, source_val_label_loss: 1.5147, target_val_acc_label: 0.4846, target_val_label_loss: 1.5147, \n",
      "=============================================================\n"
     ]
    },
    {
     "name": "stdout",
     "output_type": "stream",
     "text": [
      "epoch: 8, [batch: 1 / 1400], examples_per_second: 93.6631, train_label_loss: 0.4602, \n"
     ]
    },
    {
     "name": "stdout",
     "output_type": "stream",
     "text": [
      "epoch: 8, [batch: 140 / 1400], examples_per_second: 16952.8926, train_label_loss: 0.5954, \n"
     ]
    },
    {
     "name": "stdout",
     "output_type": "stream",
     "text": [
      "epoch: 8, [batch: 280 / 1400], examples_per_second: 16868.2329, train_label_loss: 0.6460, \n"
     ]
    },
    {
     "name": "stdout",
     "output_type": "stream",
     "text": [
      "epoch: 8, [batch: 420 / 1400], examples_per_second: 16970.3867, train_label_loss: 0.5585, \n"
     ]
    },
    {
     "name": "stdout",
     "output_type": "stream",
     "text": [
      "epoch: 8, [batch: 560 / 1400], examples_per_second: 16822.9007, train_label_loss: 0.5738, \n"
     ]
    },
    {
     "name": "stdout",
     "output_type": "stream",
     "text": [
      "epoch: 8, [batch: 700 / 1400], examples_per_second: 15084.8325, train_label_loss: 0.5361, \n"
     ]
    },
    {
     "name": "stdout",
     "output_type": "stream",
     "text": [
      "epoch: 8, [batch: 840 / 1400], examples_per_second: 12679.6060, train_label_loss: 0.5407, \n"
     ]
    },
    {
     "name": "stdout",
     "output_type": "stream",
     "text": [
      "epoch: 8, [batch: 980 / 1400], examples_per_second: 12680.7655, train_label_loss: 0.5041, \n"
     ]
    },
    {
     "name": "stdout",
     "output_type": "stream",
     "text": [
      "epoch: 8, [batch: 1120 / 1400], examples_per_second: 12832.5261, train_label_loss: 0.7473, \n"
     ]
    },
    {
     "name": "stdout",
     "output_type": "stream",
     "text": [
      "epoch: 8, [batch: 1260 / 1400], examples_per_second: 12773.5038, train_label_loss: 0.8548, \n"
     ]
    },
    {
     "name": "stdout",
     "output_type": "stream",
     "text": [
      "=============================================================\n",
      "epoch: 8, source_val_acc_label: 0.4708, source_val_label_loss: 1.5857, target_val_acc_label: 0.4708, target_val_label_loss: 1.5857, \n",
      "=============================================================\n"
     ]
    },
    {
     "name": "stdout",
     "output_type": "stream",
     "text": [
      "epoch: 9, [batch: 1 / 1400], examples_per_second: 70.9847, train_label_loss: 0.6090, \n"
     ]
    },
    {
     "name": "stdout",
     "output_type": "stream",
     "text": [
      "epoch: 9, [batch: 140 / 1400], examples_per_second: 12815.9957, train_label_loss: 0.3530, \n"
     ]
    },
    {
     "name": "stdout",
     "output_type": "stream",
     "text": [
      "epoch: 9, [batch: 280 / 1400], examples_per_second: 12762.3902, train_label_loss: 0.5778, \n"
     ]
    },
    {
     "name": "stdout",
     "output_type": "stream",
     "text": [
      "epoch: 9, [batch: 420 / 1400], examples_per_second: 12763.1444, train_label_loss: 0.3814, \n"
     ]
    },
    {
     "name": "stdout",
     "output_type": "stream",
     "text": [
      "epoch: 9, [batch: 560 / 1400], examples_per_second: 12691.5444, train_label_loss: 0.4103, \n"
     ]
    },
    {
     "name": "stdout",
     "output_type": "stream",
     "text": [
      "epoch: 9, [batch: 700 / 1400], examples_per_second: 12771.8781, train_label_loss: 0.4347, \n"
     ]
    },
    {
     "name": "stdout",
     "output_type": "stream",
     "text": [
      "epoch: 9, [batch: 840 / 1400], examples_per_second: 12606.2793, train_label_loss: 0.7000, \n"
     ]
    },
    {
     "name": "stdout",
     "output_type": "stream",
     "text": [
      "epoch: 9, [batch: 980 / 1400], examples_per_second: 12749.9441, train_label_loss: 0.3199, \n"
     ]
    },
    {
     "name": "stdout",
     "output_type": "stream",
     "text": [
      "epoch: 9, [batch: 1120 / 1400], examples_per_second: 12757.1265, train_label_loss: 0.6865, \n"
     ]
    },
    {
     "name": "stdout",
     "output_type": "stream",
     "text": [
      "epoch: 9, [batch: 1260 / 1400], examples_per_second: 12667.4787, train_label_loss: 0.4972, \n"
     ]
    },
    {
     "name": "stdout",
     "output_type": "stream",
     "text": [
      "=============================================================\n",
      "epoch: 9, source_val_acc_label: 0.4837, source_val_label_loss: 1.6271, target_val_acc_label: 0.4837, target_val_label_loss: 1.6271, \n",
      "=============================================================\n"
     ]
    },
    {
     "name": "stdout",
     "output_type": "stream",
     "text": [
      "epoch: 10, [batch: 1 / 1400], examples_per_second: 70.6119, train_label_loss: 0.3297, \n"
     ]
    },
    {
     "name": "stdout",
     "output_type": "stream",
     "text": [
      "epoch: 10, [batch: 140 / 1400], examples_per_second: 12584.0529, train_label_loss: 0.4300, \n"
     ]
    },
    {
     "name": "stdout",
     "output_type": "stream",
     "text": [
      "epoch: 10, [batch: 280 / 1400], examples_per_second: 12498.5808, train_label_loss: 0.2314, \n"
     ]
    },
    {
     "name": "stdout",
     "output_type": "stream",
     "text": [
      "epoch: 10, [batch: 420 / 1400], examples_per_second: 12534.1617, train_label_loss: 0.2307, \n"
     ]
    },
    {
     "name": "stdout",
     "output_type": "stream",
     "text": [
      "epoch: 10, [batch: 560 / 1400], examples_per_second: 12610.4015, train_label_loss: 0.3464, \n"
     ]
    },
    {
     "name": "stdout",
     "output_type": "stream",
     "text": [
      "epoch: 10, [batch: 700 / 1400], examples_per_second: 12537.7537, train_label_loss: 0.3061, \n"
     ]
    },
    {
     "name": "stdout",
     "output_type": "stream",
     "text": [
      "epoch: 10, [batch: 840 / 1400], examples_per_second: 12592.0996, train_label_loss: 0.3399, \n"
     ]
    },
    {
     "name": "stdout",
     "output_type": "stream",
     "text": [
      "epoch: 10, [batch: 980 / 1400], examples_per_second: 12551.9349, train_label_loss: 0.3637, \n"
     ]
    },
    {
     "name": "stdout",
     "output_type": "stream",
     "text": [
      "epoch: 10, [batch: 1120 / 1400], examples_per_second: 12629.3382, train_label_loss: 0.3472, \n"
     ]
    },
    {
     "name": "stdout",
     "output_type": "stream",
     "text": [
      "epoch: 10, [batch: 1260 / 1400], examples_per_second: 12600.3472, train_label_loss: 0.3145, \n"
     ]
    },
    {
     "name": "stdout",
     "output_type": "stream",
     "text": [
      "=============================================================\n",
      "epoch: 10, source_val_acc_label: 0.4659, source_val_label_loss: 1.7511, target_val_acc_label: 0.4659, target_val_label_loss: 1.7511, \n",
      "=============================================================\n"
     ]
    },
    {
     "name": "stdout",
     "output_type": "stream",
     "text": [
      "Patience (3) exhausted\n"
     ]
    }
   ],
   "source": [
    "jig = Vanilla_Train_Eval_Test_Jig(\n",
    "    model=model,\n",
    "    path_to_best_model=p.BEST_MODEL_PATH,\n",
    "    device=p.device,\n",
    "    label_loss_object=torch.nn.NLLLoss(),\n",
    ")\n",
    "\n",
    "jig.train(\n",
    "    train_iterable=datasets.source.processed.train,\n",
    "    source_val_iterable=datasets.source.processed.val,\n",
    "    target_val_iterable=datasets.target.processed.val,\n",
    "    patience=p.patience,\n",
    "    num_epochs=p.n_epoch,\n",
    "    num_logs_per_epoch=p.NUM_LOGS_PER_EPOCH,\n",
    "    criteria_for_best=p.criteria_for_best\n",
    ")"
   ]
  },
  {
   "cell_type": "code",
   "execution_count": 14,
   "id": "4bc2ac17",
   "metadata": {
    "execution": {
     "iopub.execute_input": "2022-03-26T10:15:02.277438Z",
     "iopub.status.busy": "2022-03-26T10:15:02.277044Z",
     "iopub.status.idle": "2022-03-26T10:15:02.279198Z",
     "shell.execute_reply": "2022-03-26T10:15:02.278874Z"
    },
    "papermill": {
     "duration": 0.053329,
     "end_time": "2022-03-26T10:15:02.279282",
     "exception": false,
     "start_time": "2022-03-26T10:15:02.225953",
     "status": "completed"
    },
    "tags": []
   },
   "outputs": [],
   "source": [
    "total_experiment_time_secs = time.time() - start_time_secs"
   ]
  },
  {
   "cell_type": "code",
   "execution_count": 15,
   "id": "cae88f23",
   "metadata": {
    "execution": {
     "iopub.execute_input": "2022-03-26T10:15:02.411932Z",
     "iopub.status.busy": "2022-03-26T10:15:02.411032Z",
     "iopub.status.idle": "2022-03-26T10:15:23.525603Z",
     "shell.execute_reply": "2022-03-26T10:15:23.525218Z"
    },
    "papermill": {
     "duration": 21.197041,
     "end_time": "2022-03-26T10:15:23.525703",
     "exception": false,
     "start_time": "2022-03-26T10:15:02.328662",
     "status": "completed"
    },
    "tags": []
   },
   "outputs": [],
   "source": [
    "source_test_label_accuracy, source_test_label_loss = jig.test(datasets.source.processed.test)\n",
    "target_test_label_accuracy, target_test_label_loss = jig.test(datasets.target.processed.test)\n",
    "\n",
    "source_val_label_accuracy, source_val_label_loss = jig.test(datasets.source.processed.val)\n",
    "target_val_label_accuracy, target_val_label_loss = jig.test(datasets.target.processed.val)\n",
    "\n",
    "history = jig.get_history()\n",
    "\n",
    "total_epochs_trained = len(history[\"epoch_indices\"])\n",
    "\n",
    "val_dl = wrap_in_dataloader(p, Sequence_Aggregator((datasets.source.original.val, datasets.target.original.val)))\n",
    "\n",
    "confusion = confusion_by_domain_over_dataloader(model, p.device, val_dl, forward_uses_domain=False)\n",
    "per_domain_accuracy = per_domain_accuracy_from_confusion(confusion)\n",
    "\n",
    "# Add a key to per_domain_accuracy for if it was a source domain\n",
    "for domain, accuracy in per_domain_accuracy.items():\n",
    "    per_domain_accuracy[domain] = {\n",
    "        \"accuracy\": accuracy,\n",
    "        \"source?\": domain in p.domains_source\n",
    "    }\n",
    "\n",
    "# Do an independent accuracy assesment JUST TO BE SURE!\n",
    "# _source_test_label_accuracy = independent_accuracy_assesment(model, datasets.source.processed.test, p.device)\n",
    "# _target_test_label_accuracy = independent_accuracy_assesment(model, datasets.target.processed.test, p.device)\n",
    "# _source_val_label_accuracy = independent_accuracy_assesment(model, datasets.source.processed.val, p.device)\n",
    "# _target_val_label_accuracy = independent_accuracy_assesment(model, datasets.target.processed.val, p.device)\n",
    "\n",
    "# assert(_source_test_label_accuracy == source_test_label_accuracy)\n",
    "# assert(_target_test_label_accuracy == target_test_label_accuracy)\n",
    "# assert(_source_val_label_accuracy == source_val_label_accuracy)\n",
    "# assert(_target_val_label_accuracy == target_val_label_accuracy)\n",
    "\n",
    "###################################\n",
    "# Write out the results\n",
    "###################################\n",
    "\n",
    "experiment = {\n",
    "    \"experiment_name\": p.experiment_name,\n",
    "    \"parameters\": p,\n",
    "    \"results\": {\n",
    "        \"source_test_label_accuracy\": source_test_label_accuracy,\n",
    "        \"source_test_label_loss\": source_test_label_loss,\n",
    "        \"target_test_label_accuracy\": target_test_label_accuracy,\n",
    "        \"target_test_label_loss\": target_test_label_loss,\n",
    "        \"source_val_label_accuracy\": source_val_label_accuracy,\n",
    "        \"source_val_label_loss\": source_val_label_loss,\n",
    "        \"target_val_label_accuracy\": target_val_label_accuracy,\n",
    "        \"target_val_label_loss\": target_val_label_loss,\n",
    "        \"total_epochs_trained\": total_epochs_trained,\n",
    "        \"total_experiment_time_secs\": total_experiment_time_secs,\n",
    "        \"confusion\": confusion,\n",
    "        \"per_domain_accuracy\": per_domain_accuracy,\n",
    "    },\n",
    "    \"history\": history,\n",
    "    \"dataset_metrics\": get_dataset_metrics(datasets, \"cnn\"),\n",
    "}"
   ]
  },
  {
   "cell_type": "code",
   "execution_count": 16,
   "id": "74c318cf",
   "metadata": {
    "execution": {
     "iopub.execute_input": "2022-03-26T10:15:23.651803Z",
     "iopub.status.busy": "2022-03-26T10:15:23.646000Z",
     "iopub.status.idle": "2022-03-26T10:15:23.823704Z",
     "shell.execute_reply": "2022-03-26T10:15:23.822968Z"
    },
    "papermill": {
     "duration": 0.25241,
     "end_time": "2022-03-26T10:15:23.823876",
     "exception": false,
     "start_time": "2022-03-26T10:15:23.571466",
     "status": "completed"
    },
    "tags": []
   },
   "outputs": [
    {
     "data": {
      "text/plain": [
       "<AxesSubplot:title={'center':'Source Train Label Loss vs Source Val Label Loss'}, xlabel='Epoch'>"
      ]
     },
     "execution_count": 16,
     "metadata": {},
     "output_type": "execute_result"
    },
    {
     "data": {
      "image/png": "[encoded data removed]",
      "text/plain": [
       "<Figure size 1080x504 with 1 Axes>"
      ]
     },
     "metadata": {
      "needs_background": "light"
     },
     "output_type": "display_data"
    }
   ],
   "source": [
    "get_loss_curve(experiment)"
   ]
  },
  {
   "cell_type": "code",
   "execution_count": 17,
   "id": "59376601",
   "metadata": {
    "execution": {
     "iopub.execute_input": "2022-03-26T10:15:23.947839Z",
     "iopub.status.busy": "2022-03-26T10:15:23.947448Z",
     "iopub.status.idle": "2022-03-26T10:15:24.258370Z",
     "shell.execute_reply": "2022-03-26T10:15:24.258666Z"
    },
    "papermill": {
     "duration": 0.382523,
     "end_time": "2022-03-26T10:15:24.258779",
     "exception": false,
     "start_time": "2022-03-26T10:15:23.876256",
     "status": "completed"
    },
    "tags": []
   },
   "outputs": [
    {
     "data": {
      "text/plain": [
       "<AxesSubplot:title={'center':'Results'}>"
      ]
     },
     "execution_count": 17,
     "metadata": {},
     "output_type": "execute_result"
    },
    {
     "data": {
      "image/png": "[encoded data removed]",
      "text/plain": [
       "<Figure size 1080x504 with 1 Axes>"
      ]
     },
     "metadata": {
      "needs_background": "light"
     },
     "output_type": "display_data"
    }
   ],
   "source": [
    "get_results_table(experiment)"
   ]
  },
  {
   "cell_type": "code",
   "execution_count": 18,
   "id": "e80c5c98",
   "metadata": {
    "execution": {
     "iopub.execute_input": "2022-03-26T10:15:24.371414Z",
     "iopub.status.busy": "2022-03-26T10:15:24.370144Z",
     "iopub.status.idle": "2022-03-26T10:15:24.539848Z",
     "shell.execute_reply": "2022-03-26T10:15:24.539454Z"
    },
    "papermill": {
     "duration": 0.232419,
     "end_time": "2022-03-26T10:15:24.539938",
     "exception": false,
     "start_time": "2022-03-26T10:15:24.307519",
     "status": "completed"
    },
    "tags": []
   },
   "outputs": [
    {
     "data": {
      "text/plain": [
       "<AxesSubplot:title={'center':'Per Domain Accuracy'}, xlabel='domain'>"
      ]
     },
     "execution_count": 18,
     "metadata": {},
     "output_type": "execute_result"
    },
    {
     "data": {
      "image/png": "[encoded data removed]",
      "text/plain": [
       "<Figure size 1080x504 with 1 Axes>"
      ]
     },
     "metadata": {
      "needs_background": "light"
     },
     "output_type": "display_data"
    }
   ],
   "source": [
    "get_domain_accuracies(experiment)"
   ]
  },
  {
   "cell_type": "code",
   "execution_count": 19,
   "id": "086fdd10",
   "metadata": {
    "execution": {
     "iopub.execute_input": "2022-03-26T10:15:24.644582Z",
     "iopub.status.busy": "2022-03-26T10:15:24.643935Z",
     "iopub.status.idle": "2022-03-26T10:15:24.647616Z",
     "shell.execute_reply": "2022-03-26T10:15:24.647912Z"
    },
    "papermill": {
     "duration": 0.058524,
     "end_time": "2022-03-26T10:15:24.648004",
     "exception": false,
     "start_time": "2022-03-26T10:15:24.589480",
     "status": "completed"
    },
    "tags": []
   },
   "outputs": [
    {
     "name": "stdout",
     "output_type": "stream",
     "text": [
      "Source Test Label Accuracy: 0.49744791666666666 Target Test Label Accuracy: 0.49744791666666666\n",
      "Source Val Label Accuracy: 0.49127604166666666 Target Val Label Accuracy: 0.49127604166666666\n"
     ]
    }
   ],
   "source": [
    "print(\"Source Test Label Accuracy:\", experiment[\"results\"][\"source_test_label_accuracy\"], \"Target Test Label Accuracy:\", experiment[\"results\"][\"target_test_label_accuracy\"])\n",
    "print(\"Source Val Label Accuracy:\", experiment[\"results\"][\"source_val_label_accuracy\"], \"Target Val Label Accuracy:\", experiment[\"results\"][\"target_val_label_accuracy\"])"
   ]
  },
  {
   "cell_type": "code",
   "execution_count": 20,
   "id": "9f450536",
   "metadata": {
    "execution": {
     "iopub.execute_input": "2022-03-26T10:15:24.758231Z",
     "iopub.status.busy": "2022-03-26T10:15:24.757673Z",
     "iopub.status.idle": "2022-03-26T10:15:24.762098Z",
     "shell.execute_reply": "2022-03-26T10:15:24.761541Z"
    },
    "papermill": {
     "duration": 0.060588,
     "end_time": "2022-03-26T10:15:24.762213",
     "exception": false,
     "start_time": "2022-03-26T10:15:24.701625",
     "status": "completed"
    },
    "tags": [
     "experiment_json"
    ]
   },
   "outputs": [
    {
     "data": {
      "text/plain": [
       "'{\"experiment_name\": \"cnn_2:oracle.run2_limited\", \"parameters\": {\"experiment_name\": \"cnn_2:oracle.run2_limited\", \"labels\": [\"3123D52\", \"3123D65\", \"3123D79\", \"3123D80\", \"3123D54\", \"3123D70\", \"3123D7B\", \"3123D89\", \"3123D58\", \"3123D76\", \"3123D7D\", \"3123EFE\", \"3123D64\", \"3123D78\", \"3123D7E\", \"3124E4A\"], \"domains_source\": [8, 32, 50, 14, 20, 26, 38, 44], \"domains_target\": [8, 32, 50, 14, 20, 26, 38, 44], \"pickle_name_source\": \"oracle.Run2_10kExamples_stratified_ds.2022A.pkl\", \"pickle_name_target\": \"oracle.Run2_10kExamples_stratified_ds.2022A.pkl\", \"device\": \"cuda\", \"lr\": 0.0001, \"batch_size\": 128, \"normalize_source\": false, \"normalize_target\": false, \"num_examples_per_domain_per_label_source\": 2000, \"num_examples_per_domain_per_label_target\": 2000, \"torch_default_dtype\": \"torch.float32\", \"n_epoch\": 50, \"patience\": 3, \"criteria_for_best\": \"target_accuracy\", \"x_net\": [{\"class\": \"nnReshape\", \"kargs\": {\"shape\": [-1, 1, 2, 256]}}, {\"class\": \"Conv2d\", \"kargs\": {\"in_channels\": 1, \"out_channels\": 256, \"kernel_size\": [1, 7], \"bias\": false, \"padding\": [0, 3]}}, {\"class\": \"ReLU\", \"kargs\": {\"inplace\": true}}, {\"class\": \"BatchNorm2d\", \"kargs\": {\"num_features\": 256}}, {\"class\": \"Conv2d\", \"kargs\": {\"in_channels\": 256, \"out_channels\": 80, \"kernel_size\": [2, 7], \"bias\": true, \"padding\": [0, 3]}}, {\"class\": \"ReLU\", \"kargs\": {\"inplace\": true}}, {\"class\": \"BatchNorm2d\", \"kargs\": {\"num_features\": 80}}, {\"class\": \"Flatten\", \"kargs\": {}}, {\"class\": \"Linear\", \"kargs\": {\"in_features\": 20480, \"out_features\": 256}}, {\"class\": \"ReLU\", \"kargs\": {\"inplace\": true}}, {\"class\": \"BatchNorm1d\", \"kargs\": {\"num_features\": 256}}, {\"class\": \"Linear\", \"kargs\": {\"in_features\": 256, \"out_features\": 16}}], \"NUM_LOGS_PER_EPOCH\": 10, \"BEST_MODEL_PATH\": \"./best_model.pth\", \"dataset_seed\": 420, \"seed\": 420}, \"results\": {\"source_test_label_accuracy\": 0.49744791666666666, \"source_test_label_loss\": 1.4496190643310547, \"target_test_label_accuracy\": 0.49744791666666666, \"target_test_label_loss\": 1.449619061946869, \"source_val_label_accuracy\": 0.49127604166666666, \"source_val_label_loss\": 1.453762677113215, \"target_val_label_accuracy\": 0.49127604166666666, \"target_val_label_loss\": 1.4537626651922861, \"total_epochs_trained\": 10, \"total_experiment_time_secs\": 172.3010914325714, \"confusion\": {\"14\": {\"12\": {\"12\": 226, \"4\": 6, \"13\": 28, \"8\": 12, \"0\": 52, \"9\": 152, \"3\": 14, \"2\": 30, \"11\": 34, \"7\": 8, \"1\": 8, \"6\": 6, \"14\": 6, \"10\": 16, \"5\": 2}, \"1\": {\"1\": 594, \"7\": 4, \"13\": 2}, \"14\": {\"3\": 30, \"14\": 246, \"2\": 72, \"6\": 36, \"4\": 160, \"10\": 2, \"7\": 6, \"5\": 28, \"13\": 4, \"0\": 10, \"8\": 6}, \"15\": {\"15\": 586, \"13\": 14}, \"3\": {\"3\": 330, \"13\": 20, \"5\": 22, \"7\": 176, \"2\": 38, \"4\": 8, \"9\": 2, \"14\": 2, \"8\": 2}, \"11\": {\"13\": 76, \"6\": 28, \"11\": 354, \"7\": 92, \"4\": 42, \"10\": 6, \"12\": 2}, \"6\": {\"2\": 138, \"13\": 144, \"6\": 206, \"3\": 58, \"4\": 14, \"7\": 20, \"14\": 16, \"5\": 2, \"8\": 2}, \"2\": {\"2\": 192, \"4\": 130, \"5\": 78, \"6\": 52, \"7\": 56, \"3\": 30, \"14\": 38, \"11\": 4, \"1\": 2, \"13\": 10, \"8\": 6, \"9\": 2}, \"13\": {\"13\": 276, \"2\": 54, \"6\": 232, \"3\": 18, \"15\": 6, \"7\": 8, \"14\": 4, \"4\": 2}, \"10\": {\"0\": 138, \"3\": 252, \"13\": 2, \"2\": 14, \"10\": 66, \"11\": 2, \"4\": 104, \"14\": 10, \"8\": 8, \"15\": 2, \"9\": 2}, \"0\": {\"3\": 70, \"2\": 26, \"4\": 122, \"11\": 44, \"8\": 22, \"5\": 34, \"0\": 258, \"14\": 12, \"9\": 10, \"1\": 2}, \"5\": {\"2\": 70, \"5\": 230, \"7\": 120, \"4\": 116, \"8\": 22, \"3\": 26, \"11\": 10, \"0\": 2, \"14\": 4}, \"4\": {\"11\": 40, \"4\": 290, \"1\": 120, \"5\": 106, \"0\": 6, \"2\": 12, \"8\": 8, \"7\": 16, \"3\": 2}, \"7\": {\"7\": 592, \"2\": 2, \"5\": 4, \"13\": 2}, \"8\": {\"8\": 570, \"11\": 28, \"9\": 2}, \"9\": {\"11\": 156, \"9\": 380, \"0\": 14, \"13\": 4, \"1\": 14, \"8\": 26, \"12\": 4, \"2\": 2}}, \"38\": {\"8\": {\"5\": 514, \"15\": 24, \"8\": 12, \"4\": 12, \"2\": 2, \"14\": 34, \"7\": 2}, \"3\": {\"3\": 318, \"13\": 190, \"10\": 82, \"11\": 10}, \"13\": {\"3\": 180, \"10\": 76, \"13\": 340, \"7\": 4}, \"11\": {\"11\": 600}, \"10\": {\"10\": 408, \"7\": 60, \"13\": 120, \"4\": 8, \"3\": 4}, \"5\": {\"5\": 442, \"8\": 6, \"15\": 116, \"6\": 6, \"1\": 16, \"2\": 2, \"13\": 6, \"14\": 4, \"7\": 2}, \"1\": {\"1\": 418, \"6\": 6, \"0\": 124, \"15\": 28, \"2\": 12, \"9\": 6, \"14\": 4, \"5\": 2}, \"4\": {\"4\": 550, \"14\": 24, \"7\": 16, \"12\": 6, \"13\": 2, \"6\": 2}, \"14\": {\"14\": 340, \"2\": 22, \"13\": 32, \"5\": 86, \"7\": 112, \"3\": 6, \"12\": 2}, \"6\": {\"6\": 202, \"14\": 222, \"1\": 34, \"15\": 42, \"0\": 50, \"11\": 20, \"9\": 26, \"2\": 4}, \"12\": {\"12\": 552, \"13\": 32, \"5\": 2, \"2\": 4, \"14\": 6, \"15\": 4}, \"0\": {\"15\": 92, \"0\": 100, \"7\": 124, \"6\": 118, \"5\": 64, \"9\": 64, \"4\": 20, \"14\": 14, \"13\": 4}, \"9\": {\"15\": 196, \"9\": 340, \"14\": 4, \"5\": 32, \"8\": 10, \"12\": 16, \"0\": 2}, \"7\": {\"7\": 426, \"5\": 100, \"14\": 52, \"4\": 12, \"6\": 8, \"0\": 2}, \"15\": {\"1\": 264, \"15\": 294, \"13\": 6, \"6\": 12, \"10\": 14, \"12\": 4, \"0\": 6}, \"2\": {\"2\": 198, \"5\": 226, \"14\": 78, \"8\": 42, \"7\": 18, \"3\": 30, \"13\": 8}}, \"20\": {\"4\": {\"7\": 146, \"3\": 38, \"2\": 44, \"12\": 124, \"4\": 78, \"13\": 24, \"15\": 30, \"9\": 14, \"1\": 24, \"6\": 4, \"11\": 48, \"10\": 20, \"5\": 6}, \"14\": {\"14\": 298, \"4\": 66, \"6\": 60, \"8\": 62, \"1\": 4, \"10\": 34, \"3\": 8, \"11\": 8, \"5\": 10, \"12\": 18, \"15\": 4, \"7\": 10, \"2\": 12, \"0\": 6}, \"11\": {\"9\": 44, \"11\": 402, \"1\": 94, \"2\": 12, \"8\": 14, \"4\": 14, \"5\": 10, \"0\": 4, \"3\": 4, \"13\": 2}, \"9\": {\"13\": 100, \"9\": 114, \"2\": 98, \"15\": 40, \"4\": 30, \"1\": 68, \"11\": 50, \"3\": 44, \"12\": 32, \"5\": 6, \"7\": 16, \"10\": 2}, \"5\": {\"12\": 40, \"2\": 78, \"7\": 26, \"13\": 46, \"4\": 30, \"1\": 54, \"3\": 60, \"5\": 40, \"9\": 76, \"11\": 96, \"15\": 42, \"0\": 8, \"6\": 2, \"8\": 2}, \"0\": {\"0\": 238, \"3\": 38, \"9\": 172, \"2\": 52, \"4\": 10, \"1\": 30, \"15\": 10, \"11\": 22, \"8\": 4, \"5\": 10, \"12\": 12, \"10\": 2}, \"12\": {\"2\": 28, \"7\": 118, \"13\": 198, \"11\": 68, \"3\": 28, \"4\": 54, \"1\": 14, \"15\": 10, \"9\": 24, \"12\": 52, \"10\": 6}, \"13\": {\"15\": 22, \"9\": 40, \"13\": 396, \"7\": 14, \"11\": 78, \"3\": 10, \"12\": 22, \"1\": 4, \"4\": 6, \"2\": 8}, \"7\": {\"11\": 196, \"7\": 166, \"4\": 38, \"12\": 34, \"1\": 42, \"2\": 20, \"3\": 40, \"10\": 26, \"6\": 8, \"9\": 6, \"13\": 20, \"15\": 2, \"5\": 2}, \"15\": {\"13\": 206, \"9\": 112, \"15\": 70, \"2\": 50, \"11\": 70, \"12\": 20, \"1\": 22, \"4\": 14, \"3\": 22, \"7\": 12, \"5\": 2}, \"1\": {\"9\": 142, \"13\": 30, \"12\": 28, \"15\": 24, \"1\": 80, \"2\": 240, \"5\": 16, \"11\": 10, \"3\": 12, \"0\": 14, \"4\": 2, \"7\": 2}, \"2\": {\"7\": 12, \"3\": 32, \"2\": 96, \"4\": 22, \"9\": 112, \"13\": 74, \"12\": 32, \"15\": 42, \"5\": 24, \"11\": 86, \"1\": 68}, \"3\": {\"4\": 52, \"11\": 92, \"12\": 52, \"2\": 54, \"3\": 78, \"13\": 66, \"5\": 22, \"0\": 2, \"15\": 34, \"7\": 76, \"9\": 40, \"1\": 32}, \"8\": {\"0\": 120, \"4\": 118, \"5\": 34, \"2\": 28, \"8\": 72, \"11\": 20, \"14\": 98, \"3\": 40, \"9\": 4, \"1\": 18, \"7\": 12, \"15\": 14, \"10\": 10, \"12\": 10, \"6\": 2}, \"6\": {\"7\": 102, \"6\": 386, \"10\": 50, \"11\": 44, \"12\": 12, \"8\": 2, \"4\": 2, \"1\": 2}, \"10\": {\"11\": 96, \"10\": 82, \"4\": 30, \"7\": 202, \"6\": 118, \"12\": 48, \"8\": 2, \"3\": 14, \"1\": 2, \"13\": 6}}, \"50\": {\"10\": {\"10\": 364, \"1\": 156, \"13\": 54, \"8\": 18, \"0\": 8}, \"9\": {\"9\": 572, \"5\": 12, \"15\": 6, \"12\": 8, \"0\": 2}, \"3\": {\"3\": 590, \"8\": 4, \"2\": 6}, \"2\": {\"2\": 318, \"9\": 108, \"0\": 156, \"14\": 2, \"1\": 6, \"12\": 10}, \"6\": {\"5\": 514, \"2\": 14, \"15\": 16, \"8\": 24, \"14\": 24, \"4\": 2, \"6\": 6}, \"12\": {\"9\": 302, \"12\": 224, \"15\": 54, \"14\": 14, \"0\": 4, \"5\": 2}, \"8\": {\"8\": 470, \"13\": 24, \"3\": 14, \"1\": 88, \"10\": 2, \"0\": 2}, \"4\": {\"5\": 330, \"7\": 114, \"14\": 140, \"4\": 4, \"8\": 4, \"0\": 2, \"2\": 6}, \"1\": {\"15\": 226, \"1\": 328, \"13\": 30, \"5\": 12, \"2\": 2, \"6\": 2}, \"11\": {\"15\": 498, \"1\": 12, \"5\": 28, \"11\": 34, \"8\": 8, \"6\": 14, \"9\": 2, \"0\": 4}, \"0\": {\"1\": 92, \"0\": 372, \"10\": 74, \"12\": 10, \"2\": 38, \"9\": 12, \"13\": 2}, \"14\": {\"14\": 392, \"9\": 170, \"2\": 18, \"6\": 18, \"0\": 2}, \"5\": {\"5\": 380, \"14\": 118, \"2\": 36, \"7\": 42, \"8\": 20, \"4\": 4}, \"15\": {\"15\": 122, \"5\": 406, \"6\": 44, \"14\": 10, \"4\": 8, \"2\": 2, \"0\": 4, \"8\": 4}, \"13\": {\"13\": 466, \"1\": 94, \"10\": 14, \"8\": 18, \"12\": 2, \"15\": 2, \"5\": 4}, \"7\": {\"5\": 94, \"7\": 320, \"2\": 30, \"14\": 144, \"8\": 4, \"3\": 6, \"4\": 2}}, \"32\": {\"6\": {\"12\": 36, \"6\": 356, \"11\": 208}, \"11\": {\"2\": 4, \"11\": 290, \"13\": 84, \"4\": 138, \"14\": 18, \"0\": 16, \"3\": 28, \"7\": 10, \"12\": 8, \"15\": 2, \"6\": 2}, \"12\": {\"12\": 476, \"10\": 56, \"6\": 22, \"9\": 8, \"11\": 10, \"1\": 14, \"0\": 10, \"2\": 4}, \"2\": {\"2\": 330, \"0\": 76, \"6\": 4, \"14\": 110, \"11\": 52, \"1\": 8, \"8\": 4, \"5\": 4, \"4\": 2, \"12\": 8, \"9\": 2}, \"14\": {\"11\": 68, \"2\": 70, \"6\": 78, \"14\": 278, \"1\": 8, \"0\": 56, \"9\": 10, \"8\": 12, \"15\": 10, \"5\": 6, \"4\": 4}, \"9\": {\"14\": 212, \"9\": 268, \"2\": 40, \"6\": 36, \"0\": 26, \"1\": 4, \"13\": 2, \"15\": 8, \"11\": 4}, \"15\": {\"15\": 572, \"8\": 18, \"2\": 6, \"5\": 2, \"1\": 2}, \"1\": {\"1\": 572, \"8\": 26, \"10\": 2}, \"0\": {\"0\": 186, \"11\": 112, \"14\": 60, \"8\": 68, \"4\": 30, \"2\": 96, \"6\": 8, \"3\": 16, \"12\": 2, \"1\": 16, \"15\": 4, \"7\": 2}, \"4\": {\"0\": 56, \"2\": 6, \"11\": 130, \"12\": 28, \"4\": 194, \"13\": 44, \"3\": 90, \"8\": 46, \"6\": 2, \"14\": 4}, \"8\": {\"8\": 364, \"0\": 60, \"3\": 24, \"15\": 30, \"1\": 18, \"2\": 58, \"4\": 4, \"11\": 22, \"12\": 14, \"6\": 2, \"5\": 2, \"14\": 2}, \"7\": {\"12\": 68, \"7\": 206, \"2\": 176, \"3\": 50, \"1\": 26, \"11\": 26, \"14\": 10, \"0\": 26, \"5\": 2, \"8\": 8, \"9\": 2}, \"3\": {\"12\": 80, \"3\": 432, \"4\": 20, \"13\": 54, \"8\": 12, \"11\": 2}, \"5\": {\"9\": 210, \"5\": 244, \"12\": 4, \"1\": 22, \"2\": 68, \"15\": 20, \"11\": 6, \"7\": 2, \"6\": 4, \"8\": 10, \"14\": 10}, \"10\": {\"10\": 598, \"12\": 2}, \"13\": {\"13\": 298, \"4\": 102, \"3\": 114, \"11\": 76, \"8\": 4, \"12\": 6}}, \"8\": {\"8\": {\"11\": 362, \"7\": 6, \"6\": 154, \"8\": 62, \"0\": 10, \"14\": 4, \"4\": 2}, \"9\": {\"9\": 598, \"12\": 2}, \"11\": {\"11\": 472, \"6\": 70, \"8\": 32, \"0\": 16, \"7\": 4, \"10\": 4, \"14\": 2}, \"13\": {\"13\": 272, \"1\": 38, \"4\": 84, \"10\": 94, \"7\": 74, \"5\": 22, \"14\": 4, \"12\": 6, \"3\": 2, \"2\": 2, \"6\": 2}, \"1\": {\"7\": 28, \"1\": 148, \"13\": 34, \"6\": 102, \"4\": 78, \"14\": 144, \"5\": 12, \"10\": 32, \"11\": 12, \"0\": 6, \"8\": 4}, \"2\": {\"13\": 78, \"4\": 4, \"9\": 122, \"2\": 278, \"12\": 34, \"15\": 40, \"1\": 40, \"11\": 2, \"10\": 2}, \"7\": {\"11\": 108, \"7\": 134, \"4\": 234, \"6\": 72, \"1\": 2, \"10\": 14, \"13\": 30, \"0\": 2, \"12\": 2, \"14\": 2}, \"5\": {\"4\": 34, \"10\": 192, \"5\": 226, \"13\": 74, \"14\": 24, \"1\": 30, \"6\": 14, \"7\": 6}, \"0\": {\"0\": 600}, \"3\": {\"3\": 310, \"0\": 162, \"2\": 10, \"4\": 48, \"15\": 8, \"10\": 28, \"9\": 16, \"12\": 6, \"5\": 4, \"8\": 8}, \"6\": {\"4\": 64, \"14\": 50, \"6\": 280, \"11\": 78, \"0\": 118, \"7\": 6, \"8\": 4}, \"15\": {\"15\": 228, \"3\": 44, \"10\": 58, \"12\": 106, \"4\": 52, \"8\": 20, \"2\": 28, \"1\": 26, \"5\": 12, \"0\": 18, \"14\": 6, \"7\": 2}, \"4\": {\"11\": 76, \"4\": 242, \"7\": 92, \"6\": 140, \"14\": 28, \"0\": 2, \"13\": 18, \"10\": 2}, \"14\": {\"14\": 248, \"0\": 142, \"6\": 138, \"4\": 64, \"11\": 6, \"7\": 2}, \"12\": {\"15\": 14, \"12\": 176, \"7\": 130, \"4\": 106, \"2\": 10, \"14\": 8, \"11\": 22, \"3\": 42, \"10\": 64, \"8\": 12, \"6\": 6, \"1\": 2, \"13\": 2, \"5\": 4, \"9\": 2}, \"10\": {\"10\": 186, \"13\": 190, \"5\": 118, \"4\": 60, \"7\": 22, \"1\": 12, \"14\": 6, \"6\": 4, \"9\": 2}}, \"44\": {\"5\": {\"5\": 496, \"6\": 16, \"8\": 48, \"15\": 16, \"0\": 2, \"14\": 10, \"2\": 10, \"4\": 2}, \"4\": {\"4\": 106, \"15\": 212, \"14\": 58, \"5\": 128, \"7\": 10, \"9\": 50, \"8\": 4, \"6\": 26, \"0\": 6}, \"14\": {\"5\": 304, \"14\": 118, \"8\": 46, \"15\": 70, \"4\": 52, \"0\": 4, \"9\": 2, \"6\": 2, \"7\": 2}, \"11\": {\"11\": 594, \"3\": 6}, \"1\": {\"2\": 160, \"1\": 252, \"7\": 32, \"8\": 52, \"12\": 74, \"5\": 16, \"3\": 14}, \"7\": {\"9\": 422, \"7\": 58, \"6\": 96, \"15\": 12, \"0\": 12}, \"10\": {\"10\": 554, \"7\": 42, \"9\": 4}, \"13\": {\"7\": 164, \"13\": 224, \"6\": 118, \"10\": 72, \"15\": 2, \"0\": 10, \"4\": 6, \"11\": 2, \"14\": 2}, \"0\": {\"8\": 364, \"0\": 216, \"5\": 2, \"12\": 2, \"1\": 10, \"15\": 4, \"6\": 2}, \"8\": {\"8\": 456, \"15\": 8, \"0\": 122, \"2\": 2, \"5\": 12}, \"12\": {\"3\": 384, \"12\": 162, \"7\": 6, \"4\": 18, \"8\": 18, \"1\": 4, \"2\": 2, \"11\": 2, \"13\": 4}, \"3\": {\"3\": 236, \"4\": 72, \"12\": 98, \"11\": 54, \"1\": 6, \"7\": 30, \"2\": 48, \"8\": 30, \"0\": 22, \"14\": 4}, \"6\": {\"7\": 10, \"6\": 548, \"0\": 18, \"13\": 10, \"4\": 2, \"9\": 4, \"15\": 2, \"10\": 6}, \"15\": {\"8\": 86, \"15\": 374, \"0\": 36, \"9\": 6, \"5\": 72, \"6\": 12, \"1\": 10, \"14\": 4}, \"9\": {\"15\": 54, \"9\": 406, \"7\": 36, \"6\": 78, \"0\": 12, \"2\": 4, \"5\": 8, \"10\": 2}, \"2\": {\"8\": 64, \"15\": 204, \"2\": 306, \"11\": 4, \"5\": 16, \"1\": 4, \"9\": 2}}, \"26\": {\"12\": {\"12\": 574, \"11\": 12, \"10\": 6, \"9\": 6, \"6\": 2}, \"7\": {\"13\": 96, \"15\": 8, \"3\": 240, \"9\": 52, \"8\": 46, \"7\": 104, \"4\": 8, \"6\": 2, \"2\": 32, \"10\": 2, \"5\": 4, \"0\": 4, \"14\": 2}, \"3\": {\"3\": 376, \"13\": 62, \"2\": 36, \"4\": 6, \"7\": 88, \"9\": 4, \"8\": 16, \"14\": 2, \"15\": 4, \"0\": 2, \"6\": 2, \"10\": 2}, \"5\": {\"5\": 350, \"6\": 118, \"2\": 6, \"12\": 8, \"9\": 46, \"11\": 14, \"15\": 34, \"13\": 4, \"1\": 8, \"14\": 8, \"0\": 2, \"8\": 2}, \"8\": {\"6\": 24, \"7\": 64, \"2\": 58, \"15\": 44, \"3\": 36, \"9\": 80, \"8\": 146, \"5\": 18, \"13\": 68, \"10\": 30, \"0\": 28, \"14\": 4}, \"11\": {\"11\": 456, \"12\": 66, \"6\": 76, \"9\": 2}, \"15\": {\"15\": 274, \"7\": 70, \"3\": 22, \"8\": 38, \"2\": 52, \"6\": 36, \"0\": 10, \"5\": 26, \"9\": 42, \"13\": 26, \"10\": 4}, \"13\": {\"13\": 304, \"9\": 154, \"7\": 28, \"3\": 36, \"8\": 60, \"2\": 12, \"5\": 4, \"11\": 2}, \"2\": {\"3\": 82, \"8\": 90, \"15\": 60, \"7\": 116, \"9\": 56, \"13\": 94, \"2\": 54, \"10\": 10, \"0\": 6, \"5\": 24, \"6\": 4, \"4\": 4}, \"0\": {\"8\": 84, \"6\": 52, \"0\": 124, \"13\": 4, \"15\": 86, \"14\": 90, \"5\": 12, \"10\": 74, \"1\": 38, \"9\": 12, \"2\": 14, \"7\": 6, \"4\": 4}, \"9\": {\"3\": 42, \"7\": 54, \"9\": 194, \"13\": 164, \"8\": 60, \"2\": 32, \"5\": 20, \"6\": 10, \"10\": 4, \"15\": 12, \"0\": 4, \"14\": 2, \"11\": 2}, \"6\": {\"5\": 144, \"6\": 252, \"2\": 6, \"12\": 18, \"10\": 26, \"9\": 80, \"0\": 16, \"1\": 20, \"15\": 16, \"11\": 10, \"14\": 10, \"8\": 2}, \"14\": {\"15\": 30, \"10\": 82, \"0\": 130, \"14\": 146, \"1\": 90, \"6\": 50, \"8\": 34, \"2\": 8, \"5\": 20, \"9\": 8, \"4\": 2}, \"10\": {\"15\": 74, \"8\": 80, \"0\": 100, \"6\": 62, \"12\": 14, \"2\": 16, \"10\": 112, \"1\": 52, \"14\": 36, \"5\": 20, \"9\": 22, \"13\": 6, \"11\": 2, \"7\": 4}, \"1\": {\"14\": 56, \"10\": 90, \"1\": 332, \"12\": 16, \"5\": 16, \"0\": 50, \"9\": 4, \"15\": 18, \"6\": 18}, \"4\": {\"3\": 326, \"4\": 156, \"10\": 24, \"2\": 32, \"13\": 8, \"0\": 18, \"14\": 26, \"9\": 2, \"8\": 2, \"6\": 4, \"7\": 2}}}, \"per_domain_accuracy\": {\"14\": {\"accuracy\": 0.5620833333333334, \"source?\": true}, \"38\": {\"accuracy\": 0.5770833333333333, \"source?\": true}, \"20\": {\"accuracy\": 0.2758333333333333, \"source?\": true}, \"50\": {\"accuracy\": 0.516875, \"source?\": true}, \"32\": {\"accuracy\": 0.59, \"source?\": true}, \"8\": {\"accuracy\": 0.46458333333333335, \"source?\": true}, \"44\": {\"accuracy\": 0.531875, \"source?\": true}, \"26\": {\"accuracy\": 0.411875, \"source?\": true}}}, \"history\": {\"epoch_indices\": [1, 2, 3, 4, 5, 6, 7, 8, 9, 10], \"train_label_loss\": [2.5992809120246343, 2.2326763434920993, 1.8108206689357758, 1.4832265554155621, 1.215080793116774, 0.9604320785403252, 0.7613144860097341, 0.5815014043450355, 0.44961642399430274, 0.3491304210147687], \"source_val_label_loss\": [2.4877978992462157, 2.0041245647271473, 1.7017820902665457, 1.51810249765714, 1.4621104804674785, 1.4537626485029855, 1.5147006074587503, 1.5857233166694642, 1.6271111504236857, 1.7510513285795848], \"target_val_label_loss\": [2.4877978865305583, 2.0041245663166047, 1.701782109340032, 1.518102496067683, 1.4621104756991068, 1.4537626564502717, 1.514700612227122, 1.5857233206431072, 1.6271111599604289, 1.7510513476530711], \"source_val_acc_label\": [0.17815104166666668, 0.335, 0.43625, 0.47486979166666665, 0.4834375, 0.49127604166666666, 0.48455729166666667, 0.4708333333333333, 0.48369791666666667, 0.4659375], \"target_val_acc_label\": [0.17815104166666668, 0.335, 0.43625, 0.47486979166666665, 0.4834375, 0.49127604166666666, 0.48455729166666667, 0.4708333333333333, 0.48369791666666667, 0.4659375]}, \"dataset_metrics\": {\"source\": {\"train\": {\"n_unique_x\": 179200, \"n_unique_y\": 16, \"n_batch/episode\": 1400}, \"val\": {\"n_unique_x\": 38400, \"n_unique_y\": 16, \"n_batch/episode\": 300}, \"test\": {\"n_unique_x\": 38400, \"n_unique_y\": 16, \"n_batch/episode\": 300}}, \"target\": {\"train\": {\"n_unique_x\": 179200, \"n_unique_y\": 16, \"n_batch/episode\": 1400}, \"val\": {\"n_unique_x\": 38400, \"n_unique_y\": 16, \"n_batch/episode\": 300}, \"test\": {\"n_unique_x\": 38400, \"n_unique_y\": 16, \"n_batch/episode\": 300}}}}'"
      ]
     },
     "execution_count": 20,
     "metadata": {},
     "output_type": "execute_result"
    }
   ],
   "source": [
    "json.dumps(experiment)"
   ]
  }
 ],
 "metadata": {
  "celltoolbar": "Tags",
  "kernelspec": {
   "display_name": "Python 3 (ipykernel)",
   "language": "python",
   "name": "python3"
  },
  "language_info": {
   "codemirror_mode": {
    "name": "ipython",
    "version": 3
   },
   "file_extension": ".py",
   "mimetype": "text/x-python",
   "name": "python",
   "nbconvert_exporter": "python",
   "pygments_lexer": "ipython3",
   "version": "3.8.12"
  },
  "papermill": {
   "default_parameters": {},
   "duration": 201.108649,
   "end_time": "2022-03-26T10:15:28.489963",
   "environment_variables": {},
   "exception": null,
   "input_path": "/root/csc500-main/csc500-notebooks/templates/cnn_template.ipynb",
   "output_path": "trial.ipynb",
   "parameters": {
    "parameters": {
     "BEST_MODEL_PATH": "./best_model.pth",
     "NUM_LOGS_PER_EPOCH": 10,
     "batch_size": 128,
     "criteria_for_best": "target_accuracy",
     "dataset_seed": 420,
     "device": "cuda",
     "domains_source": [
      8,
      32,
      50,
      14,
      20,
      26,
      38,
      44
     ],
     "domains_target": [
      8,
      32,
      50,
      14,
      20,
      26,
      38,
      44
     ],
     "experiment_name": "cnn_2:oracle.run2_limited",
     "labels": [
      "3123D52",
      "3123D65",
      "3123D79",
      "3123D80",
      "3123D54",
      "3123D70",
      "3123D7B",
      "3123D89",
      "3123D58",
      "3123D76",
      "3123D7D",
      "3123EFE",
      "3123D64",
      "3123D78",
      "3123D7E",
      "3124E4A"
     ],
     "lr": 0.0001,
     "n_epoch": 50,
     "normalize_source": false,
     "normalize_target": false,
     "num_examples_per_domain_per_label_source": 2000,
     "num_examples_per_domain_per_label_target": 2000,
     "patience": 3,
     "pickle_name_source": "oracle.Run2_10kExamples_stratified_ds.2022A.pkl",
     "pickle_name_target": "oracle.Run2_10kExamples_stratified_ds.2022A.pkl",
     "seed": 420,
     "torch_default_dtype": "torch.float32",
     "x_net": [
      {
       "class": "nnReshape",
       "kargs": {
        "shape": [
         -1,
         1,
         2,
         256
        ]
       }
      },
      {
       "class": "Conv2d",
       "kargs": {
        "bias": false,
        "in_channels": 1,
        "kernel_size": [
         1,
         7
        ],
        "out_channels": 256,
        "padding": [
         0,
         3
        ]
       }
      },
      {
       "class": "ReLU",
       "kargs": {
        "inplace": true
       }
      },
      {
       "class": "BatchNorm2d",
       "kargs": {
        "num_features": 256
       }
      },
      {
       "class": "Conv2d",
       "kargs": {
        "bias": true,
        "in_channels": 256,
        "kernel_size": [
         2,
         7
        ],
        "out_channels": 80,
        "padding": [
         0,
         3
        ]
       }
      },
      {
       "class": "ReLU",
       "kargs": {
        "inplace": true
       }
      },
      {
       "class": "BatchNorm2d",
       "kargs": {
        "num_features": 80
       }
      },
      {
       "class": "Flatten",
       "kargs": {}
      },
      {
       "class": "Linear",
       "kargs": {
        "in_features": 20480,
        "out_features": 256
       }
      },
      {
       "class": "ReLU",
       "kargs": {
        "inplace": true
       }
      },
      {
       "class": "BatchNorm1d",
       "kargs": {
        "num_features": 256
       }
      },
      {
       "class": "Linear",
       "kargs": {
        "in_features": 256,
        "out_features": 16
       }
      }
     ]
    }
   },
   "start_time": "2022-03-26T10:12:07.381314",
   "version": "2.3.4"
  }
 },
 "nbformat": 4,
 "nbformat_minor": 5
}