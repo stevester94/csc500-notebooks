{
 "cells": [
  {
   "cell_type": "code",
   "execution_count": 1,
   "id": "2324682e",
   "metadata": {
    "execution": {
     "iopub.execute_input": "2022-03-26T10:45:20.368506Z",
     "iopub.status.busy": "2022-03-26T10:45:20.367635Z",
     "iopub.status.idle": "2022-03-26T10:45:21.684288Z",
     "shell.execute_reply": "2022-03-26T10:45:21.683467Z"
    },
    "papermill": {
     "duration": 1.353504,
     "end_time": "2022-03-26T10:45:21.684479",
     "exception": false,
     "start_time": "2022-03-26T10:45:20.330975",
     "status": "completed"
    },
    "tags": []
   },
   "outputs": [],
   "source": [
    "import os, json, sys, time, random\n",
    "import numpy as np\n",
    "import torch\n",
    "from  easydict import EasyDict\n",
    "from math import floor\n",
    "from easydict import EasyDict\n",
    "\n",
    "from steves_utils.vanilla_train_eval_test_jig import  Vanilla_Train_Eval_Test_Jig\n",
    "\n",
    "from steves_utils.torch_utils import get_dataset_metrics, independent_accuracy_assesment\n",
    "from steves_models.configurable_vanilla import Configurable_Vanilla\n",
    "from steves_utils.torch_sequential_builder import build_sequential\n",
    "from steves_utils.lazy_map import Lazy_Map\n",
    "from steves_utils.sequence_aggregator import Sequence_Aggregator\n",
    "\n",
    "from steves_utils.stratified_dataset.traditional_accessor import Traditional_Accessor_Factory\n",
    "\n",
    "from steves_utils.cnn_do_report import (\n",
    "    get_loss_curve,\n",
    "    get_results_table,\n",
    "    get_parameters_table,\n",
    "    get_domain_accuracies,\n",
    ")\n",
    "\n",
    "from steves_utils.torch_utils import (\n",
    "    confusion_by_domain_over_dataloader,\n",
    "    independent_accuracy_assesment\n",
    ")\n",
    "\n",
    "from steves_utils.utils_v2 import (\n",
    "    per_domain_accuracy_from_confusion,\n",
    "    get_datasets_base_path\n",
    ")\n",
    "\n",
    "# from steves_utils.ptn_do_report import TBD"
   ]
  },
  {
   "cell_type": "code",
   "execution_count": 2,
   "id": "1b29e3fe",
   "metadata": {
    "execution": {
     "iopub.execute_input": "2022-03-26T10:45:21.722100Z",
     "iopub.status.busy": "2022-03-26T10:45:21.721718Z",
     "iopub.status.idle": "2022-03-26T10:45:21.723840Z",
     "shell.execute_reply": "2022-03-26T10:45:21.724149Z"
    },
    "papermill": {
     "duration": 0.02137,
     "end_time": "2022-03-26T10:45:21.724240",
     "exception": false,
     "start_time": "2022-03-26T10:45:21.702870",
     "status": "completed"
    },
    "tags": []
   },
   "outputs": [],
   "source": [
    "required_parameters = {\n",
    "    \"experiment_name\",\n",
    "    \"lr\",\n",
    "    \"device\",\n",
    "    \"dataset_seed\",\n",
    "    \"seed\",\n",
    "    \"labels\",\n",
    "    \"domains_target\",\n",
    "    \"domains_source\",\n",
    "    \"num_examples_per_domain_per_label_source\",\n",
    "    \"num_examples_per_domain_per_label_target\",\n",
    "    \"batch_size\",\n",
    "    \"n_epoch\",\n",
    "    \"patience\",\n",
    "    \"criteria_for_best\",\n",
    "    \"normalize_source\",\n",
    "    \"normalize_target\",\n",
    "    \"x_net\",\n",
    "    \"NUM_LOGS_PER_EPOCH\",\n",
    "    \"BEST_MODEL_PATH\",\n",
    "    \"pickle_name_source\",\n",
    "    \"pickle_name_target\",\n",
    "    \"torch_default_dtype\",\n",
    "}"
   ]
  },
  {
   "cell_type": "code",
   "execution_count": 3,
   "id": "670b5fb8",
   "metadata": {
    "execution": {
     "iopub.execute_input": "2022-03-26T10:45:21.769170Z",
     "iopub.status.busy": "2022-03-26T10:45:21.768343Z",
     "iopub.status.idle": "2022-03-26T10:45:21.775862Z",
     "shell.execute_reply": "2022-03-26T10:45:21.775123Z"
    },
    "papermill": {
     "duration": 0.032837,
     "end_time": "2022-03-26T10:45:21.776019",
     "exception": false,
     "start_time": "2022-03-26T10:45:21.743182",
     "status": "completed"
    },
    "tags": [
     "parameters"
    ]
   },
   "outputs": [],
   "source": [
    "from steves_utils.ORACLE.utils_v2 import (\n",
    "    ALL_SERIAL_NUMBERS,\n",
    "    ALL_DISTANCES_FEET_NARROWED,\n",
    ")\n",
    "\n",
    "standalone_parameters = {}\n",
    "standalone_parameters[\"experiment_name\"] = \"MANUAL CORES CNN\"\n",
    "standalone_parameters[\"lr\"] = 0.0001\n",
    "standalone_parameters[\"device\"] = \"cuda\"\n",
    "\n",
    "standalone_parameters[\"dataset_seed\"] = 1337\n",
    "standalone_parameters[\"seed\"] = 1337\n",
    "standalone_parameters[\"labels\"] = ALL_SERIAL_NUMBERS\n",
    "\n",
    "standalone_parameters[\"domains_source\"] = [8,32,50]\n",
    "standalone_parameters[\"domains_target\"] = [14,20,26,38,44,]\n",
    "\n",
    "standalone_parameters[\"num_examples_per_domain_per_label_source\"]=-1\n",
    "standalone_parameters[\"num_examples_per_domain_per_label_target\"]=-1\n",
    "\n",
    "standalone_parameters[\"pickle_name_source\"] = \"oracle.Run1_framed_2000Examples_stratified_ds.2022A.pkl\"\n",
    "standalone_parameters[\"pickle_name_target\"] = \"oracle.Run2_framed_2000Examples_stratified_ds.2022A.pkl\"\n",
    "\n",
    "standalone_parameters[\"torch_default_dtype\"] = \"torch.float32\" \n",
    "\n",
    "standalone_parameters[\"batch_size\"]=128\n",
    "\n",
    "standalone_parameters[\"n_epoch\"] = 3\n",
    "\n",
    "standalone_parameters[\"patience\"] = 10\n",
    "\n",
    "standalone_parameters[\"criteria_for_best\"] = \"target_accuracy\"\n",
    "standalone_parameters[\"normalize_source\"] = False\n",
    "standalone_parameters[\"normalize_target\"] = False\n",
    "\n",
    "standalone_parameters[\"x_net\"] =     [\n",
    "    {\"class\": \"nnReshape\", \"kargs\": {\"shape\":[-1, 1, 2, 256]}},\n",
    "    {\"class\": \"Conv2d\", \"kargs\": { \"in_channels\":1, \"out_channels\":256, \"kernel_size\":(1,7), \"bias\":False, \"padding\":(0,3), },},\n",
    "    {\"class\": \"ReLU\", \"kargs\": {\"inplace\": True}},\n",
    "    {\"class\": \"BatchNorm2d\", \"kargs\": {\"num_features\":256}},\n",
    "\n",
    "    {\"class\": \"Conv2d\", \"kargs\": { \"in_channels\":256, \"out_channels\":80, \"kernel_size\":(2,7), \"bias\":True, \"padding\":(0,3), },},\n",
    "    {\"class\": \"ReLU\", \"kargs\": {\"inplace\": True}},\n",
    "    {\"class\": \"BatchNorm2d\", \"kargs\": {\"num_features\":80}},\n",
    "    {\"class\": \"Flatten\", \"kargs\": {}},\n",
    "\n",
    "    {\"class\": \"Linear\", \"kargs\": {\"in_features\": 80*256, \"out_features\": 256}}, # 80 units per IQ pair\n",
    "    {\"class\": \"ReLU\", \"kargs\": {\"inplace\": True}},\n",
    "    {\"class\": \"BatchNorm1d\", \"kargs\": {\"num_features\":256}},\n",
    "\n",
    "    {\"class\": \"Linear\", \"kargs\": {\"in_features\": 256, \"out_features\": len(standalone_parameters[\"labels\"])}},\n",
    "]\n",
    "\n",
    "standalone_parameters[\"NUM_LOGS_PER_EPOCH\"] = 10\n",
    "standalone_parameters[\"BEST_MODEL_PATH\"] = \"./best_model.pth\""
   ]
  },
  {
   "cell_type": "code",
   "execution_count": 4,
   "id": "35a97e0b",
   "metadata": {
    "execution": {
     "iopub.execute_input": "2022-03-26T10:45:21.822534Z",
     "iopub.status.busy": "2022-03-26T10:45:21.815315Z",
     "iopub.status.idle": "2022-03-26T10:45:21.825225Z",
     "shell.execute_reply": "2022-03-26T10:45:21.824489Z"
    },
    "papermill": {
     "duration": 0.031445,
     "end_time": "2022-03-26T10:45:21.825376",
     "exception": false,
     "start_time": "2022-03-26T10:45:21.793931",
     "status": "completed"
    },
    "tags": [
     "injected-parameters"
    ]
   },
   "outputs": [],
   "source": [
    "# Parameters\n",
    "parameters = {\n",
    "    \"experiment_name\": \"cnn_2:oracle.run2_limited\",\n",
    "    \"labels\": [\n",
    "        \"3123D52\",\n",
    "        \"3123D65\",\n",
    "        \"3123D79\",\n",
    "        \"3123D80\",\n",
    "        \"3123D54\",\n",
    "        \"3123D70\",\n",
    "        \"3123D7B\",\n",
    "        \"3123D89\",\n",
    "        \"3123D58\",\n",
    "        \"3123D76\",\n",
    "        \"3123D7D\",\n",
    "        \"3123EFE\",\n",
    "        \"3123D64\",\n",
    "        \"3123D78\",\n",
    "        \"3123D7E\",\n",
    "        \"3124E4A\",\n",
    "    ],\n",
    "    \"domains_source\": [8, 32, 50, 14, 20, 26, 38, 44],\n",
    "    \"domains_target\": [8, 32, 50, 14, 20, 26, 38, 44],\n",
    "    \"pickle_name_source\": \"oracle.Run2_10kExamples_stratified_ds.2022A.pkl\",\n",
    "    \"pickle_name_target\": \"oracle.Run2_10kExamples_stratified_ds.2022A.pkl\",\n",
    "    \"device\": \"cuda\",\n",
    "    \"lr\": 0.0001,\n",
    "    \"batch_size\": 128,\n",
    "    \"normalize_source\": False,\n",
    "    \"normalize_target\": False,\n",
    "    \"num_examples_per_domain_per_label_source\": 2000,\n",
    "    \"num_examples_per_domain_per_label_target\": 2000,\n",
    "    \"torch_default_dtype\": \"torch.float32\",\n",
    "    \"n_epoch\": 50,\n",
    "    \"patience\": 3,\n",
    "    \"criteria_for_best\": \"target_accuracy\",\n",
    "    \"x_net\": [\n",
    "        {\"class\": \"nnReshape\", \"kargs\": {\"shape\": [-1, 1, 2, 256]}},\n",
    "        {\n",
    "            \"class\": \"Conv2d\",\n",
    "            \"kargs\": {\n",
    "                \"in_channels\": 1,\n",
    "                \"out_channels\": 256,\n",
    "                \"kernel_size\": [1, 7],\n",
    "                \"bias\": False,\n",
    "                \"padding\": [0, 3],\n",
    "            },\n",
    "        },\n",
    "        {\"class\": \"ReLU\", \"kargs\": {\"inplace\": True}},\n",
    "        {\"class\": \"BatchNorm2d\", \"kargs\": {\"num_features\": 256}},\n",
    "        {\n",
    "            \"class\": \"Conv2d\",\n",
    "            \"kargs\": {\n",
    "                \"in_channels\": 256,\n",
    "                \"out_channels\": 80,\n",
    "                \"kernel_size\": [2, 7],\n",
    "                \"bias\": True,\n",
    "                \"padding\": [0, 3],\n",
    "            },\n",
    "        },\n",
    "        {\"class\": \"ReLU\", \"kargs\": {\"inplace\": True}},\n",
    "        {\"class\": \"BatchNorm2d\", \"kargs\": {\"num_features\": 80}},\n",
    "        {\"class\": \"Flatten\", \"kargs\": {}},\n",
    "        {\"class\": \"Linear\", \"kargs\": {\"in_features\": 20480, \"out_features\": 256}},\n",
    "        {\"class\": \"ReLU\", \"kargs\": {\"inplace\": True}},\n",
    "        {\"class\": \"BatchNorm1d\", \"kargs\": {\"num_features\": 256}},\n",
    "        {\"class\": \"Linear\", \"kargs\": {\"in_features\": 256, \"out_features\": 16}},\n",
    "    ],\n",
    "    \"NUM_LOGS_PER_EPOCH\": 10,\n",
    "    \"BEST_MODEL_PATH\": \"./best_model.pth\",\n",
    "    \"dataset_seed\": 7,\n",
    "    \"seed\": 7,\n",
    "}\n"
   ]
  },
  {
   "cell_type": "code",
   "execution_count": 5,
   "id": "759b56ec",
   "metadata": {
    "execution": {
     "iopub.execute_input": "2022-03-26T10:45:21.865563Z",
     "iopub.status.busy": "2022-03-26T10:45:21.865001Z",
     "iopub.status.idle": "2022-03-26T10:45:21.867155Z",
     "shell.execute_reply": "2022-03-26T10:45:21.867644Z"
    },
    "papermill": {
     "duration": 0.024642,
     "end_time": "2022-03-26T10:45:21.867768",
     "exception": false,
     "start_time": "2022-03-26T10:45:21.843126",
     "status": "completed"
    },
    "tags": []
   },
   "outputs": [],
   "source": [
    "# Set this to True if you want to run this template directly\n",
    "STANDALONE = False\n",
    "if STANDALONE:\n",
    "    print(\"parameters not injected, running with standalone_parameters\")\n",
    "    parameters = standalone_parameters\n",
    "\n",
    "if not 'parameters' in locals() and not 'parameters' in globals():\n",
    "    raise Exception(\"Parameter injection failed\")\n",
    "\n",
    "#Use an easy dict for all the parameters\n",
    "p = EasyDict(parameters)\n",
    "\n",
    "supplied_keys = set(p.keys())\n",
    "\n",
    "if  supplied_keys != required_parameters:\n",
    "    print(\"Parameters are incorrect\")\n",
    "    if len(supplied_keys - required_parameters)>0: print(\"Shouldn't have:\", str(supplied_keys - required_parameters))\n",
    "    if len(required_parameters - supplied_keys)>0: print(\"Need to have:\", str(required_parameters - supplied_keys))\n",
    "    raise RuntimeError(\"Parameters are incorrect\")\n",
    "\n"
   ]
  },
  {
   "cell_type": "code",
   "execution_count": 6,
   "id": "d5c66a71",
   "metadata": {
    "execution": {
     "iopub.execute_input": "2022-03-26T10:45:21.906365Z",
     "iopub.status.busy": "2022-03-26T10:45:21.906000Z",
     "iopub.status.idle": "2022-03-26T10:45:21.908641Z",
     "shell.execute_reply": "2022-03-26T10:45:21.909095Z"
    },
    "papermill": {
     "duration": 0.020887,
     "end_time": "2022-03-26T10:45:21.909218",
     "exception": false,
     "start_time": "2022-03-26T10:45:21.888331",
     "status": "completed"
    },
    "tags": []
   },
   "outputs": [],
   "source": [
    "###################################\n",
    "# Set the RNGs and make it all deterministic\n",
    "###################################\n",
    "np.random.seed(p.seed)\n",
    "random.seed(p.seed)\n",
    "torch.manual_seed(p.seed)\n",
    "\n",
    "torch.use_deterministic_algorithms(True) "
   ]
  },
  {
   "cell_type": "code",
   "execution_count": 7,
   "id": "92a65876",
   "metadata": {
    "execution": {
     "iopub.execute_input": "2022-03-26T10:45:21.945037Z",
     "iopub.status.busy": "2022-03-26T10:45:21.944675Z",
     "iopub.status.idle": "2022-03-26T10:45:21.947144Z",
     "shell.execute_reply": "2022-03-26T10:45:21.947446Z"
    },
    "papermill": {
     "duration": 0.020539,
     "end_time": "2022-03-26T10:45:21.947526",
     "exception": false,
     "start_time": "2022-03-26T10:45:21.926987",
     "status": "completed"
    },
    "tags": []
   },
   "outputs": [],
   "source": [
    "torch.set_default_dtype(eval(p.torch_default_dtype))"
   ]
  },
  {
   "cell_type": "code",
   "execution_count": 8,
   "id": "f1a32f01",
   "metadata": {
    "execution": {
     "iopub.execute_input": "2022-03-26T10:45:21.982237Z",
     "iopub.status.busy": "2022-03-26T10:45:21.981263Z",
     "iopub.status.idle": "2022-03-26T10:45:22.019359Z",
     "shell.execute_reply": "2022-03-26T10:45:22.018659Z"
    },
    "papermill": {
     "duration": 0.055165,
     "end_time": "2022-03-26T10:45:22.019515",
     "exception": false,
     "start_time": "2022-03-26T10:45:21.964350",
     "status": "completed"
    },
    "tags": []
   },
   "outputs": [],
   "source": [
    "###################################\n",
    "# Build the network(s)\n",
    "# Note: It's critical to do this AFTER setting the RNG\n",
    "###################################\n",
    "x_net = build_sequential(p.x_net)"
   ]
  },
  {
   "cell_type": "code",
   "execution_count": 9,
   "id": "a276cd83",
   "metadata": {
    "execution": {
     "iopub.execute_input": "2022-03-26T10:45:22.055907Z",
     "iopub.status.busy": "2022-03-26T10:45:22.055545Z",
     "iopub.status.idle": "2022-03-26T10:45:22.057462Z",
     "shell.execute_reply": "2022-03-26T10:45:22.057876Z"
    },
    "papermill": {
     "duration": 0.019543,
     "end_time": "2022-03-26T10:45:22.058001",
     "exception": false,
     "start_time": "2022-03-26T10:45:22.038458",
     "status": "completed"
    },
    "tags": []
   },
   "outputs": [],
   "source": [
    "start_time_secs = time.time()"
   ]
  },
  {
   "cell_type": "code",
   "execution_count": 10,
   "id": "de702e48",
   "metadata": {
    "execution": {
     "iopub.execute_input": "2022-03-26T10:45:22.103592Z",
     "iopub.status.busy": "2022-03-26T10:45:22.092444Z",
     "iopub.status.idle": "2022-03-26T10:45:34.698970Z",
     "shell.execute_reply": "2022-03-26T10:45:34.698247Z"
    },
    "papermill": {
     "duration": 12.623106,
     "end_time": "2022-03-26T10:45:34.699155",
     "exception": false,
     "start_time": "2022-03-26T10:45:22.076049",
     "status": "completed"
    },
    "tags": []
   },
   "outputs": [],
   "source": [
    "def wrap_in_dataloader(p, ds):\n",
    "    return torch.utils.data.DataLoader(\n",
    "        ds,\n",
    "        batch_size=p.batch_size,\n",
    "        shuffle=True,\n",
    "        num_workers=1,\n",
    "        persistent_workers=True,\n",
    "        prefetch_factor=50,\n",
    "        pin_memory=True\n",
    "    )\n",
    "\n",
    "taf_source = Traditional_Accessor_Factory(\n",
    "    labels=p.labels,\n",
    "    domains=p.domains_source,\n",
    "    num_examples_per_domain_per_label=p.num_examples_per_domain_per_label_source,\n",
    "    pickle_path=os.path.join(get_datasets_base_path(), p.pickle_name_source),\n",
    "    seed=p.dataset_seed\n",
    ")\n",
    "train_original_source, val_original_source, test_original_source = \\\n",
    "    taf_source.get_train(), taf_source.get_val(), taf_source.get_test()\n",
    "\n",
    "\n",
    "taf_target = Traditional_Accessor_Factory(\n",
    "    labels=p.labels,\n",
    "    domains=p.domains_target,\n",
    "    num_examples_per_domain_per_label=p.num_examples_per_domain_per_label_source,\n",
    "    pickle_path=os.path.join(get_datasets_base_path(), p.pickle_name_target),\n",
    "    seed=p.dataset_seed\n",
    ")\n",
    "train_original_target, val_original_target, test_original_target = \\\n",
    "    taf_target.get_train(), taf_target.get_val(), taf_target.get_test()\n",
    "\n",
    "\n",
    "# For CNN We only use X and Y. And we only train on the source.\n",
    "# Properly form the data using a transform lambda and Lazy_Map. Finally wrap them in a dataloader\n",
    "\n",
    "transform_lambda = lambda ex: ex[:2] # Strip the tuple to just (x,y)\n",
    "\n",
    "\n",
    "train_processed_source = wrap_in_dataloader(\n",
    "    p,\n",
    "    Lazy_Map(train_original_source, transform_lambda)\n",
    ")\n",
    "val_processed_source = wrap_in_dataloader(\n",
    "    p,\n",
    "    Lazy_Map(val_original_source, transform_lambda)\n",
    ")\n",
    "test_processed_source = wrap_in_dataloader(\n",
    "    p,\n",
    "    Lazy_Map(test_original_source, transform_lambda)\n",
    ")\n",
    "\n",
    "train_processed_target = wrap_in_dataloader(\n",
    "    p,\n",
    "    Lazy_Map(train_original_target, transform_lambda)\n",
    ")\n",
    "val_processed_target = wrap_in_dataloader(\n",
    "    p,\n",
    "    Lazy_Map(val_original_target, transform_lambda)\n",
    ")\n",
    "test_processed_target  = wrap_in_dataloader(\n",
    "    p,\n",
    "    Lazy_Map(test_original_target, transform_lambda)\n",
    ")\n",
    "\n",
    "\n",
    "\n",
    "datasets = EasyDict({\n",
    "    \"source\": {\n",
    "        \"original\": {\"train\":train_original_source, \"val\":val_original_source, \"test\":test_original_source},\n",
    "        \"processed\": {\"train\":train_processed_source, \"val\":val_processed_source, \"test\":test_processed_source}\n",
    "    },\n",
    "    \"target\": {\n",
    "        \"original\": {\"train\":train_original_target, \"val\":val_original_target, \"test\":test_original_target},\n",
    "        \"processed\": {\"train\":train_processed_target, \"val\":val_processed_target, \"test\":test_processed_target}\n",
    "    },\n",
    "})"
   ]
  },
  {
   "cell_type": "code",
   "execution_count": 11,
   "id": "a11b26bd",
   "metadata": {
    "execution": {
     "iopub.execute_input": "2022-03-26T10:45:34.777086Z",
     "iopub.status.busy": "2022-03-26T10:45:34.776260Z",
     "iopub.status.idle": "2022-03-26T10:45:40.531222Z",
     "shell.execute_reply": "2022-03-26T10:45:40.531561Z"
    },
    "papermill": {
     "duration": 5.812878,
     "end_time": "2022-03-26T10:45:40.531683",
     "exception": false,
     "start_time": "2022-03-26T10:45:34.718805",
     "status": "completed"
    },
    "tags": []
   },
   "outputs": [
    {
     "data": {
      "text/plain": [
       "torch.float32"
      ]
     },
     "execution_count": 11,
     "metadata": {},
     "output_type": "execute_result"
    }
   ],
   "source": [
    "ep = next(iter(test_processed_target))\n",
    "ep[0].dtype"
   ]
  },
  {
   "cell_type": "code",
   "execution_count": 12,
   "id": "19425fad",
   "metadata": {
    "execution": {
     "iopub.execute_input": "2022-03-26T10:45:40.571734Z",
     "iopub.status.busy": "2022-03-26T10:45:40.571337Z",
     "iopub.status.idle": "2022-03-26T10:45:40.620068Z",
     "shell.execute_reply": "2022-03-26T10:45:40.619363Z"
    },
    "papermill": {
     "duration": 0.070474,
     "end_time": "2022-03-26T10:45:40.620234",
     "exception": false,
     "start_time": "2022-03-26T10:45:40.549760",
     "status": "completed"
    },
    "tags": []
   },
   "outputs": [],
   "source": [
    "model = Configurable_Vanilla(\n",
    "    x_net=x_net,\n",
    "    label_loss_object=torch.nn.NLLLoss(),\n",
    "    learning_rate=p.lr\n",
    ")"
   ]
  },
  {
   "cell_type": "code",
   "execution_count": 13,
   "id": "7f6d4f2c",
   "metadata": {
    "execution": {
     "iopub.execute_input": "2022-03-26T10:45:40.659863Z",
     "iopub.status.busy": "2022-03-26T10:45:40.659475Z",
     "iopub.status.idle": "2022-03-26T10:48:42.004709Z",
     "shell.execute_reply": "2022-03-26T10:48:42.005435Z"
    },
    "papermill": {
     "duration": 181.366407,
     "end_time": "2022-03-26T10:48:42.005657",
     "exception": false,
     "start_time": "2022-03-26T10:45:40.639250",
     "status": "completed"
    },
    "tags": []
   },
   "outputs": [
    {
     "name": "stdout",
     "output_type": "stream",
     "text": [
      "epoch: 1, [batch: 1 / 1400], examples_per_second: 718.3608, train_label_loss: 2.7778, \n"
     ]
    },
    {
     "name": "stdout",
     "output_type": "stream",
     "text": [
      "epoch: 1, [batch: 140 / 1400], examples_per_second: 10414.5449, train_label_loss: 2.7384, \n"
     ]
    },
    {
     "name": "stdout",
     "output_type": "stream",
     "text": [
      "epoch: 1, [batch: 280 / 1400], examples_per_second: 10714.3609, train_label_loss: 2.6705, \n"
     ]
    },
    {
     "name": "stdout",
     "output_type": "stream",
     "text": [
      "epoch: 1, [batch: 420 / 1400], examples_per_second: 10703.0904, train_label_loss: 2.6365, \n"
     ]
    },
    {
     "name": "stdout",
     "output_type": "stream",
     "text": [
      "epoch: 1, [batch: 560 / 1400], examples_per_second: 10701.4141, train_label_loss: 2.5804, \n"
     ]
    },
    {
     "name": "stdout",
     "output_type": "stream",
     "text": [
      "epoch: 1, [batch: 700 / 1400], examples_per_second: 10737.1375, train_label_loss: 2.5542, \n"
     ]
    },
    {
     "name": "stdout",
     "output_type": "stream",
     "text": [
      "epoch: 1, [batch: 840 / 1400], examples_per_second: 10663.0042, train_label_loss: 2.6227, \n"
     ]
    },
    {
     "name": "stdout",
     "output_type": "stream",
     "text": [
      "epoch: 1, [batch: 980 / 1400], examples_per_second: 10656.2299, train_label_loss: 2.6511, \n"
     ]
    },
    {
     "name": "stdout",
     "output_type": "stream",
     "text": [
      "epoch: 1, [batch: 1120 / 1400], examples_per_second: 10624.7218, train_label_loss: 2.5138, \n"
     ]
    },
    {
     "name": "stdout",
     "output_type": "stream",
     "text": [
      "epoch: 1, [batch: 1260 / 1400], examples_per_second: 10538.0223, train_label_loss: 2.5084, \n"
     ]
    },
    {
     "name": "stdout",
     "output_type": "stream",
     "text": [
      "=============================================================\n",
      "epoch: 1, source_val_acc_label: 0.1957, source_val_label_loss: 2.4470, target_val_acc_label: 0.1957, target_val_label_loss: 2.4470, \n",
      "=============================================================\n"
     ]
    },
    {
     "name": "stdout",
     "output_type": "stream",
     "text": [
      "New best\n",
      "epoch: 2, [batch: 1 / 1400], examples_per_second: 49.3976, train_label_loss: 2.3700, \n"
     ]
    },
    {
     "name": "stdout",
     "output_type": "stream",
     "text": [
      "epoch: 2, [batch: 140 / 1400], examples_per_second: 10632.8446, train_label_loss: 2.3764, \n"
     ]
    },
    {
     "name": "stdout",
     "output_type": "stream",
     "text": [
      "epoch: 2, [batch: 280 / 1400], examples_per_second: 10679.1285, train_label_loss: 2.3556, \n"
     ]
    },
    {
     "name": "stdout",
     "output_type": "stream",
     "text": [
      "epoch: 2, [batch: 420 / 1400], examples_per_second: 10675.8385, train_label_loss: 2.3159, \n"
     ]
    },
    {
     "name": "stdout",
     "output_type": "stream",
     "text": [
      "epoch: 2, [batch: 560 / 1400], examples_per_second: 10687.9210, train_label_loss: 2.2654, \n"
     ]
    },
    {
     "name": "stdout",
     "output_type": "stream",
     "text": [
      "epoch: 2, [batch: 700 / 1400], examples_per_second: 10686.9241, train_label_loss: 2.2033, \n"
     ]
    },
    {
     "name": "stdout",
     "output_type": "stream",
     "text": [
      "epoch: 2, [batch: 840 / 1400], examples_per_second: 10667.9410, train_label_loss: 2.2852, \n"
     ]
    },
    {
     "name": "stdout",
     "output_type": "stream",
     "text": [
      "epoch: 2, [batch: 980 / 1400], examples_per_second: 10663.0329, train_label_loss: 2.1754, \n"
     ]
    },
    {
     "name": "stdout",
     "output_type": "stream",
     "text": [
      "epoch: 2, [batch: 1120 / 1400], examples_per_second: 10657.3677, train_label_loss: 2.0708, \n"
     ]
    },
    {
     "name": "stdout",
     "output_type": "stream",
     "text": [
      "epoch: 2, [batch: 1260 / 1400], examples_per_second: 10658.5042, train_label_loss: 2.1952, \n"
     ]
    },
    {
     "name": "stdout",
     "output_type": "stream",
     "text": [
      "=============================================================\n",
      "epoch: 2, source_val_acc_label: 0.3189, source_val_label_loss: 2.0318, target_val_acc_label: 0.3189, target_val_label_loss: 2.0318, \n",
      "=============================================================\n"
     ]
    },
    {
     "name": "stdout",
     "output_type": "stream",
     "text": [
      "New best\n",
      "epoch: 3, [batch: 1 / 1400], examples_per_second: 61.9515, train_label_loss: 2.0500, \n"
     ]
    },
    {
     "name": "stdout",
     "output_type": "stream",
     "text": [
      "epoch: 3, [batch: 140 / 1400], examples_per_second: 11635.0897, train_label_loss: 1.9189, \n"
     ]
    },
    {
     "name": "stdout",
     "output_type": "stream",
     "text": [
      "epoch: 3, [batch: 280 / 1400], examples_per_second: 11692.0563, train_label_loss: 2.0897, \n"
     ]
    },
    {
     "name": "stdout",
     "output_type": "stream",
     "text": [
      "epoch: 3, [batch: 420 / 1400], examples_per_second: 11697.9703, train_label_loss: 1.8088, \n"
     ]
    },
    {
     "name": "stdout",
     "output_type": "stream",
     "text": [
      "epoch: 3, [batch: 560 / 1400], examples_per_second: 11698.4820, train_label_loss: 1.7586, \n"
     ]
    },
    {
     "name": "stdout",
     "output_type": "stream",
     "text": [
      "epoch: 3, [batch: 700 / 1400], examples_per_second: 11634.0332, train_label_loss: 1.8309, \n"
     ]
    },
    {
     "name": "stdout",
     "output_type": "stream",
     "text": [
      "epoch: 3, [batch: 840 / 1400], examples_per_second: 11720.7434, train_label_loss: 1.8073, \n"
     ]
    },
    {
     "name": "stdout",
     "output_type": "stream",
     "text": [
      "epoch: 3, [batch: 980 / 1400], examples_per_second: 11645.7267, train_label_loss: 1.7717, \n"
     ]
    },
    {
     "name": "stdout",
     "output_type": "stream",
     "text": [
      "epoch: 3, [batch: 1120 / 1400], examples_per_second: 11664.0703, train_label_loss: 1.6839, \n"
     ]
    },
    {
     "name": "stdout",
     "output_type": "stream",
     "text": [
      "epoch: 3, [batch: 1260 / 1400], examples_per_second: 11617.3279, train_label_loss: 1.4951, \n"
     ]
    },
    {
     "name": "stdout",
     "output_type": "stream",
     "text": [
      "=============================================================\n",
      "epoch: 3, source_val_acc_label: 0.4486, source_val_label_loss: 1.6389, target_val_acc_label: 0.4486, target_val_label_loss: 1.6389, \n",
      "=============================================================\n"
     ]
    },
    {
     "name": "stdout",
     "output_type": "stream",
     "text": [
      "New best\n",
      "epoch: 4, [batch: 1 / 1400], examples_per_second: 63.2433, train_label_loss: 1.4483, \n"
     ]
    },
    {
     "name": "stdout",
     "output_type": "stream",
     "text": [
      "epoch: 4, [batch: 140 / 1400], examples_per_second: 11656.8611, train_label_loss: 1.5334, \n"
     ]
    },
    {
     "name": "stdout",
     "output_type": "stream",
     "text": [
      "epoch: 4, [batch: 280 / 1400], examples_per_second: 11652.8874, train_label_loss: 1.5287, \n"
     ]
    },
    {
     "name": "stdout",
     "output_type": "stream",
     "text": [
      "epoch: 4, [batch: 420 / 1400], examples_per_second: 11681.2499, train_label_loss: 1.4915, \n"
     ]
    },
    {
     "name": "stdout",
     "output_type": "stream",
     "text": [
      "epoch: 4, [batch: 560 / 1400], examples_per_second: 11604.5106, train_label_loss: 1.3714, \n"
     ]
    },
    {
     "name": "stdout",
     "output_type": "stream",
     "text": [
      "epoch: 4, [batch: 700 / 1400], examples_per_second: 11732.0808, train_label_loss: 1.6389, \n"
     ]
    },
    {
     "name": "stdout",
     "output_type": "stream",
     "text": [
      "epoch: 4, [batch: 840 / 1400], examples_per_second: 11585.1875, train_label_loss: 1.4591, \n"
     ]
    },
    {
     "name": "stdout",
     "output_type": "stream",
     "text": [
      "epoch: 4, [batch: 980 / 1400], examples_per_second: 11656.6844, train_label_loss: 1.2836, \n"
     ]
    },
    {
     "name": "stdout",
     "output_type": "stream",
     "text": [
      "epoch: 4, [batch: 1120 / 1400], examples_per_second: 11650.4706, train_label_loss: 1.5415, \n"
     ]
    },
    {
     "name": "stdout",
     "output_type": "stream",
     "text": [
      "epoch: 4, [batch: 1260 / 1400], examples_per_second: 11716.8279, train_label_loss: 1.5190, \n"
     ]
    },
    {
     "name": "stdout",
     "output_type": "stream",
     "text": [
      "=============================================================\n",
      "epoch: 4, source_val_acc_label: 0.4741, source_val_label_loss: 1.5135, target_val_acc_label: 0.4741, target_val_label_loss: 1.5135, \n",
      "=============================================================\n"
     ]
    },
    {
     "name": "stdout",
     "output_type": "stream",
     "text": [
      "New best\n",
      "epoch: 5, [batch: 1 / 1400], examples_per_second: 63.9561, train_label_loss: 1.2880, \n"
     ]
    },
    {
     "name": "stdout",
     "output_type": "stream",
     "text": [
      "epoch: 5, [batch: 140 / 1400], examples_per_second: 11729.4956, train_label_loss: 1.2690, \n"
     ]
    },
    {
     "name": "stdout",
     "output_type": "stream",
     "text": [
      "epoch: 5, [batch: 280 / 1400], examples_per_second: 11762.3343, train_label_loss: 1.2600, \n"
     ]
    },
    {
     "name": "stdout",
     "output_type": "stream",
     "text": [
      "epoch: 5, [batch: 420 / 1400], examples_per_second: 12047.3875, train_label_loss: 1.1703, \n"
     ]
    },
    {
     "name": "stdout",
     "output_type": "stream",
     "text": [
      "epoch: 5, [batch: 560 / 1400], examples_per_second: 11845.2840, train_label_loss: 1.0167, \n"
     ]
    },
    {
     "name": "stdout",
     "output_type": "stream",
     "text": [
      "epoch: 5, [batch: 700 / 1400], examples_per_second: 11799.7979, train_label_loss: 1.3162, \n"
     ]
    },
    {
     "name": "stdout",
     "output_type": "stream",
     "text": [
      "epoch: 5, [batch: 840 / 1400], examples_per_second: 11780.4546, train_label_loss: 1.0270, \n"
     ]
    },
    {
     "name": "stdout",
     "output_type": "stream",
     "text": [
      "epoch: 5, [batch: 980 / 1400], examples_per_second: 11763.0651, train_label_loss: 1.0531, \n"
     ]
    },
    {
     "name": "stdout",
     "output_type": "stream",
     "text": [
      "epoch: 5, [batch: 1120 / 1400], examples_per_second: 11727.1513, train_label_loss: 1.2243, \n"
     ]
    },
    {
     "name": "stdout",
     "output_type": "stream",
     "text": [
      "epoch: 5, [batch: 1260 / 1400], examples_per_second: 11728.7964, train_label_loss: 1.0572, \n"
     ]
    },
    {
     "name": "stdout",
     "output_type": "stream",
     "text": [
      "=============================================================\n",
      "epoch: 5, source_val_acc_label: 0.4835, source_val_label_loss: 1.4685, target_val_acc_label: 0.4835, target_val_label_loss: 1.4685, \n",
      "=============================================================\n"
     ]
    },
    {
     "name": "stdout",
     "output_type": "stream",
     "text": [
      "New best\n",
      "epoch: 6, [batch: 1 / 1400], examples_per_second: 64.2415, train_label_loss: 0.9024, \n"
     ]
    },
    {
     "name": "stdout",
     "output_type": "stream",
     "text": [
      "epoch: 6, [batch: 140 / 1400], examples_per_second: 11672.1455, train_label_loss: 0.9568, \n"
     ]
    },
    {
     "name": "stdout",
     "output_type": "stream",
     "text": [
      "epoch: 6, [batch: 280 / 1400], examples_per_second: 11714.6109, train_label_loss: 0.9524, \n"
     ]
    },
    {
     "name": "stdout",
     "output_type": "stream",
     "text": [
      "epoch: 6, [batch: 420 / 1400], examples_per_second: 11835.5343, train_label_loss: 1.0103, \n"
     ]
    },
    {
     "name": "stdout",
     "output_type": "stream",
     "text": [
      "epoch: 6, [batch: 560 / 1400], examples_per_second: 11764.4478, train_label_loss: 0.9063, \n"
     ]
    },
    {
     "name": "stdout",
     "output_type": "stream",
     "text": [
      "epoch: 6, [batch: 700 / 1400], examples_per_second: 11745.4496, train_label_loss: 0.9948, \n"
     ]
    },
    {
     "name": "stdout",
     "output_type": "stream",
     "text": [
      "epoch: 6, [batch: 840 / 1400], examples_per_second: 11815.1656, train_label_loss: 0.8873, \n"
     ]
    },
    {
     "name": "stdout",
     "output_type": "stream",
     "text": [
      "epoch: 6, [batch: 980 / 1400], examples_per_second: 11842.1150, train_label_loss: 0.7614, \n"
     ]
    },
    {
     "name": "stdout",
     "output_type": "stream",
     "text": [
      "epoch: 6, [batch: 1120 / 1400], examples_per_second: 11800.5778, train_label_loss: 1.1689, \n"
     ]
    },
    {
     "name": "stdout",
     "output_type": "stream",
     "text": [
      "epoch: 6, [batch: 1260 / 1400], examples_per_second: 12088.0429, train_label_loss: 0.7928, \n"
     ]
    },
    {
     "name": "stdout",
     "output_type": "stream",
     "text": [
      "=============================================================\n",
      "epoch: 6, source_val_acc_label: 0.5087, source_val_label_loss: 1.4055, target_val_acc_label: 0.5087, target_val_label_loss: 1.4055, \n",
      "=============================================================\n"
     ]
    },
    {
     "name": "stdout",
     "output_type": "stream",
     "text": [
      "New best\n",
      "epoch: 7, [batch: 1 / 1400], examples_per_second: 65.0292, train_label_loss: 0.6068, \n"
     ]
    },
    {
     "name": "stdout",
     "output_type": "stream",
     "text": [
      "epoch: 7, [batch: 140 / 1400], examples_per_second: 11790.2633, train_label_loss: 0.7764, \n"
     ]
    },
    {
     "name": "stdout",
     "output_type": "stream",
     "text": [
      "epoch: 7, [batch: 280 / 1400], examples_per_second: 11744.0824, train_label_loss: 0.7028, \n"
     ]
    },
    {
     "name": "stdout",
     "output_type": "stream",
     "text": [
      "epoch: 7, [batch: 420 / 1400], examples_per_second: 11796.2218, train_label_loss: 0.7376, \n"
     ]
    },
    {
     "name": "stdout",
     "output_type": "stream",
     "text": [
      "epoch: 7, [batch: 560 / 1400], examples_per_second: 11761.3109, train_label_loss: 0.6498, \n"
     ]
    },
    {
     "name": "stdout",
     "output_type": "stream",
     "text": [
      "epoch: 7, [batch: 700 / 1400], examples_per_second: 11764.3834, train_label_loss: 0.7712, \n"
     ]
    },
    {
     "name": "stdout",
     "output_type": "stream",
     "text": [
      "epoch: 7, [batch: 840 / 1400], examples_per_second: 11758.0249, train_label_loss: 0.6273, \n"
     ]
    },
    {
     "name": "stdout",
     "output_type": "stream",
     "text": [
      "epoch: 7, [batch: 980 / 1400], examples_per_second: 11768.6735, train_label_loss: 0.8724, \n"
     ]
    },
    {
     "name": "stdout",
     "output_type": "stream",
     "text": [
      "epoch: 7, [batch: 1120 / 1400], examples_per_second: 11790.9793, train_label_loss: 0.8246, \n"
     ]
    },
    {
     "name": "stdout",
     "output_type": "stream",
     "text": [
      "epoch: 7, [batch: 1260 / 1400], examples_per_second: 11773.7947, train_label_loss: 0.7419, \n"
     ]
    },
    {
     "name": "stdout",
     "output_type": "stream",
     "text": [
      "=============================================================\n",
      "epoch: 7, source_val_acc_label: 0.4800, source_val_label_loss: 1.4895, target_val_acc_label: 0.4800, target_val_label_loss: 1.4895, \n",
      "=============================================================\n"
     ]
    },
    {
     "name": "stdout",
     "output_type": "stream",
     "text": [
      "epoch: 8, [batch: 1 / 1400], examples_per_second: 65.0006, train_label_loss: 0.5232, \n"
     ]
    },
    {
     "name": "stdout",
     "output_type": "stream",
     "text": [
      "epoch: 8, [batch: 140 / 1400], examples_per_second: 11682.7896, train_label_loss: 0.5347, \n"
     ]
    },
    {
     "name": "stdout",
     "output_type": "stream",
     "text": [
      "epoch: 8, [batch: 280 / 1400], examples_per_second: 11772.1886, train_label_loss: 0.4365, \n"
     ]
    },
    {
     "name": "stdout",
     "output_type": "stream",
     "text": [
      "epoch: 8, [batch: 420 / 1400], examples_per_second: 11772.3748, train_label_loss: 0.4942, \n"
     ]
    },
    {
     "name": "stdout",
     "output_type": "stream",
     "text": [
      "epoch: 8, [batch: 560 / 1400], examples_per_second: 11744.9321, train_label_loss: 0.5607, \n"
     ]
    },
    {
     "name": "stdout",
     "output_type": "stream",
     "text": [
      "epoch: 8, [batch: 700 / 1400], examples_per_second: 11797.9272, train_label_loss: 0.7725, \n"
     ]
    },
    {
     "name": "stdout",
     "output_type": "stream",
     "text": [
      "epoch: 8, [batch: 840 / 1400], examples_per_second: 11732.4727, train_label_loss: 0.6824, \n"
     ]
    },
    {
     "name": "stdout",
     "output_type": "stream",
     "text": [
      "epoch: 8, [batch: 980 / 1400], examples_per_second: 11653.6498, train_label_loss: 0.4885, \n"
     ]
    },
    {
     "name": "stdout",
     "output_type": "stream",
     "text": [
      "epoch: 8, [batch: 1120 / 1400], examples_per_second: 11770.1792, train_label_loss: 0.6878, \n"
     ]
    },
    {
     "name": "stdout",
     "output_type": "stream",
     "text": [
      "epoch: 8, [batch: 1260 / 1400], examples_per_second: 11720.6630, train_label_loss: 0.5663, \n"
     ]
    },
    {
     "name": "stdout",
     "output_type": "stream",
     "text": [
      "=============================================================\n",
      "epoch: 8, source_val_acc_label: 0.4899, source_val_label_loss: 1.5561, target_val_acc_label: 0.4899, target_val_label_loss: 1.5561, \n",
      "=============================================================\n"
     ]
    },
    {
     "name": "stdout",
     "output_type": "stream",
     "text": [
      "epoch: 9, [batch: 1 / 1400], examples_per_second: 65.4724, train_label_loss: 0.4580, \n"
     ]
    },
    {
     "name": "stdout",
     "output_type": "stream",
     "text": [
      "epoch: 9, [batch: 140 / 1400], examples_per_second: 11710.7519, train_label_loss: 0.5500, \n"
     ]
    },
    {
     "name": "stdout",
     "output_type": "stream",
     "text": [
      "epoch: 9, [batch: 280 / 1400], examples_per_second: 11739.2895, train_label_loss: 0.4082, \n"
     ]
    },
    {
     "name": "stdout",
     "output_type": "stream",
     "text": [
      "epoch: 9, [batch: 420 / 1400], examples_per_second: 11722.6829, train_label_loss: 0.3655, \n"
     ]
    },
    {
     "name": "stdout",
     "output_type": "stream",
     "text": [
      "epoch: 9, [batch: 560 / 1400], examples_per_second: 11824.7403, train_label_loss: 0.3726, \n"
     ]
    },
    {
     "name": "stdout",
     "output_type": "stream",
     "text": [
      "epoch: 9, [batch: 700 / 1400], examples_per_second: 11742.7173, train_label_loss: 0.4584, \n"
     ]
    },
    {
     "name": "stdout",
     "output_type": "stream",
     "text": [
      "epoch: 9, [batch: 840 / 1400], examples_per_second: 11728.1229, train_label_loss: 0.4423, \n"
     ]
    },
    {
     "name": "stdout",
     "output_type": "stream",
     "text": [
      "epoch: 9, [batch: 980 / 1400], examples_per_second: 11693.9026, train_label_loss: 0.4049, \n"
     ]
    },
    {
     "name": "stdout",
     "output_type": "stream",
     "text": [
      "epoch: 9, [batch: 1120 / 1400], examples_per_second: 11797.3698, train_label_loss: 0.4471, \n"
     ]
    },
    {
     "name": "stdout",
     "output_type": "stream",
     "text": [
      "epoch: 9, [batch: 1260 / 1400], examples_per_second: 11719.2467, train_label_loss: 0.5305, \n"
     ]
    },
    {
     "name": "stdout",
     "output_type": "stream",
     "text": [
      "=============================================================\n",
      "epoch: 9, source_val_acc_label: 0.4763, source_val_label_loss: 1.7463, target_val_acc_label: 0.4763, target_val_label_loss: 1.7463, \n",
      "=============================================================\n"
     ]
    },
    {
     "name": "stdout",
     "output_type": "stream",
     "text": [
      "epoch: 10, [batch: 1 / 1400], examples_per_second: 65.6614, train_label_loss: 0.3273, \n"
     ]
    },
    {
     "name": "stdout",
     "output_type": "stream",
     "text": [
      "epoch: 10, [batch: 140 / 1400], examples_per_second: 11763.7838, train_label_loss: 0.2715, \n"
     ]
    },
    {
     "name": "stdout",
     "output_type": "stream",
     "text": [
      "epoch: 10, [batch: 280 / 1400], examples_per_second: 11768.1281, train_label_loss: 0.3097, \n"
     ]
    },
    {
     "name": "stdout",
     "output_type": "stream",
     "text": [
      "epoch: 10, [batch: 420 / 1400], examples_per_second: 11691.5761, train_label_loss: 0.2945, \n"
     ]
    },
    {
     "name": "stdout",
     "output_type": "stream",
     "text": [
      "epoch: 10, [batch: 560 / 1400], examples_per_second: 11716.6416, train_label_loss: 0.3269, \n"
     ]
    },
    {
     "name": "stdout",
     "output_type": "stream",
     "text": [
      "epoch: 10, [batch: 700 / 1400], examples_per_second: 11757.4216, train_label_loss: 0.2636, \n"
     ]
    },
    {
     "name": "stdout",
     "output_type": "stream",
     "text": [
      "epoch: 10, [batch: 840 / 1400], examples_per_second: 11790.3578, train_label_loss: 0.5527, \n"
     ]
    },
    {
     "name": "stdout",
     "output_type": "stream",
     "text": [
      "epoch: 10, [batch: 980 / 1400], examples_per_second: 11765.6209, train_label_loss: 0.3681, \n"
     ]
    },
    {
     "name": "stdout",
     "output_type": "stream",
     "text": [
      "epoch: 10, [batch: 1120 / 1400], examples_per_second: 11737.6249, train_label_loss: 0.3477, \n"
     ]
    },
    {
     "name": "stdout",
     "output_type": "stream",
     "text": [
      "epoch: 10, [batch: 1260 / 1400], examples_per_second: 11775.2501, train_label_loss: 0.3795, \n"
     ]
    },
    {
     "name": "stdout",
     "output_type": "stream",
     "text": [
      "=============================================================\n",
      "epoch: 10, source_val_acc_label: 0.4685, source_val_label_loss: 1.7964, target_val_acc_label: 0.4685, target_val_label_loss: 1.7964, \n",
      "=============================================================\n"
     ]
    },
    {
     "name": "stdout",
     "output_type": "stream",
     "text": [
      "Patience (3) exhausted\n"
     ]
    }
   ],
   "source": [
    "jig = Vanilla_Train_Eval_Test_Jig(\n",
    "    model=model,\n",
    "    path_to_best_model=p.BEST_MODEL_PATH,\n",
    "    device=p.device,\n",
    "    label_loss_object=torch.nn.NLLLoss(),\n",
    ")\n",
    "\n",
    "jig.train(\n",
    "    train_iterable=datasets.source.processed.train,\n",
    "    source_val_iterable=datasets.source.processed.val,\n",
    "    target_val_iterable=datasets.target.processed.val,\n",
    "    patience=p.patience,\n",
    "    num_epochs=p.n_epoch,\n",
    "    num_logs_per_epoch=p.NUM_LOGS_PER_EPOCH,\n",
    "    criteria_for_best=p.criteria_for_best\n",
    ")"
   ]
  },
  {
   "cell_type": "code",
   "execution_count": 14,
   "id": "4bc2ac17",
   "metadata": {
    "execution": {
     "iopub.execute_input": "2022-03-26T10:48:42.108421Z",
     "iopub.status.busy": "2022-03-26T10:48:42.107834Z",
     "iopub.status.idle": "2022-03-26T10:48:42.109711Z",
     "shell.execute_reply": "2022-03-26T10:48:42.110174Z"
    },
    "papermill": {
     "duration": 0.054682,
     "end_time": "2022-03-26T10:48:42.110322",
     "exception": false,
     "start_time": "2022-03-26T10:48:42.055640",
     "status": "completed"
    },
    "tags": []
   },
   "outputs": [],
   "source": [
    "total_experiment_time_secs = time.time() - start_time_secs"
   ]
  },
  {
   "cell_type": "code",
   "execution_count": 15,
   "id": "cae88f23",
   "metadata": {
    "execution": {
     "iopub.execute_input": "2022-03-26T10:48:42.242764Z",
     "iopub.status.busy": "2022-03-26T10:48:42.241869Z",
     "iopub.status.idle": "2022-03-26T10:49:03.619260Z",
     "shell.execute_reply": "2022-03-26T10:49:03.618888Z"
    },
    "papermill": {
     "duration": 21.458937,
     "end_time": "2022-03-26T10:49:03.619352",
     "exception": false,
     "start_time": "2022-03-26T10:48:42.160415",
     "status": "completed"
    },
    "tags": []
   },
   "outputs": [],
   "source": [
    "source_test_label_accuracy, source_test_label_loss = jig.test(datasets.source.processed.test)\n",
    "target_test_label_accuracy, target_test_label_loss = jig.test(datasets.target.processed.test)\n",
    "\n",
    "source_val_label_accuracy, source_val_label_loss = jig.test(datasets.source.processed.val)\n",
    "target_val_label_accuracy, target_val_label_loss = jig.test(datasets.target.processed.val)\n",
    "\n",
    "history = jig.get_history()\n",
    "\n",
    "total_epochs_trained = len(history[\"epoch_indices\"])\n",
    "\n",
    "val_dl = wrap_in_dataloader(p, Sequence_Aggregator((datasets.source.original.val, datasets.target.original.val)))\n",
    "\n",
    "confusion = confusion_by_domain_over_dataloader(model, p.device, val_dl, forward_uses_domain=False)\n",
    "per_domain_accuracy = per_domain_accuracy_from_confusion(confusion)\n",
    "\n",
    "# Add a key to per_domain_accuracy for if it was a source domain\n",
    "for domain, accuracy in per_domain_accuracy.items():\n",
    "    per_domain_accuracy[domain] = {\n",
    "        \"accuracy\": accuracy,\n",
    "        \"source?\": domain in p.domains_source\n",
    "    }\n",
    "\n",
    "# Do an independent accuracy assesment JUST TO BE SURE!\n",
    "# _source_test_label_accuracy = independent_accuracy_assesment(model, datasets.source.processed.test, p.device)\n",
    "# _target_test_label_accuracy = independent_accuracy_assesment(model, datasets.target.processed.test, p.device)\n",
    "# _source_val_label_accuracy = independent_accuracy_assesment(model, datasets.source.processed.val, p.device)\n",
    "# _target_val_label_accuracy = independent_accuracy_assesment(model, datasets.target.processed.val, p.device)\n",
    "\n",
    "# assert(_source_test_label_accuracy == source_test_label_accuracy)\n",
    "# assert(_target_test_label_accuracy == target_test_label_accuracy)\n",
    "# assert(_source_val_label_accuracy == source_val_label_accuracy)\n",
    "# assert(_target_val_label_accuracy == target_val_label_accuracy)\n",
    "\n",
    "###################################\n",
    "# Write out the results\n",
    "###################################\n",
    "\n",
    "experiment = {\n",
    "    \"experiment_name\": p.experiment_name,\n",
    "    \"parameters\": p,\n",
    "    \"results\": {\n",
    "        \"source_test_label_accuracy\": source_test_label_accuracy,\n",
    "        \"source_test_label_loss\": source_test_label_loss,\n",
    "        \"target_test_label_accuracy\": target_test_label_accuracy,\n",
    "        \"target_test_label_loss\": target_test_label_loss,\n",
    "        \"source_val_label_accuracy\": source_val_label_accuracy,\n",
    "        \"source_val_label_loss\": source_val_label_loss,\n",
    "        \"target_val_label_accuracy\": target_val_label_accuracy,\n",
    "        \"target_val_label_loss\": target_val_label_loss,\n",
    "        \"total_epochs_trained\": total_epochs_trained,\n",
    "        \"total_experiment_time_secs\": total_experiment_time_secs,\n",
    "        \"confusion\": confusion,\n",
    "        \"per_domain_accuracy\": per_domain_accuracy,\n",
    "    },\n",
    "    \"history\": history,\n",
    "    \"dataset_metrics\": get_dataset_metrics(datasets, \"cnn\"),\n",
    "}"
   ]
  },
  {
   "cell_type": "code",
   "execution_count": 16,
   "id": "74c318cf",
   "metadata": {
    "execution": {
     "iopub.execute_input": "2022-03-26T10:49:03.731245Z",
     "iopub.status.busy": "2022-03-26T10:49:03.725307Z",
     "iopub.status.idle": "2022-03-26T10:49:03.906202Z",
     "shell.execute_reply": "2022-03-26T10:49:03.906866Z"
    },
    "papermill": {
     "duration": 0.243213,
     "end_time": "2022-03-26T10:49:03.907050",
     "exception": false,
     "start_time": "2022-03-26T10:49:03.663837",
     "status": "completed"
    },
    "tags": []
   },
   "outputs": [
    {
     "data": {
      "text/plain": [
       "<AxesSubplot:title={'center':'Source Train Label Loss vs Source Val Label Loss'}, xlabel='Epoch'>"
      ]
     },
     "execution_count": 16,
     "metadata": {},
     "output_type": "execute_result"
    },
    {
     "data": {
      "image/png": "[encoded data removed]",
      "text/plain": [
       "<Figure size 1080x504 with 1 Axes>"
      ]
     },
     "metadata": {
      "needs_background": "light"
     },
     "output_type": "display_data"
    }
   ],
   "source": [
    "get_loss_curve(experiment)"
   ]
  },
  {
   "cell_type": "code",
   "execution_count": 17,
   "id": "59376601",
   "metadata": {
    "execution": {
     "iopub.execute_input": "2022-03-26T10:49:04.019060Z",
     "iopub.status.busy": "2022-03-26T10:49:04.018260Z",
     "iopub.status.idle": "2022-03-26T10:49:04.319262Z",
     "shell.execute_reply": "2022-03-26T10:49:04.319965Z"
    },
    "papermill": {
     "duration": 0.365928,
     "end_time": "2022-03-26T10:49:04.320148",
     "exception": false,
     "start_time": "2022-03-26T10:49:03.954220",
     "status": "completed"
    },
    "tags": []
   },
   "outputs": [
    {
     "data": {
      "text/plain": [
       "<AxesSubplot:title={'center':'Results'}>"
      ]
     },
     "execution_count": 17,
     "metadata": {},
     "output_type": "execute_result"
    },
    {
     "data": {
      "image/png": "[encoded data removed]",
      "text/plain": [
       "<Figure size 1080x504 with 1 Axes>"
      ]
     },
     "metadata": {
      "needs_background": "light"
     },
     "output_type": "display_data"
    }
   ],
   "source": [
    "get_results_table(experiment)"
   ]
  },
  {
   "cell_type": "code",
   "execution_count": 18,
   "id": "e80c5c98",
   "metadata": {
    "execution": {
     "iopub.execute_input": "2022-03-26T10:49:04.431025Z",
     "iopub.status.busy": "2022-03-26T10:49:04.427140Z",
     "iopub.status.idle": "2022-03-26T10:49:04.596566Z",
     "shell.execute_reply": "2022-03-26T10:49:04.595872Z"
    },
    "papermill": {
     "duration": 0.223563,
     "end_time": "2022-03-26T10:49:04.596720",
     "exception": false,
     "start_time": "2022-03-26T10:49:04.373157",
     "status": "completed"
    },
    "tags": []
   },
   "outputs": [
    {
     "data": {
      "text/plain": [
       "<AxesSubplot:title={'center':'Per Domain Accuracy'}, xlabel='domain'>"
      ]
     },
     "execution_count": 18,
     "metadata": {},
     "output_type": "execute_result"
    },
    {
     "data": {
      "image/png": "[encoded data removed]",
      "text/plain": [
       "<Figure size 1080x504 with 1 Axes>"
      ]
     },
     "metadata": {
      "needs_background": "light"
     },
     "output_type": "display_data"
    }
   ],
   "source": [
    "get_domain_accuracies(experiment)"
   ]
  },
  {
   "cell_type": "code",
   "execution_count": 19,
   "id": "086fdd10",
   "metadata": {
    "execution": {
     "iopub.execute_input": "2022-03-26T10:49:04.699851Z",
     "iopub.status.busy": "2022-03-26T10:49:04.699462Z",
     "iopub.status.idle": "2022-03-26T10:49:04.702701Z",
     "shell.execute_reply": "2022-03-26T10:49:04.702352Z"
    },
    "papermill": {
     "duration": 0.053891,
     "end_time": "2022-03-26T10:49:04.702771",
     "exception": false,
     "start_time": "2022-03-26T10:49:04.648880",
     "status": "completed"
    },
    "tags": []
   },
   "outputs": [
    {
     "name": "stdout",
     "output_type": "stream",
     "text": [
      "Source Test Label Accuracy: 0.510859375 Target Test Label Accuracy: 0.510859375\n",
      "Source Val Label Accuracy: 0.5087239583333333 Target Val Label Accuracy: 0.5087239583333333\n"
     ]
    }
   ],
   "source": [
    "print(\"Source Test Label Accuracy:\", experiment[\"results\"][\"source_test_label_accuracy\"], \"Target Test Label Accuracy:\", experiment[\"results\"][\"target_test_label_accuracy\"])\n",
    "print(\"Source Val Label Accuracy:\", experiment[\"results\"][\"source_val_label_accuracy\"], \"Target Val Label Accuracy:\", experiment[\"results\"][\"target_val_label_accuracy\"])"
   ]
  },
  {
   "cell_type": "code",
   "execution_count": 20,
   "id": "9f450536",
   "metadata": {
    "execution": {
     "iopub.execute_input": "2022-03-26T10:49:04.806193Z",
     "iopub.status.busy": "2022-03-26T10:49:04.805809Z",
     "iopub.status.idle": "2022-03-26T10:49:04.808550Z",
     "shell.execute_reply": "2022-03-26T10:49:04.808198Z"
    },
    "papermill": {
     "duration": 0.054301,
     "end_time": "2022-03-26T10:49:04.808620",
     "exception": false,
     "start_time": "2022-03-26T10:49:04.754319",
     "status": "completed"
    },
    "tags": [
     "experiment_json"
    ]
   },
   "outputs": [
    {
     "data": {
      "text/plain": [
       "'{\"experiment_name\": \"cnn_2:oracle.run2_limited\", \"parameters\": {\"experiment_name\": \"cnn_2:oracle.run2_limited\", \"labels\": [\"3123D52\", \"3123D65\", \"3123D79\", \"3123D80\", \"3123D54\", \"3123D70\", \"3123D7B\", \"3123D89\", \"3123D58\", \"3123D76\", \"3123D7D\", \"3123EFE\", \"3123D64\", \"3123D78\", \"3123D7E\", \"3124E4A\"], \"domains_source\": [8, 32, 50, 14, 20, 26, 38, 44], \"domains_target\": [8, 32, 50, 14, 20, 26, 38, 44], \"pickle_name_source\": \"oracle.Run2_10kExamples_stratified_ds.2022A.pkl\", \"pickle_name_target\": \"oracle.Run2_10kExamples_stratified_ds.2022A.pkl\", \"device\": \"cuda\", \"lr\": 0.0001, \"batch_size\": 128, \"normalize_source\": false, \"normalize_target\": false, \"num_examples_per_domain_per_label_source\": 2000, \"num_examples_per_domain_per_label_target\": 2000, \"torch_default_dtype\": \"torch.float32\", \"n_epoch\": 50, \"patience\": 3, \"criteria_for_best\": \"target_accuracy\", \"x_net\": [{\"class\": \"nnReshape\", \"kargs\": {\"shape\": [-1, 1, 2, 256]}}, {\"class\": \"Conv2d\", \"kargs\": {\"in_channels\": 1, \"out_channels\": 256, \"kernel_size\": [1, 7], \"bias\": false, \"padding\": [0, 3]}}, {\"class\": \"ReLU\", \"kargs\": {\"inplace\": true}}, {\"class\": \"BatchNorm2d\", \"kargs\": {\"num_features\": 256}}, {\"class\": \"Conv2d\", \"kargs\": {\"in_channels\": 256, \"out_channels\": 80, \"kernel_size\": [2, 7], \"bias\": true, \"padding\": [0, 3]}}, {\"class\": \"ReLU\", \"kargs\": {\"inplace\": true}}, {\"class\": \"BatchNorm2d\", \"kargs\": {\"num_features\": 80}}, {\"class\": \"Flatten\", \"kargs\": {}}, {\"class\": \"Linear\", \"kargs\": {\"in_features\": 20480, \"out_features\": 256}}, {\"class\": \"ReLU\", \"kargs\": {\"inplace\": true}}, {\"class\": \"BatchNorm1d\", \"kargs\": {\"num_features\": 256}}, {\"class\": \"Linear\", \"kargs\": {\"in_features\": 256, \"out_features\": 16}}], \"NUM_LOGS_PER_EPOCH\": 10, \"BEST_MODEL_PATH\": \"./best_model.pth\", \"dataset_seed\": 7, \"seed\": 7}, \"results\": {\"source_test_label_accuracy\": 0.510859375, \"source_test_label_loss\": 1.4078013503551483, \"target_test_label_accuracy\": 0.510859375, \"target_test_label_loss\": 1.4078013443946837, \"source_val_label_accuracy\": 0.5087239583333333, \"source_val_label_loss\": 1.4054854094982148, \"target_val_label_accuracy\": 0.5087239583333333, \"target_val_label_loss\": 1.4054854027430217, \"total_epochs_trained\": 10, \"total_experiment_time_secs\": 200.05198907852173, \"confusion\": {\"14\": {\"12\": {\"2\": 56, \"6\": 12, \"12\": 268, \"9\": 114, \"0\": 58, \"8\": 16, \"14\": 10, \"3\": 16, \"10\": 4, \"1\": 8, \"7\": 2, \"11\": 20, \"13\": 4, \"4\": 6, \"5\": 2, \"15\": 4}, \"11\": {\"13\": 106, \"7\": 162, \"12\": 50, \"4\": 122, \"11\": 136, \"2\": 6, \"5\": 2, \"6\": 4, \"15\": 4, \"9\": 8}, \"7\": {\"7\": 578, \"3\": 2, \"5\": 14, \"2\": 2, \"13\": 4}, \"10\": {\"0\": 188, \"3\": 198, \"2\": 2, \"4\": 68, \"10\": 132, \"12\": 2, \"8\": 2, \"13\": 2, \"14\": 4, \"9\": 2}, \"13\": {\"13\": 280, \"3\": 44, \"2\": 48, \"6\": 188, \"15\": 26, \"0\": 2, \"7\": 4, \"8\": 2, \"14\": 4, \"10\": 2}, \"5\": {\"7\": 52, \"5\": 204, \"3\": 94, \"4\": 182, \"2\": 48, \"0\": 4, \"11\": 6, \"8\": 8, \"14\": 2}, \"14\": {\"4\": 164, \"14\": 216, \"3\": 48, \"2\": 78, \"0\": 18, \"6\": 40, \"5\": 24, \"10\": 6, \"13\": 6}, \"3\": {\"3\": 452, \"7\": 76, \"4\": 8, \"5\": 12, \"2\": 22, \"13\": 20, \"8\": 6, \"6\": 2, \"0\": 2}, \"4\": {\"4\": 350, \"0\": 22, \"5\": 128, \"11\": 28, \"14\": 10, \"2\": 32, \"1\": 8, \"8\": 10, \"3\": 6, \"7\": 6}, \"9\": {\"9\": 424, \"0\": 98, \"12\": 12, \"11\": 32, \"8\": 34}, \"8\": {\"8\": 576, \"9\": 10, \"11\": 14}, \"0\": {\"4\": 52, \"0\": 412, \"3\": 92, \"8\": 12, \"5\": 10, \"1\": 2, \"11\": 6, \"2\": 8, \"9\": 2, \"14\": 4}, \"15\": {\"15\": 598, \"13\": 2}, \"6\": {\"6\": 178, \"2\": 86, \"13\": 198, \"3\": 76, \"4\": 6, \"14\": 16, \"15\": 22, \"7\": 10, \"10\": 6, \"8\": 2}, \"2\": {\"4\": 148, \"3\": 66, \"2\": 164, \"14\": 52, \"5\": 56, \"13\": 18, \"7\": 30, \"6\": 52, \"11\": 4, \"10\": 2, \"0\": 4, \"1\": 2, \"8\": 2}, \"1\": {\"1\": 560, \"11\": 14, \"4\": 8, \"5\": 6, \"7\": 12}}, \"44\": {\"7\": {\"7\": 202, \"9\": 332, \"10\": 26, \"6\": 38, \"0\": 2}, \"13\": {\"13\": 448, \"7\": 52, \"10\": 72, \"0\": 2, \"6\": 22, \"3\": 4}, \"11\": {\"11\": 590, \"3\": 10}, \"0\": {\"8\": 308, \"0\": 272, \"1\": 6, \"15\": 14}, \"5\": {\"5\": 406, \"6\": 38, \"15\": 38, \"4\": 38, \"8\": 66, \"0\": 2, \"2\": 4, \"14\": 6, \"13\": 2}, \"15\": {\"15\": 392, \"0\": 50, \"9\": 58, \"5\": 34, \"14\": 10, \"6\": 6, \"8\": 30, \"12\": 14, \"11\": 4, \"1\": 2}, \"2\": {\"2\": 430, \"1\": 46, \"15\": 80, \"5\": 18, \"8\": 18, \"11\": 8}, \"3\": {\"3\": 238, \"1\": 30, \"12\": 102, \"11\": 26, \"8\": 20, \"7\": 126, \"4\": 18, \"2\": 32, \"0\": 6, \"13\": 2}, \"6\": {\"6\": 472, \"13\": 78, \"10\": 28, \"7\": 18, \"9\": 4}, \"14\": {\"4\": 384, \"15\": 34, \"14\": 92, \"8\": 16, \"5\": 40, \"0\": 10, \"7\": 20, \"13\": 2, \"6\": 2}, \"10\": {\"10\": 592, \"7\": 8}, \"9\": {\"9\": 418, \"7\": 144, \"6\": 36, \"3\": 2}, \"8\": {\"8\": 396, \"0\": 154, \"14\": 4, \"4\": 4, \"15\": 28, \"5\": 8, \"9\": 2, \"6\": 2, \"12\": 2}, \"1\": {\"1\": 522, \"5\": 20, \"2\": 26, \"7\": 30, \"3\": 2}, \"12\": {\"12\": 222, \"3\": 352, \"7\": 8, \"1\": 14, \"8\": 4}, \"4\": {\"4\": 266, \"7\": 68, \"9\": 180, \"14\": 6, \"15\": 22, \"0\": 38, \"5\": 6, \"8\": 8, \"6\": 4, \"13\": 2}}, \"20\": {\"8\": {\"0\": 258, \"15\": 26, \"14\": 94, \"4\": 62, \"3\": 34, \"8\": 76, \"1\": 6, \"5\": 18, \"2\": 6, \"10\": 10, \"9\": 4, \"12\": 6}, \"12\": {\"15\": 80, \"12\": 110, \"9\": 84, \"2\": 126, \"3\": 20, \"13\": 62, \"10\": 4, \"5\": 24, \"4\": 46, \"1\": 24, \"7\": 14, \"11\": 6}, \"14\": {\"14\": 392, \"0\": 42, \"8\": 84, \"15\": 22, \"3\": 6, \"5\": 10, \"10\": 10, \"1\": 4, \"4\": 26, \"12\": 2, \"2\": 2}, \"15\": {\"1\": 72, \"5\": 74, \"2\": 166, \"9\": 172, \"15\": 80, \"3\": 8, \"11\": 10, \"13\": 8, \"0\": 8, \"12\": 2}, \"0\": {\"15\": 22, \"5\": 12, \"0\": 460, \"3\": 24, \"2\": 10, \"9\": 52, \"12\": 6, \"8\": 2, \"1\": 6, \"10\": 4, \"4\": 2}, \"9\": {\"15\": 90, \"5\": 42, \"9\": 156, \"2\": 150, \"1\": 72, \"3\": 16, \"7\": 4, \"0\": 16, \"11\": 2, \"4\": 26, \"12\": 24, \"10\": 2}, \"13\": {\"9\": 206, \"15\": 46, \"13\": 128, \"11\": 26, \"12\": 34, \"1\": 48, \"2\": 64, \"4\": 14, \"3\": 8, \"5\": 12, \"7\": 12, \"10\": 2}, \"11\": {\"4\": 30, \"11\": 186, \"1\": 14, \"0\": 148, \"8\": 60, \"9\": 110, \"5\": 40, \"2\": 12}, \"4\": {\"12\": 118, \"15\": 208, \"9\": 38, \"4\": 58, \"1\": 28, \"2\": 38, \"3\": 18, \"5\": 42, \"7\": 6, \"10\": 38, \"14\": 4, \"8\": 4}, \"5\": {\"5\": 96, \"3\": 38, \"2\": 104, \"0\": 66, \"15\": 74, \"1\": 44, \"9\": 124, \"4\": 22, \"8\": 10, \"12\": 12, \"11\": 6, \"13\": 2, \"7\": 2}, \"3\": {\"15\": 112, \"9\": 80, \"11\": 6, \"2\": 80, \"4\": 48, \"3\": 46, \"1\": 58, \"5\": 102, \"12\": 24, \"0\": 14, \"7\": 14, \"10\": 6, \"14\": 2, \"13\": 6, \"8\": 2}, \"2\": {\"9\": 158, \"1\": 84, \"15\": 80, \"2\": 110, \"0\": 26, \"5\": 74, \"4\": 18, \"3\": 26, \"10\": 2, \"11\": 6, \"12\": 10, \"13\": 4, \"7\": 2}, \"6\": {\"12\": 30, \"6\": 262, \"4\": 34, \"14\": 54, \"8\": 12, \"1\": 8, \"7\": 88, \"10\": 88, \"11\": 8, \"5\": 8, \"3\": 6, \"15\": 2}, \"1\": {\"9\": 172, \"5\": 12, \"0\": 86, \"2\": 136, \"1\": 76, \"15\": 86, \"3\": 24, \"4\": 2, \"12\": 6}, \"7\": {\"8\": 30, \"5\": 46, \"9\": 50, \"12\": 62, \"14\": 14, \"11\": 42, \"15\": 24, \"4\": 106, \"0\": 6, \"2\": 48, \"7\": 74, \"3\": 38, \"1\": 26, \"10\": 22, \"6\": 8, \"13\": 4}, \"10\": {\"10\": 160, \"7\": 86, \"6\": 32, \"3\": 24, \"12\": 114, \"4\": 132, \"15\": 18, \"14\": 6, \"8\": 18, \"2\": 2, \"11\": 8}}, \"50\": {\"6\": {\"5\": 446, \"8\": 32, \"6\": 36, \"4\": 48, \"15\": 18, \"14\": 14, \"2\": 4, \"7\": 2}, \"9\": {\"9\": 594, \"12\": 6}, \"12\": {\"9\": 374, \"12\": 220, \"5\": 6}, \"8\": {\"8\": 470, \"13\": 58, \"1\": 30, \"0\": 22, \"10\": 20}, \"3\": {\"3\": 546, \"2\": 50, \"8\": 4}, \"15\": {\"15\": 176, \"4\": 150, \"5\": 148, \"6\": 22, \"9\": 28, \"7\": 32, \"14\": 12, \"8\": 28, \"0\": 4}, \"11\": {\"15\": 388, \"11\": 124, \"5\": 40, \"2\": 16, \"9\": 24, \"1\": 4, \"14\": 2, \"8\": 2}, \"14\": {\"14\": 452, \"2\": 30, \"9\": 100, \"11\": 2, \"6\": 12, \"5\": 2, \"0\": 2}, \"1\": {\"15\": 280, \"5\": 14, \"1\": 288, \"6\": 4, \"0\": 2, \"13\": 10, \"12\": 2}, \"13\": {\"13\": 432, \"10\": 20, \"1\": 118, \"8\": 22, \"12\": 4, \"15\": 2, \"5\": 2}, \"5\": {\"14\": 96, \"7\": 188, \"5\": 198, \"8\": 10, \"2\": 30, \"4\": 70, \"6\": 6, \"3\": 2}, \"4\": {\"4\": 142, \"7\": 360, \"5\": 46, \"14\": 44, \"8\": 6, \"13\": 2}, \"10\": {\"10\": 400, \"1\": 148, \"0\": 10, \"13\": 38, \"8\": 4}, \"2\": {\"9\": 22, \"2\": 472, \"0\": 84, \"11\": 4, \"12\": 16, \"6\": 2}, \"0\": {\"2\": 68, \"0\": 336, \"1\": 128, \"10\": 56, \"9\": 6, \"13\": 2, \"11\": 2, \"6\": 2}, \"7\": {\"7\": 506, \"4\": 26, \"3\": 4, \"14\": 60, \"5\": 4}}, \"8\": {\"2\": {\"15\": 80, \"0\": 14, \"9\": 166, \"2\": 234, \"1\": 68, \"5\": 14, \"13\": 6, \"10\": 2, \"12\": 16}, \"12\": {\"12\": 168, \"14\": 36, \"7\": 6, \"5\": 16, \"15\": 172, \"0\": 10, \"10\": 36, \"1\": 10, \"4\": 56, \"8\": 48, \"3\": 28, \"2\": 8, \"9\": 6}, \"4\": {\"7\": 140, \"4\": 272, \"12\": 4, \"5\": 44, \"14\": 38, \"10\": 34, \"13\": 50, \"1\": 8, \"9\": 4, \"11\": 4, \"6\": 2}, \"5\": {\"10\": 72, \"5\": 394, \"13\": 62, \"1\": 68, \"14\": 2, \"2\": 2}, \"13\": {\"13\": 250, \"10\": 78, \"5\": 162, \"1\": 76, \"7\": 4, \"2\": 20, \"4\": 2, \"15\": 2, \"12\": 4, \"9\": 2}, \"9\": {\"9\": 594, \"12\": 4, \"1\": 2}, \"11\": {\"11\": 288, \"8\": 244, \"12\": 16, \"10\": 16, \"6\": 12, \"4\": 8, \"1\": 2, \"14\": 2, \"7\": 6, \"3\": 2, \"0\": 2, \"15\": 2}, \"14\": {\"14\": 380, \"6\": 34, \"4\": 72, \"1\": 58, \"0\": 2, \"11\": 4, \"5\": 30, \"7\": 12, \"10\": 4, \"8\": 2, \"13\": 2}, \"3\": {\"3\": 256, \"10\": 112, \"0\": 180, \"4\": 44, \"9\": 4, \"8\": 4}, \"15\": {\"15\": 358, \"1\": 20, \"0\": 78, \"10\": 40, \"12\": 58, \"5\": 8, \"8\": 8, \"3\": 12, \"4\": 6, \"2\": 2, \"14\": 8, \"9\": 2}, \"10\": {\"10\": 98, \"5\": 310, \"13\": 130, \"1\": 44, \"12\": 2, \"2\": 8, \"9\": 4, \"7\": 2, \"4\": 2}, \"7\": {\"4\": 208, \"10\": 36, \"7\": 164, \"11\": 10, \"5\": 14, \"12\": 12, \"13\": 124, \"1\": 24, \"14\": 2, \"9\": 6}, \"8\": {\"8\": 312, \"4\": 54, \"6\": 30, \"11\": 126, \"1\": 12, \"14\": 40, \"7\": 24, \"10\": 2}, \"6\": {\"4\": 190, \"6\": 130, \"5\": 8, \"1\": 18, \"7\": 62, \"14\": 144, \"8\": 28, \"10\": 2, \"11\": 8, \"0\": 10}, \"0\": {\"0\": 594, \"14\": 6}, \"1\": {\"13\": 58, \"1\": 320, \"7\": 4, \"5\": 144, \"14\": 24, \"8\": 4, \"10\": 32, \"4\": 12, \"6\": 2}}, \"26\": {\"4\": {\"4\": 146, \"3\": 326, \"14\": 14, \"10\": 48, \"2\": 14, \"0\": 32, \"8\": 10, \"13\": 4, \"7\": 6}, \"5\": {\"5\": 382, \"6\": 76, \"11\": 48, \"15\": 18, \"2\": 4, \"8\": 8, \"14\": 22, \"1\": 22, \"9\": 14, \"12\": 4, \"10\": 2}, \"2\": {\"2\": 90, \"10\": 30, \"9\": 54, \"14\": 14, \"15\": 72, \"7\": 92, \"5\": 24, \"8\": 122, \"0\": 34, \"13\": 26, \"6\": 34, \"1\": 2, \"3\": 6}, \"7\": {\"7\": 130, \"9\": 44, \"13\": 70, \"2\": 58, \"3\": 80, \"8\": 106, \"15\": 22, \"0\": 40, \"5\": 8, \"4\": 4, \"10\": 26, \"14\": 8, \"6\": 4}, \"9\": {\"8\": 106, \"6\": 84, \"9\": 148, \"13\": 72, \"7\": 68, \"5\": 22, \"11\": 4, \"2\": 44, \"15\": 8, \"10\": 16, \"12\": 10, \"0\": 16, \"14\": 2}, \"10\": {\"15\": 26, \"10\": 114, \"9\": 6, \"1\": 130, \"0\": 110, \"14\": 80, \"8\": 32, \"2\": 2, \"7\": 4, \"6\": 58, \"12\": 24, \"5\": 12, \"11\": 2}, \"12\": {\"9\": 4, \"12\": 578, \"6\": 6, \"11\": 6, \"10\": 6}, \"15\": {\"2\": 22, \"14\": 28, \"7\": 26, \"15\": 318, \"8\": 52, \"6\": 66, \"5\": 36, \"0\": 20, \"9\": 14, \"3\": 4, \"13\": 8, \"1\": 2, \"4\": 2, \"10\": 2}, \"11\": {\"11\": 402, \"6\": 170, \"12\": 28}, \"1\": {\"14\": 62, \"1\": 450, \"10\": 24, \"15\": 8, \"0\": 28, \"8\": 2, \"6\": 22, \"9\": 2, \"12\": 2}, \"14\": {\"14\": 180, \"10\": 46, \"9\": 8, \"0\": 88, \"1\": 196, \"6\": 36, \"15\": 20, \"8\": 10, \"2\": 6, \"5\": 8, \"12\": 2}, \"8\": {\"0\": 78, \"13\": 22, \"9\": 50, \"2\": 50, \"15\": 46, \"14\": 36, \"8\": 132, \"7\": 24, \"10\": 62, \"6\": 70, \"1\": 6, \"5\": 16, \"12\": 2, \"3\": 4, \"11\": 2}, \"0\": {\"0\": 156, \"14\": 80, \"6\": 54, \"1\": 94, \"8\": 52, \"10\": 76, \"15\": 42, \"3\": 2, \"12\": 4, \"9\": 14, \"4\": 4, \"5\": 10, \"2\": 8, \"7\": 4}, \"13\": {\"9\": 156, \"13\": 244, \"8\": 56, \"6\": 12, \"5\": 14, \"11\": 10, \"4\": 4, \"7\": 52, \"2\": 30, \"3\": 16, \"0\": 4, \"12\": 2}, \"3\": {\"0\": 8, \"3\": 244, \"13\": 60, \"2\": 76, \"8\": 42, \"7\": 94, \"15\": 22, \"4\": 12, \"10\": 22, \"6\": 6, \"14\": 6, \"9\": 8}, \"6\": {\"14\": 34, \"12\": 38, \"10\": 20, \"6\": 196, \"11\": 32, \"5\": 168, \"1\": 52, \"15\": 16, \"9\": 30, \"0\": 10, \"8\": 2, \"2\": 2}}, \"32\": {\"9\": {\"6\": 52, \"13\": 2, \"9\": 182, \"14\": 170, \"2\": 130, \"11\": 18, \"15\": 14, \"5\": 2, \"1\": 2, \"0\": 18, \"10\": 2, \"12\": 8}, \"12\": {\"12\": 436, \"5\": 4, \"10\": 90, \"11\": 14, \"6\": 24, \"1\": 16, \"9\": 6, \"2\": 6, \"0\": 4}, \"2\": {\"2\": 444, \"7\": 50, \"14\": 38, \"12\": 6, \"5\": 10, \"0\": 2, \"1\": 24, \"11\": 22, \"9\": 2, \"8\": 2}, \"13\": {\"13\": 308, \"11\": 60, \"3\": 160, \"12\": 20, \"4\": 40, \"15\": 4, \"2\": 2, \"8\": 4, \"7\": 2}, \"11\": {\"12\": 16, \"11\": 346, \"13\": 48, \"3\": 46, \"2\": 12, \"7\": 50, \"4\": 44, \"15\": 8, \"14\": 16, \"0\": 12, \"8\": 2}, \"1\": {\"1\": 354, \"10\": 110, \"8\": 124, \"13\": 4, \"3\": 2, \"0\": 6}, \"3\": {\"13\": 34, \"3\": 454, \"12\": 100, \"8\": 6, \"11\": 2, \"4\": 4}, \"15\": {\"15\": 526, \"8\": 16, \"2\": 52, \"1\": 6}, \"14\": {\"14\": 192, \"2\": 186, \"6\": 50, \"9\": 16, \"11\": 98, \"0\": 12, \"5\": 14, \"1\": 20, \"15\": 6, \"12\": 4, \"8\": 2}, \"7\": {\"7\": 372, \"1\": 94, \"2\": 78, \"5\": 16, \"12\": 30, \"3\": 6, \"11\": 2, \"14\": 2}, \"5\": {\"9\": 224, \"5\": 246, \"2\": 26, \"1\": 38, \"12\": 14, \"7\": 42, \"15\": 6, \"14\": 2, \"6\": 2}, \"4\": {\"14\": 4, \"4\": 148, \"2\": 26, \"0\": 38, \"3\": 140, \"8\": 28, \"15\": 8, \"11\": 110, \"12\": 44, \"7\": 16, \"13\": 34, \"1\": 2, \"6\": 2}, \"10\": {\"10\": 588, \"12\": 8, \"0\": 2, \"6\": 2}, \"0\": {\"2\": 258, \"8\": 48, \"3\": 20, \"11\": 102, \"1\": 38, \"0\": 36, \"14\": 32, \"7\": 28, \"4\": 20, \"12\": 2, \"5\": 8, \"6\": 4, \"15\": 4}, \"8\": {\"2\": 208, \"8\": 208, \"1\": 104, \"3\": 20, \"0\": 10, \"12\": 14, \"4\": 4, \"15\": 18, \"11\": 12, \"5\": 2}, \"6\": {\"11\": 132, \"6\": 450, \"12\": 18}}, \"38\": {\"5\": {\"15\": 182, \"5\": 330, \"7\": 12, \"4\": 34, \"6\": 14, \"8\": 24, \"0\": 2, \"2\": 2}, \"7\": {\"7\": 536, \"4\": 32, \"0\": 16, \"13\": 16}, \"3\": {\"13\": 156, \"3\": 430, \"11\": 8, \"10\": 6}, \"8\": {\"5\": 210, \"4\": 162, \"15\": 54, \"14\": 30, \"8\": 56, \"7\": 64, \"0\": 6, \"6\": 8, \"9\": 10}, \"9\": {\"9\": 552, \"5\": 8, \"15\": 28, \"12\": 10, \"11\": 2}, \"12\": {\"12\": 590, \"6\": 2, \"13\": 2, \"14\": 2, \"5\": 2, \"15\": 2}, \"10\": {\"13\": 358, \"3\": 18, \"10\": 222, \"7\": 2}, \"0\": {\"0\": 98, \"9\": 138, \"7\": 292, \"13\": 20, \"3\": 4, \"6\": 36, \"4\": 10, \"8\": 2}, \"15\": {\"15\": 360, \"1\": 222, \"9\": 2, \"11\": 10, \"6\": 4, \"10\": 2}, \"4\": {\"4\": 540, \"10\": 12, \"7\": 16, \"13\": 26, \"11\": 4, \"6\": 2}, \"1\": {\"1\": 464, \"11\": 2, \"6\": 20, \"15\": 50, \"0\": 60, \"5\": 2, \"2\": 2}, \"11\": {\"11\": 600}, \"14\": {\"7\": 282, \"5\": 72, \"14\": 130, \"2\": 48, \"4\": 48, \"13\": 10, \"3\": 4, \"12\": 6}, \"13\": {\"3\": 294, \"13\": 300, \"10\": 6}, \"2\": {\"5\": 156, \"2\": 244, \"7\": 100, \"14\": 72, \"8\": 16, \"4\": 8, \"3\": 4}, \"6\": {\"1\": 30, \"6\": 258, \"14\": 176, \"0\": 12, \"11\": 48, \"2\": 18, \"15\": 46, \"9\": 12}}}, \"per_domain_accuracy\": {\"14\": {\"accuracy\": 0.5758333333333333, \"source?\": true}, \"44\": {\"accuracy\": 0.620625, \"source?\": true}, \"20\": {\"accuracy\": 0.25729166666666664, \"source?\": true}, \"50\": {\"accuracy\": 0.5616666666666666, \"source?\": true}, \"8\": {\"accuracy\": 0.50125, \"source?\": true}, \"26\": {\"accuracy\": 0.40729166666666666, \"source?\": true}, \"32\": {\"accuracy\": 0.5510416666666667, \"source?\": true}, \"38\": {\"accuracy\": 0.5947916666666667, \"source?\": true}}}, \"history\": {\"epoch_indices\": [1, 2, 3, 4, 5, 6, 7, 8, 9, 10], \"train_label_loss\": [2.609894106047494, 2.2403956265108924, 1.798915991101946, 1.469974426286561, 1.1960210618376732, 0.9505912980437279, 0.7465902555414609, 0.5756200114105429, 0.4379295630114419, 0.36763770416378977], \"source_val_label_loss\": [2.4470378708839418, 2.0317725098133086, 1.6389113895098368, 1.5135025330384573, 1.4685193757216135, 1.4054854242006938, 1.4894883775711059, 1.5561215813954672, 1.7463301308949788, 1.7963697918256123], \"target_val_label_loss\": [2.4470378796259564, 2.031772513786952, 1.6389113946755727, 1.5135025215148925, 1.4685193574428559, 1.4054854091008504, 1.4894883720080059, 1.5561215750376383, 1.7463301201661428, 1.7963697826862335], \"source_val_acc_label\": [0.19572916666666668, 0.31890625, 0.44859375, 0.474140625, 0.48346354166666666, 0.5087239583333333, 0.4800260416666667, 0.489921875, 0.47625, 0.4685416666666667], \"target_val_acc_label\": [0.19572916666666668, 0.31890625, 0.44859375, 0.474140625, 0.48346354166666666, 0.5087239583333333, 0.4800260416666667, 0.489921875, 0.47625, 0.4685416666666667]}, \"dataset_metrics\": {\"source\": {\"train\": {\"n_unique_x\": 179200, \"n_unique_y\": 16, \"n_batch/episode\": 1400}, \"val\": {\"n_unique_x\": 38400, \"n_unique_y\": 16, \"n_batch/episode\": 300}, \"test\": {\"n_unique_x\": 38400, \"n_unique_y\": 16, \"n_batch/episode\": 300}}, \"target\": {\"train\": {\"n_unique_x\": 179200, \"n_unique_y\": 16, \"n_batch/episode\": 1400}, \"val\": {\"n_unique_x\": 38400, \"n_unique_y\": 16, \"n_batch/episode\": 300}, \"test\": {\"n_unique_x\": 38400, \"n_unique_y\": 16, \"n_batch/episode\": 300}}}}'"
      ]
     },
     "execution_count": 20,
     "metadata": {},
     "output_type": "execute_result"
    }
   ],
   "source": [
    "json.dumps(experiment)"
   ]
  }
 ],
 "metadata": {
  "celltoolbar": "Tags",
  "kernelspec": {
   "display_name": "Python 3 (ipykernel)",
   "language": "python",
   "name": "python3"
  },
  "language_info": {
   "codemirror_mode": {
    "name": "ipython",
    "version": 3
   },
   "file_extension": ".py",
   "mimetype": "text/x-python",
   "name": "python",
   "nbconvert_exporter": "python",
   "pygments_lexer": "ipython3",
   "version": "3.8.12"
  },
  "papermill": {
   "default_parameters": {},
   "duration": 227.978661,
   "end_time": "2022-03-26T10:49:07.368165",
   "environment_variables": {},
   "exception": null,
   "input_path": "/root/csc500-main/csc500-notebooks/templates/cnn_template.ipynb",
   "output_path": "trial.ipynb",
   "parameters": {
    "parameters": {
     "BEST_MODEL_PATH": "./best_model.pth",
     "NUM_LOGS_PER_EPOCH": 10,
     "batch_size": 128,
     "criteria_for_best": "target_accuracy",
     "dataset_seed": 7,
     "device": "cuda",
     "domains_source": [
      8,
      32,
      50,
      14,
      20,
      26,
      38,
      44
     ],
     "domains_target": [
      8,
      32,
      50,
      14,
      20,
      26,
      38,
      44
     ],
     "experiment_name": "cnn_2:oracle.run2_limited",
     "labels": [
      "3123D52",
      "3123D65",
      "3123D79",
      "3123D80",
      "3123D54",
      "3123D70",
      "3123D7B",
      "3123D89",
      "3123D58",
      "3123D76",
      "3123D7D",
      "3123EFE",
      "3123D64",
      "3123D78",
      "3123D7E",
      "3124E4A"
     ],
     "lr": 0.0001,
     "n_epoch": 50,
     "normalize_source": false,
     "normalize_target": false,
     "num_examples_per_domain_per_label_source": 2000,
     "num_examples_per_domain_per_label_target": 2000,
     "patience": 3,
     "pickle_name_source": "oracle.Run2_10kExamples_stratified_ds.2022A.pkl",
     "pickle_name_target": "oracle.Run2_10kExamples_stratified_ds.2022A.pkl",
     "seed": 7,
     "torch_default_dtype": "torch.float32",
     "x_net": [
      {
       "class": "nnReshape",
       "kargs": {
        "shape": [
         -1,
         1,
         2,
         256
        ]
       }
      },
      {
       "class": "Conv2d",
       "kargs": {
        "bias": false,
        "in_channels": 1,
        "kernel_size": [
         1,
         7
        ],
        "out_channels": 256,
        "padding": [
         0,
         3
        ]
       }
      },
      {
       "class": "ReLU",
       "kargs": {
        "inplace": true
       }
      },
      {
       "class": "BatchNorm2d",
       "kargs": {
        "num_features": 256
       }
      },
      {
       "class": "Conv2d",
       "kargs": {
        "bias": true,
        "in_channels": 256,
        "kernel_size": [
         2,
         7
        ],
        "out_channels": 80,
        "padding": [
         0,
         3
        ]
       }
      },
      {
       "class": "ReLU",
       "kargs": {
        "inplace": true
       }
      },
      {
       "class": "BatchNorm2d",
       "kargs": {
        "num_features": 80
       }
      },
      {
       "class": "Flatten",
       "kargs": {}
      },
      {
       "class": "Linear",
       "kargs": {
        "in_features": 20480,
        "out_features": 256
       }
      },
      {
       "class": "ReLU",
       "kargs": {
        "inplace": true
       }
      },
      {
       "class": "BatchNorm1d",
       "kargs": {
        "num_features": 256
       }
      },
      {
       "class": "Linear",
       "kargs": {
        "in_features": 256,
        "out_features": 16
       }
      }
     ]
    }
   },
   "start_time": "2022-03-26T10:45:19.389504",
   "version": "2.3.4"
  }
 },
 "nbformat": 4,
 "nbformat_minor": 5
}