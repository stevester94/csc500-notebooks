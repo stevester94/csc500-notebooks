{
 "cells": [
  {
   "cell_type": "code",
   "execution_count": 1,
   "id": "2324682e",
   "metadata": {
    "execution": {
     "iopub.execute_input": "2022-03-26T10:15:29.605480Z",
     "iopub.status.busy": "2022-03-26T10:15:29.604640Z",
     "iopub.status.idle": "2022-03-26T10:15:30.928029Z",
     "shell.execute_reply": "2022-03-26T10:15:30.928699Z"
    },
    "papermill": {
     "duration": 1.363948,
     "end_time": "2022-03-26T10:15:30.929047",
     "exception": false,
     "start_time": "2022-03-26T10:15:29.565099",
     "status": "completed"
    },
    "tags": []
   },
   "outputs": [],
   "source": [
    "import os, json, sys, time, random\n",
    "import numpy as np\n",
    "import torch\n",
    "from  easydict import EasyDict\n",
    "from math import floor\n",
    "from easydict import EasyDict\n",
    "\n",
    "from steves_utils.vanilla_train_eval_test_jig import  Vanilla_Train_Eval_Test_Jig\n",
    "\n",
    "from steves_utils.torch_utils import get_dataset_metrics, independent_accuracy_assesment\n",
    "from steves_models.configurable_vanilla import Configurable_Vanilla\n",
    "from steves_utils.torch_sequential_builder import build_sequential\n",
    "from steves_utils.lazy_map import Lazy_Map\n",
    "from steves_utils.sequence_aggregator import Sequence_Aggregator\n",
    "\n",
    "from steves_utils.stratified_dataset.traditional_accessor import Traditional_Accessor_Factory\n",
    "\n",
    "from steves_utils.cnn_do_report import (\n",
    "    get_loss_curve,\n",
    "    get_results_table,\n",
    "    get_parameters_table,\n",
    "    get_domain_accuracies,\n",
    ")\n",
    "\n",
    "from steves_utils.torch_utils import (\n",
    "    confusion_by_domain_over_dataloader,\n",
    "    independent_accuracy_assesment\n",
    ")\n",
    "\n",
    "from steves_utils.utils_v2 import (\n",
    "    per_domain_accuracy_from_confusion,\n",
    "    get_datasets_base_path\n",
    ")\n",
    "\n",
    "# from steves_utils.ptn_do_report import TBD"
   ]
  },
  {
   "cell_type": "code",
   "execution_count": 2,
   "id": "1b29e3fe",
   "metadata": {
    "execution": {
     "iopub.execute_input": "2022-03-26T10:15:30.970024Z",
     "iopub.status.busy": "2022-03-26T10:15:30.969420Z",
     "iopub.status.idle": "2022-03-26T10:15:30.971808Z",
     "shell.execute_reply": "2022-03-26T10:15:30.972279Z"
    },
    "papermill": {
     "duration": 0.022686,
     "end_time": "2022-03-26T10:15:30.972419",
     "exception": false,
     "start_time": "2022-03-26T10:15:30.949733",
     "status": "completed"
    },
    "tags": []
   },
   "outputs": [],
   "source": [
    "required_parameters = {\n",
    "    \"experiment_name\",\n",
    "    \"lr\",\n",
    "    \"device\",\n",
    "    \"dataset_seed\",\n",
    "    \"seed\",\n",
    "    \"labels\",\n",
    "    \"domains_target\",\n",
    "    \"domains_source\",\n",
    "    \"num_examples_per_domain_per_label_source\",\n",
    "    \"num_examples_per_domain_per_label_target\",\n",
    "    \"batch_size\",\n",
    "    \"n_epoch\",\n",
    "    \"patience\",\n",
    "    \"criteria_for_best\",\n",
    "    \"normalize_source\",\n",
    "    \"normalize_target\",\n",
    "    \"x_net\",\n",
    "    \"NUM_LOGS_PER_EPOCH\",\n",
    "    \"BEST_MODEL_PATH\",\n",
    "    \"pickle_name_source\",\n",
    "    \"pickle_name_target\",\n",
    "    \"torch_default_dtype\",\n",
    "}"
   ]
  },
  {
   "cell_type": "code",
   "execution_count": 3,
   "id": "670b5fb8",
   "metadata": {
    "execution": {
     "iopub.execute_input": "2022-03-26T10:15:31.024599Z",
     "iopub.status.busy": "2022-03-26T10:15:31.023676Z",
     "iopub.status.idle": "2022-03-26T10:15:31.033956Z",
     "shell.execute_reply": "2022-03-26T10:15:31.033110Z"
    },
    "papermill": {
     "duration": 0.041401,
     "end_time": "2022-03-26T10:15:31.034151",
     "exception": false,
     "start_time": "2022-03-26T10:15:30.992750",
     "status": "completed"
    },
    "tags": [
     "parameters"
    ]
   },
   "outputs": [],
   "source": [
    "from steves_utils.ORACLE.utils_v2 import (\n",
    "    ALL_SERIAL_NUMBERS,\n",
    "    ALL_DISTANCES_FEET_NARROWED,\n",
    ")\n",
    "\n",
    "standalone_parameters = {}\n",
    "standalone_parameters[\"experiment_name\"] = \"MANUAL CORES CNN\"\n",
    "standalone_parameters[\"lr\"] = 0.0001\n",
    "standalone_parameters[\"device\"] = \"cuda\"\n",
    "\n",
    "standalone_parameters[\"dataset_seed\"] = 1337\n",
    "standalone_parameters[\"seed\"] = 1337\n",
    "standalone_parameters[\"labels\"] = ALL_SERIAL_NUMBERS\n",
    "\n",
    "standalone_parameters[\"domains_source\"] = [8,32,50]\n",
    "standalone_parameters[\"domains_target\"] = [14,20,26,38,44,]\n",
    "\n",
    "standalone_parameters[\"num_examples_per_domain_per_label_source\"]=-1\n",
    "standalone_parameters[\"num_examples_per_domain_per_label_target\"]=-1\n",
    "\n",
    "standalone_parameters[\"pickle_name_source\"] = \"oracle.Run1_framed_2000Examples_stratified_ds.2022A.pkl\"\n",
    "standalone_parameters[\"pickle_name_target\"] = \"oracle.Run2_framed_2000Examples_stratified_ds.2022A.pkl\"\n",
    "\n",
    "standalone_parameters[\"torch_default_dtype\"] = \"torch.float32\" \n",
    "\n",
    "standalone_parameters[\"batch_size\"]=128\n",
    "\n",
    "standalone_parameters[\"n_epoch\"] = 3\n",
    "\n",
    "standalone_parameters[\"patience\"] = 10\n",
    "\n",
    "standalone_parameters[\"criteria_for_best\"] = \"target_accuracy\"\n",
    "standalone_parameters[\"normalize_source\"] = False\n",
    "standalone_parameters[\"normalize_target\"] = False\n",
    "\n",
    "standalone_parameters[\"x_net\"] =     [\n",
    "    {\"class\": \"nnReshape\", \"kargs\": {\"shape\":[-1, 1, 2, 256]}},\n",
    "    {\"class\": \"Conv2d\", \"kargs\": { \"in_channels\":1, \"out_channels\":256, \"kernel_size\":(1,7), \"bias\":False, \"padding\":(0,3), },},\n",
    "    {\"class\": \"ReLU\", \"kargs\": {\"inplace\": True}},\n",
    "    {\"class\": \"BatchNorm2d\", \"kargs\": {\"num_features\":256}},\n",
    "\n",
    "    {\"class\": \"Conv2d\", \"kargs\": { \"in_channels\":256, \"out_channels\":80, \"kernel_size\":(2,7), \"bias\":True, \"padding\":(0,3), },},\n",
    "    {\"class\": \"ReLU\", \"kargs\": {\"inplace\": True}},\n",
    "    {\"class\": \"BatchNorm2d\", \"kargs\": {\"num_features\":80}},\n",
    "    {\"class\": \"Flatten\", \"kargs\": {}},\n",
    "\n",
    "    {\"class\": \"Linear\", \"kargs\": {\"in_features\": 80*256, \"out_features\": 256}}, # 80 units per IQ pair\n",
    "    {\"class\": \"ReLU\", \"kargs\": {\"inplace\": True}},\n",
    "    {\"class\": \"BatchNorm1d\", \"kargs\": {\"num_features\":256}},\n",
    "\n",
    "    {\"class\": \"Linear\", \"kargs\": {\"in_features\": 256, \"out_features\": len(standalone_parameters[\"labels\"])}},\n",
    "]\n",
    "\n",
    "standalone_parameters[\"NUM_LOGS_PER_EPOCH\"] = 10\n",
    "standalone_parameters[\"BEST_MODEL_PATH\"] = \"./best_model.pth\""
   ]
  },
  {
   "cell_type": "code",
   "execution_count": 4,
   "id": "1bb51107",
   "metadata": {
    "execution": {
     "iopub.execute_input": "2022-03-26T10:15:31.087385Z",
     "iopub.status.busy": "2022-03-26T10:15:31.086220Z",
     "iopub.status.idle": "2022-03-26T10:15:31.090168Z",
     "shell.execute_reply": "2022-03-26T10:15:31.089243Z"
    },
    "papermill": {
     "duration": 0.034666,
     "end_time": "2022-03-26T10:15:31.090389",
     "exception": false,
     "start_time": "2022-03-26T10:15:31.055723",
     "status": "completed"
    },
    "tags": [
     "injected-parameters"
    ]
   },
   "outputs": [],
   "source": [
    "# Parameters\n",
    "parameters = {\n",
    "    \"experiment_name\": \"cnn_2:oracle.run2_limited\",\n",
    "    \"labels\": [\n",
    "        \"3123D52\",\n",
    "        \"3123D65\",\n",
    "        \"3123D79\",\n",
    "        \"3123D80\",\n",
    "        \"3123D54\",\n",
    "        \"3123D70\",\n",
    "        \"3123D7B\",\n",
    "        \"3123D89\",\n",
    "        \"3123D58\",\n",
    "        \"3123D76\",\n",
    "        \"3123D7D\",\n",
    "        \"3123EFE\",\n",
    "        \"3123D64\",\n",
    "        \"3123D78\",\n",
    "        \"3123D7E\",\n",
    "        \"3124E4A\",\n",
    "    ],\n",
    "    \"domains_source\": [8, 32, 50, 14, 20, 26, 38, 44],\n",
    "    \"domains_target\": [8, 32, 50, 14, 20, 26, 38, 44],\n",
    "    \"pickle_name_source\": \"oracle.Run2_10kExamples_stratified_ds.2022A.pkl\",\n",
    "    \"pickle_name_target\": \"oracle.Run2_10kExamples_stratified_ds.2022A.pkl\",\n",
    "    \"device\": \"cuda\",\n",
    "    \"lr\": 0.0001,\n",
    "    \"batch_size\": 128,\n",
    "    \"normalize_source\": False,\n",
    "    \"normalize_target\": False,\n",
    "    \"num_examples_per_domain_per_label_source\": 2000,\n",
    "    \"num_examples_per_domain_per_label_target\": 2000,\n",
    "    \"torch_default_dtype\": \"torch.float32\",\n",
    "    \"n_epoch\": 50,\n",
    "    \"patience\": 3,\n",
    "    \"criteria_for_best\": \"target_accuracy\",\n",
    "    \"x_net\": [\n",
    "        {\"class\": \"nnReshape\", \"kargs\": {\"shape\": [-1, 1, 2, 256]}},\n",
    "        {\n",
    "            \"class\": \"Conv2d\",\n",
    "            \"kargs\": {\n",
    "                \"in_channels\": 1,\n",
    "                \"out_channels\": 256,\n",
    "                \"kernel_size\": [1, 7],\n",
    "                \"bias\": False,\n",
    "                \"padding\": [0, 3],\n",
    "            },\n",
    "        },\n",
    "        {\"class\": \"ReLU\", \"kargs\": {\"inplace\": True}},\n",
    "        {\"class\": \"BatchNorm2d\", \"kargs\": {\"num_features\": 256}},\n",
    "        {\n",
    "            \"class\": \"Conv2d\",\n",
    "            \"kargs\": {\n",
    "                \"in_channels\": 256,\n",
    "                \"out_channels\": 80,\n",
    "                \"kernel_size\": [2, 7],\n",
    "                \"bias\": True,\n",
    "                \"padding\": [0, 3],\n",
    "            },\n",
    "        },\n",
    "        {\"class\": \"ReLU\", \"kargs\": {\"inplace\": True}},\n",
    "        {\"class\": \"BatchNorm2d\", \"kargs\": {\"num_features\": 80}},\n",
    "        {\"class\": \"Flatten\", \"kargs\": {}},\n",
    "        {\"class\": \"Linear\", \"kargs\": {\"in_features\": 20480, \"out_features\": 256}},\n",
    "        {\"class\": \"ReLU\", \"kargs\": {\"inplace\": True}},\n",
    "        {\"class\": \"BatchNorm1d\", \"kargs\": {\"num_features\": 256}},\n",
    "        {\"class\": \"Linear\", \"kargs\": {\"in_features\": 256, \"out_features\": 16}},\n",
    "    ],\n",
    "    \"NUM_LOGS_PER_EPOCH\": 10,\n",
    "    \"BEST_MODEL_PATH\": \"./best_model.pth\",\n",
    "    \"dataset_seed\": 500,\n",
    "    \"seed\": 500,\n",
    "}\n"
   ]
  },
  {
   "cell_type": "code",
   "execution_count": 5,
   "id": "759b56ec",
   "metadata": {
    "execution": {
     "iopub.execute_input": "2022-03-26T10:15:31.135330Z",
     "iopub.status.busy": "2022-03-26T10:15:31.134412Z",
     "iopub.status.idle": "2022-03-26T10:15:31.137310Z",
     "shell.execute_reply": "2022-03-26T10:15:31.136640Z"
    },
    "papermill": {
     "duration": 0.024498,
     "end_time": "2022-03-26T10:15:31.137493",
     "exception": false,
     "start_time": "2022-03-26T10:15:31.112995",
     "status": "completed"
    },
    "tags": []
   },
   "outputs": [],
   "source": [
    "# Set this to True if you want to run this template directly\n",
    "STANDALONE = False\n",
    "if STANDALONE:\n",
    "    print(\"parameters not injected, running with standalone_parameters\")\n",
    "    parameters = standalone_parameters\n",
    "\n",
    "if not 'parameters' in locals() and not 'parameters' in globals():\n",
    "    raise Exception(\"Parameter injection failed\")\n",
    "\n",
    "#Use an easy dict for all the parameters\n",
    "p = EasyDict(parameters)\n",
    "\n",
    "supplied_keys = set(p.keys())\n",
    "\n",
    "if  supplied_keys != required_parameters:\n",
    "    print(\"Parameters are incorrect\")\n",
    "    if len(supplied_keys - required_parameters)>0: print(\"Shouldn't have:\", str(supplied_keys - required_parameters))\n",
    "    if len(required_parameters - supplied_keys)>0: print(\"Need to have:\", str(required_parameters - supplied_keys))\n",
    "    raise RuntimeError(\"Parameters are incorrect\")\n",
    "\n"
   ]
  },
  {
   "cell_type": "code",
   "execution_count": 6,
   "id": "d5c66a71",
   "metadata": {
    "execution": {
     "iopub.execute_input": "2022-03-26T10:15:31.182661Z",
     "iopub.status.busy": "2022-03-26T10:15:31.181746Z",
     "iopub.status.idle": "2022-03-26T10:15:31.185306Z",
     "shell.execute_reply": "2022-03-26T10:15:31.184666Z"
    },
    "papermill": {
     "duration": 0.025558,
     "end_time": "2022-03-26T10:15:31.185450",
     "exception": false,
     "start_time": "2022-03-26T10:15:31.159892",
     "status": "completed"
    },
    "tags": []
   },
   "outputs": [],
   "source": [
    "###################################\n",
    "# Set the RNGs and make it all deterministic\n",
    "###################################\n",
    "np.random.seed(p.seed)\n",
    "random.seed(p.seed)\n",
    "torch.manual_seed(p.seed)\n",
    "\n",
    "torch.use_deterministic_algorithms(True) "
   ]
  },
  {
   "cell_type": "code",
   "execution_count": 7,
   "id": "92a65876",
   "metadata": {
    "execution": {
     "iopub.execute_input": "2022-03-26T10:15:31.223668Z",
     "iopub.status.busy": "2022-03-26T10:15:31.223276Z",
     "iopub.status.idle": "2022-03-26T10:15:31.225808Z",
     "shell.execute_reply": "2022-03-26T10:15:31.225481Z"
    },
    "papermill": {
     "duration": 0.020481,
     "end_time": "2022-03-26T10:15:31.225897",
     "exception": false,
     "start_time": "2022-03-26T10:15:31.205416",
     "status": "completed"
    },
    "tags": []
   },
   "outputs": [],
   "source": [
    "torch.set_default_dtype(eval(p.torch_default_dtype))"
   ]
  },
  {
   "cell_type": "code",
   "execution_count": 8,
   "id": "f1a32f01",
   "metadata": {
    "execution": {
     "iopub.execute_input": "2022-03-26T10:15:31.263392Z",
     "iopub.status.busy": "2022-03-26T10:15:31.263023Z",
     "iopub.status.idle": "2022-03-26T10:15:31.301977Z",
     "shell.execute_reply": "2022-03-26T10:15:31.301242Z"
    },
    "papermill": {
     "duration": 0.057084,
     "end_time": "2022-03-26T10:15:31.302164",
     "exception": false,
     "start_time": "2022-03-26T10:15:31.245080",
     "status": "completed"
    },
    "tags": []
   },
   "outputs": [],
   "source": [
    "###################################\n",
    "# Build the network(s)\n",
    "# Note: It's critical to do this AFTER setting the RNG\n",
    "###################################\n",
    "x_net = build_sequential(p.x_net)"
   ]
  },
  {
   "cell_type": "code",
   "execution_count": 9,
   "id": "a276cd83",
   "metadata": {
    "execution": {
     "iopub.execute_input": "2022-03-26T10:15:31.349119Z",
     "iopub.status.busy": "2022-03-26T10:15:31.348548Z",
     "iopub.status.idle": "2022-03-26T10:15:31.351224Z",
     "shell.execute_reply": "2022-03-26T10:15:31.350662Z"
    },
    "papermill": {
     "duration": 0.020251,
     "end_time": "2022-03-26T10:15:31.351339",
     "exception": false,
     "start_time": "2022-03-26T10:15:31.331088",
     "status": "completed"
    },
    "tags": []
   },
   "outputs": [],
   "source": [
    "start_time_secs = time.time()"
   ]
  },
  {
   "cell_type": "code",
   "execution_count": 10,
   "id": "de702e48",
   "metadata": {
    "execution": {
     "iopub.execute_input": "2022-03-26T10:15:31.395910Z",
     "iopub.status.busy": "2022-03-26T10:15:31.395284Z",
     "iopub.status.idle": "2022-03-26T10:15:43.888286Z",
     "shell.execute_reply": "2022-03-26T10:15:43.887545Z"
    },
    "papermill": {
     "duration": 12.520005,
     "end_time": "2022-03-26T10:15:43.888473",
     "exception": false,
     "start_time": "2022-03-26T10:15:31.368468",
     "status": "completed"
    },
    "tags": []
   },
   "outputs": [],
   "source": [
    "def wrap_in_dataloader(p, ds):\n",
    "    return torch.utils.data.DataLoader(\n",
    "        ds,\n",
    "        batch_size=p.batch_size,\n",
    "        shuffle=True,\n",
    "        num_workers=1,\n",
    "        persistent_workers=True,\n",
    "        prefetch_factor=50,\n",
    "        pin_memory=True\n",
    "    )\n",
    "\n",
    "taf_source = Traditional_Accessor_Factory(\n",
    "    labels=p.labels,\n",
    "    domains=p.domains_source,\n",
    "    num_examples_per_domain_per_label=p.num_examples_per_domain_per_label_source,\n",
    "    pickle_path=os.path.join(get_datasets_base_path(), p.pickle_name_source),\n",
    "    seed=p.dataset_seed\n",
    ")\n",
    "train_original_source, val_original_source, test_original_source = \\\n",
    "    taf_source.get_train(), taf_source.get_val(), taf_source.get_test()\n",
    "\n",
    "\n",
    "taf_target = Traditional_Accessor_Factory(\n",
    "    labels=p.labels,\n",
    "    domains=p.domains_target,\n",
    "    num_examples_per_domain_per_label=p.num_examples_per_domain_per_label_source,\n",
    "    pickle_path=os.path.join(get_datasets_base_path(), p.pickle_name_target),\n",
    "    seed=p.dataset_seed\n",
    ")\n",
    "train_original_target, val_original_target, test_original_target = \\\n",
    "    taf_target.get_train(), taf_target.get_val(), taf_target.get_test()\n",
    "\n",
    "\n",
    "# For CNN We only use X and Y. And we only train on the source.\n",
    "# Properly form the data using a transform lambda and Lazy_Map. Finally wrap them in a dataloader\n",
    "\n",
    "transform_lambda = lambda ex: ex[:2] # Strip the tuple to just (x,y)\n",
    "\n",
    "\n",
    "train_processed_source = wrap_in_dataloader(\n",
    "    p,\n",
    "    Lazy_Map(train_original_source, transform_lambda)\n",
    ")\n",
    "val_processed_source = wrap_in_dataloader(\n",
    "    p,\n",
    "    Lazy_Map(val_original_source, transform_lambda)\n",
    ")\n",
    "test_processed_source = wrap_in_dataloader(\n",
    "    p,\n",
    "    Lazy_Map(test_original_source, transform_lambda)\n",
    ")\n",
    "\n",
    "train_processed_target = wrap_in_dataloader(\n",
    "    p,\n",
    "    Lazy_Map(train_original_target, transform_lambda)\n",
    ")\n",
    "val_processed_target = wrap_in_dataloader(\n",
    "    p,\n",
    "    Lazy_Map(val_original_target, transform_lambda)\n",
    ")\n",
    "test_processed_target  = wrap_in_dataloader(\n",
    "    p,\n",
    "    Lazy_Map(test_original_target, transform_lambda)\n",
    ")\n",
    "\n",
    "\n",
    "\n",
    "datasets = EasyDict({\n",
    "    \"source\": {\n",
    "        \"original\": {\"train\":train_original_source, \"val\":val_original_source, \"test\":test_original_source},\n",
    "        \"processed\": {\"train\":train_processed_source, \"val\":val_processed_source, \"test\":test_processed_source}\n",
    "    },\n",
    "    \"target\": {\n",
    "        \"original\": {\"train\":train_original_target, \"val\":val_original_target, \"test\":test_original_target},\n",
    "        \"processed\": {\"train\":train_processed_target, \"val\":val_processed_target, \"test\":test_processed_target}\n",
    "    },\n",
    "})"
   ]
  },
  {
   "cell_type": "code",
   "execution_count": 11,
   "id": "a11b26bd",
   "metadata": {
    "execution": {
     "iopub.execute_input": "2022-03-26T10:15:43.966909Z",
     "iopub.status.busy": "2022-03-26T10:15:43.966086Z",
     "iopub.status.idle": "2022-03-26T10:15:49.271642Z",
     "shell.execute_reply": "2022-03-26T10:15:49.270770Z"
    },
    "papermill": {
     "duration": 5.364249,
     "end_time": "2022-03-26T10:15:49.271819",
     "exception": false,
     "start_time": "2022-03-26T10:15:43.907570",
     "status": "completed"
    },
    "tags": []
   },
   "outputs": [
    {
     "data": {
      "text/plain": [
       "torch.float32"
      ]
     },
     "execution_count": 11,
     "metadata": {},
     "output_type": "execute_result"
    }
   ],
   "source": [
    "ep = next(iter(test_processed_target))\n",
    "ep[0].dtype"
   ]
  },
  {
   "cell_type": "code",
   "execution_count": 12,
   "id": "19425fad",
   "metadata": {
    "execution": {
     "iopub.execute_input": "2022-03-26T10:15:49.311719Z",
     "iopub.status.busy": "2022-03-26T10:15:49.311325Z",
     "iopub.status.idle": "2022-03-26T10:15:49.356872Z",
     "shell.execute_reply": "2022-03-26T10:15:49.356059Z"
    },
    "papermill": {
     "duration": 0.065271,
     "end_time": "2022-03-26T10:15:49.357030",
     "exception": false,
     "start_time": "2022-03-26T10:15:49.291759",
     "status": "completed"
    },
    "tags": []
   },
   "outputs": [],
   "source": [
    "model = Configurable_Vanilla(\n",
    "    x_net=x_net,\n",
    "    label_loss_object=torch.nn.NLLLoss(),\n",
    "    learning_rate=p.lr\n",
    ")"
   ]
  },
  {
   "cell_type": "code",
   "execution_count": 13,
   "id": "7f6d4f2c",
   "metadata": {
    "execution": {
     "iopub.execute_input": "2022-03-26T10:15:49.396202Z",
     "iopub.status.busy": "2022-03-26T10:15:49.395830Z",
     "iopub.status.idle": "2022-03-26T10:18:20.197545Z",
     "shell.execute_reply": "2022-03-26T10:18:20.196715Z"
    },
    "papermill": {
     "duration": 150.820506,
     "end_time": "2022-03-26T10:18:20.197715",
     "exception": false,
     "start_time": "2022-03-26T10:15:49.377209",
     "status": "completed"
    },
    "tags": []
   },
   "outputs": [
    {
     "name": "stdout",
     "output_type": "stream",
     "text": [
      "epoch: 1, [batch: 1 / 1400], examples_per_second: 653.4575, train_label_loss: 2.7904, \n"
     ]
    },
    {
     "name": "stdout",
     "output_type": "stream",
     "text": [
      "epoch: 1, [batch: 140 / 1400], examples_per_second: 12315.1116, train_label_loss: 2.7389, \n"
     ]
    },
    {
     "name": "stdout",
     "output_type": "stream",
     "text": [
      "epoch: 1, [batch: 280 / 1400], examples_per_second: 12664.7338, train_label_loss: 2.6818, \n"
     ]
    },
    {
     "name": "stdout",
     "output_type": "stream",
     "text": [
      "epoch: 1, [batch: 420 / 1400], examples_per_second: 13227.9596, train_label_loss: 2.6811, \n"
     ]
    },
    {
     "name": "stdout",
     "output_type": "stream",
     "text": [
      "epoch: 1, [batch: 560 / 1400], examples_per_second: 12532.6715, train_label_loss: 2.6397, \n"
     ]
    },
    {
     "name": "stdout",
     "output_type": "stream",
     "text": [
      "epoch: 1, [batch: 700 / 1400], examples_per_second: 12397.0912, train_label_loss: 2.6247, \n"
     ]
    },
    {
     "name": "stdout",
     "output_type": "stream",
     "text": [
      "epoch: 1, [batch: 840 / 1400], examples_per_second: 12540.3643, train_label_loss: 2.5340, \n"
     ]
    },
    {
     "name": "stdout",
     "output_type": "stream",
     "text": [
      "epoch: 1, [batch: 980 / 1400], examples_per_second: 12372.8613, train_label_loss: 2.5607, \n"
     ]
    },
    {
     "name": "stdout",
     "output_type": "stream",
     "text": [
      "epoch: 1, [batch: 1120 / 1400], examples_per_second: 12342.6221, train_label_loss: 2.5465, \n"
     ]
    },
    {
     "name": "stdout",
     "output_type": "stream",
     "text": [
      "epoch: 1, [batch: 1260 / 1400], examples_per_second: 12254.9205, train_label_loss: 2.4578, \n"
     ]
    },
    {
     "name": "stdout",
     "output_type": "stream",
     "text": [
      "=============================================================\n",
      "epoch: 1, source_val_acc_label: 0.1895, source_val_label_loss: 2.4650, target_val_acc_label: 0.1895, target_val_label_loss: 2.4650, \n",
      "=============================================================\n"
     ]
    },
    {
     "name": "stdout",
     "output_type": "stream",
     "text": [
      "New best\n",
      "epoch: 2, [batch: 1 / 1400], examples_per_second: 58.9841, train_label_loss: 2.4207, \n"
     ]
    },
    {
     "name": "stdout",
     "output_type": "stream",
     "text": [
      "epoch: 2, [batch: 140 / 1400], examples_per_second: 12255.0964, train_label_loss: 2.3993, \n"
     ]
    },
    {
     "name": "stdout",
     "output_type": "stream",
     "text": [
      "epoch: 2, [batch: 280 / 1400], examples_per_second: 12553.6330, train_label_loss: 2.3786, \n"
     ]
    },
    {
     "name": "stdout",
     "output_type": "stream",
     "text": [
      "epoch: 2, [batch: 420 / 1400], examples_per_second: 12477.9144, train_label_loss: 2.3801, \n"
     ]
    },
    {
     "name": "stdout",
     "output_type": "stream",
     "text": [
      "epoch: 2, [batch: 560 / 1400], examples_per_second: 12191.1087, train_label_loss: 2.4024, \n"
     ]
    },
    {
     "name": "stdout",
     "output_type": "stream",
     "text": [
      "epoch: 2, [batch: 700 / 1400], examples_per_second: 12214.6988, train_label_loss: 2.3580, \n"
     ]
    },
    {
     "name": "stdout",
     "output_type": "stream",
     "text": [
      "epoch: 2, [batch: 840 / 1400], examples_per_second: 12172.3920, train_label_loss: 2.2144, \n"
     ]
    },
    {
     "name": "stdout",
     "output_type": "stream",
     "text": [
      "epoch: 2, [batch: 980 / 1400], examples_per_second: 12318.9052, train_label_loss: 2.0698, \n"
     ]
    },
    {
     "name": "stdout",
     "output_type": "stream",
     "text": [
      "epoch: 2, [batch: 1120 / 1400], examples_per_second: 12139.6854, train_label_loss: 2.1190, \n"
     ]
    },
    {
     "name": "stdout",
     "output_type": "stream",
     "text": [
      "epoch: 2, [batch: 1260 / 1400], examples_per_second: 12221.0820, train_label_loss: 2.0819, \n"
     ]
    },
    {
     "name": "stdout",
     "output_type": "stream",
     "text": [
      "=============================================================\n",
      "epoch: 2, source_val_acc_label: 0.2878, source_val_label_loss: 2.1149, target_val_acc_label: 0.2878, target_val_label_loss: 2.1149, \n",
      "=============================================================\n"
     ]
    },
    {
     "name": "stdout",
     "output_type": "stream",
     "text": [
      "New best\n",
      "epoch: 3, [batch: 1 / 1400], examples_per_second: 68.7313, train_label_loss: 1.9828, \n"
     ]
    },
    {
     "name": "stdout",
     "output_type": "stream",
     "text": [
      "epoch: 3, [batch: 140 / 1400], examples_per_second: 12547.5852, train_label_loss: 1.8994, \n"
     ]
    },
    {
     "name": "stdout",
     "output_type": "stream",
     "text": [
      "epoch: 3, [batch: 280 / 1400], examples_per_second: 12305.0661, train_label_loss: 1.7805, \n"
     ]
    },
    {
     "name": "stdout",
     "output_type": "stream",
     "text": [
      "epoch: 3, [batch: 420 / 1400], examples_per_second: 12157.4796, train_label_loss: 1.9627, \n"
     ]
    },
    {
     "name": "stdout",
     "output_type": "stream",
     "text": [
      "epoch: 3, [batch: 560 / 1400], examples_per_second: 12449.6693, train_label_loss: 1.8419, \n"
     ]
    },
    {
     "name": "stdout",
     "output_type": "stream",
     "text": [
      "epoch: 3, [batch: 700 / 1400], examples_per_second: 12337.9581, train_label_loss: 1.8181, \n"
     ]
    },
    {
     "name": "stdout",
     "output_type": "stream",
     "text": [
      "epoch: 3, [batch: 840 / 1400], examples_per_second: 12305.5093, train_label_loss: 1.9201, \n"
     ]
    },
    {
     "name": "stdout",
     "output_type": "stream",
     "text": [
      "epoch: 3, [batch: 980 / 1400], examples_per_second: 12375.6869, train_label_loss: 1.9315, \n"
     ]
    },
    {
     "name": "stdout",
     "output_type": "stream",
     "text": [
      "epoch: 3, [batch: 1120 / 1400], examples_per_second: 12348.1456, train_label_loss: 1.6505, \n"
     ]
    },
    {
     "name": "stdout",
     "output_type": "stream",
     "text": [
      "epoch: 3, [batch: 1260 / 1400], examples_per_second: 12613.6458, train_label_loss: 1.5798, \n"
     ]
    },
    {
     "name": "stdout",
     "output_type": "stream",
     "text": [
      "=============================================================\n",
      "epoch: 3, source_val_acc_label: 0.4138, source_val_label_loss: 1.7023, target_val_acc_label: 0.4138, target_val_label_loss: 1.7023, \n",
      "=============================================================\n"
     ]
    },
    {
     "name": "stdout",
     "output_type": "stream",
     "text": [
      "New best\n",
      "epoch: 4, [batch: 1 / 1400], examples_per_second: 69.1404, train_label_loss: 1.5848, \n"
     ]
    },
    {
     "name": "stdout",
     "output_type": "stream",
     "text": [
      "epoch: 4, [batch: 140 / 1400], examples_per_second: 12056.8545, train_label_loss: 1.5781, \n"
     ]
    },
    {
     "name": "stdout",
     "output_type": "stream",
     "text": [
      "epoch: 4, [batch: 280 / 1400], examples_per_second: 12327.0575, train_label_loss: 1.7469, \n"
     ]
    },
    {
     "name": "stdout",
     "output_type": "stream",
     "text": [
      "epoch: 4, [batch: 420 / 1400], examples_per_second: 12048.2507, train_label_loss: 1.6012, \n"
     ]
    },
    {
     "name": "stdout",
     "output_type": "stream",
     "text": [
      "epoch: 4, [batch: 560 / 1400], examples_per_second: 12210.9086, train_label_loss: 1.4147, \n"
     ]
    },
    {
     "name": "stdout",
     "output_type": "stream",
     "text": [
      "epoch: 4, [batch: 700 / 1400], examples_per_second: 11902.3204, train_label_loss: 1.4928, \n"
     ]
    },
    {
     "name": "stdout",
     "output_type": "stream",
     "text": [
      "epoch: 4, [batch: 840 / 1400], examples_per_second: 11958.2877, train_label_loss: 1.8070, \n"
     ]
    },
    {
     "name": "stdout",
     "output_type": "stream",
     "text": [
      "epoch: 4, [batch: 980 / 1400], examples_per_second: 12301.8679, train_label_loss: 1.4490, \n"
     ]
    },
    {
     "name": "stdout",
     "output_type": "stream",
     "text": [
      "epoch: 4, [batch: 1120 / 1400], examples_per_second: 12416.2085, train_label_loss: 1.4156, \n"
     ]
    },
    {
     "name": "stdout",
     "output_type": "stream",
     "text": [
      "epoch: 4, [batch: 1260 / 1400], examples_per_second: 12218.5272, train_label_loss: 1.5287, \n"
     ]
    },
    {
     "name": "stdout",
     "output_type": "stream",
     "text": [
      "=============================================================\n",
      "epoch: 4, source_val_acc_label: 0.4682, source_val_label_loss: 1.5314, target_val_acc_label: 0.4682, target_val_label_loss: 1.5314, \n",
      "=============================================================\n"
     ]
    },
    {
     "name": "stdout",
     "output_type": "stream",
     "text": [
      "New best\n",
      "epoch: 5, [batch: 1 / 1400], examples_per_second: 67.8829, train_label_loss: 1.2754, \n"
     ]
    },
    {
     "name": "stdout",
     "output_type": "stream",
     "text": [
      "epoch: 5, [batch: 140 / 1400], examples_per_second: 12415.7467, train_label_loss: 1.3557, \n"
     ]
    },
    {
     "name": "stdout",
     "output_type": "stream",
     "text": [
      "epoch: 5, [batch: 280 / 1400], examples_per_second: 12384.4185, train_label_loss: 1.3420, \n"
     ]
    },
    {
     "name": "stdout",
     "output_type": "stream",
     "text": [
      "epoch: 5, [batch: 420 / 1400], examples_per_second: 12596.9092, train_label_loss: 1.0076, \n"
     ]
    },
    {
     "name": "stdout",
     "output_type": "stream",
     "text": [
      "epoch: 5, [batch: 560 / 1400], examples_per_second: 12418.8611, train_label_loss: 1.1897, \n"
     ]
    },
    {
     "name": "stdout",
     "output_type": "stream",
     "text": [
      "epoch: 5, [batch: 700 / 1400], examples_per_second: 11575.7328, train_label_loss: 1.1186, \n"
     ]
    },
    {
     "name": "stdout",
     "output_type": "stream",
     "text": [
      "epoch: 5, [batch: 840 / 1400], examples_per_second: 12391.1398, train_label_loss: 1.2153, \n"
     ]
    },
    {
     "name": "stdout",
     "output_type": "stream",
     "text": [
      "epoch: 5, [batch: 980 / 1400], examples_per_second: 12517.7978, train_label_loss: 1.2551, \n"
     ]
    },
    {
     "name": "stdout",
     "output_type": "stream",
     "text": [
      "epoch: 5, [batch: 1120 / 1400], examples_per_second: 12632.0954, train_label_loss: 1.0065, \n"
     ]
    },
    {
     "name": "stdout",
     "output_type": "stream",
     "text": [
      "epoch: 5, [batch: 1260 / 1400], examples_per_second: 11612.1481, train_label_loss: 1.0792, \n"
     ]
    },
    {
     "name": "stdout",
     "output_type": "stream",
     "text": [
      "=============================================================\n",
      "epoch: 5, source_val_acc_label: 0.4958, source_val_label_loss: 1.4473, target_val_acc_label: 0.4958, target_val_label_loss: 1.4473, \n",
      "=============================================================\n"
     ]
    },
    {
     "name": "stdout",
     "output_type": "stream",
     "text": [
      "New best\n",
      "epoch: 6, [batch: 1 / 1400], examples_per_second: 67.9400, train_label_loss: 0.9459, \n"
     ]
    },
    {
     "name": "stdout",
     "output_type": "stream",
     "text": [
      "epoch: 6, [batch: 140 / 1400], examples_per_second: 12692.0528, train_label_loss: 0.8609, \n"
     ]
    },
    {
     "name": "stdout",
     "output_type": "stream",
     "text": [
      "epoch: 6, [batch: 280 / 1400], examples_per_second: 12447.3993, train_label_loss: 0.8725, \n"
     ]
    },
    {
     "name": "stdout",
     "output_type": "stream",
     "text": [
      "epoch: 6, [batch: 420 / 1400], examples_per_second: 12508.3755, train_label_loss: 0.8767, \n"
     ]
    },
    {
     "name": "stdout",
     "output_type": "stream",
     "text": [
      "epoch: 6, [batch: 560 / 1400], examples_per_second: 12596.0690, train_label_loss: 0.8670, \n"
     ]
    },
    {
     "name": "stdout",
     "output_type": "stream",
     "text": [
      "epoch: 6, [batch: 700 / 1400], examples_per_second: 12510.0327, train_label_loss: 0.9503, \n"
     ]
    },
    {
     "name": "stdout",
     "output_type": "stream",
     "text": [
      "epoch: 6, [batch: 840 / 1400], examples_per_second: 12584.1199, train_label_loss: 1.0117, \n"
     ]
    },
    {
     "name": "stdout",
     "output_type": "stream",
     "text": [
      "epoch: 6, [batch: 980 / 1400], examples_per_second: 12661.8408, train_label_loss: 1.2342, \n"
     ]
    },
    {
     "name": "stdout",
     "output_type": "stream",
     "text": [
      "epoch: 6, [batch: 1120 / 1400], examples_per_second: 12572.2228, train_label_loss: 0.9140, \n"
     ]
    },
    {
     "name": "stdout",
     "output_type": "stream",
     "text": [
      "epoch: 6, [batch: 1260 / 1400], examples_per_second: 12440.1495, train_label_loss: 0.8976, \n"
     ]
    },
    {
     "name": "stdout",
     "output_type": "stream",
     "text": [
      "=============================================================\n",
      "epoch: 6, source_val_acc_label: 0.4932, source_val_label_loss: 1.4254, target_val_acc_label: 0.4932, target_val_label_loss: 1.4254, \n",
      "=============================================================\n"
     ]
    },
    {
     "name": "stdout",
     "output_type": "stream",
     "text": [
      "epoch: 7, [batch: 1 / 1400], examples_per_second: 70.7081, train_label_loss: 0.6771, \n"
     ]
    },
    {
     "name": "stdout",
     "output_type": "stream",
     "text": [
      "epoch: 7, [batch: 140 / 1400], examples_per_second: 12453.0904, train_label_loss: 0.6930, \n"
     ]
    },
    {
     "name": "stdout",
     "output_type": "stream",
     "text": [
      "epoch: 7, [batch: 280 / 1400], examples_per_second: 12484.4078, train_label_loss: 0.6685, \n"
     ]
    },
    {
     "name": "stdout",
     "output_type": "stream",
     "text": [
      "epoch: 7, [batch: 420 / 1400], examples_per_second: 12531.1838, train_label_loss: 0.7534, \n"
     ]
    },
    {
     "name": "stdout",
     "output_type": "stream",
     "text": [
      "epoch: 7, [batch: 560 / 1400], examples_per_second: 12525.0257, train_label_loss: 0.7194, \n"
     ]
    },
    {
     "name": "stdout",
     "output_type": "stream",
     "text": [
      "epoch: 7, [batch: 700 / 1400], examples_per_second: 12995.9242, train_label_loss: 0.8806, \n"
     ]
    },
    {
     "name": "stdout",
     "output_type": "stream",
     "text": [
      "epoch: 7, [batch: 840 / 1400], examples_per_second: 12573.1040, train_label_loss: 1.0177, \n"
     ]
    },
    {
     "name": "stdout",
     "output_type": "stream",
     "text": [
      "epoch: 7, [batch: 980 / 1400], examples_per_second: 12563.7327, train_label_loss: 0.7287, \n"
     ]
    },
    {
     "name": "stdout",
     "output_type": "stream",
     "text": [
      "epoch: 7, [batch: 1120 / 1400], examples_per_second: 12357.7465, train_label_loss: 0.7181, \n"
     ]
    },
    {
     "name": "stdout",
     "output_type": "stream",
     "text": [
      "epoch: 7, [batch: 1260 / 1400], examples_per_second: 12450.7087, train_label_loss: 0.6201, \n"
     ]
    },
    {
     "name": "stdout",
     "output_type": "stream",
     "text": [
      "=============================================================\n",
      "epoch: 7, source_val_acc_label: 0.4945, source_val_label_loss: 1.5072, target_val_acc_label: 0.4945, target_val_label_loss: 1.5072, \n",
      "=============================================================\n"
     ]
    },
    {
     "name": "stdout",
     "output_type": "stream",
     "text": [
      "epoch: 8, [batch: 1 / 1400], examples_per_second: 71.6404, train_label_loss: 0.4941, \n"
     ]
    },
    {
     "name": "stdout",
     "output_type": "stream",
     "text": [
      "epoch: 8, [batch: 140 / 1400], examples_per_second: 12669.2834, train_label_loss: 0.7970, \n"
     ]
    },
    {
     "name": "stdout",
     "output_type": "stream",
     "text": [
      "epoch: 8, [batch: 280 / 1400], examples_per_second: 12610.6978, train_label_loss: 0.6984, \n"
     ]
    },
    {
     "name": "stdout",
     "output_type": "stream",
     "text": [
      "epoch: 8, [batch: 420 / 1400], examples_per_second: 12412.8005, train_label_loss: 0.6616, \n"
     ]
    },
    {
     "name": "stdout",
     "output_type": "stream",
     "text": [
      "epoch: 8, [batch: 560 / 1400], examples_per_second: 12432.5338, train_label_loss: 0.5342, \n"
     ]
    },
    {
     "name": "stdout",
     "output_type": "stream",
     "text": [
      "epoch: 8, [batch: 700 / 1400], examples_per_second: 12491.5640, train_label_loss: 0.5945, \n"
     ]
    },
    {
     "name": "stdout",
     "output_type": "stream",
     "text": [
      "epoch: 8, [batch: 840 / 1400], examples_per_second: 12544.8811, train_label_loss: 0.9653, \n"
     ]
    },
    {
     "name": "stdout",
     "output_type": "stream",
     "text": [
      "epoch: 8, [batch: 980 / 1400], examples_per_second: 12594.5599, train_label_loss: 0.5884, \n"
     ]
    },
    {
     "name": "stdout",
     "output_type": "stream",
     "text": [
      "epoch: 8, [batch: 1120 / 1400], examples_per_second: 12443.2387, train_label_loss: 0.5592, \n"
     ]
    },
    {
     "name": "stdout",
     "output_type": "stream",
     "text": [
      "epoch: 8, [batch: 1260 / 1400], examples_per_second: 12555.7217, train_label_loss: 0.5086, \n"
     ]
    },
    {
     "name": "stdout",
     "output_type": "stream",
     "text": [
      "=============================================================\n",
      "epoch: 8, source_val_acc_label: 0.4867, source_val_label_loss: 1.5639, target_val_acc_label: 0.4867, target_val_label_loss: 1.5639, \n",
      "=============================================================\n"
     ]
    },
    {
     "name": "stdout",
     "output_type": "stream",
     "text": [
      "epoch: 9, [batch: 1 / 1400], examples_per_second: 71.5693, train_label_loss: 0.3812, \n"
     ]
    },
    {
     "name": "stdout",
     "output_type": "stream",
     "text": [
      "epoch: 9, [batch: 140 / 1400], examples_per_second: 12697.4020, train_label_loss: 0.3700, \n"
     ]
    },
    {
     "name": "stdout",
     "output_type": "stream",
     "text": [
      "epoch: 9, [batch: 280 / 1400], examples_per_second: 12560.7722, train_label_loss: 0.5276, \n"
     ]
    },
    {
     "name": "stdout",
     "output_type": "stream",
     "text": [
      "epoch: 9, [batch: 420 / 1400], examples_per_second: 12470.5876, train_label_loss: 0.4318, \n"
     ]
    },
    {
     "name": "stdout",
     "output_type": "stream",
     "text": [
      "epoch: 9, [batch: 560 / 1400], examples_per_second: 12672.1987, train_label_loss: 0.4424, \n"
     ]
    },
    {
     "name": "stdout",
     "output_type": "stream",
     "text": [
      "epoch: 9, [batch: 700 / 1400], examples_per_second: 12855.5589, train_label_loss: 0.3551, \n"
     ]
    },
    {
     "name": "stdout",
     "output_type": "stream",
     "text": [
      "epoch: 9, [batch: 840 / 1400], examples_per_second: 12528.0633, train_label_loss: 0.4193, \n"
     ]
    },
    {
     "name": "stdout",
     "output_type": "stream",
     "text": [
      "epoch: 9, [batch: 980 / 1400], examples_per_second: 12501.9029, train_label_loss: 0.4082, \n"
     ]
    },
    {
     "name": "stdout",
     "output_type": "stream",
     "text": [
      "epoch: 9, [batch: 1120 / 1400], examples_per_second: 12386.1798, train_label_loss: 0.6307, \n"
     ]
    },
    {
     "name": "stdout",
     "output_type": "stream",
     "text": [
      "epoch: 9, [batch: 1260 / 1400], examples_per_second: 12445.8349, train_label_loss: 0.3950, \n"
     ]
    },
    {
     "name": "stdout",
     "output_type": "stream",
     "text": [
      "=============================================================\n",
      "epoch: 9, source_val_acc_label: 0.4764, source_val_label_loss: 1.6825, target_val_acc_label: 0.4764, target_val_label_loss: 1.6825, \n",
      "=============================================================\n"
     ]
    },
    {
     "name": "stdout",
     "output_type": "stream",
     "text": [
      "Patience (3) exhausted\n"
     ]
    }
   ],
   "source": [
    "jig = Vanilla_Train_Eval_Test_Jig(\n",
    "    model=model,\n",
    "    path_to_best_model=p.BEST_MODEL_PATH,\n",
    "    device=p.device,\n",
    "    label_loss_object=torch.nn.NLLLoss(),\n",
    ")\n",
    "\n",
    "jig.train(\n",
    "    train_iterable=datasets.source.processed.train,\n",
    "    source_val_iterable=datasets.source.processed.val,\n",
    "    target_val_iterable=datasets.target.processed.val,\n",
    "    patience=p.patience,\n",
    "    num_epochs=p.n_epoch,\n",
    "    num_logs_per_epoch=p.NUM_LOGS_PER_EPOCH,\n",
    "    criteria_for_best=p.criteria_for_best\n",
    ")"
   ]
  },
  {
   "cell_type": "code",
   "execution_count": 14,
   "id": "4bc2ac17",
   "metadata": {
    "execution": {
     "iopub.execute_input": "2022-03-26T10:18:20.292765Z",
     "iopub.status.busy": "2022-03-26T10:18:20.292394Z",
     "iopub.status.idle": "2022-03-26T10:18:20.294883Z",
     "shell.execute_reply": "2022-03-26T10:18:20.295184Z"
    },
    "papermill": {
     "duration": 0.050142,
     "end_time": "2022-03-26T10:18:20.295267",
     "exception": false,
     "start_time": "2022-03-26T10:18:20.245125",
     "status": "completed"
    },
    "tags": []
   },
   "outputs": [],
   "source": [
    "total_experiment_time_secs = time.time() - start_time_secs"
   ]
  },
  {
   "cell_type": "code",
   "execution_count": 15,
   "id": "cae88f23",
   "metadata": {
    "execution": {
     "iopub.execute_input": "2022-03-26T10:18:20.394940Z",
     "iopub.status.busy": "2022-03-26T10:18:20.394354Z",
     "iopub.status.idle": "2022-03-26T10:18:41.375413Z",
     "shell.execute_reply": "2022-03-26T10:18:41.375780Z"
    },
    "papermill": {
     "duration": 21.032982,
     "end_time": "2022-03-26T10:18:41.375930",
     "exception": false,
     "start_time": "2022-03-26T10:18:20.342948",
     "status": "completed"
    },
    "tags": []
   },
   "outputs": [],
   "source": [
    "source_test_label_accuracy, source_test_label_loss = jig.test(datasets.source.processed.test)\n",
    "target_test_label_accuracy, target_test_label_loss = jig.test(datasets.target.processed.test)\n",
    "\n",
    "source_val_label_accuracy, source_val_label_loss = jig.test(datasets.source.processed.val)\n",
    "target_val_label_accuracy, target_val_label_loss = jig.test(datasets.target.processed.val)\n",
    "\n",
    "history = jig.get_history()\n",
    "\n",
    "total_epochs_trained = len(history[\"epoch_indices\"])\n",
    "\n",
    "val_dl = wrap_in_dataloader(p, Sequence_Aggregator((datasets.source.original.val, datasets.target.original.val)))\n",
    "\n",
    "confusion = confusion_by_domain_over_dataloader(model, p.device, val_dl, forward_uses_domain=False)\n",
    "per_domain_accuracy = per_domain_accuracy_from_confusion(confusion)\n",
    "\n",
    "# Add a key to per_domain_accuracy for if it was a source domain\n",
    "for domain, accuracy in per_domain_accuracy.items():\n",
    "    per_domain_accuracy[domain] = {\n",
    "        \"accuracy\": accuracy,\n",
    "        \"source?\": domain in p.domains_source\n",
    "    }\n",
    "\n",
    "# Do an independent accuracy assesment JUST TO BE SURE!\n",
    "# _source_test_label_accuracy = independent_accuracy_assesment(model, datasets.source.processed.test, p.device)\n",
    "# _target_test_label_accuracy = independent_accuracy_assesment(model, datasets.target.processed.test, p.device)\n",
    "# _source_val_label_accuracy = independent_accuracy_assesment(model, datasets.source.processed.val, p.device)\n",
    "# _target_val_label_accuracy = independent_accuracy_assesment(model, datasets.target.processed.val, p.device)\n",
    "\n",
    "# assert(_source_test_label_accuracy == source_test_label_accuracy)\n",
    "# assert(_target_test_label_accuracy == target_test_label_accuracy)\n",
    "# assert(_source_val_label_accuracy == source_val_label_accuracy)\n",
    "# assert(_target_val_label_accuracy == target_val_label_accuracy)\n",
    "\n",
    "###################################\n",
    "# Write out the results\n",
    "###################################\n",
    "\n",
    "experiment = {\n",
    "    \"experiment_name\": p.experiment_name,\n",
    "    \"parameters\": p,\n",
    "    \"results\": {\n",
    "        \"source_test_label_accuracy\": source_test_label_accuracy,\n",
    "        \"source_test_label_loss\": source_test_label_loss,\n",
    "        \"target_test_label_accuracy\": target_test_label_accuracy,\n",
    "        \"target_test_label_loss\": target_test_label_loss,\n",
    "        \"source_val_label_accuracy\": source_val_label_accuracy,\n",
    "        \"source_val_label_loss\": source_val_label_loss,\n",
    "        \"target_val_label_accuracy\": target_val_label_accuracy,\n",
    "        \"target_val_label_loss\": target_val_label_loss,\n",
    "        \"total_epochs_trained\": total_epochs_trained,\n",
    "        \"total_experiment_time_secs\": total_experiment_time_secs,\n",
    "        \"confusion\": confusion,\n",
    "        \"per_domain_accuracy\": per_domain_accuracy,\n",
    "    },\n",
    "    \"history\": history,\n",
    "    \"dataset_metrics\": get_dataset_metrics(datasets, \"cnn\"),\n",
    "}"
   ]
  },
  {
   "cell_type": "code",
   "execution_count": 16,
   "id": "74c318cf",
   "metadata": {
    "execution": {
     "iopub.execute_input": "2022-03-26T10:18:41.475441Z",
     "iopub.status.busy": "2022-03-26T10:18:41.474706Z",
     "iopub.status.idle": "2022-03-26T10:18:41.677685Z",
     "shell.execute_reply": "2022-03-26T10:18:41.677360Z"
    },
    "papermill": {
     "duration": 0.258988,
     "end_time": "2022-03-26T10:18:41.677767",
     "exception": false,
     "start_time": "2022-03-26T10:18:41.418779",
     "status": "completed"
    },
    "tags": []
   },
   "outputs": [
    {
     "data": {
      "text/plain": [
       "<AxesSubplot:title={'center':'Source Train Label Loss vs Source Val Label Loss'}, xlabel='Epoch'>"
      ]
     },
     "execution_count": 16,
     "metadata": {},
     "output_type": "execute_result"
    },
    {
     "data": {
      "image/png": "[encoded data removed]",
      "text/plain": [
       "<Figure size 1080x504 with 1 Axes>"
      ]
     },
     "metadata": {
      "needs_background": "light"
     },
     "output_type": "display_data"
    }
   ],
   "source": [
    "get_loss_curve(experiment)"
   ]
  },
  {
   "cell_type": "code",
   "execution_count": 17,
   "id": "59376601",
   "metadata": {
    "execution": {
     "iopub.execute_input": "2022-03-26T10:18:41.785625Z",
     "iopub.status.busy": "2022-03-26T10:18:41.768481Z",
     "iopub.status.idle": "2022-03-26T10:18:42.061775Z",
     "shell.execute_reply": "2022-03-26T10:18:42.062082Z"
    },
    "papermill": {
     "duration": 0.342387,
     "end_time": "2022-03-26T10:18:42.062167",
     "exception": false,
     "start_time": "2022-03-26T10:18:41.719780",
     "status": "completed"
    },
    "tags": []
   },
   "outputs": [
    {
     "data": {
      "text/plain": [
       "<AxesSubplot:title={'center':'Results'}>"
      ]
     },
     "execution_count": 17,
     "metadata": {},
     "output_type": "execute_result"
    },
    {
     "data": {
      "image/png": "[encoded data removed]",
      "text/plain": [
       "<Figure size 1080x504 with 1 Axes>"
      ]
     },
     "metadata": {
      "needs_background": "light"
     },
     "output_type": "display_data"
    }
   ],
   "source": [
    "get_results_table(experiment)"
   ]
  },
  {
   "cell_type": "code",
   "execution_count": 18,
   "id": "e80c5c98",
   "metadata": {
    "execution": {
     "iopub.execute_input": "2022-03-26T10:18:42.174727Z",
     "iopub.status.busy": "2022-03-26T10:18:42.174112Z",
     "iopub.status.idle": "2022-03-26T10:18:42.329265Z",
     "shell.execute_reply": "2022-03-26T10:18:42.329569Z"
    },
    "papermill": {
     "duration": 0.221709,
     "end_time": "2022-03-26T10:18:42.329652",
     "exception": false,
     "start_time": "2022-03-26T10:18:42.107943",
     "status": "completed"
    },
    "tags": []
   },
   "outputs": [
    {
     "data": {
      "text/plain": [
       "<AxesSubplot:title={'center':'Per Domain Accuracy'}, xlabel='domain'>"
      ]
     },
     "execution_count": 18,
     "metadata": {},
     "output_type": "execute_result"
    },
    {
     "data": {
      "image/png": "[encoded data removed]",
      "text/plain": [
       "<Figure size 1080x504 with 1 Axes>"
      ]
     },
     "metadata": {
      "needs_background": "light"
     },
     "output_type": "display_data"
    }
   ],
   "source": [
    "get_domain_accuracies(experiment)"
   ]
  },
  {
   "cell_type": "code",
   "execution_count": 19,
   "id": "086fdd10",
   "metadata": {
    "execution": {
     "iopub.execute_input": "2022-03-26T10:18:42.426351Z",
     "iopub.status.busy": "2022-03-26T10:18:42.425982Z",
     "iopub.status.idle": "2022-03-26T10:18:42.428136Z",
     "shell.execute_reply": "2022-03-26T10:18:42.427820Z"
    },
    "papermill": {
     "duration": 0.051942,
     "end_time": "2022-03-26T10:18:42.428207",
     "exception": false,
     "start_time": "2022-03-26T10:18:42.376265",
     "status": "completed"
    },
    "tags": []
   },
   "outputs": [
    {
     "name": "stdout",
     "output_type": "stream",
     "text": [
      "Source Test Label Accuracy: 0.49450520833333333 Target Test Label Accuracy: 0.49450520833333333\n",
      "Source Val Label Accuracy: 0.49583333333333335 Target Val Label Accuracy: 0.49583333333333335\n"
     ]
    }
   ],
   "source": [
    "print(\"Source Test Label Accuracy:\", experiment[\"results\"][\"source_test_label_accuracy\"], \"Target Test Label Accuracy:\", experiment[\"results\"][\"target_test_label_accuracy\"])\n",
    "print(\"Source Val Label Accuracy:\", experiment[\"results\"][\"source_val_label_accuracy\"], \"Target Val Label Accuracy:\", experiment[\"results\"][\"target_val_label_accuracy\"])"
   ]
  },
  {
   "cell_type": "code",
   "execution_count": 20,
   "id": "9f450536",
   "metadata": {
    "execution": {
     "iopub.execute_input": "2022-03-26T10:18:42.528887Z",
     "iopub.status.busy": "2022-03-26T10:18:42.528518Z",
     "iopub.status.idle": "2022-03-26T10:18:42.530245Z",
     "shell.execute_reply": "2022-03-26T10:18:42.530551Z"
    },
    "papermill": {
     "duration": 0.052557,
     "end_time": "2022-03-26T10:18:42.530634",
     "exception": false,
     "start_time": "2022-03-26T10:18:42.478077",
     "status": "completed"
    },
    "tags": [
     "experiment_json"
    ]
   },
   "outputs": [
    {
     "data": {
      "text/plain": [
       "'{\"experiment_name\": \"cnn_2:oracle.run2_limited\", \"parameters\": {\"experiment_name\": \"cnn_2:oracle.run2_limited\", \"labels\": [\"3123D52\", \"3123D65\", \"3123D79\", \"3123D80\", \"3123D54\", \"3123D70\", \"3123D7B\", \"3123D89\", \"3123D58\", \"3123D76\", \"3123D7D\", \"3123EFE\", \"3123D64\", \"3123D78\", \"3123D7E\", \"3124E4A\"], \"domains_source\": [8, 32, 50, 14, 20, 26, 38, 44], \"domains_target\": [8, 32, 50, 14, 20, 26, 38, 44], \"pickle_name_source\": \"oracle.Run2_10kExamples_stratified_ds.2022A.pkl\", \"pickle_name_target\": \"oracle.Run2_10kExamples_stratified_ds.2022A.pkl\", \"device\": \"cuda\", \"lr\": 0.0001, \"batch_size\": 128, \"normalize_source\": false, \"normalize_target\": false, \"num_examples_per_domain_per_label_source\": 2000, \"num_examples_per_domain_per_label_target\": 2000, \"torch_default_dtype\": \"torch.float32\", \"n_epoch\": 50, \"patience\": 3, \"criteria_for_best\": \"target_accuracy\", \"x_net\": [{\"class\": \"nnReshape\", \"kargs\": {\"shape\": [-1, 1, 2, 256]}}, {\"class\": \"Conv2d\", \"kargs\": {\"in_channels\": 1, \"out_channels\": 256, \"kernel_size\": [1, 7], \"bias\": false, \"padding\": [0, 3]}}, {\"class\": \"ReLU\", \"kargs\": {\"inplace\": true}}, {\"class\": \"BatchNorm2d\", \"kargs\": {\"num_features\": 256}}, {\"class\": \"Conv2d\", \"kargs\": {\"in_channels\": 256, \"out_channels\": 80, \"kernel_size\": [2, 7], \"bias\": true, \"padding\": [0, 3]}}, {\"class\": \"ReLU\", \"kargs\": {\"inplace\": true}}, {\"class\": \"BatchNorm2d\", \"kargs\": {\"num_features\": 80}}, {\"class\": \"Flatten\", \"kargs\": {}}, {\"class\": \"Linear\", \"kargs\": {\"in_features\": 20480, \"out_features\": 256}}, {\"class\": \"ReLU\", \"kargs\": {\"inplace\": true}}, {\"class\": \"BatchNorm1d\", \"kargs\": {\"num_features\": 256}}, {\"class\": \"Linear\", \"kargs\": {\"in_features\": 256, \"out_features\": 16}}], \"NUM_LOGS_PER_EPOCH\": 10, \"BEST_MODEL_PATH\": \"./best_model.pth\", \"dataset_seed\": 500, \"seed\": 500}, \"results\": {\"source_test_label_accuracy\": 0.49450520833333333, \"source_test_label_loss\": 1.4490079394976298, \"target_test_label_accuracy\": 0.49450520833333333, \"target_test_label_loss\": 1.4490079192320506, \"source_val_label_accuracy\": 0.49583333333333335, \"source_val_label_loss\": 1.4473359453678132, \"target_val_label_accuracy\": 0.49583333333333335, \"target_val_label_loss\": 1.4473359370231629, \"total_epochs_trained\": 9, \"total_experiment_time_secs\": 168.94338583946228, \"confusion\": {\"8\": {\"10\": {\"10\": 136, \"13\": 118, \"5\": 322, \"1\": 22, \"9\": 2}, \"6\": {\"1\": 18, \"14\": 174, \"8\": 40, \"7\": 28, \"6\": 218, \"4\": 102, \"11\": 20}, \"1\": {\"1\": 392, \"10\": 48, \"13\": 34, \"5\": 84, \"14\": 34, \"7\": 4, \"6\": 2, \"11\": 2}, \"9\": {\"9\": 600}, \"12\": {\"3\": 46, \"12\": 174, \"15\": 200, \"4\": 46, \"10\": 48, \"9\": 2, \"8\": 20, \"7\": 36, \"2\": 14, \"5\": 6, \"14\": 6, \"1\": 2}, \"4\": {\"4\": 216, \"7\": 178, \"14\": 60, \"13\": 34, \"1\": 28, \"5\": 20, \"11\": 12, \"6\": 28, \"9\": 2, \"10\": 20, \"12\": 2}, \"15\": {\"10\": 58, \"15\": 394, \"8\": 10, \"3\": 36, \"12\": 62, \"2\": 18, \"0\": 4, \"4\": 6, \"14\": 6, \"1\": 4, \"5\": 2}, \"3\": {\"3\": 412, \"10\": 94, \"0\": 68, \"4\": 20, \"2\": 2, \"9\": 4}, \"2\": {\"2\": 352, \"9\": 134, \"15\": 58, \"13\": 18, \"5\": 10, \"12\": 12, \"3\": 4, \"1\": 10, \"0\": 2}, \"5\": {\"10\": 86, \"5\": 418, \"13\": 36, \"1\": 58, \"14\": 2}, \"7\": {\"7\": 258, \"4\": 156, \"13\": 76, \"11\": 8, \"6\": 8, \"5\": 22, \"9\": 2, \"1\": 10, \"10\": 42, \"12\": 10, \"14\": 6, \"8\": 2}, \"8\": {\"14\": 16, \"11\": 192, \"8\": 318, \"6\": 48, \"4\": 12, \"1\": 14}, \"14\": {\"14\": 418, \"5\": 14, \"1\": 64, \"4\": 38, \"6\": 54, \"10\": 4, \"7\": 4, \"8\": 2, \"11\": 2}, \"0\": {\"0\": 568, \"14\": 28, \"8\": 2, \"6\": 2}, \"13\": {\"13\": 208, \"12\": 6, \"5\": 162, \"10\": 114, \"1\": 96, \"4\": 6, \"15\": 2, \"2\": 2, \"7\": 4}, \"11\": {\"8\": 216, \"11\": 312, \"7\": 14, \"12\": 30, \"6\": 10, \"4\": 8, \"14\": 4, \"13\": 2, \"10\": 2, \"1\": 2}}, \"26\": {\"7\": {\"2\": 36, \"13\": 142, \"3\": 132, \"7\": 120, \"5\": 38, \"9\": 56, \"8\": 22, \"6\": 12, \"10\": 6, \"14\": 10, \"4\": 10, \"15\": 10, \"0\": 6}, \"3\": {\"3\": 310, \"2\": 44, \"15\": 22, \"13\": 64, \"8\": 4, \"7\": 112, \"9\": 8, \"4\": 12, \"5\": 14, \"14\": 2, \"10\": 6, \"0\": 2}, \"1\": {\"10\": 60, \"1\": 280, \"14\": 198, \"0\": 26, \"15\": 4, \"5\": 22, \"9\": 2, \"6\": 8}, \"13\": {\"5\": 50, \"13\": 330, \"9\": 148, \"6\": 10, \"8\": 18, \"3\": 6, \"7\": 24, \"11\": 2, \"10\": 2, \"12\": 2, \"2\": 8}, \"5\": {\"5\": 416, \"11\": 36, \"6\": 60, \"14\": 38, \"13\": 2, \"9\": 34, \"15\": 6, \"2\": 2, \"0\": 4, \"10\": 2}, \"6\": {\"9\": 52, \"1\": 6, \"5\": 240, \"6\": 206, \"14\": 44, \"10\": 12, \"11\": 20, \"12\": 6, \"0\": 10, \"15\": 2, \"8\": 2}, \"15\": {\"5\": 92, \"6\": 50, \"15\": 302, \"8\": 24, \"2\": 24, \"7\": 30, \"9\": 20, \"4\": 2, \"13\": 34, \"10\": 4, \"14\": 10, \"11\": 2, \"3\": 2, \"0\": 2, \"1\": 2}, \"9\": {\"2\": 30, \"5\": 44, \"13\": 166, \"7\": 70, \"6\": 42, \"9\": 170, \"3\": 12, \"8\": 26, \"15\": 14, \"0\": 8, \"10\": 18}, \"8\": {\"10\": 72, \"8\": 46, \"2\": 60, \"6\": 58, \"5\": 44, \"13\": 54, \"15\": 44, \"7\": 42, \"14\": 38, \"3\": 10, \"9\": 86, \"0\": 42, \"12\": 2, \"4\": 2}, \"4\": {\"3\": 438, \"4\": 110, \"10\": 20, \"2\": 12, \"13\": 10, \"14\": 4, \"7\": 4, \"0\": 2}, \"10\": {\"14\": 106, \"10\": 190, \"6\": 82, \"0\": 76, \"9\": 28, \"1\": 38, \"12\": 22, \"15\": 18, \"8\": 12, \"5\": 22, \"11\": 2, \"2\": 4}, \"0\": {\"15\": 58, \"5\": 10, \"10\": 122, \"14\": 150, \"6\": 76, \"7\": 4, \"0\": 114, \"1\": 36, \"12\": 2, \"9\": 18, \"8\": 10}, \"12\": {\"12\": 562, \"9\": 4, \"6\": 14, \"11\": 6, \"10\": 14}, \"2\": {\"15\": 68, \"5\": 76, \"9\": 90, \"7\": 108, \"0\": 12, \"2\": 58, \"6\": 18, \"13\": 74, \"3\": 38, \"8\": 24, \"10\": 10, \"14\": 22, \"4\": 2}, \"11\": {\"6\": 252, \"11\": 318, \"12\": 24, \"5\": 6}, \"14\": {\"14\": 260, \"0\": 54, \"1\": 108, \"5\": 44, \"10\": 60, \"6\": 46, \"9\": 10, \"8\": 4, \"15\": 14}}, \"50\": {\"15\": {\"4\": 110, \"0\": 24, \"5\": 130, \"15\": 220, \"6\": 52, \"14\": 16, \"7\": 32, \"8\": 10, \"9\": 6}, \"7\": {\"7\": 516, \"4\": 48, \"14\": 34, \"5\": 2}, \"14\": {\"14\": 428, \"9\": 88, \"6\": 52, \"2\": 30, \"0\": 2}, \"12\": {\"9\": 398, \"12\": 128, \"5\": 26, \"15\": 46, \"0\": 2}, \"10\": {\"10\": 320, \"1\": 204, \"0\": 32, \"13\": 40, \"12\": 4}, \"11\": {\"11\": 26, \"15\": 524, \"9\": 6, \"5\": 38, \"6\": 4, \"14\": 2}, \"4\": {\"7\": 332, \"4\": 174, \"14\": 54, \"5\": 38, \"8\": 2}, \"9\": {\"0\": 12, \"9\": 566, \"15\": 8, \"5\": 6, \"12\": 6, \"6\": 2}, \"5\": {\"5\": 220, \"14\": 98, \"7\": 156, \"4\": 102, \"2\": 20, \"6\": 2, \"15\": 2}, \"13\": {\"8\": 48, \"12\": 62, \"13\": 324, \"1\": 144, \"2\": 2, \"15\": 4, \"6\": 2, \"10\": 6, \"5\": 8}, \"8\": {\"8\": 544, \"1\": 38, \"13\": 10, \"3\": 6, \"0\": 2}, \"0\": {\"2\": 66, \"0\": 410, \"10\": 40, \"1\": 74, \"6\": 4, \"15\": 2, \"9\": 4}, \"2\": {\"2\": 454, \"6\": 20, \"0\": 88, \"9\": 32, \"14\": 4, \"12\": 2}, \"6\": {\"5\": 436, \"14\": 24, \"6\": 36, \"15\": 42, \"4\": 28, \"8\": 8, \"7\": 8, \"2\": 18}, \"3\": {\"2\": 56, \"3\": 534, \"8\": 10}, \"1\": {\"1\": 254, \"15\": 282, \"13\": 6, \"6\": 14, \"0\": 4, \"12\": 10, \"5\": 24, \"11\": 4, \"8\": 2}}, \"20\": {\"12\": {\"15\": 74, \"4\": 18, \"7\": 78, \"12\": 130, \"2\": 104, \"13\": 100, \"3\": 34, \"1\": 6, \"10\": 4, \"9\": 36, \"5\": 14, \"11\": 2}, \"10\": {\"7\": 182, \"12\": 136, \"10\": 102, \"4\": 58, \"11\": 20, \"6\": 28, \"2\": 2, \"8\": 22, \"3\": 40, \"15\": 6, \"1\": 2, \"14\": 2}, \"11\": {\"2\": 42, \"9\": 200, \"8\": 30, \"11\": 144, \"5\": 82, \"4\": 10, \"0\": 48, \"1\": 8, \"3\": 34, \"15\": 2}, \"5\": {\"5\": 70, \"3\": 78, \"2\": 194, \"15\": 102, \"9\": 68, \"12\": 28, \"7\": 24, \"13\": 4, \"1\": 14, \"11\": 6, \"4\": 6, \"0\": 2, \"10\": 4}, \"8\": {\"2\": 38, \"4\": 58, \"8\": 110, \"14\": 96, \"10\": 18, \"15\": 60, \"3\": 116, \"0\": 60, \"12\": 12, \"5\": 28, \"11\": 2, \"7\": 2}, \"7\": {\"4\": 52, \"12\": 78, \"7\": 232, \"2\": 28, \"6\": 2, \"3\": 106, \"14\": 6, \"5\": 18, \"11\": 24, \"1\": 10, \"15\": 20, \"9\": 12, \"10\": 8, \"13\": 4}, \"1\": {\"2\": 280, \"9\": 180, \"15\": 98, \"1\": 14, \"3\": 14, \"5\": 6, \"0\": 4, \"12\": 4}, \"6\": {\"6\": 318, \"7\": 130, \"4\": 8, \"10\": 56, \"14\": 12, \"3\": 10, \"8\": 18, \"12\": 28, \"11\": 14, \"15\": 2, \"1\": 2, \"5\": 2}, \"2\": {\"2\": 226, \"9\": 96, \"1\": 14, \"5\": 60, \"15\": 88, \"3\": 60, \"7\": 20, \"4\": 14, \"12\": 14, \"13\": 8}, \"9\": {\"15\": 114, \"12\": 20, \"9\": 114, \"13\": 20, \"2\": 204, \"3\": 50, \"5\": 46, \"7\": 18, \"1\": 8, \"10\": 2, \"4\": 4}, \"14\": {\"14\": 314, \"8\": 106, \"12\": 20, \"15\": 28, \"3\": 24, \"4\": 44, \"10\": 24, \"2\": 12, \"5\": 16, \"7\": 4, \"13\": 2, \"0\": 4, \"6\": 2}, \"3\": {\"9\": 36, \"15\": 78, \"7\": 64, \"1\": 10, \"3\": 104, \"5\": 58, \"2\": 136, \"13\": 16, \"12\": 50, \"4\": 34, \"10\": 8, \"11\": 6}, \"13\": {\"9\": 114, \"12\": 60, \"13\": 214, \"2\": 108, \"3\": 12, \"5\": 10, \"4\": 6, \"7\": 26, \"15\": 42, \"11\": 6, \"1\": 2}, \"4\": {\"15\": 184, \"12\": 160, \"7\": 56, \"1\": 4, \"4\": 44, \"3\": 54, \"10\": 18, \"2\": 48, \"13\": 14, \"5\": 10, \"14\": 2, \"9\": 6}, \"0\": {\"9\": 148, \"3\": 84, \"5\": 14, \"2\": 110, \"0\": 182, \"10\": 4, \"8\": 8, \"15\": 38, \"4\": 6, \"12\": 6}, \"15\": {\"12\": 26, \"2\": 206, \"15\": 90, \"9\": 182, \"7\": 12, \"13\": 24, \"3\": 18, \"1\": 8, \"5\": 24, \"4\": 4, \"11\": 6}}, \"32\": {\"4\": {\"11\": 174, \"4\": 116, \"3\": 78, \"8\": 60, \"0\": 86, \"14\": 20, \"6\": 2, \"12\": 4, \"2\": 10, \"7\": 6, \"13\": 26, \"15\": 16, \"1\": 2}, \"8\": {\"0\": 40, \"8\": 290, \"11\": 18, \"2\": 64, \"15\": 92, \"1\": 68, \"4\": 4, \"5\": 2, \"14\": 6, \"7\": 6, \"12\": 6, \"3\": 4}, \"12\": {\"12\": 338, \"2\": 2, \"6\": 112, \"1\": 30, \"11\": 20, \"10\": 68, \"14\": 8, \"5\": 4, \"0\": 14, \"9\": 4}, \"2\": {\"2\": 216, \"0\": 88, \"11\": 60, \"14\": 114, \"7\": 44, \"9\": 8, \"5\": 30, \"15\": 6, \"6\": 8, \"1\": 20, \"4\": 2, \"8\": 2, \"12\": 2}, \"10\": {\"10\": 596, \"1\": 2, \"12\": 2}, \"7\": {\"1\": 114, \"12\": 38, \"7\": 338, \"3\": 12, \"8\": 6, \"2\": 48, \"11\": 14, \"14\": 4, \"5\": 8, \"0\": 14, \"4\": 2, \"9\": 2}, \"3\": {\"3\": 484, \"15\": 4, \"13\": 86, \"8\": 12, \"12\": 8, \"4\": 4, \"11\": 2}, \"6\": {\"6\": 484, \"12\": 14, \"11\": 102}, \"9\": {\"0\": 20, \"14\": 240, \"6\": 74, \"5\": 2, \"2\": 116, \"9\": 134, \"11\": 4, \"1\": 6, \"15\": 4}, \"5\": {\"1\": 46, \"15\": 52, \"9\": 224, \"5\": 206, \"12\": 18, \"14\": 2, \"2\": 26, \"7\": 18, \"0\": 2, \"8\": 2, \"11\": 2, \"6\": 2}, \"1\": {\"1\": 500, \"8\": 90, \"13\": 2, \"10\": 6, \"3\": 2}, \"0\": {\"1\": 36, \"2\": 54, \"14\": 70, \"0\": 160, \"11\": 124, \"7\": 26, \"4\": 18, \"8\": 64, \"15\": 24, \"6\": 16, \"5\": 6, \"3\": 2}, \"11\": {\"4\": 58, \"11\": 342, \"15\": 12, \"14\": 60, \"3\": 32, \"13\": 34, \"2\": 8, \"6\": 2, \"0\": 30, \"7\": 12, \"8\": 10}, \"13\": {\"11\": 78, \"13\": 338, \"3\": 108, \"4\": 34, \"0\": 10, \"15\": 22, \"7\": 2, \"8\": 4, \"14\": 2, \"5\": 2}, \"15\": {\"15\": 586, \"1\": 4, \"2\": 6, \"8\": 2, \"5\": 2}, \"14\": {\"11\": 80, \"6\": 62, \"14\": 304, \"9\": 12, \"2\": 38, \"15\": 36, \"0\": 42, \"1\": 8, \"5\": 10, \"7\": 2, \"12\": 4, \"8\": 2}}, \"14\": {\"15\": {\"15\": 588, \"13\": 12}, \"6\": {\"13\": 254, \"3\": 94, \"15\": 4, \"2\": 80, \"6\": 100, \"14\": 32, \"7\": 20, \"5\": 4, \"4\": 10, \"8\": 2}, \"12\": {\"12\": 232, \"9\": 138, \"10\": 24, \"0\": 40, \"2\": 38, \"4\": 16, \"15\": 6, \"11\": 34, \"7\": 12, \"6\": 32, \"3\": 10, \"5\": 4, \"8\": 8, \"13\": 6}, \"9\": {\"9\": 552, \"11\": 10, \"0\": 10, \"2\": 20, \"8\": 4, \"15\": 4}, \"2\": {\"5\": 72, \"4\": 94, \"3\": 92, \"6\": 40, \"2\": 160, \"14\": 78, \"13\": 12, \"7\": 46, \"8\": 6}, \"7\": {\"7\": 592, \"5\": 8}, \"3\": {\"7\": 100, \"3\": 456, \"2\": 14, \"13\": 12, \"5\": 12, \"8\": 2, \"4\": 4}, \"13\": {\"6\": 180, \"13\": 330, \"2\": 18, \"3\": 44, \"15\": 20, \"7\": 4, \"14\": 4}, \"4\": {\"4\": 274, \"5\": 210, \"11\": 16, \"3\": 28, \"7\": 8, \"8\": 10, \"2\": 30, \"14\": 16, \"0\": 2, \"1\": 4, \"9\": 2}, \"14\": {\"4\": 134, \"3\": 72, \"14\": 300, \"6\": 18, \"2\": 50, \"13\": 4, \"0\": 2, \"5\": 18, \"7\": 2}, \"0\": {\"3\": 216, \"8\": 32, \"4\": 98, \"0\": 176, \"2\": 30, \"9\": 6, \"14\": 6, \"5\": 32, \"12\": 2, \"10\": 2}, \"10\": {\"0\": 48, \"3\": 372, \"10\": 100, \"9\": 6, \"4\": 64, \"15\": 4, \"5\": 2, \"2\": 4}, \"8\": {\"8\": 586, \"9\": 8, \"2\": 2, \"11\": 4}, \"5\": {\"4\": 170, \"3\": 108, \"5\": 210, \"2\": 34, \"7\": 64, \"14\": 2, \"8\": 8, \"0\": 2, \"6\": 2}, \"1\": {\"1\": 540, \"7\": 40, \"11\": 14, \"4\": 4, \"3\": 2}, \"11\": {\"4\": 58, \"7\": 254, \"11\": 178, \"2\": 2, \"10\": 6, \"13\": 78, \"1\": 2, \"12\": 18, \"6\": 2, \"14\": 2}}, \"44\": {\"5\": {\"5\": 498, \"2\": 14, \"15\": 46, \"8\": 8, \"6\": 18, \"4\": 6, \"14\": 6, \"12\": 2, \"7\": 2}, \"10\": {\"10\": 584, \"9\": 4, \"7\": 10, \"1\": 2}, \"1\": {\"1\": 498, \"2\": 58, \"7\": 36, \"5\": 4, \"12\": 4}, \"4\": {\"0\": 136, \"15\": 124, \"4\": 174, \"9\": 82, \"5\": 14, \"7\": 52, \"6\": 12, \"14\": 4, \"8\": 2}, \"6\": {\"6\": 538, \"4\": 8, \"13\": 18, \"10\": 30, \"0\": 2, \"7\": 4}, \"0\": {\"8\": 406, \"0\": 164, \"15\": 14, \"5\": 8, \"6\": 4, \"1\": 4}, \"9\": {\"9\": 386, \"7\": 64, \"15\": 16, \"6\": 104, \"0\": 18, \"10\": 12}, \"2\": {\"2\": 226, \"15\": 266, \"1\": 62, \"8\": 26, \"5\": 20}, \"8\": {\"8\": 480, \"15\": 24, \"14\": 4, \"5\": 48, \"12\": 2, \"0\": 38, \"2\": 2, \"6\": 2}, \"3\": {\"8\": 38, \"3\": 192, \"7\": 126, \"11\": 72, \"0\": 48, \"1\": 34, \"14\": 2, \"12\": 50, \"2\": 24, \"13\": 2, \"4\": 10, \"5\": 2}, \"15\": {\"5\": 74, \"15\": 394, \"12\": 8, \"11\": 4, \"0\": 18, \"9\": 40, \"6\": 8, \"14\": 4, \"8\": 50}, \"13\": {\"13\": 122, \"10\": 280, \"6\": 68, \"4\": 52, \"0\": 24, \"7\": 50, \"11\": 2, \"15\": 2}, \"12\": {\"3\": 414, \"7\": 30, \"1\": 38, \"12\": 78, \"8\": 34, \"11\": 6}, \"11\": {\"11\": 600}, \"7\": {\"6\": 138, \"7\": 112, \"9\": 302, \"13\": 2, \"10\": 36, \"0\": 8, \"15\": 2}, \"14\": {\"4\": 266, \"14\": 98, \"5\": 90, \"15\": 56, \"0\": 34, \"7\": 34, \"8\": 8, \"9\": 10, \"6\": 4}}, \"38\": {\"12\": {\"12\": 584, \"15\": 12, \"2\": 2, \"6\": 2}, \"10\": {\"11\": 4, \"13\": 82, \"10\": 498, \"4\": 16}, \"9\": {\"5\": 28, \"9\": 382, \"15\": 168, \"12\": 14, \"0\": 6, \"11\": 2}, \"13\": {\"13\": 518, \"11\": 12, \"10\": 52, \"3\": 18}, \"14\": {\"4\": 140, \"7\": 190, \"14\": 172, \"2\": 36, \"12\": 28, \"5\": 28, \"6\": 2, \"3\": 2, \"13\": 2}, \"5\": {\"5\": 344, \"15\": 168, \"6\": 24, \"12\": 2, \"4\": 28, \"14\": 6, \"8\": 14, \"7\": 8, \"2\": 2, \"0\": 4}, \"6\": {\"15\": 46, \"14\": 266, \"6\": 182, \"9\": 14, \"2\": 18, \"0\": 18, \"11\": 46, \"1\": 10}, \"3\": {\"11\": 54, \"13\": 394, \"3\": 74, \"10\": 78}, \"2\": {\"5\": 174, \"14\": 112, \"7\": 92, \"2\": 200, \"3\": 2, \"4\": 18, \"8\": 2}, \"15\": {\"1\": 264, \"11\": 6, \"15\": 270, \"6\": 16, \"5\": 6, \"0\": 20, \"13\": 4, \"12\": 2, \"14\": 8, \"9\": 2, \"10\": 2}, \"0\": {\"0\": 234, \"7\": 150, \"4\": 40, \"9\": 60, \"6\": 92, \"15\": 18, \"13\": 4, \"14\": 2}, \"7\": {\"4\": 158, \"7\": 416, \"6\": 8, \"0\": 18}, \"11\": {\"11\": 600}, \"1\": {\"2\": 18, \"6\": 46, \"1\": 300, \"11\": 16, \"0\": 182, \"15\": 32, \"14\": 2, \"8\": 4}, \"8\": {\"5\": 244, \"4\": 142, \"14\": 38, \"7\": 48, \"0\": 20, \"6\": 30, \"8\": 14, \"15\": 58, \"2\": 4, \"9\": 2}, \"4\": {\"4\": 594, \"10\": 4, \"11\": 2}}}, \"per_domain_accuracy\": {\"8\": {\"accuracy\": 0.561875, \"source?\": true}, \"26\": {\"accuracy\": 0.395, \"source?\": true}, \"50\": {\"accuracy\": 0.536875, \"source?\": true}, \"20\": {\"accuracy\": 0.25083333333333335, \"source?\": true}, \"32\": {\"accuracy\": 0.5658333333333333, \"source?\": true}, \"14\": {\"accuracy\": 0.5597916666666667, \"source?\": true}, \"44\": {\"accuracy\": 0.5358333333333334, \"source?\": true}, \"38\": {\"accuracy\": 0.560625, \"source?\": true}}}, \"history\": {\"epoch_indices\": [1, 2, 3, 4, 5, 6, 7, 8, 9], \"train_label_loss\": [2.6110323229857855, 2.2789087862627846, 1.835959473678044, 1.4983983190570558, 1.2202248371073179, 0.9538461865697588, 0.7464779118554933, 0.5785105055570603, 0.45483824697988373], \"source_val_label_loss\": [2.464952600002289, 2.114892240365346, 1.7022884917259216, 1.5314038292566936, 1.4473359243075052, 1.4253589371840159, 1.5072141746679941, 1.5638773151238758, 1.6825188593069713], \"target_val_label_loss\": [2.4649526047706605, 2.1148922471205394, 1.7022884980837505, 1.5314038280646007, 1.4473359429836272, 1.4253589328130085, 1.507214153210322, 1.5638773151238758, 1.6825188485781353], \"source_val_acc_label\": [0.18947916666666667, 0.28778645833333333, 0.413828125, 0.46822916666666664, 0.49583333333333335, 0.49322916666666666, 0.4944791666666667, 0.48669270833333333, 0.4764322916666667], \"target_val_acc_label\": [0.18947916666666667, 0.28778645833333333, 0.413828125, 0.46822916666666664, 0.49583333333333335, 0.49322916666666666, 0.4944791666666667, 0.48669270833333333, 0.4764322916666667]}, \"dataset_metrics\": {\"source\": {\"train\": {\"n_unique_x\": 179200, \"n_unique_y\": 16, \"n_batch/episode\": 1400}, \"val\": {\"n_unique_x\": 38400, \"n_unique_y\": 16, \"n_batch/episode\": 300}, \"test\": {\"n_unique_x\": 38400, \"n_unique_y\": 16, \"n_batch/episode\": 300}}, \"target\": {\"train\": {\"n_unique_x\": 179200, \"n_unique_y\": 16, \"n_batch/episode\": 1400}, \"val\": {\"n_unique_x\": 38400, \"n_unique_y\": 16, \"n_batch/episode\": 300}, \"test\": {\"n_unique_x\": 38400, \"n_unique_y\": 16, \"n_batch/episode\": 300}}}}'"
      ]
     },
     "execution_count": 20,
     "metadata": {},
     "output_type": "execute_result"
    }
   ],
   "source": [
    "json.dumps(experiment)"
   ]
  }
 ],
 "metadata": {
  "celltoolbar": "Tags",
  "kernelspec": {
   "display_name": "Python 3 (ipykernel)",
   "language": "python",
   "name": "python3"
  },
  "language_info": {
   "codemirror_mode": {
    "name": "ipython",
    "version": 3
   },
   "file_extension": ".py",
   "mimetype": "text/x-python",
   "name": "python",
   "nbconvert_exporter": "python",
   "pygments_lexer": "ipython3",
   "version": "3.8.12"
  },
  "papermill": {
   "default_parameters": {},
   "duration": 196.555251,
   "end_time": "2022-03-26T10:18:45.187932",
   "environment_variables": {},
   "exception": null,
   "input_path": "/root/csc500-main/csc500-notebooks/templates/cnn_template.ipynb",
   "output_path": "trial.ipynb",
   "parameters": {
    "parameters": {
     "BEST_MODEL_PATH": "./best_model.pth",
     "NUM_LOGS_PER_EPOCH": 10,
     "batch_size": 128,
     "criteria_for_best": "target_accuracy",
     "dataset_seed": 500,
     "device": "cuda",
     "domains_source": [
      8,
      32,
      50,
      14,
      20,
      26,
      38,
      44
     ],
     "domains_target": [
      8,
      32,
      50,
      14,
      20,
      26,
      38,
      44
     ],
     "experiment_name": "cnn_2:oracle.run2_limited",
     "labels": [
      "3123D52",
      "3123D65",
      "3123D79",
      "3123D80",
      "3123D54",
      "3123D70",
      "3123D7B",
      "3123D89",
      "3123D58",
      "3123D76",
      "3123D7D",
      "3123EFE",
      "3123D64",
      "3123D78",
      "3123D7E",
      "3124E4A"
     ],
     "lr": 0.0001,
     "n_epoch": 50,
     "normalize_source": false,
     "normalize_target": false,
     "num_examples_per_domain_per_label_source": 2000,
     "num_examples_per_domain_per_label_target": 2000,
     "patience": 3,
     "pickle_name_source": "oracle.Run2_10kExamples_stratified_ds.2022A.pkl",
     "pickle_name_target": "oracle.Run2_10kExamples_stratified_ds.2022A.pkl",
     "seed": 500,
     "torch_default_dtype": "torch.float32",
     "x_net": [
      {
       "class": "nnReshape",
       "kargs": {
        "shape": [
         -1,
         1,
         2,
         256
        ]
       }
      },
      {
       "class": "Conv2d",
       "kargs": {
        "bias": false,
        "in_channels": 1,
        "kernel_size": [
         1,
         7
        ],
        "out_channels": 256,
        "padding": [
         0,
         3
        ]
       }
      },
      {
       "class": "ReLU",
       "kargs": {
        "inplace": true
       }
      },
      {
       "class": "BatchNorm2d",
       "kargs": {
        "num_features": 256
       }
      },
      {
       "class": "Conv2d",
       "kargs": {
        "bias": true,
        "in_channels": 256,
        "kernel_size": [
         2,
         7
        ],
        "out_channels": 80,
        "padding": [
         0,
         3
        ]
       }
      },
      {
       "class": "ReLU",
       "kargs": {
        "inplace": true
       }
      },
      {
       "class": "BatchNorm2d",
       "kargs": {
        "num_features": 80
       }
      },
      {
       "class": "Flatten",
       "kargs": {}
      },
      {
       "class": "Linear",
       "kargs": {
        "in_features": 20480,
        "out_features": 256
       }
      },
      {
       "class": "ReLU",
       "kargs": {
        "inplace": true
       }
      },
      {
       "class": "BatchNorm1d",
       "kargs": {
        "num_features": 256
       }
      },
      {
       "class": "Linear",
       "kargs": {
        "in_features": 256,
        "out_features": 16
       }
      }
     ]
    }
   },
   "start_time": "2022-03-26T10:15:28.632681",
   "version": "2.3.4"
  }
 },
 "nbformat": 4,
 "nbformat_minor": 5
}