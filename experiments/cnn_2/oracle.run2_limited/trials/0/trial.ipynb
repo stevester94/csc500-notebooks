{
 "cells": [
  {
   "cell_type": "code",
   "execution_count": 1,
   "id": "2324682e",
   "metadata": {
    "execution": {
     "iopub.execute_input": "2022-03-26T10:01:23.395893Z",
     "iopub.status.busy": "2022-03-26T10:01:23.395000Z",
     "iopub.status.idle": "2022-03-26T10:01:24.937469Z",
     "shell.execute_reply": "2022-03-26T10:01:24.936586Z"
    },
    "papermill": {
     "duration": 1.580127,
     "end_time": "2022-03-26T10:01:24.937673",
     "exception": false,
     "start_time": "2022-03-26T10:01:23.357546",
     "status": "completed"
    },
    "tags": []
   },
   "outputs": [],
   "source": [
    "import os, json, sys, time, random\n",
    "import numpy as np\n",
    "import torch\n",
    "from  easydict import EasyDict\n",
    "from math import floor\n",
    "from easydict import EasyDict\n",
    "\n",
    "from steves_utils.vanilla_train_eval_test_jig import  Vanilla_Train_Eval_Test_Jig\n",
    "\n",
    "from steves_utils.torch_utils import get_dataset_metrics, independent_accuracy_assesment\n",
    "from steves_models.configurable_vanilla import Configurable_Vanilla\n",
    "from steves_utils.torch_sequential_builder import build_sequential\n",
    "from steves_utils.lazy_map import Lazy_Map\n",
    "from steves_utils.sequence_aggregator import Sequence_Aggregator\n",
    "\n",
    "from steves_utils.stratified_dataset.traditional_accessor import Traditional_Accessor_Factory\n",
    "\n",
    "from steves_utils.cnn_do_report import (\n",
    "    get_loss_curve,\n",
    "    get_results_table,\n",
    "    get_parameters_table,\n",
    "    get_domain_accuracies,\n",
    ")\n",
    "\n",
    "from steves_utils.torch_utils import (\n",
    "    confusion_by_domain_over_dataloader,\n",
    "    independent_accuracy_assesment\n",
    ")\n",
    "\n",
    "from steves_utils.utils_v2 import (\n",
    "    per_domain_accuracy_from_confusion,\n",
    "    get_datasets_base_path\n",
    ")\n",
    "\n",
    "# from steves_utils.ptn_do_report import TBD"
   ]
  },
  {
   "cell_type": "code",
   "execution_count": 2,
   "id": "1b29e3fe",
   "metadata": {
    "execution": {
     "iopub.execute_input": "2022-03-26T10:01:24.975634Z",
     "iopub.status.busy": "2022-03-26T10:01:24.975209Z",
     "iopub.status.idle": "2022-03-26T10:01:24.977899Z",
     "shell.execute_reply": "2022-03-26T10:01:24.978421Z"
    },
    "papermill": {
     "duration": 0.022874,
     "end_time": "2022-03-26T10:01:24.978583",
     "exception": false,
     "start_time": "2022-03-26T10:01:24.955709",
     "status": "completed"
    },
    "tags": []
   },
   "outputs": [],
   "source": [
    "required_parameters = {\n",
    "    \"experiment_name\",\n",
    "    \"lr\",\n",
    "    \"device\",\n",
    "    \"dataset_seed\",\n",
    "    \"seed\",\n",
    "    \"labels\",\n",
    "    \"domains_target\",\n",
    "    \"domains_source\",\n",
    "    \"num_examples_per_domain_per_label_source\",\n",
    "    \"num_examples_per_domain_per_label_target\",\n",
    "    \"batch_size\",\n",
    "    \"n_epoch\",\n",
    "    \"patience\",\n",
    "    \"criteria_for_best\",\n",
    "    \"normalize_source\",\n",
    "    \"normalize_target\",\n",
    "    \"x_net\",\n",
    "    \"NUM_LOGS_PER_EPOCH\",\n",
    "    \"BEST_MODEL_PATH\",\n",
    "    \"pickle_name_source\",\n",
    "    \"pickle_name_target\",\n",
    "    \"torch_default_dtype\",\n",
    "}"
   ]
  },
  {
   "cell_type": "code",
   "execution_count": 3,
   "id": "670b5fb8",
   "metadata": {
    "execution": {
     "iopub.execute_input": "2022-03-26T10:01:25.022441Z",
     "iopub.status.busy": "2022-03-26T10:01:25.017446Z",
     "iopub.status.idle": "2022-03-26T10:01:25.029238Z",
     "shell.execute_reply": "2022-03-26T10:01:25.028429Z"
    },
    "papermill": {
     "duration": 0.032822,
     "end_time": "2022-03-26T10:01:25.029397",
     "exception": false,
     "start_time": "2022-03-26T10:01:24.996575",
     "status": "completed"
    },
    "tags": [
     "parameters"
    ]
   },
   "outputs": [],
   "source": [
    "from steves_utils.ORACLE.utils_v2 import (\n",
    "    ALL_SERIAL_NUMBERS,\n",
    "    ALL_DISTANCES_FEET_NARROWED,\n",
    ")\n",
    "\n",
    "standalone_parameters = {}\n",
    "standalone_parameters[\"experiment_name\"] = \"MANUAL CORES CNN\"\n",
    "standalone_parameters[\"lr\"] = 0.0001\n",
    "standalone_parameters[\"device\"] = \"cuda\"\n",
    "\n",
    "standalone_parameters[\"dataset_seed\"] = 1337\n",
    "standalone_parameters[\"seed\"] = 1337\n",
    "standalone_parameters[\"labels\"] = ALL_SERIAL_NUMBERS\n",
    "\n",
    "standalone_parameters[\"domains_source\"] = [8,32,50]\n",
    "standalone_parameters[\"domains_target\"] = [14,20,26,38,44,]\n",
    "\n",
    "standalone_parameters[\"num_examples_per_domain_per_label_source\"]=-1\n",
    "standalone_parameters[\"num_examples_per_domain_per_label_target\"]=-1\n",
    "\n",
    "standalone_parameters[\"pickle_name_source\"] = \"oracle.Run1_framed_2000Examples_stratified_ds.2022A.pkl\"\n",
    "standalone_parameters[\"pickle_name_target\"] = \"oracle.Run2_framed_2000Examples_stratified_ds.2022A.pkl\"\n",
    "\n",
    "standalone_parameters[\"torch_default_dtype\"] = \"torch.float32\" \n",
    "\n",
    "standalone_parameters[\"batch_size\"]=128\n",
    "\n",
    "standalone_parameters[\"n_epoch\"] = 3\n",
    "\n",
    "standalone_parameters[\"patience\"] = 10\n",
    "\n",
    "standalone_parameters[\"criteria_for_best\"] = \"target_accuracy\"\n",
    "standalone_parameters[\"normalize_source\"] = False\n",
    "standalone_parameters[\"normalize_target\"] = False\n",
    "\n",
    "standalone_parameters[\"x_net\"] =     [\n",
    "    {\"class\": \"nnReshape\", \"kargs\": {\"shape\":[-1, 1, 2, 256]}},\n",
    "    {\"class\": \"Conv2d\", \"kargs\": { \"in_channels\":1, \"out_channels\":256, \"kernel_size\":(1,7), \"bias\":False, \"padding\":(0,3), },},\n",
    "    {\"class\": \"ReLU\", \"kargs\": {\"inplace\": True}},\n",
    "    {\"class\": \"BatchNorm2d\", \"kargs\": {\"num_features\":256}},\n",
    "\n",
    "    {\"class\": \"Conv2d\", \"kargs\": { \"in_channels\":256, \"out_channels\":80, \"kernel_size\":(2,7), \"bias\":True, \"padding\":(0,3), },},\n",
    "    {\"class\": \"ReLU\", \"kargs\": {\"inplace\": True}},\n",
    "    {\"class\": \"BatchNorm2d\", \"kargs\": {\"num_features\":80}},\n",
    "    {\"class\": \"Flatten\", \"kargs\": {}},\n",
    "\n",
    "    {\"class\": \"Linear\", \"kargs\": {\"in_features\": 80*256, \"out_features\": 256}}, # 80 units per IQ pair\n",
    "    {\"class\": \"ReLU\", \"kargs\": {\"inplace\": True}},\n",
    "    {\"class\": \"BatchNorm1d\", \"kargs\": {\"num_features\":256}},\n",
    "\n",
    "    {\"class\": \"Linear\", \"kargs\": {\"in_features\": 256, \"out_features\": len(standalone_parameters[\"labels\"])}},\n",
    "]\n",
    "\n",
    "standalone_parameters[\"NUM_LOGS_PER_EPOCH\"] = 10\n",
    "standalone_parameters[\"BEST_MODEL_PATH\"] = \"./best_model.pth\""
   ]
  },
  {
   "cell_type": "code",
   "execution_count": 4,
   "id": "ae67644b",
   "metadata": {
    "execution": {
     "iopub.execute_input": "2022-03-26T10:01:25.075843Z",
     "iopub.status.busy": "2022-03-26T10:01:25.064256Z",
     "iopub.status.idle": "2022-03-26T10:01:25.078508Z",
     "shell.execute_reply": "2022-03-26T10:01:25.077787Z"
    },
    "papermill": {
     "duration": 0.02989,
     "end_time": "2022-03-26T10:01:25.078670",
     "exception": false,
     "start_time": "2022-03-26T10:01:25.048780",
     "status": "completed"
    },
    "tags": [
     "injected-parameters"
    ]
   },
   "outputs": [],
   "source": [
    "# Parameters\n",
    "parameters = {\n",
    "    \"experiment_name\": \"cnn_2:oracle.run2_limited\",\n",
    "    \"labels\": [\n",
    "        \"3123D52\",\n",
    "        \"3123D65\",\n",
    "        \"3123D79\",\n",
    "        \"3123D80\",\n",
    "        \"3123D54\",\n",
    "        \"3123D70\",\n",
    "        \"3123D7B\",\n",
    "        \"3123D89\",\n",
    "        \"3123D58\",\n",
    "        \"3123D76\",\n",
    "        \"3123D7D\",\n",
    "        \"3123EFE\",\n",
    "        \"3123D64\",\n",
    "        \"3123D78\",\n",
    "        \"3123D7E\",\n",
    "        \"3124E4A\",\n",
    "    ],\n",
    "    \"domains_source\": [8, 32, 50, 14, 20, 26, 38, 44],\n",
    "    \"domains_target\": [8, 32, 50, 14, 20, 26, 38, 44],\n",
    "    \"pickle_name_source\": \"oracle.Run2_10kExamples_stratified_ds.2022A.pkl\",\n",
    "    \"pickle_name_target\": \"oracle.Run2_10kExamples_stratified_ds.2022A.pkl\",\n",
    "    \"device\": \"cuda\",\n",
    "    \"lr\": 0.0001,\n",
    "    \"batch_size\": 128,\n",
    "    \"normalize_source\": False,\n",
    "    \"normalize_target\": False,\n",
    "    \"num_examples_per_domain_per_label_source\": 2000,\n",
    "    \"num_examples_per_domain_per_label_target\": 2000,\n",
    "    \"torch_default_dtype\": \"torch.float32\",\n",
    "    \"n_epoch\": 50,\n",
    "    \"patience\": 3,\n",
    "    \"criteria_for_best\": \"target_accuracy\",\n",
    "    \"x_net\": [\n",
    "        {\"class\": \"nnReshape\", \"kargs\": {\"shape\": [-1, 1, 2, 256]}},\n",
    "        {\n",
    "            \"class\": \"Conv2d\",\n",
    "            \"kargs\": {\n",
    "                \"in_channels\": 1,\n",
    "                \"out_channels\": 256,\n",
    "                \"kernel_size\": [1, 7],\n",
    "                \"bias\": False,\n",
    "                \"padding\": [0, 3],\n",
    "            },\n",
    "        },\n",
    "        {\"class\": \"ReLU\", \"kargs\": {\"inplace\": True}},\n",
    "        {\"class\": \"BatchNorm2d\", \"kargs\": {\"num_features\": 256}},\n",
    "        {\n",
    "            \"class\": \"Conv2d\",\n",
    "            \"kargs\": {\n",
    "                \"in_channels\": 256,\n",
    "                \"out_channels\": 80,\n",
    "                \"kernel_size\": [2, 7],\n",
    "                \"bias\": True,\n",
    "                \"padding\": [0, 3],\n",
    "            },\n",
    "        },\n",
    "        {\"class\": \"ReLU\", \"kargs\": {\"inplace\": True}},\n",
    "        {\"class\": \"BatchNorm2d\", \"kargs\": {\"num_features\": 80}},\n",
    "        {\"class\": \"Flatten\", \"kargs\": {}},\n",
    "        {\"class\": \"Linear\", \"kargs\": {\"in_features\": 20480, \"out_features\": 256}},\n",
    "        {\"class\": \"ReLU\", \"kargs\": {\"inplace\": True}},\n",
    "        {\"class\": \"BatchNorm1d\", \"kargs\": {\"num_features\": 256}},\n",
    "        {\"class\": \"Linear\", \"kargs\": {\"in_features\": 256, \"out_features\": 16}},\n",
    "    ],\n",
    "    \"NUM_LOGS_PER_EPOCH\": 10,\n",
    "    \"BEST_MODEL_PATH\": \"./best_model.pth\",\n",
    "    \"dataset_seed\": 154325,\n",
    "    \"seed\": 154325,\n",
    "}\n"
   ]
  },
  {
   "cell_type": "code",
   "execution_count": 5,
   "id": "759b56ec",
   "metadata": {
    "execution": {
     "iopub.execute_input": "2022-03-26T10:01:25.120744Z",
     "iopub.status.busy": "2022-03-26T10:01:25.120362Z",
     "iopub.status.idle": "2022-03-26T10:01:25.124065Z",
     "shell.execute_reply": "2022-03-26T10:01:25.123236Z"
    },
    "papermill": {
     "duration": 0.025737,
     "end_time": "2022-03-26T10:01:25.124222",
     "exception": false,
     "start_time": "2022-03-26T10:01:25.098485",
     "status": "completed"
    },
    "tags": []
   },
   "outputs": [],
   "source": [
    "# Set this to True if you want to run this template directly\n",
    "STANDALONE = False\n",
    "if STANDALONE:\n",
    "    print(\"parameters not injected, running with standalone_parameters\")\n",
    "    parameters = standalone_parameters\n",
    "\n",
    "if not 'parameters' in locals() and not 'parameters' in globals():\n",
    "    raise Exception(\"Parameter injection failed\")\n",
    "\n",
    "#Use an easy dict for all the parameters\n",
    "p = EasyDict(parameters)\n",
    "\n",
    "supplied_keys = set(p.keys())\n",
    "\n",
    "if  supplied_keys != required_parameters:\n",
    "    print(\"Parameters are incorrect\")\n",
    "    if len(supplied_keys - required_parameters)>0: print(\"Shouldn't have:\", str(supplied_keys - required_parameters))\n",
    "    if len(required_parameters - supplied_keys)>0: print(\"Need to have:\", str(required_parameters - supplied_keys))\n",
    "    raise RuntimeError(\"Parameters are incorrect\")\n",
    "\n"
   ]
  },
  {
   "cell_type": "code",
   "execution_count": 6,
   "id": "d5c66a71",
   "metadata": {
    "execution": {
     "iopub.execute_input": "2022-03-26T10:01:25.167629Z",
     "iopub.status.busy": "2022-03-26T10:01:25.166981Z",
     "iopub.status.idle": "2022-03-26T10:01:25.171370Z",
     "shell.execute_reply": "2022-03-26T10:01:25.171926Z"
    },
    "papermill": {
     "duration": 0.024604,
     "end_time": "2022-03-26T10:01:25.172066",
     "exception": false,
     "start_time": "2022-03-26T10:01:25.147462",
     "status": "completed"
    },
    "tags": []
   },
   "outputs": [],
   "source": [
    "###################################\n",
    "# Set the RNGs and make it all deterministic\n",
    "###################################\n",
    "np.random.seed(p.seed)\n",
    "random.seed(p.seed)\n",
    "torch.manual_seed(p.seed)\n",
    "\n",
    "torch.use_deterministic_algorithms(True) "
   ]
  },
  {
   "cell_type": "code",
   "execution_count": 7,
   "id": "92a65876",
   "metadata": {
    "execution": {
     "iopub.execute_input": "2022-03-26T10:01:25.210952Z",
     "iopub.status.busy": "2022-03-26T10:01:25.210581Z",
     "iopub.status.idle": "2022-03-26T10:01:25.213164Z",
     "shell.execute_reply": "2022-03-26T10:01:25.213472Z"
    },
    "papermill": {
     "duration": 0.020801,
     "end_time": "2022-03-26T10:01:25.213559",
     "exception": false,
     "start_time": "2022-03-26T10:01:25.192758",
     "status": "completed"
    },
    "tags": []
   },
   "outputs": [],
   "source": [
    "torch.set_default_dtype(eval(p.torch_default_dtype))"
   ]
  },
  {
   "cell_type": "code",
   "execution_count": 8,
   "id": "f1a32f01",
   "metadata": {
    "execution": {
     "iopub.execute_input": "2022-03-26T10:01:25.249619Z",
     "iopub.status.busy": "2022-03-26T10:01:25.249133Z",
     "iopub.status.idle": "2022-03-26T10:01:25.288534Z",
     "shell.execute_reply": "2022-03-26T10:01:25.289225Z"
    },
    "papermill": {
     "duration": 0.0586,
     "end_time": "2022-03-26T10:01:25.289409",
     "exception": false,
     "start_time": "2022-03-26T10:01:25.230809",
     "status": "completed"
    },
    "tags": []
   },
   "outputs": [],
   "source": [
    "###################################\n",
    "# Build the network(s)\n",
    "# Note: It's critical to do this AFTER setting the RNG\n",
    "###################################\n",
    "x_net = build_sequential(p.x_net)"
   ]
  },
  {
   "cell_type": "code",
   "execution_count": 9,
   "id": "a276cd83",
   "metadata": {
    "execution": {
     "iopub.execute_input": "2022-03-26T10:01:25.327389Z",
     "iopub.status.busy": "2022-03-26T10:01:25.327020Z",
     "iopub.status.idle": "2022-03-26T10:01:25.330375Z",
     "shell.execute_reply": "2022-03-26T10:01:25.329813Z"
    },
    "papermill": {
     "duration": 0.021289,
     "end_time": "2022-03-26T10:01:25.330484",
     "exception": false,
     "start_time": "2022-03-26T10:01:25.309195",
     "status": "completed"
    },
    "tags": []
   },
   "outputs": [],
   "source": [
    "start_time_secs = time.time()"
   ]
  },
  {
   "cell_type": "code",
   "execution_count": 10,
   "id": "de702e48",
   "metadata": {
    "execution": {
     "iopub.execute_input": "2022-03-26T10:01:25.380059Z",
     "iopub.status.busy": "2022-03-26T10:01:25.379168Z",
     "iopub.status.idle": "2022-03-26T10:01:39.175748Z",
     "shell.execute_reply": "2022-03-26T10:01:39.174944Z"
    },
    "papermill": {
     "duration": 13.825021,
     "end_time": "2022-03-26T10:01:39.175930",
     "exception": false,
     "start_time": "2022-03-26T10:01:25.350909",
     "status": "completed"
    },
    "tags": []
   },
   "outputs": [],
   "source": [
    "def wrap_in_dataloader(p, ds):\n",
    "    return torch.utils.data.DataLoader(\n",
    "        ds,\n",
    "        batch_size=p.batch_size,\n",
    "        shuffle=True,\n",
    "        num_workers=1,\n",
    "        persistent_workers=True,\n",
    "        prefetch_factor=50,\n",
    "        pin_memory=True\n",
    "    )\n",
    "\n",
    "taf_source = Traditional_Accessor_Factory(\n",
    "    labels=p.labels,\n",
    "    domains=p.domains_source,\n",
    "    num_examples_per_domain_per_label=p.num_examples_per_domain_per_label_source,\n",
    "    pickle_path=os.path.join(get_datasets_base_path(), p.pickle_name_source),\n",
    "    seed=p.dataset_seed\n",
    ")\n",
    "train_original_source, val_original_source, test_original_source = \\\n",
    "    taf_source.get_train(), taf_source.get_val(), taf_source.get_test()\n",
    "\n",
    "\n",
    "taf_target = Traditional_Accessor_Factory(\n",
    "    labels=p.labels,\n",
    "    domains=p.domains_target,\n",
    "    num_examples_per_domain_per_label=p.num_examples_per_domain_per_label_source,\n",
    "    pickle_path=os.path.join(get_datasets_base_path(), p.pickle_name_target),\n",
    "    seed=p.dataset_seed\n",
    ")\n",
    "train_original_target, val_original_target, test_original_target = \\\n",
    "    taf_target.get_train(), taf_target.get_val(), taf_target.get_test()\n",
    "\n",
    "\n",
    "# For CNN We only use X and Y. And we only train on the source.\n",
    "# Properly form the data using a transform lambda and Lazy_Map. Finally wrap them in a dataloader\n",
    "\n",
    "transform_lambda = lambda ex: ex[:2] # Strip the tuple to just (x,y)\n",
    "\n",
    "\n",
    "train_processed_source = wrap_in_dataloader(\n",
    "    p,\n",
    "    Lazy_Map(train_original_source, transform_lambda)\n",
    ")\n",
    "val_processed_source = wrap_in_dataloader(\n",
    "    p,\n",
    "    Lazy_Map(val_original_source, transform_lambda)\n",
    ")\n",
    "test_processed_source = wrap_in_dataloader(\n",
    "    p,\n",
    "    Lazy_Map(test_original_source, transform_lambda)\n",
    ")\n",
    "\n",
    "train_processed_target = wrap_in_dataloader(\n",
    "    p,\n",
    "    Lazy_Map(train_original_target, transform_lambda)\n",
    ")\n",
    "val_processed_target = wrap_in_dataloader(\n",
    "    p,\n",
    "    Lazy_Map(val_original_target, transform_lambda)\n",
    ")\n",
    "test_processed_target  = wrap_in_dataloader(\n",
    "    p,\n",
    "    Lazy_Map(test_original_target, transform_lambda)\n",
    ")\n",
    "\n",
    "\n",
    "\n",
    "datasets = EasyDict({\n",
    "    \"source\": {\n",
    "        \"original\": {\"train\":train_original_source, \"val\":val_original_source, \"test\":test_original_source},\n",
    "        \"processed\": {\"train\":train_processed_source, \"val\":val_processed_source, \"test\":test_processed_source}\n",
    "    },\n",
    "    \"target\": {\n",
    "        \"original\": {\"train\":train_original_target, \"val\":val_original_target, \"test\":test_original_target},\n",
    "        \"processed\": {\"train\":train_processed_target, \"val\":val_processed_target, \"test\":test_processed_target}\n",
    "    },\n",
    "})"
   ]
  },
  {
   "cell_type": "code",
   "execution_count": 11,
   "id": "a11b26bd",
   "metadata": {
    "execution": {
     "iopub.execute_input": "2022-03-26T10:01:39.300352Z",
     "iopub.status.busy": "2022-03-26T10:01:39.299429Z",
     "iopub.status.idle": "2022-03-26T10:01:45.181323Z",
     "shell.execute_reply": "2022-03-26T10:01:45.180566Z"
    },
    "papermill": {
     "duration": 5.981743,
     "end_time": "2022-03-26T10:01:45.181504",
     "exception": false,
     "start_time": "2022-03-26T10:01:39.199761",
     "status": "completed"
    },
    "tags": []
   },
   "outputs": [
    {
     "data": {
      "text/plain": [
       "torch.float32"
      ]
     },
     "execution_count": 11,
     "metadata": {},
     "output_type": "execute_result"
    }
   ],
   "source": [
    "ep = next(iter(test_processed_target))\n",
    "ep[0].dtype"
   ]
  },
  {
   "cell_type": "code",
   "execution_count": 12,
   "id": "19425fad",
   "metadata": {
    "execution": {
     "iopub.execute_input": "2022-03-26T10:01:45.223127Z",
     "iopub.status.busy": "2022-03-26T10:01:45.222747Z",
     "iopub.status.idle": "2022-03-26T10:01:45.276132Z",
     "shell.execute_reply": "2022-03-26T10:01:45.275362Z"
    },
    "papermill": {
     "duration": 0.073878,
     "end_time": "2022-03-26T10:01:45.276306",
     "exception": false,
     "start_time": "2022-03-26T10:01:45.202428",
     "status": "completed"
    },
    "tags": []
   },
   "outputs": [],
   "source": [
    "model = Configurable_Vanilla(\n",
    "    x_net=x_net,\n",
    "    label_loss_object=torch.nn.NLLLoss(),\n",
    "    learning_rate=p.lr\n",
    ")"
   ]
  },
  {
   "cell_type": "code",
   "execution_count": 13,
   "id": "7f6d4f2c",
   "metadata": {
    "execution": {
     "iopub.execute_input": "2022-03-26T10:01:45.316502Z",
     "iopub.status.busy": "2022-03-26T10:01:45.316121Z",
     "iopub.status.idle": "2022-03-26T10:04:46.721610Z",
     "shell.execute_reply": "2022-03-26T10:04:46.720789Z"
    },
    "papermill": {
     "duration": 181.424362,
     "end_time": "2022-03-26T10:04:46.721781",
     "exception": false,
     "start_time": "2022-03-26T10:01:45.297419",
     "status": "completed"
    },
    "tags": []
   },
   "outputs": [
    {
     "name": "stdout",
     "output_type": "stream",
     "text": [
      "epoch: 1, [batch: 1 / 1400], examples_per_second: 719.4563, train_label_loss: 2.7826, \n"
     ]
    },
    {
     "name": "stdout",
     "output_type": "stream",
     "text": [
      "epoch: 1, [batch: 140 / 1400], examples_per_second: 10607.1231, train_label_loss: 2.6942, \n"
     ]
    },
    {
     "name": "stdout",
     "output_type": "stream",
     "text": [
      "epoch: 1, [batch: 280 / 1400], examples_per_second: 10706.2234, train_label_loss: 2.6863, \n"
     ]
    },
    {
     "name": "stdout",
     "output_type": "stream",
     "text": [
      "epoch: 1, [batch: 420 / 1400], examples_per_second: 10622.0792, train_label_loss: 2.6072, \n"
     ]
    },
    {
     "name": "stdout",
     "output_type": "stream",
     "text": [
      "epoch: 1, [batch: 560 / 1400], examples_per_second: 10698.0281, train_label_loss: 2.6034, \n"
     ]
    },
    {
     "name": "stdout",
     "output_type": "stream",
     "text": [
      "epoch: 1, [batch: 700 / 1400], examples_per_second: 10665.7308, train_label_loss: 2.6248, \n"
     ]
    },
    {
     "name": "stdout",
     "output_type": "stream",
     "text": [
      "epoch: 1, [batch: 840 / 1400], examples_per_second: 10664.5534, train_label_loss: 2.6305, \n"
     ]
    },
    {
     "name": "stdout",
     "output_type": "stream",
     "text": [
      "epoch: 1, [batch: 980 / 1400], examples_per_second: 10672.7581, train_label_loss: 2.4861, \n"
     ]
    },
    {
     "name": "stdout",
     "output_type": "stream",
     "text": [
      "epoch: 1, [batch: 1120 / 1400], examples_per_second: 10703.9013, train_label_loss: 2.5218, \n"
     ]
    },
    {
     "name": "stdout",
     "output_type": "stream",
     "text": [
      "epoch: 1, [batch: 1260 / 1400], examples_per_second: 10702.9852, train_label_loss: 2.5738, \n"
     ]
    },
    {
     "name": "stdout",
     "output_type": "stream",
     "text": [
      "=============================================================\n",
      "epoch: 1, source_val_acc_label: 0.1654, source_val_label_loss: 2.5141, target_val_acc_label: 0.1654, target_val_label_loss: 2.5141, \n",
      "=============================================================\n"
     ]
    },
    {
     "name": "stdout",
     "output_type": "stream",
     "text": [
      "New best\n",
      "epoch: 2, [batch: 1 / 1400], examples_per_second: 51.1111, train_label_loss: 2.4917, \n"
     ]
    },
    {
     "name": "stdout",
     "output_type": "stream",
     "text": [
      "epoch: 2, [batch: 140 / 1400], examples_per_second: 10611.3146, train_label_loss: 2.4034, \n"
     ]
    },
    {
     "name": "stdout",
     "output_type": "stream",
     "text": [
      "epoch: 2, [batch: 280 / 1400], examples_per_second: 10693.4133, train_label_loss: 2.3198, \n"
     ]
    },
    {
     "name": "stdout",
     "output_type": "stream",
     "text": [
      "epoch: 2, [batch: 420 / 1400], examples_per_second: 10556.8331, train_label_loss: 2.4068, \n"
     ]
    },
    {
     "name": "stdout",
     "output_type": "stream",
     "text": [
      "epoch: 2, [batch: 560 / 1400], examples_per_second: 10643.5136, train_label_loss: 2.4666, \n"
     ]
    },
    {
     "name": "stdout",
     "output_type": "stream",
     "text": [
      "epoch: 2, [batch: 700 / 1400], examples_per_second: 10720.7674, train_label_loss: 2.2112, \n"
     ]
    },
    {
     "name": "stdout",
     "output_type": "stream",
     "text": [
      "epoch: 2, [batch: 840 / 1400], examples_per_second: 10645.4311, train_label_loss: 2.3232, \n"
     ]
    },
    {
     "name": "stdout",
     "output_type": "stream",
     "text": [
      "epoch: 2, [batch: 980 / 1400], examples_per_second: 10674.7286, train_label_loss: 2.1717, \n"
     ]
    },
    {
     "name": "stdout",
     "output_type": "stream",
     "text": [
      "epoch: 2, [batch: 1120 / 1400], examples_per_second: 10657.9450, train_label_loss: 2.0860, \n"
     ]
    },
    {
     "name": "stdout",
     "output_type": "stream",
     "text": [
      "epoch: 2, [batch: 1260 / 1400], examples_per_second: 10611.3808, train_label_loss: 2.1351, \n"
     ]
    },
    {
     "name": "stdout",
     "output_type": "stream",
     "text": [
      "=============================================================\n",
      "epoch: 2, source_val_acc_label: 0.2979, source_val_label_loss: 2.0945, target_val_acc_label: 0.2979, target_val_label_loss: 2.0945, \n",
      "=============================================================\n"
     ]
    },
    {
     "name": "stdout",
     "output_type": "stream",
     "text": [
      "New best\n",
      "epoch: 3, [batch: 1 / 1400], examples_per_second: 57.9439, train_label_loss: 1.8614, \n"
     ]
    },
    {
     "name": "stdout",
     "output_type": "stream",
     "text": [
      "epoch: 3, [batch: 140 / 1400], examples_per_second: 10679.6895, train_label_loss: 1.9496, \n"
     ]
    },
    {
     "name": "stdout",
     "output_type": "stream",
     "text": [
      "epoch: 3, [batch: 280 / 1400], examples_per_second: 10709.1781, train_label_loss: 1.8396, \n"
     ]
    },
    {
     "name": "stdout",
     "output_type": "stream",
     "text": [
      "epoch: 3, [batch: 420 / 1400], examples_per_second: 10674.2571, train_label_loss: 1.7811, \n"
     ]
    },
    {
     "name": "stdout",
     "output_type": "stream",
     "text": [
      "epoch: 3, [batch: 560 / 1400], examples_per_second: 10632.7645, train_label_loss: 1.6707, \n"
     ]
    },
    {
     "name": "stdout",
     "output_type": "stream",
     "text": [
      "epoch: 3, [batch: 700 / 1400], examples_per_second: 10748.8104, train_label_loss: 1.9057, \n"
     ]
    },
    {
     "name": "stdout",
     "output_type": "stream",
     "text": [
      "epoch: 3, [batch: 840 / 1400], examples_per_second: 10657.2650, train_label_loss: 1.7530, \n"
     ]
    },
    {
     "name": "stdout",
     "output_type": "stream",
     "text": [
      "epoch: 3, [batch: 980 / 1400], examples_per_second: 10748.2817, train_label_loss: 1.7620, \n"
     ]
    },
    {
     "name": "stdout",
     "output_type": "stream",
     "text": [
      "epoch: 3, [batch: 1120 / 1400], examples_per_second: 10635.4636, train_label_loss: 1.7670, \n"
     ]
    },
    {
     "name": "stdout",
     "output_type": "stream",
     "text": [
      "epoch: 3, [batch: 1260 / 1400], examples_per_second: 10604.2157, train_label_loss: 1.6705, \n"
     ]
    },
    {
     "name": "stdout",
     "output_type": "stream",
     "text": [
      "=============================================================\n",
      "epoch: 3, source_val_acc_label: 0.4434, source_val_label_loss: 1.6352, target_val_acc_label: 0.4434, target_val_label_loss: 1.6352, \n",
      "=============================================================\n"
     ]
    },
    {
     "name": "stdout",
     "output_type": "stream",
     "text": [
      "New best\n",
      "epoch: 4, [batch: 1 / 1400], examples_per_second: 56.3397, train_label_loss: 1.7385, \n"
     ]
    },
    {
     "name": "stdout",
     "output_type": "stream",
     "text": [
      "epoch: 4, [batch: 140 / 1400], examples_per_second: 10582.4245, train_label_loss: 1.5392, \n"
     ]
    },
    {
     "name": "stdout",
     "output_type": "stream",
     "text": [
      "epoch: 4, [batch: 280 / 1400], examples_per_second: 10697.4541, train_label_loss: 1.4523, \n"
     ]
    },
    {
     "name": "stdout",
     "output_type": "stream",
     "text": [
      "epoch: 4, [batch: 420 / 1400], examples_per_second: 10590.3918, train_label_loss: 1.3865, \n"
     ]
    },
    {
     "name": "stdout",
     "output_type": "stream",
     "text": [
      "epoch: 4, [batch: 560 / 1400], examples_per_second: 10689.9016, train_label_loss: 1.4667, \n"
     ]
    },
    {
     "name": "stdout",
     "output_type": "stream",
     "text": [
      "epoch: 4, [batch: 700 / 1400], examples_per_second: 10602.4521, train_label_loss: 1.3970, \n"
     ]
    },
    {
     "name": "stdout",
     "output_type": "stream",
     "text": [
      "epoch: 4, [batch: 840 / 1400], examples_per_second: 10704.6696, train_label_loss: 1.4975, \n"
     ]
    },
    {
     "name": "stdout",
     "output_type": "stream",
     "text": [
      "epoch: 4, [batch: 980 / 1400], examples_per_second: 10587.7528, train_label_loss: 1.7286, \n"
     ]
    },
    {
     "name": "stdout",
     "output_type": "stream",
     "text": [
      "epoch: 4, [batch: 1120 / 1400], examples_per_second: 10634.5833, train_label_loss: 1.2709, \n"
     ]
    },
    {
     "name": "stdout",
     "output_type": "stream",
     "text": [
      "epoch: 4, [batch: 1260 / 1400], examples_per_second: 10667.2445, train_label_loss: 1.4278, \n"
     ]
    },
    {
     "name": "stdout",
     "output_type": "stream",
     "text": [
      "=============================================================\n",
      "epoch: 4, source_val_acc_label: 0.4666, source_val_label_loss: 1.5685, target_val_acc_label: 0.4666, target_val_label_loss: 1.5685, \n",
      "=============================================================\n"
     ]
    },
    {
     "name": "stdout",
     "output_type": "stream",
     "text": [
      "New best\n",
      "epoch: 5, [batch: 1 / 1400], examples_per_second: 57.0125, train_label_loss: 1.0841, \n"
     ]
    },
    {
     "name": "stdout",
     "output_type": "stream",
     "text": [
      "epoch: 5, [batch: 140 / 1400], examples_per_second: 10687.4196, train_label_loss: 1.0768, \n"
     ]
    },
    {
     "name": "stdout",
     "output_type": "stream",
     "text": [
      "epoch: 5, [batch: 280 / 1400], examples_per_second: 11513.0085, train_label_loss: 1.1844, \n"
     ]
    },
    {
     "name": "stdout",
     "output_type": "stream",
     "text": [
      "epoch: 5, [batch: 420 / 1400], examples_per_second: 11725.6291, train_label_loss: 1.0339, \n"
     ]
    },
    {
     "name": "stdout",
     "output_type": "stream",
     "text": [
      "epoch: 5, [batch: 560 / 1400], examples_per_second: 11727.5063, train_label_loss: 1.1167, \n"
     ]
    },
    {
     "name": "stdout",
     "output_type": "stream",
     "text": [
      "epoch: 5, [batch: 700 / 1400], examples_per_second: 11769.5027, train_label_loss: 1.1127, \n"
     ]
    },
    {
     "name": "stdout",
     "output_type": "stream",
     "text": [
      "epoch: 5, [batch: 840 / 1400], examples_per_second: 11734.5041, train_label_loss: 1.1647, \n"
     ]
    },
    {
     "name": "stdout",
     "output_type": "stream",
     "text": [
      "epoch: 5, [batch: 980 / 1400], examples_per_second: 11740.9839, train_label_loss: 1.1263, \n"
     ]
    },
    {
     "name": "stdout",
     "output_type": "stream",
     "text": [
      "epoch: 5, [batch: 1120 / 1400], examples_per_second: 11737.1831, train_label_loss: 1.2258, \n"
     ]
    },
    {
     "name": "stdout",
     "output_type": "stream",
     "text": [
      "epoch: 5, [batch: 1260 / 1400], examples_per_second: 11818.8590, train_label_loss: 1.0780, \n"
     ]
    },
    {
     "name": "stdout",
     "output_type": "stream",
     "text": [
      "=============================================================\n",
      "epoch: 5, source_val_acc_label: 0.4871, source_val_label_loss: 1.4501, target_val_acc_label: 0.4871, target_val_label_loss: 1.4501, \n",
      "=============================================================\n"
     ]
    },
    {
     "name": "stdout",
     "output_type": "stream",
     "text": [
      "New best\n",
      "epoch: 6, [batch: 1 / 1400], examples_per_second: 63.9622, train_label_loss: 0.7641, \n"
     ]
    },
    {
     "name": "stdout",
     "output_type": "stream",
     "text": [
      "epoch: 6, [batch: 140 / 1400], examples_per_second: 11700.3026, train_label_loss: 0.8851, \n"
     ]
    },
    {
     "name": "stdout",
     "output_type": "stream",
     "text": [
      "epoch: 6, [batch: 280 / 1400], examples_per_second: 11734.2971, train_label_loss: 0.7190, \n"
     ]
    },
    {
     "name": "stdout",
     "output_type": "stream",
     "text": [
      "epoch: 6, [batch: 420 / 1400], examples_per_second: 11803.0387, train_label_loss: 0.8925, \n"
     ]
    },
    {
     "name": "stdout",
     "output_type": "stream",
     "text": [
      "epoch: 6, [batch: 560 / 1400], examples_per_second: 11729.6622, train_label_loss: 0.9454, \n"
     ]
    },
    {
     "name": "stdout",
     "output_type": "stream",
     "text": [
      "epoch: 6, [batch: 700 / 1400], examples_per_second: 11666.7662, train_label_loss: 1.0761, \n"
     ]
    },
    {
     "name": "stdout",
     "output_type": "stream",
     "text": [
      "epoch: 6, [batch: 840 / 1400], examples_per_second: 11698.0632, train_label_loss: 0.9445, \n"
     ]
    },
    {
     "name": "stdout",
     "output_type": "stream",
     "text": [
      "epoch: 6, [batch: 980 / 1400], examples_per_second: 11634.0008, train_label_loss: 1.4593, \n"
     ]
    },
    {
     "name": "stdout",
     "output_type": "stream",
     "text": [
      "epoch: 6, [batch: 1120 / 1400], examples_per_second: 11739.1299, train_label_loss: 0.9177, \n"
     ]
    },
    {
     "name": "stdout",
     "output_type": "stream",
     "text": [
      "epoch: 6, [batch: 1260 / 1400], examples_per_second: 11746.7273, train_label_loss: 0.9047, \n"
     ]
    },
    {
     "name": "stdout",
     "output_type": "stream",
     "text": [
      "=============================================================\n",
      "epoch: 6, source_val_acc_label: 0.5019, source_val_label_loss: 1.4532, target_val_acc_label: 0.5019, target_val_label_loss: 1.4532, \n",
      "=============================================================\n"
     ]
    },
    {
     "name": "stdout",
     "output_type": "stream",
     "text": [
      "New best\n",
      "epoch: 7, [batch: 1 / 1400], examples_per_second: 63.7715, train_label_loss: 0.8349, \n"
     ]
    },
    {
     "name": "stdout",
     "output_type": "stream",
     "text": [
      "epoch: 7, [batch: 140 / 1400], examples_per_second: 11671.2893, train_label_loss: 0.6125, \n"
     ]
    },
    {
     "name": "stdout",
     "output_type": "stream",
     "text": [
      "epoch: 7, [batch: 280 / 1400], examples_per_second: 11740.1146, train_label_loss: 0.6986, \n"
     ]
    },
    {
     "name": "stdout",
     "output_type": "stream",
     "text": [
      "epoch: 7, [batch: 420 / 1400], examples_per_second: 11738.4058, train_label_loss: 0.5875, \n"
     ]
    },
    {
     "name": "stdout",
     "output_type": "stream",
     "text": [
      "epoch: 7, [batch: 560 / 1400], examples_per_second: 11772.5979, train_label_loss: 0.6436, \n"
     ]
    },
    {
     "name": "stdout",
     "output_type": "stream",
     "text": [
      "epoch: 7, [batch: 700 / 1400], examples_per_second: 11710.4696, train_label_loss: 0.7280, \n"
     ]
    },
    {
     "name": "stdout",
     "output_type": "stream",
     "text": [
      "epoch: 7, [batch: 840 / 1400], examples_per_second: 11718.7150, train_label_loss: 0.7214, \n"
     ]
    },
    {
     "name": "stdout",
     "output_type": "stream",
     "text": [
      "epoch: 7, [batch: 980 / 1400], examples_per_second: 11772.2974, train_label_loss: 0.7630, \n"
     ]
    },
    {
     "name": "stdout",
     "output_type": "stream",
     "text": [
      "epoch: 7, [batch: 1120 / 1400], examples_per_second: 11714.8501, train_label_loss: 0.6158, \n"
     ]
    },
    {
     "name": "stdout",
     "output_type": "stream",
     "text": [
      "epoch: 7, [batch: 1260 / 1400], examples_per_second: 11736.4372, train_label_loss: 0.9236, \n"
     ]
    },
    {
     "name": "stdout",
     "output_type": "stream",
     "text": [
      "=============================================================\n",
      "epoch: 7, source_val_acc_label: 0.4901, source_val_label_loss: 1.5461, target_val_acc_label: 0.4901, target_val_label_loss: 1.5461, \n",
      "=============================================================\n"
     ]
    },
    {
     "name": "stdout",
     "output_type": "stream",
     "text": [
      "epoch: 8, [batch: 1 / 1400], examples_per_second: 64.5453, train_label_loss: 0.4323, \n"
     ]
    },
    {
     "name": "stdout",
     "output_type": "stream",
     "text": [
      "epoch: 8, [batch: 140 / 1400], examples_per_second: 11715.6442, train_label_loss: 0.5495, \n"
     ]
    },
    {
     "name": "stdout",
     "output_type": "stream",
     "text": [
      "epoch: 8, [batch: 280 / 1400], examples_per_second: 11733.5423, train_label_loss: 0.5415, \n"
     ]
    },
    {
     "name": "stdout",
     "output_type": "stream",
     "text": [
      "epoch: 8, [batch: 420 / 1400], examples_per_second: 11755.5790, train_label_loss: 0.4183, \n"
     ]
    },
    {
     "name": "stdout",
     "output_type": "stream",
     "text": [
      "epoch: 8, [batch: 560 / 1400], examples_per_second: 11689.8632, train_label_loss: 0.4970, \n"
     ]
    },
    {
     "name": "stdout",
     "output_type": "stream",
     "text": [
      "epoch: 8, [batch: 700 / 1400], examples_per_second: 11677.3843, train_label_loss: 0.4143, \n"
     ]
    },
    {
     "name": "stdout",
     "output_type": "stream",
     "text": [
      "epoch: 8, [batch: 840 / 1400], examples_per_second: 11747.9243, train_label_loss: 0.4440, \n"
     ]
    },
    {
     "name": "stdout",
     "output_type": "stream",
     "text": [
      "epoch: 8, [batch: 980 / 1400], examples_per_second: 11737.5625, train_label_loss: 0.7178, \n"
     ]
    },
    {
     "name": "stdout",
     "output_type": "stream",
     "text": [
      "epoch: 8, [batch: 1120 / 1400], examples_per_second: 12677.9977, train_label_loss: 0.5443, \n"
     ]
    },
    {
     "name": "stdout",
     "output_type": "stream",
     "text": [
      "epoch: 8, [batch: 1260 / 1400], examples_per_second: 13019.9808, train_label_loss: 0.4107, \n"
     ]
    },
    {
     "name": "stdout",
     "output_type": "stream",
     "text": [
      "=============================================================\n",
      "epoch: 8, source_val_acc_label: 0.4838, source_val_label_loss: 1.5891, target_val_acc_label: 0.4838, target_val_label_loss: 1.5891, \n",
      "=============================================================\n"
     ]
    },
    {
     "name": "stdout",
     "output_type": "stream",
     "text": [
      "epoch: 9, [batch: 1 / 1400], examples_per_second: 72.6669, train_label_loss: 0.3617, \n"
     ]
    },
    {
     "name": "stdout",
     "output_type": "stream",
     "text": [
      "epoch: 9, [batch: 140 / 1400], examples_per_second: 14133.9430, train_label_loss: 0.3074, \n"
     ]
    },
    {
     "name": "stdout",
     "output_type": "stream",
     "text": [
      "epoch: 9, [batch: 280 / 1400], examples_per_second: 13409.1706, train_label_loss: 0.2983, \n"
     ]
    },
    {
     "name": "stdout",
     "output_type": "stream",
     "text": [
      "epoch: 9, [batch: 420 / 1400], examples_per_second: 13012.2742, train_label_loss: 0.4159, \n"
     ]
    },
    {
     "name": "stdout",
     "output_type": "stream",
     "text": [
      "epoch: 9, [batch: 560 / 1400], examples_per_second: 13055.6527, train_label_loss: 0.4761, \n"
     ]
    },
    {
     "name": "stdout",
     "output_type": "stream",
     "text": [
      "epoch: 9, [batch: 700 / 1400], examples_per_second: 13018.4316, train_label_loss: 0.3886, \n"
     ]
    },
    {
     "name": "stdout",
     "output_type": "stream",
     "text": [
      "epoch: 9, [batch: 840 / 1400], examples_per_second: 12838.2492, train_label_loss: 0.4022, \n"
     ]
    },
    {
     "name": "stdout",
     "output_type": "stream",
     "text": [
      "epoch: 9, [batch: 980 / 1400], examples_per_second: 12986.6235, train_label_loss: 0.7272, \n"
     ]
    },
    {
     "name": "stdout",
     "output_type": "stream",
     "text": [
      "epoch: 9, [batch: 1120 / 1400], examples_per_second: 13057.2743, train_label_loss: 0.4070, \n"
     ]
    },
    {
     "name": "stdout",
     "output_type": "stream",
     "text": [
      "epoch: 9, [batch: 1260 / 1400], examples_per_second: 13039.1257, train_label_loss: 0.4128, \n"
     ]
    },
    {
     "name": "stdout",
     "output_type": "stream",
     "text": [
      "=============================================================\n",
      "epoch: 9, source_val_acc_label: 0.4710, source_val_label_loss: 1.7088, target_val_acc_label: 0.4710, target_val_label_loss: 1.7088, \n",
      "=============================================================\n"
     ]
    },
    {
     "name": "stdout",
     "output_type": "stream",
     "text": [
      "epoch: 10, [batch: 1 / 1400], examples_per_second: 72.1613, train_label_loss: 0.2868, \n"
     ]
    },
    {
     "name": "stdout",
     "output_type": "stream",
     "text": [
      "epoch: 10, [batch: 140 / 1400], examples_per_second: 12969.6138, train_label_loss: 0.2045, \n"
     ]
    },
    {
     "name": "stdout",
     "output_type": "stream",
     "text": [
      "epoch: 10, [batch: 280 / 1400], examples_per_second: 12905.9519, train_label_loss: 0.2797, \n"
     ]
    },
    {
     "name": "stdout",
     "output_type": "stream",
     "text": [
      "epoch: 10, [batch: 420 / 1400], examples_per_second: 12974.1552, train_label_loss: 0.2795, \n"
     ]
    },
    {
     "name": "stdout",
     "output_type": "stream",
     "text": [
      "epoch: 10, [batch: 560 / 1400], examples_per_second: 12995.4434, train_label_loss: 0.3350, \n"
     ]
    },
    {
     "name": "stdout",
     "output_type": "stream",
     "text": [
      "epoch: 10, [batch: 700 / 1400], examples_per_second: 12793.9682, train_label_loss: 0.2845, \n"
     ]
    },
    {
     "name": "stdout",
     "output_type": "stream",
     "text": [
      "epoch: 10, [batch: 840 / 1400], examples_per_second: 13035.5007, train_label_loss: 0.3215, \n"
     ]
    },
    {
     "name": "stdout",
     "output_type": "stream",
     "text": [
      "epoch: 10, [batch: 980 / 1400], examples_per_second: 12972.1869, train_label_loss: 0.3794, \n"
     ]
    },
    {
     "name": "stdout",
     "output_type": "stream",
     "text": [
      "epoch: 10, [batch: 1120 / 1400], examples_per_second: 13078.4154, train_label_loss: 0.2828, \n"
     ]
    },
    {
     "name": "stdout",
     "output_type": "stream",
     "text": [
      "epoch: 10, [batch: 1260 / 1400], examples_per_second: 12945.6703, train_label_loss: 0.2918, \n"
     ]
    },
    {
     "name": "stdout",
     "output_type": "stream",
     "text": [
      "=============================================================\n",
      "epoch: 10, source_val_acc_label: 0.4649, source_val_label_loss: 1.8539, target_val_acc_label: 0.4649, target_val_label_loss: 1.8539, \n",
      "=============================================================\n"
     ]
    },
    {
     "name": "stdout",
     "output_type": "stream",
     "text": [
      "Patience (3) exhausted\n"
     ]
    }
   ],
   "source": [
    "jig = Vanilla_Train_Eval_Test_Jig(\n",
    "    model=model,\n",
    "    path_to_best_model=p.BEST_MODEL_PATH,\n",
    "    device=p.device,\n",
    "    label_loss_object=torch.nn.NLLLoss(),\n",
    ")\n",
    "\n",
    "jig.train(\n",
    "    train_iterable=datasets.source.processed.train,\n",
    "    source_val_iterable=datasets.source.processed.val,\n",
    "    target_val_iterable=datasets.target.processed.val,\n",
    "    patience=p.patience,\n",
    "    num_epochs=p.n_epoch,\n",
    "    num_logs_per_epoch=p.NUM_LOGS_PER_EPOCH,\n",
    "    criteria_for_best=p.criteria_for_best\n",
    ")"
   ]
  },
  {
   "cell_type": "code",
   "execution_count": 14,
   "id": "4bc2ac17",
   "metadata": {
    "execution": {
     "iopub.execute_input": "2022-03-26T10:04:46.819175Z",
     "iopub.status.busy": "2022-03-26T10:04:46.818805Z",
     "iopub.status.idle": "2022-03-26T10:04:46.822493Z",
     "shell.execute_reply": "2022-03-26T10:04:46.821698Z"
    },
    "papermill": {
     "duration": 0.052439,
     "end_time": "2022-03-26T10:04:46.822655",
     "exception": false,
     "start_time": "2022-03-26T10:04:46.770216",
     "status": "completed"
    },
    "tags": []
   },
   "outputs": [],
   "source": [
    "total_experiment_time_secs = time.time() - start_time_secs"
   ]
  },
  {
   "cell_type": "code",
   "execution_count": 15,
   "id": "cae88f23",
   "metadata": {
    "execution": {
     "iopub.execute_input": "2022-03-26T10:04:46.927027Z",
     "iopub.status.busy": "2022-03-26T10:04:46.926069Z",
     "iopub.status.idle": "2022-03-26T10:05:08.385754Z",
     "shell.execute_reply": "2022-03-26T10:05:08.386075Z"
    },
    "papermill": {
     "duration": 21.515016,
     "end_time": "2022-03-26T10:05:08.386206",
     "exception": false,
     "start_time": "2022-03-26T10:04:46.871190",
     "status": "completed"
    },
    "tags": []
   },
   "outputs": [],
   "source": [
    "source_test_label_accuracy, source_test_label_loss = jig.test(datasets.source.processed.test)\n",
    "target_test_label_accuracy, target_test_label_loss = jig.test(datasets.target.processed.test)\n",
    "\n",
    "source_val_label_accuracy, source_val_label_loss = jig.test(datasets.source.processed.val)\n",
    "target_val_label_accuracy, target_val_label_loss = jig.test(datasets.target.processed.val)\n",
    "\n",
    "history = jig.get_history()\n",
    "\n",
    "total_epochs_trained = len(history[\"epoch_indices\"])\n",
    "\n",
    "val_dl = wrap_in_dataloader(p, Sequence_Aggregator((datasets.source.original.val, datasets.target.original.val)))\n",
    "\n",
    "confusion = confusion_by_domain_over_dataloader(model, p.device, val_dl, forward_uses_domain=False)\n",
    "per_domain_accuracy = per_domain_accuracy_from_confusion(confusion)\n",
    "\n",
    "# Add a key to per_domain_accuracy for if it was a source domain\n",
    "for domain, accuracy in per_domain_accuracy.items():\n",
    "    per_domain_accuracy[domain] = {\n",
    "        \"accuracy\": accuracy,\n",
    "        \"source?\": domain in p.domains_source\n",
    "    }\n",
    "\n",
    "# Do an independent accuracy assesment JUST TO BE SURE!\n",
    "# _source_test_label_accuracy = independent_accuracy_assesment(model, datasets.source.processed.test, p.device)\n",
    "# _target_test_label_accuracy = independent_accuracy_assesment(model, datasets.target.processed.test, p.device)\n",
    "# _source_val_label_accuracy = independent_accuracy_assesment(model, datasets.source.processed.val, p.device)\n",
    "# _target_val_label_accuracy = independent_accuracy_assesment(model, datasets.target.processed.val, p.device)\n",
    "\n",
    "# assert(_source_test_label_accuracy == source_test_label_accuracy)\n",
    "# assert(_target_test_label_accuracy == target_test_label_accuracy)\n",
    "# assert(_source_val_label_accuracy == source_val_label_accuracy)\n",
    "# assert(_target_val_label_accuracy == target_val_label_accuracy)\n",
    "\n",
    "###################################\n",
    "# Write out the results\n",
    "###################################\n",
    "\n",
    "experiment = {\n",
    "    \"experiment_name\": p.experiment_name,\n",
    "    \"parameters\": p,\n",
    "    \"results\": {\n",
    "        \"source_test_label_accuracy\": source_test_label_accuracy,\n",
    "        \"source_test_label_loss\": source_test_label_loss,\n",
    "        \"target_test_label_accuracy\": target_test_label_accuracy,\n",
    "        \"target_test_label_loss\": target_test_label_loss,\n",
    "        \"source_val_label_accuracy\": source_val_label_accuracy,\n",
    "        \"source_val_label_loss\": source_val_label_loss,\n",
    "        \"target_val_label_accuracy\": target_val_label_accuracy,\n",
    "        \"target_val_label_loss\": target_val_label_loss,\n",
    "        \"total_epochs_trained\": total_epochs_trained,\n",
    "        \"total_experiment_time_secs\": total_experiment_time_secs,\n",
    "        \"confusion\": confusion,\n",
    "        \"per_domain_accuracy\": per_domain_accuracy,\n",
    "    },\n",
    "    \"history\": history,\n",
    "    \"dataset_metrics\": get_dataset_metrics(datasets, \"cnn\"),\n",
    "}"
   ]
  },
  {
   "cell_type": "code",
   "execution_count": 16,
   "id": "74c318cf",
   "metadata": {
    "execution": {
     "iopub.execute_input": "2022-03-26T10:05:08.513446Z",
     "iopub.status.busy": "2022-03-26T10:05:08.505686Z",
     "iopub.status.idle": "2022-03-26T10:05:08.681083Z",
     "shell.execute_reply": "2022-03-26T10:05:08.681776Z"
    },
    "papermill": {
     "duration": 0.247182,
     "end_time": "2022-03-26T10:05:08.681976",
     "exception": false,
     "start_time": "2022-03-26T10:05:08.434794",
     "status": "completed"
    },
    "tags": []
   },
   "outputs": [
    {
     "data": {
      "text/plain": [
       "<AxesSubplot:title={'center':'Source Train Label Loss vs Source Val Label Loss'}, xlabel='Epoch'>"
      ]
     },
     "execution_count": 16,
     "metadata": {},
     "output_type": "execute_result"
    },
    {
     "data": {
      "image/png": "[encoded data removed]",
      "text/plain": [
       "<Figure size 1080x504 with 1 Axes>"
      ]
     },
     "metadata": {
      "needs_background": "light"
     },
     "output_type": "display_data"
    }
   ],
   "source": [
    "get_loss_curve(experiment)"
   ]
  },
  {
   "cell_type": "code",
   "execution_count": 17,
   "id": "59376601",
   "metadata": {
    "execution": {
     "iopub.execute_input": "2022-03-26T10:05:08.803450Z",
     "iopub.status.busy": "2022-03-26T10:05:08.795064Z",
     "iopub.status.idle": "2022-03-26T10:05:09.062773Z",
     "shell.execute_reply": "2022-03-26T10:05:09.063465Z"
    },
    "papermill": {
     "duration": 0.332022,
     "end_time": "2022-03-26T10:05:09.063680",
     "exception": false,
     "start_time": "2022-03-26T10:05:08.731658",
     "status": "completed"
    },
    "tags": []
   },
   "outputs": [
    {
     "data": {
      "text/plain": [
       "<AxesSubplot:title={'center':'Results'}>"
      ]
     },
     "execution_count": 17,
     "metadata": {},
     "output_type": "execute_result"
    },
    {
     "data": {
      "image/png": "[encoded data removed]",
      "text/plain": [
       "<Figure size 1080x504 with 1 Axes>"
      ]
     },
     "metadata": {
      "needs_background": "light"
     },
     "output_type": "display_data"
    }
   ],
   "source": [
    "get_results_table(experiment)"
   ]
  },
  {
   "cell_type": "code",
   "execution_count": 18,
   "id": "e80c5c98",
   "metadata": {
    "execution": {
     "iopub.execute_input": "2022-03-26T10:05:09.174713Z",
     "iopub.status.busy": "2022-03-26T10:05:09.169983Z",
     "iopub.status.idle": "2022-03-26T10:05:09.339552Z",
     "shell.execute_reply": "2022-03-26T10:05:09.338720Z"
    },
    "papermill": {
     "duration": 0.226155,
     "end_time": "2022-03-26T10:05:09.339710",
     "exception": false,
     "start_time": "2022-03-26T10:05:09.113555",
     "status": "completed"
    },
    "tags": []
   },
   "outputs": [
    {
     "data": {
      "text/plain": [
       "<AxesSubplot:title={'center':'Per Domain Accuracy'}, xlabel='domain'>"
      ]
     },
     "execution_count": 18,
     "metadata": {},
     "output_type": "execute_result"
    },
    {
     "data": {
      "image/png": "[encoded data removed]",
      "text/plain": [
       "<Figure size 1080x504 with 1 Axes>"
      ]
     },
     "metadata": {
      "needs_background": "light"
     },
     "output_type": "display_data"
    }
   ],
   "source": [
    "get_domain_accuracies(experiment)"
   ]
  },
  {
   "cell_type": "code",
   "execution_count": 19,
   "id": "086fdd10",
   "metadata": {
    "execution": {
     "iopub.execute_input": "2022-03-26T10:05:09.445580Z",
     "iopub.status.busy": "2022-03-26T10:05:09.445050Z",
     "iopub.status.idle": "2022-03-26T10:05:09.448597Z",
     "shell.execute_reply": "2022-03-26T10:05:09.448275Z"
    },
    "papermill": {
     "duration": 0.055341,
     "end_time": "2022-03-26T10:05:09.448671",
     "exception": false,
     "start_time": "2022-03-26T10:05:09.393330",
     "status": "completed"
    },
    "tags": []
   },
   "outputs": [
    {
     "name": "stdout",
     "output_type": "stream",
     "text": [
      "Source Test Label Accuracy: 0.502265625 Target Test Label Accuracy: 0.502265625\n",
      "Source Val Label Accuracy: 0.501875 Target Val Label Accuracy: 0.501875\n"
     ]
    }
   ],
   "source": [
    "print(\"Source Test Label Accuracy:\", experiment[\"results\"][\"source_test_label_accuracy\"], \"Target Test Label Accuracy:\", experiment[\"results\"][\"target_test_label_accuracy\"])\n",
    "print(\"Source Val Label Accuracy:\", experiment[\"results\"][\"source_val_label_accuracy\"], \"Target Val Label Accuracy:\", experiment[\"results\"][\"target_val_label_accuracy\"])"
   ]
  },
  {
   "cell_type": "code",
   "execution_count": 20,
   "id": "9f450536",
   "metadata": {
    "execution": {
     "iopub.execute_input": "2022-03-26T10:05:09.554857Z",
     "iopub.status.busy": "2022-03-26T10:05:09.554376Z",
     "iopub.status.idle": "2022-03-26T10:05:09.557164Z",
     "shell.execute_reply": "2022-03-26T10:05:09.556837Z"
    },
    "papermill": {
     "duration": 0.05538,
     "end_time": "2022-03-26T10:05:09.557236",
     "exception": false,
     "start_time": "2022-03-26T10:05:09.501856",
     "status": "completed"
    },
    "tags": [
     "experiment_json"
    ]
   },
   "outputs": [
    {
     "data": {
      "text/plain": [
       "'{\"experiment_name\": \"cnn_2:oracle.run2_limited\", \"parameters\": {\"experiment_name\": \"cnn_2:oracle.run2_limited\", \"labels\": [\"3123D52\", \"3123D65\", \"3123D79\", \"3123D80\", \"3123D54\", \"3123D70\", \"3123D7B\", \"3123D89\", \"3123D58\", \"3123D76\", \"3123D7D\", \"3123EFE\", \"3123D64\", \"3123D78\", \"3123D7E\", \"3124E4A\"], \"domains_source\": [8, 32, 50, 14, 20, 26, 38, 44], \"domains_target\": [8, 32, 50, 14, 20, 26, 38, 44], \"pickle_name_source\": \"oracle.Run2_10kExamples_stratified_ds.2022A.pkl\", \"pickle_name_target\": \"oracle.Run2_10kExamples_stratified_ds.2022A.pkl\", \"device\": \"cuda\", \"lr\": 0.0001, \"batch_size\": 128, \"normalize_source\": false, \"normalize_target\": false, \"num_examples_per_domain_per_label_source\": 2000, \"num_examples_per_domain_per_label_target\": 2000, \"torch_default_dtype\": \"torch.float32\", \"n_epoch\": 50, \"patience\": 3, \"criteria_for_best\": \"target_accuracy\", \"x_net\": [{\"class\": \"nnReshape\", \"kargs\": {\"shape\": [-1, 1, 2, 256]}}, {\"class\": \"Conv2d\", \"kargs\": {\"in_channels\": 1, \"out_channels\": 256, \"kernel_size\": [1, 7], \"bias\": false, \"padding\": [0, 3]}}, {\"class\": \"ReLU\", \"kargs\": {\"inplace\": true}}, {\"class\": \"BatchNorm2d\", \"kargs\": {\"num_features\": 256}}, {\"class\": \"Conv2d\", \"kargs\": {\"in_channels\": 256, \"out_channels\": 80, \"kernel_size\": [2, 7], \"bias\": true, \"padding\": [0, 3]}}, {\"class\": \"ReLU\", \"kargs\": {\"inplace\": true}}, {\"class\": \"BatchNorm2d\", \"kargs\": {\"num_features\": 80}}, {\"class\": \"Flatten\", \"kargs\": {}}, {\"class\": \"Linear\", \"kargs\": {\"in_features\": 20480, \"out_features\": 256}}, {\"class\": \"ReLU\", \"kargs\": {\"inplace\": true}}, {\"class\": \"BatchNorm1d\", \"kargs\": {\"num_features\": 256}}, {\"class\": \"Linear\", \"kargs\": {\"in_features\": 256, \"out_features\": 16}}], \"NUM_LOGS_PER_EPOCH\": 10, \"BEST_MODEL_PATH\": \"./best_model.pth\", \"dataset_seed\": 154325, \"seed\": 154325}, \"results\": {\"source_test_label_accuracy\": 0.502265625, \"source_test_label_loss\": 1.448088774283727, \"target_test_label_accuracy\": 0.502265625, \"target_test_label_loss\": 1.4480887937545777, \"source_val_label_accuracy\": 0.501875, \"source_val_label_loss\": 1.4531980820496877, \"target_val_label_accuracy\": 0.501875, \"target_val_label_loss\": 1.4531980792681376, \"total_epochs_trained\": 10, \"total_experiment_time_secs\": 201.4914906024933, \"confusion\": {\"44\": {\"14\": {\"14\": 178, \"5\": 64, \"4\": 296, \"8\": 44, \"0\": 4, \"15\": 6, \"6\": 4, \"7\": 2, \"12\": 2}, \"12\": {\"8\": 32, \"3\": 382, \"1\": 50, \"2\": 10, \"12\": 84, \"7\": 20, \"4\": 14, \"0\": 6, \"11\": 2}, \"5\": {\"5\": 412, \"8\": 66, \"6\": 50, \"4\": 28, \"15\": 14, \"14\": 30}, \"15\": {\"15\": 360, \"6\": 36, \"5\": 48, \"14\": 12, \"8\": 90, \"0\": 36, \"12\": 8, \"4\": 6, \"9\": 2, \"1\": 2}, \"7\": {\"9\": 434, \"6\": 72, \"10\": 42, \"7\": 44, \"0\": 8}, \"10\": {\"10\": 578, \"7\": 16, \"9\": 6}, \"2\": {\"2\": 396, \"15\": 122, \"5\": 42, \"1\": 30, \"9\": 6, \"8\": 4}, \"11\": {\"11\": 600}, \"4\": {\"4\": 422, \"14\": 24, \"15\": 38, \"9\": 34, \"0\": 42, \"5\": 20, \"7\": 6, \"6\": 8, \"8\": 6}, \"6\": {\"6\": 520, \"13\": 38, \"9\": 6, \"0\": 10, \"10\": 26}, \"9\": {\"9\": 460, \"6\": 62, \"10\": 10, \"0\": 20, \"7\": 44, \"15\": 2, \"5\": 2}, \"0\": {\"8\": 446, \"0\": 146, \"15\": 6, \"14\": 2}, \"8\": {\"8\": 544, \"0\": 26, \"5\": 4, \"15\": 8, \"6\": 8, \"14\": 8, \"4\": 2}, \"3\": {\"7\": 140, \"8\": 26, \"3\": 146, \"4\": 54, \"2\": 106, \"0\": 12, \"1\": 62, \"11\": 20, \"12\": 30, \"14\": 2, \"13\": 2}, \"13\": {\"13\": 398, \"6\": 52, \"4\": 30, \"11\": 4, \"7\": 20, \"10\": 88, \"3\": 6, \"0\": 2}, \"1\": {\"1\": 466, \"2\": 58, \"5\": 26, \"8\": 4, \"7\": 44, \"12\": 2}}, \"38\": {\"0\": {\"6\": 64, \"9\": 110, \"0\": 196, \"15\": 8, \"4\": 146, \"13\": 26, \"7\": 46, \"10\": 2, \"5\": 2}, \"8\": {\"7\": 10, \"4\": 180, \"5\": 298, \"8\": 16, \"14\": 76, \"15\": 14, \"6\": 6}, \"11\": {\"11\": 600}, \"1\": {\"1\": 492, \"0\": 66, \"15\": 14, \"6\": 10, \"9\": 4, \"5\": 2, \"11\": 4, \"2\": 6, \"14\": 2}, \"15\": {\"1\": 338, \"15\": 216, \"14\": 6, \"10\": 12, \"0\": 4, \"6\": 18, \"13\": 2, \"5\": 2, \"11\": 2}, \"13\": {\"13\": 306, \"3\": 286, \"10\": 6, \"11\": 2}, \"9\": {\"15\": 124, \"9\": 406, \"5\": 20, \"4\": 4, \"12\": 40, \"11\": 2, \"14\": 2, \"8\": 2}, \"14\": {\"2\": 42, \"14\": 268, \"7\": 208, \"4\": 26, \"3\": 14, \"13\": 4, \"5\": 32, \"8\": 4, \"6\": 2}, \"3\": {\"13\": 218, \"3\": 336, \"11\": 34, \"10\": 12}, \"6\": {\"11\": 20, \"14\": 228, \"9\": 38, \"6\": 170, \"2\": 24, \"1\": 74, \"0\": 18, \"15\": 26, \"13\": 2}, \"2\": {\"8\": 38, \"2\": 210, \"5\": 78, \"7\": 88, \"14\": 128, \"3\": 50, \"4\": 8}, \"4\": {\"4\": 584, \"10\": 4, \"13\": 12}, \"5\": {\"8\": 4, \"5\": 456, \"15\": 60, \"14\": 8, \"4\": 56, \"6\": 6, \"1\": 8, \"9\": 2}, \"10\": {\"10\": 356, \"13\": 194, \"3\": 42, \"11\": 8}, \"12\": {\"12\": 520, \"13\": 38, \"5\": 6, \"15\": 4, \"14\": 26, \"4\": 6}, \"7\": {\"4\": 206, \"7\": 326, \"0\": 16, \"6\": 4, \"10\": 4, \"13\": 14, \"14\": 22, \"5\": 6, \"8\": 2}}, \"26\": {\"5\": {\"5\": 404, \"9\": 28, \"14\": 22, \"10\": 4, \"11\": 18, \"0\": 4, \"6\": 90, \"13\": 2, \"15\": 16, \"12\": 4, \"1\": 2, \"8\": 2, \"2\": 4}, \"1\": {\"1\": 350, \"6\": 14, \"0\": 36, \"14\": 114, \"10\": 64, \"5\": 6, \"8\": 4, \"15\": 12}, \"13\": {\"13\": 222, \"5\": 44, \"9\": 106, \"7\": 104, \"8\": 58, \"3\": 12, \"2\": 26, \"6\": 16, \"15\": 4, \"11\": 4, \"10\": 2, \"14\": 2}, \"2\": {\"7\": 156, \"15\": 74, \"6\": 50, \"13\": 24, \"2\": 42, \"8\": 72, \"10\": 24, \"3\": 42, \"0\": 46, \"14\": 14, \"9\": 18, \"5\": 34, \"4\": 2, \"1\": 2}, \"0\": {\"0\": 174, \"8\": 50, \"10\": 108, \"15\": 44, \"6\": 68, \"1\": 46, \"5\": 8, \"14\": 94, \"9\": 2, \"7\": 6}, \"3\": {\"3\": 270, \"0\": 20, \"13\": 36, \"8\": 20, \"7\": 122, \"2\": 52, \"15\": 40, \"4\": 8, \"10\": 10, \"5\": 6, \"9\": 4, \"14\": 4, \"6\": 8}, \"7\": {\"2\": 48, \"7\": 134, \"8\": 50, \"3\": 158, \"5\": 18, \"15\": 38, \"6\": 10, \"14\": 10, \"0\": 36, \"4\": 14, \"10\": 26, \"13\": 40, \"9\": 18}, \"10\": {\"10\": 148, \"0\": 128, \"8\": 32, \"14\": 94, \"6\": 78, \"9\": 2, \"15\": 20, \"1\": 78, \"5\": 10, \"7\": 4, \"12\": 4, \"2\": 2}, \"11\": {\"11\": 412, \"6\": 160, \"12\": 26, \"5\": 2}, \"4\": {\"3\": 244, \"4\": 170, \"14\": 48, \"6\": 2, \"10\": 66, \"0\": 32, \"8\": 12, \"2\": 20, \"13\": 6}, \"9\": {\"15\": 32, \"8\": 116, \"3\": 20, \"6\": 76, \"7\": 102, \"13\": 60, \"2\": 38, \"9\": 76, \"5\": 46, \"10\": 10, \"0\": 20, \"11\": 2, \"12\": 2}, \"6\": {\"5\": 164, \"9\": 20, \"0\": 22, \"11\": 22, \"6\": 244, \"1\": 32, \"14\": 52, \"10\": 26, \"8\": 4, \"12\": 10, \"15\": 2, \"13\": 2}, \"14\": {\"0\": 112, \"14\": 178, \"1\": 134, \"10\": 82, \"6\": 44, \"8\": 14, \"5\": 20, \"15\": 14, \"12\": 2}, \"12\": {\"12\": 522, \"11\": 14, \"10\": 44, \"6\": 16, \"0\": 2, \"8\": 2}, \"8\": {\"0\": 66, \"8\": 122, \"6\": 56, \"7\": 86, \"2\": 30, \"10\": 80, \"15\": 32, \"5\": 30, \"3\": 22, \"14\": 30, \"9\": 18, \"1\": 8, \"12\": 2, \"13\": 16, \"4\": 2}, \"15\": {\"6\": 86, \"15\": 296, \"8\": 34, \"7\": 66, \"0\": 30, \"14\": 10, \"2\": 12, \"5\": 36, \"1\": 2, \"13\": 8, \"3\": 12, \"9\": 6, \"10\": 2}}, \"50\": {\"12\": {\"9\": 238, \"12\": 326, \"15\": 30, \"8\": 2, \"5\": 2, \"14\": 2}, \"7\": {\"7\": 406, \"14\": 138, \"4\": 38, \"8\": 2, \"3\": 16}, \"10\": {\"10\": 308, \"13\": 40, \"0\": 22, \"1\": 218, \"8\": 8, \"12\": 2, \"15\": 2}, \"15\": {\"4\": 240, \"5\": 188, \"6\": 34, \"14\": 36, \"7\": 10, \"15\": 70, \"8\": 12, \"0\": 6, \"9\": 4}, \"11\": {\"15\": 438, \"6\": 24, \"11\": 46, \"1\": 20, \"5\": 66, \"2\": 2, \"9\": 4}, \"3\": {\"3\": 592, \"8\": 6, \"2\": 2}, \"5\": {\"14\": 236, \"7\": 118, \"5\": 132, \"8\": 30, \"4\": 76, \"2\": 6, \"3\": 2}, \"1\": {\"1\": 370, \"5\": 26, \"15\": 138, \"6\": 18, \"13\": 42, \"0\": 2, \"11\": 2, \"8\": 2}, \"14\": {\"14\": 380, \"9\": 164, \"2\": 20, \"6\": 34, \"15\": 2}, \"4\": {\"4\": 186, \"7\": 212, \"14\": 148, \"8\": 10, \"5\": 42, \"2\": 2}, \"0\": {\"12\": 6, \"0\": 402, \"10\": 32, \"1\": 102, \"2\": 52, \"9\": 2, \"6\": 2, \"15\": 2}, \"2\": {\"0\": 112, \"2\": 434, \"9\": 38, \"1\": 10, \"6\": 6}, \"9\": {\"9\": 572, \"12\": 24, \"14\": 2, \"4\": 2}, \"13\": {\"13\": 452, \"6\": 2, \"8\": 40, \"1\": 100, \"5\": 6}, \"6\": {\"14\": 54, \"5\": 424, \"6\": 20, \"8\": 38, \"4\": 42, \"15\": 10, \"2\": 6, \"7\": 6}, \"8\": {\"8\": 490, \"13\": 20, \"1\": 84, \"2\": 2, \"3\": 4}}, \"32\": {\"4\": {\"4\": 210, \"0\": 58, \"11\": 74, \"3\": 64, \"2\": 62, \"8\": 34, \"14\": 30, \"7\": 10, \"12\": 12, \"1\": 6, \"13\": 32, \"15\": 6, \"6\": 2}, \"9\": {\"6\": 76, \"9\": 234, \"14\": 168, \"1\": 6, \"2\": 94, \"15\": 2, \"0\": 16, \"5\": 2, \"11\": 2}, \"15\": {\"15\": 554, \"2\": 32, \"1\": 2, \"8\": 10, \"9\": 2}, \"1\": {\"1\": 558, \"8\": 38, \"10\": 4}, \"8\": {\"0\": 32, \"8\": 184, \"2\": 160, \"1\": 170, \"15\": 24, \"6\": 2, \"11\": 8, \"4\": 8, \"13\": 2, \"5\": 4, \"14\": 2, \"7\": 2, \"3\": 2}, \"11\": {\"11\": 268, \"4\": 126, \"14\": 62, \"13\": 44, \"2\": 36, \"7\": 24, \"3\": 24, \"12\": 4, \"15\": 4, \"0\": 8}, \"7\": {\"7\": 338, \"2\": 118, \"1\": 106, \"4\": 6, \"5\": 14, \"14\": 4, \"12\": 8, \"0\": 4, \"3\": 2}, \"13\": {\"4\": 108, \"3\": 98, \"11\": 54, \"13\": 310, \"0\": 6, \"8\": 4, \"12\": 8, \"14\": 6, \"15\": 6}, \"6\": {\"11\": 154, \"6\": 430, \"2\": 4, \"12\": 12}, \"5\": {\"5\": 242, \"7\": 14, \"9\": 240, \"1\": 32, \"15\": 12, \"2\": 28, \"12\": 24, \"14\": 4, \"11\": 2, \"8\": 2}, \"12\": {\"12\": 438, \"11\": 18, \"10\": 50, \"1\": 44, \"6\": 38, \"2\": 2, \"14\": 4, \"5\": 4, \"0\": 2}, \"0\": {\"0\": 74, \"2\": 192, \"14\": 58, \"6\": 8, \"9\": 4, \"4\": 46, \"7\": 22, \"1\": 52, \"11\": 94, \"8\": 38, \"5\": 4, \"15\": 4, \"3\": 4}, \"10\": {\"10\": 592, \"1\": 6, \"12\": 2}, \"2\": {\"2\": 392, \"1\": 38, \"11\": 46, \"0\": 6, \"14\": 68, \"7\": 24, \"4\": 2, \"5\": 12, \"8\": 4, \"12\": 6, \"9\": 2}, \"3\": {\"3\": 472, \"13\": 66, \"12\": 36, \"8\": 10, \"4\": 14, \"15\": 2}, \"14\": {\"14\": 270, \"2\": 110, \"1\": 40, \"0\": 10, \"9\": 30, \"6\": 44, \"11\": 62, \"12\": 2, \"15\": 18, \"5\": 12, \"7\": 2}}, \"8\": {\"5\": {\"10\": 234, \"1\": 32, \"5\": 178, \"13\": 132, \"2\": 4, \"14\": 6, \"4\": 12, \"7\": 2}, \"0\": {\"0\": 538, \"14\": 32, \"6\": 22, \"11\": 2, \"8\": 6}, \"4\": {\"7\": 220, \"4\": 230, \"6\": 22, \"11\": 52, \"10\": 20, \"13\": 32, \"14\": 8, \"3\": 4, \"8\": 8, \"12\": 4}, \"11\": {\"11\": 312, \"6\": 78, \"8\": 126, \"10\": 46, \"7\": 6, \"12\": 30, \"4\": 2}, \"14\": {\"14\": 222, \"4\": 108, \"6\": 124, \"7\": 80, \"5\": 4, \"11\": 16, \"13\": 4, \"1\": 2, \"10\": 14, \"8\": 26}, \"1\": {\"14\": 44, \"10\": 100, \"1\": 166, \"5\": 16, \"12\": 2, \"4\": 98, \"8\": 30, \"13\": 106, \"7\": 30, \"11\": 2, \"6\": 6}, \"12\": {\"7\": 22, \"14\": 60, \"15\": 64, \"12\": 214, \"10\": 142, \"4\": 40, \"6\": 10, \"8\": 26, \"3\": 20, \"11\": 2}, \"2\": {\"2\": 216, \"1\": 70, \"15\": 116, \"9\": 52, \"13\": 58, \"5\": 20, \"3\": 34, \"12\": 30, \"4\": 2, \"0\": 2}, \"3\": {\"10\": 130, \"3\": 258, \"4\": 50, \"0\": 128, \"14\": 16, \"8\": 12, \"1\": 2, \"9\": 2, \"15\": 2}, \"9\": {\"9\": 596, \"12\": 2, \"10\": 2}, \"7\": {\"7\": 234, \"8\": 2, \"12\": 32, \"13\": 56, \"11\": 56, \"10\": 50, \"4\": 154, \"1\": 2, \"14\": 6, \"2\": 2, \"3\": 2, \"6\": 4}, \"8\": {\"11\": 230, \"8\": 282, \"10\": 4, \"6\": 62, \"4\": 10, \"7\": 12}, \"10\": {\"13\": 236, \"10\": 178, \"1\": 14, \"5\": 112, \"2\": 14, \"7\": 12, \"12\": 8, \"15\": 4, \"4\": 22}, \"6\": {\"6\": 242, \"4\": 84, \"14\": 50, \"8\": 52, \"7\": 106, \"11\": 64, \"3\": 2}, \"13\": {\"12\": 44, \"13\": 246, \"10\": 162, \"1\": 40, \"2\": 10, \"5\": 36, \"7\": 28, \"4\": 32, \"15\": 2}, \"15\": {\"8\": 26, \"15\": 262, \"12\": 86, \"10\": 82, \"3\": 32, \"4\": 34, \"14\": 32, \"0\": 28, \"2\": 10, \"5\": 4, \"1\": 4}}, \"20\": {\"14\": {\"10\": 36, \"14\": 448, \"4\": 32, \"8\": 40, \"6\": 26, \"12\": 6, \"15\": 4, \"2\": 2, \"3\": 4, \"0\": 2}, \"0\": {\"0\": 368, \"2\": 30, \"5\": 16, \"3\": 72, \"1\": 20, \"15\": 30, \"9\": 32, \"4\": 14, \"12\": 4, \"10\": 10, \"14\": 2, \"11\": 2}, \"9\": {\"1\": 72, \"4\": 44, \"2\": 114, \"13\": 32, \"7\": 28, \"12\": 36, \"3\": 82, \"15\": 68, \"5\": 24, \"9\": 56, \"0\": 6, \"11\": 26, \"8\": 6, \"10\": 6}, \"8\": {\"14\": 254, \"2\": 12, \"4\": 88, \"8\": 96, \"0\": 70, \"15\": 12, \"10\": 16, \"3\": 32, \"12\": 4, \"1\": 4, \"7\": 2, \"5\": 6, \"6\": 2, \"11\": 2}, \"6\": {\"6\": 486, \"11\": 6, \"10\": 68, \"1\": 2, \"7\": 26, \"4\": 6, \"12\": 2, \"14\": 4}, \"5\": {\"3\": 122, \"12\": 40, \"10\": 18, \"7\": 24, \"5\": 80, \"1\": 42, \"15\": 54, \"4\": 72, \"13\": 10, \"9\": 32, \"2\": 62, \"11\": 18, \"0\": 22, \"8\": 4}, \"3\": {\"7\": 116, \"11\": 22, \"15\": 40, \"3\": 140, \"4\": 70, \"12\": 42, \"13\": 26, \"5\": 44, \"2\": 34, \"10\": 22, \"1\": 32, \"9\": 6, \"8\": 4, \"6\": 2}, \"2\": {\"5\": 40, \"1\": 68, \"3\": 104, \"2\": 108, \"4\": 72, \"13\": 26, \"15\": 54, \"12\": 22, \"10\": 6, \"7\": 38, \"9\": 28, \"11\": 24, \"0\": 6, \"8\": 4}, \"10\": {\"10\": 260, \"6\": 176, \"4\": 12, \"12\": 56, \"7\": 70, \"3\": 10, \"14\": 8, \"8\": 4, \"13\": 2, \"11\": 2}, \"1\": {\"9\": 80, \"2\": 172, \"0\": 32, \"15\": 106, \"1\": 88, \"3\": 54, \"12\": 22, \"5\": 32, \"10\": 2, \"4\": 12}, \"11\": {\"8\": 32, \"11\": 248, \"9\": 18, \"5\": 68, \"1\": 66, \"3\": 22, \"2\": 10, \"7\": 2, \"4\": 68, \"0\": 64, \"13\": 2}, \"12\": {\"7\": 102, \"13\": 92, \"4\": 42, \"3\": 42, \"10\": 38, \"11\": 22, \"2\": 26, \"15\": 36, \"12\": 154, \"9\": 12, \"5\": 14, \"1\": 20}, \"4\": {\"4\": 88, \"15\": 52, \"7\": 58, \"10\": 82, \"13\": 4, \"8\": 18, \"12\": 188, \"14\": 10, \"3\": 52, \"6\": 2, \"1\": 16, \"2\": 10, \"5\": 10, \"9\": 4, \"11\": 6}, \"15\": {\"11\": 32, \"4\": 22, \"3\": 68, \"15\": 78, \"2\": 104, \"1\": 58, \"10\": 2, \"9\": 52, \"12\": 36, \"13\": 66, \"5\": 48, \"7\": 32, \"0\": 2}, \"7\": {\"12\": 44, \"6\": 74, \"3\": 54, \"7\": 170, \"4\": 92, \"14\": 8, \"15\": 4, \"11\": 38, \"2\": 20, \"5\": 12, \"9\": 4, \"1\": 20, \"13\": 12, \"10\": 46, \"8\": 2}, \"13\": {\"13\": 266, \"11\": 60, \"3\": 18, \"1\": 32, \"12\": 64, \"2\": 48, \"15\": 22, \"7\": 40, \"9\": 28, \"4\": 10, \"5\": 10, \"10\": 2}}, \"14\": {\"5\": {\"4\": 160, \"2\": 102, \"3\": 52, \"5\": 192, \"7\": 56, \"6\": 16, \"11\": 2, \"8\": 4, \"14\": 16}, \"1\": {\"1\": 564, \"7\": 18, \"11\": 14, \"6\": 2, \"3\": 2}, \"2\": {\"14\": 68, \"2\": 170, \"7\": 26, \"6\": 152, \"4\": 98, \"3\": 24, \"13\": 24, \"5\": 36, \"1\": 2}, \"4\": {\"4\": 344, \"14\": 34, \"5\": 134, \"2\": 26, \"6\": 10, \"11\": 12, \"7\": 12, \"1\": 14, \"3\": 12, \"8\": 2}, \"13\": {\"6\": 280, \"13\": 280, \"2\": 20, \"15\": 16, \"7\": 2, \"3\": 2}, \"9\": {\"1\": 50, \"11\": 102, \"0\": 68, \"9\": 332, \"8\": 26, \"5\": 4, \"3\": 4, \"15\": 2, \"13\": 4, \"12\": 2, \"2\": 6}, \"12\": {\"2\": 52, \"9\": 104, \"11\": 44, \"6\": 24, \"12\": 214, \"0\": 58, \"15\": 4, \"13\": 18, \"8\": 10, \"4\": 16, \"10\": 22, \"14\": 4, \"3\": 6, \"7\": 14, \"1\": 2, \"5\": 8}, \"11\": {\"7\": 212, \"12\": 26, \"13\": 66, \"11\": 210, \"4\": 42, \"10\": 20, \"6\": 22, \"15\": 2}, \"7\": {\"7\": 556, \"13\": 20, \"5\": 8, \"2\": 8, \"3\": 8}, \"10\": {\"0\": 92, \"3\": 168, \"10\": 152, \"4\": 104, \"14\": 56, \"8\": 22, \"2\": 4, \"6\": 2}, \"3\": {\"3\": 366, \"7\": 96, \"5\": 14, \"4\": 20, \"13\": 32, \"2\": 56, \"15\": 2, \"14\": 6, \"6\": 4, \"8\": 4}, \"14\": {\"7\": 4, \"4\": 96, \"14\": 308, \"6\": 86, \"3\": 16, \"2\": 72, \"0\": 2, \"5\": 6, \"13\": 6, \"8\": 4}, \"15\": {\"15\": 590, \"13\": 10}, \"8\": {\"8\": 506, \"11\": 74, \"5\": 10, \"13\": 4, \"4\": 2, \"3\": 2, \"7\": 2}, \"6\": {\"13\": 170, \"3\": 38, \"14\": 8, \"2\": 58, \"6\": 294, \"7\": 8, \"4\": 10, \"15\": 14}, \"0\": {\"0\": 230, \"3\": 84, \"5\": 18, \"4\": 160, \"2\": 24, \"14\": 46, \"8\": 32, \"9\": 2, \"11\": 4}}}, \"per_domain_accuracy\": {\"44\": {\"accuracy\": 0.599375, \"source?\": true}, \"38\": {\"accuracy\": 0.5685416666666666, \"source?\": true}, \"26\": {\"accuracy\": 0.39208333333333334, \"source?\": true}, \"50\": {\"accuracy\": 0.5402083333333333, \"source?\": true}, \"32\": {\"accuracy\": 0.5797916666666667, \"source?\": true}, \"8\": {\"accuracy\": 0.455625, \"source?\": true}, \"20\": {\"accuracy\": 0.32645833333333335, \"source?\": true}, \"14\": {\"accuracy\": 0.5529166666666666, \"source?\": true}}}, \"history\": {\"epoch_indices\": [1, 2, 3, 4, 5, 6, 7, 8, 9, 10], \"train_label_loss\": [2.606955883162362, 2.239651241472789, 1.8024322811194828, 1.4537690173728126, 1.1639864815984453, 0.9049882874318531, 0.694801051808255, 0.5258878786010401, 0.4125218499451876, 0.32510789184698036], \"source_val_label_loss\": [2.514097973505656, 2.0944826690355938, 1.6351676793893177, 1.56851966381073, 1.450126204888026, 1.4531980633735657, 1.5460614132881165, 1.5890762579441071, 1.7088105010986328, 1.8538982192675273], \"target_val_label_loss\": [2.5140979584058125, 2.094482677380244, 1.6351676789919536, 1.5685196614265442, 1.4501262044906615, 1.453198067744573, 1.5460613946119943, 1.589076248407364, 1.7088105042775472, 1.8538982311884562], \"source_val_acc_label\": [0.16541666666666666, 0.2978645833333333, 0.443359375, 0.4665625, 0.4870833333333333, 0.501875, 0.490078125, 0.48375, 0.471015625, 0.4649479166666667], \"target_val_acc_label\": [0.16541666666666666, 0.2978645833333333, 0.443359375, 0.4665625, 0.4870833333333333, 0.501875, 0.490078125, 0.48375, 0.471015625, 0.4649479166666667]}, \"dataset_metrics\": {\"source\": {\"train\": {\"n_unique_x\": 179200, \"n_unique_y\": 16, \"n_batch/episode\": 1400}, \"val\": {\"n_unique_x\": 38400, \"n_unique_y\": 16, \"n_batch/episode\": 300}, \"test\": {\"n_unique_x\": 38400, \"n_unique_y\": 16, \"n_batch/episode\": 300}}, \"target\": {\"train\": {\"n_unique_x\": 179200, \"n_unique_y\": 16, \"n_batch/episode\": 1400}, \"val\": {\"n_unique_x\": 38400, \"n_unique_y\": 16, \"n_batch/episode\": 300}, \"test\": {\"n_unique_x\": 38400, \"n_unique_y\": 16, \"n_batch/episode\": 300}}}}'"
      ]
     },
     "execution_count": 20,
     "metadata": {},
     "output_type": "execute_result"
    }
   ],
   "source": [
    "json.dumps(experiment)"
   ]
  }
 ],
 "metadata": {
  "celltoolbar": "Tags",
  "kernelspec": {
   "display_name": "Python 3 (ipykernel)",
   "language": "python",
   "name": "python3"
  },
  "language_info": {
   "codemirror_mode": {
    "name": "ipython",
    "version": 3
   },
   "file_extension": ".py",
   "mimetype": "text/x-python",
   "name": "python",
   "nbconvert_exporter": "python",
   "pygments_lexer": "ipython3",
   "version": "3.8.12"
  },
  "papermill": {
   "default_parameters": {},
   "duration": 230.52702,
   "end_time": "2022-03-26T10:05:12.421070",
   "environment_variables": {},
   "exception": null,
   "input_path": "/root/csc500-main/csc500-notebooks/templates/cnn_template.ipynb",
   "output_path": "trial.ipynb",
   "parameters": {
    "parameters": {
     "BEST_MODEL_PATH": "./best_model.pth",
     "NUM_LOGS_PER_EPOCH": 10,
     "batch_size": 128,
     "criteria_for_best": "target_accuracy",
     "dataset_seed": 154325,
     "device": "cuda",
     "domains_source": [
      8,
      32,
      50,
      14,
      20,
      26,
      38,
      44
     ],
     "domains_target": [
      8,
      32,
      50,
      14,
      20,
      26,
      38,
      44
     ],
     "experiment_name": "cnn_2:oracle.run2_limited",
     "labels": [
      "3123D52",
      "3123D65",
      "3123D79",
      "3123D80",
      "3123D54",
      "3123D70",
      "3123D7B",
      "3123D89",
      "3123D58",
      "3123D76",
      "3123D7D",
      "3123EFE",
      "3123D64",
      "3123D78",
      "3123D7E",
      "3124E4A"
     ],
     "lr": 0.0001,
     "n_epoch": 50,
     "normalize_source": false,
     "normalize_target": false,
     "num_examples_per_domain_per_label_source": 2000,
     "num_examples_per_domain_per_label_target": 2000,
     "patience": 3,
     "pickle_name_source": "oracle.Run2_10kExamples_stratified_ds.2022A.pkl",
     "pickle_name_target": "oracle.Run2_10kExamples_stratified_ds.2022A.pkl",
     "seed": 154325,
     "torch_default_dtype": "torch.float32",
     "x_net": [
      {
       "class": "nnReshape",
       "kargs": {
        "shape": [
         -1,
         1,
         2,
         256
        ]
       }
      },
      {
       "class": "Conv2d",
       "kargs": {
        "bias": false,
        "in_channels": 1,
        "kernel_size": [
         1,
         7
        ],
        "out_channels": 256,
        "padding": [
         0,
         3
        ]
       }
      },
      {
       "class": "ReLU",
       "kargs": {
        "inplace": true
       }
      },
      {
       "class": "BatchNorm2d",
       "kargs": {
        "num_features": 256
       }
      },
      {
       "class": "Conv2d",
       "kargs": {
        "bias": true,
        "in_channels": 256,
        "kernel_size": [
         2,
         7
        ],
        "out_channels": 80,
        "padding": [
         0,
         3
        ]
       }
      },
      {
       "class": "ReLU",
       "kargs": {
        "inplace": true
       }
      },
      {
       "class": "BatchNorm2d",
       "kargs": {
        "num_features": 80
       }
      },
      {
       "class": "Flatten",
       "kargs": {}
      },
      {
       "class": "Linear",
       "kargs": {
        "in_features": 20480,
        "out_features": 256
       }
      },
      {
       "class": "ReLU",
       "kargs": {
        "inplace": true
       }
      },
      {
       "class": "BatchNorm1d",
       "kargs": {
        "num_features": 256
       }
      },
      {
       "class": "Linear",
       "kargs": {
        "in_features": 256,
        "out_features": 16
       }
      }
     ]
    }
   },
   "start_time": "2022-03-26T10:01:21.894050",
   "version": "2.3.4"
  }
 },
 "nbformat": 4,
 "nbformat_minor": 5
}