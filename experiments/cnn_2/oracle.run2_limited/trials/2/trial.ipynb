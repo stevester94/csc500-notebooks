{
 "cells": [
  {
   "cell_type": "code",
   "execution_count": 1,
   "id": "2324682e",
   "metadata": {
    "execution": {
     "iopub.execute_input": "2022-03-26T10:08:40.571040Z",
     "iopub.status.busy": "2022-03-26T10:08:40.570165Z",
     "iopub.status.idle": "2022-03-26T10:08:41.902211Z",
     "shell.execute_reply": "2022-03-26T10:08:41.901563Z"
    },
    "papermill": {
     "duration": 1.368437,
     "end_time": "2022-03-26T10:08:41.902342",
     "exception": false,
     "start_time": "2022-03-26T10:08:40.533905",
     "status": "completed"
    },
    "tags": []
   },
   "outputs": [],
   "source": [
    "import os, json, sys, time, random\n",
    "import numpy as np\n",
    "import torch\n",
    "from  easydict import EasyDict\n",
    "from math import floor\n",
    "from easydict import EasyDict\n",
    "\n",
    "from steves_utils.vanilla_train_eval_test_jig import  Vanilla_Train_Eval_Test_Jig\n",
    "\n",
    "from steves_utils.torch_utils import get_dataset_metrics, independent_accuracy_assesment\n",
    "from steves_models.configurable_vanilla import Configurable_Vanilla\n",
    "from steves_utils.torch_sequential_builder import build_sequential\n",
    "from steves_utils.lazy_map import Lazy_Map\n",
    "from steves_utils.sequence_aggregator import Sequence_Aggregator\n",
    "\n",
    "from steves_utils.stratified_dataset.traditional_accessor import Traditional_Accessor_Factory\n",
    "\n",
    "from steves_utils.cnn_do_report import (\n",
    "    get_loss_curve,\n",
    "    get_results_table,\n",
    "    get_parameters_table,\n",
    "    get_domain_accuracies,\n",
    ")\n",
    "\n",
    "from steves_utils.torch_utils import (\n",
    "    confusion_by_domain_over_dataloader,\n",
    "    independent_accuracy_assesment\n",
    ")\n",
    "\n",
    "from steves_utils.utils_v2 import (\n",
    "    per_domain_accuracy_from_confusion,\n",
    "    get_datasets_base_path\n",
    ")\n",
    "\n",
    "# from steves_utils.ptn_do_report import TBD"
   ]
  },
  {
   "cell_type": "code",
   "execution_count": 2,
   "id": "1b29e3fe",
   "metadata": {
    "execution": {
     "iopub.execute_input": "2022-03-26T10:08:41.937049Z",
     "iopub.status.busy": "2022-03-26T10:08:41.936664Z",
     "iopub.status.idle": "2022-03-26T10:08:41.939259Z",
     "shell.execute_reply": "2022-03-26T10:08:41.938936Z"
    },
    "papermill": {
     "duration": 0.021907,
     "end_time": "2022-03-26T10:08:41.939330",
     "exception": false,
     "start_time": "2022-03-26T10:08:41.917423",
     "status": "completed"
    },
    "tags": []
   },
   "outputs": [],
   "source": [
    "required_parameters = {\n",
    "    \"experiment_name\",\n",
    "    \"lr\",\n",
    "    \"device\",\n",
    "    \"dataset_seed\",\n",
    "    \"seed\",\n",
    "    \"labels\",\n",
    "    \"domains_target\",\n",
    "    \"domains_source\",\n",
    "    \"num_examples_per_domain_per_label_source\",\n",
    "    \"num_examples_per_domain_per_label_target\",\n",
    "    \"batch_size\",\n",
    "    \"n_epoch\",\n",
    "    \"patience\",\n",
    "    \"criteria_for_best\",\n",
    "    \"normalize_source\",\n",
    "    \"normalize_target\",\n",
    "    \"x_net\",\n",
    "    \"NUM_LOGS_PER_EPOCH\",\n",
    "    \"BEST_MODEL_PATH\",\n",
    "    \"pickle_name_source\",\n",
    "    \"pickle_name_target\",\n",
    "    \"torch_default_dtype\",\n",
    "}"
   ]
  },
  {
   "cell_type": "code",
   "execution_count": 3,
   "id": "670b5fb8",
   "metadata": {
    "execution": {
     "iopub.execute_input": "2022-03-26T10:08:41.978212Z",
     "iopub.status.busy": "2022-03-26T10:08:41.977807Z",
     "iopub.status.idle": "2022-03-26T10:08:41.984856Z",
     "shell.execute_reply": "2022-03-26T10:08:41.984483Z"
    },
    "papermill": {
     "duration": 0.03213,
     "end_time": "2022-03-26T10:08:41.984927",
     "exception": false,
     "start_time": "2022-03-26T10:08:41.952797",
     "status": "completed"
    },
    "tags": [
     "parameters"
    ]
   },
   "outputs": [],
   "source": [
    "from steves_utils.ORACLE.utils_v2 import (\n",
    "    ALL_SERIAL_NUMBERS,\n",
    "    ALL_DISTANCES_FEET_NARROWED,\n",
    ")\n",
    "\n",
    "standalone_parameters = {}\n",
    "standalone_parameters[\"experiment_name\"] = \"MANUAL CORES CNN\"\n",
    "standalone_parameters[\"lr\"] = 0.0001\n",
    "standalone_parameters[\"device\"] = \"cuda\"\n",
    "\n",
    "standalone_parameters[\"dataset_seed\"] = 1337\n",
    "standalone_parameters[\"seed\"] = 1337\n",
    "standalone_parameters[\"labels\"] = ALL_SERIAL_NUMBERS\n",
    "\n",
    "standalone_parameters[\"domains_source\"] = [8,32,50]\n",
    "standalone_parameters[\"domains_target\"] = [14,20,26,38,44,]\n",
    "\n",
    "standalone_parameters[\"num_examples_per_domain_per_label_source\"]=-1\n",
    "standalone_parameters[\"num_examples_per_domain_per_label_target\"]=-1\n",
    "\n",
    "standalone_parameters[\"pickle_name_source\"] = \"oracle.Run1_framed_2000Examples_stratified_ds.2022A.pkl\"\n",
    "standalone_parameters[\"pickle_name_target\"] = \"oracle.Run2_framed_2000Examples_stratified_ds.2022A.pkl\"\n",
    "\n",
    "standalone_parameters[\"torch_default_dtype\"] = \"torch.float32\" \n",
    "\n",
    "standalone_parameters[\"batch_size\"]=128\n",
    "\n",
    "standalone_parameters[\"n_epoch\"] = 3\n",
    "\n",
    "standalone_parameters[\"patience\"] = 10\n",
    "\n",
    "standalone_parameters[\"criteria_for_best\"] = \"target_accuracy\"\n",
    "standalone_parameters[\"normalize_source\"] = False\n",
    "standalone_parameters[\"normalize_target\"] = False\n",
    "\n",
    "standalone_parameters[\"x_net\"] =     [\n",
    "    {\"class\": \"nnReshape\", \"kargs\": {\"shape\":[-1, 1, 2, 256]}},\n",
    "    {\"class\": \"Conv2d\", \"kargs\": { \"in_channels\":1, \"out_channels\":256, \"kernel_size\":(1,7), \"bias\":False, \"padding\":(0,3), },},\n",
    "    {\"class\": \"ReLU\", \"kargs\": {\"inplace\": True}},\n",
    "    {\"class\": \"BatchNorm2d\", \"kargs\": {\"num_features\":256}},\n",
    "\n",
    "    {\"class\": \"Conv2d\", \"kargs\": { \"in_channels\":256, \"out_channels\":80, \"kernel_size\":(2,7), \"bias\":True, \"padding\":(0,3), },},\n",
    "    {\"class\": \"ReLU\", \"kargs\": {\"inplace\": True}},\n",
    "    {\"class\": \"BatchNorm2d\", \"kargs\": {\"num_features\":80}},\n",
    "    {\"class\": \"Flatten\", \"kargs\": {}},\n",
    "\n",
    "    {\"class\": \"Linear\", \"kargs\": {\"in_features\": 80*256, \"out_features\": 256}}, # 80 units per IQ pair\n",
    "    {\"class\": \"ReLU\", \"kargs\": {\"inplace\": True}},\n",
    "    {\"class\": \"BatchNorm1d\", \"kargs\": {\"num_features\":256}},\n",
    "\n",
    "    {\"class\": \"Linear\", \"kargs\": {\"in_features\": 256, \"out_features\": len(standalone_parameters[\"labels\"])}},\n",
    "]\n",
    "\n",
    "standalone_parameters[\"NUM_LOGS_PER_EPOCH\"] = 10\n",
    "standalone_parameters[\"BEST_MODEL_PATH\"] = \"./best_model.pth\""
   ]
  },
  {
   "cell_type": "code",
   "execution_count": 4,
   "id": "75f315c0",
   "metadata": {
    "execution": {
     "iopub.execute_input": "2022-03-26T10:08:42.026120Z",
     "iopub.status.busy": "2022-03-26T10:08:42.019984Z",
     "iopub.status.idle": "2022-03-26T10:08:42.028597Z",
     "shell.execute_reply": "2022-03-26T10:08:42.028229Z"
    },
    "papermill": {
     "duration": 0.030242,
     "end_time": "2022-03-26T10:08:42.028670",
     "exception": false,
     "start_time": "2022-03-26T10:08:41.998428",
     "status": "completed"
    },
    "tags": [
     "injected-parameters"
    ]
   },
   "outputs": [],
   "source": [
    "# Parameters\n",
    "parameters = {\n",
    "    \"experiment_name\": \"cnn_2:oracle.run2_limited\",\n",
    "    \"labels\": [\n",
    "        \"3123D52\",\n",
    "        \"3123D65\",\n",
    "        \"3123D79\",\n",
    "        \"3123D80\",\n",
    "        \"3123D54\",\n",
    "        \"3123D70\",\n",
    "        \"3123D7B\",\n",
    "        \"3123D89\",\n",
    "        \"3123D58\",\n",
    "        \"3123D76\",\n",
    "        \"3123D7D\",\n",
    "        \"3123EFE\",\n",
    "        \"3123D64\",\n",
    "        \"3123D78\",\n",
    "        \"3123D7E\",\n",
    "        \"3124E4A\",\n",
    "    ],\n",
    "    \"domains_source\": [8, 32, 50, 14, 20, 26, 38, 44],\n",
    "    \"domains_target\": [8, 32, 50, 14, 20, 26, 38, 44],\n",
    "    \"pickle_name_source\": \"oracle.Run2_10kExamples_stratified_ds.2022A.pkl\",\n",
    "    \"pickle_name_target\": \"oracle.Run2_10kExamples_stratified_ds.2022A.pkl\",\n",
    "    \"device\": \"cuda\",\n",
    "    \"lr\": 0.0001,\n",
    "    \"batch_size\": 128,\n",
    "    \"normalize_source\": False,\n",
    "    \"normalize_target\": False,\n",
    "    \"num_examples_per_domain_per_label_source\": 2000,\n",
    "    \"num_examples_per_domain_per_label_target\": 2000,\n",
    "    \"torch_default_dtype\": \"torch.float32\",\n",
    "    \"n_epoch\": 50,\n",
    "    \"patience\": 3,\n",
    "    \"criteria_for_best\": \"target_accuracy\",\n",
    "    \"x_net\": [\n",
    "        {\"class\": \"nnReshape\", \"kargs\": {\"shape\": [-1, 1, 2, 256]}},\n",
    "        {\n",
    "            \"class\": \"Conv2d\",\n",
    "            \"kargs\": {\n",
    "                \"in_channels\": 1,\n",
    "                \"out_channels\": 256,\n",
    "                \"kernel_size\": [1, 7],\n",
    "                \"bias\": False,\n",
    "                \"padding\": [0, 3],\n",
    "            },\n",
    "        },\n",
    "        {\"class\": \"ReLU\", \"kargs\": {\"inplace\": True}},\n",
    "        {\"class\": \"BatchNorm2d\", \"kargs\": {\"num_features\": 256}},\n",
    "        {\n",
    "            \"class\": \"Conv2d\",\n",
    "            \"kargs\": {\n",
    "                \"in_channels\": 256,\n",
    "                \"out_channels\": 80,\n",
    "                \"kernel_size\": [2, 7],\n",
    "                \"bias\": True,\n",
    "                \"padding\": [0, 3],\n",
    "            },\n",
    "        },\n",
    "        {\"class\": \"ReLU\", \"kargs\": {\"inplace\": True}},\n",
    "        {\"class\": \"BatchNorm2d\", \"kargs\": {\"num_features\": 80}},\n",
    "        {\"class\": \"Flatten\", \"kargs\": {}},\n",
    "        {\"class\": \"Linear\", \"kargs\": {\"in_features\": 20480, \"out_features\": 256}},\n",
    "        {\"class\": \"ReLU\", \"kargs\": {\"inplace\": True}},\n",
    "        {\"class\": \"BatchNorm1d\", \"kargs\": {\"num_features\": 256}},\n",
    "        {\"class\": \"Linear\", \"kargs\": {\"in_features\": 256, \"out_features\": 16}},\n",
    "    ],\n",
    "    \"NUM_LOGS_PER_EPOCH\": 10,\n",
    "    \"BEST_MODEL_PATH\": \"./best_model.pth\",\n",
    "    \"dataset_seed\": 1337,\n",
    "    \"seed\": 1337,\n",
    "}\n"
   ]
  },
  {
   "cell_type": "code",
   "execution_count": 5,
   "id": "759b56ec",
   "metadata": {
    "execution": {
     "iopub.execute_input": "2022-03-26T10:08:42.062976Z",
     "iopub.status.busy": "2022-03-26T10:08:42.062598Z",
     "iopub.status.idle": "2022-03-26T10:08:42.065053Z",
     "shell.execute_reply": "2022-03-26T10:08:42.064688Z"
    },
    "papermill": {
     "duration": 0.022722,
     "end_time": "2022-03-26T10:08:42.065123",
     "exception": false,
     "start_time": "2022-03-26T10:08:42.042401",
     "status": "completed"
    },
    "tags": []
   },
   "outputs": [],
   "source": [
    "# Set this to True if you want to run this template directly\n",
    "STANDALONE = False\n",
    "if STANDALONE:\n",
    "    print(\"parameters not injected, running with standalone_parameters\")\n",
    "    parameters = standalone_parameters\n",
    "\n",
    "if not 'parameters' in locals() and not 'parameters' in globals():\n",
    "    raise Exception(\"Parameter injection failed\")\n",
    "\n",
    "#Use an easy dict for all the parameters\n",
    "p = EasyDict(parameters)\n",
    "\n",
    "supplied_keys = set(p.keys())\n",
    "\n",
    "if  supplied_keys != required_parameters:\n",
    "    print(\"Parameters are incorrect\")\n",
    "    if len(supplied_keys - required_parameters)>0: print(\"Shouldn't have:\", str(supplied_keys - required_parameters))\n",
    "    if len(required_parameters - supplied_keys)>0: print(\"Need to have:\", str(required_parameters - supplied_keys))\n",
    "    raise RuntimeError(\"Parameters are incorrect\")\n",
    "\n"
   ]
  },
  {
   "cell_type": "code",
   "execution_count": 6,
   "id": "d5c66a71",
   "metadata": {
    "execution": {
     "iopub.execute_input": "2022-03-26T10:08:42.096056Z",
     "iopub.status.busy": "2022-03-26T10:08:42.095686Z",
     "iopub.status.idle": "2022-03-26T10:08:42.099018Z",
     "shell.execute_reply": "2022-03-26T10:08:42.098700Z"
    },
    "papermill": {
     "duration": 0.02035,
     "end_time": "2022-03-26T10:08:42.099088",
     "exception": false,
     "start_time": "2022-03-26T10:08:42.078738",
     "status": "completed"
    },
    "tags": []
   },
   "outputs": [],
   "source": [
    "###################################\n",
    "# Set the RNGs and make it all deterministic\n",
    "###################################\n",
    "np.random.seed(p.seed)\n",
    "random.seed(p.seed)\n",
    "torch.manual_seed(p.seed)\n",
    "\n",
    "torch.use_deterministic_algorithms(True) "
   ]
  },
  {
   "cell_type": "code",
   "execution_count": 7,
   "id": "92a65876",
   "metadata": {
    "execution": {
     "iopub.execute_input": "2022-03-26T10:08:42.132652Z",
     "iopub.status.busy": "2022-03-26T10:08:42.132278Z",
     "iopub.status.idle": "2022-03-26T10:08:42.134756Z",
     "shell.execute_reply": "2022-03-26T10:08:42.135075Z"
    },
    "papermill": {
     "duration": 0.022308,
     "end_time": "2022-03-26T10:08:42.135155",
     "exception": false,
     "start_time": "2022-03-26T10:08:42.112847",
     "status": "completed"
    },
    "tags": []
   },
   "outputs": [],
   "source": [
    "torch.set_default_dtype(eval(p.torch_default_dtype))"
   ]
  },
  {
   "cell_type": "code",
   "execution_count": 8,
   "id": "f1a32f01",
   "metadata": {
    "execution": {
     "iopub.execute_input": "2022-03-26T10:08:42.167786Z",
     "iopub.status.busy": "2022-03-26T10:08:42.167404Z",
     "iopub.status.idle": "2022-03-26T10:08:42.206404Z",
     "shell.execute_reply": "2022-03-26T10:08:42.206082Z"
    },
    "papermill": {
     "duration": 0.057389,
     "end_time": "2022-03-26T10:08:42.206474",
     "exception": false,
     "start_time": "2022-03-26T10:08:42.149085",
     "status": "completed"
    },
    "tags": []
   },
   "outputs": [],
   "source": [
    "###################################\n",
    "# Build the network(s)\n",
    "# Note: It's critical to do this AFTER setting the RNG\n",
    "###################################\n",
    "x_net = build_sequential(p.x_net)"
   ]
  },
  {
   "cell_type": "code",
   "execution_count": 9,
   "id": "a276cd83",
   "metadata": {
    "execution": {
     "iopub.execute_input": "2022-03-26T10:08:42.237885Z",
     "iopub.status.busy": "2022-03-26T10:08:42.237519Z",
     "iopub.status.idle": "2022-03-26T10:08:42.239312Z",
     "shell.execute_reply": "2022-03-26T10:08:42.238946Z"
    },
    "papermill": {
     "duration": 0.018886,
     "end_time": "2022-03-26T10:08:42.239382",
     "exception": false,
     "start_time": "2022-03-26T10:08:42.220496",
     "status": "completed"
    },
    "tags": []
   },
   "outputs": [],
   "source": [
    "start_time_secs = time.time()"
   ]
  },
  {
   "cell_type": "code",
   "execution_count": 10,
   "id": "de702e48",
   "metadata": {
    "execution": {
     "iopub.execute_input": "2022-03-26T10:08:42.281104Z",
     "iopub.status.busy": "2022-03-26T10:08:42.274595Z",
     "iopub.status.idle": "2022-03-26T10:08:54.344027Z",
     "shell.execute_reply": "2022-03-26T10:08:54.343268Z"
    },
    "papermill": {
     "duration": 12.09077,
     "end_time": "2022-03-26T10:08:54.344222",
     "exception": false,
     "start_time": "2022-03-26T10:08:42.253452",
     "status": "completed"
    },
    "tags": []
   },
   "outputs": [],
   "source": [
    "def wrap_in_dataloader(p, ds):\n",
    "    return torch.utils.data.DataLoader(\n",
    "        ds,\n",
    "        batch_size=p.batch_size,\n",
    "        shuffle=True,\n",
    "        num_workers=1,\n",
    "        persistent_workers=True,\n",
    "        prefetch_factor=50,\n",
    "        pin_memory=True\n",
    "    )\n",
    "\n",
    "taf_source = Traditional_Accessor_Factory(\n",
    "    labels=p.labels,\n",
    "    domains=p.domains_source,\n",
    "    num_examples_per_domain_per_label=p.num_examples_per_domain_per_label_source,\n",
    "    pickle_path=os.path.join(get_datasets_base_path(), p.pickle_name_source),\n",
    "    seed=p.dataset_seed\n",
    ")\n",
    "train_original_source, val_original_source, test_original_source = \\\n",
    "    taf_source.get_train(), taf_source.get_val(), taf_source.get_test()\n",
    "\n",
    "\n",
    "taf_target = Traditional_Accessor_Factory(\n",
    "    labels=p.labels,\n",
    "    domains=p.domains_target,\n",
    "    num_examples_per_domain_per_label=p.num_examples_per_domain_per_label_source,\n",
    "    pickle_path=os.path.join(get_datasets_base_path(), p.pickle_name_target),\n",
    "    seed=p.dataset_seed\n",
    ")\n",
    "train_original_target, val_original_target, test_original_target = \\\n",
    "    taf_target.get_train(), taf_target.get_val(), taf_target.get_test()\n",
    "\n",
    "\n",
    "# For CNN We only use X and Y. And we only train on the source.\n",
    "# Properly form the data using a transform lambda and Lazy_Map. Finally wrap them in a dataloader\n",
    "\n",
    "transform_lambda = lambda ex: ex[:2] # Strip the tuple to just (x,y)\n",
    "\n",
    "\n",
    "train_processed_source = wrap_in_dataloader(\n",
    "    p,\n",
    "    Lazy_Map(train_original_source, transform_lambda)\n",
    ")\n",
    "val_processed_source = wrap_in_dataloader(\n",
    "    p,\n",
    "    Lazy_Map(val_original_source, transform_lambda)\n",
    ")\n",
    "test_processed_source = wrap_in_dataloader(\n",
    "    p,\n",
    "    Lazy_Map(test_original_source, transform_lambda)\n",
    ")\n",
    "\n",
    "train_processed_target = wrap_in_dataloader(\n",
    "    p,\n",
    "    Lazy_Map(train_original_target, transform_lambda)\n",
    ")\n",
    "val_processed_target = wrap_in_dataloader(\n",
    "    p,\n",
    "    Lazy_Map(val_original_target, transform_lambda)\n",
    ")\n",
    "test_processed_target  = wrap_in_dataloader(\n",
    "    p,\n",
    "    Lazy_Map(test_original_target, transform_lambda)\n",
    ")\n",
    "\n",
    "\n",
    "\n",
    "datasets = EasyDict({\n",
    "    \"source\": {\n",
    "        \"original\": {\"train\":train_original_source, \"val\":val_original_source, \"test\":test_original_source},\n",
    "        \"processed\": {\"train\":train_processed_source, \"val\":val_processed_source, \"test\":test_processed_source}\n",
    "    },\n",
    "    \"target\": {\n",
    "        \"original\": {\"train\":train_original_target, \"val\":val_original_target, \"test\":test_original_target},\n",
    "        \"processed\": {\"train\":train_processed_target, \"val\":val_processed_target, \"test\":test_processed_target}\n",
    "    },\n",
    "})"
   ]
  },
  {
   "cell_type": "code",
   "execution_count": 11,
   "id": "a11b26bd",
   "metadata": {
    "execution": {
     "iopub.execute_input": "2022-03-26T10:08:54.422734Z",
     "iopub.status.busy": "2022-03-26T10:08:54.421900Z",
     "iopub.status.idle": "2022-03-26T10:08:59.972112Z",
     "shell.execute_reply": "2022-03-26T10:08:59.972915Z"
    },
    "papermill": {
     "duration": 5.609919,
     "end_time": "2022-03-26T10:08:59.973141",
     "exception": false,
     "start_time": "2022-03-26T10:08:54.363222",
     "status": "completed"
    },
    "tags": []
   },
   "outputs": [
    {
     "data": {
      "text/plain": [
       "torch.float32"
      ]
     },
     "execution_count": 11,
     "metadata": {},
     "output_type": "execute_result"
    }
   ],
   "source": [
    "ep = next(iter(test_processed_target))\n",
    "ep[0].dtype"
   ]
  },
  {
   "cell_type": "code",
   "execution_count": 12,
   "id": "19425fad",
   "metadata": {
    "execution": {
     "iopub.execute_input": "2022-03-26T10:09:00.013467Z",
     "iopub.status.busy": "2022-03-26T10:09:00.012889Z",
     "iopub.status.idle": "2022-03-26T10:09:00.058392Z",
     "shell.execute_reply": "2022-03-26T10:09:00.059064Z"
    },
    "papermill": {
     "duration": 0.066764,
     "end_time": "2022-03-26T10:09:00.059280",
     "exception": false,
     "start_time": "2022-03-26T10:08:59.992516",
     "status": "completed"
    },
    "tags": []
   },
   "outputs": [],
   "source": [
    "model = Configurable_Vanilla(\n",
    "    x_net=x_net,\n",
    "    label_loss_object=torch.nn.NLLLoss(),\n",
    "    learning_rate=p.lr\n",
    ")"
   ]
  },
  {
   "cell_type": "code",
   "execution_count": 13,
   "id": "7f6d4f2c",
   "metadata": {
    "execution": {
     "iopub.execute_input": "2022-03-26T10:09:00.098939Z",
     "iopub.status.busy": "2022-03-26T10:09:00.098561Z",
     "iopub.status.idle": "2022-03-26T10:11:41.073788Z",
     "shell.execute_reply": "2022-03-26T10:11:41.074477Z"
    },
    "papermill": {
     "duration": 160.99511,
     "end_time": "2022-03-26T10:11:41.074683",
     "exception": false,
     "start_time": "2022-03-26T10:09:00.079573",
     "status": "completed"
    },
    "tags": []
   },
   "outputs": [
    {
     "name": "stdout",
     "output_type": "stream",
     "text": [
      "epoch: 1, [batch: 1 / 1400], examples_per_second: 768.2645, train_label_loss: 2.8080, \n"
     ]
    },
    {
     "name": "stdout",
     "output_type": "stream",
     "text": [
      "epoch: 1, [batch: 140 / 1400], examples_per_second: 11727.8513, train_label_loss: 2.6889, \n"
     ]
    },
    {
     "name": "stdout",
     "output_type": "stream",
     "text": [
      "epoch: 1, [batch: 280 / 1400], examples_per_second: 11677.6891, train_label_loss: 2.7492, \n"
     ]
    },
    {
     "name": "stdout",
     "output_type": "stream",
     "text": [
      "epoch: 1, [batch: 420 / 1400], examples_per_second: 11598.9842, train_label_loss: 2.5542, \n"
     ]
    },
    {
     "name": "stdout",
     "output_type": "stream",
     "text": [
      "epoch: 1, [batch: 560 / 1400], examples_per_second: 11597.9675, train_label_loss: 2.6042, \n"
     ]
    },
    {
     "name": "stdout",
     "output_type": "stream",
     "text": [
      "epoch: 1, [batch: 700 / 1400], examples_per_second: 11560.6541, train_label_loss: 2.5391, \n"
     ]
    },
    {
     "name": "stdout",
     "output_type": "stream",
     "text": [
      "epoch: 1, [batch: 840 / 1400], examples_per_second: 11693.5242, train_label_loss: 2.6241, \n"
     ]
    },
    {
     "name": "stdout",
     "output_type": "stream",
     "text": [
      "epoch: 1, [batch: 980 / 1400], examples_per_second: 11687.5910, train_label_loss: 2.6197, \n"
     ]
    },
    {
     "name": "stdout",
     "output_type": "stream",
     "text": [
      "epoch: 1, [batch: 1120 / 1400], examples_per_second: 11719.5500, train_label_loss: 2.5042, \n"
     ]
    },
    {
     "name": "stdout",
     "output_type": "stream",
     "text": [
      "epoch: 1, [batch: 1260 / 1400], examples_per_second: 11700.3868, train_label_loss: 2.3921, \n"
     ]
    },
    {
     "name": "stdout",
     "output_type": "stream",
     "text": [
      "=============================================================\n",
      "epoch: 1, source_val_acc_label: 0.1564, source_val_label_loss: 2.5274, target_val_acc_label: 0.1564, target_val_label_loss: 2.5274, \n",
      "=============================================================\n"
     ]
    },
    {
     "name": "stdout",
     "output_type": "stream",
     "text": [
      "New best\n",
      "epoch: 2, [batch: 1 / 1400], examples_per_second: 55.2688, train_label_loss: 2.4515, \n"
     ]
    },
    {
     "name": "stdout",
     "output_type": "stream",
     "text": [
      "epoch: 2, [batch: 140 / 1400], examples_per_second: 11589.1940, train_label_loss: 2.2552, \n"
     ]
    },
    {
     "name": "stdout",
     "output_type": "stream",
     "text": [
      "epoch: 2, [batch: 280 / 1400], examples_per_second: 11622.8090, train_label_loss: 2.2464, \n"
     ]
    },
    {
     "name": "stdout",
     "output_type": "stream",
     "text": [
      "epoch: 2, [batch: 420 / 1400], examples_per_second: 11643.5780, train_label_loss: 2.2074, \n"
     ]
    },
    {
     "name": "stdout",
     "output_type": "stream",
     "text": [
      "epoch: 2, [batch: 560 / 1400], examples_per_second: 11666.6412, train_label_loss: 2.3288, \n"
     ]
    },
    {
     "name": "stdout",
     "output_type": "stream",
     "text": [
      "epoch: 2, [batch: 700 / 1400], examples_per_second: 11554.4606, train_label_loss: 2.2238, \n"
     ]
    },
    {
     "name": "stdout",
     "output_type": "stream",
     "text": [
      "epoch: 2, [batch: 840 / 1400], examples_per_second: 11554.8407, train_label_loss: 2.2482, \n"
     ]
    },
    {
     "name": "stdout",
     "output_type": "stream",
     "text": [
      "epoch: 2, [batch: 980 / 1400], examples_per_second: 11644.6712, train_label_loss: 2.2262, \n"
     ]
    },
    {
     "name": "stdout",
     "output_type": "stream",
     "text": [
      "epoch: 2, [batch: 1120 / 1400], examples_per_second: 11698.7551, train_label_loss: 2.2293, \n"
     ]
    },
    {
     "name": "stdout",
     "output_type": "stream",
     "text": [
      "epoch: 2, [batch: 1260 / 1400], examples_per_second: 11647.4953, train_label_loss: 2.0279, \n"
     ]
    },
    {
     "name": "stdout",
     "output_type": "stream",
     "text": [
      "=============================================================\n",
      "epoch: 2, source_val_acc_label: 0.3364, source_val_label_loss: 2.0015, target_val_acc_label: 0.3364, target_val_label_loss: 2.0015, \n",
      "=============================================================\n"
     ]
    },
    {
     "name": "stdout",
     "output_type": "stream",
     "text": [
      "New best\n",
      "epoch: 3, [batch: 1 / 1400], examples_per_second: 65.4364, train_label_loss: 1.9820, \n"
     ]
    },
    {
     "name": "stdout",
     "output_type": "stream",
     "text": [
      "epoch: 3, [batch: 140 / 1400], examples_per_second: 12567.1713, train_label_loss: 1.8996, \n"
     ]
    },
    {
     "name": "stdout",
     "output_type": "stream",
     "text": [
      "epoch: 3, [batch: 280 / 1400], examples_per_second: 11864.4494, train_label_loss: 1.8016, \n"
     ]
    },
    {
     "name": "stdout",
     "output_type": "stream",
     "text": [
      "epoch: 3, [batch: 420 / 1400], examples_per_second: 11631.6027, train_label_loss: 1.9323, \n"
     ]
    },
    {
     "name": "stdout",
     "output_type": "stream",
     "text": [
      "epoch: 3, [batch: 560 / 1400], examples_per_second: 11555.1835, train_label_loss: 1.8577, \n"
     ]
    },
    {
     "name": "stdout",
     "output_type": "stream",
     "text": [
      "epoch: 3, [batch: 700 / 1400], examples_per_second: 11631.3615, train_label_loss: 1.9780, \n"
     ]
    },
    {
     "name": "stdout",
     "output_type": "stream",
     "text": [
      "epoch: 3, [batch: 840 / 1400], examples_per_second: 11721.3612, train_label_loss: 1.8036, \n"
     ]
    },
    {
     "name": "stdout",
     "output_type": "stream",
     "text": [
      "epoch: 3, [batch: 980 / 1400], examples_per_second: 11655.8203, train_label_loss: 1.8412, \n"
     ]
    },
    {
     "name": "stdout",
     "output_type": "stream",
     "text": [
      "epoch: 3, [batch: 1120 / 1400], examples_per_second: 11635.3930, train_label_loss: 1.6908, \n"
     ]
    },
    {
     "name": "stdout",
     "output_type": "stream",
     "text": [
      "epoch: 3, [batch: 1260 / 1400], examples_per_second: 11663.0061, train_label_loss: 1.6831, \n"
     ]
    },
    {
     "name": "stdout",
     "output_type": "stream",
     "text": [
      "=============================================================\n",
      "epoch: 3, source_val_acc_label: 0.4469, source_val_label_loss: 1.6563, target_val_acc_label: 0.4469, target_val_label_loss: 1.6563, \n",
      "=============================================================\n"
     ]
    },
    {
     "name": "stdout",
     "output_type": "stream",
     "text": [
      "New best\n",
      "epoch: 4, [batch: 1 / 1400], examples_per_second: 63.6419, train_label_loss: 1.4011, \n"
     ]
    },
    {
     "name": "stdout",
     "output_type": "stream",
     "text": [
      "epoch: 4, [batch: 140 / 1400], examples_per_second: 11508.1088, train_label_loss: 1.6027, \n"
     ]
    },
    {
     "name": "stdout",
     "output_type": "stream",
     "text": [
      "epoch: 4, [batch: 280 / 1400], examples_per_second: 11619.7094, train_label_loss: 1.7283, \n"
     ]
    },
    {
     "name": "stdout",
     "output_type": "stream",
     "text": [
      "epoch: 4, [batch: 420 / 1400], examples_per_second: 11850.4796, train_label_loss: 1.5807, \n"
     ]
    },
    {
     "name": "stdout",
     "output_type": "stream",
     "text": [
      "epoch: 4, [batch: 560 / 1400], examples_per_second: 11648.2697, train_label_loss: 1.4849, \n"
     ]
    },
    {
     "name": "stdout",
     "output_type": "stream",
     "text": [
      "epoch: 4, [batch: 700 / 1400], examples_per_second: 11567.0020, train_label_loss: 1.4234, \n"
     ]
    },
    {
     "name": "stdout",
     "output_type": "stream",
     "text": [
      "epoch: 4, [batch: 840 / 1400], examples_per_second: 11606.7721, train_label_loss: 1.5934, \n"
     ]
    },
    {
     "name": "stdout",
     "output_type": "stream",
     "text": [
      "epoch: 4, [batch: 980 / 1400], examples_per_second: 11503.4335, train_label_loss: 1.5602, \n"
     ]
    },
    {
     "name": "stdout",
     "output_type": "stream",
     "text": [
      "epoch: 4, [batch: 1120 / 1400], examples_per_second: 11597.9353, train_label_loss: 1.3479, \n"
     ]
    },
    {
     "name": "stdout",
     "output_type": "stream",
     "text": [
      "epoch: 4, [batch: 1260 / 1400], examples_per_second: 11646.0695, train_label_loss: 1.3792, \n"
     ]
    },
    {
     "name": "stdout",
     "output_type": "stream",
     "text": [
      "=============================================================\n",
      "epoch: 4, source_val_acc_label: 0.4623, source_val_label_loss: 1.5624, target_val_acc_label: 0.4623, target_val_label_loss: 1.5624, \n",
      "=============================================================\n"
     ]
    },
    {
     "name": "stdout",
     "output_type": "stream",
     "text": [
      "New best\n",
      "epoch: 5, [batch: 1 / 1400], examples_per_second: 64.3501, train_label_loss: 1.1314, \n"
     ]
    },
    {
     "name": "stdout",
     "output_type": "stream",
     "text": [
      "epoch: 5, [batch: 140 / 1400], examples_per_second: 11549.7531, train_label_loss: 1.1845, \n"
     ]
    },
    {
     "name": "stdout",
     "output_type": "stream",
     "text": [
      "epoch: 5, [batch: 280 / 1400], examples_per_second: 11631.4173, train_label_loss: 1.2861, \n"
     ]
    },
    {
     "name": "stdout",
     "output_type": "stream",
     "text": [
      "epoch: 5, [batch: 420 / 1400], examples_per_second: 11687.4129, train_label_loss: 1.2371, \n"
     ]
    },
    {
     "name": "stdout",
     "output_type": "stream",
     "text": [
      "epoch: 5, [batch: 560 / 1400], examples_per_second: 11752.4891, train_label_loss: 1.1222, \n"
     ]
    },
    {
     "name": "stdout",
     "output_type": "stream",
     "text": [
      "epoch: 5, [batch: 700 / 1400], examples_per_second: 11730.7917, train_label_loss: 1.2415, \n"
     ]
    },
    {
     "name": "stdout",
     "output_type": "stream",
     "text": [
      "epoch: 5, [batch: 840 / 1400], examples_per_second: 11671.8626, train_label_loss: 1.1632, \n"
     ]
    },
    {
     "name": "stdout",
     "output_type": "stream",
     "text": [
      "epoch: 5, [batch: 980 / 1400], examples_per_second: 11671.2518, train_label_loss: 1.1917, \n"
     ]
    },
    {
     "name": "stdout",
     "output_type": "stream",
     "text": [
      "epoch: 5, [batch: 1120 / 1400], examples_per_second: 11644.1480, train_label_loss: 1.1797, \n"
     ]
    },
    {
     "name": "stdout",
     "output_type": "stream",
     "text": [
      "epoch: 5, [batch: 1260 / 1400], examples_per_second: 11658.6118, train_label_loss: 1.4827, \n"
     ]
    },
    {
     "name": "stdout",
     "output_type": "stream",
     "text": [
      "=============================================================\n",
      "epoch: 5, source_val_acc_label: 0.4995, source_val_label_loss: 1.4411, target_val_acc_label: 0.4995, target_val_label_loss: 1.4411, \n",
      "=============================================================\n"
     ]
    },
    {
     "name": "stdout",
     "output_type": "stream",
     "text": [
      "New best\n",
      "epoch: 6, [batch: 1 / 1400], examples_per_second: 63.8512, train_label_loss: 0.9706, \n"
     ]
    },
    {
     "name": "stdout",
     "output_type": "stream",
     "text": [
      "epoch: 6, [batch: 140 / 1400], examples_per_second: 11562.5913, train_label_loss: 0.8194, \n"
     ]
    },
    {
     "name": "stdout",
     "output_type": "stream",
     "text": [
      "epoch: 6, [batch: 280 / 1400], examples_per_second: 11698.6076, train_label_loss: 0.8584, \n"
     ]
    },
    {
     "name": "stdout",
     "output_type": "stream",
     "text": [
      "epoch: 6, [batch: 420 / 1400], examples_per_second: 11762.2864, train_label_loss: 0.9633, \n"
     ]
    },
    {
     "name": "stdout",
     "output_type": "stream",
     "text": [
      "epoch: 6, [batch: 560 / 1400], examples_per_second: 11771.3497, train_label_loss: 1.2265, \n"
     ]
    },
    {
     "name": "stdout",
     "output_type": "stream",
     "text": [
      "epoch: 6, [batch: 700 / 1400], examples_per_second: 11698.6294, train_label_loss: 0.9218, \n"
     ]
    },
    {
     "name": "stdout",
     "output_type": "stream",
     "text": [
      "epoch: 6, [batch: 840 / 1400], examples_per_second: 11694.1191, train_label_loss: 0.8360, \n"
     ]
    },
    {
     "name": "stdout",
     "output_type": "stream",
     "text": [
      "epoch: 6, [batch: 980 / 1400], examples_per_second: 11636.6161, train_label_loss: 0.8640, \n"
     ]
    },
    {
     "name": "stdout",
     "output_type": "stream",
     "text": [
      "epoch: 6, [batch: 1120 / 1400], examples_per_second: 11635.1318, train_label_loss: 0.9394, \n"
     ]
    },
    {
     "name": "stdout",
     "output_type": "stream",
     "text": [
      "epoch: 6, [batch: 1260 / 1400], examples_per_second: 11785.9595, train_label_loss: 0.9768, \n"
     ]
    },
    {
     "name": "stdout",
     "output_type": "stream",
     "text": [
      "=============================================================\n",
      "epoch: 6, source_val_acc_label: 0.4908, source_val_label_loss: 1.4546, target_val_acc_label: 0.4908, target_val_label_loss: 1.4546, \n",
      "=============================================================\n"
     ]
    },
    {
     "name": "stdout",
     "output_type": "stream",
     "text": [
      "epoch: 7, [batch: 1 / 1400], examples_per_second: 65.0579, train_label_loss: 0.7685, \n"
     ]
    },
    {
     "name": "stdout",
     "output_type": "stream",
     "text": [
      "epoch: 7, [batch: 140 / 1400], examples_per_second: 11604.7254, train_label_loss: 0.6315, \n"
     ]
    },
    {
     "name": "stdout",
     "output_type": "stream",
     "text": [
      "epoch: 7, [batch: 280 / 1400], examples_per_second: 11675.5594, train_label_loss: 0.6150, \n"
     ]
    },
    {
     "name": "stdout",
     "output_type": "stream",
     "text": [
      "epoch: 7, [batch: 420 / 1400], examples_per_second: 11551.0743, train_label_loss: 0.7229, \n"
     ]
    },
    {
     "name": "stdout",
     "output_type": "stream",
     "text": [
      "epoch: 7, [batch: 560 / 1400], examples_per_second: 11706.6083, train_label_loss: 0.9037, \n"
     ]
    },
    {
     "name": "stdout",
     "output_type": "stream",
     "text": [
      "epoch: 7, [batch: 700 / 1400], examples_per_second: 11755.8530, train_label_loss: 0.7423, \n"
     ]
    },
    {
     "name": "stdout",
     "output_type": "stream",
     "text": [
      "epoch: 7, [batch: 840 / 1400], examples_per_second: 11721.2259, train_label_loss: 0.6724, \n"
     ]
    },
    {
     "name": "stdout",
     "output_type": "stream",
     "text": [
      "epoch: 7, [batch: 980 / 1400], examples_per_second: 11741.1764, train_label_loss: 0.9406, \n"
     ]
    },
    {
     "name": "stdout",
     "output_type": "stream",
     "text": [
      "epoch: 7, [batch: 1120 / 1400], examples_per_second: 11694.7341, train_label_loss: 0.6522, \n"
     ]
    },
    {
     "name": "stdout",
     "output_type": "stream",
     "text": [
      "epoch: 7, [batch: 1260 / 1400], examples_per_second: 11747.0137, train_label_loss: 0.7343, \n"
     ]
    },
    {
     "name": "stdout",
     "output_type": "stream",
     "text": [
      "=============================================================\n",
      "epoch: 7, source_val_acc_label: 0.4958, source_val_label_loss: 1.4830, target_val_acc_label: 0.4958, target_val_label_loss: 1.4830, \n",
      "=============================================================\n"
     ]
    },
    {
     "name": "stdout",
     "output_type": "stream",
     "text": [
      "epoch: 8, [batch: 1 / 1400], examples_per_second: 64.0279, train_label_loss: 0.5364, \n"
     ]
    },
    {
     "name": "stdout",
     "output_type": "stream",
     "text": [
      "epoch: 8, [batch: 140 / 1400], examples_per_second: 11555.5817, train_label_loss: 0.5379, \n"
     ]
    },
    {
     "name": "stdout",
     "output_type": "stream",
     "text": [
      "epoch: 8, [batch: 280 / 1400], examples_per_second: 11658.9066, train_label_loss: 0.5951, \n"
     ]
    },
    {
     "name": "stdout",
     "output_type": "stream",
     "text": [
      "epoch: 8, [batch: 420 / 1400], examples_per_second: 11744.9853, train_label_loss: 0.6554, \n"
     ]
    },
    {
     "name": "stdout",
     "output_type": "stream",
     "text": [
      "epoch: 8, [batch: 560 / 1400], examples_per_second: 11696.1099, train_label_loss: 0.4688, \n"
     ]
    },
    {
     "name": "stdout",
     "output_type": "stream",
     "text": [
      "epoch: 8, [batch: 700 / 1400], examples_per_second: 11664.9374, train_label_loss: 0.6062, \n"
     ]
    },
    {
     "name": "stdout",
     "output_type": "stream",
     "text": [
      "epoch: 8, [batch: 840 / 1400], examples_per_second: 11611.8790, train_label_loss: 0.4445, \n"
     ]
    },
    {
     "name": "stdout",
     "output_type": "stream",
     "text": [
      "epoch: 8, [batch: 980 / 1400], examples_per_second: 11709.2984, train_label_loss: 0.6896, \n"
     ]
    },
    {
     "name": "stdout",
     "output_type": "stream",
     "text": [
      "epoch: 8, [batch: 1120 / 1400], examples_per_second: 11672.0565, train_label_loss: 0.5636, \n"
     ]
    },
    {
     "name": "stdout",
     "output_type": "stream",
     "text": [
      "epoch: 8, [batch: 1260 / 1400], examples_per_second: 11668.7513, train_label_loss: 0.5683, \n"
     ]
    },
    {
     "name": "stdout",
     "output_type": "stream",
     "text": [
      "=============================================================\n",
      "epoch: 8, source_val_acc_label: 0.4913, source_val_label_loss: 1.5469, target_val_acc_label: 0.4913, target_val_label_loss: 1.5469, \n",
      "=============================================================\n"
     ]
    },
    {
     "name": "stdout",
     "output_type": "stream",
     "text": [
      "epoch: 9, [batch: 1 / 1400], examples_per_second: 64.8673, train_label_loss: 0.3077, \n"
     ]
    },
    {
     "name": "stdout",
     "output_type": "stream",
     "text": [
      "epoch: 9, [batch: 140 / 1400], examples_per_second: 11636.9494, train_label_loss: 0.4964, \n"
     ]
    },
    {
     "name": "stdout",
     "output_type": "stream",
     "text": [
      "epoch: 9, [batch: 280 / 1400], examples_per_second: 11639.9194, train_label_loss: 0.5126, \n"
     ]
    },
    {
     "name": "stdout",
     "output_type": "stream",
     "text": [
      "epoch: 9, [batch: 420 / 1400], examples_per_second: 11682.8277, train_label_loss: 0.4222, \n"
     ]
    },
    {
     "name": "stdout",
     "output_type": "stream",
     "text": [
      "epoch: 9, [batch: 560 / 1400], examples_per_second: 11692.4801, train_label_loss: 0.5141, \n"
     ]
    },
    {
     "name": "stdout",
     "output_type": "stream",
     "text": [
      "epoch: 9, [batch: 700 / 1400], examples_per_second: 11732.3500, train_label_loss: 0.3641, \n"
     ]
    },
    {
     "name": "stdout",
     "output_type": "stream",
     "text": [
      "epoch: 9, [batch: 840 / 1400], examples_per_second: 11696.7179, train_label_loss: 0.3802, \n"
     ]
    },
    {
     "name": "stdout",
     "output_type": "stream",
     "text": [
      "epoch: 9, [batch: 980 / 1400], examples_per_second: 11736.3456, train_label_loss: 0.5000, \n"
     ]
    },
    {
     "name": "stdout",
     "output_type": "stream",
     "text": [
      "epoch: 9, [batch: 1120 / 1400], examples_per_second: 11719.4988, train_label_loss: 0.4539, \n"
     ]
    },
    {
     "name": "stdout",
     "output_type": "stream",
     "text": [
      "epoch: 9, [batch: 1260 / 1400], examples_per_second: 11669.9072, train_label_loss: 0.4177, \n"
     ]
    },
    {
     "name": "stdout",
     "output_type": "stream",
     "text": [
      "=============================================================\n",
      "epoch: 9, source_val_acc_label: 0.4690, source_val_label_loss: 1.7299, target_val_acc_label: 0.4690, target_val_label_loss: 1.7299, \n",
      "=============================================================\n"
     ]
    },
    {
     "name": "stdout",
     "output_type": "stream",
     "text": [
      "Patience (3) exhausted\n"
     ]
    }
   ],
   "source": [
    "jig = Vanilla_Train_Eval_Test_Jig(\n",
    "    model=model,\n",
    "    path_to_best_model=p.BEST_MODEL_PATH,\n",
    "    device=p.device,\n",
    "    label_loss_object=torch.nn.NLLLoss(),\n",
    ")\n",
    "\n",
    "jig.train(\n",
    "    train_iterable=datasets.source.processed.train,\n",
    "    source_val_iterable=datasets.source.processed.val,\n",
    "    target_val_iterable=datasets.target.processed.val,\n",
    "    patience=p.patience,\n",
    "    num_epochs=p.n_epoch,\n",
    "    num_logs_per_epoch=p.NUM_LOGS_PER_EPOCH,\n",
    "    criteria_for_best=p.criteria_for_best\n",
    ")"
   ]
  },
  {
   "cell_type": "code",
   "execution_count": 14,
   "id": "4bc2ac17",
   "metadata": {
    "execution": {
     "iopub.execute_input": "2022-03-26T10:11:41.167867Z",
     "iopub.status.busy": "2022-03-26T10:11:41.167483Z",
     "iopub.status.idle": "2022-03-26T10:11:41.169486Z",
     "shell.execute_reply": "2022-03-26T10:11:41.169788Z"
    },
    "papermill": {
     "duration": 0.049945,
     "end_time": "2022-03-26T10:11:41.169889",
     "exception": false,
     "start_time": "2022-03-26T10:11:41.119944",
     "status": "completed"
    },
    "tags": []
   },
   "outputs": [],
   "source": [
    "total_experiment_time_secs = time.time() - start_time_secs"
   ]
  },
  {
   "cell_type": "code",
   "execution_count": 15,
   "id": "cae88f23",
   "metadata": {
    "execution": {
     "iopub.execute_input": "2022-03-26T10:11:41.294279Z",
     "iopub.status.busy": "2022-03-26T10:11:41.293272Z",
     "iopub.status.idle": "2022-03-26T10:12:03.380580Z",
     "shell.execute_reply": "2022-03-26T10:12:03.379795Z"
    },
    "papermill": {
     "duration": 22.166801,
     "end_time": "2022-03-26T10:12:03.380772",
     "exception": false,
     "start_time": "2022-03-26T10:11:41.213971",
     "status": "completed"
    },
    "tags": []
   },
   "outputs": [],
   "source": [
    "source_test_label_accuracy, source_test_label_loss = jig.test(datasets.source.processed.test)\n",
    "target_test_label_accuracy, target_test_label_loss = jig.test(datasets.target.processed.test)\n",
    "\n",
    "source_val_label_accuracy, source_val_label_loss = jig.test(datasets.source.processed.val)\n",
    "target_val_label_accuracy, target_val_label_loss = jig.test(datasets.target.processed.val)\n",
    "\n",
    "history = jig.get_history()\n",
    "\n",
    "total_epochs_trained = len(history[\"epoch_indices\"])\n",
    "\n",
    "val_dl = wrap_in_dataloader(p, Sequence_Aggregator((datasets.source.original.val, datasets.target.original.val)))\n",
    "\n",
    "confusion = confusion_by_domain_over_dataloader(model, p.device, val_dl, forward_uses_domain=False)\n",
    "per_domain_accuracy = per_domain_accuracy_from_confusion(confusion)\n",
    "\n",
    "# Add a key to per_domain_accuracy for if it was a source domain\n",
    "for domain, accuracy in per_domain_accuracy.items():\n",
    "    per_domain_accuracy[domain] = {\n",
    "        \"accuracy\": accuracy,\n",
    "        \"source?\": domain in p.domains_source\n",
    "    }\n",
    "\n",
    "# Do an independent accuracy assesment JUST TO BE SURE!\n",
    "# _source_test_label_accuracy = independent_accuracy_assesment(model, datasets.source.processed.test, p.device)\n",
    "# _target_test_label_accuracy = independent_accuracy_assesment(model, datasets.target.processed.test, p.device)\n",
    "# _source_val_label_accuracy = independent_accuracy_assesment(model, datasets.source.processed.val, p.device)\n",
    "# _target_val_label_accuracy = independent_accuracy_assesment(model, datasets.target.processed.val, p.device)\n",
    "\n",
    "# assert(_source_test_label_accuracy == source_test_label_accuracy)\n",
    "# assert(_target_test_label_accuracy == target_test_label_accuracy)\n",
    "# assert(_source_val_label_accuracy == source_val_label_accuracy)\n",
    "# assert(_target_val_label_accuracy == target_val_label_accuracy)\n",
    "\n",
    "###################################\n",
    "# Write out the results\n",
    "###################################\n",
    "\n",
    "experiment = {\n",
    "    \"experiment_name\": p.experiment_name,\n",
    "    \"parameters\": p,\n",
    "    \"results\": {\n",
    "        \"source_test_label_accuracy\": source_test_label_accuracy,\n",
    "        \"source_test_label_loss\": source_test_label_loss,\n",
    "        \"target_test_label_accuracy\": target_test_label_accuracy,\n",
    "        \"target_test_label_loss\": target_test_label_loss,\n",
    "        \"source_val_label_accuracy\": source_val_label_accuracy,\n",
    "        \"source_val_label_loss\": source_val_label_loss,\n",
    "        \"target_val_label_accuracy\": target_val_label_accuracy,\n",
    "        \"target_val_label_loss\": target_val_label_loss,\n",
    "        \"total_epochs_trained\": total_epochs_trained,\n",
    "        \"total_experiment_time_secs\": total_experiment_time_secs,\n",
    "        \"confusion\": confusion,\n",
    "        \"per_domain_accuracy\": per_domain_accuracy,\n",
    "    },\n",
    "    \"history\": history,\n",
    "    \"dataset_metrics\": get_dataset_metrics(datasets, \"cnn\"),\n",
    "}"
   ]
  },
  {
   "cell_type": "code",
   "execution_count": 16,
   "id": "74c318cf",
   "metadata": {
    "execution": {
     "iopub.execute_input": "2022-03-26T10:12:03.493955Z",
     "iopub.status.busy": "2022-03-26T10:12:03.493134Z",
     "iopub.status.idle": "2022-03-26T10:12:03.687626Z",
     "shell.execute_reply": "2022-03-26T10:12:03.688301Z"
    },
    "papermill": {
     "duration": 0.257804,
     "end_time": "2022-03-26T10:12:03.688506",
     "exception": false,
     "start_time": "2022-03-26T10:12:03.430702",
     "status": "completed"
    },
    "tags": []
   },
   "outputs": [
    {
     "data": {
      "text/plain": [
       "<AxesSubplot:title={'center':'Source Train Label Loss vs Source Val Label Loss'}, xlabel='Epoch'>"
      ]
     },
     "execution_count": 16,
     "metadata": {},
     "output_type": "execute_result"
    },
    {
     "data": {
      "image/png": "[encoded data removed]",
      "text/plain": [
       "<Figure size 1080x504 with 1 Axes>"
      ]
     },
     "metadata": {
      "needs_background": "light"
     },
     "output_type": "display_data"
    }
   ],
   "source": [
    "get_loss_curve(experiment)"
   ]
  },
  {
   "cell_type": "code",
   "execution_count": 17,
   "id": "59376601",
   "metadata": {
    "execution": {
     "iopub.execute_input": "2022-03-26T10:12:03.810233Z",
     "iopub.status.busy": "2022-03-26T10:12:03.809403Z",
     "iopub.status.idle": "2022-03-26T10:12:04.097783Z",
     "shell.execute_reply": "2022-03-26T10:12:04.098502Z"
    },
    "papermill": {
     "duration": 0.363113,
     "end_time": "2022-03-26T10:12:04.098714",
     "exception": false,
     "start_time": "2022-03-26T10:12:03.735601",
     "status": "completed"
    },
    "tags": []
   },
   "outputs": [
    {
     "data": {
      "text/plain": [
       "<AxesSubplot:title={'center':'Results'}>"
      ]
     },
     "execution_count": 17,
     "metadata": {},
     "output_type": "execute_result"
    },
    {
     "data": {
      "image/png": "[encoded data removed]",
      "text/plain": [
       "<Figure size 1080x504 with 1 Axes>"
      ]
     },
     "metadata": {
      "needs_background": "light"
     },
     "output_type": "display_data"
    }
   ],
   "source": [
    "get_results_table(experiment)"
   ]
  },
  {
   "cell_type": "code",
   "execution_count": 18,
   "id": "e80c5c98",
   "metadata": {
    "execution": {
     "iopub.execute_input": "2022-03-26T10:12:04.219929Z",
     "iopub.status.busy": "2022-03-26T10:12:04.219073Z",
     "iopub.status.idle": "2022-03-26T10:12:04.378219Z",
     "shell.execute_reply": "2022-03-26T10:12:04.377502Z"
    },
    "papermill": {
     "duration": 0.23008,
     "end_time": "2022-03-26T10:12:04.378391",
     "exception": false,
     "start_time": "2022-03-26T10:12:04.148311",
     "status": "completed"
    },
    "tags": []
   },
   "outputs": [
    {
     "data": {
      "text/plain": [
       "<AxesSubplot:title={'center':'Per Domain Accuracy'}, xlabel='domain'>"
      ]
     },
     "execution_count": 18,
     "metadata": {},
     "output_type": "execute_result"
    },
    {
     "data": {
      "image/png": "[encoded data removed]",
      "text/plain": [
       "<Figure size 1080x504 with 1 Axes>"
      ]
     },
     "metadata": {
      "needs_background": "light"
     },
     "output_type": "display_data"
    }
   ],
   "source": [
    "get_domain_accuracies(experiment)"
   ]
  },
  {
   "cell_type": "code",
   "execution_count": 19,
   "id": "086fdd10",
   "metadata": {
    "execution": {
     "iopub.execute_input": "2022-03-26T10:12:04.479098Z",
     "iopub.status.busy": "2022-03-26T10:12:04.478727Z",
     "iopub.status.idle": "2022-03-26T10:12:04.482960Z",
     "shell.execute_reply": "2022-03-26T10:12:04.482640Z"
    },
    "papermill": {
     "duration": 0.054171,
     "end_time": "2022-03-26T10:12:04.483035",
     "exception": false,
     "start_time": "2022-03-26T10:12:04.428864",
     "status": "completed"
    },
    "tags": []
   },
   "outputs": [
    {
     "name": "stdout",
     "output_type": "stream",
     "text": [
      "Source Test Label Accuracy: 0.5008854166666666 Target Test Label Accuracy: 0.5008854166666666\n",
      "Source Val Label Accuracy: 0.49953125 Target Val Label Accuracy: 0.49953125\n"
     ]
    }
   ],
   "source": [
    "print(\"Source Test Label Accuracy:\", experiment[\"results\"][\"source_test_label_accuracy\"], \"Target Test Label Accuracy:\", experiment[\"results\"][\"target_test_label_accuracy\"])\n",
    "print(\"Source Val Label Accuracy:\", experiment[\"results\"][\"source_val_label_accuracy\"], \"Target Val Label Accuracy:\", experiment[\"results\"][\"target_val_label_accuracy\"])"
   ]
  },
  {
   "cell_type": "code",
   "execution_count": 20,
   "id": "9f450536",
   "metadata": {
    "execution": {
     "iopub.execute_input": "2022-03-26T10:12:04.584925Z",
     "iopub.status.busy": "2022-03-26T10:12:04.584563Z",
     "iopub.status.idle": "2022-03-26T10:12:04.587938Z",
     "shell.execute_reply": "2022-03-26T10:12:04.587571Z"
    },
    "papermill": {
     "duration": 0.05292,
     "end_time": "2022-03-26T10:12:04.588012",
     "exception": false,
     "start_time": "2022-03-26T10:12:04.535092",
     "status": "completed"
    },
    "tags": [
     "experiment_json"
    ]
   },
   "outputs": [
    {
     "data": {
      "text/plain": [
       "'{\"experiment_name\": \"cnn_2:oracle.run2_limited\", \"parameters\": {\"experiment_name\": \"cnn_2:oracle.run2_limited\", \"labels\": [\"3123D52\", \"3123D65\", \"3123D79\", \"3123D80\", \"3123D54\", \"3123D70\", \"3123D7B\", \"3123D89\", \"3123D58\", \"3123D76\", \"3123D7D\", \"3123EFE\", \"3123D64\", \"3123D78\", \"3123D7E\", \"3124E4A\"], \"domains_source\": [8, 32, 50, 14, 20, 26, 38, 44], \"domains_target\": [8, 32, 50, 14, 20, 26, 38, 44], \"pickle_name_source\": \"oracle.Run2_10kExamples_stratified_ds.2022A.pkl\", \"pickle_name_target\": \"oracle.Run2_10kExamples_stratified_ds.2022A.pkl\", \"device\": \"cuda\", \"lr\": 0.0001, \"batch_size\": 128, \"normalize_source\": false, \"normalize_target\": false, \"num_examples_per_domain_per_label_source\": 2000, \"num_examples_per_domain_per_label_target\": 2000, \"torch_default_dtype\": \"torch.float32\", \"n_epoch\": 50, \"patience\": 3, \"criteria_for_best\": \"target_accuracy\", \"x_net\": [{\"class\": \"nnReshape\", \"kargs\": {\"shape\": [-1, 1, 2, 256]}}, {\"class\": \"Conv2d\", \"kargs\": {\"in_channels\": 1, \"out_channels\": 256, \"kernel_size\": [1, 7], \"bias\": false, \"padding\": [0, 3]}}, {\"class\": \"ReLU\", \"kargs\": {\"inplace\": true}}, {\"class\": \"BatchNorm2d\", \"kargs\": {\"num_features\": 256}}, {\"class\": \"Conv2d\", \"kargs\": {\"in_channels\": 256, \"out_channels\": 80, \"kernel_size\": [2, 7], \"bias\": true, \"padding\": [0, 3]}}, {\"class\": \"ReLU\", \"kargs\": {\"inplace\": true}}, {\"class\": \"BatchNorm2d\", \"kargs\": {\"num_features\": 80}}, {\"class\": \"Flatten\", \"kargs\": {}}, {\"class\": \"Linear\", \"kargs\": {\"in_features\": 20480, \"out_features\": 256}}, {\"class\": \"ReLU\", \"kargs\": {\"inplace\": true}}, {\"class\": \"BatchNorm1d\", \"kargs\": {\"num_features\": 256}}, {\"class\": \"Linear\", \"kargs\": {\"in_features\": 256, \"out_features\": 16}}], \"NUM_LOGS_PER_EPOCH\": 10, \"BEST_MODEL_PATH\": \"./best_model.pth\", \"dataset_seed\": 1337, \"seed\": 1337}, \"results\": {\"source_test_label_accuracy\": 0.5008854166666666, \"source_test_label_loss\": 1.4368024543921152, \"target_test_label_accuracy\": 0.5008854166666666, \"target_test_label_loss\": 1.436802447239558, \"source_val_label_accuracy\": 0.49953125, \"source_val_label_loss\": 1.4410847334067027, \"target_val_label_accuracy\": 0.49953125, \"target_val_label_loss\": 1.4410847210884095, \"total_epochs_trained\": 9, \"total_experiment_time_secs\": 178.9296112060547, \"confusion\": {\"38\": {\"12\": {\"15\": 18, \"12\": 504, \"13\": 36, \"14\": 12, \"5\": 24, \"6\": 4, \"2\": 2}, \"9\": {\"9\": 476, \"15\": 96, \"5\": 14, \"14\": 6, \"12\": 8}, \"2\": {\"14\": 70, \"2\": 110, \"5\": 348, \"8\": 38, \"3\": 20, \"7\": 14}, \"11\": {\"11\": 600}, \"13\": {\"13\": 538, \"3\": 26, \"0\": 2, \"10\": 32, \"7\": 2}, \"1\": {\"1\": 330, \"0\": 194, \"14\": 4, \"15\": 28, \"6\": 22, \"2\": 16, \"11\": 4, \"9\": 2}, \"14\": {\"7\": 196, \"14\": 192, \"13\": 14, \"5\": 132, \"2\": 28, \"4\": 16, \"3\": 18, \"6\": 2, \"12\": 2}, \"4\": {\"4\": 574, \"7\": 20, \"10\": 4, \"13\": 2}, \"3\": {\"13\": 480, \"10\": 24, \"3\": 86, \"11\": 6, \"9\": 2, \"0\": 2}, \"10\": {\"10\": 386, \"13\": 196, \"0\": 2, \"7\": 16}, \"6\": {\"11\": 18, \"14\": 398, \"6\": 128, \"1\": 10, \"2\": 30, \"15\": 8, \"0\": 4, \"9\": 2, \"4\": 2}, \"5\": {\"5\": 510, \"15\": 62, \"0\": 8, \"4\": 4, \"6\": 6, \"1\": 2, \"11\": 4, \"8\": 2, \"7\": 2}, \"15\": {\"15\": 238, \"1\": 292, \"6\": 34, \"14\": 10, \"0\": 8, \"9\": 2, \"10\": 6, \"11\": 6, \"5\": 4}, \"8\": {\"5\": 470, \"0\": 20, \"15\": 44, \"9\": 12, \"6\": 14, \"4\": 10, \"14\": 14, \"7\": 12, \"8\": 4}, \"7\": {\"0\": 88, \"7\": 410, \"4\": 42, \"14\": 16, \"9\": 6, \"6\": 12, \"5\": 26}, \"0\": {\"7\": 60, \"0\": 296, \"9\": 208, \"15\": 6, \"6\": 20, \"4\": 6, \"5\": 4}}, \"14\": {\"10\": {\"4\": 96, \"3\": 116, \"0\": 228, \"10\": 70, \"14\": 58, \"2\": 6, \"8\": 24, \"12\": 2}, \"5\": {\"4\": 142, \"5\": 256, \"7\": 82, \"2\": 66, \"14\": 14, \"3\": 12, \"11\": 14, \"8\": 14}, \"7\": {\"7\": 590, \"5\": 4, \"2\": 6}, \"4\": {\"4\": 242, \"1\": 110, \"8\": 10, \"11\": 26, \"14\": 10, \"5\": 148, \"7\": 12, \"2\": 38, \"3\": 2, \"6\": 2}, \"13\": {\"13\": 314, \"6\": 220, \"15\": 12, \"3\": 18, \"2\": 30, \"14\": 4, \"7\": 2}, \"2\": {\"14\": 114, \"2\": 198, \"7\": 40, \"5\": 64, \"4\": 98, \"6\": 46, \"0\": 6, \"13\": 12, \"8\": 6, \"11\": 2, \"3\": 14}, \"3\": {\"7\": 84, \"3\": 362, \"5\": 30, \"4\": 32, \"2\": 42, \"8\": 20, \"13\": 28, \"6\": 2}, \"14\": {\"14\": 372, \"2\": 78, \"4\": 90, \"3\": 14, \"9\": 2, \"6\": 28, \"5\": 8, \"0\": 4, \"8\": 4}, \"0\": {\"0\": 364, \"5\": 22, \"3\": 22, \"11\": 22, \"8\": 26, \"4\": 94, \"14\": 26, \"2\": 16, \"9\": 8}, \"6\": {\"2\": 90, \"13\": 232, \"6\": 190, \"3\": 44, \"4\": 10, \"14\": 28, \"7\": 4, \"15\": 2}, \"9\": {\"9\": 426, \"11\": 108, \"8\": 22, \"0\": 34, \"12\": 2, \"2\": 4, \"5\": 2, \"1\": 2}, \"15\": {\"15\": 564, \"13\": 28, \"3\": 8}, \"11\": {\"4\": 20, \"13\": 30, \"11\": 436, \"7\": 58, \"12\": 30, \"6\": 26}, \"8\": {\"8\": 588, \"11\": 8, \"9\": 4}, \"1\": {\"1\": 594, \"6\": 2, \"11\": 4}, \"12\": {\"5\": 8, \"13\": 18, \"2\": 20, \"12\": 286, \"9\": 106, \"0\": 62, \"6\": 26, \"11\": 24, \"4\": 10, \"1\": 6, \"14\": 6, \"3\": 6, \"15\": 4, \"8\": 14, \"10\": 4}}, \"26\": {\"8\": {\"9\": 62, \"3\": 40, \"13\": 52, \"2\": 72, \"15\": 36, \"8\": 102, \"14\": 22, \"0\": 56, \"5\": 16, \"7\": 68, \"10\": 58, \"6\": 12, \"4\": 4}, \"5\": {\"6\": 72, \"9\": 36, \"5\": 376, \"1\": 6, \"14\": 28, \"12\": 2, \"15\": 44, \"10\": 4, \"11\": 22, \"2\": 6, \"0\": 2, \"13\": 2}, \"13\": {\"7\": 32, \"13\": 274, \"3\": 50, \"12\": 4, \"9\": 164, \"8\": 50, \"2\": 18, \"15\": 2, \"11\": 2, \"5\": 2, \"6\": 2}, \"4\": {\"3\": 350, \"4\": 134, \"14\": 36, \"0\": 28, \"13\": 2, \"8\": 16, \"2\": 22, \"10\": 12}, \"6\": {\"14\": 76, \"6\": 146, \"12\": 34, \"9\": 90, \"5\": 160, \"10\": 22, \"0\": 34, \"11\": 18, \"1\": 8, \"15\": 4, \"2\": 6, \"8\": 2}, \"3\": {\"3\": 454, \"13\": 42, \"15\": 8, \"2\": 18, \"7\": 44, \"0\": 4, \"8\": 12, \"4\": 12, \"10\": 2, \"9\": 2, \"6\": 2}, \"9\": {\"9\": 176, \"13\": 128, \"3\": 36, \"5\": 20, \"7\": 70, \"8\": 74, \"2\": 32, \"10\": 10, \"6\": 18, \"0\": 12, \"15\": 18, \"12\": 4, \"14\": 2}, \"1\": {\"1\": 306, \"0\": 50, \"6\": 6, \"14\": 176, \"10\": 52, \"15\": 4, \"9\": 2, \"5\": 4}, \"15\": {\"2\": 40, \"15\": 278, \"10\": 2, \"7\": 78, \"9\": 18, \"5\": 32, \"13\": 40, \"3\": 24, \"6\": 38, \"14\": 18, \"8\": 18, \"0\": 12, \"1\": 2}, \"0\": {\"8\": 46, \"14\": 144, \"10\": 104, \"0\": 162, \"6\": 32, \"15\": 68, \"5\": 10, \"1\": 16, \"9\": 6, \"7\": 2, \"2\": 8, \"13\": 2}, \"10\": {\"0\": 130, \"15\": 36, \"10\": 164, \"6\": 26, \"14\": 84, \"5\": 18, \"7\": 8, \"1\": 34, \"2\": 8, \"12\": 42, \"8\": 40, \"9\": 6, \"3\": 2, \"13\": 2}, \"2\": {\"15\": 48, \"7\": 116, \"13\": 74, \"3\": 110, \"9\": 36, \"5\": 22, \"8\": 56, \"2\": 88, \"4\": 6, \"0\": 16, \"12\": 2, \"14\": 10, \"10\": 10, \"6\": 6}, \"7\": {\"7\": 112, \"3\": 262, \"8\": 38, \"13\": 84, \"9\": 30, \"2\": 40, \"5\": 4, \"4\": 6, \"10\": 6, \"15\": 8, \"6\": 2, \"0\": 8}, \"11\": {\"11\": 368, \"6\": 152, \"12\": 78, \"9\": 2}, \"14\": {\"14\": 218, \"1\": 98, \"0\": 114, \"5\": 14, \"10\": 76, \"6\": 32, \"9\": 6, \"8\": 14, \"15\": 24, \"12\": 2, \"2\": 2}, \"12\": {\"12\": 600}}, \"32\": {\"2\": {\"14\": 234, \"5\": 10, \"0\": 16, \"11\": 48, \"2\": 254, \"7\": 22, \"1\": 2, \"9\": 6, \"12\": 2, \"4\": 4, \"6\": 2}, \"11\": {\"11\": 254, \"0\": 8, \"4\": 138, \"13\": 56, \"3\": 64, \"8\": 2, \"14\": 44, \"15\": 2, \"7\": 16, \"2\": 14, \"12\": 2}, \"13\": {\"3\": 176, \"13\": 272, \"11\": 28, \"4\": 118, \"12\": 4, \"0\": 2}, \"9\": {\"14\": 244, \"9\": 198, \"2\": 98, \"6\": 56, \"0\": 4}, \"1\": {\"1\": 572, \"13\": 2, \"8\": 24, \"10\": 2}, \"15\": {\"15\": 574, \"8\": 10, \"2\": 16}, \"14\": {\"14\": 420, \"11\": 50, \"0\": 22, \"2\": 52, \"1\": 4, \"6\": 18, \"15\": 10, \"5\": 10, \"9\": 4, \"4\": 2, \"7\": 4, \"12\": 2, \"8\": 2}, \"12\": {\"6\": 28, \"12\": 476, \"0\": 20, \"10\": 34, \"9\": 18, \"14\": 2, \"1\": 12, \"2\": 4, \"5\": 2, \"11\": 4}, \"4\": {\"11\": 108, \"4\": 254, \"3\": 126, \"0\": 24, \"14\": 6, \"8\": 22, \"13\": 30, \"7\": 2, \"2\": 18, \"12\": 10}, \"5\": {\"5\": 210, \"9\": 282, \"15\": 22, \"2\": 24, \"12\": 12, \"11\": 6, \"8\": 12, \"0\": 6, \"7\": 2, \"14\": 12, \"1\": 12}, \"10\": {\"10\": 590, \"0\": 2, \"12\": 8}, \"7\": {\"12\": 30, \"2\": 148, \"7\": 288, \"5\": 12, \"11\": 18, \"0\": 18, \"3\": 36, \"1\": 30, \"14\": 16, \"4\": 4}, \"8\": {\"0\": 42, \"8\": 370, \"2\": 96, \"1\": 20, \"5\": 2, \"11\": 22, \"4\": 4, \"3\": 28, \"15\": 10, \"7\": 2, \"14\": 4}, \"0\": {\"11\": 128, \"8\": 64, \"2\": 164, \"0\": 96, \"7\": 10, \"14\": 66, \"4\": 38, \"6\": 10, \"3\": 12, \"5\": 4, \"1\": 6, \"15\": 2}, \"6\": {\"6\": 478, \"11\": 64, \"12\": 58}, \"3\": {\"3\": 552, \"13\": 24, \"4\": 6, \"12\": 14, \"8\": 4}}, \"20\": {\"8\": {\"14\": 228, \"0\": 132, \"11\": 26, \"3\": 10, \"4\": 80, \"10\": 20, \"12\": 32, \"5\": 8, \"8\": 34, \"1\": 6, \"15\": 10, \"2\": 12, \"6\": 2}, \"0\": {\"0\": 392, \"2\": 18, \"5\": 8, \"15\": 16, \"9\": 116, \"12\": 20, \"3\": 10, \"1\": 4, \"11\": 6, \"4\": 6, \"8\": 4}, \"3\": {\"3\": 40, \"1\": 90, \"11\": 116, \"9\": 44, \"12\": 164, \"7\": 16, \"13\": 8, \"4\": 38, \"15\": 22, \"2\": 32, \"10\": 6, \"5\": 22, \"8\": 2}, \"6\": {\"6\": 456, \"10\": 62, \"8\": 2, \"12\": 16, \"11\": 44, \"4\": 2, \"14\": 4, \"7\": 12, \"1\": 2}, \"2\": {\"5\": 22, \"2\": 70, \"11\": 114, \"15\": 28, \"9\": 68, \"12\": 90, \"1\": 126, \"3\": 38, \"4\": 24, \"13\": 10, \"0\": 8, \"10\": 2}, \"12\": {\"11\": 112, \"12\": 262, \"13\": 88, \"3\": 14, \"4\": 18, \"7\": 16, \"2\": 18, \"1\": 32, \"10\": 8, \"9\": 12, \"15\": 20}, \"14\": {\"14\": 480, \"4\": 26, \"0\": 12, \"10\": 22, \"8\": 26, \"12\": 20, \"6\": 12, \"11\": 2}, \"11\": {\"11\": 314, \"3\": 2, \"2\": 6, \"1\": 118, \"8\": 8, \"9\": 60, \"0\": 64, \"5\": 10, \"4\": 18}, \"4\": {\"0\": 4, \"1\": 30, \"12\": 304, \"4\": 60, \"15\": 50, \"11\": 70, \"2\": 18, \"7\": 8, \"13\": 8, \"3\": 6, \"10\": 30, \"8\": 2, \"9\": 2, \"5\": 4, \"14\": 2, \"6\": 2}, \"5\": {\"9\": 92, \"11\": 78, \"15\": 40, \"12\": 104, \"3\": 38, \"2\": 48, \"1\": 92, \"4\": 24, \"0\": 32, \"7\": 6, \"13\": 2, \"5\": 40, \"10\": 2, \"6\": 2}, \"15\": {\"9\": 152, \"11\": 130, \"2\": 58, \"1\": 78, \"12\": 98, \"4\": 4, \"5\": 14, \"15\": 32, \"0\": 2, \"13\": 18, \"3\": 12, \"7\": 2}, \"1\": {\"12\": 52, \"9\": 260, \"15\": 90, \"1\": 60, \"2\": 60, \"4\": 6, \"3\": 22, \"5\": 18, \"11\": 6, \"0\": 22, \"10\": 2, \"13\": 2}, \"13\": {\"13\": 138, \"12\": 154, \"11\": 188, \"1\": 38, \"9\": 48, \"4\": 6, \"15\": 10, \"2\": 8, \"7\": 6, \"5\": 2, \"3\": 2}, \"9\": {\"2\": 84, \"11\": 70, \"1\": 96, \"12\": 116, \"5\": 14, \"9\": 100, \"15\": 48, \"3\": 30, \"13\": 22, \"4\": 10, \"10\": 4, \"0\": 4, \"7\": 2}, \"10\": {\"6\": 206, \"7\": 50, \"12\": 118, \"10\": 128, \"11\": 76, \"1\": 2, \"4\": 10, \"8\": 6, \"3\": 2, \"2\": 2}, \"7\": {\"10\": 38, \"1\": 100, \"12\": 90, \"11\": 210, \"6\": 32, \"4\": 56, \"2\": 8, \"7\": 28, \"14\": 4, \"9\": 4, \"3\": 14, \"5\": 6, \"8\": 2, \"15\": 4, \"13\": 4}}, \"50\": {\"15\": {\"5\": 358, \"15\": 130, \"0\": 14, \"14\": 10, \"4\": 16, \"6\": 40, \"9\": 20, \"7\": 10, \"8\": 2}, \"10\": {\"10\": 322, \"1\": 222, \"13\": 34, \"0\": 22}, \"3\": {\"3\": 590, \"8\": 10}, \"8\": {\"8\": 452, \"1\": 124, \"13\": 20, \"0\": 4}, \"4\": {\"5\": 306, \"4\": 64, \"7\": 128, \"14\": 96, \"8\": 4, \"0\": 2}, \"6\": {\"5\": 552, \"8\": 18, \"14\": 4, \"6\": 14, \"15\": 12}, \"5\": {\"4\": 18, \"5\": 430, \"7\": 38, \"14\": 108, \"8\": 4, \"6\": 2}, \"11\": {\"15\": 474, \"5\": 66, \"1\": 10, \"11\": 20, \"14\": 12, \"0\": 2, \"6\": 4, \"2\": 4, \"9\": 8}, \"13\": {\"13\": 422, \"1\": 132, \"8\": 26, \"2\": 2, \"5\": 8, \"10\": 6, \"12\": 4}, \"12\": {\"9\": 400, \"12\": 142, \"15\": 30, \"14\": 16, \"0\": 4, \"5\": 8}, \"7\": {\"7\": 388, \"5\": 60, \"14\": 110, \"3\": 12, \"4\": 26, \"8\": 2, \"2\": 2}, \"14\": {\"2\": 50, \"14\": 382, \"9\": 140, \"6\": 26, \"11\": 2}, \"2\": {\"9\": 52, \"2\": 482, \"6\": 10, \"0\": 50, \"12\": 4, \"1\": 2}, \"0\": {\"0\": 410, \"1\": 64, \"2\": 84, \"10\": 26, \"12\": 10, \"9\": 6}, \"1\": {\"15\": 244, \"1\": 294, \"5\": 38, \"13\": 8, \"6\": 14, \"0\": 2}, \"9\": {\"9\": 596, \"15\": 2, \"0\": 2}}, \"8\": {\"12\": {\"12\": 356, \"4\": 38, \"10\": 80, \"8\": 18, \"7\": 2, \"3\": 4, \"15\": 46, \"11\": 20, \"1\": 6, \"14\": 18, \"6\": 6, \"2\": 6}, \"13\": {\"13\": 310, \"11\": 2, \"10\": 84, \"12\": 34, \"15\": 8, \"1\": 44, \"5\": 30, \"4\": 58, \"7\": 26, \"14\": 2, \"3\": 2}, \"6\": {\"11\": 62, \"14\": 74, \"6\": 372, \"7\": 6, \"4\": 76, \"0\": 4, \"8\": 6}, \"11\": {\"6\": 88, \"11\": 432, \"8\": 56, \"12\": 20, \"7\": 4}, \"9\": {\"9\": 594, \"12\": 6}, \"3\": {\"0\": 328, \"3\": 160, \"4\": 32, \"10\": 42, \"8\": 14, \"15\": 4, \"9\": 6, \"14\": 6, \"12\": 4, \"2\": 4}, \"15\": {\"15\": 222, \"0\": 34, \"12\": 198, \"4\": 20, \"10\": 56, \"2\": 10, \"3\": 20, \"8\": 18, \"14\": 8, \"11\": 4, \"1\": 2, \"9\": 4, \"5\": 4}, \"2\": {\"1\": 32, \"2\": 144, \"12\": 104, \"13\": 20, \"15\": 40, \"9\": 232, \"0\": 8, \"11\": 8, \"5\": 10, \"3\": 2}, \"0\": {\"0\": 600}, \"5\": {\"10\": 164, \"5\": 262, \"1\": 44, \"13\": 90, \"6\": 2, \"7\": 2, \"14\": 14, \"4\": 22}, \"10\": {\"13\": 250, \"10\": 164, \"5\": 116, \"1\": 20, \"4\": 26, \"7\": 8, \"12\": 10, \"14\": 2, \"2\": 4}, \"1\": {\"14\": 180, \"1\": 176, \"10\": 54, \"4\": 92, \"8\": 4, \"13\": 40, \"6\": 26, \"5\": 16, \"11\": 4, \"7\": 8}, \"8\": {\"8\": 82, \"11\": 346, \"6\": 150, \"14\": 8, \"4\": 8, \"7\": 6}, \"14\": {\"14\": 330, \"6\": 176, \"4\": 66, \"8\": 6, \"7\": 6, \"1\": 4, \"11\": 10, \"0\": 2}, \"7\": {\"4\": 252, \"14\": 8, \"11\": 112, \"7\": 130, \"13\": 62, \"6\": 20, \"10\": 12, \"12\": 4}, \"4\": {\"11\": 96, \"7\": 106, \"6\": 110, \"4\": 240, \"14\": 28, \"13\": 14, \"12\": 6}}, \"44\": {\"13\": {\"7\": 128, \"0\": 190, \"13\": 162, \"6\": 52, \"10\": 58, \"9\": 6, \"4\": 4}, \"2\": {\"2\": 306, \"8\": 70, \"15\": 176, \"5\": 34, \"1\": 8, \"9\": 4, \"14\": 2}, \"1\": {\"5\": 30, \"2\": 176, \"1\": 274, \"7\": 56, \"3\": 14, \"8\": 34, \"12\": 14, \"0\": 2}, \"6\": {\"6\": 422, \"0\": 154, \"7\": 4, \"9\": 18, \"4\": 2}, \"7\": {\"9\": 552, \"7\": 8, \"0\": 14, \"6\": 26}, \"5\": {\"5\": 526, \"6\": 6, \"8\": 36, \"15\": 22, \"0\": 4, \"1\": 2, \"14\": 2, \"2\": 2}, \"14\": {\"5\": 280, \"14\": 62, \"0\": 46, \"15\": 60, \"4\": 86, \"9\": 26, \"8\": 28, \"7\": 2, \"6\": 10}, \"9\": {\"9\": 556, \"0\": 26, \"6\": 14, \"15\": 4}, \"4\": {\"15\": 64, \"9\": 216, \"5\": 84, \"0\": 86, \"4\": 120, \"8\": 4, \"14\": 10, \"6\": 16}, \"0\": {\"0\": 242, \"8\": 352, \"1\": 2, \"15\": 4}, \"15\": {\"15\": 366, \"5\": 90, \"8\": 52, \"0\": 58, \"14\": 16, \"9\": 12, \"12\": 4, \"6\": 2}, \"11\": {\"11\": 596, \"3\": 4}, \"12\": {\"3\": 536, \"8\": 14, \"4\": 2, \"12\": 34, \"11\": 6, \"0\": 4, \"1\": 2, \"2\": 2}, \"8\": {\"0\": 114, \"8\": 432, \"5\": 40, \"15\": 14}, \"10\": {\"10\": 544, \"7\": 6, \"9\": 46, \"6\": 4}, \"3\": {\"12\": 28, \"11\": 18, \"2\": 60, \"3\": 318, \"7\": 60, \"0\": 32, \"4\": 58, \"8\": 22, \"14\": 2, \"1\": 2}}}, \"per_domain_accuracy\": {\"38\": {\"accuracy\": 0.560625, \"source?\": true}, \"14\": {\"accuracy\": 0.6095833333333334, \"source?\": true}, \"26\": {\"accuracy\": 0.41229166666666667, \"source?\": true}, \"32\": {\"accuracy\": 0.6102083333333334, \"source?\": true}, \"20\": {\"accuracy\": 0.274375, \"source?\": true}, \"50\": {\"accuracy\": 0.5352083333333333, \"source?\": true}, \"8\": {\"accuracy\": 0.4764583333333333, \"source?\": true}, \"44\": {\"accuracy\": 0.5175, \"source?\": true}}}, \"history\": {\"epoch_indices\": [1, 2, 3, 4, 5, 6, 7, 8, 9], \"train_label_loss\": [2.6105656799248287, 2.2584056648186275, 1.8342290616886956, 1.4893178227118082, 1.2096008398277418, 0.9576009668622698, 0.7401651129978044, 0.5688324418238231, 0.4334693056238549], \"source_val_label_loss\": [2.527365109125773, 2.0015120089054106, 1.6562610864639282, 1.5623767173290253, 1.441084728240967, 1.4545654078324637, 1.4829934791723887, 1.546935810248057, 1.7299265797932943], \"target_val_label_loss\": [2.527365113099416, 2.001511999766032, 1.6562610828876496, 1.5623767217000326, 1.4410847198963166, 1.4545654273033142, 1.482993491490682, 1.5469358078638713, 1.729926571448644], \"source_val_acc_label\": [0.15635416666666666, 0.33643229166666666, 0.446875, 0.46229166666666666, 0.49953125, 0.49075520833333336, 0.49580729166666665, 0.49125, 0.468984375], \"target_val_acc_label\": [0.15635416666666666, 0.33643229166666666, 0.446875, 0.46229166666666666, 0.49953125, 0.49075520833333336, 0.49580729166666665, 0.49125, 0.468984375]}, \"dataset_metrics\": {\"source\": {\"train\": {\"n_unique_x\": 179200, \"n_unique_y\": 16, \"n_batch/episode\": 1400}, \"val\": {\"n_unique_x\": 38400, \"n_unique_y\": 16, \"n_batch/episode\": 300}, \"test\": {\"n_unique_x\": 38400, \"n_unique_y\": 16, \"n_batch/episode\": 300}}, \"target\": {\"train\": {\"n_unique_x\": 179200, \"n_unique_y\": 16, \"n_batch/episode\": 1400}, \"val\": {\"n_unique_x\": 38400, \"n_unique_y\": 16, \"n_batch/episode\": 300}, \"test\": {\"n_unique_x\": 38400, \"n_unique_y\": 16, \"n_batch/episode\": 300}}}}'"
      ]
     },
     "execution_count": 20,
     "metadata": {},
     "output_type": "execute_result"
    }
   ],
   "source": [
    "json.dumps(experiment)"
   ]
  }
 ],
 "metadata": {
  "celltoolbar": "Tags",
  "kernelspec": {
   "display_name": "Python 3 (ipykernel)",
   "language": "python",
   "name": "python3"
  },
  "language_info": {
   "codemirror_mode": {
    "name": "ipython",
    "version": 3
   },
   "file_extension": ".py",
   "mimetype": "text/x-python",
   "name": "python",
   "nbconvert_exporter": "python",
   "pygments_lexer": "ipython3",
   "version": "3.8.12"
  },
  "papermill": {
   "default_parameters": {},
   "duration": 207.587936,
   "end_time": "2022-03-26T10:12:07.246627",
   "environment_variables": {},
   "exception": null,
   "input_path": "/root/csc500-main/csc500-notebooks/templates/cnn_template.ipynb",
   "output_path": "trial.ipynb",
   "parameters": {
    "parameters": {
     "BEST_MODEL_PATH": "./best_model.pth",
     "NUM_LOGS_PER_EPOCH": 10,
     "batch_size": 128,
     "criteria_for_best": "target_accuracy",
     "dataset_seed": 1337,
     "device": "cuda",
     "domains_source": [
      8,
      32,
      50,
      14,
      20,
      26,
      38,
      44
     ],
     "domains_target": [
      8,
      32,
      50,
      14,
      20,
      26,
      38,
      44
     ],
     "experiment_name": "cnn_2:oracle.run2_limited",
     "labels": [
      "3123D52",
      "3123D65",
      "3123D79",
      "3123D80",
      "3123D54",
      "3123D70",
      "3123D7B",
      "3123D89",
      "3123D58",
      "3123D76",
      "3123D7D",
      "3123EFE",
      "3123D64",
      "3123D78",
      "3123D7E",
      "3124E4A"
     ],
     "lr": 0.0001,
     "n_epoch": 50,
     "normalize_source": false,
     "normalize_target": false,
     "num_examples_per_domain_per_label_source": 2000,
     "num_examples_per_domain_per_label_target": 2000,
     "patience": 3,
     "pickle_name_source": "oracle.Run2_10kExamples_stratified_ds.2022A.pkl",
     "pickle_name_target": "oracle.Run2_10kExamples_stratified_ds.2022A.pkl",
     "seed": 1337,
     "torch_default_dtype": "torch.float32",
     "x_net": [
      {
       "class": "nnReshape",
       "kargs": {
        "shape": [
         -1,
         1,
         2,
         256
        ]
       }
      },
      {
       "class": "Conv2d",
       "kargs": {
        "bias": false,
        "in_channels": 1,
        "kernel_size": [
         1,
         7
        ],
        "out_channels": 256,
        "padding": [
         0,
         3
        ]
       }
      },
      {
       "class": "ReLU",
       "kargs": {
        "inplace": true
       }
      },
      {
       "class": "BatchNorm2d",
       "kargs": {
        "num_features": 256
       }
      },
      {
       "class": "Conv2d",
       "kargs": {
        "bias": true,
        "in_channels": 256,
        "kernel_size": [
         2,
         7
        ],
        "out_channels": 80,
        "padding": [
         0,
         3
        ]
       }
      },
      {
       "class": "ReLU",
       "kargs": {
        "inplace": true
       }
      },
      {
       "class": "BatchNorm2d",
       "kargs": {
        "num_features": 80
       }
      },
      {
       "class": "Flatten",
       "kargs": {}
      },
      {
       "class": "Linear",
       "kargs": {
        "in_features": 20480,
        "out_features": 256
       }
      },
      {
       "class": "ReLU",
       "kargs": {
        "inplace": true
       }
      },
      {
       "class": "BatchNorm1d",
       "kargs": {
        "num_features": 256
       }
      },
      {
       "class": "Linear",
       "kargs": {
        "in_features": 256,
        "out_features": 16
       }
      }
     ]
    }
   },
   "start_time": "2022-03-26T10:08:39.658691",
   "version": "2.3.4"
  }
 },
 "nbformat": 4,
 "nbformat_minor": 5
}