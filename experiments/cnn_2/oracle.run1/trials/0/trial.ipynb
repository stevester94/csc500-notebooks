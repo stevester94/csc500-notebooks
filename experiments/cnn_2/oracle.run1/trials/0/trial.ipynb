{
 "cells": [
  {
   "cell_type": "code",
   "execution_count": 1,
   "id": "2324682e",
   "metadata": {
    "execution": {
     "iopub.execute_input": "2022-03-26T22:03:38.471477Z",
     "iopub.status.busy": "2022-03-26T22:03:38.469851Z",
     "iopub.status.idle": "2022-03-26T22:03:39.769512Z",
     "shell.execute_reply": "2022-03-26T22:03:39.768622Z"
    },
    "papermill": {
     "duration": 1.336017,
     "end_time": "2022-03-26T22:03:39.769699",
     "exception": false,
     "start_time": "2022-03-26T22:03:38.433682",
     "status": "completed"
    },
    "tags": []
   },
   "outputs": [],
   "source": [
    "import os, json, sys, time, random\n",
    "import numpy as np\n",
    "import torch\n",
    "from  easydict import EasyDict\n",
    "from math import floor\n",
    "from easydict import EasyDict\n",
    "\n",
    "from steves_utils.vanilla_train_eval_test_jig import  Vanilla_Train_Eval_Test_Jig\n",
    "\n",
    "from steves_utils.torch_utils import get_dataset_metrics, independent_accuracy_assesment\n",
    "from steves_models.configurable_vanilla import Configurable_Vanilla\n",
    "from steves_utils.torch_sequential_builder import build_sequential\n",
    "from steves_utils.lazy_map import Lazy_Map\n",
    "from steves_utils.sequence_aggregator import Sequence_Aggregator\n",
    "\n",
    "from steves_utils.stratified_dataset.traditional_accessor import Traditional_Accessor_Factory\n",
    "\n",
    "from steves_utils.cnn_do_report import (\n",
    "    get_loss_curve,\n",
    "    get_results_table,\n",
    "    get_parameters_table,\n",
    "    get_domain_accuracies,\n",
    ")\n",
    "\n",
    "from steves_utils.torch_utils import (\n",
    "    confusion_by_domain_over_dataloader,\n",
    "    independent_accuracy_assesment\n",
    ")\n",
    "\n",
    "from steves_utils.utils_v2 import (\n",
    "    per_domain_accuracy_from_confusion,\n",
    "    get_datasets_base_path\n",
    ")\n",
    "\n",
    "# from steves_utils.ptn_do_report import TBD"
   ]
  },
  {
   "cell_type": "code",
   "execution_count": 2,
   "id": "1b29e3fe",
   "metadata": {
    "execution": {
     "iopub.execute_input": "2022-03-26T22:03:39.806441Z",
     "iopub.status.busy": "2022-03-26T22:03:39.806048Z",
     "iopub.status.idle": "2022-03-26T22:03:39.809577Z",
     "shell.execute_reply": "2022-03-26T22:03:39.808849Z"
    },
    "papermill": {
     "duration": 0.022575,
     "end_time": "2022-03-26T22:03:39.809740",
     "exception": false,
     "start_time": "2022-03-26T22:03:39.787165",
     "status": "completed"
    },
    "tags": []
   },
   "outputs": [],
   "source": [
    "required_parameters = {\n",
    "    \"experiment_name\",\n",
    "    \"lr\",\n",
    "    \"device\",\n",
    "    \"dataset_seed\",\n",
    "    \"seed\",\n",
    "    \"labels\",\n",
    "    \"domains_target\",\n",
    "    \"domains_source\",\n",
    "    \"num_examples_per_domain_per_label_source\",\n",
    "    \"num_examples_per_domain_per_label_target\",\n",
    "    \"batch_size\",\n",
    "    \"n_epoch\",\n",
    "    \"patience\",\n",
    "    \"criteria_for_best\",\n",
    "    \"normalize_source\",\n",
    "    \"normalize_target\",\n",
    "    \"x_net\",\n",
    "    \"NUM_LOGS_PER_EPOCH\",\n",
    "    \"BEST_MODEL_PATH\",\n",
    "    \"pickle_name_source\",\n",
    "    \"pickle_name_target\",\n",
    "    \"torch_default_dtype\",\n",
    "}"
   ]
  },
  {
   "cell_type": "code",
   "execution_count": 3,
   "id": "670b5fb8",
   "metadata": {
    "execution": {
     "iopub.execute_input": "2022-03-26T22:03:39.853859Z",
     "iopub.status.busy": "2022-03-26T22:03:39.852950Z",
     "iopub.status.idle": "2022-03-26T22:03:39.860171Z",
     "shell.execute_reply": "2022-03-26T22:03:39.859319Z"
    },
    "papermill": {
     "duration": 0.033388,
     "end_time": "2022-03-26T22:03:39.860331",
     "exception": false,
     "start_time": "2022-03-26T22:03:39.826943",
     "status": "completed"
    },
    "tags": [
     "parameters"
    ]
   },
   "outputs": [],
   "source": [
    "from steves_utils.ORACLE.utils_v2 import (\n",
    "    ALL_SERIAL_NUMBERS,\n",
    "    ALL_DISTANCES_FEET_NARROWED,\n",
    ")\n",
    "\n",
    "standalone_parameters = {}\n",
    "standalone_parameters[\"experiment_name\"] = \"MANUAL CORES CNN\"\n",
    "standalone_parameters[\"lr\"] = 0.0001\n",
    "standalone_parameters[\"device\"] = \"cuda\"\n",
    "\n",
    "standalone_parameters[\"dataset_seed\"] = 1337\n",
    "standalone_parameters[\"seed\"] = 1337\n",
    "standalone_parameters[\"labels\"] = ALL_SERIAL_NUMBERS\n",
    "\n",
    "standalone_parameters[\"domains_source\"] = [8,32,50]\n",
    "standalone_parameters[\"domains_target\"] = [14,20,26,38,44,]\n",
    "\n",
    "standalone_parameters[\"num_examples_per_domain_per_label_source\"]=-1\n",
    "standalone_parameters[\"num_examples_per_domain_per_label_target\"]=-1\n",
    "\n",
    "standalone_parameters[\"pickle_name_source\"] = \"oracle.Run1_framed_2000Examples_stratified_ds.2022A.pkl\"\n",
    "standalone_parameters[\"pickle_name_target\"] = \"oracle.Run2_framed_2000Examples_stratified_ds.2022A.pkl\"\n",
    "\n",
    "standalone_parameters[\"torch_default_dtype\"] = \"torch.float32\" \n",
    "\n",
    "standalone_parameters[\"batch_size\"]=128\n",
    "\n",
    "standalone_parameters[\"n_epoch\"] = 3\n",
    "\n",
    "standalone_parameters[\"patience\"] = 10\n",
    "\n",
    "standalone_parameters[\"criteria_for_best\"] = \"target_accuracy\"\n",
    "standalone_parameters[\"normalize_source\"] = False\n",
    "standalone_parameters[\"normalize_target\"] = False\n",
    "\n",
    "standalone_parameters[\"x_net\"] =     [\n",
    "    {\"class\": \"nnReshape\", \"kargs\": {\"shape\":[-1, 1, 2, 256]}},\n",
    "    {\"class\": \"Conv2d\", \"kargs\": { \"in_channels\":1, \"out_channels\":256, \"kernel_size\":(1,7), \"bias\":False, \"padding\":(0,3), },},\n",
    "    {\"class\": \"ReLU\", \"kargs\": {\"inplace\": True}},\n",
    "    {\"class\": \"BatchNorm2d\", \"kargs\": {\"num_features\":256}},\n",
    "\n",
    "    {\"class\": \"Conv2d\", \"kargs\": { \"in_channels\":256, \"out_channels\":80, \"kernel_size\":(2,7), \"bias\":True, \"padding\":(0,3), },},\n",
    "    {\"class\": \"ReLU\", \"kargs\": {\"inplace\": True}},\n",
    "    {\"class\": \"BatchNorm2d\", \"kargs\": {\"num_features\":80}},\n",
    "    {\"class\": \"Flatten\", \"kargs\": {}},\n",
    "\n",
    "    {\"class\": \"Linear\", \"kargs\": {\"in_features\": 80*256, \"out_features\": 256}}, # 80 units per IQ pair\n",
    "    {\"class\": \"ReLU\", \"kargs\": {\"inplace\": True}},\n",
    "    {\"class\": \"BatchNorm1d\", \"kargs\": {\"num_features\":256}},\n",
    "\n",
    "    {\"class\": \"Linear\", \"kargs\": {\"in_features\": 256, \"out_features\": len(standalone_parameters[\"labels\"])}},\n",
    "]\n",
    "\n",
    "standalone_parameters[\"NUM_LOGS_PER_EPOCH\"] = 10\n",
    "standalone_parameters[\"BEST_MODEL_PATH\"] = \"./best_model.pth\""
   ]
  },
  {
   "cell_type": "code",
   "execution_count": 4,
   "id": "09b65c31",
   "metadata": {
    "execution": {
     "iopub.execute_input": "2022-03-26T22:03:39.911940Z",
     "iopub.status.busy": "2022-03-26T22:03:39.911231Z",
     "iopub.status.idle": "2022-03-26T22:03:39.914269Z",
     "shell.execute_reply": "2022-03-26T22:03:39.913435Z"
    },
    "papermill": {
     "duration": 0.032036,
     "end_time": "2022-03-26T22:03:39.914428",
     "exception": false,
     "start_time": "2022-03-26T22:03:39.882392",
     "status": "completed"
    },
    "tags": [
     "injected-parameters"
    ]
   },
   "outputs": [],
   "source": [
    "# Parameters\n",
    "parameters = {\n",
    "    \"experiment_name\": \"cnn_2:oracle.run1\",\n",
    "    \"domains_source\": [8, 32, 50, 14, 20, 26, 38, 44],\n",
    "    \"domains_target\": [8, 32, 50, 14, 20, 26, 38, 44],\n",
    "    \"labels\": [\n",
    "        \"3123D52\",\n",
    "        \"3123D65\",\n",
    "        \"3123D79\",\n",
    "        \"3123D80\",\n",
    "        \"3123D54\",\n",
    "        \"3123D70\",\n",
    "        \"3123D7B\",\n",
    "        \"3123D89\",\n",
    "        \"3123D58\",\n",
    "        \"3123D76\",\n",
    "        \"3123D7D\",\n",
    "        \"3123EFE\",\n",
    "        \"3123D64\",\n",
    "        \"3123D78\",\n",
    "        \"3123D7E\",\n",
    "        \"3124E4A\",\n",
    "    ],\n",
    "    \"pickle_name_source\": \"oracle.Run1_10kExamples_stratified_ds.2022A.pkl\",\n",
    "    \"pickle_name_target\": \"oracle.Run1_10kExamples_stratified_ds.2022A.pkl\",\n",
    "    \"device\": \"cuda\",\n",
    "    \"lr\": 0.0001,\n",
    "    \"batch_size\": 128,\n",
    "    \"normalize_source\": False,\n",
    "    \"normalize_target\": False,\n",
    "    \"num_examples_per_domain_per_label_source\": -1,\n",
    "    \"num_examples_per_domain_per_label_target\": -1,\n",
    "    \"torch_default_dtype\": \"torch.float32\",\n",
    "    \"n_epoch\": 50,\n",
    "    \"patience\": 3,\n",
    "    \"criteria_for_best\": \"target_accuracy\",\n",
    "    \"x_net\": [\n",
    "        {\"class\": \"nnReshape\", \"kargs\": {\"shape\": [-1, 1, 2, 256]}},\n",
    "        {\n",
    "            \"class\": \"Conv2d\",\n",
    "            \"kargs\": {\n",
    "                \"in_channels\": 1,\n",
    "                \"out_channels\": 256,\n",
    "                \"kernel_size\": [1, 7],\n",
    "                \"bias\": False,\n",
    "                \"padding\": [0, 3],\n",
    "            },\n",
    "        },\n",
    "        {\"class\": \"ReLU\", \"kargs\": {\"inplace\": True}},\n",
    "        {\"class\": \"BatchNorm2d\", \"kargs\": {\"num_features\": 256}},\n",
    "        {\n",
    "            \"class\": \"Conv2d\",\n",
    "            \"kargs\": {\n",
    "                \"in_channels\": 256,\n",
    "                \"out_channels\": 80,\n",
    "                \"kernel_size\": [2, 7],\n",
    "                \"bias\": True,\n",
    "                \"padding\": [0, 3],\n",
    "            },\n",
    "        },\n",
    "        {\"class\": \"ReLU\", \"kargs\": {\"inplace\": True}},\n",
    "        {\"class\": \"BatchNorm2d\", \"kargs\": {\"num_features\": 80}},\n",
    "        {\"class\": \"Flatten\", \"kargs\": {}},\n",
    "        {\"class\": \"Linear\", \"kargs\": {\"in_features\": 20480, \"out_features\": 256}},\n",
    "        {\"class\": \"ReLU\", \"kargs\": {\"inplace\": True}},\n",
    "        {\"class\": \"BatchNorm1d\", \"kargs\": {\"num_features\": 256}},\n",
    "        {\"class\": \"Linear\", \"kargs\": {\"in_features\": 256, \"out_features\": 16}},\n",
    "    ],\n",
    "    \"NUM_LOGS_PER_EPOCH\": 10,\n",
    "    \"BEST_MODEL_PATH\": \"./best_model.pth\",\n",
    "    \"dataset_seed\": 154325,\n",
    "    \"seed\": 154325,\n",
    "}\n"
   ]
  },
  {
   "cell_type": "code",
   "execution_count": 5,
   "id": "759b56ec",
   "metadata": {
    "execution": {
     "iopub.execute_input": "2022-03-26T22:03:39.950417Z",
     "iopub.status.busy": "2022-03-26T22:03:39.949916Z",
     "iopub.status.idle": "2022-03-26T22:03:39.952230Z",
     "shell.execute_reply": "2022-03-26T22:03:39.951818Z"
    },
    "papermill": {
     "duration": 0.020786,
     "end_time": "2022-03-26T22:03:39.952339",
     "exception": false,
     "start_time": "2022-03-26T22:03:39.931553",
     "status": "completed"
    },
    "tags": []
   },
   "outputs": [],
   "source": [
    "# Set this to True if you want to run this template directly\n",
    "STANDALONE = False\n",
    "if STANDALONE:\n",
    "    print(\"parameters not injected, running with standalone_parameters\")\n",
    "    parameters = standalone_parameters\n",
    "\n",
    "if not 'parameters' in locals() and not 'parameters' in globals():\n",
    "    raise Exception(\"Parameter injection failed\")\n",
    "\n",
    "#Use an easy dict for all the parameters\n",
    "p = EasyDict(parameters)\n",
    "\n",
    "supplied_keys = set(p.keys())\n",
    "\n",
    "if  supplied_keys != required_parameters:\n",
    "    print(\"Parameters are incorrect\")\n",
    "    if len(supplied_keys - required_parameters)>0: print(\"Shouldn't have:\", str(supplied_keys - required_parameters))\n",
    "    if len(required_parameters - supplied_keys)>0: print(\"Need to have:\", str(required_parameters - supplied_keys))\n",
    "    raise RuntimeError(\"Parameters are incorrect\")\n",
    "\n"
   ]
  },
  {
   "cell_type": "code",
   "execution_count": 6,
   "id": "d5c66a71",
   "metadata": {
    "execution": {
     "iopub.execute_input": "2022-03-26T22:03:39.987022Z",
     "iopub.status.busy": "2022-03-26T22:03:39.986647Z",
     "iopub.status.idle": "2022-03-26T22:03:39.991419Z",
     "shell.execute_reply": "2022-03-26T22:03:39.990871Z"
    },
    "papermill": {
     "duration": 0.0213,
     "end_time": "2022-03-26T22:03:39.991527",
     "exception": false,
     "start_time": "2022-03-26T22:03:39.970227",
     "status": "completed"
    },
    "tags": []
   },
   "outputs": [],
   "source": [
    "###################################\n",
    "# Set the RNGs and make it all deterministic\n",
    "###################################\n",
    "np.random.seed(p.seed)\n",
    "random.seed(p.seed)\n",
    "torch.manual_seed(p.seed)\n",
    "\n",
    "torch.use_deterministic_algorithms(True) "
   ]
  },
  {
   "cell_type": "code",
   "execution_count": 7,
   "id": "92a65876",
   "metadata": {
    "execution": {
     "iopub.execute_input": "2022-03-26T22:03:40.029928Z",
     "iopub.status.busy": "2022-03-26T22:03:40.029358Z",
     "iopub.status.idle": "2022-03-26T22:03:40.031829Z",
     "shell.execute_reply": "2022-03-26T22:03:40.032304Z"
    },
    "papermill": {
     "duration": 0.020949,
     "end_time": "2022-03-26T22:03:40.032431",
     "exception": false,
     "start_time": "2022-03-26T22:03:40.011482",
     "status": "completed"
    },
    "tags": []
   },
   "outputs": [],
   "source": [
    "torch.set_default_dtype(eval(p.torch_default_dtype))"
   ]
  },
  {
   "cell_type": "code",
   "execution_count": 8,
   "id": "f1a32f01",
   "metadata": {
    "execution": {
     "iopub.execute_input": "2022-03-26T22:03:40.070805Z",
     "iopub.status.busy": "2022-03-26T22:03:40.070427Z",
     "iopub.status.idle": "2022-03-26T22:03:40.118463Z",
     "shell.execute_reply": "2022-03-26T22:03:40.117736Z"
    },
    "papermill": {
     "duration": 0.066454,
     "end_time": "2022-03-26T22:03:40.118623",
     "exception": false,
     "start_time": "2022-03-26T22:03:40.052169",
     "status": "completed"
    },
    "tags": []
   },
   "outputs": [],
   "source": [
    "###################################\n",
    "# Build the network(s)\n",
    "# Note: It's critical to do this AFTER setting the RNG\n",
    "###################################\n",
    "x_net = build_sequential(p.x_net)"
   ]
  },
  {
   "cell_type": "code",
   "execution_count": 9,
   "id": "a276cd83",
   "metadata": {
    "execution": {
     "iopub.execute_input": "2022-03-26T22:03:40.157178Z",
     "iopub.status.busy": "2022-03-26T22:03:40.156613Z",
     "iopub.status.idle": "2022-03-26T22:03:40.158998Z",
     "shell.execute_reply": "2022-03-26T22:03:40.159474Z"
    },
    "papermill": {
     "duration": 0.021333,
     "end_time": "2022-03-26T22:03:40.159613",
     "exception": false,
     "start_time": "2022-03-26T22:03:40.138280",
     "status": "completed"
    },
    "tags": []
   },
   "outputs": [],
   "source": [
    "start_time_secs = time.time()"
   ]
  },
  {
   "cell_type": "code",
   "execution_count": 10,
   "id": "de702e48",
   "metadata": {
    "execution": {
     "iopub.execute_input": "2022-03-26T22:03:40.202978Z",
     "iopub.status.busy": "2022-03-26T22:03:40.202371Z",
     "iopub.status.idle": "2022-03-26T22:04:17.432251Z",
     "shell.execute_reply": "2022-03-26T22:04:17.431425Z"
    },
    "papermill": {
     "duration": 37.255568,
     "end_time": "2022-03-26T22:04:17.432433",
     "exception": false,
     "start_time": "2022-03-26T22:03:40.176865",
     "status": "completed"
    },
    "tags": []
   },
   "outputs": [],
   "source": [
    "def wrap_in_dataloader(p, ds):\n",
    "    return torch.utils.data.DataLoader(\n",
    "        ds,\n",
    "        batch_size=p.batch_size,\n",
    "        shuffle=True,\n",
    "        num_workers=1,\n",
    "        persistent_workers=True,\n",
    "        prefetch_factor=50,\n",
    "        pin_memory=True\n",
    "    )\n",
    "\n",
    "taf_source = Traditional_Accessor_Factory(\n",
    "    labels=p.labels,\n",
    "    domains=p.domains_source,\n",
    "    num_examples_per_domain_per_label=p.num_examples_per_domain_per_label_source,\n",
    "    pickle_path=os.path.join(get_datasets_base_path(), p.pickle_name_source),\n",
    "    seed=p.dataset_seed\n",
    ")\n",
    "train_original_source, val_original_source, test_original_source = \\\n",
    "    taf_source.get_train(), taf_source.get_val(), taf_source.get_test()\n",
    "\n",
    "\n",
    "taf_target = Traditional_Accessor_Factory(\n",
    "    labels=p.labels,\n",
    "    domains=p.domains_target,\n",
    "    num_examples_per_domain_per_label=p.num_examples_per_domain_per_label_source,\n",
    "    pickle_path=os.path.join(get_datasets_base_path(), p.pickle_name_target),\n",
    "    seed=p.dataset_seed\n",
    ")\n",
    "train_original_target, val_original_target, test_original_target = \\\n",
    "    taf_target.get_train(), taf_target.get_val(), taf_target.get_test()\n",
    "\n",
    "\n",
    "# For CNN We only use X and Y. And we only train on the source.\n",
    "# Properly form the data using a transform lambda and Lazy_Map. Finally wrap them in a dataloader\n",
    "\n",
    "transform_lambda = lambda ex: ex[:2] # Strip the tuple to just (x,y)\n",
    "\n",
    "\n",
    "train_processed_source = wrap_in_dataloader(\n",
    "    p,\n",
    "    Lazy_Map(train_original_source, transform_lambda)\n",
    ")\n",
    "val_processed_source = wrap_in_dataloader(\n",
    "    p,\n",
    "    Lazy_Map(val_original_source, transform_lambda)\n",
    ")\n",
    "test_processed_source = wrap_in_dataloader(\n",
    "    p,\n",
    "    Lazy_Map(test_original_source, transform_lambda)\n",
    ")\n",
    "\n",
    "train_processed_target = wrap_in_dataloader(\n",
    "    p,\n",
    "    Lazy_Map(train_original_target, transform_lambda)\n",
    ")\n",
    "val_processed_target = wrap_in_dataloader(\n",
    "    p,\n",
    "    Lazy_Map(val_original_target, transform_lambda)\n",
    ")\n",
    "test_processed_target  = wrap_in_dataloader(\n",
    "    p,\n",
    "    Lazy_Map(test_original_target, transform_lambda)\n",
    ")\n",
    "\n",
    "\n",
    "\n",
    "datasets = EasyDict({\n",
    "    \"source\": {\n",
    "        \"original\": {\"train\":train_original_source, \"val\":val_original_source, \"test\":test_original_source},\n",
    "        \"processed\": {\"train\":train_processed_source, \"val\":val_processed_source, \"test\":test_processed_source}\n",
    "    },\n",
    "    \"target\": {\n",
    "        \"original\": {\"train\":train_original_target, \"val\":val_original_target, \"test\":test_original_target},\n",
    "        \"processed\": {\"train\":train_processed_target, \"val\":val_processed_target, \"test\":test_processed_target}\n",
    "    },\n",
    "})"
   ]
  },
  {
   "cell_type": "code",
   "execution_count": 11,
   "id": "a11b26bd",
   "metadata": {
    "execution": {
     "iopub.execute_input": "2022-03-26T22:04:17.545315Z",
     "iopub.status.busy": "2022-03-26T22:04:17.544471Z",
     "iopub.status.idle": "2022-03-26T22:04:22.634277Z",
     "shell.execute_reply": "2022-03-26T22:04:22.633412Z"
    },
    "papermill": {
     "duration": 5.182819,
     "end_time": "2022-03-26T22:04:22.634454",
     "exception": false,
     "start_time": "2022-03-26T22:04:17.451635",
     "status": "completed"
    },
    "tags": []
   },
   "outputs": [
    {
     "data": {
      "text/plain": [
       "torch.float32"
      ]
     },
     "execution_count": 11,
     "metadata": {},
     "output_type": "execute_result"
    }
   ],
   "source": [
    "ep = next(iter(test_processed_target))\n",
    "ep[0].dtype"
   ]
  },
  {
   "cell_type": "code",
   "execution_count": 12,
   "id": "19425fad",
   "metadata": {
    "execution": {
     "iopub.execute_input": "2022-03-26T22:04:22.674631Z",
     "iopub.status.busy": "2022-03-26T22:04:22.673990Z",
     "iopub.status.idle": "2022-03-26T22:04:22.722926Z",
     "shell.execute_reply": "2022-03-26T22:04:22.722227Z"
    },
    "papermill": {
     "duration": 0.070159,
     "end_time": "2022-03-26T22:04:22.723091",
     "exception": false,
     "start_time": "2022-03-26T22:04:22.652932",
     "status": "completed"
    },
    "tags": []
   },
   "outputs": [],
   "source": [
    "model = Configurable_Vanilla(\n",
    "    x_net=x_net,\n",
    "    label_loss_object=torch.nn.NLLLoss(),\n",
    "    learning_rate=p.lr\n",
    ")"
   ]
  },
  {
   "cell_type": "code",
   "execution_count": 13,
   "id": "7f6d4f2c",
   "metadata": {
    "execution": {
     "iopub.execute_input": "2022-03-26T22:04:22.764925Z",
     "iopub.status.busy": "2022-03-26T22:04:22.764353Z",
     "iopub.status.idle": "2022-03-26T22:20:19.749577Z",
     "shell.execute_reply": "2022-03-26T22:20:19.748722Z"
    },
    "papermill": {
     "duration": 957.006826,
     "end_time": "2022-03-26T22:20:19.749753",
     "exception": false,
     "start_time": "2022-03-26T22:04:22.742927",
     "status": "completed"
    },
    "tags": []
   },
   "outputs": [
    {
     "name": "stdout",
     "output_type": "stream",
     "text": [
      "epoch: 1, [batch: 1 / 7000], examples_per_second: 352.3445, train_label_loss: 2.7976, \n"
     ]
    },
    {
     "name": "stdout",
     "output_type": "stream",
     "text": [
      "epoch: 1, [batch: 700 / 7000], examples_per_second: 17317.2721, train_label_loss: 2.6081, \n"
     ]
    },
    {
     "name": "stdout",
     "output_type": "stream",
     "text": [
      "epoch: 1, [batch: 1400 / 7000], examples_per_second: 17144.5221, train_label_loss: 2.4690, \n"
     ]
    },
    {
     "name": "stdout",
     "output_type": "stream",
     "text": [
      "epoch: 1, [batch: 2100 / 7000], examples_per_second: 17189.5338, train_label_loss: 2.2814, \n"
     ]
    },
    {
     "name": "stdout",
     "output_type": "stream",
     "text": [
      "epoch: 1, [batch: 2800 / 7000], examples_per_second: 17137.1849, train_label_loss: 2.1113, \n"
     ]
    },
    {
     "name": "stdout",
     "output_type": "stream",
     "text": [
      "epoch: 1, [batch: 3500 / 7000], examples_per_second: 17040.6647, train_label_loss: 1.8761, \n"
     ]
    },
    {
     "name": "stdout",
     "output_type": "stream",
     "text": [
      "epoch: 1, [batch: 4200 / 7000], examples_per_second: 16890.2229, train_label_loss: 1.6116, \n"
     ]
    },
    {
     "name": "stdout",
     "output_type": "stream",
     "text": [
      "epoch: 1, [batch: 4900 / 7000], examples_per_second: 16909.3558, train_label_loss: 1.7628, \n"
     ]
    },
    {
     "name": "stdout",
     "output_type": "stream",
     "text": [
      "epoch: 1, [batch: 5600 / 7000], examples_per_second: 16970.5752, train_label_loss: 1.4754, \n"
     ]
    },
    {
     "name": "stdout",
     "output_type": "stream",
     "text": [
      "epoch: 1, [batch: 6300 / 7000], examples_per_second: 16973.7194, train_label_loss: 1.4425, \n"
     ]
    },
    {
     "name": "stdout",
     "output_type": "stream",
     "text": [
      "=============================================================\n",
      "epoch: 1, source_val_acc_label: 0.5756, source_val_label_loss: 1.2686, target_val_acc_label: 0.5756, target_val_label_loss: 1.2686, \n",
      "=============================================================\n"
     ]
    },
    {
     "name": "stdout",
     "output_type": "stream",
     "text": [
      "New best\n",
      "epoch: 2, [batch: 1 / 7000], examples_per_second: 18.1853, train_label_loss: 1.3078, \n"
     ]
    },
    {
     "name": "stdout",
     "output_type": "stream",
     "text": [
      "epoch: 2, [batch: 700 / 7000], examples_per_second: 16986.8442, train_label_loss: 1.3633, \n"
     ]
    },
    {
     "name": "stdout",
     "output_type": "stream",
     "text": [
      "epoch: 2, [batch: 1400 / 7000], examples_per_second: 16865.0422, train_label_loss: 1.1544, \n"
     ]
    },
    {
     "name": "stdout",
     "output_type": "stream",
     "text": [
      "epoch: 2, [batch: 2100 / 7000], examples_per_second: 16887.2614, train_label_loss: 1.3141, \n"
     ]
    },
    {
     "name": "stdout",
     "output_type": "stream",
     "text": [
      "epoch: 2, [batch: 2800 / 7000], examples_per_second: 16922.5436, train_label_loss: 1.1710, \n"
     ]
    },
    {
     "name": "stdout",
     "output_type": "stream",
     "text": [
      "epoch: 2, [batch: 3500 / 7000], examples_per_second: 16830.7438, train_label_loss: 1.0783, \n"
     ]
    },
    {
     "name": "stdout",
     "output_type": "stream",
     "text": [
      "epoch: 2, [batch: 4200 / 7000], examples_per_second: 16773.1822, train_label_loss: 1.0363, \n"
     ]
    },
    {
     "name": "stdout",
     "output_type": "stream",
     "text": [
      "epoch: 2, [batch: 4900 / 7000], examples_per_second: 16657.5900, train_label_loss: 0.9885, \n"
     ]
    },
    {
     "name": "stdout",
     "output_type": "stream",
     "text": [
      "epoch: 2, [batch: 5600 / 7000], examples_per_second: 16559.2081, train_label_loss: 1.0587, \n"
     ]
    },
    {
     "name": "stdout",
     "output_type": "stream",
     "text": [
      "epoch: 2, [batch: 6300 / 7000], examples_per_second: 16723.6250, train_label_loss: 0.8143, \n"
     ]
    },
    {
     "name": "stdout",
     "output_type": "stream",
     "text": [
      "=============================================================\n",
      "epoch: 2, source_val_acc_label: 0.6813, source_val_label_loss: 0.9224, target_val_acc_label: 0.6813, target_val_label_loss: 0.9224, \n",
      "=============================================================\n"
     ]
    },
    {
     "name": "stdout",
     "output_type": "stream",
     "text": [
      "New best\n",
      "epoch: 3, [batch: 1 / 7000], examples_per_second: 18.9569, train_label_loss: 0.8692, \n"
     ]
    },
    {
     "name": "stdout",
     "output_type": "stream",
     "text": [
      "epoch: 3, [batch: 700 / 7000], examples_per_second: 16724.3647, train_label_loss: 0.7523, \n"
     ]
    },
    {
     "name": "stdout",
     "output_type": "stream",
     "text": [
      "epoch: 3, [batch: 1400 / 7000], examples_per_second: 16985.0954, train_label_loss: 0.8099, \n"
     ]
    },
    {
     "name": "stdout",
     "output_type": "stream",
     "text": [
      "epoch: 3, [batch: 2100 / 7000], examples_per_second: 16833.5332, train_label_loss: 0.8451, \n"
     ]
    },
    {
     "name": "stdout",
     "output_type": "stream",
     "text": [
      "epoch: 3, [batch: 2800 / 7000], examples_per_second: 16833.3756, train_label_loss: 0.6699, \n"
     ]
    },
    {
     "name": "stdout",
     "output_type": "stream",
     "text": [
      "epoch: 3, [batch: 3500 / 7000], examples_per_second: 16820.1720, train_label_loss: 0.8923, \n"
     ]
    },
    {
     "name": "stdout",
     "output_type": "stream",
     "text": [
      "epoch: 3, [batch: 4200 / 7000], examples_per_second: 16840.4496, train_label_loss: 0.6642, \n"
     ]
    },
    {
     "name": "stdout",
     "output_type": "stream",
     "text": [
      "epoch: 3, [batch: 4900 / 7000], examples_per_second: 16742.4217, train_label_loss: 0.9011, \n"
     ]
    },
    {
     "name": "stdout",
     "output_type": "stream",
     "text": [
      "epoch: 3, [batch: 5600 / 7000], examples_per_second: 16719.4615, train_label_loss: 0.7451, \n"
     ]
    },
    {
     "name": "stdout",
     "output_type": "stream",
     "text": [
      "epoch: 3, [batch: 6300 / 7000], examples_per_second: 16746.5847, train_label_loss: 0.7236, \n"
     ]
    },
    {
     "name": "stdout",
     "output_type": "stream",
     "text": [
      "=============================================================\n",
      "epoch: 3, source_val_acc_label: 0.7113, source_val_label_loss: 0.7960, target_val_acc_label: 0.7113, target_val_label_loss: 0.7960, \n",
      "=============================================================\n"
     ]
    },
    {
     "name": "stdout",
     "output_type": "stream",
     "text": [
      "New best\n",
      "epoch: 4, [batch: 1 / 7000], examples_per_second: 18.9796, train_label_loss: 0.9205, \n"
     ]
    },
    {
     "name": "stdout",
     "output_type": "stream",
     "text": [
      "epoch: 4, [batch: 700 / 7000], examples_per_second: 16717.4024, train_label_loss: 0.5305, \n"
     ]
    },
    {
     "name": "stdout",
     "output_type": "stream",
     "text": [
      "epoch: 4, [batch: 1400 / 7000], examples_per_second: 16702.8406, train_label_loss: 0.6485, \n"
     ]
    },
    {
     "name": "stdout",
     "output_type": "stream",
     "text": [
      "epoch: 4, [batch: 2100 / 7000], examples_per_second: 16721.5861, train_label_loss: 0.7359, \n"
     ]
    },
    {
     "name": "stdout",
     "output_type": "stream",
     "text": [
      "epoch: 4, [batch: 2800 / 7000], examples_per_second: 16694.0461, train_label_loss: 0.5961, \n"
     ]
    },
    {
     "name": "stdout",
     "output_type": "stream",
     "text": [
      "epoch: 4, [batch: 3500 / 7000], examples_per_second: 16685.6275, train_label_loss: 0.5600, \n"
     ]
    },
    {
     "name": "stdout",
     "output_type": "stream",
     "text": [
      "epoch: 4, [batch: 4200 / 7000], examples_per_second: 16743.9024, train_label_loss: 0.6924, \n"
     ]
    },
    {
     "name": "stdout",
     "output_type": "stream",
     "text": [
      "epoch: 4, [batch: 4900 / 7000], examples_per_second: 16025.0646, train_label_loss: 0.8474, \n"
     ]
    },
    {
     "name": "stdout",
     "output_type": "stream",
     "text": [
      "epoch: 4, [batch: 5600 / 7000], examples_per_second: 15947.2235, train_label_loss: 0.6905, \n"
     ]
    },
    {
     "name": "stdout",
     "output_type": "stream",
     "text": [
      "epoch: 4, [batch: 6300 / 7000], examples_per_second: 14979.7539, train_label_loss: 0.5763, \n"
     ]
    },
    {
     "name": "stdout",
     "output_type": "stream",
     "text": [
      "=============================================================\n",
      "epoch: 4, source_val_acc_label: 0.7541, source_val_label_loss: 0.6707, target_val_acc_label: 0.7541, target_val_label_loss: 0.6707, \n",
      "=============================================================\n"
     ]
    },
    {
     "name": "stdout",
     "output_type": "stream",
     "text": [
      "New best\n",
      "epoch: 5, [batch: 1 / 7000], examples_per_second: 18.8642, train_label_loss: 0.4201, \n"
     ]
    },
    {
     "name": "stdout",
     "output_type": "stream",
     "text": [
      "epoch: 5, [batch: 700 / 7000], examples_per_second: 16972.9329, train_label_loss: 0.5936, \n"
     ]
    },
    {
     "name": "stdout",
     "output_type": "stream",
     "text": [
      "epoch: 5, [batch: 1400 / 7000], examples_per_second: 16852.1116, train_label_loss: 0.4585, \n"
     ]
    },
    {
     "name": "stdout",
     "output_type": "stream",
     "text": [
      "epoch: 5, [batch: 2100 / 7000], examples_per_second: 16747.0840, train_label_loss: 0.7516, \n"
     ]
    },
    {
     "name": "stdout",
     "output_type": "stream",
     "text": [
      "epoch: 5, [batch: 2800 / 7000], examples_per_second: 16862.6804, train_label_loss: 0.6030, \n"
     ]
    },
    {
     "name": "stdout",
     "output_type": "stream",
     "text": [
      "epoch: 5, [batch: 3500 / 7000], examples_per_second: 16842.9282, train_label_loss: 0.5970, \n"
     ]
    },
    {
     "name": "stdout",
     "output_type": "stream",
     "text": [
      "epoch: 5, [batch: 4200 / 7000], examples_per_second: 16910.5253, train_label_loss: 0.6086, \n"
     ]
    },
    {
     "name": "stdout",
     "output_type": "stream",
     "text": [
      "epoch: 5, [batch: 4900 / 7000], examples_per_second: 16711.9016, train_label_loss: 0.5867, \n"
     ]
    },
    {
     "name": "stdout",
     "output_type": "stream",
     "text": [
      "epoch: 5, [batch: 5600 / 7000], examples_per_second: 16822.5242, train_label_loss: 0.6820, \n"
     ]
    },
    {
     "name": "stdout",
     "output_type": "stream",
     "text": [
      "epoch: 5, [batch: 6300 / 7000], examples_per_second: 16721.5668, train_label_loss: 0.6514, \n"
     ]
    },
    {
     "name": "stdout",
     "output_type": "stream",
     "text": [
      "=============================================================\n",
      "epoch: 5, source_val_acc_label: 0.7751, source_val_label_loss: 0.6180, target_val_acc_label: 0.7751, target_val_label_loss: 0.6180, \n",
      "=============================================================\n"
     ]
    },
    {
     "name": "stdout",
     "output_type": "stream",
     "text": [
      "New best\n",
      "epoch: 6, [batch: 1 / 7000], examples_per_second: 18.4262, train_label_loss: 0.4365, \n"
     ]
    },
    {
     "name": "stdout",
     "output_type": "stream",
     "text": [
      "epoch: 6, [batch: 700 / 7000], examples_per_second: 16555.0893, train_label_loss: 0.7006, \n"
     ]
    },
    {
     "name": "stdout",
     "output_type": "stream",
     "text": [
      "epoch: 6, [batch: 1400 / 7000], examples_per_second: 15786.5507, train_label_loss: 0.5028, \n"
     ]
    },
    {
     "name": "stdout",
     "output_type": "stream",
     "text": [
      "epoch: 6, [batch: 2100 / 7000], examples_per_second: 10976.5368, train_label_loss: 0.3077, \n"
     ]
    },
    {
     "name": "stdout",
     "output_type": "stream",
     "text": [
      "epoch: 6, [batch: 2800 / 7000], examples_per_second: 10872.5334, train_label_loss: 0.5818, \n"
     ]
    },
    {
     "name": "stdout",
     "output_type": "stream",
     "text": [
      "epoch: 6, [batch: 3500 / 7000], examples_per_second: 10835.1010, train_label_loss: 0.5748, \n"
     ]
    },
    {
     "name": "stdout",
     "output_type": "stream",
     "text": [
      "epoch: 6, [batch: 4200 / 7000], examples_per_second: 10835.5552, train_label_loss: 0.3984, \n"
     ]
    },
    {
     "name": "stdout",
     "output_type": "stream",
     "text": [
      "epoch: 6, [batch: 4900 / 7000], examples_per_second: 10818.8963, train_label_loss: 0.6492, \n"
     ]
    },
    {
     "name": "stdout",
     "output_type": "stream",
     "text": [
      "epoch: 6, [batch: 5600 / 7000], examples_per_second: 10845.5333, train_label_loss: 0.4891, \n"
     ]
    },
    {
     "name": "stdout",
     "output_type": "stream",
     "text": [
      "epoch: 6, [batch: 6300 / 7000], examples_per_second: 10839.6720, train_label_loss: 0.5071, \n"
     ]
    },
    {
     "name": "stdout",
     "output_type": "stream",
     "text": [
      "=============================================================\n",
      "epoch: 6, source_val_acc_label: 0.7576, source_val_label_loss: 0.6624, target_val_acc_label: 0.7576, target_val_label_loss: 0.6624, \n",
      "=============================================================\n"
     ]
    },
    {
     "name": "stdout",
     "output_type": "stream",
     "text": [
      "epoch: 7, [batch: 1 / 7000], examples_per_second: 11.8339, train_label_loss: 0.4820, \n"
     ]
    },
    {
     "name": "stdout",
     "output_type": "stream",
     "text": [
      "epoch: 7, [batch: 700 / 7000], examples_per_second: 10832.8074, train_label_loss: 0.6110, \n"
     ]
    },
    {
     "name": "stdout",
     "output_type": "stream",
     "text": [
      "epoch: 7, [batch: 1400 / 7000], examples_per_second: 10877.8485, train_label_loss: 0.5034, \n"
     ]
    },
    {
     "name": "stdout",
     "output_type": "stream",
     "text": [
      "epoch: 7, [batch: 2100 / 7000], examples_per_second: 10929.0043, train_label_loss: 0.5109, \n"
     ]
    },
    {
     "name": "stdout",
     "output_type": "stream",
     "text": [
      "epoch: 7, [batch: 2800 / 7000], examples_per_second: 10883.9038, train_label_loss: 0.4097, \n"
     ]
    },
    {
     "name": "stdout",
     "output_type": "stream",
     "text": [
      "epoch: 7, [batch: 3500 / 7000], examples_per_second: 10911.5108, train_label_loss: 0.2856, \n"
     ]
    },
    {
     "name": "stdout",
     "output_type": "stream",
     "text": [
      "epoch: 7, [batch: 4200 / 7000], examples_per_second: 10922.3254, train_label_loss: 0.5195, \n"
     ]
    },
    {
     "name": "stdout",
     "output_type": "stream",
     "text": [
      "epoch: 7, [batch: 4900 / 7000], examples_per_second: 10905.8415, train_label_loss: 0.4198, \n"
     ]
    },
    {
     "name": "stdout",
     "output_type": "stream",
     "text": [
      "epoch: 7, [batch: 5600 / 7000], examples_per_second: 10915.6312, train_label_loss: 0.5296, \n"
     ]
    },
    {
     "name": "stdout",
     "output_type": "stream",
     "text": [
      "epoch: 7, [batch: 6300 / 7000], examples_per_second: 10905.1216, train_label_loss: 0.3040, \n"
     ]
    },
    {
     "name": "stdout",
     "output_type": "stream",
     "text": [
      "=============================================================\n",
      "epoch: 7, source_val_acc_label: 0.7771, source_val_label_loss: 0.6068, target_val_acc_label: 0.7771, target_val_label_loss: 0.6068, \n",
      "=============================================================\n"
     ]
    },
    {
     "name": "stdout",
     "output_type": "stream",
     "text": [
      "New best\n",
      "epoch: 8, [batch: 1 / 7000], examples_per_second: 11.7504, train_label_loss: 0.4254, \n"
     ]
    },
    {
     "name": "stdout",
     "output_type": "stream",
     "text": [
      "epoch: 8, [batch: 700 / 7000], examples_per_second: 10890.1720, train_label_loss: 0.7570, \n"
     ]
    },
    {
     "name": "stdout",
     "output_type": "stream",
     "text": [
      "epoch: 8, [batch: 1400 / 7000], examples_per_second: 10892.7091, train_label_loss: 0.2325, \n"
     ]
    },
    {
     "name": "stdout",
     "output_type": "stream",
     "text": [
      "epoch: 8, [batch: 2100 / 7000], examples_per_second: 10876.0264, train_label_loss: 0.5068, \n"
     ]
    },
    {
     "name": "stdout",
     "output_type": "stream",
     "text": [
      "epoch: 8, [batch: 2800 / 7000], examples_per_second: 10894.4569, train_label_loss: 0.5347, \n"
     ]
    },
    {
     "name": "stdout",
     "output_type": "stream",
     "text": [
      "epoch: 8, [batch: 3500 / 7000], examples_per_second: 10875.5886, train_label_loss: 0.4531, \n"
     ]
    },
    {
     "name": "stdout",
     "output_type": "stream",
     "text": [
      "epoch: 8, [batch: 4200 / 7000], examples_per_second: 10881.8033, train_label_loss: 0.4732, \n"
     ]
    },
    {
     "name": "stdout",
     "output_type": "stream",
     "text": [
      "epoch: 8, [batch: 4900 / 7000], examples_per_second: 10868.4954, train_label_loss: 0.2729, \n"
     ]
    },
    {
     "name": "stdout",
     "output_type": "stream",
     "text": [
      "epoch: 8, [batch: 5600 / 7000], examples_per_second: 10917.1510, train_label_loss: 0.4160, \n"
     ]
    },
    {
     "name": "stdout",
     "output_type": "stream",
     "text": [
      "epoch: 8, [batch: 6300 / 7000], examples_per_second: 10895.0453, train_label_loss: 0.3740, \n"
     ]
    },
    {
     "name": "stdout",
     "output_type": "stream",
     "text": [
      "=============================================================\n",
      "epoch: 8, source_val_acc_label: 0.7861, source_val_label_loss: 0.5867, target_val_acc_label: 0.7861, target_val_label_loss: 0.5867, \n",
      "=============================================================\n"
     ]
    },
    {
     "name": "stdout",
     "output_type": "stream",
     "text": [
      "New best\n",
      "epoch: 9, [batch: 1 / 7000], examples_per_second: 11.6760, train_label_loss: 0.4939, \n"
     ]
    },
    {
     "name": "stdout",
     "output_type": "stream",
     "text": [
      "epoch: 9, [batch: 700 / 7000], examples_per_second: 11103.7853, train_label_loss: 0.6294, \n"
     ]
    },
    {
     "name": "stdout",
     "output_type": "stream",
     "text": [
      "epoch: 9, [batch: 1400 / 7000], examples_per_second: 12011.4328, train_label_loss: 0.5838, \n"
     ]
    },
    {
     "name": "stdout",
     "output_type": "stream",
     "text": [
      "epoch: 9, [batch: 2100 / 7000], examples_per_second: 11983.6799, train_label_loss: 0.4352, \n"
     ]
    },
    {
     "name": "stdout",
     "output_type": "stream",
     "text": [
      "epoch: 9, [batch: 2800 / 7000], examples_per_second: 12772.5053, train_label_loss: 0.3021, \n"
     ]
    },
    {
     "name": "stdout",
     "output_type": "stream",
     "text": [
      "epoch: 9, [batch: 3500 / 7000], examples_per_second: 13079.2938, train_label_loss: 0.2839, \n"
     ]
    },
    {
     "name": "stdout",
     "output_type": "stream",
     "text": [
      "epoch: 9, [batch: 4200 / 7000], examples_per_second: 13118.6317, train_label_loss: 0.3921, \n"
     ]
    },
    {
     "name": "stdout",
     "output_type": "stream",
     "text": [
      "epoch: 9, [batch: 4900 / 7000], examples_per_second: 13001.1795, train_label_loss: 0.6120, \n"
     ]
    },
    {
     "name": "stdout",
     "output_type": "stream",
     "text": [
      "epoch: 9, [batch: 5600 / 7000], examples_per_second: 13044.7076, train_label_loss: 0.3650, \n"
     ]
    },
    {
     "name": "stdout",
     "output_type": "stream",
     "text": [
      "epoch: 9, [batch: 6300 / 7000], examples_per_second: 13235.5463, train_label_loss: 0.3398, \n"
     ]
    },
    {
     "name": "stdout",
     "output_type": "stream",
     "text": [
      "=============================================================\n",
      "epoch: 9, source_val_acc_label: 0.7833, source_val_label_loss: 0.6020, target_val_acc_label: 0.7833, target_val_label_loss: 0.6020, \n",
      "=============================================================\n"
     ]
    },
    {
     "name": "stdout",
     "output_type": "stream",
     "text": [
      "epoch: 10, [batch: 1 / 7000], examples_per_second: 15.5193, train_label_loss: 0.4091, \n"
     ]
    },
    {
     "name": "stdout",
     "output_type": "stream",
     "text": [
      "epoch: 10, [batch: 700 / 7000], examples_per_second: 11995.3383, train_label_loss: 0.2583, \n"
     ]
    },
    {
     "name": "stdout",
     "output_type": "stream",
     "text": [
      "epoch: 10, [batch: 1400 / 7000], examples_per_second: 11812.0565, train_label_loss: 0.2498, \n"
     ]
    },
    {
     "name": "stdout",
     "output_type": "stream",
     "text": [
      "epoch: 10, [batch: 2100 / 7000], examples_per_second: 10926.2968, train_label_loss: 0.2660, \n"
     ]
    },
    {
     "name": "stdout",
     "output_type": "stream",
     "text": [
      "epoch: 10, [batch: 2800 / 7000], examples_per_second: 10923.6493, train_label_loss: 0.3372, \n"
     ]
    },
    {
     "name": "stdout",
     "output_type": "stream",
     "text": [
      "epoch: 10, [batch: 3500 / 7000], examples_per_second: 10919.3712, train_label_loss: 0.3081, \n"
     ]
    },
    {
     "name": "stdout",
     "output_type": "stream",
     "text": [
      "epoch: 10, [batch: 4200 / 7000], examples_per_second: 10909.6802, train_label_loss: 0.4214, \n"
     ]
    },
    {
     "name": "stdout",
     "output_type": "stream",
     "text": [
      "epoch: 10, [batch: 4900 / 7000], examples_per_second: 10930.7075, train_label_loss: 0.3732, \n"
     ]
    },
    {
     "name": "stdout",
     "output_type": "stream",
     "text": [
      "epoch: 10, [batch: 5600 / 7000], examples_per_second: 10921.7194, train_label_loss: 0.3667, \n"
     ]
    },
    {
     "name": "stdout",
     "output_type": "stream",
     "text": [
      "epoch: 10, [batch: 6300 / 7000], examples_per_second: 10920.4002, train_label_loss: 0.4933, \n"
     ]
    },
    {
     "name": "stdout",
     "output_type": "stream",
     "text": [
      "=============================================================\n",
      "epoch: 10, source_val_acc_label: 0.7756, source_val_label_loss: 0.6299, target_val_acc_label: 0.7756, target_val_label_loss: 0.6299, \n",
      "=============================================================\n"
     ]
    },
    {
     "name": "stdout",
     "output_type": "stream",
     "text": [
      "epoch: 11, [batch: 1 / 7000], examples_per_second: 11.7122, train_label_loss: 0.2441, \n"
     ]
    },
    {
     "name": "stdout",
     "output_type": "stream",
     "text": [
      "epoch: 11, [batch: 700 / 7000], examples_per_second: 10912.9646, train_label_loss: 0.4249, \n"
     ]
    },
    {
     "name": "stdout",
     "output_type": "stream",
     "text": [
      "epoch: 11, [batch: 1400 / 7000], examples_per_second: 10920.7607, train_label_loss: 0.2897, \n"
     ]
    },
    {
     "name": "stdout",
     "output_type": "stream",
     "text": [
      "epoch: 11, [batch: 2100 / 7000], examples_per_second: 10939.1499, train_label_loss: 0.5027, \n"
     ]
    },
    {
     "name": "stdout",
     "output_type": "stream",
     "text": [
      "epoch: 11, [batch: 2800 / 7000], examples_per_second: 10933.2089, train_label_loss: 0.3426, \n"
     ]
    },
    {
     "name": "stdout",
     "output_type": "stream",
     "text": [
      "epoch: 11, [batch: 3500 / 7000], examples_per_second: 10935.2367, train_label_loss: 0.5520, \n"
     ]
    },
    {
     "name": "stdout",
     "output_type": "stream",
     "text": [
      "epoch: 11, [batch: 4200 / 7000], examples_per_second: 10945.1580, train_label_loss: 0.2357, \n"
     ]
    },
    {
     "name": "stdout",
     "output_type": "stream",
     "text": [
      "epoch: 11, [batch: 4900 / 7000], examples_per_second: 10911.4382, train_label_loss: 0.4623, \n"
     ]
    },
    {
     "name": "stdout",
     "output_type": "stream",
     "text": [
      "epoch: 11, [batch: 5600 / 7000], examples_per_second: 10929.3625, train_label_loss: 0.4972, \n"
     ]
    },
    {
     "name": "stdout",
     "output_type": "stream",
     "text": [
      "epoch: 11, [batch: 6300 / 7000], examples_per_second: 10914.1790, train_label_loss: 0.4198, \n"
     ]
    },
    {
     "name": "stdout",
     "output_type": "stream",
     "text": [
      "=============================================================\n",
      "epoch: 11, source_val_acc_label: 0.7740, source_val_label_loss: 0.6497, target_val_acc_label: 0.7740, target_val_label_loss: 0.6497, \n",
      "=============================================================\n"
     ]
    },
    {
     "name": "stdout",
     "output_type": "stream",
     "text": [
      "epoch: 12, [batch: 1 / 7000], examples_per_second: 11.7753, train_label_loss: 0.4351, \n"
     ]
    },
    {
     "name": "stdout",
     "output_type": "stream",
     "text": [
      "epoch: 12, [batch: 700 / 7000], examples_per_second: 10866.7135, train_label_loss: 0.3187, \n"
     ]
    },
    {
     "name": "stdout",
     "output_type": "stream",
     "text": [
      "epoch: 12, [batch: 1400 / 7000], examples_per_second: 10950.7338, train_label_loss: 0.5245, \n"
     ]
    },
    {
     "name": "stdout",
     "output_type": "stream",
     "text": [
      "epoch: 12, [batch: 2100 / 7000], examples_per_second: 10950.4030, train_label_loss: 0.1847, \n"
     ]
    },
    {
     "name": "stdout",
     "output_type": "stream",
     "text": [
      "epoch: 12, [batch: 2800 / 7000], examples_per_second: 10918.0369, train_label_loss: 0.2169, \n"
     ]
    },
    {
     "name": "stdout",
     "output_type": "stream",
     "text": [
      "epoch: 12, [batch: 3500 / 7000], examples_per_second: 10924.2818, train_label_loss: 0.2703, \n"
     ]
    },
    {
     "name": "stdout",
     "output_type": "stream",
     "text": [
      "epoch: 12, [batch: 4200 / 7000], examples_per_second: 10910.2747, train_label_loss: 0.3770, \n"
     ]
    },
    {
     "name": "stdout",
     "output_type": "stream",
     "text": [
      "epoch: 12, [batch: 4900 / 7000], examples_per_second: 10930.3479, train_label_loss: 0.2753, \n"
     ]
    },
    {
     "name": "stdout",
     "output_type": "stream",
     "text": [
      "epoch: 12, [batch: 5600 / 7000], examples_per_second: 10955.0583, train_label_loss: 0.2292, \n"
     ]
    },
    {
     "name": "stdout",
     "output_type": "stream",
     "text": [
      "epoch: 12, [batch: 6300 / 7000], examples_per_second: 10957.1405, train_label_loss: 0.4319, \n"
     ]
    },
    {
     "name": "stdout",
     "output_type": "stream",
     "text": [
      "=============================================================\n",
      "epoch: 12, source_val_acc_label: 0.7646, source_val_label_loss: 0.6831, target_val_acc_label: 0.7646, target_val_label_loss: 0.6831, \n",
      "=============================================================\n"
     ]
    },
    {
     "name": "stdout",
     "output_type": "stream",
     "text": [
      "Patience (3) exhausted\n"
     ]
    }
   ],
   "source": [
    "jig = Vanilla_Train_Eval_Test_Jig(\n",
    "    model=model,\n",
    "    path_to_best_model=p.BEST_MODEL_PATH,\n",
    "    device=p.device,\n",
    "    label_loss_object=torch.nn.NLLLoss(),\n",
    ")\n",
    "\n",
    "jig.train(\n",
    "    train_iterable=datasets.source.processed.train,\n",
    "    source_val_iterable=datasets.source.processed.val,\n",
    "    target_val_iterable=datasets.target.processed.val,\n",
    "    patience=p.patience,\n",
    "    num_epochs=p.n_epoch,\n",
    "    num_logs_per_epoch=p.NUM_LOGS_PER_EPOCH,\n",
    "    criteria_for_best=p.criteria_for_best\n",
    ")"
   ]
  },
  {
   "cell_type": "code",
   "execution_count": 14,
   "id": "4bc2ac17",
   "metadata": {
    "execution": {
     "iopub.execute_input": "2022-03-26T22:20:19.863389Z",
     "iopub.status.busy": "2022-03-26T22:20:19.863014Z",
     "iopub.status.idle": "2022-03-26T22:20:19.866482Z",
     "shell.execute_reply": "2022-03-26T22:20:19.865683Z"
    },
    "papermill": {
     "duration": 0.062012,
     "end_time": "2022-03-26T22:20:19.866649",
     "exception": false,
     "start_time": "2022-03-26T22:20:19.804637",
     "status": "completed"
    },
    "tags": []
   },
   "outputs": [],
   "source": [
    "total_experiment_time_secs = time.time() - start_time_secs"
   ]
  },
  {
   "cell_type": "code",
   "execution_count": 15,
   "id": "cae88f23",
   "metadata": {
    "execution": {
     "iopub.execute_input": "2022-03-26T22:20:19.995475Z",
     "iopub.status.busy": "2022-03-26T22:20:19.994593Z",
     "iopub.status.idle": "2022-03-26T22:22:08.129245Z",
     "shell.execute_reply": "2022-03-26T22:22:08.128473Z"
    },
    "papermill": {
     "duration": 108.207473,
     "end_time": "2022-03-26T22:22:08.129453",
     "exception": false,
     "start_time": "2022-03-26T22:20:19.921980",
     "status": "completed"
    },
    "tags": []
   },
   "outputs": [],
   "source": [
    "source_test_label_accuracy, source_test_label_loss = jig.test(datasets.source.processed.test)\n",
    "target_test_label_accuracy, target_test_label_loss = jig.test(datasets.target.processed.test)\n",
    "\n",
    "source_val_label_accuracy, source_val_label_loss = jig.test(datasets.source.processed.val)\n",
    "target_val_label_accuracy, target_val_label_loss = jig.test(datasets.target.processed.val)\n",
    "\n",
    "history = jig.get_history()\n",
    "\n",
    "total_epochs_trained = len(history[\"epoch_indices\"])\n",
    "\n",
    "val_dl = wrap_in_dataloader(p, Sequence_Aggregator((datasets.source.original.val, datasets.target.original.val)))\n",
    "\n",
    "confusion = confusion_by_domain_over_dataloader(model, p.device, val_dl, forward_uses_domain=False)\n",
    "per_domain_accuracy = per_domain_accuracy_from_confusion(confusion)\n",
    "\n",
    "# Add a key to per_domain_accuracy for if it was a source domain\n",
    "for domain, accuracy in per_domain_accuracy.items():\n",
    "    per_domain_accuracy[domain] = {\n",
    "        \"accuracy\": accuracy,\n",
    "        \"source?\": domain in p.domains_source\n",
    "    }\n",
    "\n",
    "# Do an independent accuracy assesment JUST TO BE SURE!\n",
    "# _source_test_label_accuracy = independent_accuracy_assesment(model, datasets.source.processed.test, p.device)\n",
    "# _target_test_label_accuracy = independent_accuracy_assesment(model, datasets.target.processed.test, p.device)\n",
    "# _source_val_label_accuracy = independent_accuracy_assesment(model, datasets.source.processed.val, p.device)\n",
    "# _target_val_label_accuracy = independent_accuracy_assesment(model, datasets.target.processed.val, p.device)\n",
    "\n",
    "# assert(_source_test_label_accuracy == source_test_label_accuracy)\n",
    "# assert(_target_test_label_accuracy == target_test_label_accuracy)\n",
    "# assert(_source_val_label_accuracy == source_val_label_accuracy)\n",
    "# assert(_target_val_label_accuracy == target_val_label_accuracy)\n",
    "\n",
    "###################################\n",
    "# Write out the results\n",
    "###################################\n",
    "\n",
    "experiment = {\n",
    "    \"experiment_name\": p.experiment_name,\n",
    "    \"parameters\": p,\n",
    "    \"results\": {\n",
    "        \"source_test_label_accuracy\": source_test_label_accuracy,\n",
    "        \"source_test_label_loss\": source_test_label_loss,\n",
    "        \"target_test_label_accuracy\": target_test_label_accuracy,\n",
    "        \"target_test_label_loss\": target_test_label_loss,\n",
    "        \"source_val_label_accuracy\": source_val_label_accuracy,\n",
    "        \"source_val_label_loss\": source_val_label_loss,\n",
    "        \"target_val_label_accuracy\": target_val_label_accuracy,\n",
    "        \"target_val_label_loss\": target_val_label_loss,\n",
    "        \"total_epochs_trained\": total_epochs_trained,\n",
    "        \"total_experiment_time_secs\": total_experiment_time_secs,\n",
    "        \"confusion\": confusion,\n",
    "        \"per_domain_accuracy\": per_domain_accuracy,\n",
    "    },\n",
    "    \"history\": history,\n",
    "    \"dataset_metrics\": get_dataset_metrics(datasets, \"cnn\"),\n",
    "}"
   ]
  },
  {
   "cell_type": "code",
   "execution_count": 16,
   "id": "74c318cf",
   "metadata": {
    "execution": {
     "iopub.execute_input": "2022-03-26T22:22:08.299289Z",
     "iopub.status.busy": "2022-03-26T22:22:08.261437Z",
     "iopub.status.idle": "2022-03-26T22:22:08.732144Z",
     "shell.execute_reply": "2022-03-26T22:22:08.732997Z"
    },
    "papermill": {
     "duration": 0.545077,
     "end_time": "2022-03-26T22:22:08.733199",
     "exception": false,
     "start_time": "2022-03-26T22:22:08.188122",
     "status": "completed"
    },
    "tags": []
   },
   "outputs": [
    {
     "data": {
      "text/plain": [
       "<AxesSubplot:title={'center':'Source Train Label Loss vs Source Val Label Loss'}, xlabel='Epoch'>"
      ]
     },
     "execution_count": 16,
     "metadata": {},
     "output_type": "execute_result"
    },
    {
     "data": {
      "image/png": "[encoded data removed]",
      "text/plain": [
       "<Figure size 1080x504 with 1 Axes>"
      ]
     },
     "metadata": {
      "needs_background": "light"
     },
     "output_type": "display_data"
    }
   ],
   "source": [
    "get_loss_curve(experiment)"
   ]
  },
  {
   "cell_type": "code",
   "execution_count": 17,
   "id": "59376601",
   "metadata": {
    "execution": {
     "iopub.execute_input": "2022-03-26T22:22:08.864421Z",
     "iopub.status.busy": "2022-03-26T22:22:08.862805Z",
     "iopub.status.idle": "2022-03-26T22:22:09.179721Z",
     "shell.execute_reply": "2022-03-26T22:22:09.179197Z"
    },
    "papermill": {
     "duration": 0.391397,
     "end_time": "2022-03-26T22:22:09.179843",
     "exception": false,
     "start_time": "2022-03-26T22:22:08.788446",
     "status": "completed"
    },
    "tags": []
   },
   "outputs": [
    {
     "data": {
      "text/plain": [
       "<AxesSubplot:title={'center':'Results'}>"
      ]
     },
     "execution_count": 17,
     "metadata": {},
     "output_type": "execute_result"
    },
    {
     "data": {
      "image/png": "[encoded data removed]",
      "text/plain": [
       "<Figure size 1080x504 with 1 Axes>"
      ]
     },
     "metadata": {
      "needs_background": "light"
     },
     "output_type": "display_data"
    }
   ],
   "source": [
    "get_results_table(experiment)"
   ]
  },
  {
   "cell_type": "code",
   "execution_count": 18,
   "id": "e80c5c98",
   "metadata": {
    "execution": {
     "iopub.execute_input": "2022-03-26T22:22:09.334517Z",
     "iopub.status.busy": "2022-03-26T22:22:09.320041Z",
     "iopub.status.idle": "2022-03-26T22:22:09.605490Z",
     "shell.execute_reply": "2022-03-26T22:22:09.604651Z"
    },
    "papermill": {
     "duration": 0.365549,
     "end_time": "2022-03-26T22:22:09.605660",
     "exception": false,
     "start_time": "2022-03-26T22:22:09.240111",
     "status": "completed"
    },
    "tags": []
   },
   "outputs": [
    {
     "data": {
      "text/plain": [
       "<AxesSubplot:title={'center':'Per Domain Accuracy'}, xlabel='domain'>"
      ]
     },
     "execution_count": 18,
     "metadata": {},
     "output_type": "execute_result"
    },
    {
     "data": {
      "image/png": "[encoded data removed]",
      "text/plain": [
       "<Figure size 1080x504 with 1 Axes>"
      ]
     },
     "metadata": {
      "needs_background": "light"
     },
     "output_type": "display_data"
    }
   ],
   "source": [
    "get_domain_accuracies(experiment)"
   ]
  },
  {
   "cell_type": "code",
   "execution_count": 19,
   "id": "086fdd10",
   "metadata": {
    "execution": {
     "iopub.execute_input": "2022-03-26T22:22:09.731974Z",
     "iopub.status.busy": "2022-03-26T22:22:09.731595Z",
     "iopub.status.idle": "2022-03-26T22:22:09.737286Z",
     "shell.execute_reply": "2022-03-26T22:22:09.736219Z"
    },
    "papermill": {
     "duration": 0.070344,
     "end_time": "2022-03-26T22:22:09.737520",
     "exception": false,
     "start_time": "2022-03-26T22:22:09.667176",
     "status": "completed"
    },
    "tags": []
   },
   "outputs": [
    {
     "name": "stdout",
     "output_type": "stream",
     "text": [
      "Source Test Label Accuracy: 0.785609375 Target Test Label Accuracy: 0.785609375\n",
      "Source Val Label Accuracy: 0.7861458333333333 Target Val Label Accuracy: 0.7861458333333333\n"
     ]
    }
   ],
   "source": [
    "print(\"Source Test Label Accuracy:\", experiment[\"results\"][\"source_test_label_accuracy\"], \"Target Test Label Accuracy:\", experiment[\"results\"][\"target_test_label_accuracy\"])\n",
    "print(\"Source Val Label Accuracy:\", experiment[\"results\"][\"source_val_label_accuracy\"], \"Target Val Label Accuracy:\", experiment[\"results\"][\"target_val_label_accuracy\"])"
   ]
  },
  {
   "cell_type": "code",
   "execution_count": 20,
   "id": "9f450536",
   "metadata": {
    "execution": {
     "iopub.execute_input": "2022-03-26T22:22:09.866492Z",
     "iopub.status.busy": "2022-03-26T22:22:09.865256Z",
     "iopub.status.idle": "2022-03-26T22:22:09.870652Z",
     "shell.execute_reply": "2022-03-26T22:22:09.871730Z"
    },
    "papermill": {
     "duration": 0.07238,
     "end_time": "2022-03-26T22:22:09.871996",
     "exception": false,
     "start_time": "2022-03-26T22:22:09.799616",
     "status": "completed"
    },
    "tags": [
     "experiment_json"
    ]
   },
   "outputs": [
    {
     "data": {
      "text/plain": [
       "'{\"experiment_name\": \"cnn_2:oracle.run1\", \"parameters\": {\"experiment_name\": \"cnn_2:oracle.run1\", \"domains_source\": [8, 32, 50, 14, 20, 26, 38, 44], \"domains_target\": [8, 32, 50, 14, 20, 26, 38, 44], \"labels\": [\"3123D52\", \"3123D65\", \"3123D79\", \"3123D80\", \"3123D54\", \"3123D70\", \"3123D7B\", \"3123D89\", \"3123D58\", \"3123D76\", \"3123D7D\", \"3123EFE\", \"3123D64\", \"3123D78\", \"3123D7E\", \"3124E4A\"], \"pickle_name_source\": \"oracle.Run1_10kExamples_stratified_ds.2022A.pkl\", \"pickle_name_target\": \"oracle.Run1_10kExamples_stratified_ds.2022A.pkl\", \"device\": \"cuda\", \"lr\": 0.0001, \"batch_size\": 128, \"normalize_source\": false, \"normalize_target\": false, \"num_examples_per_domain_per_label_source\": -1, \"num_examples_per_domain_per_label_target\": -1, \"torch_default_dtype\": \"torch.float32\", \"n_epoch\": 50, \"patience\": 3, \"criteria_for_best\": \"target_accuracy\", \"x_net\": [{\"class\": \"nnReshape\", \"kargs\": {\"shape\": [-1, 1, 2, 256]}}, {\"class\": \"Conv2d\", \"kargs\": {\"in_channels\": 1, \"out_channels\": 256, \"kernel_size\": [1, 7], \"bias\": false, \"padding\": [0, 3]}}, {\"class\": \"ReLU\", \"kargs\": {\"inplace\": true}}, {\"class\": \"BatchNorm2d\", \"kargs\": {\"num_features\": 256}}, {\"class\": \"Conv2d\", \"kargs\": {\"in_channels\": 256, \"out_channels\": 80, \"kernel_size\": [2, 7], \"bias\": true, \"padding\": [0, 3]}}, {\"class\": \"ReLU\", \"kargs\": {\"inplace\": true}}, {\"class\": \"BatchNorm2d\", \"kargs\": {\"num_features\": 80}}, {\"class\": \"Flatten\", \"kargs\": {}}, {\"class\": \"Linear\", \"kargs\": {\"in_features\": 20480, \"out_features\": 256}}, {\"class\": \"ReLU\", \"kargs\": {\"inplace\": true}}, {\"class\": \"BatchNorm1d\", \"kargs\": {\"num_features\": 256}}, {\"class\": \"Linear\", \"kargs\": {\"in_features\": 256, \"out_features\": 16}}], \"NUM_LOGS_PER_EPOCH\": 10, \"BEST_MODEL_PATH\": \"./best_model.pth\", \"dataset_seed\": 154325, \"seed\": 154325}, \"results\": {\"source_test_label_accuracy\": 0.785609375, \"source_test_label_loss\": 0.5856344382365545, \"target_test_label_accuracy\": 0.785609375, \"target_test_label_loss\": 0.5856344392697016, \"source_val_label_accuracy\": 0.7861458333333333, \"source_val_label_loss\": 0.5867480115890503, \"target_val_label_accuracy\": 0.7861458333333333, \"target_val_label_loss\": 0.5867480133970578, \"total_epochs_trained\": 12, \"total_experiment_time_secs\": 999.7062985897064, \"confusion\": {\"44\": {\"2\": {\"2\": 2800, \"8\": 2, \"7\": 72, \"15\": 24, \"5\": 26, \"10\": 30, \"1\": 44, \"9\": 2}, \"13\": {\"13\": 1780, \"6\": 668, \"0\": 332, \"9\": 200, \"11\": 12, \"7\": 4, \"4\": 4}, \"15\": {\"15\": 2198, \"14\": 252, \"0\": 80, \"4\": 48, \"5\": 244, \"8\": 124, \"11\": 24, \"12\": 16, \"6\": 14}, \"9\": {\"9\": 2100, \"7\": 628, \"6\": 164, \"13\": 62, \"15\": 6, \"2\": 30, \"0\": 4, \"11\": 4, \"4\": 2}, \"12\": {\"3\": 758, \"14\": 10, \"12\": 2218, \"8\": 14}, \"4\": {\"4\": 2354, \"14\": 172, \"11\": 112, \"15\": 282, \"9\": 24, \"5\": 20, \"8\": 4, \"7\": 6, \"6\": 20, \"0\": 6}, \"11\": {\"11\": 2958, \"0\": 40, \"10\": 2}, \"6\": {\"6\": 2402, \"9\": 420, \"13\": 162, \"7\": 14, \"0\": 2}, \"7\": {\"7\": 2202, \"9\": 778, \"6\": 16, \"10\": 4}, \"8\": {\"8\": 2310, \"0\": 478, \"5\": 104, \"15\": 104, \"6\": 2, \"1\": 2}, \"3\": {\"3\": 2424, \"4\": 136, \"2\": 120, \"8\": 88, \"7\": 42, \"0\": 18, \"5\": 6, \"14\": 94, \"12\": 54, \"13\": 18}, \"14\": {\"14\": 2160, \"4\": 498, \"15\": 148, \"6\": 26, \"5\": 154, \"9\": 12, \"11\": 2}, \"1\": {\"1\": 1980, \"2\": 372, \"5\": 478, \"12\": 8, \"14\": 24, \"7\": 84, \"10\": 44, \"8\": 10}, \"5\": {\"5\": 2186, \"15\": 68, \"6\": 398, \"14\": 216, \"4\": 90, \"8\": 22, \"2\": 2, \"0\": 2, \"7\": 16}, \"0\": {\"0\": 2522, \"8\": 392, \"13\": 12, \"15\": 64, \"6\": 4, \"1\": 2, \"5\": 4}, \"10\": {\"10\": 2808, \"2\": 38, \"7\": 122, \"9\": 2, \"1\": 28, \"5\": 2}}, \"32\": {\"9\": {\"1\": 174, \"14\": 752, \"9\": 1720, \"2\": 204, \"6\": 142, \"0\": 2, \"11\": 4, \"12\": 2}, \"11\": {\"11\": 2830, \"13\": 148, \"3\": 18, \"14\": 2, \"4\": 2}, \"4\": {\"4\": 1996, \"2\": 506, \"3\": 376, \"14\": 14, \"13\": 96, \"8\": 8, \"6\": 2, \"0\": 2}, \"6\": {\"6\": 2898, \"11\": 102}, \"12\": {\"12\": 2874, \"0\": 80, \"9\": 8, \"6\": 12, \"10\": 6, \"1\": 4, \"11\": 12, \"2\": 4}, \"7\": {\"0\": 210, \"7\": 1892, \"5\": 402, \"1\": 52, \"14\": 394, \"12\": 10, \"2\": 26, \"8\": 12, \"3\": 2}, \"5\": {\"5\": 1460, \"1\": 412, \"0\": 266, \"2\": 104, \"7\": 466, \"8\": 184, \"14\": 48, \"3\": 38, \"12\": 22}, \"8\": {\"0\": 390, \"8\": 2434, \"3\": 64, \"5\": 84, \"2\": 12, \"7\": 4, \"1\": 10, \"14\": 2}, \"14\": {\"14\": 2230, \"8\": 28, \"0\": 204, \"7\": 372, \"12\": 10, \"1\": 26, \"2\": 30, \"3\": 50, \"5\": 46, \"6\": 2, \"4\": 2}, \"1\": {\"1\": 2952, \"8\": 48}, \"15\": {\"15\": 2956, \"10\": 2, \"2\": 36, \"8\": 6}, \"10\": {\"10\": 3000}, \"3\": {\"12\": 462, \"13\": 120, \"3\": 2408, \"11\": 10}, \"13\": {\"13\": 1910, \"3\": 656, \"4\": 380, \"12\": 34, \"11\": 12, \"2\": 2, \"8\": 2, \"14\": 4}, \"0\": {\"0\": 2618, \"14\": 54, \"7\": 62, \"5\": 52, \"8\": 196, \"3\": 2, \"11\": 12, \"2\": 2, \"9\": 2}, \"2\": {\"4\": 348, \"2\": 2542, \"0\": 20, \"14\": 46, \"3\": 26, \"6\": 18}}, \"26\": {\"6\": {\"5\": 116, \"15\": 592, \"14\": 62, \"0\": 28, \"6\": 1952, \"10\": 220, \"9\": 24, \"12\": 4, \"1\": 2}, \"4\": {\"4\": 2698, \"0\": 46, \"3\": 224, \"8\": 14, \"2\": 2, \"13\": 2, \"14\": 4, \"7\": 10}, \"13\": {\"13\": 2646, \"9\": 172, \"2\": 122, \"3\": 8, \"0\": 36, \"15\": 10, \"8\": 4, \"5\": 2}, \"14\": {\"10\": 290, \"14\": 2120, \"1\": 248, \"0\": 304, \"6\": 24, \"15\": 10, \"2\": 4}, \"2\": {\"2\": 2102, \"3\": 260, \"7\": 284, \"9\": 84, \"15\": 64, \"8\": 58, \"13\": 82, \"10\": 6, \"0\": 20, \"14\": 8, \"6\": 4, \"5\": 28}, \"8\": {\"2\": 322, \"8\": 1304, \"10\": 54, \"0\": 390, \"4\": 4, \"7\": 454, \"9\": 430, \"15\": 10, \"3\": 6, \"6\": 4, \"13\": 4, \"14\": 18}, \"15\": {\"15\": 1958, \"5\": 592, \"6\": 320, \"14\": 32, \"9\": 44, \"2\": 32, \"10\": 12, \"0\": 6, \"1\": 4}, \"1\": {\"1\": 2578, \"14\": 218, \"10\": 134, \"5\": 2, \"0\": 46, \"2\": 4, \"6\": 14, \"15\": 4}, \"5\": {\"15\": 500, \"5\": 2476, \"6\": 18, \"2\": 2, \"10\": 2, \"9\": 2}, \"9\": {\"9\": 2088, \"8\": 288, \"15\": 38, \"2\": 230, \"13\": 202, \"0\": 112, \"7\": 34, \"3\": 4, \"6\": 4}, \"10\": {\"10\": 1448, \"0\": 668, \"14\": 360, \"15\": 138, \"6\": 234, \"1\": 118, \"5\": 16, \"8\": 10, \"7\": 2, \"2\": 6}, \"3\": {\"3\": 2208, \"2\": 372, \"7\": 370, \"8\": 14, \"9\": 8, \"0\": 20, \"4\": 4, \"13\": 4}, \"0\": {\"10\": 576, \"14\": 518, \"6\": 76, \"0\": 1516, \"8\": 118, \"9\": 22, \"7\": 48, \"2\": 34, \"15\": 68, \"1\": 22, \"5\": 2}, \"12\": {\"12\": 3000}, \"7\": {\"7\": 1734, \"2\": 566, \"3\": 264, \"4\": 16, \"8\": 256, \"9\": 58, \"0\": 86, \"13\": 2, \"6\": 2, \"14\": 16}, \"11\": {\"11\": 2890, \"12\": 18, \"6\": 40, \"2\": 42, \"0\": 10}}, \"38\": {\"0\": {\"4\": 486, \"0\": 2284, \"10\": 86, \"13\": 88, \"9\": 8, \"7\": 40, \"11\": 8}, \"5\": {\"4\": 100, \"5\": 1338, \"8\": 536, \"11\": 480, \"0\": 32, \"1\": 18, \"14\": 70, \"9\": 186, \"15\": 148, \"7\": 86, \"6\": 6}, \"3\": {\"3\": 2954, \"0\": 42, \"11\": 4}, \"10\": {\"10\": 2784, \"13\": 102, \"0\": 82, \"4\": 32}, \"9\": {\"9\": 2862, \"12\": 72, \"11\": 14, \"14\": 24, \"4\": 8, \"15\": 2, \"5\": 16, \"7\": 2}, \"12\": {\"12\": 2990, \"15\": 10}, \"15\": {\"15\": 1974, \"5\": 204, \"1\": 464, \"13\": 142, \"0\": 62, \"8\": 120, \"11\": 24, \"10\": 10}, \"6\": {\"6\": 2800, \"2\": 66, \"1\": 70, \"9\": 20, \"14\": 38, \"0\": 6}, \"11\": {\"11\": 3000}, \"4\": {\"4\": 3000}, \"2\": {\"5\": 186, \"14\": 150, \"2\": 2244, \"7\": 414, \"13\": 4, \"4\": 2}, \"14\": {\"14\": 2806, \"7\": 122, \"4\": 14, \"5\": 30, \"2\": 28}, \"8\": {\"5\": 588, \"8\": 1176, \"4\": 512, \"7\": 82, \"15\": 384, \"11\": 164, \"14\": 68, \"12\": 2, \"1\": 14, \"6\": 4, \"0\": 6}, \"7\": {\"7\": 2796, \"0\": 62, \"9\": 14, \"4\": 110, \"8\": 18}, \"13\": {\"13\": 2656, \"4\": 104, \"10\": 158, \"0\": 30, \"7\": 48, \"14\": 4}, \"1\": {\"1\": 2760, \"0\": 128, \"6\": 10, \"9\": 20, \"2\": 76, \"8\": 2, \"14\": 4}}, \"14\": {\"12\": {\"12\": 2998, \"9\": 2}, \"0\": {\"0\": 2580, \"3\": 258, \"13\": 72, \"2\": 16, \"4\": 22, \"9\": 28, \"10\": 10, \"14\": 2, \"11\": 12}, \"2\": {\"2\": 1980, \"3\": 90, \"5\": 318, \"6\": 142, \"13\": 102, \"14\": 290, \"4\": 68, \"7\": 10}, \"5\": {\"5\": 2686, \"2\": 174, \"3\": 24, \"7\": 60, \"14\": 2, \"4\": 52, \"11\": 2}, \"15\": {\"15\": 2976, \"11\": 20, \"13\": 4}, \"7\": {\"7\": 2926, \"5\": 72, \"2\": 2}, \"4\": {\"4\": 2548, \"2\": 90, \"5\": 278, \"11\": 58, \"1\": 12, \"7\": 4, \"10\": 8, \"13\": 2}, \"13\": {\"6\": 974, \"14\": 442, \"13\": 1140, \"2\": 230, \"15\": 126, \"4\": 10, \"3\": 42, \"5\": 2, \"10\": 34}, \"10\": {\"10\": 2704, \"3\": 182, \"14\": 2, \"8\": 4, \"2\": 76, \"11\": 10, \"0\": 14, \"4\": 6, \"5\": 2}, \"14\": {\"14\": 2476, \"6\": 72, \"2\": 238, \"13\": 156, \"3\": 56, \"4\": 2}, \"3\": {\"3\": 2874, \"2\": 64, \"0\": 48, \"14\": 8, \"13\": 4, \"5\": 2}, \"1\": {\"1\": 2984, \"11\": 14, \"4\": 2}, \"8\": {\"8\": 2996, \"11\": 4}, \"9\": {\"9\": 2970, \"0\": 24, \"12\": 2, \"11\": 4}, \"6\": {\"6\": 2016, \"13\": 648, \"2\": 134, \"14\": 148, \"3\": 54}, \"11\": {\"11\": 2956, \"7\": 24, \"13\": 12, \"6\": 8}}, \"50\": {\"13\": {\"13\": 2812, \"15\": 114, \"5\": 16, \"8\": 44, \"0\": 8, \"6\": 4, \"12\": 2}, \"4\": {\"4\": 2386, \"0\": 68, \"13\": 52, \"7\": 304, \"5\": 110, \"14\": 56, \"6\": 6, \"8\": 12, \"15\": 6}, \"1\": {\"1\": 2628, \"13\": 52, \"15\": 278, \"11\": 8, \"5\": 10, \"8\": 18, \"6\": 2, \"0\": 4}, \"8\": {\"8\": 2980, \"10\": 8, \"0\": 2, \"13\": 2, \"1\": 8}, \"12\": {\"9\": 340, \"12\": 2562, \"11\": 62, \"14\": 14, \"5\": 18, \"0\": 4}, \"6\": {\"15\": 220, \"6\": 1876, \"5\": 740, \"8\": 14, \"14\": 90, \"4\": 60}, \"2\": {\"2\": 2554, \"0\": 340, \"1\": 78, \"9\": 24, \"12\": 4}, \"10\": {\"10\": 2542, \"0\": 294, \"8\": 150, \"13\": 8, \"1\": 4, \"15\": 2}, \"9\": {\"9\": 2574, \"12\": 52, \"11\": 330, \"14\": 8, \"7\": 10, \"4\": 4, \"5\": 14, \"0\": 4, \"15\": 4}, \"15\": {\"8\": 278, \"11\": 46, \"14\": 282, \"15\": 1526, \"6\": 166, \"5\": 274, \"4\": 416, \"7\": 8, \"9\": 4}, \"3\": {\"3\": 3000}, \"0\": {\"0\": 2554, \"2\": 216, \"10\": 92, \"1\": 134, \"12\": 4}, \"14\": {\"9\": 304, \"14\": 2604, \"2\": 66, \"6\": 26}, \"7\": {\"7\": 2430, \"5\": 68, \"13\": 18, \"14\": 310, \"4\": 80, \"2\": 94}, \"11\": {\"11\": 2778, \"5\": 46, \"9\": 90, \"15\": 24, \"8\": 40, \"14\": 12, \"12\": 6, \"4\": 4}, \"5\": {\"5\": 1774, \"8\": 86, \"4\": 178, \"7\": 332, \"14\": 210, \"2\": 130, \"6\": 104, \"13\": 56, \"15\": 126, \"0\": 2, \"12\": 2}}, \"8\": {\"5\": {\"5\": 2612, \"1\": 58, \"10\": 320, \"13\": 4, \"11\": 4, \"4\": 2}, \"0\": {\"0\": 2986, \"9\": 6, \"14\": 8}, \"14\": {\"14\": 2658, \"4\": 272, \"11\": 16, \"6\": 8, \"0\": 16, \"10\": 26, \"7\": 2, \"1\": 2}, \"11\": {\"1\": 266, \"11\": 2606, \"8\": 38, \"4\": 18, \"14\": 32, \"5\": 26, \"6\": 6, \"0\": 2, \"10\": 6}, \"2\": {\"2\": 1084, \"0\": 450, \"3\": 670, \"5\": 356, \"7\": 32, \"1\": 200, \"9\": 54, \"10\": 48, \"12\": 76, \"4\": 6, \"8\": 10, \"15\": 14}, \"3\": {\"3\": 2688, \"0\": 92, \"2\": 124, \"10\": 74, \"4\": 18, \"15\": 2, \"8\": 2}, \"12\": {\"15\": 786, \"12\": 1796, \"14\": 58, \"8\": 152, \"4\": 114, \"3\": 28, \"10\": 46, \"5\": 10, \"6\": 4, \"9\": 2, \"2\": 2, \"1\": 2}, \"8\": {\"8\": 2936, \"11\": 48, \"4\": 6, \"6\": 10}, \"6\": {\"7\": 1264, \"6\": 1098, \"4\": 460, \"10\": 40, \"14\": 20, \"11\": 16, \"13\": 90, \"8\": 8, \"1\": 4}, \"1\": {\"11\": 562, \"1\": 2096, \"10\": 126, \"5\": 162, \"4\": 38, \"6\": 6, \"13\": 4, \"14\": 6}, \"13\": {\"13\": 2132, \"10\": 626, \"7\": 76, \"6\": 46, \"5\": 60, \"1\": 22, \"15\": 28, \"4\": 10}, \"15\": {\"15\": 2450, \"12\": 402, \"3\": 84, \"0\": 4, \"2\": 14, \"5\": 30, \"8\": 12, \"1\": 4}, \"10\": {\"10\": 1876, \"5\": 306, \"13\": 756, \"4\": 16, \"1\": 24, \"6\": 14, \"14\": 4, \"7\": 4}, \"9\": {\"9\": 2998, \"13\": 2}, \"7\": {\"6\": 550, \"7\": 2228, \"4\": 88, \"12\": 4, \"10\": 8, \"11\": 26, \"13\": 82, \"8\": 10, \"15\": 4}, \"4\": {\"4\": 1910, \"14\": 476, \"6\": 342, \"7\": 156, \"10\": 58, \"0\": 2, \"13\": 32, \"11\": 14, \"9\": 2, \"1\": 4, \"8\": 4}}, \"20\": {\"0\": {\"0\": 2836, \"5\": 60, \"2\": 74, \"8\": 2, \"9\": 14, \"3\": 8, \"15\": 2, \"11\": 4}, \"9\": {\"1\": 442, \"9\": 1266, \"2\": 690, \"7\": 72, \"10\": 20, \"3\": 232, \"12\": 150, \"5\": 92, \"15\": 22, \"13\": 2, \"8\": 6, \"4\": 4, \"0\": 2}, \"8\": {\"8\": 2610, \"3\": 62, \"12\": 28, \"14\": 136, \"2\": 50, \"0\": 28, \"5\": 20, \"15\": 8, \"11\": 4, \"10\": 14, \"4\": 30, \"7\": 6, \"9\": 4}, \"5\": {\"5\": 1824, \"15\": 132, \"1\": 496, \"2\": 222, \"8\": 8, \"0\": 126, \"12\": 38, \"9\": 84, \"3\": 68, \"7\": 2}, \"12\": {\"12\": 1310, \"2\": 468, \"7\": 130, \"1\": 346, \"13\": 14, \"3\": 90, \"9\": 340, \"15\": 224, \"5\": 70, \"4\": 2, \"6\": 2, \"8\": 2, \"11\": 2}, \"10\": {\"10\": 2776, \"12\": 16, \"6\": 120, \"4\": 80, \"14\": 6, \"7\": 2}, \"4\": {\"8\": 148, \"4\": 1568, \"10\": 130, \"12\": 946, \"7\": 84, \"11\": 4, \"6\": 36, \"3\": 18, \"2\": 22, \"14\": 34, \"15\": 6, \"5\": 4}, \"6\": {\"2\": 36, \"6\": 2844, \"14\": 42, \"7\": 44, \"8\": 4, \"10\": 22, \"4\": 4, \"11\": 4}, \"3\": {\"8\": 56, \"5\": 398, \"3\": 908, \"12\": 100, \"2\": 802, \"1\": 252, \"9\": 332, \"10\": 60, \"15\": 26, \"7\": 40, \"13\": 2, \"0\": 24}, \"7\": {\"2\": 616, \"7\": 1894, \"12\": 66, \"9\": 158, \"11\": 32, \"13\": 18, \"6\": 68, \"3\": 42, \"4\": 44, \"8\": 36, \"5\": 12, \"10\": 6, \"1\": 6, \"15\": 2}, \"2\": {\"2\": 1344, \"9\": 524, \"7\": 460, \"1\": 88, \"15\": 56, \"13\": 148, \"12\": 314, \"11\": 16, \"3\": 26, \"10\": 8, \"5\": 8, \"6\": 8}, \"13\": {\"13\": 2612, \"15\": 140, \"2\": 160, \"7\": 22, \"9\": 26, \"11\": 18, \"12\": 18, \"1\": 4}, \"15\": {\"15\": 1940, \"1\": 460, \"5\": 90, \"9\": 188, \"13\": 48, \"12\": 206, \"2\": 66, \"7\": 2}, \"1\": {\"5\": 436, \"3\": 56, \"1\": 1666, \"9\": 166, \"2\": 210, \"15\": 372, \"12\": 92, \"0\": 2}, \"14\": {\"6\": 100, \"14\": 2730, \"8\": 124, \"12\": 10, \"10\": 28, \"2\": 2, \"4\": 6}, \"11\": {\"11\": 2944, \"8\": 16, \"5\": 14, \"4\": 20, \"0\": 6}}}, \"per_domain_accuracy\": {\"44\": {\"accuracy\": 0.7792083333333333, \"source?\": true}, \"32\": {\"accuracy\": 0.8066666666666666, \"source?\": true}, \"26\": {\"accuracy\": 0.7232916666666667, \"source?\": true}, \"38\": {\"accuracy\": 0.8421666666666666, \"source?\": true}, \"14\": {\"accuracy\": 0.8710416666666667, \"source?\": true}, \"50\": {\"accuracy\": 0.8245833333333333, \"source?\": true}, \"8\": {\"accuracy\": 0.7532083333333334, \"source?\": true}, \"20\": {\"accuracy\": 0.689, \"source?\": true}}}, \"history\": {\"epoch_indices\": [1, 2, 3, 4, 5, 6, 7, 8, 9, 10, 11, 12], \"train_label_loss\": [2.0029793511288507, 1.1508289150510516, 0.8668755894984518, 0.7071774183426585, 0.6025481172459466, 0.5246463994596686, 0.4672164530328342, 0.4162186739402158, 0.3750576917571681, 0.34359381626759256, 0.3158215090302484, 0.2904811033542667], \"source_val_label_loss\": [1.2685832947889963, 0.9223912089665731, 0.7959895292917888, 0.6707456398407619, 0.6179756323893865, 0.662390697936217, 0.6068410320083301, 0.5867480119069417, 0.6019600367546082, 0.6298982587854067, 0.6496996610363325, 0.6830731187661488], \"target_val_label_loss\": [1.2685832951068878, 0.9223912090857823, 0.7959895303249359, 0.6707456413507461, 0.6179756317138672, 0.6623906989892324, 0.6068410317897797, 0.5867480098803838, 0.6019600355625152, 0.6298982566793759, 0.6496996659040452, 0.6830731188853582], \"source_val_acc_label\": [0.5755677083333334, 0.6813385416666666, 0.71134375, 0.7541354166666666, 0.775140625, 0.7575729166666667, 0.7770572916666667, 0.7861458333333333, 0.78334375, 0.775625, 0.7739947916666666, 0.764640625], \"target_val_acc_label\": [0.5755677083333334, 0.6813385416666666, 0.71134375, 0.7541354166666666, 0.775140625, 0.7575729166666667, 0.7770572916666667, 0.7861458333333333, 0.78334375, 0.775625, 0.7739947916666666, 0.764640625]}, \"dataset_metrics\": {\"source\": {\"train\": {\"n_unique_x\": 896000, \"n_unique_y\": 16, \"n_batch/episode\": 7000}, \"val\": {\"n_unique_x\": 192000, \"n_unique_y\": 16, \"n_batch/episode\": 1500}, \"test\": {\"n_unique_x\": 192000, \"n_unique_y\": 16, \"n_batch/episode\": 1500}}, \"target\": {\"train\": {\"n_unique_x\": 896000, \"n_unique_y\": 16, \"n_batch/episode\": 7000}, \"val\": {\"n_unique_x\": 192000, \"n_unique_y\": 16, \"n_batch/episode\": 1500}, \"test\": {\"n_unique_x\": 192000, \"n_unique_y\": 16, \"n_batch/episode\": 1500}}}}'"
      ]
     },
     "execution_count": 20,
     "metadata": {},
     "output_type": "execute_result"
    }
   ],
   "source": [
    "json.dumps(experiment)"
   ]
  }
 ],
 "metadata": {
  "celltoolbar": "Tags",
  "kernelspec": {
   "display_name": "Python 3 (ipykernel)",
   "language": "python",
   "name": "python3"
  },
  "language_info": {
   "codemirror_mode": {
    "name": "ipython",
    "version": 3
   },
   "file_extension": ".py",
   "mimetype": "text/x-python",
   "name": "python",
   "nbconvert_exporter": "python",
   "pygments_lexer": "ipython3",
   "version": "3.8.12"
  },
  "papermill": {
   "default_parameters": {},
   "duration": 1116.539984,
   "end_time": "2022-03-26T22:22:13.675588",
   "environment_variables": {},
   "exception": null,
   "input_path": "/root/csc500-main/csc500-notebooks/templates/cnn_template.ipynb",
   "output_path": "trial.ipynb",
   "parameters": {
    "parameters": {
     "BEST_MODEL_PATH": "./best_model.pth",
     "NUM_LOGS_PER_EPOCH": 10,
     "batch_size": 128,
     "criteria_for_best": "target_accuracy",
     "dataset_seed": 154325,
     "device": "cuda",
     "domains_source": [
      8,
      32,
      50,
      14,
      20,
      26,
      38,
      44
     ],
     "domains_target": [
      8,
      32,
      50,
      14,
      20,
      26,
      38,
      44
     ],
     "experiment_name": "cnn_2:oracle.run1",
     "labels": [
      "3123D52",
      "3123D65",
      "3123D79",
      "3123D80",
      "3123D54",
      "3123D70",
      "3123D7B",
      "3123D89",
      "3123D58",
      "3123D76",
      "3123D7D",
      "3123EFE",
      "3123D64",
      "3123D78",
      "3123D7E",
      "3124E4A"
     ],
     "lr": 0.0001,
     "n_epoch": 50,
     "normalize_source": false,
     "normalize_target": false,
     "num_examples_per_domain_per_label_source": -1,
     "num_examples_per_domain_per_label_target": -1,
     "patience": 3,
     "pickle_name_source": "oracle.Run1_10kExamples_stratified_ds.2022A.pkl",
     "pickle_name_target": "oracle.Run1_10kExamples_stratified_ds.2022A.pkl",
     "seed": 154325,
     "torch_default_dtype": "torch.float32",
     "x_net": [
      {
       "class": "nnReshape",
       "kargs": {
        "shape": [
         -1,
         1,
         2,
         256
        ]
       }
      },
      {
       "class": "Conv2d",
       "kargs": {
        "bias": false,
        "in_channels": 1,
        "kernel_size": [
         1,
         7
        ],
        "out_channels": 256,
        "padding": [
         0,
         3
        ]
       }
      },
      {
       "class": "ReLU",
       "kargs": {
        "inplace": true
       }
      },
      {
       "class": "BatchNorm2d",
       "kargs": {
        "num_features": 256
       }
      },
      {
       "class": "Conv2d",
       "kargs": {
        "bias": true,
        "in_channels": 256,
        "kernel_size": [
         2,
         7
        ],
        "out_channels": 80,
        "padding": [
         0,
         3
        ]
       }
      },
      {
       "class": "ReLU",
       "kargs": {
        "inplace": true
       }
      },
      {
       "class": "BatchNorm2d",
       "kargs": {
        "num_features": 80
       }
      },
      {
       "class": "Flatten",
       "kargs": {}
      },
      {
       "class": "Linear",
       "kargs": {
        "in_features": 20480,
        "out_features": 256
       }
      },
      {
       "class": "ReLU",
       "kargs": {
        "inplace": true
       }
      },
      {
       "class": "BatchNorm1d",
       "kargs": {
        "num_features": 256
       }
      },
      {
       "class": "Linear",
       "kargs": {
        "in_features": 256,
        "out_features": 16
       }
      }
     ]
    }
   },
   "start_time": "2022-03-26T22:03:37.135604",
   "version": "2.3.4"
  }
 },
 "nbformat": 4,
 "nbformat_minor": 5
}