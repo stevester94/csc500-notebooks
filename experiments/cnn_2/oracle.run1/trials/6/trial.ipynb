{
 "cells": [
  {
   "cell_type": "code",
   "execution_count": 1,
   "id": "2324682e",
   "metadata": {
    "execution": {
     "iopub.execute_input": "2022-03-27T00:32:49.076664Z",
     "iopub.status.busy": "2022-03-27T00:32:49.075762Z",
     "iopub.status.idle": "2022-03-27T00:32:50.685368Z",
     "shell.execute_reply": "2022-03-27T00:32:50.684512Z"
    },
    "papermill": {
     "duration": 1.64563,
     "end_time": "2022-03-27T00:32:50.685578",
     "exception": false,
     "start_time": "2022-03-27T00:32:49.039948",
     "status": "completed"
    },
    "tags": []
   },
   "outputs": [],
   "source": [
    "import os, json, sys, time, random\n",
    "import numpy as np\n",
    "import torch\n",
    "from  easydict import EasyDict\n",
    "from math import floor\n",
    "from easydict import EasyDict\n",
    "\n",
    "from steves_utils.vanilla_train_eval_test_jig import  Vanilla_Train_Eval_Test_Jig\n",
    "\n",
    "from steves_utils.torch_utils import get_dataset_metrics, independent_accuracy_assesment\n",
    "from steves_models.configurable_vanilla import Configurable_Vanilla\n",
    "from steves_utils.torch_sequential_builder import build_sequential\n",
    "from steves_utils.lazy_map import Lazy_Map\n",
    "from steves_utils.sequence_aggregator import Sequence_Aggregator\n",
    "\n",
    "from steves_utils.stratified_dataset.traditional_accessor import Traditional_Accessor_Factory\n",
    "\n",
    "from steves_utils.cnn_do_report import (\n",
    "    get_loss_curve,\n",
    "    get_results_table,\n",
    "    get_parameters_table,\n",
    "    get_domain_accuracies,\n",
    ")\n",
    "\n",
    "from steves_utils.torch_utils import (\n",
    "    confusion_by_domain_over_dataloader,\n",
    "    independent_accuracy_assesment\n",
    ")\n",
    "\n",
    "from steves_utils.utils_v2 import (\n",
    "    per_domain_accuracy_from_confusion,\n",
    "    get_datasets_base_path\n",
    ")\n",
    "\n",
    "# from steves_utils.ptn_do_report import TBD"
   ]
  },
  {
   "cell_type": "code",
   "execution_count": 2,
   "id": "1b29e3fe",
   "metadata": {
    "execution": {
     "iopub.execute_input": "2022-03-27T00:32:50.722092Z",
     "iopub.status.busy": "2022-03-27T00:32:50.721674Z",
     "iopub.status.idle": "2022-03-27T00:32:50.724745Z",
     "shell.execute_reply": "2022-03-27T00:32:50.724036Z"
    },
    "papermill": {
     "duration": 0.021947,
     "end_time": "2022-03-27T00:32:50.724902",
     "exception": false,
     "start_time": "2022-03-27T00:32:50.702955",
     "status": "completed"
    },
    "tags": []
   },
   "outputs": [],
   "source": [
    "required_parameters = {\n",
    "    \"experiment_name\",\n",
    "    \"lr\",\n",
    "    \"device\",\n",
    "    \"dataset_seed\",\n",
    "    \"seed\",\n",
    "    \"labels\",\n",
    "    \"domains_target\",\n",
    "    \"domains_source\",\n",
    "    \"num_examples_per_domain_per_label_source\",\n",
    "    \"num_examples_per_domain_per_label_target\",\n",
    "    \"batch_size\",\n",
    "    \"n_epoch\",\n",
    "    \"patience\",\n",
    "    \"criteria_for_best\",\n",
    "    \"normalize_source\",\n",
    "    \"normalize_target\",\n",
    "    \"x_net\",\n",
    "    \"NUM_LOGS_PER_EPOCH\",\n",
    "    \"BEST_MODEL_PATH\",\n",
    "    \"pickle_name_source\",\n",
    "    \"pickle_name_target\",\n",
    "    \"torch_default_dtype\",\n",
    "}"
   ]
  },
  {
   "cell_type": "code",
   "execution_count": 3,
   "id": "670b5fb8",
   "metadata": {
    "execution": {
     "iopub.execute_input": "2022-03-27T00:32:50.772748Z",
     "iopub.status.busy": "2022-03-27T00:32:50.771875Z",
     "iopub.status.idle": "2022-03-27T00:32:50.779551Z",
     "shell.execute_reply": "2022-03-27T00:32:50.778738Z"
    },
    "papermill": {
     "duration": 0.035326,
     "end_time": "2022-03-27T00:32:50.779712",
     "exception": false,
     "start_time": "2022-03-27T00:32:50.744386",
     "status": "completed"
    },
    "tags": [
     "parameters"
    ]
   },
   "outputs": [],
   "source": [
    "from steves_utils.ORACLE.utils_v2 import (\n",
    "    ALL_SERIAL_NUMBERS,\n",
    "    ALL_DISTANCES_FEET_NARROWED,\n",
    ")\n",
    "\n",
    "standalone_parameters = {}\n",
    "standalone_parameters[\"experiment_name\"] = \"MANUAL CORES CNN\"\n",
    "standalone_parameters[\"lr\"] = 0.0001\n",
    "standalone_parameters[\"device\"] = \"cuda\"\n",
    "\n",
    "standalone_parameters[\"dataset_seed\"] = 1337\n",
    "standalone_parameters[\"seed\"] = 1337\n",
    "standalone_parameters[\"labels\"] = ALL_SERIAL_NUMBERS\n",
    "\n",
    "standalone_parameters[\"domains_source\"] = [8,32,50]\n",
    "standalone_parameters[\"domains_target\"] = [14,20,26,38,44,]\n",
    "\n",
    "standalone_parameters[\"num_examples_per_domain_per_label_source\"]=-1\n",
    "standalone_parameters[\"num_examples_per_domain_per_label_target\"]=-1\n",
    "\n",
    "standalone_parameters[\"pickle_name_source\"] = \"oracle.Run1_framed_2000Examples_stratified_ds.2022A.pkl\"\n",
    "standalone_parameters[\"pickle_name_target\"] = \"oracle.Run2_framed_2000Examples_stratified_ds.2022A.pkl\"\n",
    "\n",
    "standalone_parameters[\"torch_default_dtype\"] = \"torch.float32\" \n",
    "\n",
    "standalone_parameters[\"batch_size\"]=128\n",
    "\n",
    "standalone_parameters[\"n_epoch\"] = 3\n",
    "\n",
    "standalone_parameters[\"patience\"] = 10\n",
    "\n",
    "standalone_parameters[\"criteria_for_best\"] = \"target_accuracy\"\n",
    "standalone_parameters[\"normalize_source\"] = False\n",
    "standalone_parameters[\"normalize_target\"] = False\n",
    "\n",
    "standalone_parameters[\"x_net\"] =     [\n",
    "    {\"class\": \"nnReshape\", \"kargs\": {\"shape\":[-1, 1, 2, 256]}},\n",
    "    {\"class\": \"Conv2d\", \"kargs\": { \"in_channels\":1, \"out_channels\":256, \"kernel_size\":(1,7), \"bias\":False, \"padding\":(0,3), },},\n",
    "    {\"class\": \"ReLU\", \"kargs\": {\"inplace\": True}},\n",
    "    {\"class\": \"BatchNorm2d\", \"kargs\": {\"num_features\":256}},\n",
    "\n",
    "    {\"class\": \"Conv2d\", \"kargs\": { \"in_channels\":256, \"out_channels\":80, \"kernel_size\":(2,7), \"bias\":True, \"padding\":(0,3), },},\n",
    "    {\"class\": \"ReLU\", \"kargs\": {\"inplace\": True}},\n",
    "    {\"class\": \"BatchNorm2d\", \"kargs\": {\"num_features\":80}},\n",
    "    {\"class\": \"Flatten\", \"kargs\": {}},\n",
    "\n",
    "    {\"class\": \"Linear\", \"kargs\": {\"in_features\": 80*256, \"out_features\": 256}}, # 80 units per IQ pair\n",
    "    {\"class\": \"ReLU\", \"kargs\": {\"inplace\": True}},\n",
    "    {\"class\": \"BatchNorm1d\", \"kargs\": {\"num_features\":256}},\n",
    "\n",
    "    {\"class\": \"Linear\", \"kargs\": {\"in_features\": 256, \"out_features\": len(standalone_parameters[\"labels\"])}},\n",
    "]\n",
    "\n",
    "standalone_parameters[\"NUM_LOGS_PER_EPOCH\"] = 10\n",
    "standalone_parameters[\"BEST_MODEL_PATH\"] = \"./best_model.pth\""
   ]
  },
  {
   "cell_type": "code",
   "execution_count": 4,
   "id": "ed087264",
   "metadata": {
    "execution": {
     "iopub.execute_input": "2022-03-27T00:32:50.830651Z",
     "iopub.status.busy": "2022-03-27T00:32:50.828725Z",
     "iopub.status.idle": "2022-03-27T00:32:50.833420Z",
     "shell.execute_reply": "2022-03-27T00:32:50.832620Z"
    },
    "papermill": {
     "duration": 0.031654,
     "end_time": "2022-03-27T00:32:50.833574",
     "exception": false,
     "start_time": "2022-03-27T00:32:50.801920",
     "status": "completed"
    },
    "tags": [
     "injected-parameters"
    ]
   },
   "outputs": [],
   "source": [
    "# Parameters\n",
    "parameters = {\n",
    "    \"experiment_name\": \"cnn_2:oracle.run1\",\n",
    "    \"domains_source\": [8, 32, 50, 14, 20, 26, 38, 44],\n",
    "    \"domains_target\": [8, 32, 50, 14, 20, 26, 38, 44],\n",
    "    \"labels\": [\n",
    "        \"3123D52\",\n",
    "        \"3123D65\",\n",
    "        \"3123D79\",\n",
    "        \"3123D80\",\n",
    "        \"3123D54\",\n",
    "        \"3123D70\",\n",
    "        \"3123D7B\",\n",
    "        \"3123D89\",\n",
    "        \"3123D58\",\n",
    "        \"3123D76\",\n",
    "        \"3123D7D\",\n",
    "        \"3123EFE\",\n",
    "        \"3123D64\",\n",
    "        \"3123D78\",\n",
    "        \"3123D7E\",\n",
    "        \"3124E4A\",\n",
    "    ],\n",
    "    \"pickle_name_source\": \"oracle.Run1_10kExamples_stratified_ds.2022A.pkl\",\n",
    "    \"pickle_name_target\": \"oracle.Run1_10kExamples_stratified_ds.2022A.pkl\",\n",
    "    \"device\": \"cuda\",\n",
    "    \"lr\": 0.0001,\n",
    "    \"batch_size\": 128,\n",
    "    \"normalize_source\": False,\n",
    "    \"normalize_target\": False,\n",
    "    \"num_examples_per_domain_per_label_source\": -1,\n",
    "    \"num_examples_per_domain_per_label_target\": -1,\n",
    "    \"torch_default_dtype\": \"torch.float32\",\n",
    "    \"n_epoch\": 50,\n",
    "    \"patience\": 3,\n",
    "    \"criteria_for_best\": \"target_accuracy\",\n",
    "    \"x_net\": [\n",
    "        {\"class\": \"nnReshape\", \"kargs\": {\"shape\": [-1, 1, 2, 256]}},\n",
    "        {\n",
    "            \"class\": \"Conv2d\",\n",
    "            \"kargs\": {\n",
    "                \"in_channels\": 1,\n",
    "                \"out_channels\": 256,\n",
    "                \"kernel_size\": [1, 7],\n",
    "                \"bias\": False,\n",
    "                \"padding\": [0, 3],\n",
    "            },\n",
    "        },\n",
    "        {\"class\": \"ReLU\", \"kargs\": {\"inplace\": True}},\n",
    "        {\"class\": \"BatchNorm2d\", \"kargs\": {\"num_features\": 256}},\n",
    "        {\n",
    "            \"class\": \"Conv2d\",\n",
    "            \"kargs\": {\n",
    "                \"in_channels\": 256,\n",
    "                \"out_channels\": 80,\n",
    "                \"kernel_size\": [2, 7],\n",
    "                \"bias\": True,\n",
    "                \"padding\": [0, 3],\n",
    "            },\n",
    "        },\n",
    "        {\"class\": \"ReLU\", \"kargs\": {\"inplace\": True}},\n",
    "        {\"class\": \"BatchNorm2d\", \"kargs\": {\"num_features\": 80}},\n",
    "        {\"class\": \"Flatten\", \"kargs\": {}},\n",
    "        {\"class\": \"Linear\", \"kargs\": {\"in_features\": 20480, \"out_features\": 256}},\n",
    "        {\"class\": \"ReLU\", \"kargs\": {\"inplace\": True}},\n",
    "        {\"class\": \"BatchNorm1d\", \"kargs\": {\"num_features\": 256}},\n",
    "        {\"class\": \"Linear\", \"kargs\": {\"in_features\": 256, \"out_features\": 16}},\n",
    "    ],\n",
    "    \"NUM_LOGS_PER_EPOCH\": 10,\n",
    "    \"BEST_MODEL_PATH\": \"./best_model.pth\",\n",
    "    \"dataset_seed\": 420,\n",
    "    \"seed\": 420,\n",
    "}\n"
   ]
  },
  {
   "cell_type": "code",
   "execution_count": 5,
   "id": "759b56ec",
   "metadata": {
    "execution": {
     "iopub.execute_input": "2022-03-27T00:32:50.876825Z",
     "iopub.status.busy": "2022-03-27T00:32:50.875913Z",
     "iopub.status.idle": "2022-03-27T00:32:50.879880Z",
     "shell.execute_reply": "2022-03-27T00:32:50.879369Z"
    },
    "papermill": {
     "duration": 0.025119,
     "end_time": "2022-03-27T00:32:50.879990",
     "exception": false,
     "start_time": "2022-03-27T00:32:50.854871",
     "status": "completed"
    },
    "tags": []
   },
   "outputs": [],
   "source": [
    "# Set this to True if you want to run this template directly\n",
    "STANDALONE = False\n",
    "if STANDALONE:\n",
    "    print(\"parameters not injected, running with standalone_parameters\")\n",
    "    parameters = standalone_parameters\n",
    "\n",
    "if not 'parameters' in locals() and not 'parameters' in globals():\n",
    "    raise Exception(\"Parameter injection failed\")\n",
    "\n",
    "#Use an easy dict for all the parameters\n",
    "p = EasyDict(parameters)\n",
    "\n",
    "supplied_keys = set(p.keys())\n",
    "\n",
    "if  supplied_keys != required_parameters:\n",
    "    print(\"Parameters are incorrect\")\n",
    "    if len(supplied_keys - required_parameters)>0: print(\"Shouldn't have:\", str(supplied_keys - required_parameters))\n",
    "    if len(required_parameters - supplied_keys)>0: print(\"Need to have:\", str(required_parameters - supplied_keys))\n",
    "    raise RuntimeError(\"Parameters are incorrect\")\n",
    "\n"
   ]
  },
  {
   "cell_type": "code",
   "execution_count": 6,
   "id": "d5c66a71",
   "metadata": {
    "execution": {
     "iopub.execute_input": "2022-03-27T00:32:50.918265Z",
     "iopub.status.busy": "2022-03-27T00:32:50.917893Z",
     "iopub.status.idle": "2022-03-27T00:32:50.921651Z",
     "shell.execute_reply": "2022-03-27T00:32:50.921336Z"
    },
    "papermill": {
     "duration": 0.02147,
     "end_time": "2022-03-27T00:32:50.921723",
     "exception": false,
     "start_time": "2022-03-27T00:32:50.900253",
     "status": "completed"
    },
    "tags": []
   },
   "outputs": [],
   "source": [
    "###################################\n",
    "# Set the RNGs and make it all deterministic\n",
    "###################################\n",
    "np.random.seed(p.seed)\n",
    "random.seed(p.seed)\n",
    "torch.manual_seed(p.seed)\n",
    "\n",
    "torch.use_deterministic_algorithms(True) "
   ]
  },
  {
   "cell_type": "code",
   "execution_count": 7,
   "id": "92a65876",
   "metadata": {
    "execution": {
     "iopub.execute_input": "2022-03-27T00:32:50.958540Z",
     "iopub.status.busy": "2022-03-27T00:32:50.957988Z",
     "iopub.status.idle": "2022-03-27T00:32:50.961141Z",
     "shell.execute_reply": "2022-03-27T00:32:50.960660Z"
    },
    "papermill": {
     "duration": 0.021625,
     "end_time": "2022-03-27T00:32:50.961246",
     "exception": false,
     "start_time": "2022-03-27T00:32:50.939621",
     "status": "completed"
    },
    "tags": []
   },
   "outputs": [],
   "source": [
    "torch.set_default_dtype(eval(p.torch_default_dtype))"
   ]
  },
  {
   "cell_type": "code",
   "execution_count": 8,
   "id": "f1a32f01",
   "metadata": {
    "execution": {
     "iopub.execute_input": "2022-03-27T00:32:50.998539Z",
     "iopub.status.busy": "2022-03-27T00:32:50.997989Z",
     "iopub.status.idle": "2022-03-27T00:32:51.038523Z",
     "shell.execute_reply": "2022-03-27T00:32:51.037691Z"
    },
    "papermill": {
     "duration": 0.058411,
     "end_time": "2022-03-27T00:32:51.038703",
     "exception": false,
     "start_time": "2022-03-27T00:32:50.980292",
     "status": "completed"
    },
    "tags": []
   },
   "outputs": [],
   "source": [
    "###################################\n",
    "# Build the network(s)\n",
    "# Note: It's critical to do this AFTER setting the RNG\n",
    "###################################\n",
    "x_net = build_sequential(p.x_net)"
   ]
  },
  {
   "cell_type": "code",
   "execution_count": 9,
   "id": "a276cd83",
   "metadata": {
    "execution": {
     "iopub.execute_input": "2022-03-27T00:32:51.074943Z",
     "iopub.status.busy": "2022-03-27T00:32:51.074579Z",
     "iopub.status.idle": "2022-03-27T00:32:51.076857Z",
     "shell.execute_reply": "2022-03-27T00:32:51.076494Z"
    },
    "papermill": {
     "duration": 0.018804,
     "end_time": "2022-03-27T00:32:51.076927",
     "exception": false,
     "start_time": "2022-03-27T00:32:51.058123",
     "status": "completed"
    },
    "tags": []
   },
   "outputs": [],
   "source": [
    "start_time_secs = time.time()"
   ]
  },
  {
   "cell_type": "code",
   "execution_count": 10,
   "id": "de702e48",
   "metadata": {
    "execution": {
     "iopub.execute_input": "2022-03-27T00:32:51.122868Z",
     "iopub.status.busy": "2022-03-27T00:32:51.121672Z",
     "iopub.status.idle": "2022-03-27T00:33:27.398127Z",
     "shell.execute_reply": "2022-03-27T00:33:27.397388Z"
    },
    "papermill": {
     "duration": 36.303875,
     "end_time": "2022-03-27T00:33:27.398315",
     "exception": false,
     "start_time": "2022-03-27T00:32:51.094440",
     "status": "completed"
    },
    "tags": []
   },
   "outputs": [],
   "source": [
    "def wrap_in_dataloader(p, ds):\n",
    "    return torch.utils.data.DataLoader(\n",
    "        ds,\n",
    "        batch_size=p.batch_size,\n",
    "        shuffle=True,\n",
    "        num_workers=1,\n",
    "        persistent_workers=True,\n",
    "        prefetch_factor=50,\n",
    "        pin_memory=True\n",
    "    )\n",
    "\n",
    "taf_source = Traditional_Accessor_Factory(\n",
    "    labels=p.labels,\n",
    "    domains=p.domains_source,\n",
    "    num_examples_per_domain_per_label=p.num_examples_per_domain_per_label_source,\n",
    "    pickle_path=os.path.join(get_datasets_base_path(), p.pickle_name_source),\n",
    "    seed=p.dataset_seed\n",
    ")\n",
    "train_original_source, val_original_source, test_original_source = \\\n",
    "    taf_source.get_train(), taf_source.get_val(), taf_source.get_test()\n",
    "\n",
    "\n",
    "taf_target = Traditional_Accessor_Factory(\n",
    "    labels=p.labels,\n",
    "    domains=p.domains_target,\n",
    "    num_examples_per_domain_per_label=p.num_examples_per_domain_per_label_source,\n",
    "    pickle_path=os.path.join(get_datasets_base_path(), p.pickle_name_target),\n",
    "    seed=p.dataset_seed\n",
    ")\n",
    "train_original_target, val_original_target, test_original_target = \\\n",
    "    taf_target.get_train(), taf_target.get_val(), taf_target.get_test()\n",
    "\n",
    "\n",
    "# For CNN We only use X and Y. And we only train on the source.\n",
    "# Properly form the data using a transform lambda and Lazy_Map. Finally wrap them in a dataloader\n",
    "\n",
    "transform_lambda = lambda ex: ex[:2] # Strip the tuple to just (x,y)\n",
    "\n",
    "\n",
    "train_processed_source = wrap_in_dataloader(\n",
    "    p,\n",
    "    Lazy_Map(train_original_source, transform_lambda)\n",
    ")\n",
    "val_processed_source = wrap_in_dataloader(\n",
    "    p,\n",
    "    Lazy_Map(val_original_source, transform_lambda)\n",
    ")\n",
    "test_processed_source = wrap_in_dataloader(\n",
    "    p,\n",
    "    Lazy_Map(test_original_source, transform_lambda)\n",
    ")\n",
    "\n",
    "train_processed_target = wrap_in_dataloader(\n",
    "    p,\n",
    "    Lazy_Map(train_original_target, transform_lambda)\n",
    ")\n",
    "val_processed_target = wrap_in_dataloader(\n",
    "    p,\n",
    "    Lazy_Map(val_original_target, transform_lambda)\n",
    ")\n",
    "test_processed_target  = wrap_in_dataloader(\n",
    "    p,\n",
    "    Lazy_Map(test_original_target, transform_lambda)\n",
    ")\n",
    "\n",
    "\n",
    "\n",
    "datasets = EasyDict({\n",
    "    \"source\": {\n",
    "        \"original\": {\"train\":train_original_source, \"val\":val_original_source, \"test\":test_original_source},\n",
    "        \"processed\": {\"train\":train_processed_source, \"val\":val_processed_source, \"test\":test_processed_source}\n",
    "    },\n",
    "    \"target\": {\n",
    "        \"original\": {\"train\":train_original_target, \"val\":val_original_target, \"test\":test_original_target},\n",
    "        \"processed\": {\"train\":train_processed_target, \"val\":val_processed_target, \"test\":test_processed_target}\n",
    "    },\n",
    "})"
   ]
  },
  {
   "cell_type": "code",
   "execution_count": 11,
   "id": "a11b26bd",
   "metadata": {
    "execution": {
     "iopub.execute_input": "2022-03-27T00:33:27.515277Z",
     "iopub.status.busy": "2022-03-27T00:33:27.514422Z",
     "iopub.status.idle": "2022-03-27T00:33:33.258885Z",
     "shell.execute_reply": "2022-03-27T00:33:33.258033Z"
    },
    "papermill": {
     "duration": 5.840678,
     "end_time": "2022-03-27T00:33:33.259060",
     "exception": false,
     "start_time": "2022-03-27T00:33:27.418382",
     "status": "completed"
    },
    "tags": []
   },
   "outputs": [
    {
     "data": {
      "text/plain": [
       "torch.float32"
      ]
     },
     "execution_count": 11,
     "metadata": {},
     "output_type": "execute_result"
    }
   ],
   "source": [
    "ep = next(iter(test_processed_target))\n",
    "ep[0].dtype"
   ]
  },
  {
   "cell_type": "code",
   "execution_count": 12,
   "id": "19425fad",
   "metadata": {
    "execution": {
     "iopub.execute_input": "2022-03-27T00:33:33.297521Z",
     "iopub.status.busy": "2022-03-27T00:33:33.296880Z",
     "iopub.status.idle": "2022-03-27T00:33:33.348333Z",
     "shell.execute_reply": "2022-03-27T00:33:33.347616Z"
    },
    "papermill": {
     "duration": 0.07138,
     "end_time": "2022-03-27T00:33:33.348516",
     "exception": false,
     "start_time": "2022-03-27T00:33:33.277136",
     "status": "completed"
    },
    "tags": []
   },
   "outputs": [],
   "source": [
    "model = Configurable_Vanilla(\n",
    "    x_net=x_net,\n",
    "    label_loss_object=torch.nn.NLLLoss(),\n",
    "    learning_rate=p.lr\n",
    ")"
   ]
  },
  {
   "cell_type": "code",
   "execution_count": 13,
   "id": "7f6d4f2c",
   "metadata": {
    "execution": {
     "iopub.execute_input": "2022-03-27T00:33:33.393367Z",
     "iopub.status.busy": "2022-03-27T00:33:33.392551Z",
     "iopub.status.idle": "2022-03-27T00:57:25.376554Z",
     "shell.execute_reply": "2022-03-27T00:57:25.376213Z"
    },
    "papermill": {
     "duration": 1432.006666,
     "end_time": "2022-03-27T00:57:25.376646",
     "exception": false,
     "start_time": "2022-03-27T00:33:33.369980",
     "status": "completed"
    },
    "tags": []
   },
   "outputs": [
    {
     "name": "stdout",
     "output_type": "stream",
     "text": [
      "epoch: 1, [batch: 1 / 7000], examples_per_second: 332.0914, train_label_loss: 2.7753, \n"
     ]
    },
    {
     "name": "stdout",
     "output_type": "stream",
     "text": [
      "epoch: 1, [batch: 700 / 7000], examples_per_second: 11751.1950, train_label_loss: 2.6066, \n"
     ]
    },
    {
     "name": "stdout",
     "output_type": "stream",
     "text": [
      "epoch: 1, [batch: 1400 / 7000], examples_per_second: 12765.0688, train_label_loss: 2.4976, \n"
     ]
    },
    {
     "name": "stdout",
     "output_type": "stream",
     "text": [
      "epoch: 1, [batch: 2100 / 7000], examples_per_second: 13026.8007, train_label_loss: 2.2867, \n"
     ]
    },
    {
     "name": "stdout",
     "output_type": "stream",
     "text": [
      "epoch: 1, [batch: 2800 / 7000], examples_per_second: 12975.7687, train_label_loss: 2.0016, \n"
     ]
    },
    {
     "name": "stdout",
     "output_type": "stream",
     "text": [
      "epoch: 1, [batch: 3500 / 7000], examples_per_second: 12899.1176, train_label_loss: 1.9137, \n"
     ]
    },
    {
     "name": "stdout",
     "output_type": "stream",
     "text": [
      "epoch: 1, [batch: 4200 / 7000], examples_per_second: 12943.2743, train_label_loss: 1.8101, \n"
     ]
    },
    {
     "name": "stdout",
     "output_type": "stream",
     "text": [
      "epoch: 1, [batch: 4900 / 7000], examples_per_second: 13149.1386, train_label_loss: 1.4886, \n"
     ]
    },
    {
     "name": "stdout",
     "output_type": "stream",
     "text": [
      "epoch: 1, [batch: 5600 / 7000], examples_per_second: 12894.4882, train_label_loss: 1.4904, \n"
     ]
    },
    {
     "name": "stdout",
     "output_type": "stream",
     "text": [
      "epoch: 1, [batch: 6300 / 7000], examples_per_second: 12831.0487, train_label_loss: 1.3032, \n"
     ]
    },
    {
     "name": "stdout",
     "output_type": "stream",
     "text": [
      "=============================================================\n",
      "epoch: 1, source_val_acc_label: 0.5824, source_val_label_loss: 1.2751, target_val_acc_label: 0.5824, target_val_label_loss: 1.2751, \n",
      "=============================================================\n"
     ]
    },
    {
     "name": "stdout",
     "output_type": "stream",
     "text": [
      "New best\n",
      "epoch: 2, [batch: 1 / 7000], examples_per_second: 14.1960, train_label_loss: 1.5375, \n"
     ]
    },
    {
     "name": "stdout",
     "output_type": "stream",
     "text": [
      "epoch: 2, [batch: 700 / 7000], examples_per_second: 12840.8207, train_label_loss: 1.2726, \n"
     ]
    },
    {
     "name": "stdout",
     "output_type": "stream",
     "text": [
      "epoch: 2, [batch: 1400 / 7000], examples_per_second: 12921.2124, train_label_loss: 1.3734, \n"
     ]
    },
    {
     "name": "stdout",
     "output_type": "stream",
     "text": [
      "epoch: 2, [batch: 2100 / 7000], examples_per_second: 12799.5828, train_label_loss: 1.0145, \n"
     ]
    },
    {
     "name": "stdout",
     "output_type": "stream",
     "text": [
      "epoch: 2, [batch: 2800 / 7000], examples_per_second: 13189.7338, train_label_loss: 1.0663, \n"
     ]
    },
    {
     "name": "stdout",
     "output_type": "stream",
     "text": [
      "epoch: 2, [batch: 3500 / 7000], examples_per_second: 12795.6410, train_label_loss: 1.3900, \n"
     ]
    },
    {
     "name": "stdout",
     "output_type": "stream",
     "text": [
      "epoch: 2, [batch: 4200 / 7000], examples_per_second: 12774.2089, train_label_loss: 1.0498, \n"
     ]
    },
    {
     "name": "stdout",
     "output_type": "stream",
     "text": [
      "epoch: 2, [batch: 4900 / 7000], examples_per_second: 12908.3372, train_label_loss: 0.9634, \n"
     ]
    },
    {
     "name": "stdout",
     "output_type": "stream",
     "text": [
      "epoch: 2, [batch: 5600 / 7000], examples_per_second: 12869.1794, train_label_loss: 1.0597, \n"
     ]
    },
    {
     "name": "stdout",
     "output_type": "stream",
     "text": [
      "epoch: 2, [batch: 6300 / 7000], examples_per_second: 13195.2393, train_label_loss: 0.8787, \n"
     ]
    },
    {
     "name": "stdout",
     "output_type": "stream",
     "text": [
      "=============================================================\n",
      "epoch: 2, source_val_acc_label: 0.6639, source_val_label_loss: 0.9568, target_val_acc_label: 0.6639, target_val_label_loss: 0.9568, \n",
      "=============================================================\n"
     ]
    },
    {
     "name": "stdout",
     "output_type": "stream",
     "text": [
      "New best\n",
      "epoch: 3, [batch: 1 / 7000], examples_per_second: 14.6173, train_label_loss: 0.9808, \n"
     ]
    },
    {
     "name": "stdout",
     "output_type": "stream",
     "text": [
      "epoch: 3, [batch: 700 / 7000], examples_per_second: 12787.3283, train_label_loss: 0.9589, \n"
     ]
    },
    {
     "name": "stdout",
     "output_type": "stream",
     "text": [
      "epoch: 3, [batch: 1400 / 7000], examples_per_second: 12918.2001, train_label_loss: 0.9113, \n"
     ]
    },
    {
     "name": "stdout",
     "output_type": "stream",
     "text": [
      "epoch: 3, [batch: 2100 / 7000], examples_per_second: 12784.0583, train_label_loss: 0.9655, \n"
     ]
    },
    {
     "name": "stdout",
     "output_type": "stream",
     "text": [
      "epoch: 3, [batch: 2800 / 7000], examples_per_second: 12716.0287, train_label_loss: 0.8632, \n"
     ]
    },
    {
     "name": "stdout",
     "output_type": "stream",
     "text": [
      "epoch: 3, [batch: 3500 / 7000], examples_per_second: 12803.7569, train_label_loss: 0.7128, \n"
     ]
    },
    {
     "name": "stdout",
     "output_type": "stream",
     "text": [
      "epoch: 3, [batch: 4200 / 7000], examples_per_second: 12925.4254, train_label_loss: 0.7402, \n"
     ]
    },
    {
     "name": "stdout",
     "output_type": "stream",
     "text": [
      "epoch: 3, [batch: 4900 / 7000], examples_per_second: 12825.8924, train_label_loss: 1.1373, \n"
     ]
    },
    {
     "name": "stdout",
     "output_type": "stream",
     "text": [
      "epoch: 3, [batch: 5600 / 7000], examples_per_second: 12846.5247, train_label_loss: 1.1478, \n"
     ]
    },
    {
     "name": "stdout",
     "output_type": "stream",
     "text": [
      "epoch: 3, [batch: 6300 / 7000], examples_per_second: 12733.6012, train_label_loss: 0.9929, \n"
     ]
    },
    {
     "name": "stdout",
     "output_type": "stream",
     "text": [
      "=============================================================\n",
      "epoch: 3, source_val_acc_label: 0.7202, source_val_label_loss: 0.7830, target_val_acc_label: 0.7202, target_val_label_loss: 0.7830, \n",
      "=============================================================\n"
     ]
    },
    {
     "name": "stdout",
     "output_type": "stream",
     "text": [
      "New best\n",
      "epoch: 4, [batch: 1 / 7000], examples_per_second: 14.6560, train_label_loss: 0.9206, \n"
     ]
    },
    {
     "name": "stdout",
     "output_type": "stream",
     "text": [
      "epoch: 4, [batch: 700 / 7000], examples_per_second: 12741.4011, train_label_loss: 0.7569, \n"
     ]
    },
    {
     "name": "stdout",
     "output_type": "stream",
     "text": [
      "epoch: 4, [batch: 1400 / 7000], examples_per_second: 12800.0140, train_label_loss: 0.8218, \n"
     ]
    },
    {
     "name": "stdout",
     "output_type": "stream",
     "text": [
      "epoch: 4, [batch: 2100 / 7000], examples_per_second: 12642.0062, train_label_loss: 0.7833, \n"
     ]
    },
    {
     "name": "stdout",
     "output_type": "stream",
     "text": [
      "epoch: 4, [batch: 2800 / 7000], examples_per_second: 12693.8362, train_label_loss: 0.6987, \n"
     ]
    },
    {
     "name": "stdout",
     "output_type": "stream",
     "text": [
      "epoch: 4, [batch: 3500 / 7000], examples_per_second: 12678.9725, train_label_loss: 0.7153, \n"
     ]
    },
    {
     "name": "stdout",
     "output_type": "stream",
     "text": [
      "epoch: 4, [batch: 4200 / 7000], examples_per_second: 12687.8089, train_label_loss: 0.6958, \n"
     ]
    },
    {
     "name": "stdout",
     "output_type": "stream",
     "text": [
      "epoch: 4, [batch: 4900 / 7000], examples_per_second: 12771.5634, train_label_loss: 0.5647, \n"
     ]
    },
    {
     "name": "stdout",
     "output_type": "stream",
     "text": [
      "epoch: 4, [batch: 5600 / 7000], examples_per_second: 13818.3033, train_label_loss: 0.5835, \n"
     ]
    },
    {
     "name": "stdout",
     "output_type": "stream",
     "text": [
      "epoch: 4, [batch: 6300 / 7000], examples_per_second: 13804.8733, train_label_loss: 0.6878, \n"
     ]
    },
    {
     "name": "stdout",
     "output_type": "stream",
     "text": [
      "=============================================================\n",
      "epoch: 4, source_val_acc_label: 0.7584, source_val_label_loss: 0.6679, target_val_acc_label: 0.7584, target_val_label_loss: 0.6679, \n",
      "=============================================================\n"
     ]
    },
    {
     "name": "stdout",
     "output_type": "stream",
     "text": [
      "New best\n",
      "epoch: 5, [batch: 1 / 7000], examples_per_second: 17.2641, train_label_loss: 0.6810, \n"
     ]
    },
    {
     "name": "stdout",
     "output_type": "stream",
     "text": [
      "epoch: 5, [batch: 700 / 7000], examples_per_second: 16833.7265, train_label_loss: 0.8132, \n"
     ]
    },
    {
     "name": "stdout",
     "output_type": "stream",
     "text": [
      "epoch: 5, [batch: 1400 / 7000], examples_per_second: 16886.6081, train_label_loss: 0.5465, \n"
     ]
    },
    {
     "name": "stdout",
     "output_type": "stream",
     "text": [
      "epoch: 5, [batch: 2100 / 7000], examples_per_second: 16890.6328, train_label_loss: 0.6801, \n"
     ]
    },
    {
     "name": "stdout",
     "output_type": "stream",
     "text": [
      "epoch: 5, [batch: 2800 / 7000], examples_per_second: 16970.4802, train_label_loss: 0.4506, \n"
     ]
    },
    {
     "name": "stdout",
     "output_type": "stream",
     "text": [
      "epoch: 5, [batch: 3500 / 7000], examples_per_second: 16770.6912, train_label_loss: 0.5919, \n"
     ]
    },
    {
     "name": "stdout",
     "output_type": "stream",
     "text": [
      "epoch: 5, [batch: 4200 / 7000], examples_per_second: 16944.3508, train_label_loss: 0.4912, \n"
     ]
    },
    {
     "name": "stdout",
     "output_type": "stream",
     "text": [
      "epoch: 5, [batch: 4900 / 7000], examples_per_second: 16930.9467, train_label_loss: 0.7947, \n"
     ]
    },
    {
     "name": "stdout",
     "output_type": "stream",
     "text": [
      "epoch: 5, [batch: 5600 / 7000], examples_per_second: 16901.2599, train_label_loss: 0.6921, \n"
     ]
    },
    {
     "name": "stdout",
     "output_type": "stream",
     "text": [
      "epoch: 5, [batch: 6300 / 7000], examples_per_second: 16923.2379, train_label_loss: 0.6120, \n"
     ]
    },
    {
     "name": "stdout",
     "output_type": "stream",
     "text": [
      "=============================================================\n",
      "epoch: 5, source_val_acc_label: 0.7474, source_val_label_loss: 0.6846, target_val_acc_label: 0.7474, target_val_label_loss: 0.6846, \n",
      "=============================================================\n"
     ]
    },
    {
     "name": "stdout",
     "output_type": "stream",
     "text": [
      "epoch: 6, [batch: 1 / 7000], examples_per_second: 18.9869, train_label_loss: 0.4373, \n"
     ]
    },
    {
     "name": "stdout",
     "output_type": "stream",
     "text": [
      "epoch: 6, [batch: 700 / 7000], examples_per_second: 16083.0637, train_label_loss: 0.5366, \n"
     ]
    },
    {
     "name": "stdout",
     "output_type": "stream",
     "text": [
      "epoch: 6, [batch: 1400 / 7000], examples_per_second: 16947.1115, train_label_loss: 0.3401, \n"
     ]
    },
    {
     "name": "stdout",
     "output_type": "stream",
     "text": [
      "epoch: 6, [batch: 2100 / 7000], examples_per_second: 16976.5365, train_label_loss: 0.5390, \n"
     ]
    },
    {
     "name": "stdout",
     "output_type": "stream",
     "text": [
      "epoch: 6, [batch: 2800 / 7000], examples_per_second: 16656.8118, train_label_loss: 0.4296, \n"
     ]
    },
    {
     "name": "stdout",
     "output_type": "stream",
     "text": [
      "epoch: 6, [batch: 3500 / 7000], examples_per_second: 16438.3101, train_label_loss: 0.6519, \n"
     ]
    },
    {
     "name": "stdout",
     "output_type": "stream",
     "text": [
      "epoch: 6, [batch: 4200 / 7000], examples_per_second: 16269.2141, train_label_loss: 0.5769, \n"
     ]
    },
    {
     "name": "stdout",
     "output_type": "stream",
     "text": [
      "epoch: 6, [batch: 4900 / 7000], examples_per_second: 16751.9363, train_label_loss: 0.5711, \n"
     ]
    },
    {
     "name": "stdout",
     "output_type": "stream",
     "text": [
      "epoch: 6, [batch: 5600 / 7000], examples_per_second: 16836.3265, train_label_loss: 0.5012, \n"
     ]
    },
    {
     "name": "stdout",
     "output_type": "stream",
     "text": [
      "epoch: 6, [batch: 6300 / 7000], examples_per_second: 16853.0827, train_label_loss: 0.5194, \n"
     ]
    },
    {
     "name": "stdout",
     "output_type": "stream",
     "text": [
      "=============================================================\n",
      "epoch: 6, source_val_acc_label: 0.7739, source_val_label_loss: 0.6209, target_val_acc_label: 0.7739, target_val_label_loss: 0.6209, \n",
      "=============================================================\n"
     ]
    },
    {
     "name": "stdout",
     "output_type": "stream",
     "text": [
      "New best\n",
      "epoch: 7, [batch: 1 / 7000], examples_per_second: 19.2310, train_label_loss: 0.5954, \n"
     ]
    },
    {
     "name": "stdout",
     "output_type": "stream",
     "text": [
      "epoch: 7, [batch: 700 / 7000], examples_per_second: 17005.0200, train_label_loss: 0.4085, \n"
     ]
    },
    {
     "name": "stdout",
     "output_type": "stream",
     "text": [
      "epoch: 7, [batch: 1400 / 7000], examples_per_second: 16976.6384, train_label_loss: 0.4487, \n"
     ]
    },
    {
     "name": "stdout",
     "output_type": "stream",
     "text": [
      "epoch: 7, [batch: 2100 / 7000], examples_per_second: 16983.2417, train_label_loss: 0.5214, \n"
     ]
    },
    {
     "name": "stdout",
     "output_type": "stream",
     "text": [
      "epoch: 7, [batch: 2800 / 7000], examples_per_second: 16998.2709, train_label_loss: 0.4588, \n"
     ]
    },
    {
     "name": "stdout",
     "output_type": "stream",
     "text": [
      "epoch: 7, [batch: 3500 / 7000], examples_per_second: 17005.5066, train_label_loss: 0.4037, \n"
     ]
    },
    {
     "name": "stdout",
     "output_type": "stream",
     "text": [
      "epoch: 7, [batch: 4200 / 7000], examples_per_second: 16912.7437, train_label_loss: 0.7331, \n"
     ]
    },
    {
     "name": "stdout",
     "output_type": "stream",
     "text": [
      "epoch: 7, [batch: 4900 / 7000], examples_per_second: 16968.9270, train_label_loss: 0.4114, \n"
     ]
    },
    {
     "name": "stdout",
     "output_type": "stream",
     "text": [
      "epoch: 7, [batch: 5600 / 7000], examples_per_second: 16968.8381, train_label_loss: 0.4503, \n"
     ]
    },
    {
     "name": "stdout",
     "output_type": "stream",
     "text": [
      "epoch: 7, [batch: 6300 / 7000], examples_per_second: 16779.3704, train_label_loss: 0.4980, \n"
     ]
    },
    {
     "name": "stdout",
     "output_type": "stream",
     "text": [
      "=============================================================\n",
      "epoch: 7, source_val_acc_label: 0.7742, source_val_label_loss: 0.6218, target_val_acc_label: 0.7742, target_val_label_loss: 0.6218, \n",
      "=============================================================\n"
     ]
    },
    {
     "name": "stdout",
     "output_type": "stream",
     "text": [
      "New best\n",
      "epoch: 8, [batch: 1 / 7000], examples_per_second: 19.1268, train_label_loss: 0.4124, \n"
     ]
    },
    {
     "name": "stdout",
     "output_type": "stream",
     "text": [
      "epoch: 8, [batch: 700 / 7000], examples_per_second: 16312.9858, train_label_loss: 0.3875, \n"
     ]
    },
    {
     "name": "stdout",
     "output_type": "stream",
     "text": [
      "epoch: 8, [batch: 1400 / 7000], examples_per_second: 16964.6305, train_label_loss: 0.6581, \n"
     ]
    },
    {
     "name": "stdout",
     "output_type": "stream",
     "text": [
      "epoch: 8, [batch: 2100 / 7000], examples_per_second: 16595.1590, train_label_loss: 0.2681, \n"
     ]
    },
    {
     "name": "stdout",
     "output_type": "stream",
     "text": [
      "epoch: 8, [batch: 2800 / 7000], examples_per_second: 12913.9581, train_label_loss: 0.5264, \n"
     ]
    },
    {
     "name": "stdout",
     "output_type": "stream",
     "text": [
      "epoch: 8, [batch: 3500 / 7000], examples_per_second: 12418.7355, train_label_loss: 0.4784, \n"
     ]
    },
    {
     "name": "stdout",
     "output_type": "stream",
     "text": [
      "epoch: 8, [batch: 4200 / 7000], examples_per_second: 12379.2356, train_label_loss: 0.4215, \n"
     ]
    },
    {
     "name": "stdout",
     "output_type": "stream",
     "text": [
      "epoch: 8, [batch: 4900 / 7000], examples_per_second: 11743.2461, train_label_loss: 0.4022, \n"
     ]
    },
    {
     "name": "stdout",
     "output_type": "stream",
     "text": [
      "epoch: 8, [batch: 5600 / 7000], examples_per_second: 10673.7278, train_label_loss: 0.4404, \n"
     ]
    },
    {
     "name": "stdout",
     "output_type": "stream",
     "text": [
      "epoch: 8, [batch: 6300 / 7000], examples_per_second: 10680.7019, train_label_loss: 0.3519, \n"
     ]
    },
    {
     "name": "stdout",
     "output_type": "stream",
     "text": [
      "=============================================================\n",
      "epoch: 8, source_val_acc_label: 0.7749, source_val_label_loss: 0.6244, target_val_acc_label: 0.7749, target_val_label_loss: 0.6244, \n",
      "=============================================================\n"
     ]
    },
    {
     "name": "stdout",
     "output_type": "stream",
     "text": [
      "New best\n",
      "epoch: 9, [batch: 1 / 7000], examples_per_second: 11.4314, train_label_loss: 0.3305, \n"
     ]
    },
    {
     "name": "stdout",
     "output_type": "stream",
     "text": [
      "epoch: 9, [batch: 700 / 7000], examples_per_second: 10615.8466, train_label_loss: 0.3533, \n"
     ]
    },
    {
     "name": "stdout",
     "output_type": "stream",
     "text": [
      "epoch: 9, [batch: 1400 / 7000], examples_per_second: 10695.4161, train_label_loss: 0.3895, \n"
     ]
    },
    {
     "name": "stdout",
     "output_type": "stream",
     "text": [
      "epoch: 9, [batch: 2100 / 7000], examples_per_second: 10694.7748, train_label_loss: 0.4418, \n"
     ]
    },
    {
     "name": "stdout",
     "output_type": "stream",
     "text": [
      "epoch: 9, [batch: 2800 / 7000], examples_per_second: 10711.9645, train_label_loss: 0.3737, \n"
     ]
    },
    {
     "name": "stdout",
     "output_type": "stream",
     "text": [
      "epoch: 9, [batch: 3500 / 7000], examples_per_second: 10670.1669, train_label_loss: 0.3723, \n"
     ]
    },
    {
     "name": "stdout",
     "output_type": "stream",
     "text": [
      "epoch: 9, [batch: 4200 / 7000], examples_per_second: 10673.3852, train_label_loss: 0.4986, \n"
     ]
    },
    {
     "name": "stdout",
     "output_type": "stream",
     "text": [
      "epoch: 9, [batch: 4900 / 7000], examples_per_second: 10702.0077, train_label_loss: 0.4983, \n"
     ]
    },
    {
     "name": "stdout",
     "output_type": "stream",
     "text": [
      "epoch: 9, [batch: 5600 / 7000], examples_per_second: 10630.3313, train_label_loss: 0.3503, \n"
     ]
    },
    {
     "name": "stdout",
     "output_type": "stream",
     "text": [
      "epoch: 9, [batch: 6300 / 7000], examples_per_second: 10651.6958, train_label_loss: 0.6303, \n"
     ]
    },
    {
     "name": "stdout",
     "output_type": "stream",
     "text": [
      "=============================================================\n",
      "epoch: 9, source_val_acc_label: 0.7582, source_val_label_loss: 0.6837, target_val_acc_label: 0.7582, target_val_label_loss: 0.6837, \n",
      "=============================================================\n"
     ]
    },
    {
     "name": "stdout",
     "output_type": "stream",
     "text": [
      "epoch: 10, [batch: 1 / 7000], examples_per_second: 11.5485, train_label_loss: 0.2915, \n"
     ]
    },
    {
     "name": "stdout",
     "output_type": "stream",
     "text": [
      "epoch: 10, [batch: 700 / 7000], examples_per_second: 10673.9099, train_label_loss: 0.3269, \n"
     ]
    },
    {
     "name": "stdout",
     "output_type": "stream",
     "text": [
      "epoch: 10, [batch: 1400 / 7000], examples_per_second: 10712.4200, train_label_loss: 0.3435, \n"
     ]
    },
    {
     "name": "stdout",
     "output_type": "stream",
     "text": [
      "epoch: 10, [batch: 2100 / 7000], examples_per_second: 10690.8100, train_label_loss: 0.2530, \n"
     ]
    },
    {
     "name": "stdout",
     "output_type": "stream",
     "text": [
      "epoch: 10, [batch: 2800 / 7000], examples_per_second: 10682.7285, train_label_loss: 0.4753, \n"
     ]
    },
    {
     "name": "stdout",
     "output_type": "stream",
     "text": [
      "epoch: 10, [batch: 3500 / 7000], examples_per_second: 10708.7180, train_label_loss: 0.2587, \n"
     ]
    },
    {
     "name": "stdout",
     "output_type": "stream",
     "text": [
      "epoch: 10, [batch: 4200 / 7000], examples_per_second: 10682.3692, train_label_loss: 0.2651, \n"
     ]
    },
    {
     "name": "stdout",
     "output_type": "stream",
     "text": [
      "epoch: 10, [batch: 4900 / 7000], examples_per_second: 10632.5172, train_label_loss: 0.2042, \n"
     ]
    },
    {
     "name": "stdout",
     "output_type": "stream",
     "text": [
      "epoch: 10, [batch: 5600 / 7000], examples_per_second: 10692.6369, train_label_loss: 0.3572, \n"
     ]
    },
    {
     "name": "stdout",
     "output_type": "stream",
     "text": [
      "epoch: 10, [batch: 6300 / 7000], examples_per_second: 10670.1663, train_label_loss: 0.4791, \n"
     ]
    },
    {
     "name": "stdout",
     "output_type": "stream",
     "text": [
      "=============================================================\n",
      "epoch: 10, source_val_acc_label: 0.7695, source_val_label_loss: 0.6538, target_val_acc_label: 0.7695, target_val_label_loss: 0.6538, \n",
      "=============================================================\n"
     ]
    },
    {
     "name": "stdout",
     "output_type": "stream",
     "text": [
      "epoch: 11, [batch: 1 / 7000], examples_per_second: 11.4146, train_label_loss: 0.4538, \n"
     ]
    },
    {
     "name": "stdout",
     "output_type": "stream",
     "text": [
      "epoch: 11, [batch: 700 / 7000], examples_per_second: 10642.7538, train_label_loss: 0.2093, \n"
     ]
    },
    {
     "name": "stdout",
     "output_type": "stream",
     "text": [
      "epoch: 11, [batch: 1400 / 7000], examples_per_second: 10622.8442, train_label_loss: 0.2284, \n"
     ]
    },
    {
     "name": "stdout",
     "output_type": "stream",
     "text": [
      "epoch: 11, [batch: 2100 / 7000], examples_per_second: 10652.4377, train_label_loss: 0.4630, \n"
     ]
    },
    {
     "name": "stdout",
     "output_type": "stream",
     "text": [
      "epoch: 11, [batch: 2800 / 7000], examples_per_second: 10624.0923, train_label_loss: 0.2918, \n"
     ]
    },
    {
     "name": "stdout",
     "output_type": "stream",
     "text": [
      "epoch: 11, [batch: 3500 / 7000], examples_per_second: 11513.7080, train_label_loss: 0.3718, \n"
     ]
    },
    {
     "name": "stdout",
     "output_type": "stream",
     "text": [
      "epoch: 11, [batch: 4200 / 7000], examples_per_second: 11642.8890, train_label_loss: 0.2255, \n"
     ]
    },
    {
     "name": "stdout",
     "output_type": "stream",
     "text": [
      "epoch: 11, [batch: 4900 / 7000], examples_per_second: 11734.4623, train_label_loss: 0.2356, \n"
     ]
    },
    {
     "name": "stdout",
     "output_type": "stream",
     "text": [
      "epoch: 11, [batch: 5600 / 7000], examples_per_second: 11774.2381, train_label_loss: 0.4056, \n"
     ]
    },
    {
     "name": "stdout",
     "output_type": "stream",
     "text": [
      "epoch: 11, [batch: 6300 / 7000], examples_per_second: 13015.9053, train_label_loss: 0.2261, \n"
     ]
    },
    {
     "name": "stdout",
     "output_type": "stream",
     "text": [
      "=============================================================\n",
      "epoch: 11, source_val_acc_label: 0.7786, source_val_label_loss: 0.6382, target_val_acc_label: 0.7786, target_val_label_loss: 0.6382, \n",
      "=============================================================\n"
     ]
    },
    {
     "name": "stdout",
     "output_type": "stream",
     "text": [
      "New best\n",
      "epoch: 12, [batch: 1 / 7000], examples_per_second: 14.8394, train_label_loss: 0.2358, \n"
     ]
    },
    {
     "name": "stdout",
     "output_type": "stream",
     "text": [
      "epoch: 12, [batch: 700 / 7000], examples_per_second: 13156.9427, train_label_loss: 0.2339, \n"
     ]
    },
    {
     "name": "stdout",
     "output_type": "stream",
     "text": [
      "epoch: 12, [batch: 1400 / 7000], examples_per_second: 13094.5261, train_label_loss: 0.3054, \n"
     ]
    },
    {
     "name": "stdout",
     "output_type": "stream",
     "text": [
      "epoch: 12, [batch: 2100 / 7000], examples_per_second: 13172.1456, train_label_loss: 0.1694, \n"
     ]
    },
    {
     "name": "stdout",
     "output_type": "stream",
     "text": [
      "epoch: 12, [batch: 2800 / 7000], examples_per_second: 11697.3350, train_label_loss: 0.1865, \n"
     ]
    },
    {
     "name": "stdout",
     "output_type": "stream",
     "text": [
      "epoch: 12, [batch: 3500 / 7000], examples_per_second: 11768.2069, train_label_loss: 0.4369, \n"
     ]
    },
    {
     "name": "stdout",
     "output_type": "stream",
     "text": [
      "epoch: 12, [batch: 4200 / 7000], examples_per_second: 12158.2257, train_label_loss: 0.2777, \n"
     ]
    },
    {
     "name": "stdout",
     "output_type": "stream",
     "text": [
      "epoch: 12, [batch: 4900 / 7000], examples_per_second: 11017.6493, train_label_loss: 0.2847, \n"
     ]
    },
    {
     "name": "stdout",
     "output_type": "stream",
     "text": [
      "epoch: 12, [batch: 5600 / 7000], examples_per_second: 10690.2535, train_label_loss: 0.2152, \n"
     ]
    },
    {
     "name": "stdout",
     "output_type": "stream",
     "text": [
      "epoch: 12, [batch: 6300 / 7000], examples_per_second: 10665.4275, train_label_loss: 0.3490, \n"
     ]
    },
    {
     "name": "stdout",
     "output_type": "stream",
     "text": [
      "=============================================================\n",
      "epoch: 12, source_val_acc_label: 0.7734, source_val_label_loss: 0.6590, target_val_acc_label: 0.7734, target_val_label_loss: 0.6590, \n",
      "=============================================================\n"
     ]
    },
    {
     "name": "stdout",
     "output_type": "stream",
     "text": [
      "epoch: 13, [batch: 1 / 7000], examples_per_second: 11.5813, train_label_loss: 0.1469, \n"
     ]
    },
    {
     "name": "stdout",
     "output_type": "stream",
     "text": [
      "epoch: 13, [batch: 700 / 7000], examples_per_second: 10706.1440, train_label_loss: 0.2240, \n"
     ]
    },
    {
     "name": "stdout",
     "output_type": "stream",
     "text": [
      "epoch: 13, [batch: 1400 / 7000], examples_per_second: 10693.8530, train_label_loss: 0.4369, \n"
     ]
    },
    {
     "name": "stdout",
     "output_type": "stream",
     "text": [
      "epoch: 13, [batch: 2100 / 7000], examples_per_second: 10699.7642, train_label_loss: 0.1649, \n"
     ]
    },
    {
     "name": "stdout",
     "output_type": "stream",
     "text": [
      "epoch: 13, [batch: 2800 / 7000], examples_per_second: 10722.9998, train_label_loss: 0.2868, \n"
     ]
    },
    {
     "name": "stdout",
     "output_type": "stream",
     "text": [
      "epoch: 13, [batch: 3500 / 7000], examples_per_second: 10700.1658, train_label_loss: 0.3210, \n"
     ]
    },
    {
     "name": "stdout",
     "output_type": "stream",
     "text": [
      "epoch: 13, [batch: 4200 / 7000], examples_per_second: 10750.9085, train_label_loss: 0.2864, \n"
     ]
    },
    {
     "name": "stdout",
     "output_type": "stream",
     "text": [
      "epoch: 13, [batch: 4900 / 7000], examples_per_second: 10775.8449, train_label_loss: 0.1760, \n"
     ]
    },
    {
     "name": "stdout",
     "output_type": "stream",
     "text": [
      "epoch: 13, [batch: 5600 / 7000], examples_per_second: 10753.9089, train_label_loss: 0.3463, \n"
     ]
    },
    {
     "name": "stdout",
     "output_type": "stream",
     "text": [
      "epoch: 13, [batch: 6300 / 7000], examples_per_second: 10755.9347, train_label_loss: 0.2034, \n"
     ]
    },
    {
     "name": "stdout",
     "output_type": "stream",
     "text": [
      "=============================================================\n",
      "epoch: 13, source_val_acc_label: 0.7793, source_val_label_loss: 0.6518, target_val_acc_label: 0.7793, target_val_label_loss: 0.6518, \n",
      "=============================================================\n"
     ]
    },
    {
     "name": "stdout",
     "output_type": "stream",
     "text": [
      "New best\n",
      "epoch: 14, [batch: 1 / 7000], examples_per_second: 11.5769, train_label_loss: 0.1374, \n"
     ]
    },
    {
     "name": "stdout",
     "output_type": "stream",
     "text": [
      "epoch: 14, [batch: 700 / 7000], examples_per_second: 10736.2798, train_label_loss: 0.1367, \n"
     ]
    },
    {
     "name": "stdout",
     "output_type": "stream",
     "text": [
      "epoch: 14, [batch: 1400 / 7000], examples_per_second: 10676.8785, train_label_loss: 0.1562, \n"
     ]
    },
    {
     "name": "stdout",
     "output_type": "stream",
     "text": [
      "epoch: 14, [batch: 2100 / 7000], examples_per_second: 10721.0763, train_label_loss: 0.3329, \n"
     ]
    },
    {
     "name": "stdout",
     "output_type": "stream",
     "text": [
      "epoch: 14, [batch: 2800 / 7000], examples_per_second: 10769.2034, train_label_loss: 0.4660, \n"
     ]
    },
    {
     "name": "stdout",
     "output_type": "stream",
     "text": [
      "epoch: 14, [batch: 3500 / 7000], examples_per_second: 10716.6833, train_label_loss: 0.1900, \n"
     ]
    },
    {
     "name": "stdout",
     "output_type": "stream",
     "text": [
      "epoch: 14, [batch: 4200 / 7000], examples_per_second: 10706.7245, train_label_loss: 0.2067, \n"
     ]
    },
    {
     "name": "stdout",
     "output_type": "stream",
     "text": [
      "epoch: 14, [batch: 4900 / 7000], examples_per_second: 10709.4034, train_label_loss: 0.2073, \n"
     ]
    },
    {
     "name": "stdout",
     "output_type": "stream",
     "text": [
      "epoch: 14, [batch: 5600 / 7000], examples_per_second: 10735.2531, train_label_loss: 0.4490, \n"
     ]
    },
    {
     "name": "stdout",
     "output_type": "stream",
     "text": [
      "epoch: 14, [batch: 6300 / 7000], examples_per_second: 10688.2070, train_label_loss: 0.2525, \n"
     ]
    },
    {
     "name": "stdout",
     "output_type": "stream",
     "text": [
      "=============================================================\n",
      "epoch: 14, source_val_acc_label: 0.7646, source_val_label_loss: 0.7126, target_val_acc_label: 0.7646, target_val_label_loss: 0.7126, \n",
      "=============================================================\n"
     ]
    },
    {
     "name": "stdout",
     "output_type": "stream",
     "text": [
      "epoch: 15, [batch: 1 / 7000], examples_per_second: 11.5678, train_label_loss: 0.2370, \n"
     ]
    },
    {
     "name": "stdout",
     "output_type": "stream",
     "text": [
      "epoch: 15, [batch: 700 / 7000], examples_per_second: 10702.6956, train_label_loss: 0.1078, \n"
     ]
    },
    {
     "name": "stdout",
     "output_type": "stream",
     "text": [
      "epoch: 15, [batch: 1400 / 7000], examples_per_second: 10711.2571, train_label_loss: 0.1938, \n"
     ]
    },
    {
     "name": "stdout",
     "output_type": "stream",
     "text": [
      "epoch: 15, [batch: 2100 / 7000], examples_per_second: 10725.5588, train_label_loss: 0.1956, \n"
     ]
    },
    {
     "name": "stdout",
     "output_type": "stream",
     "text": [
      "epoch: 15, [batch: 2800 / 7000], examples_per_second: 10736.6814, train_label_loss: 0.2890, \n"
     ]
    },
    {
     "name": "stdout",
     "output_type": "stream",
     "text": [
      "epoch: 15, [batch: 3500 / 7000], examples_per_second: 11758.5377, train_label_loss: 0.6849, \n"
     ]
    },
    {
     "name": "stdout",
     "output_type": "stream",
     "text": [
      "epoch: 15, [batch: 4200 / 7000], examples_per_second: 11777.2498, train_label_loss: 0.1847, \n"
     ]
    },
    {
     "name": "stdout",
     "output_type": "stream",
     "text": [
      "epoch: 15, [batch: 4900 / 7000], examples_per_second: 11772.2280, train_label_loss: 0.2259, \n"
     ]
    },
    {
     "name": "stdout",
     "output_type": "stream",
     "text": [
      "epoch: 15, [batch: 5600 / 7000], examples_per_second: 12093.6518, train_label_loss: 0.3506, \n"
     ]
    },
    {
     "name": "stdout",
     "output_type": "stream",
     "text": [
      "epoch: 15, [batch: 6300 / 7000], examples_per_second: 12926.1260, train_label_loss: 0.1579, \n"
     ]
    },
    {
     "name": "stdout",
     "output_type": "stream",
     "text": [
      "=============================================================\n",
      "epoch: 15, source_val_acc_label: 0.7688, source_val_label_loss: 0.7255, target_val_acc_label: 0.7688, target_val_label_loss: 0.7255, \n",
      "=============================================================\n"
     ]
    },
    {
     "name": "stdout",
     "output_type": "stream",
     "text": [
      "epoch: 16, [batch: 1 / 7000], examples_per_second: 14.8698, train_label_loss: 0.1429, \n"
     ]
    },
    {
     "name": "stdout",
     "output_type": "stream",
     "text": [
      "epoch: 16, [batch: 700 / 7000], examples_per_second: 13152.4666, train_label_loss: 0.1358, \n"
     ]
    },
    {
     "name": "stdout",
     "output_type": "stream",
     "text": [
      "epoch: 16, [batch: 1400 / 7000], examples_per_second: 13220.9108, train_label_loss: 0.2222, \n"
     ]
    },
    {
     "name": "stdout",
     "output_type": "stream",
     "text": [
      "epoch: 16, [batch: 2100 / 7000], examples_per_second: 13063.3032, train_label_loss: 0.1323, \n"
     ]
    },
    {
     "name": "stdout",
     "output_type": "stream",
     "text": [
      "epoch: 16, [batch: 2800 / 7000], examples_per_second: 11787.4367, train_label_loss: 0.1597, \n"
     ]
    },
    {
     "name": "stdout",
     "output_type": "stream",
     "text": [
      "epoch: 16, [batch: 3500 / 7000], examples_per_second: 11753.5881, train_label_loss: 0.3181, \n"
     ]
    },
    {
     "name": "stdout",
     "output_type": "stream",
     "text": [
      "epoch: 16, [batch: 4200 / 7000], examples_per_second: 12406.5915, train_label_loss: 0.2348, \n"
     ]
    },
    {
     "name": "stdout",
     "output_type": "stream",
     "text": [
      "epoch: 16, [batch: 4900 / 7000], examples_per_second: 10814.7586, train_label_loss: 0.2140, \n"
     ]
    },
    {
     "name": "stdout",
     "output_type": "stream",
     "text": [
      "epoch: 16, [batch: 5600 / 7000], examples_per_second: 10697.6225, train_label_loss: 0.2163, \n"
     ]
    },
    {
     "name": "stdout",
     "output_type": "stream",
     "text": [
      "epoch: 16, [batch: 6300 / 7000], examples_per_second: 10742.1359, train_label_loss: 0.2361, \n"
     ]
    },
    {
     "name": "stdout",
     "output_type": "stream",
     "text": [
      "=============================================================\n",
      "epoch: 16, source_val_acc_label: 0.7676, source_val_label_loss: 0.7207, target_val_acc_label: 0.7676, target_val_label_loss: 0.7207, \n",
      "=============================================================\n"
     ]
    },
    {
     "name": "stdout",
     "output_type": "stream",
     "text": [
      "epoch: 17, [batch: 1 / 7000], examples_per_second: 11.6035, train_label_loss: 0.1647, \n"
     ]
    },
    {
     "name": "stdout",
     "output_type": "stream",
     "text": [
      "epoch: 17, [batch: 700 / 7000], examples_per_second: 10688.8079, train_label_loss: 0.1313, \n"
     ]
    },
    {
     "name": "stdout",
     "output_type": "stream",
     "text": [
      "epoch: 17, [batch: 1400 / 7000], examples_per_second: 10669.5408, train_label_loss: 0.3159, \n"
     ]
    },
    {
     "name": "stdout",
     "output_type": "stream",
     "text": [
      "epoch: 17, [batch: 2100 / 7000], examples_per_second: 10715.0153, train_label_loss: 0.1670, \n"
     ]
    },
    {
     "name": "stdout",
     "output_type": "stream",
     "text": [
      "epoch: 17, [batch: 2800 / 7000], examples_per_second: 10705.7808, train_label_loss: 0.2183, \n"
     ]
    },
    {
     "name": "stdout",
     "output_type": "stream",
     "text": [
      "epoch: 17, [batch: 3500 / 7000], examples_per_second: 10695.2813, train_label_loss: 0.1703, \n"
     ]
    },
    {
     "name": "stdout",
     "output_type": "stream",
     "text": [
      "epoch: 17, [batch: 4200 / 7000], examples_per_second: 10729.1308, train_label_loss: 0.3531, \n"
     ]
    },
    {
     "name": "stdout",
     "output_type": "stream",
     "text": [
      "epoch: 17, [batch: 4900 / 7000], examples_per_second: 10713.5411, train_label_loss: 0.2684, \n"
     ]
    },
    {
     "name": "stdout",
     "output_type": "stream",
     "text": [
      "epoch: 17, [batch: 5600 / 7000], examples_per_second: 10710.5974, train_label_loss: 0.2548, \n"
     ]
    },
    {
     "name": "stdout",
     "output_type": "stream",
     "text": [
      "epoch: 17, [batch: 6300 / 7000], examples_per_second: 10695.4456, train_label_loss: 0.1218, \n"
     ]
    },
    {
     "name": "stdout",
     "output_type": "stream",
     "text": [
      "=============================================================\n",
      "epoch: 17, source_val_acc_label: 0.7732, source_val_label_loss: 0.7290, target_val_acc_label: 0.7732, target_val_label_loss: 0.7290, \n",
      "=============================================================\n"
     ]
    },
    {
     "name": "stdout",
     "output_type": "stream",
     "text": [
      "Patience (3) exhausted\n"
     ]
    }
   ],
   "source": [
    "jig = Vanilla_Train_Eval_Test_Jig(\n",
    "    model=model,\n",
    "    path_to_best_model=p.BEST_MODEL_PATH,\n",
    "    device=p.device,\n",
    "    label_loss_object=torch.nn.NLLLoss(),\n",
    ")\n",
    "\n",
    "jig.train(\n",
    "    train_iterable=datasets.source.processed.train,\n",
    "    source_val_iterable=datasets.source.processed.val,\n",
    "    target_val_iterable=datasets.target.processed.val,\n",
    "    patience=p.patience,\n",
    "    num_epochs=p.n_epoch,\n",
    "    num_logs_per_epoch=p.NUM_LOGS_PER_EPOCH,\n",
    "    criteria_for_best=p.criteria_for_best\n",
    ")"
   ]
  },
  {
   "cell_type": "code",
   "execution_count": 14,
   "id": "4bc2ac17",
   "metadata": {
    "execution": {
     "iopub.execute_input": "2022-03-27T00:57:25.510253Z",
     "iopub.status.busy": "2022-03-27T00:57:25.509698Z",
     "iopub.status.idle": "2022-03-27T00:57:25.512040Z",
     "shell.execute_reply": "2022-03-27T00:57:25.511555Z"
    },
    "papermill": {
     "duration": 0.071583,
     "end_time": "2022-03-27T00:57:25.512154",
     "exception": false,
     "start_time": "2022-03-27T00:57:25.440571",
     "status": "completed"
    },
    "tags": []
   },
   "outputs": [],
   "source": [
    "total_experiment_time_secs = time.time() - start_time_secs"
   ]
  },
  {
   "cell_type": "code",
   "execution_count": 15,
   "id": "cae88f23",
   "metadata": {
    "execution": {
     "iopub.execute_input": "2022-03-27T00:57:25.659661Z",
     "iopub.status.busy": "2022-03-27T00:57:25.658675Z",
     "iopub.status.idle": "2022-03-27T00:59:21.905413Z",
     "shell.execute_reply": "2022-03-27T00:59:21.909019Z"
    },
    "papermill": {
     "duration": 116.330315,
     "end_time": "2022-03-27T00:59:21.913613",
     "exception": false,
     "start_time": "2022-03-27T00:57:25.583298",
     "status": "completed"
    },
    "tags": []
   },
   "outputs": [],
   "source": [
    "source_test_label_accuracy, source_test_label_loss = jig.test(datasets.source.processed.test)\n",
    "target_test_label_accuracy, target_test_label_loss = jig.test(datasets.target.processed.test)\n",
    "\n",
    "source_val_label_accuracy, source_val_label_loss = jig.test(datasets.source.processed.val)\n",
    "target_val_label_accuracy, target_val_label_loss = jig.test(datasets.target.processed.val)\n",
    "\n",
    "history = jig.get_history()\n",
    "\n",
    "total_epochs_trained = len(history[\"epoch_indices\"])\n",
    "\n",
    "val_dl = wrap_in_dataloader(p, Sequence_Aggregator((datasets.source.original.val, datasets.target.original.val)))\n",
    "\n",
    "confusion = confusion_by_domain_over_dataloader(model, p.device, val_dl, forward_uses_domain=False)\n",
    "per_domain_accuracy = per_domain_accuracy_from_confusion(confusion)\n",
    "\n",
    "# Add a key to per_domain_accuracy for if it was a source domain\n",
    "for domain, accuracy in per_domain_accuracy.items():\n",
    "    per_domain_accuracy[domain] = {\n",
    "        \"accuracy\": accuracy,\n",
    "        \"source?\": domain in p.domains_source\n",
    "    }\n",
    "\n",
    "# Do an independent accuracy assesment JUST TO BE SURE!\n",
    "# _source_test_label_accuracy = independent_accuracy_assesment(model, datasets.source.processed.test, p.device)\n",
    "# _target_test_label_accuracy = independent_accuracy_assesment(model, datasets.target.processed.test, p.device)\n",
    "# _source_val_label_accuracy = independent_accuracy_assesment(model, datasets.source.processed.val, p.device)\n",
    "# _target_val_label_accuracy = independent_accuracy_assesment(model, datasets.target.processed.val, p.device)\n",
    "\n",
    "# assert(_source_test_label_accuracy == source_test_label_accuracy)\n",
    "# assert(_target_test_label_accuracy == target_test_label_accuracy)\n",
    "# assert(_source_val_label_accuracy == source_val_label_accuracy)\n",
    "# assert(_target_val_label_accuracy == target_val_label_accuracy)\n",
    "\n",
    "###################################\n",
    "# Write out the results\n",
    "###################################\n",
    "\n",
    "experiment = {\n",
    "    \"experiment_name\": p.experiment_name,\n",
    "    \"parameters\": p,\n",
    "    \"results\": {\n",
    "        \"source_test_label_accuracy\": source_test_label_accuracy,\n",
    "        \"source_test_label_loss\": source_test_label_loss,\n",
    "        \"target_test_label_accuracy\": target_test_label_accuracy,\n",
    "        \"target_test_label_loss\": target_test_label_loss,\n",
    "        \"source_val_label_accuracy\": source_val_label_accuracy,\n",
    "        \"source_val_label_loss\": source_val_label_loss,\n",
    "        \"target_val_label_accuracy\": target_val_label_accuracy,\n",
    "        \"target_val_label_loss\": target_val_label_loss,\n",
    "        \"total_epochs_trained\": total_epochs_trained,\n",
    "        \"total_experiment_time_secs\": total_experiment_time_secs,\n",
    "        \"confusion\": confusion,\n",
    "        \"per_domain_accuracy\": per_domain_accuracy,\n",
    "    },\n",
    "    \"history\": history,\n",
    "    \"dataset_metrics\": get_dataset_metrics(datasets, \"cnn\"),\n",
    "}"
   ]
  },
  {
   "cell_type": "code",
   "execution_count": 16,
   "id": "74c318cf",
   "metadata": {
    "execution": {
     "iopub.execute_input": "2022-03-27T00:59:22.164040Z",
     "iopub.status.busy": "2022-03-27T00:59:22.162740Z",
     "iopub.status.idle": "2022-03-27T00:59:22.670505Z",
     "shell.execute_reply": "2022-03-27T00:59:22.669419Z"
    },
    "papermill": {
     "duration": 0.629068,
     "end_time": "2022-03-27T00:59:22.670675",
     "exception": false,
     "start_time": "2022-03-27T00:59:22.041607",
     "status": "completed"
    },
    "tags": []
   },
   "outputs": [
    {
     "data": {
      "text/plain": [
       "<AxesSubplot:title={'center':'Source Train Label Loss vs Source Val Label Loss'}, xlabel='Epoch'>"
      ]
     },
     "execution_count": 16,
     "metadata": {},
     "output_type": "execute_result"
    },
    {
     "data": {
      "image/png": "[encoded data removed]",
      "text/plain": [
       "<Figure size 1080x504 with 1 Axes>"
      ]
     },
     "metadata": {
      "needs_background": "light"
     },
     "output_type": "display_data"
    }
   ],
   "source": [
    "get_loss_curve(experiment)"
   ]
  },
  {
   "cell_type": "code",
   "execution_count": 17,
   "id": "59376601",
   "metadata": {
    "execution": {
     "iopub.execute_input": "2022-03-27T00:59:22.842064Z",
     "iopub.status.busy": "2022-03-27T00:59:22.841244Z",
     "iopub.status.idle": "2022-03-27T00:59:23.177378Z",
     "shell.execute_reply": "2022-03-27T00:59:23.178055Z"
    },
    "papermill": {
     "duration": 0.436202,
     "end_time": "2022-03-27T00:59:23.178245",
     "exception": false,
     "start_time": "2022-03-27T00:59:22.742043",
     "status": "completed"
    },
    "tags": []
   },
   "outputs": [
    {
     "data": {
      "text/plain": [
       "<AxesSubplot:title={'center':'Results'}>"
      ]
     },
     "execution_count": 17,
     "metadata": {},
     "output_type": "execute_result"
    },
    {
     "data": {
      "image/png": "[encoded data removed]",
      "text/plain": [
       "<Figure size 1080x504 with 1 Axes>"
      ]
     },
     "metadata": {
      "needs_background": "light"
     },
     "output_type": "display_data"
    }
   ],
   "source": [
    "get_results_table(experiment)"
   ]
  },
  {
   "cell_type": "code",
   "execution_count": 18,
   "id": "e80c5c98",
   "metadata": {
    "execution": {
     "iopub.execute_input": "2022-03-27T00:59:23.361934Z",
     "iopub.status.busy": "2022-03-27T00:59:23.339769Z",
     "iopub.status.idle": "2022-03-27T00:59:23.616061Z",
     "shell.execute_reply": "2022-03-27T00:59:23.615191Z"
    },
    "papermill": {
     "duration": 0.361712,
     "end_time": "2022-03-27T00:59:23.616242",
     "exception": false,
     "start_time": "2022-03-27T00:59:23.254530",
     "status": "completed"
    },
    "tags": []
   },
   "outputs": [
    {
     "data": {
      "text/plain": [
       "<AxesSubplot:title={'center':'Per Domain Accuracy'}, xlabel='domain'>"
      ]
     },
     "execution_count": 18,
     "metadata": {},
     "output_type": "execute_result"
    },
    {
     "data": {
      "image/png": "[encoded data removed]",
      "text/plain": [
       "<Figure size 1080x504 with 1 Axes>"
      ]
     },
     "metadata": {
      "needs_background": "light"
     },
     "output_type": "display_data"
    }
   ],
   "source": [
    "get_domain_accuracies(experiment)"
   ]
  },
  {
   "cell_type": "code",
   "execution_count": 19,
   "id": "086fdd10",
   "metadata": {
    "execution": {
     "iopub.execute_input": "2022-03-27T00:59:23.767780Z",
     "iopub.status.busy": "2022-03-27T00:59:23.767389Z",
     "iopub.status.idle": "2022-03-27T00:59:23.773257Z",
     "shell.execute_reply": "2022-03-27T00:59:23.773921Z"
    },
    "papermill": {
     "duration": 0.083132,
     "end_time": "2022-03-27T00:59:23.774111",
     "exception": false,
     "start_time": "2022-03-27T00:59:23.690979",
     "status": "completed"
    },
    "tags": []
   },
   "outputs": [
    {
     "name": "stdout",
     "output_type": "stream",
     "text": [
      "Source Test Label Accuracy: 0.777484375 Target Test Label Accuracy: 0.777484375\n",
      "Source Val Label Accuracy: 0.779328125 Target Val Label Accuracy: 0.779328125\n"
     ]
    }
   ],
   "source": [
    "print(\"Source Test Label Accuracy:\", experiment[\"results\"][\"source_test_label_accuracy\"], \"Target Test Label Accuracy:\", experiment[\"results\"][\"target_test_label_accuracy\"])\n",
    "print(\"Source Val Label Accuracy:\", experiment[\"results\"][\"source_val_label_accuracy\"], \"Target Val Label Accuracy:\", experiment[\"results\"][\"target_val_label_accuracy\"])"
   ]
  },
  {
   "cell_type": "code",
   "execution_count": 20,
   "id": "9f450536",
   "metadata": {
    "execution": {
     "iopub.execute_input": "2022-03-27T00:59:23.923412Z",
     "iopub.status.busy": "2022-03-27T00:59:23.922863Z",
     "iopub.status.idle": "2022-03-27T00:59:23.927007Z",
     "shell.execute_reply": "2022-03-27T00:59:23.926459Z"
    },
    "papermill": {
     "duration": 0.07922,
     "end_time": "2022-03-27T00:59:23.927118",
     "exception": false,
     "start_time": "2022-03-27T00:59:23.847898",
     "status": "completed"
    },
    "tags": [
     "experiment_json"
    ]
   },
   "outputs": [
    {
     "data": {
      "text/plain": [
       "'{\"experiment_name\": \"cnn_2:oracle.run1\", \"parameters\": {\"experiment_name\": \"cnn_2:oracle.run1\", \"domains_source\": [8, 32, 50, 14, 20, 26, 38, 44], \"domains_target\": [8, 32, 50, 14, 20, 26, 38, 44], \"labels\": [\"3123D52\", \"3123D65\", \"3123D79\", \"3123D80\", \"3123D54\", \"3123D70\", \"3123D7B\", \"3123D89\", \"3123D58\", \"3123D76\", \"3123D7D\", \"3123EFE\", \"3123D64\", \"3123D78\", \"3123D7E\", \"3124E4A\"], \"pickle_name_source\": \"oracle.Run1_10kExamples_stratified_ds.2022A.pkl\", \"pickle_name_target\": \"oracle.Run1_10kExamples_stratified_ds.2022A.pkl\", \"device\": \"cuda\", \"lr\": 0.0001, \"batch_size\": 128, \"normalize_source\": false, \"normalize_target\": false, \"num_examples_per_domain_per_label_source\": -1, \"num_examples_per_domain_per_label_target\": -1, \"torch_default_dtype\": \"torch.float32\", \"n_epoch\": 50, \"patience\": 3, \"criteria_for_best\": \"target_accuracy\", \"x_net\": [{\"class\": \"nnReshape\", \"kargs\": {\"shape\": [-1, 1, 2, 256]}}, {\"class\": \"Conv2d\", \"kargs\": {\"in_channels\": 1, \"out_channels\": 256, \"kernel_size\": [1, 7], \"bias\": false, \"padding\": [0, 3]}}, {\"class\": \"ReLU\", \"kargs\": {\"inplace\": true}}, {\"class\": \"BatchNorm2d\", \"kargs\": {\"num_features\": 256}}, {\"class\": \"Conv2d\", \"kargs\": {\"in_channels\": 256, \"out_channels\": 80, \"kernel_size\": [2, 7], \"bias\": true, \"padding\": [0, 3]}}, {\"class\": \"ReLU\", \"kargs\": {\"inplace\": true}}, {\"class\": \"BatchNorm2d\", \"kargs\": {\"num_features\": 80}}, {\"class\": \"Flatten\", \"kargs\": {}}, {\"class\": \"Linear\", \"kargs\": {\"in_features\": 20480, \"out_features\": 256}}, {\"class\": \"ReLU\", \"kargs\": {\"inplace\": true}}, {\"class\": \"BatchNorm1d\", \"kargs\": {\"num_features\": 256}}, {\"class\": \"Linear\", \"kargs\": {\"in_features\": 256, \"out_features\": 16}}], \"NUM_LOGS_PER_EPOCH\": 10, \"BEST_MODEL_PATH\": \"./best_model.pth\", \"dataset_seed\": 420, \"seed\": 420}, \"results\": {\"source_test_label_accuracy\": 0.777484375, \"source_test_label_loss\": 0.657637657403946, \"target_test_label_accuracy\": 0.777484375, \"target_test_label_loss\": 0.6576376561522483, \"source_val_label_accuracy\": 0.779328125, \"source_val_label_loss\": 0.6517850074569385, \"target_val_label_accuracy\": 0.779328125, \"target_val_label_loss\": 0.6517850100000699, \"total_epochs_trained\": 17, \"total_experiment_time_secs\": 1474.4350967407227, \"confusion\": {\"8\": {\"0\": {\"0\": 2978, \"14\": 16, \"4\": 2, \"11\": 4}, \"1\": {\"1\": 2258, \"11\": 486, \"5\": 164, \"14\": 8, \"10\": 56, \"4\": 22, \"0\": 2, \"13\": 4}, \"6\": {\"4\": 410, \"6\": 1500, \"7\": 862, \"13\": 150, \"11\": 10, \"10\": 38, \"8\": 8, \"14\": 16, \"1\": 4, \"2\": 2}, \"7\": {\"6\": 838, \"7\": 1838, \"13\": 212, \"4\": 94, \"11\": 6, \"2\": 4, \"3\": 2, \"15\": 6}, \"3\": {\"3\": 2712, \"10\": 60, \"2\": 96, \"4\": 26, \"15\": 8, \"0\": 82, \"8\": 10, \"13\": 6}, \"5\": {\"5\": 2728, \"1\": 68, \"10\": 174, \"11\": 8, \"13\": 18, \"14\": 4}, \"13\": {\"13\": 2214, \"10\": 590, \"7\": 38, \"6\": 44, \"4\": 12, \"12\": 2, \"5\": 64, \"1\": 32, \"15\": 4}, \"11\": {\"11\": 2456, \"1\": 458, \"4\": 8, \"14\": 30, \"5\": 26, \"8\": 18, \"10\": 4}, \"4\": {\"6\": 374, \"4\": 2014, \"13\": 100, \"14\": 316, \"11\": 20, \"10\": 48, \"7\": 100, \"8\": 6, \"5\": 4, \"1\": 12, \"0\": 6}, \"15\": {\"15\": 2584, \"3\": 122, \"12\": 228, \"8\": 8, \"5\": 36, \"0\": 10, \"2\": 6, \"4\": 2, \"1\": 4}, \"2\": {\"0\": 620, \"2\": 850, \"3\": 834, \"15\": 46, \"1\": 160, \"8\": 16, \"5\": 306, \"10\": 48, \"12\": 46, \"7\": 34, \"9\": 34, \"13\": 2, \"11\": 2, \"4\": 2}, \"8\": {\"8\": 2902, \"11\": 70, \"7\": 4, \"6\": 10, \"4\": 14}, \"9\": {\"9\": 3000}, \"12\": {\"12\": 1488, \"15\": 946, \"3\": 70, \"4\": 226, \"14\": 24, \"8\": 226, \"10\": 8, \"5\": 8, \"1\": 2, \"7\": 2}, \"10\": {\"10\": 1692, \"5\": 436, \"13\": 798, \"4\": 12, \"1\": 30, \"6\": 18, \"14\": 14}, \"14\": {\"4\": 306, \"14\": 2624, \"6\": 12, \"0\": 14, \"5\": 2, \"11\": 22, \"10\": 14, \"1\": 2, \"13\": 4}}, \"20\": {\"11\": {\"11\": 2860, \"5\": 20, \"0\": 50, \"9\": 8, \"4\": 42, \"2\": 2, \"8\": 12, \"13\": 4, \"3\": 2}, \"7\": {\"7\": 1910, \"4\": 114, \"2\": 400, \"3\": 142, \"9\": 190, \"8\": 96, \"5\": 18, \"6\": 52, \"11\": 24, \"12\": 32, \"13\": 10, \"1\": 2, \"10\": 6, \"15\": 2, \"14\": 2}, \"2\": {\"1\": 66, \"2\": 816, \"12\": 290, \"13\": 234, \"15\": 116, \"9\": 662, \"7\": 546, \"3\": 172, \"4\": 18, \"5\": 54, \"10\": 2, \"11\": 10, \"6\": 12, \"8\": 2}, \"3\": {\"1\": 162, \"5\": 438, \"3\": 1336, \"9\": 270, \"2\": 444, \"10\": 50, \"12\": 46, \"0\": 98, \"15\": 50, \"4\": 16, \"8\": 68, \"7\": 22}, \"5\": {\"15\": 142, \"0\": 268, \"5\": 1860, \"2\": 156, \"1\": 290, \"3\": 200, \"12\": 18, \"9\": 42, \"8\": 24}, \"6\": {\"6\": 2648, \"14\": 98, \"10\": 34, \"4\": 22, \"8\": 46, \"7\": 126, \"2\": 24, \"13\": 2}, \"0\": {\"0\": 2914, \"5\": 46, \"2\": 20, \"1\": 4, \"15\": 10, \"3\": 4, \"8\": 2}, \"14\": {\"14\": 2666, \"8\": 256, \"6\": 26, \"10\": 20, \"12\": 18, \"4\": 8, \"13\": 2, \"2\": 2, \"3\": 2}, \"8\": {\"8\": 2720, \"14\": 62, \"5\": 24, \"3\": 78, \"4\": 24, \"0\": 32, \"7\": 16, \"15\": 6, \"2\": 20, \"12\": 18}, \"10\": {\"10\": 2506, \"4\": 304, \"12\": 24, \"6\": 136, \"14\": 24, \"7\": 6}, \"9\": {\"12\": 126, \"1\": 236, \"3\": 566, \"9\": 1300, \"2\": 468, \"15\": 44, \"10\": 28, \"7\": 58, \"5\": 154, \"0\": 2, \"4\": 6, \"8\": 6, \"13\": 6}, \"1\": {\"5\": 756, \"2\": 200, \"12\": 68, \"1\": 1232, \"3\": 220, \"15\": 318, \"9\": 174, \"0\": 26, \"10\": 6}, \"13\": {\"13\": 2626, \"7\": 36, \"15\": 170, \"11\": 8, \"2\": 106, \"1\": 4, \"9\": 42, \"12\": 8}, \"4\": {\"4\": 1874, \"12\": 550, \"8\": 340, \"2\": 8, \"15\": 8, \"3\": 50, \"10\": 44, \"7\": 92, \"1\": 2, \"9\": 8, \"14\": 10, \"6\": 10, \"11\": 2, \"5\": 2}, \"15\": {\"15\": 1788, \"12\": 122, \"9\": 210, \"5\": 294, \"2\": 92, \"1\": 378, \"3\": 28, \"13\": 80, \"0\": 8}, \"12\": {\"15\": 214, \"5\": 174, \"12\": 884, \"8\": 4, \"9\": 348, \"7\": 186, \"1\": 266, \"2\": 424, \"3\": 448, \"4\": 30, \"13\": 16, \"10\": 4, \"0\": 2}}, \"32\": {\"14\": {\"0\": 130, \"14\": 2358, \"1\": 26, \"7\": 384, \"8\": 18, \"5\": 26, \"12\": 14, \"3\": 22, \"2\": 22}, \"3\": {\"3\": 2166, \"12\": 652, \"14\": 2, \"13\": 160, \"15\": 10, \"8\": 2, \"11\": 8}, \"1\": {\"1\": 2942, \"8\": 58}, \"11\": {\"11\": 2878, \"13\": 92, \"5\": 2, \"15\": 16, \"14\": 2, \"3\": 10}, \"8\": {\"8\": 2408, \"0\": 318, \"5\": 146, \"14\": 24, \"7\": 20, \"3\": 36, \"1\": 28, \"2\": 8, \"15\": 4, \"12\": 6, \"6\": 2}, \"2\": {\"2\": 2516, \"5\": 4, \"6\": 20, \"4\": 358, \"3\": 30, \"7\": 20, \"14\": 42, \"13\": 2, \"11\": 2, \"0\": 6}, \"13\": {\"4\": 302, \"12\": 82, \"3\": 640, \"13\": 1894, \"11\": 64, \"14\": 10, \"8\": 2, \"15\": 2, \"2\": 4}, \"15\": {\"15\": 2912, \"2\": 40, \"8\": 44, \"10\": 2, \"7\": 2}, \"12\": {\"12\": 2888, \"0\": 28, \"11\": 24, \"9\": 4, \"10\": 16, \"1\": 4, \"6\": 28, \"2\": 8}, \"5\": {\"7\": 538, \"2\": 42, \"8\": 146, \"5\": 1532, \"14\": 82, \"1\": 486, \"0\": 146, \"3\": 14, \"12\": 14}, \"7\": {\"7\": 2070, \"14\": 244, \"1\": 74, \"5\": 466, \"0\": 98, \"8\": 10, \"12\": 32, \"2\": 6}, \"6\": {\"6\": 2938, \"11\": 62}, \"0\": {\"0\": 2422, \"2\": 12, \"5\": 138, \"8\": 218, \"7\": 116, \"14\": 88, \"11\": 2, \"1\": 4}, \"10\": {\"10\": 2996, \"12\": 2, \"6\": 2}, \"4\": {\"4\": 1896, \"2\": 558, \"3\": 350, \"13\": 138, \"6\": 4, \"0\": 4, \"14\": 38, \"11\": 6, \"7\": 4, \"12\": 2}, \"9\": {\"1\": 270, \"6\": 190, \"14\": 582, \"9\": 1770, \"2\": 172, \"11\": 4, \"5\": 6, \"12\": 4, \"0\": 2}}, \"14\": {\"8\": {\"8\": 2978, \"0\": 4, \"11\": 12, \"13\": 4, \"9\": 2}, \"12\": {\"12\": 2996, \"0\": 4}, \"11\": {\"7\": 86, \"11\": 2858, \"13\": 34, \"4\": 6, \"6\": 12, \"2\": 2, \"15\": 2}, \"14\": {\"14\": 2422, \"2\": 112, \"13\": 262, \"6\": 130, \"0\": 4, \"7\": 2, \"4\": 22, \"3\": 42, \"10\": 2, \"8\": 2}, \"10\": {\"10\": 2514, \"3\": 328, \"2\": 116, \"0\": 12, \"4\": 18, \"13\": 4, \"8\": 4, \"5\": 4}, \"9\": {\"9\": 2938, \"15\": 6, \"0\": 56}, \"1\": {\"1\": 2934, \"4\": 22, \"11\": 18, \"7\": 26}, \"2\": {\"14\": 318, \"2\": 1904, \"13\": 140, \"6\": 206, \"5\": 188, \"4\": 78, \"3\": 136, \"10\": 12, \"0\": 6, \"7\": 12}, \"6\": {\"6\": 1904, \"13\": 836, \"2\": 122, \"4\": 2, \"14\": 74, \"7\": 4, \"3\": 58}, \"13\": {\"13\": 1392, \"2\": 194, \"4\": 20, \"14\": 334, \"6\": 856, \"3\": 80, \"15\": 106, \"10\": 14, \"7\": 4}, \"3\": {\"3\": 2828, \"0\": 86, \"2\": 68, \"14\": 10, \"7\": 4, \"6\": 2, \"13\": 2}, \"7\": {\"7\": 2904, \"2\": 8, \"5\": 88}, \"5\": {\"2\": 194, \"5\": 2450, \"3\": 52, \"4\": 172, \"7\": 112, \"11\": 12, \"14\": 4, \"0\": 4}, \"15\": {\"15\": 2998, \"13\": 2}, \"4\": {\"4\": 2702, \"5\": 154, \"7\": 10, \"2\": 58, \"10\": 20, \"11\": 42, \"1\": 6, \"13\": 6, \"6\": 2}, \"0\": {\"0\": 2644, \"3\": 224, \"8\": 10, \"9\": 50, \"2\": 6, \"13\": 20, \"4\": 36, \"7\": 2, \"14\": 6, \"10\": 2}}, \"26\": {\"6\": {\"6\": 1976, \"15\": 562, \"10\": 272, \"9\": 36, \"5\": 74, \"14\": 34, \"0\": 40, \"12\": 4, \"1\": 2}, \"1\": {\"1\": 2740, \"14\": 98, \"0\": 26, \"10\": 108, \"5\": 2, \"6\": 18, \"15\": 6, \"2\": 2}, \"4\": {\"4\": 2628, \"3\": 234, \"8\": 60, \"0\": 58, \"6\": 2, \"10\": 2, \"7\": 10, \"9\": 4, \"2\": 2}, \"14\": {\"10\": 342, \"14\": 1840, \"1\": 424, \"0\": 326, \"15\": 4, \"6\": 60, \"8\": 2, \"2\": 2}, \"11\": {\"12\": 22, \"11\": 2902, \"6\": 64, \"5\": 2, \"2\": 6, \"9\": 2, \"10\": 2}, \"0\": {\"0\": 1318, \"15\": 48, \"10\": 762, \"7\": 20, \"14\": 398, \"6\": 182, \"8\": 138, \"1\": 100, \"2\": 26, \"9\": 8}, \"7\": {\"8\": 388, \"2\": 538, \"7\": 1638, \"3\": 208, \"6\": 6, \"9\": 88, \"0\": 112, \"4\": 6, \"10\": 10, \"14\": 4, \"15\": 2}, \"2\": {\"15\": 94, \"2\": 2040, \"13\": 80, \"0\": 22, \"7\": 268, \"3\": 216, \"5\": 52, \"8\": 86, \"9\": 108, \"10\": 8, \"6\": 24, \"14\": 2}, \"15\": {\"15\": 2076, \"6\": 404, \"5\": 446, \"1\": 8, \"9\": 22, \"10\": 16, \"2\": 20, \"0\": 8}, \"5\": {\"5\": 2460, \"15\": 488, \"6\": 48, \"2\": 2, \"9\": 2}, \"9\": {\"9\": 2134, \"8\": 322, \"13\": 134, \"2\": 186, \"3\": 4, \"0\": 114, \"15\": 52, \"6\": 12, \"7\": 32, \"5\": 2, \"10\": 8}, \"13\": {\"13\": 2428, \"9\": 306, \"2\": 156, \"0\": 50, \"15\": 30, \"3\": 12, \"8\": 14, \"5\": 4}, \"10\": {\"0\": 544, \"6\": 398, \"10\": 1396, \"1\": 206, \"14\": 302, \"15\": 102, \"8\": 30, \"9\": 4, \"5\": 16, \"7\": 2}, \"8\": {\"7\": 454, \"0\": 346, \"8\": 1294, \"2\": 332, \"9\": 396, \"10\": 116, \"5\": 4, \"13\": 8, \"4\": 16, \"6\": 4, \"14\": 18, \"15\": 8, \"3\": 2, \"12\": 2}, \"12\": {\"12\": 2992, \"9\": 8}, \"3\": {\"3\": 1924, \"2\": 432, \"9\": 38, \"7\": 548, \"8\": 36, \"0\": 12, \"6\": 2, \"13\": 8}}, \"50\": {\"3\": {\"3\": 2984, \"2\": 16}, \"1\": {\"1\": 2490, \"5\": 12, \"15\": 362, \"13\": 94, \"0\": 6, \"6\": 10, \"8\": 22, \"11\": 4}, \"0\": {\"2\": 206, \"0\": 2540, \"1\": 62, \"10\": 188, \"15\": 4}, \"15\": {\"14\": 284, \"15\": 1198, \"5\": 362, \"8\": 420, \"4\": 352, \"6\": 346, \"7\": 22, \"9\": 12, \"11\": 4}, \"4\": {\"7\": 340, \"13\": 212, \"4\": 1936, \"5\": 218, \"0\": 176, \"14\": 48, \"2\": 10, \"15\": 6, \"10\": 4, \"8\": 30, \"6\": 20}, \"2\": {\"2\": 2550, \"0\": 310, \"1\": 78, \"9\": 50, \"6\": 4, \"14\": 2, \"12\": 2, \"11\": 2, \"15\": 2}, \"5\": {\"5\": 1778, \"13\": 48, \"7\": 264, \"2\": 350, \"6\": 118, \"15\": 120, \"4\": 168, \"14\": 86, \"8\": 68}, \"7\": {\"7\": 2268, \"14\": 142, \"2\": 282, \"13\": 42, \"4\": 122, \"5\": 140, \"6\": 2, \"10\": 2}, \"10\": {\"10\": 2736, \"8\": 68, \"0\": 188, \"13\": 8}, \"6\": {\"6\": 1902, \"5\": 898, \"4\": 38, \"8\": 18, \"14\": 48, \"15\": 94, \"7\": 2}, \"12\": {\"12\": 2618, \"9\": 360, \"0\": 2, \"11\": 18, \"15\": 2}, \"8\": {\"8\": 2954, \"10\": 34, \"3\": 2, \"13\": 6, \"1\": 4}, \"9\": {\"9\": 2880, \"12\": 32, \"11\": 38, \"5\": 34, \"4\": 2, \"15\": 2, \"14\": 4, \"7\": 4, \"8\": 4}, \"13\": {\"13\": 2798, \"6\": 56, \"15\": 82, \"0\": 14, \"5\": 32, \"8\": 18}, \"14\": {\"14\": 2576, \"9\": 372, \"6\": 10, \"2\": 40, \"1\": 2}, \"11\": {\"12\": 20, \"11\": 2216, \"5\": 176, \"9\": 432, \"15\": 64, \"6\": 2, \"4\": 14, \"8\": 68, \"14\": 8}}, \"44\": {\"12\": {\"12\": 2584, \"3\": 386, \"13\": 2, \"14\": 18, \"8\": 10}, \"15\": {\"5\": 294, \"15\": 2160, \"8\": 310, \"12\": 6, \"0\": 66, \"14\": 132, \"4\": 24, \"9\": 2, \"6\": 6}, \"3\": {\"3\": 2150, \"14\": 178, \"4\": 120, \"5\": 44, \"8\": 146, \"7\": 110, \"12\": 130, \"13\": 22, \"2\": 78, \"6\": 2, \"0\": 16, \"11\": 4}, \"8\": {\"8\": 2446, \"0\": 414, \"15\": 86, \"5\": 50, \"2\": 2, \"6\": 2}, \"13\": {\"13\": 2302, \"0\": 332, \"9\": 114, \"6\": 230, \"7\": 6, \"4\": 8, \"10\": 2, \"11\": 6}, \"2\": {\"2\": 2632, \"1\": 188, \"5\": 42, \"10\": 82, \"7\": 54, \"8\": 2}, \"7\": {\"9\": 684, \"7\": 2222, \"10\": 72, \"2\": 10, \"6\": 12}, \"6\": {\"13\": 546, \"6\": 1996, \"9\": 392, \"7\": 62, \"0\": 4}, \"4\": {\"4\": 2294, \"15\": 282, \"5\": 68, \"0\": 50, \"8\": 10, \"6\": 62, \"14\": 162, \"9\": 40, \"11\": 28, \"13\": 2, \"7\": 2}, \"9\": {\"9\": 2008, \"7\": 724, \"13\": 116, \"2\": 26, \"6\": 76, \"0\": 22, \"10\": 22, \"4\": 6}, \"1\": {\"1\": 2350, \"2\": 120, \"5\": 396, \"7\": 80, \"10\": 28, \"8\": 8, \"14\": 16, \"0\": 2}, \"10\": {\"10\": 2912, \"1\": 48, \"2\": 18, \"7\": 22}, \"5\": {\"5\": 2412, \"4\": 50, \"2\": 24, \"14\": 58, \"6\": 326, \"15\": 64, \"8\": 54, \"7\": 8, \"0\": 2, \"13\": 2}, \"0\": {\"0\": 2398, \"8\": 530, \"6\": 12, \"15\": 56, \"13\": 4}, \"14\": {\"14\": 2130, \"4\": 324, \"6\": 44, \"5\": 302, \"15\": 152, \"7\": 4, \"9\": 18, \"8\": 22, \"12\": 2, \"0\": 2}, \"11\": {\"11\": 2826, \"0\": 130, \"10\": 38, \"13\": 4, \"3\": 2}}, \"38\": {\"5\": {\"5\": 1710, \"8\": 432, \"9\": 242, \"4\": 54, \"11\": 196, \"7\": 88, \"13\": 2, \"15\": 142, \"14\": 78, \"0\": 26, \"6\": 8, \"1\": 22}, \"6\": {\"6\": 2874, \"2\": 28, \"9\": 26, \"14\": 28, \"1\": 40, \"4\": 2, \"8\": 2}, \"15\": {\"15\": 2132, \"1\": 260, \"10\": 10, \"5\": 182, \"0\": 72, \"8\": 80, \"13\": 224, \"6\": 36, \"11\": 4}, \"9\": {\"9\": 2954, \"12\": 26, \"14\": 8, \"5\": 8, \"4\": 2, \"7\": 2}, \"13\": {\"13\": 2784, \"0\": 6, \"10\": 136, \"4\": 34, \"7\": 30, \"5\": 6, \"2\": 4}, \"4\": {\"4\": 2972, \"10\": 28}, \"3\": {\"3\": 2964, \"0\": 26, \"11\": 10}, \"14\": {\"14\": 2598, \"7\": 198, \"2\": 128, \"4\": 38, \"5\": 38}, \"8\": {\"5\": 832, \"8\": 1128, \"15\": 390, \"7\": 130, \"4\": 324, \"14\": 46, \"11\": 80, \"0\": 18, \"6\": 30, \"1\": 14, \"9\": 6, \"13\": 2}, \"0\": {\"0\": 2410, \"4\": 262, \"13\": 168, \"10\": 118, \"7\": 30, \"11\": 4, \"6\": 2, \"9\": 2, \"3\": 4}, \"2\": {\"2\": 2686, \"7\": 156, \"5\": 100, \"14\": 44, \"13\": 14}, \"12\": {\"12\": 2966, \"8\": 6, \"13\": 14, \"15\": 8, \"14\": 2, \"5\": 2, \"6\": 2}, \"11\": {\"11\": 3000}, \"7\": {\"9\": 38, \"7\": 2714, \"0\": 122, \"4\": 78, \"5\": 22, \"8\": 20, \"13\": 4, \"15\": 2}, \"10\": {\"10\": 2794, \"13\": 158, \"4\": 12, \"0\": 36}, \"1\": {\"1\": 2814, \"2\": 86, \"0\": 68, \"9\": 16, \"6\": 8, \"15\": 6, \"14\": 2}}}, \"per_domain_accuracy\": {\"8\": {\"accuracy\": 0.746625, \"source?\": true}, \"20\": {\"accuracy\": 0.6654166666666667, \"source?\": true}, \"32\": {\"accuracy\": 0.803875, \"source?\": true}, \"14\": {\"accuracy\": 0.8617916666666666, \"source?\": true}, \"26\": {\"accuracy\": 0.703875, \"source?\": true}, \"50\": {\"accuracy\": 0.8005, \"source?\": true}, \"44\": {\"accuracy\": 0.7879583333333333, \"source?\": true}, \"38\": {\"accuracy\": 0.8645833333333334, \"source?\": true}}}, \"history\": {\"epoch_indices\": [1, 2, 3, 4, 5, 6, 7, 8, 9, 10, 11, 12, 13, 14, 15, 16, 17], \"train_label_loss\": [1.978990620630128, 1.155296135195664, 0.8733209310684885, 0.717877007322652, 0.6134731522287641, 0.5409677922555378, 0.47854977227321693, 0.4280775661255632, 0.3886761878505349, 0.353065003407853, 0.325000765176756, 0.2996367329178112, 0.2784423601787005, 0.25787053118752584, 0.23962115336156317, 0.22474990651330778, 0.21282709475766334], \"source_val_label_loss\": [1.2751208221912385, 0.9568027512232462, 0.7830176964998246, 0.6679070697228113, 0.6846050482392311, 0.6209371177752813, 0.621792281250159, 0.6243840496142705, 0.6836884424090386, 0.6537804191509883, 0.63815932371219, 0.6590096278587977, 0.6517850043177604, 0.7126329101324081, 0.725505996008714, 0.720700754404068, 0.7290369653900465], \"target_val_label_loss\": [1.2751208251317343, 0.9568027517398199, 0.7830176937580109, 0.6679070693055789, 0.6846050513386727, 0.6209371191859245, 0.6217922809123992, 0.624384053548177, 0.6836884417335193, 0.6537804233829181, 0.6381593243082364, 0.6590096308588982, 0.6517850077946981, 0.7126329114834468, 0.7255059958895047, 0.720700756529967, 0.729036971171697], \"source_val_acc_label\": [0.5824375, 0.663890625, 0.7201770833333333, 0.7583697916666666, 0.7473697916666666, 0.7739427083333333, 0.77415625, 0.7749166666666667, 0.7581510416666667, 0.7694791666666667, 0.778640625, 0.7733958333333333, 0.779328125, 0.764609375, 0.7688020833333333, 0.7675989583333334, 0.7732135416666667], \"target_val_acc_label\": [0.5824375, 0.663890625, 0.7201770833333333, 0.7583697916666666, 0.7473697916666666, 0.7739427083333333, 0.77415625, 0.7749166666666667, 0.7581510416666667, 0.7694791666666667, 0.778640625, 0.7733958333333333, 0.779328125, 0.764609375, 0.7688020833333333, 0.7675989583333334, 0.7732135416666667]}, \"dataset_metrics\": {\"source\": {\"train\": {\"n_unique_x\": 896000, \"n_unique_y\": 16, \"n_batch/episode\": 7000}, \"val\": {\"n_unique_x\": 192000, \"n_unique_y\": 16, \"n_batch/episode\": 1500}, \"test\": {\"n_unique_x\": 192000, \"n_unique_y\": 16, \"n_batch/episode\": 1500}}, \"target\": {\"train\": {\"n_unique_x\": 896000, \"n_unique_y\": 16, \"n_batch/episode\": 7000}, \"val\": {\"n_unique_x\": 192000, \"n_unique_y\": 16, \"n_batch/episode\": 1500}, \"test\": {\"n_unique_x\": 192000, \"n_unique_y\": 16, \"n_batch/episode\": 1500}}}}'"
      ]
     },
     "execution_count": 20,
     "metadata": {},
     "output_type": "execute_result"
    }
   ],
   "source": [
    "json.dumps(experiment)"
   ]
  }
 ],
 "metadata": {
  "celltoolbar": "Tags",
  "kernelspec": {
   "display_name": "Python 3 (ipykernel)",
   "language": "python",
   "name": "python3"
  },
  "language_info": {
   "codemirror_mode": {
    "name": "ipython",
    "version": 3
   },
   "file_extension": ".py",
   "mimetype": "text/x-python",
   "name": "python",
   "nbconvert_exporter": "python",
   "pygments_lexer": "ipython3",
   "version": "3.8.12"
  },
  "papermill": {
   "default_parameters": {},
   "duration": 1599.649982,
   "end_time": "2022-03-27T00:59:27.736093",
   "environment_variables": {},
   "exception": null,
   "input_path": "/root/csc500-main/csc500-notebooks/templates/cnn_template.ipynb",
   "output_path": "trial.ipynb",
   "parameters": {
    "parameters": {
     "BEST_MODEL_PATH": "./best_model.pth",
     "NUM_LOGS_PER_EPOCH": 10,
     "batch_size": 128,
     "criteria_for_best": "target_accuracy",
     "dataset_seed": 420,
     "device": "cuda",
     "domains_source": [
      8,
      32,
      50,
      14,
      20,
      26,
      38,
      44
     ],
     "domains_target": [
      8,
      32,
      50,
      14,
      20,
      26,
      38,
      44
     ],
     "experiment_name": "cnn_2:oracle.run1",
     "labels": [
      "3123D52",
      "3123D65",
      "3123D79",
      "3123D80",
      "3123D54",
      "3123D70",
      "3123D7B",
      "3123D89",
      "3123D58",
      "3123D76",
      "3123D7D",
      "3123EFE",
      "3123D64",
      "3123D78",
      "3123D7E",
      "3124E4A"
     ],
     "lr": 0.0001,
     "n_epoch": 50,
     "normalize_source": false,
     "normalize_target": false,
     "num_examples_per_domain_per_label_source": -1,
     "num_examples_per_domain_per_label_target": -1,
     "patience": 3,
     "pickle_name_source": "oracle.Run1_10kExamples_stratified_ds.2022A.pkl",
     "pickle_name_target": "oracle.Run1_10kExamples_stratified_ds.2022A.pkl",
     "seed": 420,
     "torch_default_dtype": "torch.float32",
     "x_net": [
      {
       "class": "nnReshape",
       "kargs": {
        "shape": [
         -1,
         1,
         2,
         256
        ]
       }
      },
      {
       "class": "Conv2d",
       "kargs": {
        "bias": false,
        "in_channels": 1,
        "kernel_size": [
         1,
         7
        ],
        "out_channels": 256,
        "padding": [
         0,
         3
        ]
       }
      },
      {
       "class": "ReLU",
       "kargs": {
        "inplace": true
       }
      },
      {
       "class": "BatchNorm2d",
       "kargs": {
        "num_features": 256
       }
      },
      {
       "class": "Conv2d",
       "kargs": {
        "bias": true,
        "in_channels": 256,
        "kernel_size": [
         2,
         7
        ],
        "out_channels": 80,
        "padding": [
         0,
         3
        ]
       }
      },
      {
       "class": "ReLU",
       "kargs": {
        "inplace": true
       }
      },
      {
       "class": "BatchNorm2d",
       "kargs": {
        "num_features": 80
       }
      },
      {
       "class": "Flatten",
       "kargs": {}
      },
      {
       "class": "Linear",
       "kargs": {
        "in_features": 20480,
        "out_features": 256
       }
      },
      {
       "class": "ReLU",
       "kargs": {
        "inplace": true
       }
      },
      {
       "class": "BatchNorm1d",
       "kargs": {
        "num_features": 256
       }
      },
      {
       "class": "Linear",
       "kargs": {
        "in_features": 256,
        "out_features": 16
       }
      }
     ]
    }
   },
   "start_time": "2022-03-27T00:32:48.086111",
   "version": "2.3.4"
  }
 },
 "nbformat": 4,
 "nbformat_minor": 5
}