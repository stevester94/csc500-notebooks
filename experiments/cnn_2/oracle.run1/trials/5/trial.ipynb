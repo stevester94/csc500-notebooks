{
 "cells": [
  {
   "cell_type": "code",
   "execution_count": 1,
   "id": "2324682e",
   "metadata": {
    "execution": {
     "iopub.execute_input": "2022-03-27T00:11:30.144021Z",
     "iopub.status.busy": "2022-03-27T00:11:30.143159Z",
     "iopub.status.idle": "2022-03-27T00:11:31.797385Z",
     "shell.execute_reply": "2022-03-27T00:11:31.796529Z"
    },
    "papermill": {
     "duration": 1.720112,
     "end_time": "2022-03-27T00:11:31.797593",
     "exception": false,
     "start_time": "2022-03-27T00:11:30.077481",
     "status": "completed"
    },
    "tags": []
   },
   "outputs": [],
   "source": [
    "import os, json, sys, time, random\n",
    "import numpy as np\n",
    "import torch\n",
    "from  easydict import EasyDict\n",
    "from math import floor\n",
    "from easydict import EasyDict\n",
    "\n",
    "from steves_utils.vanilla_train_eval_test_jig import  Vanilla_Train_Eval_Test_Jig\n",
    "\n",
    "from steves_utils.torch_utils import get_dataset_metrics, independent_accuracy_assesment\n",
    "from steves_models.configurable_vanilla import Configurable_Vanilla\n",
    "from steves_utils.torch_sequential_builder import build_sequential\n",
    "from steves_utils.lazy_map import Lazy_Map\n",
    "from steves_utils.sequence_aggregator import Sequence_Aggregator\n",
    "\n",
    "from steves_utils.stratified_dataset.traditional_accessor import Traditional_Accessor_Factory\n",
    "\n",
    "from steves_utils.cnn_do_report import (\n",
    "    get_loss_curve,\n",
    "    get_results_table,\n",
    "    get_parameters_table,\n",
    "    get_domain_accuracies,\n",
    ")\n",
    "\n",
    "from steves_utils.torch_utils import (\n",
    "    confusion_by_domain_over_dataloader,\n",
    "    independent_accuracy_assesment\n",
    ")\n",
    "\n",
    "from steves_utils.utils_v2 import (\n",
    "    per_domain_accuracy_from_confusion,\n",
    "    get_datasets_base_path\n",
    ")\n",
    "\n",
    "# from steves_utils.ptn_do_report import TBD"
   ]
  },
  {
   "cell_type": "code",
   "execution_count": 2,
   "id": "1b29e3fe",
   "metadata": {
    "execution": {
     "iopub.execute_input": "2022-03-27T00:11:31.835251Z",
     "iopub.status.busy": "2022-03-27T00:11:31.834676Z",
     "iopub.status.idle": "2022-03-27T00:11:31.836877Z",
     "shell.execute_reply": "2022-03-27T00:11:31.837410Z"
    },
    "papermill": {
     "duration": 0.02247,
     "end_time": "2022-03-27T00:11:31.837536",
     "exception": false,
     "start_time": "2022-03-27T00:11:31.815066",
     "status": "completed"
    },
    "tags": []
   },
   "outputs": [],
   "source": [
    "required_parameters = {\n",
    "    \"experiment_name\",\n",
    "    \"lr\",\n",
    "    \"device\",\n",
    "    \"dataset_seed\",\n",
    "    \"seed\",\n",
    "    \"labels\",\n",
    "    \"domains_target\",\n",
    "    \"domains_source\",\n",
    "    \"num_examples_per_domain_per_label_source\",\n",
    "    \"num_examples_per_domain_per_label_target\",\n",
    "    \"batch_size\",\n",
    "    \"n_epoch\",\n",
    "    \"patience\",\n",
    "    \"criteria_for_best\",\n",
    "    \"normalize_source\",\n",
    "    \"normalize_target\",\n",
    "    \"x_net\",\n",
    "    \"NUM_LOGS_PER_EPOCH\",\n",
    "    \"BEST_MODEL_PATH\",\n",
    "    \"pickle_name_source\",\n",
    "    \"pickle_name_target\",\n",
    "    \"torch_default_dtype\",\n",
    "}"
   ]
  },
  {
   "cell_type": "code",
   "execution_count": 3,
   "id": "670b5fb8",
   "metadata": {
    "execution": {
     "iopub.execute_input": "2022-03-27T00:11:31.883681Z",
     "iopub.status.busy": "2022-03-27T00:11:31.882965Z",
     "iopub.status.idle": "2022-03-27T00:11:31.890650Z",
     "shell.execute_reply": "2022-03-27T00:11:31.889856Z"
    },
    "papermill": {
     "duration": 0.033552,
     "end_time": "2022-03-27T00:11:31.890804",
     "exception": false,
     "start_time": "2022-03-27T00:11:31.857252",
     "status": "completed"
    },
    "tags": [
     "parameters"
    ]
   },
   "outputs": [],
   "source": [
    "from steves_utils.ORACLE.utils_v2 import (\n",
    "    ALL_SERIAL_NUMBERS,\n",
    "    ALL_DISTANCES_FEET_NARROWED,\n",
    ")\n",
    "\n",
    "standalone_parameters = {}\n",
    "standalone_parameters[\"experiment_name\"] = \"MANUAL CORES CNN\"\n",
    "standalone_parameters[\"lr\"] = 0.0001\n",
    "standalone_parameters[\"device\"] = \"cuda\"\n",
    "\n",
    "standalone_parameters[\"dataset_seed\"] = 1337\n",
    "standalone_parameters[\"seed\"] = 1337\n",
    "standalone_parameters[\"labels\"] = ALL_SERIAL_NUMBERS\n",
    "\n",
    "standalone_parameters[\"domains_source\"] = [8,32,50]\n",
    "standalone_parameters[\"domains_target\"] = [14,20,26,38,44,]\n",
    "\n",
    "standalone_parameters[\"num_examples_per_domain_per_label_source\"]=-1\n",
    "standalone_parameters[\"num_examples_per_domain_per_label_target\"]=-1\n",
    "\n",
    "standalone_parameters[\"pickle_name_source\"] = \"oracle.Run1_framed_2000Examples_stratified_ds.2022A.pkl\"\n",
    "standalone_parameters[\"pickle_name_target\"] = \"oracle.Run2_framed_2000Examples_stratified_ds.2022A.pkl\"\n",
    "\n",
    "standalone_parameters[\"torch_default_dtype\"] = \"torch.float32\" \n",
    "\n",
    "standalone_parameters[\"batch_size\"]=128\n",
    "\n",
    "standalone_parameters[\"n_epoch\"] = 3\n",
    "\n",
    "standalone_parameters[\"patience\"] = 10\n",
    "\n",
    "standalone_parameters[\"criteria_for_best\"] = \"target_accuracy\"\n",
    "standalone_parameters[\"normalize_source\"] = False\n",
    "standalone_parameters[\"normalize_target\"] = False\n",
    "\n",
    "standalone_parameters[\"x_net\"] =     [\n",
    "    {\"class\": \"nnReshape\", \"kargs\": {\"shape\":[-1, 1, 2, 256]}},\n",
    "    {\"class\": \"Conv2d\", \"kargs\": { \"in_channels\":1, \"out_channels\":256, \"kernel_size\":(1,7), \"bias\":False, \"padding\":(0,3), },},\n",
    "    {\"class\": \"ReLU\", \"kargs\": {\"inplace\": True}},\n",
    "    {\"class\": \"BatchNorm2d\", \"kargs\": {\"num_features\":256}},\n",
    "\n",
    "    {\"class\": \"Conv2d\", \"kargs\": { \"in_channels\":256, \"out_channels\":80, \"kernel_size\":(2,7), \"bias\":True, \"padding\":(0,3), },},\n",
    "    {\"class\": \"ReLU\", \"kargs\": {\"inplace\": True}},\n",
    "    {\"class\": \"BatchNorm2d\", \"kargs\": {\"num_features\":80}},\n",
    "    {\"class\": \"Flatten\", \"kargs\": {}},\n",
    "\n",
    "    {\"class\": \"Linear\", \"kargs\": {\"in_features\": 80*256, \"out_features\": 256}}, # 80 units per IQ pair\n",
    "    {\"class\": \"ReLU\", \"kargs\": {\"inplace\": True}},\n",
    "    {\"class\": \"BatchNorm1d\", \"kargs\": {\"num_features\":256}},\n",
    "\n",
    "    {\"class\": \"Linear\", \"kargs\": {\"in_features\": 256, \"out_features\": len(standalone_parameters[\"labels\"])}},\n",
    "]\n",
    "\n",
    "standalone_parameters[\"NUM_LOGS_PER_EPOCH\"] = 10\n",
    "standalone_parameters[\"BEST_MODEL_PATH\"] = \"./best_model.pth\""
   ]
  },
  {
   "cell_type": "code",
   "execution_count": 4,
   "id": "fc04d16f",
   "metadata": {
    "execution": {
     "iopub.execute_input": "2022-03-27T00:11:31.940350Z",
     "iopub.status.busy": "2022-03-27T00:11:31.939445Z",
     "iopub.status.idle": "2022-03-27T00:11:31.942052Z",
     "shell.execute_reply": "2022-03-27T00:11:31.941266Z"
    },
    "papermill": {
     "duration": 0.03052,
     "end_time": "2022-03-27T00:11:31.942211",
     "exception": false,
     "start_time": "2022-03-27T00:11:31.911691",
     "status": "completed"
    },
    "tags": [
     "injected-parameters"
    ]
   },
   "outputs": [],
   "source": [
    "# Parameters\n",
    "parameters = {\n",
    "    \"experiment_name\": \"cnn_2:oracle.run1\",\n",
    "    \"domains_source\": [8, 32, 50, 14, 20, 26, 38, 44],\n",
    "    \"domains_target\": [8, 32, 50, 14, 20, 26, 38, 44],\n",
    "    \"labels\": [\n",
    "        \"3123D52\",\n",
    "        \"3123D65\",\n",
    "        \"3123D79\",\n",
    "        \"3123D80\",\n",
    "        \"3123D54\",\n",
    "        \"3123D70\",\n",
    "        \"3123D7B\",\n",
    "        \"3123D89\",\n",
    "        \"3123D58\",\n",
    "        \"3123D76\",\n",
    "        \"3123D7D\",\n",
    "        \"3123EFE\",\n",
    "        \"3123D64\",\n",
    "        \"3123D78\",\n",
    "        \"3123D7E\",\n",
    "        \"3124E4A\",\n",
    "    ],\n",
    "    \"pickle_name_source\": \"oracle.Run1_10kExamples_stratified_ds.2022A.pkl\",\n",
    "    \"pickle_name_target\": \"oracle.Run1_10kExamples_stratified_ds.2022A.pkl\",\n",
    "    \"device\": \"cuda\",\n",
    "    \"lr\": 0.0001,\n",
    "    \"batch_size\": 128,\n",
    "    \"normalize_source\": False,\n",
    "    \"normalize_target\": False,\n",
    "    \"num_examples_per_domain_per_label_source\": -1,\n",
    "    \"num_examples_per_domain_per_label_target\": -1,\n",
    "    \"torch_default_dtype\": \"torch.float32\",\n",
    "    \"n_epoch\": 50,\n",
    "    \"patience\": 3,\n",
    "    \"criteria_for_best\": \"target_accuracy\",\n",
    "    \"x_net\": [\n",
    "        {\"class\": \"nnReshape\", \"kargs\": {\"shape\": [-1, 1, 2, 256]}},\n",
    "        {\n",
    "            \"class\": \"Conv2d\",\n",
    "            \"kargs\": {\n",
    "                \"in_channels\": 1,\n",
    "                \"out_channels\": 256,\n",
    "                \"kernel_size\": [1, 7],\n",
    "                \"bias\": False,\n",
    "                \"padding\": [0, 3],\n",
    "            },\n",
    "        },\n",
    "        {\"class\": \"ReLU\", \"kargs\": {\"inplace\": True}},\n",
    "        {\"class\": \"BatchNorm2d\", \"kargs\": {\"num_features\": 256}},\n",
    "        {\n",
    "            \"class\": \"Conv2d\",\n",
    "            \"kargs\": {\n",
    "                \"in_channels\": 256,\n",
    "                \"out_channels\": 80,\n",
    "                \"kernel_size\": [2, 7],\n",
    "                \"bias\": True,\n",
    "                \"padding\": [0, 3],\n",
    "            },\n",
    "        },\n",
    "        {\"class\": \"ReLU\", \"kargs\": {\"inplace\": True}},\n",
    "        {\"class\": \"BatchNorm2d\", \"kargs\": {\"num_features\": 80}},\n",
    "        {\"class\": \"Flatten\", \"kargs\": {}},\n",
    "        {\"class\": \"Linear\", \"kargs\": {\"in_features\": 20480, \"out_features\": 256}},\n",
    "        {\"class\": \"ReLU\", \"kargs\": {\"inplace\": True}},\n",
    "        {\"class\": \"BatchNorm1d\", \"kargs\": {\"num_features\": 256}},\n",
    "        {\"class\": \"Linear\", \"kargs\": {\"in_features\": 256, \"out_features\": 16}},\n",
    "    ],\n",
    "    \"NUM_LOGS_PER_EPOCH\": 10,\n",
    "    \"BEST_MODEL_PATH\": \"./best_model.pth\",\n",
    "    \"dataset_seed\": 154325,\n",
    "    \"seed\": 154325,\n",
    "}\n"
   ]
  },
  {
   "cell_type": "code",
   "execution_count": 5,
   "id": "759b56ec",
   "metadata": {
    "execution": {
     "iopub.execute_input": "2022-03-27T00:11:31.980759Z",
     "iopub.status.busy": "2022-03-27T00:11:31.980188Z",
     "iopub.status.idle": "2022-03-27T00:11:31.982349Z",
     "shell.execute_reply": "2022-03-27T00:11:31.982803Z"
    },
    "papermill": {
     "duration": 0.022366,
     "end_time": "2022-03-27T00:11:31.982925",
     "exception": false,
     "start_time": "2022-03-27T00:11:31.960559",
     "status": "completed"
    },
    "tags": []
   },
   "outputs": [],
   "source": [
    "# Set this to True if you want to run this template directly\n",
    "STANDALONE = False\n",
    "if STANDALONE:\n",
    "    print(\"parameters not injected, running with standalone_parameters\")\n",
    "    parameters = standalone_parameters\n",
    "\n",
    "if not 'parameters' in locals() and not 'parameters' in globals():\n",
    "    raise Exception(\"Parameter injection failed\")\n",
    "\n",
    "#Use an easy dict for all the parameters\n",
    "p = EasyDict(parameters)\n",
    "\n",
    "supplied_keys = set(p.keys())\n",
    "\n",
    "if  supplied_keys != required_parameters:\n",
    "    print(\"Parameters are incorrect\")\n",
    "    if len(supplied_keys - required_parameters)>0: print(\"Shouldn't have:\", str(supplied_keys - required_parameters))\n",
    "    if len(required_parameters - supplied_keys)>0: print(\"Need to have:\", str(required_parameters - supplied_keys))\n",
    "    raise RuntimeError(\"Parameters are incorrect\")\n",
    "\n"
   ]
  },
  {
   "cell_type": "code",
   "execution_count": 6,
   "id": "d5c66a71",
   "metadata": {
    "execution": {
     "iopub.execute_input": "2022-03-27T00:11:32.018801Z",
     "iopub.status.busy": "2022-03-27T00:11:32.018243Z",
     "iopub.status.idle": "2022-03-27T00:11:32.021953Z",
     "shell.execute_reply": "2022-03-27T00:11:32.022412Z"
    },
    "papermill": {
     "duration": 0.021827,
     "end_time": "2022-03-27T00:11:32.022533",
     "exception": false,
     "start_time": "2022-03-27T00:11:32.000706",
     "status": "completed"
    },
    "tags": []
   },
   "outputs": [],
   "source": [
    "###################################\n",
    "# Set the RNGs and make it all deterministic\n",
    "###################################\n",
    "np.random.seed(p.seed)\n",
    "random.seed(p.seed)\n",
    "torch.manual_seed(p.seed)\n",
    "\n",
    "torch.use_deterministic_algorithms(True) "
   ]
  },
  {
   "cell_type": "code",
   "execution_count": 7,
   "id": "92a65876",
   "metadata": {
    "execution": {
     "iopub.execute_input": "2022-03-27T00:11:32.059036Z",
     "iopub.status.busy": "2022-03-27T00:11:32.058490Z",
     "iopub.status.idle": "2022-03-27T00:11:32.060875Z",
     "shell.execute_reply": "2022-03-27T00:11:32.061328Z"
    },
    "papermill": {
     "duration": 0.020815,
     "end_time": "2022-03-27T00:11:32.061450",
     "exception": false,
     "start_time": "2022-03-27T00:11:32.040635",
     "status": "completed"
    },
    "tags": []
   },
   "outputs": [],
   "source": [
    "torch.set_default_dtype(eval(p.torch_default_dtype))"
   ]
  },
  {
   "cell_type": "code",
   "execution_count": 8,
   "id": "f1a32f01",
   "metadata": {
    "execution": {
     "iopub.execute_input": "2022-03-27T00:11:32.098238Z",
     "iopub.status.busy": "2022-03-27T00:11:32.097693Z",
     "iopub.status.idle": "2022-03-27T00:11:32.140150Z",
     "shell.execute_reply": "2022-03-27T00:11:32.139379Z"
    },
    "papermill": {
     "duration": 0.060222,
     "end_time": "2022-03-27T00:11:32.140342",
     "exception": false,
     "start_time": "2022-03-27T00:11:32.080120",
     "status": "completed"
    },
    "tags": []
   },
   "outputs": [],
   "source": [
    "###################################\n",
    "# Build the network(s)\n",
    "# Note: It's critical to do this AFTER setting the RNG\n",
    "###################################\n",
    "x_net = build_sequential(p.x_net)"
   ]
  },
  {
   "cell_type": "code",
   "execution_count": 9,
   "id": "a276cd83",
   "metadata": {
    "execution": {
     "iopub.execute_input": "2022-03-27T00:11:32.177309Z",
     "iopub.status.busy": "2022-03-27T00:11:32.176761Z",
     "iopub.status.idle": "2022-03-27T00:11:32.179506Z",
     "shell.execute_reply": "2022-03-27T00:11:32.179026Z"
    },
    "papermill": {
     "duration": 0.020703,
     "end_time": "2022-03-27T00:11:32.179620",
     "exception": false,
     "start_time": "2022-03-27T00:11:32.158917",
     "status": "completed"
    },
    "tags": []
   },
   "outputs": [],
   "source": [
    "start_time_secs = time.time()"
   ]
  },
  {
   "cell_type": "code",
   "execution_count": 10,
   "id": "de702e48",
   "metadata": {
    "execution": {
     "iopub.execute_input": "2022-03-27T00:11:32.223381Z",
     "iopub.status.busy": "2022-03-27T00:11:32.222542Z",
     "iopub.status.idle": "2022-03-27T00:12:09.837861Z",
     "shell.execute_reply": "2022-03-27T00:12:09.837128Z"
    },
    "papermill": {
     "duration": 37.641593,
     "end_time": "2022-03-27T00:12:09.838047",
     "exception": false,
     "start_time": "2022-03-27T00:11:32.196454",
     "status": "completed"
    },
    "tags": []
   },
   "outputs": [],
   "source": [
    "def wrap_in_dataloader(p, ds):\n",
    "    return torch.utils.data.DataLoader(\n",
    "        ds,\n",
    "        batch_size=p.batch_size,\n",
    "        shuffle=True,\n",
    "        num_workers=1,\n",
    "        persistent_workers=True,\n",
    "        prefetch_factor=50,\n",
    "        pin_memory=True\n",
    "    )\n",
    "\n",
    "taf_source = Traditional_Accessor_Factory(\n",
    "    labels=p.labels,\n",
    "    domains=p.domains_source,\n",
    "    num_examples_per_domain_per_label=p.num_examples_per_domain_per_label_source,\n",
    "    pickle_path=os.path.join(get_datasets_base_path(), p.pickle_name_source),\n",
    "    seed=p.dataset_seed\n",
    ")\n",
    "train_original_source, val_original_source, test_original_source = \\\n",
    "    taf_source.get_train(), taf_source.get_val(), taf_source.get_test()\n",
    "\n",
    "\n",
    "taf_target = Traditional_Accessor_Factory(\n",
    "    labels=p.labels,\n",
    "    domains=p.domains_target,\n",
    "    num_examples_per_domain_per_label=p.num_examples_per_domain_per_label_source,\n",
    "    pickle_path=os.path.join(get_datasets_base_path(), p.pickle_name_target),\n",
    "    seed=p.dataset_seed\n",
    ")\n",
    "train_original_target, val_original_target, test_original_target = \\\n",
    "    taf_target.get_train(), taf_target.get_val(), taf_target.get_test()\n",
    "\n",
    "\n",
    "# For CNN We only use X and Y. And we only train on the source.\n",
    "# Properly form the data using a transform lambda and Lazy_Map. Finally wrap them in a dataloader\n",
    "\n",
    "transform_lambda = lambda ex: ex[:2] # Strip the tuple to just (x,y)\n",
    "\n",
    "\n",
    "train_processed_source = wrap_in_dataloader(\n",
    "    p,\n",
    "    Lazy_Map(train_original_source, transform_lambda)\n",
    ")\n",
    "val_processed_source = wrap_in_dataloader(\n",
    "    p,\n",
    "    Lazy_Map(val_original_source, transform_lambda)\n",
    ")\n",
    "test_processed_source = wrap_in_dataloader(\n",
    "    p,\n",
    "    Lazy_Map(test_original_source, transform_lambda)\n",
    ")\n",
    "\n",
    "train_processed_target = wrap_in_dataloader(\n",
    "    p,\n",
    "    Lazy_Map(train_original_target, transform_lambda)\n",
    ")\n",
    "val_processed_target = wrap_in_dataloader(\n",
    "    p,\n",
    "    Lazy_Map(val_original_target, transform_lambda)\n",
    ")\n",
    "test_processed_target  = wrap_in_dataloader(\n",
    "    p,\n",
    "    Lazy_Map(test_original_target, transform_lambda)\n",
    ")\n",
    "\n",
    "\n",
    "\n",
    "datasets = EasyDict({\n",
    "    \"source\": {\n",
    "        \"original\": {\"train\":train_original_source, \"val\":val_original_source, \"test\":test_original_source},\n",
    "        \"processed\": {\"train\":train_processed_source, \"val\":val_processed_source, \"test\":test_processed_source}\n",
    "    },\n",
    "    \"target\": {\n",
    "        \"original\": {\"train\":train_original_target, \"val\":val_original_target, \"test\":test_original_target},\n",
    "        \"processed\": {\"train\":train_processed_target, \"val\":val_processed_target, \"test\":test_processed_target}\n",
    "    },\n",
    "})"
   ]
  },
  {
   "cell_type": "code",
   "execution_count": 11,
   "id": "a11b26bd",
   "metadata": {
    "execution": {
     "iopub.execute_input": "2022-03-27T00:12:09.921422Z",
     "iopub.status.busy": "2022-03-27T00:12:09.920605Z",
     "iopub.status.idle": "2022-03-27T00:12:15.522552Z",
     "shell.execute_reply": "2022-03-27T00:12:15.521842Z"
    },
    "papermill": {
     "duration": 5.661954,
     "end_time": "2022-03-27T00:12:15.522733",
     "exception": false,
     "start_time": "2022-03-27T00:12:09.860779",
     "status": "completed"
    },
    "tags": []
   },
   "outputs": [
    {
     "data": {
      "text/plain": [
       "torch.float32"
      ]
     },
     "execution_count": 11,
     "metadata": {},
     "output_type": "execute_result"
    }
   ],
   "source": [
    "ep = next(iter(test_processed_target))\n",
    "ep[0].dtype"
   ]
  },
  {
   "cell_type": "code",
   "execution_count": 12,
   "id": "19425fad",
   "metadata": {
    "execution": {
     "iopub.execute_input": "2022-03-27T00:12:15.561866Z",
     "iopub.status.busy": "2022-03-27T00:12:15.561225Z",
     "iopub.status.idle": "2022-03-27T00:12:15.608896Z",
     "shell.execute_reply": "2022-03-27T00:12:15.608121Z"
    },
    "papermill": {
     "duration": 0.067992,
     "end_time": "2022-03-27T00:12:15.609084",
     "exception": false,
     "start_time": "2022-03-27T00:12:15.541092",
     "status": "completed"
    },
    "tags": []
   },
   "outputs": [],
   "source": [
    "model = Configurable_Vanilla(\n",
    "    x_net=x_net,\n",
    "    label_loss_object=torch.nn.NLLLoss(),\n",
    "    learning_rate=p.lr\n",
    ")"
   ]
  },
  {
   "cell_type": "code",
   "execution_count": 13,
   "id": "7f6d4f2c",
   "metadata": {
    "execution": {
     "iopub.execute_input": "2022-03-27T00:12:15.648548Z",
     "iopub.status.busy": "2022-03-27T00:12:15.648173Z",
     "iopub.status.idle": "2022-03-27T00:30:55.051239Z",
     "shell.execute_reply": "2022-03-27T00:30:55.050903Z"
    },
    "papermill": {
     "duration": 1119.423104,
     "end_time": "2022-03-27T00:30:55.051333",
     "exception": false,
     "start_time": "2022-03-27T00:12:15.628229",
     "status": "completed"
    },
    "tags": []
   },
   "outputs": [
    {
     "name": "stdout",
     "output_type": "stream",
     "text": [
      "epoch: 1, [batch: 1 / 7000], examples_per_second: 420.7248, train_label_loss: 2.7976, \n"
     ]
    },
    {
     "name": "stdout",
     "output_type": "stream",
     "text": [
      "epoch: 1, [batch: 700 / 7000], examples_per_second: 11720.8352, train_label_loss: 2.6081, \n"
     ]
    },
    {
     "name": "stdout",
     "output_type": "stream",
     "text": [
      "epoch: 1, [batch: 1400 / 7000], examples_per_second: 11877.7501, train_label_loss: 2.4690, \n"
     ]
    },
    {
     "name": "stdout",
     "output_type": "stream",
     "text": [
      "epoch: 1, [batch: 2100 / 7000], examples_per_second: 11725.0343, train_label_loss: 2.2814, \n"
     ]
    },
    {
     "name": "stdout",
     "output_type": "stream",
     "text": [
      "epoch: 1, [batch: 2800 / 7000], examples_per_second: 10705.3600, train_label_loss: 2.1113, \n"
     ]
    },
    {
     "name": "stdout",
     "output_type": "stream",
     "text": [
      "epoch: 1, [batch: 3500 / 7000], examples_per_second: 11197.9453, train_label_loss: 1.8761, \n"
     ]
    },
    {
     "name": "stdout",
     "output_type": "stream",
     "text": [
      "epoch: 1, [batch: 4200 / 7000], examples_per_second: 11699.9486, train_label_loss: 1.6116, \n"
     ]
    },
    {
     "name": "stdout",
     "output_type": "stream",
     "text": [
      "epoch: 1, [batch: 4900 / 7000], examples_per_second: 11700.4178, train_label_loss: 1.7628, \n"
     ]
    },
    {
     "name": "stdout",
     "output_type": "stream",
     "text": [
      "epoch: 1, [batch: 5600 / 7000], examples_per_second: 11557.9608, train_label_loss: 1.4754, \n"
     ]
    },
    {
     "name": "stdout",
     "output_type": "stream",
     "text": [
      "epoch: 1, [batch: 6300 / 7000], examples_per_second: 11525.3734, train_label_loss: 1.4425, \n"
     ]
    },
    {
     "name": "stdout",
     "output_type": "stream",
     "text": [
      "=============================================================\n",
      "epoch: 1, source_val_acc_label: 0.5756, source_val_label_loss: 1.2686, target_val_acc_label: 0.5756, target_val_label_loss: 1.2686, \n",
      "=============================================================\n"
     ]
    },
    {
     "name": "stdout",
     "output_type": "stream",
     "text": [
      "New best\n",
      "epoch: 2, [batch: 1 / 7000], examples_per_second: 12.2750, train_label_loss: 1.3078, \n"
     ]
    },
    {
     "name": "stdout",
     "output_type": "stream",
     "text": [
      "epoch: 2, [batch: 700 / 7000], examples_per_second: 11638.4006, train_label_loss: 1.3633, \n"
     ]
    },
    {
     "name": "stdout",
     "output_type": "stream",
     "text": [
      "epoch: 2, [batch: 1400 / 7000], examples_per_second: 12129.6861, train_label_loss: 1.1544, \n"
     ]
    },
    {
     "name": "stdout",
     "output_type": "stream",
     "text": [
      "epoch: 2, [batch: 2100 / 7000], examples_per_second: 10704.8678, train_label_loss: 1.3141, \n"
     ]
    },
    {
     "name": "stdout",
     "output_type": "stream",
     "text": [
      "epoch: 2, [batch: 2800 / 7000], examples_per_second: 10654.0902, train_label_loss: 1.1710, \n"
     ]
    },
    {
     "name": "stdout",
     "output_type": "stream",
     "text": [
      "epoch: 2, [batch: 3500 / 7000], examples_per_second: 10674.7559, train_label_loss: 1.0783, \n"
     ]
    },
    {
     "name": "stdout",
     "output_type": "stream",
     "text": [
      "epoch: 2, [batch: 4200 / 7000], examples_per_second: 10623.8121, train_label_loss: 1.0363, \n"
     ]
    },
    {
     "name": "stdout",
     "output_type": "stream",
     "text": [
      "epoch: 2, [batch: 4900 / 7000], examples_per_second: 10654.6873, train_label_loss: 0.9885, \n"
     ]
    },
    {
     "name": "stdout",
     "output_type": "stream",
     "text": [
      "epoch: 2, [batch: 5600 / 7000], examples_per_second: 10627.6997, train_label_loss: 1.0587, \n"
     ]
    },
    {
     "name": "stdout",
     "output_type": "stream",
     "text": [
      "epoch: 2, [batch: 6300 / 7000], examples_per_second: 10623.1691, train_label_loss: 0.8143, \n"
     ]
    },
    {
     "name": "stdout",
     "output_type": "stream",
     "text": [
      "=============================================================\n",
      "epoch: 2, source_val_acc_label: 0.6813, source_val_label_loss: 0.9224, target_val_acc_label: 0.6813, target_val_label_loss: 0.9224, \n",
      "=============================================================\n"
     ]
    },
    {
     "name": "stdout",
     "output_type": "stream",
     "text": [
      "New best\n",
      "epoch: 3, [batch: 1 / 7000], examples_per_second: 11.5778, train_label_loss: 0.8692, \n"
     ]
    },
    {
     "name": "stdout",
     "output_type": "stream",
     "text": [
      "epoch: 3, [batch: 700 / 7000], examples_per_second: 10616.2914, train_label_loss: 0.7523, \n"
     ]
    },
    {
     "name": "stdout",
     "output_type": "stream",
     "text": [
      "epoch: 3, [batch: 1400 / 7000], examples_per_second: 10673.7863, train_label_loss: 0.8099, \n"
     ]
    },
    {
     "name": "stdout",
     "output_type": "stream",
     "text": [
      "epoch: 3, [batch: 2100 / 7000], examples_per_second: 10515.4226, train_label_loss: 0.8451, \n"
     ]
    },
    {
     "name": "stdout",
     "output_type": "stream",
     "text": [
      "epoch: 3, [batch: 2800 / 7000], examples_per_second: 10625.8511, train_label_loss: 0.6699, \n"
     ]
    },
    {
     "name": "stdout",
     "output_type": "stream",
     "text": [
      "epoch: 3, [batch: 3500 / 7000], examples_per_second: 10634.5563, train_label_loss: 0.8923, \n"
     ]
    },
    {
     "name": "stdout",
     "output_type": "stream",
     "text": [
      "epoch: 3, [batch: 4200 / 7000], examples_per_second: 10548.5868, train_label_loss: 0.6642, \n"
     ]
    },
    {
     "name": "stdout",
     "output_type": "stream",
     "text": [
      "epoch: 3, [batch: 4900 / 7000], examples_per_second: 10626.1767, train_label_loss: 0.9011, \n"
     ]
    },
    {
     "name": "stdout",
     "output_type": "stream",
     "text": [
      "epoch: 3, [batch: 5600 / 7000], examples_per_second: 10668.0985, train_label_loss: 0.7451, \n"
     ]
    },
    {
     "name": "stdout",
     "output_type": "stream",
     "text": [
      "epoch: 3, [batch: 6300 / 7000], examples_per_second: 10649.9716, train_label_loss: 0.7236, \n"
     ]
    },
    {
     "name": "stdout",
     "output_type": "stream",
     "text": [
      "=============================================================\n",
      "epoch: 3, source_val_acc_label: 0.7113, source_val_label_loss: 0.7960, target_val_acc_label: 0.7113, target_val_label_loss: 0.7960, \n",
      "=============================================================\n"
     ]
    },
    {
     "name": "stdout",
     "output_type": "stream",
     "text": [
      "New best\n",
      "epoch: 4, [batch: 1 / 7000], examples_per_second: 11.5134, train_label_loss: 0.9205, \n"
     ]
    },
    {
     "name": "stdout",
     "output_type": "stream",
     "text": [
      "epoch: 4, [batch: 700 / 7000], examples_per_second: 10661.5322, train_label_loss: 0.5305, \n"
     ]
    },
    {
     "name": "stdout",
     "output_type": "stream",
     "text": [
      "epoch: 4, [batch: 1400 / 7000], examples_per_second: 10660.1374, train_label_loss: 0.6485, \n"
     ]
    },
    {
     "name": "stdout",
     "output_type": "stream",
     "text": [
      "epoch: 4, [batch: 2100 / 7000], examples_per_second: 10648.6927, train_label_loss: 0.7359, \n"
     ]
    },
    {
     "name": "stdout",
     "output_type": "stream",
     "text": [
      "epoch: 4, [batch: 2800 / 7000], examples_per_second: 11416.8680, train_label_loss: 0.5961, \n"
     ]
    },
    {
     "name": "stdout",
     "output_type": "stream",
     "text": [
      "epoch: 4, [batch: 3500 / 7000], examples_per_second: 11637.7538, train_label_loss: 0.5600, \n"
     ]
    },
    {
     "name": "stdout",
     "output_type": "stream",
     "text": [
      "epoch: 4, [batch: 4200 / 7000], examples_per_second: 11652.9459, train_label_loss: 0.6924, \n"
     ]
    },
    {
     "name": "stdout",
     "output_type": "stream",
     "text": [
      "epoch: 4, [batch: 4900 / 7000], examples_per_second: 11639.5509, train_label_loss: 0.8474, \n"
     ]
    },
    {
     "name": "stdout",
     "output_type": "stream",
     "text": [
      "epoch: 4, [batch: 5600 / 7000], examples_per_second: 11703.7745, train_label_loss: 0.6905, \n"
     ]
    },
    {
     "name": "stdout",
     "output_type": "stream",
     "text": [
      "epoch: 4, [batch: 6300 / 7000], examples_per_second: 11781.5881, train_label_loss: 0.5763, \n"
     ]
    },
    {
     "name": "stdout",
     "output_type": "stream",
     "text": [
      "=============================================================\n",
      "epoch: 4, source_val_acc_label: 0.7541, source_val_label_loss: 0.6707, target_val_acc_label: 0.7541, target_val_label_loss: 0.6707, \n",
      "=============================================================\n"
     ]
    },
    {
     "name": "stdout",
     "output_type": "stream",
     "text": [
      "New best\n",
      "epoch: 5, [batch: 1 / 7000], examples_per_second: 13.1071, train_label_loss: 0.4201, \n"
     ]
    },
    {
     "name": "stdout",
     "output_type": "stream",
     "text": [
      "epoch: 5, [batch: 700 / 7000], examples_per_second: 12081.4022, train_label_loss: 0.5936, \n"
     ]
    },
    {
     "name": "stdout",
     "output_type": "stream",
     "text": [
      "epoch: 5, [batch: 1400 / 7000], examples_per_second: 13079.0294, train_label_loss: 0.4585, \n"
     ]
    },
    {
     "name": "stdout",
     "output_type": "stream",
     "text": [
      "epoch: 5, [batch: 2100 / 7000], examples_per_second: 11706.7407, train_label_loss: 0.7516, \n"
     ]
    },
    {
     "name": "stdout",
     "output_type": "stream",
     "text": [
      "epoch: 5, [batch: 2800 / 7000], examples_per_second: 11742.9789, train_label_loss: 0.6030, \n"
     ]
    },
    {
     "name": "stdout",
     "output_type": "stream",
     "text": [
      "epoch: 5, [batch: 3500 / 7000], examples_per_second: 11724.1630, train_label_loss: 0.5970, \n"
     ]
    },
    {
     "name": "stdout",
     "output_type": "stream",
     "text": [
      "epoch: 5, [batch: 4200 / 7000], examples_per_second: 11850.1683, train_label_loss: 0.6086, \n"
     ]
    },
    {
     "name": "stdout",
     "output_type": "stream",
     "text": [
      "epoch: 5, [batch: 4900 / 7000], examples_per_second: 11736.0157, train_label_loss: 0.5867, \n"
     ]
    },
    {
     "name": "stdout",
     "output_type": "stream",
     "text": [
      "epoch: 5, [batch: 5600 / 7000], examples_per_second: 11754.9995, train_label_loss: 0.6820, \n"
     ]
    },
    {
     "name": "stdout",
     "output_type": "stream",
     "text": [
      "epoch: 5, [batch: 6300 / 7000], examples_per_second: 11671.4667, train_label_loss: 0.6514, \n"
     ]
    },
    {
     "name": "stdout",
     "output_type": "stream",
     "text": [
      "=============================================================\n",
      "epoch: 5, source_val_acc_label: 0.7751, source_val_label_loss: 0.6180, target_val_acc_label: 0.7751, target_val_label_loss: 0.6180, \n",
      "=============================================================\n"
     ]
    },
    {
     "name": "stdout",
     "output_type": "stream",
     "text": [
      "New best\n",
      "epoch: 6, [batch: 1 / 7000], examples_per_second: 13.1848, train_label_loss: 0.4365, \n"
     ]
    },
    {
     "name": "stdout",
     "output_type": "stream",
     "text": [
      "epoch: 6, [batch: 700 / 7000], examples_per_second: 10709.3035, train_label_loss: 0.7006, \n"
     ]
    },
    {
     "name": "stdout",
     "output_type": "stream",
     "text": [
      "epoch: 6, [batch: 1400 / 7000], examples_per_second: 10716.9910, train_label_loss: 0.5028, \n"
     ]
    },
    {
     "name": "stdout",
     "output_type": "stream",
     "text": [
      "epoch: 6, [batch: 2100 / 7000], examples_per_second: 10751.9463, train_label_loss: 0.3077, \n"
     ]
    },
    {
     "name": "stdout",
     "output_type": "stream",
     "text": [
      "epoch: 6, [batch: 2800 / 7000], examples_per_second: 10698.9189, train_label_loss: 0.5818, \n"
     ]
    },
    {
     "name": "stdout",
     "output_type": "stream",
     "text": [
      "epoch: 6, [batch: 3500 / 7000], examples_per_second: 10734.7520, train_label_loss: 0.5748, \n"
     ]
    },
    {
     "name": "stdout",
     "output_type": "stream",
     "text": [
      "epoch: 6, [batch: 4200 / 7000], examples_per_second: 10699.2674, train_label_loss: 0.3984, \n"
     ]
    },
    {
     "name": "stdout",
     "output_type": "stream",
     "text": [
      "epoch: 6, [batch: 4900 / 7000], examples_per_second: 10723.0007, train_label_loss: 0.6492, \n"
     ]
    },
    {
     "name": "stdout",
     "output_type": "stream",
     "text": [
      "epoch: 6, [batch: 5600 / 7000], examples_per_second: 10719.3916, train_label_loss: 0.4891, \n"
     ]
    },
    {
     "name": "stdout",
     "output_type": "stream",
     "text": [
      "epoch: 6, [batch: 6300 / 7000], examples_per_second: 10736.7658, train_label_loss: 0.5071, \n"
     ]
    },
    {
     "name": "stdout",
     "output_type": "stream",
     "text": [
      "=============================================================\n",
      "epoch: 6, source_val_acc_label: 0.7576, source_val_label_loss: 0.6624, target_val_acc_label: 0.7576, target_val_label_loss: 0.6624, \n",
      "=============================================================\n"
     ]
    },
    {
     "name": "stdout",
     "output_type": "stream",
     "text": [
      "epoch: 7, [batch: 1 / 7000], examples_per_second: 11.5991, train_label_loss: 0.4820, \n"
     ]
    },
    {
     "name": "stdout",
     "output_type": "stream",
     "text": [
      "epoch: 7, [batch: 700 / 7000], examples_per_second: 10689.6854, train_label_loss: 0.6110, \n"
     ]
    },
    {
     "name": "stdout",
     "output_type": "stream",
     "text": [
      "epoch: 7, [batch: 1400 / 7000], examples_per_second: 10711.1859, train_label_loss: 0.5034, \n"
     ]
    },
    {
     "name": "stdout",
     "output_type": "stream",
     "text": [
      "epoch: 7, [batch: 2100 / 7000], examples_per_second: 10742.3342, train_label_loss: 0.5109, \n"
     ]
    },
    {
     "name": "stdout",
     "output_type": "stream",
     "text": [
      "epoch: 7, [batch: 2800 / 7000], examples_per_second: 10690.8614, train_label_loss: 0.4097, \n"
     ]
    },
    {
     "name": "stdout",
     "output_type": "stream",
     "text": [
      "epoch: 7, [batch: 3500 / 7000], examples_per_second: 10712.3770, train_label_loss: 0.2856, \n"
     ]
    },
    {
     "name": "stdout",
     "output_type": "stream",
     "text": [
      "epoch: 7, [batch: 4200 / 7000], examples_per_second: 10710.3984, train_label_loss: 0.5195, \n"
     ]
    },
    {
     "name": "stdout",
     "output_type": "stream",
     "text": [
      "epoch: 7, [batch: 4900 / 7000], examples_per_second: 10652.9447, train_label_loss: 0.4198, \n"
     ]
    },
    {
     "name": "stdout",
     "output_type": "stream",
     "text": [
      "epoch: 7, [batch: 5600 / 7000], examples_per_second: 10731.9204, train_label_loss: 0.5296, \n"
     ]
    },
    {
     "name": "stdout",
     "output_type": "stream",
     "text": [
      "epoch: 7, [batch: 6300 / 7000], examples_per_second: 10698.7938, train_label_loss: 0.3040, \n"
     ]
    },
    {
     "name": "stdout",
     "output_type": "stream",
     "text": [
      "=============================================================\n",
      "epoch: 7, source_val_acc_label: 0.7771, source_val_label_loss: 0.6068, target_val_acc_label: 0.7771, target_val_label_loss: 0.6068, \n",
      "=============================================================\n"
     ]
    },
    {
     "name": "stdout",
     "output_type": "stream",
     "text": [
      "New best\n",
      "epoch: 8, [batch: 1 / 7000], examples_per_second: 11.5068, train_label_loss: 0.4254, \n"
     ]
    },
    {
     "name": "stdout",
     "output_type": "stream",
     "text": [
      "epoch: 8, [batch: 700 / 7000], examples_per_second: 10740.2350, train_label_loss: 0.7570, \n"
     ]
    },
    {
     "name": "stdout",
     "output_type": "stream",
     "text": [
      "epoch: 8, [batch: 1400 / 7000], examples_per_second: 10720.7998, train_label_loss: 0.2325, \n"
     ]
    },
    {
     "name": "stdout",
     "output_type": "stream",
     "text": [
      "epoch: 8, [batch: 2100 / 7000], examples_per_second: 10692.0957, train_label_loss: 0.5068, \n"
     ]
    },
    {
     "name": "stdout",
     "output_type": "stream",
     "text": [
      "epoch: 8, [batch: 2800 / 7000], examples_per_second: 11667.6235, train_label_loss: 0.5347, \n"
     ]
    },
    {
     "name": "stdout",
     "output_type": "stream",
     "text": [
      "epoch: 8, [batch: 3500 / 7000], examples_per_second: 11734.4605, train_label_loss: 0.4531, \n"
     ]
    },
    {
     "name": "stdout",
     "output_type": "stream",
     "text": [
      "epoch: 8, [batch: 4200 / 7000], examples_per_second: 11770.6392, train_label_loss: 0.4732, \n"
     ]
    },
    {
     "name": "stdout",
     "output_type": "stream",
     "text": [
      "epoch: 8, [batch: 4900 / 7000], examples_per_second: 11781.3181, train_label_loss: 0.2729, \n"
     ]
    },
    {
     "name": "stdout",
     "output_type": "stream",
     "text": [
      "epoch: 8, [batch: 5600 / 7000], examples_per_second: 11756.3399, train_label_loss: 0.4160, \n"
     ]
    },
    {
     "name": "stdout",
     "output_type": "stream",
     "text": [
      "epoch: 8, [batch: 6300 / 7000], examples_per_second: 11859.2703, train_label_loss: 0.3740, \n"
     ]
    },
    {
     "name": "stdout",
     "output_type": "stream",
     "text": [
      "=============================================================\n",
      "epoch: 8, source_val_acc_label: 0.7861, source_val_label_loss: 0.5867, target_val_acc_label: 0.7861, target_val_label_loss: 0.5867, \n",
      "=============================================================\n"
     ]
    },
    {
     "name": "stdout",
     "output_type": "stream",
     "text": [
      "New best\n",
      "epoch: 9, [batch: 1 / 7000], examples_per_second: 13.5487, train_label_loss: 0.4939, \n"
     ]
    },
    {
     "name": "stdout",
     "output_type": "stream",
     "text": [
      "epoch: 9, [batch: 700 / 7000], examples_per_second: 13210.6835, train_label_loss: 0.6294, \n"
     ]
    },
    {
     "name": "stdout",
     "output_type": "stream",
     "text": [
      "epoch: 9, [batch: 1400 / 7000], examples_per_second: 13057.6908, train_label_loss: 0.5838, \n"
     ]
    },
    {
     "name": "stdout",
     "output_type": "stream",
     "text": [
      "epoch: 9, [batch: 2100 / 7000], examples_per_second: 11722.1213, train_label_loss: 0.4352, \n"
     ]
    },
    {
     "name": "stdout",
     "output_type": "stream",
     "text": [
      "epoch: 9, [batch: 2800 / 7000], examples_per_second: 11826.7360, train_label_loss: 0.3021, \n"
     ]
    },
    {
     "name": "stdout",
     "output_type": "stream",
     "text": [
      "epoch: 9, [batch: 3500 / 7000], examples_per_second: 11756.9291, train_label_loss: 0.2839, \n"
     ]
    },
    {
     "name": "stdout",
     "output_type": "stream",
     "text": [
      "epoch: 9, [batch: 4200 / 7000], examples_per_second: 11764.1263, train_label_loss: 0.3921, \n"
     ]
    },
    {
     "name": "stdout",
     "output_type": "stream",
     "text": [
      "epoch: 9, [batch: 4900 / 7000], examples_per_second: 11752.2760, train_label_loss: 0.6120, \n"
     ]
    },
    {
     "name": "stdout",
     "output_type": "stream",
     "text": [
      "epoch: 9, [batch: 5600 / 7000], examples_per_second: 11768.0352, train_label_loss: 0.3650, \n"
     ]
    },
    {
     "name": "stdout",
     "output_type": "stream",
     "text": [
      "epoch: 9, [batch: 6300 / 7000], examples_per_second: 12201.2912, train_label_loss: 0.3398, \n"
     ]
    },
    {
     "name": "stdout",
     "output_type": "stream",
     "text": [
      "=============================================================\n",
      "epoch: 9, source_val_acc_label: 0.7833, source_val_label_loss: 0.6020, target_val_acc_label: 0.7833, target_val_label_loss: 0.6020, \n",
      "=============================================================\n"
     ]
    },
    {
     "name": "stdout",
     "output_type": "stream",
     "text": [
      "epoch: 10, [batch: 1 / 7000], examples_per_second: 11.7217, train_label_loss: 0.4091, \n"
     ]
    },
    {
     "name": "stdout",
     "output_type": "stream",
     "text": [
      "epoch: 10, [batch: 700 / 7000], examples_per_second: 10708.8799, train_label_loss: 0.2583, \n"
     ]
    },
    {
     "name": "stdout",
     "output_type": "stream",
     "text": [
      "epoch: 10, [batch: 1400 / 7000], examples_per_second: 10689.0378, train_label_loss: 0.2498, \n"
     ]
    },
    {
     "name": "stdout",
     "output_type": "stream",
     "text": [
      "epoch: 10, [batch: 2100 / 7000], examples_per_second: 10729.7443, train_label_loss: 0.2660, \n"
     ]
    },
    {
     "name": "stdout",
     "output_type": "stream",
     "text": [
      "epoch: 10, [batch: 2800 / 7000], examples_per_second: 10718.5487, train_label_loss: 0.3372, \n"
     ]
    },
    {
     "name": "stdout",
     "output_type": "stream",
     "text": [
      "epoch: 10, [batch: 3500 / 7000], examples_per_second: 10686.3117, train_label_loss: 0.3081, \n"
     ]
    },
    {
     "name": "stdout",
     "output_type": "stream",
     "text": [
      "epoch: 10, [batch: 4200 / 7000], examples_per_second: 10695.7601, train_label_loss: 0.4214, \n"
     ]
    },
    {
     "name": "stdout",
     "output_type": "stream",
     "text": [
      "epoch: 10, [batch: 4900 / 7000], examples_per_second: 10710.2552, train_label_loss: 0.3732, \n"
     ]
    },
    {
     "name": "stdout",
     "output_type": "stream",
     "text": [
      "epoch: 10, [batch: 5600 / 7000], examples_per_second: 10694.5103, train_label_loss: 0.3667, \n"
     ]
    },
    {
     "name": "stdout",
     "output_type": "stream",
     "text": [
      "epoch: 10, [batch: 6300 / 7000], examples_per_second: 10691.7884, train_label_loss: 0.4933, \n"
     ]
    },
    {
     "name": "stdout",
     "output_type": "stream",
     "text": [
      "=============================================================\n",
      "epoch: 10, source_val_acc_label: 0.7756, source_val_label_loss: 0.6299, target_val_acc_label: 0.7756, target_val_label_loss: 0.6299, \n",
      "=============================================================\n"
     ]
    },
    {
     "name": "stdout",
     "output_type": "stream",
     "text": [
      "epoch: 11, [batch: 1 / 7000], examples_per_second: 11.5114, train_label_loss: 0.2441, \n"
     ]
    },
    {
     "name": "stdout",
     "output_type": "stream",
     "text": [
      "epoch: 11, [batch: 700 / 7000], examples_per_second: 10693.2805, train_label_loss: 0.4249, \n"
     ]
    },
    {
     "name": "stdout",
     "output_type": "stream",
     "text": [
      "epoch: 11, [batch: 1400 / 7000], examples_per_second: 10701.6210, train_label_loss: 0.2897, \n"
     ]
    },
    {
     "name": "stdout",
     "output_type": "stream",
     "text": [
      "epoch: 11, [batch: 2100 / 7000], examples_per_second: 10744.4571, train_label_loss: 0.5027, \n"
     ]
    },
    {
     "name": "stdout",
     "output_type": "stream",
     "text": [
      "epoch: 11, [batch: 2800 / 7000], examples_per_second: 10692.0680, train_label_loss: 0.3426, \n"
     ]
    },
    {
     "name": "stdout",
     "output_type": "stream",
     "text": [
      "epoch: 11, [batch: 3500 / 7000], examples_per_second: 10736.0750, train_label_loss: 0.5520, \n"
     ]
    },
    {
     "name": "stdout",
     "output_type": "stream",
     "text": [
      "epoch: 11, [batch: 4200 / 7000], examples_per_second: 10753.5169, train_label_loss: 0.2357, \n"
     ]
    },
    {
     "name": "stdout",
     "output_type": "stream",
     "text": [
      "epoch: 11, [batch: 4900 / 7000], examples_per_second: 10728.3715, train_label_loss: 0.4623, \n"
     ]
    },
    {
     "name": "stdout",
     "output_type": "stream",
     "text": [
      "epoch: 11, [batch: 5600 / 7000], examples_per_second: 10659.0580, train_label_loss: 0.4972, \n"
     ]
    },
    {
     "name": "stdout",
     "output_type": "stream",
     "text": [
      "epoch: 11, [batch: 6300 / 7000], examples_per_second: 10701.1877, train_label_loss: 0.4198, \n"
     ]
    },
    {
     "name": "stdout",
     "output_type": "stream",
     "text": [
      "=============================================================\n",
      "epoch: 11, source_val_acc_label: 0.7740, source_val_label_loss: 0.6497, target_val_acc_label: 0.7740, target_val_label_loss: 0.6497, \n",
      "=============================================================\n"
     ]
    },
    {
     "name": "stdout",
     "output_type": "stream",
     "text": [
      "epoch: 12, [batch: 1 / 7000], examples_per_second: 11.4538, train_label_loss: 0.4351, \n"
     ]
    },
    {
     "name": "stdout",
     "output_type": "stream",
     "text": [
      "epoch: 12, [batch: 700 / 7000], examples_per_second: 10691.3689, train_label_loss: 0.3187, \n"
     ]
    },
    {
     "name": "stdout",
     "output_type": "stream",
     "text": [
      "epoch: 12, [batch: 1400 / 7000], examples_per_second: 10736.5069, train_label_loss: 0.5245, \n"
     ]
    },
    {
     "name": "stdout",
     "output_type": "stream",
     "text": [
      "epoch: 12, [batch: 2100 / 7000], examples_per_second: 10801.8457, train_label_loss: 0.1847, \n"
     ]
    },
    {
     "name": "stdout",
     "output_type": "stream",
     "text": [
      "epoch: 12, [batch: 2800 / 7000], examples_per_second: 11731.5498, train_label_loss: 0.2169, \n"
     ]
    },
    {
     "name": "stdout",
     "output_type": "stream",
     "text": [
      "epoch: 12, [batch: 3500 / 7000], examples_per_second: 11736.5468, train_label_loss: 0.2703, \n"
     ]
    },
    {
     "name": "stdout",
     "output_type": "stream",
     "text": [
      "epoch: 12, [batch: 4200 / 7000], examples_per_second: 11740.4087, train_label_loss: 0.3770, \n"
     ]
    },
    {
     "name": "stdout",
     "output_type": "stream",
     "text": [
      "epoch: 12, [batch: 4900 / 7000], examples_per_second: 11793.6290, train_label_loss: 0.2753, \n"
     ]
    },
    {
     "name": "stdout",
     "output_type": "stream",
     "text": [
      "epoch: 12, [batch: 5600 / 7000], examples_per_second: 11811.4091, train_label_loss: 0.2292, \n"
     ]
    },
    {
     "name": "stdout",
     "output_type": "stream",
     "text": [
      "epoch: 12, [batch: 6300 / 7000], examples_per_second: 12875.6128, train_label_loss: 0.4319, \n"
     ]
    },
    {
     "name": "stdout",
     "output_type": "stream",
     "text": [
      "=============================================================\n",
      "epoch: 12, source_val_acc_label: 0.7646, source_val_label_loss: 0.6831, target_val_acc_label: 0.7646, target_val_label_loss: 0.6831, \n",
      "=============================================================\n"
     ]
    },
    {
     "name": "stdout",
     "output_type": "stream",
     "text": [
      "Patience (3) exhausted\n"
     ]
    }
   ],
   "source": [
    "jig = Vanilla_Train_Eval_Test_Jig(\n",
    "    model=model,\n",
    "    path_to_best_model=p.BEST_MODEL_PATH,\n",
    "    device=p.device,\n",
    "    label_loss_object=torch.nn.NLLLoss(),\n",
    ")\n",
    "\n",
    "jig.train(\n",
    "    train_iterable=datasets.source.processed.train,\n",
    "    source_val_iterable=datasets.source.processed.val,\n",
    "    target_val_iterable=datasets.target.processed.val,\n",
    "    patience=p.patience,\n",
    "    num_epochs=p.n_epoch,\n",
    "    num_logs_per_epoch=p.NUM_LOGS_PER_EPOCH,\n",
    "    criteria_for_best=p.criteria_for_best\n",
    ")"
   ]
  },
  {
   "cell_type": "code",
   "execution_count": 14,
   "id": "4bc2ac17",
   "metadata": {
    "execution": {
     "iopub.execute_input": "2022-03-27T00:30:55.154914Z",
     "iopub.status.busy": "2022-03-27T00:30:55.154544Z",
     "iopub.status.idle": "2022-03-27T00:30:55.156339Z",
     "shell.execute_reply": "2022-03-27T00:30:55.156639Z"
    },
    "papermill": {
     "duration": 0.054315,
     "end_time": "2022-03-27T00:30:55.156721",
     "exception": false,
     "start_time": "2022-03-27T00:30:55.102406",
     "status": "completed"
    },
    "tags": []
   },
   "outputs": [],
   "source": [
    "total_experiment_time_secs = time.time() - start_time_secs"
   ]
  },
  {
   "cell_type": "code",
   "execution_count": 15,
   "id": "cae88f23",
   "metadata": {
    "execution": {
     "iopub.execute_input": "2022-03-27T00:30:55.265715Z",
     "iopub.status.busy": "2022-03-27T00:30:55.264862Z",
     "iopub.status.idle": "2022-03-27T00:32:42.647432Z",
     "shell.execute_reply": "2022-03-27T00:32:42.646537Z"
    },
    "papermill": {
     "duration": 107.439909,
     "end_time": "2022-03-27T00:32:42.647659",
     "exception": false,
     "start_time": "2022-03-27T00:30:55.207750",
     "status": "completed"
    },
    "tags": []
   },
   "outputs": [],
   "source": [
    "source_test_label_accuracy, source_test_label_loss = jig.test(datasets.source.processed.test)\n",
    "target_test_label_accuracy, target_test_label_loss = jig.test(datasets.target.processed.test)\n",
    "\n",
    "source_val_label_accuracy, source_val_label_loss = jig.test(datasets.source.processed.val)\n",
    "target_val_label_accuracy, target_val_label_loss = jig.test(datasets.target.processed.val)\n",
    "\n",
    "history = jig.get_history()\n",
    "\n",
    "total_epochs_trained = len(history[\"epoch_indices\"])\n",
    "\n",
    "val_dl = wrap_in_dataloader(p, Sequence_Aggregator((datasets.source.original.val, datasets.target.original.val)))\n",
    "\n",
    "confusion = confusion_by_domain_over_dataloader(model, p.device, val_dl, forward_uses_domain=False)\n",
    "per_domain_accuracy = per_domain_accuracy_from_confusion(confusion)\n",
    "\n",
    "# Add a key to per_domain_accuracy for if it was a source domain\n",
    "for domain, accuracy in per_domain_accuracy.items():\n",
    "    per_domain_accuracy[domain] = {\n",
    "        \"accuracy\": accuracy,\n",
    "        \"source?\": domain in p.domains_source\n",
    "    }\n",
    "\n",
    "# Do an independent accuracy assesment JUST TO BE SURE!\n",
    "# _source_test_label_accuracy = independent_accuracy_assesment(model, datasets.source.processed.test, p.device)\n",
    "# _target_test_label_accuracy = independent_accuracy_assesment(model, datasets.target.processed.test, p.device)\n",
    "# _source_val_label_accuracy = independent_accuracy_assesment(model, datasets.source.processed.val, p.device)\n",
    "# _target_val_label_accuracy = independent_accuracy_assesment(model, datasets.target.processed.val, p.device)\n",
    "\n",
    "# assert(_source_test_label_accuracy == source_test_label_accuracy)\n",
    "# assert(_target_test_label_accuracy == target_test_label_accuracy)\n",
    "# assert(_source_val_label_accuracy == source_val_label_accuracy)\n",
    "# assert(_target_val_label_accuracy == target_val_label_accuracy)\n",
    "\n",
    "###################################\n",
    "# Write out the results\n",
    "###################################\n",
    "\n",
    "experiment = {\n",
    "    \"experiment_name\": p.experiment_name,\n",
    "    \"parameters\": p,\n",
    "    \"results\": {\n",
    "        \"source_test_label_accuracy\": source_test_label_accuracy,\n",
    "        \"source_test_label_loss\": source_test_label_loss,\n",
    "        \"target_test_label_accuracy\": target_test_label_accuracy,\n",
    "        \"target_test_label_loss\": target_test_label_loss,\n",
    "        \"source_val_label_accuracy\": source_val_label_accuracy,\n",
    "        \"source_val_label_loss\": source_val_label_loss,\n",
    "        \"target_val_label_accuracy\": target_val_label_accuracy,\n",
    "        \"target_val_label_loss\": target_val_label_loss,\n",
    "        \"total_epochs_trained\": total_epochs_trained,\n",
    "        \"total_experiment_time_secs\": total_experiment_time_secs,\n",
    "        \"confusion\": confusion,\n",
    "        \"per_domain_accuracy\": per_domain_accuracy,\n",
    "    },\n",
    "    \"history\": history,\n",
    "    \"dataset_metrics\": get_dataset_metrics(datasets, \"cnn\"),\n",
    "}"
   ]
  },
  {
   "cell_type": "code",
   "execution_count": 16,
   "id": "74c318cf",
   "metadata": {
    "execution": {
     "iopub.execute_input": "2022-03-27T00:32:42.797468Z",
     "iopub.status.busy": "2022-03-27T00:32:42.793622Z",
     "iopub.status.idle": "2022-03-27T00:32:43.027480Z",
     "shell.execute_reply": "2022-03-27T00:32:43.028192Z"
    },
    "papermill": {
     "duration": 0.325733,
     "end_time": "2022-03-27T00:32:43.028409",
     "exception": false,
     "start_time": "2022-03-27T00:32:42.702676",
     "status": "completed"
    },
    "tags": []
   },
   "outputs": [
    {
     "data": {
      "text/plain": [
       "<AxesSubplot:title={'center':'Source Train Label Loss vs Source Val Label Loss'}, xlabel='Epoch'>"
      ]
     },
     "execution_count": 16,
     "metadata": {},
     "output_type": "execute_result"
    },
    {
     "data": {
      "image/png": "[encoded data removed]",
      "text/plain": [
       "<Figure size 1080x504 with 1 Axes>"
      ]
     },
     "metadata": {
      "needs_background": "light"
     },
     "output_type": "display_data"
    }
   ],
   "source": [
    "get_loss_curve(experiment)"
   ]
  },
  {
   "cell_type": "code",
   "execution_count": 17,
   "id": "59376601",
   "metadata": {
    "execution": {
     "iopub.execute_input": "2022-03-27T00:32:43.146124Z",
     "iopub.status.busy": "2022-03-27T00:32:43.143584Z",
     "iopub.status.idle": "2022-03-27T00:32:43.482320Z",
     "shell.execute_reply": "2022-03-27T00:32:43.483096Z"
    },
    "papermill": {
     "duration": 0.39731,
     "end_time": "2022-03-27T00:32:43.483355",
     "exception": false,
     "start_time": "2022-03-27T00:32:43.086045",
     "status": "completed"
    },
    "tags": []
   },
   "outputs": [
    {
     "data": {
      "text/plain": [
       "<AxesSubplot:title={'center':'Results'}>"
      ]
     },
     "execution_count": 17,
     "metadata": {},
     "output_type": "execute_result"
    },
    {
     "data": {
      "image/png": "[encoded data removed]",
      "text/plain": [
       "<Figure size 1080x504 with 1 Axes>"
      ]
     },
     "metadata": {
      "needs_background": "light"
     },
     "output_type": "display_data"
    }
   ],
   "source": [
    "get_results_table(experiment)"
   ]
  },
  {
   "cell_type": "code",
   "execution_count": 18,
   "id": "e80c5c98",
   "metadata": {
    "execution": {
     "iopub.execute_input": "2022-03-27T00:32:43.617333Z",
     "iopub.status.busy": "2022-03-27T00:32:43.609967Z",
     "iopub.status.idle": "2022-03-27T00:32:43.808775Z",
     "shell.execute_reply": "2022-03-27T00:32:43.808044Z"
    },
    "papermill": {
     "duration": 0.267878,
     "end_time": "2022-03-27T00:32:43.808949",
     "exception": false,
     "start_time": "2022-03-27T00:32:43.541071",
     "status": "completed"
    },
    "tags": []
   },
   "outputs": [
    {
     "data": {
      "text/plain": [
       "<AxesSubplot:title={'center':'Per Domain Accuracy'}, xlabel='domain'>"
      ]
     },
     "execution_count": 18,
     "metadata": {},
     "output_type": "execute_result"
    },
    {
     "data": {
      "image/png": "[encoded data removed]",
      "text/plain": [
       "<Figure size 1080x504 with 1 Axes>"
      ]
     },
     "metadata": {
      "needs_background": "light"
     },
     "output_type": "display_data"
    }
   ],
   "source": [
    "get_domain_accuracies(experiment)"
   ]
  },
  {
   "cell_type": "code",
   "execution_count": 19,
   "id": "086fdd10",
   "metadata": {
    "execution": {
     "iopub.execute_input": "2022-03-27T00:32:43.926403Z",
     "iopub.status.busy": "2022-03-27T00:32:43.925844Z",
     "iopub.status.idle": "2022-03-27T00:32:43.929738Z",
     "shell.execute_reply": "2022-03-27T00:32:43.929252Z"
    },
    "papermill": {
     "duration": 0.063226,
     "end_time": "2022-03-27T00:32:43.929852",
     "exception": false,
     "start_time": "2022-03-27T00:32:43.866626",
     "status": "completed"
    },
    "tags": []
   },
   "outputs": [
    {
     "name": "stdout",
     "output_type": "stream",
     "text": [
      "Source Test Label Accuracy: 0.785609375 Target Test Label Accuracy: 0.785609375\n",
      "Source Val Label Accuracy: 0.7861458333333333 Target Val Label Accuracy: 0.7861458333333333\n"
     ]
    }
   ],
   "source": [
    "print(\"Source Test Label Accuracy:\", experiment[\"results\"][\"source_test_label_accuracy\"], \"Target Test Label Accuracy:\", experiment[\"results\"][\"target_test_label_accuracy\"])\n",
    "print(\"Source Val Label Accuracy:\", experiment[\"results\"][\"source_val_label_accuracy\"], \"Target Val Label Accuracy:\", experiment[\"results\"][\"target_val_label_accuracy\"])"
   ]
  },
  {
   "cell_type": "code",
   "execution_count": 20,
   "id": "9f450536",
   "metadata": {
    "execution": {
     "iopub.execute_input": "2022-03-27T00:32:44.048347Z",
     "iopub.status.busy": "2022-03-27T00:32:44.047985Z",
     "iopub.status.idle": "2022-03-27T00:32:44.050646Z",
     "shell.execute_reply": "2022-03-27T00:32:44.050949Z"
    },
    "papermill": {
     "duration": 0.062153,
     "end_time": "2022-03-27T00:32:44.051044",
     "exception": false,
     "start_time": "2022-03-27T00:32:43.988891",
     "status": "completed"
    },
    "tags": [
     "experiment_json"
    ]
   },
   "outputs": [
    {
     "data": {
      "text/plain": [
       "'{\"experiment_name\": \"cnn_2:oracle.run1\", \"parameters\": {\"experiment_name\": \"cnn_2:oracle.run1\", \"domains_source\": [8, 32, 50, 14, 20, 26, 38, 44], \"domains_target\": [8, 32, 50, 14, 20, 26, 38, 44], \"labels\": [\"3123D52\", \"3123D65\", \"3123D79\", \"3123D80\", \"3123D54\", \"3123D70\", \"3123D7B\", \"3123D89\", \"3123D58\", \"3123D76\", \"3123D7D\", \"3123EFE\", \"3123D64\", \"3123D78\", \"3123D7E\", \"3124E4A\"], \"pickle_name_source\": \"oracle.Run1_10kExamples_stratified_ds.2022A.pkl\", \"pickle_name_target\": \"oracle.Run1_10kExamples_stratified_ds.2022A.pkl\", \"device\": \"cuda\", \"lr\": 0.0001, \"batch_size\": 128, \"normalize_source\": false, \"normalize_target\": false, \"num_examples_per_domain_per_label_source\": -1, \"num_examples_per_domain_per_label_target\": -1, \"torch_default_dtype\": \"torch.float32\", \"n_epoch\": 50, \"patience\": 3, \"criteria_for_best\": \"target_accuracy\", \"x_net\": [{\"class\": \"nnReshape\", \"kargs\": {\"shape\": [-1, 1, 2, 256]}}, {\"class\": \"Conv2d\", \"kargs\": {\"in_channels\": 1, \"out_channels\": 256, \"kernel_size\": [1, 7], \"bias\": false, \"padding\": [0, 3]}}, {\"class\": \"ReLU\", \"kargs\": {\"inplace\": true}}, {\"class\": \"BatchNorm2d\", \"kargs\": {\"num_features\": 256}}, {\"class\": \"Conv2d\", \"kargs\": {\"in_channels\": 256, \"out_channels\": 80, \"kernel_size\": [2, 7], \"bias\": true, \"padding\": [0, 3]}}, {\"class\": \"ReLU\", \"kargs\": {\"inplace\": true}}, {\"class\": \"BatchNorm2d\", \"kargs\": {\"num_features\": 80}}, {\"class\": \"Flatten\", \"kargs\": {}}, {\"class\": \"Linear\", \"kargs\": {\"in_features\": 20480, \"out_features\": 256}}, {\"class\": \"ReLU\", \"kargs\": {\"inplace\": true}}, {\"class\": \"BatchNorm1d\", \"kargs\": {\"num_features\": 256}}, {\"class\": \"Linear\", \"kargs\": {\"in_features\": 256, \"out_features\": 16}}], \"NUM_LOGS_PER_EPOCH\": 10, \"BEST_MODEL_PATH\": \"./best_model.pth\", \"dataset_seed\": 154325, \"seed\": 154325}, \"results\": {\"source_test_label_accuracy\": 0.785609375, \"source_test_label_loss\": 0.5856344382365545, \"target_test_label_accuracy\": 0.785609375, \"target_test_label_loss\": 0.5856344392697016, \"source_val_label_accuracy\": 0.7861458333333333, \"source_val_label_loss\": 0.5867480115890503, \"target_val_label_accuracy\": 0.7861458333333333, \"target_val_label_loss\": 0.5867480133970578, \"total_epochs_trained\": 12, \"total_experiment_time_secs\": 1162.9775896072388, \"confusion\": {\"44\": {\"2\": {\"2\": 2800, \"8\": 2, \"7\": 72, \"15\": 24, \"5\": 26, \"10\": 30, \"1\": 44, \"9\": 2}, \"13\": {\"13\": 1780, \"6\": 668, \"0\": 332, \"9\": 200, \"11\": 12, \"7\": 4, \"4\": 4}, \"15\": {\"15\": 2198, \"14\": 252, \"0\": 80, \"4\": 48, \"5\": 244, \"8\": 124, \"11\": 24, \"12\": 16, \"6\": 14}, \"9\": {\"9\": 2100, \"7\": 628, \"6\": 164, \"13\": 62, \"15\": 6, \"2\": 30, \"0\": 4, \"11\": 4, \"4\": 2}, \"12\": {\"3\": 758, \"14\": 10, \"12\": 2218, \"8\": 14}, \"4\": {\"4\": 2354, \"14\": 172, \"11\": 112, \"15\": 282, \"9\": 24, \"5\": 20, \"8\": 4, \"7\": 6, \"6\": 20, \"0\": 6}, \"11\": {\"11\": 2958, \"0\": 40, \"10\": 2}, \"6\": {\"6\": 2402, \"9\": 420, \"13\": 162, \"7\": 14, \"0\": 2}, \"7\": {\"7\": 2202, \"9\": 778, \"6\": 16, \"10\": 4}, \"8\": {\"8\": 2310, \"0\": 478, \"5\": 104, \"15\": 104, \"6\": 2, \"1\": 2}, \"3\": {\"3\": 2424, \"4\": 136, \"2\": 120, \"8\": 88, \"7\": 42, \"0\": 18, \"5\": 6, \"14\": 94, \"12\": 54, \"13\": 18}, \"14\": {\"14\": 2160, \"4\": 498, \"15\": 148, \"6\": 26, \"5\": 154, \"9\": 12, \"11\": 2}, \"1\": {\"1\": 1980, \"2\": 372, \"5\": 478, \"12\": 8, \"14\": 24, \"7\": 84, \"10\": 44, \"8\": 10}, \"5\": {\"5\": 2186, \"15\": 68, \"6\": 398, \"14\": 216, \"4\": 90, \"8\": 22, \"2\": 2, \"0\": 2, \"7\": 16}, \"0\": {\"0\": 2522, \"8\": 392, \"13\": 12, \"15\": 64, \"6\": 4, \"1\": 2, \"5\": 4}, \"10\": {\"10\": 2808, \"2\": 38, \"7\": 122, \"9\": 2, \"1\": 28, \"5\": 2}}, \"32\": {\"9\": {\"1\": 174, \"14\": 752, \"9\": 1720, \"2\": 204, \"6\": 142, \"0\": 2, \"11\": 4, \"12\": 2}, \"11\": {\"11\": 2830, \"13\": 148, \"3\": 18, \"14\": 2, \"4\": 2}, \"4\": {\"4\": 1996, \"2\": 506, \"3\": 376, \"14\": 14, \"13\": 96, \"8\": 8, \"6\": 2, \"0\": 2}, \"6\": {\"6\": 2898, \"11\": 102}, \"12\": {\"12\": 2874, \"0\": 80, \"9\": 8, \"6\": 12, \"10\": 6, \"1\": 4, \"11\": 12, \"2\": 4}, \"7\": {\"0\": 210, \"7\": 1892, \"5\": 402, \"1\": 52, \"14\": 394, \"12\": 10, \"2\": 26, \"8\": 12, \"3\": 2}, \"5\": {\"5\": 1460, \"1\": 412, \"0\": 266, \"2\": 104, \"7\": 466, \"8\": 184, \"14\": 48, \"3\": 38, \"12\": 22}, \"8\": {\"0\": 390, \"8\": 2434, \"3\": 64, \"5\": 84, \"2\": 12, \"7\": 4, \"1\": 10, \"14\": 2}, \"14\": {\"14\": 2230, \"8\": 28, \"0\": 204, \"7\": 372, \"12\": 10, \"1\": 26, \"2\": 30, \"3\": 50, \"5\": 46, \"6\": 2, \"4\": 2}, \"1\": {\"1\": 2952, \"8\": 48}, \"15\": {\"15\": 2956, \"10\": 2, \"2\": 36, \"8\": 6}, \"10\": {\"10\": 3000}, \"3\": {\"12\": 462, \"13\": 120, \"3\": 2408, \"11\": 10}, \"13\": {\"13\": 1910, \"3\": 656, \"4\": 380, \"12\": 34, \"11\": 12, \"2\": 2, \"8\": 2, \"14\": 4}, \"0\": {\"0\": 2618, \"14\": 54, \"7\": 62, \"5\": 52, \"8\": 196, \"3\": 2, \"11\": 12, \"2\": 2, \"9\": 2}, \"2\": {\"4\": 348, \"2\": 2542, \"0\": 20, \"14\": 46, \"3\": 26, \"6\": 18}}, \"26\": {\"6\": {\"5\": 116, \"15\": 592, \"14\": 62, \"0\": 28, \"6\": 1952, \"10\": 220, \"9\": 24, \"12\": 4, \"1\": 2}, \"4\": {\"4\": 2698, \"0\": 46, \"3\": 224, \"8\": 14, \"2\": 2, \"13\": 2, \"14\": 4, \"7\": 10}, \"13\": {\"13\": 2646, \"9\": 172, \"2\": 122, \"3\": 8, \"0\": 36, \"15\": 10, \"8\": 4, \"5\": 2}, \"14\": {\"10\": 290, \"14\": 2120, \"1\": 248, \"0\": 304, \"6\": 24, \"15\": 10, \"2\": 4}, \"2\": {\"2\": 2102, \"3\": 260, \"7\": 284, \"9\": 84, \"15\": 64, \"8\": 58, \"13\": 82, \"10\": 6, \"0\": 20, \"14\": 8, \"6\": 4, \"5\": 28}, \"8\": {\"2\": 322, \"8\": 1304, \"10\": 54, \"0\": 390, \"4\": 4, \"7\": 454, \"9\": 430, \"15\": 10, \"3\": 6, \"6\": 4, \"13\": 4, \"14\": 18}, \"15\": {\"15\": 1958, \"5\": 592, \"6\": 320, \"14\": 32, \"9\": 44, \"2\": 32, \"10\": 12, \"0\": 6, \"1\": 4}, \"1\": {\"1\": 2578, \"14\": 218, \"10\": 134, \"5\": 2, \"0\": 46, \"2\": 4, \"6\": 14, \"15\": 4}, \"5\": {\"15\": 500, \"5\": 2476, \"6\": 18, \"2\": 2, \"10\": 2, \"9\": 2}, \"9\": {\"9\": 2088, \"8\": 288, \"15\": 38, \"2\": 230, \"13\": 202, \"0\": 112, \"7\": 34, \"3\": 4, \"6\": 4}, \"10\": {\"10\": 1448, \"0\": 668, \"14\": 360, \"15\": 138, \"6\": 234, \"1\": 118, \"5\": 16, \"8\": 10, \"7\": 2, \"2\": 6}, \"3\": {\"3\": 2208, \"2\": 372, \"7\": 370, \"8\": 14, \"9\": 8, \"0\": 20, \"4\": 4, \"13\": 4}, \"0\": {\"10\": 576, \"14\": 518, \"6\": 76, \"0\": 1516, \"8\": 118, \"9\": 22, \"7\": 48, \"2\": 34, \"15\": 68, \"1\": 22, \"5\": 2}, \"12\": {\"12\": 3000}, \"7\": {\"7\": 1734, \"2\": 566, \"3\": 264, \"4\": 16, \"8\": 256, \"9\": 58, \"0\": 86, \"13\": 2, \"6\": 2, \"14\": 16}, \"11\": {\"11\": 2890, \"12\": 18, \"6\": 40, \"2\": 42, \"0\": 10}}, \"38\": {\"0\": {\"4\": 486, \"0\": 2284, \"10\": 86, \"13\": 88, \"9\": 8, \"7\": 40, \"11\": 8}, \"5\": {\"4\": 100, \"5\": 1338, \"8\": 536, \"11\": 480, \"0\": 32, \"1\": 18, \"14\": 70, \"9\": 186, \"15\": 148, \"7\": 86, \"6\": 6}, \"3\": {\"3\": 2954, \"0\": 42, \"11\": 4}, \"10\": {\"10\": 2784, \"13\": 102, \"0\": 82, \"4\": 32}, \"9\": {\"9\": 2862, \"12\": 72, \"11\": 14, \"14\": 24, \"4\": 8, \"15\": 2, \"5\": 16, \"7\": 2}, \"12\": {\"12\": 2990, \"15\": 10}, \"15\": {\"15\": 1974, \"5\": 204, \"1\": 464, \"13\": 142, \"0\": 62, \"8\": 120, \"11\": 24, \"10\": 10}, \"6\": {\"6\": 2800, \"2\": 66, \"1\": 70, \"9\": 20, \"14\": 38, \"0\": 6}, \"11\": {\"11\": 3000}, \"4\": {\"4\": 3000}, \"2\": {\"5\": 186, \"14\": 150, \"2\": 2244, \"7\": 414, \"13\": 4, \"4\": 2}, \"14\": {\"14\": 2806, \"7\": 122, \"4\": 14, \"5\": 30, \"2\": 28}, \"8\": {\"5\": 588, \"8\": 1176, \"4\": 512, \"7\": 82, \"15\": 384, \"11\": 164, \"14\": 68, \"12\": 2, \"1\": 14, \"6\": 4, \"0\": 6}, \"7\": {\"7\": 2796, \"0\": 62, \"9\": 14, \"4\": 110, \"8\": 18}, \"13\": {\"13\": 2656, \"4\": 104, \"10\": 158, \"0\": 30, \"7\": 48, \"14\": 4}, \"1\": {\"1\": 2760, \"0\": 128, \"6\": 10, \"9\": 20, \"2\": 76, \"8\": 2, \"14\": 4}}, \"14\": {\"12\": {\"12\": 2998, \"9\": 2}, \"0\": {\"0\": 2580, \"3\": 258, \"13\": 72, \"2\": 16, \"4\": 22, \"9\": 28, \"10\": 10, \"14\": 2, \"11\": 12}, \"2\": {\"2\": 1980, \"3\": 90, \"5\": 318, \"6\": 142, \"13\": 102, \"14\": 290, \"4\": 68, \"7\": 10}, \"5\": {\"5\": 2686, \"2\": 174, \"3\": 24, \"7\": 60, \"14\": 2, \"4\": 52, \"11\": 2}, \"15\": {\"15\": 2976, \"11\": 20, \"13\": 4}, \"7\": {\"7\": 2926, \"5\": 72, \"2\": 2}, \"4\": {\"4\": 2548, \"2\": 90, \"5\": 278, \"11\": 58, \"1\": 12, \"7\": 4, \"10\": 8, \"13\": 2}, \"13\": {\"6\": 974, \"14\": 442, \"13\": 1140, \"2\": 230, \"15\": 126, \"4\": 10, \"3\": 42, \"5\": 2, \"10\": 34}, \"10\": {\"10\": 2704, \"3\": 182, \"14\": 2, \"8\": 4, \"2\": 76, \"11\": 10, \"0\": 14, \"4\": 6, \"5\": 2}, \"14\": {\"14\": 2476, \"6\": 72, \"2\": 238, \"13\": 156, \"3\": 56, \"4\": 2}, \"3\": {\"3\": 2874, \"2\": 64, \"0\": 48, \"14\": 8, \"13\": 4, \"5\": 2}, \"1\": {\"1\": 2984, \"11\": 14, \"4\": 2}, \"8\": {\"8\": 2996, \"11\": 4}, \"9\": {\"9\": 2970, \"0\": 24, \"12\": 2, \"11\": 4}, \"6\": {\"6\": 2016, \"13\": 648, \"2\": 134, \"14\": 148, \"3\": 54}, \"11\": {\"11\": 2956, \"7\": 24, \"13\": 12, \"6\": 8}}, \"50\": {\"13\": {\"13\": 2812, \"15\": 114, \"5\": 16, \"8\": 44, \"0\": 8, \"6\": 4, \"12\": 2}, \"4\": {\"4\": 2386, \"0\": 68, \"13\": 52, \"7\": 304, \"5\": 110, \"14\": 56, \"6\": 6, \"8\": 12, \"15\": 6}, \"1\": {\"1\": 2628, \"13\": 52, \"15\": 278, \"11\": 8, \"5\": 10, \"8\": 18, \"6\": 2, \"0\": 4}, \"8\": {\"8\": 2980, \"10\": 8, \"0\": 2, \"13\": 2, \"1\": 8}, \"12\": {\"9\": 340, \"12\": 2562, \"11\": 62, \"14\": 14, \"5\": 18, \"0\": 4}, \"6\": {\"15\": 220, \"6\": 1876, \"5\": 740, \"8\": 14, \"14\": 90, \"4\": 60}, \"2\": {\"2\": 2554, \"0\": 340, \"1\": 78, \"9\": 24, \"12\": 4}, \"10\": {\"10\": 2542, \"0\": 294, \"8\": 150, \"13\": 8, \"1\": 4, \"15\": 2}, \"9\": {\"9\": 2574, \"12\": 52, \"11\": 330, \"14\": 8, \"7\": 10, \"4\": 4, \"5\": 14, \"0\": 4, \"15\": 4}, \"15\": {\"8\": 278, \"11\": 46, \"14\": 282, \"15\": 1526, \"6\": 166, \"5\": 274, \"4\": 416, \"7\": 8, \"9\": 4}, \"3\": {\"3\": 3000}, \"0\": {\"0\": 2554, \"2\": 216, \"10\": 92, \"1\": 134, \"12\": 4}, \"14\": {\"9\": 304, \"14\": 2604, \"2\": 66, \"6\": 26}, \"7\": {\"7\": 2430, \"5\": 68, \"13\": 18, \"14\": 310, \"4\": 80, \"2\": 94}, \"11\": {\"11\": 2778, \"5\": 46, \"9\": 90, \"15\": 24, \"8\": 40, \"14\": 12, \"12\": 6, \"4\": 4}, \"5\": {\"5\": 1774, \"8\": 86, \"4\": 178, \"7\": 332, \"14\": 210, \"2\": 130, \"6\": 104, \"13\": 56, \"15\": 126, \"0\": 2, \"12\": 2}}, \"8\": {\"5\": {\"5\": 2612, \"1\": 58, \"10\": 320, \"13\": 4, \"11\": 4, \"4\": 2}, \"0\": {\"0\": 2986, \"9\": 6, \"14\": 8}, \"14\": {\"14\": 2658, \"4\": 272, \"11\": 16, \"6\": 8, \"0\": 16, \"10\": 26, \"7\": 2, \"1\": 2}, \"11\": {\"1\": 266, \"11\": 2606, \"8\": 38, \"4\": 18, \"14\": 32, \"5\": 26, \"6\": 6, \"0\": 2, \"10\": 6}, \"2\": {\"2\": 1084, \"0\": 450, \"3\": 670, \"5\": 356, \"7\": 32, \"1\": 200, \"9\": 54, \"10\": 48, \"12\": 76, \"4\": 6, \"8\": 10, \"15\": 14}, \"3\": {\"3\": 2688, \"0\": 92, \"2\": 124, \"10\": 74, \"4\": 18, \"15\": 2, \"8\": 2}, \"12\": {\"15\": 786, \"12\": 1796, \"14\": 58, \"8\": 152, \"4\": 114, \"3\": 28, \"10\": 46, \"5\": 10, \"6\": 4, \"9\": 2, \"2\": 2, \"1\": 2}, \"8\": {\"8\": 2936, \"11\": 48, \"4\": 6, \"6\": 10}, \"6\": {\"7\": 1264, \"6\": 1098, \"4\": 460, \"10\": 40, \"14\": 20, \"11\": 16, \"13\": 90, \"8\": 8, \"1\": 4}, \"1\": {\"11\": 562, \"1\": 2096, \"10\": 126, \"5\": 162, \"4\": 38, \"6\": 6, \"13\": 4, \"14\": 6}, \"13\": {\"13\": 2132, \"10\": 626, \"7\": 76, \"6\": 46, \"5\": 60, \"1\": 22, \"15\": 28, \"4\": 10}, \"15\": {\"15\": 2450, \"12\": 402, \"3\": 84, \"0\": 4, \"2\": 14, \"5\": 30, \"8\": 12, \"1\": 4}, \"10\": {\"10\": 1876, \"5\": 306, \"13\": 756, \"4\": 16, \"1\": 24, \"6\": 14, \"14\": 4, \"7\": 4}, \"9\": {\"9\": 2998, \"13\": 2}, \"7\": {\"6\": 550, \"7\": 2228, \"4\": 88, \"12\": 4, \"10\": 8, \"11\": 26, \"13\": 82, \"8\": 10, \"15\": 4}, \"4\": {\"4\": 1910, \"14\": 476, \"6\": 342, \"7\": 156, \"10\": 58, \"0\": 2, \"13\": 32, \"11\": 14, \"9\": 2, \"1\": 4, \"8\": 4}}, \"20\": {\"0\": {\"0\": 2836, \"5\": 60, \"2\": 74, \"8\": 2, \"9\": 14, \"3\": 8, \"15\": 2, \"11\": 4}, \"9\": {\"1\": 442, \"9\": 1266, \"2\": 690, \"7\": 72, \"10\": 20, \"3\": 232, \"12\": 150, \"5\": 92, \"15\": 22, \"13\": 2, \"8\": 6, \"4\": 4, \"0\": 2}, \"8\": {\"8\": 2610, \"3\": 62, \"12\": 28, \"14\": 136, \"2\": 50, \"0\": 28, \"5\": 20, \"15\": 8, \"11\": 4, \"10\": 14, \"4\": 30, \"7\": 6, \"9\": 4}, \"5\": {\"5\": 1824, \"15\": 132, \"1\": 496, \"2\": 222, \"8\": 8, \"0\": 126, \"12\": 38, \"9\": 84, \"3\": 68, \"7\": 2}, \"12\": {\"12\": 1310, \"2\": 468, \"7\": 130, \"1\": 346, \"13\": 14, \"3\": 90, \"9\": 340, \"15\": 224, \"5\": 70, \"4\": 2, \"6\": 2, \"8\": 2, \"11\": 2}, \"10\": {\"10\": 2776, \"12\": 16, \"6\": 120, \"4\": 80, \"14\": 6, \"7\": 2}, \"4\": {\"8\": 148, \"4\": 1568, \"10\": 130, \"12\": 946, \"7\": 84, \"11\": 4, \"6\": 36, \"3\": 18, \"2\": 22, \"14\": 34, \"15\": 6, \"5\": 4}, \"6\": {\"2\": 36, \"6\": 2844, \"14\": 42, \"7\": 44, \"8\": 4, \"10\": 22, \"4\": 4, \"11\": 4}, \"3\": {\"8\": 56, \"5\": 398, \"3\": 908, \"12\": 100, \"2\": 802, \"1\": 252, \"9\": 332, \"10\": 60, \"15\": 26, \"7\": 40, \"13\": 2, \"0\": 24}, \"7\": {\"2\": 616, \"7\": 1894, \"12\": 66, \"9\": 158, \"11\": 32, \"13\": 18, \"6\": 68, \"3\": 42, \"4\": 44, \"8\": 36, \"5\": 12, \"10\": 6, \"1\": 6, \"15\": 2}, \"2\": {\"2\": 1344, \"9\": 524, \"7\": 460, \"1\": 88, \"15\": 56, \"13\": 148, \"12\": 314, \"11\": 16, \"3\": 26, \"10\": 8, \"5\": 8, \"6\": 8}, \"13\": {\"13\": 2612, \"15\": 140, \"2\": 160, \"7\": 22, \"9\": 26, \"11\": 18, \"12\": 18, \"1\": 4}, \"15\": {\"15\": 1940, \"1\": 460, \"5\": 90, \"9\": 188, \"13\": 48, \"12\": 206, \"2\": 66, \"7\": 2}, \"1\": {\"5\": 436, \"3\": 56, \"1\": 1666, \"9\": 166, \"2\": 210, \"15\": 372, \"12\": 92, \"0\": 2}, \"14\": {\"6\": 100, \"14\": 2730, \"8\": 124, \"12\": 10, \"10\": 28, \"2\": 2, \"4\": 6}, \"11\": {\"11\": 2944, \"8\": 16, \"5\": 14, \"4\": 20, \"0\": 6}}}, \"per_domain_accuracy\": {\"44\": {\"accuracy\": 0.7792083333333333, \"source?\": true}, \"32\": {\"accuracy\": 0.8066666666666666, \"source?\": true}, \"26\": {\"accuracy\": 0.7232916666666667, \"source?\": true}, \"38\": {\"accuracy\": 0.8421666666666666, \"source?\": true}, \"14\": {\"accuracy\": 0.8710416666666667, \"source?\": true}, \"50\": {\"accuracy\": 0.8245833333333333, \"source?\": true}, \"8\": {\"accuracy\": 0.7532083333333334, \"source?\": true}, \"20\": {\"accuracy\": 0.689, \"source?\": true}}}, \"history\": {\"epoch_indices\": [1, 2, 3, 4, 5, 6, 7, 8, 9, 10, 11, 12], \"train_label_loss\": [2.0029793511288507, 1.1508289150510516, 0.8668755894984518, 0.7071774183426585, 0.6025481172459466, 0.5246463994596686, 0.4672164530328342, 0.4162186739402158, 0.3750576917571681, 0.34359381626759256, 0.3158215090302484, 0.2904811033542667], \"source_val_label_loss\": [1.2685832947889963, 0.9223912089665731, 0.7959895292917888, 0.6707456398407619, 0.6179756323893865, 0.662390697936217, 0.6068410320083301, 0.5867480119069417, 0.6019600367546082, 0.6298982587854067, 0.6496996610363325, 0.6830731187661488], \"target_val_label_loss\": [1.2685832951068878, 0.9223912090857823, 0.7959895303249359, 0.6707456413507461, 0.6179756317138672, 0.6623906989892324, 0.6068410317897797, 0.5867480098803838, 0.6019600355625152, 0.6298982566793759, 0.6496996659040452, 0.6830731188853582], \"source_val_acc_label\": [0.5755677083333334, 0.6813385416666666, 0.71134375, 0.7541354166666666, 0.775140625, 0.7575729166666667, 0.7770572916666667, 0.7861458333333333, 0.78334375, 0.775625, 0.7739947916666666, 0.764640625], \"target_val_acc_label\": [0.5755677083333334, 0.6813385416666666, 0.71134375, 0.7541354166666666, 0.775140625, 0.7575729166666667, 0.7770572916666667, 0.7861458333333333, 0.78334375, 0.775625, 0.7739947916666666, 0.764640625]}, \"dataset_metrics\": {\"source\": {\"train\": {\"n_unique_x\": 896000, \"n_unique_y\": 16, \"n_batch/episode\": 7000}, \"val\": {\"n_unique_x\": 192000, \"n_unique_y\": 16, \"n_batch/episode\": 1500}, \"test\": {\"n_unique_x\": 192000, \"n_unique_y\": 16, \"n_batch/episode\": 1500}}, \"target\": {\"train\": {\"n_unique_x\": 896000, \"n_unique_y\": 16, \"n_batch/episode\": 7000}, \"val\": {\"n_unique_x\": 192000, \"n_unique_y\": 16, \"n_batch/episode\": 1500}, \"test\": {\"n_unique_x\": 192000, \"n_unique_y\": 16, \"n_batch/episode\": 1500}}}}'"
      ]
     },
     "execution_count": 20,
     "metadata": {},
     "output_type": "execute_result"
    }
   ],
   "source": [
    "json.dumps(experiment)"
   ]
  }
 ],
 "metadata": {
  "celltoolbar": "Tags",
  "kernelspec": {
   "display_name": "Python 3 (ipykernel)",
   "language": "python",
   "name": "python3"
  },
  "language_info": {
   "codemirror_mode": {
    "name": "ipython",
    "version": 3
   },
   "file_extension": ".py",
   "mimetype": "text/x-python",
   "name": "python",
   "nbconvert_exporter": "python",
   "pygments_lexer": "ipython3",
   "version": "3.8.12"
  },
  "papermill": {
   "default_parameters": {},
   "duration": 1278.984132,
   "end_time": "2022-03-27T00:32:47.926789",
   "environment_variables": {},
   "exception": null,
   "input_path": "/root/csc500-main/csc500-notebooks/templates/cnn_template.ipynb",
   "output_path": "trial.ipynb",
   "parameters": {
    "parameters": {
     "BEST_MODEL_PATH": "./best_model.pth",
     "NUM_LOGS_PER_EPOCH": 10,
     "batch_size": 128,
     "criteria_for_best": "target_accuracy",
     "dataset_seed": 154325,
     "device": "cuda",
     "domains_source": [
      8,
      32,
      50,
      14,
      20,
      26,
      38,
      44
     ],
     "domains_target": [
      8,
      32,
      50,
      14,
      20,
      26,
      38,
      44
     ],
     "experiment_name": "cnn_2:oracle.run1",
     "labels": [
      "3123D52",
      "3123D65",
      "3123D79",
      "3123D80",
      "3123D54",
      "3123D70",
      "3123D7B",
      "3123D89",
      "3123D58",
      "3123D76",
      "3123D7D",
      "3123EFE",
      "3123D64",
      "3123D78",
      "3123D7E",
      "3124E4A"
     ],
     "lr": 0.0001,
     "n_epoch": 50,
     "normalize_source": false,
     "normalize_target": false,
     "num_examples_per_domain_per_label_source": -1,
     "num_examples_per_domain_per_label_target": -1,
     "patience": 3,
     "pickle_name_source": "oracle.Run1_10kExamples_stratified_ds.2022A.pkl",
     "pickle_name_target": "oracle.Run1_10kExamples_stratified_ds.2022A.pkl",
     "seed": 154325,
     "torch_default_dtype": "torch.float32",
     "x_net": [
      {
       "class": "nnReshape",
       "kargs": {
        "shape": [
         -1,
         1,
         2,
         256
        ]
       }
      },
      {
       "class": "Conv2d",
       "kargs": {
        "bias": false,
        "in_channels": 1,
        "kernel_size": [
         1,
         7
        ],
        "out_channels": 256,
        "padding": [
         0,
         3
        ]
       }
      },
      {
       "class": "ReLU",
       "kargs": {
        "inplace": true
       }
      },
      {
       "class": "BatchNorm2d",
       "kargs": {
        "num_features": 256
       }
      },
      {
       "class": "Conv2d",
       "kargs": {
        "bias": true,
        "in_channels": 256,
        "kernel_size": [
         2,
         7
        ],
        "out_channels": 80,
        "padding": [
         0,
         3
        ]
       }
      },
      {
       "class": "ReLU",
       "kargs": {
        "inplace": true
       }
      },
      {
       "class": "BatchNorm2d",
       "kargs": {
        "num_features": 80
       }
      },
      {
       "class": "Flatten",
       "kargs": {}
      },
      {
       "class": "Linear",
       "kargs": {
        "in_features": 20480,
        "out_features": 256
       }
      },
      {
       "class": "ReLU",
       "kargs": {
        "inplace": true
       }
      },
      {
       "class": "BatchNorm1d",
       "kargs": {
        "num_features": 256
       }
      },
      {
       "class": "Linear",
       "kargs": {
        "in_features": 256,
        "out_features": 16
       }
      }
     ]
    }
   },
   "start_time": "2022-03-27T00:11:28.942657",
   "version": "2.3.4"
  }
 },
 "nbformat": 4,
 "nbformat_minor": 5
}