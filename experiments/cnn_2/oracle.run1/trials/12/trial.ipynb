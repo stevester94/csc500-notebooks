{
 "cells": [
  {
   "cell_type": "code",
   "execution_count": 1,
   "id": "2324682e",
   "metadata": {
    "execution": {
     "iopub.execute_input": "2022-03-27T03:10:04.709133Z",
     "iopub.status.busy": "2022-03-27T03:10:04.708163Z",
     "iopub.status.idle": "2022-03-27T03:10:06.307126Z",
     "shell.execute_reply": "2022-03-27T03:10:06.306215Z"
    },
    "papermill": {
     "duration": 1.671125,
     "end_time": "2022-03-27T03:10:06.307336",
     "exception": false,
     "start_time": "2022-03-27T03:10:04.636211",
     "status": "completed"
    },
    "tags": []
   },
   "outputs": [],
   "source": [
    "import os, json, sys, time, random\n",
    "import numpy as np\n",
    "import torch\n",
    "from  easydict import EasyDict\n",
    "from math import floor\n",
    "from easydict import EasyDict\n",
    "\n",
    "from steves_utils.vanilla_train_eval_test_jig import  Vanilla_Train_Eval_Test_Jig\n",
    "\n",
    "from steves_utils.torch_utils import get_dataset_metrics, independent_accuracy_assesment\n",
    "from steves_models.configurable_vanilla import Configurable_Vanilla\n",
    "from steves_utils.torch_sequential_builder import build_sequential\n",
    "from steves_utils.lazy_map import Lazy_Map\n",
    "from steves_utils.sequence_aggregator import Sequence_Aggregator\n",
    "\n",
    "from steves_utils.stratified_dataset.traditional_accessor import Traditional_Accessor_Factory\n",
    "\n",
    "from steves_utils.cnn_do_report import (\n",
    "    get_loss_curve,\n",
    "    get_results_table,\n",
    "    get_parameters_table,\n",
    "    get_domain_accuracies,\n",
    ")\n",
    "\n",
    "from steves_utils.torch_utils import (\n",
    "    confusion_by_domain_over_dataloader,\n",
    "    independent_accuracy_assesment\n",
    ")\n",
    "\n",
    "from steves_utils.utils_v2 import (\n",
    "    per_domain_accuracy_from_confusion,\n",
    "    get_datasets_base_path\n",
    ")\n",
    "\n",
    "# from steves_utils.ptn_do_report import TBD"
   ]
  },
  {
   "cell_type": "code",
   "execution_count": 2,
   "id": "1b29e3fe",
   "metadata": {
    "execution": {
     "iopub.execute_input": "2022-03-27T03:10:06.348599Z",
     "iopub.status.busy": "2022-03-27T03:10:06.348204Z",
     "iopub.status.idle": "2022-03-27T03:10:06.351449Z",
     "shell.execute_reply": "2022-03-27T03:10:06.350815Z"
    },
    "papermill": {
     "duration": 0.022344,
     "end_time": "2022-03-27T03:10:06.351598",
     "exception": false,
     "start_time": "2022-03-27T03:10:06.329254",
     "status": "completed"
    },
    "tags": []
   },
   "outputs": [],
   "source": [
    "required_parameters = {\n",
    "    \"experiment_name\",\n",
    "    \"lr\",\n",
    "    \"device\",\n",
    "    \"dataset_seed\",\n",
    "    \"seed\",\n",
    "    \"labels\",\n",
    "    \"domains_target\",\n",
    "    \"domains_source\",\n",
    "    \"num_examples_per_domain_per_label_source\",\n",
    "    \"num_examples_per_domain_per_label_target\",\n",
    "    \"batch_size\",\n",
    "    \"n_epoch\",\n",
    "    \"patience\",\n",
    "    \"criteria_for_best\",\n",
    "    \"normalize_source\",\n",
    "    \"normalize_target\",\n",
    "    \"x_net\",\n",
    "    \"NUM_LOGS_PER_EPOCH\",\n",
    "    \"BEST_MODEL_PATH\",\n",
    "    \"pickle_name_source\",\n",
    "    \"pickle_name_target\",\n",
    "    \"torch_default_dtype\",\n",
    "}"
   ]
  },
  {
   "cell_type": "code",
   "execution_count": 3,
   "id": "670b5fb8",
   "metadata": {
    "execution": {
     "iopub.execute_input": "2022-03-27T03:10:06.395293Z",
     "iopub.status.busy": "2022-03-27T03:10:06.394404Z",
     "iopub.status.idle": "2022-03-27T03:10:06.401681Z",
     "shell.execute_reply": "2022-03-27T03:10:06.400874Z"
    },
    "papermill": {
     "duration": 0.032597,
     "end_time": "2022-03-27T03:10:06.401876",
     "exception": false,
     "start_time": "2022-03-27T03:10:06.369279",
     "status": "completed"
    },
    "tags": [
     "parameters"
    ]
   },
   "outputs": [],
   "source": [
    "from steves_utils.ORACLE.utils_v2 import (\n",
    "    ALL_SERIAL_NUMBERS,\n",
    "    ALL_DISTANCES_FEET_NARROWED,\n",
    ")\n",
    "\n",
    "standalone_parameters = {}\n",
    "standalone_parameters[\"experiment_name\"] = \"MANUAL CORES CNN\"\n",
    "standalone_parameters[\"lr\"] = 0.0001\n",
    "standalone_parameters[\"device\"] = \"cuda\"\n",
    "\n",
    "standalone_parameters[\"dataset_seed\"] = 1337\n",
    "standalone_parameters[\"seed\"] = 1337\n",
    "standalone_parameters[\"labels\"] = ALL_SERIAL_NUMBERS\n",
    "\n",
    "standalone_parameters[\"domains_source\"] = [8,32,50]\n",
    "standalone_parameters[\"domains_target\"] = [14,20,26,38,44,]\n",
    "\n",
    "standalone_parameters[\"num_examples_per_domain_per_label_source\"]=-1\n",
    "standalone_parameters[\"num_examples_per_domain_per_label_target\"]=-1\n",
    "\n",
    "standalone_parameters[\"pickle_name_source\"] = \"oracle.Run1_framed_2000Examples_stratified_ds.2022A.pkl\"\n",
    "standalone_parameters[\"pickle_name_target\"] = \"oracle.Run2_framed_2000Examples_stratified_ds.2022A.pkl\"\n",
    "\n",
    "standalone_parameters[\"torch_default_dtype\"] = \"torch.float32\" \n",
    "\n",
    "standalone_parameters[\"batch_size\"]=128\n",
    "\n",
    "standalone_parameters[\"n_epoch\"] = 3\n",
    "\n",
    "standalone_parameters[\"patience\"] = 10\n",
    "\n",
    "standalone_parameters[\"criteria_for_best\"] = \"target_accuracy\"\n",
    "standalone_parameters[\"normalize_source\"] = False\n",
    "standalone_parameters[\"normalize_target\"] = False\n",
    "\n",
    "standalone_parameters[\"x_net\"] =     [\n",
    "    {\"class\": \"nnReshape\", \"kargs\": {\"shape\":[-1, 1, 2, 256]}},\n",
    "    {\"class\": \"Conv2d\", \"kargs\": { \"in_channels\":1, \"out_channels\":256, \"kernel_size\":(1,7), \"bias\":False, \"padding\":(0,3), },},\n",
    "    {\"class\": \"ReLU\", \"kargs\": {\"inplace\": True}},\n",
    "    {\"class\": \"BatchNorm2d\", \"kargs\": {\"num_features\":256}},\n",
    "\n",
    "    {\"class\": \"Conv2d\", \"kargs\": { \"in_channels\":256, \"out_channels\":80, \"kernel_size\":(2,7), \"bias\":True, \"padding\":(0,3), },},\n",
    "    {\"class\": \"ReLU\", \"kargs\": {\"inplace\": True}},\n",
    "    {\"class\": \"BatchNorm2d\", \"kargs\": {\"num_features\":80}},\n",
    "    {\"class\": \"Flatten\", \"kargs\": {}},\n",
    "\n",
    "    {\"class\": \"Linear\", \"kargs\": {\"in_features\": 80*256, \"out_features\": 256}}, # 80 units per IQ pair\n",
    "    {\"class\": \"ReLU\", \"kargs\": {\"inplace\": True}},\n",
    "    {\"class\": \"BatchNorm1d\", \"kargs\": {\"num_features\":256}},\n",
    "\n",
    "    {\"class\": \"Linear\", \"kargs\": {\"in_features\": 256, \"out_features\": len(standalone_parameters[\"labels\"])}},\n",
    "]\n",
    "\n",
    "standalone_parameters[\"NUM_LOGS_PER_EPOCH\"] = 10\n",
    "standalone_parameters[\"BEST_MODEL_PATH\"] = \"./best_model.pth\""
   ]
  },
  {
   "cell_type": "code",
   "execution_count": 4,
   "id": "b8aa0e17",
   "metadata": {
    "execution": {
     "iopub.execute_input": "2022-03-27T03:10:06.449592Z",
     "iopub.status.busy": "2022-03-27T03:10:06.448674Z",
     "iopub.status.idle": "2022-03-27T03:10:06.451722Z",
     "shell.execute_reply": "2022-03-27T03:10:06.450870Z"
    },
    "papermill": {
     "duration": 0.02921,
     "end_time": "2022-03-27T03:10:06.451892",
     "exception": false,
     "start_time": "2022-03-27T03:10:06.422682",
     "status": "completed"
    },
    "tags": [
     "injected-parameters"
    ]
   },
   "outputs": [],
   "source": [
    "# Parameters\n",
    "parameters = {\n",
    "    \"experiment_name\": \"cnn_2:oracle.run1\",\n",
    "    \"domains_source\": [8, 32, 50, 14, 20, 26, 38, 44],\n",
    "    \"domains_target\": [8, 32, 50, 14, 20, 26, 38, 44],\n",
    "    \"labels\": [\n",
    "        \"3123D52\",\n",
    "        \"3123D65\",\n",
    "        \"3123D79\",\n",
    "        \"3123D80\",\n",
    "        \"3123D54\",\n",
    "        \"3123D70\",\n",
    "        \"3123D7B\",\n",
    "        \"3123D89\",\n",
    "        \"3123D58\",\n",
    "        \"3123D76\",\n",
    "        \"3123D7D\",\n",
    "        \"3123EFE\",\n",
    "        \"3123D64\",\n",
    "        \"3123D78\",\n",
    "        \"3123D7E\",\n",
    "        \"3124E4A\",\n",
    "    ],\n",
    "    \"pickle_name_source\": \"oracle.Run1_10kExamples_stratified_ds.2022A.pkl\",\n",
    "    \"pickle_name_target\": \"oracle.Run1_10kExamples_stratified_ds.2022A.pkl\",\n",
    "    \"device\": \"cuda\",\n",
    "    \"lr\": 0.0001,\n",
    "    \"batch_size\": 128,\n",
    "    \"normalize_source\": False,\n",
    "    \"normalize_target\": False,\n",
    "    \"num_examples_per_domain_per_label_source\": -1,\n",
    "    \"num_examples_per_domain_per_label_target\": -1,\n",
    "    \"torch_default_dtype\": \"torch.float32\",\n",
    "    \"n_epoch\": 50,\n",
    "    \"patience\": 3,\n",
    "    \"criteria_for_best\": \"target_accuracy\",\n",
    "    \"x_net\": [\n",
    "        {\"class\": \"nnReshape\", \"kargs\": {\"shape\": [-1, 1, 2, 256]}},\n",
    "        {\n",
    "            \"class\": \"Conv2d\",\n",
    "            \"kargs\": {\n",
    "                \"in_channels\": 1,\n",
    "                \"out_channels\": 256,\n",
    "                \"kernel_size\": [1, 7],\n",
    "                \"bias\": False,\n",
    "                \"padding\": [0, 3],\n",
    "            },\n",
    "        },\n",
    "        {\"class\": \"ReLU\", \"kargs\": {\"inplace\": True}},\n",
    "        {\"class\": \"BatchNorm2d\", \"kargs\": {\"num_features\": 256}},\n",
    "        {\n",
    "            \"class\": \"Conv2d\",\n",
    "            \"kargs\": {\n",
    "                \"in_channels\": 256,\n",
    "                \"out_channels\": 80,\n",
    "                \"kernel_size\": [2, 7],\n",
    "                \"bias\": True,\n",
    "                \"padding\": [0, 3],\n",
    "            },\n",
    "        },\n",
    "        {\"class\": \"ReLU\", \"kargs\": {\"inplace\": True}},\n",
    "        {\"class\": \"BatchNorm2d\", \"kargs\": {\"num_features\": 80}},\n",
    "        {\"class\": \"Flatten\", \"kargs\": {}},\n",
    "        {\"class\": \"Linear\", \"kargs\": {\"in_features\": 20480, \"out_features\": 256}},\n",
    "        {\"class\": \"ReLU\", \"kargs\": {\"inplace\": True}},\n",
    "        {\"class\": \"BatchNorm1d\", \"kargs\": {\"num_features\": 256}},\n",
    "        {\"class\": \"Linear\", \"kargs\": {\"in_features\": 256, \"out_features\": 16}},\n",
    "    ],\n",
    "    \"NUM_LOGS_PER_EPOCH\": 10,\n",
    "    \"BEST_MODEL_PATH\": \"./best_model.pth\",\n",
    "    \"dataset_seed\": 7,\n",
    "    \"seed\": 7,\n",
    "}\n"
   ]
  },
  {
   "cell_type": "code",
   "execution_count": 5,
   "id": "759b56ec",
   "metadata": {
    "execution": {
     "iopub.execute_input": "2022-03-27T03:10:06.489930Z",
     "iopub.status.busy": "2022-03-27T03:10:06.489538Z",
     "iopub.status.idle": "2022-03-27T03:10:06.491504Z",
     "shell.execute_reply": "2022-03-27T03:10:06.491126Z"
    },
    "papermill": {
     "duration": 0.020269,
     "end_time": "2022-03-27T03:10:06.491625",
     "exception": false,
     "start_time": "2022-03-27T03:10:06.471356",
     "status": "completed"
    },
    "tags": []
   },
   "outputs": [],
   "source": [
    "# Set this to True if you want to run this template directly\n",
    "STANDALONE = False\n",
    "if STANDALONE:\n",
    "    print(\"parameters not injected, running with standalone_parameters\")\n",
    "    parameters = standalone_parameters\n",
    "\n",
    "if not 'parameters' in locals() and not 'parameters' in globals():\n",
    "    raise Exception(\"Parameter injection failed\")\n",
    "\n",
    "#Use an easy dict for all the parameters\n",
    "p = EasyDict(parameters)\n",
    "\n",
    "supplied_keys = set(p.keys())\n",
    "\n",
    "if  supplied_keys != required_parameters:\n",
    "    print(\"Parameters are incorrect\")\n",
    "    if len(supplied_keys - required_parameters)>0: print(\"Shouldn't have:\", str(supplied_keys - required_parameters))\n",
    "    if len(required_parameters - supplied_keys)>0: print(\"Need to have:\", str(required_parameters - supplied_keys))\n",
    "    raise RuntimeError(\"Parameters are incorrect\")\n",
    "\n"
   ]
  },
  {
   "cell_type": "code",
   "execution_count": 6,
   "id": "d5c66a71",
   "metadata": {
    "execution": {
     "iopub.execute_input": "2022-03-27T03:10:06.537380Z",
     "iopub.status.busy": "2022-03-27T03:10:06.537002Z",
     "iopub.status.idle": "2022-03-27T03:10:06.540829Z",
     "shell.execute_reply": "2022-03-27T03:10:06.541507Z"
    },
    "papermill": {
     "duration": 0.026259,
     "end_time": "2022-03-27T03:10:06.541705",
     "exception": false,
     "start_time": "2022-03-27T03:10:06.515446",
     "status": "completed"
    },
    "tags": []
   },
   "outputs": [],
   "source": [
    "###################################\n",
    "# Set the RNGs and make it all deterministic\n",
    "###################################\n",
    "np.random.seed(p.seed)\n",
    "random.seed(p.seed)\n",
    "torch.manual_seed(p.seed)\n",
    "\n",
    "torch.use_deterministic_algorithms(True) "
   ]
  },
  {
   "cell_type": "code",
   "execution_count": 7,
   "id": "92a65876",
   "metadata": {
    "execution": {
     "iopub.execute_input": "2022-03-27T03:10:06.579448Z",
     "iopub.status.busy": "2022-03-27T03:10:06.579078Z",
     "iopub.status.idle": "2022-03-27T03:10:06.581468Z",
     "shell.execute_reply": "2022-03-27T03:10:06.581775Z"
    },
    "papermill": {
     "duration": 0.020265,
     "end_time": "2022-03-27T03:10:06.581857",
     "exception": false,
     "start_time": "2022-03-27T03:10:06.561592",
     "status": "completed"
    },
    "tags": []
   },
   "outputs": [],
   "source": [
    "torch.set_default_dtype(eval(p.torch_default_dtype))"
   ]
  },
  {
   "cell_type": "code",
   "execution_count": 8,
   "id": "f1a32f01",
   "metadata": {
    "execution": {
     "iopub.execute_input": "2022-03-27T03:10:06.617306Z",
     "iopub.status.busy": "2022-03-27T03:10:06.616939Z",
     "iopub.status.idle": "2022-03-27T03:10:06.657308Z",
     "shell.execute_reply": "2022-03-27T03:10:06.656539Z"
    },
    "papermill": {
     "duration": 0.058305,
     "end_time": "2022-03-27T03:10:06.657492",
     "exception": false,
     "start_time": "2022-03-27T03:10:06.599187",
     "status": "completed"
    },
    "tags": []
   },
   "outputs": [],
   "source": [
    "###################################\n",
    "# Build the network(s)\n",
    "# Note: It's critical to do this AFTER setting the RNG\n",
    "###################################\n",
    "x_net = build_sequential(p.x_net)"
   ]
  },
  {
   "cell_type": "code",
   "execution_count": 9,
   "id": "a276cd83",
   "metadata": {
    "execution": {
     "iopub.execute_input": "2022-03-27T03:10:06.694041Z",
     "iopub.status.busy": "2022-03-27T03:10:06.693674Z",
     "iopub.status.idle": "2022-03-27T03:10:06.696103Z",
     "shell.execute_reply": "2022-03-27T03:10:06.695738Z"
    },
    "papermill": {
     "duration": 0.020405,
     "end_time": "2022-03-27T03:10:06.696174",
     "exception": false,
     "start_time": "2022-03-27T03:10:06.675769",
     "status": "completed"
    },
    "tags": []
   },
   "outputs": [],
   "source": [
    "start_time_secs = time.time()"
   ]
  },
  {
   "cell_type": "code",
   "execution_count": 10,
   "id": "de702e48",
   "metadata": {
    "execution": {
     "iopub.execute_input": "2022-03-27T03:10:06.739833Z",
     "iopub.status.busy": "2022-03-27T03:10:06.734920Z",
     "iopub.status.idle": "2022-03-27T03:10:42.994111Z",
     "shell.execute_reply": "2022-03-27T03:10:42.993290Z"
    },
    "papermill": {
     "duration": 36.281137,
     "end_time": "2022-03-27T03:10:42.994297",
     "exception": false,
     "start_time": "2022-03-27T03:10:06.713160",
     "status": "completed"
    },
    "tags": []
   },
   "outputs": [],
   "source": [
    "def wrap_in_dataloader(p, ds):\n",
    "    return torch.utils.data.DataLoader(\n",
    "        ds,\n",
    "        batch_size=p.batch_size,\n",
    "        shuffle=True,\n",
    "        num_workers=1,\n",
    "        persistent_workers=True,\n",
    "        prefetch_factor=50,\n",
    "        pin_memory=True\n",
    "    )\n",
    "\n",
    "taf_source = Traditional_Accessor_Factory(\n",
    "    labels=p.labels,\n",
    "    domains=p.domains_source,\n",
    "    num_examples_per_domain_per_label=p.num_examples_per_domain_per_label_source,\n",
    "    pickle_path=os.path.join(get_datasets_base_path(), p.pickle_name_source),\n",
    "    seed=p.dataset_seed\n",
    ")\n",
    "train_original_source, val_original_source, test_original_source = \\\n",
    "    taf_source.get_train(), taf_source.get_val(), taf_source.get_test()\n",
    "\n",
    "\n",
    "taf_target = Traditional_Accessor_Factory(\n",
    "    labels=p.labels,\n",
    "    domains=p.domains_target,\n",
    "    num_examples_per_domain_per_label=p.num_examples_per_domain_per_label_source,\n",
    "    pickle_path=os.path.join(get_datasets_base_path(), p.pickle_name_target),\n",
    "    seed=p.dataset_seed\n",
    ")\n",
    "train_original_target, val_original_target, test_original_target = \\\n",
    "    taf_target.get_train(), taf_target.get_val(), taf_target.get_test()\n",
    "\n",
    "\n",
    "# For CNN We only use X and Y. And we only train on the source.\n",
    "# Properly form the data using a transform lambda and Lazy_Map. Finally wrap them in a dataloader\n",
    "\n",
    "transform_lambda = lambda ex: ex[:2] # Strip the tuple to just (x,y)\n",
    "\n",
    "\n",
    "train_processed_source = wrap_in_dataloader(\n",
    "    p,\n",
    "    Lazy_Map(train_original_source, transform_lambda)\n",
    ")\n",
    "val_processed_source = wrap_in_dataloader(\n",
    "    p,\n",
    "    Lazy_Map(val_original_source, transform_lambda)\n",
    ")\n",
    "test_processed_source = wrap_in_dataloader(\n",
    "    p,\n",
    "    Lazy_Map(test_original_source, transform_lambda)\n",
    ")\n",
    "\n",
    "train_processed_target = wrap_in_dataloader(\n",
    "    p,\n",
    "    Lazy_Map(train_original_target, transform_lambda)\n",
    ")\n",
    "val_processed_target = wrap_in_dataloader(\n",
    "    p,\n",
    "    Lazy_Map(val_original_target, transform_lambda)\n",
    ")\n",
    "test_processed_target  = wrap_in_dataloader(\n",
    "    p,\n",
    "    Lazy_Map(test_original_target, transform_lambda)\n",
    ")\n",
    "\n",
    "\n",
    "\n",
    "datasets = EasyDict({\n",
    "    \"source\": {\n",
    "        \"original\": {\"train\":train_original_source, \"val\":val_original_source, \"test\":test_original_source},\n",
    "        \"processed\": {\"train\":train_processed_source, \"val\":val_processed_source, \"test\":test_processed_source}\n",
    "    },\n",
    "    \"target\": {\n",
    "        \"original\": {\"train\":train_original_target, \"val\":val_original_target, \"test\":test_original_target},\n",
    "        \"processed\": {\"train\":train_processed_target, \"val\":val_processed_target, \"test\":test_processed_target}\n",
    "    },\n",
    "})"
   ]
  },
  {
   "cell_type": "code",
   "execution_count": 11,
   "id": "a11b26bd",
   "metadata": {
    "execution": {
     "iopub.execute_input": "2022-03-27T03:10:43.075543Z",
     "iopub.status.busy": "2022-03-27T03:10:43.074698Z",
     "iopub.status.idle": "2022-03-27T03:10:49.006013Z",
     "shell.execute_reply": "2022-03-27T03:10:49.005258Z"
    },
    "papermill": {
     "duration": 5.991383,
     "end_time": "2022-03-27T03:10:49.006192",
     "exception": false,
     "start_time": "2022-03-27T03:10:43.014809",
     "status": "completed"
    },
    "tags": []
   },
   "outputs": [
    {
     "data": {
      "text/plain": [
       "torch.float32"
      ]
     },
     "execution_count": 11,
     "metadata": {},
     "output_type": "execute_result"
    }
   ],
   "source": [
    "ep = next(iter(test_processed_target))\n",
    "ep[0].dtype"
   ]
  },
  {
   "cell_type": "code",
   "execution_count": 12,
   "id": "19425fad",
   "metadata": {
    "execution": {
     "iopub.execute_input": "2022-03-27T03:10:49.046545Z",
     "iopub.status.busy": "2022-03-27T03:10:49.045981Z",
     "iopub.status.idle": "2022-03-27T03:10:49.096188Z",
     "shell.execute_reply": "2022-03-27T03:10:49.095457Z"
    },
    "papermill": {
     "duration": 0.071672,
     "end_time": "2022-03-27T03:10:49.096357",
     "exception": false,
     "start_time": "2022-03-27T03:10:49.024685",
     "status": "completed"
    },
    "tags": []
   },
   "outputs": [],
   "source": [
    "model = Configurable_Vanilla(\n",
    "    x_net=x_net,\n",
    "    label_loss_object=torch.nn.NLLLoss(),\n",
    "    learning_rate=p.lr\n",
    ")"
   ]
  },
  {
   "cell_type": "code",
   "execution_count": 13,
   "id": "7f6d4f2c",
   "metadata": {
    "execution": {
     "iopub.execute_input": "2022-03-27T03:10:49.135169Z",
     "iopub.status.busy": "2022-03-27T03:10:49.134799Z",
     "iopub.status.idle": "2022-03-27T03:32:29.845325Z",
     "shell.execute_reply": "2022-03-27T03:32:29.844823Z"
    },
    "papermill": {
     "duration": 1300.730531,
     "end_time": "2022-03-27T03:32:29.845414",
     "exception": false,
     "start_time": "2022-03-27T03:10:49.114883",
     "status": "completed"
    },
    "tags": []
   },
   "outputs": [
    {
     "name": "stdout",
     "output_type": "stream",
     "text": [
      "epoch: 1, [batch: 1 / 7000], examples_per_second: 323.7035, train_label_loss: 2.7789, \n"
     ]
    },
    {
     "name": "stdout",
     "output_type": "stream",
     "text": [
      "epoch: 1, [batch: 700 / 7000], examples_per_second: 10713.9704, train_label_loss: 2.6106, \n"
     ]
    },
    {
     "name": "stdout",
     "output_type": "stream",
     "text": [
      "epoch: 1, [batch: 1400 / 7000], examples_per_second: 10722.7930, train_label_loss: 2.5721, \n"
     ]
    },
    {
     "name": "stdout",
     "output_type": "stream",
     "text": [
      "epoch: 1, [batch: 2100 / 7000], examples_per_second: 10711.0834, train_label_loss: 2.3539, \n"
     ]
    },
    {
     "name": "stdout",
     "output_type": "stream",
     "text": [
      "epoch: 1, [batch: 2800 / 7000], examples_per_second: 11371.4011, train_label_loss: 2.0717, \n"
     ]
    },
    {
     "name": "stdout",
     "output_type": "stream",
     "text": [
      "epoch: 1, [batch: 3500 / 7000], examples_per_second: 11690.1861, train_label_loss: 1.9015, \n"
     ]
    },
    {
     "name": "stdout",
     "output_type": "stream",
     "text": [
      "epoch: 1, [batch: 4200 / 7000], examples_per_second: 11675.8308, train_label_loss: 1.8099, \n"
     ]
    },
    {
     "name": "stdout",
     "output_type": "stream",
     "text": [
      "epoch: 1, [batch: 4900 / 7000], examples_per_second: 11630.3928, train_label_loss: 1.7369, \n"
     ]
    },
    {
     "name": "stdout",
     "output_type": "stream",
     "text": [
      "epoch: 1, [batch: 5600 / 7000], examples_per_second: 12667.5445, train_label_loss: 1.4736, \n"
     ]
    },
    {
     "name": "stdout",
     "output_type": "stream",
     "text": [
      "epoch: 1, [batch: 6300 / 7000], examples_per_second: 12981.8647, train_label_loss: 1.5544, \n"
     ]
    },
    {
     "name": "stdout",
     "output_type": "stream",
     "text": [
      "=============================================================\n",
      "epoch: 1, source_val_acc_label: 0.5651, source_val_label_loss: 1.2858, target_val_acc_label: 0.5651, target_val_label_loss: 1.2858, \n",
      "=============================================================\n"
     ]
    },
    {
     "name": "stdout",
     "output_type": "stream",
     "text": [
      "New best\n",
      "epoch: 2, [batch: 1 / 7000], examples_per_second: 13.8933, train_label_loss: 1.2539, \n"
     ]
    },
    {
     "name": "stdout",
     "output_type": "stream",
     "text": [
      "epoch: 2, [batch: 700 / 7000], examples_per_second: 13392.3618, train_label_loss: 1.0873, \n"
     ]
    },
    {
     "name": "stdout",
     "output_type": "stream",
     "text": [
      "epoch: 2, [batch: 1400 / 7000], examples_per_second: 11701.6878, train_label_loss: 1.7576, \n"
     ]
    },
    {
     "name": "stdout",
     "output_type": "stream",
     "text": [
      "epoch: 2, [batch: 2100 / 7000], examples_per_second: 11674.4053, train_label_loss: 1.0683, \n"
     ]
    },
    {
     "name": "stdout",
     "output_type": "stream",
     "text": [
      "epoch: 2, [batch: 2800 / 7000], examples_per_second: 11777.4768, train_label_loss: 1.4845, \n"
     ]
    },
    {
     "name": "stdout",
     "output_type": "stream",
     "text": [
      "epoch: 2, [batch: 3500 / 7000], examples_per_second: 11590.1746, train_label_loss: 1.1220, \n"
     ]
    },
    {
     "name": "stdout",
     "output_type": "stream",
     "text": [
      "epoch: 2, [batch: 4200 / 7000], examples_per_second: 10611.5932, train_label_loss: 0.9803, \n"
     ]
    },
    {
     "name": "stdout",
     "output_type": "stream",
     "text": [
      "epoch: 2, [batch: 4900 / 7000], examples_per_second: 10632.2946, train_label_loss: 0.9753, \n"
     ]
    },
    {
     "name": "stdout",
     "output_type": "stream",
     "text": [
      "epoch: 2, [batch: 5600 / 7000], examples_per_second: 10637.2229, train_label_loss: 1.1498, \n"
     ]
    },
    {
     "name": "stdout",
     "output_type": "stream",
     "text": [
      "epoch: 2, [batch: 6300 / 7000], examples_per_second: 10542.3368, train_label_loss: 1.1288, \n"
     ]
    },
    {
     "name": "stdout",
     "output_type": "stream",
     "text": [
      "=============================================================\n",
      "epoch: 2, source_val_acc_label: 0.7083, source_val_label_loss: 0.8618, target_val_acc_label: 0.7083, target_val_label_loss: 0.8618, \n",
      "=============================================================\n"
     ]
    },
    {
     "name": "stdout",
     "output_type": "stream",
     "text": [
      "New best\n",
      "epoch: 3, [batch: 1 / 7000], examples_per_second: 11.5093, train_label_loss: 0.7892, \n"
     ]
    },
    {
     "name": "stdout",
     "output_type": "stream",
     "text": [
      "epoch: 3, [batch: 700 / 7000], examples_per_second: 10675.8411, train_label_loss: 1.0167, \n"
     ]
    },
    {
     "name": "stdout",
     "output_type": "stream",
     "text": [
      "epoch: 3, [batch: 1400 / 7000], examples_per_second: 10663.2971, train_label_loss: 1.2899, \n"
     ]
    },
    {
     "name": "stdout",
     "output_type": "stream",
     "text": [
      "epoch: 3, [batch: 2100 / 7000], examples_per_second: 10633.5575, train_label_loss: 0.8718, \n"
     ]
    },
    {
     "name": "stdout",
     "output_type": "stream",
     "text": [
      "epoch: 3, [batch: 2800 / 7000], examples_per_second: 10670.7456, train_label_loss: 0.7439, \n"
     ]
    },
    {
     "name": "stdout",
     "output_type": "stream",
     "text": [
      "epoch: 3, [batch: 3500 / 7000], examples_per_second: 10700.9107, train_label_loss: 0.7637, \n"
     ]
    },
    {
     "name": "stdout",
     "output_type": "stream",
     "text": [
      "epoch: 3, [batch: 4200 / 7000], examples_per_second: 10675.8825, train_label_loss: 0.8691, \n"
     ]
    },
    {
     "name": "stdout",
     "output_type": "stream",
     "text": [
      "epoch: 3, [batch: 4900 / 7000], examples_per_second: 10650.0999, train_label_loss: 0.9088, \n"
     ]
    },
    {
     "name": "stdout",
     "output_type": "stream",
     "text": [
      "epoch: 3, [batch: 5600 / 7000], examples_per_second: 10641.6627, train_label_loss: 0.7545, \n"
     ]
    },
    {
     "name": "stdout",
     "output_type": "stream",
     "text": [
      "epoch: 3, [batch: 6300 / 7000], examples_per_second: 10722.7446, train_label_loss: 0.8803, \n"
     ]
    },
    {
     "name": "stdout",
     "output_type": "stream",
     "text": [
      "=============================================================\n",
      "epoch: 3, source_val_acc_label: 0.7352, source_val_label_loss: 0.7404, target_val_acc_label: 0.7352, target_val_label_loss: 0.7404, \n",
      "=============================================================\n"
     ]
    },
    {
     "name": "stdout",
     "output_type": "stream",
     "text": [
      "New best\n",
      "epoch: 4, [batch: 1 / 7000], examples_per_second: 11.4967, train_label_loss: 1.0397, \n"
     ]
    },
    {
     "name": "stdout",
     "output_type": "stream",
     "text": [
      "epoch: 4, [batch: 700 / 7000], examples_per_second: 10631.4020, train_label_loss: 0.6531, \n"
     ]
    },
    {
     "name": "stdout",
     "output_type": "stream",
     "text": [
      "epoch: 4, [batch: 1400 / 7000], examples_per_second: 10632.4543, train_label_loss: 0.6619, \n"
     ]
    },
    {
     "name": "stdout",
     "output_type": "stream",
     "text": [
      "epoch: 4, [batch: 2100 / 7000], examples_per_second: 10640.6428, train_label_loss: 0.6725, \n"
     ]
    },
    {
     "name": "stdout",
     "output_type": "stream",
     "text": [
      "epoch: 4, [batch: 2800 / 7000], examples_per_second: 10641.5401, train_label_loss: 0.6445, \n"
     ]
    },
    {
     "name": "stdout",
     "output_type": "stream",
     "text": [
      "epoch: 4, [batch: 3500 / 7000], examples_per_second: 10575.2730, train_label_loss: 0.6452, \n"
     ]
    },
    {
     "name": "stdout",
     "output_type": "stream",
     "text": [
      "epoch: 4, [batch: 4200 / 7000], examples_per_second: 10652.7049, train_label_loss: 0.6794, \n"
     ]
    },
    {
     "name": "stdout",
     "output_type": "stream",
     "text": [
      "epoch: 4, [batch: 4900 / 7000], examples_per_second: 10655.9891, train_label_loss: 0.9376, \n"
     ]
    },
    {
     "name": "stdout",
     "output_type": "stream",
     "text": [
      "epoch: 4, [batch: 5600 / 7000], examples_per_second: 10647.0347, train_label_loss: 0.6721, \n"
     ]
    },
    {
     "name": "stdout",
     "output_type": "stream",
     "text": [
      "epoch: 4, [batch: 6300 / 7000], examples_per_second: 10682.0453, train_label_loss: 0.6971, \n"
     ]
    },
    {
     "name": "stdout",
     "output_type": "stream",
     "text": [
      "=============================================================\n",
      "epoch: 4, source_val_acc_label: 0.7582, source_val_label_loss: 0.6758, target_val_acc_label: 0.7582, target_val_label_loss: 0.6758, \n",
      "=============================================================\n"
     ]
    },
    {
     "name": "stdout",
     "output_type": "stream",
     "text": [
      "New best\n",
      "epoch: 5, [batch: 1 / 7000], examples_per_second: 11.4813, train_label_loss: 0.5818, \n"
     ]
    },
    {
     "name": "stdout",
     "output_type": "stream",
     "text": [
      "epoch: 5, [batch: 700 / 7000], examples_per_second: 10691.8361, train_label_loss: 0.6921, \n"
     ]
    },
    {
     "name": "stdout",
     "output_type": "stream",
     "text": [
      "epoch: 5, [batch: 1400 / 7000], examples_per_second: 11184.1063, train_label_loss: 0.5370, \n"
     ]
    },
    {
     "name": "stdout",
     "output_type": "stream",
     "text": [
      "epoch: 5, [batch: 2100 / 7000], examples_per_second: 11722.3012, train_label_loss: 1.0468, \n"
     ]
    },
    {
     "name": "stdout",
     "output_type": "stream",
     "text": [
      "epoch: 5, [batch: 2800 / 7000], examples_per_second: 11738.5964, train_label_loss: 0.7125, \n"
     ]
    },
    {
     "name": "stdout",
     "output_type": "stream",
     "text": [
      "epoch: 5, [batch: 3500 / 7000], examples_per_second: 11750.3053, train_label_loss: 0.9014, \n"
     ]
    },
    {
     "name": "stdout",
     "output_type": "stream",
     "text": [
      "epoch: 5, [batch: 4200 / 7000], examples_per_second: 12378.6231, train_label_loss: 0.5058, \n"
     ]
    },
    {
     "name": "stdout",
     "output_type": "stream",
     "text": [
      "epoch: 5, [batch: 4900 / 7000], examples_per_second: 13171.7412, train_label_loss: 0.4523, \n"
     ]
    },
    {
     "name": "stdout",
     "output_type": "stream",
     "text": [
      "epoch: 5, [batch: 5600 / 7000], examples_per_second: 12848.8016, train_label_loss: 0.7408, \n"
     ]
    },
    {
     "name": "stdout",
     "output_type": "stream",
     "text": [
      "epoch: 5, [batch: 6300 / 7000], examples_per_second: 12941.4620, train_label_loss: 0.5615, \n"
     ]
    },
    {
     "name": "stdout",
     "output_type": "stream",
     "text": [
      "=============================================================\n",
      "epoch: 5, source_val_acc_label: 0.7662, source_val_label_loss: 0.6361, target_val_acc_label: 0.7662, target_val_label_loss: 0.6361, \n",
      "=============================================================\n"
     ]
    },
    {
     "name": "stdout",
     "output_type": "stream",
     "text": [
      "New best\n",
      "epoch: 6, [batch: 1 / 7000], examples_per_second: 15.2839, train_label_loss: 0.5154, \n"
     ]
    },
    {
     "name": "stdout",
     "output_type": "stream",
     "text": [
      "epoch: 6, [batch: 700 / 7000], examples_per_second: 12275.8940, train_label_loss: 0.6059, \n"
     ]
    },
    {
     "name": "stdout",
     "output_type": "stream",
     "text": [
      "epoch: 6, [batch: 1400 / 7000], examples_per_second: 11757.8623, train_label_loss: 0.4442, \n"
     ]
    },
    {
     "name": "stdout",
     "output_type": "stream",
     "text": [
      "epoch: 6, [batch: 2100 / 7000], examples_per_second: 11835.8825, train_label_loss: 0.3592, \n"
     ]
    },
    {
     "name": "stdout",
     "output_type": "stream",
     "text": [
      "epoch: 6, [batch: 2800 / 7000], examples_per_second: 11927.1463, train_label_loss: 0.6854, \n"
     ]
    },
    {
     "name": "stdout",
     "output_type": "stream",
     "text": [
      "epoch: 6, [batch: 3500 / 7000], examples_per_second: 10708.3628, train_label_loss: 0.6307, \n"
     ]
    },
    {
     "name": "stdout",
     "output_type": "stream",
     "text": [
      "epoch: 6, [batch: 4200 / 7000], examples_per_second: 10738.2301, train_label_loss: 0.5272, \n"
     ]
    },
    {
     "name": "stdout",
     "output_type": "stream",
     "text": [
      "epoch: 6, [batch: 4900 / 7000], examples_per_second: 10752.2222, train_label_loss: 0.4747, \n"
     ]
    },
    {
     "name": "stdout",
     "output_type": "stream",
     "text": [
      "epoch: 6, [batch: 5600 / 7000], examples_per_second: 10761.2880, train_label_loss: 0.7211, \n"
     ]
    },
    {
     "name": "stdout",
     "output_type": "stream",
     "text": [
      "epoch: 6, [batch: 6300 / 7000], examples_per_second: 10729.5372, train_label_loss: 0.7777, \n"
     ]
    },
    {
     "name": "stdout",
     "output_type": "stream",
     "text": [
      "=============================================================\n",
      "epoch: 6, source_val_acc_label: 0.7644, source_val_label_loss: 0.6355, target_val_acc_label: 0.7644, target_val_label_loss: 0.6355, \n",
      "=============================================================\n"
     ]
    },
    {
     "name": "stdout",
     "output_type": "stream",
     "text": [
      "epoch: 7, [batch: 1 / 7000], examples_per_second: 11.4481, train_label_loss: 0.7165, \n"
     ]
    },
    {
     "name": "stdout",
     "output_type": "stream",
     "text": [
      "epoch: 7, [batch: 700 / 7000], examples_per_second: 10697.8954, train_label_loss: 0.2887, \n"
     ]
    },
    {
     "name": "stdout",
     "output_type": "stream",
     "text": [
      "epoch: 7, [batch: 1400 / 7000], examples_per_second: 10747.5052, train_label_loss: 0.3342, \n"
     ]
    },
    {
     "name": "stdout",
     "output_type": "stream",
     "text": [
      "epoch: 7, [batch: 2100 / 7000], examples_per_second: 10697.5600, train_label_loss: 0.5584, \n"
     ]
    },
    {
     "name": "stdout",
     "output_type": "stream",
     "text": [
      "epoch: 7, [batch: 2800 / 7000], examples_per_second: 10708.4717, train_label_loss: 0.3785, \n"
     ]
    },
    {
     "name": "stdout",
     "output_type": "stream",
     "text": [
      "epoch: 7, [batch: 3500 / 7000], examples_per_second: 10782.0875, train_label_loss: 0.4401, \n"
     ]
    },
    {
     "name": "stdout",
     "output_type": "stream",
     "text": [
      "epoch: 7, [batch: 4200 / 7000], examples_per_second: 10738.0297, train_label_loss: 0.5501, \n"
     ]
    },
    {
     "name": "stdout",
     "output_type": "stream",
     "text": [
      "epoch: 7, [batch: 4900 / 7000], examples_per_second: 10739.2016, train_label_loss: 0.4367, \n"
     ]
    },
    {
     "name": "stdout",
     "output_type": "stream",
     "text": [
      "epoch: 7, [batch: 5600 / 7000], examples_per_second: 10730.2826, train_label_loss: 0.4294, \n"
     ]
    },
    {
     "name": "stdout",
     "output_type": "stream",
     "text": [
      "epoch: 7, [batch: 6300 / 7000], examples_per_second: 10733.6351, train_label_loss: 0.4068, \n"
     ]
    },
    {
     "name": "stdout",
     "output_type": "stream",
     "text": [
      "=============================================================\n",
      "epoch: 7, source_val_acc_label: 0.7539, source_val_label_loss: 0.6886, target_val_acc_label: 0.7539, target_val_label_loss: 0.6886, \n",
      "=============================================================\n"
     ]
    },
    {
     "name": "stdout",
     "output_type": "stream",
     "text": [
      "epoch: 8, [batch: 1 / 7000], examples_per_second: 11.4620, train_label_loss: 0.3555, \n"
     ]
    },
    {
     "name": "stdout",
     "output_type": "stream",
     "text": [
      "epoch: 8, [batch: 700 / 7000], examples_per_second: 10746.1578, train_label_loss: 0.3336, \n"
     ]
    },
    {
     "name": "stdout",
     "output_type": "stream",
     "text": [
      "epoch: 8, [batch: 1400 / 7000], examples_per_second: 10694.3901, train_label_loss: 0.4119, \n"
     ]
    },
    {
     "name": "stdout",
     "output_type": "stream",
     "text": [
      "epoch: 8, [batch: 2100 / 7000], examples_per_second: 10736.5722, train_label_loss: 0.4058, \n"
     ]
    },
    {
     "name": "stdout",
     "output_type": "stream",
     "text": [
      "epoch: 8, [batch: 2800 / 7000], examples_per_second: 10726.1380, train_label_loss: 0.5978, \n"
     ]
    },
    {
     "name": "stdout",
     "output_type": "stream",
     "text": [
      "epoch: 8, [batch: 3500 / 7000], examples_per_second: 10744.7664, train_label_loss: 0.4204, \n"
     ]
    },
    {
     "name": "stdout",
     "output_type": "stream",
     "text": [
      "epoch: 8, [batch: 4200 / 7000], examples_per_second: 10772.3493, train_label_loss: 0.4422, \n"
     ]
    },
    {
     "name": "stdout",
     "output_type": "stream",
     "text": [
      "epoch: 8, [batch: 4900 / 7000], examples_per_second: 10687.0933, train_label_loss: 0.3581, \n"
     ]
    },
    {
     "name": "stdout",
     "output_type": "stream",
     "text": [
      "epoch: 8, [batch: 5600 / 7000], examples_per_second: 10757.8902, train_label_loss: 0.3775, \n"
     ]
    },
    {
     "name": "stdout",
     "output_type": "stream",
     "text": [
      "epoch: 8, [batch: 6300 / 7000], examples_per_second: 10729.6098, train_label_loss: 0.3434, \n"
     ]
    },
    {
     "name": "stdout",
     "output_type": "stream",
     "text": [
      "=============================================================\n",
      "epoch: 8, source_val_acc_label: 0.7615, source_val_label_loss: 0.6604, target_val_acc_label: 0.7615, target_val_label_loss: 0.6604, \n",
      "=============================================================\n"
     ]
    },
    {
     "name": "stdout",
     "output_type": "stream",
     "text": [
      "epoch: 9, [batch: 1 / 7000], examples_per_second: 11.4241, train_label_loss: 0.2845, \n"
     ]
    },
    {
     "name": "stdout",
     "output_type": "stream",
     "text": [
      "epoch: 9, [batch: 700 / 7000], examples_per_second: 10696.2373, train_label_loss: 0.2920, \n"
     ]
    },
    {
     "name": "stdout",
     "output_type": "stream",
     "text": [
      "epoch: 9, [batch: 1400 / 7000], examples_per_second: 11371.8017, train_label_loss: 0.5067, \n"
     ]
    },
    {
     "name": "stdout",
     "output_type": "stream",
     "text": [
      "epoch: 9, [batch: 2100 / 7000], examples_per_second: 11765.3962, train_label_loss: 0.5603, \n"
     ]
    },
    {
     "name": "stdout",
     "output_type": "stream",
     "text": [
      "epoch: 9, [batch: 2800 / 7000], examples_per_second: 11744.1683, train_label_loss: 0.4612, \n"
     ]
    },
    {
     "name": "stdout",
     "output_type": "stream",
     "text": [
      "epoch: 9, [batch: 3500 / 7000], examples_per_second: 11897.4013, train_label_loss: 0.3915, \n"
     ]
    },
    {
     "name": "stdout",
     "output_type": "stream",
     "text": [
      "epoch: 9, [batch: 4200 / 7000], examples_per_second: 13017.7619, train_label_loss: 0.3668, \n"
     ]
    },
    {
     "name": "stdout",
     "output_type": "stream",
     "text": [
      "epoch: 9, [batch: 4900 / 7000], examples_per_second: 13134.9533, train_label_loss: 0.3225, \n"
     ]
    },
    {
     "name": "stdout",
     "output_type": "stream",
     "text": [
      "epoch: 9, [batch: 5600 / 7000], examples_per_second: 13069.8035, train_label_loss: 0.3820, \n"
     ]
    },
    {
     "name": "stdout",
     "output_type": "stream",
     "text": [
      "epoch: 9, [batch: 6300 / 7000], examples_per_second: 12998.3151, train_label_loss: 0.3204, \n"
     ]
    },
    {
     "name": "stdout",
     "output_type": "stream",
     "text": [
      "=============================================================\n",
      "epoch: 9, source_val_acc_label: 0.7785, source_val_label_loss: 0.6064, target_val_acc_label: 0.7785, target_val_label_loss: 0.6064, \n",
      "=============================================================\n"
     ]
    },
    {
     "name": "stdout",
     "output_type": "stream",
     "text": [
      "New best\n",
      "epoch: 10, [batch: 1 / 7000], examples_per_second: 15.3507, train_label_loss: 0.2956, \n"
     ]
    },
    {
     "name": "stdout",
     "output_type": "stream",
     "text": [
      "epoch: 10, [batch: 700 / 7000], examples_per_second: 12301.9935, train_label_loss: 0.2173, \n"
     ]
    },
    {
     "name": "stdout",
     "output_type": "stream",
     "text": [
      "epoch: 10, [batch: 1400 / 7000], examples_per_second: 11787.9529, train_label_loss: 0.2900, \n"
     ]
    },
    {
     "name": "stdout",
     "output_type": "stream",
     "text": [
      "epoch: 10, [batch: 2100 / 7000], examples_per_second: 12120.9334, train_label_loss: 0.2730, \n"
     ]
    },
    {
     "name": "stdout",
     "output_type": "stream",
     "text": [
      "epoch: 10, [batch: 2800 / 7000], examples_per_second: 11280.2957, train_label_loss: 0.3290, \n"
     ]
    },
    {
     "name": "stdout",
     "output_type": "stream",
     "text": [
      "epoch: 10, [batch: 3500 / 7000], examples_per_second: 10764.1132, train_label_loss: 0.3677, \n"
     ]
    },
    {
     "name": "stdout",
     "output_type": "stream",
     "text": [
      "epoch: 10, [batch: 4200 / 7000], examples_per_second: 10706.9310, train_label_loss: 0.4394, \n"
     ]
    },
    {
     "name": "stdout",
     "output_type": "stream",
     "text": [
      "epoch: 10, [batch: 4900 / 7000], examples_per_second: 10724.5828, train_label_loss: 0.3623, \n"
     ]
    },
    {
     "name": "stdout",
     "output_type": "stream",
     "text": [
      "epoch: 10, [batch: 5600 / 7000], examples_per_second: 10719.4417, train_label_loss: 0.2555, \n"
     ]
    },
    {
     "name": "stdout",
     "output_type": "stream",
     "text": [
      "epoch: 10, [batch: 6300 / 7000], examples_per_second: 10725.4061, train_label_loss: 0.3583, \n"
     ]
    },
    {
     "name": "stdout",
     "output_type": "stream",
     "text": [
      "=============================================================\n",
      "epoch: 10, source_val_acc_label: 0.7803, source_val_label_loss: 0.6117, target_val_acc_label: 0.7803, target_val_label_loss: 0.6117, \n",
      "=============================================================\n"
     ]
    },
    {
     "name": "stdout",
     "output_type": "stream",
     "text": [
      "New best\n",
      "epoch: 11, [batch: 1 / 7000], examples_per_second: 11.5402, train_label_loss: 0.2519, \n"
     ]
    },
    {
     "name": "stdout",
     "output_type": "stream",
     "text": [
      "epoch: 11, [batch: 700 / 7000], examples_per_second: 10744.2967, train_label_loss: 0.3148, \n"
     ]
    },
    {
     "name": "stdout",
     "output_type": "stream",
     "text": [
      "epoch: 11, [batch: 1400 / 7000], examples_per_second: 10739.0463, train_label_loss: 0.2321, \n"
     ]
    },
    {
     "name": "stdout",
     "output_type": "stream",
     "text": [
      "epoch: 11, [batch: 2100 / 7000], examples_per_second: 10756.2749, train_label_loss: 0.2623, \n"
     ]
    },
    {
     "name": "stdout",
     "output_type": "stream",
     "text": [
      "epoch: 11, [batch: 2800 / 7000], examples_per_second: 10766.9415, train_label_loss: 0.3648, \n"
     ]
    },
    {
     "name": "stdout",
     "output_type": "stream",
     "text": [
      "epoch: 11, [batch: 3500 / 7000], examples_per_second: 10737.6867, train_label_loss: 0.3953, \n"
     ]
    },
    {
     "name": "stdout",
     "output_type": "stream",
     "text": [
      "epoch: 11, [batch: 4200 / 7000], examples_per_second: 10751.0730, train_label_loss: 0.2821, \n"
     ]
    },
    {
     "name": "stdout",
     "output_type": "stream",
     "text": [
      "epoch: 11, [batch: 4900 / 7000], examples_per_second: 10730.5433, train_label_loss: 0.2713, \n"
     ]
    },
    {
     "name": "stdout",
     "output_type": "stream",
     "text": [
      "epoch: 11, [batch: 5600 / 7000], examples_per_second: 10726.9830, train_label_loss: 0.3867, \n"
     ]
    },
    {
     "name": "stdout",
     "output_type": "stream",
     "text": [
      "epoch: 11, [batch: 6300 / 7000], examples_per_second: 10747.4201, train_label_loss: 0.4509, \n"
     ]
    },
    {
     "name": "stdout",
     "output_type": "stream",
     "text": [
      "=============================================================\n",
      "epoch: 11, source_val_acc_label: 0.7687, source_val_label_loss: 0.6636, target_val_acc_label: 0.7687, target_val_label_loss: 0.6636, \n",
      "=============================================================\n"
     ]
    },
    {
     "name": "stdout",
     "output_type": "stream",
     "text": [
      "epoch: 12, [batch: 1 / 7000], examples_per_second: 11.7059, train_label_loss: 0.1499, \n"
     ]
    },
    {
     "name": "stdout",
     "output_type": "stream",
     "text": [
      "epoch: 12, [batch: 700 / 7000], examples_per_second: 10697.4642, train_label_loss: 0.2530, \n"
     ]
    },
    {
     "name": "stdout",
     "output_type": "stream",
     "text": [
      "epoch: 12, [batch: 1400 / 7000], examples_per_second: 10737.6532, train_label_loss: 0.3793, \n"
     ]
    },
    {
     "name": "stdout",
     "output_type": "stream",
     "text": [
      "epoch: 12, [batch: 2100 / 7000], examples_per_second: 10724.9151, train_label_loss: 0.3853, \n"
     ]
    },
    {
     "name": "stdout",
     "output_type": "stream",
     "text": [
      "epoch: 12, [batch: 2800 / 7000], examples_per_second: 10739.8915, train_label_loss: 0.2438, \n"
     ]
    },
    {
     "name": "stdout",
     "output_type": "stream",
     "text": [
      "epoch: 12, [batch: 3500 / 7000], examples_per_second: 10775.1658, train_label_loss: 0.3747, \n"
     ]
    },
    {
     "name": "stdout",
     "output_type": "stream",
     "text": [
      "epoch: 12, [batch: 4200 / 7000], examples_per_second: 10710.6050, train_label_loss: 0.2530, \n"
     ]
    },
    {
     "name": "stdout",
     "output_type": "stream",
     "text": [
      "epoch: 12, [batch: 4900 / 7000], examples_per_second: 10727.6849, train_label_loss: 0.2982, \n"
     ]
    },
    {
     "name": "stdout",
     "output_type": "stream",
     "text": [
      "epoch: 12, [batch: 5600 / 7000], examples_per_second: 10739.5551, train_label_loss: 0.2972, \n"
     ]
    },
    {
     "name": "stdout",
     "output_type": "stream",
     "text": [
      "epoch: 12, [batch: 6300 / 7000], examples_per_second: 10740.1760, train_label_loss: 0.3887, \n"
     ]
    },
    {
     "name": "stdout",
     "output_type": "stream",
     "text": [
      "=============================================================\n",
      "epoch: 12, source_val_acc_label: 0.7580, source_val_label_loss: 0.7068, target_val_acc_label: 0.7580, target_val_label_loss: 0.7068, \n",
      "=============================================================\n"
     ]
    },
    {
     "name": "stdout",
     "output_type": "stream",
     "text": [
      "epoch: 13, [batch: 1 / 7000], examples_per_second: 11.6932, train_label_loss: 0.2653, \n"
     ]
    },
    {
     "name": "stdout",
     "output_type": "stream",
     "text": [
      "epoch: 13, [batch: 700 / 7000], examples_per_second: 10636.9084, train_label_loss: 0.1598, \n"
     ]
    },
    {
     "name": "stdout",
     "output_type": "stream",
     "text": [
      "epoch: 13, [batch: 1400 / 7000], examples_per_second: 11023.0811, train_label_loss: 0.2514, \n"
     ]
    },
    {
     "name": "stdout",
     "output_type": "stream",
     "text": [
      "epoch: 13, [batch: 2100 / 7000], examples_per_second: 11741.5224, train_label_loss: 0.2504, \n"
     ]
    },
    {
     "name": "stdout",
     "output_type": "stream",
     "text": [
      "epoch: 13, [batch: 2800 / 7000], examples_per_second: 11754.0605, train_label_loss: 0.5171, \n"
     ]
    },
    {
     "name": "stdout",
     "output_type": "stream",
     "text": [
      "epoch: 13, [batch: 3500 / 7000], examples_per_second: 11878.7931, train_label_loss: 0.2714, \n"
     ]
    },
    {
     "name": "stdout",
     "output_type": "stream",
     "text": [
      "epoch: 13, [batch: 4200 / 7000], examples_per_second: 12971.3931, train_label_loss: 0.3193, \n"
     ]
    },
    {
     "name": "stdout",
     "output_type": "stream",
     "text": [
      "epoch: 13, [batch: 4900 / 7000], examples_per_second: 13065.7970, train_label_loss: 0.1903, \n"
     ]
    },
    {
     "name": "stdout",
     "output_type": "stream",
     "text": [
      "epoch: 13, [batch: 5600 / 7000], examples_per_second: 13043.1561, train_label_loss: 0.1976, \n"
     ]
    },
    {
     "name": "stdout",
     "output_type": "stream",
     "text": [
      "epoch: 13, [batch: 6300 / 7000], examples_per_second: 12998.9643, train_label_loss: 0.2696, \n"
     ]
    },
    {
     "name": "stdout",
     "output_type": "stream",
     "text": [
      "=============================================================\n",
      "epoch: 13, source_val_acc_label: 0.7759, source_val_label_loss: 0.6587, target_val_acc_label: 0.7759, target_val_label_loss: 0.6587, \n",
      "=============================================================\n"
     ]
    },
    {
     "name": "stdout",
     "output_type": "stream",
     "text": [
      "epoch: 14, [batch: 1 / 7000], examples_per_second: 15.2202, train_label_loss: 0.1527, \n"
     ]
    },
    {
     "name": "stdout",
     "output_type": "stream",
     "text": [
      "epoch: 14, [batch: 700 / 7000], examples_per_second: 12796.0252, train_label_loss: 0.3222, \n"
     ]
    },
    {
     "name": "stdout",
     "output_type": "stream",
     "text": [
      "epoch: 14, [batch: 1400 / 7000], examples_per_second: 11796.0545, train_label_loss: 0.3819, \n"
     ]
    },
    {
     "name": "stdout",
     "output_type": "stream",
     "text": [
      "epoch: 14, [batch: 2100 / 7000], examples_per_second: 12186.7169, train_label_loss: 0.3091, \n"
     ]
    },
    {
     "name": "stdout",
     "output_type": "stream",
     "text": [
      "epoch: 14, [batch: 2800 / 7000], examples_per_second: 11266.3607, train_label_loss: 0.3367, \n"
     ]
    },
    {
     "name": "stdout",
     "output_type": "stream",
     "text": [
      "epoch: 14, [batch: 3500 / 7000], examples_per_second: 10685.2191, train_label_loss: 0.2686, \n"
     ]
    },
    {
     "name": "stdout",
     "output_type": "stream",
     "text": [
      "epoch: 14, [batch: 4200 / 7000], examples_per_second: 10707.5085, train_label_loss: 0.2946, \n"
     ]
    },
    {
     "name": "stdout",
     "output_type": "stream",
     "text": [
      "epoch: 14, [batch: 4900 / 7000], examples_per_second: 10698.2133, train_label_loss: 0.4358, \n"
     ]
    },
    {
     "name": "stdout",
     "output_type": "stream",
     "text": [
      "epoch: 14, [batch: 5600 / 7000], examples_per_second: 10702.7557, train_label_loss: 0.3988, \n"
     ]
    },
    {
     "name": "stdout",
     "output_type": "stream",
     "text": [
      "epoch: 14, [batch: 6300 / 7000], examples_per_second: 10722.4032, train_label_loss: 0.2463, \n"
     ]
    },
    {
     "name": "stdout",
     "output_type": "stream",
     "text": [
      "=============================================================\n",
      "epoch: 14, source_val_acc_label: 0.7678, source_val_label_loss: 0.7003, target_val_acc_label: 0.7678, target_val_label_loss: 0.7003, \n",
      "=============================================================\n"
     ]
    },
    {
     "name": "stdout",
     "output_type": "stream",
     "text": [
      "Patience (3) exhausted\n"
     ]
    }
   ],
   "source": [
    "jig = Vanilla_Train_Eval_Test_Jig(\n",
    "    model=model,\n",
    "    path_to_best_model=p.BEST_MODEL_PATH,\n",
    "    device=p.device,\n",
    "    label_loss_object=torch.nn.NLLLoss(),\n",
    ")\n",
    "\n",
    "jig.train(\n",
    "    train_iterable=datasets.source.processed.train,\n",
    "    source_val_iterable=datasets.source.processed.val,\n",
    "    target_val_iterable=datasets.target.processed.val,\n",
    "    patience=p.patience,\n",
    "    num_epochs=p.n_epoch,\n",
    "    num_logs_per_epoch=p.NUM_LOGS_PER_EPOCH,\n",
    "    criteria_for_best=p.criteria_for_best\n",
    ")"
   ]
  },
  {
   "cell_type": "code",
   "execution_count": 14,
   "id": "4bc2ac17",
   "metadata": {
    "execution": {
     "iopub.execute_input": "2022-03-27T03:32:29.977310Z",
     "iopub.status.busy": "2022-03-27T03:32:29.976348Z",
     "iopub.status.idle": "2022-03-27T03:32:29.979504Z",
     "shell.execute_reply": "2022-03-27T03:32:29.978938Z"
    },
    "papermill": {
     "duration": 0.07042,
     "end_time": "2022-03-27T03:32:29.979661",
     "exception": false,
     "start_time": "2022-03-27T03:32:29.909241",
     "status": "completed"
    },
    "tags": []
   },
   "outputs": [],
   "source": [
    "total_experiment_time_secs = time.time() - start_time_secs"
   ]
  },
  {
   "cell_type": "code",
   "execution_count": 15,
   "id": "cae88f23",
   "metadata": {
    "execution": {
     "iopub.execute_input": "2022-03-27T03:32:30.115761Z",
     "iopub.status.busy": "2022-03-27T03:32:30.106809Z",
     "iopub.status.idle": "2022-03-27T03:34:24.935206Z",
     "shell.execute_reply": "2022-03-27T03:34:24.934321Z"
    },
    "papermill": {
     "duration": 114.891215,
     "end_time": "2022-03-27T03:34:24.935396",
     "exception": false,
     "start_time": "2022-03-27T03:32:30.044181",
     "status": "completed"
    },
    "tags": []
   },
   "outputs": [],
   "source": [
    "source_test_label_accuracy, source_test_label_loss = jig.test(datasets.source.processed.test)\n",
    "target_test_label_accuracy, target_test_label_loss = jig.test(datasets.target.processed.test)\n",
    "\n",
    "source_val_label_accuracy, source_val_label_loss = jig.test(datasets.source.processed.val)\n",
    "target_val_label_accuracy, target_val_label_loss = jig.test(datasets.target.processed.val)\n",
    "\n",
    "history = jig.get_history()\n",
    "\n",
    "total_epochs_trained = len(history[\"epoch_indices\"])\n",
    "\n",
    "val_dl = wrap_in_dataloader(p, Sequence_Aggregator((datasets.source.original.val, datasets.target.original.val)))\n",
    "\n",
    "confusion = confusion_by_domain_over_dataloader(model, p.device, val_dl, forward_uses_domain=False)\n",
    "per_domain_accuracy = per_domain_accuracy_from_confusion(confusion)\n",
    "\n",
    "# Add a key to per_domain_accuracy for if it was a source domain\n",
    "for domain, accuracy in per_domain_accuracy.items():\n",
    "    per_domain_accuracy[domain] = {\n",
    "        \"accuracy\": accuracy,\n",
    "        \"source?\": domain in p.domains_source\n",
    "    }\n",
    "\n",
    "# Do an independent accuracy assesment JUST TO BE SURE!\n",
    "# _source_test_label_accuracy = independent_accuracy_assesment(model, datasets.source.processed.test, p.device)\n",
    "# _target_test_label_accuracy = independent_accuracy_assesment(model, datasets.target.processed.test, p.device)\n",
    "# _source_val_label_accuracy = independent_accuracy_assesment(model, datasets.source.processed.val, p.device)\n",
    "# _target_val_label_accuracy = independent_accuracy_assesment(model, datasets.target.processed.val, p.device)\n",
    "\n",
    "# assert(_source_test_label_accuracy == source_test_label_accuracy)\n",
    "# assert(_target_test_label_accuracy == target_test_label_accuracy)\n",
    "# assert(_source_val_label_accuracy == source_val_label_accuracy)\n",
    "# assert(_target_val_label_accuracy == target_val_label_accuracy)\n",
    "\n",
    "###################################\n",
    "# Write out the results\n",
    "###################################\n",
    "\n",
    "experiment = {\n",
    "    \"experiment_name\": p.experiment_name,\n",
    "    \"parameters\": p,\n",
    "    \"results\": {\n",
    "        \"source_test_label_accuracy\": source_test_label_accuracy,\n",
    "        \"source_test_label_loss\": source_test_label_loss,\n",
    "        \"target_test_label_accuracy\": target_test_label_accuracy,\n",
    "        \"target_test_label_loss\": target_test_label_loss,\n",
    "        \"source_val_label_accuracy\": source_val_label_accuracy,\n",
    "        \"source_val_label_loss\": source_val_label_loss,\n",
    "        \"target_val_label_accuracy\": target_val_label_accuracy,\n",
    "        \"target_val_label_loss\": target_val_label_loss,\n",
    "        \"total_epochs_trained\": total_epochs_trained,\n",
    "        \"total_experiment_time_secs\": total_experiment_time_secs,\n",
    "        \"confusion\": confusion,\n",
    "        \"per_domain_accuracy\": per_domain_accuracy,\n",
    "    },\n",
    "    \"history\": history,\n",
    "    \"dataset_metrics\": get_dataset_metrics(datasets, \"cnn\"),\n",
    "}"
   ]
  },
  {
   "cell_type": "code",
   "execution_count": 16,
   "id": "74c318cf",
   "metadata": {
    "execution": {
     "iopub.execute_input": "2022-03-27T03:34:25.079504Z",
     "iopub.status.busy": "2022-03-27T03:34:25.078693Z",
     "iopub.status.idle": "2022-03-27T03:34:25.283500Z",
     "shell.execute_reply": "2022-03-27T03:34:25.284193Z"
    },
    "papermill": {
     "duration": 0.285444,
     "end_time": "2022-03-27T03:34:25.284422",
     "exception": false,
     "start_time": "2022-03-27T03:34:24.998978",
     "status": "completed"
    },
    "tags": []
   },
   "outputs": [
    {
     "data": {
      "text/plain": [
       "<AxesSubplot:title={'center':'Source Train Label Loss vs Source Val Label Loss'}, xlabel='Epoch'>"
      ]
     },
     "execution_count": 16,
     "metadata": {},
     "output_type": "execute_result"
    },
    {
     "data": {
      "image/png": "[encoded data removed]",
      "text/plain": [
       "<Figure size 1080x504 with 1 Axes>"
      ]
     },
     "metadata": {
      "needs_background": "light"
     },
     "output_type": "display_data"
    }
   ],
   "source": [
    "get_loss_curve(experiment)"
   ]
  },
  {
   "cell_type": "code",
   "execution_count": 17,
   "id": "59376601",
   "metadata": {
    "execution": {
     "iopub.execute_input": "2022-03-27T03:34:25.426376Z",
     "iopub.status.busy": "2022-03-27T03:34:25.419392Z",
     "iopub.status.idle": "2022-03-27T03:34:25.770943Z",
     "shell.execute_reply": "2022-03-27T03:34:25.770582Z"
    },
    "papermill": {
     "duration": 0.424417,
     "end_time": "2022-03-27T03:34:25.771035",
     "exception": false,
     "start_time": "2022-03-27T03:34:25.346618",
     "status": "completed"
    },
    "tags": []
   },
   "outputs": [
    {
     "data": {
      "text/plain": [
       "<AxesSubplot:title={'center':'Results'}>"
      ]
     },
     "execution_count": 17,
     "metadata": {},
     "output_type": "execute_result"
    },
    {
     "data": {
      "image/png": "[encoded data removed]",
      "text/plain": [
       "<Figure size 1080x504 with 1 Axes>"
      ]
     },
     "metadata": {
      "needs_background": "light"
     },
     "output_type": "display_data"
    }
   ],
   "source": [
    "get_results_table(experiment)"
   ]
  },
  {
   "cell_type": "code",
   "execution_count": 18,
   "id": "e80c5c98",
   "metadata": {
    "execution": {
     "iopub.execute_input": "2022-03-27T03:34:25.915972Z",
     "iopub.status.busy": "2022-03-27T03:34:25.906928Z",
     "iopub.status.idle": "2022-03-27T03:34:26.074748Z",
     "shell.execute_reply": "2022-03-27T03:34:26.073958Z"
    },
    "papermill": {
     "duration": 0.244772,
     "end_time": "2022-03-27T03:34:26.074903",
     "exception": false,
     "start_time": "2022-03-27T03:34:25.830131",
     "status": "completed"
    },
    "tags": []
   },
   "outputs": [
    {
     "data": {
      "text/plain": [
       "<AxesSubplot:title={'center':'Per Domain Accuracy'}, xlabel='domain'>"
      ]
     },
     "execution_count": 18,
     "metadata": {},
     "output_type": "execute_result"
    },
    {
     "data": {
      "image/png": "[encoded data removed]",
      "text/plain": [
       "<Figure size 1080x504 with 1 Axes>"
      ]
     },
     "metadata": {
      "needs_background": "light"
     },
     "output_type": "display_data"
    }
   ],
   "source": [
    "get_domain_accuracies(experiment)"
   ]
  },
  {
   "cell_type": "code",
   "execution_count": 19,
   "id": "086fdd10",
   "metadata": {
    "execution": {
     "iopub.execute_input": "2022-03-27T03:34:26.202321Z",
     "iopub.status.busy": "2022-03-27T03:34:26.201952Z",
     "iopub.status.idle": "2022-03-27T03:34:26.205675Z",
     "shell.execute_reply": "2022-03-27T03:34:26.205317Z"
    },
    "papermill": {
     "duration": 0.066663,
     "end_time": "2022-03-27T03:34:26.205744",
     "exception": false,
     "start_time": "2022-03-27T03:34:26.139081",
     "status": "completed"
    },
    "tags": []
   },
   "outputs": [
    {
     "name": "stdout",
     "output_type": "stream",
     "text": [
      "Source Test Label Accuracy: 0.7793125 Target Test Label Accuracy: 0.7793125\n",
      "Source Val Label Accuracy: 0.780265625 Target Val Label Accuracy: 0.780265625\n"
     ]
    }
   ],
   "source": [
    "print(\"Source Test Label Accuracy:\", experiment[\"results\"][\"source_test_label_accuracy\"], \"Target Test Label Accuracy:\", experiment[\"results\"][\"target_test_label_accuracy\"])\n",
    "print(\"Source Val Label Accuracy:\", experiment[\"results\"][\"source_val_label_accuracy\"], \"Target Val Label Accuracy:\", experiment[\"results\"][\"target_val_label_accuracy\"])"
   ]
  },
  {
   "cell_type": "code",
   "execution_count": 20,
   "id": "9f450536",
   "metadata": {
    "execution": {
     "iopub.execute_input": "2022-03-27T03:34:26.331298Z",
     "iopub.status.busy": "2022-03-27T03:34:26.330936Z",
     "iopub.status.idle": "2022-03-27T03:34:26.334718Z",
     "shell.execute_reply": "2022-03-27T03:34:26.334172Z"
    },
    "papermill": {
     "duration": 0.066669,
     "end_time": "2022-03-27T03:34:26.334826",
     "exception": false,
     "start_time": "2022-03-27T03:34:26.268157",
     "status": "completed"
    },
    "tags": [
     "experiment_json"
    ]
   },
   "outputs": [
    {
     "data": {
      "text/plain": [
       "'{\"experiment_name\": \"cnn_2:oracle.run1\", \"parameters\": {\"experiment_name\": \"cnn_2:oracle.run1\", \"domains_source\": [8, 32, 50, 14, 20, 26, 38, 44], \"domains_target\": [8, 32, 50, 14, 20, 26, 38, 44], \"labels\": [\"3123D52\", \"3123D65\", \"3123D79\", \"3123D80\", \"3123D54\", \"3123D70\", \"3123D7B\", \"3123D89\", \"3123D58\", \"3123D76\", \"3123D7D\", \"3123EFE\", \"3123D64\", \"3123D78\", \"3123D7E\", \"3124E4A\"], \"pickle_name_source\": \"oracle.Run1_10kExamples_stratified_ds.2022A.pkl\", \"pickle_name_target\": \"oracle.Run1_10kExamples_stratified_ds.2022A.pkl\", \"device\": \"cuda\", \"lr\": 0.0001, \"batch_size\": 128, \"normalize_source\": false, \"normalize_target\": false, \"num_examples_per_domain_per_label_source\": -1, \"num_examples_per_domain_per_label_target\": -1, \"torch_default_dtype\": \"torch.float32\", \"n_epoch\": 50, \"patience\": 3, \"criteria_for_best\": \"target_accuracy\", \"x_net\": [{\"class\": \"nnReshape\", \"kargs\": {\"shape\": [-1, 1, 2, 256]}}, {\"class\": \"Conv2d\", \"kargs\": {\"in_channels\": 1, \"out_channels\": 256, \"kernel_size\": [1, 7], \"bias\": false, \"padding\": [0, 3]}}, {\"class\": \"ReLU\", \"kargs\": {\"inplace\": true}}, {\"class\": \"BatchNorm2d\", \"kargs\": {\"num_features\": 256}}, {\"class\": \"Conv2d\", \"kargs\": {\"in_channels\": 256, \"out_channels\": 80, \"kernel_size\": [2, 7], \"bias\": true, \"padding\": [0, 3]}}, {\"class\": \"ReLU\", \"kargs\": {\"inplace\": true}}, {\"class\": \"BatchNorm2d\", \"kargs\": {\"num_features\": 80}}, {\"class\": \"Flatten\", \"kargs\": {}}, {\"class\": \"Linear\", \"kargs\": {\"in_features\": 20480, \"out_features\": 256}}, {\"class\": \"ReLU\", \"kargs\": {\"inplace\": true}}, {\"class\": \"BatchNorm1d\", \"kargs\": {\"num_features\": 256}}, {\"class\": \"Linear\", \"kargs\": {\"in_features\": 256, \"out_features\": 16}}], \"NUM_LOGS_PER_EPOCH\": 10, \"BEST_MODEL_PATH\": \"./best_model.pth\", \"dataset_seed\": 7, \"seed\": 7}, \"results\": {\"source_test_label_accuracy\": 0.7793125, \"source_test_label_loss\": 0.6110293989181519, \"target_test_label_accuracy\": 0.7793125, \"target_test_label_loss\": 0.6110294027328491, \"source_val_label_accuracy\": 0.780265625, \"source_val_label_loss\": 0.6117223078608512, \"target_val_label_accuracy\": 0.780265625, \"target_val_label_loss\": 0.6117223084767659, \"total_epochs_trained\": 14, \"total_experiment_time_secs\": 1343.2819001674652, \"confusion\": {\"8\": {\"6\": {\"6\": 1268, \"4\": 498, \"7\": 1176, \"8\": 34, \"14\": 10, \"1\": 4, \"11\": 2, \"13\": 8}, \"0\": {\"0\": 2968, \"3\": 14, \"14\": 16, \"9\": 2}, \"15\": {\"15\": 2252, \"12\": 572, \"3\": 102, \"8\": 32, \"4\": 26, \"14\": 2, \"5\": 10, \"1\": 4}, \"3\": {\"3\": 2750, \"8\": 10, \"0\": 90, \"10\": 48, \"2\": 40, \"4\": 56, \"15\": 6}, \"4\": {\"4\": 2208, \"14\": 290, \"6\": 328, \"8\": 28, \"7\": 120, \"10\": 10, \"1\": 12, \"11\": 4}, \"7\": {\"4\": 164, \"7\": 2094, \"6\": 708, \"13\": 26, \"8\": 8}, \"11\": {\"11\": 2418, \"14\": 50, \"1\": 350, \"6\": 10, \"8\": 138, \"4\": 32, \"5\": 2}, \"2\": {\"3\": 1042, \"5\": 378, \"2\": 766, \"0\": 338, \"7\": 84, \"15\": 30, \"1\": 136, \"12\": 52, \"8\": 44, \"4\": 24, \"9\": 86, \"10\": 18, \"13\": 2}, \"14\": {\"14\": 2454, \"4\": 510, \"8\": 2, \"0\": 2, \"11\": 14, \"1\": 14, \"9\": 2, \"6\": 2}, \"8\": {\"8\": 2990, \"6\": 6, \"11\": 2, \"4\": 2}, \"1\": {\"1\": 2206, \"11\": 630, \"4\": 68, \"6\": 28, \"5\": 26, \"10\": 32, \"8\": 4, \"14\": 4, \"13\": 2}, \"5\": {\"5\": 2296, \"1\": 218, \"10\": 434, \"13\": 16, \"14\": 18, \"4\": 12, \"11\": 6}, \"12\": {\"4\": 616, \"12\": 1434, \"15\": 638, \"3\": 28, \"8\": 168, \"14\": 64, \"10\": 36, \"7\": 6, \"5\": 4, \"1\": 4, \"6\": 2}, \"9\": {\"9\": 2984, \"12\": 16}, \"13\": {\"13\": 1758, \"7\": 266, \"10\": 576, \"6\": 218, \"5\": 56, \"4\": 62, \"1\": 54, \"11\": 2, \"15\": 8}, \"10\": {\"10\": 1768, \"13\": 690, \"5\": 246, \"1\": 106, \"4\": 84, \"6\": 60, \"14\": 40, \"7\": 4, \"11\": 2}}, \"50\": {\"6\": {\"6\": 1908, \"5\": 804, \"15\": 202, \"14\": 52, \"4\": 20, \"8\": 14}, \"12\": {\"12\": 2680, \"9\": 240, \"11\": 52, \"0\": 14, \"14\": 2, \"5\": 10, \"4\": 2}, \"8\": {\"8\": 2726, \"10\": 238, \"13\": 8, \"0\": 10, \"1\": 18}, \"2\": {\"2\": 2508, \"0\": 264, \"1\": 80, \"9\": 134, \"12\": 10, \"14\": 2, \"11\": 2}, \"7\": {\"2\": 454, \"7\": 1424, \"5\": 844, \"14\": 170, \"13\": 22, \"4\": 84, \"6\": 2}, \"9\": {\"11\": 360, \"9\": 2452, \"12\": 88, \"5\": 66, \"7\": 8, \"0\": 8, \"14\": 12, \"8\": 2, \"15\": 4}, \"14\": {\"9\": 552, \"14\": 2402, \"2\": 22, \"6\": 24}, \"4\": {\"4\": 2092, \"0\": 112, \"15\": 26, \"5\": 444, \"14\": 48, \"8\": 38, \"13\": 66, \"7\": 140, \"2\": 12, \"6\": 20, \"10\": 2}, \"10\": {\"10\": 2842, \"1\": 6, \"0\": 132, \"15\": 2, \"8\": 8, \"13\": 10}, \"1\": {\"1\": 2718, \"15\": 224, \"0\": 6, \"5\": 6, \"13\": 28, \"11\": 2, \"10\": 6, \"8\": 6, \"6\": 4}, \"0\": {\"0\": 2340, \"1\": 134, \"10\": 292, \"2\": 198, \"15\": 2, \"12\": 30, \"13\": 2, \"9\": 2}, \"11\": {\"11\": 2748, \"8\": 42, \"0\": 10, \"5\": 106, \"14\": 8, \"15\": 30, \"9\": 30, \"12\": 20, \"4\": 6}, \"5\": {\"5\": 2232, \"7\": 56, \"2\": 150, \"14\": 46, \"4\": 118, \"8\": 40, \"6\": 128, \"15\": 194, \"13\": 34, \"0\": 2}, \"3\": {\"3\": 2986, \"2\": 14}, \"15\": {\"15\": 1794, \"4\": 160, \"11\": 56, \"8\": 286, \"14\": 196, \"5\": 298, \"6\": 210}, \"13\": {\"13\": 2756, \"5\": 30, \"15\": 156, \"6\": 20, \"0\": 26, \"8\": 2, \"1\": 6, \"12\": 2, \"10\": 2}}, \"14\": {\"11\": {\"11\": 2866, \"4\": 6, \"7\": 90, \"6\": 18, \"13\": 14, \"8\": 4, \"15\": 2}, \"5\": {\"5\": 2604, \"7\": 50, \"3\": 38, \"4\": 64, \"2\": 232, \"14\": 4, \"11\": 2, \"13\": 6}, \"2\": {\"2\": 1984, \"14\": 336, \"13\": 160, \"5\": 262, \"6\": 158, \"3\": 66, \"4\": 28, \"0\": 2, \"10\": 2, \"7\": 2}, \"1\": {\"1\": 2958, \"11\": 24, \"2\": 2, \"7\": 6, \"4\": 10}, \"15\": {\"15\": 2966, \"13\": 24, \"11\": 10}, \"13\": {\"6\": 750, \"13\": 1524, \"14\": 454, \"3\": 86, \"2\": 104, \"15\": 62, \"4\": 12, \"10\": 8}, \"9\": {\"9\": 2962, \"0\": 24, \"13\": 6, \"15\": 2, \"11\": 2, \"12\": 2, \"1\": 2}, \"10\": {\"10\": 2644, \"2\": 58, \"3\": 242, \"4\": 28, \"14\": 8, \"0\": 6, \"9\": 4, \"11\": 8, \"13\": 2}, \"3\": {\"3\": 2816, \"14\": 40, \"13\": 10, \"0\": 90, \"2\": 38, \"5\": 6}, \"7\": {\"7\": 2920, \"5\": 74, \"2\": 6}, \"4\": {\"5\": 318, \"4\": 2478, \"2\": 148, \"11\": 36, \"10\": 10, \"7\": 4, \"1\": 4, \"6\": 2}, \"14\": {\"14\": 2402, \"2\": 122, \"13\": 342, \"3\": 22, \"6\": 100, \"4\": 8, \"0\": 4}, \"8\": {\"8\": 2978, \"9\": 8, \"13\": 10, \"0\": 2, \"11\": 2}, \"12\": {\"12\": 2994, \"9\": 2, \"0\": 4}, \"0\": {\"0\": 2508, \"3\": 376, \"4\": 40, \"9\": 16, \"13\": 42, \"11\": 12, \"10\": 4, \"2\": 2}, \"6\": {\"6\": 1708, \"13\": 1024, \"14\": 132, \"2\": 96, \"3\": 38, \"7\": 2}}, \"44\": {\"15\": {\"15\": 2484, \"5\": 176, \"0\": 158, \"8\": 60, \"14\": 82, \"4\": 12, \"11\": 4, \"6\": 20, \"12\": 4}, \"0\": {\"0\": 2708, \"8\": 158, \"15\": 108, \"5\": 6, \"6\": 14, \"1\": 4, \"13\": 2}, \"9\": {\"9\": 1496, \"7\": 812, \"6\": 192, \"13\": 254, \"2\": 168, \"4\": 12, \"0\": 8, \"15\": 26, \"10\": 26, \"11\": 6}, \"5\": {\"5\": 2404, \"15\": 148, \"14\": 118, \"6\": 298, \"4\": 20, \"0\": 4, \"2\": 2, \"8\": 6}, \"4\": {\"4\": 2058, \"15\": 470, \"14\": 244, \"11\": 100, \"6\": 58, \"0\": 16, \"5\": 30, \"9\": 10, \"8\": 6, \"7\": 8}, \"11\": {\"11\": 2964, \"0\": 22, \"3\": 6, \"13\": 8}, \"13\": {\"13\": 2568, \"6\": 276, \"9\": 68, \"0\": 72, \"7\": 14, \"11\": 2}, \"12\": {\"12\": 1746, \"3\": 1242, \"13\": 4, \"14\": 8}, \"7\": {\"9\": 432, \"7\": 2382, \"2\": 120, \"15\": 6, \"6\": 46, \"10\": 14}, \"2\": {\"2\": 2858, \"7\": 16, \"1\": 96, \"5\": 20, \"10\": 8, \"15\": 2}, \"8\": {\"8\": 1876, \"0\": 886, \"15\": 124, \"5\": 114}, \"3\": {\"3\": 2428, \"4\": 316, \"8\": 42, \"14\": 46, \"2\": 70, \"7\": 16, \"13\": 36, \"12\": 30, \"5\": 16}, \"1\": {\"1\": 2066, \"2\": 290, \"5\": 540, \"10\": 14, \"8\": 16, \"12\": 2, \"7\": 66, \"14\": 6}, \"10\": {\"10\": 2718, \"2\": 162, \"1\": 50, \"7\": 70}, \"14\": {\"14\": 2014, \"4\": 152, \"5\": 294, \"15\": 488, \"6\": 42, \"8\": 8, \"11\": 2}, \"6\": {\"6\": 2194, \"9\": 166, \"13\": 598, \"7\": 42}}, \"26\": {\"7\": {\"7\": 1886, \"3\": 390, \"8\": 252, \"9\": 54, \"0\": 210, \"2\": 158, \"13\": 2, \"4\": 26, \"14\": 14, \"10\": 8}, \"8\": {\"8\": 1312, \"9\": 284, \"10\": 46, \"0\": 676, \"7\": 518, \"2\": 116, \"3\": 16, \"4\": 10, \"14\": 16, \"15\": 4, \"13\": 2}, \"9\": {\"8\": 276, \"9\": 2304, \"0\": 214, \"7\": 42, \"2\": 84, \"13\": 44, \"15\": 18, \"6\": 6, \"10\": 4, \"3\": 2, \"4\": 2, \"14\": 4}, \"11\": {\"11\": 2860, \"6\": 68, \"12\": 56, \"2\": 14, \"9\": 2}, \"15\": {\"5\": 314, \"15\": 2122, \"6\": 324, \"14\": 18, \"9\": 32, \"10\": 118, \"0\": 30, \"2\": 40, \"1\": 2}, \"1\": {\"1\": 2566, \"10\": 168, \"14\": 198, \"15\": 4, \"0\": 60, \"6\": 4}, \"4\": {\"4\": 2804, \"3\": 120, \"0\": 38, \"7\": 10, \"8\": 16, \"14\": 8, \"2\": 2, \"13\": 2}, \"12\": {\"12\": 2998, \"9\": 2}, \"5\": {\"5\": 2204, \"15\": 712, \"2\": 2, \"6\": 60, \"9\": 10, \"10\": 10, \"1\": 2}, \"10\": {\"10\": 1374, \"0\": 892, \"14\": 328, \"1\": 150, \"6\": 198, \"15\": 32, \"8\": 12, \"2\": 4, \"9\": 4, \"5\": 6}, \"13\": {\"13\": 2334, \"0\": 72, \"15\": 14, \"9\": 436, \"2\": 86, \"3\": 32, \"8\": 18, \"5\": 2, \"7\": 4, \"12\": 2}, \"6\": {\"6\": 1846, \"14\": 50, \"9\": 40, \"15\": 492, \"10\": 418, \"5\": 44, \"0\": 96, \"12\": 12, \"1\": 2}, \"14\": {\"0\": 436, \"14\": 1962, \"6\": 8, \"10\": 364, \"1\": 230}, \"3\": {\"3\": 2288, \"0\": 30, \"7\": 546, \"4\": 14, \"9\": 2, \"2\": 108, \"8\": 6, \"13\": 4, \"14\": 2}, \"2\": {\"3\": 438, \"2\": 1552, \"8\": 108, \"7\": 546, \"9\": 112, \"0\": 62, \"15\": 56, \"13\": 56, \"5\": 38, \"10\": 18, \"14\": 10, \"6\": 4}, \"0\": {\"10\": 522, \"14\": 454, \"0\": 1756, \"7\": 38, \"8\": 126, \"6\": 42, \"1\": 42, \"15\": 12, \"2\": 6, \"4\": 2}}, \"20\": {\"12\": {\"2\": 442, \"12\": 1310, \"9\": 316, \"1\": 146, \"7\": 352, \"4\": 94, \"5\": 48, \"13\": 26, \"15\": 110, \"10\": 10, \"3\": 144, \"8\": 2}, \"0\": {\"0\": 2814, \"5\": 62, \"2\": 66, \"15\": 4, \"8\": 22, \"9\": 14, \"3\": 16, \"11\": 2}, \"9\": {\"3\": 320, \"9\": 1430, \"2\": 522, \"7\": 182, \"12\": 194, \"5\": 76, \"1\": 180, \"4\": 38, \"15\": 14, \"8\": 8, \"13\": 12, \"11\": 2, \"10\": 22}, \"7\": {\"7\": 2286, \"2\": 246, \"6\": 86, \"4\": 178, \"8\": 30, \"9\": 84, \"13\": 6, \"3\": 24, \"14\": 2, \"12\": 26, \"11\": 10, \"10\": 18, \"5\": 4}, \"11\": {\"11\": 2888, \"4\": 38, \"9\": 6, \"8\": 12, \"5\": 16, \"0\": 26, \"13\": 4, \"10\": 6, \"1\": 2, \"14\": 2}, \"5\": {\"5\": 1862, \"7\": 6, \"3\": 238, \"15\": 148, \"1\": 366, \"0\": 40, \"2\": 166, \"9\": 78, \"12\": 76, \"8\": 18, \"4\": 2}, \"6\": {\"6\": 2796, \"14\": 74, \"10\": 46, \"8\": 6, \"7\": 54, \"4\": 22, \"11\": 2}, \"4\": {\"12\": 248, \"4\": 2450, \"7\": 58, \"6\": 26, \"10\": 122, \"8\": 78, \"14\": 8, \"11\": 2, \"3\": 6, \"15\": 2}, \"13\": {\"13\": 2624, \"15\": 64, \"2\": 174, \"7\": 90, \"11\": 20, \"12\": 18, \"9\": 10}, \"15\": {\"15\": 1638, \"9\": 200, \"1\": 438, \"12\": 300, \"2\": 126, \"13\": 100, \"8\": 2, \"7\": 16, \"5\": 170, \"3\": 8, \"0\": 2}, \"1\": {\"2\": 168, \"1\": 1280, \"9\": 298, \"15\": 400, \"5\": 458, \"7\": 8, \"12\": 218, \"3\": 170}, \"2\": {\"2\": 886, \"7\": 1022, \"4\": 38, \"9\": 402, \"3\": 26, \"12\": 328, \"10\": 8, \"1\": 36, \"13\": 204, \"11\": 6, \"15\": 34, \"5\": 2, \"6\": 8}, \"10\": {\"10\": 2868, \"4\": 74, \"12\": 2, \"6\": 56}, \"8\": {\"8\": 2502, \"5\": 14, \"14\": 276, \"4\": 76, \"3\": 44, \"2\": 18, \"7\": 36, \"12\": 14, \"10\": 4, \"6\": 6, \"0\": 2, \"9\": 8}, \"14\": {\"14\": 2812, \"6\": 82, \"8\": 88, \"13\": 2, \"4\": 4, \"10\": 10, \"12\": 2}, \"3\": {\"9\": 470, \"3\": 1148, \"8\": 74, \"2\": 416, \"5\": 412, \"12\": 148, \"1\": 132, \"4\": 56, \"15\": 32, \"7\": 84, \"10\": 20, \"0\": 8}}, \"32\": {\"2\": {\"2\": 2368, \"4\": 526, \"3\": 22, \"6\": 38, \"14\": 34, \"0\": 8, \"5\": 2, \"13\": 2}, \"10\": {\"10\": 2992, \"12\": 8}, \"8\": {\"0\": 308, \"5\": 112, \"8\": 2408, \"3\": 98, \"2\": 36, \"1\": 20, \"14\": 4, \"12\": 4, \"13\": 2, \"15\": 2, \"4\": 2, \"6\": 2, \"7\": 2}, \"13\": {\"13\": 2150, \"3\": 572, \"4\": 226, \"12\": 10, \"11\": 42}, \"6\": {\"6\": 2882, \"11\": 118}, \"12\": {\"12\": 2976, \"1\": 4, \"0\": 6, \"10\": 8, \"2\": 6}, \"11\": {\"11\": 2874, \"15\": 4, \"13\": 112, \"3\": 10}, \"7\": {\"5\": 528, \"7\": 1874, \"0\": 160, \"3\": 20, \"1\": 28, \"14\": 338, \"2\": 32, \"12\": 8, \"8\": 12}, \"4\": {\"4\": 2360, \"3\": 174, \"2\": 316, \"8\": 4, \"13\": 136, \"11\": 6, \"14\": 4}, \"3\": {\"3\": 2564, \"12\": 182, \"13\": 242, \"11\": 10, \"8\": 2}, \"9\": {\"9\": 2188, \"14\": 490, \"1\": 160, \"2\": 58, \"6\": 102, \"0\": 2}, \"1\": {\"1\": 2992, \"8\": 8}, \"0\": {\"5\": 96, \"0\": 2484, \"14\": 62, \"8\": 234, \"2\": 26, \"7\": 78, \"3\": 12, \"11\": 6, \"6\": 2}, \"15\": {\"15\": 2944, \"1\": 2, \"10\": 2, \"2\": 26, \"8\": 26}, \"14\": {\"14\": 2164, \"7\": 386, \"8\": 16, \"1\": 42, \"3\": 120, \"0\": 162, \"2\": 50, \"5\": 44, \"12\": 10, \"4\": 4, \"11\": 2}, \"5\": {\"5\": 1656, \"1\": 314, \"7\": 442, \"2\": 86, \"8\": 138, \"12\": 18, \"3\": 86, \"14\": 36, \"0\": 220, \"11\": 2, \"9\": 2}}, \"38\": {\"2\": {\"2\": 2486, \"5\": 426, \"7\": 46, \"13\": 8, \"14\": 34}, \"3\": {\"3\": 2994, \"11\": 6}, \"5\": {\"5\": 1814, \"4\": 26, \"9\": 92, \"8\": 272, \"15\": 254, \"7\": 80, \"11\": 358, \"1\": 30, \"14\": 52, \"0\": 14, \"6\": 6, \"12\": 2}, \"6\": {\"6\": 2806, \"1\": 50, \"9\": 68, \"14\": 42, \"2\": 32, \"4\": 2}, \"1\": {\"1\": 2812, \"0\": 68, \"2\": 58, \"6\": 4, \"9\": 50, \"14\": 4, \"15\": 4}, \"11\": {\"11\": 3000}, \"15\": {\"15\": 2122, \"13\": 144, \"5\": 160, \"1\": 492, \"8\": 16, \"0\": 38, \"11\": 10, \"6\": 12, \"10\": 6}, \"4\": {\"4\": 2990, \"13\": 8, \"11\": 2}, \"14\": {\"14\": 2492, \"7\": 148, \"2\": 142, \"5\": 190, \"4\": 26, \"10\": 2}, \"0\": {\"4\": 338, \"8\": 4, \"0\": 2256, \"7\": 84, \"13\": 172, \"5\": 6, \"10\": 92, \"14\": 2, \"11\": 32, \"3\": 14}, \"10\": {\"10\": 2822, \"0\": 62, \"13\": 94, \"4\": 20, \"3\": 2}, \"12\": {\"12\": 2980, \"15\": 4, \"5\": 4, \"6\": 6, \"13\": 2, \"8\": 4}, \"8\": {\"5\": 1066, \"8\": 836, \"15\": 622, \"4\": 236, \"14\": 54, \"7\": 50, \"11\": 78, \"1\": 40, \"6\": 10, \"0\": 8}, \"7\": {\"7\": 2778, \"9\": 20, \"4\": 60, \"8\": 52, \"0\": 42, \"13\": 2, \"5\": 28, \"15\": 18}, \"9\": {\"9\": 2820, \"5\": 70, \"12\": 56, \"11\": 24, \"14\": 22, \"8\": 6, \"15\": 2}, \"13\": {\"13\": 2478, \"0\": 36, \"10\": 372, \"5\": 10, \"2\": 36, \"4\": 64, \"7\": 2, \"14\": 2}}}, \"per_domain_accuracy\": {\"8\": {\"accuracy\": 0.721125, \"source?\": true}, \"50\": {\"accuracy\": 0.8043333333333333, \"source?\": true}, \"14\": {\"accuracy\": 0.8606666666666667, \"source?\": true}, \"44\": {\"accuracy\": 0.7700833333333333, \"source?\": true}, \"26\": {\"accuracy\": 0.7118333333333333, \"source?\": true}, \"20\": {\"accuracy\": 0.699875, \"source?\": true}, \"32\": {\"accuracy\": 0.83075, \"source?\": true}, \"38\": {\"accuracy\": 0.8434583333333333, \"source?\": true}}}, \"history\": {\"epoch_indices\": [1, 2, 3, 4, 5, 6, 7, 8, 9, 10, 11, 12, 13, 14], \"train_label_loss\": [1.9755464361224855, 1.1512738141502652, 0.8734465503352029, 0.7180091517397336, 0.6118797582685948, 0.5360888151952199, 0.4793315746677773, 0.43045125312890326, 0.3895341247873647, 0.3559443726837635, 0.3255634850455182, 0.2997401208600828, 0.27928585903772285, 0.2567310253828764], \"source_val_label_loss\": [1.2857910118897755, 0.8618070612748464, 0.7404225923617681, 0.6758114498257637, 0.636135961830616, 0.6355208018819491, 0.6886199443538984, 0.660442595700423, 0.6063789913853009, 0.6117223073840141, 0.6636378994981448, 0.7067838899095853, 0.6586876278718312, 0.700315345287323], \"target_val_label_loss\": [1.2857910141944886, 0.8618070656061172, 0.7404225897391638, 0.6758114535013835, 0.636135959247748, 0.6355208042065302, 0.6886199442545573, 0.6604425965348879, 0.6063789913256963, 0.6117223079403241, 0.6636378983855248, 0.7067838898102442, 0.6586876279711723, 0.7003153450290363], \"source_val_acc_label\": [0.5651197916666667, 0.7083229166666667, 0.7352395833333333, 0.758234375, 0.7661979166666667, 0.7643645833333333, 0.7538802083333334, 0.7615208333333333, 0.7784895833333333, 0.780265625, 0.768703125, 0.758, 0.7759375, 0.767828125], \"target_val_acc_label\": [0.5651197916666667, 0.7083229166666667, 0.7352395833333333, 0.758234375, 0.7661979166666667, 0.7643645833333333, 0.7538802083333334, 0.7615208333333333, 0.7784895833333333, 0.780265625, 0.768703125, 0.758, 0.7759375, 0.767828125]}, \"dataset_metrics\": {\"source\": {\"train\": {\"n_unique_x\": 896000, \"n_unique_y\": 16, \"n_batch/episode\": 7000}, \"val\": {\"n_unique_x\": 192000, \"n_unique_y\": 16, \"n_batch/episode\": 1500}, \"test\": {\"n_unique_x\": 192000, \"n_unique_y\": 16, \"n_batch/episode\": 1500}}, \"target\": {\"train\": {\"n_unique_x\": 896000, \"n_unique_y\": 16, \"n_batch/episode\": 7000}, \"val\": {\"n_unique_x\": 192000, \"n_unique_y\": 16, \"n_batch/episode\": 1500}, \"test\": {\"n_unique_x\": 192000, \"n_unique_y\": 16, \"n_batch/episode\": 1500}}}}'"
      ]
     },
     "execution_count": 20,
     "metadata": {},
     "output_type": "execute_result"
    }
   ],
   "source": [
    "json.dumps(experiment)"
   ]
  }
 ],
 "metadata": {
  "celltoolbar": "Tags",
  "kernelspec": {
   "display_name": "Python 3 (ipykernel)",
   "language": "python",
   "name": "python3"
  },
  "language_info": {
   "codemirror_mode": {
    "name": "ipython",
    "version": 3
   },
   "file_extension": ".py",
   "mimetype": "text/x-python",
   "name": "python",
   "nbconvert_exporter": "python",
   "pygments_lexer": "ipython3",
   "version": "3.8.12"
  },
  "papermill": {
   "default_parameters": {},
   "duration": 1466.475704,
   "end_time": "2022-03-27T03:34:30.014504",
   "environment_variables": {},
   "exception": null,
   "input_path": "/root/csc500-main/csc500-notebooks/templates/cnn_template.ipynb",
   "output_path": "trial.ipynb",
   "parameters": {
    "parameters": {
     "BEST_MODEL_PATH": "./best_model.pth",
     "NUM_LOGS_PER_EPOCH": 10,
     "batch_size": 128,
     "criteria_for_best": "target_accuracy",
     "dataset_seed": 7,
     "device": "cuda",
     "domains_source": [
      8,
      32,
      50,
      14,
      20,
      26,
      38,
      44
     ],
     "domains_target": [
      8,
      32,
      50,
      14,
      20,
      26,
      38,
      44
     ],
     "experiment_name": "cnn_2:oracle.run1",
     "labels": [
      "3123D52",
      "3123D65",
      "3123D79",
      "3123D80",
      "3123D54",
      "3123D70",
      "3123D7B",
      "3123D89",
      "3123D58",
      "3123D76",
      "3123D7D",
      "3123EFE",
      "3123D64",
      "3123D78",
      "3123D7E",
      "3124E4A"
     ],
     "lr": 0.0001,
     "n_epoch": 50,
     "normalize_source": false,
     "normalize_target": false,
     "num_examples_per_domain_per_label_source": -1,
     "num_examples_per_domain_per_label_target": -1,
     "patience": 3,
     "pickle_name_source": "oracle.Run1_10kExamples_stratified_ds.2022A.pkl",
     "pickle_name_target": "oracle.Run1_10kExamples_stratified_ds.2022A.pkl",
     "seed": 7,
     "torch_default_dtype": "torch.float32",
     "x_net": [
      {
       "class": "nnReshape",
       "kargs": {
        "shape": [
         -1,
         1,
         2,
         256
        ]
       }
      },
      {
       "class": "Conv2d",
       "kargs": {
        "bias": false,
        "in_channels": 1,
        "kernel_size": [
         1,
         7
        ],
        "out_channels": 256,
        "padding": [
         0,
         3
        ]
       }
      },
      {
       "class": "ReLU",
       "kargs": {
        "inplace": true
       }
      },
      {
       "class": "BatchNorm2d",
       "kargs": {
        "num_features": 256
       }
      },
      {
       "class": "Conv2d",
       "kargs": {
        "bias": true,
        "in_channels": 256,
        "kernel_size": [
         2,
         7
        ],
        "out_channels": 80,
        "padding": [
         0,
         3
        ]
       }
      },
      {
       "class": "ReLU",
       "kargs": {
        "inplace": true
       }
      },
      {
       "class": "BatchNorm2d",
       "kargs": {
        "num_features": 80
       }
      },
      {
       "class": "Flatten",
       "kargs": {}
      },
      {
       "class": "Linear",
       "kargs": {
        "in_features": 20480,
        "out_features": 256
       }
      },
      {
       "class": "ReLU",
       "kargs": {
        "inplace": true
       }
      },
      {
       "class": "BatchNorm1d",
       "kargs": {
        "num_features": 256
       }
      },
      {
       "class": "Linear",
       "kargs": {
        "in_features": 256,
        "out_features": 16
       }
      }
     ]
    }
   },
   "start_time": "2022-03-27T03:10:03.538800",
   "version": "2.3.4"
  }
 },
 "nbformat": 4,
 "nbformat_minor": 5
}