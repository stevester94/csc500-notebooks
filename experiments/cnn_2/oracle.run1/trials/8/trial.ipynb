{
 "cells": [
  {
   "cell_type": "code",
   "execution_count": 1,
   "id": "2324682e",
   "metadata": {
    "execution": {
     "iopub.execute_input": "2022-03-27T01:25:24.520047Z",
     "iopub.status.busy": "2022-03-27T01:25:24.519457Z",
     "iopub.status.idle": "2022-03-27T01:25:26.048602Z",
     "shell.execute_reply": "2022-03-27T01:25:26.047726Z"
    },
    "papermill": {
     "duration": 1.573763,
     "end_time": "2022-03-27T01:25:26.048799",
     "exception": false,
     "start_time": "2022-03-27T01:25:24.475036",
     "status": "completed"
    },
    "tags": []
   },
   "outputs": [],
   "source": [
    "import os, json, sys, time, random\n",
    "import numpy as np\n",
    "import torch\n",
    "from  easydict import EasyDict\n",
    "from math import floor\n",
    "from easydict import EasyDict\n",
    "\n",
    "from steves_utils.vanilla_train_eval_test_jig import  Vanilla_Train_Eval_Test_Jig\n",
    "\n",
    "from steves_utils.torch_utils import get_dataset_metrics, independent_accuracy_assesment\n",
    "from steves_models.configurable_vanilla import Configurable_Vanilla\n",
    "from steves_utils.torch_sequential_builder import build_sequential\n",
    "from steves_utils.lazy_map import Lazy_Map\n",
    "from steves_utils.sequence_aggregator import Sequence_Aggregator\n",
    "\n",
    "from steves_utils.stratified_dataset.traditional_accessor import Traditional_Accessor_Factory\n",
    "\n",
    "from steves_utils.cnn_do_report import (\n",
    "    get_loss_curve,\n",
    "    get_results_table,\n",
    "    get_parameters_table,\n",
    "    get_domain_accuracies,\n",
    ")\n",
    "\n",
    "from steves_utils.torch_utils import (\n",
    "    confusion_by_domain_over_dataloader,\n",
    "    independent_accuracy_assesment\n",
    ")\n",
    "\n",
    "from steves_utils.utils_v2 import (\n",
    "    per_domain_accuracy_from_confusion,\n",
    "    get_datasets_base_path\n",
    ")\n",
    "\n",
    "# from steves_utils.ptn_do_report import TBD"
   ]
  },
  {
   "cell_type": "code",
   "execution_count": 2,
   "id": "1b29e3fe",
   "metadata": {
    "execution": {
     "iopub.execute_input": "2022-03-27T01:25:26.085976Z",
     "iopub.status.busy": "2022-03-27T01:25:26.085597Z",
     "iopub.status.idle": "2022-03-27T01:25:26.088255Z",
     "shell.execute_reply": "2022-03-27T01:25:26.087771Z"
    },
    "papermill": {
     "duration": 0.021741,
     "end_time": "2022-03-27T01:25:26.088413",
     "exception": false,
     "start_time": "2022-03-27T01:25:26.066672",
     "status": "completed"
    },
    "tags": []
   },
   "outputs": [],
   "source": [
    "required_parameters = {\n",
    "    \"experiment_name\",\n",
    "    \"lr\",\n",
    "    \"device\",\n",
    "    \"dataset_seed\",\n",
    "    \"seed\",\n",
    "    \"labels\",\n",
    "    \"domains_target\",\n",
    "    \"domains_source\",\n",
    "    \"num_examples_per_domain_per_label_source\",\n",
    "    \"num_examples_per_domain_per_label_target\",\n",
    "    \"batch_size\",\n",
    "    \"n_epoch\",\n",
    "    \"patience\",\n",
    "    \"criteria_for_best\",\n",
    "    \"normalize_source\",\n",
    "    \"normalize_target\",\n",
    "    \"x_net\",\n",
    "    \"NUM_LOGS_PER_EPOCH\",\n",
    "    \"BEST_MODEL_PATH\",\n",
    "    \"pickle_name_source\",\n",
    "    \"pickle_name_target\",\n",
    "    \"torch_default_dtype\",\n",
    "}"
   ]
  },
  {
   "cell_type": "code",
   "execution_count": 3,
   "id": "670b5fb8",
   "metadata": {
    "execution": {
     "iopub.execute_input": "2022-03-27T01:25:26.131788Z",
     "iopub.status.busy": "2022-03-27T01:25:26.130880Z",
     "iopub.status.idle": "2022-03-27T01:25:26.137610Z",
     "shell.execute_reply": "2022-03-27T01:25:26.136905Z"
    },
    "papermill": {
     "duration": 0.031742,
     "end_time": "2022-03-27T01:25:26.137765",
     "exception": false,
     "start_time": "2022-03-27T01:25:26.106023",
     "status": "completed"
    },
    "tags": [
     "parameters"
    ]
   },
   "outputs": [],
   "source": [
    "from steves_utils.ORACLE.utils_v2 import (\n",
    "    ALL_SERIAL_NUMBERS,\n",
    "    ALL_DISTANCES_FEET_NARROWED,\n",
    ")\n",
    "\n",
    "standalone_parameters = {}\n",
    "standalone_parameters[\"experiment_name\"] = \"MANUAL CORES CNN\"\n",
    "standalone_parameters[\"lr\"] = 0.0001\n",
    "standalone_parameters[\"device\"] = \"cuda\"\n",
    "\n",
    "standalone_parameters[\"dataset_seed\"] = 1337\n",
    "standalone_parameters[\"seed\"] = 1337\n",
    "standalone_parameters[\"labels\"] = ALL_SERIAL_NUMBERS\n",
    "\n",
    "standalone_parameters[\"domains_source\"] = [8,32,50]\n",
    "standalone_parameters[\"domains_target\"] = [14,20,26,38,44,]\n",
    "\n",
    "standalone_parameters[\"num_examples_per_domain_per_label_source\"]=-1\n",
    "standalone_parameters[\"num_examples_per_domain_per_label_target\"]=-1\n",
    "\n",
    "standalone_parameters[\"pickle_name_source\"] = \"oracle.Run1_framed_2000Examples_stratified_ds.2022A.pkl\"\n",
    "standalone_parameters[\"pickle_name_target\"] = \"oracle.Run2_framed_2000Examples_stratified_ds.2022A.pkl\"\n",
    "\n",
    "standalone_parameters[\"torch_default_dtype\"] = \"torch.float32\" \n",
    "\n",
    "standalone_parameters[\"batch_size\"]=128\n",
    "\n",
    "standalone_parameters[\"n_epoch\"] = 3\n",
    "\n",
    "standalone_parameters[\"patience\"] = 10\n",
    "\n",
    "standalone_parameters[\"criteria_for_best\"] = \"target_accuracy\"\n",
    "standalone_parameters[\"normalize_source\"] = False\n",
    "standalone_parameters[\"normalize_target\"] = False\n",
    "\n",
    "standalone_parameters[\"x_net\"] =     [\n",
    "    {\"class\": \"nnReshape\", \"kargs\": {\"shape\":[-1, 1, 2, 256]}},\n",
    "    {\"class\": \"Conv2d\", \"kargs\": { \"in_channels\":1, \"out_channels\":256, \"kernel_size\":(1,7), \"bias\":False, \"padding\":(0,3), },},\n",
    "    {\"class\": \"ReLU\", \"kargs\": {\"inplace\": True}},\n",
    "    {\"class\": \"BatchNorm2d\", \"kargs\": {\"num_features\":256}},\n",
    "\n",
    "    {\"class\": \"Conv2d\", \"kargs\": { \"in_channels\":256, \"out_channels\":80, \"kernel_size\":(2,7), \"bias\":True, \"padding\":(0,3), },},\n",
    "    {\"class\": \"ReLU\", \"kargs\": {\"inplace\": True}},\n",
    "    {\"class\": \"BatchNorm2d\", \"kargs\": {\"num_features\":80}},\n",
    "    {\"class\": \"Flatten\", \"kargs\": {}},\n",
    "\n",
    "    {\"class\": \"Linear\", \"kargs\": {\"in_features\": 80*256, \"out_features\": 256}}, # 80 units per IQ pair\n",
    "    {\"class\": \"ReLU\", \"kargs\": {\"inplace\": True}},\n",
    "    {\"class\": \"BatchNorm1d\", \"kargs\": {\"num_features\":256}},\n",
    "\n",
    "    {\"class\": \"Linear\", \"kargs\": {\"in_features\": 256, \"out_features\": len(standalone_parameters[\"labels\"])}},\n",
    "]\n",
    "\n",
    "standalone_parameters[\"NUM_LOGS_PER_EPOCH\"] = 10\n",
    "standalone_parameters[\"BEST_MODEL_PATH\"] = \"./best_model.pth\""
   ]
  },
  {
   "cell_type": "code",
   "execution_count": 4,
   "id": "02c1f6dc",
   "metadata": {
    "execution": {
     "iopub.execute_input": "2022-03-27T01:25:26.183909Z",
     "iopub.status.busy": "2022-03-27T01:25:26.177730Z",
     "iopub.status.idle": "2022-03-27T01:25:26.186217Z",
     "shell.execute_reply": "2022-03-27T01:25:26.185506Z"
    },
    "papermill": {
     "duration": 0.029552,
     "end_time": "2022-03-27T01:25:26.186375",
     "exception": false,
     "start_time": "2022-03-27T01:25:26.156823",
     "status": "completed"
    },
    "tags": [
     "injected-parameters"
    ]
   },
   "outputs": [],
   "source": [
    "# Parameters\n",
    "parameters = {\n",
    "    \"experiment_name\": \"cnn_2:oracle.run1\",\n",
    "    \"domains_source\": [8, 32, 50, 14, 20, 26, 38, 44],\n",
    "    \"domains_target\": [8, 32, 50, 14, 20, 26, 38, 44],\n",
    "    \"labels\": [\n",
    "        \"3123D52\",\n",
    "        \"3123D65\",\n",
    "        \"3123D79\",\n",
    "        \"3123D80\",\n",
    "        \"3123D54\",\n",
    "        \"3123D70\",\n",
    "        \"3123D7B\",\n",
    "        \"3123D89\",\n",
    "        \"3123D58\",\n",
    "        \"3123D76\",\n",
    "        \"3123D7D\",\n",
    "        \"3123EFE\",\n",
    "        \"3123D64\",\n",
    "        \"3123D78\",\n",
    "        \"3123D7E\",\n",
    "        \"3124E4A\",\n",
    "    ],\n",
    "    \"pickle_name_source\": \"oracle.Run1_10kExamples_stratified_ds.2022A.pkl\",\n",
    "    \"pickle_name_target\": \"oracle.Run1_10kExamples_stratified_ds.2022A.pkl\",\n",
    "    \"device\": \"cuda\",\n",
    "    \"lr\": 0.0001,\n",
    "    \"batch_size\": 128,\n",
    "    \"normalize_source\": False,\n",
    "    \"normalize_target\": False,\n",
    "    \"num_examples_per_domain_per_label_source\": -1,\n",
    "    \"num_examples_per_domain_per_label_target\": -1,\n",
    "    \"torch_default_dtype\": \"torch.float32\",\n",
    "    \"n_epoch\": 50,\n",
    "    \"patience\": 3,\n",
    "    \"criteria_for_best\": \"target_accuracy\",\n",
    "    \"x_net\": [\n",
    "        {\"class\": \"nnReshape\", \"kargs\": {\"shape\": [-1, 1, 2, 256]}},\n",
    "        {\n",
    "            \"class\": \"Conv2d\",\n",
    "            \"kargs\": {\n",
    "                \"in_channels\": 1,\n",
    "                \"out_channels\": 256,\n",
    "                \"kernel_size\": [1, 7],\n",
    "                \"bias\": False,\n",
    "                \"padding\": [0, 3],\n",
    "            },\n",
    "        },\n",
    "        {\"class\": \"ReLU\", \"kargs\": {\"inplace\": True}},\n",
    "        {\"class\": \"BatchNorm2d\", \"kargs\": {\"num_features\": 256}},\n",
    "        {\n",
    "            \"class\": \"Conv2d\",\n",
    "            \"kargs\": {\n",
    "                \"in_channels\": 256,\n",
    "                \"out_channels\": 80,\n",
    "                \"kernel_size\": [2, 7],\n",
    "                \"bias\": True,\n",
    "                \"padding\": [0, 3],\n",
    "            },\n",
    "        },\n",
    "        {\"class\": \"ReLU\", \"kargs\": {\"inplace\": True}},\n",
    "        {\"class\": \"BatchNorm2d\", \"kargs\": {\"num_features\": 80}},\n",
    "        {\"class\": \"Flatten\", \"kargs\": {}},\n",
    "        {\"class\": \"Linear\", \"kargs\": {\"in_features\": 20480, \"out_features\": 256}},\n",
    "        {\"class\": \"ReLU\", \"kargs\": {\"inplace\": True}},\n",
    "        {\"class\": \"BatchNorm1d\", \"kargs\": {\"num_features\": 256}},\n",
    "        {\"class\": \"Linear\", \"kargs\": {\"in_features\": 256, \"out_features\": 16}},\n",
    "    ],\n",
    "    \"NUM_LOGS_PER_EPOCH\": 10,\n",
    "    \"BEST_MODEL_PATH\": \"./best_model.pth\",\n",
    "    \"dataset_seed\": 1337,\n",
    "    \"seed\": 1337,\n",
    "}\n"
   ]
  },
  {
   "cell_type": "code",
   "execution_count": 5,
   "id": "759b56ec",
   "metadata": {
    "execution": {
     "iopub.execute_input": "2022-03-27T01:25:26.223282Z",
     "iopub.status.busy": "2022-03-27T01:25:26.222913Z",
     "iopub.status.idle": "2022-03-27T01:25:26.224711Z",
     "shell.execute_reply": "2022-03-27T01:25:26.225013Z"
    },
    "papermill": {
     "duration": 0.020014,
     "end_time": "2022-03-27T01:25:26.225095",
     "exception": false,
     "start_time": "2022-03-27T01:25:26.205081",
     "status": "completed"
    },
    "tags": []
   },
   "outputs": [],
   "source": [
    "# Set this to True if you want to run this template directly\n",
    "STANDALONE = False\n",
    "if STANDALONE:\n",
    "    print(\"parameters not injected, running with standalone_parameters\")\n",
    "    parameters = standalone_parameters\n",
    "\n",
    "if not 'parameters' in locals() and not 'parameters' in globals():\n",
    "    raise Exception(\"Parameter injection failed\")\n",
    "\n",
    "#Use an easy dict for all the parameters\n",
    "p = EasyDict(parameters)\n",
    "\n",
    "supplied_keys = set(p.keys())\n",
    "\n",
    "if  supplied_keys != required_parameters:\n",
    "    print(\"Parameters are incorrect\")\n",
    "    if len(supplied_keys - required_parameters)>0: print(\"Shouldn't have:\", str(supplied_keys - required_parameters))\n",
    "    if len(required_parameters - supplied_keys)>0: print(\"Need to have:\", str(required_parameters - supplied_keys))\n",
    "    raise RuntimeError(\"Parameters are incorrect\")\n",
    "\n"
   ]
  },
  {
   "cell_type": "code",
   "execution_count": 6,
   "id": "d5c66a71",
   "metadata": {
    "execution": {
     "iopub.execute_input": "2022-03-27T01:25:26.259140Z",
     "iopub.status.busy": "2022-03-27T01:25:26.258567Z",
     "iopub.status.idle": "2022-03-27T01:25:26.262223Z",
     "shell.execute_reply": "2022-03-27T01:25:26.262683Z"
    },
    "papermill": {
     "duration": 0.021303,
     "end_time": "2022-03-27T01:25:26.262806",
     "exception": false,
     "start_time": "2022-03-27T01:25:26.241503",
     "status": "completed"
    },
    "tags": []
   },
   "outputs": [],
   "source": [
    "###################################\n",
    "# Set the RNGs and make it all deterministic\n",
    "###################################\n",
    "np.random.seed(p.seed)\n",
    "random.seed(p.seed)\n",
    "torch.manual_seed(p.seed)\n",
    "\n",
    "torch.use_deterministic_algorithms(True) "
   ]
  },
  {
   "cell_type": "code",
   "execution_count": 7,
   "id": "92a65876",
   "metadata": {
    "execution": {
     "iopub.execute_input": "2022-03-27T01:25:26.302884Z",
     "iopub.status.busy": "2022-03-27T01:25:26.302523Z",
     "iopub.status.idle": "2022-03-27T01:25:26.304805Z",
     "shell.execute_reply": "2022-03-27T01:25:26.305265Z"
    },
    "papermill": {
     "duration": 0.021703,
     "end_time": "2022-03-27T01:25:26.305388",
     "exception": false,
     "start_time": "2022-03-27T01:25:26.283685",
     "status": "completed"
    },
    "tags": []
   },
   "outputs": [],
   "source": [
    "torch.set_default_dtype(eval(p.torch_default_dtype))"
   ]
  },
  {
   "cell_type": "code",
   "execution_count": 8,
   "id": "f1a32f01",
   "metadata": {
    "execution": {
     "iopub.execute_input": "2022-03-27T01:25:26.341467Z",
     "iopub.status.busy": "2022-03-27T01:25:26.341105Z",
     "iopub.status.idle": "2022-03-27T01:25:26.380488Z",
     "shell.execute_reply": "2022-03-27T01:25:26.379782Z"
    },
    "papermill": {
     "duration": 0.057742,
     "end_time": "2022-03-27T01:25:26.380644",
     "exception": false,
     "start_time": "2022-03-27T01:25:26.322902",
     "status": "completed"
    },
    "tags": []
   },
   "outputs": [],
   "source": [
    "###################################\n",
    "# Build the network(s)\n",
    "# Note: It's critical to do this AFTER setting the RNG\n",
    "###################################\n",
    "x_net = build_sequential(p.x_net)"
   ]
  },
  {
   "cell_type": "code",
   "execution_count": 9,
   "id": "a276cd83",
   "metadata": {
    "execution": {
     "iopub.execute_input": "2022-03-27T01:25:26.420907Z",
     "iopub.status.busy": "2022-03-27T01:25:26.420357Z",
     "iopub.status.idle": "2022-03-27T01:25:26.422500Z",
     "shell.execute_reply": "2022-03-27T01:25:26.422959Z"
    },
    "papermill": {
     "duration": 0.020315,
     "end_time": "2022-03-27T01:25:26.423083",
     "exception": false,
     "start_time": "2022-03-27T01:25:26.402768",
     "status": "completed"
    },
    "tags": []
   },
   "outputs": [],
   "source": [
    "start_time_secs = time.time()"
   ]
  },
  {
   "cell_type": "code",
   "execution_count": 10,
   "id": "de702e48",
   "metadata": {
    "execution": {
     "iopub.execute_input": "2022-03-27T01:25:26.468406Z",
     "iopub.status.busy": "2022-03-27T01:25:26.467528Z",
     "iopub.status.idle": "2022-03-27T01:26:04.076077Z",
     "shell.execute_reply": "2022-03-27T01:26:04.075279Z"
    },
    "papermill": {
     "duration": 37.635858,
     "end_time": "2022-03-27T01:26:04.076261",
     "exception": false,
     "start_time": "2022-03-27T01:25:26.440403",
     "status": "completed"
    },
    "tags": []
   },
   "outputs": [],
   "source": [
    "def wrap_in_dataloader(p, ds):\n",
    "    return torch.utils.data.DataLoader(\n",
    "        ds,\n",
    "        batch_size=p.batch_size,\n",
    "        shuffle=True,\n",
    "        num_workers=1,\n",
    "        persistent_workers=True,\n",
    "        prefetch_factor=50,\n",
    "        pin_memory=True\n",
    "    )\n",
    "\n",
    "taf_source = Traditional_Accessor_Factory(\n",
    "    labels=p.labels,\n",
    "    domains=p.domains_source,\n",
    "    num_examples_per_domain_per_label=p.num_examples_per_domain_per_label_source,\n",
    "    pickle_path=os.path.join(get_datasets_base_path(), p.pickle_name_source),\n",
    "    seed=p.dataset_seed\n",
    ")\n",
    "train_original_source, val_original_source, test_original_source = \\\n",
    "    taf_source.get_train(), taf_source.get_val(), taf_source.get_test()\n",
    "\n",
    "\n",
    "taf_target = Traditional_Accessor_Factory(\n",
    "    labels=p.labels,\n",
    "    domains=p.domains_target,\n",
    "    num_examples_per_domain_per_label=p.num_examples_per_domain_per_label_source,\n",
    "    pickle_path=os.path.join(get_datasets_base_path(), p.pickle_name_target),\n",
    "    seed=p.dataset_seed\n",
    ")\n",
    "train_original_target, val_original_target, test_original_target = \\\n",
    "    taf_target.get_train(), taf_target.get_val(), taf_target.get_test()\n",
    "\n",
    "\n",
    "# For CNN We only use X and Y. And we only train on the source.\n",
    "# Properly form the data using a transform lambda and Lazy_Map. Finally wrap them in a dataloader\n",
    "\n",
    "transform_lambda = lambda ex: ex[:2] # Strip the tuple to just (x,y)\n",
    "\n",
    "\n",
    "train_processed_source = wrap_in_dataloader(\n",
    "    p,\n",
    "    Lazy_Map(train_original_source, transform_lambda)\n",
    ")\n",
    "val_processed_source = wrap_in_dataloader(\n",
    "    p,\n",
    "    Lazy_Map(val_original_source, transform_lambda)\n",
    ")\n",
    "test_processed_source = wrap_in_dataloader(\n",
    "    p,\n",
    "    Lazy_Map(test_original_source, transform_lambda)\n",
    ")\n",
    "\n",
    "train_processed_target = wrap_in_dataloader(\n",
    "    p,\n",
    "    Lazy_Map(train_original_target, transform_lambda)\n",
    ")\n",
    "val_processed_target = wrap_in_dataloader(\n",
    "    p,\n",
    "    Lazy_Map(val_original_target, transform_lambda)\n",
    ")\n",
    "test_processed_target  = wrap_in_dataloader(\n",
    "    p,\n",
    "    Lazy_Map(test_original_target, transform_lambda)\n",
    ")\n",
    "\n",
    "\n",
    "\n",
    "datasets = EasyDict({\n",
    "    \"source\": {\n",
    "        \"original\": {\"train\":train_original_source, \"val\":val_original_source, \"test\":test_original_source},\n",
    "        \"processed\": {\"train\":train_processed_source, \"val\":val_processed_source, \"test\":test_processed_source}\n",
    "    },\n",
    "    \"target\": {\n",
    "        \"original\": {\"train\":train_original_target, \"val\":val_original_target, \"test\":test_original_target},\n",
    "        \"processed\": {\"train\":train_processed_target, \"val\":val_processed_target, \"test\":test_processed_target}\n",
    "    },\n",
    "})"
   ]
  },
  {
   "cell_type": "code",
   "execution_count": 11,
   "id": "a11b26bd",
   "metadata": {
    "execution": {
     "iopub.execute_input": "2022-03-27T01:26:04.157106Z",
     "iopub.status.busy": "2022-03-27T01:26:04.156283Z",
     "iopub.status.idle": "2022-03-27T01:26:09.623090Z",
     "shell.execute_reply": "2022-03-27T01:26:09.622241Z"
    },
    "papermill": {
     "duration": 5.528304,
     "end_time": "2022-03-27T01:26:09.623268",
     "exception": false,
     "start_time": "2022-03-27T01:26:04.094964",
     "status": "completed"
    },
    "tags": []
   },
   "outputs": [
    {
     "data": {
      "text/plain": [
       "torch.float32"
      ]
     },
     "execution_count": 11,
     "metadata": {},
     "output_type": "execute_result"
    }
   ],
   "source": [
    "ep = next(iter(test_processed_target))\n",
    "ep[0].dtype"
   ]
  },
  {
   "cell_type": "code",
   "execution_count": 12,
   "id": "19425fad",
   "metadata": {
    "execution": {
     "iopub.execute_input": "2022-03-27T01:26:09.663836Z",
     "iopub.status.busy": "2022-03-27T01:26:09.663188Z",
     "iopub.status.idle": "2022-03-27T01:26:09.709475Z",
     "shell.execute_reply": "2022-03-27T01:26:09.710114Z"
    },
    "papermill": {
     "duration": 0.068894,
     "end_time": "2022-03-27T01:26:09.710327",
     "exception": false,
     "start_time": "2022-03-27T01:26:09.641433",
     "status": "completed"
    },
    "tags": []
   },
   "outputs": [],
   "source": [
    "model = Configurable_Vanilla(\n",
    "    x_net=x_net,\n",
    "    label_loss_object=torch.nn.NLLLoss(),\n",
    "    learning_rate=p.lr\n",
    ")"
   ]
  },
  {
   "cell_type": "code",
   "execution_count": 13,
   "id": "7f6d4f2c",
   "metadata": {
    "execution": {
     "iopub.execute_input": "2022-03-27T01:26:09.749716Z",
     "iopub.status.busy": "2022-03-27T01:26:09.749342Z",
     "iopub.status.idle": "2022-03-27T01:51:23.512313Z",
     "shell.execute_reply": "2022-03-27T01:51:23.511961Z"
    },
    "papermill": {
     "duration": 1513.781832,
     "end_time": "2022-03-27T01:51:23.512402",
     "exception": false,
     "start_time": "2022-03-27T01:26:09.730570",
     "status": "completed"
    },
    "tags": []
   },
   "outputs": [
    {
     "name": "stdout",
     "output_type": "stream",
     "text": [
      "epoch: 1, [batch: 1 / 7000], examples_per_second: 316.1141, train_label_loss: 2.7988, \n"
     ]
    },
    {
     "name": "stdout",
     "output_type": "stream",
     "text": [
      "epoch: 1, [batch: 700 / 7000], examples_per_second: 12423.5955, train_label_loss: 2.5915, \n"
     ]
    },
    {
     "name": "stdout",
     "output_type": "stream",
     "text": [
      "epoch: 1, [batch: 1400 / 7000], examples_per_second: 12392.7125, train_label_loss: 2.4172, \n"
     ]
    },
    {
     "name": "stdout",
     "output_type": "stream",
     "text": [
      "epoch: 1, [batch: 2100 / 7000], examples_per_second: 12561.2265, train_label_loss: 2.2300, \n"
     ]
    },
    {
     "name": "stdout",
     "output_type": "stream",
     "text": [
      "epoch: 1, [batch: 2800 / 7000], examples_per_second: 12640.3376, train_label_loss: 2.0762, \n"
     ]
    },
    {
     "name": "stdout",
     "output_type": "stream",
     "text": [
      "epoch: 1, [batch: 3500 / 7000], examples_per_second: 12646.7723, train_label_loss: 1.7743, \n"
     ]
    },
    {
     "name": "stdout",
     "output_type": "stream",
     "text": [
      "epoch: 1, [batch: 4200 / 7000], examples_per_second: 12598.1676, train_label_loss: 1.9660, \n"
     ]
    },
    {
     "name": "stdout",
     "output_type": "stream",
     "text": [
      "epoch: 1, [batch: 4900 / 7000], examples_per_second: 12615.2781, train_label_loss: 1.8122, \n"
     ]
    },
    {
     "name": "stdout",
     "output_type": "stream",
     "text": [
      "epoch: 1, [batch: 5600 / 7000], examples_per_second: 12500.7306, train_label_loss: 1.5192, \n"
     ]
    },
    {
     "name": "stdout",
     "output_type": "stream",
     "text": [
      "epoch: 1, [batch: 6300 / 7000], examples_per_second: 12640.9945, train_label_loss: 1.4984, \n"
     ]
    },
    {
     "name": "stdout",
     "output_type": "stream",
     "text": [
      "=============================================================\n",
      "epoch: 1, source_val_acc_label: 0.5744, source_val_label_loss: 1.2653, target_val_acc_label: 0.5744, target_val_label_loss: 1.2653, \n",
      "=============================================================\n"
     ]
    },
    {
     "name": "stdout",
     "output_type": "stream",
     "text": [
      "New best\n",
      "epoch: 2, [batch: 1 / 7000], examples_per_second: 13.3090, train_label_loss: 1.3689, \n"
     ]
    },
    {
     "name": "stdout",
     "output_type": "stream",
     "text": [
      "epoch: 2, [batch: 700 / 7000], examples_per_second: 12534.3979, train_label_loss: 1.1791, \n"
     ]
    },
    {
     "name": "stdout",
     "output_type": "stream",
     "text": [
      "epoch: 2, [batch: 1400 / 7000], examples_per_second: 12137.2413, train_label_loss: 1.3260, \n"
     ]
    },
    {
     "name": "stdout",
     "output_type": "stream",
     "text": [
      "epoch: 2, [batch: 2100 / 7000], examples_per_second: 10665.0743, train_label_loss: 1.2572, \n"
     ]
    },
    {
     "name": "stdout",
     "output_type": "stream",
     "text": [
      "epoch: 2, [batch: 2800 / 7000], examples_per_second: 10628.4286, train_label_loss: 1.0409, \n"
     ]
    },
    {
     "name": "stdout",
     "output_type": "stream",
     "text": [
      "epoch: 2, [batch: 3500 / 7000], examples_per_second: 10607.1377, train_label_loss: 1.1780, \n"
     ]
    },
    {
     "name": "stdout",
     "output_type": "stream",
     "text": [
      "epoch: 2, [batch: 4200 / 7000], examples_per_second: 10647.4093, train_label_loss: 1.2012, \n"
     ]
    },
    {
     "name": "stdout",
     "output_type": "stream",
     "text": [
      "epoch: 2, [batch: 4900 / 7000], examples_per_second: 10585.0039, train_label_loss: 0.9814, \n"
     ]
    },
    {
     "name": "stdout",
     "output_type": "stream",
     "text": [
      "epoch: 2, [batch: 5600 / 7000], examples_per_second: 10601.3021, train_label_loss: 0.9909, \n"
     ]
    },
    {
     "name": "stdout",
     "output_type": "stream",
     "text": [
      "epoch: 2, [batch: 6300 / 7000], examples_per_second: 10660.6999, train_label_loss: 1.3335, \n"
     ]
    },
    {
     "name": "stdout",
     "output_type": "stream",
     "text": [
      "=============================================================\n",
      "epoch: 2, source_val_acc_label: 0.7027, source_val_label_loss: 0.8804, target_val_acc_label: 0.7027, target_val_label_loss: 0.8804, \n",
      "=============================================================\n"
     ]
    },
    {
     "name": "stdout",
     "output_type": "stream",
     "text": [
      "New best\n",
      "epoch: 3, [batch: 1 / 7000], examples_per_second: 11.5818, train_label_loss: 0.8084, \n"
     ]
    },
    {
     "name": "stdout",
     "output_type": "stream",
     "text": [
      "epoch: 3, [batch: 700 / 7000], examples_per_second: 11655.6978, train_label_loss: 1.1278, \n"
     ]
    },
    {
     "name": "stdout",
     "output_type": "stream",
     "text": [
      "epoch: 3, [batch: 1400 / 7000], examples_per_second: 11536.5756, train_label_loss: 0.8077, \n"
     ]
    },
    {
     "name": "stdout",
     "output_type": "stream",
     "text": [
      "epoch: 3, [batch: 2100 / 7000], examples_per_second: 11632.8441, train_label_loss: 0.7122, \n"
     ]
    },
    {
     "name": "stdout",
     "output_type": "stream",
     "text": [
      "epoch: 3, [batch: 2800 / 7000], examples_per_second: 11675.4949, train_label_loss: 0.8947, \n"
     ]
    },
    {
     "name": "stdout",
     "output_type": "stream",
     "text": [
      "epoch: 3, [batch: 3500 / 7000], examples_per_second: 11666.0911, train_label_loss: 0.9848, \n"
     ]
    },
    {
     "name": "stdout",
     "output_type": "stream",
     "text": [
      "epoch: 3, [batch: 4200 / 7000], examples_per_second: 11770.8416, train_label_loss: 0.7733, \n"
     ]
    },
    {
     "name": "stdout",
     "output_type": "stream",
     "text": [
      "epoch: 3, [batch: 4900 / 7000], examples_per_second: 11620.2990, train_label_loss: 0.9835, \n"
     ]
    },
    {
     "name": "stdout",
     "output_type": "stream",
     "text": [
      "epoch: 3, [batch: 5600 / 7000], examples_per_second: 11585.7400, train_label_loss: 1.1750, \n"
     ]
    },
    {
     "name": "stdout",
     "output_type": "stream",
     "text": [
      "epoch: 3, [batch: 6300 / 7000], examples_per_second: 11600.2337, train_label_loss: 0.8054, \n"
     ]
    },
    {
     "name": "stdout",
     "output_type": "stream",
     "text": [
      "=============================================================\n",
      "epoch: 3, source_val_acc_label: 0.7360, source_val_label_loss: 0.7431, target_val_acc_label: 0.7360, target_val_label_loss: 0.7431, \n",
      "=============================================================\n"
     ]
    },
    {
     "name": "stdout",
     "output_type": "stream",
     "text": [
      "New best\n",
      "epoch: 4, [batch: 1 / 7000], examples_per_second: 13.0058, train_label_loss: 0.6701, \n"
     ]
    },
    {
     "name": "stdout",
     "output_type": "stream",
     "text": [
      "epoch: 4, [batch: 700 / 7000], examples_per_second: 11607.9088, train_label_loss: 0.7140, \n"
     ]
    },
    {
     "name": "stdout",
     "output_type": "stream",
     "text": [
      "epoch: 4, [batch: 1400 / 7000], examples_per_second: 11596.7017, train_label_loss: 0.5597, \n"
     ]
    },
    {
     "name": "stdout",
     "output_type": "stream",
     "text": [
      "epoch: 4, [batch: 2100 / 7000], examples_per_second: 11782.3848, train_label_loss: 0.8493, \n"
     ]
    },
    {
     "name": "stdout",
     "output_type": "stream",
     "text": [
      "epoch: 4, [batch: 2800 / 7000], examples_per_second: 11644.5907, train_label_loss: 0.7125, \n"
     ]
    },
    {
     "name": "stdout",
     "output_type": "stream",
     "text": [
      "epoch: 4, [batch: 3500 / 7000], examples_per_second: 11648.1169, train_label_loss: 0.6381, \n"
     ]
    },
    {
     "name": "stdout",
     "output_type": "stream",
     "text": [
      "epoch: 4, [batch: 4200 / 7000], examples_per_second: 11640.1974, train_label_loss: 0.6082, \n"
     ]
    },
    {
     "name": "stdout",
     "output_type": "stream",
     "text": [
      "epoch: 4, [batch: 4900 / 7000], examples_per_second: 11594.7514, train_label_loss: 0.7131, \n"
     ]
    },
    {
     "name": "stdout",
     "output_type": "stream",
     "text": [
      "epoch: 4, [batch: 5600 / 7000], examples_per_second: 11709.5056, train_label_loss: 0.5904, \n"
     ]
    },
    {
     "name": "stdout",
     "output_type": "stream",
     "text": [
      "epoch: 4, [batch: 6300 / 7000], examples_per_second: 11653.8222, train_label_loss: 0.6835, \n"
     ]
    },
    {
     "name": "stdout",
     "output_type": "stream",
     "text": [
      "=============================================================\n",
      "epoch: 4, source_val_acc_label: 0.7464, source_val_label_loss: 0.7009, target_val_acc_label: 0.7464, target_val_label_loss: 0.7009, \n",
      "=============================================================\n"
     ]
    },
    {
     "name": "stdout",
     "output_type": "stream",
     "text": [
      "New best\n",
      "epoch: 5, [batch: 1 / 7000], examples_per_second: 13.0331, train_label_loss: 0.8096, \n"
     ]
    },
    {
     "name": "stdout",
     "output_type": "stream",
     "text": [
      "epoch: 5, [batch: 700 / 7000], examples_per_second: 11777.0778, train_label_loss: 0.7260, \n"
     ]
    },
    {
     "name": "stdout",
     "output_type": "stream",
     "text": [
      "epoch: 5, [batch: 1400 / 7000], examples_per_second: 11760.2981, train_label_loss: 0.7121, \n"
     ]
    },
    {
     "name": "stdout",
     "output_type": "stream",
     "text": [
      "epoch: 5, [batch: 2100 / 7000], examples_per_second: 11744.4050, train_label_loss: 0.5074, \n"
     ]
    },
    {
     "name": "stdout",
     "output_type": "stream",
     "text": [
      "epoch: 5, [batch: 2800 / 7000], examples_per_second: 12699.5129, train_label_loss: 0.6443, \n"
     ]
    },
    {
     "name": "stdout",
     "output_type": "stream",
     "text": [
      "epoch: 5, [batch: 3500 / 7000], examples_per_second: 12997.3697, train_label_loss: 0.7367, \n"
     ]
    },
    {
     "name": "stdout",
     "output_type": "stream",
     "text": [
      "epoch: 5, [batch: 4200 / 7000], examples_per_second: 13128.0867, train_label_loss: 0.7909, \n"
     ]
    },
    {
     "name": "stdout",
     "output_type": "stream",
     "text": [
      "epoch: 5, [batch: 4900 / 7000], examples_per_second: 12942.8102, train_label_loss: 0.6062, \n"
     ]
    },
    {
     "name": "stdout",
     "output_type": "stream",
     "text": [
      "epoch: 5, [batch: 5600 / 7000], examples_per_second: 12937.5272, train_label_loss: 0.5930, \n"
     ]
    },
    {
     "name": "stdout",
     "output_type": "stream",
     "text": [
      "epoch: 5, [batch: 6300 / 7000], examples_per_second: 13134.8996, train_label_loss: 0.4327, \n"
     ]
    },
    {
     "name": "stdout",
     "output_type": "stream",
     "text": [
      "=============================================================\n",
      "epoch: 5, source_val_acc_label: 0.7328, source_val_label_loss: 0.7303, target_val_acc_label: 0.7328, target_val_label_loss: 0.7303, \n",
      "=============================================================\n"
     ]
    },
    {
     "name": "stdout",
     "output_type": "stream",
     "text": [
      "epoch: 6, [batch: 1 / 7000], examples_per_second: 14.7322, train_label_loss: 0.5635, \n"
     ]
    },
    {
     "name": "stdout",
     "output_type": "stream",
     "text": [
      "epoch: 6, [batch: 700 / 7000], examples_per_second: 12919.1451, train_label_loss: 0.5833, \n"
     ]
    },
    {
     "name": "stdout",
     "output_type": "stream",
     "text": [
      "epoch: 6, [batch: 1400 / 7000], examples_per_second: 13561.3462, train_label_loss: 0.4137, \n"
     ]
    },
    {
     "name": "stdout",
     "output_type": "stream",
     "text": [
      "epoch: 6, [batch: 2100 / 7000], examples_per_second: 11713.2096, train_label_loss: 0.3679, \n"
     ]
    },
    {
     "name": "stdout",
     "output_type": "stream",
     "text": [
      "epoch: 6, [batch: 2800 / 7000], examples_per_second: 11723.9168, train_label_loss: 0.3834, \n"
     ]
    },
    {
     "name": "stdout",
     "output_type": "stream",
     "text": [
      "epoch: 6, [batch: 3500 / 7000], examples_per_second: 11699.7727, train_label_loss: 0.6121, \n"
     ]
    },
    {
     "name": "stdout",
     "output_type": "stream",
     "text": [
      "epoch: 6, [batch: 4200 / 7000], examples_per_second: 11717.2031, train_label_loss: 0.3955, \n"
     ]
    },
    {
     "name": "stdout",
     "output_type": "stream",
     "text": [
      "epoch: 6, [batch: 4900 / 7000], examples_per_second: 11723.5913, train_label_loss: 0.5300, \n"
     ]
    },
    {
     "name": "stdout",
     "output_type": "stream",
     "text": [
      "epoch: 6, [batch: 5600 / 7000], examples_per_second: 11677.2210, train_label_loss: 0.4160, \n"
     ]
    },
    {
     "name": "stdout",
     "output_type": "stream",
     "text": [
      "epoch: 6, [batch: 6300 / 7000], examples_per_second: 11666.3732, train_label_loss: 0.6764, \n"
     ]
    },
    {
     "name": "stdout",
     "output_type": "stream",
     "text": [
      "=============================================================\n",
      "epoch: 6, source_val_acc_label: 0.7595, source_val_label_loss: 0.6499, target_val_acc_label: 0.7595, target_val_label_loss: 0.6499, \n",
      "=============================================================\n"
     ]
    },
    {
     "name": "stdout",
     "output_type": "stream",
     "text": [
      "New best\n",
      "epoch: 7, [batch: 1 / 7000], examples_per_second: 13.3712, train_label_loss: 0.8127, \n"
     ]
    },
    {
     "name": "stdout",
     "output_type": "stream",
     "text": [
      "epoch: 7, [batch: 700 / 7000], examples_per_second: 12669.6757, train_label_loss: 0.5498, \n"
     ]
    },
    {
     "name": "stdout",
     "output_type": "stream",
     "text": [
      "epoch: 7, [batch: 1400 / 7000], examples_per_second: 12424.9780, train_label_loss: 0.4311, \n"
     ]
    },
    {
     "name": "stdout",
     "output_type": "stream",
     "text": [
      "epoch: 7, [batch: 2100 / 7000], examples_per_second: 12566.8176, train_label_loss: 0.3775, \n"
     ]
    },
    {
     "name": "stdout",
     "output_type": "stream",
     "text": [
      "epoch: 7, [batch: 2800 / 7000], examples_per_second: 12534.0409, train_label_loss: 0.4518, \n"
     ]
    },
    {
     "name": "stdout",
     "output_type": "stream",
     "text": [
      "epoch: 7, [batch: 3500 / 7000], examples_per_second: 12595.8875, train_label_loss: 0.4896, \n"
     ]
    },
    {
     "name": "stdout",
     "output_type": "stream",
     "text": [
      "epoch: 7, [batch: 4200 / 7000], examples_per_second: 12636.6870, train_label_loss: 0.5389, \n"
     ]
    },
    {
     "name": "stdout",
     "output_type": "stream",
     "text": [
      "epoch: 7, [batch: 4900 / 7000], examples_per_second: 12534.4852, train_label_loss: 0.3615, \n"
     ]
    },
    {
     "name": "stdout",
     "output_type": "stream",
     "text": [
      "epoch: 7, [batch: 5600 / 7000], examples_per_second: 12622.2993, train_label_loss: 0.3653, \n"
     ]
    },
    {
     "name": "stdout",
     "output_type": "stream",
     "text": [
      "epoch: 7, [batch: 6300 / 7000], examples_per_second: 12526.1512, train_label_loss: 0.4404, \n"
     ]
    },
    {
     "name": "stdout",
     "output_type": "stream",
     "text": [
      "=============================================================\n",
      "epoch: 7, source_val_acc_label: 0.7690, source_val_label_loss: 0.6367, target_val_acc_label: 0.7690, target_val_label_loss: 0.6367, \n",
      "=============================================================\n"
     ]
    },
    {
     "name": "stdout",
     "output_type": "stream",
     "text": [
      "New best\n",
      "epoch: 8, [batch: 1 / 7000], examples_per_second: 14.0863, train_label_loss: 0.3581, \n"
     ]
    },
    {
     "name": "stdout",
     "output_type": "stream",
     "text": [
      "epoch: 8, [batch: 700 / 7000], examples_per_second: 12166.3570, train_label_loss: 0.2292, \n"
     ]
    },
    {
     "name": "stdout",
     "output_type": "stream",
     "text": [
      "epoch: 8, [batch: 1400 / 7000], examples_per_second: 12398.1031, train_label_loss: 0.4797, \n"
     ]
    },
    {
     "name": "stdout",
     "output_type": "stream",
     "text": [
      "epoch: 8, [batch: 2100 / 7000], examples_per_second: 12634.5259, train_label_loss: 0.4985, \n"
     ]
    },
    {
     "name": "stdout",
     "output_type": "stream",
     "text": [
      "epoch: 8, [batch: 2800 / 7000], examples_per_second: 12675.6629, train_label_loss: 0.3959, \n"
     ]
    },
    {
     "name": "stdout",
     "output_type": "stream",
     "text": [
      "epoch: 8, [batch: 3500 / 7000], examples_per_second: 12657.5037, train_label_loss: 0.4259, \n"
     ]
    },
    {
     "name": "stdout",
     "output_type": "stream",
     "text": [
      "epoch: 8, [batch: 4200 / 7000], examples_per_second: 12592.5165, train_label_loss: 0.3874, \n"
     ]
    },
    {
     "name": "stdout",
     "output_type": "stream",
     "text": [
      "epoch: 8, [batch: 4900 / 7000], examples_per_second: 12488.3706, train_label_loss: 0.3130, \n"
     ]
    },
    {
     "name": "stdout",
     "output_type": "stream",
     "text": [
      "epoch: 8, [batch: 5600 / 7000], examples_per_second: 12599.5821, train_label_loss: 0.3256, \n"
     ]
    },
    {
     "name": "stdout",
     "output_type": "stream",
     "text": [
      "epoch: 8, [batch: 6300 / 7000], examples_per_second: 12630.8731, train_label_loss: 0.5892, \n"
     ]
    },
    {
     "name": "stdout",
     "output_type": "stream",
     "text": [
      "=============================================================\n",
      "epoch: 8, source_val_acc_label: 0.7629, source_val_label_loss: 0.6525, target_val_acc_label: 0.7629, target_val_label_loss: 0.6525, \n",
      "=============================================================\n"
     ]
    },
    {
     "name": "stdout",
     "output_type": "stream",
     "text": [
      "epoch: 9, [batch: 1 / 7000], examples_per_second: 14.1778, train_label_loss: 0.3534, \n"
     ]
    },
    {
     "name": "stdout",
     "output_type": "stream",
     "text": [
      "epoch: 9, [batch: 700 / 7000], examples_per_second: 13150.6014, train_label_loss: 0.2263, \n"
     ]
    },
    {
     "name": "stdout",
     "output_type": "stream",
     "text": [
      "epoch: 9, [batch: 1400 / 7000], examples_per_second: 13924.6609, train_label_loss: 0.4324, \n"
     ]
    },
    {
     "name": "stdout",
     "output_type": "stream",
     "text": [
      "epoch: 9, [batch: 2100 / 7000], examples_per_second: 14033.7794, train_label_loss: 0.4528, \n"
     ]
    },
    {
     "name": "stdout",
     "output_type": "stream",
     "text": [
      "epoch: 9, [batch: 2800 / 7000], examples_per_second: 14074.7434, train_label_loss: 0.3544, \n"
     ]
    },
    {
     "name": "stdout",
     "output_type": "stream",
     "text": [
      "epoch: 9, [batch: 3500 / 7000], examples_per_second: 14472.6194, train_label_loss: 0.3117, \n"
     ]
    },
    {
     "name": "stdout",
     "output_type": "stream",
     "text": [
      "epoch: 9, [batch: 4200 / 7000], examples_per_second: 13734.1883, train_label_loss: 0.5738, \n"
     ]
    },
    {
     "name": "stdout",
     "output_type": "stream",
     "text": [
      "epoch: 9, [batch: 4900 / 7000], examples_per_second: 13911.8171, train_label_loss: 0.3827, \n"
     ]
    },
    {
     "name": "stdout",
     "output_type": "stream",
     "text": [
      "epoch: 9, [batch: 5600 / 7000], examples_per_second: 14101.8358, train_label_loss: 0.5276, \n"
     ]
    },
    {
     "name": "stdout",
     "output_type": "stream",
     "text": [
      "epoch: 9, [batch: 6300 / 7000], examples_per_second: 14197.9043, train_label_loss: 0.3690, \n"
     ]
    },
    {
     "name": "stdout",
     "output_type": "stream",
     "text": [
      "=============================================================\n",
      "epoch: 9, source_val_acc_label: 0.7714, source_val_label_loss: 0.6322, target_val_acc_label: 0.7714, target_val_label_loss: 0.6322, \n",
      "=============================================================\n"
     ]
    },
    {
     "name": "stdout",
     "output_type": "stream",
     "text": [
      "New best\n",
      "epoch: 10, [batch: 1 / 7000], examples_per_second: 12.0236, train_label_loss: 0.5654, \n"
     ]
    },
    {
     "name": "stdout",
     "output_type": "stream",
     "text": [
      "epoch: 10, [batch: 700 / 7000], examples_per_second: 10718.7174, train_label_loss: 0.3951, \n"
     ]
    },
    {
     "name": "stdout",
     "output_type": "stream",
     "text": [
      "epoch: 10, [batch: 1400 / 7000], examples_per_second: 10679.0687, train_label_loss: 0.4062, \n"
     ]
    },
    {
     "name": "stdout",
     "output_type": "stream",
     "text": [
      "epoch: 10, [batch: 2100 / 7000], examples_per_second: 10703.3342, train_label_loss: 0.4425, \n"
     ]
    },
    {
     "name": "stdout",
     "output_type": "stream",
     "text": [
      "epoch: 10, [batch: 2800 / 7000], examples_per_second: 10694.2398, train_label_loss: 0.3000, \n"
     ]
    },
    {
     "name": "stdout",
     "output_type": "stream",
     "text": [
      "epoch: 10, [batch: 3500 / 7000], examples_per_second: 10664.5041, train_label_loss: 0.4125, \n"
     ]
    },
    {
     "name": "stdout",
     "output_type": "stream",
     "text": [
      "epoch: 10, [batch: 4200 / 7000], examples_per_second: 10704.3665, train_label_loss: 0.3681, \n"
     ]
    },
    {
     "name": "stdout",
     "output_type": "stream",
     "text": [
      "epoch: 10, [batch: 4900 / 7000], examples_per_second: 10679.0657, train_label_loss: 0.5154, \n"
     ]
    },
    {
     "name": "stdout",
     "output_type": "stream",
     "text": [
      "epoch: 10, [batch: 5600 / 7000], examples_per_second: 10718.6065, train_label_loss: 0.3113, \n"
     ]
    },
    {
     "name": "stdout",
     "output_type": "stream",
     "text": [
      "epoch: 10, [batch: 6300 / 7000], examples_per_second: 10699.2028, train_label_loss: 0.4598, \n"
     ]
    },
    {
     "name": "stdout",
     "output_type": "stream",
     "text": [
      "=============================================================\n",
      "epoch: 10, source_val_acc_label: 0.7220, source_val_label_loss: 0.8278, target_val_acc_label: 0.7220, target_val_label_loss: 0.8278, \n",
      "=============================================================\n"
     ]
    },
    {
     "name": "stdout",
     "output_type": "stream",
     "text": [
      "epoch: 11, [batch: 1 / 7000], examples_per_second: 11.4064, train_label_loss: 0.2736, \n"
     ]
    },
    {
     "name": "stdout",
     "output_type": "stream",
     "text": [
      "epoch: 11, [batch: 700 / 7000], examples_per_second: 10695.8519, train_label_loss: 0.4064, \n"
     ]
    },
    {
     "name": "stdout",
     "output_type": "stream",
     "text": [
      "epoch: 11, [batch: 1400 / 7000], examples_per_second: 10701.8593, train_label_loss: 0.3470, \n"
     ]
    },
    {
     "name": "stdout",
     "output_type": "stream",
     "text": [
      "epoch: 11, [batch: 2100 / 7000], examples_per_second: 10705.5576, train_label_loss: 0.3379, \n"
     ]
    },
    {
     "name": "stdout",
     "output_type": "stream",
     "text": [
      "epoch: 11, [batch: 2800 / 7000], examples_per_second: 10710.5317, train_label_loss: 0.2663, \n"
     ]
    },
    {
     "name": "stdout",
     "output_type": "stream",
     "text": [
      "epoch: 11, [batch: 3500 / 7000], examples_per_second: 10686.8557, train_label_loss: 0.3737, \n"
     ]
    },
    {
     "name": "stdout",
     "output_type": "stream",
     "text": [
      "epoch: 11, [batch: 4200 / 7000], examples_per_second: 10689.3087, train_label_loss: 0.3049, \n"
     ]
    },
    {
     "name": "stdout",
     "output_type": "stream",
     "text": [
      "epoch: 11, [batch: 4900 / 7000], examples_per_second: 10696.3896, train_label_loss: 0.3193, \n"
     ]
    },
    {
     "name": "stdout",
     "output_type": "stream",
     "text": [
      "epoch: 11, [batch: 5600 / 7000], examples_per_second: 10741.0991, train_label_loss: 0.2442, \n"
     ]
    },
    {
     "name": "stdout",
     "output_type": "stream",
     "text": [
      "epoch: 11, [batch: 6300 / 7000], examples_per_second: 10670.4947, train_label_loss: 0.4927, \n"
     ]
    },
    {
     "name": "stdout",
     "output_type": "stream",
     "text": [
      "=============================================================\n",
      "epoch: 11, source_val_acc_label: 0.7778, source_val_label_loss: 0.6204, target_val_acc_label: 0.7778, target_val_label_loss: 0.6204, \n",
      "=============================================================\n"
     ]
    },
    {
     "name": "stdout",
     "output_type": "stream",
     "text": [
      "New best\n",
      "epoch: 12, [batch: 1 / 7000], examples_per_second: 11.4913, train_label_loss: 0.2521, \n"
     ]
    },
    {
     "name": "stdout",
     "output_type": "stream",
     "text": [
      "epoch: 12, [batch: 700 / 7000], examples_per_second: 10673.8989, train_label_loss: 0.1890, \n"
     ]
    },
    {
     "name": "stdout",
     "output_type": "stream",
     "text": [
      "epoch: 12, [batch: 1400 / 7000], examples_per_second: 10717.0696, train_label_loss: 0.2713, \n"
     ]
    },
    {
     "name": "stdout",
     "output_type": "stream",
     "text": [
      "epoch: 12, [batch: 2100 / 7000], examples_per_second: 10726.6943, train_label_loss: 0.3409, \n"
     ]
    },
    {
     "name": "stdout",
     "output_type": "stream",
     "text": [
      "epoch: 12, [batch: 2800 / 7000], examples_per_second: 10690.4986, train_label_loss: 0.2561, \n"
     ]
    },
    {
     "name": "stdout",
     "output_type": "stream",
     "text": [
      "epoch: 12, [batch: 3500 / 7000], examples_per_second: 10686.6177, train_label_loss: 0.2263, \n"
     ]
    },
    {
     "name": "stdout",
     "output_type": "stream",
     "text": [
      "epoch: 12, [batch: 4200 / 7000], examples_per_second: 10704.7117, train_label_loss: 0.2556, \n"
     ]
    },
    {
     "name": "stdout",
     "output_type": "stream",
     "text": [
      "epoch: 12, [batch: 4900 / 7000], examples_per_second: 10727.0538, train_label_loss: 0.4080, \n"
     ]
    },
    {
     "name": "stdout",
     "output_type": "stream",
     "text": [
      "epoch: 12, [batch: 5600 / 7000], examples_per_second: 10699.3219, train_label_loss: 0.2325, \n"
     ]
    },
    {
     "name": "stdout",
     "output_type": "stream",
     "text": [
      "epoch: 12, [batch: 6300 / 7000], examples_per_second: 10674.0519, train_label_loss: 0.3305, \n"
     ]
    },
    {
     "name": "stdout",
     "output_type": "stream",
     "text": [
      "=============================================================\n",
      "epoch: 12, source_val_acc_label: 0.7648, source_val_label_loss: 0.6755, target_val_acc_label: 0.7648, target_val_label_loss: 0.6755, \n",
      "=============================================================\n"
     ]
    },
    {
     "name": "stdout",
     "output_type": "stream",
     "text": [
      "epoch: 13, [batch: 1 / 7000], examples_per_second: 13.1276, train_label_loss: 0.5416, \n"
     ]
    },
    {
     "name": "stdout",
     "output_type": "stream",
     "text": [
      "epoch: 13, [batch: 700 / 7000], examples_per_second: 12983.8722, train_label_loss: 0.1946, \n"
     ]
    },
    {
     "name": "stdout",
     "output_type": "stream",
     "text": [
      "epoch: 13, [batch: 1400 / 7000], examples_per_second: 12950.7387, train_label_loss: 0.2322, \n"
     ]
    },
    {
     "name": "stdout",
     "output_type": "stream",
     "text": [
      "epoch: 13, [batch: 2100 / 7000], examples_per_second: 13045.9688, train_label_loss: 0.3204, \n"
     ]
    },
    {
     "name": "stdout",
     "output_type": "stream",
     "text": [
      "epoch: 13, [batch: 2800 / 7000], examples_per_second: 13130.9953, train_label_loss: 0.2169, \n"
     ]
    },
    {
     "name": "stdout",
     "output_type": "stream",
     "text": [
      "epoch: 13, [batch: 3500 / 7000], examples_per_second: 13150.2635, train_label_loss: 0.1965, \n"
     ]
    },
    {
     "name": "stdout",
     "output_type": "stream",
     "text": [
      "epoch: 13, [batch: 4200 / 7000], examples_per_second: 13000.1820, train_label_loss: 0.2343, \n"
     ]
    },
    {
     "name": "stdout",
     "output_type": "stream",
     "text": [
      "epoch: 13, [batch: 4900 / 7000], examples_per_second: 12985.6883, train_label_loss: 0.1943, \n"
     ]
    },
    {
     "name": "stdout",
     "output_type": "stream",
     "text": [
      "epoch: 13, [batch: 5600 / 7000], examples_per_second: 12887.8879, train_label_loss: 0.2584, \n"
     ]
    },
    {
     "name": "stdout",
     "output_type": "stream",
     "text": [
      "epoch: 13, [batch: 6300 / 7000], examples_per_second: 14443.4593, train_label_loss: 0.3015, \n"
     ]
    },
    {
     "name": "stdout",
     "output_type": "stream",
     "text": [
      "=============================================================\n",
      "epoch: 13, source_val_acc_label: 0.7805, source_val_label_loss: 0.6535, target_val_acc_label: 0.7805, target_val_label_loss: 0.6535, \n",
      "=============================================================\n"
     ]
    },
    {
     "name": "stdout",
     "output_type": "stream",
     "text": [
      "New best\n",
      "epoch: 14, [batch: 1 / 7000], examples_per_second: 12.1385, train_label_loss: 0.1511, \n"
     ]
    },
    {
     "name": "stdout",
     "output_type": "stream",
     "text": [
      "epoch: 14, [batch: 700 / 7000], examples_per_second: 10701.9920, train_label_loss: 0.1473, \n"
     ]
    },
    {
     "name": "stdout",
     "output_type": "stream",
     "text": [
      "epoch: 14, [batch: 1400 / 7000], examples_per_second: 10723.5460, train_label_loss: 0.3118, \n"
     ]
    },
    {
     "name": "stdout",
     "output_type": "stream",
     "text": [
      "epoch: 14, [batch: 2100 / 7000], examples_per_second: 10693.8472, train_label_loss: 0.4510, \n"
     ]
    },
    {
     "name": "stdout",
     "output_type": "stream",
     "text": [
      "epoch: 14, [batch: 2800 / 7000], examples_per_second: 10715.3385, train_label_loss: 0.1721, \n"
     ]
    },
    {
     "name": "stdout",
     "output_type": "stream",
     "text": [
      "epoch: 14, [batch: 3500 / 7000], examples_per_second: 10714.3267, train_label_loss: 0.2516, \n"
     ]
    },
    {
     "name": "stdout",
     "output_type": "stream",
     "text": [
      "epoch: 14, [batch: 4200 / 7000], examples_per_second: 10705.1861, train_label_loss: 0.5771, \n"
     ]
    },
    {
     "name": "stdout",
     "output_type": "stream",
     "text": [
      "epoch: 14, [batch: 4900 / 7000], examples_per_second: 10701.3873, train_label_loss: 0.2003, \n"
     ]
    },
    {
     "name": "stdout",
     "output_type": "stream",
     "text": [
      "epoch: 14, [batch: 5600 / 7000], examples_per_second: 10689.2272, train_label_loss: 0.2507, \n"
     ]
    },
    {
     "name": "stdout",
     "output_type": "stream",
     "text": [
      "epoch: 14, [batch: 6300 / 7000], examples_per_second: 10696.8539, train_label_loss: 0.2864, \n"
     ]
    },
    {
     "name": "stdout",
     "output_type": "stream",
     "text": [
      "=============================================================\n",
      "epoch: 14, source_val_acc_label: 0.7644, source_val_label_loss: 0.7095, target_val_acc_label: 0.7644, target_val_label_loss: 0.7095, \n",
      "=============================================================\n"
     ]
    },
    {
     "name": "stdout",
     "output_type": "stream",
     "text": [
      "epoch: 15, [batch: 1 / 7000], examples_per_second: 11.6763, train_label_loss: 0.3785, \n"
     ]
    },
    {
     "name": "stdout",
     "output_type": "stream",
     "text": [
      "epoch: 15, [batch: 700 / 7000], examples_per_second: 10718.1623, train_label_loss: 0.1435, \n"
     ]
    },
    {
     "name": "stdout",
     "output_type": "stream",
     "text": [
      "epoch: 15, [batch: 1400 / 7000], examples_per_second: 10727.5924, train_label_loss: 0.2351, \n"
     ]
    },
    {
     "name": "stdout",
     "output_type": "stream",
     "text": [
      "epoch: 15, [batch: 2100 / 7000], examples_per_second: 10689.9697, train_label_loss: 0.1105, \n"
     ]
    },
    {
     "name": "stdout",
     "output_type": "stream",
     "text": [
      "epoch: 15, [batch: 2800 / 7000], examples_per_second: 10704.9550, train_label_loss: 0.2305, \n"
     ]
    },
    {
     "name": "stdout",
     "output_type": "stream",
     "text": [
      "epoch: 15, [batch: 3500 / 7000], examples_per_second: 10700.3671, train_label_loss: 0.1432, \n"
     ]
    },
    {
     "name": "stdout",
     "output_type": "stream",
     "text": [
      "epoch: 15, [batch: 4200 / 7000], examples_per_second: 10712.4662, train_label_loss: 0.1905, \n"
     ]
    },
    {
     "name": "stdout",
     "output_type": "stream",
     "text": [
      "epoch: 15, [batch: 4900 / 7000], examples_per_second: 10693.5347, train_label_loss: 0.3933, \n"
     ]
    },
    {
     "name": "stdout",
     "output_type": "stream",
     "text": [
      "epoch: 15, [batch: 5600 / 7000], examples_per_second: 10671.2634, train_label_loss: 0.3945, \n"
     ]
    },
    {
     "name": "stdout",
     "output_type": "stream",
     "text": [
      "epoch: 15, [batch: 6300 / 7000], examples_per_second: 10690.0582, train_label_loss: 0.4132, \n"
     ]
    },
    {
     "name": "stdout",
     "output_type": "stream",
     "text": [
      "=============================================================\n",
      "epoch: 15, source_val_acc_label: 0.7377, source_val_label_loss: 0.8755, target_val_acc_label: 0.7377, target_val_label_loss: 0.8755, \n",
      "=============================================================\n"
     ]
    },
    {
     "name": "stdout",
     "output_type": "stream",
     "text": [
      "epoch: 16, [batch: 1 / 7000], examples_per_second: 11.5261, train_label_loss: 0.1078, \n"
     ]
    },
    {
     "name": "stdout",
     "output_type": "stream",
     "text": [
      "epoch: 16, [batch: 700 / 7000], examples_per_second: 10694.0606, train_label_loss: 0.2052, \n"
     ]
    },
    {
     "name": "stdout",
     "output_type": "stream",
     "text": [
      "epoch: 16, [batch: 1400 / 7000], examples_per_second: 10708.2767, train_label_loss: 0.2544, \n"
     ]
    },
    {
     "name": "stdout",
     "output_type": "stream",
     "text": [
      "epoch: 16, [batch: 2100 / 7000], examples_per_second: 10707.0509, train_label_loss: 0.1800, \n"
     ]
    },
    {
     "name": "stdout",
     "output_type": "stream",
     "text": [
      "epoch: 16, [batch: 2800 / 7000], examples_per_second: 10738.6731, train_label_loss: 0.2017, \n"
     ]
    },
    {
     "name": "stdout",
     "output_type": "stream",
     "text": [
      "epoch: 16, [batch: 3500 / 7000], examples_per_second: 10702.2110, train_label_loss: 0.2572, \n"
     ]
    },
    {
     "name": "stdout",
     "output_type": "stream",
     "text": [
      "epoch: 16, [batch: 4200 / 7000], examples_per_second: 10739.3593, train_label_loss: 0.2170, \n"
     ]
    },
    {
     "name": "stdout",
     "output_type": "stream",
     "text": [
      "epoch: 16, [batch: 4900 / 7000], examples_per_second: 10714.1865, train_label_loss: 0.4019, \n"
     ]
    },
    {
     "name": "stdout",
     "output_type": "stream",
     "text": [
      "epoch: 16, [batch: 5600 / 7000], examples_per_second: 10682.2378, train_label_loss: 0.2544, \n"
     ]
    },
    {
     "name": "stdout",
     "output_type": "stream",
     "text": [
      "epoch: 16, [batch: 6300 / 7000], examples_per_second: 10734.7407, train_label_loss: 0.2391, \n"
     ]
    },
    {
     "name": "stdout",
     "output_type": "stream",
     "text": [
      "=============================================================\n",
      "epoch: 16, source_val_acc_label: 0.7326, source_val_label_loss: 0.8863, target_val_acc_label: 0.7326, target_val_label_loss: 0.8863, \n",
      "=============================================================\n"
     ]
    },
    {
     "name": "stdout",
     "output_type": "stream",
     "text": [
      "epoch: 17, [batch: 1 / 7000], examples_per_second: 12.9808, train_label_loss: 0.2077, \n"
     ]
    },
    {
     "name": "stdout",
     "output_type": "stream",
     "text": [
      "epoch: 17, [batch: 700 / 7000], examples_per_second: 12993.1323, train_label_loss: 0.1787, \n"
     ]
    },
    {
     "name": "stdout",
     "output_type": "stream",
     "text": [
      "epoch: 17, [batch: 1400 / 7000], examples_per_second: 13011.1209, train_label_loss: 0.1520, \n"
     ]
    },
    {
     "name": "stdout",
     "output_type": "stream",
     "text": [
      "epoch: 17, [batch: 2100 / 7000], examples_per_second: 13023.7453, train_label_loss: 0.1169, \n"
     ]
    },
    {
     "name": "stdout",
     "output_type": "stream",
     "text": [
      "epoch: 17, [batch: 2800 / 7000], examples_per_second: 13078.4490, train_label_loss: 0.1206, \n"
     ]
    },
    {
     "name": "stdout",
     "output_type": "stream",
     "text": [
      "epoch: 17, [batch: 3500 / 7000], examples_per_second: 13124.4707, train_label_loss: 0.1204, \n"
     ]
    },
    {
     "name": "stdout",
     "output_type": "stream",
     "text": [
      "epoch: 17, [batch: 4200 / 7000], examples_per_second: 13002.7503, train_label_loss: 0.1075, \n"
     ]
    },
    {
     "name": "stdout",
     "output_type": "stream",
     "text": [
      "epoch: 17, [batch: 4900 / 7000], examples_per_second: 12982.7204, train_label_loss: 0.2174, \n"
     ]
    },
    {
     "name": "stdout",
     "output_type": "stream",
     "text": [
      "epoch: 17, [batch: 5600 / 7000], examples_per_second: 12995.8775, train_label_loss: 0.2190, \n"
     ]
    },
    {
     "name": "stdout",
     "output_type": "stream",
     "text": [
      "epoch: 17, [batch: 6300 / 7000], examples_per_second: 13594.2435, train_label_loss: 0.1749, \n"
     ]
    },
    {
     "name": "stdout",
     "output_type": "stream",
     "text": [
      "=============================================================\n",
      "epoch: 17, source_val_acc_label: 0.7661, source_val_label_loss: 0.7446, target_val_acc_label: 0.7661, target_val_label_loss: 0.7446, \n",
      "=============================================================\n"
     ]
    },
    {
     "name": "stdout",
     "output_type": "stream",
     "text": [
      "Patience (3) exhausted\n"
     ]
    }
   ],
   "source": [
    "jig = Vanilla_Train_Eval_Test_Jig(\n",
    "    model=model,\n",
    "    path_to_best_model=p.BEST_MODEL_PATH,\n",
    "    device=p.device,\n",
    "    label_loss_object=torch.nn.NLLLoss(),\n",
    ")\n",
    "\n",
    "jig.train(\n",
    "    train_iterable=datasets.source.processed.train,\n",
    "    source_val_iterable=datasets.source.processed.val,\n",
    "    target_val_iterable=datasets.target.processed.val,\n",
    "    patience=p.patience,\n",
    "    num_epochs=p.n_epoch,\n",
    "    num_logs_per_epoch=p.NUM_LOGS_PER_EPOCH,\n",
    "    criteria_for_best=p.criteria_for_best\n",
    ")"
   ]
  },
  {
   "cell_type": "code",
   "execution_count": 14,
   "id": "4bc2ac17",
   "metadata": {
    "execution": {
     "iopub.execute_input": "2022-03-27T01:51:23.661387Z",
     "iopub.status.busy": "2022-03-27T01:51:23.660813Z",
     "iopub.status.idle": "2022-03-27T01:51:23.664166Z",
     "shell.execute_reply": "2022-03-27T01:51:23.663314Z"
    },
    "papermill": {
     "duration": 0.079981,
     "end_time": "2022-03-27T01:51:23.664349",
     "exception": false,
     "start_time": "2022-03-27T01:51:23.584368",
     "status": "completed"
    },
    "tags": []
   },
   "outputs": [],
   "source": [
    "total_experiment_time_secs = time.time() - start_time_secs"
   ]
  },
  {
   "cell_type": "code",
   "execution_count": 15,
   "id": "cae88f23",
   "metadata": {
    "execution": {
     "iopub.execute_input": "2022-03-27T01:51:23.821731Z",
     "iopub.status.busy": "2022-03-27T01:51:23.820919Z",
     "iopub.status.idle": "2022-03-27T01:53:18.913310Z",
     "shell.execute_reply": "2022-03-27T01:53:18.905604Z"
    },
    "papermill": {
     "duration": 115.179446,
     "end_time": "2022-03-27T01:53:18.917779",
     "exception": false,
     "start_time": "2022-03-27T01:51:23.738333",
     "status": "completed"
    },
    "tags": []
   },
   "outputs": [],
   "source": [
    "source_test_label_accuracy, source_test_label_loss = jig.test(datasets.source.processed.test)\n",
    "target_test_label_accuracy, target_test_label_loss = jig.test(datasets.target.processed.test)\n",
    "\n",
    "source_val_label_accuracy, source_val_label_loss = jig.test(datasets.source.processed.val)\n",
    "target_val_label_accuracy, target_val_label_loss = jig.test(datasets.target.processed.val)\n",
    "\n",
    "history = jig.get_history()\n",
    "\n",
    "total_epochs_trained = len(history[\"epoch_indices\"])\n",
    "\n",
    "val_dl = wrap_in_dataloader(p, Sequence_Aggregator((datasets.source.original.val, datasets.target.original.val)))\n",
    "\n",
    "confusion = confusion_by_domain_over_dataloader(model, p.device, val_dl, forward_uses_domain=False)\n",
    "per_domain_accuracy = per_domain_accuracy_from_confusion(confusion)\n",
    "\n",
    "# Add a key to per_domain_accuracy for if it was a source domain\n",
    "for domain, accuracy in per_domain_accuracy.items():\n",
    "    per_domain_accuracy[domain] = {\n",
    "        \"accuracy\": accuracy,\n",
    "        \"source?\": domain in p.domains_source\n",
    "    }\n",
    "\n",
    "# Do an independent accuracy assesment JUST TO BE SURE!\n",
    "# _source_test_label_accuracy = independent_accuracy_assesment(model, datasets.source.processed.test, p.device)\n",
    "# _target_test_label_accuracy = independent_accuracy_assesment(model, datasets.target.processed.test, p.device)\n",
    "# _source_val_label_accuracy = independent_accuracy_assesment(model, datasets.source.processed.val, p.device)\n",
    "# _target_val_label_accuracy = independent_accuracy_assesment(model, datasets.target.processed.val, p.device)\n",
    "\n",
    "# assert(_source_test_label_accuracy == source_test_label_accuracy)\n",
    "# assert(_target_test_label_accuracy == target_test_label_accuracy)\n",
    "# assert(_source_val_label_accuracy == source_val_label_accuracy)\n",
    "# assert(_target_val_label_accuracy == target_val_label_accuracy)\n",
    "\n",
    "###################################\n",
    "# Write out the results\n",
    "###################################\n",
    "\n",
    "experiment = {\n",
    "    \"experiment_name\": p.experiment_name,\n",
    "    \"parameters\": p,\n",
    "    \"results\": {\n",
    "        \"source_test_label_accuracy\": source_test_label_accuracy,\n",
    "        \"source_test_label_loss\": source_test_label_loss,\n",
    "        \"target_test_label_accuracy\": target_test_label_accuracy,\n",
    "        \"target_test_label_loss\": target_test_label_loss,\n",
    "        \"source_val_label_accuracy\": source_val_label_accuracy,\n",
    "        \"source_val_label_loss\": source_val_label_loss,\n",
    "        \"target_val_label_accuracy\": target_val_label_accuracy,\n",
    "        \"target_val_label_loss\": target_val_label_loss,\n",
    "        \"total_epochs_trained\": total_epochs_trained,\n",
    "        \"total_experiment_time_secs\": total_experiment_time_secs,\n",
    "        \"confusion\": confusion,\n",
    "        \"per_domain_accuracy\": per_domain_accuracy,\n",
    "    },\n",
    "    \"history\": history,\n",
    "    \"dataset_metrics\": get_dataset_metrics(datasets, \"cnn\"),\n",
    "}"
   ]
  },
  {
   "cell_type": "code",
   "execution_count": 16,
   "id": "74c318cf",
   "metadata": {
    "execution": {
     "iopub.execute_input": "2022-03-27T01:53:19.210225Z",
     "iopub.status.busy": "2022-03-27T01:53:19.182968Z",
     "iopub.status.idle": "2022-03-27T01:53:19.670431Z",
     "shell.execute_reply": "2022-03-27T01:53:19.670938Z"
    },
    "papermill": {
     "duration": 0.610191,
     "end_time": "2022-03-27T01:53:19.671104",
     "exception": false,
     "start_time": "2022-03-27T01:53:19.060913",
     "status": "completed"
    },
    "tags": []
   },
   "outputs": [
    {
     "data": {
      "text/plain": [
       "<AxesSubplot:title={'center':'Source Train Label Loss vs Source Val Label Loss'}, xlabel='Epoch'>"
      ]
     },
     "execution_count": 16,
     "metadata": {},
     "output_type": "execute_result"
    },
    {
     "data": {
      "image/png": "[encoded data removed]",
      "text/plain": [
       "<Figure size 1080x504 with 1 Axes>"
      ]
     },
     "metadata": {
      "needs_background": "light"
     },
     "output_type": "display_data"
    }
   ],
   "source": [
    "get_loss_curve(experiment)"
   ]
  },
  {
   "cell_type": "code",
   "execution_count": 17,
   "id": "59376601",
   "metadata": {
    "execution": {
     "iopub.execute_input": "2022-03-27T01:53:19.843583Z",
     "iopub.status.busy": "2022-03-27T01:53:19.837014Z",
     "iopub.status.idle": "2022-03-27T01:53:20.179481Z",
     "shell.execute_reply": "2022-03-27T01:53:20.180224Z"
    },
    "papermill": {
     "duration": 0.437544,
     "end_time": "2022-03-27T01:53:20.180467",
     "exception": false,
     "start_time": "2022-03-27T01:53:19.742923",
     "status": "completed"
    },
    "tags": []
   },
   "outputs": [
    {
     "data": {
      "text/plain": [
       "<AxesSubplot:title={'center':'Results'}>"
      ]
     },
     "execution_count": 17,
     "metadata": {},
     "output_type": "execute_result"
    },
    {
     "data": {
      "image/png": "[encoded data removed]",
      "text/plain": [
       "<Figure size 1080x504 with 1 Axes>"
      ]
     },
     "metadata": {
      "needs_background": "light"
     },
     "output_type": "display_data"
    }
   ],
   "source": [
    "get_results_table(experiment)"
   ]
  },
  {
   "cell_type": "code",
   "execution_count": 18,
   "id": "e80c5c98",
   "metadata": {
    "execution": {
     "iopub.execute_input": "2022-03-27T01:53:20.349148Z",
     "iopub.status.busy": "2022-03-27T01:53:20.348331Z",
     "iopub.status.idle": "2022-03-27T01:53:20.642117Z",
     "shell.execute_reply": "2022-03-27T01:53:20.642810Z"
    },
    "papermill": {
     "duration": 0.385596,
     "end_time": "2022-03-27T01:53:20.643032",
     "exception": false,
     "start_time": "2022-03-27T01:53:20.257436",
     "status": "completed"
    },
    "tags": []
   },
   "outputs": [
    {
     "data": {
      "text/plain": [
       "<AxesSubplot:title={'center':'Per Domain Accuracy'}, xlabel='domain'>"
      ]
     },
     "execution_count": 18,
     "metadata": {},
     "output_type": "execute_result"
    },
    {
     "data": {
      "image/png": "[encoded data removed]",
      "text/plain": [
       "<Figure size 1080x504 with 1 Axes>"
      ]
     },
     "metadata": {
      "needs_background": "light"
     },
     "output_type": "display_data"
    }
   ],
   "source": [
    "get_domain_accuracies(experiment)"
   ]
  },
  {
   "cell_type": "code",
   "execution_count": 19,
   "id": "086fdd10",
   "metadata": {
    "execution": {
     "iopub.execute_input": "2022-03-27T01:53:20.792985Z",
     "iopub.status.busy": "2022-03-27T01:53:20.792612Z",
     "iopub.status.idle": "2022-03-27T01:53:20.796595Z",
     "shell.execute_reply": "2022-03-27T01:53:20.796225Z"
    },
    "papermill": {
     "duration": 0.079501,
     "end_time": "2022-03-27T01:53:20.796673",
     "exception": false,
     "start_time": "2022-03-27T01:53:20.717172",
     "status": "completed"
    },
    "tags": []
   },
   "outputs": [
    {
     "name": "stdout",
     "output_type": "stream",
     "text": [
      "Source Test Label Accuracy: 0.7809270833333334 Target Test Label Accuracy: 0.7809270833333334\n",
      "Source Val Label Accuracy: 0.7805104166666667 Target Val Label Accuracy: 0.7805104166666667\n"
     ]
    }
   ],
   "source": [
    "print(\"Source Test Label Accuracy:\", experiment[\"results\"][\"source_test_label_accuracy\"], \"Target Test Label Accuracy:\", experiment[\"results\"][\"target_test_label_accuracy\"])\n",
    "print(\"Source Val Label Accuracy:\", experiment[\"results\"][\"source_val_label_accuracy\"], \"Target Val Label Accuracy:\", experiment[\"results\"][\"target_val_label_accuracy\"])"
   ]
  },
  {
   "cell_type": "code",
   "execution_count": 20,
   "id": "9f450536",
   "metadata": {
    "execution": {
     "iopub.execute_input": "2022-03-27T01:53:20.948361Z",
     "iopub.status.busy": "2022-03-27T01:53:20.947987Z",
     "iopub.status.idle": "2022-03-27T01:53:20.951780Z",
     "shell.execute_reply": "2022-03-27T01:53:20.951377Z"
    },
    "papermill": {
     "duration": 0.079106,
     "end_time": "2022-03-27T01:53:20.951856",
     "exception": false,
     "start_time": "2022-03-27T01:53:20.872750",
     "status": "completed"
    },
    "tags": [
     "experiment_json"
    ]
   },
   "outputs": [
    {
     "data": {
      "text/plain": [
       "'{\"experiment_name\": \"cnn_2:oracle.run1\", \"parameters\": {\"experiment_name\": \"cnn_2:oracle.run1\", \"domains_source\": [8, 32, 50, 14, 20, 26, 38, 44], \"domains_target\": [8, 32, 50, 14, 20, 26, 38, 44], \"labels\": [\"3123D52\", \"3123D65\", \"3123D79\", \"3123D80\", \"3123D54\", \"3123D70\", \"3123D7B\", \"3123D89\", \"3123D58\", \"3123D76\", \"3123D7D\", \"3123EFE\", \"3123D64\", \"3123D78\", \"3123D7E\", \"3124E4A\"], \"pickle_name_source\": \"oracle.Run1_10kExamples_stratified_ds.2022A.pkl\", \"pickle_name_target\": \"oracle.Run1_10kExamples_stratified_ds.2022A.pkl\", \"device\": \"cuda\", \"lr\": 0.0001, \"batch_size\": 128, \"normalize_source\": false, \"normalize_target\": false, \"num_examples_per_domain_per_label_source\": -1, \"num_examples_per_domain_per_label_target\": -1, \"torch_default_dtype\": \"torch.float32\", \"n_epoch\": 50, \"patience\": 3, \"criteria_for_best\": \"target_accuracy\", \"x_net\": [{\"class\": \"nnReshape\", \"kargs\": {\"shape\": [-1, 1, 2, 256]}}, {\"class\": \"Conv2d\", \"kargs\": {\"in_channels\": 1, \"out_channels\": 256, \"kernel_size\": [1, 7], \"bias\": false, \"padding\": [0, 3]}}, {\"class\": \"ReLU\", \"kargs\": {\"inplace\": true}}, {\"class\": \"BatchNorm2d\", \"kargs\": {\"num_features\": 256}}, {\"class\": \"Conv2d\", \"kargs\": {\"in_channels\": 256, \"out_channels\": 80, \"kernel_size\": [2, 7], \"bias\": true, \"padding\": [0, 3]}}, {\"class\": \"ReLU\", \"kargs\": {\"inplace\": true}}, {\"class\": \"BatchNorm2d\", \"kargs\": {\"num_features\": 80}}, {\"class\": \"Flatten\", \"kargs\": {}}, {\"class\": \"Linear\", \"kargs\": {\"in_features\": 20480, \"out_features\": 256}}, {\"class\": \"ReLU\", \"kargs\": {\"inplace\": true}}, {\"class\": \"BatchNorm1d\", \"kargs\": {\"num_features\": 256}}, {\"class\": \"Linear\", \"kargs\": {\"in_features\": 256, \"out_features\": 16}}], \"NUM_LOGS_PER_EPOCH\": 10, \"BEST_MODEL_PATH\": \"./best_model.pth\", \"dataset_seed\": 1337, \"seed\": 1337}, \"results\": {\"source_test_label_accuracy\": 0.7809270833333334, \"source_test_label_loss\": 0.6685329228639603, \"target_test_label_accuracy\": 0.7809270833333334, \"target_test_label_loss\": 0.6685329251090686, \"source_val_label_accuracy\": 0.7805104166666667, \"source_val_label_loss\": 0.6534928193489711, \"target_val_label_accuracy\": 0.7805104166666667, \"target_val_label_loss\": 0.6534928175210952, \"total_epochs_trained\": 17, \"total_experiment_time_secs\": 1557.2399501800537, \"confusion\": {\"8\": {\"15\": {\"15\": 2582, \"3\": 18, \"12\": 340, \"4\": 2, \"8\": 34, \"5\": 8, \"1\": 6, \"0\": 10}, \"4\": {\"10\": 62, \"4\": 1654, \"6\": 742, \"7\": 46, \"14\": 288, \"1\": 74, \"13\": 20, \"11\": 70, \"8\": 44}, \"9\": {\"9\": 2996, \"12\": 2, \"6\": 2}, \"12\": {\"12\": 1646, \"4\": 196, \"15\": 906, \"8\": 198, \"10\": 14, \"14\": 34, \"3\": 6}, \"2\": {\"0\": 580, \"2\": 920, \"12\": 70, \"1\": 90, \"3\": 732, \"5\": 328, \"15\": 84, \"7\": 48, \"8\": 84, \"9\": 30, \"4\": 22, \"10\": 12}, \"0\": {\"0\": 2966, \"14\": 32, \"8\": 2}, \"1\": {\"1\": 2246, \"11\": 684, \"10\": 20, \"5\": 44, \"4\": 4, \"13\": 2}, \"7\": {\"6\": 1116, \"7\": 1716, \"11\": 6, \"13\": 74, \"4\": 74, \"8\": 12, \"10\": 2}, \"5\": {\"5\": 2590, \"10\": 164, \"1\": 232, \"13\": 6, \"4\": 4, \"11\": 4}, \"6\": {\"7\": 718, \"4\": 308, \"6\": 1850, \"11\": 22, \"1\": 12, \"8\": 40, \"13\": 26, \"10\": 24}, \"14\": {\"14\": 2520, \"4\": 258, \"8\": 30, \"10\": 14, \"11\": 122, \"1\": 34, \"6\": 22}, \"10\": {\"5\": 370, \"10\": 1784, \"13\": 610, \"1\": 178, \"11\": 6, \"6\": 30, \"14\": 4, \"4\": 18}, \"8\": {\"8\": 2976, \"11\": 20, \"7\": 2, \"6\": 2}, \"11\": {\"11\": 2648, \"1\": 302, \"8\": 42, \"5\": 4, \"14\": 4}, \"3\": {\"3\": 2582, \"4\": 68, \"0\": 156, \"2\": 112, \"10\": 56, \"8\": 14, \"12\": 2, \"15\": 8, \"14\": 2}, \"13\": {\"10\": 720, \"13\": 1950, \"6\": 94, \"7\": 84, \"1\": 76, \"5\": 62, \"4\": 4, \"15\": 10}}, \"20\": {\"5\": {\"5\": 2132, \"15\": 184, \"1\": 154, \"2\": 126, \"3\": 90, \"0\": 210, \"8\": 44, \"12\": 36, \"9\": 22, \"7\": 2}, \"6\": {\"6\": 2620, \"10\": 84, \"14\": 172, \"4\": 12, \"7\": 80, \"2\": 10, \"8\": 16, \"0\": 2, \"11\": 2, \"12\": 2}, \"2\": {\"2\": 806, \"12\": 384, \"7\": 1126, \"9\": 400, \"15\": 34, \"13\": 108, \"5\": 26, \"4\": 34, \"3\": 38, \"1\": 28, \"11\": 4, \"8\": 4, \"6\": 6, \"10\": 2}, \"0\": {\"0\": 2894, \"2\": 60, \"15\": 6, \"5\": 30, \"8\": 6, \"3\": 4}, \"4\": {\"4\": 2096, \"8\": 160, \"10\": 40, \"12\": 632, \"14\": 28, \"7\": 24, \"3\": 2, \"15\": 6, \"6\": 10, \"5\": 2}, \"13\": {\"13\": 2438, \"9\": 16, \"7\": 116, \"2\": 260, \"15\": 116, \"11\": 28, \"12\": 26}, \"12\": {\"12\": 1500, \"1\": 164, \"15\": 170, \"2\": 350, \"9\": 250, \"5\": 132, \"7\": 236, \"3\": 122, \"4\": 54, \"10\": 14, \"8\": 2, \"13\": 6}, \"9\": {\"1\": 186, \"2\": 512, \"9\": 1266, \"5\": 196, \"3\": 418, \"12\": 162, \"7\": 162, \"13\": 2, \"15\": 32, \"8\": 22, \"10\": 26, \"4\": 14, \"11\": 2}, \"8\": {\"8\": 2774, \"14\": 130, \"4\": 18, \"12\": 26, \"2\": 8, \"0\": 12, \"3\": 16, \"15\": 4, \"5\": 6, \"7\": 4, \"10\": 2}, \"7\": {\"2\": 156, \"7\": 2268, \"4\": 240, \"9\": 74, \"13\": 8, \"8\": 110, \"6\": 32, \"12\": 48, \"3\": 34, \"11\": 18, \"14\": 2, \"10\": 8, \"5\": 2}, \"14\": {\"14\": 2840, \"8\": 138, \"10\": 6, \"6\": 10, \"12\": 6}, \"1\": {\"3\": 178, \"5\": 980, \"15\": 284, \"9\": 158, \"0\": 10, \"1\": 1052, \"12\": 168, \"2\": 156, \"7\": 10, \"8\": 2, \"10\": 2}, \"15\": {\"15\": 1534, \"2\": 90, \"1\": 480, \"12\": 224, \"9\": 108, \"5\": 468, \"13\": 52, \"3\": 18, \"11\": 4, \"7\": 14, \"0\": 4, \"8\": 4}, \"10\": {\"10\": 2812, \"4\": 78, \"8\": 2, \"12\": 28, \"6\": 44, \"14\": 34, \"2\": 2}, \"11\": {\"11\": 2918, \"0\": 36, \"4\": 28, \"8\": 10, \"10\": 4, \"13\": 2, \"5\": 2}, \"3\": {\"2\": 484, \"12\": 140, \"3\": 1066, \"5\": 486, \"15\": 132, \"8\": 178, \"9\": 262, \"7\": 62, \"1\": 90, \"0\": 30, \"10\": 42, \"4\": 28}}, \"44\": {\"6\": {\"6\": 2200, \"13\": 702, \"9\": 94, \"7\": 4}, \"7\": {\"9\": 1280, \"7\": 1594, \"6\": 112, \"10\": 14}, \"8\": {\"8\": 2406, \"0\": 374, \"5\": 84, \"15\": 134, \"1\": 2}, \"12\": {\"8\": 16, \"12\": 2414, \"3\": 544, \"14\": 24, \"1\": 2}, \"13\": {\"13\": 2468, \"6\": 240, \"0\": 234, \"9\": 26, \"11\": 32}, \"1\": {\"1\": 2466, \"14\": 42, \"5\": 312, \"7\": 60, \"10\": 8, \"2\": 102, \"8\": 8, \"12\": 2}, \"9\": {\"9\": 2080, \"13\": 266, \"6\": 326, \"7\": 260, \"2\": 26, \"0\": 16, \"15\": 2, \"4\": 14, \"11\": 8, \"10\": 2}, \"0\": {\"0\": 2298, \"15\": 128, \"8\": 548, \"1\": 4, \"6\": 8, \"5\": 12, \"13\": 2}, \"2\": {\"2\": 2476, \"1\": 312, \"7\": 120, \"5\": 34, \"10\": 40, \"9\": 16, \"14\": 2}, \"4\": {\"4\": 2228, \"0\": 68, \"14\": 190, \"15\": 378, \"6\": 40, \"9\": 12, \"11\": 46, \"5\": 24, \"8\": 12, \"13\": 2}, \"10\": {\"10\": 2790, \"1\": 84, \"7\": 110, \"2\": 12, \"5\": 2, \"9\": 2}, \"5\": {\"5\": 2456, \"6\": 300, \"8\": 18, \"15\": 66, \"14\": 106, \"2\": 12, \"0\": 2, \"4\": 36, \"7\": 4}, \"11\": {\"11\": 2990, \"3\": 6, \"0\": 4}, \"15\": {\"5\": 224, \"15\": 2434, \"14\": 110, \"8\": 128, \"0\": 50, \"6\": 24, \"4\": 20, \"12\": 10}, \"14\": {\"14\": 2136, \"4\": 248, \"5\": 278, \"15\": 308, \"6\": 18, \"8\": 8, \"9\": 2, \"11\": 2}, \"3\": {\"3\": 2022, \"4\": 458, \"2\": 142, \"13\": 24, \"14\": 130, \"12\": 36, \"5\": 40, \"8\": 70, \"7\": 50, \"0\": 26, \"6\": 2}}, \"26\": {\"3\": {\"3\": 1582, \"7\": 1022, \"2\": 292, \"0\": 16, \"8\": 38, \"9\": 22, \"4\": 10, \"13\": 14, \"14\": 2, \"10\": 2}, \"8\": {\"8\": 1542, \"9\": 404, \"2\": 80, \"7\": 482, \"0\": 360, \"14\": 32, \"3\": 8, \"10\": 74, \"4\": 12, \"13\": 4, \"15\": 2}, \"4\": {\"4\": 2860, \"8\": 22, \"3\": 58, \"10\": 2, \"0\": 44, \"7\": 10, \"14\": 4}, \"13\": {\"13\": 2492, \"9\": 362, \"8\": 20, \"0\": 26, \"2\": 58, \"5\": 4, \"15\": 10, \"3\": 26, \"12\": 2}, \"5\": {\"5\": 2306, \"15\": 572, \"6\": 86, \"2\": 22, \"10\": 6, \"9\": 8}, \"14\": {\"14\": 2248, \"1\": 180, \"0\": 280, \"10\": 256, \"6\": 32, \"7\": 4}, \"0\": {\"10\": 678, \"0\": 1244, \"8\": 236, \"14\": 568, \"6\": 94, \"9\": 18, \"7\": 58, \"1\": 56, \"15\": 26, \"2\": 8, \"4\": 6, \"5\": 4, \"12\": 4}, \"11\": {\"11\": 2720, \"6\": 226, \"12\": 30, \"2\": 18, \"10\": 2, \"9\": 4}, \"10\": {\"0\": 600, \"14\": 482, \"10\": 1292, \"2\": 8, \"6\": 372, \"5\": 10, \"15\": 38, \"1\": 154, \"8\": 32, \"9\": 10, \"7\": 2}, \"6\": {\"6\": 2238, \"10\": 252, \"14\": 80, \"15\": 244, \"9\": 90, \"0\": 38, \"5\": 36, \"1\": 6, \"12\": 16}, \"15\": {\"15\": 1792, \"6\": 590, \"5\": 330, \"9\": 136, \"2\": 56, \"10\": 44, \"0\": 10, \"14\": 32, \"1\": 8, \"13\": 2}, \"12\": {\"12\": 3000}, \"1\": {\"1\": 2458, \"14\": 334, \"10\": 160, \"0\": 38, \"5\": 4, \"15\": 2, \"6\": 4}, \"2\": {\"8\": 144, \"2\": 1504, \"7\": 686, \"3\": 216, \"13\": 134, \"15\": 40, \"9\": 198, \"6\": 14, \"5\": 20, \"0\": 24, \"14\": 12, \"10\": 8}, \"7\": {\"7\": 1946, \"0\": 152, \"9\": 98, \"2\": 218, \"8\": 436, \"3\": 130, \"4\": 8, \"14\": 10, \"13\": 2}, \"9\": {\"9\": 2406, \"8\": 260, \"13\": 148, \"15\": 10, \"2\": 56, \"0\": 66, \"7\": 34, \"6\": 14, \"4\": 4, \"10\": 2}}, \"32\": {\"7\": {\"7\": 1752, \"14\": 412, \"0\": 190, \"5\": 504, \"8\": 12, \"1\": 82, \"12\": 36, \"2\": 6, \"3\": 6}, \"2\": {\"2\": 2534, \"4\": 316, \"14\": 86, \"6\": 14, \"0\": 24, \"3\": 20, \"7\": 4, \"11\": 2}, \"4\": {\"4\": 2118, \"2\": 620, \"3\": 170, \"14\": 36, \"13\": 50, \"0\": 6}, \"0\": {\"0\": 2582, \"5\": 104, \"2\": 8, \"8\": 104, \"7\": 96, \"14\": 90, \"9\": 4, \"1\": 2, \"12\": 6, \"11\": 4}, \"12\": {\"12\": 2924, \"0\": 36, \"10\": 12, \"11\": 10, \"9\": 4, \"2\": 12, \"6\": 2}, \"8\": {\"0\": 660, \"8\": 2056, \"3\": 36, \"5\": 150, \"2\": 16, \"13\": 2, \"1\": 50, \"7\": 10, \"14\": 14, \"4\": 6}, \"11\": {\"11\": 2834, \"3\": 20, \"13\": 136, \"14\": 2, \"4\": 4, \"12\": 2, \"15\": 2}, \"3\": {\"3\": 2146, \"12\": 692, \"13\": 152, \"8\": 4, \"14\": 2, \"11\": 4}, \"9\": {\"9\": 1986, \"14\": 614, \"1\": 198, \"6\": 54, \"2\": 144, \"12\": 2, \"11\": 2}, \"5\": {\"14\": 56, \"7\": 484, \"5\": 1514, \"1\": 546, \"8\": 104, \"0\": 212, \"2\": 28, \"4\": 8, \"12\": 28, \"3\": 18, \"9\": 2}, \"10\": {\"10\": 3000}, \"13\": {\"4\": 602, \"13\": 1748, \"12\": 40, \"3\": 570, \"11\": 24, \"8\": 4, \"14\": 10, \"2\": 2}, \"1\": {\"1\": 2958, \"8\": 40, \"3\": 2}, \"14\": {\"14\": 2332, \"7\": 304, \"0\": 200, \"3\": 36, \"5\": 40, \"1\": 16, \"2\": 52, \"6\": 2, \"8\": 10, \"12\": 8}, \"6\": {\"6\": 2990, \"11\": 10}, \"15\": {\"15\": 2928, \"8\": 32, \"2\": 34, \"6\": 2, \"1\": 2, \"7\": 2}}, \"38\": {\"1\": {\"1\": 2800, \"9\": 34, \"2\": 88, \"0\": 74, \"14\": 2, \"6\": 2}, \"0\": {\"0\": 2400, \"10\": 106, \"4\": 266, \"11\": 72, \"13\": 122, \"7\": 6, \"3\": 26, \"8\": 2}, \"4\": {\"4\": 2990, \"10\": 10}, \"8\": {\"5\": 966, \"8\": 940, \"11\": 122, \"15\": 466, \"4\": 336, \"1\": 48, \"14\": 48, \"6\": 24, \"0\": 8, \"7\": 34, \"13\": 4, \"9\": 4}, \"3\": {\"3\": 2998, \"11\": 2}, \"5\": {\"5\": 1836, \"8\": 308, \"7\": 76, \"14\": 74, \"1\": 46, \"0\": 18, \"15\": 180, \"11\": 258, \"9\": 168, \"4\": 34, \"6\": 2}, \"12\": {\"12\": 2978, \"5\": 4, \"14\": 6, \"13\": 6, \"15\": 4, \"6\": 2}, \"7\": {\"7\": 2506, \"5\": 32, \"0\": 202, \"4\": 154, \"8\": 82, \"9\": 18, \"13\": 4, \"15\": 2}, \"13\": {\"10\": 438, \"13\": 2514, \"4\": 30, \"2\": 6, \"7\": 8, \"0\": 4}, \"2\": {\"5\": 182, \"2\": 2618, \"14\": 70, \"7\": 118, \"13\": 8, \"4\": 4}, \"9\": {\"9\": 2888, \"12\": 64, \"14\": 10, \"11\": 2, \"5\": 30, \"7\": 2, \"8\": 4}, \"11\": {\"11\": 2998, \"3\": 2}, \"14\": {\"7\": 176, \"14\": 2644, \"5\": 60, \"2\": 108, \"10\": 6, \"4\": 6}, \"15\": {\"5\": 164, \"15\": 2094, \"6\": 22, \"1\": 466, \"0\": 58, \"13\": 138, \"10\": 10, \"8\": 36, \"11\": 12}, \"10\": {\"10\": 2912, \"11\": 8, \"13\": 54, \"0\": 24, \"4\": 2}, \"6\": {\"6\": 2686, \"1\": 124, \"14\": 94, \"2\": 28, \"9\": 66, \"0\": 2}}, \"14\": {\"6\": {\"6\": 1680, \"14\": 214, \"3\": 80, \"13\": 936, \"2\": 84, \"7\": 4, \"4\": 2}, \"10\": {\"10\": 2632, \"2\": 78, \"3\": 234, \"0\": 18, \"7\": 2, \"4\": 12, \"8\": 16, \"9\": 2, \"11\": 2, \"14\": 2, \"5\": 2}, \"4\": {\"4\": 2614, \"2\": 146, \"5\": 158, \"11\": 52, \"10\": 14, \"13\": 4, \"7\": 6, \"14\": 4, \"3\": 2}, \"1\": {\"1\": 2908, \"7\": 32, \"11\": 20, \"4\": 32, \"2\": 8}, \"3\": {\"3\": 2800, \"0\": 114, \"2\": 40, \"14\": 22, \"13\": 8, \"7\": 12, \"6\": 4}, \"11\": {\"11\": 2906, \"0\": 8, \"7\": 58, \"10\": 4, \"8\": 2, \"13\": 10, \"6\": 8, \"2\": 2, \"4\": 2}, \"13\": {\"13\": 1470, \"14\": 578, \"6\": 678, \"2\": 142, \"4\": 18, \"15\": 50, \"3\": 32, \"7\": 14, \"10\": 18}, \"5\": {\"5\": 2452, \"2\": 274, \"4\": 154, \"3\": 52, \"11\": 14, \"7\": 42, \"13\": 6, \"14\": 4, \"0\": 2}, \"2\": {\"2\": 1956, \"13\": 104, \"5\": 132, \"3\": 110, \"6\": 150, \"14\": 500, \"4\": 38, \"10\": 6, \"0\": 2, \"7\": 2}, \"12\": {\"12\": 2996, \"0\": 4}, \"15\": {\"15\": 2972, \"11\": 8, \"13\": 18, \"5\": 2}, \"8\": {\"8\": 2976, \"11\": 14, \"13\": 10}, \"7\": {\"7\": 2932, \"5\": 60, \"2\": 8}, \"0\": {\"0\": 2672, \"9\": 50, \"14\": 4, \"13\": 70, \"3\": 134, \"8\": 6, \"4\": 40, \"11\": 4, \"10\": 10, \"2\": 10}, \"9\": {\"9\": 2858, \"5\": 4, \"0\": 82, \"13\": 24, \"12\": 6, \"15\": 8, \"11\": 10, \"1\": 6, \"8\": 2}, \"14\": {\"14\": 2712, \"13\": 122, \"2\": 54, \"6\": 62, \"4\": 16, \"3\": 30, \"0\": 4}}, \"50\": {\"10\": {\"10\": 2784, \"8\": 56, \"0\": 156, \"1\": 4}, \"5\": {\"5\": 2094, \"2\": 246, \"6\": 118, \"4\": 154, \"7\": 98, \"15\": 110, \"14\": 96, \"8\": 42, \"13\": 40, \"10\": 2}, \"13\": {\"13\": 2768, \"15\": 96, \"8\": 18, \"5\": 30, \"6\": 44, \"1\": 22, \"0\": 12, \"12\": 6, \"10\": 4}, \"7\": {\"7\": 1966, \"14\": 204, \"5\": 352, \"2\": 326, \"4\": 82, \"13\": 68, \"10\": 2}, \"6\": {\"6\": 1864, \"5\": 872, \"15\": 144, \"14\": 80, \"4\": 22, \"8\": 16, \"13\": 2}, \"0\": {\"0\": 2412, \"10\": 240, \"13\": 2, \"2\": 272, \"15\": 2, \"1\": 62, \"12\": 8, \"9\": 2}, \"4\": {\"4\": 2054, \"7\": 144, \"0\": 218, \"5\": 252, \"6\": 4, \"13\": 198, \"8\": 24, \"14\": 42, \"10\": 36, \"2\": 14, \"15\": 14}, \"1\": {\"1\": 2708, \"13\": 22, \"6\": 4, \"15\": 240, \"0\": 8, \"5\": 4, \"8\": 6, \"11\": 8}, \"14\": {\"14\": 2436, \"9\": 502, \"2\": 54, \"6\": 8}, \"3\": {\"3\": 2996, \"2\": 4}, \"2\": {\"2\": 2614, \"0\": 272, \"1\": 62, \"9\": 48, \"11\": 2, \"12\": 2}, \"15\": {\"14\": 340, \"5\": 280, \"15\": 1694, \"4\": 238, \"6\": 198, \"8\": 218, \"11\": 22, \"7\": 6, \"9\": 4}, \"12\": {\"12\": 2712, \"9\": 248, \"5\": 6, \"11\": 24, \"15\": 2, \"14\": 8}, \"9\": {\"9\": 2724, \"11\": 166, \"12\": 70, \"5\": 20, \"7\": 6, \"14\": 6, \"4\": 2, \"8\": 4, \"15\": 2}, \"8\": {\"8\": 2932, \"3\": 4, \"1\": 26, \"10\": 34, \"0\": 2, \"13\": 2}, \"11\": {\"11\": 2488, \"9\": 180, \"14\": 48, \"5\": 148, \"4\": 8, \"12\": 26, \"1\": 4, \"15\": 52, \"8\": 46}}}, \"per_domain_accuracy\": {\"8\": {\"accuracy\": 0.7422083333333334, \"source?\": true}, \"20\": {\"accuracy\": 0.6878333333333333, \"source?\": true}, \"44\": {\"accuracy\": 0.780375, \"source?\": true}, \"26\": {\"accuracy\": 0.700625, \"source?\": true}, \"32\": {\"accuracy\": 0.8000416666666667, \"source?\": true}, \"38\": {\"accuracy\": 0.8500416666666667, \"source?\": true}, \"14\": {\"accuracy\": 0.8653333333333333, \"source?\": true}, \"50\": {\"accuracy\": 0.817625, \"source?\": true}}}, \"history\": {\"epoch_indices\": [1, 2, 3, 4, 5, 6, 7, 8, 9, 10, 11, 12, 13, 14, 15, 16, 17], \"train_label_loss\": [1.9902685017074857, 1.1515555020911352, 0.876054157929761, 0.7211759059131145, 0.6188214998032365, 0.5446786800367491, 0.4869217669750963, 0.4371365966924599, 0.3992350857726165, 0.36116874964535234, 0.3307374322989157, 0.30456262603295703, 0.283472770763295, 0.2631625501736999, 0.2469926345114197, 0.23312085887789727, 0.21920273237356117], \"source_val_label_loss\": [1.265274616797765, 0.8803541241486867, 0.7431386818091075, 0.7008828619718551, 0.7302738084197045, 0.6498928565382958, 0.6367074721654257, 0.6524898977478345, 0.6321972558895746, 0.827823584874471, 0.6203764578501384, 0.6754995743234953, 0.6534928193688393, 0.7095145856539409, 0.8755442556738854, 0.8862573735117912, 0.7445859381159147], \"target_val_label_loss\": [1.2652746193408966, 0.8803541199763616, 0.7431386807759602, 0.7008828607797623, 0.7302738061348597, 0.6498928567965825, 0.6367074728210768, 0.6524898995359739, 0.6321972559094429, 0.8278235870599747, 0.6203764597773552, 0.6754995786945025, 0.6534928193092346, 0.7095145869255066, 0.8755442528724671, 0.8862573758363724, 0.7445859347184499], \"source_val_acc_label\": [0.574359375, 0.7027083333333334, 0.735953125, 0.7464166666666666, 0.7328125, 0.7594895833333334, 0.7690364583333333, 0.7628854166666666, 0.77140625, 0.7220364583333333, 0.777796875, 0.7648125, 0.7805104166666667, 0.7644427083333334, 0.7377447916666666, 0.7326302083333334, 0.7660729166666667], \"target_val_acc_label\": [0.574359375, 0.7027083333333334, 0.735953125, 0.7464166666666666, 0.7328125, 0.7594895833333334, 0.7690364583333333, 0.7628854166666666, 0.77140625, 0.7220364583333333, 0.777796875, 0.7648125, 0.7805104166666667, 0.7644427083333334, 0.7377447916666666, 0.7326302083333334, 0.7660729166666667]}, \"dataset_metrics\": {\"source\": {\"train\": {\"n_unique_x\": 896000, \"n_unique_y\": 16, \"n_batch/episode\": 7000}, \"val\": {\"n_unique_x\": 192000, \"n_unique_y\": 16, \"n_batch/episode\": 1500}, \"test\": {\"n_unique_x\": 192000, \"n_unique_y\": 16, \"n_batch/episode\": 1500}}, \"target\": {\"train\": {\"n_unique_x\": 896000, \"n_unique_y\": 16, \"n_batch/episode\": 7000}, \"val\": {\"n_unique_x\": 192000, \"n_unique_y\": 16, \"n_batch/episode\": 1500}, \"test\": {\"n_unique_x\": 192000, \"n_unique_y\": 16, \"n_batch/episode\": 1500}}}}'"
      ]
     },
     "execution_count": 20,
     "metadata": {},
     "output_type": "execute_result"
    }
   ],
   "source": [
    "json.dumps(experiment)"
   ]
  }
 ],
 "metadata": {
  "celltoolbar": "Tags",
  "kernelspec": {
   "display_name": "Python 3 (ipykernel)",
   "language": "python",
   "name": "python3"
  },
  "language_info": {
   "codemirror_mode": {
    "name": "ipython",
    "version": 3
   },
   "file_extension": ".py",
   "mimetype": "text/x-python",
   "name": "python",
   "nbconvert_exporter": "python",
   "pygments_lexer": "ipython3",
   "version": "3.8.12"
  },
  "papermill": {
   "default_parameters": {},
   "duration": 1681.21288,
   "end_time": "2022-03-27T01:53:24.767437",
   "environment_variables": {},
   "exception": null,
   "input_path": "/root/csc500-main/csc500-notebooks/templates/cnn_template.ipynb",
   "output_path": "trial.ipynb",
   "parameters": {
    "parameters": {
     "BEST_MODEL_PATH": "./best_model.pth",
     "NUM_LOGS_PER_EPOCH": 10,
     "batch_size": 128,
     "criteria_for_best": "target_accuracy",
     "dataset_seed": 1337,
     "device": "cuda",
     "domains_source": [
      8,
      32,
      50,
      14,
      20,
      26,
      38,
      44
     ],
     "domains_target": [
      8,
      32,
      50,
      14,
      20,
      26,
      38,
      44
     ],
     "experiment_name": "cnn_2:oracle.run1",
     "labels": [
      "3123D52",
      "3123D65",
      "3123D79",
      "3123D80",
      "3123D54",
      "3123D70",
      "3123D7B",
      "3123D89",
      "3123D58",
      "3123D76",
      "3123D7D",
      "3123EFE",
      "3123D64",
      "3123D78",
      "3123D7E",
      "3124E4A"
     ],
     "lr": 0.0001,
     "n_epoch": 50,
     "normalize_source": false,
     "normalize_target": false,
     "num_examples_per_domain_per_label_source": -1,
     "num_examples_per_domain_per_label_target": -1,
     "patience": 3,
     "pickle_name_source": "oracle.Run1_10kExamples_stratified_ds.2022A.pkl",
     "pickle_name_target": "oracle.Run1_10kExamples_stratified_ds.2022A.pkl",
     "seed": 1337,
     "torch_default_dtype": "torch.float32",
     "x_net": [
      {
       "class": "nnReshape",
       "kargs": {
        "shape": [
         -1,
         1,
         2,
         256
        ]
       }
      },
      {
       "class": "Conv2d",
       "kargs": {
        "bias": false,
        "in_channels": 1,
        "kernel_size": [
         1,
         7
        ],
        "out_channels": 256,
        "padding": [
         0,
         3
        ]
       }
      },
      {
       "class": "ReLU",
       "kargs": {
        "inplace": true
       }
      },
      {
       "class": "BatchNorm2d",
       "kargs": {
        "num_features": 256
       }
      },
      {
       "class": "Conv2d",
       "kargs": {
        "bias": true,
        "in_channels": 256,
        "kernel_size": [
         2,
         7
        ],
        "out_channels": 80,
        "padding": [
         0,
         3
        ]
       }
      },
      {
       "class": "ReLU",
       "kargs": {
        "inplace": true
       }
      },
      {
       "class": "BatchNorm2d",
       "kargs": {
        "num_features": 80
       }
      },
      {
       "class": "Flatten",
       "kargs": {}
      },
      {
       "class": "Linear",
       "kargs": {
        "in_features": 20480,
        "out_features": 256
       }
      },
      {
       "class": "ReLU",
       "kargs": {
        "inplace": true
       }
      },
      {
       "class": "BatchNorm1d",
       "kargs": {
        "num_features": 256
       }
      },
      {
       "class": "Linear",
       "kargs": {
        "in_features": 256,
        "out_features": 16
       }
      }
     ]
    }
   },
   "start_time": "2022-03-27T01:25:23.554557",
   "version": "2.3.4"
  }
 },
 "nbformat": 4,
 "nbformat_minor": 5
}