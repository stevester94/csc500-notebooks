{
 "cells": [
  {
   "cell_type": "code",
   "execution_count": 1,
   "id": "2324682e",
   "metadata": {
    "execution": {
     "iopub.execute_input": "2022-03-26T23:46:55.154317Z",
     "iopub.status.busy": "2022-03-26T23:46:55.147958Z",
     "iopub.status.idle": "2022-03-26T23:46:56.803035Z",
     "shell.execute_reply": "2022-03-26T23:46:56.802374Z"
    },
    "papermill": {
     "duration": 1.697639,
     "end_time": "2022-03-26T23:46:56.803216",
     "exception": false,
     "start_time": "2022-03-26T23:46:55.105577",
     "status": "completed"
    },
    "tags": []
   },
   "outputs": [],
   "source": [
    "import os, json, sys, time, random\n",
    "import numpy as np\n",
    "import torch\n",
    "from  easydict import EasyDict\n",
    "from math import floor\n",
    "from easydict import EasyDict\n",
    "\n",
    "from steves_utils.vanilla_train_eval_test_jig import  Vanilla_Train_Eval_Test_Jig\n",
    "\n",
    "from steves_utils.torch_utils import get_dataset_metrics, independent_accuracy_assesment\n",
    "from steves_models.configurable_vanilla import Configurable_Vanilla\n",
    "from steves_utils.torch_sequential_builder import build_sequential\n",
    "from steves_utils.lazy_map import Lazy_Map\n",
    "from steves_utils.sequence_aggregator import Sequence_Aggregator\n",
    "\n",
    "from steves_utils.stratified_dataset.traditional_accessor import Traditional_Accessor_Factory\n",
    "\n",
    "from steves_utils.cnn_do_report import (\n",
    "    get_loss_curve,\n",
    "    get_results_table,\n",
    "    get_parameters_table,\n",
    "    get_domain_accuracies,\n",
    ")\n",
    "\n",
    "from steves_utils.torch_utils import (\n",
    "    confusion_by_domain_over_dataloader,\n",
    "    independent_accuracy_assesment\n",
    ")\n",
    "\n",
    "from steves_utils.utils_v2 import (\n",
    "    per_domain_accuracy_from_confusion,\n",
    "    get_datasets_base_path\n",
    ")\n",
    "\n",
    "# from steves_utils.ptn_do_report import TBD"
   ]
  },
  {
   "cell_type": "code",
   "execution_count": 2,
   "id": "1b29e3fe",
   "metadata": {
    "execution": {
     "iopub.execute_input": "2022-03-26T23:46:56.856680Z",
     "iopub.status.busy": "2022-03-26T23:46:56.856291Z",
     "iopub.status.idle": "2022-03-26T23:46:56.859545Z",
     "shell.execute_reply": "2022-03-26T23:46:56.858985Z"
    },
    "papermill": {
     "duration": 0.035301,
     "end_time": "2022-03-26T23:46:56.859683",
     "exception": false,
     "start_time": "2022-03-26T23:46:56.824382",
     "status": "completed"
    },
    "tags": []
   },
   "outputs": [],
   "source": [
    "required_parameters = {\n",
    "    \"experiment_name\",\n",
    "    \"lr\",\n",
    "    \"device\",\n",
    "    \"dataset_seed\",\n",
    "    \"seed\",\n",
    "    \"labels\",\n",
    "    \"domains_target\",\n",
    "    \"domains_source\",\n",
    "    \"num_examples_per_domain_per_label_source\",\n",
    "    \"num_examples_per_domain_per_label_target\",\n",
    "    \"batch_size\",\n",
    "    \"n_epoch\",\n",
    "    \"patience\",\n",
    "    \"criteria_for_best\",\n",
    "    \"normalize_source\",\n",
    "    \"normalize_target\",\n",
    "    \"x_net\",\n",
    "    \"NUM_LOGS_PER_EPOCH\",\n",
    "    \"BEST_MODEL_PATH\",\n",
    "    \"pickle_name_source\",\n",
    "    \"pickle_name_target\",\n",
    "    \"torch_default_dtype\",\n",
    "}"
   ]
  },
  {
   "cell_type": "code",
   "execution_count": 3,
   "id": "670b5fb8",
   "metadata": {
    "execution": {
     "iopub.execute_input": "2022-03-26T23:46:56.897776Z",
     "iopub.status.busy": "2022-03-26T23:46:56.892382Z",
     "iopub.status.idle": "2022-03-26T23:46:56.909535Z",
     "shell.execute_reply": "2022-03-26T23:46:56.908813Z"
    },
    "papermill": {
     "duration": 0.032809,
     "end_time": "2022-03-26T23:46:56.909720",
     "exception": false,
     "start_time": "2022-03-26T23:46:56.876911",
     "status": "completed"
    },
    "tags": [
     "parameters"
    ]
   },
   "outputs": [],
   "source": [
    "from steves_utils.ORACLE.utils_v2 import (\n",
    "    ALL_SERIAL_NUMBERS,\n",
    "    ALL_DISTANCES_FEET_NARROWED,\n",
    ")\n",
    "\n",
    "standalone_parameters = {}\n",
    "standalone_parameters[\"experiment_name\"] = \"MANUAL CORES CNN\"\n",
    "standalone_parameters[\"lr\"] = 0.0001\n",
    "standalone_parameters[\"device\"] = \"cuda\"\n",
    "\n",
    "standalone_parameters[\"dataset_seed\"] = 1337\n",
    "standalone_parameters[\"seed\"] = 1337\n",
    "standalone_parameters[\"labels\"] = ALL_SERIAL_NUMBERS\n",
    "\n",
    "standalone_parameters[\"domains_source\"] = [8,32,50]\n",
    "standalone_parameters[\"domains_target\"] = [14,20,26,38,44,]\n",
    "\n",
    "standalone_parameters[\"num_examples_per_domain_per_label_source\"]=-1\n",
    "standalone_parameters[\"num_examples_per_domain_per_label_target\"]=-1\n",
    "\n",
    "standalone_parameters[\"pickle_name_source\"] = \"oracle.Run1_framed_2000Examples_stratified_ds.2022A.pkl\"\n",
    "standalone_parameters[\"pickle_name_target\"] = \"oracle.Run2_framed_2000Examples_stratified_ds.2022A.pkl\"\n",
    "\n",
    "standalone_parameters[\"torch_default_dtype\"] = \"torch.float32\" \n",
    "\n",
    "standalone_parameters[\"batch_size\"]=128\n",
    "\n",
    "standalone_parameters[\"n_epoch\"] = 3\n",
    "\n",
    "standalone_parameters[\"patience\"] = 10\n",
    "\n",
    "standalone_parameters[\"criteria_for_best\"] = \"target_accuracy\"\n",
    "standalone_parameters[\"normalize_source\"] = False\n",
    "standalone_parameters[\"normalize_target\"] = False\n",
    "\n",
    "standalone_parameters[\"x_net\"] =     [\n",
    "    {\"class\": \"nnReshape\", \"kargs\": {\"shape\":[-1, 1, 2, 256]}},\n",
    "    {\"class\": \"Conv2d\", \"kargs\": { \"in_channels\":1, \"out_channels\":256, \"kernel_size\":(1,7), \"bias\":False, \"padding\":(0,3), },},\n",
    "    {\"class\": \"ReLU\", \"kargs\": {\"inplace\": True}},\n",
    "    {\"class\": \"BatchNorm2d\", \"kargs\": {\"num_features\":256}},\n",
    "\n",
    "    {\"class\": \"Conv2d\", \"kargs\": { \"in_channels\":256, \"out_channels\":80, \"kernel_size\":(2,7), \"bias\":True, \"padding\":(0,3), },},\n",
    "    {\"class\": \"ReLU\", \"kargs\": {\"inplace\": True}},\n",
    "    {\"class\": \"BatchNorm2d\", \"kargs\": {\"num_features\":80}},\n",
    "    {\"class\": \"Flatten\", \"kargs\": {}},\n",
    "\n",
    "    {\"class\": \"Linear\", \"kargs\": {\"in_features\": 80*256, \"out_features\": 256}}, # 80 units per IQ pair\n",
    "    {\"class\": \"ReLU\", \"kargs\": {\"inplace\": True}},\n",
    "    {\"class\": \"BatchNorm1d\", \"kargs\": {\"num_features\":256}},\n",
    "\n",
    "    {\"class\": \"Linear\", \"kargs\": {\"in_features\": 256, \"out_features\": len(standalone_parameters[\"labels\"])}},\n",
    "]\n",
    "\n",
    "standalone_parameters[\"NUM_LOGS_PER_EPOCH\"] = 10\n",
    "standalone_parameters[\"BEST_MODEL_PATH\"] = \"./best_model.pth\""
   ]
  },
  {
   "cell_type": "code",
   "execution_count": 4,
   "id": "61294990",
   "metadata": {
    "execution": {
     "iopub.execute_input": "2022-03-26T23:46:56.963553Z",
     "iopub.status.busy": "2022-03-26T23:46:56.962621Z",
     "iopub.status.idle": "2022-03-26T23:46:56.966161Z",
     "shell.execute_reply": "2022-03-26T23:46:56.965199Z"
    },
    "papermill": {
     "duration": 0.036497,
     "end_time": "2022-03-26T23:46:56.966343",
     "exception": false,
     "start_time": "2022-03-26T23:46:56.929846",
     "status": "completed"
    },
    "tags": [
     "injected-parameters"
    ]
   },
   "outputs": [],
   "source": [
    "# Parameters\n",
    "parameters = {\n",
    "    \"experiment_name\": \"cnn_2:oracle.run1\",\n",
    "    \"domains_source\": [8, 32, 50, 14, 20, 26, 38, 44],\n",
    "    \"domains_target\": [8, 32, 50, 14, 20, 26, 38, 44],\n",
    "    \"labels\": [\n",
    "        \"3123D52\",\n",
    "        \"3123D65\",\n",
    "        \"3123D79\",\n",
    "        \"3123D80\",\n",
    "        \"3123D54\",\n",
    "        \"3123D70\",\n",
    "        \"3123D7B\",\n",
    "        \"3123D89\",\n",
    "        \"3123D58\",\n",
    "        \"3123D76\",\n",
    "        \"3123D7D\",\n",
    "        \"3123EFE\",\n",
    "        \"3123D64\",\n",
    "        \"3123D78\",\n",
    "        \"3123D7E\",\n",
    "        \"3124E4A\",\n",
    "    ],\n",
    "    \"pickle_name_source\": \"oracle.Run1_10kExamples_stratified_ds.2022A.pkl\",\n",
    "    \"pickle_name_target\": \"oracle.Run1_10kExamples_stratified_ds.2022A.pkl\",\n",
    "    \"device\": \"cuda\",\n",
    "    \"lr\": 0.0001,\n",
    "    \"batch_size\": 128,\n",
    "    \"normalize_source\": False,\n",
    "    \"normalize_target\": False,\n",
    "    \"num_examples_per_domain_per_label_source\": -1,\n",
    "    \"num_examples_per_domain_per_label_target\": -1,\n",
    "    \"torch_default_dtype\": \"torch.float32\",\n",
    "    \"n_epoch\": 50,\n",
    "    \"patience\": 3,\n",
    "    \"criteria_for_best\": \"target_accuracy\",\n",
    "    \"x_net\": [\n",
    "        {\"class\": \"nnReshape\", \"kargs\": {\"shape\": [-1, 1, 2, 256]}},\n",
    "        {\n",
    "            \"class\": \"Conv2d\",\n",
    "            \"kargs\": {\n",
    "                \"in_channels\": 1,\n",
    "                \"out_channels\": 256,\n",
    "                \"kernel_size\": [1, 7],\n",
    "                \"bias\": False,\n",
    "                \"padding\": [0, 3],\n",
    "            },\n",
    "        },\n",
    "        {\"class\": \"ReLU\", \"kargs\": {\"inplace\": True}},\n",
    "        {\"class\": \"BatchNorm2d\", \"kargs\": {\"num_features\": 256}},\n",
    "        {\n",
    "            \"class\": \"Conv2d\",\n",
    "            \"kargs\": {\n",
    "                \"in_channels\": 256,\n",
    "                \"out_channels\": 80,\n",
    "                \"kernel_size\": [2, 7],\n",
    "                \"bias\": True,\n",
    "                \"padding\": [0, 3],\n",
    "            },\n",
    "        },\n",
    "        {\"class\": \"ReLU\", \"kargs\": {\"inplace\": True}},\n",
    "        {\"class\": \"BatchNorm2d\", \"kargs\": {\"num_features\": 80}},\n",
    "        {\"class\": \"Flatten\", \"kargs\": {}},\n",
    "        {\"class\": \"Linear\", \"kargs\": {\"in_features\": 20480, \"out_features\": 256}},\n",
    "        {\"class\": \"ReLU\", \"kargs\": {\"inplace\": True}},\n",
    "        {\"class\": \"BatchNorm1d\", \"kargs\": {\"num_features\": 256}},\n",
    "        {\"class\": \"Linear\", \"kargs\": {\"in_features\": 256, \"out_features\": 16}},\n",
    "    ],\n",
    "    \"NUM_LOGS_PER_EPOCH\": 10,\n",
    "    \"BEST_MODEL_PATH\": \"./best_model.pth\",\n",
    "    \"dataset_seed\": 500,\n",
    "    \"seed\": 500,\n",
    "}\n"
   ]
  },
  {
   "cell_type": "code",
   "execution_count": 5,
   "id": "759b56ec",
   "metadata": {
    "execution": {
     "iopub.execute_input": "2022-03-26T23:46:57.008022Z",
     "iopub.status.busy": "2022-03-26T23:46:57.007638Z",
     "iopub.status.idle": "2022-03-26T23:46:57.010547Z",
     "shell.execute_reply": "2022-03-26T23:46:57.010180Z"
    },
    "papermill": {
     "duration": 0.022463,
     "end_time": "2022-03-26T23:46:57.010618",
     "exception": false,
     "start_time": "2022-03-26T23:46:56.988155",
     "status": "completed"
    },
    "tags": []
   },
   "outputs": [],
   "source": [
    "# Set this to True if you want to run this template directly\n",
    "STANDALONE = False\n",
    "if STANDALONE:\n",
    "    print(\"parameters not injected, running with standalone_parameters\")\n",
    "    parameters = standalone_parameters\n",
    "\n",
    "if not 'parameters' in locals() and not 'parameters' in globals():\n",
    "    raise Exception(\"Parameter injection failed\")\n",
    "\n",
    "#Use an easy dict for all the parameters\n",
    "p = EasyDict(parameters)\n",
    "\n",
    "supplied_keys = set(p.keys())\n",
    "\n",
    "if  supplied_keys != required_parameters:\n",
    "    print(\"Parameters are incorrect\")\n",
    "    if len(supplied_keys - required_parameters)>0: print(\"Shouldn't have:\", str(supplied_keys - required_parameters))\n",
    "    if len(required_parameters - supplied_keys)>0: print(\"Need to have:\", str(required_parameters - supplied_keys))\n",
    "    raise RuntimeError(\"Parameters are incorrect\")\n",
    "\n"
   ]
  },
  {
   "cell_type": "code",
   "execution_count": 6,
   "id": "d5c66a71",
   "metadata": {
    "execution": {
     "iopub.execute_input": "2022-03-26T23:46:57.046045Z",
     "iopub.status.busy": "2022-03-26T23:46:57.045675Z",
     "iopub.status.idle": "2022-03-26T23:46:57.049205Z",
     "shell.execute_reply": "2022-03-26T23:46:57.049662Z"
    },
    "papermill": {
     "duration": 0.021312,
     "end_time": "2022-03-26T23:46:57.049792",
     "exception": false,
     "start_time": "2022-03-26T23:46:57.028480",
     "status": "completed"
    },
    "tags": []
   },
   "outputs": [],
   "source": [
    "###################################\n",
    "# Set the RNGs and make it all deterministic\n",
    "###################################\n",
    "np.random.seed(p.seed)\n",
    "random.seed(p.seed)\n",
    "torch.manual_seed(p.seed)\n",
    "\n",
    "torch.use_deterministic_algorithms(True) "
   ]
  },
  {
   "cell_type": "code",
   "execution_count": 7,
   "id": "92a65876",
   "metadata": {
    "execution": {
     "iopub.execute_input": "2022-03-26T23:46:57.085438Z",
     "iopub.status.busy": "2022-03-26T23:46:57.085076Z",
     "iopub.status.idle": "2022-03-26T23:46:57.087782Z",
     "shell.execute_reply": "2022-03-26T23:46:57.087451Z"
    },
    "papermill": {
     "duration": 0.020557,
     "end_time": "2022-03-26T23:46:57.087852",
     "exception": false,
     "start_time": "2022-03-26T23:46:57.067295",
     "status": "completed"
    },
    "tags": []
   },
   "outputs": [],
   "source": [
    "torch.set_default_dtype(eval(p.torch_default_dtype))"
   ]
  },
  {
   "cell_type": "code",
   "execution_count": 8,
   "id": "f1a32f01",
   "metadata": {
    "execution": {
     "iopub.execute_input": "2022-03-26T23:46:57.124550Z",
     "iopub.status.busy": "2022-03-26T23:46:57.124183Z",
     "iopub.status.idle": "2022-03-26T23:46:57.164908Z",
     "shell.execute_reply": "2022-03-26T23:46:57.164209Z"
    },
    "papermill": {
     "duration": 0.0592,
     "end_time": "2022-03-26T23:46:57.165067",
     "exception": false,
     "start_time": "2022-03-26T23:46:57.105867",
     "status": "completed"
    },
    "tags": []
   },
   "outputs": [],
   "source": [
    "###################################\n",
    "# Build the network(s)\n",
    "# Note: It's critical to do this AFTER setting the RNG\n",
    "###################################\n",
    "x_net = build_sequential(p.x_net)"
   ]
  },
  {
   "cell_type": "code",
   "execution_count": 9,
   "id": "a276cd83",
   "metadata": {
    "execution": {
     "iopub.execute_input": "2022-03-26T23:46:57.204778Z",
     "iopub.status.busy": "2022-03-26T23:46:57.204417Z",
     "iopub.status.idle": "2022-03-26T23:46:57.207209Z",
     "shell.execute_reply": "2022-03-26T23:46:57.206662Z"
    },
    "papermill": {
     "duration": 0.020267,
     "end_time": "2022-03-26T23:46:57.207314",
     "exception": false,
     "start_time": "2022-03-26T23:46:57.187047",
     "status": "completed"
    },
    "tags": []
   },
   "outputs": [],
   "source": [
    "start_time_secs = time.time()"
   ]
  },
  {
   "cell_type": "code",
   "execution_count": 10,
   "id": "de702e48",
   "metadata": {
    "execution": {
     "iopub.execute_input": "2022-03-26T23:46:57.252914Z",
     "iopub.status.busy": "2022-03-26T23:46:57.252056Z",
     "iopub.status.idle": "2022-03-26T23:47:34.861145Z",
     "shell.execute_reply": "2022-03-26T23:47:34.860333Z"
    },
    "papermill": {
     "duration": 37.637025,
     "end_time": "2022-03-26T23:47:34.861348",
     "exception": false,
     "start_time": "2022-03-26T23:46:57.224323",
     "status": "completed"
    },
    "tags": []
   },
   "outputs": [],
   "source": [
    "def wrap_in_dataloader(p, ds):\n",
    "    return torch.utils.data.DataLoader(\n",
    "        ds,\n",
    "        batch_size=p.batch_size,\n",
    "        shuffle=True,\n",
    "        num_workers=1,\n",
    "        persistent_workers=True,\n",
    "        prefetch_factor=50,\n",
    "        pin_memory=True\n",
    "    )\n",
    "\n",
    "taf_source = Traditional_Accessor_Factory(\n",
    "    labels=p.labels,\n",
    "    domains=p.domains_source,\n",
    "    num_examples_per_domain_per_label=p.num_examples_per_domain_per_label_source,\n",
    "    pickle_path=os.path.join(get_datasets_base_path(), p.pickle_name_source),\n",
    "    seed=p.dataset_seed\n",
    ")\n",
    "train_original_source, val_original_source, test_original_source = \\\n",
    "    taf_source.get_train(), taf_source.get_val(), taf_source.get_test()\n",
    "\n",
    "\n",
    "taf_target = Traditional_Accessor_Factory(\n",
    "    labels=p.labels,\n",
    "    domains=p.domains_target,\n",
    "    num_examples_per_domain_per_label=p.num_examples_per_domain_per_label_source,\n",
    "    pickle_path=os.path.join(get_datasets_base_path(), p.pickle_name_target),\n",
    "    seed=p.dataset_seed\n",
    ")\n",
    "train_original_target, val_original_target, test_original_target = \\\n",
    "    taf_target.get_train(), taf_target.get_val(), taf_target.get_test()\n",
    "\n",
    "\n",
    "# For CNN We only use X and Y. And we only train on the source.\n",
    "# Properly form the data using a transform lambda and Lazy_Map. Finally wrap them in a dataloader\n",
    "\n",
    "transform_lambda = lambda ex: ex[:2] # Strip the tuple to just (x,y)\n",
    "\n",
    "\n",
    "train_processed_source = wrap_in_dataloader(\n",
    "    p,\n",
    "    Lazy_Map(train_original_source, transform_lambda)\n",
    ")\n",
    "val_processed_source = wrap_in_dataloader(\n",
    "    p,\n",
    "    Lazy_Map(val_original_source, transform_lambda)\n",
    ")\n",
    "test_processed_source = wrap_in_dataloader(\n",
    "    p,\n",
    "    Lazy_Map(test_original_source, transform_lambda)\n",
    ")\n",
    "\n",
    "train_processed_target = wrap_in_dataloader(\n",
    "    p,\n",
    "    Lazy_Map(train_original_target, transform_lambda)\n",
    ")\n",
    "val_processed_target = wrap_in_dataloader(\n",
    "    p,\n",
    "    Lazy_Map(val_original_target, transform_lambda)\n",
    ")\n",
    "test_processed_target  = wrap_in_dataloader(\n",
    "    p,\n",
    "    Lazy_Map(test_original_target, transform_lambda)\n",
    ")\n",
    "\n",
    "\n",
    "\n",
    "datasets = EasyDict({\n",
    "    \"source\": {\n",
    "        \"original\": {\"train\":train_original_source, \"val\":val_original_source, \"test\":test_original_source},\n",
    "        \"processed\": {\"train\":train_processed_source, \"val\":val_processed_source, \"test\":test_processed_source}\n",
    "    },\n",
    "    \"target\": {\n",
    "        \"original\": {\"train\":train_original_target, \"val\":val_original_target, \"test\":test_original_target},\n",
    "        \"processed\": {\"train\":train_processed_target, \"val\":val_processed_target, \"test\":test_processed_target}\n",
    "    },\n",
    "})"
   ]
  },
  {
   "cell_type": "code",
   "execution_count": 11,
   "id": "a11b26bd",
   "metadata": {
    "execution": {
     "iopub.execute_input": "2022-03-26T23:47:34.944507Z",
     "iopub.status.busy": "2022-03-26T23:47:34.943629Z",
     "iopub.status.idle": "2022-03-26T23:47:40.567625Z",
     "shell.execute_reply": "2022-03-26T23:47:40.568336Z"
    },
    "papermill": {
     "duration": 5.686443,
     "end_time": "2022-03-26T23:47:40.568557",
     "exception": false,
     "start_time": "2022-03-26T23:47:34.882114",
     "status": "completed"
    },
    "tags": []
   },
   "outputs": [
    {
     "data": {
      "text/plain": [
       "torch.float32"
      ]
     },
     "execution_count": 11,
     "metadata": {},
     "output_type": "execute_result"
    }
   ],
   "source": [
    "ep = next(iter(test_processed_target))\n",
    "ep[0].dtype"
   ]
  },
  {
   "cell_type": "code",
   "execution_count": 12,
   "id": "19425fad",
   "metadata": {
    "execution": {
     "iopub.execute_input": "2022-03-26T23:47:40.610585Z",
     "iopub.status.busy": "2022-03-26T23:47:40.610012Z",
     "iopub.status.idle": "2022-03-26T23:47:40.657842Z",
     "shell.execute_reply": "2022-03-26T23:47:40.658498Z"
    },
    "papermill": {
     "duration": 0.070649,
     "end_time": "2022-03-26T23:47:40.658700",
     "exception": false,
     "start_time": "2022-03-26T23:47:40.588051",
     "status": "completed"
    },
    "tags": []
   },
   "outputs": [],
   "source": [
    "model = Configurable_Vanilla(\n",
    "    x_net=x_net,\n",
    "    label_loss_object=torch.nn.NLLLoss(),\n",
    "    learning_rate=p.lr\n",
    ")"
   ]
  },
  {
   "cell_type": "code",
   "execution_count": 13,
   "id": "7f6d4f2c",
   "metadata": {
    "execution": {
     "iopub.execute_input": "2022-03-26T23:47:40.701917Z",
     "iopub.status.busy": "2022-03-26T23:47:40.701109Z",
     "iopub.status.idle": "2022-03-27T00:09:31.032888Z",
     "shell.execute_reply": "2022-03-27T00:09:31.032186Z"
    },
    "papermill": {
     "duration": 1310.354099,
     "end_time": "2022-03-27T00:09:31.033068",
     "exception": false,
     "start_time": "2022-03-26T23:47:40.678969",
     "status": "completed"
    },
    "tags": []
   },
   "outputs": [
    {
     "name": "stdout",
     "output_type": "stream",
     "text": [
      "epoch: 1, [batch: 1 / 7000], examples_per_second: 310.3215, train_label_loss: 2.7911, \n"
     ]
    },
    {
     "name": "stdout",
     "output_type": "stream",
     "text": [
      "epoch: 1, [batch: 700 / 7000], examples_per_second: 11685.9739, train_label_loss: 2.6469, \n"
     ]
    },
    {
     "name": "stdout",
     "output_type": "stream",
     "text": [
      "epoch: 1, [batch: 1400 / 7000], examples_per_second: 11671.2420, train_label_loss: 2.6693, \n"
     ]
    },
    {
     "name": "stdout",
     "output_type": "stream",
     "text": [
      "epoch: 1, [batch: 2100 / 7000], examples_per_second: 11600.6433, train_label_loss: 2.3393, \n"
     ]
    },
    {
     "name": "stdout",
     "output_type": "stream",
     "text": [
      "epoch: 1, [batch: 2800 / 7000], examples_per_second: 11584.6436, train_label_loss: 2.2365, \n"
     ]
    },
    {
     "name": "stdout",
     "output_type": "stream",
     "text": [
      "epoch: 1, [batch: 3500 / 7000], examples_per_second: 11585.5450, train_label_loss: 2.0886, \n"
     ]
    },
    {
     "name": "stdout",
     "output_type": "stream",
     "text": [
      "epoch: 1, [batch: 4200 / 7000], examples_per_second: 11566.8300, train_label_loss: 1.6757, \n"
     ]
    },
    {
     "name": "stdout",
     "output_type": "stream",
     "text": [
      "epoch: 1, [batch: 4900 / 7000], examples_per_second: 11635.3638, train_label_loss: 1.7202, \n"
     ]
    },
    {
     "name": "stdout",
     "output_type": "stream",
     "text": [
      "epoch: 1, [batch: 5600 / 7000], examples_per_second: 11528.6591, train_label_loss: 1.7971, \n"
     ]
    },
    {
     "name": "stdout",
     "output_type": "stream",
     "text": [
      "epoch: 1, [batch: 6300 / 7000], examples_per_second: 11424.9606, train_label_loss: 1.4778, \n"
     ]
    },
    {
     "name": "stdout",
     "output_type": "stream",
     "text": [
      "=============================================================\n",
      "epoch: 1, source_val_acc_label: 0.5797, source_val_label_loss: 1.2875, target_val_acc_label: 0.5797, target_val_label_loss: 1.2875, \n",
      "=============================================================\n"
     ]
    },
    {
     "name": "stdout",
     "output_type": "stream",
     "text": [
      "New best\n",
      "epoch: 2, [batch: 1 / 7000], examples_per_second: 12.3041, train_label_loss: 1.2904, \n"
     ]
    },
    {
     "name": "stdout",
     "output_type": "stream",
     "text": [
      "epoch: 2, [batch: 700 / 7000], examples_per_second: 11489.2754, train_label_loss: 1.2910, \n"
     ]
    },
    {
     "name": "stdout",
     "output_type": "stream",
     "text": [
      "epoch: 2, [batch: 1400 / 7000], examples_per_second: 11537.0304, train_label_loss: 1.5205, \n"
     ]
    },
    {
     "name": "stdout",
     "output_type": "stream",
     "text": [
      "epoch: 2, [batch: 2100 / 7000], examples_per_second: 11501.4521, train_label_loss: 1.1218, \n"
     ]
    },
    {
     "name": "stdout",
     "output_type": "stream",
     "text": [
      "epoch: 2, [batch: 2800 / 7000], examples_per_second: 12059.3919, train_label_loss: 1.0829, \n"
     ]
    },
    {
     "name": "stdout",
     "output_type": "stream",
     "text": [
      "epoch: 2, [batch: 3500 / 7000], examples_per_second: 12565.4899, train_label_loss: 1.3951, \n"
     ]
    },
    {
     "name": "stdout",
     "output_type": "stream",
     "text": [
      "epoch: 2, [batch: 4200 / 7000], examples_per_second: 12610.7037, train_label_loss: 1.0059, \n"
     ]
    },
    {
     "name": "stdout",
     "output_type": "stream",
     "text": [
      "epoch: 2, [batch: 4900 / 7000], examples_per_second: 12590.9133, train_label_loss: 1.0821, \n"
     ]
    },
    {
     "name": "stdout",
     "output_type": "stream",
     "text": [
      "epoch: 2, [batch: 5600 / 7000], examples_per_second: 12737.7458, train_label_loss: 0.9982, \n"
     ]
    },
    {
     "name": "stdout",
     "output_type": "stream",
     "text": [
      "epoch: 2, [batch: 6300 / 7000], examples_per_second: 12709.1164, train_label_loss: 0.8768, \n"
     ]
    },
    {
     "name": "stdout",
     "output_type": "stream",
     "text": [
      "=============================================================\n",
      "epoch: 2, source_val_acc_label: 0.6771, source_val_label_loss: 0.9443, target_val_acc_label: 0.6771, target_val_label_loss: 0.9443, \n",
      "=============================================================\n"
     ]
    },
    {
     "name": "stdout",
     "output_type": "stream",
     "text": [
      "New best\n",
      "epoch: 3, [batch: 1 / 7000], examples_per_second: 14.4624, train_label_loss: 1.0314, \n"
     ]
    },
    {
     "name": "stdout",
     "output_type": "stream",
     "text": [
      "epoch: 3, [batch: 700 / 7000], examples_per_second: 13111.7819, train_label_loss: 1.2895, \n"
     ]
    },
    {
     "name": "stdout",
     "output_type": "stream",
     "text": [
      "epoch: 3, [batch: 1400 / 7000], examples_per_second: 12260.0031, train_label_loss: 0.8462, \n"
     ]
    },
    {
     "name": "stdout",
     "output_type": "stream",
     "text": [
      "epoch: 3, [batch: 2100 / 7000], examples_per_second: 11508.7286, train_label_loss: 0.8646, \n"
     ]
    },
    {
     "name": "stdout",
     "output_type": "stream",
     "text": [
      "epoch: 3, [batch: 2800 / 7000], examples_per_second: 11508.8580, train_label_loss: 0.7990, \n"
     ]
    },
    {
     "name": "stdout",
     "output_type": "stream",
     "text": [
      "epoch: 3, [batch: 3500 / 7000], examples_per_second: 11499.1759, train_label_loss: 0.9772, \n"
     ]
    },
    {
     "name": "stdout",
     "output_type": "stream",
     "text": [
      "epoch: 3, [batch: 4200 / 7000], examples_per_second: 11554.8371, train_label_loss: 0.7671, \n"
     ]
    },
    {
     "name": "stdout",
     "output_type": "stream",
     "text": [
      "epoch: 3, [batch: 4900 / 7000], examples_per_second: 11550.8683, train_label_loss: 0.9748, \n"
     ]
    },
    {
     "name": "stdout",
     "output_type": "stream",
     "text": [
      "epoch: 3, [batch: 5600 / 7000], examples_per_second: 11526.3459, train_label_loss: 0.8208, \n"
     ]
    },
    {
     "name": "stdout",
     "output_type": "stream",
     "text": [
      "epoch: 3, [batch: 6300 / 7000], examples_per_second: 12163.0721, train_label_loss: 0.7230, \n"
     ]
    },
    {
     "name": "stdout",
     "output_type": "stream",
     "text": [
      "=============================================================\n",
      "epoch: 3, source_val_acc_label: 0.7079, source_val_label_loss: 0.8912, target_val_acc_label: 0.7079, target_val_label_loss: 0.8912, \n",
      "=============================================================\n"
     ]
    },
    {
     "name": "stdout",
     "output_type": "stream",
     "text": [
      "New best\n",
      "epoch: 4, [batch: 1 / 7000], examples_per_second: 14.0141, train_label_loss: 0.6370, \n"
     ]
    },
    {
     "name": "stdout",
     "output_type": "stream",
     "text": [
      "epoch: 4, [batch: 700 / 7000], examples_per_second: 12467.1793, train_label_loss: 0.6232, \n"
     ]
    },
    {
     "name": "stdout",
     "output_type": "stream",
     "text": [
      "epoch: 4, [batch: 1400 / 7000], examples_per_second: 12401.2586, train_label_loss: 0.6471, \n"
     ]
    },
    {
     "name": "stdout",
     "output_type": "stream",
     "text": [
      "epoch: 4, [batch: 2100 / 7000], examples_per_second: 12332.6063, train_label_loss: 1.0941, \n"
     ]
    },
    {
     "name": "stdout",
     "output_type": "stream",
     "text": [
      "epoch: 4, [batch: 2800 / 7000], examples_per_second: 12234.0876, train_label_loss: 0.6512, \n"
     ]
    },
    {
     "name": "stdout",
     "output_type": "stream",
     "text": [
      "epoch: 4, [batch: 3500 / 7000], examples_per_second: 12387.2315, train_label_loss: 0.4993, \n"
     ]
    },
    {
     "name": "stdout",
     "output_type": "stream",
     "text": [
      "epoch: 4, [batch: 4200 / 7000], examples_per_second: 12375.4453, train_label_loss: 0.8300, \n"
     ]
    },
    {
     "name": "stdout",
     "output_type": "stream",
     "text": [
      "epoch: 4, [batch: 4900 / 7000], examples_per_second: 12341.8811, train_label_loss: 0.5658, \n"
     ]
    },
    {
     "name": "stdout",
     "output_type": "stream",
     "text": [
      "epoch: 4, [batch: 5600 / 7000], examples_per_second: 12426.3215, train_label_loss: 0.5911, \n"
     ]
    },
    {
     "name": "stdout",
     "output_type": "stream",
     "text": [
      "epoch: 4, [batch: 6300 / 7000], examples_per_second: 12218.4640, train_label_loss: 0.5968, \n"
     ]
    },
    {
     "name": "stdout",
     "output_type": "stream",
     "text": [
      "=============================================================\n",
      "epoch: 4, source_val_acc_label: 0.7660, source_val_label_loss: 0.6567, target_val_acc_label: 0.7660, target_val_label_loss: 0.6567, \n",
      "=============================================================\n"
     ]
    },
    {
     "name": "stdout",
     "output_type": "stream",
     "text": [
      "New best\n",
      "epoch: 5, [batch: 1 / 7000], examples_per_second: 14.0255, train_label_loss: 0.4497, \n"
     ]
    },
    {
     "name": "stdout",
     "output_type": "stream",
     "text": [
      "epoch: 5, [batch: 700 / 7000], examples_per_second: 12572.5758, train_label_loss: 0.4624, \n"
     ]
    },
    {
     "name": "stdout",
     "output_type": "stream",
     "text": [
      "epoch: 5, [batch: 1400 / 7000], examples_per_second: 12566.6714, train_label_loss: 0.6553, \n"
     ]
    },
    {
     "name": "stdout",
     "output_type": "stream",
     "text": [
      "epoch: 5, [batch: 2100 / 7000], examples_per_second: 12520.8798, train_label_loss: 0.4713, \n"
     ]
    },
    {
     "name": "stdout",
     "output_type": "stream",
     "text": [
      "epoch: 5, [batch: 2800 / 7000], examples_per_second: 12465.3257, train_label_loss: 0.4407, \n"
     ]
    },
    {
     "name": "stdout",
     "output_type": "stream",
     "text": [
      "epoch: 5, [batch: 3500 / 7000], examples_per_second: 12516.7651, train_label_loss: 0.6568, \n"
     ]
    },
    {
     "name": "stdout",
     "output_type": "stream",
     "text": [
      "epoch: 5, [batch: 4200 / 7000], examples_per_second: 12524.2097, train_label_loss: 0.3994, \n"
     ]
    },
    {
     "name": "stdout",
     "output_type": "stream",
     "text": [
      "epoch: 5, [batch: 4900 / 7000], examples_per_second: 12491.3206, train_label_loss: 0.5302, \n"
     ]
    },
    {
     "name": "stdout",
     "output_type": "stream",
     "text": [
      "epoch: 5, [batch: 5600 / 7000], examples_per_second: 12179.1107, train_label_loss: 0.5226, \n"
     ]
    },
    {
     "name": "stdout",
     "output_type": "stream",
     "text": [
      "epoch: 5, [batch: 6300 / 7000], examples_per_second: 12493.7583, train_label_loss: 0.5223, \n"
     ]
    },
    {
     "name": "stdout",
     "output_type": "stream",
     "text": [
      "=============================================================\n",
      "epoch: 5, source_val_acc_label: 0.7327, source_val_label_loss: 0.7456, target_val_acc_label: 0.7327, target_val_label_loss: 0.7456, \n",
      "=============================================================\n"
     ]
    },
    {
     "name": "stdout",
     "output_type": "stream",
     "text": [
      "epoch: 6, [batch: 1 / 7000], examples_per_second: 13.9700, train_label_loss: 0.4420, \n"
     ]
    },
    {
     "name": "stdout",
     "output_type": "stream",
     "text": [
      "epoch: 6, [batch: 700 / 7000], examples_per_second: 11721.4341, train_label_loss: 0.5440, \n"
     ]
    },
    {
     "name": "stdout",
     "output_type": "stream",
     "text": [
      "epoch: 6, [batch: 1400 / 7000], examples_per_second: 11851.2562, train_label_loss: 0.4981, \n"
     ]
    },
    {
     "name": "stdout",
     "output_type": "stream",
     "text": [
      "epoch: 6, [batch: 2100 / 7000], examples_per_second: 11718.1954, train_label_loss: 0.7142, \n"
     ]
    },
    {
     "name": "stdout",
     "output_type": "stream",
     "text": [
      "epoch: 6, [batch: 2800 / 7000], examples_per_second: 11722.8519, train_label_loss: 0.5103, \n"
     ]
    },
    {
     "name": "stdout",
     "output_type": "stream",
     "text": [
      "epoch: 6, [batch: 3500 / 7000], examples_per_second: 11710.8345, train_label_loss: 0.4921, \n"
     ]
    },
    {
     "name": "stdout",
     "output_type": "stream",
     "text": [
      "epoch: 6, [batch: 4200 / 7000], examples_per_second: 11746.0308, train_label_loss: 0.6654, \n"
     ]
    },
    {
     "name": "stdout",
     "output_type": "stream",
     "text": [
      "epoch: 6, [batch: 4900 / 7000], examples_per_second: 11726.7711, train_label_loss: 0.5634, \n"
     ]
    },
    {
     "name": "stdout",
     "output_type": "stream",
     "text": [
      "epoch: 6, [batch: 5600 / 7000], examples_per_second: 11898.0683, train_label_loss: 0.4194, \n"
     ]
    },
    {
     "name": "stdout",
     "output_type": "stream",
     "text": [
      "epoch: 6, [batch: 6300 / 7000], examples_per_second: 11736.3573, train_label_loss: 0.5116, \n"
     ]
    },
    {
     "name": "stdout",
     "output_type": "stream",
     "text": [
      "=============================================================\n",
      "epoch: 6, source_val_acc_label: 0.7670, source_val_label_loss: 0.6355, target_val_acc_label: 0.7670, target_val_label_loss: 0.6355, \n",
      "=============================================================\n"
     ]
    },
    {
     "name": "stdout",
     "output_type": "stream",
     "text": [
      "New best\n",
      "epoch: 7, [batch: 1 / 7000], examples_per_second: 13.1246, train_label_loss: 0.6052, \n"
     ]
    },
    {
     "name": "stdout",
     "output_type": "stream",
     "text": [
      "epoch: 7, [batch: 700 / 7000], examples_per_second: 11734.3997, train_label_loss: 0.7283, \n"
     ]
    },
    {
     "name": "stdout",
     "output_type": "stream",
     "text": [
      "epoch: 7, [batch: 1400 / 7000], examples_per_second: 11757.6371, train_label_loss: 0.3035, \n"
     ]
    },
    {
     "name": "stdout",
     "output_type": "stream",
     "text": [
      "epoch: 7, [batch: 2100 / 7000], examples_per_second: 11745.7507, train_label_loss: 0.7693, \n"
     ]
    },
    {
     "name": "stdout",
     "output_type": "stream",
     "text": [
      "epoch: 7, [batch: 2800 / 7000], examples_per_second: 11743.1719, train_label_loss: 0.4152, \n"
     ]
    },
    {
     "name": "stdout",
     "output_type": "stream",
     "text": [
      "epoch: 7, [batch: 3500 / 7000], examples_per_second: 11721.4084, train_label_loss: 0.3712, \n"
     ]
    },
    {
     "name": "stdout",
     "output_type": "stream",
     "text": [
      "epoch: 7, [batch: 4200 / 7000], examples_per_second: 11829.9753, train_label_loss: 0.4701, \n"
     ]
    },
    {
     "name": "stdout",
     "output_type": "stream",
     "text": [
      "epoch: 7, [batch: 4900 / 7000], examples_per_second: 11759.5168, train_label_loss: 0.4349, \n"
     ]
    },
    {
     "name": "stdout",
     "output_type": "stream",
     "text": [
      "epoch: 7, [batch: 5600 / 7000], examples_per_second: 11726.7714, train_label_loss: 0.6205, \n"
     ]
    },
    {
     "name": "stdout",
     "output_type": "stream",
     "text": [
      "epoch: 7, [batch: 6300 / 7000], examples_per_second: 11737.2682, train_label_loss: 0.3479, \n"
     ]
    },
    {
     "name": "stdout",
     "output_type": "stream",
     "text": [
      "=============================================================\n",
      "epoch: 7, source_val_acc_label: 0.7739, source_val_label_loss: 0.6174, target_val_acc_label: 0.7739, target_val_label_loss: 0.6174, \n",
      "=============================================================\n"
     ]
    },
    {
     "name": "stdout",
     "output_type": "stream",
     "text": [
      "New best\n",
      "epoch: 8, [batch: 1 / 7000], examples_per_second: 13.1662, train_label_loss: 0.2748, \n"
     ]
    },
    {
     "name": "stdout",
     "output_type": "stream",
     "text": [
      "epoch: 8, [batch: 700 / 7000], examples_per_second: 11724.5202, train_label_loss: 0.5797, \n"
     ]
    },
    {
     "name": "stdout",
     "output_type": "stream",
     "text": [
      "epoch: 8, [batch: 1400 / 7000], examples_per_second: 11739.1428, train_label_loss: 0.3123, \n"
     ]
    },
    {
     "name": "stdout",
     "output_type": "stream",
     "text": [
      "epoch: 8, [batch: 2100 / 7000], examples_per_second: 11710.0270, train_label_loss: 0.4844, \n"
     ]
    },
    {
     "name": "stdout",
     "output_type": "stream",
     "text": [
      "epoch: 8, [batch: 2800 / 7000], examples_per_second: 11844.4746, train_label_loss: 0.3846, \n"
     ]
    },
    {
     "name": "stdout",
     "output_type": "stream",
     "text": [
      "epoch: 8, [batch: 3500 / 7000], examples_per_second: 11686.7274, train_label_loss: 0.4503, \n"
     ]
    },
    {
     "name": "stdout",
     "output_type": "stream",
     "text": [
      "epoch: 8, [batch: 4200 / 7000], examples_per_second: 11699.0322, train_label_loss: 0.3507, \n"
     ]
    },
    {
     "name": "stdout",
     "output_type": "stream",
     "text": [
      "epoch: 8, [batch: 4900 / 7000], examples_per_second: 11668.6002, train_label_loss: 0.5708, \n"
     ]
    },
    {
     "name": "stdout",
     "output_type": "stream",
     "text": [
      "epoch: 8, [batch: 5600 / 7000], examples_per_second: 11684.7398, train_label_loss: 0.4680, \n"
     ]
    },
    {
     "name": "stdout",
     "output_type": "stream",
     "text": [
      "epoch: 8, [batch: 6300 / 7000], examples_per_second: 11690.1483, train_label_loss: 0.4201, \n"
     ]
    },
    {
     "name": "stdout",
     "output_type": "stream",
     "text": [
      "=============================================================\n",
      "epoch: 8, source_val_acc_label: 0.7758, source_val_label_loss: 0.6360, target_val_acc_label: 0.7758, target_val_label_loss: 0.6360, \n",
      "=============================================================\n"
     ]
    },
    {
     "name": "stdout",
     "output_type": "stream",
     "text": [
      "New best\n",
      "epoch: 9, [batch: 1 / 7000], examples_per_second: 14.0787, train_label_loss: 0.2970, \n"
     ]
    },
    {
     "name": "stdout",
     "output_type": "stream",
     "text": [
      "epoch: 9, [batch: 700 / 7000], examples_per_second: 12963.7316, train_label_loss: 0.1927, \n"
     ]
    },
    {
     "name": "stdout",
     "output_type": "stream",
     "text": [
      "epoch: 9, [batch: 1400 / 7000], examples_per_second: 12911.2456, train_label_loss: 0.3254, \n"
     ]
    },
    {
     "name": "stdout",
     "output_type": "stream",
     "text": [
      "epoch: 9, [batch: 2100 / 7000], examples_per_second: 13080.7989, train_label_loss: 0.3800, \n"
     ]
    },
    {
     "name": "stdout",
     "output_type": "stream",
     "text": [
      "epoch: 9, [batch: 2800 / 7000], examples_per_second: 12912.0054, train_label_loss: 0.5604, \n"
     ]
    },
    {
     "name": "stdout",
     "output_type": "stream",
     "text": [
      "epoch: 9, [batch: 3500 / 7000], examples_per_second: 12920.5967, train_label_loss: 0.4862, \n"
     ]
    },
    {
     "name": "stdout",
     "output_type": "stream",
     "text": [
      "epoch: 9, [batch: 4200 / 7000], examples_per_second: 12881.4825, train_label_loss: 0.3130, \n"
     ]
    },
    {
     "name": "stdout",
     "output_type": "stream",
     "text": [
      "epoch: 9, [batch: 4900 / 7000], examples_per_second: 12893.6569, train_label_loss: 0.4364, \n"
     ]
    },
    {
     "name": "stdout",
     "output_type": "stream",
     "text": [
      "epoch: 9, [batch: 5600 / 7000], examples_per_second: 13177.6045, train_label_loss: 0.9204, \n"
     ]
    },
    {
     "name": "stdout",
     "output_type": "stream",
     "text": [
      "epoch: 9, [batch: 6300 / 7000], examples_per_second: 13042.7618, train_label_loss: 0.6237, \n"
     ]
    },
    {
     "name": "stdout",
     "output_type": "stream",
     "text": [
      "=============================================================\n",
      "epoch: 9, source_val_acc_label: 0.7716, source_val_label_loss: 0.6702, target_val_acc_label: 0.7716, target_val_label_loss: 0.6702, \n",
      "=============================================================\n"
     ]
    },
    {
     "name": "stdout",
     "output_type": "stream",
     "text": [
      "epoch: 10, [batch: 1 / 7000], examples_per_second: 14.0955, train_label_loss: 0.3091, \n"
     ]
    },
    {
     "name": "stdout",
     "output_type": "stream",
     "text": [
      "epoch: 10, [batch: 700 / 7000], examples_per_second: 12567.1693, train_label_loss: 0.2585, \n"
     ]
    },
    {
     "name": "stdout",
     "output_type": "stream",
     "text": [
      "epoch: 10, [batch: 1400 / 7000], examples_per_second: 12574.7237, train_label_loss: 0.4984, \n"
     ]
    },
    {
     "name": "stdout",
     "output_type": "stream",
     "text": [
      "epoch: 10, [batch: 2100 / 7000], examples_per_second: 12551.3111, train_label_loss: 0.3505, \n"
     ]
    },
    {
     "name": "stdout",
     "output_type": "stream",
     "text": [
      "epoch: 10, [batch: 2800 / 7000], examples_per_second: 12646.4237, train_label_loss: 0.4471, \n"
     ]
    },
    {
     "name": "stdout",
     "output_type": "stream",
     "text": [
      "epoch: 10, [batch: 3500 / 7000], examples_per_second: 12537.3413, train_label_loss: 0.2520, \n"
     ]
    },
    {
     "name": "stdout",
     "output_type": "stream",
     "text": [
      "epoch: 10, [batch: 4200 / 7000], examples_per_second: 12581.3381, train_label_loss: 0.3846, \n"
     ]
    },
    {
     "name": "stdout",
     "output_type": "stream",
     "text": [
      "epoch: 10, [batch: 4900 / 7000], examples_per_second: 12465.8000, train_label_loss: 0.6444, \n"
     ]
    },
    {
     "name": "stdout",
     "output_type": "stream",
     "text": [
      "epoch: 10, [batch: 5600 / 7000], examples_per_second: 12723.3599, train_label_loss: 0.3937, \n"
     ]
    },
    {
     "name": "stdout",
     "output_type": "stream",
     "text": [
      "epoch: 10, [batch: 6300 / 7000], examples_per_second: 12618.3914, train_label_loss: 0.3047, \n"
     ]
    },
    {
     "name": "stdout",
     "output_type": "stream",
     "text": [
      "=============================================================\n",
      "epoch: 10, source_val_acc_label: 0.7533, source_val_label_loss: 0.7112, target_val_acc_label: 0.7533, target_val_label_loss: 0.7112, \n",
      "=============================================================\n"
     ]
    },
    {
     "name": "stdout",
     "output_type": "stream",
     "text": [
      "epoch: 11, [batch: 1 / 7000], examples_per_second: 13.9409, train_label_loss: 0.3125, \n"
     ]
    },
    {
     "name": "stdout",
     "output_type": "stream",
     "text": [
      "epoch: 11, [batch: 700 / 7000], examples_per_second: 12452.0928, train_label_loss: 0.3212, \n"
     ]
    },
    {
     "name": "stdout",
     "output_type": "stream",
     "text": [
      "epoch: 11, [batch: 1400 / 7000], examples_per_second: 12628.7462, train_label_loss: 0.3363, \n"
     ]
    },
    {
     "name": "stdout",
     "output_type": "stream",
     "text": [
      "epoch: 11, [batch: 2100 / 7000], examples_per_second: 12559.2892, train_label_loss: 0.2690, \n"
     ]
    },
    {
     "name": "stdout",
     "output_type": "stream",
     "text": [
      "epoch: 11, [batch: 2800 / 7000], examples_per_second: 12352.8896, train_label_loss: 0.3496, \n"
     ]
    },
    {
     "name": "stdout",
     "output_type": "stream",
     "text": [
      "epoch: 11, [batch: 3500 / 7000], examples_per_second: 12515.3157, train_label_loss: 0.2568, \n"
     ]
    },
    {
     "name": "stdout",
     "output_type": "stream",
     "text": [
      "epoch: 11, [batch: 4200 / 7000], examples_per_second: 12655.0678, train_label_loss: 0.3057, \n"
     ]
    },
    {
     "name": "stdout",
     "output_type": "stream",
     "text": [
      "epoch: 11, [batch: 4900 / 7000], examples_per_second: 12560.0057, train_label_loss: 0.2867, \n"
     ]
    },
    {
     "name": "stdout",
     "output_type": "stream",
     "text": [
      "epoch: 11, [batch: 5600 / 7000], examples_per_second: 12478.1369, train_label_loss: 0.5877, \n"
     ]
    },
    {
     "name": "stdout",
     "output_type": "stream",
     "text": [
      "epoch: 11, [batch: 6300 / 7000], examples_per_second: 12161.0817, train_label_loss: 0.3924, \n"
     ]
    },
    {
     "name": "stdout",
     "output_type": "stream",
     "text": [
      "=============================================================\n",
      "epoch: 11, source_val_acc_label: 0.7773, source_val_label_loss: 0.6354, target_val_acc_label: 0.7773, target_val_label_loss: 0.6354, \n",
      "=============================================================\n"
     ]
    },
    {
     "name": "stdout",
     "output_type": "stream",
     "text": [
      "New best\n",
      "epoch: 12, [batch: 1 / 7000], examples_per_second: 14.0299, train_label_loss: 0.2065, \n"
     ]
    },
    {
     "name": "stdout",
     "output_type": "stream",
     "text": [
      "epoch: 12, [batch: 700 / 7000], examples_per_second: 11207.7570, train_label_loss: 0.2708, \n"
     ]
    },
    {
     "name": "stdout",
     "output_type": "stream",
     "text": [
      "epoch: 12, [batch: 1400 / 7000], examples_per_second: 10724.9430, train_label_loss: 0.1767, \n"
     ]
    },
    {
     "name": "stdout",
     "output_type": "stream",
     "text": [
      "epoch: 12, [batch: 2100 / 7000], examples_per_second: 10682.4591, train_label_loss: 0.1983, \n"
     ]
    },
    {
     "name": "stdout",
     "output_type": "stream",
     "text": [
      "epoch: 12, [batch: 2800 / 7000], examples_per_second: 10683.1293, train_label_loss: 0.3248, \n"
     ]
    },
    {
     "name": "stdout",
     "output_type": "stream",
     "text": [
      "epoch: 12, [batch: 3500 / 7000], examples_per_second: 10739.9357, train_label_loss: 0.2608, \n"
     ]
    },
    {
     "name": "stdout",
     "output_type": "stream",
     "text": [
      "epoch: 12, [batch: 4200 / 7000], examples_per_second: 11714.1786, train_label_loss: 0.2769, \n"
     ]
    },
    {
     "name": "stdout",
     "output_type": "stream",
     "text": [
      "epoch: 12, [batch: 4900 / 7000], examples_per_second: 11734.4030, train_label_loss: 0.2412, \n"
     ]
    },
    {
     "name": "stdout",
     "output_type": "stream",
     "text": [
      "epoch: 12, [batch: 5600 / 7000], examples_per_second: 11761.9779, train_label_loss: 0.6084, \n"
     ]
    },
    {
     "name": "stdout",
     "output_type": "stream",
     "text": [
      "epoch: 12, [batch: 6300 / 7000], examples_per_second: 11754.1116, train_label_loss: 0.3712, \n"
     ]
    },
    {
     "name": "stdout",
     "output_type": "stream",
     "text": [
      "=============================================================\n",
      "epoch: 12, source_val_acc_label: 0.7662, source_val_label_loss: 0.6759, target_val_acc_label: 0.7662, target_val_label_loss: 0.6759, \n",
      "=============================================================\n"
     ]
    },
    {
     "name": "stdout",
     "output_type": "stream",
     "text": [
      "epoch: 13, [batch: 1 / 7000], examples_per_second: 13.1716, train_label_loss: 0.1696, \n"
     ]
    },
    {
     "name": "stdout",
     "output_type": "stream",
     "text": [
      "epoch: 13, [batch: 700 / 7000], examples_per_second: 11700.4835, train_label_loss: 0.1841, \n"
     ]
    },
    {
     "name": "stdout",
     "output_type": "stream",
     "text": [
      "epoch: 13, [batch: 1400 / 7000], examples_per_second: 11740.5155, train_label_loss: 0.4167, \n"
     ]
    },
    {
     "name": "stdout",
     "output_type": "stream",
     "text": [
      "epoch: 13, [batch: 2100 / 7000], examples_per_second: 11915.2295, train_label_loss: 0.2329, \n"
     ]
    },
    {
     "name": "stdout",
     "output_type": "stream",
     "text": [
      "epoch: 13, [batch: 2800 / 7000], examples_per_second: 11259.3533, train_label_loss: 0.2529, \n"
     ]
    },
    {
     "name": "stdout",
     "output_type": "stream",
     "text": [
      "epoch: 13, [batch: 3500 / 7000], examples_per_second: 10696.0392, train_label_loss: 0.4316, \n"
     ]
    },
    {
     "name": "stdout",
     "output_type": "stream",
     "text": [
      "epoch: 13, [batch: 4200 / 7000], examples_per_second: 10673.5526, train_label_loss: 0.3195, \n"
     ]
    },
    {
     "name": "stdout",
     "output_type": "stream",
     "text": [
      "epoch: 13, [batch: 4900 / 7000], examples_per_second: 10706.9743, train_label_loss: 0.2720, \n"
     ]
    },
    {
     "name": "stdout",
     "output_type": "stream",
     "text": [
      "epoch: 13, [batch: 5600 / 7000], examples_per_second: 10645.4458, train_label_loss: 0.2775, \n"
     ]
    },
    {
     "name": "stdout",
     "output_type": "stream",
     "text": [
      "epoch: 13, [batch: 6300 / 7000], examples_per_second: 10687.7243, train_label_loss: 0.2984, \n"
     ]
    },
    {
     "name": "stdout",
     "output_type": "stream",
     "text": [
      "=============================================================\n",
      "epoch: 13, source_val_acc_label: 0.7685, source_val_label_loss: 0.6789, target_val_acc_label: 0.7685, target_val_label_loss: 0.6789, \n",
      "=============================================================\n"
     ]
    },
    {
     "name": "stdout",
     "output_type": "stream",
     "text": [
      "epoch: 14, [batch: 1 / 7000], examples_per_second: 11.4054, train_label_loss: 0.1922, \n"
     ]
    },
    {
     "name": "stdout",
     "output_type": "stream",
     "text": [
      "epoch: 14, [batch: 700 / 7000], examples_per_second: 10685.1427, train_label_loss: 0.1645, \n"
     ]
    },
    {
     "name": "stdout",
     "output_type": "stream",
     "text": [
      "epoch: 14, [batch: 1400 / 7000], examples_per_second: 10661.6626, train_label_loss: 0.3038, \n"
     ]
    },
    {
     "name": "stdout",
     "output_type": "stream",
     "text": [
      "epoch: 14, [batch: 2100 / 7000], examples_per_second: 10728.4520, train_label_loss: 0.1417, \n"
     ]
    },
    {
     "name": "stdout",
     "output_type": "stream",
     "text": [
      "epoch: 14, [batch: 2800 / 7000], examples_per_second: 10643.9621, train_label_loss: 0.1563, \n"
     ]
    },
    {
     "name": "stdout",
     "output_type": "stream",
     "text": [
      "epoch: 14, [batch: 3500 / 7000], examples_per_second: 10691.4937, train_label_loss: 0.2981, \n"
     ]
    },
    {
     "name": "stdout",
     "output_type": "stream",
     "text": [
      "epoch: 14, [batch: 4200 / 7000], examples_per_second: 10735.4693, train_label_loss: 0.4129, \n"
     ]
    },
    {
     "name": "stdout",
     "output_type": "stream",
     "text": [
      "epoch: 14, [batch: 4900 / 7000], examples_per_second: 10671.3543, train_label_loss: 0.3561, \n"
     ]
    },
    {
     "name": "stdout",
     "output_type": "stream",
     "text": [
      "epoch: 14, [batch: 5600 / 7000], examples_per_second: 10678.3411, train_label_loss: 0.3743, \n"
     ]
    },
    {
     "name": "stdout",
     "output_type": "stream",
     "text": [
      "epoch: 14, [batch: 6300 / 7000], examples_per_second: 10670.2666, train_label_loss: 0.2315, \n"
     ]
    },
    {
     "name": "stdout",
     "output_type": "stream",
     "text": [
      "=============================================================\n",
      "epoch: 14, source_val_acc_label: 0.7735, source_val_label_loss: 0.6805, target_val_acc_label: 0.7735, target_val_label_loss: 0.6805, \n",
      "=============================================================\n"
     ]
    },
    {
     "name": "stdout",
     "output_type": "stream",
     "text": [
      "epoch: 15, [batch: 1 / 7000], examples_per_second: 11.3622, train_label_loss: 0.3183, \n"
     ]
    },
    {
     "name": "stdout",
     "output_type": "stream",
     "text": [
      "epoch: 15, [batch: 700 / 7000], examples_per_second: 10683.3626, train_label_loss: 0.2183, \n"
     ]
    },
    {
     "name": "stdout",
     "output_type": "stream",
     "text": [
      "epoch: 15, [batch: 1400 / 7000], examples_per_second: 10954.4979, train_label_loss: 0.4372, \n"
     ]
    },
    {
     "name": "stdout",
     "output_type": "stream",
     "text": [
      "epoch: 15, [batch: 2100 / 7000], examples_per_second: 11773.4960, train_label_loss: 0.2826, \n"
     ]
    },
    {
     "name": "stdout",
     "output_type": "stream",
     "text": [
      "epoch: 15, [batch: 2800 / 7000], examples_per_second: 11766.4346, train_label_loss: 0.2021, \n"
     ]
    },
    {
     "name": "stdout",
     "output_type": "stream",
     "text": [
      "epoch: 15, [batch: 3500 / 7000], examples_per_second: 11790.7178, train_label_loss: 0.2536, \n"
     ]
    },
    {
     "name": "stdout",
     "output_type": "stream",
     "text": [
      "epoch: 15, [batch: 4200 / 7000], examples_per_second: 11759.0098, train_label_loss: 0.1369, \n"
     ]
    },
    {
     "name": "stdout",
     "output_type": "stream",
     "text": [
      "epoch: 15, [batch: 4900 / 7000], examples_per_second: 11771.1089, train_label_loss: 0.1924, \n"
     ]
    },
    {
     "name": "stdout",
     "output_type": "stream",
     "text": [
      "epoch: 15, [batch: 5600 / 7000], examples_per_second: 11836.4998, train_label_loss: 0.2053, \n"
     ]
    },
    {
     "name": "stdout",
     "output_type": "stream",
     "text": [
      "epoch: 15, [batch: 6300 / 7000], examples_per_second: 11714.1808, train_label_loss: 0.2343, \n"
     ]
    },
    {
     "name": "stdout",
     "output_type": "stream",
     "text": [
      "=============================================================\n",
      "epoch: 15, source_val_acc_label: 0.7650, source_val_label_loss: 0.7090, target_val_acc_label: 0.7650, target_val_label_loss: 0.7090, \n",
      "=============================================================\n"
     ]
    },
    {
     "name": "stdout",
     "output_type": "stream",
     "text": [
      "Patience (3) exhausted\n"
     ]
    }
   ],
   "source": [
    "jig = Vanilla_Train_Eval_Test_Jig(\n",
    "    model=model,\n",
    "    path_to_best_model=p.BEST_MODEL_PATH,\n",
    "    device=p.device,\n",
    "    label_loss_object=torch.nn.NLLLoss(),\n",
    ")\n",
    "\n",
    "jig.train(\n",
    "    train_iterable=datasets.source.processed.train,\n",
    "    source_val_iterable=datasets.source.processed.val,\n",
    "    target_val_iterable=datasets.target.processed.val,\n",
    "    patience=p.patience,\n",
    "    num_epochs=p.n_epoch,\n",
    "    num_logs_per_epoch=p.NUM_LOGS_PER_EPOCH,\n",
    "    criteria_for_best=p.criteria_for_best\n",
    ")"
   ]
  },
  {
   "cell_type": "code",
   "execution_count": 14,
   "id": "4bc2ac17",
   "metadata": {
    "execution": {
     "iopub.execute_input": "2022-03-27T00:09:31.164738Z",
     "iopub.status.busy": "2022-03-27T00:09:31.164248Z",
     "iopub.status.idle": "2022-03-27T00:09:31.166422Z",
     "shell.execute_reply": "2022-03-27T00:09:31.166944Z"
    },
    "papermill": {
     "duration": 0.069626,
     "end_time": "2022-03-27T00:09:31.167094",
     "exception": false,
     "start_time": "2022-03-27T00:09:31.097468",
     "status": "completed"
    },
    "tags": []
   },
   "outputs": [],
   "source": [
    "total_experiment_time_secs = time.time() - start_time_secs"
   ]
  },
  {
   "cell_type": "code",
   "execution_count": 15,
   "id": "cae88f23",
   "metadata": {
    "execution": {
     "iopub.execute_input": "2022-03-27T00:09:31.307938Z",
     "iopub.status.busy": "2022-03-27T00:09:31.307055Z",
     "iopub.status.idle": "2022-03-27T00:11:22.799577Z",
     "shell.execute_reply": "2022-03-27T00:11:22.802178Z"
    },
    "papermill": {
     "duration": 111.565415,
     "end_time": "2022-03-27T00:11:22.807205",
     "exception": false,
     "start_time": "2022-03-27T00:09:31.241790",
     "status": "completed"
    },
    "tags": []
   },
   "outputs": [],
   "source": [
    "source_test_label_accuracy, source_test_label_loss = jig.test(datasets.source.processed.test)\n",
    "target_test_label_accuracy, target_test_label_loss = jig.test(datasets.target.processed.test)\n",
    "\n",
    "source_val_label_accuracy, source_val_label_loss = jig.test(datasets.source.processed.val)\n",
    "target_val_label_accuracy, target_val_label_loss = jig.test(datasets.target.processed.val)\n",
    "\n",
    "history = jig.get_history()\n",
    "\n",
    "total_epochs_trained = len(history[\"epoch_indices\"])\n",
    "\n",
    "val_dl = wrap_in_dataloader(p, Sequence_Aggregator((datasets.source.original.val, datasets.target.original.val)))\n",
    "\n",
    "confusion = confusion_by_domain_over_dataloader(model, p.device, val_dl, forward_uses_domain=False)\n",
    "per_domain_accuracy = per_domain_accuracy_from_confusion(confusion)\n",
    "\n",
    "# Add a key to per_domain_accuracy for if it was a source domain\n",
    "for domain, accuracy in per_domain_accuracy.items():\n",
    "    per_domain_accuracy[domain] = {\n",
    "        \"accuracy\": accuracy,\n",
    "        \"source?\": domain in p.domains_source\n",
    "    }\n",
    "\n",
    "# Do an independent accuracy assesment JUST TO BE SURE!\n",
    "# _source_test_label_accuracy = independent_accuracy_assesment(model, datasets.source.processed.test, p.device)\n",
    "# _target_test_label_accuracy = independent_accuracy_assesment(model, datasets.target.processed.test, p.device)\n",
    "# _source_val_label_accuracy = independent_accuracy_assesment(model, datasets.source.processed.val, p.device)\n",
    "# _target_val_label_accuracy = independent_accuracy_assesment(model, datasets.target.processed.val, p.device)\n",
    "\n",
    "# assert(_source_test_label_accuracy == source_test_label_accuracy)\n",
    "# assert(_target_test_label_accuracy == target_test_label_accuracy)\n",
    "# assert(_source_val_label_accuracy == source_val_label_accuracy)\n",
    "# assert(_target_val_label_accuracy == target_val_label_accuracy)\n",
    "\n",
    "###################################\n",
    "# Write out the results\n",
    "###################################\n",
    "\n",
    "experiment = {\n",
    "    \"experiment_name\": p.experiment_name,\n",
    "    \"parameters\": p,\n",
    "    \"results\": {\n",
    "        \"source_test_label_accuracy\": source_test_label_accuracy,\n",
    "        \"source_test_label_loss\": source_test_label_loss,\n",
    "        \"target_test_label_accuracy\": target_test_label_accuracy,\n",
    "        \"target_test_label_loss\": target_test_label_loss,\n",
    "        \"source_val_label_accuracy\": source_val_label_accuracy,\n",
    "        \"source_val_label_loss\": source_val_label_loss,\n",
    "        \"target_val_label_accuracy\": target_val_label_accuracy,\n",
    "        \"target_val_label_loss\": target_val_label_loss,\n",
    "        \"total_epochs_trained\": total_epochs_trained,\n",
    "        \"total_experiment_time_secs\": total_experiment_time_secs,\n",
    "        \"confusion\": confusion,\n",
    "        \"per_domain_accuracy\": per_domain_accuracy,\n",
    "    },\n",
    "    \"history\": history,\n",
    "    \"dataset_metrics\": get_dataset_metrics(datasets, \"cnn\"),\n",
    "}"
   ]
  },
  {
   "cell_type": "code",
   "execution_count": 16,
   "id": "74c318cf",
   "metadata": {
    "execution": {
     "iopub.execute_input": "2022-03-27T00:11:23.028782Z",
     "iopub.status.busy": "2022-03-27T00:11:23.010734Z",
     "iopub.status.idle": "2022-03-27T00:11:23.520045Z",
     "shell.execute_reply": "2022-03-27T00:11:23.520751Z"
    },
    "papermill": {
     "duration": 0.606865,
     "end_time": "2022-03-27T00:11:23.520978",
     "exception": false,
     "start_time": "2022-03-27T00:11:22.914113",
     "status": "completed"
    },
    "tags": []
   },
   "outputs": [
    {
     "data": {
      "text/plain": [
       "<AxesSubplot:title={'center':'Source Train Label Loss vs Source Val Label Loss'}, xlabel='Epoch'>"
      ]
     },
     "execution_count": 16,
     "metadata": {},
     "output_type": "execute_result"
    },
    {
     "data": {
      "image/png": "[encoded data removed]",
      "text/plain": [
       "<Figure size 1080x504 with 1 Axes>"
      ]
     },
     "metadata": {
      "needs_background": "light"
     },
     "output_type": "display_data"
    }
   ],
   "source": [
    "get_loss_curve(experiment)"
   ]
  },
  {
   "cell_type": "code",
   "execution_count": 17,
   "id": "59376601",
   "metadata": {
    "execution": {
     "iopub.execute_input": "2022-03-27T00:11:23.680357Z",
     "iopub.status.busy": "2022-03-27T00:11:23.679472Z",
     "iopub.status.idle": "2022-03-27T00:11:23.982571Z",
     "shell.execute_reply": "2022-03-27T00:11:23.983249Z"
    },
    "papermill": {
     "duration": 0.396376,
     "end_time": "2022-03-27T00:11:23.983486",
     "exception": false,
     "start_time": "2022-03-27T00:11:23.587110",
     "status": "completed"
    },
    "tags": []
   },
   "outputs": [
    {
     "data": {
      "text/plain": [
       "<AxesSubplot:title={'center':'Results'}>"
      ]
     },
     "execution_count": 17,
     "metadata": {},
     "output_type": "execute_result"
    },
    {
     "data": {
      "image/png": "[encoded data removed]",
      "text/plain": [
       "<Figure size 1080x504 with 1 Axes>"
      ]
     },
     "metadata": {
      "needs_background": "light"
     },
     "output_type": "display_data"
    }
   ],
   "source": [
    "get_results_table(experiment)"
   ]
  },
  {
   "cell_type": "code",
   "execution_count": 18,
   "id": "e80c5c98",
   "metadata": {
    "execution": {
     "iopub.execute_input": "2022-03-27T00:11:24.138694Z",
     "iopub.status.busy": "2022-03-27T00:11:24.131773Z",
     "iopub.status.idle": "2022-03-27T00:11:24.411925Z",
     "shell.execute_reply": "2022-03-27T00:11:24.412607Z"
    },
    "papermill": {
     "duration": 0.357103,
     "end_time": "2022-03-27T00:11:24.412846",
     "exception": false,
     "start_time": "2022-03-27T00:11:24.055743",
     "status": "completed"
    },
    "tags": []
   },
   "outputs": [
    {
     "data": {
      "text/plain": [
       "<AxesSubplot:title={'center':'Per Domain Accuracy'}, xlabel='domain'>"
      ]
     },
     "execution_count": 18,
     "metadata": {},
     "output_type": "execute_result"
    },
    {
     "data": {
      "image/png": "[encoded data removed]",
      "text/plain": [
       "<Figure size 1080x504 with 1 Axes>"
      ]
     },
     "metadata": {
      "needs_background": "light"
     },
     "output_type": "display_data"
    }
   ],
   "source": [
    "get_domain_accuracies(experiment)"
   ]
  },
  {
   "cell_type": "code",
   "execution_count": 19,
   "id": "086fdd10",
   "metadata": {
    "execution": {
     "iopub.execute_input": "2022-03-27T00:11:24.550350Z",
     "iopub.status.busy": "2022-03-27T00:11:24.549360Z",
     "iopub.status.idle": "2022-03-27T00:11:24.553798Z",
     "shell.execute_reply": "2022-03-27T00:11:24.554259Z"
    },
    "papermill": {
     "duration": 0.073763,
     "end_time": "2022-03-27T00:11:24.554460",
     "exception": false,
     "start_time": "2022-03-27T00:11:24.480697",
     "status": "completed"
    },
    "tags": []
   },
   "outputs": [
    {
     "name": "stdout",
     "output_type": "stream",
     "text": [
      "Source Test Label Accuracy: 0.7755989583333334 Target Test Label Accuracy: 0.7755989583333334\n",
      "Source Val Label Accuracy: 0.777296875 Target Val Label Accuracy: 0.777296875\n"
     ]
    }
   ],
   "source": [
    "print(\"Source Test Label Accuracy:\", experiment[\"results\"][\"source_test_label_accuracy\"], \"Target Test Label Accuracy:\", experiment[\"results\"][\"target_test_label_accuracy\"])\n",
    "print(\"Source Val Label Accuracy:\", experiment[\"results\"][\"source_val_label_accuracy\"], \"Target Val Label Accuracy:\", experiment[\"results\"][\"target_val_label_accuracy\"])"
   ]
  },
  {
   "cell_type": "code",
   "execution_count": 20,
   "id": "9f450536",
   "metadata": {
    "execution": {
     "iopub.execute_input": "2022-03-27T00:11:24.693713Z",
     "iopub.status.busy": "2022-03-27T00:11:24.693347Z",
     "iopub.status.idle": "2022-03-27T00:11:24.697932Z",
     "shell.execute_reply": "2022-03-27T00:11:24.697227Z"
    },
    "papermill": {
     "duration": 0.074476,
     "end_time": "2022-03-27T00:11:24.698095",
     "exception": false,
     "start_time": "2022-03-27T00:11:24.623619",
     "status": "completed"
    },
    "tags": [
     "experiment_json"
    ]
   },
   "outputs": [
    {
     "data": {
      "text/plain": [
       "'{\"experiment_name\": \"cnn_2:oracle.run1\", \"parameters\": {\"experiment_name\": \"cnn_2:oracle.run1\", \"domains_source\": [8, 32, 50, 14, 20, 26, 38, 44], \"domains_target\": [8, 32, 50, 14, 20, 26, 38, 44], \"labels\": [\"3123D52\", \"3123D65\", \"3123D79\", \"3123D80\", \"3123D54\", \"3123D70\", \"3123D7B\", \"3123D89\", \"3123D58\", \"3123D76\", \"3123D7D\", \"3123EFE\", \"3123D64\", \"3123D78\", \"3123D7E\", \"3124E4A\"], \"pickle_name_source\": \"oracle.Run1_10kExamples_stratified_ds.2022A.pkl\", \"pickle_name_target\": \"oracle.Run1_10kExamples_stratified_ds.2022A.pkl\", \"device\": \"cuda\", \"lr\": 0.0001, \"batch_size\": 128, \"normalize_source\": false, \"normalize_target\": false, \"num_examples_per_domain_per_label_source\": -1, \"num_examples_per_domain_per_label_target\": -1, \"torch_default_dtype\": \"torch.float32\", \"n_epoch\": 50, \"patience\": 3, \"criteria_for_best\": \"target_accuracy\", \"x_net\": [{\"class\": \"nnReshape\", \"kargs\": {\"shape\": [-1, 1, 2, 256]}}, {\"class\": \"Conv2d\", \"kargs\": {\"in_channels\": 1, \"out_channels\": 256, \"kernel_size\": [1, 7], \"bias\": false, \"padding\": [0, 3]}}, {\"class\": \"ReLU\", \"kargs\": {\"inplace\": true}}, {\"class\": \"BatchNorm2d\", \"kargs\": {\"num_features\": 256}}, {\"class\": \"Conv2d\", \"kargs\": {\"in_channels\": 256, \"out_channels\": 80, \"kernel_size\": [2, 7], \"bias\": true, \"padding\": [0, 3]}}, {\"class\": \"ReLU\", \"kargs\": {\"inplace\": true}}, {\"class\": \"BatchNorm2d\", \"kargs\": {\"num_features\": 80}}, {\"class\": \"Flatten\", \"kargs\": {}}, {\"class\": \"Linear\", \"kargs\": {\"in_features\": 20480, \"out_features\": 256}}, {\"class\": \"ReLU\", \"kargs\": {\"inplace\": true}}, {\"class\": \"BatchNorm1d\", \"kargs\": {\"num_features\": 256}}, {\"class\": \"Linear\", \"kargs\": {\"in_features\": 256, \"out_features\": 16}}], \"NUM_LOGS_PER_EPOCH\": 10, \"BEST_MODEL_PATH\": \"./best_model.pth\", \"dataset_seed\": 500, \"seed\": 500}, \"results\": {\"source_test_label_accuracy\": 0.7755989583333334, \"source_test_label_loss\": 0.6448365434805552, \"target_test_label_accuracy\": 0.7755989583333334, \"target_test_label_loss\": 0.644836545030276, \"source_val_label_accuracy\": 0.777296875, \"source_val_label_loss\": 0.6353927641312281, \"target_val_label_accuracy\": 0.777296875, \"target_val_label_loss\": 0.6353927649060885, \"total_epochs_trained\": 15, \"total_experiment_time_secs\": 1353.959515094757, \"confusion\": {\"20\": {\"10\": {\"10\": 2808, \"6\": 108, \"4\": 68, \"14\": 6, \"7\": 2, \"12\": 8}, \"11\": {\"11\": 2902, \"4\": 52, \"1\": 6, \"10\": 18, \"8\": 6, \"3\": 4, \"5\": 2, \"9\": 4, \"0\": 4, \"2\": 2}, \"1\": {\"2\": 232, \"1\": 1292, \"15\": 370, \"9\": 312, \"5\": 232, \"3\": 362, \"12\": 196, \"7\": 2, \"0\": 2}, \"7\": {\"2\": 284, \"7\": 1926, \"9\": 200, \"4\": 200, \"3\": 90, \"6\": 160, \"12\": 64, \"10\": 34, \"13\": 22, \"8\": 10, \"14\": 2, \"11\": 8}, \"9\": {\"3\": 436, \"9\": 1476, \"2\": 464, \"1\": 134, \"12\": 288, \"7\": 102, \"13\": 10, \"10\": 32, \"4\": 18, \"15\": 14, \"8\": 6, \"6\": 2, \"5\": 18}, \"3\": {\"3\": 1446, \"5\": 136, \"1\": 138, \"4\": 46, \"9\": 468, \"10\": 64, \"2\": 402, \"12\": 190, \"15\": 28, \"8\": 38, \"7\": 42, \"0\": 2}, \"5\": {\"3\": 494, \"2\": 226, \"5\": 1530, \"1\": 404, \"7\": 6, \"15\": 186, \"9\": 54, \"12\": 60, \"0\": 30, \"8\": 6, \"11\": 4}, \"13\": {\"13\": 2672, \"15\": 76, \"2\": 152, \"7\": 40, \"9\": 18, \"12\": 32, \"11\": 10}, \"4\": {\"4\": 2362, \"8\": 24, \"10\": 96, \"12\": 422, \"14\": 18, \"7\": 34, \"6\": 38, \"9\": 6}, \"6\": {\"6\": 2858, \"4\": 16, \"7\": 38, \"14\": 26, \"10\": 56, \"2\": 4, \"8\": 2}, \"2\": {\"9\": 510, \"2\": 892, \"13\": 178, \"7\": 732, \"12\": 524, \"3\": 82, \"1\": 20, \"4\": 30, \"15\": 14, \"10\": 12, \"11\": 2, \"6\": 4}, \"15\": {\"15\": 1676, \"1\": 402, \"2\": 142, \"12\": 366, \"9\": 162, \"13\": 116, \"5\": 92, \"3\": 34, \"7\": 10}, \"8\": {\"8\": 2200, \"14\": 350, \"4\": 196, \"12\": 72, \"3\": 74, \"10\": 38, \"7\": 28, \"2\": 20, \"5\": 10, \"6\": 10, \"0\": 2}, \"0\": {\"0\": 2556, \"5\": 98, \"2\": 260, \"3\": 54, \"8\": 6, \"9\": 8, \"1\": 2, \"15\": 10, \"11\": 6}, \"14\": {\"4\": 18, \"14\": 2814, \"6\": 70, \"10\": 56, \"8\": 34, \"12\": 6, \"2\": 2}, \"12\": {\"12\": 1626, \"2\": 368, \"9\": 308, \"3\": 184, \"13\": 24, \"1\": 128, \"7\": 214, \"15\": 90, \"4\": 34, \"10\": 8, \"5\": 16}}, \"26\": {\"3\": {\"3\": 2382, \"2\": 146, \"7\": 384, \"13\": 24, \"4\": 40, \"8\": 14, \"14\": 2, \"9\": 6, \"6\": 2}, \"8\": {\"14\": 20, \"0\": 252, \"8\": 1560, \"2\": 116, \"10\": 138, \"7\": 624, \"9\": 182, \"6\": 6, \"4\": 62, \"3\": 20, \"13\": 20}, \"1\": {\"1\": 2618, \"0\": 24, \"10\": 176, \"14\": 180, \"6\": 2}, \"5\": {\"15\": 400, \"5\": 2484, \"6\": 84, \"9\": 10, \"10\": 4, \"2\": 14, \"1\": 2, \"14\": 2}, \"12\": {\"12\": 3000}, \"4\": {\"4\": 2918, \"3\": 60, \"7\": 8, \"10\": 2, \"13\": 4, \"8\": 4, \"14\": 2, \"0\": 2}, \"9\": {\"0\": 72, \"9\": 1902, \"8\": 508, \"13\": 252, \"2\": 154, \"15\": 26, \"7\": 46, \"6\": 26, \"4\": 4, \"3\": 6, \"10\": 4}, \"11\": {\"11\": 2902, \"12\": 40, \"6\": 44, \"2\": 8, \"0\": 2, \"5\": 4}, \"10\": {\"10\": 1850, \"1\": 162, \"14\": 406, \"6\": 198, \"0\": 290, \"15\": 50, \"5\": 12, \"8\": 20, \"2\": 4, \"9\": 6, \"7\": 2}, \"0\": {\"10\": 1016, \"0\": 976, \"14\": 642, \"8\": 158, \"1\": 52, \"7\": 64, \"6\": 54, \"9\": 14, \"4\": 8, \"2\": 4, \"15\": 12}, \"2\": {\"2\": 1540, \"3\": 516, \"7\": 460, \"5\": 40, \"8\": 136, \"13\": 118, \"15\": 56, \"9\": 78, \"10\": 24, \"0\": 20, \"14\": 6, \"6\": 6}, \"7\": {\"7\": 1846, \"3\": 456, \"8\": 306, \"0\": 50, \"2\": 202, \"14\": 18, \"4\": 74, \"13\": 12, \"10\": 12, \"9\": 24}, \"15\": {\"15\": 1770, \"5\": 464, \"6\": 558, \"10\": 92, \"9\": 38, \"14\": 26, \"2\": 40, \"0\": 4, \"1\": 6, \"8\": 2}, \"14\": {\"1\": 270, \"0\": 164, \"10\": 536, \"14\": 2008, \"7\": 4, \"6\": 16, \"8\": 2}, \"13\": {\"13\": 2620, \"9\": 214, \"15\": 16, \"8\": 14, \"5\": 4, \"3\": 26, \"2\": 82, \"0\": 22, \"4\": 2}, \"6\": {\"6\": 1956, \"10\": 486, \"15\": 374, \"14\": 68, \"9\": 14, \"5\": 50, \"1\": 6, \"12\": 22, \"0\": 22, \"11\": 2}}, \"8\": {\"5\": {\"1\": 130, \"5\": 2472, \"10\": 354, \"4\": 14, \"13\": 22, \"14\": 4, \"6\": 2, \"11\": 2}, \"12\": {\"12\": 1900, \"15\": 502, \"4\": 432, \"10\": 34, \"3\": 42, \"8\": 46, \"14\": 36, \"5\": 4, \"6\": 2, \"9\": 2}, \"14\": {\"14\": 2356, \"4\": 520, \"0\": 32, \"11\": 52, \"6\": 24, \"8\": 6, \"10\": 8, \"7\": 2}, \"2\": {\"2\": 908, \"1\": 104, \"10\": 94, \"3\": 1346, \"0\": 134, \"5\": 142, \"9\": 88, \"15\": 32, \"12\": 86, \"7\": 30, \"4\": 16, \"8\": 18, \"11\": 2}, \"3\": {\"3\": 2726, \"10\": 118, \"2\": 40, \"0\": 28, \"4\": 82, \"15\": 4, \"8\": 2}, \"1\": {\"1\": 2234, \"11\": 572, \"5\": 48, \"4\": 72, \"6\": 20, \"10\": 40, \"14\": 8, \"8\": 2, \"13\": 2, \"7\": 2}, \"9\": {\"9\": 2996, \"13\": 2, \"6\": 2}, \"7\": {\"7\": 1948, \"6\": 886, \"4\": 84, \"8\": 6, \"13\": 58, \"11\": 10, \"12\": 2, \"2\": 2, \"10\": 4}, \"0\": {\"0\": 2994, \"3\": 4, \"14\": 2}, \"10\": {\"10\": 1774, \"14\": 8, \"13\": 884, \"5\": 164, \"6\": 60, \"4\": 50, \"1\": 52, \"7\": 6, \"15\": 2}, \"6\": {\"4\": 362, \"6\": 1518, \"7\": 1052, \"13\": 34, \"14\": 12, \"11\": 6, \"10\": 4, \"8\": 10, \"1\": 2}, \"13\": {\"13\": 2096, \"15\": 14, \"5\": 36, \"4\": 22, \"10\": 418, \"7\": 214, \"6\": 162, \"1\": 34, \"12\": 2, \"2\": 2}, \"4\": {\"14\": 272, \"7\": 154, \"4\": 1884, \"6\": 592, \"8\": 30, \"10\": 12, \"11\": 40, \"1\": 6, \"0\": 4, \"13\": 6}, \"15\": {\"15\": 2160, \"12\": 714, \"3\": 78, \"1\": 8, \"5\": 10, \"4\": 20, \"2\": 2, \"8\": 6, \"9\": 2}, \"8\": {\"8\": 2984, \"11\": 4, \"4\": 4, \"6\": 8}, \"11\": {\"11\": 2574, \"1\": 306, \"6\": 2, \"8\": 74, \"14\": 26, \"4\": 14, \"5\": 4}}, \"14\": {\"11\": {\"11\": 2932, \"7\": 16, \"6\": 28, \"13\": 16, \"4\": 4, \"10\": 2, \"3\": 2}, \"0\": {\"0\": 2170, \"3\": 488, \"10\": 32, \"9\": 78, \"4\": 126, \"13\": 72, \"14\": 2, \"2\": 16, \"11\": 8, \"8\": 4, \"5\": 2, \"7\": 2}, \"8\": {\"8\": 2992, \"11\": 6, \"13\": 2}, \"12\": {\"12\": 2998, \"13\": 2}, \"1\": {\"1\": 2972, \"11\": 14, \"2\": 2, \"4\": 10, \"7\": 2}, \"6\": {\"13\": 810, \"6\": 2046, \"2\": 54, \"3\": 60, \"14\": 28, \"4\": 2}, \"10\": {\"10\": 2858, \"3\": 112, \"2\": 16, \"13\": 2, \"4\": 12}, \"13\": {\"13\": 1426, \"6\": 1060, \"14\": 164, \"15\": 58, \"4\": 24, \"3\": 114, \"2\": 124, \"5\": 2, \"10\": 28}, \"2\": {\"2\": 1964, \"13\": 140, \"14\": 228, \"4\": 96, \"6\": 306, \"5\": 186, \"3\": 72, \"10\": 4, \"7\": 4}, \"5\": {\"2\": 350, \"5\": 2336, \"4\": 206, \"7\": 38, \"6\": 4, \"3\": 34, \"14\": 8, \"11\": 14, \"10\": 4, \"13\": 6}, \"9\": {\"9\": 2952, \"11\": 20, \"15\": 10, \"13\": 6, \"0\": 12}, \"14\": {\"14\": 2020, \"2\": 138, \"13\": 480, \"6\": 288, \"4\": 32, \"3\": 40, \"10\": 2}, \"3\": {\"3\": 2888, \"0\": 30, \"2\": 58, \"13\": 6, \"14\": 8, \"6\": 6, \"4\": 2, \"7\": 2}, \"4\": {\"4\": 2702, \"2\": 150, \"5\": 64, \"11\": 26, \"10\": 52, \"1\": 2, \"14\": 2, \"13\": 2}, \"15\": {\"15\": 2948, \"11\": 20, \"13\": 28, \"5\": 2, \"3\": 2}, \"7\": {\"7\": 2774, \"5\": 182, \"2\": 40, \"1\": 4}}, \"32\": {\"3\": {\"3\": 2396, \"12\": 380, \"13\": 216, \"11\": 6, \"14\": 2}, \"10\": {\"10\": 3000}, \"2\": {\"2\": 2336, \"4\": 512, \"3\": 30, \"7\": 14, \"0\": 28, \"5\": 2, \"14\": 52, \"13\": 6, \"6\": 18, \"8\": 2}, \"12\": {\"12\": 2980, \"2\": 4, \"10\": 6, \"0\": 8, \"9\": 2}, \"11\": {\"11\": 2860, \"15\": 8, \"13\": 124, \"3\": 8}, \"14\": {\"7\": 658, \"14\": 2008, \"1\": 34, \"5\": 60, \"3\": 46, \"8\": 46, \"0\": 118, \"12\": 20, \"2\": 10}, \"8\": {\"8\": 2538, \"0\": 216, \"1\": 32, \"5\": 162, \"3\": 24, \"7\": 14, \"2\": 4, \"13\": 4, \"14\": 4, \"12\": 2}, \"7\": {\"7\": 2252, \"14\": 122, \"0\": 72, \"5\": 500, \"12\": 10, \"8\": 16, \"1\": 26, \"2\": 2}, \"9\": {\"9\": 2218, \"14\": 420, \"2\": 68, \"1\": 180, \"6\": 102, \"5\": 2, \"4\": 2, \"12\": 6, \"11\": 2}, \"13\": {\"11\": 34, \"13\": 2130, \"3\": 566, \"4\": 236, \"12\": 20, \"14\": 10, \"8\": 4}, \"4\": {\"4\": 2236, \"13\": 206, \"2\": 290, \"3\": 224, \"6\": 2, \"7\": 6, \"14\": 26, \"5\": 2, \"8\": 2, \"11\": 2, \"0\": 4}, \"0\": {\"0\": 2250, \"8\": 294, \"7\": 238, \"5\": 188, \"2\": 4, \"3\": 4, \"14\": 20, \"6\": 2}, \"15\": {\"15\": 2934, \"8\": 34, \"2\": 22, \"1\": 8, \"10\": 2}, \"1\": {\"1\": 2934, \"8\": 66}, \"5\": {\"5\": 1630, \"1\": 494, \"8\": 168, \"7\": 572, \"2\": 8, \"0\": 78, \"4\": 4, \"3\": 18, \"12\": 10, \"14\": 18}, \"6\": {\"6\": 2906, \"11\": 94}}, \"44\": {\"1\": {\"5\": 288, \"1\": 2526, \"7\": 88, \"2\": 64, \"8\": 12, \"0\": 2, \"10\": 20}, \"3\": {\"3\": 2116, \"7\": 164, \"13\": 74, \"14\": 116, \"4\": 242, \"12\": 62, \"5\": 44, \"8\": 110, \"2\": 58, \"1\": 2, \"0\": 10, \"11\": 2}, \"7\": {\"7\": 2700, \"2\": 24, \"9\": 238, \"6\": 12, \"10\": 24, \"5\": 2}, \"13\": {\"13\": 1786, \"0\": 286, \"6\": 512, \"7\": 102, \"9\": 312, \"11\": 2}, \"4\": {\"4\": 1626, \"15\": 486, \"14\": 420, \"0\": 88, \"9\": 94, \"11\": 94, \"8\": 22, \"5\": 92, \"6\": 66, \"12\": 4, \"7\": 8}, \"0\": {\"0\": 2594, \"8\": 340, \"15\": 56, \"13\": 6, \"1\": 2, \"5\": 2}, \"9\": {\"7\": 1166, \"9\": 1642, \"6\": 72, \"11\": 2, \"2\": 52, \"10\": 16, \"13\": 36, \"15\": 4, \"0\": 4, \"5\": 2, \"4\": 2, \"1\": 2}, \"15\": {\"15\": 2246, \"0\": 176, \"8\": 222, \"14\": 144, \"5\": 144, \"12\": 28, \"6\": 22, \"11\": 12, \"4\": 4, \"1\": 2}, \"5\": {\"15\": 228, \"6\": 454, \"5\": 2014, \"14\": 142, \"8\": 96, \"4\": 16, \"0\": 12, \"2\": 28, \"7\": 10}, \"8\": {\"8\": 2372, \"0\": 490, \"15\": 96, \"5\": 40, \"1\": 2}, \"2\": {\"2\": 2404, \"1\": 424, \"7\": 46, \"15\": 4, \"5\": 66, \"10\": 54, \"8\": 2}, \"12\": {\"12\": 2168, \"3\": 780, \"14\": 22, \"13\": 12, \"8\": 14, \"7\": 4}, \"6\": {\"6\": 2048, \"13\": 178, \"9\": 468, \"7\": 300, \"0\": 4, \"15\": 2}, \"10\": {\"10\": 2796, \"1\": 104, \"7\": 60, \"2\": 38, \"15\": 2}, \"11\": {\"11\": 2758, \"0\": 204, \"13\": 32, \"3\": 6}, \"14\": {\"14\": 2242, \"15\": 364, \"5\": 224, \"9\": 18, \"8\": 36, \"4\": 66, \"6\": 46, \"0\": 2, \"11\": 2}}, \"38\": {\"6\": {\"6\": 2808, \"9\": 52, \"2\": 32, \"1\": 78, \"14\": 16, \"4\": 2, \"0\": 2, \"5\": 10}, \"10\": {\"13\": 384, \"10\": 2428, \"0\": 178, \"4\": 8, \"7\": 2}, \"7\": {\"7\": 2700, \"8\": 136, \"5\": 40, \"9\": 32, \"0\": 62, \"4\": 22, \"14\": 4, \"6\": 2, \"13\": 2}, \"13\": {\"13\": 2780, \"10\": 76, \"4\": 36, \"2\": 24, \"5\": 8, \"0\": 18, \"7\": 58}, \"8\": {\"5\": 914, \"15\": 364, \"8\": 1186, \"11\": 184, \"14\": 70, \"4\": 96, \"0\": 22, \"6\": 12, \"1\": 88, \"7\": 60, \"9\": 4}, \"0\": {\"0\": 2470, \"4\": 204, \"7\": 58, \"9\": 46, \"13\": 134, \"10\": 42, \"3\": 16, \"8\": 18, \"14\": 2, \"11\": 4, \"5\": 6}, \"4\": {\"4\": 2990, \"13\": 8, \"10\": 2}, \"1\": {\"1\": 2818, \"2\": 60, \"0\": 76, \"9\": 40, \"15\": 6}, \"5\": {\"14\": 50, \"8\": 346, \"11\": 334, \"5\": 1732, \"9\": 274, \"4\": 6, \"1\": 54, \"15\": 110, \"7\": 78, \"0\": 12, \"6\": 4}, \"14\": {\"14\": 2598, \"5\": 38, \"7\": 124, \"2\": 238, \"4\": 2}, \"11\": {\"11\": 3000}, \"3\": {\"3\": 2994, \"0\": 6}, \"2\": {\"2\": 2752, \"5\": 138, \"14\": 48, \"7\": 48, \"8\": 6, \"13\": 8}, \"9\": {\"9\": 2896, \"12\": 64, \"8\": 2, \"15\": 2, \"5\": 30, \"7\": 2, \"14\": 4}, \"15\": {\"15\": 2088, \"8\": 30, \"1\": 520, \"5\": 204, \"0\": 50, \"11\": 6, \"13\": 78, \"10\": 10, \"6\": 14}, \"12\": {\"12\": 2986, \"15\": 10, \"13\": 4}}, \"50\": {\"1\": {\"1\": 2738, \"15\": 204, \"5\": 6, \"13\": 36, \"11\": 8, \"8\": 2, \"0\": 4, \"12\": 2}, \"14\": {\"9\": 672, \"14\": 2290, \"6\": 34, \"4\": 2, \"2\": 2}, \"8\": {\"8\": 2918, \"10\": 62, \"13\": 2, \"0\": 8, \"1\": 10}, \"3\": {\"3\": 2992, \"8\": 2, \"2\": 6}, \"2\": {\"2\": 2432, \"9\": 116, \"0\": 320, \"12\": 32, \"1\": 90, \"6\": 4, \"11\": 4, \"14\": 2}, \"4\": {\"7\": 310, \"5\": 334, \"4\": 1610, \"8\": 192, \"0\": 248, \"15\": 16, \"6\": 20, \"13\": 170, \"14\": 82, \"2\": 12, \"10\": 4, \"9\": 2}, \"5\": {\"13\": 34, \"5\": 1772, \"15\": 212, \"8\": 120, \"14\": 136, \"7\": 116, \"4\": 106, \"2\": 370, \"6\": 128, \"1\": 6}, \"10\": {\"10\": 2650, \"0\": 244, \"8\": 102, \"15\": 4}, \"7\": {\"7\": 1834, \"2\": 560, \"14\": 256, \"5\": 306, \"4\": 28, \"13\": 14, \"8\": 2}, \"9\": {\"9\": 2760, \"7\": 16, \"11\": 106, \"12\": 76, \"5\": 36, \"8\": 6}, \"13\": {\"13\": 2702, \"15\": 138, \"1\": 32, \"10\": 4, \"0\": 26, \"6\": 38, \"12\": 12, \"8\": 20, \"5\": 28}, \"0\": {\"0\": 2454, \"2\": 152, \"10\": 264, \"1\": 96, \"9\": 4, \"12\": 26, \"15\": 4}, \"12\": {\"11\": 8, \"12\": 2660, \"9\": 308, \"5\": 22, \"0\": 2}, \"11\": {\"11\": 2336, \"15\": 18, \"9\": 398, \"5\": 152, \"0\": 8, \"8\": 56, \"14\": 8, \"12\": 18, \"1\": 2, \"6\": 2, \"4\": 2}, \"6\": {\"14\": 54, \"6\": 2064, \"5\": 582, \"15\": 252, \"8\": 36, \"0\": 4, \"4\": 4, \"13\": 4}, \"15\": {\"15\": 1528, \"8\": 472, \"4\": 114, \"5\": 362, \"6\": 204, \"14\": 272, \"11\": 32, \"7\": 10, \"9\": 4, \"0\": 2}}}, \"per_domain_accuracy\": {\"20\": {\"accuracy\": 0.68825, \"source?\": true}, \"26\": {\"accuracy\": 0.71525, \"source?\": true}, \"8\": {\"accuracy\": 0.7400833333333333, \"source?\": true}, \"14\": {\"accuracy\": 0.8537083333333333, \"source?\": true}, \"32\": {\"accuracy\": 0.8251666666666667, \"source?\": true}, \"44\": {\"accuracy\": 0.7507916666666666, \"source?\": true}, \"38\": {\"accuracy\": 0.858875, \"source?\": true}, \"50\": {\"accuracy\": 0.78625, \"source?\": true}}}, \"history\": {\"epoch_indices\": [1, 2, 3, 4, 5, 6, 7, 8, 9, 10, 11, 12, 13, 14, 15], \"train_label_loss\": [1.9968418315989631, 1.1724758007866996, 0.887003463438579, 0.7268612068082605, 0.6223986744327205, 0.5427113144184862, 0.4821915428212711, 0.43172823688813616, 0.3912782467412097, 0.36599552820835796, 0.3319184234578695, 0.30424798982377566, 0.2830083326026797, 0.26241391985331264, 0.24488135669486863], \"source_val_label_loss\": [1.2875055077870687, 0.9442998415231705, 0.8912267111937205, 0.656679613629977, 0.7455957960685095, 0.635453759709994, 0.6173667686581612, 0.6359693098862966, 0.6702080774108569, 0.7112359296878179, 0.6353927639921506, 0.6759123633702596, 0.678938306371371, 0.6805381339589754, 0.7090219870805741], \"target_val_label_loss\": [1.2875055050849915, 0.9442998402516047, 0.8912267080148061, 0.6566796138087908, 0.7455957972407341, 0.6354537633657455, 0.6173667703866959, 0.6359693117936452, 0.6702080744902293, 0.7112359286149342, 0.6353927677671115, 0.6759123641649882, 0.6789383064905803, 0.6805381313761075, 0.7090219829479854], \"source_val_acc_label\": [0.5797083333333334, 0.677140625, 0.707921875, 0.7659947916666666, 0.7326614583333333, 0.7669791666666667, 0.7738854166666667, 0.7757760416666667, 0.7715989583333334, 0.7532708333333333, 0.777296875, 0.7662291666666666, 0.7685208333333333, 0.7734583333333334, 0.7650364583333333], \"target_val_acc_label\": [0.5797083333333334, 0.677140625, 0.707921875, 0.7659947916666666, 0.7326614583333333, 0.7669791666666667, 0.7738854166666667, 0.7757760416666667, 0.7715989583333334, 0.7532708333333333, 0.777296875, 0.7662291666666666, 0.7685208333333333, 0.7734583333333334, 0.7650364583333333]}, \"dataset_metrics\": {\"source\": {\"train\": {\"n_unique_x\": 896000, \"n_unique_y\": 16, \"n_batch/episode\": 7000}, \"val\": {\"n_unique_x\": 192000, \"n_unique_y\": 16, \"n_batch/episode\": 1500}, \"test\": {\"n_unique_x\": 192000, \"n_unique_y\": 16, \"n_batch/episode\": 1500}}, \"target\": {\"train\": {\"n_unique_x\": 896000, \"n_unique_y\": 16, \"n_batch/episode\": 7000}, \"val\": {\"n_unique_x\": 192000, \"n_unique_y\": 16, \"n_batch/episode\": 1500}, \"test\": {\"n_unique_x\": 192000, \"n_unique_y\": 16, \"n_batch/episode\": 1500}}}}'"
      ]
     },
     "execution_count": 20,
     "metadata": {},
     "output_type": "execute_result"
    }
   ],
   "source": [
    "json.dumps(experiment)"
   ]
  }
 ],
 "metadata": {
  "celltoolbar": "Tags",
  "kernelspec": {
   "display_name": "Python 3 (ipykernel)",
   "language": "python",
   "name": "python3"
  },
  "language_info": {
   "codemirror_mode": {
    "name": "ipython",
    "version": 3
   },
   "file_extension": ".py",
   "mimetype": "text/x-python",
   "name": "python",
   "nbconvert_exporter": "python",
   "pygments_lexer": "ipython3",
   "version": "3.8.12"
  },
  "papermill": {
   "default_parameters": {},
   "duration": 1474.779446,
   "end_time": "2022-03-27T00:11:28.706218",
   "environment_variables": {},
   "exception": null,
   "input_path": "/root/csc500-main/csc500-notebooks/templates/cnn_template.ipynb",
   "output_path": "trial.ipynb",
   "parameters": {
    "parameters": {
     "BEST_MODEL_PATH": "./best_model.pth",
     "NUM_LOGS_PER_EPOCH": 10,
     "batch_size": 128,
     "criteria_for_best": "target_accuracy",
     "dataset_seed": 500,
     "device": "cuda",
     "domains_source": [
      8,
      32,
      50,
      14,
      20,
      26,
      38,
      44
     ],
     "domains_target": [
      8,
      32,
      50,
      14,
      20,
      26,
      38,
      44
     ],
     "experiment_name": "cnn_2:oracle.run1",
     "labels": [
      "3123D52",
      "3123D65",
      "3123D79",
      "3123D80",
      "3123D54",
      "3123D70",
      "3123D7B",
      "3123D89",
      "3123D58",
      "3123D76",
      "3123D7D",
      "3123EFE",
      "3123D64",
      "3123D78",
      "3123D7E",
      "3124E4A"
     ],
     "lr": 0.0001,
     "n_epoch": 50,
     "normalize_source": false,
     "normalize_target": false,
     "num_examples_per_domain_per_label_source": -1,
     "num_examples_per_domain_per_label_target": -1,
     "patience": 3,
     "pickle_name_source": "oracle.Run1_10kExamples_stratified_ds.2022A.pkl",
     "pickle_name_target": "oracle.Run1_10kExamples_stratified_ds.2022A.pkl",
     "seed": 500,
     "torch_default_dtype": "torch.float32",
     "x_net": [
      {
       "class": "nnReshape",
       "kargs": {
        "shape": [
         -1,
         1,
         2,
         256
        ]
       }
      },
      {
       "class": "Conv2d",
       "kargs": {
        "bias": false,
        "in_channels": 1,
        "kernel_size": [
         1,
         7
        ],
        "out_channels": 256,
        "padding": [
         0,
         3
        ]
       }
      },
      {
       "class": "ReLU",
       "kargs": {
        "inplace": true
       }
      },
      {
       "class": "BatchNorm2d",
       "kargs": {
        "num_features": 256
       }
      },
      {
       "class": "Conv2d",
       "kargs": {
        "bias": true,
        "in_channels": 256,
        "kernel_size": [
         2,
         7
        ],
        "out_channels": 80,
        "padding": [
         0,
         3
        ]
       }
      },
      {
       "class": "ReLU",
       "kargs": {
        "inplace": true
       }
      },
      {
       "class": "BatchNorm2d",
       "kargs": {
        "num_features": 80
       }
      },
      {
       "class": "Flatten",
       "kargs": {}
      },
      {
       "class": "Linear",
       "kargs": {
        "in_features": 20480,
        "out_features": 256
       }
      },
      {
       "class": "ReLU",
       "kargs": {
        "inplace": true
       }
      },
      {
       "class": "BatchNorm1d",
       "kargs": {
        "num_features": 256
       }
      },
      {
       "class": "Linear",
       "kargs": {
        "in_features": 256,
        "out_features": 16
       }
      }
     ]
    }
   },
   "start_time": "2022-03-26T23:46:53.926772",
   "version": "2.3.4"
  }
 },
 "nbformat": 4,
 "nbformat_minor": 5
}