{
 "cells": [
  {
   "cell_type": "code",
   "execution_count": 1,
   "id": "2324682e",
   "metadata": {
    "execution": {
     "iopub.execute_input": "2022-03-26T23:18:53.740901Z",
     "iopub.status.busy": "2022-03-26T23:18:53.740050Z",
     "iopub.status.idle": "2022-03-26T23:18:55.405312Z",
     "shell.execute_reply": "2022-03-26T23:18:55.404525Z"
    },
    "papermill": {
     "duration": 1.700774,
     "end_time": "2022-03-26T23:18:55.405498",
     "exception": false,
     "start_time": "2022-03-26T23:18:53.704724",
     "status": "completed"
    },
    "tags": []
   },
   "outputs": [],
   "source": [
    "import os, json, sys, time, random\n",
    "import numpy as np\n",
    "import torch\n",
    "from  easydict import EasyDict\n",
    "from math import floor\n",
    "from easydict import EasyDict\n",
    "\n",
    "from steves_utils.vanilla_train_eval_test_jig import  Vanilla_Train_Eval_Test_Jig\n",
    "\n",
    "from steves_utils.torch_utils import get_dataset_metrics, independent_accuracy_assesment\n",
    "from steves_models.configurable_vanilla import Configurable_Vanilla\n",
    "from steves_utils.torch_sequential_builder import build_sequential\n",
    "from steves_utils.lazy_map import Lazy_Map\n",
    "from steves_utils.sequence_aggregator import Sequence_Aggregator\n",
    "\n",
    "from steves_utils.stratified_dataset.traditional_accessor import Traditional_Accessor_Factory\n",
    "\n",
    "from steves_utils.cnn_do_report import (\n",
    "    get_loss_curve,\n",
    "    get_results_table,\n",
    "    get_parameters_table,\n",
    "    get_domain_accuracies,\n",
    ")\n",
    "\n",
    "from steves_utils.torch_utils import (\n",
    "    confusion_by_domain_over_dataloader,\n",
    "    independent_accuracy_assesment\n",
    ")\n",
    "\n",
    "from steves_utils.utils_v2 import (\n",
    "    per_domain_accuracy_from_confusion,\n",
    "    get_datasets_base_path\n",
    ")\n",
    "\n",
    "# from steves_utils.ptn_do_report import TBD"
   ]
  },
  {
   "cell_type": "code",
   "execution_count": 2,
   "id": "1b29e3fe",
   "metadata": {
    "execution": {
     "iopub.execute_input": "2022-03-26T23:18:55.442949Z",
     "iopub.status.busy": "2022-03-26T23:18:55.442560Z",
     "iopub.status.idle": "2022-03-26T23:18:55.445680Z",
     "shell.execute_reply": "2022-03-26T23:18:55.446359Z"
    },
    "papermill": {
     "duration": 0.023414,
     "end_time": "2022-03-26T23:18:55.446543",
     "exception": false,
     "start_time": "2022-03-26T23:18:55.423129",
     "status": "completed"
    },
    "tags": []
   },
   "outputs": [],
   "source": [
    "required_parameters = {\n",
    "    \"experiment_name\",\n",
    "    \"lr\",\n",
    "    \"device\",\n",
    "    \"dataset_seed\",\n",
    "    \"seed\",\n",
    "    \"labels\",\n",
    "    \"domains_target\",\n",
    "    \"domains_source\",\n",
    "    \"num_examples_per_domain_per_label_source\",\n",
    "    \"num_examples_per_domain_per_label_target\",\n",
    "    \"batch_size\",\n",
    "    \"n_epoch\",\n",
    "    \"patience\",\n",
    "    \"criteria_for_best\",\n",
    "    \"normalize_source\",\n",
    "    \"normalize_target\",\n",
    "    \"x_net\",\n",
    "    \"NUM_LOGS_PER_EPOCH\",\n",
    "    \"BEST_MODEL_PATH\",\n",
    "    \"pickle_name_source\",\n",
    "    \"pickle_name_target\",\n",
    "    \"torch_default_dtype\",\n",
    "}"
   ]
  },
  {
   "cell_type": "code",
   "execution_count": 3,
   "id": "670b5fb8",
   "metadata": {
    "execution": {
     "iopub.execute_input": "2022-03-26T23:18:55.493340Z",
     "iopub.status.busy": "2022-03-26T23:18:55.492489Z",
     "iopub.status.idle": "2022-03-26T23:18:55.501399Z",
     "shell.execute_reply": "2022-03-26T23:18:55.500588Z"
    },
    "papermill": {
     "duration": 0.035937,
     "end_time": "2022-03-26T23:18:55.501556",
     "exception": false,
     "start_time": "2022-03-26T23:18:55.465619",
     "status": "completed"
    },
    "tags": [
     "parameters"
    ]
   },
   "outputs": [],
   "source": [
    "from steves_utils.ORACLE.utils_v2 import (\n",
    "    ALL_SERIAL_NUMBERS,\n",
    "    ALL_DISTANCES_FEET_NARROWED,\n",
    ")\n",
    "\n",
    "standalone_parameters = {}\n",
    "standalone_parameters[\"experiment_name\"] = \"MANUAL CORES CNN\"\n",
    "standalone_parameters[\"lr\"] = 0.0001\n",
    "standalone_parameters[\"device\"] = \"cuda\"\n",
    "\n",
    "standalone_parameters[\"dataset_seed\"] = 1337\n",
    "standalone_parameters[\"seed\"] = 1337\n",
    "standalone_parameters[\"labels\"] = ALL_SERIAL_NUMBERS\n",
    "\n",
    "standalone_parameters[\"domains_source\"] = [8,32,50]\n",
    "standalone_parameters[\"domains_target\"] = [14,20,26,38,44,]\n",
    "\n",
    "standalone_parameters[\"num_examples_per_domain_per_label_source\"]=-1\n",
    "standalone_parameters[\"num_examples_per_domain_per_label_target\"]=-1\n",
    "\n",
    "standalone_parameters[\"pickle_name_source\"] = \"oracle.Run1_framed_2000Examples_stratified_ds.2022A.pkl\"\n",
    "standalone_parameters[\"pickle_name_target\"] = \"oracle.Run2_framed_2000Examples_stratified_ds.2022A.pkl\"\n",
    "\n",
    "standalone_parameters[\"torch_default_dtype\"] = \"torch.float32\" \n",
    "\n",
    "standalone_parameters[\"batch_size\"]=128\n",
    "\n",
    "standalone_parameters[\"n_epoch\"] = 3\n",
    "\n",
    "standalone_parameters[\"patience\"] = 10\n",
    "\n",
    "standalone_parameters[\"criteria_for_best\"] = \"target_accuracy\"\n",
    "standalone_parameters[\"normalize_source\"] = False\n",
    "standalone_parameters[\"normalize_target\"] = False\n",
    "\n",
    "standalone_parameters[\"x_net\"] =     [\n",
    "    {\"class\": \"nnReshape\", \"kargs\": {\"shape\":[-1, 1, 2, 256]}},\n",
    "    {\"class\": \"Conv2d\", \"kargs\": { \"in_channels\":1, \"out_channels\":256, \"kernel_size\":(1,7), \"bias\":False, \"padding\":(0,3), },},\n",
    "    {\"class\": \"ReLU\", \"kargs\": {\"inplace\": True}},\n",
    "    {\"class\": \"BatchNorm2d\", \"kargs\": {\"num_features\":256}},\n",
    "\n",
    "    {\"class\": \"Conv2d\", \"kargs\": { \"in_channels\":256, \"out_channels\":80, \"kernel_size\":(2,7), \"bias\":True, \"padding\":(0,3), },},\n",
    "    {\"class\": \"ReLU\", \"kargs\": {\"inplace\": True}},\n",
    "    {\"class\": \"BatchNorm2d\", \"kargs\": {\"num_features\":80}},\n",
    "    {\"class\": \"Flatten\", \"kargs\": {}},\n",
    "\n",
    "    {\"class\": \"Linear\", \"kargs\": {\"in_features\": 80*256, \"out_features\": 256}}, # 80 units per IQ pair\n",
    "    {\"class\": \"ReLU\", \"kargs\": {\"inplace\": True}},\n",
    "    {\"class\": \"BatchNorm1d\", \"kargs\": {\"num_features\":256}},\n",
    "\n",
    "    {\"class\": \"Linear\", \"kargs\": {\"in_features\": 256, \"out_features\": len(standalone_parameters[\"labels\"])}},\n",
    "]\n",
    "\n",
    "standalone_parameters[\"NUM_LOGS_PER_EPOCH\"] = 10\n",
    "standalone_parameters[\"BEST_MODEL_PATH\"] = \"./best_model.pth\""
   ]
  },
  {
   "cell_type": "code",
   "execution_count": 4,
   "id": "51a9f292",
   "metadata": {
    "execution": {
     "iopub.execute_input": "2022-03-26T23:18:55.549190Z",
     "iopub.status.busy": "2022-03-26T23:18:55.548292Z",
     "iopub.status.idle": "2022-03-26T23:18:55.550864Z",
     "shell.execute_reply": "2022-03-26T23:18:55.550055Z"
    },
    "papermill": {
     "duration": 0.029714,
     "end_time": "2022-03-26T23:18:55.551022",
     "exception": false,
     "start_time": "2022-03-26T23:18:55.521308",
     "status": "completed"
    },
    "tags": [
     "injected-parameters"
    ]
   },
   "outputs": [],
   "source": [
    "# Parameters\n",
    "parameters = {\n",
    "    \"experiment_name\": \"cnn_2:oracle.run1\",\n",
    "    \"domains_source\": [8, 32, 50, 14, 20, 26, 38, 44],\n",
    "    \"domains_target\": [8, 32, 50, 14, 20, 26, 38, 44],\n",
    "    \"labels\": [\n",
    "        \"3123D52\",\n",
    "        \"3123D65\",\n",
    "        \"3123D79\",\n",
    "        \"3123D80\",\n",
    "        \"3123D54\",\n",
    "        \"3123D70\",\n",
    "        \"3123D7B\",\n",
    "        \"3123D89\",\n",
    "        \"3123D58\",\n",
    "        \"3123D76\",\n",
    "        \"3123D7D\",\n",
    "        \"3123EFE\",\n",
    "        \"3123D64\",\n",
    "        \"3123D78\",\n",
    "        \"3123D7E\",\n",
    "        \"3124E4A\",\n",
    "    ],\n",
    "    \"pickle_name_source\": \"oracle.Run1_10kExamples_stratified_ds.2022A.pkl\",\n",
    "    \"pickle_name_target\": \"oracle.Run1_10kExamples_stratified_ds.2022A.pkl\",\n",
    "    \"device\": \"cuda\",\n",
    "    \"lr\": 0.0001,\n",
    "    \"batch_size\": 128,\n",
    "    \"normalize_source\": False,\n",
    "    \"normalize_target\": False,\n",
    "    \"num_examples_per_domain_per_label_source\": -1,\n",
    "    \"num_examples_per_domain_per_label_target\": -1,\n",
    "    \"torch_default_dtype\": \"torch.float32\",\n",
    "    \"n_epoch\": 50,\n",
    "    \"patience\": 3,\n",
    "    \"criteria_for_best\": \"target_accuracy\",\n",
    "    \"x_net\": [\n",
    "        {\"class\": \"nnReshape\", \"kargs\": {\"shape\": [-1, 1, 2, 256]}},\n",
    "        {\n",
    "            \"class\": \"Conv2d\",\n",
    "            \"kargs\": {\n",
    "                \"in_channels\": 1,\n",
    "                \"out_channels\": 256,\n",
    "                \"kernel_size\": [1, 7],\n",
    "                \"bias\": False,\n",
    "                \"padding\": [0, 3],\n",
    "            },\n",
    "        },\n",
    "        {\"class\": \"ReLU\", \"kargs\": {\"inplace\": True}},\n",
    "        {\"class\": \"BatchNorm2d\", \"kargs\": {\"num_features\": 256}},\n",
    "        {\n",
    "            \"class\": \"Conv2d\",\n",
    "            \"kargs\": {\n",
    "                \"in_channels\": 256,\n",
    "                \"out_channels\": 80,\n",
    "                \"kernel_size\": [2, 7],\n",
    "                \"bias\": True,\n",
    "                \"padding\": [0, 3],\n",
    "            },\n",
    "        },\n",
    "        {\"class\": \"ReLU\", \"kargs\": {\"inplace\": True}},\n",
    "        {\"class\": \"BatchNorm2d\", \"kargs\": {\"num_features\": 80}},\n",
    "        {\"class\": \"Flatten\", \"kargs\": {}},\n",
    "        {\"class\": \"Linear\", \"kargs\": {\"in_features\": 20480, \"out_features\": 256}},\n",
    "        {\"class\": \"ReLU\", \"kargs\": {\"inplace\": True}},\n",
    "        {\"class\": \"BatchNorm1d\", \"kargs\": {\"num_features\": 256}},\n",
    "        {\"class\": \"Linear\", \"kargs\": {\"in_features\": 256, \"out_features\": 16}},\n",
    "    ],\n",
    "    \"NUM_LOGS_PER_EPOCH\": 10,\n",
    "    \"BEST_MODEL_PATH\": \"./best_model.pth\",\n",
    "    \"dataset_seed\": 420,\n",
    "    \"seed\": 420,\n",
    "}\n"
   ]
  },
  {
   "cell_type": "code",
   "execution_count": 5,
   "id": "759b56ec",
   "metadata": {
    "execution": {
     "iopub.execute_input": "2022-03-26T23:18:55.593932Z",
     "iopub.status.busy": "2022-03-26T23:18:55.593359Z",
     "iopub.status.idle": "2022-03-26T23:18:55.596476Z",
     "shell.execute_reply": "2022-03-26T23:18:55.595996Z"
    },
    "papermill": {
     "duration": 0.024556,
     "end_time": "2022-03-26T23:18:55.596583",
     "exception": false,
     "start_time": "2022-03-26T23:18:55.572027",
     "status": "completed"
    },
    "tags": []
   },
   "outputs": [],
   "source": [
    "# Set this to True if you want to run this template directly\n",
    "STANDALONE = False\n",
    "if STANDALONE:\n",
    "    print(\"parameters not injected, running with standalone_parameters\")\n",
    "    parameters = standalone_parameters\n",
    "\n",
    "if not 'parameters' in locals() and not 'parameters' in globals():\n",
    "    raise Exception(\"Parameter injection failed\")\n",
    "\n",
    "#Use an easy dict for all the parameters\n",
    "p = EasyDict(parameters)\n",
    "\n",
    "supplied_keys = set(p.keys())\n",
    "\n",
    "if  supplied_keys != required_parameters:\n",
    "    print(\"Parameters are incorrect\")\n",
    "    if len(supplied_keys - required_parameters)>0: print(\"Shouldn't have:\", str(supplied_keys - required_parameters))\n",
    "    if len(required_parameters - supplied_keys)>0: print(\"Need to have:\", str(required_parameters - supplied_keys))\n",
    "    raise RuntimeError(\"Parameters are incorrect\")\n",
    "\n"
   ]
  },
  {
   "cell_type": "code",
   "execution_count": 6,
   "id": "d5c66a71",
   "metadata": {
    "execution": {
     "iopub.execute_input": "2022-03-26T23:18:55.633278Z",
     "iopub.status.busy": "2022-03-26T23:18:55.632910Z",
     "iopub.status.idle": "2022-03-26T23:18:55.637590Z",
     "shell.execute_reply": "2022-03-26T23:18:55.636783Z"
    },
    "papermill": {
     "duration": 0.023329,
     "end_time": "2022-03-26T23:18:55.637751",
     "exception": false,
     "start_time": "2022-03-26T23:18:55.614422",
     "status": "completed"
    },
    "tags": []
   },
   "outputs": [],
   "source": [
    "###################################\n",
    "# Set the RNGs and make it all deterministic\n",
    "###################################\n",
    "np.random.seed(p.seed)\n",
    "random.seed(p.seed)\n",
    "torch.manual_seed(p.seed)\n",
    "\n",
    "torch.use_deterministic_algorithms(True) "
   ]
  },
  {
   "cell_type": "code",
   "execution_count": 7,
   "id": "92a65876",
   "metadata": {
    "execution": {
     "iopub.execute_input": "2022-03-26T23:18:55.677314Z",
     "iopub.status.busy": "2022-03-26T23:18:55.676671Z",
     "iopub.status.idle": "2022-03-26T23:18:55.679037Z",
     "shell.execute_reply": "2022-03-26T23:18:55.679552Z"
    },
    "papermill": {
     "duration": 0.022107,
     "end_time": "2022-03-26T23:18:55.679735",
     "exception": false,
     "start_time": "2022-03-26T23:18:55.657628",
     "status": "completed"
    },
    "tags": []
   },
   "outputs": [],
   "source": [
    "torch.set_default_dtype(eval(p.torch_default_dtype))"
   ]
  },
  {
   "cell_type": "code",
   "execution_count": 8,
   "id": "f1a32f01",
   "metadata": {
    "execution": {
     "iopub.execute_input": "2022-03-26T23:18:55.717112Z",
     "iopub.status.busy": "2022-03-26T23:18:55.716736Z",
     "iopub.status.idle": "2022-03-26T23:18:55.759015Z",
     "shell.execute_reply": "2022-03-26T23:18:55.758226Z"
    },
    "papermill": {
     "duration": 0.061064,
     "end_time": "2022-03-26T23:18:55.759194",
     "exception": false,
     "start_time": "2022-03-26T23:18:55.698130",
     "status": "completed"
    },
    "tags": []
   },
   "outputs": [],
   "source": [
    "###################################\n",
    "# Build the network(s)\n",
    "# Note: It's critical to do this AFTER setting the RNG\n",
    "###################################\n",
    "x_net = build_sequential(p.x_net)"
   ]
  },
  {
   "cell_type": "code",
   "execution_count": 9,
   "id": "a276cd83",
   "metadata": {
    "execution": {
     "iopub.execute_input": "2022-03-26T23:18:55.797088Z",
     "iopub.status.busy": "2022-03-26T23:18:55.796719Z",
     "iopub.status.idle": "2022-03-26T23:18:55.799249Z",
     "shell.execute_reply": "2022-03-26T23:18:55.798876Z"
    },
    "papermill": {
     "duration": 0.020565,
     "end_time": "2022-03-26T23:18:55.799331",
     "exception": false,
     "start_time": "2022-03-26T23:18:55.778766",
     "status": "completed"
    },
    "tags": []
   },
   "outputs": [],
   "source": [
    "start_time_secs = time.time()"
   ]
  },
  {
   "cell_type": "code",
   "execution_count": 10,
   "id": "de702e48",
   "metadata": {
    "execution": {
     "iopub.execute_input": "2022-03-26T23:18:55.845601Z",
     "iopub.status.busy": "2022-03-26T23:18:55.844735Z",
     "iopub.status.idle": "2022-03-26T23:19:32.548318Z",
     "shell.execute_reply": "2022-03-26T23:19:32.547500Z"
    },
    "papermill": {
     "duration": 36.731087,
     "end_time": "2022-03-26T23:19:32.548506",
     "exception": false,
     "start_time": "2022-03-26T23:18:55.817419",
     "status": "completed"
    },
    "tags": []
   },
   "outputs": [],
   "source": [
    "def wrap_in_dataloader(p, ds):\n",
    "    return torch.utils.data.DataLoader(\n",
    "        ds,\n",
    "        batch_size=p.batch_size,\n",
    "        shuffle=True,\n",
    "        num_workers=1,\n",
    "        persistent_workers=True,\n",
    "        prefetch_factor=50,\n",
    "        pin_memory=True\n",
    "    )\n",
    "\n",
    "taf_source = Traditional_Accessor_Factory(\n",
    "    labels=p.labels,\n",
    "    domains=p.domains_source,\n",
    "    num_examples_per_domain_per_label=p.num_examples_per_domain_per_label_source,\n",
    "    pickle_path=os.path.join(get_datasets_base_path(), p.pickle_name_source),\n",
    "    seed=p.dataset_seed\n",
    ")\n",
    "train_original_source, val_original_source, test_original_source = \\\n",
    "    taf_source.get_train(), taf_source.get_val(), taf_source.get_test()\n",
    "\n",
    "\n",
    "taf_target = Traditional_Accessor_Factory(\n",
    "    labels=p.labels,\n",
    "    domains=p.domains_target,\n",
    "    num_examples_per_domain_per_label=p.num_examples_per_domain_per_label_source,\n",
    "    pickle_path=os.path.join(get_datasets_base_path(), p.pickle_name_target),\n",
    "    seed=p.dataset_seed\n",
    ")\n",
    "train_original_target, val_original_target, test_original_target = \\\n",
    "    taf_target.get_train(), taf_target.get_val(), taf_target.get_test()\n",
    "\n",
    "\n",
    "# For CNN We only use X and Y. And we only train on the source.\n",
    "# Properly form the data using a transform lambda and Lazy_Map. Finally wrap them in a dataloader\n",
    "\n",
    "transform_lambda = lambda ex: ex[:2] # Strip the tuple to just (x,y)\n",
    "\n",
    "\n",
    "train_processed_source = wrap_in_dataloader(\n",
    "    p,\n",
    "    Lazy_Map(train_original_source, transform_lambda)\n",
    ")\n",
    "val_processed_source = wrap_in_dataloader(\n",
    "    p,\n",
    "    Lazy_Map(val_original_source, transform_lambda)\n",
    ")\n",
    "test_processed_source = wrap_in_dataloader(\n",
    "    p,\n",
    "    Lazy_Map(test_original_source, transform_lambda)\n",
    ")\n",
    "\n",
    "train_processed_target = wrap_in_dataloader(\n",
    "    p,\n",
    "    Lazy_Map(train_original_target, transform_lambda)\n",
    ")\n",
    "val_processed_target = wrap_in_dataloader(\n",
    "    p,\n",
    "    Lazy_Map(val_original_target, transform_lambda)\n",
    ")\n",
    "test_processed_target  = wrap_in_dataloader(\n",
    "    p,\n",
    "    Lazy_Map(test_original_target, transform_lambda)\n",
    ")\n",
    "\n",
    "\n",
    "\n",
    "datasets = EasyDict({\n",
    "    \"source\": {\n",
    "        \"original\": {\"train\":train_original_source, \"val\":val_original_source, \"test\":test_original_source},\n",
    "        \"processed\": {\"train\":train_processed_source, \"val\":val_processed_source, \"test\":test_processed_source}\n",
    "    },\n",
    "    \"target\": {\n",
    "        \"original\": {\"train\":train_original_target, \"val\":val_original_target, \"test\":test_original_target},\n",
    "        \"processed\": {\"train\":train_processed_target, \"val\":val_processed_target, \"test\":test_processed_target}\n",
    "    },\n",
    "})"
   ]
  },
  {
   "cell_type": "code",
   "execution_count": 11,
   "id": "a11b26bd",
   "metadata": {
    "execution": {
     "iopub.execute_input": "2022-03-26T23:19:32.626018Z",
     "iopub.status.busy": "2022-03-26T23:19:32.625171Z",
     "iopub.status.idle": "2022-03-26T23:19:38.077493Z",
     "shell.execute_reply": "2022-03-26T23:19:38.076743Z"
    },
    "papermill": {
     "duration": 5.510168,
     "end_time": "2022-03-26T23:19:38.077683",
     "exception": false,
     "start_time": "2022-03-26T23:19:32.567515",
     "status": "completed"
    },
    "tags": []
   },
   "outputs": [
    {
     "data": {
      "text/plain": [
       "torch.float32"
      ]
     },
     "execution_count": 11,
     "metadata": {},
     "output_type": "execute_result"
    }
   ],
   "source": [
    "ep = next(iter(test_processed_target))\n",
    "ep[0].dtype"
   ]
  },
  {
   "cell_type": "code",
   "execution_count": 12,
   "id": "19425fad",
   "metadata": {
    "execution": {
     "iopub.execute_input": "2022-03-26T23:19:38.122028Z",
     "iopub.status.busy": "2022-03-26T23:19:38.121660Z",
     "iopub.status.idle": "2022-03-26T23:19:38.168822Z",
     "shell.execute_reply": "2022-03-26T23:19:38.169495Z"
    },
    "papermill": {
     "duration": 0.069189,
     "end_time": "2022-03-26T23:19:38.169680",
     "exception": false,
     "start_time": "2022-03-26T23:19:38.100491",
     "status": "completed"
    },
    "tags": []
   },
   "outputs": [],
   "source": [
    "model = Configurable_Vanilla(\n",
    "    x_net=x_net,\n",
    "    label_loss_object=torch.nn.NLLLoss(),\n",
    "    learning_rate=p.lr\n",
    ")"
   ]
  },
  {
   "cell_type": "code",
   "execution_count": 13,
   "id": "7f6d4f2c",
   "metadata": {
    "execution": {
     "iopub.execute_input": "2022-03-26T23:19:38.214854Z",
     "iopub.status.busy": "2022-03-26T23:19:38.214481Z",
     "iopub.status.idle": "2022-03-26T23:44:51.569890Z",
     "shell.execute_reply": "2022-03-26T23:44:51.569491Z"
    },
    "papermill": {
     "duration": 1513.377897,
     "end_time": "2022-03-26T23:44:51.569980",
     "exception": false,
     "start_time": "2022-03-26T23:19:38.192083",
     "status": "completed"
    },
    "tags": []
   },
   "outputs": [
    {
     "name": "stdout",
     "output_type": "stream",
     "text": [
      "epoch: 1, [batch: 1 / 7000], examples_per_second: 353.5994, train_label_loss: 2.7753, \n"
     ]
    },
    {
     "name": "stdout",
     "output_type": "stream",
     "text": [
      "epoch: 1, [batch: 700 / 7000], examples_per_second: 12549.7992, train_label_loss: 2.6066, \n"
     ]
    },
    {
     "name": "stdout",
     "output_type": "stream",
     "text": [
      "epoch: 1, [batch: 1400 / 7000], examples_per_second: 12414.3546, train_label_loss: 2.4976, \n"
     ]
    },
    {
     "name": "stdout",
     "output_type": "stream",
     "text": [
      "epoch: 1, [batch: 2100 / 7000], examples_per_second: 12266.8398, train_label_loss: 2.2867, \n"
     ]
    },
    {
     "name": "stdout",
     "output_type": "stream",
     "text": [
      "epoch: 1, [batch: 2800 / 7000], examples_per_second: 12424.0477, train_label_loss: 2.0016, \n"
     ]
    },
    {
     "name": "stdout",
     "output_type": "stream",
     "text": [
      "epoch: 1, [batch: 3500 / 7000], examples_per_second: 12459.7225, train_label_loss: 1.9137, \n"
     ]
    },
    {
     "name": "stdout",
     "output_type": "stream",
     "text": [
      "epoch: 1, [batch: 4200 / 7000], examples_per_second: 12097.3891, train_label_loss: 1.8101, \n"
     ]
    },
    {
     "name": "stdout",
     "output_type": "stream",
     "text": [
      "epoch: 1, [batch: 4900 / 7000], examples_per_second: 12277.0281, train_label_loss: 1.4886, \n"
     ]
    },
    {
     "name": "stdout",
     "output_type": "stream",
     "text": [
      "epoch: 1, [batch: 5600 / 7000], examples_per_second: 12313.0548, train_label_loss: 1.4904, \n"
     ]
    },
    {
     "name": "stdout",
     "output_type": "stream",
     "text": [
      "epoch: 1, [batch: 6300 / 7000], examples_per_second: 12269.8035, train_label_loss: 1.3032, \n"
     ]
    },
    {
     "name": "stdout",
     "output_type": "stream",
     "text": [
      "=============================================================\n",
      "epoch: 1, source_val_acc_label: 0.5824, source_val_label_loss: 1.2751, target_val_acc_label: 0.5824, target_val_label_loss: 1.2751, \n",
      "=============================================================\n"
     ]
    },
    {
     "name": "stdout",
     "output_type": "stream",
     "text": [
      "New best\n",
      "epoch: 2, [batch: 1 / 7000], examples_per_second: 13.3468, train_label_loss: 1.5375, \n"
     ]
    },
    {
     "name": "stdout",
     "output_type": "stream",
     "text": [
      "epoch: 2, [batch: 700 / 7000], examples_per_second: 12389.8114, train_label_loss: 1.2726, \n"
     ]
    },
    {
     "name": "stdout",
     "output_type": "stream",
     "text": [
      "epoch: 2, [batch: 1400 / 7000], examples_per_second: 12258.9473, train_label_loss: 1.3734, \n"
     ]
    },
    {
     "name": "stdout",
     "output_type": "stream",
     "text": [
      "epoch: 2, [batch: 2100 / 7000], examples_per_second: 12236.4215, train_label_loss: 1.0145, \n"
     ]
    },
    {
     "name": "stdout",
     "output_type": "stream",
     "text": [
      "epoch: 2, [batch: 2800 / 7000], examples_per_second: 12325.0114, train_label_loss: 1.0663, \n"
     ]
    },
    {
     "name": "stdout",
     "output_type": "stream",
     "text": [
      "epoch: 2, [batch: 3500 / 7000], examples_per_second: 12677.8869, train_label_loss: 1.3900, \n"
     ]
    },
    {
     "name": "stdout",
     "output_type": "stream",
     "text": [
      "epoch: 2, [batch: 4200 / 7000], examples_per_second: 13706.6813, train_label_loss: 1.0498, \n"
     ]
    },
    {
     "name": "stdout",
     "output_type": "stream",
     "text": [
      "epoch: 2, [batch: 4900 / 7000], examples_per_second: 13814.5445, train_label_loss: 0.9634, \n"
     ]
    },
    {
     "name": "stdout",
     "output_type": "stream",
     "text": [
      "epoch: 2, [batch: 5600 / 7000], examples_per_second: 13749.7198, train_label_loss: 1.0597, \n"
     ]
    },
    {
     "name": "stdout",
     "output_type": "stream",
     "text": [
      "epoch: 2, [batch: 6300 / 7000], examples_per_second: 14161.8344, train_label_loss: 0.8787, \n"
     ]
    },
    {
     "name": "stdout",
     "output_type": "stream",
     "text": [
      "=============================================================\n",
      "epoch: 2, source_val_acc_label: 0.6639, source_val_label_loss: 0.9568, target_val_acc_label: 0.6639, target_val_label_loss: 0.9568, \n",
      "=============================================================\n"
     ]
    },
    {
     "name": "stdout",
     "output_type": "stream",
     "text": [
      "New best\n",
      "epoch: 3, [batch: 1 / 7000], examples_per_second: 15.8431, train_label_loss: 0.9808, \n"
     ]
    },
    {
     "name": "stdout",
     "output_type": "stream",
     "text": [
      "epoch: 3, [batch: 700 / 7000], examples_per_second: 14256.9306, train_label_loss: 0.9589, \n"
     ]
    },
    {
     "name": "stdout",
     "output_type": "stream",
     "text": [
      "epoch: 3, [batch: 1400 / 7000], examples_per_second: 13762.5190, train_label_loss: 0.9113, \n"
     ]
    },
    {
     "name": "stdout",
     "output_type": "stream",
     "text": [
      "epoch: 3, [batch: 2100 / 7000], examples_per_second: 11865.7253, train_label_loss: 0.9655, \n"
     ]
    },
    {
     "name": "stdout",
     "output_type": "stream",
     "text": [
      "epoch: 3, [batch: 2800 / 7000], examples_per_second: 11483.6884, train_label_loss: 0.8632, \n"
     ]
    },
    {
     "name": "stdout",
     "output_type": "stream",
     "text": [
      "epoch: 3, [batch: 3500 / 7000], examples_per_second: 11671.8771, train_label_loss: 0.7128, \n"
     ]
    },
    {
     "name": "stdout",
     "output_type": "stream",
     "text": [
      "epoch: 3, [batch: 4200 / 7000], examples_per_second: 11467.5156, train_label_loss: 0.7402, \n"
     ]
    },
    {
     "name": "stdout",
     "output_type": "stream",
     "text": [
      "epoch: 3, [batch: 4900 / 7000], examples_per_second: 11559.2004, train_label_loss: 1.1373, \n"
     ]
    },
    {
     "name": "stdout",
     "output_type": "stream",
     "text": [
      "epoch: 3, [batch: 5600 / 7000], examples_per_second: 11522.1130, train_label_loss: 1.1478, \n"
     ]
    },
    {
     "name": "stdout",
     "output_type": "stream",
     "text": [
      "epoch: 3, [batch: 6300 / 7000], examples_per_second: 11583.7570, train_label_loss: 0.9929, \n"
     ]
    },
    {
     "name": "stdout",
     "output_type": "stream",
     "text": [
      "=============================================================\n",
      "epoch: 3, source_val_acc_label: 0.7202, source_val_label_loss: 0.7830, target_val_acc_label: 0.7202, target_val_label_loss: 0.7830, \n",
      "=============================================================\n"
     ]
    },
    {
     "name": "stdout",
     "output_type": "stream",
     "text": [
      "New best\n",
      "epoch: 4, [batch: 1 / 7000], examples_per_second: 13.0383, train_label_loss: 0.9206, \n"
     ]
    },
    {
     "name": "stdout",
     "output_type": "stream",
     "text": [
      "epoch: 4, [batch: 700 / 7000], examples_per_second: 11531.8357, train_label_loss: 0.7569, \n"
     ]
    },
    {
     "name": "stdout",
     "output_type": "stream",
     "text": [
      "epoch: 4, [batch: 1400 / 7000], examples_per_second: 11575.9254, train_label_loss: 0.8218, \n"
     ]
    },
    {
     "name": "stdout",
     "output_type": "stream",
     "text": [
      "epoch: 4, [batch: 2100 / 7000], examples_per_second: 11514.2830, train_label_loss: 0.7833, \n"
     ]
    },
    {
     "name": "stdout",
     "output_type": "stream",
     "text": [
      "epoch: 4, [batch: 2800 / 7000], examples_per_second: 11526.7313, train_label_loss: 0.6987, \n"
     ]
    },
    {
     "name": "stdout",
     "output_type": "stream",
     "text": [
      "epoch: 4, [batch: 3500 / 7000], examples_per_second: 11595.0562, train_label_loss: 0.7153, \n"
     ]
    },
    {
     "name": "stdout",
     "output_type": "stream",
     "text": [
      "epoch: 4, [batch: 4200 / 7000], examples_per_second: 11533.3913, train_label_loss: 0.6958, \n"
     ]
    },
    {
     "name": "stdout",
     "output_type": "stream",
     "text": [
      "epoch: 4, [batch: 4900 / 7000], examples_per_second: 11561.3241, train_label_loss: 0.5647, \n"
     ]
    },
    {
     "name": "stdout",
     "output_type": "stream",
     "text": [
      "epoch: 4, [batch: 5600 / 7000], examples_per_second: 11665.1959, train_label_loss: 0.5835, \n"
     ]
    },
    {
     "name": "stdout",
     "output_type": "stream",
     "text": [
      "epoch: 4, [batch: 6300 / 7000], examples_per_second: 11445.2623, train_label_loss: 0.6878, \n"
     ]
    },
    {
     "name": "stdout",
     "output_type": "stream",
     "text": [
      "=============================================================\n",
      "epoch: 4, source_val_acc_label: 0.7584, source_val_label_loss: 0.6679, target_val_acc_label: 0.7584, target_val_label_loss: 0.6679, \n",
      "=============================================================\n"
     ]
    },
    {
     "name": "stdout",
     "output_type": "stream",
     "text": [
      "New best\n",
      "epoch: 5, [batch: 1 / 7000], examples_per_second: 12.9524, train_label_loss: 0.6810, \n"
     ]
    },
    {
     "name": "stdout",
     "output_type": "stream",
     "text": [
      "epoch: 5, [batch: 700 / 7000], examples_per_second: 11616.9741, train_label_loss: 0.8132, \n"
     ]
    },
    {
     "name": "stdout",
     "output_type": "stream",
     "text": [
      "epoch: 5, [batch: 1400 / 7000], examples_per_second: 11684.8172, train_label_loss: 0.5465, \n"
     ]
    },
    {
     "name": "stdout",
     "output_type": "stream",
     "text": [
      "epoch: 5, [batch: 2100 / 7000], examples_per_second: 11598.2152, train_label_loss: 0.6801, \n"
     ]
    },
    {
     "name": "stdout",
     "output_type": "stream",
     "text": [
      "epoch: 5, [batch: 2800 / 7000], examples_per_second: 11637.8450, train_label_loss: 0.4506, \n"
     ]
    },
    {
     "name": "stdout",
     "output_type": "stream",
     "text": [
      "epoch: 5, [batch: 3500 / 7000], examples_per_second: 11641.7739, train_label_loss: 0.5919, \n"
     ]
    },
    {
     "name": "stdout",
     "output_type": "stream",
     "text": [
      "epoch: 5, [batch: 4200 / 7000], examples_per_second: 11567.1825, train_label_loss: 0.4912, \n"
     ]
    },
    {
     "name": "stdout",
     "output_type": "stream",
     "text": [
      "epoch: 5, [batch: 4900 / 7000], examples_per_second: 11576.3151, train_label_loss: 0.7947, \n"
     ]
    },
    {
     "name": "stdout",
     "output_type": "stream",
     "text": [
      "epoch: 5, [batch: 5600 / 7000], examples_per_second: 11577.2605, train_label_loss: 0.6921, \n"
     ]
    },
    {
     "name": "stdout",
     "output_type": "stream",
     "text": [
      "epoch: 5, [batch: 6300 / 7000], examples_per_second: 11598.7805, train_label_loss: 0.6120, \n"
     ]
    },
    {
     "name": "stdout",
     "output_type": "stream",
     "text": [
      "=============================================================\n",
      "epoch: 5, source_val_acc_label: 0.7474, source_val_label_loss: 0.6846, target_val_acc_label: 0.7474, target_val_label_loss: 0.6846, \n",
      "=============================================================\n"
     ]
    },
    {
     "name": "stdout",
     "output_type": "stream",
     "text": [
      "epoch: 6, [batch: 1 / 7000], examples_per_second: 12.9221, train_label_loss: 0.4373, \n"
     ]
    },
    {
     "name": "stdout",
     "output_type": "stream",
     "text": [
      "epoch: 6, [batch: 700 / 7000], examples_per_second: 11639.4669, train_label_loss: 0.5366, \n"
     ]
    },
    {
     "name": "stdout",
     "output_type": "stream",
     "text": [
      "epoch: 6, [batch: 1400 / 7000], examples_per_second: 13068.4005, train_label_loss: 0.3401, \n"
     ]
    },
    {
     "name": "stdout",
     "output_type": "stream",
     "text": [
      "epoch: 6, [batch: 2100 / 7000], examples_per_second: 13950.1662, train_label_loss: 0.5390, \n"
     ]
    },
    {
     "name": "stdout",
     "output_type": "stream",
     "text": [
      "epoch: 6, [batch: 2800 / 7000], examples_per_second: 13845.6382, train_label_loss: 0.4296, \n"
     ]
    },
    {
     "name": "stdout",
     "output_type": "stream",
     "text": [
      "epoch: 6, [batch: 3500 / 7000], examples_per_second: 13796.0771, train_label_loss: 0.6519, \n"
     ]
    },
    {
     "name": "stdout",
     "output_type": "stream",
     "text": [
      "epoch: 6, [batch: 4200 / 7000], examples_per_second: 14434.0985, train_label_loss: 0.5769, \n"
     ]
    },
    {
     "name": "stdout",
     "output_type": "stream",
     "text": [
      "epoch: 6, [batch: 4900 / 7000], examples_per_second: 13850.4206, train_label_loss: 0.5711, \n"
     ]
    },
    {
     "name": "stdout",
     "output_type": "stream",
     "text": [
      "epoch: 6, [batch: 5600 / 7000], examples_per_second: 13885.8185, train_label_loss: 0.5012, \n"
     ]
    },
    {
     "name": "stdout",
     "output_type": "stream",
     "text": [
      "epoch: 6, [batch: 6300 / 7000], examples_per_second: 13852.4443, train_label_loss: 0.5194, \n"
     ]
    },
    {
     "name": "stdout",
     "output_type": "stream",
     "text": [
      "=============================================================\n",
      "epoch: 6, source_val_acc_label: 0.7739, source_val_label_loss: 0.6209, target_val_acc_label: 0.7739, target_val_label_loss: 0.6209, \n",
      "=============================================================\n"
     ]
    },
    {
     "name": "stdout",
     "output_type": "stream",
     "text": [
      "New best\n",
      "epoch: 7, [batch: 1 / 7000], examples_per_second: 16.0511, train_label_loss: 0.5954, \n"
     ]
    },
    {
     "name": "stdout",
     "output_type": "stream",
     "text": [
      "epoch: 7, [batch: 700 / 7000], examples_per_second: 12545.2397, train_label_loss: 0.4085, \n"
     ]
    },
    {
     "name": "stdout",
     "output_type": "stream",
     "text": [
      "epoch: 7, [batch: 1400 / 7000], examples_per_second: 12506.2576, train_label_loss: 0.4487, \n"
     ]
    },
    {
     "name": "stdout",
     "output_type": "stream",
     "text": [
      "epoch: 7, [batch: 2100 / 7000], examples_per_second: 12280.1247, train_label_loss: 0.5214, \n"
     ]
    },
    {
     "name": "stdout",
     "output_type": "stream",
     "text": [
      "epoch: 7, [batch: 2800 / 7000], examples_per_second: 12002.2921, train_label_loss: 0.4588, \n"
     ]
    },
    {
     "name": "stdout",
     "output_type": "stream",
     "text": [
      "epoch: 7, [batch: 3500 / 7000], examples_per_second: 12451.0259, train_label_loss: 0.4037, \n"
     ]
    },
    {
     "name": "stdout",
     "output_type": "stream",
     "text": [
      "epoch: 7, [batch: 4200 / 7000], examples_per_second: 12313.8742, train_label_loss: 0.7331, \n"
     ]
    },
    {
     "name": "stdout",
     "output_type": "stream",
     "text": [
      "epoch: 7, [batch: 4900 / 7000], examples_per_second: 12411.9453, train_label_loss: 0.4114, \n"
     ]
    },
    {
     "name": "stdout",
     "output_type": "stream",
     "text": [
      "epoch: 7, [batch: 5600 / 7000], examples_per_second: 12475.8652, train_label_loss: 0.4503, \n"
     ]
    },
    {
     "name": "stdout",
     "output_type": "stream",
     "text": [
      "epoch: 7, [batch: 6300 / 7000], examples_per_second: 12483.2777, train_label_loss: 0.4980, \n"
     ]
    },
    {
     "name": "stdout",
     "output_type": "stream",
     "text": [
      "=============================================================\n",
      "epoch: 7, source_val_acc_label: 0.7742, source_val_label_loss: 0.6218, target_val_acc_label: 0.7742, target_val_label_loss: 0.6218, \n",
      "=============================================================\n"
     ]
    },
    {
     "name": "stdout",
     "output_type": "stream",
     "text": [
      "New best\n",
      "epoch: 8, [batch: 1 / 7000], examples_per_second: 13.8070, train_label_loss: 0.4124, \n"
     ]
    },
    {
     "name": "stdout",
     "output_type": "stream",
     "text": [
      "epoch: 8, [batch: 700 / 7000], examples_per_second: 12328.5481, train_label_loss: 0.3875, \n"
     ]
    },
    {
     "name": "stdout",
     "output_type": "stream",
     "text": [
      "epoch: 8, [batch: 1400 / 7000], examples_per_second: 12363.1681, train_label_loss: 0.6581, \n"
     ]
    },
    {
     "name": "stdout",
     "output_type": "stream",
     "text": [
      "epoch: 8, [batch: 2100 / 7000], examples_per_second: 12361.7810, train_label_loss: 0.2681, \n"
     ]
    },
    {
     "name": "stdout",
     "output_type": "stream",
     "text": [
      "epoch: 8, [batch: 2800 / 7000], examples_per_second: 12407.9682, train_label_loss: 0.5264, \n"
     ]
    },
    {
     "name": "stdout",
     "output_type": "stream",
     "text": [
      "epoch: 8, [batch: 3500 / 7000], examples_per_second: 12439.0476, train_label_loss: 0.4784, \n"
     ]
    },
    {
     "name": "stdout",
     "output_type": "stream",
     "text": [
      "epoch: 8, [batch: 4200 / 7000], examples_per_second: 12375.7383, train_label_loss: 0.4215, \n"
     ]
    },
    {
     "name": "stdout",
     "output_type": "stream",
     "text": [
      "epoch: 8, [batch: 4900 / 7000], examples_per_second: 12354.4856, train_label_loss: 0.4022, \n"
     ]
    },
    {
     "name": "stdout",
     "output_type": "stream",
     "text": [
      "epoch: 8, [batch: 5600 / 7000], examples_per_second: 12218.3385, train_label_loss: 0.4404, \n"
     ]
    },
    {
     "name": "stdout",
     "output_type": "stream",
     "text": [
      "epoch: 8, [batch: 6300 / 7000], examples_per_second: 12415.6797, train_label_loss: 0.3519, \n"
     ]
    },
    {
     "name": "stdout",
     "output_type": "stream",
     "text": [
      "=============================================================\n",
      "epoch: 8, source_val_acc_label: 0.7749, source_val_label_loss: 0.6244, target_val_acc_label: 0.7749, target_val_label_loss: 0.6244, \n",
      "=============================================================\n"
     ]
    },
    {
     "name": "stdout",
     "output_type": "stream",
     "text": [
      "New best\n",
      "epoch: 9, [batch: 1 / 7000], examples_per_second: 12.3687, train_label_loss: 0.3305, \n"
     ]
    },
    {
     "name": "stdout",
     "output_type": "stream",
     "text": [
      "epoch: 9, [batch: 700 / 7000], examples_per_second: 10607.3002, train_label_loss: 0.3533, \n"
     ]
    },
    {
     "name": "stdout",
     "output_type": "stream",
     "text": [
      "epoch: 9, [batch: 1400 / 7000], examples_per_second: 10590.0179, train_label_loss: 0.3895, \n"
     ]
    },
    {
     "name": "stdout",
     "output_type": "stream",
     "text": [
      "epoch: 9, [batch: 2100 / 7000], examples_per_second: 10609.6331, train_label_loss: 0.4418, \n"
     ]
    },
    {
     "name": "stdout",
     "output_type": "stream",
     "text": [
      "epoch: 9, [batch: 2800 / 7000], examples_per_second: 10607.7204, train_label_loss: 0.3737, \n"
     ]
    },
    {
     "name": "stdout",
     "output_type": "stream",
     "text": [
      "epoch: 9, [batch: 3500 / 7000], examples_per_second: 10565.0551, train_label_loss: 0.3723, \n"
     ]
    },
    {
     "name": "stdout",
     "output_type": "stream",
     "text": [
      "epoch: 9, [batch: 4200 / 7000], examples_per_second: 10593.2257, train_label_loss: 0.4986, \n"
     ]
    },
    {
     "name": "stdout",
     "output_type": "stream",
     "text": [
      "epoch: 9, [batch: 4900 / 7000], examples_per_second: 11237.3053, train_label_loss: 0.4983, \n"
     ]
    },
    {
     "name": "stdout",
     "output_type": "stream",
     "text": [
      "epoch: 9, [batch: 5600 / 7000], examples_per_second: 11624.1323, train_label_loss: 0.3503, \n"
     ]
    },
    {
     "name": "stdout",
     "output_type": "stream",
     "text": [
      "epoch: 9, [batch: 6300 / 7000], examples_per_second: 11630.5570, train_label_loss: 0.6303, \n"
     ]
    },
    {
     "name": "stdout",
     "output_type": "stream",
     "text": [
      "=============================================================\n",
      "epoch: 9, source_val_acc_label: 0.7582, source_val_label_loss: 0.6837, target_val_acc_label: 0.7582, target_val_label_loss: 0.6837, \n",
      "=============================================================\n"
     ]
    },
    {
     "name": "stdout",
     "output_type": "stream",
     "text": [
      "epoch: 10, [batch: 1 / 7000], examples_per_second: 13.0499, train_label_loss: 0.2915, \n"
     ]
    },
    {
     "name": "stdout",
     "output_type": "stream",
     "text": [
      "epoch: 10, [batch: 700 / 7000], examples_per_second: 11680.4729, train_label_loss: 0.3269, \n"
     ]
    },
    {
     "name": "stdout",
     "output_type": "stream",
     "text": [
      "epoch: 10, [batch: 1400 / 7000], examples_per_second: 11674.8667, train_label_loss: 0.3435, \n"
     ]
    },
    {
     "name": "stdout",
     "output_type": "stream",
     "text": [
      "epoch: 10, [batch: 2100 / 7000], examples_per_second: 11656.3890, train_label_loss: 0.2530, \n"
     ]
    },
    {
     "name": "stdout",
     "output_type": "stream",
     "text": [
      "epoch: 10, [batch: 2800 / 7000], examples_per_second: 11774.0017, train_label_loss: 0.4753, \n"
     ]
    },
    {
     "name": "stdout",
     "output_type": "stream",
     "text": [
      "epoch: 10, [batch: 3500 / 7000], examples_per_second: 11445.5125, train_label_loss: 0.2587, \n"
     ]
    },
    {
     "name": "stdout",
     "output_type": "stream",
     "text": [
      "epoch: 10, [batch: 4200 / 7000], examples_per_second: 10620.4186, train_label_loss: 0.2651, \n"
     ]
    },
    {
     "name": "stdout",
     "output_type": "stream",
     "text": [
      "epoch: 10, [batch: 4900 / 7000], examples_per_second: 10608.8828, train_label_loss: 0.2042, \n"
     ]
    },
    {
     "name": "stdout",
     "output_type": "stream",
     "text": [
      "epoch: 10, [batch: 5600 / 7000], examples_per_second: 10601.4414, train_label_loss: 0.3572, \n"
     ]
    },
    {
     "name": "stdout",
     "output_type": "stream",
     "text": [
      "epoch: 10, [batch: 6300 / 7000], examples_per_second: 10559.2167, train_label_loss: 0.4791, \n"
     ]
    },
    {
     "name": "stdout",
     "output_type": "stream",
     "text": [
      "=============================================================\n",
      "epoch: 10, source_val_acc_label: 0.7695, source_val_label_loss: 0.6538, target_val_acc_label: 0.7695, target_val_label_loss: 0.6538, \n",
      "=============================================================\n"
     ]
    },
    {
     "name": "stdout",
     "output_type": "stream",
     "text": [
      "epoch: 11, [batch: 1 / 7000], examples_per_second: 11.4569, train_label_loss: 0.4538, \n"
     ]
    },
    {
     "name": "stdout",
     "output_type": "stream",
     "text": [
      "epoch: 11, [batch: 700 / 7000], examples_per_second: 10571.7417, train_label_loss: 0.2093, \n"
     ]
    },
    {
     "name": "stdout",
     "output_type": "stream",
     "text": [
      "epoch: 11, [batch: 1400 / 7000], examples_per_second: 10575.5319, train_label_loss: 0.2284, \n"
     ]
    },
    {
     "name": "stdout",
     "output_type": "stream",
     "text": [
      "epoch: 11, [batch: 2100 / 7000], examples_per_second: 10619.9381, train_label_loss: 0.4630, \n"
     ]
    },
    {
     "name": "stdout",
     "output_type": "stream",
     "text": [
      "epoch: 11, [batch: 2800 / 7000], examples_per_second: 10581.5678, train_label_loss: 0.2918, \n"
     ]
    },
    {
     "name": "stdout",
     "output_type": "stream",
     "text": [
      "epoch: 11, [batch: 3500 / 7000], examples_per_second: 10601.5781, train_label_loss: 0.3718, \n"
     ]
    },
    {
     "name": "stdout",
     "output_type": "stream",
     "text": [
      "epoch: 11, [batch: 4200 / 7000], examples_per_second: 10645.3907, train_label_loss: 0.2255, \n"
     ]
    },
    {
     "name": "stdout",
     "output_type": "stream",
     "text": [
      "epoch: 11, [batch: 4900 / 7000], examples_per_second: 10646.7544, train_label_loss: 0.2356, \n"
     ]
    },
    {
     "name": "stdout",
     "output_type": "stream",
     "text": [
      "epoch: 11, [batch: 5600 / 7000], examples_per_second: 10653.4861, train_label_loss: 0.4056, \n"
     ]
    },
    {
     "name": "stdout",
     "output_type": "stream",
     "text": [
      "epoch: 11, [batch: 6300 / 7000], examples_per_second: 10645.9938, train_label_loss: 0.2261, \n"
     ]
    },
    {
     "name": "stdout",
     "output_type": "stream",
     "text": [
      "=============================================================\n",
      "epoch: 11, source_val_acc_label: 0.7786, source_val_label_loss: 0.6382, target_val_acc_label: 0.7786, target_val_label_loss: 0.6382, \n",
      "=============================================================\n"
     ]
    },
    {
     "name": "stdout",
     "output_type": "stream",
     "text": [
      "New best\n",
      "epoch: 12, [batch: 1 / 7000], examples_per_second: 12.7351, train_label_loss: 0.2358, \n"
     ]
    },
    {
     "name": "stdout",
     "output_type": "stream",
     "text": [
      "epoch: 12, [batch: 700 / 7000], examples_per_second: 11709.0485, train_label_loss: 0.2339, \n"
     ]
    },
    {
     "name": "stdout",
     "output_type": "stream",
     "text": [
      "epoch: 12, [batch: 1400 / 7000], examples_per_second: 11710.1675, train_label_loss: 0.3054, \n"
     ]
    },
    {
     "name": "stdout",
     "output_type": "stream",
     "text": [
      "epoch: 12, [batch: 2100 / 7000], examples_per_second: 11782.5341, train_label_loss: 0.1694, \n"
     ]
    },
    {
     "name": "stdout",
     "output_type": "stream",
     "text": [
      "epoch: 12, [batch: 2800 / 7000], examples_per_second: 11713.5805, train_label_loss: 0.1865, \n"
     ]
    },
    {
     "name": "stdout",
     "output_type": "stream",
     "text": [
      "epoch: 12, [batch: 3500 / 7000], examples_per_second: 11696.1249, train_label_loss: 0.4369, \n"
     ]
    },
    {
     "name": "stdout",
     "output_type": "stream",
     "text": [
      "epoch: 12, [batch: 4200 / 7000], examples_per_second: 11696.7532, train_label_loss: 0.2777, \n"
     ]
    },
    {
     "name": "stdout",
     "output_type": "stream",
     "text": [
      "epoch: 12, [batch: 4900 / 7000], examples_per_second: 11716.1181, train_label_loss: 0.2847, \n"
     ]
    },
    {
     "name": "stdout",
     "output_type": "stream",
     "text": [
      "epoch: 12, [batch: 5600 / 7000], examples_per_second: 12196.0078, train_label_loss: 0.2152, \n"
     ]
    },
    {
     "name": "stdout",
     "output_type": "stream",
     "text": [
      "epoch: 12, [batch: 6300 / 7000], examples_per_second: 10672.6387, train_label_loss: 0.3490, \n"
     ]
    },
    {
     "name": "stdout",
     "output_type": "stream",
     "text": [
      "=============================================================\n",
      "epoch: 12, source_val_acc_label: 0.7734, source_val_label_loss: 0.6590, target_val_acc_label: 0.7734, target_val_label_loss: 0.6590, \n",
      "=============================================================\n"
     ]
    },
    {
     "name": "stdout",
     "output_type": "stream",
     "text": [
      "epoch: 13, [batch: 1 / 7000], examples_per_second: 11.5385, train_label_loss: 0.1469, \n"
     ]
    },
    {
     "name": "stdout",
     "output_type": "stream",
     "text": [
      "epoch: 13, [batch: 700 / 7000], examples_per_second: 10664.9306, train_label_loss: 0.2240, \n"
     ]
    },
    {
     "name": "stdout",
     "output_type": "stream",
     "text": [
      "epoch: 13, [batch: 1400 / 7000], examples_per_second: 10675.6771, train_label_loss: 0.4369, \n"
     ]
    },
    {
     "name": "stdout",
     "output_type": "stream",
     "text": [
      "epoch: 13, [batch: 2100 / 7000], examples_per_second: 10662.5740, train_label_loss: 0.1649, \n"
     ]
    },
    {
     "name": "stdout",
     "output_type": "stream",
     "text": [
      "epoch: 13, [batch: 2800 / 7000], examples_per_second: 10939.7416, train_label_loss: 0.2868, \n"
     ]
    },
    {
     "name": "stdout",
     "output_type": "stream",
     "text": [
      "epoch: 13, [batch: 3500 / 7000], examples_per_second: 11697.4930, train_label_loss: 0.3210, \n"
     ]
    },
    {
     "name": "stdout",
     "output_type": "stream",
     "text": [
      "epoch: 13, [batch: 4200 / 7000], examples_per_second: 11629.3106, train_label_loss: 0.2864, \n"
     ]
    },
    {
     "name": "stdout",
     "output_type": "stream",
     "text": [
      "epoch: 13, [batch: 4900 / 7000], examples_per_second: 11657.5471, train_label_loss: 0.1760, \n"
     ]
    },
    {
     "name": "stdout",
     "output_type": "stream",
     "text": [
      "epoch: 13, [batch: 5600 / 7000], examples_per_second: 11705.4568, train_label_loss: 0.3463, \n"
     ]
    },
    {
     "name": "stdout",
     "output_type": "stream",
     "text": [
      "epoch: 13, [batch: 6300 / 7000], examples_per_second: 11749.4681, train_label_loss: 0.2034, \n"
     ]
    },
    {
     "name": "stdout",
     "output_type": "stream",
     "text": [
      "=============================================================\n",
      "epoch: 13, source_val_acc_label: 0.7793, source_val_label_loss: 0.6518, target_val_acc_label: 0.7793, target_val_label_loss: 0.6518, \n",
      "=============================================================\n"
     ]
    },
    {
     "name": "stdout",
     "output_type": "stream",
     "text": [
      "New best\n",
      "epoch: 14, [batch: 1 / 7000], examples_per_second: 12.9723, train_label_loss: 0.1374, \n"
     ]
    },
    {
     "name": "stdout",
     "output_type": "stream",
     "text": [
      "epoch: 14, [batch: 700 / 7000], examples_per_second: 11668.7610, train_label_loss: 0.1367, \n"
     ]
    },
    {
     "name": "stdout",
     "output_type": "stream",
     "text": [
      "epoch: 14, [batch: 1400 / 7000], examples_per_second: 12076.2236, train_label_loss: 0.1562, \n"
     ]
    },
    {
     "name": "stdout",
     "output_type": "stream",
     "text": [
      "epoch: 14, [batch: 2100 / 7000], examples_per_second: 10677.5104, train_label_loss: 0.3329, \n"
     ]
    },
    {
     "name": "stdout",
     "output_type": "stream",
     "text": [
      "epoch: 14, [batch: 2800 / 7000], examples_per_second: 10662.7897, train_label_loss: 0.4660, \n"
     ]
    },
    {
     "name": "stdout",
     "output_type": "stream",
     "text": [
      "epoch: 14, [batch: 3500 / 7000], examples_per_second: 10600.6221, train_label_loss: 0.1900, \n"
     ]
    },
    {
     "name": "stdout",
     "output_type": "stream",
     "text": [
      "epoch: 14, [batch: 4200 / 7000], examples_per_second: 10618.3405, train_label_loss: 0.2067, \n"
     ]
    },
    {
     "name": "stdout",
     "output_type": "stream",
     "text": [
      "epoch: 14, [batch: 4900 / 7000], examples_per_second: 10634.5885, train_label_loss: 0.2073, \n"
     ]
    },
    {
     "name": "stdout",
     "output_type": "stream",
     "text": [
      "epoch: 14, [batch: 5600 / 7000], examples_per_second: 10646.6531, train_label_loss: 0.4490, \n"
     ]
    },
    {
     "name": "stdout",
     "output_type": "stream",
     "text": [
      "epoch: 14, [batch: 6300 / 7000], examples_per_second: 10667.7714, train_label_loss: 0.2525, \n"
     ]
    },
    {
     "name": "stdout",
     "output_type": "stream",
     "text": [
      "=============================================================\n",
      "epoch: 14, source_val_acc_label: 0.7646, source_val_label_loss: 0.7126, target_val_acc_label: 0.7646, target_val_label_loss: 0.7126, \n",
      "=============================================================\n"
     ]
    },
    {
     "name": "stdout",
     "output_type": "stream",
     "text": [
      "epoch: 15, [batch: 1 / 7000], examples_per_second: 11.4816, train_label_loss: 0.2370, \n"
     ]
    },
    {
     "name": "stdout",
     "output_type": "stream",
     "text": [
      "epoch: 15, [batch: 700 / 7000], examples_per_second: 10657.6645, train_label_loss: 0.1078, \n"
     ]
    },
    {
     "name": "stdout",
     "output_type": "stream",
     "text": [
      "epoch: 15, [batch: 1400 / 7000], examples_per_second: 10682.8955, train_label_loss: 0.1938, \n"
     ]
    },
    {
     "name": "stdout",
     "output_type": "stream",
     "text": [
      "epoch: 15, [batch: 2100 / 7000], examples_per_second: 10680.1309, train_label_loss: 0.1956, \n"
     ]
    },
    {
     "name": "stdout",
     "output_type": "stream",
     "text": [
      "epoch: 15, [batch: 2800 / 7000], examples_per_second: 10684.8852, train_label_loss: 0.2890, \n"
     ]
    },
    {
     "name": "stdout",
     "output_type": "stream",
     "text": [
      "epoch: 15, [batch: 3500 / 7000], examples_per_second: 10662.1517, train_label_loss: 0.6849, \n"
     ]
    },
    {
     "name": "stdout",
     "output_type": "stream",
     "text": [
      "epoch: 15, [batch: 4200 / 7000], examples_per_second: 10693.1547, train_label_loss: 0.1847, \n"
     ]
    },
    {
     "name": "stdout",
     "output_type": "stream",
     "text": [
      "epoch: 15, [batch: 4900 / 7000], examples_per_second: 10672.9290, train_label_loss: 0.2259, \n"
     ]
    },
    {
     "name": "stdout",
     "output_type": "stream",
     "text": [
      "epoch: 15, [batch: 5600 / 7000], examples_per_second: 11499.1833, train_label_loss: 0.3506, \n"
     ]
    },
    {
     "name": "stdout",
     "output_type": "stream",
     "text": [
      "epoch: 15, [batch: 6300 / 7000], examples_per_second: 11715.8201, train_label_loss: 0.1579, \n"
     ]
    },
    {
     "name": "stdout",
     "output_type": "stream",
     "text": [
      "=============================================================\n",
      "epoch: 15, source_val_acc_label: 0.7688, source_val_label_loss: 0.7255, target_val_acc_label: 0.7688, target_val_label_loss: 0.7255, \n",
      "=============================================================\n"
     ]
    },
    {
     "name": "stdout",
     "output_type": "stream",
     "text": [
      "epoch: 16, [batch: 1 / 7000], examples_per_second: 13.1577, train_label_loss: 0.1429, \n"
     ]
    },
    {
     "name": "stdout",
     "output_type": "stream",
     "text": [
      "epoch: 16, [batch: 700 / 7000], examples_per_second: 11678.2934, train_label_loss: 0.1358, \n"
     ]
    },
    {
     "name": "stdout",
     "output_type": "stream",
     "text": [
      "epoch: 16, [batch: 1400 / 7000], examples_per_second: 11736.1627, train_label_loss: 0.2222, \n"
     ]
    },
    {
     "name": "stdout",
     "output_type": "stream",
     "text": [
      "epoch: 16, [batch: 2100 / 7000], examples_per_second: 11720.8947, train_label_loss: 0.1323, \n"
     ]
    },
    {
     "name": "stdout",
     "output_type": "stream",
     "text": [
      "epoch: 16, [batch: 2800 / 7000], examples_per_second: 11686.3640, train_label_loss: 0.1597, \n"
     ]
    },
    {
     "name": "stdout",
     "output_type": "stream",
     "text": [
      "epoch: 16, [batch: 3500 / 7000], examples_per_second: 11671.2681, train_label_loss: 0.3181, \n"
     ]
    },
    {
     "name": "stdout",
     "output_type": "stream",
     "text": [
      "epoch: 16, [batch: 4200 / 7000], examples_per_second: 11988.5605, train_label_loss: 0.2348, \n"
     ]
    },
    {
     "name": "stdout",
     "output_type": "stream",
     "text": [
      "epoch: 16, [batch: 4900 / 7000], examples_per_second: 10659.5750, train_label_loss: 0.2140, \n"
     ]
    },
    {
     "name": "stdout",
     "output_type": "stream",
     "text": [
      "epoch: 16, [batch: 5600 / 7000], examples_per_second: 10675.5671, train_label_loss: 0.2163, \n"
     ]
    },
    {
     "name": "stdout",
     "output_type": "stream",
     "text": [
      "epoch: 16, [batch: 6300 / 7000], examples_per_second: 10653.4318, train_label_loss: 0.2361, \n"
     ]
    },
    {
     "name": "stdout",
     "output_type": "stream",
     "text": [
      "=============================================================\n",
      "epoch: 16, source_val_acc_label: 0.7676, source_val_label_loss: 0.7207, target_val_acc_label: 0.7676, target_val_label_loss: 0.7207, \n",
      "=============================================================\n"
     ]
    },
    {
     "name": "stdout",
     "output_type": "stream",
     "text": [
      "epoch: 17, [batch: 1 / 7000], examples_per_second: 11.5977, train_label_loss: 0.1647, \n"
     ]
    },
    {
     "name": "stdout",
     "output_type": "stream",
     "text": [
      "epoch: 17, [batch: 700 / 7000], examples_per_second: 10610.2321, train_label_loss: 0.1313, \n"
     ]
    },
    {
     "name": "stdout",
     "output_type": "stream",
     "text": [
      "epoch: 17, [batch: 1400 / 7000], examples_per_second: 11636.1103, train_label_loss: 0.3159, \n"
     ]
    },
    {
     "name": "stdout",
     "output_type": "stream",
     "text": [
      "epoch: 17, [batch: 2100 / 7000], examples_per_second: 11615.7853, train_label_loss: 0.1670, \n"
     ]
    },
    {
     "name": "stdout",
     "output_type": "stream",
     "text": [
      "epoch: 17, [batch: 2800 / 7000], examples_per_second: 11702.6866, train_label_loss: 0.2183, \n"
     ]
    },
    {
     "name": "stdout",
     "output_type": "stream",
     "text": [
      "epoch: 17, [batch: 3500 / 7000], examples_per_second: 11636.5318, train_label_loss: 0.1703, \n"
     ]
    },
    {
     "name": "stdout",
     "output_type": "stream",
     "text": [
      "epoch: 17, [batch: 4200 / 7000], examples_per_second: 11783.0191, train_label_loss: 0.3531, \n"
     ]
    },
    {
     "name": "stdout",
     "output_type": "stream",
     "text": [
      "epoch: 17, [batch: 4900 / 7000], examples_per_second: 11686.3324, train_label_loss: 0.2684, \n"
     ]
    },
    {
     "name": "stdout",
     "output_type": "stream",
     "text": [
      "epoch: 17, [batch: 5600 / 7000], examples_per_second: 11670.5881, train_label_loss: 0.2548, \n"
     ]
    },
    {
     "name": "stdout",
     "output_type": "stream",
     "text": [
      "epoch: 17, [batch: 6300 / 7000], examples_per_second: 11658.1485, train_label_loss: 0.1218, \n"
     ]
    },
    {
     "name": "stdout",
     "output_type": "stream",
     "text": [
      "=============================================================\n",
      "epoch: 17, source_val_acc_label: 0.7732, source_val_label_loss: 0.7290, target_val_acc_label: 0.7732, target_val_label_loss: 0.7290, \n",
      "=============================================================\n"
     ]
    },
    {
     "name": "stdout",
     "output_type": "stream",
     "text": [
      "Patience (3) exhausted\n"
     ]
    }
   ],
   "source": [
    "jig = Vanilla_Train_Eval_Test_Jig(\n",
    "    model=model,\n",
    "    path_to_best_model=p.BEST_MODEL_PATH,\n",
    "    device=p.device,\n",
    "    label_loss_object=torch.nn.NLLLoss(),\n",
    ")\n",
    "\n",
    "jig.train(\n",
    "    train_iterable=datasets.source.processed.train,\n",
    "    source_val_iterable=datasets.source.processed.val,\n",
    "    target_val_iterable=datasets.target.processed.val,\n",
    "    patience=p.patience,\n",
    "    num_epochs=p.n_epoch,\n",
    "    num_logs_per_epoch=p.NUM_LOGS_PER_EPOCH,\n",
    "    criteria_for_best=p.criteria_for_best\n",
    ")"
   ]
  },
  {
   "cell_type": "code",
   "execution_count": 14,
   "id": "4bc2ac17",
   "metadata": {
    "execution": {
     "iopub.execute_input": "2022-03-26T23:44:51.709856Z",
     "iopub.status.busy": "2022-03-26T23:44:51.709484Z",
     "iopub.status.idle": "2022-03-26T23:44:51.711692Z",
     "shell.execute_reply": "2022-03-26T23:44:51.711998Z"
    },
    "papermill": {
     "duration": 0.07513,
     "end_time": "2022-03-26T23:44:51.712105",
     "exception": false,
     "start_time": "2022-03-26T23:44:51.636975",
     "status": "completed"
    },
    "tags": []
   },
   "outputs": [],
   "source": [
    "total_experiment_time_secs = time.time() - start_time_secs"
   ]
  },
  {
   "cell_type": "code",
   "execution_count": 15,
   "id": "cae88f23",
   "metadata": {
    "execution": {
     "iopub.execute_input": "2022-03-26T23:44:51.863455Z",
     "iopub.status.busy": "2022-03-26T23:44:51.862423Z",
     "iopub.status.idle": "2022-03-26T23:46:47.444879Z",
     "shell.execute_reply": "2022-03-26T23:46:47.441887Z"
    },
    "papermill": {
     "duration": 115.660121,
     "end_time": "2022-03-26T23:46:47.445942",
     "exception": false,
     "start_time": "2022-03-26T23:44:51.785821",
     "status": "completed"
    },
    "tags": []
   },
   "outputs": [],
   "source": [
    "source_test_label_accuracy, source_test_label_loss = jig.test(datasets.source.processed.test)\n",
    "target_test_label_accuracy, target_test_label_loss = jig.test(datasets.target.processed.test)\n",
    "\n",
    "source_val_label_accuracy, source_val_label_loss = jig.test(datasets.source.processed.val)\n",
    "target_val_label_accuracy, target_val_label_loss = jig.test(datasets.target.processed.val)\n",
    "\n",
    "history = jig.get_history()\n",
    "\n",
    "total_epochs_trained = len(history[\"epoch_indices\"])\n",
    "\n",
    "val_dl = wrap_in_dataloader(p, Sequence_Aggregator((datasets.source.original.val, datasets.target.original.val)))\n",
    "\n",
    "confusion = confusion_by_domain_over_dataloader(model, p.device, val_dl, forward_uses_domain=False)\n",
    "per_domain_accuracy = per_domain_accuracy_from_confusion(confusion)\n",
    "\n",
    "# Add a key to per_domain_accuracy for if it was a source domain\n",
    "for domain, accuracy in per_domain_accuracy.items():\n",
    "    per_domain_accuracy[domain] = {\n",
    "        \"accuracy\": accuracy,\n",
    "        \"source?\": domain in p.domains_source\n",
    "    }\n",
    "\n",
    "# Do an independent accuracy assesment JUST TO BE SURE!\n",
    "# _source_test_label_accuracy = independent_accuracy_assesment(model, datasets.source.processed.test, p.device)\n",
    "# _target_test_label_accuracy = independent_accuracy_assesment(model, datasets.target.processed.test, p.device)\n",
    "# _source_val_label_accuracy = independent_accuracy_assesment(model, datasets.source.processed.val, p.device)\n",
    "# _target_val_label_accuracy = independent_accuracy_assesment(model, datasets.target.processed.val, p.device)\n",
    "\n",
    "# assert(_source_test_label_accuracy == source_test_label_accuracy)\n",
    "# assert(_target_test_label_accuracy == target_test_label_accuracy)\n",
    "# assert(_source_val_label_accuracy == source_val_label_accuracy)\n",
    "# assert(_target_val_label_accuracy == target_val_label_accuracy)\n",
    "\n",
    "###################################\n",
    "# Write out the results\n",
    "###################################\n",
    "\n",
    "experiment = {\n",
    "    \"experiment_name\": p.experiment_name,\n",
    "    \"parameters\": p,\n",
    "    \"results\": {\n",
    "        \"source_test_label_accuracy\": source_test_label_accuracy,\n",
    "        \"source_test_label_loss\": source_test_label_loss,\n",
    "        \"target_test_label_accuracy\": target_test_label_accuracy,\n",
    "        \"target_test_label_loss\": target_test_label_loss,\n",
    "        \"source_val_label_accuracy\": source_val_label_accuracy,\n",
    "        \"source_val_label_loss\": source_val_label_loss,\n",
    "        \"target_val_label_accuracy\": target_val_label_accuracy,\n",
    "        \"target_val_label_loss\": target_val_label_loss,\n",
    "        \"total_epochs_trained\": total_epochs_trained,\n",
    "        \"total_experiment_time_secs\": total_experiment_time_secs,\n",
    "        \"confusion\": confusion,\n",
    "        \"per_domain_accuracy\": per_domain_accuracy,\n",
    "    },\n",
    "    \"history\": history,\n",
    "    \"dataset_metrics\": get_dataset_metrics(datasets, \"cnn\"),\n",
    "}"
   ]
  },
  {
   "cell_type": "code",
   "execution_count": 16,
   "id": "74c318cf",
   "metadata": {
    "execution": {
     "iopub.execute_input": "2022-03-26T23:46:47.693860Z",
     "iopub.status.busy": "2022-03-26T23:46:47.665984Z",
     "iopub.status.idle": "2022-03-26T23:46:48.191012Z",
     "shell.execute_reply": "2022-03-26T23:46:48.192244Z"
    },
    "papermill": {
     "duration": 0.643958,
     "end_time": "2022-03-26T23:46:48.192484",
     "exception": false,
     "start_time": "2022-03-26T23:46:47.548526",
     "status": "completed"
    },
    "tags": []
   },
   "outputs": [
    {
     "data": {
      "text/plain": [
       "<AxesSubplot:title={'center':'Source Train Label Loss vs Source Val Label Loss'}, xlabel='Epoch'>"
      ]
     },
     "execution_count": 16,
     "metadata": {},
     "output_type": "execute_result"
    },
    {
     "data": {
      "image/png": "[encoded data removed]",
      "text/plain": [
       "<Figure size 1080x504 with 1 Axes>"
      ]
     },
     "metadata": {
      "needs_background": "light"
     },
     "output_type": "display_data"
    }
   ],
   "source": [
    "get_loss_curve(experiment)"
   ]
  },
  {
   "cell_type": "code",
   "execution_count": 17,
   "id": "59376601",
   "metadata": {
    "execution": {
     "iopub.execute_input": "2022-03-26T23:46:48.366355Z",
     "iopub.status.busy": "2022-03-26T23:46:48.365355Z",
     "iopub.status.idle": "2022-03-26T23:46:48.660417Z",
     "shell.execute_reply": "2022-03-26T23:46:48.660889Z"
    },
    "papermill": {
     "duration": 0.395213,
     "end_time": "2022-03-26T23:46:48.661036",
     "exception": false,
     "start_time": "2022-03-26T23:46:48.265823",
     "status": "completed"
    },
    "tags": []
   },
   "outputs": [
    {
     "data": {
      "text/plain": [
       "<AxesSubplot:title={'center':'Results'}>"
      ]
     },
     "execution_count": 17,
     "metadata": {},
     "output_type": "execute_result"
    },
    {
     "data": {
      "image/png": "[encoded data removed]",
      "text/plain": [
       "<Figure size 1080x504 with 1 Axes>"
      ]
     },
     "metadata": {
      "needs_background": "light"
     },
     "output_type": "display_data"
    }
   ],
   "source": [
    "get_results_table(experiment)"
   ]
  },
  {
   "cell_type": "code",
   "execution_count": 18,
   "id": "e80c5c98",
   "metadata": {
    "execution": {
     "iopub.execute_input": "2022-03-26T23:46:48.881274Z",
     "iopub.status.busy": "2022-03-26T23:46:48.859837Z",
     "iopub.status.idle": "2022-03-26T23:46:49.074554Z",
     "shell.execute_reply": "2022-03-26T23:46:49.073856Z"
    },
    "papermill": {
     "duration": 0.338728,
     "end_time": "2022-03-26T23:46:49.074723",
     "exception": false,
     "start_time": "2022-03-26T23:46:48.735995",
     "status": "completed"
    },
    "tags": []
   },
   "outputs": [
    {
     "data": {
      "text/plain": [
       "<AxesSubplot:title={'center':'Per Domain Accuracy'}, xlabel='domain'>"
      ]
     },
     "execution_count": 18,
     "metadata": {},
     "output_type": "execute_result"
    },
    {
     "data": {
      "image/png": "[encoded data removed]",
      "text/plain": [
       "<Figure size 1080x504 with 1 Axes>"
      ]
     },
     "metadata": {
      "needs_background": "light"
     },
     "output_type": "display_data"
    }
   ],
   "source": [
    "get_domain_accuracies(experiment)"
   ]
  },
  {
   "cell_type": "code",
   "execution_count": 19,
   "id": "086fdd10",
   "metadata": {
    "execution": {
     "iopub.execute_input": "2022-03-26T23:46:49.779669Z",
     "iopub.status.busy": "2022-03-26T23:46:49.779209Z",
     "iopub.status.idle": "2022-03-26T23:46:49.784521Z",
     "shell.execute_reply": "2022-03-26T23:46:49.783960Z"
    },
    "papermill": {
     "duration": 0.635338,
     "end_time": "2022-03-26T23:46:49.784639",
     "exception": false,
     "start_time": "2022-03-26T23:46:49.149301",
     "status": "completed"
    },
    "tags": []
   },
   "outputs": [
    {
     "name": "stdout",
     "output_type": "stream",
     "text": [
      "Source Test Label Accuracy: 0.777484375 Target Test Label Accuracy: 0.777484375\n",
      "Source Val Label Accuracy: 0.779328125 Target Val Label Accuracy: 0.779328125\n"
     ]
    }
   ],
   "source": [
    "print(\"Source Test Label Accuracy:\", experiment[\"results\"][\"source_test_label_accuracy\"], \"Target Test Label Accuracy:\", experiment[\"results\"][\"target_test_label_accuracy\"])\n",
    "print(\"Source Val Label Accuracy:\", experiment[\"results\"][\"source_val_label_accuracy\"], \"Target Val Label Accuracy:\", experiment[\"results\"][\"target_val_label_accuracy\"])"
   ]
  },
  {
   "cell_type": "code",
   "execution_count": 20,
   "id": "9f450536",
   "metadata": {
    "execution": {
     "iopub.execute_input": "2022-03-26T23:46:49.934225Z",
     "iopub.status.busy": "2022-03-26T23:46:49.933617Z",
     "iopub.status.idle": "2022-03-26T23:46:49.937949Z",
     "shell.execute_reply": "2022-03-26T23:46:49.937397Z"
    },
    "papermill": {
     "duration": 0.078683,
     "end_time": "2022-03-26T23:46:49.938057",
     "exception": false,
     "start_time": "2022-03-26T23:46:49.859374",
     "status": "completed"
    },
    "tags": [
     "experiment_json"
    ]
   },
   "outputs": [
    {
     "data": {
      "text/plain": [
       "'{\"experiment_name\": \"cnn_2:oracle.run1\", \"parameters\": {\"experiment_name\": \"cnn_2:oracle.run1\", \"domains_source\": [8, 32, 50, 14, 20, 26, 38, 44], \"domains_target\": [8, 32, 50, 14, 20, 26, 38, 44], \"labels\": [\"3123D52\", \"3123D65\", \"3123D79\", \"3123D80\", \"3123D54\", \"3123D70\", \"3123D7B\", \"3123D89\", \"3123D58\", \"3123D76\", \"3123D7D\", \"3123EFE\", \"3123D64\", \"3123D78\", \"3123D7E\", \"3124E4A\"], \"pickle_name_source\": \"oracle.Run1_10kExamples_stratified_ds.2022A.pkl\", \"pickle_name_target\": \"oracle.Run1_10kExamples_stratified_ds.2022A.pkl\", \"device\": \"cuda\", \"lr\": 0.0001, \"batch_size\": 128, \"normalize_source\": false, \"normalize_target\": false, \"num_examples_per_domain_per_label_source\": -1, \"num_examples_per_domain_per_label_target\": -1, \"torch_default_dtype\": \"torch.float32\", \"n_epoch\": 50, \"patience\": 3, \"criteria_for_best\": \"target_accuracy\", \"x_net\": [{\"class\": \"nnReshape\", \"kargs\": {\"shape\": [-1, 1, 2, 256]}}, {\"class\": \"Conv2d\", \"kargs\": {\"in_channels\": 1, \"out_channels\": 256, \"kernel_size\": [1, 7], \"bias\": false, \"padding\": [0, 3]}}, {\"class\": \"ReLU\", \"kargs\": {\"inplace\": true}}, {\"class\": \"BatchNorm2d\", \"kargs\": {\"num_features\": 256}}, {\"class\": \"Conv2d\", \"kargs\": {\"in_channels\": 256, \"out_channels\": 80, \"kernel_size\": [2, 7], \"bias\": true, \"padding\": [0, 3]}}, {\"class\": \"ReLU\", \"kargs\": {\"inplace\": true}}, {\"class\": \"BatchNorm2d\", \"kargs\": {\"num_features\": 80}}, {\"class\": \"Flatten\", \"kargs\": {}}, {\"class\": \"Linear\", \"kargs\": {\"in_features\": 20480, \"out_features\": 256}}, {\"class\": \"ReLU\", \"kargs\": {\"inplace\": true}}, {\"class\": \"BatchNorm1d\", \"kargs\": {\"num_features\": 256}}, {\"class\": \"Linear\", \"kargs\": {\"in_features\": 256, \"out_features\": 16}}], \"NUM_LOGS_PER_EPOCH\": 10, \"BEST_MODEL_PATH\": \"./best_model.pth\", \"dataset_seed\": 420, \"seed\": 420}, \"results\": {\"source_test_label_accuracy\": 0.777484375, \"source_test_label_loss\": 0.657637657403946, \"target_test_label_accuracy\": 0.777484375, \"target_test_label_loss\": 0.6576376561522483, \"source_val_label_accuracy\": 0.779328125, \"source_val_label_loss\": 0.6517850074569385, \"target_val_label_accuracy\": 0.779328125, \"target_val_label_loss\": 0.6517850100000699, \"total_epochs_trained\": 17, \"total_experiment_time_secs\": 1555.912400007248, \"confusion\": {\"8\": {\"0\": {\"0\": 2978, \"14\": 16, \"4\": 2, \"11\": 4}, \"1\": {\"1\": 2258, \"11\": 486, \"5\": 164, \"14\": 8, \"10\": 56, \"4\": 22, \"0\": 2, \"13\": 4}, \"6\": {\"4\": 410, \"6\": 1500, \"7\": 862, \"13\": 150, \"11\": 10, \"10\": 38, \"8\": 8, \"14\": 16, \"1\": 4, \"2\": 2}, \"7\": {\"6\": 838, \"7\": 1838, \"13\": 212, \"4\": 94, \"11\": 6, \"2\": 4, \"3\": 2, \"15\": 6}, \"3\": {\"3\": 2712, \"10\": 60, \"2\": 96, \"4\": 26, \"15\": 8, \"0\": 82, \"8\": 10, \"13\": 6}, \"5\": {\"5\": 2728, \"1\": 68, \"10\": 174, \"11\": 8, \"13\": 18, \"14\": 4}, \"13\": {\"13\": 2214, \"10\": 590, \"7\": 38, \"6\": 44, \"4\": 12, \"12\": 2, \"5\": 64, \"1\": 32, \"15\": 4}, \"11\": {\"11\": 2456, \"1\": 458, \"4\": 8, \"14\": 30, \"5\": 26, \"8\": 18, \"10\": 4}, \"4\": {\"6\": 374, \"4\": 2014, \"13\": 100, \"14\": 316, \"11\": 20, \"10\": 48, \"7\": 100, \"8\": 6, \"5\": 4, \"1\": 12, \"0\": 6}, \"15\": {\"15\": 2584, \"3\": 122, \"12\": 228, \"8\": 8, \"5\": 36, \"0\": 10, \"2\": 6, \"4\": 2, \"1\": 4}, \"2\": {\"0\": 620, \"2\": 850, \"3\": 834, \"15\": 46, \"1\": 160, \"8\": 16, \"5\": 306, \"10\": 48, \"12\": 46, \"7\": 34, \"9\": 34, \"13\": 2, \"11\": 2, \"4\": 2}, \"8\": {\"8\": 2902, \"11\": 70, \"7\": 4, \"6\": 10, \"4\": 14}, \"9\": {\"9\": 3000}, \"12\": {\"12\": 1488, \"15\": 946, \"3\": 70, \"4\": 226, \"14\": 24, \"8\": 226, \"10\": 8, \"5\": 8, \"1\": 2, \"7\": 2}, \"10\": {\"10\": 1692, \"5\": 436, \"13\": 798, \"4\": 12, \"1\": 30, \"6\": 18, \"14\": 14}, \"14\": {\"4\": 306, \"14\": 2624, \"6\": 12, \"0\": 14, \"5\": 2, \"11\": 22, \"10\": 14, \"1\": 2, \"13\": 4}}, \"20\": {\"11\": {\"11\": 2860, \"5\": 20, \"0\": 50, \"9\": 8, \"4\": 42, \"2\": 2, \"8\": 12, \"13\": 4, \"3\": 2}, \"7\": {\"7\": 1910, \"4\": 114, \"2\": 400, \"3\": 142, \"9\": 190, \"8\": 96, \"5\": 18, \"6\": 52, \"11\": 24, \"12\": 32, \"13\": 10, \"1\": 2, \"10\": 6, \"15\": 2, \"14\": 2}, \"2\": {\"1\": 66, \"2\": 816, \"12\": 290, \"13\": 234, \"15\": 116, \"9\": 662, \"7\": 546, \"3\": 172, \"4\": 18, \"5\": 54, \"10\": 2, \"11\": 10, \"6\": 12, \"8\": 2}, \"3\": {\"1\": 162, \"5\": 438, \"3\": 1336, \"9\": 270, \"2\": 444, \"10\": 50, \"12\": 46, \"0\": 98, \"15\": 50, \"4\": 16, \"8\": 68, \"7\": 22}, \"5\": {\"15\": 142, \"0\": 268, \"5\": 1860, \"2\": 156, \"1\": 290, \"3\": 200, \"12\": 18, \"9\": 42, \"8\": 24}, \"6\": {\"6\": 2648, \"14\": 98, \"10\": 34, \"4\": 22, \"8\": 46, \"7\": 126, \"2\": 24, \"13\": 2}, \"0\": {\"0\": 2914, \"5\": 46, \"2\": 20, \"1\": 4, \"15\": 10, \"3\": 4, \"8\": 2}, \"14\": {\"14\": 2666, \"8\": 256, \"6\": 26, \"10\": 20, \"12\": 18, \"4\": 8, \"13\": 2, \"2\": 2, \"3\": 2}, \"8\": {\"8\": 2720, \"14\": 62, \"5\": 24, \"3\": 78, \"4\": 24, \"0\": 32, \"7\": 16, \"15\": 6, \"2\": 20, \"12\": 18}, \"10\": {\"10\": 2506, \"4\": 304, \"12\": 24, \"6\": 136, \"14\": 24, \"7\": 6}, \"9\": {\"12\": 126, \"1\": 236, \"3\": 566, \"9\": 1300, \"2\": 468, \"15\": 44, \"10\": 28, \"7\": 58, \"5\": 154, \"0\": 2, \"4\": 6, \"8\": 6, \"13\": 6}, \"1\": {\"5\": 756, \"2\": 200, \"12\": 68, \"1\": 1232, \"3\": 220, \"15\": 318, \"9\": 174, \"0\": 26, \"10\": 6}, \"13\": {\"13\": 2626, \"7\": 36, \"15\": 170, \"11\": 8, \"2\": 106, \"1\": 4, \"9\": 42, \"12\": 8}, \"4\": {\"4\": 1874, \"12\": 550, \"8\": 340, \"2\": 8, \"15\": 8, \"3\": 50, \"10\": 44, \"7\": 92, \"1\": 2, \"9\": 8, \"14\": 10, \"6\": 10, \"11\": 2, \"5\": 2}, \"15\": {\"15\": 1788, \"12\": 122, \"9\": 210, \"5\": 294, \"2\": 92, \"1\": 378, \"3\": 28, \"13\": 80, \"0\": 8}, \"12\": {\"15\": 214, \"5\": 174, \"12\": 884, \"8\": 4, \"9\": 348, \"7\": 186, \"1\": 266, \"2\": 424, \"3\": 448, \"4\": 30, \"13\": 16, \"10\": 4, \"0\": 2}}, \"32\": {\"14\": {\"0\": 130, \"14\": 2358, \"1\": 26, \"7\": 384, \"8\": 18, \"5\": 26, \"12\": 14, \"3\": 22, \"2\": 22}, \"3\": {\"3\": 2166, \"12\": 652, \"14\": 2, \"13\": 160, \"15\": 10, \"8\": 2, \"11\": 8}, \"1\": {\"1\": 2942, \"8\": 58}, \"11\": {\"11\": 2878, \"13\": 92, \"5\": 2, \"15\": 16, \"14\": 2, \"3\": 10}, \"8\": {\"8\": 2408, \"0\": 318, \"5\": 146, \"14\": 24, \"7\": 20, \"3\": 36, \"1\": 28, \"2\": 8, \"15\": 4, \"12\": 6, \"6\": 2}, \"2\": {\"2\": 2516, \"5\": 4, \"6\": 20, \"4\": 358, \"3\": 30, \"7\": 20, \"14\": 42, \"13\": 2, \"11\": 2, \"0\": 6}, \"13\": {\"4\": 302, \"12\": 82, \"3\": 640, \"13\": 1894, \"11\": 64, \"14\": 10, \"8\": 2, \"15\": 2, \"2\": 4}, \"15\": {\"15\": 2912, \"2\": 40, \"8\": 44, \"10\": 2, \"7\": 2}, \"12\": {\"12\": 2888, \"0\": 28, \"11\": 24, \"9\": 4, \"10\": 16, \"1\": 4, \"6\": 28, \"2\": 8}, \"5\": {\"7\": 538, \"2\": 42, \"8\": 146, \"5\": 1532, \"14\": 82, \"1\": 486, \"0\": 146, \"3\": 14, \"12\": 14}, \"7\": {\"7\": 2070, \"14\": 244, \"1\": 74, \"5\": 466, \"0\": 98, \"8\": 10, \"12\": 32, \"2\": 6}, \"6\": {\"6\": 2938, \"11\": 62}, \"0\": {\"0\": 2422, \"2\": 12, \"5\": 138, \"8\": 218, \"7\": 116, \"14\": 88, \"11\": 2, \"1\": 4}, \"10\": {\"10\": 2996, \"12\": 2, \"6\": 2}, \"4\": {\"4\": 1896, \"2\": 558, \"3\": 350, \"13\": 138, \"6\": 4, \"0\": 4, \"14\": 38, \"11\": 6, \"7\": 4, \"12\": 2}, \"9\": {\"1\": 270, \"6\": 190, \"14\": 582, \"9\": 1770, \"2\": 172, \"11\": 4, \"5\": 6, \"12\": 4, \"0\": 2}}, \"14\": {\"8\": {\"8\": 2978, \"0\": 4, \"11\": 12, \"13\": 4, \"9\": 2}, \"12\": {\"12\": 2996, \"0\": 4}, \"11\": {\"7\": 86, \"11\": 2858, \"13\": 34, \"4\": 6, \"6\": 12, \"2\": 2, \"15\": 2}, \"14\": {\"14\": 2422, \"2\": 112, \"13\": 262, \"6\": 130, \"0\": 4, \"7\": 2, \"4\": 22, \"3\": 42, \"10\": 2, \"8\": 2}, \"10\": {\"10\": 2514, \"3\": 328, \"2\": 116, \"0\": 12, \"4\": 18, \"13\": 4, \"8\": 4, \"5\": 4}, \"9\": {\"9\": 2938, \"15\": 6, \"0\": 56}, \"1\": {\"1\": 2934, \"4\": 22, \"11\": 18, \"7\": 26}, \"2\": {\"14\": 318, \"2\": 1904, \"13\": 140, \"6\": 206, \"5\": 188, \"4\": 78, \"3\": 136, \"10\": 12, \"0\": 6, \"7\": 12}, \"6\": {\"6\": 1904, \"13\": 836, \"2\": 122, \"4\": 2, \"14\": 74, \"7\": 4, \"3\": 58}, \"13\": {\"13\": 1392, \"2\": 194, \"4\": 20, \"14\": 334, \"6\": 856, \"3\": 80, \"15\": 106, \"10\": 14, \"7\": 4}, \"3\": {\"3\": 2828, \"0\": 86, \"2\": 68, \"14\": 10, \"7\": 4, \"6\": 2, \"13\": 2}, \"7\": {\"7\": 2904, \"2\": 8, \"5\": 88}, \"5\": {\"2\": 194, \"5\": 2450, \"3\": 52, \"4\": 172, \"7\": 112, \"11\": 12, \"14\": 4, \"0\": 4}, \"15\": {\"15\": 2998, \"13\": 2}, \"4\": {\"4\": 2702, \"5\": 154, \"7\": 10, \"2\": 58, \"10\": 20, \"11\": 42, \"1\": 6, \"13\": 6, \"6\": 2}, \"0\": {\"0\": 2644, \"3\": 224, \"8\": 10, \"9\": 50, \"2\": 6, \"13\": 20, \"4\": 36, \"7\": 2, \"14\": 6, \"10\": 2}}, \"26\": {\"6\": {\"6\": 1976, \"15\": 562, \"10\": 272, \"9\": 36, \"5\": 74, \"14\": 34, \"0\": 40, \"12\": 4, \"1\": 2}, \"1\": {\"1\": 2740, \"14\": 98, \"0\": 26, \"10\": 108, \"5\": 2, \"6\": 18, \"15\": 6, \"2\": 2}, \"4\": {\"4\": 2628, \"3\": 234, \"8\": 60, \"0\": 58, \"6\": 2, \"10\": 2, \"7\": 10, \"9\": 4, \"2\": 2}, \"14\": {\"10\": 342, \"14\": 1840, \"1\": 424, \"0\": 326, \"15\": 4, \"6\": 60, \"8\": 2, \"2\": 2}, \"11\": {\"12\": 22, \"11\": 2902, \"6\": 64, \"5\": 2, \"2\": 6, \"9\": 2, \"10\": 2}, \"0\": {\"0\": 1318, \"15\": 48, \"10\": 762, \"7\": 20, \"14\": 398, \"6\": 182, \"8\": 138, \"1\": 100, \"2\": 26, \"9\": 8}, \"7\": {\"8\": 388, \"2\": 538, \"7\": 1638, \"3\": 208, \"6\": 6, \"9\": 88, \"0\": 112, \"4\": 6, \"10\": 10, \"14\": 4, \"15\": 2}, \"2\": {\"15\": 94, \"2\": 2040, \"13\": 80, \"0\": 22, \"7\": 268, \"3\": 216, \"5\": 52, \"8\": 86, \"9\": 108, \"10\": 8, \"6\": 24, \"14\": 2}, \"15\": {\"15\": 2076, \"6\": 404, \"5\": 446, \"1\": 8, \"9\": 22, \"10\": 16, \"2\": 20, \"0\": 8}, \"5\": {\"5\": 2460, \"15\": 488, \"6\": 48, \"2\": 2, \"9\": 2}, \"9\": {\"9\": 2134, \"8\": 322, \"13\": 134, \"2\": 186, \"3\": 4, \"0\": 114, \"15\": 52, \"6\": 12, \"7\": 32, \"5\": 2, \"10\": 8}, \"13\": {\"13\": 2428, \"9\": 306, \"2\": 156, \"0\": 50, \"15\": 30, \"3\": 12, \"8\": 14, \"5\": 4}, \"10\": {\"0\": 544, \"6\": 398, \"10\": 1396, \"1\": 206, \"14\": 302, \"15\": 102, \"8\": 30, \"9\": 4, \"5\": 16, \"7\": 2}, \"8\": {\"7\": 454, \"0\": 346, \"8\": 1294, \"2\": 332, \"9\": 396, \"10\": 116, \"5\": 4, \"13\": 8, \"4\": 16, \"6\": 4, \"14\": 18, \"15\": 8, \"3\": 2, \"12\": 2}, \"12\": {\"12\": 2992, \"9\": 8}, \"3\": {\"3\": 1924, \"2\": 432, \"9\": 38, \"7\": 548, \"8\": 36, \"0\": 12, \"6\": 2, \"13\": 8}}, \"50\": {\"3\": {\"3\": 2984, \"2\": 16}, \"1\": {\"1\": 2490, \"5\": 12, \"15\": 362, \"13\": 94, \"0\": 6, \"6\": 10, \"8\": 22, \"11\": 4}, \"0\": {\"2\": 206, \"0\": 2540, \"1\": 62, \"10\": 188, \"15\": 4}, \"15\": {\"14\": 284, \"15\": 1198, \"5\": 362, \"8\": 420, \"4\": 352, \"6\": 346, \"7\": 22, \"9\": 12, \"11\": 4}, \"4\": {\"7\": 340, \"13\": 212, \"4\": 1936, \"5\": 218, \"0\": 176, \"14\": 48, \"2\": 10, \"15\": 6, \"10\": 4, \"8\": 30, \"6\": 20}, \"2\": {\"2\": 2550, \"0\": 310, \"1\": 78, \"9\": 50, \"6\": 4, \"14\": 2, \"12\": 2, \"11\": 2, \"15\": 2}, \"5\": {\"5\": 1778, \"13\": 48, \"7\": 264, \"2\": 350, \"6\": 118, \"15\": 120, \"4\": 168, \"14\": 86, \"8\": 68}, \"7\": {\"7\": 2268, \"14\": 142, \"2\": 282, \"13\": 42, \"4\": 122, \"5\": 140, \"6\": 2, \"10\": 2}, \"10\": {\"10\": 2736, \"8\": 68, \"0\": 188, \"13\": 8}, \"6\": {\"6\": 1902, \"5\": 898, \"4\": 38, \"8\": 18, \"14\": 48, \"15\": 94, \"7\": 2}, \"12\": {\"12\": 2618, \"9\": 360, \"0\": 2, \"11\": 18, \"15\": 2}, \"8\": {\"8\": 2954, \"10\": 34, \"3\": 2, \"13\": 6, \"1\": 4}, \"9\": {\"9\": 2880, \"12\": 32, \"11\": 38, \"5\": 34, \"4\": 2, \"15\": 2, \"14\": 4, \"7\": 4, \"8\": 4}, \"13\": {\"13\": 2798, \"6\": 56, \"15\": 82, \"0\": 14, \"5\": 32, \"8\": 18}, \"14\": {\"14\": 2576, \"9\": 372, \"6\": 10, \"2\": 40, \"1\": 2}, \"11\": {\"12\": 20, \"11\": 2216, \"5\": 176, \"9\": 432, \"15\": 64, \"6\": 2, \"4\": 14, \"8\": 68, \"14\": 8}}, \"44\": {\"12\": {\"12\": 2584, \"3\": 386, \"13\": 2, \"14\": 18, \"8\": 10}, \"15\": {\"5\": 294, \"15\": 2160, \"8\": 310, \"12\": 6, \"0\": 66, \"14\": 132, \"4\": 24, \"9\": 2, \"6\": 6}, \"3\": {\"3\": 2150, \"14\": 178, \"4\": 120, \"5\": 44, \"8\": 146, \"7\": 110, \"12\": 130, \"13\": 22, \"2\": 78, \"6\": 2, \"0\": 16, \"11\": 4}, \"8\": {\"8\": 2446, \"0\": 414, \"15\": 86, \"5\": 50, \"2\": 2, \"6\": 2}, \"13\": {\"13\": 2302, \"0\": 332, \"9\": 114, \"6\": 230, \"7\": 6, \"4\": 8, \"10\": 2, \"11\": 6}, \"2\": {\"2\": 2632, \"1\": 188, \"5\": 42, \"10\": 82, \"7\": 54, \"8\": 2}, \"7\": {\"9\": 684, \"7\": 2222, \"10\": 72, \"2\": 10, \"6\": 12}, \"6\": {\"13\": 546, \"6\": 1996, \"9\": 392, \"7\": 62, \"0\": 4}, \"4\": {\"4\": 2294, \"15\": 282, \"5\": 68, \"0\": 50, \"8\": 10, \"6\": 62, \"14\": 162, \"9\": 40, \"11\": 28, \"13\": 2, \"7\": 2}, \"9\": {\"9\": 2008, \"7\": 724, \"13\": 116, \"2\": 26, \"6\": 76, \"0\": 22, \"10\": 22, \"4\": 6}, \"1\": {\"1\": 2350, \"2\": 120, \"5\": 396, \"7\": 80, \"10\": 28, \"8\": 8, \"14\": 16, \"0\": 2}, \"10\": {\"10\": 2912, \"1\": 48, \"2\": 18, \"7\": 22}, \"5\": {\"5\": 2412, \"4\": 50, \"2\": 24, \"14\": 58, \"6\": 326, \"15\": 64, \"8\": 54, \"7\": 8, \"0\": 2, \"13\": 2}, \"0\": {\"0\": 2398, \"8\": 530, \"6\": 12, \"15\": 56, \"13\": 4}, \"14\": {\"14\": 2130, \"4\": 324, \"6\": 44, \"5\": 302, \"15\": 152, \"7\": 4, \"9\": 18, \"8\": 22, \"12\": 2, \"0\": 2}, \"11\": {\"11\": 2826, \"0\": 130, \"10\": 38, \"13\": 4, \"3\": 2}}, \"38\": {\"5\": {\"5\": 1710, \"8\": 432, \"9\": 242, \"4\": 54, \"11\": 196, \"7\": 88, \"13\": 2, \"15\": 142, \"14\": 78, \"0\": 26, \"6\": 8, \"1\": 22}, \"6\": {\"6\": 2874, \"2\": 28, \"9\": 26, \"14\": 28, \"1\": 40, \"4\": 2, \"8\": 2}, \"15\": {\"15\": 2132, \"1\": 260, \"10\": 10, \"5\": 182, \"0\": 72, \"8\": 80, \"13\": 224, \"6\": 36, \"11\": 4}, \"9\": {\"9\": 2954, \"12\": 26, \"14\": 8, \"5\": 8, \"4\": 2, \"7\": 2}, \"13\": {\"13\": 2784, \"0\": 6, \"10\": 136, \"4\": 34, \"7\": 30, \"5\": 6, \"2\": 4}, \"4\": {\"4\": 2972, \"10\": 28}, \"3\": {\"3\": 2964, \"0\": 26, \"11\": 10}, \"14\": {\"14\": 2598, \"7\": 198, \"2\": 128, \"4\": 38, \"5\": 38}, \"8\": {\"5\": 832, \"8\": 1128, \"15\": 390, \"7\": 130, \"4\": 324, \"14\": 46, \"11\": 80, \"0\": 18, \"6\": 30, \"1\": 14, \"9\": 6, \"13\": 2}, \"0\": {\"0\": 2410, \"4\": 262, \"13\": 168, \"10\": 118, \"7\": 30, \"11\": 4, \"6\": 2, \"9\": 2, \"3\": 4}, \"2\": {\"2\": 2686, \"7\": 156, \"5\": 100, \"14\": 44, \"13\": 14}, \"12\": {\"12\": 2966, \"8\": 6, \"13\": 14, \"15\": 8, \"14\": 2, \"5\": 2, \"6\": 2}, \"11\": {\"11\": 3000}, \"7\": {\"9\": 38, \"7\": 2714, \"0\": 122, \"4\": 78, \"5\": 22, \"8\": 20, \"13\": 4, \"15\": 2}, \"10\": {\"10\": 2794, \"13\": 158, \"4\": 12, \"0\": 36}, \"1\": {\"1\": 2814, \"2\": 86, \"0\": 68, \"9\": 16, \"6\": 8, \"15\": 6, \"14\": 2}}}, \"per_domain_accuracy\": {\"8\": {\"accuracy\": 0.746625, \"source?\": true}, \"20\": {\"accuracy\": 0.6654166666666667, \"source?\": true}, \"32\": {\"accuracy\": 0.803875, \"source?\": true}, \"14\": {\"accuracy\": 0.8617916666666666, \"source?\": true}, \"26\": {\"accuracy\": 0.703875, \"source?\": true}, \"50\": {\"accuracy\": 0.8005, \"source?\": true}, \"44\": {\"accuracy\": 0.7879583333333333, \"source?\": true}, \"38\": {\"accuracy\": 0.8645833333333334, \"source?\": true}}}, \"history\": {\"epoch_indices\": [1, 2, 3, 4, 5, 6, 7, 8, 9, 10, 11, 12, 13, 14, 15, 16, 17], \"train_label_loss\": [1.978990620630128, 1.155296135195664, 0.8733209310684885, 0.717877007322652, 0.6134731522287641, 0.5409677922555378, 0.47854977227321693, 0.4280775661255632, 0.3886761878505349, 0.353065003407853, 0.325000765176756, 0.2996367329178112, 0.2784423601787005, 0.25787053118752584, 0.23962115336156317, 0.22474990651330778, 0.21282709475766334], \"source_val_label_loss\": [1.2751208221912385, 0.9568027512232462, 0.7830176964998246, 0.6679070697228113, 0.6846050482392311, 0.6209371177752813, 0.621792281250159, 0.6243840496142705, 0.6836884424090386, 0.6537804191509883, 0.63815932371219, 0.6590096278587977, 0.6517850043177604, 0.7126329101324081, 0.725505996008714, 0.720700754404068, 0.7290369653900465], \"target_val_label_loss\": [1.2751208251317343, 0.9568027517398199, 0.7830176937580109, 0.6679070693055789, 0.6846050513386727, 0.6209371191859245, 0.6217922809123992, 0.624384053548177, 0.6836884417335193, 0.6537804233829181, 0.6381593243082364, 0.6590096308588982, 0.6517850077946981, 0.7126329114834468, 0.7255059958895047, 0.720700756529967, 0.729036971171697], \"source_val_acc_label\": [0.5824375, 0.663890625, 0.7201770833333333, 0.7583697916666666, 0.7473697916666666, 0.7739427083333333, 0.77415625, 0.7749166666666667, 0.7581510416666667, 0.7694791666666667, 0.778640625, 0.7733958333333333, 0.779328125, 0.764609375, 0.7688020833333333, 0.7675989583333334, 0.7732135416666667], \"target_val_acc_label\": [0.5824375, 0.663890625, 0.7201770833333333, 0.7583697916666666, 0.7473697916666666, 0.7739427083333333, 0.77415625, 0.7749166666666667, 0.7581510416666667, 0.7694791666666667, 0.778640625, 0.7733958333333333, 0.779328125, 0.764609375, 0.7688020833333333, 0.7675989583333334, 0.7732135416666667]}, \"dataset_metrics\": {\"source\": {\"train\": {\"n_unique_x\": 896000, \"n_unique_y\": 16, \"n_batch/episode\": 7000}, \"val\": {\"n_unique_x\": 192000, \"n_unique_y\": 16, \"n_batch/episode\": 1500}, \"test\": {\"n_unique_x\": 192000, \"n_unique_y\": 16, \"n_batch/episode\": 1500}}, \"target\": {\"train\": {\"n_unique_x\": 896000, \"n_unique_y\": 16, \"n_batch/episode\": 7000}, \"val\": {\"n_unique_x\": 192000, \"n_unique_y\": 16, \"n_batch/episode\": 1500}, \"test\": {\"n_unique_x\": 192000, \"n_unique_y\": 16, \"n_batch/episode\": 1500}}}}'"
      ]
     },
     "execution_count": 20,
     "metadata": {},
     "output_type": "execute_result"
    }
   ],
   "source": [
    "json.dumps(experiment)"
   ]
  }
 ],
 "metadata": {
  "celltoolbar": "Tags",
  "kernelspec": {
   "display_name": "Python 3 (ipykernel)",
   "language": "python",
   "name": "python3"
  },
  "language_info": {
   "codemirror_mode": {
    "name": "ipython",
    "version": 3
   },
   "file_extension": ".py",
   "mimetype": "text/x-python",
   "name": "python",
   "nbconvert_exporter": "python",
   "pygments_lexer": "ipython3",
   "version": "3.8.12"
  },
  "papermill": {
   "default_parameters": {},
   "duration": 1681.021845,
   "end_time": "2022-03-26T23:46:53.734362",
   "environment_variables": {},
   "exception": null,
   "input_path": "/root/csc500-main/csc500-notebooks/templates/cnn_template.ipynb",
   "output_path": "trial.ipynb",
   "parameters": {
    "parameters": {
     "BEST_MODEL_PATH": "./best_model.pth",
     "NUM_LOGS_PER_EPOCH": 10,
     "batch_size": 128,
     "criteria_for_best": "target_accuracy",
     "dataset_seed": 420,
     "device": "cuda",
     "domains_source": [
      8,
      32,
      50,
      14,
      20,
      26,
      38,
      44
     ],
     "domains_target": [
      8,
      32,
      50,
      14,
      20,
      26,
      38,
      44
     ],
     "experiment_name": "cnn_2:oracle.run1",
     "labels": [
      "3123D52",
      "3123D65",
      "3123D79",
      "3123D80",
      "3123D54",
      "3123D70",
      "3123D7B",
      "3123D89",
      "3123D58",
      "3123D76",
      "3123D7D",
      "3123EFE",
      "3123D64",
      "3123D78",
      "3123D7E",
      "3124E4A"
     ],
     "lr": 0.0001,
     "n_epoch": 50,
     "normalize_source": false,
     "normalize_target": false,
     "num_examples_per_domain_per_label_source": -1,
     "num_examples_per_domain_per_label_target": -1,
     "patience": 3,
     "pickle_name_source": "oracle.Run1_10kExamples_stratified_ds.2022A.pkl",
     "pickle_name_target": "oracle.Run1_10kExamples_stratified_ds.2022A.pkl",
     "seed": 420,
     "torch_default_dtype": "torch.float32",
     "x_net": [
      {
       "class": "nnReshape",
       "kargs": {
        "shape": [
         -1,
         1,
         2,
         256
        ]
       }
      },
      {
       "class": "Conv2d",
       "kargs": {
        "bias": false,
        "in_channels": 1,
        "kernel_size": [
         1,
         7
        ],
        "out_channels": 256,
        "padding": [
         0,
         3
        ]
       }
      },
      {
       "class": "ReLU",
       "kargs": {
        "inplace": true
       }
      },
      {
       "class": "BatchNorm2d",
       "kargs": {
        "num_features": 256
       }
      },
      {
       "class": "Conv2d",
       "kargs": {
        "bias": true,
        "in_channels": 256,
        "kernel_size": [
         2,
         7
        ],
        "out_channels": 80,
        "padding": [
         0,
         3
        ]
       }
      },
      {
       "class": "ReLU",
       "kargs": {
        "inplace": true
       }
      },
      {
       "class": "BatchNorm2d",
       "kargs": {
        "num_features": 80
       }
      },
      {
       "class": "Flatten",
       "kargs": {}
      },
      {
       "class": "Linear",
       "kargs": {
        "in_features": 20480,
        "out_features": 256
       }
      },
      {
       "class": "ReLU",
       "kargs": {
        "inplace": true
       }
      },
      {
       "class": "BatchNorm1d",
       "kargs": {
        "num_features": 256
       }
      },
      {
       "class": "Linear",
       "kargs": {
        "in_features": 256,
        "out_features": 16
       }
      }
     ]
    }
   },
   "start_time": "2022-03-26T23:18:52.712517",
   "version": "2.3.4"
  }
 },
 "nbformat": 4,
 "nbformat_minor": 5
}