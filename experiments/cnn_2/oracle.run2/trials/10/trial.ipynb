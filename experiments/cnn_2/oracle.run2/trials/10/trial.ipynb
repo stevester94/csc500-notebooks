{
 "cells": [
  {
   "cell_type": "code",
   "execution_count": 1,
   "id": "2324682e",
   "metadata": {
    "execution": {
     "iopub.execute_input": "2022-03-27T07:42:12.022868Z",
     "iopub.status.busy": "2022-03-27T07:42:12.021457Z",
     "iopub.status.idle": "2022-03-27T07:42:13.613974Z",
     "shell.execute_reply": "2022-03-27T07:42:13.613107Z"
    },
    "papermill": {
     "duration": 1.628573,
     "end_time": "2022-03-27T07:42:13.614162",
     "exception": false,
     "start_time": "2022-03-27T07:42:11.985589",
     "status": "completed"
    },
    "tags": []
   },
   "outputs": [],
   "source": [
    "import os, json, sys, time, random\n",
    "import numpy as np\n",
    "import torch\n",
    "from  easydict import EasyDict\n",
    "from math import floor\n",
    "from easydict import EasyDict\n",
    "\n",
    "from steves_utils.vanilla_train_eval_test_jig import  Vanilla_Train_Eval_Test_Jig\n",
    "\n",
    "from steves_utils.torch_utils import get_dataset_metrics, independent_accuracy_assesment\n",
    "from steves_models.configurable_vanilla import Configurable_Vanilla\n",
    "from steves_utils.torch_sequential_builder import build_sequential\n",
    "from steves_utils.lazy_map import Lazy_Map\n",
    "from steves_utils.sequence_aggregator import Sequence_Aggregator\n",
    "\n",
    "from steves_utils.stratified_dataset.traditional_accessor import Traditional_Accessor_Factory\n",
    "\n",
    "from steves_utils.cnn_do_report import (\n",
    "    get_loss_curve,\n",
    "    get_results_table,\n",
    "    get_parameters_table,\n",
    "    get_domain_accuracies,\n",
    ")\n",
    "\n",
    "from steves_utils.torch_utils import (\n",
    "    confusion_by_domain_over_dataloader,\n",
    "    independent_accuracy_assesment\n",
    ")\n",
    "\n",
    "from steves_utils.utils_v2 import (\n",
    "    per_domain_accuracy_from_confusion,\n",
    "    get_datasets_base_path\n",
    ")\n",
    "\n",
    "# from steves_utils.ptn_do_report import TBD"
   ]
  },
  {
   "cell_type": "code",
   "execution_count": 2,
   "id": "1b29e3fe",
   "metadata": {
    "execution": {
     "iopub.execute_input": "2022-03-27T07:42:13.652227Z",
     "iopub.status.busy": "2022-03-27T07:42:13.651846Z",
     "iopub.status.idle": "2022-03-27T07:42:13.655424Z",
     "shell.execute_reply": "2022-03-27T07:42:13.654645Z"
    },
    "papermill": {
     "duration": 0.022378,
     "end_time": "2022-03-27T07:42:13.655589",
     "exception": false,
     "start_time": "2022-03-27T07:42:13.633211",
     "status": "completed"
    },
    "tags": []
   },
   "outputs": [],
   "source": [
    "required_parameters = {\n",
    "    \"experiment_name\",\n",
    "    \"lr\",\n",
    "    \"device\",\n",
    "    \"dataset_seed\",\n",
    "    \"seed\",\n",
    "    \"labels\",\n",
    "    \"domains_target\",\n",
    "    \"domains_source\",\n",
    "    \"num_examples_per_domain_per_label_source\",\n",
    "    \"num_examples_per_domain_per_label_target\",\n",
    "    \"batch_size\",\n",
    "    \"n_epoch\",\n",
    "    \"patience\",\n",
    "    \"criteria_for_best\",\n",
    "    \"normalize_source\",\n",
    "    \"normalize_target\",\n",
    "    \"x_net\",\n",
    "    \"NUM_LOGS_PER_EPOCH\",\n",
    "    \"BEST_MODEL_PATH\",\n",
    "    \"pickle_name_source\",\n",
    "    \"pickle_name_target\",\n",
    "    \"torch_default_dtype\",\n",
    "}"
   ]
  },
  {
   "cell_type": "code",
   "execution_count": 3,
   "id": "670b5fb8",
   "metadata": {
    "execution": {
     "iopub.execute_input": "2022-03-27T07:42:13.700445Z",
     "iopub.status.busy": "2022-03-27T07:42:13.693908Z",
     "iopub.status.idle": "2022-03-27T07:42:13.708133Z",
     "shell.execute_reply": "2022-03-27T07:42:13.707315Z"
    },
    "papermill": {
     "duration": 0.035107,
     "end_time": "2022-03-27T07:42:13.708295",
     "exception": false,
     "start_time": "2022-03-27T07:42:13.673188",
     "status": "completed"
    },
    "tags": [
     "parameters"
    ]
   },
   "outputs": [],
   "source": [
    "from steves_utils.ORACLE.utils_v2 import (\n",
    "    ALL_SERIAL_NUMBERS,\n",
    "    ALL_DISTANCES_FEET_NARROWED,\n",
    ")\n",
    "\n",
    "standalone_parameters = {}\n",
    "standalone_parameters[\"experiment_name\"] = \"MANUAL CORES CNN\"\n",
    "standalone_parameters[\"lr\"] = 0.0001\n",
    "standalone_parameters[\"device\"] = \"cuda\"\n",
    "\n",
    "standalone_parameters[\"dataset_seed\"] = 1337\n",
    "standalone_parameters[\"seed\"] = 1337\n",
    "standalone_parameters[\"labels\"] = ALL_SERIAL_NUMBERS\n",
    "\n",
    "standalone_parameters[\"domains_source\"] = [8,32,50]\n",
    "standalone_parameters[\"domains_target\"] = [14,20,26,38,44,]\n",
    "\n",
    "standalone_parameters[\"num_examples_per_domain_per_label_source\"]=-1\n",
    "standalone_parameters[\"num_examples_per_domain_per_label_target\"]=-1\n",
    "\n",
    "standalone_parameters[\"pickle_name_source\"] = \"oracle.Run1_framed_2000Examples_stratified_ds.2022A.pkl\"\n",
    "standalone_parameters[\"pickle_name_target\"] = \"oracle.Run2_framed_2000Examples_stratified_ds.2022A.pkl\"\n",
    "\n",
    "standalone_parameters[\"torch_default_dtype\"] = \"torch.float32\" \n",
    "\n",
    "standalone_parameters[\"batch_size\"]=128\n",
    "\n",
    "standalone_parameters[\"n_epoch\"] = 3\n",
    "\n",
    "standalone_parameters[\"patience\"] = 10\n",
    "\n",
    "standalone_parameters[\"criteria_for_best\"] = \"target_accuracy\"\n",
    "standalone_parameters[\"normalize_source\"] = False\n",
    "standalone_parameters[\"normalize_target\"] = False\n",
    "\n",
    "standalone_parameters[\"x_net\"] =     [\n",
    "    {\"class\": \"nnReshape\", \"kargs\": {\"shape\":[-1, 1, 2, 256]}},\n",
    "    {\"class\": \"Conv2d\", \"kargs\": { \"in_channels\":1, \"out_channels\":256, \"kernel_size\":(1,7), \"bias\":False, \"padding\":(0,3), },},\n",
    "    {\"class\": \"ReLU\", \"kargs\": {\"inplace\": True}},\n",
    "    {\"class\": \"BatchNorm2d\", \"kargs\": {\"num_features\":256}},\n",
    "\n",
    "    {\"class\": \"Conv2d\", \"kargs\": { \"in_channels\":256, \"out_channels\":80, \"kernel_size\":(2,7), \"bias\":True, \"padding\":(0,3), },},\n",
    "    {\"class\": \"ReLU\", \"kargs\": {\"inplace\": True}},\n",
    "    {\"class\": \"BatchNorm2d\", \"kargs\": {\"num_features\":80}},\n",
    "    {\"class\": \"Flatten\", \"kargs\": {}},\n",
    "\n",
    "    {\"class\": \"Linear\", \"kargs\": {\"in_features\": 80*256, \"out_features\": 256}}, # 80 units per IQ pair\n",
    "    {\"class\": \"ReLU\", \"kargs\": {\"inplace\": True}},\n",
    "    {\"class\": \"BatchNorm1d\", \"kargs\": {\"num_features\":256}},\n",
    "\n",
    "    {\"class\": \"Linear\", \"kargs\": {\"in_features\": 256, \"out_features\": len(standalone_parameters[\"labels\"])}},\n",
    "]\n",
    "\n",
    "standalone_parameters[\"NUM_LOGS_PER_EPOCH\"] = 10\n",
    "standalone_parameters[\"BEST_MODEL_PATH\"] = \"./best_model.pth\""
   ]
  },
  {
   "cell_type": "code",
   "execution_count": 4,
   "id": "d825c9c9",
   "metadata": {
    "execution": {
     "iopub.execute_input": "2022-03-27T07:42:13.756833Z",
     "iopub.status.busy": "2022-03-27T07:42:13.756150Z",
     "iopub.status.idle": "2022-03-27T07:42:13.759208Z",
     "shell.execute_reply": "2022-03-27T07:42:13.758408Z"
    },
    "papermill": {
     "duration": 0.029589,
     "end_time": "2022-03-27T07:42:13.759361",
     "exception": false,
     "start_time": "2022-03-27T07:42:13.729772",
     "status": "completed"
    },
    "tags": [
     "injected-parameters"
    ]
   },
   "outputs": [],
   "source": [
    "# Parameters\n",
    "parameters = {\n",
    "    \"experiment_name\": \"cnn_2:oracle.run2\",\n",
    "    \"labels\": [\n",
    "        \"3123D52\",\n",
    "        \"3123D65\",\n",
    "        \"3123D79\",\n",
    "        \"3123D80\",\n",
    "        \"3123D54\",\n",
    "        \"3123D70\",\n",
    "        \"3123D7B\",\n",
    "        \"3123D89\",\n",
    "        \"3123D58\",\n",
    "        \"3123D76\",\n",
    "        \"3123D7D\",\n",
    "        \"3123EFE\",\n",
    "        \"3123D64\",\n",
    "        \"3123D78\",\n",
    "        \"3123D7E\",\n",
    "        \"3124E4A\",\n",
    "    ],\n",
    "    \"domains_source\": [8, 32, 50, 14, 20, 26, 38, 44],\n",
    "    \"domains_target\": [8, 32, 50, 14, 20, 26, 38, 44],\n",
    "    \"pickle_name_source\": \"oracle.Run2_10kExamples_stratified_ds.2022A.pkl\",\n",
    "    \"pickle_name_target\": \"oracle.Run2_10kExamples_stratified_ds.2022A.pkl\",\n",
    "    \"device\": \"cuda\",\n",
    "    \"lr\": 0.0001,\n",
    "    \"batch_size\": 128,\n",
    "    \"normalize_source\": False,\n",
    "    \"normalize_target\": False,\n",
    "    \"num_examples_per_domain_per_label_source\": -1,\n",
    "    \"num_examples_per_domain_per_label_target\": -1,\n",
    "    \"torch_default_dtype\": \"torch.float32\",\n",
    "    \"n_epoch\": 50,\n",
    "    \"patience\": 3,\n",
    "    \"criteria_for_best\": \"target_accuracy\",\n",
    "    \"x_net\": [\n",
    "        {\"class\": \"nnReshape\", \"kargs\": {\"shape\": [-1, 1, 2, 256]}},\n",
    "        {\n",
    "            \"class\": \"Conv2d\",\n",
    "            \"kargs\": {\n",
    "                \"in_channels\": 1,\n",
    "                \"out_channels\": 256,\n",
    "                \"kernel_size\": [1, 7],\n",
    "                \"bias\": False,\n",
    "                \"padding\": [0, 3],\n",
    "            },\n",
    "        },\n",
    "        {\"class\": \"ReLU\", \"kargs\": {\"inplace\": True}},\n",
    "        {\"class\": \"BatchNorm2d\", \"kargs\": {\"num_features\": 256}},\n",
    "        {\n",
    "            \"class\": \"Conv2d\",\n",
    "            \"kargs\": {\n",
    "                \"in_channels\": 256,\n",
    "                \"out_channels\": 80,\n",
    "                \"kernel_size\": [2, 7],\n",
    "                \"bias\": True,\n",
    "                \"padding\": [0, 3],\n",
    "            },\n",
    "        },\n",
    "        {\"class\": \"ReLU\", \"kargs\": {\"inplace\": True}},\n",
    "        {\"class\": \"BatchNorm2d\", \"kargs\": {\"num_features\": 80}},\n",
    "        {\"class\": \"Flatten\", \"kargs\": {}},\n",
    "        {\"class\": \"Linear\", \"kargs\": {\"in_features\": 20480, \"out_features\": 256}},\n",
    "        {\"class\": \"ReLU\", \"kargs\": {\"inplace\": True}},\n",
    "        {\"class\": \"BatchNorm1d\", \"kargs\": {\"num_features\": 256}},\n",
    "        {\"class\": \"Linear\", \"kargs\": {\"in_features\": 256, \"out_features\": 16}},\n",
    "    ],\n",
    "    \"NUM_LOGS_PER_EPOCH\": 10,\n",
    "    \"BEST_MODEL_PATH\": \"./best_model.pth\",\n",
    "    \"dataset_seed\": 500,\n",
    "    \"seed\": 500,\n",
    "}\n"
   ]
  },
  {
   "cell_type": "code",
   "execution_count": 5,
   "id": "759b56ec",
   "metadata": {
    "execution": {
     "iopub.execute_input": "2022-03-27T07:42:13.796185Z",
     "iopub.status.busy": "2022-03-27T07:42:13.795816Z",
     "iopub.status.idle": "2022-03-27T07:42:13.798449Z",
     "shell.execute_reply": "2022-03-27T07:42:13.798131Z"
    },
    "papermill": {
     "duration": 0.021004,
     "end_time": "2022-03-27T07:42:13.798518",
     "exception": false,
     "start_time": "2022-03-27T07:42:13.777514",
     "status": "completed"
    },
    "tags": []
   },
   "outputs": [],
   "source": [
    "# Set this to True if you want to run this template directly\n",
    "STANDALONE = False\n",
    "if STANDALONE:\n",
    "    print(\"parameters not injected, running with standalone_parameters\")\n",
    "    parameters = standalone_parameters\n",
    "\n",
    "if not 'parameters' in locals() and not 'parameters' in globals():\n",
    "    raise Exception(\"Parameter injection failed\")\n",
    "\n",
    "#Use an easy dict for all the parameters\n",
    "p = EasyDict(parameters)\n",
    "\n",
    "supplied_keys = set(p.keys())\n",
    "\n",
    "if  supplied_keys != required_parameters:\n",
    "    print(\"Parameters are incorrect\")\n",
    "    if len(supplied_keys - required_parameters)>0: print(\"Shouldn't have:\", str(supplied_keys - required_parameters))\n",
    "    if len(required_parameters - supplied_keys)>0: print(\"Need to have:\", str(required_parameters - supplied_keys))\n",
    "    raise RuntimeError(\"Parameters are incorrect\")\n",
    "\n"
   ]
  },
  {
   "cell_type": "code",
   "execution_count": 6,
   "id": "d5c66a71",
   "metadata": {
    "execution": {
     "iopub.execute_input": "2022-03-27T07:42:13.833677Z",
     "iopub.status.busy": "2022-03-27T07:42:13.833314Z",
     "iopub.status.idle": "2022-03-27T07:42:13.837895Z",
     "shell.execute_reply": "2022-03-27T07:42:13.837415Z"
    },
    "papermill": {
     "duration": 0.022189,
     "end_time": "2022-03-27T07:42:13.838047",
     "exception": false,
     "start_time": "2022-03-27T07:42:13.815858",
     "status": "completed"
    },
    "tags": []
   },
   "outputs": [],
   "source": [
    "###################################\n",
    "# Set the RNGs and make it all deterministic\n",
    "###################################\n",
    "np.random.seed(p.seed)\n",
    "random.seed(p.seed)\n",
    "torch.manual_seed(p.seed)\n",
    "\n",
    "torch.use_deterministic_algorithms(True) "
   ]
  },
  {
   "cell_type": "code",
   "execution_count": 7,
   "id": "92a65876",
   "metadata": {
    "execution": {
     "iopub.execute_input": "2022-03-27T07:42:13.873967Z",
     "iopub.status.busy": "2022-03-27T07:42:13.873608Z",
     "iopub.status.idle": "2022-03-27T07:42:13.876170Z",
     "shell.execute_reply": "2022-03-27T07:42:13.876466Z"
    },
    "papermill": {
     "duration": 0.019687,
     "end_time": "2022-03-27T07:42:13.876546",
     "exception": false,
     "start_time": "2022-03-27T07:42:13.856859",
     "status": "completed"
    },
    "tags": []
   },
   "outputs": [],
   "source": [
    "torch.set_default_dtype(eval(p.torch_default_dtype))"
   ]
  },
  {
   "cell_type": "code",
   "execution_count": 8,
   "id": "f1a32f01",
   "metadata": {
    "execution": {
     "iopub.execute_input": "2022-03-27T07:42:13.910440Z",
     "iopub.status.busy": "2022-03-27T07:42:13.909897Z",
     "iopub.status.idle": "2022-03-27T07:42:13.951417Z",
     "shell.execute_reply": "2022-03-27T07:42:13.950616Z"
    },
    "papermill": {
     "duration": 0.058931,
     "end_time": "2022-03-27T07:42:13.951587",
     "exception": false,
     "start_time": "2022-03-27T07:42:13.892656",
     "status": "completed"
    },
    "tags": []
   },
   "outputs": [],
   "source": [
    "###################################\n",
    "# Build the network(s)\n",
    "# Note: It's critical to do this AFTER setting the RNG\n",
    "###################################\n",
    "x_net = build_sequential(p.x_net)"
   ]
  },
  {
   "cell_type": "code",
   "execution_count": 9,
   "id": "a276cd83",
   "metadata": {
    "execution": {
     "iopub.execute_input": "2022-03-27T07:42:13.989542Z",
     "iopub.status.busy": "2022-03-27T07:42:13.989000Z",
     "iopub.status.idle": "2022-03-27T07:42:13.991452Z",
     "shell.execute_reply": "2022-03-27T07:42:13.991914Z"
    },
    "papermill": {
     "duration": 0.020369,
     "end_time": "2022-03-27T07:42:13.992035",
     "exception": false,
     "start_time": "2022-03-27T07:42:13.971666",
     "status": "completed"
    },
    "tags": []
   },
   "outputs": [],
   "source": [
    "start_time_secs = time.time()"
   ]
  },
  {
   "cell_type": "code",
   "execution_count": 10,
   "id": "de702e48",
   "metadata": {
    "execution": {
     "iopub.execute_input": "2022-03-27T07:42:14.039953Z",
     "iopub.status.busy": "2022-03-27T07:42:14.032756Z",
     "iopub.status.idle": "2022-03-27T07:42:51.906888Z",
     "shell.execute_reply": "2022-03-27T07:42:51.907582Z"
    },
    "papermill": {
     "duration": 37.896567,
     "end_time": "2022-03-27T07:42:51.907819",
     "exception": false,
     "start_time": "2022-03-27T07:42:14.011252",
     "status": "completed"
    },
    "tags": []
   },
   "outputs": [],
   "source": [
    "def wrap_in_dataloader(p, ds):\n",
    "    return torch.utils.data.DataLoader(\n",
    "        ds,\n",
    "        batch_size=p.batch_size,\n",
    "        shuffle=True,\n",
    "        num_workers=1,\n",
    "        persistent_workers=True,\n",
    "        prefetch_factor=50,\n",
    "        pin_memory=True\n",
    "    )\n",
    "\n",
    "taf_source = Traditional_Accessor_Factory(\n",
    "    labels=p.labels,\n",
    "    domains=p.domains_source,\n",
    "    num_examples_per_domain_per_label=p.num_examples_per_domain_per_label_source,\n",
    "    pickle_path=os.path.join(get_datasets_base_path(), p.pickle_name_source),\n",
    "    seed=p.dataset_seed\n",
    ")\n",
    "train_original_source, val_original_source, test_original_source = \\\n",
    "    taf_source.get_train(), taf_source.get_val(), taf_source.get_test()\n",
    "\n",
    "\n",
    "taf_target = Traditional_Accessor_Factory(\n",
    "    labels=p.labels,\n",
    "    domains=p.domains_target,\n",
    "    num_examples_per_domain_per_label=p.num_examples_per_domain_per_label_source,\n",
    "    pickle_path=os.path.join(get_datasets_base_path(), p.pickle_name_target),\n",
    "    seed=p.dataset_seed\n",
    ")\n",
    "train_original_target, val_original_target, test_original_target = \\\n",
    "    taf_target.get_train(), taf_target.get_val(), taf_target.get_test()\n",
    "\n",
    "\n",
    "# For CNN We only use X and Y. And we only train on the source.\n",
    "# Properly form the data using a transform lambda and Lazy_Map. Finally wrap them in a dataloader\n",
    "\n",
    "transform_lambda = lambda ex: ex[:2] # Strip the tuple to just (x,y)\n",
    "\n",
    "\n",
    "train_processed_source = wrap_in_dataloader(\n",
    "    p,\n",
    "    Lazy_Map(train_original_source, transform_lambda)\n",
    ")\n",
    "val_processed_source = wrap_in_dataloader(\n",
    "    p,\n",
    "    Lazy_Map(val_original_source, transform_lambda)\n",
    ")\n",
    "test_processed_source = wrap_in_dataloader(\n",
    "    p,\n",
    "    Lazy_Map(test_original_source, transform_lambda)\n",
    ")\n",
    "\n",
    "train_processed_target = wrap_in_dataloader(\n",
    "    p,\n",
    "    Lazy_Map(train_original_target, transform_lambda)\n",
    ")\n",
    "val_processed_target = wrap_in_dataloader(\n",
    "    p,\n",
    "    Lazy_Map(val_original_target, transform_lambda)\n",
    ")\n",
    "test_processed_target  = wrap_in_dataloader(\n",
    "    p,\n",
    "    Lazy_Map(test_original_target, transform_lambda)\n",
    ")\n",
    "\n",
    "\n",
    "\n",
    "datasets = EasyDict({\n",
    "    \"source\": {\n",
    "        \"original\": {\"train\":train_original_source, \"val\":val_original_source, \"test\":test_original_source},\n",
    "        \"processed\": {\"train\":train_processed_source, \"val\":val_processed_source, \"test\":test_processed_source}\n",
    "    },\n",
    "    \"target\": {\n",
    "        \"original\": {\"train\":train_original_target, \"val\":val_original_target, \"test\":test_original_target},\n",
    "        \"processed\": {\"train\":train_processed_target, \"val\":val_processed_target, \"test\":test_processed_target}\n",
    "    },\n",
    "})"
   ]
  },
  {
   "cell_type": "code",
   "execution_count": 11,
   "id": "a11b26bd",
   "metadata": {
    "execution": {
     "iopub.execute_input": "2022-03-27T07:42:51.985898Z",
     "iopub.status.busy": "2022-03-27T07:42:51.985080Z",
     "iopub.status.idle": "2022-03-27T07:42:57.857725Z",
     "shell.execute_reply": "2022-03-27T07:42:57.856879Z"
    },
    "papermill": {
     "duration": 5.931119,
     "end_time": "2022-03-27T07:42:57.857907",
     "exception": false,
     "start_time": "2022-03-27T07:42:51.926788",
     "status": "completed"
    },
    "tags": []
   },
   "outputs": [
    {
     "data": {
      "text/plain": [
       "torch.float32"
      ]
     },
     "execution_count": 11,
     "metadata": {},
     "output_type": "execute_result"
    }
   ],
   "source": [
    "ep = next(iter(test_processed_target))\n",
    "ep[0].dtype"
   ]
  },
  {
   "cell_type": "code",
   "execution_count": 12,
   "id": "19425fad",
   "metadata": {
    "execution": {
     "iopub.execute_input": "2022-03-27T07:42:57.897939Z",
     "iopub.status.busy": "2022-03-27T07:42:57.897562Z",
     "iopub.status.idle": "2022-03-27T07:42:57.945625Z",
     "shell.execute_reply": "2022-03-27T07:42:57.944778Z"
    },
    "papermill": {
     "duration": 0.067888,
     "end_time": "2022-03-27T07:42:57.945812",
     "exception": false,
     "start_time": "2022-03-27T07:42:57.877924",
     "status": "completed"
    },
    "tags": []
   },
   "outputs": [],
   "source": [
    "model = Configurable_Vanilla(\n",
    "    x_net=x_net,\n",
    "    label_loss_object=torch.nn.NLLLoss(),\n",
    "    learning_rate=p.lr\n",
    ")"
   ]
  },
  {
   "cell_type": "code",
   "execution_count": 13,
   "id": "7f6d4f2c",
   "metadata": {
    "execution": {
     "iopub.execute_input": "2022-03-27T07:42:57.987225Z",
     "iopub.status.busy": "2022-03-27T07:42:57.986856Z",
     "iopub.status.idle": "2022-03-27T08:04:07.021369Z",
     "shell.execute_reply": "2022-03-27T08:04:07.022036Z"
    },
    "papermill": {
     "duration": 1269.054533,
     "end_time": "2022-03-27T08:04:07.022247",
     "exception": false,
     "start_time": "2022-03-27T07:42:57.967714",
     "status": "completed"
    },
    "tags": []
   },
   "outputs": [
    {
     "name": "stdout",
     "output_type": "stream",
     "text": [
      "epoch: 1, [batch: 1 / 7000], examples_per_second: 346.4726, train_label_loss: 2.7896, \n"
     ]
    },
    {
     "name": "stdout",
     "output_type": "stream",
     "text": [
      "epoch: 1, [batch: 700 / 7000], examples_per_second: 10657.8818, train_label_loss: 2.6215, \n"
     ]
    },
    {
     "name": "stdout",
     "output_type": "stream",
     "text": [
      "epoch: 1, [batch: 1400 / 7000], examples_per_second: 10699.3402, train_label_loss: 2.7175, \n"
     ]
    },
    {
     "name": "stdout",
     "output_type": "stream",
     "text": [
      "epoch: 1, [batch: 2100 / 7000], examples_per_second: 10710.4811, train_label_loss: 2.2888, \n"
     ]
    },
    {
     "name": "stdout",
     "output_type": "stream",
     "text": [
      "epoch: 1, [batch: 2800 / 7000], examples_per_second: 10647.1722, train_label_loss: 2.1488, \n"
     ]
    },
    {
     "name": "stdout",
     "output_type": "stream",
     "text": [
      "epoch: 1, [batch: 3500 / 7000], examples_per_second: 10626.2062, train_label_loss: 2.0425, \n"
     ]
    },
    {
     "name": "stdout",
     "output_type": "stream",
     "text": [
      "epoch: 1, [batch: 4200 / 7000], examples_per_second: 11408.8371, train_label_loss: 1.8185, \n"
     ]
    },
    {
     "name": "stdout",
     "output_type": "stream",
     "text": [
      "epoch: 1, [batch: 4900 / 7000], examples_per_second: 11687.8658, train_label_loss: 1.7286, \n"
     ]
    },
    {
     "name": "stdout",
     "output_type": "stream",
     "text": [
      "epoch: 1, [batch: 5600 / 7000], examples_per_second: 11666.9165, train_label_loss: 1.7556, \n"
     ]
    },
    {
     "name": "stdout",
     "output_type": "stream",
     "text": [
      "epoch: 1, [batch: 6300 / 7000], examples_per_second: 11665.8177, train_label_loss: 1.4033, \n"
     ]
    },
    {
     "name": "stdout",
     "output_type": "stream",
     "text": [
      "=============================================================\n",
      "epoch: 1, source_val_acc_label: 0.5850, source_val_label_loss: 1.2488, target_val_acc_label: 0.5850, target_val_label_loss: 1.2488, \n",
      "=============================================================\n"
     ]
    },
    {
     "name": "stdout",
     "output_type": "stream",
     "text": [
      "New best\n",
      "epoch: 2, [batch: 1 / 7000], examples_per_second: 12.4792, train_label_loss: 1.2683, \n"
     ]
    },
    {
     "name": "stdout",
     "output_type": "stream",
     "text": [
      "epoch: 2, [batch: 700 / 7000], examples_per_second: 11595.5883, train_label_loss: 1.3039, \n"
     ]
    },
    {
     "name": "stdout",
     "output_type": "stream",
     "text": [
      "epoch: 2, [batch: 1400 / 7000], examples_per_second: 11618.2043, train_label_loss: 1.4369, \n"
     ]
    },
    {
     "name": "stdout",
     "output_type": "stream",
     "text": [
      "epoch: 2, [batch: 2100 / 7000], examples_per_second: 11730.8525, train_label_loss: 1.1441, \n"
     ]
    },
    {
     "name": "stdout",
     "output_type": "stream",
     "text": [
      "epoch: 2, [batch: 2800 / 7000], examples_per_second: 11652.2146, train_label_loss: 1.1252, \n"
     ]
    },
    {
     "name": "stdout",
     "output_type": "stream",
     "text": [
      "epoch: 2, [batch: 3500 / 7000], examples_per_second: 11586.6002, train_label_loss: 1.3871, \n"
     ]
    },
    {
     "name": "stdout",
     "output_type": "stream",
     "text": [
      "epoch: 2, [batch: 4200 / 7000], examples_per_second: 11595.0426, train_label_loss: 0.9894, \n"
     ]
    },
    {
     "name": "stdout",
     "output_type": "stream",
     "text": [
      "epoch: 2, [batch: 4900 / 7000], examples_per_second: 11564.2026, train_label_loss: 1.0142, \n"
     ]
    },
    {
     "name": "stdout",
     "output_type": "stream",
     "text": [
      "epoch: 2, [batch: 5600 / 7000], examples_per_second: 11709.0656, train_label_loss: 0.8917, \n"
     ]
    },
    {
     "name": "stdout",
     "output_type": "stream",
     "text": [
      "epoch: 2, [batch: 6300 / 7000], examples_per_second: 11644.0589, train_label_loss: 1.0228, \n"
     ]
    },
    {
     "name": "stdout",
     "output_type": "stream",
     "text": [
      "=============================================================\n",
      "epoch: 2, source_val_acc_label: 0.7041, source_val_label_loss: 0.8602, target_val_acc_label: 0.7041, target_val_label_loss: 0.8602, \n",
      "=============================================================\n"
     ]
    },
    {
     "name": "stdout",
     "output_type": "stream",
     "text": [
      "New best\n",
      "epoch: 3, [batch: 1 / 7000], examples_per_second: 12.9813, train_label_loss: 0.9462, \n"
     ]
    },
    {
     "name": "stdout",
     "output_type": "stream",
     "text": [
      "epoch: 3, [batch: 700 / 7000], examples_per_second: 11698.9986, train_label_loss: 1.1292, \n"
     ]
    },
    {
     "name": "stdout",
     "output_type": "stream",
     "text": [
      "epoch: 3, [batch: 1400 / 7000], examples_per_second: 11636.0710, train_label_loss: 0.8118, \n"
     ]
    },
    {
     "name": "stdout",
     "output_type": "stream",
     "text": [
      "epoch: 3, [batch: 2100 / 7000], examples_per_second: 11659.3992, train_label_loss: 0.9318, \n"
     ]
    },
    {
     "name": "stdout",
     "output_type": "stream",
     "text": [
      "epoch: 3, [batch: 2800 / 7000], examples_per_second: 11648.3404, train_label_loss: 0.7742, \n"
     ]
    },
    {
     "name": "stdout",
     "output_type": "stream",
     "text": [
      "epoch: 3, [batch: 3500 / 7000], examples_per_second: 11714.8921, train_label_loss: 0.8467, \n"
     ]
    },
    {
     "name": "stdout",
     "output_type": "stream",
     "text": [
      "epoch: 3, [batch: 4200 / 7000], examples_per_second: 11667.9253, train_label_loss: 0.7236, \n"
     ]
    },
    {
     "name": "stdout",
     "output_type": "stream",
     "text": [
      "epoch: 3, [batch: 4900 / 7000], examples_per_second: 11687.2657, train_label_loss: 0.9104, \n"
     ]
    },
    {
     "name": "stdout",
     "output_type": "stream",
     "text": [
      "epoch: 3, [batch: 5600 / 7000], examples_per_second: 11679.8010, train_label_loss: 0.7742, \n"
     ]
    },
    {
     "name": "stdout",
     "output_type": "stream",
     "text": [
      "epoch: 3, [batch: 6300 / 7000], examples_per_second: 12826.9264, train_label_loss: 1.0241, \n"
     ]
    },
    {
     "name": "stdout",
     "output_type": "stream",
     "text": [
      "=============================================================\n",
      "epoch: 3, source_val_acc_label: 0.7410, source_val_label_loss: 0.7395, target_val_acc_label: 0.7410, target_val_label_loss: 0.7395, \n",
      "=============================================================\n"
     ]
    },
    {
     "name": "stdout",
     "output_type": "stream",
     "text": [
      "New best\n",
      "epoch: 4, [batch: 1 / 7000], examples_per_second: 14.8396, train_label_loss: 0.6052, \n"
     ]
    },
    {
     "name": "stdout",
     "output_type": "stream",
     "text": [
      "epoch: 4, [batch: 700 / 7000], examples_per_second: 12891.5125, train_label_loss: 0.7592, \n"
     ]
    },
    {
     "name": "stdout",
     "output_type": "stream",
     "text": [
      "epoch: 4, [batch: 1400 / 7000], examples_per_second: 12827.8393, train_label_loss: 0.5633, \n"
     ]
    },
    {
     "name": "stdout",
     "output_type": "stream",
     "text": [
      "epoch: 4, [batch: 2100 / 7000], examples_per_second: 12825.8766, train_label_loss: 0.8839, \n"
     ]
    },
    {
     "name": "stdout",
     "output_type": "stream",
     "text": [
      "epoch: 4, [batch: 2800 / 7000], examples_per_second: 12817.3619, train_label_loss: 0.5259, \n"
     ]
    },
    {
     "name": "stdout",
     "output_type": "stream",
     "text": [
      "epoch: 4, [batch: 3500 / 7000], examples_per_second: 12778.0146, train_label_loss: 0.5410, \n"
     ]
    },
    {
     "name": "stdout",
     "output_type": "stream",
     "text": [
      "epoch: 4, [batch: 4200 / 7000], examples_per_second: 12875.8077, train_label_loss: 0.8661, \n"
     ]
    },
    {
     "name": "stdout",
     "output_type": "stream",
     "text": [
      "epoch: 4, [batch: 4900 / 7000], examples_per_second: 12813.0050, train_label_loss: 0.6172, \n"
     ]
    },
    {
     "name": "stdout",
     "output_type": "stream",
     "text": [
      "epoch: 4, [batch: 5600 / 7000], examples_per_second: 12879.4734, train_label_loss: 0.6494, \n"
     ]
    },
    {
     "name": "stdout",
     "output_type": "stream",
     "text": [
      "epoch: 4, [batch: 6300 / 7000], examples_per_second: 12758.2201, train_label_loss: 0.4851, \n"
     ]
    },
    {
     "name": "stdout",
     "output_type": "stream",
     "text": [
      "=============================================================\n",
      "epoch: 4, source_val_acc_label: 0.7669, source_val_label_loss: 0.6424, target_val_acc_label: 0.7669, target_val_label_loss: 0.6424, \n",
      "=============================================================\n"
     ]
    },
    {
     "name": "stdout",
     "output_type": "stream",
     "text": [
      "New best\n",
      "epoch: 5, [batch: 1 / 7000], examples_per_second: 14.8928, train_label_loss: 0.5002, \n"
     ]
    },
    {
     "name": "stdout",
     "output_type": "stream",
     "text": [
      "epoch: 5, [batch: 700 / 7000], examples_per_second: 12913.9608, train_label_loss: 0.5544, \n"
     ]
    },
    {
     "name": "stdout",
     "output_type": "stream",
     "text": [
      "epoch: 5, [batch: 1400 / 7000], examples_per_second: 12905.9146, train_label_loss: 0.6334, \n"
     ]
    },
    {
     "name": "stdout",
     "output_type": "stream",
     "text": [
      "epoch: 5, [batch: 2100 / 7000], examples_per_second: 12906.4735, train_label_loss: 0.4132, \n"
     ]
    },
    {
     "name": "stdout",
     "output_type": "stream",
     "text": [
      "epoch: 5, [batch: 2800 / 7000], examples_per_second: 13103.3301, train_label_loss: 0.4474, \n"
     ]
    },
    {
     "name": "stdout",
     "output_type": "stream",
     "text": [
      "epoch: 5, [batch: 3500 / 7000], examples_per_second: 13882.0039, train_label_loss: 0.6442, \n"
     ]
    },
    {
     "name": "stdout",
     "output_type": "stream",
     "text": [
      "epoch: 5, [batch: 4200 / 7000], examples_per_second: 14009.2398, train_label_loss: 0.4397, \n"
     ]
    },
    {
     "name": "stdout",
     "output_type": "stream",
     "text": [
      "epoch: 5, [batch: 4900 / 7000], examples_per_second: 13966.2490, train_label_loss: 0.7186, \n"
     ]
    },
    {
     "name": "stdout",
     "output_type": "stream",
     "text": [
      "epoch: 5, [batch: 5600 / 7000], examples_per_second: 14508.3503, train_label_loss: 0.5084, \n"
     ]
    },
    {
     "name": "stdout",
     "output_type": "stream",
     "text": [
      "epoch: 5, [batch: 6300 / 7000], examples_per_second: 14015.9259, train_label_loss: 0.6577, \n"
     ]
    },
    {
     "name": "stdout",
     "output_type": "stream",
     "text": [
      "=============================================================\n",
      "epoch: 5, source_val_acc_label: 0.7633, source_val_label_loss: 0.6440, target_val_acc_label: 0.7633, target_val_label_loss: 0.6440, \n",
      "=============================================================\n"
     ]
    },
    {
     "name": "stdout",
     "output_type": "stream",
     "text": [
      "epoch: 6, [batch: 1 / 7000], examples_per_second: 16.5961, train_label_loss: 0.4500, \n"
     ]
    },
    {
     "name": "stdout",
     "output_type": "stream",
     "text": [
      "epoch: 6, [batch: 700 / 7000], examples_per_second: 13972.8847, train_label_loss: 0.6061, \n"
     ]
    },
    {
     "name": "stdout",
     "output_type": "stream",
     "text": [
      "epoch: 6, [batch: 1400 / 7000], examples_per_second: 13961.2816, train_label_loss: 0.6198, \n"
     ]
    },
    {
     "name": "stdout",
     "output_type": "stream",
     "text": [
      "epoch: 6, [batch: 2100 / 7000], examples_per_second: 13923.5048, train_label_loss: 0.7088, \n"
     ]
    },
    {
     "name": "stdout",
     "output_type": "stream",
     "text": [
      "epoch: 6, [batch: 2800 / 7000], examples_per_second: 13945.0514, train_label_loss: 0.5085, \n"
     ]
    },
    {
     "name": "stdout",
     "output_type": "stream",
     "text": [
      "epoch: 6, [batch: 3500 / 7000], examples_per_second: 13901.6205, train_label_loss: 0.6198, \n"
     ]
    },
    {
     "name": "stdout",
     "output_type": "stream",
     "text": [
      "epoch: 6, [batch: 4200 / 7000], examples_per_second: 13986.7626, train_label_loss: 0.6601, \n"
     ]
    },
    {
     "name": "stdout",
     "output_type": "stream",
     "text": [
      "epoch: 6, [batch: 4900 / 7000], examples_per_second: 13771.1054, train_label_loss: 0.3654, \n"
     ]
    },
    {
     "name": "stdout",
     "output_type": "stream",
     "text": [
      "epoch: 6, [batch: 5600 / 7000], examples_per_second: 13596.7995, train_label_loss: 0.3696, \n"
     ]
    },
    {
     "name": "stdout",
     "output_type": "stream",
     "text": [
      "epoch: 6, [batch: 6300 / 7000], examples_per_second: 13905.4881, train_label_loss: 0.6381, \n"
     ]
    },
    {
     "name": "stdout",
     "output_type": "stream",
     "text": [
      "=============================================================\n",
      "epoch: 6, source_val_acc_label: 0.7667, source_val_label_loss: 0.6363, target_val_acc_label: 0.7667, target_val_label_loss: 0.6363, \n",
      "=============================================================\n"
     ]
    },
    {
     "name": "stdout",
     "output_type": "stream",
     "text": [
      "epoch: 7, [batch: 1 / 7000], examples_per_second: 16.3089, train_label_loss: 0.6749, \n"
     ]
    },
    {
     "name": "stdout",
     "output_type": "stream",
     "text": [
      "epoch: 7, [batch: 700 / 7000], examples_per_second: 13965.9213, train_label_loss: 0.6598, \n"
     ]
    },
    {
     "name": "stdout",
     "output_type": "stream",
     "text": [
      "epoch: 7, [batch: 1400 / 7000], examples_per_second: 13929.1227, train_label_loss: 0.3996, \n"
     ]
    },
    {
     "name": "stdout",
     "output_type": "stream",
     "text": [
      "epoch: 7, [batch: 2100 / 7000], examples_per_second: 16416.6205, train_label_loss: 0.4585, \n"
     ]
    },
    {
     "name": "stdout",
     "output_type": "stream",
     "text": [
      "epoch: 7, [batch: 2800 / 7000], examples_per_second: 16834.6115, train_label_loss: 0.4241, \n"
     ]
    },
    {
     "name": "stdout",
     "output_type": "stream",
     "text": [
      "epoch: 7, [batch: 3500 / 7000], examples_per_second: 16925.7920, train_label_loss: 0.3305, \n"
     ]
    },
    {
     "name": "stdout",
     "output_type": "stream",
     "text": [
      "epoch: 7, [batch: 4200 / 7000], examples_per_second: 16946.2014, train_label_loss: 0.4602, \n"
     ]
    },
    {
     "name": "stdout",
     "output_type": "stream",
     "text": [
      "epoch: 7, [batch: 4900 / 7000], examples_per_second: 17045.3686, train_label_loss: 0.4235, \n"
     ]
    },
    {
     "name": "stdout",
     "output_type": "stream",
     "text": [
      "epoch: 7, [batch: 5600 / 7000], examples_per_second: 16898.0142, train_label_loss: 0.7367, \n"
     ]
    },
    {
     "name": "stdout",
     "output_type": "stream",
     "text": [
      "epoch: 7, [batch: 6300 / 7000], examples_per_second: 16866.6045, train_label_loss: 0.3525, \n"
     ]
    },
    {
     "name": "stdout",
     "output_type": "stream",
     "text": [
      "=============================================================\n",
      "epoch: 7, source_val_acc_label: 0.7454, source_val_label_loss: 0.7039, target_val_acc_label: 0.7454, target_val_label_loss: 0.7039, \n",
      "=============================================================\n"
     ]
    },
    {
     "name": "stdout",
     "output_type": "stream",
     "text": [
      "epoch: 8, [batch: 1 / 7000], examples_per_second: 19.4887, train_label_loss: 0.3298, \n"
     ]
    },
    {
     "name": "stdout",
     "output_type": "stream",
     "text": [
      "epoch: 8, [batch: 700 / 7000], examples_per_second: 16972.0770, train_label_loss: 0.4667, \n"
     ]
    },
    {
     "name": "stdout",
     "output_type": "stream",
     "text": [
      "epoch: 8, [batch: 1400 / 7000], examples_per_second: 16915.3837, train_label_loss: 0.2647, \n"
     ]
    },
    {
     "name": "stdout",
     "output_type": "stream",
     "text": [
      "epoch: 8, [batch: 2100 / 7000], examples_per_second: 16620.2592, train_label_loss: 0.5064, \n"
     ]
    },
    {
     "name": "stdout",
     "output_type": "stream",
     "text": [
      "epoch: 8, [batch: 2800 / 7000], examples_per_second: 16955.2361, train_label_loss: 0.3720, \n"
     ]
    },
    {
     "name": "stdout",
     "output_type": "stream",
     "text": [
      "epoch: 8, [batch: 3500 / 7000], examples_per_second: 16452.8006, train_label_loss: 0.4048, \n"
     ]
    },
    {
     "name": "stdout",
     "output_type": "stream",
     "text": [
      "epoch: 8, [batch: 4200 / 7000], examples_per_second: 15894.5484, train_label_loss: 0.2832, \n"
     ]
    },
    {
     "name": "stdout",
     "output_type": "stream",
     "text": [
      "epoch: 8, [batch: 4900 / 7000], examples_per_second: 16947.4257, train_label_loss: 0.5382, \n"
     ]
    },
    {
     "name": "stdout",
     "output_type": "stream",
     "text": [
      "epoch: 8, [batch: 5600 / 7000], examples_per_second: 16589.5504, train_label_loss: 0.4299, \n"
     ]
    },
    {
     "name": "stdout",
     "output_type": "stream",
     "text": [
      "epoch: 8, [batch: 6300 / 7000], examples_per_second: 14695.1029, train_label_loss: 0.4115, \n"
     ]
    },
    {
     "name": "stdout",
     "output_type": "stream",
     "text": [
      "=============================================================\n",
      "epoch: 8, source_val_acc_label: 0.7778, source_val_label_loss: 0.6200, target_val_acc_label: 0.7778, target_val_label_loss: 0.6200, \n",
      "=============================================================\n"
     ]
    },
    {
     "name": "stdout",
     "output_type": "stream",
     "text": [
      "New best\n",
      "epoch: 9, [batch: 1 / 7000], examples_per_second: 14.3815, train_label_loss: 0.2711, \n"
     ]
    },
    {
     "name": "stdout",
     "output_type": "stream",
     "text": [
      "epoch: 9, [batch: 700 / 7000], examples_per_second: 12518.3826, train_label_loss: 0.2485, \n"
     ]
    },
    {
     "name": "stdout",
     "output_type": "stream",
     "text": [
      "epoch: 9, [batch: 1400 / 7000], examples_per_second: 12508.7564, train_label_loss: 0.2477, \n"
     ]
    },
    {
     "name": "stdout",
     "output_type": "stream",
     "text": [
      "epoch: 9, [batch: 2100 / 7000], examples_per_second: 12428.9628, train_label_loss: 0.2767, \n"
     ]
    },
    {
     "name": "stdout",
     "output_type": "stream",
     "text": [
      "epoch: 9, [batch: 2800 / 7000], examples_per_second: 12449.5740, train_label_loss: 0.5701, \n"
     ]
    },
    {
     "name": "stdout",
     "output_type": "stream",
     "text": [
      "epoch: 9, [batch: 3500 / 7000], examples_per_second: 12437.2202, train_label_loss: 0.5301, \n"
     ]
    },
    {
     "name": "stdout",
     "output_type": "stream",
     "text": [
      "epoch: 9, [batch: 4200 / 7000], examples_per_second: 12440.0259, train_label_loss: 0.2411, \n"
     ]
    },
    {
     "name": "stdout",
     "output_type": "stream",
     "text": [
      "epoch: 9, [batch: 4900 / 7000], examples_per_second: 12470.6369, train_label_loss: 0.4150, \n"
     ]
    },
    {
     "name": "stdout",
     "output_type": "stream",
     "text": [
      "epoch: 9, [batch: 5600 / 7000], examples_per_second: 12696.9133, train_label_loss: 0.7703, \n"
     ]
    },
    {
     "name": "stdout",
     "output_type": "stream",
     "text": [
      "epoch: 9, [batch: 6300 / 7000], examples_per_second: 12416.8977, train_label_loss: 0.4533, \n"
     ]
    },
    {
     "name": "stdout",
     "output_type": "stream",
     "text": [
      "=============================================================\n",
      "epoch: 9, source_val_acc_label: 0.7876, source_val_label_loss: 0.5953, target_val_acc_label: 0.7876, target_val_label_loss: 0.5953, \n",
      "=============================================================\n"
     ]
    },
    {
     "name": "stdout",
     "output_type": "stream",
     "text": [
      "New best\n",
      "epoch: 10, [batch: 1 / 7000], examples_per_second: 14.3724, train_label_loss: 0.2215, \n"
     ]
    },
    {
     "name": "stdout",
     "output_type": "stream",
     "text": [
      "epoch: 10, [batch: 700 / 7000], examples_per_second: 12421.0272, train_label_loss: 0.2355, \n"
     ]
    },
    {
     "name": "stdout",
     "output_type": "stream",
     "text": [
      "epoch: 10, [batch: 1400 / 7000], examples_per_second: 11984.4950, train_label_loss: 0.3587, \n"
     ]
    },
    {
     "name": "stdout",
     "output_type": "stream",
     "text": [
      "epoch: 10, [batch: 2100 / 7000], examples_per_second: 12408.7868, train_label_loss: 0.3274, \n"
     ]
    },
    {
     "name": "stdout",
     "output_type": "stream",
     "text": [
      "epoch: 10, [batch: 2800 / 7000], examples_per_second: 12458.2475, train_label_loss: 0.3212, \n"
     ]
    },
    {
     "name": "stdout",
     "output_type": "stream",
     "text": [
      "epoch: 10, [batch: 3500 / 7000], examples_per_second: 10678.0198, train_label_loss: 0.2510, \n"
     ]
    },
    {
     "name": "stdout",
     "output_type": "stream",
     "text": [
      "epoch: 10, [batch: 4200 / 7000], examples_per_second: 10642.5307, train_label_loss: 0.2715, \n"
     ]
    },
    {
     "name": "stdout",
     "output_type": "stream",
     "text": [
      "epoch: 10, [batch: 4900 / 7000], examples_per_second: 10647.6051, train_label_loss: 0.7171, \n"
     ]
    },
    {
     "name": "stdout",
     "output_type": "stream",
     "text": [
      "epoch: 10, [batch: 5600 / 7000], examples_per_second: 10605.5345, train_label_loss: 0.3509, \n"
     ]
    },
    {
     "name": "stdout",
     "output_type": "stream",
     "text": [
      "epoch: 10, [batch: 6300 / 7000], examples_per_second: 10642.7935, train_label_loss: 0.4225, \n"
     ]
    },
    {
     "name": "stdout",
     "output_type": "stream",
     "text": [
      "=============================================================\n",
      "epoch: 10, source_val_acc_label: 0.7861, source_val_label_loss: 0.6011, target_val_acc_label: 0.7861, target_val_label_loss: 0.6011, \n",
      "=============================================================\n"
     ]
    },
    {
     "name": "stdout",
     "output_type": "stream",
     "text": [
      "epoch: 11, [batch: 1 / 7000], examples_per_second: 11.4027, train_label_loss: 0.2407, \n"
     ]
    },
    {
     "name": "stdout",
     "output_type": "stream",
     "text": [
      "epoch: 11, [batch: 700 / 7000], examples_per_second: 10610.8345, train_label_loss: 0.2311, \n"
     ]
    },
    {
     "name": "stdout",
     "output_type": "stream",
     "text": [
      "epoch: 11, [batch: 1400 / 7000], examples_per_second: 10659.2935, train_label_loss: 0.2887, \n"
     ]
    },
    {
     "name": "stdout",
     "output_type": "stream",
     "text": [
      "epoch: 11, [batch: 2100 / 7000], examples_per_second: 10652.6037, train_label_loss: 0.2157, \n"
     ]
    },
    {
     "name": "stdout",
     "output_type": "stream",
     "text": [
      "epoch: 11, [batch: 2800 / 7000], examples_per_second: 10686.5278, train_label_loss: 0.3983, \n"
     ]
    },
    {
     "name": "stdout",
     "output_type": "stream",
     "text": [
      "epoch: 11, [batch: 3500 / 7000], examples_per_second: 10669.8013, train_label_loss: 0.2356, \n"
     ]
    },
    {
     "name": "stdout",
     "output_type": "stream",
     "text": [
      "epoch: 11, [batch: 4200 / 7000], examples_per_second: 10701.6999, train_label_loss: 0.2072, \n"
     ]
    },
    {
     "name": "stdout",
     "output_type": "stream",
     "text": [
      "epoch: 11, [batch: 4900 / 7000], examples_per_second: 11663.6764, train_label_loss: 0.3234, \n"
     ]
    },
    {
     "name": "stdout",
     "output_type": "stream",
     "text": [
      "epoch: 11, [batch: 5600 / 7000], examples_per_second: 11683.1081, train_label_loss: 0.3808, \n"
     ]
    },
    {
     "name": "stdout",
     "output_type": "stream",
     "text": [
      "epoch: 11, [batch: 6300 / 7000], examples_per_second: 11699.2405, train_label_loss: 0.3171, \n"
     ]
    },
    {
     "name": "stdout",
     "output_type": "stream",
     "text": [
      "=============================================================\n",
      "epoch: 11, source_val_acc_label: 0.7887, source_val_label_loss: 0.6029, target_val_acc_label: 0.7887, target_val_label_loss: 0.6029, \n",
      "=============================================================\n"
     ]
    },
    {
     "name": "stdout",
     "output_type": "stream",
     "text": [
      "New best\n",
      "epoch: 12, [batch: 1 / 7000], examples_per_second: 13.1173, train_label_loss: 0.1726, \n"
     ]
    },
    {
     "name": "stdout",
     "output_type": "stream",
     "text": [
      "epoch: 12, [batch: 700 / 7000], examples_per_second: 11673.2662, train_label_loss: 0.2481, \n"
     ]
    },
    {
     "name": "stdout",
     "output_type": "stream",
     "text": [
      "epoch: 12, [batch: 1400 / 7000], examples_per_second: 11753.1481, train_label_loss: 0.2202, \n"
     ]
    },
    {
     "name": "stdout",
     "output_type": "stream",
     "text": [
      "epoch: 12, [batch: 2100 / 7000], examples_per_second: 11703.2023, train_label_loss: 0.1486, \n"
     ]
    },
    {
     "name": "stdout",
     "output_type": "stream",
     "text": [
      "epoch: 12, [batch: 2800 / 7000], examples_per_second: 11946.8717, train_label_loss: 0.2457, \n"
     ]
    },
    {
     "name": "stdout",
     "output_type": "stream",
     "text": [
      "epoch: 12, [batch: 3500 / 7000], examples_per_second: 11357.6069, train_label_loss: 0.2188, \n"
     ]
    },
    {
     "name": "stdout",
     "output_type": "stream",
     "text": [
      "epoch: 12, [batch: 4200 / 7000], examples_per_second: 10672.0480, train_label_loss: 0.4396, \n"
     ]
    },
    {
     "name": "stdout",
     "output_type": "stream",
     "text": [
      "epoch: 12, [batch: 4900 / 7000], examples_per_second: 10669.9773, train_label_loss: 0.2611, \n"
     ]
    },
    {
     "name": "stdout",
     "output_type": "stream",
     "text": [
      "epoch: 12, [batch: 5600 / 7000], examples_per_second: 10696.0204, train_label_loss: 0.3447, \n"
     ]
    },
    {
     "name": "stdout",
     "output_type": "stream",
     "text": [
      "epoch: 12, [batch: 6300 / 7000], examples_per_second: 10644.8036, train_label_loss: 0.3815, \n"
     ]
    },
    {
     "name": "stdout",
     "output_type": "stream",
     "text": [
      "=============================================================\n",
      "epoch: 12, source_val_acc_label: 0.7817, source_val_label_loss: 0.6309, target_val_acc_label: 0.7817, target_val_label_loss: 0.6309, \n",
      "=============================================================\n"
     ]
    },
    {
     "name": "stdout",
     "output_type": "stream",
     "text": [
      "epoch: 13, [batch: 1 / 7000], examples_per_second: 11.3900, train_label_loss: 0.1874, \n"
     ]
    },
    {
     "name": "stdout",
     "output_type": "stream",
     "text": [
      "epoch: 13, [batch: 700 / 7000], examples_per_second: 10636.7333, train_label_loss: 0.1488, \n"
     ]
    },
    {
     "name": "stdout",
     "output_type": "stream",
     "text": [
      "epoch: 13, [batch: 1400 / 7000], examples_per_second: 10551.7639, train_label_loss: 0.2635, \n"
     ]
    },
    {
     "name": "stdout",
     "output_type": "stream",
     "text": [
      "epoch: 13, [batch: 2100 / 7000], examples_per_second: 10639.0017, train_label_loss: 0.2924, \n"
     ]
    },
    {
     "name": "stdout",
     "output_type": "stream",
     "text": [
      "epoch: 13, [batch: 2800 / 7000], examples_per_second: 11649.7880, train_label_loss: 0.3053, \n"
     ]
    },
    {
     "name": "stdout",
     "output_type": "stream",
     "text": [
      "epoch: 13, [batch: 3500 / 7000], examples_per_second: 11656.3387, train_label_loss: 0.1688, \n"
     ]
    },
    {
     "name": "stdout",
     "output_type": "stream",
     "text": [
      "epoch: 13, [batch: 4200 / 7000], examples_per_second: 11662.5786, train_label_loss: 0.3154, \n"
     ]
    },
    {
     "name": "stdout",
     "output_type": "stream",
     "text": [
      "epoch: 13, [batch: 4900 / 7000], examples_per_second: 11756.3583, train_label_loss: 0.3054, \n"
     ]
    },
    {
     "name": "stdout",
     "output_type": "stream",
     "text": [
      "epoch: 13, [batch: 5600 / 7000], examples_per_second: 11806.8585, train_label_loss: 0.1773, \n"
     ]
    },
    {
     "name": "stdout",
     "output_type": "stream",
     "text": [
      "epoch: 13, [batch: 6300 / 7000], examples_per_second: 11694.0777, train_label_loss: 0.2729, \n"
     ]
    },
    {
     "name": "stdout",
     "output_type": "stream",
     "text": [
      "=============================================================\n",
      "epoch: 13, source_val_acc_label: 0.7851, source_val_label_loss: 0.6236, target_val_acc_label: 0.7851, target_val_label_loss: 0.6236, \n",
      "=============================================================\n"
     ]
    },
    {
     "name": "stdout",
     "output_type": "stream",
     "text": [
      "epoch: 14, [batch: 1 / 7000], examples_per_second: 13.1454, train_label_loss: 0.1436, \n"
     ]
    },
    {
     "name": "stdout",
     "output_type": "stream",
     "text": [
      "epoch: 14, [batch: 700 / 7000], examples_per_second: 11932.4032, train_label_loss: 0.2628, \n"
     ]
    },
    {
     "name": "stdout",
     "output_type": "stream",
     "text": [
      "epoch: 14, [batch: 1400 / 7000], examples_per_second: 11318.8222, train_label_loss: 0.2364, \n"
     ]
    },
    {
     "name": "stdout",
     "output_type": "stream",
     "text": [
      "epoch: 14, [batch: 2100 / 7000], examples_per_second: 10620.1601, train_label_loss: 0.1280, \n"
     ]
    },
    {
     "name": "stdout",
     "output_type": "stream",
     "text": [
      "epoch: 14, [batch: 2800 / 7000], examples_per_second: 10710.4582, train_label_loss: 0.2404, \n"
     ]
    },
    {
     "name": "stdout",
     "output_type": "stream",
     "text": [
      "epoch: 14, [batch: 3500 / 7000], examples_per_second: 10675.2823, train_label_loss: 0.2554, \n"
     ]
    },
    {
     "name": "stdout",
     "output_type": "stream",
     "text": [
      "epoch: 14, [batch: 4200 / 7000], examples_per_second: 10676.4639, train_label_loss: 0.2189, \n"
     ]
    },
    {
     "name": "stdout",
     "output_type": "stream",
     "text": [
      "epoch: 14, [batch: 4900 / 7000], examples_per_second: 10655.1677, train_label_loss: 0.2947, \n"
     ]
    },
    {
     "name": "stdout",
     "output_type": "stream",
     "text": [
      "epoch: 14, [batch: 5600 / 7000], examples_per_second: 10651.8054, train_label_loss: 0.2233, \n"
     ]
    },
    {
     "name": "stdout",
     "output_type": "stream",
     "text": [
      "epoch: 14, [batch: 6300 / 7000], examples_per_second: 10667.7069, train_label_loss: 0.1832, \n"
     ]
    },
    {
     "name": "stdout",
     "output_type": "stream",
     "text": [
      "=============================================================\n",
      "epoch: 14, source_val_acc_label: 0.7844, source_val_label_loss: 0.6478, target_val_acc_label: 0.7844, target_val_label_loss: 0.6478, \n",
      "=============================================================\n"
     ]
    },
    {
     "name": "stdout",
     "output_type": "stream",
     "text": [
      "epoch: 15, [batch: 1 / 7000], examples_per_second: 11.3818, train_label_loss: 0.1905, \n"
     ]
    },
    {
     "name": "stdout",
     "output_type": "stream",
     "text": [
      "epoch: 15, [batch: 700 / 7000], examples_per_second: 10734.0518, train_label_loss: 0.4332, \n"
     ]
    },
    {
     "name": "stdout",
     "output_type": "stream",
     "text": [
      "epoch: 15, [batch: 1400 / 7000], examples_per_second: 10678.4934, train_label_loss: 0.2150, \n"
     ]
    },
    {
     "name": "stdout",
     "output_type": "stream",
     "text": [
      "epoch: 15, [batch: 2100 / 7000], examples_per_second: 10679.1895, train_label_loss: 0.2706, \n"
     ]
    },
    {
     "name": "stdout",
     "output_type": "stream",
     "text": [
      "epoch: 15, [batch: 2800 / 7000], examples_per_second: 11308.6035, train_label_loss: 0.1454, \n"
     ]
    },
    {
     "name": "stdout",
     "output_type": "stream",
     "text": [
      "epoch: 15, [batch: 3500 / 7000], examples_per_second: 11702.4617, train_label_loss: 0.1729, \n"
     ]
    },
    {
     "name": "stdout",
     "output_type": "stream",
     "text": [
      "epoch: 15, [batch: 4200 / 7000], examples_per_second: 11740.4843, train_label_loss: 0.1724, \n"
     ]
    },
    {
     "name": "stdout",
     "output_type": "stream",
     "text": [
      "epoch: 15, [batch: 4900 / 7000], examples_per_second: 11706.1245, train_label_loss: 0.2333, \n"
     ]
    },
    {
     "name": "stdout",
     "output_type": "stream",
     "text": [
      "epoch: 15, [batch: 5600 / 7000], examples_per_second: 11753.7852, train_label_loss: 0.2173, \n"
     ]
    },
    {
     "name": "stdout",
     "output_type": "stream",
     "text": [
      "epoch: 15, [batch: 6300 / 7000], examples_per_second: 11798.4539, train_label_loss: 0.3101, \n"
     ]
    },
    {
     "name": "stdout",
     "output_type": "stream",
     "text": [
      "=============================================================\n",
      "epoch: 15, source_val_acc_label: 0.7613, source_val_label_loss: 0.7540, target_val_acc_label: 0.7613, target_val_label_loss: 0.7540, \n",
      "=============================================================\n"
     ]
    },
    {
     "name": "stdout",
     "output_type": "stream",
     "text": [
      "Patience (3) exhausted\n"
     ]
    }
   ],
   "source": [
    "jig = Vanilla_Train_Eval_Test_Jig(\n",
    "    model=model,\n",
    "    path_to_best_model=p.BEST_MODEL_PATH,\n",
    "    device=p.device,\n",
    "    label_loss_object=torch.nn.NLLLoss(),\n",
    ")\n",
    "\n",
    "jig.train(\n",
    "    train_iterable=datasets.source.processed.train,\n",
    "    source_val_iterable=datasets.source.processed.val,\n",
    "    target_val_iterable=datasets.target.processed.val,\n",
    "    patience=p.patience,\n",
    "    num_epochs=p.n_epoch,\n",
    "    num_logs_per_epoch=p.NUM_LOGS_PER_EPOCH,\n",
    "    criteria_for_best=p.criteria_for_best\n",
    ")"
   ]
  },
  {
   "cell_type": "code",
   "execution_count": 14,
   "id": "4bc2ac17",
   "metadata": {
    "execution": {
     "iopub.execute_input": "2022-03-27T08:04:07.148295Z",
     "iopub.status.busy": "2022-03-27T08:04:07.147744Z",
     "iopub.status.idle": "2022-03-27T08:04:07.149491Z",
     "shell.execute_reply": "2022-03-27T08:04:07.149941Z"
    },
    "papermill": {
     "duration": 0.065957,
     "end_time": "2022-03-27T08:04:07.150063",
     "exception": false,
     "start_time": "2022-03-27T08:04:07.084106",
     "status": "completed"
    },
    "tags": []
   },
   "outputs": [],
   "source": [
    "total_experiment_time_secs = time.time() - start_time_secs"
   ]
  },
  {
   "cell_type": "code",
   "execution_count": 15,
   "id": "cae88f23",
   "metadata": {
    "execution": {
     "iopub.execute_input": "2022-03-27T08:04:07.278037Z",
     "iopub.status.busy": "2022-03-27T08:04:07.277454Z",
     "iopub.status.idle": "2022-03-27T08:06:00.703663Z",
     "shell.execute_reply": "2022-03-27T08:06:00.699068Z"
    },
    "papermill": {
     "duration": 113.493932,
     "end_time": "2022-03-27T08:06:00.704724",
     "exception": false,
     "start_time": "2022-03-27T08:04:07.210792",
     "status": "completed"
    },
    "tags": []
   },
   "outputs": [],
   "source": [
    "source_test_label_accuracy, source_test_label_loss = jig.test(datasets.source.processed.test)\n",
    "target_test_label_accuracy, target_test_label_loss = jig.test(datasets.target.processed.test)\n",
    "\n",
    "source_val_label_accuracy, source_val_label_loss = jig.test(datasets.source.processed.val)\n",
    "target_val_label_accuracy, target_val_label_loss = jig.test(datasets.target.processed.val)\n",
    "\n",
    "history = jig.get_history()\n",
    "\n",
    "total_epochs_trained = len(history[\"epoch_indices\"])\n",
    "\n",
    "val_dl = wrap_in_dataloader(p, Sequence_Aggregator((datasets.source.original.val, datasets.target.original.val)))\n",
    "\n",
    "confusion = confusion_by_domain_over_dataloader(model, p.device, val_dl, forward_uses_domain=False)\n",
    "per_domain_accuracy = per_domain_accuracy_from_confusion(confusion)\n",
    "\n",
    "# Add a key to per_domain_accuracy for if it was a source domain\n",
    "for domain, accuracy in per_domain_accuracy.items():\n",
    "    per_domain_accuracy[domain] = {\n",
    "        \"accuracy\": accuracy,\n",
    "        \"source?\": domain in p.domains_source\n",
    "    }\n",
    "\n",
    "# Do an independent accuracy assesment JUST TO BE SURE!\n",
    "# _source_test_label_accuracy = independent_accuracy_assesment(model, datasets.source.processed.test, p.device)\n",
    "# _target_test_label_accuracy = independent_accuracy_assesment(model, datasets.target.processed.test, p.device)\n",
    "# _source_val_label_accuracy = independent_accuracy_assesment(model, datasets.source.processed.val, p.device)\n",
    "# _target_val_label_accuracy = independent_accuracy_assesment(model, datasets.target.processed.val, p.device)\n",
    "\n",
    "# assert(_source_test_label_accuracy == source_test_label_accuracy)\n",
    "# assert(_target_test_label_accuracy == target_test_label_accuracy)\n",
    "# assert(_source_val_label_accuracy == source_val_label_accuracy)\n",
    "# assert(_target_val_label_accuracy == target_val_label_accuracy)\n",
    "\n",
    "###################################\n",
    "# Write out the results\n",
    "###################################\n",
    "\n",
    "experiment = {\n",
    "    \"experiment_name\": p.experiment_name,\n",
    "    \"parameters\": p,\n",
    "    \"results\": {\n",
    "        \"source_test_label_accuracy\": source_test_label_accuracy,\n",
    "        \"source_test_label_loss\": source_test_label_loss,\n",
    "        \"target_test_label_accuracy\": target_test_label_accuracy,\n",
    "        \"target_test_label_loss\": target_test_label_loss,\n",
    "        \"source_val_label_accuracy\": source_val_label_accuracy,\n",
    "        \"source_val_label_loss\": source_val_label_loss,\n",
    "        \"target_val_label_accuracy\": target_val_label_accuracy,\n",
    "        \"target_val_label_loss\": target_val_label_loss,\n",
    "        \"total_epochs_trained\": total_epochs_trained,\n",
    "        \"total_experiment_time_secs\": total_experiment_time_secs,\n",
    "        \"confusion\": confusion,\n",
    "        \"per_domain_accuracy\": per_domain_accuracy,\n",
    "    },\n",
    "    \"history\": history,\n",
    "    \"dataset_metrics\": get_dataset_metrics(datasets, \"cnn\"),\n",
    "}"
   ]
  },
  {
   "cell_type": "code",
   "execution_count": 16,
   "id": "74c318cf",
   "metadata": {
    "execution": {
     "iopub.execute_input": "2022-03-27T08:06:00.934768Z",
     "iopub.status.busy": "2022-03-27T08:06:00.904121Z",
     "iopub.status.idle": "2022-03-27T08:06:01.407779Z",
     "shell.execute_reply": "2022-03-27T08:06:01.408696Z"
    },
    "papermill": {
     "duration": 0.607747,
     "end_time": "2022-03-27T08:06:01.408888",
     "exception": false,
     "start_time": "2022-03-27T08:06:00.801141",
     "status": "completed"
    },
    "tags": []
   },
   "outputs": [
    {
     "data": {
      "text/plain": [
       "<AxesSubplot:title={'center':'Source Train Label Loss vs Source Val Label Loss'}, xlabel='Epoch'>"
      ]
     },
     "execution_count": 16,
     "metadata": {},
     "output_type": "execute_result"
    },
    {
     "data": {
      "image/png": "[encoded data removed]",
      "text/plain": [
       "<Figure size 1080x504 with 1 Axes>"
      ]
     },
     "metadata": {
      "needs_background": "light"
     },
     "output_type": "display_data"
    }
   ],
   "source": [
    "get_loss_curve(experiment)"
   ]
  },
  {
   "cell_type": "code",
   "execution_count": 17,
   "id": "59376601",
   "metadata": {
    "execution": {
     "iopub.execute_input": "2022-03-27T08:06:01.561146Z",
     "iopub.status.busy": "2022-03-27T08:06:01.550795Z",
     "iopub.status.idle": "2022-03-27T08:06:01.866272Z",
     "shell.execute_reply": "2022-03-27T08:06:01.866585Z"
    },
    "papermill": {
     "duration": 0.391669,
     "end_time": "2022-03-27T08:06:01.866681",
     "exception": false,
     "start_time": "2022-03-27T08:06:01.475012",
     "status": "completed"
    },
    "tags": []
   },
   "outputs": [
    {
     "data": {
      "text/plain": [
       "<AxesSubplot:title={'center':'Results'}>"
      ]
     },
     "execution_count": 17,
     "metadata": {},
     "output_type": "execute_result"
    },
    {
     "data": {
      "image/png": "[encoded data removed]",
      "text/plain": [
       "<Figure size 1080x504 with 1 Axes>"
      ]
     },
     "metadata": {
      "needs_background": "light"
     },
     "output_type": "display_data"
    }
   ],
   "source": [
    "get_results_table(experiment)"
   ]
  },
  {
   "cell_type": "code",
   "execution_count": 18,
   "id": "e80c5c98",
   "metadata": {
    "execution": {
     "iopub.execute_input": "2022-03-27T08:06:02.009421Z",
     "iopub.status.busy": "2022-03-27T08:06:02.005102Z",
     "iopub.status.idle": "2022-03-27T08:06:02.283130Z",
     "shell.execute_reply": "2022-03-27T08:06:02.283818Z"
    },
    "papermill": {
     "duration": 0.35345,
     "end_time": "2022-03-27T08:06:02.284062",
     "exception": false,
     "start_time": "2022-03-27T08:06:01.930612",
     "status": "completed"
    },
    "tags": []
   },
   "outputs": [
    {
     "data": {
      "text/plain": [
       "<AxesSubplot:title={'center':'Per Domain Accuracy'}, xlabel='domain'>"
      ]
     },
     "execution_count": 18,
     "metadata": {},
     "output_type": "execute_result"
    },
    {
     "data": {
      "image/png": "[encoded data removed]",
      "text/plain": [
       "<Figure size 1080x504 with 1 Axes>"
      ]
     },
     "metadata": {
      "needs_background": "light"
     },
     "output_type": "display_data"
    }
   ],
   "source": [
    "get_domain_accuracies(experiment)"
   ]
  },
  {
   "cell_type": "code",
   "execution_count": 19,
   "id": "086fdd10",
   "metadata": {
    "execution": {
     "iopub.execute_input": "2022-03-27T08:06:02.419329Z",
     "iopub.status.busy": "2022-03-27T08:06:02.418697Z",
     "iopub.status.idle": "2022-03-27T08:06:02.422536Z",
     "shell.execute_reply": "2022-03-27T08:06:02.422001Z"
    },
    "papermill": {
     "duration": 0.07158,
     "end_time": "2022-03-27T08:06:02.422654",
     "exception": false,
     "start_time": "2022-03-27T08:06:02.351074",
     "status": "completed"
    },
    "tags": []
   },
   "outputs": [
    {
     "name": "stdout",
     "output_type": "stream",
     "text": [
      "Source Test Label Accuracy: 0.787765625 Target Test Label Accuracy: 0.787765625\n",
      "Source Val Label Accuracy: 0.78871875 Target Val Label Accuracy: 0.78871875\n"
     ]
    }
   ],
   "source": [
    "print(\"Source Test Label Accuracy:\", experiment[\"results\"][\"source_test_label_accuracy\"], \"Target Test Label Accuracy:\", experiment[\"results\"][\"target_test_label_accuracy\"])\n",
    "print(\"Source Val Label Accuracy:\", experiment[\"results\"][\"source_val_label_accuracy\"], \"Target Val Label Accuracy:\", experiment[\"results\"][\"target_val_label_accuracy\"])"
   ]
  },
  {
   "cell_type": "code",
   "execution_count": 20,
   "id": "9f450536",
   "metadata": {
    "execution": {
     "iopub.execute_input": "2022-03-27T08:06:02.559038Z",
     "iopub.status.busy": "2022-03-27T08:06:02.558491Z",
     "iopub.status.idle": "2022-03-27T08:06:02.562665Z",
     "shell.execute_reply": "2022-03-27T08:06:02.562118Z"
    },
    "papermill": {
     "duration": 0.072894,
     "end_time": "2022-03-27T08:06:02.562770",
     "exception": false,
     "start_time": "2022-03-27T08:06:02.489876",
     "status": "completed"
    },
    "tags": [
     "experiment_json"
    ]
   },
   "outputs": [
    {
     "data": {
      "text/plain": [
       "'{\"experiment_name\": \"cnn_2:oracle.run2\", \"parameters\": {\"experiment_name\": \"cnn_2:oracle.run2\", \"labels\": [\"3123D52\", \"3123D65\", \"3123D79\", \"3123D80\", \"3123D54\", \"3123D70\", \"3123D7B\", \"3123D89\", \"3123D58\", \"3123D76\", \"3123D7D\", \"3123EFE\", \"3123D64\", \"3123D78\", \"3123D7E\", \"3124E4A\"], \"domains_source\": [8, 32, 50, 14, 20, 26, 38, 44], \"domains_target\": [8, 32, 50, 14, 20, 26, 38, 44], \"pickle_name_source\": \"oracle.Run2_10kExamples_stratified_ds.2022A.pkl\", \"pickle_name_target\": \"oracle.Run2_10kExamples_stratified_ds.2022A.pkl\", \"device\": \"cuda\", \"lr\": 0.0001, \"batch_size\": 128, \"normalize_source\": false, \"normalize_target\": false, \"num_examples_per_domain_per_label_source\": -1, \"num_examples_per_domain_per_label_target\": -1, \"torch_default_dtype\": \"torch.float32\", \"n_epoch\": 50, \"patience\": 3, \"criteria_for_best\": \"target_accuracy\", \"x_net\": [{\"class\": \"nnReshape\", \"kargs\": {\"shape\": [-1, 1, 2, 256]}}, {\"class\": \"Conv2d\", \"kargs\": {\"in_channels\": 1, \"out_channels\": 256, \"kernel_size\": [1, 7], \"bias\": false, \"padding\": [0, 3]}}, {\"class\": \"ReLU\", \"kargs\": {\"inplace\": true}}, {\"class\": \"BatchNorm2d\", \"kargs\": {\"num_features\": 256}}, {\"class\": \"Conv2d\", \"kargs\": {\"in_channels\": 256, \"out_channels\": 80, \"kernel_size\": [2, 7], \"bias\": true, \"padding\": [0, 3]}}, {\"class\": \"ReLU\", \"kargs\": {\"inplace\": true}}, {\"class\": \"BatchNorm2d\", \"kargs\": {\"num_features\": 80}}, {\"class\": \"Flatten\", \"kargs\": {}}, {\"class\": \"Linear\", \"kargs\": {\"in_features\": 20480, \"out_features\": 256}}, {\"class\": \"ReLU\", \"kargs\": {\"inplace\": true}}, {\"class\": \"BatchNorm1d\", \"kargs\": {\"num_features\": 256}}, {\"class\": \"Linear\", \"kargs\": {\"in_features\": 256, \"out_features\": 16}}], \"NUM_LOGS_PER_EPOCH\": 10, \"BEST_MODEL_PATH\": \"./best_model.pth\", \"dataset_seed\": 500, \"seed\": 500}, \"results\": {\"source_test_label_accuracy\": 0.787765625, \"source_test_label_loss\": 0.6033479470610619, \"target_test_label_accuracy\": 0.787765625, \"target_test_label_loss\": 0.6033479472994805, \"source_val_label_accuracy\": 0.78871875, \"source_val_label_loss\": 0.6029287346800168, \"target_val_label_accuracy\": 0.78871875, \"target_val_label_loss\": 0.6029287358721097, \"total_epochs_trained\": 15, \"total_experiment_time_secs\": 1313.158535003662, \"confusion\": {\"20\": {\"10\": {\"10\": 2470, \"12\": 168, \"4\": 118, \"6\": 142, \"3\": 16, \"7\": 68, \"11\": 6, \"14\": 12}, \"11\": {\"11\": 2810, \"5\": 28, \"9\": 32, \"8\": 12, \"0\": 98, \"4\": 6, \"1\": 8, \"2\": 4, \"3\": 2}, \"1\": {\"9\": 122, \"5\": 198, \"2\": 852, \"3\": 18, \"1\": 1580, \"0\": 152, \"4\": 10, \"12\": 10, \"15\": 58}, \"7\": {\"7\": 2016, \"4\": 266, \"3\": 308, \"11\": 42, \"5\": 148, \"6\": 46, \"12\": 68, \"2\": 38, \"10\": 40, \"8\": 14, \"14\": 4, \"15\": 2, \"9\": 6, \"1\": 2}, \"9\": {\"2\": 860, \"9\": 810, \"3\": 352, \"4\": 110, \"5\": 394, \"1\": 210, \"15\": 208, \"13\": 12, \"12\": 30, \"7\": 12, \"0\": 2}, \"3\": {\"5\": 860, \"2\": 178, \"15\": 84, \"3\": 1046, \"7\": 216, \"13\": 2, \"12\": 118, \"9\": 186, \"4\": 290, \"1\": 10, \"11\": 2, \"10\": 4, \"8\": 4}, \"5\": {\"9\": 102, \"5\": 1888, \"4\": 106, \"1\": 66, \"15\": 106, \"2\": 248, \"7\": 36, \"8\": 30, \"0\": 132, \"3\": 252, \"12\": 30, \"11\": 4}, \"13\": {\"13\": 2366, \"15\": 386, \"12\": 110, \"2\": 48, \"9\": 26, \"7\": 4, \"5\": 12, \"3\": 14, \"11\": 34}, \"4\": {\"12\": 638, \"4\": 2070, \"15\": 34, \"5\": 138, \"3\": 54, \"8\": 10, \"10\": 8, \"9\": 2, \"7\": 24, \"11\": 2, \"2\": 18, \"1\": 2}, \"6\": {\"6\": 2796, \"10\": 94, \"7\": 90, \"14\": 14, \"4\": 2, \"12\": 2, \"11\": 2}, \"2\": {\"2\": 1016, \"5\": 612, \"3\": 248, \"9\": 536, \"15\": 272, \"1\": 190, \"4\": 66, \"12\": 22, \"0\": 6, \"7\": 18, \"11\": 4, \"13\": 6, \"8\": 4}, \"15\": {\"2\": 586, \"5\": 434, \"15\": 1372, \"12\": 60, \"13\": 174, \"1\": 88, \"9\": 174, \"11\": 4, \"3\": 76, \"4\": 22, \"7\": 10}, \"8\": {\"14\": 346, \"8\": 2398, \"0\": 158, \"15\": 24, \"5\": 12, \"12\": 26, \"10\": 6, \"4\": 24, \"3\": 6}, \"0\": {\"0\": 2890, \"1\": 28, \"12\": 12, \"2\": 2, \"10\": 6, \"8\": 10, \"15\": 16, \"3\": 14, \"9\": 6, \"5\": 16}, \"14\": {\"14\": 2684, \"8\": 274, \"10\": 10, \"12\": 26, \"15\": 6}, \"12\": {\"4\": 276, \"12\": 1834, \"9\": 114, \"7\": 100, \"2\": 160, \"15\": 100, \"3\": 160, \"13\": 134, \"5\": 96, \"11\": 18, \"10\": 6, \"1\": 2}}, \"26\": {\"3\": {\"3\": 1886, \"2\": 200, \"7\": 716, \"4\": 142, \"6\": 6, \"13\": 8, \"8\": 10, \"15\": 10, \"10\": 6, \"14\": 2, \"5\": 2, \"9\": 8, \"0\": 4}, \"8\": {\"8\": 1346, \"2\": 452, \"10\": 540, \"7\": 100, \"0\": 164, \"14\": 42, \"9\": 236, \"13\": 24, \"4\": 12, \"6\": 30, \"15\": 48, \"5\": 4, \"3\": 2}, \"1\": {\"1\": 2598, \"14\": 270, \"10\": 72, \"5\": 16, \"6\": 20, \"0\": 22, \"8\": 2}, \"5\": {\"6\": 296, \"5\": 2604, \"2\": 10, \"14\": 14, \"1\": 10, \"11\": 10, \"15\": 32, \"9\": 14, \"10\": 2, \"8\": 4, \"0\": 2, \"13\": 2}, \"12\": {\"12\": 2996, \"10\": 4}, \"4\": {\"4\": 2560, \"10\": 226, \"3\": 202, \"7\": 4, \"2\": 4, \"14\": 4}, \"9\": {\"9\": 2120, \"8\": 286, \"6\": 20, \"13\": 256, \"7\": 114, \"2\": 138, \"15\": 12, \"10\": 38, \"0\": 6, \"12\": 4, \"5\": 2, \"3\": 4}, \"11\": {\"11\": 2894, \"6\": 94, \"12\": 12}, \"10\": {\"10\": 1716, \"15\": 60, \"6\": 100, \"5\": 10, \"8\": 176, \"2\": 36, \"0\": 440, \"14\": 294, \"1\": 132, \"12\": 30, \"9\": 4, \"3\": 2}, \"0\": {\"10\": 1142, \"15\": 60, \"14\": 486, \"0\": 1004, \"8\": 186, \"2\": 28, \"1\": 52, \"6\": 36, \"9\": 6}, \"2\": {\"2\": 1252, \"7\": 492, \"3\": 78, \"8\": 498, \"15\": 218, \"4\": 12, \"9\": 212, \"5\": 14, \"13\": 58, \"14\": 22, \"0\": 44, \"10\": 100}, \"7\": {\"2\": 570, \"7\": 1448, \"8\": 266, \"9\": 168, \"4\": 120, \"15\": 14, \"10\": 58, \"3\": 258, \"13\": 82, \"0\": 12, \"5\": 2, \"14\": 2}, \"15\": {\"15\": 2274, \"2\": 292, \"10\": 36, \"6\": 20, \"0\": 128, \"9\": 66, \"7\": 26, \"8\": 106, \"14\": 8, \"5\": 34, \"3\": 10}, \"14\": {\"10\": 374, \"14\": 1914, \"0\": 226, \"8\": 24, \"1\": 392, \"2\": 4, \"5\": 30, \"6\": 26, \"15\": 10}, \"13\": {\"9\": 526, \"13\": 2336, \"2\": 32, \"7\": 44, \"8\": 54, \"5\": 6, \"11\": 2}, \"6\": {\"6\": 2486, \"5\": 290, \"10\": 116, \"12\": 24, \"14\": 26, \"9\": 38, \"0\": 6, \"8\": 4, \"1\": 6, \"15\": 4}}, \"8\": {\"5\": {\"5\": 2176, \"10\": 556, \"1\": 166, \"13\": 102}, \"12\": {\"12\": 2022, \"4\": 602, \"8\": 38, \"15\": 244, \"14\": 26, \"10\": 56, \"3\": 12}, \"14\": {\"4\": 98, \"14\": 2534, \"6\": 324, \"1\": 26, \"10\": 2, \"7\": 2, \"8\": 12, \"0\": 2}, \"2\": {\"2\": 2298, \"1\": 514, \"0\": 18, \"13\": 16, \"15\": 78, \"12\": 8, \"5\": 58, \"9\": 6, \"7\": 4}, \"3\": {\"3\": 1714, \"10\": 1174, \"0\": 30, \"4\": 64, \"15\": 10, \"8\": 8}, \"1\": {\"1\": 2744, \"14\": 44, \"13\": 180, \"4\": 2, \"5\": 24, \"8\": 4, \"7\": 2}, \"9\": {\"9\": 2970, \"10\": 24, \"5\": 2, \"12\": 4}, \"7\": {\"4\": 1336, \"7\": 1530, \"11\": 70, \"10\": 6, \"13\": 30, \"12\": 10, \"6\": 16, \"8\": 2}, \"0\": {\"0\": 2978, \"14\": 14, \"6\": 8}, \"10\": {\"10\": 1986, \"5\": 572, \"13\": 410, \"1\": 24, \"7\": 2, \"4\": 4, \"2\": 2}, \"6\": {\"4\": 290, \"14\": 164, \"6\": 2344, \"7\": 50, \"8\": 116, \"11\": 32, \"10\": 2, \"1\": 2}, \"13\": {\"13\": 2646, \"10\": 132, \"4\": 32, \"5\": 34, \"1\": 140, \"12\": 2, \"7\": 12, \"15\": 2}, \"4\": {\"4\": 1700, \"7\": 1010, \"6\": 182, \"11\": 44, \"14\": 50, \"8\": 2, \"10\": 6, \"13\": 6}, \"15\": {\"15\": 2828, \"12\": 78, \"4\": 38, \"8\": 16, \"1\": 26, \"3\": 8, \"2\": 2, \"0\": 2, \"10\": 2}, \"8\": {\"8\": 2586, \"11\": 384, \"6\": 20, \"4\": 4, \"1\": 4, \"7\": 2}, \"11\": {\"11\": 2428, \"8\": 544, \"13\": 2, \"6\": 8, \"10\": 6, \"12\": 8, \"4\": 4}}, \"14\": {\"11\": {\"11\": 2612, \"7\": 196, \"13\": 86, \"4\": 72, \"12\": 30, \"6\": 4}, \"0\": {\"0\": 2760, \"10\": 74, \"4\": 44, \"2\": 2, \"8\": 54, \"14\": 24, \"3\": 28, \"12\": 4, \"5\": 6, \"11\": 4}, \"8\": {\"8\": 2982, \"11\": 10, \"12\": 4, \"9\": 2, \"13\": 2}, \"12\": {\"12\": 2034, \"7\": 64, \"0\": 260, \"6\": 74, \"2\": 202, \"9\": 118, \"11\": 66, \"13\": 78, \"8\": 40, \"3\": 14, \"4\": 10, \"15\": 6, \"14\": 14, \"5\": 16, \"1\": 4}, \"1\": {\"1\": 2930, \"11\": 38, \"4\": 24, \"7\": 8}, \"6\": {\"2\": 42, \"6\": 2190, \"13\": 686, \"3\": 58, \"14\": 12, \"4\": 12}, \"10\": {\"10\": 1950, \"3\": 728, \"4\": 256, \"0\": 16, \"8\": 16, \"7\": 10, \"15\": 12, \"14\": 12}, \"13\": {\"13\": 1996, \"6\": 982, \"3\": 12, \"2\": 4, \"15\": 4, \"14\": 2}, \"2\": {\"2\": 2094, \"3\": 126, \"14\": 242, \"6\": 132, \"4\": 142, \"5\": 190, \"7\": 12, \"13\": 32, \"10\": 8, \"0\": 22}, \"5\": {\"5\": 2522, \"2\": 254, \"3\": 40, \"4\": 136, \"14\": 28, \"7\": 8, \"0\": 4, \"8\": 2, \"6\": 2, \"13\": 2, \"11\": 2}, \"9\": {\"9\": 2758, \"0\": 120, \"11\": 82, \"12\": 20, \"8\": 10, \"1\": 6, \"15\": 2, \"2\": 2}, \"14\": {\"14\": 2718, \"2\": 112, \"4\": 66, \"0\": 26, \"6\": 24, \"5\": 10, \"10\": 24, \"3\": 12, \"13\": 6, \"8\": 2}, \"3\": {\"3\": 2906, \"2\": 54, \"5\": 16, \"4\": 2, \"7\": 6, \"6\": 8, \"13\": 8}, \"4\": {\"4\": 2642, \"5\": 212, \"2\": 78, \"11\": 18, \"14\": 40, \"0\": 2, \"10\": 4, \"1\": 4}, \"15\": {\"15\": 2966, \"13\": 30, \"3\": 2, \"11\": 2}, \"7\": {\"7\": 2944, \"4\": 2, \"5\": 48, \"2\": 6}}, \"32\": {\"3\": {\"12\": 392, \"3\": 2372, \"13\": 218, \"8\": 10, \"15\": 6, \"4\": 2}, \"10\": {\"10\": 2994, \"1\": 4, \"12\": 2}, \"2\": {\"2\": 2662, \"7\": 120, \"0\": 94, \"14\": 108, \"1\": 8, \"4\": 2, \"5\": 4, \"3\": 2}, \"12\": {\"12\": 2926, \"11\": 4, \"10\": 22, \"0\": 20, \"2\": 22, \"6\": 6}, \"11\": {\"4\": 248, \"11\": 2226, \"3\": 168, \"13\": 208, \"14\": 6, \"0\": 96, \"7\": 38, \"8\": 2, \"12\": 6, \"6\": 2}, \"14\": {\"14\": 2234, \"2\": 234, \"0\": 266, \"9\": 2, \"6\": 212, \"11\": 8, \"1\": 2, \"7\": 28, \"5\": 10, \"8\": 2, \"12\": 2}, \"8\": {\"8\": 2664, \"1\": 40, \"0\": 158, \"12\": 26, \"2\": 52, \"4\": 4, \"3\": 48, \"7\": 6, \"15\": 2}, \"7\": {\"7\": 2506, \"2\": 88, \"3\": 190, \"1\": 92, \"0\": 62, \"12\": 48, \"8\": 10, \"11\": 2, \"5\": 2}, \"9\": {\"9\": 2290, \"0\": 24, \"2\": 184, \"14\": 424, \"6\": 58, \"11\": 6, \"15\": 8, \"13\": 2, \"4\": 2, \"12\": 2}, \"13\": {\"13\": 2526, \"11\": 162, \"3\": 106, \"4\": 192, \"12\": 12, \"15\": 2}, \"4\": {\"4\": 1994, \"3\": 370, \"13\": 248, \"0\": 118, \"11\": 200, \"8\": 24, \"6\": 4, \"12\": 22, \"2\": 6, \"7\": 6, \"14\": 8}, \"0\": {\"0\": 2068, \"7\": 166, \"4\": 102, \"2\": 174, \"3\": 100, \"8\": 262, \"14\": 54, \"11\": 64, \"1\": 2, \"5\": 6, \"12\": 2}, \"15\": {\"15\": 2942, \"2\": 28, \"8\": 26, \"11\": 2, \"1\": 2}, \"1\": {\"1\": 2984, \"8\": 16}, \"5\": {\"2\": 86, \"5\": 2690, \"1\": 40, \"9\": 88, \"12\": 32, \"14\": 4, \"10\": 2, \"8\": 6, \"7\": 40, \"0\": 6, \"11\": 6}, \"6\": {\"6\": 2850, \"11\": 122, \"2\": 2, \"12\": 26}}, \"44\": {\"1\": {\"1\": 2868, \"8\": 42, \"5\": 16, \"2\": 14, \"7\": 54, \"12\": 6}, \"3\": {\"3\": 2116, \"12\": 348, \"7\": 262, \"4\": 138, \"8\": 50, \"2\": 26, \"0\": 36, \"11\": 20, \"1\": 2, \"13\": 2}, \"7\": {\"9\": 1500, \"7\": 1482, \"5\": 8, \"6\": 2, \"0\": 6, \"10\": 2}, \"13\": {\"13\": 2270, \"0\": 276, \"6\": 74, \"3\": 102, \"7\": 108, \"10\": 152, \"8\": 2, \"4\": 14, \"15\": 2}, \"4\": {\"4\": 2270, \"0\": 104, \"15\": 264, \"14\": 302, \"12\": 18, \"9\": 16, \"8\": 20, \"5\": 2, \"7\": 2, \"11\": 2}, \"0\": {\"0\": 2394, \"8\": 586, \"1\": 6, \"15\": 10, \"5\": 4}, \"9\": {\"9\": 2420, \"7\": 540, \"5\": 24, \"2\": 2, \"0\": 8, \"10\": 2, \"6\": 4}, \"15\": {\"15\": 2710, \"8\": 82, \"5\": 58, \"0\": 74, \"6\": 8, \"12\": 44, \"1\": 16, \"9\": 2, \"11\": 4, \"14\": 2}, \"5\": {\"5\": 2468, \"6\": 318, \"0\": 18, \"15\": 62, \"8\": 126, \"14\": 6, \"2\": 2}, \"8\": {\"8\": 1940, \"0\": 1032, \"5\": 20, \"15\": 6, \"6\": 2}, \"2\": {\"2\": 2760, \"8\": 50, \"15\": 62, \"1\": 40, \"5\": 80, \"12\": 4, \"11\": 4}, \"12\": {\"12\": 2298, \"3\": 676, \"7\": 4, \"8\": 18, \"1\": 2, \"0\": 2}, \"6\": {\"6\": 2558, \"7\": 230, \"3\": 8, \"9\": 136, \"13\": 36, \"0\": 32}, \"10\": {\"10\": 2990, \"7\": 10}, \"11\": {\"11\": 2994, \"3\": 6}, \"14\": {\"14\": 2232, \"8\": 206, \"15\": 144, \"4\": 228, \"5\": 134, \"6\": 50, \"0\": 6}}, \"38\": {\"6\": {\"6\": 2656, \"9\": 26, \"14\": 258, \"15\": 32, \"1\": 14, \"0\": 12, \"11\": 2}, \"10\": {\"10\": 2760, \"13\": 170, \"3\": 62, \"7\": 8}, \"7\": {\"7\": 2528, \"13\": 14, \"0\": 250, \"5\": 34, \"8\": 108, \"4\": 48, \"15\": 8, \"14\": 8, \"6\": 2}, \"13\": {\"10\": 56, \"13\": 2422, \"3\": 522}, \"8\": {\"15\": 200, \"5\": 686, \"8\": 1894, \"14\": 140, \"4\": 52, \"0\": 18, \"9\": 2, \"6\": 8}, \"0\": {\"0\": 2672, \"7\": 82, \"4\": 58, \"9\": 142, \"15\": 18, \"6\": 10, \"8\": 6, \"13\": 10, \"3\": 2}, \"4\": {\"4\": 2808, \"13\": 70, \"10\": 40, \"7\": 38, \"14\": 42, \"6\": 2}, \"1\": {\"1\": 2894, \"15\": 70, \"0\": 32, \"6\": 2, \"2\": 2}, \"5\": {\"5\": 2254, \"8\": 594, \"11\": 8, \"15\": 108, \"6\": 8, \"4\": 10, \"1\": 10, \"14\": 4, \"0\": 2, \"9\": 2}, \"14\": {\"7\": 572, \"14\": 1842, \"5\": 326, \"2\": 184, \"3\": 16, \"4\": 36, \"13\": 10, \"6\": 2, \"12\": 10, \"1\": 2}, \"11\": {\"11\": 3000}, \"3\": {\"3\": 2434, \"13\": 482, \"10\": 70, \"11\": 12, \"0\": 2}, \"2\": {\"2\": 2394, \"5\": 386, \"7\": 84, \"14\": 72, \"8\": 60, \"3\": 4}, \"9\": {\"9\": 2770, \"12\": 166, \"11\": 28, \"15\": 26, \"14\": 4, \"5\": 4, \"8\": 2}, \"15\": {\"15\": 2036, \"1\": 860, \"10\": 8, \"6\": 26, \"11\": 40, \"9\": 20, \"5\": 4, \"2\": 2, \"0\": 2, \"14\": 2}, \"12\": {\"12\": 2950, \"14\": 16, \"5\": 8, \"13\": 26}}, \"50\": {\"1\": {\"1\": 2744, \"15\": 246, \"11\": 2, \"13\": 6, \"5\": 2}, \"14\": {\"14\": 2694, \"9\": 290, \"6\": 10, \"2\": 6}, \"8\": {\"8\": 2980, \"3\": 2, \"13\": 8, \"1\": 8, \"0\": 2}, \"3\": {\"3\": 2998, \"2\": 2}, \"2\": {\"2\": 2702, \"12\": 34, \"0\": 180, \"9\": 82, \"15\": 2}, \"4\": {\"4\": 528, \"8\": 84, \"5\": 1686, \"7\": 438, \"14\": 228, \"2\": 16, \"6\": 20}, \"5\": {\"5\": 2354, \"7\": 174, \"2\": 126, \"14\": 148, \"8\": 88, \"6\": 44, \"4\": 66}, \"10\": {\"10\": 2658, \"0\": 194, \"13\": 114, \"12\": 4, \"1\": 28, \"8\": 2}, \"7\": {\"7\": 2770, \"14\": 114, \"2\": 34, \"5\": 76, \"4\": 4, \"8\": 2}, \"9\": {\"9\": 2756, \"12\": 106, \"5\": 134, \"0\": 4}, \"13\": {\"13\": 2842, \"8\": 42, \"1\": 50, \"10\": 42, \"2\": 2, \"0\": 12, \"12\": 8, \"5\": 2}, \"0\": {\"0\": 2724, \"2\": 170, \"10\": 72, \"12\": 26, \"1\": 8}, \"12\": {\"12\": 2772, \"9\": 198, \"5\": 12, \"15\": 12, \"11\": 2, \"14\": 2, \"4\": 2}, \"11\": {\"11\": 2636, \"15\": 280, \"5\": 32, \"1\": 20, \"14\": 4, \"9\": 14, \"12\": 4, \"2\": 10}, \"6\": {\"6\": 932, \"5\": 1838, \"8\": 84, \"15\": 84, \"14\": 58, \"4\": 2, \"0\": 2}, \"15\": {\"4\": 298, \"14\": 224, \"15\": 1798, \"5\": 246, \"8\": 340, \"0\": 24, \"6\": 62, \"9\": 2, \"11\": 6}}}, \"per_domain_accuracy\": {\"20\": {\"accuracy\": 0.667625, \"source?\": true}, \"26\": {\"accuracy\": 0.6965416666666666, \"source?\": true}, \"8\": {\"accuracy\": 0.7809166666666667, \"source?\": true}, \"14\": {\"accuracy\": 0.85425, \"source?\": true}, \"32\": {\"accuracy\": 0.8526666666666667, \"source?\": true}, \"44\": {\"accuracy\": 0.8077083333333334, \"source?\": true}, \"38\": {\"accuracy\": 0.839875, \"source?\": true}, \"50\": {\"accuracy\": 0.8101666666666667, \"source?\": true}}}, \"history\": {\"epoch_indices\": [1, 2, 3, 4, 5, 6, 7, 8, 9, 10, 11, 12, 13, 14, 15], \"train_label_loss\": [1.971747711641448, 1.132214630995478, 0.844290301501751, 0.6929547928103379, 0.5974094009654862, 0.5236401585702385, 0.46139843301262173, 0.4118186544626951, 0.37222913925562584, 0.34032574695774487, 0.31132752559227606, 0.28664416378417185, 0.26643132106480855, 0.24771967370808123, 0.2308536850299154], \"source_val_label_loss\": [1.2488431084156035, 0.8602230208714803, 0.7394543283780416, 0.6423936565915743, 0.6440273399949074, 0.6362740386724473, 0.7038995242317517, 0.6199776536424955, 0.5953283288081487, 0.6011281076868376, 0.6029287354151408, 0.6308536293705305, 0.6236077050964037, 0.6477915456692378, 0.7539578835368157], \"target_val_label_loss\": [1.2488431139787037, 0.8602230208317438, 0.7394543229738871, 0.6423936573863029, 0.6440273400346438, 0.6362740408579508, 0.7038995246291161, 0.6199776514967282, 0.5953283292452495, 0.601128106713295, 0.6029287353555361, 0.6308536280592283, 0.6236077050765355, 0.6477915417949358, 0.7539578837752342], \"source_val_acc_label\": [0.5850208333333333, 0.704078125, 0.7410104166666667, 0.7668958333333333, 0.7632916666666667, 0.7667135416666667, 0.745390625, 0.7778333333333334, 0.787578125, 0.7860625, 0.78871875, 0.7816666666666666, 0.7850989583333333, 0.7843697916666666, 0.7612604166666667], \"target_val_acc_label\": [0.5850208333333333, 0.704078125, 0.7410104166666667, 0.7668958333333333, 0.7632916666666667, 0.7667135416666667, 0.745390625, 0.7778333333333334, 0.787578125, 0.7860625, 0.78871875, 0.7816666666666666, 0.7850989583333333, 0.7843697916666666, 0.7612604166666667]}, \"dataset_metrics\": {\"source\": {\"train\": {\"n_unique_x\": 896000, \"n_unique_y\": 16, \"n_batch/episode\": 7000}, \"val\": {\"n_unique_x\": 192000, \"n_unique_y\": 16, \"n_batch/episode\": 1500}, \"test\": {\"n_unique_x\": 192000, \"n_unique_y\": 16, \"n_batch/episode\": 1500}}, \"target\": {\"train\": {\"n_unique_x\": 896000, \"n_unique_y\": 16, \"n_batch/episode\": 7000}, \"val\": {\"n_unique_x\": 192000, \"n_unique_y\": 16, \"n_batch/episode\": 1500}, \"test\": {\"n_unique_x\": 192000, \"n_unique_y\": 16, \"n_batch/episode\": 1500}}}}'"
      ]
     },
     "execution_count": 20,
     "metadata": {},
     "output_type": "execute_result"
    }
   ],
   "source": [
    "json.dumps(experiment)"
   ]
  }
 ],
 "metadata": {
  "celltoolbar": "Tags",
  "kernelspec": {
   "display_name": "Python 3 (ipykernel)",
   "language": "python",
   "name": "python3"
  },
  "language_info": {
   "codemirror_mode": {
    "name": "ipython",
    "version": 3
   },
   "file_extension": ".py",
   "mimetype": "text/x-python",
   "name": "python",
   "nbconvert_exporter": "python",
   "pygments_lexer": "ipython3",
   "version": "3.8.12"
  },
  "papermill": {
   "default_parameters": {},
   "duration": 1435.367798,
   "end_time": "2022-03-27T08:06:06.258856",
   "environment_variables": {},
   "exception": null,
   "input_path": "/root/csc500-main/csc500-notebooks/templates/cnn_template.ipynb",
   "output_path": "trial.ipynb",
   "parameters": {
    "parameters": {
     "BEST_MODEL_PATH": "./best_model.pth",
     "NUM_LOGS_PER_EPOCH": 10,
     "batch_size": 128,
     "criteria_for_best": "target_accuracy",
     "dataset_seed": 500,
     "device": "cuda",
     "domains_source": [
      8,
      32,
      50,
      14,
      20,
      26,
      38,
      44
     ],
     "domains_target": [
      8,
      32,
      50,
      14,
      20,
      26,
      38,
      44
     ],
     "experiment_name": "cnn_2:oracle.run2",
     "labels": [
      "3123D52",
      "3123D65",
      "3123D79",
      "3123D80",
      "3123D54",
      "3123D70",
      "3123D7B",
      "3123D89",
      "3123D58",
      "3123D76",
      "3123D7D",
      "3123EFE",
      "3123D64",
      "3123D78",
      "3123D7E",
      "3124E4A"
     ],
     "lr": 0.0001,
     "n_epoch": 50,
     "normalize_source": false,
     "normalize_target": false,
     "num_examples_per_domain_per_label_source": -1,
     "num_examples_per_domain_per_label_target": -1,
     "patience": 3,
     "pickle_name_source": "oracle.Run2_10kExamples_stratified_ds.2022A.pkl",
     "pickle_name_target": "oracle.Run2_10kExamples_stratified_ds.2022A.pkl",
     "seed": 500,
     "torch_default_dtype": "torch.float32",
     "x_net": [
      {
       "class": "nnReshape",
       "kargs": {
        "shape": [
         -1,
         1,
         2,
         256
        ]
       }
      },
      {
       "class": "Conv2d",
       "kargs": {
        "bias": false,
        "in_channels": 1,
        "kernel_size": [
         1,
         7
        ],
        "out_channels": 256,
        "padding": [
         0,
         3
        ]
       }
      },
      {
       "class": "ReLU",
       "kargs": {
        "inplace": true
       }
      },
      {
       "class": "BatchNorm2d",
       "kargs": {
        "num_features": 256
       }
      },
      {
       "class": "Conv2d",
       "kargs": {
        "bias": true,
        "in_channels": 256,
        "kernel_size": [
         2,
         7
        ],
        "out_channels": 80,
        "padding": [
         0,
         3
        ]
       }
      },
      {
       "class": "ReLU",
       "kargs": {
        "inplace": true
       }
      },
      {
       "class": "BatchNorm2d",
       "kargs": {
        "num_features": 80
       }
      },
      {
       "class": "Flatten",
       "kargs": {}
      },
      {
       "class": "Linear",
       "kargs": {
        "in_features": 20480,
        "out_features": 256
       }
      },
      {
       "class": "ReLU",
       "kargs": {
        "inplace": true
       }
      },
      {
       "class": "BatchNorm1d",
       "kargs": {
        "num_features": 256
       }
      },
      {
       "class": "Linear",
       "kargs": {
        "in_features": 256,
        "out_features": 16
       }
      }
     ]
    }
   },
   "start_time": "2022-03-27T07:42:10.891058",
   "version": "2.3.4"
  }
 },
 "nbformat": 4,
 "nbformat_minor": 5
}