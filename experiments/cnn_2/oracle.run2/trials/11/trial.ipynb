{
 "cells": [
  {
   "cell_type": "code",
   "execution_count": 1,
   "id": "2324682e",
   "metadata": {
    "execution": {
     "iopub.execute_input": "2022-03-27T08:06:07.655410Z",
     "iopub.status.busy": "2022-03-27T08:06:07.649085Z",
     "iopub.status.idle": "2022-03-27T08:06:09.330802Z",
     "shell.execute_reply": "2022-03-27T08:06:09.329945Z"
    },
    "papermill": {
     "duration": 1.7363,
     "end_time": "2022-03-27T08:06:09.331020",
     "exception": false,
     "start_time": "2022-03-27T08:06:07.594720",
     "status": "completed"
    },
    "tags": []
   },
   "outputs": [],
   "source": [
    "import os, json, sys, time, random\n",
    "import numpy as np\n",
    "import torch\n",
    "from  easydict import EasyDict\n",
    "from math import floor\n",
    "from easydict import EasyDict\n",
    "\n",
    "from steves_utils.vanilla_train_eval_test_jig import  Vanilla_Train_Eval_Test_Jig\n",
    "\n",
    "from steves_utils.torch_utils import get_dataset_metrics, independent_accuracy_assesment\n",
    "from steves_models.configurable_vanilla import Configurable_Vanilla\n",
    "from steves_utils.torch_sequential_builder import build_sequential\n",
    "from steves_utils.lazy_map import Lazy_Map\n",
    "from steves_utils.sequence_aggregator import Sequence_Aggregator\n",
    "\n",
    "from steves_utils.stratified_dataset.traditional_accessor import Traditional_Accessor_Factory\n",
    "\n",
    "from steves_utils.cnn_do_report import (\n",
    "    get_loss_curve,\n",
    "    get_results_table,\n",
    "    get_parameters_table,\n",
    "    get_domain_accuracies,\n",
    ")\n",
    "\n",
    "from steves_utils.torch_utils import (\n",
    "    confusion_by_domain_over_dataloader,\n",
    "    independent_accuracy_assesment\n",
    ")\n",
    "\n",
    "from steves_utils.utils_v2 import (\n",
    "    per_domain_accuracy_from_confusion,\n",
    "    get_datasets_base_path\n",
    ")\n",
    "\n",
    "# from steves_utils.ptn_do_report import TBD"
   ]
  },
  {
   "cell_type": "code",
   "execution_count": 2,
   "id": "1b29e3fe",
   "metadata": {
    "execution": {
     "iopub.execute_input": "2022-03-27T08:06:09.368926Z",
     "iopub.status.busy": "2022-03-27T08:06:09.368546Z",
     "iopub.status.idle": "2022-03-27T08:06:09.371253Z",
     "shell.execute_reply": "2022-03-27T08:06:09.370890Z"
    },
    "papermill": {
     "duration": 0.0217,
     "end_time": "2022-03-27T08:06:09.371323",
     "exception": false,
     "start_time": "2022-03-27T08:06:09.349623",
     "status": "completed"
    },
    "tags": []
   },
   "outputs": [],
   "source": [
    "required_parameters = {\n",
    "    \"experiment_name\",\n",
    "    \"lr\",\n",
    "    \"device\",\n",
    "    \"dataset_seed\",\n",
    "    \"seed\",\n",
    "    \"labels\",\n",
    "    \"domains_target\",\n",
    "    \"domains_source\",\n",
    "    \"num_examples_per_domain_per_label_source\",\n",
    "    \"num_examples_per_domain_per_label_target\",\n",
    "    \"batch_size\",\n",
    "    \"n_epoch\",\n",
    "    \"patience\",\n",
    "    \"criteria_for_best\",\n",
    "    \"normalize_source\",\n",
    "    \"normalize_target\",\n",
    "    \"x_net\",\n",
    "    \"NUM_LOGS_PER_EPOCH\",\n",
    "    \"BEST_MODEL_PATH\",\n",
    "    \"pickle_name_source\",\n",
    "    \"pickle_name_target\",\n",
    "    \"torch_default_dtype\",\n",
    "}"
   ]
  },
  {
   "cell_type": "code",
   "execution_count": 3,
   "id": "670b5fb8",
   "metadata": {
    "execution": {
     "iopub.execute_input": "2022-03-27T08:06:09.416843Z",
     "iopub.status.busy": "2022-03-27T08:06:09.415965Z",
     "iopub.status.idle": "2022-03-27T08:06:09.423746Z",
     "shell.execute_reply": "2022-03-27T08:06:09.422934Z"
    },
    "papermill": {
     "duration": 0.035159,
     "end_time": "2022-03-27T08:06:09.423897",
     "exception": false,
     "start_time": "2022-03-27T08:06:09.388738",
     "status": "completed"
    },
    "tags": [
     "parameters"
    ]
   },
   "outputs": [],
   "source": [
    "from steves_utils.ORACLE.utils_v2 import (\n",
    "    ALL_SERIAL_NUMBERS,\n",
    "    ALL_DISTANCES_FEET_NARROWED,\n",
    ")\n",
    "\n",
    "standalone_parameters = {}\n",
    "standalone_parameters[\"experiment_name\"] = \"MANUAL CORES CNN\"\n",
    "standalone_parameters[\"lr\"] = 0.0001\n",
    "standalone_parameters[\"device\"] = \"cuda\"\n",
    "\n",
    "standalone_parameters[\"dataset_seed\"] = 1337\n",
    "standalone_parameters[\"seed\"] = 1337\n",
    "standalone_parameters[\"labels\"] = ALL_SERIAL_NUMBERS\n",
    "\n",
    "standalone_parameters[\"domains_source\"] = [8,32,50]\n",
    "standalone_parameters[\"domains_target\"] = [14,20,26,38,44,]\n",
    "\n",
    "standalone_parameters[\"num_examples_per_domain_per_label_source\"]=-1\n",
    "standalone_parameters[\"num_examples_per_domain_per_label_target\"]=-1\n",
    "\n",
    "standalone_parameters[\"pickle_name_source\"] = \"oracle.Run1_framed_2000Examples_stratified_ds.2022A.pkl\"\n",
    "standalone_parameters[\"pickle_name_target\"] = \"oracle.Run2_framed_2000Examples_stratified_ds.2022A.pkl\"\n",
    "\n",
    "standalone_parameters[\"torch_default_dtype\"] = \"torch.float32\" \n",
    "\n",
    "standalone_parameters[\"batch_size\"]=128\n",
    "\n",
    "standalone_parameters[\"n_epoch\"] = 3\n",
    "\n",
    "standalone_parameters[\"patience\"] = 10\n",
    "\n",
    "standalone_parameters[\"criteria_for_best\"] = \"target_accuracy\"\n",
    "standalone_parameters[\"normalize_source\"] = False\n",
    "standalone_parameters[\"normalize_target\"] = False\n",
    "\n",
    "standalone_parameters[\"x_net\"] =     [\n",
    "    {\"class\": \"nnReshape\", \"kargs\": {\"shape\":[-1, 1, 2, 256]}},\n",
    "    {\"class\": \"Conv2d\", \"kargs\": { \"in_channels\":1, \"out_channels\":256, \"kernel_size\":(1,7), \"bias\":False, \"padding\":(0,3), },},\n",
    "    {\"class\": \"ReLU\", \"kargs\": {\"inplace\": True}},\n",
    "    {\"class\": \"BatchNorm2d\", \"kargs\": {\"num_features\":256}},\n",
    "\n",
    "    {\"class\": \"Conv2d\", \"kargs\": { \"in_channels\":256, \"out_channels\":80, \"kernel_size\":(2,7), \"bias\":True, \"padding\":(0,3), },},\n",
    "    {\"class\": \"ReLU\", \"kargs\": {\"inplace\": True}},\n",
    "    {\"class\": \"BatchNorm2d\", \"kargs\": {\"num_features\":80}},\n",
    "    {\"class\": \"Flatten\", \"kargs\": {}},\n",
    "\n",
    "    {\"class\": \"Linear\", \"kargs\": {\"in_features\": 80*256, \"out_features\": 256}}, # 80 units per IQ pair\n",
    "    {\"class\": \"ReLU\", \"kargs\": {\"inplace\": True}},\n",
    "    {\"class\": \"BatchNorm1d\", \"kargs\": {\"num_features\":256}},\n",
    "\n",
    "    {\"class\": \"Linear\", \"kargs\": {\"in_features\": 256, \"out_features\": len(standalone_parameters[\"labels\"])}},\n",
    "]\n",
    "\n",
    "standalone_parameters[\"NUM_LOGS_PER_EPOCH\"] = 10\n",
    "standalone_parameters[\"BEST_MODEL_PATH\"] = \"./best_model.pth\""
   ]
  },
  {
   "cell_type": "code",
   "execution_count": 4,
   "id": "554e2823",
   "metadata": {
    "execution": {
     "iopub.execute_input": "2022-03-27T08:06:09.474412Z",
     "iopub.status.busy": "2022-03-27T08:06:09.472529Z",
     "iopub.status.idle": "2022-03-27T08:06:09.477183Z",
     "shell.execute_reply": "2022-03-27T08:06:09.476397Z"
    },
    "papermill": {
     "duration": 0.031605,
     "end_time": "2022-03-27T08:06:09.477333",
     "exception": false,
     "start_time": "2022-03-27T08:06:09.445728",
     "status": "completed"
    },
    "tags": [
     "injected-parameters"
    ]
   },
   "outputs": [],
   "source": [
    "# Parameters\n",
    "parameters = {\n",
    "    \"experiment_name\": \"cnn_2:oracle.run2\",\n",
    "    \"labels\": [\n",
    "        \"3123D52\",\n",
    "        \"3123D65\",\n",
    "        \"3123D79\",\n",
    "        \"3123D80\",\n",
    "        \"3123D54\",\n",
    "        \"3123D70\",\n",
    "        \"3123D7B\",\n",
    "        \"3123D89\",\n",
    "        \"3123D58\",\n",
    "        \"3123D76\",\n",
    "        \"3123D7D\",\n",
    "        \"3123EFE\",\n",
    "        \"3123D64\",\n",
    "        \"3123D78\",\n",
    "        \"3123D7E\",\n",
    "        \"3124E4A\",\n",
    "    ],\n",
    "    \"domains_source\": [8, 32, 50, 14, 20, 26, 38, 44],\n",
    "    \"domains_target\": [8, 32, 50, 14, 20, 26, 38, 44],\n",
    "    \"pickle_name_source\": \"oracle.Run2_10kExamples_stratified_ds.2022A.pkl\",\n",
    "    \"pickle_name_target\": \"oracle.Run2_10kExamples_stratified_ds.2022A.pkl\",\n",
    "    \"device\": \"cuda\",\n",
    "    \"lr\": 0.0001,\n",
    "    \"batch_size\": 128,\n",
    "    \"normalize_source\": False,\n",
    "    \"normalize_target\": False,\n",
    "    \"num_examples_per_domain_per_label_source\": -1,\n",
    "    \"num_examples_per_domain_per_label_target\": -1,\n",
    "    \"torch_default_dtype\": \"torch.float32\",\n",
    "    \"n_epoch\": 50,\n",
    "    \"patience\": 3,\n",
    "    \"criteria_for_best\": \"target_accuracy\",\n",
    "    \"x_net\": [\n",
    "        {\"class\": \"nnReshape\", \"kargs\": {\"shape\": [-1, 1, 2, 256]}},\n",
    "        {\n",
    "            \"class\": \"Conv2d\",\n",
    "            \"kargs\": {\n",
    "                \"in_channels\": 1,\n",
    "                \"out_channels\": 256,\n",
    "                \"kernel_size\": [1, 7],\n",
    "                \"bias\": False,\n",
    "                \"padding\": [0, 3],\n",
    "            },\n",
    "        },\n",
    "        {\"class\": \"ReLU\", \"kargs\": {\"inplace\": True}},\n",
    "        {\"class\": \"BatchNorm2d\", \"kargs\": {\"num_features\": 256}},\n",
    "        {\n",
    "            \"class\": \"Conv2d\",\n",
    "            \"kargs\": {\n",
    "                \"in_channels\": 256,\n",
    "                \"out_channels\": 80,\n",
    "                \"kernel_size\": [2, 7],\n",
    "                \"bias\": True,\n",
    "                \"padding\": [0, 3],\n",
    "            },\n",
    "        },\n",
    "        {\"class\": \"ReLU\", \"kargs\": {\"inplace\": True}},\n",
    "        {\"class\": \"BatchNorm2d\", \"kargs\": {\"num_features\": 80}},\n",
    "        {\"class\": \"Flatten\", \"kargs\": {}},\n",
    "        {\"class\": \"Linear\", \"kargs\": {\"in_features\": 20480, \"out_features\": 256}},\n",
    "        {\"class\": \"ReLU\", \"kargs\": {\"inplace\": True}},\n",
    "        {\"class\": \"BatchNorm1d\", \"kargs\": {\"num_features\": 256}},\n",
    "        {\"class\": \"Linear\", \"kargs\": {\"in_features\": 256, \"out_features\": 16}},\n",
    "    ],\n",
    "    \"NUM_LOGS_PER_EPOCH\": 10,\n",
    "    \"BEST_MODEL_PATH\": \"./best_model.pth\",\n",
    "    \"dataset_seed\": 420,\n",
    "    \"seed\": 420,\n",
    "}\n"
   ]
  },
  {
   "cell_type": "code",
   "execution_count": 5,
   "id": "759b56ec",
   "metadata": {
    "execution": {
     "iopub.execute_input": "2022-03-27T08:06:09.519215Z",
     "iopub.status.busy": "2022-03-27T08:06:09.518385Z",
     "iopub.status.idle": "2022-03-27T08:06:09.520908Z",
     "shell.execute_reply": "2022-03-27T08:06:09.521564Z"
    },
    "papermill": {
     "duration": 0.025142,
     "end_time": "2022-03-27T08:06:09.521739",
     "exception": false,
     "start_time": "2022-03-27T08:06:09.496597",
     "status": "completed"
    },
    "tags": []
   },
   "outputs": [],
   "source": [
    "# Set this to True if you want to run this template directly\n",
    "STANDALONE = False\n",
    "if STANDALONE:\n",
    "    print(\"parameters not injected, running with standalone_parameters\")\n",
    "    parameters = standalone_parameters\n",
    "\n",
    "if not 'parameters' in locals() and not 'parameters' in globals():\n",
    "    raise Exception(\"Parameter injection failed\")\n",
    "\n",
    "#Use an easy dict for all the parameters\n",
    "p = EasyDict(parameters)\n",
    "\n",
    "supplied_keys = set(p.keys())\n",
    "\n",
    "if  supplied_keys != required_parameters:\n",
    "    print(\"Parameters are incorrect\")\n",
    "    if len(supplied_keys - required_parameters)>0: print(\"Shouldn't have:\", str(supplied_keys - required_parameters))\n",
    "    if len(required_parameters - supplied_keys)>0: print(\"Need to have:\", str(required_parameters - supplied_keys))\n",
    "    raise RuntimeError(\"Parameters are incorrect\")\n",
    "\n"
   ]
  },
  {
   "cell_type": "code",
   "execution_count": 6,
   "id": "d5c66a71",
   "metadata": {
    "execution": {
     "iopub.execute_input": "2022-03-27T08:06:09.558913Z",
     "iopub.status.busy": "2022-03-27T08:06:09.558548Z",
     "iopub.status.idle": "2022-03-27T08:06:09.562778Z",
     "shell.execute_reply": "2022-03-27T08:06:09.563277Z"
    },
    "papermill": {
     "duration": 0.022092,
     "end_time": "2022-03-27T08:06:09.563356",
     "exception": false,
     "start_time": "2022-03-27T08:06:09.541264",
     "status": "completed"
    },
    "tags": []
   },
   "outputs": [],
   "source": [
    "###################################\n",
    "# Set the RNGs and make it all deterministic\n",
    "###################################\n",
    "np.random.seed(p.seed)\n",
    "random.seed(p.seed)\n",
    "torch.manual_seed(p.seed)\n",
    "\n",
    "torch.use_deterministic_algorithms(True) "
   ]
  },
  {
   "cell_type": "code",
   "execution_count": 7,
   "id": "92a65876",
   "metadata": {
    "execution": {
     "iopub.execute_input": "2022-03-27T08:06:09.597404Z",
     "iopub.status.busy": "2022-03-27T08:06:09.596855Z",
     "iopub.status.idle": "2022-03-27T08:06:09.599389Z",
     "shell.execute_reply": "2022-03-27T08:06:09.599858Z"
    },
    "papermill": {
     "duration": 0.020459,
     "end_time": "2022-03-27T08:06:09.599978",
     "exception": false,
     "start_time": "2022-03-27T08:06:09.579519",
     "status": "completed"
    },
    "tags": []
   },
   "outputs": [],
   "source": [
    "torch.set_default_dtype(eval(p.torch_default_dtype))"
   ]
  },
  {
   "cell_type": "code",
   "execution_count": 8,
   "id": "f1a32f01",
   "metadata": {
    "execution": {
     "iopub.execute_input": "2022-03-27T08:06:09.638124Z",
     "iopub.status.busy": "2022-03-27T08:06:09.637761Z",
     "iopub.status.idle": "2022-03-27T08:06:09.677779Z",
     "shell.execute_reply": "2022-03-27T08:06:09.677045Z"
    },
    "papermill": {
     "duration": 0.057468,
     "end_time": "2022-03-27T08:06:09.677954",
     "exception": false,
     "start_time": "2022-03-27T08:06:09.620486",
     "status": "completed"
    },
    "tags": []
   },
   "outputs": [],
   "source": [
    "###################################\n",
    "# Build the network(s)\n",
    "# Note: It's critical to do this AFTER setting the RNG\n",
    "###################################\n",
    "x_net = build_sequential(p.x_net)"
   ]
  },
  {
   "cell_type": "code",
   "execution_count": 9,
   "id": "a276cd83",
   "metadata": {
    "execution": {
     "iopub.execute_input": "2022-03-27T08:06:09.716810Z",
     "iopub.status.busy": "2022-03-27T08:06:09.716446Z",
     "iopub.status.idle": "2022-03-27T08:06:09.718650Z",
     "shell.execute_reply": "2022-03-27T08:06:09.718288Z"
    },
    "papermill": {
     "duration": 0.018795,
     "end_time": "2022-03-27T08:06:09.718719",
     "exception": false,
     "start_time": "2022-03-27T08:06:09.699924",
     "status": "completed"
    },
    "tags": []
   },
   "outputs": [],
   "source": [
    "start_time_secs = time.time()"
   ]
  },
  {
   "cell_type": "code",
   "execution_count": 10,
   "id": "de702e48",
   "metadata": {
    "execution": {
     "iopub.execute_input": "2022-03-27T08:06:09.764057Z",
     "iopub.status.busy": "2022-03-27T08:06:09.763196Z",
     "iopub.status.idle": "2022-03-27T08:06:46.492834Z",
     "shell.execute_reply": "2022-03-27T08:06:46.492101Z"
    },
    "papermill": {
     "duration": 36.757216,
     "end_time": "2022-03-27T08:06:46.493013",
     "exception": false,
     "start_time": "2022-03-27T08:06:09.735797",
     "status": "completed"
    },
    "tags": []
   },
   "outputs": [],
   "source": [
    "def wrap_in_dataloader(p, ds):\n",
    "    return torch.utils.data.DataLoader(\n",
    "        ds,\n",
    "        batch_size=p.batch_size,\n",
    "        shuffle=True,\n",
    "        num_workers=1,\n",
    "        persistent_workers=True,\n",
    "        prefetch_factor=50,\n",
    "        pin_memory=True\n",
    "    )\n",
    "\n",
    "taf_source = Traditional_Accessor_Factory(\n",
    "    labels=p.labels,\n",
    "    domains=p.domains_source,\n",
    "    num_examples_per_domain_per_label=p.num_examples_per_domain_per_label_source,\n",
    "    pickle_path=os.path.join(get_datasets_base_path(), p.pickle_name_source),\n",
    "    seed=p.dataset_seed\n",
    ")\n",
    "train_original_source, val_original_source, test_original_source = \\\n",
    "    taf_source.get_train(), taf_source.get_val(), taf_source.get_test()\n",
    "\n",
    "\n",
    "taf_target = Traditional_Accessor_Factory(\n",
    "    labels=p.labels,\n",
    "    domains=p.domains_target,\n",
    "    num_examples_per_domain_per_label=p.num_examples_per_domain_per_label_source,\n",
    "    pickle_path=os.path.join(get_datasets_base_path(), p.pickle_name_target),\n",
    "    seed=p.dataset_seed\n",
    ")\n",
    "train_original_target, val_original_target, test_original_target = \\\n",
    "    taf_target.get_train(), taf_target.get_val(), taf_target.get_test()\n",
    "\n",
    "\n",
    "# For CNN We only use X and Y. And we only train on the source.\n",
    "# Properly form the data using a transform lambda and Lazy_Map. Finally wrap them in a dataloader\n",
    "\n",
    "transform_lambda = lambda ex: ex[:2] # Strip the tuple to just (x,y)\n",
    "\n",
    "\n",
    "train_processed_source = wrap_in_dataloader(\n",
    "    p,\n",
    "    Lazy_Map(train_original_source, transform_lambda)\n",
    ")\n",
    "val_processed_source = wrap_in_dataloader(\n",
    "    p,\n",
    "    Lazy_Map(val_original_source, transform_lambda)\n",
    ")\n",
    "test_processed_source = wrap_in_dataloader(\n",
    "    p,\n",
    "    Lazy_Map(test_original_source, transform_lambda)\n",
    ")\n",
    "\n",
    "train_processed_target = wrap_in_dataloader(\n",
    "    p,\n",
    "    Lazy_Map(train_original_target, transform_lambda)\n",
    ")\n",
    "val_processed_target = wrap_in_dataloader(\n",
    "    p,\n",
    "    Lazy_Map(val_original_target, transform_lambda)\n",
    ")\n",
    "test_processed_target  = wrap_in_dataloader(\n",
    "    p,\n",
    "    Lazy_Map(test_original_target, transform_lambda)\n",
    ")\n",
    "\n",
    "\n",
    "\n",
    "datasets = EasyDict({\n",
    "    \"source\": {\n",
    "        \"original\": {\"train\":train_original_source, \"val\":val_original_source, \"test\":test_original_source},\n",
    "        \"processed\": {\"train\":train_processed_source, \"val\":val_processed_source, \"test\":test_processed_source}\n",
    "    },\n",
    "    \"target\": {\n",
    "        \"original\": {\"train\":train_original_target, \"val\":val_original_target, \"test\":test_original_target},\n",
    "        \"processed\": {\"train\":train_processed_target, \"val\":val_processed_target, \"test\":test_processed_target}\n",
    "    },\n",
    "})"
   ]
  },
  {
   "cell_type": "code",
   "execution_count": 11,
   "id": "a11b26bd",
   "metadata": {
    "execution": {
     "iopub.execute_input": "2022-03-27T08:06:46.570110Z",
     "iopub.status.busy": "2022-03-27T08:06:46.569290Z",
     "iopub.status.idle": "2022-03-27T08:06:52.265054Z",
     "shell.execute_reply": "2022-03-27T08:06:52.264187Z"
    },
    "papermill": {
     "duration": 5.75377,
     "end_time": "2022-03-27T08:06:52.265244",
     "exception": false,
     "start_time": "2022-03-27T08:06:46.511474",
     "status": "completed"
    },
    "tags": []
   },
   "outputs": [
    {
     "data": {
      "text/plain": [
       "torch.float32"
      ]
     },
     "execution_count": 11,
     "metadata": {},
     "output_type": "execute_result"
    }
   ],
   "source": [
    "ep = next(iter(test_processed_target))\n",
    "ep[0].dtype"
   ]
  },
  {
   "cell_type": "code",
   "execution_count": 12,
   "id": "19425fad",
   "metadata": {
    "execution": {
     "iopub.execute_input": "2022-03-27T08:06:52.311872Z",
     "iopub.status.busy": "2022-03-27T08:06:52.311432Z",
     "iopub.status.idle": "2022-03-27T08:06:52.363220Z",
     "shell.execute_reply": "2022-03-27T08:06:52.363947Z"
    },
    "papermill": {
     "duration": 0.074741,
     "end_time": "2022-03-27T08:06:52.364233",
     "exception": false,
     "start_time": "2022-03-27T08:06:52.289492",
     "status": "completed"
    },
    "tags": []
   },
   "outputs": [],
   "source": [
    "model = Configurable_Vanilla(\n",
    "    x_net=x_net,\n",
    "    label_loss_object=torch.nn.NLLLoss(),\n",
    "    learning_rate=p.lr\n",
    ")"
   ]
  },
  {
   "cell_type": "code",
   "execution_count": 13,
   "id": "7f6d4f2c",
   "metadata": {
    "execution": {
     "iopub.execute_input": "2022-03-27T08:06:52.407788Z",
     "iopub.status.busy": "2022-03-27T08:06:52.407376Z",
     "iopub.status.idle": "2022-03-27T08:22:27.746972Z",
     "shell.execute_reply": "2022-03-27T08:22:27.747658Z"
    },
    "papermill": {
     "duration": 935.359896,
     "end_time": "2022-03-27T08:22:27.747877",
     "exception": false,
     "start_time": "2022-03-27T08:06:52.387981",
     "status": "completed"
    },
    "tags": []
   },
   "outputs": [
    {
     "name": "stdout",
     "output_type": "stream",
     "text": [
      "epoch: 1, [batch: 1 / 7000], examples_per_second: 350.4575, train_label_loss: 2.7699, \n"
     ]
    },
    {
     "name": "stdout",
     "output_type": "stream",
     "text": [
      "epoch: 1, [batch: 700 / 7000], examples_per_second: 12349.7992, train_label_loss: 2.6035, \n"
     ]
    },
    {
     "name": "stdout",
     "output_type": "stream",
     "text": [
      "epoch: 1, [batch: 1400 / 7000], examples_per_second: 10722.0291, train_label_loss: 2.4839, \n"
     ]
    },
    {
     "name": "stdout",
     "output_type": "stream",
     "text": [
      "epoch: 1, [batch: 2100 / 7000], examples_per_second: 10720.2762, train_label_loss: 2.2020, \n"
     ]
    },
    {
     "name": "stdout",
     "output_type": "stream",
     "text": [
      "epoch: 1, [batch: 2800 / 7000], examples_per_second: 10694.6400, train_label_loss: 2.0123, \n"
     ]
    },
    {
     "name": "stdout",
     "output_type": "stream",
     "text": [
      "epoch: 1, [batch: 3500 / 7000], examples_per_second: 10690.8553, train_label_loss: 1.9077, \n"
     ]
    },
    {
     "name": "stdout",
     "output_type": "stream",
     "text": [
      "epoch: 1, [batch: 4200 / 7000], examples_per_second: 10701.7694, train_label_loss: 1.7931, \n"
     ]
    },
    {
     "name": "stdout",
     "output_type": "stream",
     "text": [
      "epoch: 1, [batch: 4900 / 7000], examples_per_second: 10619.4534, train_label_loss: 1.5420, \n"
     ]
    },
    {
     "name": "stdout",
     "output_type": "stream",
     "text": [
      "epoch: 1, [batch: 5600 / 7000], examples_per_second: 10679.7085, train_label_loss: 1.5034, \n"
     ]
    },
    {
     "name": "stdout",
     "output_type": "stream",
     "text": [
      "epoch: 1, [batch: 6300 / 7000], examples_per_second: 10610.5141, train_label_loss: 1.4141, \n"
     ]
    },
    {
     "name": "stdout",
     "output_type": "stream",
     "text": [
      "=============================================================\n",
      "epoch: 1, source_val_acc_label: 0.5924, source_val_label_loss: 1.2435, target_val_acc_label: 0.5924, target_val_label_loss: 1.2435, \n",
      "=============================================================\n"
     ]
    },
    {
     "name": "stdout",
     "output_type": "stream",
     "text": [
      "New best\n",
      "epoch: 2, [batch: 1 / 7000], examples_per_second: 10.8646, train_label_loss: 1.5567, \n"
     ]
    },
    {
     "name": "stdout",
     "output_type": "stream",
     "text": [
      "epoch: 2, [batch: 700 / 7000], examples_per_second: 11413.1537, train_label_loss: 1.2503, \n"
     ]
    },
    {
     "name": "stdout",
     "output_type": "stream",
     "text": [
      "epoch: 2, [batch: 1400 / 7000], examples_per_second: 11587.5548, train_label_loss: 1.3672, \n"
     ]
    },
    {
     "name": "stdout",
     "output_type": "stream",
     "text": [
      "epoch: 2, [batch: 2100 / 7000], examples_per_second: 11676.8277, train_label_loss: 1.2125, \n"
     ]
    },
    {
     "name": "stdout",
     "output_type": "stream",
     "text": [
      "epoch: 2, [batch: 2800 / 7000], examples_per_second: 11637.3819, train_label_loss: 1.1683, \n"
     ]
    },
    {
     "name": "stdout",
     "output_type": "stream",
     "text": [
      "epoch: 2, [batch: 3500 / 7000], examples_per_second: 11651.1717, train_label_loss: 1.4443, \n"
     ]
    },
    {
     "name": "stdout",
     "output_type": "stream",
     "text": [
      "epoch: 2, [batch: 4200 / 7000], examples_per_second: 11578.1304, train_label_loss: 1.1735, \n"
     ]
    },
    {
     "name": "stdout",
     "output_type": "stream",
     "text": [
      "epoch: 2, [batch: 4900 / 7000], examples_per_second: 11628.9000, train_label_loss: 0.9132, \n"
     ]
    },
    {
     "name": "stdout",
     "output_type": "stream",
     "text": [
      "epoch: 2, [batch: 5600 / 7000], examples_per_second: 11684.0819, train_label_loss: 1.1332, \n"
     ]
    },
    {
     "name": "stdout",
     "output_type": "stream",
     "text": [
      "epoch: 2, [batch: 6300 / 7000], examples_per_second: 11621.8133, train_label_loss: 0.9327, \n"
     ]
    },
    {
     "name": "stdout",
     "output_type": "stream",
     "text": [
      "=============================================================\n",
      "epoch: 2, source_val_acc_label: 0.6674, source_val_label_loss: 0.9453, target_val_acc_label: 0.6674, target_val_label_loss: 0.9453, \n",
      "=============================================================\n"
     ]
    },
    {
     "name": "stdout",
     "output_type": "stream",
     "text": [
      "New best\n",
      "epoch: 3, [batch: 1 / 7000], examples_per_second: 12.6034, train_label_loss: 0.9402, \n"
     ]
    },
    {
     "name": "stdout",
     "output_type": "stream",
     "text": [
      "epoch: 3, [batch: 700 / 7000], examples_per_second: 10580.9286, train_label_loss: 1.0424, \n"
     ]
    },
    {
     "name": "stdout",
     "output_type": "stream",
     "text": [
      "epoch: 3, [batch: 1400 / 7000], examples_per_second: 10643.0690, train_label_loss: 0.9453, \n"
     ]
    },
    {
     "name": "stdout",
     "output_type": "stream",
     "text": [
      "epoch: 3, [batch: 2100 / 7000], examples_per_second: 10677.0878, train_label_loss: 0.9442, \n"
     ]
    },
    {
     "name": "stdout",
     "output_type": "stream",
     "text": [
      "epoch: 3, [batch: 2800 / 7000], examples_per_second: 10677.3038, train_label_loss: 0.8979, \n"
     ]
    },
    {
     "name": "stdout",
     "output_type": "stream",
     "text": [
      "epoch: 3, [batch: 3500 / 7000], examples_per_second: 10652.5596, train_label_loss: 0.7069, \n"
     ]
    },
    {
     "name": "stdout",
     "output_type": "stream",
     "text": [
      "epoch: 3, [batch: 4200 / 7000], examples_per_second: 10600.7752, train_label_loss: 0.7160, \n"
     ]
    },
    {
     "name": "stdout",
     "output_type": "stream",
     "text": [
      "epoch: 3, [batch: 4900 / 7000], examples_per_second: 10610.4233, train_label_loss: 1.0522, \n"
     ]
    },
    {
     "name": "stdout",
     "output_type": "stream",
     "text": [
      "epoch: 3, [batch: 5600 / 7000], examples_per_second: 10669.9218, train_label_loss: 1.3691, \n"
     ]
    },
    {
     "name": "stdout",
     "output_type": "stream",
     "text": [
      "epoch: 3, [batch: 6300 / 7000], examples_per_second: 10560.0172, train_label_loss: 0.9664, \n"
     ]
    },
    {
     "name": "stdout",
     "output_type": "stream",
     "text": [
      "=============================================================\n",
      "epoch: 3, source_val_acc_label: 0.7295, source_val_label_loss: 0.7546, target_val_acc_label: 0.7295, target_val_label_loss: 0.7546, \n",
      "=============================================================\n"
     ]
    },
    {
     "name": "stdout",
     "output_type": "stream",
     "text": [
      "New best\n",
      "epoch: 4, [batch: 1 / 7000], examples_per_second: 11.9346, train_label_loss: 1.0525, \n"
     ]
    },
    {
     "name": "stdout",
     "output_type": "stream",
     "text": [
      "epoch: 4, [batch: 700 / 7000], examples_per_second: 11647.6680, train_label_loss: 0.5736, \n"
     ]
    },
    {
     "name": "stdout",
     "output_type": "stream",
     "text": [
      "epoch: 4, [batch: 1400 / 7000], examples_per_second: 11662.0647, train_label_loss: 0.7531, \n"
     ]
    },
    {
     "name": "stdout",
     "output_type": "stream",
     "text": [
      "epoch: 4, [batch: 2100 / 7000], examples_per_second: 11612.1072, train_label_loss: 0.6882, \n"
     ]
    },
    {
     "name": "stdout",
     "output_type": "stream",
     "text": [
      "epoch: 4, [batch: 2800 / 7000], examples_per_second: 11632.1974, train_label_loss: 0.7154, \n"
     ]
    },
    {
     "name": "stdout",
     "output_type": "stream",
     "text": [
      "epoch: 4, [batch: 3500 / 7000], examples_per_second: 11752.6100, train_label_loss: 0.5888, \n"
     ]
    },
    {
     "name": "stdout",
     "output_type": "stream",
     "text": [
      "epoch: 4, [batch: 4200 / 7000], examples_per_second: 11638.2735, train_label_loss: 0.8096, \n"
     ]
    },
    {
     "name": "stdout",
     "output_type": "stream",
     "text": [
      "epoch: 4, [batch: 4900 / 7000], examples_per_second: 11683.3195, train_label_loss: 0.6641, \n"
     ]
    },
    {
     "name": "stdout",
     "output_type": "stream",
     "text": [
      "epoch: 4, [batch: 5600 / 7000], examples_per_second: 11646.8766, train_label_loss: 0.5406, \n"
     ]
    },
    {
     "name": "stdout",
     "output_type": "stream",
     "text": [
      "epoch: 4, [batch: 6300 / 7000], examples_per_second: 11698.4470, train_label_loss: 0.7383, \n"
     ]
    },
    {
     "name": "stdout",
     "output_type": "stream",
     "text": [
      "=============================================================\n",
      "epoch: 4, source_val_acc_label: 0.7553, source_val_label_loss: 0.6648, target_val_acc_label: 0.7553, target_val_label_loss: 0.6648, \n",
      "=============================================================\n"
     ]
    },
    {
     "name": "stdout",
     "output_type": "stream",
     "text": [
      "New best\n",
      "epoch: 5, [batch: 1 / 7000], examples_per_second: 11.9243, train_label_loss: 0.7600, \n"
     ]
    },
    {
     "name": "stdout",
     "output_type": "stream",
     "text": [
      "epoch: 5, [batch: 700 / 7000], examples_per_second: 10657.7235, train_label_loss: 0.8154, \n"
     ]
    },
    {
     "name": "stdout",
     "output_type": "stream",
     "text": [
      "epoch: 5, [batch: 1400 / 7000], examples_per_second: 10633.6860, train_label_loss: 0.6655, \n"
     ]
    },
    {
     "name": "stdout",
     "output_type": "stream",
     "text": [
      "epoch: 5, [batch: 2100 / 7000], examples_per_second: 10671.3240, train_label_loss: 0.5626, \n"
     ]
    },
    {
     "name": "stdout",
     "output_type": "stream",
     "text": [
      "epoch: 5, [batch: 2800 / 7000], examples_per_second: 10700.2331, train_label_loss: 0.6195, \n"
     ]
    },
    {
     "name": "stdout",
     "output_type": "stream",
     "text": [
      "epoch: 5, [batch: 3500 / 7000], examples_per_second: 10715.5829, train_label_loss: 0.4606, \n"
     ]
    },
    {
     "name": "stdout",
     "output_type": "stream",
     "text": [
      "epoch: 5, [batch: 4200 / 7000], examples_per_second: 10723.3565, train_label_loss: 0.6075, \n"
     ]
    },
    {
     "name": "stdout",
     "output_type": "stream",
     "text": [
      "epoch: 5, [batch: 4900 / 7000], examples_per_second: 10702.6496, train_label_loss: 0.7239, \n"
     ]
    },
    {
     "name": "stdout",
     "output_type": "stream",
     "text": [
      "epoch: 5, [batch: 5600 / 7000], examples_per_second: 10746.1887, train_label_loss: 0.5565, \n"
     ]
    },
    {
     "name": "stdout",
     "output_type": "stream",
     "text": [
      "epoch: 5, [batch: 6300 / 7000], examples_per_second: 10748.5052, train_label_loss: 0.5875, \n"
     ]
    },
    {
     "name": "stdout",
     "output_type": "stream",
     "text": [
      "=============================================================\n",
      "epoch: 5, source_val_acc_label: 0.7708, source_val_label_loss: 0.6278, target_val_acc_label: 0.7708, target_val_label_loss: 0.6278, \n",
      "=============================================================\n"
     ]
    },
    {
     "name": "stdout",
     "output_type": "stream",
     "text": [
      "New best\n",
      "epoch: 6, [batch: 1 / 7000], examples_per_second: 12.8283, train_label_loss: 0.4812, \n"
     ]
    },
    {
     "name": "stdout",
     "output_type": "stream",
     "text": [
      "epoch: 6, [batch: 700 / 7000], examples_per_second: 11701.2723, train_label_loss: 0.4542, \n"
     ]
    },
    {
     "name": "stdout",
     "output_type": "stream",
     "text": [
      "epoch: 6, [batch: 1400 / 7000], examples_per_second: 11750.4600, train_label_loss: 0.3431, \n"
     ]
    },
    {
     "name": "stdout",
     "output_type": "stream",
     "text": [
      "epoch: 6, [batch: 2100 / 7000], examples_per_second: 11860.1528, train_label_loss: 0.6247, \n"
     ]
    },
    {
     "name": "stdout",
     "output_type": "stream",
     "text": [
      "epoch: 6, [batch: 2800 / 7000], examples_per_second: 11739.1255, train_label_loss: 0.6195, \n"
     ]
    },
    {
     "name": "stdout",
     "output_type": "stream",
     "text": [
      "epoch: 6, [batch: 3500 / 7000], examples_per_second: 11759.4980, train_label_loss: 0.6500, \n"
     ]
    },
    {
     "name": "stdout",
     "output_type": "stream",
     "text": [
      "epoch: 6, [batch: 4200 / 7000], examples_per_second: 11748.9714, train_label_loss: 0.6257, \n"
     ]
    },
    {
     "name": "stdout",
     "output_type": "stream",
     "text": [
      "epoch: 6, [batch: 4900 / 7000], examples_per_second: 11746.7875, train_label_loss: 0.4744, \n"
     ]
    },
    {
     "name": "stdout",
     "output_type": "stream",
     "text": [
      "epoch: 6, [batch: 5600 / 7000], examples_per_second: 12348.0499, train_label_loss: 0.5008, \n"
     ]
    },
    {
     "name": "stdout",
     "output_type": "stream",
     "text": [
      "epoch: 6, [batch: 6300 / 7000], examples_per_second: 10701.5787, train_label_loss: 0.5914, \n"
     ]
    },
    {
     "name": "stdout",
     "output_type": "stream",
     "text": [
      "=============================================================\n",
      "epoch: 6, source_val_acc_label: 0.7864, source_val_label_loss: 0.5879, target_val_acc_label: 0.7864, target_val_label_loss: 0.5879, \n",
      "=============================================================\n"
     ]
    },
    {
     "name": "stdout",
     "output_type": "stream",
     "text": [
      "New best\n",
      "epoch: 7, [batch: 1 / 7000], examples_per_second: 11.5172, train_label_loss: 0.3256, \n"
     ]
    },
    {
     "name": "stdout",
     "output_type": "stream",
     "text": [
      "epoch: 7, [batch: 700 / 7000], examples_per_second: 10670.3283, train_label_loss: 0.4863, \n"
     ]
    },
    {
     "name": "stdout",
     "output_type": "stream",
     "text": [
      "epoch: 7, [batch: 1400 / 7000], examples_per_second: 10666.9130, train_label_loss: 0.4192, \n"
     ]
    },
    {
     "name": "stdout",
     "output_type": "stream",
     "text": [
      "epoch: 7, [batch: 2100 / 7000], examples_per_second: 10708.8214, train_label_loss: 0.4541, \n"
     ]
    },
    {
     "name": "stdout",
     "output_type": "stream",
     "text": [
      "epoch: 7, [batch: 2800 / 7000], examples_per_second: 10718.1112, train_label_loss: 0.4795, \n"
     ]
    },
    {
     "name": "stdout",
     "output_type": "stream",
     "text": [
      "epoch: 7, [batch: 3500 / 7000], examples_per_second: 10765.0756, train_label_loss: 0.4501, \n"
     ]
    },
    {
     "name": "stdout",
     "output_type": "stream",
     "text": [
      "epoch: 7, [batch: 4200 / 7000], examples_per_second: 10726.2433, train_label_loss: 0.8193, \n"
     ]
    },
    {
     "name": "stdout",
     "output_type": "stream",
     "text": [
      "epoch: 7, [batch: 4900 / 7000], examples_per_second: 10726.8906, train_label_loss: 0.4577, \n"
     ]
    },
    {
     "name": "stdout",
     "output_type": "stream",
     "text": [
      "epoch: 7, [batch: 5600 / 7000], examples_per_second: 10737.1566, train_label_loss: 0.4285, \n"
     ]
    },
    {
     "name": "stdout",
     "output_type": "stream",
     "text": [
      "epoch: 7, [batch: 6300 / 7000], examples_per_second: 10715.8922, train_label_loss: 0.6933, \n"
     ]
    },
    {
     "name": "stdout",
     "output_type": "stream",
     "text": [
      "=============================================================\n",
      "epoch: 7, source_val_acc_label: 0.7838, source_val_label_loss: 0.5856, target_val_acc_label: 0.7838, target_val_label_loss: 0.5856, \n",
      "=============================================================\n"
     ]
    },
    {
     "name": "stdout",
     "output_type": "stream",
     "text": [
      "epoch: 8, [batch: 1 / 7000], examples_per_second: 13.2529, train_label_loss: 0.3810, \n"
     ]
    },
    {
     "name": "stdout",
     "output_type": "stream",
     "text": [
      "epoch: 8, [batch: 700 / 7000], examples_per_second: 11784.0344, train_label_loss: 0.3799, \n"
     ]
    },
    {
     "name": "stdout",
     "output_type": "stream",
     "text": [
      "epoch: 8, [batch: 1400 / 7000], examples_per_second: 11889.3540, train_label_loss: 0.6435, \n"
     ]
    },
    {
     "name": "stdout",
     "output_type": "stream",
     "text": [
      "epoch: 8, [batch: 2100 / 7000], examples_per_second: 11767.3303, train_label_loss: 0.3215, \n"
     ]
    },
    {
     "name": "stdout",
     "output_type": "stream",
     "text": [
      "epoch: 8, [batch: 2800 / 7000], examples_per_second: 11757.9649, train_label_loss: 0.5380, \n"
     ]
    },
    {
     "name": "stdout",
     "output_type": "stream",
     "text": [
      "epoch: 8, [batch: 3500 / 7000], examples_per_second: 11751.9434, train_label_loss: 0.4433, \n"
     ]
    },
    {
     "name": "stdout",
     "output_type": "stream",
     "text": [
      "epoch: 8, [batch: 4200 / 7000], examples_per_second: 11742.3768, train_label_loss: 0.4430, \n"
     ]
    },
    {
     "name": "stdout",
     "output_type": "stream",
     "text": [
      "epoch: 8, [batch: 4900 / 7000], examples_per_second: 11865.8295, train_label_loss: 0.3922, \n"
     ]
    },
    {
     "name": "stdout",
     "output_type": "stream",
     "text": [
      "epoch: 8, [batch: 5600 / 7000], examples_per_second: 11777.6277, train_label_loss: 0.4211, \n"
     ]
    },
    {
     "name": "stdout",
     "output_type": "stream",
     "text": [
      "epoch: 8, [batch: 6300 / 7000], examples_per_second: 10735.9140, train_label_loss: 0.2863, \n"
     ]
    },
    {
     "name": "stdout",
     "output_type": "stream",
     "text": [
      "=============================================================\n",
      "epoch: 8, source_val_acc_label: 0.7755, source_val_label_loss: 0.6248, target_val_acc_label: 0.7755, target_val_label_loss: 0.6248, \n",
      "=============================================================\n"
     ]
    },
    {
     "name": "stdout",
     "output_type": "stream",
     "text": [
      "epoch: 9, [batch: 1 / 7000], examples_per_second: 11.4055, train_label_loss: 0.3714, \n"
     ]
    },
    {
     "name": "stdout",
     "output_type": "stream",
     "text": [
      "epoch: 9, [batch: 700 / 7000], examples_per_second: 10707.7982, train_label_loss: 0.4573, \n"
     ]
    },
    {
     "name": "stdout",
     "output_type": "stream",
     "text": [
      "epoch: 9, [batch: 1400 / 7000], examples_per_second: 10722.6360, train_label_loss: 0.5033, \n"
     ]
    },
    {
     "name": "stdout",
     "output_type": "stream",
     "text": [
      "epoch: 9, [batch: 2100 / 7000], examples_per_second: 10716.0266, train_label_loss: 0.4789, \n"
     ]
    },
    {
     "name": "stdout",
     "output_type": "stream",
     "text": [
      "epoch: 9, [batch: 2800 / 7000], examples_per_second: 10711.1426, train_label_loss: 0.3393, \n"
     ]
    },
    {
     "name": "stdout",
     "output_type": "stream",
     "text": [
      "epoch: 9, [batch: 3500 / 7000], examples_per_second: 10685.7906, train_label_loss: 0.3129, \n"
     ]
    },
    {
     "name": "stdout",
     "output_type": "stream",
     "text": [
      "epoch: 9, [batch: 4200 / 7000], examples_per_second: 10686.8940, train_label_loss: 0.4739, \n"
     ]
    },
    {
     "name": "stdout",
     "output_type": "stream",
     "text": [
      "epoch: 9, [batch: 4900 / 7000], examples_per_second: 10698.2973, train_label_loss: 0.4762, \n"
     ]
    },
    {
     "name": "stdout",
     "output_type": "stream",
     "text": [
      "epoch: 9, [batch: 5600 / 7000], examples_per_second: 11439.9846, train_label_loss: 0.3468, \n"
     ]
    },
    {
     "name": "stdout",
     "output_type": "stream",
     "text": [
      "epoch: 9, [batch: 6300 / 7000], examples_per_second: 11728.2430, train_label_loss: 0.6920, \n"
     ]
    },
    {
     "name": "stdout",
     "output_type": "stream",
     "text": [
      "=============================================================\n",
      "epoch: 9, source_val_acc_label: 0.7832, source_val_label_loss: 0.5959, target_val_acc_label: 0.7832, target_val_label_loss: 0.5959, \n",
      "=============================================================\n"
     ]
    },
    {
     "name": "stdout",
     "output_type": "stream",
     "text": [
      "epoch: 10, [batch: 1 / 7000], examples_per_second: 13.0527, train_label_loss: 0.2228, \n"
     ]
    },
    {
     "name": "stdout",
     "output_type": "stream",
     "text": [
      "epoch: 10, [batch: 700 / 7000], examples_per_second: 11751.1534, train_label_loss: 0.3605, \n"
     ]
    },
    {
     "name": "stdout",
     "output_type": "stream",
     "text": [
      "epoch: 10, [batch: 1400 / 7000], examples_per_second: 11718.9317, train_label_loss: 0.3965, \n"
     ]
    },
    {
     "name": "stdout",
     "output_type": "stream",
     "text": [
      "epoch: 10, [batch: 2100 / 7000], examples_per_second: 11738.8876, train_label_loss: 0.3576, \n"
     ]
    },
    {
     "name": "stdout",
     "output_type": "stream",
     "text": [
      "epoch: 10, [batch: 2800 / 7000], examples_per_second: 11676.4323, train_label_loss: 0.4586, \n"
     ]
    },
    {
     "name": "stdout",
     "output_type": "stream",
     "text": [
      "epoch: 10, [batch: 3500 / 7000], examples_per_second: 11723.3807, train_label_loss: 0.3377, \n"
     ]
    },
    {
     "name": "stdout",
     "output_type": "stream",
     "text": [
      "epoch: 10, [batch: 4200 / 7000], examples_per_second: 11959.2520, train_label_loss: 0.2247, \n"
     ]
    },
    {
     "name": "stdout",
     "output_type": "stream",
     "text": [
      "epoch: 10, [batch: 4900 / 7000], examples_per_second: 10758.2453, train_label_loss: 0.3027, \n"
     ]
    },
    {
     "name": "stdout",
     "output_type": "stream",
     "text": [
      "epoch: 10, [batch: 5600 / 7000], examples_per_second: 10711.5065, train_label_loss: 0.3854, \n"
     ]
    },
    {
     "name": "stdout",
     "output_type": "stream",
     "text": [
      "epoch: 10, [batch: 6300 / 7000], examples_per_second: 10711.6579, train_label_loss: 0.4970, \n"
     ]
    },
    {
     "name": "stdout",
     "output_type": "stream",
     "text": [
      "=============================================================\n",
      "epoch: 10, source_val_acc_label: 0.7688, source_val_label_loss: 0.6575, target_val_acc_label: 0.7688, target_val_label_loss: 0.6575, \n",
      "=============================================================\n"
     ]
    },
    {
     "name": "stdout",
     "output_type": "stream",
     "text": [
      "Patience (3) exhausted\n"
     ]
    }
   ],
   "source": [
    "jig = Vanilla_Train_Eval_Test_Jig(\n",
    "    model=model,\n",
    "    path_to_best_model=p.BEST_MODEL_PATH,\n",
    "    device=p.device,\n",
    "    label_loss_object=torch.nn.NLLLoss(),\n",
    ")\n",
    "\n",
    "jig.train(\n",
    "    train_iterable=datasets.source.processed.train,\n",
    "    source_val_iterable=datasets.source.processed.val,\n",
    "    target_val_iterable=datasets.target.processed.val,\n",
    "    patience=p.patience,\n",
    "    num_epochs=p.n_epoch,\n",
    "    num_logs_per_epoch=p.NUM_LOGS_PER_EPOCH,\n",
    "    criteria_for_best=p.criteria_for_best\n",
    ")"
   ]
  },
  {
   "cell_type": "code",
   "execution_count": 14,
   "id": "4bc2ac17",
   "metadata": {
    "execution": {
     "iopub.execute_input": "2022-03-27T08:22:27.853265Z",
     "iopub.status.busy": "2022-03-27T08:22:27.852700Z",
     "iopub.status.idle": "2022-03-27T08:22:27.855061Z",
     "shell.execute_reply": "2022-03-27T08:22:27.855526Z"
    },
    "papermill": {
     "duration": 0.052314,
     "end_time": "2022-03-27T08:22:27.855675",
     "exception": false,
     "start_time": "2022-03-27T08:22:27.803361",
     "status": "completed"
    },
    "tags": []
   },
   "outputs": [],
   "source": [
    "total_experiment_time_secs = time.time() - start_time_secs"
   ]
  },
  {
   "cell_type": "code",
   "execution_count": 15,
   "id": "cae88f23",
   "metadata": {
    "execution": {
     "iopub.execute_input": "2022-03-27T08:22:27.959778Z",
     "iopub.status.busy": "2022-03-27T08:22:27.959136Z",
     "iopub.status.idle": "2022-03-27T08:24:20.221332Z",
     "shell.execute_reply": "2022-03-27T08:24:20.222054Z"
    },
    "papermill": {
     "duration": 112.320364,
     "end_time": "2022-03-27T08:24:20.222299",
     "exception": false,
     "start_time": "2022-03-27T08:22:27.901935",
     "status": "completed"
    },
    "tags": []
   },
   "outputs": [],
   "source": [
    "source_test_label_accuracy, source_test_label_loss = jig.test(datasets.source.processed.test)\n",
    "target_test_label_accuracy, target_test_label_loss = jig.test(datasets.target.processed.test)\n",
    "\n",
    "source_val_label_accuracy, source_val_label_loss = jig.test(datasets.source.processed.val)\n",
    "target_val_label_accuracy, target_val_label_loss = jig.test(datasets.target.processed.val)\n",
    "\n",
    "history = jig.get_history()\n",
    "\n",
    "total_epochs_trained = len(history[\"epoch_indices\"])\n",
    "\n",
    "val_dl = wrap_in_dataloader(p, Sequence_Aggregator((datasets.source.original.val, datasets.target.original.val)))\n",
    "\n",
    "confusion = confusion_by_domain_over_dataloader(model, p.device, val_dl, forward_uses_domain=False)\n",
    "per_domain_accuracy = per_domain_accuracy_from_confusion(confusion)\n",
    "\n",
    "# Add a key to per_domain_accuracy for if it was a source domain\n",
    "for domain, accuracy in per_domain_accuracy.items():\n",
    "    per_domain_accuracy[domain] = {\n",
    "        \"accuracy\": accuracy,\n",
    "        \"source?\": domain in p.domains_source\n",
    "    }\n",
    "\n",
    "# Do an independent accuracy assesment JUST TO BE SURE!\n",
    "# _source_test_label_accuracy = independent_accuracy_assesment(model, datasets.source.processed.test, p.device)\n",
    "# _target_test_label_accuracy = independent_accuracy_assesment(model, datasets.target.processed.test, p.device)\n",
    "# _source_val_label_accuracy = independent_accuracy_assesment(model, datasets.source.processed.val, p.device)\n",
    "# _target_val_label_accuracy = independent_accuracy_assesment(model, datasets.target.processed.val, p.device)\n",
    "\n",
    "# assert(_source_test_label_accuracy == source_test_label_accuracy)\n",
    "# assert(_target_test_label_accuracy == target_test_label_accuracy)\n",
    "# assert(_source_val_label_accuracy == source_val_label_accuracy)\n",
    "# assert(_target_val_label_accuracy == target_val_label_accuracy)\n",
    "\n",
    "###################################\n",
    "# Write out the results\n",
    "###################################\n",
    "\n",
    "experiment = {\n",
    "    \"experiment_name\": p.experiment_name,\n",
    "    \"parameters\": p,\n",
    "    \"results\": {\n",
    "        \"source_test_label_accuracy\": source_test_label_accuracy,\n",
    "        \"source_test_label_loss\": source_test_label_loss,\n",
    "        \"target_test_label_accuracy\": target_test_label_accuracy,\n",
    "        \"target_test_label_loss\": target_test_label_loss,\n",
    "        \"source_val_label_accuracy\": source_val_label_accuracy,\n",
    "        \"source_val_label_loss\": source_val_label_loss,\n",
    "        \"target_val_label_accuracy\": target_val_label_accuracy,\n",
    "        \"target_val_label_loss\": target_val_label_loss,\n",
    "        \"total_epochs_trained\": total_epochs_trained,\n",
    "        \"total_experiment_time_secs\": total_experiment_time_secs,\n",
    "        \"confusion\": confusion,\n",
    "        \"per_domain_accuracy\": per_domain_accuracy,\n",
    "    },\n",
    "    \"history\": history,\n",
    "    \"dataset_metrics\": get_dataset_metrics(datasets, \"cnn\"),\n",
    "}"
   ]
  },
  {
   "cell_type": "code",
   "execution_count": 16,
   "id": "74c318cf",
   "metadata": {
    "execution": {
     "iopub.execute_input": "2022-03-27T08:24:20.336445Z",
     "iopub.status.busy": "2022-03-27T08:24:20.328099Z",
     "iopub.status.idle": "2022-03-27T08:24:20.533160Z",
     "shell.execute_reply": "2022-03-27T08:24:20.533848Z"
    },
    "papermill": {
     "duration": 0.26332,
     "end_time": "2022-03-27T08:24:20.534085",
     "exception": false,
     "start_time": "2022-03-27T08:24:20.270765",
     "status": "completed"
    },
    "tags": []
   },
   "outputs": [
    {
     "data": {
      "text/plain": [
       "<AxesSubplot:title={'center':'Source Train Label Loss vs Source Val Label Loss'}, xlabel='Epoch'>"
      ]
     },
     "execution_count": 16,
     "metadata": {},
     "output_type": "execute_result"
    },
    {
     "data": {
      "image/png": "[encoded data removed]",
      "text/plain": [
       "<Figure size 1080x504 with 1 Axes>"
      ]
     },
     "metadata": {
      "needs_background": "light"
     },
     "output_type": "display_data"
    }
   ],
   "source": [
    "get_loss_curve(experiment)"
   ]
  },
  {
   "cell_type": "code",
   "execution_count": 17,
   "id": "59376601",
   "metadata": {
    "execution": {
     "iopub.execute_input": "2022-03-27T08:24:20.638795Z",
     "iopub.status.busy": "2022-03-27T08:24:20.633256Z",
     "iopub.status.idle": "2022-03-27T08:24:20.948958Z",
     "shell.execute_reply": "2022-03-27T08:24:20.948182Z"
    },
    "papermill": {
     "duration": 0.365663,
     "end_time": "2022-03-27T08:24:20.949138",
     "exception": false,
     "start_time": "2022-03-27T08:24:20.583475",
     "status": "completed"
    },
    "tags": []
   },
   "outputs": [
    {
     "data": {
      "text/plain": [
       "<AxesSubplot:title={'center':'Results'}>"
      ]
     },
     "execution_count": 17,
     "metadata": {},
     "output_type": "execute_result"
    },
    {
     "data": {
      "image/png": "[encoded data removed]",
      "text/plain": [
       "<Figure size 1080x504 with 1 Axes>"
      ]
     },
     "metadata": {
      "needs_background": "light"
     },
     "output_type": "display_data"
    }
   ],
   "source": [
    "get_results_table(experiment)"
   ]
  },
  {
   "cell_type": "code",
   "execution_count": 18,
   "id": "e80c5c98",
   "metadata": {
    "execution": {
     "iopub.execute_input": "2022-03-27T08:24:21.076044Z",
     "iopub.status.busy": "2022-03-27T08:24:21.075025Z",
     "iopub.status.idle": "2022-03-27T08:24:21.231987Z",
     "shell.execute_reply": "2022-03-27T08:24:21.232626Z"
    },
    "papermill": {
     "duration": 0.22774,
     "end_time": "2022-03-27T08:24:21.232837",
     "exception": false,
     "start_time": "2022-03-27T08:24:21.005097",
     "status": "completed"
    },
    "tags": []
   },
   "outputs": [
    {
     "data": {
      "text/plain": [
       "<AxesSubplot:title={'center':'Per Domain Accuracy'}, xlabel='domain'>"
      ]
     },
     "execution_count": 18,
     "metadata": {},
     "output_type": "execute_result"
    },
    {
     "data": {
      "image/png": "[encoded data removed]",
      "text/plain": [
       "<Figure size 1080x504 with 1 Axes>"
      ]
     },
     "metadata": {
      "needs_background": "light"
     },
     "output_type": "display_data"
    }
   ],
   "source": [
    "get_domain_accuracies(experiment)"
   ]
  },
  {
   "cell_type": "code",
   "execution_count": 19,
   "id": "086fdd10",
   "metadata": {
    "execution": {
     "iopub.execute_input": "2022-03-27T08:24:21.350054Z",
     "iopub.status.busy": "2022-03-27T08:24:21.349679Z",
     "iopub.status.idle": "2022-03-27T08:24:21.353803Z",
     "shell.execute_reply": "2022-03-27T08:24:21.354438Z"
    },
    "papermill": {
     "duration": 0.057968,
     "end_time": "2022-03-27T08:24:21.354633",
     "exception": false,
     "start_time": "2022-03-27T08:24:21.296665",
     "status": "completed"
    },
    "tags": []
   },
   "outputs": [
    {
     "name": "stdout",
     "output_type": "stream",
     "text": [
      "Source Test Label Accuracy: 0.785765625 Target Test Label Accuracy: 0.785765625\n",
      "Source Val Label Accuracy: 0.7864322916666666 Target Val Label Accuracy: 0.7864322916666666\n"
     ]
    }
   ],
   "source": [
    "print(\"Source Test Label Accuracy:\", experiment[\"results\"][\"source_test_label_accuracy\"], \"Target Test Label Accuracy:\", experiment[\"results\"][\"target_test_label_accuracy\"])\n",
    "print(\"Source Val Label Accuracy:\", experiment[\"results\"][\"source_val_label_accuracy\"], \"Target Val Label Accuracy:\", experiment[\"results\"][\"target_val_label_accuracy\"])"
   ]
  },
  {
   "cell_type": "code",
   "execution_count": 20,
   "id": "9f450536",
   "metadata": {
    "execution": {
     "iopub.execute_input": "2022-03-27T08:24:21.459140Z",
     "iopub.status.busy": "2022-03-27T08:24:21.458588Z",
     "iopub.status.idle": "2022-03-27T08:24:21.461790Z",
     "shell.execute_reply": "2022-03-27T08:24:21.462250Z"
    },
    "papermill": {
     "duration": 0.055898,
     "end_time": "2022-03-27T08:24:21.462379",
     "exception": false,
     "start_time": "2022-03-27T08:24:21.406481",
     "status": "completed"
    },
    "tags": [
     "experiment_json"
    ]
   },
   "outputs": [
    {
     "data": {
      "text/plain": [
       "'{\"experiment_name\": \"cnn_2:oracle.run2\", \"parameters\": {\"experiment_name\": \"cnn_2:oracle.run2\", \"labels\": [\"3123D52\", \"3123D65\", \"3123D79\", \"3123D80\", \"3123D54\", \"3123D70\", \"3123D7B\", \"3123D89\", \"3123D58\", \"3123D76\", \"3123D7D\", \"3123EFE\", \"3123D64\", \"3123D78\", \"3123D7E\", \"3124E4A\"], \"domains_source\": [8, 32, 50, 14, 20, 26, 38, 44], \"domains_target\": [8, 32, 50, 14, 20, 26, 38, 44], \"pickle_name_source\": \"oracle.Run2_10kExamples_stratified_ds.2022A.pkl\", \"pickle_name_target\": \"oracle.Run2_10kExamples_stratified_ds.2022A.pkl\", \"device\": \"cuda\", \"lr\": 0.0001, \"batch_size\": 128, \"normalize_source\": false, \"normalize_target\": false, \"num_examples_per_domain_per_label_source\": -1, \"num_examples_per_domain_per_label_target\": -1, \"torch_default_dtype\": \"torch.float32\", \"n_epoch\": 50, \"patience\": 3, \"criteria_for_best\": \"target_accuracy\", \"x_net\": [{\"class\": \"nnReshape\", \"kargs\": {\"shape\": [-1, 1, 2, 256]}}, {\"class\": \"Conv2d\", \"kargs\": {\"in_channels\": 1, \"out_channels\": 256, \"kernel_size\": [1, 7], \"bias\": false, \"padding\": [0, 3]}}, {\"class\": \"ReLU\", \"kargs\": {\"inplace\": true}}, {\"class\": \"BatchNorm2d\", \"kargs\": {\"num_features\": 256}}, {\"class\": \"Conv2d\", \"kargs\": {\"in_channels\": 256, \"out_channels\": 80, \"kernel_size\": [2, 7], \"bias\": true, \"padding\": [0, 3]}}, {\"class\": \"ReLU\", \"kargs\": {\"inplace\": true}}, {\"class\": \"BatchNorm2d\", \"kargs\": {\"num_features\": 80}}, {\"class\": \"Flatten\", \"kargs\": {}}, {\"class\": \"Linear\", \"kargs\": {\"in_features\": 20480, \"out_features\": 256}}, {\"class\": \"ReLU\", \"kargs\": {\"inplace\": true}}, {\"class\": \"BatchNorm1d\", \"kargs\": {\"num_features\": 256}}, {\"class\": \"Linear\", \"kargs\": {\"in_features\": 256, \"out_features\": 16}}], \"NUM_LOGS_PER_EPOCH\": 10, \"BEST_MODEL_PATH\": \"./best_model.pth\", \"dataset_seed\": 420, \"seed\": 420}, \"results\": {\"source_test_label_accuracy\": 0.785765625, \"source_test_label_loss\": 0.5882421748836836, \"target_test_label_accuracy\": 0.785765625, \"target_test_label_loss\": 0.5882421725392342, \"source_val_label_accuracy\": 0.7864322916666666, \"source_val_label_loss\": 0.5878882671197255, \"target_val_label_accuracy\": 0.7864322916666666, \"target_val_label_loss\": 0.5878882684111595, \"total_epochs_trained\": 10, \"total_experiment_time_secs\": 978.1359379291534, \"confusion\": {\"14\": {\"14\": {\"14\": 2728, \"2\": 190, \"5\": 22, \"4\": 26, \"0\": 22, \"3\": 6, \"6\": 2, \"10\": 4}, \"7\": {\"7\": 2984, \"2\": 4, \"5\": 12}, \"13\": {\"13\": 1988, \"6\": 998, \"3\": 2, \"2\": 10, \"15\": 2}, \"4\": {\"5\": 288, \"4\": 2602, \"7\": 2, \"2\": 78, \"14\": 18, \"1\": 6, \"11\": 6}, \"6\": {\"6\": 2342, \"3\": 40, \"13\": 596, \"2\": 22}, \"2\": {\"2\": 2220, \"14\": 264, \"6\": 72, \"3\": 66, \"5\": 302, \"13\": 18, \"4\": 48, \"0\": 6, \"7\": 2, \"10\": 2}, \"10\": {\"3\": 702, \"10\": 1876, \"4\": 254, \"0\": 90, \"14\": 16, \"8\": 50, \"7\": 10, \"13\": 2}, \"11\": {\"11\": 2706, \"7\": 166, \"12\": 24, \"6\": 8, \"13\": 72, \"15\": 2, \"4\": 20, \"10\": 2}, \"0\": {\"0\": 2766, \"8\": 126, \"4\": 16, \"14\": 36, \"5\": 14, \"11\": 8, \"10\": 26, \"3\": 8}, \"12\": {\"3\": 22, \"12\": 1872, \"1\": 4, \"11\": 66, \"0\": 288, \"6\": 126, \"2\": 174, \"5\": 24, \"13\": 76, \"9\": 188, \"10\": 10, \"7\": 68, \"8\": 58, \"14\": 14, \"15\": 8, \"4\": 2}, \"3\": {\"3\": 2862, \"2\": 76, \"5\": 48, \"6\": 8, \"14\": 2, \"0\": 2, \"7\": 2}, \"5\": {\"5\": 2734, \"4\": 48, \"2\": 194, \"3\": 6, \"14\": 12, \"7\": 4, \"0\": 2}, \"15\": {\"15\": 3000}, \"9\": {\"9\": 2766, \"12\": 14, \"11\": 188, \"0\": 18, \"1\": 6, \"8\": 8}, \"1\": {\"1\": 2996, \"4\": 2, \"7\": 2}, \"8\": {\"8\": 2986, \"11\": 12, \"9\": 2}}, \"38\": {\"1\": {\"1\": 2942, \"2\": 8, \"0\": 26, \"15\": 24}, \"10\": {\"10\": 2520, \"3\": 112, \"13\": 310, \"4\": 48, \"7\": 10}, \"3\": {\"3\": 2588, \"10\": 64, \"13\": 314, \"11\": 32, \"0\": 2}, \"15\": {\"1\": 1248, \"15\": 1634, \"11\": 64, \"9\": 16, \"6\": 20, \"10\": 16, \"2\": 2}, \"7\": {\"14\": 60, \"4\": 366, \"7\": 2540, \"0\": 14, \"13\": 12, \"8\": 4, \"15\": 4}, \"13\": {\"13\": 1560, \"3\": 1304, \"10\": 134, \"7\": 2}, \"2\": {\"2\": 2738, \"14\": 104, \"5\": 132, \"7\": 22, \"8\": 2, \"3\": 2}, \"5\": {\"5\": 2190, \"8\": 328, \"4\": 68, \"15\": 324, \"1\": 24, \"14\": 16, \"13\": 2, \"11\": 32, \"7\": 8, \"6\": 4, \"2\": 4}, \"0\": {\"4\": 368, \"0\": 2018, \"7\": 212, \"9\": 156, \"15\": 90, \"13\": 86, \"6\": 64, \"14\": 4, \"8\": 2}, \"14\": {\"14\": 2026, \"7\": 316, \"4\": 98, \"2\": 354, \"12\": 60, \"5\": 120, \"13\": 12, \"3\": 14}, \"9\": {\"9\": 2654, \"12\": 278, \"11\": 14, \"15\": 52, \"14\": 2}, \"12\": {\"12\": 2998, \"14\": 2}, \"4\": {\"4\": 2994, \"14\": 4, \"13\": 2}, \"6\": {\"6\": 2616, \"14\": 272, \"11\": 8, \"9\": 26, \"15\": 40, \"1\": 24, \"2\": 12, \"0\": 2}, \"8\": {\"5\": 724, \"8\": 1106, \"4\": 484, \"15\": 446, \"6\": 16, \"14\": 198, \"2\": 10, \"7\": 16}, \"11\": {\"11\": 3000}}, \"8\": {\"10\": {\"10\": 2074, \"13\": 338, \"5\": 554, \"1\": 22, \"7\": 6, \"14\": 2, \"2\": 2, \"9\": 2}, \"4\": {\"7\": 1384, \"6\": 314, \"4\": 1184, \"14\": 42, \"11\": 68, \"10\": 2, \"13\": 4, \"8\": 2}, \"8\": {\"11\": 410, \"8\": 2580, \"6\": 10}, \"2\": {\"2\": 1802, \"1\": 910, \"5\": 36, \"13\": 40, \"9\": 44, \"15\": 160, \"12\": 6, \"4\": 2}, \"12\": {\"12\": 1760, \"4\": 612, \"3\": 8, \"8\": 60, \"10\": 282, \"14\": 188, \"15\": 68, \"7\": 18, \"5\": 2, \"6\": 2}, \"5\": {\"5\": 2264, \"10\": 560, \"13\": 90, \"1\": 82, \"14\": 4}, \"1\": {\"1\": 2540, \"13\": 256, \"14\": 126, \"7\": 14, \"5\": 44, \"8\": 16, \"10\": 2, \"4\": 2}, \"15\": {\"15\": 2652, \"10\": 14, \"8\": 64, \"4\": 94, \"12\": 122, \"14\": 10, \"1\": 32, \"3\": 8, \"5\": 4}, \"14\": {\"14\": 2612, \"6\": 336, \"1\": 4, \"8\": 18, \"4\": 26, \"7\": 4}, \"11\": {\"11\": 2474, \"8\": 468, \"10\": 32, \"6\": 14, \"12\": 12}, \"0\": {\"0\": 2992, \"6\": 4, \"14\": 4}, \"7\": {\"7\": 2162, \"4\": 704, \"11\": 90, \"6\": 14, \"13\": 8, \"10\": 16, \"9\": 2, \"12\": 2, \"14\": 2}, \"13\": {\"13\": 2484, \"10\": 256, \"7\": 48, \"1\": 114, \"4\": 44, \"5\": 50, \"12\": 2, \"14\": 2}, \"9\": {\"9\": 2998, \"13\": 2}, \"6\": {\"6\": 2570, \"8\": 88, \"4\": 86, \"14\": 200, \"7\": 20, \"11\": 36}, \"3\": {\"3\": 1870, \"0\": 98, \"10\": 1018, \"8\": 6, \"14\": 2, \"4\": 6}}, \"50\": {\"5\": {\"5\": 1434, \"2\": 562, \"4\": 416, \"14\": 378, \"7\": 176, \"8\": 16, \"6\": 18}, \"3\": {\"3\": 2974, \"2\": 24, \"14\": 2}, \"1\": {\"1\": 2790, \"15\": 156, \"13\": 12, \"12\": 24, \"5\": 12, \"6\": 4, \"11\": 2}, \"15\": {\"6\": 64, \"15\": 2094, \"4\": 452, \"14\": 166, \"5\": 112, \"8\": 106, \"13\": 2, \"7\": 4}, \"8\": {\"8\": 2876, \"0\": 12, \"13\": 36, \"1\": 56, \"3\": 20}, \"7\": {\"7\": 2504, \"14\": 240, \"2\": 162, \"4\": 82, \"5\": 10, \"13\": 2}, \"13\": {\"13\": 2900, \"12\": 38, \"10\": 28, \"1\": 16, \"8\": 12, \"0\": 4, \"5\": 2}, \"11\": {\"11\": 2698, \"15\": 260, \"9\": 34, \"12\": 2, \"1\": 4, \"4\": 2}, \"6\": {\"5\": 1672, \"6\": 992, \"4\": 52, \"14\": 136, \"15\": 114, \"8\": 22, \"12\": 4, \"2\": 6, \"13\": 2}, \"12\": {\"12\": 2710, \"9\": 272, \"11\": 4, \"15\": 10, \"5\": 4}, \"0\": {\"0\": 2666, \"10\": 116, \"2\": 190, \"1\": 12, \"12\": 14, \"15\": 2}, \"9\": {\"9\": 2828, \"12\": 156, \"5\": 14, \"0\": 2}, \"10\": {\"10\": 2824, \"0\": 106, \"13\": 60, \"8\": 2, \"1\": 6, \"12\": 2}, \"2\": {\"2\": 2858, \"0\": 110, \"9\": 20, \"1\": 2, \"12\": 10}, \"14\": {\"14\": 2592, \"9\": 372, \"6\": 16, \"2\": 18, \"15\": 2}, \"4\": {\"7\": 526, \"5\": 530, \"4\": 1516, \"2\": 128, \"14\": 298, \"8\": 2}}, \"32\": {\"3\": {\"3\": 2726, \"12\": 210, \"11\": 2, \"13\": 56, \"4\": 6}, \"10\": {\"10\": 3000}, \"5\": {\"11\": 60, \"9\": 418, \"5\": 2168, \"1\": 50, \"2\": 150, \"12\": 118, \"7\": 32, \"14\": 4}, \"4\": {\"3\": 414, \"0\": 124, \"4\": 2048, \"11\": 288, \"13\": 86, \"8\": 10, \"12\": 10, \"2\": 10, \"7\": 6, \"6\": 2, \"14\": 2}, \"0\": {\"0\": 2148, \"11\": 68, \"8\": 252, \"4\": 96, \"14\": 70, \"2\": 150, \"7\": 134, \"1\": 22, \"3\": 46, \"5\": 12, \"6\": 2}, \"11\": {\"11\": 2190, \"4\": 268, \"3\": 180, \"13\": 224, \"7\": 60, \"0\": 70, \"2\": 4, \"14\": 2, \"12\": 2}, \"6\": {\"6\": 2952, \"11\": 46, \"12\": 2}, \"2\": {\"2\": 2696, \"0\": 116, \"7\": 98, \"1\": 14, \"14\": 40, \"11\": 16, \"5\": 8, \"4\": 2, \"12\": 6, \"3\": 4}, \"15\": {\"15\": 2882, \"2\": 94, \"8\": 14, \"11\": 4, \"9\": 4, \"5\": 2}, \"7\": {\"7\": 2430, \"2\": 132, \"5\": 12, \"1\": 200, \"3\": 146, \"4\": 6, \"0\": 40, \"12\": 22, \"14\": 2, \"11\": 2, \"8\": 8}, \"13\": {\"13\": 2416, \"3\": 238, \"11\": 162, \"4\": 170, \"12\": 12, \"15\": 2}, \"12\": {\"12\": 2950, \"0\": 8, \"1\": 8, \"2\": 14, \"11\": 6, \"10\": 8, \"9\": 2, \"6\": 4}, \"9\": {\"9\": 2066, \"14\": 320, \"2\": 426, \"6\": 150, \"0\": 6, \"15\": 24, \"1\": 8}, \"8\": {\"8\": 2520, \"2\": 90, \"0\": 184, \"3\": 28, \"12\": 32, \"1\": 112, \"5\": 2, \"7\": 18, \"15\": 10, \"4\": 4}, \"14\": {\"14\": 2240, \"2\": 346, \"11\": 44, \"6\": 218, \"0\": 100, \"7\": 10, \"12\": 10, \"9\": 12, \"5\": 12, \"1\": 8}, \"1\": {\"1\": 2966, \"8\": 34}}, \"20\": {\"8\": {\"8\": 2538, \"5\": 12, \"14\": 366, \"4\": 8, \"10\": 10, \"0\": 50, \"12\": 2, \"15\": 2, \"7\": 2, \"3\": 8, \"2\": 2}, \"3\": {\"3\": 1592, \"7\": 406, \"9\": 190, \"5\": 524, \"2\": 82, \"4\": 86, \"13\": 10, \"1\": 12, \"12\": 36, \"10\": 18, \"15\": 36, \"11\": 2, \"8\": 6}, \"6\": {\"6\": 2942, \"7\": 20, \"10\": 38}, \"5\": {\"3\": 534, \"5\": 1778, \"12\": 14, \"2\": 168, \"7\": 58, \"15\": 96, \"9\": 152, \"8\": 28, \"4\": 54, \"11\": 6, \"1\": 82, \"0\": 28, \"13\": 2}, \"1\": {\"2\": 634, \"1\": 1928, \"15\": 66, \"9\": 136, \"5\": 172, \"3\": 28, \"4\": 8, \"8\": 2, \"0\": 26}, \"15\": {\"5\": 258, \"13\": 318, \"15\": 1518, \"9\": 370, \"3\": 140, \"2\": 282, \"4\": 2, \"1\": 34, \"12\": 50, \"11\": 10, \"7\": 18}, \"2\": {\"7\": 56, \"9\": 794, \"2\": 630, \"3\": 452, \"5\": 570, \"1\": 106, \"13\": 16, \"15\": 310, \"4\": 32, \"12\": 26, \"8\": 4, \"0\": 2, \"11\": 2}, \"7\": {\"7\": 2382, \"6\": 104, \"3\": 296, \"10\": 98, \"12\": 14, \"4\": 28, \"11\": 10, \"9\": 16, \"5\": 32, \"14\": 2, \"8\": 14, \"2\": 2, \"15\": 2}, \"0\": {\"0\": 2814, \"1\": 90, \"5\": 40, \"3\": 16, \"8\": 16, \"9\": 14, \"15\": 8, \"2\": 2}, \"10\": {\"6\": 340, \"10\": 2562, \"4\": 22, \"7\": 46, \"12\": 22, \"14\": 4, \"3\": 4}, \"11\": {\"11\": 2874, \"5\": 34, \"4\": 18, \"0\": 24, \"9\": 26, \"8\": 12, \"1\": 8, \"2\": 4}, \"13\": {\"13\": 2712, \"12\": 68, \"15\": 152, \"11\": 26, \"9\": 22, \"2\": 6, \"3\": 12, \"7\": 2}, \"14\": {\"14\": 2706, \"8\": 270, \"12\": 2, \"6\": 10, \"4\": 2, \"10\": 10}, \"12\": {\"12\": 1536, \"3\": 458, \"9\": 178, \"13\": 318, \"7\": 236, \"4\": 78, \"11\": 16, \"15\": 92, \"5\": 24, \"2\": 56, \"10\": 8}, \"4\": {\"15\": 12, \"4\": 1832, \"3\": 180, \"12\": 492, \"10\": 120, \"7\": 198, \"5\": 108, \"2\": 12, \"9\": 16, \"8\": 26, \"1\": 2, \"14\": 2}, \"9\": {\"15\": 282, \"9\": 1010, \"5\": 294, \"1\": 164, \"3\": 564, \"2\": 582, \"4\": 24, \"7\": 20, \"12\": 20, \"13\": 38, \"10\": 2}}, \"44\": {\"5\": {\"6\": 608, \"5\": 2102, \"15\": 108, \"14\": 90, \"8\": 58, \"4\": 26, \"13\": 6, \"0\": 2}, \"10\": {\"10\": 2960, \"6\": 4, \"9\": 2, \"7\": 26, \"3\": 6, \"1\": 2}, \"4\": {\"4\": 2294, \"9\": 56, \"14\": 294, \"15\": 308, \"6\": 4, \"12\": 26, \"8\": 12, \"0\": 6}, \"2\": {\"2\": 2864, \"1\": 34, \"11\": 22, \"15\": 40, \"8\": 14, \"5\": 24, \"9\": 2}, \"8\": {\"8\": 2096, \"0\": 810, \"15\": 44, \"6\": 4, \"5\": 32, \"14\": 6, \"2\": 2, \"12\": 6}, \"0\": {\"0\": 2250, \"8\": 684, \"5\": 10, \"1\": 16, \"15\": 38, \"2\": 2}, \"6\": {\"6\": 2798, \"9\": 12, \"13\": 136, \"0\": 12, \"7\": 38, \"3\": 4}, \"12\": {\"12\": 2090, \"3\": 872, \"8\": 20, \"1\": 14, \"7\": 4}, \"9\": {\"9\": 2662, \"7\": 254, \"6\": 48, \"1\": 2, \"0\": 14, \"2\": 14, \"15\": 4, \"5\": 2}, \"7\": {\"9\": 2086, \"7\": 856, \"6\": 54, \"10\": 2, \"0\": 2}, \"15\": {\"15\": 2802, \"12\": 60, \"8\": 64, \"0\": 26, \"14\": 10, \"1\": 8, \"5\": 20, \"11\": 10}, \"1\": {\"1\": 2904, \"7\": 34, \"2\": 32, \"8\": 4, \"5\": 14, \"12\": 10, \"3\": 2}, \"11\": {\"11\": 2998, \"3\": 2}, \"3\": {\"3\": 2110, \"12\": 316, \"8\": 34, \"7\": 338, \"0\": 76, \"11\": 14, \"1\": 28, \"4\": 78, \"2\": 6}, \"14\": {\"14\": 2196, \"4\": 540, \"15\": 144, \"5\": 40, \"8\": 52, \"6\": 28}, \"13\": {\"13\": 2638, \"6\": 74, \"4\": 88, \"7\": 86, \"10\": 36, \"3\": 26, \"0\": 36, \"15\": 14, \"11\": 2}}, \"26\": {\"15\": {\"15\": 2796, \"10\": 4, \"8\": 26, \"5\": 8, \"2\": 78, \"0\": 30, \"9\": 34, \"7\": 10, \"3\": 8, \"13\": 4, \"6\": 2}, \"5\": {\"5\": 2590, \"9\": 28, \"6\": 206, \"15\": 136, \"14\": 14, \"1\": 16, \"8\": 2, \"12\": 2, \"2\": 6}, \"12\": {\"12\": 2998, \"11\": 2}, \"13\": {\"13\": 2502, \"9\": 372, \"8\": 20, \"2\": 24, \"7\": 76, \"3\": 6}, \"4\": {\"4\": 2414, \"3\": 400, \"14\": 16, \"6\": 14, \"10\": 146, \"0\": 6, \"2\": 4}, \"2\": {\"8\": 260, \"3\": 210, \"2\": 1010, \"15\": 620, \"7\": 678, \"13\": 36, \"0\": 12, \"9\": 146, \"10\": 22, \"6\": 4, \"5\": 2}, \"1\": {\"1\": 2634, \"14\": 232, \"0\": 46, \"6\": 20, \"10\": 44, \"5\": 16, \"15\": 8}, \"6\": {\"6\": 2318, \"5\": 478, \"10\": 68, \"14\": 44, \"15\": 22, \"1\": 12, \"0\": 16, \"9\": 26, \"8\": 12, \"12\": 2, \"2\": 2}, \"11\": {\"11\": 2714, \"6\": 274, \"12\": 12}, \"14\": {\"14\": 1630, \"1\": 288, \"0\": 664, \"6\": 50, \"10\": 238, \"15\": 44, \"5\": 18, \"8\": 62, \"2\": 6}, \"0\": {\"0\": 1648, \"10\": 428, \"14\": 348, \"8\": 262, \"15\": 214, \"6\": 20, \"9\": 14, \"2\": 52, \"1\": 12, \"5\": 2}, \"10\": {\"0\": 932, \"8\": 312, \"10\": 1082, \"15\": 144, \"6\": 104, \"14\": 226, \"2\": 50, \"1\": 118, \"9\": 14, \"12\": 14, \"7\": 4}, \"3\": {\"3\": 2446, \"7\": 400, \"2\": 90, \"6\": 18, \"4\": 30, \"9\": 2, \"15\": 8, \"13\": 4, \"8\": 2}, \"7\": {\"7\": 1722, \"3\": 652, \"9\": 68, \"2\": 330, \"15\": 86, \"10\": 14, \"4\": 26, \"8\": 54, \"13\": 46, \"0\": 2}, \"9\": {\"9\": 1972, \"7\": 182, \"3\": 26, \"2\": 212, \"13\": 330, \"15\": 74, \"8\": 194, \"0\": 4, \"10\": 4, \"5\": 2}, \"8\": {\"15\": 220, \"2\": 664, \"7\": 224, \"8\": 1316, \"9\": 266, \"0\": 166, \"10\": 120, \"14\": 10, \"5\": 2, \"13\": 8, \"4\": 2, \"3\": 2}}}, \"per_domain_accuracy\": {\"14\": {\"accuracy\": 0.8630833333333333, \"source?\": true}, \"38\": {\"accuracy\": 0.79425, \"source?\": true}, \"8\": {\"accuracy\": 0.7712083333333334, \"source?\": true}, \"50\": {\"accuracy\": 0.8178333333333333, \"source?\": true}, \"32\": {\"accuracy\": 0.841625, \"source?\": true}, \"20\": {\"accuracy\": 0.694875, \"source?\": true}, \"44\": {\"accuracy\": 0.8045833333333333, \"source?\": true}, \"26\": {\"accuracy\": 0.704, \"source?\": true}}}, \"history\": {\"epoch_indices\": [1, 2, 3, 4, 5, 6, 7, 8, 9, 10], \"train_label_loss\": [1.9735444191353662, 1.1573515241060939, 0.8745024126086917, 0.7198524027637073, 0.613501109787396, 0.537911418225084, 0.48153741831013136, 0.43119515677435055, 0.39183809762341637, 0.35440350750301564], \"source_val_label_loss\": [1.243477992216746, 0.9452911998033524, 0.754627590616544, 0.6647846613526345, 0.6278422035972278, 0.5878882669409116, 0.5855676356156667, 0.624837374707063, 0.5959449426929156, 0.6575198603868484], \"target_val_label_loss\": [1.2434779896736146, 0.9452912031014761, 0.7546275937159856, 0.6647846609950065, 0.6278422058025996, 0.5878882661660513, 0.5855676358540853, 0.6248373707135518, 0.5959449418187142, 0.6575198591748873], \"source_val_acc_label\": [0.5924375, 0.6674322916666666, 0.72946875, 0.7552864583333333, 0.7708229166666667, 0.7864322916666666, 0.7837708333333333, 0.775546875, 0.78321875, 0.7687552083333333], \"target_val_acc_label\": [0.5924375, 0.6674322916666666, 0.72946875, 0.7552864583333333, 0.7708229166666667, 0.7864322916666666, 0.7837708333333333, 0.775546875, 0.78321875, 0.7687552083333333]}, \"dataset_metrics\": {\"source\": {\"train\": {\"n_unique_x\": 896000, \"n_unique_y\": 16, \"n_batch/episode\": 7000}, \"val\": {\"n_unique_x\": 192000, \"n_unique_y\": 16, \"n_batch/episode\": 1500}, \"test\": {\"n_unique_x\": 192000, \"n_unique_y\": 16, \"n_batch/episode\": 1500}}, \"target\": {\"train\": {\"n_unique_x\": 896000, \"n_unique_y\": 16, \"n_batch/episode\": 7000}, \"val\": {\"n_unique_x\": 192000, \"n_unique_y\": 16, \"n_batch/episode\": 1500}, \"test\": {\"n_unique_x\": 192000, \"n_unique_y\": 16, \"n_batch/episode\": 1500}}}}'"
      ]
     },
     "execution_count": 20,
     "metadata": {},
     "output_type": "execute_result"
    }
   ],
   "source": [
    "json.dumps(experiment)"
   ]
  }
 ],
 "metadata": {
  "celltoolbar": "Tags",
  "kernelspec": {
   "display_name": "Python 3 (ipykernel)",
   "language": "python",
   "name": "python3"
  },
  "language_info": {
   "codemirror_mode": {
    "name": "ipython",
    "version": 3
   },
   "file_extension": ".py",
   "mimetype": "text/x-python",
   "name": "python",
   "nbconvert_exporter": "python",
   "pygments_lexer": "ipython3",
   "version": "3.8.12"
  },
  "papermill": {
   "default_parameters": {},
   "duration": 1098.881356,
   "end_time": "2022-03-27T08:24:25.336707",
   "environment_variables": {},
   "exception": null,
   "input_path": "/root/csc500-main/csc500-notebooks/templates/cnn_template.ipynb",
   "output_path": "trial.ipynb",
   "parameters": {
    "parameters": {
     "BEST_MODEL_PATH": "./best_model.pth",
     "NUM_LOGS_PER_EPOCH": 10,
     "batch_size": 128,
     "criteria_for_best": "target_accuracy",
     "dataset_seed": 420,
     "device": "cuda",
     "domains_source": [
      8,
      32,
      50,
      14,
      20,
      26,
      38,
      44
     ],
     "domains_target": [
      8,
      32,
      50,
      14,
      20,
      26,
      38,
      44
     ],
     "experiment_name": "cnn_2:oracle.run2",
     "labels": [
      "3123D52",
      "3123D65",
      "3123D79",
      "3123D80",
      "3123D54",
      "3123D70",
      "3123D7B",
      "3123D89",
      "3123D58",
      "3123D76",
      "3123D7D",
      "3123EFE",
      "3123D64",
      "3123D78",
      "3123D7E",
      "3124E4A"
     ],
     "lr": 0.0001,
     "n_epoch": 50,
     "normalize_source": false,
     "normalize_target": false,
     "num_examples_per_domain_per_label_source": -1,
     "num_examples_per_domain_per_label_target": -1,
     "patience": 3,
     "pickle_name_source": "oracle.Run2_10kExamples_stratified_ds.2022A.pkl",
     "pickle_name_target": "oracle.Run2_10kExamples_stratified_ds.2022A.pkl",
     "seed": 420,
     "torch_default_dtype": "torch.float32",
     "x_net": [
      {
       "class": "nnReshape",
       "kargs": {
        "shape": [
         -1,
         1,
         2,
         256
        ]
       }
      },
      {
       "class": "Conv2d",
       "kargs": {
        "bias": false,
        "in_channels": 1,
        "kernel_size": [
         1,
         7
        ],
        "out_channels": 256,
        "padding": [
         0,
         3
        ]
       }
      },
      {
       "class": "ReLU",
       "kargs": {
        "inplace": true
       }
      },
      {
       "class": "BatchNorm2d",
       "kargs": {
        "num_features": 256
       }
      },
      {
       "class": "Conv2d",
       "kargs": {
        "bias": true,
        "in_channels": 256,
        "kernel_size": [
         2,
         7
        ],
        "out_channels": 80,
        "padding": [
         0,
         3
        ]
       }
      },
      {
       "class": "ReLU",
       "kargs": {
        "inplace": true
       }
      },
      {
       "class": "BatchNorm2d",
       "kargs": {
        "num_features": 80
       }
      },
      {
       "class": "Flatten",
       "kargs": {}
      },
      {
       "class": "Linear",
       "kargs": {
        "in_features": 20480,
        "out_features": 256
       }
      },
      {
       "class": "ReLU",
       "kargs": {
        "inplace": true
       }
      },
      {
       "class": "BatchNorm1d",
       "kargs": {
        "num_features": 256
       }
      },
      {
       "class": "Linear",
       "kargs": {
        "in_features": 256,
        "out_features": 16
       }
      }
     ]
    }
   },
   "start_time": "2022-03-27T08:06:06.455351",
   "version": "2.3.4"
  }
 },
 "nbformat": 4,
 "nbformat_minor": 5
}