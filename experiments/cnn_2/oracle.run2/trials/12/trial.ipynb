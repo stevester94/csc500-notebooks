{
 "cells": [
  {
   "cell_type": "code",
   "execution_count": 1,
   "id": "2324682e",
   "metadata": {
    "execution": {
     "iopub.execute_input": "2022-03-27T08:24:26.627899Z",
     "iopub.status.busy": "2022-03-27T08:24:26.626994Z",
     "iopub.status.idle": "2022-03-27T08:24:28.329157Z",
     "shell.execute_reply": "2022-03-27T08:24:28.328135Z"
    },
    "papermill": {
     "duration": 1.740512,
     "end_time": "2022-03-27T08:24:28.329357",
     "exception": false,
     "start_time": "2022-03-27T08:24:26.588845",
     "status": "completed"
    },
    "tags": []
   },
   "outputs": [],
   "source": [
    "import os, json, sys, time, random\n",
    "import numpy as np\n",
    "import torch\n",
    "from  easydict import EasyDict\n",
    "from math import floor\n",
    "from easydict import EasyDict\n",
    "\n",
    "from steves_utils.vanilla_train_eval_test_jig import  Vanilla_Train_Eval_Test_Jig\n",
    "\n",
    "from steves_utils.torch_utils import get_dataset_metrics, independent_accuracy_assesment\n",
    "from steves_models.configurable_vanilla import Configurable_Vanilla\n",
    "from steves_utils.torch_sequential_builder import build_sequential\n",
    "from steves_utils.lazy_map import Lazy_Map\n",
    "from steves_utils.sequence_aggregator import Sequence_Aggregator\n",
    "\n",
    "from steves_utils.stratified_dataset.traditional_accessor import Traditional_Accessor_Factory\n",
    "\n",
    "from steves_utils.cnn_do_report import (\n",
    "    get_loss_curve,\n",
    "    get_results_table,\n",
    "    get_parameters_table,\n",
    "    get_domain_accuracies,\n",
    ")\n",
    "\n",
    "from steves_utils.torch_utils import (\n",
    "    confusion_by_domain_over_dataloader,\n",
    "    independent_accuracy_assesment\n",
    ")\n",
    "\n",
    "from steves_utils.utils_v2 import (\n",
    "    per_domain_accuracy_from_confusion,\n",
    "    get_datasets_base_path\n",
    ")\n",
    "\n",
    "# from steves_utils.ptn_do_report import TBD"
   ]
  },
  {
   "cell_type": "code",
   "execution_count": 2,
   "id": "1b29e3fe",
   "metadata": {
    "execution": {
     "iopub.execute_input": "2022-03-27T08:24:28.371212Z",
     "iopub.status.busy": "2022-03-27T08:24:28.370617Z",
     "iopub.status.idle": "2022-03-27T08:24:28.374008Z",
     "shell.execute_reply": "2022-03-27T08:24:28.373444Z"
    },
    "papermill": {
     "duration": 0.022854,
     "end_time": "2022-03-27T08:24:28.374124",
     "exception": false,
     "start_time": "2022-03-27T08:24:28.351270",
     "status": "completed"
    },
    "tags": []
   },
   "outputs": [],
   "source": [
    "required_parameters = {\n",
    "    \"experiment_name\",\n",
    "    \"lr\",\n",
    "    \"device\",\n",
    "    \"dataset_seed\",\n",
    "    \"seed\",\n",
    "    \"labels\",\n",
    "    \"domains_target\",\n",
    "    \"domains_source\",\n",
    "    \"num_examples_per_domain_per_label_source\",\n",
    "    \"num_examples_per_domain_per_label_target\",\n",
    "    \"batch_size\",\n",
    "    \"n_epoch\",\n",
    "    \"patience\",\n",
    "    \"criteria_for_best\",\n",
    "    \"normalize_source\",\n",
    "    \"normalize_target\",\n",
    "    \"x_net\",\n",
    "    \"NUM_LOGS_PER_EPOCH\",\n",
    "    \"BEST_MODEL_PATH\",\n",
    "    \"pickle_name_source\",\n",
    "    \"pickle_name_target\",\n",
    "    \"torch_default_dtype\",\n",
    "}"
   ]
  },
  {
   "cell_type": "code",
   "execution_count": 3,
   "id": "670b5fb8",
   "metadata": {
    "execution": {
     "iopub.execute_input": "2022-03-27T08:24:28.422411Z",
     "iopub.status.busy": "2022-03-27T08:24:28.420004Z",
     "iopub.status.idle": "2022-03-27T08:24:28.429792Z",
     "shell.execute_reply": "2022-03-27T08:24:28.428975Z"
    },
    "papermill": {
     "duration": 0.037222,
     "end_time": "2022-03-27T08:24:28.429963",
     "exception": false,
     "start_time": "2022-03-27T08:24:28.392741",
     "status": "completed"
    },
    "tags": [
     "parameters"
    ]
   },
   "outputs": [],
   "source": [
    "from steves_utils.ORACLE.utils_v2 import (\n",
    "    ALL_SERIAL_NUMBERS,\n",
    "    ALL_DISTANCES_FEET_NARROWED,\n",
    ")\n",
    "\n",
    "standalone_parameters = {}\n",
    "standalone_parameters[\"experiment_name\"] = \"MANUAL CORES CNN\"\n",
    "standalone_parameters[\"lr\"] = 0.0001\n",
    "standalone_parameters[\"device\"] = \"cuda\"\n",
    "\n",
    "standalone_parameters[\"dataset_seed\"] = 1337\n",
    "standalone_parameters[\"seed\"] = 1337\n",
    "standalone_parameters[\"labels\"] = ALL_SERIAL_NUMBERS\n",
    "\n",
    "standalone_parameters[\"domains_source\"] = [8,32,50]\n",
    "standalone_parameters[\"domains_target\"] = [14,20,26,38,44,]\n",
    "\n",
    "standalone_parameters[\"num_examples_per_domain_per_label_source\"]=-1\n",
    "standalone_parameters[\"num_examples_per_domain_per_label_target\"]=-1\n",
    "\n",
    "standalone_parameters[\"pickle_name_source\"] = \"oracle.Run1_framed_2000Examples_stratified_ds.2022A.pkl\"\n",
    "standalone_parameters[\"pickle_name_target\"] = \"oracle.Run2_framed_2000Examples_stratified_ds.2022A.pkl\"\n",
    "\n",
    "standalone_parameters[\"torch_default_dtype\"] = \"torch.float32\" \n",
    "\n",
    "standalone_parameters[\"batch_size\"]=128\n",
    "\n",
    "standalone_parameters[\"n_epoch\"] = 3\n",
    "\n",
    "standalone_parameters[\"patience\"] = 10\n",
    "\n",
    "standalone_parameters[\"criteria_for_best\"] = \"target_accuracy\"\n",
    "standalone_parameters[\"normalize_source\"] = False\n",
    "standalone_parameters[\"normalize_target\"] = False\n",
    "\n",
    "standalone_parameters[\"x_net\"] =     [\n",
    "    {\"class\": \"nnReshape\", \"kargs\": {\"shape\":[-1, 1, 2, 256]}},\n",
    "    {\"class\": \"Conv2d\", \"kargs\": { \"in_channels\":1, \"out_channels\":256, \"kernel_size\":(1,7), \"bias\":False, \"padding\":(0,3), },},\n",
    "    {\"class\": \"ReLU\", \"kargs\": {\"inplace\": True}},\n",
    "    {\"class\": \"BatchNorm2d\", \"kargs\": {\"num_features\":256}},\n",
    "\n",
    "    {\"class\": \"Conv2d\", \"kargs\": { \"in_channels\":256, \"out_channels\":80, \"kernel_size\":(2,7), \"bias\":True, \"padding\":(0,3), },},\n",
    "    {\"class\": \"ReLU\", \"kargs\": {\"inplace\": True}},\n",
    "    {\"class\": \"BatchNorm2d\", \"kargs\": {\"num_features\":80}},\n",
    "    {\"class\": \"Flatten\", \"kargs\": {}},\n",
    "\n",
    "    {\"class\": \"Linear\", \"kargs\": {\"in_features\": 80*256, \"out_features\": 256}}, # 80 units per IQ pair\n",
    "    {\"class\": \"ReLU\", \"kargs\": {\"inplace\": True}},\n",
    "    {\"class\": \"BatchNorm1d\", \"kargs\": {\"num_features\":256}},\n",
    "\n",
    "    {\"class\": \"Linear\", \"kargs\": {\"in_features\": 256, \"out_features\": len(standalone_parameters[\"labels\"])}},\n",
    "]\n",
    "\n",
    "standalone_parameters[\"NUM_LOGS_PER_EPOCH\"] = 10\n",
    "standalone_parameters[\"BEST_MODEL_PATH\"] = \"./best_model.pth\""
   ]
  },
  {
   "cell_type": "code",
   "execution_count": 4,
   "id": "8a736b6c",
   "metadata": {
    "execution": {
     "iopub.execute_input": "2022-03-27T08:24:28.478689Z",
     "iopub.status.busy": "2022-03-27T08:24:28.471237Z",
     "iopub.status.idle": "2022-03-27T08:24:28.481093Z",
     "shell.execute_reply": "2022-03-27T08:24:28.480260Z"
    },
    "papermill": {
     "duration": 0.031924,
     "end_time": "2022-03-27T08:24:28.481264",
     "exception": false,
     "start_time": "2022-03-27T08:24:28.449340",
     "status": "completed"
    },
    "tags": [
     "injected-parameters"
    ]
   },
   "outputs": [],
   "source": [
    "# Parameters\n",
    "parameters = {\n",
    "    \"experiment_name\": \"cnn_2:oracle.run2\",\n",
    "    \"labels\": [\n",
    "        \"3123D52\",\n",
    "        \"3123D65\",\n",
    "        \"3123D79\",\n",
    "        \"3123D80\",\n",
    "        \"3123D54\",\n",
    "        \"3123D70\",\n",
    "        \"3123D7B\",\n",
    "        \"3123D89\",\n",
    "        \"3123D58\",\n",
    "        \"3123D76\",\n",
    "        \"3123D7D\",\n",
    "        \"3123EFE\",\n",
    "        \"3123D64\",\n",
    "        \"3123D78\",\n",
    "        \"3123D7E\",\n",
    "        \"3124E4A\",\n",
    "    ],\n",
    "    \"domains_source\": [8, 32, 50, 14, 20, 26, 38, 44],\n",
    "    \"domains_target\": [8, 32, 50, 14, 20, 26, 38, 44],\n",
    "    \"pickle_name_source\": \"oracle.Run2_10kExamples_stratified_ds.2022A.pkl\",\n",
    "    \"pickle_name_target\": \"oracle.Run2_10kExamples_stratified_ds.2022A.pkl\",\n",
    "    \"device\": \"cuda\",\n",
    "    \"lr\": 0.0001,\n",
    "    \"batch_size\": 128,\n",
    "    \"normalize_source\": False,\n",
    "    \"normalize_target\": False,\n",
    "    \"num_examples_per_domain_per_label_source\": -1,\n",
    "    \"num_examples_per_domain_per_label_target\": -1,\n",
    "    \"torch_default_dtype\": \"torch.float32\",\n",
    "    \"n_epoch\": 50,\n",
    "    \"patience\": 3,\n",
    "    \"criteria_for_best\": \"target_accuracy\",\n",
    "    \"x_net\": [\n",
    "        {\"class\": \"nnReshape\", \"kargs\": {\"shape\": [-1, 1, 2, 256]}},\n",
    "        {\n",
    "            \"class\": \"Conv2d\",\n",
    "            \"kargs\": {\n",
    "                \"in_channels\": 1,\n",
    "                \"out_channels\": 256,\n",
    "                \"kernel_size\": [1, 7],\n",
    "                \"bias\": False,\n",
    "                \"padding\": [0, 3],\n",
    "            },\n",
    "        },\n",
    "        {\"class\": \"ReLU\", \"kargs\": {\"inplace\": True}},\n",
    "        {\"class\": \"BatchNorm2d\", \"kargs\": {\"num_features\": 256}},\n",
    "        {\n",
    "            \"class\": \"Conv2d\",\n",
    "            \"kargs\": {\n",
    "                \"in_channels\": 256,\n",
    "                \"out_channels\": 80,\n",
    "                \"kernel_size\": [2, 7],\n",
    "                \"bias\": True,\n",
    "                \"padding\": [0, 3],\n",
    "            },\n",
    "        },\n",
    "        {\"class\": \"ReLU\", \"kargs\": {\"inplace\": True}},\n",
    "        {\"class\": \"BatchNorm2d\", \"kargs\": {\"num_features\": 80}},\n",
    "        {\"class\": \"Flatten\", \"kargs\": {}},\n",
    "        {\"class\": \"Linear\", \"kargs\": {\"in_features\": 20480, \"out_features\": 256}},\n",
    "        {\"class\": \"ReLU\", \"kargs\": {\"inplace\": True}},\n",
    "        {\"class\": \"BatchNorm1d\", \"kargs\": {\"num_features\": 256}},\n",
    "        {\"class\": \"Linear\", \"kargs\": {\"in_features\": 256, \"out_features\": 16}},\n",
    "    ],\n",
    "    \"NUM_LOGS_PER_EPOCH\": 10,\n",
    "    \"BEST_MODEL_PATH\": \"./best_model.pth\",\n",
    "    \"dataset_seed\": 7,\n",
    "    \"seed\": 7,\n",
    "}\n"
   ]
  },
  {
   "cell_type": "code",
   "execution_count": 5,
   "id": "759b56ec",
   "metadata": {
    "execution": {
     "iopub.execute_input": "2022-03-27T08:24:28.526784Z",
     "iopub.status.busy": "2022-03-27T08:24:28.525914Z",
     "iopub.status.idle": "2022-03-27T08:24:28.529018Z",
     "shell.execute_reply": "2022-03-27T08:24:28.528199Z"
    },
    "papermill": {
     "duration": 0.025722,
     "end_time": "2022-03-27T08:24:28.529188",
     "exception": false,
     "start_time": "2022-03-27T08:24:28.503466",
     "status": "completed"
    },
    "tags": []
   },
   "outputs": [],
   "source": [
    "# Set this to True if you want to run this template directly\n",
    "STANDALONE = False\n",
    "if STANDALONE:\n",
    "    print(\"parameters not injected, running with standalone_parameters\")\n",
    "    parameters = standalone_parameters\n",
    "\n",
    "if not 'parameters' in locals() and not 'parameters' in globals():\n",
    "    raise Exception(\"Parameter injection failed\")\n",
    "\n",
    "#Use an easy dict for all the parameters\n",
    "p = EasyDict(parameters)\n",
    "\n",
    "supplied_keys = set(p.keys())\n",
    "\n",
    "if  supplied_keys != required_parameters:\n",
    "    print(\"Parameters are incorrect\")\n",
    "    if len(supplied_keys - required_parameters)>0: print(\"Shouldn't have:\", str(supplied_keys - required_parameters))\n",
    "    if len(required_parameters - supplied_keys)>0: print(\"Need to have:\", str(required_parameters - supplied_keys))\n",
    "    raise RuntimeError(\"Parameters are incorrect\")\n",
    "\n"
   ]
  },
  {
   "cell_type": "code",
   "execution_count": 6,
   "id": "d5c66a71",
   "metadata": {
    "execution": {
     "iopub.execute_input": "2022-03-27T08:24:28.569655Z",
     "iopub.status.busy": "2022-03-27T08:24:28.569282Z",
     "iopub.status.idle": "2022-03-27T08:24:28.574359Z",
     "shell.execute_reply": "2022-03-27T08:24:28.573651Z"
    },
    "papermill": {
     "duration": 0.024626,
     "end_time": "2022-03-27T08:24:28.574524",
     "exception": false,
     "start_time": "2022-03-27T08:24:28.549898",
     "status": "completed"
    },
    "tags": []
   },
   "outputs": [],
   "source": [
    "###################################\n",
    "# Set the RNGs and make it all deterministic\n",
    "###################################\n",
    "np.random.seed(p.seed)\n",
    "random.seed(p.seed)\n",
    "torch.manual_seed(p.seed)\n",
    "\n",
    "torch.use_deterministic_algorithms(True) "
   ]
  },
  {
   "cell_type": "code",
   "execution_count": 7,
   "id": "92a65876",
   "metadata": {
    "execution": {
     "iopub.execute_input": "2022-03-27T08:24:28.612462Z",
     "iopub.status.busy": "2022-03-27T08:24:28.611929Z",
     "iopub.status.idle": "2022-03-27T08:24:28.614948Z",
     "shell.execute_reply": "2022-03-27T08:24:28.614389Z"
    },
    "papermill": {
     "duration": 0.021411,
     "end_time": "2022-03-27T08:24:28.615067",
     "exception": false,
     "start_time": "2022-03-27T08:24:28.593656",
     "status": "completed"
    },
    "tags": []
   },
   "outputs": [],
   "source": [
    "torch.set_default_dtype(eval(p.torch_default_dtype))"
   ]
  },
  {
   "cell_type": "code",
   "execution_count": 8,
   "id": "f1a32f01",
   "metadata": {
    "execution": {
     "iopub.execute_input": "2022-03-27T08:24:28.651038Z",
     "iopub.status.busy": "2022-03-27T08:24:28.650666Z",
     "iopub.status.idle": "2022-03-27T08:24:28.692026Z",
     "shell.execute_reply": "2022-03-27T08:24:28.691222Z"
    },
    "papermill": {
     "duration": 0.059832,
     "end_time": "2022-03-27T08:24:28.692207",
     "exception": false,
     "start_time": "2022-03-27T08:24:28.632375",
     "status": "completed"
    },
    "tags": []
   },
   "outputs": [],
   "source": [
    "###################################\n",
    "# Build the network(s)\n",
    "# Note: It's critical to do this AFTER setting the RNG\n",
    "###################################\n",
    "x_net = build_sequential(p.x_net)"
   ]
  },
  {
   "cell_type": "code",
   "execution_count": 9,
   "id": "a276cd83",
   "metadata": {
    "execution": {
     "iopub.execute_input": "2022-03-27T08:24:28.729085Z",
     "iopub.status.busy": "2022-03-27T08:24:28.728528Z",
     "iopub.status.idle": "2022-03-27T08:24:28.731470Z",
     "shell.execute_reply": "2022-03-27T08:24:28.730913Z"
    },
    "papermill": {
     "duration": 0.02108,
     "end_time": "2022-03-27T08:24:28.731595",
     "exception": false,
     "start_time": "2022-03-27T08:24:28.710515",
     "status": "completed"
    },
    "tags": []
   },
   "outputs": [],
   "source": [
    "start_time_secs = time.time()"
   ]
  },
  {
   "cell_type": "code",
   "execution_count": 10,
   "id": "de702e48",
   "metadata": {
    "execution": {
     "iopub.execute_input": "2022-03-27T08:24:28.776756Z",
     "iopub.status.busy": "2022-03-27T08:24:28.776162Z",
     "iopub.status.idle": "2022-03-27T08:25:05.973650Z",
     "shell.execute_reply": "2022-03-27T08:25:05.972751Z"
    },
    "papermill": {
     "duration": 37.225159,
     "end_time": "2022-03-27T08:25:05.973837",
     "exception": false,
     "start_time": "2022-03-27T08:24:28.748678",
     "status": "completed"
    },
    "tags": []
   },
   "outputs": [],
   "source": [
    "def wrap_in_dataloader(p, ds):\n",
    "    return torch.utils.data.DataLoader(\n",
    "        ds,\n",
    "        batch_size=p.batch_size,\n",
    "        shuffle=True,\n",
    "        num_workers=1,\n",
    "        persistent_workers=True,\n",
    "        prefetch_factor=50,\n",
    "        pin_memory=True\n",
    "    )\n",
    "\n",
    "taf_source = Traditional_Accessor_Factory(\n",
    "    labels=p.labels,\n",
    "    domains=p.domains_source,\n",
    "    num_examples_per_domain_per_label=p.num_examples_per_domain_per_label_source,\n",
    "    pickle_path=os.path.join(get_datasets_base_path(), p.pickle_name_source),\n",
    "    seed=p.dataset_seed\n",
    ")\n",
    "train_original_source, val_original_source, test_original_source = \\\n",
    "    taf_source.get_train(), taf_source.get_val(), taf_source.get_test()\n",
    "\n",
    "\n",
    "taf_target = Traditional_Accessor_Factory(\n",
    "    labels=p.labels,\n",
    "    domains=p.domains_target,\n",
    "    num_examples_per_domain_per_label=p.num_examples_per_domain_per_label_source,\n",
    "    pickle_path=os.path.join(get_datasets_base_path(), p.pickle_name_target),\n",
    "    seed=p.dataset_seed\n",
    ")\n",
    "train_original_target, val_original_target, test_original_target = \\\n",
    "    taf_target.get_train(), taf_target.get_val(), taf_target.get_test()\n",
    "\n",
    "\n",
    "# For CNN We only use X and Y. And we only train on the source.\n",
    "# Properly form the data using a transform lambda and Lazy_Map. Finally wrap them in a dataloader\n",
    "\n",
    "transform_lambda = lambda ex: ex[:2] # Strip the tuple to just (x,y)\n",
    "\n",
    "\n",
    "train_processed_source = wrap_in_dataloader(\n",
    "    p,\n",
    "    Lazy_Map(train_original_source, transform_lambda)\n",
    ")\n",
    "val_processed_source = wrap_in_dataloader(\n",
    "    p,\n",
    "    Lazy_Map(val_original_source, transform_lambda)\n",
    ")\n",
    "test_processed_source = wrap_in_dataloader(\n",
    "    p,\n",
    "    Lazy_Map(test_original_source, transform_lambda)\n",
    ")\n",
    "\n",
    "train_processed_target = wrap_in_dataloader(\n",
    "    p,\n",
    "    Lazy_Map(train_original_target, transform_lambda)\n",
    ")\n",
    "val_processed_target = wrap_in_dataloader(\n",
    "    p,\n",
    "    Lazy_Map(val_original_target, transform_lambda)\n",
    ")\n",
    "test_processed_target  = wrap_in_dataloader(\n",
    "    p,\n",
    "    Lazy_Map(test_original_target, transform_lambda)\n",
    ")\n",
    "\n",
    "\n",
    "\n",
    "datasets = EasyDict({\n",
    "    \"source\": {\n",
    "        \"original\": {\"train\":train_original_source, \"val\":val_original_source, \"test\":test_original_source},\n",
    "        \"processed\": {\"train\":train_processed_source, \"val\":val_processed_source, \"test\":test_processed_source}\n",
    "    },\n",
    "    \"target\": {\n",
    "        \"original\": {\"train\":train_original_target, \"val\":val_original_target, \"test\":test_original_target},\n",
    "        \"processed\": {\"train\":train_processed_target, \"val\":val_processed_target, \"test\":test_processed_target}\n",
    "    },\n",
    "})"
   ]
  },
  {
   "cell_type": "code",
   "execution_count": 11,
   "id": "a11b26bd",
   "metadata": {
    "execution": {
     "iopub.execute_input": "2022-03-27T08:25:06.068932Z",
     "iopub.status.busy": "2022-03-27T08:25:06.068350Z",
     "iopub.status.idle": "2022-03-27T08:25:11.977427Z",
     "shell.execute_reply": "2022-03-27T08:25:11.976564Z"
    },
    "papermill": {
     "duration": 5.983097,
     "end_time": "2022-03-27T08:25:11.977605",
     "exception": false,
     "start_time": "2022-03-27T08:25:05.994508",
     "status": "completed"
    },
    "tags": []
   },
   "outputs": [
    {
     "data": {
      "text/plain": [
       "torch.float32"
      ]
     },
     "execution_count": 11,
     "metadata": {},
     "output_type": "execute_result"
    }
   ],
   "source": [
    "ep = next(iter(test_processed_target))\n",
    "ep[0].dtype"
   ]
  },
  {
   "cell_type": "code",
   "execution_count": 12,
   "id": "19425fad",
   "metadata": {
    "execution": {
     "iopub.execute_input": "2022-03-27T08:25:12.022458Z",
     "iopub.status.busy": "2022-03-27T08:25:12.022083Z",
     "iopub.status.idle": "2022-03-27T08:25:12.074805Z",
     "shell.execute_reply": "2022-03-27T08:25:12.073991Z"
    },
    "papermill": {
     "duration": 0.074441,
     "end_time": "2022-03-27T08:25:12.074996",
     "exception": false,
     "start_time": "2022-03-27T08:25:12.000555",
     "status": "completed"
    },
    "tags": []
   },
   "outputs": [],
   "source": [
    "model = Configurable_Vanilla(\n",
    "    x_net=x_net,\n",
    "    label_loss_object=torch.nn.NLLLoss(),\n",
    "    learning_rate=p.lr\n",
    ")"
   ]
  },
  {
   "cell_type": "code",
   "execution_count": 13,
   "id": "7f6d4f2c",
   "metadata": {
    "execution": {
     "iopub.execute_input": "2022-03-27T08:25:12.117978Z",
     "iopub.status.busy": "2022-03-27T08:25:12.117613Z",
     "iopub.status.idle": "2022-03-27T08:46:53.466898Z",
     "shell.execute_reply": "2022-03-27T08:46:53.466544Z"
    },
    "papermill": {
     "duration": 1301.370114,
     "end_time": "2022-03-27T08:46:53.466996",
     "exception": false,
     "start_time": "2022-03-27T08:25:12.096882",
     "status": "completed"
    },
    "tags": []
   },
   "outputs": [
    {
     "name": "stdout",
     "output_type": "stream",
     "text": [
      "epoch: 1, [batch: 1 / 7000], examples_per_second: 331.6770, train_label_loss: 2.7413, \n"
     ]
    },
    {
     "name": "stdout",
     "output_type": "stream",
     "text": [
      "epoch: 1, [batch: 700 / 7000], examples_per_second: 10684.5747, train_label_loss: 2.5692, \n"
     ]
    },
    {
     "name": "stdout",
     "output_type": "stream",
     "text": [
      "epoch: 1, [batch: 1400 / 7000], examples_per_second: 10662.3586, train_label_loss: 2.5623, \n"
     ]
    },
    {
     "name": "stdout",
     "output_type": "stream",
     "text": [
      "epoch: 1, [batch: 2100 / 7000], examples_per_second: 10678.6551, train_label_loss: 2.3665, \n"
     ]
    },
    {
     "name": "stdout",
     "output_type": "stream",
     "text": [
      "epoch: 1, [batch: 2800 / 7000], examples_per_second: 10674.9933, train_label_loss: 2.0208, \n"
     ]
    },
    {
     "name": "stdout",
     "output_type": "stream",
     "text": [
      "epoch: 1, [batch: 3500 / 7000], examples_per_second: 10577.9657, train_label_loss: 1.8484, \n"
     ]
    },
    {
     "name": "stdout",
     "output_type": "stream",
     "text": [
      "epoch: 1, [batch: 4200 / 7000], examples_per_second: 10630.3106, train_label_loss: 1.7889, \n"
     ]
    },
    {
     "name": "stdout",
     "output_type": "stream",
     "text": [
      "epoch: 1, [batch: 4900 / 7000], examples_per_second: 10588.8566, train_label_loss: 1.7188, \n"
     ]
    },
    {
     "name": "stdout",
     "output_type": "stream",
     "text": [
      "epoch: 1, [batch: 5600 / 7000], examples_per_second: 10609.4297, train_label_loss: 1.3784, \n"
     ]
    },
    {
     "name": "stdout",
     "output_type": "stream",
     "text": [
      "epoch: 1, [batch: 6300 / 7000], examples_per_second: 11655.3348, train_label_loss: 1.4432, \n"
     ]
    },
    {
     "name": "stdout",
     "output_type": "stream",
     "text": [
      "=============================================================\n",
      "epoch: 1, source_val_acc_label: 0.6055, source_val_label_loss: 1.2103, target_val_acc_label: 0.6055, target_val_label_loss: 1.2103, \n",
      "=============================================================\n"
     ]
    },
    {
     "name": "stdout",
     "output_type": "stream",
     "text": [
      "New best\n",
      "epoch: 2, [batch: 1 / 7000], examples_per_second: 12.4262, train_label_loss: 1.1928, \n"
     ]
    },
    {
     "name": "stdout",
     "output_type": "stream",
     "text": [
      "epoch: 2, [batch: 700 / 7000], examples_per_second: 11577.8917, train_label_loss: 1.0810, \n"
     ]
    },
    {
     "name": "stdout",
     "output_type": "stream",
     "text": [
      "epoch: 2, [batch: 1400 / 7000], examples_per_second: 11557.8542, train_label_loss: 1.3141, \n"
     ]
    },
    {
     "name": "stdout",
     "output_type": "stream",
     "text": [
      "epoch: 2, [batch: 2100 / 7000], examples_per_second: 11519.0447, train_label_loss: 1.2068, \n"
     ]
    },
    {
     "name": "stdout",
     "output_type": "stream",
     "text": [
      "epoch: 2, [batch: 2800 / 7000], examples_per_second: 11558.7909, train_label_loss: 1.5739, \n"
     ]
    },
    {
     "name": "stdout",
     "output_type": "stream",
     "text": [
      "epoch: 2, [batch: 3500 / 7000], examples_per_second: 11643.7508, train_label_loss: 1.1309, \n"
     ]
    },
    {
     "name": "stdout",
     "output_type": "stream",
     "text": [
      "epoch: 2, [batch: 4200 / 7000], examples_per_second: 11600.2527, train_label_loss: 1.0190, \n"
     ]
    },
    {
     "name": "stdout",
     "output_type": "stream",
     "text": [
      "epoch: 2, [batch: 4900 / 7000], examples_per_second: 10535.8636, train_label_loss: 1.2420, \n"
     ]
    },
    {
     "name": "stdout",
     "output_type": "stream",
     "text": [
      "epoch: 2, [batch: 5600 / 7000], examples_per_second: 10583.5399, train_label_loss: 1.0569, \n"
     ]
    },
    {
     "name": "stdout",
     "output_type": "stream",
     "text": [
      "epoch: 2, [batch: 6300 / 7000], examples_per_second: 10519.2723, train_label_loss: 1.0396, \n"
     ]
    },
    {
     "name": "stdout",
     "output_type": "stream",
     "text": [
      "=============================================================\n",
      "epoch: 2, source_val_acc_label: 0.6774, source_val_label_loss: 0.9153, target_val_acc_label: 0.6774, target_val_label_loss: 0.9153, \n",
      "=============================================================\n"
     ]
    },
    {
     "name": "stdout",
     "output_type": "stream",
     "text": [
      "New best\n",
      "epoch: 3, [batch: 1 / 7000], examples_per_second: 11.3594, train_label_loss: 0.7621, \n"
     ]
    },
    {
     "name": "stdout",
     "output_type": "stream",
     "text": [
      "epoch: 3, [batch: 700 / 7000], examples_per_second: 10614.9175, train_label_loss: 0.8677, \n"
     ]
    },
    {
     "name": "stdout",
     "output_type": "stream",
     "text": [
      "epoch: 3, [batch: 1400 / 7000], examples_per_second: 10632.6505, train_label_loss: 1.1013, \n"
     ]
    },
    {
     "name": "stdout",
     "output_type": "stream",
     "text": [
      "epoch: 3, [batch: 2100 / 7000], examples_per_second: 10562.6798, train_label_loss: 0.8750, \n"
     ]
    },
    {
     "name": "stdout",
     "output_type": "stream",
     "text": [
      "epoch: 3, [batch: 2800 / 7000], examples_per_second: 10591.8398, train_label_loss: 0.7703, \n"
     ]
    },
    {
     "name": "stdout",
     "output_type": "stream",
     "text": [
      "epoch: 3, [batch: 3500 / 7000], examples_per_second: 10826.5467, train_label_loss: 0.7042, \n"
     ]
    },
    {
     "name": "stdout",
     "output_type": "stream",
     "text": [
      "epoch: 3, [batch: 4200 / 7000], examples_per_second: 11576.6910, train_label_loss: 1.0434, \n"
     ]
    },
    {
     "name": "stdout",
     "output_type": "stream",
     "text": [
      "epoch: 3, [batch: 4900 / 7000], examples_per_second: 11632.5741, train_label_loss: 0.7818, \n"
     ]
    },
    {
     "name": "stdout",
     "output_type": "stream",
     "text": [
      "epoch: 3, [batch: 5600 / 7000], examples_per_second: 11643.8104, train_label_loss: 0.7402, \n"
     ]
    },
    {
     "name": "stdout",
     "output_type": "stream",
     "text": [
      "epoch: 3, [batch: 6300 / 7000], examples_per_second: 11551.8930, train_label_loss: 0.9478, \n"
     ]
    },
    {
     "name": "stdout",
     "output_type": "stream",
     "text": [
      "=============================================================\n",
      "epoch: 3, source_val_acc_label: 0.7642, source_val_label_loss: 0.6853, target_val_acc_label: 0.7642, target_val_label_loss: 0.6853, \n",
      "=============================================================\n"
     ]
    },
    {
     "name": "stdout",
     "output_type": "stream",
     "text": [
      "New best\n",
      "epoch: 4, [batch: 1 / 7000], examples_per_second: 12.9671, train_label_loss: 0.8337, \n"
     ]
    },
    {
     "name": "stdout",
     "output_type": "stream",
     "text": [
      "epoch: 4, [batch: 700 / 7000], examples_per_second: 11465.0357, train_label_loss: 0.6201, \n"
     ]
    },
    {
     "name": "stdout",
     "output_type": "stream",
     "text": [
      "epoch: 4, [batch: 1400 / 7000], examples_per_second: 11656.6070, train_label_loss: 0.7745, \n"
     ]
    },
    {
     "name": "stdout",
     "output_type": "stream",
     "text": [
      "epoch: 4, [batch: 2100 / 7000], examples_per_second: 11785.4531, train_label_loss: 0.6346, \n"
     ]
    },
    {
     "name": "stdout",
     "output_type": "stream",
     "text": [
      "epoch: 4, [batch: 2800 / 7000], examples_per_second: 10565.4261, train_label_loss: 0.5304, \n"
     ]
    },
    {
     "name": "stdout",
     "output_type": "stream",
     "text": [
      "epoch: 4, [batch: 3500 / 7000], examples_per_second: 10625.6335, train_label_loss: 0.4925, \n"
     ]
    },
    {
     "name": "stdout",
     "output_type": "stream",
     "text": [
      "epoch: 4, [batch: 4200 / 7000], examples_per_second: 10588.1725, train_label_loss: 0.6276, \n"
     ]
    },
    {
     "name": "stdout",
     "output_type": "stream",
     "text": [
      "epoch: 4, [batch: 4900 / 7000], examples_per_second: 10534.4637, train_label_loss: 0.7517, \n"
     ]
    },
    {
     "name": "stdout",
     "output_type": "stream",
     "text": [
      "epoch: 4, [batch: 5600 / 7000], examples_per_second: 10621.3734, train_label_loss: 0.6698, \n"
     ]
    },
    {
     "name": "stdout",
     "output_type": "stream",
     "text": [
      "epoch: 4, [batch: 6300 / 7000], examples_per_second: 10599.7825, train_label_loss: 0.6081, \n"
     ]
    },
    {
     "name": "stdout",
     "output_type": "stream",
     "text": [
      "=============================================================\n",
      "epoch: 4, source_val_acc_label: 0.7650, source_val_label_loss: 0.6609, target_val_acc_label: 0.7650, target_val_label_loss: 0.6609, \n",
      "=============================================================\n"
     ]
    },
    {
     "name": "stdout",
     "output_type": "stream",
     "text": [
      "New best\n",
      "epoch: 5, [batch: 1 / 7000], examples_per_second: 11.6442, train_label_loss: 0.4589, \n"
     ]
    },
    {
     "name": "stdout",
     "output_type": "stream",
     "text": [
      "epoch: 5, [batch: 700 / 7000], examples_per_second: 10662.7391, train_label_loss: 0.6514, \n"
     ]
    },
    {
     "name": "stdout",
     "output_type": "stream",
     "text": [
      "epoch: 5, [batch: 1400 / 7000], examples_per_second: 10654.0089, train_label_loss: 0.4140, \n"
     ]
    },
    {
     "name": "stdout",
     "output_type": "stream",
     "text": [
      "epoch: 5, [batch: 2100 / 7000], examples_per_second: 10659.4090, train_label_loss: 0.7647, \n"
     ]
    },
    {
     "name": "stdout",
     "output_type": "stream",
     "text": [
      "epoch: 5, [batch: 2800 / 7000], examples_per_second: 10672.0713, train_label_loss: 0.7815, \n"
     ]
    },
    {
     "name": "stdout",
     "output_type": "stream",
     "text": [
      "epoch: 5, [batch: 3500 / 7000], examples_per_second: 11380.1044, train_label_loss: 0.6291, \n"
     ]
    },
    {
     "name": "stdout",
     "output_type": "stream",
     "text": [
      "epoch: 5, [batch: 4200 / 7000], examples_per_second: 11693.7294, train_label_loss: 0.4427, \n"
     ]
    },
    {
     "name": "stdout",
     "output_type": "stream",
     "text": [
      "epoch: 5, [batch: 4900 / 7000], examples_per_second: 11712.1893, train_label_loss: 0.4889, \n"
     ]
    },
    {
     "name": "stdout",
     "output_type": "stream",
     "text": [
      "epoch: 5, [batch: 5600 / 7000], examples_per_second: 11714.5123, train_label_loss: 0.6362, \n"
     ]
    },
    {
     "name": "stdout",
     "output_type": "stream",
     "text": [
      "epoch: 5, [batch: 6300 / 7000], examples_per_second: 11745.6512, train_label_loss: 0.5461, \n"
     ]
    },
    {
     "name": "stdout",
     "output_type": "stream",
     "text": [
      "=============================================================\n",
      "epoch: 5, source_val_acc_label: 0.7720, source_val_label_loss: 0.6176, target_val_acc_label: 0.7720, target_val_label_loss: 0.6176, \n",
      "=============================================================\n"
     ]
    },
    {
     "name": "stdout",
     "output_type": "stream",
     "text": [
      "New best\n",
      "epoch: 6, [batch: 1 / 7000], examples_per_second: 13.0889, train_label_loss: 0.4116, \n"
     ]
    },
    {
     "name": "stdout",
     "output_type": "stream",
     "text": [
      "epoch: 6, [batch: 700 / 7000], examples_per_second: 11720.8400, train_label_loss: 0.4012, \n"
     ]
    },
    {
     "name": "stdout",
     "output_type": "stream",
     "text": [
      "epoch: 6, [batch: 1400 / 7000], examples_per_second: 11762.6454, train_label_loss: 0.5528, \n"
     ]
    },
    {
     "name": "stdout",
     "output_type": "stream",
     "text": [
      "epoch: 6, [batch: 2100 / 7000], examples_per_second: 11816.6070, train_label_loss: 0.5138, \n"
     ]
    },
    {
     "name": "stdout",
     "output_type": "stream",
     "text": [
      "epoch: 6, [batch: 2800 / 7000], examples_per_second: 10702.9212, train_label_loss: 0.6731, \n"
     ]
    },
    {
     "name": "stdout",
     "output_type": "stream",
     "text": [
      "epoch: 6, [batch: 3500 / 7000], examples_per_second: 10652.2178, train_label_loss: 0.5467, \n"
     ]
    },
    {
     "name": "stdout",
     "output_type": "stream",
     "text": [
      "epoch: 6, [batch: 4200 / 7000], examples_per_second: 10653.2424, train_label_loss: 0.5157, \n"
     ]
    },
    {
     "name": "stdout",
     "output_type": "stream",
     "text": [
      "epoch: 6, [batch: 4900 / 7000], examples_per_second: 10691.7516, train_label_loss: 0.5579, \n"
     ]
    },
    {
     "name": "stdout",
     "output_type": "stream",
     "text": [
      "epoch: 6, [batch: 5600 / 7000], examples_per_second: 10695.7878, train_label_loss: 0.6130, \n"
     ]
    },
    {
     "name": "stdout",
     "output_type": "stream",
     "text": [
      "epoch: 6, [batch: 6300 / 7000], examples_per_second: 10677.5441, train_label_loss: 0.5526, \n"
     ]
    },
    {
     "name": "stdout",
     "output_type": "stream",
     "text": [
      "=============================================================\n",
      "epoch: 6, source_val_acc_label: 0.7800, source_val_label_loss: 0.6034, target_val_acc_label: 0.7800, target_val_label_loss: 0.6034, \n",
      "=============================================================\n"
     ]
    },
    {
     "name": "stdout",
     "output_type": "stream",
     "text": [
      "New best\n",
      "epoch: 7, [batch: 1 / 7000], examples_per_second: 11.7396, train_label_loss: 0.6037, \n"
     ]
    },
    {
     "name": "stdout",
     "output_type": "stream",
     "text": [
      "epoch: 7, [batch: 700 / 7000], examples_per_second: 10701.7348, train_label_loss: 0.3983, \n"
     ]
    },
    {
     "name": "stdout",
     "output_type": "stream",
     "text": [
      "epoch: 7, [batch: 1400 / 7000], examples_per_second: 10687.7258, train_label_loss: 0.2653, \n"
     ]
    },
    {
     "name": "stdout",
     "output_type": "stream",
     "text": [
      "epoch: 7, [batch: 2100 / 7000], examples_per_second: 11724.2559, train_label_loss: 0.3621, \n"
     ]
    },
    {
     "name": "stdout",
     "output_type": "stream",
     "text": [
      "epoch: 7, [batch: 2800 / 7000], examples_per_second: 11715.2350, train_label_loss: 0.3394, \n"
     ]
    },
    {
     "name": "stdout",
     "output_type": "stream",
     "text": [
      "epoch: 7, [batch: 3500 / 7000], examples_per_second: 11740.1788, train_label_loss: 0.4047, \n"
     ]
    },
    {
     "name": "stdout",
     "output_type": "stream",
     "text": [
      "epoch: 7, [batch: 4200 / 7000], examples_per_second: 11694.2239, train_label_loss: 0.5339, \n"
     ]
    },
    {
     "name": "stdout",
     "output_type": "stream",
     "text": [
      "epoch: 7, [batch: 4900 / 7000], examples_per_second: 11801.3245, train_label_loss: 0.4007, \n"
     ]
    },
    {
     "name": "stdout",
     "output_type": "stream",
     "text": [
      "epoch: 7, [batch: 5600 / 7000], examples_per_second: 11697.6004, train_label_loss: 0.3629, \n"
     ]
    },
    {
     "name": "stdout",
     "output_type": "stream",
     "text": [
      "epoch: 7, [batch: 6300 / 7000], examples_per_second: 11716.7314, train_label_loss: 0.3113, \n"
     ]
    },
    {
     "name": "stdout",
     "output_type": "stream",
     "text": [
      "=============================================================\n",
      "epoch: 7, source_val_acc_label: 0.7582, source_val_label_loss: 0.6589, target_val_acc_label: 0.7582, target_val_label_loss: 0.6589, \n",
      "=============================================================\n"
     ]
    },
    {
     "name": "stdout",
     "output_type": "stream",
     "text": [
      "epoch: 8, [batch: 1 / 7000], examples_per_second: 13.1692, train_label_loss: 0.3581, \n"
     ]
    },
    {
     "name": "stdout",
     "output_type": "stream",
     "text": [
      "epoch: 8, [batch: 700 / 7000], examples_per_second: 11404.3169, train_label_loss: 0.2743, \n"
     ]
    },
    {
     "name": "stdout",
     "output_type": "stream",
     "text": [
      "epoch: 8, [batch: 1400 / 7000], examples_per_second: 10641.0116, train_label_loss: 0.5649, \n"
     ]
    },
    {
     "name": "stdout",
     "output_type": "stream",
     "text": [
      "epoch: 8, [batch: 2100 / 7000], examples_per_second: 10695.9500, train_label_loss: 0.4203, \n"
     ]
    },
    {
     "name": "stdout",
     "output_type": "stream",
     "text": [
      "epoch: 8, [batch: 2800 / 7000], examples_per_second: 10675.0625, train_label_loss: 0.4314, \n"
     ]
    },
    {
     "name": "stdout",
     "output_type": "stream",
     "text": [
      "epoch: 8, [batch: 3500 / 7000], examples_per_second: 10663.3760, train_label_loss: 0.4564, \n"
     ]
    },
    {
     "name": "stdout",
     "output_type": "stream",
     "text": [
      "epoch: 8, [batch: 4200 / 7000], examples_per_second: 10660.8472, train_label_loss: 0.3869, \n"
     ]
    },
    {
     "name": "stdout",
     "output_type": "stream",
     "text": [
      "epoch: 8, [batch: 4900 / 7000], examples_per_second: 10676.4354, train_label_loss: 0.4487, \n"
     ]
    },
    {
     "name": "stdout",
     "output_type": "stream",
     "text": [
      "epoch: 8, [batch: 5600 / 7000], examples_per_second: 10675.3984, train_label_loss: 0.3440, \n"
     ]
    },
    {
     "name": "stdout",
     "output_type": "stream",
     "text": [
      "epoch: 8, [batch: 6300 / 7000], examples_per_second: 10651.1062, train_label_loss: 0.3929, \n"
     ]
    },
    {
     "name": "stdout",
     "output_type": "stream",
     "text": [
      "=============================================================\n",
      "epoch: 8, source_val_acc_label: 0.7790, source_val_label_loss: 0.6550, target_val_acc_label: 0.7790, target_val_label_loss: 0.6550, \n",
      "=============================================================\n"
     ]
    },
    {
     "name": "stdout",
     "output_type": "stream",
     "text": [
      "epoch: 9, [batch: 1 / 7000], examples_per_second: 11.5300, train_label_loss: 0.2178, \n"
     ]
    },
    {
     "name": "stdout",
     "output_type": "stream",
     "text": [
      "epoch: 9, [batch: 700 / 7000], examples_per_second: 10711.3463, train_label_loss: 0.3332, \n"
     ]
    },
    {
     "name": "stdout",
     "output_type": "stream",
     "text": [
      "epoch: 9, [batch: 1400 / 7000], examples_per_second: 10754.6170, train_label_loss: 0.4231, \n"
     ]
    },
    {
     "name": "stdout",
     "output_type": "stream",
     "text": [
      "epoch: 9, [batch: 2100 / 7000], examples_per_second: 11669.0930, train_label_loss: 0.8142, \n"
     ]
    },
    {
     "name": "stdout",
     "output_type": "stream",
     "text": [
      "epoch: 9, [batch: 2800 / 7000], examples_per_second: 11688.4474, train_label_loss: 0.4008, \n"
     ]
    },
    {
     "name": "stdout",
     "output_type": "stream",
     "text": [
      "epoch: 9, [batch: 3500 / 7000], examples_per_second: 11713.1778, train_label_loss: 0.4830, \n"
     ]
    },
    {
     "name": "stdout",
     "output_type": "stream",
     "text": [
      "epoch: 9, [batch: 4200 / 7000], examples_per_second: 11743.7227, train_label_loss: 0.5061, \n"
     ]
    },
    {
     "name": "stdout",
     "output_type": "stream",
     "text": [
      "epoch: 9, [batch: 4900 / 7000], examples_per_second: 11805.4302, train_label_loss: 0.2141, \n"
     ]
    },
    {
     "name": "stdout",
     "output_type": "stream",
     "text": [
      "epoch: 9, [batch: 5600 / 7000], examples_per_second: 11715.6196, train_label_loss: 0.3420, \n"
     ]
    },
    {
     "name": "stdout",
     "output_type": "stream",
     "text": [
      "epoch: 9, [batch: 6300 / 7000], examples_per_second: 11715.4063, train_label_loss: 0.3505, \n"
     ]
    },
    {
     "name": "stdout",
     "output_type": "stream",
     "text": [
      "=============================================================\n",
      "epoch: 9, source_val_acc_label: 0.7810, source_val_label_loss: 0.6020, target_val_acc_label: 0.7810, target_val_label_loss: 0.6020, \n",
      "=============================================================\n"
     ]
    },
    {
     "name": "stdout",
     "output_type": "stream",
     "text": [
      "New best\n",
      "epoch: 10, [batch: 1 / 7000], examples_per_second: 13.1905, train_label_loss: 0.3515, \n"
     ]
    },
    {
     "name": "stdout",
     "output_type": "stream",
     "text": [
      "epoch: 10, [batch: 700 / 7000], examples_per_second: 11314.3743, train_label_loss: 0.2686, \n"
     ]
    },
    {
     "name": "stdout",
     "output_type": "stream",
     "text": [
      "epoch: 10, [batch: 1400 / 7000], examples_per_second: 10706.8456, train_label_loss: 0.2777, \n"
     ]
    },
    {
     "name": "stdout",
     "output_type": "stream",
     "text": [
      "epoch: 10, [batch: 2100 / 7000], examples_per_second: 10668.9434, train_label_loss: 0.3129, \n"
     ]
    },
    {
     "name": "stdout",
     "output_type": "stream",
     "text": [
      "epoch: 10, [batch: 2800 / 7000], examples_per_second: 10671.5158, train_label_loss: 0.2743, \n"
     ]
    },
    {
     "name": "stdout",
     "output_type": "stream",
     "text": [
      "epoch: 10, [batch: 3500 / 7000], examples_per_second: 10660.4056, train_label_loss: 0.3307, \n"
     ]
    },
    {
     "name": "stdout",
     "output_type": "stream",
     "text": [
      "epoch: 10, [batch: 4200 / 7000], examples_per_second: 10678.2328, train_label_loss: 0.6042, \n"
     ]
    },
    {
     "name": "stdout",
     "output_type": "stream",
     "text": [
      "epoch: 10, [batch: 4900 / 7000], examples_per_second: 10662.0047, train_label_loss: 0.2647, \n"
     ]
    },
    {
     "name": "stdout",
     "output_type": "stream",
     "text": [
      "epoch: 10, [batch: 5600 / 7000], examples_per_second: 10689.8791, train_label_loss: 0.3065, \n"
     ]
    },
    {
     "name": "stdout",
     "output_type": "stream",
     "text": [
      "epoch: 10, [batch: 6300 / 7000], examples_per_second: 10674.7228, train_label_loss: 0.3135, \n"
     ]
    },
    {
     "name": "stdout",
     "output_type": "stream",
     "text": [
      "=============================================================\n",
      "epoch: 10, source_val_acc_label: 0.7895, source_val_label_loss: 0.5955, target_val_acc_label: 0.7895, target_val_label_loss: 0.5955, \n",
      "=============================================================\n"
     ]
    },
    {
     "name": "stdout",
     "output_type": "stream",
     "text": [
      "New best\n",
      "epoch: 11, [batch: 1 / 7000], examples_per_second: 11.5733, train_label_loss: 0.2570, \n"
     ]
    },
    {
     "name": "stdout",
     "output_type": "stream",
     "text": [
      "epoch: 11, [batch: 700 / 7000], examples_per_second: 11659.7049, train_label_loss: 0.2885, \n"
     ]
    },
    {
     "name": "stdout",
     "output_type": "stream",
     "text": [
      "epoch: 11, [batch: 1400 / 7000], examples_per_second: 11721.8321, train_label_loss: 0.2458, \n"
     ]
    },
    {
     "name": "stdout",
     "output_type": "stream",
     "text": [
      "epoch: 11, [batch: 2100 / 7000], examples_per_second: 11716.9864, train_label_loss: 0.2982, \n"
     ]
    },
    {
     "name": "stdout",
     "output_type": "stream",
     "text": [
      "epoch: 11, [batch: 2800 / 7000], examples_per_second: 11730.6936, train_label_loss: 0.3289, \n"
     ]
    },
    {
     "name": "stdout",
     "output_type": "stream",
     "text": [
      "epoch: 11, [batch: 3500 / 7000], examples_per_second: 11824.6019, train_label_loss: 0.3505, \n"
     ]
    },
    {
     "name": "stdout",
     "output_type": "stream",
     "text": [
      "epoch: 11, [batch: 4200 / 7000], examples_per_second: 11737.5735, train_label_loss: 0.2317, \n"
     ]
    },
    {
     "name": "stdout",
     "output_type": "stream",
     "text": [
      "epoch: 11, [batch: 4900 / 7000], examples_per_second: 11727.9074, train_label_loss: 0.3043, \n"
     ]
    },
    {
     "name": "stdout",
     "output_type": "stream",
     "text": [
      "epoch: 11, [batch: 5600 / 7000], examples_per_second: 11715.7332, train_label_loss: 0.2412, \n"
     ]
    },
    {
     "name": "stdout",
     "output_type": "stream",
     "text": [
      "epoch: 11, [batch: 6300 / 7000], examples_per_second: 11703.6509, train_label_loss: 0.2517, \n"
     ]
    },
    {
     "name": "stdout",
     "output_type": "stream",
     "text": [
      "=============================================================\n",
      "epoch: 11, source_val_acc_label: 0.7863, source_val_label_loss: 0.6229, target_val_acc_label: 0.7863, target_val_label_loss: 0.6229, \n",
      "=============================================================\n"
     ]
    },
    {
     "name": "stdout",
     "output_type": "stream",
     "text": [
      "epoch: 12, [batch: 1 / 7000], examples_per_second: 12.1898, train_label_loss: 0.1016, \n"
     ]
    },
    {
     "name": "stdout",
     "output_type": "stream",
     "text": [
      "epoch: 12, [batch: 700 / 7000], examples_per_second: 10629.0262, train_label_loss: 0.2746, \n"
     ]
    },
    {
     "name": "stdout",
     "output_type": "stream",
     "text": [
      "epoch: 12, [batch: 1400 / 7000], examples_per_second: 10686.9432, train_label_loss: 0.3554, \n"
     ]
    },
    {
     "name": "stdout",
     "output_type": "stream",
     "text": [
      "epoch: 12, [batch: 2100 / 7000], examples_per_second: 10662.7392, train_label_loss: 0.3428, \n"
     ]
    },
    {
     "name": "stdout",
     "output_type": "stream",
     "text": [
      "epoch: 12, [batch: 2800 / 7000], examples_per_second: 10645.3189, train_label_loss: 0.2269, \n"
     ]
    },
    {
     "name": "stdout",
     "output_type": "stream",
     "text": [
      "epoch: 12, [batch: 3500 / 7000], examples_per_second: 10691.5536, train_label_loss: 0.2939, \n"
     ]
    },
    {
     "name": "stdout",
     "output_type": "stream",
     "text": [
      "epoch: 12, [batch: 4200 / 7000], examples_per_second: 10666.6033, train_label_loss: 0.2678, \n"
     ]
    },
    {
     "name": "stdout",
     "output_type": "stream",
     "text": [
      "epoch: 12, [batch: 4900 / 7000], examples_per_second: 10696.6012, train_label_loss: 0.3743, \n"
     ]
    },
    {
     "name": "stdout",
     "output_type": "stream",
     "text": [
      "epoch: 12, [batch: 5600 / 7000], examples_per_second: 10661.5661, train_label_loss: 0.2352, \n"
     ]
    },
    {
     "name": "stdout",
     "output_type": "stream",
     "text": [
      "epoch: 12, [batch: 6300 / 7000], examples_per_second: 10663.9182, train_label_loss: 0.4678, \n"
     ]
    },
    {
     "name": "stdout",
     "output_type": "stream",
     "text": [
      "=============================================================\n",
      "epoch: 12, source_val_acc_label: 0.7857, source_val_label_loss: 0.6164, target_val_acc_label: 0.7857, target_val_label_loss: 0.6164, \n",
      "=============================================================\n"
     ]
    },
    {
     "name": "stdout",
     "output_type": "stream",
     "text": [
      "epoch: 13, [batch: 1 / 7000], examples_per_second: 11.8775, train_label_loss: 0.3014, \n"
     ]
    },
    {
     "name": "stdout",
     "output_type": "stream",
     "text": [
      "epoch: 13, [batch: 700 / 7000], examples_per_second: 11662.0264, train_label_loss: 0.1774, \n"
     ]
    },
    {
     "name": "stdout",
     "output_type": "stream",
     "text": [
      "epoch: 13, [batch: 1400 / 7000], examples_per_second: 11651.2147, train_label_loss: 0.2192, \n"
     ]
    },
    {
     "name": "stdout",
     "output_type": "stream",
     "text": [
      "epoch: 13, [batch: 2100 / 7000], examples_per_second: 11659.9965, train_label_loss: 0.2163, \n"
     ]
    },
    {
     "name": "stdout",
     "output_type": "stream",
     "text": [
      "epoch: 13, [batch: 2800 / 7000], examples_per_second: 11759.3071, train_label_loss: 0.4701, \n"
     ]
    },
    {
     "name": "stdout",
     "output_type": "stream",
     "text": [
      "epoch: 13, [batch: 3500 / 7000], examples_per_second: 11744.8785, train_label_loss: 0.2603, \n"
     ]
    },
    {
     "name": "stdout",
     "output_type": "stream",
     "text": [
      "epoch: 13, [batch: 4200 / 7000], examples_per_second: 11690.7421, train_label_loss: 0.2326, \n"
     ]
    },
    {
     "name": "stdout",
     "output_type": "stream",
     "text": [
      "epoch: 13, [batch: 4900 / 7000], examples_per_second: 11685.4890, train_label_loss: 0.1876, \n"
     ]
    },
    {
     "name": "stdout",
     "output_type": "stream",
     "text": [
      "epoch: 13, [batch: 5600 / 7000], examples_per_second: 11711.2527, train_label_loss: 0.2425, \n"
     ]
    },
    {
     "name": "stdout",
     "output_type": "stream",
     "text": [
      "epoch: 13, [batch: 6300 / 7000], examples_per_second: 11662.7618, train_label_loss: 0.2391, \n"
     ]
    },
    {
     "name": "stdout",
     "output_type": "stream",
     "text": [
      "=============================================================\n",
      "epoch: 13, source_val_acc_label: 0.7789, source_val_label_loss: 0.6549, target_val_acc_label: 0.7789, target_val_label_loss: 0.6549, \n",
      "=============================================================\n"
     ]
    },
    {
     "name": "stdout",
     "output_type": "stream",
     "text": [
      "epoch: 14, [batch: 1 / 7000], examples_per_second: 13.2384, train_label_loss: 0.2115, \n"
     ]
    },
    {
     "name": "stdout",
     "output_type": "stream",
     "text": [
      "epoch: 14, [batch: 700 / 7000], examples_per_second: 11704.6401, train_label_loss: 0.2251, \n"
     ]
    },
    {
     "name": "stdout",
     "output_type": "stream",
     "text": [
      "epoch: 14, [batch: 1400 / 7000], examples_per_second: 11831.5239, train_label_loss: 0.3987, \n"
     ]
    },
    {
     "name": "stdout",
     "output_type": "stream",
     "text": [
      "epoch: 14, [batch: 2100 / 7000], examples_per_second: 11743.1569, train_label_loss: 0.2019, \n"
     ]
    },
    {
     "name": "stdout",
     "output_type": "stream",
     "text": [
      "epoch: 14, [batch: 2800 / 7000], examples_per_second: 11694.4506, train_label_loss: 0.2279, \n"
     ]
    },
    {
     "name": "stdout",
     "output_type": "stream",
     "text": [
      "epoch: 14, [batch: 3500 / 7000], examples_per_second: 11694.9143, train_label_loss: 0.2238, \n"
     ]
    },
    {
     "name": "stdout",
     "output_type": "stream",
     "text": [
      "epoch: 14, [batch: 4200 / 7000], examples_per_second: 11712.8978, train_label_loss: 0.2960, \n"
     ]
    },
    {
     "name": "stdout",
     "output_type": "stream",
     "text": [
      "epoch: 14, [batch: 4900 / 7000], examples_per_second: 11733.2346, train_label_loss: 0.2616, \n"
     ]
    },
    {
     "name": "stdout",
     "output_type": "stream",
     "text": [
      "epoch: 14, [batch: 5600 / 7000], examples_per_second: 11785.8922, train_label_loss: 0.3709, \n"
     ]
    },
    {
     "name": "stdout",
     "output_type": "stream",
     "text": [
      "epoch: 14, [batch: 6300 / 7000], examples_per_second: 11711.5389, train_label_loss: 0.2268, \n"
     ]
    },
    {
     "name": "stdout",
     "output_type": "stream",
     "text": [
      "=============================================================\n",
      "epoch: 14, source_val_acc_label: 0.7752, source_val_label_loss: 0.6828, target_val_acc_label: 0.7752, target_val_label_loss: 0.6828, \n",
      "=============================================================\n"
     ]
    },
    {
     "name": "stdout",
     "output_type": "stream",
     "text": [
      "Patience (3) exhausted\n"
     ]
    }
   ],
   "source": [
    "jig = Vanilla_Train_Eval_Test_Jig(\n",
    "    model=model,\n",
    "    path_to_best_model=p.BEST_MODEL_PATH,\n",
    "    device=p.device,\n",
    "    label_loss_object=torch.nn.NLLLoss(),\n",
    ")\n",
    "\n",
    "jig.train(\n",
    "    train_iterable=datasets.source.processed.train,\n",
    "    source_val_iterable=datasets.source.processed.val,\n",
    "    target_val_iterable=datasets.target.processed.val,\n",
    "    patience=p.patience,\n",
    "    num_epochs=p.n_epoch,\n",
    "    num_logs_per_epoch=p.NUM_LOGS_PER_EPOCH,\n",
    "    criteria_for_best=p.criteria_for_best\n",
    ")"
   ]
  },
  {
   "cell_type": "code",
   "execution_count": 14,
   "id": "4bc2ac17",
   "metadata": {
    "execution": {
     "iopub.execute_input": "2022-03-27T08:46:53.592299Z",
     "iopub.status.busy": "2022-03-27T08:46:53.591924Z",
     "iopub.status.idle": "2022-03-27T08:46:53.594093Z",
     "shell.execute_reply": "2022-03-27T08:46:53.594548Z"
    },
    "papermill": {
     "duration": 0.073344,
     "end_time": "2022-03-27T08:46:53.594692",
     "exception": false,
     "start_time": "2022-03-27T08:46:53.521348",
     "status": "completed"
    },
    "tags": []
   },
   "outputs": [],
   "source": [
    "total_experiment_time_secs = time.time() - start_time_secs"
   ]
  },
  {
   "cell_type": "code",
   "execution_count": 15,
   "id": "cae88f23",
   "metadata": {
    "execution": {
     "iopub.execute_input": "2022-03-27T08:46:53.719071Z",
     "iopub.status.busy": "2022-03-27T08:46:53.718194Z",
     "iopub.status.idle": "2022-03-27T08:48:38.965991Z",
     "shell.execute_reply": "2022-03-27T08:48:38.965559Z"
    },
    "papermill": {
     "duration": 105.314131,
     "end_time": "2022-03-27T08:48:38.966084",
     "exception": false,
     "start_time": "2022-03-27T08:46:53.651953",
     "status": "completed"
    },
    "tags": []
   },
   "outputs": [],
   "source": [
    "source_test_label_accuracy, source_test_label_loss = jig.test(datasets.source.processed.test)\n",
    "target_test_label_accuracy, target_test_label_loss = jig.test(datasets.target.processed.test)\n",
    "\n",
    "source_val_label_accuracy, source_val_label_loss = jig.test(datasets.source.processed.val)\n",
    "target_val_label_accuracy, target_val_label_loss = jig.test(datasets.target.processed.val)\n",
    "\n",
    "history = jig.get_history()\n",
    "\n",
    "total_epochs_trained = len(history[\"epoch_indices\"])\n",
    "\n",
    "val_dl = wrap_in_dataloader(p, Sequence_Aggregator((datasets.source.original.val, datasets.target.original.val)))\n",
    "\n",
    "confusion = confusion_by_domain_over_dataloader(model, p.device, val_dl, forward_uses_domain=False)\n",
    "per_domain_accuracy = per_domain_accuracy_from_confusion(confusion)\n",
    "\n",
    "# Add a key to per_domain_accuracy for if it was a source domain\n",
    "for domain, accuracy in per_domain_accuracy.items():\n",
    "    per_domain_accuracy[domain] = {\n",
    "        \"accuracy\": accuracy,\n",
    "        \"source?\": domain in p.domains_source\n",
    "    }\n",
    "\n",
    "# Do an independent accuracy assesment JUST TO BE SURE!\n",
    "# _source_test_label_accuracy = independent_accuracy_assesment(model, datasets.source.processed.test, p.device)\n",
    "# _target_test_label_accuracy = independent_accuracy_assesment(model, datasets.target.processed.test, p.device)\n",
    "# _source_val_label_accuracy = independent_accuracy_assesment(model, datasets.source.processed.val, p.device)\n",
    "# _target_val_label_accuracy = independent_accuracy_assesment(model, datasets.target.processed.val, p.device)\n",
    "\n",
    "# assert(_source_test_label_accuracy == source_test_label_accuracy)\n",
    "# assert(_target_test_label_accuracy == target_test_label_accuracy)\n",
    "# assert(_source_val_label_accuracy == source_val_label_accuracy)\n",
    "# assert(_target_val_label_accuracy == target_val_label_accuracy)\n",
    "\n",
    "###################################\n",
    "# Write out the results\n",
    "###################################\n",
    "\n",
    "experiment = {\n",
    "    \"experiment_name\": p.experiment_name,\n",
    "    \"parameters\": p,\n",
    "    \"results\": {\n",
    "        \"source_test_label_accuracy\": source_test_label_accuracy,\n",
    "        \"source_test_label_loss\": source_test_label_loss,\n",
    "        \"target_test_label_accuracy\": target_test_label_accuracy,\n",
    "        \"target_test_label_loss\": target_test_label_loss,\n",
    "        \"source_val_label_accuracy\": source_val_label_accuracy,\n",
    "        \"source_val_label_loss\": source_val_label_loss,\n",
    "        \"target_val_label_accuracy\": target_val_label_accuracy,\n",
    "        \"target_val_label_loss\": target_val_label_loss,\n",
    "        \"total_epochs_trained\": total_epochs_trained,\n",
    "        \"total_experiment_time_secs\": total_experiment_time_secs,\n",
    "        \"confusion\": confusion,\n",
    "        \"per_domain_accuracy\": per_domain_accuracy,\n",
    "    },\n",
    "    \"history\": history,\n",
    "    \"dataset_metrics\": get_dataset_metrics(datasets, \"cnn\"),\n",
    "}"
   ]
  },
  {
   "cell_type": "code",
   "execution_count": 16,
   "id": "74c318cf",
   "metadata": {
    "execution": {
     "iopub.execute_input": "2022-03-27T08:48:39.114514Z",
     "iopub.status.busy": "2022-03-27T08:48:39.106765Z",
     "iopub.status.idle": "2022-03-27T08:48:39.301040Z",
     "shell.execute_reply": "2022-03-27T08:48:39.300513Z"
    },
    "papermill": {
     "duration": 0.278255,
     "end_time": "2022-03-27T08:48:39.301178",
     "exception": false,
     "start_time": "2022-03-27T08:48:39.022923",
     "status": "completed"
    },
    "tags": []
   },
   "outputs": [
    {
     "data": {
      "text/plain": [
       "<AxesSubplot:title={'center':'Source Train Label Loss vs Source Val Label Loss'}, xlabel='Epoch'>"
      ]
     },
     "execution_count": 16,
     "metadata": {},
     "output_type": "execute_result"
    },
    {
     "data": {
      "image/png": "[encoded data removed]",
      "text/plain": [
       "<Figure size 1080x504 with 1 Axes>"
      ]
     },
     "metadata": {
      "needs_background": "light"
     },
     "output_type": "display_data"
    }
   ],
   "source": [
    "get_loss_curve(experiment)"
   ]
  },
  {
   "cell_type": "code",
   "execution_count": 17,
   "id": "59376601",
   "metadata": {
    "execution": {
     "iopub.execute_input": "2022-03-27T08:48:39.441269Z",
     "iopub.status.busy": "2022-03-27T08:48:39.426898Z",
     "iopub.status.idle": "2022-03-27T08:48:39.751887Z",
     "shell.execute_reply": "2022-03-27T08:48:39.752194Z"
    },
    "papermill": {
     "duration": 0.390505,
     "end_time": "2022-03-27T08:48:39.752315",
     "exception": false,
     "start_time": "2022-03-27T08:48:39.361810",
     "status": "completed"
    },
    "tags": []
   },
   "outputs": [
    {
     "data": {
      "text/plain": [
       "<AxesSubplot:title={'center':'Results'}>"
      ]
     },
     "execution_count": 17,
     "metadata": {},
     "output_type": "execute_result"
    },
    {
     "data": {
      "image/png": "[encoded data removed]",
      "text/plain": [
       "<Figure size 1080x504 with 1 Axes>"
      ]
     },
     "metadata": {
      "needs_background": "light"
     },
     "output_type": "display_data"
    }
   ],
   "source": [
    "get_results_table(experiment)"
   ]
  },
  {
   "cell_type": "code",
   "execution_count": 18,
   "id": "e80c5c98",
   "metadata": {
    "execution": {
     "iopub.execute_input": "2022-03-27T08:48:39.892864Z",
     "iopub.status.busy": "2022-03-27T08:48:39.892484Z",
     "iopub.status.idle": "2022-03-27T08:48:40.053033Z",
     "shell.execute_reply": "2022-03-27T08:48:40.052654Z"
    },
    "papermill": {
     "duration": 0.241056,
     "end_time": "2022-03-27T08:48:40.053121",
     "exception": false,
     "start_time": "2022-03-27T08:48:39.812065",
     "status": "completed"
    },
    "tags": []
   },
   "outputs": [
    {
     "data": {
      "text/plain": [
       "<AxesSubplot:title={'center':'Per Domain Accuracy'}, xlabel='domain'>"
      ]
     },
     "execution_count": 18,
     "metadata": {},
     "output_type": "execute_result"
    },
    {
     "data": {
      "image/png": "[encoded data removed]",
      "text/plain": [
       "<Figure size 1080x504 with 1 Axes>"
      ]
     },
     "metadata": {
      "needs_background": "light"
     },
     "output_type": "display_data"
    }
   ],
   "source": [
    "get_domain_accuracies(experiment)"
   ]
  },
  {
   "cell_type": "code",
   "execution_count": 19,
   "id": "086fdd10",
   "metadata": {
    "execution": {
     "iopub.execute_input": "2022-03-27T08:48:40.178186Z",
     "iopub.status.busy": "2022-03-27T08:48:40.177811Z",
     "iopub.status.idle": "2022-03-27T08:48:40.181713Z",
     "shell.execute_reply": "2022-03-27T08:48:40.181345Z"
    },
    "papermill": {
     "duration": 0.068,
     "end_time": "2022-03-27T08:48:40.181790",
     "exception": false,
     "start_time": "2022-03-27T08:48:40.113790",
     "status": "completed"
    },
    "tags": []
   },
   "outputs": [
    {
     "name": "stdout",
     "output_type": "stream",
     "text": [
      "Source Test Label Accuracy: 0.7883333333333333 Target Test Label Accuracy: 0.7883333333333333\n",
      "Source Val Label Accuracy: 0.7895208333333333 Target Val Label Accuracy: 0.7895208333333333\n"
     ]
    }
   ],
   "source": [
    "print(\"Source Test Label Accuracy:\", experiment[\"results\"][\"source_test_label_accuracy\"], \"Target Test Label Accuracy:\", experiment[\"results\"][\"target_test_label_accuracy\"])\n",
    "print(\"Source Val Label Accuracy:\", experiment[\"results\"][\"source_val_label_accuracy\"], \"Target Val Label Accuracy:\", experiment[\"results\"][\"target_val_label_accuracy\"])"
   ]
  },
  {
   "cell_type": "code",
   "execution_count": 20,
   "id": "9f450536",
   "metadata": {
    "execution": {
     "iopub.execute_input": "2022-03-27T08:48:40.310751Z",
     "iopub.status.busy": "2022-03-27T08:48:40.310385Z",
     "iopub.status.idle": "2022-03-27T08:48:40.314015Z",
     "shell.execute_reply": "2022-03-27T08:48:40.313689Z"
    },
    "papermill": {
     "duration": 0.067712,
     "end_time": "2022-03-27T08:48:40.314092",
     "exception": false,
     "start_time": "2022-03-27T08:48:40.246380",
     "status": "completed"
    },
    "tags": [
     "experiment_json"
    ]
   },
   "outputs": [
    {
     "data": {
      "text/plain": [
       "'{\"experiment_name\": \"cnn_2:oracle.run2\", \"parameters\": {\"experiment_name\": \"cnn_2:oracle.run2\", \"labels\": [\"3123D52\", \"3123D65\", \"3123D79\", \"3123D80\", \"3123D54\", \"3123D70\", \"3123D7B\", \"3123D89\", \"3123D58\", \"3123D76\", \"3123D7D\", \"3123EFE\", \"3123D64\", \"3123D78\", \"3123D7E\", \"3124E4A\"], \"domains_source\": [8, 32, 50, 14, 20, 26, 38, 44], \"domains_target\": [8, 32, 50, 14, 20, 26, 38, 44], \"pickle_name_source\": \"oracle.Run2_10kExamples_stratified_ds.2022A.pkl\", \"pickle_name_target\": \"oracle.Run2_10kExamples_stratified_ds.2022A.pkl\", \"device\": \"cuda\", \"lr\": 0.0001, \"batch_size\": 128, \"normalize_source\": false, \"normalize_target\": false, \"num_examples_per_domain_per_label_source\": -1, \"num_examples_per_domain_per_label_target\": -1, \"torch_default_dtype\": \"torch.float32\", \"n_epoch\": 50, \"patience\": 3, \"criteria_for_best\": \"target_accuracy\", \"x_net\": [{\"class\": \"nnReshape\", \"kargs\": {\"shape\": [-1, 1, 2, 256]}}, {\"class\": \"Conv2d\", \"kargs\": {\"in_channels\": 1, \"out_channels\": 256, \"kernel_size\": [1, 7], \"bias\": false, \"padding\": [0, 3]}}, {\"class\": \"ReLU\", \"kargs\": {\"inplace\": true}}, {\"class\": \"BatchNorm2d\", \"kargs\": {\"num_features\": 256}}, {\"class\": \"Conv2d\", \"kargs\": {\"in_channels\": 256, \"out_channels\": 80, \"kernel_size\": [2, 7], \"bias\": true, \"padding\": [0, 3]}}, {\"class\": \"ReLU\", \"kargs\": {\"inplace\": true}}, {\"class\": \"BatchNorm2d\", \"kargs\": {\"num_features\": 80}}, {\"class\": \"Flatten\", \"kargs\": {}}, {\"class\": \"Linear\", \"kargs\": {\"in_features\": 20480, \"out_features\": 256}}, {\"class\": \"ReLU\", \"kargs\": {\"inplace\": true}}, {\"class\": \"BatchNorm1d\", \"kargs\": {\"num_features\": 256}}, {\"class\": \"Linear\", \"kargs\": {\"in_features\": 256, \"out_features\": 16}}], \"NUM_LOGS_PER_EPOCH\": 10, \"BEST_MODEL_PATH\": \"./best_model.pth\", \"dataset_seed\": 7, \"seed\": 7}, \"results\": {\"source_test_label_accuracy\": 0.7883333333333333, \"source_test_label_loss\": 0.5950214003125827, \"target_test_label_accuracy\": 0.7883333333333333, \"target_test_label_loss\": 0.5950214012265206, \"source_val_label_accuracy\": 0.7895208333333333, \"source_val_label_loss\": 0.595477649708589, \"target_val_label_accuracy\": 0.7895208333333333, \"target_val_label_loss\": 0.5954776468276978, \"total_epochs_trained\": 14, \"total_experiment_time_secs\": 1344.863198041916, \"confusion\": {\"8\": {\"6\": {\"6\": 2484, \"4\": 174, \"8\": 156, \"14\": 152, \"7\": 26, \"11\": 6, \"1\": 2}, \"0\": {\"0\": 2988, \"14\": 12}, \"15\": {\"15\": 2746, \"12\": 192, \"1\": 14, \"4\": 26, \"8\": 14, \"3\": 2, \"5\": 6}, \"3\": {\"3\": 2068, \"10\": 822, \"0\": 44, \"4\": 58, \"12\": 2, \"15\": 6}, \"4\": {\"4\": 1508, \"7\": 974, \"6\": 376, \"14\": 68, \"11\": 22, \"8\": 24, \"1\": 10, \"13\": 8, \"10\": 8, \"12\": 2}, \"7\": {\"4\": 1238, \"7\": 1628, \"8\": 12, \"14\": 10, \"13\": 32, \"6\": 28, \"10\": 18, \"11\": 32, \"12\": 2}, \"11\": {\"8\": 704, \"11\": 2218, \"12\": 26, \"10\": 26, \"6\": 24, \"4\": 2}, \"2\": {\"2\": 2214, \"5\": 88, \"1\": 514, \"15\": 122, \"12\": 38, \"13\": 4, \"9\": 18, \"4\": 2}, \"14\": {\"14\": 2608, \"6\": 226, \"1\": 98, \"4\": 42, \"10\": 6, \"8\": 12, \"5\": 6, \"9\": 2}, \"8\": {\"11\": 278, \"8\": 2692, \"1\": 24, \"6\": 6}, \"1\": {\"1\": 2850, \"13\": 108, \"14\": 20, \"5\": 14, \"10\": 8}, \"5\": {\"5\": 2610, \"10\": 254, \"1\": 76, \"13\": 60}, \"12\": {\"12\": 2436, \"4\": 290, \"14\": 52, \"8\": 32, \"15\": 84, \"10\": 98, \"3\": 6, \"5\": 2}, \"9\": {\"9\": 2954, \"12\": 6, \"13\": 10, \"10\": 20, \"5\": 8, \"2\": 2}, \"13\": {\"13\": 2506, \"10\": 78, \"1\": 330, \"4\": 16, \"5\": 58, \"15\": 2, \"7\": 8, \"14\": 2}, \"10\": {\"10\": 1462, \"5\": 1094, \"13\": 370, \"1\": 68, \"4\": 4, \"7\": 2}}, \"50\": {\"6\": {\"5\": 1510, \"14\": 106, \"6\": 1312, \"8\": 6, \"15\": 60, \"4\": 6}, \"12\": {\"12\": 2508, \"9\": 400, \"4\": 8, \"14\": 28, \"5\": 12, \"15\": 38, \"2\": 4, \"11\": 2}, \"8\": {\"8\": 2976, \"13\": 20, \"0\": 2, \"1\": 2}, \"2\": {\"2\": 2714, \"9\": 180, \"0\": 76, \"12\": 30}, \"7\": {\"7\": 2750, \"14\": 160, \"2\": 32, \"4\": 52, \"5\": 6}, \"9\": {\"9\": 2854, \"0\": 20, \"12\": 36, \"5\": 80, \"4\": 8, \"15\": 2}, \"14\": {\"14\": 2676, \"9\": 312, \"2\": 2, \"6\": 8, \"15\": 2}, \"4\": {\"4\": 1584, \"14\": 268, \"5\": 600, \"7\": 514, \"2\": 18, \"8\": 12, \"6\": 4}, \"10\": {\"10\": 2804, \"0\": 128, \"13\": 58, \"1\": 4, \"12\": 6}, \"1\": {\"1\": 2718, \"13\": 10, \"15\": 214, \"11\": 22, \"6\": 2, \"5\": 34}, \"0\": {\"0\": 2556, \"2\": 284, \"12\": 50, \"10\": 100, \"9\": 6, \"1\": 4}, \"11\": {\"11\": 2906, \"15\": 64, \"5\": 8, \"9\": 8, \"2\": 10, \"14\": 2, \"12\": 2}, \"5\": {\"2\": 240, \"5\": 1698, \"14\": 352, \"4\": 396, \"7\": 252, \"6\": 56, \"8\": 6}, \"3\": {\"3\": 2984, \"2\": 10, \"14\": 4, \"7\": 2}, \"15\": {\"5\": 230, \"15\": 2032, \"6\": 106, \"8\": 148, \"14\": 264, \"0\": 20, \"4\": 196, \"11\": 4}, \"13\": {\"13\": 2938, \"5\": 6, \"10\": 38, \"1\": 6, \"0\": 2, \"14\": 4, \"8\": 4, \"12\": 2}}, \"14\": {\"11\": {\"11\": 2452, \"6\": 22, \"7\": 334, \"4\": 104, \"13\": 32, \"12\": 56}, \"5\": {\"5\": 2590, \"2\": 268, \"4\": 78, \"3\": 38, \"14\": 10, \"7\": 12, \"0\": 2, \"8\": 2}, \"2\": {\"14\": 224, \"2\": 2110, \"3\": 104, \"6\": 130, \"5\": 238, \"0\": 24, \"4\": 108, \"7\": 20, \"13\": 36, \"8\": 2, \"10\": 4}, \"1\": {\"1\": 2970, \"7\": 12, \"4\": 12, \"11\": 4, \"13\": 2}, \"15\": {\"15\": 2986, \"13\": 14}, \"13\": {\"13\": 1996, \"6\": 982, \"2\": 6, \"3\": 14, \"15\": 2}, \"9\": {\"9\": 2762, \"11\": 126, \"0\": 58, \"12\": 40, \"1\": 8, \"8\": 4, \"15\": 2}, \"10\": {\"3\": 860, \"10\": 1666, \"4\": 334, \"14\": 14, \"7\": 16, \"0\": 34, \"15\": 20, \"8\": 50, \"12\": 6}, \"3\": {\"2\": 42, \"3\": 2912, \"5\": 18, \"6\": 12, \"7\": 12, \"4\": 4}, \"7\": {\"7\": 2958, \"5\": 38, \"3\": 2, \"1\": 2}, \"4\": {\"4\": 2696, \"2\": 82, \"5\": 186, \"7\": 4, \"14\": 30, \"11\": 2}, \"14\": {\"14\": 2720, \"6\": 66, \"2\": 124, \"0\": 38, \"5\": 4, \"10\": 4, \"4\": 36, \"3\": 4, \"13\": 4}, \"8\": {\"11\": 10, \"8\": 2982, \"9\": 8}, \"12\": {\"12\": 2028, \"7\": 74, \"2\": 244, \"1\": 10, \"13\": 46, \"0\": 230, \"9\": 88, \"8\": 46, \"6\": 80, \"15\": 22, \"5\": 20, \"14\": 40, \"11\": 46, \"3\": 18, \"4\": 6, \"10\": 2}, \"0\": {\"14\": 44, \"0\": 2764, \"3\": 18, \"2\": 10, \"8\": 96, \"4\": 14, \"12\": 2, \"10\": 36, \"5\": 14, \"9\": 2}, \"6\": {\"6\": 2098, \"13\": 816, \"3\": 62, \"2\": 22, \"7\": 2}}, \"44\": {\"15\": {\"15\": 2742, \"6\": 34, \"14\": 74, \"11\": 46, \"5\": 46, \"0\": 20, \"8\": 14, \"12\": 20, \"4\": 2, \"1\": 2}, \"0\": {\"0\": 2436, \"8\": 486, \"15\": 40, \"2\": 2, \"6\": 4, \"1\": 6, \"5\": 26}, \"9\": {\"7\": 940, \"9\": 1756, \"0\": 186, \"6\": 64, \"2\": 10, \"13\": 14, \"5\": 22, \"3\": 2, \"4\": 4, \"11\": 2}, \"5\": {\"15\": 46, \"5\": 2020, \"6\": 876, \"14\": 38, \"4\": 6, \"8\": 10, \"0\": 2, \"2\": 2}, \"4\": {\"14\": 490, \"4\": 1882, \"15\": 568, \"0\": 42, \"8\": 8, \"5\": 4, \"6\": 4, \"9\": 2}, \"11\": {\"11\": 3000}, \"13\": {\"13\": 2600, \"10\": 174, \"3\": 10, \"7\": 64, \"4\": 36, \"15\": 14, \"6\": 22, \"0\": 74, \"14\": 4, \"8\": 2}, \"12\": {\"3\": 1200, \"12\": 1734, \"15\": 2, \"4\": 12, \"8\": 28, \"13\": 8, \"7\": 2, \"0\": 6, \"1\": 6, \"11\": 2}, \"7\": {\"7\": 2132, \"9\": 754, \"6\": 46, \"0\": 60, \"5\": 4, \"13\": 4}, \"2\": {\"2\": 2848, \"5\": 84, \"8\": 10, \"11\": 30, \"1\": 10, \"15\": 18}, \"8\": {\"8\": 1860, \"0\": 898, \"6\": 38, \"5\": 100, \"15\": 96, \"2\": 4, \"14\": 2, \"12\": 2}, \"3\": {\"4\": 566, \"3\": 1790, \"0\": 146, \"7\": 108, \"12\": 188, \"11\": 122, \"8\": 44, \"2\": 18, \"13\": 14, \"1\": 4}, \"1\": {\"1\": 2778, \"2\": 52, \"8\": 28, \"5\": 80, \"7\": 60, \"0\": 2}, \"10\": {\"10\": 2970, \"7\": 28, \"3\": 2}, \"14\": {\"14\": 2502, \"15\": 166, \"4\": 182, \"5\": 88, \"6\": 42, \"8\": 18, \"0\": 2}, \"6\": {\"13\": 222, \"6\": 2714, \"0\": 32, \"7\": 30, \"9\": 2}}, \"26\": {\"7\": {\"7\": 1686, \"3\": 450, \"10\": 30, \"2\": 370, \"8\": 242, \"9\": 108, \"15\": 16, \"4\": 46, \"6\": 4, \"13\": 34, \"5\": 4, \"0\": 10}, \"8\": {\"8\": 1346, \"0\": 440, \"9\": 174, \"14\": 44, \"2\": 314, \"6\": 34, \"13\": 20, \"10\": 374, \"7\": 168, \"15\": 70, \"5\": 8, \"3\": 6, \"4\": 2}, \"9\": {\"9\": 1898, \"8\": 368, \"0\": 18, \"13\": 238, \"2\": 132, \"7\": 196, \"6\": 58, \"10\": 42, \"15\": 36, \"3\": 6, \"12\": 2, \"5\": 6}, \"11\": {\"11\": 2902, \"12\": 28, \"6\": 70}, \"15\": {\"2\": 244, \"15\": 2354, \"0\": 150, \"8\": 56, \"9\": 36, \"3\": 32, \"5\": 18, \"7\": 40, \"6\": 34, \"14\": 16, \"10\": 20}, \"1\": {\"1\": 2676, \"5\": 4, \"14\": 198, \"6\": 18, \"0\": 46, \"10\": 58}, \"4\": {\"4\": 2516, \"10\": 86, \"3\": 352, \"6\": 14, \"2\": 4, \"14\": 12, \"7\": 6, \"13\": 4, \"0\": 2, \"8\": 4}, \"12\": {\"12\": 3000}, \"5\": {\"6\": 322, \"5\": 2576, \"14\": 24, \"2\": 2, \"1\": 10, \"15\": 40, \"13\": 6, \"11\": 6, \"10\": 2, \"9\": 10, \"0\": 2}, \"10\": {\"10\": 1226, \"14\": 312, \"0\": 1034, \"6\": 106, \"1\": 130, \"8\": 104, \"12\": 22, \"15\": 38, \"9\": 6, \"2\": 14, \"5\": 4, \"3\": 2, \"7\": 2}, \"13\": {\"13\": 2302, \"8\": 64, \"9\": 450, \"7\": 132, \"3\": 8, \"2\": 34, \"6\": 2, \"10\": 2, \"5\": 6}, \"6\": {\"6\": 2568, \"5\": 238, \"10\": 80, \"14\": 34, \"0\": 14, \"1\": 42, \"12\": 16, \"9\": 8}, \"14\": {\"14\": 1838, \"10\": 200, \"0\": 526, \"6\": 38, \"1\": 384, \"5\": 8, \"8\": 4, \"15\": 2}, \"3\": {\"2\": 116, \"3\": 2148, \"7\": 654, \"4\": 40, \"8\": 10, \"9\": 4, \"13\": 4, \"0\": 6, \"10\": 10, \"6\": 6, \"14\": 2}, \"2\": {\"8\": 520, \"2\": 928, \"7\": 722, \"3\": 220, \"9\": 120, \"10\": 48, \"15\": 222, \"0\": 138, \"13\": 44, \"14\": 12, \"5\": 6, \"4\": 2, \"6\": 18}, \"0\": {\"0\": 1750, \"10\": 512, \"14\": 484, \"8\": 108, \"2\": 8, \"1\": 42, \"15\": 46, \"6\": 46, \"9\": 4}}, \"20\": {\"12\": {\"12\": 2098, \"9\": 142, \"4\": 202, \"3\": 200, \"7\": 130, \"15\": 62, \"13\": 32, \"10\": 4, \"2\": 94, \"5\": 30, \"1\": 4, \"11\": 2}, \"0\": {\"0\": 2652, \"1\": 128, \"12\": 30, \"3\": 42, \"15\": 66, \"5\": 38, \"2\": 10, \"4\": 2, \"10\": 10, \"9\": 14, \"8\": 8}, \"9\": {\"9\": 1038, \"2\": 762, \"3\": 356, \"4\": 106, \"1\": 198, \"12\": 130, \"15\": 158, \"5\": 234, \"7\": 16, \"13\": 2}, \"7\": {\"12\": 92, \"7\": 2288, \"3\": 206, \"8\": 2, \"5\": 52, \"4\": 148, \"2\": 32, \"6\": 76, \"9\": 12, \"10\": 84, \"11\": 6, \"1\": 2}, \"11\": {\"0\": 104, \"11\": 2748, \"9\": 70, \"8\": 20, \"5\": 22, \"2\": 6, \"4\": 18, \"1\": 8, \"3\": 2, \"13\": 2}, \"5\": {\"7\": 70, \"5\": 1652, \"12\": 122, \"15\": 90, \"4\": 208, \"3\": 324, \"2\": 254, \"8\": 10, \"0\": 26, \"1\": 116, \"9\": 126, \"11\": 2}, \"6\": {\"6\": 2788, \"10\": 162, \"7\": 44, \"8\": 2, \"12\": 2, \"14\": 2}, \"4\": {\"4\": 1566, \"12\": 1176, \"3\": 80, \"15\": 42, \"10\": 38, \"2\": 4, \"7\": 46, \"1\": 6, \"5\": 28, \"8\": 10, \"9\": 4}, \"13\": {\"9\": 72, \"13\": 2184, \"2\": 72, \"15\": 304, \"12\": 304, \"11\": 46, \"5\": 6, \"3\": 10, \"7\": 2}, \"15\": {\"5\": 278, \"15\": 1182, \"2\": 684, \"9\": 344, \"12\": 212, \"13\": 100, \"1\": 84, \"3\": 86, \"7\": 16, \"4\": 12, \"11\": 2}, \"1\": {\"1\": 1740, \"2\": 774, \"0\": 44, \"5\": 160, \"9\": 172, \"15\": 58, \"3\": 20, \"12\": 16, \"4\": 14, \"10\": 2}, \"2\": {\"9\": 662, \"2\": 950, \"12\": 112, \"4\": 122, \"3\": 326, \"5\": 406, \"15\": 196, \"1\": 176, \"13\": 2, \"7\": 40, \"10\": 4, \"11\": 4}, \"10\": {\"10\": 2672, \"7\": 56, \"4\": 28, \"6\": 94, \"12\": 142, \"3\": 6, \"14\": 2}, \"8\": {\"8\": 2382, \"4\": 40, \"14\": 432, \"12\": 40, \"3\": 10, \"0\": 54, \"15\": 8, \"10\": 8, \"5\": 20, \"2\": 6}, \"14\": {\"14\": 2738, \"8\": 216, \"12\": 36, \"10\": 8, \"4\": 2}, \"3\": {\"3\": 1188, \"5\": 382, \"15\": 44, \"9\": 226, \"4\": 374, \"7\": 310, \"2\": 168, \"12\": 278, \"10\": 16, \"1\": 12, \"8\": 2}}, \"32\": {\"2\": {\"2\": 2714, \"14\": 198, \"11\": 18, \"0\": 40, \"5\": 8, \"4\": 2, \"7\": 18, \"6\": 2}, \"10\": {\"10\": 2996, \"1\": 2, \"12\": 2}, \"8\": {\"8\": 2344, \"2\": 94, \"0\": 468, \"1\": 50, \"5\": 8, \"12\": 6, \"3\": 6, \"11\": 4, \"4\": 6, \"7\": 4, \"15\": 6, \"14\": 4}, \"13\": {\"13\": 2620, \"4\": 134, \"11\": 182, \"3\": 56, \"12\": 4, \"15\": 2, \"0\": 2}, \"6\": {\"6\": 2718, \"11\": 240, \"12\": 42}, \"12\": {\"12\": 2954, \"0\": 4, \"10\": 26, \"6\": 8, \"1\": 2, \"9\": 2, \"11\": 4}, \"11\": {\"11\": 2414, \"4\": 208, \"0\": 70, \"13\": 242, \"3\": 36, \"7\": 16, \"14\": 6, \"2\": 4, \"15\": 2, \"12\": 2}, \"7\": {\"2\": 420, \"7\": 2078, \"3\": 154, \"1\": 98, \"0\": 140, \"12\": 16, \"8\": 12, \"5\": 36, \"11\": 20, \"4\": 24, \"14\": 2}, \"4\": {\"4\": 2168, \"13\": 258, \"0\": 108, \"3\": 112, \"11\": 328, \"14\": 10, \"2\": 2, \"8\": 12, \"15\": 2}, \"3\": {\"3\": 2496, \"13\": 394, \"12\": 84, \"15\": 8, \"11\": 4, \"8\": 8, \"4\": 6}, \"9\": {\"9\": 2398, \"6\": 60, \"2\": 166, \"14\": 360, \"15\": 6, \"11\": 6, \"1\": 2, \"12\": 2}, \"1\": {\"1\": 2950, \"10\": 10, \"8\": 40}, \"0\": {\"8\": 104, \"14\": 140, \"0\": 2124, \"4\": 110, \"2\": 174, \"11\": 272, \"7\": 36, \"1\": 6, \"6\": 6, \"3\": 14, \"5\": 14}, \"15\": {\"15\": 2902, \"2\": 44, \"11\": 10, \"8\": 34, \"5\": 8, \"9\": 2}, \"14\": {\"14\": 2502, \"2\": 160, \"6\": 220, \"11\": 64, \"0\": 38, \"5\": 14, \"7\": 2}, \"5\": {\"5\": 2600, \"9\": 192, \"2\": 104, \"1\": 8, \"11\": 42, \"7\": 18, \"12\": 24, \"14\": 10, \"8\": 2}}, \"38\": {\"2\": {\"5\": 208, \"2\": 2490, \"7\": 118, \"14\": 170, \"4\": 6, \"3\": 2, \"8\": 4, \"6\": 2}, \"3\": {\"13\": 790, \"3\": 2080, \"10\": 118, \"0\": 10, \"11\": 2}, \"5\": {\"5\": 2408, \"15\": 134, \"8\": 352, \"11\": 16, \"7\": 10, \"6\": 22, \"4\": 32, \"1\": 6, \"14\": 18, \"0\": 2}, \"6\": {\"6\": 2760, \"14\": 186, \"9\": 16, \"15\": 24, \"11\": 8, \"2\": 6}, \"1\": {\"1\": 2842, \"15\": 116, \"6\": 14, \"9\": 2, \"2\": 6, \"0\": 18, \"11\": 2}, \"11\": {\"11\": 3000}, \"15\": {\"1\": 810, \"15\": 2020, \"0\": 4, \"6\": 40, \"11\": 86, \"9\": 26, \"10\": 8, \"12\": 2, \"5\": 4}, \"4\": {\"4\": 2950, \"14\": 40, \"10\": 4, \"7\": 4, \"13\": 2}, \"14\": {\"14\": 2100, \"7\": 540, \"5\": 110, \"2\": 176, \"4\": 56, \"12\": 4, \"3\": 4, \"6\": 8, \"13\": 2}, \"0\": {\"0\": 2800, \"6\": 6, \"7\": 54, \"15\": 38, \"13\": 52, \"4\": 44, \"8\": 2, \"9\": 2, \"14\": 2}, \"10\": {\"10\": 2722, \"13\": 252, \"7\": 6, \"3\": 18, \"4\": 2}, \"12\": {\"12\": 2868, \"14\": 120, \"6\": 4, \"5\": 4, \"13\": 4}, \"8\": {\"8\": 1126, \"5\": 942, \"7\": 30, \"15\": 414, \"14\": 282, \"4\": 168, \"6\": 30, \"0\": 8}, \"7\": {\"0\": 48, \"7\": 2796, \"4\": 80, \"14\": 30, \"8\": 20, \"13\": 20, \"15\": 4, \"5\": 2}, \"9\": {\"9\": 2760, \"11\": 80, \"12\": 78, \"15\": 54, \"8\": 4, \"14\": 20, \"5\": 2, \"4\": 2}, \"13\": {\"13\": 2460, \"3\": 404, \"10\": 136}}}, \"per_domain_accuracy\": {\"8\": {\"accuracy\": 0.7910833333333334, \"source?\": true}, \"50\": {\"accuracy\": 0.8335416666666666, \"source?\": true}, \"14\": {\"accuracy\": 0.8477083333333333, \"source?\": true}, \"44\": {\"accuracy\": 0.78675, \"source?\": true}, \"26\": {\"accuracy\": 0.702375, \"source?\": true}, \"20\": {\"accuracy\": 0.663875, \"source?\": true}, \"32\": {\"accuracy\": 0.8537083333333333, \"source?\": true}, \"38\": {\"accuracy\": 0.837125, \"source?\": true}}}, \"history\": {\"epoch_indices\": [1, 2, 3, 4, 5, 6, 7, 8, 9, 10, 11, 12, 13, 14], \"train_label_loss\": [1.9603184426341738, 1.1248613254172461, 0.8461181359887123, 0.6921067300055708, 0.5865909891383988, 0.5128994811028242, 0.45759703899068493, 0.4117037290079253, 0.3719662681392261, 0.3363542807251215, 0.3104294362217188, 0.2876890544199518, 0.26480021286649363, 0.24716951986615146], \"source_val_label_loss\": [1.2102848089933396, 0.9152857548793157, 0.685342756529649, 0.6609091898202896, 0.6176449321707089, 0.6033537011742592, 0.6588847722013791, 0.6549589874347052, 0.601981260339419, 0.5954776462316513, 0.622870961467425, 0.6164012047449747, 0.6549242768486341, 0.6828427774906158], \"target_val_label_loss\": [1.2102848056554794, 0.9152857542435329, 0.6853427547812462, 0.6609091870586077, 0.6176449339787166, 0.6033537054856618, 0.6588847715059917, 0.6549589870373408, 0.601981261352698, 0.59547764758269, 0.6228709647655487, 0.616401204864184, 0.6549242775638898, 0.6828427774508794], \"source_val_acc_label\": [0.6054791666666667, 0.6773854166666666, 0.7642291666666666, 0.764984375, 0.7720364583333333, 0.7800364583333333, 0.7581614583333334, 0.7789791666666667, 0.78103125, 0.7895208333333333, 0.7862708333333334, 0.7856927083333334, 0.77890625, 0.7751875], \"target_val_acc_label\": [0.6054791666666667, 0.6773854166666666, 0.7642291666666666, 0.764984375, 0.7720364583333333, 0.7800364583333333, 0.7581614583333334, 0.7789791666666667, 0.78103125, 0.7895208333333333, 0.7862708333333334, 0.7856927083333334, 0.77890625, 0.7751875]}, \"dataset_metrics\": {\"source\": {\"train\": {\"n_unique_x\": 896000, \"n_unique_y\": 16, \"n_batch/episode\": 7000}, \"val\": {\"n_unique_x\": 192000, \"n_unique_y\": 16, \"n_batch/episode\": 1500}, \"test\": {\"n_unique_x\": 192000, \"n_unique_y\": 16, \"n_batch/episode\": 1500}}, \"target\": {\"train\": {\"n_unique_x\": 896000, \"n_unique_y\": 16, \"n_batch/episode\": 7000}, \"val\": {\"n_unique_x\": 192000, \"n_unique_y\": 16, \"n_batch/episode\": 1500}, \"test\": {\"n_unique_x\": 192000, \"n_unique_y\": 16, \"n_batch/episode\": 1500}}}}'"
      ]
     },
     "execution_count": 20,
     "metadata": {},
     "output_type": "execute_result"
    }
   ],
   "source": [
    "json.dumps(experiment)"
   ]
  }
 ],
 "metadata": {
  "celltoolbar": "Tags",
  "kernelspec": {
   "display_name": "Python 3 (ipykernel)",
   "language": "python",
   "name": "python3"
  },
  "language_info": {
   "codemirror_mode": {
    "name": "ipython",
    "version": 3
   },
   "file_extension": ".py",
   "mimetype": "text/x-python",
   "name": "python",
   "nbconvert_exporter": "python",
   "pygments_lexer": "ipython3",
   "version": "3.8.12"
  },
  "papermill": {
   "default_parameters": {},
   "duration": 1458.610196,
   "end_time": "2022-03-27T08:48:44.099022",
   "environment_variables": {},
   "exception": null,
   "input_path": "/root/csc500-main/csc500-notebooks/templates/cnn_template.ipynb",
   "output_path": "trial.ipynb",
   "parameters": {
    "parameters": {
     "BEST_MODEL_PATH": "./best_model.pth",
     "NUM_LOGS_PER_EPOCH": 10,
     "batch_size": 128,
     "criteria_for_best": "target_accuracy",
     "dataset_seed": 7,
     "device": "cuda",
     "domains_source": [
      8,
      32,
      50,
      14,
      20,
      26,
      38,
      44
     ],
     "domains_target": [
      8,
      32,
      50,
      14,
      20,
      26,
      38,
      44
     ],
     "experiment_name": "cnn_2:oracle.run2",
     "labels": [
      "3123D52",
      "3123D65",
      "3123D79",
      "3123D80",
      "3123D54",
      "3123D70",
      "3123D7B",
      "3123D89",
      "3123D58",
      "3123D76",
      "3123D7D",
      "3123EFE",
      "3123D64",
      "3123D78",
      "3123D7E",
      "3124E4A"
     ],
     "lr": 0.0001,
     "n_epoch": 50,
     "normalize_source": false,
     "normalize_target": false,
     "num_examples_per_domain_per_label_source": -1,
     "num_examples_per_domain_per_label_target": -1,
     "patience": 3,
     "pickle_name_source": "oracle.Run2_10kExamples_stratified_ds.2022A.pkl",
     "pickle_name_target": "oracle.Run2_10kExamples_stratified_ds.2022A.pkl",
     "seed": 7,
     "torch_default_dtype": "torch.float32",
     "x_net": [
      {
       "class": "nnReshape",
       "kargs": {
        "shape": [
         -1,
         1,
         2,
         256
        ]
       }
      },
      {
       "class": "Conv2d",
       "kargs": {
        "bias": false,
        "in_channels": 1,
        "kernel_size": [
         1,
         7
        ],
        "out_channels": 256,
        "padding": [
         0,
         3
        ]
       }
      },
      {
       "class": "ReLU",
       "kargs": {
        "inplace": true
       }
      },
      {
       "class": "BatchNorm2d",
       "kargs": {
        "num_features": 256
       }
      },
      {
       "class": "Conv2d",
       "kargs": {
        "bias": true,
        "in_channels": 256,
        "kernel_size": [
         2,
         7
        ],
        "out_channels": 80,
        "padding": [
         0,
         3
        ]
       }
      },
      {
       "class": "ReLU",
       "kargs": {
        "inplace": true
       }
      },
      {
       "class": "BatchNorm2d",
       "kargs": {
        "num_features": 80
       }
      },
      {
       "class": "Flatten",
       "kargs": {}
      },
      {
       "class": "Linear",
       "kargs": {
        "in_features": 20480,
        "out_features": 256
       }
      },
      {
       "class": "ReLU",
       "kargs": {
        "inplace": true
       }
      },
      {
       "class": "BatchNorm1d",
       "kargs": {
        "num_features": 256
       }
      },
      {
       "class": "Linear",
       "kargs": {
        "in_features": 256,
        "out_features": 16
       }
      }
     ]
    }
   },
   "start_time": "2022-03-27T08:24:25.488826",
   "version": "2.3.4"
  }
 },
 "nbformat": 4,
 "nbformat_minor": 5
}