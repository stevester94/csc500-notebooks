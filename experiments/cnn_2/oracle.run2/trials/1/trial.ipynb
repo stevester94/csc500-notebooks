{
 "cells": [
  {
   "cell_type": "code",
   "execution_count": 1,
   "id": "2324682e",
   "metadata": {
    "execution": {
     "iopub.execute_input": "2022-03-27T04:38:06.144713Z",
     "iopub.status.busy": "2022-03-27T04:38:06.143824Z",
     "iopub.status.idle": "2022-03-27T04:38:07.812036Z",
     "shell.execute_reply": "2022-03-27T04:38:07.811077Z"
    },
    "papermill": {
     "duration": 1.700196,
     "end_time": "2022-03-27T04:38:07.812224",
     "exception": false,
     "start_time": "2022-03-27T04:38:06.112028",
     "status": "completed"
    },
    "tags": []
   },
   "outputs": [],
   "source": [
    "import os, json, sys, time, random\n",
    "import numpy as np\n",
    "import torch\n",
    "from  easydict import EasyDict\n",
    "from math import floor\n",
    "from easydict import EasyDict\n",
    "\n",
    "from steves_utils.vanilla_train_eval_test_jig import  Vanilla_Train_Eval_Test_Jig\n",
    "\n",
    "from steves_utils.torch_utils import get_dataset_metrics, independent_accuracy_assesment\n",
    "from steves_models.configurable_vanilla import Configurable_Vanilla\n",
    "from steves_utils.torch_sequential_builder import build_sequential\n",
    "from steves_utils.lazy_map import Lazy_Map\n",
    "from steves_utils.sequence_aggregator import Sequence_Aggregator\n",
    "\n",
    "from steves_utils.stratified_dataset.traditional_accessor import Traditional_Accessor_Factory\n",
    "\n",
    "from steves_utils.cnn_do_report import (\n",
    "    get_loss_curve,\n",
    "    get_results_table,\n",
    "    get_parameters_table,\n",
    "    get_domain_accuracies,\n",
    ")\n",
    "\n",
    "from steves_utils.torch_utils import (\n",
    "    confusion_by_domain_over_dataloader,\n",
    "    independent_accuracy_assesment\n",
    ")\n",
    "\n",
    "from steves_utils.utils_v2 import (\n",
    "    per_domain_accuracy_from_confusion,\n",
    "    get_datasets_base_path\n",
    ")\n",
    "\n",
    "# from steves_utils.ptn_do_report import TBD"
   ]
  },
  {
   "cell_type": "code",
   "execution_count": 2,
   "id": "1b29e3fe",
   "metadata": {
    "execution": {
     "iopub.execute_input": "2022-03-27T04:38:07.851136Z",
     "iopub.status.busy": "2022-03-27T04:38:07.850474Z",
     "iopub.status.idle": "2022-03-27T04:38:07.852644Z",
     "shell.execute_reply": "2022-03-27T04:38:07.853177Z"
    },
    "papermill": {
     "duration": 0.022916,
     "end_time": "2022-03-27T04:38:07.853331",
     "exception": false,
     "start_time": "2022-03-27T04:38:07.830415",
     "status": "completed"
    },
    "tags": []
   },
   "outputs": [],
   "source": [
    "required_parameters = {\n",
    "    \"experiment_name\",\n",
    "    \"lr\",\n",
    "    \"device\",\n",
    "    \"dataset_seed\",\n",
    "    \"seed\",\n",
    "    \"labels\",\n",
    "    \"domains_target\",\n",
    "    \"domains_source\",\n",
    "    \"num_examples_per_domain_per_label_source\",\n",
    "    \"num_examples_per_domain_per_label_target\",\n",
    "    \"batch_size\",\n",
    "    \"n_epoch\",\n",
    "    \"patience\",\n",
    "    \"criteria_for_best\",\n",
    "    \"normalize_source\",\n",
    "    \"normalize_target\",\n",
    "    \"x_net\",\n",
    "    \"NUM_LOGS_PER_EPOCH\",\n",
    "    \"BEST_MODEL_PATH\",\n",
    "    \"pickle_name_source\",\n",
    "    \"pickle_name_target\",\n",
    "    \"torch_default_dtype\",\n",
    "}"
   ]
  },
  {
   "cell_type": "code",
   "execution_count": 3,
   "id": "670b5fb8",
   "metadata": {
    "execution": {
     "iopub.execute_input": "2022-03-27T04:38:07.889722Z",
     "iopub.status.busy": "2022-03-27T04:38:07.889305Z",
     "iopub.status.idle": "2022-03-27T04:38:07.909208Z",
     "shell.execute_reply": "2022-03-27T04:38:07.908463Z"
    },
    "papermill": {
     "duration": 0.036699,
     "end_time": "2022-03-27T04:38:07.909379",
     "exception": false,
     "start_time": "2022-03-27T04:38:07.872680",
     "status": "completed"
    },
    "tags": [
     "parameters"
    ]
   },
   "outputs": [],
   "source": [
    "from steves_utils.ORACLE.utils_v2 import (\n",
    "    ALL_SERIAL_NUMBERS,\n",
    "    ALL_DISTANCES_FEET_NARROWED,\n",
    ")\n",
    "\n",
    "standalone_parameters = {}\n",
    "standalone_parameters[\"experiment_name\"] = \"MANUAL CORES CNN\"\n",
    "standalone_parameters[\"lr\"] = 0.0001\n",
    "standalone_parameters[\"device\"] = \"cuda\"\n",
    "\n",
    "standalone_parameters[\"dataset_seed\"] = 1337\n",
    "standalone_parameters[\"seed\"] = 1337\n",
    "standalone_parameters[\"labels\"] = ALL_SERIAL_NUMBERS\n",
    "\n",
    "standalone_parameters[\"domains_source\"] = [8,32,50]\n",
    "standalone_parameters[\"domains_target\"] = [14,20,26,38,44,]\n",
    "\n",
    "standalone_parameters[\"num_examples_per_domain_per_label_source\"]=-1\n",
    "standalone_parameters[\"num_examples_per_domain_per_label_target\"]=-1\n",
    "\n",
    "standalone_parameters[\"pickle_name_source\"] = \"oracle.Run1_framed_2000Examples_stratified_ds.2022A.pkl\"\n",
    "standalone_parameters[\"pickle_name_target\"] = \"oracle.Run2_framed_2000Examples_stratified_ds.2022A.pkl\"\n",
    "\n",
    "standalone_parameters[\"torch_default_dtype\"] = \"torch.float32\" \n",
    "\n",
    "standalone_parameters[\"batch_size\"]=128\n",
    "\n",
    "standalone_parameters[\"n_epoch\"] = 3\n",
    "\n",
    "standalone_parameters[\"patience\"] = 10\n",
    "\n",
    "standalone_parameters[\"criteria_for_best\"] = \"target_accuracy\"\n",
    "standalone_parameters[\"normalize_source\"] = False\n",
    "standalone_parameters[\"normalize_target\"] = False\n",
    "\n",
    "standalone_parameters[\"x_net\"] =     [\n",
    "    {\"class\": \"nnReshape\", \"kargs\": {\"shape\":[-1, 1, 2, 256]}},\n",
    "    {\"class\": \"Conv2d\", \"kargs\": { \"in_channels\":1, \"out_channels\":256, \"kernel_size\":(1,7), \"bias\":False, \"padding\":(0,3), },},\n",
    "    {\"class\": \"ReLU\", \"kargs\": {\"inplace\": True}},\n",
    "    {\"class\": \"BatchNorm2d\", \"kargs\": {\"num_features\":256}},\n",
    "\n",
    "    {\"class\": \"Conv2d\", \"kargs\": { \"in_channels\":256, \"out_channels\":80, \"kernel_size\":(2,7), \"bias\":True, \"padding\":(0,3), },},\n",
    "    {\"class\": \"ReLU\", \"kargs\": {\"inplace\": True}},\n",
    "    {\"class\": \"BatchNorm2d\", \"kargs\": {\"num_features\":80}},\n",
    "    {\"class\": \"Flatten\", \"kargs\": {}},\n",
    "\n",
    "    {\"class\": \"Linear\", \"kargs\": {\"in_features\": 80*256, \"out_features\": 256}}, # 80 units per IQ pair\n",
    "    {\"class\": \"ReLU\", \"kargs\": {\"inplace\": True}},\n",
    "    {\"class\": \"BatchNorm1d\", \"kargs\": {\"num_features\":256}},\n",
    "\n",
    "    {\"class\": \"Linear\", \"kargs\": {\"in_features\": 256, \"out_features\": len(standalone_parameters[\"labels\"])}},\n",
    "]\n",
    "\n",
    "standalone_parameters[\"NUM_LOGS_PER_EPOCH\"] = 10\n",
    "standalone_parameters[\"BEST_MODEL_PATH\"] = \"./best_model.pth\""
   ]
  },
  {
   "cell_type": "code",
   "execution_count": 4,
   "id": "1280dd79",
   "metadata": {
    "execution": {
     "iopub.execute_input": "2022-03-27T04:38:07.956019Z",
     "iopub.status.busy": "2022-03-27T04:38:07.945092Z",
     "iopub.status.idle": "2022-03-27T04:38:07.958385Z",
     "shell.execute_reply": "2022-03-27T04:38:07.957564Z"
    },
    "papermill": {
     "duration": 0.02934,
     "end_time": "2022-03-27T04:38:07.958551",
     "exception": false,
     "start_time": "2022-03-27T04:38:07.929211",
     "status": "completed"
    },
    "tags": [
     "injected-parameters"
    ]
   },
   "outputs": [],
   "source": [
    "# Parameters\n",
    "parameters = {\n",
    "    \"experiment_name\": \"cnn_2:oracle.run2\",\n",
    "    \"labels\": [\n",
    "        \"3123D52\",\n",
    "        \"3123D65\",\n",
    "        \"3123D79\",\n",
    "        \"3123D80\",\n",
    "        \"3123D54\",\n",
    "        \"3123D70\",\n",
    "        \"3123D7B\",\n",
    "        \"3123D89\",\n",
    "        \"3123D58\",\n",
    "        \"3123D76\",\n",
    "        \"3123D7D\",\n",
    "        \"3123EFE\",\n",
    "        \"3123D64\",\n",
    "        \"3123D78\",\n",
    "        \"3123D7E\",\n",
    "        \"3124E4A\",\n",
    "    ],\n",
    "    \"domains_source\": [8, 32, 50, 14, 20, 26, 38, 44],\n",
    "    \"domains_target\": [8, 32, 50, 14, 20, 26, 38, 44],\n",
    "    \"pickle_name_source\": \"oracle.Run2_10kExamples_stratified_ds.2022A.pkl\",\n",
    "    \"pickle_name_target\": \"oracle.Run2_10kExamples_stratified_ds.2022A.pkl\",\n",
    "    \"device\": \"cuda\",\n",
    "    \"lr\": 0.0001,\n",
    "    \"batch_size\": 128,\n",
    "    \"normalize_source\": False,\n",
    "    \"normalize_target\": False,\n",
    "    \"num_examples_per_domain_per_label_source\": -1,\n",
    "    \"num_examples_per_domain_per_label_target\": -1,\n",
    "    \"torch_default_dtype\": \"torch.float32\",\n",
    "    \"n_epoch\": 50,\n",
    "    \"patience\": 3,\n",
    "    \"criteria_for_best\": \"target_accuracy\",\n",
    "    \"x_net\": [\n",
    "        {\"class\": \"nnReshape\", \"kargs\": {\"shape\": [-1, 1, 2, 256]}},\n",
    "        {\n",
    "            \"class\": \"Conv2d\",\n",
    "            \"kargs\": {\n",
    "                \"in_channels\": 1,\n",
    "                \"out_channels\": 256,\n",
    "                \"kernel_size\": [1, 7],\n",
    "                \"bias\": False,\n",
    "                \"padding\": [0, 3],\n",
    "            },\n",
    "        },\n",
    "        {\"class\": \"ReLU\", \"kargs\": {\"inplace\": True}},\n",
    "        {\"class\": \"BatchNorm2d\", \"kargs\": {\"num_features\": 256}},\n",
    "        {\n",
    "            \"class\": \"Conv2d\",\n",
    "            \"kargs\": {\n",
    "                \"in_channels\": 256,\n",
    "                \"out_channels\": 80,\n",
    "                \"kernel_size\": [2, 7],\n",
    "                \"bias\": True,\n",
    "                \"padding\": [0, 3],\n",
    "            },\n",
    "        },\n",
    "        {\"class\": \"ReLU\", \"kargs\": {\"inplace\": True}},\n",
    "        {\"class\": \"BatchNorm2d\", \"kargs\": {\"num_features\": 80}},\n",
    "        {\"class\": \"Flatten\", \"kargs\": {}},\n",
    "        {\"class\": \"Linear\", \"kargs\": {\"in_features\": 20480, \"out_features\": 256}},\n",
    "        {\"class\": \"ReLU\", \"kargs\": {\"inplace\": True}},\n",
    "        {\"class\": \"BatchNorm1d\", \"kargs\": {\"num_features\": 256}},\n",
    "        {\"class\": \"Linear\", \"kargs\": {\"in_features\": 256, \"out_features\": 16}},\n",
    "    ],\n",
    "    \"NUM_LOGS_PER_EPOCH\": 10,\n",
    "    \"BEST_MODEL_PATH\": \"./best_model.pth\",\n",
    "    \"dataset_seed\": 1337,\n",
    "    \"seed\": 1337,\n",
    "}\n"
   ]
  },
  {
   "cell_type": "code",
   "execution_count": 5,
   "id": "759b56ec",
   "metadata": {
    "execution": {
     "iopub.execute_input": "2022-03-27T04:38:07.999213Z",
     "iopub.status.busy": "2022-03-27T04:38:07.998827Z",
     "iopub.status.idle": "2022-03-27T04:38:08.001213Z",
     "shell.execute_reply": "2022-03-27T04:38:08.001816Z"
    },
    "papermill": {
     "duration": 0.025564,
     "end_time": "2022-03-27T04:38:08.001968",
     "exception": false,
     "start_time": "2022-03-27T04:38:07.976404",
     "status": "completed"
    },
    "tags": []
   },
   "outputs": [],
   "source": [
    "# Set this to True if you want to run this template directly\n",
    "STANDALONE = False\n",
    "if STANDALONE:\n",
    "    print(\"parameters not injected, running with standalone_parameters\")\n",
    "    parameters = standalone_parameters\n",
    "\n",
    "if not 'parameters' in locals() and not 'parameters' in globals():\n",
    "    raise Exception(\"Parameter injection failed\")\n",
    "\n",
    "#Use an easy dict for all the parameters\n",
    "p = EasyDict(parameters)\n",
    "\n",
    "supplied_keys = set(p.keys())\n",
    "\n",
    "if  supplied_keys != required_parameters:\n",
    "    print(\"Parameters are incorrect\")\n",
    "    if len(supplied_keys - required_parameters)>0: print(\"Shouldn't have:\", str(supplied_keys - required_parameters))\n",
    "    if len(required_parameters - supplied_keys)>0: print(\"Need to have:\", str(required_parameters - supplied_keys))\n",
    "    raise RuntimeError(\"Parameters are incorrect\")\n",
    "\n"
   ]
  },
  {
   "cell_type": "code",
   "execution_count": 6,
   "id": "d5c66a71",
   "metadata": {
    "execution": {
     "iopub.execute_input": "2022-03-27T04:38:08.042880Z",
     "iopub.status.busy": "2022-03-27T04:38:08.042310Z",
     "iopub.status.idle": "2022-03-27T04:38:08.046657Z",
     "shell.execute_reply": "2022-03-27T04:38:08.046079Z"
    },
    "papermill": {
     "duration": 0.023863,
     "end_time": "2022-03-27T04:38:08.046778",
     "exception": false,
     "start_time": "2022-03-27T04:38:08.022915",
     "status": "completed"
    },
    "tags": []
   },
   "outputs": [],
   "source": [
    "###################################\n",
    "# Set the RNGs and make it all deterministic\n",
    "###################################\n",
    "np.random.seed(p.seed)\n",
    "random.seed(p.seed)\n",
    "torch.manual_seed(p.seed)\n",
    "\n",
    "torch.use_deterministic_algorithms(True) "
   ]
  },
  {
   "cell_type": "code",
   "execution_count": 7,
   "id": "92a65876",
   "metadata": {
    "execution": {
     "iopub.execute_input": "2022-03-27T04:38:08.086446Z",
     "iopub.status.busy": "2022-03-27T04:38:08.085963Z",
     "iopub.status.idle": "2022-03-27T04:38:08.088576Z",
     "shell.execute_reply": "2022-03-27T04:38:08.088221Z"
    },
    "papermill": {
     "duration": 0.020938,
     "end_time": "2022-03-27T04:38:08.088691",
     "exception": false,
     "start_time": "2022-03-27T04:38:08.067753",
     "status": "completed"
    },
    "tags": []
   },
   "outputs": [],
   "source": [
    "torch.set_default_dtype(eval(p.torch_default_dtype))"
   ]
  },
  {
   "cell_type": "code",
   "execution_count": 8,
   "id": "f1a32f01",
   "metadata": {
    "execution": {
     "iopub.execute_input": "2022-03-27T04:38:08.126234Z",
     "iopub.status.busy": "2022-03-27T04:38:08.125670Z",
     "iopub.status.idle": "2022-03-27T04:38:08.163830Z",
     "shell.execute_reply": "2022-03-27T04:38:08.163048Z"
    },
    "papermill": {
     "duration": 0.056028,
     "end_time": "2022-03-27T04:38:08.164010",
     "exception": false,
     "start_time": "2022-03-27T04:38:08.107982",
     "status": "completed"
    },
    "tags": []
   },
   "outputs": [],
   "source": [
    "###################################\n",
    "# Build the network(s)\n",
    "# Note: It's critical to do this AFTER setting the RNG\n",
    "###################################\n",
    "x_net = build_sequential(p.x_net)"
   ]
  },
  {
   "cell_type": "code",
   "execution_count": 9,
   "id": "a276cd83",
   "metadata": {
    "execution": {
     "iopub.execute_input": "2022-03-27T04:38:08.202626Z",
     "iopub.status.busy": "2022-03-27T04:38:08.202256Z",
     "iopub.status.idle": "2022-03-27T04:38:08.204655Z",
     "shell.execute_reply": "2022-03-27T04:38:08.204179Z"
    },
    "papermill": {
     "duration": 0.019959,
     "end_time": "2022-03-27T04:38:08.204758",
     "exception": false,
     "start_time": "2022-03-27T04:38:08.184799",
     "status": "completed"
    },
    "tags": []
   },
   "outputs": [],
   "source": [
    "start_time_secs = time.time()"
   ]
  },
  {
   "cell_type": "code",
   "execution_count": 10,
   "id": "de702e48",
   "metadata": {
    "execution": {
     "iopub.execute_input": "2022-03-27T04:38:08.251853Z",
     "iopub.status.busy": "2022-03-27T04:38:08.250918Z",
     "iopub.status.idle": "2022-03-27T04:38:45.298590Z",
     "shell.execute_reply": "2022-03-27T04:38:45.297827Z"
    },
    "papermill": {
     "duration": 37.076933,
     "end_time": "2022-03-27T04:38:45.298764",
     "exception": false,
     "start_time": "2022-03-27T04:38:08.221831",
     "status": "completed"
    },
    "tags": []
   },
   "outputs": [],
   "source": [
    "def wrap_in_dataloader(p, ds):\n",
    "    return torch.utils.data.DataLoader(\n",
    "        ds,\n",
    "        batch_size=p.batch_size,\n",
    "        shuffle=True,\n",
    "        num_workers=1,\n",
    "        persistent_workers=True,\n",
    "        prefetch_factor=50,\n",
    "        pin_memory=True\n",
    "    )\n",
    "\n",
    "taf_source = Traditional_Accessor_Factory(\n",
    "    labels=p.labels,\n",
    "    domains=p.domains_source,\n",
    "    num_examples_per_domain_per_label=p.num_examples_per_domain_per_label_source,\n",
    "    pickle_path=os.path.join(get_datasets_base_path(), p.pickle_name_source),\n",
    "    seed=p.dataset_seed\n",
    ")\n",
    "train_original_source, val_original_source, test_original_source = \\\n",
    "    taf_source.get_train(), taf_source.get_val(), taf_source.get_test()\n",
    "\n",
    "\n",
    "taf_target = Traditional_Accessor_Factory(\n",
    "    labels=p.labels,\n",
    "    domains=p.domains_target,\n",
    "    num_examples_per_domain_per_label=p.num_examples_per_domain_per_label_source,\n",
    "    pickle_path=os.path.join(get_datasets_base_path(), p.pickle_name_target),\n",
    "    seed=p.dataset_seed\n",
    ")\n",
    "train_original_target, val_original_target, test_original_target = \\\n",
    "    taf_target.get_train(), taf_target.get_val(), taf_target.get_test()\n",
    "\n",
    "\n",
    "# For CNN We only use X and Y. And we only train on the source.\n",
    "# Properly form the data using a transform lambda and Lazy_Map. Finally wrap them in a dataloader\n",
    "\n",
    "transform_lambda = lambda ex: ex[:2] # Strip the tuple to just (x,y)\n",
    "\n",
    "\n",
    "train_processed_source = wrap_in_dataloader(\n",
    "    p,\n",
    "    Lazy_Map(train_original_source, transform_lambda)\n",
    ")\n",
    "val_processed_source = wrap_in_dataloader(\n",
    "    p,\n",
    "    Lazy_Map(val_original_source, transform_lambda)\n",
    ")\n",
    "test_processed_source = wrap_in_dataloader(\n",
    "    p,\n",
    "    Lazy_Map(test_original_source, transform_lambda)\n",
    ")\n",
    "\n",
    "train_processed_target = wrap_in_dataloader(\n",
    "    p,\n",
    "    Lazy_Map(train_original_target, transform_lambda)\n",
    ")\n",
    "val_processed_target = wrap_in_dataloader(\n",
    "    p,\n",
    "    Lazy_Map(val_original_target, transform_lambda)\n",
    ")\n",
    "test_processed_target  = wrap_in_dataloader(\n",
    "    p,\n",
    "    Lazy_Map(test_original_target, transform_lambda)\n",
    ")\n",
    "\n",
    "\n",
    "\n",
    "datasets = EasyDict({\n",
    "    \"source\": {\n",
    "        \"original\": {\"train\":train_original_source, \"val\":val_original_source, \"test\":test_original_source},\n",
    "        \"processed\": {\"train\":train_processed_source, \"val\":val_processed_source, \"test\":test_processed_source}\n",
    "    },\n",
    "    \"target\": {\n",
    "        \"original\": {\"train\":train_original_target, \"val\":val_original_target, \"test\":test_original_target},\n",
    "        \"processed\": {\"train\":train_processed_target, \"val\":val_processed_target, \"test\":test_processed_target}\n",
    "    },\n",
    "})"
   ]
  },
  {
   "cell_type": "code",
   "execution_count": 11,
   "id": "a11b26bd",
   "metadata": {
    "execution": {
     "iopub.execute_input": "2022-03-27T04:38:45.372987Z",
     "iopub.status.busy": "2022-03-27T04:38:45.372160Z",
     "iopub.status.idle": "2022-03-27T04:38:50.821132Z",
     "shell.execute_reply": "2022-03-27T04:38:50.820378Z"
    },
    "papermill": {
     "duration": 5.50298,
     "end_time": "2022-03-27T04:38:50.821304",
     "exception": false,
     "start_time": "2022-03-27T04:38:45.318324",
     "status": "completed"
    },
    "tags": []
   },
   "outputs": [
    {
     "data": {
      "text/plain": [
       "torch.float32"
      ]
     },
     "execution_count": 11,
     "metadata": {},
     "output_type": "execute_result"
    }
   ],
   "source": [
    "ep = next(iter(test_processed_target))\n",
    "ep[0].dtype"
   ]
  },
  {
   "cell_type": "code",
   "execution_count": 12,
   "id": "19425fad",
   "metadata": {
    "execution": {
     "iopub.execute_input": "2022-03-27T04:38:50.860835Z",
     "iopub.status.busy": "2022-03-27T04:38:50.860465Z",
     "iopub.status.idle": "2022-03-27T04:38:50.906017Z",
     "shell.execute_reply": "2022-03-27T04:38:50.905236Z"
    },
    "papermill": {
     "duration": 0.064868,
     "end_time": "2022-03-27T04:38:50.906176",
     "exception": false,
     "start_time": "2022-03-27T04:38:50.841308",
     "status": "completed"
    },
    "tags": []
   },
   "outputs": [],
   "source": [
    "model = Configurable_Vanilla(\n",
    "    x_net=x_net,\n",
    "    label_loss_object=torch.nn.NLLLoss(),\n",
    "    learning_rate=p.lr\n",
    ")"
   ]
  },
  {
   "cell_type": "code",
   "execution_count": 13,
   "id": "7f6d4f2c",
   "metadata": {
    "execution": {
     "iopub.execute_input": "2022-03-27T04:38:50.948470Z",
     "iopub.status.busy": "2022-03-27T04:38:50.947894Z",
     "iopub.status.idle": "2022-03-27T04:54:23.081781Z",
     "shell.execute_reply": "2022-03-27T04:54:23.081436Z"
    },
    "papermill": {
     "duration": 932.154022,
     "end_time": "2022-03-27T04:54:23.081870",
     "exception": false,
     "start_time": "2022-03-27T04:38:50.927848",
     "status": "completed"
    },
    "tags": []
   },
   "outputs": [
    {
     "name": "stdout",
     "output_type": "stream",
     "text": [
      "epoch: 1, [batch: 1 / 7000], examples_per_second: 320.4780, train_label_loss: 2.7723, \n"
     ]
    },
    {
     "name": "stdout",
     "output_type": "stream",
     "text": [
      "epoch: 1, [batch: 700 / 7000], examples_per_second: 13194.2559, train_label_loss: 2.5769, \n"
     ]
    },
    {
     "name": "stdout",
     "output_type": "stream",
     "text": [
      "epoch: 1, [batch: 1400 / 7000], examples_per_second: 13133.1346, train_label_loss: 2.4828, \n"
     ]
    },
    {
     "name": "stdout",
     "output_type": "stream",
     "text": [
      "epoch: 1, [batch: 2100 / 7000], examples_per_second: 12986.3700, train_label_loss: 2.2944, \n"
     ]
    },
    {
     "name": "stdout",
     "output_type": "stream",
     "text": [
      "epoch: 1, [batch: 2800 / 7000], examples_per_second: 12884.1760, train_label_loss: 2.0696, \n"
     ]
    },
    {
     "name": "stdout",
     "output_type": "stream",
     "text": [
      "epoch: 1, [batch: 3500 / 7000], examples_per_second: 13095.4191, train_label_loss: 1.7976, \n"
     ]
    },
    {
     "name": "stdout",
     "output_type": "stream",
     "text": [
      "epoch: 1, [batch: 4200 / 7000], examples_per_second: 13687.6151, train_label_loss: 1.9630, \n"
     ]
    },
    {
     "name": "stdout",
     "output_type": "stream",
     "text": [
      "epoch: 1, [batch: 4900 / 7000], examples_per_second: 12726.0178, train_label_loss: 1.8700, \n"
     ]
    },
    {
     "name": "stdout",
     "output_type": "stream",
     "text": [
      "epoch: 1, [batch: 5600 / 7000], examples_per_second: 10643.9163, train_label_loss: 1.5432, \n"
     ]
    },
    {
     "name": "stdout",
     "output_type": "stream",
     "text": [
      "epoch: 1, [batch: 6300 / 7000], examples_per_second: 10706.3191, train_label_loss: 1.4255, \n"
     ]
    },
    {
     "name": "stdout",
     "output_type": "stream",
     "text": [
      "=============================================================\n",
      "epoch: 1, source_val_acc_label: 0.5925, source_val_label_loss: 1.2300, target_val_acc_label: 0.5925, target_val_label_loss: 1.2300, \n",
      "=============================================================\n"
     ]
    },
    {
     "name": "stdout",
     "output_type": "stream",
     "text": [
      "New best\n",
      "epoch: 2, [batch: 1 / 7000], examples_per_second: 11.0577, train_label_loss: 1.3956, \n"
     ]
    },
    {
     "name": "stdout",
     "output_type": "stream",
     "text": [
      "epoch: 2, [batch: 700 / 7000], examples_per_second: 10605.8157, train_label_loss: 1.2021, \n"
     ]
    },
    {
     "name": "stdout",
     "output_type": "stream",
     "text": [
      "epoch: 2, [batch: 1400 / 7000], examples_per_second: 10597.6259, train_label_loss: 1.2933, \n"
     ]
    },
    {
     "name": "stdout",
     "output_type": "stream",
     "text": [
      "epoch: 2, [batch: 2100 / 7000], examples_per_second: 10641.6501, train_label_loss: 1.1793, \n"
     ]
    },
    {
     "name": "stdout",
     "output_type": "stream",
     "text": [
      "epoch: 2, [batch: 2800 / 7000], examples_per_second: 10621.7111, train_label_loss: 0.9974, \n"
     ]
    },
    {
     "name": "stdout",
     "output_type": "stream",
     "text": [
      "epoch: 2, [batch: 3500 / 7000], examples_per_second: 10695.8006, train_label_loss: 1.0811, \n"
     ]
    },
    {
     "name": "stdout",
     "output_type": "stream",
     "text": [
      "epoch: 2, [batch: 4200 / 7000], examples_per_second: 10682.7610, train_label_loss: 1.2416, \n"
     ]
    },
    {
     "name": "stdout",
     "output_type": "stream",
     "text": [
      "epoch: 2, [batch: 4900 / 7000], examples_per_second: 10729.8133, train_label_loss: 0.9689, \n"
     ]
    },
    {
     "name": "stdout",
     "output_type": "stream",
     "text": [
      "epoch: 2, [batch: 5600 / 7000], examples_per_second: 10731.2643, train_label_loss: 1.0638, \n"
     ]
    },
    {
     "name": "stdout",
     "output_type": "stream",
     "text": [
      "epoch: 2, [batch: 6300 / 7000], examples_per_second: 10723.2929, train_label_loss: 1.1143, \n"
     ]
    },
    {
     "name": "stdout",
     "output_type": "stream",
     "text": [
      "=============================================================\n",
      "epoch: 2, source_val_acc_label: 0.6903, source_val_label_loss: 0.9051, target_val_acc_label: 0.6903, target_val_label_loss: 0.9051, \n",
      "=============================================================\n"
     ]
    },
    {
     "name": "stdout",
     "output_type": "stream",
     "text": [
      "New best\n",
      "epoch: 3, [batch: 1 / 7000], examples_per_second: 11.3586, train_label_loss: 0.9004, \n"
     ]
    },
    {
     "name": "stdout",
     "output_type": "stream",
     "text": [
      "epoch: 3, [batch: 700 / 7000], examples_per_second: 10643.1030, train_label_loss: 0.9197, \n"
     ]
    },
    {
     "name": "stdout",
     "output_type": "stream",
     "text": [
      "epoch: 3, [batch: 1400 / 7000], examples_per_second: 10688.8846, train_label_loss: 0.7456, \n"
     ]
    },
    {
     "name": "stdout",
     "output_type": "stream",
     "text": [
      "epoch: 3, [batch: 2100 / 7000], examples_per_second: 10684.2819, train_label_loss: 0.6644, \n"
     ]
    },
    {
     "name": "stdout",
     "output_type": "stream",
     "text": [
      "epoch: 3, [batch: 2800 / 7000], examples_per_second: 10704.3251, train_label_loss: 0.8461, \n"
     ]
    },
    {
     "name": "stdout",
     "output_type": "stream",
     "text": [
      "epoch: 3, [batch: 3500 / 7000], examples_per_second: 10702.9172, train_label_loss: 0.9754, \n"
     ]
    },
    {
     "name": "stdout",
     "output_type": "stream",
     "text": [
      "epoch: 3, [batch: 4200 / 7000], examples_per_second: 10678.0710, train_label_loss: 0.8711, \n"
     ]
    },
    {
     "name": "stdout",
     "output_type": "stream",
     "text": [
      "epoch: 3, [batch: 4900 / 7000], examples_per_second: 10668.4331, train_label_loss: 0.9134, \n"
     ]
    },
    {
     "name": "stdout",
     "output_type": "stream",
     "text": [
      "epoch: 3, [batch: 5600 / 7000], examples_per_second: 10687.5374, train_label_loss: 1.0242, \n"
     ]
    },
    {
     "name": "stdout",
     "output_type": "stream",
     "text": [
      "epoch: 3, [batch: 6300 / 7000], examples_per_second: 10711.5541, train_label_loss: 0.7373, \n"
     ]
    },
    {
     "name": "stdout",
     "output_type": "stream",
     "text": [
      "=============================================================\n",
      "epoch: 3, source_val_acc_label: 0.7548, source_val_label_loss: 0.6984, target_val_acc_label: 0.7548, target_val_label_loss: 0.6984, \n",
      "=============================================================\n"
     ]
    },
    {
     "name": "stdout",
     "output_type": "stream",
     "text": [
      "New best\n",
      "epoch: 4, [batch: 1 / 7000], examples_per_second: 11.3875, train_label_loss: 0.6178, \n"
     ]
    },
    {
     "name": "stdout",
     "output_type": "stream",
     "text": [
      "epoch: 4, [batch: 700 / 7000], examples_per_second: 10684.1315, train_label_loss: 0.6365, \n"
     ]
    },
    {
     "name": "stdout",
     "output_type": "stream",
     "text": [
      "epoch: 4, [batch: 1400 / 7000], examples_per_second: 10650.5840, train_label_loss: 0.5383, \n"
     ]
    },
    {
     "name": "stdout",
     "output_type": "stream",
     "text": [
      "epoch: 4, [batch: 2100 / 7000], examples_per_second: 10698.9107, train_label_loss: 0.5233, \n"
     ]
    },
    {
     "name": "stdout",
     "output_type": "stream",
     "text": [
      "epoch: 4, [batch: 2800 / 7000], examples_per_second: 10696.0718, train_label_loss: 0.6873, \n"
     ]
    },
    {
     "name": "stdout",
     "output_type": "stream",
     "text": [
      "epoch: 4, [batch: 3500 / 7000], examples_per_second: 10704.6016, train_label_loss: 0.6260, \n"
     ]
    },
    {
     "name": "stdout",
     "output_type": "stream",
     "text": [
      "epoch: 4, [batch: 4200 / 7000], examples_per_second: 10670.6926, train_label_loss: 0.5263, \n"
     ]
    },
    {
     "name": "stdout",
     "output_type": "stream",
     "text": [
      "epoch: 4, [batch: 4900 / 7000], examples_per_second: 11014.0748, train_label_loss: 0.7093, \n"
     ]
    },
    {
     "name": "stdout",
     "output_type": "stream",
     "text": [
      "epoch: 4, [batch: 5600 / 7000], examples_per_second: 12259.2928, train_label_loss: 0.6182, \n"
     ]
    },
    {
     "name": "stdout",
     "output_type": "stream",
     "text": [
      "epoch: 4, [batch: 6300 / 7000], examples_per_second: 12741.3678, train_label_loss: 0.5418, \n"
     ]
    },
    {
     "name": "stdout",
     "output_type": "stream",
     "text": [
      "=============================================================\n",
      "epoch: 4, source_val_acc_label: 0.7511, source_val_label_loss: 0.6905, target_val_acc_label: 0.7511, target_val_label_loss: 0.6905, \n",
      "=============================================================\n"
     ]
    },
    {
     "name": "stdout",
     "output_type": "stream",
     "text": [
      "epoch: 5, [batch: 1 / 7000], examples_per_second: 14.5846, train_label_loss: 0.6549, \n"
     ]
    },
    {
     "name": "stdout",
     "output_type": "stream",
     "text": [
      "epoch: 5, [batch: 700 / 7000], examples_per_second: 13149.5439, train_label_loss: 0.4903, \n"
     ]
    },
    {
     "name": "stdout",
     "output_type": "stream",
     "text": [
      "epoch: 5, [batch: 1400 / 7000], examples_per_second: 12942.0770, train_label_loss: 0.7692, \n"
     ]
    },
    {
     "name": "stdout",
     "output_type": "stream",
     "text": [
      "epoch: 5, [batch: 2100 / 7000], examples_per_second: 12957.9352, train_label_loss: 0.4544, \n"
     ]
    },
    {
     "name": "stdout",
     "output_type": "stream",
     "text": [
      "epoch: 5, [batch: 2800 / 7000], examples_per_second: 13008.6839, train_label_loss: 0.5750, \n"
     ]
    },
    {
     "name": "stdout",
     "output_type": "stream",
     "text": [
      "epoch: 5, [batch: 3500 / 7000], examples_per_second: 14166.8681, train_label_loss: 0.7669, \n"
     ]
    },
    {
     "name": "stdout",
     "output_type": "stream",
     "text": [
      "epoch: 5, [batch: 4200 / 7000], examples_per_second: 11734.2099, train_label_loss: 0.5071, \n"
     ]
    },
    {
     "name": "stdout",
     "output_type": "stream",
     "text": [
      "epoch: 5, [batch: 4900 / 7000], examples_per_second: 10751.3477, train_label_loss: 0.6218, \n"
     ]
    },
    {
     "name": "stdout",
     "output_type": "stream",
     "text": [
      "epoch: 5, [batch: 5600 / 7000], examples_per_second: 10732.9343, train_label_loss: 0.6847, \n"
     ]
    },
    {
     "name": "stdout",
     "output_type": "stream",
     "text": [
      "epoch: 5, [batch: 6300 / 7000], examples_per_second: 10757.2571, train_label_loss: 0.4658, \n"
     ]
    },
    {
     "name": "stdout",
     "output_type": "stream",
     "text": [
      "=============================================================\n",
      "epoch: 5, source_val_acc_label: 0.7375, source_val_label_loss: 0.7239, target_val_acc_label: 0.7375, target_val_label_loss: 0.7239, \n",
      "=============================================================\n"
     ]
    },
    {
     "name": "stdout",
     "output_type": "stream",
     "text": [
      "epoch: 6, [batch: 1 / 7000], examples_per_second: 11.4679, train_label_loss: 0.6223, \n"
     ]
    },
    {
     "name": "stdout",
     "output_type": "stream",
     "text": [
      "epoch: 6, [batch: 700 / 7000], examples_per_second: 10682.1583, train_label_loss: 0.5891, \n"
     ]
    },
    {
     "name": "stdout",
     "output_type": "stream",
     "text": [
      "epoch: 6, [batch: 1400 / 7000], examples_per_second: 10740.0962, train_label_loss: 0.5028, \n"
     ]
    },
    {
     "name": "stdout",
     "output_type": "stream",
     "text": [
      "epoch: 6, [batch: 2100 / 7000], examples_per_second: 10719.1051, train_label_loss: 0.4714, \n"
     ]
    },
    {
     "name": "stdout",
     "output_type": "stream",
     "text": [
      "epoch: 6, [batch: 2800 / 7000], examples_per_second: 10743.4152, train_label_loss: 0.3805, \n"
     ]
    },
    {
     "name": "stdout",
     "output_type": "stream",
     "text": [
      "epoch: 6, [batch: 3500 / 7000], examples_per_second: 10764.8736, train_label_loss: 0.3889, \n"
     ]
    },
    {
     "name": "stdout",
     "output_type": "stream",
     "text": [
      "epoch: 6, [batch: 4200 / 7000], examples_per_second: 10780.9202, train_label_loss: 0.4200, \n"
     ]
    },
    {
     "name": "stdout",
     "output_type": "stream",
     "text": [
      "epoch: 6, [batch: 4900 / 7000], examples_per_second: 10736.2213, train_label_loss: 0.5055, \n"
     ]
    },
    {
     "name": "stdout",
     "output_type": "stream",
     "text": [
      "epoch: 6, [batch: 5600 / 7000], examples_per_second: 10731.5937, train_label_loss: 0.3740, \n"
     ]
    },
    {
     "name": "stdout",
     "output_type": "stream",
     "text": [
      "epoch: 6, [batch: 6300 / 7000], examples_per_second: 10761.8726, train_label_loss: 0.6697, \n"
     ]
    },
    {
     "name": "stdout",
     "output_type": "stream",
     "text": [
      "=============================================================\n",
      "epoch: 6, source_val_acc_label: 0.7819, source_val_label_loss: 0.5887, target_val_acc_label: 0.7819, target_val_label_loss: 0.5887, \n",
      "=============================================================\n"
     ]
    },
    {
     "name": "stdout",
     "output_type": "stream",
     "text": [
      "New best\n",
      "epoch: 7, [batch: 1 / 7000], examples_per_second: 11.5392, train_label_loss: 0.6018, \n"
     ]
    },
    {
     "name": "stdout",
     "output_type": "stream",
     "text": [
      "epoch: 7, [batch: 700 / 7000], examples_per_second: 10715.4734, train_label_loss: 0.5224, \n"
     ]
    },
    {
     "name": "stdout",
     "output_type": "stream",
     "text": [
      "epoch: 7, [batch: 1400 / 7000], examples_per_second: 10698.2063, train_label_loss: 0.4075, \n"
     ]
    },
    {
     "name": "stdout",
     "output_type": "stream",
     "text": [
      "epoch: 7, [batch: 2100 / 7000], examples_per_second: 10693.2959, train_label_loss: 0.4307, \n"
     ]
    },
    {
     "name": "stdout",
     "output_type": "stream",
     "text": [
      "epoch: 7, [batch: 2800 / 7000], examples_per_second: 10690.6856, train_label_loss: 0.4531, \n"
     ]
    },
    {
     "name": "stdout",
     "output_type": "stream",
     "text": [
      "epoch: 7, [batch: 3500 / 7000], examples_per_second: 10717.3025, train_label_loss: 0.4115, \n"
     ]
    },
    {
     "name": "stdout",
     "output_type": "stream",
     "text": [
      "epoch: 7, [batch: 4200 / 7000], examples_per_second: 10769.5274, train_label_loss: 0.3918, \n"
     ]
    },
    {
     "name": "stdout",
     "output_type": "stream",
     "text": [
      "epoch: 7, [batch: 4900 / 7000], examples_per_second: 10726.9950, train_label_loss: 0.4011, \n"
     ]
    },
    {
     "name": "stdout",
     "output_type": "stream",
     "text": [
      "epoch: 7, [batch: 5600 / 7000], examples_per_second: 10695.4709, train_label_loss: 0.3353, \n"
     ]
    },
    {
     "name": "stdout",
     "output_type": "stream",
     "text": [
      "epoch: 7, [batch: 6300 / 7000], examples_per_second: 10672.9281, train_label_loss: 0.4249, \n"
     ]
    },
    {
     "name": "stdout",
     "output_type": "stream",
     "text": [
      "=============================================================\n",
      "epoch: 7, source_val_acc_label: 0.7602, source_val_label_loss: 0.6510, target_val_acc_label: 0.7602, target_val_label_loss: 0.6510, \n",
      "=============================================================\n"
     ]
    },
    {
     "name": "stdout",
     "output_type": "stream",
     "text": [
      "epoch: 8, [batch: 1 / 7000], examples_per_second: 11.6640, train_label_loss: 0.3884, \n"
     ]
    },
    {
     "name": "stdout",
     "output_type": "stream",
     "text": [
      "epoch: 8, [batch: 700 / 7000], examples_per_second: 10743.7861, train_label_loss: 0.3276, \n"
     ]
    },
    {
     "name": "stdout",
     "output_type": "stream",
     "text": [
      "epoch: 8, [batch: 1400 / 7000], examples_per_second: 10730.3396, train_label_loss: 0.3108, \n"
     ]
    },
    {
     "name": "stdout",
     "output_type": "stream",
     "text": [
      "epoch: 8, [batch: 2100 / 7000], examples_per_second: 10735.6426, train_label_loss: 0.3797, \n"
     ]
    },
    {
     "name": "stdout",
     "output_type": "stream",
     "text": [
      "epoch: 8, [batch: 2800 / 7000], examples_per_second: 10777.5693, train_label_loss: 0.3222, \n"
     ]
    },
    {
     "name": "stdout",
     "output_type": "stream",
     "text": [
      "epoch: 8, [batch: 3500 / 7000], examples_per_second: 10738.9622, train_label_loss: 0.4889, \n"
     ]
    },
    {
     "name": "stdout",
     "output_type": "stream",
     "text": [
      "epoch: 8, [batch: 4200 / 7000], examples_per_second: 10725.4092, train_label_loss: 0.3896, \n"
     ]
    },
    {
     "name": "stdout",
     "output_type": "stream",
     "text": [
      "epoch: 8, [batch: 4900 / 7000], examples_per_second: 11722.3272, train_label_loss: 0.3148, \n"
     ]
    },
    {
     "name": "stdout",
     "output_type": "stream",
     "text": [
      "epoch: 8, [batch: 5600 / 7000], examples_per_second: 13025.2665, train_label_loss: 0.3375, \n"
     ]
    },
    {
     "name": "stdout",
     "output_type": "stream",
     "text": [
      "epoch: 8, [batch: 6300 / 7000], examples_per_second: 13040.6984, train_label_loss: 0.6210, \n"
     ]
    },
    {
     "name": "stdout",
     "output_type": "stream",
     "text": [
      "=============================================================\n",
      "epoch: 8, source_val_acc_label: 0.7698, source_val_label_loss: 0.6609, target_val_acc_label: 0.7698, target_val_label_loss: 0.6609, \n",
      "=============================================================\n"
     ]
    },
    {
     "name": "stdout",
     "output_type": "stream",
     "text": [
      "epoch: 9, [batch: 1 / 7000], examples_per_second: 15.0952, train_label_loss: 0.3292, \n"
     ]
    },
    {
     "name": "stdout",
     "output_type": "stream",
     "text": [
      "epoch: 9, [batch: 700 / 7000], examples_per_second: 13035.9325, train_label_loss: 0.2551, \n"
     ]
    },
    {
     "name": "stdout",
     "output_type": "stream",
     "text": [
      "epoch: 9, [batch: 1400 / 7000], examples_per_second: 12985.8894, train_label_loss: 0.3354, \n"
     ]
    },
    {
     "name": "stdout",
     "output_type": "stream",
     "text": [
      "epoch: 9, [batch: 2100 / 7000], examples_per_second: 13062.3660, train_label_loss: 0.3810, \n"
     ]
    },
    {
     "name": "stdout",
     "output_type": "stream",
     "text": [
      "epoch: 9, [batch: 2800 / 7000], examples_per_second: 13032.8814, train_label_loss: 0.3026, \n"
     ]
    },
    {
     "name": "stdout",
     "output_type": "stream",
     "text": [
      "epoch: 9, [batch: 3500 / 7000], examples_per_second: 14739.0207, train_label_loss: 0.3590, \n"
     ]
    },
    {
     "name": "stdout",
     "output_type": "stream",
     "text": [
      "epoch: 9, [batch: 4200 / 7000], examples_per_second: 11996.7075, train_label_loss: 0.5625, \n"
     ]
    },
    {
     "name": "stdout",
     "output_type": "stream",
     "text": [
      "epoch: 9, [batch: 4900 / 7000], examples_per_second: 10765.7716, train_label_loss: 0.2967, \n"
     ]
    },
    {
     "name": "stdout",
     "output_type": "stream",
     "text": [
      "epoch: 9, [batch: 5600 / 7000], examples_per_second: 10719.1974, train_label_loss: 0.5275, \n"
     ]
    },
    {
     "name": "stdout",
     "output_type": "stream",
     "text": [
      "epoch: 9, [batch: 6300 / 7000], examples_per_second: 10767.1664, train_label_loss: 0.2878, \n"
     ]
    },
    {
     "name": "stdout",
     "output_type": "stream",
     "text": [
      "=============================================================\n",
      "epoch: 9, source_val_acc_label: 0.7799, source_val_label_loss: 0.6543, target_val_acc_label: 0.7799, target_val_label_loss: 0.6543, \n",
      "=============================================================\n"
     ]
    },
    {
     "name": "stdout",
     "output_type": "stream",
     "text": [
      "epoch: 10, [batch: 1 / 7000], examples_per_second: 11.5632, train_label_loss: 0.6834, \n"
     ]
    },
    {
     "name": "stdout",
     "output_type": "stream",
     "text": [
      "epoch: 10, [batch: 700 / 7000], examples_per_second: 10731.4728, train_label_loss: 0.2927, \n"
     ]
    },
    {
     "name": "stdout",
     "output_type": "stream",
     "text": [
      "epoch: 10, [batch: 1400 / 7000], examples_per_second: 10749.5732, train_label_loss: 0.4469, \n"
     ]
    },
    {
     "name": "stdout",
     "output_type": "stream",
     "text": [
      "epoch: 10, [batch: 2100 / 7000], examples_per_second: 10750.9229, train_label_loss: 0.3687, \n"
     ]
    },
    {
     "name": "stdout",
     "output_type": "stream",
     "text": [
      "epoch: 10, [batch: 2800 / 7000], examples_per_second: 10727.9433, train_label_loss: 0.3904, \n"
     ]
    },
    {
     "name": "stdout",
     "output_type": "stream",
     "text": [
      "epoch: 10, [batch: 3500 / 7000], examples_per_second: 10717.4308, train_label_loss: 0.2666, \n"
     ]
    },
    {
     "name": "stdout",
     "output_type": "stream",
     "text": [
      "epoch: 10, [batch: 4200 / 7000], examples_per_second: 10743.3562, train_label_loss: 0.3687, \n"
     ]
    },
    {
     "name": "stdout",
     "output_type": "stream",
     "text": [
      "epoch: 10, [batch: 4900 / 7000], examples_per_second: 10750.3017, train_label_loss: 0.4888, \n"
     ]
    },
    {
     "name": "stdout",
     "output_type": "stream",
     "text": [
      "epoch: 10, [batch: 5600 / 7000], examples_per_second: 10714.0478, train_label_loss: 0.3669, \n"
     ]
    },
    {
     "name": "stdout",
     "output_type": "stream",
     "text": [
      "epoch: 10, [batch: 6300 / 7000], examples_per_second: 10695.2944, train_label_loss: 0.4357, \n"
     ]
    },
    {
     "name": "stdout",
     "output_type": "stream",
     "text": [
      "=============================================================\n",
      "epoch: 10, source_val_acc_label: 0.7408, source_val_label_loss: 0.7744, target_val_acc_label: 0.7408, target_val_label_loss: 0.7744, \n",
      "=============================================================\n"
     ]
    },
    {
     "name": "stdout",
     "output_type": "stream",
     "text": [
      "Patience (3) exhausted\n"
     ]
    }
   ],
   "source": [
    "jig = Vanilla_Train_Eval_Test_Jig(\n",
    "    model=model,\n",
    "    path_to_best_model=p.BEST_MODEL_PATH,\n",
    "    device=p.device,\n",
    "    label_loss_object=torch.nn.NLLLoss(),\n",
    ")\n",
    "\n",
    "jig.train(\n",
    "    train_iterable=datasets.source.processed.train,\n",
    "    source_val_iterable=datasets.source.processed.val,\n",
    "    target_val_iterable=datasets.target.processed.val,\n",
    "    patience=p.patience,\n",
    "    num_epochs=p.n_epoch,\n",
    "    num_logs_per_epoch=p.NUM_LOGS_PER_EPOCH,\n",
    "    criteria_for_best=p.criteria_for_best\n",
    ")"
   ]
  },
  {
   "cell_type": "code",
   "execution_count": 14,
   "id": "4bc2ac17",
   "metadata": {
    "execution": {
     "iopub.execute_input": "2022-03-27T04:54:23.176261Z",
     "iopub.status.busy": "2022-03-27T04:54:23.175683Z",
     "iopub.status.idle": "2022-03-27T04:54:23.178761Z",
     "shell.execute_reply": "2022-03-27T04:54:23.178202Z"
    },
    "papermill": {
     "duration": 0.053275,
     "end_time": "2022-03-27T04:54:23.178868",
     "exception": false,
     "start_time": "2022-03-27T04:54:23.125593",
     "status": "completed"
    },
    "tags": []
   },
   "outputs": [],
   "source": [
    "total_experiment_time_secs = time.time() - start_time_secs"
   ]
  },
  {
   "cell_type": "code",
   "execution_count": 15,
   "id": "cae88f23",
   "metadata": {
    "execution": {
     "iopub.execute_input": "2022-03-27T04:54:23.283172Z",
     "iopub.status.busy": "2022-03-27T04:54:23.282305Z",
     "iopub.status.idle": "2022-03-27T04:56:17.306979Z",
     "shell.execute_reply": "2022-03-27T04:56:17.307703Z"
    },
    "papermill": {
     "duration": 114.080989,
     "end_time": "2022-03-27T04:56:17.307959",
     "exception": false,
     "start_time": "2022-03-27T04:54:23.226970",
     "status": "completed"
    },
    "tags": []
   },
   "outputs": [],
   "source": [
    "source_test_label_accuracy, source_test_label_loss = jig.test(datasets.source.processed.test)\n",
    "target_test_label_accuracy, target_test_label_loss = jig.test(datasets.target.processed.test)\n",
    "\n",
    "source_val_label_accuracy, source_val_label_loss = jig.test(datasets.source.processed.val)\n",
    "target_val_label_accuracy, target_val_label_loss = jig.test(datasets.target.processed.val)\n",
    "\n",
    "history = jig.get_history()\n",
    "\n",
    "total_epochs_trained = len(history[\"epoch_indices\"])\n",
    "\n",
    "val_dl = wrap_in_dataloader(p, Sequence_Aggregator((datasets.source.original.val, datasets.target.original.val)))\n",
    "\n",
    "confusion = confusion_by_domain_over_dataloader(model, p.device, val_dl, forward_uses_domain=False)\n",
    "per_domain_accuracy = per_domain_accuracy_from_confusion(confusion)\n",
    "\n",
    "# Add a key to per_domain_accuracy for if it was a source domain\n",
    "for domain, accuracy in per_domain_accuracy.items():\n",
    "    per_domain_accuracy[domain] = {\n",
    "        \"accuracy\": accuracy,\n",
    "        \"source?\": domain in p.domains_source\n",
    "    }\n",
    "\n",
    "# Do an independent accuracy assesment JUST TO BE SURE!\n",
    "# _source_test_label_accuracy = independent_accuracy_assesment(model, datasets.source.processed.test, p.device)\n",
    "# _target_test_label_accuracy = independent_accuracy_assesment(model, datasets.target.processed.test, p.device)\n",
    "# _source_val_label_accuracy = independent_accuracy_assesment(model, datasets.source.processed.val, p.device)\n",
    "# _target_val_label_accuracy = independent_accuracy_assesment(model, datasets.target.processed.val, p.device)\n",
    "\n",
    "# assert(_source_test_label_accuracy == source_test_label_accuracy)\n",
    "# assert(_target_test_label_accuracy == target_test_label_accuracy)\n",
    "# assert(_source_val_label_accuracy == source_val_label_accuracy)\n",
    "# assert(_target_val_label_accuracy == target_val_label_accuracy)\n",
    "\n",
    "###################################\n",
    "# Write out the results\n",
    "###################################\n",
    "\n",
    "experiment = {\n",
    "    \"experiment_name\": p.experiment_name,\n",
    "    \"parameters\": p,\n",
    "    \"results\": {\n",
    "        \"source_test_label_accuracy\": source_test_label_accuracy,\n",
    "        \"source_test_label_loss\": source_test_label_loss,\n",
    "        \"target_test_label_accuracy\": target_test_label_accuracy,\n",
    "        \"target_test_label_loss\": target_test_label_loss,\n",
    "        \"source_val_label_accuracy\": source_val_label_accuracy,\n",
    "        \"source_val_label_loss\": source_val_label_loss,\n",
    "        \"target_val_label_accuracy\": target_val_label_accuracy,\n",
    "        \"target_val_label_loss\": target_val_label_loss,\n",
    "        \"total_epochs_trained\": total_epochs_trained,\n",
    "        \"total_experiment_time_secs\": total_experiment_time_secs,\n",
    "        \"confusion\": confusion,\n",
    "        \"per_domain_accuracy\": per_domain_accuracy,\n",
    "    },\n",
    "    \"history\": history,\n",
    "    \"dataset_metrics\": get_dataset_metrics(datasets, \"cnn\"),\n",
    "}"
   ]
  },
  {
   "cell_type": "code",
   "execution_count": 16,
   "id": "74c318cf",
   "metadata": {
    "execution": {
     "iopub.execute_input": "2022-03-27T04:56:17.429930Z",
     "iopub.status.busy": "2022-03-27T04:56:17.427068Z",
     "iopub.status.idle": "2022-03-27T04:56:17.629995Z",
     "shell.execute_reply": "2022-03-27T04:56:17.630691Z"
    },
    "papermill": {
     "duration": 0.272749,
     "end_time": "2022-03-27T04:56:17.630928",
     "exception": false,
     "start_time": "2022-03-27T04:56:17.358179",
     "status": "completed"
    },
    "tags": []
   },
   "outputs": [
    {
     "data": {
      "text/plain": [
       "<AxesSubplot:title={'center':'Source Train Label Loss vs Source Val Label Loss'}, xlabel='Epoch'>"
      ]
     },
     "execution_count": 16,
     "metadata": {},
     "output_type": "execute_result"
    },
    {
     "data": {
      "image/png": "[encoded data removed]",
      "text/plain": [
       "<Figure size 1080x504 with 1 Axes>"
      ]
     },
     "metadata": {
      "needs_background": "light"
     },
     "output_type": "display_data"
    }
   ],
   "source": [
    "get_loss_curve(experiment)"
   ]
  },
  {
   "cell_type": "code",
   "execution_count": 17,
   "id": "59376601",
   "metadata": {
    "execution": {
     "iopub.execute_input": "2022-03-27T04:56:17.750544Z",
     "iopub.status.busy": "2022-03-27T04:56:17.735105Z",
     "iopub.status.idle": "2022-03-27T04:56:18.055024Z",
     "shell.execute_reply": "2022-03-27T04:56:18.055730Z"
    },
    "papermill": {
     "duration": 0.376364,
     "end_time": "2022-03-27T04:56:18.055962",
     "exception": false,
     "start_time": "2022-03-27T04:56:17.679598",
     "status": "completed"
    },
    "tags": []
   },
   "outputs": [
    {
     "data": {
      "text/plain": [
       "<AxesSubplot:title={'center':'Results'}>"
      ]
     },
     "execution_count": 17,
     "metadata": {},
     "output_type": "execute_result"
    },
    {
     "data": {
      "image/png": "[encoded data removed]",
      "text/plain": [
       "<Figure size 1080x504 with 1 Axes>"
      ]
     },
     "metadata": {
      "needs_background": "light"
     },
     "output_type": "display_data"
    }
   ],
   "source": [
    "get_results_table(experiment)"
   ]
  },
  {
   "cell_type": "code",
   "execution_count": 18,
   "id": "e80c5c98",
   "metadata": {
    "execution": {
     "iopub.execute_input": "2022-03-27T04:56:18.171604Z",
     "iopub.status.busy": "2022-03-27T04:56:18.163141Z",
     "iopub.status.idle": "2022-03-27T04:56:18.338159Z",
     "shell.execute_reply": "2022-03-27T04:56:18.338834Z"
    },
    "papermill": {
     "duration": 0.231409,
     "end_time": "2022-03-27T04:56:18.339028",
     "exception": false,
     "start_time": "2022-03-27T04:56:18.107619",
     "status": "completed"
    },
    "tags": []
   },
   "outputs": [
    {
     "data": {
      "text/plain": [
       "<AxesSubplot:title={'center':'Per Domain Accuracy'}, xlabel='domain'>"
      ]
     },
     "execution_count": 18,
     "metadata": {},
     "output_type": "execute_result"
    },
    {
     "data": {
      "image/png": "[encoded data removed]",
      "text/plain": [
       "<Figure size 1080x504 with 1 Axes>"
      ]
     },
     "metadata": {
      "needs_background": "light"
     },
     "output_type": "display_data"
    }
   ],
   "source": [
    "get_domain_accuracies(experiment)"
   ]
  },
  {
   "cell_type": "code",
   "execution_count": 19,
   "id": "086fdd10",
   "metadata": {
    "execution": {
     "iopub.execute_input": "2022-03-27T04:56:18.448630Z",
     "iopub.status.busy": "2022-03-27T04:56:18.448246Z",
     "iopub.status.idle": "2022-03-27T04:56:18.451942Z",
     "shell.execute_reply": "2022-03-27T04:56:18.451556Z"
    },
    "papermill": {
     "duration": 0.057031,
     "end_time": "2022-03-27T04:56:18.452018",
     "exception": false,
     "start_time": "2022-03-27T04:56:18.394987",
     "status": "completed"
    },
    "tags": []
   },
   "outputs": [
    {
     "name": "stdout",
     "output_type": "stream",
     "text": [
      "Source Test Label Accuracy: 0.7813177083333334 Target Test Label Accuracy: 0.7813177083333334\n",
      "Source Val Label Accuracy: 0.781890625 Target Val Label Accuracy: 0.781890625\n"
     ]
    }
   ],
   "source": [
    "print(\"Source Test Label Accuracy:\", experiment[\"results\"][\"source_test_label_accuracy\"], \"Target Test Label Accuracy:\", experiment[\"results\"][\"target_test_label_accuracy\"])\n",
    "print(\"Source Val Label Accuracy:\", experiment[\"results\"][\"source_val_label_accuracy\"], \"Target Val Label Accuracy:\", experiment[\"results\"][\"target_val_label_accuracy\"])"
   ]
  },
  {
   "cell_type": "code",
   "execution_count": 20,
   "id": "9f450536",
   "metadata": {
    "execution": {
     "iopub.execute_input": "2022-03-27T04:56:18.560088Z",
     "iopub.status.busy": "2022-03-27T04:56:18.559688Z",
     "iopub.status.idle": "2022-03-27T04:56:18.563360Z",
     "shell.execute_reply": "2022-03-27T04:56:18.563872Z"
    },
    "papermill": {
     "duration": 0.058667,
     "end_time": "2022-03-27T04:56:18.564003",
     "exception": false,
     "start_time": "2022-03-27T04:56:18.505336",
     "status": "completed"
    },
    "tags": [
     "experiment_json"
    ]
   },
   "outputs": [
    {
     "data": {
      "text/plain": [
       "'{\"experiment_name\": \"cnn_2:oracle.run2\", \"parameters\": {\"experiment_name\": \"cnn_2:oracle.run2\", \"labels\": [\"3123D52\", \"3123D65\", \"3123D79\", \"3123D80\", \"3123D54\", \"3123D70\", \"3123D7B\", \"3123D89\", \"3123D58\", \"3123D76\", \"3123D7D\", \"3123EFE\", \"3123D64\", \"3123D78\", \"3123D7E\", \"3124E4A\"], \"domains_source\": [8, 32, 50, 14, 20, 26, 38, 44], \"domains_target\": [8, 32, 50, 14, 20, 26, 38, 44], \"pickle_name_source\": \"oracle.Run2_10kExamples_stratified_ds.2022A.pkl\", \"pickle_name_target\": \"oracle.Run2_10kExamples_stratified_ds.2022A.pkl\", \"device\": \"cuda\", \"lr\": 0.0001, \"batch_size\": 128, \"normalize_source\": false, \"normalize_target\": false, \"num_examples_per_domain_per_label_source\": -1, \"num_examples_per_domain_per_label_target\": -1, \"torch_default_dtype\": \"torch.float32\", \"n_epoch\": 50, \"patience\": 3, \"criteria_for_best\": \"target_accuracy\", \"x_net\": [{\"class\": \"nnReshape\", \"kargs\": {\"shape\": [-1, 1, 2, 256]}}, {\"class\": \"Conv2d\", \"kargs\": {\"in_channels\": 1, \"out_channels\": 256, \"kernel_size\": [1, 7], \"bias\": false, \"padding\": [0, 3]}}, {\"class\": \"ReLU\", \"kargs\": {\"inplace\": true}}, {\"class\": \"BatchNorm2d\", \"kargs\": {\"num_features\": 256}}, {\"class\": \"Conv2d\", \"kargs\": {\"in_channels\": 256, \"out_channels\": 80, \"kernel_size\": [2, 7], \"bias\": true, \"padding\": [0, 3]}}, {\"class\": \"ReLU\", \"kargs\": {\"inplace\": true}}, {\"class\": \"BatchNorm2d\", \"kargs\": {\"num_features\": 80}}, {\"class\": \"Flatten\", \"kargs\": {}}, {\"class\": \"Linear\", \"kargs\": {\"in_features\": 20480, \"out_features\": 256}}, {\"class\": \"ReLU\", \"kargs\": {\"inplace\": true}}, {\"class\": \"BatchNorm1d\", \"kargs\": {\"num_features\": 256}}, {\"class\": \"Linear\", \"kargs\": {\"in_features\": 256, \"out_features\": 16}}], \"NUM_LOGS_PER_EPOCH\": 10, \"BEST_MODEL_PATH\": \"./best_model.pth\", \"dataset_seed\": 1337, \"seed\": 1337}, \"results\": {\"source_test_label_accuracy\": 0.7813177083333334, \"source_test_label_loss\": 0.5917824364304543, \"target_test_label_accuracy\": 0.7813177083333334, \"target_test_label_loss\": 0.5917824388543764, \"source_val_label_accuracy\": 0.781890625, \"source_val_label_loss\": 0.5887218078772227, \"target_val_label_accuracy\": 0.781890625, \"target_val_label_loss\": 0.5887218030293783, \"total_epochs_trained\": 10, \"total_experiment_time_secs\": 974.9727990627289, \"confusion\": {\"32\": {\"13\": {\"13\": 2218, \"3\": 482, \"4\": 142, \"11\": 148, \"12\": 8, \"15\": 2}, \"3\": {\"3\": 2778, \"12\": 170, \"13\": 50, \"8\": 2}, \"7\": {\"7\": 2612, \"3\": 138, \"0\": 24, \"2\": 78, \"1\": 102, \"12\": 18, \"5\": 18, \"4\": 4, \"14\": 2, \"8\": 4}, \"11\": {\"11\": 2102, \"3\": 258, \"13\": 220, \"7\": 50, \"4\": 260, \"0\": 100, \"15\": 4, \"14\": 2, \"2\": 2, \"12\": 2}, \"9\": {\"9\": 2436, \"14\": 386, \"6\": 88, \"15\": 10, \"2\": 74, \"1\": 4, \"13\": 2}, \"14\": {\"14\": 2526, \"2\": 250, \"7\": 24, \"6\": 64, \"0\": 104, \"5\": 12, \"11\": 20}, \"0\": {\"0\": 2094, \"2\": 144, \"8\": 310, \"4\": 100, \"7\": 174, \"3\": 62, \"11\": 36, \"14\": 64, \"5\": 4, \"1\": 10, \"6\": 2}, \"15\": {\"15\": 2874, \"8\": 66, \"1\": 4, \"2\": 54, \"5\": 2}, \"1\": {\"1\": 2940, \"8\": 58, \"0\": 2}, \"5\": {\"5\": 2722, \"9\": 82, \"12\": 48, \"14\": 12, \"2\": 68, \"1\": 16, \"7\": 44, \"15\": 2, \"11\": 4, \"0\": 2}, \"2\": {\"2\": 2576, \"7\": 144, \"0\": 100, \"14\": 138, \"12\": 2, \"3\": 4, \"5\": 24, \"11\": 6, \"4\": 6}, \"4\": {\"4\": 1758, \"13\": 98, \"0\": 168, \"3\": 726, \"11\": 186, \"12\": 10, \"7\": 6, \"14\": 2, \"8\": 40, \"2\": 6}, \"6\": {\"6\": 2732, \"11\": 228, \"12\": 40}, \"8\": {\"8\": 2644, \"0\": 128, \"1\": 62, \"2\": 54, \"7\": 18, \"3\": 70, \"12\": 12, \"15\": 2, \"4\": 6, \"5\": 2, \"14\": 2}, \"12\": {\"12\": 2962, \"6\": 12, \"10\": 12, \"0\": 10, \"2\": 4}, \"10\": {\"10\": 3000}}, \"20\": {\"9\": {\"9\": 1110, \"4\": 60, \"2\": 728, \"1\": 120, \"3\": 746, \"5\": 116, \"15\": 74, \"12\": 24, \"13\": 16, \"7\": 6}, \"3\": {\"3\": 1806, \"7\": 292, \"2\": 172, \"4\": 182, \"5\": 192, \"9\": 180, \"12\": 106, \"15\": 30, \"10\": 32, \"8\": 6, \"13\": 2}, \"1\": {\"1\": 1812, \"2\": 804, \"0\": 20, \"9\": 204, \"15\": 34, \"3\": 58, \"5\": 68}, \"8\": {\"8\": 1996, \"0\": 94, \"10\": 48, \"14\": 736, \"2\": 20, \"12\": 28, \"3\": 20, \"4\": 42, \"5\": 16}, \"15\": {\"9\": 450, \"2\": 734, \"15\": 1116, \"3\": 270, \"12\": 56, \"1\": 50, \"5\": 88, \"13\": 210, \"7\": 12, \"4\": 6, \"11\": 8}, \"13\": {\"13\": 2412, \"11\": 56, \"15\": 258, \"9\": 46, \"12\": 170, \"2\": 20, \"3\": 26, \"7\": 12}, \"6\": {\"6\": 2904, \"10\": 88, \"7\": 8}, \"5\": {\"2\": 442, \"5\": 1204, \"7\": 76, \"9\": 198, \"3\": 800, \"4\": 82, \"1\": 82, \"0\": 24, \"15\": 54, \"12\": 20, \"10\": 4, \"8\": 10, \"11\": 4}, \"12\": {\"12\": 1772, \"3\": 532, \"13\": 66, \"9\": 164, \"4\": 190, \"15\": 52, \"2\": 62, \"7\": 112, \"11\": 28, \"10\": 10, \"5\": 12}, \"11\": {\"11\": 2916, \"4\": 14, \"0\": 14, \"9\": 24, \"5\": 20, \"13\": 4, \"2\": 6, \"3\": 2}, \"0\": {\"0\": 2718, \"1\": 106, \"15\": 14, \"9\": 38, \"8\": 6, \"2\": 22, \"3\": 48, \"5\": 40, \"12\": 4, \"10\": 4}, \"4\": {\"4\": 1724, \"3\": 200, \"12\": 744, \"10\": 136, \"5\": 58, \"7\": 76, \"2\": 18, \"11\": 4, \"14\": 4, \"9\": 16, \"8\": 12, \"15\": 6, \"6\": 2}, \"7\": {\"13\": 4, \"7\": 2242, \"3\": 286, \"6\": 110, \"10\": 236, \"12\": 38, \"9\": 12, \"4\": 38, \"11\": 12, \"2\": 12, \"5\": 10}, \"14\": {\"14\": 2874, \"8\": 92, \"6\": 8, \"10\": 14, \"12\": 10, \"4\": 2}, \"10\": {\"10\": 2696, \"12\": 64, \"6\": 200, \"7\": 18, \"4\": 14, \"11\": 4, \"3\": 4}, \"2\": {\"9\": 746, \"3\": 652, \"15\": 144, \"5\": 252, \"2\": 1008, \"4\": 48, \"13\": 16, \"1\": 74, \"12\": 18, \"7\": 38, \"10\": 2, \"11\": 2}}, \"8\": {\"11\": {\"11\": 2624, \"8\": 354, \"6\": 12, \"4\": 2, \"10\": 6, \"12\": 2}, \"3\": {\"10\": 1008, \"3\": 1912, \"15\": 2, \"4\": 46, \"0\": 28, \"2\": 2, \"12\": 2}, \"10\": {\"10\": 2200, \"5\": 260, \"13\": 468, \"7\": 28, \"4\": 12, \"1\": 28, \"2\": 4}, \"5\": {\"13\": 238, \"5\": 1808, \"10\": 804, \"1\": 140, \"4\": 4, \"7\": 2, \"14\": 4}, \"13\": {\"13\": 2654, \"1\": 160, \"4\": 48, \"7\": 52, \"10\": 82, \"5\": 2, \"2\": 2}, \"8\": {\"8\": 2272, \"11\": 696, \"6\": 28, \"7\": 2, \"4\": 2}, \"4\": {\"4\": 1382, \"7\": 1298, \"6\": 234, \"8\": 6, \"11\": 54, \"14\": 24, \"10\": 2}, \"0\": {\"0\": 2996, \"6\": 4}, \"2\": {\"2\": 2194, \"1\": 678, \"5\": 18, \"13\": 10, \"15\": 60, \"9\": 22, \"12\": 14, \"4\": 4}, \"1\": {\"1\": 2612, \"13\": 304, \"5\": 6, \"4\": 16, \"14\": 50, \"10\": 4, \"7\": 8}, \"9\": {\"9\": 2978, \"12\": 16, \"10\": 4, \"2\": 2}, \"6\": {\"6\": 2606, \"4\": 188, \"8\": 64, \"14\": 80, \"7\": 44, \"11\": 18}, \"7\": {\"7\": 1944, \"4\": 976, \"11\": 44, \"8\": 2, \"13\": 6, \"6\": 16, \"14\": 2, \"10\": 10}, \"12\": {\"12\": 2052, \"14\": 114, \"10\": 282, \"4\": 448, \"15\": 64, \"8\": 32, \"3\": 2, \"5\": 2, \"7\": 4}, \"14\": {\"14\": 2200, \"7\": 14, \"6\": 578, \"4\": 184, \"8\": 12, \"1\": 12}, \"15\": {\"15\": 2590, \"1\": 26, \"12\": 228, \"4\": 76, \"10\": 14, \"8\": 30, \"14\": 8, \"3\": 26, \"0\": 2}}, \"26\": {\"10\": {\"0\": 842, \"8\": 334, \"15\": 72, \"14\": 230, \"10\": 1292, \"1\": 74, \"2\": 28, \"5\": 10, \"9\": 32, \"6\": 62, \"12\": 18, \"7\": 2, \"13\": 2, \"3\": 2}, \"4\": {\"4\": 2708, \"13\": 2, \"10\": 58, \"3\": 212, \"14\": 6, \"6\": 12, \"2\": 2}, \"12\": {\"12\": 2996, \"11\": 4}, \"14\": {\"14\": 1662, \"1\": 240, \"10\": 298, \"0\": 676, \"6\": 28, \"15\": 6, \"8\": 56, \"5\": 28, \"2\": 6}, \"11\": {\"11\": 2874, \"6\": 90, \"12\": 36}, \"13\": {\"13\": 2426, \"9\": 478, \"7\": 60, \"2\": 20, \"8\": 10, \"3\": 4, \"10\": 2}, \"1\": {\"1\": 2602, \"0\": 82, \"14\": 226, \"10\": 64, \"5\": 4, \"15\": 6, \"6\": 16}, \"5\": {\"5\": 2618, \"6\": 222, \"9\": 42, \"15\": 42, \"14\": 16, \"1\": 24, \"2\": 20, \"8\": 6, \"10\": 6, \"13\": 4}, \"0\": {\"0\": 1638, \"10\": 636, \"14\": 338, \"15\": 98, \"1\": 10, \"2\": 40, \"8\": 220, \"6\": 16, \"9\": 2, \"7\": 2}, \"8\": {\"8\": 1438, \"10\": 268, \"3\": 16, \"2\": 358, \"0\": 168, \"9\": 398, \"7\": 216, \"14\": 28, \"6\": 4, \"15\": 54, \"4\": 10, \"13\": 36, \"5\": 6}, \"9\": {\"9\": 2178, \"13\": 310, \"8\": 212, \"0\": 8, \"7\": 188, \"2\": 76, \"6\": 2, \"3\": 10, \"15\": 10, \"10\": 6}, \"6\": {\"6\": 2396, \"2\": 2, \"5\": 364, \"10\": 82, \"9\": 82, \"14\": 22, \"1\": 18, \"12\": 12, \"11\": 2, \"0\": 18, \"15\": 2}, \"2\": {\"8\": 338, \"3\": 346, \"10\": 32, \"2\": 972, \"15\": 168, \"7\": 770, \"9\": 252, \"13\": 60, \"0\": 58, \"5\": 4}, \"15\": {\"15\": 2286, \"9\": 94, \"2\": 286, \"0\": 90, \"10\": 10, \"8\": 122, \"7\": 32, \"5\": 14, \"3\": 50, \"6\": 10, \"13\": 4, \"14\": 2}, \"7\": {\"9\": 144, \"7\": 1528, \"3\": 758, \"8\": 124, \"4\": 62, \"13\": 74, \"2\": 272, \"0\": 10, \"10\": 22, \"15\": 6}, \"3\": {\"2\": 88, \"3\": 2540, \"7\": 304, \"4\": 58, \"9\": 2, \"6\": 4, \"10\": 2, \"15\": 2}}, \"38\": {\"12\": {\"12\": 2958, \"13\": 4, \"14\": 20, \"6\": 18}, \"8\": {\"8\": 1470, \"5\": 524, \"4\": 220, \"14\": 248, \"6\": 142, \"15\": 394, \"0\": 2}, \"9\": {\"9\": 2760, \"12\": 168, \"15\": 24, \"11\": 22, \"14\": 8, \"5\": 18}, \"3\": {\"3\": 1968, \"13\": 968, \"10\": 40, \"11\": 16, \"0\": 4, \"12\": 4}, \"13\": {\"13\": 2750, \"3\": 220, \"10\": 28, \"12\": 2}, \"5\": {\"5\": 2062, \"8\": 582, \"15\": 238, \"11\": 32, \"6\": 40, \"4\": 30, \"9\": 2, \"1\": 6, \"14\": 8}, \"14\": {\"14\": 1750, \"5\": 372, \"7\": 438, \"12\": 22, \"3\": 12, \"4\": 204, \"2\": 166, \"6\": 28, \"13\": 8}, \"0\": {\"0\": 2114, \"7\": 306, \"6\": 26, \"15\": 54, \"13\": 14, \"4\": 294, \"9\": 170, \"8\": 16, \"5\": 2, \"3\": 2, \"14\": 2}, \"10\": {\"13\": 884, \"10\": 2072, \"7\": 20, \"4\": 4, \"3\": 20}, \"4\": {\"4\": 2960, \"13\": 30, \"10\": 6, \"14\": 2, \"7\": 2}, \"7\": {\"7\": 2248, \"8\": 288, \"4\": 230, \"0\": 164, \"13\": 22, \"5\": 4, \"15\": 28, \"14\": 12, \"6\": 4}, \"11\": {\"11\": 3000}, \"15\": {\"15\": 1960, \"1\": 880, \"11\": 88, \"6\": 34, \"9\": 24, \"5\": 4, \"10\": 8, \"0\": 2}, \"2\": {\"2\": 2044, \"5\": 772, \"14\": 142, \"8\": 4, \"7\": 26, \"3\": 8, \"6\": 2, \"4\": 2}, \"6\": {\"14\": 522, \"6\": 2402, \"15\": 26, \"9\": 34, \"1\": 10, \"2\": 4, \"0\": 2}, \"1\": {\"1\": 2866, \"15\": 90, \"0\": 24, \"9\": 14, \"6\": 6}}, \"44\": {\"0\": {\"0\": 2400, \"8\": 524, \"5\": 24, \"15\": 40, \"12\": 6, \"6\": 6}, \"10\": {\"10\": 2986, \"7\": 10, \"3\": 2, \"1\": 2}, \"5\": {\"5\": 1848, \"6\": 966, \"4\": 8, \"15\": 90, \"8\": 26, \"14\": 56, \"12\": 2, \"0\": 4}, \"15\": {\"15\": 2714, \"14\": 38, \"0\": 14, \"5\": 44, \"12\": 146, \"4\": 12, \"8\": 12, \"11\": 14, \"6\": 4, \"1\": 2}, \"2\": {\"2\": 2802, \"5\": 66, \"1\": 42, \"15\": 56, \"8\": 34}, \"7\": {\"7\": 2428, \"9\": 554, \"10\": 10, \"6\": 6, \"5\": 2}, \"13\": {\"0\": 194, \"13\": 2408, \"4\": 38, \"6\": 216, \"7\": 70, \"3\": 38, \"15\": 16, \"10\": 20}, \"12\": {\"12\": 1822, \"3\": 1164, \"8\": 6, \"7\": 4, \"13\": 2, \"4\": 2}, \"9\": {\"9\": 1424, \"7\": 1524, \"5\": 26, \"6\": 10, \"2\": 4, \"15\": 2, \"0\": 8, \"10\": 2}, \"6\": {\"6\": 2430, \"7\": 470, \"0\": 16, \"13\": 50, \"9\": 22, \"3\": 10, \"10\": 2}, \"8\": {\"15\": 102, \"0\": 920, \"8\": 1878, \"5\": 66, \"6\": 16, \"14\": 8, \"12\": 10}, \"4\": {\"4\": 2562, \"15\": 250, \"14\": 126, \"9\": 28, \"8\": 4, \"12\": 10, \"0\": 18, \"6\": 2}, \"14\": {\"4\": 810, \"14\": 1920, \"6\": 96, \"15\": 90, \"8\": 48, \"5\": 36}, \"11\": {\"11\": 2892, \"3\": 108}, \"3\": {\"3\": 2290, \"12\": 216, \"7\": 324, \"11\": 14, \"8\": 60, \"1\": 4, \"4\": 52, \"2\": 4, \"0\": 36}, \"1\": {\"1\": 2834, \"8\": 26, \"7\": 72, \"5\": 36, \"2\": 26, \"12\": 6}}, \"50\": {\"3\": {\"3\": 2996, \"14\": 2, \"8\": 2}, \"0\": {\"0\": 2480, \"2\": 168, \"10\": 230, \"9\": 10, \"1\": 56, \"12\": 54, \"13\": 2}, \"10\": {\"10\": 2808, \"0\": 76, \"1\": 22, \"13\": 94}, \"8\": {\"8\": 2968, \"10\": 2, \"13\": 20, \"1\": 8, \"0\": 2}, \"15\": {\"15\": 1854, \"5\": 74, \"4\": 468, \"14\": 154, \"8\": 220, \"6\": 224, \"0\": 4, \"9\": 2}, \"14\": {\"14\": 2602, \"9\": 378, \"6\": 20}, \"2\": {\"2\": 2786, \"0\": 84, \"9\": 88, \"12\": 40, \"1\": 2}, \"11\": {\"11\": 2622, \"15\": 242, \"1\": 10, \"5\": 76, \"9\": 16, \"14\": 16, \"2\": 10, \"12\": 6, \"6\": 2}, \"1\": {\"1\": 2682, \"15\": 278, \"5\": 24, \"13\": 6, \"11\": 6, \"12\": 4}, \"12\": {\"12\": 2698, \"9\": 256, \"11\": 2, \"5\": 28, \"15\": 6, \"4\": 2, \"14\": 8}, \"4\": {\"5\": 1216, \"4\": 1230, \"6\": 104, \"14\": 184, \"7\": 206, \"8\": 52, \"2\": 6, \"13\": 2}, \"7\": {\"7\": 2250, \"4\": 226, \"14\": 306, \"5\": 142, \"2\": 54, \"13\": 14, \"8\": 6, \"6\": 2}, \"6\": {\"6\": 1634, \"5\": 1130, \"15\": 82, \"14\": 114, \"8\": 22, \"4\": 18}, \"5\": {\"5\": 2236, \"6\": 184, \"14\": 194, \"2\": 56, \"4\": 212, \"7\": 78, \"8\": 40}, \"13\": {\"13\": 2912, \"1\": 18, \"10\": 38, \"5\": 4, \"8\": 16, \"12\": 8, \"0\": 4}, \"9\": {\"9\": 2602, \"5\": 170, \"12\": 218, \"7\": 2, \"4\": 6, \"0\": 2}}, \"14\": {\"15\": {\"15\": 2998, \"13\": 2}, \"6\": {\"6\": 2200, \"13\": 764, \"3\": 28, \"2\": 8}, \"2\": {\"4\": 118, \"2\": 2170, \"14\": 354, \"6\": 130, \"3\": 40, \"7\": 4, \"5\": 148, \"13\": 32, \"10\": 2, \"0\": 2}, \"11\": {\"11\": 2676, \"7\": 198, \"13\": 42, \"12\": 18, \"4\": 62, \"6\": 4}, \"7\": {\"7\": 2978, \"13\": 6, \"5\": 16}, \"9\": {\"9\": 2868, \"11\": 88, \"0\": 36, \"1\": 2, \"12\": 4, \"8\": 2}, \"10\": {\"10\": 1970, \"4\": 372, \"3\": 572, \"0\": 30, \"8\": 16, \"15\": 10, \"14\": 10, \"7\": 14, \"13\": 2, \"2\": 2, \"9\": 2}, \"0\": {\"0\": 2574, \"8\": 68, \"10\": 50, \"4\": 94, \"14\": 96, \"2\": 26, \"5\": 50, \"3\": 38, \"11\": 2, \"12\": 2}, \"8\": {\"8\": 2986, \"11\": 10, \"12\": 4}, \"5\": {\"5\": 2390, \"2\": 376, \"4\": 188, \"14\": 32, \"11\": 2, \"7\": 4, \"12\": 2, \"3\": 6}, \"14\": {\"14\": 2838, \"2\": 70, \"4\": 48, \"5\": 4, \"0\": 12, \"6\": 26, \"3\": 2}, \"1\": {\"1\": 2980, \"11\": 12, \"4\": 4, \"7\": 2, \"6\": 2}, \"13\": {\"6\": 936, \"13\": 2060, \"3\": 2, \"2\": 2}, \"3\": {\"3\": 2810, \"2\": 124, \"5\": 42, \"14\": 2, \"13\": 8, \"6\": 4, \"7\": 4, \"4\": 4, \"0\": 2}, \"4\": {\"4\": 2852, \"5\": 60, \"14\": 16, \"2\": 66, \"11\": 6}, \"12\": {\"8\": 36, \"2\": 192, \"9\": 110, \"12\": 2052, \"0\": 264, \"13\": 80, \"6\": 66, \"7\": 44, \"15\": 6, \"3\": 12, \"11\": 52, \"14\": 38, \"4\": 16, \"5\": 24, \"1\": 8}}}, \"per_domain_accuracy\": {\"32\": {\"accuracy\": 0.853625, \"source?\": true}, \"20\": {\"accuracy\": 0.673125, \"source?\": true}, \"8\": {\"accuracy\": 0.7713333333333333, \"source?\": true}, \"26\": {\"accuracy\": 0.7115416666666666, \"source?\": true}, \"38\": {\"accuracy\": 0.7788333333333334, \"source?\": true}, \"44\": {\"accuracy\": 0.784125, \"source?\": true}, \"50\": {\"accuracy\": 0.82, \"source?\": true}, \"14\": {\"accuracy\": 0.8625416666666667, \"source?\": true}}}, \"history\": {\"epoch_indices\": [1, 2, 3, 4, 5, 6, 7, 8, 9, 10], \"train_label_loss\": [1.9664077996185847, 1.1160121759176254, 0.832038445183209, 0.6817772234593119, 0.5816485569349357, 0.5085067289386477, 0.45742006905802657, 0.4079565461320536, 0.36713514319487983, 0.33345285409901826], \"source_val_label_loss\": [1.22998602104187, 0.90508413986365, 0.698384125093619, 0.6905057928562164, 0.7238900674382845, 0.5887218067844708, 0.6509950834115347, 0.660881497601668, 0.6542924111485481, 0.7743503951032956], \"target_val_label_loss\": [1.2299860197305679, 0.9050841413736344, 0.698384119550387, 0.6905057948629061, 0.7238900691270829, 0.5887218094468116, 0.6509950869480768, 0.660881496489048, 0.6542924098372459, 0.7743503966927529], \"source_val_acc_label\": [0.5925, 0.6903072916666667, 0.7547916666666666, 0.7510677083333334, 0.7375364583333334, 0.781890625, 0.7602447916666667, 0.7698125, 0.779875, 0.7407708333333334], \"target_val_acc_label\": [0.5925, 0.6903072916666667, 0.7547916666666666, 0.7510677083333334, 0.7375364583333334, 0.781890625, 0.7602447916666667, 0.7698125, 0.779875, 0.7407708333333334]}, \"dataset_metrics\": {\"source\": {\"train\": {\"n_unique_x\": 896000, \"n_unique_y\": 16, \"n_batch/episode\": 7000}, \"val\": {\"n_unique_x\": 192000, \"n_unique_y\": 16, \"n_batch/episode\": 1500}, \"test\": {\"n_unique_x\": 192000, \"n_unique_y\": 16, \"n_batch/episode\": 1500}}, \"target\": {\"train\": {\"n_unique_x\": 896000, \"n_unique_y\": 16, \"n_batch/episode\": 7000}, \"val\": {\"n_unique_x\": 192000, \"n_unique_y\": 16, \"n_batch/episode\": 1500}, \"test\": {\"n_unique_x\": 192000, \"n_unique_y\": 16, \"n_batch/episode\": 1500}}}}'"
      ]
     },
     "execution_count": 20,
     "metadata": {},
     "output_type": "execute_result"
    }
   ],
   "source": [
    "json.dumps(experiment)"
   ]
  }
 ],
 "metadata": {
  "celltoolbar": "Tags",
  "kernelspec": {
   "display_name": "Python 3 (ipykernel)",
   "language": "python",
   "name": "python3"
  },
  "language_info": {
   "codemirror_mode": {
    "name": "ipython",
    "version": 3
   },
   "file_extension": ".py",
   "mimetype": "text/x-python",
   "name": "python",
   "nbconvert_exporter": "python",
   "pygments_lexer": "ipython3",
   "version": "3.8.12"
  },
  "papermill": {
   "default_parameters": {},
   "duration": 1097.179294,
   "end_time": "2022-03-27T04:56:22.336197",
   "environment_variables": {},
   "exception": null,
   "input_path": "/root/csc500-main/csc500-notebooks/templates/cnn_template.ipynb",
   "output_path": "trial.ipynb",
   "parameters": {
    "parameters": {
     "BEST_MODEL_PATH": "./best_model.pth",
     "NUM_LOGS_PER_EPOCH": 10,
     "batch_size": 128,
     "criteria_for_best": "target_accuracy",
     "dataset_seed": 1337,
     "device": "cuda",
     "domains_source": [
      8,
      32,
      50,
      14,
      20,
      26,
      38,
      44
     ],
     "domains_target": [
      8,
      32,
      50,
      14,
      20,
      26,
      38,
      44
     ],
     "experiment_name": "cnn_2:oracle.run2",
     "labels": [
      "3123D52",
      "3123D65",
      "3123D79",
      "3123D80",
      "3123D54",
      "3123D70",
      "3123D7B",
      "3123D89",
      "3123D58",
      "3123D76",
      "3123D7D",
      "3123EFE",
      "3123D64",
      "3123D78",
      "3123D7E",
      "3124E4A"
     ],
     "lr": 0.0001,
     "n_epoch": 50,
     "normalize_source": false,
     "normalize_target": false,
     "num_examples_per_domain_per_label_source": -1,
     "num_examples_per_domain_per_label_target": -1,
     "patience": 3,
     "pickle_name_source": "oracle.Run2_10kExamples_stratified_ds.2022A.pkl",
     "pickle_name_target": "oracle.Run2_10kExamples_stratified_ds.2022A.pkl",
     "seed": 1337,
     "torch_default_dtype": "torch.float32",
     "x_net": [
      {
       "class": "nnReshape",
       "kargs": {
        "shape": [
         -1,
         1,
         2,
         256
        ]
       }
      },
      {
       "class": "Conv2d",
       "kargs": {
        "bias": false,
        "in_channels": 1,
        "kernel_size": [
         1,
         7
        ],
        "out_channels": 256,
        "padding": [
         0,
         3
        ]
       }
      },
      {
       "class": "ReLU",
       "kargs": {
        "inplace": true
       }
      },
      {
       "class": "BatchNorm2d",
       "kargs": {
        "num_features": 256
       }
      },
      {
       "class": "Conv2d",
       "kargs": {
        "bias": true,
        "in_channels": 256,
        "kernel_size": [
         2,
         7
        ],
        "out_channels": 80,
        "padding": [
         0,
         3
        ]
       }
      },
      {
       "class": "ReLU",
       "kargs": {
        "inplace": true
       }
      },
      {
       "class": "BatchNorm2d",
       "kargs": {
        "num_features": 80
       }
      },
      {
       "class": "Flatten",
       "kargs": {}
      },
      {
       "class": "Linear",
       "kargs": {
        "in_features": 20480,
        "out_features": 256
       }
      },
      {
       "class": "ReLU",
       "kargs": {
        "inplace": true
       }
      },
      {
       "class": "BatchNorm1d",
       "kargs": {
        "num_features": 256
       }
      },
      {
       "class": "Linear",
       "kargs": {
        "in_features": 256,
        "out_features": 16
       }
      }
     ]
    }
   },
   "start_time": "2022-03-27T04:38:05.156903",
   "version": "2.3.4"
  }
 },
 "nbformat": 4,
 "nbformat_minor": 5
}