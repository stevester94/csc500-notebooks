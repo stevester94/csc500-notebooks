{
 "cells": [
  {
   "cell_type": "code",
   "execution_count": 1,
   "id": "2324682e",
   "metadata": {
    "execution": {
     "iopub.execute_input": "2022-03-27T04:19:53.660352Z",
     "iopub.status.busy": "2022-03-27T04:19:53.659467Z",
     "iopub.status.idle": "2022-03-27T04:19:55.272538Z",
     "shell.execute_reply": "2022-03-27T04:19:55.271553Z"
    },
    "papermill": {
     "duration": 1.646219,
     "end_time": "2022-03-27T04:19:55.272739",
     "exception": false,
     "start_time": "2022-03-27T04:19:53.626520",
     "status": "completed"
    },
    "tags": []
   },
   "outputs": [],
   "source": [
    "import os, json, sys, time, random\n",
    "import numpy as np\n",
    "import torch\n",
    "from  easydict import EasyDict\n",
    "from math import floor\n",
    "from easydict import EasyDict\n",
    "\n",
    "from steves_utils.vanilla_train_eval_test_jig import  Vanilla_Train_Eval_Test_Jig\n",
    "\n",
    "from steves_utils.torch_utils import get_dataset_metrics, independent_accuracy_assesment\n",
    "from steves_models.configurable_vanilla import Configurable_Vanilla\n",
    "from steves_utils.torch_sequential_builder import build_sequential\n",
    "from steves_utils.lazy_map import Lazy_Map\n",
    "from steves_utils.sequence_aggregator import Sequence_Aggregator\n",
    "\n",
    "from steves_utils.stratified_dataset.traditional_accessor import Traditional_Accessor_Factory\n",
    "\n",
    "from steves_utils.cnn_do_report import (\n",
    "    get_loss_curve,\n",
    "    get_results_table,\n",
    "    get_parameters_table,\n",
    "    get_domain_accuracies,\n",
    ")\n",
    "\n",
    "from steves_utils.torch_utils import (\n",
    "    confusion_by_domain_over_dataloader,\n",
    "    independent_accuracy_assesment\n",
    ")\n",
    "\n",
    "from steves_utils.utils_v2 import (\n",
    "    per_domain_accuracy_from_confusion,\n",
    "    get_datasets_base_path\n",
    ")\n",
    "\n",
    "# from steves_utils.ptn_do_report import TBD"
   ]
  },
  {
   "cell_type": "code",
   "execution_count": 2,
   "id": "1b29e3fe",
   "metadata": {
    "execution": {
     "iopub.execute_input": "2022-03-27T04:19:55.310300Z",
     "iopub.status.busy": "2022-03-27T04:19:55.309908Z",
     "iopub.status.idle": "2022-03-27T04:19:55.313470Z",
     "shell.execute_reply": "2022-03-27T04:19:55.312643Z"
    },
    "papermill": {
     "duration": 0.02313,
     "end_time": "2022-03-27T04:19:55.313628",
     "exception": false,
     "start_time": "2022-03-27T04:19:55.290498",
     "status": "completed"
    },
    "tags": []
   },
   "outputs": [],
   "source": [
    "required_parameters = {\n",
    "    \"experiment_name\",\n",
    "    \"lr\",\n",
    "    \"device\",\n",
    "    \"dataset_seed\",\n",
    "    \"seed\",\n",
    "    \"labels\",\n",
    "    \"domains_target\",\n",
    "    \"domains_source\",\n",
    "    \"num_examples_per_domain_per_label_source\",\n",
    "    \"num_examples_per_domain_per_label_target\",\n",
    "    \"batch_size\",\n",
    "    \"n_epoch\",\n",
    "    \"patience\",\n",
    "    \"criteria_for_best\",\n",
    "    \"normalize_source\",\n",
    "    \"normalize_target\",\n",
    "    \"x_net\",\n",
    "    \"NUM_LOGS_PER_EPOCH\",\n",
    "    \"BEST_MODEL_PATH\",\n",
    "    \"pickle_name_source\",\n",
    "    \"pickle_name_target\",\n",
    "    \"torch_default_dtype\",\n",
    "}"
   ]
  },
  {
   "cell_type": "code",
   "execution_count": 3,
   "id": "670b5fb8",
   "metadata": {
    "execution": {
     "iopub.execute_input": "2022-03-27T04:19:55.360798Z",
     "iopub.status.busy": "2022-03-27T04:19:55.359895Z",
     "iopub.status.idle": "2022-03-27T04:19:55.367235Z",
     "shell.execute_reply": "2022-03-27T04:19:55.366513Z"
    },
    "papermill": {
     "duration": 0.034883,
     "end_time": "2022-03-27T04:19:55.367392",
     "exception": false,
     "start_time": "2022-03-27T04:19:55.332509",
     "status": "completed"
    },
    "tags": [
     "parameters"
    ]
   },
   "outputs": [],
   "source": [
    "from steves_utils.ORACLE.utils_v2 import (\n",
    "    ALL_SERIAL_NUMBERS,\n",
    "    ALL_DISTANCES_FEET_NARROWED,\n",
    ")\n",
    "\n",
    "standalone_parameters = {}\n",
    "standalone_parameters[\"experiment_name\"] = \"MANUAL CORES CNN\"\n",
    "standalone_parameters[\"lr\"] = 0.0001\n",
    "standalone_parameters[\"device\"] = \"cuda\"\n",
    "\n",
    "standalone_parameters[\"dataset_seed\"] = 1337\n",
    "standalone_parameters[\"seed\"] = 1337\n",
    "standalone_parameters[\"labels\"] = ALL_SERIAL_NUMBERS\n",
    "\n",
    "standalone_parameters[\"domains_source\"] = [8,32,50]\n",
    "standalone_parameters[\"domains_target\"] = [14,20,26,38,44,]\n",
    "\n",
    "standalone_parameters[\"num_examples_per_domain_per_label_source\"]=-1\n",
    "standalone_parameters[\"num_examples_per_domain_per_label_target\"]=-1\n",
    "\n",
    "standalone_parameters[\"pickle_name_source\"] = \"oracle.Run1_framed_2000Examples_stratified_ds.2022A.pkl\"\n",
    "standalone_parameters[\"pickle_name_target\"] = \"oracle.Run2_framed_2000Examples_stratified_ds.2022A.pkl\"\n",
    "\n",
    "standalone_parameters[\"torch_default_dtype\"] = \"torch.float32\" \n",
    "\n",
    "standalone_parameters[\"batch_size\"]=128\n",
    "\n",
    "standalone_parameters[\"n_epoch\"] = 3\n",
    "\n",
    "standalone_parameters[\"patience\"] = 10\n",
    "\n",
    "standalone_parameters[\"criteria_for_best\"] = \"target_accuracy\"\n",
    "standalone_parameters[\"normalize_source\"] = False\n",
    "standalone_parameters[\"normalize_target\"] = False\n",
    "\n",
    "standalone_parameters[\"x_net\"] =     [\n",
    "    {\"class\": \"nnReshape\", \"kargs\": {\"shape\":[-1, 1, 2, 256]}},\n",
    "    {\"class\": \"Conv2d\", \"kargs\": { \"in_channels\":1, \"out_channels\":256, \"kernel_size\":(1,7), \"bias\":False, \"padding\":(0,3), },},\n",
    "    {\"class\": \"ReLU\", \"kargs\": {\"inplace\": True}},\n",
    "    {\"class\": \"BatchNorm2d\", \"kargs\": {\"num_features\":256}},\n",
    "\n",
    "    {\"class\": \"Conv2d\", \"kargs\": { \"in_channels\":256, \"out_channels\":80, \"kernel_size\":(2,7), \"bias\":True, \"padding\":(0,3), },},\n",
    "    {\"class\": \"ReLU\", \"kargs\": {\"inplace\": True}},\n",
    "    {\"class\": \"BatchNorm2d\", \"kargs\": {\"num_features\":80}},\n",
    "    {\"class\": \"Flatten\", \"kargs\": {}},\n",
    "\n",
    "    {\"class\": \"Linear\", \"kargs\": {\"in_features\": 80*256, \"out_features\": 256}}, # 80 units per IQ pair\n",
    "    {\"class\": \"ReLU\", \"kargs\": {\"inplace\": True}},\n",
    "    {\"class\": \"BatchNorm1d\", \"kargs\": {\"num_features\":256}},\n",
    "\n",
    "    {\"class\": \"Linear\", \"kargs\": {\"in_features\": 256, \"out_features\": len(standalone_parameters[\"labels\"])}},\n",
    "]\n",
    "\n",
    "standalone_parameters[\"NUM_LOGS_PER_EPOCH\"] = 10\n",
    "standalone_parameters[\"BEST_MODEL_PATH\"] = \"./best_model.pth\""
   ]
  },
  {
   "cell_type": "code",
   "execution_count": 4,
   "id": "03a52647",
   "metadata": {
    "execution": {
     "iopub.execute_input": "2022-03-27T04:19:55.415743Z",
     "iopub.status.busy": "2022-03-27T04:19:55.410753Z",
     "iopub.status.idle": "2022-03-27T04:19:55.418763Z",
     "shell.execute_reply": "2022-03-27T04:19:55.417939Z"
    },
    "papermill": {
     "duration": 0.02949,
     "end_time": "2022-03-27T04:19:55.418920",
     "exception": false,
     "start_time": "2022-03-27T04:19:55.389430",
     "status": "completed"
    },
    "tags": [
     "injected-parameters"
    ]
   },
   "outputs": [],
   "source": [
    "# Parameters\n",
    "parameters = {\n",
    "    \"experiment_name\": \"cnn_2:oracle.run2\",\n",
    "    \"labels\": [\n",
    "        \"3123D52\",\n",
    "        \"3123D65\",\n",
    "        \"3123D79\",\n",
    "        \"3123D80\",\n",
    "        \"3123D54\",\n",
    "        \"3123D70\",\n",
    "        \"3123D7B\",\n",
    "        \"3123D89\",\n",
    "        \"3123D58\",\n",
    "        \"3123D76\",\n",
    "        \"3123D7D\",\n",
    "        \"3123EFE\",\n",
    "        \"3123D64\",\n",
    "        \"3123D78\",\n",
    "        \"3123D7E\",\n",
    "        \"3124E4A\",\n",
    "    ],\n",
    "    \"domains_source\": [8, 32, 50, 14, 20, 26, 38, 44],\n",
    "    \"domains_target\": [8, 32, 50, 14, 20, 26, 38, 44],\n",
    "    \"pickle_name_source\": \"oracle.Run2_10kExamples_stratified_ds.2022A.pkl\",\n",
    "    \"pickle_name_target\": \"oracle.Run2_10kExamples_stratified_ds.2022A.pkl\",\n",
    "    \"device\": \"cuda\",\n",
    "    \"lr\": 0.0001,\n",
    "    \"batch_size\": 128,\n",
    "    \"normalize_source\": False,\n",
    "    \"normalize_target\": False,\n",
    "    \"num_examples_per_domain_per_label_source\": -1,\n",
    "    \"num_examples_per_domain_per_label_target\": -1,\n",
    "    \"torch_default_dtype\": \"torch.float32\",\n",
    "    \"n_epoch\": 50,\n",
    "    \"patience\": 3,\n",
    "    \"criteria_for_best\": \"target_accuracy\",\n",
    "    \"x_net\": [\n",
    "        {\"class\": \"nnReshape\", \"kargs\": {\"shape\": [-1, 1, 2, 256]}},\n",
    "        {\n",
    "            \"class\": \"Conv2d\",\n",
    "            \"kargs\": {\n",
    "                \"in_channels\": 1,\n",
    "                \"out_channels\": 256,\n",
    "                \"kernel_size\": [1, 7],\n",
    "                \"bias\": False,\n",
    "                \"padding\": [0, 3],\n",
    "            },\n",
    "        },\n",
    "        {\"class\": \"ReLU\", \"kargs\": {\"inplace\": True}},\n",
    "        {\"class\": \"BatchNorm2d\", \"kargs\": {\"num_features\": 256}},\n",
    "        {\n",
    "            \"class\": \"Conv2d\",\n",
    "            \"kargs\": {\n",
    "                \"in_channels\": 256,\n",
    "                \"out_channels\": 80,\n",
    "                \"kernel_size\": [2, 7],\n",
    "                \"bias\": True,\n",
    "                \"padding\": [0, 3],\n",
    "            },\n",
    "        },\n",
    "        {\"class\": \"ReLU\", \"kargs\": {\"inplace\": True}},\n",
    "        {\"class\": \"BatchNorm2d\", \"kargs\": {\"num_features\": 80}},\n",
    "        {\"class\": \"Flatten\", \"kargs\": {}},\n",
    "        {\"class\": \"Linear\", \"kargs\": {\"in_features\": 20480, \"out_features\": 256}},\n",
    "        {\"class\": \"ReLU\", \"kargs\": {\"inplace\": True}},\n",
    "        {\"class\": \"BatchNorm1d\", \"kargs\": {\"num_features\": 256}},\n",
    "        {\"class\": \"Linear\", \"kargs\": {\"in_features\": 256, \"out_features\": 16}},\n",
    "    ],\n",
    "    \"NUM_LOGS_PER_EPOCH\": 10,\n",
    "    \"BEST_MODEL_PATH\": \"./best_model.pth\",\n",
    "    \"dataset_seed\": 154325,\n",
    "    \"seed\": 154325,\n",
    "}\n"
   ]
  },
  {
   "cell_type": "code",
   "execution_count": 5,
   "id": "759b56ec",
   "metadata": {
    "execution": {
     "iopub.execute_input": "2022-03-27T04:19:55.459019Z",
     "iopub.status.busy": "2022-03-27T04:19:55.458638Z",
     "iopub.status.idle": "2022-03-27T04:19:55.461753Z",
     "shell.execute_reply": "2022-03-27T04:19:55.461431Z"
    },
    "papermill": {
     "duration": 0.024403,
     "end_time": "2022-03-27T04:19:55.461823",
     "exception": false,
     "start_time": "2022-03-27T04:19:55.437420",
     "status": "completed"
    },
    "tags": []
   },
   "outputs": [],
   "source": [
    "# Set this to True if you want to run this template directly\n",
    "STANDALONE = False\n",
    "if STANDALONE:\n",
    "    print(\"parameters not injected, running with standalone_parameters\")\n",
    "    parameters = standalone_parameters\n",
    "\n",
    "if not 'parameters' in locals() and not 'parameters' in globals():\n",
    "    raise Exception(\"Parameter injection failed\")\n",
    "\n",
    "#Use an easy dict for all the parameters\n",
    "p = EasyDict(parameters)\n",
    "\n",
    "supplied_keys = set(p.keys())\n",
    "\n",
    "if  supplied_keys != required_parameters:\n",
    "    print(\"Parameters are incorrect\")\n",
    "    if len(supplied_keys - required_parameters)>0: print(\"Shouldn't have:\", str(supplied_keys - required_parameters))\n",
    "    if len(required_parameters - supplied_keys)>0: print(\"Need to have:\", str(required_parameters - supplied_keys))\n",
    "    raise RuntimeError(\"Parameters are incorrect\")\n",
    "\n"
   ]
  },
  {
   "cell_type": "code",
   "execution_count": 6,
   "id": "d5c66a71",
   "metadata": {
    "execution": {
     "iopub.execute_input": "2022-03-27T04:19:55.498701Z",
     "iopub.status.busy": "2022-03-27T04:19:55.498328Z",
     "iopub.status.idle": "2022-03-27T04:19:55.501454Z",
     "shell.execute_reply": "2022-03-27T04:19:55.501761Z"
    },
    "papermill": {
     "duration": 0.020951,
     "end_time": "2022-03-27T04:19:55.501842",
     "exception": false,
     "start_time": "2022-03-27T04:19:55.480891",
     "status": "completed"
    },
    "tags": []
   },
   "outputs": [],
   "source": [
    "###################################\n",
    "# Set the RNGs and make it all deterministic\n",
    "###################################\n",
    "np.random.seed(p.seed)\n",
    "random.seed(p.seed)\n",
    "torch.manual_seed(p.seed)\n",
    "\n",
    "torch.use_deterministic_algorithms(True) "
   ]
  },
  {
   "cell_type": "code",
   "execution_count": 7,
   "id": "92a65876",
   "metadata": {
    "execution": {
     "iopub.execute_input": "2022-03-27T04:19:55.536287Z",
     "iopub.status.busy": "2022-03-27T04:19:55.535915Z",
     "iopub.status.idle": "2022-03-27T04:19:55.538731Z",
     "shell.execute_reply": "2022-03-27T04:19:55.538410Z"
    },
    "papermill": {
     "duration": 0.020528,
     "end_time": "2022-03-27T04:19:55.538801",
     "exception": false,
     "start_time": "2022-03-27T04:19:55.518273",
     "status": "completed"
    },
    "tags": []
   },
   "outputs": [],
   "source": [
    "torch.set_default_dtype(eval(p.torch_default_dtype))"
   ]
  },
  {
   "cell_type": "code",
   "execution_count": 8,
   "id": "f1a32f01",
   "metadata": {
    "execution": {
     "iopub.execute_input": "2022-03-27T04:19:55.573979Z",
     "iopub.status.busy": "2022-03-27T04:19:55.573407Z",
     "iopub.status.idle": "2022-03-27T04:19:55.613124Z",
     "shell.execute_reply": "2022-03-27T04:19:55.612280Z"
    },
    "papermill": {
     "duration": 0.057924,
     "end_time": "2022-03-27T04:19:55.613287",
     "exception": false,
     "start_time": "2022-03-27T04:19:55.555363",
     "status": "completed"
    },
    "tags": []
   },
   "outputs": [],
   "source": [
    "###################################\n",
    "# Build the network(s)\n",
    "# Note: It's critical to do this AFTER setting the RNG\n",
    "###################################\n",
    "x_net = build_sequential(p.x_net)"
   ]
  },
  {
   "cell_type": "code",
   "execution_count": 9,
   "id": "a276cd83",
   "metadata": {
    "execution": {
     "iopub.execute_input": "2022-03-27T04:19:55.653857Z",
     "iopub.status.busy": "2022-03-27T04:19:55.653292Z",
     "iopub.status.idle": "2022-03-27T04:19:55.655576Z",
     "shell.execute_reply": "2022-03-27T04:19:55.656045Z"
    },
    "papermill": {
     "duration": 0.020902,
     "end_time": "2022-03-27T04:19:55.656181",
     "exception": false,
     "start_time": "2022-03-27T04:19:55.635279",
     "status": "completed"
    },
    "tags": []
   },
   "outputs": [],
   "source": [
    "start_time_secs = time.time()"
   ]
  },
  {
   "cell_type": "code",
   "execution_count": 10,
   "id": "de702e48",
   "metadata": {
    "execution": {
     "iopub.execute_input": "2022-03-27T04:19:55.704451Z",
     "iopub.status.busy": "2022-03-27T04:19:55.703847Z",
     "iopub.status.idle": "2022-03-27T04:20:33.260161Z",
     "shell.execute_reply": "2022-03-27T04:20:33.259355Z"
    },
    "papermill": {
     "duration": 37.58343,
     "end_time": "2022-03-27T04:20:33.260342",
     "exception": false,
     "start_time": "2022-03-27T04:19:55.676912",
     "status": "completed"
    },
    "tags": []
   },
   "outputs": [],
   "source": [
    "def wrap_in_dataloader(p, ds):\n",
    "    return torch.utils.data.DataLoader(\n",
    "        ds,\n",
    "        batch_size=p.batch_size,\n",
    "        shuffle=True,\n",
    "        num_workers=1,\n",
    "        persistent_workers=True,\n",
    "        prefetch_factor=50,\n",
    "        pin_memory=True\n",
    "    )\n",
    "\n",
    "taf_source = Traditional_Accessor_Factory(\n",
    "    labels=p.labels,\n",
    "    domains=p.domains_source,\n",
    "    num_examples_per_domain_per_label=p.num_examples_per_domain_per_label_source,\n",
    "    pickle_path=os.path.join(get_datasets_base_path(), p.pickle_name_source),\n",
    "    seed=p.dataset_seed\n",
    ")\n",
    "train_original_source, val_original_source, test_original_source = \\\n",
    "    taf_source.get_train(), taf_source.get_val(), taf_source.get_test()\n",
    "\n",
    "\n",
    "taf_target = Traditional_Accessor_Factory(\n",
    "    labels=p.labels,\n",
    "    domains=p.domains_target,\n",
    "    num_examples_per_domain_per_label=p.num_examples_per_domain_per_label_source,\n",
    "    pickle_path=os.path.join(get_datasets_base_path(), p.pickle_name_target),\n",
    "    seed=p.dataset_seed\n",
    ")\n",
    "train_original_target, val_original_target, test_original_target = \\\n",
    "    taf_target.get_train(), taf_target.get_val(), taf_target.get_test()\n",
    "\n",
    "\n",
    "# For CNN We only use X and Y. And we only train on the source.\n",
    "# Properly form the data using a transform lambda and Lazy_Map. Finally wrap them in a dataloader\n",
    "\n",
    "transform_lambda = lambda ex: ex[:2] # Strip the tuple to just (x,y)\n",
    "\n",
    "\n",
    "train_processed_source = wrap_in_dataloader(\n",
    "    p,\n",
    "    Lazy_Map(train_original_source, transform_lambda)\n",
    ")\n",
    "val_processed_source = wrap_in_dataloader(\n",
    "    p,\n",
    "    Lazy_Map(val_original_source, transform_lambda)\n",
    ")\n",
    "test_processed_source = wrap_in_dataloader(\n",
    "    p,\n",
    "    Lazy_Map(test_original_source, transform_lambda)\n",
    ")\n",
    "\n",
    "train_processed_target = wrap_in_dataloader(\n",
    "    p,\n",
    "    Lazy_Map(train_original_target, transform_lambda)\n",
    ")\n",
    "val_processed_target = wrap_in_dataloader(\n",
    "    p,\n",
    "    Lazy_Map(val_original_target, transform_lambda)\n",
    ")\n",
    "test_processed_target  = wrap_in_dataloader(\n",
    "    p,\n",
    "    Lazy_Map(test_original_target, transform_lambda)\n",
    ")\n",
    "\n",
    "\n",
    "\n",
    "datasets = EasyDict({\n",
    "    \"source\": {\n",
    "        \"original\": {\"train\":train_original_source, \"val\":val_original_source, \"test\":test_original_source},\n",
    "        \"processed\": {\"train\":train_processed_source, \"val\":val_processed_source, \"test\":test_processed_source}\n",
    "    },\n",
    "    \"target\": {\n",
    "        \"original\": {\"train\":train_original_target, \"val\":val_original_target, \"test\":test_original_target},\n",
    "        \"processed\": {\"train\":train_processed_target, \"val\":val_processed_target, \"test\":test_processed_target}\n",
    "    },\n",
    "})"
   ]
  },
  {
   "cell_type": "code",
   "execution_count": 11,
   "id": "a11b26bd",
   "metadata": {
    "execution": {
     "iopub.execute_input": "2022-03-27T04:20:33.342782Z",
     "iopub.status.busy": "2022-03-27T04:20:33.341936Z",
     "iopub.status.idle": "2022-03-27T04:20:38.600148Z",
     "shell.execute_reply": "2022-03-27T04:20:38.601245Z"
    },
    "papermill": {
     "duration": 5.322778,
     "end_time": "2022-03-27T04:20:38.601566",
     "exception": false,
     "start_time": "2022-03-27T04:20:33.278788",
     "status": "completed"
    },
    "tags": []
   },
   "outputs": [
    {
     "data": {
      "text/plain": [
       "torch.float32"
      ]
     },
     "execution_count": 11,
     "metadata": {},
     "output_type": "execute_result"
    }
   ],
   "source": [
    "ep = next(iter(test_processed_target))\n",
    "ep[0].dtype"
   ]
  },
  {
   "cell_type": "code",
   "execution_count": 12,
   "id": "19425fad",
   "metadata": {
    "execution": {
     "iopub.execute_input": "2022-03-27T04:20:38.643509Z",
     "iopub.status.busy": "2022-03-27T04:20:38.643134Z",
     "iopub.status.idle": "2022-03-27T04:20:38.693213Z",
     "shell.execute_reply": "2022-03-27T04:20:38.692472Z"
    },
    "papermill": {
     "duration": 0.071134,
     "end_time": "2022-03-27T04:20:38.693384",
     "exception": false,
     "start_time": "2022-03-27T04:20:38.622250",
     "status": "completed"
    },
    "tags": []
   },
   "outputs": [],
   "source": [
    "model = Configurable_Vanilla(\n",
    "    x_net=x_net,\n",
    "    label_loss_object=torch.nn.NLLLoss(),\n",
    "    learning_rate=p.lr\n",
    ")"
   ]
  },
  {
   "cell_type": "code",
   "execution_count": 13,
   "id": "7f6d4f2c",
   "metadata": {
    "execution": {
     "iopub.execute_input": "2022-03-27T04:20:38.737297Z",
     "iopub.status.busy": "2022-03-27T04:20:38.736919Z",
     "iopub.status.idle": "2022-03-27T04:36:09.071163Z",
     "shell.execute_reply": "2022-03-27T04:36:09.070316Z"
    },
    "papermill": {
     "duration": 930.355171,
     "end_time": "2022-03-27T04:36:09.071332",
     "exception": false,
     "start_time": "2022-03-27T04:20:38.716161",
     "status": "completed"
    },
    "tags": []
   },
   "outputs": [
    {
     "name": "stdout",
     "output_type": "stream",
     "text": [
      "epoch: 1, [batch: 1 / 7000], examples_per_second: 323.1674, train_label_loss: 2.7804, \n"
     ]
    },
    {
     "name": "stdout",
     "output_type": "stream",
     "text": [
      "epoch: 1, [batch: 700 / 7000], examples_per_second: 17017.7855, train_label_loss: 2.5950, \n"
     ]
    },
    {
     "name": "stdout",
     "output_type": "stream",
     "text": [
      "epoch: 1, [batch: 1400 / 7000], examples_per_second: 16958.0256, train_label_loss: 2.4601, \n"
     ]
    },
    {
     "name": "stdout",
     "output_type": "stream",
     "text": [
      "epoch: 1, [batch: 2100 / 7000], examples_per_second: 16953.0578, train_label_loss: 2.2765, \n"
     ]
    },
    {
     "name": "stdout",
     "output_type": "stream",
     "text": [
      "epoch: 1, [batch: 2800 / 7000], examples_per_second: 16904.9807, train_label_loss: 2.1250, \n"
     ]
    },
    {
     "name": "stdout",
     "output_type": "stream",
     "text": [
      "epoch: 1, [batch: 3500 / 7000], examples_per_second: 16994.0902, train_label_loss: 1.9516, \n"
     ]
    },
    {
     "name": "stdout",
     "output_type": "stream",
     "text": [
      "epoch: 1, [batch: 4200 / 7000], examples_per_second: 17060.3957, train_label_loss: 1.5387, \n"
     ]
    },
    {
     "name": "stdout",
     "output_type": "stream",
     "text": [
      "epoch: 1, [batch: 4900 / 7000], examples_per_second: 17064.0590, train_label_loss: 1.6498, \n"
     ]
    },
    {
     "name": "stdout",
     "output_type": "stream",
     "text": [
      "epoch: 1, [batch: 5600 / 7000], examples_per_second: 16906.5755, train_label_loss: 1.4026, \n"
     ]
    },
    {
     "name": "stdout",
     "output_type": "stream",
     "text": [
      "epoch: 1, [batch: 6300 / 7000], examples_per_second: 16855.4191, train_label_loss: 1.4426, \n"
     ]
    },
    {
     "name": "stdout",
     "output_type": "stream",
     "text": [
      "=============================================================\n",
      "epoch: 1, source_val_acc_label: 0.5927, source_val_label_loss: 1.2447, target_val_acc_label: 0.5927, target_val_label_loss: 1.2447, \n",
      "=============================================================\n"
     ]
    },
    {
     "name": "stdout",
     "output_type": "stream",
     "text": [
      "New best\n",
      "epoch: 2, [batch: 1 / 7000], examples_per_second: 17.2662, train_label_loss: 1.2598, \n"
     ]
    },
    {
     "name": "stdout",
     "output_type": "stream",
     "text": [
      "epoch: 2, [batch: 700 / 7000], examples_per_second: 16504.4833, train_label_loss: 1.3144, \n"
     ]
    },
    {
     "name": "stdout",
     "output_type": "stream",
     "text": [
      "epoch: 2, [batch: 1400 / 7000], examples_per_second: 16030.2657, train_label_loss: 1.2634, \n"
     ]
    },
    {
     "name": "stdout",
     "output_type": "stream",
     "text": [
      "epoch: 2, [batch: 2100 / 7000], examples_per_second: 16861.9972, train_label_loss: 1.1658, \n"
     ]
    },
    {
     "name": "stdout",
     "output_type": "stream",
     "text": [
      "epoch: 2, [batch: 2800 / 7000], examples_per_second: 16891.8263, train_label_loss: 1.1478, \n"
     ]
    },
    {
     "name": "stdout",
     "output_type": "stream",
     "text": [
      "epoch: 2, [batch: 3500 / 7000], examples_per_second: 16634.7048, train_label_loss: 1.1918, \n"
     ]
    },
    {
     "name": "stdout",
     "output_type": "stream",
     "text": [
      "epoch: 2, [batch: 4200 / 7000], examples_per_second: 16832.2311, train_label_loss: 0.9457, \n"
     ]
    },
    {
     "name": "stdout",
     "output_type": "stream",
     "text": [
      "epoch: 2, [batch: 4900 / 7000], examples_per_second: 16796.8045, train_label_loss: 1.0226, \n"
     ]
    },
    {
     "name": "stdout",
     "output_type": "stream",
     "text": [
      "epoch: 2, [batch: 5600 / 7000], examples_per_second: 16888.3709, train_label_loss: 1.0939, \n"
     ]
    },
    {
     "name": "stdout",
     "output_type": "stream",
     "text": [
      "epoch: 2, [batch: 6300 / 7000], examples_per_second: 16904.3647, train_label_loss: 0.9655, \n"
     ]
    },
    {
     "name": "stdout",
     "output_type": "stream",
     "text": [
      "=============================================================\n",
      "epoch: 2, source_val_acc_label: 0.6977, source_val_label_loss: 0.8839, target_val_acc_label: 0.6977, target_val_label_loss: 0.8839, \n",
      "=============================================================\n"
     ]
    },
    {
     "name": "stdout",
     "output_type": "stream",
     "text": [
      "New best\n",
      "epoch: 3, [batch: 1 / 7000], examples_per_second: 19.1682, train_label_loss: 0.7465, \n"
     ]
    },
    {
     "name": "stdout",
     "output_type": "stream",
     "text": [
      "epoch: 3, [batch: 700 / 7000], examples_per_second: 16908.1933, train_label_loss: 0.8210, \n"
     ]
    },
    {
     "name": "stdout",
     "output_type": "stream",
     "text": [
      "epoch: 3, [batch: 1400 / 7000], examples_per_second: 16854.8053, train_label_loss: 0.7984, \n"
     ]
    },
    {
     "name": "stdout",
     "output_type": "stream",
     "text": [
      "epoch: 3, [batch: 2100 / 7000], examples_per_second: 16826.4024, train_label_loss: 0.7168, \n"
     ]
    },
    {
     "name": "stdout",
     "output_type": "stream",
     "text": [
      "epoch: 3, [batch: 2800 / 7000], examples_per_second: 16821.8306, train_label_loss: 0.7997, \n"
     ]
    },
    {
     "name": "stdout",
     "output_type": "stream",
     "text": [
      "epoch: 3, [batch: 3500 / 7000], examples_per_second: 16819.5412, train_label_loss: 0.9965, \n"
     ]
    },
    {
     "name": "stdout",
     "output_type": "stream",
     "text": [
      "epoch: 3, [batch: 4200 / 7000], examples_per_second: 16671.3670, train_label_loss: 0.6501, \n"
     ]
    },
    {
     "name": "stdout",
     "output_type": "stream",
     "text": [
      "epoch: 3, [batch: 4900 / 7000], examples_per_second: 16756.8056, train_label_loss: 0.9033, \n"
     ]
    },
    {
     "name": "stdout",
     "output_type": "stream",
     "text": [
      "epoch: 3, [batch: 5600 / 7000], examples_per_second: 16795.4128, train_label_loss: 0.7202, \n"
     ]
    },
    {
     "name": "stdout",
     "output_type": "stream",
     "text": [
      "epoch: 3, [batch: 6300 / 7000], examples_per_second: 16702.4635, train_label_loss: 0.8809, \n"
     ]
    },
    {
     "name": "stdout",
     "output_type": "stream",
     "text": [
      "=============================================================\n",
      "epoch: 3, source_val_acc_label: 0.7553, source_val_label_loss: 0.7216, target_val_acc_label: 0.7553, target_val_label_loss: 0.7216, \n",
      "=============================================================\n"
     ]
    },
    {
     "name": "stdout",
     "output_type": "stream",
     "text": [
      "New best\n",
      "epoch: 4, [batch: 1 / 7000], examples_per_second: 18.5481, train_label_loss: 0.9236, \n"
     ]
    },
    {
     "name": "stdout",
     "output_type": "stream",
     "text": [
      "epoch: 4, [batch: 700 / 7000], examples_per_second: 16315.0879, train_label_loss: 0.5910, \n"
     ]
    },
    {
     "name": "stdout",
     "output_type": "stream",
     "text": [
      "epoch: 4, [batch: 1400 / 7000], examples_per_second: 13869.1976, train_label_loss: 0.6884, \n"
     ]
    },
    {
     "name": "stdout",
     "output_type": "stream",
     "text": [
      "epoch: 4, [batch: 2100 / 7000], examples_per_second: 11560.1459, train_label_loss: 0.6972, \n"
     ]
    },
    {
     "name": "stdout",
     "output_type": "stream",
     "text": [
      "epoch: 4, [batch: 2800 / 7000], examples_per_second: 10672.2744, train_label_loss: 0.6012, \n"
     ]
    },
    {
     "name": "stdout",
     "output_type": "stream",
     "text": [
      "epoch: 4, [batch: 3500 / 7000], examples_per_second: 10665.1143, train_label_loss: 0.6223, \n"
     ]
    },
    {
     "name": "stdout",
     "output_type": "stream",
     "text": [
      "epoch: 4, [batch: 4200 / 7000], examples_per_second: 10683.8698, train_label_loss: 0.5724, \n"
     ]
    },
    {
     "name": "stdout",
     "output_type": "stream",
     "text": [
      "epoch: 4, [batch: 4900 / 7000], examples_per_second: 10667.5543, train_label_loss: 0.7936, \n"
     ]
    },
    {
     "name": "stdout",
     "output_type": "stream",
     "text": [
      "epoch: 4, [batch: 5600 / 7000], examples_per_second: 10702.5844, train_label_loss: 0.7285, \n"
     ]
    },
    {
     "name": "stdout",
     "output_type": "stream",
     "text": [
      "epoch: 4, [batch: 6300 / 7000], examples_per_second: 10650.1895, train_label_loss: 0.7392, \n"
     ]
    },
    {
     "name": "stdout",
     "output_type": "stream",
     "text": [
      "=============================================================\n",
      "epoch: 4, source_val_acc_label: 0.7782, source_val_label_loss: 0.6309, target_val_acc_label: 0.7782, target_val_label_loss: 0.6309, \n",
      "=============================================================\n"
     ]
    },
    {
     "name": "stdout",
     "output_type": "stream",
     "text": [
      "New best\n",
      "epoch: 5, [batch: 1 / 7000], examples_per_second: 11.3751, train_label_loss: 0.5376, \n"
     ]
    },
    {
     "name": "stdout",
     "output_type": "stream",
     "text": [
      "epoch: 5, [batch: 700 / 7000], examples_per_second: 10659.1481, train_label_loss: 0.6262, \n"
     ]
    },
    {
     "name": "stdout",
     "output_type": "stream",
     "text": [
      "epoch: 5, [batch: 1400 / 7000], examples_per_second: 10744.6411, train_label_loss: 0.5013, \n"
     ]
    },
    {
     "name": "stdout",
     "output_type": "stream",
     "text": [
      "epoch: 5, [batch: 2100 / 7000], examples_per_second: 10716.7661, train_label_loss: 0.8762, \n"
     ]
    },
    {
     "name": "stdout",
     "output_type": "stream",
     "text": [
      "epoch: 5, [batch: 2800 / 7000], examples_per_second: 10663.9022, train_label_loss: 0.5273, \n"
     ]
    },
    {
     "name": "stdout",
     "output_type": "stream",
     "text": [
      "epoch: 5, [batch: 3500 / 7000], examples_per_second: 10679.1552, train_label_loss: 0.7285, \n"
     ]
    },
    {
     "name": "stdout",
     "output_type": "stream",
     "text": [
      "epoch: 5, [batch: 4200 / 7000], examples_per_second: 10679.4714, train_label_loss: 0.5229, \n"
     ]
    },
    {
     "name": "stdout",
     "output_type": "stream",
     "text": [
      "epoch: 5, [batch: 4900 / 7000], examples_per_second: 10688.9247, train_label_loss: 0.6399, \n"
     ]
    },
    {
     "name": "stdout",
     "output_type": "stream",
     "text": [
      "epoch: 5, [batch: 5600 / 7000], examples_per_second: 10683.1728, train_label_loss: 0.6244, \n"
     ]
    },
    {
     "name": "stdout",
     "output_type": "stream",
     "text": [
      "epoch: 5, [batch: 6300 / 7000], examples_per_second: 10711.1059, train_label_loss: 0.5989, \n"
     ]
    },
    {
     "name": "stdout",
     "output_type": "stream",
     "text": [
      "=============================================================\n",
      "epoch: 5, source_val_acc_label: 0.7674, source_val_label_loss: 0.6294, target_val_acc_label: 0.7674, target_val_label_loss: 0.6294, \n",
      "=============================================================\n"
     ]
    },
    {
     "name": "stdout",
     "output_type": "stream",
     "text": [
      "epoch: 6, [batch: 1 / 7000], examples_per_second: 11.4482, train_label_loss: 0.4185, \n"
     ]
    },
    {
     "name": "stdout",
     "output_type": "stream",
     "text": [
      "epoch: 6, [batch: 700 / 7000], examples_per_second: 10666.9138, train_label_loss: 0.5384, \n"
     ]
    },
    {
     "name": "stdout",
     "output_type": "stream",
     "text": [
      "epoch: 6, [batch: 1400 / 7000], examples_per_second: 10696.2450, train_label_loss: 0.4159, \n"
     ]
    },
    {
     "name": "stdout",
     "output_type": "stream",
     "text": [
      "epoch: 6, [batch: 2100 / 7000], examples_per_second: 10694.0499, train_label_loss: 0.3953, \n"
     ]
    },
    {
     "name": "stdout",
     "output_type": "stream",
     "text": [
      "epoch: 6, [batch: 2800 / 7000], examples_per_second: 10734.5374, train_label_loss: 0.5466, \n"
     ]
    },
    {
     "name": "stdout",
     "output_type": "stream",
     "text": [
      "epoch: 6, [batch: 3500 / 7000], examples_per_second: 10653.2947, train_label_loss: 0.5781, \n"
     ]
    },
    {
     "name": "stdout",
     "output_type": "stream",
     "text": [
      "epoch: 6, [batch: 4200 / 7000], examples_per_second: 10645.3171, train_label_loss: 0.4952, \n"
     ]
    },
    {
     "name": "stdout",
     "output_type": "stream",
     "text": [
      "epoch: 6, [batch: 4900 / 7000], examples_per_second: 10686.2743, train_label_loss: 0.5645, \n"
     ]
    },
    {
     "name": "stdout",
     "output_type": "stream",
     "text": [
      "epoch: 6, [batch: 5600 / 7000], examples_per_second: 10695.9092, train_label_loss: 0.5723, \n"
     ]
    },
    {
     "name": "stdout",
     "output_type": "stream",
     "text": [
      "epoch: 6, [batch: 6300 / 7000], examples_per_second: 10713.9461, train_label_loss: 0.4711, \n"
     ]
    },
    {
     "name": "stdout",
     "output_type": "stream",
     "text": [
      "=============================================================\n",
      "epoch: 6, source_val_acc_label: 0.7775, source_val_label_loss: 0.6075, target_val_acc_label: 0.7775, target_val_label_loss: 0.6075, \n",
      "=============================================================\n"
     ]
    },
    {
     "name": "stdout",
     "output_type": "stream",
     "text": [
      "epoch: 7, [batch: 1 / 7000], examples_per_second: 11.3762, train_label_loss: 0.4715, \n"
     ]
    },
    {
     "name": "stdout",
     "output_type": "stream",
     "text": [
      "epoch: 7, [batch: 700 / 7000], examples_per_second: 10641.2494, train_label_loss: 0.7736, \n"
     ]
    },
    {
     "name": "stdout",
     "output_type": "stream",
     "text": [
      "epoch: 7, [batch: 1400 / 7000], examples_per_second: 10659.2446, train_label_loss: 0.5576, \n"
     ]
    },
    {
     "name": "stdout",
     "output_type": "stream",
     "text": [
      "epoch: 7, [batch: 2100 / 7000], examples_per_second: 11342.2444, train_label_loss: 0.4652, \n"
     ]
    },
    {
     "name": "stdout",
     "output_type": "stream",
     "text": [
      "epoch: 7, [batch: 2800 / 7000], examples_per_second: 12051.9522, train_label_loss: 0.4417, \n"
     ]
    },
    {
     "name": "stdout",
     "output_type": "stream",
     "text": [
      "epoch: 7, [batch: 3500 / 7000], examples_per_second: 12992.3375, train_label_loss: 0.2651, \n"
     ]
    },
    {
     "name": "stdout",
     "output_type": "stream",
     "text": [
      "epoch: 7, [batch: 4200 / 7000], examples_per_second: 12986.7653, train_label_loss: 0.5693, \n"
     ]
    },
    {
     "name": "stdout",
     "output_type": "stream",
     "text": [
      "epoch: 7, [batch: 4900 / 7000], examples_per_second: 13019.1798, train_label_loss: 0.4873, \n"
     ]
    },
    {
     "name": "stdout",
     "output_type": "stream",
     "text": [
      "epoch: 7, [batch: 5600 / 7000], examples_per_second: 13153.0223, train_label_loss: 0.5423, \n"
     ]
    },
    {
     "name": "stdout",
     "output_type": "stream",
     "text": [
      "epoch: 7, [batch: 6300 / 7000], examples_per_second: 13016.6388, train_label_loss: 0.4481, \n"
     ]
    },
    {
     "name": "stdout",
     "output_type": "stream",
     "text": [
      "=============================================================\n",
      "epoch: 7, source_val_acc_label: 0.7865, source_val_label_loss: 0.5817, target_val_acc_label: 0.7865, target_val_label_loss: 0.5817, \n",
      "=============================================================\n"
     ]
    },
    {
     "name": "stdout",
     "output_type": "stream",
     "text": [
      "New best\n",
      "epoch: 8, [batch: 1 / 7000], examples_per_second: 14.7973, train_label_loss: 0.3578, \n"
     ]
    },
    {
     "name": "stdout",
     "output_type": "stream",
     "text": [
      "epoch: 8, [batch: 700 / 7000], examples_per_second: 13599.0803, train_label_loss: 0.5102, \n"
     ]
    },
    {
     "name": "stdout",
     "output_type": "stream",
     "text": [
      "epoch: 8, [batch: 1400 / 7000], examples_per_second: 12301.9158, train_label_loss: 0.3712, \n"
     ]
    },
    {
     "name": "stdout",
     "output_type": "stream",
     "text": [
      "epoch: 8, [batch: 2100 / 7000], examples_per_second: 10742.4918, train_label_loss: 0.5126, \n"
     ]
    },
    {
     "name": "stdout",
     "output_type": "stream",
     "text": [
      "epoch: 8, [batch: 2800 / 7000], examples_per_second: 10754.4148, train_label_loss: 0.5010, \n"
     ]
    },
    {
     "name": "stdout",
     "output_type": "stream",
     "text": [
      "epoch: 8, [batch: 3500 / 7000], examples_per_second: 10751.9703, train_label_loss: 0.3171, \n"
     ]
    },
    {
     "name": "stdout",
     "output_type": "stream",
     "text": [
      "epoch: 8, [batch: 4200 / 7000], examples_per_second: 10697.7811, train_label_loss: 0.4443, \n"
     ]
    },
    {
     "name": "stdout",
     "output_type": "stream",
     "text": [
      "epoch: 8, [batch: 4900 / 7000], examples_per_second: 10733.4226, train_label_loss: 0.4005, \n"
     ]
    },
    {
     "name": "stdout",
     "output_type": "stream",
     "text": [
      "epoch: 8, [batch: 5600 / 7000], examples_per_second: 10721.4026, train_label_loss: 0.3668, \n"
     ]
    },
    {
     "name": "stdout",
     "output_type": "stream",
     "text": [
      "epoch: 8, [batch: 6300 / 7000], examples_per_second: 10696.7270, train_label_loss: 0.4284, \n"
     ]
    },
    {
     "name": "stdout",
     "output_type": "stream",
     "text": [
      "=============================================================\n",
      "epoch: 8, source_val_acc_label: 0.7830, source_val_label_loss: 0.5884, target_val_acc_label: 0.7830, target_val_label_loss: 0.5884, \n",
      "=============================================================\n"
     ]
    },
    {
     "name": "stdout",
     "output_type": "stream",
     "text": [
      "epoch: 9, [batch: 1 / 7000], examples_per_second: 11.5921, train_label_loss: 0.5404, \n"
     ]
    },
    {
     "name": "stdout",
     "output_type": "stream",
     "text": [
      "epoch: 9, [batch: 700 / 7000], examples_per_second: 10691.8626, train_label_loss: 0.4869, \n"
     ]
    },
    {
     "name": "stdout",
     "output_type": "stream",
     "text": [
      "epoch: 9, [batch: 1400 / 7000], examples_per_second: 10757.5441, train_label_loss: 0.6343, \n"
     ]
    },
    {
     "name": "stdout",
     "output_type": "stream",
     "text": [
      "epoch: 9, [batch: 2100 / 7000], examples_per_second: 10722.5929, train_label_loss: 0.4591, \n"
     ]
    },
    {
     "name": "stdout",
     "output_type": "stream",
     "text": [
      "epoch: 9, [batch: 2800 / 7000], examples_per_second: 10734.2713, train_label_loss: 0.4351, \n"
     ]
    },
    {
     "name": "stdout",
     "output_type": "stream",
     "text": [
      "epoch: 9, [batch: 3500 / 7000], examples_per_second: 10737.7483, train_label_loss: 0.3249, \n"
     ]
    },
    {
     "name": "stdout",
     "output_type": "stream",
     "text": [
      "epoch: 9, [batch: 4200 / 7000], examples_per_second: 10731.7608, train_label_loss: 0.3408, \n"
     ]
    },
    {
     "name": "stdout",
     "output_type": "stream",
     "text": [
      "epoch: 9, [batch: 4900 / 7000], examples_per_second: 10739.2863, train_label_loss: 0.6179, \n"
     ]
    },
    {
     "name": "stdout",
     "output_type": "stream",
     "text": [
      "epoch: 9, [batch: 5600 / 7000], examples_per_second: 10732.1969, train_label_loss: 0.4077, \n"
     ]
    },
    {
     "name": "stdout",
     "output_type": "stream",
     "text": [
      "epoch: 9, [batch: 6300 / 7000], examples_per_second: 10714.9838, train_label_loss: 0.3414, \n"
     ]
    },
    {
     "name": "stdout",
     "output_type": "stream",
     "text": [
      "=============================================================\n",
      "epoch: 9, source_val_acc_label: 0.7846, source_val_label_loss: 0.5943, target_val_acc_label: 0.7846, target_val_label_loss: 0.5943, \n",
      "=============================================================\n"
     ]
    },
    {
     "name": "stdout",
     "output_type": "stream",
     "text": [
      "epoch: 10, [batch: 1 / 7000], examples_per_second: 11.5109, train_label_loss: 0.4966, \n"
     ]
    },
    {
     "name": "stdout",
     "output_type": "stream",
     "text": [
      "epoch: 10, [batch: 700 / 7000], examples_per_second: 10707.8211, train_label_loss: 0.4170, \n"
     ]
    },
    {
     "name": "stdout",
     "output_type": "stream",
     "text": [
      "epoch: 10, [batch: 1400 / 7000], examples_per_second: 10753.4076, train_label_loss: 0.2077, \n"
     ]
    },
    {
     "name": "stdout",
     "output_type": "stream",
     "text": [
      "epoch: 10, [batch: 2100 / 7000], examples_per_second: 10752.6255, train_label_loss: 0.2931, \n"
     ]
    },
    {
     "name": "stdout",
     "output_type": "stream",
     "text": [
      "epoch: 10, [batch: 2800 / 7000], examples_per_second: 10723.9548, train_label_loss: 0.3535, \n"
     ]
    },
    {
     "name": "stdout",
     "output_type": "stream",
     "text": [
      "epoch: 10, [batch: 3500 / 7000], examples_per_second: 10746.4646, train_label_loss: 0.2704, \n"
     ]
    },
    {
     "name": "stdout",
     "output_type": "stream",
     "text": [
      "epoch: 10, [batch: 4200 / 7000], examples_per_second: 10731.0078, train_label_loss: 0.2755, \n"
     ]
    },
    {
     "name": "stdout",
     "output_type": "stream",
     "text": [
      "epoch: 10, [batch: 4900 / 7000], examples_per_second: 10731.5668, train_label_loss: 0.2621, \n"
     ]
    },
    {
     "name": "stdout",
     "output_type": "stream",
     "text": [
      "epoch: 10, [batch: 5600 / 7000], examples_per_second: 10700.0835, train_label_loss: 0.3062, \n"
     ]
    },
    {
     "name": "stdout",
     "output_type": "stream",
     "text": [
      "epoch: 10, [batch: 6300 / 7000], examples_per_second: 10703.5662, train_label_loss: 0.3055, \n"
     ]
    },
    {
     "name": "stdout",
     "output_type": "stream",
     "text": [
      "=============================================================\n",
      "epoch: 10, source_val_acc_label: 0.7564, source_val_label_loss: 0.6935, target_val_acc_label: 0.7564, target_val_label_loss: 0.6935, \n",
      "=============================================================\n"
     ]
    },
    {
     "name": "stdout",
     "output_type": "stream",
     "text": [
      "epoch: 11, [batch: 1 / 7000], examples_per_second: 11.7551, train_label_loss: 0.2171, \n"
     ]
    },
    {
     "name": "stdout",
     "output_type": "stream",
     "text": [
      "epoch: 11, [batch: 700 / 7000], examples_per_second: 10697.2017, train_label_loss: 0.4401, \n"
     ]
    },
    {
     "name": "stdout",
     "output_type": "stream",
     "text": [
      "epoch: 11, [batch: 1400 / 7000], examples_per_second: 10745.3658, train_label_loss: 0.2472, \n"
     ]
    },
    {
     "name": "stdout",
     "output_type": "stream",
     "text": [
      "epoch: 11, [batch: 2100 / 7000], examples_per_second: 11605.9753, train_label_loss: 0.7052, \n"
     ]
    },
    {
     "name": "stdout",
     "output_type": "stream",
     "text": [
      "epoch: 11, [batch: 2800 / 7000], examples_per_second: 12560.2668, train_label_loss: 0.5672, \n"
     ]
    },
    {
     "name": "stdout",
     "output_type": "stream",
     "text": [
      "epoch: 11, [batch: 3500 / 7000], examples_per_second: 12980.3388, train_label_loss: 0.3087, \n"
     ]
    },
    {
     "name": "stdout",
     "output_type": "stream",
     "text": [
      "epoch: 11, [batch: 4200 / 7000], examples_per_second: 12978.2105, train_label_loss: 0.3303, \n"
     ]
    },
    {
     "name": "stdout",
     "output_type": "stream",
     "text": [
      "epoch: 11, [batch: 4900 / 7000], examples_per_second: 13052.8902, train_label_loss: 0.4190, \n"
     ]
    },
    {
     "name": "stdout",
     "output_type": "stream",
     "text": [
      "epoch: 11, [batch: 5600 / 7000], examples_per_second: 13140.4462, train_label_loss: 0.3696, \n"
     ]
    },
    {
     "name": "stdout",
     "output_type": "stream",
     "text": [
      "epoch: 11, [batch: 6300 / 7000], examples_per_second: 13098.0562, train_label_loss: 0.4835, \n"
     ]
    },
    {
     "name": "stdout",
     "output_type": "stream",
     "text": [
      "=============================================================\n",
      "epoch: 11, source_val_acc_label: 0.7790, source_val_label_loss: 0.6424, target_val_acc_label: 0.7790, target_val_label_loss: 0.6424, \n",
      "=============================================================\n"
     ]
    },
    {
     "name": "stdout",
     "output_type": "stream",
     "text": [
      "Patience (3) exhausted\n"
     ]
    }
   ],
   "source": [
    "jig = Vanilla_Train_Eval_Test_Jig(\n",
    "    model=model,\n",
    "    path_to_best_model=p.BEST_MODEL_PATH,\n",
    "    device=p.device,\n",
    "    label_loss_object=torch.nn.NLLLoss(),\n",
    ")\n",
    "\n",
    "jig.train(\n",
    "    train_iterable=datasets.source.processed.train,\n",
    "    source_val_iterable=datasets.source.processed.val,\n",
    "    target_val_iterable=datasets.target.processed.val,\n",
    "    patience=p.patience,\n",
    "    num_epochs=p.n_epoch,\n",
    "    num_logs_per_epoch=p.NUM_LOGS_PER_EPOCH,\n",
    "    criteria_for_best=p.criteria_for_best\n",
    ")"
   ]
  },
  {
   "cell_type": "code",
   "execution_count": 14,
   "id": "4bc2ac17",
   "metadata": {
    "execution": {
     "iopub.execute_input": "2022-03-27T04:36:09.172307Z",
     "iopub.status.busy": "2022-03-27T04:36:09.171930Z",
     "iopub.status.idle": "2022-03-27T04:36:09.174996Z",
     "shell.execute_reply": "2022-03-27T04:36:09.174373Z"
    },
    "papermill": {
     "duration": 0.054261,
     "end_time": "2022-03-27T04:36:09.175124",
     "exception": false,
     "start_time": "2022-03-27T04:36:09.120863",
     "status": "completed"
    },
    "tags": []
   },
   "outputs": [],
   "source": [
    "total_experiment_time_secs = time.time() - start_time_secs"
   ]
  },
  {
   "cell_type": "code",
   "execution_count": 15,
   "id": "cae88f23",
   "metadata": {
    "execution": {
     "iopub.execute_input": "2022-03-27T04:36:09.278043Z",
     "iopub.status.busy": "2022-03-27T04:36:09.276949Z",
     "iopub.status.idle": "2022-03-27T04:37:59.342927Z",
     "shell.execute_reply": "2022-03-27T04:37:59.347761Z"
    },
    "papermill": {
     "duration": 110.12944,
     "end_time": "2022-03-27T04:37:59.353734",
     "exception": false,
     "start_time": "2022-03-27T04:36:09.224294",
     "status": "completed"
    },
    "tags": []
   },
   "outputs": [],
   "source": [
    "source_test_label_accuracy, source_test_label_loss = jig.test(datasets.source.processed.test)\n",
    "target_test_label_accuracy, target_test_label_loss = jig.test(datasets.target.processed.test)\n",
    "\n",
    "source_val_label_accuracy, source_val_label_loss = jig.test(datasets.source.processed.val)\n",
    "target_val_label_accuracy, target_val_label_loss = jig.test(datasets.target.processed.val)\n",
    "\n",
    "history = jig.get_history()\n",
    "\n",
    "total_epochs_trained = len(history[\"epoch_indices\"])\n",
    "\n",
    "val_dl = wrap_in_dataloader(p, Sequence_Aggregator((datasets.source.original.val, datasets.target.original.val)))\n",
    "\n",
    "confusion = confusion_by_domain_over_dataloader(model, p.device, val_dl, forward_uses_domain=False)\n",
    "per_domain_accuracy = per_domain_accuracy_from_confusion(confusion)\n",
    "\n",
    "# Add a key to per_domain_accuracy for if it was a source domain\n",
    "for domain, accuracy in per_domain_accuracy.items():\n",
    "    per_domain_accuracy[domain] = {\n",
    "        \"accuracy\": accuracy,\n",
    "        \"source?\": domain in p.domains_source\n",
    "    }\n",
    "\n",
    "# Do an independent accuracy assesment JUST TO BE SURE!\n",
    "# _source_test_label_accuracy = independent_accuracy_assesment(model, datasets.source.processed.test, p.device)\n",
    "# _target_test_label_accuracy = independent_accuracy_assesment(model, datasets.target.processed.test, p.device)\n",
    "# _source_val_label_accuracy = independent_accuracy_assesment(model, datasets.source.processed.val, p.device)\n",
    "# _target_val_label_accuracy = independent_accuracy_assesment(model, datasets.target.processed.val, p.device)\n",
    "\n",
    "# assert(_source_test_label_accuracy == source_test_label_accuracy)\n",
    "# assert(_target_test_label_accuracy == target_test_label_accuracy)\n",
    "# assert(_source_val_label_accuracy == source_val_label_accuracy)\n",
    "# assert(_target_val_label_accuracy == target_val_label_accuracy)\n",
    "\n",
    "###################################\n",
    "# Write out the results\n",
    "###################################\n",
    "\n",
    "experiment = {\n",
    "    \"experiment_name\": p.experiment_name,\n",
    "    \"parameters\": p,\n",
    "    \"results\": {\n",
    "        \"source_test_label_accuracy\": source_test_label_accuracy,\n",
    "        \"source_test_label_loss\": source_test_label_loss,\n",
    "        \"target_test_label_accuracy\": target_test_label_accuracy,\n",
    "        \"target_test_label_loss\": target_test_label_loss,\n",
    "        \"source_val_label_accuracy\": source_val_label_accuracy,\n",
    "        \"source_val_label_loss\": source_val_label_loss,\n",
    "        \"target_val_label_accuracy\": target_val_label_accuracy,\n",
    "        \"target_val_label_loss\": target_val_label_loss,\n",
    "        \"total_epochs_trained\": total_epochs_trained,\n",
    "        \"total_experiment_time_secs\": total_experiment_time_secs,\n",
    "        \"confusion\": confusion,\n",
    "        \"per_domain_accuracy\": per_domain_accuracy,\n",
    "    },\n",
    "    \"history\": history,\n",
    "    \"dataset_metrics\": get_dataset_metrics(datasets, \"cnn\"),\n",
    "}"
   ]
  },
  {
   "cell_type": "code",
   "execution_count": 16,
   "id": "74c318cf",
   "metadata": {
    "execution": {
     "iopub.execute_input": "2022-03-27T04:37:59.547081Z",
     "iopub.status.busy": "2022-03-27T04:37:59.528934Z",
     "iopub.status.idle": "2022-03-27T04:38:00.021749Z",
     "shell.execute_reply": "2022-03-27T04:38:00.022608Z"
    },
    "papermill": {
     "duration": 0.570715,
     "end_time": "2022-03-27T04:38:00.022819",
     "exception": false,
     "start_time": "2022-03-27T04:37:59.452104",
     "status": "completed"
    },
    "tags": []
   },
   "outputs": [
    {
     "data": {
      "text/plain": [
       "<AxesSubplot:title={'center':'Source Train Label Loss vs Source Val Label Loss'}, xlabel='Epoch'>"
      ]
     },
     "execution_count": 16,
     "metadata": {},
     "output_type": "execute_result"
    },
    {
     "data": {
      "image/png": "[encoded data removed]",
      "text/plain": [
       "<Figure size 1080x504 with 1 Axes>"
      ]
     },
     "metadata": {
      "needs_background": "light"
     },
     "output_type": "display_data"
    }
   ],
   "source": [
    "get_loss_curve(experiment)"
   ]
  },
  {
   "cell_type": "code",
   "execution_count": 17,
   "id": "59376601",
   "metadata": {
    "execution": {
     "iopub.execute_input": "2022-03-27T04:38:00.155580Z",
     "iopub.status.busy": "2022-03-27T04:38:00.154378Z",
     "iopub.status.idle": "2022-03-27T04:38:00.468623Z",
     "shell.execute_reply": "2022-03-27T04:38:00.469311Z"
    },
    "papermill": {
     "duration": 0.391729,
     "end_time": "2022-03-27T04:38:00.469521",
     "exception": false,
     "start_time": "2022-03-27T04:38:00.077792",
     "status": "completed"
    },
    "tags": []
   },
   "outputs": [
    {
     "data": {
      "text/plain": [
       "<AxesSubplot:title={'center':'Results'}>"
      ]
     },
     "execution_count": 17,
     "metadata": {},
     "output_type": "execute_result"
    },
    {
     "data": {
      "image/png": "[encoded data removed]",
      "text/plain": [
       "<Figure size 1080x504 with 1 Axes>"
      ]
     },
     "metadata": {
      "needs_background": "light"
     },
     "output_type": "display_data"
    }
   ],
   "source": [
    "get_results_table(experiment)"
   ]
  },
  {
   "cell_type": "code",
   "execution_count": 18,
   "id": "e80c5c98",
   "metadata": {
    "execution": {
     "iopub.execute_input": "2022-03-27T04:38:00.639224Z",
     "iopub.status.busy": "2022-03-27T04:38:00.609068Z",
     "iopub.status.idle": "2022-03-27T04:38:00.901263Z",
     "shell.execute_reply": "2022-03-27T04:38:00.900524Z"
    },
    "papermill": {
     "duration": 0.374487,
     "end_time": "2022-03-27T04:38:00.901436",
     "exception": false,
     "start_time": "2022-03-27T04:38:00.526949",
     "status": "completed"
    },
    "tags": []
   },
   "outputs": [
    {
     "data": {
      "text/plain": [
       "<AxesSubplot:title={'center':'Per Domain Accuracy'}, xlabel='domain'>"
      ]
     },
     "execution_count": 18,
     "metadata": {},
     "output_type": "execute_result"
    },
    {
     "data": {
      "image/png": "[encoded data removed]",
      "text/plain": [
       "<Figure size 1080x504 with 1 Axes>"
      ]
     },
     "metadata": {
      "needs_background": "light"
     },
     "output_type": "display_data"
    }
   ],
   "source": [
    "get_domain_accuracies(experiment)"
   ]
  },
  {
   "cell_type": "code",
   "execution_count": 19,
   "id": "086fdd10",
   "metadata": {
    "execution": {
     "iopub.execute_input": "2022-03-27T04:38:01.019741Z",
     "iopub.status.busy": "2022-03-27T04:38:01.019339Z",
     "iopub.status.idle": "2022-03-27T04:38:01.023187Z",
     "shell.execute_reply": "2022-03-27T04:38:01.023495Z"
    },
    "papermill": {
     "duration": 0.062696,
     "end_time": "2022-03-27T04:38:01.023606",
     "exception": false,
     "start_time": "2022-03-27T04:38:00.960910",
     "status": "completed"
    },
    "tags": []
   },
   "outputs": [
    {
     "name": "stdout",
     "output_type": "stream",
     "text": [
      "Source Test Label Accuracy: 0.7865833333333333 Target Test Label Accuracy: 0.7865833333333333\n",
      "Source Val Label Accuracy: 0.7865208333333333 Target Val Label Accuracy: 0.7865208333333333\n"
     ]
    }
   ],
   "source": [
    "print(\"Source Test Label Accuracy:\", experiment[\"results\"][\"source_test_label_accuracy\"], \"Target Test Label Accuracy:\", experiment[\"results\"][\"target_test_label_accuracy\"])\n",
    "print(\"Source Val Label Accuracy:\", experiment[\"results\"][\"source_val_label_accuracy\"], \"Target Val Label Accuracy:\", experiment[\"results\"][\"target_val_label_accuracy\"])"
   ]
  },
  {
   "cell_type": "code",
   "execution_count": 20,
   "id": "9f450536",
   "metadata": {
    "execution": {
     "iopub.execute_input": "2022-03-27T04:38:01.138924Z",
     "iopub.status.busy": "2022-03-27T04:38:01.138344Z",
     "iopub.status.idle": "2022-03-27T04:38:01.141596Z",
     "shell.execute_reply": "2022-03-27T04:38:01.142061Z"
    },
    "papermill": {
     "duration": 0.062547,
     "end_time": "2022-03-27T04:38:01.142194",
     "exception": false,
     "start_time": "2022-03-27T04:38:01.079647",
     "status": "completed"
    },
    "tags": [
     "experiment_json"
    ]
   },
   "outputs": [
    {
     "data": {
      "text/plain": [
       "'{\"experiment_name\": \"cnn_2:oracle.run2\", \"parameters\": {\"experiment_name\": \"cnn_2:oracle.run2\", \"labels\": [\"3123D52\", \"3123D65\", \"3123D79\", \"3123D80\", \"3123D54\", \"3123D70\", \"3123D7B\", \"3123D89\", \"3123D58\", \"3123D76\", \"3123D7D\", \"3123EFE\", \"3123D64\", \"3123D78\", \"3123D7E\", \"3124E4A\"], \"domains_source\": [8, 32, 50, 14, 20, 26, 38, 44], \"domains_target\": [8, 32, 50, 14, 20, 26, 38, 44], \"pickle_name_source\": \"oracle.Run2_10kExamples_stratified_ds.2022A.pkl\", \"pickle_name_target\": \"oracle.Run2_10kExamples_stratified_ds.2022A.pkl\", \"device\": \"cuda\", \"lr\": 0.0001, \"batch_size\": 128, \"normalize_source\": false, \"normalize_target\": false, \"num_examples_per_domain_per_label_source\": -1, \"num_examples_per_domain_per_label_target\": -1, \"torch_default_dtype\": \"torch.float32\", \"n_epoch\": 50, \"patience\": 3, \"criteria_for_best\": \"target_accuracy\", \"x_net\": [{\"class\": \"nnReshape\", \"kargs\": {\"shape\": [-1, 1, 2, 256]}}, {\"class\": \"Conv2d\", \"kargs\": {\"in_channels\": 1, \"out_channels\": 256, \"kernel_size\": [1, 7], \"bias\": false, \"padding\": [0, 3]}}, {\"class\": \"ReLU\", \"kargs\": {\"inplace\": true}}, {\"class\": \"BatchNorm2d\", \"kargs\": {\"num_features\": 256}}, {\"class\": \"Conv2d\", \"kargs\": {\"in_channels\": 256, \"out_channels\": 80, \"kernel_size\": [2, 7], \"bias\": true, \"padding\": [0, 3]}}, {\"class\": \"ReLU\", \"kargs\": {\"inplace\": true}}, {\"class\": \"BatchNorm2d\", \"kargs\": {\"num_features\": 80}}, {\"class\": \"Flatten\", \"kargs\": {}}, {\"class\": \"Linear\", \"kargs\": {\"in_features\": 20480, \"out_features\": 256}}, {\"class\": \"ReLU\", \"kargs\": {\"inplace\": true}}, {\"class\": \"BatchNorm1d\", \"kargs\": {\"num_features\": 256}}, {\"class\": \"Linear\", \"kargs\": {\"in_features\": 256, \"out_features\": 16}}], \"NUM_LOGS_PER_EPOCH\": 10, \"BEST_MODEL_PATH\": \"./best_model.pth\", \"dataset_seed\": 154325, \"seed\": 154325}, \"results\": {\"source_test_label_accuracy\": 0.7865833333333333, \"source_test_label_loss\": 0.5789772355357806, \"target_test_label_accuracy\": 0.7865833333333333, \"target_test_label_loss\": 0.5789772387544314, \"source_val_label_accuracy\": 0.7865208333333333, \"source_val_label_loss\": 0.58169864209493, \"target_val_label_accuracy\": 0.7865208333333333, \"target_val_label_loss\": 0.5816986382404963, \"total_epochs_trained\": 11, \"total_experiment_time_secs\": 973.5189278125763, \"confusion\": {\"8\": {\"11\": {\"11\": 2366, \"10\": 48, \"8\": 512, \"6\": 40, \"12\": 22, \"15\": 4, \"14\": 2, \"4\": 4, \"7\": 2}, \"10\": {\"10\": 2268, \"5\": 466, \"13\": 228, \"1\": 26, \"7\": 4, \"2\": 6, \"4\": 2}, \"14\": {\"14\": 2692, \"7\": 24, \"6\": 214, \"4\": 52, \"8\": 6, \"1\": 12}, \"2\": {\"1\": 820, \"2\": 2042, \"12\": 14, \"15\": 56, \"9\": 48, \"13\": 16, \"5\": 4}, \"1\": {\"1\": 2716, \"13\": 182, \"14\": 60, \"4\": 2, \"10\": 4, \"5\": 30, \"8\": 2, \"7\": 4}, \"12\": {\"12\": 2204, \"14\": 58, \"4\": 350, \"15\": 176, \"8\": 16, \"10\": 182, \"3\": 14}, \"13\": {\"13\": 2608, \"1\": 136, \"7\": 38, \"10\": 168, \"5\": 32, \"4\": 14, \"2\": 4}, \"4\": {\"7\": 1780, \"4\": 1028, \"14\": 20, \"6\": 146, \"11\": 10, \"12\": 4, \"13\": 4, \"10\": 6, \"1\": 2}, \"0\": {\"0\": 2998, \"14\": 2}, \"3\": {\"10\": 946, \"3\": 1968, \"0\": 60, \"4\": 16, \"8\": 6, \"15\": 4}, \"9\": {\"9\": 2998, \"13\": 2}, \"7\": {\"7\": 2396, \"4\": 552, \"10\": 12, \"12\": 10, \"14\": 2, \"13\": 8, \"11\": 18, \"8\": 2}, \"8\": {\"8\": 2658, \"6\": 70, \"11\": 266, \"7\": 4, \"1\": 2}, \"5\": {\"5\": 2118, \"10\": 678, \"1\": 142, \"13\": 56, \"14\": 6}, \"15\": {\"15\": 2830, \"3\": 10, \"12\": 114, \"1\": 16, \"4\": 14, \"10\": 16}, \"6\": {\"6\": 2442, \"14\": 188, \"8\": 50, \"4\": 190, \"7\": 122, \"11\": 6, \"0\": 2}}, \"14\": {\"9\": {\"9\": 2964, \"1\": 4, \"11\": 20, \"0\": 12}, \"0\": {\"0\": 2884, \"8\": 36, \"14\": 18, \"4\": 12, \"10\": 26, \"3\": 20, \"9\": 2, \"2\": 2}, \"6\": {\"6\": 2096, \"13\": 800, \"3\": 74, \"2\": 26, \"4\": 2, \"14\": 2}, \"11\": {\"11\": 2160, \"7\": 574, \"12\": 106, \"13\": 116, \"4\": 36, \"6\": 8}, \"13\": {\"13\": 2064, \"6\": 916, \"2\": 4, \"3\": 12, \"15\": 4}, \"5\": {\"5\": 2256, \"2\": 446, \"4\": 244, \"3\": 28, \"7\": 12, \"14\": 14}, \"8\": {\"8\": 2996, \"11\": 2, \"13\": 2}, \"4\": {\"4\": 2828, \"5\": 60, \"2\": 92, \"11\": 4, \"14\": 6, \"1\": 8, \"0\": 2}, \"15\": {\"15\": 2992, \"13\": 6, \"3\": 2}, \"14\": {\"14\": 2768, \"4\": 84, \"6\": 18, \"2\": 102, \"3\": 12, \"5\": 2, \"0\": 14}, \"7\": {\"7\": 2980, \"5\": 10, \"1\": 6, \"13\": 2, \"2\": 2}, \"10\": {\"10\": 1770, \"3\": 814, \"4\": 274, \"8\": 42, \"0\": 70, \"15\": 12, \"14\": 6, \"7\": 10, \"12\": 2}, \"3\": {\"3\": 2918, \"2\": 52, \"6\": 6, \"5\": 8, \"4\": 8, \"7\": 2, \"13\": 4, \"14\": 2}, \"2\": {\"2\": 2216, \"3\": 96, \"5\": 134, \"4\": 154, \"6\": 100, \"14\": 254, \"13\": 34, \"7\": 8, \"0\": 4}, \"12\": {\"7\": 88, \"12\": 2056, \"2\": 218, \"0\": 270, \"13\": 48, \"9\": 116, \"6\": 68, \"15\": 14, \"11\": 50, \"14\": 26, \"8\": 24, \"3\": 8, \"4\": 8, \"5\": 2, \"10\": 2, \"1\": 2}, \"1\": {\"1\": 2994, \"7\": 2, \"2\": 2, \"11\": 2}}, \"50\": {\"14\": {\"14\": 2408, \"9\": 524, \"6\": 64, \"15\": 2, \"11\": 2}, \"13\": {\"13\": 2934, \"1\": 28, \"10\": 32, \"8\": 6}, \"5\": {\"2\": 106, \"5\": 2212, \"14\": 570, \"4\": 32, \"7\": 72, \"6\": 6, \"8\": 2}, \"8\": {\"8\": 2924, \"13\": 28, \"1\": 30, \"3\": 12, \"10\": 4, \"0\": 2}, \"0\": {\"0\": 2580, \"12\": 38, \"10\": 272, \"2\": 76, \"1\": 32, \"13\": 2}, \"2\": {\"9\": 152, \"0\": 254, \"2\": 2496, \"12\": 94, \"6\": 4}, \"7\": {\"7\": 2176, \"2\": 92, \"14\": 600, \"5\": 118, \"4\": 14}, \"4\": {\"5\": 1810, \"14\": 612, \"7\": 248, \"4\": 308, \"2\": 12, \"8\": 10}, \"10\": {\"10\": 2768, \"13\": 166, \"0\": 56, \"1\": 8, \"12\": 2}, \"12\": {\"12\": 2422, \"9\": 484, \"15\": 54, \"14\": 6, \"5\": 28, \"11\": 4, \"4\": 2}, \"15\": {\"5\": 190, \"15\": 2470, \"8\": 124, \"4\": 44, \"14\": 118, \"6\": 54}, \"1\": {\"1\": 2696, \"15\": 284, \"5\": 16, \"11\": 2, \"13\": 2}, \"6\": {\"5\": 1892, \"6\": 884, \"8\": 4, \"14\": 82, \"15\": 136, \"2\": 2}, \"9\": {\"9\": 2878, \"5\": 76, \"0\": 20, \"12\": 22, \"15\": 2, \"4\": 2}, \"3\": {\"3\": 2970, \"2\": 26, \"14\": 4}, \"11\": {\"11\": 2726, \"15\": 230, \"5\": 20, \"1\": 10, \"14\": 6, \"9\": 6, \"2\": 2}}, \"26\": {\"13\": {\"13\": 2400, \"9\": 426, \"8\": 62, \"2\": 38, \"7\": 74}, \"3\": {\"3\": 1876, \"7\": 750, \"4\": 106, \"2\": 234, \"8\": 16, \"10\": 2, \"15\": 4, \"9\": 6, \"13\": 2, \"0\": 2, \"6\": 2}, \"4\": {\"4\": 2638, \"3\": 250, \"0\": 2, \"10\": 104, \"7\": 4, \"2\": 2}, \"5\": {\"5\": 2500, \"6\": 326, \"2\": 30, \"15\": 62, \"14\": 16, \"9\": 34, \"10\": 6, \"8\": 14, \"0\": 2, \"1\": 8, \"13\": 2}, \"7\": {\"7\": 1592, \"4\": 80, \"8\": 356, \"2\": 534, \"3\": 260, \"10\": 12, \"13\": 50, \"9\": 108, \"15\": 6, \"0\": 2}, \"11\": {\"11\": 2856, \"6\": 124, \"12\": 20}, \"0\": {\"14\": 342, \"8\": 418, \"0\": 1554, \"10\": 586, \"2\": 32, \"15\": 46, \"9\": 4, \"6\": 14, \"1\": 4}, \"1\": {\"1\": 2652, \"10\": 52, \"14\": 222, \"5\": 14, \"6\": 18, \"15\": 4, \"0\": 38}, \"10\": {\"10\": 1282, \"8\": 464, \"0\": 792, \"14\": 234, \"2\": 20, \"1\": 58, \"15\": 56, \"12\": 26, \"6\": 64, \"9\": 4}, \"8\": {\"9\": 136, \"2\": 308, \"8\": 2112, \"10\": 148, \"7\": 138, \"0\": 114, \"6\": 2, \"13\": 12, \"15\": 18, \"14\": 12}, \"6\": {\"6\": 2534, \"1\": 6, \"5\": 218, \"2\": 2, \"9\": 52, \"10\": 102, \"14\": 32, \"8\": 28, \"12\": 12, \"0\": 12, \"15\": 2}, \"9\": {\"8\": 444, \"9\": 1950, \"13\": 284, \"7\": 162, \"2\": 138, \"3\": 4, \"10\": 10, \"0\": 4, \"6\": 2, \"15\": 2}, \"12\": {\"12\": 3000}, \"2\": {\"8\": 750, \"2\": 1296, \"5\": 6, \"7\": 550, \"3\": 80, \"0\": 34, \"9\": 110, \"15\": 124, \"10\": 16, \"13\": 26, \"4\": 6, \"6\": 2}, \"14\": {\"14\": 1740, \"6\": 20, \"8\": 86, \"1\": 288, \"10\": 294, \"0\": 540, \"15\": 10, \"5\": 20, \"2\": 2}, \"15\": {\"15\": 2242, \"2\": 318, \"5\": 14, \"14\": 4, \"8\": 230, \"0\": 82, \"3\": 14, \"9\": 70, \"13\": 2, \"7\": 22, \"6\": 2}}, \"20\": {\"8\": {\"0\": 176, \"8\": 2196, \"14\": 492, \"12\": 30, \"10\": 40, \"4\": 20, \"15\": 22, \"7\": 2, \"2\": 8, \"3\": 12, \"5\": 2}, \"4\": {\"4\": 1638, \"3\": 150, \"12\": 976, \"2\": 30, \"10\": 58, \"7\": 50, \"9\": 18, \"15\": 42, \"5\": 18, \"1\": 16, \"8\": 2, \"14\": 2}, \"1\": {\"1\": 2084, \"2\": 614, \"0\": 16, \"9\": 176, \"15\": 62, \"5\": 26, \"3\": 16, \"12\": 4, \"4\": 2}, \"6\": {\"6\": 2858, \"10\": 112, \"7\": 30}, \"9\": {\"2\": 874, \"9\": 1330, \"1\": 172, \"3\": 354, \"5\": 62, \"12\": 62, \"4\": 54, \"13\": 10, \"15\": 78, \"7\": 4}, \"15\": {\"2\": 732, \"9\": 690, \"3\": 112, \"15\": 1096, \"12\": 82, \"13\": 140, \"1\": 88, \"5\": 48, \"7\": 6, \"4\": 6}, \"3\": {\"3\": 1432, \"5\": 154, \"12\": 180, \"4\": 212, \"7\": 272, \"9\": 378, \"2\": 288, \"15\": 50, \"1\": 8, \"13\": 4, \"10\": 16, \"0\": 4, \"8\": 2}, \"14\": {\"14\": 2820, \"8\": 150, \"12\": 16, \"10\": 6, \"4\": 4, \"0\": 2, \"6\": 2}, \"2\": {\"2\": 1150, \"1\": 142, \"15\": 150, \"3\": 338, \"9\": 990, \"4\": 52, \"12\": 40, \"5\": 110, \"7\": 20, \"10\": 2, \"11\": 2, \"13\": 4}, \"0\": {\"0\": 2718, \"1\": 152, \"9\": 54, \"2\": 12, \"15\": 14, \"5\": 6, \"8\": 4, \"10\": 8, \"3\": 16, \"12\": 16}, \"5\": {\"3\": 600, \"4\": 146, \"2\": 572, \"0\": 40, \"7\": 78, \"5\": 868, \"9\": 308, \"12\": 76, \"1\": 166, \"15\": 134, \"8\": 12}, \"13\": {\"12\": 154, \"13\": 2520, \"15\": 190, \"3\": 8, \"11\": 20, \"9\": 72, \"2\": 26, \"7\": 8, \"4\": 2}, \"7\": {\"7\": 2268, \"12\": 56, \"4\": 88, \"5\": 26, \"3\": 362, \"14\": 4, \"10\": 80, \"9\": 16, \"2\": 38, \"6\": 58, \"11\": 2, \"8\": 2}, \"10\": {\"10\": 2750, \"12\": 78, \"6\": 106, \"14\": 8, \"4\": 30, \"7\": 26, \"3\": 2}, \"12\": {\"12\": 1980, \"4\": 170, \"9\": 240, \"13\": 136, \"3\": 228, \"15\": 42, \"2\": 84, \"7\": 104, \"1\": 4, \"5\": 4, \"11\": 2, \"10\": 6}, \"11\": {\"11\": 2712, \"9\": 142, \"4\": 26, \"0\": 40, \"1\": 20, \"8\": 28, \"3\": 6, \"5\": 10, \"2\": 16}}, \"38\": {\"11\": {\"11\": 3000}, \"0\": {\"0\": 2298, \"13\": 84, \"7\": 258, \"4\": 60, \"15\": 206, \"6\": 36, \"8\": 20, \"9\": 24, \"14\": 14}, \"4\": {\"4\": 2916, \"14\": 50, \"10\": 10, \"12\": 4, \"13\": 18, \"7\": 2}, \"7\": {\"7\": 2820, \"4\": 52, \"0\": 20, \"5\": 22, \"15\": 20, \"14\": 24, \"8\": 26, \"13\": 16}, \"5\": {\"5\": 2380, \"15\": 222, \"8\": 346, \"1\": 18, \"14\": 12, \"7\": 4, \"4\": 6, \"11\": 10, \"6\": 2}, \"1\": {\"1\": 2860, \"15\": 130, \"0\": 8, \"9\": 2}, \"3\": {\"11\": 100, \"3\": 2162, \"10\": 102, \"13\": 636}, \"2\": {\"5\": 444, \"2\": 2248, \"14\": 294, \"7\": 12, \"3\": 2}, \"10\": {\"10\": 2576, \"13\": 390, \"11\": 8, \"4\": 4, \"7\": 6, \"3\": 16}, \"12\": {\"12\": 2964, \"14\": 22, \"13\": 8, \"5\": 2, \"6\": 2, \"1\": 2}, \"8\": {\"8\": 984, \"15\": 590, \"5\": 1206, \"14\": 158, \"4\": 48, \"7\": 6, \"6\": 8}, \"9\": {\"9\": 2684, \"12\": 74, \"15\": 182, \"14\": 6, \"11\": 38, \"8\": 8, \"4\": 2, \"5\": 4, \"0\": 2}, \"6\": {\"6\": 2872, \"15\": 44, \"14\": 62, \"11\": 8, \"1\": 4, \"2\": 4, \"9\": 6}, \"14\": {\"14\": 2434, \"2\": 158, \"7\": 250, \"12\": 16, \"5\": 116, \"4\": 22, \"13\": 4}, \"15\": {\"1\": 810, \"15\": 2114, \"6\": 12, \"11\": 38, \"9\": 6, \"10\": 12, \"5\": 8}, \"13\": {\"3\": 432, \"13\": 2410, \"10\": 148, \"11\": 6, \"7\": 4}}, \"32\": {\"2\": {\"2\": 2634, \"14\": 148, \"0\": 80, \"7\": 46, \"12\": 2, \"5\": 60, \"11\": 20, \"6\": 4, \"4\": 4, \"9\": 2}, \"0\": {\"0\": 2408, \"5\": 46, \"11\": 50, \"8\": 210, \"4\": 54, \"2\": 104, \"1\": 10, \"3\": 8, \"7\": 64, \"14\": 38, \"6\": 8}, \"6\": {\"6\": 2842, \"11\": 142, \"12\": 16}, \"8\": {\"8\": 2500, \"2\": 114, \"0\": 266, \"1\": 62, \"15\": 22, \"5\": 22, \"7\": 8, \"12\": 2, \"11\": 4}, \"1\": {\"1\": 2978, \"8\": 18, \"10\": 4}, \"11\": {\"7\": 46, \"4\": 342, \"11\": 2192, \"0\": 226, \"13\": 86, \"3\": 90, \"2\": 6, \"6\": 2, \"14\": 10}, \"13\": {\"4\": 416, \"13\": 2144, \"11\": 224, \"3\": 200, \"12\": 14, \"0\": 2}, \"14\": {\"14\": 2260, \"2\": 154, \"11\": 74, \"6\": 278, \"0\": 110, \"5\": 106, \"7\": 6, \"15\": 2, \"8\": 2, \"9\": 6, \"1\": 2}, \"15\": {\"15\": 2960, \"2\": 34, \"1\": 2, \"5\": 2, \"9\": 2}, \"12\": {\"12\": 2946, \"10\": 14, \"0\": 20, \"6\": 8, \"5\": 2, \"11\": 8, \"1\": 2}, \"3\": {\"3\": 2478, \"12\": 438, \"13\": 50, \"8\": 18, \"15\": 4, \"4\": 8, \"11\": 4}, \"10\": {\"10\": 2996, \"12\": 4}, \"5\": {\"5\": 2676, \"12\": 22, \"9\": 200, \"11\": 24, \"7\": 16, \"2\": 44, \"1\": 14, \"14\": 4}, \"4\": {\"4\": 2250, \"11\": 218, \"3\": 148, \"0\": 292, \"2\": 8, \"8\": 54, \"13\": 28, \"12\": 2}, \"7\": {\"7\": 2282, \"2\": 312, \"0\": 124, \"1\": 120, \"5\": 112, \"12\": 16, \"3\": 22, \"8\": 10, \"11\": 2}, \"9\": {\"6\": 212, \"9\": 2460, \"14\": 222, \"1\": 8, \"2\": 58, \"15\": 36, \"0\": 4}}, \"44\": {\"0\": {\"8\": 656, \"0\": 2202, \"15\": 94, \"1\": 20, \"5\": 20, \"6\": 6, \"13\": 2}, \"15\": {\"15\": 2748, \"14\": 36, \"12\": 24, \"5\": 138, \"8\": 20, \"6\": 22, \"11\": 8, \"1\": 2, \"4\": 2}, \"8\": {\"8\": 2042, \"15\": 122, \"0\": 680, \"6\": 18, \"14\": 10, \"5\": 122, \"12\": 4, \"2\": 2}, \"7\": {\"9\": 776, \"7\": 2102, \"6\": 106, \"15\": 4, \"0\": 12}, \"11\": {\"11\": 3000}, \"12\": {\"12\": 2446, \"3\": 448, \"8\": 26, \"7\": 24, \"1\": 44, \"4\": 6, \"0\": 4, \"11\": 2}, \"2\": {\"2\": 2824, \"8\": 8, \"5\": 104, \"15\": 48, \"1\": 10, \"11\": 6}, \"6\": {\"6\": 2836, \"13\": 128, \"7\": 26, \"0\": 6, \"10\": 2, \"9\": 2}, \"9\": {\"7\": 1098, \"9\": 1744, \"0\": 32, \"6\": 80, \"15\": 32, \"2\": 2, \"5\": 6, \"12\": 2, \"13\": 4}, \"5\": {\"5\": 2528, \"6\": 384, \"15\": 66, \"14\": 14, \"8\": 8}, \"1\": {\"1\": 2712, \"2\": 92, \"5\": 132, \"8\": 24, \"7\": 36, \"12\": 4}, \"10\": {\"10\": 2586, \"7\": 406, \"6\": 4, \"1\": 4}, \"14\": {\"14\": 2176, \"15\": 446, \"4\": 126, \"5\": 180, \"6\": 46, \"8\": 26}, \"13\": {\"13\": 2762, \"10\": 34, \"7\": 74, \"0\": 32, \"4\": 10, \"6\": 42, \"15\": 36, \"11\": 2, \"3\": 8}, \"4\": {\"4\": 1350, \"15\": 1194, \"0\": 28, \"14\": 398, \"5\": 4, \"8\": 16, \"6\": 2, \"12\": 4, \"13\": 2, \"9\": 2}, \"3\": {\"3\": 1468, \"2\": 80, \"0\": 220, \"7\": 352, \"12\": 394, \"4\": 272, \"1\": 66, \"8\": 114, \"11\": 32, \"5\": 2}}}, \"per_domain_accuracy\": {\"8\": {\"accuracy\": 0.7985833333333333, \"source?\": true}, \"14\": {\"accuracy\": 0.8529583333333334, \"source?\": true}, \"50\": {\"accuracy\": 0.7885833333333333, \"source?\": true}, \"26\": {\"accuracy\": 0.713, \"source?\": true}, \"20\": {\"accuracy\": 0.6754166666666667, \"source?\": true}, \"38\": {\"accuracy\": 0.8275416666666666, \"source?\": true}, \"32\": {\"accuracy\": 0.8542916666666667, \"source?\": true}, \"44\": {\"accuracy\": 0.7817916666666667, \"source?\": true}}}, \"history\": {\"epoch_indices\": [1, 2, 3, 4, 5, 6, 7, 8, 9, 10, 11], \"train_label_loss\": [1.9818779440947942, 1.1439995609607014, 0.8534400467191424, 0.7092761811443737, 0.6051590769929546, 0.5273893070050648, 0.46952047120460444, 0.4195162226302283, 0.37703939425519534, 0.3466330362345491, 0.31954044378123114], \"source_val_label_loss\": [1.2447314751148224, 0.8838716789484024, 0.7215829551617304, 0.630871310532093, 0.62944156006972, 0.6075294062693913, 0.5816986392537753, 0.5883888746500016, 0.594347924788793, 0.6934984219272932, 0.6424468567570051], \"target_val_label_loss\": [1.2447314776579539, 0.8838716798226038, 0.721582955121994, 0.6308713078300158, 0.6294415592948596, 0.6075294052362442, 0.58169863986969, 0.5883888780275981, 0.5943479300737381, 0.6934984209140141, 0.6424468546907107], \"source_val_acc_label\": [0.5927447916666667, 0.69765625, 0.75534375, 0.7781666666666667, 0.7674322916666667, 0.7775, 0.7865208333333333, 0.7830260416666667, 0.7846145833333333, 0.7564114583333333, 0.77903125], \"target_val_acc_label\": [0.5927447916666667, 0.69765625, 0.75534375, 0.7781666666666667, 0.7674322916666667, 0.7775, 0.7865208333333333, 0.7830260416666667, 0.7846145833333333, 0.7564114583333333, 0.77903125]}, \"dataset_metrics\": {\"source\": {\"train\": {\"n_unique_x\": 896000, \"n_unique_y\": 16, \"n_batch/episode\": 7000}, \"val\": {\"n_unique_x\": 192000, \"n_unique_y\": 16, \"n_batch/episode\": 1500}, \"test\": {\"n_unique_x\": 192000, \"n_unique_y\": 16, \"n_batch/episode\": 1500}}, \"target\": {\"train\": {\"n_unique_x\": 896000, \"n_unique_y\": 16, \"n_batch/episode\": 7000}, \"val\": {\"n_unique_x\": 192000, \"n_unique_y\": 16, \"n_batch/episode\": 1500}, \"test\": {\"n_unique_x\": 192000, \"n_unique_y\": 16, \"n_batch/episode\": 1500}}}}'"
      ]
     },
     "execution_count": 20,
     "metadata": {},
     "output_type": "execute_result"
    }
   ],
   "source": [
    "json.dumps(experiment)"
   ]
  }
 ],
 "metadata": {
  "celltoolbar": "Tags",
  "kernelspec": {
   "display_name": "Python 3 (ipykernel)",
   "language": "python",
   "name": "python3"
  },
  "language_info": {
   "codemirror_mode": {
    "name": "ipython",
    "version": 3
   },
   "file_extension": ".py",
   "mimetype": "text/x-python",
   "name": "python",
   "nbconvert_exporter": "python",
   "pygments_lexer": "ipython3",
   "version": "3.8.12"
  },
  "papermill": {
   "default_parameters": {},
   "duration": 1092.779967,
   "end_time": "2022-03-27T04:38:04.946155",
   "environment_variables": {},
   "exception": null,
   "input_path": "/root/csc500-main/csc500-notebooks/templates/cnn_template.ipynb",
   "output_path": "trial.ipynb",
   "parameters": {
    "parameters": {
     "BEST_MODEL_PATH": "./best_model.pth",
     "NUM_LOGS_PER_EPOCH": 10,
     "batch_size": 128,
     "criteria_for_best": "target_accuracy",
     "dataset_seed": 154325,
     "device": "cuda",
     "domains_source": [
      8,
      32,
      50,
      14,
      20,
      26,
      38,
      44
     ],
     "domains_target": [
      8,
      32,
      50,
      14,
      20,
      26,
      38,
      44
     ],
     "experiment_name": "cnn_2:oracle.run2",
     "labels": [
      "3123D52",
      "3123D65",
      "3123D79",
      "3123D80",
      "3123D54",
      "3123D70",
      "3123D7B",
      "3123D89",
      "3123D58",
      "3123D76",
      "3123D7D",
      "3123EFE",
      "3123D64",
      "3123D78",
      "3123D7E",
      "3124E4A"
     ],
     "lr": 0.0001,
     "n_epoch": 50,
     "normalize_source": false,
     "normalize_target": false,
     "num_examples_per_domain_per_label_source": -1,
     "num_examples_per_domain_per_label_target": -1,
     "patience": 3,
     "pickle_name_source": "oracle.Run2_10kExamples_stratified_ds.2022A.pkl",
     "pickle_name_target": "oracle.Run2_10kExamples_stratified_ds.2022A.pkl",
     "seed": 154325,
     "torch_default_dtype": "torch.float32",
     "x_net": [
      {
       "class": "nnReshape",
       "kargs": {
        "shape": [
         -1,
         1,
         2,
         256
        ]
       }
      },
      {
       "class": "Conv2d",
       "kargs": {
        "bias": false,
        "in_channels": 1,
        "kernel_size": [
         1,
         7
        ],
        "out_channels": 256,
        "padding": [
         0,
         3
        ]
       }
      },
      {
       "class": "ReLU",
       "kargs": {
        "inplace": true
       }
      },
      {
       "class": "BatchNorm2d",
       "kargs": {
        "num_features": 256
       }
      },
      {
       "class": "Conv2d",
       "kargs": {
        "bias": true,
        "in_channels": 256,
        "kernel_size": [
         2,
         7
        ],
        "out_channels": 80,
        "padding": [
         0,
         3
        ]
       }
      },
      {
       "class": "ReLU",
       "kargs": {
        "inplace": true
       }
      },
      {
       "class": "BatchNorm2d",
       "kargs": {
        "num_features": 80
       }
      },
      {
       "class": "Flatten",
       "kargs": {}
      },
      {
       "class": "Linear",
       "kargs": {
        "in_features": 20480,
        "out_features": 256
       }
      },
      {
       "class": "ReLU",
       "kargs": {
        "inplace": true
       }
      },
      {
       "class": "BatchNorm1d",
       "kargs": {
        "num_features": 256
       }
      },
      {
       "class": "Linear",
       "kargs": {
        "in_features": 256,
        "out_features": 16
       }
      }
     ]
    }
   },
   "start_time": "2022-03-27T04:19:52.166188",
   "version": "2.3.4"
  }
 },
 "nbformat": 4,
 "nbformat_minor": 5
}