{
 "cells": [
  {
   "cell_type": "code",
   "execution_count": 1,
   "id": "2324682e",
   "metadata": {
    "execution": {
     "iopub.execute_input": "2022-03-26T03:50:04.216560Z",
     "iopub.status.busy": "2022-03-26T03:50:04.215699Z",
     "iopub.status.idle": "2022-03-26T03:50:05.505065Z",
     "shell.execute_reply": "2022-03-26T03:50:05.504180Z"
    },
    "papermill": {
     "duration": 1.322493,
     "end_time": "2022-03-26T03:50:05.505262",
     "exception": false,
     "start_time": "2022-03-26T03:50:04.182769",
     "status": "completed"
    },
    "tags": []
   },
   "outputs": [],
   "source": [
    "import os, json, sys, time, random\n",
    "import numpy as np\n",
    "import torch\n",
    "from  easydict import EasyDict\n",
    "from math import floor\n",
    "from easydict import EasyDict\n",
    "\n",
    "from steves_utils.vanilla_train_eval_test_jig import  Vanilla_Train_Eval_Test_Jig\n",
    "\n",
    "from steves_utils.torch_utils import get_dataset_metrics, independent_accuracy_assesment\n",
    "from steves_models.configurable_vanilla import Configurable_Vanilla\n",
    "from steves_utils.torch_sequential_builder import build_sequential\n",
    "from steves_utils.lazy_map import Lazy_Map\n",
    "from steves_utils.sequence_aggregator import Sequence_Aggregator\n",
    "\n",
    "from steves_utils.stratified_dataset.traditional_accessor import Traditional_Accessor_Factory\n",
    "\n",
    "from steves_utils.cnn_do_report import (\n",
    "    get_loss_curve,\n",
    "    get_results_table,\n",
    "    get_parameters_table,\n",
    "    get_domain_accuracies,\n",
    ")\n",
    "\n",
    "from steves_utils.torch_utils import (\n",
    "    confusion_by_domain_over_dataloader,\n",
    "    independent_accuracy_assesment\n",
    ")\n",
    "\n",
    "from steves_utils.utils_v2 import (\n",
    "    per_domain_accuracy_from_confusion,\n",
    "    get_datasets_base_path\n",
    ")\n",
    "\n",
    "# from steves_utils.ptn_do_report import TBD"
   ]
  },
  {
   "cell_type": "code",
   "execution_count": 2,
   "id": "1b29e3fe",
   "metadata": {
    "execution": {
     "iopub.execute_input": "2022-03-26T03:50:05.542056Z",
     "iopub.status.busy": "2022-03-26T03:50:05.541676Z",
     "iopub.status.idle": "2022-03-26T03:50:05.544543Z",
     "shell.execute_reply": "2022-03-26T03:50:05.544026Z"
    },
    "papermill": {
     "duration": 0.021903,
     "end_time": "2022-03-26T03:50:05.544703",
     "exception": false,
     "start_time": "2022-03-26T03:50:05.522800",
     "status": "completed"
    },
    "tags": []
   },
   "outputs": [],
   "source": [
    "required_parameters = {\n",
    "    \"experiment_name\",\n",
    "    \"lr\",\n",
    "    \"device\",\n",
    "    \"dataset_seed\",\n",
    "    \"seed\",\n",
    "    \"labels\",\n",
    "    \"domains_target\",\n",
    "    \"domains_source\",\n",
    "    \"num_examples_per_domain_per_label_source\",\n",
    "    \"num_examples_per_domain_per_label_target\",\n",
    "    \"batch_size\",\n",
    "    \"n_epoch\",\n",
    "    \"patience\",\n",
    "    \"criteria_for_best\",\n",
    "    \"normalize_source\",\n",
    "    \"normalize_target\",\n",
    "    \"x_net\",\n",
    "    \"NUM_LOGS_PER_EPOCH\",\n",
    "    \"BEST_MODEL_PATH\",\n",
    "    \"pickle_name_source\",\n",
    "    \"pickle_name_target\",\n",
    "    \"torch_default_dtype\",\n",
    "}"
   ]
  },
  {
   "cell_type": "code",
   "execution_count": 3,
   "id": "670b5fb8",
   "metadata": {
    "execution": {
     "iopub.execute_input": "2022-03-26T03:50:05.592270Z",
     "iopub.status.busy": "2022-03-26T03:50:05.591352Z",
     "iopub.status.idle": "2022-03-26T03:50:05.598783Z",
     "shell.execute_reply": "2022-03-26T03:50:05.597969Z"
    },
    "papermill": {
     "duration": 0.034678,
     "end_time": "2022-03-26T03:50:05.598940",
     "exception": false,
     "start_time": "2022-03-26T03:50:05.564262",
     "status": "completed"
    },
    "tags": [
     "parameters"
    ]
   },
   "outputs": [],
   "source": [
    "from steves_utils.ORACLE.utils_v2 import (\n",
    "    ALL_SERIAL_NUMBERS,\n",
    "    ALL_DISTANCES_FEET_NARROWED,\n",
    ")\n",
    "\n",
    "standalone_parameters = {}\n",
    "standalone_parameters[\"experiment_name\"] = \"MANUAL CORES CNN\"\n",
    "standalone_parameters[\"lr\"] = 0.0001\n",
    "standalone_parameters[\"device\"] = \"cuda\"\n",
    "\n",
    "standalone_parameters[\"dataset_seed\"] = 1337\n",
    "standalone_parameters[\"seed\"] = 1337\n",
    "standalone_parameters[\"labels\"] = ALL_SERIAL_NUMBERS\n",
    "\n",
    "standalone_parameters[\"domains_source\"] = [8,32,50]\n",
    "standalone_parameters[\"domains_target\"] = [14,20,26,38,44,]\n",
    "\n",
    "standalone_parameters[\"num_examples_per_domain_per_label_source\"]=-1\n",
    "standalone_parameters[\"num_examples_per_domain_per_label_target\"]=-1\n",
    "\n",
    "standalone_parameters[\"pickle_name_source\"] = \"oracle.Run1_framed_2000Examples_stratified_ds.2022A.pkl\"\n",
    "standalone_parameters[\"pickle_name_target\"] = \"oracle.Run2_framed_2000Examples_stratified_ds.2022A.pkl\"\n",
    "\n",
    "standalone_parameters[\"torch_default_dtype\"] = \"torch.float32\" \n",
    "\n",
    "standalone_parameters[\"batch_size\"]=128\n",
    "\n",
    "standalone_parameters[\"n_epoch\"] = 3\n",
    "\n",
    "standalone_parameters[\"patience\"] = 10\n",
    "\n",
    "standalone_parameters[\"criteria_for_best\"] = \"target_accuracy\"\n",
    "standalone_parameters[\"normalize_source\"] = False\n",
    "standalone_parameters[\"normalize_target\"] = False\n",
    "\n",
    "standalone_parameters[\"x_net\"] =     [\n",
    "    {\"class\": \"nnReshape\", \"kargs\": {\"shape\":[-1, 1, 2, 256]}},\n",
    "    {\"class\": \"Conv2d\", \"kargs\": { \"in_channels\":1, \"out_channels\":256, \"kernel_size\":(1,7), \"bias\":False, \"padding\":(0,3), },},\n",
    "    {\"class\": \"ReLU\", \"kargs\": {\"inplace\": True}},\n",
    "    {\"class\": \"BatchNorm2d\", \"kargs\": {\"num_features\":256}},\n",
    "\n",
    "    {\"class\": \"Conv2d\", \"kargs\": { \"in_channels\":256, \"out_channels\":80, \"kernel_size\":(2,7), \"bias\":True, \"padding\":(0,3), },},\n",
    "    {\"class\": \"ReLU\", \"kargs\": {\"inplace\": True}},\n",
    "    {\"class\": \"BatchNorm2d\", \"kargs\": {\"num_features\":80}},\n",
    "    {\"class\": \"Flatten\", \"kargs\": {}},\n",
    "\n",
    "    {\"class\": \"Linear\", \"kargs\": {\"in_features\": 80*256, \"out_features\": 256}}, # 80 units per IQ pair\n",
    "    {\"class\": \"ReLU\", \"kargs\": {\"inplace\": True}},\n",
    "    {\"class\": \"BatchNorm1d\", \"kargs\": {\"num_features\":256}},\n",
    "\n",
    "    {\"class\": \"Linear\", \"kargs\": {\"in_features\": 256, \"out_features\": len(standalone_parameters[\"labels\"])}},\n",
    "]\n",
    "\n",
    "standalone_parameters[\"NUM_LOGS_PER_EPOCH\"] = 10\n",
    "standalone_parameters[\"BEST_MODEL_PATH\"] = \"./best_model.pth\""
   ]
  },
  {
   "cell_type": "code",
   "execution_count": 4,
   "id": "d53340bd",
   "metadata": {
    "execution": {
     "iopub.execute_input": "2022-03-26T03:50:05.647431Z",
     "iopub.status.busy": "2022-03-26T03:50:05.646502Z",
     "iopub.status.idle": "2022-03-26T03:50:05.648835Z",
     "shell.execute_reply": "2022-03-26T03:50:05.649509Z"
    },
    "papermill": {
     "duration": 0.03224,
     "end_time": "2022-03-26T03:50:05.649688",
     "exception": false,
     "start_time": "2022-03-26T03:50:05.617448",
     "status": "completed"
    },
    "tags": [
     "injected-parameters"
    ]
   },
   "outputs": [],
   "source": [
    "# Parameters\n",
    "parameters = {\n",
    "    \"experiment_name\": \"cnn_2:cores\",\n",
    "    \"device\": \"cuda\",\n",
    "    \"lr\": 0.0001,\n",
    "    \"labels\": [\n",
    "        \"1-10.\",\n",
    "        \"1-11.\",\n",
    "        \"1-15.\",\n",
    "        \"1-16.\",\n",
    "        \"1-17.\",\n",
    "        \"1-18.\",\n",
    "        \"1-19.\",\n",
    "        \"10-4.\",\n",
    "        \"10-7.\",\n",
    "        \"11-1.\",\n",
    "        \"11-14.\",\n",
    "        \"11-17.\",\n",
    "        \"11-20.\",\n",
    "        \"11-7.\",\n",
    "        \"13-20.\",\n",
    "        \"13-8.\",\n",
    "        \"14-10.\",\n",
    "        \"14-11.\",\n",
    "        \"14-14.\",\n",
    "        \"14-7.\",\n",
    "        \"15-1.\",\n",
    "        \"15-20.\",\n",
    "        \"16-1.\",\n",
    "        \"16-16.\",\n",
    "        \"17-10.\",\n",
    "        \"17-11.\",\n",
    "        \"17-2.\",\n",
    "        \"19-1.\",\n",
    "        \"19-16.\",\n",
    "        \"19-19.\",\n",
    "        \"19-20.\",\n",
    "        \"19-3.\",\n",
    "        \"2-10.\",\n",
    "        \"2-11.\",\n",
    "        \"2-17.\",\n",
    "        \"2-18.\",\n",
    "        \"2-20.\",\n",
    "        \"2-3.\",\n",
    "        \"2-4.\",\n",
    "        \"2-5.\",\n",
    "        \"2-6.\",\n",
    "        \"2-7.\",\n",
    "        \"2-8.\",\n",
    "        \"3-13.\",\n",
    "        \"3-18.\",\n",
    "        \"3-3.\",\n",
    "        \"4-1.\",\n",
    "        \"4-10.\",\n",
    "        \"4-11.\",\n",
    "        \"4-19.\",\n",
    "        \"5-5.\",\n",
    "        \"6-15.\",\n",
    "        \"7-10.\",\n",
    "        \"7-14.\",\n",
    "        \"8-18.\",\n",
    "        \"8-20.\",\n",
    "        \"8-3.\",\n",
    "        \"8-8.\",\n",
    "    ],\n",
    "    \"batch_size\": 128,\n",
    "    \"domains_source\": [1, 2, 3, 4, 5],\n",
    "    \"domains_target\": [1, 2, 3, 4, 5],\n",
    "    \"normalize_source\": False,\n",
    "    \"normalize_target\": False,\n",
    "    \"num_examples_per_domain_per_label_source\": -1,\n",
    "    \"num_examples_per_domain_per_label_target\": -1,\n",
    "    \"torch_default_dtype\": \"torch.float32\",\n",
    "    \"n_epoch\": 50,\n",
    "    \"patience\": 3,\n",
    "    \"criteria_for_best\": \"target_accuracy\",\n",
    "    \"x_net\": [\n",
    "        {\"class\": \"nnReshape\", \"kargs\": {\"shape\": [-1, 1, 2, 256]}},\n",
    "        {\n",
    "            \"class\": \"Conv2d\",\n",
    "            \"kargs\": {\n",
    "                \"in_channels\": 1,\n",
    "                \"out_channels\": 256,\n",
    "                \"kernel_size\": [1, 7],\n",
    "                \"bias\": False,\n",
    "                \"padding\": [0, 3],\n",
    "            },\n",
    "        },\n",
    "        {\"class\": \"ReLU\", \"kargs\": {\"inplace\": True}},\n",
    "        {\"class\": \"BatchNorm2d\", \"kargs\": {\"num_features\": 256}},\n",
    "        {\n",
    "            \"class\": \"Conv2d\",\n",
    "            \"kargs\": {\n",
    "                \"in_channels\": 256,\n",
    "                \"out_channels\": 80,\n",
    "                \"kernel_size\": [2, 7],\n",
    "                \"bias\": True,\n",
    "                \"padding\": [0, 3],\n",
    "            },\n",
    "        },\n",
    "        {\"class\": \"ReLU\", \"kargs\": {\"inplace\": True}},\n",
    "        {\"class\": \"BatchNorm2d\", \"kargs\": {\"num_features\": 80}},\n",
    "        {\"class\": \"Flatten\", \"kargs\": {}},\n",
    "        {\"class\": \"Linear\", \"kargs\": {\"in_features\": 20480, \"out_features\": 256}},\n",
    "        {\"class\": \"ReLU\", \"kargs\": {\"inplace\": True}},\n",
    "        {\"class\": \"BatchNorm1d\", \"kargs\": {\"num_features\": 256}},\n",
    "        {\"class\": \"Linear\", \"kargs\": {\"in_features\": 256, \"out_features\": 58}},\n",
    "    ],\n",
    "    \"NUM_LOGS_PER_EPOCH\": 10,\n",
    "    \"BEST_MODEL_PATH\": \"./best_model.pth\",\n",
    "    \"pickle_name_source\": \"cores.stratified_ds.2022A.pkl\",\n",
    "    \"pickle_name_target\": \"cores.stratified_ds.2022A.pkl\",\n",
    "    \"dataset_seed\": 154325,\n",
    "    \"seed\": 154325,\n",
    "}\n"
   ]
  },
  {
   "cell_type": "code",
   "execution_count": 5,
   "id": "759b56ec",
   "metadata": {
    "execution": {
     "iopub.execute_input": "2022-03-26T03:50:05.690931Z",
     "iopub.status.busy": "2022-03-26T03:50:05.690559Z",
     "iopub.status.idle": "2022-03-26T03:50:05.693018Z",
     "shell.execute_reply": "2022-03-26T03:50:05.693487Z"
    },
    "papermill": {
     "duration": 0.024596,
     "end_time": "2022-03-26T03:50:05.693670",
     "exception": false,
     "start_time": "2022-03-26T03:50:05.669074",
     "status": "completed"
    },
    "tags": []
   },
   "outputs": [],
   "source": [
    "# Set this to True if you want to run this template directly\n",
    "STANDALONE = False\n",
    "if STANDALONE:\n",
    "    print(\"parameters not injected, running with standalone_parameters\")\n",
    "    parameters = standalone_parameters\n",
    "\n",
    "if not 'parameters' in locals() and not 'parameters' in globals():\n",
    "    raise Exception(\"Parameter injection failed\")\n",
    "\n",
    "#Use an easy dict for all the parameters\n",
    "p = EasyDict(parameters)\n",
    "\n",
    "supplied_keys = set(p.keys())\n",
    "\n",
    "if  supplied_keys != required_parameters:\n",
    "    print(\"Parameters are incorrect\")\n",
    "    if len(supplied_keys - required_parameters)>0: print(\"Shouldn't have:\", str(supplied_keys - required_parameters))\n",
    "    if len(required_parameters - supplied_keys)>0: print(\"Need to have:\", str(required_parameters - supplied_keys))\n",
    "    raise RuntimeError(\"Parameters are incorrect\")\n",
    "\n"
   ]
  },
  {
   "cell_type": "code",
   "execution_count": 6,
   "id": "d5c66a71",
   "metadata": {
    "execution": {
     "iopub.execute_input": "2022-03-26T03:50:05.731663Z",
     "iopub.status.busy": "2022-03-26T03:50:05.731272Z",
     "iopub.status.idle": "2022-03-26T03:50:05.735638Z",
     "shell.execute_reply": "2022-03-26T03:50:05.735145Z"
    },
    "papermill": {
     "duration": 0.022674,
     "end_time": "2022-03-26T03:50:05.735744",
     "exception": false,
     "start_time": "2022-03-26T03:50:05.713070",
     "status": "completed"
    },
    "tags": []
   },
   "outputs": [],
   "source": [
    "###################################\n",
    "# Set the RNGs and make it all deterministic\n",
    "###################################\n",
    "np.random.seed(p.seed)\n",
    "random.seed(p.seed)\n",
    "torch.manual_seed(p.seed)\n",
    "\n",
    "torch.use_deterministic_algorithms(True) "
   ]
  },
  {
   "cell_type": "code",
   "execution_count": 7,
   "id": "92a65876",
   "metadata": {
    "execution": {
     "iopub.execute_input": "2022-03-26T03:50:05.773105Z",
     "iopub.status.busy": "2022-03-26T03:50:05.772741Z",
     "iopub.status.idle": "2022-03-26T03:50:05.775677Z",
     "shell.execute_reply": "2022-03-26T03:50:05.775350Z"
    },
    "papermill": {
     "duration": 0.020693,
     "end_time": "2022-03-26T03:50:05.775747",
     "exception": false,
     "start_time": "2022-03-26T03:50:05.755054",
     "status": "completed"
    },
    "tags": []
   },
   "outputs": [],
   "source": [
    "torch.set_default_dtype(eval(p.torch_default_dtype))"
   ]
  },
  {
   "cell_type": "code",
   "execution_count": 8,
   "id": "f1a32f01",
   "metadata": {
    "execution": {
     "iopub.execute_input": "2022-03-26T03:50:05.810289Z",
     "iopub.status.busy": "2022-03-26T03:50:05.809872Z",
     "iopub.status.idle": "2022-03-26T03:50:05.848711Z",
     "shell.execute_reply": "2022-03-26T03:50:05.848007Z"
    },
    "papermill": {
     "duration": 0.056376,
     "end_time": "2022-03-26T03:50:05.848865",
     "exception": false,
     "start_time": "2022-03-26T03:50:05.792489",
     "status": "completed"
    },
    "tags": []
   },
   "outputs": [],
   "source": [
    "###################################\n",
    "# Build the network(s)\n",
    "# Note: It's critical to do this AFTER setting the RNG\n",
    "###################################\n",
    "x_net = build_sequential(p.x_net)"
   ]
  },
  {
   "cell_type": "code",
   "execution_count": 9,
   "id": "a276cd83",
   "metadata": {
    "execution": {
     "iopub.execute_input": "2022-03-26T03:50:05.888626Z",
     "iopub.status.busy": "2022-03-26T03:50:05.888100Z",
     "iopub.status.idle": "2022-03-26T03:50:05.891033Z",
     "shell.execute_reply": "2022-03-26T03:50:05.890553Z"
    },
    "papermill": {
     "duration": 0.02023,
     "end_time": "2022-03-26T03:50:05.891139",
     "exception": false,
     "start_time": "2022-03-26T03:50:05.870909",
     "status": "completed"
    },
    "tags": []
   },
   "outputs": [],
   "source": [
    "start_time_secs = time.time()"
   ]
  },
  {
   "cell_type": "code",
   "execution_count": 10,
   "id": "de702e48",
   "metadata": {
    "execution": {
     "iopub.execute_input": "2022-03-26T03:50:05.936721Z",
     "iopub.status.busy": "2022-03-26T03:50:05.935854Z",
     "iopub.status.idle": "2022-03-26T03:50:12.763668Z",
     "shell.execute_reply": "2022-03-26T03:50:12.762872Z"
    },
    "papermill": {
     "duration": 6.855405,
     "end_time": "2022-03-26T03:50:12.763860",
     "exception": false,
     "start_time": "2022-03-26T03:50:05.908455",
     "status": "completed"
    },
    "tags": []
   },
   "outputs": [],
   "source": [
    "def wrap_in_dataloader(p, ds):\n",
    "    return torch.utils.data.DataLoader(\n",
    "        ds,\n",
    "        batch_size=p.batch_size,\n",
    "        shuffle=True,\n",
    "        num_workers=1,\n",
    "        persistent_workers=True,\n",
    "        prefetch_factor=50,\n",
    "        pin_memory=True\n",
    "    )\n",
    "\n",
    "taf_source = Traditional_Accessor_Factory(\n",
    "    labels=p.labels,\n",
    "    domains=p.domains_source,\n",
    "    num_examples_per_domain_per_label=p.num_examples_per_domain_per_label_source,\n",
    "    pickle_path=os.path.join(get_datasets_base_path(), p.pickle_name_source),\n",
    "    seed=p.dataset_seed\n",
    ")\n",
    "train_original_source, val_original_source, test_original_source = \\\n",
    "    taf_source.get_train(), taf_source.get_val(), taf_source.get_test()\n",
    "\n",
    "\n",
    "taf_target = Traditional_Accessor_Factory(\n",
    "    labels=p.labels,\n",
    "    domains=p.domains_target,\n",
    "    num_examples_per_domain_per_label=p.num_examples_per_domain_per_label_source,\n",
    "    pickle_path=os.path.join(get_datasets_base_path(), p.pickle_name_target),\n",
    "    seed=p.dataset_seed\n",
    ")\n",
    "train_original_target, val_original_target, test_original_target = \\\n",
    "    taf_target.get_train(), taf_target.get_val(), taf_target.get_test()\n",
    "\n",
    "\n",
    "# For CNN We only use X and Y. And we only train on the source.\n",
    "# Properly form the data using a transform lambda and Lazy_Map. Finally wrap them in a dataloader\n",
    "\n",
    "transform_lambda = lambda ex: ex[:2] # Strip the tuple to just (x,y)\n",
    "\n",
    "\n",
    "train_processed_source = wrap_in_dataloader(\n",
    "    p,\n",
    "    Lazy_Map(train_original_source, transform_lambda)\n",
    ")\n",
    "val_processed_source = wrap_in_dataloader(\n",
    "    p,\n",
    "    Lazy_Map(val_original_source, transform_lambda)\n",
    ")\n",
    "test_processed_source = wrap_in_dataloader(\n",
    "    p,\n",
    "    Lazy_Map(test_original_source, transform_lambda)\n",
    ")\n",
    "\n",
    "train_processed_target = wrap_in_dataloader(\n",
    "    p,\n",
    "    Lazy_Map(train_original_target, transform_lambda)\n",
    ")\n",
    "val_processed_target = wrap_in_dataloader(\n",
    "    p,\n",
    "    Lazy_Map(val_original_target, transform_lambda)\n",
    ")\n",
    "test_processed_target  = wrap_in_dataloader(\n",
    "    p,\n",
    "    Lazy_Map(test_original_target, transform_lambda)\n",
    ")\n",
    "\n",
    "\n",
    "\n",
    "datasets = EasyDict({\n",
    "    \"source\": {\n",
    "        \"original\": {\"train\":train_original_source, \"val\":val_original_source, \"test\":test_original_source},\n",
    "        \"processed\": {\"train\":train_processed_source, \"val\":val_processed_source, \"test\":test_processed_source}\n",
    "    },\n",
    "    \"target\": {\n",
    "        \"original\": {\"train\":train_original_target, \"val\":val_original_target, \"test\":test_original_target},\n",
    "        \"processed\": {\"train\":train_processed_target, \"val\":val_processed_target, \"test\":test_processed_target}\n",
    "    },\n",
    "})"
   ]
  },
  {
   "cell_type": "code",
   "execution_count": 11,
   "id": "a11b26bd",
   "metadata": {
    "execution": {
     "iopub.execute_input": "2022-03-26T03:50:12.842314Z",
     "iopub.status.busy": "2022-03-26T03:50:12.841263Z",
     "iopub.status.idle": "2022-03-26T03:50:18.468886Z",
     "shell.execute_reply": "2022-03-26T03:50:18.468036Z"
    },
    "papermill": {
     "duration": 5.685722,
     "end_time": "2022-03-26T03:50:18.469063",
     "exception": false,
     "start_time": "2022-03-26T03:50:12.783341",
     "status": "completed"
    },
    "tags": []
   },
   "outputs": [
    {
     "data": {
      "text/plain": [
       "torch.float32"
      ]
     },
     "execution_count": 11,
     "metadata": {},
     "output_type": "execute_result"
    }
   ],
   "source": [
    "ep = next(iter(test_processed_target))\n",
    "ep[0].dtype"
   ]
  },
  {
   "cell_type": "code",
   "execution_count": 12,
   "id": "19425fad",
   "metadata": {
    "execution": {
     "iopub.execute_input": "2022-03-26T03:50:18.510394Z",
     "iopub.status.busy": "2022-03-26T03:50:18.506557Z",
     "iopub.status.idle": "2022-03-26T03:50:18.556366Z",
     "shell.execute_reply": "2022-03-26T03:50:18.555668Z"
    },
    "papermill": {
     "duration": 0.068205,
     "end_time": "2022-03-26T03:50:18.556534",
     "exception": false,
     "start_time": "2022-03-26T03:50:18.488329",
     "status": "completed"
    },
    "tags": []
   },
   "outputs": [],
   "source": [
    "model = Configurable_Vanilla(\n",
    "    x_net=x_net,\n",
    "    label_loss_object=torch.nn.NLLLoss(),\n",
    "    learning_rate=p.lr\n",
    ")"
   ]
  },
  {
   "cell_type": "code",
   "execution_count": 13,
   "id": "7f6d4f2c",
   "metadata": {
    "execution": {
     "iopub.execute_input": "2022-03-26T03:50:18.595052Z",
     "iopub.status.busy": "2022-03-26T03:50:18.594683Z",
     "iopub.status.idle": "2022-03-26T03:53:51.186655Z",
     "shell.execute_reply": "2022-03-26T03:53:51.186309Z"
    },
    "papermill": {
     "duration": 212.610964,
     "end_time": "2022-03-26T03:53:51.186741",
     "exception": false,
     "start_time": "2022-03-26T03:50:18.575777",
     "status": "completed"
    },
    "tags": []
   },
   "outputs": [
    {
     "name": "stdout",
     "output_type": "stream",
     "text": [
      "epoch: 1, [batch: 1 / 1370], examples_per_second: 780.3731, train_label_loss: 3.9986, \n"
     ]
    },
    {
     "name": "stdout",
     "output_type": "stream",
     "text": [
      "epoch: 1, [batch: 137 / 1370], examples_per_second: 10512.8604, train_label_loss: 1.8076, \n"
     ]
    },
    {
     "name": "stdout",
     "output_type": "stream",
     "text": [
      "epoch: 1, [batch: 274 / 1370], examples_per_second: 10577.7757, train_label_loss: 0.8048, \n"
     ]
    },
    {
     "name": "stdout",
     "output_type": "stream",
     "text": [
      "epoch: 1, [batch: 411 / 1370], examples_per_second: 10635.8175, train_label_loss: 0.5594, \n"
     ]
    },
    {
     "name": "stdout",
     "output_type": "stream",
     "text": [
      "epoch: 1, [batch: 548 / 1370], examples_per_second: 10609.7588, train_label_loss: 0.3023, \n"
     ]
    },
    {
     "name": "stdout",
     "output_type": "stream",
     "text": [
      "epoch: 1, [batch: 685 / 1370], examples_per_second: 10648.4269, train_label_loss: 0.2092, \n"
     ]
    },
    {
     "name": "stdout",
     "output_type": "stream",
     "text": [
      "epoch: 1, [batch: 822 / 1370], examples_per_second: 10613.8115, train_label_loss: 0.2027, \n"
     ]
    },
    {
     "name": "stdout",
     "output_type": "stream",
     "text": [
      "epoch: 1, [batch: 959 / 1370], examples_per_second: 10620.4721, train_label_loss: 0.0923, \n"
     ]
    },
    {
     "name": "stdout",
     "output_type": "stream",
     "text": [
      "epoch: 1, [batch: 1096 / 1370], examples_per_second: 10652.8008, train_label_loss: 0.1106, \n"
     ]
    },
    {
     "name": "stdout",
     "output_type": "stream",
     "text": [
      "epoch: 1, [batch: 1233 / 1370], examples_per_second: 10523.2418, train_label_loss: 0.0452, \n"
     ]
    },
    {
     "name": "stdout",
     "output_type": "stream",
     "text": [
      "=============================================================\n",
      "epoch: 1, source_val_acc_label: 0.9895, source_val_label_loss: 0.0717, target_val_acc_label: 0.9895, target_val_label_loss: 0.0718, \n",
      "=============================================================\n"
     ]
    },
    {
     "name": "stdout",
     "output_type": "stream",
     "text": [
      "New best\n",
      "epoch: 2, [batch: 1 / 1370], examples_per_second: 51.6519, train_label_loss: 0.0381, \n"
     ]
    },
    {
     "name": "stdout",
     "output_type": "stream",
     "text": [
      "epoch: 2, [batch: 137 / 1370], examples_per_second: 10610.0184, train_label_loss: 0.0503, \n"
     ]
    },
    {
     "name": "stdout",
     "output_type": "stream",
     "text": [
      "epoch: 2, [batch: 274 / 1370], examples_per_second: 10685.4588, train_label_loss: 0.0542, \n"
     ]
    },
    {
     "name": "stdout",
     "output_type": "stream",
     "text": [
      "epoch: 2, [batch: 411 / 1370], examples_per_second: 10426.1852, train_label_loss: 0.0318, \n"
     ]
    },
    {
     "name": "stdout",
     "output_type": "stream",
     "text": [
      "epoch: 2, [batch: 548 / 1370], examples_per_second: 10673.1426, train_label_loss: 0.0411, \n"
     ]
    },
    {
     "name": "stdout",
     "output_type": "stream",
     "text": [
      "epoch: 2, [batch: 685 / 1370], examples_per_second: 10627.4436, train_label_loss: 0.0296, \n"
     ]
    },
    {
     "name": "stdout",
     "output_type": "stream",
     "text": [
      "epoch: 2, [batch: 822 / 1370], examples_per_second: 10648.2419, train_label_loss: 0.0159, \n"
     ]
    },
    {
     "name": "stdout",
     "output_type": "stream",
     "text": [
      "epoch: 2, [batch: 959 / 1370], examples_per_second: 10604.6756, train_label_loss: 0.0146, \n"
     ]
    },
    {
     "name": "stdout",
     "output_type": "stream",
     "text": [
      "epoch: 2, [batch: 1096 / 1370], examples_per_second: 11132.3114, train_label_loss: 0.0153, \n"
     ]
    },
    {
     "name": "stdout",
     "output_type": "stream",
     "text": [
      "epoch: 2, [batch: 1233 / 1370], examples_per_second: 11596.7876, train_label_loss: 0.0304, \n"
     ]
    },
    {
     "name": "stdout",
     "output_type": "stream",
     "text": [
      "=============================================================\n",
      "epoch: 2, source_val_acc_label: 0.9695, source_val_label_loss: 0.0905, target_val_acc_label: 0.9695, target_val_label_loss: 0.0904, \n",
      "=============================================================\n"
     ]
    },
    {
     "name": "stdout",
     "output_type": "stream",
     "text": [
      "epoch: 3, [batch: 1 / 1370], examples_per_second: 66.3918, train_label_loss: 0.0124, \n"
     ]
    },
    {
     "name": "stdout",
     "output_type": "stream",
     "text": [
      "epoch: 3, [batch: 137 / 1370], examples_per_second: 11608.9573, train_label_loss: 0.0084, \n"
     ]
    },
    {
     "name": "stdout",
     "output_type": "stream",
     "text": [
      "epoch: 3, [batch: 274 / 1370], examples_per_second: 11571.7189, train_label_loss: 0.0520, \n"
     ]
    },
    {
     "name": "stdout",
     "output_type": "stream",
     "text": [
      "epoch: 3, [batch: 411 / 1370], examples_per_second: 11649.4568, train_label_loss: 0.0259, \n"
     ]
    },
    {
     "name": "stdout",
     "output_type": "stream",
     "text": [
      "epoch: 3, [batch: 548 / 1370], examples_per_second: 11660.0998, train_label_loss: 0.0060, \n"
     ]
    },
    {
     "name": "stdout",
     "output_type": "stream",
     "text": [
      "epoch: 3, [batch: 685 / 1370], examples_per_second: 11686.4947, train_label_loss: 0.0346, \n"
     ]
    },
    {
     "name": "stdout",
     "output_type": "stream",
     "text": [
      "epoch: 3, [batch: 822 / 1370], examples_per_second: 11692.9174, train_label_loss: 0.0037, \n"
     ]
    },
    {
     "name": "stdout",
     "output_type": "stream",
     "text": [
      "epoch: 3, [batch: 959 / 1370], examples_per_second: 11640.2109, train_label_loss: 0.0087, \n"
     ]
    },
    {
     "name": "stdout",
     "output_type": "stream",
     "text": [
      "epoch: 3, [batch: 1096 / 1370], examples_per_second: 11601.0422, train_label_loss: 0.0249, \n"
     ]
    },
    {
     "name": "stdout",
     "output_type": "stream",
     "text": [
      "epoch: 3, [batch: 1233 / 1370], examples_per_second: 11595.5535, train_label_loss: 0.0042, \n"
     ]
    },
    {
     "name": "stdout",
     "output_type": "stream",
     "text": [
      "=============================================================\n",
      "epoch: 3, source_val_acc_label: 0.9911, source_val_label_loss: 0.0430, target_val_acc_label: 0.9911, target_val_label_loss: 0.0430, \n",
      "=============================================================\n"
     ]
    },
    {
     "name": "stdout",
     "output_type": "stream",
     "text": [
      "New best\n",
      "epoch: 4, [batch: 1 / 1370], examples_per_second: 65.9058, train_label_loss: 0.0178, \n"
     ]
    },
    {
     "name": "stdout",
     "output_type": "stream",
     "text": [
      "epoch: 4, [batch: 137 / 1370], examples_per_second: 11622.4360, train_label_loss: 0.0058, \n"
     ]
    },
    {
     "name": "stdout",
     "output_type": "stream",
     "text": [
      "epoch: 4, [batch: 274 / 1370], examples_per_second: 11537.3725, train_label_loss: 0.0031, \n"
     ]
    },
    {
     "name": "stdout",
     "output_type": "stream",
     "text": [
      "epoch: 4, [batch: 411 / 1370], examples_per_second: 11600.7165, train_label_loss: 0.0022, \n"
     ]
    },
    {
     "name": "stdout",
     "output_type": "stream",
     "text": [
      "epoch: 4, [batch: 548 / 1370], examples_per_second: 11631.6879, train_label_loss: 0.0029, \n"
     ]
    },
    {
     "name": "stdout",
     "output_type": "stream",
     "text": [
      "epoch: 4, [batch: 685 / 1370], examples_per_second: 11740.0231, train_label_loss: 0.0133, \n"
     ]
    },
    {
     "name": "stdout",
     "output_type": "stream",
     "text": [
      "epoch: 4, [batch: 822 / 1370], examples_per_second: 11674.1281, train_label_loss: 0.0031, \n"
     ]
    },
    {
     "name": "stdout",
     "output_type": "stream",
     "text": [
      "epoch: 4, [batch: 959 / 1370], examples_per_second: 11477.4239, train_label_loss: 0.0054, \n"
     ]
    },
    {
     "name": "stdout",
     "output_type": "stream",
     "text": [
      "epoch: 4, [batch: 1096 / 1370], examples_per_second: 11605.9994, train_label_loss: 0.0029, \n"
     ]
    },
    {
     "name": "stdout",
     "output_type": "stream",
     "text": [
      "epoch: 4, [batch: 1233 / 1370], examples_per_second: 11690.4753, train_label_loss: 0.0055, \n"
     ]
    },
    {
     "name": "stdout",
     "output_type": "stream",
     "text": [
      "=============================================================\n",
      "epoch: 4, source_val_acc_label: 0.9769, source_val_label_loss: 0.0791, target_val_acc_label: 0.9769, target_val_label_loss: 0.0790, \n",
      "=============================================================\n"
     ]
    },
    {
     "name": "stdout",
     "output_type": "stream",
     "text": [
      "epoch: 5, [batch: 1 / 1370], examples_per_second: 65.7320, train_label_loss: 0.0053, \n"
     ]
    },
    {
     "name": "stdout",
     "output_type": "stream",
     "text": [
      "epoch: 5, [batch: 137 / 1370], examples_per_second: 11679.6145, train_label_loss: 0.0014, \n"
     ]
    },
    {
     "name": "stdout",
     "output_type": "stream",
     "text": [
      "epoch: 5, [batch: 274 / 1370], examples_per_second: 11765.1590, train_label_loss: 0.0018, \n"
     ]
    },
    {
     "name": "stdout",
     "output_type": "stream",
     "text": [
      "epoch: 5, [batch: 411 / 1370], examples_per_second: 11738.6703, train_label_loss: 0.0029, \n"
     ]
    },
    {
     "name": "stdout",
     "output_type": "stream",
     "text": [
      "epoch: 5, [batch: 548 / 1370], examples_per_second: 11703.1893, train_label_loss: 0.0019, \n"
     ]
    },
    {
     "name": "stdout",
     "output_type": "stream",
     "text": [
      "epoch: 5, [batch: 685 / 1370], examples_per_second: 11759.6174, train_label_loss: 0.0092, \n"
     ]
    },
    {
     "name": "stdout",
     "output_type": "stream",
     "text": [
      "epoch: 5, [batch: 822 / 1370], examples_per_second: 11618.4624, train_label_loss: 0.0054, \n"
     ]
    },
    {
     "name": "stdout",
     "output_type": "stream",
     "text": [
      "epoch: 5, [batch: 959 / 1370], examples_per_second: 11698.4130, train_label_loss: 0.0122, \n"
     ]
    },
    {
     "name": "stdout",
     "output_type": "stream",
     "text": [
      "epoch: 5, [batch: 1096 / 1370], examples_per_second: 11805.8417, train_label_loss: 0.0023, \n"
     ]
    },
    {
     "name": "stdout",
     "output_type": "stream",
     "text": [
      "epoch: 5, [batch: 1233 / 1370], examples_per_second: 11632.7917, train_label_loss: 0.0071, \n"
     ]
    },
    {
     "name": "stdout",
     "output_type": "stream",
     "text": [
      "=============================================================\n",
      "epoch: 5, source_val_acc_label: 0.9935, source_val_label_loss: 0.0258, target_val_acc_label: 0.9935, target_val_label_loss: 0.0258, \n",
      "=============================================================\n"
     ]
    },
    {
     "name": "stdout",
     "output_type": "stream",
     "text": [
      "New best\n",
      "epoch: 6, [batch: 1 / 1370], examples_per_second: 65.3421, train_label_loss: 0.0044, \n"
     ]
    },
    {
     "name": "stdout",
     "output_type": "stream",
     "text": [
      "epoch: 6, [batch: 137 / 1370], examples_per_second: 11602.9672, train_label_loss: 0.0024, \n"
     ]
    },
    {
     "name": "stdout",
     "output_type": "stream",
     "text": [
      "epoch: 6, [batch: 274 / 1370], examples_per_second: 11766.0586, train_label_loss: 0.0085, \n"
     ]
    },
    {
     "name": "stdout",
     "output_type": "stream",
     "text": [
      "epoch: 6, [batch: 411 / 1370], examples_per_second: 11733.3445, train_label_loss: 0.0020, \n"
     ]
    },
    {
     "name": "stdout",
     "output_type": "stream",
     "text": [
      "epoch: 6, [batch: 548 / 1370], examples_per_second: 11616.9191, train_label_loss: 0.0027, \n"
     ]
    },
    {
     "name": "stdout",
     "output_type": "stream",
     "text": [
      "epoch: 6, [batch: 685 / 1370], examples_per_second: 11715.2089, train_label_loss: 0.0058, \n"
     ]
    },
    {
     "name": "stdout",
     "output_type": "stream",
     "text": [
      "epoch: 6, [batch: 822 / 1370], examples_per_second: 11658.6009, train_label_loss: 0.0006, \n"
     ]
    },
    {
     "name": "stdout",
     "output_type": "stream",
     "text": [
      "epoch: 6, [batch: 959 / 1370], examples_per_second: 12100.2092, train_label_loss: 0.0023, \n"
     ]
    },
    {
     "name": "stdout",
     "output_type": "stream",
     "text": [
      "epoch: 6, [batch: 1096 / 1370], examples_per_second: 12423.4091, train_label_loss: 0.0015, \n"
     ]
    },
    {
     "name": "stdout",
     "output_type": "stream",
     "text": [
      "epoch: 6, [batch: 1233 / 1370], examples_per_second: 11677.2938, train_label_loss: 0.0010, \n"
     ]
    },
    {
     "name": "stdout",
     "output_type": "stream",
     "text": [
      "=============================================================\n",
      "epoch: 6, source_val_acc_label: 0.9966, source_val_label_loss: 0.0146, target_val_acc_label: 0.9966, target_val_label_loss: 0.0146, \n",
      "=============================================================\n"
     ]
    },
    {
     "name": "stdout",
     "output_type": "stream",
     "text": [
      "New best\n",
      "epoch: 7, [batch: 1 / 1370], examples_per_second: 65.8876, train_label_loss: 0.0055, \n"
     ]
    },
    {
     "name": "stdout",
     "output_type": "stream",
     "text": [
      "epoch: 7, [batch: 137 / 1370], examples_per_second: 11546.6152, train_label_loss: 0.0102, \n"
     ]
    },
    {
     "name": "stdout",
     "output_type": "stream",
     "text": [
      "epoch: 7, [batch: 274 / 1370], examples_per_second: 11668.8682, train_label_loss: 0.0037, \n"
     ]
    },
    {
     "name": "stdout",
     "output_type": "stream",
     "text": [
      "epoch: 7, [batch: 411 / 1370], examples_per_second: 11679.7211, train_label_loss: 0.0024, \n"
     ]
    },
    {
     "name": "stdout",
     "output_type": "stream",
     "text": [
      "epoch: 7, [batch: 548 / 1370], examples_per_second: 11729.2281, train_label_loss: 0.0012, \n"
     ]
    },
    {
     "name": "stdout",
     "output_type": "stream",
     "text": [
      "epoch: 7, [batch: 685 / 1370], examples_per_second: 11724.4958, train_label_loss: 0.0044, \n"
     ]
    },
    {
     "name": "stdout",
     "output_type": "stream",
     "text": [
      "epoch: 7, [batch: 822 / 1370], examples_per_second: 11725.8005, train_label_loss: 0.0026, \n"
     ]
    },
    {
     "name": "stdout",
     "output_type": "stream",
     "text": [
      "epoch: 7, [batch: 959 / 1370], examples_per_second: 11702.6810, train_label_loss: 0.0016, \n"
     ]
    },
    {
     "name": "stdout",
     "output_type": "stream",
     "text": [
      "epoch: 7, [batch: 1096 / 1370], examples_per_second: 11625.6667, train_label_loss: 0.0012, \n"
     ]
    },
    {
     "name": "stdout",
     "output_type": "stream",
     "text": [
      "epoch: 7, [batch: 1233 / 1370], examples_per_second: 11693.5160, train_label_loss: 0.0004, \n"
     ]
    },
    {
     "name": "stdout",
     "output_type": "stream",
     "text": [
      "=============================================================\n",
      "epoch: 7, source_val_acc_label: 0.9681, source_val_label_loss: 0.1150, target_val_acc_label: 0.9681, target_val_label_loss: 0.1150, \n",
      "=============================================================\n"
     ]
    },
    {
     "name": "stdout",
     "output_type": "stream",
     "text": [
      "epoch: 8, [batch: 1 / 1370], examples_per_second: 66.6584, train_label_loss: 0.0014, \n"
     ]
    },
    {
     "name": "stdout",
     "output_type": "stream",
     "text": [
      "epoch: 8, [batch: 137 / 1370], examples_per_second: 11661.8422, train_label_loss: 0.0005, \n"
     ]
    },
    {
     "name": "stdout",
     "output_type": "stream",
     "text": [
      "epoch: 8, [batch: 274 / 1370], examples_per_second: 11676.2093, train_label_loss: 0.0008, \n"
     ]
    },
    {
     "name": "stdout",
     "output_type": "stream",
     "text": [
      "epoch: 8, [batch: 411 / 1370], examples_per_second: 11696.1416, train_label_loss: 0.0008, \n"
     ]
    },
    {
     "name": "stdout",
     "output_type": "stream",
     "text": [
      "epoch: 8, [batch: 548 / 1370], examples_per_second: 11692.4322, train_label_loss: 0.0042, \n"
     ]
    },
    {
     "name": "stdout",
     "output_type": "stream",
     "text": [
      "epoch: 8, [batch: 685 / 1370], examples_per_second: 11614.9672, train_label_loss: 0.0026, \n"
     ]
    },
    {
     "name": "stdout",
     "output_type": "stream",
     "text": [
      "epoch: 8, [batch: 822 / 1370], examples_per_second: 11780.9621, train_label_loss: 0.0193, \n"
     ]
    },
    {
     "name": "stdout",
     "output_type": "stream",
     "text": [
      "epoch: 8, [batch: 959 / 1370], examples_per_second: 11702.9622, train_label_loss: 0.0005, \n"
     ]
    },
    {
     "name": "stdout",
     "output_type": "stream",
     "text": [
      "epoch: 8, [batch: 1096 / 1370], examples_per_second: 11886.4645, train_label_loss: 0.0004, \n"
     ]
    },
    {
     "name": "stdout",
     "output_type": "stream",
     "text": [
      "epoch: 8, [batch: 1233 / 1370], examples_per_second: 11702.7089, train_label_loss: 0.0006, \n"
     ]
    },
    {
     "name": "stdout",
     "output_type": "stream",
     "text": [
      "=============================================================\n",
      "epoch: 8, source_val_acc_label: 0.9981, source_val_label_loss: 0.0098, target_val_acc_label: 0.9981, target_val_label_loss: 0.0098, \n",
      "=============================================================\n"
     ]
    },
    {
     "name": "stdout",
     "output_type": "stream",
     "text": [
      "New best\n",
      "epoch: 9, [batch: 1 / 1370], examples_per_second: 65.2399, train_label_loss: 0.0006, \n"
     ]
    },
    {
     "name": "stdout",
     "output_type": "stream",
     "text": [
      "epoch: 9, [batch: 137 / 1370], examples_per_second: 11664.5455, train_label_loss: 0.0008, \n"
     ]
    },
    {
     "name": "stdout",
     "output_type": "stream",
     "text": [
      "epoch: 9, [batch: 274 / 1370], examples_per_second: 11744.3309, train_label_loss: 0.0003, \n"
     ]
    },
    {
     "name": "stdout",
     "output_type": "stream",
     "text": [
      "epoch: 9, [batch: 411 / 1370], examples_per_second: 11678.4062, train_label_loss: 0.0010, \n"
     ]
    },
    {
     "name": "stdout",
     "output_type": "stream",
     "text": [
      "epoch: 9, [batch: 548 / 1370], examples_per_second: 11675.8924, train_label_loss: 0.0006, \n"
     ]
    },
    {
     "name": "stdout",
     "output_type": "stream",
     "text": [
      "epoch: 9, [batch: 685 / 1370], examples_per_second: 11703.4836, train_label_loss: 0.0014, \n"
     ]
    },
    {
     "name": "stdout",
     "output_type": "stream",
     "text": [
      "epoch: 9, [batch: 822 / 1370], examples_per_second: 11672.1199, train_label_loss: 0.0018, \n"
     ]
    },
    {
     "name": "stdout",
     "output_type": "stream",
     "text": [
      "epoch: 9, [batch: 959 / 1370], examples_per_second: 11723.7221, train_label_loss: 0.0091, \n"
     ]
    },
    {
     "name": "stdout",
     "output_type": "stream",
     "text": [
      "epoch: 9, [batch: 1096 / 1370], examples_per_second: 11703.6903, train_label_loss: 0.0004, \n"
     ]
    },
    {
     "name": "stdout",
     "output_type": "stream",
     "text": [
      "epoch: 9, [batch: 1233 / 1370], examples_per_second: 11746.5216, train_label_loss: 0.0010, \n"
     ]
    },
    {
     "name": "stdout",
     "output_type": "stream",
     "text": [
      "=============================================================\n",
      "epoch: 9, source_val_acc_label: 0.9919, source_val_label_loss: 0.0297, target_val_acc_label: 0.9919, target_val_label_loss: 0.0297, \n",
      "=============================================================\n"
     ]
    },
    {
     "name": "stdout",
     "output_type": "stream",
     "text": [
      "epoch: 10, [batch: 1 / 1370], examples_per_second: 65.7622, train_label_loss: 0.0028, \n"
     ]
    },
    {
     "name": "stdout",
     "output_type": "stream",
     "text": [
      "epoch: 10, [batch: 137 / 1370], examples_per_second: 11706.5051, train_label_loss: 0.0003, \n"
     ]
    },
    {
     "name": "stdout",
     "output_type": "stream",
     "text": [
      "epoch: 10, [batch: 274 / 1370], examples_per_second: 11706.9540, train_label_loss: 0.0002, \n"
     ]
    },
    {
     "name": "stdout",
     "output_type": "stream",
     "text": [
      "epoch: 10, [batch: 411 / 1370], examples_per_second: 11681.5223, train_label_loss: 0.0002, \n"
     ]
    },
    {
     "name": "stdout",
     "output_type": "stream",
     "text": [
      "epoch: 10, [batch: 548 / 1370], examples_per_second: 11652.6571, train_label_loss: 0.0044, \n"
     ]
    },
    {
     "name": "stdout",
     "output_type": "stream",
     "text": [
      "epoch: 10, [batch: 685 / 1370], examples_per_second: 11686.4371, train_label_loss: 0.0031, \n"
     ]
    },
    {
     "name": "stdout",
     "output_type": "stream",
     "text": [
      "epoch: 10, [batch: 822 / 1370], examples_per_second: 11665.9661, train_label_loss: 0.0002, \n"
     ]
    },
    {
     "name": "stdout",
     "output_type": "stream",
     "text": [
      "epoch: 10, [batch: 959 / 1370], examples_per_second: 11685.1171, train_label_loss: 0.0003, \n"
     ]
    },
    {
     "name": "stdout",
     "output_type": "stream",
     "text": [
      "epoch: 10, [batch: 1096 / 1370], examples_per_second: 11600.2956, train_label_loss: 0.0001, \n"
     ]
    },
    {
     "name": "stdout",
     "output_type": "stream",
     "text": [
      "epoch: 10, [batch: 1233 / 1370], examples_per_second: 11675.6774, train_label_loss: 0.0008, \n"
     ]
    },
    {
     "name": "stdout",
     "output_type": "stream",
     "text": [
      "=============================================================\n",
      "epoch: 10, source_val_acc_label: 0.9980, source_val_label_loss: 0.0095, target_val_acc_label: 0.9980, target_val_label_loss: 0.0095, \n",
      "=============================================================\n"
     ]
    },
    {
     "name": "stdout",
     "output_type": "stream",
     "text": [
      "epoch: 11, [batch: 1 / 1370], examples_per_second: 65.7942, train_label_loss: 0.0003, \n"
     ]
    },
    {
     "name": "stdout",
     "output_type": "stream",
     "text": [
      "epoch: 11, [batch: 137 / 1370], examples_per_second: 11678.1480, train_label_loss: 0.0021, \n"
     ]
    },
    {
     "name": "stdout",
     "output_type": "stream",
     "text": [
      "epoch: 11, [batch: 274 / 1370], examples_per_second: 11701.7166, train_label_loss: 0.0003, \n"
     ]
    },
    {
     "name": "stdout",
     "output_type": "stream",
     "text": [
      "epoch: 11, [batch: 411 / 1370], examples_per_second: 11689.9216, train_label_loss: 0.0002, \n"
     ]
    },
    {
     "name": "stdout",
     "output_type": "stream",
     "text": [
      "epoch: 11, [batch: 548 / 1370], examples_per_second: 11616.4347, train_label_loss: 0.0003, \n"
     ]
    },
    {
     "name": "stdout",
     "output_type": "stream",
     "text": [
      "epoch: 11, [batch: 685 / 1370], examples_per_second: 11692.9527, train_label_loss: 0.0824, \n"
     ]
    },
    {
     "name": "stdout",
     "output_type": "stream",
     "text": [
      "epoch: 11, [batch: 822 / 1370], examples_per_second: 11720.9086, train_label_loss: 0.0007, \n"
     ]
    },
    {
     "name": "stdout",
     "output_type": "stream",
     "text": [
      "epoch: 11, [batch: 959 / 1370], examples_per_second: 11761.0296, train_label_loss: 0.0002, \n"
     ]
    },
    {
     "name": "stdout",
     "output_type": "stream",
     "text": [
      "epoch: 11, [batch: 1096 / 1370], examples_per_second: 11663.2986, train_label_loss: 0.0006, \n"
     ]
    },
    {
     "name": "stdout",
     "output_type": "stream",
     "text": [
      "epoch: 11, [batch: 1233 / 1370], examples_per_second: 11713.9887, train_label_loss: 0.0019, \n"
     ]
    },
    {
     "name": "stdout",
     "output_type": "stream",
     "text": [
      "=============================================================\n",
      "epoch: 11, source_val_acc_label: 0.9981, source_val_label_loss: 0.0102, target_val_acc_label: 0.9981, target_val_label_loss: 0.0101, \n",
      "=============================================================\n"
     ]
    },
    {
     "name": "stdout",
     "output_type": "stream",
     "text": [
      "epoch: 12, [batch: 1 / 1370], examples_per_second: 65.1864, train_label_loss: 0.0004, \n"
     ]
    },
    {
     "name": "stdout",
     "output_type": "stream",
     "text": [
      "epoch: 12, [batch: 137 / 1370], examples_per_second: 11584.2269, train_label_loss: 0.0005, \n"
     ]
    },
    {
     "name": "stdout",
     "output_type": "stream",
     "text": [
      "epoch: 12, [batch: 274 / 1370], examples_per_second: 11671.6809, train_label_loss: 0.0004, \n"
     ]
    },
    {
     "name": "stdout",
     "output_type": "stream",
     "text": [
      "epoch: 12, [batch: 411 / 1370], examples_per_second: 11698.6474, train_label_loss: 0.0004, \n"
     ]
    },
    {
     "name": "stdout",
     "output_type": "stream",
     "text": [
      "epoch: 12, [batch: 548 / 1370], examples_per_second: 11789.6487, train_label_loss: 0.0021, \n"
     ]
    },
    {
     "name": "stdout",
     "output_type": "stream",
     "text": [
      "epoch: 12, [batch: 685 / 1370], examples_per_second: 11655.3198, train_label_loss: 0.0006, \n"
     ]
    },
    {
     "name": "stdout",
     "output_type": "stream",
     "text": [
      "epoch: 12, [batch: 822 / 1370], examples_per_second: 11695.3679, train_label_loss: 0.0026, \n"
     ]
    },
    {
     "name": "stdout",
     "output_type": "stream",
     "text": [
      "epoch: 12, [batch: 959 / 1370], examples_per_second: 11638.6287, train_label_loss: 0.0018, \n"
     ]
    },
    {
     "name": "stdout",
     "output_type": "stream",
     "text": [
      "epoch: 12, [batch: 1096 / 1370], examples_per_second: 11749.6929, train_label_loss: 0.0001, \n"
     ]
    },
    {
     "name": "stdout",
     "output_type": "stream",
     "text": [
      "epoch: 12, [batch: 1233 / 1370], examples_per_second: 11689.9922, train_label_loss: 0.0002, \n"
     ]
    },
    {
     "name": "stdout",
     "output_type": "stream",
     "text": [
      "=============================================================\n",
      "epoch: 12, source_val_acc_label: 0.9974, source_val_label_loss: 0.0096, target_val_acc_label: 0.9974, target_val_label_loss: 0.0096, \n",
      "=============================================================\n"
     ]
    },
    {
     "name": "stdout",
     "output_type": "stream",
     "text": [
      "Patience (3) exhausted\n"
     ]
    }
   ],
   "source": [
    "jig = Vanilla_Train_Eval_Test_Jig(\n",
    "    model=model,\n",
    "    path_to_best_model=p.BEST_MODEL_PATH,\n",
    "    device=p.device,\n",
    "    label_loss_object=torch.nn.NLLLoss(),\n",
    ")\n",
    "\n",
    "jig.train(\n",
    "    train_iterable=datasets.source.processed.train,\n",
    "    source_val_iterable=datasets.source.processed.val,\n",
    "    target_val_iterable=datasets.target.processed.val,\n",
    "    patience=p.patience,\n",
    "    num_epochs=p.n_epoch,\n",
    "    num_logs_per_epoch=p.NUM_LOGS_PER_EPOCH,\n",
    "    criteria_for_best=p.criteria_for_best\n",
    ")"
   ]
  },
  {
   "cell_type": "code",
   "execution_count": 14,
   "id": "4bc2ac17",
   "metadata": {
    "execution": {
     "iopub.execute_input": "2022-03-26T03:53:51.292799Z",
     "iopub.status.busy": "2022-03-26T03:53:51.292412Z",
     "iopub.status.idle": "2022-03-26T03:53:51.295665Z",
     "shell.execute_reply": "2022-03-26T03:53:51.295281Z"
    },
    "papermill": {
     "duration": 0.058129,
     "end_time": "2022-03-26T03:53:51.295736",
     "exception": false,
     "start_time": "2022-03-26T03:53:51.237607",
     "status": "completed"
    },
    "tags": []
   },
   "outputs": [],
   "source": [
    "total_experiment_time_secs = time.time() - start_time_secs"
   ]
  },
  {
   "cell_type": "code",
   "execution_count": 15,
   "id": "cae88f23",
   "metadata": {
    "execution": {
     "iopub.execute_input": "2022-03-26T03:53:51.411483Z",
     "iopub.status.busy": "2022-03-26T03:53:51.404859Z",
     "iopub.status.idle": "2022-03-26T03:54:12.222659Z",
     "shell.execute_reply": "2022-03-26T03:54:12.222997Z"
    },
    "papermill": {
     "duration": 20.875204,
     "end_time": "2022-03-26T03:54:12.223128",
     "exception": false,
     "start_time": "2022-03-26T03:53:51.347924",
     "status": "completed"
    },
    "tags": []
   },
   "outputs": [],
   "source": [
    "source_test_label_accuracy, source_test_label_loss = jig.test(datasets.source.processed.test)\n",
    "target_test_label_accuracy, target_test_label_loss = jig.test(datasets.target.processed.test)\n",
    "\n",
    "source_val_label_accuracy, source_val_label_loss = jig.test(datasets.source.processed.val)\n",
    "target_val_label_accuracy, target_val_label_loss = jig.test(datasets.target.processed.val)\n",
    "\n",
    "history = jig.get_history()\n",
    "\n",
    "total_epochs_trained = len(history[\"epoch_indices\"])\n",
    "\n",
    "val_dl = wrap_in_dataloader(p, Sequence_Aggregator((datasets.source.original.val, datasets.target.original.val)))\n",
    "\n",
    "confusion = confusion_by_domain_over_dataloader(model, p.device, val_dl, forward_uses_domain=False)\n",
    "per_domain_accuracy = per_domain_accuracy_from_confusion(confusion)\n",
    "\n",
    "# Add a key to per_domain_accuracy for if it was a source domain\n",
    "for domain, accuracy in per_domain_accuracy.items():\n",
    "    per_domain_accuracy[domain] = {\n",
    "        \"accuracy\": accuracy,\n",
    "        \"source?\": domain in p.domains_source\n",
    "    }\n",
    "\n",
    "# Do an independent accuracy assesment JUST TO BE SURE!\n",
    "# _source_test_label_accuracy = independent_accuracy_assesment(model, datasets.source.processed.test, p.device)\n",
    "# _target_test_label_accuracy = independent_accuracy_assesment(model, datasets.target.processed.test, p.device)\n",
    "# _source_val_label_accuracy = independent_accuracy_assesment(model, datasets.source.processed.val, p.device)\n",
    "# _target_val_label_accuracy = independent_accuracy_assesment(model, datasets.target.processed.val, p.device)\n",
    "\n",
    "# assert(_source_test_label_accuracy == source_test_label_accuracy)\n",
    "# assert(_target_test_label_accuracy == target_test_label_accuracy)\n",
    "# assert(_source_val_label_accuracy == source_val_label_accuracy)\n",
    "# assert(_target_val_label_accuracy == target_val_label_accuracy)\n",
    "\n",
    "###################################\n",
    "# Write out the results\n",
    "###################################\n",
    "\n",
    "experiment = {\n",
    "    \"experiment_name\": p.experiment_name,\n",
    "    \"parameters\": p,\n",
    "    \"results\": {\n",
    "        \"source_test_label_accuracy\": source_test_label_accuracy,\n",
    "        \"source_test_label_loss\": source_test_label_loss,\n",
    "        \"target_test_label_accuracy\": target_test_label_accuracy,\n",
    "        \"target_test_label_loss\": target_test_label_loss,\n",
    "        \"source_val_label_accuracy\": source_val_label_accuracy,\n",
    "        \"source_val_label_loss\": source_val_label_loss,\n",
    "        \"target_val_label_accuracy\": target_val_label_accuracy,\n",
    "        \"target_val_label_loss\": target_val_label_loss,\n",
    "        \"total_epochs_trained\": total_epochs_trained,\n",
    "        \"total_experiment_time_secs\": total_experiment_time_secs,\n",
    "        \"confusion\": confusion,\n",
    "        \"per_domain_accuracy\": per_domain_accuracy,\n",
    "    },\n",
    "    \"history\": history,\n",
    "    \"dataset_metrics\": get_dataset_metrics(datasets, \"cnn\"),\n",
    "}"
   ]
  },
  {
   "cell_type": "code",
   "execution_count": 16,
   "id": "74c318cf",
   "metadata": {
    "execution": {
     "iopub.execute_input": "2022-03-26T03:54:12.386240Z",
     "iopub.status.busy": "2022-03-26T03:54:12.380894Z",
     "iopub.status.idle": "2022-03-26T03:54:12.567963Z",
     "shell.execute_reply": "2022-03-26T03:54:12.568645Z"
    },
    "papermill": {
     "duration": 0.294055,
     "end_time": "2022-03-26T03:54:12.568830",
     "exception": false,
     "start_time": "2022-03-26T03:54:12.274775",
     "status": "completed"
    },
    "tags": []
   },
   "outputs": [
    {
     "data": {
      "text/plain": [
       "<AxesSubplot:title={'center':'Source Train Label Loss vs Source Val Label Loss'}, xlabel='Epoch'>"
      ]
     },
     "execution_count": 16,
     "metadata": {},
     "output_type": "execute_result"
    },
    {
     "data": {
      "image/png": "[encoded data removed]",
      "text/plain": [
       "<Figure size 1080x504 with 1 Axes>"
      ]
     },
     "metadata": {
      "needs_background": "light"
     },
     "output_type": "display_data"
    }
   ],
   "source": [
    "get_loss_curve(experiment)"
   ]
  },
  {
   "cell_type": "code",
   "execution_count": 17,
   "id": "59376601",
   "metadata": {
    "execution": {
     "iopub.execute_input": "2022-03-26T03:54:12.703699Z",
     "iopub.status.busy": "2022-03-26T03:54:12.702872Z",
     "iopub.status.idle": "2022-03-26T03:54:12.978914Z",
     "shell.execute_reply": "2022-03-26T03:54:12.979223Z"
    },
    "papermill": {
     "duration": 0.354101,
     "end_time": "2022-03-26T03:54:12.979313",
     "exception": false,
     "start_time": "2022-03-26T03:54:12.625212",
     "status": "completed"
    },
    "tags": []
   },
   "outputs": [
    {
     "data": {
      "text/plain": [
       "<AxesSubplot:title={'center':'Results'}>"
      ]
     },
     "execution_count": 17,
     "metadata": {},
     "output_type": "execute_result"
    },
    {
     "data": {
      "image/png": "[encoded data removed]",
      "text/plain": [
       "<Figure size 1080x504 with 1 Axes>"
      ]
     },
     "metadata": {
      "needs_background": "light"
     },
     "output_type": "display_data"
    }
   ],
   "source": [
    "get_results_table(experiment)"
   ]
  },
  {
   "cell_type": "code",
   "execution_count": 18,
   "id": "e80c5c98",
   "metadata": {
    "execution": {
     "iopub.execute_input": "2022-03-26T03:54:13.104392Z",
     "iopub.status.busy": "2022-03-26T03:54:13.103213Z",
     "iopub.status.idle": "2022-03-26T03:54:13.257149Z",
     "shell.execute_reply": "2022-03-26T03:54:13.256353Z"
    },
    "papermill": {
     "duration": 0.224228,
     "end_time": "2022-03-26T03:54:13.257304",
     "exception": false,
     "start_time": "2022-03-26T03:54:13.033076",
     "status": "completed"
    },
    "tags": []
   },
   "outputs": [
    {
     "data": {
      "text/plain": [
       "<AxesSubplot:title={'center':'Per Domain Accuracy'}, xlabel='domain'>"
      ]
     },
     "execution_count": 18,
     "metadata": {},
     "output_type": "execute_result"
    },
    {
     "data": {
      "image/png": "[encoded data removed]",
      "text/plain": [
       "<Figure size 1080x504 with 1 Axes>"
      ]
     },
     "metadata": {
      "needs_background": "light"
     },
     "output_type": "display_data"
    }
   ],
   "source": [
    "get_domain_accuracies(experiment)"
   ]
  },
  {
   "cell_type": "code",
   "execution_count": 19,
   "id": "086fdd10",
   "metadata": {
    "execution": {
     "iopub.execute_input": "2022-03-26T03:54:13.377327Z",
     "iopub.status.busy": "2022-03-26T03:54:13.376946Z",
     "iopub.status.idle": "2022-03-26T03:54:13.381292Z",
     "shell.execute_reply": "2022-03-26T03:54:13.381962Z"
    },
    "papermill": {
     "duration": 0.065779,
     "end_time": "2022-03-26T03:54:13.382146",
     "exception": false,
     "start_time": "2022-03-26T03:54:13.316367",
     "status": "completed"
    },
    "tags": []
   },
   "outputs": [
    {
     "name": "stdout",
     "output_type": "stream",
     "text": [
      "Source Test Label Accuracy: 0.9976236368917171 Target Test Label Accuracy: 0.9976236368917171\n",
      "Source Val Label Accuracy: 0.9980778985023626 Target Val Label Accuracy: 0.9980778985023626\n"
     ]
    }
   ],
   "source": [
    "print(\"Source Test Label Accuracy:\", experiment[\"results\"][\"source_test_label_accuracy\"], \"Target Test Label Accuracy:\", experiment[\"results\"][\"target_test_label_accuracy\"])\n",
    "print(\"Source Val Label Accuracy:\", experiment[\"results\"][\"source_val_label_accuracy\"], \"Target Val Label Accuracy:\", experiment[\"results\"][\"target_val_label_accuracy\"])"
   ]
  },
  {
   "cell_type": "code",
   "execution_count": 20,
   "id": "9f450536",
   "metadata": {
    "execution": {
     "iopub.execute_input": "2022-03-26T03:54:13.509329Z",
     "iopub.status.busy": "2022-03-26T03:54:13.508502Z",
     "iopub.status.idle": "2022-03-26T03:54:13.511897Z",
     "shell.execute_reply": "2022-03-26T03:54:13.512556Z"
    },
    "papermill": {
     "duration": 0.069769,
     "end_time": "2022-03-26T03:54:13.512738",
     "exception": false,
     "start_time": "2022-03-26T03:54:13.442969",
     "status": "completed"
    },
    "tags": [
     "experiment_json"
    ]
   },
   "outputs": [
    {
     "data": {
      "text/plain": [
       "'{\"experiment_name\": \"cnn_2:cores\", \"parameters\": {\"experiment_name\": \"cnn_2:cores\", \"device\": \"cuda\", \"lr\": 0.0001, \"labels\": [\"1-10.\", \"1-11.\", \"1-15.\", \"1-16.\", \"1-17.\", \"1-18.\", \"1-19.\", \"10-4.\", \"10-7.\", \"11-1.\", \"11-14.\", \"11-17.\", \"11-20.\", \"11-7.\", \"13-20.\", \"13-8.\", \"14-10.\", \"14-11.\", \"14-14.\", \"14-7.\", \"15-1.\", \"15-20.\", \"16-1.\", \"16-16.\", \"17-10.\", \"17-11.\", \"17-2.\", \"19-1.\", \"19-16.\", \"19-19.\", \"19-20.\", \"19-3.\", \"2-10.\", \"2-11.\", \"2-17.\", \"2-18.\", \"2-20.\", \"2-3.\", \"2-4.\", \"2-5.\", \"2-6.\", \"2-7.\", \"2-8.\", \"3-13.\", \"3-18.\", \"3-3.\", \"4-1.\", \"4-10.\", \"4-11.\", \"4-19.\", \"5-5.\", \"6-15.\", \"7-10.\", \"7-14.\", \"8-18.\", \"8-20.\", \"8-3.\", \"8-8.\"], \"batch_size\": 128, \"domains_source\": [1, 2, 3, 4, 5], \"domains_target\": [1, 2, 3, 4, 5], \"normalize_source\": false, \"normalize_target\": false, \"num_examples_per_domain_per_label_source\": -1, \"num_examples_per_domain_per_label_target\": -1, \"torch_default_dtype\": \"torch.float32\", \"n_epoch\": 50, \"patience\": 3, \"criteria_for_best\": \"target_accuracy\", \"x_net\": [{\"class\": \"nnReshape\", \"kargs\": {\"shape\": [-1, 1, 2, 256]}}, {\"class\": \"Conv2d\", \"kargs\": {\"in_channels\": 1, \"out_channels\": 256, \"kernel_size\": [1, 7], \"bias\": false, \"padding\": [0, 3]}}, {\"class\": \"ReLU\", \"kargs\": {\"inplace\": true}}, {\"class\": \"BatchNorm2d\", \"kargs\": {\"num_features\": 256}}, {\"class\": \"Conv2d\", \"kargs\": {\"in_channels\": 256, \"out_channels\": 80, \"kernel_size\": [2, 7], \"bias\": true, \"padding\": [0, 3]}}, {\"class\": \"ReLU\", \"kargs\": {\"inplace\": true}}, {\"class\": \"BatchNorm2d\", \"kargs\": {\"num_features\": 80}}, {\"class\": \"Flatten\", \"kargs\": {}}, {\"class\": \"Linear\", \"kargs\": {\"in_features\": 20480, \"out_features\": 256}}, {\"class\": \"ReLU\", \"kargs\": {\"inplace\": true}}, {\"class\": \"BatchNorm1d\", \"kargs\": {\"num_features\": 256}}, {\"class\": \"Linear\", \"kargs\": {\"in_features\": 256, \"out_features\": 58}}], \"NUM_LOGS_PER_EPOCH\": 10, \"BEST_MODEL_PATH\": \"./best_model.pth\", \"pickle_name_source\": \"cores.stratified_ds.2022A.pkl\", \"pickle_name_target\": \"cores.stratified_ds.2022A.pkl\", \"dataset_seed\": 154325, \"seed\": 154325}, \"results\": {\"source_test_label_accuracy\": 0.9976236368917171, \"source_test_label_loss\": 0.010299098305974464, \"target_test_label_accuracy\": 0.9976236368917171, \"target_test_label_loss\": 0.010299105344381894, \"source_val_label_accuracy\": 0.9980778985023626, \"source_val_label_loss\": 0.009800269633889955, \"target_val_label_accuracy\": 0.9980778985023626, \"target_val_label_loss\": 0.009750528735964504, \"total_epochs_trained\": 12, \"total_experiment_time_secs\": 225.4041793346405, \"confusion\": {\"5\": {\"22\": {\"22\": 70}, \"51\": {\"51\": 376, \"12\": 4}, \"2\": {\"2\": 72}, \"19\": {\"19\": 386, \"29\": 2}, \"25\": {\"25\": 450}, \"16\": {\"16\": 388, \"11\": 2}, \"15\": {\"15\": 418}, \"55\": {\"55\": 498}, \"1\": {\"1\": 374}, \"20\": {\"20\": 368}, \"4\": {\"4\": 246, \"45\": 4}, \"24\": {\"24\": 208}, \"3\": {\"3\": 252, \"6\": 2, \"46\": 2, \"22\": 2}, \"12\": {\"12\": 246}, \"30\": {\"30\": 320}, \"52\": {\"52\": 352}, \"41\": {\"41\": 72}, \"9\": {\"9\": 392}, \"36\": {\"36\": 236}, \"13\": {\"13\": 406}, \"27\": {\"27\": 406, \"32\": 2}, \"43\": {\"43\": 386}, \"50\": {\"50\": 372, \"3\": 2}, \"11\": {\"11\": 406}, \"45\": {\"45\": 314}, \"33\": {\"33\": 88}, \"0\": {\"0\": 314}, \"57\": {\"57\": 334, \"30\": 2}, \"54\": {\"54\": 282}, \"5\": {\"5\": 322}, \"53\": {\"53\": 386}, \"56\": {\"56\": 386}, \"47\": {\"47\": 250}, \"44\": {\"44\": 380, \"5\": 2, \"45\": 2}, \"21\": {\"21\": 366}, \"17\": {\"17\": 290}, \"10\": {\"10\": 178}, \"14\": {\"14\": 110}, \"8\": {\"8\": 384}, \"7\": {\"7\": 84}, \"34\": {\"34\": 90}, \"40\": {\"40\": 318}, \"42\": {\"42\": 106}, \"23\": {\"23\": 314, \"41\": 2}, \"46\": {\"46\": 374, \"5\": 2}, \"39\": {\"39\": 52}, \"6\": {\"6\": 320, \"45\": 2}, \"28\": {\"28\": 80, \"5\": 2}, \"37\": {\"37\": 64}, \"29\": {\"29\": 330}, \"31\": {\"31\": 90}, \"32\": {\"32\": 88}, \"48\": {\"48\": 346}, \"18\": {\"18\": 168}, \"35\": {\"35\": 90, \"40\": 4}, \"49\": {\"49\": 92}, \"26\": {\"26\": 64}, \"38\": {\"38\": 88}}, \"3\": {\"36\": {\"36\": 256}, \"12\": {\"12\": 234}, \"54\": {\"54\": 252}, \"32\": {\"32\": 72}, \"6\": {\"6\": 228}, \"48\": {\"48\": 292}, \"5\": {\"5\": 296}, \"9\": {\"9\": 382}, \"33\": {\"33\": 76}, \"53\": {\"53\": 368}, \"15\": {\"15\": 396, \"11\": 2, \"16\": 2, \"46\": 2}, \"22\": {\"22\": 354}, \"13\": {\"13\": 320}, \"20\": {\"20\": 332}, \"42\": {\"42\": 76}, \"23\": {\"23\": 364}, \"17\": {\"17\": 270}, \"55\": {\"55\": 426}, \"14\": {\"14\": 106}, \"44\": {\"44\": 224}, \"0\": {\"0\": 318}, \"10\": {\"10\": 164}, \"24\": {\"24\": 266}, \"52\": {\"52\": 356}, \"57\": {\"57\": 308, \"29\": 2}, \"46\": {\"46\": 352}, \"25\": {\"25\": 426}, \"11\": {\"11\": 380, \"46\": 2, \"15\": 2}, \"8\": {\"8\": 386}, \"51\": {\"51\": 326}, \"31\": {\"31\": 72}, \"56\": {\"56\": 342}, \"4\": {\"4\": 370}, \"29\": {\"29\": 320}, \"40\": {\"40\": 344, \"5\": 2}, \"27\": {\"27\": 360}, \"3\": {\"3\": 372}, \"1\": {\"1\": 258}, \"35\": {\"35\": 76}, \"2\": {\"2\": 84}, \"21\": {\"21\": 316, \"6\": 4}, \"16\": {\"16\": 390}, \"37\": {\"37\": 78}, \"34\": {\"34\": 86}, \"30\": {\"30\": 300}, \"43\": {\"43\": 340}, \"19\": {\"19\": 388}, \"26\": {\"26\": 68}, \"50\": {\"50\": 370}, \"7\": {\"7\": 92}, \"38\": {\"38\": 74}, \"47\": {\"47\": 238}, \"18\": {\"18\": 210}, \"45\": {\"45\": 158}, \"28\": {\"28\": 74}, \"39\": {\"39\": 48}, \"41\": {\"41\": 76}, \"49\": {\"49\": 50}}, \"4\": {\"51\": {\"51\": 364, \"12\": 2}, \"20\": {\"20\": 338}, \"15\": {\"15\": 386}, \"29\": {\"29\": 316, \"18\": 2}, \"40\": {\"40\": 378}, \"8\": {\"8\": 364}, \"18\": {\"18\": 272, \"15\": 2}, \"55\": {\"55\": 494}, \"3\": {\"3\": 314, \"6\": 2}, \"10\": {\"10\": 346}, \"48\": {\"48\": 390}, \"50\": {\"50\": 336}, \"21\": {\"21\": 338}, \"22\": {\"22\": 316, \"6\": 4}, \"19\": {\"19\": 364}, \"56\": {\"56\": 386}, \"9\": {\"9\": 380}, \"6\": {\"6\": 280}, \"23\": {\"23\": 366}, \"46\": {\"46\": 390}, \"57\": {\"57\": 256, \"29\": 2}, \"45\": {\"45\": 244}, \"24\": {\"24\": 140, \"49\": 2}, \"4\": {\"4\": 332}, \"11\": {\"11\": 258, \"15\": 2, \"10\": 2}, \"0\": {\"0\": 206}, \"38\": {\"38\": 102}, \"43\": {\"43\": 370, \"13\": 2}, \"36\": {\"36\": 234, \"12\": 2}, \"27\": {\"27\": 384}, \"54\": {\"54\": 278}, \"41\": {\"41\": 88, \"42\": 2}, \"25\": {\"25\": 406}, \"12\": {\"12\": 230}, \"16\": {\"16\": 246, \"15\": 2}, \"52\": {\"52\": 298}, \"53\": {\"53\": 352, \"51\": 2}, \"14\": {\"14\": 40}, \"13\": {\"13\": 384}, \"30\": {\"30\": 116}, \"31\": {\"31\": 72}, \"17\": {\"17\": 198, \"29\": 2}, \"5\": {\"5\": 264, \"6\": 8}, \"44\": {\"44\": 332}, \"47\": {\"47\": 304}, \"26\": {\"26\": 62}, \"34\": {\"34\": 62}, \"28\": {\"28\": 86}, \"32\": {\"32\": 66}, \"7\": {\"7\": 68}, \"1\": {\"1\": 106, \"57\": 2}, \"42\": {\"42\": 86}, \"2\": {\"2\": 90}, \"33\": {\"33\": 92}, \"35\": {\"39\": 2, \"35\": 98}, \"37\": {\"37\": 60, \"13\": 2}, \"49\": {\"49\": 54}, \"39\": {\"39\": 54}}, \"1\": {\"55\": {\"55\": 572}, \"12\": {\"12\": 296, \"46\": 2}, \"13\": {\"13\": 396}, \"45\": {\"45\": 396}, \"54\": {\"54\": 266}, \"26\": {\"26\": 60}, \"27\": {\"27\": 408}, \"20\": {\"20\": 358}, \"50\": {\"50\": 398}, \"57\": {\"57\": 362}, \"1\": {\"1\": 256}, \"47\": {\"47\": 400}, \"24\": {\"24\": 270}, \"40\": {\"40\": 390}, \"49\": {\"49\": 88}, \"29\": {\"29\": 356}, \"52\": {\"52\": 338}, \"25\": {\"25\": 362}, \"22\": {\"22\": 348}, \"23\": {\"23\": 344}, \"51\": {\"51\": 398}, \"38\": {\"38\": 64}, \"46\": {\"46\": 352}, \"15\": {\"15\": 406}, \"8\": {\"8\": 356}, \"9\": {\"9\": 398}, \"17\": {\"17\": 162}, \"11\": {\"11\": 358}, \"53\": {\"53\": 360}, \"4\": {\"4\": 334}, \"33\": {\"33\": 82}, \"48\": {\"48\": 372}, \"16\": {\"16\": 354}, \"0\": {\"0\": 382}, \"28\": {\"28\": 72}, \"5\": {\"5\": 410}, \"10\": {\"10\": 244}, \"43\": {\"43\": 366, \"29\": 2}, \"56\": {\"56\": 420}, \"41\": {\"41\": 66}, \"44\": {\"44\": 344}, \"2\": {\"2\": 98}, \"3\": {\"3\": 352, \"50\": 4}, \"30\": {\"30\": 300}, \"14\": {\"14\": 64}, \"19\": {\"19\": 398}, \"32\": {\"32\": 86}, \"21\": {\"21\": 314}, \"36\": {\"36\": 162}, \"34\": {\"34\": 60}, \"42\": {\"42\": 102}, \"6\": {\"6\": 230, \"46\": 8, \"30\": 2, \"50\": 2}, \"18\": {\"18\": 186}, \"35\": {\"35\": 96}, \"31\": {\"31\": 78}, \"37\": {\"37\": 80}, \"39\": {\"39\": 72}, \"7\": {\"7\": 74}}, \"2\": {\"25\": {\"25\": 468}, \"43\": {\"43\": 378}, \"10\": {\"10\": 280}, \"18\": {\"18\": 126}, \"16\": {\"16\": 380}, \"15\": {\"15\": 386, \"46\": 2}, \"22\": {\"22\": 346, \"56\": 2}, \"21\": {\"21\": 308}, \"57\": {\"57\": 362}, \"11\": {\"11\": 396}, \"55\": {\"55\": 422}, \"52\": {\"52\": 312}, \"1\": {\"1\": 278, \"45\": 2}, \"20\": {\"20\": 356}, \"7\": {\"7\": 90}, \"5\": {\"5\": 308}, \"31\": {\"31\": 76}, \"9\": {\"9\": 390}, \"19\": {\"19\": 392}, \"17\": {\"17\": 264}, \"4\": {\"4\": 400}, \"54\": {\"54\": 278}, \"40\": {\"40\": 352}, \"53\": {\"53\": 348}, \"45\": {\"45\": 326}, \"8\": {\"8\": 406}, \"12\": {\"12\": 238}, \"39\": {\"39\": 70}, \"13\": {\"13\": 296}, \"27\": {\"27\": 396}, \"30\": {\"30\": 356, \"36\": 2, \"9\": 2}, \"29\": {\"29\": 322}, \"50\": {\"50\": 342}, \"48\": {\"48\": 386}, \"32\": {\"32\": 72}, \"56\": {\"56\": 358, \"28\": 2}, \"51\": {\"51\": 340}, \"36\": {\"36\": 290}, \"3\": {\"3\": 238}, \"44\": {\"44\": 258}, \"47\": {\"47\": 372}, \"23\": {\"23\": 372}, \"28\": {\"28\": 72}, \"24\": {\"24\": 240, \"13\": 2}, \"35\": {\"35\": 86, \"40\": 2}, \"41\": {\"41\": 54}, \"46\": {\"46\": 328}, \"37\": {\"37\": 92}, \"33\": {\"33\": 74, \"40\": 2}, \"2\": {\"2\": 88}, \"0\": {\"0\": 122}, \"49\": {\"49\": 68}, \"6\": {\"6\": 316, \"3\": 2}, \"34\": {\"34\": 72}, \"42\": {\"42\": 94}, \"38\": {\"38\": 52}, \"26\": {\"26\": 68}, \"14\": {\"14\": 60}}}, \"per_domain_accuracy\": {\"5\": {\"accuracy\": 0.9973825415521529, \"source?\": true}, \"3\": {\"accuracy\": 0.9987652627246536, \"source?\": true}, \"4\": {\"accuracy\": 0.9967791625822714, \"source?\": true}, \"1\": {\"accuracy\": 0.9987290289781393, \"source?\": true}, \"2\": {\"accuracy\": 0.9986702127659575, \"source?\": true}}}, \"history\": {\"epoch_indices\": [1, 2, 3, 4, 5, 6, 7, 8, 9, 10, 11, 12], \"train_label_loss\": [0.5633386890655452, 0.03452322328442803, 0.013313204997361903, 0.00832906981996417, 0.005367966643560093, 0.00402032119026756, 0.004970350590724427, 0.002597115992028419, 0.002329273257830714, 0.0019464384741277306, 0.001786273844391626, 0.00187324375488492], \"source_val_label_loss\": [0.07173536149562422, 0.0904753649664515, 0.04298514159834934, 0.07908130905180916, 0.025772993077377793, 0.014600928986060462, 0.11498836022340804, 0.009751033652905588, 0.029691955107248327, 0.009525969215327439, 0.010151889123773097, 0.00958886333864318], \"target_val_label_loss\": [0.07177416578494648, 0.09041492241743075, 0.04298528873460183, 0.07902525756794183, 0.025787455262616277, 0.014606680498742928, 0.11497065207981362, 0.00975156944195832, 0.02969711766846052, 0.009526658804826267, 0.010144373746949396, 0.00958870614967436], \"source_val_acc_label\": [0.9895085293253958, 0.9695400304332737, 0.9911369764275608, 0.976934782028351, 0.993459515737206, 0.9965562348167329, 0.9680984543100456, 0.9980778985023626, 0.9918577644891748, 0.9980245067940948, 0.9980512026482288, 0.9974371980031501], \"target_val_acc_label\": [0.9895085293253958, 0.9695400304332737, 0.9911369764275608, 0.976934782028351, 0.993459515737206, 0.9965562348167329, 0.9680984543100456, 0.9980778985023626, 0.9918577644891748, 0.9980245067940948, 0.9980512026482288, 0.9974371980031501]}, \"dataset_metrics\": {\"source\": {\"train\": {\"n_unique_x\": 175349, \"n_unique_y\": 58, \"n_batch/episode\": 1370}, \"val\": {\"n_unique_x\": 37459, \"n_unique_y\": 58, \"n_batch/episode\": 293}, \"test\": {\"n_unique_x\": 37873, \"n_unique_y\": 58, \"n_batch/episode\": 296}}, \"target\": {\"train\": {\"n_unique_x\": 175349, \"n_unique_y\": 58, \"n_batch/episode\": 1370}, \"val\": {\"n_unique_x\": 37459, \"n_unique_y\": 58, \"n_batch/episode\": 293}, \"test\": {\"n_unique_x\": 37873, \"n_unique_y\": 58, \"n_batch/episode\": 296}}}}'"
      ]
     },
     "execution_count": 20,
     "metadata": {},
     "output_type": "execute_result"
    }
   ],
   "source": [
    "json.dumps(experiment)"
   ]
  }
 ],
 "metadata": {
  "celltoolbar": "Tags",
  "kernelspec": {
   "display_name": "Python 3 (ipykernel)",
   "language": "python",
   "name": "python3"
  },
  "language_info": {
   "codemirror_mode": {
    "name": "ipython",
    "version": 3
   },
   "file_extension": ".py",
   "mimetype": "text/x-python",
   "name": "python",
   "nbconvert_exporter": "python",
   "pygments_lexer": "ipython3",
   "version": "3.8.12"
  },
  "papermill": {
   "default_parameters": {},
   "duration": 252.859546,
   "end_time": "2022-03-26T03:54:16.181738",
   "environment_variables": {},
   "exception": null,
   "input_path": "/root/csc500-main/csc500-notebooks/templates/cnn_template.ipynb",
   "output_path": "trial.ipynb",
   "parameters": {
    "parameters": {
     "BEST_MODEL_PATH": "./best_model.pth",
     "NUM_LOGS_PER_EPOCH": 10,
     "batch_size": 128,
     "criteria_for_best": "target_accuracy",
     "dataset_seed": 154325,
     "device": "cuda",
     "domains_source": [
      1,
      2,
      3,
      4,
      5
     ],
     "domains_target": [
      1,
      2,
      3,
      4,
      5
     ],
     "experiment_name": "cnn_2:cores",
     "labels": [
      "1-10.",
      "1-11.",
      "1-15.",
      "1-16.",
      "1-17.",
      "1-18.",
      "1-19.",
      "10-4.",
      "10-7.",
      "11-1.",
      "11-14.",
      "11-17.",
      "11-20.",
      "11-7.",
      "13-20.",
      "13-8.",
      "14-10.",
      "14-11.",
      "14-14.",
      "14-7.",
      "15-1.",
      "15-20.",
      "16-1.",
      "16-16.",
      "17-10.",
      "17-11.",
      "17-2.",
      "19-1.",
      "19-16.",
      "19-19.",
      "19-20.",
      "19-3.",
      "2-10.",
      "2-11.",
      "2-17.",
      "2-18.",
      "2-20.",
      "2-3.",
      "2-4.",
      "2-5.",
      "2-6.",
      "2-7.",
      "2-8.",
      "3-13.",
      "3-18.",
      "3-3.",
      "4-1.",
      "4-10.",
      "4-11.",
      "4-19.",
      "5-5.",
      "6-15.",
      "7-10.",
      "7-14.",
      "8-18.",
      "8-20.",
      "8-3.",
      "8-8."
     ],
     "lr": 0.0001,
     "n_epoch": 50,
     "normalize_source": false,
     "normalize_target": false,
     "num_examples_per_domain_per_label_source": -1,
     "num_examples_per_domain_per_label_target": -1,
     "patience": 3,
     "pickle_name_source": "cores.stratified_ds.2022A.pkl",
     "pickle_name_target": "cores.stratified_ds.2022A.pkl",
     "seed": 154325,
     "torch_default_dtype": "torch.float32",
     "x_net": [
      {
       "class": "nnReshape",
       "kargs": {
        "shape": [
         -1,
         1,
         2,
         256
        ]
       }
      },
      {
       "class": "Conv2d",
       "kargs": {
        "bias": false,
        "in_channels": 1,
        "kernel_size": [
         1,
         7
        ],
        "out_channels": 256,
        "padding": [
         0,
         3
        ]
       }
      },
      {
       "class": "ReLU",
       "kargs": {
        "inplace": true
       }
      },
      {
       "class": "BatchNorm2d",
       "kargs": {
        "num_features": 256
       }
      },
      {
       "class": "Conv2d",
       "kargs": {
        "bias": true,
        "in_channels": 256,
        "kernel_size": [
         2,
         7
        ],
        "out_channels": 80,
        "padding": [
         0,
         3
        ]
       }
      },
      {
       "class": "ReLU",
       "kargs": {
        "inplace": true
       }
      },
      {
       "class": "BatchNorm2d",
       "kargs": {
        "num_features": 80
       }
      },
      {
       "class": "Flatten",
       "kargs": {}
      },
      {
       "class": "Linear",
       "kargs": {
        "in_features": 20480,
        "out_features": 256
       }
      },
      {
       "class": "ReLU",
       "kargs": {
        "inplace": true
       }
      },
      {
       "class": "BatchNorm1d",
       "kargs": {
        "num_features": 256
       }
      },
      {
       "class": "Linear",
       "kargs": {
        "in_features": 256,
        "out_features": 58
       }
      }
     ]
    }
   },
   "start_time": "2022-03-26T03:50:03.322192",
   "version": "2.3.4"
  }
 },
 "nbformat": 4,
 "nbformat_minor": 5
}