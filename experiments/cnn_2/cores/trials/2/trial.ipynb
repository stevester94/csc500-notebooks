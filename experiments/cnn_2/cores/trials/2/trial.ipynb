{
 "cells": [
  {
   "cell_type": "code",
   "execution_count": 1,
   "id": "2324682e",
   "metadata": {
    "execution": {
     "iopub.execute_input": "2022-03-26T03:36:19.167486Z",
     "iopub.status.busy": "2022-03-26T03:36:19.166615Z",
     "iopub.status.idle": "2022-03-26T03:36:20.461241Z",
     "shell.execute_reply": "2022-03-26T03:36:20.460374Z"
    },
    "papermill": {
     "duration": 1.331549,
     "end_time": "2022-03-26T03:36:20.461429",
     "exception": false,
     "start_time": "2022-03-26T03:36:19.129880",
     "status": "completed"
    },
    "tags": []
   },
   "outputs": [],
   "source": [
    "import os, json, sys, time, random\n",
    "import numpy as np\n",
    "import torch\n",
    "from  easydict import EasyDict\n",
    "from math import floor\n",
    "from easydict import EasyDict\n",
    "\n",
    "from steves_utils.vanilla_train_eval_test_jig import  Vanilla_Train_Eval_Test_Jig\n",
    "\n",
    "from steves_utils.torch_utils import get_dataset_metrics, independent_accuracy_assesment\n",
    "from steves_models.configurable_vanilla import Configurable_Vanilla\n",
    "from steves_utils.torch_sequential_builder import build_sequential\n",
    "from steves_utils.lazy_map import Lazy_Map\n",
    "from steves_utils.sequence_aggregator import Sequence_Aggregator\n",
    "\n",
    "from steves_utils.stratified_dataset.traditional_accessor import Traditional_Accessor_Factory\n",
    "\n",
    "from steves_utils.cnn_do_report import (\n",
    "    get_loss_curve,\n",
    "    get_results_table,\n",
    "    get_parameters_table,\n",
    "    get_domain_accuracies,\n",
    ")\n",
    "\n",
    "from steves_utils.torch_utils import (\n",
    "    confusion_by_domain_over_dataloader,\n",
    "    independent_accuracy_assesment\n",
    ")\n",
    "\n",
    "from steves_utils.utils_v2 import (\n",
    "    per_domain_accuracy_from_confusion,\n",
    "    get_datasets_base_path\n",
    ")\n",
    "\n",
    "# from steves_utils.ptn_do_report import TBD"
   ]
  },
  {
   "cell_type": "code",
   "execution_count": 2,
   "id": "1b29e3fe",
   "metadata": {
    "execution": {
     "iopub.execute_input": "2022-03-26T03:36:20.498431Z",
     "iopub.status.busy": "2022-03-26T03:36:20.498044Z",
     "iopub.status.idle": "2022-03-26T03:36:20.500710Z",
     "shell.execute_reply": "2022-03-26T03:36:20.500341Z"
    },
    "papermill": {
     "duration": 0.02193,
     "end_time": "2022-03-26T03:36:20.500783",
     "exception": false,
     "start_time": "2022-03-26T03:36:20.478853",
     "status": "completed"
    },
    "tags": []
   },
   "outputs": [],
   "source": [
    "required_parameters = {\n",
    "    \"experiment_name\",\n",
    "    \"lr\",\n",
    "    \"device\",\n",
    "    \"dataset_seed\",\n",
    "    \"seed\",\n",
    "    \"labels\",\n",
    "    \"domains_target\",\n",
    "    \"domains_source\",\n",
    "    \"num_examples_per_domain_per_label_source\",\n",
    "    \"num_examples_per_domain_per_label_target\",\n",
    "    \"batch_size\",\n",
    "    \"n_epoch\",\n",
    "    \"patience\",\n",
    "    \"criteria_for_best\",\n",
    "    \"normalize_source\",\n",
    "    \"normalize_target\",\n",
    "    \"x_net\",\n",
    "    \"NUM_LOGS_PER_EPOCH\",\n",
    "    \"BEST_MODEL_PATH\",\n",
    "    \"pickle_name_source\",\n",
    "    \"pickle_name_target\",\n",
    "    \"torch_default_dtype\",\n",
    "}"
   ]
  },
  {
   "cell_type": "code",
   "execution_count": 3,
   "id": "670b5fb8",
   "metadata": {
    "execution": {
     "iopub.execute_input": "2022-03-26T03:36:20.550359Z",
     "iopub.status.busy": "2022-03-26T03:36:20.549469Z",
     "iopub.status.idle": "2022-03-26T03:36:20.557468Z",
     "shell.execute_reply": "2022-03-26T03:36:20.556633Z"
    },
    "papermill": {
     "duration": 0.03732,
     "end_time": "2022-03-26T03:36:20.557638",
     "exception": false,
     "start_time": "2022-03-26T03:36:20.520318",
     "status": "completed"
    },
    "tags": [
     "parameters"
    ]
   },
   "outputs": [],
   "source": [
    "from steves_utils.ORACLE.utils_v2 import (\n",
    "    ALL_SERIAL_NUMBERS,\n",
    "    ALL_DISTANCES_FEET_NARROWED,\n",
    ")\n",
    "\n",
    "standalone_parameters = {}\n",
    "standalone_parameters[\"experiment_name\"] = \"MANUAL CORES CNN\"\n",
    "standalone_parameters[\"lr\"] = 0.0001\n",
    "standalone_parameters[\"device\"] = \"cuda\"\n",
    "\n",
    "standalone_parameters[\"dataset_seed\"] = 1337\n",
    "standalone_parameters[\"seed\"] = 1337\n",
    "standalone_parameters[\"labels\"] = ALL_SERIAL_NUMBERS\n",
    "\n",
    "standalone_parameters[\"domains_source\"] = [8,32,50]\n",
    "standalone_parameters[\"domains_target\"] = [14,20,26,38,44,]\n",
    "\n",
    "standalone_parameters[\"num_examples_per_domain_per_label_source\"]=-1\n",
    "standalone_parameters[\"num_examples_per_domain_per_label_target\"]=-1\n",
    "\n",
    "standalone_parameters[\"pickle_name_source\"] = \"oracle.Run1_framed_2000Examples_stratified_ds.2022A.pkl\"\n",
    "standalone_parameters[\"pickle_name_target\"] = \"oracle.Run2_framed_2000Examples_stratified_ds.2022A.pkl\"\n",
    "\n",
    "standalone_parameters[\"torch_default_dtype\"] = \"torch.float32\" \n",
    "\n",
    "standalone_parameters[\"batch_size\"]=128\n",
    "\n",
    "standalone_parameters[\"n_epoch\"] = 3\n",
    "\n",
    "standalone_parameters[\"patience\"] = 10\n",
    "\n",
    "standalone_parameters[\"criteria_for_best\"] = \"target_accuracy\"\n",
    "standalone_parameters[\"normalize_source\"] = False\n",
    "standalone_parameters[\"normalize_target\"] = False\n",
    "\n",
    "standalone_parameters[\"x_net\"] =     [\n",
    "    {\"class\": \"nnReshape\", \"kargs\": {\"shape\":[-1, 1, 2, 256]}},\n",
    "    {\"class\": \"Conv2d\", \"kargs\": { \"in_channels\":1, \"out_channels\":256, \"kernel_size\":(1,7), \"bias\":False, \"padding\":(0,3), },},\n",
    "    {\"class\": \"ReLU\", \"kargs\": {\"inplace\": True}},\n",
    "    {\"class\": \"BatchNorm2d\", \"kargs\": {\"num_features\":256}},\n",
    "\n",
    "    {\"class\": \"Conv2d\", \"kargs\": { \"in_channels\":256, \"out_channels\":80, \"kernel_size\":(2,7), \"bias\":True, \"padding\":(0,3), },},\n",
    "    {\"class\": \"ReLU\", \"kargs\": {\"inplace\": True}},\n",
    "    {\"class\": \"BatchNorm2d\", \"kargs\": {\"num_features\":80}},\n",
    "    {\"class\": \"Flatten\", \"kargs\": {}},\n",
    "\n",
    "    {\"class\": \"Linear\", \"kargs\": {\"in_features\": 80*256, \"out_features\": 256}}, # 80 units per IQ pair\n",
    "    {\"class\": \"ReLU\", \"kargs\": {\"inplace\": True}},\n",
    "    {\"class\": \"BatchNorm1d\", \"kargs\": {\"num_features\":256}},\n",
    "\n",
    "    {\"class\": \"Linear\", \"kargs\": {\"in_features\": 256, \"out_features\": len(standalone_parameters[\"labels\"])}},\n",
    "]\n",
    "\n",
    "standalone_parameters[\"NUM_LOGS_PER_EPOCH\"] = 10\n",
    "standalone_parameters[\"BEST_MODEL_PATH\"] = \"./best_model.pth\""
   ]
  },
  {
   "cell_type": "code",
   "execution_count": 4,
   "id": "56299203",
   "metadata": {
    "execution": {
     "iopub.execute_input": "2022-03-26T03:36:20.606774Z",
     "iopub.status.busy": "2022-03-26T03:36:20.597858Z",
     "iopub.status.idle": "2022-03-26T03:36:20.609494Z",
     "shell.execute_reply": "2022-03-26T03:36:20.608696Z"
    },
    "papermill": {
     "duration": 0.032936,
     "end_time": "2022-03-26T03:36:20.609647",
     "exception": false,
     "start_time": "2022-03-26T03:36:20.576711",
     "status": "completed"
    },
    "tags": [
     "injected-parameters"
    ]
   },
   "outputs": [],
   "source": [
    "# Parameters\n",
    "parameters = {\n",
    "    \"experiment_name\": \"cnn_2:cores\",\n",
    "    \"device\": \"cuda\",\n",
    "    \"lr\": 0.0001,\n",
    "    \"labels\": [\n",
    "        \"1-10.\",\n",
    "        \"1-11.\",\n",
    "        \"1-15.\",\n",
    "        \"1-16.\",\n",
    "        \"1-17.\",\n",
    "        \"1-18.\",\n",
    "        \"1-19.\",\n",
    "        \"10-4.\",\n",
    "        \"10-7.\",\n",
    "        \"11-1.\",\n",
    "        \"11-14.\",\n",
    "        \"11-17.\",\n",
    "        \"11-20.\",\n",
    "        \"11-7.\",\n",
    "        \"13-20.\",\n",
    "        \"13-8.\",\n",
    "        \"14-10.\",\n",
    "        \"14-11.\",\n",
    "        \"14-14.\",\n",
    "        \"14-7.\",\n",
    "        \"15-1.\",\n",
    "        \"15-20.\",\n",
    "        \"16-1.\",\n",
    "        \"16-16.\",\n",
    "        \"17-10.\",\n",
    "        \"17-11.\",\n",
    "        \"17-2.\",\n",
    "        \"19-1.\",\n",
    "        \"19-16.\",\n",
    "        \"19-19.\",\n",
    "        \"19-20.\",\n",
    "        \"19-3.\",\n",
    "        \"2-10.\",\n",
    "        \"2-11.\",\n",
    "        \"2-17.\",\n",
    "        \"2-18.\",\n",
    "        \"2-20.\",\n",
    "        \"2-3.\",\n",
    "        \"2-4.\",\n",
    "        \"2-5.\",\n",
    "        \"2-6.\",\n",
    "        \"2-7.\",\n",
    "        \"2-8.\",\n",
    "        \"3-13.\",\n",
    "        \"3-18.\",\n",
    "        \"3-3.\",\n",
    "        \"4-1.\",\n",
    "        \"4-10.\",\n",
    "        \"4-11.\",\n",
    "        \"4-19.\",\n",
    "        \"5-5.\",\n",
    "        \"6-15.\",\n",
    "        \"7-10.\",\n",
    "        \"7-14.\",\n",
    "        \"8-18.\",\n",
    "        \"8-20.\",\n",
    "        \"8-3.\",\n",
    "        \"8-8.\",\n",
    "    ],\n",
    "    \"batch_size\": 128,\n",
    "    \"domains_source\": [1, 2, 3, 4, 5],\n",
    "    \"domains_target\": [1, 2, 3, 4, 5],\n",
    "    \"normalize_source\": False,\n",
    "    \"normalize_target\": False,\n",
    "    \"num_examples_per_domain_per_label_source\": -1,\n",
    "    \"num_examples_per_domain_per_label_target\": -1,\n",
    "    \"torch_default_dtype\": \"torch.float32\",\n",
    "    \"n_epoch\": 50,\n",
    "    \"patience\": 3,\n",
    "    \"criteria_for_best\": \"target_accuracy\",\n",
    "    \"x_net\": [\n",
    "        {\"class\": \"nnReshape\", \"kargs\": {\"shape\": [-1, 1, 2, 256]}},\n",
    "        {\n",
    "            \"class\": \"Conv2d\",\n",
    "            \"kargs\": {\n",
    "                \"in_channels\": 1,\n",
    "                \"out_channels\": 256,\n",
    "                \"kernel_size\": [1, 7],\n",
    "                \"bias\": False,\n",
    "                \"padding\": [0, 3],\n",
    "            },\n",
    "        },\n",
    "        {\"class\": \"ReLU\", \"kargs\": {\"inplace\": True}},\n",
    "        {\"class\": \"BatchNorm2d\", \"kargs\": {\"num_features\": 256}},\n",
    "        {\n",
    "            \"class\": \"Conv2d\",\n",
    "            \"kargs\": {\n",
    "                \"in_channels\": 256,\n",
    "                \"out_channels\": 80,\n",
    "                \"kernel_size\": [2, 7],\n",
    "                \"bias\": True,\n",
    "                \"padding\": [0, 3],\n",
    "            },\n",
    "        },\n",
    "        {\"class\": \"ReLU\", \"kargs\": {\"inplace\": True}},\n",
    "        {\"class\": \"BatchNorm2d\", \"kargs\": {\"num_features\": 80}},\n",
    "        {\"class\": \"Flatten\", \"kargs\": {}},\n",
    "        {\"class\": \"Linear\", \"kargs\": {\"in_features\": 20480, \"out_features\": 256}},\n",
    "        {\"class\": \"ReLU\", \"kargs\": {\"inplace\": True}},\n",
    "        {\"class\": \"BatchNorm1d\", \"kargs\": {\"num_features\": 256}},\n",
    "        {\"class\": \"Linear\", \"kargs\": {\"in_features\": 256, \"out_features\": 58}},\n",
    "    ],\n",
    "    \"NUM_LOGS_PER_EPOCH\": 10,\n",
    "    \"BEST_MODEL_PATH\": \"./best_model.pth\",\n",
    "    \"pickle_name_source\": \"cores.stratified_ds.2022A.pkl\",\n",
    "    \"pickle_name_target\": \"cores.stratified_ds.2022A.pkl\",\n",
    "    \"dataset_seed\": 1337,\n",
    "    \"seed\": 1337,\n",
    "}\n"
   ]
  },
  {
   "cell_type": "code",
   "execution_count": 5,
   "id": "759b56ec",
   "metadata": {
    "execution": {
     "iopub.execute_input": "2022-03-26T03:36:20.649122Z",
     "iopub.status.busy": "2022-03-26T03:36:20.648740Z",
     "iopub.status.idle": "2022-03-26T03:36:20.651328Z",
     "shell.execute_reply": "2022-03-26T03:36:20.650960Z"
    },
    "papermill": {
     "duration": 0.022608,
     "end_time": "2022-03-26T03:36:20.651399",
     "exception": false,
     "start_time": "2022-03-26T03:36:20.628791",
     "status": "completed"
    },
    "tags": []
   },
   "outputs": [],
   "source": [
    "# Set this to True if you want to run this template directly\n",
    "STANDALONE = False\n",
    "if STANDALONE:\n",
    "    print(\"parameters not injected, running with standalone_parameters\")\n",
    "    parameters = standalone_parameters\n",
    "\n",
    "if not 'parameters' in locals() and not 'parameters' in globals():\n",
    "    raise Exception(\"Parameter injection failed\")\n",
    "\n",
    "#Use an easy dict for all the parameters\n",
    "p = EasyDict(parameters)\n",
    "\n",
    "supplied_keys = set(p.keys())\n",
    "\n",
    "if  supplied_keys != required_parameters:\n",
    "    print(\"Parameters are incorrect\")\n",
    "    if len(supplied_keys - required_parameters)>0: print(\"Shouldn't have:\", str(supplied_keys - required_parameters))\n",
    "    if len(required_parameters - supplied_keys)>0: print(\"Need to have:\", str(required_parameters - supplied_keys))\n",
    "    raise RuntimeError(\"Parameters are incorrect\")\n",
    "\n"
   ]
  },
  {
   "cell_type": "code",
   "execution_count": 6,
   "id": "d5c66a71",
   "metadata": {
    "execution": {
     "iopub.execute_input": "2022-03-26T03:36:20.689581Z",
     "iopub.status.busy": "2022-03-26T03:36:20.689208Z",
     "iopub.status.idle": "2022-03-26T03:36:20.693142Z",
     "shell.execute_reply": "2022-03-26T03:36:20.692329Z"
    },
    "papermill": {
     "duration": 0.021638,
     "end_time": "2022-03-26T03:36:20.693298",
     "exception": false,
     "start_time": "2022-03-26T03:36:20.671660",
     "status": "completed"
    },
    "tags": []
   },
   "outputs": [],
   "source": [
    "###################################\n",
    "# Set the RNGs and make it all deterministic\n",
    "###################################\n",
    "np.random.seed(p.seed)\n",
    "random.seed(p.seed)\n",
    "torch.manual_seed(p.seed)\n",
    "\n",
    "torch.use_deterministic_algorithms(True) "
   ]
  },
  {
   "cell_type": "code",
   "execution_count": 7,
   "id": "92a65876",
   "metadata": {
    "execution": {
     "iopub.execute_input": "2022-03-26T03:36:20.731032Z",
     "iopub.status.busy": "2022-03-26T03:36:20.730652Z",
     "iopub.status.idle": "2022-03-26T03:36:20.733664Z",
     "shell.execute_reply": "2022-03-26T03:36:20.733111Z"
    },
    "papermill": {
     "duration": 0.020734,
     "end_time": "2022-03-26T03:36:20.733769",
     "exception": false,
     "start_time": "2022-03-26T03:36:20.713035",
     "status": "completed"
    },
    "tags": []
   },
   "outputs": [],
   "source": [
    "torch.set_default_dtype(eval(p.torch_default_dtype))"
   ]
  },
  {
   "cell_type": "code",
   "execution_count": 8,
   "id": "f1a32f01",
   "metadata": {
    "execution": {
     "iopub.execute_input": "2022-03-26T03:36:20.768563Z",
     "iopub.status.busy": "2022-03-26T03:36:20.767955Z",
     "iopub.status.idle": "2022-03-26T03:36:20.808355Z",
     "shell.execute_reply": "2022-03-26T03:36:20.807602Z"
    },
    "papermill": {
     "duration": 0.057642,
     "end_time": "2022-03-26T03:36:20.808532",
     "exception": false,
     "start_time": "2022-03-26T03:36:20.750890",
     "status": "completed"
    },
    "tags": []
   },
   "outputs": [],
   "source": [
    "###################################\n",
    "# Build the network(s)\n",
    "# Note: It's critical to do this AFTER setting the RNG\n",
    "###################################\n",
    "x_net = build_sequential(p.x_net)"
   ]
  },
  {
   "cell_type": "code",
   "execution_count": 9,
   "id": "a276cd83",
   "metadata": {
    "execution": {
     "iopub.execute_input": "2022-03-26T03:36:20.844615Z",
     "iopub.status.busy": "2022-03-26T03:36:20.844250Z",
     "iopub.status.idle": "2022-03-26T03:36:20.846870Z",
     "shell.execute_reply": "2022-03-26T03:36:20.846552Z"
    },
    "papermill": {
     "duration": 0.020226,
     "end_time": "2022-03-26T03:36:20.846940",
     "exception": false,
     "start_time": "2022-03-26T03:36:20.826714",
     "status": "completed"
    },
    "tags": []
   },
   "outputs": [],
   "source": [
    "start_time_secs = time.time()"
   ]
  },
  {
   "cell_type": "code",
   "execution_count": 10,
   "id": "de702e48",
   "metadata": {
    "execution": {
     "iopub.execute_input": "2022-03-26T03:36:20.891360Z",
     "iopub.status.busy": "2022-03-26T03:36:20.890504Z",
     "iopub.status.idle": "2022-03-26T03:36:27.606944Z",
     "shell.execute_reply": "2022-03-26T03:36:27.606213Z"
    },
    "papermill": {
     "duration": 6.742113,
     "end_time": "2022-03-26T03:36:27.607124",
     "exception": false,
     "start_time": "2022-03-26T03:36:20.865011",
     "status": "completed"
    },
    "tags": []
   },
   "outputs": [],
   "source": [
    "def wrap_in_dataloader(p, ds):\n",
    "    return torch.utils.data.DataLoader(\n",
    "        ds,\n",
    "        batch_size=p.batch_size,\n",
    "        shuffle=True,\n",
    "        num_workers=1,\n",
    "        persistent_workers=True,\n",
    "        prefetch_factor=50,\n",
    "        pin_memory=True\n",
    "    )\n",
    "\n",
    "taf_source = Traditional_Accessor_Factory(\n",
    "    labels=p.labels,\n",
    "    domains=p.domains_source,\n",
    "    num_examples_per_domain_per_label=p.num_examples_per_domain_per_label_source,\n",
    "    pickle_path=os.path.join(get_datasets_base_path(), p.pickle_name_source),\n",
    "    seed=p.dataset_seed\n",
    ")\n",
    "train_original_source, val_original_source, test_original_source = \\\n",
    "    taf_source.get_train(), taf_source.get_val(), taf_source.get_test()\n",
    "\n",
    "\n",
    "taf_target = Traditional_Accessor_Factory(\n",
    "    labels=p.labels,\n",
    "    domains=p.domains_target,\n",
    "    num_examples_per_domain_per_label=p.num_examples_per_domain_per_label_source,\n",
    "    pickle_path=os.path.join(get_datasets_base_path(), p.pickle_name_target),\n",
    "    seed=p.dataset_seed\n",
    ")\n",
    "train_original_target, val_original_target, test_original_target = \\\n",
    "    taf_target.get_train(), taf_target.get_val(), taf_target.get_test()\n",
    "\n",
    "\n",
    "# For CNN We only use X and Y. And we only train on the source.\n",
    "# Properly form the data using a transform lambda and Lazy_Map. Finally wrap them in a dataloader\n",
    "\n",
    "transform_lambda = lambda ex: ex[:2] # Strip the tuple to just (x,y)\n",
    "\n",
    "\n",
    "train_processed_source = wrap_in_dataloader(\n",
    "    p,\n",
    "    Lazy_Map(train_original_source, transform_lambda)\n",
    ")\n",
    "val_processed_source = wrap_in_dataloader(\n",
    "    p,\n",
    "    Lazy_Map(val_original_source, transform_lambda)\n",
    ")\n",
    "test_processed_source = wrap_in_dataloader(\n",
    "    p,\n",
    "    Lazy_Map(test_original_source, transform_lambda)\n",
    ")\n",
    "\n",
    "train_processed_target = wrap_in_dataloader(\n",
    "    p,\n",
    "    Lazy_Map(train_original_target, transform_lambda)\n",
    ")\n",
    "val_processed_target = wrap_in_dataloader(\n",
    "    p,\n",
    "    Lazy_Map(val_original_target, transform_lambda)\n",
    ")\n",
    "test_processed_target  = wrap_in_dataloader(\n",
    "    p,\n",
    "    Lazy_Map(test_original_target, transform_lambda)\n",
    ")\n",
    "\n",
    "\n",
    "\n",
    "datasets = EasyDict({\n",
    "    \"source\": {\n",
    "        \"original\": {\"train\":train_original_source, \"val\":val_original_source, \"test\":test_original_source},\n",
    "        \"processed\": {\"train\":train_processed_source, \"val\":val_processed_source, \"test\":test_processed_source}\n",
    "    },\n",
    "    \"target\": {\n",
    "        \"original\": {\"train\":train_original_target, \"val\":val_original_target, \"test\":test_original_target},\n",
    "        \"processed\": {\"train\":train_processed_target, \"val\":val_processed_target, \"test\":test_processed_target}\n",
    "    },\n",
    "})"
   ]
  },
  {
   "cell_type": "code",
   "execution_count": 11,
   "id": "a11b26bd",
   "metadata": {
    "execution": {
     "iopub.execute_input": "2022-03-26T03:36:27.690508Z",
     "iopub.status.busy": "2022-03-26T03:36:27.689657Z",
     "iopub.status.idle": "2022-03-26T03:36:32.968702Z",
     "shell.execute_reply": "2022-03-26T03:36:32.969388Z"
    },
    "papermill": {
     "duration": 5.343286,
     "end_time": "2022-03-26T03:36:32.969598",
     "exception": false,
     "start_time": "2022-03-26T03:36:27.626312",
     "status": "completed"
    },
    "tags": []
   },
   "outputs": [
    {
     "data": {
      "text/plain": [
       "torch.float32"
      ]
     },
     "execution_count": 11,
     "metadata": {},
     "output_type": "execute_result"
    }
   ],
   "source": [
    "ep = next(iter(test_processed_target))\n",
    "ep[0].dtype"
   ]
  },
  {
   "cell_type": "code",
   "execution_count": 12,
   "id": "19425fad",
   "metadata": {
    "execution": {
     "iopub.execute_input": "2022-03-26T03:36:33.014705Z",
     "iopub.status.busy": "2022-03-26T03:36:33.014311Z",
     "iopub.status.idle": "2022-03-26T03:36:33.058408Z",
     "shell.execute_reply": "2022-03-26T03:36:33.059069Z"
    },
    "papermill": {
     "duration": 0.066708,
     "end_time": "2022-03-26T03:36:33.059310",
     "exception": false,
     "start_time": "2022-03-26T03:36:32.992602",
     "status": "completed"
    },
    "tags": []
   },
   "outputs": [],
   "source": [
    "model = Configurable_Vanilla(\n",
    "    x_net=x_net,\n",
    "    label_loss_object=torch.nn.NLLLoss(),\n",
    "    learning_rate=p.lr\n",
    ")"
   ]
  },
  {
   "cell_type": "code",
   "execution_count": 13,
   "id": "7f6d4f2c",
   "metadata": {
    "execution": {
     "iopub.execute_input": "2022-03-26T03:36:33.099665Z",
     "iopub.status.busy": "2022-03-26T03:36:33.099231Z",
     "iopub.status.idle": "2022-03-26T03:38:45.015884Z",
     "shell.execute_reply": "2022-03-26T03:38:45.015166Z"
    },
    "papermill": {
     "duration": 131.936896,
     "end_time": "2022-03-26T03:38:45.016037",
     "exception": false,
     "start_time": "2022-03-26T03:36:33.079141",
     "status": "completed"
    },
    "tags": []
   },
   "outputs": [
    {
     "name": "stdout",
     "output_type": "stream",
     "text": [
      "epoch: 1, [batch: 1 / 1370], examples_per_second: 876.7136, train_label_loss: 3.9994, \n"
     ]
    },
    {
     "name": "stdout",
     "output_type": "stream",
     "text": [
      "epoch: 1, [batch: 137 / 1370], examples_per_second: 11658.6542, train_label_loss: 1.7885, \n"
     ]
    },
    {
     "name": "stdout",
     "output_type": "stream",
     "text": [
      "epoch: 1, [batch: 274 / 1370], examples_per_second: 11735.4918, train_label_loss: 0.7830, \n"
     ]
    },
    {
     "name": "stdout",
     "output_type": "stream",
     "text": [
      "epoch: 1, [batch: 411 / 1370], examples_per_second: 11711.4912, train_label_loss: 0.4332, \n"
     ]
    },
    {
     "name": "stdout",
     "output_type": "stream",
     "text": [
      "epoch: 1, [batch: 548 / 1370], examples_per_second: 11745.3830, train_label_loss: 0.2788, \n"
     ]
    },
    {
     "name": "stdout",
     "output_type": "stream",
     "text": [
      "epoch: 1, [batch: 685 / 1370], examples_per_second: 11651.0678, train_label_loss: 0.2197, \n"
     ]
    },
    {
     "name": "stdout",
     "output_type": "stream",
     "text": [
      "epoch: 1, [batch: 822 / 1370], examples_per_second: 11697.3879, train_label_loss: 0.1016, \n"
     ]
    },
    {
     "name": "stdout",
     "output_type": "stream",
     "text": [
      "epoch: 1, [batch: 959 / 1370], examples_per_second: 11534.1212, train_label_loss: 0.0844, \n"
     ]
    },
    {
     "name": "stdout",
     "output_type": "stream",
     "text": [
      "epoch: 1, [batch: 1096 / 1370], examples_per_second: 11739.9350, train_label_loss: 0.1118, \n"
     ]
    },
    {
     "name": "stdout",
     "output_type": "stream",
     "text": [
      "epoch: 1, [batch: 1233 / 1370], examples_per_second: 11625.7953, train_label_loss: 0.0853, \n"
     ]
    },
    {
     "name": "stdout",
     "output_type": "stream",
     "text": [
      "=============================================================\n",
      "epoch: 1, source_val_acc_label: 0.9892, source_val_label_loss: 0.0664, target_val_acc_label: 0.9892, target_val_label_loss: 0.0664, \n",
      "=============================================================\n"
     ]
    },
    {
     "name": "stdout",
     "output_type": "stream",
     "text": [
      "New best\n",
      "epoch: 2, [batch: 1 / 1370], examples_per_second: 60.1387, train_label_loss: 0.0655, \n"
     ]
    },
    {
     "name": "stdout",
     "output_type": "stream",
     "text": [
      "epoch: 2, [batch: 137 / 1370], examples_per_second: 12449.9851, train_label_loss: 0.0425, \n"
     ]
    },
    {
     "name": "stdout",
     "output_type": "stream",
     "text": [
      "epoch: 2, [batch: 274 / 1370], examples_per_second: 12433.0461, train_label_loss: 0.0279, \n"
     ]
    },
    {
     "name": "stdout",
     "output_type": "stream",
     "text": [
      "epoch: 2, [batch: 411 / 1370], examples_per_second: 12077.0981, train_label_loss: 0.0496, \n"
     ]
    },
    {
     "name": "stdout",
     "output_type": "stream",
     "text": [
      "epoch: 2, [batch: 548 / 1370], examples_per_second: 12248.5413, train_label_loss: 0.0313, \n"
     ]
    },
    {
     "name": "stdout",
     "output_type": "stream",
     "text": [
      "epoch: 2, [batch: 685 / 1370], examples_per_second: 12166.3981, train_label_loss: 0.0187, \n"
     ]
    },
    {
     "name": "stdout",
     "output_type": "stream",
     "text": [
      "epoch: 2, [batch: 822 / 1370], examples_per_second: 12126.9848, train_label_loss: 0.0360, \n"
     ]
    },
    {
     "name": "stdout",
     "output_type": "stream",
     "text": [
      "epoch: 2, [batch: 959 / 1370], examples_per_second: 12361.7525, train_label_loss: 0.0435, \n"
     ]
    },
    {
     "name": "stdout",
     "output_type": "stream",
     "text": [
      "epoch: 2, [batch: 1096 / 1370], examples_per_second: 10506.8069, train_label_loss: 0.0459, \n"
     ]
    },
    {
     "name": "stdout",
     "output_type": "stream",
     "text": [
      "epoch: 2, [batch: 1233 / 1370], examples_per_second: 10618.3716, train_label_loss: 0.0210, \n"
     ]
    },
    {
     "name": "stdout",
     "output_type": "stream",
     "text": [
      "=============================================================\n",
      "epoch: 2, source_val_acc_label: 0.9951, source_val_label_loss: 0.0311, target_val_acc_label: 0.9951, target_val_label_loss: 0.0310, \n",
      "=============================================================\n"
     ]
    },
    {
     "name": "stdout",
     "output_type": "stream",
     "text": [
      "New best\n",
      "epoch: 3, [batch: 1 / 1370], examples_per_second: 57.8875, train_label_loss: 0.0218, \n"
     ]
    },
    {
     "name": "stdout",
     "output_type": "stream",
     "text": [
      "epoch: 3, [batch: 137 / 1370], examples_per_second: 10638.3331, train_label_loss: 0.0092, \n"
     ]
    },
    {
     "name": "stdout",
     "output_type": "stream",
     "text": [
      "epoch: 3, [batch: 274 / 1370], examples_per_second: 10648.5533, train_label_loss: 0.0327, \n"
     ]
    },
    {
     "name": "stdout",
     "output_type": "stream",
     "text": [
      "epoch: 3, [batch: 411 / 1370], examples_per_second: 10536.4218, train_label_loss: 0.0291, \n"
     ]
    },
    {
     "name": "stdout",
     "output_type": "stream",
     "text": [
      "epoch: 3, [batch: 548 / 1370], examples_per_second: 10600.3350, train_label_loss: 0.0097, \n"
     ]
    },
    {
     "name": "stdout",
     "output_type": "stream",
     "text": [
      "epoch: 3, [batch: 685 / 1370], examples_per_second: 10592.2762, train_label_loss: 0.0054, \n"
     ]
    },
    {
     "name": "stdout",
     "output_type": "stream",
     "text": [
      "epoch: 3, [batch: 822 / 1370], examples_per_second: 10641.8913, train_label_loss: 0.0147, \n"
     ]
    },
    {
     "name": "stdout",
     "output_type": "stream",
     "text": [
      "epoch: 3, [batch: 959 / 1370], examples_per_second: 10616.1799, train_label_loss: 0.0095, \n"
     ]
    },
    {
     "name": "stdout",
     "output_type": "stream",
     "text": [
      "epoch: 3, [batch: 1096 / 1370], examples_per_second: 10590.0221, train_label_loss: 0.0107, \n"
     ]
    },
    {
     "name": "stdout",
     "output_type": "stream",
     "text": [
      "epoch: 3, [batch: 1233 / 1370], examples_per_second: 10583.8124, train_label_loss: 0.0390, \n"
     ]
    },
    {
     "name": "stdout",
     "output_type": "stream",
     "text": [
      "=============================================================\n",
      "epoch: 3, source_val_acc_label: 0.9965, source_val_label_loss: 0.0198, target_val_acc_label: 0.9965, target_val_label_loss: 0.0196, \n",
      "=============================================================\n"
     ]
    },
    {
     "name": "stdout",
     "output_type": "stream",
     "text": [
      "New best\n",
      "epoch: 4, [batch: 1 / 1370], examples_per_second: 57.1761, train_label_loss: 0.0079, \n"
     ]
    },
    {
     "name": "stdout",
     "output_type": "stream",
     "text": [
      "epoch: 4, [batch: 137 / 1370], examples_per_second: 10526.2432, train_label_loss: 0.0048, \n"
     ]
    },
    {
     "name": "stdout",
     "output_type": "stream",
     "text": [
      "epoch: 4, [batch: 274 / 1370], examples_per_second: 10572.8507, train_label_loss: 0.0026, \n"
     ]
    },
    {
     "name": "stdout",
     "output_type": "stream",
     "text": [
      "epoch: 4, [batch: 411 / 1370], examples_per_second: 10636.5650, train_label_loss: 0.0154, \n"
     ]
    },
    {
     "name": "stdout",
     "output_type": "stream",
     "text": [
      "epoch: 4, [batch: 548 / 1370], examples_per_second: 10662.8514, train_label_loss: 0.0128, \n"
     ]
    },
    {
     "name": "stdout",
     "output_type": "stream",
     "text": [
      "epoch: 4, [batch: 685 / 1370], examples_per_second: 10674.4189, train_label_loss: 0.0046, \n"
     ]
    },
    {
     "name": "stdout",
     "output_type": "stream",
     "text": [
      "epoch: 4, [batch: 822 / 1370], examples_per_second: 10658.2284, train_label_loss: 0.0272, \n"
     ]
    },
    {
     "name": "stdout",
     "output_type": "stream",
     "text": [
      "epoch: 4, [batch: 959 / 1370], examples_per_second: 10793.0600, train_label_loss: 0.0077, \n"
     ]
    },
    {
     "name": "stdout",
     "output_type": "stream",
     "text": [
      "epoch: 4, [batch: 1096 / 1370], examples_per_second: 10638.0680, train_label_loss: 0.0050, \n"
     ]
    },
    {
     "name": "stdout",
     "output_type": "stream",
     "text": [
      "epoch: 4, [batch: 1233 / 1370], examples_per_second: 10657.7836, train_label_loss: 0.0039, \n"
     ]
    },
    {
     "name": "stdout",
     "output_type": "stream",
     "text": [
      "=============================================================\n",
      "epoch: 4, source_val_acc_label: 0.9471, source_val_label_loss: 0.1777, target_val_acc_label: 0.9471, target_val_label_loss: 0.1776, \n",
      "=============================================================\n"
     ]
    },
    {
     "name": "stdout",
     "output_type": "stream",
     "text": [
      "epoch: 5, [batch: 1 / 1370], examples_per_second: 59.0282, train_label_loss: 0.0050, \n"
     ]
    },
    {
     "name": "stdout",
     "output_type": "stream",
     "text": [
      "epoch: 5, [batch: 137 / 1370], examples_per_second: 10606.2332, train_label_loss: 0.0011, \n"
     ]
    },
    {
     "name": "stdout",
     "output_type": "stream",
     "text": [
      "epoch: 5, [batch: 274 / 1370], examples_per_second: 10701.8895, train_label_loss: 0.0034, \n"
     ]
    },
    {
     "name": "stdout",
     "output_type": "stream",
     "text": [
      "epoch: 5, [batch: 411 / 1370], examples_per_second: 10713.8868, train_label_loss: 0.0111, \n"
     ]
    },
    {
     "name": "stdout",
     "output_type": "stream",
     "text": [
      "epoch: 5, [batch: 548 / 1370], examples_per_second: 10622.5689, train_label_loss: 0.0045, \n"
     ]
    },
    {
     "name": "stdout",
     "output_type": "stream",
     "text": [
      "epoch: 5, [batch: 685 / 1370], examples_per_second: 10700.8572, train_label_loss: 0.0032, \n"
     ]
    },
    {
     "name": "stdout",
     "output_type": "stream",
     "text": [
      "epoch: 5, [batch: 822 / 1370], examples_per_second: 10690.1755, train_label_loss: 0.0249, \n"
     ]
    },
    {
     "name": "stdout",
     "output_type": "stream",
     "text": [
      "epoch: 5, [batch: 959 / 1370], examples_per_second: 10667.8529, train_label_loss: 0.0014, \n"
     ]
    },
    {
     "name": "stdout",
     "output_type": "stream",
     "text": [
      "epoch: 5, [batch: 1096 / 1370], examples_per_second: 10684.6004, train_label_loss: 0.0022, \n"
     ]
    },
    {
     "name": "stdout",
     "output_type": "stream",
     "text": [
      "epoch: 5, [batch: 1233 / 1370], examples_per_second: 10678.9103, train_label_loss: 0.0093, \n"
     ]
    },
    {
     "name": "stdout",
     "output_type": "stream",
     "text": [
      "=============================================================\n",
      "epoch: 5, source_val_acc_label: 0.9964, source_val_label_loss: 0.0135, target_val_acc_label: 0.9964, target_val_label_loss: 0.0137, \n",
      "=============================================================\n"
     ]
    },
    {
     "name": "stdout",
     "output_type": "stream",
     "text": [
      "epoch: 6, [batch: 1 / 1370], examples_per_second: 58.9415, train_label_loss: 0.0014, \n"
     ]
    },
    {
     "name": "stdout",
     "output_type": "stream",
     "text": [
      "epoch: 6, [batch: 137 / 1370], examples_per_second: 10656.3190, train_label_loss: 0.0040, \n"
     ]
    },
    {
     "name": "stdout",
     "output_type": "stream",
     "text": [
      "epoch: 6, [batch: 274 / 1370], examples_per_second: 10719.8830, train_label_loss: 0.0036, \n"
     ]
    },
    {
     "name": "stdout",
     "output_type": "stream",
     "text": [
      "epoch: 6, [batch: 411 / 1370], examples_per_second: 10598.7082, train_label_loss: 0.0007, \n"
     ]
    },
    {
     "name": "stdout",
     "output_type": "stream",
     "text": [
      "epoch: 6, [batch: 548 / 1370], examples_per_second: 10646.9903, train_label_loss: 0.0016, \n"
     ]
    },
    {
     "name": "stdout",
     "output_type": "stream",
     "text": [
      "epoch: 6, [batch: 685 / 1370], examples_per_second: 10656.2024, train_label_loss: 0.0070, \n"
     ]
    },
    {
     "name": "stdout",
     "output_type": "stream",
     "text": [
      "epoch: 6, [batch: 822 / 1370], examples_per_second: 10644.9748, train_label_loss: 0.0009, \n"
     ]
    },
    {
     "name": "stdout",
     "output_type": "stream",
     "text": [
      "epoch: 6, [batch: 959 / 1370], examples_per_second: 10626.4625, train_label_loss: 0.0055, \n"
     ]
    },
    {
     "name": "stdout",
     "output_type": "stream",
     "text": [
      "epoch: 6, [batch: 1096 / 1370], examples_per_second: 10665.4119, train_label_loss: 0.0023, \n"
     ]
    },
    {
     "name": "stdout",
     "output_type": "stream",
     "text": [
      "epoch: 6, [batch: 1233 / 1370], examples_per_second: 10651.0992, train_label_loss: 0.0017, \n"
     ]
    },
    {
     "name": "stdout",
     "output_type": "stream",
     "text": [
      "=============================================================\n",
      "epoch: 6, source_val_acc_label: 0.9850, source_val_label_loss: 0.0539, target_val_acc_label: 0.9850, target_val_label_loss: 0.0539, \n",
      "=============================================================\n"
     ]
    },
    {
     "name": "stdout",
     "output_type": "stream",
     "text": [
      "epoch: 7, [batch: 1 / 1370], examples_per_second: 57.5282, train_label_loss: 0.0057, \n"
     ]
    },
    {
     "name": "stdout",
     "output_type": "stream",
     "text": [
      "epoch: 7, [batch: 137 / 1370], examples_per_second: 10559.8940, train_label_loss: 0.0171, \n"
     ]
    },
    {
     "name": "stdout",
     "output_type": "stream",
     "text": [
      "epoch: 7, [batch: 274 / 1370], examples_per_second: 10677.1198, train_label_loss: 0.0042, \n"
     ]
    },
    {
     "name": "stdout",
     "output_type": "stream",
     "text": [
      "epoch: 7, [batch: 411 / 1370], examples_per_second: 10639.4068, train_label_loss: 0.0005, \n"
     ]
    },
    {
     "name": "stdout",
     "output_type": "stream",
     "text": [
      "epoch: 7, [batch: 548 / 1370], examples_per_second: 10510.8248, train_label_loss: 0.0012, \n"
     ]
    },
    {
     "name": "stdout",
     "output_type": "stream",
     "text": [
      "epoch: 7, [batch: 685 / 1370], examples_per_second: 10691.7823, train_label_loss: 0.0007, \n"
     ]
    },
    {
     "name": "stdout",
     "output_type": "stream",
     "text": [
      "epoch: 7, [batch: 822 / 1370], examples_per_second: 10610.9420, train_label_loss: 0.0006, \n"
     ]
    },
    {
     "name": "stdout",
     "output_type": "stream",
     "text": [
      "epoch: 7, [batch: 959 / 1370], examples_per_second: 10572.0893, train_label_loss: 0.0006, \n"
     ]
    },
    {
     "name": "stdout",
     "output_type": "stream",
     "text": [
      "epoch: 7, [batch: 1096 / 1370], examples_per_second: 10609.8797, train_label_loss: 0.0008, \n"
     ]
    },
    {
     "name": "stdout",
     "output_type": "stream",
     "text": [
      "epoch: 7, [batch: 1233 / 1370], examples_per_second: 10611.8269, train_label_loss: 0.0006, \n"
     ]
    },
    {
     "name": "stdout",
     "output_type": "stream",
     "text": [
      "=============================================================\n",
      "epoch: 7, source_val_acc_label: 0.9895, source_val_label_loss: 0.0339, target_val_acc_label: 0.9895, target_val_label_loss: 0.0339, \n",
      "=============================================================\n"
     ]
    },
    {
     "name": "stdout",
     "output_type": "stream",
     "text": [
      "Patience (3) exhausted\n"
     ]
    }
   ],
   "source": [
    "jig = Vanilla_Train_Eval_Test_Jig(\n",
    "    model=model,\n",
    "    path_to_best_model=p.BEST_MODEL_PATH,\n",
    "    device=p.device,\n",
    "    label_loss_object=torch.nn.NLLLoss(),\n",
    ")\n",
    "\n",
    "jig.train(\n",
    "    train_iterable=datasets.source.processed.train,\n",
    "    source_val_iterable=datasets.source.processed.val,\n",
    "    target_val_iterable=datasets.target.processed.val,\n",
    "    patience=p.patience,\n",
    "    num_epochs=p.n_epoch,\n",
    "    num_logs_per_epoch=p.NUM_LOGS_PER_EPOCH,\n",
    "    criteria_for_best=p.criteria_for_best\n",
    ")"
   ]
  },
  {
   "cell_type": "code",
   "execution_count": 14,
   "id": "4bc2ac17",
   "metadata": {
    "execution": {
     "iopub.execute_input": "2022-03-26T03:38:45.099744Z",
     "iopub.status.busy": "2022-03-26T03:38:45.099330Z",
     "iopub.status.idle": "2022-03-26T03:38:45.102988Z",
     "shell.execute_reply": "2022-03-26T03:38:45.102143Z"
    },
    "papermill": {
     "duration": 0.04586,
     "end_time": "2022-03-26T03:38:45.103169",
     "exception": false,
     "start_time": "2022-03-26T03:38:45.057309",
     "status": "completed"
    },
    "tags": []
   },
   "outputs": [],
   "source": [
    "total_experiment_time_secs = time.time() - start_time_secs"
   ]
  },
  {
   "cell_type": "code",
   "execution_count": 15,
   "id": "cae88f23",
   "metadata": {
    "execution": {
     "iopub.execute_input": "2022-03-26T03:38:45.194820Z",
     "iopub.status.busy": "2022-03-26T03:38:45.193874Z",
     "iopub.status.idle": "2022-03-26T03:39:07.719935Z",
     "shell.execute_reply": "2022-03-26T03:39:07.720623Z"
    },
    "papermill": {
     "duration": 22.576575,
     "end_time": "2022-03-26T03:39:07.720852",
     "exception": false,
     "start_time": "2022-03-26T03:38:45.144277",
     "status": "completed"
    },
    "tags": []
   },
   "outputs": [],
   "source": [
    "source_test_label_accuracy, source_test_label_loss = jig.test(datasets.source.processed.test)\n",
    "target_test_label_accuracy, target_test_label_loss = jig.test(datasets.target.processed.test)\n",
    "\n",
    "source_val_label_accuracy, source_val_label_loss = jig.test(datasets.source.processed.val)\n",
    "target_val_label_accuracy, target_val_label_loss = jig.test(datasets.target.processed.val)\n",
    "\n",
    "history = jig.get_history()\n",
    "\n",
    "total_epochs_trained = len(history[\"epoch_indices\"])\n",
    "\n",
    "val_dl = wrap_in_dataloader(p, Sequence_Aggregator((datasets.source.original.val, datasets.target.original.val)))\n",
    "\n",
    "confusion = confusion_by_domain_over_dataloader(model, p.device, val_dl, forward_uses_domain=False)\n",
    "per_domain_accuracy = per_domain_accuracy_from_confusion(confusion)\n",
    "\n",
    "# Add a key to per_domain_accuracy for if it was a source domain\n",
    "for domain, accuracy in per_domain_accuracy.items():\n",
    "    per_domain_accuracy[domain] = {\n",
    "        \"accuracy\": accuracy,\n",
    "        \"source?\": domain in p.domains_source\n",
    "    }\n",
    "\n",
    "# Do an independent accuracy assesment JUST TO BE SURE!\n",
    "# _source_test_label_accuracy = independent_accuracy_assesment(model, datasets.source.processed.test, p.device)\n",
    "# _target_test_label_accuracy = independent_accuracy_assesment(model, datasets.target.processed.test, p.device)\n",
    "# _source_val_label_accuracy = independent_accuracy_assesment(model, datasets.source.processed.val, p.device)\n",
    "# _target_val_label_accuracy = independent_accuracy_assesment(model, datasets.target.processed.val, p.device)\n",
    "\n",
    "# assert(_source_test_label_accuracy == source_test_label_accuracy)\n",
    "# assert(_target_test_label_accuracy == target_test_label_accuracy)\n",
    "# assert(_source_val_label_accuracy == source_val_label_accuracy)\n",
    "# assert(_target_val_label_accuracy == target_val_label_accuracy)\n",
    "\n",
    "###################################\n",
    "# Write out the results\n",
    "###################################\n",
    "\n",
    "experiment = {\n",
    "    \"experiment_name\": p.experiment_name,\n",
    "    \"parameters\": p,\n",
    "    \"results\": {\n",
    "        \"source_test_label_accuracy\": source_test_label_accuracy,\n",
    "        \"source_test_label_loss\": source_test_label_loss,\n",
    "        \"target_test_label_accuracy\": target_test_label_accuracy,\n",
    "        \"target_test_label_loss\": target_test_label_loss,\n",
    "        \"source_val_label_accuracy\": source_val_label_accuracy,\n",
    "        \"source_val_label_loss\": source_val_label_loss,\n",
    "        \"target_val_label_accuracy\": target_val_label_accuracy,\n",
    "        \"target_val_label_loss\": target_val_label_loss,\n",
    "        \"total_epochs_trained\": total_epochs_trained,\n",
    "        \"total_experiment_time_secs\": total_experiment_time_secs,\n",
    "        \"confusion\": confusion,\n",
    "        \"per_domain_accuracy\": per_domain_accuracy,\n",
    "    },\n",
    "    \"history\": history,\n",
    "    \"dataset_metrics\": get_dataset_metrics(datasets, \"cnn\"),\n",
    "}"
   ]
  },
  {
   "cell_type": "code",
   "execution_count": 16,
   "id": "74c318cf",
   "metadata": {
    "execution": {
     "iopub.execute_input": "2022-03-26T03:39:07.853912Z",
     "iopub.status.busy": "2022-03-26T03:39:07.852505Z",
     "iopub.status.idle": "2022-03-26T03:39:08.056478Z",
     "shell.execute_reply": "2022-03-26T03:39:08.055648Z"
    },
    "papermill": {
     "duration": 0.292849,
     "end_time": "2022-03-26T03:39:08.056647",
     "exception": false,
     "start_time": "2022-03-26T03:39:07.763798",
     "status": "completed"
    },
    "tags": []
   },
   "outputs": [
    {
     "data": {
      "text/plain": [
       "<AxesSubplot:title={'center':'Source Train Label Loss vs Source Val Label Loss'}, xlabel='Epoch'>"
      ]
     },
     "execution_count": 16,
     "metadata": {},
     "output_type": "execute_result"
    },
    {
     "data": {
      "image/png": "[encoded data removed]",
      "text/plain": [
       "<Figure size 1080x504 with 1 Axes>"
      ]
     },
     "metadata": {
      "needs_background": "light"
     },
     "output_type": "display_data"
    }
   ],
   "source": [
    "get_loss_curve(experiment)"
   ]
  },
  {
   "cell_type": "code",
   "execution_count": 17,
   "id": "59376601",
   "metadata": {
    "execution": {
     "iopub.execute_input": "2022-03-26T03:39:08.158396Z",
     "iopub.status.busy": "2022-03-26T03:39:08.151607Z",
     "iopub.status.idle": "2022-03-26T03:39:08.465648Z",
     "shell.execute_reply": "2022-03-26T03:39:08.465956Z"
    },
    "papermill": {
     "duration": 0.366011,
     "end_time": "2022-03-26T03:39:08.466077",
     "exception": false,
     "start_time": "2022-03-26T03:39:08.100066",
     "status": "completed"
    },
    "tags": []
   },
   "outputs": [
    {
     "data": {
      "text/plain": [
       "<AxesSubplot:title={'center':'Results'}>"
      ]
     },
     "execution_count": 17,
     "metadata": {},
     "output_type": "execute_result"
    },
    {
     "data": {
      "image/png": "[encoded data removed]",
      "text/plain": [
       "<Figure size 1080x504 with 1 Axes>"
      ]
     },
     "metadata": {
      "needs_background": "light"
     },
     "output_type": "display_data"
    }
   ],
   "source": [
    "get_results_table(experiment)"
   ]
  },
  {
   "cell_type": "code",
   "execution_count": 18,
   "id": "e80c5c98",
   "metadata": {
    "execution": {
     "iopub.execute_input": "2022-03-26T03:39:08.570136Z",
     "iopub.status.busy": "2022-03-26T03:39:08.562603Z",
     "iopub.status.idle": "2022-03-26T03:39:08.726604Z",
     "shell.execute_reply": "2022-03-26T03:39:08.725778Z"
    },
    "papermill": {
     "duration": 0.221488,
     "end_time": "2022-03-26T03:39:08.726781",
     "exception": false,
     "start_time": "2022-03-26T03:39:08.505293",
     "status": "completed"
    },
    "tags": []
   },
   "outputs": [
    {
     "data": {
      "text/plain": [
       "<AxesSubplot:title={'center':'Per Domain Accuracy'}, xlabel='domain'>"
      ]
     },
     "execution_count": 18,
     "metadata": {},
     "output_type": "execute_result"
    },
    {
     "data": {
      "image/png": "[encoded data removed]",
      "text/plain": [
       "<Figure size 1080x504 with 1 Axes>"
      ]
     },
     "metadata": {
      "needs_background": "light"
     },
     "output_type": "display_data"
    }
   ],
   "source": [
    "get_domain_accuracies(experiment)"
   ]
  },
  {
   "cell_type": "code",
   "execution_count": 19,
   "id": "086fdd10",
   "metadata": {
    "execution": {
     "iopub.execute_input": "2022-03-26T03:39:08.820450Z",
     "iopub.status.busy": "2022-03-26T03:39:08.819797Z",
     "iopub.status.idle": "2022-03-26T03:39:08.823138Z",
     "shell.execute_reply": "2022-03-26T03:39:08.823668Z"
    },
    "papermill": {
     "duration": 0.04982,
     "end_time": "2022-03-26T03:39:08.823823",
     "exception": false,
     "start_time": "2022-03-26T03:39:08.774003",
     "status": "completed"
    },
    "tags": []
   },
   "outputs": [
    {
     "name": "stdout",
     "output_type": "stream",
     "text": [
      "Source Test Label Accuracy: 0.9968579198901593 Target Test Label Accuracy: 0.9968579198901593\n",
      "Source Val Label Accuracy: 0.9964761472543314 Target Val Label Accuracy: 0.9964761472543314\n"
     ]
    }
   ],
   "source": [
    "print(\"Source Test Label Accuracy:\", experiment[\"results\"][\"source_test_label_accuracy\"], \"Target Test Label Accuracy:\", experiment[\"results\"][\"target_test_label_accuracy\"])\n",
    "print(\"Source Val Label Accuracy:\", experiment[\"results\"][\"source_val_label_accuracy\"], \"Target Val Label Accuracy:\", experiment[\"results\"][\"target_val_label_accuracy\"])"
   ]
  },
  {
   "cell_type": "code",
   "execution_count": 20,
   "id": "9f450536",
   "metadata": {
    "execution": {
     "iopub.execute_input": "2022-03-26T03:39:08.916719Z",
     "iopub.status.busy": "2022-03-26T03:39:08.916344Z",
     "iopub.status.idle": "2022-03-26T03:39:08.920693Z",
     "shell.execute_reply": "2022-03-26T03:39:08.920997Z"
    },
    "papermill": {
     "duration": 0.050335,
     "end_time": "2022-03-26T03:39:08.921101",
     "exception": false,
     "start_time": "2022-03-26T03:39:08.870766",
     "status": "completed"
    },
    "tags": [
     "experiment_json"
    ]
   },
   "outputs": [
    {
     "data": {
      "text/plain": [
       "'{\"experiment_name\": \"cnn_2:cores\", \"parameters\": {\"experiment_name\": \"cnn_2:cores\", \"device\": \"cuda\", \"lr\": 0.0001, \"labels\": [\"1-10.\", \"1-11.\", \"1-15.\", \"1-16.\", \"1-17.\", \"1-18.\", \"1-19.\", \"10-4.\", \"10-7.\", \"11-1.\", \"11-14.\", \"11-17.\", \"11-20.\", \"11-7.\", \"13-20.\", \"13-8.\", \"14-10.\", \"14-11.\", \"14-14.\", \"14-7.\", \"15-1.\", \"15-20.\", \"16-1.\", \"16-16.\", \"17-10.\", \"17-11.\", \"17-2.\", \"19-1.\", \"19-16.\", \"19-19.\", \"19-20.\", \"19-3.\", \"2-10.\", \"2-11.\", \"2-17.\", \"2-18.\", \"2-20.\", \"2-3.\", \"2-4.\", \"2-5.\", \"2-6.\", \"2-7.\", \"2-8.\", \"3-13.\", \"3-18.\", \"3-3.\", \"4-1.\", \"4-10.\", \"4-11.\", \"4-19.\", \"5-5.\", \"6-15.\", \"7-10.\", \"7-14.\", \"8-18.\", \"8-20.\", \"8-3.\", \"8-8.\"], \"batch_size\": 128, \"domains_source\": [1, 2, 3, 4, 5], \"domains_target\": [1, 2, 3, 4, 5], \"normalize_source\": false, \"normalize_target\": false, \"num_examples_per_domain_per_label_source\": -1, \"num_examples_per_domain_per_label_target\": -1, \"torch_default_dtype\": \"torch.float32\", \"n_epoch\": 50, \"patience\": 3, \"criteria_for_best\": \"target_accuracy\", \"x_net\": [{\"class\": \"nnReshape\", \"kargs\": {\"shape\": [-1, 1, 2, 256]}}, {\"class\": \"Conv2d\", \"kargs\": {\"in_channels\": 1, \"out_channels\": 256, \"kernel_size\": [1, 7], \"bias\": false, \"padding\": [0, 3]}}, {\"class\": \"ReLU\", \"kargs\": {\"inplace\": true}}, {\"class\": \"BatchNorm2d\", \"kargs\": {\"num_features\": 256}}, {\"class\": \"Conv2d\", \"kargs\": {\"in_channels\": 256, \"out_channels\": 80, \"kernel_size\": [2, 7], \"bias\": true, \"padding\": [0, 3]}}, {\"class\": \"ReLU\", \"kargs\": {\"inplace\": true}}, {\"class\": \"BatchNorm2d\", \"kargs\": {\"num_features\": 80}}, {\"class\": \"Flatten\", \"kargs\": {}}, {\"class\": \"Linear\", \"kargs\": {\"in_features\": 20480, \"out_features\": 256}}, {\"class\": \"ReLU\", \"kargs\": {\"inplace\": true}}, {\"class\": \"BatchNorm1d\", \"kargs\": {\"num_features\": 256}}, {\"class\": \"Linear\", \"kargs\": {\"in_features\": 256, \"out_features\": 58}}], \"NUM_LOGS_PER_EPOCH\": 10, \"BEST_MODEL_PATH\": \"./best_model.pth\", \"pickle_name_source\": \"cores.stratified_ds.2022A.pkl\", \"pickle_name_target\": \"cores.stratified_ds.2022A.pkl\", \"dataset_seed\": 1337, \"seed\": 1337}, \"results\": {\"source_test_label_accuracy\": 0.9968579198901593, \"source_test_label_loss\": 0.018703584807037654, \"target_test_label_accuracy\": 0.9968579198901593, \"target_test_label_loss\": 0.01872063972326499, \"source_val_label_accuracy\": 0.9964761472543314, \"source_val_label_loss\": 0.01964262263045198, \"target_val_label_accuracy\": 0.9964761472543314, \"target_val_label_loss\": 0.019637387452500876, \"total_epochs_trained\": 7, \"total_experiment_time_secs\": 144.25450825691223, \"confusion\": {\"2\": {\"39\": {\"39\": 70}, \"20\": {\"20\": 356}, \"16\": {\"16\": 380}, \"55\": {\"55\": 422}, \"52\": {\"52\": 312}, \"21\": {\"21\": 308}, \"24\": {\"24\": 242}, \"40\": {\"40\": 352}, \"1\": {\"1\": 280}, \"9\": {\"9\": 390}, \"54\": {\"54\": 278}, \"33\": {\"33\": 76}, \"19\": {\"19\": 392}, \"47\": {\"47\": 372}, \"11\": {\"11\": 396}, \"22\": {\"22\": 348}, \"30\": {\"30\": 360}, \"46\": {\"46\": 328}, \"25\": {\"25\": 468}, \"50\": {\"50\": 340, \"46\": 2}, \"4\": {\"4\": 400}, \"13\": {\"13\": 294, \"6\": 2}, \"6\": {\"6\": 318}, \"7\": {\"7\": 90}, \"45\": {\"45\": 326}, \"15\": {\"15\": 388}, \"23\": {\"23\": 372}, \"56\": {\"56\": 360}, \"36\": {\"36\": 290}, \"27\": {\"27\": 396}, \"8\": {\"8\": 406}, \"10\": {\"10\": 278, \"11\": 2}, \"28\": {\"28\": 72}, \"48\": {\"48\": 386}, \"26\": {\"26\": 68}, \"57\": {\"57\": 360, \"27\": 2}, \"0\": {\"0\": 122}, \"51\": {\"51\": 340}, \"2\": {\"2\": 88}, \"53\": {\"53\": 348}, \"17\": {\"17\": 264}, \"5\": {\"5\": 304, \"44\": 2, \"3\": 2}, \"29\": {\"29\": 322}, \"42\": {\"42\": 94}, \"43\": {\"43\": 378}, \"44\": {\"44\": 258}, \"34\": {\"34\": 72}, \"18\": {\"18\": 126}, \"38\": {\"38\": 52}, \"32\": {\"32\": 72}, \"41\": {\"41\": 54}, \"37\": {\"37\": 92}, \"3\": {\"3\": 234, \"46\": 4}, \"31\": {\"31\": 76}, \"14\": {\"14\": 60}, \"12\": {\"12\": 238}, \"35\": {\"35\": 88}, \"49\": {\"49\": 68}}, \"5\": {\"15\": {\"15\": 416, \"11\": 2}, \"6\": {\"6\": 322}, \"29\": {\"29\": 330}, \"1\": {\"1\": 374}, \"20\": {\"20\": 368}, \"44\": {\"44\": 382, \"56\": 2}, \"43\": {\"43\": 384, \"39\": 2}, \"16\": {\"16\": 386, \"12\": 2, \"15\": 2}, \"9\": {\"9\": 392}, \"53\": {\"53\": 384, \"17\": 2}, \"40\": {\"40\": 318}, \"30\": {\"30\": 318, \"1\": 2}, \"28\": {\"28\": 82}, \"54\": {\"54\": 282}, \"23\": {\"23\": 316}, \"0\": {\"0\": 314}, \"36\": {\"36\": 236}, \"47\": {\"47\": 250}, \"57\": {\"57\": 336}, \"48\": {\"48\": 346}, \"52\": {\"52\": 352}, \"19\": {\"19\": 388}, \"10\": {\"10\": 178}, \"7\": {\"7\": 84}, \"25\": {\"25\": 448, \"10\": 2}, \"35\": {\"35\": 94}, \"27\": {\"27\": 408}, \"8\": {\"8\": 384}, \"3\": {\"3\": 238, \"22\": 16, \"46\": 4}, \"5\": {\"5\": 322}, \"21\": {\"21\": 366}, \"51\": {\"51\": 380}, \"42\": {\"42\": 104, \"39\": 2}, \"34\": {\"34\": 88, \"29\": 2}, \"18\": {\"18\": 168}, \"55\": {\"55\": 498}, \"50\": {\"50\": 368, \"3\": 4, \"6\": 2}, \"56\": {\"56\": 386}, \"46\": {\"46\": 376}, \"13\": {\"13\": 406}, \"45\": {\"45\": 308, \"6\": 6}, \"12\": {\"12\": 232, \"46\": 14}, \"17\": {\"17\": 290}, \"32\": {\"32\": 88}, \"33\": {\"33\": 88}, \"24\": {\"24\": 208}, \"41\": {\"41\": 72}, \"4\": {\"4\": 250}, \"14\": {\"14\": 110}, \"26\": {\"26\": 64}, \"11\": {\"11\": 406}, \"2\": {\"2\": 72}, \"49\": {\"49\": 92}, \"31\": {\"31\": 90}, \"39\": {\"39\": 52}, \"37\": {\"37\": 64}, \"22\": {\"22\": 70}, \"38\": {\"38\": 88}}, \"3\": {\"3\": {\"3\": 370, \"46\": 2}, \"31\": {\"31\": 72}, \"11\": {\"11\": 382, \"15\": 2}, \"52\": {\"52\": 356}, \"22\": {\"22\": 354}, \"29\": {\"29\": 320}, \"28\": {\"28\": 74}, \"9\": {\"9\": 382}, \"46\": {\"46\": 352}, \"57\": {\"57\": 310}, \"35\": {\"35\": 76}, \"20\": {\"20\": 332}, \"18\": {\"18\": 210}, \"13\": {\"13\": 320}, \"51\": {\"51\": 326}, \"39\": {\"39\": 48}, \"25\": {\"25\": 426}, \"10\": {\"10\": 164}, \"55\": {\"55\": 426}, \"5\": {\"5\": 294, \"3\": 2}, \"15\": {\"15\": 402}, \"47\": {\"47\": 238}, \"12\": {\"12\": 228, \"6\": 2, \"46\": 4}, \"6\": {\"6\": 228}, \"54\": {\"54\": 252}, \"40\": {\"40\": 346}, \"1\": {\"1\": 258}, \"7\": {\"7\": 92}, \"50\": {\"50\": 368, \"46\": 2}, \"23\": {\"23\": 364}, \"4\": {\"4\": 370}, \"38\": {\"38\": 72, \"17\": 2}, \"53\": {\"53\": 368}, \"8\": {\"8\": 386}, \"21\": {\"21\": 320}, \"27\": {\"27\": 360}, \"2\": {\"2\": 82, \"7\": 2}, \"19\": {\"19\": 388}, \"17\": {\"17\": 270}, \"45\": {\"45\": 158}, \"43\": {\"43\": 340}, \"0\": {\"0\": 318}, \"16\": {\"16\": 390}, \"56\": {\"56\": 342}, \"44\": {\"44\": 224}, \"48\": {\"48\": 290, \"47\": 2}, \"14\": {\"14\": 104, \"56\": 2}, \"30\": {\"30\": 298, \"9\": 2}, \"26\": {\"26\": 68}, \"36\": {\"36\": 256}, \"33\": {\"33\": 76}, \"24\": {\"24\": 266}, \"42\": {\"42\": 76}, \"34\": {\"34\": 86}, \"32\": {\"32\": 72}, \"37\": {\"37\": 78}, \"49\": {\"49\": 50}, \"41\": {\"41\": 70, \"48\": 6}}, \"1\": {\"26\": {\"26\": 60}, \"52\": {\"52\": 338}, \"49\": {\"49\": 88}, \"1\": {\"1\": 256}, \"13\": {\"13\": 396}, \"51\": {\"51\": 398}, \"40\": {\"40\": 388, \"4\": 2}, \"9\": {\"9\": 398}, \"0\": {\"0\": 380, \"46\": 2}, \"46\": {\"46\": 352}, \"21\": {\"21\": 314}, \"55\": {\"55\": 572}, \"53\": {\"53\": 360}, \"45\": {\"45\": 396}, \"12\": {\"12\": 298}, \"23\": {\"23\": 342, \"43\": 2}, \"8\": {\"8\": 356}, \"50\": {\"50\": 398}, \"47\": {\"47\": 400}, \"16\": {\"16\": 354}, \"5\": {\"5\": 396, \"6\": 14}, \"35\": {\"35\": 96}, \"43\": {\"43\": 368}, \"57\": {\"57\": 362}, \"30\": {\"30\": 300}, \"41\": {\"41\": 66}, \"48\": {\"48\": 372}, \"44\": {\"44\": 344}, \"25\": {\"25\": 362}, \"18\": {\"18\": 186}, \"32\": {\"32\": 86}, \"15\": {\"15\": 404, \"12\": 2}, \"11\": {\"11\": 358}, \"54\": {\"54\": 264, \"1\": 2}, \"29\": {\"29\": 356}, \"33\": {\"33\": 82}, \"19\": {\"19\": 398}, \"38\": {\"38\": 64}, \"20\": {\"20\": 358}, \"27\": {\"27\": 408}, \"36\": {\"36\": 162}, \"39\": {\"39\": 72}, \"17\": {\"17\": 162}, \"22\": {\"22\": 348}, \"3\": {\"3\": 354, \"50\": 2}, \"10\": {\"10\": 242, \"15\": 2}, \"56\": {\"56\": 420}, \"4\": {\"4\": 334}, \"6\": {\"6\": 232, \"46\": 10}, \"34\": {\"34\": 60}, \"37\": {\"37\": 80}, \"14\": {\"14\": 62, \"8\": 2}, \"2\": {\"2\": 96, \"9\": 2}, \"42\": {\"42\": 96, \"28\": 6}, \"28\": {\"28\": 72}, \"24\": {\"24\": 270}, \"31\": {\"31\": 78}, \"7\": {\"7\": 74}}, \"4\": {\"4\": {\"4\": 332}, \"5\": {\"5\": 244, \"6\": 22, \"3\": 4, \"45\": 2}, \"10\": {\"10\": 346}, \"29\": {\"29\": 318}, \"50\": {\"50\": 322, \"6\": 8, \"46\": 2, \"3\": 4}, \"46\": {\"46\": 390}, \"43\": {\"43\": 370, \"38\": 2}, \"55\": {\"55\": 494}, \"47\": {\"47\": 304}, \"52\": {\"52\": 298}, \"27\": {\"27\": 384}, \"56\": {\"56\": 384, \"22\": 2}, \"25\": {\"25\": 406}, \"9\": {\"9\": 380}, \"19\": {\"19\": 362, \"45\": 2}, \"36\": {\"36\": 234, \"8\": 2}, \"11\": {\"11\": 258, \"15\": 4}, \"28\": {\"28\": 86}, \"0\": {\"0\": 202, \"46\": 4}, \"7\": {\"7\": 68}, \"23\": {\"23\": 366}, \"39\": {\"39\": 54}, \"51\": {\"51\": 366}, \"3\": {\"3\": 308, \"46\": 2, \"6\": 4, \"50\": 2}, \"31\": {\"31\": 70, \"7\": 2}, \"53\": {\"53\": 352, \"26\": 2}, \"22\": {\"22\": 318, \"46\": 2}, \"35\": {\"35\": 100}, \"40\": {\"40\": 378}, \"20\": {\"20\": 336, \"9\": 2}, \"54\": {\"54\": 278}, \"17\": {\"17\": 200}, \"12\": {\"12\": 230}, \"30\": {\"30\": 112, \"6\": 4}, \"15\": {\"15\": 376, \"16\": 4, \"11\": 6}, \"21\": {\"21\": 338}, \"8\": {\"8\": 364}, \"44\": {\"44\": 332}, \"48\": {\"48\": 390}, \"57\": {\"57\": 258}, \"13\": {\"13\": 384}, \"33\": {\"33\": 92}, \"16\": {\"16\": 248}, \"38\": {\"38\": 102}, \"32\": {\"32\": 66}, \"6\": {\"6\": 268, \"46\": 12}, \"24\": {\"24\": 142}, \"1\": {\"1\": 108}, \"18\": {\"18\": 274}, \"45\": {\"45\": 244}, \"37\": {\"37\": 62}, \"2\": {\"2\": 90}, \"41\": {\"41\": 88, \"49\": 2}, \"14\": {\"14\": 40}, \"26\": {\"26\": 62}, \"42\": {\"42\": 84, \"39\": 2}, \"49\": {\"49\": 54}, \"34\": {\"34\": 62}}}, \"per_domain_accuracy\": {\"2\": {\"accuracy\": 0.9989361702127659, \"source?\": true}, \"5\": {\"accuracy\": 0.9956811935610522, \"source?\": true}, \"3\": {\"accuracy\": 0.9979421045410893, \"source?\": true}, \"1\": {\"accuracy\": 0.9969496695475343, \"source?\": true}, \"4\": {\"accuracy\": 0.992718106707744, \"source?\": true}}}, \"history\": {\"epoch_indices\": [1, 2, 3, 4, 5, 6, 7], \"train_label_loss\": [0.5683658380306115, 0.03436210077480297, 0.013519727374447415, 0.008805816940348052, 0.005481765109936904, 0.005258784896734912, 0.0030706389541300116], \"source_val_label_loss\": [0.06644394288138318, 0.031086852135130367, 0.01975945596751652, 0.17772481848609734, 0.013536547608641787, 0.053879414368007625, 0.033879592965449186], \"target_val_label_loss\": [0.06635556476184329, 0.03104414719350814, 0.019646533642523625, 0.17756137636461558, 0.01366848811692377, 0.05394182071556995, 0.03393871197079661], \"source_val_acc_label\": [0.9891881790757895, 0.9950612669852372, 0.9964761472543314, 0.9471155129608372, 0.9964494514001976, 0.9849702341226407, 0.9895085293253958], \"target_val_acc_label\": [0.9891881790757895, 0.9950612669852372, 0.9964761472543314, 0.9471155129608372, 0.9964494514001976, 0.9849702341226407, 0.9895085293253958]}, \"dataset_metrics\": {\"source\": {\"train\": {\"n_unique_x\": 175349, \"n_unique_y\": 58, \"n_batch/episode\": 1370}, \"val\": {\"n_unique_x\": 37459, \"n_unique_y\": 58, \"n_batch/episode\": 293}, \"test\": {\"n_unique_x\": 37873, \"n_unique_y\": 58, \"n_batch/episode\": 296}}, \"target\": {\"train\": {\"n_unique_x\": 175349, \"n_unique_y\": 58, \"n_batch/episode\": 1370}, \"val\": {\"n_unique_x\": 37459, \"n_unique_y\": 58, \"n_batch/episode\": 293}, \"test\": {\"n_unique_x\": 37873, \"n_unique_y\": 58, \"n_batch/episode\": 296}}}}'"
      ]
     },
     "execution_count": 20,
     "metadata": {},
     "output_type": "execute_result"
    }
   ],
   "source": [
    "json.dumps(experiment)"
   ]
  }
 ],
 "metadata": {
  "celltoolbar": "Tags",
  "kernelspec": {
   "display_name": "Python 3 (ipykernel)",
   "language": "python",
   "name": "python3"
  },
  "language_info": {
   "codemirror_mode": {
    "name": "ipython",
    "version": 3
   },
   "file_extension": ".py",
   "mimetype": "text/x-python",
   "name": "python",
   "nbconvert_exporter": "python",
   "pygments_lexer": "ipython3",
   "version": "3.8.12"
  },
  "papermill": {
   "default_parameters": {},
   "duration": 173.379809,
   "end_time": "2022-03-26T03:39:11.575090",
   "environment_variables": {},
   "exception": null,
   "input_path": "/root/csc500-main/csc500-notebooks/templates/cnn_template.ipynb",
   "output_path": "trial.ipynb",
   "parameters": {
    "parameters": {
     "BEST_MODEL_PATH": "./best_model.pth",
     "NUM_LOGS_PER_EPOCH": 10,
     "batch_size": 128,
     "criteria_for_best": "target_accuracy",
     "dataset_seed": 1337,
     "device": "cuda",
     "domains_source": [
      1,
      2,
      3,
      4,
      5
     ],
     "domains_target": [
      1,
      2,
      3,
      4,
      5
     ],
     "experiment_name": "cnn_2:cores",
     "labels": [
      "1-10.",
      "1-11.",
      "1-15.",
      "1-16.",
      "1-17.",
      "1-18.",
      "1-19.",
      "10-4.",
      "10-7.",
      "11-1.",
      "11-14.",
      "11-17.",
      "11-20.",
      "11-7.",
      "13-20.",
      "13-8.",
      "14-10.",
      "14-11.",
      "14-14.",
      "14-7.",
      "15-1.",
      "15-20.",
      "16-1.",
      "16-16.",
      "17-10.",
      "17-11.",
      "17-2.",
      "19-1.",
      "19-16.",
      "19-19.",
      "19-20.",
      "19-3.",
      "2-10.",
      "2-11.",
      "2-17.",
      "2-18.",
      "2-20.",
      "2-3.",
      "2-4.",
      "2-5.",
      "2-6.",
      "2-7.",
      "2-8.",
      "3-13.",
      "3-18.",
      "3-3.",
      "4-1.",
      "4-10.",
      "4-11.",
      "4-19.",
      "5-5.",
      "6-15.",
      "7-10.",
      "7-14.",
      "8-18.",
      "8-20.",
      "8-3.",
      "8-8."
     ],
     "lr": 0.0001,
     "n_epoch": 50,
     "normalize_source": false,
     "normalize_target": false,
     "num_examples_per_domain_per_label_source": -1,
     "num_examples_per_domain_per_label_target": -1,
     "patience": 3,
     "pickle_name_source": "cores.stratified_ds.2022A.pkl",
     "pickle_name_target": "cores.stratified_ds.2022A.pkl",
     "seed": 1337,
     "torch_default_dtype": "torch.float32",
     "x_net": [
      {
       "class": "nnReshape",
       "kargs": {
        "shape": [
         -1,
         1,
         2,
         256
        ]
       }
      },
      {
       "class": "Conv2d",
       "kargs": {
        "bias": false,
        "in_channels": 1,
        "kernel_size": [
         1,
         7
        ],
        "out_channels": 256,
        "padding": [
         0,
         3
        ]
       }
      },
      {
       "class": "ReLU",
       "kargs": {
        "inplace": true
       }
      },
      {
       "class": "BatchNorm2d",
       "kargs": {
        "num_features": 256
       }
      },
      {
       "class": "Conv2d",
       "kargs": {
        "bias": true,
        "in_channels": 256,
        "kernel_size": [
         2,
         7
        ],
        "out_channels": 80,
        "padding": [
         0,
         3
        ]
       }
      },
      {
       "class": "ReLU",
       "kargs": {
        "inplace": true
       }
      },
      {
       "class": "BatchNorm2d",
       "kargs": {
        "num_features": 80
       }
      },
      {
       "class": "Flatten",
       "kargs": {}
      },
      {
       "class": "Linear",
       "kargs": {
        "in_features": 20480,
        "out_features": 256
       }
      },
      {
       "class": "ReLU",
       "kargs": {
        "inplace": true
       }
      },
      {
       "class": "BatchNorm1d",
       "kargs": {
        "num_features": 256
       }
      },
      {
       "class": "Linear",
       "kargs": {
        "in_features": 256,
        "out_features": 58
       }
      }
     ]
    }
   },
   "start_time": "2022-03-26T03:36:18.195281",
   "version": "2.3.4"
  }
 },
 "nbformat": 4,
 "nbformat_minor": 5
}