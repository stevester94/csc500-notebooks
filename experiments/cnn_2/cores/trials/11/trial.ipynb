{
 "cells": [
  {
   "cell_type": "code",
   "execution_count": 1,
   "id": "2324682e",
   "metadata": {
    "execution": {
     "iopub.execute_input": "2022-03-26T04:18:24.828146Z",
     "iopub.status.busy": "2022-03-26T04:18:24.827235Z",
     "iopub.status.idle": "2022-03-26T04:18:26.166784Z",
     "shell.execute_reply": "2022-03-26T04:18:26.165914Z"
    },
    "papermill": {
     "duration": 1.375881,
     "end_time": "2022-03-26T04:18:26.166976",
     "exception": false,
     "start_time": "2022-03-26T04:18:24.791095",
     "status": "completed"
    },
    "tags": []
   },
   "outputs": [],
   "source": [
    "import os, json, sys, time, random\n",
    "import numpy as np\n",
    "import torch\n",
    "from  easydict import EasyDict\n",
    "from math import floor\n",
    "from easydict import EasyDict\n",
    "\n",
    "from steves_utils.vanilla_train_eval_test_jig import  Vanilla_Train_Eval_Test_Jig\n",
    "\n",
    "from steves_utils.torch_utils import get_dataset_metrics, independent_accuracy_assesment\n",
    "from steves_models.configurable_vanilla import Configurable_Vanilla\n",
    "from steves_utils.torch_sequential_builder import build_sequential\n",
    "from steves_utils.lazy_map import Lazy_Map\n",
    "from steves_utils.sequence_aggregator import Sequence_Aggregator\n",
    "\n",
    "from steves_utils.stratified_dataset.traditional_accessor import Traditional_Accessor_Factory\n",
    "\n",
    "from steves_utils.cnn_do_report import (\n",
    "    get_loss_curve,\n",
    "    get_results_table,\n",
    "    get_parameters_table,\n",
    "    get_domain_accuracies,\n",
    ")\n",
    "\n",
    "from steves_utils.torch_utils import (\n",
    "    confusion_by_domain_over_dataloader,\n",
    "    independent_accuracy_assesment\n",
    ")\n",
    "\n",
    "from steves_utils.utils_v2 import (\n",
    "    per_domain_accuracy_from_confusion,\n",
    "    get_datasets_base_path\n",
    ")\n",
    "\n",
    "# from steves_utils.ptn_do_report import TBD"
   ]
  },
  {
   "cell_type": "code",
   "execution_count": 2,
   "id": "1b29e3fe",
   "metadata": {
    "execution": {
     "iopub.execute_input": "2022-03-26T04:18:26.205337Z",
     "iopub.status.busy": "2022-03-26T04:18:26.201976Z",
     "iopub.status.idle": "2022-03-26T04:18:26.208000Z",
     "shell.execute_reply": "2022-03-26T04:18:26.207672Z"
    },
    "papermill": {
     "duration": 0.022351,
     "end_time": "2022-03-26T04:18:26.208081",
     "exception": false,
     "start_time": "2022-03-26T04:18:26.185730",
     "status": "completed"
    },
    "tags": []
   },
   "outputs": [],
   "source": [
    "required_parameters = {\n",
    "    \"experiment_name\",\n",
    "    \"lr\",\n",
    "    \"device\",\n",
    "    \"dataset_seed\",\n",
    "    \"seed\",\n",
    "    \"labels\",\n",
    "    \"domains_target\",\n",
    "    \"domains_source\",\n",
    "    \"num_examples_per_domain_per_label_source\",\n",
    "    \"num_examples_per_domain_per_label_target\",\n",
    "    \"batch_size\",\n",
    "    \"n_epoch\",\n",
    "    \"patience\",\n",
    "    \"criteria_for_best\",\n",
    "    \"normalize_source\",\n",
    "    \"normalize_target\",\n",
    "    \"x_net\",\n",
    "    \"NUM_LOGS_PER_EPOCH\",\n",
    "    \"BEST_MODEL_PATH\",\n",
    "    \"pickle_name_source\",\n",
    "    \"pickle_name_target\",\n",
    "    \"torch_default_dtype\",\n",
    "}"
   ]
  },
  {
   "cell_type": "code",
   "execution_count": 3,
   "id": "670b5fb8",
   "metadata": {
    "execution": {
     "iopub.execute_input": "2022-03-26T04:18:26.254182Z",
     "iopub.status.busy": "2022-03-26T04:18:26.246676Z",
     "iopub.status.idle": "2022-03-26T04:18:26.261241Z",
     "shell.execute_reply": "2022-03-26T04:18:26.260441Z"
    },
    "papermill": {
     "duration": 0.036277,
     "end_time": "2022-03-26T04:18:26.261409",
     "exception": false,
     "start_time": "2022-03-26T04:18:26.225132",
     "status": "completed"
    },
    "tags": [
     "parameters"
    ]
   },
   "outputs": [],
   "source": [
    "from steves_utils.ORACLE.utils_v2 import (\n",
    "    ALL_SERIAL_NUMBERS,\n",
    "    ALL_DISTANCES_FEET_NARROWED,\n",
    ")\n",
    "\n",
    "standalone_parameters = {}\n",
    "standalone_parameters[\"experiment_name\"] = \"MANUAL CORES CNN\"\n",
    "standalone_parameters[\"lr\"] = 0.0001\n",
    "standalone_parameters[\"device\"] = \"cuda\"\n",
    "\n",
    "standalone_parameters[\"dataset_seed\"] = 1337\n",
    "standalone_parameters[\"seed\"] = 1337\n",
    "standalone_parameters[\"labels\"] = ALL_SERIAL_NUMBERS\n",
    "\n",
    "standalone_parameters[\"domains_source\"] = [8,32,50]\n",
    "standalone_parameters[\"domains_target\"] = [14,20,26,38,44,]\n",
    "\n",
    "standalone_parameters[\"num_examples_per_domain_per_label_source\"]=-1\n",
    "standalone_parameters[\"num_examples_per_domain_per_label_target\"]=-1\n",
    "\n",
    "standalone_parameters[\"pickle_name_source\"] = \"oracle.Run1_framed_2000Examples_stratified_ds.2022A.pkl\"\n",
    "standalone_parameters[\"pickle_name_target\"] = \"oracle.Run2_framed_2000Examples_stratified_ds.2022A.pkl\"\n",
    "\n",
    "standalone_parameters[\"torch_default_dtype\"] = \"torch.float32\" \n",
    "\n",
    "standalone_parameters[\"batch_size\"]=128\n",
    "\n",
    "standalone_parameters[\"n_epoch\"] = 3\n",
    "\n",
    "standalone_parameters[\"patience\"] = 10\n",
    "\n",
    "standalone_parameters[\"criteria_for_best\"] = \"target_accuracy\"\n",
    "standalone_parameters[\"normalize_source\"] = False\n",
    "standalone_parameters[\"normalize_target\"] = False\n",
    "\n",
    "standalone_parameters[\"x_net\"] =     [\n",
    "    {\"class\": \"nnReshape\", \"kargs\": {\"shape\":[-1, 1, 2, 256]}},\n",
    "    {\"class\": \"Conv2d\", \"kargs\": { \"in_channels\":1, \"out_channels\":256, \"kernel_size\":(1,7), \"bias\":False, \"padding\":(0,3), },},\n",
    "    {\"class\": \"ReLU\", \"kargs\": {\"inplace\": True}},\n",
    "    {\"class\": \"BatchNorm2d\", \"kargs\": {\"num_features\":256}},\n",
    "\n",
    "    {\"class\": \"Conv2d\", \"kargs\": { \"in_channels\":256, \"out_channels\":80, \"kernel_size\":(2,7), \"bias\":True, \"padding\":(0,3), },},\n",
    "    {\"class\": \"ReLU\", \"kargs\": {\"inplace\": True}},\n",
    "    {\"class\": \"BatchNorm2d\", \"kargs\": {\"num_features\":80}},\n",
    "    {\"class\": \"Flatten\", \"kargs\": {}},\n",
    "\n",
    "    {\"class\": \"Linear\", \"kargs\": {\"in_features\": 80*256, \"out_features\": 256}}, # 80 units per IQ pair\n",
    "    {\"class\": \"ReLU\", \"kargs\": {\"inplace\": True}},\n",
    "    {\"class\": \"BatchNorm1d\", \"kargs\": {\"num_features\":256}},\n",
    "\n",
    "    {\"class\": \"Linear\", \"kargs\": {\"in_features\": 256, \"out_features\": len(standalone_parameters[\"labels\"])}},\n",
    "]\n",
    "\n",
    "standalone_parameters[\"NUM_LOGS_PER_EPOCH\"] = 10\n",
    "standalone_parameters[\"BEST_MODEL_PATH\"] = \"./best_model.pth\""
   ]
  },
  {
   "cell_type": "code",
   "execution_count": 4,
   "id": "393503a3",
   "metadata": {
    "execution": {
     "iopub.execute_input": "2022-03-26T04:18:26.310640Z",
     "iopub.status.busy": "2022-03-26T04:18:26.309699Z",
     "iopub.status.idle": "2022-03-26T04:18:26.312382Z",
     "shell.execute_reply": "2022-03-26T04:18:26.311572Z"
    },
    "papermill": {
     "duration": 0.030962,
     "end_time": "2022-03-26T04:18:26.312547",
     "exception": false,
     "start_time": "2022-03-26T04:18:26.281585",
     "status": "completed"
    },
    "tags": [
     "injected-parameters"
    ]
   },
   "outputs": [],
   "source": [
    "# Parameters\n",
    "parameters = {\n",
    "    \"experiment_name\": \"cnn_2:cores\",\n",
    "    \"device\": \"cuda\",\n",
    "    \"lr\": 0.0001,\n",
    "    \"labels\": [\n",
    "        \"1-10.\",\n",
    "        \"1-11.\",\n",
    "        \"1-15.\",\n",
    "        \"1-16.\",\n",
    "        \"1-17.\",\n",
    "        \"1-18.\",\n",
    "        \"1-19.\",\n",
    "        \"10-4.\",\n",
    "        \"10-7.\",\n",
    "        \"11-1.\",\n",
    "        \"11-14.\",\n",
    "        \"11-17.\",\n",
    "        \"11-20.\",\n",
    "        \"11-7.\",\n",
    "        \"13-20.\",\n",
    "        \"13-8.\",\n",
    "        \"14-10.\",\n",
    "        \"14-11.\",\n",
    "        \"14-14.\",\n",
    "        \"14-7.\",\n",
    "        \"15-1.\",\n",
    "        \"15-20.\",\n",
    "        \"16-1.\",\n",
    "        \"16-16.\",\n",
    "        \"17-10.\",\n",
    "        \"17-11.\",\n",
    "        \"17-2.\",\n",
    "        \"19-1.\",\n",
    "        \"19-16.\",\n",
    "        \"19-19.\",\n",
    "        \"19-20.\",\n",
    "        \"19-3.\",\n",
    "        \"2-10.\",\n",
    "        \"2-11.\",\n",
    "        \"2-17.\",\n",
    "        \"2-18.\",\n",
    "        \"2-20.\",\n",
    "        \"2-3.\",\n",
    "        \"2-4.\",\n",
    "        \"2-5.\",\n",
    "        \"2-6.\",\n",
    "        \"2-7.\",\n",
    "        \"2-8.\",\n",
    "        \"3-13.\",\n",
    "        \"3-18.\",\n",
    "        \"3-3.\",\n",
    "        \"4-1.\",\n",
    "        \"4-10.\",\n",
    "        \"4-11.\",\n",
    "        \"4-19.\",\n",
    "        \"5-5.\",\n",
    "        \"6-15.\",\n",
    "        \"7-10.\",\n",
    "        \"7-14.\",\n",
    "        \"8-18.\",\n",
    "        \"8-20.\",\n",
    "        \"8-3.\",\n",
    "        \"8-8.\",\n",
    "    ],\n",
    "    \"batch_size\": 128,\n",
    "    \"domains_source\": [1, 2, 3, 4, 5],\n",
    "    \"domains_target\": [1, 2, 3, 4, 5],\n",
    "    \"normalize_source\": False,\n",
    "    \"normalize_target\": False,\n",
    "    \"num_examples_per_domain_per_label_source\": -1,\n",
    "    \"num_examples_per_domain_per_label_target\": -1,\n",
    "    \"torch_default_dtype\": \"torch.float32\",\n",
    "    \"n_epoch\": 50,\n",
    "    \"patience\": 3,\n",
    "    \"criteria_for_best\": \"target_accuracy\",\n",
    "    \"x_net\": [\n",
    "        {\"class\": \"nnReshape\", \"kargs\": {\"shape\": [-1, 1, 2, 256]}},\n",
    "        {\n",
    "            \"class\": \"Conv2d\",\n",
    "            \"kargs\": {\n",
    "                \"in_channels\": 1,\n",
    "                \"out_channels\": 256,\n",
    "                \"kernel_size\": [1, 7],\n",
    "                \"bias\": False,\n",
    "                \"padding\": [0, 3],\n",
    "            },\n",
    "        },\n",
    "        {\"class\": \"ReLU\", \"kargs\": {\"inplace\": True}},\n",
    "        {\"class\": \"BatchNorm2d\", \"kargs\": {\"num_features\": 256}},\n",
    "        {\n",
    "            \"class\": \"Conv2d\",\n",
    "            \"kargs\": {\n",
    "                \"in_channels\": 256,\n",
    "                \"out_channels\": 80,\n",
    "                \"kernel_size\": [2, 7],\n",
    "                \"bias\": True,\n",
    "                \"padding\": [0, 3],\n",
    "            },\n",
    "        },\n",
    "        {\"class\": \"ReLU\", \"kargs\": {\"inplace\": True}},\n",
    "        {\"class\": \"BatchNorm2d\", \"kargs\": {\"num_features\": 80}},\n",
    "        {\"class\": \"Flatten\", \"kargs\": {}},\n",
    "        {\"class\": \"Linear\", \"kargs\": {\"in_features\": 20480, \"out_features\": 256}},\n",
    "        {\"class\": \"ReLU\", \"kargs\": {\"inplace\": True}},\n",
    "        {\"class\": \"BatchNorm1d\", \"kargs\": {\"num_features\": 256}},\n",
    "        {\"class\": \"Linear\", \"kargs\": {\"in_features\": 256, \"out_features\": 58}},\n",
    "    ],\n",
    "    \"NUM_LOGS_PER_EPOCH\": 10,\n",
    "    \"BEST_MODEL_PATH\": \"./best_model.pth\",\n",
    "    \"pickle_name_source\": \"cores.stratified_ds.2022A.pkl\",\n",
    "    \"pickle_name_target\": \"cores.stratified_ds.2022A.pkl\",\n",
    "    \"dataset_seed\": 420,\n",
    "    \"seed\": 420,\n",
    "}\n"
   ]
  },
  {
   "cell_type": "code",
   "execution_count": 5,
   "id": "759b56ec",
   "metadata": {
    "execution": {
     "iopub.execute_input": "2022-03-26T04:18:26.349619Z",
     "iopub.status.busy": "2022-03-26T04:18:26.349235Z",
     "iopub.status.idle": "2022-03-26T04:18:26.351500Z",
     "shell.execute_reply": "2022-03-26T04:18:26.351128Z"
    },
    "papermill": {
     "duration": 0.020801,
     "end_time": "2022-03-26T04:18:26.351603",
     "exception": false,
     "start_time": "2022-03-26T04:18:26.330802",
     "status": "completed"
    },
    "tags": []
   },
   "outputs": [],
   "source": [
    "# Set this to True if you want to run this template directly\n",
    "STANDALONE = False\n",
    "if STANDALONE:\n",
    "    print(\"parameters not injected, running with standalone_parameters\")\n",
    "    parameters = standalone_parameters\n",
    "\n",
    "if not 'parameters' in locals() and not 'parameters' in globals():\n",
    "    raise Exception(\"Parameter injection failed\")\n",
    "\n",
    "#Use an easy dict for all the parameters\n",
    "p = EasyDict(parameters)\n",
    "\n",
    "supplied_keys = set(p.keys())\n",
    "\n",
    "if  supplied_keys != required_parameters:\n",
    "    print(\"Parameters are incorrect\")\n",
    "    if len(supplied_keys - required_parameters)>0: print(\"Shouldn't have:\", str(supplied_keys - required_parameters))\n",
    "    if len(required_parameters - supplied_keys)>0: print(\"Need to have:\", str(required_parameters - supplied_keys))\n",
    "    raise RuntimeError(\"Parameters are incorrect\")\n",
    "\n"
   ]
  },
  {
   "cell_type": "code",
   "execution_count": 6,
   "id": "d5c66a71",
   "metadata": {
    "execution": {
     "iopub.execute_input": "2022-03-26T04:18:26.389015Z",
     "iopub.status.busy": "2022-03-26T04:18:26.388630Z",
     "iopub.status.idle": "2022-03-26T04:18:26.393537Z",
     "shell.execute_reply": "2022-03-26T04:18:26.392845Z"
    },
    "papermill": {
     "duration": 0.023167,
     "end_time": "2022-03-26T04:18:26.393697",
     "exception": false,
     "start_time": "2022-03-26T04:18:26.370530",
     "status": "completed"
    },
    "tags": []
   },
   "outputs": [],
   "source": [
    "###################################\n",
    "# Set the RNGs and make it all deterministic\n",
    "###################################\n",
    "np.random.seed(p.seed)\n",
    "random.seed(p.seed)\n",
    "torch.manual_seed(p.seed)\n",
    "\n",
    "torch.use_deterministic_algorithms(True) "
   ]
  },
  {
   "cell_type": "code",
   "execution_count": 7,
   "id": "92a65876",
   "metadata": {
    "execution": {
     "iopub.execute_input": "2022-03-26T04:18:26.431976Z",
     "iopub.status.busy": "2022-03-26T04:18:26.431604Z",
     "iopub.status.idle": "2022-03-26T04:18:26.434025Z",
     "shell.execute_reply": "2022-03-26T04:18:26.434326Z"
    },
    "papermill": {
     "duration": 0.021055,
     "end_time": "2022-03-26T04:18:26.434423",
     "exception": false,
     "start_time": "2022-03-26T04:18:26.413368",
     "status": "completed"
    },
    "tags": []
   },
   "outputs": [],
   "source": [
    "torch.set_default_dtype(eval(p.torch_default_dtype))"
   ]
  },
  {
   "cell_type": "code",
   "execution_count": 8,
   "id": "f1a32f01",
   "metadata": {
    "execution": {
     "iopub.execute_input": "2022-03-26T04:18:26.471507Z",
     "iopub.status.busy": "2022-03-26T04:18:26.471129Z",
     "iopub.status.idle": "2022-03-26T04:18:26.510572Z",
     "shell.execute_reply": "2022-03-26T04:18:26.509859Z"
    },
    "papermill": {
     "duration": 0.057668,
     "end_time": "2022-03-26T04:18:26.510737",
     "exception": false,
     "start_time": "2022-03-26T04:18:26.453069",
     "status": "completed"
    },
    "tags": []
   },
   "outputs": [],
   "source": [
    "###################################\n",
    "# Build the network(s)\n",
    "# Note: It's critical to do this AFTER setting the RNG\n",
    "###################################\n",
    "x_net = build_sequential(p.x_net)"
   ]
  },
  {
   "cell_type": "code",
   "execution_count": 9,
   "id": "a276cd83",
   "metadata": {
    "execution": {
     "iopub.execute_input": "2022-03-26T04:18:26.548680Z",
     "iopub.status.busy": "2022-03-26T04:18:26.548316Z",
     "iopub.status.idle": "2022-03-26T04:18:26.550824Z",
     "shell.execute_reply": "2022-03-26T04:18:26.551127Z"
    },
    "papermill": {
     "duration": 0.021377,
     "end_time": "2022-03-26T04:18:26.551207",
     "exception": false,
     "start_time": "2022-03-26T04:18:26.529830",
     "status": "completed"
    },
    "tags": []
   },
   "outputs": [],
   "source": [
    "start_time_secs = time.time()"
   ]
  },
  {
   "cell_type": "code",
   "execution_count": 10,
   "id": "de702e48",
   "metadata": {
    "execution": {
     "iopub.execute_input": "2022-03-26T04:18:26.597279Z",
     "iopub.status.busy": "2022-03-26T04:18:26.596411Z",
     "iopub.status.idle": "2022-03-26T04:18:33.406116Z",
     "shell.execute_reply": "2022-03-26T04:18:33.405353Z"
    },
    "papermill": {
     "duration": 6.836355,
     "end_time": "2022-03-26T04:18:33.406294",
     "exception": false,
     "start_time": "2022-03-26T04:18:26.569939",
     "status": "completed"
    },
    "tags": []
   },
   "outputs": [],
   "source": [
    "def wrap_in_dataloader(p, ds):\n",
    "    return torch.utils.data.DataLoader(\n",
    "        ds,\n",
    "        batch_size=p.batch_size,\n",
    "        shuffle=True,\n",
    "        num_workers=1,\n",
    "        persistent_workers=True,\n",
    "        prefetch_factor=50,\n",
    "        pin_memory=True\n",
    "    )\n",
    "\n",
    "taf_source = Traditional_Accessor_Factory(\n",
    "    labels=p.labels,\n",
    "    domains=p.domains_source,\n",
    "    num_examples_per_domain_per_label=p.num_examples_per_domain_per_label_source,\n",
    "    pickle_path=os.path.join(get_datasets_base_path(), p.pickle_name_source),\n",
    "    seed=p.dataset_seed\n",
    ")\n",
    "train_original_source, val_original_source, test_original_source = \\\n",
    "    taf_source.get_train(), taf_source.get_val(), taf_source.get_test()\n",
    "\n",
    "\n",
    "taf_target = Traditional_Accessor_Factory(\n",
    "    labels=p.labels,\n",
    "    domains=p.domains_target,\n",
    "    num_examples_per_domain_per_label=p.num_examples_per_domain_per_label_source,\n",
    "    pickle_path=os.path.join(get_datasets_base_path(), p.pickle_name_target),\n",
    "    seed=p.dataset_seed\n",
    ")\n",
    "train_original_target, val_original_target, test_original_target = \\\n",
    "    taf_target.get_train(), taf_target.get_val(), taf_target.get_test()\n",
    "\n",
    "\n",
    "# For CNN We only use X and Y. And we only train on the source.\n",
    "# Properly form the data using a transform lambda and Lazy_Map. Finally wrap them in a dataloader\n",
    "\n",
    "transform_lambda = lambda ex: ex[:2] # Strip the tuple to just (x,y)\n",
    "\n",
    "\n",
    "train_processed_source = wrap_in_dataloader(\n",
    "    p,\n",
    "    Lazy_Map(train_original_source, transform_lambda)\n",
    ")\n",
    "val_processed_source = wrap_in_dataloader(\n",
    "    p,\n",
    "    Lazy_Map(val_original_source, transform_lambda)\n",
    ")\n",
    "test_processed_source = wrap_in_dataloader(\n",
    "    p,\n",
    "    Lazy_Map(test_original_source, transform_lambda)\n",
    ")\n",
    "\n",
    "train_processed_target = wrap_in_dataloader(\n",
    "    p,\n",
    "    Lazy_Map(train_original_target, transform_lambda)\n",
    ")\n",
    "val_processed_target = wrap_in_dataloader(\n",
    "    p,\n",
    "    Lazy_Map(val_original_target, transform_lambda)\n",
    ")\n",
    "test_processed_target  = wrap_in_dataloader(\n",
    "    p,\n",
    "    Lazy_Map(test_original_target, transform_lambda)\n",
    ")\n",
    "\n",
    "\n",
    "\n",
    "datasets = EasyDict({\n",
    "    \"source\": {\n",
    "        \"original\": {\"train\":train_original_source, \"val\":val_original_source, \"test\":test_original_source},\n",
    "        \"processed\": {\"train\":train_processed_source, \"val\":val_processed_source, \"test\":test_processed_source}\n",
    "    },\n",
    "    \"target\": {\n",
    "        \"original\": {\"train\":train_original_target, \"val\":val_original_target, \"test\":test_original_target},\n",
    "        \"processed\": {\"train\":train_processed_target, \"val\":val_processed_target, \"test\":test_processed_target}\n",
    "    },\n",
    "})"
   ]
  },
  {
   "cell_type": "code",
   "execution_count": 11,
   "id": "a11b26bd",
   "metadata": {
    "execution": {
     "iopub.execute_input": "2022-03-26T04:18:33.493210Z",
     "iopub.status.busy": "2022-03-26T04:18:33.492374Z",
     "iopub.status.idle": "2022-03-26T04:18:38.780133Z",
     "shell.execute_reply": "2022-03-26T04:18:38.780827Z"
    },
    "papermill": {
     "duration": 5.355033,
     "end_time": "2022-03-26T04:18:38.781046",
     "exception": false,
     "start_time": "2022-03-26T04:18:33.426013",
     "status": "completed"
    },
    "tags": []
   },
   "outputs": [
    {
     "data": {
      "text/plain": [
       "torch.float32"
      ]
     },
     "execution_count": 11,
     "metadata": {},
     "output_type": "execute_result"
    }
   ],
   "source": [
    "ep = next(iter(test_processed_target))\n",
    "ep[0].dtype"
   ]
  },
  {
   "cell_type": "code",
   "execution_count": 12,
   "id": "19425fad",
   "metadata": {
    "execution": {
     "iopub.execute_input": "2022-03-26T04:18:38.821243Z",
     "iopub.status.busy": "2022-03-26T04:18:38.817455Z",
     "iopub.status.idle": "2022-03-26T04:18:38.871228Z",
     "shell.execute_reply": "2022-03-26T04:18:38.870556Z"
    },
    "papermill": {
     "duration": 0.071455,
     "end_time": "2022-03-26T04:18:38.871384",
     "exception": false,
     "start_time": "2022-03-26T04:18:38.799929",
     "status": "completed"
    },
    "tags": []
   },
   "outputs": [],
   "source": [
    "model = Configurable_Vanilla(\n",
    "    x_net=x_net,\n",
    "    label_loss_object=torch.nn.NLLLoss(),\n",
    "    learning_rate=p.lr\n",
    ")"
   ]
  },
  {
   "cell_type": "code",
   "execution_count": 13,
   "id": "7f6d4f2c",
   "metadata": {
    "execution": {
     "iopub.execute_input": "2022-03-26T04:18:38.911723Z",
     "iopub.status.busy": "2022-03-26T04:18:38.911348Z",
     "iopub.status.idle": "2022-03-26T04:23:59.721992Z",
     "shell.execute_reply": "2022-03-26T04:23:59.721151Z"
    },
    "papermill": {
     "duration": 320.831745,
     "end_time": "2022-03-26T04:23:59.722162",
     "exception": false,
     "start_time": "2022-03-26T04:18:38.890417",
     "status": "completed"
    },
    "tags": []
   },
   "outputs": [
    {
     "name": "stdout",
     "output_type": "stream",
     "text": [
      "epoch: 1, [batch: 1 / 1370], examples_per_second: 697.6390, train_label_loss: 3.9699, \n"
     ]
    },
    {
     "name": "stdout",
     "output_type": "stream",
     "text": [
      "epoch: 1, [batch: 137 / 1370], examples_per_second: 11638.2106, train_label_loss: 1.5923, \n"
     ]
    },
    {
     "name": "stdout",
     "output_type": "stream",
     "text": [
      "epoch: 1, [batch: 274 / 1370], examples_per_second: 11709.6751, train_label_loss: 0.8019, \n"
     ]
    },
    {
     "name": "stdout",
     "output_type": "stream",
     "text": [
      "epoch: 1, [batch: 411 / 1370], examples_per_second: 11721.3942, train_label_loss: 0.4536, \n"
     ]
    },
    {
     "name": "stdout",
     "output_type": "stream",
     "text": [
      "epoch: 1, [batch: 548 / 1370], examples_per_second: 11764.0581, train_label_loss: 0.3051, \n"
     ]
    },
    {
     "name": "stdout",
     "output_type": "stream",
     "text": [
      "epoch: 1, [batch: 685 / 1370], examples_per_second: 11661.0204, train_label_loss: 0.2500, \n"
     ]
    },
    {
     "name": "stdout",
     "output_type": "stream",
     "text": [
      "epoch: 1, [batch: 822 / 1370], examples_per_second: 11697.6055, train_label_loss: 0.1608, \n"
     ]
    },
    {
     "name": "stdout",
     "output_type": "stream",
     "text": [
      "epoch: 1, [batch: 959 / 1370], examples_per_second: 11761.5656, train_label_loss: 0.1549, \n"
     ]
    },
    {
     "name": "stdout",
     "output_type": "stream",
     "text": [
      "epoch: 1, [batch: 1096 / 1370], examples_per_second: 11732.9496, train_label_loss: 0.1070, \n"
     ]
    },
    {
     "name": "stdout",
     "output_type": "stream",
     "text": [
      "epoch: 1, [batch: 1233 / 1370], examples_per_second: 11664.7728, train_label_loss: 0.0630, \n"
     ]
    },
    {
     "name": "stdout",
     "output_type": "stream",
     "text": [
      "=============================================================\n",
      "epoch: 1, source_val_acc_label: 0.9591, source_val_label_loss: 0.1513, target_val_acc_label: 0.9591, target_val_label_loss: 0.1514, \n",
      "=============================================================\n"
     ]
    },
    {
     "name": "stdout",
     "output_type": "stream",
     "text": [
      "New best\n",
      "epoch: 2, [batch: 1 / 1370], examples_per_second: 58.2588, train_label_loss: 0.0484, \n"
     ]
    },
    {
     "name": "stdout",
     "output_type": "stream",
     "text": [
      "epoch: 2, [batch: 137 / 1370], examples_per_second: 11685.3399, train_label_loss: 0.0465, \n"
     ]
    },
    {
     "name": "stdout",
     "output_type": "stream",
     "text": [
      "epoch: 2, [batch: 274 / 1370], examples_per_second: 11720.8320, train_label_loss: 0.0294, \n"
     ]
    },
    {
     "name": "stdout",
     "output_type": "stream",
     "text": [
      "epoch: 2, [batch: 411 / 1370], examples_per_second: 11597.6580, train_label_loss: 0.0411, \n"
     ]
    },
    {
     "name": "stdout",
     "output_type": "stream",
     "text": [
      "epoch: 2, [batch: 548 / 1370], examples_per_second: 11976.8120, train_label_loss: 0.0255, \n"
     ]
    },
    {
     "name": "stdout",
     "output_type": "stream",
     "text": [
      "epoch: 2, [batch: 685 / 1370], examples_per_second: 12120.2623, train_label_loss: 0.0220, \n"
     ]
    },
    {
     "name": "stdout",
     "output_type": "stream",
     "text": [
      "epoch: 2, [batch: 822 / 1370], examples_per_second: 11686.8196, train_label_loss: 0.0323, \n"
     ]
    },
    {
     "name": "stdout",
     "output_type": "stream",
     "text": [
      "epoch: 2, [batch: 959 / 1370], examples_per_second: 11667.1745, train_label_loss: 0.0277, \n"
     ]
    },
    {
     "name": "stdout",
     "output_type": "stream",
     "text": [
      "epoch: 2, [batch: 1096 / 1370], examples_per_second: 11495.0979, train_label_loss: 0.0224, \n"
     ]
    },
    {
     "name": "stdout",
     "output_type": "stream",
     "text": [
      "epoch: 2, [batch: 1233 / 1370], examples_per_second: 11614.2574, train_label_loss: 0.0113, \n"
     ]
    },
    {
     "name": "stdout",
     "output_type": "stream",
     "text": [
      "=============================================================\n",
      "epoch: 2, source_val_acc_label: 0.9933, source_val_label_loss: 0.0317, target_val_acc_label: 0.9933, target_val_label_loss: 0.0317, \n",
      "=============================================================\n"
     ]
    },
    {
     "name": "stdout",
     "output_type": "stream",
     "text": [
      "New best\n",
      "epoch: 3, [batch: 1 / 1370], examples_per_second: 65.1019, train_label_loss: 0.0077, \n"
     ]
    },
    {
     "name": "stdout",
     "output_type": "stream",
     "text": [
      "epoch: 3, [batch: 137 / 1370], examples_per_second: 11660.5590, train_label_loss: 0.0130, \n"
     ]
    },
    {
     "name": "stdout",
     "output_type": "stream",
     "text": [
      "epoch: 3, [batch: 274 / 1370], examples_per_second: 11721.0524, train_label_loss: 0.0105, \n"
     ]
    },
    {
     "name": "stdout",
     "output_type": "stream",
     "text": [
      "epoch: 3, [batch: 411 / 1370], examples_per_second: 11689.6020, train_label_loss: 0.0108, \n"
     ]
    },
    {
     "name": "stdout",
     "output_type": "stream",
     "text": [
      "epoch: 3, [batch: 548 / 1370], examples_per_second: 11596.1970, train_label_loss: 0.0344, \n"
     ]
    },
    {
     "name": "stdout",
     "output_type": "stream",
     "text": [
      "epoch: 3, [batch: 685 / 1370], examples_per_second: 11667.4595, train_label_loss: 0.0062, \n"
     ]
    },
    {
     "name": "stdout",
     "output_type": "stream",
     "text": [
      "epoch: 3, [batch: 822 / 1370], examples_per_second: 11646.5312, train_label_loss: 0.0201, \n"
     ]
    },
    {
     "name": "stdout",
     "output_type": "stream",
     "text": [
      "epoch: 3, [batch: 959 / 1370], examples_per_second: 11667.9056, train_label_loss: 0.0058, \n"
     ]
    },
    {
     "name": "stdout",
     "output_type": "stream",
     "text": [
      "epoch: 3, [batch: 1096 / 1370], examples_per_second: 11625.8596, train_label_loss: 0.0103, \n"
     ]
    },
    {
     "name": "stdout",
     "output_type": "stream",
     "text": [
      "epoch: 3, [batch: 1233 / 1370], examples_per_second: 11706.1714, train_label_loss: 0.0068, \n"
     ]
    },
    {
     "name": "stdout",
     "output_type": "stream",
     "text": [
      "=============================================================\n",
      "epoch: 3, source_val_acc_label: 0.9738, source_val_label_loss: 0.0816, target_val_acc_label: 0.9738, target_val_label_loss: 0.0816, \n",
      "=============================================================\n"
     ]
    },
    {
     "name": "stdout",
     "output_type": "stream",
     "text": [
      "epoch: 4, [batch: 1 / 1370], examples_per_second: 65.7517, train_label_loss: 0.0342, \n"
     ]
    },
    {
     "name": "stdout",
     "output_type": "stream",
     "text": [
      "epoch: 4, [batch: 137 / 1370], examples_per_second: 11551.2149, train_label_loss: 0.0030, \n"
     ]
    },
    {
     "name": "stdout",
     "output_type": "stream",
     "text": [
      "epoch: 4, [batch: 274 / 1370], examples_per_second: 11652.2362, train_label_loss: 0.0030, \n"
     ]
    },
    {
     "name": "stdout",
     "output_type": "stream",
     "text": [
      "epoch: 4, [batch: 411 / 1370], examples_per_second: 11690.6016, train_label_loss: 0.0050, \n"
     ]
    },
    {
     "name": "stdout",
     "output_type": "stream",
     "text": [
      "epoch: 4, [batch: 548 / 1370], examples_per_second: 11769.5361, train_label_loss: 0.0042, \n"
     ]
    },
    {
     "name": "stdout",
     "output_type": "stream",
     "text": [
      "epoch: 4, [batch: 685 / 1370], examples_per_second: 11807.4944, train_label_loss: 0.0058, \n"
     ]
    },
    {
     "name": "stdout",
     "output_type": "stream",
     "text": [
      "epoch: 4, [batch: 822 / 1370], examples_per_second: 11755.7080, train_label_loss: 0.0061, \n"
     ]
    },
    {
     "name": "stdout",
     "output_type": "stream",
     "text": [
      "epoch: 4, [batch: 959 / 1370], examples_per_second: 11748.2421, train_label_loss: 0.0027, \n"
     ]
    },
    {
     "name": "stdout",
     "output_type": "stream",
     "text": [
      "epoch: 4, [batch: 1096 / 1370], examples_per_second: 11753.5025, train_label_loss: 0.0029, \n"
     ]
    },
    {
     "name": "stdout",
     "output_type": "stream",
     "text": [
      "epoch: 4, [batch: 1233 / 1370], examples_per_second: 11733.0675, train_label_loss: 0.0028, \n"
     ]
    },
    {
     "name": "stdout",
     "output_type": "stream",
     "text": [
      "=============================================================\n",
      "epoch: 4, source_val_acc_label: 0.9935, source_val_label_loss: 0.0231, target_val_acc_label: 0.9935, target_val_label_loss: 0.0230, \n",
      "=============================================================\n"
     ]
    },
    {
     "name": "stdout",
     "output_type": "stream",
     "text": [
      "New best\n",
      "epoch: 5, [batch: 1 / 1370], examples_per_second: 66.1133, train_label_loss: 0.0024, \n"
     ]
    },
    {
     "name": "stdout",
     "output_type": "stream",
     "text": [
      "epoch: 5, [batch: 137 / 1370], examples_per_second: 11639.0473, train_label_loss: 0.0050, \n"
     ]
    },
    {
     "name": "stdout",
     "output_type": "stream",
     "text": [
      "epoch: 5, [batch: 274 / 1370], examples_per_second: 11761.4960, train_label_loss: 0.0091, \n"
     ]
    },
    {
     "name": "stdout",
     "output_type": "stream",
     "text": [
      "epoch: 5, [batch: 411 / 1370], examples_per_second: 11752.2349, train_label_loss: 0.0044, \n"
     ]
    },
    {
     "name": "stdout",
     "output_type": "stream",
     "text": [
      "epoch: 5, [batch: 548 / 1370], examples_per_second: 11768.2857, train_label_loss: 0.0028, \n"
     ]
    },
    {
     "name": "stdout",
     "output_type": "stream",
     "text": [
      "epoch: 5, [batch: 685 / 1370], examples_per_second: 11765.8723, train_label_loss: 0.0025, \n"
     ]
    },
    {
     "name": "stdout",
     "output_type": "stream",
     "text": [
      "epoch: 5, [batch: 822 / 1370], examples_per_second: 11668.1851, train_label_loss: 0.0015, \n"
     ]
    },
    {
     "name": "stdout",
     "output_type": "stream",
     "text": [
      "epoch: 5, [batch: 959 / 1370], examples_per_second: 11731.1175, train_label_loss: 0.0028, \n"
     ]
    },
    {
     "name": "stdout",
     "output_type": "stream",
     "text": [
      "epoch: 5, [batch: 1096 / 1370], examples_per_second: 11819.4881, train_label_loss: 0.0039, \n"
     ]
    },
    {
     "name": "stdout",
     "output_type": "stream",
     "text": [
      "epoch: 5, [batch: 1233 / 1370], examples_per_second: 11807.7257, train_label_loss: 0.0015, \n"
     ]
    },
    {
     "name": "stdout",
     "output_type": "stream",
     "text": [
      "=============================================================\n",
      "epoch: 5, source_val_acc_label: 0.9844, source_val_label_loss: 0.0499, target_val_acc_label: 0.9844, target_val_label_loss: 0.0499, \n",
      "=============================================================\n"
     ]
    },
    {
     "name": "stdout",
     "output_type": "stream",
     "text": [
      "epoch: 6, [batch: 1 / 1370], examples_per_second: 64.9927, train_label_loss: 0.0041, \n"
     ]
    },
    {
     "name": "stdout",
     "output_type": "stream",
     "text": [
      "epoch: 6, [batch: 137 / 1370], examples_per_second: 11675.5411, train_label_loss: 0.0034, \n"
     ]
    },
    {
     "name": "stdout",
     "output_type": "stream",
     "text": [
      "epoch: 6, [batch: 274 / 1370], examples_per_second: 11761.3512, train_label_loss: 0.0017, \n"
     ]
    },
    {
     "name": "stdout",
     "output_type": "stream",
     "text": [
      "epoch: 6, [batch: 411 / 1370], examples_per_second: 11723.9856, train_label_loss: 0.0024, \n"
     ]
    },
    {
     "name": "stdout",
     "output_type": "stream",
     "text": [
      "epoch: 6, [batch: 548 / 1370], examples_per_second: 11697.5497, train_label_loss: 0.0017, \n"
     ]
    },
    {
     "name": "stdout",
     "output_type": "stream",
     "text": [
      "epoch: 6, [batch: 685 / 1370], examples_per_second: 11807.7408, train_label_loss: 0.0011, \n"
     ]
    },
    {
     "name": "stdout",
     "output_type": "stream",
     "text": [
      "epoch: 6, [batch: 822 / 1370], examples_per_second: 11744.0458, train_label_loss: 0.0021, \n"
     ]
    },
    {
     "name": "stdout",
     "output_type": "stream",
     "text": [
      "epoch: 6, [batch: 959 / 1370], examples_per_second: 11753.0668, train_label_loss: 0.0040, \n"
     ]
    },
    {
     "name": "stdout",
     "output_type": "stream",
     "text": [
      "epoch: 6, [batch: 1096 / 1370], examples_per_second: 11769.8149, train_label_loss: 0.0017, \n"
     ]
    },
    {
     "name": "stdout",
     "output_type": "stream",
     "text": [
      "epoch: 6, [batch: 1233 / 1370], examples_per_second: 11786.5087, train_label_loss: 0.0014, \n"
     ]
    },
    {
     "name": "stdout",
     "output_type": "stream",
     "text": [
      "=============================================================\n",
      "epoch: 6, source_val_acc_label: 0.9960, source_val_label_loss: 0.0170, target_val_acc_label: 0.9960, target_val_label_loss: 0.0168, \n",
      "=============================================================\n"
     ]
    },
    {
     "name": "stdout",
     "output_type": "stream",
     "text": [
      "New best\n",
      "epoch: 7, [batch: 1 / 1370], examples_per_second: 64.9842, train_label_loss: 0.0059, \n"
     ]
    },
    {
     "name": "stdout",
     "output_type": "stream",
     "text": [
      "epoch: 7, [batch: 137 / 1370], examples_per_second: 11703.8518, train_label_loss: 0.0045, \n"
     ]
    },
    {
     "name": "stdout",
     "output_type": "stream",
     "text": [
      "epoch: 7, [batch: 274 / 1370], examples_per_second: 11749.1298, train_label_loss: 0.0077, \n"
     ]
    },
    {
     "name": "stdout",
     "output_type": "stream",
     "text": [
      "epoch: 7, [batch: 411 / 1370], examples_per_second: 11731.5423, train_label_loss: 0.0005, \n"
     ]
    },
    {
     "name": "stdout",
     "output_type": "stream",
     "text": [
      "epoch: 7, [batch: 548 / 1370], examples_per_second: 11599.6352, train_label_loss: 0.0022, \n"
     ]
    },
    {
     "name": "stdout",
     "output_type": "stream",
     "text": [
      "epoch: 7, [batch: 685 / 1370], examples_per_second: 11639.3820, train_label_loss: 0.0011, \n"
     ]
    },
    {
     "name": "stdout",
     "output_type": "stream",
     "text": [
      "epoch: 7, [batch: 822 / 1370], examples_per_second: 11733.9061, train_label_loss: 0.0032, \n"
     ]
    },
    {
     "name": "stdout",
     "output_type": "stream",
     "text": [
      "epoch: 7, [batch: 959 / 1370], examples_per_second: 11790.0456, train_label_loss: 0.0042, \n"
     ]
    },
    {
     "name": "stdout",
     "output_type": "stream",
     "text": [
      "epoch: 7, [batch: 1096 / 1370], examples_per_second: 11705.5510, train_label_loss: 0.0162, \n"
     ]
    },
    {
     "name": "stdout",
     "output_type": "stream",
     "text": [
      "epoch: 7, [batch: 1233 / 1370], examples_per_second: 11725.8080, train_label_loss: 0.0034, \n"
     ]
    },
    {
     "name": "stdout",
     "output_type": "stream",
     "text": [
      "=============================================================\n",
      "epoch: 7, source_val_acc_label: 0.9938, source_val_label_loss: 0.0232, target_val_acc_label: 0.9938, target_val_label_loss: 0.0232, \n",
      "=============================================================\n"
     ]
    },
    {
     "name": "stdout",
     "output_type": "stream",
     "text": [
      "epoch: 8, [batch: 1 / 1370], examples_per_second: 66.1066, train_label_loss: 0.0155, \n"
     ]
    },
    {
     "name": "stdout",
     "output_type": "stream",
     "text": [
      "epoch: 8, [batch: 137 / 1370], examples_per_second: 11716.3259, train_label_loss: 0.0011, \n"
     ]
    },
    {
     "name": "stdout",
     "output_type": "stream",
     "text": [
      "epoch: 8, [batch: 274 / 1370], examples_per_second: 11680.8210, train_label_loss: 0.0013, \n"
     ]
    },
    {
     "name": "stdout",
     "output_type": "stream",
     "text": [
      "epoch: 8, [batch: 411 / 1370], examples_per_second: 11808.5806, train_label_loss: 0.0029, \n"
     ]
    },
    {
     "name": "stdout",
     "output_type": "stream",
     "text": [
      "epoch: 8, [batch: 548 / 1370], examples_per_second: 11792.7525, train_label_loss: 0.0029, \n"
     ]
    },
    {
     "name": "stdout",
     "output_type": "stream",
     "text": [
      "epoch: 8, [batch: 685 / 1370], examples_per_second: 11785.7230, train_label_loss: 0.0058, \n"
     ]
    },
    {
     "name": "stdout",
     "output_type": "stream",
     "text": [
      "epoch: 8, [batch: 822 / 1370], examples_per_second: 11778.8151, train_label_loss: 0.0043, \n"
     ]
    },
    {
     "name": "stdout",
     "output_type": "stream",
     "text": [
      "epoch: 8, [batch: 959 / 1370], examples_per_second: 11794.1689, train_label_loss: 0.0051, \n"
     ]
    },
    {
     "name": "stdout",
     "output_type": "stream",
     "text": [
      "epoch: 8, [batch: 1096 / 1370], examples_per_second: 11748.3773, train_label_loss: 0.0020, \n"
     ]
    },
    {
     "name": "stdout",
     "output_type": "stream",
     "text": [
      "epoch: 8, [batch: 1233 / 1370], examples_per_second: 11748.1539, train_label_loss: 0.0005, \n"
     ]
    },
    {
     "name": "stdout",
     "output_type": "stream",
     "text": [
      "=============================================================\n",
      "epoch: 8, source_val_acc_label: 0.9978, source_val_label_loss: 0.0103, target_val_acc_label: 0.9978, target_val_label_loss: 0.0103, \n",
      "=============================================================\n"
     ]
    },
    {
     "name": "stdout",
     "output_type": "stream",
     "text": [
      "New best\n",
      "epoch: 9, [batch: 1 / 1370], examples_per_second: 66.2354, train_label_loss: 0.0016, \n"
     ]
    },
    {
     "name": "stdout",
     "output_type": "stream",
     "text": [
      "epoch: 9, [batch: 137 / 1370], examples_per_second: 12459.6220, train_label_loss: 0.0005, \n"
     ]
    },
    {
     "name": "stdout",
     "output_type": "stream",
     "text": [
      "epoch: 9, [batch: 274 / 1370], examples_per_second: 11767.9750, train_label_loss: 0.0003, \n"
     ]
    },
    {
     "name": "stdout",
     "output_type": "stream",
     "text": [
      "epoch: 9, [batch: 411 / 1370], examples_per_second: 11769.3271, train_label_loss: 0.0017, \n"
     ]
    },
    {
     "name": "stdout",
     "output_type": "stream",
     "text": [
      "epoch: 9, [batch: 548 / 1370], examples_per_second: 11775.6338, train_label_loss: 0.0001, \n"
     ]
    },
    {
     "name": "stdout",
     "output_type": "stream",
     "text": [
      "epoch: 9, [batch: 685 / 1370], examples_per_second: 11720.0868, train_label_loss: 0.0001, \n"
     ]
    },
    {
     "name": "stdout",
     "output_type": "stream",
     "text": [
      "epoch: 9, [batch: 822 / 1370], examples_per_second: 11741.5692, train_label_loss: 0.0021, \n"
     ]
    },
    {
     "name": "stdout",
     "output_type": "stream",
     "text": [
      "epoch: 9, [batch: 959 / 1370], examples_per_second: 11781.9585, train_label_loss: 0.0008, \n"
     ]
    },
    {
     "name": "stdout",
     "output_type": "stream",
     "text": [
      "epoch: 9, [batch: 1096 / 1370], examples_per_second: 11744.6759, train_label_loss: 0.0010, \n"
     ]
    },
    {
     "name": "stdout",
     "output_type": "stream",
     "text": [
      "epoch: 9, [batch: 1233 / 1370], examples_per_second: 11753.5946, train_label_loss: 0.0111, \n"
     ]
    },
    {
     "name": "stdout",
     "output_type": "stream",
     "text": [
      "=============================================================\n",
      "epoch: 9, source_val_acc_label: 0.9970, source_val_label_loss: 0.0119, target_val_acc_label: 0.9970, target_val_label_loss: 0.0119, \n",
      "=============================================================\n"
     ]
    },
    {
     "name": "stdout",
     "output_type": "stream",
     "text": [
      "epoch: 10, [batch: 1 / 1370], examples_per_second: 65.8373, train_label_loss: 0.0014, \n"
     ]
    },
    {
     "name": "stdout",
     "output_type": "stream",
     "text": [
      "epoch: 10, [batch: 137 / 1370], examples_per_second: 11595.7492, train_label_loss: 0.0015, \n"
     ]
    },
    {
     "name": "stdout",
     "output_type": "stream",
     "text": [
      "epoch: 10, [batch: 274 / 1370], examples_per_second: 11776.9649, train_label_loss: 0.0013, \n"
     ]
    },
    {
     "name": "stdout",
     "output_type": "stream",
     "text": [
      "epoch: 10, [batch: 411 / 1370], examples_per_second: 11758.1022, train_label_loss: 0.0009, \n"
     ]
    },
    {
     "name": "stdout",
     "output_type": "stream",
     "text": [
      "epoch: 10, [batch: 548 / 1370], examples_per_second: 11770.8866, train_label_loss: 0.0011, \n"
     ]
    },
    {
     "name": "stdout",
     "output_type": "stream",
     "text": [
      "epoch: 10, [batch: 685 / 1370], examples_per_second: 11652.5094, train_label_loss: 0.0009, \n"
     ]
    },
    {
     "name": "stdout",
     "output_type": "stream",
     "text": [
      "epoch: 10, [batch: 822 / 1370], examples_per_second: 11674.6488, train_label_loss: 0.0006, \n"
     ]
    },
    {
     "name": "stdout",
     "output_type": "stream",
     "text": [
      "epoch: 10, [batch: 959 / 1370], examples_per_second: 11737.5837, train_label_loss: 0.0007, \n"
     ]
    },
    {
     "name": "stdout",
     "output_type": "stream",
     "text": [
      "epoch: 10, [batch: 1096 / 1370], examples_per_second: 11740.5478, train_label_loss: 0.0005, \n"
     ]
    },
    {
     "name": "stdout",
     "output_type": "stream",
     "text": [
      "epoch: 10, [batch: 1233 / 1370], examples_per_second: 11731.4637, train_label_loss: 0.0053, \n"
     ]
    },
    {
     "name": "stdout",
     "output_type": "stream",
     "text": [
      "=============================================================\n",
      "epoch: 10, source_val_acc_label: 0.9963, source_val_label_loss: 0.0148, target_val_acc_label: 0.9963, target_val_label_loss: 0.0148, \n",
      "=============================================================\n"
     ]
    },
    {
     "name": "stdout",
     "output_type": "stream",
     "text": [
      "epoch: 11, [batch: 1 / 1370], examples_per_second: 66.6397, train_label_loss: 0.0001, \n"
     ]
    },
    {
     "name": "stdout",
     "output_type": "stream",
     "text": [
      "epoch: 11, [batch: 137 / 1370], examples_per_second: 11575.4740, train_label_loss: 0.0003, \n"
     ]
    },
    {
     "name": "stdout",
     "output_type": "stream",
     "text": [
      "epoch: 11, [batch: 274 / 1370], examples_per_second: 11608.1186, train_label_loss: 0.0008, \n"
     ]
    },
    {
     "name": "stdout",
     "output_type": "stream",
     "text": [
      "epoch: 11, [batch: 411 / 1370], examples_per_second: 11693.9547, train_label_loss: 0.0003, \n"
     ]
    },
    {
     "name": "stdout",
     "output_type": "stream",
     "text": [
      "epoch: 11, [batch: 548 / 1370], examples_per_second: 11706.3522, train_label_loss: 0.0001, \n"
     ]
    },
    {
     "name": "stdout",
     "output_type": "stream",
     "text": [
      "epoch: 11, [batch: 685 / 1370], examples_per_second: 11713.7909, train_label_loss: 0.0010, \n"
     ]
    },
    {
     "name": "stdout",
     "output_type": "stream",
     "text": [
      "epoch: 11, [batch: 822 / 1370], examples_per_second: 11731.0782, train_label_loss: 0.0110, \n"
     ]
    },
    {
     "name": "stdout",
     "output_type": "stream",
     "text": [
      "epoch: 11, [batch: 959 / 1370], examples_per_second: 11693.1014, train_label_loss: 0.0012, \n"
     ]
    },
    {
     "name": "stdout",
     "output_type": "stream",
     "text": [
      "epoch: 11, [batch: 1096 / 1370], examples_per_second: 11722.4721, train_label_loss: 0.0042, \n"
     ]
    },
    {
     "name": "stdout",
     "output_type": "stream",
     "text": [
      "epoch: 11, [batch: 1233 / 1370], examples_per_second: 11729.9426, train_label_loss: 0.0001, \n"
     ]
    },
    {
     "name": "stdout",
     "output_type": "stream",
     "text": [
      "=============================================================\n",
      "epoch: 11, source_val_acc_label: 0.9969, source_val_label_loss: 0.0117, target_val_acc_label: 0.9969, target_val_label_loss: 0.0117, \n",
      "=============================================================\n"
     ]
    },
    {
     "name": "stdout",
     "output_type": "stream",
     "text": [
      "epoch: 12, [batch: 1 / 1370], examples_per_second: 65.5632, train_label_loss: 0.0004, \n"
     ]
    },
    {
     "name": "stdout",
     "output_type": "stream",
     "text": [
      "epoch: 12, [batch: 137 / 1370], examples_per_second: 11719.5492, train_label_loss: 0.0003, \n"
     ]
    },
    {
     "name": "stdout",
     "output_type": "stream",
     "text": [
      "epoch: 12, [batch: 274 / 1370], examples_per_second: 11724.8734, train_label_loss: 0.0001, \n"
     ]
    },
    {
     "name": "stdout",
     "output_type": "stream",
     "text": [
      "epoch: 12, [batch: 411 / 1370], examples_per_second: 11705.8733, train_label_loss: 0.0001, \n"
     ]
    },
    {
     "name": "stdout",
     "output_type": "stream",
     "text": [
      "epoch: 12, [batch: 548 / 1370], examples_per_second: 11683.9476, train_label_loss: 0.0002, \n"
     ]
    },
    {
     "name": "stdout",
     "output_type": "stream",
     "text": [
      "epoch: 12, [batch: 685 / 1370], examples_per_second: 11701.5416, train_label_loss: 0.0001, \n"
     ]
    },
    {
     "name": "stdout",
     "output_type": "stream",
     "text": [
      "epoch: 12, [batch: 822 / 1370], examples_per_second: 11802.0701, train_label_loss: 0.0002, \n"
     ]
    },
    {
     "name": "stdout",
     "output_type": "stream",
     "text": [
      "epoch: 12, [batch: 959 / 1370], examples_per_second: 11728.8689, train_label_loss: 0.0002, \n"
     ]
    },
    {
     "name": "stdout",
     "output_type": "stream",
     "text": [
      "epoch: 12, [batch: 1096 / 1370], examples_per_second: 11649.9716, train_label_loss: 0.0175, \n"
     ]
    },
    {
     "name": "stdout",
     "output_type": "stream",
     "text": [
      "epoch: 12, [batch: 1233 / 1370], examples_per_second: 11647.8333, train_label_loss: 0.0042, \n"
     ]
    },
    {
     "name": "stdout",
     "output_type": "stream",
     "text": [
      "=============================================================\n",
      "epoch: 12, source_val_acc_label: 0.9980, source_val_label_loss: 0.0082, target_val_acc_label: 0.9980, target_val_label_loss: 0.0082, \n",
      "=============================================================\n"
     ]
    },
    {
     "name": "stdout",
     "output_type": "stream",
     "text": [
      "New best\n",
      "epoch: 13, [batch: 1 / 1370], examples_per_second: 64.5267, train_label_loss: 0.0002, \n"
     ]
    },
    {
     "name": "stdout",
     "output_type": "stream",
     "text": [
      "epoch: 13, [batch: 137 / 1370], examples_per_second: 12036.8333, train_label_loss: 0.0001, \n"
     ]
    },
    {
     "name": "stdout",
     "output_type": "stream",
     "text": [
      "epoch: 13, [batch: 274 / 1370], examples_per_second: 12079.3076, train_label_loss: 0.0002, \n"
     ]
    },
    {
     "name": "stdout",
     "output_type": "stream",
     "text": [
      "epoch: 13, [batch: 411 / 1370], examples_per_second: 11667.8889, train_label_loss: 0.0002, \n"
     ]
    },
    {
     "name": "stdout",
     "output_type": "stream",
     "text": [
      "epoch: 13, [batch: 548 / 1370], examples_per_second: 11787.5363, train_label_loss: 0.0021, \n"
     ]
    },
    {
     "name": "stdout",
     "output_type": "stream",
     "text": [
      "epoch: 13, [batch: 685 / 1370], examples_per_second: 11712.0003, train_label_loss: 0.0053, \n"
     ]
    },
    {
     "name": "stdout",
     "output_type": "stream",
     "text": [
      "epoch: 13, [batch: 822 / 1370], examples_per_second: 11665.6516, train_label_loss: 0.0017, \n"
     ]
    },
    {
     "name": "stdout",
     "output_type": "stream",
     "text": [
      "epoch: 13, [batch: 959 / 1370], examples_per_second: 11561.9089, train_label_loss: 0.0005, \n"
     ]
    },
    {
     "name": "stdout",
     "output_type": "stream",
     "text": [
      "epoch: 13, [batch: 1096 / 1370], examples_per_second: 11747.5479, train_label_loss: 0.0002, \n"
     ]
    },
    {
     "name": "stdout",
     "output_type": "stream",
     "text": [
      "epoch: 13, [batch: 1233 / 1370], examples_per_second: 11792.6504, train_label_loss: 0.0019, \n"
     ]
    },
    {
     "name": "stdout",
     "output_type": "stream",
     "text": [
      "=============================================================\n",
      "epoch: 13, source_val_acc_label: 0.9978, source_val_label_loss: 0.0101, target_val_acc_label: 0.9978, target_val_label_loss: 0.0101, \n",
      "=============================================================\n"
     ]
    },
    {
     "name": "stdout",
     "output_type": "stream",
     "text": [
      "epoch: 14, [batch: 1 / 1370], examples_per_second: 66.2999, train_label_loss: 0.0001, \n"
     ]
    },
    {
     "name": "stdout",
     "output_type": "stream",
     "text": [
      "epoch: 14, [batch: 137 / 1370], examples_per_second: 11620.6287, train_label_loss: 0.0001, \n"
     ]
    },
    {
     "name": "stdout",
     "output_type": "stream",
     "text": [
      "epoch: 14, [batch: 274 / 1370], examples_per_second: 11735.0930, train_label_loss: 0.0011, \n"
     ]
    },
    {
     "name": "stdout",
     "output_type": "stream",
     "text": [
      "epoch: 14, [batch: 411 / 1370], examples_per_second: 11706.0391, train_label_loss: 0.0009, \n"
     ]
    },
    {
     "name": "stdout",
     "output_type": "stream",
     "text": [
      "epoch: 14, [batch: 548 / 1370], examples_per_second: 11770.2744, train_label_loss: 0.0001, \n"
     ]
    },
    {
     "name": "stdout",
     "output_type": "stream",
     "text": [
      "epoch: 14, [batch: 685 / 1370], examples_per_second: 11714.0782, train_label_loss: 0.0012, \n"
     ]
    },
    {
     "name": "stdout",
     "output_type": "stream",
     "text": [
      "epoch: 14, [batch: 822 / 1370], examples_per_second: 11670.6049, train_label_loss: 0.0010, \n"
     ]
    },
    {
     "name": "stdout",
     "output_type": "stream",
     "text": [
      "epoch: 14, [batch: 959 / 1370], examples_per_second: 11728.2985, train_label_loss: 0.0028, \n"
     ]
    },
    {
     "name": "stdout",
     "output_type": "stream",
     "text": [
      "epoch: 14, [batch: 1096 / 1370], examples_per_second: 11685.4902, train_label_loss: 0.0004, \n"
     ]
    },
    {
     "name": "stdout",
     "output_type": "stream",
     "text": [
      "epoch: 14, [batch: 1233 / 1370], examples_per_second: 11663.3540, train_label_loss: 0.0001, \n"
     ]
    },
    {
     "name": "stdout",
     "output_type": "stream",
     "text": [
      "=============================================================\n",
      "epoch: 14, source_val_acc_label: 0.9970, source_val_label_loss: 0.0111, target_val_acc_label: 0.9970, target_val_label_loss: 0.0111, \n",
      "=============================================================\n"
     ]
    },
    {
     "name": "stdout",
     "output_type": "stream",
     "text": [
      "epoch: 15, [batch: 1 / 1370], examples_per_second: 75.0045, train_label_loss: 0.0002, \n"
     ]
    },
    {
     "name": "stdout",
     "output_type": "stream",
     "text": [
      "epoch: 15, [batch: 137 / 1370], examples_per_second: 12894.1508, train_label_loss: 0.0002, \n"
     ]
    },
    {
     "name": "stdout",
     "output_type": "stream",
     "text": [
      "epoch: 15, [batch: 274 / 1370], examples_per_second: 13043.8464, train_label_loss: 0.0031, \n"
     ]
    },
    {
     "name": "stdout",
     "output_type": "stream",
     "text": [
      "epoch: 15, [batch: 411 / 1370], examples_per_second: 12961.7672, train_label_loss: 0.0005, \n"
     ]
    },
    {
     "name": "stdout",
     "output_type": "stream",
     "text": [
      "epoch: 15, [batch: 548 / 1370], examples_per_second: 13013.4589, train_label_loss: 0.0004, \n"
     ]
    },
    {
     "name": "stdout",
     "output_type": "stream",
     "text": [
      "epoch: 15, [batch: 685 / 1370], examples_per_second: 13029.3354, train_label_loss: 0.0004, \n"
     ]
    },
    {
     "name": "stdout",
     "output_type": "stream",
     "text": [
      "epoch: 15, [batch: 822 / 1370], examples_per_second: 12938.2141, train_label_loss: 0.0001, \n"
     ]
    },
    {
     "name": "stdout",
     "output_type": "stream",
     "text": [
      "epoch: 15, [batch: 959 / 1370], examples_per_second: 12920.7472, train_label_loss: 0.0007, \n"
     ]
    },
    {
     "name": "stdout",
     "output_type": "stream",
     "text": [
      "epoch: 15, [batch: 1096 / 1370], examples_per_second: 13000.2033, train_label_loss: 0.0004, \n"
     ]
    },
    {
     "name": "stdout",
     "output_type": "stream",
     "text": [
      "epoch: 15, [batch: 1233 / 1370], examples_per_second: 12958.1911, train_label_loss: 0.0007, \n"
     ]
    },
    {
     "name": "stdout",
     "output_type": "stream",
     "text": [
      "=============================================================\n",
      "epoch: 15, source_val_acc_label: 0.9985, source_val_label_loss: 0.0061, target_val_acc_label: 0.9985, target_val_label_loss: 0.0061, \n",
      "=============================================================\n"
     ]
    },
    {
     "name": "stdout",
     "output_type": "stream",
     "text": [
      "New best\n",
      "epoch: 16, [batch: 1 / 1370], examples_per_second: 74.3731, train_label_loss: 0.0002, \n"
     ]
    },
    {
     "name": "stdout",
     "output_type": "stream",
     "text": [
      "epoch: 16, [batch: 137 / 1370], examples_per_second: 12858.8936, train_label_loss: 0.0000, \n"
     ]
    },
    {
     "name": "stdout",
     "output_type": "stream",
     "text": [
      "epoch: 16, [batch: 274 / 1370], examples_per_second: 12958.0838, train_label_loss: 0.0001, \n"
     ]
    },
    {
     "name": "stdout",
     "output_type": "stream",
     "text": [
      "epoch: 16, [batch: 411 / 1370], examples_per_second: 13004.2923, train_label_loss: 0.0003, \n"
     ]
    },
    {
     "name": "stdout",
     "output_type": "stream",
     "text": [
      "epoch: 16, [batch: 548 / 1370], examples_per_second: 13014.1750, train_label_loss: 0.0017, \n"
     ]
    },
    {
     "name": "stdout",
     "output_type": "stream",
     "text": [
      "epoch: 16, [batch: 685 / 1370], examples_per_second: 13013.3737, train_label_loss: 0.0043, \n"
     ]
    },
    {
     "name": "stdout",
     "output_type": "stream",
     "text": [
      "epoch: 16, [batch: 822 / 1370], examples_per_second: 13067.0478, train_label_loss: 0.0033, \n"
     ]
    },
    {
     "name": "stdout",
     "output_type": "stream",
     "text": [
      "epoch: 16, [batch: 959 / 1370], examples_per_second: 12964.9477, train_label_loss: 0.0004, \n"
     ]
    },
    {
     "name": "stdout",
     "output_type": "stream",
     "text": [
      "epoch: 16, [batch: 1096 / 1370], examples_per_second: 12937.6315, train_label_loss: 0.0003, \n"
     ]
    },
    {
     "name": "stdout",
     "output_type": "stream",
     "text": [
      "epoch: 16, [batch: 1233 / 1370], examples_per_second: 12961.9203, train_label_loss: 0.0001, \n"
     ]
    },
    {
     "name": "stdout",
     "output_type": "stream",
     "text": [
      "=============================================================\n",
      "epoch: 16, source_val_acc_label: 0.9982, source_val_label_loss: 0.0072, target_val_acc_label: 0.9982, target_val_label_loss: 0.0072, \n",
      "=============================================================\n"
     ]
    },
    {
     "name": "stdout",
     "output_type": "stream",
     "text": [
      "epoch: 17, [batch: 1 / 1370], examples_per_second: 74.2458, train_label_loss: 0.0000, \n"
     ]
    },
    {
     "name": "stdout",
     "output_type": "stream",
     "text": [
      "epoch: 17, [batch: 137 / 1370], examples_per_second: 12817.1857, train_label_loss: 0.0000, \n"
     ]
    },
    {
     "name": "stdout",
     "output_type": "stream",
     "text": [
      "epoch: 17, [batch: 274 / 1370], examples_per_second: 13069.3511, train_label_loss: 0.0000, \n"
     ]
    },
    {
     "name": "stdout",
     "output_type": "stream",
     "text": [
      "epoch: 17, [batch: 411 / 1370], examples_per_second: 13024.6563, train_label_loss: 0.0000, \n"
     ]
    },
    {
     "name": "stdout",
     "output_type": "stream",
     "text": [
      "epoch: 17, [batch: 548 / 1370], examples_per_second: 12952.3950, train_label_loss: 0.0001, \n"
     ]
    },
    {
     "name": "stdout",
     "output_type": "stream",
     "text": [
      "epoch: 17, [batch: 685 / 1370], examples_per_second: 13013.6408, train_label_loss: 0.0001, \n"
     ]
    },
    {
     "name": "stdout",
     "output_type": "stream",
     "text": [
      "epoch: 17, [batch: 822 / 1370], examples_per_second: 12906.3660, train_label_loss: 0.0000, \n"
     ]
    },
    {
     "name": "stdout",
     "output_type": "stream",
     "text": [
      "epoch: 17, [batch: 959 / 1370], examples_per_second: 12898.2611, train_label_loss: 0.0000, \n"
     ]
    },
    {
     "name": "stdout",
     "output_type": "stream",
     "text": [
      "epoch: 17, [batch: 1096 / 1370], examples_per_second: 12821.5064, train_label_loss: 0.0002, \n"
     ]
    },
    {
     "name": "stdout",
     "output_type": "stream",
     "text": [
      "epoch: 17, [batch: 1233 / 1370], examples_per_second: 12961.8997, train_label_loss: 0.0019, \n"
     ]
    },
    {
     "name": "stdout",
     "output_type": "stream",
     "text": [
      "=============================================================\n",
      "epoch: 17, source_val_acc_label: 0.9979, source_val_label_loss: 0.0084, target_val_acc_label: 0.9979, target_val_label_loss: 0.0084, \n",
      "=============================================================\n"
     ]
    },
    {
     "name": "stdout",
     "output_type": "stream",
     "text": [
      "epoch: 18, [batch: 1 / 1370], examples_per_second: 73.6413, train_label_loss: 0.0003, \n"
     ]
    },
    {
     "name": "stdout",
     "output_type": "stream",
     "text": [
      "epoch: 18, [batch: 137 / 1370], examples_per_second: 12909.0737, train_label_loss: 0.0001, \n"
     ]
    },
    {
     "name": "stdout",
     "output_type": "stream",
     "text": [
      "epoch: 18, [batch: 274 / 1370], examples_per_second: 12936.5461, train_label_loss: 0.0007, \n"
     ]
    },
    {
     "name": "stdout",
     "output_type": "stream",
     "text": [
      "epoch: 18, [batch: 411 / 1370], examples_per_second: 12903.1351, train_label_loss: 0.0001, \n"
     ]
    },
    {
     "name": "stdout",
     "output_type": "stream",
     "text": [
      "epoch: 18, [batch: 548 / 1370], examples_per_second: 12969.8996, train_label_loss: 0.0002, \n"
     ]
    },
    {
     "name": "stdout",
     "output_type": "stream",
     "text": [
      "epoch: 18, [batch: 685 / 1370], examples_per_second: 12897.8042, train_label_loss: 0.0378, \n"
     ]
    },
    {
     "name": "stdout",
     "output_type": "stream",
     "text": [
      "epoch: 18, [batch: 822 / 1370], examples_per_second: 13039.6862, train_label_loss: 0.0003, \n"
     ]
    },
    {
     "name": "stdout",
     "output_type": "stream",
     "text": [
      "epoch: 18, [batch: 959 / 1370], examples_per_second: 12947.4450, train_label_loss: 0.0001, \n"
     ]
    },
    {
     "name": "stdout",
     "output_type": "stream",
     "text": [
      "epoch: 18, [batch: 1096 / 1370], examples_per_second: 12941.2099, train_label_loss: 0.0006, \n"
     ]
    },
    {
     "name": "stdout",
     "output_type": "stream",
     "text": [
      "epoch: 18, [batch: 1233 / 1370], examples_per_second: 12892.4529, train_label_loss: 0.0000, \n"
     ]
    },
    {
     "name": "stdout",
     "output_type": "stream",
     "text": [
      "=============================================================\n",
      "epoch: 18, source_val_acc_label: 0.9983, source_val_label_loss: 0.0066, target_val_acc_label: 0.9983, target_val_label_loss: 0.0066, \n",
      "=============================================================\n"
     ]
    },
    {
     "name": "stdout",
     "output_type": "stream",
     "text": [
      "epoch: 19, [batch: 1 / 1370], examples_per_second: 78.5181, train_label_loss: 0.0000, \n"
     ]
    },
    {
     "name": "stdout",
     "output_type": "stream",
     "text": [
      "epoch: 19, [batch: 137 / 1370], examples_per_second: 12901.1247, train_label_loss: 0.0000, \n"
     ]
    },
    {
     "name": "stdout",
     "output_type": "stream",
     "text": [
      "epoch: 19, [batch: 274 / 1370], examples_per_second: 12900.4827, train_label_loss: 0.0001, \n"
     ]
    },
    {
     "name": "stdout",
     "output_type": "stream",
     "text": [
      "epoch: 19, [batch: 411 / 1370], examples_per_second: 13003.1198, train_label_loss: 0.0000, \n"
     ]
    },
    {
     "name": "stdout",
     "output_type": "stream",
     "text": [
      "epoch: 19, [batch: 548 / 1370], examples_per_second: 12935.7475, train_label_loss: 0.0000, \n"
     ]
    },
    {
     "name": "stdout",
     "output_type": "stream",
     "text": [
      "epoch: 19, [batch: 685 / 1370], examples_per_second: 12999.3187, train_label_loss: 0.0000, \n"
     ]
    },
    {
     "name": "stdout",
     "output_type": "stream",
     "text": [
      "epoch: 19, [batch: 822 / 1370], examples_per_second: 13025.8696, train_label_loss: 0.0001, \n"
     ]
    },
    {
     "name": "stdout",
     "output_type": "stream",
     "text": [
      "epoch: 19, [batch: 959 / 1370], examples_per_second: 12918.5119, train_label_loss: 0.0001, \n"
     ]
    },
    {
     "name": "stdout",
     "output_type": "stream",
     "text": [
      "epoch: 19, [batch: 1096 / 1370], examples_per_second: 12914.0276, train_label_loss: 0.0002, \n"
     ]
    },
    {
     "name": "stdout",
     "output_type": "stream",
     "text": [
      "epoch: 19, [batch: 1233 / 1370], examples_per_second: 12976.9637, train_label_loss: 0.0003, \n"
     ]
    },
    {
     "name": "stdout",
     "output_type": "stream",
     "text": [
      "=============================================================\n",
      "epoch: 19, source_val_acc_label: 0.9930, source_val_label_loss: 0.0240, target_val_acc_label: 0.9930, target_val_label_loss: 0.0240, \n",
      "=============================================================\n"
     ]
    },
    {
     "name": "stdout",
     "output_type": "stream",
     "text": [
      "Patience (3) exhausted\n"
     ]
    }
   ],
   "source": [
    "jig = Vanilla_Train_Eval_Test_Jig(\n",
    "    model=model,\n",
    "    path_to_best_model=p.BEST_MODEL_PATH,\n",
    "    device=p.device,\n",
    "    label_loss_object=torch.nn.NLLLoss(),\n",
    ")\n",
    "\n",
    "jig.train(\n",
    "    train_iterable=datasets.source.processed.train,\n",
    "    source_val_iterable=datasets.source.processed.val,\n",
    "    target_val_iterable=datasets.target.processed.val,\n",
    "    patience=p.patience,\n",
    "    num_epochs=p.n_epoch,\n",
    "    num_logs_per_epoch=p.NUM_LOGS_PER_EPOCH,\n",
    "    criteria_for_best=p.criteria_for_best\n",
    ")"
   ]
  },
  {
   "cell_type": "code",
   "execution_count": 14,
   "id": "4bc2ac17",
   "metadata": {
    "execution": {
     "iopub.execute_input": "2022-03-26T04:23:59.871870Z",
     "iopub.status.busy": "2022-03-26T04:23:59.871461Z",
     "iopub.status.idle": "2022-03-26T04:23:59.874260Z",
     "shell.execute_reply": "2022-03-26T04:23:59.873867Z"
    },
    "papermill": {
     "duration": 0.07662,
     "end_time": "2022-03-26T04:23:59.874365",
     "exception": false,
     "start_time": "2022-03-26T04:23:59.797745",
     "status": "completed"
    },
    "tags": []
   },
   "outputs": [],
   "source": [
    "total_experiment_time_secs = time.time() - start_time_secs"
   ]
  },
  {
   "cell_type": "code",
   "execution_count": 15,
   "id": "cae88f23",
   "metadata": {
    "execution": {
     "iopub.execute_input": "2022-03-26T04:24:00.032822Z",
     "iopub.status.busy": "2022-03-26T04:24:00.032120Z",
     "iopub.status.idle": "2022-03-26T04:24:20.463833Z",
     "shell.execute_reply": "2022-03-26T04:24:20.463439Z"
    },
    "papermill": {
     "duration": 20.512921,
     "end_time": "2022-03-26T04:24:20.463931",
     "exception": false,
     "start_time": "2022-03-26T04:23:59.951010",
     "status": "completed"
    },
    "tags": []
   },
   "outputs": [],
   "source": [
    "source_test_label_accuracy, source_test_label_loss = jig.test(datasets.source.processed.test)\n",
    "target_test_label_accuracy, target_test_label_loss = jig.test(datasets.target.processed.test)\n",
    "\n",
    "source_val_label_accuracy, source_val_label_loss = jig.test(datasets.source.processed.val)\n",
    "target_val_label_accuracy, target_val_label_loss = jig.test(datasets.target.processed.val)\n",
    "\n",
    "history = jig.get_history()\n",
    "\n",
    "total_epochs_trained = len(history[\"epoch_indices\"])\n",
    "\n",
    "val_dl = wrap_in_dataloader(p, Sequence_Aggregator((datasets.source.original.val, datasets.target.original.val)))\n",
    "\n",
    "confusion = confusion_by_domain_over_dataloader(model, p.device, val_dl, forward_uses_domain=False)\n",
    "per_domain_accuracy = per_domain_accuracy_from_confusion(confusion)\n",
    "\n",
    "# Add a key to per_domain_accuracy for if it was a source domain\n",
    "for domain, accuracy in per_domain_accuracy.items():\n",
    "    per_domain_accuracy[domain] = {\n",
    "        \"accuracy\": accuracy,\n",
    "        \"source?\": domain in p.domains_source\n",
    "    }\n",
    "\n",
    "# Do an independent accuracy assesment JUST TO BE SURE!\n",
    "# _source_test_label_accuracy = independent_accuracy_assesment(model, datasets.source.processed.test, p.device)\n",
    "# _target_test_label_accuracy = independent_accuracy_assesment(model, datasets.target.processed.test, p.device)\n",
    "# _source_val_label_accuracy = independent_accuracy_assesment(model, datasets.source.processed.val, p.device)\n",
    "# _target_val_label_accuracy = independent_accuracy_assesment(model, datasets.target.processed.val, p.device)\n",
    "\n",
    "# assert(_source_test_label_accuracy == source_test_label_accuracy)\n",
    "# assert(_target_test_label_accuracy == target_test_label_accuracy)\n",
    "# assert(_source_val_label_accuracy == source_val_label_accuracy)\n",
    "# assert(_target_val_label_accuracy == target_val_label_accuracy)\n",
    "\n",
    "###################################\n",
    "# Write out the results\n",
    "###################################\n",
    "\n",
    "experiment = {\n",
    "    \"experiment_name\": p.experiment_name,\n",
    "    \"parameters\": p,\n",
    "    \"results\": {\n",
    "        \"source_test_label_accuracy\": source_test_label_accuracy,\n",
    "        \"source_test_label_loss\": source_test_label_loss,\n",
    "        \"target_test_label_accuracy\": target_test_label_accuracy,\n",
    "        \"target_test_label_loss\": target_test_label_loss,\n",
    "        \"source_val_label_accuracy\": source_val_label_accuracy,\n",
    "        \"source_val_label_loss\": source_val_label_loss,\n",
    "        \"target_val_label_accuracy\": target_val_label_accuracy,\n",
    "        \"target_val_label_loss\": target_val_label_loss,\n",
    "        \"total_epochs_trained\": total_epochs_trained,\n",
    "        \"total_experiment_time_secs\": total_experiment_time_secs,\n",
    "        \"confusion\": confusion,\n",
    "        \"per_domain_accuracy\": per_domain_accuracy,\n",
    "    },\n",
    "    \"history\": history,\n",
    "    \"dataset_metrics\": get_dataset_metrics(datasets, \"cnn\"),\n",
    "}"
   ]
  },
  {
   "cell_type": "code",
   "execution_count": 16,
   "id": "74c318cf",
   "metadata": {
    "execution": {
     "iopub.execute_input": "2022-03-26T04:24:20.647011Z",
     "iopub.status.busy": "2022-03-26T04:24:20.643852Z",
     "iopub.status.idle": "2022-03-26T04:24:20.834242Z",
     "shell.execute_reply": "2022-03-26T04:24:20.834904Z"
    },
    "papermill": {
     "duration": 0.299261,
     "end_time": "2022-03-26T04:24:20.835106",
     "exception": false,
     "start_time": "2022-03-26T04:24:20.535845",
     "status": "completed"
    },
    "tags": []
   },
   "outputs": [
    {
     "data": {
      "text/plain": [
       "<AxesSubplot:title={'center':'Source Train Label Loss vs Source Val Label Loss'}, xlabel='Epoch'>"
      ]
     },
     "execution_count": 16,
     "metadata": {},
     "output_type": "execute_result"
    },
    {
     "data": {
      "image/png": "[encoded data removed]",
      "text/plain": [
       "<Figure size 1080x504 with 1 Axes>"
      ]
     },
     "metadata": {
      "needs_background": "light"
     },
     "output_type": "display_data"
    }
   ],
   "source": [
    "get_loss_curve(experiment)"
   ]
  },
  {
   "cell_type": "code",
   "execution_count": 17,
   "id": "59376601",
   "metadata": {
    "execution": {
     "iopub.execute_input": "2022-03-26T04:24:21.009772Z",
     "iopub.status.busy": "2022-03-26T04:24:21.008951Z",
     "iopub.status.idle": "2022-03-26T04:24:21.290741Z",
     "shell.execute_reply": "2022-03-26T04:24:21.291413Z"
    },
    "papermill": {
     "duration": 0.379172,
     "end_time": "2022-03-26T04:24:21.291628",
     "exception": false,
     "start_time": "2022-03-26T04:24:20.912456",
     "status": "completed"
    },
    "tags": []
   },
   "outputs": [
    {
     "data": {
      "text/plain": [
       "<AxesSubplot:title={'center':'Results'}>"
      ]
     },
     "execution_count": 17,
     "metadata": {},
     "output_type": "execute_result"
    },
    {
     "data": {
      "image/png": "[encoded data removed]",
      "text/plain": [
       "<Figure size 1080x504 with 1 Axes>"
      ]
     },
     "metadata": {
      "needs_background": "light"
     },
     "output_type": "display_data"
    }
   ],
   "source": [
    "get_results_table(experiment)"
   ]
  },
  {
   "cell_type": "code",
   "execution_count": 18,
   "id": "e80c5c98",
   "metadata": {
    "execution": {
     "iopub.execute_input": "2022-03-26T04:24:21.464337Z",
     "iopub.status.busy": "2022-03-26T04:24:21.460202Z",
     "iopub.status.idle": "2022-03-26T04:24:21.616311Z",
     "shell.execute_reply": "2022-03-26T04:24:21.615599Z"
    },
    "papermill": {
     "duration": 0.246036,
     "end_time": "2022-03-26T04:24:21.616471",
     "exception": false,
     "start_time": "2022-03-26T04:24:21.370435",
     "status": "completed"
    },
    "tags": []
   },
   "outputs": [
    {
     "data": {
      "text/plain": [
       "<AxesSubplot:title={'center':'Per Domain Accuracy'}, xlabel='domain'>"
      ]
     },
     "execution_count": 18,
     "metadata": {},
     "output_type": "execute_result"
    },
    {
     "data": {
      "image/png": "[encoded data removed]",
      "text/plain": [
       "<Figure size 1080x504 with 1 Axes>"
      ]
     },
     "metadata": {
      "needs_background": "light"
     },
     "output_type": "display_data"
    }
   ],
   "source": [
    "get_domain_accuracies(experiment)"
   ]
  },
  {
   "cell_type": "code",
   "execution_count": 19,
   "id": "086fdd10",
   "metadata": {
    "execution": {
     "iopub.execute_input": "2022-03-26T04:24:21.775224Z",
     "iopub.status.busy": "2022-03-26T04:24:21.774837Z",
     "iopub.status.idle": "2022-03-26T04:24:21.777929Z",
     "shell.execute_reply": "2022-03-26T04:24:21.778231Z"
    },
    "papermill": {
     "duration": 0.082289,
     "end_time": "2022-03-26T04:24:21.778318",
     "exception": false,
     "start_time": "2022-03-26T04:24:21.696029",
     "status": "completed"
    },
    "tags": []
   },
   "outputs": [
    {
     "name": "stdout",
     "output_type": "stream",
     "text": [
      "Source Test Label Accuracy: 0.9986533942386396 Target Test Label Accuracy: 0.9986533942386396\n",
      "Source Val Label Accuracy: 0.9985317280226381 Target Val Label Accuracy: 0.9985317280226381\n"
     ]
    }
   ],
   "source": [
    "print(\"Source Test Label Accuracy:\", experiment[\"results\"][\"source_test_label_accuracy\"], \"Target Test Label Accuracy:\", experiment[\"results\"][\"target_test_label_accuracy\"])\n",
    "print(\"Source Val Label Accuracy:\", experiment[\"results\"][\"source_val_label_accuracy\"], \"Target Val Label Accuracy:\", experiment[\"results\"][\"target_val_label_accuracy\"])"
   ]
  },
  {
   "cell_type": "code",
   "execution_count": 20,
   "id": "9f450536",
   "metadata": {
    "execution": {
     "iopub.execute_input": "2022-03-26T04:24:21.936720Z",
     "iopub.status.busy": "2022-03-26T04:24:21.936358Z",
     "iopub.status.idle": "2022-03-26T04:24:21.939148Z",
     "shell.execute_reply": "2022-03-26T04:24:21.939451Z"
    },
    "papermill": {
     "duration": 0.082711,
     "end_time": "2022-03-26T04:24:21.939552",
     "exception": false,
     "start_time": "2022-03-26T04:24:21.856841",
     "status": "completed"
    },
    "tags": [
     "experiment_json"
    ]
   },
   "outputs": [
    {
     "data": {
      "text/plain": [
       "'{\"experiment_name\": \"cnn_2:cores\", \"parameters\": {\"experiment_name\": \"cnn_2:cores\", \"device\": \"cuda\", \"lr\": 0.0001, \"labels\": [\"1-10.\", \"1-11.\", \"1-15.\", \"1-16.\", \"1-17.\", \"1-18.\", \"1-19.\", \"10-4.\", \"10-7.\", \"11-1.\", \"11-14.\", \"11-17.\", \"11-20.\", \"11-7.\", \"13-20.\", \"13-8.\", \"14-10.\", \"14-11.\", \"14-14.\", \"14-7.\", \"15-1.\", \"15-20.\", \"16-1.\", \"16-16.\", \"17-10.\", \"17-11.\", \"17-2.\", \"19-1.\", \"19-16.\", \"19-19.\", \"19-20.\", \"19-3.\", \"2-10.\", \"2-11.\", \"2-17.\", \"2-18.\", \"2-20.\", \"2-3.\", \"2-4.\", \"2-5.\", \"2-6.\", \"2-7.\", \"2-8.\", \"3-13.\", \"3-18.\", \"3-3.\", \"4-1.\", \"4-10.\", \"4-11.\", \"4-19.\", \"5-5.\", \"6-15.\", \"7-10.\", \"7-14.\", \"8-18.\", \"8-20.\", \"8-3.\", \"8-8.\"], \"batch_size\": 128, \"domains_source\": [1, 2, 3, 4, 5], \"domains_target\": [1, 2, 3, 4, 5], \"normalize_source\": false, \"normalize_target\": false, \"num_examples_per_domain_per_label_source\": -1, \"num_examples_per_domain_per_label_target\": -1, \"torch_default_dtype\": \"torch.float32\", \"n_epoch\": 50, \"patience\": 3, \"criteria_for_best\": \"target_accuracy\", \"x_net\": [{\"class\": \"nnReshape\", \"kargs\": {\"shape\": [-1, 1, 2, 256]}}, {\"class\": \"Conv2d\", \"kargs\": {\"in_channels\": 1, \"out_channels\": 256, \"kernel_size\": [1, 7], \"bias\": false, \"padding\": [0, 3]}}, {\"class\": \"ReLU\", \"kargs\": {\"inplace\": true}}, {\"class\": \"BatchNorm2d\", \"kargs\": {\"num_features\": 256}}, {\"class\": \"Conv2d\", \"kargs\": {\"in_channels\": 256, \"out_channels\": 80, \"kernel_size\": [2, 7], \"bias\": true, \"padding\": [0, 3]}}, {\"class\": \"ReLU\", \"kargs\": {\"inplace\": true}}, {\"class\": \"BatchNorm2d\", \"kargs\": {\"num_features\": 80}}, {\"class\": \"Flatten\", \"kargs\": {}}, {\"class\": \"Linear\", \"kargs\": {\"in_features\": 20480, \"out_features\": 256}}, {\"class\": \"ReLU\", \"kargs\": {\"inplace\": true}}, {\"class\": \"BatchNorm1d\", \"kargs\": {\"num_features\": 256}}, {\"class\": \"Linear\", \"kargs\": {\"in_features\": 256, \"out_features\": 58}}], \"NUM_LOGS_PER_EPOCH\": 10, \"BEST_MODEL_PATH\": \"./best_model.pth\", \"pickle_name_source\": \"cores.stratified_ds.2022A.pkl\", \"pickle_name_target\": \"cores.stratified_ds.2022A.pkl\", \"dataset_seed\": 420, \"seed\": 420}, \"results\": {\"source_test_label_accuracy\": 0.9986533942386396, \"source_test_label_loss\": 0.008323610676370663, \"target_test_label_accuracy\": 0.9986533942386396, \"target_test_label_loss\": 0.008323787506094811, \"source_val_label_accuracy\": 0.9985317280226381, \"source_val_label_loss\": 0.006091248450940137, \"target_val_label_accuracy\": 0.9985317280226381, \"target_val_label_loss\": 0.006091282824097321, \"total_epochs_trained\": 19, \"total_experiment_time_secs\": 333.3226315975189, \"confusion\": {\"3\": {\"54\": {\"54\": 252}, \"0\": {\"0\": 318}, \"4\": {\"4\": 370}, \"22\": {\"22\": 354}, \"9\": {\"9\": 382}, \"47\": {\"47\": 238}, \"16\": {\"16\": 390}, \"51\": {\"51\": 326}, \"50\": {\"50\": 370}, \"48\": {\"48\": 292}, \"3\": {\"3\": 372}, \"44\": {\"44\": 224}, \"43\": {\"43\": 340}, \"20\": {\"20\": 332}, \"56\": {\"56\": 342}, \"29\": {\"29\": 320}, \"5\": {\"5\": 296}, \"27\": {\"27\": 360}, \"13\": {\"13\": 320}, \"15\": {\"15\": 402}, \"21\": {\"21\": 320}, \"37\": {\"37\": 78}, \"55\": {\"55\": 426}, \"24\": {\"24\": 266}, \"52\": {\"52\": 356}, \"53\": {\"53\": 368}, \"36\": {\"36\": 256}, \"57\": {\"57\": 310}, \"28\": {\"28\": 74}, \"46\": {\"46\": 352}, \"25\": {\"25\": 426}, \"6\": {\"6\": 224, \"3\": 2, \"5\": 2}, \"23\": {\"23\": 364}, \"11\": {\"11\": 384}, \"30\": {\"30\": 300}, \"19\": {\"19\": 388}, \"8\": {\"8\": 386}, \"41\": {\"41\": 76}, \"12\": {\"12\": 234}, \"10\": {\"10\": 164}, \"17\": {\"17\": 270}, \"1\": {\"1\": 258}, \"18\": {\"18\": 210}, \"7\": {\"7\": 92}, \"40\": {\"40\": 346}, \"32\": {\"32\": 72}, \"45\": {\"45\": 158}, \"49\": {\"49\": 50}, \"14\": {\"14\": 106}, \"33\": {\"33\": 76}, \"2\": {\"2\": 84}, \"26\": {\"26\": 66, \"51\": 2}, \"34\": {\"34\": 86}, \"31\": {\"31\": 72}, \"35\": {\"35\": 76}, \"42\": {\"42\": 76}, \"38\": {\"38\": 74}, \"39\": {\"39\": 48}}, \"2\": {\"54\": {\"54\": 278}, \"51\": {\"51\": 340}, \"56\": {\"56\": 360}, \"17\": {\"17\": 264}, \"3\": {\"3\": 234, \"50\": 4}, \"57\": {\"57\": 362}, \"11\": {\"11\": 396}, \"55\": {\"55\": 422}, \"16\": {\"16\": 380}, \"52\": {\"52\": 312}, \"6\": {\"6\": 318}, \"43\": {\"43\": 378}, \"46\": {\"46\": 328}, \"9\": {\"9\": 390}, \"45\": {\"45\": 326}, \"36\": {\"36\": 290}, \"21\": {\"21\": 308}, \"27\": {\"27\": 396}, \"8\": {\"8\": 406}, \"19\": {\"19\": 392}, \"30\": {\"30\": 356, \"21\": 2, \"14\": 2}, \"1\": {\"1\": 280}, \"32\": {\"32\": 70, \"2\": 2}, \"13\": {\"13\": 296}, \"50\": {\"50\": 342}, \"20\": {\"20\": 356}, \"24\": {\"24\": 242}, \"53\": {\"53\": 348}, \"47\": {\"47\": 372}, \"4\": {\"4\": 400}, \"22\": {\"22\": 348}, \"23\": {\"23\": 372}, \"33\": {\"33\": 76}, \"35\": {\"35\": 88}, \"49\": {\"49\": 68}, \"25\": {\"25\": 468}, \"41\": {\"41\": 50, \"2\": 2, \"55\": 2}, \"15\": {\"15\": 388}, \"5\": {\"5\": 308}, \"29\": {\"29\": 322}, \"44\": {\"44\": 258}, \"28\": {\"28\": 70, \"42\": 2}, \"48\": {\"48\": 386}, \"26\": {\"26\": 68}, \"40\": {\"40\": 352}, \"18\": {\"18\": 126}, \"7\": {\"7\": 90}, \"10\": {\"10\": 280}, \"12\": {\"12\": 238}, \"0\": {\"0\": 122}, \"38\": {\"38\": 52}, \"31\": {\"31\": 76}, \"39\": {\"39\": 70}, \"14\": {\"14\": 60}, \"37\": {\"37\": 92}, \"2\": {\"2\": 88}, \"42\": {\"42\": 94}, \"34\": {\"34\": 72}}, \"1\": {\"25\": {\"25\": 362}, \"34\": {\"34\": 60}, \"55\": {\"55\": 572}, \"52\": {\"52\": 338}, \"22\": {\"22\": 348}, \"13\": {\"13\": 396}, \"10\": {\"10\": 244}, \"12\": {\"12\": 296, \"21\": 2}, \"4\": {\"4\": 334}, \"46\": {\"46\": 348, \"12\": 4}, \"30\": {\"30\": 300}, \"15\": {\"15\": 406}, \"51\": {\"51\": 398}, \"57\": {\"57\": 360, \"29\": 2}, \"53\": {\"53\": 360}, \"39\": {\"39\": 72}, \"9\": {\"9\": 398}, \"3\": {\"3\": 356}, \"23\": {\"23\": 344}, \"27\": {\"27\": 408}, \"50\": {\"50\": 398}, \"41\": {\"41\": 66}, \"8\": {\"8\": 356}, \"21\": {\"21\": 314}, \"16\": {\"16\": 354}, \"45\": {\"45\": 396}, \"32\": {\"32\": 86}, \"43\": {\"43\": 366, \"2\": 2}, \"0\": {\"0\": 382}, \"29\": {\"29\": 356}, \"19\": {\"19\": 396, \"45\": 2}, \"20\": {\"20\": 358}, \"40\": {\"40\": 390}, \"11\": {\"11\": 358}, \"44\": {\"44\": 344}, \"47\": {\"47\": 400}, \"48\": {\"48\": 372}, \"54\": {\"54\": 266}, \"56\": {\"56\": 420}, \"26\": {\"26\": 60}, \"24\": {\"24\": 270}, \"5\": {\"5\": 410}, \"31\": {\"31\": 78}, \"38\": {\"38\": 64}, \"28\": {\"28\": 72}, \"6\": {\"6\": 238, \"46\": 2, \"5\": 2}, \"1\": {\"1\": 256}, \"37\": {\"37\": 80}, \"42\": {\"42\": 100, \"33\": 2}, \"18\": {\"18\": 186}, \"35\": {\"35\": 96}, \"7\": {\"7\": 74}, \"33\": {\"33\": 82}, \"14\": {\"14\": 64}, \"17\": {\"17\": 162}, \"2\": {\"2\": 98}, \"36\": {\"36\": 162}, \"49\": {\"49\": 88}}, \"4\": {\"4\": {\"4\": 330, \"27\": 2}, \"12\": {\"12\": 230}, \"40\": {\"40\": 378}, \"16\": {\"16\": 248}, \"55\": {\"55\": 494}, \"19\": {\"19\": 364}, \"18\": {\"18\": 272, \"15\": 2}, \"3\": {\"3\": 308, \"6\": 4, \"50\": 4}, \"57\": {\"57\": 258}, \"37\": {\"37\": 62}, \"48\": {\"48\": 390}, \"39\": {\"39\": 54}, \"9\": {\"9\": 380}, \"32\": {\"32\": 66}, \"25\": {\"25\": 406}, \"46\": {\"46\": 388, \"5\": 2}, \"43\": {\"43\": 370, \"2\": 2}, \"22\": {\"22\": 320}, \"11\": {\"11\": 254, \"15\": 8}, \"1\": {\"1\": 108}, \"10\": {\"10\": 346}, \"23\": {\"23\": 366}, \"30\": {\"30\": 116}, \"6\": {\"6\": 280}, \"50\": {\"50\": 336}, \"54\": {\"54\": 278}, \"45\": {\"45\": 244}, \"8\": {\"8\": 362, \"20\": 2}, \"29\": {\"29\": 318}, \"20\": {\"20\": 338}, \"52\": {\"52\": 298}, \"5\": {\"5\": 270, \"6\": 2}, \"13\": {\"13\": 384}, \"0\": {\"0\": 200, \"46\": 6}, \"27\": {\"27\": 384}, \"35\": {\"35\": 100}, \"26\": {\"26\": 62}, \"15\": {\"15\": 386}, \"51\": {\"51\": 366}, \"21\": {\"21\": 338}, \"56\": {\"56\": 386}, \"41\": {\"41\": 90}, \"47\": {\"47\": 304}, \"33\": {\"33\": 90, \"40\": 2}, \"53\": {\"53\": 352, \"38\": 2}, \"14\": {\"14\": 40}, \"44\": {\"44\": 330, \"45\": 2}, \"36\": {\"36\": 234, \"20\": 2}, \"24\": {\"24\": 142}, \"17\": {\"17\": 200}, \"38\": {\"38\": 102}, \"31\": {\"31\": 72}, \"34\": {\"34\": 62}, \"49\": {\"49\": 54}, \"7\": {\"7\": 66, \"41\": 2}, \"42\": {\"42\": 86}, \"2\": {\"2\": 90}, \"28\": {\"28\": 86}}, \"5\": {\"29\": {\"29\": 330}, \"53\": {\"53\": 386}, \"28\": {\"28\": 82}, \"50\": {\"50\": 370, \"3\": 4}, \"34\": {\"34\": 90}, \"0\": {\"0\": 314}, \"6\": {\"6\": 320, \"45\": 2}, \"19\": {\"19\": 388}, \"47\": {\"47\": 250}, \"48\": {\"48\": 346}, \"43\": {\"43\": 384, \"16\": 2}, \"11\": {\"11\": 406}, \"5\": {\"5\": 322}, \"12\": {\"12\": 246}, \"16\": {\"16\": 390}, \"10\": {\"10\": 178}, \"23\": {\"23\": 316}, \"45\": {\"45\": 314}, \"40\": {\"40\": 318}, \"56\": {\"56\": 386}, \"44\": {\"44\": 380, \"22\": 2, \"45\": 2}, \"55\": {\"55\": 498}, \"18\": {\"18\": 168}, \"32\": {\"32\": 88}, \"21\": {\"21\": 366}, \"13\": {\"13\": 406}, \"42\": {\"42\": 102, \"26\": 2, \"17\": 2}, \"25\": {\"25\": 450}, \"9\": {\"9\": 392}, \"14\": {\"14\": 110}, \"8\": {\"8\": 384}, \"51\": {\"51\": 378, \"20\": 2}, \"20\": {\"20\": 366, \"51\": 2}, \"15\": {\"15\": 418}, \"4\": {\"4\": 250}, \"1\": {\"1\": 374}, \"52\": {\"52\": 352}, \"54\": {\"54\": 282}, \"46\": {\"46\": 376}, \"31\": {\"31\": 90}, \"2\": {\"2\": 72}, \"27\": {\"27\": 408}, \"3\": {\"3\": 258}, \"57\": {\"57\": 336}, \"17\": {\"17\": 290}, \"24\": {\"24\": 208}, \"41\": {\"41\": 72}, \"33\": {\"33\": 88}, \"38\": {\"38\": 86, \"17\": 2}, \"39\": {\"39\": 52}, \"30\": {\"30\": 320}, \"22\": {\"22\": 70}, \"26\": {\"26\": 64}, \"36\": {\"36\": 232, \"54\": 2, \"2\": 2}, \"7\": {\"7\": 84}, \"37\": {\"37\": 64}, \"35\": {\"35\": 94}, \"49\": {\"49\": 92}}}, \"per_domain_accuracy\": {\"3\": {\"accuracy\": 0.9995884209082179, \"source?\": true}, \"2\": {\"accuracy\": 0.9989361702127659, \"source?\": true}, \"1\": {\"accuracy\": 0.9988561260803254, \"source?\": true}, \"4\": {\"accuracy\": 0.9969191989917379, \"source?\": true}, \"5\": {\"accuracy\": 0.9982986520088993, \"source?\": true}}}, \"history\": {\"epoch_indices\": [1, 2, 3, 4, 5, 6, 7, 8, 9, 10, 11, 12, 13, 14, 15, 16, 17, 18, 19], \"train_label_loss\": [0.5629187763471456, 0.03568692188268106, 0.01433261667894893, 0.007821437576190861, 0.00525743346058009, 0.005274944830015404, 0.005549272277284529, 0.002836597214202672, 0.0024976348467752206, 0.0018457310974806544, 0.001723945161463573, 0.0013140206833661705, 0.0018264880085460218, 0.0008225157469615976, 0.001310322909097004, 0.0013305288629393824, 0.0006655627588644451, 0.0011328352425544524, 0.0009131531209815185], \"source_val_label_loss\": [0.1513429561267534, 0.03173478816257656, 0.08156765757109524, 0.023051569862100503, 0.049856807421511454, 0.01695457538041531, 0.023198823946760174, 0.010291527770727844, 0.011893130241398169, 0.014793278604775466, 0.011715601253354645, 0.008169155660559783, 0.010112039315137903, 0.011067265692695819, 0.006097203400167307, 0.0071558254920389705, 0.008385203022664968, 0.006557909264938333, 0.024007003043767117], \"target_val_label_loss\": [0.15143085873777956, 0.03173384910811743, 0.08157703377395462, 0.023008779517721397, 0.0498905529859301, 0.016839513754227386, 0.023223944802994206, 0.010291747877633742, 0.01189165398873446, 0.014786623587391622, 0.011717309908199986, 0.008169187145999894, 0.010112253015923195, 0.011070582307180837, 0.006091261609807474, 0.007155973431639127, 0.008387155516156347, 0.006551332236051583, 0.024045225972652996], \"source_val_acc_label\": [0.9591019514669372, 0.993272644758269, 0.9737579753864225, 0.9935129074454737, 0.984382925331696, 0.9959956218799221, 0.9937531701326784, 0.9977842441068902, 0.9969566726287408, 0.9962625804212606, 0.9969299767746069, 0.9979711150858271, 0.9977575482527563, 0.9969833684828746, 0.9985317280226381, 0.998184681918898, 0.9979444192316933, 0.9983448570437011, 0.9929789903627967], \"target_val_acc_label\": [0.9591019514669372, 0.993272644758269, 0.9737579753864225, 0.9935129074454737, 0.984382925331696, 0.9959956218799221, 0.9937531701326784, 0.9977842441068902, 0.9969566726287408, 0.9962625804212606, 0.9969299767746069, 0.9979711150858271, 0.9977575482527563, 0.9969833684828746, 0.9985317280226381, 0.998184681918898, 0.9979444192316933, 0.9983448570437011, 0.9929789903627967]}, \"dataset_metrics\": {\"source\": {\"train\": {\"n_unique_x\": 175349, \"n_unique_y\": 58, \"n_batch/episode\": 1370}, \"val\": {\"n_unique_x\": 37459, \"n_unique_y\": 58, \"n_batch/episode\": 293}, \"test\": {\"n_unique_x\": 37873, \"n_unique_y\": 58, \"n_batch/episode\": 296}}, \"target\": {\"train\": {\"n_unique_x\": 175349, \"n_unique_y\": 58, \"n_batch/episode\": 1370}, \"val\": {\"n_unique_x\": 37459, \"n_unique_y\": 58, \"n_batch/episode\": 293}, \"test\": {\"n_unique_x\": 37873, \"n_unique_y\": 58, \"n_batch/episode\": 296}}}}'"
      ]
     },
     "execution_count": 20,
     "metadata": {},
     "output_type": "execute_result"
    }
   ],
   "source": [
    "json.dumps(experiment)"
   ]
  }
 ],
 "metadata": {
  "celltoolbar": "Tags",
  "kernelspec": {
   "display_name": "Python 3 (ipykernel)",
   "language": "python",
   "name": "python3"
  },
  "language_info": {
   "codemirror_mode": {
    "name": "ipython",
    "version": 3
   },
   "file_extension": ".py",
   "mimetype": "text/x-python",
   "name": "python",
   "nbconvert_exporter": "python",
   "pygments_lexer": "ipython3",
   "version": "3.8.12"
  },
  "papermill": {
   "default_parameters": {},
   "duration": 360.888961,
   "end_time": "2022-03-26T04:24:24.727037",
   "environment_variables": {},
   "exception": null,
   "input_path": "/root/csc500-main/csc500-notebooks/templates/cnn_template.ipynb",
   "output_path": "trial.ipynb",
   "parameters": {
    "parameters": {
     "BEST_MODEL_PATH": "./best_model.pth",
     "NUM_LOGS_PER_EPOCH": 10,
     "batch_size": 128,
     "criteria_for_best": "target_accuracy",
     "dataset_seed": 420,
     "device": "cuda",
     "domains_source": [
      1,
      2,
      3,
      4,
      5
     ],
     "domains_target": [
      1,
      2,
      3,
      4,
      5
     ],
     "experiment_name": "cnn_2:cores",
     "labels": [
      "1-10.",
      "1-11.",
      "1-15.",
      "1-16.",
      "1-17.",
      "1-18.",
      "1-19.",
      "10-4.",
      "10-7.",
      "11-1.",
      "11-14.",
      "11-17.",
      "11-20.",
      "11-7.",
      "13-20.",
      "13-8.",
      "14-10.",
      "14-11.",
      "14-14.",
      "14-7.",
      "15-1.",
      "15-20.",
      "16-1.",
      "16-16.",
      "17-10.",
      "17-11.",
      "17-2.",
      "19-1.",
      "19-16.",
      "19-19.",
      "19-20.",
      "19-3.",
      "2-10.",
      "2-11.",
      "2-17.",
      "2-18.",
      "2-20.",
      "2-3.",
      "2-4.",
      "2-5.",
      "2-6.",
      "2-7.",
      "2-8.",
      "3-13.",
      "3-18.",
      "3-3.",
      "4-1.",
      "4-10.",
      "4-11.",
      "4-19.",
      "5-5.",
      "6-15.",
      "7-10.",
      "7-14.",
      "8-18.",
      "8-20.",
      "8-3.",
      "8-8."
     ],
     "lr": 0.0001,
     "n_epoch": 50,
     "normalize_source": false,
     "normalize_target": false,
     "num_examples_per_domain_per_label_source": -1,
     "num_examples_per_domain_per_label_target": -1,
     "patience": 3,
     "pickle_name_source": "cores.stratified_ds.2022A.pkl",
     "pickle_name_target": "cores.stratified_ds.2022A.pkl",
     "seed": 420,
     "torch_default_dtype": "torch.float32",
     "x_net": [
      {
       "class": "nnReshape",
       "kargs": {
        "shape": [
         -1,
         1,
         2,
         256
        ]
       }
      },
      {
       "class": "Conv2d",
       "kargs": {
        "bias": false,
        "in_channels": 1,
        "kernel_size": [
         1,
         7
        ],
        "out_channels": 256,
        "padding": [
         0,
         3
        ]
       }
      },
      {
       "class": "ReLU",
       "kargs": {
        "inplace": true
       }
      },
      {
       "class": "BatchNorm2d",
       "kargs": {
        "num_features": 256
       }
      },
      {
       "class": "Conv2d",
       "kargs": {
        "bias": true,
        "in_channels": 256,
        "kernel_size": [
         2,
         7
        ],
        "out_channels": 80,
        "padding": [
         0,
         3
        ]
       }
      },
      {
       "class": "ReLU",
       "kargs": {
        "inplace": true
       }
      },
      {
       "class": "BatchNorm2d",
       "kargs": {
        "num_features": 80
       }
      },
      {
       "class": "Flatten",
       "kargs": {}
      },
      {
       "class": "Linear",
       "kargs": {
        "in_features": 20480,
        "out_features": 256
       }
      },
      {
       "class": "ReLU",
       "kargs": {
        "inplace": true
       }
      },
      {
       "class": "BatchNorm1d",
       "kargs": {
        "num_features": 256
       }
      },
      {
       "class": "Linear",
       "kargs": {
        "in_features": 256,
        "out_features": 58
       }
      }
     ]
    }
   },
   "start_time": "2022-03-26T04:18:23.838076",
   "version": "2.3.4"
  }
 },
 "nbformat": 4,
 "nbformat_minor": 5
}