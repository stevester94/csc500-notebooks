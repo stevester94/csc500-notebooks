{
 "cells": [
  {
   "cell_type": "code",
   "execution_count": 1,
   "id": "2324682e",
   "metadata": {
    "execution": {
     "iopub.execute_input": "2022-03-26T04:34:15.547638Z",
     "iopub.status.busy": "2022-03-26T04:34:15.546758Z",
     "iopub.status.idle": "2022-03-26T04:34:16.979399Z",
     "shell.execute_reply": "2022-03-26T04:34:16.978558Z"
    },
    "papermill": {
     "duration": 1.468934,
     "end_time": "2022-03-26T04:34:16.979603",
     "exception": false,
     "start_time": "2022-03-26T04:34:15.510669",
     "status": "completed"
    },
    "tags": []
   },
   "outputs": [],
   "source": [
    "import os, json, sys, time, random\n",
    "import numpy as np\n",
    "import torch\n",
    "from  easydict import EasyDict\n",
    "from math import floor\n",
    "from easydict import EasyDict\n",
    "\n",
    "from steves_utils.vanilla_train_eval_test_jig import  Vanilla_Train_Eval_Test_Jig\n",
    "\n",
    "from steves_utils.torch_utils import get_dataset_metrics, independent_accuracy_assesment\n",
    "from steves_models.configurable_vanilla import Configurable_Vanilla\n",
    "from steves_utils.torch_sequential_builder import build_sequential\n",
    "from steves_utils.lazy_map import Lazy_Map\n",
    "from steves_utils.sequence_aggregator import Sequence_Aggregator\n",
    "\n",
    "from steves_utils.stratified_dataset.traditional_accessor import Traditional_Accessor_Factory\n",
    "\n",
    "from steves_utils.cnn_do_report import (\n",
    "    get_loss_curve,\n",
    "    get_results_table,\n",
    "    get_parameters_table,\n",
    "    get_domain_accuracies,\n",
    ")\n",
    "\n",
    "from steves_utils.torch_utils import (\n",
    "    confusion_by_domain_over_dataloader,\n",
    "    independent_accuracy_assesment\n",
    ")\n",
    "\n",
    "from steves_utils.utils_v2 import (\n",
    "    per_domain_accuracy_from_confusion,\n",
    "    get_datasets_base_path\n",
    ")\n",
    "\n",
    "# from steves_utils.ptn_do_report import TBD"
   ]
  },
  {
   "cell_type": "code",
   "execution_count": 2,
   "id": "1b29e3fe",
   "metadata": {
    "execution": {
     "iopub.execute_input": "2022-03-26T04:34:17.018036Z",
     "iopub.status.busy": "2022-03-26T04:34:17.017475Z",
     "iopub.status.idle": "2022-03-26T04:34:17.019514Z",
     "shell.execute_reply": "2022-03-26T04:34:17.019810Z"
    },
    "papermill": {
     "duration": 0.021595,
     "end_time": "2022-03-26T04:34:17.019895",
     "exception": false,
     "start_time": "2022-03-26T04:34:16.998300",
     "status": "completed"
    },
    "tags": []
   },
   "outputs": [],
   "source": [
    "required_parameters = {\n",
    "    \"experiment_name\",\n",
    "    \"lr\",\n",
    "    \"device\",\n",
    "    \"dataset_seed\",\n",
    "    \"seed\",\n",
    "    \"labels\",\n",
    "    \"domains_target\",\n",
    "    \"domains_source\",\n",
    "    \"num_examples_per_domain_per_label_source\",\n",
    "    \"num_examples_per_domain_per_label_target\",\n",
    "    \"batch_size\",\n",
    "    \"n_epoch\",\n",
    "    \"patience\",\n",
    "    \"criteria_for_best\",\n",
    "    \"normalize_source\",\n",
    "    \"normalize_target\",\n",
    "    \"x_net\",\n",
    "    \"NUM_LOGS_PER_EPOCH\",\n",
    "    \"BEST_MODEL_PATH\",\n",
    "    \"pickle_name_source\",\n",
    "    \"pickle_name_target\",\n",
    "    \"torch_default_dtype\",\n",
    "}"
   ]
  },
  {
   "cell_type": "code",
   "execution_count": 3,
   "id": "670b5fb8",
   "metadata": {
    "execution": {
     "iopub.execute_input": "2022-03-26T04:34:17.063648Z",
     "iopub.status.busy": "2022-03-26T04:34:17.062730Z",
     "iopub.status.idle": "2022-03-26T04:34:17.069339Z",
     "shell.execute_reply": "2022-03-26T04:34:17.068631Z"
    },
    "papermill": {
     "duration": 0.031942,
     "end_time": "2022-03-26T04:34:17.069494",
     "exception": false,
     "start_time": "2022-03-26T04:34:17.037552",
     "status": "completed"
    },
    "tags": [
     "parameters"
    ]
   },
   "outputs": [],
   "source": [
    "from steves_utils.ORACLE.utils_v2 import (\n",
    "    ALL_SERIAL_NUMBERS,\n",
    "    ALL_DISTANCES_FEET_NARROWED,\n",
    ")\n",
    "\n",
    "standalone_parameters = {}\n",
    "standalone_parameters[\"experiment_name\"] = \"MANUAL CORES CNN\"\n",
    "standalone_parameters[\"lr\"] = 0.0001\n",
    "standalone_parameters[\"device\"] = \"cuda\"\n",
    "\n",
    "standalone_parameters[\"dataset_seed\"] = 1337\n",
    "standalone_parameters[\"seed\"] = 1337\n",
    "standalone_parameters[\"labels\"] = ALL_SERIAL_NUMBERS\n",
    "\n",
    "standalone_parameters[\"domains_source\"] = [8,32,50]\n",
    "standalone_parameters[\"domains_target\"] = [14,20,26,38,44,]\n",
    "\n",
    "standalone_parameters[\"num_examples_per_domain_per_label_source\"]=-1\n",
    "standalone_parameters[\"num_examples_per_domain_per_label_target\"]=-1\n",
    "\n",
    "standalone_parameters[\"pickle_name_source\"] = \"oracle.Run1_framed_2000Examples_stratified_ds.2022A.pkl\"\n",
    "standalone_parameters[\"pickle_name_target\"] = \"oracle.Run2_framed_2000Examples_stratified_ds.2022A.pkl\"\n",
    "\n",
    "standalone_parameters[\"torch_default_dtype\"] = \"torch.float32\" \n",
    "\n",
    "standalone_parameters[\"batch_size\"]=128\n",
    "\n",
    "standalone_parameters[\"n_epoch\"] = 3\n",
    "\n",
    "standalone_parameters[\"patience\"] = 10\n",
    "\n",
    "standalone_parameters[\"criteria_for_best\"] = \"target_accuracy\"\n",
    "standalone_parameters[\"normalize_source\"] = False\n",
    "standalone_parameters[\"normalize_target\"] = False\n",
    "\n",
    "standalone_parameters[\"x_net\"] =     [\n",
    "    {\"class\": \"nnReshape\", \"kargs\": {\"shape\":[-1, 1, 2, 256]}},\n",
    "    {\"class\": \"Conv2d\", \"kargs\": { \"in_channels\":1, \"out_channels\":256, \"kernel_size\":(1,7), \"bias\":False, \"padding\":(0,3), },},\n",
    "    {\"class\": \"ReLU\", \"kargs\": {\"inplace\": True}},\n",
    "    {\"class\": \"BatchNorm2d\", \"kargs\": {\"num_features\":256}},\n",
    "\n",
    "    {\"class\": \"Conv2d\", \"kargs\": { \"in_channels\":256, \"out_channels\":80, \"kernel_size\":(2,7), \"bias\":True, \"padding\":(0,3), },},\n",
    "    {\"class\": \"ReLU\", \"kargs\": {\"inplace\": True}},\n",
    "    {\"class\": \"BatchNorm2d\", \"kargs\": {\"num_features\":80}},\n",
    "    {\"class\": \"Flatten\", \"kargs\": {}},\n",
    "\n",
    "    {\"class\": \"Linear\", \"kargs\": {\"in_features\": 80*256, \"out_features\": 256}}, # 80 units per IQ pair\n",
    "    {\"class\": \"ReLU\", \"kargs\": {\"inplace\": True}},\n",
    "    {\"class\": \"BatchNorm1d\", \"kargs\": {\"num_features\":256}},\n",
    "\n",
    "    {\"class\": \"Linear\", \"kargs\": {\"in_features\": 256, \"out_features\": len(standalone_parameters[\"labels\"])}},\n",
    "]\n",
    "\n",
    "standalone_parameters[\"NUM_LOGS_PER_EPOCH\"] = 10\n",
    "standalone_parameters[\"BEST_MODEL_PATH\"] = \"./best_model.pth\""
   ]
  },
  {
   "cell_type": "code",
   "execution_count": 4,
   "id": "b49ca8dc",
   "metadata": {
    "execution": {
     "iopub.execute_input": "2022-03-26T04:34:17.118122Z",
     "iopub.status.busy": "2022-03-26T04:34:17.114891Z",
     "iopub.status.idle": "2022-03-26T04:34:17.120303Z",
     "shell.execute_reply": "2022-03-26T04:34:17.119778Z"
    },
    "papermill": {
     "duration": 0.031714,
     "end_time": "2022-03-26T04:34:17.120409",
     "exception": false,
     "start_time": "2022-03-26T04:34:17.088695",
     "status": "completed"
    },
    "tags": [
     "injected-parameters"
    ]
   },
   "outputs": [],
   "source": [
    "# Parameters\n",
    "parameters = {\n",
    "    \"experiment_name\": \"cnn_2:cores\",\n",
    "    \"device\": \"cuda\",\n",
    "    \"lr\": 0.0001,\n",
    "    \"labels\": [\n",
    "        \"1-10.\",\n",
    "        \"1-11.\",\n",
    "        \"1-15.\",\n",
    "        \"1-16.\",\n",
    "        \"1-17.\",\n",
    "        \"1-18.\",\n",
    "        \"1-19.\",\n",
    "        \"10-4.\",\n",
    "        \"10-7.\",\n",
    "        \"11-1.\",\n",
    "        \"11-14.\",\n",
    "        \"11-17.\",\n",
    "        \"11-20.\",\n",
    "        \"11-7.\",\n",
    "        \"13-20.\",\n",
    "        \"13-8.\",\n",
    "        \"14-10.\",\n",
    "        \"14-11.\",\n",
    "        \"14-14.\",\n",
    "        \"14-7.\",\n",
    "        \"15-1.\",\n",
    "        \"15-20.\",\n",
    "        \"16-1.\",\n",
    "        \"16-16.\",\n",
    "        \"17-10.\",\n",
    "        \"17-11.\",\n",
    "        \"17-2.\",\n",
    "        \"19-1.\",\n",
    "        \"19-16.\",\n",
    "        \"19-19.\",\n",
    "        \"19-20.\",\n",
    "        \"19-3.\",\n",
    "        \"2-10.\",\n",
    "        \"2-11.\",\n",
    "        \"2-17.\",\n",
    "        \"2-18.\",\n",
    "        \"2-20.\",\n",
    "        \"2-3.\",\n",
    "        \"2-4.\",\n",
    "        \"2-5.\",\n",
    "        \"2-6.\",\n",
    "        \"2-7.\",\n",
    "        \"2-8.\",\n",
    "        \"3-13.\",\n",
    "        \"3-18.\",\n",
    "        \"3-3.\",\n",
    "        \"4-1.\",\n",
    "        \"4-10.\",\n",
    "        \"4-11.\",\n",
    "        \"4-19.\",\n",
    "        \"5-5.\",\n",
    "        \"6-15.\",\n",
    "        \"7-10.\",\n",
    "        \"7-14.\",\n",
    "        \"8-18.\",\n",
    "        \"8-20.\",\n",
    "        \"8-3.\",\n",
    "        \"8-8.\",\n",
    "    ],\n",
    "    \"batch_size\": 128,\n",
    "    \"domains_source\": [1, 2, 3, 4, 5],\n",
    "    \"domains_target\": [1, 2, 3, 4, 5],\n",
    "    \"normalize_source\": False,\n",
    "    \"normalize_target\": False,\n",
    "    \"num_examples_per_domain_per_label_source\": -1,\n",
    "    \"num_examples_per_domain_per_label_target\": -1,\n",
    "    \"torch_default_dtype\": \"torch.float32\",\n",
    "    \"n_epoch\": 50,\n",
    "    \"patience\": 3,\n",
    "    \"criteria_for_best\": \"target_accuracy\",\n",
    "    \"x_net\": [\n",
    "        {\"class\": \"nnReshape\", \"kargs\": {\"shape\": [-1, 1, 2, 256]}},\n",
    "        {\n",
    "            \"class\": \"Conv2d\",\n",
    "            \"kargs\": {\n",
    "                \"in_channels\": 1,\n",
    "                \"out_channels\": 256,\n",
    "                \"kernel_size\": [1, 7],\n",
    "                \"bias\": False,\n",
    "                \"padding\": [0, 3],\n",
    "            },\n",
    "        },\n",
    "        {\"class\": \"ReLU\", \"kargs\": {\"inplace\": True}},\n",
    "        {\"class\": \"BatchNorm2d\", \"kargs\": {\"num_features\": 256}},\n",
    "        {\n",
    "            \"class\": \"Conv2d\",\n",
    "            \"kargs\": {\n",
    "                \"in_channels\": 256,\n",
    "                \"out_channels\": 80,\n",
    "                \"kernel_size\": [2, 7],\n",
    "                \"bias\": True,\n",
    "                \"padding\": [0, 3],\n",
    "            },\n",
    "        },\n",
    "        {\"class\": \"ReLU\", \"kargs\": {\"inplace\": True}},\n",
    "        {\"class\": \"BatchNorm2d\", \"kargs\": {\"num_features\": 80}},\n",
    "        {\"class\": \"Flatten\", \"kargs\": {}},\n",
    "        {\"class\": \"Linear\", \"kargs\": {\"in_features\": 20480, \"out_features\": 256}},\n",
    "        {\"class\": \"ReLU\", \"kargs\": {\"inplace\": True}},\n",
    "        {\"class\": \"BatchNorm1d\", \"kargs\": {\"num_features\": 256}},\n",
    "        {\"class\": \"Linear\", \"kargs\": {\"in_features\": 256, \"out_features\": 58}},\n",
    "    ],\n",
    "    \"NUM_LOGS_PER_EPOCH\": 10,\n",
    "    \"BEST_MODEL_PATH\": \"./best_model.pth\",\n",
    "    \"pickle_name_source\": \"cores.stratified_ds.2022A.pkl\",\n",
    "    \"pickle_name_target\": \"cores.stratified_ds.2022A.pkl\",\n",
    "    \"dataset_seed\": 7,\n",
    "    \"seed\": 7,\n",
    "}\n"
   ]
  },
  {
   "cell_type": "code",
   "execution_count": 5,
   "id": "759b56ec",
   "metadata": {
    "execution": {
     "iopub.execute_input": "2022-03-26T04:34:17.155657Z",
     "iopub.status.busy": "2022-03-26T04:34:17.155276Z",
     "iopub.status.idle": "2022-03-26T04:34:17.157935Z",
     "shell.execute_reply": "2022-03-26T04:34:17.157379Z"
    },
    "papermill": {
     "duration": 0.020211,
     "end_time": "2022-03-26T04:34:17.158042",
     "exception": false,
     "start_time": "2022-03-26T04:34:17.137831",
     "status": "completed"
    },
    "tags": []
   },
   "outputs": [],
   "source": [
    "# Set this to True if you want to run this template directly\n",
    "STANDALONE = False\n",
    "if STANDALONE:\n",
    "    print(\"parameters not injected, running with standalone_parameters\")\n",
    "    parameters = standalone_parameters\n",
    "\n",
    "if not 'parameters' in locals() and not 'parameters' in globals():\n",
    "    raise Exception(\"Parameter injection failed\")\n",
    "\n",
    "#Use an easy dict for all the parameters\n",
    "p = EasyDict(parameters)\n",
    "\n",
    "supplied_keys = set(p.keys())\n",
    "\n",
    "if  supplied_keys != required_parameters:\n",
    "    print(\"Parameters are incorrect\")\n",
    "    if len(supplied_keys - required_parameters)>0: print(\"Shouldn't have:\", str(supplied_keys - required_parameters))\n",
    "    if len(required_parameters - supplied_keys)>0: print(\"Need to have:\", str(required_parameters - supplied_keys))\n",
    "    raise RuntimeError(\"Parameters are incorrect\")\n",
    "\n"
   ]
  },
  {
   "cell_type": "code",
   "execution_count": 6,
   "id": "d5c66a71",
   "metadata": {
    "execution": {
     "iopub.execute_input": "2022-03-26T04:34:17.190648Z",
     "iopub.status.busy": "2022-03-26T04:34:17.190285Z",
     "iopub.status.idle": "2022-03-26T04:34:17.193288Z",
     "shell.execute_reply": "2022-03-26T04:34:17.192954Z"
    },
    "papermill": {
     "duration": 0.019938,
     "end_time": "2022-03-26T04:34:17.193357",
     "exception": false,
     "start_time": "2022-03-26T04:34:17.173419",
     "status": "completed"
    },
    "tags": []
   },
   "outputs": [],
   "source": [
    "###################################\n",
    "# Set the RNGs and make it all deterministic\n",
    "###################################\n",
    "np.random.seed(p.seed)\n",
    "random.seed(p.seed)\n",
    "torch.manual_seed(p.seed)\n",
    "\n",
    "torch.use_deterministic_algorithms(True) "
   ]
  },
  {
   "cell_type": "code",
   "execution_count": 7,
   "id": "92a65876",
   "metadata": {
    "execution": {
     "iopub.execute_input": "2022-03-26T04:34:17.228567Z",
     "iopub.status.busy": "2022-03-26T04:34:17.228204Z",
     "iopub.status.idle": "2022-03-26T04:34:17.230338Z",
     "shell.execute_reply": "2022-03-26T04:34:17.230637Z"
    },
    "papermill": {
     "duration": 0.019956,
     "end_time": "2022-03-26T04:34:17.230717",
     "exception": false,
     "start_time": "2022-03-26T04:34:17.210761",
     "status": "completed"
    },
    "tags": []
   },
   "outputs": [],
   "source": [
    "torch.set_default_dtype(eval(p.torch_default_dtype))"
   ]
  },
  {
   "cell_type": "code",
   "execution_count": 8,
   "id": "f1a32f01",
   "metadata": {
    "execution": {
     "iopub.execute_input": "2022-03-26T04:34:17.266351Z",
     "iopub.status.busy": "2022-03-26T04:34:17.265792Z",
     "iopub.status.idle": "2022-03-26T04:34:17.304987Z",
     "shell.execute_reply": "2022-03-26T04:34:17.304286Z"
    },
    "papermill": {
     "duration": 0.05688,
     "end_time": "2022-03-26T04:34:17.305142",
     "exception": false,
     "start_time": "2022-03-26T04:34:17.248262",
     "status": "completed"
    },
    "tags": []
   },
   "outputs": [],
   "source": [
    "###################################\n",
    "# Build the network(s)\n",
    "# Note: It's critical to do this AFTER setting the RNG\n",
    "###################################\n",
    "x_net = build_sequential(p.x_net)"
   ]
  },
  {
   "cell_type": "code",
   "execution_count": 9,
   "id": "a276cd83",
   "metadata": {
    "execution": {
     "iopub.execute_input": "2022-03-26T04:34:17.339351Z",
     "iopub.status.busy": "2022-03-26T04:34:17.338990Z",
     "iopub.status.idle": "2022-03-26T04:34:17.341209Z",
     "shell.execute_reply": "2022-03-26T04:34:17.340845Z"
    },
    "papermill": {
     "duration": 0.018572,
     "end_time": "2022-03-26T04:34:17.341433",
     "exception": false,
     "start_time": "2022-03-26T04:34:17.322861",
     "status": "completed"
    },
    "tags": []
   },
   "outputs": [],
   "source": [
    "start_time_secs = time.time()"
   ]
  },
  {
   "cell_type": "code",
   "execution_count": 10,
   "id": "de702e48",
   "metadata": {
    "execution": {
     "iopub.execute_input": "2022-03-26T04:34:17.387011Z",
     "iopub.status.busy": "2022-03-26T04:34:17.374699Z",
     "iopub.status.idle": "2022-03-26T04:34:24.168323Z",
     "shell.execute_reply": "2022-03-26T04:34:24.167595Z"
    },
    "papermill": {
     "duration": 6.810298,
     "end_time": "2022-03-26T04:34:24.168508",
     "exception": false,
     "start_time": "2022-03-26T04:34:17.358210",
     "status": "completed"
    },
    "tags": []
   },
   "outputs": [],
   "source": [
    "def wrap_in_dataloader(p, ds):\n",
    "    return torch.utils.data.DataLoader(\n",
    "        ds,\n",
    "        batch_size=p.batch_size,\n",
    "        shuffle=True,\n",
    "        num_workers=1,\n",
    "        persistent_workers=True,\n",
    "        prefetch_factor=50,\n",
    "        pin_memory=True\n",
    "    )\n",
    "\n",
    "taf_source = Traditional_Accessor_Factory(\n",
    "    labels=p.labels,\n",
    "    domains=p.domains_source,\n",
    "    num_examples_per_domain_per_label=p.num_examples_per_domain_per_label_source,\n",
    "    pickle_path=os.path.join(get_datasets_base_path(), p.pickle_name_source),\n",
    "    seed=p.dataset_seed\n",
    ")\n",
    "train_original_source, val_original_source, test_original_source = \\\n",
    "    taf_source.get_train(), taf_source.get_val(), taf_source.get_test()\n",
    "\n",
    "\n",
    "taf_target = Traditional_Accessor_Factory(\n",
    "    labels=p.labels,\n",
    "    domains=p.domains_target,\n",
    "    num_examples_per_domain_per_label=p.num_examples_per_domain_per_label_source,\n",
    "    pickle_path=os.path.join(get_datasets_base_path(), p.pickle_name_target),\n",
    "    seed=p.dataset_seed\n",
    ")\n",
    "train_original_target, val_original_target, test_original_target = \\\n",
    "    taf_target.get_train(), taf_target.get_val(), taf_target.get_test()\n",
    "\n",
    "\n",
    "# For CNN We only use X and Y. And we only train on the source.\n",
    "# Properly form the data using a transform lambda and Lazy_Map. Finally wrap them in a dataloader\n",
    "\n",
    "transform_lambda = lambda ex: ex[:2] # Strip the tuple to just (x,y)\n",
    "\n",
    "\n",
    "train_processed_source = wrap_in_dataloader(\n",
    "    p,\n",
    "    Lazy_Map(train_original_source, transform_lambda)\n",
    ")\n",
    "val_processed_source = wrap_in_dataloader(\n",
    "    p,\n",
    "    Lazy_Map(val_original_source, transform_lambda)\n",
    ")\n",
    "test_processed_source = wrap_in_dataloader(\n",
    "    p,\n",
    "    Lazy_Map(test_original_source, transform_lambda)\n",
    ")\n",
    "\n",
    "train_processed_target = wrap_in_dataloader(\n",
    "    p,\n",
    "    Lazy_Map(train_original_target, transform_lambda)\n",
    ")\n",
    "val_processed_target = wrap_in_dataloader(\n",
    "    p,\n",
    "    Lazy_Map(val_original_target, transform_lambda)\n",
    ")\n",
    "test_processed_target  = wrap_in_dataloader(\n",
    "    p,\n",
    "    Lazy_Map(test_original_target, transform_lambda)\n",
    ")\n",
    "\n",
    "\n",
    "\n",
    "datasets = EasyDict({\n",
    "    \"source\": {\n",
    "        \"original\": {\"train\":train_original_source, \"val\":val_original_source, \"test\":test_original_source},\n",
    "        \"processed\": {\"train\":train_processed_source, \"val\":val_processed_source, \"test\":test_processed_source}\n",
    "    },\n",
    "    \"target\": {\n",
    "        \"original\": {\"train\":train_original_target, \"val\":val_original_target, \"test\":test_original_target},\n",
    "        \"processed\": {\"train\":train_processed_target, \"val\":val_processed_target, \"test\":test_processed_target}\n",
    "    },\n",
    "})"
   ]
  },
  {
   "cell_type": "code",
   "execution_count": 11,
   "id": "a11b26bd",
   "metadata": {
    "execution": {
     "iopub.execute_input": "2022-03-26T04:34:24.243074Z",
     "iopub.status.busy": "2022-03-26T04:34:24.242259Z",
     "iopub.status.idle": "2022-03-26T04:34:29.434988Z",
     "shell.execute_reply": "2022-03-26T04:34:29.434286Z"
    },
    "papermill": {
     "duration": 5.248146,
     "end_time": "2022-03-26T04:34:29.435167",
     "exception": false,
     "start_time": "2022-03-26T04:34:24.187021",
     "status": "completed"
    },
    "tags": []
   },
   "outputs": [
    {
     "data": {
      "text/plain": [
       "torch.float32"
      ]
     },
     "execution_count": 11,
     "metadata": {},
     "output_type": "execute_result"
    }
   ],
   "source": [
    "ep = next(iter(test_processed_target))\n",
    "ep[0].dtype"
   ]
  },
  {
   "cell_type": "code",
   "execution_count": 12,
   "id": "19425fad",
   "metadata": {
    "execution": {
     "iopub.execute_input": "2022-03-26T04:34:29.473999Z",
     "iopub.status.busy": "2022-03-26T04:34:29.473361Z",
     "iopub.status.idle": "2022-03-26T04:34:29.520226Z",
     "shell.execute_reply": "2022-03-26T04:34:29.519493Z"
    },
    "papermill": {
     "duration": 0.067088,
     "end_time": "2022-03-26T04:34:29.520397",
     "exception": false,
     "start_time": "2022-03-26T04:34:29.453309",
     "status": "completed"
    },
    "tags": []
   },
   "outputs": [],
   "source": [
    "model = Configurable_Vanilla(\n",
    "    x_net=x_net,\n",
    "    label_loss_object=torch.nn.NLLLoss(),\n",
    "    learning_rate=p.lr\n",
    ")"
   ]
  },
  {
   "cell_type": "code",
   "execution_count": 13,
   "id": "7f6d4f2c",
   "metadata": {
    "execution": {
     "iopub.execute_input": "2022-03-26T04:34:29.560839Z",
     "iopub.status.busy": "2022-03-26T04:34:29.560250Z",
     "iopub.status.idle": "2022-03-26T04:39:41.282935Z",
     "shell.execute_reply": "2022-03-26T04:39:41.282219Z"
    },
    "papermill": {
     "duration": 311.743208,
     "end_time": "2022-03-26T04:39:41.283114",
     "exception": false,
     "start_time": "2022-03-26T04:34:29.539906",
     "status": "completed"
    },
    "tags": []
   },
   "outputs": [
    {
     "name": "stdout",
     "output_type": "stream",
     "text": [
      "epoch: 1, [batch: 1 / 1370], examples_per_second: 736.7092, train_label_loss: 3.9914, \n"
     ]
    },
    {
     "name": "stdout",
     "output_type": "stream",
     "text": [
      "epoch: 1, [batch: 137 / 1370], examples_per_second: 11665.3617, train_label_loss: 1.7434, \n"
     ]
    },
    {
     "name": "stdout",
     "output_type": "stream",
     "text": [
      "epoch: 1, [batch: 274 / 1370], examples_per_second: 11661.5104, train_label_loss: 0.8787, \n"
     ]
    },
    {
     "name": "stdout",
     "output_type": "stream",
     "text": [
      "epoch: 1, [batch: 411 / 1370], examples_per_second: 11733.4606, train_label_loss: 0.4223, \n"
     ]
    },
    {
     "name": "stdout",
     "output_type": "stream",
     "text": [
      "epoch: 1, [batch: 548 / 1370], examples_per_second: 11718.9776, train_label_loss: 0.2911, \n"
     ]
    },
    {
     "name": "stdout",
     "output_type": "stream",
     "text": [
      "epoch: 1, [batch: 685 / 1370], examples_per_second: 11599.9371, train_label_loss: 0.1721, \n"
     ]
    },
    {
     "name": "stdout",
     "output_type": "stream",
     "text": [
      "epoch: 1, [batch: 822 / 1370], examples_per_second: 11721.9864, train_label_loss: 0.2239, \n"
     ]
    },
    {
     "name": "stdout",
     "output_type": "stream",
     "text": [
      "epoch: 1, [batch: 959 / 1370], examples_per_second: 11683.7435, train_label_loss: 0.1256, \n"
     ]
    },
    {
     "name": "stdout",
     "output_type": "stream",
     "text": [
      "epoch: 1, [batch: 1096 / 1370], examples_per_second: 11633.5442, train_label_loss: 0.0768, \n"
     ]
    },
    {
     "name": "stdout",
     "output_type": "stream",
     "text": [
      "epoch: 1, [batch: 1233 / 1370], examples_per_second: 11636.3565, train_label_loss: 0.0886, \n"
     ]
    },
    {
     "name": "stdout",
     "output_type": "stream",
     "text": [
      "=============================================================\n",
      "epoch: 1, source_val_acc_label: 0.9921, source_val_label_loss: 0.0646, target_val_acc_label: 0.9921, target_val_label_loss: 0.0647, \n",
      "=============================================================\n"
     ]
    },
    {
     "name": "stdout",
     "output_type": "stream",
     "text": [
      "New best\n",
      "epoch: 2, [batch: 1 / 1370], examples_per_second: 57.3989, train_label_loss: 0.0590, \n"
     ]
    },
    {
     "name": "stdout",
     "output_type": "stream",
     "text": [
      "epoch: 2, [batch: 137 / 1370], examples_per_second: 11672.9895, train_label_loss: 0.0402, \n"
     ]
    },
    {
     "name": "stdout",
     "output_type": "stream",
     "text": [
      "epoch: 2, [batch: 274 / 1370], examples_per_second: 11630.9393, train_label_loss: 0.0554, \n"
     ]
    },
    {
     "name": "stdout",
     "output_type": "stream",
     "text": [
      "epoch: 2, [batch: 411 / 1370], examples_per_second: 11529.8433, train_label_loss: 0.0656, \n"
     ]
    },
    {
     "name": "stdout",
     "output_type": "stream",
     "text": [
      "epoch: 2, [batch: 548 / 1370], examples_per_second: 11607.2430, train_label_loss: 0.0238, \n"
     ]
    },
    {
     "name": "stdout",
     "output_type": "stream",
     "text": [
      "epoch: 2, [batch: 685 / 1370], examples_per_second: 11693.0865, train_label_loss: 0.0230, \n"
     ]
    },
    {
     "name": "stdout",
     "output_type": "stream",
     "text": [
      "epoch: 2, [batch: 822 / 1370], examples_per_second: 11697.6911, train_label_loss: 0.0442, \n"
     ]
    },
    {
     "name": "stdout",
     "output_type": "stream",
     "text": [
      "epoch: 2, [batch: 959 / 1370], examples_per_second: 11630.7590, train_label_loss: 0.0167, \n"
     ]
    },
    {
     "name": "stdout",
     "output_type": "stream",
     "text": [
      "epoch: 2, [batch: 1096 / 1370], examples_per_second: 11593.8847, train_label_loss: 0.0330, \n"
     ]
    },
    {
     "name": "stdout",
     "output_type": "stream",
     "text": [
      "epoch: 2, [batch: 1233 / 1370], examples_per_second: 11684.4469, train_label_loss: 0.0276, \n"
     ]
    },
    {
     "name": "stdout",
     "output_type": "stream",
     "text": [
      "=============================================================\n",
      "epoch: 2, source_val_acc_label: 0.9907, source_val_label_loss: 0.0386, target_val_acc_label: 0.9907, target_val_label_loss: 0.0386, \n",
      "=============================================================\n"
     ]
    },
    {
     "name": "stdout",
     "output_type": "stream",
     "text": [
      "epoch: 3, [batch: 1 / 1370], examples_per_second: 65.4982, train_label_loss: 0.0279, \n"
     ]
    },
    {
     "name": "stdout",
     "output_type": "stream",
     "text": [
      "epoch: 3, [batch: 137 / 1370], examples_per_second: 11699.5628, train_label_loss: 0.0088, \n"
     ]
    },
    {
     "name": "stdout",
     "output_type": "stream",
     "text": [
      "epoch: 3, [batch: 274 / 1370], examples_per_second: 11718.7423, train_label_loss: 0.0130, \n"
     ]
    },
    {
     "name": "stdout",
     "output_type": "stream",
     "text": [
      "epoch: 3, [batch: 411 / 1370], examples_per_second: 11652.6460, train_label_loss: 0.0120, \n"
     ]
    },
    {
     "name": "stdout",
     "output_type": "stream",
     "text": [
      "epoch: 3, [batch: 548 / 1370], examples_per_second: 11596.6285, train_label_loss: 0.0106, \n"
     ]
    },
    {
     "name": "stdout",
     "output_type": "stream",
     "text": [
      "epoch: 3, [batch: 685 / 1370], examples_per_second: 11545.6835, train_label_loss: 0.0310, \n"
     ]
    },
    {
     "name": "stdout",
     "output_type": "stream",
     "text": [
      "epoch: 3, [batch: 822 / 1370], examples_per_second: 11640.0083, train_label_loss: 0.0482, \n"
     ]
    },
    {
     "name": "stdout",
     "output_type": "stream",
     "text": [
      "epoch: 3, [batch: 959 / 1370], examples_per_second: 11576.8224, train_label_loss: 0.0043, \n"
     ]
    },
    {
     "name": "stdout",
     "output_type": "stream",
     "text": [
      "epoch: 3, [batch: 1096 / 1370], examples_per_second: 11568.2991, train_label_loss: 0.0095, \n"
     ]
    },
    {
     "name": "stdout",
     "output_type": "stream",
     "text": [
      "epoch: 3, [batch: 1233 / 1370], examples_per_second: 11482.3925, train_label_loss: 0.0106, \n"
     ]
    },
    {
     "name": "stdout",
     "output_type": "stream",
     "text": [
      "=============================================================\n",
      "epoch: 3, source_val_acc_label: 0.9933, source_val_label_loss: 0.0288, target_val_acc_label: 0.9933, target_val_label_loss: 0.0288, \n",
      "=============================================================\n"
     ]
    },
    {
     "name": "stdout",
     "output_type": "stream",
     "text": [
      "New best\n",
      "epoch: 4, [batch: 1 / 1370], examples_per_second: 64.8125, train_label_loss: 0.0042, \n"
     ]
    },
    {
     "name": "stdout",
     "output_type": "stream",
     "text": [
      "epoch: 4, [batch: 137 / 1370], examples_per_second: 11571.9938, train_label_loss: 0.0028, \n"
     ]
    },
    {
     "name": "stdout",
     "output_type": "stream",
     "text": [
      "epoch: 4, [batch: 274 / 1370], examples_per_second: 11669.3088, train_label_loss: 0.0894, \n"
     ]
    },
    {
     "name": "stdout",
     "output_type": "stream",
     "text": [
      "epoch: 4, [batch: 411 / 1370], examples_per_second: 11573.3194, train_label_loss: 0.0039, \n"
     ]
    },
    {
     "name": "stdout",
     "output_type": "stream",
     "text": [
      "epoch: 4, [batch: 548 / 1370], examples_per_second: 11646.0462, train_label_loss: 0.0070, \n"
     ]
    },
    {
     "name": "stdout",
     "output_type": "stream",
     "text": [
      "epoch: 4, [batch: 685 / 1370], examples_per_second: 11595.7400, train_label_loss: 0.0196, \n"
     ]
    },
    {
     "name": "stdout",
     "output_type": "stream",
     "text": [
      "epoch: 4, [batch: 822 / 1370], examples_per_second: 11630.1025, train_label_loss: 0.0066, \n"
     ]
    },
    {
     "name": "stdout",
     "output_type": "stream",
     "text": [
      "epoch: 4, [batch: 959 / 1370], examples_per_second: 11635.4932, train_label_loss: 0.0041, \n"
     ]
    },
    {
     "name": "stdout",
     "output_type": "stream",
     "text": [
      "epoch: 4, [batch: 1096 / 1370], examples_per_second: 11533.9223, train_label_loss: 0.0168, \n"
     ]
    },
    {
     "name": "stdout",
     "output_type": "stream",
     "text": [
      "epoch: 4, [batch: 1233 / 1370], examples_per_second: 11712.4516, train_label_loss: 0.0123, \n"
     ]
    },
    {
     "name": "stdout",
     "output_type": "stream",
     "text": [
      "=============================================================\n",
      "epoch: 4, source_val_acc_label: 0.9580, source_val_label_loss: 0.1782, target_val_acc_label: 0.9580, target_val_label_loss: 0.1784, \n",
      "=============================================================\n"
     ]
    },
    {
     "name": "stdout",
     "output_type": "stream",
     "text": [
      "epoch: 5, [batch: 1 / 1370], examples_per_second: 65.7950, train_label_loss: 0.0016, \n"
     ]
    },
    {
     "name": "stdout",
     "output_type": "stream",
     "text": [
      "epoch: 5, [batch: 137 / 1370], examples_per_second: 11602.3329, train_label_loss: 0.0074, \n"
     ]
    },
    {
     "name": "stdout",
     "output_type": "stream",
     "text": [
      "epoch: 5, [batch: 274 / 1370], examples_per_second: 11714.0913, train_label_loss: 0.0036, \n"
     ]
    },
    {
     "name": "stdout",
     "output_type": "stream",
     "text": [
      "epoch: 5, [batch: 411 / 1370], examples_per_second: 11707.4813, train_label_loss: 0.0066, \n"
     ]
    },
    {
     "name": "stdout",
     "output_type": "stream",
     "text": [
      "epoch: 5, [batch: 548 / 1370], examples_per_second: 11643.7785, train_label_loss: 0.0018, \n"
     ]
    },
    {
     "name": "stdout",
     "output_type": "stream",
     "text": [
      "epoch: 5, [batch: 685 / 1370], examples_per_second: 11737.1661, train_label_loss: 0.0023, \n"
     ]
    },
    {
     "name": "stdout",
     "output_type": "stream",
     "text": [
      "epoch: 5, [batch: 822 / 1370], examples_per_second: 11684.5806, train_label_loss: 0.0088, \n"
     ]
    },
    {
     "name": "stdout",
     "output_type": "stream",
     "text": [
      "epoch: 5, [batch: 959 / 1370], examples_per_second: 11744.1359, train_label_loss: 0.0020, \n"
     ]
    },
    {
     "name": "stdout",
     "output_type": "stream",
     "text": [
      "epoch: 5, [batch: 1096 / 1370], examples_per_second: 11702.2006, train_label_loss: 0.0065, \n"
     ]
    },
    {
     "name": "stdout",
     "output_type": "stream",
     "text": [
      "epoch: 5, [batch: 1233 / 1370], examples_per_second: 11702.1317, train_label_loss: 0.0064, \n"
     ]
    },
    {
     "name": "stdout",
     "output_type": "stream",
     "text": [
      "=============================================================\n",
      "epoch: 5, source_val_acc_label: 0.9790, source_val_label_loss: 0.0641, target_val_acc_label: 0.9790, target_val_label_loss: 0.0641, \n",
      "=============================================================\n"
     ]
    },
    {
     "name": "stdout",
     "output_type": "stream",
     "text": [
      "epoch: 6, [batch: 1 / 1370], examples_per_second: 66.5271, train_label_loss: 0.0088, \n"
     ]
    },
    {
     "name": "stdout",
     "output_type": "stream",
     "text": [
      "epoch: 6, [batch: 137 / 1370], examples_per_second: 11645.0896, train_label_loss: 0.0016, \n"
     ]
    },
    {
     "name": "stdout",
     "output_type": "stream",
     "text": [
      "epoch: 6, [batch: 274 / 1370], examples_per_second: 11724.2548, train_label_loss: 0.0008, \n"
     ]
    },
    {
     "name": "stdout",
     "output_type": "stream",
     "text": [
      "epoch: 6, [batch: 411 / 1370], examples_per_second: 11748.7338, train_label_loss: 0.0008, \n"
     ]
    },
    {
     "name": "stdout",
     "output_type": "stream",
     "text": [
      "epoch: 6, [batch: 548 / 1370], examples_per_second: 11731.3795, train_label_loss: 0.0021, \n"
     ]
    },
    {
     "name": "stdout",
     "output_type": "stream",
     "text": [
      "epoch: 6, [batch: 685 / 1370], examples_per_second: 11717.6837, train_label_loss: 0.0185, \n"
     ]
    },
    {
     "name": "stdout",
     "output_type": "stream",
     "text": [
      "epoch: 6, [batch: 822 / 1370], examples_per_second: 11694.0886, train_label_loss: 0.0018, \n"
     ]
    },
    {
     "name": "stdout",
     "output_type": "stream",
     "text": [
      "epoch: 6, [batch: 959 / 1370], examples_per_second: 11674.5413, train_label_loss: 0.0046, \n"
     ]
    },
    {
     "name": "stdout",
     "output_type": "stream",
     "text": [
      "epoch: 6, [batch: 1096 / 1370], examples_per_second: 11696.8707, train_label_loss: 0.0021, \n"
     ]
    },
    {
     "name": "stdout",
     "output_type": "stream",
     "text": [
      "epoch: 6, [batch: 1233 / 1370], examples_per_second: 11672.3199, train_label_loss: 0.0015, \n"
     ]
    },
    {
     "name": "stdout",
     "output_type": "stream",
     "text": [
      "=============================================================\n",
      "epoch: 6, source_val_acc_label: 0.9974, source_val_label_loss: 0.0104, target_val_acc_label: 0.9974, target_val_label_loss: 0.0104, \n",
      "=============================================================\n"
     ]
    },
    {
     "name": "stdout",
     "output_type": "stream",
     "text": [
      "New best\n",
      "epoch: 7, [batch: 1 / 1370], examples_per_second: 65.4445, train_label_loss: 0.0006, \n"
     ]
    },
    {
     "name": "stdout",
     "output_type": "stream",
     "text": [
      "epoch: 7, [batch: 137 / 1370], examples_per_second: 11698.4399, train_label_loss: 0.0013, \n"
     ]
    },
    {
     "name": "stdout",
     "output_type": "stream",
     "text": [
      "epoch: 7, [batch: 274 / 1370], examples_per_second: 12262.6809, train_label_loss: 0.0010, \n"
     ]
    },
    {
     "name": "stdout",
     "output_type": "stream",
     "text": [
      "epoch: 7, [batch: 411 / 1370], examples_per_second: 12406.1024, train_label_loss: 0.0027, \n"
     ]
    },
    {
     "name": "stdout",
     "output_type": "stream",
     "text": [
      "epoch: 7, [batch: 548 / 1370], examples_per_second: 11687.8113, train_label_loss: 0.0013, \n"
     ]
    },
    {
     "name": "stdout",
     "output_type": "stream",
     "text": [
      "epoch: 7, [batch: 685 / 1370], examples_per_second: 11594.4349, train_label_loss: 0.0035, \n"
     ]
    },
    {
     "name": "stdout",
     "output_type": "stream",
     "text": [
      "epoch: 7, [batch: 822 / 1370], examples_per_second: 11595.2757, train_label_loss: 0.0081, \n"
     ]
    },
    {
     "name": "stdout",
     "output_type": "stream",
     "text": [
      "epoch: 7, [batch: 959 / 1370], examples_per_second: 11667.9038, train_label_loss: 0.0042, \n"
     ]
    },
    {
     "name": "stdout",
     "output_type": "stream",
     "text": [
      "epoch: 7, [batch: 1096 / 1370], examples_per_second: 11768.7715, train_label_loss: 0.0005, \n"
     ]
    },
    {
     "name": "stdout",
     "output_type": "stream",
     "text": [
      "epoch: 7, [batch: 1233 / 1370], examples_per_second: 11784.5655, train_label_loss: 0.0025, \n"
     ]
    },
    {
     "name": "stdout",
     "output_type": "stream",
     "text": [
      "=============================================================\n",
      "epoch: 7, source_val_acc_label: 0.9975, source_val_label_loss: 0.0094, target_val_acc_label: 0.9975, target_val_label_loss: 0.0094, \n",
      "=============================================================\n"
     ]
    },
    {
     "name": "stdout",
     "output_type": "stream",
     "text": [
      "New best\n",
      "epoch: 8, [batch: 1 / 1370], examples_per_second: 65.9246, train_label_loss: 0.0003, \n"
     ]
    },
    {
     "name": "stdout",
     "output_type": "stream",
     "text": [
      "epoch: 8, [batch: 137 / 1370], examples_per_second: 11763.4411, train_label_loss: 0.0167, \n"
     ]
    },
    {
     "name": "stdout",
     "output_type": "stream",
     "text": [
      "epoch: 8, [batch: 274 / 1370], examples_per_second: 11716.3435, train_label_loss: 0.0013, \n"
     ]
    },
    {
     "name": "stdout",
     "output_type": "stream",
     "text": [
      "epoch: 8, [batch: 411 / 1370], examples_per_second: 11733.0394, train_label_loss: 0.0006, \n"
     ]
    },
    {
     "name": "stdout",
     "output_type": "stream",
     "text": [
      "epoch: 8, [batch: 548 / 1370], examples_per_second: 11698.5879, train_label_loss: 0.0002, \n"
     ]
    },
    {
     "name": "stdout",
     "output_type": "stream",
     "text": [
      "epoch: 8, [batch: 685 / 1370], examples_per_second: 11734.5070, train_label_loss: 0.0004, \n"
     ]
    },
    {
     "name": "stdout",
     "output_type": "stream",
     "text": [
      "epoch: 8, [batch: 822 / 1370], examples_per_second: 11613.7989, train_label_loss: 0.0009, \n"
     ]
    },
    {
     "name": "stdout",
     "output_type": "stream",
     "text": [
      "epoch: 8, [batch: 959 / 1370], examples_per_second: 11776.4219, train_label_loss: 0.0012, \n"
     ]
    },
    {
     "name": "stdout",
     "output_type": "stream",
     "text": [
      "epoch: 8, [batch: 1096 / 1370], examples_per_second: 11645.1224, train_label_loss: 0.0005, \n"
     ]
    },
    {
     "name": "stdout",
     "output_type": "stream",
     "text": [
      "epoch: 8, [batch: 1233 / 1370], examples_per_second: 11683.4818, train_label_loss: 0.0044, \n"
     ]
    },
    {
     "name": "stdout",
     "output_type": "stream",
     "text": [
      "=============================================================\n",
      "epoch: 8, source_val_acc_label: 0.9967, source_val_label_loss: 0.0129, target_val_acc_label: 0.9967, target_val_label_loss: 0.0128, \n",
      "=============================================================\n"
     ]
    },
    {
     "name": "stdout",
     "output_type": "stream",
     "text": [
      "epoch: 9, [batch: 1 / 1370], examples_per_second: 66.1974, train_label_loss: 0.0007, \n"
     ]
    },
    {
     "name": "stdout",
     "output_type": "stream",
     "text": [
      "epoch: 9, [batch: 137 / 1370], examples_per_second: 11705.5311, train_label_loss: 0.0013, \n"
     ]
    },
    {
     "name": "stdout",
     "output_type": "stream",
     "text": [
      "epoch: 9, [batch: 274 / 1370], examples_per_second: 11701.2176, train_label_loss: 0.0029, \n"
     ]
    },
    {
     "name": "stdout",
     "output_type": "stream",
     "text": [
      "epoch: 9, [batch: 411 / 1370], examples_per_second: 11741.8598, train_label_loss: 0.0006, \n"
     ]
    },
    {
     "name": "stdout",
     "output_type": "stream",
     "text": [
      "epoch: 9, [batch: 548 / 1370], examples_per_second: 11771.8474, train_label_loss: 0.0021, \n"
     ]
    },
    {
     "name": "stdout",
     "output_type": "stream",
     "text": [
      "epoch: 9, [batch: 685 / 1370], examples_per_second: 11715.0447, train_label_loss: 0.0011, \n"
     ]
    },
    {
     "name": "stdout",
     "output_type": "stream",
     "text": [
      "epoch: 9, [batch: 822 / 1370], examples_per_second: 11710.1505, train_label_loss: 0.0022, \n"
     ]
    },
    {
     "name": "stdout",
     "output_type": "stream",
     "text": [
      "epoch: 9, [batch: 959 / 1370], examples_per_second: 11650.2096, train_label_loss: 0.0003, \n"
     ]
    },
    {
     "name": "stdout",
     "output_type": "stream",
     "text": [
      "epoch: 9, [batch: 1096 / 1370], examples_per_second: 11651.2117, train_label_loss: 0.0003, \n"
     ]
    },
    {
     "name": "stdout",
     "output_type": "stream",
     "text": [
      "epoch: 9, [batch: 1233 / 1370], examples_per_second: 11653.7131, train_label_loss: 0.0068, \n"
     ]
    },
    {
     "name": "stdout",
     "output_type": "stream",
     "text": [
      "=============================================================\n",
      "epoch: 9, source_val_acc_label: 0.9972, source_val_label_loss: 0.0114, target_val_acc_label: 0.9972, target_val_label_loss: 0.0114, \n",
      "=============================================================\n"
     ]
    },
    {
     "name": "stdout",
     "output_type": "stream",
     "text": [
      "epoch: 10, [batch: 1 / 1370], examples_per_second: 66.3740, train_label_loss: 0.0038, \n"
     ]
    },
    {
     "name": "stdout",
     "output_type": "stream",
     "text": [
      "epoch: 10, [batch: 137 / 1370], examples_per_second: 11701.1190, train_label_loss: 0.0003, \n"
     ]
    },
    {
     "name": "stdout",
     "output_type": "stream",
     "text": [
      "epoch: 10, [batch: 274 / 1370], examples_per_second: 11699.4401, train_label_loss: 0.0014, \n"
     ]
    },
    {
     "name": "stdout",
     "output_type": "stream",
     "text": [
      "epoch: 10, [batch: 411 / 1370], examples_per_second: 11691.7798, train_label_loss: 0.0006, \n"
     ]
    },
    {
     "name": "stdout",
     "output_type": "stream",
     "text": [
      "epoch: 10, [batch: 548 / 1370], examples_per_second: 11673.0535, train_label_loss: 0.0007, \n"
     ]
    },
    {
     "name": "stdout",
     "output_type": "stream",
     "text": [
      "epoch: 10, [batch: 685 / 1370], examples_per_second: 11652.5001, train_label_loss: 0.0002, \n"
     ]
    },
    {
     "name": "stdout",
     "output_type": "stream",
     "text": [
      "epoch: 10, [batch: 822 / 1370], examples_per_second: 11689.3531, train_label_loss: 0.0043, \n"
     ]
    },
    {
     "name": "stdout",
     "output_type": "stream",
     "text": [
      "epoch: 10, [batch: 959 / 1370], examples_per_second: 11691.9657, train_label_loss: 0.0003, \n"
     ]
    },
    {
     "name": "stdout",
     "output_type": "stream",
     "text": [
      "epoch: 10, [batch: 1096 / 1370], examples_per_second: 11695.3660, train_label_loss: 0.0003, \n"
     ]
    },
    {
     "name": "stdout",
     "output_type": "stream",
     "text": [
      "epoch: 10, [batch: 1233 / 1370], examples_per_second: 11687.7240, train_label_loss: 0.0029, \n"
     ]
    },
    {
     "name": "stdout",
     "output_type": "stream",
     "text": [
      "=============================================================\n",
      "epoch: 10, source_val_acc_label: 0.9977, source_val_label_loss: 0.0095, target_val_acc_label: 0.9977, target_val_label_loss: 0.0096, \n",
      "=============================================================\n"
     ]
    },
    {
     "name": "stdout",
     "output_type": "stream",
     "text": [
      "New best\n",
      "epoch: 11, [batch: 1 / 1370], examples_per_second: 65.8780, train_label_loss: 0.0016, \n"
     ]
    },
    {
     "name": "stdout",
     "output_type": "stream",
     "text": [
      "epoch: 11, [batch: 137 / 1370], examples_per_second: 11613.6364, train_label_loss: 0.0004, \n"
     ]
    },
    {
     "name": "stdout",
     "output_type": "stream",
     "text": [
      "epoch: 11, [batch: 274 / 1370], examples_per_second: 11609.0677, train_label_loss: 0.0006, \n"
     ]
    },
    {
     "name": "stdout",
     "output_type": "stream",
     "text": [
      "epoch: 11, [batch: 411 / 1370], examples_per_second: 12278.6239, train_label_loss: 0.0004, \n"
     ]
    },
    {
     "name": "stdout",
     "output_type": "stream",
     "text": [
      "epoch: 11, [batch: 548 / 1370], examples_per_second: 12211.8726, train_label_loss: 0.0006, \n"
     ]
    },
    {
     "name": "stdout",
     "output_type": "stream",
     "text": [
      "epoch: 11, [batch: 685 / 1370], examples_per_second: 11754.3722, train_label_loss: 0.0001, \n"
     ]
    },
    {
     "name": "stdout",
     "output_type": "stream",
     "text": [
      "epoch: 11, [batch: 822 / 1370], examples_per_second: 11680.3981, train_label_loss: 0.0023, \n"
     ]
    },
    {
     "name": "stdout",
     "output_type": "stream",
     "text": [
      "epoch: 11, [batch: 959 / 1370], examples_per_second: 11723.1989, train_label_loss: 0.0011, \n"
     ]
    },
    {
     "name": "stdout",
     "output_type": "stream",
     "text": [
      "epoch: 11, [batch: 1096 / 1370], examples_per_second: 11669.3310, train_label_loss: 0.0006, \n"
     ]
    },
    {
     "name": "stdout",
     "output_type": "stream",
     "text": [
      "epoch: 11, [batch: 1233 / 1370], examples_per_second: 11726.0267, train_label_loss: 0.0001, \n"
     ]
    },
    {
     "name": "stdout",
     "output_type": "stream",
     "text": [
      "=============================================================\n",
      "epoch: 11, source_val_acc_label: 0.9959, source_val_label_loss: 0.0150, target_val_acc_label: 0.9959, target_val_label_loss: 0.0149, \n",
      "=============================================================\n"
     ]
    },
    {
     "name": "stdout",
     "output_type": "stream",
     "text": [
      "epoch: 12, [batch: 1 / 1370], examples_per_second: 65.8398, train_label_loss: 0.0003, \n"
     ]
    },
    {
     "name": "stdout",
     "output_type": "stream",
     "text": [
      "epoch: 12, [batch: 137 / 1370], examples_per_second: 11610.9418, train_label_loss: 0.0003, \n"
     ]
    },
    {
     "name": "stdout",
     "output_type": "stream",
     "text": [
      "epoch: 12, [batch: 274 / 1370], examples_per_second: 11656.6386, train_label_loss: 0.0010, \n"
     ]
    },
    {
     "name": "stdout",
     "output_type": "stream",
     "text": [
      "epoch: 12, [batch: 411 / 1370], examples_per_second: 11647.3500, train_label_loss: 0.0001, \n"
     ]
    },
    {
     "name": "stdout",
     "output_type": "stream",
     "text": [
      "epoch: 12, [batch: 548 / 1370], examples_per_second: 11673.9984, train_label_loss: 0.0001, \n"
     ]
    },
    {
     "name": "stdout",
     "output_type": "stream",
     "text": [
      "epoch: 12, [batch: 685 / 1370], examples_per_second: 11612.2679, train_label_loss: 0.0001, \n"
     ]
    },
    {
     "name": "stdout",
     "output_type": "stream",
     "text": [
      "epoch: 12, [batch: 822 / 1370], examples_per_second: 11555.5839, train_label_loss: 0.0002, \n"
     ]
    },
    {
     "name": "stdout",
     "output_type": "stream",
     "text": [
      "epoch: 12, [batch: 959 / 1370], examples_per_second: 11706.1845, train_label_loss: 0.0001, \n"
     ]
    },
    {
     "name": "stdout",
     "output_type": "stream",
     "text": [
      "epoch: 12, [batch: 1096 / 1370], examples_per_second: 11733.9416, train_label_loss: 0.0003, \n"
     ]
    },
    {
     "name": "stdout",
     "output_type": "stream",
     "text": [
      "epoch: 12, [batch: 1233 / 1370], examples_per_second: 11713.4178, train_label_loss: 0.0005, \n"
     ]
    },
    {
     "name": "stdout",
     "output_type": "stream",
     "text": [
      "=============================================================\n",
      "epoch: 12, source_val_acc_label: 0.9971, source_val_label_loss: 0.0127, target_val_acc_label: 0.9971, target_val_label_loss: 0.0126, \n",
      "=============================================================\n"
     ]
    },
    {
     "name": "stdout",
     "output_type": "stream",
     "text": [
      "epoch: 13, [batch: 1 / 1370], examples_per_second: 66.5450, train_label_loss: 0.0005, \n"
     ]
    },
    {
     "name": "stdout",
     "output_type": "stream",
     "text": [
      "epoch: 13, [batch: 137 / 1370], examples_per_second: 11666.0719, train_label_loss: 0.0001, \n"
     ]
    },
    {
     "name": "stdout",
     "output_type": "stream",
     "text": [
      "epoch: 13, [batch: 274 / 1370], examples_per_second: 11685.9377, train_label_loss: 0.0005, \n"
     ]
    },
    {
     "name": "stdout",
     "output_type": "stream",
     "text": [
      "epoch: 13, [batch: 411 / 1370], examples_per_second: 11710.3836, train_label_loss: 0.0001, \n"
     ]
    },
    {
     "name": "stdout",
     "output_type": "stream",
     "text": [
      "epoch: 13, [batch: 548 / 1370], examples_per_second: 11707.2708, train_label_loss: 0.0006, \n"
     ]
    },
    {
     "name": "stdout",
     "output_type": "stream",
     "text": [
      "epoch: 13, [batch: 685 / 1370], examples_per_second: 11700.6964, train_label_loss: 0.0001, \n"
     ]
    },
    {
     "name": "stdout",
     "output_type": "stream",
     "text": [
      "epoch: 13, [batch: 822 / 1370], examples_per_second: 11652.6884, train_label_loss: 0.0000, \n"
     ]
    },
    {
     "name": "stdout",
     "output_type": "stream",
     "text": [
      "epoch: 13, [batch: 959 / 1370], examples_per_second: 11621.2986, train_label_loss: 0.0001, \n"
     ]
    },
    {
     "name": "stdout",
     "output_type": "stream",
     "text": [
      "epoch: 13, [batch: 1096 / 1370], examples_per_second: 11707.6658, train_label_loss: 0.0025, \n"
     ]
    },
    {
     "name": "stdout",
     "output_type": "stream",
     "text": [
      "epoch: 13, [batch: 1233 / 1370], examples_per_second: 11734.8702, train_label_loss: 0.0019, \n"
     ]
    },
    {
     "name": "stdout",
     "output_type": "stream",
     "text": [
      "=============================================================\n",
      "epoch: 13, source_val_acc_label: 0.9978, source_val_label_loss: 0.0085, target_val_acc_label: 0.9978, target_val_label_loss: 0.0085, \n",
      "=============================================================\n"
     ]
    },
    {
     "name": "stdout",
     "output_type": "stream",
     "text": [
      "New best\n",
      "epoch: 14, [batch: 1 / 1370], examples_per_second: 65.3145, train_label_loss: 0.0003, \n"
     ]
    },
    {
     "name": "stdout",
     "output_type": "stream",
     "text": [
      "epoch: 14, [batch: 137 / 1370], examples_per_second: 11675.3133, train_label_loss: 0.0027, \n"
     ]
    },
    {
     "name": "stdout",
     "output_type": "stream",
     "text": [
      "epoch: 14, [batch: 274 / 1370], examples_per_second: 11731.1512, train_label_loss: 0.0007, \n"
     ]
    },
    {
     "name": "stdout",
     "output_type": "stream",
     "text": [
      "epoch: 14, [batch: 411 / 1370], examples_per_second: 11650.5233, train_label_loss: 0.0001, \n"
     ]
    },
    {
     "name": "stdout",
     "output_type": "stream",
     "text": [
      "epoch: 14, [batch: 548 / 1370], examples_per_second: 11671.1568, train_label_loss: 0.0015, \n"
     ]
    },
    {
     "name": "stdout",
     "output_type": "stream",
     "text": [
      "epoch: 14, [batch: 685 / 1370], examples_per_second: 11740.4916, train_label_loss: 0.0003, \n"
     ]
    },
    {
     "name": "stdout",
     "output_type": "stream",
     "text": [
      "epoch: 14, [batch: 822 / 1370], examples_per_second: 11767.3161, train_label_loss: 0.0009, \n"
     ]
    },
    {
     "name": "stdout",
     "output_type": "stream",
     "text": [
      "epoch: 14, [batch: 959 / 1370], examples_per_second: 11705.4672, train_label_loss: 0.0007, \n"
     ]
    },
    {
     "name": "stdout",
     "output_type": "stream",
     "text": [
      "epoch: 14, [batch: 1096 / 1370], examples_per_second: 11727.6253, train_label_loss: 0.0004, \n"
     ]
    },
    {
     "name": "stdout",
     "output_type": "stream",
     "text": [
      "epoch: 14, [batch: 1233 / 1370], examples_per_second: 11691.3022, train_label_loss: 0.0001, \n"
     ]
    },
    {
     "name": "stdout",
     "output_type": "stream",
     "text": [
      "=============================================================\n",
      "epoch: 14, source_val_acc_label: 0.9985, source_val_label_loss: 0.0063, target_val_acc_label: 0.9985, target_val_label_loss: 0.0063, \n",
      "=============================================================\n"
     ]
    },
    {
     "name": "stdout",
     "output_type": "stream",
     "text": [
      "New best\n",
      "epoch: 15, [batch: 1 / 1370], examples_per_second: 64.7205, train_label_loss: 0.0001, \n"
     ]
    },
    {
     "name": "stdout",
     "output_type": "stream",
     "text": [
      "epoch: 15, [batch: 137 / 1370], examples_per_second: 11631.6362, train_label_loss: 0.0009, \n"
     ]
    },
    {
     "name": "stdout",
     "output_type": "stream",
     "text": [
      "epoch: 15, [batch: 274 / 1370], examples_per_second: 11678.2338, train_label_loss: 0.0002, \n"
     ]
    },
    {
     "name": "stdout",
     "output_type": "stream",
     "text": [
      "epoch: 15, [batch: 411 / 1370], examples_per_second: 11708.9593, train_label_loss: 0.0002, \n"
     ]
    },
    {
     "name": "stdout",
     "output_type": "stream",
     "text": [
      "epoch: 15, [batch: 548 / 1370], examples_per_second: 11721.6034, train_label_loss: 0.0001, \n"
     ]
    },
    {
     "name": "stdout",
     "output_type": "stream",
     "text": [
      "epoch: 15, [batch: 685 / 1370], examples_per_second: 11718.6153, train_label_loss: 0.0001, \n"
     ]
    },
    {
     "name": "stdout",
     "output_type": "stream",
     "text": [
      "epoch: 15, [batch: 822 / 1370], examples_per_second: 11737.1342, train_label_loss: 0.0001, \n"
     ]
    },
    {
     "name": "stdout",
     "output_type": "stream",
     "text": [
      "epoch: 15, [batch: 959 / 1370], examples_per_second: 11669.6958, train_label_loss: 0.0003, \n"
     ]
    },
    {
     "name": "stdout",
     "output_type": "stream",
     "text": [
      "epoch: 15, [batch: 1096 / 1370], examples_per_second: 11733.6272, train_label_loss: 0.0002, \n"
     ]
    },
    {
     "name": "stdout",
     "output_type": "stream",
     "text": [
      "epoch: 15, [batch: 1233 / 1370], examples_per_second: 11782.5040, train_label_loss: 0.0003, \n"
     ]
    },
    {
     "name": "stdout",
     "output_type": "stream",
     "text": [
      "=============================================================\n",
      "epoch: 15, source_val_acc_label: 0.9983, source_val_label_loss: 0.0085, target_val_acc_label: 0.9983, target_val_label_loss: 0.0085, \n",
      "=============================================================\n"
     ]
    },
    {
     "name": "stdout",
     "output_type": "stream",
     "text": [
      "epoch: 16, [batch: 1 / 1370], examples_per_second: 65.3803, train_label_loss: 0.0006, \n"
     ]
    },
    {
     "name": "stdout",
     "output_type": "stream",
     "text": [
      "epoch: 16, [batch: 137 / 1370], examples_per_second: 11549.9980, train_label_loss: 0.0000, \n"
     ]
    },
    {
     "name": "stdout",
     "output_type": "stream",
     "text": [
      "epoch: 16, [batch: 274 / 1370], examples_per_second: 11716.3137, train_label_loss: 0.0001, \n"
     ]
    },
    {
     "name": "stdout",
     "output_type": "stream",
     "text": [
      "epoch: 16, [batch: 411 / 1370], examples_per_second: 11786.0422, train_label_loss: 0.0001, \n"
     ]
    },
    {
     "name": "stdout",
     "output_type": "stream",
     "text": [
      "epoch: 16, [batch: 548 / 1370], examples_per_second: 11622.6520, train_label_loss: 0.0005, \n"
     ]
    },
    {
     "name": "stdout",
     "output_type": "stream",
     "text": [
      "epoch: 16, [batch: 685 / 1370], examples_per_second: 11780.7130, train_label_loss: 0.0004, \n"
     ]
    },
    {
     "name": "stdout",
     "output_type": "stream",
     "text": [
      "epoch: 16, [batch: 822 / 1370], examples_per_second: 11775.5772, train_label_loss: 0.0008, \n"
     ]
    },
    {
     "name": "stdout",
     "output_type": "stream",
     "text": [
      "epoch: 16, [batch: 959 / 1370], examples_per_second: 11746.4560, train_label_loss: 0.0002, \n"
     ]
    },
    {
     "name": "stdout",
     "output_type": "stream",
     "text": [
      "epoch: 16, [batch: 1096 / 1370], examples_per_second: 11706.3242, train_label_loss: 0.0001, \n"
     ]
    },
    {
     "name": "stdout",
     "output_type": "stream",
     "text": [
      "epoch: 16, [batch: 1233 / 1370], examples_per_second: 11758.4744, train_label_loss: 0.0001, \n"
     ]
    },
    {
     "name": "stdout",
     "output_type": "stream",
     "text": [
      "=============================================================\n",
      "epoch: 16, source_val_acc_label: 0.9983, source_val_label_loss: 0.0077, target_val_acc_label: 0.9983, target_val_label_loss: 0.0077, \n",
      "=============================================================\n"
     ]
    },
    {
     "name": "stdout",
     "output_type": "stream",
     "text": [
      "epoch: 17, [batch: 1 / 1370], examples_per_second: 66.0306, train_label_loss: 0.0001, \n"
     ]
    },
    {
     "name": "stdout",
     "output_type": "stream",
     "text": [
      "epoch: 17, [batch: 137 / 1370], examples_per_second: 11661.5423, train_label_loss: 0.0000, \n"
     ]
    },
    {
     "name": "stdout",
     "output_type": "stream",
     "text": [
      "epoch: 17, [batch: 274 / 1370], examples_per_second: 11699.5313, train_label_loss: 0.0000, \n"
     ]
    },
    {
     "name": "stdout",
     "output_type": "stream",
     "text": [
      "epoch: 17, [batch: 411 / 1370], examples_per_second: 11778.3813, train_label_loss: 0.0001, \n"
     ]
    },
    {
     "name": "stdout",
     "output_type": "stream",
     "text": [
      "epoch: 17, [batch: 548 / 1370], examples_per_second: 11738.5541, train_label_loss: 0.0003, \n"
     ]
    },
    {
     "name": "stdout",
     "output_type": "stream",
     "text": [
      "epoch: 17, [batch: 685 / 1370], examples_per_second: 11749.0791, train_label_loss: 0.0001, \n"
     ]
    },
    {
     "name": "stdout",
     "output_type": "stream",
     "text": [
      "epoch: 17, [batch: 822 / 1370], examples_per_second: 11671.9106, train_label_loss: 0.0004, \n"
     ]
    },
    {
     "name": "stdout",
     "output_type": "stream",
     "text": [
      "epoch: 17, [batch: 959 / 1370], examples_per_second: 11695.0518, train_label_loss: 0.0001, \n"
     ]
    },
    {
     "name": "stdout",
     "output_type": "stream",
     "text": [
      "epoch: 17, [batch: 1096 / 1370], examples_per_second: 11717.9899, train_label_loss: 0.0066, \n"
     ]
    },
    {
     "name": "stdout",
     "output_type": "stream",
     "text": [
      "epoch: 17, [batch: 1233 / 1370], examples_per_second: 11726.9335, train_label_loss: 0.0005, \n"
     ]
    },
    {
     "name": "stdout",
     "output_type": "stream",
     "text": [
      "=============================================================\n",
      "epoch: 17, source_val_acc_label: 0.9972, source_val_label_loss: 0.0129, target_val_acc_label: 0.9972, target_val_label_loss: 0.0128, \n",
      "=============================================================\n"
     ]
    },
    {
     "name": "stdout",
     "output_type": "stream",
     "text": [
      "epoch: 18, [batch: 1 / 1370], examples_per_second: 67.0806, train_label_loss: 0.0001, \n"
     ]
    },
    {
     "name": "stdout",
     "output_type": "stream",
     "text": [
      "epoch: 18, [batch: 137 / 1370], examples_per_second: 13942.3158, train_label_loss: 0.0002, \n"
     ]
    },
    {
     "name": "stdout",
     "output_type": "stream",
     "text": [
      "epoch: 18, [batch: 274 / 1370], examples_per_second: 13482.4314, train_label_loss: 0.0001, \n"
     ]
    },
    {
     "name": "stdout",
     "output_type": "stream",
     "text": [
      "epoch: 18, [batch: 411 / 1370], examples_per_second: 12916.2433, train_label_loss: 0.0001, \n"
     ]
    },
    {
     "name": "stdout",
     "output_type": "stream",
     "text": [
      "epoch: 18, [batch: 548 / 1370], examples_per_second: 12767.9889, train_label_loss: 0.0003, \n"
     ]
    },
    {
     "name": "stdout",
     "output_type": "stream",
     "text": [
      "epoch: 18, [batch: 685 / 1370], examples_per_second: 12939.5821, train_label_loss: 0.0001, \n"
     ]
    },
    {
     "name": "stdout",
     "output_type": "stream",
     "text": [
      "epoch: 18, [batch: 822 / 1370], examples_per_second: 12861.5041, train_label_loss: 0.0003, \n"
     ]
    },
    {
     "name": "stdout",
     "output_type": "stream",
     "text": [
      "epoch: 18, [batch: 959 / 1370], examples_per_second: 12955.2742, train_label_loss: 0.0002, \n"
     ]
    },
    {
     "name": "stdout",
     "output_type": "stream",
     "text": [
      "epoch: 18, [batch: 1096 / 1370], examples_per_second: 12884.0450, train_label_loss: 0.0002, \n"
     ]
    },
    {
     "name": "stdout",
     "output_type": "stream",
     "text": [
      "epoch: 18, [batch: 1233 / 1370], examples_per_second: 12961.9683, train_label_loss: 0.0062, \n"
     ]
    },
    {
     "name": "stdout",
     "output_type": "stream",
     "text": [
      "=============================================================\n",
      "epoch: 18, source_val_acc_label: 0.9980, source_val_label_loss: 0.0093, target_val_acc_label: 0.9980, target_val_label_loss: 0.0093, \n",
      "=============================================================\n"
     ]
    },
    {
     "name": "stdout",
     "output_type": "stream",
     "text": [
      "Patience (3) exhausted\n"
     ]
    }
   ],
   "source": [
    "jig = Vanilla_Train_Eval_Test_Jig(\n",
    "    model=model,\n",
    "    path_to_best_model=p.BEST_MODEL_PATH,\n",
    "    device=p.device,\n",
    "    label_loss_object=torch.nn.NLLLoss(),\n",
    ")\n",
    "\n",
    "jig.train(\n",
    "    train_iterable=datasets.source.processed.train,\n",
    "    source_val_iterable=datasets.source.processed.val,\n",
    "    target_val_iterable=datasets.target.processed.val,\n",
    "    patience=p.patience,\n",
    "    num_epochs=p.n_epoch,\n",
    "    num_logs_per_epoch=p.NUM_LOGS_PER_EPOCH,\n",
    "    criteria_for_best=p.criteria_for_best\n",
    ")"
   ]
  },
  {
   "cell_type": "code",
   "execution_count": 14,
   "id": "4bc2ac17",
   "metadata": {
    "execution": {
     "iopub.execute_input": "2022-03-26T04:39:41.428023Z",
     "iopub.status.busy": "2022-03-26T04:39:41.427652Z",
     "iopub.status.idle": "2022-03-26T04:39:41.430417Z",
     "shell.execute_reply": "2022-03-26T04:39:41.429936Z"
    },
    "papermill": {
     "duration": 0.076182,
     "end_time": "2022-03-26T04:39:41.430525",
     "exception": false,
     "start_time": "2022-03-26T04:39:41.354343",
     "status": "completed"
    },
    "tags": []
   },
   "outputs": [],
   "source": [
    "total_experiment_time_secs = time.time() - start_time_secs"
   ]
  },
  {
   "cell_type": "code",
   "execution_count": 15,
   "id": "cae88f23",
   "metadata": {
    "execution": {
     "iopub.execute_input": "2022-03-26T04:39:41.580768Z",
     "iopub.status.busy": "2022-03-26T04:39:41.580174Z",
     "iopub.status.idle": "2022-03-26T04:40:01.770288Z",
     "shell.execute_reply": "2022-03-26T04:40:01.769557Z"
    },
    "papermill": {
     "duration": 20.270491,
     "end_time": "2022-03-26T04:40:01.770474",
     "exception": false,
     "start_time": "2022-03-26T04:39:41.499983",
     "status": "completed"
    },
    "tags": []
   },
   "outputs": [],
   "source": [
    "source_test_label_accuracy, source_test_label_loss = jig.test(datasets.source.processed.test)\n",
    "target_test_label_accuracy, target_test_label_loss = jig.test(datasets.target.processed.test)\n",
    "\n",
    "source_val_label_accuracy, source_val_label_loss = jig.test(datasets.source.processed.val)\n",
    "target_val_label_accuracy, target_val_label_loss = jig.test(datasets.target.processed.val)\n",
    "\n",
    "history = jig.get_history()\n",
    "\n",
    "total_epochs_trained = len(history[\"epoch_indices\"])\n",
    "\n",
    "val_dl = wrap_in_dataloader(p, Sequence_Aggregator((datasets.source.original.val, datasets.target.original.val)))\n",
    "\n",
    "confusion = confusion_by_domain_over_dataloader(model, p.device, val_dl, forward_uses_domain=False)\n",
    "per_domain_accuracy = per_domain_accuracy_from_confusion(confusion)\n",
    "\n",
    "# Add a key to per_domain_accuracy for if it was a source domain\n",
    "for domain, accuracy in per_domain_accuracy.items():\n",
    "    per_domain_accuracy[domain] = {\n",
    "        \"accuracy\": accuracy,\n",
    "        \"source?\": domain in p.domains_source\n",
    "    }\n",
    "\n",
    "# Do an independent accuracy assesment JUST TO BE SURE!\n",
    "# _source_test_label_accuracy = independent_accuracy_assesment(model, datasets.source.processed.test, p.device)\n",
    "# _target_test_label_accuracy = independent_accuracy_assesment(model, datasets.target.processed.test, p.device)\n",
    "# _source_val_label_accuracy = independent_accuracy_assesment(model, datasets.source.processed.val, p.device)\n",
    "# _target_val_label_accuracy = independent_accuracy_assesment(model, datasets.target.processed.val, p.device)\n",
    "\n",
    "# assert(_source_test_label_accuracy == source_test_label_accuracy)\n",
    "# assert(_target_test_label_accuracy == target_test_label_accuracy)\n",
    "# assert(_source_val_label_accuracy == source_val_label_accuracy)\n",
    "# assert(_target_val_label_accuracy == target_val_label_accuracy)\n",
    "\n",
    "###################################\n",
    "# Write out the results\n",
    "###################################\n",
    "\n",
    "experiment = {\n",
    "    \"experiment_name\": p.experiment_name,\n",
    "    \"parameters\": p,\n",
    "    \"results\": {\n",
    "        \"source_test_label_accuracy\": source_test_label_accuracy,\n",
    "        \"source_test_label_loss\": source_test_label_loss,\n",
    "        \"target_test_label_accuracy\": target_test_label_accuracy,\n",
    "        \"target_test_label_loss\": target_test_label_loss,\n",
    "        \"source_val_label_accuracy\": source_val_label_accuracy,\n",
    "        \"source_val_label_loss\": source_val_label_loss,\n",
    "        \"target_val_label_accuracy\": target_val_label_accuracy,\n",
    "        \"target_val_label_loss\": target_val_label_loss,\n",
    "        \"total_epochs_trained\": total_epochs_trained,\n",
    "        \"total_experiment_time_secs\": total_experiment_time_secs,\n",
    "        \"confusion\": confusion,\n",
    "        \"per_domain_accuracy\": per_domain_accuracy,\n",
    "    },\n",
    "    \"history\": history,\n",
    "    \"dataset_metrics\": get_dataset_metrics(datasets, \"cnn\"),\n",
    "}"
   ]
  },
  {
   "cell_type": "code",
   "execution_count": 16,
   "id": "74c318cf",
   "metadata": {
    "execution": {
     "iopub.execute_input": "2022-03-26T04:40:01.973459Z",
     "iopub.status.busy": "2022-03-26T04:40:01.969116Z",
     "iopub.status.idle": "2022-03-26T04:40:02.149274Z",
     "shell.execute_reply": "2022-03-26T04:40:02.149946Z"
    },
    "papermill": {
     "duration": 0.30277,
     "end_time": "2022-03-26T04:40:02.150158",
     "exception": false,
     "start_time": "2022-03-26T04:40:01.847388",
     "status": "completed"
    },
    "tags": []
   },
   "outputs": [
    {
     "data": {
      "text/plain": [
       "<AxesSubplot:title={'center':'Source Train Label Loss vs Source Val Label Loss'}, xlabel='Epoch'>"
      ]
     },
     "execution_count": 16,
     "metadata": {},
     "output_type": "execute_result"
    },
    {
     "data": {
      "image/png": "[encoded data removed]",
      "text/plain": [
       "<Figure size 1080x504 with 1 Axes>"
      ]
     },
     "metadata": {
      "needs_background": "light"
     },
     "output_type": "display_data"
    }
   ],
   "source": [
    "get_loss_curve(experiment)"
   ]
  },
  {
   "cell_type": "code",
   "execution_count": 17,
   "id": "59376601",
   "metadata": {
    "execution": {
     "iopub.execute_input": "2022-03-26T04:40:02.322928Z",
     "iopub.status.busy": "2022-03-26T04:40:02.317298Z",
     "iopub.status.idle": "2022-03-26T04:40:02.675427Z",
     "shell.execute_reply": "2022-03-26T04:40:02.676139Z"
    },
    "papermill": {
     "duration": 0.450707,
     "end_time": "2022-03-26T04:40:02.676353",
     "exception": false,
     "start_time": "2022-03-26T04:40:02.225646",
     "status": "completed"
    },
    "tags": []
   },
   "outputs": [
    {
     "data": {
      "text/plain": [
       "<AxesSubplot:title={'center':'Results'}>"
      ]
     },
     "execution_count": 17,
     "metadata": {},
     "output_type": "execute_result"
    },
    {
     "data": {
      "image/png": "[encoded data removed]",
      "text/plain": [
       "<Figure size 1080x504 with 1 Axes>"
      ]
     },
     "metadata": {
      "needs_background": "light"
     },
     "output_type": "display_data"
    }
   ],
   "source": [
    "get_results_table(experiment)"
   ]
  },
  {
   "cell_type": "code",
   "execution_count": 18,
   "id": "e80c5c98",
   "metadata": {
    "execution": {
     "iopub.execute_input": "2022-03-26T04:40:02.851079Z",
     "iopub.status.busy": "2022-03-26T04:40:02.846674Z",
     "iopub.status.idle": "2022-03-26T04:40:02.997095Z",
     "shell.execute_reply": "2022-03-26T04:40:02.997774Z"
    },
    "papermill": {
     "duration": 0.243484,
     "end_time": "2022-03-26T04:40:02.997969",
     "exception": false,
     "start_time": "2022-03-26T04:40:02.754485",
     "status": "completed"
    },
    "tags": []
   },
   "outputs": [
    {
     "data": {
      "text/plain": [
       "<AxesSubplot:title={'center':'Per Domain Accuracy'}, xlabel='domain'>"
      ]
     },
     "execution_count": 18,
     "metadata": {},
     "output_type": "execute_result"
    },
    {
     "data": {
      "image/png": "[encoded data removed]",
      "text/plain": [
       "<Figure size 1080x504 with 1 Axes>"
      ]
     },
     "metadata": {
      "needs_background": "light"
     },
     "output_type": "display_data"
    }
   ],
   "source": [
    "get_domain_accuracies(experiment)"
   ]
  },
  {
   "cell_type": "code",
   "execution_count": 19,
   "id": "086fdd10",
   "metadata": {
    "execution": {
     "iopub.execute_input": "2022-03-26T04:40:03.151694Z",
     "iopub.status.busy": "2022-03-26T04:40:03.151075Z",
     "iopub.status.idle": "2022-03-26T04:40:03.154258Z",
     "shell.execute_reply": "2022-03-26T04:40:03.154717Z"
    },
    "papermill": {
     "duration": 0.081625,
     "end_time": "2022-03-26T04:40:03.154842",
     "exception": false,
     "start_time": "2022-03-26T04:40:03.073217",
     "status": "completed"
    },
    "tags": []
   },
   "outputs": [
    {
     "name": "stdout",
     "output_type": "stream",
     "text": [
      "Source Test Label Accuracy: 0.9979668893406912 Target Test Label Accuracy: 0.9979668893406912\n",
      "Source Val Label Accuracy: 0.9985317280226381 Target Val Label Accuracy: 0.9985317280226381\n"
     ]
    }
   ],
   "source": [
    "print(\"Source Test Label Accuracy:\", experiment[\"results\"][\"source_test_label_accuracy\"], \"Target Test Label Accuracy:\", experiment[\"results\"][\"target_test_label_accuracy\"])\n",
    "print(\"Source Val Label Accuracy:\", experiment[\"results\"][\"source_val_label_accuracy\"], \"Target Val Label Accuracy:\", experiment[\"results\"][\"target_val_label_accuracy\"])"
   ]
  },
  {
   "cell_type": "code",
   "execution_count": 20,
   "id": "9f450536",
   "metadata": {
    "execution": {
     "iopub.execute_input": "2022-03-26T04:40:03.309716Z",
     "iopub.status.busy": "2022-03-26T04:40:03.309159Z",
     "iopub.status.idle": "2022-03-26T04:40:03.312204Z",
     "shell.execute_reply": "2022-03-26T04:40:03.312668Z"
    },
    "papermill": {
     "duration": 0.082213,
     "end_time": "2022-03-26T04:40:03.312794",
     "exception": false,
     "start_time": "2022-03-26T04:40:03.230581",
     "status": "completed"
    },
    "tags": [
     "experiment_json"
    ]
   },
   "outputs": [
    {
     "data": {
      "text/plain": [
       "'{\"experiment_name\": \"cnn_2:cores\", \"parameters\": {\"experiment_name\": \"cnn_2:cores\", \"device\": \"cuda\", \"lr\": 0.0001, \"labels\": [\"1-10.\", \"1-11.\", \"1-15.\", \"1-16.\", \"1-17.\", \"1-18.\", \"1-19.\", \"10-4.\", \"10-7.\", \"11-1.\", \"11-14.\", \"11-17.\", \"11-20.\", \"11-7.\", \"13-20.\", \"13-8.\", \"14-10.\", \"14-11.\", \"14-14.\", \"14-7.\", \"15-1.\", \"15-20.\", \"16-1.\", \"16-16.\", \"17-10.\", \"17-11.\", \"17-2.\", \"19-1.\", \"19-16.\", \"19-19.\", \"19-20.\", \"19-3.\", \"2-10.\", \"2-11.\", \"2-17.\", \"2-18.\", \"2-20.\", \"2-3.\", \"2-4.\", \"2-5.\", \"2-6.\", \"2-7.\", \"2-8.\", \"3-13.\", \"3-18.\", \"3-3.\", \"4-1.\", \"4-10.\", \"4-11.\", \"4-19.\", \"5-5.\", \"6-15.\", \"7-10.\", \"7-14.\", \"8-18.\", \"8-20.\", \"8-3.\", \"8-8.\"], \"batch_size\": 128, \"domains_source\": [1, 2, 3, 4, 5], \"domains_target\": [1, 2, 3, 4, 5], \"normalize_source\": false, \"normalize_target\": false, \"num_examples_per_domain_per_label_source\": -1, \"num_examples_per_domain_per_label_target\": -1, \"torch_default_dtype\": \"torch.float32\", \"n_epoch\": 50, \"patience\": 3, \"criteria_for_best\": \"target_accuracy\", \"x_net\": [{\"class\": \"nnReshape\", \"kargs\": {\"shape\": [-1, 1, 2, 256]}}, {\"class\": \"Conv2d\", \"kargs\": {\"in_channels\": 1, \"out_channels\": 256, \"kernel_size\": [1, 7], \"bias\": false, \"padding\": [0, 3]}}, {\"class\": \"ReLU\", \"kargs\": {\"inplace\": true}}, {\"class\": \"BatchNorm2d\", \"kargs\": {\"num_features\": 256}}, {\"class\": \"Conv2d\", \"kargs\": {\"in_channels\": 256, \"out_channels\": 80, \"kernel_size\": [2, 7], \"bias\": true, \"padding\": [0, 3]}}, {\"class\": \"ReLU\", \"kargs\": {\"inplace\": true}}, {\"class\": \"BatchNorm2d\", \"kargs\": {\"num_features\": 80}}, {\"class\": \"Flatten\", \"kargs\": {}}, {\"class\": \"Linear\", \"kargs\": {\"in_features\": 20480, \"out_features\": 256}}, {\"class\": \"ReLU\", \"kargs\": {\"inplace\": true}}, {\"class\": \"BatchNorm1d\", \"kargs\": {\"num_features\": 256}}, {\"class\": \"Linear\", \"kargs\": {\"in_features\": 256, \"out_features\": 58}}], \"NUM_LOGS_PER_EPOCH\": 10, \"BEST_MODEL_PATH\": \"./best_model.pth\", \"pickle_name_source\": \"cores.stratified_ds.2022A.pkl\", \"pickle_name_target\": \"cores.stratified_ds.2022A.pkl\", \"dataset_seed\": 7, \"seed\": 7}, \"results\": {\"source_test_label_accuracy\": 0.9979668893406912, \"source_test_label_loss\": 0.007708179403306457, \"target_test_label_accuracy\": 0.9979668893406912, \"target_test_label_loss\": 0.0077556237782401526, \"source_val_label_accuracy\": 0.9985317280226381, \"source_val_label_loss\": 0.006317299196771056, \"target_val_label_accuracy\": 0.9985317280226381, \"target_val_label_loss\": 0.006316262556448259, \"total_epochs_trained\": 18, \"total_experiment_time_secs\": 324.0883824825287, \"confusion\": {\"4\": {\"46\": {\"46\": 386, \"22\": 2, \"3\": 2}, \"19\": {\"19\": 364}, \"23\": {\"23\": 366}, \"29\": {\"29\": 316, \"40\": 2}, \"21\": {\"21\": 338}, \"24\": {\"24\": 142}, \"8\": {\"8\": 362, \"41\": 2}, \"54\": {\"54\": 278}, \"36\": {\"36\": 236}, \"12\": {\"12\": 230}, \"50\": {\"50\": 336}, \"40\": {\"40\": 378}, \"15\": {\"15\": 386}, \"20\": {\"20\": 338}, \"56\": {\"56\": 386}, \"6\": {\"6\": 280}, \"17\": {\"17\": 200}, \"51\": {\"51\": 366}, \"11\": {\"11\": 258, \"15\": 4}, \"16\": {\"16\": 248}, \"44\": {\"44\": 332}, \"48\": {\"48\": 390}, \"22\": {\"22\": 320}, \"25\": {\"25\": 406}, \"55\": {\"55\": 494}, \"3\": {\"3\": 314, \"50\": 2}, \"9\": {\"9\": 380}, \"57\": {\"57\": 258}, \"30\": {\"30\": 116}, \"38\": {\"38\": 102}, \"13\": {\"13\": 384}, \"53\": {\"53\": 354}, \"10\": {\"10\": 346}, \"14\": {\"14\": 40}, \"27\": {\"27\": 384}, \"5\": {\"5\": 264, \"6\": 8}, \"1\": {\"1\": 108}, \"18\": {\"18\": 274}, \"43\": {\"43\": 372}, \"47\": {\"47\": 304}, \"52\": {\"52\": 298}, \"45\": {\"45\": 244}, \"32\": {\"32\": 66}, \"2\": {\"2\": 90}, \"0\": {\"0\": 206}, \"4\": {\"4\": 332}, \"31\": {\"31\": 72}, \"34\": {\"34\": 62}, \"26\": {\"26\": 62}, \"7\": {\"7\": 66, \"41\": 2}, \"33\": {\"33\": 92}, \"28\": {\"28\": 86}, \"42\": {\"42\": 86}, \"41\": {\"41\": 90}, \"35\": {\"35\": 100}, \"37\": {\"37\": 62}, \"39\": {\"39\": 54}, \"49\": {\"49\": 54}}, \"3\": {\"8\": {\"8\": 386}, \"15\": {\"15\": 400, \"11\": 2}, \"4\": {\"4\": 370}, \"13\": {\"13\": 320}, \"7\": {\"7\": 92}, \"55\": {\"55\": 426}, \"21\": {\"21\": 316, \"6\": 4}, \"23\": {\"23\": 362, \"41\": 2}, \"30\": {\"30\": 300}, \"29\": {\"29\": 320}, \"1\": {\"1\": 258}, \"40\": {\"40\": 346}, \"0\": {\"0\": 318}, \"41\": {\"41\": 76}, \"50\": {\"50\": 370}, \"19\": {\"19\": 388}, \"33\": {\"33\": 76}, \"57\": {\"57\": 310}, \"9\": {\"9\": 382}, \"12\": {\"12\": 234}, \"3\": {\"3\": 372}, \"25\": {\"25\": 426}, \"43\": {\"43\": 340}, \"51\": {\"51\": 326}, \"5\": {\"5\": 294, \"3\": 2}, \"6\": {\"6\": 228}, \"53\": {\"53\": 368}, \"45\": {\"45\": 158}, \"22\": {\"22\": 354}, \"24\": {\"24\": 266}, \"56\": {\"56\": 342}, \"36\": {\"36\": 256}, \"35\": {\"35\": 76}, \"27\": {\"27\": 360}, \"38\": {\"38\": 74}, \"48\": {\"48\": 290, \"1\": 2}, \"16\": {\"16\": 390}, \"32\": {\"32\": 70, \"51\": 2}, \"44\": {\"44\": 224}, \"18\": {\"18\": 210}, \"52\": {\"52\": 356}, \"34\": {\"34\": 86}, \"54\": {\"54\": 252}, \"14\": {\"14\": 106}, \"26\": {\"26\": 68}, \"28\": {\"28\": 74}, \"11\": {\"11\": 384}, \"20\": {\"20\": 332}, \"31\": {\"31\": 72}, \"46\": {\"46\": 352}, \"10\": {\"10\": 164}, \"17\": {\"17\": 270}, \"47\": {\"47\": 238}, \"37\": {\"37\": 78}, \"42\": {\"42\": 76}, \"49\": {\"49\": 50}, \"2\": {\"2\": 82, \"7\": 2}, \"39\": {\"39\": 48}}, \"2\": {\"52\": {\"52\": 312}, \"29\": {\"29\": 322}, \"41\": {\"41\": 50, \"13\": 2, \"38\": 2}, \"9\": {\"9\": 390}, \"21\": {\"21\": 308}, \"54\": {\"54\": 278}, \"30\": {\"30\": 360}, \"48\": {\"48\": 386}, \"15\": {\"15\": 388}, \"6\": {\"6\": 318}, \"55\": {\"55\": 422}, \"27\": {\"27\": 394, \"29\": 2}, \"11\": {\"11\": 396}, \"56\": {\"56\": 360}, \"47\": {\"47\": 372}, \"19\": {\"19\": 392}, \"3\": {\"3\": 238}, \"53\": {\"53\": 348}, \"10\": {\"10\": 278, \"11\": 2}, \"24\": {\"24\": 242}, \"1\": {\"1\": 280}, \"50\": {\"50\": 342}, \"18\": {\"18\": 126}, \"16\": {\"16\": 380}, \"13\": {\"13\": 296}, \"7\": {\"7\": 90}, \"20\": {\"20\": 356}, \"23\": {\"23\": 372}, \"22\": {\"22\": 348}, \"31\": {\"31\": 76}, \"4\": {\"4\": 400}, \"8\": {\"8\": 406}, \"40\": {\"40\": 352}, \"5\": {\"5\": 308}, \"57\": {\"57\": 362}, \"36\": {\"36\": 290}, \"44\": {\"44\": 256, \"45\": 2}, \"43\": {\"43\": 378}, \"45\": {\"45\": 326}, \"25\": {\"25\": 468}, \"51\": {\"51\": 340}, \"39\": {\"39\": 70}, \"0\": {\"0\": 122}, \"38\": {\"38\": 52}, \"42\": {\"42\": 94}, \"46\": {\"46\": 328}, \"17\": {\"17\": 264}, \"12\": {\"12\": 238}, \"37\": {\"37\": 90, \"3\": 2}, \"34\": {\"34\": 68, \"42\": 2, \"5\": 2}, \"26\": {\"26\": 68}, \"14\": {\"14\": 60}, \"33\": {\"33\": 72, \"40\": 2, \"41\": 2}, \"35\": {\"35\": 88}, \"32\": {\"32\": 72}, \"2\": {\"2\": 86, \"41\": 2}, \"28\": {\"28\": 72}, \"49\": {\"49\": 66, \"42\": 2}}, \"1\": {\"24\": {\"24\": 270}, \"10\": {\"10\": 244}, \"45\": {\"45\": 396}, \"53\": {\"53\": 360}, \"27\": {\"27\": 408}, \"43\": {\"43\": 368}, \"44\": {\"44\": 344}, \"25\": {\"25\": 362}, \"4\": {\"4\": 334}, \"54\": {\"54\": 266}, \"55\": {\"55\": 572}, \"46\": {\"46\": 346, \"50\": 4, \"12\": 2}, \"3\": {\"3\": 352, \"50\": 4}, \"9\": {\"9\": 398}, \"30\": {\"30\": 300}, \"13\": {\"13\": 396}, \"40\": {\"40\": 390}, \"11\": {\"11\": 356, \"3\": 2}, \"39\": {\"39\": 72}, \"0\": {\"0\": 382}, \"6\": {\"6\": 242}, \"56\": {\"56\": 418, \"44\": 2}, \"16\": {\"16\": 352, \"41\": 2}, \"36\": {\"36\": 162}, \"33\": {\"33\": 82}, \"12\": {\"12\": 298}, \"57\": {\"57\": 362}, \"31\": {\"31\": 78}, \"20\": {\"20\": 358}, \"50\": {\"50\": 398}, \"18\": {\"18\": 186}, \"5\": {\"5\": 410}, \"47\": {\"47\": 400}, \"51\": {\"51\": 398}, \"29\": {\"29\": 356}, \"52\": {\"52\": 338}, \"8\": {\"8\": 356}, \"17\": {\"17\": 162}, \"28\": {\"28\": 72}, \"7\": {\"7\": 74}, \"19\": {\"19\": 398}, \"22\": {\"22\": 348}, \"23\": {\"23\": 344}, \"2\": {\"2\": 98}, \"15\": {\"15\": 406}, \"21\": {\"21\": 314}, \"26\": {\"26\": 60}, \"35\": {\"35\": 96}, \"42\": {\"42\": 100, \"28\": 2}, \"1\": {\"1\": 256}, \"49\": {\"49\": 88}, \"48\": {\"48\": 372}, \"14\": {\"14\": 64}, \"34\": {\"34\": 60}, \"32\": {\"32\": 84, \"57\": 2}, \"38\": {\"38\": 64}, \"37\": {\"37\": 80}, \"41\": {\"41\": 66}}, \"5\": {\"0\": {\"0\": 314}, \"2\": {\"2\": 72}, \"54\": {\"54\": 282}, \"19\": {\"19\": 388}, \"50\": {\"50\": 366, \"3\": 8}, \"10\": {\"10\": 178}, \"48\": {\"48\": 346}, \"21\": {\"21\": 366}, \"24\": {\"24\": 208}, \"29\": {\"29\": 330}, \"57\": {\"57\": 334, \"0\": 2}, \"53\": {\"53\": 384, \"7\": 2}, \"14\": {\"14\": 110}, \"51\": {\"51\": 380}, \"8\": {\"8\": 384}, \"30\": {\"30\": 320}, \"4\": {\"4\": 250}, \"55\": {\"55\": 498}, \"17\": {\"17\": 290}, \"18\": {\"18\": 168}, \"27\": {\"27\": 408}, \"43\": {\"43\": 386}, \"16\": {\"16\": 390}, \"5\": {\"5\": 322}, \"41\": {\"41\": 72}, \"3\": {\"3\": 256, \"22\": 2}, \"1\": {\"1\": 374}, \"40\": {\"40\": 318}, \"23\": {\"23\": 314, \"41\": 2}, \"47\": {\"47\": 250}, \"25\": {\"25\": 450}, \"56\": {\"56\": 386}, \"44\": {\"44\": 380, \"45\": 4}, \"13\": {\"13\": 406}, \"9\": {\"9\": 392}, \"45\": {\"45\": 314}, \"22\": {\"22\": 70}, \"46\": {\"46\": 376}, \"11\": {\"11\": 406}, \"20\": {\"20\": 368}, \"31\": {\"31\": 88, \"32\": 2}, \"52\": {\"52\": 352}, \"7\": {\"7\": 84}, \"6\": {\"6\": 318, \"45\": 4}, \"42\": {\"42\": 106}, \"35\": {\"35\": 94}, \"15\": {\"15\": 418}, \"33\": {\"33\": 88}, \"32\": {\"32\": 88}, \"26\": {\"26\": 64}, \"12\": {\"12\": 246}, \"36\": {\"36\": 236}, \"38\": {\"38\": 88}, \"49\": {\"49\": 92}, \"39\": {\"39\": 52}, \"34\": {\"34\": 90}, \"28\": {\"28\": 82}, \"37\": {\"37\": 64}}}, \"per_domain_accuracy\": {\"4\": {\"accuracy\": 0.9983195630864025, \"source?\": true}, \"3\": {\"accuracy\": 0.9989024557552476, \"source?\": true}, \"2\": {\"accuracy\": 0.9984042553191489, \"source?\": true}, \"1\": {\"accuracy\": 0.9987290289781393, \"source?\": true}, \"5\": {\"accuracy\": 0.9982986520088993, \"source?\": true}}}, \"history\": {\"epoch_indices\": [1, 2, 3, 4, 5, 6, 7, 8, 9, 10, 11, 12, 13, 14, 15, 16, 17, 18], \"train_label_loss\": [0.5674835236566346, 0.03734958126535979, 0.013694039425289217, 0.008031216272608424, 0.005994369508486146, 0.00595591093369345, 0.003728654289464755, 0.0024671209681055586, 0.0023916819007314375, 0.0017524846629358582, 0.0022498856339678865, 0.001079706271573834, 0.0012971127940306566, 0.002066875089859708, 0.0009449552902494035, 0.0011933179794991072, 0.0012729640060994965, 0.0005842374260833675], \"source_val_label_loss\": [0.06463854688731477, 0.03861655464313238, 0.02881560204296338, 0.17819305932715077, 0.06414280073405736, 0.010404653379569664, 0.009371716521532155, 0.012854284446554596, 0.011405154720283313, 0.009535393527364867, 0.014953673257291437, 0.012741429041846617, 0.008506736248334689, 0.006316318557395659, 0.008545081573466468, 0.007706120265684522, 0.012928285301636559, 0.009274163813919363], \"target_val_label_loss\": [0.0646587625056912, 0.0386154168498394, 0.028795415095336507, 0.1784213596188905, 0.06411972577737664, 0.010404131757079563, 0.009371737409937323, 0.012829461543119128, 0.011385886789078637, 0.009574041753405794, 0.014906135997011839, 0.012595823646917201, 0.008506459241031484, 0.006316623056420473, 0.008465932975479469, 0.007705920665047021, 0.012846958968897053, 0.009275123949435126], \"source_val_acc_label\": [0.9921247230305134, 0.990736538615553, 0.9933260364665367, 0.9580074214474492, 0.9789636669425238, 0.9974371980031501, 0.9975439814196855, 0.9966897140874023, 0.9971702394618116, 0.9976774606903548, 0.9959155343175204, 0.9971435436076778, 0.9978376358151579, 0.9985317280226381, 0.9982647694812996, 0.9983181611895673, 0.9971702394618116, 0.997997810939961], \"target_val_acc_label\": [0.9921247230305134, 0.990736538615553, 0.9933260364665367, 0.9580074214474492, 0.9789636669425238, 0.9974371980031501, 0.9975439814196855, 0.9966897140874023, 0.9971702394618116, 0.9976774606903548, 0.9959155343175204, 0.9971435436076778, 0.9978376358151579, 0.9985317280226381, 0.9982647694812996, 0.9983181611895673, 0.9971702394618116, 0.997997810939961]}, \"dataset_metrics\": {\"source\": {\"train\": {\"n_unique_x\": 175349, \"n_unique_y\": 58, \"n_batch/episode\": 1370}, \"val\": {\"n_unique_x\": 37459, \"n_unique_y\": 58, \"n_batch/episode\": 293}, \"test\": {\"n_unique_x\": 37873, \"n_unique_y\": 58, \"n_batch/episode\": 296}}, \"target\": {\"train\": {\"n_unique_x\": 175349, \"n_unique_y\": 58, \"n_batch/episode\": 1370}, \"val\": {\"n_unique_x\": 37459, \"n_unique_y\": 58, \"n_batch/episode\": 293}, \"test\": {\"n_unique_x\": 37873, \"n_unique_y\": 58, \"n_batch/episode\": 296}}}}'"
      ]
     },
     "execution_count": 20,
     "metadata": {},
     "output_type": "execute_result"
    }
   ],
   "source": [
    "json.dumps(experiment)"
   ]
  }
 ],
 "metadata": {
  "celltoolbar": "Tags",
  "kernelspec": {
   "display_name": "Python 3 (ipykernel)",
   "language": "python",
   "name": "python3"
  },
  "language_info": {
   "codemirror_mode": {
    "name": "ipython",
    "version": 3
   },
   "file_extension": ".py",
   "mimetype": "text/x-python",
   "name": "python",
   "nbconvert_exporter": "python",
   "pygments_lexer": "ipython3",
   "version": "3.8.12"
  },
  "papermill": {
   "default_parameters": {},
   "duration": 351.429076,
   "end_time": "2022-03-26T04:40:05.999868",
   "environment_variables": {},
   "exception": null,
   "input_path": "/root/csc500-main/csc500-notebooks/templates/cnn_template.ipynb",
   "output_path": "trial.ipynb",
   "parameters": {
    "parameters": {
     "BEST_MODEL_PATH": "./best_model.pth",
     "NUM_LOGS_PER_EPOCH": 10,
     "batch_size": 128,
     "criteria_for_best": "target_accuracy",
     "dataset_seed": 7,
     "device": "cuda",
     "domains_source": [
      1,
      2,
      3,
      4,
      5
     ],
     "domains_target": [
      1,
      2,
      3,
      4,
      5
     ],
     "experiment_name": "cnn_2:cores",
     "labels": [
      "1-10.",
      "1-11.",
      "1-15.",
      "1-16.",
      "1-17.",
      "1-18.",
      "1-19.",
      "10-4.",
      "10-7.",
      "11-1.",
      "11-14.",
      "11-17.",
      "11-20.",
      "11-7.",
      "13-20.",
      "13-8.",
      "14-10.",
      "14-11.",
      "14-14.",
      "14-7.",
      "15-1.",
      "15-20.",
      "16-1.",
      "16-16.",
      "17-10.",
      "17-11.",
      "17-2.",
      "19-1.",
      "19-16.",
      "19-19.",
      "19-20.",
      "19-3.",
      "2-10.",
      "2-11.",
      "2-17.",
      "2-18.",
      "2-20.",
      "2-3.",
      "2-4.",
      "2-5.",
      "2-6.",
      "2-7.",
      "2-8.",
      "3-13.",
      "3-18.",
      "3-3.",
      "4-1.",
      "4-10.",
      "4-11.",
      "4-19.",
      "5-5.",
      "6-15.",
      "7-10.",
      "7-14.",
      "8-18.",
      "8-20.",
      "8-3.",
      "8-8."
     ],
     "lr": 0.0001,
     "n_epoch": 50,
     "normalize_source": false,
     "normalize_target": false,
     "num_examples_per_domain_per_label_source": -1,
     "num_examples_per_domain_per_label_target": -1,
     "patience": 3,
     "pickle_name_source": "cores.stratified_ds.2022A.pkl",
     "pickle_name_target": "cores.stratified_ds.2022A.pkl",
     "seed": 7,
     "torch_default_dtype": "torch.float32",
     "x_net": [
      {
       "class": "nnReshape",
       "kargs": {
        "shape": [
         -1,
         1,
         2,
         256
        ]
       }
      },
      {
       "class": "Conv2d",
       "kargs": {
        "bias": false,
        "in_channels": 1,
        "kernel_size": [
         1,
         7
        ],
        "out_channels": 256,
        "padding": [
         0,
         3
        ]
       }
      },
      {
       "class": "ReLU",
       "kargs": {
        "inplace": true
       }
      },
      {
       "class": "BatchNorm2d",
       "kargs": {
        "num_features": 256
       }
      },
      {
       "class": "Conv2d",
       "kargs": {
        "bias": true,
        "in_channels": 256,
        "kernel_size": [
         2,
         7
        ],
        "out_channels": 80,
        "padding": [
         0,
         3
        ]
       }
      },
      {
       "class": "ReLU",
       "kargs": {
        "inplace": true
       }
      },
      {
       "class": "BatchNorm2d",
       "kargs": {
        "num_features": 80
       }
      },
      {
       "class": "Flatten",
       "kargs": {}
      },
      {
       "class": "Linear",
       "kargs": {
        "in_features": 20480,
        "out_features": 256
       }
      },
      {
       "class": "ReLU",
       "kargs": {
        "inplace": true
       }
      },
      {
       "class": "BatchNorm1d",
       "kargs": {
        "num_features": 256
       }
      },
      {
       "class": "Linear",
       "kargs": {
        "in_features": 256,
        "out_features": 58
       }
      }
     ]
    }
   },
   "start_time": "2022-03-26T04:34:14.570792",
   "version": "2.3.4"
  }
 },
 "nbformat": 4,
 "nbformat_minor": 5
}