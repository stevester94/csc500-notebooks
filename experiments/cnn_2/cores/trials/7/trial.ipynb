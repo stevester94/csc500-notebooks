{
 "cells": [
  {
   "cell_type": "code",
   "execution_count": 1,
   "id": "2324682e",
   "metadata": {
    "execution": {
     "iopub.execute_input": "2022-03-26T04:00:43.340752Z",
     "iopub.status.busy": "2022-03-26T04:00:43.339888Z",
     "iopub.status.idle": "2022-03-26T04:00:44.681626Z",
     "shell.execute_reply": "2022-03-26T04:00:44.680779Z"
    },
    "papermill": {
     "duration": 1.381745,
     "end_time": "2022-03-26T04:00:44.681828",
     "exception": false,
     "start_time": "2022-03-26T04:00:43.300083",
     "status": "completed"
    },
    "tags": []
   },
   "outputs": [],
   "source": [
    "import os, json, sys, time, random\n",
    "import numpy as np\n",
    "import torch\n",
    "from  easydict import EasyDict\n",
    "from math import floor\n",
    "from easydict import EasyDict\n",
    "\n",
    "from steves_utils.vanilla_train_eval_test_jig import  Vanilla_Train_Eval_Test_Jig\n",
    "\n",
    "from steves_utils.torch_utils import get_dataset_metrics, independent_accuracy_assesment\n",
    "from steves_models.configurable_vanilla import Configurable_Vanilla\n",
    "from steves_utils.torch_sequential_builder import build_sequential\n",
    "from steves_utils.lazy_map import Lazy_Map\n",
    "from steves_utils.sequence_aggregator import Sequence_Aggregator\n",
    "\n",
    "from steves_utils.stratified_dataset.traditional_accessor import Traditional_Accessor_Factory\n",
    "\n",
    "from steves_utils.cnn_do_report import (\n",
    "    get_loss_curve,\n",
    "    get_results_table,\n",
    "    get_parameters_table,\n",
    "    get_domain_accuracies,\n",
    ")\n",
    "\n",
    "from steves_utils.torch_utils import (\n",
    "    confusion_by_domain_over_dataloader,\n",
    "    independent_accuracy_assesment\n",
    ")\n",
    "\n",
    "from steves_utils.utils_v2 import (\n",
    "    per_domain_accuracy_from_confusion,\n",
    "    get_datasets_base_path\n",
    ")\n",
    "\n",
    "# from steves_utils.ptn_do_report import TBD"
   ]
  },
  {
   "cell_type": "code",
   "execution_count": 2,
   "id": "1b29e3fe",
   "metadata": {
    "execution": {
     "iopub.execute_input": "2022-03-26T04:00:44.720526Z",
     "iopub.status.busy": "2022-03-26T04:00:44.719935Z",
     "iopub.status.idle": "2022-03-26T04:00:44.722374Z",
     "shell.execute_reply": "2022-03-26T04:00:44.722833Z"
    },
    "papermill": {
     "duration": 0.022484,
     "end_time": "2022-03-26T04:00:44.722959",
     "exception": false,
     "start_time": "2022-03-26T04:00:44.700475",
     "status": "completed"
    },
    "tags": []
   },
   "outputs": [],
   "source": [
    "required_parameters = {\n",
    "    \"experiment_name\",\n",
    "    \"lr\",\n",
    "    \"device\",\n",
    "    \"dataset_seed\",\n",
    "    \"seed\",\n",
    "    \"labels\",\n",
    "    \"domains_target\",\n",
    "    \"domains_source\",\n",
    "    \"num_examples_per_domain_per_label_source\",\n",
    "    \"num_examples_per_domain_per_label_target\",\n",
    "    \"batch_size\",\n",
    "    \"n_epoch\",\n",
    "    \"patience\",\n",
    "    \"criteria_for_best\",\n",
    "    \"normalize_source\",\n",
    "    \"normalize_target\",\n",
    "    \"x_net\",\n",
    "    \"NUM_LOGS_PER_EPOCH\",\n",
    "    \"BEST_MODEL_PATH\",\n",
    "    \"pickle_name_source\",\n",
    "    \"pickle_name_target\",\n",
    "    \"torch_default_dtype\",\n",
    "}"
   ]
  },
  {
   "cell_type": "code",
   "execution_count": 3,
   "id": "670b5fb8",
   "metadata": {
    "execution": {
     "iopub.execute_input": "2022-03-26T04:00:44.767203Z",
     "iopub.status.busy": "2022-03-26T04:00:44.766308Z",
     "iopub.status.idle": "2022-03-26T04:00:44.773855Z",
     "shell.execute_reply": "2022-03-26T04:00:44.773140Z"
    },
    "papermill": {
     "duration": 0.03328,
     "end_time": "2022-03-26T04:00:44.774010",
     "exception": false,
     "start_time": "2022-03-26T04:00:44.740730",
     "status": "completed"
    },
    "tags": [
     "parameters"
    ]
   },
   "outputs": [],
   "source": [
    "from steves_utils.ORACLE.utils_v2 import (\n",
    "    ALL_SERIAL_NUMBERS,\n",
    "    ALL_DISTANCES_FEET_NARROWED,\n",
    ")\n",
    "\n",
    "standalone_parameters = {}\n",
    "standalone_parameters[\"experiment_name\"] = \"MANUAL CORES CNN\"\n",
    "standalone_parameters[\"lr\"] = 0.0001\n",
    "standalone_parameters[\"device\"] = \"cuda\"\n",
    "\n",
    "standalone_parameters[\"dataset_seed\"] = 1337\n",
    "standalone_parameters[\"seed\"] = 1337\n",
    "standalone_parameters[\"labels\"] = ALL_SERIAL_NUMBERS\n",
    "\n",
    "standalone_parameters[\"domains_source\"] = [8,32,50]\n",
    "standalone_parameters[\"domains_target\"] = [14,20,26,38,44,]\n",
    "\n",
    "standalone_parameters[\"num_examples_per_domain_per_label_source\"]=-1\n",
    "standalone_parameters[\"num_examples_per_domain_per_label_target\"]=-1\n",
    "\n",
    "standalone_parameters[\"pickle_name_source\"] = \"oracle.Run1_framed_2000Examples_stratified_ds.2022A.pkl\"\n",
    "standalone_parameters[\"pickle_name_target\"] = \"oracle.Run2_framed_2000Examples_stratified_ds.2022A.pkl\"\n",
    "\n",
    "standalone_parameters[\"torch_default_dtype\"] = \"torch.float32\" \n",
    "\n",
    "standalone_parameters[\"batch_size\"]=128\n",
    "\n",
    "standalone_parameters[\"n_epoch\"] = 3\n",
    "\n",
    "standalone_parameters[\"patience\"] = 10\n",
    "\n",
    "standalone_parameters[\"criteria_for_best\"] = \"target_accuracy\"\n",
    "standalone_parameters[\"normalize_source\"] = False\n",
    "standalone_parameters[\"normalize_target\"] = False\n",
    "\n",
    "standalone_parameters[\"x_net\"] =     [\n",
    "    {\"class\": \"nnReshape\", \"kargs\": {\"shape\":[-1, 1, 2, 256]}},\n",
    "    {\"class\": \"Conv2d\", \"kargs\": { \"in_channels\":1, \"out_channels\":256, \"kernel_size\":(1,7), \"bias\":False, \"padding\":(0,3), },},\n",
    "    {\"class\": \"ReLU\", \"kargs\": {\"inplace\": True}},\n",
    "    {\"class\": \"BatchNorm2d\", \"kargs\": {\"num_features\":256}},\n",
    "\n",
    "    {\"class\": \"Conv2d\", \"kargs\": { \"in_channels\":256, \"out_channels\":80, \"kernel_size\":(2,7), \"bias\":True, \"padding\":(0,3), },},\n",
    "    {\"class\": \"ReLU\", \"kargs\": {\"inplace\": True}},\n",
    "    {\"class\": \"BatchNorm2d\", \"kargs\": {\"num_features\":80}},\n",
    "    {\"class\": \"Flatten\", \"kargs\": {}},\n",
    "\n",
    "    {\"class\": \"Linear\", \"kargs\": {\"in_features\": 80*256, \"out_features\": 256}}, # 80 units per IQ pair\n",
    "    {\"class\": \"ReLU\", \"kargs\": {\"inplace\": True}},\n",
    "    {\"class\": \"BatchNorm1d\", \"kargs\": {\"num_features\":256}},\n",
    "\n",
    "    {\"class\": \"Linear\", \"kargs\": {\"in_features\": 256, \"out_features\": len(standalone_parameters[\"labels\"])}},\n",
    "]\n",
    "\n",
    "standalone_parameters[\"NUM_LOGS_PER_EPOCH\"] = 10\n",
    "standalone_parameters[\"BEST_MODEL_PATH\"] = \"./best_model.pth\""
   ]
  },
  {
   "cell_type": "code",
   "execution_count": 4,
   "id": "560e0881",
   "metadata": {
    "execution": {
     "iopub.execute_input": "2022-03-26T04:00:44.822334Z",
     "iopub.status.busy": "2022-03-26T04:00:44.809483Z",
     "iopub.status.idle": "2022-03-26T04:00:44.824747Z",
     "shell.execute_reply": "2022-03-26T04:00:44.823928Z"
    },
    "papermill": {
     "duration": 0.031419,
     "end_time": "2022-03-26T04:00:44.824904",
     "exception": false,
     "start_time": "2022-03-26T04:00:44.793485",
     "status": "completed"
    },
    "tags": [
     "injected-parameters"
    ]
   },
   "outputs": [],
   "source": [
    "# Parameters\n",
    "parameters = {\n",
    "    \"experiment_name\": \"cnn_2:cores\",\n",
    "    \"device\": \"cuda\",\n",
    "    \"lr\": 0.0001,\n",
    "    \"labels\": [\n",
    "        \"1-10.\",\n",
    "        \"1-11.\",\n",
    "        \"1-15.\",\n",
    "        \"1-16.\",\n",
    "        \"1-17.\",\n",
    "        \"1-18.\",\n",
    "        \"1-19.\",\n",
    "        \"10-4.\",\n",
    "        \"10-7.\",\n",
    "        \"11-1.\",\n",
    "        \"11-14.\",\n",
    "        \"11-17.\",\n",
    "        \"11-20.\",\n",
    "        \"11-7.\",\n",
    "        \"13-20.\",\n",
    "        \"13-8.\",\n",
    "        \"14-10.\",\n",
    "        \"14-11.\",\n",
    "        \"14-14.\",\n",
    "        \"14-7.\",\n",
    "        \"15-1.\",\n",
    "        \"15-20.\",\n",
    "        \"16-1.\",\n",
    "        \"16-16.\",\n",
    "        \"17-10.\",\n",
    "        \"17-11.\",\n",
    "        \"17-2.\",\n",
    "        \"19-1.\",\n",
    "        \"19-16.\",\n",
    "        \"19-19.\",\n",
    "        \"19-20.\",\n",
    "        \"19-3.\",\n",
    "        \"2-10.\",\n",
    "        \"2-11.\",\n",
    "        \"2-17.\",\n",
    "        \"2-18.\",\n",
    "        \"2-20.\",\n",
    "        \"2-3.\",\n",
    "        \"2-4.\",\n",
    "        \"2-5.\",\n",
    "        \"2-6.\",\n",
    "        \"2-7.\",\n",
    "        \"2-8.\",\n",
    "        \"3-13.\",\n",
    "        \"3-18.\",\n",
    "        \"3-3.\",\n",
    "        \"4-1.\",\n",
    "        \"4-10.\",\n",
    "        \"4-11.\",\n",
    "        \"4-19.\",\n",
    "        \"5-5.\",\n",
    "        \"6-15.\",\n",
    "        \"7-10.\",\n",
    "        \"7-14.\",\n",
    "        \"8-18.\",\n",
    "        \"8-20.\",\n",
    "        \"8-3.\",\n",
    "        \"8-8.\",\n",
    "    ],\n",
    "    \"batch_size\": 128,\n",
    "    \"domains_source\": [1, 2, 3, 4, 5],\n",
    "    \"domains_target\": [1, 2, 3, 4, 5],\n",
    "    \"normalize_source\": False,\n",
    "    \"normalize_target\": False,\n",
    "    \"num_examples_per_domain_per_label_source\": -1,\n",
    "    \"num_examples_per_domain_per_label_target\": -1,\n",
    "    \"torch_default_dtype\": \"torch.float32\",\n",
    "    \"n_epoch\": 50,\n",
    "    \"patience\": 3,\n",
    "    \"criteria_for_best\": \"target_accuracy\",\n",
    "    \"x_net\": [\n",
    "        {\"class\": \"nnReshape\", \"kargs\": {\"shape\": [-1, 1, 2, 256]}},\n",
    "        {\n",
    "            \"class\": \"Conv2d\",\n",
    "            \"kargs\": {\n",
    "                \"in_channels\": 1,\n",
    "                \"out_channels\": 256,\n",
    "                \"kernel_size\": [1, 7],\n",
    "                \"bias\": False,\n",
    "                \"padding\": [0, 3],\n",
    "            },\n",
    "        },\n",
    "        {\"class\": \"ReLU\", \"kargs\": {\"inplace\": True}},\n",
    "        {\"class\": \"BatchNorm2d\", \"kargs\": {\"num_features\": 256}},\n",
    "        {\n",
    "            \"class\": \"Conv2d\",\n",
    "            \"kargs\": {\n",
    "                \"in_channels\": 256,\n",
    "                \"out_channels\": 80,\n",
    "                \"kernel_size\": [2, 7],\n",
    "                \"bias\": True,\n",
    "                \"padding\": [0, 3],\n",
    "            },\n",
    "        },\n",
    "        {\"class\": \"ReLU\", \"kargs\": {\"inplace\": True}},\n",
    "        {\"class\": \"BatchNorm2d\", \"kargs\": {\"num_features\": 80}},\n",
    "        {\"class\": \"Flatten\", \"kargs\": {}},\n",
    "        {\"class\": \"Linear\", \"kargs\": {\"in_features\": 20480, \"out_features\": 256}},\n",
    "        {\"class\": \"ReLU\", \"kargs\": {\"inplace\": True}},\n",
    "        {\"class\": \"BatchNorm1d\", \"kargs\": {\"num_features\": 256}},\n",
    "        {\"class\": \"Linear\", \"kargs\": {\"in_features\": 256, \"out_features\": 58}},\n",
    "    ],\n",
    "    \"NUM_LOGS_PER_EPOCH\": 10,\n",
    "    \"BEST_MODEL_PATH\": \"./best_model.pth\",\n",
    "    \"pickle_name_source\": \"cores.stratified_ds.2022A.pkl\",\n",
    "    \"pickle_name_target\": \"cores.stratified_ds.2022A.pkl\",\n",
    "    \"dataset_seed\": 500,\n",
    "    \"seed\": 500,\n",
    "}\n"
   ]
  },
  {
   "cell_type": "code",
   "execution_count": 5,
   "id": "759b56ec",
   "metadata": {
    "execution": {
     "iopub.execute_input": "2022-03-26T04:00:44.863492Z",
     "iopub.status.busy": "2022-03-26T04:00:44.863120Z",
     "iopub.status.idle": "2022-03-26T04:00:44.865053Z",
     "shell.execute_reply": "2022-03-26T04:00:44.864688Z"
    },
    "papermill": {
     "duration": 0.020067,
     "end_time": "2022-03-26T04:00:44.865125",
     "exception": false,
     "start_time": "2022-03-26T04:00:44.845058",
     "status": "completed"
    },
    "tags": []
   },
   "outputs": [],
   "source": [
    "# Set this to True if you want to run this template directly\n",
    "STANDALONE = False\n",
    "if STANDALONE:\n",
    "    print(\"parameters not injected, running with standalone_parameters\")\n",
    "    parameters = standalone_parameters\n",
    "\n",
    "if not 'parameters' in locals() and not 'parameters' in globals():\n",
    "    raise Exception(\"Parameter injection failed\")\n",
    "\n",
    "#Use an easy dict for all the parameters\n",
    "p = EasyDict(parameters)\n",
    "\n",
    "supplied_keys = set(p.keys())\n",
    "\n",
    "if  supplied_keys != required_parameters:\n",
    "    print(\"Parameters are incorrect\")\n",
    "    if len(supplied_keys - required_parameters)>0: print(\"Shouldn't have:\", str(supplied_keys - required_parameters))\n",
    "    if len(required_parameters - supplied_keys)>0: print(\"Need to have:\", str(required_parameters - supplied_keys))\n",
    "    raise RuntimeError(\"Parameters are incorrect\")\n",
    "\n"
   ]
  },
  {
   "cell_type": "code",
   "execution_count": 6,
   "id": "d5c66a71",
   "metadata": {
    "execution": {
     "iopub.execute_input": "2022-03-26T04:00:44.899688Z",
     "iopub.status.busy": "2022-03-26T04:00:44.899312Z",
     "iopub.status.idle": "2022-03-26T04:00:44.902521Z",
     "shell.execute_reply": "2022-03-26T04:00:44.902823Z"
    },
    "papermill": {
     "duration": 0.021244,
     "end_time": "2022-03-26T04:00:44.902905",
     "exception": false,
     "start_time": "2022-03-26T04:00:44.881661",
     "status": "completed"
    },
    "tags": []
   },
   "outputs": [],
   "source": [
    "###################################\n",
    "# Set the RNGs and make it all deterministic\n",
    "###################################\n",
    "np.random.seed(p.seed)\n",
    "random.seed(p.seed)\n",
    "torch.manual_seed(p.seed)\n",
    "\n",
    "torch.use_deterministic_algorithms(True) "
   ]
  },
  {
   "cell_type": "code",
   "execution_count": 7,
   "id": "92a65876",
   "metadata": {
    "execution": {
     "iopub.execute_input": "2022-03-26T04:00:44.941681Z",
     "iopub.status.busy": "2022-03-26T04:00:44.941313Z",
     "iopub.status.idle": "2022-03-26T04:00:44.943686Z",
     "shell.execute_reply": "2022-03-26T04:00:44.943988Z"
    },
    "papermill": {
     "duration": 0.020639,
     "end_time": "2022-03-26T04:00:44.944070",
     "exception": false,
     "start_time": "2022-03-26T04:00:44.923431",
     "status": "completed"
    },
    "tags": []
   },
   "outputs": [],
   "source": [
    "torch.set_default_dtype(eval(p.torch_default_dtype))"
   ]
  },
  {
   "cell_type": "code",
   "execution_count": 8,
   "id": "f1a32f01",
   "metadata": {
    "execution": {
     "iopub.execute_input": "2022-03-26T04:00:44.981740Z",
     "iopub.status.busy": "2022-03-26T04:00:44.981368Z",
     "iopub.status.idle": "2022-03-26T04:00:45.022194Z",
     "shell.execute_reply": "2022-03-26T04:00:45.021484Z"
    },
    "papermill": {
     "duration": 0.061304,
     "end_time": "2022-03-26T04:00:45.022358",
     "exception": false,
     "start_time": "2022-03-26T04:00:44.961054",
     "status": "completed"
    },
    "tags": []
   },
   "outputs": [],
   "source": [
    "###################################\n",
    "# Build the network(s)\n",
    "# Note: It's critical to do this AFTER setting the RNG\n",
    "###################################\n",
    "x_net = build_sequential(p.x_net)"
   ]
  },
  {
   "cell_type": "code",
   "execution_count": 9,
   "id": "a276cd83",
   "metadata": {
    "execution": {
     "iopub.execute_input": "2022-03-26T04:00:45.058153Z",
     "iopub.status.busy": "2022-03-26T04:00:45.057791Z",
     "iopub.status.idle": "2022-03-26T04:00:45.059361Z",
     "shell.execute_reply": "2022-03-26T04:00:45.059675Z"
    },
    "papermill": {
     "duration": 0.01835,
     "end_time": "2022-03-26T04:00:45.059757",
     "exception": false,
     "start_time": "2022-03-26T04:00:45.041407",
     "status": "completed"
    },
    "tags": []
   },
   "outputs": [],
   "source": [
    "start_time_secs = time.time()"
   ]
  },
  {
   "cell_type": "code",
   "execution_count": 10,
   "id": "de702e48",
   "metadata": {
    "execution": {
     "iopub.execute_input": "2022-03-26T04:00:45.104202Z",
     "iopub.status.busy": "2022-03-26T04:00:45.093003Z",
     "iopub.status.idle": "2022-03-26T04:00:51.844598Z",
     "shell.execute_reply": "2022-03-26T04:00:51.845280Z"
    },
    "papermill": {
     "duration": 6.768709,
     "end_time": "2022-03-26T04:00:51.845515",
     "exception": false,
     "start_time": "2022-03-26T04:00:45.076806",
     "status": "completed"
    },
    "tags": []
   },
   "outputs": [],
   "source": [
    "def wrap_in_dataloader(p, ds):\n",
    "    return torch.utils.data.DataLoader(\n",
    "        ds,\n",
    "        batch_size=p.batch_size,\n",
    "        shuffle=True,\n",
    "        num_workers=1,\n",
    "        persistent_workers=True,\n",
    "        prefetch_factor=50,\n",
    "        pin_memory=True\n",
    "    )\n",
    "\n",
    "taf_source = Traditional_Accessor_Factory(\n",
    "    labels=p.labels,\n",
    "    domains=p.domains_source,\n",
    "    num_examples_per_domain_per_label=p.num_examples_per_domain_per_label_source,\n",
    "    pickle_path=os.path.join(get_datasets_base_path(), p.pickle_name_source),\n",
    "    seed=p.dataset_seed\n",
    ")\n",
    "train_original_source, val_original_source, test_original_source = \\\n",
    "    taf_source.get_train(), taf_source.get_val(), taf_source.get_test()\n",
    "\n",
    "\n",
    "taf_target = Traditional_Accessor_Factory(\n",
    "    labels=p.labels,\n",
    "    domains=p.domains_target,\n",
    "    num_examples_per_domain_per_label=p.num_examples_per_domain_per_label_source,\n",
    "    pickle_path=os.path.join(get_datasets_base_path(), p.pickle_name_target),\n",
    "    seed=p.dataset_seed\n",
    ")\n",
    "train_original_target, val_original_target, test_original_target = \\\n",
    "    taf_target.get_train(), taf_target.get_val(), taf_target.get_test()\n",
    "\n",
    "\n",
    "# For CNN We only use X and Y. And we only train on the source.\n",
    "# Properly form the data using a transform lambda and Lazy_Map. Finally wrap them in a dataloader\n",
    "\n",
    "transform_lambda = lambda ex: ex[:2] # Strip the tuple to just (x,y)\n",
    "\n",
    "\n",
    "train_processed_source = wrap_in_dataloader(\n",
    "    p,\n",
    "    Lazy_Map(train_original_source, transform_lambda)\n",
    ")\n",
    "val_processed_source = wrap_in_dataloader(\n",
    "    p,\n",
    "    Lazy_Map(val_original_source, transform_lambda)\n",
    ")\n",
    "test_processed_source = wrap_in_dataloader(\n",
    "    p,\n",
    "    Lazy_Map(test_original_source, transform_lambda)\n",
    ")\n",
    "\n",
    "train_processed_target = wrap_in_dataloader(\n",
    "    p,\n",
    "    Lazy_Map(train_original_target, transform_lambda)\n",
    ")\n",
    "val_processed_target = wrap_in_dataloader(\n",
    "    p,\n",
    "    Lazy_Map(val_original_target, transform_lambda)\n",
    ")\n",
    "test_processed_target  = wrap_in_dataloader(\n",
    "    p,\n",
    "    Lazy_Map(test_original_target, transform_lambda)\n",
    ")\n",
    "\n",
    "\n",
    "\n",
    "datasets = EasyDict({\n",
    "    \"source\": {\n",
    "        \"original\": {\"train\":train_original_source, \"val\":val_original_source, \"test\":test_original_source},\n",
    "        \"processed\": {\"train\":train_processed_source, \"val\":val_processed_source, \"test\":test_processed_source}\n",
    "    },\n",
    "    \"target\": {\n",
    "        \"original\": {\"train\":train_original_target, \"val\":val_original_target, \"test\":test_original_target},\n",
    "        \"processed\": {\"train\":train_processed_target, \"val\":val_processed_target, \"test\":test_processed_target}\n",
    "    },\n",
    "})"
   ]
  },
  {
   "cell_type": "code",
   "execution_count": 11,
   "id": "a11b26bd",
   "metadata": {
    "execution": {
     "iopub.execute_input": "2022-03-26T04:00:51.920964Z",
     "iopub.status.busy": "2022-03-26T04:00:51.920122Z",
     "iopub.status.idle": "2022-03-26T04:00:57.457463Z",
     "shell.execute_reply": "2022-03-26T04:00:57.456595Z"
    },
    "papermill": {
     "duration": 5.593746,
     "end_time": "2022-03-26T04:00:57.457644",
     "exception": false,
     "start_time": "2022-03-26T04:00:51.863898",
     "status": "completed"
    },
    "tags": []
   },
   "outputs": [
    {
     "data": {
      "text/plain": [
       "torch.float32"
      ]
     },
     "execution_count": 11,
     "metadata": {},
     "output_type": "execute_result"
    }
   ],
   "source": [
    "ep = next(iter(test_processed_target))\n",
    "ep[0].dtype"
   ]
  },
  {
   "cell_type": "code",
   "execution_count": 12,
   "id": "19425fad",
   "metadata": {
    "execution": {
     "iopub.execute_input": "2022-03-26T04:00:57.495324Z",
     "iopub.status.busy": "2022-03-26T04:00:57.494901Z",
     "iopub.status.idle": "2022-03-26T04:00:57.542272Z",
     "shell.execute_reply": "2022-03-26T04:00:57.541564Z"
    },
    "papermill": {
     "duration": 0.06574,
     "end_time": "2022-03-26T04:00:57.542427",
     "exception": false,
     "start_time": "2022-03-26T04:00:57.476687",
     "status": "completed"
    },
    "tags": []
   },
   "outputs": [],
   "source": [
    "model = Configurable_Vanilla(\n",
    "    x_net=x_net,\n",
    "    label_loss_object=torch.nn.NLLLoss(),\n",
    "    learning_rate=p.lr\n",
    ")"
   ]
  },
  {
   "cell_type": "code",
   "execution_count": 13,
   "id": "7f6d4f2c",
   "metadata": {
    "execution": {
     "iopub.execute_input": "2022-03-26T04:00:57.581384Z",
     "iopub.status.busy": "2022-03-26T04:00:57.581012Z",
     "iopub.status.idle": "2022-03-26T04:04:31.827964Z",
     "shell.execute_reply": "2022-03-26T04:04:31.827616Z"
    },
    "papermill": {
     "duration": 214.265267,
     "end_time": "2022-03-26T04:04:31.828051",
     "exception": false,
     "start_time": "2022-03-26T04:00:57.562784",
     "status": "completed"
    },
    "tags": []
   },
   "outputs": [
    {
     "name": "stdout",
     "output_type": "stream",
     "text": [
      "epoch: 1, [batch: 1 / 1370], examples_per_second: 821.6699, train_label_loss: 3.9463, \n"
     ]
    },
    {
     "name": "stdout",
     "output_type": "stream",
     "text": [
      "epoch: 1, [batch: 137 / 1370], examples_per_second: 10554.9663, train_label_loss: 1.7938, \n"
     ]
    },
    {
     "name": "stdout",
     "output_type": "stream",
     "text": [
      "epoch: 1, [batch: 274 / 1370], examples_per_second: 10680.0965, train_label_loss: 0.8678, \n"
     ]
    },
    {
     "name": "stdout",
     "output_type": "stream",
     "text": [
      "epoch: 1, [batch: 411 / 1370], examples_per_second: 10701.8132, train_label_loss: 0.3638, \n"
     ]
    },
    {
     "name": "stdout",
     "output_type": "stream",
     "text": [
      "epoch: 1, [batch: 548 / 1370], examples_per_second: 10590.8669, train_label_loss: 0.2927, \n"
     ]
    },
    {
     "name": "stdout",
     "output_type": "stream",
     "text": [
      "epoch: 1, [batch: 685 / 1370], examples_per_second: 10590.4476, train_label_loss: 0.2251, \n"
     ]
    },
    {
     "name": "stdout",
     "output_type": "stream",
     "text": [
      "epoch: 1, [batch: 822 / 1370], examples_per_second: 10709.5312, train_label_loss: 0.1676, \n"
     ]
    },
    {
     "name": "stdout",
     "output_type": "stream",
     "text": [
      "epoch: 1, [batch: 959 / 1370], examples_per_second: 10583.1773, train_label_loss: 0.1483, \n"
     ]
    },
    {
     "name": "stdout",
     "output_type": "stream",
     "text": [
      "epoch: 1, [batch: 1096 / 1370], examples_per_second: 10578.2366, train_label_loss: 0.0624, \n"
     ]
    },
    {
     "name": "stdout",
     "output_type": "stream",
     "text": [
      "epoch: 1, [batch: 1233 / 1370], examples_per_second: 10666.0785, train_label_loss: 0.0573, \n"
     ]
    },
    {
     "name": "stdout",
     "output_type": "stream",
     "text": [
      "=============================================================\n",
      "epoch: 1, source_val_acc_label: 0.9899, source_val_label_loss: 0.0759, target_val_acc_label: 0.9899, target_val_label_loss: 0.0759, \n",
      "=============================================================\n"
     ]
    },
    {
     "name": "stdout",
     "output_type": "stream",
     "text": [
      "New best\n",
      "epoch: 2, [batch: 1 / 1370], examples_per_second: 52.2578, train_label_loss: 0.0319, \n"
     ]
    },
    {
     "name": "stdout",
     "output_type": "stream",
     "text": [
      "epoch: 2, [batch: 137 / 1370], examples_per_second: 10611.7023, train_label_loss: 0.0392, \n"
     ]
    },
    {
     "name": "stdout",
     "output_type": "stream",
     "text": [
      "epoch: 2, [batch: 274 / 1370], examples_per_second: 10691.4916, train_label_loss: 0.0620, \n"
     ]
    },
    {
     "name": "stdout",
     "output_type": "stream",
     "text": [
      "epoch: 2, [batch: 411 / 1370], examples_per_second: 10487.5362, train_label_loss: 0.0440, \n"
     ]
    },
    {
     "name": "stdout",
     "output_type": "stream",
     "text": [
      "epoch: 2, [batch: 548 / 1370], examples_per_second: 10729.6459, train_label_loss: 0.0194, \n"
     ]
    },
    {
     "name": "stdout",
     "output_type": "stream",
     "text": [
      "epoch: 2, [batch: 685 / 1370], examples_per_second: 10545.1622, train_label_loss: 0.0190, \n"
     ]
    },
    {
     "name": "stdout",
     "output_type": "stream",
     "text": [
      "epoch: 2, [batch: 822 / 1370], examples_per_second: 10546.5473, train_label_loss: 0.0199, \n"
     ]
    },
    {
     "name": "stdout",
     "output_type": "stream",
     "text": [
      "epoch: 2, [batch: 959 / 1370], examples_per_second: 10596.4987, train_label_loss: 0.0123, \n"
     ]
    },
    {
     "name": "stdout",
     "output_type": "stream",
     "text": [
      "epoch: 2, [batch: 1096 / 1370], examples_per_second: 10680.2594, train_label_loss: 0.0271, \n"
     ]
    },
    {
     "name": "stdout",
     "output_type": "stream",
     "text": [
      "epoch: 2, [batch: 1233 / 1370], examples_per_second: 10591.1506, train_label_loss: 0.0195, \n"
     ]
    },
    {
     "name": "stdout",
     "output_type": "stream",
     "text": [
      "=============================================================\n",
      "epoch: 2, source_val_acc_label: 0.9934, source_val_label_loss: 0.0329, target_val_acc_label: 0.9934, target_val_label_loss: 0.0329, \n",
      "=============================================================\n"
     ]
    },
    {
     "name": "stdout",
     "output_type": "stream",
     "text": [
      "New best\n",
      "epoch: 3, [batch: 1 / 1370], examples_per_second: 56.3181, train_label_loss: 0.0227, \n"
     ]
    },
    {
     "name": "stdout",
     "output_type": "stream",
     "text": [
      "epoch: 3, [batch: 137 / 1370], examples_per_second: 10556.1444, train_label_loss: 0.0346, \n"
     ]
    },
    {
     "name": "stdout",
     "output_type": "stream",
     "text": [
      "epoch: 3, [batch: 274 / 1370], examples_per_second: 10540.6270, train_label_loss: 0.0084, \n"
     ]
    },
    {
     "name": "stdout",
     "output_type": "stream",
     "text": [
      "epoch: 3, [batch: 411 / 1370], examples_per_second: 10536.7327, train_label_loss: 0.0194, \n"
     ]
    },
    {
     "name": "stdout",
     "output_type": "stream",
     "text": [
      "epoch: 3, [batch: 548 / 1370], examples_per_second: 10523.9119, train_label_loss: 0.0177, \n"
     ]
    },
    {
     "name": "stdout",
     "output_type": "stream",
     "text": [
      "epoch: 3, [batch: 685 / 1370], examples_per_second: 10634.4827, train_label_loss: 0.0048, \n"
     ]
    },
    {
     "name": "stdout",
     "output_type": "stream",
     "text": [
      "epoch: 3, [batch: 822 / 1370], examples_per_second: 10698.6018, train_label_loss: 0.0074, \n"
     ]
    },
    {
     "name": "stdout",
     "output_type": "stream",
     "text": [
      "epoch: 3, [batch: 959 / 1370], examples_per_second: 10608.8743, train_label_loss: 0.0074, \n"
     ]
    },
    {
     "name": "stdout",
     "output_type": "stream",
     "text": [
      "epoch: 3, [batch: 1096 / 1370], examples_per_second: 10637.0941, train_label_loss: 0.0092, \n"
     ]
    },
    {
     "name": "stdout",
     "output_type": "stream",
     "text": [
      "epoch: 3, [batch: 1233 / 1370], examples_per_second: 11089.4609, train_label_loss: 0.0055, \n"
     ]
    },
    {
     "name": "stdout",
     "output_type": "stream",
     "text": [
      "=============================================================\n",
      "epoch: 3, source_val_acc_label: 0.9941, source_val_label_loss: 0.0255, target_val_acc_label: 0.9941, target_val_label_loss: 0.0255, \n",
      "=============================================================\n"
     ]
    },
    {
     "name": "stdout",
     "output_type": "stream",
     "text": [
      "New best\n",
      "epoch: 4, [batch: 1 / 1370], examples_per_second: 66.0820, train_label_loss: 0.0087, \n"
     ]
    },
    {
     "name": "stdout",
     "output_type": "stream",
     "text": [
      "epoch: 4, [batch: 137 / 1370], examples_per_second: 11631.3453, train_label_loss: 0.0031, \n"
     ]
    },
    {
     "name": "stdout",
     "output_type": "stream",
     "text": [
      "epoch: 4, [batch: 274 / 1370], examples_per_second: 11651.7784, train_label_loss: 0.0034, \n"
     ]
    },
    {
     "name": "stdout",
     "output_type": "stream",
     "text": [
      "epoch: 4, [batch: 411 / 1370], examples_per_second: 11614.0006, train_label_loss: 0.0032, \n"
     ]
    },
    {
     "name": "stdout",
     "output_type": "stream",
     "text": [
      "epoch: 4, [batch: 548 / 1370], examples_per_second: 11655.6393, train_label_loss: 0.0026, \n"
     ]
    },
    {
     "name": "stdout",
     "output_type": "stream",
     "text": [
      "epoch: 4, [batch: 685 / 1370], examples_per_second: 11632.4274, train_label_loss: 0.0047, \n"
     ]
    },
    {
     "name": "stdout",
     "output_type": "stream",
     "text": [
      "epoch: 4, [batch: 822 / 1370], examples_per_second: 11682.4463, train_label_loss: 0.0259, \n"
     ]
    },
    {
     "name": "stdout",
     "output_type": "stream",
     "text": [
      "epoch: 4, [batch: 959 / 1370], examples_per_second: 11713.0485, train_label_loss: 0.0051, \n"
     ]
    },
    {
     "name": "stdout",
     "output_type": "stream",
     "text": [
      "epoch: 4, [batch: 1096 / 1370], examples_per_second: 11670.6994, train_label_loss: 0.0029, \n"
     ]
    },
    {
     "name": "stdout",
     "output_type": "stream",
     "text": [
      "epoch: 4, [batch: 1233 / 1370], examples_per_second: 11752.7006, train_label_loss: 0.0022, \n"
     ]
    },
    {
     "name": "stdout",
     "output_type": "stream",
     "text": [
      "=============================================================\n",
      "epoch: 4, source_val_acc_label: 0.9971, source_val_label_loss: 0.0136, target_val_acc_label: 0.9971, target_val_label_loss: 0.0136, \n",
      "=============================================================\n"
     ]
    },
    {
     "name": "stdout",
     "output_type": "stream",
     "text": [
      "New best\n",
      "epoch: 5, [batch: 1 / 1370], examples_per_second: 65.4846, train_label_loss: 0.0060, \n"
     ]
    },
    {
     "name": "stdout",
     "output_type": "stream",
     "text": [
      "epoch: 5, [batch: 137 / 1370], examples_per_second: 11675.5467, train_label_loss: 0.0026, \n"
     ]
    },
    {
     "name": "stdout",
     "output_type": "stream",
     "text": [
      "epoch: 5, [batch: 274 / 1370], examples_per_second: 11659.8817, train_label_loss: 0.0020, \n"
     ]
    },
    {
     "name": "stdout",
     "output_type": "stream",
     "text": [
      "epoch: 5, [batch: 411 / 1370], examples_per_second: 11639.1775, train_label_loss: 0.0123, \n"
     ]
    },
    {
     "name": "stdout",
     "output_type": "stream",
     "text": [
      "epoch: 5, [batch: 548 / 1370], examples_per_second: 11771.7777, train_label_loss: 0.0013, \n"
     ]
    },
    {
     "name": "stdout",
     "output_type": "stream",
     "text": [
      "epoch: 5, [batch: 685 / 1370], examples_per_second: 11686.7175, train_label_loss: 0.0020, \n"
     ]
    },
    {
     "name": "stdout",
     "output_type": "stream",
     "text": [
      "epoch: 5, [batch: 822 / 1370], examples_per_second: 11650.3886, train_label_loss: 0.0102, \n"
     ]
    },
    {
     "name": "stdout",
     "output_type": "stream",
     "text": [
      "epoch: 5, [batch: 959 / 1370], examples_per_second: 11762.6998, train_label_loss: 0.0019, \n"
     ]
    },
    {
     "name": "stdout",
     "output_type": "stream",
     "text": [
      "epoch: 5, [batch: 1096 / 1370], examples_per_second: 11756.4239, train_label_loss: 0.0023, \n"
     ]
    },
    {
     "name": "stdout",
     "output_type": "stream",
     "text": [
      "epoch: 5, [batch: 1233 / 1370], examples_per_second: 11767.9600, train_label_loss: 0.0016, \n"
     ]
    },
    {
     "name": "stdout",
     "output_type": "stream",
     "text": [
      "=============================================================\n",
      "epoch: 5, source_val_acc_label: 0.9914, source_val_label_loss: 0.0307, target_val_acc_label: 0.9914, target_val_label_loss: 0.0307, \n",
      "=============================================================\n"
     ]
    },
    {
     "name": "stdout",
     "output_type": "stream",
     "text": [
      "epoch: 6, [batch: 1 / 1370], examples_per_second: 65.5027, train_label_loss: 0.0022, \n"
     ]
    },
    {
     "name": "stdout",
     "output_type": "stream",
     "text": [
      "epoch: 6, [batch: 137 / 1370], examples_per_second: 11625.2617, train_label_loss: 0.0017, \n"
     ]
    },
    {
     "name": "stdout",
     "output_type": "stream",
     "text": [
      "epoch: 6, [batch: 274 / 1370], examples_per_second: 11735.5068, train_label_loss: 0.0066, \n"
     ]
    },
    {
     "name": "stdout",
     "output_type": "stream",
     "text": [
      "epoch: 6, [batch: 411 / 1370], examples_per_second: 11719.1605, train_label_loss: 0.0046, \n"
     ]
    },
    {
     "name": "stdout",
     "output_type": "stream",
     "text": [
      "epoch: 6, [batch: 548 / 1370], examples_per_second: 11709.2147, train_label_loss: 0.0054, \n"
     ]
    },
    {
     "name": "stdout",
     "output_type": "stream",
     "text": [
      "epoch: 6, [batch: 685 / 1370], examples_per_second: 11697.3637, train_label_loss: 0.0005, \n"
     ]
    },
    {
     "name": "stdout",
     "output_type": "stream",
     "text": [
      "epoch: 6, [batch: 822 / 1370], examples_per_second: 11718.7386, train_label_loss: 0.0010, \n"
     ]
    },
    {
     "name": "stdout",
     "output_type": "stream",
     "text": [
      "epoch: 6, [batch: 959 / 1370], examples_per_second: 11743.6446, train_label_loss: 0.0018, \n"
     ]
    },
    {
     "name": "stdout",
     "output_type": "stream",
     "text": [
      "epoch: 6, [batch: 1096 / 1370], examples_per_second: 11715.4347, train_label_loss: 0.0042, \n"
     ]
    },
    {
     "name": "stdout",
     "output_type": "stream",
     "text": [
      "epoch: 6, [batch: 1233 / 1370], examples_per_second: 11751.1796, train_label_loss: 0.0029, \n"
     ]
    },
    {
     "name": "stdout",
     "output_type": "stream",
     "text": [
      "=============================================================\n",
      "epoch: 6, source_val_acc_label: 0.9956, source_val_label_loss: 0.0176, target_val_acc_label: 0.9956, target_val_label_loss: 0.0176, \n",
      "=============================================================\n"
     ]
    },
    {
     "name": "stdout",
     "output_type": "stream",
     "text": [
      "epoch: 7, [batch: 1 / 1370], examples_per_second: 66.6555, train_label_loss: 0.0022, \n"
     ]
    },
    {
     "name": "stdout",
     "output_type": "stream",
     "text": [
      "epoch: 7, [batch: 137 / 1370], examples_per_second: 11674.5759, train_label_loss: 0.0041, \n"
     ]
    },
    {
     "name": "stdout",
     "output_type": "stream",
     "text": [
      "epoch: 7, [batch: 274 / 1370], examples_per_second: 11734.1120, train_label_loss: 0.0004, \n"
     ]
    },
    {
     "name": "stdout",
     "output_type": "stream",
     "text": [
      "epoch: 7, [batch: 411 / 1370], examples_per_second: 11736.4881, train_label_loss: 0.0172, \n"
     ]
    },
    {
     "name": "stdout",
     "output_type": "stream",
     "text": [
      "epoch: 7, [batch: 548 / 1370], examples_per_second: 11788.0634, train_label_loss: 0.0104, \n"
     ]
    },
    {
     "name": "stdout",
     "output_type": "stream",
     "text": [
      "epoch: 7, [batch: 685 / 1370], examples_per_second: 11738.5391, train_label_loss: 0.0021, \n"
     ]
    },
    {
     "name": "stdout",
     "output_type": "stream",
     "text": [
      "epoch: 7, [batch: 822 / 1370], examples_per_second: 11685.3361, train_label_loss: 0.0008, \n"
     ]
    },
    {
     "name": "stdout",
     "output_type": "stream",
     "text": [
      "epoch: 7, [batch: 959 / 1370], examples_per_second: 11753.9007, train_label_loss: 0.0006, \n"
     ]
    },
    {
     "name": "stdout",
     "output_type": "stream",
     "text": [
      "epoch: 7, [batch: 1096 / 1370], examples_per_second: 11755.5351, train_label_loss: 0.0107, \n"
     ]
    },
    {
     "name": "stdout",
     "output_type": "stream",
     "text": [
      "epoch: 7, [batch: 1233 / 1370], examples_per_second: 12135.9190, train_label_loss: 0.0021, \n"
     ]
    },
    {
     "name": "stdout",
     "output_type": "stream",
     "text": [
      "=============================================================\n",
      "epoch: 7, source_val_acc_label: 0.9795, source_val_label_loss: 0.0696, target_val_acc_label: 0.9795, target_val_label_loss: 0.0696, \n",
      "=============================================================\n"
     ]
    },
    {
     "name": "stdout",
     "output_type": "stream",
     "text": [
      "epoch: 8, [batch: 1 / 1370], examples_per_second: 67.6966, train_label_loss: 0.0022, \n"
     ]
    },
    {
     "name": "stdout",
     "output_type": "stream",
     "text": [
      "epoch: 8, [batch: 137 / 1370], examples_per_second: 11624.5898, train_label_loss: 0.0027, \n"
     ]
    },
    {
     "name": "stdout",
     "output_type": "stream",
     "text": [
      "epoch: 8, [batch: 274 / 1370], examples_per_second: 11724.8024, train_label_loss: 0.0013, \n"
     ]
    },
    {
     "name": "stdout",
     "output_type": "stream",
     "text": [
      "epoch: 8, [batch: 411 / 1370], examples_per_second: 11783.8745, train_label_loss: 0.0048, \n"
     ]
    },
    {
     "name": "stdout",
     "output_type": "stream",
     "text": [
      "epoch: 8, [batch: 548 / 1370], examples_per_second: 11645.3289, train_label_loss: 0.0002, \n"
     ]
    },
    {
     "name": "stdout",
     "output_type": "stream",
     "text": [
      "epoch: 8, [batch: 685 / 1370], examples_per_second: 11713.3096, train_label_loss: 0.0005, \n"
     ]
    },
    {
     "name": "stdout",
     "output_type": "stream",
     "text": [
      "epoch: 8, [batch: 822 / 1370], examples_per_second: 11656.8049, train_label_loss: 0.0181, \n"
     ]
    },
    {
     "name": "stdout",
     "output_type": "stream",
     "text": [
      "epoch: 8, [batch: 959 / 1370], examples_per_second: 11745.0979, train_label_loss: 0.0010, \n"
     ]
    },
    {
     "name": "stdout",
     "output_type": "stream",
     "text": [
      "epoch: 8, [batch: 1096 / 1370], examples_per_second: 11660.6784, train_label_loss: 0.0071, \n"
     ]
    },
    {
     "name": "stdout",
     "output_type": "stream",
     "text": [
      "epoch: 8, [batch: 1233 / 1370], examples_per_second: 11715.4160, train_label_loss: 0.0040, \n"
     ]
    },
    {
     "name": "stdout",
     "output_type": "stream",
     "text": [
      "=============================================================\n",
      "epoch: 8, source_val_acc_label: 0.9977, source_val_label_loss: 0.0098, target_val_acc_label: 0.9977, target_val_label_loss: 0.0098, \n",
      "=============================================================\n"
     ]
    },
    {
     "name": "stdout",
     "output_type": "stream",
     "text": [
      "New best\n",
      "epoch: 9, [batch: 1 / 1370], examples_per_second: 66.9811, train_label_loss: 0.0003, \n"
     ]
    },
    {
     "name": "stdout",
     "output_type": "stream",
     "text": [
      "epoch: 9, [batch: 137 / 1370], examples_per_second: 11680.7804, train_label_loss: 0.0003, \n"
     ]
    },
    {
     "name": "stdout",
     "output_type": "stream",
     "text": [
      "epoch: 9, [batch: 274 / 1370], examples_per_second: 11654.6789, train_label_loss: 0.0007, \n"
     ]
    },
    {
     "name": "stdout",
     "output_type": "stream",
     "text": [
      "epoch: 9, [batch: 411 / 1370], examples_per_second: 11724.7594, train_label_loss: 0.0012, \n"
     ]
    },
    {
     "name": "stdout",
     "output_type": "stream",
     "text": [
      "epoch: 9, [batch: 548 / 1370], examples_per_second: 11713.1026, train_label_loss: 0.0005, \n"
     ]
    },
    {
     "name": "stdout",
     "output_type": "stream",
     "text": [
      "epoch: 9, [batch: 685 / 1370], examples_per_second: 11708.6909, train_label_loss: 0.0010, \n"
     ]
    },
    {
     "name": "stdout",
     "output_type": "stream",
     "text": [
      "epoch: 9, [batch: 822 / 1370], examples_per_second: 11719.1400, train_label_loss: 0.0006, \n"
     ]
    },
    {
     "name": "stdout",
     "output_type": "stream",
     "text": [
      "epoch: 9, [batch: 959 / 1370], examples_per_second: 11747.2327, train_label_loss: 0.0008, \n"
     ]
    },
    {
     "name": "stdout",
     "output_type": "stream",
     "text": [
      "epoch: 9, [batch: 1096 / 1370], examples_per_second: 11696.2922, train_label_loss: 0.0007, \n"
     ]
    },
    {
     "name": "stdout",
     "output_type": "stream",
     "text": [
      "epoch: 9, [batch: 1233 / 1370], examples_per_second: 11714.9122, train_label_loss: 0.0002, \n"
     ]
    },
    {
     "name": "stdout",
     "output_type": "stream",
     "text": [
      "=============================================================\n",
      "epoch: 9, source_val_acc_label: 0.9966, source_val_label_loss: 0.0156, target_val_acc_label: 0.9966, target_val_label_loss: 0.0156, \n",
      "=============================================================\n"
     ]
    },
    {
     "name": "stdout",
     "output_type": "stream",
     "text": [
      "epoch: 10, [batch: 1 / 1370], examples_per_second: 66.6617, train_label_loss: 0.0011, \n"
     ]
    },
    {
     "name": "stdout",
     "output_type": "stream",
     "text": [
      "epoch: 10, [batch: 137 / 1370], examples_per_second: 11589.7010, train_label_loss: 0.0006, \n"
     ]
    },
    {
     "name": "stdout",
     "output_type": "stream",
     "text": [
      "epoch: 10, [batch: 274 / 1370], examples_per_second: 11650.0897, train_label_loss: 0.0003, \n"
     ]
    },
    {
     "name": "stdout",
     "output_type": "stream",
     "text": [
      "epoch: 10, [batch: 411 / 1370], examples_per_second: 11689.9866, train_label_loss: 0.0002, \n"
     ]
    },
    {
     "name": "stdout",
     "output_type": "stream",
     "text": [
      "epoch: 10, [batch: 548 / 1370], examples_per_second: 11698.3516, train_label_loss: 0.0005, \n"
     ]
    },
    {
     "name": "stdout",
     "output_type": "stream",
     "text": [
      "epoch: 10, [batch: 685 / 1370], examples_per_second: 11689.5649, train_label_loss: 0.0003, \n"
     ]
    },
    {
     "name": "stdout",
     "output_type": "stream",
     "text": [
      "epoch: 10, [batch: 822 / 1370], examples_per_second: 11721.3008, train_label_loss: 0.0002, \n"
     ]
    },
    {
     "name": "stdout",
     "output_type": "stream",
     "text": [
      "epoch: 10, [batch: 959 / 1370], examples_per_second: 11739.1386, train_label_loss: 0.0001, \n"
     ]
    },
    {
     "name": "stdout",
     "output_type": "stream",
     "text": [
      "epoch: 10, [batch: 1096 / 1370], examples_per_second: 11709.6397, train_label_loss: 0.0005, \n"
     ]
    },
    {
     "name": "stdout",
     "output_type": "stream",
     "text": [
      "epoch: 10, [batch: 1233 / 1370], examples_per_second: 11704.3757, train_label_loss: 0.0068, \n"
     ]
    },
    {
     "name": "stdout",
     "output_type": "stream",
     "text": [
      "=============================================================\n",
      "epoch: 10, source_val_acc_label: 0.9959, source_val_label_loss: 0.0162, target_val_acc_label: 0.9959, target_val_label_loss: 0.0162, \n",
      "=============================================================\n"
     ]
    },
    {
     "name": "stdout",
     "output_type": "stream",
     "text": [
      "epoch: 11, [batch: 1 / 1370], examples_per_second: 65.7895, train_label_loss: 0.0004, \n"
     ]
    },
    {
     "name": "stdout",
     "output_type": "stream",
     "text": [
      "epoch: 11, [batch: 137 / 1370], examples_per_second: 11689.8243, train_label_loss: 0.0002, \n"
     ]
    },
    {
     "name": "stdout",
     "output_type": "stream",
     "text": [
      "epoch: 11, [batch: 274 / 1370], examples_per_second: 11613.5128, train_label_loss: 0.0035, \n"
     ]
    },
    {
     "name": "stdout",
     "output_type": "stream",
     "text": [
      "epoch: 11, [batch: 411 / 1370], examples_per_second: 11683.1050, train_label_loss: 0.0003, \n"
     ]
    },
    {
     "name": "stdout",
     "output_type": "stream",
     "text": [
      "epoch: 11, [batch: 548 / 1370], examples_per_second: 11599.9773, train_label_loss: 0.0015, \n"
     ]
    },
    {
     "name": "stdout",
     "output_type": "stream",
     "text": [
      "epoch: 11, [batch: 685 / 1370], examples_per_second: 11503.3013, train_label_loss: 0.0024, \n"
     ]
    },
    {
     "name": "stdout",
     "output_type": "stream",
     "text": [
      "epoch: 11, [batch: 822 / 1370], examples_per_second: 11598.8066, train_label_loss: 0.0004, \n"
     ]
    },
    {
     "name": "stdout",
     "output_type": "stream",
     "text": [
      "epoch: 11, [batch: 959 / 1370], examples_per_second: 11613.8319, train_label_loss: 0.0047, \n"
     ]
    },
    {
     "name": "stdout",
     "output_type": "stream",
     "text": [
      "epoch: 11, [batch: 1096 / 1370], examples_per_second: 11704.1522, train_label_loss: 0.0003, \n"
     ]
    },
    {
     "name": "stdout",
     "output_type": "stream",
     "text": [
      "epoch: 11, [batch: 1233 / 1370], examples_per_second: 11703.4687, train_label_loss: 0.0004, \n"
     ]
    },
    {
     "name": "stdout",
     "output_type": "stream",
     "text": [
      "=============================================================\n",
      "epoch: 11, source_val_acc_label: 0.9975, source_val_label_loss: 0.0104, target_val_acc_label: 0.9975, target_val_label_loss: 0.0106, \n",
      "=============================================================\n"
     ]
    },
    {
     "name": "stdout",
     "output_type": "stream",
     "text": [
      "epoch: 12, [batch: 1 / 1370], examples_per_second: 66.4391, train_label_loss: 0.0002, \n"
     ]
    },
    {
     "name": "stdout",
     "output_type": "stream",
     "text": [
      "epoch: 12, [batch: 137 / 1370], examples_per_second: 11719.1015, train_label_loss: 0.0010, \n"
     ]
    },
    {
     "name": "stdout",
     "output_type": "stream",
     "text": [
      "epoch: 12, [batch: 274 / 1370], examples_per_second: 11718.1542, train_label_loss: 0.0002, \n"
     ]
    },
    {
     "name": "stdout",
     "output_type": "stream",
     "text": [
      "epoch: 12, [batch: 411 / 1370], examples_per_second: 11723.5353, train_label_loss: 0.0002, \n"
     ]
    },
    {
     "name": "stdout",
     "output_type": "stream",
     "text": [
      "epoch: 12, [batch: 548 / 1370], examples_per_second: 11677.6905, train_label_loss: 0.0001, \n"
     ]
    },
    {
     "name": "stdout",
     "output_type": "stream",
     "text": [
      "epoch: 12, [batch: 685 / 1370], examples_per_second: 11716.6907, train_label_loss: 0.0002, \n"
     ]
    },
    {
     "name": "stdout",
     "output_type": "stream",
     "text": [
      "epoch: 12, [batch: 822 / 1370], examples_per_second: 11729.9351, train_label_loss: 0.0000, \n"
     ]
    },
    {
     "name": "stdout",
     "output_type": "stream",
     "text": [
      "epoch: 12, [batch: 959 / 1370], examples_per_second: 11720.6134, train_label_loss: 0.0003, \n"
     ]
    },
    {
     "name": "stdout",
     "output_type": "stream",
     "text": [
      "epoch: 12, [batch: 1096 / 1370], examples_per_second: 11737.5856, train_label_loss: 0.0509, \n"
     ]
    },
    {
     "name": "stdout",
     "output_type": "stream",
     "text": [
      "epoch: 12, [batch: 1233 / 1370], examples_per_second: 11654.6900, train_label_loss: 0.0013, \n"
     ]
    },
    {
     "name": "stdout",
     "output_type": "stream",
     "text": [
      "=============================================================\n",
      "epoch: 12, source_val_acc_label: 0.9974, source_val_label_loss: 0.0111, target_val_acc_label: 0.9974, target_val_label_loss: 0.0111, \n",
      "=============================================================\n"
     ]
    },
    {
     "name": "stdout",
     "output_type": "stream",
     "text": [
      "Patience (3) exhausted\n"
     ]
    }
   ],
   "source": [
    "jig = Vanilla_Train_Eval_Test_Jig(\n",
    "    model=model,\n",
    "    path_to_best_model=p.BEST_MODEL_PATH,\n",
    "    device=p.device,\n",
    "    label_loss_object=torch.nn.NLLLoss(),\n",
    ")\n",
    "\n",
    "jig.train(\n",
    "    train_iterable=datasets.source.processed.train,\n",
    "    source_val_iterable=datasets.source.processed.val,\n",
    "    target_val_iterable=datasets.target.processed.val,\n",
    "    patience=p.patience,\n",
    "    num_epochs=p.n_epoch,\n",
    "    num_logs_per_epoch=p.NUM_LOGS_PER_EPOCH,\n",
    "    criteria_for_best=p.criteria_for_best\n",
    ")"
   ]
  },
  {
   "cell_type": "code",
   "execution_count": 14,
   "id": "4bc2ac17",
   "metadata": {
    "execution": {
     "iopub.execute_input": "2022-03-26T04:04:31.934781Z",
     "iopub.status.busy": "2022-03-26T04:04:31.934154Z",
     "iopub.status.idle": "2022-03-26T04:04:31.937198Z",
     "shell.execute_reply": "2022-03-26T04:04:31.936651Z"
    },
    "papermill": {
     "duration": 0.05927,
     "end_time": "2022-03-26T04:04:31.937328",
     "exception": false,
     "start_time": "2022-03-26T04:04:31.878058",
     "status": "completed"
    },
    "tags": []
   },
   "outputs": [],
   "source": [
    "total_experiment_time_secs = time.time() - start_time_secs"
   ]
  },
  {
   "cell_type": "code",
   "execution_count": 15,
   "id": "cae88f23",
   "metadata": {
    "execution": {
     "iopub.execute_input": "2022-03-26T04:04:32.063932Z",
     "iopub.status.busy": "2022-03-26T04:04:32.063056Z",
     "iopub.status.idle": "2022-03-26T04:04:53.017803Z",
     "shell.execute_reply": "2022-03-26T04:04:53.017043Z"
    },
    "papermill": {
     "duration": 21.024357,
     "end_time": "2022-03-26T04:04:53.017981",
     "exception": false,
     "start_time": "2022-03-26T04:04:31.993624",
     "status": "completed"
    },
    "tags": []
   },
   "outputs": [],
   "source": [
    "source_test_label_accuracy, source_test_label_loss = jig.test(datasets.source.processed.test)\n",
    "target_test_label_accuracy, target_test_label_loss = jig.test(datasets.target.processed.test)\n",
    "\n",
    "source_val_label_accuracy, source_val_label_loss = jig.test(datasets.source.processed.val)\n",
    "target_val_label_accuracy, target_val_label_loss = jig.test(datasets.target.processed.val)\n",
    "\n",
    "history = jig.get_history()\n",
    "\n",
    "total_epochs_trained = len(history[\"epoch_indices\"])\n",
    "\n",
    "val_dl = wrap_in_dataloader(p, Sequence_Aggregator((datasets.source.original.val, datasets.target.original.val)))\n",
    "\n",
    "confusion = confusion_by_domain_over_dataloader(model, p.device, val_dl, forward_uses_domain=False)\n",
    "per_domain_accuracy = per_domain_accuracy_from_confusion(confusion)\n",
    "\n",
    "# Add a key to per_domain_accuracy for if it was a source domain\n",
    "for domain, accuracy in per_domain_accuracy.items():\n",
    "    per_domain_accuracy[domain] = {\n",
    "        \"accuracy\": accuracy,\n",
    "        \"source?\": domain in p.domains_source\n",
    "    }\n",
    "\n",
    "# Do an independent accuracy assesment JUST TO BE SURE!\n",
    "# _source_test_label_accuracy = independent_accuracy_assesment(model, datasets.source.processed.test, p.device)\n",
    "# _target_test_label_accuracy = independent_accuracy_assesment(model, datasets.target.processed.test, p.device)\n",
    "# _source_val_label_accuracy = independent_accuracy_assesment(model, datasets.source.processed.val, p.device)\n",
    "# _target_val_label_accuracy = independent_accuracy_assesment(model, datasets.target.processed.val, p.device)\n",
    "\n",
    "# assert(_source_test_label_accuracy == source_test_label_accuracy)\n",
    "# assert(_target_test_label_accuracy == target_test_label_accuracy)\n",
    "# assert(_source_val_label_accuracy == source_val_label_accuracy)\n",
    "# assert(_target_val_label_accuracy == target_val_label_accuracy)\n",
    "\n",
    "###################################\n",
    "# Write out the results\n",
    "###################################\n",
    "\n",
    "experiment = {\n",
    "    \"experiment_name\": p.experiment_name,\n",
    "    \"parameters\": p,\n",
    "    \"results\": {\n",
    "        \"source_test_label_accuracy\": source_test_label_accuracy,\n",
    "        \"source_test_label_loss\": source_test_label_loss,\n",
    "        \"target_test_label_accuracy\": target_test_label_accuracy,\n",
    "        \"target_test_label_loss\": target_test_label_loss,\n",
    "        \"source_val_label_accuracy\": source_val_label_accuracy,\n",
    "        \"source_val_label_loss\": source_val_label_loss,\n",
    "        \"target_val_label_accuracy\": target_val_label_accuracy,\n",
    "        \"target_val_label_loss\": target_val_label_loss,\n",
    "        \"total_epochs_trained\": total_epochs_trained,\n",
    "        \"total_experiment_time_secs\": total_experiment_time_secs,\n",
    "        \"confusion\": confusion,\n",
    "        \"per_domain_accuracy\": per_domain_accuracy,\n",
    "    },\n",
    "    \"history\": history,\n",
    "    \"dataset_metrics\": get_dataset_metrics(datasets, \"cnn\"),\n",
    "}"
   ]
  },
  {
   "cell_type": "code",
   "execution_count": 16,
   "id": "74c318cf",
   "metadata": {
    "execution": {
     "iopub.execute_input": "2022-03-26T04:04:53.191407Z",
     "iopub.status.busy": "2022-03-26T04:04:53.189629Z",
     "iopub.status.idle": "2022-03-26T04:04:53.384419Z",
     "shell.execute_reply": "2022-03-26T04:04:53.383547Z"
    },
    "papermill": {
     "duration": 0.307517,
     "end_time": "2022-03-26T04:04:53.384582",
     "exception": false,
     "start_time": "2022-03-26T04:04:53.077065",
     "status": "completed"
    },
    "tags": []
   },
   "outputs": [
    {
     "data": {
      "text/plain": [
       "<AxesSubplot:title={'center':'Source Train Label Loss vs Source Val Label Loss'}, xlabel='Epoch'>"
      ]
     },
     "execution_count": 16,
     "metadata": {},
     "output_type": "execute_result"
    },
    {
     "data": {
      "image/png": "[encoded data removed]",
      "text/plain": [
       "<Figure size 1080x504 with 1 Axes>"
      ]
     },
     "metadata": {
      "needs_background": "light"
     },
     "output_type": "display_data"
    }
   ],
   "source": [
    "get_loss_curve(experiment)"
   ]
  },
  {
   "cell_type": "code",
   "execution_count": 17,
   "id": "59376601",
   "metadata": {
    "execution": {
     "iopub.execute_input": "2022-03-26T04:04:53.516522Z",
     "iopub.status.busy": "2022-03-26T04:04:53.515713Z",
     "iopub.status.idle": "2022-03-26T04:04:53.852722Z",
     "shell.execute_reply": "2022-03-26T04:04:53.853408Z"
    },
    "papermill": {
     "duration": 0.413931,
     "end_time": "2022-03-26T04:04:53.853599",
     "exception": false,
     "start_time": "2022-03-26T04:04:53.439668",
     "status": "completed"
    },
    "tags": []
   },
   "outputs": [
    {
     "data": {
      "text/plain": [
       "<AxesSubplot:title={'center':'Results'}>"
      ]
     },
     "execution_count": 17,
     "metadata": {},
     "output_type": "execute_result"
    },
    {
     "data": {
      "image/png": "[encoded data removed]",
      "text/plain": [
       "<Figure size 1080x504 with 1 Axes>"
      ]
     },
     "metadata": {
      "needs_background": "light"
     },
     "output_type": "display_data"
    }
   ],
   "source": [
    "get_results_table(experiment)"
   ]
  },
  {
   "cell_type": "code",
   "execution_count": 18,
   "id": "e80c5c98",
   "metadata": {
    "execution": {
     "iopub.execute_input": "2022-03-26T04:04:53.987127Z",
     "iopub.status.busy": "2022-03-26T04:04:53.985684Z",
     "iopub.status.idle": "2022-03-26T04:04:54.134046Z",
     "shell.execute_reply": "2022-03-26T04:04:54.133277Z"
    },
    "papermill": {
     "duration": 0.223283,
     "end_time": "2022-03-26T04:04:54.134242",
     "exception": false,
     "start_time": "2022-03-26T04:04:53.910959",
     "status": "completed"
    },
    "tags": []
   },
   "outputs": [
    {
     "data": {
      "text/plain": [
       "<AxesSubplot:title={'center':'Per Domain Accuracy'}, xlabel='domain'>"
      ]
     },
     "execution_count": 18,
     "metadata": {},
     "output_type": "execute_result"
    },
    {
     "data": {
      "image/png": "[encoded data removed]",
      "text/plain": [
       "<Figure size 1080x504 with 1 Axes>"
      ]
     },
     "metadata": {
      "needs_background": "light"
     },
     "output_type": "display_data"
    }
   ],
   "source": [
    "get_domain_accuracies(experiment)"
   ]
  },
  {
   "cell_type": "code",
   "execution_count": 19,
   "id": "086fdd10",
   "metadata": {
    "execution": {
     "iopub.execute_input": "2022-03-26T04:04:54.251051Z",
     "iopub.status.busy": "2022-03-26T04:04:54.250467Z",
     "iopub.status.idle": "2022-03-26T04:04:54.254665Z",
     "shell.execute_reply": "2022-03-26T04:04:54.255126Z"
    },
    "papermill": {
     "duration": 0.063023,
     "end_time": "2022-03-26T04:04:54.255276",
     "exception": false,
     "start_time": "2022-03-26T04:04:54.192253",
     "status": "completed"
    },
    "tags": []
   },
   "outputs": [
    {
     "name": "stdout",
     "output_type": "stream",
     "text": [
      "Source Test Label Accuracy: 0.9981253135479101 Target Test Label Accuracy: 0.9981253135479101\n",
      "Source Val Label Accuracy: 0.9977308523986225 Target Val Label Accuracy: 0.9977308523986225\n"
     ]
    }
   ],
   "source": [
    "print(\"Source Test Label Accuracy:\", experiment[\"results\"][\"source_test_label_accuracy\"], \"Target Test Label Accuracy:\", experiment[\"results\"][\"target_test_label_accuracy\"])\n",
    "print(\"Source Val Label Accuracy:\", experiment[\"results\"][\"source_val_label_accuracy\"], \"Target Val Label Accuracy:\", experiment[\"results\"][\"target_val_label_accuracy\"])"
   ]
  },
  {
   "cell_type": "code",
   "execution_count": 20,
   "id": "9f450536",
   "metadata": {
    "execution": {
     "iopub.execute_input": "2022-03-26T04:04:54.371998Z",
     "iopub.status.busy": "2022-03-26T04:04:54.371630Z",
     "iopub.status.idle": "2022-03-26T04:04:54.375080Z",
     "shell.execute_reply": "2022-03-26T04:04:54.375773Z"
    },
    "papermill": {
     "duration": 0.062625,
     "end_time": "2022-03-26T04:04:54.375973",
     "exception": false,
     "start_time": "2022-03-26T04:04:54.313348",
     "status": "completed"
    },
    "tags": [
     "experiment_json"
    ]
   },
   "outputs": [
    {
     "data": {
      "text/plain": [
       "'{\"experiment_name\": \"cnn_2:cores\", \"parameters\": {\"experiment_name\": \"cnn_2:cores\", \"device\": \"cuda\", \"lr\": 0.0001, \"labels\": [\"1-10.\", \"1-11.\", \"1-15.\", \"1-16.\", \"1-17.\", \"1-18.\", \"1-19.\", \"10-4.\", \"10-7.\", \"11-1.\", \"11-14.\", \"11-17.\", \"11-20.\", \"11-7.\", \"13-20.\", \"13-8.\", \"14-10.\", \"14-11.\", \"14-14.\", \"14-7.\", \"15-1.\", \"15-20.\", \"16-1.\", \"16-16.\", \"17-10.\", \"17-11.\", \"17-2.\", \"19-1.\", \"19-16.\", \"19-19.\", \"19-20.\", \"19-3.\", \"2-10.\", \"2-11.\", \"2-17.\", \"2-18.\", \"2-20.\", \"2-3.\", \"2-4.\", \"2-5.\", \"2-6.\", \"2-7.\", \"2-8.\", \"3-13.\", \"3-18.\", \"3-3.\", \"4-1.\", \"4-10.\", \"4-11.\", \"4-19.\", \"5-5.\", \"6-15.\", \"7-10.\", \"7-14.\", \"8-18.\", \"8-20.\", \"8-3.\", \"8-8.\"], \"batch_size\": 128, \"domains_source\": [1, 2, 3, 4, 5], \"domains_target\": [1, 2, 3, 4, 5], \"normalize_source\": false, \"normalize_target\": false, \"num_examples_per_domain_per_label_source\": -1, \"num_examples_per_domain_per_label_target\": -1, \"torch_default_dtype\": \"torch.float32\", \"n_epoch\": 50, \"patience\": 3, \"criteria_for_best\": \"target_accuracy\", \"x_net\": [{\"class\": \"nnReshape\", \"kargs\": {\"shape\": [-1, 1, 2, 256]}}, {\"class\": \"Conv2d\", \"kargs\": {\"in_channels\": 1, \"out_channels\": 256, \"kernel_size\": [1, 7], \"bias\": false, \"padding\": [0, 3]}}, {\"class\": \"ReLU\", \"kargs\": {\"inplace\": true}}, {\"class\": \"BatchNorm2d\", \"kargs\": {\"num_features\": 256}}, {\"class\": \"Conv2d\", \"kargs\": {\"in_channels\": 256, \"out_channels\": 80, \"kernel_size\": [2, 7], \"bias\": true, \"padding\": [0, 3]}}, {\"class\": \"ReLU\", \"kargs\": {\"inplace\": true}}, {\"class\": \"BatchNorm2d\", \"kargs\": {\"num_features\": 80}}, {\"class\": \"Flatten\", \"kargs\": {}}, {\"class\": \"Linear\", \"kargs\": {\"in_features\": 20480, \"out_features\": 256}}, {\"class\": \"ReLU\", \"kargs\": {\"inplace\": true}}, {\"class\": \"BatchNorm1d\", \"kargs\": {\"num_features\": 256}}, {\"class\": \"Linear\", \"kargs\": {\"in_features\": 256, \"out_features\": 58}}], \"NUM_LOGS_PER_EPOCH\": 10, \"BEST_MODEL_PATH\": \"./best_model.pth\", \"pickle_name_source\": \"cores.stratified_ds.2022A.pkl\", \"pickle_name_target\": \"cores.stratified_ds.2022A.pkl\", \"dataset_seed\": 500, \"seed\": 500}, \"results\": {\"source_test_label_accuracy\": 0.9981253135479101, \"source_test_label_loss\": 0.008102076022279673, \"target_test_label_accuracy\": 0.9981253135479101, \"target_test_label_loss\": 0.00810523421043055, \"source_val_label_accuracy\": 0.9977308523986225, \"source_val_label_loss\": 0.009780792976668385, \"target_val_label_accuracy\": 0.9977308523986225, \"target_val_label_loss\": 0.009780209671192225, \"total_epochs_trained\": 12, \"total_experiment_time_secs\": 226.87573266029358, \"confusion\": {\"4\": {\"42\": {\"42\": 86}, \"25\": {\"25\": 406}, \"13\": {\"13\": 384}, \"20\": {\"20\": 338}, \"9\": {\"9\": 380}, \"19\": {\"19\": 364}, \"16\": {\"16\": 244, \"15\": 2, \"11\": 2}, \"27\": {\"27\": 384}, \"57\": {\"57\": 256, \"29\": 2}, \"15\": {\"15\": 386}, \"18\": {\"18\": 274}, \"5\": {\"5\": 264, \"6\": 2, \"50\": 4, \"45\": 2}, \"2\": {\"2\": 90}, \"53\": {\"53\": 354}, \"40\": {\"40\": 378}, \"38\": {\"38\": 102}, \"48\": {\"48\": 390}, \"8\": {\"8\": 364}, \"4\": {\"4\": 332}, \"54\": {\"54\": 278}, \"23\": {\"23\": 366}, \"26\": {\"26\": 62}, \"6\": {\"6\": 278, \"46\": 2}, \"56\": {\"56\": 386}, \"43\": {\"43\": 372}, \"35\": {\"35\": 100}, \"22\": {\"22\": 314, \"6\": 6}, \"29\": {\"29\": 318}, \"24\": {\"24\": 142}, \"47\": {\"47\": 304}, \"21\": {\"21\": 334, \"30\": 2, \"12\": 2}, \"12\": {\"12\": 230}, \"7\": {\"7\": 68}, \"44\": {\"44\": 330, \"45\": 2}, \"55\": {\"55\": 494}, \"11\": {\"11\": 260, \"15\": 2}, \"41\": {\"41\": 90}, \"17\": {\"17\": 200}, \"10\": {\"10\": 346}, \"52\": {\"52\": 298}, \"45\": {\"45\": 244}, \"51\": {\"51\": 366}, \"50\": {\"50\": 336}, \"3\": {\"3\": 308, \"50\": 6, \"6\": 2}, \"36\": {\"36\": 236}, \"46\": {\"46\": 390}, \"31\": {\"31\": 72}, \"0\": {\"0\": 200, \"46\": 6}, \"32\": {\"32\": 66}, \"1\": {\"1\": 108}, \"33\": {\"33\": 92}, \"30\": {\"30\": 116}, \"34\": {\"34\": 62}, \"28\": {\"28\": 86}, \"14\": {\"14\": 40}, \"37\": {\"37\": 60, \"56\": 2}, \"49\": {\"49\": 54}, \"39\": {\"39\": 54}}, \"1\": {\"51\": {\"51\": 398}, \"30\": {\"30\": 300}, \"8\": {\"8\": 356}, \"25\": {\"25\": 362}, \"18\": {\"18\": 186}, \"4\": {\"4\": 334}, \"22\": {\"22\": 348}, \"17\": {\"17\": 160, \"18\": 2}, \"15\": {\"15\": 406}, \"40\": {\"40\": 390}, \"27\": {\"0\": 2, \"27\": 406}, \"41\": {\"41\": 66}, \"57\": {\"57\": 362}, \"19\": {\"19\": 398}, \"6\": {\"6\": 242}, \"28\": {\"28\": 70, \"3\": 2}, \"29\": {\"29\": 356}, \"16\": {\"16\": 354}, \"52\": {\"52\": 338}, \"0\": {\"0\": 382}, \"42\": {\"42\": 100, \"33\": 2}, \"43\": {\"43\": 368}, \"50\": {\"50\": 398}, \"5\": {\"5\": 410}, \"36\": {\"36\": 162}, \"20\": {\"20\": 358}, \"3\": {\"3\": 356}, \"21\": {\"21\": 314}, \"9\": {\"9\": 398}, \"47\": {\"47\": 400}, \"11\": {\"11\": 358}, \"55\": {\"55\": 572}, \"53\": {\"53\": 360}, \"56\": {\"56\": 418, \"40\": 2}, \"49\": {\"49\": 88}, \"1\": {\"1\": 256}, \"48\": {\"48\": 372}, \"24\": {\"24\": 270}, \"10\": {\"10\": 238, \"15\": 6}, \"46\": {\"46\": 346, \"50\": 2, \"12\": 4}, \"23\": {\"23\": 344}, \"45\": {\"45\": 396}, \"38\": {\"38\": 62, \"14\": 2}, \"54\": {\"54\": 266}, \"7\": {\"7\": 74}, \"13\": {\"13\": 396}, \"44\": {\"44\": 344}, \"39\": {\"39\": 72}, \"12\": {\"12\": 298}, \"31\": {\"31\": 78}, \"14\": {\"14\": 64}, \"32\": {\"32\": 84, \"29\": 2}, \"35\": {\"35\": 96}, \"26\": {\"26\": 60}, \"33\": {\"33\": 82}, \"37\": {\"37\": 80}, \"2\": {\"2\": 96, \"48\": 2}, \"34\": {\"34\": 60}}, \"2\": {\"30\": {\"30\": 360}, \"57\": {\"57\": 362}, \"44\": {\"44\": 256, \"45\": 2}, \"21\": {\"21\": 308}, \"16\": {\"16\": 380}, \"32\": {\"9\": 2, \"32\": 70}, \"3\": {\"3\": 226, \"50\": 12}, \"51\": {\"51\": 340}, \"37\": {\"37\": 92}, \"31\": {\"31\": 76}, \"22\": {\"22\": 348}, \"17\": {\"17\": 264}, \"26\": {\"26\": 68}, \"11\": {\"11\": 396}, \"36\": {\"36\": 290}, \"52\": {\"52\": 308, \"41\": 4}, \"29\": {\"29\": 322}, \"46\": {\"46\": 326, \"3\": 2}, \"45\": {\"45\": 326}, \"55\": {\"55\": 422}, \"0\": {\"0\": 122}, \"12\": {\"12\": 238}, \"40\": {\"40\": 352}, \"1\": {\"1\": 278, \"45\": 2}, \"23\": {\"23\": 372}, \"9\": {\"9\": 390}, \"6\": {\"6\": 318}, \"4\": {\"4\": 400}, \"24\": {\"24\": 242}, \"47\": {\"47\": 372}, \"48\": {\"48\": 386}, \"20\": {\"20\": 356}, \"2\": {\"2\": 88}, \"43\": {\"43\": 378}, \"28\": {\"28\": 72}, \"5\": {\"5\": 308}, \"19\": {\"19\": 392}, \"49\": {\"49\": 68}, \"50\": {\"50\": 342}, \"8\": {\"8\": 406}, \"13\": {\"13\": 296}, \"27\": {\"27\": 396}, \"25\": {\"25\": 468}, \"34\": {\"34\": 70, \"23\": 2}, \"33\": {\"33\": 76}, \"18\": {\"18\": 126}, \"15\": {\"15\": 388}, \"54\": {\"54\": 278}, \"56\": {\"56\": 360}, \"14\": {\"14\": 60}, \"53\": {\"53\": 348}, \"35\": {\"35\": 88}, \"10\": {\"10\": 280}, \"42\": {\"42\": 94}, \"39\": {\"39\": 70}, \"38\": {\"38\": 52}, \"7\": {\"7\": 90}, \"41\": {\"41\": 54}}, \"3\": {\"52\": {\"52\": 356}, \"47\": {\"47\": 238}, \"23\": {\"23\": 362, \"41\": 2}, \"57\": {\"57\": 310}, \"24\": {\"24\": 266}, \"41\": {\"41\": 76}, \"13\": {\"13\": 318, \"24\": 2}, \"11\": {\"11\": 382, \"15\": 2}, \"43\": {\"43\": 340}, \"17\": {\"17\": 270}, \"53\": {\"53\": 368}, \"55\": {\"55\": 426}, \"22\": {\"22\": 354}, \"49\": {\"49\": 50}, \"20\": {\"20\": 332}, \"54\": {\"54\": 252}, \"16\": {\"16\": 390}, \"40\": {\"40\": 346}, \"25\": {\"25\": 426}, \"12\": {\"12\": 234}, \"2\": {\"2\": 82, \"7\": 2}, \"18\": {\"18\": 210}, \"5\": {\"5\": 296}, \"44\": {\"44\": 224}, \"50\": {\"50\": 370}, \"46\": {\"46\": 352}, \"35\": {\"35\": 76}, \"29\": {\"29\": 320}, \"14\": {\"14\": 106}, \"4\": {\"4\": 370}, \"51\": {\"51\": 326}, \"8\": {\"8\": 386}, \"45\": {\"45\": 158}, \"3\": {\"3\": 364, \"50\": 8}, \"9\": {\"9\": 382}, \"27\": {\"27\": 360}, \"15\": {\"15\": 400, \"11\": 2}, \"6\": {\"6\": 226, \"3\": 2}, \"56\": {\"56\": 342}, \"28\": {\"28\": 74}, \"1\": {\"1\": 258}, \"48\": {\"48\": 292}, \"37\": {\"37\": 78}, \"0\": {\"0\": 318}, \"42\": {\"42\": 76}, \"19\": {\"19\": 388}, \"21\": {\"21\": 318, \"44\": 2}, \"32\": {\"32\": 72}, \"34\": {\"34\": 86}, \"33\": {\"33\": 76}, \"39\": {\"39\": 48}, \"26\": {\"26\": 68}, \"36\": {\"36\": 254, \"51\": 2}, \"7\": {\"7\": 92}, \"30\": {\"30\": 300}, \"31\": {\"31\": 72}, \"10\": {\"10\": 164}, \"38\": {\"38\": 74}}, \"5\": {\"12\": {\"12\": 244, \"46\": 2}, \"18\": {\"18\": 168}, \"15\": {\"15\": 418}, \"36\": {\"36\": 234, \"9\": 2}, \"50\": {\"50\": 374}, \"49\": {\"49\": 92}, \"47\": {\"47\": 250}, \"4\": {\"4\": 248, \"45\": 2}, \"1\": {\"1\": 370, \"48\": 4}, \"9\": {\"9\": 392}, \"43\": {\"43\": 386}, \"8\": {\"8\": 384}, \"23\": {\"23\": 316}, \"30\": {\"30\": 320}, \"6\": {\"6\": 316, \"45\": 2, \"5\": 2, \"50\": 2}, \"51\": {\"51\": 380}, \"27\": {\"27\": 406, \"32\": 2}, \"25\": {\"25\": 448, \"16\": 2}, \"17\": {\"17\": 290}, \"19\": {\"19\": 388}, \"5\": {\"5\": 322}, \"16\": {\"16\": 388, \"15\": 2}, \"40\": {\"40\": 316, \"56\": 2}, \"44\": {\"44\": 382, \"45\": 2}, \"55\": {\"55\": 496, \"45\": 2}, \"57\": {\"57\": 336}, \"29\": {\"29\": 330}, \"0\": {\"0\": 314}, \"20\": {\"20\": 366, \"51\": 2}, \"3\": {\"3\": 254, \"46\": 4}, \"32\": {\"32\": 88}, \"42\": {\"42\": 106}, \"46\": {\"46\": 376}, \"33\": {\"33\": 86, \"29\": 2}, \"56\": {\"56\": 386}, \"34\": {\"34\": 90}, \"14\": {\"14\": 110}, \"37\": {\"37\": 64}, \"45\": {\"45\": 314}, \"52\": {\"52\": 352}, \"26\": {\"26\": 64}, \"21\": {\"21\": 366}, \"28\": {\"28\": 82}, \"13\": {\"13\": 402, \"24\": 4}, \"11\": {\"11\": 404, \"15\": 2}, \"48\": {\"48\": 346}, \"22\": {\"22\": 70}, \"31\": {\"31\": 90}, \"54\": {\"54\": 282}, \"7\": {\"7\": 84}, \"39\": {\"39\": 50, \"57\": 2}, \"38\": {\"38\": 88}, \"53\": {\"53\": 386}, \"41\": {\"41\": 70, \"33\": 2}, \"10\": {\"10\": 178}, \"24\": {\"24\": 208}, \"35\": {\"35\": 94}, \"2\": {\"2\": 72}}}, \"per_domain_accuracy\": {\"4\": {\"accuracy\": 0.9967791625822714, \"source?\": true}, \"1\": {\"accuracy\": 0.998220640569395, \"source?\": true}, \"2\": {\"accuracy\": 0.9982712765957447, \"source?\": true}, \"3\": {\"accuracy\": 0.9983536836328715, \"source?\": true}, \"5\": {\"accuracy\": 0.9969899227849758, \"source?\": true}}}, \"history\": {\"epoch_indices\": [1, 2, 3, 4, 5, 6, 7, 8, 9, 10, 11, 12], \"train_label_loss\": [0.5704343555971001, 0.0380871692363064, 0.015478896484438356, 0.008563296359634013, 0.005151980309016377, 0.00372782006928184, 0.003457712234986987, 0.0035511217744027632, 0.0020074839027499503, 0.0020176178760804068, 0.0016747867348425457, 0.0017616158886815283], \"source_val_label_loss\": [0.0759378175406936, 0.03291132419970866, 0.025532254426336432, 0.0135602755634966, 0.030716680730105007, 0.017597901834724886, 0.06961799810049299, 0.009780281390678916, 0.015586384413954595, 0.01617111536424286, 0.010422462312609543, 0.011115554501834952], \"target_val_label_loss\": [0.07591322595857516, 0.03291393152784569, 0.025503380704073573, 0.013561132082869791, 0.030693918091496103, 0.017597375065326666, 0.06963691819115914, 0.009780594336569037, 0.01558308943481512, 0.016194683603633277, 0.010569035880603954, 0.011115630963060738], \"source_val_acc_label\": [0.9898555754291358, 0.9933794281748044, 0.9941002162364185, 0.9971435436076778, 0.9913772391147655, 0.9955951840679143, 0.9795242798793348, 0.9977308523986225, 0.9966096265250006, 0.9958621426092528, 0.9975439814196855, 0.9973838062948824], \"target_val_acc_label\": [0.9898555754291358, 0.9933794281748044, 0.9941002162364185, 0.9971435436076778, 0.9913772391147655, 0.9955951840679143, 0.9795242798793348, 0.9977308523986225, 0.9966096265250006, 0.9958621426092528, 0.9975439814196855, 0.9973838062948824]}, \"dataset_metrics\": {\"source\": {\"train\": {\"n_unique_x\": 175349, \"n_unique_y\": 58, \"n_batch/episode\": 1370}, \"val\": {\"n_unique_x\": 37459, \"n_unique_y\": 58, \"n_batch/episode\": 293}, \"test\": {\"n_unique_x\": 37873, \"n_unique_y\": 58, \"n_batch/episode\": 296}}, \"target\": {\"train\": {\"n_unique_x\": 175349, \"n_unique_y\": 58, \"n_batch/episode\": 1370}, \"val\": {\"n_unique_x\": 37459, \"n_unique_y\": 58, \"n_batch/episode\": 293}, \"test\": {\"n_unique_x\": 37873, \"n_unique_y\": 58, \"n_batch/episode\": 296}}}}'"
      ]
     },
     "execution_count": 20,
     "metadata": {},
     "output_type": "execute_result"
    }
   ],
   "source": [
    "json.dumps(experiment)"
   ]
  }
 ],
 "metadata": {
  "celltoolbar": "Tags",
  "kernelspec": {
   "display_name": "Python 3 (ipykernel)",
   "language": "python",
   "name": "python3"
  },
  "language_info": {
   "codemirror_mode": {
    "name": "ipython",
    "version": 3
   },
   "file_extension": ".py",
   "mimetype": "text/x-python",
   "name": "python",
   "nbconvert_exporter": "python",
   "pygments_lexer": "ipython3",
   "version": "3.8.12"
  },
  "papermill": {
   "default_parameters": {},
   "duration": 254.708983,
   "end_time": "2022-03-26T04:04:57.042220",
   "environment_variables": {},
   "exception": null,
   "input_path": "/root/csc500-main/csc500-notebooks/templates/cnn_template.ipynb",
   "output_path": "trial.ipynb",
   "parameters": {
    "parameters": {
     "BEST_MODEL_PATH": "./best_model.pth",
     "NUM_LOGS_PER_EPOCH": 10,
     "batch_size": 128,
     "criteria_for_best": "target_accuracy",
     "dataset_seed": 500,
     "device": "cuda",
     "domains_source": [
      1,
      2,
      3,
      4,
      5
     ],
     "domains_target": [
      1,
      2,
      3,
      4,
      5
     ],
     "experiment_name": "cnn_2:cores",
     "labels": [
      "1-10.",
      "1-11.",
      "1-15.",
      "1-16.",
      "1-17.",
      "1-18.",
      "1-19.",
      "10-4.",
      "10-7.",
      "11-1.",
      "11-14.",
      "11-17.",
      "11-20.",
      "11-7.",
      "13-20.",
      "13-8.",
      "14-10.",
      "14-11.",
      "14-14.",
      "14-7.",
      "15-1.",
      "15-20.",
      "16-1.",
      "16-16.",
      "17-10.",
      "17-11.",
      "17-2.",
      "19-1.",
      "19-16.",
      "19-19.",
      "19-20.",
      "19-3.",
      "2-10.",
      "2-11.",
      "2-17.",
      "2-18.",
      "2-20.",
      "2-3.",
      "2-4.",
      "2-5.",
      "2-6.",
      "2-7.",
      "2-8.",
      "3-13.",
      "3-18.",
      "3-3.",
      "4-1.",
      "4-10.",
      "4-11.",
      "4-19.",
      "5-5.",
      "6-15.",
      "7-10.",
      "7-14.",
      "8-18.",
      "8-20.",
      "8-3.",
      "8-8."
     ],
     "lr": 0.0001,
     "n_epoch": 50,
     "normalize_source": false,
     "normalize_target": false,
     "num_examples_per_domain_per_label_source": -1,
     "num_examples_per_domain_per_label_target": -1,
     "patience": 3,
     "pickle_name_source": "cores.stratified_ds.2022A.pkl",
     "pickle_name_target": "cores.stratified_ds.2022A.pkl",
     "seed": 500,
     "torch_default_dtype": "torch.float32",
     "x_net": [
      {
       "class": "nnReshape",
       "kargs": {
        "shape": [
         -1,
         1,
         2,
         256
        ]
       }
      },
      {
       "class": "Conv2d",
       "kargs": {
        "bias": false,
        "in_channels": 1,
        "kernel_size": [
         1,
         7
        ],
        "out_channels": 256,
        "padding": [
         0,
         3
        ]
       }
      },
      {
       "class": "ReLU",
       "kargs": {
        "inplace": true
       }
      },
      {
       "class": "BatchNorm2d",
       "kargs": {
        "num_features": 256
       }
      },
      {
       "class": "Conv2d",
       "kargs": {
        "bias": true,
        "in_channels": 256,
        "kernel_size": [
         2,
         7
        ],
        "out_channels": 80,
        "padding": [
         0,
         3
        ]
       }
      },
      {
       "class": "ReLU",
       "kargs": {
        "inplace": true
       }
      },
      {
       "class": "BatchNorm2d",
       "kargs": {
        "num_features": 80
       }
      },
      {
       "class": "Flatten",
       "kargs": {}
      },
      {
       "class": "Linear",
       "kargs": {
        "in_features": 20480,
        "out_features": 256
       }
      },
      {
       "class": "ReLU",
       "kargs": {
        "inplace": true
       }
      },
      {
       "class": "BatchNorm1d",
       "kargs": {
        "num_features": 256
       }
      },
      {
       "class": "Linear",
       "kargs": {
        "in_features": 256,
        "out_features": 58
       }
      }
     ]
    }
   },
   "start_time": "2022-03-26T04:00:42.333237",
   "version": "2.3.4"
  }
 },
 "nbformat": 4,
 "nbformat_minor": 5
}