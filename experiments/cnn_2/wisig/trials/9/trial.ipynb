{
 "cells": [
  {
   "cell_type": "code",
   "execution_count": 1,
   "id": "2324682e",
   "metadata": {
    "execution": {
     "iopub.execute_input": "2022-03-26T11:31:30.468031Z",
     "iopub.status.busy": "2022-03-26T11:31:30.467132Z",
     "iopub.status.idle": "2022-03-26T11:31:31.809926Z",
     "shell.execute_reply": "2022-03-26T11:31:31.809022Z"
    },
    "papermill": {
     "duration": 1.380008,
     "end_time": "2022-03-26T11:31:31.810132",
     "exception": false,
     "start_time": "2022-03-26T11:31:30.430124",
     "status": "completed"
    },
    "tags": []
   },
   "outputs": [],
   "source": [
    "import os, json, sys, time, random\n",
    "import numpy as np\n",
    "import torch\n",
    "from  easydict import EasyDict\n",
    "from math import floor\n",
    "from easydict import EasyDict\n",
    "\n",
    "from steves_utils.vanilla_train_eval_test_jig import  Vanilla_Train_Eval_Test_Jig\n",
    "\n",
    "from steves_utils.torch_utils import get_dataset_metrics, independent_accuracy_assesment\n",
    "from steves_models.configurable_vanilla import Configurable_Vanilla\n",
    "from steves_utils.torch_sequential_builder import build_sequential\n",
    "from steves_utils.lazy_map import Lazy_Map\n",
    "from steves_utils.sequence_aggregator import Sequence_Aggregator\n",
    "\n",
    "from steves_utils.stratified_dataset.traditional_accessor import Traditional_Accessor_Factory\n",
    "\n",
    "from steves_utils.cnn_do_report import (\n",
    "    get_loss_curve,\n",
    "    get_results_table,\n",
    "    get_parameters_table,\n",
    "    get_domain_accuracies,\n",
    ")\n",
    "\n",
    "from steves_utils.torch_utils import (\n",
    "    confusion_by_domain_over_dataloader,\n",
    "    independent_accuracy_assesment\n",
    ")\n",
    "\n",
    "from steves_utils.utils_v2 import (\n",
    "    per_domain_accuracy_from_confusion,\n",
    "    get_datasets_base_path\n",
    ")\n",
    "\n",
    "# from steves_utils.ptn_do_report import TBD"
   ]
  },
  {
   "cell_type": "code",
   "execution_count": 2,
   "id": "1b29e3fe",
   "metadata": {
    "execution": {
     "iopub.execute_input": "2022-03-26T11:31:31.848231Z",
     "iopub.status.busy": "2022-03-26T11:31:31.847848Z",
     "iopub.status.idle": "2022-03-26T11:31:31.850660Z",
     "shell.execute_reply": "2022-03-26T11:31:31.851014Z"
    },
    "papermill": {
     "duration": 0.02181,
     "end_time": "2022-03-26T11:31:31.851094",
     "exception": false,
     "start_time": "2022-03-26T11:31:31.829284",
     "status": "completed"
    },
    "tags": []
   },
   "outputs": [],
   "source": [
    "required_parameters = {\n",
    "    \"experiment_name\",\n",
    "    \"lr\",\n",
    "    \"device\",\n",
    "    \"dataset_seed\",\n",
    "    \"seed\",\n",
    "    \"labels\",\n",
    "    \"domains_target\",\n",
    "    \"domains_source\",\n",
    "    \"num_examples_per_domain_per_label_source\",\n",
    "    \"num_examples_per_domain_per_label_target\",\n",
    "    \"batch_size\",\n",
    "    \"n_epoch\",\n",
    "    \"patience\",\n",
    "    \"criteria_for_best\",\n",
    "    \"normalize_source\",\n",
    "    \"normalize_target\",\n",
    "    \"x_net\",\n",
    "    \"NUM_LOGS_PER_EPOCH\",\n",
    "    \"BEST_MODEL_PATH\",\n",
    "    \"pickle_name_source\",\n",
    "    \"pickle_name_target\",\n",
    "    \"torch_default_dtype\",\n",
    "}"
   ]
  },
  {
   "cell_type": "code",
   "execution_count": 3,
   "id": "670b5fb8",
   "metadata": {
    "execution": {
     "iopub.execute_input": "2022-03-26T11:31:31.895269Z",
     "iopub.status.busy": "2022-03-26T11:31:31.894382Z",
     "iopub.status.idle": "2022-03-26T11:31:31.902796Z",
     "shell.execute_reply": "2022-03-26T11:31:31.901965Z"
    },
    "papermill": {
     "duration": 0.034154,
     "end_time": "2022-03-26T11:31:31.902947",
     "exception": false,
     "start_time": "2022-03-26T11:31:31.868793",
     "status": "completed"
    },
    "tags": [
     "parameters"
    ]
   },
   "outputs": [],
   "source": [
    "from steves_utils.ORACLE.utils_v2 import (\n",
    "    ALL_SERIAL_NUMBERS,\n",
    "    ALL_DISTANCES_FEET_NARROWED,\n",
    ")\n",
    "\n",
    "standalone_parameters = {}\n",
    "standalone_parameters[\"experiment_name\"] = \"MANUAL CORES CNN\"\n",
    "standalone_parameters[\"lr\"] = 0.0001\n",
    "standalone_parameters[\"device\"] = \"cuda\"\n",
    "\n",
    "standalone_parameters[\"dataset_seed\"] = 1337\n",
    "standalone_parameters[\"seed\"] = 1337\n",
    "standalone_parameters[\"labels\"] = ALL_SERIAL_NUMBERS\n",
    "\n",
    "standalone_parameters[\"domains_source\"] = [8,32,50]\n",
    "standalone_parameters[\"domains_target\"] = [14,20,26,38,44,]\n",
    "\n",
    "standalone_parameters[\"num_examples_per_domain_per_label_source\"]=-1\n",
    "standalone_parameters[\"num_examples_per_domain_per_label_target\"]=-1\n",
    "\n",
    "standalone_parameters[\"pickle_name_source\"] = \"oracle.Run1_framed_2000Examples_stratified_ds.2022A.pkl\"\n",
    "standalone_parameters[\"pickle_name_target\"] = \"oracle.Run2_framed_2000Examples_stratified_ds.2022A.pkl\"\n",
    "\n",
    "standalone_parameters[\"torch_default_dtype\"] = \"torch.float32\" \n",
    "\n",
    "standalone_parameters[\"batch_size\"]=128\n",
    "\n",
    "standalone_parameters[\"n_epoch\"] = 3\n",
    "\n",
    "standalone_parameters[\"patience\"] = 10\n",
    "\n",
    "standalone_parameters[\"criteria_for_best\"] = \"target_accuracy\"\n",
    "standalone_parameters[\"normalize_source\"] = False\n",
    "standalone_parameters[\"normalize_target\"] = False\n",
    "\n",
    "standalone_parameters[\"x_net\"] =     [\n",
    "    {\"class\": \"nnReshape\", \"kargs\": {\"shape\":[-1, 1, 2, 256]}},\n",
    "    {\"class\": \"Conv2d\", \"kargs\": { \"in_channels\":1, \"out_channels\":256, \"kernel_size\":(1,7), \"bias\":False, \"padding\":(0,3), },},\n",
    "    {\"class\": \"ReLU\", \"kargs\": {\"inplace\": True}},\n",
    "    {\"class\": \"BatchNorm2d\", \"kargs\": {\"num_features\":256}},\n",
    "\n",
    "    {\"class\": \"Conv2d\", \"kargs\": { \"in_channels\":256, \"out_channels\":80, \"kernel_size\":(2,7), \"bias\":True, \"padding\":(0,3), },},\n",
    "    {\"class\": \"ReLU\", \"kargs\": {\"inplace\": True}},\n",
    "    {\"class\": \"BatchNorm2d\", \"kargs\": {\"num_features\":80}},\n",
    "    {\"class\": \"Flatten\", \"kargs\": {}},\n",
    "\n",
    "    {\"class\": \"Linear\", \"kargs\": {\"in_features\": 80*256, \"out_features\": 256}}, # 80 units per IQ pair\n",
    "    {\"class\": \"ReLU\", \"kargs\": {\"inplace\": True}},\n",
    "    {\"class\": \"BatchNorm1d\", \"kargs\": {\"num_features\":256}},\n",
    "\n",
    "    {\"class\": \"Linear\", \"kargs\": {\"in_features\": 256, \"out_features\": len(standalone_parameters[\"labels\"])}},\n",
    "]\n",
    "\n",
    "standalone_parameters[\"NUM_LOGS_PER_EPOCH\"] = 10\n",
    "standalone_parameters[\"BEST_MODEL_PATH\"] = \"./best_model.pth\""
   ]
  },
  {
   "cell_type": "code",
   "execution_count": 4,
   "id": "ab6f9dad",
   "metadata": {
    "execution": {
     "iopub.execute_input": "2022-03-26T11:31:31.954786Z",
     "iopub.status.busy": "2022-03-26T11:31:31.953817Z",
     "iopub.status.idle": "2022-03-26T11:31:31.956686Z",
     "shell.execute_reply": "2022-03-26T11:31:31.955887Z"
    },
    "papermill": {
     "duration": 0.035819,
     "end_time": "2022-03-26T11:31:31.956837",
     "exception": false,
     "start_time": "2022-03-26T11:31:31.921018",
     "status": "completed"
    },
    "tags": [
     "injected-parameters"
    ]
   },
   "outputs": [],
   "source": [
    "# Parameters\n",
    "parameters = {\n",
    "    \"experiment_name\": \"cnn_2:wisig\",\n",
    "    \"labels\": [\n",
    "        \"1-10\",\n",
    "        \"1-12\",\n",
    "        \"1-14\",\n",
    "        \"1-16\",\n",
    "        \"1-18\",\n",
    "        \"1-19\",\n",
    "        \"1-8\",\n",
    "        \"10-11\",\n",
    "        \"10-17\",\n",
    "        \"10-4\",\n",
    "        \"10-7\",\n",
    "        \"11-1\",\n",
    "        \"11-10\",\n",
    "        \"11-19\",\n",
    "        \"11-20\",\n",
    "        \"11-4\",\n",
    "        \"11-7\",\n",
    "        \"12-19\",\n",
    "        \"12-20\",\n",
    "        \"12-7\",\n",
    "        \"13-14\",\n",
    "        \"13-18\",\n",
    "        \"13-19\",\n",
    "        \"13-20\",\n",
    "        \"13-3\",\n",
    "        \"13-7\",\n",
    "        \"14-10\",\n",
    "        \"14-11\",\n",
    "        \"14-12\",\n",
    "        \"14-13\",\n",
    "        \"14-14\",\n",
    "        \"14-19\",\n",
    "        \"14-20\",\n",
    "        \"14-7\",\n",
    "        \"14-8\",\n",
    "        \"14-9\",\n",
    "        \"15-1\",\n",
    "        \"15-19\",\n",
    "        \"15-6\",\n",
    "        \"16-1\",\n",
    "        \"16-16\",\n",
    "        \"16-19\",\n",
    "        \"16-20\",\n",
    "        \"17-10\",\n",
    "        \"17-11\",\n",
    "        \"18-1\",\n",
    "        \"18-10\",\n",
    "        \"18-11\",\n",
    "        \"18-12\",\n",
    "        \"18-13\",\n",
    "        \"18-14\",\n",
    "        \"18-15\",\n",
    "        \"18-16\",\n",
    "        \"18-17\",\n",
    "        \"18-19\",\n",
    "        \"18-2\",\n",
    "        \"18-20\",\n",
    "        \"18-4\",\n",
    "        \"18-5\",\n",
    "        \"18-7\",\n",
    "        \"18-8\",\n",
    "        \"18-9\",\n",
    "        \"19-1\",\n",
    "        \"19-10\",\n",
    "        \"19-11\",\n",
    "        \"19-12\",\n",
    "        \"19-13\",\n",
    "        \"19-14\",\n",
    "        \"19-15\",\n",
    "        \"19-19\",\n",
    "        \"19-2\",\n",
    "        \"19-20\",\n",
    "        \"19-3\",\n",
    "        \"19-4\",\n",
    "        \"19-6\",\n",
    "        \"19-7\",\n",
    "        \"19-8\",\n",
    "        \"19-9\",\n",
    "        \"2-1\",\n",
    "        \"2-13\",\n",
    "        \"2-15\",\n",
    "        \"2-3\",\n",
    "        \"2-4\",\n",
    "        \"2-5\",\n",
    "        \"2-6\",\n",
    "        \"2-7\",\n",
    "        \"2-8\",\n",
    "        \"20-1\",\n",
    "        \"20-12\",\n",
    "        \"20-14\",\n",
    "        \"20-15\",\n",
    "        \"20-16\",\n",
    "        \"20-18\",\n",
    "        \"20-19\",\n",
    "        \"20-20\",\n",
    "        \"20-3\",\n",
    "        \"20-4\",\n",
    "        \"20-5\",\n",
    "        \"20-7\",\n",
    "        \"20-8\",\n",
    "        \"3-1\",\n",
    "        \"3-13\",\n",
    "        \"3-18\",\n",
    "        \"3-2\",\n",
    "        \"3-8\",\n",
    "        \"4-1\",\n",
    "        \"4-10\",\n",
    "        \"4-11\",\n",
    "        \"5-1\",\n",
    "        \"5-5\",\n",
    "        \"6-1\",\n",
    "        \"6-15\",\n",
    "        \"6-6\",\n",
    "        \"7-10\",\n",
    "        \"7-11\",\n",
    "        \"7-12\",\n",
    "        \"7-13\",\n",
    "        \"7-14\",\n",
    "        \"7-7\",\n",
    "        \"7-8\",\n",
    "        \"7-9\",\n",
    "        \"8-1\",\n",
    "        \"8-13\",\n",
    "        \"8-14\",\n",
    "        \"8-18\",\n",
    "        \"8-20\",\n",
    "        \"8-3\",\n",
    "        \"8-8\",\n",
    "        \"9-1\",\n",
    "        \"9-7\",\n",
    "    ],\n",
    "    \"domains_source\": [1, 2, 3, 4],\n",
    "    \"domains_target\": [1, 2, 3, 4],\n",
    "    \"pickle_name_target\": \"wisig.node3-19.stratified_ds.2022A.pkl\",\n",
    "    \"pickle_name_source\": \"wisig.node3-19.stratified_ds.2022A.pkl\",\n",
    "    \"device\": \"cuda\",\n",
    "    \"lr\": 0.0001,\n",
    "    \"batch_size\": 128,\n",
    "    \"normalize_source\": False,\n",
    "    \"normalize_target\": False,\n",
    "    \"num_examples_per_domain_per_label_source\": -1,\n",
    "    \"num_examples_per_domain_per_label_target\": -1,\n",
    "    \"torch_default_dtype\": \"torch.float32\",\n",
    "    \"n_epoch\": 50,\n",
    "    \"patience\": 3,\n",
    "    \"criteria_for_best\": \"target_accuracy\",\n",
    "    \"x_net\": [\n",
    "        {\"class\": \"nnReshape\", \"kargs\": {\"shape\": [-1, 1, 2, 256]}},\n",
    "        {\n",
    "            \"class\": \"Conv2d\",\n",
    "            \"kargs\": {\n",
    "                \"in_channels\": 1,\n",
    "                \"out_channels\": 256,\n",
    "                \"kernel_size\": [1, 7],\n",
    "                \"bias\": False,\n",
    "                \"padding\": [0, 3],\n",
    "            },\n",
    "        },\n",
    "        {\"class\": \"ReLU\", \"kargs\": {\"inplace\": True}},\n",
    "        {\"class\": \"BatchNorm2d\", \"kargs\": {\"num_features\": 256}},\n",
    "        {\n",
    "            \"class\": \"Conv2d\",\n",
    "            \"kargs\": {\n",
    "                \"in_channels\": 256,\n",
    "                \"out_channels\": 80,\n",
    "                \"kernel_size\": [2, 7],\n",
    "                \"bias\": True,\n",
    "                \"padding\": [0, 3],\n",
    "            },\n",
    "        },\n",
    "        {\"class\": \"ReLU\", \"kargs\": {\"inplace\": True}},\n",
    "        {\"class\": \"BatchNorm2d\", \"kargs\": {\"num_features\": 80}},\n",
    "        {\"class\": \"Flatten\", \"kargs\": {}},\n",
    "        {\"class\": \"Linear\", \"kargs\": {\"in_features\": 20480, \"out_features\": 256}},\n",
    "        {\"class\": \"ReLU\", \"kargs\": {\"inplace\": True}},\n",
    "        {\"class\": \"BatchNorm1d\", \"kargs\": {\"num_features\": 256}},\n",
    "        {\"class\": \"Linear\", \"kargs\": {\"in_features\": 256, \"out_features\": 130}},\n",
    "    ],\n",
    "    \"NUM_LOGS_PER_EPOCH\": 10,\n",
    "    \"BEST_MODEL_PATH\": \"./best_model.pth\",\n",
    "    \"dataset_seed\": 7,\n",
    "    \"seed\": 7,\n",
    "}\n"
   ]
  },
  {
   "cell_type": "code",
   "execution_count": 5,
   "id": "759b56ec",
   "metadata": {
    "execution": {
     "iopub.execute_input": "2022-03-26T11:31:31.995747Z",
     "iopub.status.busy": "2022-03-26T11:31:31.995356Z",
     "iopub.status.idle": "2022-03-26T11:31:31.998802Z",
     "shell.execute_reply": "2022-03-26T11:31:31.998009Z"
    },
    "papermill": {
     "duration": 0.024781,
     "end_time": "2022-03-26T11:31:31.998954",
     "exception": false,
     "start_time": "2022-03-26T11:31:31.974173",
     "status": "completed"
    },
    "tags": []
   },
   "outputs": [],
   "source": [
    "# Set this to True if you want to run this template directly\n",
    "STANDALONE = False\n",
    "if STANDALONE:\n",
    "    print(\"parameters not injected, running with standalone_parameters\")\n",
    "    parameters = standalone_parameters\n",
    "\n",
    "if not 'parameters' in locals() and not 'parameters' in globals():\n",
    "    raise Exception(\"Parameter injection failed\")\n",
    "\n",
    "#Use an easy dict for all the parameters\n",
    "p = EasyDict(parameters)\n",
    "\n",
    "supplied_keys = set(p.keys())\n",
    "\n",
    "if  supplied_keys != required_parameters:\n",
    "    print(\"Parameters are incorrect\")\n",
    "    if len(supplied_keys - required_parameters)>0: print(\"Shouldn't have:\", str(supplied_keys - required_parameters))\n",
    "    if len(required_parameters - supplied_keys)>0: print(\"Need to have:\", str(required_parameters - supplied_keys))\n",
    "    raise RuntimeError(\"Parameters are incorrect\")\n",
    "\n"
   ]
  },
  {
   "cell_type": "code",
   "execution_count": 6,
   "id": "d5c66a71",
   "metadata": {
    "execution": {
     "iopub.execute_input": "2022-03-26T11:31:32.034125Z",
     "iopub.status.busy": "2022-03-26T11:31:32.033762Z",
     "iopub.status.idle": "2022-03-26T11:31:32.036773Z",
     "shell.execute_reply": "2022-03-26T11:31:32.036413Z"
    },
    "papermill": {
     "duration": 0.019521,
     "end_time": "2022-03-26T11:31:32.036841",
     "exception": false,
     "start_time": "2022-03-26T11:31:32.017320",
     "status": "completed"
    },
    "tags": []
   },
   "outputs": [],
   "source": [
    "###################################\n",
    "# Set the RNGs and make it all deterministic\n",
    "###################################\n",
    "np.random.seed(p.seed)\n",
    "random.seed(p.seed)\n",
    "torch.manual_seed(p.seed)\n",
    "\n",
    "torch.use_deterministic_algorithms(True) "
   ]
  },
  {
   "cell_type": "code",
   "execution_count": 7,
   "id": "92a65876",
   "metadata": {
    "execution": {
     "iopub.execute_input": "2022-03-26T11:31:32.074257Z",
     "iopub.status.busy": "2022-03-26T11:31:32.073712Z",
     "iopub.status.idle": "2022-03-26T11:31:32.076637Z",
     "shell.execute_reply": "2022-03-26T11:31:32.076158Z"
    },
    "papermill": {
     "duration": 0.020468,
     "end_time": "2022-03-26T11:31:32.076739",
     "exception": false,
     "start_time": "2022-03-26T11:31:32.056271",
     "status": "completed"
    },
    "tags": []
   },
   "outputs": [],
   "source": [
    "torch.set_default_dtype(eval(p.torch_default_dtype))"
   ]
  },
  {
   "cell_type": "code",
   "execution_count": 8,
   "id": "f1a32f01",
   "metadata": {
    "execution": {
     "iopub.execute_input": "2022-03-26T11:31:32.113729Z",
     "iopub.status.busy": "2022-03-26T11:31:32.113182Z",
     "iopub.status.idle": "2022-03-26T11:31:32.151558Z",
     "shell.execute_reply": "2022-03-26T11:31:32.150841Z"
    },
    "papermill": {
     "duration": 0.055876,
     "end_time": "2022-03-26T11:31:32.151710",
     "exception": false,
     "start_time": "2022-03-26T11:31:32.095834",
     "status": "completed"
    },
    "tags": []
   },
   "outputs": [],
   "source": [
    "###################################\n",
    "# Build the network(s)\n",
    "# Note: It's critical to do this AFTER setting the RNG\n",
    "###################################\n",
    "x_net = build_sequential(p.x_net)"
   ]
  },
  {
   "cell_type": "code",
   "execution_count": 9,
   "id": "a276cd83",
   "metadata": {
    "execution": {
     "iopub.execute_input": "2022-03-26T11:31:32.191842Z",
     "iopub.status.busy": "2022-03-26T11:31:32.191463Z",
     "iopub.status.idle": "2022-03-26T11:31:32.194766Z",
     "shell.execute_reply": "2022-03-26T11:31:32.194224Z"
    },
    "papermill": {
     "duration": 0.0209,
     "end_time": "2022-03-26T11:31:32.194868",
     "exception": false,
     "start_time": "2022-03-26T11:31:32.173968",
     "status": "completed"
    },
    "tags": []
   },
   "outputs": [],
   "source": [
    "start_time_secs = time.time()"
   ]
  },
  {
   "cell_type": "code",
   "execution_count": 10,
   "id": "de702e48",
   "metadata": {
    "execution": {
     "iopub.execute_input": "2022-03-26T11:31:32.244533Z",
     "iopub.status.busy": "2022-03-26T11:31:32.243678Z",
     "iopub.status.idle": "2022-03-26T11:31:39.377917Z",
     "shell.execute_reply": "2022-03-26T11:31:39.377190Z"
    },
    "papermill": {
     "duration": 7.162494,
     "end_time": "2022-03-26T11:31:39.378100",
     "exception": false,
     "start_time": "2022-03-26T11:31:32.215606",
     "status": "completed"
    },
    "tags": []
   },
   "outputs": [],
   "source": [
    "def wrap_in_dataloader(p, ds):\n",
    "    return torch.utils.data.DataLoader(\n",
    "        ds,\n",
    "        batch_size=p.batch_size,\n",
    "        shuffle=True,\n",
    "        num_workers=1,\n",
    "        persistent_workers=True,\n",
    "        prefetch_factor=50,\n",
    "        pin_memory=True\n",
    "    )\n",
    "\n",
    "taf_source = Traditional_Accessor_Factory(\n",
    "    labels=p.labels,\n",
    "    domains=p.domains_source,\n",
    "    num_examples_per_domain_per_label=p.num_examples_per_domain_per_label_source,\n",
    "    pickle_path=os.path.join(get_datasets_base_path(), p.pickle_name_source),\n",
    "    seed=p.dataset_seed\n",
    ")\n",
    "train_original_source, val_original_source, test_original_source = \\\n",
    "    taf_source.get_train(), taf_source.get_val(), taf_source.get_test()\n",
    "\n",
    "\n",
    "taf_target = Traditional_Accessor_Factory(\n",
    "    labels=p.labels,\n",
    "    domains=p.domains_target,\n",
    "    num_examples_per_domain_per_label=p.num_examples_per_domain_per_label_source,\n",
    "    pickle_path=os.path.join(get_datasets_base_path(), p.pickle_name_target),\n",
    "    seed=p.dataset_seed\n",
    ")\n",
    "train_original_target, val_original_target, test_original_target = \\\n",
    "    taf_target.get_train(), taf_target.get_val(), taf_target.get_test()\n",
    "\n",
    "\n",
    "# For CNN We only use X and Y. And we only train on the source.\n",
    "# Properly form the data using a transform lambda and Lazy_Map. Finally wrap them in a dataloader\n",
    "\n",
    "transform_lambda = lambda ex: ex[:2] # Strip the tuple to just (x,y)\n",
    "\n",
    "\n",
    "train_processed_source = wrap_in_dataloader(\n",
    "    p,\n",
    "    Lazy_Map(train_original_source, transform_lambda)\n",
    ")\n",
    "val_processed_source = wrap_in_dataloader(\n",
    "    p,\n",
    "    Lazy_Map(val_original_source, transform_lambda)\n",
    ")\n",
    "test_processed_source = wrap_in_dataloader(\n",
    "    p,\n",
    "    Lazy_Map(test_original_source, transform_lambda)\n",
    ")\n",
    "\n",
    "train_processed_target = wrap_in_dataloader(\n",
    "    p,\n",
    "    Lazy_Map(train_original_target, transform_lambda)\n",
    ")\n",
    "val_processed_target = wrap_in_dataloader(\n",
    "    p,\n",
    "    Lazy_Map(val_original_target, transform_lambda)\n",
    ")\n",
    "test_processed_target  = wrap_in_dataloader(\n",
    "    p,\n",
    "    Lazy_Map(test_original_target, transform_lambda)\n",
    ")\n",
    "\n",
    "\n",
    "\n",
    "datasets = EasyDict({\n",
    "    \"source\": {\n",
    "        \"original\": {\"train\":train_original_source, \"val\":val_original_source, \"test\":test_original_source},\n",
    "        \"processed\": {\"train\":train_processed_source, \"val\":val_processed_source, \"test\":test_processed_source}\n",
    "    },\n",
    "    \"target\": {\n",
    "        \"original\": {\"train\":train_original_target, \"val\":val_original_target, \"test\":test_original_target},\n",
    "        \"processed\": {\"train\":train_processed_target, \"val\":val_processed_target, \"test\":test_processed_target}\n",
    "    },\n",
    "})"
   ]
  },
  {
   "cell_type": "code",
   "execution_count": 11,
   "id": "a11b26bd",
   "metadata": {
    "execution": {
     "iopub.execute_input": "2022-03-26T11:31:39.458132Z",
     "iopub.status.busy": "2022-03-26T11:31:39.457275Z",
     "iopub.status.idle": "2022-03-26T11:31:45.188440Z",
     "shell.execute_reply": "2022-03-26T11:31:45.187698Z"
    },
    "papermill": {
     "duration": 5.789857,
     "end_time": "2022-03-26T11:31:45.188631",
     "exception": false,
     "start_time": "2022-03-26T11:31:39.398774",
     "status": "completed"
    },
    "tags": []
   },
   "outputs": [
    {
     "data": {
      "text/plain": [
       "torch.float32"
      ]
     },
     "execution_count": 11,
     "metadata": {},
     "output_type": "execute_result"
    }
   ],
   "source": [
    "ep = next(iter(test_processed_target))\n",
    "ep[0].dtype"
   ]
  },
  {
   "cell_type": "code",
   "execution_count": 12,
   "id": "19425fad",
   "metadata": {
    "execution": {
     "iopub.execute_input": "2022-03-26T11:31:45.227738Z",
     "iopub.status.busy": "2022-03-26T11:31:45.227335Z",
     "iopub.status.idle": "2022-03-26T11:31:45.275221Z",
     "shell.execute_reply": "2022-03-26T11:31:45.274505Z"
    },
    "papermill": {
     "duration": 0.06737,
     "end_time": "2022-03-26T11:31:45.275402",
     "exception": false,
     "start_time": "2022-03-26T11:31:45.208032",
     "status": "completed"
    },
    "tags": []
   },
   "outputs": [],
   "source": [
    "model = Configurable_Vanilla(\n",
    "    x_net=x_net,\n",
    "    label_loss_object=torch.nn.NLLLoss(),\n",
    "    learning_rate=p.lr\n",
    ")"
   ]
  },
  {
   "cell_type": "code",
   "execution_count": 13,
   "id": "7f6d4f2c",
   "metadata": {
    "execution": {
     "iopub.execute_input": "2022-03-26T11:31:45.316732Z",
     "iopub.status.busy": "2022-03-26T11:31:45.316092Z",
     "iopub.status.idle": "2022-03-26T11:35:23.679252Z",
     "shell.execute_reply": "2022-03-26T11:35:23.678890Z"
    },
    "papermill": {
     "duration": 218.383975,
     "end_time": "2022-03-26T11:35:23.679356",
     "exception": false,
     "start_time": "2022-03-26T11:31:45.295381",
     "status": "completed"
    },
    "tags": []
   },
   "outputs": [
    {
     "name": "stdout",
     "output_type": "stream",
     "text": [
      "epoch: 1, [batch: 1 / 1479], examples_per_second: 678.1589, train_label_loss: 4.8518, \n"
     ]
    },
    {
     "name": "stdout",
     "output_type": "stream",
     "text": [
      "epoch: 1, [batch: 148 / 1479], examples_per_second: 10519.0934, train_label_loss: 2.9463, \n"
     ]
    },
    {
     "name": "stdout",
     "output_type": "stream",
     "text": [
      "epoch: 1, [batch: 296 / 1479], examples_per_second: 10580.0232, train_label_loss: 1.9892, \n"
     ]
    },
    {
     "name": "stdout",
     "output_type": "stream",
     "text": [
      "epoch: 1, [batch: 444 / 1479], examples_per_second: 10605.3954, train_label_loss: 1.4849, \n"
     ]
    },
    {
     "name": "stdout",
     "output_type": "stream",
     "text": [
      "epoch: 1, [batch: 592 / 1479], examples_per_second: 10598.7168, train_label_loss: 1.0947, \n"
     ]
    },
    {
     "name": "stdout",
     "output_type": "stream",
     "text": [
      "epoch: 1, [batch: 740 / 1479], examples_per_second: 10676.7110, train_label_loss: 0.9782, \n"
     ]
    },
    {
     "name": "stdout",
     "output_type": "stream",
     "text": [
      "epoch: 1, [batch: 887 / 1479], examples_per_second: 10591.0712, train_label_loss: 0.7991, \n"
     ]
    },
    {
     "name": "stdout",
     "output_type": "stream",
     "text": [
      "epoch: 1, [batch: 1035 / 1479], examples_per_second: 10666.8684, train_label_loss: 0.5437, \n"
     ]
    },
    {
     "name": "stdout",
     "output_type": "stream",
     "text": [
      "epoch: 1, [batch: 1183 / 1479], examples_per_second: 10638.7966, train_label_loss: 0.5376, \n"
     ]
    },
    {
     "name": "stdout",
     "output_type": "stream",
     "text": [
      "epoch: 1, [batch: 1331 / 1479], examples_per_second: 10614.5378, train_label_loss: 0.4419, \n"
     ]
    },
    {
     "name": "stdout",
     "output_type": "stream",
     "text": [
      "=============================================================\n",
      "epoch: 1, source_val_acc_label: 0.8766, source_val_label_loss: 0.5379, target_val_acc_label: 0.8766, target_val_label_loss: 0.5374, \n",
      "=============================================================\n"
     ]
    },
    {
     "name": "stdout",
     "output_type": "stream",
     "text": [
      "New best\n",
      "epoch: 2, [batch: 1 / 1479], examples_per_second: 48.0253, train_label_loss: 0.5598, \n"
     ]
    },
    {
     "name": "stdout",
     "output_type": "stream",
     "text": [
      "epoch: 2, [batch: 148 / 1479], examples_per_second: 10602.4213, train_label_loss: 0.3750, \n"
     ]
    },
    {
     "name": "stdout",
     "output_type": "stream",
     "text": [
      "epoch: 2, [batch: 296 / 1479], examples_per_second: 10714.4343, train_label_loss: 0.7277, \n"
     ]
    },
    {
     "name": "stdout",
     "output_type": "stream",
     "text": [
      "epoch: 2, [batch: 444 / 1479], examples_per_second: 10627.1899, train_label_loss: 0.2834, \n"
     ]
    },
    {
     "name": "stdout",
     "output_type": "stream",
     "text": [
      "epoch: 2, [batch: 592 / 1479], examples_per_second: 10643.3925, train_label_loss: 0.2887, \n"
     ]
    },
    {
     "name": "stdout",
     "output_type": "stream",
     "text": [
      "epoch: 2, [batch: 740 / 1479], examples_per_second: 10545.6737, train_label_loss: 0.2429, \n"
     ]
    },
    {
     "name": "stdout",
     "output_type": "stream",
     "text": [
      "epoch: 2, [batch: 887 / 1479], examples_per_second: 10791.8695, train_label_loss: 0.2911, \n"
     ]
    },
    {
     "name": "stdout",
     "output_type": "stream",
     "text": [
      "epoch: 2, [batch: 1035 / 1479], examples_per_second: 10653.5289, train_label_loss: 0.3000, \n"
     ]
    },
    {
     "name": "stdout",
     "output_type": "stream",
     "text": [
      "epoch: 2, [batch: 1183 / 1479], examples_per_second: 10684.4637, train_label_loss: 0.2537, \n"
     ]
    },
    {
     "name": "stdout",
     "output_type": "stream",
     "text": [
      "epoch: 2, [batch: 1331 / 1479], examples_per_second: 10699.8761, train_label_loss: 0.3163, \n"
     ]
    },
    {
     "name": "stdout",
     "output_type": "stream",
     "text": [
      "=============================================================\n",
      "epoch: 2, source_val_acc_label: 0.6778, source_val_label_loss: 1.5732, target_val_acc_label: 0.6778, target_val_label_loss: 1.5724, \n",
      "=============================================================\n"
     ]
    },
    {
     "name": "stdout",
     "output_type": "stream",
     "text": [
      "epoch: 3, [batch: 1 / 1479], examples_per_second: 53.3643, train_label_loss: 1.2427, \n"
     ]
    },
    {
     "name": "stdout",
     "output_type": "stream",
     "text": [
      "epoch: 3, [batch: 148 / 1479], examples_per_second: 10647.4322, train_label_loss: 0.3673, \n"
     ]
    },
    {
     "name": "stdout",
     "output_type": "stream",
     "text": [
      "epoch: 3, [batch: 296 / 1479], examples_per_second: 10455.1297, train_label_loss: 0.2610, \n"
     ]
    },
    {
     "name": "stdout",
     "output_type": "stream",
     "text": [
      "epoch: 3, [batch: 444 / 1479], examples_per_second: 10543.6754, train_label_loss: 0.2428, \n"
     ]
    },
    {
     "name": "stdout",
     "output_type": "stream",
     "text": [
      "epoch: 3, [batch: 592 / 1479], examples_per_second: 10636.9451, train_label_loss: 0.2422, \n"
     ]
    },
    {
     "name": "stdout",
     "output_type": "stream",
     "text": [
      "epoch: 3, [batch: 740 / 1479], examples_per_second: 10523.9861, train_label_loss: 0.3015, \n"
     ]
    },
    {
     "name": "stdout",
     "output_type": "stream",
     "text": [
      "epoch: 3, [batch: 887 / 1479], examples_per_second: 10658.8358, train_label_loss: 0.3965, \n"
     ]
    },
    {
     "name": "stdout",
     "output_type": "stream",
     "text": [
      "epoch: 3, [batch: 1035 / 1479], examples_per_second: 10660.0407, train_label_loss: 0.1675, \n"
     ]
    },
    {
     "name": "stdout",
     "output_type": "stream",
     "text": [
      "epoch: 3, [batch: 1183 / 1479], examples_per_second: 10652.9261, train_label_loss: 0.2650, \n"
     ]
    },
    {
     "name": "stdout",
     "output_type": "stream",
     "text": [
      "epoch: 3, [batch: 1331 / 1479], examples_per_second: 10575.0610, train_label_loss: 0.2507, \n"
     ]
    },
    {
     "name": "stdout",
     "output_type": "stream",
     "text": [
      "=============================================================\n",
      "epoch: 3, source_val_acc_label: 0.8839, source_val_label_loss: 0.5664, target_val_acc_label: 0.8839, target_val_label_loss: 0.5665, \n",
      "=============================================================\n"
     ]
    },
    {
     "name": "stdout",
     "output_type": "stream",
     "text": [
      "New best\n",
      "epoch: 4, [batch: 1 / 1479], examples_per_second: 53.4820, train_label_loss: 0.2816, \n"
     ]
    },
    {
     "name": "stdout",
     "output_type": "stream",
     "text": [
      "epoch: 4, [batch: 148 / 1479], examples_per_second: 10568.4468, train_label_loss: 0.1350, \n"
     ]
    },
    {
     "name": "stdout",
     "output_type": "stream",
     "text": [
      "epoch: 4, [batch: 296 / 1479], examples_per_second: 10570.1780, train_label_loss: 0.1683, \n"
     ]
    },
    {
     "name": "stdout",
     "output_type": "stream",
     "text": [
      "epoch: 4, [batch: 444 / 1479], examples_per_second: 10646.0464, train_label_loss: 0.1094, \n"
     ]
    },
    {
     "name": "stdout",
     "output_type": "stream",
     "text": [
      "epoch: 4, [batch: 592 / 1479], examples_per_second: 10623.1846, train_label_loss: 0.1482, \n"
     ]
    },
    {
     "name": "stdout",
     "output_type": "stream",
     "text": [
      "epoch: 4, [batch: 740 / 1479], examples_per_second: 10608.2046, train_label_loss: 0.1047, \n"
     ]
    },
    {
     "name": "stdout",
     "output_type": "stream",
     "text": [
      "epoch: 4, [batch: 887 / 1479], examples_per_second: 10536.2701, train_label_loss: 0.2416, \n"
     ]
    },
    {
     "name": "stdout",
     "output_type": "stream",
     "text": [
      "epoch: 4, [batch: 1035 / 1479], examples_per_second: 10428.6814, train_label_loss: 0.1001, \n"
     ]
    },
    {
     "name": "stdout",
     "output_type": "stream",
     "text": [
      "epoch: 4, [batch: 1183 / 1479], examples_per_second: 10640.6231, train_label_loss: 0.0725, \n"
     ]
    },
    {
     "name": "stdout",
     "output_type": "stream",
     "text": [
      "epoch: 4, [batch: 1331 / 1479], examples_per_second: 10632.6763, train_label_loss: 0.2080, \n"
     ]
    },
    {
     "name": "stdout",
     "output_type": "stream",
     "text": [
      "=============================================================\n",
      "epoch: 4, source_val_acc_label: 0.9256, source_val_label_loss: 0.3487, target_val_acc_label: 0.9256, target_val_label_loss: 0.3482, \n",
      "=============================================================\n"
     ]
    },
    {
     "name": "stdout",
     "output_type": "stream",
     "text": [
      "New best\n",
      "epoch: 5, [batch: 1 / 1479], examples_per_second: 60.9240, train_label_loss: 0.2384, \n"
     ]
    },
    {
     "name": "stdout",
     "output_type": "stream",
     "text": [
      "epoch: 5, [batch: 148 / 1479], examples_per_second: 12886.5282, train_label_loss: 0.3156, \n"
     ]
    },
    {
     "name": "stdout",
     "output_type": "stream",
     "text": [
      "epoch: 5, [batch: 296 / 1479], examples_per_second: 12728.0979, train_label_loss: 0.2514, \n"
     ]
    },
    {
     "name": "stdout",
     "output_type": "stream",
     "text": [
      "epoch: 5, [batch: 444 / 1479], examples_per_second: 12988.1422, train_label_loss: 0.1293, \n"
     ]
    },
    {
     "name": "stdout",
     "output_type": "stream",
     "text": [
      "epoch: 5, [batch: 592 / 1479], examples_per_second: 12926.7461, train_label_loss: 0.1962, \n"
     ]
    },
    {
     "name": "stdout",
     "output_type": "stream",
     "text": [
      "epoch: 5, [batch: 740 / 1479], examples_per_second: 12944.4632, train_label_loss: 0.0919, \n"
     ]
    },
    {
     "name": "stdout",
     "output_type": "stream",
     "text": [
      "epoch: 5, [batch: 887 / 1479], examples_per_second: 13034.6869, train_label_loss: 0.1579, \n"
     ]
    },
    {
     "name": "stdout",
     "output_type": "stream",
     "text": [
      "epoch: 5, [batch: 1035 / 1479], examples_per_second: 13011.9492, train_label_loss: 0.1695, \n"
     ]
    },
    {
     "name": "stdout",
     "output_type": "stream",
     "text": [
      "epoch: 5, [batch: 1183 / 1479], examples_per_second: 12901.5505, train_label_loss: 0.1529, \n"
     ]
    },
    {
     "name": "stdout",
     "output_type": "stream",
     "text": [
      "epoch: 5, [batch: 1331 / 1479], examples_per_second: 12871.0943, train_label_loss: 0.2116, \n"
     ]
    },
    {
     "name": "stdout",
     "output_type": "stream",
     "text": [
      "=============================================================\n",
      "epoch: 5, source_val_acc_label: 0.9476, source_val_label_loss: 0.2358, target_val_acc_label: 0.9476, target_val_label_loss: 0.2357, \n",
      "=============================================================\n"
     ]
    },
    {
     "name": "stdout",
     "output_type": "stream",
     "text": [
      "New best\n",
      "epoch: 6, [batch: 1 / 1479], examples_per_second: 69.4469, train_label_loss: 0.1918, \n"
     ]
    },
    {
     "name": "stdout",
     "output_type": "stream",
     "text": [
      "epoch: 6, [batch: 148 / 1479], examples_per_second: 12959.5340, train_label_loss: 0.2029, \n"
     ]
    },
    {
     "name": "stdout",
     "output_type": "stream",
     "text": [
      "epoch: 6, [batch: 296 / 1479], examples_per_second: 12997.8114, train_label_loss: 0.1003, \n"
     ]
    },
    {
     "name": "stdout",
     "output_type": "stream",
     "text": [
      "epoch: 6, [batch: 444 / 1479], examples_per_second: 12935.2943, train_label_loss: 0.1431, \n"
     ]
    },
    {
     "name": "stdout",
     "output_type": "stream",
     "text": [
      "epoch: 6, [batch: 592 / 1479], examples_per_second: 12858.9817, train_label_loss: 0.1375, \n"
     ]
    },
    {
     "name": "stdout",
     "output_type": "stream",
     "text": [
      "epoch: 6, [batch: 740 / 1479], examples_per_second: 12925.0744, train_label_loss: 0.1136, \n"
     ]
    },
    {
     "name": "stdout",
     "output_type": "stream",
     "text": [
      "epoch: 6, [batch: 887 / 1479], examples_per_second: 12984.4978, train_label_loss: 0.1232, \n"
     ]
    },
    {
     "name": "stdout",
     "output_type": "stream",
     "text": [
      "epoch: 6, [batch: 1035 / 1479], examples_per_second: 12969.4416, train_label_loss: 0.2879, \n"
     ]
    },
    {
     "name": "stdout",
     "output_type": "stream",
     "text": [
      "epoch: 6, [batch: 1183 / 1479], examples_per_second: 12997.9028, train_label_loss: 0.0921, \n"
     ]
    },
    {
     "name": "stdout",
     "output_type": "stream",
     "text": [
      "epoch: 6, [batch: 1331 / 1479], examples_per_second: 13078.5105, train_label_loss: 0.0992, \n"
     ]
    },
    {
     "name": "stdout",
     "output_type": "stream",
     "text": [
      "=============================================================\n",
      "epoch: 6, source_val_acc_label: 0.9172, source_val_label_loss: 0.3401, target_val_acc_label: 0.9172, target_val_label_loss: 0.3407, \n",
      "=============================================================\n"
     ]
    },
    {
     "name": "stdout",
     "output_type": "stream",
     "text": [
      "epoch: 7, [batch: 1 / 1479], examples_per_second: 68.5010, train_label_loss: 0.1958, \n"
     ]
    },
    {
     "name": "stdout",
     "output_type": "stream",
     "text": [
      "epoch: 7, [batch: 148 / 1479], examples_per_second: 12807.2804, train_label_loss: 0.2181, \n"
     ]
    },
    {
     "name": "stdout",
     "output_type": "stream",
     "text": [
      "epoch: 7, [batch: 296 / 1479], examples_per_second: 13004.9233, train_label_loss: 0.2314, \n"
     ]
    },
    {
     "name": "stdout",
     "output_type": "stream",
     "text": [
      "epoch: 7, [batch: 444 / 1479], examples_per_second: 12888.9936, train_label_loss: 0.1501, \n"
     ]
    },
    {
     "name": "stdout",
     "output_type": "stream",
     "text": [
      "epoch: 7, [batch: 592 / 1479], examples_per_second: 12999.5849, train_label_loss: 0.1712, \n"
     ]
    },
    {
     "name": "stdout",
     "output_type": "stream",
     "text": [
      "epoch: 7, [batch: 740 / 1479], examples_per_second: 12801.2310, train_label_loss: 0.0718, \n"
     ]
    },
    {
     "name": "stdout",
     "output_type": "stream",
     "text": [
      "epoch: 7, [batch: 887 / 1479], examples_per_second: 12976.3102, train_label_loss: 0.1027, \n"
     ]
    },
    {
     "name": "stdout",
     "output_type": "stream",
     "text": [
      "epoch: 7, [batch: 1035 / 1479], examples_per_second: 12883.5119, train_label_loss: 0.0905, \n"
     ]
    },
    {
     "name": "stdout",
     "output_type": "stream",
     "text": [
      "epoch: 7, [batch: 1183 / 1479], examples_per_second: 12984.9456, train_label_loss: 0.1064, \n"
     ]
    },
    {
     "name": "stdout",
     "output_type": "stream",
     "text": [
      "epoch: 7, [batch: 1331 / 1479], examples_per_second: 12903.0128, train_label_loss: 0.1822, \n"
     ]
    },
    {
     "name": "stdout",
     "output_type": "stream",
     "text": [
      "=============================================================\n",
      "epoch: 7, source_val_acc_label: 0.9251, source_val_label_loss: 0.3030, target_val_acc_label: 0.9251, target_val_label_loss: 0.3029, \n",
      "=============================================================\n"
     ]
    },
    {
     "name": "stdout",
     "output_type": "stream",
     "text": [
      "epoch: 8, [batch: 1 / 1479], examples_per_second: 68.5822, train_label_loss: 0.1206, \n"
     ]
    },
    {
     "name": "stdout",
     "output_type": "stream",
     "text": [
      "epoch: 8, [batch: 148 / 1479], examples_per_second: 12973.9061, train_label_loss: 0.1397, \n"
     ]
    },
    {
     "name": "stdout",
     "output_type": "stream",
     "text": [
      "epoch: 8, [batch: 296 / 1479], examples_per_second: 12985.3785, train_label_loss: 0.0859, \n"
     ]
    },
    {
     "name": "stdout",
     "output_type": "stream",
     "text": [
      "epoch: 8, [batch: 444 / 1479], examples_per_second: 12733.3400, train_label_loss: 0.1111, \n"
     ]
    },
    {
     "name": "stdout",
     "output_type": "stream",
     "text": [
      "epoch: 8, [batch: 592 / 1479], examples_per_second: 13024.5888, train_label_loss: 0.2343, \n"
     ]
    },
    {
     "name": "stdout",
     "output_type": "stream",
     "text": [
      "epoch: 8, [batch: 740 / 1479], examples_per_second: 13026.8395, train_label_loss: 0.1160, \n"
     ]
    },
    {
     "name": "stdout",
     "output_type": "stream",
     "text": [
      "epoch: 8, [batch: 887 / 1479], examples_per_second: 13024.2454, train_label_loss: 0.0488, \n"
     ]
    },
    {
     "name": "stdout",
     "output_type": "stream",
     "text": [
      "epoch: 8, [batch: 1035 / 1479], examples_per_second: 12959.1360, train_label_loss: 0.1536, \n"
     ]
    },
    {
     "name": "stdout",
     "output_type": "stream",
     "text": [
      "epoch: 8, [batch: 1183 / 1479], examples_per_second: 14122.6398, train_label_loss: 0.2335, \n"
     ]
    },
    {
     "name": "stdout",
     "output_type": "stream",
     "text": [
      "epoch: 8, [batch: 1331 / 1479], examples_per_second: 14262.6500, train_label_loss: 0.2458, \n"
     ]
    },
    {
     "name": "stdout",
     "output_type": "stream",
     "text": [
      "=============================================================\n",
      "epoch: 8, source_val_acc_label: 0.9507, source_val_label_loss: 0.2207, target_val_acc_label: 0.9507, target_val_label_loss: 0.2209, \n",
      "=============================================================\n"
     ]
    },
    {
     "name": "stdout",
     "output_type": "stream",
     "text": [
      "New best\n",
      "epoch: 9, [batch: 1 / 1479], examples_per_second: 68.3633, train_label_loss: 0.1049, \n"
     ]
    },
    {
     "name": "stdout",
     "output_type": "stream",
     "text": [
      "epoch: 9, [batch: 148 / 1479], examples_per_second: 12902.9808, train_label_loss: 0.1699, \n"
     ]
    },
    {
     "name": "stdout",
     "output_type": "stream",
     "text": [
      "epoch: 9, [batch: 296 / 1479], examples_per_second: 12986.0831, train_label_loss: 0.0622, \n"
     ]
    },
    {
     "name": "stdout",
     "output_type": "stream",
     "text": [
      "epoch: 9, [batch: 444 / 1479], examples_per_second: 13036.9665, train_label_loss: 0.1135, \n"
     ]
    },
    {
     "name": "stdout",
     "output_type": "stream",
     "text": [
      "epoch: 9, [batch: 592 / 1479], examples_per_second: 13000.3294, train_label_loss: 0.1240, \n"
     ]
    },
    {
     "name": "stdout",
     "output_type": "stream",
     "text": [
      "epoch: 9, [batch: 740 / 1479], examples_per_second: 12941.2207, train_label_loss: 0.1723, \n"
     ]
    },
    {
     "name": "stdout",
     "output_type": "stream",
     "text": [
      "epoch: 9, [batch: 887 / 1479], examples_per_second: 12974.0404, train_label_loss: 0.1157, \n"
     ]
    },
    {
     "name": "stdout",
     "output_type": "stream",
     "text": [
      "epoch: 9, [batch: 1035 / 1479], examples_per_second: 12994.8163, train_label_loss: 0.1821, \n"
     ]
    },
    {
     "name": "stdout",
     "output_type": "stream",
     "text": [
      "epoch: 9, [batch: 1183 / 1479], examples_per_second: 13006.0409, train_label_loss: 0.2460, \n"
     ]
    },
    {
     "name": "stdout",
     "output_type": "stream",
     "text": [
      "epoch: 9, [batch: 1331 / 1479], examples_per_second: 12912.0920, train_label_loss: 0.0249, \n"
     ]
    },
    {
     "name": "stdout",
     "output_type": "stream",
     "text": [
      "=============================================================\n",
      "epoch: 9, source_val_acc_label: 0.9209, source_val_label_loss: 0.4070, target_val_acc_label: 0.9209, target_val_label_loss: 0.4092, \n",
      "=============================================================\n"
     ]
    },
    {
     "name": "stdout",
     "output_type": "stream",
     "text": [
      "epoch: 10, [batch: 1 / 1479], examples_per_second: 69.5583, train_label_loss: 0.1120, \n"
     ]
    },
    {
     "name": "stdout",
     "output_type": "stream",
     "text": [
      "epoch: 10, [batch: 148 / 1479], examples_per_second: 12916.4010, train_label_loss: 0.0662, \n"
     ]
    },
    {
     "name": "stdout",
     "output_type": "stream",
     "text": [
      "epoch: 10, [batch: 296 / 1479], examples_per_second: 12868.2740, train_label_loss: 0.2276, \n"
     ]
    },
    {
     "name": "stdout",
     "output_type": "stream",
     "text": [
      "epoch: 10, [batch: 444 / 1479], examples_per_second: 12851.0598, train_label_loss: 0.1396, \n"
     ]
    },
    {
     "name": "stdout",
     "output_type": "stream",
     "text": [
      "epoch: 10, [batch: 592 / 1479], examples_per_second: 12918.5978, train_label_loss: 0.0476, \n"
     ]
    },
    {
     "name": "stdout",
     "output_type": "stream",
     "text": [
      "epoch: 10, [batch: 740 / 1479], examples_per_second: 12854.8604, train_label_loss: 0.1270, \n"
     ]
    },
    {
     "name": "stdout",
     "output_type": "stream",
     "text": [
      "epoch: 10, [batch: 887 / 1479], examples_per_second: 12949.1699, train_label_loss: 0.1354, \n"
     ]
    },
    {
     "name": "stdout",
     "output_type": "stream",
     "text": [
      "epoch: 10, [batch: 1035 / 1479], examples_per_second: 12975.2150, train_label_loss: 0.0796, \n"
     ]
    },
    {
     "name": "stdout",
     "output_type": "stream",
     "text": [
      "epoch: 10, [batch: 1183 / 1479], examples_per_second: 12911.5213, train_label_loss: 0.1031, \n"
     ]
    },
    {
     "name": "stdout",
     "output_type": "stream",
     "text": [
      "epoch: 10, [batch: 1331 / 1479], examples_per_second: 12816.6060, train_label_loss: 0.1383, \n"
     ]
    },
    {
     "name": "stdout",
     "output_type": "stream",
     "text": [
      "=============================================================\n",
      "epoch: 10, source_val_acc_label: 0.9450, source_val_label_loss: 0.2651, target_val_acc_label: 0.9450, target_val_label_loss: 0.2644, \n",
      "=============================================================\n"
     ]
    },
    {
     "name": "stdout",
     "output_type": "stream",
     "text": [
      "epoch: 11, [batch: 1 / 1479], examples_per_second: 68.9760, train_label_loss: 0.1579, \n"
     ]
    },
    {
     "name": "stdout",
     "output_type": "stream",
     "text": [
      "epoch: 11, [batch: 148 / 1479], examples_per_second: 12939.5671, train_label_loss: 0.1254, \n"
     ]
    },
    {
     "name": "stdout",
     "output_type": "stream",
     "text": [
      "epoch: 11, [batch: 296 / 1479], examples_per_second: 13000.2230, train_label_loss: 0.0797, \n"
     ]
    },
    {
     "name": "stdout",
     "output_type": "stream",
     "text": [
      "epoch: 11, [batch: 444 / 1479], examples_per_second: 12988.5116, train_label_loss: 0.2443, \n"
     ]
    },
    {
     "name": "stdout",
     "output_type": "stream",
     "text": [
      "epoch: 11, [batch: 592 / 1479], examples_per_second: 13036.4873, train_label_loss: 0.1227, \n"
     ]
    },
    {
     "name": "stdout",
     "output_type": "stream",
     "text": [
      "epoch: 11, [batch: 740 / 1479], examples_per_second: 13043.3996, train_label_loss: 0.0982, \n"
     ]
    },
    {
     "name": "stdout",
     "output_type": "stream",
     "text": [
      "epoch: 11, [batch: 887 / 1479], examples_per_second: 12959.2510, train_label_loss: 0.0804, \n"
     ]
    },
    {
     "name": "stdout",
     "output_type": "stream",
     "text": [
      "epoch: 11, [batch: 1035 / 1479], examples_per_second: 13023.9164, train_label_loss: 0.1716, \n"
     ]
    },
    {
     "name": "stdout",
     "output_type": "stream",
     "text": [
      "epoch: 11, [batch: 1183 / 1479], examples_per_second: 13022.8768, train_label_loss: 0.1811, \n"
     ]
    },
    {
     "name": "stdout",
     "output_type": "stream",
     "text": [
      "epoch: 11, [batch: 1331 / 1479], examples_per_second: 13062.9327, train_label_loss: 0.1067, \n"
     ]
    },
    {
     "name": "stdout",
     "output_type": "stream",
     "text": [
      "=============================================================\n",
      "epoch: 11, source_val_acc_label: 0.9482, source_val_label_loss: 0.2591, target_val_acc_label: 0.9482, target_val_label_loss: 0.2591, \n",
      "=============================================================\n"
     ]
    },
    {
     "name": "stdout",
     "output_type": "stream",
     "text": [
      "epoch: 12, [batch: 1 / 1479], examples_per_second: 68.5798, train_label_loss: 0.0682, \n"
     ]
    },
    {
     "name": "stdout",
     "output_type": "stream",
     "text": [
      "epoch: 12, [batch: 148 / 1479], examples_per_second: 12912.9330, train_label_loss: 0.1259, \n"
     ]
    },
    {
     "name": "stdout",
     "output_type": "stream",
     "text": [
      "epoch: 12, [batch: 296 / 1479], examples_per_second: 12998.2558, train_label_loss: 0.1174, \n"
     ]
    },
    {
     "name": "stdout",
     "output_type": "stream",
     "text": [
      "epoch: 12, [batch: 444 / 1479], examples_per_second: 12946.3994, train_label_loss: 0.0310, \n"
     ]
    },
    {
     "name": "stdout",
     "output_type": "stream",
     "text": [
      "epoch: 12, [batch: 592 / 1479], examples_per_second: 12874.3811, train_label_loss: 0.0931, \n"
     ]
    },
    {
     "name": "stdout",
     "output_type": "stream",
     "text": [
      "epoch: 12, [batch: 740 / 1479], examples_per_second: 12937.1624, train_label_loss: 0.0181, \n"
     ]
    },
    {
     "name": "stdout",
     "output_type": "stream",
     "text": [
      "epoch: 12, [batch: 887 / 1479], examples_per_second: 13058.1802, train_label_loss: 0.1088, \n"
     ]
    },
    {
     "name": "stdout",
     "output_type": "stream",
     "text": [
      "epoch: 12, [batch: 1035 / 1479], examples_per_second: 12937.6406, train_label_loss: 0.1401, \n"
     ]
    },
    {
     "name": "stdout",
     "output_type": "stream",
     "text": [
      "epoch: 12, [batch: 1183 / 1479], examples_per_second: 12939.4504, train_label_loss: 0.1486, \n"
     ]
    },
    {
     "name": "stdout",
     "output_type": "stream",
     "text": [
      "epoch: 12, [batch: 1331 / 1479], examples_per_second: 12949.9949, train_label_loss: 0.1535, \n"
     ]
    },
    {
     "name": "stdout",
     "output_type": "stream",
     "text": [
      "=============================================================\n",
      "epoch: 12, source_val_acc_label: 0.9373, source_val_label_loss: 0.3297, target_val_acc_label: 0.9373, target_val_label_loss: 0.3303, \n",
      "=============================================================\n"
     ]
    },
    {
     "name": "stdout",
     "output_type": "stream",
     "text": [
      "Patience (3) exhausted\n"
     ]
    }
   ],
   "source": [
    "jig = Vanilla_Train_Eval_Test_Jig(\n",
    "    model=model,\n",
    "    path_to_best_model=p.BEST_MODEL_PATH,\n",
    "    device=p.device,\n",
    "    label_loss_object=torch.nn.NLLLoss(),\n",
    ")\n",
    "\n",
    "jig.train(\n",
    "    train_iterable=datasets.source.processed.train,\n",
    "    source_val_iterable=datasets.source.processed.val,\n",
    "    target_val_iterable=datasets.target.processed.val,\n",
    "    patience=p.patience,\n",
    "    num_epochs=p.n_epoch,\n",
    "    num_logs_per_epoch=p.NUM_LOGS_PER_EPOCH,\n",
    "    criteria_for_best=p.criteria_for_best\n",
    ")"
   ]
  },
  {
   "cell_type": "code",
   "execution_count": 14,
   "id": "4bc2ac17",
   "metadata": {
    "execution": {
     "iopub.execute_input": "2022-03-26T11:35:23.789271Z",
     "iopub.status.busy": "2022-03-26T11:35:23.788883Z",
     "iopub.status.idle": "2022-03-26T11:35:23.790752Z",
     "shell.execute_reply": "2022-03-26T11:35:23.791080Z"
    },
    "papermill": {
     "duration": 0.06,
     "end_time": "2022-03-26T11:35:23.791188",
     "exception": false,
     "start_time": "2022-03-26T11:35:23.731188",
     "status": "completed"
    },
    "tags": []
   },
   "outputs": [],
   "source": [
    "total_experiment_time_secs = time.time() - start_time_secs"
   ]
  },
  {
   "cell_type": "code",
   "execution_count": 15,
   "id": "cae88f23",
   "metadata": {
    "execution": {
     "iopub.execute_input": "2022-03-26T11:35:23.913876Z",
     "iopub.status.busy": "2022-03-26T11:35:23.912963Z",
     "iopub.status.idle": "2022-03-26T11:35:46.581348Z",
     "shell.execute_reply": "2022-03-26T11:35:46.582055Z"
    },
    "papermill": {
     "duration": 22.734602,
     "end_time": "2022-03-26T11:35:46.582300",
     "exception": false,
     "start_time": "2022-03-26T11:35:23.847698",
     "status": "completed"
    },
    "tags": []
   },
   "outputs": [],
   "source": [
    "source_test_label_accuracy, source_test_label_loss = jig.test(datasets.source.processed.test)\n",
    "target_test_label_accuracy, target_test_label_loss = jig.test(datasets.target.processed.test)\n",
    "\n",
    "source_val_label_accuracy, source_val_label_loss = jig.test(datasets.source.processed.val)\n",
    "target_val_label_accuracy, target_val_label_loss = jig.test(datasets.target.processed.val)\n",
    "\n",
    "history = jig.get_history()\n",
    "\n",
    "total_epochs_trained = len(history[\"epoch_indices\"])\n",
    "\n",
    "val_dl = wrap_in_dataloader(p, Sequence_Aggregator((datasets.source.original.val, datasets.target.original.val)))\n",
    "\n",
    "confusion = confusion_by_domain_over_dataloader(model, p.device, val_dl, forward_uses_domain=False)\n",
    "per_domain_accuracy = per_domain_accuracy_from_confusion(confusion)\n",
    "\n",
    "# Add a key to per_domain_accuracy for if it was a source domain\n",
    "for domain, accuracy in per_domain_accuracy.items():\n",
    "    per_domain_accuracy[domain] = {\n",
    "        \"accuracy\": accuracy,\n",
    "        \"source?\": domain in p.domains_source\n",
    "    }\n",
    "\n",
    "# Do an independent accuracy assesment JUST TO BE SURE!\n",
    "# _source_test_label_accuracy = independent_accuracy_assesment(model, datasets.source.processed.test, p.device)\n",
    "# _target_test_label_accuracy = independent_accuracy_assesment(model, datasets.target.processed.test, p.device)\n",
    "# _source_val_label_accuracy = independent_accuracy_assesment(model, datasets.source.processed.val, p.device)\n",
    "# _target_val_label_accuracy = independent_accuracy_assesment(model, datasets.target.processed.val, p.device)\n",
    "\n",
    "# assert(_source_test_label_accuracy == source_test_label_accuracy)\n",
    "# assert(_target_test_label_accuracy == target_test_label_accuracy)\n",
    "# assert(_source_val_label_accuracy == source_val_label_accuracy)\n",
    "# assert(_target_val_label_accuracy == target_val_label_accuracy)\n",
    "\n",
    "###################################\n",
    "# Write out the results\n",
    "###################################\n",
    "\n",
    "experiment = {\n",
    "    \"experiment_name\": p.experiment_name,\n",
    "    \"parameters\": p,\n",
    "    \"results\": {\n",
    "        \"source_test_label_accuracy\": source_test_label_accuracy,\n",
    "        \"source_test_label_loss\": source_test_label_loss,\n",
    "        \"target_test_label_accuracy\": target_test_label_accuracy,\n",
    "        \"target_test_label_loss\": target_test_label_loss,\n",
    "        \"source_val_label_accuracy\": source_val_label_accuracy,\n",
    "        \"source_val_label_loss\": source_val_label_loss,\n",
    "        \"target_val_label_accuracy\": target_val_label_accuracy,\n",
    "        \"target_val_label_loss\": target_val_label_loss,\n",
    "        \"total_epochs_trained\": total_epochs_trained,\n",
    "        \"total_experiment_time_secs\": total_experiment_time_secs,\n",
    "        \"confusion\": confusion,\n",
    "        \"per_domain_accuracy\": per_domain_accuracy,\n",
    "    },\n",
    "    \"history\": history,\n",
    "    \"dataset_metrics\": get_dataset_metrics(datasets, \"cnn\"),\n",
    "}"
   ]
  },
  {
   "cell_type": "code",
   "execution_count": 16,
   "id": "74c318cf",
   "metadata": {
    "execution": {
     "iopub.execute_input": "2022-03-26T11:35:46.712298Z",
     "iopub.status.busy": "2022-03-26T11:35:46.705905Z",
     "iopub.status.idle": "2022-03-26T11:35:46.908560Z",
     "shell.execute_reply": "2022-03-26T11:35:46.909114Z"
    },
    "papermill": {
     "duration": 0.269573,
     "end_time": "2022-03-26T11:35:46.909306",
     "exception": false,
     "start_time": "2022-03-26T11:35:46.639733",
     "status": "completed"
    },
    "tags": []
   },
   "outputs": [
    {
     "data": {
      "text/plain": [
       "<AxesSubplot:title={'center':'Source Train Label Loss vs Source Val Label Loss'}, xlabel='Epoch'>"
      ]
     },
     "execution_count": 16,
     "metadata": {},
     "output_type": "execute_result"
    },
    {
     "data": {
      "image/png": "[encoded data removed]",
      "text/plain": [
       "<Figure size 1080x504 with 1 Axes>"
      ]
     },
     "metadata": {
      "needs_background": "light"
     },
     "output_type": "display_data"
    }
   ],
   "source": [
    "get_loss_curve(experiment)"
   ]
  },
  {
   "cell_type": "code",
   "execution_count": 17,
   "id": "59376601",
   "metadata": {
    "execution": {
     "iopub.execute_input": "2022-03-26T11:35:47.025159Z",
     "iopub.status.busy": "2022-03-26T11:35:47.022890Z",
     "iopub.status.idle": "2022-03-26T11:35:47.359412Z",
     "shell.execute_reply": "2022-03-26T11:35:47.359081Z"
    },
    "papermill": {
     "duration": 0.393741,
     "end_time": "2022-03-26T11:35:47.359491",
     "exception": false,
     "start_time": "2022-03-26T11:35:46.965750",
     "status": "completed"
    },
    "tags": []
   },
   "outputs": [
    {
     "data": {
      "text/plain": [
       "<AxesSubplot:title={'center':'Results'}>"
      ]
     },
     "execution_count": 17,
     "metadata": {},
     "output_type": "execute_result"
    },
    {
     "data": {
      "image/png": "[encoded data removed]",
      "text/plain": [
       "<Figure size 1080x504 with 1 Axes>"
      ]
     },
     "metadata": {
      "needs_background": "light"
     },
     "output_type": "display_data"
    }
   ],
   "source": [
    "get_results_table(experiment)"
   ]
  },
  {
   "cell_type": "code",
   "execution_count": 18,
   "id": "e80c5c98",
   "metadata": {
    "execution": {
     "iopub.execute_input": "2022-03-26T11:35:47.496710Z",
     "iopub.status.busy": "2022-03-26T11:35:47.489207Z",
     "iopub.status.idle": "2022-03-26T11:35:47.650489Z",
     "shell.execute_reply": "2022-03-26T11:35:47.651151Z"
    },
    "papermill": {
     "duration": 0.237639,
     "end_time": "2022-03-26T11:35:47.651379",
     "exception": false,
     "start_time": "2022-03-26T11:35:47.413740",
     "status": "completed"
    },
    "tags": []
   },
   "outputs": [
    {
     "data": {
      "text/plain": [
       "<AxesSubplot:title={'center':'Per Domain Accuracy'}, xlabel='domain'>"
      ]
     },
     "execution_count": 18,
     "metadata": {},
     "output_type": "execute_result"
    },
    {
     "data": {
      "image/png": "[encoded data removed]",
      "text/plain": [
       "<Figure size 1080x504 with 1 Axes>"
      ]
     },
     "metadata": {
      "needs_background": "light"
     },
     "output_type": "display_data"
    }
   ],
   "source": [
    "get_domain_accuracies(experiment)"
   ]
  },
  {
   "cell_type": "code",
   "execution_count": 19,
   "id": "086fdd10",
   "metadata": {
    "execution": {
     "iopub.execute_input": "2022-03-26T11:35:47.769896Z",
     "iopub.status.busy": "2022-03-26T11:35:47.769520Z",
     "iopub.status.idle": "2022-03-26T11:35:47.772964Z",
     "shell.execute_reply": "2022-03-26T11:35:47.773476Z"
    },
    "papermill": {
     "duration": 0.06181,
     "end_time": "2022-03-26T11:35:47.773632",
     "exception": false,
     "start_time": "2022-03-26T11:35:47.711822",
     "status": "completed"
    },
    "tags": []
   },
   "outputs": [
    {
     "name": "stdout",
     "output_type": "stream",
     "text": [
      "Source Test Label Accuracy: 0.9493803413600838 Target Test Label Accuracy: 0.9493803413600838\n",
      "Source Val Label Accuracy: 0.9506888690653187 Target Val Label Accuracy: 0.9506888690653187\n"
     ]
    }
   ],
   "source": [
    "print(\"Source Test Label Accuracy:\", experiment[\"results\"][\"source_test_label_accuracy\"], \"Target Test Label Accuracy:\", experiment[\"results\"][\"target_test_label_accuracy\"])\n",
    "print(\"Source Val Label Accuracy:\", experiment[\"results\"][\"source_val_label_accuracy\"], \"Target Val Label Accuracy:\", experiment[\"results\"][\"target_val_label_accuracy\"])"
   ]
  },
  {
   "cell_type": "code",
   "execution_count": 20,
   "id": "9f450536",
   "metadata": {
    "execution": {
     "iopub.execute_input": "2022-03-26T11:35:47.890094Z",
     "iopub.status.busy": "2022-03-26T11:35:47.889729Z",
     "iopub.status.idle": "2022-03-26T11:35:47.893706Z",
     "shell.execute_reply": "2022-03-26T11:35:47.893147Z"
    },
    "papermill": {
     "duration": 0.06246,
     "end_time": "2022-03-26T11:35:47.893821",
     "exception": false,
     "start_time": "2022-03-26T11:35:47.831361",
     "status": "completed"
    },
    "tags": [
     "experiment_json"
    ]
   },
   "outputs": [
    {
     "data": {
      "text/plain": [
       "'{\"experiment_name\": \"cnn_2:wisig\", \"parameters\": {\"experiment_name\": \"cnn_2:wisig\", \"labels\": [\"1-10\", \"1-12\", \"1-14\", \"1-16\", \"1-18\", \"1-19\", \"1-8\", \"10-11\", \"10-17\", \"10-4\", \"10-7\", \"11-1\", \"11-10\", \"11-19\", \"11-20\", \"11-4\", \"11-7\", \"12-19\", \"12-20\", \"12-7\", \"13-14\", \"13-18\", \"13-19\", \"13-20\", \"13-3\", \"13-7\", \"14-10\", \"14-11\", \"14-12\", \"14-13\", \"14-14\", \"14-19\", \"14-20\", \"14-7\", \"14-8\", \"14-9\", \"15-1\", \"15-19\", \"15-6\", \"16-1\", \"16-16\", \"16-19\", \"16-20\", \"17-10\", \"17-11\", \"18-1\", \"18-10\", \"18-11\", \"18-12\", \"18-13\", \"18-14\", \"18-15\", \"18-16\", \"18-17\", \"18-19\", \"18-2\", \"18-20\", \"18-4\", \"18-5\", \"18-7\", \"18-8\", \"18-9\", \"19-1\", \"19-10\", \"19-11\", \"19-12\", \"19-13\", \"19-14\", \"19-15\", \"19-19\", \"19-2\", \"19-20\", \"19-3\", \"19-4\", \"19-6\", \"19-7\", \"19-8\", \"19-9\", \"2-1\", \"2-13\", \"2-15\", \"2-3\", \"2-4\", \"2-5\", \"2-6\", \"2-7\", \"2-8\", \"20-1\", \"20-12\", \"20-14\", \"20-15\", \"20-16\", \"20-18\", \"20-19\", \"20-20\", \"20-3\", \"20-4\", \"20-5\", \"20-7\", \"20-8\", \"3-1\", \"3-13\", \"3-18\", \"3-2\", \"3-8\", \"4-1\", \"4-10\", \"4-11\", \"5-1\", \"5-5\", \"6-1\", \"6-15\", \"6-6\", \"7-10\", \"7-11\", \"7-12\", \"7-13\", \"7-14\", \"7-7\", \"7-8\", \"7-9\", \"8-1\", \"8-13\", \"8-14\", \"8-18\", \"8-20\", \"8-3\", \"8-8\", \"9-1\", \"9-7\"], \"domains_source\": [1, 2, 3, 4], \"domains_target\": [1, 2, 3, 4], \"pickle_name_target\": \"wisig.node3-19.stratified_ds.2022A.pkl\", \"pickle_name_source\": \"wisig.node3-19.stratified_ds.2022A.pkl\", \"device\": \"cuda\", \"lr\": 0.0001, \"batch_size\": 128, \"normalize_source\": false, \"normalize_target\": false, \"num_examples_per_domain_per_label_source\": -1, \"num_examples_per_domain_per_label_target\": -1, \"torch_default_dtype\": \"torch.float32\", \"n_epoch\": 50, \"patience\": 3, \"criteria_for_best\": \"target_accuracy\", \"x_net\": [{\"class\": \"nnReshape\", \"kargs\": {\"shape\": [-1, 1, 2, 256]}}, {\"class\": \"Conv2d\", \"kargs\": {\"in_channels\": 1, \"out_channels\": 256, \"kernel_size\": [1, 7], \"bias\": false, \"padding\": [0, 3]}}, {\"class\": \"ReLU\", \"kargs\": {\"inplace\": true}}, {\"class\": \"BatchNorm2d\", \"kargs\": {\"num_features\": 256}}, {\"class\": \"Conv2d\", \"kargs\": {\"in_channels\": 256, \"out_channels\": 80, \"kernel_size\": [2, 7], \"bias\": true, \"padding\": [0, 3]}}, {\"class\": \"ReLU\", \"kargs\": {\"inplace\": true}}, {\"class\": \"BatchNorm2d\", \"kargs\": {\"num_features\": 80}}, {\"class\": \"Flatten\", \"kargs\": {}}, {\"class\": \"Linear\", \"kargs\": {\"in_features\": 20480, \"out_features\": 256}}, {\"class\": \"ReLU\", \"kargs\": {\"inplace\": true}}, {\"class\": \"BatchNorm1d\", \"kargs\": {\"num_features\": 256}}, {\"class\": \"Linear\", \"kargs\": {\"in_features\": 256, \"out_features\": 130}}], \"NUM_LOGS_PER_EPOCH\": 10, \"BEST_MODEL_PATH\": \"./best_model.pth\", \"dataset_seed\": 7, \"seed\": 7}, \"results\": {\"source_test_label_accuracy\": 0.9493803413600838, \"source_test_label_loss\": 0.22253954962963626, \"target_test_label_accuracy\": 0.9493803413600838, \"target_test_label_loss\": 0.22251630026696256, \"source_val_label_accuracy\": 0.9506888690653187, \"source_val_label_loss\": 0.22177068058024102, \"target_val_label_accuracy\": 0.9506888690653187, \"target_val_label_loss\": 0.22132882567806333, \"total_epochs_trained\": 12, \"total_experiment_time_secs\": 231.5971450805664, \"confusion\": {\"4\": {\"102\": {\"102\": 338, \"11\": 2}, \"106\": {\"12\": 2, \"106\": 284, \"88\": 4, \"27\": 2, \"87\": 2, \"23\": 2}, \"18\": {\"18\": 304, \"27\": 2, \"95\": 2}, \"108\": {\"108\": 214, \"88\": 6, \"83\": 2, \"106\": 4, \"21\": 4, \"126\": 2, \"3\": 2, \"107\": 2}, \"113\": {\"113\": 314, \"21\": 2, \"27\": 2, \"88\": 2, \"106\": 2, \"87\": 2}, \"40\": {\"40\": 336, \"106\": 2, \"21\": 2, \"27\": 4}, \"117\": {\"117\": 312, \"106\": 2, \"27\": 2}, \"90\": {\"90\": 444, \"55\": 2, \"125\": 2, \"61\": 2}, \"57\": {\"57\": 46}, \"125\": {\"125\": 372, \"6\": 2, \"21\": 2, \"98\": 2, \"20\": 2}, \"127\": {\"127\": 260, \"106\": 4, \"88\": 4, \"27\": 2}, \"98\": {\"98\": 300, \"80\": 2, \"5\": 2}, \"67\": {\"67\": 44, \"57\": 2}, \"114\": {\"114\": 312, \"87\": 2, \"122\": 2, \"106\": 2, \"21\": 2, \"125\": 2, \"23\": 2}, \"84\": {\"84\": 324, \"88\": 4, \"27\": 2, \"106\": 2, \"21\": 2, \"78\": 2}, \"29\": {\"29\": 78, \"49\": 2}, \"105\": {\"105\": 244, \"106\": 4, \"88\": 4, \"27\": 2}, \"103\": {\"103\": 44, \"126\": 2, \"30\": 2}, \"3\": {\"88\": 2, \"3\": 322, \"21\": 2, \"27\": 4, \"113\": 2, \"106\": 8, \"108\": 2}, \"5\": {\"5\": 336, \"108\": 2, \"27\": 2, \"10\": 2, \"88\": 2}, \"124\": {\"124\": 302, \"31\": 2}, \"107\": {\"107\": 356, \"21\": 2, \"6\": 2, \"106\": 2}, \"109\": {\"109\": 294, \"27\": 2}, \"111\": {\"111\": 348, \"106\": 4, \"27\": 6}, \"104\": {\"104\": 46}, \"101\": {\"101\": 326, \"0\": 6, \"122\": 2}, \"0\": {\"0\": 288, \"106\": 6, \"27\": 2, \"21\": 2}, \"26\": {\"26\": 320, \"70\": 2}, \"110\": {\"110\": 312, \"11\": 2, \"27\": 2, \"90\": 2, \"3\": 2, \"1\": 2, \"122\": 2, \"108\": 2, \"106\": 2}, \"28\": {\"28\": 52}, \"51\": {\"51\": 20, \"27\": 6, \"53\": 2, \"94\": 2, \"87\": 2, \"106\": 2, \"88\": 2, \"70\": 2, \"39\": 2}, \"70\": {\"70\": 100, \"108\": 166, \"88\": 32, \"109\": 2, \"125\": 2, \"106\": 4, \"21\": 2, \"87\": 2}, \"16\": {\"16\": 312, \"98\": 2, \"27\": 2, \"106\": 2}, \"99\": {\"99\": 102}, \"17\": {\"17\": 52}, \"88\": {\"88\": 310, \"70\": 8, \"108\": 14, \"21\": 2}, \"72\": {\"72\": 80}, \"95\": {\"106\": 2, \"95\": 82, \"127\": 2}, \"15\": {\"15\": 302, \"87\": 2, \"36\": 16, \"27\": 2, \"94\": 2, \"106\": 2, \"122\": 2}, \"11\": {\"11\": 386, \"106\": 4, \"93\": 2}, \"45\": {\"45\": 44}, \"7\": {\"7\": 304, \"21\": 2, \"106\": 2, \"88\": 4, \"27\": 2, \"122\": 2}, \"71\": {\"106\": 2, \"71\": 248, \"12\": 4, \"94\": 2, \"27\": 2, \"21\": 2}, \"87\": {\"87\": 324, \"43\": 8, \"93\": 6}, \"13\": {\"13\": 44}, \"41\": {\"41\": 48}, \"38\": {\"38\": 42}, \"36\": {\"36\": 316, \"113\": 4, \"106\": 2, \"70\": 2, \"27\": 4}, \"6\": {\"6\": 62, \"106\": 2, \"90\": 2}, \"43\": {\"43\": 258, \"87\": 32, \"70\": 4, \"122\": 2, \"27\": 2, \"106\": 2, \"108\": 4, \"93\": 2}, \"24\": {\"88\": 26, \"27\": 74, \"24\": 158, \"36\": 38, \"23\": 2, \"2\": 2, \"106\": 2}, \"62\": {\"62\": 142, \"78\": 2, \"106\": 4, \"83\": 2, \"88\": 2, \"21\": 2, \"27\": 2}, \"49\": {\"49\": 76, \"106\": 2, \"117\": 2}, \"81\": {\"81\": 88, \"88\": 2, \"106\": 4, \"27\": 2}, \"93\": {\"93\": 412, \"125\": 2, \"88\": 2, \"27\": 2}, \"33\": {\"33\": 380, \"109\": 2, \"21\": 2, \"87\": 2, \"61\": 2, \"106\": 2}, \"122\": {\"122\": 198, \"88\": 4, \"8\": 2, \"21\": 2, \"106\": 2, \"27\": 4}, \"4\": {\"4\": 248, \"106\": 8, \"27\": 4}, \"31\": {\"31\": 46, \"30\": 2}, \"73\": {\"73\": 48, \"27\": 2, \"107\": 2, \"129\": 2, \"123\": 2, \"19\": 2, \"53\": 2}, \"55\": {\"55\": 44}, \"39\": {\"39\": 236, \"106\": 4, \"88\": 8, \"21\": 2, \"108\": 4, \"27\": 2}, \"94\": {\"94\": 212, \"106\": 2, \"39\": 2, \"16\": 2, \"88\": 2}, \"69\": {\"69\": 324, \"106\": 2, \"87\": 2}, \"27\": {\"27\": 240, \"106\": 2, \"108\": 6, \"21\": 4, \"8\": 2}, \"129\": {\"129\": 74}, \"86\": {\"86\": 72}, \"60\": {\"60\": 74, \"23\": 4, \"110\": 2}, \"2\": {\"2\": 76}, \"10\": {\"88\": 86, \"27\": 42, \"10\": 130, \"24\": 26, \"61\": 2, \"30\": 8, \"108\": 6, \"106\": 4, \"21\": 2, \"70\": 4}, \"1\": {\"1\": 258, \"106\": 4, \"27\": 4, \"95\": 2, \"36\": 2}, \"118\": {\"118\": 260, \"71\": 2, \"106\": 8, \"27\": 4, \"21\": 2, \"23\": 2, \"78\": 2}, \"128\": {\"128\": 62, \"99\": 2, \"106\": 2}, \"91\": {\"91\": 62, \"103\": 2}, \"12\": {\"12\": 246, \"10\": 2, \"106\": 2, \"110\": 2, \"21\": 2, \"122\": 2}, \"47\": {\"47\": 36, \"61\": 2}, \"53\": {\"53\": 48}, \"100\": {\"100\": 48, \"13\": 2}, \"35\": {\"35\": 32, \"106\": 2}, \"121\": {\"121\": 82}, \"46\": {\"46\": 46, \"13\": 2, \"125\": 2}, \"8\": {\"8\": 358, \"106\": 4, \"27\": 4, \"98\": 2}, \"63\": {\"63\": 46, \"90\": 2}, \"48\": {\"48\": 44, \"99\": 2}, \"115\": {\"115\": 38, \"88\": 2}, \"82\": {\"27\": 2, \"82\": 82, \"106\": 2}, \"25\": {\"25\": 48}, \"116\": {\"116\": 74}, \"32\": {\"32\": 70, \"3\": 2}, \"119\": {\"119\": 40, \"42\": 2, \"20\": 2}, \"14\": {\"14\": 280, \"101\": 2}, \"22\": {\"22\": 46}, \"66\": {\"66\": 46}, \"83\": {\"83\": 64, \"49\": 4, \"106\": 2, \"88\": 4}, \"96\": {\"110\": 8, \"96\": 48, \"21\": 2}, \"120\": {\"120\": 50, \"79\": 2}, \"89\": {\"89\": 80, \"88\": 2}, \"23\": {\"23\": 26, \"78\": 4, \"122\": 2, \"3\": 2, \"71\": 2, \"27\": 2, \"108\": 2}, \"79\": {\"79\": 44}, \"61\": {\"61\": 44, \"33\": 2}, \"92\": {\"92\": 72}, \"30\": {\"8\": 2, \"30\": 174, \"106\": 6, \"21\": 2, \"107\": 2, \"27\": 4, \"122\": 2}, \"78\": {\"78\": 76, \"113\": 2, \"27\": 8, \"21\": 2, \"106\": 2, \"70\": 2, \"122\": 2, \"108\": 2}, \"44\": {\"44\": 164, \"61\": 2, \"23\": 2}, \"34\": {\"34\": 80, \"69\": 2}, \"64\": {\"64\": 40, \"120\": 2, \"27\": 2, \"39\": 2}, \"52\": {\"52\": 52}, \"59\": {\"59\": 38}, \"80\": {\"80\": 40}, \"126\": {\"126\": 314, \"106\": 2, \"21\": 2}, \"65\": {\"65\": 38}, \"75\": {\"75\": 40}, \"42\": {\"42\": 72, \"91\": 2, \"99\": 2}, \"19\": {\"19\": 72, \"66\": 2}, \"20\": {\"20\": 48}, \"97\": {\"36\": 8, \"97\": 20, \"27\": 12, \"88\": 10, \"63\": 2, \"24\": 2, \"117\": 2}, \"9\": {\"9\": 72}, \"50\": {\"50\": 48}, \"123\": {\"123\": 44}, \"74\": {\"74\": 38, \"72\": 2, \"125\": 2, \"123\": 2}, \"21\": {\"21\": 92, \"106\": 8, \"88\": 4, \"27\": 2}, \"112\": {\"110\": 2, \"112\": 46}, \"37\": {\"37\": 46, \"42\": 2}, \"58\": {\"58\": 42, \"106\": 4}, \"68\": {\"68\": 46}, \"54\": {\"54\": 46}, \"77\": {\"77\": 36}, \"85\": {\"85\": 76}, \"56\": {\"56\": 30, \"28\": 2, \"124\": 2}, \"76\": {\"76\": 44}}, \"3\": {\"16\": {\"16\": 288, \"88\": 4, \"106\": 2, \"21\": 2, \"8\": 2}, \"95\": {\"95\": 78, \"56\": 2}, \"88\": {\"88\": 282}, \"122\": {\"122\": 144, \"88\": 2, \"124\": 2, \"23\": 2, \"27\": 2, \"106\": 2}, \"117\": {\"117\": 280, \"27\": 2, \"96\": 2, \"106\": 2}, \"70\": {\"70\": 118, \"108\": 42, \"88\": 20, \"27\": 6, \"21\": 2}, \"43\": {\"43\": 126, \"11\": 2, \"87\": 4, \"27\": 4, \"21\": 2, \"122\": 2}, \"17\": {\"17\": 30, \"106\": 2, \"69\": 4, \"27\": 6}, \"110\": {\"110\": 224, \"70\": 2, \"8\": 6, \"27\": 2, \"21\": 2}, \"93\": {\"93\": 412, \"90\": 2}, \"98\": {\"98\": 328}, \"90\": {\"90\": 462, \"2\": 2, \"125\": 2, \"34\": 2}, \"111\": {\"111\": 326, \"21\": 2, \"108\": 2, \"20\": 2, \"28\": 2}, \"18\": {\"18\": 322, \"27\": 6, \"90\": 2}, \"1\": {\"1\": 274, \"21\": 2}, \"9\": {\"9\": 78, \"27\": 2}, \"112\": {\"112\": 46, \"37\": 2}, \"109\": {\"109\": 318, \"106\": 2, \"93\": 2}, \"10\": {\"10\": 316, \"6\": 2, \"27\": 2, \"106\": 2, \"122\": 2}, \"23\": {\"23\": 86}, \"38\": {\"38\": 42, \"23\": 2}, \"75\": {\"75\": 44}, \"66\": {\"66\": 48}, \"108\": {\"108\": 346, \"27\": 8, \"21\": 4}, \"69\": {\"69\": 204, \"27\": 6, \"88\": 2, \"54\": 2, \"21\": 2, \"108\": 2}, \"67\": {\"67\": 42, \"108\": 2}, \"106\": {\"106\": 258}, \"84\": {\"84\": 262, \"95\": 2, \"106\": 2, \"27\": 4}, \"55\": {\"55\": 48}, \"64\": {\"64\": 48, \"13\": 2}, \"101\": {\"101\": 122, \"21\": 4, \"99\": 2, \"106\": 2, \"27\": 2, \"127\": 2, \"105\": 2}, \"3\": {\"3\": 294, \"108\": 4}, \"36\": {\"36\": 312, \"27\": 16}, \"25\": {\"25\": 40, \"88\": 2, \"99\": 2}, \"11\": {\"11\": 382}, \"105\": {\"105\": 310, \"88\": 4}, \"96\": {\"96\": 54}, \"44\": {\"44\": 182}, \"52\": {\"52\": 44, \"87\": 2, \"23\": 2}, \"26\": {\"26\": 332, \"27\": 2}, \"40\": {\"40\": 320, \"108\": 2, \"84\": 2}, \"72\": {\"72\": 74, \"29\": 2}, \"12\": {\"12\": 260, \"106\": 2}, \"114\": {\"114\": 320, \"124\": 2, \"27\": 2, \"109\": 2, \"93\": 2}, \"124\": {\"124\": 312}, \"33\": {\"33\": 388, \"98\": 2, \"61\": 2}, \"4\": {\"4\": 244, \"27\": 2}, \"126\": {\"126\": 314, \"88\": 2, \"106\": 2}, \"120\": {\"120\": 52}, \"104\": {\"104\": 42, \"49\": 2}, \"57\": {\"57\": 50, \"50\": 2}, \"62\": {\"62\": 310, \"8\": 2, \"126\": 2, \"108\": 2, \"21\": 2}, \"100\": {\"100\": 48}, \"116\": {\"116\": 76}, \"15\": {\"15\": 254, \"21\": 6, \"27\": 2}, \"86\": {\"86\": 76, \"4\": 2}, \"5\": {\"5\": 272, \"78\": 6, \"88\": 2, \"106\": 2, \"27\": 2}, \"74\": {\"74\": 44}, \"77\": {\"77\": 48}, \"63\": {\"63\": 40, \"3\": 2}, \"30\": {\"30\": 212, \"90\": 2, \"61\": 2}, \"125\": {\"125\": 318, \"37\": 2}, \"27\": {\"27\": 224, \"36\": 14, \"106\": 2, \"21\": 4}, \"129\": {\"129\": 84}, \"87\": {\"87\": 296, \"78\": 2, \"43\": 2, \"106\": 6}, \"2\": {\"2\": 74}, \"46\": {\"46\": 46}, \"127\": {\"127\": 310, \"88\": 2, \"106\": 4, \"41\": 2, \"11\": 2, \"108\": 2}, \"51\": {\"51\": 44, \"15\": 2, \"23\": 2}, \"48\": {\"48\": 42, \"88\": 2}, \"50\": {\"50\": 48}, \"7\": {\"7\": 282, \"27\": 2, \"101\": 2}, \"14\": {\"14\": 200, \"61\": 2, \"88\": 2, \"106\": 2}, \"119\": {\"119\": 48}, \"56\": {\"56\": 34}, \"8\": {\"8\": 340, \"106\": 2, \"2\": 2}, \"107\": {\"107\": 362, \"124\": 4}, \"94\": {\"94\": 212}, \"21\": {\"27\": 4, \"21\": 96, \"78\": 16, \"88\": 4, \"106\": 4, \"70\": 4}, \"28\": {\"28\": 48}, \"19\": {\"19\": 80}, \"22\": {\"22\": 42, \"88\": 2, \"87\": 2, \"96\": 2}, \"113\": {\"113\": 292, \"27\": 6, \"106\": 2}, \"97\": {\"97\": 54, \"107\": 2}, \"71\": {\"71\": 166, \"27\": 2, \"123\": 2, \"78\": 2}, \"99\": {\"99\": 92, \"70\": 2, \"13\": 2, \"27\": 2}, \"39\": {\"39\": 236, \"88\": 18, \"126\": 8, \"63\": 2, \"27\": 2, \"70\": 2, \"21\": 2, \"78\": 2}, \"102\": {\"102\": 314, \"61\": 2, \"124\": 2}, \"0\": {\"0\": 284, \"21\": 2, \"27\": 4}, \"79\": {\"79\": 38}, \"47\": {\"47\": 32}, \"85\": {\"85\": 92}, \"81\": {\"81\": 86}, \"76\": {\"76\": 42, \"61\": 2}, \"82\": {\"82\": 72, \"18\": 2}, \"49\": {\"49\": 60, \"97\": 2, \"87\": 2}, \"32\": {\"32\": 80, \"97\": 2}, \"123\": {\"123\": 40, \"90\": 2}, \"68\": {\"68\": 40}, \"92\": {\"92\": 84}, \"54\": {\"54\": 46, \"90\": 2}, \"53\": {\"53\": 44, \"1\": 2, \"46\": 2, \"88\": 2}, \"73\": {\"73\": 98, \"111\": 2, \"125\": 2, \"74\": 2}, \"20\": {\"20\": 46}, \"118\": {\"118\": 252, \"27\": 2}, \"115\": {\"115\": 42}, \"6\": {\"6\": 84, \"123\": 2}, \"91\": {\"91\": 64, \"13\": 2}, \"41\": {\"41\": 44}, \"83\": {\"83\": 66, \"21\": 2}, \"121\": {\"121\": 74, \"106\": 2, \"109\": 2, \"96\": 2}, \"89\": {\"89\": 78}, \"61\": {\"61\": 48}, \"78\": {\"70\": 2, \"78\": 40, \"27\": 4, \"106\": 2}, \"103\": {\"103\": 48}, \"80\": {\"80\": 40}, \"24\": {\"36\": 54, \"24\": 26, \"27\": 38, \"88\": 2, \"0\": 2, \"21\": 2, \"43\": 2}, \"42\": {\"42\": 70, \"78\": 2, \"6\": 2}, \"29\": {\"29\": 82, \"71\": 2}, \"35\": {\"35\": 34}, \"37\": {\"37\": 46, \"56\": 2}, \"128\": {\"128\": 76, \"96\": 2, \"102\": 2}, \"58\": {\"58\": 46}, \"34\": {\"34\": 80}, \"60\": {\"60\": 74}, \"13\": {\"13\": 32, \"88\": 2, \"122\": 2, \"101\": 2, \"106\": 2}, \"59\": {\"59\": 34}, \"45\": {\"45\": 44}, \"65\": {\"65\": 36}, \"31\": {\"31\": 48, \"108\": 2}}, \"2\": {\"90\": {\"90\": 472, \"0\": 2, \"98\": 2}, \"72\": {\"72\": 72, \"27\": 2, \"108\": 2, \"106\": 2}, \"121\": {\"121\": 88, \"88\": 2}, \"106\": {\"106\": 296, \"8\": 2, \"88\": 4, \"108\": 2}, \"0\": {\"51\": 2, \"0\": 276, \"101\": 6, \"99\": 2, \"63\": 2, \"108\": 2, \"70\": 2, \"88\": 2, \"106\": 2}, \"33\": {\"33\": 368, \"27\": 2}, \"10\": {\"10\": 150, \"106\": 4, \"88\": 2}, \"55\": {\"55\": 48}, \"108\": {\"108\": 352}, \"88\": {\"88\": 268, \"108\": 38, \"27\": 2, \"106\": 4}, \"24\": {\"88\": 124, \"24\": 108, \"27\": 34, \"106\": 8, \"87\": 2, \"21\": 4}, \"69\": {\"69\": 340, \"27\": 6, \"106\": 6, \"88\": 2, \"26\": 2}, \"101\": {\"101\": 396, \"121\": 2, \"0\": 2}, \"29\": {\"29\": 88}, \"126\": {\"126\": 266, \"108\": 22, \"24\": 6, \"27\": 4, \"3\": 2}, \"62\": {\"62\": 332, \"27\": 8, \"88\": 6, \"106\": 4}, \"14\": {\"88\": 10, \"14\": 108, \"21\": 2, \"106\": 2, \"27\": 2}, \"42\": {\"42\": 72}, \"114\": {\"106\": 4, \"114\": 284, \"27\": 6}, \"105\": {\"105\": 322, \"88\": 2, \"87\": 2, \"106\": 2, \"27\": 2}, \"44\": {\"44\": 256, \"88\": 2}, \"45\": {\"45\": 40, \"1\": 2, \"110\": 2, \"101\": 2, \"88\": 2}, \"18\": {\"18\": 310, \"106\": 6, \"88\": 4, \"27\": 2}, \"5\": {\"5\": 278, \"106\": 2, \"87\": 2, \"88\": 2}, \"7\": {\"7\": 336}, \"84\": {\"84\": 230, \"88\": 6}, \"107\": {\"107\": 156, \"3\": 2, \"106\": 2, \"88\": 2, \"16\": 2, \"63\": 2, \"82\": 2}, \"118\": {\"118\": 166, \"88\": 4, \"27\": 2}, \"48\": {\"48\": 48, \"2\": 2}, \"98\": {\"98\": 302, \"96\": 2, \"124\": 2}, \"91\": {\"91\": 68, \"63\": 2}, \"89\": {\"89\": 94, \"21\": 2, \"27\": 2}, \"2\": {\"2\": 80}, \"43\": {\"43\": 294, \"87\": 12, \"11\": 2, \"21\": 2, \"88\": 2}, \"70\": {\"70\": 284, \"108\": 4, \"18\": 2, \"78\": 4, \"87\": 2, \"106\": 10, \"101\": 2, \"27\": 2, \"88\": 2}, \"36\": {\"36\": 306, \"88\": 4, \"27\": 6, \"106\": 6, \"21\": 2}, \"80\": {\"80\": 38, \"67\": 2}, \"9\": {\"9\": 86, \"101\": 2}, \"119\": {\"119\": 52, \"64\": 2}, \"81\": {\"81\": 64, \"120\": 2}, \"76\": {\"76\": 48}, \"102\": {\"102\": 312, \"88\": 2}, \"66\": {\"66\": 44, \"86\": 2, \"27\": 2, \"9\": 2}, \"120\": {\"120\": 44, \"44\": 4, \"106\": 2}, \"93\": {\"93\": 414, \"27\": 2, \"16\": 2}, \"27\": {\"27\": 116, \"36\": 44, \"106\": 10, \"74\": 2, \"21\": 2, \"1\": 2, \"88\": 2}, \"95\": {\"95\": 86, \"40\": 4, \"82\": 2}, \"25\": {\"25\": 40, \"88\": 2}, \"61\": {\"61\": 48, \"27\": 2}, \"8\": {\"8\": 318, \"70\": 2, \"27\": 2}, \"12\": {\"12\": 214, \"88\": 2, \"27\": 2, \"106\": 4}, \"71\": {\"71\": 242, \"36\": 2, \"27\": 8, \"127\": 2, \"10\": 2, \"88\": 2}, \"122\": {\"122\": 342, \"70\": 2, \"11\": 2, \"8\": 4, \"93\": 2, \"27\": 2}, \"26\": {\"26\": 344, \"106\": 4, \"88\": 6, \"27\": 4}, \"16\": {\"16\": 294, \"27\": 6, \"93\": 2, \"88\": 2, \"106\": 4, \"21\": 2}, \"65\": {\"65\": 50, \"106\": 4}, \"94\": {\"94\": 142, \"106\": 6, \"88\": 4, \"27\": 6, \"36\": 2, \"80\": 2}, \"15\": {\"15\": 292, \"21\": 2, \"87\": 2, \"27\": 4, \"94\": 2}, \"40\": {\"40\": 334, \"27\": 12, \"88\": 6, \"106\": 4}, \"111\": {\"111\": 358, \"42\": 2}, \"13\": {\"13\": 42, \"88\": 2, \"106\": 2}, \"86\": {\"86\": 84, \"6\": 2}, \"28\": {\"28\": 46, \"106\": 2, \"99\": 2, \"27\": 2, \"88\": 2}, \"37\": {\"37\": 46, \"27\": 2}, \"78\": {\"78\": 116, \"106\": 4, \"70\": 2, \"27\": 2, \"62\": 2}, \"87\": {\"87\": 254, \"88\": 14, \"11\": 12, \"106\": 2, \"43\": 2, \"27\": 2}, \"11\": {\"11\": 198, \"88\": 2, \"106\": 4, \"109\": 2}, \"110\": {\"110\": 102, \"21\": 2, \"106\": 2, \"49\": 2}, \"31\": {\"31\": 52}, \"117\": {\"117\": 298, \"21\": 2, \"3\": 2}, \"125\": {\"125\": 410, \"23\": 2}, \"39\": {\"39\": 248, \"78\": 16, \"109\": 12, \"87\": 2, \"106\": 2, \"88\": 4, \"70\": 2, \"26\": 2}, \"60\": {\"60\": 78}, \"109\": {\"109\": 232, \"87\": 2, \"21\": 2, \"108\": 2, \"61\": 2, \"88\": 4, \"27\": 2, \"70\": 4}, \"21\": {\"21\": 94, \"78\": 16, \"88\": 4, \"87\": 2, \"27\": 6, \"106\": 2}, \"30\": {\"30\": 270, \"106\": 4, \"107\": 2, \"88\": 4, \"27\": 2}, \"73\": {\"73\": 68, \"84\": 2, \"86\": 2, \"107\": 2}, \"128\": {\"128\": 64}, \"115\": {\"115\": 38}, \"124\": {\"124\": 314}, \"1\": {\"1\": 312, \"27\": 2}, \"77\": {\"77\": 46, \"106\": 2}, \"51\": {\"51\": 40, \"88\": 6, \"10\": 2, \"8\": 2}, \"41\": {\"41\": 50}, \"85\": {\"85\": 86}, \"112\": {\"112\": 48}, \"127\": {\"127\": 304, \"106\": 2, \"2\": 2, \"122\": 2, \"27\": 2}, \"6\": {\"6\": 84}, \"54\": {\"54\": 54}, \"74\": {\"74\": 48}, \"116\": {\"116\": 70, \"120\": 2, \"67\": 2}, \"83\": {\"83\": 98, \"2\": 2}, \"63\": {\"63\": 48, \"31\": 2, \"90\": 2}, \"64\": {\"64\": 46, \"88\": 2}, \"82\": {\"82\": 88, \"66\": 2}, \"32\": {\"32\": 90, \"97\": 2}, \"58\": {\"58\": 52, \"106\": 2}, \"96\": {\"3\": 2, \"96\": 52, \"6\": 2}, \"46\": {\"46\": 44, \"106\": 2, \"39\": 2}, \"35\": {\"35\": 32, \"101\": 2, \"61\": 2}, \"3\": {\"21\": 2, \"3\": 330, \"44\": 4, \"27\": 2, \"106\": 2, \"24\": 2, \"88\": 2, \"125\": 2}, \"23\": {\"23\": 112, \"113\": 4, \"88\": 2}, \"22\": {\"22\": 50}, \"97\": {\"97\": 54, \"8\": 2}, \"104\": {\"104\": 56}, \"53\": {\"53\": 48}, \"123\": {\"123\": 46}, \"113\": {\"113\": 186, \"27\": 2}, \"17\": {\"88\": 2, \"17\": 40, \"87\": 2, \"27\": 2, \"23\": 2}, \"52\": {\"52\": 52}, \"19\": {\"19\": 74, \"66\": 2, \"127\": 2}, \"59\": {\"59\": 36, \"106\": 2, \"27\": 2}, \"50\": {\"50\": 44}, \"103\": {\"103\": 44, \"58\": 2, \"95\": 2}, \"4\": {\"4\": 214, \"88\": 4, \"21\": 2, \"106\": 2, \"109\": 2, \"12\": 2, \"87\": 2}, \"20\": {\"20\": 46, \"106\": 2}, \"68\": {\"21\": 2, \"68\": 44}, \"99\": {\"99\": 82}, \"57\": {\"57\": 48, \"88\": 2}, \"47\": {\"47\": 38}, \"67\": {\"67\": 46, \"121\": 2}, \"75\": {\"75\": 46, \"108\": 2}, \"56\": {\"56\": 34}, \"129\": {\"129\": 78, \"43\": 2}, \"100\": {\"100\": 46, \"20\": 2}, \"92\": {\"92\": 66, \"3\": 2, \"102\": 2, \"106\": 2}, \"79\": {\"79\": 40}, \"38\": {\"38\": 44}, \"34\": {\"34\": 84}, \"49\": {\"2\": 2, \"49\": 60}}, \"1\": {\"92\": {\"92\": 78}, \"49\": {\"49\": 46, \"60\": 4}, \"125\": {\"125\": 436, \"2\": 2}, \"33\": {\"33\": 390, \"20\": 2, \"88\": 2}, \"102\": {\"102\": 302, \"87\": 2, \"27\": 2, \"21\": 2}, \"39\": {\"39\": 252, \"88\": 6, \"108\": 2, \"126\": 4}, \"43\": {\"43\": 312, \"78\": 2, \"122\": 4, \"93\": 4, \"87\": 2}, \"12\": {\"12\": 258, \"88\": 4, \"108\": 2}, \"40\": {\"40\": 358, \"105\": 2}, \"91\": {\"91\": 78}, \"107\": {\"107\": 310}, \"101\": {\"101\": 314, \"2\": 2}, \"114\": {\"114\": 358, \"27\": 2}, \"75\": {\"75\": 44}, \"89\": {\"89\": 92}, \"62\": {\"62\": 302}, \"41\": {\"41\": 48}, \"98\": {\"61\": 2, \"98\": 266, \"78\": 2, \"125\": 2}, \"94\": {\"94\": 232, \"8\": 2, \"36\": 2}, \"86\": {\"86\": 92, \"2\": 2, \"27\": 2}, \"44\": {\"44\": 190}, \"126\": {\"126\": 300, \"108\": 32, \"88\": 2, \"27\": 4, \"106\": 2}, \"124\": {\"124\": 324, \"20\": 2}, \"105\": {\"105\": 210, \"21\": 2, \"108\": 2, \"27\": 2}, \"72\": {\"72\": 80}, \"69\": {\"69\": 268, \"122\": 2, \"54\": 2, \"88\": 2, \"62\": 2}, \"5\": {\"5\": 224, \"111\": 2, \"94\": 2}, \"111\": {\"111\": 304}, \"95\": {\"95\": 88, \"39\": 2, \"72\": 2, \"26\": 2}, \"90\": {\"90\": 460, \"2\": 2, \"46\": 2}, \"119\": {\"119\": 46, \"88\": 2}, \"6\": {\"6\": 78, \"88\": 2}, \"100\": {\"100\": 42, \"64\": 2, \"83\": 2}, \"122\": {\"122\": 216, \"88\": 2, \"27\": 4, \"106\": 2}, \"123\": {\"123\": 46}, \"129\": {\"43\": 2, \"129\": 74, \"106\": 2}, \"18\": {\"18\": 314}, \"118\": {\"118\": 206, \"109\": 2, \"27\": 2}, \"24\": {\"24\": 98, \"27\": 98, \"108\": 16, \"36\": 10, \"88\": 8, \"21\": 2}, \"88\": {\"88\": 298, \"27\": 36, \"108\": 12, \"36\": 2, \"91\": 2}, \"108\": {\"27\": 12, \"108\": 296, \"83\": 2, \"8\": 2}, \"10\": {\"10\": 296, \"21\": 2, \"88\": 4, \"78\": 2}, \"77\": {\"77\": 40}, \"70\": {\"88\": 62, \"70\": 220, \"108\": 38, \"27\": 2}, \"117\": {\"117\": 358, \"27\": 2}, \"11\": {\"11\": 342, \"30\": 2, \"43\": 2}, \"106\": {\"106\": 340, \"27\": 2, \"88\": 2, \"71\": 2, \"12\": 2}, \"87\": {\"87\": 262, \"93\": 2, \"21\": 2, \"43\": 4, \"88\": 2}, \"36\": {\"36\": 340, \"88\": 2}, \"8\": {\"8\": 362, \"27\": 4}, \"20\": {\"20\": 46, \"69\": 2}, \"7\": {\"7\": 366}, \"84\": {\"84\": 340}, \"0\": {\"0\": 208, \"27\": 2, \"70\": 2}, \"15\": {\"15\": 256, \"106\": 2, \"36\": 2, \"27\": 2, \"88\": 4}, \"113\": {\"113\": 306, \"88\": 2, \"73\": 2}, \"47\": {\"47\": 34}, \"21\": {\"78\": 80, \"21\": 8, \"30\": 2, \"88\": 6, \"70\": 6}, \"109\": {\"109\": 198, \"108\": 84, \"70\": 10, \"88\": 18, \"126\": 4, \"24\": 2}, \"58\": {\"58\": 36, \"59\": 2}, \"110\": {\"110\": 320, \"88\": 4, \"27\": 4}, \"66\": {\"66\": 46, \"1\": 2}, \"26\": {\"26\": 330, \"21\": 2, \"88\": 6, \"27\": 4, \"106\": 2}, \"61\": {\"61\": 38}, \"93\": {\"93\": 398, \"70\": 2, \"108\": 2}, \"120\": {\"120\": 48, \"88\": 2}, \"103\": {\"103\": 42, \"27\": 2}, \"83\": {\"83\": 74, \"106\": 2, \"88\": 2}, \"30\": {\"30\": 136}, \"42\": {\"42\": 68, \"94\": 2, \"91\": 2}, \"52\": {\"52\": 52, \"6\": 2}, \"1\": {\"1\": 340, \"27\": 2}, \"34\": {\"34\": 80}, \"4\": {\"4\": 250, \"106\": 2, \"27\": 2}, \"28\": {\"28\": 48, \"116\": 2}, \"48\": {\"48\": 36}, \"73\": {\"73\": 56, \"93\": 2}, \"74\": {\"74\": 44}, \"127\": {\"127\": 262, \"97\": 4, \"27\": 2, \"71\": 2, \"106\": 2}, \"76\": {\"76\": 48}, \"81\": {\"81\": 76}, \"19\": {\"19\": 74, \"128\": 2}, \"71\": {\"71\": 262, \"8\": 2, \"108\": 2, \"21\": 2, \"88\": 2, \"106\": 2}, \"78\": {\"78\": 42, \"93\": 2, \"106\": 2, \"27\": 2}, \"2\": {\"2\": 80, \"97\": 2}, \"22\": {\"22\": 44, \"30\": 2, \"78\": 2}, \"14\": {\"14\": 244}, \"3\": {\"3\": 212, \"70\": 2, \"44\": 2, \"109\": 2, \"27\": 4}, \"38\": {\"38\": 40}, \"16\": {\"16\": 272, \"88\": 2, \"27\": 2}, \"27\": {\"27\": 228, \"36\": 8, \"21\": 2}, \"51\": {\"51\": 40, \"10\": 2, \"98\": 2}, \"128\": {\"128\": 68}, \"96\": {\"96\": 52, \"92\": 2, \"60\": 2}, \"80\": {\"80\": 40, \"2\": 2, \"49\": 2}, \"68\": {\"68\": 46}, \"104\": {\"104\": 46}, \"56\": {\"56\": 36}, \"60\": {\"60\": 40, \"110\": 4, \"27\": 2}, \"32\": {\"32\": 80, \"22\": 2}, \"79\": {\"79\": 36}, \"116\": {\"116\": 88}, \"37\": {\"37\": 40, \"127\": 2, \"23\": 2}, \"65\": {\"65\": 34, \"89\": 2, \"101\": 2}, \"121\": {\"121\": 82}, \"112\": {\"112\": 46}, \"115\": {\"115\": 36}, \"82\": {\"82\": 96}, \"53\": {\"53\": 50}, \"31\": {\"31\": 46}, \"50\": {\"50\": 40, \"122\": 2}, \"45\": {\"45\": 26, \"10\": 2, \"27\": 2}, \"99\": {\"99\": 64}, \"23\": {\"23\": 58, \"27\": 2}, \"25\": {\"25\": 38, \"27\": 2, \"42\": 2}, \"67\": {\"67\": 44}, \"97\": {\"27\": 14, \"108\": 4, \"97\": 28, \"36\": 8}, \"9\": {\"9\": 78, \"27\": 2}, \"29\": {\"29\": 72, \"53\": 2}, \"85\": {\"85\": 84}, \"17\": {\"116\": 2, \"17\": 42}, \"13\": {\"13\": 44, \"6\": 2}, \"55\": {\"55\": 34}, \"64\": {\"64\": 46}, \"57\": {\"57\": 36, \"50\": 2}, \"35\": {\"35\": 28, \"101\": 6}, \"59\": {\"59\": 34, \"2\": 2, \"22\": 2}, \"46\": {\"46\": 34, \"88\": 2}, \"63\": {\"63\": 42, \"123\": 2}, \"54\": {\"54\": 46}}}, \"per_domain_accuracy\": {\"4\": {\"accuracy\": 0.9358366398916094, \"source?\": true}, \"3\": {\"accuracy\": 0.965439672801636, \"source?\": true}, \"2\": {\"accuracy\": 0.9485482915267628, \"source?\": true}, \"1\": {\"accuracy\": 0.9537412276366511, \"source?\": true}}}, \"history\": {\"epoch_indices\": [1, 2, 3, 4, 5, 6, 7, 8, 9, 10, 11, 12], \"train_label_loss\": [1.3382067515730778, 0.3223592654787422, 0.3076607964434198, 0.20746621011458513, 0.17440662360633644, 0.15144384854383128, 0.14347907516883687, 0.13143409024218777, 0.1216293508385291, 0.11501356805728256, 0.10826570481915805, 0.1016649286764245], \"source_val_label_loss\": [0.5378843064926848, 1.5731793777852119, 0.566422388051884, 0.3487382981973358, 0.2358312878899182, 0.34006866058216817, 0.3029553738623103, 0.22068880096997454, 0.4069779631504907, 0.2651036198581038, 0.25905385263606057, 0.3296783450177482], \"target_val_label_loss\": [0.5374037913883789, 1.5723867308867128, 0.566483286928527, 0.3481916630098337, 0.23574227897473907, 0.34074326649402514, 0.30289193242788315, 0.22090575202733656, 0.40920448161755935, 0.2644372586915387, 0.2590638708199457, 0.33031375590664674], \"source_val_acc_label\": [0.8765734958866092, 0.6777678659926653, 0.883883437407077, 0.925636832193478, 0.9475666567548816, 0.9171870353850728, 0.9251412429378532, 0.9506888690653187, 0.9208791753394786, 0.9449895926256319, 0.9481613638616315, 0.9373079591634453], \"target_val_acc_label\": [0.8765734958866092, 0.6777678659926653, 0.883883437407077, 0.925636832193478, 0.9475666567548816, 0.9171870353850728, 0.9251412429378532, 0.9506888690653187, 0.9208791753394786, 0.9449895926256319, 0.9481613638616315, 0.9373079591634453]}, \"dataset_metrics\": {\"source\": {\"train\": {\"n_unique_x\": 189189, \"n_unique_y\": 130, \"n_batch/episode\": 1479}, \"val\": {\"n_unique_x\": 40356, \"n_unique_y\": 130, \"n_batch/episode\": 316}, \"test\": {\"n_unique_x\": 41071, \"n_unique_y\": 130, \"n_batch/episode\": 321}}, \"target\": {\"train\": {\"n_unique_x\": 189189, \"n_unique_y\": 130, \"n_batch/episode\": 1479}, \"val\": {\"n_unique_x\": 40356, \"n_unique_y\": 130, \"n_batch/episode\": 316}, \"test\": {\"n_unique_x\": 41071, \"n_unique_y\": 130, \"n_batch/episode\": 321}}}}'"
      ]
     },
     "execution_count": 20,
     "metadata": {},
     "output_type": "execute_result"
    }
   ],
   "source": [
    "json.dumps(experiment)"
   ]
  }
 ],
 "metadata": {
  "celltoolbar": "Tags",
  "kernelspec": {
   "display_name": "Python 3 (ipykernel)",
   "language": "python",
   "name": "python3"
  },
  "language_info": {
   "codemirror_mode": {
    "name": "ipython",
    "version": 3
   },
   "file_extension": ".py",
   "mimetype": "text/x-python",
   "name": "python",
   "nbconvert_exporter": "python",
   "pygments_lexer": "ipython3",
   "version": "3.8.12"
  },
  "papermill": {
   "default_parameters": {},
   "duration": 262.193516,
   "end_time": "2022-03-26T11:35:51.833367",
   "environment_variables": {},
   "exception": null,
   "input_path": "/root/csc500-main/csc500-notebooks/templates/cnn_template.ipynb",
   "output_path": "trial.ipynb",
   "parameters": {
    "parameters": {
     "BEST_MODEL_PATH": "./best_model.pth",
     "NUM_LOGS_PER_EPOCH": 10,
     "batch_size": 128,
     "criteria_for_best": "target_accuracy",
     "dataset_seed": 7,
     "device": "cuda",
     "domains_source": [
      1,
      2,
      3,
      4
     ],
     "domains_target": [
      1,
      2,
      3,
      4
     ],
     "experiment_name": "cnn_2:wisig",
     "labels": [
      "1-10",
      "1-12",
      "1-14",
      "1-16",
      "1-18",
      "1-19",
      "1-8",
      "10-11",
      "10-17",
      "10-4",
      "10-7",
      "11-1",
      "11-10",
      "11-19",
      "11-20",
      "11-4",
      "11-7",
      "12-19",
      "12-20",
      "12-7",
      "13-14",
      "13-18",
      "13-19",
      "13-20",
      "13-3",
      "13-7",
      "14-10",
      "14-11",
      "14-12",
      "14-13",
      "14-14",
      "14-19",
      "14-20",
      "14-7",
      "14-8",
      "14-9",
      "15-1",
      "15-19",
      "15-6",
      "16-1",
      "16-16",
      "16-19",
      "16-20",
      "17-10",
      "17-11",
      "18-1",
      "18-10",
      "18-11",
      "18-12",
      "18-13",
      "18-14",
      "18-15",
      "18-16",
      "18-17",
      "18-19",
      "18-2",
      "18-20",
      "18-4",
      "18-5",
      "18-7",
      "18-8",
      "18-9",
      "19-1",
      "19-10",
      "19-11",
      "19-12",
      "19-13",
      "19-14",
      "19-15",
      "19-19",
      "19-2",
      "19-20",
      "19-3",
      "19-4",
      "19-6",
      "19-7",
      "19-8",
      "19-9",
      "2-1",
      "2-13",
      "2-15",
      "2-3",
      "2-4",
      "2-5",
      "2-6",
      "2-7",
      "2-8",
      "20-1",
      "20-12",
      "20-14",
      "20-15",
      "20-16",
      "20-18",
      "20-19",
      "20-20",
      "20-3",
      "20-4",
      "20-5",
      "20-7",
      "20-8",
      "3-1",
      "3-13",
      "3-18",
      "3-2",
      "3-8",
      "4-1",
      "4-10",
      "4-11",
      "5-1",
      "5-5",
      "6-1",
      "6-15",
      "6-6",
      "7-10",
      "7-11",
      "7-12",
      "7-13",
      "7-14",
      "7-7",
      "7-8",
      "7-9",
      "8-1",
      "8-13",
      "8-14",
      "8-18",
      "8-20",
      "8-3",
      "8-8",
      "9-1",
      "9-7"
     ],
     "lr": 0.0001,
     "n_epoch": 50,
     "normalize_source": false,
     "normalize_target": false,
     "num_examples_per_domain_per_label_source": -1,
     "num_examples_per_domain_per_label_target": -1,
     "patience": 3,
     "pickle_name_source": "wisig.node3-19.stratified_ds.2022A.pkl",
     "pickle_name_target": "wisig.node3-19.stratified_ds.2022A.pkl",
     "seed": 7,
     "torch_default_dtype": "torch.float32",
     "x_net": [
      {
       "class": "nnReshape",
       "kargs": {
        "shape": [
         -1,
         1,
         2,
         256
        ]
       }
      },
      {
       "class": "Conv2d",
       "kargs": {
        "bias": false,
        "in_channels": 1,
        "kernel_size": [
         1,
         7
        ],
        "out_channels": 256,
        "padding": [
         0,
         3
        ]
       }
      },
      {
       "class": "ReLU",
       "kargs": {
        "inplace": true
       }
      },
      {
       "class": "BatchNorm2d",
       "kargs": {
        "num_features": 256
       }
      },
      {
       "class": "Conv2d",
       "kargs": {
        "bias": true,
        "in_channels": 256,
        "kernel_size": [
         2,
         7
        ],
        "out_channels": 80,
        "padding": [
         0,
         3
        ]
       }
      },
      {
       "class": "ReLU",
       "kargs": {
        "inplace": true
       }
      },
      {
       "class": "BatchNorm2d",
       "kargs": {
        "num_features": 80
       }
      },
      {
       "class": "Flatten",
       "kargs": {}
      },
      {
       "class": "Linear",
       "kargs": {
        "in_features": 20480,
        "out_features": 256
       }
      },
      {
       "class": "ReLU",
       "kargs": {
        "inplace": true
       }
      },
      {
       "class": "BatchNorm1d",
       "kargs": {
        "num_features": 256
       }
      },
      {
       "class": "Linear",
       "kargs": {
        "in_features": 256,
        "out_features": 130
       }
      }
     ]
    }
   },
   "start_time": "2022-03-26T11:31:29.639851",
   "version": "2.3.4"
  }
 },
 "nbformat": 4,
 "nbformat_minor": 5
}