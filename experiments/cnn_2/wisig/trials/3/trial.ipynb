{
 "cells": [
  {
   "cell_type": "code",
   "execution_count": 1,
   "id": "2324682e",
   "metadata": {
    "execution": {
     "iopub.execute_input": "2022-03-26T11:07:08.026134Z",
     "iopub.status.busy": "2022-03-26T11:07:08.024411Z",
     "iopub.status.idle": "2022-03-26T11:07:09.351089Z",
     "shell.execute_reply": "2022-03-26T11:07:09.350208Z"
    },
    "papermill": {
     "duration": 1.372301,
     "end_time": "2022-03-26T11:07:09.351282",
     "exception": false,
     "start_time": "2022-03-26T11:07:07.978981",
     "status": "completed"
    },
    "tags": []
   },
   "outputs": [],
   "source": [
    "import os, json, sys, time, random\n",
    "import numpy as np\n",
    "import torch\n",
    "from  easydict import EasyDict\n",
    "from math import floor\n",
    "from easydict import EasyDict\n",
    "\n",
    "from steves_utils.vanilla_train_eval_test_jig import  Vanilla_Train_Eval_Test_Jig\n",
    "\n",
    "from steves_utils.torch_utils import get_dataset_metrics, independent_accuracy_assesment\n",
    "from steves_models.configurable_vanilla import Configurable_Vanilla\n",
    "from steves_utils.torch_sequential_builder import build_sequential\n",
    "from steves_utils.lazy_map import Lazy_Map\n",
    "from steves_utils.sequence_aggregator import Sequence_Aggregator\n",
    "\n",
    "from steves_utils.stratified_dataset.traditional_accessor import Traditional_Accessor_Factory\n",
    "\n",
    "from steves_utils.cnn_do_report import (\n",
    "    get_loss_curve,\n",
    "    get_results_table,\n",
    "    get_parameters_table,\n",
    "    get_domain_accuracies,\n",
    ")\n",
    "\n",
    "from steves_utils.torch_utils import (\n",
    "    confusion_by_domain_over_dataloader,\n",
    "    independent_accuracy_assesment\n",
    ")\n",
    "\n",
    "from steves_utils.utils_v2 import (\n",
    "    per_domain_accuracy_from_confusion,\n",
    "    get_datasets_base_path\n",
    ")\n",
    "\n",
    "# from steves_utils.ptn_do_report import TBD"
   ]
  },
  {
   "cell_type": "code",
   "execution_count": 2,
   "id": "1b29e3fe",
   "metadata": {
    "execution": {
     "iopub.execute_input": "2022-03-26T11:07:09.390172Z",
     "iopub.status.busy": "2022-03-26T11:07:09.389789Z",
     "iopub.status.idle": "2022-03-26T11:07:09.392669Z",
     "shell.execute_reply": "2022-03-26T11:07:09.392349Z"
    },
    "papermill": {
     "duration": 0.022609,
     "end_time": "2022-03-26T11:07:09.392740",
     "exception": false,
     "start_time": "2022-03-26T11:07:09.370131",
     "status": "completed"
    },
    "tags": []
   },
   "outputs": [],
   "source": [
    "required_parameters = {\n",
    "    \"experiment_name\",\n",
    "    \"lr\",\n",
    "    \"device\",\n",
    "    \"dataset_seed\",\n",
    "    \"seed\",\n",
    "    \"labels\",\n",
    "    \"domains_target\",\n",
    "    \"domains_source\",\n",
    "    \"num_examples_per_domain_per_label_source\",\n",
    "    \"num_examples_per_domain_per_label_target\",\n",
    "    \"batch_size\",\n",
    "    \"n_epoch\",\n",
    "    \"patience\",\n",
    "    \"criteria_for_best\",\n",
    "    \"normalize_source\",\n",
    "    \"normalize_target\",\n",
    "    \"x_net\",\n",
    "    \"NUM_LOGS_PER_EPOCH\",\n",
    "    \"BEST_MODEL_PATH\",\n",
    "    \"pickle_name_source\",\n",
    "    \"pickle_name_target\",\n",
    "    \"torch_default_dtype\",\n",
    "}"
   ]
  },
  {
   "cell_type": "code",
   "execution_count": 3,
   "id": "670b5fb8",
   "metadata": {
    "execution": {
     "iopub.execute_input": "2022-03-26T11:07:09.436387Z",
     "iopub.status.busy": "2022-03-26T11:07:09.435685Z",
     "iopub.status.idle": "2022-03-26T11:07:09.443870Z",
     "shell.execute_reply": "2022-03-26T11:07:09.443000Z"
    },
    "papermill": {
     "duration": 0.035251,
     "end_time": "2022-03-26T11:07:09.444030",
     "exception": false,
     "start_time": "2022-03-26T11:07:09.408779",
     "status": "completed"
    },
    "tags": [
     "parameters"
    ]
   },
   "outputs": [],
   "source": [
    "from steves_utils.ORACLE.utils_v2 import (\n",
    "    ALL_SERIAL_NUMBERS,\n",
    "    ALL_DISTANCES_FEET_NARROWED,\n",
    ")\n",
    "\n",
    "standalone_parameters = {}\n",
    "standalone_parameters[\"experiment_name\"] = \"MANUAL CORES CNN\"\n",
    "standalone_parameters[\"lr\"] = 0.0001\n",
    "standalone_parameters[\"device\"] = \"cuda\"\n",
    "\n",
    "standalone_parameters[\"dataset_seed\"] = 1337\n",
    "standalone_parameters[\"seed\"] = 1337\n",
    "standalone_parameters[\"labels\"] = ALL_SERIAL_NUMBERS\n",
    "\n",
    "standalone_parameters[\"domains_source\"] = [8,32,50]\n",
    "standalone_parameters[\"domains_target\"] = [14,20,26,38,44,]\n",
    "\n",
    "standalone_parameters[\"num_examples_per_domain_per_label_source\"]=-1\n",
    "standalone_parameters[\"num_examples_per_domain_per_label_target\"]=-1\n",
    "\n",
    "standalone_parameters[\"pickle_name_source\"] = \"oracle.Run1_framed_2000Examples_stratified_ds.2022A.pkl\"\n",
    "standalone_parameters[\"pickle_name_target\"] = \"oracle.Run2_framed_2000Examples_stratified_ds.2022A.pkl\"\n",
    "\n",
    "standalone_parameters[\"torch_default_dtype\"] = \"torch.float32\" \n",
    "\n",
    "standalone_parameters[\"batch_size\"]=128\n",
    "\n",
    "standalone_parameters[\"n_epoch\"] = 3\n",
    "\n",
    "standalone_parameters[\"patience\"] = 10\n",
    "\n",
    "standalone_parameters[\"criteria_for_best\"] = \"target_accuracy\"\n",
    "standalone_parameters[\"normalize_source\"] = False\n",
    "standalone_parameters[\"normalize_target\"] = False\n",
    "\n",
    "standalone_parameters[\"x_net\"] =     [\n",
    "    {\"class\": \"nnReshape\", \"kargs\": {\"shape\":[-1, 1, 2, 256]}},\n",
    "    {\"class\": \"Conv2d\", \"kargs\": { \"in_channels\":1, \"out_channels\":256, \"kernel_size\":(1,7), \"bias\":False, \"padding\":(0,3), },},\n",
    "    {\"class\": \"ReLU\", \"kargs\": {\"inplace\": True}},\n",
    "    {\"class\": \"BatchNorm2d\", \"kargs\": {\"num_features\":256}},\n",
    "\n",
    "    {\"class\": \"Conv2d\", \"kargs\": { \"in_channels\":256, \"out_channels\":80, \"kernel_size\":(2,7), \"bias\":True, \"padding\":(0,3), },},\n",
    "    {\"class\": \"ReLU\", \"kargs\": {\"inplace\": True}},\n",
    "    {\"class\": \"BatchNorm2d\", \"kargs\": {\"num_features\":80}},\n",
    "    {\"class\": \"Flatten\", \"kargs\": {}},\n",
    "\n",
    "    {\"class\": \"Linear\", \"kargs\": {\"in_features\": 80*256, \"out_features\": 256}}, # 80 units per IQ pair\n",
    "    {\"class\": \"ReLU\", \"kargs\": {\"inplace\": True}},\n",
    "    {\"class\": \"BatchNorm1d\", \"kargs\": {\"num_features\":256}},\n",
    "\n",
    "    {\"class\": \"Linear\", \"kargs\": {\"in_features\": 256, \"out_features\": len(standalone_parameters[\"labels\"])}},\n",
    "]\n",
    "\n",
    "standalone_parameters[\"NUM_LOGS_PER_EPOCH\"] = 10\n",
    "standalone_parameters[\"BEST_MODEL_PATH\"] = \"./best_model.pth\""
   ]
  },
  {
   "cell_type": "code",
   "execution_count": 4,
   "id": "7bc3f81f",
   "metadata": {
    "execution": {
     "iopub.execute_input": "2022-03-26T11:07:09.491375Z",
     "iopub.status.busy": "2022-03-26T11:07:09.486005Z",
     "iopub.status.idle": "2022-03-26T11:07:09.502989Z",
     "shell.execute_reply": "2022-03-26T11:07:09.502144Z"
    },
    "papermill": {
     "duration": 0.038735,
     "end_time": "2022-03-26T11:07:09.503164",
     "exception": false,
     "start_time": "2022-03-26T11:07:09.464429",
     "status": "completed"
    },
    "tags": [
     "injected-parameters"
    ]
   },
   "outputs": [],
   "source": [
    "# Parameters\n",
    "parameters = {\n",
    "    \"experiment_name\": \"cnn_2:wisig\",\n",
    "    \"labels\": [\n",
    "        \"1-10\",\n",
    "        \"1-12\",\n",
    "        \"1-14\",\n",
    "        \"1-16\",\n",
    "        \"1-18\",\n",
    "        \"1-19\",\n",
    "        \"1-8\",\n",
    "        \"10-11\",\n",
    "        \"10-17\",\n",
    "        \"10-4\",\n",
    "        \"10-7\",\n",
    "        \"11-1\",\n",
    "        \"11-10\",\n",
    "        \"11-19\",\n",
    "        \"11-20\",\n",
    "        \"11-4\",\n",
    "        \"11-7\",\n",
    "        \"12-19\",\n",
    "        \"12-20\",\n",
    "        \"12-7\",\n",
    "        \"13-14\",\n",
    "        \"13-18\",\n",
    "        \"13-19\",\n",
    "        \"13-20\",\n",
    "        \"13-3\",\n",
    "        \"13-7\",\n",
    "        \"14-10\",\n",
    "        \"14-11\",\n",
    "        \"14-12\",\n",
    "        \"14-13\",\n",
    "        \"14-14\",\n",
    "        \"14-19\",\n",
    "        \"14-20\",\n",
    "        \"14-7\",\n",
    "        \"14-8\",\n",
    "        \"14-9\",\n",
    "        \"15-1\",\n",
    "        \"15-19\",\n",
    "        \"15-6\",\n",
    "        \"16-1\",\n",
    "        \"16-16\",\n",
    "        \"16-19\",\n",
    "        \"16-20\",\n",
    "        \"17-10\",\n",
    "        \"17-11\",\n",
    "        \"18-1\",\n",
    "        \"18-10\",\n",
    "        \"18-11\",\n",
    "        \"18-12\",\n",
    "        \"18-13\",\n",
    "        \"18-14\",\n",
    "        \"18-15\",\n",
    "        \"18-16\",\n",
    "        \"18-17\",\n",
    "        \"18-19\",\n",
    "        \"18-2\",\n",
    "        \"18-20\",\n",
    "        \"18-4\",\n",
    "        \"18-5\",\n",
    "        \"18-7\",\n",
    "        \"18-8\",\n",
    "        \"18-9\",\n",
    "        \"19-1\",\n",
    "        \"19-10\",\n",
    "        \"19-11\",\n",
    "        \"19-12\",\n",
    "        \"19-13\",\n",
    "        \"19-14\",\n",
    "        \"19-15\",\n",
    "        \"19-19\",\n",
    "        \"19-2\",\n",
    "        \"19-20\",\n",
    "        \"19-3\",\n",
    "        \"19-4\",\n",
    "        \"19-6\",\n",
    "        \"19-7\",\n",
    "        \"19-8\",\n",
    "        \"19-9\",\n",
    "        \"2-1\",\n",
    "        \"2-13\",\n",
    "        \"2-15\",\n",
    "        \"2-3\",\n",
    "        \"2-4\",\n",
    "        \"2-5\",\n",
    "        \"2-6\",\n",
    "        \"2-7\",\n",
    "        \"2-8\",\n",
    "        \"20-1\",\n",
    "        \"20-12\",\n",
    "        \"20-14\",\n",
    "        \"20-15\",\n",
    "        \"20-16\",\n",
    "        \"20-18\",\n",
    "        \"20-19\",\n",
    "        \"20-20\",\n",
    "        \"20-3\",\n",
    "        \"20-4\",\n",
    "        \"20-5\",\n",
    "        \"20-7\",\n",
    "        \"20-8\",\n",
    "        \"3-1\",\n",
    "        \"3-13\",\n",
    "        \"3-18\",\n",
    "        \"3-2\",\n",
    "        \"3-8\",\n",
    "        \"4-1\",\n",
    "        \"4-10\",\n",
    "        \"4-11\",\n",
    "        \"5-1\",\n",
    "        \"5-5\",\n",
    "        \"6-1\",\n",
    "        \"6-15\",\n",
    "        \"6-6\",\n",
    "        \"7-10\",\n",
    "        \"7-11\",\n",
    "        \"7-12\",\n",
    "        \"7-13\",\n",
    "        \"7-14\",\n",
    "        \"7-7\",\n",
    "        \"7-8\",\n",
    "        \"7-9\",\n",
    "        \"8-1\",\n",
    "        \"8-13\",\n",
    "        \"8-14\",\n",
    "        \"8-18\",\n",
    "        \"8-20\",\n",
    "        \"8-3\",\n",
    "        \"8-8\",\n",
    "        \"9-1\",\n",
    "        \"9-7\",\n",
    "    ],\n",
    "    \"domains_source\": [1, 2, 3, 4],\n",
    "    \"domains_target\": [1, 2, 3, 4],\n",
    "    \"pickle_name_target\": \"wisig.node3-19.stratified_ds.2022A.pkl\",\n",
    "    \"pickle_name_source\": \"wisig.node3-19.stratified_ds.2022A.pkl\",\n",
    "    \"device\": \"cuda\",\n",
    "    \"lr\": 0.0001,\n",
    "    \"batch_size\": 128,\n",
    "    \"normalize_source\": False,\n",
    "    \"normalize_target\": False,\n",
    "    \"num_examples_per_domain_per_label_source\": -1,\n",
    "    \"num_examples_per_domain_per_label_target\": -1,\n",
    "    \"torch_default_dtype\": \"torch.float32\",\n",
    "    \"n_epoch\": 50,\n",
    "    \"patience\": 3,\n",
    "    \"criteria_for_best\": \"target_accuracy\",\n",
    "    \"x_net\": [\n",
    "        {\"class\": \"nnReshape\", \"kargs\": {\"shape\": [-1, 1, 2, 256]}},\n",
    "        {\n",
    "            \"class\": \"Conv2d\",\n",
    "            \"kargs\": {\n",
    "                \"in_channels\": 1,\n",
    "                \"out_channels\": 256,\n",
    "                \"kernel_size\": [1, 7],\n",
    "                \"bias\": False,\n",
    "                \"padding\": [0, 3],\n",
    "            },\n",
    "        },\n",
    "        {\"class\": \"ReLU\", \"kargs\": {\"inplace\": True}},\n",
    "        {\"class\": \"BatchNorm2d\", \"kargs\": {\"num_features\": 256}},\n",
    "        {\n",
    "            \"class\": \"Conv2d\",\n",
    "            \"kargs\": {\n",
    "                \"in_channels\": 256,\n",
    "                \"out_channels\": 80,\n",
    "                \"kernel_size\": [2, 7],\n",
    "                \"bias\": True,\n",
    "                \"padding\": [0, 3],\n",
    "            },\n",
    "        },\n",
    "        {\"class\": \"ReLU\", \"kargs\": {\"inplace\": True}},\n",
    "        {\"class\": \"BatchNorm2d\", \"kargs\": {\"num_features\": 80}},\n",
    "        {\"class\": \"Flatten\", \"kargs\": {}},\n",
    "        {\"class\": \"Linear\", \"kargs\": {\"in_features\": 20480, \"out_features\": 256}},\n",
    "        {\"class\": \"ReLU\", \"kargs\": {\"inplace\": True}},\n",
    "        {\"class\": \"BatchNorm1d\", \"kargs\": {\"num_features\": 256}},\n",
    "        {\"class\": \"Linear\", \"kargs\": {\"in_features\": 256, \"out_features\": 130}},\n",
    "    ],\n",
    "    \"NUM_LOGS_PER_EPOCH\": 10,\n",
    "    \"BEST_MODEL_PATH\": \"./best_model.pth\",\n",
    "    \"dataset_seed\": 420,\n",
    "    \"seed\": 420,\n",
    "}\n"
   ]
  },
  {
   "cell_type": "code",
   "execution_count": 5,
   "id": "759b56ec",
   "metadata": {
    "execution": {
     "iopub.execute_input": "2022-03-26T11:07:09.553402Z",
     "iopub.status.busy": "2022-03-26T11:07:09.552897Z",
     "iopub.status.idle": "2022-03-26T11:07:09.555211Z",
     "shell.execute_reply": "2022-03-26T11:07:09.554692Z"
    },
    "papermill": {
     "duration": 0.028339,
     "end_time": "2022-03-26T11:07:09.555299",
     "exception": false,
     "start_time": "2022-03-26T11:07:09.526960",
     "status": "completed"
    },
    "tags": []
   },
   "outputs": [],
   "source": [
    "# Set this to True if you want to run this template directly\n",
    "STANDALONE = False\n",
    "if STANDALONE:\n",
    "    print(\"parameters not injected, running with standalone_parameters\")\n",
    "    parameters = standalone_parameters\n",
    "\n",
    "if not 'parameters' in locals() and not 'parameters' in globals():\n",
    "    raise Exception(\"Parameter injection failed\")\n",
    "\n",
    "#Use an easy dict for all the parameters\n",
    "p = EasyDict(parameters)\n",
    "\n",
    "supplied_keys = set(p.keys())\n",
    "\n",
    "if  supplied_keys != required_parameters:\n",
    "    print(\"Parameters are incorrect\")\n",
    "    if len(supplied_keys - required_parameters)>0: print(\"Shouldn't have:\", str(supplied_keys - required_parameters))\n",
    "    if len(required_parameters - supplied_keys)>0: print(\"Need to have:\", str(required_parameters - supplied_keys))\n",
    "    raise RuntimeError(\"Parameters are incorrect\")\n",
    "\n"
   ]
  },
  {
   "cell_type": "code",
   "execution_count": 6,
   "id": "d5c66a71",
   "metadata": {
    "execution": {
     "iopub.execute_input": "2022-03-26T11:07:09.586761Z",
     "iopub.status.busy": "2022-03-26T11:07:09.586380Z",
     "iopub.status.idle": "2022-03-26T11:07:09.589858Z",
     "shell.execute_reply": "2022-03-26T11:07:09.590170Z"
    },
    "papermill": {
     "duration": 0.020581,
     "end_time": "2022-03-26T11:07:09.590257",
     "exception": false,
     "start_time": "2022-03-26T11:07:09.569676",
     "status": "completed"
    },
    "tags": []
   },
   "outputs": [],
   "source": [
    "###################################\n",
    "# Set the RNGs and make it all deterministic\n",
    "###################################\n",
    "np.random.seed(p.seed)\n",
    "random.seed(p.seed)\n",
    "torch.manual_seed(p.seed)\n",
    "\n",
    "torch.use_deterministic_algorithms(True) "
   ]
  },
  {
   "cell_type": "code",
   "execution_count": 7,
   "id": "92a65876",
   "metadata": {
    "execution": {
     "iopub.execute_input": "2022-03-26T11:07:09.626497Z",
     "iopub.status.busy": "2022-03-26T11:07:09.625940Z",
     "iopub.status.idle": "2022-03-26T11:07:09.628768Z",
     "shell.execute_reply": "2022-03-26T11:07:09.628216Z"
    },
    "papermill": {
     "duration": 0.020667,
     "end_time": "2022-03-26T11:07:09.628872",
     "exception": false,
     "start_time": "2022-03-26T11:07:09.608205",
     "status": "completed"
    },
    "tags": []
   },
   "outputs": [],
   "source": [
    "torch.set_default_dtype(eval(p.torch_default_dtype))"
   ]
  },
  {
   "cell_type": "code",
   "execution_count": 8,
   "id": "f1a32f01",
   "metadata": {
    "execution": {
     "iopub.execute_input": "2022-03-26T11:07:09.666114Z",
     "iopub.status.busy": "2022-03-26T11:07:09.665549Z",
     "iopub.status.idle": "2022-03-26T11:07:09.704952Z",
     "shell.execute_reply": "2022-03-26T11:07:09.704135Z"
    },
    "papermill": {
     "duration": 0.056954,
     "end_time": "2022-03-26T11:07:09.705106",
     "exception": false,
     "start_time": "2022-03-26T11:07:09.648152",
     "status": "completed"
    },
    "tags": []
   },
   "outputs": [],
   "source": [
    "###################################\n",
    "# Build the network(s)\n",
    "# Note: It's critical to do this AFTER setting the RNG\n",
    "###################################\n",
    "x_net = build_sequential(p.x_net)"
   ]
  },
  {
   "cell_type": "code",
   "execution_count": 9,
   "id": "a276cd83",
   "metadata": {
    "execution": {
     "iopub.execute_input": "2022-03-26T11:07:09.741990Z",
     "iopub.status.busy": "2022-03-26T11:07:09.741625Z",
     "iopub.status.idle": "2022-03-26T11:07:09.743864Z",
     "shell.execute_reply": "2022-03-26T11:07:09.743489Z"
    },
    "papermill": {
     "duration": 0.018736,
     "end_time": "2022-03-26T11:07:09.743932",
     "exception": false,
     "start_time": "2022-03-26T11:07:09.725196",
     "status": "completed"
    },
    "tags": []
   },
   "outputs": [],
   "source": [
    "start_time_secs = time.time()"
   ]
  },
  {
   "cell_type": "code",
   "execution_count": 10,
   "id": "de702e48",
   "metadata": {
    "execution": {
     "iopub.execute_input": "2022-03-26T11:07:09.790507Z",
     "iopub.status.busy": "2022-03-26T11:07:09.788714Z",
     "iopub.status.idle": "2022-03-26T11:07:16.941391Z",
     "shell.execute_reply": "2022-03-26T11:07:16.940650Z"
    },
    "papermill": {
     "duration": 7.179191,
     "end_time": "2022-03-26T11:07:16.941577",
     "exception": false,
     "start_time": "2022-03-26T11:07:09.762386",
     "status": "completed"
    },
    "tags": []
   },
   "outputs": [],
   "source": [
    "def wrap_in_dataloader(p, ds):\n",
    "    return torch.utils.data.DataLoader(\n",
    "        ds,\n",
    "        batch_size=p.batch_size,\n",
    "        shuffle=True,\n",
    "        num_workers=1,\n",
    "        persistent_workers=True,\n",
    "        prefetch_factor=50,\n",
    "        pin_memory=True\n",
    "    )\n",
    "\n",
    "taf_source = Traditional_Accessor_Factory(\n",
    "    labels=p.labels,\n",
    "    domains=p.domains_source,\n",
    "    num_examples_per_domain_per_label=p.num_examples_per_domain_per_label_source,\n",
    "    pickle_path=os.path.join(get_datasets_base_path(), p.pickle_name_source),\n",
    "    seed=p.dataset_seed\n",
    ")\n",
    "train_original_source, val_original_source, test_original_source = \\\n",
    "    taf_source.get_train(), taf_source.get_val(), taf_source.get_test()\n",
    "\n",
    "\n",
    "taf_target = Traditional_Accessor_Factory(\n",
    "    labels=p.labels,\n",
    "    domains=p.domains_target,\n",
    "    num_examples_per_domain_per_label=p.num_examples_per_domain_per_label_source,\n",
    "    pickle_path=os.path.join(get_datasets_base_path(), p.pickle_name_target),\n",
    "    seed=p.dataset_seed\n",
    ")\n",
    "train_original_target, val_original_target, test_original_target = \\\n",
    "    taf_target.get_train(), taf_target.get_val(), taf_target.get_test()\n",
    "\n",
    "\n",
    "# For CNN We only use X and Y. And we only train on the source.\n",
    "# Properly form the data using a transform lambda and Lazy_Map. Finally wrap them in a dataloader\n",
    "\n",
    "transform_lambda = lambda ex: ex[:2] # Strip the tuple to just (x,y)\n",
    "\n",
    "\n",
    "train_processed_source = wrap_in_dataloader(\n",
    "    p,\n",
    "    Lazy_Map(train_original_source, transform_lambda)\n",
    ")\n",
    "val_processed_source = wrap_in_dataloader(\n",
    "    p,\n",
    "    Lazy_Map(val_original_source, transform_lambda)\n",
    ")\n",
    "test_processed_source = wrap_in_dataloader(\n",
    "    p,\n",
    "    Lazy_Map(test_original_source, transform_lambda)\n",
    ")\n",
    "\n",
    "train_processed_target = wrap_in_dataloader(\n",
    "    p,\n",
    "    Lazy_Map(train_original_target, transform_lambda)\n",
    ")\n",
    "val_processed_target = wrap_in_dataloader(\n",
    "    p,\n",
    "    Lazy_Map(val_original_target, transform_lambda)\n",
    ")\n",
    "test_processed_target  = wrap_in_dataloader(\n",
    "    p,\n",
    "    Lazy_Map(test_original_target, transform_lambda)\n",
    ")\n",
    "\n",
    "\n",
    "\n",
    "datasets = EasyDict({\n",
    "    \"source\": {\n",
    "        \"original\": {\"train\":train_original_source, \"val\":val_original_source, \"test\":test_original_source},\n",
    "        \"processed\": {\"train\":train_processed_source, \"val\":val_processed_source, \"test\":test_processed_source}\n",
    "    },\n",
    "    \"target\": {\n",
    "        \"original\": {\"train\":train_original_target, \"val\":val_original_target, \"test\":test_original_target},\n",
    "        \"processed\": {\"train\":train_processed_target, \"val\":val_processed_target, \"test\":test_processed_target}\n",
    "    },\n",
    "})"
   ]
  },
  {
   "cell_type": "code",
   "execution_count": 11,
   "id": "a11b26bd",
   "metadata": {
    "execution": {
     "iopub.execute_input": "2022-03-26T11:07:17.013487Z",
     "iopub.status.busy": "2022-03-26T11:07:17.012651Z",
     "iopub.status.idle": "2022-03-26T11:07:22.839189Z",
     "shell.execute_reply": "2022-03-26T11:07:22.838429Z"
    },
    "papermill": {
     "duration": 5.877386,
     "end_time": "2022-03-26T11:07:22.839366",
     "exception": false,
     "start_time": "2022-03-26T11:07:16.961980",
     "status": "completed"
    },
    "tags": []
   },
   "outputs": [
    {
     "data": {
      "text/plain": [
       "torch.float32"
      ]
     },
     "execution_count": 11,
     "metadata": {},
     "output_type": "execute_result"
    }
   ],
   "source": [
    "ep = next(iter(test_processed_target))\n",
    "ep[0].dtype"
   ]
  },
  {
   "cell_type": "code",
   "execution_count": 12,
   "id": "19425fad",
   "metadata": {
    "execution": {
     "iopub.execute_input": "2022-03-26T11:07:22.876502Z",
     "iopub.status.busy": "2022-03-26T11:07:22.876129Z",
     "iopub.status.idle": "2022-03-26T11:07:22.922661Z",
     "shell.execute_reply": "2022-03-26T11:07:22.921840Z"
    },
    "papermill": {
     "duration": 0.065426,
     "end_time": "2022-03-26T11:07:22.922815",
     "exception": false,
     "start_time": "2022-03-26T11:07:22.857389",
     "status": "completed"
    },
    "tags": []
   },
   "outputs": [],
   "source": [
    "model = Configurable_Vanilla(\n",
    "    x_net=x_net,\n",
    "    label_loss_object=torch.nn.NLLLoss(),\n",
    "    learning_rate=p.lr\n",
    ")"
   ]
  },
  {
   "cell_type": "code",
   "execution_count": 13,
   "id": "7f6d4f2c",
   "metadata": {
    "execution": {
     "iopub.execute_input": "2022-03-26T11:07:22.962698Z",
     "iopub.status.busy": "2022-03-26T11:07:22.962319Z",
     "iopub.status.idle": "2022-03-26T11:10:10.186610Z",
     "shell.execute_reply": "2022-03-26T11:10:10.187309Z"
    },
    "papermill": {
     "duration": 167.244773,
     "end_time": "2022-03-26T11:10:10.187511",
     "exception": false,
     "start_time": "2022-03-26T11:07:22.942738",
     "status": "completed"
    },
    "tags": []
   },
   "outputs": [
    {
     "name": "stdout",
     "output_type": "stream",
     "text": [
      "epoch: 1, [batch: 1 / 1479], examples_per_second: 716.5731, train_label_loss: 4.8147, \n"
     ]
    },
    {
     "name": "stdout",
     "output_type": "stream",
     "text": [
      "epoch: 1, [batch: 148 / 1479], examples_per_second: 10573.0568, train_label_loss: 2.9739, \n"
     ]
    },
    {
     "name": "stdout",
     "output_type": "stream",
     "text": [
      "epoch: 1, [batch: 296 / 1479], examples_per_second: 10648.9085, train_label_loss: 2.1679, \n"
     ]
    },
    {
     "name": "stdout",
     "output_type": "stream",
     "text": [
      "epoch: 1, [batch: 444 / 1479], examples_per_second: 10640.7656, train_label_loss: 1.3719, \n"
     ]
    },
    {
     "name": "stdout",
     "output_type": "stream",
     "text": [
      "epoch: 1, [batch: 592 / 1479], examples_per_second: 10647.6285, train_label_loss: 1.1503, \n"
     ]
    },
    {
     "name": "stdout",
     "output_type": "stream",
     "text": [
      "epoch: 1, [batch: 740 / 1479], examples_per_second: 10574.8795, train_label_loss: 0.9452, \n"
     ]
    },
    {
     "name": "stdout",
     "output_type": "stream",
     "text": [
      "epoch: 1, [batch: 887 / 1479], examples_per_second: 10656.0812, train_label_loss: 0.6435, \n"
     ]
    },
    {
     "name": "stdout",
     "output_type": "stream",
     "text": [
      "epoch: 1, [batch: 1035 / 1479], examples_per_second: 10563.2783, train_label_loss: 0.6095, \n"
     ]
    },
    {
     "name": "stdout",
     "output_type": "stream",
     "text": [
      "epoch: 1, [batch: 1183 / 1479], examples_per_second: 10650.1660, train_label_loss: 0.3612, \n"
     ]
    },
    {
     "name": "stdout",
     "output_type": "stream",
     "text": [
      "epoch: 1, [batch: 1331 / 1479], examples_per_second: 10568.7805, train_label_loss: 0.4986, \n"
     ]
    },
    {
     "name": "stdout",
     "output_type": "stream",
     "text": [
      "=============================================================\n",
      "epoch: 1, source_val_acc_label: 0.9178, source_val_label_loss: 0.4199, target_val_acc_label: 0.9178, target_val_label_loss: 0.4191, \n",
      "=============================================================\n"
     ]
    },
    {
     "name": "stdout",
     "output_type": "stream",
     "text": [
      "New best\n",
      "epoch: 2, [batch: 1 / 1479], examples_per_second: 47.5027, train_label_loss: 0.3702, \n"
     ]
    },
    {
     "name": "stdout",
     "output_type": "stream",
     "text": [
      "epoch: 2, [batch: 148 / 1479], examples_per_second: 10564.5916, train_label_loss: 0.3256, \n"
     ]
    },
    {
     "name": "stdout",
     "output_type": "stream",
     "text": [
      "epoch: 2, [batch: 296 / 1479], examples_per_second: 10637.0248, train_label_loss: 0.3800, \n"
     ]
    },
    {
     "name": "stdout",
     "output_type": "stream",
     "text": [
      "epoch: 2, [batch: 444 / 1479], examples_per_second: 10215.5198, train_label_loss: 0.3667, \n"
     ]
    },
    {
     "name": "stdout",
     "output_type": "stream",
     "text": [
      "epoch: 2, [batch: 592 / 1479], examples_per_second: 10580.1078, train_label_loss: 0.2525, \n"
     ]
    },
    {
     "name": "stdout",
     "output_type": "stream",
     "text": [
      "epoch: 2, [batch: 740 / 1479], examples_per_second: 10559.4824, train_label_loss: 0.3796, \n"
     ]
    },
    {
     "name": "stdout",
     "output_type": "stream",
     "text": [
      "epoch: 2, [batch: 887 / 1479], examples_per_second: 10526.7711, train_label_loss: 0.3324, \n"
     ]
    },
    {
     "name": "stdout",
     "output_type": "stream",
     "text": [
      "epoch: 2, [batch: 1035 / 1479], examples_per_second: 10591.8293, train_label_loss: 0.2910, \n"
     ]
    },
    {
     "name": "stdout",
     "output_type": "stream",
     "text": [
      "epoch: 2, [batch: 1183 / 1479], examples_per_second: 10514.9587, train_label_loss: 0.3020, \n"
     ]
    },
    {
     "name": "stdout",
     "output_type": "stream",
     "text": [
      "epoch: 2, [batch: 1331 / 1479], examples_per_second: 10627.6732, train_label_loss: 0.3410, \n"
     ]
    },
    {
     "name": "stdout",
     "output_type": "stream",
     "text": [
      "=============================================================\n",
      "epoch: 2, source_val_acc_label: 0.9125, source_val_label_loss: 0.3641, target_val_acc_label: 0.9125, target_val_label_loss: 0.3645, \n",
      "=============================================================\n"
     ]
    },
    {
     "name": "stdout",
     "output_type": "stream",
     "text": [
      "epoch: 3, [batch: 1 / 1479], examples_per_second: 54.7209, train_label_loss: 0.3208, \n"
     ]
    },
    {
     "name": "stdout",
     "output_type": "stream",
     "text": [
      "epoch: 3, [batch: 148 / 1479], examples_per_second: 10466.6385, train_label_loss: 0.2430, \n"
     ]
    },
    {
     "name": "stdout",
     "output_type": "stream",
     "text": [
      "epoch: 3, [batch: 296 / 1479], examples_per_second: 10659.2971, train_label_loss: 0.3064, \n"
     ]
    },
    {
     "name": "stdout",
     "output_type": "stream",
     "text": [
      "epoch: 3, [batch: 444 / 1479], examples_per_second: 10597.3075, train_label_loss: 0.1723, \n"
     ]
    },
    {
     "name": "stdout",
     "output_type": "stream",
     "text": [
      "epoch: 3, [batch: 592 / 1479], examples_per_second: 10629.9679, train_label_loss: 0.2749, \n"
     ]
    },
    {
     "name": "stdout",
     "output_type": "stream",
     "text": [
      "epoch: 3, [batch: 740 / 1479], examples_per_second: 10651.0854, train_label_loss: 0.2020, \n"
     ]
    },
    {
     "name": "stdout",
     "output_type": "stream",
     "text": [
      "epoch: 3, [batch: 887 / 1479], examples_per_second: 10621.3922, train_label_loss: 0.1929, \n"
     ]
    },
    {
     "name": "stdout",
     "output_type": "stream",
     "text": [
      "epoch: 3, [batch: 1035 / 1479], examples_per_second: 10671.4284, train_label_loss: 0.2572, \n"
     ]
    },
    {
     "name": "stdout",
     "output_type": "stream",
     "text": [
      "epoch: 3, [batch: 1183 / 1479], examples_per_second: 10640.6530, train_label_loss: 0.0594, \n"
     ]
    },
    {
     "name": "stdout",
     "output_type": "stream",
     "text": [
      "epoch: 3, [batch: 1331 / 1479], examples_per_second: 10497.6574, train_label_loss: 0.2222, \n"
     ]
    },
    {
     "name": "stdout",
     "output_type": "stream",
     "text": [
      "=============================================================\n",
      "epoch: 3, source_val_acc_label: 0.9334, source_val_label_loss: 0.2766, target_val_acc_label: 0.9334, target_val_label_loss: 0.2767, \n",
      "=============================================================\n"
     ]
    },
    {
     "name": "stdout",
     "output_type": "stream",
     "text": [
      "New best\n",
      "epoch: 4, [batch: 1 / 1479], examples_per_second: 54.2879, train_label_loss: 0.1810, \n"
     ]
    },
    {
     "name": "stdout",
     "output_type": "stream",
     "text": [
      "epoch: 4, [batch: 148 / 1479], examples_per_second: 10511.2561, train_label_loss: 0.1100, \n"
     ]
    },
    {
     "name": "stdout",
     "output_type": "stream",
     "text": [
      "epoch: 4, [batch: 296 / 1479], examples_per_second: 10511.0889, train_label_loss: 0.2106, \n"
     ]
    },
    {
     "name": "stdout",
     "output_type": "stream",
     "text": [
      "epoch: 4, [batch: 444 / 1479], examples_per_second: 10537.3705, train_label_loss: 0.1631, \n"
     ]
    },
    {
     "name": "stdout",
     "output_type": "stream",
     "text": [
      "epoch: 4, [batch: 592 / 1479], examples_per_second: 10539.1707, train_label_loss: 0.1666, \n"
     ]
    },
    {
     "name": "stdout",
     "output_type": "stream",
     "text": [
      "epoch: 4, [batch: 740 / 1479], examples_per_second: 10564.7713, train_label_loss: 0.2034, \n"
     ]
    },
    {
     "name": "stdout",
     "output_type": "stream",
     "text": [
      "epoch: 4, [batch: 887 / 1479], examples_per_second: 10610.7205, train_label_loss: 0.2598, \n"
     ]
    },
    {
     "name": "stdout",
     "output_type": "stream",
     "text": [
      "epoch: 4, [batch: 1035 / 1479], examples_per_second: 10590.3286, train_label_loss: 0.1868, \n"
     ]
    },
    {
     "name": "stdout",
     "output_type": "stream",
     "text": [
      "epoch: 4, [batch: 1183 / 1479], examples_per_second: 10479.2602, train_label_loss: 0.0774, \n"
     ]
    },
    {
     "name": "stdout",
     "output_type": "stream",
     "text": [
      "epoch: 4, [batch: 1331 / 1479], examples_per_second: 10580.4741, train_label_loss: 0.1792, \n"
     ]
    },
    {
     "name": "stdout",
     "output_type": "stream",
     "text": [
      "=============================================================\n",
      "epoch: 4, source_val_acc_label: 0.9457, source_val_label_loss: 0.2415, target_val_acc_label: 0.9457, target_val_label_loss: 0.2414, \n",
      "=============================================================\n"
     ]
    },
    {
     "name": "stdout",
     "output_type": "stream",
     "text": [
      "New best\n",
      "epoch: 5, [batch: 1 / 1479], examples_per_second: 53.1856, train_label_loss: 0.1755, \n"
     ]
    },
    {
     "name": "stdout",
     "output_type": "stream",
     "text": [
      "epoch: 5, [batch: 148 / 1479], examples_per_second: 10679.5973, train_label_loss: 0.1249, \n"
     ]
    },
    {
     "name": "stdout",
     "output_type": "stream",
     "text": [
      "epoch: 5, [batch: 296 / 1479], examples_per_second: 10615.3914, train_label_loss: 0.1120, \n"
     ]
    },
    {
     "name": "stdout",
     "output_type": "stream",
     "text": [
      "epoch: 5, [batch: 444 / 1479], examples_per_second: 10672.0849, train_label_loss: 0.1100, \n"
     ]
    },
    {
     "name": "stdout",
     "output_type": "stream",
     "text": [
      "epoch: 5, [batch: 592 / 1479], examples_per_second: 10671.0300, train_label_loss: 0.2039, \n"
     ]
    },
    {
     "name": "stdout",
     "output_type": "stream",
     "text": [
      "epoch: 5, [batch: 740 / 1479], examples_per_second: 10688.3256, train_label_loss: 0.1455, \n"
     ]
    },
    {
     "name": "stdout",
     "output_type": "stream",
     "text": [
      "epoch: 5, [batch: 887 / 1479], examples_per_second: 10631.8920, train_label_loss: 0.1933, \n"
     ]
    },
    {
     "name": "stdout",
     "output_type": "stream",
     "text": [
      "epoch: 5, [batch: 1035 / 1479], examples_per_second: 10554.5240, train_label_loss: 0.1943, \n"
     ]
    },
    {
     "name": "stdout",
     "output_type": "stream",
     "text": [
      "epoch: 5, [batch: 1183 / 1479], examples_per_second: 10663.6574, train_label_loss: 0.0585, \n"
     ]
    },
    {
     "name": "stdout",
     "output_type": "stream",
     "text": [
      "epoch: 5, [batch: 1331 / 1479], examples_per_second: 10663.3798, train_label_loss: 0.2403, \n"
     ]
    },
    {
     "name": "stdout",
     "output_type": "stream",
     "text": [
      "=============================================================\n",
      "epoch: 5, source_val_acc_label: 0.7890, source_val_label_loss: 2.2022, target_val_acc_label: 0.7890, target_val_label_loss: 2.1999, \n",
      "=============================================================\n"
     ]
    },
    {
     "name": "stdout",
     "output_type": "stream",
     "text": [
      "epoch: 6, [batch: 1 / 1479], examples_per_second: 54.4868, train_label_loss: 0.7189, \n"
     ]
    },
    {
     "name": "stdout",
     "output_type": "stream",
     "text": [
      "epoch: 6, [batch: 148 / 1479], examples_per_second: 10619.9929, train_label_loss: 0.2293, \n"
     ]
    },
    {
     "name": "stdout",
     "output_type": "stream",
     "text": [
      "epoch: 6, [batch: 296 / 1479], examples_per_second: 10571.3059, train_label_loss: 0.2550, \n"
     ]
    },
    {
     "name": "stdout",
     "output_type": "stream",
     "text": [
      "epoch: 6, [batch: 444 / 1479], examples_per_second: 10647.1834, train_label_loss: 0.1939, \n"
     ]
    },
    {
     "name": "stdout",
     "output_type": "stream",
     "text": [
      "epoch: 6, [batch: 592 / 1479], examples_per_second: 10633.8645, train_label_loss: 0.1326, \n"
     ]
    },
    {
     "name": "stdout",
     "output_type": "stream",
     "text": [
      "epoch: 6, [batch: 740 / 1479], examples_per_second: 10682.6968, train_label_loss: 0.0925, \n"
     ]
    },
    {
     "name": "stdout",
     "output_type": "stream",
     "text": [
      "epoch: 6, [batch: 887 / 1479], examples_per_second: 10648.7554, train_label_loss: 0.0635, \n"
     ]
    },
    {
     "name": "stdout",
     "output_type": "stream",
     "text": [
      "epoch: 6, [batch: 1035 / 1479], examples_per_second: 10640.0660, train_label_loss: 0.0991, \n"
     ]
    },
    {
     "name": "stdout",
     "output_type": "stream",
     "text": [
      "epoch: 6, [batch: 1183 / 1479], examples_per_second: 10652.6162, train_label_loss: 0.1210, \n"
     ]
    },
    {
     "name": "stdout",
     "output_type": "stream",
     "text": [
      "epoch: 6, [batch: 1331 / 1479], examples_per_second: 10675.8030, train_label_loss: 0.1616, \n"
     ]
    },
    {
     "name": "stdout",
     "output_type": "stream",
     "text": [
      "=============================================================\n",
      "epoch: 6, source_val_acc_label: 0.9299, source_val_label_loss: 0.2754, target_val_acc_label: 0.9299, target_val_label_loss: 0.2744, \n",
      "=============================================================\n"
     ]
    },
    {
     "name": "stdout",
     "output_type": "stream",
     "text": [
      "epoch: 7, [batch: 1 / 1479], examples_per_second: 53.4723, train_label_loss: 0.1409, \n"
     ]
    },
    {
     "name": "stdout",
     "output_type": "stream",
     "text": [
      "epoch: 7, [batch: 148 / 1479], examples_per_second: 10529.5323, train_label_loss: 0.1316, \n"
     ]
    },
    {
     "name": "stdout",
     "output_type": "stream",
     "text": [
      "epoch: 7, [batch: 296 / 1479], examples_per_second: 10684.9120, train_label_loss: 0.1792, \n"
     ]
    },
    {
     "name": "stdout",
     "output_type": "stream",
     "text": [
      "epoch: 7, [batch: 444 / 1479], examples_per_second: 10659.2242, train_label_loss: 0.1374, \n"
     ]
    },
    {
     "name": "stdout",
     "output_type": "stream",
     "text": [
      "epoch: 7, [batch: 592 / 1479], examples_per_second: 10671.7194, train_label_loss: 0.1330, \n"
     ]
    },
    {
     "name": "stdout",
     "output_type": "stream",
     "text": [
      "epoch: 7, [batch: 740 / 1479], examples_per_second: 10671.9846, train_label_loss: 0.0463, \n"
     ]
    },
    {
     "name": "stdout",
     "output_type": "stream",
     "text": [
      "epoch: 7, [batch: 887 / 1479], examples_per_second: 10642.6279, train_label_loss: 0.1689, \n"
     ]
    },
    {
     "name": "stdout",
     "output_type": "stream",
     "text": [
      "epoch: 7, [batch: 1035 / 1479], examples_per_second: 10627.1074, train_label_loss: 0.0537, \n"
     ]
    },
    {
     "name": "stdout",
     "output_type": "stream",
     "text": [
      "epoch: 7, [batch: 1183 / 1479], examples_per_second: 10608.1125, train_label_loss: 0.1567, \n"
     ]
    },
    {
     "name": "stdout",
     "output_type": "stream",
     "text": [
      "epoch: 7, [batch: 1331 / 1479], examples_per_second: 10658.4335, train_label_loss: 0.2481, \n"
     ]
    },
    {
     "name": "stdout",
     "output_type": "stream",
     "text": [
      "=============================================================\n",
      "epoch: 7, source_val_acc_label: 0.9233, source_val_label_loss: 0.3506, target_val_acc_label: 0.9233, target_val_label_loss: 0.3517, \n",
      "=============================================================\n"
     ]
    },
    {
     "name": "stdout",
     "output_type": "stream",
     "text": [
      "epoch: 8, [batch: 1 / 1479], examples_per_second: 55.1537, train_label_loss: 0.0557, \n"
     ]
    },
    {
     "name": "stdout",
     "output_type": "stream",
     "text": [
      "epoch: 8, [batch: 148 / 1479], examples_per_second: 10559.0959, train_label_loss: 0.0826, \n"
     ]
    },
    {
     "name": "stdout",
     "output_type": "stream",
     "text": [
      "epoch: 8, [batch: 296 / 1479], examples_per_second: 10574.2180, train_label_loss: 0.1249, \n"
     ]
    },
    {
     "name": "stdout",
     "output_type": "stream",
     "text": [
      "epoch: 8, [batch: 444 / 1479], examples_per_second: 10682.3507, train_label_loss: 0.2166, \n"
     ]
    },
    {
     "name": "stdout",
     "output_type": "stream",
     "text": [
      "epoch: 8, [batch: 592 / 1479], examples_per_second: 10700.2868, train_label_loss: 0.0481, \n"
     ]
    },
    {
     "name": "stdout",
     "output_type": "stream",
     "text": [
      "epoch: 8, [batch: 740 / 1479], examples_per_second: 10611.9676, train_label_loss: 0.0647, \n"
     ]
    },
    {
     "name": "stdout",
     "output_type": "stream",
     "text": [
      "epoch: 8, [batch: 887 / 1479], examples_per_second: 10647.2512, train_label_loss: 0.1584, \n"
     ]
    },
    {
     "name": "stdout",
     "output_type": "stream",
     "text": [
      "epoch: 8, [batch: 1035 / 1479], examples_per_second: 10714.7190, train_label_loss: 0.1041, \n"
     ]
    },
    {
     "name": "stdout",
     "output_type": "stream",
     "text": [
      "epoch: 8, [batch: 1183 / 1479], examples_per_second: 10588.4530, train_label_loss: 0.1105, \n"
     ]
    },
    {
     "name": "stdout",
     "output_type": "stream",
     "text": [
      "epoch: 8, [batch: 1331 / 1479], examples_per_second: 10657.0726, train_label_loss: 0.1173, \n"
     ]
    },
    {
     "name": "stdout",
     "output_type": "stream",
     "text": [
      "=============================================================\n",
      "epoch: 8, source_val_acc_label: 0.9359, source_val_label_loss: 0.2803, target_val_acc_label: 0.9359, target_val_label_loss: 0.2809, \n",
      "=============================================================\n"
     ]
    },
    {
     "name": "stdout",
     "output_type": "stream",
     "text": [
      "Patience (3) exhausted\n"
     ]
    }
   ],
   "source": [
    "jig = Vanilla_Train_Eval_Test_Jig(\n",
    "    model=model,\n",
    "    path_to_best_model=p.BEST_MODEL_PATH,\n",
    "    device=p.device,\n",
    "    label_loss_object=torch.nn.NLLLoss(),\n",
    ")\n",
    "\n",
    "jig.train(\n",
    "    train_iterable=datasets.source.processed.train,\n",
    "    source_val_iterable=datasets.source.processed.val,\n",
    "    target_val_iterable=datasets.target.processed.val,\n",
    "    patience=p.patience,\n",
    "    num_epochs=p.n_epoch,\n",
    "    num_logs_per_epoch=p.NUM_LOGS_PER_EPOCH,\n",
    "    criteria_for_best=p.criteria_for_best\n",
    ")"
   ]
  },
  {
   "cell_type": "code",
   "execution_count": 14,
   "id": "4bc2ac17",
   "metadata": {
    "execution": {
     "iopub.execute_input": "2022-03-26T11:10:10.273373Z",
     "iopub.status.busy": "2022-03-26T11:10:10.272720Z",
     "iopub.status.idle": "2022-03-26T11:10:10.275474Z",
     "shell.execute_reply": "2022-03-26T11:10:10.275787Z"
    },
    "papermill": {
     "duration": 0.046333,
     "end_time": "2022-03-26T11:10:10.275868",
     "exception": false,
     "start_time": "2022-03-26T11:10:10.229535",
     "status": "completed"
    },
    "tags": []
   },
   "outputs": [],
   "source": [
    "total_experiment_time_secs = time.time() - start_time_secs"
   ]
  },
  {
   "cell_type": "code",
   "execution_count": 15,
   "id": "cae88f23",
   "metadata": {
    "execution": {
     "iopub.execute_input": "2022-03-26T11:10:10.367506Z",
     "iopub.status.busy": "2022-03-26T11:10:10.366602Z",
     "iopub.status.idle": "2022-03-26T11:10:34.621836Z",
     "shell.execute_reply": "2022-03-26T11:10:34.622509Z"
    },
    "papermill": {
     "duration": 24.305593,
     "end_time": "2022-03-26T11:10:34.622727",
     "exception": false,
     "start_time": "2022-03-26T11:10:10.317134",
     "status": "completed"
    },
    "tags": []
   },
   "outputs": [],
   "source": [
    "source_test_label_accuracy, source_test_label_loss = jig.test(datasets.source.processed.test)\n",
    "target_test_label_accuracy, target_test_label_loss = jig.test(datasets.target.processed.test)\n",
    "\n",
    "source_val_label_accuracy, source_val_label_loss = jig.test(datasets.source.processed.val)\n",
    "target_val_label_accuracy, target_val_label_loss = jig.test(datasets.target.processed.val)\n",
    "\n",
    "history = jig.get_history()\n",
    "\n",
    "total_epochs_trained = len(history[\"epoch_indices\"])\n",
    "\n",
    "val_dl = wrap_in_dataloader(p, Sequence_Aggregator((datasets.source.original.val, datasets.target.original.val)))\n",
    "\n",
    "confusion = confusion_by_domain_over_dataloader(model, p.device, val_dl, forward_uses_domain=False)\n",
    "per_domain_accuracy = per_domain_accuracy_from_confusion(confusion)\n",
    "\n",
    "# Add a key to per_domain_accuracy for if it was a source domain\n",
    "for domain, accuracy in per_domain_accuracy.items():\n",
    "    per_domain_accuracy[domain] = {\n",
    "        \"accuracy\": accuracy,\n",
    "        \"source?\": domain in p.domains_source\n",
    "    }\n",
    "\n",
    "# Do an independent accuracy assesment JUST TO BE SURE!\n",
    "# _source_test_label_accuracy = independent_accuracy_assesment(model, datasets.source.processed.test, p.device)\n",
    "# _target_test_label_accuracy = independent_accuracy_assesment(model, datasets.target.processed.test, p.device)\n",
    "# _source_val_label_accuracy = independent_accuracy_assesment(model, datasets.source.processed.val, p.device)\n",
    "# _target_val_label_accuracy = independent_accuracy_assesment(model, datasets.target.processed.val, p.device)\n",
    "\n",
    "# assert(_source_test_label_accuracy == source_test_label_accuracy)\n",
    "# assert(_target_test_label_accuracy == target_test_label_accuracy)\n",
    "# assert(_source_val_label_accuracy == source_val_label_accuracy)\n",
    "# assert(_target_val_label_accuracy == target_val_label_accuracy)\n",
    "\n",
    "###################################\n",
    "# Write out the results\n",
    "###################################\n",
    "\n",
    "experiment = {\n",
    "    \"experiment_name\": p.experiment_name,\n",
    "    \"parameters\": p,\n",
    "    \"results\": {\n",
    "        \"source_test_label_accuracy\": source_test_label_accuracy,\n",
    "        \"source_test_label_loss\": source_test_label_loss,\n",
    "        \"target_test_label_accuracy\": target_test_label_accuracy,\n",
    "        \"target_test_label_loss\": target_test_label_loss,\n",
    "        \"source_val_label_accuracy\": source_val_label_accuracy,\n",
    "        \"source_val_label_loss\": source_val_label_loss,\n",
    "        \"target_val_label_accuracy\": target_val_label_accuracy,\n",
    "        \"target_val_label_loss\": target_val_label_loss,\n",
    "        \"total_epochs_trained\": total_epochs_trained,\n",
    "        \"total_experiment_time_secs\": total_experiment_time_secs,\n",
    "        \"confusion\": confusion,\n",
    "        \"per_domain_accuracy\": per_domain_accuracy,\n",
    "    },\n",
    "    \"history\": history,\n",
    "    \"dataset_metrics\": get_dataset_metrics(datasets, \"cnn\"),\n",
    "}"
   ]
  },
  {
   "cell_type": "code",
   "execution_count": 16,
   "id": "74c318cf",
   "metadata": {
    "execution": {
     "iopub.execute_input": "2022-03-26T11:10:34.724358Z",
     "iopub.status.busy": "2022-03-26T11:10:34.720819Z",
     "iopub.status.idle": "2022-03-26T11:10:34.914461Z",
     "shell.execute_reply": "2022-03-26T11:10:34.914769Z"
    },
    "papermill": {
     "duration": 0.248488,
     "end_time": "2022-03-26T11:10:34.914852",
     "exception": false,
     "start_time": "2022-03-26T11:10:34.666364",
     "status": "completed"
    },
    "tags": []
   },
   "outputs": [
    {
     "data": {
      "text/plain": [
       "<AxesSubplot:title={'center':'Source Train Label Loss vs Source Val Label Loss'}, xlabel='Epoch'>"
      ]
     },
     "execution_count": 16,
     "metadata": {},
     "output_type": "execute_result"
    },
    {
     "data": {
      "image/png": "[encoded data removed]",
      "text/plain": [
       "<Figure size 1080x504 with 1 Axes>"
      ]
     },
     "metadata": {
      "needs_background": "light"
     },
     "output_type": "display_data"
    }
   ],
   "source": [
    "get_loss_curve(experiment)"
   ]
  },
  {
   "cell_type": "code",
   "execution_count": 17,
   "id": "59376601",
   "metadata": {
    "execution": {
     "iopub.execute_input": "2022-03-26T11:10:35.012490Z",
     "iopub.status.busy": "2022-03-26T11:10:35.009403Z",
     "iopub.status.idle": "2022-03-26T11:10:35.336446Z",
     "shell.execute_reply": "2022-03-26T11:10:35.336754Z"
    },
    "papermill": {
     "duration": 0.381795,
     "end_time": "2022-03-26T11:10:35.336838",
     "exception": false,
     "start_time": "2022-03-26T11:10:34.955043",
     "status": "completed"
    },
    "tags": []
   },
   "outputs": [
    {
     "data": {
      "text/plain": [
       "<AxesSubplot:title={'center':'Results'}>"
      ]
     },
     "execution_count": 17,
     "metadata": {},
     "output_type": "execute_result"
    },
    {
     "data": {
      "image/png": "[encoded data removed]",
      "text/plain": [
       "<Figure size 1080x504 with 1 Axes>"
      ]
     },
     "metadata": {
      "needs_background": "light"
     },
     "output_type": "display_data"
    }
   ],
   "source": [
    "get_results_table(experiment)"
   ]
  },
  {
   "cell_type": "code",
   "execution_count": 18,
   "id": "e80c5c98",
   "metadata": {
    "execution": {
     "iopub.execute_input": "2022-03-26T11:10:35.439119Z",
     "iopub.status.busy": "2022-03-26T11:10:35.427665Z",
     "iopub.status.idle": "2022-03-26T11:10:35.590775Z",
     "shell.execute_reply": "2022-03-26T11:10:35.591083Z"
    },
    "papermill": {
     "duration": 0.212786,
     "end_time": "2022-03-26T11:10:35.591166",
     "exception": false,
     "start_time": "2022-03-26T11:10:35.378380",
     "status": "completed"
    },
    "tags": []
   },
   "outputs": [
    {
     "data": {
      "text/plain": [
       "<AxesSubplot:title={'center':'Per Domain Accuracy'}, xlabel='domain'>"
      ]
     },
     "execution_count": 18,
     "metadata": {},
     "output_type": "execute_result"
    },
    {
     "data": {
      "image/png": "[encoded data removed]",
      "text/plain": [
       "<Figure size 1080x504 with 1 Axes>"
      ]
     },
     "metadata": {
      "needs_background": "light"
     },
     "output_type": "display_data"
    }
   ],
   "source": [
    "get_domain_accuracies(experiment)"
   ]
  },
  {
   "cell_type": "code",
   "execution_count": 19,
   "id": "086fdd10",
   "metadata": {
    "execution": {
     "iopub.execute_input": "2022-03-26T11:10:35.681535Z",
     "iopub.status.busy": "2022-03-26T11:10:35.681151Z",
     "iopub.status.idle": "2022-03-26T11:10:35.683742Z",
     "shell.execute_reply": "2022-03-26T11:10:35.684049Z"
    },
    "papermill": {
     "duration": 0.050588,
     "end_time": "2022-03-26T11:10:35.684139",
     "exception": false,
     "start_time": "2022-03-26T11:10:35.633551",
     "status": "completed"
    },
    "tags": []
   },
   "outputs": [
    {
     "name": "stdout",
     "output_type": "stream",
     "text": [
      "Source Test Label Accuracy: 0.9489907720776217 Target Test Label Accuracy: 0.9489907720776217\n",
      "Source Val Label Accuracy: 0.9456586381207256 Target Val Label Accuracy: 0.9456586381207256\n"
     ]
    }
   ],
   "source": [
    "print(\"Source Test Label Accuracy:\", experiment[\"results\"][\"source_test_label_accuracy\"], \"Target Test Label Accuracy:\", experiment[\"results\"][\"target_test_label_accuracy\"])\n",
    "print(\"Source Val Label Accuracy:\", experiment[\"results\"][\"source_val_label_accuracy\"], \"Target Val Label Accuracy:\", experiment[\"results\"][\"target_val_label_accuracy\"])"
   ]
  },
  {
   "cell_type": "code",
   "execution_count": 20,
   "id": "9f450536",
   "metadata": {
    "execution": {
     "iopub.execute_input": "2022-03-26T11:10:35.776291Z",
     "iopub.status.busy": "2022-03-26T11:10:35.775751Z",
     "iopub.status.idle": "2022-03-26T11:10:35.779434Z",
     "shell.execute_reply": "2022-03-26T11:10:35.779796Z"
    },
    "papermill": {
     "duration": 0.053011,
     "end_time": "2022-03-26T11:10:35.779878",
     "exception": false,
     "start_time": "2022-03-26T11:10:35.726867",
     "status": "completed"
    },
    "tags": [
     "experiment_json"
    ]
   },
   "outputs": [
    {
     "data": {
      "text/plain": [
       "'{\"experiment_name\": \"cnn_2:wisig\", \"parameters\": {\"experiment_name\": \"cnn_2:wisig\", \"labels\": [\"1-10\", \"1-12\", \"1-14\", \"1-16\", \"1-18\", \"1-19\", \"1-8\", \"10-11\", \"10-17\", \"10-4\", \"10-7\", \"11-1\", \"11-10\", \"11-19\", \"11-20\", \"11-4\", \"11-7\", \"12-19\", \"12-20\", \"12-7\", \"13-14\", \"13-18\", \"13-19\", \"13-20\", \"13-3\", \"13-7\", \"14-10\", \"14-11\", \"14-12\", \"14-13\", \"14-14\", \"14-19\", \"14-20\", \"14-7\", \"14-8\", \"14-9\", \"15-1\", \"15-19\", \"15-6\", \"16-1\", \"16-16\", \"16-19\", \"16-20\", \"17-10\", \"17-11\", \"18-1\", \"18-10\", \"18-11\", \"18-12\", \"18-13\", \"18-14\", \"18-15\", \"18-16\", \"18-17\", \"18-19\", \"18-2\", \"18-20\", \"18-4\", \"18-5\", \"18-7\", \"18-8\", \"18-9\", \"19-1\", \"19-10\", \"19-11\", \"19-12\", \"19-13\", \"19-14\", \"19-15\", \"19-19\", \"19-2\", \"19-20\", \"19-3\", \"19-4\", \"19-6\", \"19-7\", \"19-8\", \"19-9\", \"2-1\", \"2-13\", \"2-15\", \"2-3\", \"2-4\", \"2-5\", \"2-6\", \"2-7\", \"2-8\", \"20-1\", \"20-12\", \"20-14\", \"20-15\", \"20-16\", \"20-18\", \"20-19\", \"20-20\", \"20-3\", \"20-4\", \"20-5\", \"20-7\", \"20-8\", \"3-1\", \"3-13\", \"3-18\", \"3-2\", \"3-8\", \"4-1\", \"4-10\", \"4-11\", \"5-1\", \"5-5\", \"6-1\", \"6-15\", \"6-6\", \"7-10\", \"7-11\", \"7-12\", \"7-13\", \"7-14\", \"7-7\", \"7-8\", \"7-9\", \"8-1\", \"8-13\", \"8-14\", \"8-18\", \"8-20\", \"8-3\", \"8-8\", \"9-1\", \"9-7\"], \"domains_source\": [1, 2, 3, 4], \"domains_target\": [1, 2, 3, 4], \"pickle_name_target\": \"wisig.node3-19.stratified_ds.2022A.pkl\", \"pickle_name_source\": \"wisig.node3-19.stratified_ds.2022A.pkl\", \"device\": \"cuda\", \"lr\": 0.0001, \"batch_size\": 128, \"normalize_source\": false, \"normalize_target\": false, \"num_examples_per_domain_per_label_source\": -1, \"num_examples_per_domain_per_label_target\": -1, \"torch_default_dtype\": \"torch.float32\", \"n_epoch\": 50, \"patience\": 3, \"criteria_for_best\": \"target_accuracy\", \"x_net\": [{\"class\": \"nnReshape\", \"kargs\": {\"shape\": [-1, 1, 2, 256]}}, {\"class\": \"Conv2d\", \"kargs\": {\"in_channels\": 1, \"out_channels\": 256, \"kernel_size\": [1, 7], \"bias\": false, \"padding\": [0, 3]}}, {\"class\": \"ReLU\", \"kargs\": {\"inplace\": true}}, {\"class\": \"BatchNorm2d\", \"kargs\": {\"num_features\": 256}}, {\"class\": \"Conv2d\", \"kargs\": {\"in_channels\": 256, \"out_channels\": 80, \"kernel_size\": [2, 7], \"bias\": true, \"padding\": [0, 3]}}, {\"class\": \"ReLU\", \"kargs\": {\"inplace\": true}}, {\"class\": \"BatchNorm2d\", \"kargs\": {\"num_features\": 80}}, {\"class\": \"Flatten\", \"kargs\": {}}, {\"class\": \"Linear\", \"kargs\": {\"in_features\": 20480, \"out_features\": 256}}, {\"class\": \"ReLU\", \"kargs\": {\"inplace\": true}}, {\"class\": \"BatchNorm1d\", \"kargs\": {\"num_features\": 256}}, {\"class\": \"Linear\", \"kargs\": {\"in_features\": 256, \"out_features\": 130}}], \"NUM_LOGS_PER_EPOCH\": 10, \"BEST_MODEL_PATH\": \"./best_model.pth\", \"dataset_seed\": 420, \"seed\": 420}, \"results\": {\"source_test_label_accuracy\": 0.9489907720776217, \"source_test_label_loss\": 0.22961611805535923, \"target_test_label_accuracy\": 0.9489907720776217, \"target_test_label_loss\": 0.22955589814581603, \"source_val_label_accuracy\": 0.9456586381207256, \"source_val_label_loss\": 0.24192731556352937, \"target_val_label_accuracy\": 0.9456586381207256, \"target_val_label_loss\": 0.2422275503248542, \"total_epochs_trained\": 8, \"total_experiment_time_secs\": 180.53138756752014, \"confusion\": {\"1\": {\"84\": {\"84\": 334, \"110\": 2, \"39\": 2, \"27\": 2}, \"69\": {\"69\": 274, \"88\": 2}, \"83\": {\"83\": 74, \"36\": 2, \"108\": 2}, \"80\": {\"80\": 40, \"115\": 4}, \"127\": {\"127\": 270, \"108\": 2}, \"40\": {\"40\": 360}, \"121\": {\"121\": 82}, \"42\": {\"42\": 72}, \"98\": {\"98\": 272}, \"114\": {\"114\": 360}, \"126\": {\"126\": 336, \"39\": 2, \"108\": 2}, \"116\": {\"116\": 84, \"88\": 2, \"36\": 2}, \"86\": {\"86\": 94, \"109\": 2}, \"27\": {\"27\": 236, \"88\": 2}, \"85\": {\"85\": 84}, \"110\": {\"110\": 318, \"88\": 4, \"70\": 2, \"39\": 2, \"122\": 2}, \"26\": {\"26\": 334, \"108\": 6, \"88\": 2, \"27\": 2}, \"10\": {\"10\": 300, \"39\": 2, \"88\": 2}, \"93\": {\"93\": 386, \"43\": 14, \"10\": 2}, \"11\": {\"11\": 346}, \"3\": {\"3\": 220, \"90\": 2}, \"8\": {\"8\": 366}, \"78\": {\"78\": 4, \"70\": 32, \"39\": 4, \"109\": 2, \"43\": 6}, \"7\": {\"7\": 364, \"109\": 2}, \"108\": {\"108\": 308, \"88\": 2, \"124\": 2}, \"88\": {\"88\": 262, \"108\": 64, \"24\": 24}, \"30\": {\"30\": 126, \"108\": 2, \"70\": 4, \"88\": 2, \"10\": 2}, \"14\": {\"14\": 244}, \"31\": {\"31\": 46}, \"129\": {\"129\": 78}, \"64\": {\"64\": 46}, \"124\": {\"124\": 326}, \"33\": {\"33\": 392, \"34\": 2}, \"101\": {\"101\": 312, \"39\": 2, \"88\": 2}, \"105\": {\"105\": 212, \"15\": 2, \"109\": 2}, \"87\": {\"87\": 246, \"43\": 22, \"88\": 2, \"122\": 2}, \"82\": {\"82\": 94, \"2\": 2}, \"0\": {\"0\": 208, \"70\": 2, \"88\": 2}, \"52\": {\"52\": 54}, \"62\": {\"62\": 292, \"88\": 4, \"2\": 2, \"4\": 2, \"118\": 2}, \"16\": {\"16\": 270, \"88\": 4, \"39\": 2}, \"1\": {\"1\": 338, \"88\": 4}, \"43\": {\"43\": 320, \"109\": 2, \"88\": 2}, \"103\": {\"103\": 40, \"88\": 2, \"15\": 2}, \"118\": {\"118\": 206, \"88\": 2, \"39\": 2}, \"117\": {\"117\": 360}, \"122\": {\"122\": 220, \"88\": 4}, \"61\": {\"61\": 36, \"121\": 2}, \"47\": {\"47\": 32, \"103\": 2}, \"39\": {\"39\": 246, \"109\": 8, \"11\": 2, \"126\": 6, \"88\": 2}, \"113\": {\"88\": 4, \"113\": 302, \"101\": 2, \"39\": 2}, \"70\": {\"70\": 264, \"88\": 48, \"108\": 8, \"93\": 2}, \"107\": {\"107\": 308, \"39\": 2}, \"97\": {\"27\": 14, \"97\": 12, \"36\": 6, \"2\": 2, \"108\": 20}, \"76\": {\"76\": 46, \"88\": 2}, \"99\": {\"99\": 64}, \"125\": {\"125\": 438}, \"49\": {\"49\": 46, \"88\": 2, \"73\": 2}, \"102\": {\"102\": 306, \"108\": 2}, \"90\": {\"90\": 462, \"121\": 2}, \"111\": {\"111\": 296, \"70\": 6, \"39\": 2}, \"15\": {\"15\": 262, \"88\": 4}, \"128\": {\"128\": 68}, \"72\": {\"72\": 80}, \"123\": {\"123\": 46}, \"109\": {\"109\": 254, \"108\": 10, \"126\": 40, \"88\": 12}, \"9\": {\"9\": 80}, \"12\": {\"12\": 258, \"39\": 4, \"88\": 2}, \"32\": {\"32\": 78, \"98\": 2, \"103\": 2}, \"22\": {\"22\": 42, \"121\": 2, \"10\": 2, \"33\": 2}, \"18\": {\"18\": 312, \"88\": 2}, \"58\": {\"58\": 38}, \"106\": {\"106\": 344, \"88\": 4}, \"6\": {\"6\": 78, \"41\": 2}, \"104\": {\"104\": 42, \"88\": 2, \"103\": 2}, \"2\": {\"2\": 82}, \"68\": {\"68\": 46}, \"34\": {\"34\": 80}, \"63\": {\"63\": 44}, \"36\": {\"36\": 334, \"88\": 4, \"27\": 4}, \"44\": {\"44\": 188, \"49\": 2}, \"41\": {\"41\": 48}, \"96\": {\"96\": 48, \"49\": 4, \"121\": 2, \"119\": 2}, \"21\": {\"109\": 6, \"88\": 72, \"70\": 16, \"39\": 4, \"21\": 2, \"84\": 2}, \"73\": {\"73\": 58}, \"19\": {\"19\": 74, \"128\": 2}, \"71\": {\"71\": 268, \"8\": 2, \"88\": 2}, \"4\": {\"4\": 248, \"39\": 4, \"27\": 2}, \"24\": {\"108\": 156, \"126\": 16, \"27\": 6, \"24\": 40, \"88\": 10, \"39\": 4}, \"13\": {\"13\": 46}, \"79\": {\"79\": 36}, \"74\": {\"74\": 42, \"57\": 2}, \"94\": {\"94\": 226, \"108\": 2, \"30\": 4, \"88\": 4}, \"20\": {\"20\": 48}, \"112\": {\"112\": 46}, \"119\": {\"119\": 48}, \"75\": {\"75\": 44}, \"89\": {\"89\": 90, \"60\": 2}, \"65\": {\"65\": 34, \"82\": 2, \"73\": 2}, \"77\": {\"77\": 38, \"2\": 2}, \"28\": {\"28\": 50}, \"100\": {\"88\": 2, \"100\": 44}, \"5\": {\"5\": 226, \"36\": 2}, \"23\": {\"23\": 52, \"110\": 4, \"122\": 2, \"39\": 2}, \"95\": {\"95\": 92, \"113\": 2}, \"60\": {\"60\": 42, \"39\": 2, \"15\": 2}, \"35\": {\"35\": 32, \"101\": 2}, \"51\": {\"51\": 44}, \"53\": {\"53\": 50}, \"92\": {\"92\": 78}, \"37\": {\"37\": 44}, \"50\": {\"50\": 42}, \"54\": {\"54\": 46}, \"38\": {\"38\": 40}, \"57\": {\"57\": 38}, \"120\": {\"120\": 48, \"88\": 2}, \"56\": {\"56\": 36}, \"66\": {\"66\": 48}, \"25\": {\"25\": 40, \"88\": 2}, \"45\": {\"45\": 26, \"88\": 4}, \"48\": {\"48\": 36}, \"115\": {\"115\": 34, \"121\": 2}, \"55\": {\"55\": 34}, \"46\": {\"46\": 36}, \"81\": {\"81\": 76}, \"91\": {\"91\": 76, \"58\": 2}, \"67\": {\"67\": 42, \"73\": 2}, \"17\": {\"17\": 44}, \"29\": {\"29\": 74}, \"59\": {\"59\": 38}}, \"4\": {\"16\": {\"16\": 314, \"43\": 2, \"88\": 2}, \"9\": {\"9\": 72}, \"109\": {\"109\": 292, \"88\": 2, \"117\": 2}, \"42\": {\"42\": 72, \"2\": 2, \"126\": 2}, \"70\": {\"70\": 224, \"88\": 28, \"39\": 6, \"126\": 6, \"108\": 40, \"109\": 2, \"27\": 2, \"4\": 2}, \"5\": {\"5\": 330, \"88\": 10, \"39\": 2, \"3\": 2}, \"26\": {\"26\": 314, \"27\": 4, \"126\": 2, \"88\": 2}, \"36\": {\"36\": 246, \"27\": 40, \"88\": 10, \"39\": 4, \"24\": 26, \"126\": 2}, \"18\": {\"18\": 306, \"39\": 2}, \"24\": {\"24\": 254, \"88\": 28, \"39\": 6, \"27\": 2, \"126\": 8, \"109\": 2, \"21\": 2}, \"3\": {\"3\": 326, \"39\": 8, \"25\": 2, \"122\": 2, \"88\": 2, \"126\": 2}, \"98\": {\"98\": 298, \"44\": 2, \"61\": 2, \"90\": 2}, \"34\": {\"34\": 80, \"44\": 2}, \"60\": {\"60\": 72, \"110\": 6, \"94\": 2}, \"71\": {\"71\": 252, \"39\": 6, \"15\": 2}, \"128\": {\"128\": 64, \"52\": 2}, \"95\": {\"95\": 80, \"40\": 2, \"82\": 2, \"39\": 2}, \"114\": {\"114\": 322, \"39\": 2}, \"33\": {\"33\": 388, \"90\": 2}, \"8\": {\"10\": 2, \"8\": 358, \"27\": 2, \"88\": 2, \"122\": 2, \"98\": 2}, \"15\": {\"15\": 310, \"39\": 6, \"27\": 2, \"126\": 2, \"107\": 2, \"88\": 4, \"97\": 2}, \"44\": {\"44\": 162, \"98\": 2, \"93\": 2, \"3\": 2}, \"113\": {\"113\": 308, \"88\": 2, \"126\": 12, \"122\": 2}, \"105\": {\"105\": 234, \"39\": 6, \"70\": 2, \"126\": 2, \"88\": 6, \"111\": 2, \"109\": 2}, \"29\": {\"29\": 80}, \"84\": {\"39\": 4, \"33\": 2, \"84\": 324, \"43\": 2, \"94\": 2, \"73\": 2}, \"87\": {\"87\": 306, \"43\": 30, \"27\": 2}, \"119\": {\"119\": 44}, \"122\": {\"122\": 196, \"43\": 10, \"39\": 2, \"88\": 2, \"10\": 2}, \"118\": {\"118\": 250, \"109\": 12, \"88\": 6, \"122\": 4, \"39\": 4, \"126\": 2, \"71\": 2}, \"49\": {\"49\": 80}, \"124\": {\"124\": 302, \"125\": 2}, \"40\": {\"40\": 334, \"122\": 2, \"88\": 4, \"27\": 2, \"39\": 2}, \"88\": {\"88\": 324, \"108\": 2, \"126\": 6, \"39\": 2}, \"11\": {\"11\": 380, \"90\": 2, \"126\": 4, \"88\": 4, \"98\": 2}, \"106\": {\"106\": 274, \"87\": 2, \"88\": 12, \"122\": 2, \"82\": 2, \"39\": 4}, \"125\": {\"125\": 374, \"11\": 2, \"39\": 2, \"127\": 2}, \"127\": {\"127\": 266, \"88\": 2, \"39\": 2}, \"0\": {\"0\": 284, \"88\": 6, \"10\": 2, \"39\": 2, \"93\": 2, \"27\": 2}, \"14\": {\"14\": 276, \"21\": 4, \"2\": 2}, \"4\": {\"4\": 248, \"88\": 6, \"15\": 2, \"126\": 2, \"125\": 2}, \"120\": {\"120\": 52}, \"57\": {\"57\": 44, \"45\": 2}, \"58\": {\"58\": 44, \"94\": 2}, \"10\": {\"10\": 218, \"70\": 36, \"126\": 2, \"88\": 20, \"24\": 32, \"39\": 2}, \"30\": {\"30\": 168, \"8\": 2, \"109\": 2, \"0\": 2, \"88\": 8, \"39\": 6, \"27\": 2, \"108\": 2}, \"101\": {\"101\": 318, \"0\": 12, \"88\": 2, \"98\": 2}, \"17\": {\"17\": 52}, \"43\": {\"43\": 286, \"87\": 10, \"11\": 4, \"39\": 6}, \"1\": {\"1\": 254, \"88\": 4, \"27\": 4, \"100\": 2, \"4\": 2, \"98\": 2, \"73\": 2}, \"96\": {\"96\": 44, \"39\": 2, \"113\": 2, \"11\": 2, \"16\": 2, \"110\": 2, \"73\": 2, \"57\": 2}, \"111\": {\"111\": 352, \"90\": 2, \"126\": 2, \"88\": 2}, \"56\": {\"56\": 32, \"39\": 2}, \"117\": {\"117\": 312, \"88\": 2, \"126\": 2}, \"102\": {\"102\": 334, \"39\": 2, \"93\": 2, \"125\": 2}, \"69\": {\"69\": 318, \"126\": 4, \"108\": 2, \"39\": 2, \"88\": 2}, \"107\": {\"107\": 358, \"98\": 2, \"61\": 2}, \"82\": {\"82\": 84, \"39\": 2}, \"27\": {\"27\": 162, \"108\": 68, \"126\": 8, \"21\": 2, \"88\": 8, \"122\": 2, \"24\": 2, \"110\": 2}, \"89\": {\"89\": 80, \"88\": 2}, \"93\": {\"88\": 2, \"93\": 408, \"27\": 2, \"122\": 2, \"126\": 2, \"61\": 2}, \"7\": {\"7\": 300, \"90\": 2, \"88\": 6, \"122\": 2, \"50\": 2, \"87\": 2, \"83\": 2}, \"90\": {\"90\": 442, \"33\": 2, \"98\": 2, \"2\": 2, \"124\": 2}, \"108\": {\"108\": 218, \"126\": 10, \"88\": 6, \"39\": 2}, \"81\": {\"81\": 92, \"61\": 2, \"88\": 2}, \"39\": {\"39\": 244, \"88\": 2, \"106\": 2, \"90\": 2, \"43\": 2, \"126\": 4}, \"121\": {\"121\": 82}, \"50\": {\"50\": 46, \"33\": 2}, \"78\": {\"88\": 32, \"70\": 34, \"109\": 8, \"39\": 20, \"110\": 2}, \"21\": {\"39\": 94, \"126\": 2, \"122\": 4, \"73\": 2, \"43\": 2, \"21\": 2}, \"54\": {\"54\": 44, \"5\": 2}, \"68\": {\"68\": 44, \"88\": 2}, \"126\": {\"27\": 4, \"126\": 300, \"88\": 4, \"98\": 2, \"39\": 4, \"108\": 2, \"21\": 2}, \"2\": {\"2\": 76}, \"52\": {\"52\": 50, \"88\": 2}, \"13\": {\"13\": 44}, \"12\": {\"12\": 250, \"109\": 2, \"88\": 4}, \"83\": {\"83\": 66, \"98\": 2, \"73\": 2, \"82\": 2, \"50\": 2}, \"55\": {\"55\": 44}, \"129\": {\"129\": 74}, \"94\": {\"94\": 206, \"36\": 4, \"93\": 4, \"88\": 4, \"27\": 2}, \"62\": {\"62\": 130, \"39\": 10, \"27\": 2, \"88\": 10, \"43\": 2, \"21\": 2}, \"79\": {\"79\": 44}, \"92\": {\"92\": 64, \"89\": 4, \"90\": 2, \"126\": 2}, \"72\": {\"72\": 78, \"82\": 2}, \"110\": {\"110\": 308, \"39\": 4, \"88\": 2, \"70\": 4, \"122\": 4, \"8\": 2, \"1\": 2, \"27\": 2}, \"28\": {\"28\": 50, \"74\": 2}, \"51\": {\"51\": 26, \"122\": 2, \"88\": 2, \"39\": 8, \"109\": 2}, \"97\": {\"97\": 12, \"24\": 20, \"27\": 2, \"88\": 20, \"73\": 2}, \"103\": {\"103\": 46, \"88\": 2}, \"20\": {\"20\": 44, \"88\": 2, \"24\": 2}, \"38\": {\"38\": 42}, \"116\": {\"116\": 74}, \"86\": {\"86\": 70, \"88\": 2}, \"100\": {\"100\": 46, \"88\": 2, \"1\": 2}, \"6\": {\"6\": 66}, \"25\": {\"25\": 48}, \"19\": {\"19\": 70, \"2\": 2, \"57\": 2}, \"64\": {\"64\": 44, \"88\": 2}, \"22\": {\"22\": 46}, \"59\": {\"59\": 36, \"6\": 2}, \"73\": {\"73\": 54, \"47\": 2, \"89\": 2, \"109\": 2}, \"48\": {\"48\": 44, \"1\": 2}, \"112\": {\"112\": 46, \"73\": 2}, \"99\": {\"99\": 96, \"88\": 2, \"11\": 2, \"60\": 2}, \"91\": {\"91\": 62, \"103\": 2}, \"74\": {\"74\": 42, \"126\": 2}, \"76\": {\"76\": 44}, \"53\": {\"53\": 48}, \"80\": {\"44\": 2, \"80\": 38}, \"77\": {\"77\": 36}, \"115\": {\"115\": 36, \"108\": 2, \"90\": 2}, \"23\": {\"88\": 4, \"122\": 4, \"39\": 4, \"23\": 18, \"89\": 2, \"8\": 2, \"69\": 2, \"126\": 4}, \"85\": {\"85\": 70, \"88\": 4, \"126\": 2}, \"63\": {\"63\": 48}, \"61\": {\"61\": 44, \"126\": 2}, \"32\": {\"32\": 72}, \"104\": {\"104\": 46}, \"31\": {\"31\": 48}, \"66\": {\"66\": 46}, \"123\": {\"123\": 44}, \"67\": {\"67\": 44, \"33\": 2}, \"37\": {\"37\": 46, \"108\": 2}, \"46\": {\"46\": 50}, \"41\": {\"88\": 2, \"41\": 46}, \"65\": {\"65\": 38}, \"45\": {\"45\": 44}, \"35\": {\"35\": 34}, \"75\": {\"75\": 40}, \"47\": {\"47\": 36, \"41\": 2}}, \"2\": {\"122\": {\"122\": 344, \"43\": 4, \"88\": 4, \"87\": 2}, \"94\": {\"39\": 10, \"94\": 138, \"88\": 2, \"122\": 2, \"27\": 4, \"51\": 2, \"8\": 2, \"82\": 2}, \"102\": {\"102\": 308, \"90\": 2, \"39\": 4}, \"43\": {\"43\": 294, \"88\": 12, \"87\": 4, \"126\": 2}, \"96\": {\"96\": 52, \"60\": 2, \"43\": 2}, \"23\": {\"23\": 108, \"87\": 2, \"88\": 6, \"70\": 2}, \"33\": {\"33\": 364, \"39\": 2, \"88\": 4}, \"22\": {\"22\": 50}, \"90\": {\"90\": 474, \"125\": 2}, \"105\": {\"105\": 320, \"88\": 8, \"126\": 2}, \"44\": {\"44\": 254, \"3\": 2, \"20\": 2}, \"111\": {\"111\": 354, \"126\": 2, \"94\": 2, \"88\": 2}, \"36\": {\"36\": 298, \"126\": 2, \"27\": 14, \"88\": 2, \"39\": 8}, \"101\": {\"101\": 396, \"88\": 2, \"0\": 2}, \"2\": {\"2\": 78, \"36\": 2}, \"18\": {\"18\": 310, \"88\": 10, \"39\": 2}, \"57\": {\"57\": 46, \"2\": 2, \"124\": 2}, \"12\": {\"12\": 210, \"88\": 10, \"126\": 2}, \"97\": {\"97\": 50, \"15\": 4, \"8\": 2}, \"114\": {\"114\": 278, \"88\": 6, \"39\": 4, \"8\": 2, \"36\": 2, \"27\": 2}, \"104\": {\"104\": 54, \"17\": 2}, \"55\": {\"55\": 48}, \"40\": {\"40\": 336, \"88\": 14, \"39\": 2, \"122\": 2, \"27\": 2}, \"39\": {\"39\": 276, \"88\": 6, \"36\": 2, \"109\": 4}, \"16\": {\"16\": 292, \"88\": 6, \"122\": 2, \"110\": 8, \"39\": 2}, \"3\": {\"3\": 336, \"44\": 2, \"88\": 8}, \"118\": {\"118\": 156, \"88\": 6, \"126\": 2, \"109\": 2, \"43\": 2, \"90\": 2, \"27\": 2}, \"98\": {\"98\": 302, \"124\": 2, \"39\": 2}, \"8\": {\"8\": 314, \"90\": 2, \"113\": 2, \"88\": 2, \"39\": 2}, \"125\": {\"125\": 412}, \"69\": {\"69\": 338, \"88\": 14, \"8\": 2, \"39\": 2}, \"71\": {\"71\": 240, \"39\": 6, \"88\": 8, \"36\": 2, \"27\": 2}, \"63\": {\"63\": 52}, \"38\": {\"38\": 44}, \"106\": {\"106\": 294, \"108\": 2, \"39\": 4, \"88\": 4}, \"11\": {\"11\": 194, \"126\": 2, \"39\": 4, \"88\": 4, \"66\": 2}, \"88\": {\"88\": 284, \"126\": 6, \"108\": 2, \"39\": 16, \"109\": 4}, \"14\": {\"14\": 112, \"88\": 6, \"39\": 4, \"72\": 2}, \"74\": {\"74\": 46, \"57\": 2}, \"29\": {\"29\": 88}, \"116\": {\"116\": 72, \"124\": 2}, \"99\": {\"99\": 80, \"126\": 2}, \"76\": {\"76\": 46, \"88\": 2}, \"24\": {\"24\": 180, \"39\": 6, \"88\": 86, \"126\": 8}, \"4\": {\"4\": 218, \"2\": 2, \"88\": 4, \"8\": 2, \"39\": 2}, \"6\": {\"6\": 84}, \"15\": {\"15\": 282, \"88\": 14, \"126\": 2, \"27\": 2, \"39\": 2}, \"0\": {\"0\": 286, \"88\": 4, \"8\": 2, \"126\": 2, \"4\": 2}, \"66\": {\"66\": 48, \"120\": 2}, \"117\": {\"117\": 296, \"39\": 4, \"88\": 2}, \"100\": {\"20\": 2, \"100\": 46}, \"10\": {\"10\": 148, \"88\": 4, \"27\": 2, \"109\": 2}, \"87\": {\"87\": 190, \"43\": 58, \"11\": 6, \"39\": 14, \"88\": 8, \"70\": 2, \"8\": 2, \"27\": 2, \"126\": 2, \"113\": 2}, \"108\": {\"108\": 348, \"88\": 2, \"127\": 2}, \"83\": {\"83\": 100}, \"62\": {\"62\": 326, \"88\": 18, \"27\": 4, \"86\": 2}, \"93\": {\"93\": 406, \"126\": 2, \"88\": 4, \"110\": 2, \"1\": 2, \"39\": 2}, \"82\": {\"82\": 88, \"39\": 2}, \"68\": {\"68\": 46}, \"21\": {\"39\": 76, \"88\": 34, \"109\": 2, \"126\": 2, \"27\": 6, \"21\": 4}, \"91\": {\"91\": 64, \"29\": 2, \"88\": 4}, \"45\": {\"45\": 46, \"98\": 2}, \"124\": {\"124\": 314}, \"113\": {\"113\": 180, \"27\": 2, \"88\": 4, \"126\": 2}, \"41\": {\"41\": 48, \"109\": 2}, \"1\": {\"1\": 312, \"39\": 2}, \"26\": {\"26\": 344, \"88\": 10, \"126\": 2, \"39\": 2}, \"128\": {\"128\": 64}, \"126\": {\"126\": 298, \"88\": 2}, \"54\": {\"54\": 54}, \"19\": {\"19\": 76, \"15\": 2}, \"5\": {\"5\": 276, \"27\": 2, \"88\": 4, \"39\": 2}, \"25\": {\"25\": 42}, \"70\": {\"88\": 16, \"70\": 226, \"109\": 46, \"39\": 20, \"108\": 2, \"98\": 2}, \"59\": {\"59\": 36, \"88\": 4}, \"42\": {\"42\": 70, \"88\": 2}, \"81\": {\"81\": 64, \"120\": 2}, \"109\": {\"109\": 232, \"126\": 4, \"39\": 8, \"92\": 2, \"65\": 2, \"27\": 2}, \"37\": {\"37\": 46, \"88\": 2}, \"31\": {\"31\": 50, \"73\": 2}, \"86\": {\"86\": 86}, \"110\": {\"110\": 106, \"88\": 2}, \"112\": {\"112\": 46, \"110\": 2}, \"77\": {\"77\": 48}, \"107\": {\"107\": 158, \"110\": 2, \"39\": 2, \"109\": 2, \"1\": 2, \"88\": 2}, \"7\": {\"7\": 330, \"39\": 4, \"88\": 2}, \"30\": {\"30\": 270, \"88\": 2, \"125\": 2, \"39\": 2, \"8\": 2, \"109\": 2, \"93\": 2}, \"127\": {\"127\": 306, \"88\": 4, \"27\": 2}, \"73\": {\"73\": 70, \"30\": 2, \"19\": 2}, \"72\": {\"72\": 72, \"88\": 4, \"39\": 2}, \"9\": {\"9\": 86, \"94\": 2}, \"34\": {\"34\": 84}, \"121\": {\"121\": 88, \"88\": 2}, \"32\": {\"32\": 90, \"31\": 2}, \"60\": {\"60\": 72, \"88\": 2, \"110\": 4}, \"47\": {\"47\": 30, \"109\": 2, \"128\": 2, \"52\": 2, \"101\": 2}, \"89\": {\"89\": 90, \"26\": 2, \"117\": 2, \"82\": 2, \"65\": 2}, \"129\": {\"129\": 80}, \"51\": {\"51\": 46, \"58\": 2, \"88\": 2}, \"84\": {\"84\": 222, \"88\": 12, \"98\": 2}, \"92\": {\"92\": 66, \"39\": 4, \"88\": 2}, \"61\": {\"61\": 46, \"88\": 2, \"5\": 2}, \"65\": {\"65\": 54}, \"67\": {\"67\": 48}, \"120\": {\"73\": 2, \"120\": 48}, \"17\": {\"17\": 36, \"88\": 10, \"50\": 2}, \"35\": {\"35\": 34, \"89\": 2}, \"119\": {\"119\": 50, \"90\": 2, \"29\": 2}, \"49\": {\"49\": 50, \"73\": 6, \"88\": 6}, \"78\": {\"78\": 48, \"109\": 10, \"70\": 56, \"39\": 8, \"88\": 2, \"36\": 2}, \"50\": {\"50\": 38, \"88\": 2, \"17\": 2, \"126\": 2}, \"52\": {\"52\": 48, \"51\": 2, \"73\": 2}, \"85\": {\"85\": 80, \"88\": 6}, \"27\": {\"88\": 16, \"24\": 4, \"27\": 146, \"36\": 6, \"109\": 2, \"126\": 2, \"39\": 2}, \"28\": {\"28\": 48, \"88\": 4, \"27\": 2}, \"48\": {\"48\": 50}, \"95\": {\"95\": 86, \"88\": 2, \"105\": 2, \"73\": 2}, \"46\": {\"46\": 44, \"5\": 2, \"88\": 2}, \"75\": {\"75\": 46, \"39\": 2}, \"58\": {\"58\": 54}, \"56\": {\"56\": 34}, \"20\": {\"20\": 46, \"27\": 2}, \"64\": {\"38\": 4, \"64\": 40, \"88\": 4}, \"53\": {\"53\": 48}, \"13\": {\"13\": 42, \"88\": 2, \"36\": 2}, \"123\": {\"123\": 44, \"103\": 2}, \"80\": {\"80\": 38, \"124\": 2}, \"79\": {\"79\": 40}, \"115\": {\"115\": 38}, \"103\": {\"103\": 48}}, \"3\": {\"79\": {\"79\": 36, \"86\": 2}, \"125\": {\"125\": 316, \"66\": 2, \"71\": 2}, \"116\": {\"116\": 76}, \"106\": {\"106\": 252, \"27\": 2, \"21\": 2, \"39\": 2}, \"69\": {\"69\": 208, \"1\": 2, \"39\": 2, \"36\": 2, \"122\": 2, \"110\": 2}, \"14\": {\"14\": 206}, \"32\": {\"32\": 80, \"124\": 2}, \"4\": {\"4\": 240, \"39\": 2, \"110\": 2, \"125\": 2}, \"33\": {\"33\": 392}, \"26\": {\"26\": 332, \"39\": 2}, \"7\": {\"39\": 4, \"7\": 276, \"117\": 2, \"108\": 2, \"36\": 2}, \"73\": {\"73\": 100, \"88\": 2, \"12\": 2}, \"90\": {\"90\": 466, \"125\": 2}, \"97\": {\"97\": 52, \"15\": 4}, \"107\": {\"107\": 364, \"114\": 2}, \"41\": {\"41\": 44}, \"93\": {\"93\": 410, \"124\": 2, \"125\": 2}, \"124\": {\"124\": 312}, \"18\": {\"18\": 324, \"21\": 2, \"39\": 4}, \"43\": {\"43\": 120, \"39\": 20}, \"87\": {\"87\": 296, \"43\": 4, \"39\": 6}, \"110\": {\"110\": 222, \"122\": 2, \"10\": 2, \"21\": 4, \"39\": 2, \"43\": 2, \"0\": 2}, \"114\": {\"114\": 324, \"71\": 2, \"90\": 2}, \"72\": {\"72\": 74, \"41\": 2}, \"113\": {\"113\": 294, \"90\": 2, \"73\": 2, \"126\": 2}, \"88\": {\"88\": 278, \"109\": 2, \"108\": 2}, \"129\": {\"129\": 84}, \"122\": {\"122\": 146, \"88\": 2, \"43\": 6}, \"81\": {\"81\": 80, \"50\": 2, \"117\": 4}, \"127\": {\"127\": 318, \"39\": 2, \"88\": 2}, \"5\": {\"5\": 278, \"126\": 2, \"122\": 2, \"27\": 2}, \"101\": {\"101\": 120, \"39\": 4, \"70\": 2, \"126\": 2, \"21\": 4, \"0\": 2, \"124\": 2}, \"75\": {\"75\": 44}, \"16\": {\"16\": 294, \"108\": 2, \"43\": 2}, \"98\": {\"98\": 328}, \"103\": {\"103\": 46, \"124\": 2}, \"8\": {\"8\": 334, \"39\": 6, \"108\": 2, \"122\": 2}, \"15\": {\"15\": 256, \"88\": 2, \"43\": 2, \"39\": 2}, \"121\": {\"121\": 76, \"90\": 2, \"93\": 2}, \"1\": {\"1\": 264, \"21\": 2, \"39\": 4, \"44\": 2, \"110\": 2, \"88\": 2}, \"70\": {\"88\": 20, \"70\": 146, \"109\": 10, \"126\": 6, \"113\": 2, \"108\": 2, \"27\": 2}, \"118\": {\"109\": 26, \"118\": 224, \"39\": 2, \"122\": 2}, \"3\": {\"3\": 290, \"36\": 2, \"109\": 2, \"70\": 4}, \"94\": {\"94\": 208, \"106\": 2, \"39\": 2}, \"10\": {\"10\": 320, \"110\": 2, \"39\": 2}, \"62\": {\"62\": 310, \"21\": 2, \"10\": 2, \"5\": 2, \"98\": 2}, \"52\": {\"52\": 48}, \"30\": {\"30\": 204, \"109\": 2, \"39\": 2, \"10\": 2, \"90\": 2, \"1\": 2, \"73\": 2}, \"12\": {\"12\": 258, \"110\": 2, \"43\": 2}, \"84\": {\"84\": 262, \"21\": 2, \"73\": 2, \"109\": 2, \"88\": 2}, \"91\": {\"91\": 66}, \"108\": {\"108\": 354, \"21\": 2, \"8\": 2}, \"39\": {\"39\": 262, \"126\": 6, \"21\": 4}, \"119\": {\"119\": 48}, \"105\": {\"105\": 310, \"127\": 2, \"88\": 2}, \"109\": {\"109\": 322}, \"2\": {\"2\": 74}, \"21\": {\"39\": 86, \"21\": 2, \"88\": 18, \"109\": 6, \"24\": 2, \"73\": 2, \"10\": 2, \"94\": 2, \"15\": 2, \"84\": 2, \"8\": 2, \"124\": 2}, \"35\": {\"89\": 2, \"35\": 32}, \"17\": {\"17\": 32, \"39\": 6, \"122\": 2, \"109\": 2}, \"76\": {\"76\": 44}, \"0\": {\"0\": 284, \"30\": 2, \"70\": 2, \"88\": 2}, \"11\": {\"11\": 370, \"108\": 6, \"122\": 4, \"36\": 2}, \"111\": {\"111\": 326, \"51\": 2, \"109\": 4, \"42\": 2}, \"40\": {\"40\": 314, \"105\": 2, \"110\": 4, \"39\": 4}, \"92\": {\"92\": 78, \"125\": 2, \"88\": 2, \"82\": 2}, \"102\": {\"102\": 316, \"125\": 2}, \"27\": {\"27\": 188, \"88\": 8, \"24\": 28, \"39\": 6, \"108\": 8, \"109\": 2, \"126\": 2, \"73\": 2}, \"117\": {\"117\": 286}, \"85\": {\"85\": 90, \"73\": 2}, \"71\": {\"4\": 2, \"71\": 162, \"108\": 2, \"69\": 4, \"3\": 2}, \"60\": {\"60\": 72, \"93\": 2}, \"86\": {\"86\": 76, \"4\": 2}, \"67\": {\"67\": 42, \"2\": 2}, \"34\": {\"34\": 74, \"32\": 2, \"75\": 2, \"88\": 2}, \"96\": {\"96\": 52, \"126\": 2}, \"126\": {\"126\": 306, \"39\": 6, \"21\": 2, \"10\": 2, \"109\": 2}, \"66\": {\"66\": 48}, \"83\": {\"83\": 68}, \"46\": {\"46\": 46}, \"78\": {\"70\": 24, \"39\": 4, \"78\": 12, \"109\": 6, \"110\": 2}, \"9\": {\"9\": 80}, \"42\": {\"42\": 74}, \"115\": {\"115\": 42}, \"29\": {\"29\": 80, \"124\": 2, \"25\": 2}, \"51\": {\"51\": 46, \"15\": 2}, \"44\": {\"44\": 174, \"90\": 8}, \"36\": {\"36\": 230, \"27\": 84, \"113\": 2, \"24\": 6, \"110\": 2, \"88\": 4}, \"89\": {\"89\": 78}, \"63\": {\"63\": 42}, \"24\": {\"24\": 120, \"126\": 2, \"88\": 2, \"27\": 2}, \"23\": {\"23\": 86}, \"77\": {\"77\": 48}, \"45\": {\"45\": 44}, \"49\": {\"49\": 62, \"90\": 2}, \"80\": {\"90\": 2, \"80\": 38}, \"13\": {\"13\": 38, \"88\": 2}, \"54\": {\"54\": 46, \"103\": 2}, \"48\": {\"48\": 44}, \"37\": {\"37\": 46, \"108\": 2}, \"6\": {\"6\": 84, \"125\": 2}, \"56\": {\"56\": 30, \"73\": 2, \"66\": 2}, \"50\": {\"50\": 48}, \"95\": {\"95\": 78, \"92\": 2}, \"58\": {\"58\": 44, \"10\": 2}, \"20\": {\"20\": 46}, \"128\": {\"128\": 78, \"109\": 2}, \"123\": {\"123\": 42}, \"99\": {\"99\": 98}, \"25\": {\"25\": 44}, \"47\": {\"47\": 32}, \"82\": {\"82\": 72, \"109\": 2}, \"112\": {\"2\": 2, \"112\": 44, \"70\": 2}, \"65\": {\"65\": 36}, \"38\": {\"38\": 40, \"82\": 2, \"40\": 2}, \"19\": {\"19\": 80}, \"31\": {\"31\": 48, \"33\": 2}, \"74\": {\"74\": 44}, \"61\": {\"61\": 46, \"56\": 2}, \"28\": {\"28\": 46, \"39\": 2}, \"64\": {\"64\": 48, \"93\": 2}, \"100\": {\"100\": 48}, \"68\": {\"68\": 38, \"73\": 2}, \"22\": {\"22\": 46, \"39\": 2}, \"53\": {\"53\": 48, \"88\": 2}, \"55\": {\"55\": 48}, \"59\": {\"59\": 34}, \"104\": {\"104\": 44}, \"120\": {\"120\": 52}, \"57\": {\"57\": 52}}}, \"per_domain_accuracy\": {\"1\": {\"accuracy\": 0.9546308194128694, \"source?\": true}, \"4\": {\"accuracy\": 0.9323526565373077, \"source?\": true}, \"2\": {\"accuracy\": 0.9380801896109027, \"source?\": true}, \"3\": {\"accuracy\": 0.9582822085889571, \"source?\": true}}}, \"history\": {\"epoch_indices\": [1, 2, 3, 4, 5, 6, 7, 8], \"train_label_loss\": [1.3255038780888808, 0.31705352528986697, 0.22036791856301807, 0.1769491006646046, 0.15488954847571493, 0.19354657454641588, 0.14323416159836483, 0.13539514103759537], \"source_val_label_loss\": [0.4199188351159609, 0.36410879107970223, 0.2765749173969785, 0.24146603185188356, 2.202248961676525, 0.27537128229071445, 0.3505793981537034, 0.28030158456745025], \"target_val_label_loss\": [0.4191411566225034, 0.3645231664840934, 0.27669432089675833, 0.24143656247436907, 2.199857158374183, 0.2743913270533085, 0.35165629917873614, 0.280918491485564], \"source_val_acc_label\": [0.9177569630290415, 0.9125037169194172, 0.9333928040440084, 0.9456586381207256, 0.7889780949549013, 0.9299236792546337, 0.9232827832292596, 0.9358707503221331], \"target_val_acc_label\": [0.9177569630290415, 0.9125037169194172, 0.9333928040440084, 0.9456586381207256, 0.7889780949549013, 0.9299236792546337, 0.9232827832292596, 0.9358707503221331]}, \"dataset_metrics\": {\"source\": {\"train\": {\"n_unique_x\": 189189, \"n_unique_y\": 130, \"n_batch/episode\": 1479}, \"val\": {\"n_unique_x\": 40356, \"n_unique_y\": 130, \"n_batch/episode\": 316}, \"test\": {\"n_unique_x\": 41071, \"n_unique_y\": 130, \"n_batch/episode\": 321}}, \"target\": {\"train\": {\"n_unique_x\": 189189, \"n_unique_y\": 130, \"n_batch/episode\": 1479}, \"val\": {\"n_unique_x\": 40356, \"n_unique_y\": 130, \"n_batch/episode\": 316}, \"test\": {\"n_unique_x\": 41071, \"n_unique_y\": 130, \"n_batch/episode\": 321}}}}'"
      ]
     },
     "execution_count": 20,
     "metadata": {},
     "output_type": "execute_result"
    }
   ],
   "source": [
    "json.dumps(experiment)"
   ]
  }
 ],
 "metadata": {
  "celltoolbar": "Tags",
  "kernelspec": {
   "display_name": "Python 3 (ipykernel)",
   "language": "python",
   "name": "python3"
  },
  "language_info": {
   "codemirror_mode": {
    "name": "ipython",
    "version": 3
   },
   "file_extension": ".py",
   "mimetype": "text/x-python",
   "name": "python",
   "nbconvert_exporter": "python",
   "pygments_lexer": "ipython3",
   "version": "3.8.12"
  },
  "papermill": {
   "default_parameters": {},
   "duration": 211.570014,
   "end_time": "2022-03-26T11:10:38.833270",
   "environment_variables": {},
   "exception": null,
   "input_path": "/root/csc500-main/csc500-notebooks/templates/cnn_template.ipynb",
   "output_path": "trial.ipynb",
   "parameters": {
    "parameters": {
     "BEST_MODEL_PATH": "./best_model.pth",
     "NUM_LOGS_PER_EPOCH": 10,
     "batch_size": 128,
     "criteria_for_best": "target_accuracy",
     "dataset_seed": 420,
     "device": "cuda",
     "domains_source": [
      1,
      2,
      3,
      4
     ],
     "domains_target": [
      1,
      2,
      3,
      4
     ],
     "experiment_name": "cnn_2:wisig",
     "labels": [
      "1-10",
      "1-12",
      "1-14",
      "1-16",
      "1-18",
      "1-19",
      "1-8",
      "10-11",
      "10-17",
      "10-4",
      "10-7",
      "11-1",
      "11-10",
      "11-19",
      "11-20",
      "11-4",
      "11-7",
      "12-19",
      "12-20",
      "12-7",
      "13-14",
      "13-18",
      "13-19",
      "13-20",
      "13-3",
      "13-7",
      "14-10",
      "14-11",
      "14-12",
      "14-13",
      "14-14",
      "14-19",
      "14-20",
      "14-7",
      "14-8",
      "14-9",
      "15-1",
      "15-19",
      "15-6",
      "16-1",
      "16-16",
      "16-19",
      "16-20",
      "17-10",
      "17-11",
      "18-1",
      "18-10",
      "18-11",
      "18-12",
      "18-13",
      "18-14",
      "18-15",
      "18-16",
      "18-17",
      "18-19",
      "18-2",
      "18-20",
      "18-4",
      "18-5",
      "18-7",
      "18-8",
      "18-9",
      "19-1",
      "19-10",
      "19-11",
      "19-12",
      "19-13",
      "19-14",
      "19-15",
      "19-19",
      "19-2",
      "19-20",
      "19-3",
      "19-4",
      "19-6",
      "19-7",
      "19-8",
      "19-9",
      "2-1",
      "2-13",
      "2-15",
      "2-3",
      "2-4",
      "2-5",
      "2-6",
      "2-7",
      "2-8",
      "20-1",
      "20-12",
      "20-14",
      "20-15",
      "20-16",
      "20-18",
      "20-19",
      "20-20",
      "20-3",
      "20-4",
      "20-5",
      "20-7",
      "20-8",
      "3-1",
      "3-13",
      "3-18",
      "3-2",
      "3-8",
      "4-1",
      "4-10",
      "4-11",
      "5-1",
      "5-5",
      "6-1",
      "6-15",
      "6-6",
      "7-10",
      "7-11",
      "7-12",
      "7-13",
      "7-14",
      "7-7",
      "7-8",
      "7-9",
      "8-1",
      "8-13",
      "8-14",
      "8-18",
      "8-20",
      "8-3",
      "8-8",
      "9-1",
      "9-7"
     ],
     "lr": 0.0001,
     "n_epoch": 50,
     "normalize_source": false,
     "normalize_target": false,
     "num_examples_per_domain_per_label_source": -1,
     "num_examples_per_domain_per_label_target": -1,
     "patience": 3,
     "pickle_name_source": "wisig.node3-19.stratified_ds.2022A.pkl",
     "pickle_name_target": "wisig.node3-19.stratified_ds.2022A.pkl",
     "seed": 420,
     "torch_default_dtype": "torch.float32",
     "x_net": [
      {
       "class": "nnReshape",
       "kargs": {
        "shape": [
         -1,
         1,
         2,
         256
        ]
       }
      },
      {
       "class": "Conv2d",
       "kargs": {
        "bias": false,
        "in_channels": 1,
        "kernel_size": [
         1,
         7
        ],
        "out_channels": 256,
        "padding": [
         0,
         3
        ]
       }
      },
      {
       "class": "ReLU",
       "kargs": {
        "inplace": true
       }
      },
      {
       "class": "BatchNorm2d",
       "kargs": {
        "num_features": 256
       }
      },
      {
       "class": "Conv2d",
       "kargs": {
        "bias": true,
        "in_channels": 256,
        "kernel_size": [
         2,
         7
        ],
        "out_channels": 80,
        "padding": [
         0,
         3
        ]
       }
      },
      {
       "class": "ReLU",
       "kargs": {
        "inplace": true
       }
      },
      {
       "class": "BatchNorm2d",
       "kargs": {
        "num_features": 80
       }
      },
      {
       "class": "Flatten",
       "kargs": {}
      },
      {
       "class": "Linear",
       "kargs": {
        "in_features": 20480,
        "out_features": 256
       }
      },
      {
       "class": "ReLU",
       "kargs": {
        "inplace": true
       }
      },
      {
       "class": "BatchNorm1d",
       "kargs": {
        "num_features": 256
       }
      },
      {
       "class": "Linear",
       "kargs": {
        "in_features": 256,
        "out_features": 130
       }
      }
     ]
    }
   },
   "start_time": "2022-03-26T11:07:07.263256",
   "version": "2.3.4"
  }
 },
 "nbformat": 4,
 "nbformat_minor": 5
}