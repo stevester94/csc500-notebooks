{
 "cells": [
  {
   "cell_type": "code",
   "execution_count": 1,
   "id": "2324682e",
   "metadata": {
    "execution": {
     "iopub.execute_input": "2022-03-26T11:24:53.641012Z",
     "iopub.status.busy": "2022-03-26T11:24:53.640167Z",
     "iopub.status.idle": "2022-03-26T11:24:55.061089Z",
     "shell.execute_reply": "2022-03-26T11:24:55.060136Z"
    },
    "papermill": {
     "duration": 1.457661,
     "end_time": "2022-03-26T11:24:55.061310",
     "exception": false,
     "start_time": "2022-03-26T11:24:53.603649",
     "status": "completed"
    },
    "tags": []
   },
   "outputs": [],
   "source": [
    "import os, json, sys, time, random\n",
    "import numpy as np\n",
    "import torch\n",
    "from  easydict import EasyDict\n",
    "from math import floor\n",
    "from easydict import EasyDict\n",
    "\n",
    "from steves_utils.vanilla_train_eval_test_jig import  Vanilla_Train_Eval_Test_Jig\n",
    "\n",
    "from steves_utils.torch_utils import get_dataset_metrics, independent_accuracy_assesment\n",
    "from steves_models.configurable_vanilla import Configurable_Vanilla\n",
    "from steves_utils.torch_sequential_builder import build_sequential\n",
    "from steves_utils.lazy_map import Lazy_Map\n",
    "from steves_utils.sequence_aggregator import Sequence_Aggregator\n",
    "\n",
    "from steves_utils.stratified_dataset.traditional_accessor import Traditional_Accessor_Factory\n",
    "\n",
    "from steves_utils.cnn_do_report import (\n",
    "    get_loss_curve,\n",
    "    get_results_table,\n",
    "    get_parameters_table,\n",
    "    get_domain_accuracies,\n",
    ")\n",
    "\n",
    "from steves_utils.torch_utils import (\n",
    "    confusion_by_domain_over_dataloader,\n",
    "    independent_accuracy_assesment\n",
    ")\n",
    "\n",
    "from steves_utils.utils_v2 import (\n",
    "    per_domain_accuracy_from_confusion,\n",
    "    get_datasets_base_path\n",
    ")\n",
    "\n",
    "# from steves_utils.ptn_do_report import TBD"
   ]
  },
  {
   "cell_type": "code",
   "execution_count": 2,
   "id": "1b29e3fe",
   "metadata": {
    "execution": {
     "iopub.execute_input": "2022-03-26T11:24:55.102343Z",
     "iopub.status.busy": "2022-03-26T11:24:55.101690Z",
     "iopub.status.idle": "2022-03-26T11:24:55.104469Z",
     "shell.execute_reply": "2022-03-26T11:24:55.105342Z"
    },
    "papermill": {
     "duration": 0.023372,
     "end_time": "2022-03-26T11:24:55.105587",
     "exception": false,
     "start_time": "2022-03-26T11:24:55.082215",
     "status": "completed"
    },
    "tags": []
   },
   "outputs": [],
   "source": [
    "required_parameters = {\n",
    "    \"experiment_name\",\n",
    "    \"lr\",\n",
    "    \"device\",\n",
    "    \"dataset_seed\",\n",
    "    \"seed\",\n",
    "    \"labels\",\n",
    "    \"domains_target\",\n",
    "    \"domains_source\",\n",
    "    \"num_examples_per_domain_per_label_source\",\n",
    "    \"num_examples_per_domain_per_label_target\",\n",
    "    \"batch_size\",\n",
    "    \"n_epoch\",\n",
    "    \"patience\",\n",
    "    \"criteria_for_best\",\n",
    "    \"normalize_source\",\n",
    "    \"normalize_target\",\n",
    "    \"x_net\",\n",
    "    \"NUM_LOGS_PER_EPOCH\",\n",
    "    \"BEST_MODEL_PATH\",\n",
    "    \"pickle_name_source\",\n",
    "    \"pickle_name_target\",\n",
    "    \"torch_default_dtype\",\n",
    "}"
   ]
  },
  {
   "cell_type": "code",
   "execution_count": 3,
   "id": "670b5fb8",
   "metadata": {
    "execution": {
     "iopub.execute_input": "2022-03-26T11:24:55.155507Z",
     "iopub.status.busy": "2022-03-26T11:24:55.154601Z",
     "iopub.status.idle": "2022-03-26T11:24:55.163326Z",
     "shell.execute_reply": "2022-03-26T11:24:55.162512Z"
    },
    "papermill": {
     "duration": 0.036375,
     "end_time": "2022-03-26T11:24:55.163481",
     "exception": false,
     "start_time": "2022-03-26T11:24:55.127106",
     "status": "completed"
    },
    "tags": [
     "parameters"
    ]
   },
   "outputs": [],
   "source": [
    "from steves_utils.ORACLE.utils_v2 import (\n",
    "    ALL_SERIAL_NUMBERS,\n",
    "    ALL_DISTANCES_FEET_NARROWED,\n",
    ")\n",
    "\n",
    "standalone_parameters = {}\n",
    "standalone_parameters[\"experiment_name\"] = \"MANUAL CORES CNN\"\n",
    "standalone_parameters[\"lr\"] = 0.0001\n",
    "standalone_parameters[\"device\"] = \"cuda\"\n",
    "\n",
    "standalone_parameters[\"dataset_seed\"] = 1337\n",
    "standalone_parameters[\"seed\"] = 1337\n",
    "standalone_parameters[\"labels\"] = ALL_SERIAL_NUMBERS\n",
    "\n",
    "standalone_parameters[\"domains_source\"] = [8,32,50]\n",
    "standalone_parameters[\"domains_target\"] = [14,20,26,38,44,]\n",
    "\n",
    "standalone_parameters[\"num_examples_per_domain_per_label_source\"]=-1\n",
    "standalone_parameters[\"num_examples_per_domain_per_label_target\"]=-1\n",
    "\n",
    "standalone_parameters[\"pickle_name_source\"] = \"oracle.Run1_framed_2000Examples_stratified_ds.2022A.pkl\"\n",
    "standalone_parameters[\"pickle_name_target\"] = \"oracle.Run2_framed_2000Examples_stratified_ds.2022A.pkl\"\n",
    "\n",
    "standalone_parameters[\"torch_default_dtype\"] = \"torch.float32\" \n",
    "\n",
    "standalone_parameters[\"batch_size\"]=128\n",
    "\n",
    "standalone_parameters[\"n_epoch\"] = 3\n",
    "\n",
    "standalone_parameters[\"patience\"] = 10\n",
    "\n",
    "standalone_parameters[\"criteria_for_best\"] = \"target_accuracy\"\n",
    "standalone_parameters[\"normalize_source\"] = False\n",
    "standalone_parameters[\"normalize_target\"] = False\n",
    "\n",
    "standalone_parameters[\"x_net\"] =     [\n",
    "    {\"class\": \"nnReshape\", \"kargs\": {\"shape\":[-1, 1, 2, 256]}},\n",
    "    {\"class\": \"Conv2d\", \"kargs\": { \"in_channels\":1, \"out_channels\":256, \"kernel_size\":(1,7), \"bias\":False, \"padding\":(0,3), },},\n",
    "    {\"class\": \"ReLU\", \"kargs\": {\"inplace\": True}},\n",
    "    {\"class\": \"BatchNorm2d\", \"kargs\": {\"num_features\":256}},\n",
    "\n",
    "    {\"class\": \"Conv2d\", \"kargs\": { \"in_channels\":256, \"out_channels\":80, \"kernel_size\":(2,7), \"bias\":True, \"padding\":(0,3), },},\n",
    "    {\"class\": \"ReLU\", \"kargs\": {\"inplace\": True}},\n",
    "    {\"class\": \"BatchNorm2d\", \"kargs\": {\"num_features\":80}},\n",
    "    {\"class\": \"Flatten\", \"kargs\": {}},\n",
    "\n",
    "    {\"class\": \"Linear\", \"kargs\": {\"in_features\": 80*256, \"out_features\": 256}}, # 80 units per IQ pair\n",
    "    {\"class\": \"ReLU\", \"kargs\": {\"inplace\": True}},\n",
    "    {\"class\": \"BatchNorm1d\", \"kargs\": {\"num_features\":256}},\n",
    "\n",
    "    {\"class\": \"Linear\", \"kargs\": {\"in_features\": 256, \"out_features\": len(standalone_parameters[\"labels\"])}},\n",
    "]\n",
    "\n",
    "standalone_parameters[\"NUM_LOGS_PER_EPOCH\"] = 10\n",
    "standalone_parameters[\"BEST_MODEL_PATH\"] = \"./best_model.pth\""
   ]
  },
  {
   "cell_type": "code",
   "execution_count": 4,
   "id": "6a3cc4cc",
   "metadata": {
    "execution": {
     "iopub.execute_input": "2022-03-26T11:24:55.218137Z",
     "iopub.status.busy": "2022-03-26T11:24:55.212135Z",
     "iopub.status.idle": "2022-03-26T11:24:55.220799Z",
     "shell.execute_reply": "2022-03-26T11:24:55.219987Z"
    },
    "papermill": {
     "duration": 0.035337,
     "end_time": "2022-03-26T11:24:55.220952",
     "exception": false,
     "start_time": "2022-03-26T11:24:55.185615",
     "status": "completed"
    },
    "tags": [
     "injected-parameters"
    ]
   },
   "outputs": [],
   "source": [
    "# Parameters\n",
    "parameters = {\n",
    "    \"experiment_name\": \"cnn_2:wisig\",\n",
    "    \"labels\": [\n",
    "        \"1-10\",\n",
    "        \"1-12\",\n",
    "        \"1-14\",\n",
    "        \"1-16\",\n",
    "        \"1-18\",\n",
    "        \"1-19\",\n",
    "        \"1-8\",\n",
    "        \"10-11\",\n",
    "        \"10-17\",\n",
    "        \"10-4\",\n",
    "        \"10-7\",\n",
    "        \"11-1\",\n",
    "        \"11-10\",\n",
    "        \"11-19\",\n",
    "        \"11-20\",\n",
    "        \"11-4\",\n",
    "        \"11-7\",\n",
    "        \"12-19\",\n",
    "        \"12-20\",\n",
    "        \"12-7\",\n",
    "        \"13-14\",\n",
    "        \"13-18\",\n",
    "        \"13-19\",\n",
    "        \"13-20\",\n",
    "        \"13-3\",\n",
    "        \"13-7\",\n",
    "        \"14-10\",\n",
    "        \"14-11\",\n",
    "        \"14-12\",\n",
    "        \"14-13\",\n",
    "        \"14-14\",\n",
    "        \"14-19\",\n",
    "        \"14-20\",\n",
    "        \"14-7\",\n",
    "        \"14-8\",\n",
    "        \"14-9\",\n",
    "        \"15-1\",\n",
    "        \"15-19\",\n",
    "        \"15-6\",\n",
    "        \"16-1\",\n",
    "        \"16-16\",\n",
    "        \"16-19\",\n",
    "        \"16-20\",\n",
    "        \"17-10\",\n",
    "        \"17-11\",\n",
    "        \"18-1\",\n",
    "        \"18-10\",\n",
    "        \"18-11\",\n",
    "        \"18-12\",\n",
    "        \"18-13\",\n",
    "        \"18-14\",\n",
    "        \"18-15\",\n",
    "        \"18-16\",\n",
    "        \"18-17\",\n",
    "        \"18-19\",\n",
    "        \"18-2\",\n",
    "        \"18-20\",\n",
    "        \"18-4\",\n",
    "        \"18-5\",\n",
    "        \"18-7\",\n",
    "        \"18-8\",\n",
    "        \"18-9\",\n",
    "        \"19-1\",\n",
    "        \"19-10\",\n",
    "        \"19-11\",\n",
    "        \"19-12\",\n",
    "        \"19-13\",\n",
    "        \"19-14\",\n",
    "        \"19-15\",\n",
    "        \"19-19\",\n",
    "        \"19-2\",\n",
    "        \"19-20\",\n",
    "        \"19-3\",\n",
    "        \"19-4\",\n",
    "        \"19-6\",\n",
    "        \"19-7\",\n",
    "        \"19-8\",\n",
    "        \"19-9\",\n",
    "        \"2-1\",\n",
    "        \"2-13\",\n",
    "        \"2-15\",\n",
    "        \"2-3\",\n",
    "        \"2-4\",\n",
    "        \"2-5\",\n",
    "        \"2-6\",\n",
    "        \"2-7\",\n",
    "        \"2-8\",\n",
    "        \"20-1\",\n",
    "        \"20-12\",\n",
    "        \"20-14\",\n",
    "        \"20-15\",\n",
    "        \"20-16\",\n",
    "        \"20-18\",\n",
    "        \"20-19\",\n",
    "        \"20-20\",\n",
    "        \"20-3\",\n",
    "        \"20-4\",\n",
    "        \"20-5\",\n",
    "        \"20-7\",\n",
    "        \"20-8\",\n",
    "        \"3-1\",\n",
    "        \"3-13\",\n",
    "        \"3-18\",\n",
    "        \"3-2\",\n",
    "        \"3-8\",\n",
    "        \"4-1\",\n",
    "        \"4-10\",\n",
    "        \"4-11\",\n",
    "        \"5-1\",\n",
    "        \"5-5\",\n",
    "        \"6-1\",\n",
    "        \"6-15\",\n",
    "        \"6-6\",\n",
    "        \"7-10\",\n",
    "        \"7-11\",\n",
    "        \"7-12\",\n",
    "        \"7-13\",\n",
    "        \"7-14\",\n",
    "        \"7-7\",\n",
    "        \"7-8\",\n",
    "        \"7-9\",\n",
    "        \"8-1\",\n",
    "        \"8-13\",\n",
    "        \"8-14\",\n",
    "        \"8-18\",\n",
    "        \"8-20\",\n",
    "        \"8-3\",\n",
    "        \"8-8\",\n",
    "        \"9-1\",\n",
    "        \"9-7\",\n",
    "    ],\n",
    "    \"domains_source\": [1, 2, 3, 4],\n",
    "    \"domains_target\": [1, 2, 3, 4],\n",
    "    \"pickle_name_target\": \"wisig.node3-19.stratified_ds.2022A.pkl\",\n",
    "    \"pickle_name_source\": \"wisig.node3-19.stratified_ds.2022A.pkl\",\n",
    "    \"device\": \"cuda\",\n",
    "    \"lr\": 0.0001,\n",
    "    \"batch_size\": 128,\n",
    "    \"normalize_source\": False,\n",
    "    \"normalize_target\": False,\n",
    "    \"num_examples_per_domain_per_label_source\": -1,\n",
    "    \"num_examples_per_domain_per_label_target\": -1,\n",
    "    \"torch_default_dtype\": \"torch.float32\",\n",
    "    \"n_epoch\": 50,\n",
    "    \"patience\": 3,\n",
    "    \"criteria_for_best\": \"target_accuracy\",\n",
    "    \"x_net\": [\n",
    "        {\"class\": \"nnReshape\", \"kargs\": {\"shape\": [-1, 1, 2, 256]}},\n",
    "        {\n",
    "            \"class\": \"Conv2d\",\n",
    "            \"kargs\": {\n",
    "                \"in_channels\": 1,\n",
    "                \"out_channels\": 256,\n",
    "                \"kernel_size\": [1, 7],\n",
    "                \"bias\": False,\n",
    "                \"padding\": [0, 3],\n",
    "            },\n",
    "        },\n",
    "        {\"class\": \"ReLU\", \"kargs\": {\"inplace\": True}},\n",
    "        {\"class\": \"BatchNorm2d\", \"kargs\": {\"num_features\": 256}},\n",
    "        {\n",
    "            \"class\": \"Conv2d\",\n",
    "            \"kargs\": {\n",
    "                \"in_channels\": 256,\n",
    "                \"out_channels\": 80,\n",
    "                \"kernel_size\": [2, 7],\n",
    "                \"bias\": True,\n",
    "                \"padding\": [0, 3],\n",
    "            },\n",
    "        },\n",
    "        {\"class\": \"ReLU\", \"kargs\": {\"inplace\": True}},\n",
    "        {\"class\": \"BatchNorm2d\", \"kargs\": {\"num_features\": 80}},\n",
    "        {\"class\": \"Flatten\", \"kargs\": {}},\n",
    "        {\"class\": \"Linear\", \"kargs\": {\"in_features\": 20480, \"out_features\": 256}},\n",
    "        {\"class\": \"ReLU\", \"kargs\": {\"inplace\": True}},\n",
    "        {\"class\": \"BatchNorm1d\", \"kargs\": {\"num_features\": 256}},\n",
    "        {\"class\": \"Linear\", \"kargs\": {\"in_features\": 256, \"out_features\": 130}},\n",
    "    ],\n",
    "    \"NUM_LOGS_PER_EPOCH\": 10,\n",
    "    \"BEST_MODEL_PATH\": \"./best_model.pth\",\n",
    "    \"dataset_seed\": 500,\n",
    "    \"seed\": 500,\n",
    "}\n"
   ]
  },
  {
   "cell_type": "code",
   "execution_count": 5,
   "id": "759b56ec",
   "metadata": {
    "execution": {
     "iopub.execute_input": "2022-03-26T11:24:55.262559Z",
     "iopub.status.busy": "2022-03-26T11:24:55.261993Z",
     "iopub.status.idle": "2022-03-26T11:24:55.264699Z",
     "shell.execute_reply": "2022-03-26T11:24:55.264147Z"
    },
    "papermill": {
     "duration": 0.024629,
     "end_time": "2022-03-26T11:24:55.264804",
     "exception": false,
     "start_time": "2022-03-26T11:24:55.240175",
     "status": "completed"
    },
    "tags": []
   },
   "outputs": [],
   "source": [
    "# Set this to True if you want to run this template directly\n",
    "STANDALONE = False\n",
    "if STANDALONE:\n",
    "    print(\"parameters not injected, running with standalone_parameters\")\n",
    "    parameters = standalone_parameters\n",
    "\n",
    "if not 'parameters' in locals() and not 'parameters' in globals():\n",
    "    raise Exception(\"Parameter injection failed\")\n",
    "\n",
    "#Use an easy dict for all the parameters\n",
    "p = EasyDict(parameters)\n",
    "\n",
    "supplied_keys = set(p.keys())\n",
    "\n",
    "if  supplied_keys != required_parameters:\n",
    "    print(\"Parameters are incorrect\")\n",
    "    if len(supplied_keys - required_parameters)>0: print(\"Shouldn't have:\", str(supplied_keys - required_parameters))\n",
    "    if len(required_parameters - supplied_keys)>0: print(\"Need to have:\", str(required_parameters - supplied_keys))\n",
    "    raise RuntimeError(\"Parameters are incorrect\")\n",
    "\n"
   ]
  },
  {
   "cell_type": "code",
   "execution_count": 6,
   "id": "d5c66a71",
   "metadata": {
    "execution": {
     "iopub.execute_input": "2022-03-26T11:24:55.302068Z",
     "iopub.status.busy": "2022-03-26T11:24:55.301508Z",
     "iopub.status.idle": "2022-03-26T11:24:55.305391Z",
     "shell.execute_reply": "2022-03-26T11:24:55.305848Z"
    },
    "papermill": {
     "duration": 0.022573,
     "end_time": "2022-03-26T11:24:55.305969",
     "exception": false,
     "start_time": "2022-03-26T11:24:55.283396",
     "status": "completed"
    },
    "tags": []
   },
   "outputs": [],
   "source": [
    "###################################\n",
    "# Set the RNGs and make it all deterministic\n",
    "###################################\n",
    "np.random.seed(p.seed)\n",
    "random.seed(p.seed)\n",
    "torch.manual_seed(p.seed)\n",
    "\n",
    "torch.use_deterministic_algorithms(True) "
   ]
  },
  {
   "cell_type": "code",
   "execution_count": 7,
   "id": "92a65876",
   "metadata": {
    "execution": {
     "iopub.execute_input": "2022-03-26T11:24:55.342866Z",
     "iopub.status.busy": "2022-03-26T11:24:55.342311Z",
     "iopub.status.idle": "2022-03-26T11:24:55.344750Z",
     "shell.execute_reply": "2022-03-26T11:24:55.345207Z"
    },
    "papermill": {
     "duration": 0.020851,
     "end_time": "2022-03-26T11:24:55.345328",
     "exception": false,
     "start_time": "2022-03-26T11:24:55.324477",
     "status": "completed"
    },
    "tags": []
   },
   "outputs": [],
   "source": [
    "torch.set_default_dtype(eval(p.torch_default_dtype))"
   ]
  },
  {
   "cell_type": "code",
   "execution_count": 8,
   "id": "f1a32f01",
   "metadata": {
    "execution": {
     "iopub.execute_input": "2022-03-26T11:24:55.382805Z",
     "iopub.status.busy": "2022-03-26T11:24:55.382245Z",
     "iopub.status.idle": "2022-03-26T11:24:55.423975Z",
     "shell.execute_reply": "2022-03-26T11:24:55.423219Z"
    },
    "papermill": {
     "duration": 0.059931,
     "end_time": "2022-03-26T11:24:55.424131",
     "exception": false,
     "start_time": "2022-03-26T11:24:55.364200",
     "status": "completed"
    },
    "tags": []
   },
   "outputs": [],
   "source": [
    "###################################\n",
    "# Build the network(s)\n",
    "# Note: It's critical to do this AFTER setting the RNG\n",
    "###################################\n",
    "x_net = build_sequential(p.x_net)"
   ]
  },
  {
   "cell_type": "code",
   "execution_count": 9,
   "id": "a276cd83",
   "metadata": {
    "execution": {
     "iopub.execute_input": "2022-03-26T11:24:55.460943Z",
     "iopub.status.busy": "2022-03-26T11:24:55.460419Z",
     "iopub.status.idle": "2022-03-26T11:24:55.462295Z",
     "shell.execute_reply": "2022-03-26T11:24:55.462599Z"
    },
    "papermill": {
     "duration": 0.020432,
     "end_time": "2022-03-26T11:24:55.462679",
     "exception": false,
     "start_time": "2022-03-26T11:24:55.442247",
     "status": "completed"
    },
    "tags": []
   },
   "outputs": [],
   "source": [
    "start_time_secs = time.time()"
   ]
  },
  {
   "cell_type": "code",
   "execution_count": 10,
   "id": "de702e48",
   "metadata": {
    "execution": {
     "iopub.execute_input": "2022-03-26T11:24:55.508291Z",
     "iopub.status.busy": "2022-03-26T11:24:55.496965Z",
     "iopub.status.idle": "2022-03-26T11:25:02.666322Z",
     "shell.execute_reply": "2022-03-26T11:25:02.667009Z"
    },
    "papermill": {
     "duration": 7.186397,
     "end_time": "2022-03-26T11:25:02.667232",
     "exception": false,
     "start_time": "2022-03-26T11:24:55.480835",
     "status": "completed"
    },
    "tags": []
   },
   "outputs": [],
   "source": [
    "def wrap_in_dataloader(p, ds):\n",
    "    return torch.utils.data.DataLoader(\n",
    "        ds,\n",
    "        batch_size=p.batch_size,\n",
    "        shuffle=True,\n",
    "        num_workers=1,\n",
    "        persistent_workers=True,\n",
    "        prefetch_factor=50,\n",
    "        pin_memory=True\n",
    "    )\n",
    "\n",
    "taf_source = Traditional_Accessor_Factory(\n",
    "    labels=p.labels,\n",
    "    domains=p.domains_source,\n",
    "    num_examples_per_domain_per_label=p.num_examples_per_domain_per_label_source,\n",
    "    pickle_path=os.path.join(get_datasets_base_path(), p.pickle_name_source),\n",
    "    seed=p.dataset_seed\n",
    ")\n",
    "train_original_source, val_original_source, test_original_source = \\\n",
    "    taf_source.get_train(), taf_source.get_val(), taf_source.get_test()\n",
    "\n",
    "\n",
    "taf_target = Traditional_Accessor_Factory(\n",
    "    labels=p.labels,\n",
    "    domains=p.domains_target,\n",
    "    num_examples_per_domain_per_label=p.num_examples_per_domain_per_label_source,\n",
    "    pickle_path=os.path.join(get_datasets_base_path(), p.pickle_name_target),\n",
    "    seed=p.dataset_seed\n",
    ")\n",
    "train_original_target, val_original_target, test_original_target = \\\n",
    "    taf_target.get_train(), taf_target.get_val(), taf_target.get_test()\n",
    "\n",
    "\n",
    "# For CNN We only use X and Y. And we only train on the source.\n",
    "# Properly form the data using a transform lambda and Lazy_Map. Finally wrap them in a dataloader\n",
    "\n",
    "transform_lambda = lambda ex: ex[:2] # Strip the tuple to just (x,y)\n",
    "\n",
    "\n",
    "train_processed_source = wrap_in_dataloader(\n",
    "    p,\n",
    "    Lazy_Map(train_original_source, transform_lambda)\n",
    ")\n",
    "val_processed_source = wrap_in_dataloader(\n",
    "    p,\n",
    "    Lazy_Map(val_original_source, transform_lambda)\n",
    ")\n",
    "test_processed_source = wrap_in_dataloader(\n",
    "    p,\n",
    "    Lazy_Map(test_original_source, transform_lambda)\n",
    ")\n",
    "\n",
    "train_processed_target = wrap_in_dataloader(\n",
    "    p,\n",
    "    Lazy_Map(train_original_target, transform_lambda)\n",
    ")\n",
    "val_processed_target = wrap_in_dataloader(\n",
    "    p,\n",
    "    Lazy_Map(val_original_target, transform_lambda)\n",
    ")\n",
    "test_processed_target  = wrap_in_dataloader(\n",
    "    p,\n",
    "    Lazy_Map(test_original_target, transform_lambda)\n",
    ")\n",
    "\n",
    "\n",
    "\n",
    "datasets = EasyDict({\n",
    "    \"source\": {\n",
    "        \"original\": {\"train\":train_original_source, \"val\":val_original_source, \"test\":test_original_source},\n",
    "        \"processed\": {\"train\":train_processed_source, \"val\":val_processed_source, \"test\":test_processed_source}\n",
    "    },\n",
    "    \"target\": {\n",
    "        \"original\": {\"train\":train_original_target, \"val\":val_original_target, \"test\":test_original_target},\n",
    "        \"processed\": {\"train\":train_processed_target, \"val\":val_processed_target, \"test\":test_processed_target}\n",
    "    },\n",
    "})"
   ]
  },
  {
   "cell_type": "code",
   "execution_count": 11,
   "id": "a11b26bd",
   "metadata": {
    "execution": {
     "iopub.execute_input": "2022-03-26T11:25:02.745573Z",
     "iopub.status.busy": "2022-03-26T11:25:02.744733Z",
     "iopub.status.idle": "2022-03-26T11:25:07.524729Z",
     "shell.execute_reply": "2022-03-26T11:25:07.523820Z"
    },
    "papermill": {
     "duration": 4.838299,
     "end_time": "2022-03-26T11:25:07.524915",
     "exception": false,
     "start_time": "2022-03-26T11:25:02.686616",
     "status": "completed"
    },
    "tags": []
   },
   "outputs": [
    {
     "data": {
      "text/plain": [
       "torch.float32"
      ]
     },
     "execution_count": 11,
     "metadata": {},
     "output_type": "execute_result"
    }
   ],
   "source": [
    "ep = next(iter(test_processed_target))\n",
    "ep[0].dtype"
   ]
  },
  {
   "cell_type": "code",
   "execution_count": 12,
   "id": "19425fad",
   "metadata": {
    "execution": {
     "iopub.execute_input": "2022-03-26T11:25:07.571843Z",
     "iopub.status.busy": "2022-03-26T11:25:07.571172Z",
     "iopub.status.idle": "2022-03-26T11:25:07.618113Z",
     "shell.execute_reply": "2022-03-26T11:25:07.617268Z"
    },
    "papermill": {
     "duration": 0.070508,
     "end_time": "2022-03-26T11:25:07.618282",
     "exception": false,
     "start_time": "2022-03-26T11:25:07.547774",
     "status": "completed"
    },
    "tags": []
   },
   "outputs": [],
   "source": [
    "model = Configurable_Vanilla(\n",
    "    x_net=x_net,\n",
    "    label_loss_object=torch.nn.NLLLoss(),\n",
    "    learning_rate=p.lr\n",
    ")"
   ]
  },
  {
   "cell_type": "code",
   "execution_count": 13,
   "id": "7f6d4f2c",
   "metadata": {
    "execution": {
     "iopub.execute_input": "2022-03-26T11:25:07.663020Z",
     "iopub.status.busy": "2022-03-26T11:25:07.662463Z",
     "iopub.status.idle": "2022-03-26T11:28:31.151675Z",
     "shell.execute_reply": "2022-03-26T11:28:31.150814Z"
    },
    "papermill": {
     "duration": 203.511004,
     "end_time": "2022-03-26T11:28:31.151819",
     "exception": false,
     "start_time": "2022-03-26T11:25:07.640815",
     "status": "completed"
    },
    "tags": []
   },
   "outputs": [
    {
     "name": "stdout",
     "output_type": "stream",
     "text": [
      "epoch: 1, [batch: 1 / 1479], examples_per_second: 628.9627, train_label_loss: 4.8305, \n"
     ]
    },
    {
     "name": "stdout",
     "output_type": "stream",
     "text": [
      "epoch: 1, [batch: 148 / 1479], examples_per_second: 16766.1704, train_label_loss: 2.8941, \n"
     ]
    },
    {
     "name": "stdout",
     "output_type": "stream",
     "text": [
      "epoch: 1, [batch: 296 / 1479], examples_per_second: 16707.0225, train_label_loss: 2.1067, \n"
     ]
    },
    {
     "name": "stdout",
     "output_type": "stream",
     "text": [
      "epoch: 1, [batch: 444 / 1479], examples_per_second: 16800.0500, train_label_loss: 1.5195, \n"
     ]
    },
    {
     "name": "stdout",
     "output_type": "stream",
     "text": [
      "epoch: 1, [batch: 592 / 1479], examples_per_second: 16983.9860, train_label_loss: 1.2029, \n"
     ]
    },
    {
     "name": "stdout",
     "output_type": "stream",
     "text": [
      "epoch: 1, [batch: 740 / 1479], examples_per_second: 16730.6169, train_label_loss: 0.9737, \n"
     ]
    },
    {
     "name": "stdout",
     "output_type": "stream",
     "text": [
      "epoch: 1, [batch: 887 / 1479], examples_per_second: 16618.1565, train_label_loss: 0.8369, \n"
     ]
    },
    {
     "name": "stdout",
     "output_type": "stream",
     "text": [
      "epoch: 1, [batch: 1035 / 1479], examples_per_second: 13702.9140, train_label_loss: 0.5992, \n"
     ]
    },
    {
     "name": "stdout",
     "output_type": "stream",
     "text": [
      "epoch: 1, [batch: 1183 / 1479], examples_per_second: 10661.8674, train_label_loss: 0.7710, \n"
     ]
    },
    {
     "name": "stdout",
     "output_type": "stream",
     "text": [
      "epoch: 1, [batch: 1331 / 1479], examples_per_second: 10613.0576, train_label_loss: 0.3389, \n"
     ]
    },
    {
     "name": "stdout",
     "output_type": "stream",
     "text": [
      "=============================================================\n",
      "epoch: 1, source_val_acc_label: 0.9098, source_val_label_loss: 0.4320, target_val_acc_label: 0.9098, target_val_label_loss: 0.4316, \n",
      "=============================================================\n"
     ]
    },
    {
     "name": "stdout",
     "output_type": "stream",
     "text": [
      "New best\n",
      "epoch: 2, [batch: 1 / 1479], examples_per_second: 47.7499, train_label_loss: 0.3671, \n"
     ]
    },
    {
     "name": "stdout",
     "output_type": "stream",
     "text": [
      "epoch: 2, [batch: 148 / 1479], examples_per_second: 10695.2672, train_label_loss: 0.4066, \n"
     ]
    },
    {
     "name": "stdout",
     "output_type": "stream",
     "text": [
      "epoch: 2, [batch: 296 / 1479], examples_per_second: 10682.2100, train_label_loss: 0.3644, \n"
     ]
    },
    {
     "name": "stdout",
     "output_type": "stream",
     "text": [
      "epoch: 2, [batch: 444 / 1479], examples_per_second: 10692.4090, train_label_loss: 0.3652, \n"
     ]
    },
    {
     "name": "stdout",
     "output_type": "stream",
     "text": [
      "epoch: 2, [batch: 592 / 1479], examples_per_second: 10654.9246, train_label_loss: 0.3369, \n"
     ]
    },
    {
     "name": "stdout",
     "output_type": "stream",
     "text": [
      "epoch: 2, [batch: 740 / 1479], examples_per_second: 10641.1161, train_label_loss: 0.2930, \n"
     ]
    },
    {
     "name": "stdout",
     "output_type": "stream",
     "text": [
      "epoch: 2, [batch: 887 / 1479], examples_per_second: 10691.9201, train_label_loss: 0.2669, \n"
     ]
    },
    {
     "name": "stdout",
     "output_type": "stream",
     "text": [
      "epoch: 2, [batch: 1035 / 1479], examples_per_second: 10694.6685, train_label_loss: 0.2855, \n"
     ]
    },
    {
     "name": "stdout",
     "output_type": "stream",
     "text": [
      "epoch: 2, [batch: 1183 / 1479], examples_per_second: 10645.6784, train_label_loss: 0.2641, \n"
     ]
    },
    {
     "name": "stdout",
     "output_type": "stream",
     "text": [
      "epoch: 2, [batch: 1331 / 1479], examples_per_second: 10627.5040, train_label_loss: 0.3501, \n"
     ]
    },
    {
     "name": "stdout",
     "output_type": "stream",
     "text": [
      "=============================================================\n",
      "epoch: 2, source_val_acc_label: 0.9272, source_val_label_loss: 0.3230, target_val_acc_label: 0.9272, target_val_label_loss: 0.3226, \n",
      "=============================================================\n"
     ]
    },
    {
     "name": "stdout",
     "output_type": "stream",
     "text": [
      "New best\n",
      "epoch: 3, [batch: 1 / 1479], examples_per_second: 55.1360, train_label_loss: 0.5838, \n"
     ]
    },
    {
     "name": "stdout",
     "output_type": "stream",
     "text": [
      "epoch: 3, [batch: 148 / 1479], examples_per_second: 10666.3917, train_label_loss: 0.1896, \n"
     ]
    },
    {
     "name": "stdout",
     "output_type": "stream",
     "text": [
      "epoch: 3, [batch: 296 / 1479], examples_per_second: 10331.6618, train_label_loss: 0.2056, \n"
     ]
    },
    {
     "name": "stdout",
     "output_type": "stream",
     "text": [
      "epoch: 3, [batch: 444 / 1479], examples_per_second: 10482.1745, train_label_loss: 0.1559, \n"
     ]
    },
    {
     "name": "stdout",
     "output_type": "stream",
     "text": [
      "epoch: 3, [batch: 592 / 1479], examples_per_second: 10648.4362, train_label_loss: 0.1670, \n"
     ]
    },
    {
     "name": "stdout",
     "output_type": "stream",
     "text": [
      "epoch: 3, [batch: 740 / 1479], examples_per_second: 10575.3285, train_label_loss: 0.1702, \n"
     ]
    },
    {
     "name": "stdout",
     "output_type": "stream",
     "text": [
      "epoch: 3, [batch: 887 / 1479], examples_per_second: 10560.7265, train_label_loss: 0.1800, \n"
     ]
    },
    {
     "name": "stdout",
     "output_type": "stream",
     "text": [
      "epoch: 3, [batch: 1035 / 1479], examples_per_second: 10556.3315, train_label_loss: 0.0753, \n"
     ]
    },
    {
     "name": "stdout",
     "output_type": "stream",
     "text": [
      "epoch: 3, [batch: 1183 / 1479], examples_per_second: 10556.8098, train_label_loss: 0.1496, \n"
     ]
    },
    {
     "name": "stdout",
     "output_type": "stream",
     "text": [
      "epoch: 3, [batch: 1331 / 1479], examples_per_second: 10552.2645, train_label_loss: 0.2741, \n"
     ]
    },
    {
     "name": "stdout",
     "output_type": "stream",
     "text": [
      "=============================================================\n",
      "epoch: 3, source_val_acc_label: 0.9187, source_val_label_loss: 0.3712, target_val_acc_label: 0.9187, target_val_label_loss: 0.3705, \n",
      "=============================================================\n"
     ]
    },
    {
     "name": "stdout",
     "output_type": "stream",
     "text": [
      "epoch: 4, [batch: 1 / 1479], examples_per_second: 55.9135, train_label_loss: 0.2336, \n"
     ]
    },
    {
     "name": "stdout",
     "output_type": "stream",
     "text": [
      "epoch: 4, [batch: 148 / 1479], examples_per_second: 10541.5927, train_label_loss: 0.0982, \n"
     ]
    },
    {
     "name": "stdout",
     "output_type": "stream",
     "text": [
      "epoch: 4, [batch: 296 / 1479], examples_per_second: 10565.3079, train_label_loss: 0.1729, \n"
     ]
    },
    {
     "name": "stdout",
     "output_type": "stream",
     "text": [
      "epoch: 4, [batch: 444 / 1479], examples_per_second: 10510.4215, train_label_loss: 0.2109, \n"
     ]
    },
    {
     "name": "stdout",
     "output_type": "stream",
     "text": [
      "epoch: 4, [batch: 592 / 1479], examples_per_second: 10666.8140, train_label_loss: 0.1973, \n"
     ]
    },
    {
     "name": "stdout",
     "output_type": "stream",
     "text": [
      "epoch: 4, [batch: 740 / 1479], examples_per_second: 10569.1769, train_label_loss: 0.1271, \n"
     ]
    },
    {
     "name": "stdout",
     "output_type": "stream",
     "text": [
      "epoch: 4, [batch: 887 / 1479], examples_per_second: 10480.4031, train_label_loss: 0.1568, \n"
     ]
    },
    {
     "name": "stdout",
     "output_type": "stream",
     "text": [
      "epoch: 4, [batch: 1035 / 1479], examples_per_second: 10537.3594, train_label_loss: 0.1322, \n"
     ]
    },
    {
     "name": "stdout",
     "output_type": "stream",
     "text": [
      "epoch: 4, [batch: 1183 / 1479], examples_per_second: 10672.3228, train_label_loss: 0.2053, \n"
     ]
    },
    {
     "name": "stdout",
     "output_type": "stream",
     "text": [
      "epoch: 4, [batch: 1331 / 1479], examples_per_second: 10697.2760, train_label_loss: 0.1558, \n"
     ]
    },
    {
     "name": "stdout",
     "output_type": "stream",
     "text": [
      "=============================================================\n",
      "epoch: 4, source_val_acc_label: 0.9399, source_val_label_loss: 0.2915, target_val_acc_label: 0.9399, target_val_label_loss: 0.2907, \n",
      "=============================================================\n"
     ]
    },
    {
     "name": "stdout",
     "output_type": "stream",
     "text": [
      "New best\n",
      "epoch: 5, [batch: 1 / 1479], examples_per_second: 54.2831, train_label_loss: 0.2113, \n"
     ]
    },
    {
     "name": "stdout",
     "output_type": "stream",
     "text": [
      "epoch: 5, [batch: 148 / 1479], examples_per_second: 10579.1555, train_label_loss: 0.0756, \n"
     ]
    },
    {
     "name": "stdout",
     "output_type": "stream",
     "text": [
      "epoch: 5, [batch: 296 / 1479], examples_per_second: 10691.4335, train_label_loss: 0.2190, \n"
     ]
    },
    {
     "name": "stdout",
     "output_type": "stream",
     "text": [
      "epoch: 5, [batch: 444 / 1479], examples_per_second: 10676.0770, train_label_loss: 0.1152, \n"
     ]
    },
    {
     "name": "stdout",
     "output_type": "stream",
     "text": [
      "epoch: 5, [batch: 592 / 1479], examples_per_second: 10680.8516, train_label_loss: 0.1900, \n"
     ]
    },
    {
     "name": "stdout",
     "output_type": "stream",
     "text": [
      "epoch: 5, [batch: 740 / 1479], examples_per_second: 10742.8042, train_label_loss: 0.1503, \n"
     ]
    },
    {
     "name": "stdout",
     "output_type": "stream",
     "text": [
      "epoch: 5, [batch: 887 / 1479], examples_per_second: 10618.4883, train_label_loss: 0.1698, \n"
     ]
    },
    {
     "name": "stdout",
     "output_type": "stream",
     "text": [
      "epoch: 5, [batch: 1035 / 1479], examples_per_second: 10669.3492, train_label_loss: 0.1205, \n"
     ]
    },
    {
     "name": "stdout",
     "output_type": "stream",
     "text": [
      "epoch: 5, [batch: 1183 / 1479], examples_per_second: 10691.7155, train_label_loss: 0.0831, \n"
     ]
    },
    {
     "name": "stdout",
     "output_type": "stream",
     "text": [
      "epoch: 5, [batch: 1331 / 1479], examples_per_second: 10695.8821, train_label_loss: 0.1763, \n"
     ]
    },
    {
     "name": "stdout",
     "output_type": "stream",
     "text": [
      "=============================================================\n",
      "epoch: 5, source_val_acc_label: 0.9324, source_val_label_loss: 0.3244, target_val_acc_label: 0.9324, target_val_label_loss: 0.3235, \n",
      "=============================================================\n"
     ]
    },
    {
     "name": "stdout",
     "output_type": "stream",
     "text": [
      "epoch: 6, [batch: 1 / 1479], examples_per_second: 54.2264, train_label_loss: 0.2526, \n"
     ]
    },
    {
     "name": "stdout",
     "output_type": "stream",
     "text": [
      "epoch: 6, [batch: 148 / 1479], examples_per_second: 10541.6814, train_label_loss: 0.1953, \n"
     ]
    },
    {
     "name": "stdout",
     "output_type": "stream",
     "text": [
      "epoch: 6, [batch: 296 / 1479], examples_per_second: 10640.8924, train_label_loss: 0.1307, \n"
     ]
    },
    {
     "name": "stdout",
     "output_type": "stream",
     "text": [
      "epoch: 6, [batch: 444 / 1479], examples_per_second: 10638.5302, train_label_loss: 0.1069, \n"
     ]
    },
    {
     "name": "stdout",
     "output_type": "stream",
     "text": [
      "epoch: 6, [batch: 592 / 1479], examples_per_second: 10652.7662, train_label_loss: 0.2539, \n"
     ]
    },
    {
     "name": "stdout",
     "output_type": "stream",
     "text": [
      "epoch: 6, [batch: 740 / 1479], examples_per_second: 10730.7797, train_label_loss: 0.2119, \n"
     ]
    },
    {
     "name": "stdout",
     "output_type": "stream",
     "text": [
      "epoch: 6, [batch: 887 / 1479], examples_per_second: 10719.3907, train_label_loss: 0.0377, \n"
     ]
    },
    {
     "name": "stdout",
     "output_type": "stream",
     "text": [
      "epoch: 6, [batch: 1035 / 1479], examples_per_second: 10707.5933, train_label_loss: 0.1518, \n"
     ]
    },
    {
     "name": "stdout",
     "output_type": "stream",
     "text": [
      "epoch: 6, [batch: 1183 / 1479], examples_per_second: 10730.7376, train_label_loss: 0.0902, \n"
     ]
    },
    {
     "name": "stdout",
     "output_type": "stream",
     "text": [
      "epoch: 6, [batch: 1331 / 1479], examples_per_second: 10669.8077, train_label_loss: 0.1676, \n"
     ]
    },
    {
     "name": "stdout",
     "output_type": "stream",
     "text": [
      "=============================================================\n",
      "epoch: 6, source_val_acc_label: 0.9592, source_val_label_loss: 0.1919, target_val_acc_label: 0.9592, target_val_label_loss: 0.1910, \n",
      "=============================================================\n"
     ]
    },
    {
     "name": "stdout",
     "output_type": "stream",
     "text": [
      "New best\n",
      "epoch: 7, [batch: 1 / 1479], examples_per_second: 54.5708, train_label_loss: 0.1629, \n"
     ]
    },
    {
     "name": "stdout",
     "output_type": "stream",
     "text": [
      "epoch: 7, [batch: 148 / 1479], examples_per_second: 10647.0774, train_label_loss: 0.1818, \n"
     ]
    },
    {
     "name": "stdout",
     "output_type": "stream",
     "text": [
      "epoch: 7, [batch: 296 / 1479], examples_per_second: 10748.8265, train_label_loss: 0.0396, \n"
     ]
    },
    {
     "name": "stdout",
     "output_type": "stream",
     "text": [
      "epoch: 7, [batch: 444 / 1479], examples_per_second: 10709.7379, train_label_loss: 0.1928, \n"
     ]
    },
    {
     "name": "stdout",
     "output_type": "stream",
     "text": [
      "epoch: 7, [batch: 592 / 1479], examples_per_second: 10713.8521, train_label_loss: 0.0859, \n"
     ]
    },
    {
     "name": "stdout",
     "output_type": "stream",
     "text": [
      "epoch: 7, [batch: 740 / 1479], examples_per_second: 10688.2048, train_label_loss: 0.0498, \n"
     ]
    },
    {
     "name": "stdout",
     "output_type": "stream",
     "text": [
      "epoch: 7, [batch: 887 / 1479], examples_per_second: 10670.2003, train_label_loss: 0.0479, \n"
     ]
    },
    {
     "name": "stdout",
     "output_type": "stream",
     "text": [
      "epoch: 7, [batch: 1035 / 1479], examples_per_second: 10674.2283, train_label_loss: 0.0297, \n"
     ]
    },
    {
     "name": "stdout",
     "output_type": "stream",
     "text": [
      "epoch: 7, [batch: 1183 / 1479], examples_per_second: 10590.5220, train_label_loss: 0.1951, \n"
     ]
    },
    {
     "name": "stdout",
     "output_type": "stream",
     "text": [
      "epoch: 7, [batch: 1331 / 1479], examples_per_second: 10604.3791, train_label_loss: 0.0562, \n"
     ]
    },
    {
     "name": "stdout",
     "output_type": "stream",
     "text": [
      "=============================================================\n",
      "epoch: 7, source_val_acc_label: 0.9563, source_val_label_loss: 0.2022, target_val_acc_label: 0.9563, target_val_label_loss: 0.2018, \n",
      "=============================================================\n"
     ]
    },
    {
     "name": "stdout",
     "output_type": "stream",
     "text": [
      "epoch: 8, [batch: 1 / 1479], examples_per_second: 54.7496, train_label_loss: 0.0961, \n"
     ]
    },
    {
     "name": "stdout",
     "output_type": "stream",
     "text": [
      "epoch: 8, [batch: 148 / 1479], examples_per_second: 10653.9449, train_label_loss: 0.2320, \n"
     ]
    },
    {
     "name": "stdout",
     "output_type": "stream",
     "text": [
      "epoch: 8, [batch: 296 / 1479], examples_per_second: 10670.6689, train_label_loss: 0.0952, \n"
     ]
    },
    {
     "name": "stdout",
     "output_type": "stream",
     "text": [
      "epoch: 8, [batch: 444 / 1479], examples_per_second: 10606.3680, train_label_loss: 0.1436, \n"
     ]
    },
    {
     "name": "stdout",
     "output_type": "stream",
     "text": [
      "epoch: 8, [batch: 592 / 1479], examples_per_second: 10609.4936, train_label_loss: 0.0591, \n"
     ]
    },
    {
     "name": "stdout",
     "output_type": "stream",
     "text": [
      "epoch: 8, [batch: 740 / 1479], examples_per_second: 10709.0537, train_label_loss: 0.1217, \n"
     ]
    },
    {
     "name": "stdout",
     "output_type": "stream",
     "text": [
      "epoch: 8, [batch: 887 / 1479], examples_per_second: 10710.9542, train_label_loss: 0.1100, \n"
     ]
    },
    {
     "name": "stdout",
     "output_type": "stream",
     "text": [
      "epoch: 8, [batch: 1035 / 1479], examples_per_second: 10699.4122, train_label_loss: 0.1549, \n"
     ]
    },
    {
     "name": "stdout",
     "output_type": "stream",
     "text": [
      "epoch: 8, [batch: 1183 / 1479], examples_per_second: 10715.9429, train_label_loss: 0.1001, \n"
     ]
    },
    {
     "name": "stdout",
     "output_type": "stream",
     "text": [
      "epoch: 8, [batch: 1331 / 1479], examples_per_second: 10630.6321, train_label_loss: 0.0871, \n"
     ]
    },
    {
     "name": "stdout",
     "output_type": "stream",
     "text": [
      "=============================================================\n",
      "epoch: 8, source_val_acc_label: 0.9285, source_val_label_loss: 0.3180, target_val_acc_label: 0.9285, target_val_label_loss: 0.3176, \n",
      "=============================================================\n"
     ]
    },
    {
     "name": "stdout",
     "output_type": "stream",
     "text": [
      "epoch: 9, [batch: 1 / 1479], examples_per_second: 53.9327, train_label_loss: 0.2084, \n"
     ]
    },
    {
     "name": "stdout",
     "output_type": "stream",
     "text": [
      "epoch: 9, [batch: 148 / 1479], examples_per_second: 10540.6565, train_label_loss: 0.0652, \n"
     ]
    },
    {
     "name": "stdout",
     "output_type": "stream",
     "text": [
      "epoch: 9, [batch: 296 / 1479], examples_per_second: 10671.2679, train_label_loss: 0.2254, \n"
     ]
    },
    {
     "name": "stdout",
     "output_type": "stream",
     "text": [
      "epoch: 9, [batch: 444 / 1479], examples_per_second: 10624.1320, train_label_loss: 0.1825, \n"
     ]
    },
    {
     "name": "stdout",
     "output_type": "stream",
     "text": [
      "epoch: 9, [batch: 592 / 1479], examples_per_second: 10759.2770, train_label_loss: 0.0546, \n"
     ]
    },
    {
     "name": "stdout",
     "output_type": "stream",
     "text": [
      "epoch: 9, [batch: 740 / 1479], examples_per_second: 10731.5376, train_label_loss: 0.1688, \n"
     ]
    },
    {
     "name": "stdout",
     "output_type": "stream",
     "text": [
      "epoch: 9, [batch: 887 / 1479], examples_per_second: 10686.1234, train_label_loss: 0.0482, \n"
     ]
    },
    {
     "name": "stdout",
     "output_type": "stream",
     "text": [
      "epoch: 9, [batch: 1035 / 1479], examples_per_second: 10675.6911, train_label_loss: 0.1164, \n"
     ]
    },
    {
     "name": "stdout",
     "output_type": "stream",
     "text": [
      "epoch: 9, [batch: 1183 / 1479], examples_per_second: 10606.6554, train_label_loss: 0.0987, \n"
     ]
    },
    {
     "name": "stdout",
     "output_type": "stream",
     "text": [
      "epoch: 9, [batch: 1331 / 1479], examples_per_second: 10761.1189, train_label_loss: 0.0504, \n"
     ]
    },
    {
     "name": "stdout",
     "output_type": "stream",
     "text": [
      "=============================================================\n",
      "epoch: 9, source_val_acc_label: 0.9326, source_val_label_loss: 0.3048, target_val_acc_label: 0.9326, target_val_label_loss: 0.3048, \n",
      "=============================================================\n"
     ]
    },
    {
     "name": "stdout",
     "output_type": "stream",
     "text": [
      "epoch: 10, [batch: 1 / 1479], examples_per_second: 54.9475, train_label_loss: 0.0611, \n"
     ]
    },
    {
     "name": "stdout",
     "output_type": "stream",
     "text": [
      "epoch: 10, [batch: 148 / 1479], examples_per_second: 10633.5767, train_label_loss: 0.0846, \n"
     ]
    },
    {
     "name": "stdout",
     "output_type": "stream",
     "text": [
      "epoch: 10, [batch: 296 / 1479], examples_per_second: 10708.0002, train_label_loss: 0.1060, \n"
     ]
    },
    {
     "name": "stdout",
     "output_type": "stream",
     "text": [
      "epoch: 10, [batch: 444 / 1479], examples_per_second: 10630.0078, train_label_loss: 0.0770, \n"
     ]
    },
    {
     "name": "stdout",
     "output_type": "stream",
     "text": [
      "epoch: 10, [batch: 592 / 1479], examples_per_second: 10660.7673, train_label_loss: 0.0307, \n"
     ]
    },
    {
     "name": "stdout",
     "output_type": "stream",
     "text": [
      "epoch: 10, [batch: 740 / 1479], examples_per_second: 10641.9371, train_label_loss: 0.1125, \n"
     ]
    },
    {
     "name": "stdout",
     "output_type": "stream",
     "text": [
      "epoch: 10, [batch: 887 / 1479], examples_per_second: 10612.9179, train_label_loss: 0.1197, \n"
     ]
    },
    {
     "name": "stdout",
     "output_type": "stream",
     "text": [
      "epoch: 10, [batch: 1035 / 1479], examples_per_second: 10621.2022, train_label_loss: 0.1148, \n"
     ]
    },
    {
     "name": "stdout",
     "output_type": "stream",
     "text": [
      "epoch: 10, [batch: 1183 / 1479], examples_per_second: 11069.9922, train_label_loss: 0.1140, \n"
     ]
    },
    {
     "name": "stdout",
     "output_type": "stream",
     "text": [
      "epoch: 10, [batch: 1331 / 1479], examples_per_second: 10634.4694, train_label_loss: 0.0845, \n"
     ]
    },
    {
     "name": "stdout",
     "output_type": "stream",
     "text": [
      "=============================================================\n",
      "epoch: 10, source_val_acc_label: 0.9411, source_val_label_loss: 0.2747, target_val_acc_label: 0.9411, target_val_label_loss: 0.2734, \n",
      "=============================================================\n"
     ]
    },
    {
     "name": "stdout",
     "output_type": "stream",
     "text": [
      "Patience (3) exhausted\n"
     ]
    }
   ],
   "source": [
    "jig = Vanilla_Train_Eval_Test_Jig(\n",
    "    model=model,\n",
    "    path_to_best_model=p.BEST_MODEL_PATH,\n",
    "    device=p.device,\n",
    "    label_loss_object=torch.nn.NLLLoss(),\n",
    ")\n",
    "\n",
    "jig.train(\n",
    "    train_iterable=datasets.source.processed.train,\n",
    "    source_val_iterable=datasets.source.processed.val,\n",
    "    target_val_iterable=datasets.target.processed.val,\n",
    "    patience=p.patience,\n",
    "    num_epochs=p.n_epoch,\n",
    "    num_logs_per_epoch=p.NUM_LOGS_PER_EPOCH,\n",
    "    criteria_for_best=p.criteria_for_best\n",
    ")"
   ]
  },
  {
   "cell_type": "code",
   "execution_count": 14,
   "id": "4bc2ac17",
   "metadata": {
    "execution": {
     "iopub.execute_input": "2022-03-26T11:28:31.273616Z",
     "iopub.status.busy": "2022-03-26T11:28:31.273117Z",
     "iopub.status.idle": "2022-03-26T11:28:31.276081Z",
     "shell.execute_reply": "2022-03-26T11:28:31.275435Z"
    },
    "papermill": {
     "duration": 0.0663,
     "end_time": "2022-03-26T11:28:31.276254",
     "exception": false,
     "start_time": "2022-03-26T11:28:31.209954",
     "status": "completed"
    },
    "tags": []
   },
   "outputs": [],
   "source": [
    "total_experiment_time_secs = time.time() - start_time_secs"
   ]
  },
  {
   "cell_type": "code",
   "execution_count": 15,
   "id": "cae88f23",
   "metadata": {
    "execution": {
     "iopub.execute_input": "2022-03-26T11:28:31.399594Z",
     "iopub.status.busy": "2022-03-26T11:28:31.398107Z",
     "iopub.status.idle": "2022-03-26T11:28:55.761599Z",
     "shell.execute_reply": "2022-03-26T11:28:55.760800Z"
    },
    "papermill": {
     "duration": 24.429867,
     "end_time": "2022-03-26T11:28:55.761794",
     "exception": false,
     "start_time": "2022-03-26T11:28:31.331927",
     "status": "completed"
    },
    "tags": []
   },
   "outputs": [],
   "source": [
    "source_test_label_accuracy, source_test_label_loss = jig.test(datasets.source.processed.test)\n",
    "target_test_label_accuracy, target_test_label_loss = jig.test(datasets.target.processed.test)\n",
    "\n",
    "source_val_label_accuracy, source_val_label_loss = jig.test(datasets.source.processed.val)\n",
    "target_val_label_accuracy, target_val_label_loss = jig.test(datasets.target.processed.val)\n",
    "\n",
    "history = jig.get_history()\n",
    "\n",
    "total_epochs_trained = len(history[\"epoch_indices\"])\n",
    "\n",
    "val_dl = wrap_in_dataloader(p, Sequence_Aggregator((datasets.source.original.val, datasets.target.original.val)))\n",
    "\n",
    "confusion = confusion_by_domain_over_dataloader(model, p.device, val_dl, forward_uses_domain=False)\n",
    "per_domain_accuracy = per_domain_accuracy_from_confusion(confusion)\n",
    "\n",
    "# Add a key to per_domain_accuracy for if it was a source domain\n",
    "for domain, accuracy in per_domain_accuracy.items():\n",
    "    per_domain_accuracy[domain] = {\n",
    "        \"accuracy\": accuracy,\n",
    "        \"source?\": domain in p.domains_source\n",
    "    }\n",
    "\n",
    "# Do an independent accuracy assesment JUST TO BE SURE!\n",
    "# _source_test_label_accuracy = independent_accuracy_assesment(model, datasets.source.processed.test, p.device)\n",
    "# _target_test_label_accuracy = independent_accuracy_assesment(model, datasets.target.processed.test, p.device)\n",
    "# _source_val_label_accuracy = independent_accuracy_assesment(model, datasets.source.processed.val, p.device)\n",
    "# _target_val_label_accuracy = independent_accuracy_assesment(model, datasets.target.processed.val, p.device)\n",
    "\n",
    "# assert(_source_test_label_accuracy == source_test_label_accuracy)\n",
    "# assert(_target_test_label_accuracy == target_test_label_accuracy)\n",
    "# assert(_source_val_label_accuracy == source_val_label_accuracy)\n",
    "# assert(_target_val_label_accuracy == target_val_label_accuracy)\n",
    "\n",
    "###################################\n",
    "# Write out the results\n",
    "###################################\n",
    "\n",
    "experiment = {\n",
    "    \"experiment_name\": p.experiment_name,\n",
    "    \"parameters\": p,\n",
    "    \"results\": {\n",
    "        \"source_test_label_accuracy\": source_test_label_accuracy,\n",
    "        \"source_test_label_loss\": source_test_label_loss,\n",
    "        \"target_test_label_accuracy\": target_test_label_accuracy,\n",
    "        \"target_test_label_loss\": target_test_label_loss,\n",
    "        \"source_val_label_accuracy\": source_val_label_accuracy,\n",
    "        \"source_val_label_loss\": source_val_label_loss,\n",
    "        \"target_val_label_accuracy\": target_val_label_accuracy,\n",
    "        \"target_val_label_loss\": target_val_label_loss,\n",
    "        \"total_epochs_trained\": total_epochs_trained,\n",
    "        \"total_experiment_time_secs\": total_experiment_time_secs,\n",
    "        \"confusion\": confusion,\n",
    "        \"per_domain_accuracy\": per_domain_accuracy,\n",
    "    },\n",
    "    \"history\": history,\n",
    "    \"dataset_metrics\": get_dataset_metrics(datasets, \"cnn\"),\n",
    "}"
   ]
  },
  {
   "cell_type": "code",
   "execution_count": 16,
   "id": "74c318cf",
   "metadata": {
    "execution": {
     "iopub.execute_input": "2022-03-26T11:28:55.896003Z",
     "iopub.status.busy": "2022-03-26T11:28:55.887044Z",
     "iopub.status.idle": "2022-03-26T11:28:56.069511Z",
     "shell.execute_reply": "2022-03-26T11:28:56.069096Z"
    },
    "papermill": {
     "duration": 0.252951,
     "end_time": "2022-03-26T11:28:56.069621",
     "exception": false,
     "start_time": "2022-03-26T11:28:55.816670",
     "status": "completed"
    },
    "tags": []
   },
   "outputs": [
    {
     "data": {
      "text/plain": [
       "<AxesSubplot:title={'center':'Source Train Label Loss vs Source Val Label Loss'}, xlabel='Epoch'>"
      ]
     },
     "execution_count": 16,
     "metadata": {},
     "output_type": "execute_result"
    },
    {
     "data": {
      "image/png": "[encoded data removed]",
      "text/plain": [
       "<Figure size 1080x504 with 1 Axes>"
      ]
     },
     "metadata": {
      "needs_background": "light"
     },
     "output_type": "display_data"
    }
   ],
   "source": [
    "get_loss_curve(experiment)"
   ]
  },
  {
   "cell_type": "code",
   "execution_count": 17,
   "id": "59376601",
   "metadata": {
    "execution": {
     "iopub.execute_input": "2022-03-26T11:28:56.180413Z",
     "iopub.status.busy": "2022-03-26T11:28:56.179875Z",
     "iopub.status.idle": "2022-03-26T11:28:56.452560Z",
     "shell.execute_reply": "2022-03-26T11:28:56.452890Z"
    },
    "papermill": {
     "duration": 0.337752,
     "end_time": "2022-03-26T11:28:56.453034",
     "exception": false,
     "start_time": "2022-03-26T11:28:56.115282",
     "status": "completed"
    },
    "tags": []
   },
   "outputs": [
    {
     "data": {
      "text/plain": [
       "<AxesSubplot:title={'center':'Results'}>"
      ]
     },
     "execution_count": 17,
     "metadata": {},
     "output_type": "execute_result"
    },
    {
     "data": {
      "image/png": "[encoded data removed]",
      "text/plain": [
       "<Figure size 1080x504 with 1 Axes>"
      ]
     },
     "metadata": {
      "needs_background": "light"
     },
     "output_type": "display_data"
    }
   ],
   "source": [
    "get_results_table(experiment)"
   ]
  },
  {
   "cell_type": "code",
   "execution_count": 18,
   "id": "e80c5c98",
   "metadata": {
    "execution": {
     "iopub.execute_input": "2022-03-26T11:28:56.569381Z",
     "iopub.status.busy": "2022-03-26T11:28:56.568553Z",
     "iopub.status.idle": "2022-03-26T11:28:56.713543Z",
     "shell.execute_reply": "2022-03-26T11:28:56.712765Z"
    },
    "papermill": {
     "duration": 0.21362,
     "end_time": "2022-03-26T11:28:56.713717",
     "exception": false,
     "start_time": "2022-03-26T11:28:56.500097",
     "status": "completed"
    },
    "tags": []
   },
   "outputs": [
    {
     "data": {
      "text/plain": [
       "<AxesSubplot:title={'center':'Per Domain Accuracy'}, xlabel='domain'>"
      ]
     },
     "execution_count": 18,
     "metadata": {},
     "output_type": "execute_result"
    },
    {
     "data": {
      "image/png": "[encoded data removed]",
      "text/plain": [
       "<Figure size 1080x504 with 1 Axes>"
      ]
     },
     "metadata": {
      "needs_background": "light"
     },
     "output_type": "display_data"
    }
   ],
   "source": [
    "get_domain_accuracies(experiment)"
   ]
  },
  {
   "cell_type": "code",
   "execution_count": 19,
   "id": "086fdd10",
   "metadata": {
    "execution": {
     "iopub.execute_input": "2022-03-26T11:28:56.822346Z",
     "iopub.status.busy": "2022-03-26T11:28:56.821768Z",
     "iopub.status.idle": "2022-03-26T11:28:56.826088Z",
     "shell.execute_reply": "2022-03-26T11:28:56.825533Z"
    },
    "papermill": {
     "duration": 0.05876,
     "end_time": "2022-03-26T11:28:56.826196",
     "exception": false,
     "start_time": "2022-03-26T11:28:56.767436",
     "status": "completed"
    },
    "tags": []
   },
   "outputs": [
    {
     "name": "stdout",
     "output_type": "stream",
     "text": [
      "Source Test Label Accuracy: 0.9584621752574809 Target Test Label Accuracy: 0.9584621752574809\n",
      "Source Val Label Accuracy: 0.9592130042620676 Target Val Label Accuracy: 0.9592130042620676\n"
     ]
    }
   ],
   "source": [
    "print(\"Source Test Label Accuracy:\", experiment[\"results\"][\"source_test_label_accuracy\"], \"Target Test Label Accuracy:\", experiment[\"results\"][\"target_test_label_accuracy\"])\n",
    "print(\"Source Val Label Accuracy:\", experiment[\"results\"][\"source_val_label_accuracy\"], \"Target Val Label Accuracy:\", experiment[\"results\"][\"target_val_label_accuracy\"])"
   ]
  },
  {
   "cell_type": "code",
   "execution_count": 20,
   "id": "9f450536",
   "metadata": {
    "execution": {
     "iopub.execute_input": "2022-03-26T11:28:56.935358Z",
     "iopub.status.busy": "2022-03-26T11:28:56.934791Z",
     "iopub.status.idle": "2022-03-26T11:28:56.938613Z",
     "shell.execute_reply": "2022-03-26T11:28:56.938048Z"
    },
    "papermill": {
     "duration": 0.058619,
     "end_time": "2022-03-26T11:28:56.938719",
     "exception": false,
     "start_time": "2022-03-26T11:28:56.880100",
     "status": "completed"
    },
    "tags": [
     "experiment_json"
    ]
   },
   "outputs": [
    {
     "data": {
      "text/plain": [
       "'{\"experiment_name\": \"cnn_2:wisig\", \"parameters\": {\"experiment_name\": \"cnn_2:wisig\", \"labels\": [\"1-10\", \"1-12\", \"1-14\", \"1-16\", \"1-18\", \"1-19\", \"1-8\", \"10-11\", \"10-17\", \"10-4\", \"10-7\", \"11-1\", \"11-10\", \"11-19\", \"11-20\", \"11-4\", \"11-7\", \"12-19\", \"12-20\", \"12-7\", \"13-14\", \"13-18\", \"13-19\", \"13-20\", \"13-3\", \"13-7\", \"14-10\", \"14-11\", \"14-12\", \"14-13\", \"14-14\", \"14-19\", \"14-20\", \"14-7\", \"14-8\", \"14-9\", \"15-1\", \"15-19\", \"15-6\", \"16-1\", \"16-16\", \"16-19\", \"16-20\", \"17-10\", \"17-11\", \"18-1\", \"18-10\", \"18-11\", \"18-12\", \"18-13\", \"18-14\", \"18-15\", \"18-16\", \"18-17\", \"18-19\", \"18-2\", \"18-20\", \"18-4\", \"18-5\", \"18-7\", \"18-8\", \"18-9\", \"19-1\", \"19-10\", \"19-11\", \"19-12\", \"19-13\", \"19-14\", \"19-15\", \"19-19\", \"19-2\", \"19-20\", \"19-3\", \"19-4\", \"19-6\", \"19-7\", \"19-8\", \"19-9\", \"2-1\", \"2-13\", \"2-15\", \"2-3\", \"2-4\", \"2-5\", \"2-6\", \"2-7\", \"2-8\", \"20-1\", \"20-12\", \"20-14\", \"20-15\", \"20-16\", \"20-18\", \"20-19\", \"20-20\", \"20-3\", \"20-4\", \"20-5\", \"20-7\", \"20-8\", \"3-1\", \"3-13\", \"3-18\", \"3-2\", \"3-8\", \"4-1\", \"4-10\", \"4-11\", \"5-1\", \"5-5\", \"6-1\", \"6-15\", \"6-6\", \"7-10\", \"7-11\", \"7-12\", \"7-13\", \"7-14\", \"7-7\", \"7-8\", \"7-9\", \"8-1\", \"8-13\", \"8-14\", \"8-18\", \"8-20\", \"8-3\", \"8-8\", \"9-1\", \"9-7\"], \"domains_source\": [1, 2, 3, 4], \"domains_target\": [1, 2, 3, 4], \"pickle_name_target\": \"wisig.node3-19.stratified_ds.2022A.pkl\", \"pickle_name_source\": \"wisig.node3-19.stratified_ds.2022A.pkl\", \"device\": \"cuda\", \"lr\": 0.0001, \"batch_size\": 128, \"normalize_source\": false, \"normalize_target\": false, \"num_examples_per_domain_per_label_source\": -1, \"num_examples_per_domain_per_label_target\": -1, \"torch_default_dtype\": \"torch.float32\", \"n_epoch\": 50, \"patience\": 3, \"criteria_for_best\": \"target_accuracy\", \"x_net\": [{\"class\": \"nnReshape\", \"kargs\": {\"shape\": [-1, 1, 2, 256]}}, {\"class\": \"Conv2d\", \"kargs\": {\"in_channels\": 1, \"out_channels\": 256, \"kernel_size\": [1, 7], \"bias\": false, \"padding\": [0, 3]}}, {\"class\": \"ReLU\", \"kargs\": {\"inplace\": true}}, {\"class\": \"BatchNorm2d\", \"kargs\": {\"num_features\": 256}}, {\"class\": \"Conv2d\", \"kargs\": {\"in_channels\": 256, \"out_channels\": 80, \"kernel_size\": [2, 7], \"bias\": true, \"padding\": [0, 3]}}, {\"class\": \"ReLU\", \"kargs\": {\"inplace\": true}}, {\"class\": \"BatchNorm2d\", \"kargs\": {\"num_features\": 80}}, {\"class\": \"Flatten\", \"kargs\": {}}, {\"class\": \"Linear\", \"kargs\": {\"in_features\": 20480, \"out_features\": 256}}, {\"class\": \"ReLU\", \"kargs\": {\"inplace\": true}}, {\"class\": \"BatchNorm1d\", \"kargs\": {\"num_features\": 256}}, {\"class\": \"Linear\", \"kargs\": {\"in_features\": 256, \"out_features\": 130}}], \"NUM_LOGS_PER_EPOCH\": 10, \"BEST_MODEL_PATH\": \"./best_model.pth\", \"dataset_seed\": 500, \"seed\": 500}, \"results\": {\"source_test_label_accuracy\": 0.9584621752574809, \"source_test_label_loss\": 0.19281846970157274, \"target_test_label_accuracy\": 0.9584621752574809, \"target_test_label_loss\": 0.19282236950025194, \"source_val_label_accuracy\": 0.9592130042620676, \"source_val_label_loss\": 0.19090519221558508, \"target_val_label_accuracy\": 0.9592130042620676, \"target_val_label_loss\": 0.19096260640440108, \"total_epochs_trained\": 10, \"total_experiment_time_secs\": 215.8120472431183, \"confusion\": {\"1\": {\"25\": {\"25\": 40, \"18\": 2}, \"108\": {\"108\": 308, \"88\": 2, \"124\": 2}, \"18\": {\"18\": 304, \"126\": 4, \"71\": 2, \"117\": 2, \"109\": 2}, \"107\": {\"107\": 310}, \"94\": {\"94\": 230, \"84\": 2, \"88\": 2, \"126\": 2}, \"5\": {\"5\": 226, \"1\": 2}, \"88\": {\"24\": 110, \"88\": 214, \"108\": 26}, \"87\": {\"87\": 268, \"18\": 2, \"71\": 2}, \"106\": {\"106\": 338, \"12\": 6, \"71\": 2, \"109\": 2}, \"95\": {\"95\": 92, \"18\": 2}, \"8\": {\"8\": 366}, \"122\": {\"122\": 220, \"126\": 4}, \"115\": {\"115\": 36}, \"24\": {\"24\": 204, \"108\": 22, \"126\": 4, \"109\": 2}, \"98\": {\"98\": 270, \"10\": 2}, \"16\": {\"16\": 276}, \"62\": {\"62\": 302}, \"27\": {\"27\": 236, \"84\": 2}, \"10\": {\"10\": 300, \"78\": 4}, \"84\": {\"84\": 338, \"110\": 2}, \"34\": {\"34\": 80}, \"114\": {\"114\": 360}, \"44\": {\"44\": 190}, \"121\": {\"121\": 82}, \"12\": {\"12\": 252, \"108\": 2, \"126\": 4, \"94\": 2, \"88\": 2, \"24\": 2}, \"123\": {\"123\": 44, \"97\": 2}, \"0\": {\"0\": 204, \"71\": 2, \"101\": 4, \"109\": 2}, \"111\": {\"111\": 300, \"70\": 2, \"125\": 2}, \"2\": {\"2\": 80, \"109\": 2}, \"119\": {\"119\": 44, \"89\": 2, \"64\": 2}, \"50\": {\"50\": 40, \"109\": 2}, \"112\": {\"112\": 44, \"77\": 2}, \"7\": {\"7\": 366}, \"51\": {\"51\": 42, \"98\": 2}, \"20\": {\"20\": 48}, \"1\": {\"1\": 340, \"108\": 2}, \"116\": {\"116\": 86, \"37\": 2}, \"36\": {\"36\": 336, \"126\": 2, \"71\": 2, \"27\": 2}, \"90\": {\"90\": 462, \"15\": 2}, \"22\": {\"22\": 46, \"59\": 2}, \"92\": {\"92\": 78}, \"103\": {\"103\": 38, \"42\": 2, \"109\": 2, \"9\": 2}, \"129\": {\"129\": 76, \"45\": 2}, \"125\": {\"125\": 438}, \"43\": {\"43\": 312, \"84\": 2, \"101\": 2, \"126\": 2, \"110\": 2, \"109\": 2, \"70\": 2}, \"126\": {\"126\": 338, \"108\": 2}, \"4\": {\"84\": 2, \"4\": 248, \"71\": 2, \"109\": 2}, \"23\": {\"23\": 54, \"109\": 2, \"84\": 2, \"126\": 2}, \"46\": {\"46\": 32, \"90\": 2, \"24\": 2}, \"14\": {\"14\": 244}, \"76\": {\"76\": 48}, \"96\": {\"96\": 48, \"9\": 2, \"126\": 6}, \"109\": {\"109\": 310, \"108\": 2, \"126\": 4}, \"26\": {\"26\": 330, \"126\": 2, \"84\": 2, \"109\": 8, \"2\": 2}, \"32\": {\"32\": 82}, \"93\": {\"93\": 392, \"70\": 4, \"43\": 4, \"87\": 2}, \"33\": {\"33\": 386, \"59\": 2, \"84\": 2, \"117\": 2, \"35\": 2}, \"113\": {\"113\": 308, \"82\": 2}, \"101\": {\"101\": 314, \"106\": 2}, \"28\": {\"28\": 48, \"82\": 2}, \"100\": {\"100\": 46}, \"124\": {\"124\": 326}, \"71\": {\"71\": 266, \"5\": 2, \"125\": 2, \"23\": 2}, \"99\": {\"99\": 64}, \"42\": {\"42\": 70, \"107\": 2}, \"31\": {\"31\": 46}, \"79\": {\"79\": 36}, \"89\": {\"89\": 92}, \"128\": {\"128\": 68}, \"60\": {\"60\": 44, \"110\": 2}, \"69\": {\"69\": 272, \"71\": 2, \"118\": 2}, \"120\": {\"120\": 48, \"109\": 2}, \"75\": {\"75\": 44}, \"17\": {\"17\": 40, \"21\": 2, \"12\": 2}, \"40\": {\"40\": 356, \"105\": 2, \"109\": 2}, \"102\": {\"102\": 304, \"69\": 2, \"119\": 2}, \"45\": {\"21\": 2, \"45\": 18, \"97\": 2, \"126\": 2, \"110\": 2, \"84\": 2, \"23\": 2}, \"118\": {\"118\": 210}, \"15\": {\"15\": 262, \"97\": 2, \"84\": 2}, \"39\": {\"39\": 258, \"71\": 2, \"5\": 2, \"21\": 2}, \"110\": {\"110\": 324, \"71\": 2, \"122\": 2}, \"3\": {\"3\": 216, \"84\": 2, \"126\": 2, \"73\": 2}, \"127\": {\"127\": 270, \"18\": 2}, \"38\": {\"38\": 40}, \"11\": {\"11\": 344, \"39\": 2}, \"86\": {\"86\": 94, \"24\": 2}, \"82\": {\"82\": 96}, \"104\": {\"104\": 46}, \"85\": {\"85\": 82, \"21\": 2}, \"91\": {\"91\": 78}, \"21\": {\"21\": 88, \"71\": 2, \"32\": 2, \"70\": 6, \"10\": 4}, \"81\": {\"81\": 76}, \"117\": {\"117\": 360}, \"73\": {\"73\": 54, \"109\": 4}, \"19\": {\"19\": 76}, \"41\": {\"41\": 48}, \"6\": {\"6\": 80}, \"83\": {\"83\": 74, \"46\": 2, \"71\": 2}, \"53\": {\"53\": 46, \"13\": 2, \"59\": 2}, \"105\": {\"105\": 214, \"108\": 2}, \"70\": {\"70\": 266, \"88\": 20, \"108\": 12, \"93\": 2, \"109\": 22}, \"30\": {\"30\": 132, \"84\": 2, \"62\": 2}, \"74\": {\"74\": 42, \"13\": 2}, \"29\": {\"29\": 72, \"42\": 2}, \"52\": {\"52\": 54}, \"35\": {\"35\": 30, \"101\": 2, \"59\": 2}, \"9\": {\"9\": 80}, \"67\": {\"67\": 44}, \"49\": {\"49\": 50}, \"66\": {\"66\": 46, \"48\": 2}, \"63\": {\"63\": 42, \"121\": 2}, \"48\": {\"48\": 36}, \"65\": {\"65\": 36, \"109\": 2}, \"59\": {\"59\": 38}, \"72\": {\"72\": 80}, \"80\": {\"80\": 42, \"107\": 2}, \"13\": {\"13\": 44, \"6\": 2}, \"97\": {\"97\": 32, \"27\": 20, \"108\": 2}, \"47\": {\"9\": 2, \"47\": 30, \"96\": 2}, \"64\": {\"64\": 46}, \"58\": {\"58\": 36, \"59\": 2}, \"57\": {\"57\": 38}, \"56\": {\"56\": 36}, \"68\": {\"68\": 46}, \"54\": {\"54\": 46}, \"55\": {\"55\": 34}, \"37\": {\"37\": 44}, \"78\": {\"78\": 40, \"70\": 4, \"84\": 2, \"39\": 2}, \"61\": {\"30\": 2, \"61\": 34, \"89\": 2}, \"77\": {\"77\": 40}}, \"2\": {\"93\": {\"93\": 414, \"110\": 2, \"71\": 2}, \"125\": {\"125\": 412}, \"38\": {\"38\": 42, \"109\": 2}, \"26\": {\"26\": 348, \"71\": 4, \"39\": 2, \"84\": 2, \"88\": 2}, \"14\": {\"14\": 106, \"23\": 2, \"126\": 2, \"84\": 2, \"24\": 2, \"109\": 4, \"88\": 4, \"71\": 2}, \"39\": {\"39\": 274, \"84\": 4, \"109\": 6, \"71\": 2, \"21\": 2}, \"92\": {\"92\": 64, \"71\": 2, \"1\": 2, \"109\": 2, \"125\": 2}, \"70\": {\"109\": 28, \"70\": 246, \"88\": 8, \"39\": 14, \"36\": 2, \"71\": 8, \"108\": 2, \"24\": 2, \"16\": 2}, \"109\": {\"109\": 244, \"24\": 2, \"126\": 2, \"108\": 2}, \"33\": {\"33\": 366, \"84\": 2, \"109\": 2}, \"69\": {\"69\": 334, \"71\": 10, \"109\": 6, \"26\": 2, \"84\": 2, \"23\": 2}, \"112\": {\"112\": 46, \"46\": 2}, \"94\": {\"94\": 140, \"71\": 14, \"109\": 6, \"126\": 2}, \"4\": {\"4\": 220, \"109\": 4, \"84\": 2, \"71\": 2}, \"111\": {\"111\": 354, \"64\": 2, \"109\": 2, \"71\": 2}, \"107\": {\"107\": 154, \"15\": 2, \"82\": 2, \"23\": 2, \"97\": 2, \"63\": 2, \"1\": 2, \"21\": 2}, \"17\": {\"17\": 40, \"69\": 2, \"109\": 4, \"37\": 2}, \"8\": {\"8\": 316, \"109\": 4, \"71\": 2}, \"37\": {\"37\": 46, \"109\": 2}, \"108\": {\"108\": 352}, \"32\": {\"32\": 92}, \"90\": {\"90\": 470, \"124\": 2, \"98\": 2, \"44\": 2}, \"118\": {\"118\": 166, \"109\": 4, \"122\": 2}, \"102\": {\"102\": 312, \"109\": 2}, \"5\": {\"5\": 276, \"24\": 2, \"109\": 4, \"71\": 2}, \"1\": {\"1\": 310, \"71\": 4}, \"110\": {\"110\": 98, \"18\": 2, \"122\": 2, \"104\": 2, \"84\": 2, \"109\": 2}, \"64\": {\"64\": 46, \"88\": 2}, \"105\": {\"105\": 322, \"87\": 2, \"71\": 4, \"18\": 2}, \"63\": {\"63\": 50, \"21\": 2}, \"18\": {\"71\": 10, \"18\": 306, \"109\": 6}, \"126\": {\"126\": 292, \"109\": 2, \"73\": 2, \"121\": 2, \"108\": 2}, \"86\": {\"86\": 86}, \"10\": {\"10\": 148, \"108\": 2, \"109\": 6}, \"15\": {\"15\": 288, \"24\": 4, \"71\": 4, \"18\": 4, \"59\": 2}, \"3\": {\"3\": 338, \"71\": 2, \"84\": 4, \"109\": 2}, \"101\": {\"101\": 398, \"71\": 2}, \"66\": {\"66\": 46, \"94\": 2, \"120\": 2}, \"124\": {\"124\": 310, \"109\": 2, \"125\": 2}, \"0\": {\"0\": 288, \"101\": 2, \"30\": 2, \"24\": 2, \"88\": 2}, \"87\": {\"39\": 2, \"87\": 240, \"11\": 8, \"43\": 8, \"109\": 8, \"126\": 6, \"84\": 4, \"23\": 2, \"70\": 2, \"71\": 2, \"108\": 2, \"24\": 2}, \"16\": {\"16\": 290, \"18\": 2, \"71\": 8, \"109\": 4, \"110\": 2, \"69\": 2, \"93\": 2}, \"98\": {\"98\": 298, \"5\": 2, \"125\": 2, \"126\": 2, \"2\": 2}, \"88\": {\"88\": 242, \"109\": 16, \"108\": 36, \"71\": 8, \"39\": 4, \"16\": 2, \"18\": 2, \"126\": 2}, \"82\": {\"82\": 84, \"24\": 2, \"66\": 2, \"109\": 2}, \"71\": {\"71\": 252, \"5\": 2, \"109\": 4}, \"59\": {\"59\": 32, \"109\": 2, \"24\": 2, \"21\": 2, \"5\": 2}, \"65\": {\"65\": 52, \"2\": 2}, \"83\": {\"83\": 98, \"16\": 2}, \"77\": {\"77\": 48}, \"46\": {\"46\": 46, \"112\": 2}, \"122\": {\"122\": 342, \"10\": 2, \"117\": 2, \"109\": 4, \"110\": 2, \"23\": 2}, \"55\": {\"96\": 2, \"55\": 46}, \"36\": {\"36\": 296, \"71\": 12, \"27\": 2, \"58\": 2, \"69\": 4, \"109\": 6, \"84\": 2}, \"62\": {\"62\": 338, \"109\": 8, \"88\": 2, \"10\": 2}, \"106\": {\"106\": 296, \"109\": 4, \"125\": 2, \"71\": 2}, \"12\": {\"12\": 206, \"71\": 2, \"126\": 4, \"16\": 2, \"24\": 2, \"109\": 6}, \"43\": {\"43\": 286, \"87\": 6, \"112\": 2, \"24\": 2, \"82\": 2, \"109\": 6, \"71\": 6, \"23\": 2}, \"48\": {\"48\": 48, \"121\": 2}, \"42\": {\"42\": 70, \"109\": 2}, \"40\": {\"40\": 324, \"109\": 8, \"82\": 2, \"71\": 12, \"69\": 2, \"24\": 4, \"84\": 2, \"23\": 2}, \"24\": {\"24\": 258, \"71\": 8, \"88\": 4, \"84\": 4, \"126\": 2, \"109\": 4}, \"34\": {\"34\": 82, \"109\": 2}, \"95\": {\"95\": 92}, \"7\": {\"7\": 330, \"71\": 6}, \"84\": {\"84\": 230, \"71\": 4, \"24\": 2}, \"30\": {\"30\": 268, \"88\": 2, \"109\": 6, \"71\": 2, \"127\": 2, \"79\": 2}, \"116\": {\"116\": 74}, \"20\": {\"20\": 48}, \"49\": {\"49\": 58, \"29\": 2, \"55\": 2}, \"100\": {\"100\": 44, \"109\": 2, \"58\": 2}, \"2\": {\"2\": 78, \"117\": 2}, \"113\": {\"113\": 186, \"71\": 2}, \"78\": {\"21\": 36, \"78\": 64, \"71\": 4, \"109\": 4, \"70\": 6, \"39\": 10, \"88\": 2}, \"57\": {\"57\": 50}, \"114\": {\"114\": 286, \"10\": 2, \"18\": 2, \"24\": 2, \"71\": 2}, \"103\": {\"103\": 44, \"109\": 4}, \"60\": {\"60\": 74, \"24\": 2, \"110\": 2}, \"25\": {\"25\": 42}, \"23\": {\"23\": 110, \"109\": 4, \"113\": 4}, \"11\": {\"11\": 198, \"71\": 2, \"63\": 2, \"23\": 2, \"109\": 2}, \"119\": {\"119\": 52, \"125\": 2}, \"58\": {\"58\": 52, \"109\": 2}, \"85\": {\"85\": 82, \"109\": 2, \"37\": 2}, \"121\": {\"109\": 2, \"121\": 88}, \"127\": {\"127\": 308, \"71\": 4}, \"13\": {\"13\": 46}, \"79\": {\"79\": 38, \"58\": 2}, \"53\": {\"53\": 46, \"94\": 2}, \"19\": {\"19\": 76, \"65\": 2}, \"91\": {\"91\": 68, \"96\": 2}, \"73\": {\"73\": 70, \"23\": 4}, \"117\": {\"117\": 298, \"109\": 4}, \"80\": {\"80\": 38, \"51\": 2}, \"6\": {\"6\": 84}, \"75\": {\"75\": 48}, \"120\": {\"120\": 48, \"121\": 2}, \"27\": {\"27\": 120, \"36\": 20, \"71\": 4, \"18\": 2, \"23\": 4, \"24\": 6, \"109\": 14, \"57\": 2, \"84\": 4, \"37\": 2}, \"44\": {\"44\": 256, \"98\": 2}, \"21\": {\"21\": 114, \"71\": 4, \"109\": 6}, \"47\": {\"47\": 28, \"21\": 4, \"24\": 2, \"19\": 2, \"124\": 2}, \"89\": {\"89\": 96, \"117\": 2}, \"104\": {\"104\": 54, \"109\": 2}, \"72\": {\"88\": 2, \"72\": 70, \"16\": 4, \"23\": 2}, \"31\": {\"31\": 52}, \"81\": {\"81\": 62, \"32\": 2, \"120\": 2}, \"28\": {\"61\": 2, \"28\": 52}, \"129\": {\"129\": 78, \"5\": 2}, \"61\": {\"61\": 50}, \"22\": {\"22\": 48, \"74\": 2}, \"50\": {\"50\": 44}, \"54\": {\"54\": 54}, \"29\": {\"29\": 86, \"61\": 2}, \"52\": {\"52\": 52}, \"51\": {\"51\": 48, \"84\": 2}, \"99\": {\"99\": 78, \"121\": 2, \"23\": 2}, \"9\": {\"9\": 88}, \"123\": {\"123\": 46}, \"56\": {\"56\": 32, \"97\": 2}, \"96\": {\"96\": 52, \"27\": 2, \"93\": 2}, \"128\": {\"128\": 62, \"33\": 2}, \"97\": {\"97\": 54, \"55\": 2}, \"115\": {\"115\": 34, \"55\": 2, \"109\": 2}, \"76\": {\"76\": 48}, \"35\": {\"35\": 32, \"101\": 2, \"61\": 2}, \"67\": {\"67\": 42, \"120\": 2, \"121\": 2, \"71\": 2}, \"74\": {\"74\": 42, \"109\": 4, \"71\": 2}, \"45\": {\"1\": 2, \"96\": 2, \"45\": 42, \"24\": 2}, \"68\": {\"68\": 40, \"109\": 2, \"21\": 2, \"18\": 2}, \"41\": {\"41\": 50}}, \"3\": {\"15\": {\"15\": 260, \"23\": 2}, \"10\": {\"10\": 312, \"109\": 2, \"71\": 2, \"84\": 2, \"0\": 2, \"70\": 2, \"98\": 2}, \"65\": {\"65\": 36}, \"102\": {\"102\": 318}, \"110\": {\"110\": 226, \"18\": 4, \"3\": 2, \"71\": 2, \"84\": 2}, \"82\": {\"82\": 72, \"109\": 2}, \"27\": {\"27\": 176, \"18\": 2, \"71\": 2, \"36\": 2, \"24\": 58, \"105\": 2, \"109\": 2}, \"118\": {\"118\": 244, \"88\": 2, \"122\": 2, \"18\": 2, \"1\": 2, \"11\": 2}, \"123\": {\"123\": 40, \"44\": 2}, \"128\": {\"128\": 80}, \"91\": {\"84\": 2, \"91\": 64}, \"11\": {\"11\": 372, \"108\": 10}, \"105\": {\"105\": 312, \"20\": 2}, \"127\": {\"127\": 320, \"69\": 2}, \"62\": {\"62\": 318}, \"107\": {\"107\": 366}, \"8\": {\"8\": 342, \"71\": 2}, \"98\": {\"90\": 4, \"98\": 324}, \"58\": {\"58\": 42, \"65\": 2, \"110\": 2}, \"16\": {\"16\": 292, \"84\": 2, \"18\": 4}, \"122\": {\"122\": 140, \"18\": 8, \"94\": 2, \"71\": 2, \"125\": 2}, \"93\": {\"93\": 410, \"96\": 2, \"23\": 2}, \"54\": {\"54\": 48}, \"33\": {\"33\": 392}, \"112\": {\"84\": 2, \"109\": 6, \"95\": 2, \"112\": 36, \"42\": 2}, \"40\": {\"40\": 316, \"105\": 2, \"109\": 6}, \"90\": {\"90\": 466, \"22\": 2}, \"86\": {\"86\": 78}, \"34\": {\"34\": 78, \"14\": 2}, \"109\": {\"109\": 318, \"49\": 2, \"84\": 2}, \"94\": {\"94\": 210, \"71\": 2}, \"113\": {\"113\": 296, \"18\": 4}, \"12\": {\"12\": 260, \"18\": 2}, \"117\": {\"117\": 282, \"85\": 2, \"2\": 2}, \"30\": {\"30\": 206, \"98\": 2, \"71\": 4, \"108\": 4}, \"126\": {\"126\": 306, \"39\": 10, \"71\": 2}, \"97\": {\"97\": 52, \"15\": 2, \"117\": 2}, \"43\": {\"43\": 130, \"39\": 6, \"84\": 2, \"71\": 2}, \"121\": {\"121\": 80}, \"14\": {\"14\": 206}, \"111\": {\"111\": 328, \"29\": 2, \"35\": 2, \"126\": 2}, \"92\": {\"92\": 82, \"21\": 2}, \"51\": {\"51\": 44, \"97\": 2, \"50\": 2}, \"74\": {\"74\": 42, \"84\": 2}, \"89\": {\"89\": 78}, \"7\": {\"7\": 286}, \"114\": {\"114\": 322, \"18\": 2, \"69\": 2, \"63\": 2}, \"5\": {\"5\": 274, \"18\": 6, \"84\": 4}, \"36\": {\"36\": 294, \"24\": 10, \"27\": 22, \"88\": 2}, \"24\": {\"24\": 116, \"18\": 4, \"71\": 4, \"84\": 2}, \"69\": {\"69\": 202, \"91\": 2, \"23\": 4, \"84\": 4, \"88\": 2, \"17\": 2, \"71\": 2}, \"125\": {\"125\": 318, \"90\": 2}, \"18\": {\"18\": 326, \"71\": 4}, \"39\": {\"39\": 262, \"126\": 8, \"18\": 2}, \"44\": {\"44\": 182}, \"71\": {\"71\": 160, \"126\": 2, \"109\": 4, \"29\": 2, \"39\": 2, \"90\": 2}, \"96\": {\"96\": 54}, \"79\": {\"79\": 38}, \"46\": {\"46\": 44, \"61\": 2}, \"0\": {\"126\": 2, \"0\": 286, \"18\": 2}, \"85\": {\"85\": 92}, \"6\": {\"6\": 82, \"74\": 2, \"62\": 2}, \"73\": {\"73\": 102, \"21\": 2}, \"84\": {\"84\": 268, \"109\": 2}, \"106\": {\"106\": 256, \"84\": 2}, \"37\": {\"37\": 44, \"85\": 2, \"21\": 2}, \"101\": {\"101\": 120, \"18\": 10, \"84\": 4, \"74\": 2}, \"26\": {\"26\": 334}, \"2\": {\"2\": 72, \"71\": 2}, \"4\": {\"4\": 244, \"84\": 2}, \"32\": {\"32\": 82}, \"49\": {\"49\": 58, \"97\": 2, \"36\": 2, \"90\": 2}, \"72\": {\"72\": 74, \"65\": 2}, \"108\": {\"108\": 356, \"71\": 2}, \"87\": {\"87\": 300, \"18\": 2, \"39\": 2, \"21\": 2}, \"124\": {\"124\": 310, \"125\": 2}, \"21\": {\"18\": 12, \"21\": 104, \"71\": 2, \"127\": 2, \"84\": 6, \"109\": 2}, \"1\": {\"1\": 268, \"18\": 2, \"69\": 2, \"21\": 2, \"84\": 2}, \"66\": {\"66\": 48}, \"64\": {\"64\": 50}, \"60\": {\"60\": 72, \"11\": 2}, \"88\": {\"88\": 264, \"24\": 2, \"125\": 2, \"109\": 4, \"126\": 2, \"108\": 4, \"18\": 2, \"21\": 2}, \"17\": {\"17\": 32, \"71\": 2, \"4\": 2, \"105\": 2, \"18\": 2, \"36\": 2}, \"100\": {\"100\": 48}, \"23\": {\"23\": 86}, \"19\": {\"19\": 80}, \"50\": {\"50\": 48}, \"13\": {\"13\": 38, \"85\": 2}, \"75\": {\"75\": 44}, \"3\": {\"3\": 294, \"71\": 2, \"23\": 2}, \"83\": {\"83\": 66, \"49\": 2}, \"77\": {\"77\": 48}, \"99\": {\"99\": 96, \"36\": 2}, \"120\": {\"120\": 52}, \"104\": {\"104\": 42, \"11\": 2}, \"42\": {\"42\": 72, \"62\": 2}, \"70\": {\"70\": 114, \"108\": 18, \"109\": 40, \"88\": 4, \"23\": 2, \"69\": 2, \"71\": 2, \"21\": 2, \"18\": 4}, \"56\": {\"56\": 34}, \"68\": {\"68\": 38, \"17\": 2}, \"67\": {\"67\": 40, \"2\": 2, \"123\": 2}, \"52\": {\"84\": 2, \"52\": 44, \"109\": 2}, \"28\": {\"28\": 46, \"53\": 2}, \"29\": {\"29\": 80, \"90\": 4}, \"129\": {\"129\": 82, \"84\": 2}, \"115\": {\"115\": 38, \"126\": 2, \"18\": 2}, \"38\": {\"38\": 44}, \"57\": {\"57\": 50, \"53\": 2}, \"103\": {\"103\": 44, \"86\": 2, \"60\": 2}, \"48\": {\"48\": 42, \"109\": 2}, \"63\": {\"63\": 42}, \"20\": {\"20\": 46}, \"9\": {\"9\": 80}, \"59\": {\"59\": 34}, \"35\": {\"35\": 32, \"126\": 2}, \"116\": {\"116\": 76}, \"31\": {\"31\": 48, \"45\": 2}, \"25\": {\"25\": 44}, \"76\": {\"76\": 44}, \"81\": {\"81\": 86}, \"53\": {\"53\": 50}, \"55\": {\"55\": 48}, \"119\": {\"119\": 44, \"13\": 2, \"99\": 2}, \"80\": {\"80\": 38, \"109\": 2}, \"45\": {\"45\": 44}, \"78\": {\"78\": 30, \"71\": 6, \"39\": 4, \"69\": 2, \"21\": 4, \"5\": 2}, \"61\": {\"61\": 48}, \"95\": {\"95\": 78, \"18\": 2}, \"22\": {\"22\": 46, \"85\": 2}, \"41\": {\"41\": 44}, \"47\": {\"47\": 28, \"98\": 2, \"72\": 2}}, \"4\": {\"43\": {\"43\": 280, \"87\": 14, \"71\": 2, \"39\": 4, \"84\": 2, \"109\": 2, \"69\": 2}, \"111\": {\"111\": 352, \"71\": 4, \"18\": 2}, \"88\": {\"88\": 300, \"108\": 16, \"84\": 2, \"71\": 4, \"109\": 6, \"70\": 4, \"126\": 2}, \"109\": {\"109\": 294, \"87\": 2}, \"49\": {\"49\": 80}, \"101\": {\"101\": 326, \"0\": 2, \"88\": 2, \"71\": 2, \"122\": 2}, \"127\": {\"127\": 264, \"71\": 2, \"18\": 2, \"84\": 2}, \"87\": {\"87\": 304, \"93\": 4, \"43\": 22, \"18\": 2, \"122\": 2, \"71\": 2, \"107\": 2}, \"84\": {\"84\": 328, \"18\": 2, \"71\": 2, \"107\": 2, \"88\": 2}, \"42\": {\"42\": 76}, \"105\": {\"105\": 234, \"16\": 2, \"18\": 2, \"98\": 2, \"109\": 2, \"36\": 2, \"23\": 2, \"71\": 4, \"37\": 2, \"40\": 2}, \"57\": {\"57\": 44, \"109\": 2}, \"73\": {\"73\": 56, \"20\": 2, \"61\": 2}, \"117\": {\"117\": 312, \"23\": 2, \"98\": 2}, \"36\": {\"36\": 284, \"97\": 2, \"24\": 24, \"27\": 12, \"18\": 4, \"71\": 2}, \"24\": {\"24\": 292, \"84\": 4, \"23\": 2, \"71\": 2, \"18\": 2}, \"125\": {\"125\": 380}, \"126\": {\"126\": 310, \"84\": 2, \"16\": 2, \"69\": 2, \"71\": 2}, \"15\": {\"15\": 324, \"27\": 2, \"84\": 2}, \"81\": {\"81\": 94, \"108\": 2}, \"11\": {\"11\": 380, \"71\": 6, \"72\": 2, \"23\": 2, \"93\": 2}, \"29\": {\"29\": 78, \"71\": 2}, \"16\": {\"16\": 310, \"126\": 2, \"108\": 2, \"109\": 2, \"71\": 2}, \"72\": {\"72\": 76, \"49\": 2, \"19\": 2}, \"0\": {\"0\": 282, \"71\": 4, \"30\": 2, \"84\": 6, \"23\": 4}, \"99\": {\"99\": 102}, \"70\": {\"70\": 198, \"88\": 8, \"109\": 16, \"108\": 76, \"84\": 2, \"126\": 4, \"1\": 2, \"24\": 2, \"39\": 2}, \"113\": {\"113\": 310, \"24\": 2, \"71\": 2, \"23\": 2, \"11\": 4, \"126\": 2, \"18\": 2}, \"108\": {\"108\": 214, \"117\": 2, \"71\": 6, \"101\": 2, \"25\": 2, \"23\": 2, \"109\": 6, \"126\": 2}, \"14\": {\"14\": 276, \"71\": 2, \"109\": 2, \"18\": 2}, \"32\": {\"32\": 72}, \"33\": {\"33\": 386, \"44\": 2, \"71\": 2}, \"12\": {\"12\": 248, \"109\": 2, \"31\": 2, \"18\": 2, \"127\": 2}, \"67\": {\"67\": 46}, \"106\": {\"13\": 2, \"106\": 284, \"127\": 2, \"71\": 2, \"84\": 2, \"109\": 2, \"39\": 2}, \"39\": {\"39\": 250, \"61\": 2, \"71\": 2, \"21\": 2}, \"110\": {\"110\": 316, \"39\": 2, \"71\": 2, \"24\": 2, \"23\": 2, \"88\": 2, \"3\": 2}, \"85\": {\"107\": 2, \"85\": 74}, \"68\": {\"68\": 44, \"109\": 2}, \"114\": {\"114\": 316, \"72\": 2, \"109\": 4, \"18\": 2}, \"121\": {\"121\": 82}, \"94\": {\"94\": 208, \"71\": 2, \"88\": 2, \"36\": 2, \"109\": 2, \"84\": 2, \"126\": 2}, \"89\": {\"44\": 2, \"89\": 80}, \"71\": {\"71\": 256, \"69\": 2, \"23\": 2}, \"10\": {\"10\": 246, \"24\": 42, \"109\": 14, \"61\": 2, \"108\": 4, \"71\": 2}, \"27\": {\"27\": 180, \"108\": 42, \"24\": 10, \"18\": 2, \"126\": 2, \"84\": 4, \"10\": 2, \"71\": 4, \"109\": 8}, \"74\": {\"74\": 42, \"21\": 2}, \"54\": {\"54\": 44, \"109\": 2}, \"62\": {\"62\": 138, \"18\": 6, \"126\": 2, \"71\": 6, \"109\": 2, \"113\": 2}, \"34\": {\"34\": 80, \"98\": 2}, \"26\": {\"26\": 312, \"71\": 4, \"84\": 4, \"69\": 2}, \"86\": {\"86\": 70, \"109\": 2}, \"107\": {\"107\": 358, \"0\": 2, \"72\": 2}, \"123\": {\"123\": 44}, \"52\": {\"52\": 50, \"109\": 2}, \"118\": {\"118\": 258, \"18\": 2, \"109\": 6, \"16\": 2, \"71\": 8, \"23\": 2, \"69\": 2}, \"1\": {\"1\": 256, \"121\": 2, \"88\": 2, \"36\": 2, \"75\": 2, \"114\": 2, \"23\": 2, \"94\": 2}, \"28\": {\"28\": 50, \"120\": 2}, \"98\": {\"98\": 302, \"109\": 2}, \"64\": {\"64\": 42, \"41\": 2, \"84\": 2}, \"102\": {\"102\": 334, \"71\": 6}, \"122\": {\"122\": 196, \"87\": 2, \"23\": 2, \"69\": 4, \"43\": 2, \"118\": 4, \"18\": 2}, \"7\": {\"7\": 298, \"109\": 2, \"44\": 2, \"65\": 2, \"84\": 2, \"18\": 2, \"24\": 2, \"105\": 2, \"87\": 2, \"71\": 2}, \"69\": {\"69\": 314, \"71\": 6, \"18\": 4, \"108\": 2, \"109\": 2}, \"13\": {\"13\": 42, \"99\": 2}, \"6\": {\"6\": 62, \"71\": 2, \"25\": 2}, \"17\": {\"17\": 50, \"98\": 2}, \"22\": {\"22\": 44, \"24\": 2}, \"76\": {\"76\": 44}, \"50\": {\"50\": 48}, \"112\": {\"112\": 44, \"42\": 2, \"30\": 2}, \"8\": {\"8\": 352, \"27\": 4, \"107\": 2, \"18\": 4, \"109\": 2, \"84\": 4}, \"9\": {\"9\": 72}, \"82\": {\"82\": 80, \"71\": 2, \"85\": 2, \"29\": 2}, \"120\": {\"120\": 48, \"71\": 2, \"18\": 2}, \"40\": {\"40\": 338, \"84\": 4, \"71\": 2}, \"95\": {\"95\": 82, \"69\": 2, \"71\": 2}, \"4\": {\"4\": 252, \"109\": 4, \"16\": 2, \"71\": 2}, \"66\": {\"66\": 46}, \"61\": {\"61\": 46}, \"93\": {\"93\": 412, \"63\": 2, \"107\": 2, \"71\": 2}, \"90\": {\"90\": 446, \"72\": 2, \"98\": 2}, \"124\": {\"124\": 298, \"71\": 2, \"44\": 2, \"61\": 2}, \"128\": {\"128\": 64, \"55\": 2}, \"3\": {\"3\": 330, \"99\": 2, \"23\": 2, \"126\": 2, \"62\": 2, \"109\": 2, \"18\": 2}, \"44\": {\"44\": 164, \"1\": 2, \"3\": 2}, \"129\": {\"129\": 74}, \"30\": {\"30\": 178, \"71\": 6, \"84\": 2, \"8\": 2, \"108\": 2, \"23\": 2}, \"5\": {\"5\": 332, \"121\": 2, \"71\": 2, \"24\": 2, \"84\": 2, \"1\": 2, \"72\": 2}, \"18\": {\"18\": 306, \"84\": 2}, \"45\": {\"45\": 44}, \"60\": {\"60\": 74, \"101\": 2, \"23\": 2, \"8\": 2}, \"79\": {\"79\": 44}, \"77\": {\"77\": 34, \"128\": 2}, \"19\": {\"19\": 74}, \"83\": {\"83\": 66, \"31\": 2, \"108\": 2, \"98\": 2, \"55\": 2}, \"53\": {\"53\": 44, \"71\": 4}, \"38\": {\"38\": 42}, \"21\": {\"21\": 90, \"71\": 8, \"3\": 2, \"109\": 4, \"33\": 2}, \"119\": {\"119\": 44}, \"80\": {\"1\": 2, \"80\": 38}, \"78\": {\"21\": 68, \"78\": 8, \"70\": 8, \"39\": 2, \"71\": 6, \"127\": 2, \"69\": 2}, \"75\": {\"75\": 40}, \"55\": {\"55\": 44}, \"25\": {\"25\": 48}, \"103\": {\"103\": 46, \"32\": 2}, \"97\": {\"24\": 24, \"88\": 4, \"97\": 22, \"27\": 2, \"70\": 2, \"108\": 2}, \"41\": {\"41\": 44, \"71\": 2, \"119\": 2}, \"35\": {\"35\": 32, \"31\": 2}, \"91\": {\"91\": 64}, \"48\": {\"48\": 44, \"3\": 2}, \"115\": {\"115\": 38, \"16\": 2}, \"63\": {\"63\": 48}, \"31\": {\"31\": 48}, \"2\": {\"2\": 74, \"98\": 2}, \"116\": {\"116\": 74}, \"47\": {\"47\": 36, \"109\": 2}, \"65\": {\"65\": 38}, \"46\": {\"46\": 44, \"98\": 2, \"3\": 2, \"73\": 2}, \"51\": {\"51\": 38, \"18\": 2}, \"100\": {\"100\": 50}, \"37\": {\"37\": 48}, \"56\": {\"56\": 30, \"35\": 2, \"16\": 2}, \"59\": {\"59\": 34, \"108\": 2, \"24\": 2}, \"96\": {\"96\": 58}, \"92\": {\"92\": 70, \"107\": 2}, \"23\": {\"23\": 26, \"87\": 2, \"18\": 2, \"19\": 2, \"119\": 2, \"84\": 4, \"71\": 2}, \"58\": {\"58\": 46}, \"104\": {\"104\": 46}, \"20\": {\"20\": 44, \"71\": 2, \"37\": 2}}}, \"per_domain_accuracy\": {\"1\": {\"accuracy\": 0.9716319066917071, \"source?\": true}, \"2\": {\"accuracy\": 0.950918427809599, \"source?\": true}, \"3\": {\"accuracy\": 0.9680981595092024, \"source?\": true}, \"4\": {\"accuracy\": 0.946772476531501, \"source?\": true}}}, \"history\": {\"epoch_indices\": [1, 2, 3, 4, 5, 6, 7, 8, 9, 10], \"train_label_loss\": [1.325045570660637, 0.32420590816618544, 0.2265563159601724, 0.18678994944786365, 0.16248120933625043, 0.14641293691517818, 0.13291859671447057, 0.12795024473903963, 0.1139984782344389, 0.1099976155163243], \"source_val_label_loss\": [0.43196258373275587, 0.3230407604876953, 0.3712109894597832, 0.29146229463947726, 0.32436657428175586, 0.19186111627429536, 0.20221300411356402, 0.3179521020501852, 0.3047954174866782, 0.27473900155635855], \"target_val_label_loss\": [0.4315949148863931, 0.3226392490058383, 0.3705159290870534, 0.29072198712656017, 0.3235342989003734, 0.1909713458882857, 0.20181230137926304, 0.31757702600635307, 0.3047596878383922, 0.2734090011048166], \"source_val_acc_label\": [0.9098027554762613, 0.9272227178114778, 0.9187481415402914, 0.9398602438299137, 0.9324016255327584, 0.9592130042620676, 0.9563385865794429, 0.9285360293388839, 0.932649420160571, 0.9411487758945386], \"target_val_acc_label\": [0.9098027554762613, 0.9272227178114778, 0.9187481415402914, 0.9398602438299137, 0.9324016255327584, 0.9592130042620676, 0.9563385865794429, 0.9285360293388839, 0.932649420160571, 0.9411487758945386]}, \"dataset_metrics\": {\"source\": {\"train\": {\"n_unique_x\": 189189, \"n_unique_y\": 130, \"n_batch/episode\": 1479}, \"val\": {\"n_unique_x\": 40356, \"n_unique_y\": 130, \"n_batch/episode\": 316}, \"test\": {\"n_unique_x\": 41071, \"n_unique_y\": 130, \"n_batch/episode\": 321}}, \"target\": {\"train\": {\"n_unique_x\": 189189, \"n_unique_y\": 130, \"n_batch/episode\": 1479}, \"val\": {\"n_unique_x\": 40356, \"n_unique_y\": 130, \"n_batch/episode\": 316}, \"test\": {\"n_unique_x\": 41071, \"n_unique_y\": 130, \"n_batch/episode\": 321}}}}'"
      ]
     },
     "execution_count": 20,
     "metadata": {},
     "output_type": "execute_result"
    }
   ],
   "source": [
    "json.dumps(experiment)"
   ]
  }
 ],
 "metadata": {
  "celltoolbar": "Tags",
  "kernelspec": {
   "display_name": "Python 3 (ipykernel)",
   "language": "python",
   "name": "python3"
  },
  "language_info": {
   "codemirror_mode": {
    "name": "ipython",
    "version": 3
   },
   "file_extension": ".py",
   "mimetype": "text/x-python",
   "name": "python",
   "nbconvert_exporter": "python",
   "pygments_lexer": "ipython3",
   "version": "3.8.12"
  },
  "papermill": {
   "default_parameters": {},
   "duration": 248.155587,
   "end_time": "2022-03-26T11:29:00.819065",
   "environment_variables": {},
   "exception": null,
   "input_path": "/root/csc500-main/csc500-notebooks/templates/cnn_template.ipynb",
   "output_path": "trial.ipynb",
   "parameters": {
    "parameters": {
     "BEST_MODEL_PATH": "./best_model.pth",
     "NUM_LOGS_PER_EPOCH": 10,
     "batch_size": 128,
     "criteria_for_best": "target_accuracy",
     "dataset_seed": 500,
     "device": "cuda",
     "domains_source": [
      1,
      2,
      3,
      4
     ],
     "domains_target": [
      1,
      2,
      3,
      4
     ],
     "experiment_name": "cnn_2:wisig",
     "labels": [
      "1-10",
      "1-12",
      "1-14",
      "1-16",
      "1-18",
      "1-19",
      "1-8",
      "10-11",
      "10-17",
      "10-4",
      "10-7",
      "11-1",
      "11-10",
      "11-19",
      "11-20",
      "11-4",
      "11-7",
      "12-19",
      "12-20",
      "12-7",
      "13-14",
      "13-18",
      "13-19",
      "13-20",
      "13-3",
      "13-7",
      "14-10",
      "14-11",
      "14-12",
      "14-13",
      "14-14",
      "14-19",
      "14-20",
      "14-7",
      "14-8",
      "14-9",
      "15-1",
      "15-19",
      "15-6",
      "16-1",
      "16-16",
      "16-19",
      "16-20",
      "17-10",
      "17-11",
      "18-1",
      "18-10",
      "18-11",
      "18-12",
      "18-13",
      "18-14",
      "18-15",
      "18-16",
      "18-17",
      "18-19",
      "18-2",
      "18-20",
      "18-4",
      "18-5",
      "18-7",
      "18-8",
      "18-9",
      "19-1",
      "19-10",
      "19-11",
      "19-12",
      "19-13",
      "19-14",
      "19-15",
      "19-19",
      "19-2",
      "19-20",
      "19-3",
      "19-4",
      "19-6",
      "19-7",
      "19-8",
      "19-9",
      "2-1",
      "2-13",
      "2-15",
      "2-3",
      "2-4",
      "2-5",
      "2-6",
      "2-7",
      "2-8",
      "20-1",
      "20-12",
      "20-14",
      "20-15",
      "20-16",
      "20-18",
      "20-19",
      "20-20",
      "20-3",
      "20-4",
      "20-5",
      "20-7",
      "20-8",
      "3-1",
      "3-13",
      "3-18",
      "3-2",
      "3-8",
      "4-1",
      "4-10",
      "4-11",
      "5-1",
      "5-5",
      "6-1",
      "6-15",
      "6-6",
      "7-10",
      "7-11",
      "7-12",
      "7-13",
      "7-14",
      "7-7",
      "7-8",
      "7-9",
      "8-1",
      "8-13",
      "8-14",
      "8-18",
      "8-20",
      "8-3",
      "8-8",
      "9-1",
      "9-7"
     ],
     "lr": 0.0001,
     "n_epoch": 50,
     "normalize_source": false,
     "normalize_target": false,
     "num_examples_per_domain_per_label_source": -1,
     "num_examples_per_domain_per_label_target": -1,
     "patience": 3,
     "pickle_name_source": "wisig.node3-19.stratified_ds.2022A.pkl",
     "pickle_name_target": "wisig.node3-19.stratified_ds.2022A.pkl",
     "seed": 500,
     "torch_default_dtype": "torch.float32",
     "x_net": [
      {
       "class": "nnReshape",
       "kargs": {
        "shape": [
         -1,
         1,
         2,
         256
        ]
       }
      },
      {
       "class": "Conv2d",
       "kargs": {
        "bias": false,
        "in_channels": 1,
        "kernel_size": [
         1,
         7
        ],
        "out_channels": 256,
        "padding": [
         0,
         3
        ]
       }
      },
      {
       "class": "ReLU",
       "kargs": {
        "inplace": true
       }
      },
      {
       "class": "BatchNorm2d",
       "kargs": {
        "num_features": 256
       }
      },
      {
       "class": "Conv2d",
       "kargs": {
        "bias": true,
        "in_channels": 256,
        "kernel_size": [
         2,
         7
        ],
        "out_channels": 80,
        "padding": [
         0,
         3
        ]
       }
      },
      {
       "class": "ReLU",
       "kargs": {
        "inplace": true
       }
      },
      {
       "class": "BatchNorm2d",
       "kargs": {
        "num_features": 80
       }
      },
      {
       "class": "Flatten",
       "kargs": {}
      },
      {
       "class": "Linear",
       "kargs": {
        "in_features": 20480,
        "out_features": 256
       }
      },
      {
       "class": "ReLU",
       "kargs": {
        "inplace": true
       }
      },
      {
       "class": "BatchNorm1d",
       "kargs": {
        "num_features": 256
       }
      },
      {
       "class": "Linear",
       "kargs": {
        "in_features": 256,
        "out_features": 130
       }
      }
     ]
    }
   },
   "start_time": "2022-03-26T11:24:52.663478",
   "version": "2.3.4"
  }
 },
 "nbformat": 4,
 "nbformat_minor": 5
}