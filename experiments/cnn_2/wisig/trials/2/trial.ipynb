{
 "cells": [
  {
   "cell_type": "code",
   "execution_count": 1,
   "id": "2324682e",
   "metadata": {
    "execution": {
     "iopub.execute_input": "2022-03-26T11:04:52.802657Z",
     "iopub.status.busy": "2022-03-26T11:04:52.795351Z",
     "iopub.status.idle": "2022-03-26T11:04:54.077406Z",
     "shell.execute_reply": "2022-03-26T11:04:54.076538Z"
    },
    "papermill": {
     "duration": 1.312811,
     "end_time": "2022-03-26T11:04:54.077598",
     "exception": false,
     "start_time": "2022-03-26T11:04:52.764787",
     "status": "completed"
    },
    "tags": []
   },
   "outputs": [],
   "source": [
    "import os, json, sys, time, random\n",
    "import numpy as np\n",
    "import torch\n",
    "from  easydict import EasyDict\n",
    "from math import floor\n",
    "from easydict import EasyDict\n",
    "\n",
    "from steves_utils.vanilla_train_eval_test_jig import  Vanilla_Train_Eval_Test_Jig\n",
    "\n",
    "from steves_utils.torch_utils import get_dataset_metrics, independent_accuracy_assesment\n",
    "from steves_models.configurable_vanilla import Configurable_Vanilla\n",
    "from steves_utils.torch_sequential_builder import build_sequential\n",
    "from steves_utils.lazy_map import Lazy_Map\n",
    "from steves_utils.sequence_aggregator import Sequence_Aggregator\n",
    "\n",
    "from steves_utils.stratified_dataset.traditional_accessor import Traditional_Accessor_Factory\n",
    "\n",
    "from steves_utils.cnn_do_report import (\n",
    "    get_loss_curve,\n",
    "    get_results_table,\n",
    "    get_parameters_table,\n",
    "    get_domain_accuracies,\n",
    ")\n",
    "\n",
    "from steves_utils.torch_utils import (\n",
    "    confusion_by_domain_over_dataloader,\n",
    "    independent_accuracy_assesment\n",
    ")\n",
    "\n",
    "from steves_utils.utils_v2 import (\n",
    "    per_domain_accuracy_from_confusion,\n",
    "    get_datasets_base_path\n",
    ")\n",
    "\n",
    "# from steves_utils.ptn_do_report import TBD"
   ]
  },
  {
   "cell_type": "code",
   "execution_count": 2,
   "id": "1b29e3fe",
   "metadata": {
    "execution": {
     "iopub.execute_input": "2022-03-26T11:04:54.114055Z",
     "iopub.status.busy": "2022-03-26T11:04:54.113662Z",
     "iopub.status.idle": "2022-03-26T11:04:54.116148Z",
     "shell.execute_reply": "2022-03-26T11:04:54.116719Z"
    },
    "papermill": {
     "duration": 0.02206,
     "end_time": "2022-03-26T11:04:54.116899",
     "exception": false,
     "start_time": "2022-03-26T11:04:54.094839",
     "status": "completed"
    },
    "tags": []
   },
   "outputs": [],
   "source": [
    "required_parameters = {\n",
    "    \"experiment_name\",\n",
    "    \"lr\",\n",
    "    \"device\",\n",
    "    \"dataset_seed\",\n",
    "    \"seed\",\n",
    "    \"labels\",\n",
    "    \"domains_target\",\n",
    "    \"domains_source\",\n",
    "    \"num_examples_per_domain_per_label_source\",\n",
    "    \"num_examples_per_domain_per_label_target\",\n",
    "    \"batch_size\",\n",
    "    \"n_epoch\",\n",
    "    \"patience\",\n",
    "    \"criteria_for_best\",\n",
    "    \"normalize_source\",\n",
    "    \"normalize_target\",\n",
    "    \"x_net\",\n",
    "    \"NUM_LOGS_PER_EPOCH\",\n",
    "    \"BEST_MODEL_PATH\",\n",
    "    \"pickle_name_source\",\n",
    "    \"pickle_name_target\",\n",
    "    \"torch_default_dtype\",\n",
    "}"
   ]
  },
  {
   "cell_type": "code",
   "execution_count": 3,
   "id": "670b5fb8",
   "metadata": {
    "execution": {
     "iopub.execute_input": "2022-03-26T11:04:54.162599Z",
     "iopub.status.busy": "2022-03-26T11:04:54.161712Z",
     "iopub.status.idle": "2022-03-26T11:04:54.168797Z",
     "shell.execute_reply": "2022-03-26T11:04:54.167992Z"
    },
    "papermill": {
     "duration": 0.032704,
     "end_time": "2022-03-26T11:04:54.168949",
     "exception": false,
     "start_time": "2022-03-26T11:04:54.136245",
     "status": "completed"
    },
    "tags": [
     "parameters"
    ]
   },
   "outputs": [],
   "source": [
    "from steves_utils.ORACLE.utils_v2 import (\n",
    "    ALL_SERIAL_NUMBERS,\n",
    "    ALL_DISTANCES_FEET_NARROWED,\n",
    ")\n",
    "\n",
    "standalone_parameters = {}\n",
    "standalone_parameters[\"experiment_name\"] = \"MANUAL CORES CNN\"\n",
    "standalone_parameters[\"lr\"] = 0.0001\n",
    "standalone_parameters[\"device\"] = \"cuda\"\n",
    "\n",
    "standalone_parameters[\"dataset_seed\"] = 1337\n",
    "standalone_parameters[\"seed\"] = 1337\n",
    "standalone_parameters[\"labels\"] = ALL_SERIAL_NUMBERS\n",
    "\n",
    "standalone_parameters[\"domains_source\"] = [8,32,50]\n",
    "standalone_parameters[\"domains_target\"] = [14,20,26,38,44,]\n",
    "\n",
    "standalone_parameters[\"num_examples_per_domain_per_label_source\"]=-1\n",
    "standalone_parameters[\"num_examples_per_domain_per_label_target\"]=-1\n",
    "\n",
    "standalone_parameters[\"pickle_name_source\"] = \"oracle.Run1_framed_2000Examples_stratified_ds.2022A.pkl\"\n",
    "standalone_parameters[\"pickle_name_target\"] = \"oracle.Run2_framed_2000Examples_stratified_ds.2022A.pkl\"\n",
    "\n",
    "standalone_parameters[\"torch_default_dtype\"] = \"torch.float32\" \n",
    "\n",
    "standalone_parameters[\"batch_size\"]=128\n",
    "\n",
    "standalone_parameters[\"n_epoch\"] = 3\n",
    "\n",
    "standalone_parameters[\"patience\"] = 10\n",
    "\n",
    "standalone_parameters[\"criteria_for_best\"] = \"target_accuracy\"\n",
    "standalone_parameters[\"normalize_source\"] = False\n",
    "standalone_parameters[\"normalize_target\"] = False\n",
    "\n",
    "standalone_parameters[\"x_net\"] =     [\n",
    "    {\"class\": \"nnReshape\", \"kargs\": {\"shape\":[-1, 1, 2, 256]}},\n",
    "    {\"class\": \"Conv2d\", \"kargs\": { \"in_channels\":1, \"out_channels\":256, \"kernel_size\":(1,7), \"bias\":False, \"padding\":(0,3), },},\n",
    "    {\"class\": \"ReLU\", \"kargs\": {\"inplace\": True}},\n",
    "    {\"class\": \"BatchNorm2d\", \"kargs\": {\"num_features\":256}},\n",
    "\n",
    "    {\"class\": \"Conv2d\", \"kargs\": { \"in_channels\":256, \"out_channels\":80, \"kernel_size\":(2,7), \"bias\":True, \"padding\":(0,3), },},\n",
    "    {\"class\": \"ReLU\", \"kargs\": {\"inplace\": True}},\n",
    "    {\"class\": \"BatchNorm2d\", \"kargs\": {\"num_features\":80}},\n",
    "    {\"class\": \"Flatten\", \"kargs\": {}},\n",
    "\n",
    "    {\"class\": \"Linear\", \"kargs\": {\"in_features\": 80*256, \"out_features\": 256}}, # 80 units per IQ pair\n",
    "    {\"class\": \"ReLU\", \"kargs\": {\"inplace\": True}},\n",
    "    {\"class\": \"BatchNorm1d\", \"kargs\": {\"num_features\":256}},\n",
    "\n",
    "    {\"class\": \"Linear\", \"kargs\": {\"in_features\": 256, \"out_features\": len(standalone_parameters[\"labels\"])}},\n",
    "]\n",
    "\n",
    "standalone_parameters[\"NUM_LOGS_PER_EPOCH\"] = 10\n",
    "standalone_parameters[\"BEST_MODEL_PATH\"] = \"./best_model.pth\""
   ]
  },
  {
   "cell_type": "code",
   "execution_count": 4,
   "id": "0d18a26b",
   "metadata": {
    "execution": {
     "iopub.execute_input": "2022-03-26T11:04:54.220387Z",
     "iopub.status.busy": "2022-03-26T11:04:54.219405Z",
     "iopub.status.idle": "2022-03-26T11:04:54.222164Z",
     "shell.execute_reply": "2022-03-26T11:04:54.221360Z"
    },
    "papermill": {
     "duration": 0.033861,
     "end_time": "2022-03-26T11:04:54.222316",
     "exception": false,
     "start_time": "2022-03-26T11:04:54.188455",
     "status": "completed"
    },
    "tags": [
     "injected-parameters"
    ]
   },
   "outputs": [],
   "source": [
    "# Parameters\n",
    "parameters = {\n",
    "    \"experiment_name\": \"cnn_2:wisig\",\n",
    "    \"labels\": [\n",
    "        \"1-10\",\n",
    "        \"1-12\",\n",
    "        \"1-14\",\n",
    "        \"1-16\",\n",
    "        \"1-18\",\n",
    "        \"1-19\",\n",
    "        \"1-8\",\n",
    "        \"10-11\",\n",
    "        \"10-17\",\n",
    "        \"10-4\",\n",
    "        \"10-7\",\n",
    "        \"11-1\",\n",
    "        \"11-10\",\n",
    "        \"11-19\",\n",
    "        \"11-20\",\n",
    "        \"11-4\",\n",
    "        \"11-7\",\n",
    "        \"12-19\",\n",
    "        \"12-20\",\n",
    "        \"12-7\",\n",
    "        \"13-14\",\n",
    "        \"13-18\",\n",
    "        \"13-19\",\n",
    "        \"13-20\",\n",
    "        \"13-3\",\n",
    "        \"13-7\",\n",
    "        \"14-10\",\n",
    "        \"14-11\",\n",
    "        \"14-12\",\n",
    "        \"14-13\",\n",
    "        \"14-14\",\n",
    "        \"14-19\",\n",
    "        \"14-20\",\n",
    "        \"14-7\",\n",
    "        \"14-8\",\n",
    "        \"14-9\",\n",
    "        \"15-1\",\n",
    "        \"15-19\",\n",
    "        \"15-6\",\n",
    "        \"16-1\",\n",
    "        \"16-16\",\n",
    "        \"16-19\",\n",
    "        \"16-20\",\n",
    "        \"17-10\",\n",
    "        \"17-11\",\n",
    "        \"18-1\",\n",
    "        \"18-10\",\n",
    "        \"18-11\",\n",
    "        \"18-12\",\n",
    "        \"18-13\",\n",
    "        \"18-14\",\n",
    "        \"18-15\",\n",
    "        \"18-16\",\n",
    "        \"18-17\",\n",
    "        \"18-19\",\n",
    "        \"18-2\",\n",
    "        \"18-20\",\n",
    "        \"18-4\",\n",
    "        \"18-5\",\n",
    "        \"18-7\",\n",
    "        \"18-8\",\n",
    "        \"18-9\",\n",
    "        \"19-1\",\n",
    "        \"19-10\",\n",
    "        \"19-11\",\n",
    "        \"19-12\",\n",
    "        \"19-13\",\n",
    "        \"19-14\",\n",
    "        \"19-15\",\n",
    "        \"19-19\",\n",
    "        \"19-2\",\n",
    "        \"19-20\",\n",
    "        \"19-3\",\n",
    "        \"19-4\",\n",
    "        \"19-6\",\n",
    "        \"19-7\",\n",
    "        \"19-8\",\n",
    "        \"19-9\",\n",
    "        \"2-1\",\n",
    "        \"2-13\",\n",
    "        \"2-15\",\n",
    "        \"2-3\",\n",
    "        \"2-4\",\n",
    "        \"2-5\",\n",
    "        \"2-6\",\n",
    "        \"2-7\",\n",
    "        \"2-8\",\n",
    "        \"20-1\",\n",
    "        \"20-12\",\n",
    "        \"20-14\",\n",
    "        \"20-15\",\n",
    "        \"20-16\",\n",
    "        \"20-18\",\n",
    "        \"20-19\",\n",
    "        \"20-20\",\n",
    "        \"20-3\",\n",
    "        \"20-4\",\n",
    "        \"20-5\",\n",
    "        \"20-7\",\n",
    "        \"20-8\",\n",
    "        \"3-1\",\n",
    "        \"3-13\",\n",
    "        \"3-18\",\n",
    "        \"3-2\",\n",
    "        \"3-8\",\n",
    "        \"4-1\",\n",
    "        \"4-10\",\n",
    "        \"4-11\",\n",
    "        \"5-1\",\n",
    "        \"5-5\",\n",
    "        \"6-1\",\n",
    "        \"6-15\",\n",
    "        \"6-6\",\n",
    "        \"7-10\",\n",
    "        \"7-11\",\n",
    "        \"7-12\",\n",
    "        \"7-13\",\n",
    "        \"7-14\",\n",
    "        \"7-7\",\n",
    "        \"7-8\",\n",
    "        \"7-9\",\n",
    "        \"8-1\",\n",
    "        \"8-13\",\n",
    "        \"8-14\",\n",
    "        \"8-18\",\n",
    "        \"8-20\",\n",
    "        \"8-3\",\n",
    "        \"8-8\",\n",
    "        \"9-1\",\n",
    "        \"9-7\",\n",
    "    ],\n",
    "    \"domains_source\": [1, 2, 3, 4],\n",
    "    \"domains_target\": [1, 2, 3, 4],\n",
    "    \"pickle_name_target\": \"wisig.node3-19.stratified_ds.2022A.pkl\",\n",
    "    \"pickle_name_source\": \"wisig.node3-19.stratified_ds.2022A.pkl\",\n",
    "    \"device\": \"cuda\",\n",
    "    \"lr\": 0.0001,\n",
    "    \"batch_size\": 128,\n",
    "    \"normalize_source\": False,\n",
    "    \"normalize_target\": False,\n",
    "    \"num_examples_per_domain_per_label_source\": -1,\n",
    "    \"num_examples_per_domain_per_label_target\": -1,\n",
    "    \"torch_default_dtype\": \"torch.float32\",\n",
    "    \"n_epoch\": 50,\n",
    "    \"patience\": 3,\n",
    "    \"criteria_for_best\": \"target_accuracy\",\n",
    "    \"x_net\": [\n",
    "        {\"class\": \"nnReshape\", \"kargs\": {\"shape\": [-1, 1, 2, 256]}},\n",
    "        {\n",
    "            \"class\": \"Conv2d\",\n",
    "            \"kargs\": {\n",
    "                \"in_channels\": 1,\n",
    "                \"out_channels\": 256,\n",
    "                \"kernel_size\": [1, 7],\n",
    "                \"bias\": False,\n",
    "                \"padding\": [0, 3],\n",
    "            },\n",
    "        },\n",
    "        {\"class\": \"ReLU\", \"kargs\": {\"inplace\": True}},\n",
    "        {\"class\": \"BatchNorm2d\", \"kargs\": {\"num_features\": 256}},\n",
    "        {\n",
    "            \"class\": \"Conv2d\",\n",
    "            \"kargs\": {\n",
    "                \"in_channels\": 256,\n",
    "                \"out_channels\": 80,\n",
    "                \"kernel_size\": [2, 7],\n",
    "                \"bias\": True,\n",
    "                \"padding\": [0, 3],\n",
    "            },\n",
    "        },\n",
    "        {\"class\": \"ReLU\", \"kargs\": {\"inplace\": True}},\n",
    "        {\"class\": \"BatchNorm2d\", \"kargs\": {\"num_features\": 80}},\n",
    "        {\"class\": \"Flatten\", \"kargs\": {}},\n",
    "        {\"class\": \"Linear\", \"kargs\": {\"in_features\": 20480, \"out_features\": 256}},\n",
    "        {\"class\": \"ReLU\", \"kargs\": {\"inplace\": True}},\n",
    "        {\"class\": \"BatchNorm1d\", \"kargs\": {\"num_features\": 256}},\n",
    "        {\"class\": \"Linear\", \"kargs\": {\"in_features\": 256, \"out_features\": 130}},\n",
    "    ],\n",
    "    \"NUM_LOGS_PER_EPOCH\": 10,\n",
    "    \"BEST_MODEL_PATH\": \"./best_model.pth\",\n",
    "    \"dataset_seed\": 1337,\n",
    "    \"seed\": 1337,\n",
    "}\n"
   ]
  },
  {
   "cell_type": "code",
   "execution_count": 5,
   "id": "759b56ec",
   "metadata": {
    "execution": {
     "iopub.execute_input": "2022-03-26T11:04:54.263604Z",
     "iopub.status.busy": "2022-03-26T11:04:54.263209Z",
     "iopub.status.idle": "2022-03-26T11:04:54.265922Z",
     "shell.execute_reply": "2022-03-26T11:04:54.266581Z"
    },
    "papermill": {
     "duration": 0.024892,
     "end_time": "2022-03-26T11:04:54.266760",
     "exception": false,
     "start_time": "2022-03-26T11:04:54.241868",
     "status": "completed"
    },
    "tags": []
   },
   "outputs": [],
   "source": [
    "# Set this to True if you want to run this template directly\n",
    "STANDALONE = False\n",
    "if STANDALONE:\n",
    "    print(\"parameters not injected, running with standalone_parameters\")\n",
    "    parameters = standalone_parameters\n",
    "\n",
    "if not 'parameters' in locals() and not 'parameters' in globals():\n",
    "    raise Exception(\"Parameter injection failed\")\n",
    "\n",
    "#Use an easy dict for all the parameters\n",
    "p = EasyDict(parameters)\n",
    "\n",
    "supplied_keys = set(p.keys())\n",
    "\n",
    "if  supplied_keys != required_parameters:\n",
    "    print(\"Parameters are incorrect\")\n",
    "    if len(supplied_keys - required_parameters)>0: print(\"Shouldn't have:\", str(supplied_keys - required_parameters))\n",
    "    if len(required_parameters - supplied_keys)>0: print(\"Need to have:\", str(required_parameters - supplied_keys))\n",
    "    raise RuntimeError(\"Parameters are incorrect\")\n",
    "\n"
   ]
  },
  {
   "cell_type": "code",
   "execution_count": 6,
   "id": "d5c66a71",
   "metadata": {
    "execution": {
     "iopub.execute_input": "2022-03-26T11:04:54.313213Z",
     "iopub.status.busy": "2022-03-26T11:04:54.312630Z",
     "iopub.status.idle": "2022-03-26T11:04:54.316288Z",
     "shell.execute_reply": "2022-03-26T11:04:54.315720Z"
    },
    "papermill": {
     "duration": 0.031273,
     "end_time": "2022-03-26T11:04:54.316403",
     "exception": false,
     "start_time": "2022-03-26T11:04:54.285130",
     "status": "completed"
    },
    "tags": []
   },
   "outputs": [],
   "source": [
    "###################################\n",
    "# Set the RNGs and make it all deterministic\n",
    "###################################\n",
    "np.random.seed(p.seed)\n",
    "random.seed(p.seed)\n",
    "torch.manual_seed(p.seed)\n",
    "\n",
    "torch.use_deterministic_algorithms(True) "
   ]
  },
  {
   "cell_type": "code",
   "execution_count": 7,
   "id": "92a65876",
   "metadata": {
    "execution": {
     "iopub.execute_input": "2022-03-26T11:04:54.354888Z",
     "iopub.status.busy": "2022-03-26T11:04:54.354515Z",
     "iopub.status.idle": "2022-03-26T11:04:54.357018Z",
     "shell.execute_reply": "2022-03-26T11:04:54.357483Z"
    },
    "papermill": {
     "duration": 0.020738,
     "end_time": "2022-03-26T11:04:54.357605",
     "exception": false,
     "start_time": "2022-03-26T11:04:54.336867",
     "status": "completed"
    },
    "tags": []
   },
   "outputs": [],
   "source": [
    "torch.set_default_dtype(eval(p.torch_default_dtype))"
   ]
  },
  {
   "cell_type": "code",
   "execution_count": 8,
   "id": "f1a32f01",
   "metadata": {
    "execution": {
     "iopub.execute_input": "2022-03-26T11:04:54.392926Z",
     "iopub.status.busy": "2022-03-26T11:04:54.392551Z",
     "iopub.status.idle": "2022-03-26T11:04:54.433250Z",
     "shell.execute_reply": "2022-03-26T11:04:54.432483Z"
    },
    "papermill": {
     "duration": 0.058368,
     "end_time": "2022-03-26T11:04:54.433429",
     "exception": false,
     "start_time": "2022-03-26T11:04:54.375061",
     "status": "completed"
    },
    "tags": []
   },
   "outputs": [],
   "source": [
    "###################################\n",
    "# Build the network(s)\n",
    "# Note: It's critical to do this AFTER setting the RNG\n",
    "###################################\n",
    "x_net = build_sequential(p.x_net)"
   ]
  },
  {
   "cell_type": "code",
   "execution_count": 9,
   "id": "a276cd83",
   "metadata": {
    "execution": {
     "iopub.execute_input": "2022-03-26T11:04:54.474161Z",
     "iopub.status.busy": "2022-03-26T11:04:54.473598Z",
     "iopub.status.idle": "2022-03-26T11:04:54.475873Z",
     "shell.execute_reply": "2022-03-26T11:04:54.476348Z"
    },
    "papermill": {
     "duration": 0.020966,
     "end_time": "2022-03-26T11:04:54.476470",
     "exception": false,
     "start_time": "2022-03-26T11:04:54.455504",
     "status": "completed"
    },
    "tags": []
   },
   "outputs": [],
   "source": [
    "start_time_secs = time.time()"
   ]
  },
  {
   "cell_type": "code",
   "execution_count": 10,
   "id": "de702e48",
   "metadata": {
    "execution": {
     "iopub.execute_input": "2022-03-26T11:04:54.524296Z",
     "iopub.status.busy": "2022-03-26T11:04:54.519343Z",
     "iopub.status.idle": "2022-03-26T11:05:01.568738Z",
     "shell.execute_reply": "2022-03-26T11:05:01.567989Z"
    },
    "papermill": {
     "duration": 7.071646,
     "end_time": "2022-03-26T11:05:01.568925",
     "exception": false,
     "start_time": "2022-03-26T11:04:54.497279",
     "status": "completed"
    },
    "tags": []
   },
   "outputs": [],
   "source": [
    "def wrap_in_dataloader(p, ds):\n",
    "    return torch.utils.data.DataLoader(\n",
    "        ds,\n",
    "        batch_size=p.batch_size,\n",
    "        shuffle=True,\n",
    "        num_workers=1,\n",
    "        persistent_workers=True,\n",
    "        prefetch_factor=50,\n",
    "        pin_memory=True\n",
    "    )\n",
    "\n",
    "taf_source = Traditional_Accessor_Factory(\n",
    "    labels=p.labels,\n",
    "    domains=p.domains_source,\n",
    "    num_examples_per_domain_per_label=p.num_examples_per_domain_per_label_source,\n",
    "    pickle_path=os.path.join(get_datasets_base_path(), p.pickle_name_source),\n",
    "    seed=p.dataset_seed\n",
    ")\n",
    "train_original_source, val_original_source, test_original_source = \\\n",
    "    taf_source.get_train(), taf_source.get_val(), taf_source.get_test()\n",
    "\n",
    "\n",
    "taf_target = Traditional_Accessor_Factory(\n",
    "    labels=p.labels,\n",
    "    domains=p.domains_target,\n",
    "    num_examples_per_domain_per_label=p.num_examples_per_domain_per_label_source,\n",
    "    pickle_path=os.path.join(get_datasets_base_path(), p.pickle_name_target),\n",
    "    seed=p.dataset_seed\n",
    ")\n",
    "train_original_target, val_original_target, test_original_target = \\\n",
    "    taf_target.get_train(), taf_target.get_val(), taf_target.get_test()\n",
    "\n",
    "\n",
    "# For CNN We only use X and Y. And we only train on the source.\n",
    "# Properly form the data using a transform lambda and Lazy_Map. Finally wrap them in a dataloader\n",
    "\n",
    "transform_lambda = lambda ex: ex[:2] # Strip the tuple to just (x,y)\n",
    "\n",
    "\n",
    "train_processed_source = wrap_in_dataloader(\n",
    "    p,\n",
    "    Lazy_Map(train_original_source, transform_lambda)\n",
    ")\n",
    "val_processed_source = wrap_in_dataloader(\n",
    "    p,\n",
    "    Lazy_Map(val_original_source, transform_lambda)\n",
    ")\n",
    "test_processed_source = wrap_in_dataloader(\n",
    "    p,\n",
    "    Lazy_Map(test_original_source, transform_lambda)\n",
    ")\n",
    "\n",
    "train_processed_target = wrap_in_dataloader(\n",
    "    p,\n",
    "    Lazy_Map(train_original_target, transform_lambda)\n",
    ")\n",
    "val_processed_target = wrap_in_dataloader(\n",
    "    p,\n",
    "    Lazy_Map(val_original_target, transform_lambda)\n",
    ")\n",
    "test_processed_target  = wrap_in_dataloader(\n",
    "    p,\n",
    "    Lazy_Map(test_original_target, transform_lambda)\n",
    ")\n",
    "\n",
    "\n",
    "\n",
    "datasets = EasyDict({\n",
    "    \"source\": {\n",
    "        \"original\": {\"train\":train_original_source, \"val\":val_original_source, \"test\":test_original_source},\n",
    "        \"processed\": {\"train\":train_processed_source, \"val\":val_processed_source, \"test\":test_processed_source}\n",
    "    },\n",
    "    \"target\": {\n",
    "        \"original\": {\"train\":train_original_target, \"val\":val_original_target, \"test\":test_original_target},\n",
    "        \"processed\": {\"train\":train_processed_target, \"val\":val_processed_target, \"test\":test_processed_target}\n",
    "    },\n",
    "})"
   ]
  },
  {
   "cell_type": "code",
   "execution_count": 11,
   "id": "a11b26bd",
   "metadata": {
    "execution": {
     "iopub.execute_input": "2022-03-26T11:05:01.645037Z",
     "iopub.status.busy": "2022-03-26T11:05:01.644206Z",
     "iopub.status.idle": "2022-03-26T11:05:06.660554Z",
     "shell.execute_reply": "2022-03-26T11:05:06.659710Z"
    },
    "papermill": {
     "duration": 5.073121,
     "end_time": "2022-03-26T11:05:06.660727",
     "exception": false,
     "start_time": "2022-03-26T11:05:01.587606",
     "status": "completed"
    },
    "tags": []
   },
   "outputs": [
    {
     "data": {
      "text/plain": [
       "torch.float32"
      ]
     },
     "execution_count": 11,
     "metadata": {},
     "output_type": "execute_result"
    }
   ],
   "source": [
    "ep = next(iter(test_processed_target))\n",
    "ep[0].dtype"
   ]
  },
  {
   "cell_type": "code",
   "execution_count": 12,
   "id": "19425fad",
   "metadata": {
    "execution": {
     "iopub.execute_input": "2022-03-26T11:05:06.701382Z",
     "iopub.status.busy": "2022-03-26T11:05:06.700811Z",
     "iopub.status.idle": "2022-03-26T11:05:06.751474Z",
     "shell.execute_reply": "2022-03-26T11:05:06.750742Z"
    },
    "papermill": {
     "duration": 0.071646,
     "end_time": "2022-03-26T11:05:06.751689",
     "exception": false,
     "start_time": "2022-03-26T11:05:06.680043",
     "status": "completed"
    },
    "tags": []
   },
   "outputs": [],
   "source": [
    "model = Configurable_Vanilla(\n",
    "    x_net=x_net,\n",
    "    label_loss_object=torch.nn.NLLLoss(),\n",
    "    learning_rate=p.lr\n",
    ")"
   ]
  },
  {
   "cell_type": "code",
   "execution_count": 13,
   "id": "7f6d4f2c",
   "metadata": {
    "execution": {
     "iopub.execute_input": "2022-03-26T11:05:06.791708Z",
     "iopub.status.busy": "2022-03-26T11:05:06.791314Z",
     "iopub.status.idle": "2022-03-26T11:06:37.504664Z",
     "shell.execute_reply": "2022-03-26T11:06:37.503944Z"
    },
    "papermill": {
     "duration": 90.73317,
     "end_time": "2022-03-26T11:06:37.504840",
     "exception": false,
     "start_time": "2022-03-26T11:05:06.771670",
     "status": "completed"
    },
    "tags": []
   },
   "outputs": [
    {
     "name": "stdout",
     "output_type": "stream",
     "text": [
      "epoch: 1, [batch: 1 / 1479], examples_per_second: 698.4577, train_label_loss: 4.8415, \n"
     ]
    },
    {
     "name": "stdout",
     "output_type": "stream",
     "text": [
      "epoch: 1, [batch: 148 / 1479], examples_per_second: 13850.6093, train_label_loss: 3.0145, \n"
     ]
    },
    {
     "name": "stdout",
     "output_type": "stream",
     "text": [
      "epoch: 1, [batch: 296 / 1479], examples_per_second: 14012.1185, train_label_loss: 2.1564, \n"
     ]
    },
    {
     "name": "stdout",
     "output_type": "stream",
     "text": [
      "epoch: 1, [batch: 444 / 1479], examples_per_second: 14048.5667, train_label_loss: 1.4856, \n"
     ]
    },
    {
     "name": "stdout",
     "output_type": "stream",
     "text": [
      "epoch: 1, [batch: 592 / 1479], examples_per_second: 14028.0821, train_label_loss: 1.2533, \n"
     ]
    },
    {
     "name": "stdout",
     "output_type": "stream",
     "text": [
      "epoch: 1, [batch: 740 / 1479], examples_per_second: 14096.8275, train_label_loss: 0.9408, \n"
     ]
    },
    {
     "name": "stdout",
     "output_type": "stream",
     "text": [
      "epoch: 1, [batch: 887 / 1479], examples_per_second: 14081.5359, train_label_loss: 0.7633, \n"
     ]
    },
    {
     "name": "stdout",
     "output_type": "stream",
     "text": [
      "epoch: 1, [batch: 1035 / 1479], examples_per_second: 14072.8140, train_label_loss: 0.6591, \n"
     ]
    },
    {
     "name": "stdout",
     "output_type": "stream",
     "text": [
      "epoch: 1, [batch: 1183 / 1479], examples_per_second: 14129.5160, train_label_loss: 0.6663, \n"
     ]
    },
    {
     "name": "stdout",
     "output_type": "stream",
     "text": [
      "epoch: 1, [batch: 1331 / 1479], examples_per_second: 14028.7756, train_label_loss: 0.4257, \n"
     ]
    },
    {
     "name": "stdout",
     "output_type": "stream",
     "text": [
      "=============================================================\n",
      "epoch: 1, source_val_acc_label: 0.9160, source_val_label_loss: 0.4742, target_val_acc_label: 0.9160, target_val_label_loss: 0.4746, \n",
      "=============================================================\n"
     ]
    },
    {
     "name": "stdout",
     "output_type": "stream",
     "text": [
      "New best\n",
      "epoch: 2, [batch: 1 / 1479], examples_per_second: 64.6727, train_label_loss: 0.5480, \n"
     ]
    },
    {
     "name": "stdout",
     "output_type": "stream",
     "text": [
      "epoch: 2, [batch: 148 / 1479], examples_per_second: 13984.8386, train_label_loss: 0.3079, \n"
     ]
    },
    {
     "name": "stdout",
     "output_type": "stream",
     "text": [
      "epoch: 2, [batch: 296 / 1479], examples_per_second: 13559.2850, train_label_loss: 0.2956, \n"
     ]
    },
    {
     "name": "stdout",
     "output_type": "stream",
     "text": [
      "epoch: 2, [batch: 444 / 1479], examples_per_second: 12208.7265, train_label_loss: 0.3802, \n"
     ]
    },
    {
     "name": "stdout",
     "output_type": "stream",
     "text": [
      "epoch: 2, [batch: 592 / 1479], examples_per_second: 13796.3363, train_label_loss: 0.2675, \n"
     ]
    },
    {
     "name": "stdout",
     "output_type": "stream",
     "text": [
      "epoch: 2, [batch: 740 / 1479], examples_per_second: 13826.4631, train_label_loss: 0.2913, \n"
     ]
    },
    {
     "name": "stdout",
     "output_type": "stream",
     "text": [
      "epoch: 2, [batch: 887 / 1479], examples_per_second: 15198.7847, train_label_loss: 0.1482, \n"
     ]
    },
    {
     "name": "stdout",
     "output_type": "stream",
     "text": [
      "epoch: 2, [batch: 1035 / 1479], examples_per_second: 15895.6772, train_label_loss: 0.2017, \n"
     ]
    },
    {
     "name": "stdout",
     "output_type": "stream",
     "text": [
      "epoch: 2, [batch: 1183 / 1479], examples_per_second: 16446.9470, train_label_loss: 0.1718, \n"
     ]
    },
    {
     "name": "stdout",
     "output_type": "stream",
     "text": [
      "epoch: 2, [batch: 1331 / 1479], examples_per_second: 15204.4365, train_label_loss: 0.1498, \n"
     ]
    },
    {
     "name": "stdout",
     "output_type": "stream",
     "text": [
      "=============================================================\n",
      "epoch: 2, source_val_acc_label: 0.8439, source_val_label_loss: 0.7274, target_val_acc_label: 0.8439, target_val_label_loss: 0.7278, \n",
      "=============================================================\n"
     ]
    },
    {
     "name": "stdout",
     "output_type": "stream",
     "text": [
      "epoch: 3, [batch: 1 / 1479], examples_per_second: 90.7378, train_label_loss: 0.4153, \n"
     ]
    },
    {
     "name": "stdout",
     "output_type": "stream",
     "text": [
      "epoch: 3, [batch: 148 / 1479], examples_per_second: 16257.0291, train_label_loss: 0.1914, \n"
     ]
    },
    {
     "name": "stdout",
     "output_type": "stream",
     "text": [
      "epoch: 3, [batch: 296 / 1479], examples_per_second: 16669.4559, train_label_loss: 0.1619, \n"
     ]
    },
    {
     "name": "stdout",
     "output_type": "stream",
     "text": [
      "epoch: 3, [batch: 444 / 1479], examples_per_second: 16789.7019, train_label_loss: 0.1338, \n"
     ]
    },
    {
     "name": "stdout",
     "output_type": "stream",
     "text": [
      "epoch: 3, [batch: 592 / 1479], examples_per_second: 14727.7102, train_label_loss: 0.1808, \n"
     ]
    },
    {
     "name": "stdout",
     "output_type": "stream",
     "text": [
      "epoch: 3, [batch: 740 / 1479], examples_per_second: 11225.3794, train_label_loss: 0.1442, \n"
     ]
    },
    {
     "name": "stdout",
     "output_type": "stream",
     "text": [
      "epoch: 3, [batch: 887 / 1479], examples_per_second: 10624.7310, train_label_loss: 0.2660, \n"
     ]
    },
    {
     "name": "stdout",
     "output_type": "stream",
     "text": [
      "epoch: 3, [batch: 1035 / 1479], examples_per_second: 10664.1512, train_label_loss: 0.2795, \n"
     ]
    },
    {
     "name": "stdout",
     "output_type": "stream",
     "text": [
      "epoch: 3, [batch: 1183 / 1479], examples_per_second: 10726.2991, train_label_loss: 0.1876, \n"
     ]
    },
    {
     "name": "stdout",
     "output_type": "stream",
     "text": [
      "epoch: 3, [batch: 1331 / 1479], examples_per_second: 10595.6795, train_label_loss: 0.2044, \n"
     ]
    },
    {
     "name": "stdout",
     "output_type": "stream",
     "text": [
      "=============================================================\n",
      "epoch: 3, source_val_acc_label: 0.8847, source_val_label_loss: 0.5060, target_val_acc_label: 0.8847, target_val_label_loss: 0.5080, \n",
      "=============================================================\n"
     ]
    },
    {
     "name": "stdout",
     "output_type": "stream",
     "text": [
      "epoch: 4, [batch: 1 / 1479], examples_per_second: 54.5656, train_label_loss: 0.1712, \n"
     ]
    },
    {
     "name": "stdout",
     "output_type": "stream",
     "text": [
      "epoch: 4, [batch: 148 / 1479], examples_per_second: 10607.9835, train_label_loss: 0.1598, \n"
     ]
    },
    {
     "name": "stdout",
     "output_type": "stream",
     "text": [
      "epoch: 4, [batch: 296 / 1479], examples_per_second: 10680.5386, train_label_loss: 0.0902, \n"
     ]
    },
    {
     "name": "stdout",
     "output_type": "stream",
     "text": [
      "epoch: 4, [batch: 444 / 1479], examples_per_second: 10617.4312, train_label_loss: 0.1283, \n"
     ]
    },
    {
     "name": "stdout",
     "output_type": "stream",
     "text": [
      "epoch: 4, [batch: 592 / 1479], examples_per_second: 10529.8856, train_label_loss: 0.1119, \n"
     ]
    },
    {
     "name": "stdout",
     "output_type": "stream",
     "text": [
      "epoch: 4, [batch: 740 / 1479], examples_per_second: 10524.3876, train_label_loss: 0.2390, \n"
     ]
    },
    {
     "name": "stdout",
     "output_type": "stream",
     "text": [
      "epoch: 4, [batch: 887 / 1479], examples_per_second: 10560.9512, train_label_loss: 0.1793, \n"
     ]
    },
    {
     "name": "stdout",
     "output_type": "stream",
     "text": [
      "epoch: 4, [batch: 1035 / 1479], examples_per_second: 10599.6896, train_label_loss: 0.1863, \n"
     ]
    },
    {
     "name": "stdout",
     "output_type": "stream",
     "text": [
      "epoch: 4, [batch: 1183 / 1479], examples_per_second: 10607.5729, train_label_loss: 0.1580, \n"
     ]
    },
    {
     "name": "stdout",
     "output_type": "stream",
     "text": [
      "epoch: 4, [batch: 1331 / 1479], examples_per_second: 10583.4251, train_label_loss: 0.0960, \n"
     ]
    },
    {
     "name": "stdout",
     "output_type": "stream",
     "text": [
      "=============================================================\n",
      "epoch: 4, source_val_acc_label: 0.9086, source_val_label_loss: 0.3567, target_val_acc_label: 0.9086, target_val_label_loss: 0.3564, \n",
      "=============================================================\n"
     ]
    },
    {
     "name": "stdout",
     "output_type": "stream",
     "text": [
      "epoch: 5, [batch: 1 / 1479], examples_per_second: 54.1225, train_label_loss: 0.2560, \n"
     ]
    },
    {
     "name": "stdout",
     "output_type": "stream",
     "text": [
      "epoch: 5, [batch: 148 / 1479], examples_per_second: 10593.7924, train_label_loss: 0.0655, \n"
     ]
    },
    {
     "name": "stdout",
     "output_type": "stream",
     "text": [
      "epoch: 5, [batch: 296 / 1479], examples_per_second: 10620.0353, train_label_loss: 0.1694, \n"
     ]
    },
    {
     "name": "stdout",
     "output_type": "stream",
     "text": [
      "epoch: 5, [batch: 444 / 1479], examples_per_second: 10711.2553, train_label_loss: 0.0960, \n"
     ]
    },
    {
     "name": "stdout",
     "output_type": "stream",
     "text": [
      "epoch: 5, [batch: 592 / 1479], examples_per_second: 10626.0557, train_label_loss: 0.2106, \n"
     ]
    },
    {
     "name": "stdout",
     "output_type": "stream",
     "text": [
      "epoch: 5, [batch: 740 / 1479], examples_per_second: 10653.0518, train_label_loss: 0.1249, \n"
     ]
    },
    {
     "name": "stdout",
     "output_type": "stream",
     "text": [
      "epoch: 5, [batch: 887 / 1479], examples_per_second: 10659.4404, train_label_loss: 0.2344, \n"
     ]
    },
    {
     "name": "stdout",
     "output_type": "stream",
     "text": [
      "epoch: 5, [batch: 1035 / 1479], examples_per_second: 10644.8127, train_label_loss: 0.0679, \n"
     ]
    },
    {
     "name": "stdout",
     "output_type": "stream",
     "text": [
      "epoch: 5, [batch: 1183 / 1479], examples_per_second: 10648.3962, train_label_loss: 0.2294, \n"
     ]
    },
    {
     "name": "stdout",
     "output_type": "stream",
     "text": [
      "epoch: 5, [batch: 1331 / 1479], examples_per_second: 10684.6950, train_label_loss: 0.2257, \n"
     ]
    },
    {
     "name": "stdout",
     "output_type": "stream",
     "text": [
      "=============================================================\n",
      "epoch: 5, source_val_acc_label: 0.7597, source_val_label_loss: 1.3335, target_val_acc_label: 0.7597, target_val_label_loss: 1.3312, \n",
      "=============================================================\n"
     ]
    },
    {
     "name": "stdout",
     "output_type": "stream",
     "text": [
      "Patience (3) exhausted\n"
     ]
    }
   ],
   "source": [
    "jig = Vanilla_Train_Eval_Test_Jig(\n",
    "    model=model,\n",
    "    path_to_best_model=p.BEST_MODEL_PATH,\n",
    "    device=p.device,\n",
    "    label_loss_object=torch.nn.NLLLoss(),\n",
    ")\n",
    "\n",
    "jig.train(\n",
    "    train_iterable=datasets.source.processed.train,\n",
    "    source_val_iterable=datasets.source.processed.val,\n",
    "    target_val_iterable=datasets.target.processed.val,\n",
    "    patience=p.patience,\n",
    "    num_epochs=p.n_epoch,\n",
    "    num_logs_per_epoch=p.NUM_LOGS_PER_EPOCH,\n",
    "    criteria_for_best=p.criteria_for_best\n",
    ")"
   ]
  },
  {
   "cell_type": "code",
   "execution_count": 14,
   "id": "4bc2ac17",
   "metadata": {
    "execution": {
     "iopub.execute_input": "2022-03-26T11:06:37.577251Z",
     "iopub.status.busy": "2022-03-26T11:06:37.576851Z",
     "iopub.status.idle": "2022-03-26T11:06:37.579976Z",
     "shell.execute_reply": "2022-03-26T11:06:37.579648Z"
    },
    "papermill": {
     "duration": 0.038702,
     "end_time": "2022-03-26T11:06:37.580048",
     "exception": false,
     "start_time": "2022-03-26T11:06:37.541346",
     "status": "completed"
    },
    "tags": []
   },
   "outputs": [],
   "source": [
    "total_experiment_time_secs = time.time() - start_time_secs"
   ]
  },
  {
   "cell_type": "code",
   "execution_count": 15,
   "id": "cae88f23",
   "metadata": {
    "execution": {
     "iopub.execute_input": "2022-03-26T11:06:37.662693Z",
     "iopub.status.busy": "2022-03-26T11:06:37.661937Z",
     "iopub.status.idle": "2022-03-26T11:07:02.048278Z",
     "shell.execute_reply": "2022-03-26T11:07:02.047704Z"
    },
    "papermill": {
     "duration": 24.431609,
     "end_time": "2022-03-26T11:07:02.048414",
     "exception": false,
     "start_time": "2022-03-26T11:06:37.616805",
     "status": "completed"
    },
    "tags": []
   },
   "outputs": [],
   "source": [
    "source_test_label_accuracy, source_test_label_loss = jig.test(datasets.source.processed.test)\n",
    "target_test_label_accuracy, target_test_label_loss = jig.test(datasets.target.processed.test)\n",
    "\n",
    "source_val_label_accuracy, source_val_label_loss = jig.test(datasets.source.processed.val)\n",
    "target_val_label_accuracy, target_val_label_loss = jig.test(datasets.target.processed.val)\n",
    "\n",
    "history = jig.get_history()\n",
    "\n",
    "total_epochs_trained = len(history[\"epoch_indices\"])\n",
    "\n",
    "val_dl = wrap_in_dataloader(p, Sequence_Aggregator((datasets.source.original.val, datasets.target.original.val)))\n",
    "\n",
    "confusion = confusion_by_domain_over_dataloader(model, p.device, val_dl, forward_uses_domain=False)\n",
    "per_domain_accuracy = per_domain_accuracy_from_confusion(confusion)\n",
    "\n",
    "# Add a key to per_domain_accuracy for if it was a source domain\n",
    "for domain, accuracy in per_domain_accuracy.items():\n",
    "    per_domain_accuracy[domain] = {\n",
    "        \"accuracy\": accuracy,\n",
    "        \"source?\": domain in p.domains_source\n",
    "    }\n",
    "\n",
    "# Do an independent accuracy assesment JUST TO BE SURE!\n",
    "# _source_test_label_accuracy = independent_accuracy_assesment(model, datasets.source.processed.test, p.device)\n",
    "# _target_test_label_accuracy = independent_accuracy_assesment(model, datasets.target.processed.test, p.device)\n",
    "# _source_val_label_accuracy = independent_accuracy_assesment(model, datasets.source.processed.val, p.device)\n",
    "# _target_val_label_accuracy = independent_accuracy_assesment(model, datasets.target.processed.val, p.device)\n",
    "\n",
    "# assert(_source_test_label_accuracy == source_test_label_accuracy)\n",
    "# assert(_target_test_label_accuracy == target_test_label_accuracy)\n",
    "# assert(_source_val_label_accuracy == source_val_label_accuracy)\n",
    "# assert(_target_val_label_accuracy == target_val_label_accuracy)\n",
    "\n",
    "###################################\n",
    "# Write out the results\n",
    "###################################\n",
    "\n",
    "experiment = {\n",
    "    \"experiment_name\": p.experiment_name,\n",
    "    \"parameters\": p,\n",
    "    \"results\": {\n",
    "        \"source_test_label_accuracy\": source_test_label_accuracy,\n",
    "        \"source_test_label_loss\": source_test_label_loss,\n",
    "        \"target_test_label_accuracy\": target_test_label_accuracy,\n",
    "        \"target_test_label_loss\": target_test_label_loss,\n",
    "        \"source_val_label_accuracy\": source_val_label_accuracy,\n",
    "        \"source_val_label_loss\": source_val_label_loss,\n",
    "        \"target_val_label_accuracy\": target_val_label_accuracy,\n",
    "        \"target_val_label_loss\": target_val_label_loss,\n",
    "        \"total_epochs_trained\": total_epochs_trained,\n",
    "        \"total_experiment_time_secs\": total_experiment_time_secs,\n",
    "        \"confusion\": confusion,\n",
    "        \"per_domain_accuracy\": per_domain_accuracy,\n",
    "    },\n",
    "    \"history\": history,\n",
    "    \"dataset_metrics\": get_dataset_metrics(datasets, \"cnn\"),\n",
    "}"
   ]
  },
  {
   "cell_type": "code",
   "execution_count": 16,
   "id": "74c318cf",
   "metadata": {
    "execution": {
     "iopub.execute_input": "2022-03-26T11:07:02.147204Z",
     "iopub.status.busy": "2022-03-26T11:07:02.141405Z",
     "iopub.status.idle": "2022-03-26T11:07:02.326562Z",
     "shell.execute_reply": "2022-03-26T11:07:02.327322Z"
    },
    "papermill": {
     "duration": 0.242663,
     "end_time": "2022-03-26T11:07:02.327573",
     "exception": false,
     "start_time": "2022-03-26T11:07:02.084910",
     "status": "completed"
    },
    "tags": []
   },
   "outputs": [
    {
     "data": {
      "text/plain": [
       "<AxesSubplot:title={'center':'Source Train Label Loss vs Source Val Label Loss'}, xlabel='Epoch'>"
      ]
     },
     "execution_count": 16,
     "metadata": {},
     "output_type": "execute_result"
    },
    {
     "data": {
      "image/png": "[encoded data removed]",
      "text/plain": [
       "<Figure size 1080x504 with 1 Axes>"
      ]
     },
     "metadata": {
      "needs_background": "light"
     },
     "output_type": "display_data"
    }
   ],
   "source": [
    "get_loss_curve(experiment)"
   ]
  },
  {
   "cell_type": "code",
   "execution_count": 17,
   "id": "59376601",
   "metadata": {
    "execution": {
     "iopub.execute_input": "2022-03-26T11:07:02.416566Z",
     "iopub.status.busy": "2022-03-26T11:07:02.409742Z",
     "iopub.status.idle": "2022-03-26T11:07:02.745581Z",
     "shell.execute_reply": "2022-03-26T11:07:02.746272Z"
    },
    "papermill": {
     "duration": 0.382367,
     "end_time": "2022-03-26T11:07:02.746490",
     "exception": false,
     "start_time": "2022-03-26T11:07:02.364123",
     "status": "completed"
    },
    "tags": []
   },
   "outputs": [
    {
     "data": {
      "text/plain": [
       "<AxesSubplot:title={'center':'Results'}>"
      ]
     },
     "execution_count": 17,
     "metadata": {},
     "output_type": "execute_result"
    },
    {
     "data": {
      "image/png": "[encoded data removed]",
      "text/plain": [
       "<Figure size 1080x504 with 1 Axes>"
      ]
     },
     "metadata": {
      "needs_background": "light"
     },
     "output_type": "display_data"
    }
   ],
   "source": [
    "get_results_table(experiment)"
   ]
  },
  {
   "cell_type": "code",
   "execution_count": 18,
   "id": "e80c5c98",
   "metadata": {
    "execution": {
     "iopub.execute_input": "2022-03-26T11:07:02.843829Z",
     "iopub.status.busy": "2022-03-26T11:07:02.842980Z",
     "iopub.status.idle": "2022-03-26T11:07:02.987958Z",
     "shell.execute_reply": "2022-03-26T11:07:02.987224Z"
    },
    "papermill": {
     "duration": 0.205231,
     "end_time": "2022-03-26T11:07:02.988137",
     "exception": false,
     "start_time": "2022-03-26T11:07:02.782906",
     "status": "completed"
    },
    "tags": []
   },
   "outputs": [
    {
     "data": {
      "text/plain": [
       "<AxesSubplot:title={'center':'Per Domain Accuracy'}, xlabel='domain'>"
      ]
     },
     "execution_count": 18,
     "metadata": {},
     "output_type": "execute_result"
    },
    {
     "data": {
      "image/png": "[encoded data removed]",
      "text/plain": [
       "<Figure size 1080x504 with 1 Axes>"
      ]
     },
     "metadata": {
      "needs_background": "light"
     },
     "output_type": "display_data"
    }
   ],
   "source": [
    "get_domain_accuracies(experiment)"
   ]
  },
  {
   "cell_type": "code",
   "execution_count": 19,
   "id": "086fdd10",
   "metadata": {
    "execution": {
     "iopub.execute_input": "2022-03-26T11:07:03.066937Z",
     "iopub.status.busy": "2022-03-26T11:07:03.066134Z",
     "iopub.status.idle": "2022-03-26T11:07:03.071803Z",
     "shell.execute_reply": "2022-03-26T11:07:03.070967Z"
    },
    "papermill": {
     "duration": 0.044933,
     "end_time": "2022-03-26T11:07:03.071960",
     "exception": false,
     "start_time": "2022-03-26T11:07:03.027027",
     "status": "completed"
    },
    "tags": []
   },
   "outputs": [
    {
     "name": "stdout",
     "output_type": "stream",
     "text": [
      "Source Test Label Accuracy: 0.9174113121180395 Target Test Label Accuracy: 0.9174113121180395\n",
      "Source Val Label Accuracy: 0.9160471800971355 Target Val Label Accuracy: 0.9160471800971355\n"
     ]
    }
   ],
   "source": [
    "print(\"Source Test Label Accuracy:\", experiment[\"results\"][\"source_test_label_accuracy\"], \"Target Test Label Accuracy:\", experiment[\"results\"][\"target_test_label_accuracy\"])\n",
    "print(\"Source Val Label Accuracy:\", experiment[\"results\"][\"source_val_label_accuracy\"], \"Target Val Label Accuracy:\", experiment[\"results\"][\"target_val_label_accuracy\"])"
   ]
  },
  {
   "cell_type": "code",
   "execution_count": 20,
   "id": "9f450536",
   "metadata": {
    "execution": {
     "iopub.execute_input": "2022-03-26T11:07:03.151789Z",
     "iopub.status.busy": "2022-03-26T11:07:03.151400Z",
     "iopub.status.idle": "2022-03-26T11:07:03.155466Z",
     "shell.execute_reply": "2022-03-26T11:07:03.154973Z"
    },
    "papermill": {
     "duration": 0.044823,
     "end_time": "2022-03-26T11:07:03.155586",
     "exception": false,
     "start_time": "2022-03-26T11:07:03.110763",
     "status": "completed"
    },
    "tags": [
     "experiment_json"
    ]
   },
   "outputs": [
    {
     "data": {
      "text/plain": [
       "'{\"experiment_name\": \"cnn_2:wisig\", \"parameters\": {\"experiment_name\": \"cnn_2:wisig\", \"labels\": [\"1-10\", \"1-12\", \"1-14\", \"1-16\", \"1-18\", \"1-19\", \"1-8\", \"10-11\", \"10-17\", \"10-4\", \"10-7\", \"11-1\", \"11-10\", \"11-19\", \"11-20\", \"11-4\", \"11-7\", \"12-19\", \"12-20\", \"12-7\", \"13-14\", \"13-18\", \"13-19\", \"13-20\", \"13-3\", \"13-7\", \"14-10\", \"14-11\", \"14-12\", \"14-13\", \"14-14\", \"14-19\", \"14-20\", \"14-7\", \"14-8\", \"14-9\", \"15-1\", \"15-19\", \"15-6\", \"16-1\", \"16-16\", \"16-19\", \"16-20\", \"17-10\", \"17-11\", \"18-1\", \"18-10\", \"18-11\", \"18-12\", \"18-13\", \"18-14\", \"18-15\", \"18-16\", \"18-17\", \"18-19\", \"18-2\", \"18-20\", \"18-4\", \"18-5\", \"18-7\", \"18-8\", \"18-9\", \"19-1\", \"19-10\", \"19-11\", \"19-12\", \"19-13\", \"19-14\", \"19-15\", \"19-19\", \"19-2\", \"19-20\", \"19-3\", \"19-4\", \"19-6\", \"19-7\", \"19-8\", \"19-9\", \"2-1\", \"2-13\", \"2-15\", \"2-3\", \"2-4\", \"2-5\", \"2-6\", \"2-7\", \"2-8\", \"20-1\", \"20-12\", \"20-14\", \"20-15\", \"20-16\", \"20-18\", \"20-19\", \"20-20\", \"20-3\", \"20-4\", \"20-5\", \"20-7\", \"20-8\", \"3-1\", \"3-13\", \"3-18\", \"3-2\", \"3-8\", \"4-1\", \"4-10\", \"4-11\", \"5-1\", \"5-5\", \"6-1\", \"6-15\", \"6-6\", \"7-10\", \"7-11\", \"7-12\", \"7-13\", \"7-14\", \"7-7\", \"7-8\", \"7-9\", \"8-1\", \"8-13\", \"8-14\", \"8-18\", \"8-20\", \"8-3\", \"8-8\", \"9-1\", \"9-7\"], \"domains_source\": [1, 2, 3, 4], \"domains_target\": [1, 2, 3, 4], \"pickle_name_target\": \"wisig.node3-19.stratified_ds.2022A.pkl\", \"pickle_name_source\": \"wisig.node3-19.stratified_ds.2022A.pkl\", \"device\": \"cuda\", \"lr\": 0.0001, \"batch_size\": 128, \"normalize_source\": false, \"normalize_target\": false, \"num_examples_per_domain_per_label_source\": -1, \"num_examples_per_domain_per_label_target\": -1, \"torch_default_dtype\": \"torch.float32\", \"n_epoch\": 50, \"patience\": 3, \"criteria_for_best\": \"target_accuracy\", \"x_net\": [{\"class\": \"nnReshape\", \"kargs\": {\"shape\": [-1, 1, 2, 256]}}, {\"class\": \"Conv2d\", \"kargs\": {\"in_channels\": 1, \"out_channels\": 256, \"kernel_size\": [1, 7], \"bias\": false, \"padding\": [0, 3]}}, {\"class\": \"ReLU\", \"kargs\": {\"inplace\": true}}, {\"class\": \"BatchNorm2d\", \"kargs\": {\"num_features\": 256}}, {\"class\": \"Conv2d\", \"kargs\": {\"in_channels\": 256, \"out_channels\": 80, \"kernel_size\": [2, 7], \"bias\": true, \"padding\": [0, 3]}}, {\"class\": \"ReLU\", \"kargs\": {\"inplace\": true}}, {\"class\": \"BatchNorm2d\", \"kargs\": {\"num_features\": 80}}, {\"class\": \"Flatten\", \"kargs\": {}}, {\"class\": \"Linear\", \"kargs\": {\"in_features\": 20480, \"out_features\": 256}}, {\"class\": \"ReLU\", \"kargs\": {\"inplace\": true}}, {\"class\": \"BatchNorm1d\", \"kargs\": {\"num_features\": 256}}, {\"class\": \"Linear\", \"kargs\": {\"in_features\": 256, \"out_features\": 130}}], \"NUM_LOGS_PER_EPOCH\": 10, \"BEST_MODEL_PATH\": \"./best_model.pth\", \"dataset_seed\": 1337, \"seed\": 1337}, \"results\": {\"source_test_label_accuracy\": 0.9174113121180395, \"source_test_label_loss\": 0.46511142573252645, \"target_test_label_accuracy\": 0.9174113121180395, \"target_test_label_loss\": 0.4649679868763481, \"source_val_label_accuracy\": 0.9160471800971355, \"source_val_label_loss\": 0.4743386829578424, \"target_val_label_accuracy\": 0.9160471800971355, \"target_val_label_loss\": 0.47402897316821013, \"total_epochs_trained\": 5, \"total_experiment_time_secs\": 103.10347723960876, \"confusion\": {\"4\": {\"0\": {\"0\": 284, \"30\": 4, \"21\": 10}, \"110\": {\"110\": 320, \"21\": 4, \"0\": 2, \"43\": 2}, \"84\": {\"84\": 326, \"21\": 10}, \"118\": {\"118\": 258, \"122\": 8, \"88\": 2, \"43\": 2, \"113\": 2, \"71\": 2, \"10\": 2, \"109\": 4}, \"93\": {\"93\": 410, \"110\": 2, \"61\": 2, \"126\": 2, \"21\": 2}, \"126\": {\"126\": 300, \"21\": 18}, \"40\": {\"40\": 332, \"21\": 8, \"105\": 2, \"27\": 2}, \"3\": {\"3\": 310, \"21\": 24, \"60\": 2, \"71\": 4, \"36\": 2}, \"15\": {\"15\": 310, \"39\": 2, \"36\": 8, \"94\": 4, \"21\": 4}, \"7\": {\"7\": 306, \"57\": 2, \"21\": 8}, \"125\": {\"125\": 378, \"66\": 2}, \"43\": {\"43\": 244, \"21\": 4, \"109\": 14, \"70\": 4, \"87\": 16, \"39\": 10, \"57\": 2, \"110\": 2, \"8\": 2, \"93\": 2, \"10\": 4, \"101\": 2}, \"21\": {\"21\": 102, \"113\": 2, \"18\": 2}, \"114\": {\"114\": 312, \"21\": 6, \"39\": 2, \"126\": 2, \"3\": 2}, \"12\": {\"12\": 250, \"21\": 2, \"27\": 2, \"24\": 2}, \"105\": {\"105\": 232, \"21\": 18, \"125\": 2, \"71\": 2}, \"64\": {\"64\": 44, \"48\": 2}, \"36\": {\"36\": 310, \"21\": 12, \"27\": 6}, \"55\": {\"55\": 44}, \"44\": {\"44\": 160, \"63\": 2, \"128\": 2, \"61\": 2, \"90\": 2}, \"122\": {\"122\": 186, \"110\": 10, \"10\": 2, \"39\": 2, \"21\": 2, \"109\": 2, \"43\": 6, \"27\": 2}, \"60\": {\"60\": 60, \"110\": 14, \"23\": 2, \"87\": 4}, \"94\": {\"94\": 180, \"36\": 32, \"21\": 6, \"107\": 2}, \"16\": {\"16\": 298, \"110\": 2, \"21\": 10, \"113\": 2, \"92\": 2, \"61\": 2, \"62\": 2}, \"18\": {\"18\": 306, \"21\": 2}, \"88\": {\"88\": 294, \"70\": 10, \"21\": 10, \"24\": 16, \"126\": 2, \"10\": 2}, \"69\": {\"69\": 320, \"21\": 8}, \"5\": {\"5\": 324, \"21\": 8, \"63\": 2, \"83\": 4, \"88\": 2, \"3\": 2, \"39\": 2}, \"8\": {\"8\": 362, \"21\": 4, \"27\": 2}, \"106\": {\"106\": 282, \"15\": 4, \"21\": 10}, \"27\": {\"36\": 28, \"27\": 186, \"108\": 18, \"21\": 8, \"94\": 2, \"24\": 6, \"126\": 6}, \"24\": {\"24\": 274, \"88\": 14, \"39\": 2, \"21\": 4, \"27\": 6, \"36\": 2}, \"37\": {\"37\": 44, \"41\": 2, \"18\": 2}, \"14\": {\"14\": 272, \"21\": 6, \"113\": 2, \"61\": 2}, \"117\": {\"117\": 314, \"116\": 2}, \"58\": {\"58\": 44, \"21\": 2}, \"89\": {\"89\": 80, \"21\": 2}, \"61\": {\"61\": 40, \"21\": 6}, \"6\": {\"6\": 66}, \"101\": {\"101\": 306, \"21\": 8, \"0\": 16, \"63\": 2, \"88\": 2}, \"26\": {\"26\": 318, \"21\": 4}, \"95\": {\"95\": 76, \"127\": 4, \"21\": 2, \"56\": 4}, \"103\": {\"21\": 4, \"103\": 38, \"126\": 2, \"124\": 2, \"128\": 2}, \"22\": {\"22\": 44, \"94\": 2}, \"87\": {\"87\": 284, \"43\": 42, \"122\": 2, \"110\": 2, \"21\": 4, \"10\": 4}, \"11\": {\"11\": 386, \"8\": 2, \"110\": 2, \"21\": 2}, \"13\": {\"13\": 44}, \"107\": {\"107\": 348, \"88\": 2, \"21\": 4, \"40\": 2, \"63\": 2, \"61\": 2, \"81\": 2}, \"109\": {\"109\": 288, \"39\": 4, \"21\": 2, \"10\": 2}, \"10\": {\"10\": 188, \"70\": 18, \"24\": 60, \"88\": 32, \"21\": 10, \"27\": 2}, \"33\": {\"33\": 384, \"21\": 2, \"40\": 2, \"61\": 2}, \"20\": {\"20\": 46, \"21\": 2}, \"90\": {\"90\": 440, \"121\": 4, \"61\": 2, \"63\": 4}, \"127\": {\"127\": 266, \"10\": 2, \"21\": 2}, \"71\": {\"71\": 254, \"10\": 2, \"21\": 2, \"121\": 2}, \"62\": {\"62\": 134, \"36\": 2, \"21\": 14, \"39\": 4, \"27\": 2}, \"124\": {\"124\": 304}, \"102\": {\"102\": 332, \"128\": 2, \"21\": 6}, \"73\": {\"73\": 56, \"21\": 2, \"125\": 2}, \"77\": {\"77\": 34, \"6\": 2}, \"70\": {\"88\": 58, \"70\": 194, \"94\": 2, \"24\": 24, \"126\": 18, \"10\": 6, \"21\": 6, \"36\": 2}, \"98\": {\"98\": 296, \"44\": 6, \"54\": 2}, \"85\": {\"85\": 72, \"21\": 4}, \"39\": {\"39\": 244, \"21\": 4, \"126\": 2, \"109\": 6}, \"49\": {\"49\": 80}, \"51\": {\"51\": 26, \"113\": 2, \"39\": 2, \"24\": 2, \"21\": 6, \"18\": 2}, \"81\": {\"81\": 94, \"88\": 2}, \"32\": {\"32\": 66, \"92\": 2, \"120\": 4}, \"96\": {\"96\": 28, \"110\": 10, \"14\": 6, \"101\": 2, \"89\": 2, \"93\": 6, \"35\": 2, \"21\": 2}, \"113\": {\"113\": 300, \"126\": 18, \"21\": 6}, \"123\": {\"123\": 42, \"48\": 2}, \"29\": {\"29\": 78, \"88\": 2}, \"82\": {\"82\": 74, \"24\": 2, \"21\": 2, \"92\": 6, \"111\": 2}, \"86\": {\"86\": 72}, \"38\": {\"38\": 42}, \"76\": {\"76\": 44}, \"112\": {\"112\": 44, \"21\": 4}, \"1\": {\"1\": 250, \"6\": 2, \"10\": 4, \"117\": 2, \"21\": 8, \"66\": 2, \"36\": 2}, \"46\": {\"46\": 44, \"129\": 2, \"20\": 2, \"19\": 2}, \"4\": {\"4\": 254, \"21\": 4, \"41\": 2}, \"31\": {\"89\": 2, \"31\": 44, \"21\": 2}, \"108\": {\"27\": 10, \"25\": 4, \"88\": 136, \"10\": 2, \"70\": 2, \"21\": 6, \"126\": 48, \"108\": 20, \"39\": 2, \"24\": 4, \"18\": 2}, \"115\": {\"115\": 38, \"4\": 2}, \"50\": {\"82\": 2, \"50\": 44, \"70\": 2}, \"17\": {\"17\": 50, \"63\": 2}, \"120\": {\"120\": 48, \"38\": 2, \"61\": 2}, \"67\": {\"67\": 42, \"63\": 2, \"88\": 2}, \"42\": {\"42\": 72, \"61\": 2, \"124\": 2}, \"119\": {\"119\": 40, \"129\": 2, \"3\": 2}, \"78\": {\"21\": 58, \"10\": 30, \"70\": 2, \"27\": 2, \"78\": 4}, \"99\": {\"99\": 102}, \"30\": {\"30\": 180, \"21\": 8, \"15\": 2, \"93\": 2}, \"66\": {\"66\": 46}, \"111\": {\"111\": 342, \"21\": 12, \"81\": 2, \"28\": 2}, \"47\": {\"47\": 26, \"56\": 8, \"21\": 2, \"41\": 2}, \"34\": {\"34\": 82}, \"129\": {\"129\": 72, \"21\": 2}, \"2\": {\"2\": 76}, \"19\": {\"19\": 70, \"18\": 2, \"73\": 2}, \"80\": {\"80\": 34, \"63\": 4, \"89\": 2}, \"35\": {\"89\": 4, \"35\": 18, \"95\": 6, \"61\": 4, \"81\": 2}, \"9\": {\"9\": 70, \"83\": 2}, \"92\": {\"92\": 60, \"63\": 2, \"89\": 6, \"21\": 2, \"61\": 2}, \"68\": {\"68\": 44, \"125\": 2}, \"41\": {\"41\": 46, \"6\": 2}, \"54\": {\"25\": 4, \"54\": 40, \"101\": 2}, \"23\": {\"39\": 2, \"23\": 20, \"110\": 2, \"21\": 16}, \"104\": {\"104\": 46}, \"121\": {\"121\": 78, \"21\": 2, \"128\": 2}, \"48\": {\"29\": 2, \"48\": 44}, \"74\": {\"74\": 38, \"20\": 2, \"121\": 2, \"21\": 2}, \"128\": {\"128\": 66}, \"83\": {\"83\": 68, \"88\": 2, \"21\": 2, \"18\": 2}, \"63\": {\"63\": 46, \"18\": 2}, \"59\": {\"59\": 36, \"21\": 2}, \"72\": {\"72\": 76, \"95\": 2, \"21\": 2}, \"79\": {\"79\": 44}, \"57\": {\"57\": 42, \"10\": 2, \"21\": 2}, \"116\": {\"116\": 72, \"92\": 2}, \"91\": {\"91\": 62, \"29\": 2}, \"97\": {\"36\": 12, \"10\": 2, \"24\": 32, \"27\": 4, \"97\": 2, \"70\": 2, \"18\": 2}, \"56\": {\"56\": 32, \"95\": 2}, \"45\": {\"45\": 44}, \"75\": {\"75\": 40}, \"53\": {\"53\": 44, \"21\": 4}, \"28\": {\"28\": 52}, \"65\": {\"65\": 38}, \"25\": {\"25\": 48}, \"100\": {\"98\": 2, \"100\": 40, \"20\": 2, \"21\": 2, \"125\": 2, \"16\": 2}, \"52\": {\"52\": 46, \"51\": 2, \"49\": 2, \"1\": 2}}, \"2\": {\"103\": {\"103\": 42, \"86\": 2, \"58\": 2, \"32\": 2}, \"4\": {\"4\": 218, \"21\": 8, \"88\": 2}, \"108\": {\"108\": 282, \"36\": 62, \"88\": 2, \"94\": 2, \"27\": 4}, \"111\": {\"111\": 354, \"88\": 4, \"59\": 2}, \"114\": {\"114\": 290, \"21\": 2, \"52\": 2}, \"118\": {\"118\": 154, \"21\": 6, \"62\": 2, \"110\": 4, \"122\": 4, \"88\": 2}, \"117\": {\"117\": 296, \"21\": 4, \"121\": 2}, \"10\": {\"10\": 146, \"88\": 2, \"21\": 6, \"36\": 2}, \"83\": {\"83\": 98, \"88\": 2}, \"106\": {\"106\": 300, \"71\": 2, \"21\": 2}, \"18\": {\"18\": 310, \"21\": 10, \"33\": 2}, \"102\": {\"102\": 312, \"21\": 2}, \"24\": {\"24\": 232, \"21\": 16, \"88\": 26, \"113\": 2, \"27\": 2, \"3\": 2}, \"74\": {\"74\": 44, \"21\": 2, \"88\": 2}, \"110\": {\"110\": 100, \"10\": 2, \"61\": 2, \"24\": 2, \"21\": 2}, \"89\": {\"89\": 96, \"88\": 2}, \"71\": {\"71\": 244, \"21\": 10, \"88\": 4}, \"123\": {\"123\": 42, \"85\": 2, \"42\": 2}, \"69\": {\"69\": 334, \"21\": 10, \"88\": 10, \"26\": 2}, \"90\": {\"90\": 472, \"61\": 2, \"121\": 2}, \"27\": {\"88\": 8, \"21\": 18, \"36\": 148, \"22\": 2, \"113\": 2}, \"39\": {\"21\": 14, \"39\": 220, \"88\": 10, \"109\": 44}, \"126\": {\"27\": 6, \"126\": 264, \"88\": 8, \"24\": 22}, \"107\": {\"72\": 2, \"107\": 152, \"21\": 6, \"88\": 2, \"100\": 2, \"24\": 2, \"15\": 2}, \"26\": {\"26\": 340, \"21\": 14, \"88\": 4}, \"6\": {\"6\": 84}, \"125\": {\"125\": 412}, \"101\": {\"101\": 400}, \"52\": {\"52\": 48, \"21\": 2, \"42\": 2}, \"33\": {\"33\": 364, \"88\": 6}, \"70\": {\"10\": 82, \"70\": 140, \"109\": 50, \"39\": 14, \"21\": 14, \"61\": 2, \"88\": 10}, \"105\": {\"105\": 320, \"21\": 6, \"88\": 2, \"110\": 2}, \"64\": {\"64\": 42, \"38\": 4, \"88\": 2}, \"92\": {\"92\": 68, \"21\": 2, \"24\": 2}, \"86\": {\"86\": 84, \"22\": 2}, \"43\": {\"87\": 28, \"109\": 6, \"43\": 252, \"70\": 8, \"10\": 6, \"21\": 4, \"110\": 2, \"126\": 2, \"88\": 4}, \"87\": {\"126\": 26, \"87\": 176, \"43\": 26, \"70\": 10, \"39\": 24, \"109\": 6, \"88\": 6, \"21\": 12}, \"62\": {\"62\": 332, \"88\": 8, \"21\": 6, \"61\": 2, \"60\": 2}, \"40\": {\"40\": 338, \"88\": 4, \"21\": 12, \"113\": 2}, \"1\": {\"1\": 310, \"21\": 2, \"83\": 2}, \"11\": {\"11\": 174, \"94\": 10, \"113\": 2, \"108\": 10, \"21\": 4, \"93\": 2, \"30\": 4}, \"124\": {\"124\": 308, \"21\": 2, \"61\": 4}, \"97\": {\"110\": 2, \"97\": 40, \"15\": 10, \"8\": 2, \"12\": 2}, \"38\": {\"38\": 44}, \"113\": {\"113\": 182, \"126\": 4, \"18\": 2}, \"81\": {\"81\": 66}, \"122\": {\"110\": 30, \"30\": 10, \"122\": 290, \"10\": 6, \"15\": 4, \"21\": 6, \"61\": 2, \"8\": 4, \"88\": 2}, \"127\": {\"127\": 306, \"21\": 4, \"92\": 2}, \"44\": {\"44\": 258}, \"8\": {\"8\": 312, \"21\": 6, \"84\": 2, \"43\": 2}, \"0\": {\"0\": 270, \"101\": 12, \"30\": 4, \"61\": 4, \"21\": 6}, \"3\": {\"3\": 340, \"88\": 4, \"49\": 2}, \"28\": {\"28\": 48, \"41\": 2, \"88\": 2, \"104\": 2}, \"63\": {\"63\": 48, \"76\": 2, \"121\": 2}, \"93\": {\"93\": 402, \"61\": 2, \"96\": 4, \"110\": 4, \"21\": 4, \"88\": 2}, \"22\": {\"22\": 46, \"24\": 2, \"21\": 2}, \"21\": {\"21\": 122, \"88\": 2}, \"57\": {\"57\": 44, \"95\": 2, \"88\": 2, \"18\": 2}, \"53\": {\"53\": 40, \"18\": 2, \"21\": 2, \"88\": 2, \"24\": 2}, \"45\": {\"45\": 42, \"25\": 2, \"88\": 4}, \"98\": {\"98\": 300, \"21\": 4, \"121\": 2}, \"16\": {\"16\": 294, \"88\": 2, \"93\": 8, \"21\": 2, \"24\": 2, \"110\": 2}, \"96\": {\"96\": 54, \"93\": 2}, \"7\": {\"7\": 328, \"21\": 6, \"88\": 2}, \"67\": {\"67\": 46, \"76\": 2}, \"30\": {\"30\": 266, \"21\": 4, \"24\": 2, \"88\": 4, \"94\": 2, \"10\": 2, \"86\": 2}, \"14\": {\"14\": 106, \"21\": 12, \"88\": 4, \"39\": 2}, \"48\": {\"48\": 46, \"13\": 2, \"24\": 2}, \"9\": {\"9\": 88}, \"84\": {\"84\": 216, \"21\": 10, \"25\": 2, \"33\": 2, \"88\": 4, \"24\": 2}, \"36\": {\"36\": 312, \"21\": 8, \"71\": 2, \"88\": 2}, \"54\": {\"54\": 50, \"95\": 2, \"90\": 2}, \"46\": {\"46\": 42, \"5\": 4, \"21\": 2}, \"59\": {\"59\": 34, \"21\": 4, \"86\": 2}, \"35\": {\"35\": 36}, \"12\": {\"12\": 208, \"21\": 14}, \"73\": {\"73\": 70, \"21\": 2, \"24\": 2}, \"121\": {\"121\": 82, \"88\": 2, \"101\": 2, \"21\": 4}, \"88\": {\"88\": 256, \"109\": 22, \"126\": 12, \"70\": 10, \"21\": 8, \"39\": 2, \"10\": 2}, \"5\": {\"5\": 278, \"21\": 4, \"88\": 2}, \"77\": {\"77\": 46, \"21\": 2}, \"15\": {\"15\": 296, \"24\": 2, \"21\": 2, \"88\": 2}, \"56\": {\"56\": 32, \"52\": 2}, \"99\": {\"99\": 80, \"24\": 2}, \"34\": {\"34\": 80, \"88\": 2, \"121\": 2}, \"75\": {\"75\": 48}, \"104\": {\"104\": 54, \"21\": 2}, \"95\": {\"95\": 90, \"61\": 2}, \"2\": {\"2\": 78, \"24\": 2}, \"47\": {\"47\": 34, \"52\": 2, \"61\": 2}, \"109\": {\"21\": 20, \"109\": 206, \"70\": 2, \"10\": 8, \"39\": 12, \"24\": 2}, \"49\": {\"49\": 52, \"61\": 2, \"21\": 4, \"9\": 4}, \"112\": {\"98\": 2, \"112\": 46}, \"91\": {\"91\": 66, \"18\": 2, \"88\": 2}, \"94\": {\"21\": 20, \"94\": 124, \"24\": 2, \"36\": 6, \"88\": 8, \"39\": 2}, \"19\": {\"19\": 78}, \"76\": {\"76\": 46, \"21\": 2}, \"78\": {\"21\": 44, \"109\": 12, \"10\": 60, \"70\": 4, \"78\": 6}, \"128\": {\"128\": 62, \"33\": 2}, \"80\": {\"80\": 38, \"4\": 2}, \"17\": {\"17\": 40, \"21\": 4, \"104\": 2, \"88\": 2}, \"41\": {\"41\": 46, \"88\": 4}, \"60\": {\"88\": 2, \"60\": 66, \"110\": 4, \"12\": 2, \"84\": 2, \"21\": 2}, \"55\": {\"55\": 46, \"21\": 2}, \"129\": {\"129\": 78, \"121\": 2}, \"116\": {\"116\": 74}, \"25\": {\"25\": 40, \"18\": 2}, \"72\": {\"72\": 72, \"88\": 2, \"96\": 2, \"21\": 2}, \"23\": {\"23\": 94, \"110\": 14, \"113\": 4, \"88\": 4, \"8\": 2}, \"66\": {\"66\": 46, \"38\": 2, \"18\": 2}, \"79\": {\"79\": 40}, \"42\": {\"42\": 68, \"21\": 2, \"88\": 2}, \"82\": {\"82\": 88, \"18\": 2}, \"50\": {\"50\": 42, \"88\": 2}, \"85\": {\"85\": 80, \"18\": 2, \"42\": 4}, \"29\": {\"29\": 88}, \"115\": {\"115\": 34, \"88\": 2, \"25\": 2}, \"120\": {\"120\": 48, \"88\": 2}, \"51\": {\"51\": 42, \"84\": 2, \"113\": 2, \"21\": 2, \"9\": 2}, \"100\": {\"100\": 46, \"24\": 2}, \"65\": {\"65\": 52, \"21\": 2}, \"61\": {\"61\": 42, \"88\": 4, \"76\": 2, \"117\": 2}, \"119\": {\"119\": 54}, \"32\": {\"32\": 84, \"74\": 6, \"101\": 2}, \"31\": {\"31\": 42, \"117\": 2, \"88\": 2, \"92\": 4, \"89\": 2}, \"37\": {\"37\": 44, \"86\": 2, \"125\": 2}, \"13\": {\"13\": 38, \"21\": 2, \"70\": 2, \"18\": 2, \"24\": 2}, \"68\": {\"68\": 38, \"21\": 4, \"10\": 2, \"94\": 2}, \"20\": {\"20\": 46, \"88\": 2}, \"58\": {\"58\": 52, \"88\": 2}}, \"3\": {\"46\": {\"46\": 42, \"39\": 2, \"73\": 2}, \"108\": {\"108\": 310, \"36\": 12, \"27\": 24, \"21\": 6, \"126\": 2, \"96\": 2, \"8\": 2}, \"94\": {\"94\": 208, \"21\": 2, \"36\": 2}, \"8\": {\"8\": 344}, \"117\": {\"117\": 286}, \"72\": {\"101\": 2, \"39\": 2, \"72\": 70, \"98\": 2}, \"107\": {\"107\": 362, \"61\": 4}, \"87\": {\"87\": 292, \"43\": 12, \"21\": 2}, \"41\": {\"41\": 44}, \"11\": {\"108\": 26, \"11\": 340, \"109\": 4, \"70\": 2, \"8\": 6, \"27\": 2, \"88\": 2}, \"14\": {\"14\": 202, \"21\": 4}, \"104\": {\"104\": 44}, \"126\": {\"126\": 286, \"39\": 30, \"109\": 2}, \"66\": {\"41\": 2, \"66\": 44, \"76\": 2}, \"114\": {\"114\": 322, \"125\": 2, \"33\": 2, \"21\": 2}, \"40\": {\"40\": 320, \"21\": 4}, \"88\": {\"88\": 262, \"24\": 16, \"21\": 2, \"121\": 2}, \"3\": {\"3\": 278, \"21\": 12, \"98\": 2, \"71\": 4, \"10\": 2}, \"27\": {\"36\": 158, \"27\": 80, \"88\": 2, \"21\": 4}, \"60\": {\"60\": 56, \"87\": 2, \"12\": 4, \"110\": 8, \"84\": 4}, \"89\": {\"89\": 76, \"9\": 2}, \"93\": {\"93\": 406, \"96\": 4, \"19\": 2, \"21\": 2}, \"125\": {\"125\": 320}, \"19\": {\"19\": 78, \"89\": 2}, \"69\": {\"69\": 208, \"125\": 2, \"27\": 2, \"113\": 2, \"21\": 4}, \"16\": {\"16\": 286, \"93\": 6, \"27\": 2, \"10\": 2, \"110\": 2}, \"98\": {\"98\": 324, \"44\": 2, \"121\": 2}, \"113\": {\"113\": 290, \"21\": 2, \"126\": 6, \"18\": 2}, \"43\": {\"43\": 92, \"109\": 6, \"39\": 34, \"21\": 4, \"126\": 2, \"87\": 2}, \"33\": {\"33\": 390, \"61\": 2}, \"18\": {\"18\": 326, \"21\": 2, \"27\": 2}, \"55\": {\"55\": 48}, \"10\": {\"10\": 322, \"21\": 2}, \"102\": {\"102\": 314, \"117\": 2, \"128\": 2}, \"26\": {\"26\": 330, \"21\": 4}, \"1\": {\"1\": 274, \"21\": 2}, \"124\": {\"124\": 312}, \"44\": {\"44\": 180, \"33\": 2}, \"85\": {\"85\": 90, \"101\": 2}, \"21\": {\"21\": 122, \"95\": 2, \"10\": 2, \"24\": 2}, \"110\": {\"110\": 222, \"125\": 2, \"21\": 6, \"27\": 2, \"8\": 2, \"93\": 2}, \"106\": {\"106\": 254, \"15\": 2, \"12\": 2}, \"71\": {\"71\": 162, \"92\": 2, \"21\": 8}, \"82\": {\"82\": 70, \"61\": 2, \"89\": 2}, \"15\": {\"15\": 256, \"36\": 4, \"113\": 2}, \"90\": {\"90\": 466, \"121\": 2}, \"81\": {\"81\": 84, \"18\": 2}, \"28\": {\"28\": 48}, \"0\": {\"0\": 282, \"21\": 6, \"30\": 2}, \"67\": {\"67\": 42, \"88\": 2}, \"62\": {\"62\": 312, \"36\": 2, \"27\": 2, \"18\": 2}, \"101\": {\"101\": 124, \"21\": 12}, \"77\": {\"77\": 48}, \"99\": {\"99\": 94, \"36\": 2, \"101\": 2}, \"105\": {\"105\": 312, \"21\": 2}, \"122\": {\"122\": 136, \"21\": 2, \"110\": 14, \"95\": 2}, \"127\": {\"127\": 318, \"21\": 2, \"113\": 2}, \"120\": {\"120\": 52}, \"70\": {\"70\": 110, \"88\": 44, \"10\": 10, \"21\": 12, \"109\": 4, \"24\": 2, \"126\": 6}, \"12\": {\"12\": 254, \"21\": 8}, \"84\": {\"84\": 266, \"39\": 2, \"24\": 2}, \"34\": {\"34\": 78, \"14\": 2}, \"91\": {\"91\": 66}, \"92\": {\"92\": 76, \"125\": 2, \"21\": 2, \"90\": 4}, \"4\": {\"4\": 236, \"86\": 2, \"21\": 6, \"126\": 2}, \"9\": {\"9\": 78, \"76\": 2}, \"5\": {\"5\": 278, \"21\": 4, \"27\": 2}, \"30\": {\"30\": 210, \"94\": 2, \"36\": 2, \"15\": 2}, \"119\": {\"119\": 44, \"99\": 2, \"2\": 2}, \"112\": {\"112\": 44, \"42\": 2, \"1\": 2}, \"24\": {\"36\": 56, \"24\": 58, \"27\": 12}, \"129\": {\"129\": 84}, \"76\": {\"76\": 44}, \"83\": {\"83\": 66, \"25\": 2}, \"109\": {\"109\": 314, \"10\": 4, \"61\": 2, \"125\": 2}, \"123\": {\"123\": 42}, \"36\": {\"36\": 326, \"21\": 2}, \"50\": {\"50\": 44, \"113\": 2, \"117\": 2}, \"7\": {\"7\": 278, \"21\": 8}, \"64\": {\"64\": 48, \"18\": 2}, \"6\": {\"6\": 84, \"116\": 2}, \"111\": {\"111\": 332, \"113\": 2}, \"58\": {\"58\": 38, \"6\": 6, \"94\": 2}, \"39\": {\"39\": 238, \"126\": 10, \"21\": 8, \"109\": 16}, \"29\": {\"29\": 82, \"125\": 2}, \"54\": {\"54\": 44, \"25\": 2, \"21\": 2}, \"79\": {\"79\": 38}, \"116\": {\"116\": 76}, \"121\": {\"21\": 6, \"121\": 74}, \"32\": {\"32\": 78, \"101\": 2, \"120\": 2}, \"75\": {\"75\": 42, \"51\": 2}, \"73\": {\"73\": 96, \"89\": 2, \"25\": 2, \"21\": 2, \"112\": 2}, \"115\": {\"115\": 42}, \"23\": {\"110\": 12, \"23\": 72, \"8\": 2}, \"118\": {\"118\": 236, \"109\": 10, \"39\": 8}, \"86\": {\"86\": 76, \"22\": 2}, \"78\": {\"21\": 24, \"78\": 10, \"109\": 4, \"10\": 4, \"39\": 2, \"94\": 2, \"18\": 2}, \"42\": {\"42\": 74}, \"68\": {\"68\": 36, \"21\": 2, \"39\": 2}, \"97\": {\"97\": 34, \"15\": 8, \"36\": 14}, \"53\": {\"53\": 46, \"83\": 4}, \"49\": {\"49\": 64}, \"38\": {\"76\": 6, \"38\": 38}, \"128\": {\"128\": 76, \"24\": 2, \"61\": 2}, \"22\": {\"22\": 48}, \"103\": {\"103\": 46, \"86\": 2}, \"65\": {\"65\": 34, \"22\": 2}, \"45\": {\"45\": 42, \"21\": 2}, \"17\": {\"63\": 10, \"17\": 18, \"27\": 2, \"21\": 8, \"126\": 2, \"57\": 2}, \"63\": {\"63\": 42}, \"25\": {\"25\": 44}, \"52\": {\"52\": 36, \"89\": 6, \"21\": 2, \"42\": 2, \"125\": 2}, \"95\": {\"95\": 74, \"61\": 2, \"92\": 2, \"7\": 2}, \"35\": {\"35\": 34}, \"96\": {\"96\": 30, \"113\": 4, \"126\": 18, \"20\": 2}, \"80\": {\"80\": 40}, \"2\": {\"2\": 74}, \"20\": {\"20\": 44, \"49\": 2}, \"51\": {\"15\": 2, \"51\": 46}, \"13\": {\"13\": 28, \"92\": 4, \"88\": 2, \"39\": 2, \"21\": 4}, \"57\": {\"57\": 48, \"66\": 2, \"104\": 2}, \"100\": {\"100\": 44, \"21\": 2, \"66\": 2}, \"56\": {\"56\": 30, \"95\": 2, \"61\": 2}, \"47\": {\"47\": 30, \"72\": 2}, \"61\": {\"61\": 46, \"113\": 2}, \"74\": {\"39\": 2, \"74\": 40, \"18\": 2}, \"48\": {\"48\": 44}, \"31\": {\"31\": 42, \"44\": 6, \"23\": 2}, \"37\": {\"37\": 46, \"18\": 2}, \"59\": {\"59\": 34}}, \"1\": {\"15\": {\"15\": 262, \"21\": 4}, \"94\": {\"94\": 224, \"36\": 12}, \"102\": {\"102\": 306, \"21\": 2}, \"2\": {\"2\": 72, \"123\": 6, \"21\": 2, \"81\": 2}, \"44\": {\"44\": 190}, \"40\": {\"40\": 356, \"21\": 4}, \"33\": {\"33\": 390, \"18\": 2, \"34\": 2}, \"16\": {\"16\": 270, \"21\": 6}, \"11\": {\"11\": 334, \"70\": 4, \"109\": 2, \"39\": 2, \"21\": 2, \"108\": 2}, \"114\": {\"114\": 354, \"21\": 4, \"88\": 2}, \"71\": {\"71\": 260, \"21\": 6, \"70\": 2, \"127\": 2, \"88\": 2}, \"87\": {\"87\": 230, \"43\": 18, \"110\": 4, \"21\": 12, \"122\": 4, \"93\": 2, \"39\": 2}, \"98\": {\"98\": 272}, \"36\": {\"36\": 336, \"21\": 6}, \"84\": {\"84\": 332, \"125\": 2, \"21\": 4, \"110\": 2}, \"113\": {\"113\": 308, \"126\": 2}, \"118\": {\"118\": 206, \"109\": 4}, \"30\": {\"30\": 128, \"10\": 6, \"21\": 2}, \"24\": {\"27\": 40, \"36\": 172, \"24\": 14, \"21\": 4, \"108\": 2}, \"73\": {\"73\": 54, \"10\": 2, \"101\": 2}, \"4\": {\"4\": 252, \"21\": 2}, \"43\": {\"10\": 44, \"93\": 6, \"43\": 260, \"30\": 2, \"87\": 6, \"21\": 2, \"121\": 2, \"0\": 2}, \"90\": {\"90\": 464}, \"117\": {\"117\": 356, \"21\": 2, \"120\": 2}, \"126\": {\"126\": 318, \"27\": 10, \"36\": 8, \"21\": 2, \"24\": 2}, \"1\": {\"1\": 334, \"21\": 8}, \"69\": {\"69\": 274, \"21\": 2}, \"83\": {\"83\": 68, \"10\": 2, \"125\": 2, \"56\": 2, \"21\": 2, \"24\": 2}, \"39\": {\"39\": 238, \"109\": 10, \"126\": 6, \"21\": 4, \"101\": 2, \"10\": 4}, \"101\": {\"101\": 312, \"21\": 2, \"81\": 2}, \"109\": {\"88\": 118, \"126\": 64, \"70\": 78, \"109\": 42, \"39\": 12, \"10\": 2}, \"25\": {\"25\": 32, \"21\": 2, \"79\": 2, \"99\": 4, \"125\": 2}, \"76\": {\"76\": 48}, \"45\": {\"45\": 26, \"29\": 4}, \"7\": {\"7\": 366}, \"107\": {\"107\": 308, \"39\": 2}, \"128\": {\"128\": 66, \"18\": 2}, \"3\": {\"21\": 6, \"3\": 214, \"24\": 2}, \"108\": {\"108\": 194, \"24\": 44, \"27\": 50, \"88\": 14, \"70\": 6, \"36\": 2, \"21\": 2}, \"5\": {\"5\": 218, \"94\": 2, \"22\": 2, \"24\": 2, \"88\": 2, \"36\": 2}, \"110\": {\"110\": 326, \"21\": 2}, \"0\": {\"0\": 196, \"101\": 8, \"21\": 4, \"70\": 2, \"88\": 2}, \"88\": {\"27\": 56, \"36\": 118, \"24\": 170, \"108\": 2, \"70\": 2, \"88\": 2}, \"124\": {\"124\": 326}, \"9\": {\"9\": 80}, \"10\": {\"10\": 292, \"24\": 2, \"6\": 2, \"21\": 8}, \"115\": {\"115\": 36}, \"12\": {\"12\": 258, \"88\": 4, \"21\": 2}, \"18\": {\"18\": 310, \"21\": 4}, \"20\": {\"20\": 46, \"25\": 2}, \"62\": {\"62\": 300, \"22\": 2}, \"14\": {\"14\": 242, \"21\": 2}, \"111\": {\"111\": 296, \"10\": 2, \"88\": 2, \"21\": 4}, \"103\": {\"103\": 40, \"52\": 2, \"9\": 2}, \"77\": {\"88\": 2, \"77\": 36, \"41\": 2}, \"26\": {\"26\": 336, \"21\": 6, \"69\": 2}, \"93\": {\"93\": 312, \"122\": 20, \"30\": 38, \"10\": 20, \"87\": 4, \"43\": 6, \"0\": 2}, \"106\": {\"106\": 338, \"21\": 8, \"101\": 2}, \"82\": {\"82\": 96}, \"119\": {\"119\": 48}, \"129\": {\"129\": 76, \"89\": 2}, \"57\": {\"57\": 34, \"125\": 2, \"48\": 2}, \"56\": {\"56\": 36}, \"96\": {\"96\": 44, \"126\": 2, \"36\": 4, \"125\": 2, \"27\": 2, \"21\": 2}, \"72\": {\"72\": 80}, \"32\": {\"32\": 76, \"75\": 2, \"61\": 2, \"18\": 2}, \"78\": {\"21\": 4, \"10\": 36, \"109\": 6, \"70\": 2}, \"125\": {\"125\": 438}, \"22\": {\"22\": 38, \"26\": 2, \"24\": 2, \"66\": 2, \"10\": 2, \"33\": 2}, \"6\": {\"6\": 76, \"21\": 4}, \"104\": {\"2\": 2, \"104\": 40, \"21\": 2, \"124\": 2}, \"95\": {\"95\": 80, \"61\": 4, \"81\": 2, \"92\": 6, \"89\": 2}, \"37\": {\"37\": 44}, \"55\": {\"55\": 34}, \"70\": {\"88\": 72, \"10\": 56, \"70\": 190, \"21\": 4}, \"49\": {\"49\": 38, \"125\": 2, \"9\": 4, \"98\": 4, \"26\": 2}, \"122\": {\"122\": 208, \"110\": 10, \"10\": 2, \"21\": 2, \"93\": 2}, \"127\": {\"127\": 270, \"21\": 2}, \"105\": {\"105\": 214, \"10\": 2}, \"27\": {\"27\": 134, \"36\": 98, \"21\": 6}, \"75\": {\"75\": 40, \"54\": 2, \"114\": 2}, \"21\": {\"21\": 66, \"10\": 34, \"26\": 2}, \"8\": {\"8\": 366}, \"97\": {\"97\": 8, \"36\": 42, \"27\": 4}, \"42\": {\"42\": 70, \"21\": 2}, \"34\": {\"34\": 80}, \"80\": {\"80\": 40, \"4\": 4}, \"120\": {\"120\": 48, \"88\": 2}, \"60\": {\"60\": 36, \"21\": 2, \"23\": 2, \"113\": 2, \"110\": 4}, \"28\": {\"28\": 48, \"33\": 2}, \"52\": {\"52\": 54}, \"66\": {\"66\": 48}, \"64\": {\"64\": 42, \"90\": 2, \"66\": 2}, \"63\": {\"63\": 42, \"70\": 2}, \"19\": {\"19\": 74, \"47\": 2}, \"58\": {\"58\": 28, \"54\": 4, \"59\": 6}, \"86\": {\"86\": 94, \"24\": 2}, \"54\": {\"54\": 40, \"56\": 2, \"28\": 4}, \"81\": {\"81\": 76}, \"50\": {\"50\": 42}, \"116\": {\"116\": 84, \"76\": 2, \"18\": 2}, \"38\": {\"38\": 38, \"89\": 2}, \"41\": {\"41\": 46, \"48\": 2}, \"48\": {\"48\": 36}, \"51\": {\"51\": 44}, \"46\": {\"46\": 28, \"41\": 2, \"6\": 2, \"83\": 2, \"112\": 2}, \"61\": {\"61\": 34, \"37\": 2, \"125\": 2}, \"100\": {\"100\": 42, \"83\": 2, \"21\": 2}, \"85\": {\"85\": 84}, \"92\": {\"92\": 74, \"95\": 4}, \"31\": {\"31\": 44, \"83\": 2}, \"123\": {\"123\": 46}, \"35\": {\"35\": 32, \"101\": 2}, \"53\": {\"53\": 46, \"59\": 4}, \"121\": {\"121\": 82}, \"65\": {\"57\": 12, \"21\": 2, \"67\": 2, \"65\": 22}, \"23\": {\"110\": 8, \"23\": 34, \"30\": 12, \"15\": 2, \"21\": 2, \"3\": 2}, \"68\": {\"68\": 44, \"18\": 2}, \"47\": {\"47\": 32, \"9\": 2}, \"59\": {\"59\": 32, \"81\": 2, \"121\": 4}, \"74\": {\"74\": 42, \"22\": 2}, \"89\": {\"89\": 88, \"1\": 4}, \"99\": {\"99\": 64}, \"112\": {\"112\": 36, \"88\": 2, \"77\": 4, \"83\": 2, \"6\": 2}, \"79\": {\"79\": 36}, \"67\": {\"67\": 44}, \"91\": {\"91\": 76, \"61\": 2}, \"13\": {\"13\": 46}, \"29\": {\"29\": 74}, \"17\": {\"17\": 44}}}, \"per_domain_accuracy\": {\"4\": {\"accuracy\": 0.9151262943965934, \"source?\": true}, \"2\": {\"accuracy\": 0.9104285996444795, \"source?\": true}, \"3\": {\"accuracy\": 0.9415132924335379, \"source?\": true}, \"1\": {\"accuracy\": 0.8979934763269743, \"source?\": true}}}, \"history\": {\"epoch_indices\": [1, 2, 3, 4, 5], \"train_label_loss\": [1.3498525391203717, 0.32371240068904605, 0.22490170090242043, 0.18446708046040922, 0.1603293118707488], \"source_val_label_loss\": [0.4741895199765133, 0.7273952336628225, 0.5060151100064381, 0.3567198942403627, 1.333539198471021], \"target_val_label_loss\": [0.47464677776339687, 0.7278226780929143, 0.508006145446738, 0.35642690737319144, 1.3311824587327015], \"source_val_acc_label\": [0.9160471800971355, 0.8438893844781445, 0.8847259391416394, 0.9086133412627614, 0.7597135494102488], \"target_val_acc_label\": [0.9160471800971355, 0.8438893844781445, 0.8847259391416394, 0.9086133412627614, 0.7597135494102488]}, \"dataset_metrics\": {\"source\": {\"train\": {\"n_unique_x\": 189189, \"n_unique_y\": 130, \"n_batch/episode\": 1479}, \"val\": {\"n_unique_x\": 40356, \"n_unique_y\": 130, \"n_batch/episode\": 316}, \"test\": {\"n_unique_x\": 41071, \"n_unique_y\": 130, \"n_batch/episode\": 321}}, \"target\": {\"train\": {\"n_unique_x\": 189189, \"n_unique_y\": 130, \"n_batch/episode\": 1479}, \"val\": {\"n_unique_x\": 40356, \"n_unique_y\": 130, \"n_batch/episode\": 316}, \"test\": {\"n_unique_x\": 41071, \"n_unique_y\": 130, \"n_batch/episode\": 321}}}}'"
      ]
     },
     "execution_count": 20,
     "metadata": {},
     "output_type": "execute_result"
    }
   ],
   "source": [
    "json.dumps(experiment)"
   ]
  }
 ],
 "metadata": {
  "celltoolbar": "Tags",
  "kernelspec": {
   "display_name": "Python 3 (ipykernel)",
   "language": "python",
   "name": "python3"
  },
  "language_info": {
   "codemirror_mode": {
    "name": "ipython",
    "version": 3
   },
   "file_extension": ".py",
   "mimetype": "text/x-python",
   "name": "python",
   "nbconvert_exporter": "python",
   "pygments_lexer": "ipython3",
   "version": "3.8.12"
  },
  "papermill": {
   "default_parameters": {},
   "duration": 135.113679,
   "end_time": "2022-03-26T11:07:07.133487",
   "environment_variables": {},
   "exception": null,
   "input_path": "/root/csc500-main/csc500-notebooks/templates/cnn_template.ipynb",
   "output_path": "trial.ipynb",
   "parameters": {
    "parameters": {
     "BEST_MODEL_PATH": "./best_model.pth",
     "NUM_LOGS_PER_EPOCH": 10,
     "batch_size": 128,
     "criteria_for_best": "target_accuracy",
     "dataset_seed": 1337,
     "device": "cuda",
     "domains_source": [
      1,
      2,
      3,
      4
     ],
     "domains_target": [
      1,
      2,
      3,
      4
     ],
     "experiment_name": "cnn_2:wisig",
     "labels": [
      "1-10",
      "1-12",
      "1-14",
      "1-16",
      "1-18",
      "1-19",
      "1-8",
      "10-11",
      "10-17",
      "10-4",
      "10-7",
      "11-1",
      "11-10",
      "11-19",
      "11-20",
      "11-4",
      "11-7",
      "12-19",
      "12-20",
      "12-7",
      "13-14",
      "13-18",
      "13-19",
      "13-20",
      "13-3",
      "13-7",
      "14-10",
      "14-11",
      "14-12",
      "14-13",
      "14-14",
      "14-19",
      "14-20",
      "14-7",
      "14-8",
      "14-9",
      "15-1",
      "15-19",
      "15-6",
      "16-1",
      "16-16",
      "16-19",
      "16-20",
      "17-10",
      "17-11",
      "18-1",
      "18-10",
      "18-11",
      "18-12",
      "18-13",
      "18-14",
      "18-15",
      "18-16",
      "18-17",
      "18-19",
      "18-2",
      "18-20",
      "18-4",
      "18-5",
      "18-7",
      "18-8",
      "18-9",
      "19-1",
      "19-10",
      "19-11",
      "19-12",
      "19-13",
      "19-14",
      "19-15",
      "19-19",
      "19-2",
      "19-20",
      "19-3",
      "19-4",
      "19-6",
      "19-7",
      "19-8",
      "19-9",
      "2-1",
      "2-13",
      "2-15",
      "2-3",
      "2-4",
      "2-5",
      "2-6",
      "2-7",
      "2-8",
      "20-1",
      "20-12",
      "20-14",
      "20-15",
      "20-16",
      "20-18",
      "20-19",
      "20-20",
      "20-3",
      "20-4",
      "20-5",
      "20-7",
      "20-8",
      "3-1",
      "3-13",
      "3-18",
      "3-2",
      "3-8",
      "4-1",
      "4-10",
      "4-11",
      "5-1",
      "5-5",
      "6-1",
      "6-15",
      "6-6",
      "7-10",
      "7-11",
      "7-12",
      "7-13",
      "7-14",
      "7-7",
      "7-8",
      "7-9",
      "8-1",
      "8-13",
      "8-14",
      "8-18",
      "8-20",
      "8-3",
      "8-8",
      "9-1",
      "9-7"
     ],
     "lr": 0.0001,
     "n_epoch": 50,
     "normalize_source": false,
     "normalize_target": false,
     "num_examples_per_domain_per_label_source": -1,
     "num_examples_per_domain_per_label_target": -1,
     "patience": 3,
     "pickle_name_source": "wisig.node3-19.stratified_ds.2022A.pkl",
     "pickle_name_target": "wisig.node3-19.stratified_ds.2022A.pkl",
     "seed": 1337,
     "torch_default_dtype": "torch.float32",
     "x_net": [
      {
       "class": "nnReshape",
       "kargs": {
        "shape": [
         -1,
         1,
         2,
         256
        ]
       }
      },
      {
       "class": "Conv2d",
       "kargs": {
        "bias": false,
        "in_channels": 1,
        "kernel_size": [
         1,
         7
        ],
        "out_channels": 256,
        "padding": [
         0,
         3
        ]
       }
      },
      {
       "class": "ReLU",
       "kargs": {
        "inplace": true
       }
      },
      {
       "class": "BatchNorm2d",
       "kargs": {
        "num_features": 256
       }
      },
      {
       "class": "Conv2d",
       "kargs": {
        "bias": true,
        "in_channels": 256,
        "kernel_size": [
         2,
         7
        ],
        "out_channels": 80,
        "padding": [
         0,
         3
        ]
       }
      },
      {
       "class": "ReLU",
       "kargs": {
        "inplace": true
       }
      },
      {
       "class": "BatchNorm2d",
       "kargs": {
        "num_features": 80
       }
      },
      {
       "class": "Flatten",
       "kargs": {}
      },
      {
       "class": "Linear",
       "kargs": {
        "in_features": 20480,
        "out_features": 256
       }
      },
      {
       "class": "ReLU",
       "kargs": {
        "inplace": true
       }
      },
      {
       "class": "BatchNorm1d",
       "kargs": {
        "num_features": 256
       }
      },
      {
       "class": "Linear",
       "kargs": {
        "in_features": 256,
        "out_features": 130
       }
      }
     ]
    }
   },
   "start_time": "2022-03-26T11:04:52.019808",
   "version": "2.3.4"
  }
 },
 "nbformat": 4,
 "nbformat_minor": 5
}